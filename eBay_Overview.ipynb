{
 "cells": [
  {
   "cell_type": "code",
   "execution_count": 1,
   "id": "reverse-picking",
   "metadata": {
    "execution": {
     "iopub.execute_input": "2021-11-18T18:30:07.473604Z",
     "iopub.status.busy": "2021-11-18T18:30:07.471150Z",
     "iopub.status.idle": "2021-11-18T18:30:08.413516Z",
     "shell.execute_reply": "2021-11-18T18:30:08.415129Z"
    },
    "papermill": {
     "duration": 0.992762,
     "end_time": "2021-11-18T18:30:08.415867",
     "exception": false,
     "start_time": "2021-11-18T18:30:07.423105",
     "status": "completed"
    },
    "tags": []
   },
   "outputs": [],
   "source": [
    "import pandas as pd\n",
    "import sqlite3"
   ]
  },
  {
   "cell_type": "code",
   "execution_count": 2,
   "id": "innovative-syndrome",
   "metadata": {
    "execution": {
     "iopub.execute_input": "2021-11-18T18:30:08.477416Z",
     "iopub.status.busy": "2021-11-18T18:30:08.474943Z",
     "iopub.status.idle": "2021-11-18T18:30:09.315811Z",
     "shell.execute_reply": "2021-11-18T18:30:09.317555Z"
    },
    "papermill": {
     "duration": 0.880999,
     "end_time": "2021-11-18T18:30:09.318040",
     "exception": false,
     "start_time": "2021-11-18T18:30:08.437041",
     "status": "completed"
    },
    "tags": []
   },
   "outputs": [],
   "source": [
    "timestamps = pd.read_sql(\"select distinct record_time from EBAY_TOP_BERLIN order by record_time desc limit 2\", sqlite3.connect(\"UsedObjects.db\"))"
   ]
  },
  {
   "cell_type": "code",
   "execution_count": 3,
   "id": "periodic-identification",
   "metadata": {
    "execution": {
     "iopub.execute_input": "2021-11-18T18:30:09.405189Z",
     "iopub.status.busy": "2021-11-18T18:30:09.402699Z",
     "iopub.status.idle": "2021-11-18T18:30:09.427264Z",
     "shell.execute_reply": "2021-11-18T18:30:09.425647Z"
    },
    "papermill": {
     "duration": 0.088896,
     "end_time": "2021-11-18T18:30:09.427686",
     "exception": false,
     "start_time": "2021-11-18T18:30:09.338790",
     "status": "completed"
    },
    "tags": []
   },
   "outputs": [
    {
     "data": {
      "text/html": [
       "<div>\n",
       "<style scoped>\n",
       "    .dataframe tbody tr th:only-of-type {\n",
       "        vertical-align: middle;\n",
       "    }\n",
       "\n",
       "    .dataframe tbody tr th {\n",
       "        vertical-align: top;\n",
       "    }\n",
       "\n",
       "    .dataframe thead th {\n",
       "        text-align: right;\n",
       "    }\n",
       "</style>\n",
       "<table border=\"1\" class=\"dataframe\">\n",
       "  <thead>\n",
       "    <tr style=\"text-align: right;\">\n",
       "      <th></th>\n",
       "      <th>RECORD_TIME</th>\n",
       "    </tr>\n",
       "  </thead>\n",
       "  <tbody>\n",
       "    <tr>\n",
       "      <th>0</th>\n",
       "      <td>2021-11-18 19:30</td>\n",
       "    </tr>\n",
       "    <tr>\n",
       "      <th>1</th>\n",
       "      <td>2021-11-18 19:00</td>\n",
       "    </tr>\n",
       "  </tbody>\n",
       "</table>\n",
       "</div>"
      ],
      "text/plain": [
       "        RECORD_TIME\n",
       "0  2021-11-18 19:30\n",
       "1  2021-11-18 19:00"
      ]
     },
     "execution_count": 3,
     "metadata": {},
     "output_type": "execute_result"
    }
   ],
   "source": [
    "timestamps"
   ]
  },
  {
   "cell_type": "code",
   "execution_count": 4,
   "id": "alternate-victory",
   "metadata": {
    "execution": {
     "iopub.execute_input": "2021-11-18T18:30:09.484020Z",
     "iopub.status.busy": "2021-11-18T18:30:09.481830Z",
     "iopub.status.idle": "2021-11-18T18:30:10.695061Z",
     "shell.execute_reply": "2021-11-18T18:30:10.696576Z"
    },
    "papermill": {
     "duration": 1.247642,
     "end_time": "2021-11-18T18:30:10.697145",
     "exception": false,
     "start_time": "2021-11-18T18:30:09.449503",
     "status": "completed"
    },
    "tags": []
   },
   "outputs": [],
   "source": [
    "df = pd.read_sql(\"select * from EBAY_TOP_BERLIN where record_time in (select distinct record_time from EBAY_TOP_BERLIN order by record_time desc limit 2)\", sqlite3.connect(\"UsedObjects.db\"))"
   ]
  },
  {
   "cell_type": "code",
   "execution_count": 5,
   "id": "popular-active",
   "metadata": {
    "execution": {
     "iopub.execute_input": "2021-11-18T18:30:10.774989Z",
     "iopub.status.busy": "2021-11-18T18:30:10.761409Z",
     "iopub.status.idle": "2021-11-18T18:30:10.793817Z",
     "shell.execute_reply": "2021-11-18T18:30:10.795278Z"
    },
    "papermill": {
     "duration": 0.077002,
     "end_time": "2021-11-18T18:30:10.795777",
     "exception": false,
     "start_time": "2021-11-18T18:30:10.718775",
     "status": "completed"
    },
    "tags": []
   },
   "outputs": [],
   "source": [
    "df_pivot = df.pivot_table(index=\"PRODUCT\", columns = \"RECORD_TIME\", values = \"LISTING_COUNT\")"
   ]
  },
  {
   "cell_type": "code",
   "execution_count": 6,
   "id": "union-huntington",
   "metadata": {
    "execution": {
     "iopub.execute_input": "2021-11-18T18:30:10.857606Z",
     "iopub.status.busy": "2021-11-18T18:30:10.855245Z",
     "iopub.status.idle": "2021-11-18T18:30:10.861540Z",
     "shell.execute_reply": "2021-11-18T18:30:10.863151Z"
    },
    "papermill": {
     "duration": 0.046299,
     "end_time": "2021-11-18T18:30:10.863646",
     "exception": false,
     "start_time": "2021-11-18T18:30:10.817347",
     "status": "completed"
    },
    "tags": []
   },
   "outputs": [],
   "source": [
    "df_pivot.columns = [\"stamp_1\", \"stamp_2\"]\n",
    "df_pivot_diff = df_pivot.diff(axis=1)"
   ]
  },
  {
   "cell_type": "code",
   "execution_count": 7,
   "id": "fifth-motion",
   "metadata": {
    "execution": {
     "iopub.execute_input": "2021-11-18T18:30:10.922802Z",
     "iopub.status.busy": "2021-11-18T18:30:10.920092Z",
     "iopub.status.idle": "2021-11-18T18:30:12.652808Z",
     "shell.execute_reply": "2021-11-18T18:30:12.654298Z"
    },
    "papermill": {
     "duration": 1.77,
     "end_time": "2021-11-18T18:30:12.654819",
     "exception": false,
     "start_time": "2021-11-18T18:30:10.884819",
     "status": "completed"
    },
    "tags": []
   },
   "outputs": [
    {
     "data": {
      "text/plain": [
       "<AxesSubplot:ylabel='PRODUCT'>"
      ]
     },
     "execution_count": 7,
     "metadata": {},
     "output_type": "execute_result"
    },
    {
     "data": {
      "image/png": "[encoded data removed]",
      "text/plain": [
       "<Figure size 432x288 with 1 Axes>"
      ]
     },
     "metadata": {
      "needs_background": "light"
     },
     "output_type": "display_data"
    }
   ],
   "source": [
    "df_pivot_diff.sort_values(\"stamp_2\", ascending = False)[\"stamp_2\"].head(10).plot.barh()"
   ]
  },
  {
   "cell_type": "code",
   "execution_count": null,
   "id": "extra-executive",
   "metadata": {
    "papermill": {
     "duration": 0.026331,
     "end_time": "2021-11-18T18:30:12.707157",
     "exception": false,
     "start_time": "2021-11-18T18:30:12.680826",
     "status": "completed"
    },
    "tags": []
   },
   "outputs": [],
   "source": []
  }
 ],
 "metadata": {
  "kernelspec": {
   "display_name": "Python 3",
   "language": "python",
   "name": "python3"
  },
  "language_info": {
   "codemirror_mode": {
    "name": "ipython",
    "version": 3
   },
   "file_extension": ".py",
   "mimetype": "text/x-python",
   "name": "python",
   "nbconvert_exporter": "python",
   "pygments_lexer": "ipython3",
   "version": "3.9.5"
  },
  "papermill": {
   "default_parameters": {},
   "duration": 8.951512,
   "end_time": "2021-11-18T18:30:13.563281",
   "environment_variables": {},
   "exception": null,
   "input_path": "eBay_Overview.ipynb",
   "output_path": "eBay_Overview.ipynb",
   "parameters": {},
   "start_time": "2021-11-18T18:30:04.611769",
   "version": "2.3.3"
  }
 },
 "nbformat": 4,
 "nbformat_minor": 5
}