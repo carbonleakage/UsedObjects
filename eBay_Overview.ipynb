{
 "cells": [
  {
   "cell_type": "code",
   "execution_count": 1,
   "id": "reverse-picking",
   "metadata": {
    "execution": {
     "iopub.execute_input": "2021-09-26T00:30:07.184892Z",
     "iopub.status.busy": "2021-09-26T00:30:07.182966Z",
     "iopub.status.idle": "2021-09-26T00:30:07.991697Z",
     "shell.execute_reply": "2021-09-26T00:30:07.992999Z"
    },
    "papermill": {
     "duration": 0.862078,
     "end_time": "2021-09-26T00:30:07.993618",
     "exception": false,
     "start_time": "2021-09-26T00:30:07.131540",
     "status": "completed"
    },
    "tags": []
   },
   "outputs": [],
   "source": [
    "import pandas as pd\n",
    "import sqlite3"
   ]
  },
  {
   "cell_type": "code",
   "execution_count": 2,
   "id": "innovative-syndrome",
   "metadata": {
    "execution": {
     "iopub.execute_input": "2021-09-26T00:30:08.043474Z",
     "iopub.status.busy": "2021-09-26T00:30:08.041503Z",
     "iopub.status.idle": "2021-09-26T00:30:08.419860Z",
     "shell.execute_reply": "2021-09-26T00:30:08.421119Z"
    },
    "papermill": {
     "duration": 0.407813,
     "end_time": "2021-09-26T00:30:08.421516",
     "exception": false,
     "start_time": "2021-09-26T00:30:08.013703",
     "status": "completed"
    },
    "tags": []
   },
   "outputs": [],
   "source": [
    "timestamps = pd.read_sql(\"select distinct record_time from EBAY_TOP_BERLIN order by record_time desc limit 2\", sqlite3.connect(\"UsedObjects.db\"))"
   ]
  },
  {
   "cell_type": "code",
   "execution_count": 3,
   "id": "periodic-identification",
   "metadata": {
    "execution": {
     "iopub.execute_input": "2021-09-26T00:30:08.485784Z",
     "iopub.status.busy": "2021-09-26T00:30:08.483775Z",
     "iopub.status.idle": "2021-09-26T00:30:08.503628Z",
     "shell.execute_reply": "2021-09-26T00:30:08.504933Z"
    },
    "papermill": {
     "duration": 0.064416,
     "end_time": "2021-09-26T00:30:08.505347",
     "exception": false,
     "start_time": "2021-09-26T00:30:08.440931",
     "status": "completed"
    },
    "tags": []
   },
   "outputs": [
    {
     "data": {
      "text/html": [
       "<div>\n",
       "<style scoped>\n",
       "    .dataframe tbody tr th:only-of-type {\n",
       "        vertical-align: middle;\n",
       "    }\n",
       "\n",
       "    .dataframe tbody tr th {\n",
       "        vertical-align: top;\n",
       "    }\n",
       "\n",
       "    .dataframe thead th {\n",
       "        text-align: right;\n",
       "    }\n",
       "</style>\n",
       "<table border=\"1\" class=\"dataframe\">\n",
       "  <thead>\n",
       "    <tr style=\"text-align: right;\">\n",
       "      <th></th>\n",
       "      <th>RECORD_TIME</th>\n",
       "    </tr>\n",
       "  </thead>\n",
       "  <tbody>\n",
       "    <tr>\n",
       "      <th>0</th>\n",
       "      <td>2021-09-26 02:30</td>\n",
       "    </tr>\n",
       "    <tr>\n",
       "      <th>1</th>\n",
       "      <td>2021-09-26 02:00</td>\n",
       "    </tr>\n",
       "  </tbody>\n",
       "</table>\n",
       "</div>"
      ],
      "text/plain": [
       "        RECORD_TIME\n",
       "0  2021-09-26 02:30\n",
       "1  2021-09-26 02:00"
      ]
     },
     "execution_count": 3,
     "metadata": {},
     "output_type": "execute_result"
    }
   ],
   "source": [
    "timestamps"
   ]
  },
  {
   "cell_type": "code",
   "execution_count": 4,
   "id": "alternate-victory",
   "metadata": {
    "execution": {
     "iopub.execute_input": "2021-09-26T00:30:08.557374Z",
     "iopub.status.busy": "2021-09-26T00:30:08.555095Z",
     "iopub.status.idle": "2021-09-26T00:30:09.111044Z",
     "shell.execute_reply": "2021-09-26T00:30:09.112439Z"
    },
    "papermill": {
     "duration": 0.586332,
     "end_time": "2021-09-26T00:30:09.112853",
     "exception": false,
     "start_time": "2021-09-26T00:30:08.526521",
     "status": "completed"
    },
    "tags": []
   },
   "outputs": [],
   "source": [
    "df = pd.read_sql(\"select * from EBAY_TOP_BERLIN where record_time in (select distinct record_time from EBAY_TOP_BERLIN order by record_time desc limit 2)\", sqlite3.connect(\"UsedObjects.db\"))"
   ]
  },
  {
   "cell_type": "code",
   "execution_count": 5,
   "id": "popular-active",
   "metadata": {
    "execution": {
     "iopub.execute_input": "2021-09-26T00:30:09.203716Z",
     "iopub.status.busy": "2021-09-26T00:30:09.191276Z",
     "iopub.status.idle": "2021-09-26T00:30:09.220094Z",
     "shell.execute_reply": "2021-09-26T00:30:09.221511Z"
    },
    "papermill": {
     "duration": 0.076108,
     "end_time": "2021-09-26T00:30:09.221946",
     "exception": false,
     "start_time": "2021-09-26T00:30:09.145838",
     "status": "completed"
    },
    "tags": []
   },
   "outputs": [],
   "source": [
    "df_pivot = df.pivot_table(index=\"PRODUCT\", columns = \"RECORD_TIME\", values = \"LISTING_COUNT\")"
   ]
  },
  {
   "cell_type": "code",
   "execution_count": 6,
   "id": "union-huntington",
   "metadata": {
    "execution": {
     "iopub.execute_input": "2021-09-26T00:30:09.280183Z",
     "iopub.status.busy": "2021-09-26T00:30:09.277702Z",
     "iopub.status.idle": "2021-09-26T00:30:09.283894Z",
     "shell.execute_reply": "2021-09-26T00:30:09.285368Z"
    },
    "papermill": {
     "duration": 0.042978,
     "end_time": "2021-09-26T00:30:09.285829",
     "exception": false,
     "start_time": "2021-09-26T00:30:09.242851",
     "status": "completed"
    },
    "tags": []
   },
   "outputs": [],
   "source": [
    "df_pivot.columns = [\"stamp_1\", \"stamp_2\"]\n",
    "df_pivot_diff = df_pivot.diff(axis=1)"
   ]
  },
  {
   "cell_type": "code",
   "execution_count": 7,
   "id": "fifth-motion",
   "metadata": {
    "execution": {
     "iopub.execute_input": "2021-09-26T00:30:09.340663Z",
     "iopub.status.busy": "2021-09-26T00:30:09.338198Z",
     "iopub.status.idle": "2021-09-26T00:30:10.826169Z",
     "shell.execute_reply": "2021-09-26T00:30:10.827440Z"
    },
    "papermill": {
     "duration": 1.520481,
     "end_time": "2021-09-26T00:30:10.827876",
     "exception": false,
     "start_time": "2021-09-26T00:30:09.307395",
     "status": "completed"
    },
    "tags": []
   },
   "outputs": [
    {
     "data": {
      "text/plain": [
       "<AxesSubplot:ylabel='PRODUCT'>"
      ]
     },
     "execution_count": 7,
     "metadata": {},
     "output_type": "execute_result"
    },
    {
     "data": {
      "image/png": "[encoded data removed]",
      "text/plain": [
       "<Figure size 432x288 with 1 Axes>"
      ]
     },
     "metadata": {
      "needs_background": "light"
     },
     "output_type": "display_data"
    }
   ],
   "source": [
    "df_pivot_diff.sort_values(\"stamp_2\", ascending = False)[\"stamp_2\"].head(10).plot.barh()"
   ]
  },
  {
   "cell_type": "code",
   "execution_count": null,
   "id": "extra-executive",
   "metadata": {
    "papermill": {
     "duration": 0.022378,
     "end_time": "2021-09-26T00:30:10.874071",
     "exception": false,
     "start_time": "2021-09-26T00:30:10.851693",
     "status": "completed"
    },
    "tags": []
   },
   "outputs": [],
   "source": []
  }
 ],
 "metadata": {
  "kernelspec": {
   "display_name": "Python 3",
   "language": "python",
   "name": "python3"
  },
  "language_info": {
   "codemirror_mode": {
    "name": "ipython",
    "version": 3
   },
   "file_extension": ".py",
   "mimetype": "text/x-python",
   "name": "python",
   "nbconvert_exporter": "python",
   "pygments_lexer": "ipython3",
   "version": "3.9.5"
  },
  "papermill": {
   "default_parameters": {},
   "duration": 6.787612,
   "end_time": "2021-09-26T00:30:11.517244",
   "environment_variables": {},
   "exception": null,
   "input_path": "eBay_Overview.ipynb",
   "output_path": "eBay_Overview.ipynb",
   "parameters": {},
   "start_time": "2021-09-26T00:30:04.729632",
   "version": "2.3.3"
  }
 },
 "nbformat": 4,
 "nbformat_minor": 5
}