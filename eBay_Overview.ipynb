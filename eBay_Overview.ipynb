{
 "cells": [
  {
   "cell_type": "code",
   "execution_count": 1,
   "id": "reverse-picking",
   "metadata": {
    "execution": {
     "iopub.execute_input": "2021-10-02T21:30:06.715405Z",
     "iopub.status.busy": "2021-10-02T21:30:06.713420Z",
     "iopub.status.idle": "2021-10-02T21:30:07.518691Z",
     "shell.execute_reply": "2021-10-02T21:30:07.517069Z"
    },
    "papermill": {
     "duration": 0.855632,
     "end_time": "2021-10-02T21:30:07.519160",
     "exception": false,
     "start_time": "2021-10-02T21:30:06.663528",
     "status": "completed"
    },
    "tags": []
   },
   "outputs": [],
   "source": [
    "import pandas as pd\n",
    "import sqlite3"
   ]
  },
  {
   "cell_type": "code",
   "execution_count": 2,
   "id": "innovative-syndrome",
   "metadata": {
    "execution": {
     "iopub.execute_input": "2021-10-02T21:30:07.570078Z",
     "iopub.status.busy": "2021-10-02T21:30:07.568193Z",
     "iopub.status.idle": "2021-10-02T21:30:08.008849Z",
     "shell.execute_reply": "2021-10-02T21:30:08.010042Z"
    },
    "papermill": {
     "duration": 0.470275,
     "end_time": "2021-10-02T21:30:08.010440",
     "exception": false,
     "start_time": "2021-10-02T21:30:07.540165",
     "status": "completed"
    },
    "tags": []
   },
   "outputs": [],
   "source": [
    "timestamps = pd.read_sql(\"select distinct record_time from EBAY_TOP_BERLIN order by record_time desc limit 2\", sqlite3.connect(\"UsedObjects.db\"))"
   ]
  },
  {
   "cell_type": "code",
   "execution_count": 3,
   "id": "periodic-identification",
   "metadata": {
    "execution": {
     "iopub.execute_input": "2021-10-02T21:30:08.074114Z",
     "iopub.status.busy": "2021-10-02T21:30:08.072109Z",
     "iopub.status.idle": "2021-10-02T21:30:08.093091Z",
     "shell.execute_reply": "2021-10-02T21:30:08.094222Z"
    },
    "papermill": {
     "duration": 0.064449,
     "end_time": "2021-10-02T21:30:08.094630",
     "exception": false,
     "start_time": "2021-10-02T21:30:08.030181",
     "status": "completed"
    },
    "tags": []
   },
   "outputs": [
    {
     "data": {
      "text/html": [
       "<div>\n",
       "<style scoped>\n",
       "    .dataframe tbody tr th:only-of-type {\n",
       "        vertical-align: middle;\n",
       "    }\n",
       "\n",
       "    .dataframe tbody tr th {\n",
       "        vertical-align: top;\n",
       "    }\n",
       "\n",
       "    .dataframe thead th {\n",
       "        text-align: right;\n",
       "    }\n",
       "</style>\n",
       "<table border=\"1\" class=\"dataframe\">\n",
       "  <thead>\n",
       "    <tr style=\"text-align: right;\">\n",
       "      <th></th>\n",
       "      <th>RECORD_TIME</th>\n",
       "    </tr>\n",
       "  </thead>\n",
       "  <tbody>\n",
       "    <tr>\n",
       "      <th>0</th>\n",
       "      <td>2021-10-02 23:30</td>\n",
       "    </tr>\n",
       "    <tr>\n",
       "      <th>1</th>\n",
       "      <td>2021-10-02 23:00</td>\n",
       "    </tr>\n",
       "  </tbody>\n",
       "</table>\n",
       "</div>"
      ],
      "text/plain": [
       "        RECORD_TIME\n",
       "0  2021-10-02 23:30\n",
       "1  2021-10-02 23:00"
      ]
     },
     "execution_count": 3,
     "metadata": {},
     "output_type": "execute_result"
    }
   ],
   "source": [
    "timestamps"
   ]
  },
  {
   "cell_type": "code",
   "execution_count": 4,
   "id": "alternate-victory",
   "metadata": {
    "execution": {
     "iopub.execute_input": "2021-10-02T21:30:08.167627Z",
     "iopub.status.busy": "2021-10-02T21:30:08.165118Z",
     "iopub.status.idle": "2021-10-02T21:30:08.831008Z",
     "shell.execute_reply": "2021-10-02T21:30:08.832182Z"
    },
    "papermill": {
     "duration": 0.714524,
     "end_time": "2021-10-02T21:30:08.832600",
     "exception": false,
     "start_time": "2021-10-02T21:30:08.118076",
     "status": "completed"
    },
    "tags": []
   },
   "outputs": [],
   "source": [
    "df = pd.read_sql(\"select * from EBAY_TOP_BERLIN where record_time in (select distinct record_time from EBAY_TOP_BERLIN order by record_time desc limit 2)\", sqlite3.connect(\"UsedObjects.db\"))"
   ]
  },
  {
   "cell_type": "code",
   "execution_count": 5,
   "id": "popular-active",
   "metadata": {
    "execution": {
     "iopub.execute_input": "2021-10-02T21:30:08.904188Z",
     "iopub.status.busy": "2021-10-02T21:30:08.891702Z",
     "iopub.status.idle": "2021-10-02T21:30:08.920488Z",
     "shell.execute_reply": "2021-10-02T21:30:08.921761Z"
    },
    "papermill": {
     "duration": 0.067841,
     "end_time": "2021-10-02T21:30:08.922178",
     "exception": false,
     "start_time": "2021-10-02T21:30:08.854337",
     "status": "completed"
    },
    "tags": []
   },
   "outputs": [],
   "source": [
    "df_pivot = df.pivot_table(index=\"PRODUCT\", columns = \"RECORD_TIME\", values = \"LISTING_COUNT\")"
   ]
  },
  {
   "cell_type": "code",
   "execution_count": 6,
   "id": "union-huntington",
   "metadata": {
    "execution": {
     "iopub.execute_input": "2021-10-02T21:30:08.978917Z",
     "iopub.status.busy": "2021-10-02T21:30:08.976602Z",
     "iopub.status.idle": "2021-10-02T21:30:08.982334Z",
     "shell.execute_reply": "2021-10-02T21:30:08.983805Z"
    },
    "papermill": {
     "duration": 0.042341,
     "end_time": "2021-10-02T21:30:08.984264",
     "exception": false,
     "start_time": "2021-10-02T21:30:08.941923",
     "status": "completed"
    },
    "tags": []
   },
   "outputs": [],
   "source": [
    "df_pivot.columns = [\"stamp_1\", \"stamp_2\"]\n",
    "df_pivot_diff = df_pivot.diff(axis=1)"
   ]
  },
  {
   "cell_type": "code",
   "execution_count": 7,
   "id": "fifth-motion",
   "metadata": {
    "execution": {
     "iopub.execute_input": "2021-10-02T21:30:09.038249Z",
     "iopub.status.busy": "2021-10-02T21:30:09.036054Z",
     "iopub.status.idle": "2021-10-02T21:30:10.506749Z",
     "shell.execute_reply": "2021-10-02T21:30:10.508255Z"
    },
    "papermill": {
     "duration": 1.503659,
     "end_time": "2021-10-02T21:30:10.508702",
     "exception": false,
     "start_time": "2021-10-02T21:30:09.005043",
     "status": "completed"
    },
    "tags": []
   },
   "outputs": [
    {
     "data": {
      "text/plain": [
       "<AxesSubplot:ylabel='PRODUCT'>"
      ]
     },
     "execution_count": 7,
     "metadata": {},
     "output_type": "execute_result"
    },
    {
     "data": {
      "image/png": "[encoded data removed]",
      "text/plain": [
       "<Figure size 432x288 with 1 Axes>"
      ]
     },
     "metadata": {
      "needs_background": "light"
     },
     "output_type": "display_data"
    }
   ],
   "source": [
    "df_pivot_diff.sort_values(\"stamp_2\", ascending = False)[\"stamp_2\"].head(10).plot.barh()"
   ]
  },
  {
   "cell_type": "code",
   "execution_count": null,
   "id": "extra-executive",
   "metadata": {
    "papermill": {
     "duration": 0.022378,
     "end_time": "2021-10-02T21:30:10.555977",
     "exception": false,
     "start_time": "2021-10-02T21:30:10.533599",
     "status": "completed"
    },
    "tags": []
   },
   "outputs": [],
   "source": []
  }
 ],
 "metadata": {
  "kernelspec": {
   "display_name": "Python 3",
   "language": "python",
   "name": "python3"
  },
  "language_info": {
   "codemirror_mode": {
    "name": "ipython",
    "version": 3
   },
   "file_extension": ".py",
   "mimetype": "text/x-python",
   "name": "python",
   "nbconvert_exporter": "python",
   "pygments_lexer": "ipython3",
   "version": "3.9.5"
  },
  "papermill": {
   "default_parameters": {},
   "duration": 7.824511,
   "end_time": "2021-10-02T21:30:12.080181",
   "environment_variables": {},
   "exception": null,
   "input_path": "eBay_Overview.ipynb",
   "output_path": "eBay_Overview.ipynb",
   "parameters": {},
   "start_time": "2021-10-02T21:30:04.255670",
   "version": "2.3.3"
  }
 },
 "nbformat": 4,
 "nbformat_minor": 5
}