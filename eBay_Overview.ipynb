{
 "cells": [
  {
   "cell_type": "code",
   "execution_count": 1,
   "id": "reverse-picking",
   "metadata": {
    "execution": {
     "iopub.execute_input": "2021-11-24T22:00:07.412320Z",
     "iopub.status.busy": "2021-11-24T22:00:07.409388Z",
     "iopub.status.idle": "2021-11-24T22:00:08.361794Z",
     "shell.execute_reply": "2021-11-24T22:00:08.363358Z"
    },
    "papermill": {
     "duration": 1.001176,
     "end_time": "2021-11-24T22:00:08.364237",
     "exception": false,
     "start_time": "2021-11-24T22:00:07.363061",
     "status": "completed"
    },
    "tags": []
   },
   "outputs": [],
   "source": [
    "import pandas as pd\n",
    "import sqlite3"
   ]
  },
  {
   "cell_type": "code",
   "execution_count": 2,
   "id": "innovative-syndrome",
   "metadata": {
    "execution": {
     "iopub.execute_input": "2021-11-24T22:00:08.423661Z",
     "iopub.status.busy": "2021-11-24T22:00:08.421203Z",
     "iopub.status.idle": "2021-11-24T22:00:09.323892Z",
     "shell.execute_reply": "2021-11-24T22:00:09.325517Z"
    },
    "papermill": {
     "duration": 0.93809,
     "end_time": "2021-11-24T22:00:09.326006",
     "exception": false,
     "start_time": "2021-11-24T22:00:08.387916",
     "status": "completed"
    },
    "tags": []
   },
   "outputs": [],
   "source": [
    "timestamps = pd.read_sql(\"select distinct record_time from EBAY_TOP_BERLIN order by record_time desc limit 2\", sqlite3.connect(\"UsedObjects.db\"))"
   ]
  },
  {
   "cell_type": "code",
   "execution_count": 3,
   "id": "periodic-identification",
   "metadata": {
    "execution": {
     "iopub.execute_input": "2021-11-24T22:00:09.399455Z",
     "iopub.status.busy": "2021-11-24T22:00:09.397302Z",
     "iopub.status.idle": "2021-11-24T22:00:09.419016Z",
     "shell.execute_reply": "2021-11-24T22:00:09.420441Z"
    },
    "papermill": {
     "duration": 0.07443,
     "end_time": "2021-11-24T22:00:09.420980",
     "exception": false,
     "start_time": "2021-11-24T22:00:09.346550",
     "status": "completed"
    },
    "tags": []
   },
   "outputs": [
    {
     "data": {
      "text/html": [
       "<div>\n",
       "<style scoped>\n",
       "    .dataframe tbody tr th:only-of-type {\n",
       "        vertical-align: middle;\n",
       "    }\n",
       "\n",
       "    .dataframe tbody tr th {\n",
       "        vertical-align: top;\n",
       "    }\n",
       "\n",
       "    .dataframe thead th {\n",
       "        text-align: right;\n",
       "    }\n",
       "</style>\n",
       "<table border=\"1\" class=\"dataframe\">\n",
       "  <thead>\n",
       "    <tr style=\"text-align: right;\">\n",
       "      <th></th>\n",
       "      <th>RECORD_TIME</th>\n",
       "    </tr>\n",
       "  </thead>\n",
       "  <tbody>\n",
       "    <tr>\n",
       "      <th>0</th>\n",
       "      <td>2021-11-24 23:00</td>\n",
       "    </tr>\n",
       "    <tr>\n",
       "      <th>1</th>\n",
       "      <td>2021-11-24 22:30</td>\n",
       "    </tr>\n",
       "  </tbody>\n",
       "</table>\n",
       "</div>"
      ],
      "text/plain": [
       "        RECORD_TIME\n",
       "0  2021-11-24 23:00\n",
       "1  2021-11-24 22:30"
      ]
     },
     "execution_count": 3,
     "metadata": {},
     "output_type": "execute_result"
    }
   ],
   "source": [
    "timestamps"
   ]
  },
  {
   "cell_type": "code",
   "execution_count": 4,
   "id": "alternate-victory",
   "metadata": {
    "execution": {
     "iopub.execute_input": "2021-11-24T22:00:09.476811Z",
     "iopub.status.busy": "2021-11-24T22:00:09.474461Z",
     "iopub.status.idle": "2021-11-24T22:00:10.797987Z",
     "shell.execute_reply": "2021-11-24T22:00:10.800217Z"
    },
    "papermill": {
     "duration": 1.358125,
     "end_time": "2021-11-24T22:00:10.800826",
     "exception": false,
     "start_time": "2021-11-24T22:00:09.442701",
     "status": "completed"
    },
    "tags": []
   },
   "outputs": [],
   "source": [
    "df = pd.read_sql(\"select * from EBAY_TOP_BERLIN where record_time in (select distinct record_time from EBAY_TOP_BERLIN order by record_time desc limit 2)\", sqlite3.connect(\"UsedObjects.db\"))"
   ]
  },
  {
   "cell_type": "code",
   "execution_count": 5,
   "id": "popular-active",
   "metadata": {
    "execution": {
     "iopub.execute_input": "2021-11-24T22:00:10.881501Z",
     "iopub.status.busy": "2021-11-24T22:00:10.868053Z",
     "iopub.status.idle": "2021-11-24T22:00:10.902821Z",
     "shell.execute_reply": "2021-11-24T22:00:10.901306Z"
    },
    "papermill": {
     "duration": 0.079513,
     "end_time": "2021-11-24T22:00:10.903238",
     "exception": false,
     "start_time": "2021-11-24T22:00:10.823725",
     "status": "completed"
    },
    "tags": []
   },
   "outputs": [],
   "source": [
    "df_pivot = df.pivot_table(index=\"PRODUCT\", columns = \"RECORD_TIME\", values = \"LISTING_COUNT\")"
   ]
  },
  {
   "cell_type": "code",
   "execution_count": 6,
   "id": "union-huntington",
   "metadata": {
    "execution": {
     "iopub.execute_input": "2021-11-24T22:00:10.967934Z",
     "iopub.status.busy": "2021-11-24T22:00:10.965492Z",
     "iopub.status.idle": "2021-11-24T22:00:10.971032Z",
     "shell.execute_reply": "2021-11-24T22:00:10.972899Z"
    },
    "papermill": {
     "duration": 0.048173,
     "end_time": "2021-11-24T22:00:10.973413",
     "exception": false,
     "start_time": "2021-11-24T22:00:10.925240",
     "status": "completed"
    },
    "tags": []
   },
   "outputs": [],
   "source": [
    "df_pivot.columns = [\"stamp_1\", \"stamp_2\"]\n",
    "df_pivot_diff = df_pivot.diff(axis=1)"
   ]
  },
  {
   "cell_type": "code",
   "execution_count": 7,
   "id": "fifth-motion",
   "metadata": {
    "execution": {
     "iopub.execute_input": "2021-11-24T22:00:11.033511Z",
     "iopub.status.busy": "2021-11-24T22:00:11.031287Z",
     "iopub.status.idle": "2021-11-24T22:00:12.761544Z",
     "shell.execute_reply": "2021-11-24T22:00:12.763301Z"
    },
    "papermill": {
     "duration": 1.770059,
     "end_time": "2021-11-24T22:00:12.763856",
     "exception": false,
     "start_time": "2021-11-24T22:00:10.993797",
     "status": "completed"
    },
    "tags": []
   },
   "outputs": [
    {
     "data": {
      "text/plain": [
       "<AxesSubplot:ylabel='PRODUCT'>"
      ]
     },
     "execution_count": 7,
     "metadata": {},
     "output_type": "execute_result"
    },
    {
     "data": {
      "image/png": "[encoded data removed]",
      "text/plain": [
       "<Figure size 432x288 with 1 Axes>"
      ]
     },
     "metadata": {
      "needs_background": "light"
     },
     "output_type": "display_data"
    }
   ],
   "source": [
    "df_pivot_diff.sort_values(\"stamp_2\", ascending = False)[\"stamp_2\"].head(10).plot.barh()"
   ]
  },
  {
   "cell_type": "code",
   "execution_count": null,
   "id": "extra-executive",
   "metadata": {
    "papermill": {
     "duration": 0.036496,
     "end_time": "2021-11-24T22:00:12.839160",
     "exception": false,
     "start_time": "2021-11-24T22:00:12.802664",
     "status": "completed"
    },
    "tags": []
   },
   "outputs": [],
   "source": []
  }
 ],
 "metadata": {
  "kernelspec": {
   "display_name": "Python 3",
   "language": "python",
   "name": "python3"
  },
  "language_info": {
   "codemirror_mode": {
    "name": "ipython",
    "version": 3
   },
   "file_extension": ".py",
   "mimetype": "text/x-python",
   "name": "python",
   "nbconvert_exporter": "python",
   "pygments_lexer": "ipython3",
   "version": "3.9.5"
  },
  "papermill": {
   "default_parameters": {},
   "duration": 10.010282,
   "end_time": "2021-11-24T22:00:14.563853",
   "environment_variables": {},
   "exception": null,
   "input_path": "eBay_Overview.ipynb",
   "output_path": "eBay_Overview.ipynb",
   "parameters": {},
   "start_time": "2021-11-24T22:00:04.553571",
   "version": "2.3.3"
  }
 },
 "nbformat": 4,
 "nbformat_minor": 5
}