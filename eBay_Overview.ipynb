{
 "cells": [
  {
   "cell_type": "code",
   "execution_count": 1,
   "id": "reverse-picking",
   "metadata": {
    "execution": {
     "iopub.execute_input": "2021-11-23T01:30:07.482796Z",
     "iopub.status.busy": "2021-11-23T01:30:07.479250Z",
     "iopub.status.idle": "2021-11-23T01:30:08.440769Z",
     "shell.execute_reply": "2021-11-23T01:30:08.442311Z"
    },
    "papermill": {
     "duration": 1.016449,
     "end_time": "2021-11-23T01:30:08.443064",
     "exception": false,
     "start_time": "2021-11-23T01:30:07.426615",
     "status": "completed"
    },
    "tags": []
   },
   "outputs": [],
   "source": [
    "import pandas as pd\n",
    "import sqlite3"
   ]
  },
  {
   "cell_type": "code",
   "execution_count": 2,
   "id": "innovative-syndrome",
   "metadata": {
    "execution": {
     "iopub.execute_input": "2021-11-23T01:30:08.628648Z",
     "iopub.status.busy": "2021-11-23T01:30:08.624032Z",
     "iopub.status.idle": "2021-11-23T01:30:09.511929Z",
     "shell.execute_reply": "2021-11-23T01:30:09.513709Z"
    },
    "papermill": {
     "duration": 0.92791,
     "end_time": "2021-11-23T01:30:09.514273",
     "exception": false,
     "start_time": "2021-11-23T01:30:08.586363",
     "status": "completed"
    },
    "tags": []
   },
   "outputs": [],
   "source": [
    "timestamps = pd.read_sql(\"select distinct record_time from EBAY_TOP_BERLIN order by record_time desc limit 2\", sqlite3.connect(\"UsedObjects.db\"))"
   ]
  },
  {
   "cell_type": "code",
   "execution_count": 3,
   "id": "periodic-identification",
   "metadata": {
    "execution": {
     "iopub.execute_input": "2021-11-23T01:30:09.583740Z",
     "iopub.status.busy": "2021-11-23T01:30:09.581728Z",
     "iopub.status.idle": "2021-11-23T01:30:09.604410Z",
     "shell.execute_reply": "2021-11-23T01:30:09.605851Z"
    },
    "papermill": {
     "duration": 0.068742,
     "end_time": "2021-11-23T01:30:09.606296",
     "exception": false,
     "start_time": "2021-11-23T01:30:09.537554",
     "status": "completed"
    },
    "tags": []
   },
   "outputs": [
    {
     "data": {
      "text/html": [
       "<div>\n",
       "<style scoped>\n",
       "    .dataframe tbody tr th:only-of-type {\n",
       "        vertical-align: middle;\n",
       "    }\n",
       "\n",
       "    .dataframe tbody tr th {\n",
       "        vertical-align: top;\n",
       "    }\n",
       "\n",
       "    .dataframe thead th {\n",
       "        text-align: right;\n",
       "    }\n",
       "</style>\n",
       "<table border=\"1\" class=\"dataframe\">\n",
       "  <thead>\n",
       "    <tr style=\"text-align: right;\">\n",
       "      <th></th>\n",
       "      <th>RECORD_TIME</th>\n",
       "    </tr>\n",
       "  </thead>\n",
       "  <tbody>\n",
       "    <tr>\n",
       "      <th>0</th>\n",
       "      <td>2021-11-23 02:30</td>\n",
       "    </tr>\n",
       "    <tr>\n",
       "      <th>1</th>\n",
       "      <td>2021-11-23 02:00</td>\n",
       "    </tr>\n",
       "  </tbody>\n",
       "</table>\n",
       "</div>"
      ],
      "text/plain": [
       "        RECORD_TIME\n",
       "0  2021-11-23 02:30\n",
       "1  2021-11-23 02:00"
      ]
     },
     "execution_count": 3,
     "metadata": {},
     "output_type": "execute_result"
    }
   ],
   "source": [
    "timestamps"
   ]
  },
  {
   "cell_type": "code",
   "execution_count": 4,
   "id": "alternate-victory",
   "metadata": {
    "execution": {
     "iopub.execute_input": "2021-11-23T01:30:09.658375Z",
     "iopub.status.busy": "2021-11-23T01:30:09.656250Z",
     "iopub.status.idle": "2021-11-23T01:30:10.935413Z",
     "shell.execute_reply": "2021-11-23T01:30:10.936960Z"
    },
    "papermill": {
     "duration": 1.310407,
     "end_time": "2021-11-23T01:30:10.937461",
     "exception": false,
     "start_time": "2021-11-23T01:30:09.627054",
     "status": "completed"
    },
    "tags": []
   },
   "outputs": [],
   "source": [
    "df = pd.read_sql(\"select * from EBAY_TOP_BERLIN where record_time in (select distinct record_time from EBAY_TOP_BERLIN order by record_time desc limit 2)\", sqlite3.connect(\"UsedObjects.db\"))"
   ]
  },
  {
   "cell_type": "code",
   "execution_count": 5,
   "id": "popular-active",
   "metadata": {
    "execution": {
     "iopub.execute_input": "2021-11-23T01:30:11.014080Z",
     "iopub.status.busy": "2021-11-23T01:30:10.999922Z",
     "iopub.status.idle": "2021-11-23T01:30:11.033434Z",
     "shell.execute_reply": "2021-11-23T01:30:11.034778Z"
    },
    "papermill": {
     "duration": 0.07389,
     "end_time": "2021-11-23T01:30:11.035250",
     "exception": false,
     "start_time": "2021-11-23T01:30:10.961360",
     "status": "completed"
    },
    "tags": []
   },
   "outputs": [],
   "source": [
    "df_pivot = df.pivot_table(index=\"PRODUCT\", columns = \"RECORD_TIME\", values = \"LISTING_COUNT\")"
   ]
  },
  {
   "cell_type": "code",
   "execution_count": 6,
   "id": "union-huntington",
   "metadata": {
    "execution": {
     "iopub.execute_input": "2021-11-23T01:30:11.097607Z",
     "iopub.status.busy": "2021-11-23T01:30:11.095113Z",
     "iopub.status.idle": "2021-11-23T01:30:11.101653Z",
     "shell.execute_reply": "2021-11-23T01:30:11.103106Z"
    },
    "papermill": {
     "duration": 0.048257,
     "end_time": "2021-11-23T01:30:11.103566",
     "exception": false,
     "start_time": "2021-11-23T01:30:11.055309",
     "status": "completed"
    },
    "tags": []
   },
   "outputs": [],
   "source": [
    "df_pivot.columns = [\"stamp_1\", \"stamp_2\"]\n",
    "df_pivot_diff = df_pivot.diff(axis=1)"
   ]
  },
  {
   "cell_type": "code",
   "execution_count": 7,
   "id": "fifth-motion",
   "metadata": {
    "execution": {
     "iopub.execute_input": "2021-11-23T01:30:11.165908Z",
     "iopub.status.busy": "2021-11-23T01:30:11.163024Z",
     "iopub.status.idle": "2021-11-23T01:30:13.215381Z",
     "shell.execute_reply": "2021-11-23T01:30:13.217892Z"
    },
    "papermill": {
     "duration": 2.09325,
     "end_time": "2021-11-23T01:30:13.218748",
     "exception": false,
     "start_time": "2021-11-23T01:30:11.125498",
     "status": "completed"
    },
    "tags": []
   },
   "outputs": [
    {
     "data": {
      "text/plain": [
       "<AxesSubplot:ylabel='PRODUCT'>"
      ]
     },
     "execution_count": 7,
     "metadata": {},
     "output_type": "execute_result"
    },
    {
     "data": {
      "image/png": "[encoded data removed]",
      "text/plain": [
       "<Figure size 432x288 with 1 Axes>"
      ]
     },
     "metadata": {
      "needs_background": "light"
     },
     "output_type": "display_data"
    }
   ],
   "source": [
    "df_pivot_diff.sort_values(\"stamp_2\", ascending = False)[\"stamp_2\"].head(10).plot.barh()"
   ]
  },
  {
   "cell_type": "code",
   "execution_count": null,
   "id": "extra-executive",
   "metadata": {
    "papermill": {
     "duration": 0.032043,
     "end_time": "2021-11-23T01:30:13.286100",
     "exception": false,
     "start_time": "2021-11-23T01:30:13.254057",
     "status": "completed"
    },
    "tags": []
   },
   "outputs": [],
   "source": []
  }
 ],
 "metadata": {
  "kernelspec": {
   "display_name": "Python 3",
   "language": "python",
   "name": "python3"
  },
  "language_info": {
   "codemirror_mode": {
    "name": "ipython",
    "version": 3
   },
   "file_extension": ".py",
   "mimetype": "text/x-python",
   "name": "python",
   "nbconvert_exporter": "python",
   "pygments_lexer": "ipython3",
   "version": "3.9.5"
  },
  "papermill": {
   "default_parameters": {},
   "duration": 9.950056,
   "end_time": "2021-11-23T01:30:14.645562",
   "environment_variables": {},
   "exception": null,
   "input_path": "eBay_Overview.ipynb",
   "output_path": "eBay_Overview.ipynb",
   "parameters": {},
   "start_time": "2021-11-23T01:30:04.695506",
   "version": "2.3.3"
  }
 },
 "nbformat": 4,
 "nbformat_minor": 5
}