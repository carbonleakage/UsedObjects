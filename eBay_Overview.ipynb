{
 "cells": [
  {
   "cell_type": "code",
   "execution_count": 1,
   "id": "reverse-picking",
   "metadata": {
    "execution": {
     "iopub.execute_input": "2021-10-12T17:00:07.339564Z",
     "iopub.status.busy": "2021-10-12T17:00:07.337656Z",
     "iopub.status.idle": "2021-10-12T17:00:08.138918Z",
     "shell.execute_reply": "2021-10-12T17:00:08.140220Z"
    },
    "papermill": {
     "duration": 0.851757,
     "end_time": "2021-10-12T17:00:08.140950",
     "exception": false,
     "start_time": "2021-10-12T17:00:07.289193",
     "status": "completed"
    },
    "tags": []
   },
   "outputs": [],
   "source": [
    "import pandas as pd\n",
    "import sqlite3"
   ]
  },
  {
   "cell_type": "code",
   "execution_count": 2,
   "id": "innovative-syndrome",
   "metadata": {
    "execution": {
     "iopub.execute_input": "2021-10-12T17:00:08.191331Z",
     "iopub.status.busy": "2021-10-12T17:00:08.189033Z",
     "iopub.status.idle": "2021-10-12T17:00:08.712398Z",
     "shell.execute_reply": "2021-10-12T17:00:08.713833Z"
    },
    "papermill": {
     "duration": 0.553692,
     "end_time": "2021-10-12T17:00:08.714271",
     "exception": false,
     "start_time": "2021-10-12T17:00:08.160579",
     "status": "completed"
    },
    "tags": []
   },
   "outputs": [],
   "source": [
    "timestamps = pd.read_sql(\"select distinct record_time from EBAY_TOP_BERLIN order by record_time desc limit 2\", sqlite3.connect(\"UsedObjects.db\"))"
   ]
  },
  {
   "cell_type": "code",
   "execution_count": 3,
   "id": "periodic-identification",
   "metadata": {
    "execution": {
     "iopub.execute_input": "2021-10-12T17:00:08.779914Z",
     "iopub.status.busy": "2021-10-12T17:00:08.777924Z",
     "iopub.status.idle": "2021-10-12T17:00:08.797696Z",
     "shell.execute_reply": "2021-10-12T17:00:08.799455Z"
    },
    "papermill": {
     "duration": 0.06592,
     "end_time": "2021-10-12T17:00:08.799980",
     "exception": false,
     "start_time": "2021-10-12T17:00:08.734060",
     "status": "completed"
    },
    "tags": []
   },
   "outputs": [
    {
     "data": {
      "text/html": [
       "<div>\n",
       "<style scoped>\n",
       "    .dataframe tbody tr th:only-of-type {\n",
       "        vertical-align: middle;\n",
       "    }\n",
       "\n",
       "    .dataframe tbody tr th {\n",
       "        vertical-align: top;\n",
       "    }\n",
       "\n",
       "    .dataframe thead th {\n",
       "        text-align: right;\n",
       "    }\n",
       "</style>\n",
       "<table border=\"1\" class=\"dataframe\">\n",
       "  <thead>\n",
       "    <tr style=\"text-align: right;\">\n",
       "      <th></th>\n",
       "      <th>RECORD_TIME</th>\n",
       "    </tr>\n",
       "  </thead>\n",
       "  <tbody>\n",
       "    <tr>\n",
       "      <th>0</th>\n",
       "      <td>2021-10-12 19:00</td>\n",
       "    </tr>\n",
       "    <tr>\n",
       "      <th>1</th>\n",
       "      <td>2021-10-12 18:30</td>\n",
       "    </tr>\n",
       "  </tbody>\n",
       "</table>\n",
       "</div>"
      ],
      "text/plain": [
       "        RECORD_TIME\n",
       "0  2021-10-12 19:00\n",
       "1  2021-10-12 18:30"
      ]
     },
     "execution_count": 3,
     "metadata": {},
     "output_type": "execute_result"
    }
   ],
   "source": [
    "timestamps"
   ]
  },
  {
   "cell_type": "code",
   "execution_count": 4,
   "id": "alternate-victory",
   "metadata": {
    "execution": {
     "iopub.execute_input": "2021-10-12T17:00:08.862193Z",
     "iopub.status.busy": "2021-10-12T17:00:08.859789Z",
     "iopub.status.idle": "2021-10-12T17:00:09.627197Z",
     "shell.execute_reply": "2021-10-12T17:00:09.628379Z"
    },
    "papermill": {
     "duration": 0.801257,
     "end_time": "2021-10-12T17:00:09.628899",
     "exception": false,
     "start_time": "2021-10-12T17:00:08.827642",
     "status": "completed"
    },
    "tags": []
   },
   "outputs": [],
   "source": [
    "df = pd.read_sql(\"select * from EBAY_TOP_BERLIN where record_time in (select distinct record_time from EBAY_TOP_BERLIN order by record_time desc limit 2)\", sqlite3.connect(\"UsedObjects.db\"))"
   ]
  },
  {
   "cell_type": "code",
   "execution_count": 5,
   "id": "popular-active",
   "metadata": {
    "execution": {
     "iopub.execute_input": "2021-10-12T17:00:09.692585Z",
     "iopub.status.busy": "2021-10-12T17:00:09.685398Z",
     "iopub.status.idle": "2021-10-12T17:00:09.714465Z",
     "shell.execute_reply": "2021-10-12T17:00:09.715660Z"
    },
    "papermill": {
     "duration": 0.066764,
     "end_time": "2021-10-12T17:00:09.716047",
     "exception": false,
     "start_time": "2021-10-12T17:00:09.649283",
     "status": "completed"
    },
    "tags": []
   },
   "outputs": [],
   "source": [
    "df_pivot = df.pivot_table(index=\"PRODUCT\", columns = \"RECORD_TIME\", values = \"LISTING_COUNT\")"
   ]
  },
  {
   "cell_type": "code",
   "execution_count": 6,
   "id": "union-huntington",
   "metadata": {
    "execution": {
     "iopub.execute_input": "2021-10-12T17:00:09.771858Z",
     "iopub.status.busy": "2021-10-12T17:00:09.769607Z",
     "iopub.status.idle": "2021-10-12T17:00:09.775369Z",
     "shell.execute_reply": "2021-10-12T17:00:09.776895Z"
    },
    "papermill": {
     "duration": 0.041572,
     "end_time": "2021-10-12T17:00:09.777362",
     "exception": false,
     "start_time": "2021-10-12T17:00:09.735790",
     "status": "completed"
    },
    "tags": []
   },
   "outputs": [],
   "source": [
    "df_pivot.columns = [\"stamp_1\", \"stamp_2\"]\n",
    "df_pivot_diff = df_pivot.diff(axis=1)"
   ]
  },
  {
   "cell_type": "code",
   "execution_count": 7,
   "id": "fifth-motion",
   "metadata": {
    "execution": {
     "iopub.execute_input": "2021-10-12T17:00:09.831861Z",
     "iopub.status.busy": "2021-10-12T17:00:09.829620Z",
     "iopub.status.idle": "2021-10-12T17:00:11.285946Z",
     "shell.execute_reply": "2021-10-12T17:00:11.287279Z"
    },
    "papermill": {
     "duration": 1.489379,
     "end_time": "2021-10-12T17:00:11.287693",
     "exception": false,
     "start_time": "2021-10-12T17:00:09.798314",
     "status": "completed"
    },
    "tags": []
   },
   "outputs": [
    {
     "data": {
      "text/plain": [
       "<AxesSubplot:ylabel='PRODUCT'>"
      ]
     },
     "execution_count": 7,
     "metadata": {},
     "output_type": "execute_result"
    },
    {
     "data": {
      "image/png": "[encoded data removed]",
      "text/plain": [
       "<Figure size 432x288 with 1 Axes>"
      ]
     },
     "metadata": {
      "needs_background": "light"
     },
     "output_type": "display_data"
    }
   ],
   "source": [
    "df_pivot_diff.sort_values(\"stamp_2\", ascending = False)[\"stamp_2\"].head(10).plot.barh()"
   ]
  },
  {
   "cell_type": "code",
   "execution_count": null,
   "id": "extra-executive",
   "metadata": {
    "papermill": {
     "duration": 0.021933,
     "end_time": "2021-10-12T17:00:11.333230",
     "exception": false,
     "start_time": "2021-10-12T17:00:11.311297",
     "status": "completed"
    },
    "tags": []
   },
   "outputs": [],
   "source": []
  }
 ],
 "metadata": {
  "kernelspec": {
   "display_name": "Python 3",
   "language": "python",
   "name": "python3"
  },
  "language_info": {
   "codemirror_mode": {
    "name": "ipython",
    "version": 3
   },
   "file_extension": ".py",
   "mimetype": "text/x-python",
   "name": "python",
   "nbconvert_exporter": "python",
   "pygments_lexer": "ipython3",
   "version": "3.9.5"
  },
  "papermill": {
   "default_parameters": {},
   "duration": 7.819321,
   "end_time": "2021-10-12T17:00:12.711134",
   "environment_variables": {},
   "exception": null,
   "input_path": "eBay_Overview.ipynb",
   "output_path": "eBay_Overview.ipynb",
   "parameters": {},
   "start_time": "2021-10-12T17:00:04.891813",
   "version": "2.3.3"
  }
 },
 "nbformat": 4,
 "nbformat_minor": 5
}