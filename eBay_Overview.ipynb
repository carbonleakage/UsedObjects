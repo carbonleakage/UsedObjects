{
 "cells": [
  {
   "cell_type": "code",
   "execution_count": 1,
   "id": "reverse-picking",
   "metadata": {
    "execution": {
     "iopub.execute_input": "2021-12-09T13:00:07.188081Z",
     "iopub.status.busy": "2021-12-09T13:00:07.185752Z",
     "iopub.status.idle": "2021-12-09T13:00:08.157993Z",
     "shell.execute_reply": "2021-12-09T13:00:08.159549Z"
    },
    "papermill": {
     "duration": 1.021913,
     "end_time": "2021-12-09T13:00:08.160319",
     "exception": false,
     "start_time": "2021-12-09T13:00:07.138406",
     "status": "completed"
    },
    "tags": []
   },
   "outputs": [],
   "source": [
    "import pandas as pd\n",
    "import sqlite3"
   ]
  },
  {
   "cell_type": "code",
   "execution_count": 2,
   "id": "innovative-syndrome",
   "metadata": {
    "execution": {
     "iopub.execute_input": "2021-12-09T13:00:08.218307Z",
     "iopub.status.busy": "2021-12-09T13:00:08.215933Z",
     "iopub.status.idle": "2021-12-09T13:00:09.224748Z",
     "shell.execute_reply": "2021-12-09T13:00:09.226104Z"
    },
    "papermill": {
     "duration": 1.042947,
     "end_time": "2021-12-09T13:00:09.226577",
     "exception": false,
     "start_time": "2021-12-09T13:00:08.183630",
     "status": "completed"
    },
    "tags": []
   },
   "outputs": [],
   "source": [
    "timestamps = pd.read_sql(\"select distinct record_time from EBAY_TOP_BERLIN order by record_time desc limit 2\", sqlite3.connect(\"UsedObjects.db\"))"
   ]
  },
  {
   "cell_type": "code",
   "execution_count": 3,
   "id": "periodic-identification",
   "metadata": {
    "execution": {
     "iopub.execute_input": "2021-12-09T13:00:09.295896Z",
     "iopub.status.busy": "2021-12-09T13:00:09.293451Z",
     "iopub.status.idle": "2021-12-09T13:00:09.316749Z",
     "shell.execute_reply": "2021-12-09T13:00:09.319070Z"
    },
    "papermill": {
     "duration": 0.073423,
     "end_time": "2021-12-09T13:00:09.319624",
     "exception": false,
     "start_time": "2021-12-09T13:00:09.246201",
     "status": "completed"
    },
    "tags": []
   },
   "outputs": [
    {
     "data": {
      "text/html": [
       "<div>\n",
       "<style scoped>\n",
       "    .dataframe tbody tr th:only-of-type {\n",
       "        vertical-align: middle;\n",
       "    }\n",
       "\n",
       "    .dataframe tbody tr th {\n",
       "        vertical-align: top;\n",
       "    }\n",
       "\n",
       "    .dataframe thead th {\n",
       "        text-align: right;\n",
       "    }\n",
       "</style>\n",
       "<table border=\"1\" class=\"dataframe\">\n",
       "  <thead>\n",
       "    <tr style=\"text-align: right;\">\n",
       "      <th></th>\n",
       "      <th>RECORD_TIME</th>\n",
       "    </tr>\n",
       "  </thead>\n",
       "  <tbody>\n",
       "    <tr>\n",
       "      <th>0</th>\n",
       "      <td>2021-12-09 14:00</td>\n",
       "    </tr>\n",
       "    <tr>\n",
       "      <th>1</th>\n",
       "      <td>2021-12-09 13:30</td>\n",
       "    </tr>\n",
       "  </tbody>\n",
       "</table>\n",
       "</div>"
      ],
      "text/plain": [
       "        RECORD_TIME\n",
       "0  2021-12-09 14:00\n",
       "1  2021-12-09 13:30"
      ]
     },
     "execution_count": 3,
     "metadata": {},
     "output_type": "execute_result"
    }
   ],
   "source": [
    "timestamps"
   ]
  },
  {
   "cell_type": "code",
   "execution_count": 4,
   "id": "alternate-victory",
   "metadata": {
    "execution": {
     "iopub.execute_input": "2021-12-09T13:00:09.400499Z",
     "iopub.status.busy": "2021-12-09T13:00:09.396868Z",
     "iopub.status.idle": "2021-12-09T13:00:10.859193Z",
     "shell.execute_reply": "2021-12-09T13:00:10.862799Z"
    },
    "papermill": {
     "duration": 1.516131,
     "end_time": "2021-12-09T13:00:10.863729",
     "exception": false,
     "start_time": "2021-12-09T13:00:09.347598",
     "status": "completed"
    },
    "tags": []
   },
   "outputs": [],
   "source": [
    "df = pd.read_sql(\"select * from EBAY_TOP_BERLIN where record_time in (select distinct record_time from EBAY_TOP_BERLIN order by record_time desc limit 2)\", sqlite3.connect(\"UsedObjects.db\"))"
   ]
  },
  {
   "cell_type": "code",
   "execution_count": 5,
   "id": "popular-active",
   "metadata": {
    "execution": {
     "iopub.execute_input": "2021-12-09T13:00:10.961899Z",
     "iopub.status.busy": "2021-12-09T13:00:10.957990Z",
     "iopub.status.idle": "2021-12-09T13:00:11.022040Z",
     "shell.execute_reply": "2021-12-09T13:00:11.024804Z"
    },
    "papermill": {
     "duration": 0.127071,
     "end_time": "2021-12-09T13:00:11.025503",
     "exception": false,
     "start_time": "2021-12-09T13:00:10.898432",
     "status": "completed"
    },
    "tags": []
   },
   "outputs": [],
   "source": [
    "df_pivot = df.pivot_table(index=\"PRODUCT\", columns = \"RECORD_TIME\", values = \"LISTING_COUNT\")"
   ]
  },
  {
   "cell_type": "code",
   "execution_count": 6,
   "id": "union-huntington",
   "metadata": {
    "execution": {
     "iopub.execute_input": "2021-12-09T13:00:11.122721Z",
     "iopub.status.busy": "2021-12-09T13:00:11.118929Z",
     "iopub.status.idle": "2021-12-09T13:00:11.131375Z",
     "shell.execute_reply": "2021-12-09T13:00:11.134539Z"
    },
    "papermill": {
     "duration": 0.079162,
     "end_time": "2021-12-09T13:00:11.135430",
     "exception": false,
     "start_time": "2021-12-09T13:00:11.056268",
     "status": "completed"
    },
    "tags": []
   },
   "outputs": [],
   "source": [
    "df_pivot.columns = [\"stamp_1\", \"stamp_2\"]\n",
    "df_pivot_diff = df_pivot.diff(axis=1)"
   ]
  },
  {
   "cell_type": "code",
   "execution_count": 7,
   "id": "fifth-motion",
   "metadata": {
    "execution": {
     "iopub.execute_input": "2021-12-09T13:00:11.213480Z",
     "iopub.status.busy": "2021-12-09T13:00:11.210151Z",
     "iopub.status.idle": "2021-12-09T13:00:12.974116Z",
     "shell.execute_reply": "2021-12-09T13:00:12.975307Z"
    },
    "papermill": {
     "duration": 1.809245,
     "end_time": "2021-12-09T13:00:12.975740",
     "exception": false,
     "start_time": "2021-12-09T13:00:11.166495",
     "status": "completed"
    },
    "tags": []
   },
   "outputs": [
    {
     "data": {
      "text/plain": [
       "<AxesSubplot:ylabel='PRODUCT'>"
      ]
     },
     "execution_count": 7,
     "metadata": {},
     "output_type": "execute_result"
    },
    {
     "data": {
      "image/png": "[encoded data removed]",
      "text/plain": [
       "<Figure size 432x288 with 1 Axes>"
      ]
     },
     "metadata": {
      "needs_background": "light"
     },
     "output_type": "display_data"
    }
   ],
   "source": [
    "df_pivot_diff.sort_values(\"stamp_2\", ascending = False)[\"stamp_2\"].head(10).plot.barh()"
   ]
  },
  {
   "cell_type": "code",
   "execution_count": null,
   "id": "extra-executive",
   "metadata": {
    "papermill": {
     "duration": 0.022254,
     "end_time": "2021-12-09T13:00:13.021228",
     "exception": false,
     "start_time": "2021-12-09T13:00:12.998974",
     "status": "completed"
    },
    "tags": []
   },
   "outputs": [],
   "source": []
  }
 ],
 "metadata": {
  "kernelspec": {
   "display_name": "Python 3",
   "language": "python",
   "name": "python3"
  },
  "language_info": {
   "codemirror_mode": {
    "name": "ipython",
    "version": 3
   },
   "file_extension": ".py",
   "mimetype": "text/x-python",
   "name": "python",
   "nbconvert_exporter": "python",
   "pygments_lexer": "ipython3",
   "version": "3.9.5"
  },
  "papermill": {
   "default_parameters": {},
   "duration": 9.952138,
   "end_time": "2021-12-09T13:00:14.342724",
   "environment_variables": {},
   "exception": null,
   "input_path": "eBay_Overview.ipynb",
   "output_path": "eBay_Overview.ipynb",
   "parameters": {},
   "start_time": "2021-12-09T13:00:04.390586",
   "version": "2.3.3"
  }
 },
 "nbformat": 4,
 "nbformat_minor": 5
}