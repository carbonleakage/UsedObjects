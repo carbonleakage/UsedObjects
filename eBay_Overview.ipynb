{
 "cells": [
  {
   "cell_type": "code",
   "execution_count": 1,
   "id": "reverse-picking",
   "metadata": {
    "execution": {
     "iopub.execute_input": "2021-09-05T01:00:06.737103Z",
     "iopub.status.busy": "2021-09-05T01:00:06.735161Z",
     "iopub.status.idle": "2021-09-05T01:00:07.540853Z",
     "shell.execute_reply": "2021-09-05T01:00:07.542099Z"
    },
    "papermill": {
     "duration": 0.859228,
     "end_time": "2021-09-05T01:00:07.542708",
     "exception": false,
     "start_time": "2021-09-05T01:00:06.683480",
     "status": "completed"
    },
    "tags": []
   },
   "outputs": [],
   "source": [
    "import pandas as pd\n",
    "import sqlite3"
   ]
  },
  {
   "cell_type": "code",
   "execution_count": 2,
   "id": "innovative-syndrome",
   "metadata": {
    "execution": {
     "iopub.execute_input": "2021-09-05T01:00:07.593739Z",
     "iopub.status.busy": "2021-09-05T01:00:07.591892Z",
     "iopub.status.idle": "2021-09-05T01:00:07.801503Z",
     "shell.execute_reply": "2021-09-05T01:00:07.802685Z"
    },
    "papermill": {
     "duration": 0.238999,
     "end_time": "2021-09-05T01:00:07.803197",
     "exception": false,
     "start_time": "2021-09-05T01:00:07.564198",
     "status": "completed"
    },
    "tags": []
   },
   "outputs": [],
   "source": [
    "timestamps = pd.read_sql(\"select distinct record_time from EBAY_TOP_BERLIN order by record_time desc limit 2\", sqlite3.connect(\"UsedObjects.db\"))"
   ]
  },
  {
   "cell_type": "code",
   "execution_count": 3,
   "id": "periodic-identification",
   "metadata": {
    "execution": {
     "iopub.execute_input": "2021-09-05T01:00:07.869740Z",
     "iopub.status.busy": "2021-09-05T01:00:07.867738Z",
     "iopub.status.idle": "2021-09-05T01:00:07.887602Z",
     "shell.execute_reply": "2021-09-05T01:00:07.888897Z"
    },
    "papermill": {
     "duration": 0.066748,
     "end_time": "2021-09-05T01:00:07.889311",
     "exception": false,
     "start_time": "2021-09-05T01:00:07.822563",
     "status": "completed"
    },
    "tags": []
   },
   "outputs": [
    {
     "data": {
      "text/html": [
       "<div>\n",
       "<style scoped>\n",
       "    .dataframe tbody tr th:only-of-type {\n",
       "        vertical-align: middle;\n",
       "    }\n",
       "\n",
       "    .dataframe tbody tr th {\n",
       "        vertical-align: top;\n",
       "    }\n",
       "\n",
       "    .dataframe thead th {\n",
       "        text-align: right;\n",
       "    }\n",
       "</style>\n",
       "<table border=\"1\" class=\"dataframe\">\n",
       "  <thead>\n",
       "    <tr style=\"text-align: right;\">\n",
       "      <th></th>\n",
       "      <th>RECORD_TIME</th>\n",
       "    </tr>\n",
       "  </thead>\n",
       "  <tbody>\n",
       "    <tr>\n",
       "      <th>0</th>\n",
       "      <td>2021-09-05 03:00</td>\n",
       "    </tr>\n",
       "    <tr>\n",
       "      <th>1</th>\n",
       "      <td>2021-09-05 02:30</td>\n",
       "    </tr>\n",
       "  </tbody>\n",
       "</table>\n",
       "</div>"
      ],
      "text/plain": [
       "        RECORD_TIME\n",
       "0  2021-09-05 03:00\n",
       "1  2021-09-05 02:30"
      ]
     },
     "execution_count": 3,
     "metadata": {},
     "output_type": "execute_result"
    }
   ],
   "source": [
    "timestamps"
   ]
  },
  {
   "cell_type": "code",
   "execution_count": 4,
   "id": "alternate-victory",
   "metadata": {
    "execution": {
     "iopub.execute_input": "2021-09-05T01:00:07.940326Z",
     "iopub.status.busy": "2021-09-05T01:00:07.938392Z",
     "iopub.status.idle": "2021-09-05T01:00:08.244769Z",
     "shell.execute_reply": "2021-09-05T01:00:08.245967Z"
    },
    "papermill": {
     "duration": 0.336017,
     "end_time": "2021-09-05T01:00:08.246363",
     "exception": false,
     "start_time": "2021-09-05T01:00:07.910346",
     "status": "completed"
    },
    "tags": []
   },
   "outputs": [],
   "source": [
    "df = pd.read_sql(\"select * from EBAY_TOP_BERLIN where record_time in (select distinct record_time from EBAY_TOP_BERLIN order by record_time desc limit 2)\", sqlite3.connect(\"UsedObjects.db\"))"
   ]
  },
  {
   "cell_type": "code",
   "execution_count": 5,
   "id": "popular-active",
   "metadata": {
    "execution": {
     "iopub.execute_input": "2021-09-05T01:00:08.328168Z",
     "iopub.status.busy": "2021-09-05T01:00:08.315492Z",
     "iopub.status.idle": "2021-09-05T01:00:08.343866Z",
     "shell.execute_reply": "2021-09-05T01:00:08.345147Z"
    },
    "papermill": {
     "duration": 0.071782,
     "end_time": "2021-09-05T01:00:08.345563",
     "exception": false,
     "start_time": "2021-09-05T01:00:08.273781",
     "status": "completed"
    },
    "tags": []
   },
   "outputs": [],
   "source": [
    "df_pivot = df.pivot_table(index=\"PRODUCT\", columns = \"RECORD_TIME\", values = \"LISTING_COUNT\")"
   ]
  },
  {
   "cell_type": "code",
   "execution_count": 6,
   "id": "union-huntington",
   "metadata": {
    "execution": {
     "iopub.execute_input": "2021-09-05T01:00:08.401687Z",
     "iopub.status.busy": "2021-09-05T01:00:08.399653Z",
     "iopub.status.idle": "2021-09-05T01:00:08.404851Z",
     "shell.execute_reply": "2021-09-05T01:00:08.406114Z"
    },
    "papermill": {
     "duration": 0.040063,
     "end_time": "2021-09-05T01:00:08.406534",
     "exception": false,
     "start_time": "2021-09-05T01:00:08.366471",
     "status": "completed"
    },
    "tags": []
   },
   "outputs": [],
   "source": [
    "df_pivot.columns = [\"stamp_1\", \"stamp_2\"]\n",
    "df_pivot_diff = df_pivot.diff(axis=1)"
   ]
  },
  {
   "cell_type": "code",
   "execution_count": 7,
   "id": "fifth-motion",
   "metadata": {
    "execution": {
     "iopub.execute_input": "2021-09-05T01:00:08.462081Z",
     "iopub.status.busy": "2021-09-05T01:00:08.459465Z",
     "iopub.status.idle": "2021-09-05T01:00:09.958801Z",
     "shell.execute_reply": "2021-09-05T01:00:09.960242Z"
    },
    "papermill": {
     "duration": 1.532996,
     "end_time": "2021-09-05T01:00:09.960685",
     "exception": false,
     "start_time": "2021-09-05T01:00:08.427689",
     "status": "completed"
    },
    "tags": []
   },
   "outputs": [
    {
     "data": {
      "text/plain": [
       "<AxesSubplot:ylabel='PRODUCT'>"
      ]
     },
     "execution_count": 7,
     "metadata": {},
     "output_type": "execute_result"
    },
    {
     "data": {
      "image/png": "[encoded data removed]",
      "text/plain": [
       "<Figure size 432x288 with 1 Axes>"
      ]
     },
     "metadata": {
      "needs_background": "light"
     },
     "output_type": "display_data"
    }
   ],
   "source": [
    "df_pivot_diff.sort_values(\"stamp_2\", ascending = False)[\"stamp_2\"].head(10).plot.barh()"
   ]
  },
  {
   "cell_type": "code",
   "execution_count": null,
   "id": "extra-executive",
   "metadata": {
    "papermill": {
     "duration": 0.022103,
     "end_time": "2021-09-05T01:00:10.006421",
     "exception": false,
     "start_time": "2021-09-05T01:00:09.984318",
     "status": "completed"
    },
    "tags": []
   },
   "outputs": [],
   "source": []
  }
 ],
 "metadata": {
  "kernelspec": {
   "display_name": "Python 3",
   "language": "python",
   "name": "python3"
  },
  "language_info": {
   "codemirror_mode": {
    "name": "ipython",
    "version": 3
   },
   "file_extension": ".py",
   "mimetype": "text/x-python",
   "name": "python",
   "nbconvert_exporter": "python",
   "pygments_lexer": "ipython3",
   "version": "3.9.5"
  },
  "papermill": {
   "default_parameters": {},
   "duration": 6.371639,
   "end_time": "2021-09-05T01:00:10.646570",
   "environment_variables": {},
   "exception": null,
   "input_path": "eBay_Overview.ipynb",
   "output_path": "eBay_Overview.ipynb",
   "parameters": {},
   "start_time": "2021-09-05T01:00:04.274931",
   "version": "2.3.3"
  }
 },
 "nbformat": 4,
 "nbformat_minor": 5
}