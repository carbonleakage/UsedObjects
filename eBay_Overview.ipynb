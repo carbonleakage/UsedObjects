{
 "cells": [
  {
   "cell_type": "code",
   "execution_count": 1,
   "id": "reverse-picking",
   "metadata": {
    "execution": {
     "iopub.execute_input": "2021-11-27T20:30:07.466900Z",
     "iopub.status.busy": "2021-11-27T20:30:07.464320Z",
     "iopub.status.idle": "2021-11-27T20:30:08.380375Z",
     "shell.execute_reply": "2021-11-27T20:30:08.381971Z"
    },
    "papermill": {
     "duration": 0.966805,
     "end_time": "2021-11-27T20:30:08.382796",
     "exception": false,
     "start_time": "2021-11-27T20:30:07.415991",
     "status": "completed"
    },
    "tags": []
   },
   "outputs": [],
   "source": [
    "import pandas as pd\n",
    "import sqlite3"
   ]
  },
  {
   "cell_type": "code",
   "execution_count": 2,
   "id": "innovative-syndrome",
   "metadata": {
    "execution": {
     "iopub.execute_input": "2021-11-27T20:30:08.459877Z",
     "iopub.status.busy": "2021-11-27T20:30:08.457673Z",
     "iopub.status.idle": "2021-11-27T20:30:09.389824Z",
     "shell.execute_reply": "2021-11-27T20:30:09.391333Z"
    },
    "papermill": {
     "duration": 0.967021,
     "end_time": "2021-11-27T20:30:09.391812",
     "exception": false,
     "start_time": "2021-11-27T20:30:08.424791",
     "status": "completed"
    },
    "tags": []
   },
   "outputs": [],
   "source": [
    "timestamps = pd.read_sql(\"select distinct record_time from EBAY_TOP_BERLIN order by record_time desc limit 2\", sqlite3.connect(\"UsedObjects.db\"))"
   ]
  },
  {
   "cell_type": "code",
   "execution_count": 3,
   "id": "periodic-identification",
   "metadata": {
    "execution": {
     "iopub.execute_input": "2021-11-27T20:30:09.461969Z",
     "iopub.status.busy": "2021-11-27T20:30:09.459611Z",
     "iopub.status.idle": "2021-11-27T20:30:09.485492Z",
     "shell.execute_reply": "2021-11-27T20:30:09.483404Z"
    },
    "papermill": {
     "duration": 0.0734,
     "end_time": "2021-11-27T20:30:09.485931",
     "exception": false,
     "start_time": "2021-11-27T20:30:09.412531",
     "status": "completed"
    },
    "tags": []
   },
   "outputs": [
    {
     "data": {
      "text/html": [
       "<div>\n",
       "<style scoped>\n",
       "    .dataframe tbody tr th:only-of-type {\n",
       "        vertical-align: middle;\n",
       "    }\n",
       "\n",
       "    .dataframe tbody tr th {\n",
       "        vertical-align: top;\n",
       "    }\n",
       "\n",
       "    .dataframe thead th {\n",
       "        text-align: right;\n",
       "    }\n",
       "</style>\n",
       "<table border=\"1\" class=\"dataframe\">\n",
       "  <thead>\n",
       "    <tr style=\"text-align: right;\">\n",
       "      <th></th>\n",
       "      <th>RECORD_TIME</th>\n",
       "    </tr>\n",
       "  </thead>\n",
       "  <tbody>\n",
       "    <tr>\n",
       "      <th>0</th>\n",
       "      <td>2021-11-27 21:30</td>\n",
       "    </tr>\n",
       "    <tr>\n",
       "      <th>1</th>\n",
       "      <td>2021-11-27 21:00</td>\n",
       "    </tr>\n",
       "  </tbody>\n",
       "</table>\n",
       "</div>"
      ],
      "text/plain": [
       "        RECORD_TIME\n",
       "0  2021-11-27 21:30\n",
       "1  2021-11-27 21:00"
      ]
     },
     "execution_count": 3,
     "metadata": {},
     "output_type": "execute_result"
    }
   ],
   "source": [
    "timestamps"
   ]
  },
  {
   "cell_type": "code",
   "execution_count": 4,
   "id": "alternate-victory",
   "metadata": {
    "execution": {
     "iopub.execute_input": "2021-11-27T20:30:09.541329Z",
     "iopub.status.busy": "2021-11-27T20:30:09.539368Z",
     "iopub.status.idle": "2021-11-27T20:30:10.960103Z",
     "shell.execute_reply": "2021-11-27T20:30:10.962241Z"
    },
    "papermill": {
     "duration": 1.452651,
     "end_time": "2021-11-27T20:30:10.962713",
     "exception": false,
     "start_time": "2021-11-27T20:30:09.510062",
     "status": "completed"
    },
    "tags": []
   },
   "outputs": [],
   "source": [
    "df = pd.read_sql(\"select * from EBAY_TOP_BERLIN where record_time in (select distinct record_time from EBAY_TOP_BERLIN order by record_time desc limit 2)\", sqlite3.connect(\"UsedObjects.db\"))"
   ]
  },
  {
   "cell_type": "code",
   "execution_count": 5,
   "id": "popular-active",
   "metadata": {
    "execution": {
     "iopub.execute_input": "2021-11-27T20:30:11.030035Z",
     "iopub.status.busy": "2021-11-27T20:30:11.021350Z",
     "iopub.status.idle": "2021-11-27T20:30:11.057389Z",
     "shell.execute_reply": "2021-11-27T20:30:11.055899Z"
    },
    "papermill": {
     "duration": 0.074699,
     "end_time": "2021-11-27T20:30:11.057815",
     "exception": false,
     "start_time": "2021-11-27T20:30:10.983116",
     "status": "completed"
    },
    "tags": []
   },
   "outputs": [],
   "source": [
    "df_pivot = df.pivot_table(index=\"PRODUCT\", columns = \"RECORD_TIME\", values = \"LISTING_COUNT\")"
   ]
  },
  {
   "cell_type": "code",
   "execution_count": 6,
   "id": "union-huntington",
   "metadata": {
    "execution": {
     "iopub.execute_input": "2021-11-27T20:30:11.120742Z",
     "iopub.status.busy": "2021-11-27T20:30:11.118119Z",
     "iopub.status.idle": "2021-11-27T20:30:11.124237Z",
     "shell.execute_reply": "2021-11-27T20:30:11.126195Z"
    },
    "papermill": {
     "duration": 0.046405,
     "end_time": "2021-11-27T20:30:11.126841",
     "exception": false,
     "start_time": "2021-11-27T20:30:11.080436",
     "status": "completed"
    },
    "tags": []
   },
   "outputs": [],
   "source": [
    "df_pivot.columns = [\"stamp_1\", \"stamp_2\"]\n",
    "df_pivot_diff = df_pivot.diff(axis=1)"
   ]
  },
  {
   "cell_type": "code",
   "execution_count": 7,
   "id": "fifth-motion",
   "metadata": {
    "execution": {
     "iopub.execute_input": "2021-11-27T20:30:11.192069Z",
     "iopub.status.busy": "2021-11-27T20:30:11.189650Z",
     "iopub.status.idle": "2021-11-27T20:30:13.191264Z",
     "shell.execute_reply": "2021-11-27T20:30:13.193731Z"
    },
    "papermill": {
     "duration": 2.041308,
     "end_time": "2021-11-27T20:30:13.194424",
     "exception": false,
     "start_time": "2021-11-27T20:30:11.153116",
     "status": "completed"
    },
    "tags": []
   },
   "outputs": [
    {
     "data": {
      "text/plain": [
       "<AxesSubplot:ylabel='PRODUCT'>"
      ]
     },
     "execution_count": 7,
     "metadata": {},
     "output_type": "execute_result"
    },
    {
     "data": {
      "image/png": "[encoded data removed]",
      "text/plain": [
       "<Figure size 432x288 with 1 Axes>"
      ]
     },
     "metadata": {
      "needs_background": "light"
     },
     "output_type": "display_data"
    }
   ],
   "source": [
    "df_pivot_diff.sort_values(\"stamp_2\", ascending = False)[\"stamp_2\"].head(10).plot.barh()"
   ]
  },
  {
   "cell_type": "code",
   "execution_count": null,
   "id": "extra-executive",
   "metadata": {
    "papermill": {
     "duration": 0.036768,
     "end_time": "2021-11-27T20:30:13.265931",
     "exception": false,
     "start_time": "2021-11-27T20:30:13.229163",
     "status": "completed"
    },
    "tags": []
   },
   "outputs": [],
   "source": []
  }
 ],
 "metadata": {
  "kernelspec": {
   "display_name": "Python 3",
   "language": "python",
   "name": "python3"
  },
  "language_info": {
   "codemirror_mode": {
    "name": "ipython",
    "version": 3
   },
   "file_extension": ".py",
   "mimetype": "text/x-python",
   "name": "python",
   "nbconvert_exporter": "python",
   "pygments_lexer": "ipython3",
   "version": "3.9.5"
  },
  "papermill": {
   "default_parameters": {},
   "duration": 9.937688,
   "end_time": "2021-11-27T20:30:14.632504",
   "environment_variables": {},
   "exception": null,
   "input_path": "eBay_Overview.ipynb",
   "output_path": "eBay_Overview.ipynb",
   "parameters": {},
   "start_time": "2021-11-27T20:30:04.694816",
   "version": "2.3.3"
  }
 },
 "nbformat": 4,
 "nbformat_minor": 5
}