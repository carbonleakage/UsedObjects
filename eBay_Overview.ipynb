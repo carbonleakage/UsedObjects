{
 "cells": [
  {
   "cell_type": "code",
   "execution_count": 1,
   "id": "reverse-picking",
   "metadata": {
    "execution": {
     "iopub.execute_input": "2021-11-06T00:00:08.308486Z",
     "iopub.status.busy": "2021-11-06T00:00:08.306202Z",
     "iopub.status.idle": "2021-11-06T00:00:09.278835Z",
     "shell.execute_reply": "2021-11-06T00:00:09.280391Z"
    },
    "papermill": {
     "duration": 1.020866,
     "end_time": "2021-11-06T00:00:09.281211",
     "exception": false,
     "start_time": "2021-11-06T00:00:08.260345",
     "status": "completed"
    },
    "tags": []
   },
   "outputs": [],
   "source": [
    "import pandas as pd\n",
    "import sqlite3"
   ]
  },
  {
   "cell_type": "code",
   "execution_count": 2,
   "id": "innovative-syndrome",
   "metadata": {
    "execution": {
     "iopub.execute_input": "2021-11-06T00:00:09.408402Z",
     "iopub.status.busy": "2021-11-06T00:00:09.406198Z",
     "iopub.status.idle": "2021-11-06T00:00:10.164602Z",
     "shell.execute_reply": "2021-11-06T00:00:10.166171Z"
    },
    "papermill": {
     "duration": 0.793802,
     "end_time": "2021-11-06T00:00:10.166757",
     "exception": false,
     "start_time": "2021-11-06T00:00:09.372955",
     "status": "completed"
    },
    "tags": []
   },
   "outputs": [],
   "source": [
    "timestamps = pd.read_sql(\"select distinct record_time from EBAY_TOP_BERLIN order by record_time desc limit 2\", sqlite3.connect(\"UsedObjects.db\"))"
   ]
  },
  {
   "cell_type": "code",
   "execution_count": 3,
   "id": "periodic-identification",
   "metadata": {
    "execution": {
     "iopub.execute_input": "2021-11-06T00:00:10.242757Z",
     "iopub.status.busy": "2021-11-06T00:00:10.237192Z",
     "iopub.status.idle": "2021-11-06T00:00:10.259816Z",
     "shell.execute_reply": "2021-11-06T00:00:10.261406Z"
    },
    "papermill": {
     "duration": 0.073099,
     "end_time": "2021-11-06T00:00:10.261898",
     "exception": false,
     "start_time": "2021-11-06T00:00:10.188799",
     "status": "completed"
    },
    "tags": []
   },
   "outputs": [
    {
     "data": {
      "text/html": [
       "<div>\n",
       "<style scoped>\n",
       "    .dataframe tbody tr th:only-of-type {\n",
       "        vertical-align: middle;\n",
       "    }\n",
       "\n",
       "    .dataframe tbody tr th {\n",
       "        vertical-align: top;\n",
       "    }\n",
       "\n",
       "    .dataframe thead th {\n",
       "        text-align: right;\n",
       "    }\n",
       "</style>\n",
       "<table border=\"1\" class=\"dataframe\">\n",
       "  <thead>\n",
       "    <tr style=\"text-align: right;\">\n",
       "      <th></th>\n",
       "      <th>RECORD_TIME</th>\n",
       "    </tr>\n",
       "  </thead>\n",
       "  <tbody>\n",
       "    <tr>\n",
       "      <th>0</th>\n",
       "      <td>2021-11-06 01:00</td>\n",
       "    </tr>\n",
       "    <tr>\n",
       "      <th>1</th>\n",
       "      <td>2021-11-06 00:30</td>\n",
       "    </tr>\n",
       "  </tbody>\n",
       "</table>\n",
       "</div>"
      ],
      "text/plain": [
       "        RECORD_TIME\n",
       "0  2021-11-06 01:00\n",
       "1  2021-11-06 00:30"
      ]
     },
     "execution_count": 3,
     "metadata": {},
     "output_type": "execute_result"
    }
   ],
   "source": [
    "timestamps"
   ]
  },
  {
   "cell_type": "code",
   "execution_count": 4,
   "id": "alternate-victory",
   "metadata": {
    "execution": {
     "iopub.execute_input": "2021-11-06T00:00:10.318900Z",
     "iopub.status.busy": "2021-11-06T00:00:10.316607Z",
     "iopub.status.idle": "2021-11-06T00:00:11.422767Z",
     "shell.execute_reply": "2021-11-06T00:00:11.424402Z"
    },
    "papermill": {
     "duration": 1.141537,
     "end_time": "2021-11-06T00:00:11.424956",
     "exception": false,
     "start_time": "2021-11-06T00:00:10.283419",
     "status": "completed"
    },
    "tags": []
   },
   "outputs": [],
   "source": [
    "df = pd.read_sql(\"select * from EBAY_TOP_BERLIN where record_time in (select distinct record_time from EBAY_TOP_BERLIN order by record_time desc limit 2)\", sqlite3.connect(\"UsedObjects.db\"))"
   ]
  },
  {
   "cell_type": "code",
   "execution_count": 5,
   "id": "popular-active",
   "metadata": {
    "execution": {
     "iopub.execute_input": "2021-11-06T00:00:11.503081Z",
     "iopub.status.busy": "2021-11-06T00:00:11.490273Z",
     "iopub.status.idle": "2021-11-06T00:00:11.523659Z",
     "shell.execute_reply": "2021-11-06T00:00:11.525178Z"
    },
    "papermill": {
     "duration": 0.078588,
     "end_time": "2021-11-06T00:00:11.525677",
     "exception": false,
     "start_time": "2021-11-06T00:00:11.447089",
     "status": "completed"
    },
    "tags": []
   },
   "outputs": [],
   "source": [
    "df_pivot = df.pivot_table(index=\"PRODUCT\", columns = \"RECORD_TIME\", values = \"LISTING_COUNT\")"
   ]
  },
  {
   "cell_type": "code",
   "execution_count": 6,
   "id": "union-huntington",
   "metadata": {
    "execution": {
     "iopub.execute_input": "2021-11-06T00:00:11.588975Z",
     "iopub.status.busy": "2021-11-06T00:00:11.586709Z",
     "iopub.status.idle": "2021-11-06T00:00:11.593091Z",
     "shell.execute_reply": "2021-11-06T00:00:11.594677Z"
    },
    "papermill": {
     "duration": 0.047867,
     "end_time": "2021-11-06T00:00:11.595158",
     "exception": false,
     "start_time": "2021-11-06T00:00:11.547291",
     "status": "completed"
    },
    "tags": []
   },
   "outputs": [],
   "source": [
    "df_pivot.columns = [\"stamp_1\", \"stamp_2\"]\n",
    "df_pivot_diff = df_pivot.diff(axis=1)"
   ]
  },
  {
   "cell_type": "code",
   "execution_count": 7,
   "id": "fifth-motion",
   "metadata": {
    "execution": {
     "iopub.execute_input": "2021-11-06T00:00:11.655251Z",
     "iopub.status.busy": "2021-11-06T00:00:11.652013Z",
     "iopub.status.idle": "2021-11-06T00:00:13.479110Z",
     "shell.execute_reply": "2021-11-06T00:00:13.480520Z"
    },
    "papermill": {
     "duration": 1.864579,
     "end_time": "2021-11-06T00:00:13.481109",
     "exception": false,
     "start_time": "2021-11-06T00:00:11.616530",
     "status": "completed"
    },
    "tags": []
   },
   "outputs": [
    {
     "data": {
      "text/plain": [
       "<AxesSubplot:ylabel='PRODUCT'>"
      ]
     },
     "execution_count": 7,
     "metadata": {},
     "output_type": "execute_result"
    },
    {
     "data": {
      "image/png": "[encoded data removed]",
      "text/plain": [
       "<Figure size 432x288 with 1 Axes>"
      ]
     },
     "metadata": {
      "needs_background": "light"
     },
     "output_type": "display_data"
    }
   ],
   "source": [
    "df_pivot_diff.sort_values(\"stamp_2\", ascending = False)[\"stamp_2\"].head(10).plot.barh()"
   ]
  },
  {
   "cell_type": "code",
   "execution_count": null,
   "id": "extra-executive",
   "metadata": {
    "papermill": {
     "duration": 0.05835,
     "end_time": "2021-11-06T00:00:13.565239",
     "exception": false,
     "start_time": "2021-11-06T00:00:13.506889",
     "status": "completed"
    },
    "tags": []
   },
   "outputs": [],
   "source": []
  }
 ],
 "metadata": {
  "kernelspec": {
   "display_name": "Python 3",
   "language": "python",
   "name": "python3"
  },
  "language_info": {
   "codemirror_mode": {
    "name": "ipython",
    "version": 3
   },
   "file_extension": ".py",
   "mimetype": "text/x-python",
   "name": "python",
   "nbconvert_exporter": "python",
   "pygments_lexer": "ipython3",
   "version": "3.9.5"
  },
  "papermill": {
   "default_parameters": {},
   "duration": 10.031448,
   "end_time": "2021-11-06T00:00:15.450462",
   "environment_variables": {},
   "exception": null,
   "input_path": "eBay_Overview.ipynb",
   "output_path": "eBay_Overview.ipynb",
   "parameters": {},
   "start_time": "2021-11-06T00:00:05.419014",
   "version": "2.3.3"
  }
 },
 "nbformat": 4,
 "nbformat_minor": 5
}