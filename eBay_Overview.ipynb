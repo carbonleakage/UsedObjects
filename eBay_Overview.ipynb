{
 "cells": [
  {
   "cell_type": "code",
   "execution_count": 1,
   "id": "reverse-picking",
   "metadata": {
    "execution": {
     "iopub.execute_input": "2021-08-24T02:00:07.152087Z",
     "iopub.status.busy": "2021-08-24T02:00:07.150162Z",
     "iopub.status.idle": "2021-08-24T02:00:07.956938Z",
     "shell.execute_reply": "2021-08-24T02:00:07.958422Z"
    },
    "papermill": {
     "duration": 0.860772,
     "end_time": "2021-08-24T02:00:07.959082",
     "exception": false,
     "start_time": "2021-08-24T02:00:07.098310",
     "status": "completed"
    },
    "tags": []
   },
   "outputs": [],
   "source": [
    "import pandas as pd\n",
    "import sqlite3"
   ]
  },
  {
   "cell_type": "code",
   "execution_count": 2,
   "id": "innovative-syndrome",
   "metadata": {
    "execution": {
     "iopub.execute_input": "2021-08-24T02:00:08.011213Z",
     "iopub.status.busy": "2021-08-24T02:00:08.008817Z",
     "iopub.status.idle": "2021-08-24T02:00:08.128345Z",
     "shell.execute_reply": "2021-08-24T02:00:08.129619Z"
    },
    "papermill": {
     "duration": 0.149645,
     "end_time": "2021-08-24T02:00:08.130101",
     "exception": false,
     "start_time": "2021-08-24T02:00:07.980456",
     "status": "completed"
    },
    "tags": []
   },
   "outputs": [],
   "source": [
    "timestamps = pd.read_sql(\"select distinct record_time from EBAY_TOP_BERLIN order by record_time desc limit 2\", sqlite3.connect(\"UsedObjects.db\"))"
   ]
  },
  {
   "cell_type": "code",
   "execution_count": 3,
   "id": "periodic-identification",
   "metadata": {
    "execution": {
     "iopub.execute_input": "2021-08-24T02:00:08.199289Z",
     "iopub.status.busy": "2021-08-24T02:00:08.194254Z",
     "iopub.status.idle": "2021-08-24T02:00:08.213914Z",
     "shell.execute_reply": "2021-08-24T02:00:08.215320Z"
    },
    "papermill": {
     "duration": 0.06653,
     "end_time": "2021-08-24T02:00:08.215746",
     "exception": false,
     "start_time": "2021-08-24T02:00:08.149216",
     "status": "completed"
    },
    "tags": []
   },
   "outputs": [
    {
     "data": {
      "text/html": [
       "<div>\n",
       "<style scoped>\n",
       "    .dataframe tbody tr th:only-of-type {\n",
       "        vertical-align: middle;\n",
       "    }\n",
       "\n",
       "    .dataframe tbody tr th {\n",
       "        vertical-align: top;\n",
       "    }\n",
       "\n",
       "    .dataframe thead th {\n",
       "        text-align: right;\n",
       "    }\n",
       "</style>\n",
       "<table border=\"1\" class=\"dataframe\">\n",
       "  <thead>\n",
       "    <tr style=\"text-align: right;\">\n",
       "      <th></th>\n",
       "      <th>RECORD_TIME</th>\n",
       "    </tr>\n",
       "  </thead>\n",
       "  <tbody>\n",
       "    <tr>\n",
       "      <th>0</th>\n",
       "      <td>2021-08-24 04:00</td>\n",
       "    </tr>\n",
       "    <tr>\n",
       "      <th>1</th>\n",
       "      <td>2021-08-24 03:30</td>\n",
       "    </tr>\n",
       "  </tbody>\n",
       "</table>\n",
       "</div>"
      ],
      "text/plain": [
       "        RECORD_TIME\n",
       "0  2021-08-24 04:00\n",
       "1  2021-08-24 03:30"
      ]
     },
     "execution_count": 3,
     "metadata": {},
     "output_type": "execute_result"
    }
   ],
   "source": [
    "timestamps"
   ]
  },
  {
   "cell_type": "code",
   "execution_count": 4,
   "id": "alternate-victory",
   "metadata": {
    "execution": {
     "iopub.execute_input": "2021-08-24T02:00:08.267213Z",
     "iopub.status.busy": "2021-08-24T02:00:08.265269Z",
     "iopub.status.idle": "2021-08-24T02:00:08.438141Z",
     "shell.execute_reply": "2021-08-24T02:00:08.439535Z"
    },
    "papermill": {
     "duration": 0.203057,
     "end_time": "2021-08-24T02:00:08.439957",
     "exception": false,
     "start_time": "2021-08-24T02:00:08.236900",
     "status": "completed"
    },
    "tags": []
   },
   "outputs": [],
   "source": [
    "df = pd.read_sql(\"select * from EBAY_TOP_BERLIN where record_time in (select distinct record_time from EBAY_TOP_BERLIN order by record_time desc limit 2)\", sqlite3.connect(\"UsedObjects.db\"))"
   ]
  },
  {
   "cell_type": "code",
   "execution_count": 5,
   "id": "popular-active",
   "metadata": {
    "execution": {
     "iopub.execute_input": "2021-08-24T02:00:08.511873Z",
     "iopub.status.busy": "2021-08-24T02:00:08.498981Z",
     "iopub.status.idle": "2021-08-24T02:00:08.527382Z",
     "shell.execute_reply": "2021-08-24T02:00:08.528597Z"
    },
    "papermill": {
     "duration": 0.068144,
     "end_time": "2021-08-24T02:00:08.528995",
     "exception": false,
     "start_time": "2021-08-24T02:00:08.460851",
     "status": "completed"
    },
    "tags": []
   },
   "outputs": [],
   "source": [
    "df_pivot = df.pivot_table(index=\"PRODUCT\", columns = \"RECORD_TIME\", values = \"LISTING_COUNT\")"
   ]
  },
  {
   "cell_type": "code",
   "execution_count": 6,
   "id": "union-huntington",
   "metadata": {
    "execution": {
     "iopub.execute_input": "2021-08-24T02:00:08.595320Z",
     "iopub.status.busy": "2021-08-24T02:00:08.593211Z",
     "iopub.status.idle": "2021-08-24T02:00:08.598503Z",
     "shell.execute_reply": "2021-08-24T02:00:08.599797Z"
    },
    "papermill": {
     "duration": 0.044765,
     "end_time": "2021-08-24T02:00:08.600218",
     "exception": false,
     "start_time": "2021-08-24T02:00:08.555453",
     "status": "completed"
    },
    "tags": []
   },
   "outputs": [],
   "source": [
    "df_pivot.columns = [\"stamp_1\", \"stamp_2\"]\n",
    "df_pivot_diff = df_pivot.diff(axis=1)"
   ]
  },
  {
   "cell_type": "code",
   "execution_count": 7,
   "id": "fifth-motion",
   "metadata": {
    "execution": {
     "iopub.execute_input": "2021-08-24T02:00:08.655192Z",
     "iopub.status.busy": "2021-08-24T02:00:08.652556Z",
     "iopub.status.idle": "2021-08-24T02:00:10.147202Z",
     "shell.execute_reply": "2021-08-24T02:00:10.148508Z"
    },
    "papermill": {
     "duration": 1.527396,
     "end_time": "2021-08-24T02:00:10.148933",
     "exception": false,
     "start_time": "2021-08-24T02:00:08.621537",
     "status": "completed"
    },
    "tags": []
   },
   "outputs": [
    {
     "data": {
      "text/plain": [
       "<AxesSubplot:ylabel='PRODUCT'>"
      ]
     },
     "execution_count": 7,
     "metadata": {},
     "output_type": "execute_result"
    },
    {
     "data": {
      "image/png": "[encoded data removed]",
      "text/plain": [
       "<Figure size 432x288 with 1 Axes>"
      ]
     },
     "metadata": {
      "needs_background": "light"
     },
     "output_type": "display_data"
    }
   ],
   "source": [
    "df_pivot_diff.sort_values(\"stamp_2\", ascending = False)[\"stamp_2\"].head(10).plot.barh()"
   ]
  },
  {
   "cell_type": "code",
   "execution_count": null,
   "id": "extra-executive",
   "metadata": {
    "papermill": {
     "duration": 0.022206,
     "end_time": "2021-08-24T02:00:10.195696",
     "exception": false,
     "start_time": "2021-08-24T02:00:10.173490",
     "status": "completed"
    },
    "tags": []
   },
   "outputs": [],
   "source": []
  }
 ],
 "metadata": {
  "kernelspec": {
   "display_name": "Python 3",
   "language": "python",
   "name": "python3"
  },
  "language_info": {
   "codemirror_mode": {
    "name": "ipython",
    "version": 3
   },
   "file_extension": ".py",
   "mimetype": "text/x-python",
   "name": "python",
   "nbconvert_exporter": "python",
   "pygments_lexer": "ipython3",
   "version": "3.9.5"
  },
  "papermill": {
   "default_parameters": {},
   "duration": 6.826764,
   "end_time": "2021-08-24T02:00:11.508642",
   "environment_variables": {},
   "exception": null,
   "input_path": "eBay_Overview.ipynb",
   "output_path": "eBay_Overview.ipynb",
   "parameters": {},
   "start_time": "2021-08-24T02:00:04.681878",
   "version": "2.3.3"
  }
 },
 "nbformat": 4,
 "nbformat_minor": 5
}