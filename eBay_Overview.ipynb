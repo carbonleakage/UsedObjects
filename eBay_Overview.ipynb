{
 "cells": [
  {
   "cell_type": "code",
   "execution_count": 1,
   "id": "reverse-picking",
   "metadata": {
    "execution": {
     "iopub.execute_input": "2021-09-06T00:00:07.289382Z",
     "iopub.status.busy": "2021-09-06T00:00:07.287477Z",
     "iopub.status.idle": "2021-09-06T00:00:08.091006Z",
     "shell.execute_reply": "2021-09-06T00:00:08.092359Z"
    },
    "papermill": {
     "duration": 0.857192,
     "end_time": "2021-09-06T00:00:08.092996",
     "exception": false,
     "start_time": "2021-09-06T00:00:07.235804",
     "status": "completed"
    },
    "tags": []
   },
   "outputs": [],
   "source": [
    "import pandas as pd\n",
    "import sqlite3"
   ]
  },
  {
   "cell_type": "code",
   "execution_count": 2,
   "id": "innovative-syndrome",
   "metadata": {
    "execution": {
     "iopub.execute_input": "2021-09-06T00:00:08.143836Z",
     "iopub.status.busy": "2021-09-06T00:00:08.141896Z",
     "iopub.status.idle": "2021-09-06T00:00:08.358683Z",
     "shell.execute_reply": "2021-09-06T00:00:08.360800Z"
    },
    "papermill": {
     "duration": 0.247103,
     "end_time": "2021-09-06T00:00:08.361246",
     "exception": false,
     "start_time": "2021-09-06T00:00:08.114143",
     "status": "completed"
    },
    "tags": []
   },
   "outputs": [],
   "source": [
    "timestamps = pd.read_sql(\"select distinct record_time from EBAY_TOP_BERLIN order by record_time desc limit 2\", sqlite3.connect(\"UsedObjects.db\"))"
   ]
  },
  {
   "cell_type": "code",
   "execution_count": 3,
   "id": "periodic-identification",
   "metadata": {
    "execution": {
     "iopub.execute_input": "2021-09-06T00:00:08.426530Z",
     "iopub.status.busy": "2021-09-06T00:00:08.424534Z",
     "iopub.status.idle": "2021-09-06T00:00:08.446573Z",
     "shell.execute_reply": "2021-09-06T00:00:08.448132Z"
    },
    "papermill": {
     "duration": 0.068066,
     "end_time": "2021-09-06T00:00:08.448605",
     "exception": false,
     "start_time": "2021-09-06T00:00:08.380539",
     "status": "completed"
    },
    "tags": []
   },
   "outputs": [
    {
     "data": {
      "text/html": [
       "<div>\n",
       "<style scoped>\n",
       "    .dataframe tbody tr th:only-of-type {\n",
       "        vertical-align: middle;\n",
       "    }\n",
       "\n",
       "    .dataframe tbody tr th {\n",
       "        vertical-align: top;\n",
       "    }\n",
       "\n",
       "    .dataframe thead th {\n",
       "        text-align: right;\n",
       "    }\n",
       "</style>\n",
       "<table border=\"1\" class=\"dataframe\">\n",
       "  <thead>\n",
       "    <tr style=\"text-align: right;\">\n",
       "      <th></th>\n",
       "      <th>RECORD_TIME</th>\n",
       "    </tr>\n",
       "  </thead>\n",
       "  <tbody>\n",
       "    <tr>\n",
       "      <th>0</th>\n",
       "      <td>2021-09-06 02:00</td>\n",
       "    </tr>\n",
       "    <tr>\n",
       "      <th>1</th>\n",
       "      <td>2021-09-06 01:30</td>\n",
       "    </tr>\n",
       "  </tbody>\n",
       "</table>\n",
       "</div>"
      ],
      "text/plain": [
       "        RECORD_TIME\n",
       "0  2021-09-06 02:00\n",
       "1  2021-09-06 01:30"
      ]
     },
     "execution_count": 3,
     "metadata": {},
     "output_type": "execute_result"
    }
   ],
   "source": [
    "timestamps"
   ]
  },
  {
   "cell_type": "code",
   "execution_count": 4,
   "id": "alternate-victory",
   "metadata": {
    "execution": {
     "iopub.execute_input": "2021-09-06T00:00:08.498718Z",
     "iopub.status.busy": "2021-09-06T00:00:08.496898Z",
     "iopub.status.idle": "2021-09-06T00:00:08.826142Z",
     "shell.execute_reply": "2021-09-06T00:00:08.827554Z"
    },
    "papermill": {
     "duration": 0.359164,
     "end_time": "2021-09-06T00:00:08.827966",
     "exception": false,
     "start_time": "2021-09-06T00:00:08.468802",
     "status": "completed"
    },
    "tags": []
   },
   "outputs": [],
   "source": [
    "df = pd.read_sql(\"select * from EBAY_TOP_BERLIN where record_time in (select distinct record_time from EBAY_TOP_BERLIN order by record_time desc limit 2)\", sqlite3.connect(\"UsedObjects.db\"))"
   ]
  },
  {
   "cell_type": "code",
   "execution_count": 5,
   "id": "popular-active",
   "metadata": {
    "execution": {
     "iopub.execute_input": "2021-09-06T00:00:08.914461Z",
     "iopub.status.busy": "2021-09-06T00:00:08.903497Z",
     "iopub.status.idle": "2021-09-06T00:00:08.929835Z",
     "shell.execute_reply": "2021-09-06T00:00:08.931200Z"
    },
    "papermill": {
     "duration": 0.073375,
     "end_time": "2021-09-06T00:00:08.931619",
     "exception": false,
     "start_time": "2021-09-06T00:00:08.858244",
     "status": "completed"
    },
    "tags": []
   },
   "outputs": [],
   "source": [
    "df_pivot = df.pivot_table(index=\"PRODUCT\", columns = \"RECORD_TIME\", values = \"LISTING_COUNT\")"
   ]
  },
  {
   "cell_type": "code",
   "execution_count": 6,
   "id": "union-huntington",
   "metadata": {
    "execution": {
     "iopub.execute_input": "2021-09-06T00:00:08.987671Z",
     "iopub.status.busy": "2021-09-06T00:00:08.985594Z",
     "iopub.status.idle": "2021-09-06T00:00:08.990945Z",
     "shell.execute_reply": "2021-09-06T00:00:08.992234Z"
    },
    "papermill": {
     "duration": 0.040769,
     "end_time": "2021-09-06T00:00:08.992643",
     "exception": false,
     "start_time": "2021-09-06T00:00:08.951874",
     "status": "completed"
    },
    "tags": []
   },
   "outputs": [],
   "source": [
    "df_pivot.columns = [\"stamp_1\", \"stamp_2\"]\n",
    "df_pivot_diff = df_pivot.diff(axis=1)"
   ]
  },
  {
   "cell_type": "code",
   "execution_count": 7,
   "id": "fifth-motion",
   "metadata": {
    "execution": {
     "iopub.execute_input": "2021-09-06T00:00:09.046369Z",
     "iopub.status.busy": "2021-09-06T00:00:09.044001Z",
     "iopub.status.idle": "2021-09-06T00:00:10.513081Z",
     "shell.execute_reply": "2021-09-06T00:00:10.514354Z"
    },
    "papermill": {
     "duration": 1.501768,
     "end_time": "2021-09-06T00:00:10.514763",
     "exception": false,
     "start_time": "2021-09-06T00:00:09.012995",
     "status": "completed"
    },
    "tags": []
   },
   "outputs": [
    {
     "data": {
      "text/plain": [
       "<AxesSubplot:ylabel='PRODUCT'>"
      ]
     },
     "execution_count": 7,
     "metadata": {},
     "output_type": "execute_result"
    },
    {
     "data": {
      "image/png": "[encoded data removed]",
      "text/plain": [
       "<Figure size 432x288 with 1 Axes>"
      ]
     },
     "metadata": {
      "needs_background": "light"
     },
     "output_type": "display_data"
    }
   ],
   "source": [
    "df_pivot_diff.sort_values(\"stamp_2\", ascending = False)[\"stamp_2\"].head(10).plot.barh()"
   ]
  },
  {
   "cell_type": "code",
   "execution_count": null,
   "id": "extra-executive",
   "metadata": {
    "papermill": {
     "duration": 0.022043,
     "end_time": "2021-09-06T00:00:10.561276",
     "exception": false,
     "start_time": "2021-09-06T00:00:10.539233",
     "status": "completed"
    },
    "tags": []
   },
   "outputs": [],
   "source": []
  }
 ],
 "metadata": {
  "kernelspec": {
   "display_name": "Python 3",
   "language": "python",
   "name": "python3"
  },
  "language_info": {
   "codemirror_mode": {
    "name": "ipython",
    "version": 3
   },
   "file_extension": ".py",
   "mimetype": "text/x-python",
   "name": "python",
   "nbconvert_exporter": "python",
   "pygments_lexer": "ipython3",
   "version": "3.9.5"
  },
  "papermill": {
   "default_parameters": {},
   "duration": 6.366714,
   "end_time": "2021-09-06T00:00:11.202492",
   "environment_variables": {},
   "exception": null,
   "input_path": "eBay_Overview.ipynb",
   "output_path": "eBay_Overview.ipynb",
   "parameters": {},
   "start_time": "2021-09-06T00:00:04.835778",
   "version": "2.3.3"
  }
 },
 "nbformat": 4,
 "nbformat_minor": 5
}