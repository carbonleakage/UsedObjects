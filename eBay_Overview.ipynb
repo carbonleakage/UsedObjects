{
 "cells": [
  {
   "cell_type": "code",
   "execution_count": 1,
   "id": "reverse-picking",
   "metadata": {
    "execution": {
     "iopub.execute_input": "2021-09-06T11:00:06.874328Z",
     "iopub.status.busy": "2021-09-06T11:00:06.872397Z",
     "iopub.status.idle": "2021-09-06T11:00:07.675320Z",
     "shell.execute_reply": "2021-09-06T11:00:07.676672Z"
    },
    "papermill": {
     "duration": 0.853245,
     "end_time": "2021-09-06T11:00:07.677325",
     "exception": false,
     "start_time": "2021-09-06T11:00:06.824080",
     "status": "completed"
    },
    "tags": []
   },
   "outputs": [],
   "source": [
    "import pandas as pd\n",
    "import sqlite3"
   ]
  },
  {
   "cell_type": "code",
   "execution_count": 2,
   "id": "innovative-syndrome",
   "metadata": {
    "execution": {
     "iopub.execute_input": "2021-09-06T11:00:07.728226Z",
     "iopub.status.busy": "2021-09-06T11:00:07.726264Z",
     "iopub.status.idle": "2021-09-06T11:00:07.944667Z",
     "shell.execute_reply": "2021-09-06T11:00:07.946022Z"
    },
    "papermill": {
     "duration": 0.247946,
     "end_time": "2021-09-06T11:00:07.946455",
     "exception": false,
     "start_time": "2021-09-06T11:00:07.698509",
     "status": "completed"
    },
    "tags": []
   },
   "outputs": [],
   "source": [
    "timestamps = pd.read_sql(\"select distinct record_time from EBAY_TOP_BERLIN order by record_time desc limit 2\", sqlite3.connect(\"UsedObjects.db\"))"
   ]
  },
  {
   "cell_type": "code",
   "execution_count": 3,
   "id": "periodic-identification",
   "metadata": {
    "execution": {
     "iopub.execute_input": "2021-09-06T11:00:08.013204Z",
     "iopub.status.busy": "2021-09-06T11:00:08.011162Z",
     "iopub.status.idle": "2021-09-06T11:00:08.032067Z",
     "shell.execute_reply": "2021-09-06T11:00:08.033218Z"
    },
    "papermill": {
     "duration": 0.067339,
     "end_time": "2021-09-06T11:00:08.033630",
     "exception": false,
     "start_time": "2021-09-06T11:00:07.966291",
     "status": "completed"
    },
    "tags": []
   },
   "outputs": [
    {
     "data": {
      "text/html": [
       "<div>\n",
       "<style scoped>\n",
       "    .dataframe tbody tr th:only-of-type {\n",
       "        vertical-align: middle;\n",
       "    }\n",
       "\n",
       "    .dataframe tbody tr th {\n",
       "        vertical-align: top;\n",
       "    }\n",
       "\n",
       "    .dataframe thead th {\n",
       "        text-align: right;\n",
       "    }\n",
       "</style>\n",
       "<table border=\"1\" class=\"dataframe\">\n",
       "  <thead>\n",
       "    <tr style=\"text-align: right;\">\n",
       "      <th></th>\n",
       "      <th>RECORD_TIME</th>\n",
       "    </tr>\n",
       "  </thead>\n",
       "  <tbody>\n",
       "    <tr>\n",
       "      <th>0</th>\n",
       "      <td>2021-09-06 13:00</td>\n",
       "    </tr>\n",
       "    <tr>\n",
       "      <th>1</th>\n",
       "      <td>2021-09-06 12:30</td>\n",
       "    </tr>\n",
       "  </tbody>\n",
       "</table>\n",
       "</div>"
      ],
      "text/plain": [
       "        RECORD_TIME\n",
       "0  2021-09-06 13:00\n",
       "1  2021-09-06 12:30"
      ]
     },
     "execution_count": 3,
     "metadata": {},
     "output_type": "execute_result"
    }
   ],
   "source": [
    "timestamps"
   ]
  },
  {
   "cell_type": "code",
   "execution_count": 4,
   "id": "alternate-victory",
   "metadata": {
    "execution": {
     "iopub.execute_input": "2021-09-06T11:00:08.085020Z",
     "iopub.status.busy": "2021-09-06T11:00:08.082790Z",
     "iopub.status.idle": "2021-09-06T11:00:08.409372Z",
     "shell.execute_reply": "2021-09-06T11:00:08.410661Z"
    },
    "papermill": {
     "duration": 0.356542,
     "end_time": "2021-09-06T11:00:08.411154",
     "exception": false,
     "start_time": "2021-09-06T11:00:08.054612",
     "status": "completed"
    },
    "tags": []
   },
   "outputs": [],
   "source": [
    "df = pd.read_sql(\"select * from EBAY_TOP_BERLIN where record_time in (select distinct record_time from EBAY_TOP_BERLIN order by record_time desc limit 2)\", sqlite3.connect(\"UsedObjects.db\"))"
   ]
  },
  {
   "cell_type": "code",
   "execution_count": 5,
   "id": "popular-active",
   "metadata": {
    "execution": {
     "iopub.execute_input": "2021-09-06T11:00:08.490429Z",
     "iopub.status.busy": "2021-09-06T11:00:08.478789Z",
     "iopub.status.idle": "2021-09-06T11:00:08.506374Z",
     "shell.execute_reply": "2021-09-06T11:00:08.507670Z"
    },
    "papermill": {
     "duration": 0.071364,
     "end_time": "2021-09-06T11:00:08.508069",
     "exception": false,
     "start_time": "2021-09-06T11:00:08.436705",
     "status": "completed"
    },
    "tags": []
   },
   "outputs": [],
   "source": [
    "df_pivot = df.pivot_table(index=\"PRODUCT\", columns = \"RECORD_TIME\", values = \"LISTING_COUNT\")"
   ]
  },
  {
   "cell_type": "code",
   "execution_count": 6,
   "id": "union-huntington",
   "metadata": {
    "execution": {
     "iopub.execute_input": "2021-09-06T11:00:08.565093Z",
     "iopub.status.busy": "2021-09-06T11:00:08.562930Z",
     "iopub.status.idle": "2021-09-06T11:00:08.568629Z",
     "shell.execute_reply": "2021-09-06T11:00:08.569990Z"
    },
    "papermill": {
     "duration": 0.041004,
     "end_time": "2021-09-06T11:00:08.570415",
     "exception": false,
     "start_time": "2021-09-06T11:00:08.529411",
     "status": "completed"
    },
    "tags": []
   },
   "outputs": [],
   "source": [
    "df_pivot.columns = [\"stamp_1\", \"stamp_2\"]\n",
    "df_pivot_diff = df_pivot.diff(axis=1)"
   ]
  },
  {
   "cell_type": "code",
   "execution_count": 7,
   "id": "fifth-motion",
   "metadata": {
    "execution": {
     "iopub.execute_input": "2021-09-06T11:00:08.624957Z",
     "iopub.status.busy": "2021-09-06T11:00:08.622365Z",
     "iopub.status.idle": "2021-09-06T11:00:10.134377Z",
     "shell.execute_reply": "2021-09-06T11:00:10.135662Z"
    },
    "papermill": {
     "duration": 1.545176,
     "end_time": "2021-09-06T11:00:10.136097",
     "exception": false,
     "start_time": "2021-09-06T11:00:08.590921",
     "status": "completed"
    },
    "tags": []
   },
   "outputs": [
    {
     "data": {
      "text/plain": [
       "<AxesSubplot:ylabel='PRODUCT'>"
      ]
     },
     "execution_count": 7,
     "metadata": {},
     "output_type": "execute_result"
    },
    {
     "data": {
      "image/png": "[encoded data removed]",
      "text/plain": [
       "<Figure size 432x288 with 1 Axes>"
      ]
     },
     "metadata": {
      "needs_background": "light"
     },
     "output_type": "display_data"
    }
   ],
   "source": [
    "df_pivot_diff.sort_values(\"stamp_2\", ascending = False)[\"stamp_2\"].head(10).plot.barh()"
   ]
  },
  {
   "cell_type": "code",
   "execution_count": null,
   "id": "extra-executive",
   "metadata": {
    "papermill": {
     "duration": 0.022135,
     "end_time": "2021-09-06T11:00:10.184442",
     "exception": false,
     "start_time": "2021-09-06T11:00:10.162307",
     "status": "completed"
    },
    "tags": []
   },
   "outputs": [],
   "source": []
  }
 ],
 "metadata": {
  "kernelspec": {
   "display_name": "Python 3",
   "language": "python",
   "name": "python3"
  },
  "language_info": {
   "codemirror_mode": {
    "name": "ipython",
    "version": 3
   },
   "file_extension": ".py",
   "mimetype": "text/x-python",
   "name": "python",
   "nbconvert_exporter": "python",
   "pygments_lexer": "ipython3",
   "version": "3.9.5"
  },
  "papermill": {
   "default_parameters": {},
   "duration": 6.403926,
   "end_time": "2021-09-06T11:00:10.828163",
   "environment_variables": {},
   "exception": null,
   "input_path": "eBay_Overview.ipynb",
   "output_path": "eBay_Overview.ipynb",
   "parameters": {},
   "start_time": "2021-09-06T11:00:04.424237",
   "version": "2.3.3"
  }
 },
 "nbformat": 4,
 "nbformat_minor": 5
}