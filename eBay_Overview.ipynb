{
 "cells": [
  {
   "cell_type": "code",
   "execution_count": 1,
   "id": "reverse-picking",
   "metadata": {
    "execution": {
     "iopub.execute_input": "2021-08-22T06:30:07.288103Z",
     "iopub.status.busy": "2021-08-22T06:30:07.286184Z",
     "iopub.status.idle": "2021-08-22T06:30:08.093696Z",
     "shell.execute_reply": "2021-08-22T06:30:08.094999Z"
    },
    "papermill": {
     "duration": 0.860372,
     "end_time": "2021-08-22T06:30:08.095663",
     "exception": false,
     "start_time": "2021-08-22T06:30:07.235291",
     "status": "completed"
    },
    "tags": []
   },
   "outputs": [],
   "source": [
    "import pandas as pd\n",
    "import sqlite3"
   ]
  },
  {
   "cell_type": "code",
   "execution_count": 2,
   "id": "innovative-syndrome",
   "metadata": {
    "execution": {
     "iopub.execute_input": "2021-08-22T06:30:08.146662Z",
     "iopub.status.busy": "2021-08-22T06:30:08.144760Z",
     "iopub.status.idle": "2021-08-22T06:30:08.247422Z",
     "shell.execute_reply": "2021-08-22T06:30:08.248616Z"
    },
    "papermill": {
     "duration": 0.131971,
     "end_time": "2021-08-22T06:30:08.249014",
     "exception": false,
     "start_time": "2021-08-22T06:30:08.117043",
     "status": "completed"
    },
    "tags": []
   },
   "outputs": [],
   "source": [
    "timestamps = pd.read_sql(\"select distinct record_time from EBAY_TOP_BERLIN order by record_time desc limit 2\", sqlite3.connect(\"UsedObjects.db\"))"
   ]
  },
  {
   "cell_type": "code",
   "execution_count": 3,
   "id": "periodic-identification",
   "metadata": {
    "execution": {
     "iopub.execute_input": "2021-08-22T06:30:08.312502Z",
     "iopub.status.busy": "2021-08-22T06:30:08.310500Z",
     "iopub.status.idle": "2021-08-22T06:30:08.330706Z",
     "shell.execute_reply": "2021-08-22T06:30:08.332051Z"
    },
    "papermill": {
     "duration": 0.063444,
     "end_time": "2021-08-22T06:30:08.332473",
     "exception": false,
     "start_time": "2021-08-22T06:30:08.269029",
     "status": "completed"
    },
    "tags": []
   },
   "outputs": [
    {
     "data": {
      "text/html": [
       "<div>\n",
       "<style scoped>\n",
       "    .dataframe tbody tr th:only-of-type {\n",
       "        vertical-align: middle;\n",
       "    }\n",
       "\n",
       "    .dataframe tbody tr th {\n",
       "        vertical-align: top;\n",
       "    }\n",
       "\n",
       "    .dataframe thead th {\n",
       "        text-align: right;\n",
       "    }\n",
       "</style>\n",
       "<table border=\"1\" class=\"dataframe\">\n",
       "  <thead>\n",
       "    <tr style=\"text-align: right;\">\n",
       "      <th></th>\n",
       "      <th>RECORD_TIME</th>\n",
       "    </tr>\n",
       "  </thead>\n",
       "  <tbody>\n",
       "    <tr>\n",
       "      <th>0</th>\n",
       "      <td>2021-08-22 08:30</td>\n",
       "    </tr>\n",
       "    <tr>\n",
       "      <th>1</th>\n",
       "      <td>2021-08-22 08:00</td>\n",
       "    </tr>\n",
       "  </tbody>\n",
       "</table>\n",
       "</div>"
      ],
      "text/plain": [
       "        RECORD_TIME\n",
       "0  2021-08-22 08:30\n",
       "1  2021-08-22 08:00"
      ]
     },
     "execution_count": 3,
     "metadata": {},
     "output_type": "execute_result"
    }
   ],
   "source": [
    "timestamps"
   ]
  },
  {
   "cell_type": "code",
   "execution_count": 4,
   "id": "alternate-victory",
   "metadata": {
    "execution": {
     "iopub.execute_input": "2021-08-22T06:30:08.383903Z",
     "iopub.status.busy": "2021-08-22T06:30:08.381696Z",
     "iopub.status.idle": "2021-08-22T06:30:08.536639Z",
     "shell.execute_reply": "2021-08-22T06:30:08.537840Z"
    },
    "papermill": {
     "duration": 0.184926,
     "end_time": "2021-08-22T06:30:08.538465",
     "exception": false,
     "start_time": "2021-08-22T06:30:08.353539",
     "status": "completed"
    },
    "tags": []
   },
   "outputs": [],
   "source": [
    "df = pd.read_sql(\"select * from EBAY_TOP_BERLIN where record_time in (select distinct record_time from EBAY_TOP_BERLIN order by record_time desc limit 2)\", sqlite3.connect(\"UsedObjects.db\"))"
   ]
  },
  {
   "cell_type": "code",
   "execution_count": 5,
   "id": "popular-active",
   "metadata": {
    "execution": {
     "iopub.execute_input": "2021-08-22T06:30:08.610014Z",
     "iopub.status.busy": "2021-08-22T06:30:08.597558Z",
     "iopub.status.idle": "2021-08-22T06:30:08.626016Z",
     "shell.execute_reply": "2021-08-22T06:30:08.627358Z"
    },
    "papermill": {
     "duration": 0.06905,
     "end_time": "2021-08-22T06:30:08.627780",
     "exception": false,
     "start_time": "2021-08-22T06:30:08.558730",
     "status": "completed"
    },
    "tags": []
   },
   "outputs": [],
   "source": [
    "df_pivot = df.pivot_table(index=\"PRODUCT\", columns = \"RECORD_TIME\", values = \"LISTING_COUNT\")"
   ]
  },
  {
   "cell_type": "code",
   "execution_count": 6,
   "id": "union-huntington",
   "metadata": {
    "execution": {
     "iopub.execute_input": "2021-08-22T06:30:08.685777Z",
     "iopub.status.busy": "2021-08-22T06:30:08.683510Z",
     "iopub.status.idle": "2021-08-22T06:30:08.689289Z",
     "shell.execute_reply": "2021-08-22T06:30:08.690677Z"
    },
    "papermill": {
     "duration": 0.041727,
     "end_time": "2021-08-22T06:30:08.691107",
     "exception": false,
     "start_time": "2021-08-22T06:30:08.649380",
     "status": "completed"
    },
    "tags": []
   },
   "outputs": [],
   "source": [
    "df_pivot.columns = [\"stamp_1\", \"stamp_2\"]\n",
    "df_pivot_diff = df_pivot.diff(axis=1)"
   ]
  },
  {
   "cell_type": "code",
   "execution_count": 7,
   "id": "fifth-motion",
   "metadata": {
    "execution": {
     "iopub.execute_input": "2021-08-22T06:30:08.751446Z",
     "iopub.status.busy": "2021-08-22T06:30:08.748689Z",
     "iopub.status.idle": "2021-08-22T06:30:10.251826Z",
     "shell.execute_reply": "2021-08-22T06:30:10.253115Z"
    },
    "papermill": {
     "duration": 1.539047,
     "end_time": "2021-08-22T06:30:10.253538",
     "exception": false,
     "start_time": "2021-08-22T06:30:08.714491",
     "status": "completed"
    },
    "tags": []
   },
   "outputs": [
    {
     "data": {
      "text/plain": [
       "<AxesSubplot:ylabel='PRODUCT'>"
      ]
     },
     "execution_count": 7,
     "metadata": {},
     "output_type": "execute_result"
    },
    {
     "data": {
      "image/png": "[encoded data removed]",
      "text/plain": [
       "<Figure size 432x288 with 1 Axes>"
      ]
     },
     "metadata": {
      "needs_background": "light"
     },
     "output_type": "display_data"
    }
   ],
   "source": [
    "df_pivot_diff.sort_values(\"stamp_2\", ascending = False)[\"stamp_2\"].head(10).plot.barh()"
   ]
  },
  {
   "cell_type": "code",
   "execution_count": null,
   "id": "extra-executive",
   "metadata": {
    "papermill": {
     "duration": 0.022198,
     "end_time": "2021-08-22T06:30:10.300261",
     "exception": false,
     "start_time": "2021-08-22T06:30:10.278063",
     "status": "completed"
    },
    "tags": []
   },
   "outputs": [],
   "source": []
  }
 ],
 "metadata": {
  "kernelspec": {
   "display_name": "Python 3",
   "language": "python",
   "name": "python3"
  },
  "language_info": {
   "codemirror_mode": {
    "name": "ipython",
    "version": 3
   },
   "file_extension": ".py",
   "mimetype": "text/x-python",
   "name": "python",
   "nbconvert_exporter": "python",
   "pygments_lexer": "ipython3",
   "version": "3.9.5"
  },
  "papermill": {
   "default_parameters": {},
   "duration": 6.830572,
   "end_time": "2021-08-22T06:30:11.652876",
   "environment_variables": {},
   "exception": null,
   "input_path": "eBay_Overview.ipynb",
   "output_path": "eBay_Overview.ipynb",
   "parameters": {},
   "start_time": "2021-08-22T06:30:04.822304",
   "version": "2.3.3"
  }
 },
 "nbformat": 4,
 "nbformat_minor": 5
}