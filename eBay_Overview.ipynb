{
 "cells": [
  {
   "cell_type": "code",
   "execution_count": 1,
   "id": "reverse-picking",
   "metadata": {
    "execution": {
     "iopub.execute_input": "2021-10-02T12:30:07.040403Z",
     "iopub.status.busy": "2021-10-02T12:30:07.038351Z",
     "iopub.status.idle": "2021-10-02T12:30:07.843987Z",
     "shell.execute_reply": "2021-10-02T12:30:07.845262Z"
    },
    "papermill": {
     "duration": 0.855824,
     "end_time": "2021-10-02T12:30:07.845884",
     "exception": false,
     "start_time": "2021-10-02T12:30:06.990060",
     "status": "completed"
    },
    "tags": []
   },
   "outputs": [],
   "source": [
    "import pandas as pd\n",
    "import sqlite3"
   ]
  },
  {
   "cell_type": "code",
   "execution_count": 2,
   "id": "innovative-syndrome",
   "metadata": {
    "execution": {
     "iopub.execute_input": "2021-10-02T12:30:07.898231Z",
     "iopub.status.busy": "2021-10-02T12:30:07.895908Z",
     "iopub.status.idle": "2021-10-02T12:30:08.323769Z",
     "shell.execute_reply": "2021-10-02T12:30:08.325044Z"
    },
    "papermill": {
     "duration": 0.457388,
     "end_time": "2021-10-02T12:30:08.325449",
     "exception": false,
     "start_time": "2021-10-02T12:30:07.868061",
     "status": "completed"
    },
    "tags": []
   },
   "outputs": [],
   "source": [
    "timestamps = pd.read_sql(\"select distinct record_time from EBAY_TOP_BERLIN order by record_time desc limit 2\", sqlite3.connect(\"UsedObjects.db\"))"
   ]
  },
  {
   "cell_type": "code",
   "execution_count": 3,
   "id": "periodic-identification",
   "metadata": {
    "execution": {
     "iopub.execute_input": "2021-10-02T12:30:08.388792Z",
     "iopub.status.busy": "2021-10-02T12:30:08.386695Z",
     "iopub.status.idle": "2021-10-02T12:30:08.406340Z",
     "shell.execute_reply": "2021-10-02T12:30:08.408110Z"
    },
    "papermill": {
     "duration": 0.064034,
     "end_time": "2021-10-02T12:30:08.408616",
     "exception": false,
     "start_time": "2021-10-02T12:30:08.344582",
     "status": "completed"
    },
    "tags": []
   },
   "outputs": [
    {
     "data": {
      "text/html": [
       "<div>\n",
       "<style scoped>\n",
       "    .dataframe tbody tr th:only-of-type {\n",
       "        vertical-align: middle;\n",
       "    }\n",
       "\n",
       "    .dataframe tbody tr th {\n",
       "        vertical-align: top;\n",
       "    }\n",
       "\n",
       "    .dataframe thead th {\n",
       "        text-align: right;\n",
       "    }\n",
       "</style>\n",
       "<table border=\"1\" class=\"dataframe\">\n",
       "  <thead>\n",
       "    <tr style=\"text-align: right;\">\n",
       "      <th></th>\n",
       "      <th>RECORD_TIME</th>\n",
       "    </tr>\n",
       "  </thead>\n",
       "  <tbody>\n",
       "    <tr>\n",
       "      <th>0</th>\n",
       "      <td>2021-10-02 14:30</td>\n",
       "    </tr>\n",
       "    <tr>\n",
       "      <th>1</th>\n",
       "      <td>2021-10-02 14:00</td>\n",
       "    </tr>\n",
       "  </tbody>\n",
       "</table>\n",
       "</div>"
      ],
      "text/plain": [
       "        RECORD_TIME\n",
       "0  2021-10-02 14:30\n",
       "1  2021-10-02 14:00"
      ]
     },
     "execution_count": 3,
     "metadata": {},
     "output_type": "execute_result"
    }
   ],
   "source": [
    "timestamps"
   ]
  },
  {
   "cell_type": "code",
   "execution_count": 4,
   "id": "alternate-victory",
   "metadata": {
    "execution": {
     "iopub.execute_input": "2021-10-02T12:30:08.460758Z",
     "iopub.status.busy": "2021-10-02T12:30:08.458604Z",
     "iopub.status.idle": "2021-10-02T12:30:09.083651Z",
     "shell.execute_reply": "2021-10-02T12:30:09.084967Z"
    },
    "papermill": {
     "duration": 0.655114,
     "end_time": "2021-10-02T12:30:09.085371",
     "exception": false,
     "start_time": "2021-10-02T12:30:08.430257",
     "status": "completed"
    },
    "tags": []
   },
   "outputs": [],
   "source": [
    "df = pd.read_sql(\"select * from EBAY_TOP_BERLIN where record_time in (select distinct record_time from EBAY_TOP_BERLIN order by record_time desc limit 2)\", sqlite3.connect(\"UsedObjects.db\"))"
   ]
  },
  {
   "cell_type": "code",
   "execution_count": 5,
   "id": "popular-active",
   "metadata": {
    "execution": {
     "iopub.execute_input": "2021-10-02T12:30:09.154486Z",
     "iopub.status.busy": "2021-10-02T12:30:09.142119Z",
     "iopub.status.idle": "2021-10-02T12:30:09.172085Z",
     "shell.execute_reply": "2021-10-02T12:30:09.173535Z"
    },
    "papermill": {
     "duration": 0.068393,
     "end_time": "2021-10-02T12:30:09.173985",
     "exception": false,
     "start_time": "2021-10-02T12:30:09.105592",
     "status": "completed"
    },
    "tags": []
   },
   "outputs": [],
   "source": [
    "df_pivot = df.pivot_table(index=\"PRODUCT\", columns = \"RECORD_TIME\", values = \"LISTING_COUNT\")"
   ]
  },
  {
   "cell_type": "code",
   "execution_count": 6,
   "id": "union-huntington",
   "metadata": {
    "execution": {
     "iopub.execute_input": "2021-10-02T12:30:09.231045Z",
     "iopub.status.busy": "2021-10-02T12:30:09.228945Z",
     "iopub.status.idle": "2021-10-02T12:30:09.234242Z",
     "shell.execute_reply": "2021-10-02T12:30:09.235608Z"
    },
    "papermill": {
     "duration": 0.041181,
     "end_time": "2021-10-02T12:30:09.236037",
     "exception": false,
     "start_time": "2021-10-02T12:30:09.194856",
     "status": "completed"
    },
    "tags": []
   },
   "outputs": [],
   "source": [
    "df_pivot.columns = [\"stamp_1\", \"stamp_2\"]\n",
    "df_pivot_diff = df_pivot.diff(axis=1)"
   ]
  },
  {
   "cell_type": "code",
   "execution_count": 7,
   "id": "fifth-motion",
   "metadata": {
    "execution": {
     "iopub.execute_input": "2021-10-02T12:30:09.289624Z",
     "iopub.status.busy": "2021-10-02T12:30:09.287201Z",
     "iopub.status.idle": "2021-10-02T12:30:10.782299Z",
     "shell.execute_reply": "2021-10-02T12:30:10.783900Z"
    },
    "papermill": {
     "duration": 1.528072,
     "end_time": "2021-10-02T12:30:10.784385",
     "exception": false,
     "start_time": "2021-10-02T12:30:09.256313",
     "status": "completed"
    },
    "tags": []
   },
   "outputs": [
    {
     "data": {
      "text/plain": [
       "<AxesSubplot:ylabel='PRODUCT'>"
      ]
     },
     "execution_count": 7,
     "metadata": {},
     "output_type": "execute_result"
    },
    {
     "data": {
      "image/png": "[encoded data removed]",
      "text/plain": [
       "<Figure size 432x288 with 1 Axes>"
      ]
     },
     "metadata": {
      "needs_background": "light"
     },
     "output_type": "display_data"
    }
   ],
   "source": [
    "df_pivot_diff.sort_values(\"stamp_2\", ascending = False)[\"stamp_2\"].head(10).plot.barh()"
   ]
  },
  {
   "cell_type": "code",
   "execution_count": null,
   "id": "extra-executive",
   "metadata": {
    "papermill": {
     "duration": 0.022073,
     "end_time": "2021-10-02T12:30:10.830941",
     "exception": false,
     "start_time": "2021-10-02T12:30:10.808868",
     "status": "completed"
    },
    "tags": []
   },
   "outputs": [],
   "source": []
  }
 ],
 "metadata": {
  "kernelspec": {
   "display_name": "Python 3",
   "language": "python",
   "name": "python3"
  },
  "language_info": {
   "codemirror_mode": {
    "name": "ipython",
    "version": 3
   },
   "file_extension": ".py",
   "mimetype": "text/x-python",
   "name": "python",
   "nbconvert_exporter": "python",
   "pygments_lexer": "ipython3",
   "version": "3.9.5"
  },
  "papermill": {
   "default_parameters": {},
   "duration": 7.824338,
   "end_time": "2021-10-02T12:30:12.411867",
   "environment_variables": {},
   "exception": null,
   "input_path": "eBay_Overview.ipynb",
   "output_path": "eBay_Overview.ipynb",
   "parameters": {},
   "start_time": "2021-10-02T12:30:04.587529",
   "version": "2.3.3"
  }
 },
 "nbformat": 4,
 "nbformat_minor": 5
}