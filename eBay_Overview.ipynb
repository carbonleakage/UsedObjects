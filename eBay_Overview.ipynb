{
 "cells": [
  {
   "cell_type": "code",
   "execution_count": 1,
   "id": "reverse-picking",
   "metadata": {
    "execution": {
     "iopub.execute_input": "2021-11-06T14:30:08.113626Z",
     "iopub.status.busy": "2021-11-06T14:30:08.111358Z",
     "iopub.status.idle": "2021-11-06T14:30:09.075245Z",
     "shell.execute_reply": "2021-11-06T14:30:09.073333Z"
    },
    "papermill": {
     "duration": 1.009515,
     "end_time": "2021-11-06T14:30:09.075716",
     "exception": false,
     "start_time": "2021-11-06T14:30:08.066201",
     "status": "completed"
    },
    "tags": []
   },
   "outputs": [],
   "source": [
    "import pandas as pd\n",
    "import sqlite3"
   ]
  },
  {
   "cell_type": "code",
   "execution_count": 2,
   "id": "innovative-syndrome",
   "metadata": {
    "execution": {
     "iopub.execute_input": "2021-11-06T14:30:09.137295Z",
     "iopub.status.busy": "2021-11-06T14:30:09.135065Z",
     "iopub.status.idle": "2021-11-06T14:30:09.881102Z",
     "shell.execute_reply": "2021-11-06T14:30:09.882466Z"
    },
    "papermill": {
     "duration": 0.781078,
     "end_time": "2021-11-06T14:30:09.882926",
     "exception": false,
     "start_time": "2021-11-06T14:30:09.101848",
     "status": "completed"
    },
    "tags": []
   },
   "outputs": [],
   "source": [
    "timestamps = pd.read_sql(\"select distinct record_time from EBAY_TOP_BERLIN order by record_time desc limit 2\", sqlite3.connect(\"UsedObjects.db\"))"
   ]
  },
  {
   "cell_type": "code",
   "execution_count": 3,
   "id": "periodic-identification",
   "metadata": {
    "execution": {
     "iopub.execute_input": "2021-11-06T14:30:09.954709Z",
     "iopub.status.busy": "2021-11-06T14:30:09.951282Z",
     "iopub.status.idle": "2021-11-06T14:30:09.972966Z",
     "shell.execute_reply": "2021-11-06T14:30:09.974349Z"
    },
    "papermill": {
     "duration": 0.070616,
     "end_time": "2021-11-06T14:30:09.974770",
     "exception": false,
     "start_time": "2021-11-06T14:30:09.904154",
     "status": "completed"
    },
    "tags": []
   },
   "outputs": [
    {
     "data": {
      "text/html": [
       "<div>\n",
       "<style scoped>\n",
       "    .dataframe tbody tr th:only-of-type {\n",
       "        vertical-align: middle;\n",
       "    }\n",
       "\n",
       "    .dataframe tbody tr th {\n",
       "        vertical-align: top;\n",
       "    }\n",
       "\n",
       "    .dataframe thead th {\n",
       "        text-align: right;\n",
       "    }\n",
       "</style>\n",
       "<table border=\"1\" class=\"dataframe\">\n",
       "  <thead>\n",
       "    <tr style=\"text-align: right;\">\n",
       "      <th></th>\n",
       "      <th>RECORD_TIME</th>\n",
       "    </tr>\n",
       "  </thead>\n",
       "  <tbody>\n",
       "    <tr>\n",
       "      <th>0</th>\n",
       "      <td>2021-11-06 15:30</td>\n",
       "    </tr>\n",
       "    <tr>\n",
       "      <th>1</th>\n",
       "      <td>2021-11-06 15:00</td>\n",
       "    </tr>\n",
       "  </tbody>\n",
       "</table>\n",
       "</div>"
      ],
      "text/plain": [
       "        RECORD_TIME\n",
       "0  2021-11-06 15:30\n",
       "1  2021-11-06 15:00"
      ]
     },
     "execution_count": 3,
     "metadata": {},
     "output_type": "execute_result"
    }
   ],
   "source": [
    "timestamps"
   ]
  },
  {
   "cell_type": "code",
   "execution_count": 4,
   "id": "alternate-victory",
   "metadata": {
    "execution": {
     "iopub.execute_input": "2021-11-06T14:30:10.028764Z",
     "iopub.status.busy": "2021-11-06T14:30:10.026750Z",
     "iopub.status.idle": "2021-11-06T14:30:11.095933Z",
     "shell.execute_reply": "2021-11-06T14:30:11.094469Z"
    },
    "papermill": {
     "duration": 1.100513,
     "end_time": "2021-11-06T14:30:11.096349",
     "exception": false,
     "start_time": "2021-11-06T14:30:09.995836",
     "status": "completed"
    },
    "tags": []
   },
   "outputs": [],
   "source": [
    "df = pd.read_sql(\"select * from EBAY_TOP_BERLIN where record_time in (select distinct record_time from EBAY_TOP_BERLIN order by record_time desc limit 2)\", sqlite3.connect(\"UsedObjects.db\"))"
   ]
  },
  {
   "cell_type": "code",
   "execution_count": 5,
   "id": "popular-active",
   "metadata": {
    "execution": {
     "iopub.execute_input": "2021-11-06T14:30:11.178429Z",
     "iopub.status.busy": "2021-11-06T14:30:11.163700Z",
     "iopub.status.idle": "2021-11-06T14:30:11.198246Z",
     "shell.execute_reply": "2021-11-06T14:30:11.199840Z"
    },
    "papermill": {
     "duration": 0.08115,
     "end_time": "2021-11-06T14:30:11.200335",
     "exception": false,
     "start_time": "2021-11-06T14:30:11.119185",
     "status": "completed"
    },
    "tags": []
   },
   "outputs": [],
   "source": [
    "df_pivot = df.pivot_table(index=\"PRODUCT\", columns = \"RECORD_TIME\", values = \"LISTING_COUNT\")"
   ]
  },
  {
   "cell_type": "code",
   "execution_count": 6,
   "id": "union-huntington",
   "metadata": {
    "execution": {
     "iopub.execute_input": "2021-11-06T14:30:11.266207Z",
     "iopub.status.busy": "2021-11-06T14:30:11.263705Z",
     "iopub.status.idle": "2021-11-06T14:30:11.269856Z",
     "shell.execute_reply": "2021-11-06T14:30:11.271336Z"
    },
    "papermill": {
     "duration": 0.048749,
     "end_time": "2021-11-06T14:30:11.271841",
     "exception": false,
     "start_time": "2021-11-06T14:30:11.223092",
     "status": "completed"
    },
    "tags": []
   },
   "outputs": [],
   "source": [
    "df_pivot.columns = [\"stamp_1\", \"stamp_2\"]\n",
    "df_pivot_diff = df_pivot.diff(axis=1)"
   ]
  },
  {
   "cell_type": "code",
   "execution_count": 7,
   "id": "fifth-motion",
   "metadata": {
    "execution": {
     "iopub.execute_input": "2021-11-06T14:30:11.327739Z",
     "iopub.status.busy": "2021-11-06T14:30:11.325380Z",
     "iopub.status.idle": "2021-11-06T14:30:13.169766Z",
     "shell.execute_reply": "2021-11-06T14:30:13.171136Z"
    },
    "papermill": {
     "duration": 1.877638,
     "end_time": "2021-11-06T14:30:13.171609",
     "exception": false,
     "start_time": "2021-11-06T14:30:11.293971",
     "status": "completed"
    },
    "tags": []
   },
   "outputs": [
    {
     "data": {
      "text/plain": [
       "<AxesSubplot:ylabel='PRODUCT'>"
      ]
     },
     "execution_count": 7,
     "metadata": {},
     "output_type": "execute_result"
    },
    {
     "data": {
      "image/png": "[encoded data removed]",
      "text/plain": [
       "<Figure size 432x288 with 1 Axes>"
      ]
     },
     "metadata": {
      "needs_background": "light"
     },
     "output_type": "display_data"
    }
   ],
   "source": [
    "df_pivot_diff.sort_values(\"stamp_2\", ascending = False)[\"stamp_2\"].head(10).plot.barh()"
   ]
  },
  {
   "cell_type": "code",
   "execution_count": null,
   "id": "extra-executive",
   "metadata": {
    "papermill": {
     "duration": 0.025372,
     "end_time": "2021-11-06T14:30:13.222357",
     "exception": false,
     "start_time": "2021-11-06T14:30:13.196985",
     "status": "completed"
    },
    "tags": []
   },
   "outputs": [],
   "source": []
  }
 ],
 "metadata": {
  "kernelspec": {
   "display_name": "Python 3",
   "language": "python",
   "name": "python3"
  },
  "language_info": {
   "codemirror_mode": {
    "name": "ipython",
    "version": 3
   },
   "file_extension": ".py",
   "mimetype": "text/x-python",
   "name": "python",
   "nbconvert_exporter": "python",
   "pygments_lexer": "ipython3",
   "version": "3.9.5"
  },
  "papermill": {
   "default_parameters": {},
   "duration": 8.715966,
   "end_time": "2021-11-06T14:30:13.975043",
   "environment_variables": {},
   "exception": null,
   "input_path": "eBay_Overview.ipynb",
   "output_path": "eBay_Overview.ipynb",
   "parameters": {},
   "start_time": "2021-11-06T14:30:05.259077",
   "version": "2.3.3"
  }
 },
 "nbformat": 4,
 "nbformat_minor": 5
}