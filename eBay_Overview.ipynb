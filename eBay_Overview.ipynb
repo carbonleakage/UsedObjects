{
 "cells": [
  {
   "cell_type": "code",
   "execution_count": 1,
   "id": "reverse-picking",
   "metadata": {
    "execution": {
     "iopub.execute_input": "2021-10-17T20:00:07.385401Z",
     "iopub.status.busy": "2021-10-17T20:00:07.383369Z",
     "iopub.status.idle": "2021-10-17T20:00:08.190691Z",
     "shell.execute_reply": "2021-10-17T20:00:08.189102Z"
    },
    "papermill": {
     "duration": 0.856456,
     "end_time": "2021-10-17T20:00:08.191081",
     "exception": false,
     "start_time": "2021-10-17T20:00:07.334625",
     "status": "completed"
    },
    "tags": []
   },
   "outputs": [],
   "source": [
    "import pandas as pd\n",
    "import sqlite3"
   ]
  },
  {
   "cell_type": "code",
   "execution_count": 2,
   "id": "innovative-syndrome",
   "metadata": {
    "execution": {
     "iopub.execute_input": "2021-10-17T20:00:08.243290Z",
     "iopub.status.busy": "2021-10-17T20:00:08.241131Z",
     "iopub.status.idle": "2021-10-17T20:00:08.827580Z",
     "shell.execute_reply": "2021-10-17T20:00:08.828862Z"
    },
    "papermill": {
     "duration": 0.616323,
     "end_time": "2021-10-17T20:00:08.829306",
     "exception": false,
     "start_time": "2021-10-17T20:00:08.212983",
     "status": "completed"
    },
    "tags": []
   },
   "outputs": [],
   "source": [
    "timestamps = pd.read_sql(\"select distinct record_time from EBAY_TOP_BERLIN order by record_time desc limit 2\", sqlite3.connect(\"UsedObjects.db\"))"
   ]
  },
  {
   "cell_type": "code",
   "execution_count": 3,
   "id": "periodic-identification",
   "metadata": {
    "execution": {
     "iopub.execute_input": "2021-10-17T20:00:08.907741Z",
     "iopub.status.busy": "2021-10-17T20:00:08.905707Z",
     "iopub.status.idle": "2021-10-17T20:00:08.925717Z",
     "shell.execute_reply": "2021-10-17T20:00:08.927070Z"
    },
    "papermill": {
     "duration": 0.07009,
     "end_time": "2021-10-17T20:00:08.927489",
     "exception": false,
     "start_time": "2021-10-17T20:00:08.857399",
     "status": "completed"
    },
    "tags": []
   },
   "outputs": [
    {
     "data": {
      "text/html": [
       "<div>\n",
       "<style scoped>\n",
       "    .dataframe tbody tr th:only-of-type {\n",
       "        vertical-align: middle;\n",
       "    }\n",
       "\n",
       "    .dataframe tbody tr th {\n",
       "        vertical-align: top;\n",
       "    }\n",
       "\n",
       "    .dataframe thead th {\n",
       "        text-align: right;\n",
       "    }\n",
       "</style>\n",
       "<table border=\"1\" class=\"dataframe\">\n",
       "  <thead>\n",
       "    <tr style=\"text-align: right;\">\n",
       "      <th></th>\n",
       "      <th>RECORD_TIME</th>\n",
       "    </tr>\n",
       "  </thead>\n",
       "  <tbody>\n",
       "    <tr>\n",
       "      <th>0</th>\n",
       "      <td>2021-10-17 22:00</td>\n",
       "    </tr>\n",
       "    <tr>\n",
       "      <th>1</th>\n",
       "      <td>2021-10-17 21:30</td>\n",
       "    </tr>\n",
       "  </tbody>\n",
       "</table>\n",
       "</div>"
      ],
      "text/plain": [
       "        RECORD_TIME\n",
       "0  2021-10-17 22:00\n",
       "1  2021-10-17 21:30"
      ]
     },
     "execution_count": 3,
     "metadata": {},
     "output_type": "execute_result"
    }
   ],
   "source": [
    "timestamps"
   ]
  },
  {
   "cell_type": "code",
   "execution_count": 4,
   "id": "alternate-victory",
   "metadata": {
    "execution": {
     "iopub.execute_input": "2021-10-17T20:00:08.978234Z",
     "iopub.status.busy": "2021-10-17T20:00:08.976307Z",
     "iopub.status.idle": "2021-10-17T20:00:09.793820Z",
     "shell.execute_reply": "2021-10-17T20:00:09.795115Z"
    },
    "papermill": {
     "duration": 0.8476,
     "end_time": "2021-10-17T20:00:09.795564",
     "exception": false,
     "start_time": "2021-10-17T20:00:08.947964",
     "status": "completed"
    },
    "tags": []
   },
   "outputs": [],
   "source": [
    "df = pd.read_sql(\"select * from EBAY_TOP_BERLIN where record_time in (select distinct record_time from EBAY_TOP_BERLIN order by record_time desc limit 2)\", sqlite3.connect(\"UsedObjects.db\"))"
   ]
  },
  {
   "cell_type": "code",
   "execution_count": 5,
   "id": "popular-active",
   "metadata": {
    "execution": {
     "iopub.execute_input": "2021-10-17T20:00:09.861732Z",
     "iopub.status.busy": "2021-10-17T20:00:09.854323Z",
     "iopub.status.idle": "2021-10-17T20:00:09.881677Z",
     "shell.execute_reply": "2021-10-17T20:00:09.882921Z"
    },
    "papermill": {
     "duration": 0.066797,
     "end_time": "2021-10-17T20:00:09.883314",
     "exception": false,
     "start_time": "2021-10-17T20:00:09.816517",
     "status": "completed"
    },
    "tags": []
   },
   "outputs": [],
   "source": [
    "df_pivot = df.pivot_table(index=\"PRODUCT\", columns = \"RECORD_TIME\", values = \"LISTING_COUNT\")"
   ]
  },
  {
   "cell_type": "code",
   "execution_count": 6,
   "id": "union-huntington",
   "metadata": {
    "execution": {
     "iopub.execute_input": "2021-10-17T20:00:09.942718Z",
     "iopub.status.busy": "2021-10-17T20:00:09.940175Z",
     "iopub.status.idle": "2021-10-17T20:00:09.946418Z",
     "shell.execute_reply": "2021-10-17T20:00:09.947885Z"
    },
    "papermill": {
     "duration": 0.042679,
     "end_time": "2021-10-17T20:00:09.948347",
     "exception": false,
     "start_time": "2021-10-17T20:00:09.905668",
     "status": "completed"
    },
    "tags": []
   },
   "outputs": [],
   "source": [
    "df_pivot.columns = [\"stamp_1\", \"stamp_2\"]\n",
    "df_pivot_diff = df_pivot.diff(axis=1)"
   ]
  },
  {
   "cell_type": "code",
   "execution_count": 7,
   "id": "fifth-motion",
   "metadata": {
    "execution": {
     "iopub.execute_input": "2021-10-17T20:00:10.003548Z",
     "iopub.status.busy": "2021-10-17T20:00:10.001151Z",
     "iopub.status.idle": "2021-10-17T20:00:11.482542Z",
     "shell.execute_reply": "2021-10-17T20:00:11.483829Z"
    },
    "papermill": {
     "duration": 1.514274,
     "end_time": "2021-10-17T20:00:11.484245",
     "exception": false,
     "start_time": "2021-10-17T20:00:09.969971",
     "status": "completed"
    },
    "tags": []
   },
   "outputs": [
    {
     "data": {
      "text/plain": [
       "<AxesSubplot:ylabel='PRODUCT'>"
      ]
     },
     "execution_count": 7,
     "metadata": {},
     "output_type": "execute_result"
    },
    {
     "data": {
      "image/png": "[encoded data removed]",
      "text/plain": [
       "<Figure size 432x288 with 1 Axes>"
      ]
     },
     "metadata": {
      "needs_background": "light"
     },
     "output_type": "display_data"
    }
   ],
   "source": [
    "df_pivot_diff.sort_values(\"stamp_2\", ascending = False)[\"stamp_2\"].head(10).plot.barh()"
   ]
  },
  {
   "cell_type": "code",
   "execution_count": null,
   "id": "extra-executive",
   "metadata": {
    "papermill": {
     "duration": 0.021952,
     "end_time": "2021-10-17T20:00:11.530765",
     "exception": false,
     "start_time": "2021-10-17T20:00:11.508813",
     "status": "completed"
    },
    "tags": []
   },
   "outputs": [],
   "source": []
  }
 ],
 "metadata": {
  "kernelspec": {
   "display_name": "Python 3",
   "language": "python",
   "name": "python3"
  },
  "language_info": {
   "codemirror_mode": {
    "name": "ipython",
    "version": 3
   },
   "file_extension": ".py",
   "mimetype": "text/x-python",
   "name": "python",
   "nbconvert_exporter": "python",
   "pygments_lexer": "ipython3",
   "version": "3.9.5"
  },
  "papermill": {
   "default_parameters": {},
   "duration": 7.823505,
   "end_time": "2021-10-17T20:00:12.751410",
   "environment_variables": {},
   "exception": null,
   "input_path": "eBay_Overview.ipynb",
   "output_path": "eBay_Overview.ipynb",
   "parameters": {},
   "start_time": "2021-10-17T20:00:04.927905",
   "version": "2.3.3"
  }
 },
 "nbformat": 4,
 "nbformat_minor": 5
}