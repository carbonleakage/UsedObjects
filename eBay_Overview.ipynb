{
 "cells": [
  {
   "cell_type": "code",
   "execution_count": 1,
   "id": "reverse-picking",
   "metadata": {
    "execution": {
     "iopub.execute_input": "2021-11-05T10:30:08.081927Z",
     "iopub.status.busy": "2021-11-05T10:30:08.079613Z",
     "iopub.status.idle": "2021-11-05T10:30:09.052570Z",
     "shell.execute_reply": "2021-11-05T10:30:09.054734Z"
    },
    "papermill": {
     "duration": 1.02223,
     "end_time": "2021-11-05T10:30:09.055652",
     "exception": false,
     "start_time": "2021-11-05T10:30:08.033422",
     "status": "completed"
    },
    "tags": []
   },
   "outputs": [],
   "source": [
    "import pandas as pd\n",
    "import sqlite3"
   ]
  },
  {
   "cell_type": "code",
   "execution_count": 2,
   "id": "innovative-syndrome",
   "metadata": {
    "execution": {
     "iopub.execute_input": "2021-11-05T10:30:09.110836Z",
     "iopub.status.busy": "2021-11-05T10:30:09.108570Z",
     "iopub.status.idle": "2021-11-05T10:30:09.839706Z",
     "shell.execute_reply": "2021-11-05T10:30:09.841112Z"
    },
    "papermill": {
     "duration": 0.764644,
     "end_time": "2021-11-05T10:30:09.841583",
     "exception": false,
     "start_time": "2021-11-05T10:30:09.076939",
     "status": "completed"
    },
    "tags": []
   },
   "outputs": [],
   "source": [
    "timestamps = pd.read_sql(\"select distinct record_time from EBAY_TOP_BERLIN order by record_time desc limit 2\", sqlite3.connect(\"UsedObjects.db\"))"
   ]
  },
  {
   "cell_type": "code",
   "execution_count": 3,
   "id": "periodic-identification",
   "metadata": {
    "execution": {
     "iopub.execute_input": "2021-11-05T10:30:09.907780Z",
     "iopub.status.busy": "2021-11-05T10:30:09.905750Z",
     "iopub.status.idle": "2021-11-05T10:30:09.925739Z",
     "shell.execute_reply": "2021-11-05T10:30:09.926958Z"
    },
    "papermill": {
     "duration": 0.066283,
     "end_time": "2021-11-05T10:30:09.927389",
     "exception": false,
     "start_time": "2021-11-05T10:30:09.861106",
     "status": "completed"
    },
    "tags": []
   },
   "outputs": [
    {
     "data": {
      "text/html": [
       "<div>\n",
       "<style scoped>\n",
       "    .dataframe tbody tr th:only-of-type {\n",
       "        vertical-align: middle;\n",
       "    }\n",
       "\n",
       "    .dataframe tbody tr th {\n",
       "        vertical-align: top;\n",
       "    }\n",
       "\n",
       "    .dataframe thead th {\n",
       "        text-align: right;\n",
       "    }\n",
       "</style>\n",
       "<table border=\"1\" class=\"dataframe\">\n",
       "  <thead>\n",
       "    <tr style=\"text-align: right;\">\n",
       "      <th></th>\n",
       "      <th>RECORD_TIME</th>\n",
       "    </tr>\n",
       "  </thead>\n",
       "  <tbody>\n",
       "    <tr>\n",
       "      <th>0</th>\n",
       "      <td>2021-11-05 11:30</td>\n",
       "    </tr>\n",
       "    <tr>\n",
       "      <th>1</th>\n",
       "      <td>2021-11-05 11:00</td>\n",
       "    </tr>\n",
       "  </tbody>\n",
       "</table>\n",
       "</div>"
      ],
      "text/plain": [
       "        RECORD_TIME\n",
       "0  2021-11-05 11:30\n",
       "1  2021-11-05 11:00"
      ]
     },
     "execution_count": 3,
     "metadata": {},
     "output_type": "execute_result"
    }
   ],
   "source": [
    "timestamps"
   ]
  },
  {
   "cell_type": "code",
   "execution_count": 4,
   "id": "alternate-victory",
   "metadata": {
    "execution": {
     "iopub.execute_input": "2021-11-05T10:30:09.980418Z",
     "iopub.status.busy": "2021-11-05T10:30:09.978133Z",
     "iopub.status.idle": "2021-11-05T10:30:11.063110Z",
     "shell.execute_reply": "2021-11-05T10:30:11.065122Z"
    },
    "papermill": {
     "duration": 1.115635,
     "end_time": "2021-11-05T10:30:11.065570",
     "exception": false,
     "start_time": "2021-11-05T10:30:09.949935",
     "status": "completed"
    },
    "tags": []
   },
   "outputs": [],
   "source": [
    "df = pd.read_sql(\"select * from EBAY_TOP_BERLIN where record_time in (select distinct record_time from EBAY_TOP_BERLIN order by record_time desc limit 2)\", sqlite3.connect(\"UsedObjects.db\"))"
   ]
  },
  {
   "cell_type": "code",
   "execution_count": 5,
   "id": "popular-active",
   "metadata": {
    "execution": {
     "iopub.execute_input": "2021-11-05T10:30:11.133696Z",
     "iopub.status.busy": "2021-11-05T10:30:11.131189Z",
     "iopub.status.idle": "2021-11-05T10:30:11.164886Z",
     "shell.execute_reply": "2021-11-05T10:30:11.163128Z"
    },
    "papermill": {
     "duration": 0.078187,
     "end_time": "2021-11-05T10:30:11.165300",
     "exception": false,
     "start_time": "2021-11-05T10:30:11.087113",
     "status": "completed"
    },
    "tags": []
   },
   "outputs": [],
   "source": [
    "df_pivot = df.pivot_table(index=\"PRODUCT\", columns = \"RECORD_TIME\", values = \"LISTING_COUNT\")"
   ]
  },
  {
   "cell_type": "code",
   "execution_count": 6,
   "id": "union-huntington",
   "metadata": {
    "execution": {
     "iopub.execute_input": "2021-11-05T10:30:11.226852Z",
     "iopub.status.busy": "2021-11-05T10:30:11.224388Z",
     "iopub.status.idle": "2021-11-05T10:30:11.235000Z",
     "shell.execute_reply": "2021-11-05T10:30:11.236536Z"
    },
    "papermill": {
     "duration": 0.051007,
     "end_time": "2021-11-05T10:30:11.237120",
     "exception": false,
     "start_time": "2021-11-05T10:30:11.186113",
     "status": "completed"
    },
    "tags": []
   },
   "outputs": [],
   "source": [
    "df_pivot.columns = [\"stamp_1\", \"stamp_2\"]\n",
    "df_pivot_diff = df_pivot.diff(axis=1)"
   ]
  },
  {
   "cell_type": "code",
   "execution_count": 7,
   "id": "fifth-motion",
   "metadata": {
    "execution": {
     "iopub.execute_input": "2021-11-05T10:30:11.294541Z",
     "iopub.status.busy": "2021-11-05T10:30:11.292005Z",
     "iopub.status.idle": "2021-11-05T10:30:13.323888Z",
     "shell.execute_reply": "2021-11-05T10:30:13.325444Z"
    },
    "papermill": {
     "duration": 2.068458,
     "end_time": "2021-11-05T10:30:13.325912",
     "exception": false,
     "start_time": "2021-11-05T10:30:11.257454",
     "status": "completed"
    },
    "tags": []
   },
   "outputs": [
    {
     "data": {
      "text/plain": [
       "<AxesSubplot:ylabel='PRODUCT'>"
      ]
     },
     "execution_count": 7,
     "metadata": {},
     "output_type": "execute_result"
    },
    {
     "data": {
      "image/png": "[encoded data removed]",
      "text/plain": [
       "<Figure size 432x288 with 1 Axes>"
      ]
     },
     "metadata": {
      "needs_background": "light"
     },
     "output_type": "display_data"
    }
   ],
   "source": [
    "df_pivot_diff.sort_values(\"stamp_2\", ascending = False)[\"stamp_2\"].head(10).plot.barh()"
   ]
  },
  {
   "cell_type": "code",
   "execution_count": null,
   "id": "extra-executive",
   "metadata": {
    "papermill": {
     "duration": 0.023141,
     "end_time": "2021-11-05T10:30:13.373940",
     "exception": false,
     "start_time": "2021-11-05T10:30:13.350799",
     "status": "completed"
    },
    "tags": []
   },
   "outputs": [],
   "source": []
  }
 ],
 "metadata": {
  "kernelspec": {
   "display_name": "Python 3",
   "language": "python",
   "name": "python3"
  },
  "language_info": {
   "codemirror_mode": {
    "name": "ipython",
    "version": 3
   },
   "file_extension": ".py",
   "mimetype": "text/x-python",
   "name": "python",
   "nbconvert_exporter": "python",
   "pygments_lexer": "ipython3",
   "version": "3.9.5"
  },
  "papermill": {
   "default_parameters": {},
   "duration": 10.930495,
   "end_time": "2021-11-05T10:30:16.225126",
   "environment_variables": {},
   "exception": null,
   "input_path": "eBay_Overview.ipynb",
   "output_path": "eBay_Overview.ipynb",
   "parameters": {},
   "start_time": "2021-11-05T10:30:05.294631",
   "version": "2.3.3"
  }
 },
 "nbformat": 4,
 "nbformat_minor": 5
}