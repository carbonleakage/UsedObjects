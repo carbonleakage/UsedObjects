{
 "cells": [
  {
   "cell_type": "code",
   "execution_count": 1,
   "id": "reverse-picking",
   "metadata": {
    "execution": {
     "iopub.execute_input": "2021-11-06T10:30:07.713730Z",
     "iopub.status.busy": "2021-11-06T10:30:07.711333Z",
     "iopub.status.idle": "2021-11-06T10:30:08.666716Z",
     "shell.execute_reply": "2021-11-06T10:30:08.668206Z"
    },
    "papermill": {
     "duration": 1.004032,
     "end_time": "2021-11-06T10:30:08.669035",
     "exception": false,
     "start_time": "2021-11-06T10:30:07.665003",
     "status": "completed"
    },
    "tags": []
   },
   "outputs": [],
   "source": [
    "import pandas as pd\n",
    "import sqlite3"
   ]
  },
  {
   "cell_type": "code",
   "execution_count": 2,
   "id": "innovative-syndrome",
   "metadata": {
    "execution": {
     "iopub.execute_input": "2021-11-06T10:30:08.787605Z",
     "iopub.status.busy": "2021-11-06T10:30:08.785258Z",
     "iopub.status.idle": "2021-11-06T10:30:09.535516Z",
     "shell.execute_reply": "2021-11-06T10:30:09.537163Z"
    },
    "papermill": {
     "duration": 0.786098,
     "end_time": "2021-11-06T10:30:09.537673",
     "exception": false,
     "start_time": "2021-11-06T10:30:08.751575",
     "status": "completed"
    },
    "tags": []
   },
   "outputs": [],
   "source": [
    "timestamps = pd.read_sql(\"select distinct record_time from EBAY_TOP_BERLIN order by record_time desc limit 2\", sqlite3.connect(\"UsedObjects.db\"))"
   ]
  },
  {
   "cell_type": "code",
   "execution_count": 3,
   "id": "periodic-identification",
   "metadata": {
    "execution": {
     "iopub.execute_input": "2021-11-06T10:30:09.613083Z",
     "iopub.status.busy": "2021-11-06T10:30:09.606953Z",
     "iopub.status.idle": "2021-11-06T10:30:09.630518Z",
     "shell.execute_reply": "2021-11-06T10:30:09.632067Z"
    },
    "papermill": {
     "duration": 0.074062,
     "end_time": "2021-11-06T10:30:09.632547",
     "exception": false,
     "start_time": "2021-11-06T10:30:09.558485",
     "status": "completed"
    },
    "tags": []
   },
   "outputs": [
    {
     "data": {
      "text/html": [
       "<div>\n",
       "<style scoped>\n",
       "    .dataframe tbody tr th:only-of-type {\n",
       "        vertical-align: middle;\n",
       "    }\n",
       "\n",
       "    .dataframe tbody tr th {\n",
       "        vertical-align: top;\n",
       "    }\n",
       "\n",
       "    .dataframe thead th {\n",
       "        text-align: right;\n",
       "    }\n",
       "</style>\n",
       "<table border=\"1\" class=\"dataframe\">\n",
       "  <thead>\n",
       "    <tr style=\"text-align: right;\">\n",
       "      <th></th>\n",
       "      <th>RECORD_TIME</th>\n",
       "    </tr>\n",
       "  </thead>\n",
       "  <tbody>\n",
       "    <tr>\n",
       "      <th>0</th>\n",
       "      <td>2021-11-06 11:30</td>\n",
       "    </tr>\n",
       "    <tr>\n",
       "      <th>1</th>\n",
       "      <td>2021-11-06 11:00</td>\n",
       "    </tr>\n",
       "  </tbody>\n",
       "</table>\n",
       "</div>"
      ],
      "text/plain": [
       "        RECORD_TIME\n",
       "0  2021-11-06 11:30\n",
       "1  2021-11-06 11:00"
      ]
     },
     "execution_count": 3,
     "metadata": {},
     "output_type": "execute_result"
    }
   ],
   "source": [
    "timestamps"
   ]
  },
  {
   "cell_type": "code",
   "execution_count": 4,
   "id": "alternate-victory",
   "metadata": {
    "execution": {
     "iopub.execute_input": "2021-11-06T10:30:09.690126Z",
     "iopub.status.busy": "2021-11-06T10:30:09.686878Z",
     "iopub.status.idle": "2021-11-06T10:30:10.811625Z",
     "shell.execute_reply": "2021-11-06T10:30:10.813151Z"
    },
    "papermill": {
     "duration": 1.15938,
     "end_time": "2021-11-06T10:30:10.813645",
     "exception": false,
     "start_time": "2021-11-06T10:30:09.654265",
     "status": "completed"
    },
    "tags": []
   },
   "outputs": [],
   "source": [
    "df = pd.read_sql(\"select * from EBAY_TOP_BERLIN where record_time in (select distinct record_time from EBAY_TOP_BERLIN order by record_time desc limit 2)\", sqlite3.connect(\"UsedObjects.db\"))"
   ]
  },
  {
   "cell_type": "code",
   "execution_count": 5,
   "id": "popular-active",
   "metadata": {
    "execution": {
     "iopub.execute_input": "2021-11-06T10:30:10.896196Z",
     "iopub.status.busy": "2021-11-06T10:30:10.882251Z",
     "iopub.status.idle": "2021-11-06T10:30:10.916871Z",
     "shell.execute_reply": "2021-11-06T10:30:10.915354Z"
    },
    "papermill": {
     "duration": 0.081536,
     "end_time": "2021-11-06T10:30:10.917304",
     "exception": false,
     "start_time": "2021-11-06T10:30:10.835768",
     "status": "completed"
    },
    "tags": []
   },
   "outputs": [],
   "source": [
    "df_pivot = df.pivot_table(index=\"PRODUCT\", columns = \"RECORD_TIME\", values = \"LISTING_COUNT\")"
   ]
  },
  {
   "cell_type": "code",
   "execution_count": 6,
   "id": "union-huntington",
   "metadata": {
    "execution": {
     "iopub.execute_input": "2021-11-06T10:30:10.979897Z",
     "iopub.status.busy": "2021-11-06T10:30:10.977513Z",
     "iopub.status.idle": "2021-11-06T10:30:10.983083Z",
     "shell.execute_reply": "2021-11-06T10:30:10.985075Z"
    },
    "papermill": {
     "duration": 0.04635,
     "end_time": "2021-11-06T10:30:10.985558",
     "exception": false,
     "start_time": "2021-11-06T10:30:10.939208",
     "status": "completed"
    },
    "tags": []
   },
   "outputs": [],
   "source": [
    "df_pivot.columns = [\"stamp_1\", \"stamp_2\"]\n",
    "df_pivot_diff = df_pivot.diff(axis=1)"
   ]
  },
  {
   "cell_type": "code",
   "execution_count": 7,
   "id": "fifth-motion",
   "metadata": {
    "execution": {
     "iopub.execute_input": "2021-11-06T10:30:11.047485Z",
     "iopub.status.busy": "2021-11-06T10:30:11.044646Z",
     "iopub.status.idle": "2021-11-06T10:30:12.903281Z",
     "shell.execute_reply": "2021-11-06T10:30:12.904823Z"
    },
    "papermill": {
     "duration": 1.896923,
     "end_time": "2021-11-06T10:30:12.905306",
     "exception": false,
     "start_time": "2021-11-06T10:30:11.008383",
     "status": "completed"
    },
    "tags": []
   },
   "outputs": [
    {
     "data": {
      "text/plain": [
       "<AxesSubplot:ylabel='PRODUCT'>"
      ]
     },
     "execution_count": 7,
     "metadata": {},
     "output_type": "execute_result"
    },
    {
     "data": {
      "image/png": "[encoded data removed]",
      "text/plain": [
       "<Figure size 432x288 with 1 Axes>"
      ]
     },
     "metadata": {
      "needs_background": "light"
     },
     "output_type": "display_data"
    }
   ],
   "source": [
    "df_pivot_diff.sort_values(\"stamp_2\", ascending = False)[\"stamp_2\"].head(10).plot.barh()"
   ]
  },
  {
   "cell_type": "code",
   "execution_count": null,
   "id": "extra-executive",
   "metadata": {
    "papermill": {
     "duration": 0.024471,
     "end_time": "2021-11-06T10:30:12.953970",
     "exception": false,
     "start_time": "2021-11-06T10:30:12.929499",
     "status": "completed"
    },
    "tags": []
   },
   "outputs": [],
   "source": []
  }
 ],
 "metadata": {
  "kernelspec": {
   "display_name": "Python 3",
   "language": "python",
   "name": "python3"
  },
  "language_info": {
   "codemirror_mode": {
    "name": "ipython",
    "version": 3
   },
   "file_extension": ".py",
   "mimetype": "text/x-python",
   "name": "python",
   "nbconvert_exporter": "python",
   "pygments_lexer": "ipython3",
   "version": "3.9.5"
  },
  "papermill": {
   "default_parameters": {},
   "duration": 10.056413,
   "end_time": "2021-11-06T10:30:14.860930",
   "environment_variables": {},
   "exception": null,
   "input_path": "eBay_Overview.ipynb",
   "output_path": "eBay_Overview.ipynb",
   "parameters": {},
   "start_time": "2021-11-06T10:30:04.804517",
   "version": "2.3.3"
  }
 },
 "nbformat": 4,
 "nbformat_minor": 5
}