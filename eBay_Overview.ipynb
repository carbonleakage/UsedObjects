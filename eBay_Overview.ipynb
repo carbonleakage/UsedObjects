{
 "cells": [
  {
   "cell_type": "code",
   "execution_count": 1,
   "id": "reverse-picking",
   "metadata": {
    "execution": {
     "iopub.execute_input": "2021-10-03T18:30:07.156799Z",
     "iopub.status.busy": "2021-10-03T18:30:07.154713Z",
     "iopub.status.idle": "2021-10-03T18:30:07.962409Z",
     "shell.execute_reply": "2021-10-03T18:30:07.963908Z"
    },
    "papermill": {
     "duration": 0.858753,
     "end_time": "2021-10-03T18:30:07.964689",
     "exception": false,
     "start_time": "2021-10-03T18:30:07.105936",
     "status": "completed"
    },
    "tags": []
   },
   "outputs": [],
   "source": [
    "import pandas as pd\n",
    "import sqlite3"
   ]
  },
  {
   "cell_type": "code",
   "execution_count": 2,
   "id": "innovative-syndrome",
   "metadata": {
    "execution": {
     "iopub.execute_input": "2021-10-03T18:30:08.016297Z",
     "iopub.status.busy": "2021-10-03T18:30:08.013929Z",
     "iopub.status.idle": "2021-10-03T18:30:08.456870Z",
     "shell.execute_reply": "2021-10-03T18:30:08.458131Z"
    },
    "papermill": {
     "duration": 0.47277,
     "end_time": "2021-10-03T18:30:08.458554",
     "exception": false,
     "start_time": "2021-10-03T18:30:07.985784",
     "status": "completed"
    },
    "tags": []
   },
   "outputs": [],
   "source": [
    "timestamps = pd.read_sql(\"select distinct record_time from EBAY_TOP_BERLIN order by record_time desc limit 2\", sqlite3.connect(\"UsedObjects.db\"))"
   ]
  },
  {
   "cell_type": "code",
   "execution_count": 3,
   "id": "periodic-identification",
   "metadata": {
    "execution": {
     "iopub.execute_input": "2021-10-03T18:30:08.524544Z",
     "iopub.status.busy": "2021-10-03T18:30:08.522503Z",
     "iopub.status.idle": "2021-10-03T18:30:08.543079Z",
     "shell.execute_reply": "2021-10-03T18:30:08.544363Z"
    },
    "papermill": {
     "duration": 0.067499,
     "end_time": "2021-10-03T18:30:08.544781",
     "exception": false,
     "start_time": "2021-10-03T18:30:08.477282",
     "status": "completed"
    },
    "tags": []
   },
   "outputs": [
    {
     "data": {
      "text/html": [
       "<div>\n",
       "<style scoped>\n",
       "    .dataframe tbody tr th:only-of-type {\n",
       "        vertical-align: middle;\n",
       "    }\n",
       "\n",
       "    .dataframe tbody tr th {\n",
       "        vertical-align: top;\n",
       "    }\n",
       "\n",
       "    .dataframe thead th {\n",
       "        text-align: right;\n",
       "    }\n",
       "</style>\n",
       "<table border=\"1\" class=\"dataframe\">\n",
       "  <thead>\n",
       "    <tr style=\"text-align: right;\">\n",
       "      <th></th>\n",
       "      <th>RECORD_TIME</th>\n",
       "    </tr>\n",
       "  </thead>\n",
       "  <tbody>\n",
       "    <tr>\n",
       "      <th>0</th>\n",
       "      <td>2021-10-03 20:30</td>\n",
       "    </tr>\n",
       "    <tr>\n",
       "      <th>1</th>\n",
       "      <td>2021-10-03 20:00</td>\n",
       "    </tr>\n",
       "  </tbody>\n",
       "</table>\n",
       "</div>"
      ],
      "text/plain": [
       "        RECORD_TIME\n",
       "0  2021-10-03 20:30\n",
       "1  2021-10-03 20:00"
      ]
     },
     "execution_count": 3,
     "metadata": {},
     "output_type": "execute_result"
    }
   ],
   "source": [
    "timestamps"
   ]
  },
  {
   "cell_type": "code",
   "execution_count": 4,
   "id": "alternate-victory",
   "metadata": {
    "execution": {
     "iopub.execute_input": "2021-10-03T18:30:08.604990Z",
     "iopub.status.busy": "2021-10-03T18:30:08.602242Z",
     "iopub.status.idle": "2021-10-03T18:30:09.250980Z",
     "shell.execute_reply": "2021-10-03T18:30:09.252349Z"
    },
    "papermill": {
     "duration": 0.686874,
     "end_time": "2021-10-03T18:30:09.252772",
     "exception": false,
     "start_time": "2021-10-03T18:30:08.565898",
     "status": "completed"
    },
    "tags": []
   },
   "outputs": [],
   "source": [
    "df = pd.read_sql(\"select * from EBAY_TOP_BERLIN where record_time in (select distinct record_time from EBAY_TOP_BERLIN order by record_time desc limit 2)\", sqlite3.connect(\"UsedObjects.db\"))"
   ]
  },
  {
   "cell_type": "code",
   "execution_count": 5,
   "id": "popular-active",
   "metadata": {
    "execution": {
     "iopub.execute_input": "2021-10-03T18:30:09.323399Z",
     "iopub.status.busy": "2021-10-03T18:30:09.310521Z",
     "iopub.status.idle": "2021-10-03T18:30:09.338767Z",
     "shell.execute_reply": "2021-10-03T18:30:09.340029Z"
    },
    "papermill": {
     "duration": 0.067408,
     "end_time": "2021-10-03T18:30:09.340431",
     "exception": false,
     "start_time": "2021-10-03T18:30:09.273023",
     "status": "completed"
    },
    "tags": []
   },
   "outputs": [],
   "source": [
    "df_pivot = df.pivot_table(index=\"PRODUCT\", columns = \"RECORD_TIME\", values = \"LISTING_COUNT\")"
   ]
  },
  {
   "cell_type": "code",
   "execution_count": 6,
   "id": "union-huntington",
   "metadata": {
    "execution": {
     "iopub.execute_input": "2021-10-03T18:30:09.398728Z",
     "iopub.status.busy": "2021-10-03T18:30:09.396475Z",
     "iopub.status.idle": "2021-10-03T18:30:09.402342Z",
     "shell.execute_reply": "2021-10-03T18:30:09.403877Z"
    },
    "papermill": {
     "duration": 0.041722,
     "end_time": "2021-10-03T18:30:09.404356",
     "exception": false,
     "start_time": "2021-10-03T18:30:09.362634",
     "status": "completed"
    },
    "tags": []
   },
   "outputs": [],
   "source": [
    "df_pivot.columns = [\"stamp_1\", \"stamp_2\"]\n",
    "df_pivot_diff = df_pivot.diff(axis=1)"
   ]
  },
  {
   "cell_type": "code",
   "execution_count": 7,
   "id": "fifth-motion",
   "metadata": {
    "execution": {
     "iopub.execute_input": "2021-10-03T18:30:09.458267Z",
     "iopub.status.busy": "2021-10-03T18:30:09.456084Z",
     "iopub.status.idle": "2021-10-03T18:30:10.984989Z",
     "shell.execute_reply": "2021-10-03T18:30:10.986266Z"
    },
    "papermill": {
     "duration": 1.561473,
     "end_time": "2021-10-03T18:30:10.986691",
     "exception": false,
     "start_time": "2021-10-03T18:30:09.425218",
     "status": "completed"
    },
    "tags": []
   },
   "outputs": [
    {
     "data": {
      "text/plain": [
       "<AxesSubplot:ylabel='PRODUCT'>"
      ]
     },
     "execution_count": 7,
     "metadata": {},
     "output_type": "execute_result"
    },
    {
     "data": {
      "image/png": "[encoded data removed]",
      "text/plain": [
       "<Figure size 432x288 with 1 Axes>"
      ]
     },
     "metadata": {
      "needs_background": "light"
     },
     "output_type": "display_data"
    }
   ],
   "source": [
    "df_pivot_diff.sort_values(\"stamp_2\", ascending = False)[\"stamp_2\"].head(10).plot.barh()"
   ]
  },
  {
   "cell_type": "code",
   "execution_count": null,
   "id": "extra-executive",
   "metadata": {
    "papermill": {
     "duration": 0.022255,
     "end_time": "2021-10-03T18:30:11.033898",
     "exception": false,
     "start_time": "2021-10-03T18:30:11.011643",
     "status": "completed"
    },
    "tags": []
   },
   "outputs": [],
   "source": []
  }
 ],
 "metadata": {
  "kernelspec": {
   "display_name": "Python 3",
   "language": "python",
   "name": "python3"
  },
  "language_info": {
   "codemirror_mode": {
    "name": "ipython",
    "version": 3
   },
   "file_extension": ".py",
   "mimetype": "text/x-python",
   "name": "python",
   "nbconvert_exporter": "python",
   "pygments_lexer": "ipython3",
   "version": "3.9.5"
  },
  "papermill": {
   "default_parameters": {},
   "duration": 7.821968,
   "end_time": "2021-10-03T18:30:12.522943",
   "environment_variables": {},
   "exception": null,
   "input_path": "eBay_Overview.ipynb",
   "output_path": "eBay_Overview.ipynb",
   "parameters": {},
   "start_time": "2021-10-03T18:30:04.700975",
   "version": "2.3.3"
  }
 },
 "nbformat": 4,
 "nbformat_minor": 5
}