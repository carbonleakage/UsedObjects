{
 "cells": [
  {
   "cell_type": "code",
   "execution_count": 1,
   "id": "reverse-picking",
   "metadata": {
    "execution": {
     "iopub.execute_input": "2021-10-15T18:30:07.282611Z",
     "iopub.status.busy": "2021-10-15T18:30:07.280572Z",
     "iopub.status.idle": "2021-10-15T18:30:08.090234Z",
     "shell.execute_reply": "2021-10-15T18:30:08.091500Z"
    },
    "papermill": {
     "duration": 0.861206,
     "end_time": "2021-10-15T18:30:08.092128",
     "exception": false,
     "start_time": "2021-10-15T18:30:07.230922",
     "status": "completed"
    },
    "tags": []
   },
   "outputs": [],
   "source": [
    "import pandas as pd\n",
    "import sqlite3"
   ]
  },
  {
   "cell_type": "code",
   "execution_count": 2,
   "id": "innovative-syndrome",
   "metadata": {
    "execution": {
     "iopub.execute_input": "2021-10-15T18:30:08.145487Z",
     "iopub.status.busy": "2021-10-15T18:30:08.143037Z",
     "iopub.status.idle": "2021-10-15T18:30:08.694796Z",
     "shell.execute_reply": "2021-10-15T18:30:08.696077Z"
    },
    "papermill": {
     "duration": 0.581429,
     "end_time": "2021-10-15T18:30:08.696499",
     "exception": false,
     "start_time": "2021-10-15T18:30:08.115070",
     "status": "completed"
    },
    "tags": []
   },
   "outputs": [],
   "source": [
    "timestamps = pd.read_sql(\"select distinct record_time from EBAY_TOP_BERLIN order by record_time desc limit 2\", sqlite3.connect(\"UsedObjects.db\"))"
   ]
  },
  {
   "cell_type": "code",
   "execution_count": 3,
   "id": "periodic-identification",
   "metadata": {
    "execution": {
     "iopub.execute_input": "2021-10-15T18:30:08.771923Z",
     "iopub.status.busy": "2021-10-15T18:30:08.766659Z",
     "iopub.status.idle": "2021-10-15T18:30:08.787611Z",
     "shell.execute_reply": "2021-10-15T18:30:08.789199Z"
    },
    "papermill": {
     "duration": 0.068341,
     "end_time": "2021-10-15T18:30:08.789664",
     "exception": false,
     "start_time": "2021-10-15T18:30:08.721323",
     "status": "completed"
    },
    "tags": []
   },
   "outputs": [
    {
     "data": {
      "text/html": [
       "<div>\n",
       "<style scoped>\n",
       "    .dataframe tbody tr th:only-of-type {\n",
       "        vertical-align: middle;\n",
       "    }\n",
       "\n",
       "    .dataframe tbody tr th {\n",
       "        vertical-align: top;\n",
       "    }\n",
       "\n",
       "    .dataframe thead th {\n",
       "        text-align: right;\n",
       "    }\n",
       "</style>\n",
       "<table border=\"1\" class=\"dataframe\">\n",
       "  <thead>\n",
       "    <tr style=\"text-align: right;\">\n",
       "      <th></th>\n",
       "      <th>RECORD_TIME</th>\n",
       "    </tr>\n",
       "  </thead>\n",
       "  <tbody>\n",
       "    <tr>\n",
       "      <th>0</th>\n",
       "      <td>2021-10-15 20:30</td>\n",
       "    </tr>\n",
       "    <tr>\n",
       "      <th>1</th>\n",
       "      <td>2021-10-15 20:00</td>\n",
       "    </tr>\n",
       "  </tbody>\n",
       "</table>\n",
       "</div>"
      ],
      "text/plain": [
       "        RECORD_TIME\n",
       "0  2021-10-15 20:30\n",
       "1  2021-10-15 20:00"
      ]
     },
     "execution_count": 3,
     "metadata": {},
     "output_type": "execute_result"
    }
   ],
   "source": [
    "timestamps"
   ]
  },
  {
   "cell_type": "code",
   "execution_count": 4,
   "id": "alternate-victory",
   "metadata": {
    "execution": {
     "iopub.execute_input": "2021-10-15T18:30:08.842581Z",
     "iopub.status.busy": "2021-10-15T18:30:08.840162Z",
     "iopub.status.idle": "2021-10-15T18:30:09.642789Z",
     "shell.execute_reply": "2021-10-15T18:30:09.644068Z"
    },
    "papermill": {
     "duration": 0.832698,
     "end_time": "2021-10-15T18:30:09.644483",
     "exception": false,
     "start_time": "2021-10-15T18:30:08.811785",
     "status": "completed"
    },
    "tags": []
   },
   "outputs": [],
   "source": [
    "df = pd.read_sql(\"select * from EBAY_TOP_BERLIN where record_time in (select distinct record_time from EBAY_TOP_BERLIN order by record_time desc limit 2)\", sqlite3.connect(\"UsedObjects.db\"))"
   ]
  },
  {
   "cell_type": "code",
   "execution_count": 5,
   "id": "popular-active",
   "metadata": {
    "execution": {
     "iopub.execute_input": "2021-10-15T18:30:09.714950Z",
     "iopub.status.busy": "2021-10-15T18:30:09.702783Z",
     "iopub.status.idle": "2021-10-15T18:30:09.731321Z",
     "shell.execute_reply": "2021-10-15T18:30:09.732606Z"
    },
    "papermill": {
     "duration": 0.067089,
     "end_time": "2021-10-15T18:30:09.733090",
     "exception": false,
     "start_time": "2021-10-15T18:30:09.666001",
     "status": "completed"
    },
    "tags": []
   },
   "outputs": [],
   "source": [
    "df_pivot = df.pivot_table(index=\"PRODUCT\", columns = \"RECORD_TIME\", values = \"LISTING_COUNT\")"
   ]
  },
  {
   "cell_type": "code",
   "execution_count": 6,
   "id": "union-huntington",
   "metadata": {
    "execution": {
     "iopub.execute_input": "2021-10-15T18:30:09.788863Z",
     "iopub.status.busy": "2021-10-15T18:30:09.786725Z",
     "iopub.status.idle": "2021-10-15T18:30:09.792031Z",
     "shell.execute_reply": "2021-10-15T18:30:09.793395Z"
    },
    "papermill": {
     "duration": 0.040769,
     "end_time": "2021-10-15T18:30:09.793826",
     "exception": false,
     "start_time": "2021-10-15T18:30:09.753057",
     "status": "completed"
    },
    "tags": []
   },
   "outputs": [],
   "source": [
    "df_pivot.columns = [\"stamp_1\", \"stamp_2\"]\n",
    "df_pivot_diff = df_pivot.diff(axis=1)"
   ]
  },
  {
   "cell_type": "code",
   "execution_count": 7,
   "id": "fifth-motion",
   "metadata": {
    "execution": {
     "iopub.execute_input": "2021-10-15T18:30:09.848378Z",
     "iopub.status.busy": "2021-10-15T18:30:09.845976Z",
     "iopub.status.idle": "2021-10-15T18:30:11.315355Z",
     "shell.execute_reply": "2021-10-15T18:30:11.316542Z"
    },
    "papermill": {
     "duration": 1.502066,
     "end_time": "2021-10-15T18:30:11.317035",
     "exception": false,
     "start_time": "2021-10-15T18:30:09.814969",
     "status": "completed"
    },
    "tags": []
   },
   "outputs": [
    {
     "data": {
      "text/plain": [
       "<AxesSubplot:ylabel='PRODUCT'>"
      ]
     },
     "execution_count": 7,
     "metadata": {},
     "output_type": "execute_result"
    },
    {
     "data": {
      "image/png": "[encoded data removed]",
      "text/plain": [
       "<Figure size 432x288 with 1 Axes>"
      ]
     },
     "metadata": {
      "needs_background": "light"
     },
     "output_type": "display_data"
    }
   ],
   "source": [
    "df_pivot_diff.sort_values(\"stamp_2\", ascending = False)[\"stamp_2\"].head(10).plot.barh()"
   ]
  },
  {
   "cell_type": "code",
   "execution_count": null,
   "id": "extra-executive",
   "metadata": {
    "papermill": {
     "duration": 0.021653,
     "end_time": "2021-10-15T18:30:11.362102",
     "exception": false,
     "start_time": "2021-10-15T18:30:11.340449",
     "status": "completed"
    },
    "tags": []
   },
   "outputs": [],
   "source": []
  }
 ],
 "metadata": {
  "kernelspec": {
   "display_name": "Python 3",
   "language": "python",
   "name": "python3"
  },
  "language_info": {
   "codemirror_mode": {
    "name": "ipython",
    "version": 3
   },
   "file_extension": ".py",
   "mimetype": "text/x-python",
   "name": "python",
   "nbconvert_exporter": "python",
   "pygments_lexer": "ipython3",
   "version": "3.9.5"
  },
  "papermill": {
   "default_parameters": {},
   "duration": 7.821406,
   "end_time": "2021-10-15T18:30:12.632746",
   "environment_variables": {},
   "exception": null,
   "input_path": "eBay_Overview.ipynb",
   "output_path": "eBay_Overview.ipynb",
   "parameters": {},
   "start_time": "2021-10-15T18:30:04.811340",
   "version": "2.3.3"
  }
 },
 "nbformat": 4,
 "nbformat_minor": 5
}