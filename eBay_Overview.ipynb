{
 "cells": [
  {
   "cell_type": "code",
   "execution_count": 1,
   "id": "reverse-picking",
   "metadata": {
    "execution": {
     "iopub.execute_input": "2021-10-13T18:00:07.408244Z",
     "iopub.status.busy": "2021-10-13T18:00:07.406318Z",
     "iopub.status.idle": "2021-10-13T18:00:08.208484Z",
     "shell.execute_reply": "2021-10-13T18:00:08.207009Z"
    },
    "papermill": {
     "duration": 0.852574,
     "end_time": "2021-10-13T18:00:08.209070",
     "exception": false,
     "start_time": "2021-10-13T18:00:07.356496",
     "status": "completed"
    },
    "tags": []
   },
   "outputs": [],
   "source": [
    "import pandas as pd\n",
    "import sqlite3"
   ]
  },
  {
   "cell_type": "code",
   "execution_count": 2,
   "id": "innovative-syndrome",
   "metadata": {
    "execution": {
     "iopub.execute_input": "2021-10-13T18:00:08.261455Z",
     "iopub.status.busy": "2021-10-13T18:00:08.259096Z",
     "iopub.status.idle": "2021-10-13T18:00:08.827848Z",
     "shell.execute_reply": "2021-10-13T18:00:08.829109Z"
    },
    "papermill": {
     "duration": 0.59843,
     "end_time": "2021-10-13T18:00:08.829513",
     "exception": false,
     "start_time": "2021-10-13T18:00:08.231083",
     "status": "completed"
    },
    "tags": []
   },
   "outputs": [],
   "source": [
    "timestamps = pd.read_sql(\"select distinct record_time from EBAY_TOP_BERLIN order by record_time desc limit 2\", sqlite3.connect(\"UsedObjects.db\"))"
   ]
  },
  {
   "cell_type": "code",
   "execution_count": 3,
   "id": "periodic-identification",
   "metadata": {
    "execution": {
     "iopub.execute_input": "2021-10-13T18:00:08.900746Z",
     "iopub.status.busy": "2021-10-13T18:00:08.898686Z",
     "iopub.status.idle": "2021-10-13T18:00:08.919465Z",
     "shell.execute_reply": "2021-10-13T18:00:08.920796Z"
    },
    "papermill": {
     "duration": 0.0723,
     "end_time": "2021-10-13T18:00:08.921223",
     "exception": false,
     "start_time": "2021-10-13T18:00:08.848923",
     "status": "completed"
    },
    "tags": []
   },
   "outputs": [
    {
     "data": {
      "text/html": [
       "<div>\n",
       "<style scoped>\n",
       "    .dataframe tbody tr th:only-of-type {\n",
       "        vertical-align: middle;\n",
       "    }\n",
       "\n",
       "    .dataframe tbody tr th {\n",
       "        vertical-align: top;\n",
       "    }\n",
       "\n",
       "    .dataframe thead th {\n",
       "        text-align: right;\n",
       "    }\n",
       "</style>\n",
       "<table border=\"1\" class=\"dataframe\">\n",
       "  <thead>\n",
       "    <tr style=\"text-align: right;\">\n",
       "      <th></th>\n",
       "      <th>RECORD_TIME</th>\n",
       "    </tr>\n",
       "  </thead>\n",
       "  <tbody>\n",
       "    <tr>\n",
       "      <th>0</th>\n",
       "      <td>2021-10-13 20:00</td>\n",
       "    </tr>\n",
       "    <tr>\n",
       "      <th>1</th>\n",
       "      <td>2021-10-13 19:30</td>\n",
       "    </tr>\n",
       "  </tbody>\n",
       "</table>\n",
       "</div>"
      ],
      "text/plain": [
       "        RECORD_TIME\n",
       "0  2021-10-13 20:00\n",
       "1  2021-10-13 19:30"
      ]
     },
     "execution_count": 3,
     "metadata": {},
     "output_type": "execute_result"
    }
   ],
   "source": [
    "timestamps"
   ]
  },
  {
   "cell_type": "code",
   "execution_count": 4,
   "id": "alternate-victory",
   "metadata": {
    "execution": {
     "iopub.execute_input": "2021-10-13T18:00:08.971829Z",
     "iopub.status.busy": "2021-10-13T18:00:08.970004Z",
     "iopub.status.idle": "2021-10-13T18:00:09.770282Z",
     "shell.execute_reply": "2021-10-13T18:00:09.771479Z"
    },
    "papermill": {
     "duration": 0.829686,
     "end_time": "2021-10-13T18:00:09.771863",
     "exception": false,
     "start_time": "2021-10-13T18:00:08.942177",
     "status": "completed"
    },
    "tags": []
   },
   "outputs": [],
   "source": [
    "df = pd.read_sql(\"select * from EBAY_TOP_BERLIN where record_time in (select distinct record_time from EBAY_TOP_BERLIN order by record_time desc limit 2)\", sqlite3.connect(\"UsedObjects.db\"))"
   ]
  },
  {
   "cell_type": "code",
   "execution_count": 5,
   "id": "popular-active",
   "metadata": {
    "execution": {
     "iopub.execute_input": "2021-10-13T18:00:09.842904Z",
     "iopub.status.busy": "2021-10-13T18:00:09.830996Z",
     "iopub.status.idle": "2021-10-13T18:00:09.859169Z",
     "shell.execute_reply": "2021-10-13T18:00:09.860443Z"
    },
    "papermill": {
     "duration": 0.066701,
     "end_time": "2021-10-13T18:00:09.860909",
     "exception": false,
     "start_time": "2021-10-13T18:00:09.794208",
     "status": "completed"
    },
    "tags": []
   },
   "outputs": [],
   "source": [
    "df_pivot = df.pivot_table(index=\"PRODUCT\", columns = \"RECORD_TIME\", values = \"LISTING_COUNT\")"
   ]
  },
  {
   "cell_type": "code",
   "execution_count": 6,
   "id": "union-huntington",
   "metadata": {
    "execution": {
     "iopub.execute_input": "2021-10-13T18:00:09.915527Z",
     "iopub.status.busy": "2021-10-13T18:00:09.913058Z",
     "iopub.status.idle": "2021-10-13T18:00:09.920172Z",
     "shell.execute_reply": "2021-10-13T18:00:09.921516Z"
    },
    "papermill": {
     "duration": 0.041057,
     "end_time": "2021-10-13T18:00:09.921931",
     "exception": false,
     "start_time": "2021-10-13T18:00:09.880874",
     "status": "completed"
    },
    "tags": []
   },
   "outputs": [],
   "source": [
    "df_pivot.columns = [\"stamp_1\", \"stamp_2\"]\n",
    "df_pivot_diff = df_pivot.diff(axis=1)"
   ]
  },
  {
   "cell_type": "code",
   "execution_count": 7,
   "id": "fifth-motion",
   "metadata": {
    "execution": {
     "iopub.execute_input": "2021-10-13T18:00:09.976408Z",
     "iopub.status.busy": "2021-10-13T18:00:09.974057Z",
     "iopub.status.idle": "2021-10-13T18:00:11.461539Z",
     "shell.execute_reply": "2021-10-13T18:00:11.462824Z"
    },
    "papermill": {
     "duration": 1.520096,
     "end_time": "2021-10-13T18:00:11.463234",
     "exception": false,
     "start_time": "2021-10-13T18:00:09.943138",
     "status": "completed"
    },
    "tags": []
   },
   "outputs": [
    {
     "data": {
      "text/plain": [
       "<AxesSubplot:ylabel='PRODUCT'>"
      ]
     },
     "execution_count": 7,
     "metadata": {},
     "output_type": "execute_result"
    },
    {
     "data": {
      "image/png": "[encoded data removed]",
      "text/plain": [
       "<Figure size 432x288 with 1 Axes>"
      ]
     },
     "metadata": {
      "needs_background": "light"
     },
     "output_type": "display_data"
    }
   ],
   "source": [
    "df_pivot_diff.sort_values(\"stamp_2\", ascending = False)[\"stamp_2\"].head(10).plot.barh()"
   ]
  },
  {
   "cell_type": "code",
   "execution_count": null,
   "id": "extra-executive",
   "metadata": {
    "papermill": {
     "duration": 0.021964,
     "end_time": "2021-10-13T18:00:11.509504",
     "exception": false,
     "start_time": "2021-10-13T18:00:11.487540",
     "status": "completed"
    },
    "tags": []
   },
   "outputs": [],
   "source": []
  }
 ],
 "metadata": {
  "kernelspec": {
   "display_name": "Python 3",
   "language": "python",
   "name": "python3"
  },
  "language_info": {
   "codemirror_mode": {
    "name": "ipython",
    "version": 3
   },
   "file_extension": ".py",
   "mimetype": "text/x-python",
   "name": "python",
   "nbconvert_exporter": "python",
   "pygments_lexer": "ipython3",
   "version": "3.9.5"
  },
  "papermill": {
   "default_parameters": {},
   "duration": 7.824609,
   "end_time": "2021-10-13T18:00:12.794190",
   "environment_variables": {},
   "exception": null,
   "input_path": "eBay_Overview.ipynb",
   "output_path": "eBay_Overview.ipynb",
   "parameters": {},
   "start_time": "2021-10-13T18:00:04.969581",
   "version": "2.3.3"
  }
 },
 "nbformat": 4,
 "nbformat_minor": 5
}