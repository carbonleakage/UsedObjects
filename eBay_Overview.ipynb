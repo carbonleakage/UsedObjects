{
 "cells": [
  {
   "cell_type": "code",
   "execution_count": 1,
   "id": "reverse-picking",
   "metadata": {
    "execution": {
     "iopub.execute_input": "2021-09-05T03:30:06.572982Z",
     "iopub.status.busy": "2021-09-05T03:30:06.571007Z",
     "iopub.status.idle": "2021-09-05T03:30:07.376870Z",
     "shell.execute_reply": "2021-09-05T03:30:07.378131Z"
    },
    "papermill": {
     "duration": 0.858563,
     "end_time": "2021-09-05T03:30:07.378757",
     "exception": false,
     "start_time": "2021-09-05T03:30:06.520194",
     "status": "completed"
    },
    "tags": []
   },
   "outputs": [],
   "source": [
    "import pandas as pd\n",
    "import sqlite3"
   ]
  },
  {
   "cell_type": "code",
   "execution_count": 2,
   "id": "innovative-syndrome",
   "metadata": {
    "execution": {
     "iopub.execute_input": "2021-09-05T03:30:07.430563Z",
     "iopub.status.busy": "2021-09-05T03:30:07.428696Z",
     "iopub.status.idle": "2021-09-05T03:30:07.640174Z",
     "shell.execute_reply": "2021-09-05T03:30:07.641445Z"
    },
    "papermill": {
     "duration": 0.24126,
     "end_time": "2021-09-05T03:30:07.641849",
     "exception": false,
     "start_time": "2021-09-05T03:30:07.400589",
     "status": "completed"
    },
    "tags": []
   },
   "outputs": [],
   "source": [
    "timestamps = pd.read_sql(\"select distinct record_time from EBAY_TOP_BERLIN order by record_time desc limit 2\", sqlite3.connect(\"UsedObjects.db\"))"
   ]
  },
  {
   "cell_type": "code",
   "execution_count": 3,
   "id": "periodic-identification",
   "metadata": {
    "execution": {
     "iopub.execute_input": "2021-09-05T03:30:07.705721Z",
     "iopub.status.busy": "2021-09-05T03:30:07.703707Z",
     "iopub.status.idle": "2021-09-05T03:30:07.723492Z",
     "shell.execute_reply": "2021-09-05T03:30:07.724705Z"
    },
    "papermill": {
     "duration": 0.063675,
     "end_time": "2021-09-05T03:30:07.725141",
     "exception": false,
     "start_time": "2021-09-05T03:30:07.661466",
     "status": "completed"
    },
    "tags": []
   },
   "outputs": [
    {
     "data": {
      "text/html": [
       "<div>\n",
       "<style scoped>\n",
       "    .dataframe tbody tr th:only-of-type {\n",
       "        vertical-align: middle;\n",
       "    }\n",
       "\n",
       "    .dataframe tbody tr th {\n",
       "        vertical-align: top;\n",
       "    }\n",
       "\n",
       "    .dataframe thead th {\n",
       "        text-align: right;\n",
       "    }\n",
       "</style>\n",
       "<table border=\"1\" class=\"dataframe\">\n",
       "  <thead>\n",
       "    <tr style=\"text-align: right;\">\n",
       "      <th></th>\n",
       "      <th>RECORD_TIME</th>\n",
       "    </tr>\n",
       "  </thead>\n",
       "  <tbody>\n",
       "    <tr>\n",
       "      <th>0</th>\n",
       "      <td>2021-09-05 05:30</td>\n",
       "    </tr>\n",
       "    <tr>\n",
       "      <th>1</th>\n",
       "      <td>2021-09-05 05:00</td>\n",
       "    </tr>\n",
       "  </tbody>\n",
       "</table>\n",
       "</div>"
      ],
      "text/plain": [
       "        RECORD_TIME\n",
       "0  2021-09-05 05:30\n",
       "1  2021-09-05 05:00"
      ]
     },
     "execution_count": 3,
     "metadata": {},
     "output_type": "execute_result"
    }
   ],
   "source": [
    "timestamps"
   ]
  },
  {
   "cell_type": "code",
   "execution_count": 4,
   "id": "alternate-victory",
   "metadata": {
    "execution": {
     "iopub.execute_input": "2021-09-05T03:30:07.775914Z",
     "iopub.status.busy": "2021-09-05T03:30:07.773958Z",
     "iopub.status.idle": "2021-09-05T03:30:08.088267Z",
     "shell.execute_reply": "2021-09-05T03:30:08.089575Z"
    },
    "papermill": {
     "duration": 0.34443,
     "end_time": "2021-09-05T03:30:08.089993",
     "exception": false,
     "start_time": "2021-09-05T03:30:07.745563",
     "status": "completed"
    },
    "tags": []
   },
   "outputs": [],
   "source": [
    "df = pd.read_sql(\"select * from EBAY_TOP_BERLIN where record_time in (select distinct record_time from EBAY_TOP_BERLIN order by record_time desc limit 2)\", sqlite3.connect(\"UsedObjects.db\"))"
   ]
  },
  {
   "cell_type": "code",
   "execution_count": 5,
   "id": "popular-active",
   "metadata": {
    "execution": {
     "iopub.execute_input": "2021-09-05T03:30:08.172228Z",
     "iopub.status.busy": "2021-09-05T03:30:08.158758Z",
     "iopub.status.idle": "2021-09-05T03:30:08.189007Z",
     "shell.execute_reply": "2021-09-05T03:30:08.190473Z"
    },
    "papermill": {
     "duration": 0.075504,
     "end_time": "2021-09-05T03:30:08.191131",
     "exception": false,
     "start_time": "2021-09-05T03:30:08.115627",
     "status": "completed"
    },
    "tags": []
   },
   "outputs": [],
   "source": [
    "df_pivot = df.pivot_table(index=\"PRODUCT\", columns = \"RECORD_TIME\", values = \"LISTING_COUNT\")"
   ]
  },
  {
   "cell_type": "code",
   "execution_count": 6,
   "id": "union-huntington",
   "metadata": {
    "execution": {
     "iopub.execute_input": "2021-09-05T03:30:08.249293Z",
     "iopub.status.busy": "2021-09-05T03:30:08.246822Z",
     "iopub.status.idle": "2021-09-05T03:30:08.253101Z",
     "shell.execute_reply": "2021-09-05T03:30:08.254460Z"
    },
    "papermill": {
     "duration": 0.042843,
     "end_time": "2021-09-05T03:30:08.254989",
     "exception": false,
     "start_time": "2021-09-05T03:30:08.212146",
     "status": "completed"
    },
    "tags": []
   },
   "outputs": [],
   "source": [
    "df_pivot.columns = [\"stamp_1\", \"stamp_2\"]\n",
    "df_pivot_diff = df_pivot.diff(axis=1)"
   ]
  },
  {
   "cell_type": "code",
   "execution_count": 7,
   "id": "fifth-motion",
   "metadata": {
    "execution": {
     "iopub.execute_input": "2021-09-05T03:30:08.310623Z",
     "iopub.status.busy": "2021-09-05T03:30:08.308304Z",
     "iopub.status.idle": "2021-09-05T03:30:09.816018Z",
     "shell.execute_reply": "2021-09-05T03:30:09.817331Z"
    },
    "papermill": {
     "duration": 1.54054,
     "end_time": "2021-09-05T03:30:09.817757",
     "exception": false,
     "start_time": "2021-09-05T03:30:08.277217",
     "status": "completed"
    },
    "tags": []
   },
   "outputs": [
    {
     "data": {
      "text/plain": [
       "<AxesSubplot:ylabel='PRODUCT'>"
      ]
     },
     "execution_count": 7,
     "metadata": {},
     "output_type": "execute_result"
    },
    {
     "data": {
      "image/png": "[encoded data removed]",
      "text/plain": [
       "<Figure size 432x288 with 1 Axes>"
      ]
     },
     "metadata": {
      "needs_background": "light"
     },
     "output_type": "display_data"
    }
   ],
   "source": [
    "df_pivot_diff.sort_values(\"stamp_2\", ascending = False)[\"stamp_2\"].head(10).plot.barh()"
   ]
  },
  {
   "cell_type": "code",
   "execution_count": null,
   "id": "extra-executive",
   "metadata": {
    "papermill": {
     "duration": 0.022398,
     "end_time": "2021-09-05T03:30:09.866026",
     "exception": false,
     "start_time": "2021-09-05T03:30:09.843628",
     "status": "completed"
    },
    "tags": []
   },
   "outputs": [],
   "source": []
  }
 ],
 "metadata": {
  "kernelspec": {
   "display_name": "Python 3",
   "language": "python",
   "name": "python3"
  },
  "language_info": {
   "codemirror_mode": {
    "name": "ipython",
    "version": 3
   },
   "file_extension": ".py",
   "mimetype": "text/x-python",
   "name": "python",
   "nbconvert_exporter": "python",
   "pygments_lexer": "ipython3",
   "version": "3.9.5"
  },
  "papermill": {
   "default_parameters": {},
   "duration": 6.395972,
   "end_time": "2021-09-05T03:30:10.507197",
   "environment_variables": {},
   "exception": null,
   "input_path": "eBay_Overview.ipynb",
   "output_path": "eBay_Overview.ipynb",
   "parameters": {},
   "start_time": "2021-09-05T03:30:04.111225",
   "version": "2.3.3"
  }
 },
 "nbformat": 4,
 "nbformat_minor": 5
}