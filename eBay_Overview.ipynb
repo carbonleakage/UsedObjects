{
 "cells": [
  {
   "cell_type": "code",
   "execution_count": 1,
   "id": "reverse-picking",
   "metadata": {
    "execution": {
     "iopub.execute_input": "2021-11-09T05:00:07.329946Z",
     "iopub.status.busy": "2021-11-09T05:00:07.327686Z",
     "iopub.status.idle": "2021-11-09T05:00:08.270694Z",
     "shell.execute_reply": "2021-11-09T05:00:08.272311Z"
    },
    "papermill": {
     "duration": 0.9926,
     "end_time": "2021-11-09T05:00:08.273219",
     "exception": false,
     "start_time": "2021-11-09T05:00:07.280619",
     "status": "completed"
    },
    "tags": []
   },
   "outputs": [],
   "source": [
    "import pandas as pd\n",
    "import sqlite3"
   ]
  },
  {
   "cell_type": "code",
   "execution_count": 2,
   "id": "innovative-syndrome",
   "metadata": {
    "execution": {
     "iopub.execute_input": "2021-11-09T05:00:08.336055Z",
     "iopub.status.busy": "2021-11-09T05:00:08.333819Z",
     "iopub.status.idle": "2021-11-09T05:00:09.129717Z",
     "shell.execute_reply": "2021-11-09T05:00:09.131325Z"
    },
    "papermill": {
     "duration": 0.836841,
     "end_time": "2021-11-09T05:00:09.131811",
     "exception": false,
     "start_time": "2021-11-09T05:00:08.294970",
     "status": "completed"
    },
    "tags": []
   },
   "outputs": [],
   "source": [
    "timestamps = pd.read_sql(\"select distinct record_time from EBAY_TOP_BERLIN order by record_time desc limit 2\", sqlite3.connect(\"UsedObjects.db\"))"
   ]
  },
  {
   "cell_type": "code",
   "execution_count": 3,
   "id": "periodic-identification",
   "metadata": {
    "execution": {
     "iopub.execute_input": "2021-11-09T05:00:09.203608Z",
     "iopub.status.busy": "2021-11-09T05:00:09.201305Z",
     "iopub.status.idle": "2021-11-09T05:00:09.226426Z",
     "shell.execute_reply": "2021-11-09T05:00:09.227943Z"
    },
    "papermill": {
     "duration": 0.075944,
     "end_time": "2021-11-09T05:00:09.228436",
     "exception": false,
     "start_time": "2021-11-09T05:00:09.152492",
     "status": "completed"
    },
    "tags": []
   },
   "outputs": [
    {
     "data": {
      "text/html": [
       "<div>\n",
       "<style scoped>\n",
       "    .dataframe tbody tr th:only-of-type {\n",
       "        vertical-align: middle;\n",
       "    }\n",
       "\n",
       "    .dataframe tbody tr th {\n",
       "        vertical-align: top;\n",
       "    }\n",
       "\n",
       "    .dataframe thead th {\n",
       "        text-align: right;\n",
       "    }\n",
       "</style>\n",
       "<table border=\"1\" class=\"dataframe\">\n",
       "  <thead>\n",
       "    <tr style=\"text-align: right;\">\n",
       "      <th></th>\n",
       "      <th>RECORD_TIME</th>\n",
       "    </tr>\n",
       "  </thead>\n",
       "  <tbody>\n",
       "    <tr>\n",
       "      <th>0</th>\n",
       "      <td>2021-11-09 06:00</td>\n",
       "    </tr>\n",
       "    <tr>\n",
       "      <th>1</th>\n",
       "      <td>2021-11-09 05:30</td>\n",
       "    </tr>\n",
       "  </tbody>\n",
       "</table>\n",
       "</div>"
      ],
      "text/plain": [
       "        RECORD_TIME\n",
       "0  2021-11-09 06:00\n",
       "1  2021-11-09 05:30"
      ]
     },
     "execution_count": 3,
     "metadata": {},
     "output_type": "execute_result"
    }
   ],
   "source": [
    "timestamps"
   ]
  },
  {
   "cell_type": "code",
   "execution_count": 4,
   "id": "alternate-victory",
   "metadata": {
    "execution": {
     "iopub.execute_input": "2021-11-09T05:00:09.283174Z",
     "iopub.status.busy": "2021-11-09T05:00:09.280766Z",
     "iopub.status.idle": "2021-11-09T05:00:10.409637Z",
     "shell.execute_reply": "2021-11-09T05:00:10.407186Z"
    },
    "papermill": {
     "duration": 1.160585,
     "end_time": "2021-11-09T05:00:10.410062",
     "exception": false,
     "start_time": "2021-11-09T05:00:09.249477",
     "status": "completed"
    },
    "tags": []
   },
   "outputs": [],
   "source": [
    "df = pd.read_sql(\"select * from EBAY_TOP_BERLIN where record_time in (select distinct record_time from EBAY_TOP_BERLIN order by record_time desc limit 2)\", sqlite3.connect(\"UsedObjects.db\"))"
   ]
  },
  {
   "cell_type": "code",
   "execution_count": 5,
   "id": "popular-active",
   "metadata": {
    "execution": {
     "iopub.execute_input": "2021-11-09T05:00:10.491115Z",
     "iopub.status.busy": "2021-11-09T05:00:10.476326Z",
     "iopub.status.idle": "2021-11-09T05:00:10.509319Z",
     "shell.execute_reply": "2021-11-09T05:00:10.510740Z"
    },
    "papermill": {
     "duration": 0.07957,
     "end_time": "2021-11-09T05:00:10.511270",
     "exception": false,
     "start_time": "2021-11-09T05:00:10.431700",
     "status": "completed"
    },
    "tags": []
   },
   "outputs": [],
   "source": [
    "df_pivot = df.pivot_table(index=\"PRODUCT\", columns = \"RECORD_TIME\", values = \"LISTING_COUNT\")"
   ]
  },
  {
   "cell_type": "code",
   "execution_count": 6,
   "id": "union-huntington",
   "metadata": {
    "execution": {
     "iopub.execute_input": "2021-11-09T05:00:10.573797Z",
     "iopub.status.busy": "2021-11-09T05:00:10.571479Z",
     "iopub.status.idle": "2021-11-09T05:00:10.578971Z",
     "shell.execute_reply": "2021-11-09T05:00:10.580517Z"
    },
    "papermill": {
     "duration": 0.0477,
     "end_time": "2021-11-09T05:00:10.581070",
     "exception": false,
     "start_time": "2021-11-09T05:00:10.533370",
     "status": "completed"
    },
    "tags": []
   },
   "outputs": [],
   "source": [
    "df_pivot.columns = [\"stamp_1\", \"stamp_2\"]\n",
    "df_pivot_diff = df_pivot.diff(axis=1)"
   ]
  },
  {
   "cell_type": "code",
   "execution_count": 7,
   "id": "fifth-motion",
   "metadata": {
    "execution": {
     "iopub.execute_input": "2021-11-09T05:00:10.640758Z",
     "iopub.status.busy": "2021-11-09T05:00:10.638280Z",
     "iopub.status.idle": "2021-11-09T05:00:12.371918Z",
     "shell.execute_reply": "2021-11-09T05:00:12.373515Z"
    },
    "papermill": {
     "duration": 1.771689,
     "end_time": "2021-11-09T05:00:12.373987",
     "exception": false,
     "start_time": "2021-11-09T05:00:10.602298",
     "status": "completed"
    },
    "tags": []
   },
   "outputs": [
    {
     "data": {
      "text/plain": [
       "<AxesSubplot:ylabel='PRODUCT'>"
      ]
     },
     "execution_count": 7,
     "metadata": {},
     "output_type": "execute_result"
    },
    {
     "data": {
      "image/png": "[encoded data removed]",
      "text/plain": [
       "<Figure size 432x288 with 1 Axes>"
      ]
     },
     "metadata": {
      "needs_background": "light"
     },
     "output_type": "display_data"
    }
   ],
   "source": [
    "df_pivot_diff.sort_values(\"stamp_2\", ascending = False)[\"stamp_2\"].head(10).plot.barh()"
   ]
  },
  {
   "cell_type": "code",
   "execution_count": null,
   "id": "extra-executive",
   "metadata": {
    "papermill": {
     "duration": 0.025453,
     "end_time": "2021-11-09T05:00:12.424770",
     "exception": false,
     "start_time": "2021-11-09T05:00:12.399317",
     "status": "completed"
    },
    "tags": []
   },
   "outputs": [],
   "source": []
  }
 ],
 "metadata": {
  "kernelspec": {
   "display_name": "Python 3",
   "language": "python",
   "name": "python3"
  },
  "language_info": {
   "codemirror_mode": {
    "name": "ipython",
    "version": 3
   },
   "file_extension": ".py",
   "mimetype": "text/x-python",
   "name": "python",
   "nbconvert_exporter": "python",
   "pygments_lexer": "ipython3",
   "version": "3.9.5"
  },
  "papermill": {
   "default_parameters": {},
   "duration": 8.770791,
   "end_time": "2021-11-09T05:00:13.273840",
   "environment_variables": {},
   "exception": null,
   "input_path": "eBay_Overview.ipynb",
   "output_path": "eBay_Overview.ipynb",
   "parameters": {},
   "start_time": "2021-11-09T05:00:04.503049",
   "version": "2.3.3"
  }
 },
 "nbformat": 4,
 "nbformat_minor": 5
}