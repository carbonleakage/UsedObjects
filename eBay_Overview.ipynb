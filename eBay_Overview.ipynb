{
 "cells": [
  {
   "cell_type": "code",
   "execution_count": 1,
   "id": "reverse-picking",
   "metadata": {
    "execution": {
     "iopub.execute_input": "2021-09-19T00:30:06.624332Z",
     "iopub.status.busy": "2021-09-19T00:30:06.622210Z",
     "iopub.status.idle": "2021-09-19T00:30:07.423990Z",
     "shell.execute_reply": "2021-09-19T00:30:07.425238Z"
    },
    "papermill": {
     "duration": 0.852413,
     "end_time": "2021-09-19T00:30:07.425858",
     "exception": false,
     "start_time": "2021-09-19T00:30:06.573445",
     "status": "completed"
    },
    "tags": []
   },
   "outputs": [],
   "source": [
    "import pandas as pd\n",
    "import sqlite3"
   ]
  },
  {
   "cell_type": "code",
   "execution_count": 2,
   "id": "innovative-syndrome",
   "metadata": {
    "execution": {
     "iopub.execute_input": "2021-09-19T00:30:07.476802Z",
     "iopub.status.busy": "2021-09-19T00:30:07.474950Z",
     "iopub.status.idle": "2021-09-19T00:30:07.793521Z",
     "shell.execute_reply": "2021-09-19T00:30:07.794775Z"
    },
    "papermill": {
     "duration": 0.347934,
     "end_time": "2021-09-19T00:30:07.795267",
     "exception": false,
     "start_time": "2021-09-19T00:30:07.447333",
     "status": "completed"
    },
    "tags": []
   },
   "outputs": [],
   "source": [
    "timestamps = pd.read_sql(\"select distinct record_time from EBAY_TOP_BERLIN order by record_time desc limit 2\", sqlite3.connect(\"UsedObjects.db\"))"
   ]
  },
  {
   "cell_type": "code",
   "execution_count": 3,
   "id": "periodic-identification",
   "metadata": {
    "execution": {
     "iopub.execute_input": "2021-09-19T00:30:07.861298Z",
     "iopub.status.busy": "2021-09-19T00:30:07.859296Z",
     "iopub.status.idle": "2021-09-19T00:30:07.879258Z",
     "shell.execute_reply": "2021-09-19T00:30:07.880468Z"
    },
    "papermill": {
     "duration": 0.066469,
     "end_time": "2021-09-19T00:30:07.880901",
     "exception": false,
     "start_time": "2021-09-19T00:30:07.814432",
     "status": "completed"
    },
    "tags": []
   },
   "outputs": [
    {
     "data": {
      "text/html": [
       "<div>\n",
       "<style scoped>\n",
       "    .dataframe tbody tr th:only-of-type {\n",
       "        vertical-align: middle;\n",
       "    }\n",
       "\n",
       "    .dataframe tbody tr th {\n",
       "        vertical-align: top;\n",
       "    }\n",
       "\n",
       "    .dataframe thead th {\n",
       "        text-align: right;\n",
       "    }\n",
       "</style>\n",
       "<table border=\"1\" class=\"dataframe\">\n",
       "  <thead>\n",
       "    <tr style=\"text-align: right;\">\n",
       "      <th></th>\n",
       "      <th>RECORD_TIME</th>\n",
       "    </tr>\n",
       "  </thead>\n",
       "  <tbody>\n",
       "    <tr>\n",
       "      <th>0</th>\n",
       "      <td>2021-09-19 02:30</td>\n",
       "    </tr>\n",
       "    <tr>\n",
       "      <th>1</th>\n",
       "      <td>2021-09-19 02:00</td>\n",
       "    </tr>\n",
       "  </tbody>\n",
       "</table>\n",
       "</div>"
      ],
      "text/plain": [
       "        RECORD_TIME\n",
       "0  2021-09-19 02:30\n",
       "1  2021-09-19 02:00"
      ]
     },
     "execution_count": 3,
     "metadata": {},
     "output_type": "execute_result"
    }
   ],
   "source": [
    "timestamps"
   ]
  },
  {
   "cell_type": "code",
   "execution_count": 4,
   "id": "alternate-victory",
   "metadata": {
    "execution": {
     "iopub.execute_input": "2021-09-19T00:30:07.933954Z",
     "iopub.status.busy": "2021-09-19T00:30:07.931679Z",
     "iopub.status.idle": "2021-09-19T00:30:08.399758Z",
     "shell.execute_reply": "2021-09-19T00:30:08.401051Z"
    },
    "papermill": {
     "duration": 0.498088,
     "end_time": "2021-09-19T00:30:08.401510",
     "exception": false,
     "start_time": "2021-09-19T00:30:07.903422",
     "status": "completed"
    },
    "tags": []
   },
   "outputs": [],
   "source": [
    "df = pd.read_sql(\"select * from EBAY_TOP_BERLIN where record_time in (select distinct record_time from EBAY_TOP_BERLIN order by record_time desc limit 2)\", sqlite3.connect(\"UsedObjects.db\"))"
   ]
  },
  {
   "cell_type": "code",
   "execution_count": 5,
   "id": "popular-active",
   "metadata": {
    "execution": {
     "iopub.execute_input": "2021-09-19T00:30:08.484815Z",
     "iopub.status.busy": "2021-09-19T00:30:08.472531Z",
     "iopub.status.idle": "2021-09-19T00:30:08.501207Z",
     "shell.execute_reply": "2021-09-19T00:30:08.502565Z"
    },
    "papermill": {
     "duration": 0.073048,
     "end_time": "2021-09-19T00:30:08.503204",
     "exception": false,
     "start_time": "2021-09-19T00:30:08.430156",
     "status": "completed"
    },
    "tags": []
   },
   "outputs": [],
   "source": [
    "df_pivot = df.pivot_table(index=\"PRODUCT\", columns = \"RECORD_TIME\", values = \"LISTING_COUNT\")"
   ]
  },
  {
   "cell_type": "code",
   "execution_count": 6,
   "id": "union-huntington",
   "metadata": {
    "execution": {
     "iopub.execute_input": "2021-09-19T00:30:08.562013Z",
     "iopub.status.busy": "2021-09-19T00:30:08.559602Z",
     "iopub.status.idle": "2021-09-19T00:30:08.565582Z",
     "shell.execute_reply": "2021-09-19T00:30:08.566770Z"
    },
    "papermill": {
     "duration": 0.042119,
     "end_time": "2021-09-19T00:30:08.567279",
     "exception": false,
     "start_time": "2021-09-19T00:30:08.525160",
     "status": "completed"
    },
    "tags": []
   },
   "outputs": [],
   "source": [
    "df_pivot.columns = [\"stamp_1\", \"stamp_2\"]\n",
    "df_pivot_diff = df_pivot.diff(axis=1)"
   ]
  },
  {
   "cell_type": "code",
   "execution_count": 7,
   "id": "fifth-motion",
   "metadata": {
    "execution": {
     "iopub.execute_input": "2021-09-19T00:30:08.620967Z",
     "iopub.status.busy": "2021-09-19T00:30:08.618638Z",
     "iopub.status.idle": "2021-09-19T00:30:10.091331Z",
     "shell.execute_reply": "2021-09-19T00:30:10.092634Z"
    },
    "papermill": {
     "duration": 1.505585,
     "end_time": "2021-09-19T00:30:10.093057",
     "exception": false,
     "start_time": "2021-09-19T00:30:08.587472",
     "status": "completed"
    },
    "tags": []
   },
   "outputs": [
    {
     "data": {
      "text/plain": [
       "<AxesSubplot:ylabel='PRODUCT'>"
      ]
     },
     "execution_count": 7,
     "metadata": {},
     "output_type": "execute_result"
    },
    {
     "data": {
      "image/png": "[encoded data removed]",
      "text/plain": [
       "<Figure size 432x288 with 1 Axes>"
      ]
     },
     "metadata": {
      "needs_background": "light"
     },
     "output_type": "display_data"
    }
   ],
   "source": [
    "df_pivot_diff.sort_values(\"stamp_2\", ascending = False)[\"stamp_2\"].head(10).plot.barh()"
   ]
  },
  {
   "cell_type": "code",
   "execution_count": null,
   "id": "extra-executive",
   "metadata": {
    "papermill": {
     "duration": 0.021844,
     "end_time": "2021-09-19T00:30:10.139089",
     "exception": false,
     "start_time": "2021-09-19T00:30:10.117245",
     "status": "completed"
    },
    "tags": []
   },
   "outputs": [],
   "source": []
  }
 ],
 "metadata": {
  "kernelspec": {
   "display_name": "Python 3",
   "language": "python",
   "name": "python3"
  },
  "language_info": {
   "codemirror_mode": {
    "name": "ipython",
    "version": 3
   },
   "file_extension": ".py",
   "mimetype": "text/x-python",
   "name": "python",
   "nbconvert_exporter": "python",
   "pygments_lexer": "ipython3",
   "version": "3.9.5"
  },
  "papermill": {
   "default_parameters": {},
   "duration": 6.60945,
   "end_time": "2021-09-19T00:30:10.780172",
   "environment_variables": {},
   "exception": null,
   "input_path": "eBay_Overview.ipynb",
   "output_path": "eBay_Overview.ipynb",
   "parameters": {},
   "start_time": "2021-09-19T00:30:04.170722",
   "version": "2.3.3"
  }
 },
 "nbformat": 4,
 "nbformat_minor": 5
}