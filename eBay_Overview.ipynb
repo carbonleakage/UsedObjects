{
 "cells": [
  {
   "cell_type": "code",
   "execution_count": 1,
   "id": "reverse-picking",
   "metadata": {
    "execution": {
     "iopub.execute_input": "2021-10-23T07:30:06.939169Z",
     "iopub.status.busy": "2021-10-23T07:30:06.937229Z",
     "iopub.status.idle": "2021-10-23T07:30:07.745305Z",
     "shell.execute_reply": "2021-10-23T07:30:07.746662Z"
    },
    "papermill": {
     "duration": 0.861508,
     "end_time": "2021-10-23T07:30:07.747277",
     "exception": false,
     "start_time": "2021-10-23T07:30:06.885769",
     "status": "completed"
    },
    "tags": []
   },
   "outputs": [],
   "source": [
    "import pandas as pd\n",
    "import sqlite3"
   ]
  },
  {
   "cell_type": "code",
   "execution_count": 2,
   "id": "innovative-syndrome",
   "metadata": {
    "execution": {
     "iopub.execute_input": "2021-10-23T07:30:07.797324Z",
     "iopub.status.busy": "2021-10-23T07:30:07.795307Z",
     "iopub.status.idle": "2021-10-23T07:30:08.401212Z",
     "shell.execute_reply": "2021-10-23T07:30:08.402536Z"
    },
    "papermill": {
     "duration": 0.635687,
     "end_time": "2021-10-23T07:30:08.402936",
     "exception": false,
     "start_time": "2021-10-23T07:30:07.767249",
     "status": "completed"
    },
    "tags": []
   },
   "outputs": [],
   "source": [
    "timestamps = pd.read_sql(\"select distinct record_time from EBAY_TOP_BERLIN order by record_time desc limit 2\", sqlite3.connect(\"UsedObjects.db\"))"
   ]
  },
  {
   "cell_type": "code",
   "execution_count": 3,
   "id": "periodic-identification",
   "metadata": {
    "execution": {
     "iopub.execute_input": "2021-10-23T07:30:08.478889Z",
     "iopub.status.busy": "2021-10-23T07:30:08.476858Z",
     "iopub.status.idle": "2021-10-23T07:30:08.496906Z",
     "shell.execute_reply": "2021-10-23T07:30:08.498132Z"
    },
    "papermill": {
     "duration": 0.070749,
     "end_time": "2021-10-23T07:30:08.498563",
     "exception": false,
     "start_time": "2021-10-23T07:30:08.427814",
     "status": "completed"
    },
    "tags": []
   },
   "outputs": [
    {
     "data": {
      "text/html": [
       "<div>\n",
       "<style scoped>\n",
       "    .dataframe tbody tr th:only-of-type {\n",
       "        vertical-align: middle;\n",
       "    }\n",
       "\n",
       "    .dataframe tbody tr th {\n",
       "        vertical-align: top;\n",
       "    }\n",
       "\n",
       "    .dataframe thead th {\n",
       "        text-align: right;\n",
       "    }\n",
       "</style>\n",
       "<table border=\"1\" class=\"dataframe\">\n",
       "  <thead>\n",
       "    <tr style=\"text-align: right;\">\n",
       "      <th></th>\n",
       "      <th>RECORD_TIME</th>\n",
       "    </tr>\n",
       "  </thead>\n",
       "  <tbody>\n",
       "    <tr>\n",
       "      <th>0</th>\n",
       "      <td>2021-10-23 09:30</td>\n",
       "    </tr>\n",
       "    <tr>\n",
       "      <th>1</th>\n",
       "      <td>2021-10-23 09:00</td>\n",
       "    </tr>\n",
       "  </tbody>\n",
       "</table>\n",
       "</div>"
      ],
      "text/plain": [
       "        RECORD_TIME\n",
       "0  2021-10-23 09:30\n",
       "1  2021-10-23 09:00"
      ]
     },
     "execution_count": 3,
     "metadata": {},
     "output_type": "execute_result"
    }
   ],
   "source": [
    "timestamps"
   ]
  },
  {
   "cell_type": "code",
   "execution_count": 4,
   "id": "alternate-victory",
   "metadata": {
    "execution": {
     "iopub.execute_input": "2021-10-23T07:30:08.552773Z",
     "iopub.status.busy": "2021-10-23T07:30:08.550432Z",
     "iopub.status.idle": "2021-10-23T07:30:09.481774Z",
     "shell.execute_reply": "2021-10-23T07:30:09.483002Z"
    },
    "papermill": {
     "duration": 0.961845,
     "end_time": "2021-10-23T07:30:09.483394",
     "exception": false,
     "start_time": "2021-10-23T07:30:08.521549",
     "status": "completed"
    },
    "tags": []
   },
   "outputs": [],
   "source": [
    "df = pd.read_sql(\"select * from EBAY_TOP_BERLIN where record_time in (select distinct record_time from EBAY_TOP_BERLIN order by record_time desc limit 2)\", sqlite3.connect(\"UsedObjects.db\"))"
   ]
  },
  {
   "cell_type": "code",
   "execution_count": 5,
   "id": "popular-active",
   "metadata": {
    "execution": {
     "iopub.execute_input": "2021-10-23T07:30:09.557316Z",
     "iopub.status.busy": "2021-10-23T07:30:09.545675Z",
     "iopub.status.idle": "2021-10-23T07:30:09.573023Z",
     "shell.execute_reply": "2021-10-23T07:30:09.574277Z"
    },
    "papermill": {
     "duration": 0.067695,
     "end_time": "2021-10-23T07:30:09.574674",
     "exception": false,
     "start_time": "2021-10-23T07:30:09.506979",
     "status": "completed"
    },
    "tags": []
   },
   "outputs": [],
   "source": [
    "df_pivot = df.pivot_table(index=\"PRODUCT\", columns = \"RECORD_TIME\", values = \"LISTING_COUNT\")"
   ]
  },
  {
   "cell_type": "code",
   "execution_count": 6,
   "id": "union-huntington",
   "metadata": {
    "execution": {
     "iopub.execute_input": "2021-10-23T07:30:09.632825Z",
     "iopub.status.busy": "2021-10-23T07:30:09.630505Z",
     "iopub.status.idle": "2021-10-23T07:30:09.636274Z",
     "shell.execute_reply": "2021-10-23T07:30:09.637558Z"
    },
    "papermill": {
     "duration": 0.041723,
     "end_time": "2021-10-23T07:30:09.637991",
     "exception": false,
     "start_time": "2021-10-23T07:30:09.596268",
     "status": "completed"
    },
    "tags": []
   },
   "outputs": [],
   "source": [
    "df_pivot.columns = [\"stamp_1\", \"stamp_2\"]\n",
    "df_pivot_diff = df_pivot.diff(axis=1)"
   ]
  },
  {
   "cell_type": "code",
   "execution_count": 7,
   "id": "fifth-motion",
   "metadata": {
    "execution": {
     "iopub.execute_input": "2021-10-23T07:30:09.691904Z",
     "iopub.status.busy": "2021-10-23T07:30:09.689644Z",
     "iopub.status.idle": "2021-10-23T07:30:11.222154Z",
     "shell.execute_reply": "2021-10-23T07:30:11.223470Z"
    },
    "papermill": {
     "duration": 1.565164,
     "end_time": "2021-10-23T07:30:11.223883",
     "exception": false,
     "start_time": "2021-10-23T07:30:09.658719",
     "status": "completed"
    },
    "tags": []
   },
   "outputs": [
    {
     "data": {
      "text/plain": [
       "<AxesSubplot:ylabel='PRODUCT'>"
      ]
     },
     "execution_count": 7,
     "metadata": {},
     "output_type": "execute_result"
    },
    {
     "data": {
      "image/png": "[encoded data removed]",
      "text/plain": [
       "<Figure size 432x288 with 1 Axes>"
      ]
     },
     "metadata": {
      "needs_background": "light"
     },
     "output_type": "display_data"
    }
   ],
   "source": [
    "df_pivot_diff.sort_values(\"stamp_2\", ascending = False)[\"stamp_2\"].head(10).plot.barh()"
   ]
  },
  {
   "cell_type": "code",
   "execution_count": null,
   "id": "extra-executive",
   "metadata": {
    "papermill": {
     "duration": 0.022315,
     "end_time": "2021-10-23T07:30:11.269769",
     "exception": false,
     "start_time": "2021-10-23T07:30:11.247454",
     "status": "completed"
    },
    "tags": []
   },
   "outputs": [],
   "source": []
  }
 ],
 "metadata": {
  "kernelspec": {
   "display_name": "Python 3",
   "language": "python",
   "name": "python3"
  },
  "language_info": {
   "codemirror_mode": {
    "name": "ipython",
    "version": 3
   },
   "file_extension": ".py",
   "mimetype": "text/x-python",
   "name": "python",
   "nbconvert_exporter": "python",
   "pygments_lexer": "ipython3",
   "version": "3.9.5"
  },
  "papermill": {
   "default_parameters": {},
   "duration": 7.435979,
   "end_time": "2021-10-23T07:30:11.913025",
   "environment_variables": {},
   "exception": null,
   "input_path": "eBay_Overview.ipynb",
   "output_path": "eBay_Overview.ipynb",
   "parameters": {},
   "start_time": "2021-10-23T07:30:04.477046",
   "version": "2.3.3"
  }
 },
 "nbformat": 4,
 "nbformat_minor": 5
}