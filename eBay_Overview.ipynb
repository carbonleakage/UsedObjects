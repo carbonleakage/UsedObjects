{
 "cells": [
  {
   "cell_type": "code",
   "execution_count": 1,
   "id": "reverse-picking",
   "metadata": {
    "execution": {
     "iopub.execute_input": "2021-08-24T08:00:06.878122Z",
     "iopub.status.busy": "2021-08-24T08:00:06.876139Z",
     "iopub.status.idle": "2021-08-24T08:00:07.684249Z",
     "shell.execute_reply": "2021-08-24T08:00:07.685500Z"
    },
    "papermill": {
     "duration": 0.860824,
     "end_time": "2021-08-24T08:00:07.686175",
     "exception": false,
     "start_time": "2021-08-24T08:00:06.825351",
     "status": "completed"
    },
    "tags": []
   },
   "outputs": [],
   "source": [
    "import pandas as pd\n",
    "import sqlite3"
   ]
  },
  {
   "cell_type": "code",
   "execution_count": 2,
   "id": "innovative-syndrome",
   "metadata": {
    "execution": {
     "iopub.execute_input": "2021-08-24T08:00:07.739128Z",
     "iopub.status.busy": "2021-08-24T08:00:07.737165Z",
     "iopub.status.idle": "2021-08-24T08:00:07.856440Z",
     "shell.execute_reply": "2021-08-24T08:00:07.857638Z"
    },
    "papermill": {
     "duration": 0.149241,
     "end_time": "2021-08-24T08:00:07.858208",
     "exception": false,
     "start_time": "2021-08-24T08:00:07.708967",
     "status": "completed"
    },
    "tags": []
   },
   "outputs": [],
   "source": [
    "timestamps = pd.read_sql(\"select distinct record_time from EBAY_TOP_BERLIN order by record_time desc limit 2\", sqlite3.connect(\"UsedObjects.db\"))"
   ]
  },
  {
   "cell_type": "code",
   "execution_count": 3,
   "id": "periodic-identification",
   "metadata": {
    "execution": {
     "iopub.execute_input": "2021-08-24T08:00:07.924588Z",
     "iopub.status.busy": "2021-08-24T08:00:07.922595Z",
     "iopub.status.idle": "2021-08-24T08:00:07.942681Z",
     "shell.execute_reply": "2021-08-24T08:00:07.943948Z"
    },
    "papermill": {
     "duration": 0.066329,
     "end_time": "2021-08-24T08:00:07.944401",
     "exception": false,
     "start_time": "2021-08-24T08:00:07.878072",
     "status": "completed"
    },
    "tags": []
   },
   "outputs": [
    {
     "data": {
      "text/html": [
       "<div>\n",
       "<style scoped>\n",
       "    .dataframe tbody tr th:only-of-type {\n",
       "        vertical-align: middle;\n",
       "    }\n",
       "\n",
       "    .dataframe tbody tr th {\n",
       "        vertical-align: top;\n",
       "    }\n",
       "\n",
       "    .dataframe thead th {\n",
       "        text-align: right;\n",
       "    }\n",
       "</style>\n",
       "<table border=\"1\" class=\"dataframe\">\n",
       "  <thead>\n",
       "    <tr style=\"text-align: right;\">\n",
       "      <th></th>\n",
       "      <th>RECORD_TIME</th>\n",
       "    </tr>\n",
       "  </thead>\n",
       "  <tbody>\n",
       "    <tr>\n",
       "      <th>0</th>\n",
       "      <td>2021-08-24 10:00</td>\n",
       "    </tr>\n",
       "    <tr>\n",
       "      <th>1</th>\n",
       "      <td>2021-08-24 09:30</td>\n",
       "    </tr>\n",
       "  </tbody>\n",
       "</table>\n",
       "</div>"
      ],
      "text/plain": [
       "        RECORD_TIME\n",
       "0  2021-08-24 10:00\n",
       "1  2021-08-24 09:30"
      ]
     },
     "execution_count": 3,
     "metadata": {},
     "output_type": "execute_result"
    }
   ],
   "source": [
    "timestamps"
   ]
  },
  {
   "cell_type": "code",
   "execution_count": 4,
   "id": "alternate-victory",
   "metadata": {
    "execution": {
     "iopub.execute_input": "2021-08-24T08:00:07.996814Z",
     "iopub.status.busy": "2021-08-24T08:00:07.994980Z",
     "iopub.status.idle": "2021-08-24T08:00:08.170630Z",
     "shell.execute_reply": "2021-08-24T08:00:08.171758Z"
    },
    "papermill": {
     "duration": 0.205738,
     "end_time": "2021-08-24T08:00:08.172167",
     "exception": false,
     "start_time": "2021-08-24T08:00:07.966429",
     "status": "completed"
    },
    "tags": []
   },
   "outputs": [],
   "source": [
    "df = pd.read_sql(\"select * from EBAY_TOP_BERLIN where record_time in (select distinct record_time from EBAY_TOP_BERLIN order by record_time desc limit 2)\", sqlite3.connect(\"UsedObjects.db\"))"
   ]
  },
  {
   "cell_type": "code",
   "execution_count": 5,
   "id": "popular-active",
   "metadata": {
    "execution": {
     "iopub.execute_input": "2021-08-24T08:00:08.243146Z",
     "iopub.status.busy": "2021-08-24T08:00:08.231542Z",
     "iopub.status.idle": "2021-08-24T08:00:08.259589Z",
     "shell.execute_reply": "2021-08-24T08:00:08.260900Z"
    },
    "papermill": {
     "duration": 0.067066,
     "end_time": "2021-08-24T08:00:08.261317",
     "exception": false,
     "start_time": "2021-08-24T08:00:08.194251",
     "status": "completed"
    },
    "tags": []
   },
   "outputs": [],
   "source": [
    "df_pivot = df.pivot_table(index=\"PRODUCT\", columns = \"RECORD_TIME\", values = \"LISTING_COUNT\")"
   ]
  },
  {
   "cell_type": "code",
   "execution_count": 6,
   "id": "union-huntington",
   "metadata": {
    "execution": {
     "iopub.execute_input": "2021-08-24T08:00:08.321685Z",
     "iopub.status.busy": "2021-08-24T08:00:08.319664Z",
     "iopub.status.idle": "2021-08-24T08:00:08.325031Z",
     "shell.execute_reply": "2021-08-24T08:00:08.326527Z"
    },
    "papermill": {
     "duration": 0.045684,
     "end_time": "2021-08-24T08:00:08.326961",
     "exception": false,
     "start_time": "2021-08-24T08:00:08.281277",
     "status": "completed"
    },
    "tags": []
   },
   "outputs": [],
   "source": [
    "df_pivot.columns = [\"stamp_1\", \"stamp_2\"]\n",
    "df_pivot_diff = df_pivot.diff(axis=1)"
   ]
  },
  {
   "cell_type": "code",
   "execution_count": 7,
   "id": "fifth-motion",
   "metadata": {
    "execution": {
     "iopub.execute_input": "2021-08-24T08:00:08.383661Z",
     "iopub.status.busy": "2021-08-24T08:00:08.380942Z",
     "iopub.status.idle": "2021-08-24T08:00:09.872739Z",
     "shell.execute_reply": "2021-08-24T08:00:09.874246Z"
    },
    "papermill": {
     "duration": 1.525943,
     "end_time": "2021-08-24T08:00:09.874718",
     "exception": false,
     "start_time": "2021-08-24T08:00:08.348775",
     "status": "completed"
    },
    "tags": []
   },
   "outputs": [
    {
     "data": {
      "text/plain": [
       "<AxesSubplot:ylabel='PRODUCT'>"
      ]
     },
     "execution_count": 7,
     "metadata": {},
     "output_type": "execute_result"
    },
    {
     "data": {
      "image/png": "[encoded data removed]",
      "text/plain": [
       "<Figure size 432x288 with 1 Axes>"
      ]
     },
     "metadata": {
      "needs_background": "light"
     },
     "output_type": "display_data"
    }
   ],
   "source": [
    "df_pivot_diff.sort_values(\"stamp_2\", ascending = False)[\"stamp_2\"].head(10).plot.barh()"
   ]
  },
  {
   "cell_type": "code",
   "execution_count": null,
   "id": "extra-executive",
   "metadata": {
    "papermill": {
     "duration": 0.022445,
     "end_time": "2021-08-24T08:00:09.921867",
     "exception": false,
     "start_time": "2021-08-24T08:00:09.899422",
     "status": "completed"
    },
    "tags": []
   },
   "outputs": [],
   "source": []
  }
 ],
 "metadata": {
  "kernelspec": {
   "display_name": "Python 3",
   "language": "python",
   "name": "python3"
  },
  "language_info": {
   "codemirror_mode": {
    "name": "ipython",
    "version": 3
   },
   "file_extension": ".py",
   "mimetype": "text/x-python",
   "name": "python",
   "nbconvert_exporter": "python",
   "pygments_lexer": "ipython3",
   "version": "3.9.5"
  },
  "papermill": {
   "default_parameters": {},
   "duration": 6.821319,
   "end_time": "2021-08-24T08:00:11.236966",
   "environment_variables": {},
   "exception": null,
   "input_path": "eBay_Overview.ipynb",
   "output_path": "eBay_Overview.ipynb",
   "parameters": {},
   "start_time": "2021-08-24T08:00:04.415647",
   "version": "2.3.3"
  }
 },
 "nbformat": 4,
 "nbformat_minor": 5
}