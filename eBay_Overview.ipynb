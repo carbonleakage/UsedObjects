{
 "cells": [
  {
   "cell_type": "code",
   "execution_count": 1,
   "id": "reverse-picking",
   "metadata": {
    "execution": {
     "iopub.execute_input": "2021-08-21T05:00:07.071666Z",
     "iopub.status.busy": "2021-08-21T05:00:07.069636Z",
     "iopub.status.idle": "2021-08-21T05:00:07.875505Z",
     "shell.execute_reply": "2021-08-21T05:00:07.876742Z"
    },
    "papermill": {
     "duration": 0.858785,
     "end_time": "2021-08-21T05:00:07.877362",
     "exception": false,
     "start_time": "2021-08-21T05:00:07.018577",
     "status": "completed"
    },
    "tags": []
   },
   "outputs": [],
   "source": [
    "import pandas as pd\n",
    "import sqlite3"
   ]
  },
  {
   "cell_type": "code",
   "execution_count": 2,
   "id": "innovative-syndrome",
   "metadata": {
    "execution": {
     "iopub.execute_input": "2021-08-21T05:00:07.928339Z",
     "iopub.status.busy": "2021-08-21T05:00:07.926383Z",
     "iopub.status.idle": "2021-08-21T05:00:08.021363Z",
     "shell.execute_reply": "2021-08-21T05:00:08.023344Z"
    },
    "papermill": {
     "duration": 0.125502,
     "end_time": "2021-08-21T05:00:08.023894",
     "exception": false,
     "start_time": "2021-08-21T05:00:07.898392",
     "status": "completed"
    },
    "tags": []
   },
   "outputs": [],
   "source": [
    "timestamps = pd.read_sql(\"select distinct record_time from EBAY_TOP_BERLIN order by record_time desc limit 2\", sqlite3.connect(\"UsedObjects.db\"))"
   ]
  },
  {
   "cell_type": "code",
   "execution_count": 3,
   "id": "periodic-identification",
   "metadata": {
    "execution": {
     "iopub.execute_input": "2021-08-21T05:00:08.089354Z",
     "iopub.status.busy": "2021-08-21T05:00:08.087368Z",
     "iopub.status.idle": "2021-08-21T05:00:08.107419Z",
     "shell.execute_reply": "2021-08-21T05:00:08.109048Z"
    },
    "papermill": {
     "duration": 0.066327,
     "end_time": "2021-08-21T05:00:08.109547",
     "exception": false,
     "start_time": "2021-08-21T05:00:08.043220",
     "status": "completed"
    },
    "tags": []
   },
   "outputs": [
    {
     "data": {
      "text/html": [
       "<div>\n",
       "<style scoped>\n",
       "    .dataframe tbody tr th:only-of-type {\n",
       "        vertical-align: middle;\n",
       "    }\n",
       "\n",
       "    .dataframe tbody tr th {\n",
       "        vertical-align: top;\n",
       "    }\n",
       "\n",
       "    .dataframe thead th {\n",
       "        text-align: right;\n",
       "    }\n",
       "</style>\n",
       "<table border=\"1\" class=\"dataframe\">\n",
       "  <thead>\n",
       "    <tr style=\"text-align: right;\">\n",
       "      <th></th>\n",
       "      <th>RECORD_TIME</th>\n",
       "    </tr>\n",
       "  </thead>\n",
       "  <tbody>\n",
       "    <tr>\n",
       "      <th>0</th>\n",
       "      <td>2021-08-21 07:00</td>\n",
       "    </tr>\n",
       "    <tr>\n",
       "      <th>1</th>\n",
       "      <td>2021-08-21 06:30</td>\n",
       "    </tr>\n",
       "  </tbody>\n",
       "</table>\n",
       "</div>"
      ],
      "text/plain": [
       "        RECORD_TIME\n",
       "0  2021-08-21 07:00\n",
       "1  2021-08-21 06:30"
      ]
     },
     "execution_count": 3,
     "metadata": {},
     "output_type": "execute_result"
    }
   ],
   "source": [
    "timestamps"
   ]
  },
  {
   "cell_type": "code",
   "execution_count": 4,
   "id": "alternate-victory",
   "metadata": {
    "execution": {
     "iopub.execute_input": "2021-08-21T05:00:08.162001Z",
     "iopub.status.busy": "2021-08-21T05:00:08.160059Z",
     "iopub.status.idle": "2021-08-21T05:00:08.301077Z",
     "shell.execute_reply": "2021-08-21T05:00:08.302459Z"
    },
    "papermill": {
     "duration": 0.171668,
     "end_time": "2021-08-21T05:00:08.302896",
     "exception": false,
     "start_time": "2021-08-21T05:00:08.131228",
     "status": "completed"
    },
    "tags": []
   },
   "outputs": [],
   "source": [
    "df = pd.read_sql(\"select * from EBAY_TOP_BERLIN where record_time in (select distinct record_time from EBAY_TOP_BERLIN order by record_time desc limit 2)\", sqlite3.connect(\"UsedObjects.db\"))"
   ]
  },
  {
   "cell_type": "code",
   "execution_count": 5,
   "id": "popular-active",
   "metadata": {
    "execution": {
     "iopub.execute_input": "2021-08-21T05:00:08.372597Z",
     "iopub.status.busy": "2021-08-21T05:00:08.360688Z",
     "iopub.status.idle": "2021-08-21T05:00:08.387957Z",
     "shell.execute_reply": "2021-08-21T05:00:08.389172Z"
    },
    "papermill": {
     "duration": 0.065892,
     "end_time": "2021-08-21T05:00:08.389572",
     "exception": false,
     "start_time": "2021-08-21T05:00:08.323680",
     "status": "completed"
    },
    "tags": []
   },
   "outputs": [],
   "source": [
    "df_pivot = df.pivot_table(index=\"PRODUCT\", columns = \"RECORD_TIME\", values = \"LISTING_COUNT\")"
   ]
  },
  {
   "cell_type": "code",
   "execution_count": 6,
   "id": "union-huntington",
   "metadata": {
    "execution": {
     "iopub.execute_input": "2021-08-21T05:00:08.449877Z",
     "iopub.status.busy": "2021-08-21T05:00:08.447439Z",
     "iopub.status.idle": "2021-08-21T05:00:08.453321Z",
     "shell.execute_reply": "2021-08-21T05:00:08.454683Z"
    },
    "papermill": {
     "duration": 0.043025,
     "end_time": "2021-08-21T05:00:08.455114",
     "exception": false,
     "start_time": "2021-08-21T05:00:08.412089",
     "status": "completed"
    },
    "tags": []
   },
   "outputs": [],
   "source": [
    "df_pivot.columns = [\"stamp_1\", \"stamp_2\"]\n",
    "df_pivot_diff = df_pivot.diff(axis=1)"
   ]
  },
  {
   "cell_type": "code",
   "execution_count": 7,
   "id": "fifth-motion",
   "metadata": {
    "execution": {
     "iopub.execute_input": "2021-08-21T05:00:08.514726Z",
     "iopub.status.busy": "2021-08-21T05:00:08.512213Z",
     "iopub.status.idle": "2021-08-21T05:00:10.010470Z",
     "shell.execute_reply": "2021-08-21T05:00:10.011763Z"
    },
    "papermill": {
     "duration": 1.536319,
     "end_time": "2021-08-21T05:00:10.012180",
     "exception": false,
     "start_time": "2021-08-21T05:00:08.475861",
     "status": "completed"
    },
    "tags": []
   },
   "outputs": [
    {
     "data": {
      "text/plain": [
       "<AxesSubplot:ylabel='PRODUCT'>"
      ]
     },
     "execution_count": 7,
     "metadata": {},
     "output_type": "execute_result"
    },
    {
     "data": {
      "image/png": "[encoded data removed]",
      "text/plain": [
       "<Figure size 432x288 with 1 Axes>"
      ]
     },
     "metadata": {
      "needs_background": "light"
     },
     "output_type": "display_data"
    }
   ],
   "source": [
    "df_pivot_diff.sort_values(\"stamp_2\", ascending = False)[\"stamp_2\"].head(10).plot.barh()"
   ]
  },
  {
   "cell_type": "code",
   "execution_count": null,
   "id": "extra-executive",
   "metadata": {
    "papermill": {
     "duration": 0.022412,
     "end_time": "2021-08-21T05:00:10.059437",
     "exception": false,
     "start_time": "2021-08-21T05:00:10.037025",
     "status": "completed"
    },
    "tags": []
   },
   "outputs": [],
   "source": []
  }
 ],
 "metadata": {
  "kernelspec": {
   "display_name": "Python 3",
   "language": "python",
   "name": "python3"
  },
  "language_info": {
   "codemirror_mode": {
    "name": "ipython",
    "version": 3
   },
   "file_extension": ".py",
   "mimetype": "text/x-python",
   "name": "python",
   "nbconvert_exporter": "python",
   "pygments_lexer": "ipython3",
   "version": "3.9.5"
  },
  "papermill": {
   "default_parameters": {},
   "duration": 6.824248,
   "end_time": "2021-08-21T05:00:11.434805",
   "environment_variables": {},
   "exception": null,
   "input_path": "eBay_Overview.ipynb",
   "output_path": "eBay_Overview.ipynb",
   "parameters": {},
   "start_time": "2021-08-21T05:00:04.610557",
   "version": "2.3.3"
  }
 },
 "nbformat": 4,
 "nbformat_minor": 5
}