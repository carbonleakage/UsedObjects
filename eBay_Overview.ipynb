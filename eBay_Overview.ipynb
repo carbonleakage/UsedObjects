{
 "cells": [
  {
   "cell_type": "code",
   "execution_count": 1,
   "id": "reverse-picking",
   "metadata": {
    "execution": {
     "iopub.execute_input": "2021-10-27T05:00:07.526325Z",
     "iopub.status.busy": "2021-10-27T05:00:07.524277Z",
     "iopub.status.idle": "2021-10-27T05:00:08.327281Z",
     "shell.execute_reply": "2021-10-27T05:00:08.328563Z"
    },
    "papermill": {
     "duration": 0.854886,
     "end_time": "2021-10-27T05:00:08.329269",
     "exception": false,
     "start_time": "2021-10-27T05:00:07.474383",
     "status": "completed"
    },
    "tags": []
   },
   "outputs": [],
   "source": [
    "import pandas as pd\n",
    "import sqlite3"
   ]
  },
  {
   "cell_type": "code",
   "execution_count": 2,
   "id": "innovative-syndrome",
   "metadata": {
    "execution": {
     "iopub.execute_input": "2021-10-27T05:00:08.379985Z",
     "iopub.status.busy": "2021-10-27T05:00:08.377935Z",
     "iopub.status.idle": "2021-10-27T05:00:09.025249Z",
     "shell.execute_reply": "2021-10-27T05:00:09.026467Z"
    },
    "papermill": {
     "duration": 0.677431,
     "end_time": "2021-10-27T05:00:09.026873",
     "exception": false,
     "start_time": "2021-10-27T05:00:08.349442",
     "status": "completed"
    },
    "tags": []
   },
   "outputs": [],
   "source": [
    "timestamps = pd.read_sql(\"select distinct record_time from EBAY_TOP_BERLIN order by record_time desc limit 2\", sqlite3.connect(\"UsedObjects.db\"))"
   ]
  },
  {
   "cell_type": "code",
   "execution_count": 3,
   "id": "periodic-identification",
   "metadata": {
    "execution": {
     "iopub.execute_input": "2021-10-27T05:00:09.103144Z",
     "iopub.status.busy": "2021-10-27T05:00:09.101093Z",
     "iopub.status.idle": "2021-10-27T05:00:09.122491Z",
     "shell.execute_reply": "2021-10-27T05:00:09.124204Z"
    },
    "papermill": {
     "duration": 0.069959,
     "end_time": "2021-10-27T05:00:09.124814",
     "exception": false,
     "start_time": "2021-10-27T05:00:09.054855",
     "status": "completed"
    },
    "tags": []
   },
   "outputs": [
    {
     "data": {
      "text/html": [
       "<div>\n",
       "<style scoped>\n",
       "    .dataframe tbody tr th:only-of-type {\n",
       "        vertical-align: middle;\n",
       "    }\n",
       "\n",
       "    .dataframe tbody tr th {\n",
       "        vertical-align: top;\n",
       "    }\n",
       "\n",
       "    .dataframe thead th {\n",
       "        text-align: right;\n",
       "    }\n",
       "</style>\n",
       "<table border=\"1\" class=\"dataframe\">\n",
       "  <thead>\n",
       "    <tr style=\"text-align: right;\">\n",
       "      <th></th>\n",
       "      <th>RECORD_TIME</th>\n",
       "    </tr>\n",
       "  </thead>\n",
       "  <tbody>\n",
       "    <tr>\n",
       "      <th>0</th>\n",
       "      <td>2021-10-27 07:00</td>\n",
       "    </tr>\n",
       "    <tr>\n",
       "      <th>1</th>\n",
       "      <td>2021-10-27 06:30</td>\n",
       "    </tr>\n",
       "  </tbody>\n",
       "</table>\n",
       "</div>"
      ],
      "text/plain": [
       "        RECORD_TIME\n",
       "0  2021-10-27 07:00\n",
       "1  2021-10-27 06:30"
      ]
     },
     "execution_count": 3,
     "metadata": {},
     "output_type": "execute_result"
    }
   ],
   "source": [
    "timestamps"
   ]
  },
  {
   "cell_type": "code",
   "execution_count": 4,
   "id": "alternate-victory",
   "metadata": {
    "execution": {
     "iopub.execute_input": "2021-10-27T05:00:09.177040Z",
     "iopub.status.busy": "2021-10-27T05:00:09.175091Z",
     "iopub.status.idle": "2021-10-27T05:00:10.121812Z",
     "shell.execute_reply": "2021-10-27T05:00:10.123107Z"
    },
    "papermill": {
     "duration": 0.976487,
     "end_time": "2021-10-27T05:00:10.123514",
     "exception": false,
     "start_time": "2021-10-27T05:00:09.147027",
     "status": "completed"
    },
    "tags": []
   },
   "outputs": [],
   "source": [
    "df = pd.read_sql(\"select * from EBAY_TOP_BERLIN where record_time in (select distinct record_time from EBAY_TOP_BERLIN order by record_time desc limit 2)\", sqlite3.connect(\"UsedObjects.db\"))"
   ]
  },
  {
   "cell_type": "code",
   "execution_count": 5,
   "id": "popular-active",
   "metadata": {
    "execution": {
     "iopub.execute_input": "2021-10-27T05:00:10.188466Z",
     "iopub.status.busy": "2021-10-27T05:00:10.180862Z",
     "iopub.status.idle": "2021-10-27T05:00:10.209858Z",
     "shell.execute_reply": "2021-10-27T05:00:10.211244Z"
    },
    "papermill": {
     "duration": 0.067772,
     "end_time": "2021-10-27T05:00:10.211685",
     "exception": false,
     "start_time": "2021-10-27T05:00:10.143913",
     "status": "completed"
    },
    "tags": []
   },
   "outputs": [],
   "source": [
    "df_pivot = df.pivot_table(index=\"PRODUCT\", columns = \"RECORD_TIME\", values = \"LISTING_COUNT\")"
   ]
  },
  {
   "cell_type": "code",
   "execution_count": 6,
   "id": "union-huntington",
   "metadata": {
    "execution": {
     "iopub.execute_input": "2021-10-27T05:00:10.268096Z",
     "iopub.status.busy": "2021-10-27T05:00:10.265971Z",
     "iopub.status.idle": "2021-10-27T05:00:10.271306Z",
     "shell.execute_reply": "2021-10-27T05:00:10.272577Z"
    },
    "papermill": {
     "duration": 0.04099,
     "end_time": "2021-10-27T05:00:10.273052",
     "exception": false,
     "start_time": "2021-10-27T05:00:10.232062",
     "status": "completed"
    },
    "tags": []
   },
   "outputs": [],
   "source": [
    "df_pivot.columns = [\"stamp_1\", \"stamp_2\"]\n",
    "df_pivot_diff = df_pivot.diff(axis=1)"
   ]
  },
  {
   "cell_type": "code",
   "execution_count": 7,
   "id": "fifth-motion",
   "metadata": {
    "execution": {
     "iopub.execute_input": "2021-10-27T05:00:10.327081Z",
     "iopub.status.busy": "2021-10-27T05:00:10.324603Z",
     "iopub.status.idle": "2021-10-27T05:00:11.814744Z",
     "shell.execute_reply": "2021-10-27T05:00:11.816140Z"
    },
    "papermill": {
     "duration": 1.522958,
     "end_time": "2021-10-27T05:00:11.816587",
     "exception": false,
     "start_time": "2021-10-27T05:00:10.293629",
     "status": "completed"
    },
    "tags": []
   },
   "outputs": [
    {
     "data": {
      "text/plain": [
       "<AxesSubplot:ylabel='PRODUCT'>"
      ]
     },
     "execution_count": 7,
     "metadata": {},
     "output_type": "execute_result"
    },
    {
     "data": {
      "image/png": "[encoded data removed]",
      "text/plain": [
       "<Figure size 432x288 with 1 Axes>"
      ]
     },
     "metadata": {
      "needs_background": "light"
     },
     "output_type": "display_data"
    }
   ],
   "source": [
    "df_pivot_diff.sort_values(\"stamp_2\", ascending = False)[\"stamp_2\"].head(10).plot.barh()"
   ]
  },
  {
   "cell_type": "code",
   "execution_count": null,
   "id": "extra-executive",
   "metadata": {
    "papermill": {
     "duration": 0.021948,
     "end_time": "2021-10-27T05:00:11.862352",
     "exception": false,
     "start_time": "2021-10-27T05:00:11.840404",
     "status": "completed"
    },
    "tags": []
   },
   "outputs": [],
   "source": []
  }
 ],
 "metadata": {
  "kernelspec": {
   "display_name": "Python 3",
   "language": "python",
   "name": "python3"
  },
  "language_info": {
   "codemirror_mode": {
    "name": "ipython",
    "version": 3
   },
   "file_extension": ".py",
   "mimetype": "text/x-python",
   "name": "python",
   "nbconvert_exporter": "python",
   "pygments_lexer": "ipython3",
   "version": "3.9.5"
  },
  "papermill": {
   "default_parameters": {},
   "duration": 7.435797,
   "end_time": "2021-10-27T05:00:12.505252",
   "environment_variables": {},
   "exception": null,
   "input_path": "eBay_Overview.ipynb",
   "output_path": "eBay_Overview.ipynb",
   "parameters": {},
   "start_time": "2021-10-27T05:00:05.069455",
   "version": "2.3.3"
  }
 },
 "nbformat": 4,
 "nbformat_minor": 5
}