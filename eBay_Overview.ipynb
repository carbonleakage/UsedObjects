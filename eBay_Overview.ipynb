{
 "cells": [
  {
   "cell_type": "code",
   "execution_count": 1,
   "id": "reverse-picking",
   "metadata": {
    "execution": {
     "iopub.execute_input": "2021-11-01T17:30:07.658376Z",
     "iopub.status.busy": "2021-11-01T17:30:07.656371Z",
     "iopub.status.idle": "2021-11-01T17:30:08.465100Z",
     "shell.execute_reply": "2021-11-01T17:30:08.466456Z"
    },
    "papermill": {
     "duration": 0.860466,
     "end_time": "2021-11-01T17:30:08.467096",
     "exception": false,
     "start_time": "2021-11-01T17:30:07.606630",
     "status": "completed"
    },
    "tags": []
   },
   "outputs": [],
   "source": [
    "import pandas as pd\n",
    "import sqlite3"
   ]
  },
  {
   "cell_type": "code",
   "execution_count": 2,
   "id": "innovative-syndrome",
   "metadata": {
    "execution": {
     "iopub.execute_input": "2021-11-01T17:30:08.517641Z",
     "iopub.status.busy": "2021-11-01T17:30:08.515588Z",
     "iopub.status.idle": "2021-11-01T17:30:09.214702Z",
     "shell.execute_reply": "2021-11-01T17:30:09.216000Z"
    },
    "papermill": {
     "duration": 0.728199,
     "end_time": "2021-11-01T17:30:09.216418",
     "exception": false,
     "start_time": "2021-11-01T17:30:08.488219",
     "status": "completed"
    },
    "tags": []
   },
   "outputs": [],
   "source": [
    "timestamps = pd.read_sql(\"select distinct record_time from EBAY_TOP_BERLIN order by record_time desc limit 2\", sqlite3.connect(\"UsedObjects.db\"))"
   ]
  },
  {
   "cell_type": "code",
   "execution_count": 3,
   "id": "periodic-identification",
   "metadata": {
    "execution": {
     "iopub.execute_input": "2021-11-01T17:30:09.281851Z",
     "iopub.status.busy": "2021-11-01T17:30:09.279761Z",
     "iopub.status.idle": "2021-11-01T17:30:09.301941Z",
     "shell.execute_reply": "2021-11-01T17:30:09.300264Z"
    },
    "papermill": {
     "duration": 0.067043,
     "end_time": "2021-11-01T17:30:09.302345",
     "exception": false,
     "start_time": "2021-11-01T17:30:09.235302",
     "status": "completed"
    },
    "tags": []
   },
   "outputs": [
    {
     "data": {
      "text/html": [
       "<div>\n",
       "<style scoped>\n",
       "    .dataframe tbody tr th:only-of-type {\n",
       "        vertical-align: middle;\n",
       "    }\n",
       "\n",
       "    .dataframe tbody tr th {\n",
       "        vertical-align: top;\n",
       "    }\n",
       "\n",
       "    .dataframe thead th {\n",
       "        text-align: right;\n",
       "    }\n",
       "</style>\n",
       "<table border=\"1\" class=\"dataframe\">\n",
       "  <thead>\n",
       "    <tr style=\"text-align: right;\">\n",
       "      <th></th>\n",
       "      <th>RECORD_TIME</th>\n",
       "    </tr>\n",
       "  </thead>\n",
       "  <tbody>\n",
       "    <tr>\n",
       "      <th>0</th>\n",
       "      <td>2021-11-01 18:30</td>\n",
       "    </tr>\n",
       "    <tr>\n",
       "      <th>1</th>\n",
       "      <td>2021-11-01 18:00</td>\n",
       "    </tr>\n",
       "  </tbody>\n",
       "</table>\n",
       "</div>"
      ],
      "text/plain": [
       "        RECORD_TIME\n",
       "0  2021-11-01 18:30\n",
       "1  2021-11-01 18:00"
      ]
     },
     "execution_count": 3,
     "metadata": {},
     "output_type": "execute_result"
    }
   ],
   "source": [
    "timestamps"
   ]
  },
  {
   "cell_type": "code",
   "execution_count": 4,
   "id": "alternate-victory",
   "metadata": {
    "execution": {
     "iopub.execute_input": "2021-11-01T17:30:09.353844Z",
     "iopub.status.busy": "2021-11-01T17:30:09.351900Z",
     "iopub.status.idle": "2021-11-01T17:30:10.376867Z",
     "shell.execute_reply": "2021-11-01T17:30:10.378169Z"
    },
    "papermill": {
     "duration": 1.054845,
     "end_time": "2021-11-01T17:30:10.378589",
     "exception": false,
     "start_time": "2021-11-01T17:30:09.323744",
     "status": "completed"
    },
    "tags": []
   },
   "outputs": [],
   "source": [
    "df = pd.read_sql(\"select * from EBAY_TOP_BERLIN where record_time in (select distinct record_time from EBAY_TOP_BERLIN order by record_time desc limit 2)\", sqlite3.connect(\"UsedObjects.db\"))"
   ]
  },
  {
   "cell_type": "code",
   "execution_count": 5,
   "id": "popular-active",
   "metadata": {
    "execution": {
     "iopub.execute_input": "2021-11-01T17:30:10.449198Z",
     "iopub.status.busy": "2021-11-01T17:30:10.442265Z",
     "iopub.status.idle": "2021-11-01T17:30:10.464518Z",
     "shell.execute_reply": "2021-11-01T17:30:10.465801Z"
    },
    "papermill": {
     "duration": 0.067138,
     "end_time": "2021-11-01T17:30:10.466200",
     "exception": false,
     "start_time": "2021-11-01T17:30:10.399062",
     "status": "completed"
    },
    "tags": []
   },
   "outputs": [],
   "source": [
    "df_pivot = df.pivot_table(index=\"PRODUCT\", columns = \"RECORD_TIME\", values = \"LISTING_COUNT\")"
   ]
  },
  {
   "cell_type": "code",
   "execution_count": 6,
   "id": "union-huntington",
   "metadata": {
    "execution": {
     "iopub.execute_input": "2021-11-01T17:30:10.521441Z",
     "iopub.status.busy": "2021-11-01T17:30:10.519340Z",
     "iopub.status.idle": "2021-11-01T17:30:10.526165Z",
     "shell.execute_reply": "2021-11-01T17:30:10.524741Z"
    },
    "papermill": {
     "duration": 0.039899,
     "end_time": "2021-11-01T17:30:10.526524",
     "exception": false,
     "start_time": "2021-11-01T17:30:10.486625",
     "status": "completed"
    },
    "tags": []
   },
   "outputs": [],
   "source": [
    "df_pivot.columns = [\"stamp_1\", \"stamp_2\"]\n",
    "df_pivot_diff = df_pivot.diff(axis=1)"
   ]
  },
  {
   "cell_type": "code",
   "execution_count": 7,
   "id": "fifth-motion",
   "metadata": {
    "execution": {
     "iopub.execute_input": "2021-11-01T17:30:10.580795Z",
     "iopub.status.busy": "2021-11-01T17:30:10.578410Z",
     "iopub.status.idle": "2021-11-01T17:30:12.106715Z",
     "shell.execute_reply": "2021-11-01T17:30:12.107994Z"
    },
    "papermill": {
     "duration": 1.560952,
     "end_time": "2021-11-01T17:30:12.108409",
     "exception": false,
     "start_time": "2021-11-01T17:30:10.547457",
     "status": "completed"
    },
    "tags": []
   },
   "outputs": [
    {
     "data": {
      "text/plain": [
       "<AxesSubplot:ylabel='PRODUCT'>"
      ]
     },
     "execution_count": 7,
     "metadata": {},
     "output_type": "execute_result"
    },
    {
     "data": {
      "image/png": "[encoded data removed]",
      "text/plain": [
       "<Figure size 432x288 with 1 Axes>"
      ]
     },
     "metadata": {
      "needs_background": "light"
     },
     "output_type": "display_data"
    }
   ],
   "source": [
    "df_pivot_diff.sort_values(\"stamp_2\", ascending = False)[\"stamp_2\"].head(10).plot.barh()"
   ]
  },
  {
   "cell_type": "code",
   "execution_count": null,
   "id": "extra-executive",
   "metadata": {
    "papermill": {
     "duration": 0.02196,
     "end_time": "2021-11-01T17:30:12.154326",
     "exception": false,
     "start_time": "2021-11-01T17:30:12.132366",
     "status": "completed"
    },
    "tags": []
   },
   "outputs": [],
   "source": []
  }
 ],
 "metadata": {
  "kernelspec": {
   "display_name": "Python 3",
   "language": "python",
   "name": "python3"
  },
  "language_info": {
   "codemirror_mode": {
    "name": "ipython",
    "version": 3
   },
   "file_extension": ".py",
   "mimetype": "text/x-python",
   "name": "python",
   "nbconvert_exporter": "python",
   "pygments_lexer": "ipython3",
   "version": "3.9.5"
  },
  "papermill": {
   "default_parameters": {},
   "duration": 7.603644,
   "end_time": "2021-11-01T17:30:12.796982",
   "environment_variables": {},
   "exception": null,
   "input_path": "eBay_Overview.ipynb",
   "output_path": "eBay_Overview.ipynb",
   "parameters": {},
   "start_time": "2021-11-01T17:30:05.193338",
   "version": "2.3.3"
  }
 },
 "nbformat": 4,
 "nbformat_minor": 5
}