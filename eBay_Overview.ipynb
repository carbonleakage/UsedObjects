{
 "cells": [
  {
   "cell_type": "code",
   "execution_count": 1,
   "id": "reverse-picking",
   "metadata": {
    "execution": {
     "iopub.execute_input": "2021-08-10T06:30:04.466292Z",
     "iopub.status.busy": "2021-08-10T06:30:04.465530Z",
     "iopub.status.idle": "2021-08-10T06:30:05.136048Z",
     "shell.execute_reply": "2021-08-10T06:30:05.136633Z"
    },
    "papermill": {
     "duration": 0.689985,
     "end_time": "2021-08-10T06:30:05.136931",
     "exception": false,
     "start_time": "2021-08-10T06:30:04.446946",
     "status": "completed"
    },
    "tags": []
   },
   "outputs": [],
   "source": [
    "import pandas as pd\n",
    "import sqlite3"
   ]
  },
  {
   "cell_type": "code",
   "execution_count": 2,
   "id": "innovative-syndrome",
   "metadata": {
    "execution": {
     "iopub.execute_input": "2021-08-10T06:30:05.163620Z",
     "iopub.status.busy": "2021-08-10T06:30:05.162849Z",
     "iopub.status.idle": "2021-08-10T06:30:05.419217Z",
     "shell.execute_reply": "2021-08-10T06:30:05.419749Z"
    },
    "papermill": {
     "duration": 0.270881,
     "end_time": "2021-08-10T06:30:05.420072",
     "exception": false,
     "start_time": "2021-08-10T06:30:05.149191",
     "status": "completed"
    },
    "tags": []
   },
   "outputs": [],
   "source": [
    "timestamps = pd.read_sql(\"select distinct record_time from EBAY_TOP_BERLIN order by record_time desc limit 2\", sqlite3.connect(\"UsedObjects.db\"))"
   ]
  },
  {
   "cell_type": "code",
   "execution_count": 3,
   "id": "periodic-identification",
   "metadata": {
    "execution": {
     "iopub.execute_input": "2021-08-10T06:30:05.447632Z",
     "iopub.status.busy": "2021-08-10T06:30:05.446855Z",
     "iopub.status.idle": "2021-08-10T06:30:05.457525Z",
     "shell.execute_reply": "2021-08-10T06:30:05.458050Z"
    },
    "papermill": {
     "duration": 0.030058,
     "end_time": "2021-08-10T06:30:05.458229",
     "exception": false,
     "start_time": "2021-08-10T06:30:05.428171",
     "status": "completed"
    },
    "tags": []
   },
   "outputs": [
    {
     "data": {
      "text/html": [
       "<div>\n",
       "<style scoped>\n",
       "    .dataframe tbody tr th:only-of-type {\n",
       "        vertical-align: middle;\n",
       "    }\n",
       "\n",
       "    .dataframe tbody tr th {\n",
       "        vertical-align: top;\n",
       "    }\n",
       "\n",
       "    .dataframe thead th {\n",
       "        text-align: right;\n",
       "    }\n",
       "</style>\n",
       "<table border=\"1\" class=\"dataframe\">\n",
       "  <thead>\n",
       "    <tr style=\"text-align: right;\">\n",
       "      <th></th>\n",
       "      <th>RECORD_TIME</th>\n",
       "    </tr>\n",
       "  </thead>\n",
       "  <tbody>\n",
       "    <tr>\n",
       "      <th>0</th>\n",
       "      <td>2021-08-10 08:30</td>\n",
       "    </tr>\n",
       "    <tr>\n",
       "      <th>1</th>\n",
       "      <td>2021-08-10 08:00</td>\n",
       "    </tr>\n",
       "  </tbody>\n",
       "</table>\n",
       "</div>"
      ],
      "text/plain": [
       "        RECORD_TIME\n",
       "0  2021-08-10 08:30\n",
       "1  2021-08-10 08:00"
      ]
     },
     "execution_count": 3,
     "metadata": {},
     "output_type": "execute_result"
    }
   ],
   "source": [
    "timestamps"
   ]
  },
  {
   "cell_type": "code",
   "execution_count": 4,
   "id": "alternate-victory",
   "metadata": {
    "execution": {
     "iopub.execute_input": "2021-08-10T06:30:05.479418Z",
     "iopub.status.busy": "2021-08-10T06:30:05.478616Z",
     "iopub.status.idle": "2021-08-10T06:30:05.495066Z",
     "shell.execute_reply": "2021-08-10T06:30:05.493728Z"
    },
    "papermill": {
     "duration": 0.028757,
     "end_time": "2021-08-10T06:30:05.495274",
     "exception": false,
     "start_time": "2021-08-10T06:30:05.466517",
     "status": "completed"
    },
    "tags": []
   },
   "outputs": [],
   "source": [
    "df = pd.read_sql(\"select * from EBAY_TOP_BERLIN where record_time in (select distinct record_time from EBAY_TOP_BERLIN order by record_time desc limit 2)\", sqlite3.connect(\"UsedObjects.db\"))"
   ]
  },
  {
   "cell_type": "code",
   "execution_count": 5,
   "id": "popular-active",
   "metadata": {
    "execution": {
     "iopub.execute_input": "2021-08-10T06:30:05.531236Z",
     "iopub.status.busy": "2021-08-10T06:30:05.530354Z",
     "iopub.status.idle": "2021-08-10T06:30:05.552951Z",
     "shell.execute_reply": "2021-08-10T06:30:05.553521Z"
    },
    "papermill": {
     "duration": 0.044524,
     "end_time": "2021-08-10T06:30:05.553712",
     "exception": false,
     "start_time": "2021-08-10T06:30:05.509188",
     "status": "completed"
    },
    "tags": []
   },
   "outputs": [],
   "source": [
    "df_pivot = df.pivot_table(index=\"PRODUCT\", columns = \"RECORD_TIME\", values = \"LISTING_COUNT\")"
   ]
  },
  {
   "cell_type": "code",
   "execution_count": 6,
   "id": "union-huntington",
   "metadata": {
    "execution": {
     "iopub.execute_input": "2021-08-10T06:30:05.583707Z",
     "iopub.status.busy": "2021-08-10T06:30:05.582940Z",
     "iopub.status.idle": "2021-08-10T06:30:05.585541Z",
     "shell.execute_reply": "2021-08-10T06:30:05.586101Z"
    },
    "papermill": {
     "duration": 0.020964,
     "end_time": "2021-08-10T06:30:05.586290",
     "exception": false,
     "start_time": "2021-08-10T06:30:05.565326",
     "status": "completed"
    },
    "tags": []
   },
   "outputs": [],
   "source": [
    "df_pivot.columns = [\"stamp_1\", \"stamp_2\"]\n",
    "df_pivot_diff = df_pivot.diff(axis=1)"
   ]
  },
  {
   "cell_type": "code",
   "execution_count": 7,
   "id": "fifth-motion",
   "metadata": {
    "execution": {
     "iopub.execute_input": "2021-08-10T06:30:05.616093Z",
     "iopub.status.busy": "2021-08-10T06:30:05.615330Z",
     "iopub.status.idle": "2021-08-10T06:30:06.361959Z",
     "shell.execute_reply": "2021-08-10T06:30:06.362629Z"
    },
    "papermill": {
     "duration": 0.768092,
     "end_time": "2021-08-10T06:30:06.362868",
     "exception": false,
     "start_time": "2021-08-10T06:30:05.594776",
     "status": "completed"
    },
    "tags": []
   },
   "outputs": [
    {
     "data": {
      "text/plain": [
       "<AxesSubplot:ylabel='PRODUCT'>"
      ]
     },
     "execution_count": 7,
     "metadata": {},
     "output_type": "execute_result"
    },
    {
     "data": {
      "image/png": "[encoded data removed]",
      "text/plain": [
       "<Figure size 432x288 with 1 Axes>"
      ]
     },
     "metadata": {
      "needs_background": "light"
     },
     "output_type": "display_data"
    }
   ],
   "source": [
    "df_pivot_diff.sort_values(\"stamp_2\", ascending = False)[\"stamp_2\"].head(10).plot.barh()"
   ]
  },
  {
   "cell_type": "code",
   "execution_count": null,
   "id": "extra-executive",
   "metadata": {
    "papermill": {
     "duration": 0.009316,
     "end_time": "2021-08-10T06:30:06.382204",
     "exception": false,
     "start_time": "2021-08-10T06:30:06.372888",
     "status": "completed"
    },
    "tags": []
   },
   "outputs": [],
   "source": []
  }
 ],
 "metadata": {
  "kernelspec": {
   "display_name": "Python 3",
   "language": "python",
   "name": "python3"
  },
  "language_info": {
   "codemirror_mode": {
    "name": "ipython",
    "version": 3
   },
   "file_extension": ".py",
   "mimetype": "text/x-python",
   "name": "python",
   "nbconvert_exporter": "python",
   "pygments_lexer": "ipython3",
   "version": "3.8.8"
  },
  "papermill": {
   "default_parameters": {},
   "duration": 4.333193,
   "end_time": "2021-08-10T06:30:06.991911",
   "environment_variables": {},
   "exception": null,
   "input_path": "/Users/saravananshanmugam/Carbonleakage_Git/UsedObjects/eBay_Overview.ipynb",
   "output_path": "/Users/saravananshanmugam/Carbonleakage_Git/UsedObjects/eBay_Overview.ipynb",
   "parameters": {},
   "start_time": "2021-08-10T06:30:02.658718",
   "version": "2.3.3"
  }
 },
 "nbformat": 4,
 "nbformat_minor": 5
}