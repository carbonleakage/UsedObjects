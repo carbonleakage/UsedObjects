{
 "cells": [
  {
   "cell_type": "code",
   "execution_count": 1,
   "id": "reverse-picking",
   "metadata": {
    "execution": {
     "iopub.execute_input": "2021-12-21T09:30:08.253507Z",
     "iopub.status.busy": "2021-12-21T09:30:08.251197Z",
     "iopub.status.idle": "2021-12-21T09:30:09.230112Z",
     "shell.execute_reply": "2021-12-21T09:30:09.232647Z"
    },
    "papermill": {
     "duration": 1.02981,
     "end_time": "2021-12-21T09:30:09.233979",
     "exception": false,
     "start_time": "2021-12-21T09:30:08.204169",
     "status": "completed"
    },
    "tags": []
   },
   "outputs": [],
   "source": [
    "import pandas as pd\n",
    "import sqlite3"
   ]
  },
  {
   "cell_type": "code",
   "execution_count": 2,
   "id": "innovative-syndrome",
   "metadata": {
    "execution": {
     "iopub.execute_input": "2021-12-21T09:30:09.299444Z",
     "iopub.status.busy": "2021-12-21T09:30:09.297014Z",
     "iopub.status.idle": "2021-12-21T09:30:10.410402Z",
     "shell.execute_reply": "2021-12-21T09:30:10.412661Z"
    },
    "papermill": {
     "duration": 1.149322,
     "end_time": "2021-12-21T09:30:10.413220",
     "exception": false,
     "start_time": "2021-12-21T09:30:09.263898",
     "status": "completed"
    },
    "tags": []
   },
   "outputs": [],
   "source": [
    "timestamps = pd.read_sql(\"select distinct record_time from EBAY_TOP_BERLIN order by record_time desc limit 2\", sqlite3.connect(\"UsedObjects.db\"))"
   ]
  },
  {
   "cell_type": "code",
   "execution_count": 3,
   "id": "periodic-identification",
   "metadata": {
    "execution": {
     "iopub.execute_input": "2021-12-21T09:30:10.485227Z",
     "iopub.status.busy": "2021-12-21T09:30:10.482727Z",
     "iopub.status.idle": "2021-12-21T09:30:10.506255Z",
     "shell.execute_reply": "2021-12-21T09:30:10.507692Z"
    },
    "papermill": {
     "duration": 0.074341,
     "end_time": "2021-12-21T09:30:10.508165",
     "exception": false,
     "start_time": "2021-12-21T09:30:10.433824",
     "status": "completed"
    },
    "tags": []
   },
   "outputs": [
    {
     "data": {
      "text/html": [
       "<div>\n",
       "<style scoped>\n",
       "    .dataframe tbody tr th:only-of-type {\n",
       "        vertical-align: middle;\n",
       "    }\n",
       "\n",
       "    .dataframe tbody tr th {\n",
       "        vertical-align: top;\n",
       "    }\n",
       "\n",
       "    .dataframe thead th {\n",
       "        text-align: right;\n",
       "    }\n",
       "</style>\n",
       "<table border=\"1\" class=\"dataframe\">\n",
       "  <thead>\n",
       "    <tr style=\"text-align: right;\">\n",
       "      <th></th>\n",
       "      <th>RECORD_TIME</th>\n",
       "    </tr>\n",
       "  </thead>\n",
       "  <tbody>\n",
       "    <tr>\n",
       "      <th>0</th>\n",
       "      <td>2021-12-21 10:30</td>\n",
       "    </tr>\n",
       "    <tr>\n",
       "      <th>1</th>\n",
       "      <td>2021-12-21 10:00</td>\n",
       "    </tr>\n",
       "  </tbody>\n",
       "</table>\n",
       "</div>"
      ],
      "text/plain": [
       "        RECORD_TIME\n",
       "0  2021-12-21 10:30\n",
       "1  2021-12-21 10:00"
      ]
     },
     "execution_count": 3,
     "metadata": {},
     "output_type": "execute_result"
    }
   ],
   "source": [
    "timestamps"
   ]
  },
  {
   "cell_type": "code",
   "execution_count": 4,
   "id": "alternate-victory",
   "metadata": {
    "execution": {
     "iopub.execute_input": "2021-12-21T09:30:10.566149Z",
     "iopub.status.busy": "2021-12-21T09:30:10.563828Z",
     "iopub.status.idle": "2021-12-21T09:30:12.205137Z",
     "shell.execute_reply": "2021-12-21T09:30:12.206521Z"
    },
    "papermill": {
     "duration": 1.677001,
     "end_time": "2021-12-21T09:30:12.206992",
     "exception": false,
     "start_time": "2021-12-21T09:30:10.529991",
     "status": "completed"
    },
    "tags": []
   },
   "outputs": [],
   "source": [
    "df = pd.read_sql(\"select * from EBAY_TOP_BERLIN where record_time in (select distinct record_time from EBAY_TOP_BERLIN order by record_time desc limit 2)\", sqlite3.connect(\"UsedObjects.db\"))"
   ]
  },
  {
   "cell_type": "code",
   "execution_count": 5,
   "id": "popular-active",
   "metadata": {
    "execution": {
     "iopub.execute_input": "2021-12-21T09:30:12.272202Z",
     "iopub.status.busy": "2021-12-21T09:30:12.269846Z",
     "iopub.status.idle": "2021-12-21T09:30:12.302842Z",
     "shell.execute_reply": "2021-12-21T09:30:12.304065Z"
    },
    "papermill": {
     "duration": 0.076295,
     "end_time": "2021-12-21T09:30:12.304461",
     "exception": false,
     "start_time": "2021-12-21T09:30:12.228166",
     "status": "completed"
    },
    "tags": []
   },
   "outputs": [],
   "source": [
    "df_pivot = df.pivot_table(index=\"PRODUCT\", columns = \"RECORD_TIME\", values = \"LISTING_COUNT\")"
   ]
  },
  {
   "cell_type": "code",
   "execution_count": 6,
   "id": "union-huntington",
   "metadata": {
    "execution": {
     "iopub.execute_input": "2021-12-21T09:30:12.367057Z",
     "iopub.status.busy": "2021-12-21T09:30:12.364657Z",
     "iopub.status.idle": "2021-12-21T09:30:12.370965Z",
     "shell.execute_reply": "2021-12-21T09:30:12.372407Z"
    },
    "papermill": {
     "duration": 0.04693,
     "end_time": "2021-12-21T09:30:12.372928",
     "exception": false,
     "start_time": "2021-12-21T09:30:12.325998",
     "status": "completed"
    },
    "tags": []
   },
   "outputs": [],
   "source": [
    "df_pivot.columns = [\"stamp_1\", \"stamp_2\"]\n",
    "df_pivot_diff = df_pivot.diff(axis=1)"
   ]
  },
  {
   "cell_type": "code",
   "execution_count": 7,
   "id": "fifth-motion",
   "metadata": {
    "execution": {
     "iopub.execute_input": "2021-12-21T09:30:12.430496Z",
     "iopub.status.busy": "2021-12-21T09:30:12.427993Z",
     "iopub.status.idle": "2021-12-21T09:30:14.366585Z",
     "shell.execute_reply": "2021-12-21T09:30:14.368022Z"
    },
    "papermill": {
     "duration": 1.974393,
     "end_time": "2021-12-21T09:30:14.368465",
     "exception": false,
     "start_time": "2021-12-21T09:30:12.394072",
     "status": "completed"
    },
    "tags": []
   },
   "outputs": [
    {
     "data": {
      "text/plain": [
       "<AxesSubplot:ylabel='PRODUCT'>"
      ]
     },
     "execution_count": 7,
     "metadata": {},
     "output_type": "execute_result"
    },
    {
     "data": {
      "image/png": "[encoded data removed]",
      "text/plain": [
       "<Figure size 432x288 with 1 Axes>"
      ]
     },
     "metadata": {
      "needs_background": "light"
     },
     "output_type": "display_data"
    }
   ],
   "source": [
    "df_pivot_diff.sort_values(\"stamp_2\", ascending = False)[\"stamp_2\"].head(10).plot.barh()"
   ]
  },
  {
   "cell_type": "code",
   "execution_count": null,
   "id": "extra-executive",
   "metadata": {
    "papermill": {
     "duration": 0.028744,
     "end_time": "2021-12-21T09:30:14.436321",
     "exception": false,
     "start_time": "2021-12-21T09:30:14.407577",
     "status": "completed"
    },
    "tags": []
   },
   "outputs": [],
   "source": []
  }
 ],
 "metadata": {
  "kernelspec": {
   "display_name": "Python 3",
   "language": "python",
   "name": "python3"
  },
  "language_info": {
   "codemirror_mode": {
    "name": "ipython",
    "version": 3
   },
   "file_extension": ".py",
   "mimetype": "text/x-python",
   "name": "python",
   "nbconvert_exporter": "python",
   "pygments_lexer": "ipython3",
   "version": "3.9.5"
  },
  "papermill": {
   "default_parameters": {},
   "duration": 9.628253,
   "end_time": "2021-12-21T09:30:15.076879",
   "environment_variables": {},
   "exception": null,
   "input_path": "eBay_Overview.ipynb",
   "output_path": "eBay_Overview.ipynb",
   "parameters": {},
   "start_time": "2021-12-21T09:30:05.448626",
   "version": "2.3.3"
  }
 },
 "nbformat": 4,
 "nbformat_minor": 5
}