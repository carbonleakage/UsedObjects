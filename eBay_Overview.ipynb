{
 "cells": [
  {
   "cell_type": "code",
   "execution_count": 1,
   "id": "reverse-picking",
   "metadata": {
    "execution": {
     "iopub.execute_input": "2021-09-15T04:00:06.982228Z",
     "iopub.status.busy": "2021-09-15T04:00:06.980262Z",
     "iopub.status.idle": "2021-09-15T04:00:07.784105Z",
     "shell.execute_reply": "2021-09-15T04:00:07.785370Z"
    },
    "papermill": {
     "duration": 0.853754,
     "end_time": "2021-09-15T04:00:07.785998",
     "exception": false,
     "start_time": "2021-09-15T04:00:06.932244",
     "status": "completed"
    },
    "tags": []
   },
   "outputs": [],
   "source": [
    "import pandas as pd\n",
    "import sqlite3"
   ]
  },
  {
   "cell_type": "code",
   "execution_count": 2,
   "id": "innovative-syndrome",
   "metadata": {
    "execution": {
     "iopub.execute_input": "2021-09-15T04:00:07.836131Z",
     "iopub.status.busy": "2021-09-15T04:00:07.834158Z",
     "iopub.status.idle": "2021-09-15T04:00:08.126692Z",
     "shell.execute_reply": "2021-09-15T04:00:08.128043Z"
    },
    "papermill": {
     "duration": 0.321925,
     "end_time": "2021-09-15T04:00:08.128465",
     "exception": false,
     "start_time": "2021-09-15T04:00:07.806540",
     "status": "completed"
    },
    "tags": []
   },
   "outputs": [],
   "source": [
    "timestamps = pd.read_sql(\"select distinct record_time from EBAY_TOP_BERLIN order by record_time desc limit 2\", sqlite3.connect(\"UsedObjects.db\"))"
   ]
  },
  {
   "cell_type": "code",
   "execution_count": 3,
   "id": "periodic-identification",
   "metadata": {
    "execution": {
     "iopub.execute_input": "2021-09-15T04:00:08.193890Z",
     "iopub.status.busy": "2021-09-15T04:00:08.191862Z",
     "iopub.status.idle": "2021-09-15T04:00:08.213085Z",
     "shell.execute_reply": "2021-09-15T04:00:08.214363Z"
    },
    "papermill": {
     "duration": 0.06754,
     "end_time": "2021-09-15T04:00:08.214783",
     "exception": false,
     "start_time": "2021-09-15T04:00:08.147243",
     "status": "completed"
    },
    "tags": []
   },
   "outputs": [
    {
     "data": {
      "text/html": [
       "<div>\n",
       "<style scoped>\n",
       "    .dataframe tbody tr th:only-of-type {\n",
       "        vertical-align: middle;\n",
       "    }\n",
       "\n",
       "    .dataframe tbody tr th {\n",
       "        vertical-align: top;\n",
       "    }\n",
       "\n",
       "    .dataframe thead th {\n",
       "        text-align: right;\n",
       "    }\n",
       "</style>\n",
       "<table border=\"1\" class=\"dataframe\">\n",
       "  <thead>\n",
       "    <tr style=\"text-align: right;\">\n",
       "      <th></th>\n",
       "      <th>RECORD_TIME</th>\n",
       "    </tr>\n",
       "  </thead>\n",
       "  <tbody>\n",
       "    <tr>\n",
       "      <th>0</th>\n",
       "      <td>2021-09-15 06:00</td>\n",
       "    </tr>\n",
       "    <tr>\n",
       "      <th>1</th>\n",
       "      <td>2021-09-15 05:30</td>\n",
       "    </tr>\n",
       "  </tbody>\n",
       "</table>\n",
       "</div>"
      ],
      "text/plain": [
       "        RECORD_TIME\n",
       "0  2021-09-15 06:00\n",
       "1  2021-09-15 05:30"
      ]
     },
     "execution_count": 3,
     "metadata": {},
     "output_type": "execute_result"
    }
   ],
   "source": [
    "timestamps"
   ]
  },
  {
   "cell_type": "code",
   "execution_count": 4,
   "id": "alternate-victory",
   "metadata": {
    "execution": {
     "iopub.execute_input": "2021-09-15T04:00:08.265647Z",
     "iopub.status.busy": "2021-09-15T04:00:08.263503Z",
     "iopub.status.idle": "2021-09-15T04:00:08.694523Z",
     "shell.execute_reply": "2021-09-15T04:00:08.696099Z"
    },
    "papermill": {
     "duration": 0.461133,
     "end_time": "2021-09-15T04:00:08.696554",
     "exception": false,
     "start_time": "2021-09-15T04:00:08.235421",
     "status": "completed"
    },
    "tags": []
   },
   "outputs": [],
   "source": [
    "df = pd.read_sql(\"select * from EBAY_TOP_BERLIN where record_time in (select distinct record_time from EBAY_TOP_BERLIN order by record_time desc limit 2)\", sqlite3.connect(\"UsedObjects.db\"))"
   ]
  },
  {
   "cell_type": "code",
   "execution_count": 5,
   "id": "popular-active",
   "metadata": {
    "execution": {
     "iopub.execute_input": "2021-09-15T04:00:08.776806Z",
     "iopub.status.busy": "2021-09-15T04:00:08.764337Z",
     "iopub.status.idle": "2021-09-15T04:00:08.792898Z",
     "shell.execute_reply": "2021-09-15T04:00:08.794183Z"
    },
    "papermill": {
     "duration": 0.070551,
     "end_time": "2021-09-15T04:00:08.794607",
     "exception": false,
     "start_time": "2021-09-15T04:00:08.724056",
     "status": "completed"
    },
    "tags": []
   },
   "outputs": [],
   "source": [
    "df_pivot = df.pivot_table(index=\"PRODUCT\", columns = \"RECORD_TIME\", values = \"LISTING_COUNT\")"
   ]
  },
  {
   "cell_type": "code",
   "execution_count": 6,
   "id": "union-huntington",
   "metadata": {
    "execution": {
     "iopub.execute_input": "2021-09-15T04:00:08.851369Z",
     "iopub.status.busy": "2021-09-15T04:00:08.848915Z",
     "iopub.status.idle": "2021-09-15T04:00:08.854528Z",
     "shell.execute_reply": "2021-09-15T04:00:08.855894Z"
    },
    "papermill": {
     "duration": 0.042039,
     "end_time": "2021-09-15T04:00:08.856325",
     "exception": false,
     "start_time": "2021-09-15T04:00:08.814286",
     "status": "completed"
    },
    "tags": []
   },
   "outputs": [],
   "source": [
    "df_pivot.columns = [\"stamp_1\", \"stamp_2\"]\n",
    "df_pivot_diff = df_pivot.diff(axis=1)"
   ]
  },
  {
   "cell_type": "code",
   "execution_count": 7,
   "id": "fifth-motion",
   "metadata": {
    "execution": {
     "iopub.execute_input": "2021-09-15T04:00:08.910014Z",
     "iopub.status.busy": "2021-09-15T04:00:08.907736Z",
     "iopub.status.idle": "2021-09-15T04:00:10.386209Z",
     "shell.execute_reply": "2021-09-15T04:00:10.387767Z"
    },
    "papermill": {
     "duration": 1.51166,
     "end_time": "2021-09-15T04:00:10.388249",
     "exception": false,
     "start_time": "2021-09-15T04:00:08.876589",
     "status": "completed"
    },
    "tags": []
   },
   "outputs": [
    {
     "data": {
      "text/plain": [
       "<AxesSubplot:ylabel='PRODUCT'>"
      ]
     },
     "execution_count": 7,
     "metadata": {},
     "output_type": "execute_result"
    },
    {
     "data": {
      "image/png": "[encoded data removed]",
      "text/plain": [
       "<Figure size 432x288 with 1 Axes>"
      ]
     },
     "metadata": {
      "needs_background": "light"
     },
     "output_type": "display_data"
    }
   ],
   "source": [
    "df_pivot_diff.sort_values(\"stamp_2\", ascending = False)[\"stamp_2\"].head(10).plot.barh()"
   ]
  },
  {
   "cell_type": "code",
   "execution_count": null,
   "id": "extra-executive",
   "metadata": {
    "papermill": {
     "duration": 0.021962,
     "end_time": "2021-09-15T04:00:10.435041",
     "exception": false,
     "start_time": "2021-09-15T04:00:10.413079",
     "status": "completed"
    },
    "tags": []
   },
   "outputs": [],
   "source": []
  }
 ],
 "metadata": {
  "kernelspec": {
   "display_name": "Python 3",
   "language": "python",
   "name": "python3"
  },
  "language_info": {
   "codemirror_mode": {
    "name": "ipython",
    "version": 3
   },
   "file_extension": ".py",
   "mimetype": "text/x-python",
   "name": "python",
   "nbconvert_exporter": "python",
   "pygments_lexer": "ipython3",
   "version": "3.9.5"
  },
  "papermill": {
   "default_parameters": {},
   "duration": 6.549675,
   "end_time": "2021-09-15T04:00:11.077738",
   "environment_variables": {},
   "exception": null,
   "input_path": "eBay_Overview.ipynb",
   "output_path": "eBay_Overview.ipynb",
   "parameters": {},
   "start_time": "2021-09-15T04:00:04.528063",
   "version": "2.3.3"
  }
 },
 "nbformat": 4,
 "nbformat_minor": 5
}