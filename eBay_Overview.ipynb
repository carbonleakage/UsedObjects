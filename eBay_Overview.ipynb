{
 "cells": [
  {
   "cell_type": "code",
   "execution_count": 1,
   "id": "reverse-picking",
   "metadata": {
    "execution": {
     "iopub.execute_input": "2021-11-02T02:00:07.467026Z",
     "iopub.status.busy": "2021-11-02T02:00:07.464656Z",
     "iopub.status.idle": "2021-11-02T02:00:08.390711Z",
     "shell.execute_reply": "2021-11-02T02:00:08.388905Z"
    },
    "papermill": {
     "duration": 0.974416,
     "end_time": "2021-11-02T02:00:08.391198",
     "exception": false,
     "start_time": "2021-11-02T02:00:07.416782",
     "status": "completed"
    },
    "tags": []
   },
   "outputs": [],
   "source": [
    "import pandas as pd\n",
    "import sqlite3"
   ]
  },
  {
   "cell_type": "code",
   "execution_count": 2,
   "id": "innovative-syndrome",
   "metadata": {
    "execution": {
     "iopub.execute_input": "2021-11-02T02:00:08.453463Z",
     "iopub.status.busy": "2021-11-02T02:00:08.451221Z",
     "iopub.status.idle": "2021-11-02T02:00:09.155483Z",
     "shell.execute_reply": "2021-11-02T02:00:09.156964Z"
    },
    "papermill": {
     "duration": 0.744589,
     "end_time": "2021-11-02T02:00:09.157451",
     "exception": false,
     "start_time": "2021-11-02T02:00:08.412862",
     "status": "completed"
    },
    "tags": []
   },
   "outputs": [],
   "source": [
    "timestamps = pd.read_sql(\"select distinct record_time from EBAY_TOP_BERLIN order by record_time desc limit 2\", sqlite3.connect(\"UsedObjects.db\"))"
   ]
  },
  {
   "cell_type": "code",
   "execution_count": 3,
   "id": "periodic-identification",
   "metadata": {
    "execution": {
     "iopub.execute_input": "2021-11-02T02:00:09.225800Z",
     "iopub.status.busy": "2021-11-02T02:00:09.223527Z",
     "iopub.status.idle": "2021-11-02T02:00:09.246661Z",
     "shell.execute_reply": "2021-11-02T02:00:09.248129Z"
    },
    "papermill": {
     "duration": 0.071971,
     "end_time": "2021-11-02T02:00:09.248622",
     "exception": false,
     "start_time": "2021-11-02T02:00:09.176651",
     "status": "completed"
    },
    "tags": []
   },
   "outputs": [
    {
     "data": {
      "text/html": [
       "<div>\n",
       "<style scoped>\n",
       "    .dataframe tbody tr th:only-of-type {\n",
       "        vertical-align: middle;\n",
       "    }\n",
       "\n",
       "    .dataframe tbody tr th {\n",
       "        vertical-align: top;\n",
       "    }\n",
       "\n",
       "    .dataframe thead th {\n",
       "        text-align: right;\n",
       "    }\n",
       "</style>\n",
       "<table border=\"1\" class=\"dataframe\">\n",
       "  <thead>\n",
       "    <tr style=\"text-align: right;\">\n",
       "      <th></th>\n",
       "      <th>RECORD_TIME</th>\n",
       "    </tr>\n",
       "  </thead>\n",
       "  <tbody>\n",
       "    <tr>\n",
       "      <th>0</th>\n",
       "      <td>2021-11-02 03:00</td>\n",
       "    </tr>\n",
       "    <tr>\n",
       "      <th>1</th>\n",
       "      <td>2021-11-02 02:30</td>\n",
       "    </tr>\n",
       "  </tbody>\n",
       "</table>\n",
       "</div>"
      ],
      "text/plain": [
       "        RECORD_TIME\n",
       "0  2021-11-02 03:00\n",
       "1  2021-11-02 02:30"
      ]
     },
     "execution_count": 3,
     "metadata": {},
     "output_type": "execute_result"
    }
   ],
   "source": [
    "timestamps"
   ]
  },
  {
   "cell_type": "code",
   "execution_count": 4,
   "id": "alternate-victory",
   "metadata": {
    "execution": {
     "iopub.execute_input": "2021-11-02T02:00:09.304006Z",
     "iopub.status.busy": "2021-11-02T02:00:09.301828Z",
     "iopub.status.idle": "2021-11-02T02:00:10.341401Z",
     "shell.execute_reply": "2021-11-02T02:00:10.343026Z"
    },
    "papermill": {
     "duration": 1.073402,
     "end_time": "2021-11-02T02:00:10.343533",
     "exception": false,
     "start_time": "2021-11-02T02:00:09.270131",
     "status": "completed"
    },
    "tags": []
   },
   "outputs": [],
   "source": [
    "df = pd.read_sql(\"select * from EBAY_TOP_BERLIN where record_time in (select distinct record_time from EBAY_TOP_BERLIN order by record_time desc limit 2)\", sqlite3.connect(\"UsedObjects.db\"))"
   ]
  },
  {
   "cell_type": "code",
   "execution_count": 5,
   "id": "popular-active",
   "metadata": {
    "execution": {
     "iopub.execute_input": "2021-11-02T02:00:10.410089Z",
     "iopub.status.busy": "2021-11-02T02:00:10.407521Z",
     "iopub.status.idle": "2021-11-02T02:00:10.441926Z",
     "shell.execute_reply": "2021-11-02T02:00:10.443409Z"
    },
    "papermill": {
     "duration": 0.078364,
     "end_time": "2021-11-02T02:00:10.443928",
     "exception": false,
     "start_time": "2021-11-02T02:00:10.365564",
     "status": "completed"
    },
    "tags": []
   },
   "outputs": [],
   "source": [
    "df_pivot = df.pivot_table(index=\"PRODUCT\", columns = \"RECORD_TIME\", values = \"LISTING_COUNT\")"
   ]
  },
  {
   "cell_type": "code",
   "execution_count": 6,
   "id": "union-huntington",
   "metadata": {
    "execution": {
     "iopub.execute_input": "2021-11-02T02:00:10.505068Z",
     "iopub.status.busy": "2021-11-02T02:00:10.502661Z",
     "iopub.status.idle": "2021-11-02T02:00:10.508870Z",
     "shell.execute_reply": "2021-11-02T02:00:10.510476Z"
    },
    "papermill": {
     "duration": 0.046105,
     "end_time": "2021-11-02T02:00:10.511006",
     "exception": false,
     "start_time": "2021-11-02T02:00:10.464901",
     "status": "completed"
    },
    "tags": []
   },
   "outputs": [],
   "source": [
    "df_pivot.columns = [\"stamp_1\", \"stamp_2\"]\n",
    "df_pivot_diff = df_pivot.diff(axis=1)"
   ]
  },
  {
   "cell_type": "code",
   "execution_count": 7,
   "id": "fifth-motion",
   "metadata": {
    "execution": {
     "iopub.execute_input": "2021-11-02T02:00:10.569810Z",
     "iopub.status.busy": "2021-11-02T02:00:10.567384Z",
     "iopub.status.idle": "2021-11-02T02:00:12.495406Z",
     "shell.execute_reply": "2021-11-02T02:00:12.497510Z"
    },
    "papermill": {
     "duration": 1.964451,
     "end_time": "2021-11-02T02:00:12.498244",
     "exception": false,
     "start_time": "2021-11-02T02:00:10.533793",
     "status": "completed"
    },
    "tags": []
   },
   "outputs": [
    {
     "data": {
      "text/plain": [
       "<AxesSubplot:ylabel='PRODUCT'>"
      ]
     },
     "execution_count": 7,
     "metadata": {},
     "output_type": "execute_result"
    },
    {
     "data": {
      "image/png": "[encoded data removed]",
      "text/plain": [
       "<Figure size 432x288 with 1 Axes>"
      ]
     },
     "metadata": {
      "needs_background": "light"
     },
     "output_type": "display_data"
    }
   ],
   "source": [
    "df_pivot_diff.sort_values(\"stamp_2\", ascending = False)[\"stamp_2\"].head(10).plot.barh()"
   ]
  },
  {
   "cell_type": "code",
   "execution_count": null,
   "id": "extra-executive",
   "metadata": {
    "papermill": {
     "duration": 0.02822,
     "end_time": "2021-11-02T02:00:12.554999",
     "exception": false,
     "start_time": "2021-11-02T02:00:12.526779",
     "status": "completed"
    },
    "tags": []
   },
   "outputs": [],
   "source": []
  }
 ],
 "metadata": {
  "kernelspec": {
   "display_name": "Python 3",
   "language": "python",
   "name": "python3"
  },
  "language_info": {
   "codemirror_mode": {
    "name": "ipython",
    "version": 3
   },
   "file_extension": ".py",
   "mimetype": "text/x-python",
   "name": "python",
   "nbconvert_exporter": "python",
   "pygments_lexer": "ipython3",
   "version": "3.9.5"
  },
  "papermill": {
   "default_parameters": {},
   "duration": 8.689685,
   "end_time": "2021-11-02T02:00:13.401400",
   "environment_variables": {},
   "exception": null,
   "input_path": "eBay_Overview.ipynb",
   "output_path": "eBay_Overview.ipynb",
   "parameters": {},
   "start_time": "2021-11-02T02:00:04.711715",
   "version": "2.3.3"
  }
 },
 "nbformat": 4,
 "nbformat_minor": 5
}