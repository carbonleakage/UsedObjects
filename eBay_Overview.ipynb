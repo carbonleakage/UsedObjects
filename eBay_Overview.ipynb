{
 "cells": [
  {
   "cell_type": "code",
   "execution_count": 1,
   "id": "reverse-picking",
   "metadata": {
    "execution": {
     "iopub.execute_input": "2021-09-20T05:30:07.484935Z",
     "iopub.status.busy": "2021-09-20T05:30:07.482985Z",
     "iopub.status.idle": "2021-09-20T05:30:08.286391Z",
     "shell.execute_reply": "2021-09-20T05:30:08.287836Z"
    },
    "papermill": {
     "duration": 0.856066,
     "end_time": "2021-09-20T05:30:08.288497",
     "exception": false,
     "start_time": "2021-09-20T05:30:07.432431",
     "status": "completed"
    },
    "tags": []
   },
   "outputs": [],
   "source": [
    "import pandas as pd\n",
    "import sqlite3"
   ]
  },
  {
   "cell_type": "code",
   "execution_count": 2,
   "id": "innovative-syndrome",
   "metadata": {
    "execution": {
     "iopub.execute_input": "2021-09-20T05:30:08.339404Z",
     "iopub.status.busy": "2021-09-20T05:30:08.337451Z",
     "iopub.status.idle": "2021-09-20T05:30:08.662529Z",
     "shell.execute_reply": "2021-09-20T05:30:08.664024Z"
    },
    "papermill": {
     "duration": 0.35476,
     "end_time": "2021-09-20T05:30:08.664470",
     "exception": false,
     "start_time": "2021-09-20T05:30:08.309710",
     "status": "completed"
    },
    "tags": []
   },
   "outputs": [],
   "source": [
    "timestamps = pd.read_sql(\"select distinct record_time from EBAY_TOP_BERLIN order by record_time desc limit 2\", sqlite3.connect(\"UsedObjects.db\"))"
   ]
  },
  {
   "cell_type": "code",
   "execution_count": 3,
   "id": "periodic-identification",
   "metadata": {
    "execution": {
     "iopub.execute_input": "2021-09-20T05:30:08.730493Z",
     "iopub.status.busy": "2021-09-20T05:30:08.728474Z",
     "iopub.status.idle": "2021-09-20T05:30:08.748324Z",
     "shell.execute_reply": "2021-09-20T05:30:08.749928Z"
    },
    "papermill": {
     "duration": 0.066026,
     "end_time": "2021-09-20T05:30:08.750421",
     "exception": false,
     "start_time": "2021-09-20T05:30:08.684395",
     "status": "completed"
    },
    "tags": []
   },
   "outputs": [
    {
     "data": {
      "text/html": [
       "<div>\n",
       "<style scoped>\n",
       "    .dataframe tbody tr th:only-of-type {\n",
       "        vertical-align: middle;\n",
       "    }\n",
       "\n",
       "    .dataframe tbody tr th {\n",
       "        vertical-align: top;\n",
       "    }\n",
       "\n",
       "    .dataframe thead th {\n",
       "        text-align: right;\n",
       "    }\n",
       "</style>\n",
       "<table border=\"1\" class=\"dataframe\">\n",
       "  <thead>\n",
       "    <tr style=\"text-align: right;\">\n",
       "      <th></th>\n",
       "      <th>RECORD_TIME</th>\n",
       "    </tr>\n",
       "  </thead>\n",
       "  <tbody>\n",
       "    <tr>\n",
       "      <th>0</th>\n",
       "      <td>2021-09-20 07:30</td>\n",
       "    </tr>\n",
       "    <tr>\n",
       "      <th>1</th>\n",
       "      <td>2021-09-20 07:00</td>\n",
       "    </tr>\n",
       "  </tbody>\n",
       "</table>\n",
       "</div>"
      ],
      "text/plain": [
       "        RECORD_TIME\n",
       "0  2021-09-20 07:30\n",
       "1  2021-09-20 07:00"
      ]
     },
     "execution_count": 3,
     "metadata": {},
     "output_type": "execute_result"
    }
   ],
   "source": [
    "timestamps"
   ]
  },
  {
   "cell_type": "code",
   "execution_count": 4,
   "id": "alternate-victory",
   "metadata": {
    "execution": {
     "iopub.execute_input": "2021-09-20T05:30:08.802593Z",
     "iopub.status.busy": "2021-09-20T05:30:08.800658Z",
     "iopub.status.idle": "2021-09-20T05:30:09.279423Z",
     "shell.execute_reply": "2021-09-20T05:30:09.280752Z"
    },
    "papermill": {
     "duration": 0.509001,
     "end_time": "2021-09-20T05:30:09.281151",
     "exception": false,
     "start_time": "2021-09-20T05:30:08.772150",
     "status": "completed"
    },
    "tags": []
   },
   "outputs": [],
   "source": [
    "df = pd.read_sql(\"select * from EBAY_TOP_BERLIN where record_time in (select distinct record_time from EBAY_TOP_BERLIN order by record_time desc limit 2)\", sqlite3.connect(\"UsedObjects.db\"))"
   ]
  },
  {
   "cell_type": "code",
   "execution_count": 5,
   "id": "popular-active",
   "metadata": {
    "execution": {
     "iopub.execute_input": "2021-09-20T05:30:09.360350Z",
     "iopub.status.busy": "2021-09-20T05:30:09.348290Z",
     "iopub.status.idle": "2021-09-20T05:30:09.377719Z",
     "shell.execute_reply": "2021-09-20T05:30:09.379444Z"
    },
    "papermill": {
     "duration": 0.073202,
     "end_time": "2021-09-20T05:30:09.379948",
     "exception": false,
     "start_time": "2021-09-20T05:30:09.306746",
     "status": "completed"
    },
    "tags": []
   },
   "outputs": [],
   "source": [
    "df_pivot = df.pivot_table(index=\"PRODUCT\", columns = \"RECORD_TIME\", values = \"LISTING_COUNT\")"
   ]
  },
  {
   "cell_type": "code",
   "execution_count": 6,
   "id": "union-huntington",
   "metadata": {
    "execution": {
     "iopub.execute_input": "2021-09-20T05:30:09.438924Z",
     "iopub.status.busy": "2021-09-20T05:30:09.436458Z",
     "iopub.status.idle": "2021-09-20T05:30:09.442214Z",
     "shell.execute_reply": "2021-09-20T05:30:09.443589Z"
    },
    "papermill": {
     "duration": 0.042009,
     "end_time": "2021-09-20T05:30:09.444012",
     "exception": false,
     "start_time": "2021-09-20T05:30:09.402003",
     "status": "completed"
    },
    "tags": []
   },
   "outputs": [],
   "source": [
    "df_pivot.columns = [\"stamp_1\", \"stamp_2\"]\n",
    "df_pivot_diff = df_pivot.diff(axis=1)"
   ]
  },
  {
   "cell_type": "code",
   "execution_count": 7,
   "id": "fifth-motion",
   "metadata": {
    "execution": {
     "iopub.execute_input": "2021-09-20T05:30:09.497980Z",
     "iopub.status.busy": "2021-09-20T05:30:09.495714Z",
     "iopub.status.idle": "2021-09-20T05:30:11.003764Z",
     "shell.execute_reply": "2021-09-20T05:30:11.005309Z"
    },
    "papermill": {
     "duration": 1.541359,
     "end_time": "2021-09-20T05:30:11.005760",
     "exception": false,
     "start_time": "2021-09-20T05:30:09.464401",
     "status": "completed"
    },
    "tags": []
   },
   "outputs": [
    {
     "data": {
      "text/plain": [
       "<AxesSubplot:ylabel='PRODUCT'>"
      ]
     },
     "execution_count": 7,
     "metadata": {},
     "output_type": "execute_result"
    },
    {
     "data": {
      "image/png": "[encoded data removed]",
      "text/plain": [
       "<Figure size 432x288 with 1 Axes>"
      ]
     },
     "metadata": {
      "needs_background": "light"
     },
     "output_type": "display_data"
    }
   ],
   "source": [
    "df_pivot_diff.sort_values(\"stamp_2\", ascending = False)[\"stamp_2\"].head(10).plot.barh()"
   ]
  },
  {
   "cell_type": "code",
   "execution_count": null,
   "id": "extra-executive",
   "metadata": {
    "papermill": {
     "duration": 0.021932,
     "end_time": "2021-09-20T05:30:11.051411",
     "exception": false,
     "start_time": "2021-09-20T05:30:11.029479",
     "status": "completed"
    },
    "tags": []
   },
   "outputs": [],
   "source": []
  }
 ],
 "metadata": {
  "kernelspec": {
   "display_name": "Python 3",
   "language": "python",
   "name": "python3"
  },
  "language_info": {
   "codemirror_mode": {
    "name": "ipython",
    "version": 3
   },
   "file_extension": ".py",
   "mimetype": "text/x-python",
   "name": "python",
   "nbconvert_exporter": "python",
   "pygments_lexer": "ipython3",
   "version": "3.9.5"
  },
  "papermill": {
   "default_parameters": {},
   "duration": 6.662529,
   "end_time": "2021-09-20T05:30:11.691928",
   "environment_variables": {},
   "exception": null,
   "input_path": "eBay_Overview.ipynb",
   "output_path": "eBay_Overview.ipynb",
   "parameters": {},
   "start_time": "2021-09-20T05:30:05.029399",
   "version": "2.3.3"
  }
 },
 "nbformat": 4,
 "nbformat_minor": 5
}