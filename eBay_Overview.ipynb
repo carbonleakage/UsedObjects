{
 "cells": [
  {
   "cell_type": "code",
   "execution_count": 1,
   "id": "reverse-picking",
   "metadata": {
    "execution": {
     "iopub.execute_input": "2021-10-29T18:30:07.682649Z",
     "iopub.status.busy": "2021-10-29T18:30:07.680659Z",
     "iopub.status.idle": "2021-10-29T18:30:08.484521Z",
     "shell.execute_reply": "2021-10-29T18:30:08.482895Z"
    },
    "papermill": {
     "duration": 0.854911,
     "end_time": "2021-10-29T18:30:08.485034",
     "exception": false,
     "start_time": "2021-10-29T18:30:07.630123",
     "status": "completed"
    },
    "tags": []
   },
   "outputs": [],
   "source": [
    "import pandas as pd\n",
    "import sqlite3"
   ]
  },
  {
   "cell_type": "code",
   "execution_count": 2,
   "id": "innovative-syndrome",
   "metadata": {
    "execution": {
     "iopub.execute_input": "2021-10-29T18:30:08.535984Z",
     "iopub.status.busy": "2021-10-29T18:30:08.533945Z",
     "iopub.status.idle": "2021-10-29T18:30:09.201744Z",
     "shell.execute_reply": "2021-10-29T18:30:09.203118Z"
    },
    "papermill": {
     "duration": 0.698115,
     "end_time": "2021-10-29T18:30:09.203558",
     "exception": false,
     "start_time": "2021-10-29T18:30:08.505443",
     "status": "completed"
    },
    "tags": []
   },
   "outputs": [],
   "source": [
    "timestamps = pd.read_sql(\"select distinct record_time from EBAY_TOP_BERLIN order by record_time desc limit 2\", sqlite3.connect(\"UsedObjects.db\"))"
   ]
  },
  {
   "cell_type": "code",
   "execution_count": 3,
   "id": "periodic-identification",
   "metadata": {
    "execution": {
     "iopub.execute_input": "2021-10-29T18:30:09.278851Z",
     "iopub.status.busy": "2021-10-29T18:30:09.276764Z",
     "iopub.status.idle": "2021-10-29T18:30:09.297307Z",
     "shell.execute_reply": "2021-10-29T18:30:09.298601Z"
    },
    "papermill": {
     "duration": 0.069968,
     "end_time": "2021-10-29T18:30:09.299002",
     "exception": false,
     "start_time": "2021-10-29T18:30:09.229034",
     "status": "completed"
    },
    "tags": []
   },
   "outputs": [
    {
     "data": {
      "text/html": [
       "<div>\n",
       "<style scoped>\n",
       "    .dataframe tbody tr th:only-of-type {\n",
       "        vertical-align: middle;\n",
       "    }\n",
       "\n",
       "    .dataframe tbody tr th {\n",
       "        vertical-align: top;\n",
       "    }\n",
       "\n",
       "    .dataframe thead th {\n",
       "        text-align: right;\n",
       "    }\n",
       "</style>\n",
       "<table border=\"1\" class=\"dataframe\">\n",
       "  <thead>\n",
       "    <tr style=\"text-align: right;\">\n",
       "      <th></th>\n",
       "      <th>RECORD_TIME</th>\n",
       "    </tr>\n",
       "  </thead>\n",
       "  <tbody>\n",
       "    <tr>\n",
       "      <th>0</th>\n",
       "      <td>2021-10-29 20:30</td>\n",
       "    </tr>\n",
       "    <tr>\n",
       "      <th>1</th>\n",
       "      <td>2021-10-29 20:00</td>\n",
       "    </tr>\n",
       "  </tbody>\n",
       "</table>\n",
       "</div>"
      ],
      "text/plain": [
       "        RECORD_TIME\n",
       "0  2021-10-29 20:30\n",
       "1  2021-10-29 20:00"
      ]
     },
     "execution_count": 3,
     "metadata": {},
     "output_type": "execute_result"
    }
   ],
   "source": [
    "timestamps"
   ]
  },
  {
   "cell_type": "code",
   "execution_count": 4,
   "id": "alternate-victory",
   "metadata": {
    "execution": {
     "iopub.execute_input": "2021-10-29T18:30:09.351354Z",
     "iopub.status.busy": "2021-10-29T18:30:09.349205Z",
     "iopub.status.idle": "2021-10-29T18:30:10.322496Z",
     "shell.execute_reply": "2021-10-29T18:30:10.320846Z"
    },
    "papermill": {
     "duration": 1.002132,
     "end_time": "2021-10-29T18:30:10.322885",
     "exception": false,
     "start_time": "2021-10-29T18:30:09.320753",
     "status": "completed"
    },
    "tags": []
   },
   "outputs": [],
   "source": [
    "df = pd.read_sql(\"select * from EBAY_TOP_BERLIN where record_time in (select distinct record_time from EBAY_TOP_BERLIN order by record_time desc limit 2)\", sqlite3.connect(\"UsedObjects.db\"))"
   ]
  },
  {
   "cell_type": "code",
   "execution_count": 5,
   "id": "popular-active",
   "metadata": {
    "execution": {
     "iopub.execute_input": "2021-10-29T18:30:10.393457Z",
     "iopub.status.busy": "2021-10-29T18:30:10.381660Z",
     "iopub.status.idle": "2021-10-29T18:30:10.409148Z",
     "shell.execute_reply": "2021-10-29T18:30:10.410398Z"
    },
    "papermill": {
     "duration": 0.066742,
     "end_time": "2021-10-29T18:30:10.410797",
     "exception": false,
     "start_time": "2021-10-29T18:30:10.344055",
     "status": "completed"
    },
    "tags": []
   },
   "outputs": [],
   "source": [
    "df_pivot = df.pivot_table(index=\"PRODUCT\", columns = \"RECORD_TIME\", values = \"LISTING_COUNT\")"
   ]
  },
  {
   "cell_type": "code",
   "execution_count": 6,
   "id": "union-huntington",
   "metadata": {
    "execution": {
     "iopub.execute_input": "2021-10-29T18:30:10.468582Z",
     "iopub.status.busy": "2021-10-29T18:30:10.466343Z",
     "iopub.status.idle": "2021-10-29T18:30:10.472398Z",
     "shell.execute_reply": "2021-10-29T18:30:10.473862Z"
    },
    "papermill": {
     "duration": 0.041999,
     "end_time": "2021-10-29T18:30:10.474348",
     "exception": false,
     "start_time": "2021-10-29T18:30:10.432349",
     "status": "completed"
    },
    "tags": []
   },
   "outputs": [],
   "source": [
    "df_pivot.columns = [\"stamp_1\", \"stamp_2\"]\n",
    "df_pivot_diff = df_pivot.diff(axis=1)"
   ]
  },
  {
   "cell_type": "code",
   "execution_count": 7,
   "id": "fifth-motion",
   "metadata": {
    "execution": {
     "iopub.execute_input": "2021-10-29T18:30:10.528352Z",
     "iopub.status.busy": "2021-10-29T18:30:10.526186Z",
     "iopub.status.idle": "2021-10-29T18:30:12.031289Z",
     "shell.execute_reply": "2021-10-29T18:30:12.032562Z"
    },
    "papermill": {
     "duration": 1.537742,
     "end_time": "2021-10-29T18:30:12.033031",
     "exception": false,
     "start_time": "2021-10-29T18:30:10.495289",
     "status": "completed"
    },
    "tags": []
   },
   "outputs": [
    {
     "data": {
      "text/plain": [
       "<AxesSubplot:ylabel='PRODUCT'>"
      ]
     },
     "execution_count": 7,
     "metadata": {},
     "output_type": "execute_result"
    },
    {
     "data": {
      "image/png": "[encoded data removed]",
      "text/plain": [
       "<Figure size 432x288 with 1 Axes>"
      ]
     },
     "metadata": {
      "needs_background": "light"
     },
     "output_type": "display_data"
    }
   ],
   "source": [
    "df_pivot_diff.sort_values(\"stamp_2\", ascending = False)[\"stamp_2\"].head(10).plot.barh()"
   ]
  },
  {
   "cell_type": "code",
   "execution_count": null,
   "id": "extra-executive",
   "metadata": {
    "papermill": {
     "duration": 0.022229,
     "end_time": "2021-10-29T18:30:12.080868",
     "exception": false,
     "start_time": "2021-10-29T18:30:12.058639",
     "status": "completed"
    },
    "tags": []
   },
   "outputs": [],
   "source": []
  }
 ],
 "metadata": {
  "kernelspec": {
   "display_name": "Python 3",
   "language": "python",
   "name": "python3"
  },
  "language_info": {
   "codemirror_mode": {
    "name": "ipython",
    "version": 3
   },
   "file_extension": ".py",
   "mimetype": "text/x-python",
   "name": "python",
   "nbconvert_exporter": "python",
   "pygments_lexer": "ipython3",
   "version": "3.9.5"
  },
  "papermill": {
   "default_parameters": {},
   "duration": 7.512202,
   "end_time": "2021-10-29T18:30:12.738380",
   "environment_variables": {},
   "exception": null,
   "input_path": "eBay_Overview.ipynb",
   "output_path": "eBay_Overview.ipynb",
   "parameters": {},
   "start_time": "2021-10-29T18:30:05.226178",
   "version": "2.3.3"
  }
 },
 "nbformat": 4,
 "nbformat_minor": 5
}