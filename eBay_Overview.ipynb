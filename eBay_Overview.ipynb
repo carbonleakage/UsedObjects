{
 "cells": [
  {
   "cell_type": "code",
   "execution_count": 1,
   "id": "reverse-picking",
   "metadata": {
    "execution": {
     "iopub.execute_input": "2021-09-06T07:00:07.282121Z",
     "iopub.status.busy": "2021-09-06T07:00:07.280203Z",
     "iopub.status.idle": "2021-09-06T07:00:08.082635Z",
     "shell.execute_reply": "2021-09-06T07:00:08.084042Z"
    },
    "papermill": {
     "duration": 0.853244,
     "end_time": "2021-09-06T07:00:08.084704",
     "exception": false,
     "start_time": "2021-09-06T07:00:07.231460",
     "status": "completed"
    },
    "tags": []
   },
   "outputs": [],
   "source": [
    "import pandas as pd\n",
    "import sqlite3"
   ]
  },
  {
   "cell_type": "code",
   "execution_count": 2,
   "id": "innovative-syndrome",
   "metadata": {
    "execution": {
     "iopub.execute_input": "2021-09-06T07:00:08.135636Z",
     "iopub.status.busy": "2021-09-06T07:00:08.133624Z",
     "iopub.status.idle": "2021-09-06T07:00:08.354791Z",
     "shell.execute_reply": "2021-09-06T07:00:08.356024Z"
    },
    "papermill": {
     "duration": 0.251319,
     "end_time": "2021-09-06T07:00:08.356459",
     "exception": false,
     "start_time": "2021-09-06T07:00:08.105140",
     "status": "completed"
    },
    "tags": []
   },
   "outputs": [],
   "source": [
    "timestamps = pd.read_sql(\"select distinct record_time from EBAY_TOP_BERLIN order by record_time desc limit 2\", sqlite3.connect(\"UsedObjects.db\"))"
   ]
  },
  {
   "cell_type": "code",
   "execution_count": 3,
   "id": "periodic-identification",
   "metadata": {
    "execution": {
     "iopub.execute_input": "2021-09-06T07:00:08.420927Z",
     "iopub.status.busy": "2021-09-06T07:00:08.418929Z",
     "iopub.status.idle": "2021-09-06T07:00:08.438456Z",
     "shell.execute_reply": "2021-09-06T07:00:08.439742Z"
    },
    "papermill": {
     "duration": 0.064077,
     "end_time": "2021-09-06T07:00:08.440145",
     "exception": false,
     "start_time": "2021-09-06T07:00:08.376068",
     "status": "completed"
    },
    "tags": []
   },
   "outputs": [
    {
     "data": {
      "text/html": [
       "<div>\n",
       "<style scoped>\n",
       "    .dataframe tbody tr th:only-of-type {\n",
       "        vertical-align: middle;\n",
       "    }\n",
       "\n",
       "    .dataframe tbody tr th {\n",
       "        vertical-align: top;\n",
       "    }\n",
       "\n",
       "    .dataframe thead th {\n",
       "        text-align: right;\n",
       "    }\n",
       "</style>\n",
       "<table border=\"1\" class=\"dataframe\">\n",
       "  <thead>\n",
       "    <tr style=\"text-align: right;\">\n",
       "      <th></th>\n",
       "      <th>RECORD_TIME</th>\n",
       "    </tr>\n",
       "  </thead>\n",
       "  <tbody>\n",
       "    <tr>\n",
       "      <th>0</th>\n",
       "      <td>2021-09-06 09:00</td>\n",
       "    </tr>\n",
       "    <tr>\n",
       "      <th>1</th>\n",
       "      <td>2021-09-06 08:30</td>\n",
       "    </tr>\n",
       "  </tbody>\n",
       "</table>\n",
       "</div>"
      ],
      "text/plain": [
       "        RECORD_TIME\n",
       "0  2021-09-06 09:00\n",
       "1  2021-09-06 08:30"
      ]
     },
     "execution_count": 3,
     "metadata": {},
     "output_type": "execute_result"
    }
   ],
   "source": [
    "timestamps"
   ]
  },
  {
   "cell_type": "code",
   "execution_count": 4,
   "id": "alternate-victory",
   "metadata": {
    "execution": {
     "iopub.execute_input": "2021-09-06T07:00:08.492696Z",
     "iopub.status.busy": "2021-09-06T07:00:08.490444Z",
     "iopub.status.idle": "2021-09-06T07:00:08.808582Z",
     "shell.execute_reply": "2021-09-06T07:00:08.809782Z"
    },
    "papermill": {
     "duration": 0.348262,
     "end_time": "2021-09-06T07:00:08.810179",
     "exception": false,
     "start_time": "2021-09-06T07:00:08.461917",
     "status": "completed"
    },
    "tags": []
   },
   "outputs": [],
   "source": [
    "df = pd.read_sql(\"select * from EBAY_TOP_BERLIN where record_time in (select distinct record_time from EBAY_TOP_BERLIN order by record_time desc limit 2)\", sqlite3.connect(\"UsedObjects.db\"))"
   ]
  },
  {
   "cell_type": "code",
   "execution_count": 5,
   "id": "popular-active",
   "metadata": {
    "execution": {
     "iopub.execute_input": "2021-09-06T07:00:08.888847Z",
     "iopub.status.busy": "2021-09-06T07:00:08.876879Z",
     "iopub.status.idle": "2021-09-06T07:00:08.905075Z",
     "shell.execute_reply": "2021-09-06T07:00:08.906340Z"
    },
    "papermill": {
     "duration": 0.070495,
     "end_time": "2021-09-06T07:00:08.906755",
     "exception": false,
     "start_time": "2021-09-06T07:00:08.836260",
     "status": "completed"
    },
    "tags": []
   },
   "outputs": [],
   "source": [
    "df_pivot = df.pivot_table(index=\"PRODUCT\", columns = \"RECORD_TIME\", values = \"LISTING_COUNT\")"
   ]
  },
  {
   "cell_type": "code",
   "execution_count": 6,
   "id": "union-huntington",
   "metadata": {
    "execution": {
     "iopub.execute_input": "2021-09-06T07:00:08.962932Z",
     "iopub.status.busy": "2021-09-06T07:00:08.960874Z",
     "iopub.status.idle": "2021-09-06T07:00:08.965954Z",
     "shell.execute_reply": "2021-09-06T07:00:08.967181Z"
    },
    "papermill": {
     "duration": 0.040641,
     "end_time": "2021-09-06T07:00:08.967614",
     "exception": false,
     "start_time": "2021-09-06T07:00:08.926973",
     "status": "completed"
    },
    "tags": []
   },
   "outputs": [],
   "source": [
    "df_pivot.columns = [\"stamp_1\", \"stamp_2\"]\n",
    "df_pivot_diff = df_pivot.diff(axis=1)"
   ]
  },
  {
   "cell_type": "code",
   "execution_count": 7,
   "id": "fifth-motion",
   "metadata": {
    "execution": {
     "iopub.execute_input": "2021-09-06T07:00:09.021472Z",
     "iopub.status.busy": "2021-09-06T07:00:09.019115Z",
     "iopub.status.idle": "2021-09-06T07:00:10.488603Z",
     "shell.execute_reply": "2021-09-06T07:00:10.490079Z"
    },
    "papermill": {
     "duration": 1.502463,
     "end_time": "2021-09-06T07:00:10.490543",
     "exception": false,
     "start_time": "2021-09-06T07:00:08.988080",
     "status": "completed"
    },
    "tags": []
   },
   "outputs": [
    {
     "data": {
      "text/plain": [
       "<AxesSubplot:ylabel='PRODUCT'>"
      ]
     },
     "execution_count": 7,
     "metadata": {},
     "output_type": "execute_result"
    },
    {
     "data": {
      "image/png": "[encoded data removed]",
      "text/plain": [
       "<Figure size 432x288 with 1 Axes>"
      ]
     },
     "metadata": {
      "needs_background": "light"
     },
     "output_type": "display_data"
    }
   ],
   "source": [
    "df_pivot_diff.sort_values(\"stamp_2\", ascending = False)[\"stamp_2\"].head(10).plot.barh()"
   ]
  },
  {
   "cell_type": "code",
   "execution_count": null,
   "id": "extra-executive",
   "metadata": {
    "papermill": {
     "duration": 0.02216,
     "end_time": "2021-09-06T07:00:10.537362",
     "exception": false,
     "start_time": "2021-09-06T07:00:10.515202",
     "status": "completed"
    },
    "tags": []
   },
   "outputs": [],
   "source": []
  }
 ],
 "metadata": {
  "kernelspec": {
   "display_name": "Python 3",
   "language": "python",
   "name": "python3"
  },
  "language_info": {
   "codemirror_mode": {
    "name": "ipython",
    "version": 3
   },
   "file_extension": ".py",
   "mimetype": "text/x-python",
   "name": "python",
   "nbconvert_exporter": "python",
   "pygments_lexer": "ipython3",
   "version": "3.9.5"
  },
  "papermill": {
   "default_parameters": {},
   "duration": 6.353934,
   "end_time": "2021-09-06T07:00:11.180453",
   "environment_variables": {},
   "exception": null,
   "input_path": "eBay_Overview.ipynb",
   "output_path": "eBay_Overview.ipynb",
   "parameters": {},
   "start_time": "2021-09-06T07:00:04.826519",
   "version": "2.3.3"
  }
 },
 "nbformat": 4,
 "nbformat_minor": 5
}