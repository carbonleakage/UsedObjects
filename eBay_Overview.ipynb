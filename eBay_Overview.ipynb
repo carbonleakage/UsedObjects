{
 "cells": [
  {
   "cell_type": "code",
   "execution_count": 1,
   "id": "reverse-picking",
   "metadata": {
    "execution": {
     "iopub.execute_input": "2021-08-21T11:00:06.635692Z",
     "iopub.status.busy": "2021-08-21T11:00:06.633683Z",
     "iopub.status.idle": "2021-08-21T11:00:07.437193Z",
     "shell.execute_reply": "2021-08-21T11:00:07.438721Z"
    },
    "papermill": {
     "duration": 0.855107,
     "end_time": "2021-08-21T11:00:07.439402",
     "exception": false,
     "start_time": "2021-08-21T11:00:06.584295",
     "status": "completed"
    },
    "tags": []
   },
   "outputs": [],
   "source": [
    "import pandas as pd\n",
    "import sqlite3"
   ]
  },
  {
   "cell_type": "code",
   "execution_count": 2,
   "id": "innovative-syndrome",
   "metadata": {
    "execution": {
     "iopub.execute_input": "2021-08-21T11:00:07.490342Z",
     "iopub.status.busy": "2021-08-21T11:00:07.488290Z",
     "iopub.status.idle": "2021-08-21T11:00:07.588522Z",
     "shell.execute_reply": "2021-08-21T11:00:07.589728Z"
    },
    "papermill": {
     "duration": 0.130358,
     "end_time": "2021-08-21T11:00:07.590195",
     "exception": false,
     "start_time": "2021-08-21T11:00:07.459837",
     "status": "completed"
    },
    "tags": []
   },
   "outputs": [],
   "source": [
    "timestamps = pd.read_sql(\"select distinct record_time from EBAY_TOP_BERLIN order by record_time desc limit 2\", sqlite3.connect(\"UsedObjects.db\"))"
   ]
  },
  {
   "cell_type": "code",
   "execution_count": 3,
   "id": "periodic-identification",
   "metadata": {
    "execution": {
     "iopub.execute_input": "2021-08-21T11:00:07.653994Z",
     "iopub.status.busy": "2021-08-21T11:00:07.652342Z",
     "iopub.status.idle": "2021-08-21T11:00:07.676947Z",
     "shell.execute_reply": "2021-08-21T11:00:07.678329Z"
    },
    "papermill": {
     "duration": 0.069237,
     "end_time": "2021-08-21T11:00:07.678756",
     "exception": false,
     "start_time": "2021-08-21T11:00:07.609519",
     "status": "completed"
    },
    "tags": []
   },
   "outputs": [
    {
     "data": {
      "text/html": [
       "<div>\n",
       "<style scoped>\n",
       "    .dataframe tbody tr th:only-of-type {\n",
       "        vertical-align: middle;\n",
       "    }\n",
       "\n",
       "    .dataframe tbody tr th {\n",
       "        vertical-align: top;\n",
       "    }\n",
       "\n",
       "    .dataframe thead th {\n",
       "        text-align: right;\n",
       "    }\n",
       "</style>\n",
       "<table border=\"1\" class=\"dataframe\">\n",
       "  <thead>\n",
       "    <tr style=\"text-align: right;\">\n",
       "      <th></th>\n",
       "      <th>RECORD_TIME</th>\n",
       "    </tr>\n",
       "  </thead>\n",
       "  <tbody>\n",
       "    <tr>\n",
       "      <th>0</th>\n",
       "      <td>2021-08-21 13:00</td>\n",
       "    </tr>\n",
       "    <tr>\n",
       "      <th>1</th>\n",
       "      <td>2021-08-21 12:30</td>\n",
       "    </tr>\n",
       "  </tbody>\n",
       "</table>\n",
       "</div>"
      ],
      "text/plain": [
       "        RECORD_TIME\n",
       "0  2021-08-21 13:00\n",
       "1  2021-08-21 12:30"
      ]
     },
     "execution_count": 3,
     "metadata": {},
     "output_type": "execute_result"
    }
   ],
   "source": [
    "timestamps"
   ]
  },
  {
   "cell_type": "code",
   "execution_count": 4,
   "id": "alternate-victory",
   "metadata": {
    "execution": {
     "iopub.execute_input": "2021-08-21T11:00:07.730519Z",
     "iopub.status.busy": "2021-08-21T11:00:07.728550Z",
     "iopub.status.idle": "2021-08-21T11:00:07.873626Z",
     "shell.execute_reply": "2021-08-21T11:00:07.875208Z"
    },
    "papermill": {
     "duration": 0.175696,
     "end_time": "2021-08-21T11:00:07.875734",
     "exception": false,
     "start_time": "2021-08-21T11:00:07.700038",
     "status": "completed"
    },
    "tags": []
   },
   "outputs": [],
   "source": [
    "df = pd.read_sql(\"select * from EBAY_TOP_BERLIN where record_time in (select distinct record_time from EBAY_TOP_BERLIN order by record_time desc limit 2)\", sqlite3.connect(\"UsedObjects.db\"))"
   ]
  },
  {
   "cell_type": "code",
   "execution_count": 5,
   "id": "popular-active",
   "metadata": {
    "execution": {
     "iopub.execute_input": "2021-08-21T11:00:07.941689Z",
     "iopub.status.busy": "2021-08-21T11:00:07.934650Z",
     "iopub.status.idle": "2021-08-21T11:00:07.961490Z",
     "shell.execute_reply": "2021-08-21T11:00:07.962783Z"
    },
    "papermill": {
     "duration": 0.067251,
     "end_time": "2021-08-21T11:00:07.963177",
     "exception": false,
     "start_time": "2021-08-21T11:00:07.895926",
     "status": "completed"
    },
    "tags": []
   },
   "outputs": [],
   "source": [
    "df_pivot = df.pivot_table(index=\"PRODUCT\", columns = \"RECORD_TIME\", values = \"LISTING_COUNT\")"
   ]
  },
  {
   "cell_type": "code",
   "execution_count": 6,
   "id": "union-huntington",
   "metadata": {
    "execution": {
     "iopub.execute_input": "2021-08-21T11:00:08.023105Z",
     "iopub.status.busy": "2021-08-21T11:00:08.020865Z",
     "iopub.status.idle": "2021-08-21T11:00:08.026353Z",
     "shell.execute_reply": "2021-08-21T11:00:08.027648Z"
    },
    "papermill": {
     "duration": 0.042625,
     "end_time": "2021-08-21T11:00:08.028058",
     "exception": false,
     "start_time": "2021-08-21T11:00:07.985433",
     "status": "completed"
    },
    "tags": []
   },
   "outputs": [],
   "source": [
    "df_pivot.columns = [\"stamp_1\", \"stamp_2\"]\n",
    "df_pivot_diff = df_pivot.diff(axis=1)"
   ]
  },
  {
   "cell_type": "code",
   "execution_count": 7,
   "id": "fifth-motion",
   "metadata": {
    "execution": {
     "iopub.execute_input": "2021-08-21T11:00:08.084129Z",
     "iopub.status.busy": "2021-08-21T11:00:08.081594Z",
     "iopub.status.idle": "2021-08-21T11:00:09.564867Z",
     "shell.execute_reply": "2021-08-21T11:00:09.566320Z"
    },
    "papermill": {
     "duration": 1.516311,
     "end_time": "2021-08-21T11:00:09.566764",
     "exception": false,
     "start_time": "2021-08-21T11:00:08.050453",
     "status": "completed"
    },
    "tags": []
   },
   "outputs": [
    {
     "data": {
      "text/plain": [
       "<AxesSubplot:ylabel='PRODUCT'>"
      ]
     },
     "execution_count": 7,
     "metadata": {},
     "output_type": "execute_result"
    },
    {
     "data": {
      "image/png": "[encoded data removed]",
      "text/plain": [
       "<Figure size 432x288 with 1 Axes>"
      ]
     },
     "metadata": {
      "needs_background": "light"
     },
     "output_type": "display_data"
    }
   ],
   "source": [
    "df_pivot_diff.sort_values(\"stamp_2\", ascending = False)[\"stamp_2\"].head(10).plot.barh()"
   ]
  },
  {
   "cell_type": "code",
   "execution_count": null,
   "id": "extra-executive",
   "metadata": {
    "papermill": {
     "duration": 0.022117,
     "end_time": "2021-08-21T11:00:09.613566",
     "exception": false,
     "start_time": "2021-08-21T11:00:09.591449",
     "status": "completed"
    },
    "tags": []
   },
   "outputs": [],
   "source": []
  }
 ],
 "metadata": {
  "kernelspec": {
   "display_name": "Python 3",
   "language": "python",
   "name": "python3"
  },
  "language_info": {
   "codemirror_mode": {
    "name": "ipython",
    "version": 3
   },
   "file_extension": ".py",
   "mimetype": "text/x-python",
   "name": "python",
   "nbconvert_exporter": "python",
   "pygments_lexer": "ipython3",
   "version": "3.9.5"
  },
  "papermill": {
   "default_parameters": {},
   "duration": 6.832344,
   "end_time": "2021-08-21T11:00:11.008002",
   "environment_variables": {},
   "exception": null,
   "input_path": "eBay_Overview.ipynb",
   "output_path": "eBay_Overview.ipynb",
   "parameters": {},
   "start_time": "2021-08-21T11:00:04.175658",
   "version": "2.3.3"
  }
 },
 "nbformat": 4,
 "nbformat_minor": 5
}