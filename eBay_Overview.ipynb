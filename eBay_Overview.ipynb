{
 "cells": [
  {
   "cell_type": "code",
   "execution_count": 1,
   "id": "reverse-picking",
   "metadata": {
    "execution": {
     "iopub.execute_input": "2021-11-07T12:00:07.947276Z",
     "iopub.status.busy": "2021-11-07T12:00:07.944866Z",
     "iopub.status.idle": "2021-11-07T12:00:08.896733Z",
     "shell.execute_reply": "2021-11-07T12:00:08.899604Z"
    },
    "papermill": {
     "duration": 1.002874,
     "end_time": "2021-11-07T12:00:08.900769",
     "exception": false,
     "start_time": "2021-11-07T12:00:07.897895",
     "status": "completed"
    },
    "tags": []
   },
   "outputs": [],
   "source": [
    "import pandas as pd\n",
    "import sqlite3"
   ]
  },
  {
   "cell_type": "code",
   "execution_count": 2,
   "id": "innovative-syndrome",
   "metadata": {
    "execution": {
     "iopub.execute_input": "2021-11-07T12:00:08.963994Z",
     "iopub.status.busy": "2021-11-07T12:00:08.961975Z",
     "iopub.status.idle": "2021-11-07T12:00:09.712089Z",
     "shell.execute_reply": "2021-11-07T12:00:09.713624Z"
    },
    "papermill": {
     "duration": 0.785391,
     "end_time": "2021-11-07T12:00:09.714128",
     "exception": false,
     "start_time": "2021-11-07T12:00:08.928737",
     "status": "completed"
    },
    "tags": []
   },
   "outputs": [],
   "source": [
    "timestamps = pd.read_sql(\"select distinct record_time from EBAY_TOP_BERLIN order by record_time desc limit 2\", sqlite3.connect(\"UsedObjects.db\"))"
   ]
  },
  {
   "cell_type": "code",
   "execution_count": 3,
   "id": "periodic-identification",
   "metadata": {
    "execution": {
     "iopub.execute_input": "2021-11-07T12:00:09.788003Z",
     "iopub.status.busy": "2021-11-07T12:00:09.785725Z",
     "iopub.status.idle": "2021-11-07T12:00:09.808585Z",
     "shell.execute_reply": "2021-11-07T12:00:09.810318Z"
    },
    "papermill": {
     "duration": 0.076045,
     "end_time": "2021-11-07T12:00:09.810832",
     "exception": false,
     "start_time": "2021-11-07T12:00:09.734787",
     "status": "completed"
    },
    "tags": []
   },
   "outputs": [
    {
     "data": {
      "text/html": [
       "<div>\n",
       "<style scoped>\n",
       "    .dataframe tbody tr th:only-of-type {\n",
       "        vertical-align: middle;\n",
       "    }\n",
       "\n",
       "    .dataframe tbody tr th {\n",
       "        vertical-align: top;\n",
       "    }\n",
       "\n",
       "    .dataframe thead th {\n",
       "        text-align: right;\n",
       "    }\n",
       "</style>\n",
       "<table border=\"1\" class=\"dataframe\">\n",
       "  <thead>\n",
       "    <tr style=\"text-align: right;\">\n",
       "      <th></th>\n",
       "      <th>RECORD_TIME</th>\n",
       "    </tr>\n",
       "  </thead>\n",
       "  <tbody>\n",
       "    <tr>\n",
       "      <th>0</th>\n",
       "      <td>2021-11-07 13:00</td>\n",
       "    </tr>\n",
       "    <tr>\n",
       "      <th>1</th>\n",
       "      <td>2021-11-07 12:30</td>\n",
       "    </tr>\n",
       "  </tbody>\n",
       "</table>\n",
       "</div>"
      ],
      "text/plain": [
       "        RECORD_TIME\n",
       "0  2021-11-07 13:00\n",
       "1  2021-11-07 12:30"
      ]
     },
     "execution_count": 3,
     "metadata": {},
     "output_type": "execute_result"
    }
   ],
   "source": [
    "timestamps"
   ]
  },
  {
   "cell_type": "code",
   "execution_count": 4,
   "id": "alternate-victory",
   "metadata": {
    "execution": {
     "iopub.execute_input": "2021-11-07T12:00:09.879193Z",
     "iopub.status.busy": "2021-11-07T12:00:09.875285Z",
     "iopub.status.idle": "2021-11-07T12:00:10.965581Z",
     "shell.execute_reply": "2021-11-07T12:00:10.967058Z"
    },
    "papermill": {
     "duration": 1.134773,
     "end_time": "2021-11-07T12:00:10.967523",
     "exception": false,
     "start_time": "2021-11-07T12:00:09.832750",
     "status": "completed"
    },
    "tags": []
   },
   "outputs": [],
   "source": [
    "df = pd.read_sql(\"select * from EBAY_TOP_BERLIN where record_time in (select distinct record_time from EBAY_TOP_BERLIN order by record_time desc limit 2)\", sqlite3.connect(\"UsedObjects.db\"))"
   ]
  },
  {
   "cell_type": "code",
   "execution_count": 5,
   "id": "popular-active",
   "metadata": {
    "execution": {
     "iopub.execute_input": "2021-11-07T12:00:11.030466Z",
     "iopub.status.busy": "2021-11-07T12:00:11.028168Z",
     "iopub.status.idle": "2021-11-07T12:00:11.063196Z",
     "shell.execute_reply": "2021-11-07T12:00:11.064838Z"
    },
    "papermill": {
     "duration": 0.075466,
     "end_time": "2021-11-07T12:00:11.065329",
     "exception": false,
     "start_time": "2021-11-07T12:00:10.989863",
     "status": "completed"
    },
    "tags": []
   },
   "outputs": [],
   "source": [
    "df_pivot = df.pivot_table(index=\"PRODUCT\", columns = \"RECORD_TIME\", values = \"LISTING_COUNT\")"
   ]
  },
  {
   "cell_type": "code",
   "execution_count": 6,
   "id": "union-huntington",
   "metadata": {
    "execution": {
     "iopub.execute_input": "2021-11-07T12:00:11.120754Z",
     "iopub.status.busy": "2021-11-07T12:00:11.118622Z",
     "iopub.status.idle": "2021-11-07T12:00:11.138006Z",
     "shell.execute_reply": "2021-11-07T12:00:11.136001Z"
    },
    "papermill": {
     "duration": 0.050973,
     "end_time": "2021-11-07T12:00:11.138414",
     "exception": false,
     "start_time": "2021-11-07T12:00:11.087441",
     "status": "completed"
    },
    "tags": []
   },
   "outputs": [],
   "source": [
    "df_pivot.columns = [\"stamp_1\", \"stamp_2\"]\n",
    "df_pivot_diff = df_pivot.diff(axis=1)"
   ]
  },
  {
   "cell_type": "code",
   "execution_count": 7,
   "id": "fifth-motion",
   "metadata": {
    "execution": {
     "iopub.execute_input": "2021-11-07T12:00:11.201798Z",
     "iopub.status.busy": "2021-11-07T12:00:11.199084Z",
     "iopub.status.idle": "2021-11-07T12:00:12.982638Z",
     "shell.execute_reply": "2021-11-07T12:00:12.984223Z"
    },
    "papermill": {
     "duration": 1.821032,
     "end_time": "2021-11-07T12:00:12.984786",
     "exception": false,
     "start_time": "2021-11-07T12:00:11.163754",
     "status": "completed"
    },
    "tags": []
   },
   "outputs": [
    {
     "data": {
      "text/plain": [
       "<AxesSubplot:ylabel='PRODUCT'>"
      ]
     },
     "execution_count": 7,
     "metadata": {},
     "output_type": "execute_result"
    },
    {
     "data": {
      "image/png": "[encoded data removed]",
      "text/plain": [
       "<Figure size 432x288 with 1 Axes>"
      ]
     },
     "metadata": {
      "needs_background": "light"
     },
     "output_type": "display_data"
    }
   ],
   "source": [
    "df_pivot_diff.sort_values(\"stamp_2\", ascending = False)[\"stamp_2\"].head(10).plot.barh()"
   ]
  },
  {
   "cell_type": "code",
   "execution_count": null,
   "id": "extra-executive",
   "metadata": {
    "papermill": {
     "duration": 0.025752,
     "end_time": "2021-11-07T12:00:13.037787",
     "exception": false,
     "start_time": "2021-11-07T12:00:13.012035",
     "status": "completed"
    },
    "tags": []
   },
   "outputs": [],
   "source": []
  }
 ],
 "metadata": {
  "kernelspec": {
   "display_name": "Python 3",
   "language": "python",
   "name": "python3"
  },
  "language_info": {
   "codemirror_mode": {
    "name": "ipython",
    "version": 3
   },
   "file_extension": ".py",
   "mimetype": "text/x-python",
   "name": "python",
   "nbconvert_exporter": "python",
   "pygments_lexer": "ipython3",
   "version": "3.9.5"
  },
  "papermill": {
   "default_parameters": {},
   "duration": 8.730515,
   "end_time": "2021-11-07T12:00:13.784227",
   "environment_variables": {},
   "exception": null,
   "input_path": "eBay_Overview.ipynb",
   "output_path": "eBay_Overview.ipynb",
   "parameters": {},
   "start_time": "2021-11-07T12:00:05.053712",
   "version": "2.3.3"
  }
 },
 "nbformat": 4,
 "nbformat_minor": 5
}