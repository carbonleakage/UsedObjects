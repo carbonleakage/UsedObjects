{
 "cells": [
  {
   "cell_type": "code",
   "execution_count": 1,
   "id": "reverse-picking",
   "metadata": {
    "execution": {
     "iopub.execute_input": "2021-10-17T14:30:06.764368Z",
     "iopub.status.busy": "2021-10-17T14:30:06.762406Z",
     "iopub.status.idle": "2021-10-17T14:30:07.567844Z",
     "shell.execute_reply": "2021-10-17T14:30:07.569255Z"
    },
    "papermill": {
     "duration": 0.858481,
     "end_time": "2021-10-17T14:30:07.569916",
     "exception": false,
     "start_time": "2021-10-17T14:30:06.711435",
     "status": "completed"
    },
    "tags": []
   },
   "outputs": [],
   "source": [
    "import pandas as pd\n",
    "import sqlite3"
   ]
  },
  {
   "cell_type": "code",
   "execution_count": 2,
   "id": "innovative-syndrome",
   "metadata": {
    "execution": {
     "iopub.execute_input": "2021-10-17T14:30:07.621118Z",
     "iopub.status.busy": "2021-10-17T14:30:07.618962Z",
     "iopub.status.idle": "2021-10-17T14:30:08.198577Z",
     "shell.execute_reply": "2021-10-17T14:30:08.199776Z"
    },
    "papermill": {
     "duration": 0.609939,
     "end_time": "2021-10-17T14:30:08.200176",
     "exception": false,
     "start_time": "2021-10-17T14:30:07.590237",
     "status": "completed"
    },
    "tags": []
   },
   "outputs": [],
   "source": [
    "timestamps = pd.read_sql(\"select distinct record_time from EBAY_TOP_BERLIN order by record_time desc limit 2\", sqlite3.connect(\"UsedObjects.db\"))"
   ]
  },
  {
   "cell_type": "code",
   "execution_count": 3,
   "id": "periodic-identification",
   "metadata": {
    "execution": {
     "iopub.execute_input": "2021-10-17T14:30:08.272402Z",
     "iopub.status.busy": "2021-10-17T14:30:08.270326Z",
     "iopub.status.idle": "2021-10-17T14:30:08.289969Z",
     "shell.execute_reply": "2021-10-17T14:30:08.291230Z"
    },
    "papermill": {
     "duration": 0.066554,
     "end_time": "2021-10-17T14:30:08.291630",
     "exception": false,
     "start_time": "2021-10-17T14:30:08.225076",
     "status": "completed"
    },
    "tags": []
   },
   "outputs": [
    {
     "data": {
      "text/html": [
       "<div>\n",
       "<style scoped>\n",
       "    .dataframe tbody tr th:only-of-type {\n",
       "        vertical-align: middle;\n",
       "    }\n",
       "\n",
       "    .dataframe tbody tr th {\n",
       "        vertical-align: top;\n",
       "    }\n",
       "\n",
       "    .dataframe thead th {\n",
       "        text-align: right;\n",
       "    }\n",
       "</style>\n",
       "<table border=\"1\" class=\"dataframe\">\n",
       "  <thead>\n",
       "    <tr style=\"text-align: right;\">\n",
       "      <th></th>\n",
       "      <th>RECORD_TIME</th>\n",
       "    </tr>\n",
       "  </thead>\n",
       "  <tbody>\n",
       "    <tr>\n",
       "      <th>0</th>\n",
       "      <td>2021-10-17 16:30</td>\n",
       "    </tr>\n",
       "    <tr>\n",
       "      <th>1</th>\n",
       "      <td>2021-10-17 16:00</td>\n",
       "    </tr>\n",
       "  </tbody>\n",
       "</table>\n",
       "</div>"
      ],
      "text/plain": [
       "        RECORD_TIME\n",
       "0  2021-10-17 16:30\n",
       "1  2021-10-17 16:00"
      ]
     },
     "execution_count": 3,
     "metadata": {},
     "output_type": "execute_result"
    }
   ],
   "source": [
    "timestamps"
   ]
  },
  {
   "cell_type": "code",
   "execution_count": 4,
   "id": "alternate-victory",
   "metadata": {
    "execution": {
     "iopub.execute_input": "2021-10-17T14:30:08.344343Z",
     "iopub.status.busy": "2021-10-17T14:30:08.342058Z",
     "iopub.status.idle": "2021-10-17T14:30:09.167495Z",
     "shell.execute_reply": "2021-10-17T14:30:09.168837Z"
    },
    "papermill": {
     "duration": 0.856051,
     "end_time": "2021-10-17T14:30:09.169261",
     "exception": false,
     "start_time": "2021-10-17T14:30:08.313210",
     "status": "completed"
    },
    "tags": []
   },
   "outputs": [],
   "source": [
    "df = pd.read_sql(\"select * from EBAY_TOP_BERLIN where record_time in (select distinct record_time from EBAY_TOP_BERLIN order by record_time desc limit 2)\", sqlite3.connect(\"UsedObjects.db\"))"
   ]
  },
  {
   "cell_type": "code",
   "execution_count": 5,
   "id": "popular-active",
   "metadata": {
    "execution": {
     "iopub.execute_input": "2021-10-17T14:30:09.234117Z",
     "iopub.status.busy": "2021-10-17T14:30:09.226861Z",
     "iopub.status.idle": "2021-10-17T14:30:09.254774Z",
     "shell.execute_reply": "2021-10-17T14:30:09.255969Z"
    },
    "papermill": {
     "duration": 0.066891,
     "end_time": "2021-10-17T14:30:09.256366",
     "exception": false,
     "start_time": "2021-10-17T14:30:09.189475",
     "status": "completed"
    },
    "tags": []
   },
   "outputs": [],
   "source": [
    "df_pivot = df.pivot_table(index=\"PRODUCT\", columns = \"RECORD_TIME\", values = \"LISTING_COUNT\")"
   ]
  },
  {
   "cell_type": "code",
   "execution_count": 6,
   "id": "union-huntington",
   "metadata": {
    "execution": {
     "iopub.execute_input": "2021-10-17T14:30:09.315863Z",
     "iopub.status.busy": "2021-10-17T14:30:09.313411Z",
     "iopub.status.idle": "2021-10-17T14:30:09.319300Z",
     "shell.execute_reply": "2021-10-17T14:30:09.320581Z"
    },
    "papermill": {
     "duration": 0.042222,
     "end_time": "2021-10-17T14:30:09.321064",
     "exception": false,
     "start_time": "2021-10-17T14:30:09.278842",
     "status": "completed"
    },
    "tags": []
   },
   "outputs": [],
   "source": [
    "df_pivot.columns = [\"stamp_1\", \"stamp_2\"]\n",
    "df_pivot_diff = df_pivot.diff(axis=1)"
   ]
  },
  {
   "cell_type": "code",
   "execution_count": 7,
   "id": "fifth-motion",
   "metadata": {
    "execution": {
     "iopub.execute_input": "2021-10-17T14:30:09.375492Z",
     "iopub.status.busy": "2021-10-17T14:30:09.373185Z",
     "iopub.status.idle": "2021-10-17T14:30:10.880434Z",
     "shell.execute_reply": "2021-10-17T14:30:10.881701Z"
    },
    "papermill": {
     "duration": 1.540422,
     "end_time": "2021-10-17T14:30:10.882136",
     "exception": false,
     "start_time": "2021-10-17T14:30:09.341714",
     "status": "completed"
    },
    "tags": []
   },
   "outputs": [
    {
     "data": {
      "text/plain": [
       "<AxesSubplot:ylabel='PRODUCT'>"
      ]
     },
     "execution_count": 7,
     "metadata": {},
     "output_type": "execute_result"
    },
    {
     "data": {
      "image/png": "[encoded data removed]",
      "text/plain": [
       "<Figure size 432x288 with 1 Axes>"
      ]
     },
     "metadata": {
      "needs_background": "light"
     },
     "output_type": "display_data"
    }
   ],
   "source": [
    "df_pivot_diff.sort_values(\"stamp_2\", ascending = False)[\"stamp_2\"].head(10).plot.barh()"
   ]
  },
  {
   "cell_type": "code",
   "execution_count": null,
   "id": "extra-executive",
   "metadata": {
    "papermill": {
     "duration": 0.02224,
     "end_time": "2021-10-17T14:30:10.929420",
     "exception": false,
     "start_time": "2021-10-17T14:30:10.907180",
     "status": "completed"
    },
    "tags": []
   },
   "outputs": [],
   "source": []
  }
 ],
 "metadata": {
  "kernelspec": {
   "display_name": "Python 3",
   "language": "python",
   "name": "python3"
  },
  "language_info": {
   "codemirror_mode": {
    "name": "ipython",
    "version": 3
   },
   "file_extension": ".py",
   "mimetype": "text/x-python",
   "name": "python",
   "nbconvert_exporter": "python",
   "pygments_lexer": "ipython3",
   "version": "3.9.5"
  },
  "papermill": {
   "default_parameters": {},
   "duration": 7.824427,
   "end_time": "2021-10-17T14:30:12.125818",
   "environment_variables": {},
   "exception": null,
   "input_path": "eBay_Overview.ipynb",
   "output_path": "eBay_Overview.ipynb",
   "parameters": {},
   "start_time": "2021-10-17T14:30:04.301391",
   "version": "2.3.3"
  }
 },
 "nbformat": 4,
 "nbformat_minor": 5
}