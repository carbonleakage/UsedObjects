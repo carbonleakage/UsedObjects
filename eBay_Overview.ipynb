{
 "cells": [
  {
   "cell_type": "code",
   "execution_count": 1,
   "id": "reverse-picking",
   "metadata": {
    "execution": {
     "iopub.execute_input": "2021-11-28T20:30:08.042309Z",
     "iopub.status.busy": "2021-11-28T20:30:08.030048Z",
     "iopub.status.idle": "2021-11-28T20:30:08.963958Z",
     "shell.execute_reply": "2021-11-28T20:30:08.965516Z"
    },
    "papermill": {
     "duration": 0.973173,
     "end_time": "2021-11-28T20:30:08.966238",
     "exception": false,
     "start_time": "2021-11-28T20:30:07.993065",
     "status": "completed"
    },
    "tags": []
   },
   "outputs": [],
   "source": [
    "import pandas as pd\n",
    "import sqlite3"
   ]
  },
  {
   "cell_type": "code",
   "execution_count": 2,
   "id": "innovative-syndrome",
   "metadata": {
    "execution": {
     "iopub.execute_input": "2021-11-28T20:30:09.041664Z",
     "iopub.status.busy": "2021-11-28T20:30:09.039385Z",
     "iopub.status.idle": "2021-11-28T20:30:09.984237Z",
     "shell.execute_reply": "2021-11-28T20:30:09.985937Z"
    },
    "papermill": {
     "duration": 0.980392,
     "end_time": "2021-11-28T20:30:09.986429",
     "exception": false,
     "start_time": "2021-11-28T20:30:09.006037",
     "status": "completed"
    },
    "tags": []
   },
   "outputs": [],
   "source": [
    "timestamps = pd.read_sql(\"select distinct record_time from EBAY_TOP_BERLIN order by record_time desc limit 2\", sqlite3.connect(\"UsedObjects.db\"))"
   ]
  },
  {
   "cell_type": "code",
   "execution_count": 3,
   "id": "periodic-identification",
   "metadata": {
    "execution": {
     "iopub.execute_input": "2021-11-28T20:30:10.057439Z",
     "iopub.status.busy": "2021-11-28T20:30:10.055047Z",
     "iopub.status.idle": "2021-11-28T20:30:10.079203Z",
     "shell.execute_reply": "2021-11-28T20:30:10.080717Z"
    },
    "papermill": {
     "duration": 0.073599,
     "end_time": "2021-11-28T20:30:10.081279",
     "exception": false,
     "start_time": "2021-11-28T20:30:10.007680",
     "status": "completed"
    },
    "tags": []
   },
   "outputs": [
    {
     "data": {
      "text/html": [
       "<div>\n",
       "<style scoped>\n",
       "    .dataframe tbody tr th:only-of-type {\n",
       "        vertical-align: middle;\n",
       "    }\n",
       "\n",
       "    .dataframe tbody tr th {\n",
       "        vertical-align: top;\n",
       "    }\n",
       "\n",
       "    .dataframe thead th {\n",
       "        text-align: right;\n",
       "    }\n",
       "</style>\n",
       "<table border=\"1\" class=\"dataframe\">\n",
       "  <thead>\n",
       "    <tr style=\"text-align: right;\">\n",
       "      <th></th>\n",
       "      <th>RECORD_TIME</th>\n",
       "    </tr>\n",
       "  </thead>\n",
       "  <tbody>\n",
       "    <tr>\n",
       "      <th>0</th>\n",
       "      <td>2021-11-28 21:30</td>\n",
       "    </tr>\n",
       "    <tr>\n",
       "      <th>1</th>\n",
       "      <td>2021-11-28 21:00</td>\n",
       "    </tr>\n",
       "  </tbody>\n",
       "</table>\n",
       "</div>"
      ],
      "text/plain": [
       "        RECORD_TIME\n",
       "0  2021-11-28 21:30\n",
       "1  2021-11-28 21:00"
      ]
     },
     "execution_count": 3,
     "metadata": {},
     "output_type": "execute_result"
    }
   ],
   "source": [
    "timestamps"
   ]
  },
  {
   "cell_type": "code",
   "execution_count": 4,
   "id": "alternate-victory",
   "metadata": {
    "execution": {
     "iopub.execute_input": "2021-11-28T20:30:10.139230Z",
     "iopub.status.busy": "2021-11-28T20:30:10.137130Z",
     "iopub.status.idle": "2021-11-28T20:30:11.502269Z",
     "shell.execute_reply": "2021-11-28T20:30:11.503698Z"
    },
    "papermill": {
     "duration": 1.400019,
     "end_time": "2021-11-28T20:30:11.504155",
     "exception": false,
     "start_time": "2021-11-28T20:30:10.104136",
     "status": "completed"
    },
    "tags": []
   },
   "outputs": [],
   "source": [
    "df = pd.read_sql(\"select * from EBAY_TOP_BERLIN where record_time in (select distinct record_time from EBAY_TOP_BERLIN order by record_time desc limit 2)\", sqlite3.connect(\"UsedObjects.db\"))"
   ]
  },
  {
   "cell_type": "code",
   "execution_count": 5,
   "id": "popular-active",
   "metadata": {
    "execution": {
     "iopub.execute_input": "2021-11-28T20:30:11.577145Z",
     "iopub.status.busy": "2021-11-28T20:30:11.566969Z",
     "iopub.status.idle": "2021-11-28T20:30:11.602060Z",
     "shell.execute_reply": "2021-11-28T20:30:11.603342Z"
    },
    "papermill": {
     "duration": 0.078574,
     "end_time": "2021-11-28T20:30:11.603803",
     "exception": false,
     "start_time": "2021-11-28T20:30:11.525229",
     "status": "completed"
    },
    "tags": []
   },
   "outputs": [],
   "source": [
    "df_pivot = df.pivot_table(index=\"PRODUCT\", columns = \"RECORD_TIME\", values = \"LISTING_COUNT\")"
   ]
  },
  {
   "cell_type": "code",
   "execution_count": 6,
   "id": "union-huntington",
   "metadata": {
    "execution": {
     "iopub.execute_input": "2021-11-28T20:30:11.665723Z",
     "iopub.status.busy": "2021-11-28T20:30:11.663209Z",
     "iopub.status.idle": "2021-11-28T20:30:11.669105Z",
     "shell.execute_reply": "2021-11-28T20:30:11.670750Z"
    },
    "papermill": {
     "duration": 0.045917,
     "end_time": "2021-11-28T20:30:11.671289",
     "exception": false,
     "start_time": "2021-11-28T20:30:11.625372",
     "status": "completed"
    },
    "tags": []
   },
   "outputs": [],
   "source": [
    "df_pivot.columns = [\"stamp_1\", \"stamp_2\"]\n",
    "df_pivot_diff = df_pivot.diff(axis=1)"
   ]
  },
  {
   "cell_type": "code",
   "execution_count": 7,
   "id": "fifth-motion",
   "metadata": {
    "execution": {
     "iopub.execute_input": "2021-11-28T20:30:11.728354Z",
     "iopub.status.busy": "2021-11-28T20:30:11.725903Z",
     "iopub.status.idle": "2021-11-28T20:30:13.657461Z",
     "shell.execute_reply": "2021-11-28T20:30:13.659357Z"
    },
    "papermill": {
     "duration": 1.96746,
     "end_time": "2021-11-28T20:30:13.660001",
     "exception": false,
     "start_time": "2021-11-28T20:30:11.692541",
     "status": "completed"
    },
    "tags": []
   },
   "outputs": [
    {
     "data": {
      "text/plain": [
       "<AxesSubplot:ylabel='PRODUCT'>"
      ]
     },
     "execution_count": 7,
     "metadata": {},
     "output_type": "execute_result"
    },
    {
     "data": {
      "image/png": "[encoded data removed]",
      "text/plain": [
       "<Figure size 432x288 with 1 Axes>"
      ]
     },
     "metadata": {
      "needs_background": "light"
     },
     "output_type": "display_data"
    }
   ],
   "source": [
    "df_pivot_diff.sort_values(\"stamp_2\", ascending = False)[\"stamp_2\"].head(10).plot.barh()"
   ]
  },
  {
   "cell_type": "code",
   "execution_count": null,
   "id": "extra-executive",
   "metadata": {
    "papermill": {
     "duration": 0.036352,
     "end_time": "2021-11-28T20:30:13.727993",
     "exception": false,
     "start_time": "2021-11-28T20:30:13.691641",
     "status": "completed"
    },
    "tags": []
   },
   "outputs": [],
   "source": []
  }
 ],
 "metadata": {
  "kernelspec": {
   "display_name": "Python 3",
   "language": "python",
   "name": "python3"
  },
  "language_info": {
   "codemirror_mode": {
    "name": "ipython",
    "version": 3
   },
   "file_extension": ".py",
   "mimetype": "text/x-python",
   "name": "python",
   "nbconvert_exporter": "python",
   "pygments_lexer": "ipython3",
   "version": "3.9.5"
  },
  "papermill": {
   "default_parameters": {},
   "duration": 9.93053,
   "end_time": "2021-11-28T20:30:15.196356",
   "environment_variables": {},
   "exception": null,
   "input_path": "eBay_Overview.ipynb",
   "output_path": "eBay_Overview.ipynb",
   "parameters": {},
   "start_time": "2021-11-28T20:30:05.265826",
   "version": "2.3.3"
  }
 },
 "nbformat": 4,
 "nbformat_minor": 5
}