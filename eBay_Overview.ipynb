{
 "cells": [
  {
   "cell_type": "code",
   "execution_count": 1,
   "id": "reverse-picking",
   "metadata": {
    "execution": {
     "iopub.execute_input": "2021-11-26T01:00:08.058108Z",
     "iopub.status.busy": "2021-11-26T01:00:08.054953Z",
     "iopub.status.idle": "2021-11-26T01:00:09.016127Z",
     "shell.execute_reply": "2021-11-26T01:00:09.017815Z"
    },
    "papermill": {
     "duration": 1.013181,
     "end_time": "2021-11-26T01:00:09.018541",
     "exception": false,
     "start_time": "2021-11-26T01:00:08.005360",
     "status": "completed"
    },
    "tags": []
   },
   "outputs": [],
   "source": [
    "import pandas as pd\n",
    "import sqlite3"
   ]
  },
  {
   "cell_type": "code",
   "execution_count": 2,
   "id": "innovative-syndrome",
   "metadata": {
    "execution": {
     "iopub.execute_input": "2021-11-26T01:00:09.076013Z",
     "iopub.status.busy": "2021-11-26T01:00:09.073738Z",
     "iopub.status.idle": "2021-11-26T01:00:09.995550Z",
     "shell.execute_reply": "2021-11-26T01:00:09.997413Z"
    },
    "papermill": {
     "duration": 0.957464,
     "end_time": "2021-11-26T01:00:09.997889",
     "exception": false,
     "start_time": "2021-11-26T01:00:09.040425",
     "status": "completed"
    },
    "tags": []
   },
   "outputs": [],
   "source": [
    "timestamps = pd.read_sql(\"select distinct record_time from EBAY_TOP_BERLIN order by record_time desc limit 2\", sqlite3.connect(\"UsedObjects.db\"))"
   ]
  },
  {
   "cell_type": "code",
   "execution_count": 3,
   "id": "periodic-identification",
   "metadata": {
    "execution": {
     "iopub.execute_input": "2021-11-26T01:00:10.073447Z",
     "iopub.status.busy": "2021-11-26T01:00:10.071193Z",
     "iopub.status.idle": "2021-11-26T01:00:10.095505Z",
     "shell.execute_reply": "2021-11-26T01:00:10.096884Z"
    },
    "papermill": {
     "duration": 0.079443,
     "end_time": "2021-11-26T01:00:10.097339",
     "exception": false,
     "start_time": "2021-11-26T01:00:10.017896",
     "status": "completed"
    },
    "tags": []
   },
   "outputs": [
    {
     "data": {
      "text/html": [
       "<div>\n",
       "<style scoped>\n",
       "    .dataframe tbody tr th:only-of-type {\n",
       "        vertical-align: middle;\n",
       "    }\n",
       "\n",
       "    .dataframe tbody tr th {\n",
       "        vertical-align: top;\n",
       "    }\n",
       "\n",
       "    .dataframe thead th {\n",
       "        text-align: right;\n",
       "    }\n",
       "</style>\n",
       "<table border=\"1\" class=\"dataframe\">\n",
       "  <thead>\n",
       "    <tr style=\"text-align: right;\">\n",
       "      <th></th>\n",
       "      <th>RECORD_TIME</th>\n",
       "    </tr>\n",
       "  </thead>\n",
       "  <tbody>\n",
       "    <tr>\n",
       "      <th>0</th>\n",
       "      <td>2021-11-26 02:00</td>\n",
       "    </tr>\n",
       "    <tr>\n",
       "      <th>1</th>\n",
       "      <td>2021-11-26 01:30</td>\n",
       "    </tr>\n",
       "  </tbody>\n",
       "</table>\n",
       "</div>"
      ],
      "text/plain": [
       "        RECORD_TIME\n",
       "0  2021-11-26 02:00\n",
       "1  2021-11-26 01:30"
      ]
     },
     "execution_count": 3,
     "metadata": {},
     "output_type": "execute_result"
    }
   ],
   "source": [
    "timestamps"
   ]
  },
  {
   "cell_type": "code",
   "execution_count": 4,
   "id": "alternate-victory",
   "metadata": {
    "execution": {
     "iopub.execute_input": "2021-11-26T01:00:10.148627Z",
     "iopub.status.busy": "2021-11-26T01:00:10.146765Z",
     "iopub.status.idle": "2021-11-26T01:00:11.495305Z",
     "shell.execute_reply": "2021-11-26T01:00:11.497048Z"
    },
    "papermill": {
     "duration": 1.379106,
     "end_time": "2021-11-26T01:00:11.497525",
     "exception": false,
     "start_time": "2021-11-26T01:00:10.118419",
     "status": "completed"
    },
    "tags": []
   },
   "outputs": [],
   "source": [
    "df = pd.read_sql(\"select * from EBAY_TOP_BERLIN where record_time in (select distinct record_time from EBAY_TOP_BERLIN order by record_time desc limit 2)\", sqlite3.connect(\"UsedObjects.db\"))"
   ]
  },
  {
   "cell_type": "code",
   "execution_count": 5,
   "id": "popular-active",
   "metadata": {
    "execution": {
     "iopub.execute_input": "2021-11-26T01:00:11.574340Z",
     "iopub.status.busy": "2021-11-26T01:00:11.561421Z",
     "iopub.status.idle": "2021-11-26T01:00:11.591865Z",
     "shell.execute_reply": "2021-11-26T01:00:11.593336Z"
    },
    "papermill": {
     "duration": 0.07346,
     "end_time": "2021-11-26T01:00:11.593812",
     "exception": false,
     "start_time": "2021-11-26T01:00:11.520352",
     "status": "completed"
    },
    "tags": []
   },
   "outputs": [],
   "source": [
    "df_pivot = df.pivot_table(index=\"PRODUCT\", columns = \"RECORD_TIME\", values = \"LISTING_COUNT\")"
   ]
  },
  {
   "cell_type": "code",
   "execution_count": 6,
   "id": "union-huntington",
   "metadata": {
    "execution": {
     "iopub.execute_input": "2021-11-26T01:00:11.656041Z",
     "iopub.status.busy": "2021-11-26T01:00:11.653633Z",
     "iopub.status.idle": "2021-11-26T01:00:11.659327Z",
     "shell.execute_reply": "2021-11-26T01:00:11.660943Z"
    },
    "papermill": {
     "duration": 0.047707,
     "end_time": "2021-11-26T01:00:11.661436",
     "exception": false,
     "start_time": "2021-11-26T01:00:11.613729",
     "status": "completed"
    },
    "tags": []
   },
   "outputs": [],
   "source": [
    "df_pivot.columns = [\"stamp_1\", \"stamp_2\"]\n",
    "df_pivot_diff = df_pivot.diff(axis=1)"
   ]
  },
  {
   "cell_type": "code",
   "execution_count": 7,
   "id": "fifth-motion",
   "metadata": {
    "execution": {
     "iopub.execute_input": "2021-11-26T01:00:11.719023Z",
     "iopub.status.busy": "2021-11-26T01:00:11.716544Z",
     "iopub.status.idle": "2021-11-26T01:00:13.702219Z",
     "shell.execute_reply": "2021-11-26T01:00:13.704040Z"
    },
    "papermill": {
     "duration": 2.021578,
     "end_time": "2021-11-26T01:00:13.704632",
     "exception": false,
     "start_time": "2021-11-26T01:00:11.683054",
     "status": "completed"
    },
    "tags": []
   },
   "outputs": [
    {
     "data": {
      "text/plain": [
       "<AxesSubplot:ylabel='PRODUCT'>"
      ]
     },
     "execution_count": 7,
     "metadata": {},
     "output_type": "execute_result"
    },
    {
     "data": {
      "image/png": "[encoded data removed]",
      "text/plain": [
       "<Figure size 432x288 with 1 Axes>"
      ]
     },
     "metadata": {
      "needs_background": "light"
     },
     "output_type": "display_data"
    }
   ],
   "source": [
    "df_pivot_diff.sort_values(\"stamp_2\", ascending = False)[\"stamp_2\"].head(10).plot.barh()"
   ]
  },
  {
   "cell_type": "code",
   "execution_count": null,
   "id": "extra-executive",
   "metadata": {
    "papermill": {
     "duration": 0.038061,
     "end_time": "2021-11-26T01:00:13.777422",
     "exception": false,
     "start_time": "2021-11-26T01:00:13.739361",
     "status": "completed"
    },
    "tags": []
   },
   "outputs": [],
   "source": []
  }
 ],
 "metadata": {
  "kernelspec": {
   "display_name": "Python 3",
   "language": "python",
   "name": "python3"
  },
  "language_info": {
   "codemirror_mode": {
    "name": "ipython",
    "version": 3
   },
   "file_extension": ".py",
   "mimetype": "text/x-python",
   "name": "python",
   "nbconvert_exporter": "python",
   "pygments_lexer": "ipython3",
   "version": "3.9.5"
  },
  "papermill": {
   "default_parameters": {},
   "duration": 9.948319,
   "end_time": "2021-11-26T01:00:15.192330",
   "environment_variables": {},
   "exception": null,
   "input_path": "eBay_Overview.ipynb",
   "output_path": "eBay_Overview.ipynb",
   "parameters": {},
   "start_time": "2021-11-26T01:00:05.244011",
   "version": "2.3.3"
  }
 },
 "nbformat": 4,
 "nbformat_minor": 5
}