{
 "cells": [
  {
   "cell_type": "code",
   "execution_count": 1,
   "id": "reverse-picking",
   "metadata": {
    "execution": {
     "iopub.execute_input": "2021-08-24T07:30:07.171813Z",
     "iopub.status.busy": "2021-08-24T07:30:07.169788Z",
     "iopub.status.idle": "2021-08-24T07:30:07.978438Z",
     "shell.execute_reply": "2021-08-24T07:30:07.979892Z"
    },
    "papermill": {
     "duration": 0.860003,
     "end_time": "2021-08-24T07:30:07.980572",
     "exception": false,
     "start_time": "2021-08-24T07:30:07.120569",
     "status": "completed"
    },
    "tags": []
   },
   "outputs": [],
   "source": [
    "import pandas as pd\n",
    "import sqlite3"
   ]
  },
  {
   "cell_type": "code",
   "execution_count": 2,
   "id": "innovative-syndrome",
   "metadata": {
    "execution": {
     "iopub.execute_input": "2021-08-24T07:30:08.031245Z",
     "iopub.status.busy": "2021-08-24T07:30:08.028856Z",
     "iopub.status.idle": "2021-08-24T07:30:08.150158Z",
     "shell.execute_reply": "2021-08-24T07:30:08.151442Z"
    },
    "papermill": {
     "duration": 0.150879,
     "end_time": "2021-08-24T07:30:08.151864",
     "exception": false,
     "start_time": "2021-08-24T07:30:08.000985",
     "status": "completed"
    },
    "tags": []
   },
   "outputs": [],
   "source": [
    "timestamps = pd.read_sql(\"select distinct record_time from EBAY_TOP_BERLIN order by record_time desc limit 2\", sqlite3.connect(\"UsedObjects.db\"))"
   ]
  },
  {
   "cell_type": "code",
   "execution_count": 3,
   "id": "periodic-identification",
   "metadata": {
    "execution": {
     "iopub.execute_input": "2021-08-24T07:30:08.217014Z",
     "iopub.status.busy": "2021-08-24T07:30:08.214995Z",
     "iopub.status.idle": "2021-08-24T07:30:08.235089Z",
     "shell.execute_reply": "2021-08-24T07:30:08.236308Z"
    },
    "papermill": {
     "duration": 0.064332,
     "end_time": "2021-08-24T07:30:08.236708",
     "exception": false,
     "start_time": "2021-08-24T07:30:08.172376",
     "status": "completed"
    },
    "tags": []
   },
   "outputs": [
    {
     "data": {
      "text/html": [
       "<div>\n",
       "<style scoped>\n",
       "    .dataframe tbody tr th:only-of-type {\n",
       "        vertical-align: middle;\n",
       "    }\n",
       "\n",
       "    .dataframe tbody tr th {\n",
       "        vertical-align: top;\n",
       "    }\n",
       "\n",
       "    .dataframe thead th {\n",
       "        text-align: right;\n",
       "    }\n",
       "</style>\n",
       "<table border=\"1\" class=\"dataframe\">\n",
       "  <thead>\n",
       "    <tr style=\"text-align: right;\">\n",
       "      <th></th>\n",
       "      <th>RECORD_TIME</th>\n",
       "    </tr>\n",
       "  </thead>\n",
       "  <tbody>\n",
       "    <tr>\n",
       "      <th>0</th>\n",
       "      <td>2021-08-24 09:30</td>\n",
       "    </tr>\n",
       "    <tr>\n",
       "      <th>1</th>\n",
       "      <td>2021-08-24 09:00</td>\n",
       "    </tr>\n",
       "  </tbody>\n",
       "</table>\n",
       "</div>"
      ],
      "text/plain": [
       "        RECORD_TIME\n",
       "0  2021-08-24 09:30\n",
       "1  2021-08-24 09:00"
      ]
     },
     "execution_count": 3,
     "metadata": {},
     "output_type": "execute_result"
    }
   ],
   "source": [
    "timestamps"
   ]
  },
  {
   "cell_type": "code",
   "execution_count": 4,
   "id": "alternate-victory",
   "metadata": {
    "execution": {
     "iopub.execute_input": "2021-08-24T07:30:08.289336Z",
     "iopub.status.busy": "2021-08-24T07:30:08.287061Z",
     "iopub.status.idle": "2021-08-24T07:30:08.466517Z",
     "shell.execute_reply": "2021-08-24T07:30:08.467930Z"
    },
    "papermill": {
     "duration": 0.210015,
     "end_time": "2021-08-24T07:30:08.468378",
     "exception": false,
     "start_time": "2021-08-24T07:30:08.258363",
     "status": "completed"
    },
    "tags": []
   },
   "outputs": [],
   "source": [
    "df = pd.read_sql(\"select * from EBAY_TOP_BERLIN where record_time in (select distinct record_time from EBAY_TOP_BERLIN order by record_time desc limit 2)\", sqlite3.connect(\"UsedObjects.db\"))"
   ]
  },
  {
   "cell_type": "code",
   "execution_count": 5,
   "id": "popular-active",
   "metadata": {
    "execution": {
     "iopub.execute_input": "2021-08-24T07:30:08.539641Z",
     "iopub.status.busy": "2021-08-24T07:30:08.527810Z",
     "iopub.status.idle": "2021-08-24T07:30:08.556058Z",
     "shell.execute_reply": "2021-08-24T07:30:08.557422Z"
    },
    "papermill": {
     "duration": 0.068706,
     "end_time": "2021-08-24T07:30:08.557864",
     "exception": false,
     "start_time": "2021-08-24T07:30:08.489158",
     "status": "completed"
    },
    "tags": []
   },
   "outputs": [],
   "source": [
    "df_pivot = df.pivot_table(index=\"PRODUCT\", columns = \"RECORD_TIME\", values = \"LISTING_COUNT\")"
   ]
  },
  {
   "cell_type": "code",
   "execution_count": 6,
   "id": "union-huntington",
   "metadata": {
    "execution": {
     "iopub.execute_input": "2021-08-24T07:30:08.615127Z",
     "iopub.status.busy": "2021-08-24T07:30:08.613107Z",
     "iopub.status.idle": "2021-08-24T07:30:08.618384Z",
     "shell.execute_reply": "2021-08-24T07:30:08.619589Z"
    },
    "papermill": {
     "duration": 0.039762,
     "end_time": "2021-08-24T07:30:08.619988",
     "exception": false,
     "start_time": "2021-08-24T07:30:08.580226",
     "status": "completed"
    },
    "tags": []
   },
   "outputs": [],
   "source": [
    "df_pivot.columns = [\"stamp_1\", \"stamp_2\"]\n",
    "df_pivot_diff = df_pivot.diff(axis=1)"
   ]
  },
  {
   "cell_type": "code",
   "execution_count": 7,
   "id": "fifth-motion",
   "metadata": {
    "execution": {
     "iopub.execute_input": "2021-08-24T07:30:08.677679Z",
     "iopub.status.busy": "2021-08-24T07:30:08.675063Z",
     "iopub.status.idle": "2021-08-24T07:30:10.189439Z",
     "shell.execute_reply": "2021-08-24T07:30:10.191544Z"
    },
    "papermill": {
     "duration": 1.54892,
     "end_time": "2021-08-24T07:30:10.192154",
     "exception": false,
     "start_time": "2021-08-24T07:30:08.643234",
     "status": "completed"
    },
    "tags": []
   },
   "outputs": [
    {
     "data": {
      "text/plain": [
       "<AxesSubplot:ylabel='PRODUCT'>"
      ]
     },
     "execution_count": 7,
     "metadata": {},
     "output_type": "execute_result"
    },
    {
     "data": {
      "image/png": "[encoded data removed]",
      "text/plain": [
       "<Figure size 432x288 with 1 Axes>"
      ]
     },
     "metadata": {
      "needs_background": "light"
     },
     "output_type": "display_data"
    }
   ],
   "source": [
    "df_pivot_diff.sort_values(\"stamp_2\", ascending = False)[\"stamp_2\"].head(10).plot.barh()"
   ]
  },
  {
   "cell_type": "code",
   "execution_count": null,
   "id": "extra-executive",
   "metadata": {
    "papermill": {
     "duration": 0.022207,
     "end_time": "2021-08-24T07:30:10.239282",
     "exception": false,
     "start_time": "2021-08-24T07:30:10.217075",
     "status": "completed"
    },
    "tags": []
   },
   "outputs": [],
   "source": []
  }
 ],
 "metadata": {
  "kernelspec": {
   "display_name": "Python 3",
   "language": "python",
   "name": "python3"
  },
  "language_info": {
   "codemirror_mode": {
    "name": "ipython",
    "version": 3
   },
   "file_extension": ".py",
   "mimetype": "text/x-python",
   "name": "python",
   "nbconvert_exporter": "python",
   "pygments_lexer": "ipython3",
   "version": "3.9.5"
  },
  "papermill": {
   "default_parameters": {},
   "duration": 6.822942,
   "end_time": "2021-08-24T07:30:11.529384",
   "environment_variables": {},
   "exception": null,
   "input_path": "eBay_Overview.ipynb",
   "output_path": "eBay_Overview.ipynb",
   "parameters": {},
   "start_time": "2021-08-24T07:30:04.706442",
   "version": "2.3.3"
  }
 },
 "nbformat": 4,
 "nbformat_minor": 5
}