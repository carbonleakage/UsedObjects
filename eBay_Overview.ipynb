{
 "cells": [
  {
   "cell_type": "code",
   "execution_count": 1,
   "id": "reverse-picking",
   "metadata": {
    "execution": {
     "iopub.execute_input": "2021-12-09T15:30:07.574224Z",
     "iopub.status.busy": "2021-12-09T15:30:07.571651Z",
     "iopub.status.idle": "2021-12-09T15:30:08.541566Z",
     "shell.execute_reply": "2021-12-09T15:30:08.543939Z"
    },
    "papermill": {
     "duration": 1.020179,
     "end_time": "2021-12-09T15:30:08.544792",
     "exception": false,
     "start_time": "2021-12-09T15:30:07.524613",
     "status": "completed"
    },
    "tags": []
   },
   "outputs": [],
   "source": [
    "import pandas as pd\n",
    "import sqlite3"
   ]
  },
  {
   "cell_type": "code",
   "execution_count": 2,
   "id": "innovative-syndrome",
   "metadata": {
    "execution": {
     "iopub.execute_input": "2021-12-09T15:30:08.602305Z",
     "iopub.status.busy": "2021-12-09T15:30:08.600071Z",
     "iopub.status.idle": "2021-12-09T15:30:09.648032Z",
     "shell.execute_reply": "2021-12-09T15:30:09.649446Z"
    },
    "papermill": {
     "duration": 1.082723,
     "end_time": "2021-12-09T15:30:09.649930",
     "exception": false,
     "start_time": "2021-12-09T15:30:08.567207",
     "status": "completed"
    },
    "tags": []
   },
   "outputs": [],
   "source": [
    "timestamps = pd.read_sql(\"select distinct record_time from EBAY_TOP_BERLIN order by record_time desc limit 2\", sqlite3.connect(\"UsedObjects.db\"))"
   ]
  },
  {
   "cell_type": "code",
   "execution_count": 3,
   "id": "periodic-identification",
   "metadata": {
    "execution": {
     "iopub.execute_input": "2021-12-09T15:30:09.723904Z",
     "iopub.status.busy": "2021-12-09T15:30:09.717457Z",
     "iopub.status.idle": "2021-12-09T15:30:09.744261Z",
     "shell.execute_reply": "2021-12-09T15:30:09.747603Z"
    },
    "papermill": {
     "duration": 0.079585,
     "end_time": "2021-12-09T15:30:09.748861",
     "exception": false,
     "start_time": "2021-12-09T15:30:09.669276",
     "status": "completed"
    },
    "tags": []
   },
   "outputs": [
    {
     "data": {
      "text/html": [
       "<div>\n",
       "<style scoped>\n",
       "    .dataframe tbody tr th:only-of-type {\n",
       "        vertical-align: middle;\n",
       "    }\n",
       "\n",
       "    .dataframe tbody tr th {\n",
       "        vertical-align: top;\n",
       "    }\n",
       "\n",
       "    .dataframe thead th {\n",
       "        text-align: right;\n",
       "    }\n",
       "</style>\n",
       "<table border=\"1\" class=\"dataframe\">\n",
       "  <thead>\n",
       "    <tr style=\"text-align: right;\">\n",
       "      <th></th>\n",
       "      <th>RECORD_TIME</th>\n",
       "    </tr>\n",
       "  </thead>\n",
       "  <tbody>\n",
       "    <tr>\n",
       "      <th>0</th>\n",
       "      <td>2021-12-09 16:30</td>\n",
       "    </tr>\n",
       "    <tr>\n",
       "      <th>1</th>\n",
       "      <td>2021-12-09 16:00</td>\n",
       "    </tr>\n",
       "  </tbody>\n",
       "</table>\n",
       "</div>"
      ],
      "text/plain": [
       "        RECORD_TIME\n",
       "0  2021-12-09 16:30\n",
       "1  2021-12-09 16:00"
      ]
     },
     "execution_count": 3,
     "metadata": {},
     "output_type": "execute_result"
    }
   ],
   "source": [
    "timestamps"
   ]
  },
  {
   "cell_type": "code",
   "execution_count": 4,
   "id": "alternate-victory",
   "metadata": {
    "execution": {
     "iopub.execute_input": "2021-12-09T15:30:09.827738Z",
     "iopub.status.busy": "2021-12-09T15:30:09.825483Z",
     "iopub.status.idle": "2021-12-09T15:30:11.367926Z",
     "shell.execute_reply": "2021-12-09T15:30:11.370834Z"
    },
    "papermill": {
     "duration": 1.589324,
     "end_time": "2021-12-09T15:30:11.371714",
     "exception": false,
     "start_time": "2021-12-09T15:30:09.782390",
     "status": "completed"
    },
    "tags": []
   },
   "outputs": [],
   "source": [
    "df = pd.read_sql(\"select * from EBAY_TOP_BERLIN where record_time in (select distinct record_time from EBAY_TOP_BERLIN order by record_time desc limit 2)\", sqlite3.connect(\"UsedObjects.db\"))"
   ]
  },
  {
   "cell_type": "code",
   "execution_count": 5,
   "id": "popular-active",
   "metadata": {
    "execution": {
     "iopub.execute_input": "2021-12-09T15:30:11.474540Z",
     "iopub.status.busy": "2021-12-09T15:30:11.470251Z",
     "iopub.status.idle": "2021-12-09T15:30:11.534405Z",
     "shell.execute_reply": "2021-12-09T15:30:11.537361Z"
    },
    "papermill": {
     "duration": 0.133532,
     "end_time": "2021-12-09T15:30:11.538298",
     "exception": false,
     "start_time": "2021-12-09T15:30:11.404766",
     "status": "completed"
    },
    "tags": []
   },
   "outputs": [],
   "source": [
    "df_pivot = df.pivot_table(index=\"PRODUCT\", columns = \"RECORD_TIME\", values = \"LISTING_COUNT\")"
   ]
  },
  {
   "cell_type": "code",
   "execution_count": 6,
   "id": "union-huntington",
   "metadata": {
    "execution": {
     "iopub.execute_input": "2021-12-09T15:30:11.622343Z",
     "iopub.status.busy": "2021-12-09T15:30:11.618244Z",
     "iopub.status.idle": "2021-12-09T15:30:11.630931Z",
     "shell.execute_reply": "2021-12-09T15:30:11.633961Z"
    },
    "papermill": {
     "duration": 0.068392,
     "end_time": "2021-12-09T15:30:11.634927",
     "exception": false,
     "start_time": "2021-12-09T15:30:11.566535",
     "status": "completed"
    },
    "tags": []
   },
   "outputs": [],
   "source": [
    "df_pivot.columns = [\"stamp_1\", \"stamp_2\"]\n",
    "df_pivot_diff = df_pivot.diff(axis=1)"
   ]
  },
  {
   "cell_type": "code",
   "execution_count": 7,
   "id": "fifth-motion",
   "metadata": {
    "execution": {
     "iopub.execute_input": "2021-12-09T15:30:11.724495Z",
     "iopub.status.busy": "2021-12-09T15:30:11.720627Z",
     "iopub.status.idle": "2021-12-09T15:30:13.454325Z",
     "shell.execute_reply": "2021-12-09T15:30:13.455526Z"
    },
    "papermill": {
     "duration": 1.788584,
     "end_time": "2021-12-09T15:30:13.455966",
     "exception": false,
     "start_time": "2021-12-09T15:30:11.667382",
     "status": "completed"
    },
    "tags": []
   },
   "outputs": [
    {
     "data": {
      "text/plain": [
       "<AxesSubplot:ylabel='PRODUCT'>"
      ]
     },
     "execution_count": 7,
     "metadata": {},
     "output_type": "execute_result"
    },
    {
     "data": {
      "image/png": "[encoded data removed]",
      "text/plain": [
       "<Figure size 432x288 with 1 Axes>"
      ]
     },
     "metadata": {
      "needs_background": "light"
     },
     "output_type": "display_data"
    }
   ],
   "source": [
    "df_pivot_diff.sort_values(\"stamp_2\", ascending = False)[\"stamp_2\"].head(10).plot.barh()"
   ]
  },
  {
   "cell_type": "code",
   "execution_count": null,
   "id": "extra-executive",
   "metadata": {
    "papermill": {
     "duration": 0.022064,
     "end_time": "2021-12-09T15:30:13.503393",
     "exception": false,
     "start_time": "2021-12-09T15:30:13.481329",
     "status": "completed"
    },
    "tags": []
   },
   "outputs": [],
   "source": []
  }
 ],
 "metadata": {
  "kernelspec": {
   "display_name": "Python 3",
   "language": "python",
   "name": "python3"
  },
  "language_info": {
   "codemirror_mode": {
    "name": "ipython",
    "version": 3
   },
   "file_extension": ".py",
   "mimetype": "text/x-python",
   "name": "python",
   "nbconvert_exporter": "python",
   "pygments_lexer": "ipython3",
   "version": "3.9.5"
  },
  "papermill": {
   "default_parameters": {},
   "duration": 9.949914,
   "end_time": "2021-12-09T15:30:14.712425",
   "environment_variables": {},
   "exception": null,
   "input_path": "eBay_Overview.ipynb",
   "output_path": "eBay_Overview.ipynb",
   "parameters": {},
   "start_time": "2021-12-09T15:30:04.762511",
   "version": "2.3.3"
  }
 },
 "nbformat": 4,
 "nbformat_minor": 5
}