{
 "cells": [
  {
   "cell_type": "code",
   "execution_count": 1,
   "id": "reverse-picking",
   "metadata": {
    "execution": {
     "iopub.execute_input": "2021-09-23T09:30:07.206393Z",
     "iopub.status.busy": "2021-09-23T09:30:07.204447Z",
     "iopub.status.idle": "2021-09-23T09:30:08.006973Z",
     "shell.execute_reply": "2021-09-23T09:30:08.008322Z"
    },
    "papermill": {
     "duration": 0.852895,
     "end_time": "2021-09-23T09:30:08.008958",
     "exception": false,
     "start_time": "2021-09-23T09:30:07.156063",
     "status": "completed"
    },
    "tags": []
   },
   "outputs": [],
   "source": [
    "import pandas as pd\n",
    "import sqlite3"
   ]
  },
  {
   "cell_type": "code",
   "execution_count": 2,
   "id": "innovative-syndrome",
   "metadata": {
    "execution": {
     "iopub.execute_input": "2021-09-23T09:30:08.059791Z",
     "iopub.status.busy": "2021-09-23T09:30:08.057755Z",
     "iopub.status.idle": "2021-09-23T09:30:08.415997Z",
     "shell.execute_reply": "2021-09-23T09:30:08.417249Z"
    },
    "papermill": {
     "duration": 0.388291,
     "end_time": "2021-09-23T09:30:08.417644",
     "exception": false,
     "start_time": "2021-09-23T09:30:08.029353",
     "status": "completed"
    },
    "tags": []
   },
   "outputs": [],
   "source": [
    "timestamps = pd.read_sql(\"select distinct record_time from EBAY_TOP_BERLIN order by record_time desc limit 2\", sqlite3.connect(\"UsedObjects.db\"))"
   ]
  },
  {
   "cell_type": "code",
   "execution_count": 3,
   "id": "periodic-identification",
   "metadata": {
    "execution": {
     "iopub.execute_input": "2021-09-23T09:30:08.482013Z",
     "iopub.status.busy": "2021-09-23T09:30:08.480029Z",
     "iopub.status.idle": "2021-09-23T09:30:08.499865Z",
     "shell.execute_reply": "2021-09-23T09:30:08.501208Z"
    },
    "papermill": {
     "duration": 0.064553,
     "end_time": "2021-09-23T09:30:08.501626",
     "exception": false,
     "start_time": "2021-09-23T09:30:08.437073",
     "status": "completed"
    },
    "tags": []
   },
   "outputs": [
    {
     "data": {
      "text/html": [
       "<div>\n",
       "<style scoped>\n",
       "    .dataframe tbody tr th:only-of-type {\n",
       "        vertical-align: middle;\n",
       "    }\n",
       "\n",
       "    .dataframe tbody tr th {\n",
       "        vertical-align: top;\n",
       "    }\n",
       "\n",
       "    .dataframe thead th {\n",
       "        text-align: right;\n",
       "    }\n",
       "</style>\n",
       "<table border=\"1\" class=\"dataframe\">\n",
       "  <thead>\n",
       "    <tr style=\"text-align: right;\">\n",
       "      <th></th>\n",
       "      <th>RECORD_TIME</th>\n",
       "    </tr>\n",
       "  </thead>\n",
       "  <tbody>\n",
       "    <tr>\n",
       "      <th>0</th>\n",
       "      <td>2021-09-23 11:30</td>\n",
       "    </tr>\n",
       "    <tr>\n",
       "      <th>1</th>\n",
       "      <td>2021-09-23 11:00</td>\n",
       "    </tr>\n",
       "  </tbody>\n",
       "</table>\n",
       "</div>"
      ],
      "text/plain": [
       "        RECORD_TIME\n",
       "0  2021-09-23 11:30\n",
       "1  2021-09-23 11:00"
      ]
     },
     "execution_count": 3,
     "metadata": {},
     "output_type": "execute_result"
    }
   ],
   "source": [
    "timestamps"
   ]
  },
  {
   "cell_type": "code",
   "execution_count": 4,
   "id": "alternate-victory",
   "metadata": {
    "execution": {
     "iopub.execute_input": "2021-09-23T09:30:08.553878Z",
     "iopub.status.busy": "2021-09-23T09:30:08.551603Z",
     "iopub.status.idle": "2021-09-23T09:30:09.092566Z",
     "shell.execute_reply": "2021-09-23T09:30:09.093855Z"
    },
    "papermill": {
     "duration": 0.571426,
     "end_time": "2021-09-23T09:30:09.094269",
     "exception": false,
     "start_time": "2021-09-23T09:30:08.522843",
     "status": "completed"
    },
    "tags": []
   },
   "outputs": [],
   "source": [
    "df = pd.read_sql(\"select * from EBAY_TOP_BERLIN where record_time in (select distinct record_time from EBAY_TOP_BERLIN order by record_time desc limit 2)\", sqlite3.connect(\"UsedObjects.db\"))"
   ]
  },
  {
   "cell_type": "code",
   "execution_count": 5,
   "id": "popular-active",
   "metadata": {
    "execution": {
     "iopub.execute_input": "2021-09-23T09:30:09.175838Z",
     "iopub.status.busy": "2021-09-23T09:30:09.163035Z",
     "iopub.status.idle": "2021-09-23T09:30:09.192108Z",
     "shell.execute_reply": "2021-09-23T09:30:09.193526Z"
    },
    "papermill": {
     "duration": 0.074011,
     "end_time": "2021-09-23T09:30:09.193967",
     "exception": false,
     "start_time": "2021-09-23T09:30:09.119956",
     "status": "completed"
    },
    "tags": []
   },
   "outputs": [],
   "source": [
    "df_pivot = df.pivot_table(index=\"PRODUCT\", columns = \"RECORD_TIME\", values = \"LISTING_COUNT\")"
   ]
  },
  {
   "cell_type": "code",
   "execution_count": 6,
   "id": "union-huntington",
   "metadata": {
    "execution": {
     "iopub.execute_input": "2021-09-23T09:30:09.252040Z",
     "iopub.status.busy": "2021-09-23T09:30:09.249556Z",
     "iopub.status.idle": "2021-09-23T09:30:09.255646Z",
     "shell.execute_reply": "2021-09-23T09:30:09.257107Z"
    },
    "papermill": {
     "duration": 0.042616,
     "end_time": "2021-09-23T09:30:09.257572",
     "exception": false,
     "start_time": "2021-09-23T09:30:09.214956",
     "status": "completed"
    },
    "tags": []
   },
   "outputs": [],
   "source": [
    "df_pivot.columns = [\"stamp_1\", \"stamp_2\"]\n",
    "df_pivot_diff = df_pivot.diff(axis=1)"
   ]
  },
  {
   "cell_type": "code",
   "execution_count": 7,
   "id": "fifth-motion",
   "metadata": {
    "execution": {
     "iopub.execute_input": "2021-09-23T09:30:09.312871Z",
     "iopub.status.busy": "2021-09-23T09:30:09.310416Z",
     "iopub.status.idle": "2021-09-23T09:30:10.813540Z",
     "shell.execute_reply": "2021-09-23T09:30:10.815003Z"
    },
    "papermill": {
     "duration": 1.536155,
     "end_time": "2021-09-23T09:30:10.815481",
     "exception": false,
     "start_time": "2021-09-23T09:30:09.279326",
     "status": "completed"
    },
    "tags": []
   },
   "outputs": [
    {
     "data": {
      "text/plain": [
       "<AxesSubplot:ylabel='PRODUCT'>"
      ]
     },
     "execution_count": 7,
     "metadata": {},
     "output_type": "execute_result"
    },
    {
     "data": {
      "image/png": "[encoded data removed]",
      "text/plain": [
       "<Figure size 432x288 with 1 Axes>"
      ]
     },
     "metadata": {
      "needs_background": "light"
     },
     "output_type": "display_data"
    }
   ],
   "source": [
    "df_pivot_diff.sort_values(\"stamp_2\", ascending = False)[\"stamp_2\"].head(10).plot.barh()"
   ]
  },
  {
   "cell_type": "code",
   "execution_count": null,
   "id": "extra-executive",
   "metadata": {
    "papermill": {
     "duration": 0.022395,
     "end_time": "2021-09-23T09:30:10.864773",
     "exception": false,
     "start_time": "2021-09-23T09:30:10.842378",
     "status": "completed"
    },
    "tags": []
   },
   "outputs": [],
   "source": []
  }
 ],
 "metadata": {
  "kernelspec": {
   "display_name": "Python 3",
   "language": "python",
   "name": "python3"
  },
  "language_info": {
   "codemirror_mode": {
    "name": "ipython",
    "version": 3
   },
   "file_extension": ".py",
   "mimetype": "text/x-python",
   "name": "python",
   "nbconvert_exporter": "python",
   "pygments_lexer": "ipython3",
   "version": "3.9.5"
  },
  "papermill": {
   "default_parameters": {},
   "duration": 6.756586,
   "end_time": "2021-09-23T09:30:11.508423",
   "environment_variables": {},
   "exception": null,
   "input_path": "eBay_Overview.ipynb",
   "output_path": "eBay_Overview.ipynb",
   "parameters": {},
   "start_time": "2021-09-23T09:30:04.751837",
   "version": "2.3.3"
  }
 },
 "nbformat": 4,
 "nbformat_minor": 5
}