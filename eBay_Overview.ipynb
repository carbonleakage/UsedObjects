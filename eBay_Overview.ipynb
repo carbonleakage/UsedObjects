{
 "cells": [
  {
   "cell_type": "code",
   "execution_count": 1,
   "id": "reverse-picking",
   "metadata": {
    "execution": {
     "iopub.execute_input": "2021-09-20T09:30:07.650562Z",
     "iopub.status.busy": "2021-09-20T09:30:07.648612Z",
     "iopub.status.idle": "2021-09-20T09:30:08.449640Z",
     "shell.execute_reply": "2021-09-20T09:30:08.448079Z"
    },
    "papermill": {
     "duration": 0.851865,
     "end_time": "2021-09-20T09:30:08.450028",
     "exception": false,
     "start_time": "2021-09-20T09:30:07.598163",
     "status": "completed"
    },
    "tags": []
   },
   "outputs": [],
   "source": [
    "import pandas as pd\n",
    "import sqlite3"
   ]
  },
  {
   "cell_type": "code",
   "execution_count": 2,
   "id": "innovative-syndrome",
   "metadata": {
    "execution": {
     "iopub.execute_input": "2021-09-20T09:30:08.502933Z",
     "iopub.status.busy": "2021-09-20T09:30:08.500621Z",
     "iopub.status.idle": "2021-09-20T09:30:08.827400Z",
     "shell.execute_reply": "2021-09-20T09:30:08.828618Z"
    },
    "papermill": {
     "duration": 0.356692,
     "end_time": "2021-09-20T09:30:08.829011",
     "exception": false,
     "start_time": "2021-09-20T09:30:08.472319",
     "status": "completed"
    },
    "tags": []
   },
   "outputs": [],
   "source": [
    "timestamps = pd.read_sql(\"select distinct record_time from EBAY_TOP_BERLIN order by record_time desc limit 2\", sqlite3.connect(\"UsedObjects.db\"))"
   ]
  },
  {
   "cell_type": "code",
   "execution_count": 3,
   "id": "periodic-identification",
   "metadata": {
    "execution": {
     "iopub.execute_input": "2021-09-20T09:30:08.893743Z",
     "iopub.status.busy": "2021-09-20T09:30:08.891751Z",
     "iopub.status.idle": "2021-09-20T09:30:08.911770Z",
     "shell.execute_reply": "2021-09-20T09:30:08.912989Z"
    },
    "papermill": {
     "duration": 0.06357,
     "end_time": "2021-09-20T09:30:08.913421",
     "exception": false,
     "start_time": "2021-09-20T09:30:08.849851",
     "status": "completed"
    },
    "tags": []
   },
   "outputs": [
    {
     "data": {
      "text/html": [
       "<div>\n",
       "<style scoped>\n",
       "    .dataframe tbody tr th:only-of-type {\n",
       "        vertical-align: middle;\n",
       "    }\n",
       "\n",
       "    .dataframe tbody tr th {\n",
       "        vertical-align: top;\n",
       "    }\n",
       "\n",
       "    .dataframe thead th {\n",
       "        text-align: right;\n",
       "    }\n",
       "</style>\n",
       "<table border=\"1\" class=\"dataframe\">\n",
       "  <thead>\n",
       "    <tr style=\"text-align: right;\">\n",
       "      <th></th>\n",
       "      <th>RECORD_TIME</th>\n",
       "    </tr>\n",
       "  </thead>\n",
       "  <tbody>\n",
       "    <tr>\n",
       "      <th>0</th>\n",
       "      <td>2021-09-20 11:30</td>\n",
       "    </tr>\n",
       "    <tr>\n",
       "      <th>1</th>\n",
       "      <td>2021-09-20 11:00</td>\n",
       "    </tr>\n",
       "  </tbody>\n",
       "</table>\n",
       "</div>"
      ],
      "text/plain": [
       "        RECORD_TIME\n",
       "0  2021-09-20 11:30\n",
       "1  2021-09-20 11:00"
      ]
     },
     "execution_count": 3,
     "metadata": {},
     "output_type": "execute_result"
    }
   ],
   "source": [
    "timestamps"
   ]
  },
  {
   "cell_type": "code",
   "execution_count": 4,
   "id": "alternate-victory",
   "metadata": {
    "execution": {
     "iopub.execute_input": "2021-09-20T09:30:08.967606Z",
     "iopub.status.busy": "2021-09-20T09:30:08.965254Z",
     "iopub.status.idle": "2021-09-20T09:30:09.470089Z",
     "shell.execute_reply": "2021-09-20T09:30:09.471467Z"
    },
    "papermill": {
     "duration": 0.535549,
     "end_time": "2021-09-20T09:30:09.471899",
     "exception": false,
     "start_time": "2021-09-20T09:30:08.936350",
     "status": "completed"
    },
    "tags": []
   },
   "outputs": [],
   "source": [
    "df = pd.read_sql(\"select * from EBAY_TOP_BERLIN where record_time in (select distinct record_time from EBAY_TOP_BERLIN order by record_time desc limit 2)\", sqlite3.connect(\"UsedObjects.db\"))"
   ]
  },
  {
   "cell_type": "code",
   "execution_count": 5,
   "id": "popular-active",
   "metadata": {
    "execution": {
     "iopub.execute_input": "2021-09-20T09:30:09.552488Z",
     "iopub.status.busy": "2021-09-20T09:30:09.540125Z",
     "iopub.status.idle": "2021-09-20T09:30:09.568911Z",
     "shell.execute_reply": "2021-09-20T09:30:09.570276Z"
    },
    "papermill": {
     "duration": 0.073296,
     "end_time": "2021-09-20T09:30:09.570714",
     "exception": false,
     "start_time": "2021-09-20T09:30:09.497418",
     "status": "completed"
    },
    "tags": []
   },
   "outputs": [],
   "source": [
    "df_pivot = df.pivot_table(index=\"PRODUCT\", columns = \"RECORD_TIME\", values = \"LISTING_COUNT\")"
   ]
  },
  {
   "cell_type": "code",
   "execution_count": 6,
   "id": "union-huntington",
   "metadata": {
    "execution": {
     "iopub.execute_input": "2021-09-20T09:30:09.630711Z",
     "iopub.status.busy": "2021-09-20T09:30:09.628284Z",
     "iopub.status.idle": "2021-09-20T09:30:09.634053Z",
     "shell.execute_reply": "2021-09-20T09:30:09.635460Z"
    },
    "papermill": {
     "duration": 0.04241,
     "end_time": "2021-09-20T09:30:09.635901",
     "exception": false,
     "start_time": "2021-09-20T09:30:09.593491",
     "status": "completed"
    },
    "tags": []
   },
   "outputs": [],
   "source": [
    "df_pivot.columns = [\"stamp_1\", \"stamp_2\"]\n",
    "df_pivot_diff = df_pivot.diff(axis=1)"
   ]
  },
  {
   "cell_type": "code",
   "execution_count": 7,
   "id": "fifth-motion",
   "metadata": {
    "execution": {
     "iopub.execute_input": "2021-09-20T09:30:09.690191Z",
     "iopub.status.busy": "2021-09-20T09:30:09.687762Z",
     "iopub.status.idle": "2021-09-20T09:30:11.192094Z",
     "shell.execute_reply": "2021-09-20T09:30:11.193374Z"
    },
    "papermill": {
     "duration": 1.537127,
     "end_time": "2021-09-20T09:30:11.193793",
     "exception": false,
     "start_time": "2021-09-20T09:30:09.656666",
     "status": "completed"
    },
    "tags": []
   },
   "outputs": [
    {
     "data": {
      "text/plain": [
       "<AxesSubplot:ylabel='PRODUCT'>"
      ]
     },
     "execution_count": 7,
     "metadata": {},
     "output_type": "execute_result"
    },
    {
     "data": {
      "image/png": "[encoded data removed]",
      "text/plain": [
       "<Figure size 432x288 with 1 Axes>"
      ]
     },
     "metadata": {
      "needs_background": "light"
     },
     "output_type": "display_data"
    }
   ],
   "source": [
    "df_pivot_diff.sort_values(\"stamp_2\", ascending = False)[\"stamp_2\"].head(10).plot.barh()"
   ]
  },
  {
   "cell_type": "code",
   "execution_count": null,
   "id": "extra-executive",
   "metadata": {
    "papermill": {
     "duration": 0.022248,
     "end_time": "2021-09-20T09:30:11.240801",
     "exception": false,
     "start_time": "2021-09-20T09:30:11.218553",
     "status": "completed"
    },
    "tags": []
   },
   "outputs": [],
   "source": []
  }
 ],
 "metadata": {
  "kernelspec": {
   "display_name": "Python 3",
   "language": "python",
   "name": "python3"
  },
  "language_info": {
   "codemirror_mode": {
    "name": "ipython",
    "version": 3
   },
   "file_extension": ".py",
   "mimetype": "text/x-python",
   "name": "python",
   "nbconvert_exporter": "python",
   "pygments_lexer": "ipython3",
   "version": "3.9.5"
  },
  "papermill": {
   "default_parameters": {},
   "duration": 6.690956,
   "end_time": "2021-09-20T09:30:11.882130",
   "environment_variables": {},
   "exception": null,
   "input_path": "eBay_Overview.ipynb",
   "output_path": "eBay_Overview.ipynb",
   "parameters": {},
   "start_time": "2021-09-20T09:30:05.191174",
   "version": "2.3.3"
  }
 },
 "nbformat": 4,
 "nbformat_minor": 5
}