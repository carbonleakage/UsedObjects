{
 "cells": [
  {
   "cell_type": "code",
   "execution_count": 1,
   "id": "reverse-picking",
   "metadata": {
    "execution": {
     "iopub.execute_input": "2021-09-25T05:00:07.199188Z",
     "iopub.status.busy": "2021-09-25T05:00:07.197172Z",
     "iopub.status.idle": "2021-09-25T05:00:08.001661Z",
     "shell.execute_reply": "2021-09-25T05:00:08.002974Z"
    },
    "papermill": {
     "duration": 0.855318,
     "end_time": "2021-09-25T05:00:08.003616",
     "exception": false,
     "start_time": "2021-09-25T05:00:07.148298",
     "status": "completed"
    },
    "tags": []
   },
   "outputs": [],
   "source": [
    "import pandas as pd\n",
    "import sqlite3"
   ]
  },
  {
   "cell_type": "code",
   "execution_count": 2,
   "id": "innovative-syndrome",
   "metadata": {
    "execution": {
     "iopub.execute_input": "2021-09-25T05:00:08.054591Z",
     "iopub.status.busy": "2021-09-25T05:00:08.052751Z",
     "iopub.status.idle": "2021-09-25T05:00:08.426595Z",
     "shell.execute_reply": "2021-09-25T05:00:08.428730Z"
    },
    "papermill": {
     "duration": 0.40442,
     "end_time": "2021-09-25T05:00:08.429181",
     "exception": false,
     "start_time": "2021-09-25T05:00:08.024761",
     "status": "completed"
    },
    "tags": []
   },
   "outputs": [],
   "source": [
    "timestamps = pd.read_sql(\"select distinct record_time from EBAY_TOP_BERLIN order by record_time desc limit 2\", sqlite3.connect(\"UsedObjects.db\"))"
   ]
  },
  {
   "cell_type": "code",
   "execution_count": 3,
   "id": "periodic-identification",
   "metadata": {
    "execution": {
     "iopub.execute_input": "2021-09-25T05:00:08.495861Z",
     "iopub.status.busy": "2021-09-25T05:00:08.493771Z",
     "iopub.status.idle": "2021-09-25T05:00:08.513768Z",
     "shell.execute_reply": "2021-09-25T05:00:08.515018Z"
    },
    "papermill": {
     "duration": 0.066836,
     "end_time": "2021-09-25T05:00:08.515462",
     "exception": false,
     "start_time": "2021-09-25T05:00:08.448626",
     "status": "completed"
    },
    "tags": []
   },
   "outputs": [
    {
     "data": {
      "text/html": [
       "<div>\n",
       "<style scoped>\n",
       "    .dataframe tbody tr th:only-of-type {\n",
       "        vertical-align: middle;\n",
       "    }\n",
       "\n",
       "    .dataframe tbody tr th {\n",
       "        vertical-align: top;\n",
       "    }\n",
       "\n",
       "    .dataframe thead th {\n",
       "        text-align: right;\n",
       "    }\n",
       "</style>\n",
       "<table border=\"1\" class=\"dataframe\">\n",
       "  <thead>\n",
       "    <tr style=\"text-align: right;\">\n",
       "      <th></th>\n",
       "      <th>RECORD_TIME</th>\n",
       "    </tr>\n",
       "  </thead>\n",
       "  <tbody>\n",
       "    <tr>\n",
       "      <th>0</th>\n",
       "      <td>2021-09-25 07:00</td>\n",
       "    </tr>\n",
       "    <tr>\n",
       "      <th>1</th>\n",
       "      <td>2021-09-25 06:30</td>\n",
       "    </tr>\n",
       "  </tbody>\n",
       "</table>\n",
       "</div>"
      ],
      "text/plain": [
       "        RECORD_TIME\n",
       "0  2021-09-25 07:00\n",
       "1  2021-09-25 06:30"
      ]
     },
     "execution_count": 3,
     "metadata": {},
     "output_type": "execute_result"
    }
   ],
   "source": [
    "timestamps"
   ]
  },
  {
   "cell_type": "code",
   "execution_count": 4,
   "id": "alternate-victory",
   "metadata": {
    "execution": {
     "iopub.execute_input": "2021-09-25T05:00:08.568733Z",
     "iopub.status.busy": "2021-09-25T05:00:08.566500Z",
     "iopub.status.idle": "2021-09-25T05:00:09.113104Z",
     "shell.execute_reply": "2021-09-25T05:00:09.114311Z"
    },
    "papermill": {
     "duration": 0.576995,
     "end_time": "2021-09-25T05:00:09.114707",
     "exception": false,
     "start_time": "2021-09-25T05:00:08.537712",
     "status": "completed"
    },
    "tags": []
   },
   "outputs": [],
   "source": [
    "df = pd.read_sql(\"select * from EBAY_TOP_BERLIN where record_time in (select distinct record_time from EBAY_TOP_BERLIN order by record_time desc limit 2)\", sqlite3.connect(\"UsedObjects.db\"))"
   ]
  },
  {
   "cell_type": "code",
   "execution_count": 5,
   "id": "popular-active",
   "metadata": {
    "execution": {
     "iopub.execute_input": "2021-09-25T05:00:09.198459Z",
     "iopub.status.busy": "2021-09-25T05:00:09.186922Z",
     "iopub.status.idle": "2021-09-25T05:00:09.214206Z",
     "shell.execute_reply": "2021-09-25T05:00:09.215503Z"
    },
    "papermill": {
     "duration": 0.072892,
     "end_time": "2021-09-25T05:00:09.215906",
     "exception": false,
     "start_time": "2021-09-25T05:00:09.143014",
     "status": "completed"
    },
    "tags": []
   },
   "outputs": [],
   "source": [
    "df_pivot = df.pivot_table(index=\"PRODUCT\", columns = \"RECORD_TIME\", values = \"LISTING_COUNT\")"
   ]
  },
  {
   "cell_type": "code",
   "execution_count": 6,
   "id": "union-huntington",
   "metadata": {
    "execution": {
     "iopub.execute_input": "2021-09-25T05:00:09.272824Z",
     "iopub.status.busy": "2021-09-25T05:00:09.270641Z",
     "iopub.status.idle": "2021-09-25T05:00:09.276265Z",
     "shell.execute_reply": "2021-09-25T05:00:09.277620Z"
    },
    "papermill": {
     "duration": 0.041302,
     "end_time": "2021-09-25T05:00:09.278057",
     "exception": false,
     "start_time": "2021-09-25T05:00:09.236755",
     "status": "completed"
    },
    "tags": []
   },
   "outputs": [],
   "source": [
    "df_pivot.columns = [\"stamp_1\", \"stamp_2\"]\n",
    "df_pivot_diff = df_pivot.diff(axis=1)"
   ]
  },
  {
   "cell_type": "code",
   "execution_count": 7,
   "id": "fifth-motion",
   "metadata": {
    "execution": {
     "iopub.execute_input": "2021-09-25T05:00:09.336029Z",
     "iopub.status.busy": "2021-09-25T05:00:09.333328Z",
     "iopub.status.idle": "2021-09-25T05:00:10.826102Z",
     "shell.execute_reply": "2021-09-25T05:00:10.827537Z"
    },
    "papermill": {
     "duration": 1.526793,
     "end_time": "2021-09-25T05:00:10.827984",
     "exception": false,
     "start_time": "2021-09-25T05:00:09.301191",
     "status": "completed"
    },
    "tags": []
   },
   "outputs": [
    {
     "data": {
      "text/plain": [
       "<AxesSubplot:ylabel='PRODUCT'>"
      ]
     },
     "execution_count": 7,
     "metadata": {},
     "output_type": "execute_result"
    },
    {
     "data": {
      "image/png": "[encoded data removed]",
      "text/plain": [
       "<Figure size 432x288 with 1 Axes>"
      ]
     },
     "metadata": {
      "needs_background": "light"
     },
     "output_type": "display_data"
    }
   ],
   "source": [
    "df_pivot_diff.sort_values(\"stamp_2\", ascending = False)[\"stamp_2\"].head(10).plot.barh()"
   ]
  },
  {
   "cell_type": "code",
   "execution_count": null,
   "id": "extra-executive",
   "metadata": {
    "papermill": {
     "duration": 0.022486,
     "end_time": "2021-09-25T05:00:10.875452",
     "exception": false,
     "start_time": "2021-09-25T05:00:10.852966",
     "status": "completed"
    },
    "tags": []
   },
   "outputs": [],
   "source": []
  }
 ],
 "metadata": {
  "kernelspec": {
   "display_name": "Python 3",
   "language": "python",
   "name": "python3"
  },
  "language_info": {
   "codemirror_mode": {
    "name": "ipython",
    "version": 3
   },
   "file_extension": ".py",
   "mimetype": "text/x-python",
   "name": "python",
   "nbconvert_exporter": "python",
   "pygments_lexer": "ipython3",
   "version": "3.9.5"
  },
  "papermill": {
   "default_parameters": {},
   "duration": 6.773916,
   "end_time": "2021-09-25T05:00:11.518259",
   "environment_variables": {},
   "exception": null,
   "input_path": "eBay_Overview.ipynb",
   "output_path": "eBay_Overview.ipynb",
   "parameters": {},
   "start_time": "2021-09-25T05:00:04.744343",
   "version": "2.3.3"
  }
 },
 "nbformat": 4,
 "nbformat_minor": 5
}