{
 "cells": [
  {
   "cell_type": "code",
   "execution_count": 1,
   "id": "reverse-picking",
   "metadata": {
    "execution": {
     "iopub.execute_input": "2021-12-10T21:00:07.435439Z",
     "iopub.status.busy": "2021-12-10T21:00:07.433249Z",
     "iopub.status.idle": "2021-12-10T21:00:08.372796Z",
     "shell.execute_reply": "2021-12-10T21:00:08.374339Z"
    },
    "papermill": {
     "duration": 0.988277,
     "end_time": "2021-12-10T21:00:08.375082",
     "exception": false,
     "start_time": "2021-12-10T21:00:07.386805",
     "status": "completed"
    },
    "tags": []
   },
   "outputs": [],
   "source": [
    "import pandas as pd\n",
    "import sqlite3"
   ]
  },
  {
   "cell_type": "code",
   "execution_count": 2,
   "id": "innovative-syndrome",
   "metadata": {
    "execution": {
     "iopub.execute_input": "2021-12-10T21:00:08.452492Z",
     "iopub.status.busy": "2021-12-10T21:00:08.450239Z",
     "iopub.status.idle": "2021-12-10T21:00:09.506109Z",
     "shell.execute_reply": "2021-12-10T21:00:09.507511Z"
    },
    "papermill": {
     "duration": 1.090883,
     "end_time": "2021-12-10T21:00:09.507990",
     "exception": false,
     "start_time": "2021-12-10T21:00:08.417107",
     "status": "completed"
    },
    "tags": []
   },
   "outputs": [],
   "source": [
    "timestamps = pd.read_sql(\"select distinct record_time from EBAY_TOP_BERLIN order by record_time desc limit 2\", sqlite3.connect(\"UsedObjects.db\"))"
   ]
  },
  {
   "cell_type": "code",
   "execution_count": 3,
   "id": "periodic-identification",
   "metadata": {
    "execution": {
     "iopub.execute_input": "2021-12-10T21:00:09.576898Z",
     "iopub.status.busy": "2021-12-10T21:00:09.574706Z",
     "iopub.status.idle": "2021-12-10T21:00:09.598575Z",
     "shell.execute_reply": "2021-12-10T21:00:09.596577Z"
    },
    "papermill": {
     "duration": 0.070624,
     "end_time": "2021-12-10T21:00:09.598974",
     "exception": false,
     "start_time": "2021-12-10T21:00:09.528350",
     "status": "completed"
    },
    "tags": []
   },
   "outputs": [
    {
     "data": {
      "text/html": [
       "<div>\n",
       "<style scoped>\n",
       "    .dataframe tbody tr th:only-of-type {\n",
       "        vertical-align: middle;\n",
       "    }\n",
       "\n",
       "    .dataframe tbody tr th {\n",
       "        vertical-align: top;\n",
       "    }\n",
       "\n",
       "    .dataframe thead th {\n",
       "        text-align: right;\n",
       "    }\n",
       "</style>\n",
       "<table border=\"1\" class=\"dataframe\">\n",
       "  <thead>\n",
       "    <tr style=\"text-align: right;\">\n",
       "      <th></th>\n",
       "      <th>RECORD_TIME</th>\n",
       "    </tr>\n",
       "  </thead>\n",
       "  <tbody>\n",
       "    <tr>\n",
       "      <th>0</th>\n",
       "      <td>2021-12-10 22:00</td>\n",
       "    </tr>\n",
       "    <tr>\n",
       "      <th>1</th>\n",
       "      <td>2021-12-10 21:30</td>\n",
       "    </tr>\n",
       "  </tbody>\n",
       "</table>\n",
       "</div>"
      ],
      "text/plain": [
       "        RECORD_TIME\n",
       "0  2021-12-10 22:00\n",
       "1  2021-12-10 21:30"
      ]
     },
     "execution_count": 3,
     "metadata": {},
     "output_type": "execute_result"
    }
   ],
   "source": [
    "timestamps"
   ]
  },
  {
   "cell_type": "code",
   "execution_count": 4,
   "id": "alternate-victory",
   "metadata": {
    "execution": {
     "iopub.execute_input": "2021-12-10T21:00:09.653459Z",
     "iopub.status.busy": "2021-12-10T21:00:09.651352Z",
     "iopub.status.idle": "2021-12-10T21:00:11.173144Z",
     "shell.execute_reply": "2021-12-10T21:00:11.175854Z"
    },
    "papermill": {
     "duration": 1.557175,
     "end_time": "2021-12-10T21:00:11.176810",
     "exception": false,
     "start_time": "2021-12-10T21:00:09.619635",
     "status": "completed"
    },
    "tags": []
   },
   "outputs": [],
   "source": [
    "df = pd.read_sql(\"select * from EBAY_TOP_BERLIN where record_time in (select distinct record_time from EBAY_TOP_BERLIN order by record_time desc limit 2)\", sqlite3.connect(\"UsedObjects.db\"))"
   ]
  },
  {
   "cell_type": "code",
   "execution_count": 5,
   "id": "popular-active",
   "metadata": {
    "execution": {
     "iopub.execute_input": "2021-12-10T21:00:11.244901Z",
     "iopub.status.busy": "2021-12-10T21:00:11.242446Z",
     "iopub.status.idle": "2021-12-10T21:00:11.277354Z",
     "shell.execute_reply": "2021-12-10T21:00:11.278754Z"
    },
    "papermill": {
     "duration": 0.078028,
     "end_time": "2021-12-10T21:00:11.279193",
     "exception": false,
     "start_time": "2021-12-10T21:00:11.201165",
     "status": "completed"
    },
    "tags": []
   },
   "outputs": [],
   "source": [
    "df_pivot = df.pivot_table(index=\"PRODUCT\", columns = \"RECORD_TIME\", values = \"LISTING_COUNT\")"
   ]
  },
  {
   "cell_type": "code",
   "execution_count": 6,
   "id": "union-huntington",
   "metadata": {
    "execution": {
     "iopub.execute_input": "2021-12-10T21:00:11.338489Z",
     "iopub.status.busy": "2021-12-10T21:00:11.336236Z",
     "iopub.status.idle": "2021-12-10T21:00:11.341140Z",
     "shell.execute_reply": "2021-12-10T21:00:11.342800Z"
    },
    "papermill": {
     "duration": 0.043848,
     "end_time": "2021-12-10T21:00:11.343273",
     "exception": false,
     "start_time": "2021-12-10T21:00:11.299425",
     "status": "completed"
    },
    "tags": []
   },
   "outputs": [],
   "source": [
    "df_pivot.columns = [\"stamp_1\", \"stamp_2\"]\n",
    "df_pivot_diff = df_pivot.diff(axis=1)"
   ]
  },
  {
   "cell_type": "code",
   "execution_count": 7,
   "id": "fifth-motion",
   "metadata": {
    "execution": {
     "iopub.execute_input": "2021-12-10T21:00:11.403712Z",
     "iopub.status.busy": "2021-12-10T21:00:11.399727Z",
     "iopub.status.idle": "2021-12-10T21:00:13.251178Z",
     "shell.execute_reply": "2021-12-10T21:00:13.248596Z"
    },
    "papermill": {
     "duration": 1.887102,
     "end_time": "2021-12-10T21:00:13.251725",
     "exception": false,
     "start_time": "2021-12-10T21:00:11.364623",
     "status": "completed"
    },
    "tags": []
   },
   "outputs": [
    {
     "data": {
      "text/plain": [
       "<AxesSubplot:ylabel='PRODUCT'>"
      ]
     },
     "execution_count": 7,
     "metadata": {},
     "output_type": "execute_result"
    },
    {
     "data": {
      "image/png": "[encoded data removed]",
      "text/plain": [
       "<Figure size 432x288 with 1 Axes>"
      ]
     },
     "metadata": {
      "needs_background": "light"
     },
     "output_type": "display_data"
    }
   ],
   "source": [
    "df_pivot_diff.sort_values(\"stamp_2\", ascending = False)[\"stamp_2\"].head(10).plot.barh()"
   ]
  },
  {
   "cell_type": "code",
   "execution_count": null,
   "id": "extra-executive",
   "metadata": {
    "papermill": {
     "duration": 0.02454,
     "end_time": "2021-12-10T21:00:13.305801",
     "exception": false,
     "start_time": "2021-12-10T21:00:13.281261",
     "status": "completed"
    },
    "tags": []
   },
   "outputs": [],
   "source": []
  }
 ],
 "metadata": {
  "kernelspec": {
   "display_name": "Python 3",
   "language": "python",
   "name": "python3"
  },
  "language_info": {
   "codemirror_mode": {
    "name": "ipython",
    "version": 3
   },
   "file_extension": ".py",
   "mimetype": "text/x-python",
   "name": "python",
   "nbconvert_exporter": "python",
   "pygments_lexer": "ipython3",
   "version": "3.9.5"
  },
  "papermill": {
   "default_parameters": {},
   "duration": 10.008917,
   "end_time": "2021-12-10T21:00:14.598587",
   "environment_variables": {},
   "exception": null,
   "input_path": "eBay_Overview.ipynb",
   "output_path": "eBay_Overview.ipynb",
   "parameters": {},
   "start_time": "2021-12-10T21:00:04.589670",
   "version": "2.3.3"
  }
 },
 "nbformat": 4,
 "nbformat_minor": 5
}