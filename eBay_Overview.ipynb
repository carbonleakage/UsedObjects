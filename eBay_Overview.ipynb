{
 "cells": [
  {
   "cell_type": "code",
   "execution_count": 1,
   "id": "reverse-picking",
   "metadata": {
    "execution": {
     "iopub.execute_input": "2021-10-25T07:30:07.231079Z",
     "iopub.status.busy": "2021-10-25T07:30:07.229172Z",
     "iopub.status.idle": "2021-10-25T07:30:08.037821Z",
     "shell.execute_reply": "2021-10-25T07:30:08.039106Z"
    },
    "papermill": {
     "duration": 0.861007,
     "end_time": "2021-10-25T07:30:08.039725",
     "exception": false,
     "start_time": "2021-10-25T07:30:07.178718",
     "status": "completed"
    },
    "tags": []
   },
   "outputs": [],
   "source": [
    "import pandas as pd\n",
    "import sqlite3"
   ]
  },
  {
   "cell_type": "code",
   "execution_count": 2,
   "id": "innovative-syndrome",
   "metadata": {
    "execution": {
     "iopub.execute_input": "2021-10-25T07:30:08.089688Z",
     "iopub.status.busy": "2021-10-25T07:30:08.087690Z",
     "iopub.status.idle": "2021-10-25T07:30:08.737490Z",
     "shell.execute_reply": "2021-10-25T07:30:08.738916Z"
    },
    "papermill": {
     "duration": 0.679594,
     "end_time": "2021-10-25T07:30:08.739361",
     "exception": false,
     "start_time": "2021-10-25T07:30:08.059767",
     "status": "completed"
    },
    "tags": []
   },
   "outputs": [],
   "source": [
    "timestamps = pd.read_sql(\"select distinct record_time from EBAY_TOP_BERLIN order by record_time desc limit 2\", sqlite3.connect(\"UsedObjects.db\"))"
   ]
  },
  {
   "cell_type": "code",
   "execution_count": 3,
   "id": "periodic-identification",
   "metadata": {
    "execution": {
     "iopub.execute_input": "2021-10-25T07:30:08.813172Z",
     "iopub.status.busy": "2021-10-25T07:30:08.811056Z",
     "iopub.status.idle": "2021-10-25T07:30:08.837436Z",
     "shell.execute_reply": "2021-10-25T07:30:08.835780Z"
    },
    "papermill": {
     "duration": 0.072706,
     "end_time": "2021-10-25T07:30:08.837849",
     "exception": false,
     "start_time": "2021-10-25T07:30:08.765143",
     "status": "completed"
    },
    "tags": []
   },
   "outputs": [
    {
     "data": {
      "text/html": [
       "<div>\n",
       "<style scoped>\n",
       "    .dataframe tbody tr th:only-of-type {\n",
       "        vertical-align: middle;\n",
       "    }\n",
       "\n",
       "    .dataframe tbody tr th {\n",
       "        vertical-align: top;\n",
       "    }\n",
       "\n",
       "    .dataframe thead th {\n",
       "        text-align: right;\n",
       "    }\n",
       "</style>\n",
       "<table border=\"1\" class=\"dataframe\">\n",
       "  <thead>\n",
       "    <tr style=\"text-align: right;\">\n",
       "      <th></th>\n",
       "      <th>RECORD_TIME</th>\n",
       "    </tr>\n",
       "  </thead>\n",
       "  <tbody>\n",
       "    <tr>\n",
       "      <th>0</th>\n",
       "      <td>2021-10-25 09:30</td>\n",
       "    </tr>\n",
       "    <tr>\n",
       "      <th>1</th>\n",
       "      <td>2021-10-25 09:00</td>\n",
       "    </tr>\n",
       "  </tbody>\n",
       "</table>\n",
       "</div>"
      ],
      "text/plain": [
       "        RECORD_TIME\n",
       "0  2021-10-25 09:30\n",
       "1  2021-10-25 09:00"
      ]
     },
     "execution_count": 3,
     "metadata": {},
     "output_type": "execute_result"
    }
   ],
   "source": [
    "timestamps"
   ]
  },
  {
   "cell_type": "code",
   "execution_count": 4,
   "id": "alternate-victory",
   "metadata": {
    "execution": {
     "iopub.execute_input": "2021-10-25T07:30:08.891502Z",
     "iopub.status.busy": "2021-10-25T07:30:08.889213Z",
     "iopub.status.idle": "2021-10-25T07:30:09.843862Z",
     "shell.execute_reply": "2021-10-25T07:30:09.845110Z"
    },
    "papermill": {
     "duration": 0.985122,
     "end_time": "2021-10-25T07:30:09.845517",
     "exception": false,
     "start_time": "2021-10-25T07:30:08.860395",
     "status": "completed"
    },
    "tags": []
   },
   "outputs": [],
   "source": [
    "df = pd.read_sql(\"select * from EBAY_TOP_BERLIN where record_time in (select distinct record_time from EBAY_TOP_BERLIN order by record_time desc limit 2)\", sqlite3.connect(\"UsedObjects.db\"))"
   ]
  },
  {
   "cell_type": "code",
   "execution_count": 5,
   "id": "popular-active",
   "metadata": {
    "execution": {
     "iopub.execute_input": "2021-10-25T07:30:09.919123Z",
     "iopub.status.busy": "2021-10-25T07:30:09.906704Z",
     "iopub.status.idle": "2021-10-25T07:30:09.934635Z",
     "shell.execute_reply": "2021-10-25T07:30:09.935830Z"
    },
    "papermill": {
     "duration": 0.067865,
     "end_time": "2021-10-25T07:30:09.936222",
     "exception": false,
     "start_time": "2021-10-25T07:30:09.868357",
     "status": "completed"
    },
    "tags": []
   },
   "outputs": [],
   "source": [
    "df_pivot = df.pivot_table(index=\"PRODUCT\", columns = \"RECORD_TIME\", values = \"LISTING_COUNT\")"
   ]
  },
  {
   "cell_type": "code",
   "execution_count": 6,
   "id": "union-huntington",
   "metadata": {
    "execution": {
     "iopub.execute_input": "2021-10-25T07:30:09.991769Z",
     "iopub.status.busy": "2021-10-25T07:30:09.989712Z",
     "iopub.status.idle": "2021-10-25T07:30:09.996358Z",
     "shell.execute_reply": "2021-10-25T07:30:09.994993Z"
    },
    "papermill": {
     "duration": 0.040403,
     "end_time": "2021-10-25T07:30:09.996763",
     "exception": false,
     "start_time": "2021-10-25T07:30:09.956360",
     "status": "completed"
    },
    "tags": []
   },
   "outputs": [],
   "source": [
    "df_pivot.columns = [\"stamp_1\", \"stamp_2\"]\n",
    "df_pivot_diff = df_pivot.diff(axis=1)"
   ]
  },
  {
   "cell_type": "code",
   "execution_count": 7,
   "id": "fifth-motion",
   "metadata": {
    "execution": {
     "iopub.execute_input": "2021-10-25T07:30:10.051986Z",
     "iopub.status.busy": "2021-10-25T07:30:10.049579Z",
     "iopub.status.idle": "2021-10-25T07:30:11.547631Z",
     "shell.execute_reply": "2021-10-25T07:30:11.548860Z"
    },
    "papermill": {
     "duration": 1.531099,
     "end_time": "2021-10-25T07:30:11.549300",
     "exception": false,
     "start_time": "2021-10-25T07:30:10.018201",
     "status": "completed"
    },
    "tags": []
   },
   "outputs": [
    {
     "data": {
      "text/plain": [
       "<AxesSubplot:ylabel='PRODUCT'>"
      ]
     },
     "execution_count": 7,
     "metadata": {},
     "output_type": "execute_result"
    },
    {
     "data": {
      "image/png": "[encoded data removed]",
      "text/plain": [
       "<Figure size 432x288 with 1 Axes>"
      ]
     },
     "metadata": {
      "needs_background": "light"
     },
     "output_type": "display_data"
    }
   ],
   "source": [
    "df_pivot_diff.sort_values(\"stamp_2\", ascending = False)[\"stamp_2\"].head(10).plot.barh()"
   ]
  },
  {
   "cell_type": "code",
   "execution_count": null,
   "id": "extra-executive",
   "metadata": {
    "papermill": {
     "duration": 0.022531,
     "end_time": "2021-10-25T07:30:11.595751",
     "exception": false,
     "start_time": "2021-10-25T07:30:11.573220",
     "status": "completed"
    },
    "tags": []
   },
   "outputs": [],
   "source": []
  }
 ],
 "metadata": {
  "kernelspec": {
   "display_name": "Python 3",
   "language": "python",
   "name": "python3"
  },
  "language_info": {
   "codemirror_mode": {
    "name": "ipython",
    "version": 3
   },
   "file_extension": ".py",
   "mimetype": "text/x-python",
   "name": "python",
   "nbconvert_exporter": "python",
   "pygments_lexer": "ipython3",
   "version": "3.9.5"
  },
  "papermill": {
   "default_parameters": {},
   "duration": 7.47132,
   "end_time": "2021-10-25T07:30:12.236786",
   "environment_variables": {},
   "exception": null,
   "input_path": "eBay_Overview.ipynb",
   "output_path": "eBay_Overview.ipynb",
   "parameters": {},
   "start_time": "2021-10-25T07:30:04.765466",
   "version": "2.3.3"
  }
 },
 "nbformat": 4,
 "nbformat_minor": 5
}