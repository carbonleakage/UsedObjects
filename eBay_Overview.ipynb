{
 "cells": [
  {
   "cell_type": "code",
   "execution_count": 1,
   "id": "reverse-picking",
   "metadata": {
    "execution": {
     "iopub.execute_input": "2021-10-15T03:30:07.089317Z",
     "iopub.status.busy": "2021-10-15T03:30:07.087303Z",
     "iopub.status.idle": "2021-10-15T03:30:07.893326Z",
     "shell.execute_reply": "2021-10-15T03:30:07.894658Z"
    },
    "papermill": {
     "duration": 0.858514,
     "end_time": "2021-10-15T03:30:07.895282",
     "exception": false,
     "start_time": "2021-10-15T03:30:07.036768",
     "status": "completed"
    },
    "tags": []
   },
   "outputs": [],
   "source": [
    "import pandas as pd\n",
    "import sqlite3"
   ]
  },
  {
   "cell_type": "code",
   "execution_count": 2,
   "id": "innovative-syndrome",
   "metadata": {
    "execution": {
     "iopub.execute_input": "2021-10-15T03:30:07.945564Z",
     "iopub.status.busy": "2021-10-15T03:30:07.943603Z",
     "iopub.status.idle": "2021-10-15T03:30:08.499146Z",
     "shell.execute_reply": "2021-10-15T03:30:08.500331Z"
    },
    "papermill": {
     "duration": 0.585252,
     "end_time": "2021-10-15T03:30:08.500811",
     "exception": false,
     "start_time": "2021-10-15T03:30:07.915559",
     "status": "completed"
    },
    "tags": []
   },
   "outputs": [],
   "source": [
    "timestamps = pd.read_sql(\"select distinct record_time from EBAY_TOP_BERLIN order by record_time desc limit 2\", sqlite3.connect(\"UsedObjects.db\"))"
   ]
  },
  {
   "cell_type": "code",
   "execution_count": 3,
   "id": "periodic-identification",
   "metadata": {
    "execution": {
     "iopub.execute_input": "2021-10-15T03:30:08.578437Z",
     "iopub.status.busy": "2021-10-15T03:30:08.576297Z",
     "iopub.status.idle": "2021-10-15T03:30:08.596571Z",
     "shell.execute_reply": "2021-10-15T03:30:08.597958Z"
    },
    "papermill": {
     "duration": 0.071493,
     "end_time": "2021-10-15T03:30:08.598374",
     "exception": false,
     "start_time": "2021-10-15T03:30:08.526881",
     "status": "completed"
    },
    "tags": []
   },
   "outputs": [
    {
     "data": {
      "text/html": [
       "<div>\n",
       "<style scoped>\n",
       "    .dataframe tbody tr th:only-of-type {\n",
       "        vertical-align: middle;\n",
       "    }\n",
       "\n",
       "    .dataframe tbody tr th {\n",
       "        vertical-align: top;\n",
       "    }\n",
       "\n",
       "    .dataframe thead th {\n",
       "        text-align: right;\n",
       "    }\n",
       "</style>\n",
       "<table border=\"1\" class=\"dataframe\">\n",
       "  <thead>\n",
       "    <tr style=\"text-align: right;\">\n",
       "      <th></th>\n",
       "      <th>RECORD_TIME</th>\n",
       "    </tr>\n",
       "  </thead>\n",
       "  <tbody>\n",
       "    <tr>\n",
       "      <th>0</th>\n",
       "      <td>2021-10-15 05:30</td>\n",
       "    </tr>\n",
       "    <tr>\n",
       "      <th>1</th>\n",
       "      <td>2021-10-15 05:00</td>\n",
       "    </tr>\n",
       "  </tbody>\n",
       "</table>\n",
       "</div>"
      ],
      "text/plain": [
       "        RECORD_TIME\n",
       "0  2021-10-15 05:30\n",
       "1  2021-10-15 05:00"
      ]
     },
     "execution_count": 3,
     "metadata": {},
     "output_type": "execute_result"
    }
   ],
   "source": [
    "timestamps"
   ]
  },
  {
   "cell_type": "code",
   "execution_count": 4,
   "id": "alternate-victory",
   "metadata": {
    "execution": {
     "iopub.execute_input": "2021-10-15T03:30:08.650130Z",
     "iopub.status.busy": "2021-10-15T03:30:08.648051Z",
     "iopub.status.idle": "2021-10-15T03:30:09.447760Z",
     "shell.execute_reply": "2021-10-15T03:30:09.449040Z"
    },
    "papermill": {
     "duration": 0.829946,
     "end_time": "2021-10-15T03:30:09.449503",
     "exception": false,
     "start_time": "2021-10-15T03:30:08.619557",
     "status": "completed"
    },
    "tags": []
   },
   "outputs": [],
   "source": [
    "df = pd.read_sql(\"select * from EBAY_TOP_BERLIN where record_time in (select distinct record_time from EBAY_TOP_BERLIN order by record_time desc limit 2)\", sqlite3.connect(\"UsedObjects.db\"))"
   ]
  },
  {
   "cell_type": "code",
   "execution_count": 5,
   "id": "popular-active",
   "metadata": {
    "execution": {
     "iopub.execute_input": "2021-10-15T03:30:09.524835Z",
     "iopub.status.busy": "2021-10-15T03:30:09.512107Z",
     "iopub.status.idle": "2021-10-15T03:30:09.540439Z",
     "shell.execute_reply": "2021-10-15T03:30:09.541733Z"
    },
    "papermill": {
     "duration": 0.068762,
     "end_time": "2021-10-15T03:30:09.542132",
     "exception": false,
     "start_time": "2021-10-15T03:30:09.473370",
     "status": "completed"
    },
    "tags": []
   },
   "outputs": [],
   "source": [
    "df_pivot = df.pivot_table(index=\"PRODUCT\", columns = \"RECORD_TIME\", values = \"LISTING_COUNT\")"
   ]
  },
  {
   "cell_type": "code",
   "execution_count": 6,
   "id": "union-huntington",
   "metadata": {
    "execution": {
     "iopub.execute_input": "2021-10-15T03:30:09.600006Z",
     "iopub.status.busy": "2021-10-15T03:30:09.597726Z",
     "iopub.status.idle": "2021-10-15T03:30:09.603615Z",
     "shell.execute_reply": "2021-10-15T03:30:09.605037Z"
    },
    "papermill": {
     "duration": 0.041713,
     "end_time": "2021-10-15T03:30:09.605520",
     "exception": false,
     "start_time": "2021-10-15T03:30:09.563807",
     "status": "completed"
    },
    "tags": []
   },
   "outputs": [],
   "source": [
    "df_pivot.columns = [\"stamp_1\", \"stamp_2\"]\n",
    "df_pivot_diff = df_pivot.diff(axis=1)"
   ]
  },
  {
   "cell_type": "code",
   "execution_count": 7,
   "id": "fifth-motion",
   "metadata": {
    "execution": {
     "iopub.execute_input": "2021-10-15T03:30:09.660143Z",
     "iopub.status.busy": "2021-10-15T03:30:09.657909Z",
     "iopub.status.idle": "2021-10-15T03:30:11.148487Z",
     "shell.execute_reply": "2021-10-15T03:30:11.149740Z"
    },
    "papermill": {
     "duration": 1.523432,
     "end_time": "2021-10-15T03:30:11.150172",
     "exception": false,
     "start_time": "2021-10-15T03:30:09.626740",
     "status": "completed"
    },
    "tags": []
   },
   "outputs": [
    {
     "data": {
      "text/plain": [
       "<AxesSubplot:ylabel='PRODUCT'>"
      ]
     },
     "execution_count": 7,
     "metadata": {},
     "output_type": "execute_result"
    },
    {
     "data": {
      "image/png": "[encoded data removed]",
      "text/plain": [
       "<Figure size 432x288 with 1 Axes>"
      ]
     },
     "metadata": {
      "needs_background": "light"
     },
     "output_type": "display_data"
    }
   ],
   "source": [
    "df_pivot_diff.sort_values(\"stamp_2\", ascending = False)[\"stamp_2\"].head(10).plot.barh()"
   ]
  },
  {
   "cell_type": "code",
   "execution_count": null,
   "id": "extra-executive",
   "metadata": {
    "papermill": {
     "duration": 0.022255,
     "end_time": "2021-10-15T03:30:11.198847",
     "exception": false,
     "start_time": "2021-10-15T03:30:11.176592",
     "status": "completed"
    },
    "tags": []
   },
   "outputs": [],
   "source": []
  }
 ],
 "metadata": {
  "kernelspec": {
   "display_name": "Python 3",
   "language": "python",
   "name": "python3"
  },
  "language_info": {
   "codemirror_mode": {
    "name": "ipython",
    "version": 3
   },
   "file_extension": ".py",
   "mimetype": "text/x-python",
   "name": "python",
   "nbconvert_exporter": "python",
   "pygments_lexer": "ipython3",
   "version": "3.9.5"
  },
  "papermill": {
   "default_parameters": {},
   "duration": 7.834124,
   "end_time": "2021-10-15T03:30:12.464450",
   "environment_variables": {},
   "exception": null,
   "input_path": "eBay_Overview.ipynb",
   "output_path": "eBay_Overview.ipynb",
   "parameters": {},
   "start_time": "2021-10-15T03:30:04.630326",
   "version": "2.3.3"
  }
 },
 "nbformat": 4,
 "nbformat_minor": 5
}