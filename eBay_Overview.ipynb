{
 "cells": [
  {
   "cell_type": "code",
   "execution_count": 1,
   "id": "reverse-picking",
   "metadata": {
    "execution": {
     "iopub.execute_input": "2021-10-31T04:00:06.730518Z",
     "iopub.status.busy": "2021-10-31T04:00:06.728498Z",
     "iopub.status.idle": "2021-10-31T04:00:07.535011Z",
     "shell.execute_reply": "2021-10-31T04:00:07.536256Z"
    },
    "papermill": {
     "duration": 0.858591,
     "end_time": "2021-10-31T04:00:07.536960",
     "exception": false,
     "start_time": "2021-10-31T04:00:06.678369",
     "status": "completed"
    },
    "tags": []
   },
   "outputs": [],
   "source": [
    "import pandas as pd\n",
    "import sqlite3"
   ]
  },
  {
   "cell_type": "code",
   "execution_count": 2,
   "id": "innovative-syndrome",
   "metadata": {
    "execution": {
     "iopub.execute_input": "2021-10-31T04:00:07.586702Z",
     "iopub.status.busy": "2021-10-31T04:00:07.584836Z",
     "iopub.status.idle": "2021-10-31T04:00:08.250979Z",
     "shell.execute_reply": "2021-10-31T04:00:08.252153Z"
    },
    "papermill": {
     "duration": 0.695457,
     "end_time": "2021-10-31T04:00:08.252590",
     "exception": false,
     "start_time": "2021-10-31T04:00:07.557133",
     "status": "completed"
    },
    "tags": []
   },
   "outputs": [],
   "source": [
    "timestamps = pd.read_sql(\"select distinct record_time from EBAY_TOP_BERLIN order by record_time desc limit 2\", sqlite3.connect(\"UsedObjects.db\"))"
   ]
  },
  {
   "cell_type": "code",
   "execution_count": 3,
   "id": "periodic-identification",
   "metadata": {
    "execution": {
     "iopub.execute_input": "2021-10-31T04:00:08.333374Z",
     "iopub.status.busy": "2021-10-31T04:00:08.331266Z",
     "iopub.status.idle": "2021-10-31T04:00:08.352555Z",
     "shell.execute_reply": "2021-10-31T04:00:08.354004Z"
    },
    "papermill": {
     "duration": 0.072606,
     "end_time": "2021-10-31T04:00:08.354454",
     "exception": false,
     "start_time": "2021-10-31T04:00:08.281848",
     "status": "completed"
    },
    "tags": []
   },
   "outputs": [
    {
     "data": {
      "text/html": [
       "<div>\n",
       "<style scoped>\n",
       "    .dataframe tbody tr th:only-of-type {\n",
       "        vertical-align: middle;\n",
       "    }\n",
       "\n",
       "    .dataframe tbody tr th {\n",
       "        vertical-align: top;\n",
       "    }\n",
       "\n",
       "    .dataframe thead th {\n",
       "        text-align: right;\n",
       "    }\n",
       "</style>\n",
       "<table border=\"1\" class=\"dataframe\">\n",
       "  <thead>\n",
       "    <tr style=\"text-align: right;\">\n",
       "      <th></th>\n",
       "      <th>RECORD_TIME</th>\n",
       "    </tr>\n",
       "  </thead>\n",
       "  <tbody>\n",
       "    <tr>\n",
       "      <th>0</th>\n",
       "      <td>2021-10-31 05:00</td>\n",
       "    </tr>\n",
       "    <tr>\n",
       "      <th>1</th>\n",
       "      <td>2021-10-31 04:30</td>\n",
       "    </tr>\n",
       "  </tbody>\n",
       "</table>\n",
       "</div>"
      ],
      "text/plain": [
       "        RECORD_TIME\n",
       "0  2021-10-31 05:00\n",
       "1  2021-10-31 04:30"
      ]
     },
     "execution_count": 3,
     "metadata": {},
     "output_type": "execute_result"
    }
   ],
   "source": [
    "timestamps"
   ]
  },
  {
   "cell_type": "code",
   "execution_count": 4,
   "id": "alternate-victory",
   "metadata": {
    "execution": {
     "iopub.execute_input": "2021-10-31T04:00:08.405309Z",
     "iopub.status.busy": "2021-10-31T04:00:08.403344Z",
     "iopub.status.idle": "2021-10-31T04:00:09.415452Z",
     "shell.execute_reply": "2021-10-31T04:00:09.416789Z"
    },
    "papermill": {
     "duration": 1.041932,
     "end_time": "2021-10-31T04:00:09.417235",
     "exception": false,
     "start_time": "2021-10-31T04:00:08.375303",
     "status": "completed"
    },
    "tags": []
   },
   "outputs": [],
   "source": [
    "df = pd.read_sql(\"select * from EBAY_TOP_BERLIN where record_time in (select distinct record_time from EBAY_TOP_BERLIN order by record_time desc limit 2)\", sqlite3.connect(\"UsedObjects.db\"))"
   ]
  },
  {
   "cell_type": "code",
   "execution_count": 5,
   "id": "popular-active",
   "metadata": {
    "execution": {
     "iopub.execute_input": "2021-10-31T04:00:09.487158Z",
     "iopub.status.busy": "2021-10-31T04:00:09.476058Z",
     "iopub.status.idle": "2021-10-31T04:00:09.504872Z",
     "shell.execute_reply": "2021-10-31T04:00:09.506268Z"
    },
    "papermill": {
     "duration": 0.068813,
     "end_time": "2021-10-31T04:00:09.506716",
     "exception": false,
     "start_time": "2021-10-31T04:00:09.437903",
     "status": "completed"
    },
    "tags": []
   },
   "outputs": [],
   "source": [
    "df_pivot = df.pivot_table(index=\"PRODUCT\", columns = \"RECORD_TIME\", values = \"LISTING_COUNT\")"
   ]
  },
  {
   "cell_type": "code",
   "execution_count": 6,
   "id": "union-huntington",
   "metadata": {
    "execution": {
     "iopub.execute_input": "2021-10-31T04:00:09.564300Z",
     "iopub.status.busy": "2021-10-31T04:00:09.561878Z",
     "iopub.status.idle": "2021-10-31T04:00:09.567616Z",
     "shell.execute_reply": "2021-10-31T04:00:09.568969Z"
    },
    "papermill": {
     "duration": 0.042154,
     "end_time": "2021-10-31T04:00:09.569402",
     "exception": false,
     "start_time": "2021-10-31T04:00:09.527248",
     "status": "completed"
    },
    "tags": []
   },
   "outputs": [],
   "source": [
    "df_pivot.columns = [\"stamp_1\", \"stamp_2\"]\n",
    "df_pivot_diff = df_pivot.diff(axis=1)"
   ]
  },
  {
   "cell_type": "code",
   "execution_count": 7,
   "id": "fifth-motion",
   "metadata": {
    "execution": {
     "iopub.execute_input": "2021-10-31T04:00:09.623642Z",
     "iopub.status.busy": "2021-10-31T04:00:09.621394Z",
     "iopub.status.idle": "2021-10-31T04:00:11.110927Z",
     "shell.execute_reply": "2021-10-31T04:00:11.112201Z"
    },
    "papermill": {
     "duration": 1.522672,
     "end_time": "2021-10-31T04:00:11.112626",
     "exception": false,
     "start_time": "2021-10-31T04:00:09.589954",
     "status": "completed"
    },
    "tags": []
   },
   "outputs": [
    {
     "data": {
      "text/plain": [
       "<AxesSubplot:ylabel='PRODUCT'>"
      ]
     },
     "execution_count": 7,
     "metadata": {},
     "output_type": "execute_result"
    },
    {
     "data": {
      "image/png": "[encoded data removed]",
      "text/plain": [
       "<Figure size 432x288 with 1 Axes>"
      ]
     },
     "metadata": {
      "needs_background": "light"
     },
     "output_type": "display_data"
    }
   ],
   "source": [
    "df_pivot_diff.sort_values(\"stamp_2\", ascending = False)[\"stamp_2\"].head(10).plot.barh()"
   ]
  },
  {
   "cell_type": "code",
   "execution_count": null,
   "id": "extra-executive",
   "metadata": {
    "papermill": {
     "duration": 0.022391,
     "end_time": "2021-10-31T04:00:11.161832",
     "exception": false,
     "start_time": "2021-10-31T04:00:11.139441",
     "status": "completed"
    },
    "tags": []
   },
   "outputs": [],
   "source": []
  }
 ],
 "metadata": {
  "kernelspec": {
   "display_name": "Python 3",
   "language": "python",
   "name": "python3"
  },
  "language_info": {
   "codemirror_mode": {
    "name": "ipython",
    "version": 3
   },
   "file_extension": ".py",
   "mimetype": "text/x-python",
   "name": "python",
   "nbconvert_exporter": "python",
   "pygments_lexer": "ipython3",
   "version": "3.9.5"
  },
  "papermill": {
   "default_parameters": {},
   "duration": 7.534185,
   "end_time": "2021-10-31T04:00:11.805208",
   "environment_variables": {},
   "exception": null,
   "input_path": "eBay_Overview.ipynb",
   "output_path": "eBay_Overview.ipynb",
   "parameters": {},
   "start_time": "2021-10-31T04:00:04.271023",
   "version": "2.3.3"
  }
 },
 "nbformat": 4,
 "nbformat_minor": 5
}