{
 "cells": [
  {
   "cell_type": "code",
   "execution_count": 1,
   "id": "reverse-picking",
   "metadata": {
    "execution": {
     "iopub.execute_input": "2021-12-13T09:30:07.282954Z",
     "iopub.status.busy": "2021-12-13T09:30:07.280396Z",
     "iopub.status.idle": "2021-12-13T09:30:08.237673Z",
     "shell.execute_reply": "2021-12-13T09:30:08.239264Z"
    },
    "papermill": {
     "duration": 1.007203,
     "end_time": "2021-12-13T09:30:08.240021",
     "exception": false,
     "start_time": "2021-12-13T09:30:07.232818",
     "status": "completed"
    },
    "tags": []
   },
   "outputs": [],
   "source": [
    "import pandas as pd\n",
    "import sqlite3"
   ]
  },
  {
   "cell_type": "code",
   "execution_count": 2,
   "id": "innovative-syndrome",
   "metadata": {
    "execution": {
     "iopub.execute_input": "2021-12-13T09:30:08.301733Z",
     "iopub.status.busy": "2021-12-13T09:30:08.299385Z",
     "iopub.status.idle": "2021-12-13T09:30:09.353245Z",
     "shell.execute_reply": "2021-12-13T09:30:09.354902Z"
    },
    "papermill": {
     "duration": 1.087962,
     "end_time": "2021-12-13T09:30:09.355381",
     "exception": false,
     "start_time": "2021-12-13T09:30:08.267419",
     "status": "completed"
    },
    "tags": []
   },
   "outputs": [],
   "source": [
    "timestamps = pd.read_sql(\"select distinct record_time from EBAY_TOP_BERLIN order by record_time desc limit 2\", sqlite3.connect(\"UsedObjects.db\"))"
   ]
  },
  {
   "cell_type": "code",
   "execution_count": 3,
   "id": "periodic-identification",
   "metadata": {
    "execution": {
     "iopub.execute_input": "2021-12-13T09:30:09.424126Z",
     "iopub.status.busy": "2021-12-13T09:30:09.421766Z",
     "iopub.status.idle": "2021-12-13T09:30:09.445278Z",
     "shell.execute_reply": "2021-12-13T09:30:09.443718Z"
    },
    "papermill": {
     "duration": 0.07096,
     "end_time": "2021-12-13T09:30:09.445681",
     "exception": false,
     "start_time": "2021-12-13T09:30:09.374721",
     "status": "completed"
    },
    "tags": []
   },
   "outputs": [
    {
     "data": {
      "text/html": [
       "<div>\n",
       "<style scoped>\n",
       "    .dataframe tbody tr th:only-of-type {\n",
       "        vertical-align: middle;\n",
       "    }\n",
       "\n",
       "    .dataframe tbody tr th {\n",
       "        vertical-align: top;\n",
       "    }\n",
       "\n",
       "    .dataframe thead th {\n",
       "        text-align: right;\n",
       "    }\n",
       "</style>\n",
       "<table border=\"1\" class=\"dataframe\">\n",
       "  <thead>\n",
       "    <tr style=\"text-align: right;\">\n",
       "      <th></th>\n",
       "      <th>RECORD_TIME</th>\n",
       "    </tr>\n",
       "  </thead>\n",
       "  <tbody>\n",
       "    <tr>\n",
       "      <th>0</th>\n",
       "      <td>2021-12-13 10:30</td>\n",
       "    </tr>\n",
       "    <tr>\n",
       "      <th>1</th>\n",
       "      <td>2021-12-13 10:00</td>\n",
       "    </tr>\n",
       "  </tbody>\n",
       "</table>\n",
       "</div>"
      ],
      "text/plain": [
       "        RECORD_TIME\n",
       "0  2021-12-13 10:30\n",
       "1  2021-12-13 10:00"
      ]
     },
     "execution_count": 3,
     "metadata": {},
     "output_type": "execute_result"
    }
   ],
   "source": [
    "timestamps"
   ]
  },
  {
   "cell_type": "code",
   "execution_count": 4,
   "id": "alternate-victory",
   "metadata": {
    "execution": {
     "iopub.execute_input": "2021-12-13T09:30:09.500257Z",
     "iopub.status.busy": "2021-12-13T09:30:09.498088Z",
     "iopub.status.idle": "2021-12-13T09:30:11.049646Z",
     "shell.execute_reply": "2021-12-13T09:30:11.051028Z"
    },
    "papermill": {
     "duration": 1.585201,
     "end_time": "2021-12-13T09:30:11.051518",
     "exception": false,
     "start_time": "2021-12-13T09:30:09.466317",
     "status": "completed"
    },
    "tags": []
   },
   "outputs": [],
   "source": [
    "df = pd.read_sql(\"select * from EBAY_TOP_BERLIN where record_time in (select distinct record_time from EBAY_TOP_BERLIN order by record_time desc limit 2)\", sqlite3.connect(\"UsedObjects.db\"))"
   ]
  },
  {
   "cell_type": "code",
   "execution_count": 5,
   "id": "popular-active",
   "metadata": {
    "execution": {
     "iopub.execute_input": "2021-12-13T09:30:11.120487Z",
     "iopub.status.busy": "2021-12-13T09:30:11.112419Z",
     "iopub.status.idle": "2021-12-13T09:30:11.144460Z",
     "shell.execute_reply": "2021-12-13T09:30:11.145994Z"
    },
    "papermill": {
     "duration": 0.074729,
     "end_time": "2021-12-13T09:30:11.146475",
     "exception": false,
     "start_time": "2021-12-13T09:30:11.071746",
     "status": "completed"
    },
    "tags": []
   },
   "outputs": [],
   "source": [
    "df_pivot = df.pivot_table(index=\"PRODUCT\", columns = \"RECORD_TIME\", values = \"LISTING_COUNT\")"
   ]
  },
  {
   "cell_type": "code",
   "execution_count": 6,
   "id": "union-huntington",
   "metadata": {
    "execution": {
     "iopub.execute_input": "2021-12-13T09:30:11.208547Z",
     "iopub.status.busy": "2021-12-13T09:30:11.206317Z",
     "iopub.status.idle": "2021-12-13T09:30:11.211898Z",
     "shell.execute_reply": "2021-12-13T09:30:11.213468Z"
    },
    "papermill": {
     "duration": 0.046664,
     "end_time": "2021-12-13T09:30:11.213967",
     "exception": false,
     "start_time": "2021-12-13T09:30:11.167303",
     "status": "completed"
    },
    "tags": []
   },
   "outputs": [],
   "source": [
    "df_pivot.columns = [\"stamp_1\", \"stamp_2\"]\n",
    "df_pivot_diff = df_pivot.diff(axis=1)"
   ]
  },
  {
   "cell_type": "code",
   "execution_count": 7,
   "id": "fifth-motion",
   "metadata": {
    "execution": {
     "iopub.execute_input": "2021-12-13T09:30:11.273122Z",
     "iopub.status.busy": "2021-12-13T09:30:11.270467Z",
     "iopub.status.idle": "2021-12-13T09:30:13.185238Z",
     "shell.execute_reply": "2021-12-13T09:30:13.186620Z"
    },
    "papermill": {
     "duration": 1.951944,
     "end_time": "2021-12-13T09:30:13.187094",
     "exception": false,
     "start_time": "2021-12-13T09:30:11.235150",
     "status": "completed"
    },
    "tags": []
   },
   "outputs": [
    {
     "data": {
      "text/plain": [
       "<AxesSubplot:ylabel='PRODUCT'>"
      ]
     },
     "execution_count": 7,
     "metadata": {},
     "output_type": "execute_result"
    },
    {
     "data": {
      "image/png": "[encoded data removed]",
      "text/plain": [
       "<Figure size 432x288 with 1 Axes>"
      ]
     },
     "metadata": {
      "needs_background": "light"
     },
     "output_type": "display_data"
    }
   ],
   "source": [
    "df_pivot_diff.sort_values(\"stamp_2\", ascending = False)[\"stamp_2\"].head(10).plot.barh()"
   ]
  },
  {
   "cell_type": "code",
   "execution_count": null,
   "id": "extra-executive",
   "metadata": {
    "papermill": {
     "duration": 0.022916,
     "end_time": "2021-12-13T09:30:13.233376",
     "exception": false,
     "start_time": "2021-12-13T09:30:13.210460",
     "status": "completed"
    },
    "tags": []
   },
   "outputs": [],
   "source": []
  }
 ],
 "metadata": {
  "kernelspec": {
   "display_name": "Python 3",
   "language": "python",
   "name": "python3"
  },
  "language_info": {
   "codemirror_mode": {
    "name": "ipython",
    "version": 3
   },
   "file_extension": ".py",
   "mimetype": "text/x-python",
   "name": "python",
   "nbconvert_exporter": "python",
   "pygments_lexer": "ipython3",
   "version": "3.9.5"
  },
  "papermill": {
   "default_parameters": {},
   "duration": 9.675054,
   "end_time": "2021-12-13T09:30:14.098646",
   "environment_variables": {},
   "exception": null,
   "input_path": "eBay_Overview.ipynb",
   "output_path": "eBay_Overview.ipynb",
   "parameters": {},
   "start_time": "2021-12-13T09:30:04.423592",
   "version": "2.3.3"
  }
 },
 "nbformat": 4,
 "nbformat_minor": 5
}