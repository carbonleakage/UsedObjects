{
 "cells": [
  {
   "cell_type": "code",
   "execution_count": 1,
   "id": "reverse-picking",
   "metadata": {
    "execution": {
     "iopub.execute_input": "2021-12-13T04:30:08.162349Z",
     "iopub.status.busy": "2021-12-13T04:30:08.160519Z",
     "iopub.status.idle": "2021-12-13T04:30:09.126135Z",
     "shell.execute_reply": "2021-12-13T04:30:09.127667Z"
    },
    "papermill": {
     "duration": 1.013604,
     "end_time": "2021-12-13T04:30:09.128468",
     "exception": false,
     "start_time": "2021-12-13T04:30:08.114864",
     "status": "completed"
    },
    "tags": []
   },
   "outputs": [],
   "source": [
    "import pandas as pd\n",
    "import sqlite3"
   ]
  },
  {
   "cell_type": "code",
   "execution_count": 2,
   "id": "innovative-syndrome",
   "metadata": {
    "execution": {
     "iopub.execute_input": "2021-12-13T04:30:09.193265Z",
     "iopub.status.busy": "2021-12-13T04:30:09.190828Z",
     "iopub.status.idle": "2021-12-13T04:30:10.261007Z",
     "shell.execute_reply": "2021-12-13T04:30:10.262610Z"
    },
    "papermill": {
     "duration": 1.104205,
     "end_time": "2021-12-13T04:30:10.263100",
     "exception": false,
     "start_time": "2021-12-13T04:30:09.158895",
     "status": "completed"
    },
    "tags": []
   },
   "outputs": [],
   "source": [
    "timestamps = pd.read_sql(\"select distinct record_time from EBAY_TOP_BERLIN order by record_time desc limit 2\", sqlite3.connect(\"UsedObjects.db\"))"
   ]
  },
  {
   "cell_type": "code",
   "execution_count": 3,
   "id": "periodic-identification",
   "metadata": {
    "execution": {
     "iopub.execute_input": "2021-12-13T04:30:10.341076Z",
     "iopub.status.busy": "2021-12-13T04:30:10.333984Z",
     "iopub.status.idle": "2021-12-13T04:30:10.360255Z",
     "shell.execute_reply": "2021-12-13T04:30:10.362029Z"
    },
    "papermill": {
     "duration": 0.078109,
     "end_time": "2021-12-13T04:30:10.362534",
     "exception": false,
     "start_time": "2021-12-13T04:30:10.284425",
     "status": "completed"
    },
    "tags": []
   },
   "outputs": [
    {
     "data": {
      "text/html": [
       "<div>\n",
       "<style scoped>\n",
       "    .dataframe tbody tr th:only-of-type {\n",
       "        vertical-align: middle;\n",
       "    }\n",
       "\n",
       "    .dataframe tbody tr th {\n",
       "        vertical-align: top;\n",
       "    }\n",
       "\n",
       "    .dataframe thead th {\n",
       "        text-align: right;\n",
       "    }\n",
       "</style>\n",
       "<table border=\"1\" class=\"dataframe\">\n",
       "  <thead>\n",
       "    <tr style=\"text-align: right;\">\n",
       "      <th></th>\n",
       "      <th>RECORD_TIME</th>\n",
       "    </tr>\n",
       "  </thead>\n",
       "  <tbody>\n",
       "    <tr>\n",
       "      <th>0</th>\n",
       "      <td>2021-12-13 05:30</td>\n",
       "    </tr>\n",
       "    <tr>\n",
       "      <th>1</th>\n",
       "      <td>2021-12-13 05:00</td>\n",
       "    </tr>\n",
       "  </tbody>\n",
       "</table>\n",
       "</div>"
      ],
      "text/plain": [
       "        RECORD_TIME\n",
       "0  2021-12-13 05:30\n",
       "1  2021-12-13 05:00"
      ]
     },
     "execution_count": 3,
     "metadata": {},
     "output_type": "execute_result"
    }
   ],
   "source": [
    "timestamps"
   ]
  },
  {
   "cell_type": "code",
   "execution_count": 4,
   "id": "alternate-victory",
   "metadata": {
    "execution": {
     "iopub.execute_input": "2021-12-13T04:30:10.420104Z",
     "iopub.status.busy": "2021-12-13T04:30:10.417868Z",
     "iopub.status.idle": "2021-12-13T04:30:11.927245Z",
     "shell.execute_reply": "2021-12-13T04:30:11.928527Z"
    },
    "papermill": {
     "duration": 1.544131,
     "end_time": "2021-12-13T04:30:11.929090",
     "exception": false,
     "start_time": "2021-12-13T04:30:10.384959",
     "status": "completed"
    },
    "tags": []
   },
   "outputs": [],
   "source": [
    "df = pd.read_sql(\"select * from EBAY_TOP_BERLIN where record_time in (select distinct record_time from EBAY_TOP_BERLIN order by record_time desc limit 2)\", sqlite3.connect(\"UsedObjects.db\"))"
   ]
  },
  {
   "cell_type": "code",
   "execution_count": 5,
   "id": "popular-active",
   "metadata": {
    "execution": {
     "iopub.execute_input": "2021-12-13T04:30:12.003159Z",
     "iopub.status.busy": "2021-12-13T04:30:11.992715Z",
     "iopub.status.idle": "2021-12-13T04:30:12.028516Z",
     "shell.execute_reply": "2021-12-13T04:30:12.030098Z"
    },
    "papermill": {
     "duration": 0.078002,
     "end_time": "2021-12-13T04:30:12.030605",
     "exception": false,
     "start_time": "2021-12-13T04:30:11.952603",
     "status": "completed"
    },
    "tags": []
   },
   "outputs": [],
   "source": [
    "df_pivot = df.pivot_table(index=\"PRODUCT\", columns = \"RECORD_TIME\", values = \"LISTING_COUNT\")"
   ]
  },
  {
   "cell_type": "code",
   "execution_count": 6,
   "id": "union-huntington",
   "metadata": {
    "execution": {
     "iopub.execute_input": "2021-12-13T04:30:12.094344Z",
     "iopub.status.busy": "2021-12-13T04:30:12.092071Z",
     "iopub.status.idle": "2021-12-13T04:30:12.097994Z",
     "shell.execute_reply": "2021-12-13T04:30:12.099293Z"
    },
    "papermill": {
     "duration": 0.043712,
     "end_time": "2021-12-13T04:30:12.099796",
     "exception": false,
     "start_time": "2021-12-13T04:30:12.056084",
     "status": "completed"
    },
    "tags": []
   },
   "outputs": [],
   "source": [
    "df_pivot.columns = [\"stamp_1\", \"stamp_2\"]\n",
    "df_pivot_diff = df_pivot.diff(axis=1)"
   ]
  },
  {
   "cell_type": "code",
   "execution_count": 7,
   "id": "fifth-motion",
   "metadata": {
    "execution": {
     "iopub.execute_input": "2021-12-13T04:30:12.165382Z",
     "iopub.status.busy": "2021-12-13T04:30:12.153308Z",
     "iopub.status.idle": "2021-12-13T04:30:14.096525Z",
     "shell.execute_reply": "2021-12-13T04:30:14.098844Z"
    },
    "papermill": {
     "duration": 1.979583,
     "end_time": "2021-12-13T04:30:14.099542",
     "exception": false,
     "start_time": "2021-12-13T04:30:12.119959",
     "status": "completed"
    },
    "tags": []
   },
   "outputs": [
    {
     "data": {
      "text/plain": [
       "<AxesSubplot:ylabel='PRODUCT'>"
      ]
     },
     "execution_count": 7,
     "metadata": {},
     "output_type": "execute_result"
    },
    {
     "data": {
      "image/png": "[encoded data removed]",
      "text/plain": [
       "<Figure size 432x288 with 1 Axes>"
      ]
     },
     "metadata": {
      "needs_background": "light"
     },
     "output_type": "display_data"
    }
   ],
   "source": [
    "df_pivot_diff.sort_values(\"stamp_2\", ascending = False)[\"stamp_2\"].head(10).plot.barh()"
   ]
  },
  {
   "cell_type": "code",
   "execution_count": null,
   "id": "extra-executive",
   "metadata": {
    "papermill": {
     "duration": 0.051063,
     "end_time": "2021-12-13T04:30:14.184899",
     "exception": false,
     "start_time": "2021-12-13T04:30:14.133836",
     "status": "completed"
    },
    "tags": []
   },
   "outputs": [],
   "source": []
  }
 ],
 "metadata": {
  "kernelspec": {
   "display_name": "Python 3",
   "language": "python",
   "name": "python3"
  },
  "language_info": {
   "codemirror_mode": {
    "name": "ipython",
    "version": 3
   },
   "file_extension": ".py",
   "mimetype": "text/x-python",
   "name": "python",
   "nbconvert_exporter": "python",
   "pygments_lexer": "ipython3",
   "version": "3.9.5"
  },
  "papermill": {
   "default_parameters": {},
   "duration": 9.670105,
   "end_time": "2021-12-13T04:30:14.948801",
   "environment_variables": {},
   "exception": null,
   "input_path": "eBay_Overview.ipynb",
   "output_path": "eBay_Overview.ipynb",
   "parameters": {},
   "start_time": "2021-12-13T04:30:05.278696",
   "version": "2.3.3"
  }
 },
 "nbformat": 4,
 "nbformat_minor": 5
}