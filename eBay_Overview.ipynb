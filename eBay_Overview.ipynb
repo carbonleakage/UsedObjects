{
 "cells": [
  {
   "cell_type": "code",
   "execution_count": 1,
   "id": "reverse-picking",
   "metadata": {
    "execution": {
     "iopub.execute_input": "2021-09-25T06:30:07.240140Z",
     "iopub.status.busy": "2021-09-25T06:30:07.238114Z",
     "iopub.status.idle": "2021-09-25T06:30:08.042716Z",
     "shell.execute_reply": "2021-09-25T06:30:08.044159Z"
    },
    "papermill": {
     "duration": 0.856265,
     "end_time": "2021-09-25T06:30:08.044813",
     "exception": false,
     "start_time": "2021-09-25T06:30:07.188548",
     "status": "completed"
    },
    "tags": []
   },
   "outputs": [],
   "source": [
    "import pandas as pd\n",
    "import sqlite3"
   ]
  },
  {
   "cell_type": "code",
   "execution_count": 2,
   "id": "innovative-syndrome",
   "metadata": {
    "execution": {
     "iopub.execute_input": "2021-09-25T06:30:08.095173Z",
     "iopub.status.busy": "2021-09-25T06:30:08.093115Z",
     "iopub.status.idle": "2021-09-25T06:30:08.460638Z",
     "shell.execute_reply": "2021-09-25T06:30:08.461916Z"
    },
    "papermill": {
     "duration": 0.397352,
     "end_time": "2021-09-25T06:30:08.462334",
     "exception": false,
     "start_time": "2021-09-25T06:30:08.064982",
     "status": "completed"
    },
    "tags": []
   },
   "outputs": [],
   "source": [
    "timestamps = pd.read_sql(\"select distinct record_time from EBAY_TOP_BERLIN order by record_time desc limit 2\", sqlite3.connect(\"UsedObjects.db\"))"
   ]
  },
  {
   "cell_type": "code",
   "execution_count": 3,
   "id": "periodic-identification",
   "metadata": {
    "execution": {
     "iopub.execute_input": "2021-09-25T06:30:08.528425Z",
     "iopub.status.busy": "2021-09-25T06:30:08.526307Z",
     "iopub.status.idle": "2021-09-25T06:30:08.546144Z",
     "shell.execute_reply": "2021-09-25T06:30:08.547409Z"
    },
    "papermill": {
     "duration": 0.066399,
     "end_time": "2021-09-25T06:30:08.547850",
     "exception": false,
     "start_time": "2021-09-25T06:30:08.481451",
     "status": "completed"
    },
    "tags": []
   },
   "outputs": [
    {
     "data": {
      "text/html": [
       "<div>\n",
       "<style scoped>\n",
       "    .dataframe tbody tr th:only-of-type {\n",
       "        vertical-align: middle;\n",
       "    }\n",
       "\n",
       "    .dataframe tbody tr th {\n",
       "        vertical-align: top;\n",
       "    }\n",
       "\n",
       "    .dataframe thead th {\n",
       "        text-align: right;\n",
       "    }\n",
       "</style>\n",
       "<table border=\"1\" class=\"dataframe\">\n",
       "  <thead>\n",
       "    <tr style=\"text-align: right;\">\n",
       "      <th></th>\n",
       "      <th>RECORD_TIME</th>\n",
       "    </tr>\n",
       "  </thead>\n",
       "  <tbody>\n",
       "    <tr>\n",
       "      <th>0</th>\n",
       "      <td>2021-09-25 08:30</td>\n",
       "    </tr>\n",
       "    <tr>\n",
       "      <th>1</th>\n",
       "      <td>2021-09-25 08:00</td>\n",
       "    </tr>\n",
       "  </tbody>\n",
       "</table>\n",
       "</div>"
      ],
      "text/plain": [
       "        RECORD_TIME\n",
       "0  2021-09-25 08:30\n",
       "1  2021-09-25 08:00"
      ]
     },
     "execution_count": 3,
     "metadata": {},
     "output_type": "execute_result"
    }
   ],
   "source": [
    "timestamps"
   ]
  },
  {
   "cell_type": "code",
   "execution_count": 4,
   "id": "alternate-victory",
   "metadata": {
    "execution": {
     "iopub.execute_input": "2021-09-25T06:30:08.601186Z",
     "iopub.status.busy": "2021-09-25T06:30:08.598608Z",
     "iopub.status.idle": "2021-09-25T06:30:09.141097Z",
     "shell.execute_reply": "2021-09-25T06:30:09.142384Z"
    },
    "papermill": {
     "duration": 0.572395,
     "end_time": "2021-09-25T06:30:09.142857",
     "exception": false,
     "start_time": "2021-09-25T06:30:08.570462",
     "status": "completed"
    },
    "tags": []
   },
   "outputs": [],
   "source": [
    "df = pd.read_sql(\"select * from EBAY_TOP_BERLIN where record_time in (select distinct record_time from EBAY_TOP_BERLIN order by record_time desc limit 2)\", sqlite3.connect(\"UsedObjects.db\"))"
   ]
  },
  {
   "cell_type": "code",
   "execution_count": 5,
   "id": "popular-active",
   "metadata": {
    "execution": {
     "iopub.execute_input": "2021-09-25T06:30:09.223315Z",
     "iopub.status.busy": "2021-09-25T06:30:09.211725Z",
     "iopub.status.idle": "2021-09-25T06:30:09.239698Z",
     "shell.execute_reply": "2021-09-25T06:30:09.240922Z"
    },
    "papermill": {
     "duration": 0.072222,
     "end_time": "2021-09-25T06:30:09.241316",
     "exception": false,
     "start_time": "2021-09-25T06:30:09.169094",
     "status": "completed"
    },
    "tags": []
   },
   "outputs": [],
   "source": [
    "df_pivot = df.pivot_table(index=\"PRODUCT\", columns = \"RECORD_TIME\", values = \"LISTING_COUNT\")"
   ]
  },
  {
   "cell_type": "code",
   "execution_count": 6,
   "id": "union-huntington",
   "metadata": {
    "execution": {
     "iopub.execute_input": "2021-09-25T06:30:09.300243Z",
     "iopub.status.busy": "2021-09-25T06:30:09.297728Z",
     "iopub.status.idle": "2021-09-25T06:30:09.303645Z",
     "shell.execute_reply": "2021-09-25T06:30:09.304945Z"
    },
    "papermill": {
     "duration": 0.041896,
     "end_time": "2021-09-25T06:30:09.305362",
     "exception": false,
     "start_time": "2021-09-25T06:30:09.263466",
     "status": "completed"
    },
    "tags": []
   },
   "outputs": [],
   "source": [
    "df_pivot.columns = [\"stamp_1\", \"stamp_2\"]\n",
    "df_pivot_diff = df_pivot.diff(axis=1)"
   ]
  },
  {
   "cell_type": "code",
   "execution_count": 7,
   "id": "fifth-motion",
   "metadata": {
    "execution": {
     "iopub.execute_input": "2021-09-25T06:30:09.358547Z",
     "iopub.status.busy": "2021-09-25T06:30:09.356376Z",
     "iopub.status.idle": "2021-09-25T06:30:10.854045Z",
     "shell.execute_reply": "2021-09-25T06:30:10.855483Z"
    },
    "papermill": {
     "duration": 1.530152,
     "end_time": "2021-09-25T06:30:10.855930",
     "exception": false,
     "start_time": "2021-09-25T06:30:09.325778",
     "status": "completed"
    },
    "tags": []
   },
   "outputs": [
    {
     "data": {
      "text/plain": [
       "<AxesSubplot:ylabel='PRODUCT'>"
      ]
     },
     "execution_count": 7,
     "metadata": {},
     "output_type": "execute_result"
    },
    {
     "data": {
      "image/png": "[encoded data removed]",
      "text/plain": [
       "<Figure size 432x288 with 1 Axes>"
      ]
     },
     "metadata": {
      "needs_background": "light"
     },
     "output_type": "display_data"
    }
   ],
   "source": [
    "df_pivot_diff.sort_values(\"stamp_2\", ascending = False)[\"stamp_2\"].head(10).plot.barh()"
   ]
  },
  {
   "cell_type": "code",
   "execution_count": null,
   "id": "extra-executive",
   "metadata": {
    "papermill": {
     "duration": 0.022065,
     "end_time": "2021-09-25T06:30:10.902612",
     "exception": false,
     "start_time": "2021-09-25T06:30:10.880547",
     "status": "completed"
    },
    "tags": []
   },
   "outputs": [],
   "source": []
  }
 ],
 "metadata": {
  "kernelspec": {
   "display_name": "Python 3",
   "language": "python",
   "name": "python3"
  },
  "language_info": {
   "codemirror_mode": {
    "name": "ipython",
    "version": 3
   },
   "file_extension": ".py",
   "mimetype": "text/x-python",
   "name": "python",
   "nbconvert_exporter": "python",
   "pygments_lexer": "ipython3",
   "version": "3.9.5"
  },
  "papermill": {
   "default_parameters": {},
   "duration": 6.761002,
   "end_time": "2021-09-25T06:30:11.545826",
   "environment_variables": {},
   "exception": null,
   "input_path": "eBay_Overview.ipynb",
   "output_path": "eBay_Overview.ipynb",
   "parameters": {},
   "start_time": "2021-09-25T06:30:04.784824",
   "version": "2.3.3"
  }
 },
 "nbformat": 4,
 "nbformat_minor": 5
}