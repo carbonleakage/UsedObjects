{
 "cells": [
  {
   "cell_type": "code",
   "execution_count": 1,
   "id": "reverse-picking",
   "metadata": {
    "execution": {
     "iopub.execute_input": "2021-11-02T16:00:08.038204Z",
     "iopub.status.busy": "2021-11-02T16:00:08.035958Z",
     "iopub.status.idle": "2021-11-02T16:00:08.987283Z",
     "shell.execute_reply": "2021-11-02T16:00:08.985305Z"
    },
    "papermill": {
     "duration": 0.996838,
     "end_time": "2021-11-02T16:00:08.987772",
     "exception": false,
     "start_time": "2021-11-02T16:00:07.990934",
     "status": "completed"
    },
    "tags": []
   },
   "outputs": [],
   "source": [
    "import pandas as pd\n",
    "import sqlite3"
   ]
  },
  {
   "cell_type": "code",
   "execution_count": 2,
   "id": "innovative-syndrome",
   "metadata": {
    "execution": {
     "iopub.execute_input": "2021-11-02T16:00:09.050664Z",
     "iopub.status.busy": "2021-11-02T16:00:09.048356Z",
     "iopub.status.idle": "2021-11-02T16:00:09.763422Z",
     "shell.execute_reply": "2021-11-02T16:00:09.765244Z"
    },
    "papermill": {
     "duration": 0.755635,
     "end_time": "2021-11-02T16:00:09.765775",
     "exception": false,
     "start_time": "2021-11-02T16:00:09.010140",
     "status": "completed"
    },
    "tags": []
   },
   "outputs": [],
   "source": [
    "timestamps = pd.read_sql(\"select distinct record_time from EBAY_TOP_BERLIN order by record_time desc limit 2\", sqlite3.connect(\"UsedObjects.db\"))"
   ]
  },
  {
   "cell_type": "code",
   "execution_count": 3,
   "id": "periodic-identification",
   "metadata": {
    "execution": {
     "iopub.execute_input": "2021-11-02T16:00:09.837491Z",
     "iopub.status.busy": "2021-11-02T16:00:09.835105Z",
     "iopub.status.idle": "2021-11-02T16:00:09.857233Z",
     "shell.execute_reply": "2021-11-02T16:00:09.858738Z"
    },
    "papermill": {
     "duration": 0.071716,
     "end_time": "2021-11-02T16:00:09.859196",
     "exception": false,
     "start_time": "2021-11-02T16:00:09.787480",
     "status": "completed"
    },
    "tags": []
   },
   "outputs": [
    {
     "data": {
      "text/html": [
       "<div>\n",
       "<style scoped>\n",
       "    .dataframe tbody tr th:only-of-type {\n",
       "        vertical-align: middle;\n",
       "    }\n",
       "\n",
       "    .dataframe tbody tr th {\n",
       "        vertical-align: top;\n",
       "    }\n",
       "\n",
       "    .dataframe thead th {\n",
       "        text-align: right;\n",
       "    }\n",
       "</style>\n",
       "<table border=\"1\" class=\"dataframe\">\n",
       "  <thead>\n",
       "    <tr style=\"text-align: right;\">\n",
       "      <th></th>\n",
       "      <th>RECORD_TIME</th>\n",
       "    </tr>\n",
       "  </thead>\n",
       "  <tbody>\n",
       "    <tr>\n",
       "      <th>0</th>\n",
       "      <td>2021-11-02 17:00</td>\n",
       "    </tr>\n",
       "    <tr>\n",
       "      <th>1</th>\n",
       "      <td>2021-11-02 16:30</td>\n",
       "    </tr>\n",
       "  </tbody>\n",
       "</table>\n",
       "</div>"
      ],
      "text/plain": [
       "        RECORD_TIME\n",
       "0  2021-11-02 17:00\n",
       "1  2021-11-02 16:30"
      ]
     },
     "execution_count": 3,
     "metadata": {},
     "output_type": "execute_result"
    }
   ],
   "source": [
    "timestamps"
   ]
  },
  {
   "cell_type": "code",
   "execution_count": 4,
   "id": "alternate-victory",
   "metadata": {
    "execution": {
     "iopub.execute_input": "2021-11-02T16:00:09.912325Z",
     "iopub.status.busy": "2021-11-02T16:00:09.910280Z",
     "iopub.status.idle": "2021-11-02T16:00:10.959671Z",
     "shell.execute_reply": "2021-11-02T16:00:10.961463Z"
    },
    "papermill": {
     "duration": 1.082108,
     "end_time": "2021-11-02T16:00:10.961957",
     "exception": false,
     "start_time": "2021-11-02T16:00:09.879849",
     "status": "completed"
    },
    "tags": []
   },
   "outputs": [],
   "source": [
    "df = pd.read_sql(\"select * from EBAY_TOP_BERLIN where record_time in (select distinct record_time from EBAY_TOP_BERLIN order by record_time desc limit 2)\", sqlite3.connect(\"UsedObjects.db\"))"
   ]
  },
  {
   "cell_type": "code",
   "execution_count": 5,
   "id": "popular-active",
   "metadata": {
    "execution": {
     "iopub.execute_input": "2021-11-02T16:00:11.042015Z",
     "iopub.status.busy": "2021-11-02T16:00:11.027647Z",
     "iopub.status.idle": "2021-11-02T16:00:11.060211Z",
     "shell.execute_reply": "2021-11-02T16:00:11.062045Z"
    },
    "papermill": {
     "duration": 0.078938,
     "end_time": "2021-11-02T16:00:11.062563",
     "exception": false,
     "start_time": "2021-11-02T16:00:10.983625",
     "status": "completed"
    },
    "tags": []
   },
   "outputs": [],
   "source": [
    "df_pivot = df.pivot_table(index=\"PRODUCT\", columns = \"RECORD_TIME\", values = \"LISTING_COUNT\")"
   ]
  },
  {
   "cell_type": "code",
   "execution_count": 6,
   "id": "union-huntington",
   "metadata": {
    "execution": {
     "iopub.execute_input": "2021-11-02T16:00:11.125695Z",
     "iopub.status.busy": "2021-11-02T16:00:11.123398Z",
     "iopub.status.idle": "2021-11-02T16:00:11.129144Z",
     "shell.execute_reply": "2021-11-02T16:00:11.130724Z"
    },
    "papermill": {
     "duration": 0.046858,
     "end_time": "2021-11-02T16:00:11.131221",
     "exception": false,
     "start_time": "2021-11-02T16:00:11.084363",
     "status": "completed"
    },
    "tags": []
   },
   "outputs": [],
   "source": [
    "df_pivot.columns = [\"stamp_1\", \"stamp_2\"]\n",
    "df_pivot_diff = df_pivot.diff(axis=1)"
   ]
  },
  {
   "cell_type": "code",
   "execution_count": 7,
   "id": "fifth-motion",
   "metadata": {
    "execution": {
     "iopub.execute_input": "2021-11-02T16:00:11.190799Z",
     "iopub.status.busy": "2021-11-02T16:00:11.188169Z",
     "iopub.status.idle": "2021-11-02T16:00:12.933736Z",
     "shell.execute_reply": "2021-11-02T16:00:12.936675Z"
    },
    "papermill": {
     "duration": 1.785324,
     "end_time": "2021-11-02T16:00:12.937440",
     "exception": false,
     "start_time": "2021-11-02T16:00:11.152116",
     "status": "completed"
    },
    "tags": []
   },
   "outputs": [
    {
     "data": {
      "text/plain": [
       "<AxesSubplot:ylabel='PRODUCT'>"
      ]
     },
     "execution_count": 7,
     "metadata": {},
     "output_type": "execute_result"
    },
    {
     "data": {
      "image/png": "[encoded data removed]",
      "text/plain": [
       "<Figure size 432x288 with 1 Axes>"
      ]
     },
     "metadata": {
      "needs_background": "light"
     },
     "output_type": "display_data"
    }
   ],
   "source": [
    "df_pivot_diff.sort_values(\"stamp_2\", ascending = False)[\"stamp_2\"].head(10).plot.barh()"
   ]
  },
  {
   "cell_type": "code",
   "execution_count": null,
   "id": "extra-executive",
   "metadata": {
    "papermill": {
     "duration": 0.036389,
     "end_time": "2021-11-02T16:00:13.006970",
     "exception": false,
     "start_time": "2021-11-02T16:00:12.970581",
     "status": "completed"
    },
    "tags": []
   },
   "outputs": [],
   "source": []
  }
 ],
 "metadata": {
  "kernelspec": {
   "display_name": "Python 3",
   "language": "python",
   "name": "python3"
  },
  "language_info": {
   "codemirror_mode": {
    "name": "ipython",
    "version": 3
   },
   "file_extension": ".py",
   "mimetype": "text/x-python",
   "name": "python",
   "nbconvert_exporter": "python",
   "pygments_lexer": "ipython3",
   "version": "3.9.5"
  },
  "papermill": {
   "default_parameters": {},
   "duration": 8.622453,
   "end_time": "2021-11-02T16:00:13.876895",
   "environment_variables": {},
   "exception": null,
   "input_path": "eBay_Overview.ipynb",
   "output_path": "eBay_Overview.ipynb",
   "parameters": {},
   "start_time": "2021-11-02T16:00:05.254442",
   "version": "2.3.3"
  }
 },
 "nbformat": 4,
 "nbformat_minor": 5
}