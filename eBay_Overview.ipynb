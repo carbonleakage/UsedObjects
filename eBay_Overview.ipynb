{
 "cells": [
  {
   "cell_type": "code",
   "execution_count": 1,
   "id": "reverse-picking",
   "metadata": {
    "execution": {
     "iopub.execute_input": "2021-10-10T18:30:07.460907Z",
     "iopub.status.busy": "2021-10-10T18:30:07.458956Z",
     "iopub.status.idle": "2021-10-10T18:30:08.273597Z",
     "shell.execute_reply": "2021-10-10T18:30:08.275093Z"
    },
    "papermill": {
     "duration": 0.868371,
     "end_time": "2021-10-10T18:30:08.275788",
     "exception": false,
     "start_time": "2021-10-10T18:30:07.407417",
     "status": "completed"
    },
    "tags": []
   },
   "outputs": [],
   "source": [
    "import pandas as pd\n",
    "import sqlite3"
   ]
  },
  {
   "cell_type": "code",
   "execution_count": 2,
   "id": "innovative-syndrome",
   "metadata": {
    "execution": {
     "iopub.execute_input": "2021-10-10T18:30:08.328663Z",
     "iopub.status.busy": "2021-10-10T18:30:08.326527Z",
     "iopub.status.idle": "2021-10-10T18:30:08.824197Z",
     "shell.execute_reply": "2021-10-10T18:30:08.825381Z"
    },
    "papermill": {
     "duration": 0.52813,
     "end_time": "2021-10-10T18:30:08.825808",
     "exception": false,
     "start_time": "2021-10-10T18:30:08.297678",
     "status": "completed"
    },
    "tags": []
   },
   "outputs": [],
   "source": [
    "timestamps = pd.read_sql(\"select distinct record_time from EBAY_TOP_BERLIN order by record_time desc limit 2\", sqlite3.connect(\"UsedObjects.db\"))"
   ]
  },
  {
   "cell_type": "code",
   "execution_count": 3,
   "id": "periodic-identification",
   "metadata": {
    "execution": {
     "iopub.execute_input": "2021-10-10T18:30:08.892352Z",
     "iopub.status.busy": "2021-10-10T18:30:08.890252Z",
     "iopub.status.idle": "2021-10-10T18:30:08.910108Z",
     "shell.execute_reply": "2021-10-10T18:30:08.911308Z"
    },
    "papermill": {
     "duration": 0.066231,
     "end_time": "2021-10-10T18:30:08.911734",
     "exception": false,
     "start_time": "2021-10-10T18:30:08.845503",
     "status": "completed"
    },
    "tags": []
   },
   "outputs": [
    {
     "data": {
      "text/html": [
       "<div>\n",
       "<style scoped>\n",
       "    .dataframe tbody tr th:only-of-type {\n",
       "        vertical-align: middle;\n",
       "    }\n",
       "\n",
       "    .dataframe tbody tr th {\n",
       "        vertical-align: top;\n",
       "    }\n",
       "\n",
       "    .dataframe thead th {\n",
       "        text-align: right;\n",
       "    }\n",
       "</style>\n",
       "<table border=\"1\" class=\"dataframe\">\n",
       "  <thead>\n",
       "    <tr style=\"text-align: right;\">\n",
       "      <th></th>\n",
       "      <th>RECORD_TIME</th>\n",
       "    </tr>\n",
       "  </thead>\n",
       "  <tbody>\n",
       "    <tr>\n",
       "      <th>0</th>\n",
       "      <td>2021-10-10 20:30</td>\n",
       "    </tr>\n",
       "    <tr>\n",
       "      <th>1</th>\n",
       "      <td>2021-10-10 20:00</td>\n",
       "    </tr>\n",
       "  </tbody>\n",
       "</table>\n",
       "</div>"
      ],
      "text/plain": [
       "        RECORD_TIME\n",
       "0  2021-10-10 20:30\n",
       "1  2021-10-10 20:00"
      ]
     },
     "execution_count": 3,
     "metadata": {},
     "output_type": "execute_result"
    }
   ],
   "source": [
    "timestamps"
   ]
  },
  {
   "cell_type": "code",
   "execution_count": 4,
   "id": "alternate-victory",
   "metadata": {
    "execution": {
     "iopub.execute_input": "2021-10-10T18:30:08.966057Z",
     "iopub.status.busy": "2021-10-10T18:30:08.963755Z",
     "iopub.status.idle": "2021-10-10T18:30:09.701629Z",
     "shell.execute_reply": "2021-10-10T18:30:09.702924Z"
    },
    "papermill": {
     "duration": 0.76877,
     "end_time": "2021-10-10T18:30:09.703388",
     "exception": false,
     "start_time": "2021-10-10T18:30:08.934618",
     "status": "completed"
    },
    "tags": []
   },
   "outputs": [],
   "source": [
    "df = pd.read_sql(\"select * from EBAY_TOP_BERLIN where record_time in (select distinct record_time from EBAY_TOP_BERLIN order by record_time desc limit 2)\", sqlite3.connect(\"UsedObjects.db\"))"
   ]
  },
  {
   "cell_type": "code",
   "execution_count": 5,
   "id": "popular-active",
   "metadata": {
    "execution": {
     "iopub.execute_input": "2021-10-10T18:30:09.775188Z",
     "iopub.status.busy": "2021-10-10T18:30:09.768401Z",
     "iopub.status.idle": "2021-10-10T18:30:09.790645Z",
     "shell.execute_reply": "2021-10-10T18:30:09.791947Z"
    },
    "papermill": {
     "duration": 0.068198,
     "end_time": "2021-10-10T18:30:09.792349",
     "exception": false,
     "start_time": "2021-10-10T18:30:09.724151",
     "status": "completed"
    },
    "tags": []
   },
   "outputs": [],
   "source": [
    "df_pivot = df.pivot_table(index=\"PRODUCT\", columns = \"RECORD_TIME\", values = \"LISTING_COUNT\")"
   ]
  },
  {
   "cell_type": "code",
   "execution_count": 6,
   "id": "union-huntington",
   "metadata": {
    "execution": {
     "iopub.execute_input": "2021-10-10T18:30:09.851784Z",
     "iopub.status.busy": "2021-10-10T18:30:09.849676Z",
     "iopub.status.idle": "2021-10-10T18:30:09.855070Z",
     "shell.execute_reply": "2021-10-10T18:30:09.856456Z"
    },
    "papermill": {
     "duration": 0.042352,
     "end_time": "2021-10-10T18:30:09.857006",
     "exception": false,
     "start_time": "2021-10-10T18:30:09.814654",
     "status": "completed"
    },
    "tags": []
   },
   "outputs": [],
   "source": [
    "df_pivot.columns = [\"stamp_1\", \"stamp_2\"]\n",
    "df_pivot_diff = df_pivot.diff(axis=1)"
   ]
  },
  {
   "cell_type": "code",
   "execution_count": 7,
   "id": "fifth-motion",
   "metadata": {
    "execution": {
     "iopub.execute_input": "2021-10-10T18:30:09.912431Z",
     "iopub.status.busy": "2021-10-10T18:30:09.909942Z",
     "iopub.status.idle": "2021-10-10T18:30:11.428978Z",
     "shell.execute_reply": "2021-10-10T18:30:11.430259Z"
    },
    "papermill": {
     "duration": 1.55269,
     "end_time": "2021-10-10T18:30:11.430710",
     "exception": false,
     "start_time": "2021-10-10T18:30:09.878020",
     "status": "completed"
    },
    "tags": []
   },
   "outputs": [
    {
     "data": {
      "text/plain": [
       "<AxesSubplot:ylabel='PRODUCT'>"
      ]
     },
     "execution_count": 7,
     "metadata": {},
     "output_type": "execute_result"
    },
    {
     "data": {
      "image/png": "[encoded data removed]",
      "text/plain": [
       "<Figure size 432x288 with 1 Axes>"
      ]
     },
     "metadata": {
      "needs_background": "light"
     },
     "output_type": "display_data"
    }
   ],
   "source": [
    "df_pivot_diff.sort_values(\"stamp_2\", ascending = False)[\"stamp_2\"].head(10).plot.barh()"
   ]
  },
  {
   "cell_type": "code",
   "execution_count": null,
   "id": "extra-executive",
   "metadata": {
    "papermill": {
     "duration": 0.022533,
     "end_time": "2021-10-10T18:30:11.476374",
     "exception": false,
     "start_time": "2021-10-10T18:30:11.453841",
     "status": "completed"
    },
    "tags": []
   },
   "outputs": [],
   "source": []
  }
 ],
 "metadata": {
  "kernelspec": {
   "display_name": "Python 3",
   "language": "python",
   "name": "python3"
  },
  "language_info": {
   "codemirror_mode": {
    "name": "ipython",
    "version": 3
   },
   "file_extension": ".py",
   "mimetype": "text/x-python",
   "name": "python",
   "nbconvert_exporter": "python",
   "pygments_lexer": "ipython3",
   "version": "3.9.5"
  },
  "papermill": {
   "default_parameters": {},
   "duration": 7.840642,
   "end_time": "2021-10-10T18:30:12.816808",
   "environment_variables": {},
   "exception": null,
   "input_path": "eBay_Overview.ipynb",
   "output_path": "eBay_Overview.ipynb",
   "parameters": {},
   "start_time": "2021-10-10T18:30:04.976166",
   "version": "2.3.3"
  }
 },
 "nbformat": 4,
 "nbformat_minor": 5
}