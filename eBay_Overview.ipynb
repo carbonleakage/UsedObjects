{
 "cells": [
  {
   "cell_type": "code",
   "execution_count": 1,
   "id": "reverse-picking",
   "metadata": {
    "execution": {
     "iopub.execute_input": "2021-11-16T02:30:07.940992Z",
     "iopub.status.busy": "2021-11-16T02:30:07.938744Z",
     "iopub.status.idle": "2021-11-16T02:30:08.895671Z",
     "shell.execute_reply": "2021-11-16T02:30:08.899030Z"
    },
    "papermill": {
     "duration": 1.009655,
     "end_time": "2021-11-16T02:30:08.900490",
     "exception": false,
     "start_time": "2021-11-16T02:30:07.890835",
     "status": "completed"
    },
    "tags": []
   },
   "outputs": [],
   "source": [
    "import pandas as pd\n",
    "import sqlite3"
   ]
  },
  {
   "cell_type": "code",
   "execution_count": 2,
   "id": "innovative-syndrome",
   "metadata": {
    "execution": {
     "iopub.execute_input": "2021-11-16T02:30:08.972349Z",
     "iopub.status.busy": "2021-11-16T02:30:08.970139Z",
     "iopub.status.idle": "2021-11-16T02:30:09.813145Z",
     "shell.execute_reply": "2021-11-16T02:30:09.814478Z"
    },
    "papermill": {
     "duration": 0.877341,
     "end_time": "2021-11-16T02:30:09.814900",
     "exception": false,
     "start_time": "2021-11-16T02:30:08.937559",
     "status": "completed"
    },
    "tags": []
   },
   "outputs": [],
   "source": [
    "timestamps = pd.read_sql(\"select distinct record_time from EBAY_TOP_BERLIN order by record_time desc limit 2\", sqlite3.connect(\"UsedObjects.db\"))"
   ]
  },
  {
   "cell_type": "code",
   "execution_count": 3,
   "id": "periodic-identification",
   "metadata": {
    "execution": {
     "iopub.execute_input": "2021-11-16T02:30:09.883171Z",
     "iopub.status.busy": "2021-11-16T02:30:09.877350Z",
     "iopub.status.idle": "2021-11-16T02:30:09.898045Z",
     "shell.execute_reply": "2021-11-16T02:30:09.899284Z"
    },
    "papermill": {
     "duration": 0.065497,
     "end_time": "2021-11-16T02:30:09.899683",
     "exception": false,
     "start_time": "2021-11-16T02:30:09.834186",
     "status": "completed"
    },
    "tags": []
   },
   "outputs": [
    {
     "data": {
      "text/html": [
       "<div>\n",
       "<style scoped>\n",
       "    .dataframe tbody tr th:only-of-type {\n",
       "        vertical-align: middle;\n",
       "    }\n",
       "\n",
       "    .dataframe tbody tr th {\n",
       "        vertical-align: top;\n",
       "    }\n",
       "\n",
       "    .dataframe thead th {\n",
       "        text-align: right;\n",
       "    }\n",
       "</style>\n",
       "<table border=\"1\" class=\"dataframe\">\n",
       "  <thead>\n",
       "    <tr style=\"text-align: right;\">\n",
       "      <th></th>\n",
       "      <th>RECORD_TIME</th>\n",
       "    </tr>\n",
       "  </thead>\n",
       "  <tbody>\n",
       "    <tr>\n",
       "      <th>0</th>\n",
       "      <td>2021-11-16 03:30</td>\n",
       "    </tr>\n",
       "    <tr>\n",
       "      <th>1</th>\n",
       "      <td>2021-11-16 03:00</td>\n",
       "    </tr>\n",
       "  </tbody>\n",
       "</table>\n",
       "</div>"
      ],
      "text/plain": [
       "        RECORD_TIME\n",
       "0  2021-11-16 03:30\n",
       "1  2021-11-16 03:00"
      ]
     },
     "execution_count": 3,
     "metadata": {},
     "output_type": "execute_result"
    }
   ],
   "source": [
    "timestamps"
   ]
  },
  {
   "cell_type": "code",
   "execution_count": 4,
   "id": "alternate-victory",
   "metadata": {
    "execution": {
     "iopub.execute_input": "2021-11-16T02:30:09.952231Z",
     "iopub.status.busy": "2021-11-16T02:30:09.949905Z",
     "iopub.status.idle": "2021-11-16T02:30:11.150796Z",
     "shell.execute_reply": "2021-11-16T02:30:11.152306Z"
    },
    "papermill": {
     "duration": 1.231534,
     "end_time": "2021-11-16T02:30:11.152871",
     "exception": false,
     "start_time": "2021-11-16T02:30:09.921337",
     "status": "completed"
    },
    "tags": []
   },
   "outputs": [],
   "source": [
    "df = pd.read_sql(\"select * from EBAY_TOP_BERLIN where record_time in (select distinct record_time from EBAY_TOP_BERLIN order by record_time desc limit 2)\", sqlite3.connect(\"UsedObjects.db\"))"
   ]
  },
  {
   "cell_type": "code",
   "execution_count": 5,
   "id": "popular-active",
   "metadata": {
    "execution": {
     "iopub.execute_input": "2021-11-16T02:30:11.219728Z",
     "iopub.status.busy": "2021-11-16T02:30:11.217523Z",
     "iopub.status.idle": "2021-11-16T02:30:11.248954Z",
     "shell.execute_reply": "2021-11-16T02:30:11.250456Z"
    },
    "papermill": {
     "duration": 0.076639,
     "end_time": "2021-11-16T02:30:11.250919",
     "exception": false,
     "start_time": "2021-11-16T02:30:11.174280",
     "status": "completed"
    },
    "tags": []
   },
   "outputs": [],
   "source": [
    "df_pivot = df.pivot_table(index=\"PRODUCT\", columns = \"RECORD_TIME\", values = \"LISTING_COUNT\")"
   ]
  },
  {
   "cell_type": "code",
   "execution_count": 6,
   "id": "union-huntington",
   "metadata": {
    "execution": {
     "iopub.execute_input": "2021-11-16T02:30:11.308833Z",
     "iopub.status.busy": "2021-11-16T02:30:11.306574Z",
     "iopub.status.idle": "2021-11-16T02:30:11.311375Z",
     "shell.execute_reply": "2021-11-16T02:30:11.313326Z"
    },
    "papermill": {
     "duration": 0.043288,
     "end_time": "2021-11-16T02:30:11.313791",
     "exception": false,
     "start_time": "2021-11-16T02:30:11.270503",
     "status": "completed"
    },
    "tags": []
   },
   "outputs": [],
   "source": [
    "df_pivot.columns = [\"stamp_1\", \"stamp_2\"]\n",
    "df_pivot_diff = df_pivot.diff(axis=1)"
   ]
  },
  {
   "cell_type": "code",
   "execution_count": 7,
   "id": "fifth-motion",
   "metadata": {
    "execution": {
     "iopub.execute_input": "2021-11-16T02:30:11.373184Z",
     "iopub.status.busy": "2021-11-16T02:30:11.370427Z",
     "iopub.status.idle": "2021-11-16T02:30:13.309613Z",
     "shell.execute_reply": "2021-11-16T02:30:13.306335Z"
    },
    "papermill": {
     "duration": 1.976505,
     "end_time": "2021-11-16T02:30:13.310357",
     "exception": false,
     "start_time": "2021-11-16T02:30:11.333852",
     "status": "completed"
    },
    "tags": []
   },
   "outputs": [
    {
     "data": {
      "text/plain": [
       "<AxesSubplot:ylabel='PRODUCT'>"
      ]
     },
     "execution_count": 7,
     "metadata": {},
     "output_type": "execute_result"
    },
    {
     "data": {
      "image/png": "[encoded data removed]",
      "text/plain": [
       "<Figure size 432x288 with 1 Axes>"
      ]
     },
     "metadata": {
      "needs_background": "light"
     },
     "output_type": "display_data"
    }
   ],
   "source": [
    "df_pivot_diff.sort_values(\"stamp_2\", ascending = False)[\"stamp_2\"].head(10).plot.barh()"
   ]
  },
  {
   "cell_type": "code",
   "execution_count": null,
   "id": "extra-executive",
   "metadata": {
    "papermill": {
     "duration": 0.033168,
     "end_time": "2021-11-16T02:30:13.380170",
     "exception": false,
     "start_time": "2021-11-16T02:30:13.347002",
     "status": "completed"
    },
    "tags": []
   },
   "outputs": [],
   "source": []
  }
 ],
 "metadata": {
  "kernelspec": {
   "display_name": "Python 3",
   "language": "python",
   "name": "python3"
  },
  "language_info": {
   "codemirror_mode": {
    "name": "ipython",
    "version": 3
   },
   "file_extension": ".py",
   "mimetype": "text/x-python",
   "name": "python",
   "nbconvert_exporter": "python",
   "pygments_lexer": "ipython3",
   "version": "3.9.5"
  },
  "papermill": {
   "default_parameters": {},
   "duration": 9.938688,
   "end_time": "2021-11-16T02:30:15.084008",
   "environment_variables": {},
   "exception": null,
   "input_path": "eBay_Overview.ipynb",
   "output_path": "eBay_Overview.ipynb",
   "parameters": {},
   "start_time": "2021-11-16T02:30:05.145320",
   "version": "2.3.3"
  }
 },
 "nbformat": 4,
 "nbformat_minor": 5
}