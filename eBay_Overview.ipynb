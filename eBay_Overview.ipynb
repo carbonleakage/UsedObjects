{
 "cells": [
  {
   "cell_type": "code",
   "execution_count": 1,
   "id": "reverse-picking",
   "metadata": {
    "execution": {
     "iopub.execute_input": "2021-09-26T06:00:07.412445Z",
     "iopub.status.busy": "2021-09-26T06:00:07.410403Z",
     "iopub.status.idle": "2021-09-26T06:00:08.224412Z",
     "shell.execute_reply": "2021-09-26T06:00:08.225828Z"
    },
    "papermill": {
     "duration": 0.865726,
     "end_time": "2021-09-26T06:00:08.226497",
     "exception": false,
     "start_time": "2021-09-26T06:00:07.360771",
     "status": "completed"
    },
    "tags": []
   },
   "outputs": [],
   "source": [
    "import pandas as pd\n",
    "import sqlite3"
   ]
  },
  {
   "cell_type": "code",
   "execution_count": 2,
   "id": "innovative-syndrome",
   "metadata": {
    "execution": {
     "iopub.execute_input": "2021-09-26T06:00:08.276988Z",
     "iopub.status.busy": "2021-09-26T06:00:08.274569Z",
     "iopub.status.idle": "2021-09-26T06:00:08.658587Z",
     "shell.execute_reply": "2021-09-26T06:00:08.660120Z"
    },
    "papermill": {
     "duration": 0.414087,
     "end_time": "2021-09-26T06:00:08.660580",
     "exception": false,
     "start_time": "2021-09-26T06:00:08.246493",
     "status": "completed"
    },
    "tags": []
   },
   "outputs": [],
   "source": [
    "timestamps = pd.read_sql(\"select distinct record_time from EBAY_TOP_BERLIN order by record_time desc limit 2\", sqlite3.connect(\"UsedObjects.db\"))"
   ]
  },
  {
   "cell_type": "code",
   "execution_count": 3,
   "id": "periodic-identification",
   "metadata": {
    "execution": {
     "iopub.execute_input": "2021-09-26T06:00:08.725240Z",
     "iopub.status.busy": "2021-09-26T06:00:08.723144Z",
     "iopub.status.idle": "2021-09-26T06:00:08.743839Z",
     "shell.execute_reply": "2021-09-26T06:00:08.745113Z"
    },
    "papermill": {
     "duration": 0.065404,
     "end_time": "2021-09-26T06:00:08.745519",
     "exception": false,
     "start_time": "2021-09-26T06:00:08.680115",
     "status": "completed"
    },
    "tags": []
   },
   "outputs": [
    {
     "data": {
      "text/html": [
       "<div>\n",
       "<style scoped>\n",
       "    .dataframe tbody tr th:only-of-type {\n",
       "        vertical-align: middle;\n",
       "    }\n",
       "\n",
       "    .dataframe tbody tr th {\n",
       "        vertical-align: top;\n",
       "    }\n",
       "\n",
       "    .dataframe thead th {\n",
       "        text-align: right;\n",
       "    }\n",
       "</style>\n",
       "<table border=\"1\" class=\"dataframe\">\n",
       "  <thead>\n",
       "    <tr style=\"text-align: right;\">\n",
       "      <th></th>\n",
       "      <th>RECORD_TIME</th>\n",
       "    </tr>\n",
       "  </thead>\n",
       "  <tbody>\n",
       "    <tr>\n",
       "      <th>0</th>\n",
       "      <td>2021-09-26 08:00</td>\n",
       "    </tr>\n",
       "    <tr>\n",
       "      <th>1</th>\n",
       "      <td>2021-09-26 07:30</td>\n",
       "    </tr>\n",
       "  </tbody>\n",
       "</table>\n",
       "</div>"
      ],
      "text/plain": [
       "        RECORD_TIME\n",
       "0  2021-09-26 08:00\n",
       "1  2021-09-26 07:30"
      ]
     },
     "execution_count": 3,
     "metadata": {},
     "output_type": "execute_result"
    }
   ],
   "source": [
    "timestamps"
   ]
  },
  {
   "cell_type": "code",
   "execution_count": 4,
   "id": "alternate-victory",
   "metadata": {
    "execution": {
     "iopub.execute_input": "2021-09-26T06:00:08.798725Z",
     "iopub.status.busy": "2021-09-26T06:00:08.796711Z",
     "iopub.status.idle": "2021-09-26T06:00:09.361806Z",
     "shell.execute_reply": "2021-09-26T06:00:09.363088Z"
    },
    "papermill": {
     "duration": 0.596444,
     "end_time": "2021-09-26T06:00:09.363514",
     "exception": false,
     "start_time": "2021-09-26T06:00:08.767070",
     "status": "completed"
    },
    "tags": []
   },
   "outputs": [],
   "source": [
    "df = pd.read_sql(\"select * from EBAY_TOP_BERLIN where record_time in (select distinct record_time from EBAY_TOP_BERLIN order by record_time desc limit 2)\", sqlite3.connect(\"UsedObjects.db\"))"
   ]
  },
  {
   "cell_type": "code",
   "execution_count": 5,
   "id": "popular-active",
   "metadata": {
    "execution": {
     "iopub.execute_input": "2021-09-26T06:00:09.449399Z",
     "iopub.status.busy": "2021-09-26T06:00:09.437123Z",
     "iopub.status.idle": "2021-09-26T06:00:09.465174Z",
     "shell.execute_reply": "2021-09-26T06:00:09.466474Z"
    },
    "papermill": {
     "duration": 0.071851,
     "end_time": "2021-09-26T06:00:09.466959",
     "exception": false,
     "start_time": "2021-09-26T06:00:09.395108",
     "status": "completed"
    },
    "tags": []
   },
   "outputs": [],
   "source": [
    "df_pivot = df.pivot_table(index=\"PRODUCT\", columns = \"RECORD_TIME\", values = \"LISTING_COUNT\")"
   ]
  },
  {
   "cell_type": "code",
   "execution_count": 6,
   "id": "union-huntington",
   "metadata": {
    "execution": {
     "iopub.execute_input": "2021-09-26T06:00:09.523345Z",
     "iopub.status.busy": "2021-09-26T06:00:09.521247Z",
     "iopub.status.idle": "2021-09-26T06:00:09.526686Z",
     "shell.execute_reply": "2021-09-26T06:00:09.527952Z"
    },
    "papermill": {
     "duration": 0.041408,
     "end_time": "2021-09-26T06:00:09.528397",
     "exception": false,
     "start_time": "2021-09-26T06:00:09.486989",
     "status": "completed"
    },
    "tags": []
   },
   "outputs": [],
   "source": [
    "df_pivot.columns = [\"stamp_1\", \"stamp_2\"]\n",
    "df_pivot_diff = df_pivot.diff(axis=1)"
   ]
  },
  {
   "cell_type": "code",
   "execution_count": 7,
   "id": "fifth-motion",
   "metadata": {
    "execution": {
     "iopub.execute_input": "2021-09-26T06:00:09.585556Z",
     "iopub.status.busy": "2021-09-26T06:00:09.582899Z",
     "iopub.status.idle": "2021-09-26T06:00:11.064055Z",
     "shell.execute_reply": "2021-09-26T06:00:11.065429Z"
    },
    "papermill": {
     "duration": 1.514687,
     "end_time": "2021-09-26T06:00:11.065920",
     "exception": false,
     "start_time": "2021-09-26T06:00:09.551233",
     "status": "completed"
    },
    "tags": []
   },
   "outputs": [
    {
     "data": {
      "text/plain": [
       "<AxesSubplot:ylabel='PRODUCT'>"
      ]
     },
     "execution_count": 7,
     "metadata": {},
     "output_type": "execute_result"
    },
    {
     "data": {
      "image/png": "[encoded data removed]",
      "text/plain": [
       "<Figure size 432x288 with 1 Axes>"
      ]
     },
     "metadata": {
      "needs_background": "light"
     },
     "output_type": "display_data"
    }
   ],
   "source": [
    "df_pivot_diff.sort_values(\"stamp_2\", ascending = False)[\"stamp_2\"].head(10).plot.barh()"
   ]
  },
  {
   "cell_type": "code",
   "execution_count": null,
   "id": "extra-executive",
   "metadata": {
    "papermill": {
     "duration": 0.022153,
     "end_time": "2021-09-26T06:00:11.112883",
     "exception": false,
     "start_time": "2021-09-26T06:00:11.090730",
     "status": "completed"
    },
    "tags": []
   },
   "outputs": [],
   "source": []
  }
 ],
 "metadata": {
  "kernelspec": {
   "display_name": "Python 3",
   "language": "python",
   "name": "python3"
  },
  "language_info": {
   "codemirror_mode": {
    "name": "ipython",
    "version": 3
   },
   "file_extension": ".py",
   "mimetype": "text/x-python",
   "name": "python",
   "nbconvert_exporter": "python",
   "pygments_lexer": "ipython3",
   "version": "3.9.5"
  },
  "papermill": {
   "default_parameters": {},
   "duration": 6.803488,
   "end_time": "2021-09-26T06:00:11.756197",
   "environment_variables": {},
   "exception": null,
   "input_path": "eBay_Overview.ipynb",
   "output_path": "eBay_Overview.ipynb",
   "parameters": {},
   "start_time": "2021-09-26T06:00:04.952709",
   "version": "2.3.3"
  }
 },
 "nbformat": 4,
 "nbformat_minor": 5
}