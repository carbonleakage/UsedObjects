{
 "cells": [
  {
   "cell_type": "code",
   "execution_count": 1,
   "id": "reverse-picking",
   "metadata": {
    "execution": {
     "iopub.execute_input": "2021-11-04T06:30:07.800472Z",
     "iopub.status.busy": "2021-11-04T06:30:07.798036Z",
     "iopub.status.idle": "2021-11-04T06:30:08.760316Z",
     "shell.execute_reply": "2021-11-04T06:30:08.761901Z"
    },
    "papermill": {
     "duration": 1.012342,
     "end_time": "2021-11-04T06:30:08.762634",
     "exception": false,
     "start_time": "2021-11-04T06:30:07.750292",
     "status": "completed"
    },
    "tags": []
   },
   "outputs": [],
   "source": [
    "import pandas as pd\n",
    "import sqlite3"
   ]
  },
  {
   "cell_type": "code",
   "execution_count": 2,
   "id": "innovative-syndrome",
   "metadata": {
    "execution": {
     "iopub.execute_input": "2021-11-04T06:30:08.825291Z",
     "iopub.status.busy": "2021-11-04T06:30:08.822854Z",
     "iopub.status.idle": "2021-11-04T06:30:09.558606Z",
     "shell.execute_reply": "2021-11-04T06:30:09.560085Z"
    },
    "papermill": {
     "duration": 0.770052,
     "end_time": "2021-11-04T06:30:09.560539",
     "exception": false,
     "start_time": "2021-11-04T06:30:08.790487",
     "status": "completed"
    },
    "tags": []
   },
   "outputs": [],
   "source": [
    "timestamps = pd.read_sql(\"select distinct record_time from EBAY_TOP_BERLIN order by record_time desc limit 2\", sqlite3.connect(\"UsedObjects.db\"))"
   ]
  },
  {
   "cell_type": "code",
   "execution_count": 3,
   "id": "periodic-identification",
   "metadata": {
    "execution": {
     "iopub.execute_input": "2021-11-04T06:30:09.629993Z",
     "iopub.status.busy": "2021-11-04T06:30:09.627668Z",
     "iopub.status.idle": "2021-11-04T06:30:09.649245Z",
     "shell.execute_reply": "2021-11-04T06:30:09.650616Z"
    },
    "papermill": {
     "duration": 0.070671,
     "end_time": "2021-11-04T06:30:09.651082",
     "exception": false,
     "start_time": "2021-11-04T06:30:09.580411",
     "status": "completed"
    },
    "tags": []
   },
   "outputs": [
    {
     "data": {
      "text/html": [
       "<div>\n",
       "<style scoped>\n",
       "    .dataframe tbody tr th:only-of-type {\n",
       "        vertical-align: middle;\n",
       "    }\n",
       "\n",
       "    .dataframe tbody tr th {\n",
       "        vertical-align: top;\n",
       "    }\n",
       "\n",
       "    .dataframe thead th {\n",
       "        text-align: right;\n",
       "    }\n",
       "</style>\n",
       "<table border=\"1\" class=\"dataframe\">\n",
       "  <thead>\n",
       "    <tr style=\"text-align: right;\">\n",
       "      <th></th>\n",
       "      <th>RECORD_TIME</th>\n",
       "    </tr>\n",
       "  </thead>\n",
       "  <tbody>\n",
       "    <tr>\n",
       "      <th>0</th>\n",
       "      <td>2021-11-04 07:30</td>\n",
       "    </tr>\n",
       "    <tr>\n",
       "      <th>1</th>\n",
       "      <td>2021-11-04 07:00</td>\n",
       "    </tr>\n",
       "  </tbody>\n",
       "</table>\n",
       "</div>"
      ],
      "text/plain": [
       "        RECORD_TIME\n",
       "0  2021-11-04 07:30\n",
       "1  2021-11-04 07:00"
      ]
     },
     "execution_count": 3,
     "metadata": {},
     "output_type": "execute_result"
    }
   ],
   "source": [
    "timestamps"
   ]
  },
  {
   "cell_type": "code",
   "execution_count": 4,
   "id": "alternate-victory",
   "metadata": {
    "execution": {
     "iopub.execute_input": "2021-11-04T06:30:09.706926Z",
     "iopub.status.busy": "2021-11-04T06:30:09.704490Z",
     "iopub.status.idle": "2021-11-04T06:30:10.750076Z",
     "shell.execute_reply": "2021-11-04T06:30:10.751746Z"
    },
    "papermill": {
     "duration": 1.079649,
     "end_time": "2021-11-04T06:30:10.752258",
     "exception": false,
     "start_time": "2021-11-04T06:30:09.672609",
     "status": "completed"
    },
    "tags": []
   },
   "outputs": [],
   "source": [
    "df = pd.read_sql(\"select * from EBAY_TOP_BERLIN where record_time in (select distinct record_time from EBAY_TOP_BERLIN order by record_time desc limit 2)\", sqlite3.connect(\"UsedObjects.db\"))"
   ]
  },
  {
   "cell_type": "code",
   "execution_count": 5,
   "id": "popular-active",
   "metadata": {
    "execution": {
     "iopub.execute_input": "2021-11-04T06:30:10.832868Z",
     "iopub.status.busy": "2021-11-04T06:30:10.823498Z",
     "iopub.status.idle": "2021-11-04T06:30:10.852447Z",
     "shell.execute_reply": "2021-11-04T06:30:10.854006Z"
    },
    "papermill": {
     "duration": 0.080037,
     "end_time": "2021-11-04T06:30:10.854502",
     "exception": false,
     "start_time": "2021-11-04T06:30:10.774465",
     "status": "completed"
    },
    "tags": []
   },
   "outputs": [],
   "source": [
    "df_pivot = df.pivot_table(index=\"PRODUCT\", columns = \"RECORD_TIME\", values = \"LISTING_COUNT\")"
   ]
  },
  {
   "cell_type": "code",
   "execution_count": 6,
   "id": "union-huntington",
   "metadata": {
    "execution": {
     "iopub.execute_input": "2021-11-04T06:30:10.917327Z",
     "iopub.status.busy": "2021-11-04T06:30:10.914912Z",
     "iopub.status.idle": "2021-11-04T06:30:10.922690Z",
     "shell.execute_reply": "2021-11-04T06:30:10.920998Z"
    },
    "papermill": {
     "duration": 0.046963,
     "end_time": "2021-11-04T06:30:10.923138",
     "exception": false,
     "start_time": "2021-11-04T06:30:10.876175",
     "status": "completed"
    },
    "tags": []
   },
   "outputs": [],
   "source": [
    "df_pivot.columns = [\"stamp_1\", \"stamp_2\"]\n",
    "df_pivot_diff = df_pivot.diff(axis=1)"
   ]
  },
  {
   "cell_type": "code",
   "execution_count": 7,
   "id": "fifth-motion",
   "metadata": {
    "execution": {
     "iopub.execute_input": "2021-11-04T06:30:10.985374Z",
     "iopub.status.busy": "2021-11-04T06:30:10.982615Z",
     "iopub.status.idle": "2021-11-04T06:30:12.815348Z",
     "shell.execute_reply": "2021-11-04T06:30:12.817708Z"
    },
    "papermill": {
     "duration": 1.8739,
     "end_time": "2021-11-04T06:30:12.818325",
     "exception": false,
     "start_time": "2021-11-04T06:30:10.944425",
     "status": "completed"
    },
    "tags": []
   },
   "outputs": [
    {
     "data": {
      "text/plain": [
       "<AxesSubplot:ylabel='PRODUCT'>"
      ]
     },
     "execution_count": 7,
     "metadata": {},
     "output_type": "execute_result"
    },
    {
     "data": {
      "image/png": "[encoded data removed]",
      "text/plain": [
       "<Figure size 432x288 with 1 Axes>"
      ]
     },
     "metadata": {
      "needs_background": "light"
     },
     "output_type": "display_data"
    }
   ],
   "source": [
    "df_pivot_diff.sort_values(\"stamp_2\", ascending = False)[\"stamp_2\"].head(10).plot.barh()"
   ]
  },
  {
   "cell_type": "code",
   "execution_count": null,
   "id": "extra-executive",
   "metadata": {
    "papermill": {
     "duration": 0.030408,
     "end_time": "2021-11-04T06:30:12.878725",
     "exception": false,
     "start_time": "2021-11-04T06:30:12.848317",
     "status": "completed"
    },
    "tags": []
   },
   "outputs": [],
   "source": []
  }
 ],
 "metadata": {
  "kernelspec": {
   "display_name": "Python 3",
   "language": "python",
   "name": "python3"
  },
  "language_info": {
   "codemirror_mode": {
    "name": "ipython",
    "version": 3
   },
   "file_extension": ".py",
   "mimetype": "text/x-python",
   "name": "python",
   "nbconvert_exporter": "python",
   "pygments_lexer": "ipython3",
   "version": "3.9.5"
  },
  "papermill": {
   "default_parameters": {},
   "duration": 8.747815,
   "end_time": "2021-11-04T06:30:13.749560",
   "environment_variables": {},
   "exception": null,
   "input_path": "eBay_Overview.ipynb",
   "output_path": "eBay_Overview.ipynb",
   "parameters": {},
   "start_time": "2021-11-04T06:30:05.001745",
   "version": "2.3.3"
  }
 },
 "nbformat": 4,
 "nbformat_minor": 5
}