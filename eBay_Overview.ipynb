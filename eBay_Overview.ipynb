{
 "cells": [
  {
   "cell_type": "code",
   "execution_count": 1,
   "id": "reverse-picking",
   "metadata": {
    "execution": {
     "iopub.execute_input": "2021-11-21T11:30:07.766099Z",
     "iopub.status.busy": "2021-11-21T11:30:07.763944Z",
     "iopub.status.idle": "2021-11-21T11:30:08.720121Z",
     "shell.execute_reply": "2021-11-21T11:30:08.721737Z"
    },
    "papermill": {
     "duration": 1.005367,
     "end_time": "2021-11-21T11:30:08.722472",
     "exception": false,
     "start_time": "2021-11-21T11:30:07.717105",
     "status": "completed"
    },
    "tags": []
   },
   "outputs": [],
   "source": [
    "import pandas as pd\n",
    "import sqlite3"
   ]
  },
  {
   "cell_type": "code",
   "execution_count": 2,
   "id": "innovative-syndrome",
   "metadata": {
    "execution": {
     "iopub.execute_input": "2021-11-21T11:30:08.843765Z",
     "iopub.status.busy": "2021-11-21T11:30:08.840321Z",
     "iopub.status.idle": "2021-11-21T11:30:09.706010Z",
     "shell.execute_reply": "2021-11-21T11:30:09.707483Z"
    },
    "papermill": {
     "duration": 0.900249,
     "end_time": "2021-11-21T11:30:09.707940",
     "exception": false,
     "start_time": "2021-11-21T11:30:08.807691",
     "status": "completed"
    },
    "tags": []
   },
   "outputs": [],
   "source": [
    "timestamps = pd.read_sql(\"select distinct record_time from EBAY_TOP_BERLIN order by record_time desc limit 2\", sqlite3.connect(\"UsedObjects.db\"))"
   ]
  },
  {
   "cell_type": "code",
   "execution_count": 3,
   "id": "periodic-identification",
   "metadata": {
    "execution": {
     "iopub.execute_input": "2021-11-21T11:30:09.779565Z",
     "iopub.status.busy": "2021-11-21T11:30:09.774113Z",
     "iopub.status.idle": "2021-11-21T11:30:09.796242Z",
     "shell.execute_reply": "2021-11-21T11:30:09.797859Z"
    },
    "papermill": {
     "duration": 0.070696,
     "end_time": "2021-11-21T11:30:09.798344",
     "exception": false,
     "start_time": "2021-11-21T11:30:09.727648",
     "status": "completed"
    },
    "tags": []
   },
   "outputs": [
    {
     "data": {
      "text/html": [
       "<div>\n",
       "<style scoped>\n",
       "    .dataframe tbody tr th:only-of-type {\n",
       "        vertical-align: middle;\n",
       "    }\n",
       "\n",
       "    .dataframe tbody tr th {\n",
       "        vertical-align: top;\n",
       "    }\n",
       "\n",
       "    .dataframe thead th {\n",
       "        text-align: right;\n",
       "    }\n",
       "</style>\n",
       "<table border=\"1\" class=\"dataframe\">\n",
       "  <thead>\n",
       "    <tr style=\"text-align: right;\">\n",
       "      <th></th>\n",
       "      <th>RECORD_TIME</th>\n",
       "    </tr>\n",
       "  </thead>\n",
       "  <tbody>\n",
       "    <tr>\n",
       "      <th>0</th>\n",
       "      <td>2021-11-21 12:30</td>\n",
       "    </tr>\n",
       "    <tr>\n",
       "      <th>1</th>\n",
       "      <td>2021-11-21 12:00</td>\n",
       "    </tr>\n",
       "  </tbody>\n",
       "</table>\n",
       "</div>"
      ],
      "text/plain": [
       "        RECORD_TIME\n",
       "0  2021-11-21 12:30\n",
       "1  2021-11-21 12:00"
      ]
     },
     "execution_count": 3,
     "metadata": {},
     "output_type": "execute_result"
    }
   ],
   "source": [
    "timestamps"
   ]
  },
  {
   "cell_type": "code",
   "execution_count": 4,
   "id": "alternate-victory",
   "metadata": {
    "execution": {
     "iopub.execute_input": "2021-11-21T11:30:09.854356Z",
     "iopub.status.busy": "2021-11-21T11:30:09.851940Z",
     "iopub.status.idle": "2021-11-21T11:30:11.114998Z",
     "shell.execute_reply": "2021-11-21T11:30:11.116580Z"
    },
    "papermill": {
     "duration": 1.297211,
     "end_time": "2021-11-21T11:30:11.117209",
     "exception": false,
     "start_time": "2021-11-21T11:30:09.819998",
     "status": "completed"
    },
    "tags": []
   },
   "outputs": [],
   "source": [
    "df = pd.read_sql(\"select * from EBAY_TOP_BERLIN where record_time in (select distinct record_time from EBAY_TOP_BERLIN order by record_time desc limit 2)\", sqlite3.connect(\"UsedObjects.db\"))"
   ]
  },
  {
   "cell_type": "code",
   "execution_count": 5,
   "id": "popular-active",
   "metadata": {
    "execution": {
     "iopub.execute_input": "2021-11-21T11:30:11.195577Z",
     "iopub.status.busy": "2021-11-21T11:30:11.181123Z",
     "iopub.status.idle": "2021-11-21T11:30:11.212930Z",
     "shell.execute_reply": "2021-11-21T11:30:11.214387Z"
    },
    "papermill": {
     "duration": 0.073865,
     "end_time": "2021-11-21T11:30:11.214845",
     "exception": false,
     "start_time": "2021-11-21T11:30:11.140980",
     "status": "completed"
    },
    "tags": []
   },
   "outputs": [],
   "source": [
    "df_pivot = df.pivot_table(index=\"PRODUCT\", columns = \"RECORD_TIME\", values = \"LISTING_COUNT\")"
   ]
  },
  {
   "cell_type": "code",
   "execution_count": 6,
   "id": "union-huntington",
   "metadata": {
    "execution": {
     "iopub.execute_input": "2021-11-21T11:30:11.276261Z",
     "iopub.status.busy": "2021-11-21T11:30:11.273609Z",
     "iopub.status.idle": "2021-11-21T11:30:11.280155Z",
     "shell.execute_reply": "2021-11-21T11:30:11.282146Z"
    },
    "papermill": {
     "duration": 0.047572,
     "end_time": "2021-11-21T11:30:11.282667",
     "exception": false,
     "start_time": "2021-11-21T11:30:11.235095",
     "status": "completed"
    },
    "tags": []
   },
   "outputs": [],
   "source": [
    "df_pivot.columns = [\"stamp_1\", \"stamp_2\"]\n",
    "df_pivot_diff = df_pivot.diff(axis=1)"
   ]
  },
  {
   "cell_type": "code",
   "execution_count": 7,
   "id": "fifth-motion",
   "metadata": {
    "execution": {
     "iopub.execute_input": "2021-11-21T11:30:11.367769Z",
     "iopub.status.busy": "2021-11-21T11:30:11.363659Z",
     "iopub.status.idle": "2021-11-21T11:30:13.143001Z",
     "shell.execute_reply": "2021-11-21T11:30:13.145875Z"
    },
    "papermill": {
     "duration": 1.837126,
     "end_time": "2021-11-21T11:30:13.146686",
     "exception": false,
     "start_time": "2021-11-21T11:30:11.309560",
     "status": "completed"
    },
    "tags": []
   },
   "outputs": [
    {
     "data": {
      "text/plain": [
       "<AxesSubplot:ylabel='PRODUCT'>"
      ]
     },
     "execution_count": 7,
     "metadata": {},
     "output_type": "execute_result"
    },
    {
     "data": {
      "image/png": "[encoded data removed]",
      "text/plain": [
       "<Figure size 432x288 with 1 Axes>"
      ]
     },
     "metadata": {
      "needs_background": "light"
     },
     "output_type": "display_data"
    }
   ],
   "source": [
    "df_pivot_diff.sort_values(\"stamp_2\", ascending = False)[\"stamp_2\"].head(10).plot.barh()"
   ]
  },
  {
   "cell_type": "code",
   "execution_count": null,
   "id": "extra-executive",
   "metadata": {
    "papermill": {
     "duration": 0.032383,
     "end_time": "2021-11-21T11:30:13.216914",
     "exception": false,
     "start_time": "2021-11-21T11:30:13.184531",
     "status": "completed"
    },
    "tags": []
   },
   "outputs": [],
   "source": []
  }
 ],
 "metadata": {
  "kernelspec": {
   "display_name": "Python 3",
   "language": "python",
   "name": "python3"
  },
  "language_info": {
   "codemirror_mode": {
    "name": "ipython",
    "version": 3
   },
   "file_extension": ".py",
   "mimetype": "text/x-python",
   "name": "python",
   "nbconvert_exporter": "python",
   "pygments_lexer": "ipython3",
   "version": "3.9.5"
  },
  "papermill": {
   "default_parameters": {},
   "duration": 9.97116,
   "end_time": "2021-11-21T11:30:14.922181",
   "environment_variables": {},
   "exception": null,
   "input_path": "eBay_Overview.ipynb",
   "output_path": "eBay_Overview.ipynb",
   "parameters": {},
   "start_time": "2021-11-21T11:30:04.951021",
   "version": "2.3.3"
  }
 },
 "nbformat": 4,
 "nbformat_minor": 5
}