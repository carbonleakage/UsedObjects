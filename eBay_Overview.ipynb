{
 "cells": [
  {
   "cell_type": "code",
   "execution_count": 1,
   "id": "reverse-picking",
   "metadata": {
    "execution": {
     "iopub.execute_input": "2021-10-28T22:00:06.910622Z",
     "iopub.status.busy": "2021-10-28T22:00:06.907449Z",
     "iopub.status.idle": "2021-10-28T22:00:07.712950Z",
     "shell.execute_reply": "2021-10-28T22:00:07.711311Z"
    },
    "papermill": {
     "duration": 0.854635,
     "end_time": "2021-10-28T22:00:07.713358",
     "exception": false,
     "start_time": "2021-10-28T22:00:06.858723",
     "status": "completed"
    },
    "tags": []
   },
   "outputs": [],
   "source": [
    "import pandas as pd\n",
    "import sqlite3"
   ]
  },
  {
   "cell_type": "code",
   "execution_count": 2,
   "id": "innovative-syndrome",
   "metadata": {
    "execution": {
     "iopub.execute_input": "2021-10-28T22:00:07.764163Z",
     "iopub.status.busy": "2021-10-28T22:00:07.762288Z",
     "iopub.status.idle": "2021-10-28T22:00:08.427243Z",
     "shell.execute_reply": "2021-10-28T22:00:08.428513Z"
    },
    "papermill": {
     "duration": 0.694711,
     "end_time": "2021-10-28T22:00:08.429038",
     "exception": false,
     "start_time": "2021-10-28T22:00:07.734327",
     "status": "completed"
    },
    "tags": []
   },
   "outputs": [],
   "source": [
    "timestamps = pd.read_sql(\"select distinct record_time from EBAY_TOP_BERLIN order by record_time desc limit 2\", sqlite3.connect(\"UsedObjects.db\"))"
   ]
  },
  {
   "cell_type": "code",
   "execution_count": 3,
   "id": "periodic-identification",
   "metadata": {
    "execution": {
     "iopub.execute_input": "2021-10-28T22:00:08.506283Z",
     "iopub.status.busy": "2021-10-28T22:00:08.504184Z",
     "iopub.status.idle": "2021-10-28T22:00:08.524492Z",
     "shell.execute_reply": "2021-10-28T22:00:08.525769Z"
    },
    "papermill": {
     "duration": 0.071169,
     "end_time": "2021-10-28T22:00:08.526210",
     "exception": false,
     "start_time": "2021-10-28T22:00:08.455041",
     "status": "completed"
    },
    "tags": []
   },
   "outputs": [
    {
     "data": {
      "text/html": [
       "<div>\n",
       "<style scoped>\n",
       "    .dataframe tbody tr th:only-of-type {\n",
       "        vertical-align: middle;\n",
       "    }\n",
       "\n",
       "    .dataframe tbody tr th {\n",
       "        vertical-align: top;\n",
       "    }\n",
       "\n",
       "    .dataframe thead th {\n",
       "        text-align: right;\n",
       "    }\n",
       "</style>\n",
       "<table border=\"1\" class=\"dataframe\">\n",
       "  <thead>\n",
       "    <tr style=\"text-align: right;\">\n",
       "      <th></th>\n",
       "      <th>RECORD_TIME</th>\n",
       "    </tr>\n",
       "  </thead>\n",
       "  <tbody>\n",
       "    <tr>\n",
       "      <th>0</th>\n",
       "      <td>2021-10-29 00:00</td>\n",
       "    </tr>\n",
       "    <tr>\n",
       "      <th>1</th>\n",
       "      <td>2021-10-28 23:30</td>\n",
       "    </tr>\n",
       "  </tbody>\n",
       "</table>\n",
       "</div>"
      ],
      "text/plain": [
       "        RECORD_TIME\n",
       "0  2021-10-29 00:00\n",
       "1  2021-10-28 23:30"
      ]
     },
     "execution_count": 3,
     "metadata": {},
     "output_type": "execute_result"
    }
   ],
   "source": [
    "timestamps"
   ]
  },
  {
   "cell_type": "code",
   "execution_count": 4,
   "id": "alternate-victory",
   "metadata": {
    "execution": {
     "iopub.execute_input": "2021-10-28T22:00:08.580671Z",
     "iopub.status.busy": "2021-10-28T22:00:08.578409Z",
     "iopub.status.idle": "2021-10-28T22:00:09.552170Z",
     "shell.execute_reply": "2021-10-28T22:00:09.553528Z"
    },
    "papermill": {
     "duration": 1.004628,
     "end_time": "2021-10-28T22:00:09.553957",
     "exception": false,
     "start_time": "2021-10-28T22:00:08.549329",
     "status": "completed"
    },
    "tags": []
   },
   "outputs": [],
   "source": [
    "df = pd.read_sql(\"select * from EBAY_TOP_BERLIN where record_time in (select distinct record_time from EBAY_TOP_BERLIN order by record_time desc limit 2)\", sqlite3.connect(\"UsedObjects.db\"))"
   ]
  },
  {
   "cell_type": "code",
   "execution_count": 5,
   "id": "popular-active",
   "metadata": {
    "execution": {
     "iopub.execute_input": "2021-10-28T22:00:09.623541Z",
     "iopub.status.busy": "2021-10-28T22:00:09.611909Z",
     "iopub.status.idle": "2021-10-28T22:00:09.639697Z",
     "shell.execute_reply": "2021-10-28T22:00:09.641131Z"
    },
    "papermill": {
     "duration": 0.067249,
     "end_time": "2021-10-28T22:00:09.641557",
     "exception": false,
     "start_time": "2021-10-28T22:00:09.574308",
     "status": "completed"
    },
    "tags": []
   },
   "outputs": [],
   "source": [
    "df_pivot = df.pivot_table(index=\"PRODUCT\", columns = \"RECORD_TIME\", values = \"LISTING_COUNT\")"
   ]
  },
  {
   "cell_type": "code",
   "execution_count": 6,
   "id": "union-huntington",
   "metadata": {
    "execution": {
     "iopub.execute_input": "2021-10-28T22:00:09.700533Z",
     "iopub.status.busy": "2021-10-28T22:00:09.698100Z",
     "iopub.status.idle": "2021-10-28T22:00:09.703947Z",
     "shell.execute_reply": "2021-10-28T22:00:09.705288Z"
    },
    "papermill": {
     "duration": 0.04253,
     "end_time": "2021-10-28T22:00:09.705719",
     "exception": false,
     "start_time": "2021-10-28T22:00:09.663189",
     "status": "completed"
    },
    "tags": []
   },
   "outputs": [],
   "source": [
    "df_pivot.columns = [\"stamp_1\", \"stamp_2\"]\n",
    "df_pivot_diff = df_pivot.diff(axis=1)"
   ]
  },
  {
   "cell_type": "code",
   "execution_count": 7,
   "id": "fifth-motion",
   "metadata": {
    "execution": {
     "iopub.execute_input": "2021-10-28T22:00:09.759817Z",
     "iopub.status.busy": "2021-10-28T22:00:09.757648Z",
     "iopub.status.idle": "2021-10-28T22:00:11.251600Z",
     "shell.execute_reply": "2021-10-28T22:00:11.252978Z"
    },
    "papermill": {
     "duration": 1.526917,
     "end_time": "2021-10-28T22:00:11.253449",
     "exception": false,
     "start_time": "2021-10-28T22:00:09.726532",
     "status": "completed"
    },
    "tags": []
   },
   "outputs": [
    {
     "data": {
      "text/plain": [
       "<AxesSubplot:ylabel='PRODUCT'>"
      ]
     },
     "execution_count": 7,
     "metadata": {},
     "output_type": "execute_result"
    },
    {
     "data": {
      "image/png": "[encoded data removed]",
      "text/plain": [
       "<Figure size 432x288 with 1 Axes>"
      ]
     },
     "metadata": {
      "needs_background": "light"
     },
     "output_type": "display_data"
    }
   ],
   "source": [
    "df_pivot_diff.sort_values(\"stamp_2\", ascending = False)[\"stamp_2\"].head(10).plot.barh()"
   ]
  },
  {
   "cell_type": "code",
   "execution_count": null,
   "id": "extra-executive",
   "metadata": {
    "papermill": {
     "duration": 0.022418,
     "end_time": "2021-10-28T22:00:11.301397",
     "exception": false,
     "start_time": "2021-10-28T22:00:11.278979",
     "status": "completed"
    },
    "tags": []
   },
   "outputs": [],
   "source": []
  }
 ],
 "metadata": {
  "kernelspec": {
   "display_name": "Python 3",
   "language": "python",
   "name": "python3"
  },
  "language_info": {
   "codemirror_mode": {
    "name": "ipython",
    "version": 3
   },
   "file_extension": ".py",
   "mimetype": "text/x-python",
   "name": "python",
   "nbconvert_exporter": "python",
   "pygments_lexer": "ipython3",
   "version": "3.9.5"
  },
  "papermill": {
   "default_parameters": {},
   "duration": 7.487303,
   "end_time": "2021-10-28T22:00:11.945443",
   "environment_variables": {},
   "exception": null,
   "input_path": "eBay_Overview.ipynb",
   "output_path": "eBay_Overview.ipynb",
   "parameters": {},
   "start_time": "2021-10-28T22:00:04.458140",
   "version": "2.3.3"
  }
 },
 "nbformat": 4,
 "nbformat_minor": 5
}