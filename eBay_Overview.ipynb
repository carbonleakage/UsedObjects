{
 "cells": [
  {
   "cell_type": "code",
   "execution_count": 1,
   "id": "reverse-picking",
   "metadata": {
    "execution": {
     "iopub.execute_input": "2021-11-03T22:30:07.363571Z",
     "iopub.status.busy": "2021-11-03T22:30:07.361097Z",
     "iopub.status.idle": "2021-11-03T22:30:08.322039Z",
     "shell.execute_reply": "2021-11-03T22:30:08.323598Z"
    },
    "papermill": {
     "duration": 1.011702,
     "end_time": "2021-11-03T22:30:08.324305",
     "exception": false,
     "start_time": "2021-11-03T22:30:07.312603",
     "status": "completed"
    },
    "tags": []
   },
   "outputs": [],
   "source": [
    "import pandas as pd\n",
    "import sqlite3"
   ]
  },
  {
   "cell_type": "code",
   "execution_count": 2,
   "id": "innovative-syndrome",
   "metadata": {
    "execution": {
     "iopub.execute_input": "2021-11-03T22:30:08.391773Z",
     "iopub.status.busy": "2021-11-03T22:30:08.389462Z",
     "iopub.status.idle": "2021-11-03T22:30:09.114914Z",
     "shell.execute_reply": "2021-11-03T22:30:09.116536Z"
    },
    "papermill": {
     "duration": 0.759672,
     "end_time": "2021-11-03T22:30:09.117083",
     "exception": false,
     "start_time": "2021-11-03T22:30:08.357411",
     "status": "completed"
    },
    "tags": []
   },
   "outputs": [],
   "source": [
    "timestamps = pd.read_sql(\"select distinct record_time from EBAY_TOP_BERLIN order by record_time desc limit 2\", sqlite3.connect(\"UsedObjects.db\"))"
   ]
  },
  {
   "cell_type": "code",
   "execution_count": 3,
   "id": "periodic-identification",
   "metadata": {
    "execution": {
     "iopub.execute_input": "2021-11-03T22:30:09.193167Z",
     "iopub.status.busy": "2021-11-03T22:30:09.186728Z",
     "iopub.status.idle": "2021-11-03T22:30:09.212570Z",
     "shell.execute_reply": "2021-11-03T22:30:09.214379Z"
    },
    "papermill": {
     "duration": 0.077057,
     "end_time": "2021-11-03T22:30:09.214890",
     "exception": false,
     "start_time": "2021-11-03T22:30:09.137833",
     "status": "completed"
    },
    "tags": []
   },
   "outputs": [
    {
     "data": {
      "text/html": [
       "<div>\n",
       "<style scoped>\n",
       "    .dataframe tbody tr th:only-of-type {\n",
       "        vertical-align: middle;\n",
       "    }\n",
       "\n",
       "    .dataframe tbody tr th {\n",
       "        vertical-align: top;\n",
       "    }\n",
       "\n",
       "    .dataframe thead th {\n",
       "        text-align: right;\n",
       "    }\n",
       "</style>\n",
       "<table border=\"1\" class=\"dataframe\">\n",
       "  <thead>\n",
       "    <tr style=\"text-align: right;\">\n",
       "      <th></th>\n",
       "      <th>RECORD_TIME</th>\n",
       "    </tr>\n",
       "  </thead>\n",
       "  <tbody>\n",
       "    <tr>\n",
       "      <th>0</th>\n",
       "      <td>2021-11-03 23:30</td>\n",
       "    </tr>\n",
       "    <tr>\n",
       "      <th>1</th>\n",
       "      <td>2021-11-03 23:00</td>\n",
       "    </tr>\n",
       "  </tbody>\n",
       "</table>\n",
       "</div>"
      ],
      "text/plain": [
       "        RECORD_TIME\n",
       "0  2021-11-03 23:30\n",
       "1  2021-11-03 23:00"
      ]
     },
     "execution_count": 3,
     "metadata": {},
     "output_type": "execute_result"
    }
   ],
   "source": [
    "timestamps"
   ]
  },
  {
   "cell_type": "code",
   "execution_count": 4,
   "id": "alternate-victory",
   "metadata": {
    "execution": {
     "iopub.execute_input": "2021-11-03T22:30:09.272468Z",
     "iopub.status.busy": "2021-11-03T22:30:09.270244Z",
     "iopub.status.idle": "2021-11-03T22:30:10.298155Z",
     "shell.execute_reply": "2021-11-03T22:30:10.299701Z"
    },
    "papermill": {
     "duration": 1.063415,
     "end_time": "2021-11-03T22:30:10.300220",
     "exception": false,
     "start_time": "2021-11-03T22:30:09.236805",
     "status": "completed"
    },
    "tags": []
   },
   "outputs": [],
   "source": [
    "df = pd.read_sql(\"select * from EBAY_TOP_BERLIN where record_time in (select distinct record_time from EBAY_TOP_BERLIN order by record_time desc limit 2)\", sqlite3.connect(\"UsedObjects.db\"))"
   ]
  },
  {
   "cell_type": "code",
   "execution_count": 5,
   "id": "popular-active",
   "metadata": {
    "execution": {
     "iopub.execute_input": "2021-11-03T22:30:10.379211Z",
     "iopub.status.busy": "2021-11-03T22:30:10.363839Z",
     "iopub.status.idle": "2021-11-03T22:30:10.401331Z",
     "shell.execute_reply": "2021-11-03T22:30:10.402867Z"
    },
    "papermill": {
     "duration": 0.079907,
     "end_time": "2021-11-03T22:30:10.403515",
     "exception": false,
     "start_time": "2021-11-03T22:30:10.323608",
     "status": "completed"
    },
    "tags": []
   },
   "outputs": [],
   "source": [
    "df_pivot = df.pivot_table(index=\"PRODUCT\", columns = \"RECORD_TIME\", values = \"LISTING_COUNT\")"
   ]
  },
  {
   "cell_type": "code",
   "execution_count": 6,
   "id": "union-huntington",
   "metadata": {
    "execution": {
     "iopub.execute_input": "2021-11-03T22:30:10.462770Z",
     "iopub.status.busy": "2021-11-03T22:30:10.460452Z",
     "iopub.status.idle": "2021-11-03T22:30:10.466030Z",
     "shell.execute_reply": "2021-11-03T22:30:10.467359Z"
    },
    "papermill": {
     "duration": 0.042881,
     "end_time": "2021-11-03T22:30:10.467823",
     "exception": false,
     "start_time": "2021-11-03T22:30:10.424942",
     "status": "completed"
    },
    "tags": []
   },
   "outputs": [],
   "source": [
    "df_pivot.columns = [\"stamp_1\", \"stamp_2\"]\n",
    "df_pivot_diff = df_pivot.diff(axis=1)"
   ]
  },
  {
   "cell_type": "code",
   "execution_count": 7,
   "id": "fifth-motion",
   "metadata": {
    "execution": {
     "iopub.execute_input": "2021-11-03T22:30:10.526095Z",
     "iopub.status.busy": "2021-11-03T22:30:10.523299Z",
     "iopub.status.idle": "2021-11-03T22:30:12.450620Z",
     "shell.execute_reply": "2021-11-03T22:30:12.453688Z"
    },
    "papermill": {
     "duration": 1.966554,
     "end_time": "2021-11-03T22:30:12.454690",
     "exception": false,
     "start_time": "2021-11-03T22:30:10.488136",
     "status": "completed"
    },
    "tags": []
   },
   "outputs": [
    {
     "data": {
      "text/plain": [
       "<AxesSubplot:ylabel='PRODUCT'>"
      ]
     },
     "execution_count": 7,
     "metadata": {},
     "output_type": "execute_result"
    },
    {
     "data": {
      "image/png": "[encoded data removed]",
      "text/plain": [
       "<Figure size 432x288 with 1 Axes>"
      ]
     },
     "metadata": {
      "needs_background": "light"
     },
     "output_type": "display_data"
    }
   ],
   "source": [
    "df_pivot_diff.sort_values(\"stamp_2\", ascending = False)[\"stamp_2\"].head(10).plot.barh()"
   ]
  },
  {
   "cell_type": "code",
   "execution_count": null,
   "id": "extra-executive",
   "metadata": {
    "papermill": {
     "duration": 0.029206,
     "end_time": "2021-11-03T22:30:12.514535",
     "exception": false,
     "start_time": "2021-11-03T22:30:12.485329",
     "status": "completed"
    },
    "tags": []
   },
   "outputs": [],
   "source": []
  }
 ],
 "metadata": {
  "kernelspec": {
   "display_name": "Python 3",
   "language": "python",
   "name": "python3"
  },
  "language_info": {
   "codemirror_mode": {
    "name": "ipython",
    "version": 3
   },
   "file_extension": ".py",
   "mimetype": "text/x-python",
   "name": "python",
   "nbconvert_exporter": "python",
   "pygments_lexer": "ipython3",
   "version": "3.9.5"
  },
  "papermill": {
   "default_parameters": {},
   "duration": 8.814376,
   "end_time": "2021-11-03T22:30:13.372033",
   "environment_variables": {},
   "exception": null,
   "input_path": "eBay_Overview.ipynb",
   "output_path": "eBay_Overview.ipynb",
   "parameters": {},
   "start_time": "2021-11-03T22:30:04.557657",
   "version": "2.3.3"
  }
 },
 "nbformat": 4,
 "nbformat_minor": 5
}