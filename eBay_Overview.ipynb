{
 "cells": [
  {
   "cell_type": "code",
   "execution_count": 1,
   "id": "reverse-picking",
   "metadata": {
    "execution": {
     "iopub.execute_input": "2021-08-09T09:30:03.578760Z",
     "iopub.status.busy": "2021-08-09T09:30:03.577997Z",
     "iopub.status.idle": "2021-08-09T09:30:04.229376Z",
     "shell.execute_reply": "2021-08-09T09:30:04.227993Z"
    },
    "papermill": {
     "duration": 0.670295,
     "end_time": "2021-08-09T09:30:04.229714",
     "exception": false,
     "start_time": "2021-08-09T09:30:03.559419",
     "status": "completed"
    },
    "tags": []
   },
   "outputs": [],
   "source": [
    "import pandas as pd\n",
    "import sqlite3"
   ]
  },
  {
   "cell_type": "code",
   "execution_count": 2,
   "id": "innovative-syndrome",
   "metadata": {
    "execution": {
     "iopub.execute_input": "2021-08-09T09:30:04.259272Z",
     "iopub.status.busy": "2021-08-09T09:30:04.258502Z",
     "iopub.status.idle": "2021-08-09T09:30:04.453548Z",
     "shell.execute_reply": "2021-08-09T09:30:04.454214Z"
    },
    "papermill": {
     "duration": 0.213084,
     "end_time": "2021-08-09T09:30:04.454439",
     "exception": false,
     "start_time": "2021-08-09T09:30:04.241355",
     "status": "completed"
    },
    "tags": []
   },
   "outputs": [],
   "source": [
    "timestamps = pd.read_sql(\"select distinct record_time from EBAY_TOP_BERLIN order by record_time desc limit 2\", sqlite3.connect(\"UsedObjects.db\"))"
   ]
  },
  {
   "cell_type": "code",
   "execution_count": 3,
   "id": "periodic-identification",
   "metadata": {
    "execution": {
     "iopub.execute_input": "2021-08-09T09:30:04.482061Z",
     "iopub.status.busy": "2021-08-09T09:30:04.481298Z",
     "iopub.status.idle": "2021-08-09T09:30:04.492118Z",
     "shell.execute_reply": "2021-08-09T09:30:04.492648Z"
    },
    "papermill": {
     "duration": 0.030033,
     "end_time": "2021-08-09T09:30:04.492833",
     "exception": false,
     "start_time": "2021-08-09T09:30:04.462800",
     "status": "completed"
    },
    "tags": []
   },
   "outputs": [
    {
     "data": {
      "text/html": [
       "<div>\n",
       "<style scoped>\n",
       "    .dataframe tbody tr th:only-of-type {\n",
       "        vertical-align: middle;\n",
       "    }\n",
       "\n",
       "    .dataframe tbody tr th {\n",
       "        vertical-align: top;\n",
       "    }\n",
       "\n",
       "    .dataframe thead th {\n",
       "        text-align: right;\n",
       "    }\n",
       "</style>\n",
       "<table border=\"1\" class=\"dataframe\">\n",
       "  <thead>\n",
       "    <tr style=\"text-align: right;\">\n",
       "      <th></th>\n",
       "      <th>RECORD_TIME</th>\n",
       "    </tr>\n",
       "  </thead>\n",
       "  <tbody>\n",
       "    <tr>\n",
       "      <th>0</th>\n",
       "      <td>2021-08-09 11:30</td>\n",
       "    </tr>\n",
       "    <tr>\n",
       "      <th>1</th>\n",
       "      <td>2021-08-09 11:00</td>\n",
       "    </tr>\n",
       "  </tbody>\n",
       "</table>\n",
       "</div>"
      ],
      "text/plain": [
       "        RECORD_TIME\n",
       "0  2021-08-09 11:30\n",
       "1  2021-08-09 11:00"
      ]
     },
     "execution_count": 3,
     "metadata": {},
     "output_type": "execute_result"
    }
   ],
   "source": [
    "timestamps"
   ]
  },
  {
   "cell_type": "code",
   "execution_count": 4,
   "id": "alternate-victory",
   "metadata": {
    "execution": {
     "iopub.execute_input": "2021-08-09T09:30:04.519700Z",
     "iopub.status.busy": "2021-08-09T09:30:04.518865Z",
     "iopub.status.idle": "2021-08-09T09:30:04.528018Z",
     "shell.execute_reply": "2021-08-09T09:30:04.527391Z"
    },
    "papermill": {
     "duration": 0.022222,
     "end_time": "2021-08-09T09:30:04.528183",
     "exception": false,
     "start_time": "2021-08-09T09:30:04.505961",
     "status": "completed"
    },
    "tags": []
   },
   "outputs": [],
   "source": [
    "df = pd.read_sql(\"select * from EBAY_TOP_BERLIN where record_time in (select distinct record_time from EBAY_TOP_BERLIN order by record_time desc limit 2)\", sqlite3.connect(\"UsedObjects.db\"))"
   ]
  },
  {
   "cell_type": "code",
   "execution_count": 5,
   "id": "popular-active",
   "metadata": {
    "execution": {
     "iopub.execute_input": "2021-08-09T09:30:04.647238Z",
     "iopub.status.busy": "2021-08-09T09:30:04.645298Z",
     "iopub.status.idle": "2021-08-09T09:30:04.696562Z",
     "shell.execute_reply": "2021-08-09T09:30:04.697130Z"
    },
    "papermill": {
     "duration": 0.157277,
     "end_time": "2021-08-09T09:30:04.697323",
     "exception": false,
     "start_time": "2021-08-09T09:30:04.540046",
     "status": "completed"
    },
    "tags": []
   },
   "outputs": [],
   "source": [
    "df_pivot = df.pivot_table(index=\"PRODUCT\", columns = \"RECORD_TIME\", values = \"LISTING_COUNT\")"
   ]
  },
  {
   "cell_type": "code",
   "execution_count": 6,
   "id": "union-huntington",
   "metadata": {
    "execution": {
     "iopub.execute_input": "2021-08-09T09:30:04.727161Z",
     "iopub.status.busy": "2021-08-09T09:30:04.726448Z",
     "iopub.status.idle": "2021-08-09T09:30:04.732111Z",
     "shell.execute_reply": "2021-08-09T09:30:04.732965Z"
    },
    "papermill": {
     "duration": 0.025863,
     "end_time": "2021-08-09T09:30:04.733257",
     "exception": false,
     "start_time": "2021-08-09T09:30:04.707394",
     "status": "completed"
    },
    "tags": []
   },
   "outputs": [],
   "source": [
    "df_pivot.columns = [\"stamp_1\", \"stamp_2\"]\n",
    "df_pivot_diff = df_pivot.diff(axis=1)"
   ]
  },
  {
   "cell_type": "code",
   "execution_count": 7,
   "id": "fifth-motion",
   "metadata": {
    "execution": {
     "iopub.execute_input": "2021-08-09T09:30:04.763853Z",
     "iopub.status.busy": "2021-08-09T09:30:04.762686Z",
     "iopub.status.idle": "2021-08-09T09:30:05.405318Z",
     "shell.execute_reply": "2021-08-09T09:30:05.404702Z"
    },
    "papermill": {
     "duration": 0.65869,
     "end_time": "2021-08-09T09:30:05.405481",
     "exception": false,
     "start_time": "2021-08-09T09:30:04.746791",
     "status": "completed"
    },
    "tags": []
   },
   "outputs": [
    {
     "data": {
      "text/plain": [
       "<AxesSubplot:ylabel='PRODUCT'>"
      ]
     },
     "execution_count": 7,
     "metadata": {},
     "output_type": "execute_result"
    },
    {
     "data": {
      "image/png": "[encoded data removed]",
      "text/plain": [
       "<Figure size 432x288 with 1 Axes>"
      ]
     },
     "metadata": {
      "needs_background": "light"
     },
     "output_type": "display_data"
    }
   ],
   "source": [
    "df_pivot_diff.sort_values(\"stamp_2\", ascending = False)[\"stamp_2\"].head(10).plot.barh()"
   ]
  },
  {
   "cell_type": "code",
   "execution_count": null,
   "id": "extra-executive",
   "metadata": {
    "papermill": {
     "duration": 0.01247,
     "end_time": "2021-08-09T09:30:05.430720",
     "exception": false,
     "start_time": "2021-08-09T09:30:05.418250",
     "status": "completed"
    },
    "tags": []
   },
   "outputs": [],
   "source": []
  }
 ],
 "metadata": {
  "kernelspec": {
   "display_name": "Python 3",
   "language": "python",
   "name": "python3"
  },
  "language_info": {
   "codemirror_mode": {
    "name": "ipython",
    "version": 3
   },
   "file_extension": ".py",
   "mimetype": "text/x-python",
   "name": "python",
   "nbconvert_exporter": "python",
   "pygments_lexer": "ipython3",
   "version": "3.8.8"
  },
  "papermill": {
   "default_parameters": {},
   "duration": 4.298069,
   "end_time": "2021-08-09T09:30:06.146101",
   "environment_variables": {},
   "exception": null,
   "input_path": "/Users/saravananshanmugam/Carbonleakage_Git/UsedObjects/eBay_Overview.ipynb",
   "output_path": "/Users/saravananshanmugam/Carbonleakage_Git/UsedObjects/eBay_Overview.ipynb",
   "parameters": {},
   "start_time": "2021-08-09T09:30:01.848032",
   "version": "2.3.3"
  }
 },
 "nbformat": 4,
 "nbformat_minor": 5
}