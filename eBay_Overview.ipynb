{
 "cells": [
  {
   "cell_type": "code",
   "execution_count": 1,
   "id": "reverse-picking",
   "metadata": {
    "execution": {
     "iopub.execute_input": "2021-08-09T08:00:03.980797Z",
     "iopub.status.busy": "2021-08-09T08:00:03.980022Z",
     "iopub.status.idle": "2021-08-09T08:00:04.617014Z",
     "shell.execute_reply": "2021-08-09T08:00:04.617598Z"
    },
    "papermill": {
     "duration": 0.657582,
     "end_time": "2021-08-09T08:00:04.617900",
     "exception": false,
     "start_time": "2021-08-09T08:00:03.960318",
     "status": "completed"
    },
    "tags": []
   },
   "outputs": [],
   "source": [
    "import pandas as pd\n",
    "import sqlite3"
   ]
  },
  {
   "cell_type": "code",
   "execution_count": 2,
   "id": "innovative-syndrome",
   "metadata": {
    "execution": {
     "iopub.execute_input": "2021-08-09T08:00:04.645241Z",
     "iopub.status.busy": "2021-08-09T08:00:04.644441Z",
     "iopub.status.idle": "2021-08-09T08:00:04.858977Z",
     "shell.execute_reply": "2021-08-09T08:00:04.859543Z"
    },
    "papermill": {
     "duration": 0.22828,
     "end_time": "2021-08-09T08:00:04.859738",
     "exception": false,
     "start_time": "2021-08-09T08:00:04.631458",
     "status": "completed"
    },
    "tags": []
   },
   "outputs": [],
   "source": [
    "timestamps = pd.read_sql(\"select distinct record_time from EBAY_TOP_BERLIN order by record_time desc limit 2\", sqlite3.connect(\"UsedObjects.db\"))"
   ]
  },
  {
   "cell_type": "code",
   "execution_count": 3,
   "id": "periodic-identification",
   "metadata": {
    "execution": {
     "iopub.execute_input": "2021-08-09T08:00:04.893238Z",
     "iopub.status.busy": "2021-08-09T08:00:04.892475Z",
     "iopub.status.idle": "2021-08-09T08:00:04.903643Z",
     "shell.execute_reply": "2021-08-09T08:00:04.904160Z"
    },
    "papermill": {
     "duration": 0.031466,
     "end_time": "2021-08-09T08:00:04.904339",
     "exception": false,
     "start_time": "2021-08-09T08:00:04.872873",
     "status": "completed"
    },
    "tags": []
   },
   "outputs": [
    {
     "data": {
      "text/html": [
       "<div>\n",
       "<style scoped>\n",
       "    .dataframe tbody tr th:only-of-type {\n",
       "        vertical-align: middle;\n",
       "    }\n",
       "\n",
       "    .dataframe tbody tr th {\n",
       "        vertical-align: top;\n",
       "    }\n",
       "\n",
       "    .dataframe thead th {\n",
       "        text-align: right;\n",
       "    }\n",
       "</style>\n",
       "<table border=\"1\" class=\"dataframe\">\n",
       "  <thead>\n",
       "    <tr style=\"text-align: right;\">\n",
       "      <th></th>\n",
       "      <th>RECORD_TIME</th>\n",
       "    </tr>\n",
       "  </thead>\n",
       "  <tbody>\n",
       "    <tr>\n",
       "      <th>0</th>\n",
       "      <td>2021-08-09 10:00</td>\n",
       "    </tr>\n",
       "    <tr>\n",
       "      <th>1</th>\n",
       "      <td>2021-08-09 09:30</td>\n",
       "    </tr>\n",
       "  </tbody>\n",
       "</table>\n",
       "</div>"
      ],
      "text/plain": [
       "        RECORD_TIME\n",
       "0  2021-08-09 10:00\n",
       "1  2021-08-09 09:30"
      ]
     },
     "execution_count": 3,
     "metadata": {},
     "output_type": "execute_result"
    }
   ],
   "source": [
    "timestamps"
   ]
  },
  {
   "cell_type": "code",
   "execution_count": 4,
   "id": "alternate-victory",
   "metadata": {
    "execution": {
     "iopub.execute_input": "2021-08-09T08:00:04.926702Z",
     "iopub.status.busy": "2021-08-09T08:00:04.925955Z",
     "iopub.status.idle": "2021-08-09T08:00:04.937975Z",
     "shell.execute_reply": "2021-08-09T08:00:04.937225Z"
    },
    "papermill": {
     "duration": 0.025196,
     "end_time": "2021-08-09T08:00:04.938137",
     "exception": false,
     "start_time": "2021-08-09T08:00:04.912941",
     "status": "completed"
    },
    "tags": []
   },
   "outputs": [],
   "source": [
    "df = pd.read_sql(\"select * from EBAY_TOP_BERLIN where record_time in (select distinct record_time from EBAY_TOP_BERLIN order by record_time desc limit 2)\", sqlite3.connect(\"UsedObjects.db\"))"
   ]
  },
  {
   "cell_type": "code",
   "execution_count": 5,
   "id": "popular-active",
   "metadata": {
    "execution": {
     "iopub.execute_input": "2021-08-09T08:00:04.972229Z",
     "iopub.status.busy": "2021-08-09T08:00:04.968391Z",
     "iopub.status.idle": "2021-08-09T08:00:04.988649Z",
     "shell.execute_reply": "2021-08-09T08:00:04.989209Z"
    },
    "papermill": {
     "duration": 0.039636,
     "end_time": "2021-08-09T08:00:04.989391",
     "exception": false,
     "start_time": "2021-08-09T08:00:04.949755",
     "status": "completed"
    },
    "tags": []
   },
   "outputs": [],
   "source": [
    "df_pivot = df.pivot_table(index=\"PRODUCT\", columns = \"RECORD_TIME\", values = \"LISTING_COUNT\")"
   ]
  },
  {
   "cell_type": "code",
   "execution_count": 6,
   "id": "union-huntington",
   "metadata": {
    "execution": {
     "iopub.execute_input": "2021-08-09T08:00:05.017488Z",
     "iopub.status.busy": "2021-08-09T08:00:05.016715Z",
     "iopub.status.idle": "2021-08-09T08:00:05.019317Z",
     "shell.execute_reply": "2021-08-09T08:00:05.019861Z"
    },
    "papermill": {
     "duration": 0.021898,
     "end_time": "2021-08-09T08:00:05.020041",
     "exception": false,
     "start_time": "2021-08-09T08:00:04.998143",
     "status": "completed"
    },
    "tags": []
   },
   "outputs": [],
   "source": [
    "df_pivot.columns = [\"stamp_1\", \"stamp_2\"]\n",
    "df_pivot_diff = df_pivot.diff(axis=1)"
   ]
  },
  {
   "cell_type": "code",
   "execution_count": 7,
   "id": "fifth-motion",
   "metadata": {
    "execution": {
     "iopub.execute_input": "2021-08-09T08:00:05.053367Z",
     "iopub.status.busy": "2021-08-09T08:00:05.051956Z",
     "iopub.status.idle": "2021-08-09T08:00:05.740124Z",
     "shell.execute_reply": "2021-08-09T08:00:05.739522Z"
    },
    "papermill": {
     "duration": 0.710096,
     "end_time": "2021-08-09T08:00:05.740284",
     "exception": false,
     "start_time": "2021-08-09T08:00:05.030188",
     "status": "completed"
    },
    "tags": []
   },
   "outputs": [
    {
     "data": {
      "text/plain": [
       "<AxesSubplot:ylabel='PRODUCT'>"
      ]
     },
     "execution_count": 7,
     "metadata": {},
     "output_type": "execute_result"
    },
    {
     "data": {
      "image/png": "[encoded data removed]",
      "text/plain": [
       "<Figure size 432x288 with 1 Axes>"
      ]
     },
     "metadata": {
      "needs_background": "light"
     },
     "output_type": "display_data"
    }
   ],
   "source": [
    "df_pivot_diff.sort_values(\"stamp_2\", ascending = False)[\"stamp_2\"].head(10).plot.barh()"
   ]
  },
  {
   "cell_type": "code",
   "execution_count": null,
   "id": "extra-executive",
   "metadata": {
    "papermill": {
     "duration": 0.009424,
     "end_time": "2021-08-09T08:00:05.759880",
     "exception": false,
     "start_time": "2021-08-09T08:00:05.750456",
     "status": "completed"
    },
    "tags": []
   },
   "outputs": [],
   "source": []
  }
 ],
 "metadata": {
  "kernelspec": {
   "display_name": "Python 3",
   "language": "python",
   "name": "python3"
  },
  "language_info": {
   "codemirror_mode": {
    "name": "ipython",
    "version": 3
   },
   "file_extension": ".py",
   "mimetype": "text/x-python",
   "name": "python",
   "nbconvert_exporter": "python",
   "pygments_lexer": "ipython3",
   "version": "3.8.8"
  },
  "papermill": {
   "default_parameters": {},
   "duration": 5.107351,
   "end_time": "2021-08-09T08:00:07.362014",
   "environment_variables": {},
   "exception": null,
   "input_path": "/Users/saravananshanmugam/Carbonleakage_Git/UsedObjects/eBay_Overview.ipynb",
   "output_path": "/Users/saravananshanmugam/Carbonleakage_Git/UsedObjects/eBay_Overview.ipynb",
   "parameters": {},
   "start_time": "2021-08-09T08:00:02.254663",
   "version": "2.3.3"
  }
 },
 "nbformat": 4,
 "nbformat_minor": 5
}