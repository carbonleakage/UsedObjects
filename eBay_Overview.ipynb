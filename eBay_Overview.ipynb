{
 "cells": [
  {
   "cell_type": "code",
   "execution_count": 1,
   "id": "reverse-picking",
   "metadata": {
    "execution": {
     "iopub.execute_input": "2021-10-03T17:30:07.228798Z",
     "iopub.status.busy": "2021-10-03T17:30:07.226371Z",
     "iopub.status.idle": "2021-10-03T17:30:08.033273Z",
     "shell.execute_reply": "2021-10-03T17:30:08.034514Z"
    },
    "papermill": {
     "duration": 0.860065,
     "end_time": "2021-10-03T17:30:08.035180",
     "exception": false,
     "start_time": "2021-10-03T17:30:07.175115",
     "status": "completed"
    },
    "tags": []
   },
   "outputs": [],
   "source": [
    "import pandas as pd\n",
    "import sqlite3"
   ]
  },
  {
   "cell_type": "code",
   "execution_count": 2,
   "id": "innovative-syndrome",
   "metadata": {
    "execution": {
     "iopub.execute_input": "2021-10-03T17:30:08.086247Z",
     "iopub.status.busy": "2021-10-03T17:30:08.084378Z",
     "iopub.status.idle": "2021-10-03T17:30:08.520352Z",
     "shell.execute_reply": "2021-10-03T17:30:08.521681Z"
    },
    "papermill": {
     "duration": 0.465854,
     "end_time": "2021-10-03T17:30:08.522120",
     "exception": false,
     "start_time": "2021-10-03T17:30:08.056266",
     "status": "completed"
    },
    "tags": []
   },
   "outputs": [],
   "source": [
    "timestamps = pd.read_sql(\"select distinct record_time from EBAY_TOP_BERLIN order by record_time desc limit 2\", sqlite3.connect(\"UsedObjects.db\"))"
   ]
  },
  {
   "cell_type": "code",
   "execution_count": 3,
   "id": "periodic-identification",
   "metadata": {
    "execution": {
     "iopub.execute_input": "2021-10-03T17:30:08.586206Z",
     "iopub.status.busy": "2021-10-03T17:30:08.584196Z",
     "iopub.status.idle": "2021-10-03T17:30:08.605129Z",
     "shell.execute_reply": "2021-10-03T17:30:08.606408Z"
    },
    "papermill": {
     "duration": 0.064679,
     "end_time": "2021-10-03T17:30:08.607009",
     "exception": false,
     "start_time": "2021-10-03T17:30:08.542330",
     "status": "completed"
    },
    "tags": []
   },
   "outputs": [
    {
     "data": {
      "text/html": [
       "<div>\n",
       "<style scoped>\n",
       "    .dataframe tbody tr th:only-of-type {\n",
       "        vertical-align: middle;\n",
       "    }\n",
       "\n",
       "    .dataframe tbody tr th {\n",
       "        vertical-align: top;\n",
       "    }\n",
       "\n",
       "    .dataframe thead th {\n",
       "        text-align: right;\n",
       "    }\n",
       "</style>\n",
       "<table border=\"1\" class=\"dataframe\">\n",
       "  <thead>\n",
       "    <tr style=\"text-align: right;\">\n",
       "      <th></th>\n",
       "      <th>RECORD_TIME</th>\n",
       "    </tr>\n",
       "  </thead>\n",
       "  <tbody>\n",
       "    <tr>\n",
       "      <th>0</th>\n",
       "      <td>2021-10-03 19:30</td>\n",
       "    </tr>\n",
       "    <tr>\n",
       "      <th>1</th>\n",
       "      <td>2021-10-03 19:00</td>\n",
       "    </tr>\n",
       "  </tbody>\n",
       "</table>\n",
       "</div>"
      ],
      "text/plain": [
       "        RECORD_TIME\n",
       "0  2021-10-03 19:30\n",
       "1  2021-10-03 19:00"
      ]
     },
     "execution_count": 3,
     "metadata": {},
     "output_type": "execute_result"
    }
   ],
   "source": [
    "timestamps"
   ]
  },
  {
   "cell_type": "code",
   "execution_count": 4,
   "id": "alternate-victory",
   "metadata": {
    "execution": {
     "iopub.execute_input": "2021-10-03T17:30:08.660551Z",
     "iopub.status.busy": "2021-10-03T17:30:08.658117Z",
     "iopub.status.idle": "2021-10-03T17:30:09.307167Z",
     "shell.execute_reply": "2021-10-03T17:30:09.308473Z"
    },
    "papermill": {
     "duration": 0.679746,
     "end_time": "2021-10-03T17:30:09.308893",
     "exception": false,
     "start_time": "2021-10-03T17:30:08.629147",
     "status": "completed"
    },
    "tags": []
   },
   "outputs": [],
   "source": [
    "df = pd.read_sql(\"select * from EBAY_TOP_BERLIN where record_time in (select distinct record_time from EBAY_TOP_BERLIN order by record_time desc limit 2)\", sqlite3.connect(\"UsedObjects.db\"))"
   ]
  },
  {
   "cell_type": "code",
   "execution_count": 5,
   "id": "popular-active",
   "metadata": {
    "execution": {
     "iopub.execute_input": "2021-10-03T17:30:09.388787Z",
     "iopub.status.busy": "2021-10-03T17:30:09.376832Z",
     "iopub.status.idle": "2021-10-03T17:30:09.405304Z",
     "shell.execute_reply": "2021-10-03T17:30:09.406639Z"
    },
    "papermill": {
     "duration": 0.071844,
     "end_time": "2021-10-03T17:30:09.407102",
     "exception": false,
     "start_time": "2021-10-03T17:30:09.335258",
     "status": "completed"
    },
    "tags": []
   },
   "outputs": [],
   "source": [
    "df_pivot = df.pivot_table(index=\"PRODUCT\", columns = \"RECORD_TIME\", values = \"LISTING_COUNT\")"
   ]
  },
  {
   "cell_type": "code",
   "execution_count": 6,
   "id": "union-huntington",
   "metadata": {
    "execution": {
     "iopub.execute_input": "2021-10-03T17:30:09.466064Z",
     "iopub.status.busy": "2021-10-03T17:30:09.463615Z",
     "iopub.status.idle": "2021-10-03T17:30:09.469476Z",
     "shell.execute_reply": "2021-10-03T17:30:09.470895Z"
    },
    "papermill": {
     "duration": 0.042605,
     "end_time": "2021-10-03T17:30:09.471348",
     "exception": false,
     "start_time": "2021-10-03T17:30:09.428743",
     "status": "completed"
    },
    "tags": []
   },
   "outputs": [],
   "source": [
    "df_pivot.columns = [\"stamp_1\", \"stamp_2\"]\n",
    "df_pivot_diff = df_pivot.diff(axis=1)"
   ]
  },
  {
   "cell_type": "code",
   "execution_count": 7,
   "id": "fifth-motion",
   "metadata": {
    "execution": {
     "iopub.execute_input": "2021-10-03T17:30:09.527822Z",
     "iopub.status.busy": "2021-10-03T17:30:09.524024Z",
     "iopub.status.idle": "2021-10-03T17:30:11.009422Z",
     "shell.execute_reply": "2021-10-03T17:30:11.010849Z"
    },
    "papermill": {
     "duration": 1.518242,
     "end_time": "2021-10-03T17:30:11.011333",
     "exception": false,
     "start_time": "2021-10-03T17:30:09.493091",
     "status": "completed"
    },
    "tags": []
   },
   "outputs": [
    {
     "data": {
      "text/plain": [
       "<AxesSubplot:ylabel='PRODUCT'>"
      ]
     },
     "execution_count": 7,
     "metadata": {},
     "output_type": "execute_result"
    },
    {
     "data": {
      "image/png": "[encoded data removed]",
      "text/plain": [
       "<Figure size 432x288 with 1 Axes>"
      ]
     },
     "metadata": {
      "needs_background": "light"
     },
     "output_type": "display_data"
    }
   ],
   "source": [
    "df_pivot_diff.sort_values(\"stamp_2\", ascending = False)[\"stamp_2\"].head(10).plot.barh()"
   ]
  },
  {
   "cell_type": "code",
   "execution_count": null,
   "id": "extra-executive",
   "metadata": {
    "papermill": {
     "duration": 0.022364,
     "end_time": "2021-10-03T17:30:11.058733",
     "exception": false,
     "start_time": "2021-10-03T17:30:11.036369",
     "status": "completed"
    },
    "tags": []
   },
   "outputs": [],
   "source": []
  }
 ],
 "metadata": {
  "kernelspec": {
   "display_name": "Python 3",
   "language": "python",
   "name": "python3"
  },
  "language_info": {
   "codemirror_mode": {
    "name": "ipython",
    "version": 3
   },
   "file_extension": ".py",
   "mimetype": "text/x-python",
   "name": "python",
   "nbconvert_exporter": "python",
   "pygments_lexer": "ipython3",
   "version": "3.9.5"
  },
  "papermill": {
   "default_parameters": {},
   "duration": 7.820139,
   "end_time": "2021-10-03T17:30:12.596038",
   "environment_variables": {},
   "exception": null,
   "input_path": "eBay_Overview.ipynb",
   "output_path": "eBay_Overview.ipynb",
   "parameters": {},
   "start_time": "2021-10-03T17:30:04.775899",
   "version": "2.3.3"
  }
 },
 "nbformat": 4,
 "nbformat_minor": 5
}