{
 "cells": [
  {
   "cell_type": "code",
   "execution_count": 1,
   "id": "reverse-picking",
   "metadata": {
    "execution": {
     "iopub.execute_input": "2021-08-15T06:30:07.295715Z",
     "iopub.status.busy": "2021-08-15T06:30:07.293656Z",
     "iopub.status.idle": "2021-08-15T06:30:08.107026Z",
     "shell.execute_reply": "2021-08-15T06:30:08.105217Z"
    },
    "papermill": {
     "duration": 0.864213,
     "end_time": "2021-08-15T06:30:08.107444",
     "exception": false,
     "start_time": "2021-08-15T06:30:07.243231",
     "status": "completed"
    },
    "tags": []
   },
   "outputs": [],
   "source": [
    "import pandas as pd\n",
    "import sqlite3"
   ]
  },
  {
   "cell_type": "code",
   "execution_count": 2,
   "id": "innovative-syndrome",
   "metadata": {
    "execution": {
     "iopub.execute_input": "2021-08-15T06:30:08.159846Z",
     "iopub.status.busy": "2021-08-15T06:30:08.157398Z",
     "iopub.status.idle": "2021-08-15T06:30:08.211596Z",
     "shell.execute_reply": "2021-08-15T06:30:08.212728Z"
    },
    "papermill": {
     "duration": 0.084197,
     "end_time": "2021-08-15T06:30:08.213136",
     "exception": false,
     "start_time": "2021-08-15T06:30:08.128939",
     "status": "completed"
    },
    "tags": []
   },
   "outputs": [],
   "source": [
    "timestamps = pd.read_sql(\"select distinct record_time from EBAY_TOP_BERLIN order by record_time desc limit 2\", sqlite3.connect(\"UsedObjects.db\"))"
   ]
  },
  {
   "cell_type": "code",
   "execution_count": 3,
   "id": "periodic-identification",
   "metadata": {
    "execution": {
     "iopub.execute_input": "2021-08-15T06:30:08.280767Z",
     "iopub.status.busy": "2021-08-15T06:30:08.278720Z",
     "iopub.status.idle": "2021-08-15T06:30:08.299480Z",
     "shell.execute_reply": "2021-08-15T06:30:08.300772Z"
    },
    "papermill": {
     "duration": 0.066465,
     "end_time": "2021-08-15T06:30:08.301191",
     "exception": false,
     "start_time": "2021-08-15T06:30:08.234726",
     "status": "completed"
    },
    "tags": []
   },
   "outputs": [
    {
     "data": {
      "text/html": [
       "<div>\n",
       "<style scoped>\n",
       "    .dataframe tbody tr th:only-of-type {\n",
       "        vertical-align: middle;\n",
       "    }\n",
       "\n",
       "    .dataframe tbody tr th {\n",
       "        vertical-align: top;\n",
       "    }\n",
       "\n",
       "    .dataframe thead th {\n",
       "        text-align: right;\n",
       "    }\n",
       "</style>\n",
       "<table border=\"1\" class=\"dataframe\">\n",
       "  <thead>\n",
       "    <tr style=\"text-align: right;\">\n",
       "      <th></th>\n",
       "      <th>RECORD_TIME</th>\n",
       "    </tr>\n",
       "  </thead>\n",
       "  <tbody>\n",
       "    <tr>\n",
       "      <th>0</th>\n",
       "      <td>2021-08-15 08:30</td>\n",
       "    </tr>\n",
       "    <tr>\n",
       "      <th>1</th>\n",
       "      <td>2021-08-15 08:00</td>\n",
       "    </tr>\n",
       "  </tbody>\n",
       "</table>\n",
       "</div>"
      ],
      "text/plain": [
       "        RECORD_TIME\n",
       "0  2021-08-15 08:30\n",
       "1  2021-08-15 08:00"
      ]
     },
     "execution_count": 3,
     "metadata": {},
     "output_type": "execute_result"
    }
   ],
   "source": [
    "timestamps"
   ]
  },
  {
   "cell_type": "code",
   "execution_count": 4,
   "id": "alternate-victory",
   "metadata": {
    "execution": {
     "iopub.execute_input": "2021-08-15T06:30:08.352242Z",
     "iopub.status.busy": "2021-08-15T06:30:08.350384Z",
     "iopub.status.idle": "2021-08-15T06:30:08.426929Z",
     "shell.execute_reply": "2021-08-15T06:30:08.428313Z"
    },
    "papermill": {
     "duration": 0.107012,
     "end_time": "2021-08-15T06:30:08.428751",
     "exception": false,
     "start_time": "2021-08-15T06:30:08.321739",
     "status": "completed"
    },
    "tags": []
   },
   "outputs": [],
   "source": [
    "df = pd.read_sql(\"select * from EBAY_TOP_BERLIN where record_time in (select distinct record_time from EBAY_TOP_BERLIN order by record_time desc limit 2)\", sqlite3.connect(\"UsedObjects.db\"))"
   ]
  },
  {
   "cell_type": "code",
   "execution_count": 5,
   "id": "popular-active",
   "metadata": {
    "execution": {
     "iopub.execute_input": "2021-08-15T06:30:08.499454Z",
     "iopub.status.busy": "2021-08-15T06:30:08.487312Z",
     "iopub.status.idle": "2021-08-15T06:30:08.516575Z",
     "shell.execute_reply": "2021-08-15T06:30:08.518286Z"
    },
    "papermill": {
     "duration": 0.069193,
     "end_time": "2021-08-15T06:30:08.518772",
     "exception": false,
     "start_time": "2021-08-15T06:30:08.449579",
     "status": "completed"
    },
    "tags": []
   },
   "outputs": [],
   "source": [
    "df_pivot = df.pivot_table(index=\"PRODUCT\", columns = \"RECORD_TIME\", values = \"LISTING_COUNT\")"
   ]
  },
  {
   "cell_type": "code",
   "execution_count": 6,
   "id": "union-huntington",
   "metadata": {
    "execution": {
     "iopub.execute_input": "2021-08-15T06:30:08.577481Z",
     "iopub.status.busy": "2021-08-15T06:30:08.575156Z",
     "iopub.status.idle": "2021-08-15T06:30:08.581026Z",
     "shell.execute_reply": "2021-08-15T06:30:08.582393Z"
    },
    "papermill": {
     "duration": 0.041882,
     "end_time": "2021-08-15T06:30:08.582819",
     "exception": false,
     "start_time": "2021-08-15T06:30:08.540937",
     "status": "completed"
    },
    "tags": []
   },
   "outputs": [],
   "source": [
    "df_pivot.columns = [\"stamp_1\", \"stamp_2\"]\n",
    "df_pivot_diff = df_pivot.diff(axis=1)"
   ]
  },
  {
   "cell_type": "code",
   "execution_count": 7,
   "id": "fifth-motion",
   "metadata": {
    "execution": {
     "iopub.execute_input": "2021-08-15T06:30:08.637672Z",
     "iopub.status.busy": "2021-08-15T06:30:08.635423Z",
     "iopub.status.idle": "2021-08-15T06:30:10.151960Z",
     "shell.execute_reply": "2021-08-15T06:30:10.153334Z"
    },
    "papermill": {
     "duration": 1.549242,
     "end_time": "2021-08-15T06:30:10.153776",
     "exception": false,
     "start_time": "2021-08-15T06:30:08.604534",
     "status": "completed"
    },
    "tags": []
   },
   "outputs": [
    {
     "data": {
      "text/plain": [
       "<AxesSubplot:ylabel='PRODUCT'>"
      ]
     },
     "execution_count": 7,
     "metadata": {},
     "output_type": "execute_result"
    },
    {
     "data": {
      "image/png": "[encoded data removed]",
      "text/plain": [
       "<Figure size 432x288 with 1 Axes>"
      ]
     },
     "metadata": {
      "needs_background": "light"
     },
     "output_type": "display_data"
    }
   ],
   "source": [
    "df_pivot_diff.sort_values(\"stamp_2\", ascending = False)[\"stamp_2\"].head(10).plot.barh()"
   ]
  },
  {
   "cell_type": "code",
   "execution_count": null,
   "id": "extra-executive",
   "metadata": {
    "papermill": {
     "duration": 0.022114,
     "end_time": "2021-08-15T06:30:10.200378",
     "exception": false,
     "start_time": "2021-08-15T06:30:10.178264",
     "status": "completed"
    },
    "tags": []
   },
   "outputs": [],
   "source": []
  }
 ],
 "metadata": {
  "kernelspec": {
   "display_name": "Python 3",
   "language": "python",
   "name": "python3"
  },
  "language_info": {
   "codemirror_mode": {
    "name": "ipython",
    "version": 3
   },
   "file_extension": ".py",
   "mimetype": "text/x-python",
   "name": "python",
   "nbconvert_exporter": "python",
   "pygments_lexer": "ipython3",
   "version": "3.9.5"
  },
  "papermill": {
   "default_parameters": {},
   "duration": 6.831077,
   "end_time": "2021-08-15T06:30:11.648627",
   "environment_variables": {},
   "exception": null,
   "input_path": "eBay_Overview.ipynb",
   "output_path": "eBay_Overview.ipynb",
   "parameters": {},
   "start_time": "2021-08-15T06:30:04.817550",
   "version": "2.3.3"
  }
 },
 "nbformat": 4,
 "nbformat_minor": 5
}