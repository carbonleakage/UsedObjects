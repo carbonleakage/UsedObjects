{
 "cells": [
  {
   "cell_type": "code",
   "execution_count": 1,
   "id": "reverse-picking",
   "metadata": {
    "execution": {
     "iopub.execute_input": "2021-12-03T01:30:07.811144Z",
     "iopub.status.busy": "2021-12-03T01:30:07.808927Z",
     "iopub.status.idle": "2021-12-03T01:30:08.778720Z",
     "shell.execute_reply": "2021-12-03T01:30:08.780294Z"
    },
    "papermill": {
     "duration": 1.017887,
     "end_time": "2021-12-03T01:30:08.781114",
     "exception": false,
     "start_time": "2021-12-03T01:30:07.763227",
     "status": "completed"
    },
    "tags": []
   },
   "outputs": [],
   "source": [
    "import pandas as pd\n",
    "import sqlite3"
   ]
  },
  {
   "cell_type": "code",
   "execution_count": 2,
   "id": "innovative-syndrome",
   "metadata": {
    "execution": {
     "iopub.execute_input": "2021-12-03T01:30:08.901045Z",
     "iopub.status.busy": "2021-12-03T01:30:08.898660Z",
     "iopub.status.idle": "2021-12-03T01:30:09.877137Z",
     "shell.execute_reply": "2021-12-03T01:30:09.878823Z"
    },
    "papermill": {
     "duration": 1.013839,
     "end_time": "2021-12-03T01:30:09.879389",
     "exception": false,
     "start_time": "2021-12-03T01:30:08.865550",
     "status": "completed"
    },
    "tags": []
   },
   "outputs": [],
   "source": [
    "timestamps = pd.read_sql(\"select distinct record_time from EBAY_TOP_BERLIN order by record_time desc limit 2\", sqlite3.connect(\"UsedObjects.db\"))"
   ]
  },
  {
   "cell_type": "code",
   "execution_count": 3,
   "id": "periodic-identification",
   "metadata": {
    "execution": {
     "iopub.execute_input": "2021-12-03T01:30:09.952486Z",
     "iopub.status.busy": "2021-12-03T01:30:09.949840Z",
     "iopub.status.idle": "2021-12-03T01:30:09.976608Z",
     "shell.execute_reply": "2021-12-03T01:30:09.978150Z"
    },
    "papermill": {
     "duration": 0.079341,
     "end_time": "2021-12-03T01:30:09.978651",
     "exception": false,
     "start_time": "2021-12-03T01:30:09.899310",
     "status": "completed"
    },
    "tags": []
   },
   "outputs": [
    {
     "data": {
      "text/html": [
       "<div>\n",
       "<style scoped>\n",
       "    .dataframe tbody tr th:only-of-type {\n",
       "        vertical-align: middle;\n",
       "    }\n",
       "\n",
       "    .dataframe tbody tr th {\n",
       "        vertical-align: top;\n",
       "    }\n",
       "\n",
       "    .dataframe thead th {\n",
       "        text-align: right;\n",
       "    }\n",
       "</style>\n",
       "<table border=\"1\" class=\"dataframe\">\n",
       "  <thead>\n",
       "    <tr style=\"text-align: right;\">\n",
       "      <th></th>\n",
       "      <th>RECORD_TIME</th>\n",
       "    </tr>\n",
       "  </thead>\n",
       "  <tbody>\n",
       "    <tr>\n",
       "      <th>0</th>\n",
       "      <td>2021-12-03 02:30</td>\n",
       "    </tr>\n",
       "    <tr>\n",
       "      <th>1</th>\n",
       "      <td>2021-12-03 02:00</td>\n",
       "    </tr>\n",
       "  </tbody>\n",
       "</table>\n",
       "</div>"
      ],
      "text/plain": [
       "        RECORD_TIME\n",
       "0  2021-12-03 02:30\n",
       "1  2021-12-03 02:00"
      ]
     },
     "execution_count": 3,
     "metadata": {},
     "output_type": "execute_result"
    }
   ],
   "source": [
    "timestamps"
   ]
  },
  {
   "cell_type": "code",
   "execution_count": 4,
   "id": "alternate-victory",
   "metadata": {
    "execution": {
     "iopub.execute_input": "2021-12-03T01:30:10.035303Z",
     "iopub.status.busy": "2021-12-03T01:30:10.033302Z",
     "iopub.status.idle": "2021-12-03T01:30:11.482505Z",
     "shell.execute_reply": "2021-12-03T01:30:11.483968Z"
    },
    "papermill": {
     "duration": 1.483491,
     "end_time": "2021-12-03T01:30:11.484456",
     "exception": false,
     "start_time": "2021-12-03T01:30:10.000965",
     "status": "completed"
    },
    "tags": []
   },
   "outputs": [],
   "source": [
    "df = pd.read_sql(\"select * from EBAY_TOP_BERLIN where record_time in (select distinct record_time from EBAY_TOP_BERLIN order by record_time desc limit 2)\", sqlite3.connect(\"UsedObjects.db\"))"
   ]
  },
  {
   "cell_type": "code",
   "execution_count": 5,
   "id": "popular-active",
   "metadata": {
    "execution": {
     "iopub.execute_input": "2021-12-03T01:30:11.557819Z",
     "iopub.status.busy": "2021-12-03T01:30:11.555325Z",
     "iopub.status.idle": "2021-12-03T01:30:11.582016Z",
     "shell.execute_reply": "2021-12-03T01:30:11.583378Z"
    },
    "papermill": {
     "duration": 0.077172,
     "end_time": "2021-12-03T01:30:11.583846",
     "exception": false,
     "start_time": "2021-12-03T01:30:11.506674",
     "status": "completed"
    },
    "tags": []
   },
   "outputs": [],
   "source": [
    "df_pivot = df.pivot_table(index=\"PRODUCT\", columns = \"RECORD_TIME\", values = \"LISTING_COUNT\")"
   ]
  },
  {
   "cell_type": "code",
   "execution_count": 6,
   "id": "union-huntington",
   "metadata": {
    "execution": {
     "iopub.execute_input": "2021-12-03T01:30:11.642475Z",
     "iopub.status.busy": "2021-12-03T01:30:11.640196Z",
     "iopub.status.idle": "2021-12-03T01:30:11.646200Z",
     "shell.execute_reply": "2021-12-03T01:30:11.647568Z"
    },
    "papermill": {
     "duration": 0.04435,
     "end_time": "2021-12-03T01:30:11.648042",
     "exception": false,
     "start_time": "2021-12-03T01:30:11.603692",
     "status": "completed"
    },
    "tags": []
   },
   "outputs": [],
   "source": [
    "df_pivot.columns = [\"stamp_1\", \"stamp_2\"]\n",
    "df_pivot_diff = df_pivot.diff(axis=1)"
   ]
  },
  {
   "cell_type": "code",
   "execution_count": 7,
   "id": "fifth-motion",
   "metadata": {
    "execution": {
     "iopub.execute_input": "2021-12-03T01:30:11.708010Z",
     "iopub.status.busy": "2021-12-03T01:30:11.705472Z",
     "iopub.status.idle": "2021-12-03T01:30:13.372135Z",
     "shell.execute_reply": "2021-12-03T01:30:13.374044Z"
    },
    "papermill": {
     "duration": 1.705801,
     "end_time": "2021-12-03T01:30:13.374593",
     "exception": false,
     "start_time": "2021-12-03T01:30:11.668792",
     "status": "completed"
    },
    "tags": []
   },
   "outputs": [
    {
     "data": {
      "text/plain": [
       "<AxesSubplot:ylabel='PRODUCT'>"
      ]
     },
     "execution_count": 7,
     "metadata": {},
     "output_type": "execute_result"
    },
    {
     "data": {
      "image/png": "[encoded data removed]",
      "text/plain": [
       "<Figure size 432x288 with 1 Axes>"
      ]
     },
     "metadata": {
      "needs_background": "light"
     },
     "output_type": "display_data"
    }
   ],
   "source": [
    "df_pivot_diff.sort_values(\"stamp_2\", ascending = False)[\"stamp_2\"].head(10).plot.barh()"
   ]
  },
  {
   "cell_type": "code",
   "execution_count": null,
   "id": "extra-executive",
   "metadata": {
    "papermill": {
     "duration": 0.02225,
     "end_time": "2021-12-03T01:30:13.422238",
     "exception": false,
     "start_time": "2021-12-03T01:30:13.399988",
     "status": "completed"
    },
    "tags": []
   },
   "outputs": [],
   "source": []
  }
 ],
 "metadata": {
  "kernelspec": {
   "display_name": "Python 3",
   "language": "python",
   "name": "python3"
  },
  "language_info": {
   "codemirror_mode": {
    "name": "ipython",
    "version": 3
   },
   "file_extension": ".py",
   "mimetype": "text/x-python",
   "name": "python",
   "nbconvert_exporter": "python",
   "pygments_lexer": "ipython3",
   "version": "3.9.5"
  },
  "papermill": {
   "default_parameters": {},
   "duration": 9.959329,
   "end_time": "2021-12-03T01:30:14.958262",
   "environment_variables": {},
   "exception": null,
   "input_path": "eBay_Overview.ipynb",
   "output_path": "eBay_Overview.ipynb",
   "parameters": {},
   "start_time": "2021-12-03T01:30:04.998933",
   "version": "2.3.3"
  }
 },
 "nbformat": 4,
 "nbformat_minor": 5
}