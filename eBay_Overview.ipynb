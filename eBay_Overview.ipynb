{
 "cells": [
  {
   "cell_type": "code",
   "execution_count": 1,
   "id": "reverse-picking",
   "metadata": {
    "execution": {
     "iopub.execute_input": "2021-10-14T09:00:07.283036Z",
     "iopub.status.busy": "2021-10-14T09:00:07.281099Z",
     "iopub.status.idle": "2021-10-14T09:00:08.087843Z",
     "shell.execute_reply": "2021-10-14T09:00:08.089209Z"
    },
    "papermill": {
     "duration": 0.859139,
     "end_time": "2021-10-14T09:00:08.089845",
     "exception": false,
     "start_time": "2021-10-14T09:00:07.230706",
     "status": "completed"
    },
    "tags": []
   },
   "outputs": [],
   "source": [
    "import pandas as pd\n",
    "import sqlite3"
   ]
  },
  {
   "cell_type": "code",
   "execution_count": 2,
   "id": "innovative-syndrome",
   "metadata": {
    "execution": {
     "iopub.execute_input": "2021-10-14T09:00:08.140186Z",
     "iopub.status.busy": "2021-10-14T09:00:08.138279Z",
     "iopub.status.idle": "2021-10-14T09:00:08.682735Z",
     "shell.execute_reply": "2021-10-14T09:00:08.684002Z"
    },
    "papermill": {
     "duration": 0.573842,
     "end_time": "2021-10-14T09:00:08.684414",
     "exception": false,
     "start_time": "2021-10-14T09:00:08.110572",
     "status": "completed"
    },
    "tags": []
   },
   "outputs": [],
   "source": [
    "timestamps = pd.read_sql(\"select distinct record_time from EBAY_TOP_BERLIN order by record_time desc limit 2\", sqlite3.connect(\"UsedObjects.db\"))"
   ]
  },
  {
   "cell_type": "code",
   "execution_count": 3,
   "id": "periodic-identification",
   "metadata": {
    "execution": {
     "iopub.execute_input": "2021-10-14T09:00:08.757716Z",
     "iopub.status.busy": "2021-10-14T09:00:08.755578Z",
     "iopub.status.idle": "2021-10-14T09:00:08.778043Z",
     "shell.execute_reply": "2021-10-14T09:00:08.776375Z"
    },
    "papermill": {
     "duration": 0.074749,
     "end_time": "2021-10-14T09:00:08.778575",
     "exception": false,
     "start_time": "2021-10-14T09:00:08.703826",
     "status": "completed"
    },
    "tags": []
   },
   "outputs": [
    {
     "data": {
      "text/html": [
       "<div>\n",
       "<style scoped>\n",
       "    .dataframe tbody tr th:only-of-type {\n",
       "        vertical-align: middle;\n",
       "    }\n",
       "\n",
       "    .dataframe tbody tr th {\n",
       "        vertical-align: top;\n",
       "    }\n",
       "\n",
       "    .dataframe thead th {\n",
       "        text-align: right;\n",
       "    }\n",
       "</style>\n",
       "<table border=\"1\" class=\"dataframe\">\n",
       "  <thead>\n",
       "    <tr style=\"text-align: right;\">\n",
       "      <th></th>\n",
       "      <th>RECORD_TIME</th>\n",
       "    </tr>\n",
       "  </thead>\n",
       "  <tbody>\n",
       "    <tr>\n",
       "      <th>0</th>\n",
       "      <td>2021-10-14 11:00</td>\n",
       "    </tr>\n",
       "    <tr>\n",
       "      <th>1</th>\n",
       "      <td>2021-10-14 10:30</td>\n",
       "    </tr>\n",
       "  </tbody>\n",
       "</table>\n",
       "</div>"
      ],
      "text/plain": [
       "        RECORD_TIME\n",
       "0  2021-10-14 11:00\n",
       "1  2021-10-14 10:30"
      ]
     },
     "execution_count": 3,
     "metadata": {},
     "output_type": "execute_result"
    }
   ],
   "source": [
    "timestamps"
   ]
  },
  {
   "cell_type": "code",
   "execution_count": 4,
   "id": "alternate-victory",
   "metadata": {
    "execution": {
     "iopub.execute_input": "2021-10-14T09:00:08.832124Z",
     "iopub.status.busy": "2021-10-14T09:00:08.830205Z",
     "iopub.status.idle": "2021-10-14T09:00:09.617233Z",
     "shell.execute_reply": "2021-10-14T09:00:09.618750Z"
    },
    "papermill": {
     "duration": 0.81769,
     "end_time": "2021-10-14T09:00:09.619199",
     "exception": false,
     "start_time": "2021-10-14T09:00:08.801509",
     "status": "completed"
    },
    "tags": []
   },
   "outputs": [],
   "source": [
    "df = pd.read_sql(\"select * from EBAY_TOP_BERLIN where record_time in (select distinct record_time from EBAY_TOP_BERLIN order by record_time desc limit 2)\", sqlite3.connect(\"UsedObjects.db\"))"
   ]
  },
  {
   "cell_type": "code",
   "execution_count": 5,
   "id": "popular-active",
   "metadata": {
    "execution": {
     "iopub.execute_input": "2021-10-14T09:00:09.685844Z",
     "iopub.status.busy": "2021-10-14T09:00:09.678450Z",
     "iopub.status.idle": "2021-10-14T09:00:09.707143Z",
     "shell.execute_reply": "2021-10-14T09:00:09.708363Z"
    },
    "papermill": {
     "duration": 0.068508,
     "end_time": "2021-10-14T09:00:09.708926",
     "exception": false,
     "start_time": "2021-10-14T09:00:09.640418",
     "status": "completed"
    },
    "tags": []
   },
   "outputs": [],
   "source": [
    "df_pivot = df.pivot_table(index=\"PRODUCT\", columns = \"RECORD_TIME\", values = \"LISTING_COUNT\")"
   ]
  },
  {
   "cell_type": "code",
   "execution_count": 6,
   "id": "union-huntington",
   "metadata": {
    "execution": {
     "iopub.execute_input": "2021-10-14T09:00:09.768102Z",
     "iopub.status.busy": "2021-10-14T09:00:09.765643Z",
     "iopub.status.idle": "2021-10-14T09:00:09.772897Z",
     "shell.execute_reply": "2021-10-14T09:00:09.771452Z"
    },
    "papermill": {
     "duration": 0.042216,
     "end_time": "2021-10-14T09:00:09.773263",
     "exception": false,
     "start_time": "2021-10-14T09:00:09.731047",
     "status": "completed"
    },
    "tags": []
   },
   "outputs": [],
   "source": [
    "df_pivot.columns = [\"stamp_1\", \"stamp_2\"]\n",
    "df_pivot_diff = df_pivot.diff(axis=1)"
   ]
  },
  {
   "cell_type": "code",
   "execution_count": 7,
   "id": "fifth-motion",
   "metadata": {
    "execution": {
     "iopub.execute_input": "2021-10-14T09:00:09.827156Z",
     "iopub.status.busy": "2021-10-14T09:00:09.824886Z",
     "iopub.status.idle": "2021-10-14T09:00:11.321273Z",
     "shell.execute_reply": "2021-10-14T09:00:11.322667Z"
    },
    "papermill": {
     "duration": 1.529809,
     "end_time": "2021-10-14T09:00:11.323086",
     "exception": false,
     "start_time": "2021-10-14T09:00:09.793277",
     "status": "completed"
    },
    "tags": []
   },
   "outputs": [
    {
     "data": {
      "text/plain": [
       "<AxesSubplot:ylabel='PRODUCT'>"
      ]
     },
     "execution_count": 7,
     "metadata": {},
     "output_type": "execute_result"
    },
    {
     "data": {
      "image/png": "[encoded data removed]",
      "text/plain": [
       "<Figure size 432x288 with 1 Axes>"
      ]
     },
     "metadata": {
      "needs_background": "light"
     },
     "output_type": "display_data"
    }
   ],
   "source": [
    "df_pivot_diff.sort_values(\"stamp_2\", ascending = False)[\"stamp_2\"].head(10).plot.barh()"
   ]
  },
  {
   "cell_type": "code",
   "execution_count": null,
   "id": "extra-executive",
   "metadata": {
    "papermill": {
     "duration": 0.022261,
     "end_time": "2021-10-14T09:00:11.369926",
     "exception": false,
     "start_time": "2021-10-14T09:00:11.347665",
     "status": "completed"
    },
    "tags": []
   },
   "outputs": [],
   "source": []
  }
 ],
 "metadata": {
  "kernelspec": {
   "display_name": "Python 3",
   "language": "python",
   "name": "python3"
  },
  "language_info": {
   "codemirror_mode": {
    "name": "ipython",
    "version": 3
   },
   "file_extension": ".py",
   "mimetype": "text/x-python",
   "name": "python",
   "nbconvert_exporter": "python",
   "pygments_lexer": "ipython3",
   "version": "3.9.5"
  },
  "papermill": {
   "default_parameters": {},
   "duration": 7.817996,
   "end_time": "2021-10-14T09:00:12.643588",
   "environment_variables": {},
   "exception": null,
   "input_path": "eBay_Overview.ipynb",
   "output_path": "eBay_Overview.ipynb",
   "parameters": {},
   "start_time": "2021-10-14T09:00:04.825592",
   "version": "2.3.3"
  }
 },
 "nbformat": 4,
 "nbformat_minor": 5
}