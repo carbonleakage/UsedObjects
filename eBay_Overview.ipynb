{
 "cells": [
  {
   "cell_type": "code",
   "execution_count": 1,
   "id": "reverse-picking",
   "metadata": {
    "execution": {
     "iopub.execute_input": "2021-12-05T13:00:08.134694Z",
     "iopub.status.busy": "2021-12-05T13:00:08.132257Z",
     "iopub.status.idle": "2021-12-05T13:00:09.153787Z",
     "shell.execute_reply": "2021-12-05T13:00:09.155354Z"
    },
    "papermill": {
     "duration": 1.073059,
     "end_time": "2021-12-05T13:00:09.156105",
     "exception": false,
     "start_time": "2021-12-05T13:00:08.083046",
     "status": "completed"
    },
    "tags": []
   },
   "outputs": [],
   "source": [
    "import pandas as pd\n",
    "import sqlite3"
   ]
  },
  {
   "cell_type": "code",
   "execution_count": 2,
   "id": "innovative-syndrome",
   "metadata": {
    "execution": {
     "iopub.execute_input": "2021-12-05T13:00:09.212008Z",
     "iopub.status.busy": "2021-12-05T13:00:09.209583Z",
     "iopub.status.idle": "2021-12-05T13:00:10.210085Z",
     "shell.execute_reply": "2021-12-05T13:00:10.211472Z"
    },
    "papermill": {
     "duration": 1.034171,
     "end_time": "2021-12-05T13:00:10.211914",
     "exception": false,
     "start_time": "2021-12-05T13:00:09.177743",
     "status": "completed"
    },
    "tags": []
   },
   "outputs": [],
   "source": [
    "timestamps = pd.read_sql(\"select distinct record_time from EBAY_TOP_BERLIN order by record_time desc limit 2\", sqlite3.connect(\"UsedObjects.db\"))"
   ]
  },
  {
   "cell_type": "code",
   "execution_count": 3,
   "id": "periodic-identification",
   "metadata": {
    "execution": {
     "iopub.execute_input": "2021-12-05T13:00:10.278648Z",
     "iopub.status.busy": "2021-12-05T13:00:10.276543Z",
     "iopub.status.idle": "2021-12-05T13:00:10.297211Z",
     "shell.execute_reply": "2021-12-05T13:00:10.298423Z"
    },
    "papermill": {
     "duration": 0.067216,
     "end_time": "2021-12-05T13:00:10.298860",
     "exception": false,
     "start_time": "2021-12-05T13:00:10.231644",
     "status": "completed"
    },
    "tags": []
   },
   "outputs": [
    {
     "data": {
      "text/html": [
       "<div>\n",
       "<style scoped>\n",
       "    .dataframe tbody tr th:only-of-type {\n",
       "        vertical-align: middle;\n",
       "    }\n",
       "\n",
       "    .dataframe tbody tr th {\n",
       "        vertical-align: top;\n",
       "    }\n",
       "\n",
       "    .dataframe thead th {\n",
       "        text-align: right;\n",
       "    }\n",
       "</style>\n",
       "<table border=\"1\" class=\"dataframe\">\n",
       "  <thead>\n",
       "    <tr style=\"text-align: right;\">\n",
       "      <th></th>\n",
       "      <th>RECORD_TIME</th>\n",
       "    </tr>\n",
       "  </thead>\n",
       "  <tbody>\n",
       "    <tr>\n",
       "      <th>0</th>\n",
       "      <td>2021-12-05 14:00</td>\n",
       "    </tr>\n",
       "    <tr>\n",
       "      <th>1</th>\n",
       "      <td>2021-12-05 13:30</td>\n",
       "    </tr>\n",
       "  </tbody>\n",
       "</table>\n",
       "</div>"
      ],
      "text/plain": [
       "        RECORD_TIME\n",
       "0  2021-12-05 14:00\n",
       "1  2021-12-05 13:30"
      ]
     },
     "execution_count": 3,
     "metadata": {},
     "output_type": "execute_result"
    }
   ],
   "source": [
    "timestamps"
   ]
  },
  {
   "cell_type": "code",
   "execution_count": 4,
   "id": "alternate-victory",
   "metadata": {
    "execution": {
     "iopub.execute_input": "2021-12-05T13:00:10.352986Z",
     "iopub.status.busy": "2021-12-05T13:00:10.350378Z",
     "iopub.status.idle": "2021-12-05T13:00:11.856741Z",
     "shell.execute_reply": "2021-12-05T13:00:11.858105Z"
    },
    "papermill": {
     "duration": 1.537205,
     "end_time": "2021-12-05T13:00:11.858578",
     "exception": false,
     "start_time": "2021-12-05T13:00:10.321373",
     "status": "completed"
    },
    "tags": []
   },
   "outputs": [],
   "source": [
    "df = pd.read_sql(\"select * from EBAY_TOP_BERLIN where record_time in (select distinct record_time from EBAY_TOP_BERLIN order by record_time desc limit 2)\", sqlite3.connect(\"UsedObjects.db\"))"
   ]
  },
  {
   "cell_type": "code",
   "execution_count": 5,
   "id": "popular-active",
   "metadata": {
    "execution": {
     "iopub.execute_input": "2021-12-05T13:00:11.933125Z",
     "iopub.status.busy": "2021-12-05T13:00:11.919109Z",
     "iopub.status.idle": "2021-12-05T13:00:11.956288Z",
     "shell.execute_reply": "2021-12-05T13:00:11.954127Z"
    },
    "papermill": {
     "duration": 0.078,
     "end_time": "2021-12-05T13:00:11.956984",
     "exception": false,
     "start_time": "2021-12-05T13:00:11.878984",
     "status": "completed"
    },
    "tags": []
   },
   "outputs": [],
   "source": [
    "df_pivot = df.pivot_table(index=\"PRODUCT\", columns = \"RECORD_TIME\", values = \"LISTING_COUNT\")"
   ]
  },
  {
   "cell_type": "code",
   "execution_count": 6,
   "id": "union-huntington",
   "metadata": {
    "execution": {
     "iopub.execute_input": "2021-12-05T13:00:12.196509Z",
     "iopub.status.busy": "2021-12-05T13:00:12.194120Z",
     "iopub.status.idle": "2021-12-05T13:00:12.201557Z",
     "shell.execute_reply": "2021-12-05T13:00:12.203294Z"
    },
    "papermill": {
     "duration": 0.14047,
     "end_time": "2021-12-05T13:00:12.203835",
     "exception": false,
     "start_time": "2021-12-05T13:00:12.063365",
     "status": "completed"
    },
    "tags": []
   },
   "outputs": [],
   "source": [
    "df_pivot.columns = [\"stamp_1\", \"stamp_2\"]\n",
    "df_pivot_diff = df_pivot.diff(axis=1)"
   ]
  },
  {
   "cell_type": "code",
   "execution_count": 7,
   "id": "fifth-motion",
   "metadata": {
    "execution": {
     "iopub.execute_input": "2021-12-05T13:00:12.262590Z",
     "iopub.status.busy": "2021-12-05T13:00:12.260028Z",
     "iopub.status.idle": "2021-12-05T13:00:14.284993Z",
     "shell.execute_reply": "2021-12-05T13:00:14.287007Z"
    },
    "papermill": {
     "duration": 2.061304,
     "end_time": "2021-12-05T13:00:14.287591",
     "exception": false,
     "start_time": "2021-12-05T13:00:12.226287",
     "status": "completed"
    },
    "tags": []
   },
   "outputs": [
    {
     "data": {
      "text/plain": [
       "<AxesSubplot:ylabel='PRODUCT'>"
      ]
     },
     "execution_count": 7,
     "metadata": {},
     "output_type": "execute_result"
    },
    {
     "data": {
      "image/png": "[encoded data removed]",
      "text/plain": [
       "<Figure size 432x288 with 1 Axes>"
      ]
     },
     "metadata": {
      "needs_background": "light"
     },
     "output_type": "display_data"
    }
   ],
   "source": [
    "df_pivot_diff.sort_values(\"stamp_2\", ascending = False)[\"stamp_2\"].head(10).plot.barh()"
   ]
  },
  {
   "cell_type": "code",
   "execution_count": null,
   "id": "extra-executive",
   "metadata": {
    "papermill": {
     "duration": 0.021989,
     "end_time": "2021-12-05T13:00:14.334776",
     "exception": false,
     "start_time": "2021-12-05T13:00:14.312787",
     "status": "completed"
    },
    "tags": []
   },
   "outputs": [],
   "source": []
  }
 ],
 "metadata": {
  "kernelspec": {
   "display_name": "Python 3",
   "language": "python",
   "name": "python3"
  },
  "language_info": {
   "codemirror_mode": {
    "name": "ipython",
    "version": 3
   },
   "file_extension": ".py",
   "mimetype": "text/x-python",
   "name": "python",
   "nbconvert_exporter": "python",
   "pygments_lexer": "ipython3",
   "version": "3.9.5"
  },
  "papermill": {
   "default_parameters": {},
   "duration": 9.620732,
   "end_time": "2021-12-05T13:00:14.976393",
   "environment_variables": {},
   "exception": null,
   "input_path": "eBay_Overview.ipynb",
   "output_path": "eBay_Overview.ipynb",
   "parameters": {},
   "start_time": "2021-12-05T13:00:05.355661",
   "version": "2.3.3"
  }
 },
 "nbformat": 4,
 "nbformat_minor": 5
}