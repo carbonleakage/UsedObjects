{
 "cells": [
  {
   "cell_type": "code",
   "execution_count": 1,
   "id": "reverse-picking",
   "metadata": {
    "execution": {
     "iopub.execute_input": "2021-09-18T16:30:06.821201Z",
     "iopub.status.busy": "2021-09-18T16:30:06.819243Z",
     "iopub.status.idle": "2021-09-18T16:30:07.619684Z",
     "shell.execute_reply": "2021-09-18T16:30:07.621168Z"
    },
    "papermill": {
     "duration": 0.854383,
     "end_time": "2021-09-18T16:30:07.621844",
     "exception": false,
     "start_time": "2021-09-18T16:30:06.767461",
     "status": "completed"
    },
    "tags": []
   },
   "outputs": [],
   "source": [
    "import pandas as pd\n",
    "import sqlite3"
   ]
  },
  {
   "cell_type": "code",
   "execution_count": 2,
   "id": "innovative-syndrome",
   "metadata": {
    "execution": {
     "iopub.execute_input": "2021-09-18T16:30:07.672792Z",
     "iopub.status.busy": "2021-09-18T16:30:07.670371Z",
     "iopub.status.idle": "2021-09-18T16:30:07.988937Z",
     "shell.execute_reply": "2021-09-18T16:30:07.990119Z"
    },
    "papermill": {
     "duration": 0.348368,
     "end_time": "2021-09-18T16:30:07.990515",
     "exception": false,
     "start_time": "2021-09-18T16:30:07.642147",
     "status": "completed"
    },
    "tags": []
   },
   "outputs": [],
   "source": [
    "timestamps = pd.read_sql(\"select distinct record_time from EBAY_TOP_BERLIN order by record_time desc limit 2\", sqlite3.connect(\"UsedObjects.db\"))"
   ]
  },
  {
   "cell_type": "code",
   "execution_count": 3,
   "id": "periodic-identification",
   "metadata": {
    "execution": {
     "iopub.execute_input": "2021-09-18T16:30:08.054246Z",
     "iopub.status.busy": "2021-09-18T16:30:08.052254Z",
     "iopub.status.idle": "2021-09-18T16:30:08.071832Z",
     "shell.execute_reply": "2021-09-18T16:30:08.073103Z"
    },
    "papermill": {
     "duration": 0.063654,
     "end_time": "2021-09-18T16:30:08.073498",
     "exception": false,
     "start_time": "2021-09-18T16:30:08.009844",
     "status": "completed"
    },
    "tags": []
   },
   "outputs": [
    {
     "data": {
      "text/html": [
       "<div>\n",
       "<style scoped>\n",
       "    .dataframe tbody tr th:only-of-type {\n",
       "        vertical-align: middle;\n",
       "    }\n",
       "\n",
       "    .dataframe tbody tr th {\n",
       "        vertical-align: top;\n",
       "    }\n",
       "\n",
       "    .dataframe thead th {\n",
       "        text-align: right;\n",
       "    }\n",
       "</style>\n",
       "<table border=\"1\" class=\"dataframe\">\n",
       "  <thead>\n",
       "    <tr style=\"text-align: right;\">\n",
       "      <th></th>\n",
       "      <th>RECORD_TIME</th>\n",
       "    </tr>\n",
       "  </thead>\n",
       "  <tbody>\n",
       "    <tr>\n",
       "      <th>0</th>\n",
       "      <td>2021-09-18 18:30</td>\n",
       "    </tr>\n",
       "    <tr>\n",
       "      <th>1</th>\n",
       "      <td>2021-09-18 18:00</td>\n",
       "    </tr>\n",
       "  </tbody>\n",
       "</table>\n",
       "</div>"
      ],
      "text/plain": [
       "        RECORD_TIME\n",
       "0  2021-09-18 18:30\n",
       "1  2021-09-18 18:00"
      ]
     },
     "execution_count": 3,
     "metadata": {},
     "output_type": "execute_result"
    }
   ],
   "source": [
    "timestamps"
   ]
  },
  {
   "cell_type": "code",
   "execution_count": 4,
   "id": "alternate-victory",
   "metadata": {
    "execution": {
     "iopub.execute_input": "2021-09-18T16:30:08.125731Z",
     "iopub.status.busy": "2021-09-18T16:30:08.123464Z",
     "iopub.status.idle": "2021-09-18T16:30:08.602918Z",
     "shell.execute_reply": "2021-09-18T16:30:08.604473Z"
    },
    "papermill": {
     "duration": 0.509918,
     "end_time": "2021-09-18T16:30:08.604928",
     "exception": false,
     "start_time": "2021-09-18T16:30:08.095010",
     "status": "completed"
    },
    "tags": []
   },
   "outputs": [],
   "source": [
    "df = pd.read_sql(\"select * from EBAY_TOP_BERLIN where record_time in (select distinct record_time from EBAY_TOP_BERLIN order by record_time desc limit 2)\", sqlite3.connect(\"UsedObjects.db\"))"
   ]
  },
  {
   "cell_type": "code",
   "execution_count": 5,
   "id": "popular-active",
   "metadata": {
    "execution": {
     "iopub.execute_input": "2021-09-18T16:30:08.679978Z",
     "iopub.status.busy": "2021-09-18T16:30:08.667433Z",
     "iopub.status.idle": "2021-09-18T16:30:08.695530Z",
     "shell.execute_reply": "2021-09-18T16:30:08.696741Z"
    },
    "papermill": {
     "duration": 0.069156,
     "end_time": "2021-09-18T16:30:08.697134",
     "exception": false,
     "start_time": "2021-09-18T16:30:08.627978",
     "status": "completed"
    },
    "tags": []
   },
   "outputs": [],
   "source": [
    "df_pivot = df.pivot_table(index=\"PRODUCT\", columns = \"RECORD_TIME\", values = \"LISTING_COUNT\")"
   ]
  },
  {
   "cell_type": "code",
   "execution_count": 6,
   "id": "union-huntington",
   "metadata": {
    "execution": {
     "iopub.execute_input": "2021-09-18T16:30:08.753242Z",
     "iopub.status.busy": "2021-09-18T16:30:08.751206Z",
     "iopub.status.idle": "2021-09-18T16:30:08.756366Z",
     "shell.execute_reply": "2021-09-18T16:30:08.757622Z"
    },
    "papermill": {
     "duration": 0.039655,
     "end_time": "2021-09-18T16:30:08.758032",
     "exception": false,
     "start_time": "2021-09-18T16:30:08.718377",
     "status": "completed"
    },
    "tags": []
   },
   "outputs": [],
   "source": [
    "df_pivot.columns = [\"stamp_1\", \"stamp_2\"]\n",
    "df_pivot_diff = df_pivot.diff(axis=1)"
   ]
  },
  {
   "cell_type": "code",
   "execution_count": 7,
   "id": "fifth-motion",
   "metadata": {
    "execution": {
     "iopub.execute_input": "2021-09-18T16:30:08.811471Z",
     "iopub.status.busy": "2021-09-18T16:30:08.808815Z",
     "iopub.status.idle": "2021-09-18T16:30:10.284417Z",
     "shell.execute_reply": "2021-09-18T16:30:10.285706Z"
    },
    "papermill": {
     "duration": 1.508036,
     "end_time": "2021-09-18T16:30:10.286125",
     "exception": false,
     "start_time": "2021-09-18T16:30:08.778089",
     "status": "completed"
    },
    "tags": []
   },
   "outputs": [
    {
     "data": {
      "text/plain": [
       "<AxesSubplot:ylabel='PRODUCT'>"
      ]
     },
     "execution_count": 7,
     "metadata": {},
     "output_type": "execute_result"
    },
    {
     "data": {
      "image/png": "[encoded data removed]",
      "text/plain": [
       "<Figure size 432x288 with 1 Axes>"
      ]
     },
     "metadata": {
      "needs_background": "light"
     },
     "output_type": "display_data"
    }
   ],
   "source": [
    "df_pivot_diff.sort_values(\"stamp_2\", ascending = False)[\"stamp_2\"].head(10).plot.barh()"
   ]
  },
  {
   "cell_type": "code",
   "execution_count": null,
   "id": "extra-executive",
   "metadata": {
    "papermill": {
     "duration": 0.021997,
     "end_time": "2021-09-18T16:30:10.331728",
     "exception": false,
     "start_time": "2021-09-18T16:30:10.309731",
     "status": "completed"
    },
    "tags": []
   },
   "outputs": [],
   "source": []
  }
 ],
 "metadata": {
  "kernelspec": {
   "display_name": "Python 3",
   "language": "python",
   "name": "python3"
  },
  "language_info": {
   "codemirror_mode": {
    "name": "ipython",
    "version": 3
   },
   "file_extension": ".py",
   "mimetype": "text/x-python",
   "name": "python",
   "nbconvert_exporter": "python",
   "pygments_lexer": "ipython3",
   "version": "3.9.5"
  },
  "papermill": {
   "default_parameters": {},
   "duration": 6.593306,
   "end_time": "2021-09-18T16:30:10.972233",
   "environment_variables": {},
   "exception": null,
   "input_path": "eBay_Overview.ipynb",
   "output_path": "eBay_Overview.ipynb",
   "parameters": {},
   "start_time": "2021-09-18T16:30:04.378927",
   "version": "2.3.3"
  }
 },
 "nbformat": 4,
 "nbformat_minor": 5
}