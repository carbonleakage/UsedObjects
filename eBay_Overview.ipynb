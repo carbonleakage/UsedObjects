{
 "cells": [
  {
   "cell_type": "code",
   "execution_count": 1,
   "id": "reverse-picking",
   "metadata": {
    "execution": {
     "iopub.execute_input": "2021-10-04T11:30:07.572429Z",
     "iopub.status.busy": "2021-10-04T11:30:07.570427Z",
     "iopub.status.idle": "2021-10-04T11:30:08.375780Z",
     "shell.execute_reply": "2021-10-04T11:30:08.377061Z"
    },
    "papermill": {
     "duration": 0.855271,
     "end_time": "2021-10-04T11:30:08.377677",
     "exception": false,
     "start_time": "2021-10-04T11:30:07.522406",
     "status": "completed"
    },
    "tags": []
   },
   "outputs": [],
   "source": [
    "import pandas as pd\n",
    "import sqlite3"
   ]
  },
  {
   "cell_type": "code",
   "execution_count": 2,
   "id": "innovative-syndrome",
   "metadata": {
    "execution": {
     "iopub.execute_input": "2021-10-04T11:30:08.431027Z",
     "iopub.status.busy": "2021-10-04T11:30:08.428673Z",
     "iopub.status.idle": "2021-10-04T11:30:08.875469Z",
     "shell.execute_reply": "2021-10-04T11:30:08.876697Z"
    },
    "papermill": {
     "duration": 0.476559,
     "end_time": "2021-10-04T11:30:08.877091",
     "exception": false,
     "start_time": "2021-10-04T11:30:08.400532",
     "status": "completed"
    },
    "tags": []
   },
   "outputs": [],
   "source": [
    "timestamps = pd.read_sql(\"select distinct record_time from EBAY_TOP_BERLIN order by record_time desc limit 2\", sqlite3.connect(\"UsedObjects.db\"))"
   ]
  },
  {
   "cell_type": "code",
   "execution_count": 3,
   "id": "periodic-identification",
   "metadata": {
    "execution": {
     "iopub.execute_input": "2021-10-04T11:30:08.942757Z",
     "iopub.status.busy": "2021-10-04T11:30:08.940446Z",
     "iopub.status.idle": "2021-10-04T11:30:08.960034Z",
     "shell.execute_reply": "2021-10-04T11:30:08.961247Z"
    },
    "papermill": {
     "duration": 0.063952,
     "end_time": "2021-10-04T11:30:08.961641",
     "exception": false,
     "start_time": "2021-10-04T11:30:08.897689",
     "status": "completed"
    },
    "tags": []
   },
   "outputs": [
    {
     "data": {
      "text/html": [
       "<div>\n",
       "<style scoped>\n",
       "    .dataframe tbody tr th:only-of-type {\n",
       "        vertical-align: middle;\n",
       "    }\n",
       "\n",
       "    .dataframe tbody tr th {\n",
       "        vertical-align: top;\n",
       "    }\n",
       "\n",
       "    .dataframe thead th {\n",
       "        text-align: right;\n",
       "    }\n",
       "</style>\n",
       "<table border=\"1\" class=\"dataframe\">\n",
       "  <thead>\n",
       "    <tr style=\"text-align: right;\">\n",
       "      <th></th>\n",
       "      <th>RECORD_TIME</th>\n",
       "    </tr>\n",
       "  </thead>\n",
       "  <tbody>\n",
       "    <tr>\n",
       "      <th>0</th>\n",
       "      <td>2021-10-04 13:30</td>\n",
       "    </tr>\n",
       "    <tr>\n",
       "      <th>1</th>\n",
       "      <td>2021-10-04 13:00</td>\n",
       "    </tr>\n",
       "  </tbody>\n",
       "</table>\n",
       "</div>"
      ],
      "text/plain": [
       "        RECORD_TIME\n",
       "0  2021-10-04 13:30\n",
       "1  2021-10-04 13:00"
      ]
     },
     "execution_count": 3,
     "metadata": {},
     "output_type": "execute_result"
    }
   ],
   "source": [
    "timestamps"
   ]
  },
  {
   "cell_type": "code",
   "execution_count": 4,
   "id": "alternate-victory",
   "metadata": {
    "execution": {
     "iopub.execute_input": "2021-10-04T11:30:09.021614Z",
     "iopub.status.busy": "2021-10-04T11:30:09.019173Z",
     "iopub.status.idle": "2021-10-04T11:30:09.684251Z",
     "shell.execute_reply": "2021-10-04T11:30:09.685531Z"
    },
    "papermill": {
     "duration": 0.702936,
     "end_time": "2021-10-04T11:30:09.685947",
     "exception": false,
     "start_time": "2021-10-04T11:30:08.983011",
     "status": "completed"
    },
    "tags": []
   },
   "outputs": [],
   "source": [
    "df = pd.read_sql(\"select * from EBAY_TOP_BERLIN where record_time in (select distinct record_time from EBAY_TOP_BERLIN order by record_time desc limit 2)\", sqlite3.connect(\"UsedObjects.db\"))"
   ]
  },
  {
   "cell_type": "code",
   "execution_count": 5,
   "id": "popular-active",
   "metadata": {
    "execution": {
     "iopub.execute_input": "2021-10-04T11:30:09.756213Z",
     "iopub.status.busy": "2021-10-04T11:30:09.744320Z",
     "iopub.status.idle": "2021-10-04T11:30:09.774650Z",
     "shell.execute_reply": "2021-10-04T11:30:09.773084Z"
    },
    "papermill": {
     "duration": 0.068766,
     "end_time": "2021-10-04T11:30:09.775241",
     "exception": false,
     "start_time": "2021-10-04T11:30:09.706475",
     "status": "completed"
    },
    "tags": []
   },
   "outputs": [],
   "source": [
    "df_pivot = df.pivot_table(index=\"PRODUCT\", columns = \"RECORD_TIME\", values = \"LISTING_COUNT\")"
   ]
  },
  {
   "cell_type": "code",
   "execution_count": 6,
   "id": "union-huntington",
   "metadata": {
    "execution": {
     "iopub.execute_input": "2021-10-04T11:30:09.834885Z",
     "iopub.status.busy": "2021-10-04T11:30:09.832408Z",
     "iopub.status.idle": "2021-10-04T11:30:09.838499Z",
     "shell.execute_reply": "2021-10-04T11:30:09.839886Z"
    },
    "papermill": {
     "duration": 0.042859,
     "end_time": "2021-10-04T11:30:09.840355",
     "exception": false,
     "start_time": "2021-10-04T11:30:09.797496",
     "status": "completed"
    },
    "tags": []
   },
   "outputs": [],
   "source": [
    "df_pivot.columns = [\"stamp_1\", \"stamp_2\"]\n",
    "df_pivot_diff = df_pivot.diff(axis=1)"
   ]
  },
  {
   "cell_type": "code",
   "execution_count": 7,
   "id": "fifth-motion",
   "metadata": {
    "execution": {
     "iopub.execute_input": "2021-10-04T11:30:09.895277Z",
     "iopub.status.busy": "2021-10-04T11:30:09.892893Z",
     "iopub.status.idle": "2021-10-04T11:30:11.399076Z",
     "shell.execute_reply": "2021-10-04T11:30:11.400543Z"
    },
    "papermill": {
     "duration": 1.538786,
     "end_time": "2021-10-04T11:30:11.401012",
     "exception": false,
     "start_time": "2021-10-04T11:30:09.862226",
     "status": "completed"
    },
    "tags": []
   },
   "outputs": [
    {
     "data": {
      "text/plain": [
       "<AxesSubplot:ylabel='PRODUCT'>"
      ]
     },
     "execution_count": 7,
     "metadata": {},
     "output_type": "execute_result"
    },
    {
     "data": {
      "image/png": "[encoded data removed]",
      "text/plain": [
       "<Figure size 432x288 with 1 Axes>"
      ]
     },
     "metadata": {
      "needs_background": "light"
     },
     "output_type": "display_data"
    }
   ],
   "source": [
    "df_pivot_diff.sort_values(\"stamp_2\", ascending = False)[\"stamp_2\"].head(10).plot.barh()"
   ]
  },
  {
   "cell_type": "code",
   "execution_count": null,
   "id": "extra-executive",
   "metadata": {
    "papermill": {
     "duration": 0.022233,
     "end_time": "2021-10-04T11:30:11.447248",
     "exception": false,
     "start_time": "2021-10-04T11:30:11.425015",
     "status": "completed"
    },
    "tags": []
   },
   "outputs": [],
   "source": []
  }
 ],
 "metadata": {
  "kernelspec": {
   "display_name": "Python 3",
   "language": "python",
   "name": "python3"
  },
  "language_info": {
   "codemirror_mode": {
    "name": "ipython",
    "version": 3
   },
   "file_extension": ".py",
   "mimetype": "text/x-python",
   "name": "python",
   "nbconvert_exporter": "python",
   "pygments_lexer": "ipython3",
   "version": "3.9.5"
  },
  "papermill": {
   "default_parameters": {},
   "duration": 7.82324,
   "end_time": "2021-10-04T11:30:12.948067",
   "environment_variables": {},
   "exception": null,
   "input_path": "eBay_Overview.ipynb",
   "output_path": "eBay_Overview.ipynb",
   "parameters": {},
   "start_time": "2021-10-04T11:30:05.124827",
   "version": "2.3.3"
  }
 },
 "nbformat": 4,
 "nbformat_minor": 5
}