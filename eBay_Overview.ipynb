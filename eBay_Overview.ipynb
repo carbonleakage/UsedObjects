{
 "cells": [
  {
   "cell_type": "code",
   "execution_count": 1,
   "id": "reverse-picking",
   "metadata": {
    "execution": {
     "iopub.execute_input": "2021-08-23T01:30:06.948569Z",
     "iopub.status.busy": "2021-08-23T01:30:06.946628Z",
     "iopub.status.idle": "2021-08-23T01:30:07.756428Z",
     "shell.execute_reply": "2021-08-23T01:30:07.757680Z"
    },
    "papermill": {
     "duration": 0.863995,
     "end_time": "2021-08-23T01:30:07.758495",
     "exception": false,
     "start_time": "2021-08-23T01:30:06.894500",
     "status": "completed"
    },
    "tags": []
   },
   "outputs": [],
   "source": [
    "import pandas as pd\n",
    "import sqlite3"
   ]
  },
  {
   "cell_type": "code",
   "execution_count": 2,
   "id": "innovative-syndrome",
   "metadata": {
    "execution": {
     "iopub.execute_input": "2021-08-23T01:30:07.811337Z",
     "iopub.status.busy": "2021-08-23T01:30:07.808963Z",
     "iopub.status.idle": "2021-08-23T01:30:07.920283Z",
     "shell.execute_reply": "2021-08-23T01:30:07.921491Z"
    },
    "papermill": {
     "duration": 0.141215,
     "end_time": "2021-08-23T01:30:07.921896",
     "exception": false,
     "start_time": "2021-08-23T01:30:07.780681",
     "status": "completed"
    },
    "tags": []
   },
   "outputs": [],
   "source": [
    "timestamps = pd.read_sql(\"select distinct record_time from EBAY_TOP_BERLIN order by record_time desc limit 2\", sqlite3.connect(\"UsedObjects.db\"))"
   ]
  },
  {
   "cell_type": "code",
   "execution_count": 3,
   "id": "periodic-identification",
   "metadata": {
    "execution": {
     "iopub.execute_input": "2021-08-23T01:30:07.987814Z",
     "iopub.status.busy": "2021-08-23T01:30:07.985736Z",
     "iopub.status.idle": "2021-08-23T01:30:08.005584Z",
     "shell.execute_reply": "2021-08-23T01:30:08.006954Z"
    },
    "papermill": {
     "duration": 0.064562,
     "end_time": "2021-08-23T01:30:08.007389",
     "exception": false,
     "start_time": "2021-08-23T01:30:07.942827",
     "status": "completed"
    },
    "tags": []
   },
   "outputs": [
    {
     "data": {
      "text/html": [
       "<div>\n",
       "<style scoped>\n",
       "    .dataframe tbody tr th:only-of-type {\n",
       "        vertical-align: middle;\n",
       "    }\n",
       "\n",
       "    .dataframe tbody tr th {\n",
       "        vertical-align: top;\n",
       "    }\n",
       "\n",
       "    .dataframe thead th {\n",
       "        text-align: right;\n",
       "    }\n",
       "</style>\n",
       "<table border=\"1\" class=\"dataframe\">\n",
       "  <thead>\n",
       "    <tr style=\"text-align: right;\">\n",
       "      <th></th>\n",
       "      <th>RECORD_TIME</th>\n",
       "    </tr>\n",
       "  </thead>\n",
       "  <tbody>\n",
       "    <tr>\n",
       "      <th>0</th>\n",
       "      <td>2021-08-23 03:30</td>\n",
       "    </tr>\n",
       "    <tr>\n",
       "      <th>1</th>\n",
       "      <td>2021-08-23 03:00</td>\n",
       "    </tr>\n",
       "  </tbody>\n",
       "</table>\n",
       "</div>"
      ],
      "text/plain": [
       "        RECORD_TIME\n",
       "0  2021-08-23 03:30\n",
       "1  2021-08-23 03:00"
      ]
     },
     "execution_count": 3,
     "metadata": {},
     "output_type": "execute_result"
    }
   ],
   "source": [
    "timestamps"
   ]
  },
  {
   "cell_type": "code",
   "execution_count": 4,
   "id": "alternate-victory",
   "metadata": {
    "execution": {
     "iopub.execute_input": "2021-08-23T01:30:08.060606Z",
     "iopub.status.busy": "2021-08-23T01:30:08.058607Z",
     "iopub.status.idle": "2021-08-23T01:30:08.218908Z",
     "shell.execute_reply": "2021-08-23T01:30:08.220134Z"
    },
    "papermill": {
     "duration": 0.190443,
     "end_time": "2021-08-23T01:30:08.220535",
     "exception": false,
     "start_time": "2021-08-23T01:30:08.030092",
     "status": "completed"
    },
    "tags": []
   },
   "outputs": [],
   "source": [
    "df = pd.read_sql(\"select * from EBAY_TOP_BERLIN where record_time in (select distinct record_time from EBAY_TOP_BERLIN order by record_time desc limit 2)\", sqlite3.connect(\"UsedObjects.db\"))"
   ]
  },
  {
   "cell_type": "code",
   "execution_count": 5,
   "id": "popular-active",
   "metadata": {
    "execution": {
     "iopub.execute_input": "2021-08-23T01:30:08.295801Z",
     "iopub.status.busy": "2021-08-23T01:30:08.282632Z",
     "iopub.status.idle": "2021-08-23T01:30:08.311414Z",
     "shell.execute_reply": "2021-08-23T01:30:08.312636Z"
    },
    "papermill": {
     "duration": 0.069245,
     "end_time": "2021-08-23T01:30:08.313043",
     "exception": false,
     "start_time": "2021-08-23T01:30:08.243798",
     "status": "completed"
    },
    "tags": []
   },
   "outputs": [],
   "source": [
    "df_pivot = df.pivot_table(index=\"PRODUCT\", columns = \"RECORD_TIME\", values = \"LISTING_COUNT\")"
   ]
  },
  {
   "cell_type": "code",
   "execution_count": 6,
   "id": "union-huntington",
   "metadata": {
    "execution": {
     "iopub.execute_input": "2021-08-23T01:30:08.376480Z",
     "iopub.status.busy": "2021-08-23T01:30:08.374419Z",
     "iopub.status.idle": "2021-08-23T01:30:08.379405Z",
     "shell.execute_reply": "2021-08-23T01:30:08.380681Z"
    },
    "papermill": {
     "duration": 0.045919,
     "end_time": "2021-08-23T01:30:08.381106",
     "exception": false,
     "start_time": "2021-08-23T01:30:08.335187",
     "status": "completed"
    },
    "tags": []
   },
   "outputs": [],
   "source": [
    "df_pivot.columns = [\"stamp_1\", \"stamp_2\"]\n",
    "df_pivot_diff = df_pivot.diff(axis=1)"
   ]
  },
  {
   "cell_type": "code",
   "execution_count": 7,
   "id": "fifth-motion",
   "metadata": {
    "execution": {
     "iopub.execute_input": "2021-08-23T01:30:08.435452Z",
     "iopub.status.busy": "2021-08-23T01:30:08.432929Z",
     "iopub.status.idle": "2021-08-23T01:30:09.916744Z",
     "shell.execute_reply": "2021-08-23T01:30:09.918245Z"
    },
    "papermill": {
     "duration": 1.517352,
     "end_time": "2021-08-23T01:30:09.918726",
     "exception": false,
     "start_time": "2021-08-23T01:30:08.401374",
     "status": "completed"
    },
    "tags": []
   },
   "outputs": [
    {
     "data": {
      "text/plain": [
       "<AxesSubplot:ylabel='PRODUCT'>"
      ]
     },
     "execution_count": 7,
     "metadata": {},
     "output_type": "execute_result"
    },
    {
     "data": {
      "image/png": "[encoded data removed]",
      "text/plain": [
       "<Figure size 432x288 with 1 Axes>"
      ]
     },
     "metadata": {
      "needs_background": "light"
     },
     "output_type": "display_data"
    }
   ],
   "source": [
    "df_pivot_diff.sort_values(\"stamp_2\", ascending = False)[\"stamp_2\"].head(10).plot.barh()"
   ]
  },
  {
   "cell_type": "code",
   "execution_count": null,
   "id": "extra-executive",
   "metadata": {
    "papermill": {
     "duration": 0.021981,
     "end_time": "2021-08-23T01:30:09.965710",
     "exception": false,
     "start_time": "2021-08-23T01:30:09.943729",
     "status": "completed"
    },
    "tags": []
   },
   "outputs": [],
   "source": []
  }
 ],
 "metadata": {
  "kernelspec": {
   "display_name": "Python 3",
   "language": "python",
   "name": "python3"
  },
  "language_info": {
   "codemirror_mode": {
    "name": "ipython",
    "version": 3
   },
   "file_extension": ".py",
   "mimetype": "text/x-python",
   "name": "python",
   "nbconvert_exporter": "python",
   "pygments_lexer": "ipython3",
   "version": "3.9.5"
  },
  "papermill": {
   "default_parameters": {},
   "duration": 6.820524,
   "end_time": "2021-08-23T01:30:11.296417",
   "environment_variables": {},
   "exception": null,
   "input_path": "eBay_Overview.ipynb",
   "output_path": "eBay_Overview.ipynb",
   "parameters": {},
   "start_time": "2021-08-23T01:30:04.475893",
   "version": "2.3.3"
  }
 },
 "nbformat": 4,
 "nbformat_minor": 5
}