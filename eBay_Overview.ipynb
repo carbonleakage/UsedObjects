{
 "cells": [
  {
   "cell_type": "code",
   "execution_count": 1,
   "id": "reverse-picking",
   "metadata": {
    "execution": {
     "iopub.execute_input": "2021-08-28T11:30:07.454326Z",
     "iopub.status.busy": "2021-08-28T11:30:07.452277Z",
     "iopub.status.idle": "2021-08-28T11:30:08.256733Z",
     "shell.execute_reply": "2021-08-28T11:30:08.257995Z"
    },
    "papermill": {
     "duration": 0.855426,
     "end_time": "2021-08-28T11:30:08.258611",
     "exception": false,
     "start_time": "2021-08-28T11:30:07.403185",
     "status": "completed"
    },
    "tags": []
   },
   "outputs": [],
   "source": [
    "import pandas as pd\n",
    "import sqlite3"
   ]
  },
  {
   "cell_type": "code",
   "execution_count": 2,
   "id": "innovative-syndrome",
   "metadata": {
    "execution": {
     "iopub.execute_input": "2021-08-28T11:30:08.312701Z",
     "iopub.status.busy": "2021-08-28T11:30:08.310274Z",
     "iopub.status.idle": "2021-08-28T11:30:08.460690Z",
     "shell.execute_reply": "2021-08-28T11:30:08.461816Z"
    },
    "papermill": {
     "duration": 0.180327,
     "end_time": "2021-08-28T11:30:08.462230",
     "exception": false,
     "start_time": "2021-08-28T11:30:08.281903",
     "status": "completed"
    },
    "tags": []
   },
   "outputs": [],
   "source": [
    "timestamps = pd.read_sql(\"select distinct record_time from EBAY_TOP_BERLIN order by record_time desc limit 2\", sqlite3.connect(\"UsedObjects.db\"))"
   ]
  },
  {
   "cell_type": "code",
   "execution_count": 3,
   "id": "periodic-identification",
   "metadata": {
    "execution": {
     "iopub.execute_input": "2021-08-28T11:30:08.531110Z",
     "iopub.status.busy": "2021-08-28T11:30:08.529088Z",
     "iopub.status.idle": "2021-08-28T11:30:08.548776Z",
     "shell.execute_reply": "2021-08-28T11:30:08.550527Z"
    },
    "papermill": {
     "duration": 0.066028,
     "end_time": "2021-08-28T11:30:08.551066",
     "exception": false,
     "start_time": "2021-08-28T11:30:08.485038",
     "status": "completed"
    },
    "tags": []
   },
   "outputs": [
    {
     "data": {
      "text/html": [
       "<div>\n",
       "<style scoped>\n",
       "    .dataframe tbody tr th:only-of-type {\n",
       "        vertical-align: middle;\n",
       "    }\n",
       "\n",
       "    .dataframe tbody tr th {\n",
       "        vertical-align: top;\n",
       "    }\n",
       "\n",
       "    .dataframe thead th {\n",
       "        text-align: right;\n",
       "    }\n",
       "</style>\n",
       "<table border=\"1\" class=\"dataframe\">\n",
       "  <thead>\n",
       "    <tr style=\"text-align: right;\">\n",
       "      <th></th>\n",
       "      <th>RECORD_TIME</th>\n",
       "    </tr>\n",
       "  </thead>\n",
       "  <tbody>\n",
       "    <tr>\n",
       "      <th>0</th>\n",
       "      <td>2021-08-28 13:30</td>\n",
       "    </tr>\n",
       "    <tr>\n",
       "      <th>1</th>\n",
       "      <td>2021-08-28 13:00</td>\n",
       "    </tr>\n",
       "  </tbody>\n",
       "</table>\n",
       "</div>"
      ],
      "text/plain": [
       "        RECORD_TIME\n",
       "0  2021-08-28 13:30\n",
       "1  2021-08-28 13:00"
      ]
     },
     "execution_count": 3,
     "metadata": {},
     "output_type": "execute_result"
    }
   ],
   "source": [
    "timestamps"
   ]
  },
  {
   "cell_type": "code",
   "execution_count": 4,
   "id": "alternate-victory",
   "metadata": {
    "execution": {
     "iopub.execute_input": "2021-08-28T11:30:08.604201Z",
     "iopub.status.busy": "2021-08-28T11:30:08.602363Z",
     "iopub.status.idle": "2021-08-28T11:30:08.827289Z",
     "shell.execute_reply": "2021-08-28T11:30:08.828554Z"
    },
    "papermill": {
     "duration": 0.255041,
     "end_time": "2021-08-28T11:30:08.828998",
     "exception": false,
     "start_time": "2021-08-28T11:30:08.573957",
     "status": "completed"
    },
    "tags": []
   },
   "outputs": [],
   "source": [
    "df = pd.read_sql(\"select * from EBAY_TOP_BERLIN where record_time in (select distinct record_time from EBAY_TOP_BERLIN order by record_time desc limit 2)\", sqlite3.connect(\"UsedObjects.db\"))"
   ]
  },
  {
   "cell_type": "code",
   "execution_count": 5,
   "id": "popular-active",
   "metadata": {
    "execution": {
     "iopub.execute_input": "2021-08-28T11:30:08.898718Z",
     "iopub.status.busy": "2021-08-28T11:30:08.886692Z",
     "iopub.status.idle": "2021-08-28T11:30:08.915000Z",
     "shell.execute_reply": "2021-08-28T11:30:08.916358Z"
    },
    "papermill": {
     "duration": 0.067078,
     "end_time": "2021-08-28T11:30:08.916779",
     "exception": false,
     "start_time": "2021-08-28T11:30:08.849701",
     "status": "completed"
    },
    "tags": []
   },
   "outputs": [],
   "source": [
    "df_pivot = df.pivot_table(index=\"PRODUCT\", columns = \"RECORD_TIME\", values = \"LISTING_COUNT\")"
   ]
  },
  {
   "cell_type": "code",
   "execution_count": 6,
   "id": "union-huntington",
   "metadata": {
    "execution": {
     "iopub.execute_input": "2021-08-28T11:30:08.983263Z",
     "iopub.status.busy": "2021-08-28T11:30:08.980676Z",
     "iopub.status.idle": "2021-08-28T11:30:08.986695Z",
     "shell.execute_reply": "2021-08-28T11:30:08.987976Z"
    },
    "papermill": {
     "duration": 0.046383,
     "end_time": "2021-08-28T11:30:08.988441",
     "exception": false,
     "start_time": "2021-08-28T11:30:08.942058",
     "status": "completed"
    },
    "tags": []
   },
   "outputs": [],
   "source": [
    "df_pivot.columns = [\"stamp_1\", \"stamp_2\"]\n",
    "df_pivot_diff = df_pivot.diff(axis=1)"
   ]
  },
  {
   "cell_type": "code",
   "execution_count": 7,
   "id": "fifth-motion",
   "metadata": {
    "execution": {
     "iopub.execute_input": "2021-08-28T11:30:09.042314Z",
     "iopub.status.busy": "2021-08-28T11:30:09.039960Z",
     "iopub.status.idle": "2021-08-28T11:30:10.543148Z",
     "shell.execute_reply": "2021-08-28T11:30:10.544535Z"
    },
    "papermill": {
     "duration": 1.536354,
     "end_time": "2021-08-28T11:30:10.544999",
     "exception": false,
     "start_time": "2021-08-28T11:30:09.008645",
     "status": "completed"
    },
    "tags": []
   },
   "outputs": [
    {
     "data": {
      "text/plain": [
       "<AxesSubplot:ylabel='PRODUCT'>"
      ]
     },
     "execution_count": 7,
     "metadata": {},
     "output_type": "execute_result"
    },
    {
     "data": {
      "image/png": "[encoded data removed]",
      "text/plain": [
       "<Figure size 432x288 with 1 Axes>"
      ]
     },
     "metadata": {
      "needs_background": "light"
     },
     "output_type": "display_data"
    }
   ],
   "source": [
    "df_pivot_diff.sort_values(\"stamp_2\", ascending = False)[\"stamp_2\"].head(10).plot.barh()"
   ]
  },
  {
   "cell_type": "code",
   "execution_count": null,
   "id": "extra-executive",
   "metadata": {
    "papermill": {
     "duration": 0.022478,
     "end_time": "2021-08-28T11:30:10.592473",
     "exception": false,
     "start_time": "2021-08-28T11:30:10.569995",
     "status": "completed"
    },
    "tags": []
   },
   "outputs": [],
   "source": []
  }
 ],
 "metadata": {
  "kernelspec": {
   "display_name": "Python 3",
   "language": "python",
   "name": "python3"
  },
  "language_info": {
   "codemirror_mode": {
    "name": "ipython",
    "version": 3
   },
   "file_extension": ".py",
   "mimetype": "text/x-python",
   "name": "python",
   "nbconvert_exporter": "python",
   "pygments_lexer": "ipython3",
   "version": "3.9.5"
  },
  "papermill": {
   "default_parameters": {},
   "duration": 6.817133,
   "end_time": "2021-08-28T11:30:11.820165",
   "environment_variables": {},
   "exception": null,
   "input_path": "eBay_Overview.ipynb",
   "output_path": "eBay_Overview.ipynb",
   "parameters": {},
   "start_time": "2021-08-28T11:30:05.003032",
   "version": "2.3.3"
  }
 },
 "nbformat": 4,
 "nbformat_minor": 5
}