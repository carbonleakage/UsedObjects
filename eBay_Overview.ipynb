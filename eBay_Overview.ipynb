{
 "cells": [
  {
   "cell_type": "code",
   "execution_count": 1,
   "id": "reverse-picking",
   "metadata": {
    "execution": {
     "iopub.execute_input": "2021-08-10T20:30:04.121624Z",
     "iopub.status.busy": "2021-08-10T20:30:04.120854Z",
     "iopub.status.idle": "2021-08-10T20:30:04.764135Z",
     "shell.execute_reply": "2021-08-10T20:30:04.764727Z"
    },
    "papermill": {
     "duration": 0.662411,
     "end_time": "2021-08-10T20:30:04.765031",
     "exception": false,
     "start_time": "2021-08-10T20:30:04.102620",
     "status": "completed"
    },
    "tags": []
   },
   "outputs": [],
   "source": [
    "import pandas as pd\n",
    "import sqlite3"
   ]
  },
  {
   "cell_type": "code",
   "execution_count": 2,
   "id": "innovative-syndrome",
   "metadata": {
    "execution": {
     "iopub.execute_input": "2021-08-10T20:30:04.792129Z",
     "iopub.status.busy": "2021-08-10T20:30:04.791355Z",
     "iopub.status.idle": "2021-08-10T20:30:05.033130Z",
     "shell.execute_reply": "2021-08-10T20:30:05.033708Z"
    },
    "papermill": {
     "duration": 0.259333,
     "end_time": "2021-08-10T20:30:05.033901",
     "exception": false,
     "start_time": "2021-08-10T20:30:04.774568",
     "status": "completed"
    },
    "tags": []
   },
   "outputs": [],
   "source": [
    "timestamps = pd.read_sql(\"select distinct record_time from EBAY_TOP_BERLIN order by record_time desc limit 2\", sqlite3.connect(\"UsedObjects.db\"))"
   ]
  },
  {
   "cell_type": "code",
   "execution_count": 3,
   "id": "periodic-identification",
   "metadata": {
    "execution": {
     "iopub.execute_input": "2021-08-10T20:30:05.069221Z",
     "iopub.status.busy": "2021-08-10T20:30:05.068444Z",
     "iopub.status.idle": "2021-08-10T20:30:05.082616Z",
     "shell.execute_reply": "2021-08-10T20:30:05.083193Z"
    },
    "papermill": {
     "duration": 0.039043,
     "end_time": "2021-08-10T20:30:05.083372",
     "exception": false,
     "start_time": "2021-08-10T20:30:05.044329",
     "status": "completed"
    },
    "tags": []
   },
   "outputs": [
    {
     "data": {
      "text/html": [
       "<div>\n",
       "<style scoped>\n",
       "    .dataframe tbody tr th:only-of-type {\n",
       "        vertical-align: middle;\n",
       "    }\n",
       "\n",
       "    .dataframe tbody tr th {\n",
       "        vertical-align: top;\n",
       "    }\n",
       "\n",
       "    .dataframe thead th {\n",
       "        text-align: right;\n",
       "    }\n",
       "</style>\n",
       "<table border=\"1\" class=\"dataframe\">\n",
       "  <thead>\n",
       "    <tr style=\"text-align: right;\">\n",
       "      <th></th>\n",
       "      <th>RECORD_TIME</th>\n",
       "    </tr>\n",
       "  </thead>\n",
       "  <tbody>\n",
       "    <tr>\n",
       "      <th>0</th>\n",
       "      <td>2021-08-10 22:30</td>\n",
       "    </tr>\n",
       "    <tr>\n",
       "      <th>1</th>\n",
       "      <td>2021-08-10 22:00</td>\n",
       "    </tr>\n",
       "  </tbody>\n",
       "</table>\n",
       "</div>"
      ],
      "text/plain": [
       "        RECORD_TIME\n",
       "0  2021-08-10 22:30\n",
       "1  2021-08-10 22:00"
      ]
     },
     "execution_count": 3,
     "metadata": {},
     "output_type": "execute_result"
    }
   ],
   "source": [
    "timestamps"
   ]
  },
  {
   "cell_type": "code",
   "execution_count": 4,
   "id": "alternate-victory",
   "metadata": {
    "execution": {
     "iopub.execute_input": "2021-08-10T20:30:05.108150Z",
     "iopub.status.busy": "2021-08-10T20:30:05.107385Z",
     "iopub.status.idle": "2021-08-10T20:30:05.126602Z",
     "shell.execute_reply": "2021-08-10T20:30:05.127471Z"
    },
    "papermill": {
     "duration": 0.03544,
     "end_time": "2021-08-10T20:30:05.127682",
     "exception": false,
     "start_time": "2021-08-10T20:30:05.092242",
     "status": "completed"
    },
    "tags": []
   },
   "outputs": [],
   "source": [
    "df = pd.read_sql(\"select * from EBAY_TOP_BERLIN where record_time in (select distinct record_time from EBAY_TOP_BERLIN order by record_time desc limit 2)\", sqlite3.connect(\"UsedObjects.db\"))"
   ]
  },
  {
   "cell_type": "code",
   "execution_count": 5,
   "id": "popular-active",
   "metadata": {
    "execution": {
     "iopub.execute_input": "2021-08-10T20:30:05.152162Z",
     "iopub.status.busy": "2021-08-10T20:30:05.151385Z",
     "iopub.status.idle": "2021-08-10T20:30:05.170250Z",
     "shell.execute_reply": "2021-08-10T20:30:05.169598Z"
    },
    "papermill": {
     "duration": 0.0341,
     "end_time": "2021-08-10T20:30:05.170415",
     "exception": false,
     "start_time": "2021-08-10T20:30:05.136315",
     "status": "completed"
    },
    "tags": []
   },
   "outputs": [],
   "source": [
    "df_pivot = df.pivot_table(index=\"PRODUCT\", columns = \"RECORD_TIME\", values = \"LISTING_COUNT\")"
   ]
  },
  {
   "cell_type": "code",
   "execution_count": 6,
   "id": "union-huntington",
   "metadata": {
    "execution": {
     "iopub.execute_input": "2021-08-10T20:30:05.201177Z",
     "iopub.status.busy": "2021-08-10T20:30:05.200458Z",
     "iopub.status.idle": "2021-08-10T20:30:05.207131Z",
     "shell.execute_reply": "2021-08-10T20:30:05.207672Z"
    },
    "papermill": {
     "duration": 0.028728,
     "end_time": "2021-08-10T20:30:05.207854",
     "exception": false,
     "start_time": "2021-08-10T20:30:05.179126",
     "status": "completed"
    },
    "tags": []
   },
   "outputs": [],
   "source": [
    "df_pivot.columns = [\"stamp_1\", \"stamp_2\"]\n",
    "df_pivot_diff = df_pivot.diff(axis=1)"
   ]
  },
  {
   "cell_type": "code",
   "execution_count": 7,
   "id": "fifth-motion",
   "metadata": {
    "execution": {
     "iopub.execute_input": "2021-08-10T20:30:05.236229Z",
     "iopub.status.busy": "2021-08-10T20:30:05.235470Z",
     "iopub.status.idle": "2021-08-10T20:30:05.942770Z",
     "shell.execute_reply": "2021-08-10T20:30:05.943347Z"
    },
    "papermill": {
     "duration": 0.727101,
     "end_time": "2021-08-10T20:30:05.943539",
     "exception": false,
     "start_time": "2021-08-10T20:30:05.216438",
     "status": "completed"
    },
    "tags": []
   },
   "outputs": [
    {
     "data": {
      "text/plain": [
       "<AxesSubplot:ylabel='PRODUCT'>"
      ]
     },
     "execution_count": 7,
     "metadata": {},
     "output_type": "execute_result"
    },
    {
     "data": {
      "image/png": "[encoded data removed]",
      "text/plain": [
       "<Figure size 432x288 with 1 Axes>"
      ]
     },
     "metadata": {
      "needs_background": "light"
     },
     "output_type": "display_data"
    }
   ],
   "source": [
    "df_pivot_diff.sort_values(\"stamp_2\", ascending = False)[\"stamp_2\"].head(10).plot.barh()"
   ]
  },
  {
   "cell_type": "code",
   "execution_count": null,
   "id": "extra-executive",
   "metadata": {
    "papermill": {
     "duration": 0.009883,
     "end_time": "2021-08-10T20:30:05.963896",
     "exception": false,
     "start_time": "2021-08-10T20:30:05.954013",
     "status": "completed"
    },
    "tags": []
   },
   "outputs": [],
   "source": []
  }
 ],
 "metadata": {
  "kernelspec": {
   "display_name": "Python 3",
   "language": "python",
   "name": "python3"
  },
  "language_info": {
   "codemirror_mode": {
    "name": "ipython",
    "version": 3
   },
   "file_extension": ".py",
   "mimetype": "text/x-python",
   "name": "python",
   "nbconvert_exporter": "python",
   "pygments_lexer": "ipython3",
   "version": "3.8.8"
  },
  "papermill": {
   "default_parameters": {},
   "duration": 4.294181,
   "end_time": "2021-08-10T20:30:06.718217",
   "environment_variables": {},
   "exception": null,
   "input_path": "/Users/saravananshanmugam/Carbonleakage_Git/UsedObjects/eBay_Overview.ipynb",
   "output_path": "/Users/saravananshanmugam/Carbonleakage_Git/UsedObjects/eBay_Overview.ipynb",
   "parameters": {},
   "start_time": "2021-08-10T20:30:02.424036",
   "version": "2.3.3"
  }
 },
 "nbformat": 4,
 "nbformat_minor": 5
}