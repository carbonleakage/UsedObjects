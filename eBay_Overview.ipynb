{
 "cells": [
  {
   "cell_type": "code",
   "execution_count": 1,
   "id": "reverse-picking",
   "metadata": {
    "execution": {
     "iopub.execute_input": "2021-08-12T02:00:03.900218Z",
     "iopub.status.busy": "2021-08-12T02:00:03.899391Z",
     "iopub.status.idle": "2021-08-12T02:00:04.489064Z",
     "shell.execute_reply": "2021-08-12T02:00:04.489650Z"
    },
    "papermill": {
     "duration": 0.608943,
     "end_time": "2021-08-12T02:00:04.489955",
     "exception": false,
     "start_time": "2021-08-12T02:00:03.881012",
     "status": "completed"
    },
    "tags": []
   },
   "outputs": [],
   "source": [
    "import pandas as pd\n",
    "import sqlite3"
   ]
  },
  {
   "cell_type": "code",
   "execution_count": 2,
   "id": "innovative-syndrome",
   "metadata": {
    "execution": {
     "iopub.execute_input": "2021-08-12T02:00:04.511352Z",
     "iopub.status.busy": "2021-08-12T02:00:04.510578Z",
     "iopub.status.idle": "2021-08-12T02:00:04.714775Z",
     "shell.execute_reply": "2021-08-12T02:00:04.715350Z"
    },
    "papermill": {
     "duration": 0.216989,
     "end_time": "2021-08-12T02:00:04.715544",
     "exception": false,
     "start_time": "2021-08-12T02:00:04.498555",
     "status": "completed"
    },
    "tags": []
   },
   "outputs": [],
   "source": [
    "timestamps = pd.read_sql(\"select distinct record_time from EBAY_TOP_BERLIN order by record_time desc limit 2\", sqlite3.connect(\"UsedObjects.db\"))"
   ]
  },
  {
   "cell_type": "code",
   "execution_count": 3,
   "id": "periodic-identification",
   "metadata": {
    "execution": {
     "iopub.execute_input": "2021-08-12T02:00:04.748152Z",
     "iopub.status.busy": "2021-08-12T02:00:04.747428Z",
     "iopub.status.idle": "2021-08-12T02:00:04.901549Z",
     "shell.execute_reply": "2021-08-12T02:00:04.892137Z"
    },
    "papermill": {
     "duration": 0.177746,
     "end_time": "2021-08-12T02:00:04.901816",
     "exception": false,
     "start_time": "2021-08-12T02:00:04.724070",
     "status": "completed"
    },
    "tags": []
   },
   "outputs": [
    {
     "data": {
      "text/html": [
       "<div>\n",
       "<style scoped>\n",
       "    .dataframe tbody tr th:only-of-type {\n",
       "        vertical-align: middle;\n",
       "    }\n",
       "\n",
       "    .dataframe tbody tr th {\n",
       "        vertical-align: top;\n",
       "    }\n",
       "\n",
       "    .dataframe thead th {\n",
       "        text-align: right;\n",
       "    }\n",
       "</style>\n",
       "<table border=\"1\" class=\"dataframe\">\n",
       "  <thead>\n",
       "    <tr style=\"text-align: right;\">\n",
       "      <th></th>\n",
       "      <th>RECORD_TIME</th>\n",
       "    </tr>\n",
       "  </thead>\n",
       "  <tbody>\n",
       "    <tr>\n",
       "      <th>0</th>\n",
       "      <td>2021-08-12 04:00</td>\n",
       "    </tr>\n",
       "    <tr>\n",
       "      <th>1</th>\n",
       "      <td>2021-08-12 03:30</td>\n",
       "    </tr>\n",
       "  </tbody>\n",
       "</table>\n",
       "</div>"
      ],
      "text/plain": [
       "        RECORD_TIME\n",
       "0  2021-08-12 04:00\n",
       "1  2021-08-12 03:30"
      ]
     },
     "execution_count": 3,
     "metadata": {},
     "output_type": "execute_result"
    }
   ],
   "source": [
    "timestamps"
   ]
  },
  {
   "cell_type": "code",
   "execution_count": 4,
   "id": "alternate-victory",
   "metadata": {
    "execution": {
     "iopub.execute_input": "2021-08-12T02:00:04.947953Z",
     "iopub.status.busy": "2021-08-12T02:00:04.947071Z",
     "iopub.status.idle": "2021-08-12T02:00:04.992203Z",
     "shell.execute_reply": "2021-08-12T02:00:04.992815Z"
    },
    "papermill": {
     "duration": 0.068373,
     "end_time": "2021-08-12T02:00:04.993180",
     "exception": false,
     "start_time": "2021-08-12T02:00:04.924807",
     "status": "completed"
    },
    "tags": []
   },
   "outputs": [],
   "source": [
    "df = pd.read_sql(\"select * from EBAY_TOP_BERLIN where record_time in (select distinct record_time from EBAY_TOP_BERLIN order by record_time desc limit 2)\", sqlite3.connect(\"UsedObjects.db\"))"
   ]
  },
  {
   "cell_type": "code",
   "execution_count": 5,
   "id": "popular-active",
   "metadata": {
    "execution": {
     "iopub.execute_input": "2021-08-12T02:00:05.029736Z",
     "iopub.status.busy": "2021-08-12T02:00:05.028908Z",
     "iopub.status.idle": "2021-08-12T02:00:05.045416Z",
     "shell.execute_reply": "2021-08-12T02:00:05.044843Z"
    },
    "papermill": {
     "duration": 0.039242,
     "end_time": "2021-08-12T02:00:05.045569",
     "exception": false,
     "start_time": "2021-08-12T02:00:05.006327",
     "status": "completed"
    },
    "tags": []
   },
   "outputs": [],
   "source": [
    "df_pivot = df.pivot_table(index=\"PRODUCT\", columns = \"RECORD_TIME\", values = \"LISTING_COUNT\")"
   ]
  },
  {
   "cell_type": "code",
   "execution_count": 6,
   "id": "union-huntington",
   "metadata": {
    "execution": {
     "iopub.execute_input": "2021-08-12T02:00:05.077095Z",
     "iopub.status.busy": "2021-08-12T02:00:05.076359Z",
     "iopub.status.idle": "2021-08-12T02:00:05.079001Z",
     "shell.execute_reply": "2021-08-12T02:00:05.079572Z"
    },
    "papermill": {
     "duration": 0.020714,
     "end_time": "2021-08-12T02:00:05.079752",
     "exception": false,
     "start_time": "2021-08-12T02:00:05.059038",
     "status": "completed"
    },
    "tags": []
   },
   "outputs": [],
   "source": [
    "df_pivot.columns = [\"stamp_1\", \"stamp_2\"]\n",
    "df_pivot_diff = df_pivot.diff(axis=1)"
   ]
  },
  {
   "cell_type": "code",
   "execution_count": 7,
   "id": "fifth-motion",
   "metadata": {
    "execution": {
     "iopub.execute_input": "2021-08-12T02:00:05.113918Z",
     "iopub.status.busy": "2021-08-12T02:00:05.113150Z",
     "iopub.status.idle": "2021-08-12T02:00:05.771971Z",
     "shell.execute_reply": "2021-08-12T02:00:05.771272Z"
    },
    "papermill": {
     "duration": 0.679565,
     "end_time": "2021-08-12T02:00:05.772158",
     "exception": false,
     "start_time": "2021-08-12T02:00:05.092593",
     "status": "completed"
    },
    "tags": []
   },
   "outputs": [
    {
     "data": {
      "text/plain": [
       "<AxesSubplot:ylabel='PRODUCT'>"
      ]
     },
     "execution_count": 7,
     "metadata": {},
     "output_type": "execute_result"
    },
    {
     "data": {
      "image/png": "[encoded data removed]",
      "text/plain": [
       "<Figure size 432x288 with 1 Axes>"
      ]
     },
     "metadata": {
      "needs_background": "light"
     },
     "output_type": "display_data"
    }
   ],
   "source": [
    "df_pivot_diff.sort_values(\"stamp_2\", ascending = False)[\"stamp_2\"].head(10).plot.barh()"
   ]
  },
  {
   "cell_type": "code",
   "execution_count": null,
   "id": "extra-executive",
   "metadata": {
    "papermill": {
     "duration": 0.009233,
     "end_time": "2021-08-12T02:00:05.791059",
     "exception": false,
     "start_time": "2021-08-12T02:00:05.781826",
     "status": "completed"
    },
    "tags": []
   },
   "outputs": [],
   "source": []
  }
 ],
 "metadata": {
  "kernelspec": {
   "display_name": "Python 3",
   "language": "python",
   "name": "python3"
  },
  "language_info": {
   "codemirror_mode": {
    "name": "ipython",
    "version": 3
   },
   "file_extension": ".py",
   "mimetype": "text/x-python",
   "name": "python",
   "nbconvert_exporter": "python",
   "pygments_lexer": "ipython3",
   "version": "3.8.8"
  },
  "papermill": {
   "default_parameters": {},
   "duration": 4.268337,
   "end_time": "2021-08-12T02:00:06.458364",
   "environment_variables": {},
   "exception": null,
   "input_path": "/Users/saravananshanmugam/Carbonleakage_Git/UsedObjects/eBay_Overview.ipynb",
   "output_path": "/Users/saravananshanmugam/Carbonleakage_Git/UsedObjects/eBay_Overview.ipynb",
   "parameters": {},
   "start_time": "2021-08-12T02:00:02.190027",
   "version": "2.3.3"
  }
 },
 "nbformat": 4,
 "nbformat_minor": 5
}