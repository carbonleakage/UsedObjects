{
 "cells": [
  {
   "cell_type": "code",
   "execution_count": 1,
   "id": "reverse-picking",
   "metadata": {
    "execution": {
     "iopub.execute_input": "2021-09-07T12:00:07.148912Z",
     "iopub.status.busy": "2021-09-07T12:00:07.146956Z",
     "iopub.status.idle": "2021-09-07T12:00:07.957183Z",
     "shell.execute_reply": "2021-09-07T12:00:07.955596Z"
    },
    "papermill": {
     "duration": 0.860095,
     "end_time": "2021-09-07T12:00:07.957573",
     "exception": false,
     "start_time": "2021-09-07T12:00:07.097478",
     "status": "completed"
    },
    "tags": []
   },
   "outputs": [],
   "source": [
    "import pandas as pd\n",
    "import sqlite3"
   ]
  },
  {
   "cell_type": "code",
   "execution_count": 2,
   "id": "innovative-syndrome",
   "metadata": {
    "execution": {
     "iopub.execute_input": "2021-09-07T12:00:08.008892Z",
     "iopub.status.busy": "2021-09-07T12:00:08.006647Z",
     "iopub.status.idle": "2021-09-07T12:00:08.236801Z",
     "shell.execute_reply": "2021-09-07T12:00:08.238059Z"
    },
    "papermill": {
     "duration": 0.259634,
     "end_time": "2021-09-07T12:00:08.238467",
     "exception": false,
     "start_time": "2021-09-07T12:00:07.978833",
     "status": "completed"
    },
    "tags": []
   },
   "outputs": [],
   "source": [
    "timestamps = pd.read_sql(\"select distinct record_time from EBAY_TOP_BERLIN order by record_time desc limit 2\", sqlite3.connect(\"UsedObjects.db\"))"
   ]
  },
  {
   "cell_type": "code",
   "execution_count": 3,
   "id": "periodic-identification",
   "metadata": {
    "execution": {
     "iopub.execute_input": "2021-09-07T12:00:08.304377Z",
     "iopub.status.busy": "2021-09-07T12:00:08.302272Z",
     "iopub.status.idle": "2021-09-07T12:00:08.323115Z",
     "shell.execute_reply": "2021-09-07T12:00:08.324318Z"
    },
    "papermill": {
     "duration": 0.067316,
     "end_time": "2021-09-07T12:00:08.324746",
     "exception": false,
     "start_time": "2021-09-07T12:00:08.257430",
     "status": "completed"
    },
    "tags": []
   },
   "outputs": [
    {
     "data": {
      "text/html": [
       "<div>\n",
       "<style scoped>\n",
       "    .dataframe tbody tr th:only-of-type {\n",
       "        vertical-align: middle;\n",
       "    }\n",
       "\n",
       "    .dataframe tbody tr th {\n",
       "        vertical-align: top;\n",
       "    }\n",
       "\n",
       "    .dataframe thead th {\n",
       "        text-align: right;\n",
       "    }\n",
       "</style>\n",
       "<table border=\"1\" class=\"dataframe\">\n",
       "  <thead>\n",
       "    <tr style=\"text-align: right;\">\n",
       "      <th></th>\n",
       "      <th>RECORD_TIME</th>\n",
       "    </tr>\n",
       "  </thead>\n",
       "  <tbody>\n",
       "    <tr>\n",
       "      <th>0</th>\n",
       "      <td>2021-09-07 14:00</td>\n",
       "    </tr>\n",
       "    <tr>\n",
       "      <th>1</th>\n",
       "      <td>2021-09-07 13:30</td>\n",
       "    </tr>\n",
       "  </tbody>\n",
       "</table>\n",
       "</div>"
      ],
      "text/plain": [
       "        RECORD_TIME\n",
       "0  2021-09-07 14:00\n",
       "1  2021-09-07 13:30"
      ]
     },
     "execution_count": 3,
     "metadata": {},
     "output_type": "execute_result"
    }
   ],
   "source": [
    "timestamps"
   ]
  },
  {
   "cell_type": "code",
   "execution_count": 4,
   "id": "alternate-victory",
   "metadata": {
    "execution": {
     "iopub.execute_input": "2021-09-07T12:00:08.378181Z",
     "iopub.status.busy": "2021-09-07T12:00:08.375919Z",
     "iopub.status.idle": "2021-09-07T12:00:08.713767Z",
     "shell.execute_reply": "2021-09-07T12:00:08.715155Z"
    },
    "papermill": {
     "duration": 0.368413,
     "end_time": "2021-09-07T12:00:08.715671",
     "exception": false,
     "start_time": "2021-09-07T12:00:08.347258",
     "status": "completed"
    },
    "tags": []
   },
   "outputs": [],
   "source": [
    "df = pd.read_sql(\"select * from EBAY_TOP_BERLIN where record_time in (select distinct record_time from EBAY_TOP_BERLIN order by record_time desc limit 2)\", sqlite3.connect(\"UsedObjects.db\"))"
   ]
  },
  {
   "cell_type": "code",
   "execution_count": 5,
   "id": "popular-active",
   "metadata": {
    "execution": {
     "iopub.execute_input": "2021-09-07T12:00:08.786127Z",
     "iopub.status.busy": "2021-09-07T12:00:08.774928Z",
     "iopub.status.idle": "2021-09-07T12:00:08.801910Z",
     "shell.execute_reply": "2021-09-07T12:00:08.803170Z"
    },
    "papermill": {
     "duration": 0.067492,
     "end_time": "2021-09-07T12:00:08.803602",
     "exception": false,
     "start_time": "2021-09-07T12:00:08.736110",
     "status": "completed"
    },
    "tags": []
   },
   "outputs": [],
   "source": [
    "df_pivot = df.pivot_table(index=\"PRODUCT\", columns = \"RECORD_TIME\", values = \"LISTING_COUNT\")"
   ]
  },
  {
   "cell_type": "code",
   "execution_count": 6,
   "id": "union-huntington",
   "metadata": {
    "execution": {
     "iopub.execute_input": "2021-09-07T12:00:08.859379Z",
     "iopub.status.busy": "2021-09-07T12:00:08.857262Z",
     "iopub.status.idle": "2021-09-07T12:00:08.862470Z",
     "shell.execute_reply": "2021-09-07T12:00:08.863729Z"
    },
    "papermill": {
     "duration": 0.040605,
     "end_time": "2021-09-07T12:00:08.864157",
     "exception": false,
     "start_time": "2021-09-07T12:00:08.823552",
     "status": "completed"
    },
    "tags": []
   },
   "outputs": [],
   "source": [
    "df_pivot.columns = [\"stamp_1\", \"stamp_2\"]\n",
    "df_pivot_diff = df_pivot.diff(axis=1)"
   ]
  },
  {
   "cell_type": "code",
   "execution_count": 7,
   "id": "fifth-motion",
   "metadata": {
    "execution": {
     "iopub.execute_input": "2021-09-07T12:00:08.917986Z",
     "iopub.status.busy": "2021-09-07T12:00:08.915588Z",
     "iopub.status.idle": "2021-09-07T12:00:10.424728Z",
     "shell.execute_reply": "2021-09-07T12:00:10.425992Z"
    },
    "papermill": {
     "duration": 1.541916,
     "end_time": "2021-09-07T12:00:10.426400",
     "exception": false,
     "start_time": "2021-09-07T12:00:08.884484",
     "status": "completed"
    },
    "tags": []
   },
   "outputs": [
    {
     "data": {
      "text/plain": [
       "<AxesSubplot:ylabel='PRODUCT'>"
      ]
     },
     "execution_count": 7,
     "metadata": {},
     "output_type": "execute_result"
    },
    {
     "data": {
      "image/png": "[encoded data removed]",
      "text/plain": [
       "<Figure size 432x288 with 1 Axes>"
      ]
     },
     "metadata": {
      "needs_background": "light"
     },
     "output_type": "display_data"
    }
   ],
   "source": [
    "df_pivot_diff.sort_values(\"stamp_2\", ascending = False)[\"stamp_2\"].head(10).plot.barh()"
   ]
  },
  {
   "cell_type": "code",
   "execution_count": null,
   "id": "extra-executive",
   "metadata": {
    "papermill": {
     "duration": 0.021964,
     "end_time": "2021-09-07T12:00:10.472738",
     "exception": false,
     "start_time": "2021-09-07T12:00:10.450774",
     "status": "completed"
    },
    "tags": []
   },
   "outputs": [],
   "source": []
  }
 ],
 "metadata": {
  "kernelspec": {
   "display_name": "Python 3",
   "language": "python",
   "name": "python3"
  },
  "language_info": {
   "codemirror_mode": {
    "name": "ipython",
    "version": 3
   },
   "file_extension": ".py",
   "mimetype": "text/x-python",
   "name": "python",
   "nbconvert_exporter": "python",
   "pygments_lexer": "ipython3",
   "version": "3.9.5"
  },
  "papermill": {
   "default_parameters": {},
   "duration": 6.425714,
   "end_time": "2021-09-07T12:00:11.114203",
   "environment_variables": {},
   "exception": null,
   "input_path": "eBay_Overview.ipynb",
   "output_path": "eBay_Overview.ipynb",
   "parameters": {},
   "start_time": "2021-09-07T12:00:04.688489",
   "version": "2.3.3"
  }
 },
 "nbformat": 4,
 "nbformat_minor": 5
}