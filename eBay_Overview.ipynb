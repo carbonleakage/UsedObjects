{
 "cells": [
  {
   "cell_type": "code",
   "execution_count": 1,
   "id": "reverse-picking",
   "metadata": {
    "execution": {
     "iopub.execute_input": "2021-10-24T15:30:06.631182Z",
     "iopub.status.busy": "2021-10-24T15:30:06.629204Z",
     "iopub.status.idle": "2021-10-24T15:30:07.442541Z",
     "shell.execute_reply": "2021-10-24T15:30:07.443938Z"
    },
    "papermill": {
     "duration": 0.865502,
     "end_time": "2021-10-24T15:30:07.444602",
     "exception": false,
     "start_time": "2021-10-24T15:30:06.579100",
     "status": "completed"
    },
    "tags": []
   },
   "outputs": [],
   "source": [
    "import pandas as pd\n",
    "import sqlite3"
   ]
  },
  {
   "cell_type": "code",
   "execution_count": 2,
   "id": "innovative-syndrome",
   "metadata": {
    "execution": {
     "iopub.execute_input": "2021-10-24T15:30:07.495686Z",
     "iopub.status.busy": "2021-10-24T15:30:07.493619Z",
     "iopub.status.idle": "2021-10-24T15:30:08.124830Z",
     "shell.execute_reply": "2021-10-24T15:30:08.126229Z"
    },
    "papermill": {
     "duration": 0.661623,
     "end_time": "2021-10-24T15:30:08.126666",
     "exception": false,
     "start_time": "2021-10-24T15:30:07.465043",
     "status": "completed"
    },
    "tags": []
   },
   "outputs": [],
   "source": [
    "timestamps = pd.read_sql(\"select distinct record_time from EBAY_TOP_BERLIN order by record_time desc limit 2\", sqlite3.connect(\"UsedObjects.db\"))"
   ]
  },
  {
   "cell_type": "code",
   "execution_count": 3,
   "id": "periodic-identification",
   "metadata": {
    "execution": {
     "iopub.execute_input": "2021-10-24T15:30:08.200508Z",
     "iopub.status.busy": "2021-10-24T15:30:08.198468Z",
     "iopub.status.idle": "2021-10-24T15:30:08.218608Z",
     "shell.execute_reply": "2021-10-24T15:30:08.219789Z"
    },
    "papermill": {
     "duration": 0.068028,
     "end_time": "2021-10-24T15:30:08.220212",
     "exception": false,
     "start_time": "2021-10-24T15:30:08.152184",
     "status": "completed"
    },
    "tags": []
   },
   "outputs": [
    {
     "data": {
      "text/html": [
       "<div>\n",
       "<style scoped>\n",
       "    .dataframe tbody tr th:only-of-type {\n",
       "        vertical-align: middle;\n",
       "    }\n",
       "\n",
       "    .dataframe tbody tr th {\n",
       "        vertical-align: top;\n",
       "    }\n",
       "\n",
       "    .dataframe thead th {\n",
       "        text-align: right;\n",
       "    }\n",
       "</style>\n",
       "<table border=\"1\" class=\"dataframe\">\n",
       "  <thead>\n",
       "    <tr style=\"text-align: right;\">\n",
       "      <th></th>\n",
       "      <th>RECORD_TIME</th>\n",
       "    </tr>\n",
       "  </thead>\n",
       "  <tbody>\n",
       "    <tr>\n",
       "      <th>0</th>\n",
       "      <td>2021-10-24 17:30</td>\n",
       "    </tr>\n",
       "    <tr>\n",
       "      <th>1</th>\n",
       "      <td>2021-10-24 17:00</td>\n",
       "    </tr>\n",
       "  </tbody>\n",
       "</table>\n",
       "</div>"
      ],
      "text/plain": [
       "        RECORD_TIME\n",
       "0  2021-10-24 17:30\n",
       "1  2021-10-24 17:00"
      ]
     },
     "execution_count": 3,
     "metadata": {},
     "output_type": "execute_result"
    }
   ],
   "source": [
    "timestamps"
   ]
  },
  {
   "cell_type": "code",
   "execution_count": 4,
   "id": "alternate-victory",
   "metadata": {
    "execution": {
     "iopub.execute_input": "2021-10-24T15:30:08.274923Z",
     "iopub.status.busy": "2021-10-24T15:30:08.272775Z",
     "iopub.status.idle": "2021-10-24T15:30:09.303656Z",
     "shell.execute_reply": "2021-10-24T15:30:09.304990Z"
    },
    "papermill": {
     "duration": 1.06166,
     "end_time": "2021-10-24T15:30:09.305425",
     "exception": false,
     "start_time": "2021-10-24T15:30:08.243765",
     "status": "completed"
    },
    "tags": []
   },
   "outputs": [],
   "source": [
    "df = pd.read_sql(\"select * from EBAY_TOP_BERLIN where record_time in (select distinct record_time from EBAY_TOP_BERLIN order by record_time desc limit 2)\", sqlite3.connect(\"UsedObjects.db\"))"
   ]
  },
  {
   "cell_type": "code",
   "execution_count": 5,
   "id": "popular-active",
   "metadata": {
    "execution": {
     "iopub.execute_input": "2021-10-24T15:30:09.376335Z",
     "iopub.status.busy": "2021-10-24T15:30:09.364623Z",
     "iopub.status.idle": "2021-10-24T15:30:09.392395Z",
     "shell.execute_reply": "2021-10-24T15:30:09.393883Z"
    },
    "papermill": {
     "duration": 0.068184,
     "end_time": "2021-10-24T15:30:09.394325",
     "exception": false,
     "start_time": "2021-10-24T15:30:09.326141",
     "status": "completed"
    },
    "tags": []
   },
   "outputs": [],
   "source": [
    "df_pivot = df.pivot_table(index=\"PRODUCT\", columns = \"RECORD_TIME\", values = \"LISTING_COUNT\")"
   ]
  },
  {
   "cell_type": "code",
   "execution_count": 6,
   "id": "union-huntington",
   "metadata": {
    "execution": {
     "iopub.execute_input": "2021-10-24T15:30:09.451808Z",
     "iopub.status.busy": "2021-10-24T15:30:09.449368Z",
     "iopub.status.idle": "2021-10-24T15:30:09.456640Z",
     "shell.execute_reply": "2021-10-24T15:30:09.455258Z"
    },
    "papermill": {
     "duration": 0.042271,
     "end_time": "2021-10-24T15:30:09.457063",
     "exception": false,
     "start_time": "2021-10-24T15:30:09.414792",
     "status": "completed"
    },
    "tags": []
   },
   "outputs": [],
   "source": [
    "df_pivot.columns = [\"stamp_1\", \"stamp_2\"]\n",
    "df_pivot_diff = df_pivot.diff(axis=1)"
   ]
  },
  {
   "cell_type": "code",
   "execution_count": 7,
   "id": "fifth-motion",
   "metadata": {
    "execution": {
     "iopub.execute_input": "2021-10-24T15:30:09.511482Z",
     "iopub.status.busy": "2021-10-24T15:30:09.509073Z",
     "iopub.status.idle": "2021-10-24T15:30:11.040867Z",
     "shell.execute_reply": "2021-10-24T15:30:11.042238Z"
    },
    "papermill": {
     "duration": 1.565597,
     "end_time": "2021-10-24T15:30:11.042675",
     "exception": false,
     "start_time": "2021-10-24T15:30:09.477078",
     "status": "completed"
    },
    "tags": []
   },
   "outputs": [
    {
     "data": {
      "text/plain": [
       "<AxesSubplot:ylabel='PRODUCT'>"
      ]
     },
     "execution_count": 7,
     "metadata": {},
     "output_type": "execute_result"
    },
    {
     "data": {
      "image/png": "[encoded data removed]",
      "text/plain": [
       "<Figure size 432x288 with 1 Axes>"
      ]
     },
     "metadata": {
      "needs_background": "light"
     },
     "output_type": "display_data"
    }
   ],
   "source": [
    "df_pivot_diff.sort_values(\"stamp_2\", ascending = False)[\"stamp_2\"].head(10).plot.barh()"
   ]
  },
  {
   "cell_type": "code",
   "execution_count": null,
   "id": "extra-executive",
   "metadata": {
    "papermill": {
     "duration": 0.022193,
     "end_time": "2021-10-24T15:30:11.088600",
     "exception": false,
     "start_time": "2021-10-24T15:30:11.066407",
     "status": "completed"
    },
    "tags": []
   },
   "outputs": [],
   "source": []
  }
 ],
 "metadata": {
  "kernelspec": {
   "display_name": "Python 3",
   "language": "python",
   "name": "python3"
  },
  "language_info": {
   "codemirror_mode": {
    "name": "ipython",
    "version": 3
   },
   "file_extension": ".py",
   "mimetype": "text/x-python",
   "name": "python",
   "nbconvert_exporter": "python",
   "pygments_lexer": "ipython3",
   "version": "3.9.5"
  },
  "papermill": {
   "default_parameters": {},
   "duration": 7.678968,
   "end_time": "2021-10-24T15:30:11.833105",
   "environment_variables": {},
   "exception": null,
   "input_path": "eBay_Overview.ipynb",
   "output_path": "eBay_Overview.ipynb",
   "parameters": {},
   "start_time": "2021-10-24T15:30:04.154137",
   "version": "2.3.3"
  }
 },
 "nbformat": 4,
 "nbformat_minor": 5
}