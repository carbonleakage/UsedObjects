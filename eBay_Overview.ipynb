{
 "cells": [
  {
   "cell_type": "code",
   "execution_count": 1,
   "id": "reverse-picking",
   "metadata": {
    "execution": {
     "iopub.execute_input": "2021-12-04T05:00:08.094538Z",
     "iopub.status.busy": "2021-12-04T05:00:08.092006Z",
     "iopub.status.idle": "2021-12-04T05:00:09.065390Z",
     "shell.execute_reply": "2021-12-04T05:00:09.067098Z"
    },
    "papermill": {
     "duration": 1.023665,
     "end_time": "2021-12-04T05:00:09.067815",
     "exception": false,
     "start_time": "2021-12-04T05:00:08.044150",
     "status": "completed"
    },
    "tags": []
   },
   "outputs": [],
   "source": [
    "import pandas as pd\n",
    "import sqlite3"
   ]
  },
  {
   "cell_type": "code",
   "execution_count": 2,
   "id": "innovative-syndrome",
   "metadata": {
    "execution": {
     "iopub.execute_input": "2021-12-04T05:00:09.187711Z",
     "iopub.status.busy": "2021-12-04T05:00:09.185490Z",
     "iopub.status.idle": "2021-12-04T05:00:10.165775Z",
     "shell.execute_reply": "2021-12-04T05:00:10.167410Z"
    },
    "papermill": {
     "duration": 1.014694,
     "end_time": "2021-12-04T05:00:10.167909",
     "exception": false,
     "start_time": "2021-12-04T05:00:09.153215",
     "status": "completed"
    },
    "tags": []
   },
   "outputs": [],
   "source": [
    "timestamps = pd.read_sql(\"select distinct record_time from EBAY_TOP_BERLIN order by record_time desc limit 2\", sqlite3.connect(\"UsedObjects.db\"))"
   ]
  },
  {
   "cell_type": "code",
   "execution_count": 3,
   "id": "periodic-identification",
   "metadata": {
    "execution": {
     "iopub.execute_input": "2021-12-04T05:00:10.240797Z",
     "iopub.status.busy": "2021-12-04T05:00:10.238439Z",
     "iopub.status.idle": "2021-12-04T05:00:10.261792Z",
     "shell.execute_reply": "2021-12-04T05:00:10.263164Z"
    },
    "papermill": {
     "duration": 0.074605,
     "end_time": "2021-12-04T05:00:10.263637",
     "exception": false,
     "start_time": "2021-12-04T05:00:10.189032",
     "status": "completed"
    },
    "tags": []
   },
   "outputs": [
    {
     "data": {
      "text/html": [
       "<div>\n",
       "<style scoped>\n",
       "    .dataframe tbody tr th:only-of-type {\n",
       "        vertical-align: middle;\n",
       "    }\n",
       "\n",
       "    .dataframe tbody tr th {\n",
       "        vertical-align: top;\n",
       "    }\n",
       "\n",
       "    .dataframe thead th {\n",
       "        text-align: right;\n",
       "    }\n",
       "</style>\n",
       "<table border=\"1\" class=\"dataframe\">\n",
       "  <thead>\n",
       "    <tr style=\"text-align: right;\">\n",
       "      <th></th>\n",
       "      <th>RECORD_TIME</th>\n",
       "    </tr>\n",
       "  </thead>\n",
       "  <tbody>\n",
       "    <tr>\n",
       "      <th>0</th>\n",
       "      <td>2021-12-04 06:00</td>\n",
       "    </tr>\n",
       "    <tr>\n",
       "      <th>1</th>\n",
       "      <td>2021-12-04 05:30</td>\n",
       "    </tr>\n",
       "  </tbody>\n",
       "</table>\n",
       "</div>"
      ],
      "text/plain": [
       "        RECORD_TIME\n",
       "0  2021-12-04 06:00\n",
       "1  2021-12-04 05:30"
      ]
     },
     "execution_count": 3,
     "metadata": {},
     "output_type": "execute_result"
    }
   ],
   "source": [
    "timestamps"
   ]
  },
  {
   "cell_type": "code",
   "execution_count": 4,
   "id": "alternate-victory",
   "metadata": {
    "execution": {
     "iopub.execute_input": "2021-12-04T05:00:10.319349Z",
     "iopub.status.busy": "2021-12-04T05:00:10.317205Z",
     "iopub.status.idle": "2021-12-04T05:00:11.719580Z",
     "shell.execute_reply": "2021-12-04T05:00:11.721208Z"
    },
    "papermill": {
     "duration": 1.43702,
     "end_time": "2021-12-04T05:00:11.721752",
     "exception": false,
     "start_time": "2021-12-04T05:00:10.284732",
     "status": "completed"
    },
    "tags": []
   },
   "outputs": [],
   "source": [
    "df = pd.read_sql(\"select * from EBAY_TOP_BERLIN where record_time in (select distinct record_time from EBAY_TOP_BERLIN order by record_time desc limit 2)\", sqlite3.connect(\"UsedObjects.db\"))"
   ]
  },
  {
   "cell_type": "code",
   "execution_count": 5,
   "id": "popular-active",
   "metadata": {
    "execution": {
     "iopub.execute_input": "2021-12-04T05:00:11.799840Z",
     "iopub.status.busy": "2021-12-04T05:00:11.786122Z",
     "iopub.status.idle": "2021-12-04T05:00:11.817777Z",
     "shell.execute_reply": "2021-12-04T05:00:11.819131Z"
    },
    "papermill": {
     "duration": 0.075131,
     "end_time": "2021-12-04T05:00:11.819606",
     "exception": false,
     "start_time": "2021-12-04T05:00:11.744475",
     "status": "completed"
    },
    "tags": []
   },
   "outputs": [],
   "source": [
    "df_pivot = df.pivot_table(index=\"PRODUCT\", columns = \"RECORD_TIME\", values = \"LISTING_COUNT\")"
   ]
  },
  {
   "cell_type": "code",
   "execution_count": 6,
   "id": "union-huntington",
   "metadata": {
    "execution": {
     "iopub.execute_input": "2021-12-04T05:00:11.878141Z",
     "iopub.status.busy": "2021-12-04T05:00:11.875998Z",
     "iopub.status.idle": "2021-12-04T05:00:11.881749Z",
     "shell.execute_reply": "2021-12-04T05:00:11.883463Z"
    },
    "papermill": {
     "duration": 0.043842,
     "end_time": "2021-12-04T05:00:11.883962",
     "exception": false,
     "start_time": "2021-12-04T05:00:11.840120",
     "status": "completed"
    },
    "tags": []
   },
   "outputs": [],
   "source": [
    "df_pivot.columns = [\"stamp_1\", \"stamp_2\"]\n",
    "df_pivot_diff = df_pivot.diff(axis=1)"
   ]
  },
  {
   "cell_type": "code",
   "execution_count": 7,
   "id": "fifth-motion",
   "metadata": {
    "execution": {
     "iopub.execute_input": "2021-12-04T05:00:11.946862Z",
     "iopub.status.busy": "2021-12-04T05:00:11.943596Z",
     "iopub.status.idle": "2021-12-04T05:00:13.893175Z",
     "shell.execute_reply": "2021-12-04T05:00:13.895677Z"
    },
    "papermill": {
     "duration": 1.988136,
     "end_time": "2021-12-04T05:00:13.896483",
     "exception": false,
     "start_time": "2021-12-04T05:00:11.908347",
     "status": "completed"
    },
    "tags": []
   },
   "outputs": [
    {
     "data": {
      "text/plain": [
       "<AxesSubplot:ylabel='PRODUCT'>"
      ]
     },
     "execution_count": 7,
     "metadata": {},
     "output_type": "execute_result"
    },
    {
     "data": {
      "image/png": "[encoded data removed]",
      "text/plain": [
       "<Figure size 432x288 with 1 Axes>"
      ]
     },
     "metadata": {
      "needs_background": "light"
     },
     "output_type": "display_data"
    }
   ],
   "source": [
    "df_pivot_diff.sort_values(\"stamp_2\", ascending = False)[\"stamp_2\"].head(10).plot.barh()"
   ]
  },
  {
   "cell_type": "code",
   "execution_count": null,
   "id": "extra-executive",
   "metadata": {
    "papermill": {
     "duration": 0.058216,
     "end_time": "2021-12-04T05:00:13.991845",
     "exception": false,
     "start_time": "2021-12-04T05:00:13.933629",
     "status": "completed"
    },
    "tags": []
   },
   "outputs": [],
   "source": []
  }
 ],
 "metadata": {
  "kernelspec": {
   "display_name": "Python 3",
   "language": "python",
   "name": "python3"
  },
  "language_info": {
   "codemirror_mode": {
    "name": "ipython",
    "version": 3
   },
   "file_extension": ".py",
   "mimetype": "text/x-python",
   "name": "python",
   "nbconvert_exporter": "python",
   "pygments_lexer": "ipython3",
   "version": "3.9.5"
  },
  "papermill": {
   "default_parameters": {},
   "duration": 9.927612,
   "end_time": "2021-12-04T05:00:15.231255",
   "environment_variables": {},
   "exception": null,
   "input_path": "eBay_Overview.ipynb",
   "output_path": "eBay_Overview.ipynb",
   "parameters": {},
   "start_time": "2021-12-04T05:00:05.303643",
   "version": "2.3.3"
  }
 },
 "nbformat": 4,
 "nbformat_minor": 5
}