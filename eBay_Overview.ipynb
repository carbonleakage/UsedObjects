{
 "cells": [
  {
   "cell_type": "code",
   "execution_count": 1,
   "id": "reverse-picking",
   "metadata": {
    "execution": {
     "iopub.execute_input": "2021-12-08T03:30:07.751938Z",
     "iopub.status.busy": "2021-12-08T03:30:07.744019Z",
     "iopub.status.idle": "2021-12-08T03:30:08.675996Z",
     "shell.execute_reply": "2021-12-08T03:30:08.677452Z"
    },
    "papermill": {
     "duration": 0.98024,
     "end_time": "2021-12-08T03:30:08.678083",
     "exception": false,
     "start_time": "2021-12-08T03:30:07.697843",
     "status": "completed"
    },
    "tags": []
   },
   "outputs": [],
   "source": [
    "import pandas as pd\n",
    "import sqlite3"
   ]
  },
  {
   "cell_type": "code",
   "execution_count": 2,
   "id": "innovative-syndrome",
   "metadata": {
    "execution": {
     "iopub.execute_input": "2021-12-08T03:30:08.773920Z",
     "iopub.status.busy": "2021-12-08T03:30:08.771653Z",
     "iopub.status.idle": "2021-12-08T03:30:09.798431Z",
     "shell.execute_reply": "2021-12-08T03:30:09.799886Z"
    },
    "papermill": {
     "duration": 1.100994,
     "end_time": "2021-12-08T03:30:09.800382",
     "exception": false,
     "start_time": "2021-12-08T03:30:08.699388",
     "status": "completed"
    },
    "tags": []
   },
   "outputs": [],
   "source": [
    "timestamps = pd.read_sql(\"select distinct record_time from EBAY_TOP_BERLIN order by record_time desc limit 2\", sqlite3.connect(\"UsedObjects.db\"))"
   ]
  },
  {
   "cell_type": "code",
   "execution_count": 3,
   "id": "periodic-identification",
   "metadata": {
    "execution": {
     "iopub.execute_input": "2021-12-08T03:30:09.898097Z",
     "iopub.status.busy": "2021-12-08T03:30:09.894227Z",
     "iopub.status.idle": "2021-12-08T03:30:09.922792Z",
     "shell.execute_reply": "2021-12-08T03:30:09.921035Z"
    },
    "papermill": {
     "duration": 0.10055,
     "end_time": "2021-12-08T03:30:09.923252",
     "exception": false,
     "start_time": "2021-12-08T03:30:09.822702",
     "status": "completed"
    },
    "tags": []
   },
   "outputs": [
    {
     "data": {
      "text/html": [
       "<div>\n",
       "<style scoped>\n",
       "    .dataframe tbody tr th:only-of-type {\n",
       "        vertical-align: middle;\n",
       "    }\n",
       "\n",
       "    .dataframe tbody tr th {\n",
       "        vertical-align: top;\n",
       "    }\n",
       "\n",
       "    .dataframe thead th {\n",
       "        text-align: right;\n",
       "    }\n",
       "</style>\n",
       "<table border=\"1\" class=\"dataframe\">\n",
       "  <thead>\n",
       "    <tr style=\"text-align: right;\">\n",
       "      <th></th>\n",
       "      <th>RECORD_TIME</th>\n",
       "    </tr>\n",
       "  </thead>\n",
       "  <tbody>\n",
       "    <tr>\n",
       "      <th>0</th>\n",
       "      <td>2021-12-08 04:30</td>\n",
       "    </tr>\n",
       "    <tr>\n",
       "      <th>1</th>\n",
       "      <td>2021-12-08 04:00</td>\n",
       "    </tr>\n",
       "  </tbody>\n",
       "</table>\n",
       "</div>"
      ],
      "text/plain": [
       "        RECORD_TIME\n",
       "0  2021-12-08 04:30\n",
       "1  2021-12-08 04:00"
      ]
     },
     "execution_count": 3,
     "metadata": {},
     "output_type": "execute_result"
    }
   ],
   "source": [
    "timestamps"
   ]
  },
  {
   "cell_type": "code",
   "execution_count": 4,
   "id": "alternate-victory",
   "metadata": {
    "execution": {
     "iopub.execute_input": "2021-12-08T03:30:09.980237Z",
     "iopub.status.busy": "2021-12-08T03:30:09.977180Z",
     "iopub.status.idle": "2021-12-08T03:30:11.457999Z",
     "shell.execute_reply": "2021-12-08T03:30:11.460824Z"
    },
    "papermill": {
     "duration": 1.516634,
     "end_time": "2021-12-08T03:30:11.461598",
     "exception": false,
     "start_time": "2021-12-08T03:30:09.944964",
     "status": "completed"
    },
    "tags": []
   },
   "outputs": [],
   "source": [
    "df = pd.read_sql(\"select * from EBAY_TOP_BERLIN where record_time in (select distinct record_time from EBAY_TOP_BERLIN order by record_time desc limit 2)\", sqlite3.connect(\"UsedObjects.db\"))"
   ]
  },
  {
   "cell_type": "code",
   "execution_count": 5,
   "id": "popular-active",
   "metadata": {
    "execution": {
     "iopub.execute_input": "2021-12-08T03:30:11.574958Z",
     "iopub.status.busy": "2021-12-08T03:30:11.556093Z",
     "iopub.status.idle": "2021-12-08T03:30:11.617980Z",
     "shell.execute_reply": "2021-12-08T03:30:11.620477Z"
    },
    "papermill": {
     "duration": 0.127318,
     "end_time": "2021-12-08T03:30:11.621239",
     "exception": false,
     "start_time": "2021-12-08T03:30:11.493921",
     "status": "completed"
    },
    "tags": []
   },
   "outputs": [],
   "source": [
    "df_pivot = df.pivot_table(index=\"PRODUCT\", columns = \"RECORD_TIME\", values = \"LISTING_COUNT\")"
   ]
  },
  {
   "cell_type": "code",
   "execution_count": 6,
   "id": "union-huntington",
   "metadata": {
    "execution": {
     "iopub.execute_input": "2021-12-08T03:30:11.702823Z",
     "iopub.status.busy": "2021-12-08T03:30:11.698935Z",
     "iopub.status.idle": "2021-12-08T03:30:11.713923Z",
     "shell.execute_reply": "2021-12-08T03:30:11.710940Z"
    },
    "papermill": {
     "duration": 0.067736,
     "end_time": "2021-12-08T03:30:11.714645",
     "exception": false,
     "start_time": "2021-12-08T03:30:11.646909",
     "status": "completed"
    },
    "tags": []
   },
   "outputs": [],
   "source": [
    "df_pivot.columns = [\"stamp_1\", \"stamp_2\"]\n",
    "df_pivot_diff = df_pivot.diff(axis=1)"
   ]
  },
  {
   "cell_type": "code",
   "execution_count": 7,
   "id": "fifth-motion",
   "metadata": {
    "execution": {
     "iopub.execute_input": "2021-12-08T03:30:11.797781Z",
     "iopub.status.busy": "2021-12-08T03:30:11.794629Z",
     "iopub.status.idle": "2021-12-08T03:30:13.514365Z",
     "shell.execute_reply": "2021-12-08T03:30:13.515554Z"
    },
    "papermill": {
     "duration": 1.771618,
     "end_time": "2021-12-08T03:30:13.515982",
     "exception": false,
     "start_time": "2021-12-08T03:30:11.744364",
     "status": "completed"
    },
    "tags": []
   },
   "outputs": [
    {
     "data": {
      "text/plain": [
       "<AxesSubplot:ylabel='PRODUCT'>"
      ]
     },
     "execution_count": 7,
     "metadata": {},
     "output_type": "execute_result"
    },
    {
     "data": {
      "image/png": "[encoded data removed]",
      "text/plain": [
       "<Figure size 432x288 with 1 Axes>"
      ]
     },
     "metadata": {
      "needs_background": "light"
     },
     "output_type": "display_data"
    }
   ],
   "source": [
    "df_pivot_diff.sort_values(\"stamp_2\", ascending = False)[\"stamp_2\"].head(10).plot.barh()"
   ]
  },
  {
   "cell_type": "code",
   "execution_count": null,
   "id": "extra-executive",
   "metadata": {
    "papermill": {
     "duration": 0.02224,
     "end_time": "2021-12-08T03:30:13.563588",
     "exception": false,
     "start_time": "2021-12-08T03:30:13.541348",
     "status": "completed"
    },
    "tags": []
   },
   "outputs": [],
   "source": []
  }
 ],
 "metadata": {
  "kernelspec": {
   "display_name": "Python 3",
   "language": "python",
   "name": "python3"
  },
  "language_info": {
   "codemirror_mode": {
    "name": "ipython",
    "version": 3
   },
   "file_extension": ".py",
   "mimetype": "text/x-python",
   "name": "python",
   "nbconvert_exporter": "python",
   "pygments_lexer": "ipython3",
   "version": "3.9.5"
  },
  "papermill": {
   "default_parameters": {},
   "duration": 9.936072,
   "end_time": "2021-12-08T03:30:14.913409",
   "environment_variables": {},
   "exception": null,
   "input_path": "eBay_Overview.ipynb",
   "output_path": "eBay_Overview.ipynb",
   "parameters": {},
   "start_time": "2021-12-08T03:30:04.977337",
   "version": "2.3.3"
  }
 },
 "nbformat": 4,
 "nbformat_minor": 5
}