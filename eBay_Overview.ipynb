{
 "cells": [
  {
   "cell_type": "code",
   "execution_count": 1,
   "id": "reverse-picking",
   "metadata": {
    "execution": {
     "iopub.execute_input": "2021-12-15T01:00:07.995697Z",
     "iopub.status.busy": "2021-12-15T01:00:07.992582Z",
     "iopub.status.idle": "2021-12-15T01:00:09.069578Z",
     "shell.execute_reply": "2021-12-15T01:00:09.071157Z"
    },
    "papermill": {
     "duration": 1.127378,
     "end_time": "2021-12-15T01:00:09.071909",
     "exception": false,
     "start_time": "2021-12-15T01:00:07.944531",
     "status": "completed"
    },
    "tags": []
   },
   "outputs": [],
   "source": [
    "import pandas as pd\n",
    "import sqlite3"
   ]
  },
  {
   "cell_type": "code",
   "execution_count": 2,
   "id": "innovative-syndrome",
   "metadata": {
    "execution": {
     "iopub.execute_input": "2021-12-15T01:00:09.142120Z",
     "iopub.status.busy": "2021-12-15T01:00:09.139369Z",
     "iopub.status.idle": "2021-12-15T01:00:10.225252Z",
     "shell.execute_reply": "2021-12-15T01:00:10.226526Z"
    },
    "papermill": {
     "duration": 1.119973,
     "end_time": "2021-12-15T01:00:10.226921",
     "exception": false,
     "start_time": "2021-12-15T01:00:09.106948",
     "status": "completed"
    },
    "tags": []
   },
   "outputs": [],
   "source": [
    "timestamps = pd.read_sql(\"select distinct record_time from EBAY_TOP_BERLIN order by record_time desc limit 2\", sqlite3.connect(\"UsedObjects.db\"))"
   ]
  },
  {
   "cell_type": "code",
   "execution_count": 3,
   "id": "periodic-identification",
   "metadata": {
    "execution": {
     "iopub.execute_input": "2021-12-15T01:00:10.298499Z",
     "iopub.status.busy": "2021-12-15T01:00:10.293187Z",
     "iopub.status.idle": "2021-12-15T01:00:10.313464Z",
     "shell.execute_reply": "2021-12-15T01:00:10.314682Z"
    },
    "papermill": {
     "duration": 0.066275,
     "end_time": "2021-12-15T01:00:10.315116",
     "exception": false,
     "start_time": "2021-12-15T01:00:10.248841",
     "status": "completed"
    },
    "tags": []
   },
   "outputs": [
    {
     "data": {
      "text/html": [
       "<div>\n",
       "<style scoped>\n",
       "    .dataframe tbody tr th:only-of-type {\n",
       "        vertical-align: middle;\n",
       "    }\n",
       "\n",
       "    .dataframe tbody tr th {\n",
       "        vertical-align: top;\n",
       "    }\n",
       "\n",
       "    .dataframe thead th {\n",
       "        text-align: right;\n",
       "    }\n",
       "</style>\n",
       "<table border=\"1\" class=\"dataframe\">\n",
       "  <thead>\n",
       "    <tr style=\"text-align: right;\">\n",
       "      <th></th>\n",
       "      <th>RECORD_TIME</th>\n",
       "    </tr>\n",
       "  </thead>\n",
       "  <tbody>\n",
       "    <tr>\n",
       "      <th>0</th>\n",
       "      <td>2021-12-15 02:00</td>\n",
       "    </tr>\n",
       "    <tr>\n",
       "      <th>1</th>\n",
       "      <td>2021-12-15 01:30</td>\n",
       "    </tr>\n",
       "  </tbody>\n",
       "</table>\n",
       "</div>"
      ],
      "text/plain": [
       "        RECORD_TIME\n",
       "0  2021-12-15 02:00\n",
       "1  2021-12-15 01:30"
      ]
     },
     "execution_count": 3,
     "metadata": {},
     "output_type": "execute_result"
    }
   ],
   "source": [
    "timestamps"
   ]
  },
  {
   "cell_type": "code",
   "execution_count": 4,
   "id": "alternate-victory",
   "metadata": {
    "execution": {
     "iopub.execute_input": "2021-12-15T01:00:10.366089Z",
     "iopub.status.busy": "2021-12-15T01:00:10.364075Z",
     "iopub.status.idle": "2021-12-15T01:00:11.952014Z",
     "shell.execute_reply": "2021-12-15T01:00:11.953604Z"
    },
    "papermill": {
     "duration": 1.618358,
     "end_time": "2021-12-15T01:00:11.954075",
     "exception": false,
     "start_time": "2021-12-15T01:00:10.335717",
     "status": "completed"
    },
    "tags": []
   },
   "outputs": [],
   "source": [
    "df = pd.read_sql(\"select * from EBAY_TOP_BERLIN where record_time in (select distinct record_time from EBAY_TOP_BERLIN order by record_time desc limit 2)\", sqlite3.connect(\"UsedObjects.db\"))"
   ]
  },
  {
   "cell_type": "code",
   "execution_count": 5,
   "id": "popular-active",
   "metadata": {
    "execution": {
     "iopub.execute_input": "2021-12-15T01:00:12.020004Z",
     "iopub.status.busy": "2021-12-15T01:00:12.017219Z",
     "iopub.status.idle": "2021-12-15T01:00:12.050518Z",
     "shell.execute_reply": "2021-12-15T01:00:12.051979Z"
    },
    "papermill": {
     "duration": 0.077659,
     "end_time": "2021-12-15T01:00:12.052433",
     "exception": false,
     "start_time": "2021-12-15T01:00:11.974774",
     "status": "completed"
    },
    "tags": []
   },
   "outputs": [],
   "source": [
    "df_pivot = df.pivot_table(index=\"PRODUCT\", columns = \"RECORD_TIME\", values = \"LISTING_COUNT\")"
   ]
  },
  {
   "cell_type": "code",
   "execution_count": 6,
   "id": "union-huntington",
   "metadata": {
    "execution": {
     "iopub.execute_input": "2021-12-15T01:00:12.111457Z",
     "iopub.status.busy": "2021-12-15T01:00:12.109210Z",
     "iopub.status.idle": "2021-12-15T01:00:12.114791Z",
     "shell.execute_reply": "2021-12-15T01:00:12.116162Z"
    },
    "papermill": {
     "duration": 0.043908,
     "end_time": "2021-12-15T01:00:12.116638",
     "exception": false,
     "start_time": "2021-12-15T01:00:12.072730",
     "status": "completed"
    },
    "tags": []
   },
   "outputs": [],
   "source": [
    "df_pivot.columns = [\"stamp_1\", \"stamp_2\"]\n",
    "df_pivot_diff = df_pivot.diff(axis=1)"
   ]
  },
  {
   "cell_type": "code",
   "execution_count": 7,
   "id": "fifth-motion",
   "metadata": {
    "execution": {
     "iopub.execute_input": "2021-12-15T01:00:12.181843Z",
     "iopub.status.busy": "2021-12-15T01:00:12.175659Z",
     "iopub.status.idle": "2021-12-15T01:00:14.209819Z",
     "shell.execute_reply": "2021-12-15T01:00:14.211213Z"
    },
    "papermill": {
     "duration": 2.074292,
     "end_time": "2021-12-15T01:00:14.211658",
     "exception": false,
     "start_time": "2021-12-15T01:00:12.137366",
     "status": "completed"
    },
    "tags": []
   },
   "outputs": [
    {
     "data": {
      "text/plain": [
       "<AxesSubplot:ylabel='PRODUCT'>"
      ]
     },
     "execution_count": 7,
     "metadata": {},
     "output_type": "execute_result"
    },
    {
     "data": {
      "image/png": "[encoded data removed]",
      "text/plain": [
       "<Figure size 432x288 with 1 Axes>"
      ]
     },
     "metadata": {
      "needs_background": "light"
     },
     "output_type": "display_data"
    }
   ],
   "source": [
    "df_pivot_diff.sort_values(\"stamp_2\", ascending = False)[\"stamp_2\"].head(10).plot.barh()"
   ]
  },
  {
   "cell_type": "code",
   "execution_count": null,
   "id": "extra-executive",
   "metadata": {
    "papermill": {
     "duration": 0.026775,
     "end_time": "2021-12-15T01:00:14.271544",
     "exception": false,
     "start_time": "2021-12-15T01:00:14.244769",
     "status": "completed"
    },
    "tags": []
   },
   "outputs": [],
   "source": []
  }
 ],
 "metadata": {
  "kernelspec": {
   "display_name": "Python 3",
   "language": "python",
   "name": "python3"
  },
  "language_info": {
   "codemirror_mode": {
    "name": "ipython",
    "version": 3
   },
   "file_extension": ".py",
   "mimetype": "text/x-python",
   "name": "python",
   "nbconvert_exporter": "python",
   "pygments_lexer": "ipython3",
   "version": "3.9.5"
  },
  "papermill": {
   "default_parameters": {},
   "duration": 9.705691,
   "end_time": "2021-12-15T01:00:14.921733",
   "environment_variables": {},
   "exception": null,
   "input_path": "eBay_Overview.ipynb",
   "output_path": "eBay_Overview.ipynb",
   "parameters": {},
   "start_time": "2021-12-15T01:00:05.216042",
   "version": "2.3.3"
  }
 },
 "nbformat": 4,
 "nbformat_minor": 5
}