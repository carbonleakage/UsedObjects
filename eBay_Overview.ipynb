{
 "cells": [
  {
   "cell_type": "code",
   "execution_count": 1,
   "id": "reverse-picking",
   "metadata": {
    "execution": {
     "iopub.execute_input": "2021-10-07T12:00:07.372452Z",
     "iopub.status.busy": "2021-10-07T12:00:07.370492Z",
     "iopub.status.idle": "2021-10-07T12:00:08.178893Z",
     "shell.execute_reply": "2021-10-07T12:00:08.180165Z"
    },
    "papermill": {
     "duration": 0.860368,
     "end_time": "2021-10-07T12:00:08.180786",
     "exception": false,
     "start_time": "2021-10-07T12:00:07.320418",
     "status": "completed"
    },
    "tags": []
   },
   "outputs": [],
   "source": [
    "import pandas as pd\n",
    "import sqlite3"
   ]
  },
  {
   "cell_type": "code",
   "execution_count": 2,
   "id": "innovative-syndrome",
   "metadata": {
    "execution": {
     "iopub.execute_input": "2021-10-07T12:00:08.234307Z",
     "iopub.status.busy": "2021-10-07T12:00:08.232032Z",
     "iopub.status.idle": "2021-10-07T12:00:08.703444Z",
     "shell.execute_reply": "2021-10-07T12:00:08.704641Z"
    },
    "papermill": {
     "duration": 0.501089,
     "end_time": "2021-10-07T12:00:08.705036",
     "exception": false,
     "start_time": "2021-10-07T12:00:08.203947",
     "status": "completed"
    },
    "tags": []
   },
   "outputs": [],
   "source": [
    "timestamps = pd.read_sql(\"select distinct record_time from EBAY_TOP_BERLIN order by record_time desc limit 2\", sqlite3.connect(\"UsedObjects.db\"))"
   ]
  },
  {
   "cell_type": "code",
   "execution_count": 3,
   "id": "periodic-identification",
   "metadata": {
    "execution": {
     "iopub.execute_input": "2021-10-07T12:00:08.769882Z",
     "iopub.status.busy": "2021-10-07T12:00:08.767898Z",
     "iopub.status.idle": "2021-10-07T12:00:08.787451Z",
     "shell.execute_reply": "2021-10-07T12:00:08.788625Z"
    },
    "papermill": {
     "duration": 0.063377,
     "end_time": "2021-10-07T12:00:08.789054",
     "exception": false,
     "start_time": "2021-10-07T12:00:08.725677",
     "status": "completed"
    },
    "tags": []
   },
   "outputs": [
    {
     "data": {
      "text/html": [
       "<div>\n",
       "<style scoped>\n",
       "    .dataframe tbody tr th:only-of-type {\n",
       "        vertical-align: middle;\n",
       "    }\n",
       "\n",
       "    .dataframe tbody tr th {\n",
       "        vertical-align: top;\n",
       "    }\n",
       "\n",
       "    .dataframe thead th {\n",
       "        text-align: right;\n",
       "    }\n",
       "</style>\n",
       "<table border=\"1\" class=\"dataframe\">\n",
       "  <thead>\n",
       "    <tr style=\"text-align: right;\">\n",
       "      <th></th>\n",
       "      <th>RECORD_TIME</th>\n",
       "    </tr>\n",
       "  </thead>\n",
       "  <tbody>\n",
       "    <tr>\n",
       "      <th>0</th>\n",
       "      <td>2021-10-07 14:00</td>\n",
       "    </tr>\n",
       "    <tr>\n",
       "      <th>1</th>\n",
       "      <td>2021-10-07 13:30</td>\n",
       "    </tr>\n",
       "  </tbody>\n",
       "</table>\n",
       "</div>"
      ],
      "text/plain": [
       "        RECORD_TIME\n",
       "0  2021-10-07 14:00\n",
       "1  2021-10-07 13:30"
      ]
     },
     "execution_count": 3,
     "metadata": {},
     "output_type": "execute_result"
    }
   ],
   "source": [
    "timestamps"
   ]
  },
  {
   "cell_type": "code",
   "execution_count": 4,
   "id": "alternate-victory",
   "metadata": {
    "execution": {
     "iopub.execute_input": "2021-10-07T12:00:08.850344Z",
     "iopub.status.busy": "2021-10-07T12:00:08.848547Z",
     "iopub.status.idle": "2021-10-07T12:00:09.562597Z",
     "shell.execute_reply": "2021-10-07T12:00:09.563917Z"
    },
    "papermill": {
     "duration": 0.74684,
     "end_time": "2021-10-07T12:00:09.564338",
     "exception": false,
     "start_time": "2021-10-07T12:00:08.817498",
     "status": "completed"
    },
    "tags": []
   },
   "outputs": [],
   "source": [
    "df = pd.read_sql(\"select * from EBAY_TOP_BERLIN where record_time in (select distinct record_time from EBAY_TOP_BERLIN order by record_time desc limit 2)\", sqlite3.connect(\"UsedObjects.db\"))"
   ]
  },
  {
   "cell_type": "code",
   "execution_count": 5,
   "id": "popular-active",
   "metadata": {
    "execution": {
     "iopub.execute_input": "2021-10-07T12:00:09.634021Z",
     "iopub.status.busy": "2021-10-07T12:00:09.622577Z",
     "iopub.status.idle": "2021-10-07T12:00:09.650976Z",
     "shell.execute_reply": "2021-10-07T12:00:09.652352Z"
    },
    "papermill": {
     "duration": 0.066846,
     "end_time": "2021-10-07T12:00:09.652797",
     "exception": false,
     "start_time": "2021-10-07T12:00:09.585951",
     "status": "completed"
    },
    "tags": []
   },
   "outputs": [],
   "source": [
    "df_pivot = df.pivot_table(index=\"PRODUCT\", columns = \"RECORD_TIME\", values = \"LISTING_COUNT\")"
   ]
  },
  {
   "cell_type": "code",
   "execution_count": 6,
   "id": "union-huntington",
   "metadata": {
    "execution": {
     "iopub.execute_input": "2021-10-07T12:00:09.710231Z",
     "iopub.status.busy": "2021-10-07T12:00:09.707833Z",
     "iopub.status.idle": "2021-10-07T12:00:09.713709Z",
     "shell.execute_reply": "2021-10-07T12:00:09.715114Z"
    },
    "papermill": {
     "duration": 0.042337,
     "end_time": "2021-10-07T12:00:09.715556",
     "exception": false,
     "start_time": "2021-10-07T12:00:09.673219",
     "status": "completed"
    },
    "tags": []
   },
   "outputs": [],
   "source": [
    "df_pivot.columns = [\"stamp_1\", \"stamp_2\"]\n",
    "df_pivot_diff = df_pivot.diff(axis=1)"
   ]
  },
  {
   "cell_type": "code",
   "execution_count": 7,
   "id": "fifth-motion",
   "metadata": {
    "execution": {
     "iopub.execute_input": "2021-10-07T12:00:09.770675Z",
     "iopub.status.busy": "2021-10-07T12:00:09.768529Z",
     "iopub.status.idle": "2021-10-07T12:00:11.236741Z",
     "shell.execute_reply": "2021-10-07T12:00:11.238004Z"
    },
    "papermill": {
     "duration": 1.50144,
     "end_time": "2021-10-07T12:00:11.238419",
     "exception": false,
     "start_time": "2021-10-07T12:00:09.736979",
     "status": "completed"
    },
    "tags": []
   },
   "outputs": [
    {
     "data": {
      "text/plain": [
       "<AxesSubplot:ylabel='PRODUCT'>"
      ]
     },
     "execution_count": 7,
     "metadata": {},
     "output_type": "execute_result"
    },
    {
     "data": {
      "image/png": "[encoded data removed]",
      "text/plain": [
       "<Figure size 432x288 with 1 Axes>"
      ]
     },
     "metadata": {
      "needs_background": "light"
     },
     "output_type": "display_data"
    }
   ],
   "source": [
    "df_pivot_diff.sort_values(\"stamp_2\", ascending = False)[\"stamp_2\"].head(10).plot.barh()"
   ]
  },
  {
   "cell_type": "code",
   "execution_count": null,
   "id": "extra-executive",
   "metadata": {
    "papermill": {
     "duration": 0.021965,
     "end_time": "2021-10-07T12:00:11.285144",
     "exception": false,
     "start_time": "2021-10-07T12:00:11.263179",
     "status": "completed"
    },
    "tags": []
   },
   "outputs": [],
   "source": []
  }
 ],
 "metadata": {
  "kernelspec": {
   "display_name": "Python 3",
   "language": "python",
   "name": "python3"
  },
  "language_info": {
   "codemirror_mode": {
    "name": "ipython",
    "version": 3
   },
   "file_extension": ".py",
   "mimetype": "text/x-python",
   "name": "python",
   "nbconvert_exporter": "python",
   "pygments_lexer": "ipython3",
   "version": "3.9.5"
  },
  "papermill": {
   "default_parameters": {},
   "duration": 7.834269,
   "end_time": "2021-10-07T12:00:12.757603",
   "environment_variables": {},
   "exception": null,
   "input_path": "eBay_Overview.ipynb",
   "output_path": "eBay_Overview.ipynb",
   "parameters": {},
   "start_time": "2021-10-07T12:00:04.923334",
   "version": "2.3.3"
  }
 },
 "nbformat": 4,
 "nbformat_minor": 5
}