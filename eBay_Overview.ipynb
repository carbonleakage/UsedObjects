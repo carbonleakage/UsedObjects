{
 "cells": [
  {
   "cell_type": "code",
   "execution_count": 1,
   "id": "reverse-picking",
   "metadata": {
    "execution": {
     "iopub.execute_input": "2021-12-04T16:00:07.844364Z",
     "iopub.status.busy": "2021-12-04T16:00:07.842039Z",
     "iopub.status.idle": "2021-12-04T16:00:08.792214Z",
     "shell.execute_reply": "2021-12-04T16:00:08.793862Z"
    },
    "papermill": {
     "duration": 1.000366,
     "end_time": "2021-12-04T16:00:08.794631",
     "exception": false,
     "start_time": "2021-12-04T16:00:07.794265",
     "status": "completed"
    },
    "tags": []
   },
   "outputs": [],
   "source": [
    "import pandas as pd\n",
    "import sqlite3"
   ]
  },
  {
   "cell_type": "code",
   "execution_count": 2,
   "id": "innovative-syndrome",
   "metadata": {
    "execution": {
     "iopub.execute_input": "2021-12-04T16:00:08.856968Z",
     "iopub.status.busy": "2021-12-04T16:00:08.854687Z",
     "iopub.status.idle": "2021-12-04T16:00:09.839338Z",
     "shell.execute_reply": "2021-12-04T16:00:09.841182Z"
    },
    "papermill": {
     "duration": 1.020286,
     "end_time": "2021-12-04T16:00:09.841679",
     "exception": false,
     "start_time": "2021-12-04T16:00:08.821393",
     "status": "completed"
    },
    "tags": []
   },
   "outputs": [],
   "source": [
    "timestamps = pd.read_sql(\"select distinct record_time from EBAY_TOP_BERLIN order by record_time desc limit 2\", sqlite3.connect(\"UsedObjects.db\"))"
   ]
  },
  {
   "cell_type": "code",
   "execution_count": 3,
   "id": "periodic-identification",
   "metadata": {
    "execution": {
     "iopub.execute_input": "2021-12-04T16:00:09.917485Z",
     "iopub.status.busy": "2021-12-04T16:00:09.910974Z",
     "iopub.status.idle": "2021-12-04T16:00:09.942927Z",
     "shell.execute_reply": "2021-12-04T16:00:09.945369Z"
    },
    "papermill": {
     "duration": 0.08404,
     "end_time": "2021-12-04T16:00:09.945912",
     "exception": false,
     "start_time": "2021-12-04T16:00:09.861872",
     "status": "completed"
    },
    "tags": []
   },
   "outputs": [
    {
     "data": {
      "text/html": [
       "<div>\n",
       "<style scoped>\n",
       "    .dataframe tbody tr th:only-of-type {\n",
       "        vertical-align: middle;\n",
       "    }\n",
       "\n",
       "    .dataframe tbody tr th {\n",
       "        vertical-align: top;\n",
       "    }\n",
       "\n",
       "    .dataframe thead th {\n",
       "        text-align: right;\n",
       "    }\n",
       "</style>\n",
       "<table border=\"1\" class=\"dataframe\">\n",
       "  <thead>\n",
       "    <tr style=\"text-align: right;\">\n",
       "      <th></th>\n",
       "      <th>RECORD_TIME</th>\n",
       "    </tr>\n",
       "  </thead>\n",
       "  <tbody>\n",
       "    <tr>\n",
       "      <th>0</th>\n",
       "      <td>2021-12-04 17:00</td>\n",
       "    </tr>\n",
       "    <tr>\n",
       "      <th>1</th>\n",
       "      <td>2021-12-04 16:30</td>\n",
       "    </tr>\n",
       "  </tbody>\n",
       "</table>\n",
       "</div>"
      ],
      "text/plain": [
       "        RECORD_TIME\n",
       "0  2021-12-04 17:00\n",
       "1  2021-12-04 16:30"
      ]
     },
     "execution_count": 3,
     "metadata": {},
     "output_type": "execute_result"
    }
   ],
   "source": [
    "timestamps"
   ]
  },
  {
   "cell_type": "code",
   "execution_count": 4,
   "id": "alternate-victory",
   "metadata": {
    "execution": {
     "iopub.execute_input": "2021-12-04T16:00:10.002807Z",
     "iopub.status.busy": "2021-12-04T16:00:09.999085Z",
     "iopub.status.idle": "2021-12-04T16:00:11.441198Z",
     "shell.execute_reply": "2021-12-04T16:00:11.443406Z"
    },
    "papermill": {
     "duration": 1.476381,
     "end_time": "2021-12-04T16:00:11.443899",
     "exception": false,
     "start_time": "2021-12-04T16:00:09.967518",
     "status": "completed"
    },
    "tags": []
   },
   "outputs": [],
   "source": [
    "df = pd.read_sql(\"select * from EBAY_TOP_BERLIN where record_time in (select distinct record_time from EBAY_TOP_BERLIN order by record_time desc limit 2)\", sqlite3.connect(\"UsedObjects.db\"))"
   ]
  },
  {
   "cell_type": "code",
   "execution_count": 5,
   "id": "popular-active",
   "metadata": {
    "execution": {
     "iopub.execute_input": "2021-12-04T16:00:11.522550Z",
     "iopub.status.busy": "2021-12-04T16:00:11.511628Z",
     "iopub.status.idle": "2021-12-04T16:00:11.540811Z",
     "shell.execute_reply": "2021-12-04T16:00:11.542215Z"
    },
    "papermill": {
     "duration": 0.077257,
     "end_time": "2021-12-04T16:00:11.542685",
     "exception": false,
     "start_time": "2021-12-04T16:00:11.465428",
     "status": "completed"
    },
    "tags": []
   },
   "outputs": [],
   "source": [
    "df_pivot = df.pivot_table(index=\"PRODUCT\", columns = \"RECORD_TIME\", values = \"LISTING_COUNT\")"
   ]
  },
  {
   "cell_type": "code",
   "execution_count": 6,
   "id": "union-huntington",
   "metadata": {
    "execution": {
     "iopub.execute_input": "2021-12-04T16:00:11.600469Z",
     "iopub.status.busy": "2021-12-04T16:00:11.598251Z",
     "iopub.status.idle": "2021-12-04T16:00:11.603959Z",
     "shell.execute_reply": "2021-12-04T16:00:11.605502Z"
    },
    "papermill": {
     "duration": 0.043701,
     "end_time": "2021-12-04T16:00:11.605970",
     "exception": false,
     "start_time": "2021-12-04T16:00:11.562269",
     "status": "completed"
    },
    "tags": []
   },
   "outputs": [],
   "source": [
    "df_pivot.columns = [\"stamp_1\", \"stamp_2\"]\n",
    "df_pivot_diff = df_pivot.diff(axis=1)"
   ]
  },
  {
   "cell_type": "code",
   "execution_count": 7,
   "id": "fifth-motion",
   "metadata": {
    "execution": {
     "iopub.execute_input": "2021-12-04T16:00:11.669212Z",
     "iopub.status.busy": "2021-12-04T16:00:11.666489Z",
     "iopub.status.idle": "2021-12-04T16:00:13.637341Z",
     "shell.execute_reply": "2021-12-04T16:00:13.640268Z"
    },
    "papermill": {
     "duration": 2.015161,
     "end_time": "2021-12-04T16:00:13.641137",
     "exception": false,
     "start_time": "2021-12-04T16:00:11.625976",
     "status": "completed"
    },
    "tags": []
   },
   "outputs": [
    {
     "data": {
      "text/plain": [
       "<AxesSubplot:ylabel='PRODUCT'>"
      ]
     },
     "execution_count": 7,
     "metadata": {},
     "output_type": "execute_result"
    },
    {
     "data": {
      "image/png": "[encoded data removed]",
      "text/plain": [
       "<Figure size 432x288 with 1 Axes>"
      ]
     },
     "metadata": {
      "needs_background": "light"
     },
     "output_type": "display_data"
    }
   ],
   "source": [
    "df_pivot_diff.sort_values(\"stamp_2\", ascending = False)[\"stamp_2\"].head(10).plot.barh()"
   ]
  },
  {
   "cell_type": "code",
   "execution_count": null,
   "id": "extra-executive",
   "metadata": {
    "papermill": {
     "duration": 0.033258,
     "end_time": "2021-12-04T16:00:13.711326",
     "exception": false,
     "start_time": "2021-12-04T16:00:13.678068",
     "status": "completed"
    },
    "tags": []
   },
   "outputs": [],
   "source": []
  }
 ],
 "metadata": {
  "kernelspec": {
   "display_name": "Python 3",
   "language": "python",
   "name": "python3"
  },
  "language_info": {
   "codemirror_mode": {
    "name": "ipython",
    "version": 3
   },
   "file_extension": ".py",
   "mimetype": "text/x-python",
   "name": "python",
   "nbconvert_exporter": "python",
   "pygments_lexer": "ipython3",
   "version": "3.9.5"
  },
  "papermill": {
   "default_parameters": {},
   "duration": 9.932435,
   "end_time": "2021-12-04T16:00:14.993081",
   "environment_variables": {},
   "exception": null,
   "input_path": "eBay_Overview.ipynb",
   "output_path": "eBay_Overview.ipynb",
   "parameters": {},
   "start_time": "2021-12-04T16:00:05.060646",
   "version": "2.3.3"
  }
 },
 "nbformat": 4,
 "nbformat_minor": 5
}