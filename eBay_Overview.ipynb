{
 "cells": [
  {
   "cell_type": "code",
   "execution_count": 1,
   "id": "reverse-picking",
   "metadata": {
    "execution": {
     "iopub.execute_input": "2021-08-27T13:30:07.246496Z",
     "iopub.status.busy": "2021-08-27T13:30:07.244546Z",
     "iopub.status.idle": "2021-08-27T13:30:08.048505Z",
     "shell.execute_reply": "2021-08-27T13:30:08.046786Z"
    },
    "papermill": {
     "duration": 0.85536,
     "end_time": "2021-08-27T13:30:08.048937",
     "exception": false,
     "start_time": "2021-08-27T13:30:07.193577",
     "status": "completed"
    },
    "tags": []
   },
   "outputs": [],
   "source": [
    "import pandas as pd\n",
    "import sqlite3"
   ]
  },
  {
   "cell_type": "code",
   "execution_count": 2,
   "id": "innovative-syndrome",
   "metadata": {
    "execution": {
     "iopub.execute_input": "2021-08-27T13:30:08.099903Z",
     "iopub.status.busy": "2021-08-27T13:30:08.097953Z",
     "iopub.status.idle": "2021-08-27T13:30:08.242100Z",
     "shell.execute_reply": "2021-08-27T13:30:08.243311Z"
    },
    "papermill": {
     "duration": 0.174326,
     "end_time": "2021-08-27T13:30:08.243715",
     "exception": false,
     "start_time": "2021-08-27T13:30:08.069389",
     "status": "completed"
    },
    "tags": []
   },
   "outputs": [],
   "source": [
    "timestamps = pd.read_sql(\"select distinct record_time from EBAY_TOP_BERLIN order by record_time desc limit 2\", sqlite3.connect(\"UsedObjects.db\"))"
   ]
  },
  {
   "cell_type": "code",
   "execution_count": 3,
   "id": "periodic-identification",
   "metadata": {
    "execution": {
     "iopub.execute_input": "2021-08-27T13:30:08.309706Z",
     "iopub.status.busy": "2021-08-27T13:30:08.307522Z",
     "iopub.status.idle": "2021-08-27T13:30:08.327708Z",
     "shell.execute_reply": "2021-08-27T13:30:08.328946Z"
    },
    "papermill": {
     "duration": 0.064573,
     "end_time": "2021-08-27T13:30:08.329371",
     "exception": false,
     "start_time": "2021-08-27T13:30:08.264798",
     "status": "completed"
    },
    "tags": []
   },
   "outputs": [
    {
     "data": {
      "text/html": [
       "<div>\n",
       "<style scoped>\n",
       "    .dataframe tbody tr th:only-of-type {\n",
       "        vertical-align: middle;\n",
       "    }\n",
       "\n",
       "    .dataframe tbody tr th {\n",
       "        vertical-align: top;\n",
       "    }\n",
       "\n",
       "    .dataframe thead th {\n",
       "        text-align: right;\n",
       "    }\n",
       "</style>\n",
       "<table border=\"1\" class=\"dataframe\">\n",
       "  <thead>\n",
       "    <tr style=\"text-align: right;\">\n",
       "      <th></th>\n",
       "      <th>RECORD_TIME</th>\n",
       "    </tr>\n",
       "  </thead>\n",
       "  <tbody>\n",
       "    <tr>\n",
       "      <th>0</th>\n",
       "      <td>2021-08-27 15:30</td>\n",
       "    </tr>\n",
       "    <tr>\n",
       "      <th>1</th>\n",
       "      <td>2021-08-27 15:00</td>\n",
       "    </tr>\n",
       "  </tbody>\n",
       "</table>\n",
       "</div>"
      ],
      "text/plain": [
       "        RECORD_TIME\n",
       "0  2021-08-27 15:30\n",
       "1  2021-08-27 15:00"
      ]
     },
     "execution_count": 3,
     "metadata": {},
     "output_type": "execute_result"
    }
   ],
   "source": [
    "timestamps"
   ]
  },
  {
   "cell_type": "code",
   "execution_count": 4,
   "id": "alternate-victory",
   "metadata": {
    "execution": {
     "iopub.execute_input": "2021-08-27T13:30:08.383163Z",
     "iopub.status.busy": "2021-08-27T13:30:08.380864Z",
     "iopub.status.idle": "2021-08-27T13:30:08.597092Z",
     "shell.execute_reply": "2021-08-27T13:30:08.598495Z"
    },
    "papermill": {
     "duration": 0.24681,
     "end_time": "2021-08-27T13:30:08.598938",
     "exception": false,
     "start_time": "2021-08-27T13:30:08.352128",
     "status": "completed"
    },
    "tags": []
   },
   "outputs": [],
   "source": [
    "df = pd.read_sql(\"select * from EBAY_TOP_BERLIN where record_time in (select distinct record_time from EBAY_TOP_BERLIN order by record_time desc limit 2)\", sqlite3.connect(\"UsedObjects.db\"))"
   ]
  },
  {
   "cell_type": "code",
   "execution_count": 5,
   "id": "popular-active",
   "metadata": {
    "execution": {
     "iopub.execute_input": "2021-08-27T13:30:08.660720Z",
     "iopub.status.busy": "2021-08-27T13:30:08.658617Z",
     "iopub.status.idle": "2021-08-27T13:30:08.685978Z",
     "shell.execute_reply": "2021-08-27T13:30:08.687196Z"
    },
    "papermill": {
     "duration": 0.067255,
     "end_time": "2021-08-27T13:30:08.687595",
     "exception": false,
     "start_time": "2021-08-27T13:30:08.620340",
     "status": "completed"
    },
    "tags": []
   },
   "outputs": [],
   "source": [
    "df_pivot = df.pivot_table(index=\"PRODUCT\", columns = \"RECORD_TIME\", values = \"LISTING_COUNT\")"
   ]
  },
  {
   "cell_type": "code",
   "execution_count": 6,
   "id": "union-huntington",
   "metadata": {
    "execution": {
     "iopub.execute_input": "2021-08-27T13:30:08.754663Z",
     "iopub.status.busy": "2021-08-27T13:30:08.752100Z",
     "iopub.status.idle": "2021-08-27T13:30:08.757866Z",
     "shell.execute_reply": "2021-08-27T13:30:08.759172Z"
    },
    "papermill": {
     "duration": 0.044577,
     "end_time": "2021-08-27T13:30:08.759588",
     "exception": false,
     "start_time": "2021-08-27T13:30:08.715011",
     "status": "completed"
    },
    "tags": []
   },
   "outputs": [],
   "source": [
    "df_pivot.columns = [\"stamp_1\", \"stamp_2\"]\n",
    "df_pivot_diff = df_pivot.diff(axis=1)"
   ]
  },
  {
   "cell_type": "code",
   "execution_count": 7,
   "id": "fifth-motion",
   "metadata": {
    "execution": {
     "iopub.execute_input": "2021-08-27T13:30:08.813915Z",
     "iopub.status.busy": "2021-08-27T13:30:08.811461Z",
     "iopub.status.idle": "2021-08-27T13:30:10.275034Z",
     "shell.execute_reply": "2021-08-27T13:30:10.276472Z"
    },
    "papermill": {
     "duration": 1.497191,
     "end_time": "2021-08-27T13:30:10.276924",
     "exception": false,
     "start_time": "2021-08-27T13:30:08.779733",
     "status": "completed"
    },
    "tags": []
   },
   "outputs": [
    {
     "data": {
      "text/plain": [
       "<AxesSubplot:ylabel='PRODUCT'>"
      ]
     },
     "execution_count": 7,
     "metadata": {},
     "output_type": "execute_result"
    },
    {
     "data": {
      "image/png": "[encoded data removed]",
      "text/plain": [
       "<Figure size 432x288 with 1 Axes>"
      ]
     },
     "metadata": {
      "needs_background": "light"
     },
     "output_type": "display_data"
    }
   ],
   "source": [
    "df_pivot_diff.sort_values(\"stamp_2\", ascending = False)[\"stamp_2\"].head(10).plot.barh()"
   ]
  },
  {
   "cell_type": "code",
   "execution_count": null,
   "id": "extra-executive",
   "metadata": {
    "papermill": {
     "duration": 0.022172,
     "end_time": "2021-08-27T13:30:10.322860",
     "exception": false,
     "start_time": "2021-08-27T13:30:10.300688",
     "status": "completed"
    },
    "tags": []
   },
   "outputs": [],
   "source": []
  }
 ],
 "metadata": {
  "kernelspec": {
   "display_name": "Python 3",
   "language": "python",
   "name": "python3"
  },
  "language_info": {
   "codemirror_mode": {
    "name": "ipython",
    "version": 3
   },
   "file_extension": ".py",
   "mimetype": "text/x-python",
   "name": "python",
   "nbconvert_exporter": "python",
   "pygments_lexer": "ipython3",
   "version": "3.9.5"
  },
  "papermill": {
   "default_parameters": {},
   "duration": 6.826622,
   "end_time": "2021-08-27T13:30:11.623303",
   "environment_variables": {},
   "exception": null,
   "input_path": "eBay_Overview.ipynb",
   "output_path": "eBay_Overview.ipynb",
   "parameters": {},
   "start_time": "2021-08-27T13:30:04.796681",
   "version": "2.3.3"
  }
 },
 "nbformat": 4,
 "nbformat_minor": 5
}