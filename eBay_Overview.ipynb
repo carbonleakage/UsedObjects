{
 "cells": [
  {
   "cell_type": "code",
   "execution_count": 1,
   "id": "reverse-picking",
   "metadata": {
    "execution": {
     "iopub.execute_input": "2021-10-20T17:00:06.738955Z",
     "iopub.status.busy": "2021-10-20T17:00:06.736949Z",
     "iopub.status.idle": "2021-10-20T17:00:07.545470Z",
     "shell.execute_reply": "2021-10-20T17:00:07.546780Z"
    },
    "papermill": {
     "duration": 0.86192,
     "end_time": "2021-10-20T17:00:07.547406",
     "exception": false,
     "start_time": "2021-10-20T17:00:06.685486",
     "status": "completed"
    },
    "tags": []
   },
   "outputs": [],
   "source": [
    "import pandas as pd\n",
    "import sqlite3"
   ]
  },
  {
   "cell_type": "code",
   "execution_count": 2,
   "id": "innovative-syndrome",
   "metadata": {
    "execution": {
     "iopub.execute_input": "2021-10-20T17:00:07.602028Z",
     "iopub.status.busy": "2021-10-20T17:00:07.599599Z",
     "iopub.status.idle": "2021-10-20T17:00:08.191096Z",
     "shell.execute_reply": "2021-10-20T17:00:08.192331Z"
    },
    "papermill": {
     "duration": 0.621867,
     "end_time": "2021-10-20T17:00:08.192774",
     "exception": false,
     "start_time": "2021-10-20T17:00:07.570907",
     "status": "completed"
    },
    "tags": []
   },
   "outputs": [],
   "source": [
    "timestamps = pd.read_sql(\"select distinct record_time from EBAY_TOP_BERLIN order by record_time desc limit 2\", sqlite3.connect(\"UsedObjects.db\"))"
   ]
  },
  {
   "cell_type": "code",
   "execution_count": 3,
   "id": "periodic-identification",
   "metadata": {
    "execution": {
     "iopub.execute_input": "2021-10-20T17:00:08.267057Z",
     "iopub.status.busy": "2021-10-20T17:00:08.264999Z",
     "iopub.status.idle": "2021-10-20T17:00:08.284813Z",
     "shell.execute_reply": "2021-10-20T17:00:08.286202Z"
    },
    "papermill": {
     "duration": 0.068859,
     "end_time": "2021-10-20T17:00:08.286615",
     "exception": false,
     "start_time": "2021-10-20T17:00:08.217756",
     "status": "completed"
    },
    "tags": []
   },
   "outputs": [
    {
     "data": {
      "text/html": [
       "<div>\n",
       "<style scoped>\n",
       "    .dataframe tbody tr th:only-of-type {\n",
       "        vertical-align: middle;\n",
       "    }\n",
       "\n",
       "    .dataframe tbody tr th {\n",
       "        vertical-align: top;\n",
       "    }\n",
       "\n",
       "    .dataframe thead th {\n",
       "        text-align: right;\n",
       "    }\n",
       "</style>\n",
       "<table border=\"1\" class=\"dataframe\">\n",
       "  <thead>\n",
       "    <tr style=\"text-align: right;\">\n",
       "      <th></th>\n",
       "      <th>RECORD_TIME</th>\n",
       "    </tr>\n",
       "  </thead>\n",
       "  <tbody>\n",
       "    <tr>\n",
       "      <th>0</th>\n",
       "      <td>2021-10-20 19:00</td>\n",
       "    </tr>\n",
       "    <tr>\n",
       "      <th>1</th>\n",
       "      <td>2021-10-20 18:30</td>\n",
       "    </tr>\n",
       "  </tbody>\n",
       "</table>\n",
       "</div>"
      ],
      "text/plain": [
       "        RECORD_TIME\n",
       "0  2021-10-20 19:00\n",
       "1  2021-10-20 18:30"
      ]
     },
     "execution_count": 3,
     "metadata": {},
     "output_type": "execute_result"
    }
   ],
   "source": [
    "timestamps"
   ]
  },
  {
   "cell_type": "code",
   "execution_count": 4,
   "id": "alternate-victory",
   "metadata": {
    "execution": {
     "iopub.execute_input": "2021-10-20T17:00:08.338920Z",
     "iopub.status.busy": "2021-10-20T17:00:08.336729Z",
     "iopub.status.idle": "2021-10-20T17:00:09.215615Z",
     "shell.execute_reply": "2021-10-20T17:00:09.217036Z"
    },
    "papermill": {
     "duration": 0.909665,
     "end_time": "2021-10-20T17:00:09.217510",
     "exception": false,
     "start_time": "2021-10-20T17:00:08.307845",
     "status": "completed"
    },
    "tags": []
   },
   "outputs": [],
   "source": [
    "df = pd.read_sql(\"select * from EBAY_TOP_BERLIN where record_time in (select distinct record_time from EBAY_TOP_BERLIN order by record_time desc limit 2)\", sqlite3.connect(\"UsedObjects.db\"))"
   ]
  },
  {
   "cell_type": "code",
   "execution_count": 5,
   "id": "popular-active",
   "metadata": {
    "execution": {
     "iopub.execute_input": "2021-10-20T17:00:09.287900Z",
     "iopub.status.busy": "2021-10-20T17:00:09.276738Z",
     "iopub.status.idle": "2021-10-20T17:00:09.304228Z",
     "shell.execute_reply": "2021-10-20T17:00:09.305706Z"
    },
    "papermill": {
     "duration": 0.068126,
     "end_time": "2021-10-20T17:00:09.306119",
     "exception": false,
     "start_time": "2021-10-20T17:00:09.237993",
     "status": "completed"
    },
    "tags": []
   },
   "outputs": [],
   "source": [
    "df_pivot = df.pivot_table(index=\"PRODUCT\", columns = \"RECORD_TIME\", values = \"LISTING_COUNT\")"
   ]
  },
  {
   "cell_type": "code",
   "execution_count": 6,
   "id": "union-huntington",
   "metadata": {
    "execution": {
     "iopub.execute_input": "2021-10-20T17:00:09.364860Z",
     "iopub.status.busy": "2021-10-20T17:00:09.362508Z",
     "iopub.status.idle": "2021-10-20T17:00:09.368134Z",
     "shell.execute_reply": "2021-10-20T17:00:09.369649Z"
    },
    "papermill": {
     "duration": 0.042293,
     "end_time": "2021-10-20T17:00:09.370100",
     "exception": false,
     "start_time": "2021-10-20T17:00:09.327807",
     "status": "completed"
    },
    "tags": []
   },
   "outputs": [],
   "source": [
    "df_pivot.columns = [\"stamp_1\", \"stamp_2\"]\n",
    "df_pivot_diff = df_pivot.diff(axis=1)"
   ]
  },
  {
   "cell_type": "code",
   "execution_count": 7,
   "id": "fifth-motion",
   "metadata": {
    "execution": {
     "iopub.execute_input": "2021-10-20T17:00:09.424446Z",
     "iopub.status.busy": "2021-10-20T17:00:09.422197Z",
     "iopub.status.idle": "2021-10-20T17:00:10.933876Z",
     "shell.execute_reply": "2021-10-20T17:00:10.935379Z"
    },
    "papermill": {
     "duration": 1.544791,
     "end_time": "2021-10-20T17:00:10.935842",
     "exception": false,
     "start_time": "2021-10-20T17:00:09.391051",
     "status": "completed"
    },
    "tags": []
   },
   "outputs": [
    {
     "data": {
      "text/plain": [
       "<AxesSubplot:ylabel='PRODUCT'>"
      ]
     },
     "execution_count": 7,
     "metadata": {},
     "output_type": "execute_result"
    },
    {
     "data": {
      "image/png": "[encoded data removed]",
      "text/plain": [
       "<Figure size 432x288 with 1 Axes>"
      ]
     },
     "metadata": {
      "needs_background": "light"
     },
     "output_type": "display_data"
    }
   ],
   "source": [
    "df_pivot_diff.sort_values(\"stamp_2\", ascending = False)[\"stamp_2\"].head(10).plot.barh()"
   ]
  },
  {
   "cell_type": "code",
   "execution_count": null,
   "id": "extra-executive",
   "metadata": {
    "papermill": {
     "duration": 0.022432,
     "end_time": "2021-10-20T17:00:10.983470",
     "exception": false,
     "start_time": "2021-10-20T17:00:10.961038",
     "status": "completed"
    },
    "tags": []
   },
   "outputs": [],
   "source": []
  }
 ],
 "metadata": {
  "kernelspec": {
   "display_name": "Python 3",
   "language": "python",
   "name": "python3"
  },
  "language_info": {
   "codemirror_mode": {
    "name": "ipython",
    "version": 3
   },
   "file_extension": ".py",
   "mimetype": "text/x-python",
   "name": "python",
   "nbconvert_exporter": "python",
   "pygments_lexer": "ipython3",
   "version": "3.9.5"
  },
  "papermill": {
   "default_parameters": {},
   "duration": 7.350817,
   "end_time": "2021-10-20T17:00:11.625451",
   "environment_variables": {},
   "exception": null,
   "input_path": "eBay_Overview.ipynb",
   "output_path": "eBay_Overview.ipynb",
   "parameters": {},
   "start_time": "2021-10-20T17:00:04.274634",
   "version": "2.3.3"
  }
 },
 "nbformat": 4,
 "nbformat_minor": 5
}