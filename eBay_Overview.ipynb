{
 "cells": [
  {
   "cell_type": "code",
   "execution_count": 1,
   "id": "reverse-picking",
   "metadata": {
    "execution": {
     "iopub.execute_input": "2021-12-09T05:30:07.601069Z",
     "iopub.status.busy": "2021-12-09T05:30:07.598394Z",
     "iopub.status.idle": "2021-12-09T05:30:08.589021Z",
     "shell.execute_reply": "2021-12-09T05:30:08.591192Z"
    },
    "papermill": {
     "duration": 1.026964,
     "end_time": "2021-12-09T05:30:08.591920",
     "exception": false,
     "start_time": "2021-12-09T05:30:07.564956",
     "status": "completed"
    },
    "tags": []
   },
   "outputs": [],
   "source": [
    "import pandas as pd\n",
    "import sqlite3"
   ]
  },
  {
   "cell_type": "code",
   "execution_count": 2,
   "id": "innovative-syndrome",
   "metadata": {
    "execution": {
     "iopub.execute_input": "2021-12-09T05:30:08.648529Z",
     "iopub.status.busy": "2021-12-09T05:30:08.646432Z",
     "iopub.status.idle": "2021-12-09T05:30:09.693409Z",
     "shell.execute_reply": "2021-12-09T05:30:09.694973Z"
    },
    "papermill": {
     "duration": 1.080477,
     "end_time": "2021-12-09T05:30:09.695466",
     "exception": false,
     "start_time": "2021-12-09T05:30:08.614989",
     "status": "completed"
    },
    "tags": []
   },
   "outputs": [],
   "source": [
    "timestamps = pd.read_sql(\"select distinct record_time from EBAY_TOP_BERLIN order by record_time desc limit 2\", sqlite3.connect(\"UsedObjects.db\"))"
   ]
  },
  {
   "cell_type": "code",
   "execution_count": 3,
   "id": "periodic-identification",
   "metadata": {
    "execution": {
     "iopub.execute_input": "2021-12-09T05:30:09.794843Z",
     "iopub.status.busy": "2021-12-09T05:30:09.785224Z",
     "iopub.status.idle": "2021-12-09T05:30:09.820605Z",
     "shell.execute_reply": "2021-12-09T05:30:09.822521Z"
    },
    "papermill": {
     "duration": 0.104499,
     "end_time": "2021-12-09T05:30:09.823079",
     "exception": false,
     "start_time": "2021-12-09T05:30:09.718580",
     "status": "completed"
    },
    "tags": []
   },
   "outputs": [
    {
     "data": {
      "text/html": [
       "<div>\n",
       "<style scoped>\n",
       "    .dataframe tbody tr th:only-of-type {\n",
       "        vertical-align: middle;\n",
       "    }\n",
       "\n",
       "    .dataframe tbody tr th {\n",
       "        vertical-align: top;\n",
       "    }\n",
       "\n",
       "    .dataframe thead th {\n",
       "        text-align: right;\n",
       "    }\n",
       "</style>\n",
       "<table border=\"1\" class=\"dataframe\">\n",
       "  <thead>\n",
       "    <tr style=\"text-align: right;\">\n",
       "      <th></th>\n",
       "      <th>RECORD_TIME</th>\n",
       "    </tr>\n",
       "  </thead>\n",
       "  <tbody>\n",
       "    <tr>\n",
       "      <th>0</th>\n",
       "      <td>2021-12-09 06:30</td>\n",
       "    </tr>\n",
       "    <tr>\n",
       "      <th>1</th>\n",
       "      <td>2021-12-09 06:00</td>\n",
       "    </tr>\n",
       "  </tbody>\n",
       "</table>\n",
       "</div>"
      ],
      "text/plain": [
       "        RECORD_TIME\n",
       "0  2021-12-09 06:30\n",
       "1  2021-12-09 06:00"
      ]
     },
     "execution_count": 3,
     "metadata": {},
     "output_type": "execute_result"
    }
   ],
   "source": [
    "timestamps"
   ]
  },
  {
   "cell_type": "code",
   "execution_count": 4,
   "id": "alternate-victory",
   "metadata": {
    "execution": {
     "iopub.execute_input": "2021-12-09T05:30:09.880515Z",
     "iopub.status.busy": "2021-12-09T05:30:09.878337Z",
     "iopub.status.idle": "2021-12-09T05:30:11.382821Z",
     "shell.execute_reply": "2021-12-09T05:30:11.386903Z"
    },
    "papermill": {
     "duration": 1.542469,
     "end_time": "2021-12-09T05:30:11.387811",
     "exception": false,
     "start_time": "2021-12-09T05:30:09.845342",
     "status": "completed"
    },
    "tags": []
   },
   "outputs": [],
   "source": [
    "df = pd.read_sql(\"select * from EBAY_TOP_BERLIN where record_time in (select distinct record_time from EBAY_TOP_BERLIN order by record_time desc limit 2)\", sqlite3.connect(\"UsedObjects.db\"))"
   ]
  },
  {
   "cell_type": "code",
   "execution_count": 5,
   "id": "popular-active",
   "metadata": {
    "execution": {
     "iopub.execute_input": "2021-12-09T05:30:11.514204Z",
     "iopub.status.busy": "2021-12-09T05:30:11.486590Z",
     "iopub.status.idle": "2021-12-09T05:30:11.554445Z",
     "shell.execute_reply": "2021-12-09T05:30:11.551704Z"
    },
    "papermill": {
     "duration": 0.135022,
     "end_time": "2021-12-09T05:30:11.555083",
     "exception": false,
     "start_time": "2021-12-09T05:30:11.420061",
     "status": "completed"
    },
    "tags": []
   },
   "outputs": [],
   "source": [
    "df_pivot = df.pivot_table(index=\"PRODUCT\", columns = \"RECORD_TIME\", values = \"LISTING_COUNT\")"
   ]
  },
  {
   "cell_type": "code",
   "execution_count": 6,
   "id": "union-huntington",
   "metadata": {
    "execution": {
     "iopub.execute_input": "2021-12-09T05:30:11.642697Z",
     "iopub.status.busy": "2021-12-09T05:30:11.638736Z",
     "iopub.status.idle": "2021-12-09T05:30:11.656785Z",
     "shell.execute_reply": "2021-12-09T05:30:11.659679Z"
    },
    "papermill": {
     "duration": 0.076849,
     "end_time": "2021-12-09T05:30:11.660491",
     "exception": false,
     "start_time": "2021-12-09T05:30:11.583642",
     "status": "completed"
    },
    "tags": []
   },
   "outputs": [],
   "source": [
    "df_pivot.columns = [\"stamp_1\", \"stamp_2\"]\n",
    "df_pivot_diff = df_pivot.diff(axis=1)"
   ]
  },
  {
   "cell_type": "code",
   "execution_count": 7,
   "id": "fifth-motion",
   "metadata": {
    "execution": {
     "iopub.execute_input": "2021-12-09T05:30:11.747702Z",
     "iopub.status.busy": "2021-12-09T05:30:11.744323Z",
     "iopub.status.idle": "2021-12-09T05:30:13.476475Z",
     "shell.execute_reply": "2021-12-09T05:30:13.478079Z"
    },
    "papermill": {
     "duration": 1.786402,
     "end_time": "2021-12-09T05:30:13.478554",
     "exception": false,
     "start_time": "2021-12-09T05:30:11.692152",
     "status": "completed"
    },
    "tags": []
   },
   "outputs": [
    {
     "data": {
      "text/plain": [
       "<AxesSubplot:ylabel='PRODUCT'>"
      ]
     },
     "execution_count": 7,
     "metadata": {},
     "output_type": "execute_result"
    },
    {
     "data": {
      "image/png": "[encoded data removed]",
      "text/plain": [
       "<Figure size 432x288 with 1 Axes>"
      ]
     },
     "metadata": {
      "needs_background": "light"
     },
     "output_type": "display_data"
    }
   ],
   "source": [
    "df_pivot_diff.sort_values(\"stamp_2\", ascending = False)[\"stamp_2\"].head(10).plot.barh()"
   ]
  },
  {
   "cell_type": "code",
   "execution_count": null,
   "id": "extra-executive",
   "metadata": {
    "papermill": {
     "duration": 0.022406,
     "end_time": "2021-12-09T05:30:13.525704",
     "exception": false,
     "start_time": "2021-12-09T05:30:13.503298",
     "status": "completed"
    },
    "tags": []
   },
   "outputs": [],
   "source": []
  }
 ],
 "metadata": {
  "kernelspec": {
   "display_name": "Python 3",
   "language": "python",
   "name": "python3"
  },
  "language_info": {
   "codemirror_mode": {
    "name": "ipython",
    "version": 3
   },
   "file_extension": ".py",
   "mimetype": "text/x-python",
   "name": "python",
   "nbconvert_exporter": "python",
   "pygments_lexer": "ipython3",
   "version": "3.9.5"
  },
  "papermill": {
   "default_parameters": {},
   "duration": 9.950119,
   "end_time": "2021-12-09T05:30:14.763568",
   "environment_variables": {},
   "exception": null,
   "input_path": "eBay_Overview.ipynb",
   "output_path": "eBay_Overview.ipynb",
   "parameters": {},
   "start_time": "2021-12-09T05:30:04.813449",
   "version": "2.3.3"
  }
 },
 "nbformat": 4,
 "nbformat_minor": 5
}