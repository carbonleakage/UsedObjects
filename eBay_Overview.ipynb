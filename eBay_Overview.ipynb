{
 "cells": [
  {
   "cell_type": "code",
   "execution_count": 1,
   "id": "reverse-picking",
   "metadata": {
    "execution": {
     "iopub.execute_input": "2021-09-07T23:00:06.588804Z",
     "iopub.status.busy": "2021-09-07T23:00:06.586762Z",
     "iopub.status.idle": "2021-09-07T23:00:07.398340Z",
     "shell.execute_reply": "2021-09-07T23:00:07.396767Z"
    },
    "papermill": {
     "duration": 0.86348,
     "end_time": "2021-09-07T23:00:07.398732",
     "exception": false,
     "start_time": "2021-09-07T23:00:06.535252",
     "status": "completed"
    },
    "tags": []
   },
   "outputs": [],
   "source": [
    "import pandas as pd\n",
    "import sqlite3"
   ]
  },
  {
   "cell_type": "code",
   "execution_count": 2,
   "id": "innovative-syndrome",
   "metadata": {
    "execution": {
     "iopub.execute_input": "2021-09-07T23:00:07.452283Z",
     "iopub.status.busy": "2021-09-07T23:00:07.449900Z",
     "iopub.status.idle": "2021-09-07T23:00:07.687814Z",
     "shell.execute_reply": "2021-09-07T23:00:07.689100Z"
    },
    "papermill": {
     "duration": 0.268157,
     "end_time": "2021-09-07T23:00:07.689569",
     "exception": false,
     "start_time": "2021-09-07T23:00:07.421412",
     "status": "completed"
    },
    "tags": []
   },
   "outputs": [],
   "source": [
    "timestamps = pd.read_sql(\"select distinct record_time from EBAY_TOP_BERLIN order by record_time desc limit 2\", sqlite3.connect(\"UsedObjects.db\"))"
   ]
  },
  {
   "cell_type": "code",
   "execution_count": 3,
   "id": "periodic-identification",
   "metadata": {
    "execution": {
     "iopub.execute_input": "2021-09-07T23:00:07.757030Z",
     "iopub.status.busy": "2021-09-07T23:00:07.754847Z",
     "iopub.status.idle": "2021-09-07T23:00:07.775044Z",
     "shell.execute_reply": "2021-09-07T23:00:07.776476Z"
    },
    "papermill": {
     "duration": 0.067299,
     "end_time": "2021-09-07T23:00:07.776920",
     "exception": false,
     "start_time": "2021-09-07T23:00:07.709621",
     "status": "completed"
    },
    "tags": []
   },
   "outputs": [
    {
     "data": {
      "text/html": [
       "<div>\n",
       "<style scoped>\n",
       "    .dataframe tbody tr th:only-of-type {\n",
       "        vertical-align: middle;\n",
       "    }\n",
       "\n",
       "    .dataframe tbody tr th {\n",
       "        vertical-align: top;\n",
       "    }\n",
       "\n",
       "    .dataframe thead th {\n",
       "        text-align: right;\n",
       "    }\n",
       "</style>\n",
       "<table border=\"1\" class=\"dataframe\">\n",
       "  <thead>\n",
       "    <tr style=\"text-align: right;\">\n",
       "      <th></th>\n",
       "      <th>RECORD_TIME</th>\n",
       "    </tr>\n",
       "  </thead>\n",
       "  <tbody>\n",
       "    <tr>\n",
       "      <th>0</th>\n",
       "      <td>2021-09-08 01:00</td>\n",
       "    </tr>\n",
       "    <tr>\n",
       "      <th>1</th>\n",
       "      <td>2021-09-08 00:30</td>\n",
       "    </tr>\n",
       "  </tbody>\n",
       "</table>\n",
       "</div>"
      ],
      "text/plain": [
       "        RECORD_TIME\n",
       "0  2021-09-08 01:00\n",
       "1  2021-09-08 00:30"
      ]
     },
     "execution_count": 3,
     "metadata": {},
     "output_type": "execute_result"
    }
   ],
   "source": [
    "timestamps"
   ]
  },
  {
   "cell_type": "code",
   "execution_count": 4,
   "id": "alternate-victory",
   "metadata": {
    "execution": {
     "iopub.execute_input": "2021-09-07T23:00:07.829369Z",
     "iopub.status.busy": "2021-09-07T23:00:07.827187Z",
     "iopub.status.idle": "2021-09-07T23:00:08.180209Z",
     "shell.execute_reply": "2021-09-07T23:00:08.181472Z"
    },
    "papermill": {
     "duration": 0.383502,
     "end_time": "2021-09-07T23:00:08.181881",
     "exception": false,
     "start_time": "2021-09-07T23:00:07.798379",
     "status": "completed"
    },
    "tags": []
   },
   "outputs": [],
   "source": [
    "df = pd.read_sql(\"select * from EBAY_TOP_BERLIN where record_time in (select distinct record_time from EBAY_TOP_BERLIN order by record_time desc limit 2)\", sqlite3.connect(\"UsedObjects.db\"))"
   ]
  },
  {
   "cell_type": "code",
   "execution_count": 5,
   "id": "popular-active",
   "metadata": {
    "execution": {
     "iopub.execute_input": "2021-09-07T23:00:08.257013Z",
     "iopub.status.busy": "2021-09-07T23:00:08.250704Z",
     "iopub.status.idle": "2021-09-07T23:00:08.278750Z",
     "shell.execute_reply": "2021-09-07T23:00:08.280224Z"
    },
    "papermill": {
     "duration": 0.072187,
     "end_time": "2021-09-07T23:00:08.280678",
     "exception": false,
     "start_time": "2021-09-07T23:00:08.208491",
     "status": "completed"
    },
    "tags": []
   },
   "outputs": [],
   "source": [
    "df_pivot = df.pivot_table(index=\"PRODUCT\", columns = \"RECORD_TIME\", values = \"LISTING_COUNT\")"
   ]
  },
  {
   "cell_type": "code",
   "execution_count": 6,
   "id": "union-huntington",
   "metadata": {
    "execution": {
     "iopub.execute_input": "2021-09-07T23:00:08.337027Z",
     "iopub.status.busy": "2021-09-07T23:00:08.334947Z",
     "iopub.status.idle": "2021-09-07T23:00:08.340248Z",
     "shell.execute_reply": "2021-09-07T23:00:08.341436Z"
    },
    "papermill": {
     "duration": 0.040462,
     "end_time": "2021-09-07T23:00:08.341874",
     "exception": false,
     "start_time": "2021-09-07T23:00:08.301412",
     "status": "completed"
    },
    "tags": []
   },
   "outputs": [],
   "source": [
    "df_pivot.columns = [\"stamp_1\", \"stamp_2\"]\n",
    "df_pivot_diff = df_pivot.diff(axis=1)"
   ]
  },
  {
   "cell_type": "code",
   "execution_count": 7,
   "id": "fifth-motion",
   "metadata": {
    "execution": {
     "iopub.execute_input": "2021-09-07T23:00:08.396988Z",
     "iopub.status.busy": "2021-09-07T23:00:08.394331Z",
     "iopub.status.idle": "2021-09-07T23:00:09.904174Z",
     "shell.execute_reply": "2021-09-07T23:00:09.905469Z"
    },
    "papermill": {
     "duration": 1.543376,
     "end_time": "2021-09-07T23:00:09.905897",
     "exception": false,
     "start_time": "2021-09-07T23:00:08.362521",
     "status": "completed"
    },
    "tags": []
   },
   "outputs": [
    {
     "data": {
      "text/plain": [
       "<AxesSubplot:ylabel='PRODUCT'>"
      ]
     },
     "execution_count": 7,
     "metadata": {},
     "output_type": "execute_result"
    },
    {
     "data": {
      "image/png": "[encoded data removed]",
      "text/plain": [
       "<Figure size 432x288 with 1 Axes>"
      ]
     },
     "metadata": {
      "needs_background": "light"
     },
     "output_type": "display_data"
    }
   ],
   "source": [
    "df_pivot_diff.sort_values(\"stamp_2\", ascending = False)[\"stamp_2\"].head(10).plot.barh()"
   ]
  },
  {
   "cell_type": "code",
   "execution_count": null,
   "id": "extra-executive",
   "metadata": {
    "papermill": {
     "duration": 0.022859,
     "end_time": "2021-09-07T23:00:09.952913",
     "exception": false,
     "start_time": "2021-09-07T23:00:09.930054",
     "status": "completed"
    },
    "tags": []
   },
   "outputs": [],
   "source": []
  }
 ],
 "metadata": {
  "kernelspec": {
   "display_name": "Python 3",
   "language": "python",
   "name": "python3"
  },
  "language_info": {
   "codemirror_mode": {
    "name": "ipython",
    "version": 3
   },
   "file_extension": ".py",
   "mimetype": "text/x-python",
   "name": "python",
   "nbconvert_exporter": "python",
   "pygments_lexer": "ipython3",
   "version": "3.9.5"
  },
  "papermill": {
   "default_parameters": {},
   "duration": 6.476867,
   "end_time": "2021-09-07T23:00:10.594326",
   "environment_variables": {},
   "exception": null,
   "input_path": "eBay_Overview.ipynb",
   "output_path": "eBay_Overview.ipynb",
   "parameters": {},
   "start_time": "2021-09-07T23:00:04.117459",
   "version": "2.3.3"
  }
 },
 "nbformat": 4,
 "nbformat_minor": 5
}