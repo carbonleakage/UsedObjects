{
 "cells": [
  {
   "cell_type": "code",
   "execution_count": 1,
   "id": "reverse-picking",
   "metadata": {
    "execution": {
     "iopub.execute_input": "2021-10-26T02:30:07.338080Z",
     "iopub.status.busy": "2021-10-26T02:30:07.336013Z",
     "iopub.status.idle": "2021-10-26T02:30:08.143771Z",
     "shell.execute_reply": "2021-10-26T02:30:08.145347Z"
    },
    "papermill": {
     "duration": 0.857551,
     "end_time": "2021-10-26T02:30:08.146006",
     "exception": false,
     "start_time": "2021-10-26T02:30:07.288455",
     "status": "completed"
    },
    "tags": []
   },
   "outputs": [],
   "source": [
    "import pandas as pd\n",
    "import sqlite3"
   ]
  },
  {
   "cell_type": "code",
   "execution_count": 2,
   "id": "innovative-syndrome",
   "metadata": {
    "execution": {
     "iopub.execute_input": "2021-10-26T02:30:08.197746Z",
     "iopub.status.busy": "2021-10-26T02:30:08.195312Z",
     "iopub.status.idle": "2021-10-26T02:30:08.843285Z",
     "shell.execute_reply": "2021-10-26T02:30:08.844570Z"
    },
    "papermill": {
     "duration": 0.678184,
     "end_time": "2021-10-26T02:30:08.845050",
     "exception": false,
     "start_time": "2021-10-26T02:30:08.166866",
     "status": "completed"
    },
    "tags": []
   },
   "outputs": [],
   "source": [
    "timestamps = pd.read_sql(\"select distinct record_time from EBAY_TOP_BERLIN order by record_time desc limit 2\", sqlite3.connect(\"UsedObjects.db\"))"
   ]
  },
  {
   "cell_type": "code",
   "execution_count": 3,
   "id": "periodic-identification",
   "metadata": {
    "execution": {
     "iopub.execute_input": "2021-10-26T02:30:08.924055Z",
     "iopub.status.busy": "2021-10-26T02:30:08.922028Z",
     "iopub.status.idle": "2021-10-26T02:30:08.943904Z",
     "shell.execute_reply": "2021-10-26T02:30:08.942139Z"
    },
    "papermill": {
     "duration": 0.070722,
     "end_time": "2021-10-26T02:30:08.944328",
     "exception": false,
     "start_time": "2021-10-26T02:30:08.873606",
     "status": "completed"
    },
    "tags": []
   },
   "outputs": [
    {
     "data": {
      "text/html": [
       "<div>\n",
       "<style scoped>\n",
       "    .dataframe tbody tr th:only-of-type {\n",
       "        vertical-align: middle;\n",
       "    }\n",
       "\n",
       "    .dataframe tbody tr th {\n",
       "        vertical-align: top;\n",
       "    }\n",
       "\n",
       "    .dataframe thead th {\n",
       "        text-align: right;\n",
       "    }\n",
       "</style>\n",
       "<table border=\"1\" class=\"dataframe\">\n",
       "  <thead>\n",
       "    <tr style=\"text-align: right;\">\n",
       "      <th></th>\n",
       "      <th>RECORD_TIME</th>\n",
       "    </tr>\n",
       "  </thead>\n",
       "  <tbody>\n",
       "    <tr>\n",
       "      <th>0</th>\n",
       "      <td>2021-10-26 04:30</td>\n",
       "    </tr>\n",
       "    <tr>\n",
       "      <th>1</th>\n",
       "      <td>2021-10-26 04:00</td>\n",
       "    </tr>\n",
       "  </tbody>\n",
       "</table>\n",
       "</div>"
      ],
      "text/plain": [
       "        RECORD_TIME\n",
       "0  2021-10-26 04:30\n",
       "1  2021-10-26 04:00"
      ]
     },
     "execution_count": 3,
     "metadata": {},
     "output_type": "execute_result"
    }
   ],
   "source": [
    "timestamps"
   ]
  },
  {
   "cell_type": "code",
   "execution_count": 4,
   "id": "alternate-victory",
   "metadata": {
    "execution": {
     "iopub.execute_input": "2021-10-26T02:30:08.996768Z",
     "iopub.status.busy": "2021-10-26T02:30:08.994851Z",
     "iopub.status.idle": "2021-10-26T02:30:09.908370Z",
     "shell.execute_reply": "2021-10-26T02:30:09.909850Z"
    },
    "papermill": {
     "duration": 0.943891,
     "end_time": "2021-10-26T02:30:09.910298",
     "exception": false,
     "start_time": "2021-10-26T02:30:08.966407",
     "status": "completed"
    },
    "tags": []
   },
   "outputs": [],
   "source": [
    "df = pd.read_sql(\"select * from EBAY_TOP_BERLIN where record_time in (select distinct record_time from EBAY_TOP_BERLIN order by record_time desc limit 2)\", sqlite3.connect(\"UsedObjects.db\"))"
   ]
  },
  {
   "cell_type": "code",
   "execution_count": 5,
   "id": "popular-active",
   "metadata": {
    "execution": {
     "iopub.execute_input": "2021-10-26T02:30:09.982679Z",
     "iopub.status.busy": "2021-10-26T02:30:09.970373Z",
     "iopub.status.idle": "2021-10-26T02:30:09.998363Z",
     "shell.execute_reply": "2021-10-26T02:30:09.999583Z"
    },
    "papermill": {
     "duration": 0.068438,
     "end_time": "2021-10-26T02:30:09.999982",
     "exception": false,
     "start_time": "2021-10-26T02:30:09.931544",
     "status": "completed"
    },
    "tags": []
   },
   "outputs": [],
   "source": [
    "df_pivot = df.pivot_table(index=\"PRODUCT\", columns = \"RECORD_TIME\", values = \"LISTING_COUNT\")"
   ]
  },
  {
   "cell_type": "code",
   "execution_count": 6,
   "id": "union-huntington",
   "metadata": {
    "execution": {
     "iopub.execute_input": "2021-10-26T02:30:10.059468Z",
     "iopub.status.busy": "2021-10-26T02:30:10.057014Z",
     "iopub.status.idle": "2021-10-26T02:30:10.064989Z",
     "shell.execute_reply": "2021-10-26T02:30:10.063336Z"
    },
    "papermill": {
     "duration": 0.042918,
     "end_time": "2021-10-26T02:30:10.065401",
     "exception": false,
     "start_time": "2021-10-26T02:30:10.022483",
     "status": "completed"
    },
    "tags": []
   },
   "outputs": [],
   "source": [
    "df_pivot.columns = [\"stamp_1\", \"stamp_2\"]\n",
    "df_pivot_diff = df_pivot.diff(axis=1)"
   ]
  },
  {
   "cell_type": "code",
   "execution_count": 7,
   "id": "fifth-motion",
   "metadata": {
    "execution": {
     "iopub.execute_input": "2021-10-26T02:30:10.120929Z",
     "iopub.status.busy": "2021-10-26T02:30:10.118653Z",
     "iopub.status.idle": "2021-10-26T02:30:11.583640Z",
     "shell.execute_reply": "2021-10-26T02:30:11.585111Z"
    },
    "papermill": {
     "duration": 1.498011,
     "end_time": "2021-10-26T02:30:11.585562",
     "exception": false,
     "start_time": "2021-10-26T02:30:10.087551",
     "status": "completed"
    },
    "tags": []
   },
   "outputs": [
    {
     "data": {
      "text/plain": [
       "<AxesSubplot:ylabel='PRODUCT'>"
      ]
     },
     "execution_count": 7,
     "metadata": {},
     "output_type": "execute_result"
    },
    {
     "data": {
      "image/png": "[encoded data removed]",
      "text/plain": [
       "<Figure size 432x288 with 1 Axes>"
      ]
     },
     "metadata": {
      "needs_background": "light"
     },
     "output_type": "display_data"
    }
   ],
   "source": [
    "df_pivot_diff.sort_values(\"stamp_2\", ascending = False)[\"stamp_2\"].head(10).plot.barh()"
   ]
  },
  {
   "cell_type": "code",
   "execution_count": null,
   "id": "extra-executive",
   "metadata": {
    "papermill": {
     "duration": 0.022491,
     "end_time": "2021-10-26T02:30:11.633089",
     "exception": false,
     "start_time": "2021-10-26T02:30:11.610598",
     "status": "completed"
    },
    "tags": []
   },
   "outputs": [],
   "source": []
  }
 ],
 "metadata": {
  "kernelspec": {
   "display_name": "Python 3",
   "language": "python",
   "name": "python3"
  },
  "language_info": {
   "codemirror_mode": {
    "name": "ipython",
    "version": 3
   },
   "file_extension": ".py",
   "mimetype": "text/x-python",
   "name": "python",
   "nbconvert_exporter": "python",
   "pygments_lexer": "ipython3",
   "version": "3.9.5"
  },
  "papermill": {
   "default_parameters": {},
   "duration": 7.401215,
   "end_time": "2021-10-26T02:30:12.276193",
   "environment_variables": {},
   "exception": null,
   "input_path": "eBay_Overview.ipynb",
   "output_path": "eBay_Overview.ipynb",
   "parameters": {},
   "start_time": "2021-10-26T02:30:04.874978",
   "version": "2.3.3"
  }
 },
 "nbformat": 4,
 "nbformat_minor": 5
}