{
 "cells": [
  {
   "cell_type": "code",
   "execution_count": 1,
   "id": "reverse-picking",
   "metadata": {
    "execution": {
     "iopub.execute_input": "2021-12-12T05:30:07.388792Z",
     "iopub.status.busy": "2021-12-12T05:30:07.386437Z",
     "iopub.status.idle": "2021-12-12T05:30:08.334779Z",
     "shell.execute_reply": "2021-12-12T05:30:08.336294Z"
    },
    "papermill": {
     "duration": 0.996733,
     "end_time": "2021-12-12T05:30:08.337084",
     "exception": false,
     "start_time": "2021-12-12T05:30:07.340351",
     "status": "completed"
    },
    "tags": []
   },
   "outputs": [],
   "source": [
    "import pandas as pd\n",
    "import sqlite3"
   ]
  },
  {
   "cell_type": "code",
   "execution_count": 2,
   "id": "innovative-syndrome",
   "metadata": {
    "execution": {
     "iopub.execute_input": "2021-12-12T05:30:08.404222Z",
     "iopub.status.busy": "2021-12-12T05:30:08.401731Z",
     "iopub.status.idle": "2021-12-12T05:30:09.448012Z",
     "shell.execute_reply": "2021-12-12T05:30:09.449608Z"
    },
    "papermill": {
     "duration": 1.082253,
     "end_time": "2021-12-12T05:30:09.450125",
     "exception": false,
     "start_time": "2021-12-12T05:30:08.367872",
     "status": "completed"
    },
    "tags": []
   },
   "outputs": [],
   "source": [
    "timestamps = pd.read_sql(\"select distinct record_time from EBAY_TOP_BERLIN order by record_time desc limit 2\", sqlite3.connect(\"UsedObjects.db\"))"
   ]
  },
  {
   "cell_type": "code",
   "execution_count": 3,
   "id": "periodic-identification",
   "metadata": {
    "execution": {
     "iopub.execute_input": "2021-12-12T05:30:09.521890Z",
     "iopub.status.busy": "2021-12-12T05:30:09.515855Z",
     "iopub.status.idle": "2021-12-12T05:30:09.539834Z",
     "shell.execute_reply": "2021-12-12T05:30:09.537904Z"
    },
    "papermill": {
     "duration": 0.070023,
     "end_time": "2021-12-12T05:30:09.540291",
     "exception": false,
     "start_time": "2021-12-12T05:30:09.470268",
     "status": "completed"
    },
    "tags": []
   },
   "outputs": [
    {
     "data": {
      "text/html": [
       "<div>\n",
       "<style scoped>\n",
       "    .dataframe tbody tr th:only-of-type {\n",
       "        vertical-align: middle;\n",
       "    }\n",
       "\n",
       "    .dataframe tbody tr th {\n",
       "        vertical-align: top;\n",
       "    }\n",
       "\n",
       "    .dataframe thead th {\n",
       "        text-align: right;\n",
       "    }\n",
       "</style>\n",
       "<table border=\"1\" class=\"dataframe\">\n",
       "  <thead>\n",
       "    <tr style=\"text-align: right;\">\n",
       "      <th></th>\n",
       "      <th>RECORD_TIME</th>\n",
       "    </tr>\n",
       "  </thead>\n",
       "  <tbody>\n",
       "    <tr>\n",
       "      <th>0</th>\n",
       "      <td>2021-12-12 06:30</td>\n",
       "    </tr>\n",
       "    <tr>\n",
       "      <th>1</th>\n",
       "      <td>2021-12-12 06:00</td>\n",
       "    </tr>\n",
       "  </tbody>\n",
       "</table>\n",
       "</div>"
      ],
      "text/plain": [
       "        RECORD_TIME\n",
       "0  2021-12-12 06:30\n",
       "1  2021-12-12 06:00"
      ]
     },
     "execution_count": 3,
     "metadata": {},
     "output_type": "execute_result"
    }
   ],
   "source": [
    "timestamps"
   ]
  },
  {
   "cell_type": "code",
   "execution_count": 4,
   "id": "alternate-victory",
   "metadata": {
    "execution": {
     "iopub.execute_input": "2021-12-12T05:30:09.595678Z",
     "iopub.status.busy": "2021-12-12T05:30:09.592189Z",
     "iopub.status.idle": "2021-12-12T05:30:11.125276Z",
     "shell.execute_reply": "2021-12-12T05:30:11.128224Z"
    },
    "papermill": {
     "duration": 1.567808,
     "end_time": "2021-12-12T05:30:11.129142",
     "exception": false,
     "start_time": "2021-12-12T05:30:09.561334",
     "status": "completed"
    },
    "tags": []
   },
   "outputs": [],
   "source": [
    "df = pd.read_sql(\"select * from EBAY_TOP_BERLIN where record_time in (select distinct record_time from EBAY_TOP_BERLIN order by record_time desc limit 2)\", sqlite3.connect(\"UsedObjects.db\"))"
   ]
  },
  {
   "cell_type": "code",
   "execution_count": 5,
   "id": "popular-active",
   "metadata": {
    "execution": {
     "iopub.execute_input": "2021-12-12T05:30:11.204317Z",
     "iopub.status.busy": "2021-12-12T05:30:11.201745Z",
     "iopub.status.idle": "2021-12-12T05:30:11.233830Z",
     "shell.execute_reply": "2021-12-12T05:30:11.236332Z"
    },
    "papermill": {
     "duration": 0.078626,
     "end_time": "2021-12-12T05:30:11.237303",
     "exception": false,
     "start_time": "2021-12-12T05:30:11.158677",
     "status": "completed"
    },
    "tags": []
   },
   "outputs": [],
   "source": [
    "df_pivot = df.pivot_table(index=\"PRODUCT\", columns = \"RECORD_TIME\", values = \"LISTING_COUNT\")"
   ]
  },
  {
   "cell_type": "code",
   "execution_count": 6,
   "id": "union-huntington",
   "metadata": {
    "execution": {
     "iopub.execute_input": "2021-12-12T05:30:11.295730Z",
     "iopub.status.busy": "2021-12-12T05:30:11.293635Z",
     "iopub.status.idle": "2021-12-12T05:30:11.299218Z",
     "shell.execute_reply": "2021-12-12T05:30:11.300442Z"
    },
    "papermill": {
     "duration": 0.043576,
     "end_time": "2021-12-12T05:30:11.300931",
     "exception": false,
     "start_time": "2021-12-12T05:30:11.257355",
     "status": "completed"
    },
    "tags": []
   },
   "outputs": [],
   "source": [
    "df_pivot.columns = [\"stamp_1\", \"stamp_2\"]\n",
    "df_pivot_diff = df_pivot.diff(axis=1)"
   ]
  },
  {
   "cell_type": "code",
   "execution_count": 7,
   "id": "fifth-motion",
   "metadata": {
    "execution": {
     "iopub.execute_input": "2021-12-12T05:30:11.359206Z",
     "iopub.status.busy": "2021-12-12T05:30:11.356670Z",
     "iopub.status.idle": "2021-12-12T05:30:13.238973Z",
     "shell.execute_reply": "2021-12-12T05:30:13.240938Z"
    },
    "papermill": {
     "duration": 1.919847,
     "end_time": "2021-12-12T05:30:13.241701",
     "exception": false,
     "start_time": "2021-12-12T05:30:11.321854",
     "status": "completed"
    },
    "tags": []
   },
   "outputs": [
    {
     "data": {
      "text/plain": [
       "<AxesSubplot:ylabel='PRODUCT'>"
      ]
     },
     "execution_count": 7,
     "metadata": {},
     "output_type": "execute_result"
    },
    {
     "data": {
      "image/png": "[encoded data removed]",
      "text/plain": [
       "<Figure size 432x288 with 1 Axes>"
      ]
     },
     "metadata": {
      "needs_background": "light"
     },
     "output_type": "display_data"
    }
   ],
   "source": [
    "df_pivot_diff.sort_values(\"stamp_2\", ascending = False)[\"stamp_2\"].head(10).plot.barh()"
   ]
  },
  {
   "cell_type": "code",
   "execution_count": null,
   "id": "extra-executive",
   "metadata": {
    "papermill": {
     "duration": 0.022724,
     "end_time": "2021-12-12T05:30:13.293366",
     "exception": false,
     "start_time": "2021-12-12T05:30:13.270642",
     "status": "completed"
    },
    "tags": []
   },
   "outputs": [],
   "source": []
  }
 ],
 "metadata": {
  "kernelspec": {
   "display_name": "Python 3",
   "language": "python",
   "name": "python3"
  },
  "language_info": {
   "codemirror_mode": {
    "name": "ipython",
    "version": 3
   },
   "file_extension": ".py",
   "mimetype": "text/x-python",
   "name": "python",
   "nbconvert_exporter": "python",
   "pygments_lexer": "ipython3",
   "version": "3.9.5"
  },
  "papermill": {
   "default_parameters": {},
   "duration": 10.013334,
   "end_time": "2021-12-12T05:30:14.544324",
   "environment_variables": {},
   "exception": null,
   "input_path": "eBay_Overview.ipynb",
   "output_path": "eBay_Overview.ipynb",
   "parameters": {},
   "start_time": "2021-12-12T05:30:04.530990",
   "version": "2.3.3"
  }
 },
 "nbformat": 4,
 "nbformat_minor": 5
}