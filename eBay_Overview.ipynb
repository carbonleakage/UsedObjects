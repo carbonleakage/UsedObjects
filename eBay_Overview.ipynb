{
 "cells": [
  {
   "cell_type": "code",
   "execution_count": 1,
   "id": "reverse-picking",
   "metadata": {
    "execution": {
     "iopub.execute_input": "2021-10-18T18:00:07.390775Z",
     "iopub.status.busy": "2021-10-18T18:00:07.388878Z",
     "iopub.status.idle": "2021-10-18T18:00:08.195787Z",
     "shell.execute_reply": "2021-10-18T18:00:08.197125Z"
    },
    "papermill": {
     "duration": 0.859519,
     "end_time": "2021-10-18T18:00:08.197762",
     "exception": false,
     "start_time": "2021-10-18T18:00:07.338243",
     "status": "completed"
    },
    "tags": []
   },
   "outputs": [],
   "source": [
    "import pandas as pd\n",
    "import sqlite3"
   ]
  },
  {
   "cell_type": "code",
   "execution_count": 2,
   "id": "innovative-syndrome",
   "metadata": {
    "execution": {
     "iopub.execute_input": "2021-10-18T18:00:08.248017Z",
     "iopub.status.busy": "2021-10-18T18:00:08.246171Z",
     "iopub.status.idle": "2021-10-18T18:00:08.816899Z",
     "shell.execute_reply": "2021-10-18T18:00:08.818136Z"
    },
    "papermill": {
     "duration": 0.600205,
     "end_time": "2021-10-18T18:00:08.818531",
     "exception": false,
     "start_time": "2021-10-18T18:00:08.218326",
     "status": "completed"
    },
    "tags": []
   },
   "outputs": [],
   "source": [
    "timestamps = pd.read_sql(\"select distinct record_time from EBAY_TOP_BERLIN order by record_time desc limit 2\", sqlite3.connect(\"UsedObjects.db\"))"
   ]
  },
  {
   "cell_type": "code",
   "execution_count": 3,
   "id": "periodic-identification",
   "metadata": {
    "execution": {
     "iopub.execute_input": "2021-10-18T18:00:08.895099Z",
     "iopub.status.busy": "2021-10-18T18:00:08.892983Z",
     "iopub.status.idle": "2021-10-18T18:00:08.912981Z",
     "shell.execute_reply": "2021-10-18T18:00:08.914321Z"
    },
    "papermill": {
     "duration": 0.069903,
     "end_time": "2021-10-18T18:00:08.914726",
     "exception": false,
     "start_time": "2021-10-18T18:00:08.844823",
     "status": "completed"
    },
    "tags": []
   },
   "outputs": [
    {
     "data": {
      "text/html": [
       "<div>\n",
       "<style scoped>\n",
       "    .dataframe tbody tr th:only-of-type {\n",
       "        vertical-align: middle;\n",
       "    }\n",
       "\n",
       "    .dataframe tbody tr th {\n",
       "        vertical-align: top;\n",
       "    }\n",
       "\n",
       "    .dataframe thead th {\n",
       "        text-align: right;\n",
       "    }\n",
       "</style>\n",
       "<table border=\"1\" class=\"dataframe\">\n",
       "  <thead>\n",
       "    <tr style=\"text-align: right;\">\n",
       "      <th></th>\n",
       "      <th>RECORD_TIME</th>\n",
       "    </tr>\n",
       "  </thead>\n",
       "  <tbody>\n",
       "    <tr>\n",
       "      <th>0</th>\n",
       "      <td>2021-10-18 20:00</td>\n",
       "    </tr>\n",
       "    <tr>\n",
       "      <th>1</th>\n",
       "      <td>2021-10-18 19:30</td>\n",
       "    </tr>\n",
       "  </tbody>\n",
       "</table>\n",
       "</div>"
      ],
      "text/plain": [
       "        RECORD_TIME\n",
       "0  2021-10-18 20:00\n",
       "1  2021-10-18 19:30"
      ]
     },
     "execution_count": 3,
     "metadata": {},
     "output_type": "execute_result"
    }
   ],
   "source": [
    "timestamps"
   ]
  },
  {
   "cell_type": "code",
   "execution_count": 4,
   "id": "alternate-victory",
   "metadata": {
    "execution": {
     "iopub.execute_input": "2021-10-18T18:00:08.967577Z",
     "iopub.status.busy": "2021-10-18T18:00:08.965320Z",
     "iopub.status.idle": "2021-10-18T18:00:09.802162Z",
     "shell.execute_reply": "2021-10-18T18:00:09.803364Z"
    },
    "papermill": {
     "duration": 0.867133,
     "end_time": "2021-10-18T18:00:09.803766",
     "exception": false,
     "start_time": "2021-10-18T18:00:08.936633",
     "status": "completed"
    },
    "tags": []
   },
   "outputs": [],
   "source": [
    "df = pd.read_sql(\"select * from EBAY_TOP_BERLIN where record_time in (select distinct record_time from EBAY_TOP_BERLIN order by record_time desc limit 2)\", sqlite3.connect(\"UsedObjects.db\"))"
   ]
  },
  {
   "cell_type": "code",
   "execution_count": 5,
   "id": "popular-active",
   "metadata": {
    "execution": {
     "iopub.execute_input": "2021-10-18T18:00:09.877802Z",
     "iopub.status.busy": "2021-10-18T18:00:09.866597Z",
     "iopub.status.idle": "2021-10-18T18:00:09.894677Z",
     "shell.execute_reply": "2021-10-18T18:00:09.895955Z"
    },
    "papermill": {
     "duration": 0.06982,
     "end_time": "2021-10-18T18:00:09.896398",
     "exception": false,
     "start_time": "2021-10-18T18:00:09.826578",
     "status": "completed"
    },
    "tags": []
   },
   "outputs": [],
   "source": [
    "df_pivot = df.pivot_table(index=\"PRODUCT\", columns = \"RECORD_TIME\", values = \"LISTING_COUNT\")"
   ]
  },
  {
   "cell_type": "code",
   "execution_count": 6,
   "id": "union-huntington",
   "metadata": {
    "execution": {
     "iopub.execute_input": "2021-10-18T18:00:09.952867Z",
     "iopub.status.busy": "2021-10-18T18:00:09.950548Z",
     "iopub.status.idle": "2021-10-18T18:00:09.955865Z",
     "shell.execute_reply": "2021-10-18T18:00:09.957299Z"
    },
    "papermill": {
     "duration": 0.041754,
     "end_time": "2021-10-18T18:00:09.957757",
     "exception": false,
     "start_time": "2021-10-18T18:00:09.916003",
     "status": "completed"
    },
    "tags": []
   },
   "outputs": [],
   "source": [
    "df_pivot.columns = [\"stamp_1\", \"stamp_2\"]\n",
    "df_pivot_diff = df_pivot.diff(axis=1)"
   ]
  },
  {
   "cell_type": "code",
   "execution_count": 7,
   "id": "fifth-motion",
   "metadata": {
    "execution": {
     "iopub.execute_input": "2021-10-18T18:00:10.012024Z",
     "iopub.status.busy": "2021-10-18T18:00:10.009627Z",
     "iopub.status.idle": "2021-10-18T18:00:11.471365Z",
     "shell.execute_reply": "2021-10-18T18:00:11.472643Z"
    },
    "papermill": {
     "duration": 1.494737,
     "end_time": "2021-10-18T18:00:11.473300",
     "exception": false,
     "start_time": "2021-10-18T18:00:09.978563",
     "status": "completed"
    },
    "tags": []
   },
   "outputs": [
    {
     "data": {
      "text/plain": [
       "<AxesSubplot:ylabel='PRODUCT'>"
      ]
     },
     "execution_count": 7,
     "metadata": {},
     "output_type": "execute_result"
    },
    {
     "data": {
      "image/png": "[encoded data removed]",
      "text/plain": [
       "<Figure size 432x288 with 1 Axes>"
      ]
     },
     "metadata": {
      "needs_background": "light"
     },
     "output_type": "display_data"
    }
   ],
   "source": [
    "df_pivot_diff.sort_values(\"stamp_2\", ascending = False)[\"stamp_2\"].head(10).plot.barh()"
   ]
  },
  {
   "cell_type": "code",
   "execution_count": null,
   "id": "extra-executive",
   "metadata": {
    "papermill": {
     "duration": 0.022323,
     "end_time": "2021-10-18T18:00:11.521689",
     "exception": false,
     "start_time": "2021-10-18T18:00:11.499366",
     "status": "completed"
    },
    "tags": []
   },
   "outputs": [],
   "source": []
  }
 ],
 "metadata": {
  "kernelspec": {
   "display_name": "Python 3",
   "language": "python",
   "name": "python3"
  },
  "language_info": {
   "codemirror_mode": {
    "name": "ipython",
    "version": 3
   },
   "file_extension": ".py",
   "mimetype": "text/x-python",
   "name": "python",
   "nbconvert_exporter": "python",
   "pygments_lexer": "ipython3",
   "version": "3.9.5"
  },
  "papermill": {
   "default_parameters": {},
   "duration": 7.817671,
   "end_time": "2021-10-18T18:00:12.758837",
   "environment_variables": {},
   "exception": null,
   "input_path": "eBay_Overview.ipynb",
   "output_path": "eBay_Overview.ipynb",
   "parameters": {},
   "start_time": "2021-10-18T18:00:04.941166",
   "version": "2.3.3"
  }
 },
 "nbformat": 4,
 "nbformat_minor": 5
}