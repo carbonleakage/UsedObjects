{
 "cells": [
  {
   "cell_type": "code",
   "execution_count": 1,
   "id": "reverse-picking",
   "metadata": {
    "execution": {
     "iopub.execute_input": "2021-10-20T18:00:07.219295Z",
     "iopub.status.busy": "2021-10-20T18:00:07.217314Z",
     "iopub.status.idle": "2021-10-20T18:00:08.029687Z",
     "shell.execute_reply": "2021-10-20T18:00:08.031137Z"
    },
    "papermill": {
     "duration": 0.863575,
     "end_time": "2021-10-20T18:00:08.031813",
     "exception": false,
     "start_time": "2021-10-20T18:00:07.168238",
     "status": "completed"
    },
    "tags": []
   },
   "outputs": [],
   "source": [
    "import pandas as pd\n",
    "import sqlite3"
   ]
  },
  {
   "cell_type": "code",
   "execution_count": 2,
   "id": "innovative-syndrome",
   "metadata": {
    "execution": {
     "iopub.execute_input": "2021-10-20T18:00:08.082580Z",
     "iopub.status.busy": "2021-10-20T18:00:08.080139Z",
     "iopub.status.idle": "2021-10-20T18:00:08.663736Z",
     "shell.execute_reply": "2021-10-20T18:00:08.665192Z"
    },
    "papermill": {
     "duration": 0.613673,
     "end_time": "2021-10-20T18:00:08.665624",
     "exception": false,
     "start_time": "2021-10-20T18:00:08.051951",
     "status": "completed"
    },
    "tags": []
   },
   "outputs": [],
   "source": [
    "timestamps = pd.read_sql(\"select distinct record_time from EBAY_TOP_BERLIN order by record_time desc limit 2\", sqlite3.connect(\"UsedObjects.db\"))"
   ]
  },
  {
   "cell_type": "code",
   "execution_count": 3,
   "id": "periodic-identification",
   "metadata": {
    "execution": {
     "iopub.execute_input": "2021-10-20T18:00:08.739972Z",
     "iopub.status.busy": "2021-10-20T18:00:08.737904Z",
     "iopub.status.idle": "2021-10-20T18:00:08.759177Z",
     "shell.execute_reply": "2021-10-20T18:00:08.757766Z"
    },
    "papermill": {
     "duration": 0.067649,
     "end_time": "2021-10-20T18:00:08.759519",
     "exception": false,
     "start_time": "2021-10-20T18:00:08.691870",
     "status": "completed"
    },
    "tags": []
   },
   "outputs": [
    {
     "data": {
      "text/html": [
       "<div>\n",
       "<style scoped>\n",
       "    .dataframe tbody tr th:only-of-type {\n",
       "        vertical-align: middle;\n",
       "    }\n",
       "\n",
       "    .dataframe tbody tr th {\n",
       "        vertical-align: top;\n",
       "    }\n",
       "\n",
       "    .dataframe thead th {\n",
       "        text-align: right;\n",
       "    }\n",
       "</style>\n",
       "<table border=\"1\" class=\"dataframe\">\n",
       "  <thead>\n",
       "    <tr style=\"text-align: right;\">\n",
       "      <th></th>\n",
       "      <th>RECORD_TIME</th>\n",
       "    </tr>\n",
       "  </thead>\n",
       "  <tbody>\n",
       "    <tr>\n",
       "      <th>0</th>\n",
       "      <td>2021-10-20 20:00</td>\n",
       "    </tr>\n",
       "    <tr>\n",
       "      <th>1</th>\n",
       "      <td>2021-10-20 19:30</td>\n",
       "    </tr>\n",
       "  </tbody>\n",
       "</table>\n",
       "</div>"
      ],
      "text/plain": [
       "        RECORD_TIME\n",
       "0  2021-10-20 20:00\n",
       "1  2021-10-20 19:30"
      ]
     },
     "execution_count": 3,
     "metadata": {},
     "output_type": "execute_result"
    }
   ],
   "source": [
    "timestamps"
   ]
  },
  {
   "cell_type": "code",
   "execution_count": 4,
   "id": "alternate-victory",
   "metadata": {
    "execution": {
     "iopub.execute_input": "2021-10-20T18:00:08.811881Z",
     "iopub.status.busy": "2021-10-20T18:00:08.809583Z",
     "iopub.status.idle": "2021-10-20T18:00:09.674732Z",
     "shell.execute_reply": "2021-10-20T18:00:09.676029Z"
    },
    "papermill": {
     "duration": 0.895288,
     "end_time": "2021-10-20T18:00:09.676451",
     "exception": false,
     "start_time": "2021-10-20T18:00:08.781163",
     "status": "completed"
    },
    "tags": []
   },
   "outputs": [],
   "source": [
    "df = pd.read_sql(\"select * from EBAY_TOP_BERLIN where record_time in (select distinct record_time from EBAY_TOP_BERLIN order by record_time desc limit 2)\", sqlite3.connect(\"UsedObjects.db\"))"
   ]
  },
  {
   "cell_type": "code",
   "execution_count": 5,
   "id": "popular-active",
   "metadata": {
    "execution": {
     "iopub.execute_input": "2021-10-20T18:00:09.745243Z",
     "iopub.status.busy": "2021-10-20T18:00:09.734267Z",
     "iopub.status.idle": "2021-10-20T18:00:09.761641Z",
     "shell.execute_reply": "2021-10-20T18:00:09.762878Z"
    },
    "papermill": {
     "duration": 0.066718,
     "end_time": "2021-10-20T18:00:09.763279",
     "exception": false,
     "start_time": "2021-10-20T18:00:09.696561",
     "status": "completed"
    },
    "tags": []
   },
   "outputs": [],
   "source": [
    "df_pivot = df.pivot_table(index=\"PRODUCT\", columns = \"RECORD_TIME\", values = \"LISTING_COUNT\")"
   ]
  },
  {
   "cell_type": "code",
   "execution_count": 6,
   "id": "union-huntington",
   "metadata": {
    "execution": {
     "iopub.execute_input": "2021-10-20T18:00:09.822424Z",
     "iopub.status.busy": "2021-10-20T18:00:09.819798Z",
     "iopub.status.idle": "2021-10-20T18:00:09.827195Z",
     "shell.execute_reply": "2021-10-20T18:00:09.825781Z"
    },
    "papermill": {
     "duration": 0.042172,
     "end_time": "2021-10-20T18:00:09.827552",
     "exception": false,
     "start_time": "2021-10-20T18:00:09.785380",
     "status": "completed"
    },
    "tags": []
   },
   "outputs": [],
   "source": [
    "df_pivot.columns = [\"stamp_1\", \"stamp_2\"]\n",
    "df_pivot_diff = df_pivot.diff(axis=1)"
   ]
  },
  {
   "cell_type": "code",
   "execution_count": 7,
   "id": "fifth-motion",
   "metadata": {
    "execution": {
     "iopub.execute_input": "2021-10-20T18:00:09.880877Z",
     "iopub.status.busy": "2021-10-20T18:00:09.878486Z",
     "iopub.status.idle": "2021-10-20T18:00:11.384809Z",
     "shell.execute_reply": "2021-10-20T18:00:11.386199Z"
    },
    "papermill": {
     "duration": 1.53879,
     "end_time": "2021-10-20T18:00:11.386646",
     "exception": false,
     "start_time": "2021-10-20T18:00:09.847856",
     "status": "completed"
    },
    "tags": []
   },
   "outputs": [
    {
     "data": {
      "text/plain": [
       "<AxesSubplot:ylabel='PRODUCT'>"
      ]
     },
     "execution_count": 7,
     "metadata": {},
     "output_type": "execute_result"
    },
    {
     "data": {
      "image/png": "[encoded data removed]",
      "text/plain": [
       "<Figure size 432x288 with 1 Axes>"
      ]
     },
     "metadata": {
      "needs_background": "light"
     },
     "output_type": "display_data"
    }
   ],
   "source": [
    "df_pivot_diff.sort_values(\"stamp_2\", ascending = False)[\"stamp_2\"].head(10).plot.barh()"
   ]
  },
  {
   "cell_type": "code",
   "execution_count": null,
   "id": "extra-executive",
   "metadata": {
    "papermill": {
     "duration": 0.021835,
     "end_time": "2021-10-20T18:00:11.431906",
     "exception": false,
     "start_time": "2021-10-20T18:00:11.410071",
     "status": "completed"
    },
    "tags": []
   },
   "outputs": [],
   "source": []
  }
 ],
 "metadata": {
  "kernelspec": {
   "display_name": "Python 3",
   "language": "python",
   "name": "python3"
  },
  "language_info": {
   "codemirror_mode": {
    "name": "ipython",
    "version": 3
   },
   "file_extension": ".py",
   "mimetype": "text/x-python",
   "name": "python",
   "nbconvert_exporter": "python",
   "pygments_lexer": "ipython3",
   "version": "3.9.5"
  },
  "papermill": {
   "default_parameters": {},
   "duration": 7.325263,
   "end_time": "2021-10-20T18:00:12.071500",
   "environment_variables": {},
   "exception": null,
   "input_path": "eBay_Overview.ipynb",
   "output_path": "eBay_Overview.ipynb",
   "parameters": {},
   "start_time": "2021-10-20T18:00:04.746237",
   "version": "2.3.3"
  }
 },
 "nbformat": 4,
 "nbformat_minor": 5
}