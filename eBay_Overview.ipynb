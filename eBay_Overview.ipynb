{
 "cells": [
  {
   "cell_type": "code",
   "execution_count": 1,
   "id": "reverse-picking",
   "metadata": {
    "execution": {
     "iopub.execute_input": "2021-10-18T06:30:06.850807Z",
     "iopub.status.busy": "2021-10-18T06:30:06.848866Z",
     "iopub.status.idle": "2021-10-18T06:30:07.655410Z",
     "shell.execute_reply": "2021-10-18T06:30:07.656672Z"
    },
    "papermill": {
     "duration": 0.860443,
     "end_time": "2021-10-18T06:30:07.657358",
     "exception": false,
     "start_time": "2021-10-18T06:30:06.796915",
     "status": "completed"
    },
    "tags": []
   },
   "outputs": [],
   "source": [
    "import pandas as pd\n",
    "import sqlite3"
   ]
  },
  {
   "cell_type": "code",
   "execution_count": 2,
   "id": "innovative-syndrome",
   "metadata": {
    "execution": {
     "iopub.execute_input": "2021-10-18T06:30:07.708179Z",
     "iopub.status.busy": "2021-10-18T06:30:07.706325Z",
     "iopub.status.idle": "2021-10-18T06:30:08.272292Z",
     "shell.execute_reply": "2021-10-18T06:30:08.274258Z"
    },
    "papermill": {
     "duration": 0.59653,
     "end_time": "2021-10-18T06:30:08.274892",
     "exception": false,
     "start_time": "2021-10-18T06:30:07.678362",
     "status": "completed"
    },
    "tags": []
   },
   "outputs": [],
   "source": [
    "timestamps = pd.read_sql(\"select distinct record_time from EBAY_TOP_BERLIN order by record_time desc limit 2\", sqlite3.connect(\"UsedObjects.db\"))"
   ]
  },
  {
   "cell_type": "code",
   "execution_count": 3,
   "id": "periodic-identification",
   "metadata": {
    "execution": {
     "iopub.execute_input": "2021-10-18T06:30:08.351877Z",
     "iopub.status.busy": "2021-10-18T06:30:08.349832Z",
     "iopub.status.idle": "2021-10-18T06:30:08.369551Z",
     "shell.execute_reply": "2021-10-18T06:30:08.370969Z"
    },
    "papermill": {
     "duration": 0.069247,
     "end_time": "2021-10-18T06:30:08.371404",
     "exception": false,
     "start_time": "2021-10-18T06:30:08.302157",
     "status": "completed"
    },
    "tags": []
   },
   "outputs": [
    {
     "data": {
      "text/html": [
       "<div>\n",
       "<style scoped>\n",
       "    .dataframe tbody tr th:only-of-type {\n",
       "        vertical-align: middle;\n",
       "    }\n",
       "\n",
       "    .dataframe tbody tr th {\n",
       "        vertical-align: top;\n",
       "    }\n",
       "\n",
       "    .dataframe thead th {\n",
       "        text-align: right;\n",
       "    }\n",
       "</style>\n",
       "<table border=\"1\" class=\"dataframe\">\n",
       "  <thead>\n",
       "    <tr style=\"text-align: right;\">\n",
       "      <th></th>\n",
       "      <th>RECORD_TIME</th>\n",
       "    </tr>\n",
       "  </thead>\n",
       "  <tbody>\n",
       "    <tr>\n",
       "      <th>0</th>\n",
       "      <td>2021-10-18 08:30</td>\n",
       "    </tr>\n",
       "    <tr>\n",
       "      <th>1</th>\n",
       "      <td>2021-10-18 08:00</td>\n",
       "    </tr>\n",
       "  </tbody>\n",
       "</table>\n",
       "</div>"
      ],
      "text/plain": [
       "        RECORD_TIME\n",
       "0  2021-10-18 08:30\n",
       "1  2021-10-18 08:00"
      ]
     },
     "execution_count": 3,
     "metadata": {},
     "output_type": "execute_result"
    }
   ],
   "source": [
    "timestamps"
   ]
  },
  {
   "cell_type": "code",
   "execution_count": 4,
   "id": "alternate-victory",
   "metadata": {
    "execution": {
     "iopub.execute_input": "2021-10-18T06:30:08.423283Z",
     "iopub.status.busy": "2021-10-18T06:30:08.421252Z",
     "iopub.status.idle": "2021-10-18T06:30:09.250118Z",
     "shell.execute_reply": "2021-10-18T06:30:09.248648Z"
    },
    "papermill": {
     "duration": 0.858192,
     "end_time": "2021-10-18T06:30:09.250467",
     "exception": false,
     "start_time": "2021-10-18T06:30:08.392275",
     "status": "completed"
    },
    "tags": []
   },
   "outputs": [],
   "source": [
    "df = pd.read_sql(\"select * from EBAY_TOP_BERLIN where record_time in (select distinct record_time from EBAY_TOP_BERLIN order by record_time desc limit 2)\", sqlite3.connect(\"UsedObjects.db\"))"
   ]
  },
  {
   "cell_type": "code",
   "execution_count": 5,
   "id": "popular-active",
   "metadata": {
    "execution": {
     "iopub.execute_input": "2021-10-18T06:30:09.322046Z",
     "iopub.status.busy": "2021-10-18T06:30:09.310044Z",
     "iopub.status.idle": "2021-10-18T06:30:09.337387Z",
     "shell.execute_reply": "2021-10-18T06:30:09.338607Z"
    },
    "papermill": {
     "duration": 0.067722,
     "end_time": "2021-10-18T06:30:09.338999",
     "exception": false,
     "start_time": "2021-10-18T06:30:09.271277",
     "status": "completed"
    },
    "tags": []
   },
   "outputs": [],
   "source": [
    "df_pivot = df.pivot_table(index=\"PRODUCT\", columns = \"RECORD_TIME\", values = \"LISTING_COUNT\")"
   ]
  },
  {
   "cell_type": "code",
   "execution_count": 6,
   "id": "union-huntington",
   "metadata": {
    "execution": {
     "iopub.execute_input": "2021-10-18T06:30:09.396630Z",
     "iopub.status.busy": "2021-10-18T06:30:09.394469Z",
     "iopub.status.idle": "2021-10-18T06:30:09.399812Z",
     "shell.execute_reply": "2021-10-18T06:30:09.401410Z"
    },
    "papermill": {
     "duration": 0.040998,
     "end_time": "2021-10-18T06:30:09.401872",
     "exception": false,
     "start_time": "2021-10-18T06:30:09.360874",
     "status": "completed"
    },
    "tags": []
   },
   "outputs": [],
   "source": [
    "df_pivot.columns = [\"stamp_1\", \"stamp_2\"]\n",
    "df_pivot_diff = df_pivot.diff(axis=1)"
   ]
  },
  {
   "cell_type": "code",
   "execution_count": 7,
   "id": "fifth-motion",
   "metadata": {
    "execution": {
     "iopub.execute_input": "2021-10-18T06:30:09.457070Z",
     "iopub.status.busy": "2021-10-18T06:30:09.454367Z",
     "iopub.status.idle": "2021-10-18T06:30:10.974319Z",
     "shell.execute_reply": "2021-10-18T06:30:10.975625Z"
    },
    "papermill": {
     "duration": 1.553618,
     "end_time": "2021-10-18T06:30:10.976042",
     "exception": false,
     "start_time": "2021-10-18T06:30:09.422424",
     "status": "completed"
    },
    "tags": []
   },
   "outputs": [
    {
     "data": {
      "text/plain": [
       "<AxesSubplot:ylabel='PRODUCT'>"
      ]
     },
     "execution_count": 7,
     "metadata": {},
     "output_type": "execute_result"
    },
    {
     "data": {
      "image/png": "[encoded data removed]",
      "text/plain": [
       "<Figure size 432x288 with 1 Axes>"
      ]
     },
     "metadata": {
      "needs_background": "light"
     },
     "output_type": "display_data"
    }
   ],
   "source": [
    "df_pivot_diff.sort_values(\"stamp_2\", ascending = False)[\"stamp_2\"].head(10).plot.barh()"
   ]
  },
  {
   "cell_type": "code",
   "execution_count": null,
   "id": "extra-executive",
   "metadata": {
    "papermill": {
     "duration": 0.022085,
     "end_time": "2021-10-18T06:30:11.022863",
     "exception": false,
     "start_time": "2021-10-18T06:30:11.000778",
     "status": "completed"
    },
    "tags": []
   },
   "outputs": [],
   "source": []
  }
 ],
 "metadata": {
  "kernelspec": {
   "display_name": "Python 3",
   "language": "python",
   "name": "python3"
  },
  "language_info": {
   "codemirror_mode": {
    "name": "ipython",
    "version": 3
   },
   "file_extension": ".py",
   "mimetype": "text/x-python",
   "name": "python",
   "nbconvert_exporter": "python",
   "pygments_lexer": "ipython3",
   "version": "3.9.5"
  },
  "papermill": {
   "default_parameters": {},
   "duration": 7.816756,
   "end_time": "2021-10-18T06:30:12.215289",
   "environment_variables": {},
   "exception": null,
   "input_path": "eBay_Overview.ipynb",
   "output_path": "eBay_Overview.ipynb",
   "parameters": {},
   "start_time": "2021-10-18T06:30:04.398533",
   "version": "2.3.3"
  }
 },
 "nbformat": 4,
 "nbformat_minor": 5
}