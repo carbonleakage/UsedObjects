{
 "cells": [
  {
   "cell_type": "code",
   "execution_count": 1,
   "id": "reverse-picking",
   "metadata": {
    "execution": {
     "iopub.execute_input": "2021-11-13T09:00:07.270763Z",
     "iopub.status.busy": "2021-11-13T09:00:07.268550Z",
     "iopub.status.idle": "2021-11-13T09:00:08.222249Z",
     "shell.execute_reply": "2021-11-13T09:00:08.226182Z"
    },
    "papermill": {
     "duration": 1.005547,
     "end_time": "2021-11-13T09:00:08.227425",
     "exception": false,
     "start_time": "2021-11-13T09:00:07.221878",
     "status": "completed"
    },
    "tags": []
   },
   "outputs": [],
   "source": [
    "import pandas as pd\n",
    "import sqlite3"
   ]
  },
  {
   "cell_type": "code",
   "execution_count": 2,
   "id": "innovative-syndrome",
   "metadata": {
    "execution": {
     "iopub.execute_input": "2021-11-13T09:00:08.296273Z",
     "iopub.status.busy": "2021-11-13T09:00:08.294009Z",
     "iopub.status.idle": "2021-11-13T09:00:09.138032Z",
     "shell.execute_reply": "2021-11-13T09:00:09.139277Z"
    },
    "papermill": {
     "duration": 0.87756,
     "end_time": "2021-11-13T09:00:09.139674",
     "exception": false,
     "start_time": "2021-11-13T09:00:08.262114",
     "status": "completed"
    },
    "tags": []
   },
   "outputs": [],
   "source": [
    "timestamps = pd.read_sql(\"select distinct record_time from EBAY_TOP_BERLIN order by record_time desc limit 2\", sqlite3.connect(\"UsedObjects.db\"))"
   ]
  },
  {
   "cell_type": "code",
   "execution_count": 3,
   "id": "periodic-identification",
   "metadata": {
    "execution": {
     "iopub.execute_input": "2021-11-13T09:00:09.203575Z",
     "iopub.status.busy": "2021-11-13T09:00:09.201559Z",
     "iopub.status.idle": "2021-11-13T09:00:09.221556Z",
     "shell.execute_reply": "2021-11-13T09:00:09.222794Z"
    },
    "papermill": {
     "duration": 0.064272,
     "end_time": "2021-11-13T09:00:09.223191",
     "exception": false,
     "start_time": "2021-11-13T09:00:09.158919",
     "status": "completed"
    },
    "tags": []
   },
   "outputs": [
    {
     "data": {
      "text/html": [
       "<div>\n",
       "<style scoped>\n",
       "    .dataframe tbody tr th:only-of-type {\n",
       "        vertical-align: middle;\n",
       "    }\n",
       "\n",
       "    .dataframe tbody tr th {\n",
       "        vertical-align: top;\n",
       "    }\n",
       "\n",
       "    .dataframe thead th {\n",
       "        text-align: right;\n",
       "    }\n",
       "</style>\n",
       "<table border=\"1\" class=\"dataframe\">\n",
       "  <thead>\n",
       "    <tr style=\"text-align: right;\">\n",
       "      <th></th>\n",
       "      <th>RECORD_TIME</th>\n",
       "    </tr>\n",
       "  </thead>\n",
       "  <tbody>\n",
       "    <tr>\n",
       "      <th>0</th>\n",
       "      <td>2021-11-13 10:00</td>\n",
       "    </tr>\n",
       "    <tr>\n",
       "      <th>1</th>\n",
       "      <td>2021-11-13 09:30</td>\n",
       "    </tr>\n",
       "  </tbody>\n",
       "</table>\n",
       "</div>"
      ],
      "text/plain": [
       "        RECORD_TIME\n",
       "0  2021-11-13 10:00\n",
       "1  2021-11-13 09:30"
      ]
     },
     "execution_count": 3,
     "metadata": {},
     "output_type": "execute_result"
    }
   ],
   "source": [
    "timestamps"
   ]
  },
  {
   "cell_type": "code",
   "execution_count": 4,
   "id": "alternate-victory",
   "metadata": {
    "execution": {
     "iopub.execute_input": "2021-11-13T09:00:09.276271Z",
     "iopub.status.busy": "2021-11-13T09:00:09.273999Z",
     "iopub.status.idle": "2021-11-13T09:00:10.472207Z",
     "shell.execute_reply": "2021-11-13T09:00:10.473830Z"
    },
    "papermill": {
     "duration": 1.229129,
     "end_time": "2021-11-13T09:00:10.474378",
     "exception": false,
     "start_time": "2021-11-13T09:00:09.245249",
     "status": "completed"
    },
    "tags": []
   },
   "outputs": [],
   "source": [
    "df = pd.read_sql(\"select * from EBAY_TOP_BERLIN where record_time in (select distinct record_time from EBAY_TOP_BERLIN order by record_time desc limit 2)\", sqlite3.connect(\"UsedObjects.db\"))"
   ]
  },
  {
   "cell_type": "code",
   "execution_count": 5,
   "id": "popular-active",
   "metadata": {
    "execution": {
     "iopub.execute_input": "2021-11-13T09:00:10.551679Z",
     "iopub.status.busy": "2021-11-13T09:00:10.537552Z",
     "iopub.status.idle": "2021-11-13T09:00:10.569297Z",
     "shell.execute_reply": "2021-11-13T09:00:10.570653Z"
    },
    "papermill": {
     "duration": 0.074675,
     "end_time": "2021-11-13T09:00:10.571125",
     "exception": false,
     "start_time": "2021-11-13T09:00:10.496450",
     "status": "completed"
    },
    "tags": []
   },
   "outputs": [],
   "source": [
    "df_pivot = df.pivot_table(index=\"PRODUCT\", columns = \"RECORD_TIME\", values = \"LISTING_COUNT\")"
   ]
  },
  {
   "cell_type": "code",
   "execution_count": 6,
   "id": "union-huntington",
   "metadata": {
    "execution": {
     "iopub.execute_input": "2021-11-13T09:00:10.629717Z",
     "iopub.status.busy": "2021-11-13T09:00:10.627583Z",
     "iopub.status.idle": "2021-11-13T09:00:10.632797Z",
     "shell.execute_reply": "2021-11-13T09:00:10.634458Z"
    },
    "papermill": {
     "duration": 0.043724,
     "end_time": "2021-11-13T09:00:10.634960",
     "exception": false,
     "start_time": "2021-11-13T09:00:10.591236",
     "status": "completed"
    },
    "tags": []
   },
   "outputs": [],
   "source": [
    "df_pivot.columns = [\"stamp_1\", \"stamp_2\"]\n",
    "df_pivot_diff = df_pivot.diff(axis=1)"
   ]
  },
  {
   "cell_type": "code",
   "execution_count": 7,
   "id": "fifth-motion",
   "metadata": {
    "execution": {
     "iopub.execute_input": "2021-11-13T09:00:10.696784Z",
     "iopub.status.busy": "2021-11-13T09:00:10.694174Z",
     "iopub.status.idle": "2021-11-13T09:00:12.561968Z",
     "shell.execute_reply": "2021-11-13T09:00:12.564852Z"
    },
    "papermill": {
     "duration": 1.907218,
     "end_time": "2021-11-13T09:00:12.565730",
     "exception": false,
     "start_time": "2021-11-13T09:00:10.658512",
     "status": "completed"
    },
    "tags": []
   },
   "outputs": [
    {
     "data": {
      "text/plain": [
       "<AxesSubplot:ylabel='PRODUCT'>"
      ]
     },
     "execution_count": 7,
     "metadata": {},
     "output_type": "execute_result"
    },
    {
     "data": {
      "image/png": "[encoded data removed]",
      "text/plain": [
       "<Figure size 432x288 with 1 Axes>"
      ]
     },
     "metadata": {
      "needs_background": "light"
     },
     "output_type": "display_data"
    }
   ],
   "source": [
    "df_pivot_diff.sort_values(\"stamp_2\", ascending = False)[\"stamp_2\"].head(10).plot.barh()"
   ]
  },
  {
   "cell_type": "code",
   "execution_count": null,
   "id": "extra-executive",
   "metadata": {
    "papermill": {
     "duration": 0.035603,
     "end_time": "2021-11-13T09:00:12.639175",
     "exception": false,
     "start_time": "2021-11-13T09:00:12.603572",
     "status": "completed"
    },
    "tags": []
   },
   "outputs": [],
   "source": []
  }
 ],
 "metadata": {
  "kernelspec": {
   "display_name": "Python 3",
   "language": "python",
   "name": "python3"
  },
  "language_info": {
   "codemirror_mode": {
    "name": "ipython",
    "version": 3
   },
   "file_extension": ".py",
   "mimetype": "text/x-python",
   "name": "python",
   "nbconvert_exporter": "python",
   "pygments_lexer": "ipython3",
   "version": "3.9.5"
  },
  "papermill": {
   "default_parameters": {},
   "duration": 8.900958,
   "end_time": "2021-11-13T09:00:13.403783",
   "environment_variables": {},
   "exception": null,
   "input_path": "eBay_Overview.ipynb",
   "output_path": "eBay_Overview.ipynb",
   "parameters": {},
   "start_time": "2021-11-13T09:00:04.502825",
   "version": "2.3.3"
  }
 },
 "nbformat": 4,
 "nbformat_minor": 5
}