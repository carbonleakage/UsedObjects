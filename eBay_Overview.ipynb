{
 "cells": [
  {
   "cell_type": "code",
   "execution_count": 1,
   "id": "reverse-picking",
   "metadata": {
    "execution": {
     "iopub.execute_input": "2021-12-01T19:30:07.855339Z",
     "iopub.status.busy": "2021-12-01T19:30:07.852964Z",
     "iopub.status.idle": "2021-12-01T19:30:08.770538Z",
     "shell.execute_reply": "2021-12-01T19:30:08.772105Z"
    },
    "papermill": {
     "duration": 0.967942,
     "end_time": "2021-12-01T19:30:08.772927",
     "exception": false,
     "start_time": "2021-12-01T19:30:07.804985",
     "status": "completed"
    },
    "tags": []
   },
   "outputs": [],
   "source": [
    "import pandas as pd\n",
    "import sqlite3"
   ]
  },
  {
   "cell_type": "code",
   "execution_count": 2,
   "id": "innovative-syndrome",
   "metadata": {
    "execution": {
     "iopub.execute_input": "2021-12-01T19:30:08.834557Z",
     "iopub.status.busy": "2021-12-01T19:30:08.832031Z",
     "iopub.status.idle": "2021-12-01T19:30:09.812932Z",
     "shell.execute_reply": "2021-12-01T19:30:09.814546Z"
    },
    "papermill": {
     "duration": 1.014603,
     "end_time": "2021-12-01T19:30:09.815047",
     "exception": false,
     "start_time": "2021-12-01T19:30:08.800444",
     "status": "completed"
    },
    "tags": []
   },
   "outputs": [],
   "source": [
    "timestamps = pd.read_sql(\"select distinct record_time from EBAY_TOP_BERLIN order by record_time desc limit 2\", sqlite3.connect(\"UsedObjects.db\"))"
   ]
  },
  {
   "cell_type": "code",
   "execution_count": 3,
   "id": "periodic-identification",
   "metadata": {
    "execution": {
     "iopub.execute_input": "2021-12-01T19:30:09.887462Z",
     "iopub.status.busy": "2021-12-01T19:30:09.885187Z",
     "iopub.status.idle": "2021-12-01T19:30:09.908736Z",
     "shell.execute_reply": "2021-12-01T19:30:09.910613Z"
    },
    "papermill": {
     "duration": 0.073948,
     "end_time": "2021-12-01T19:30:09.911120",
     "exception": false,
     "start_time": "2021-12-01T19:30:09.837172",
     "status": "completed"
    },
    "tags": []
   },
   "outputs": [
    {
     "data": {
      "text/html": [
       "<div>\n",
       "<style scoped>\n",
       "    .dataframe tbody tr th:only-of-type {\n",
       "        vertical-align: middle;\n",
       "    }\n",
       "\n",
       "    .dataframe tbody tr th {\n",
       "        vertical-align: top;\n",
       "    }\n",
       "\n",
       "    .dataframe thead th {\n",
       "        text-align: right;\n",
       "    }\n",
       "</style>\n",
       "<table border=\"1\" class=\"dataframe\">\n",
       "  <thead>\n",
       "    <tr style=\"text-align: right;\">\n",
       "      <th></th>\n",
       "      <th>RECORD_TIME</th>\n",
       "    </tr>\n",
       "  </thead>\n",
       "  <tbody>\n",
       "    <tr>\n",
       "      <th>0</th>\n",
       "      <td>2021-12-01 20:30</td>\n",
       "    </tr>\n",
       "    <tr>\n",
       "      <th>1</th>\n",
       "      <td>2021-12-01 20:00</td>\n",
       "    </tr>\n",
       "  </tbody>\n",
       "</table>\n",
       "</div>"
      ],
      "text/plain": [
       "        RECORD_TIME\n",
       "0  2021-12-01 20:30\n",
       "1  2021-12-01 20:00"
      ]
     },
     "execution_count": 3,
     "metadata": {},
     "output_type": "execute_result"
    }
   ],
   "source": [
    "timestamps"
   ]
  },
  {
   "cell_type": "code",
   "execution_count": 4,
   "id": "alternate-victory",
   "metadata": {
    "execution": {
     "iopub.execute_input": "2021-12-01T19:30:09.967689Z",
     "iopub.status.busy": "2021-12-01T19:30:09.965445Z",
     "iopub.status.idle": "2021-12-01T19:30:11.379491Z",
     "shell.execute_reply": "2021-12-01T19:30:11.382227Z"
    },
    "papermill": {
     "duration": 1.448337,
     "end_time": "2021-12-01T19:30:11.382725",
     "exception": false,
     "start_time": "2021-12-01T19:30:09.934388",
     "status": "completed"
    },
    "tags": []
   },
   "outputs": [],
   "source": [
    "df = pd.read_sql(\"select * from EBAY_TOP_BERLIN where record_time in (select distinct record_time from EBAY_TOP_BERLIN order by record_time desc limit 2)\", sqlite3.connect(\"UsedObjects.db\"))"
   ]
  },
  {
   "cell_type": "code",
   "execution_count": 5,
   "id": "popular-active",
   "metadata": {
    "execution": {
     "iopub.execute_input": "2021-12-01T19:30:11.462158Z",
     "iopub.status.busy": "2021-12-01T19:30:11.447874Z",
     "iopub.status.idle": "2021-12-01T19:30:11.480871Z",
     "shell.execute_reply": "2021-12-01T19:30:11.482377Z"
    },
    "papermill": {
     "duration": 0.078059,
     "end_time": "2021-12-01T19:30:11.482854",
     "exception": false,
     "start_time": "2021-12-01T19:30:11.404795",
     "status": "completed"
    },
    "tags": []
   },
   "outputs": [],
   "source": [
    "df_pivot = df.pivot_table(index=\"PRODUCT\", columns = \"RECORD_TIME\", values = \"LISTING_COUNT\")"
   ]
  },
  {
   "cell_type": "code",
   "execution_count": 6,
   "id": "union-huntington",
   "metadata": {
    "execution": {
     "iopub.execute_input": "2021-12-01T19:30:11.544282Z",
     "iopub.status.busy": "2021-12-01T19:30:11.542032Z",
     "iopub.status.idle": "2021-12-01T19:30:11.548159Z",
     "shell.execute_reply": "2021-12-01T19:30:11.549610Z"
    },
    "papermill": {
     "duration": 0.043763,
     "end_time": "2021-12-01T19:30:11.550092",
     "exception": false,
     "start_time": "2021-12-01T19:30:11.506329",
     "status": "completed"
    },
    "tags": []
   },
   "outputs": [],
   "source": [
    "df_pivot.columns = [\"stamp_1\", \"stamp_2\"]\n",
    "df_pivot_diff = df_pivot.diff(axis=1)"
   ]
  },
  {
   "cell_type": "code",
   "execution_count": 7,
   "id": "fifth-motion",
   "metadata": {
    "execution": {
     "iopub.execute_input": "2021-12-01T19:30:11.606560Z",
     "iopub.status.busy": "2021-12-01T19:30:11.603815Z",
     "iopub.status.idle": "2021-12-01T19:30:13.525113Z",
     "shell.execute_reply": "2021-12-01T19:30:13.527499Z"
    },
    "papermill": {
     "duration": 1.958218,
     "end_time": "2021-12-01T19:30:13.528186",
     "exception": false,
     "start_time": "2021-12-01T19:30:11.569968",
     "status": "completed"
    },
    "tags": []
   },
   "outputs": [
    {
     "data": {
      "text/plain": [
       "<AxesSubplot:ylabel='PRODUCT'>"
      ]
     },
     "execution_count": 7,
     "metadata": {},
     "output_type": "execute_result"
    },
    {
     "data": {
      "image/png": "[encoded data removed]",
      "text/plain": [
       "<Figure size 432x288 with 1 Axes>"
      ]
     },
     "metadata": {
      "needs_background": "light"
     },
     "output_type": "display_data"
    }
   ],
   "source": [
    "df_pivot_diff.sort_values(\"stamp_2\", ascending = False)[\"stamp_2\"].head(10).plot.barh()"
   ]
  },
  {
   "cell_type": "code",
   "execution_count": null,
   "id": "extra-executive",
   "metadata": {
    "papermill": {
     "duration": 0.037429,
     "end_time": "2021-12-01T19:30:13.599120",
     "exception": false,
     "start_time": "2021-12-01T19:30:13.561691",
     "status": "completed"
    },
    "tags": []
   },
   "outputs": [],
   "source": []
  }
 ],
 "metadata": {
  "kernelspec": {
   "display_name": "Python 3",
   "language": "python",
   "name": "python3"
  },
  "language_info": {
   "codemirror_mode": {
    "name": "ipython",
    "version": 3
   },
   "file_extension": ".py",
   "mimetype": "text/x-python",
   "name": "python",
   "nbconvert_exporter": "python",
   "pygments_lexer": "ipython3",
   "version": "3.9.5"
  },
  "papermill": {
   "default_parameters": {},
   "duration": 9.926112,
   "end_time": "2021-12-01T19:30:15.006739",
   "environment_variables": {},
   "exception": null,
   "input_path": "eBay_Overview.ipynb",
   "output_path": "eBay_Overview.ipynb",
   "parameters": {},
   "start_time": "2021-12-01T19:30:05.080627",
   "version": "2.3.3"
  }
 },
 "nbformat": 4,
 "nbformat_minor": 5
}