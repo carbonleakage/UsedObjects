{
 "cells": [
  {
   "cell_type": "code",
   "execution_count": 1,
   "id": "reverse-picking",
   "metadata": {
    "execution": {
     "iopub.execute_input": "2021-10-06T22:30:07.376861Z",
     "iopub.status.busy": "2021-10-06T22:30:07.374913Z",
     "iopub.status.idle": "2021-10-06T22:30:08.181723Z",
     "shell.execute_reply": "2021-10-06T22:30:08.183031Z"
    },
    "papermill": {
     "duration": 0.860361,
     "end_time": "2021-10-06T22:30:08.183661",
     "exception": false,
     "start_time": "2021-10-06T22:30:07.323300",
     "status": "completed"
    },
    "tags": []
   },
   "outputs": [],
   "source": [
    "import pandas as pd\n",
    "import sqlite3"
   ]
  },
  {
   "cell_type": "code",
   "execution_count": 2,
   "id": "innovative-syndrome",
   "metadata": {
    "execution": {
     "iopub.execute_input": "2021-10-06T22:30:08.235707Z",
     "iopub.status.busy": "2021-10-06T22:30:08.233615Z",
     "iopub.status.idle": "2021-10-06T22:30:08.705920Z",
     "shell.execute_reply": "2021-10-06T22:30:08.707246Z"
    },
    "papermill": {
     "duration": 0.501821,
     "end_time": "2021-10-06T22:30:08.707676",
     "exception": false,
     "start_time": "2021-10-06T22:30:08.205855",
     "status": "completed"
    },
    "tags": []
   },
   "outputs": [],
   "source": [
    "timestamps = pd.read_sql(\"select distinct record_time from EBAY_TOP_BERLIN order by record_time desc limit 2\", sqlite3.connect(\"UsedObjects.db\"))"
   ]
  },
  {
   "cell_type": "code",
   "execution_count": 3,
   "id": "periodic-identification",
   "metadata": {
    "execution": {
     "iopub.execute_input": "2021-10-06T22:30:08.772254Z",
     "iopub.status.busy": "2021-10-06T22:30:08.770172Z",
     "iopub.status.idle": "2021-10-06T22:30:08.789985Z",
     "shell.execute_reply": "2021-10-06T22:30:08.791263Z"
    },
    "papermill": {
     "duration": 0.065172,
     "end_time": "2021-10-06T22:30:08.791667",
     "exception": false,
     "start_time": "2021-10-06T22:30:08.726495",
     "status": "completed"
    },
    "tags": []
   },
   "outputs": [
    {
     "data": {
      "text/html": [
       "<div>\n",
       "<style scoped>\n",
       "    .dataframe tbody tr th:only-of-type {\n",
       "        vertical-align: middle;\n",
       "    }\n",
       "\n",
       "    .dataframe tbody tr th {\n",
       "        vertical-align: top;\n",
       "    }\n",
       "\n",
       "    .dataframe thead th {\n",
       "        text-align: right;\n",
       "    }\n",
       "</style>\n",
       "<table border=\"1\" class=\"dataframe\">\n",
       "  <thead>\n",
       "    <tr style=\"text-align: right;\">\n",
       "      <th></th>\n",
       "      <th>RECORD_TIME</th>\n",
       "    </tr>\n",
       "  </thead>\n",
       "  <tbody>\n",
       "    <tr>\n",
       "      <th>0</th>\n",
       "      <td>2021-10-07 00:30</td>\n",
       "    </tr>\n",
       "    <tr>\n",
       "      <th>1</th>\n",
       "      <td>2021-10-07 00:00</td>\n",
       "    </tr>\n",
       "  </tbody>\n",
       "</table>\n",
       "</div>"
      ],
      "text/plain": [
       "        RECORD_TIME\n",
       "0  2021-10-07 00:30\n",
       "1  2021-10-07 00:00"
      ]
     },
     "execution_count": 3,
     "metadata": {},
     "output_type": "execute_result"
    }
   ],
   "source": [
    "timestamps"
   ]
  },
  {
   "cell_type": "code",
   "execution_count": 4,
   "id": "alternate-victory",
   "metadata": {
    "execution": {
     "iopub.execute_input": "2021-10-06T22:30:08.867112Z",
     "iopub.status.busy": "2021-10-06T22:30:08.865125Z",
     "iopub.status.idle": "2021-10-06T22:30:09.565200Z",
     "shell.execute_reply": "2021-10-06T22:30:09.566388Z"
    },
    "papermill": {
     "duration": 0.736059,
     "end_time": "2021-10-06T22:30:09.566945",
     "exception": false,
     "start_time": "2021-10-06T22:30:08.830886",
     "status": "completed"
    },
    "tags": []
   },
   "outputs": [],
   "source": [
    "df = pd.read_sql(\"select * from EBAY_TOP_BERLIN where record_time in (select distinct record_time from EBAY_TOP_BERLIN order by record_time desc limit 2)\", sqlite3.connect(\"UsedObjects.db\"))"
   ]
  },
  {
   "cell_type": "code",
   "execution_count": 5,
   "id": "popular-active",
   "metadata": {
    "execution": {
     "iopub.execute_input": "2021-10-06T22:30:09.638162Z",
     "iopub.status.busy": "2021-10-06T22:30:09.626908Z",
     "iopub.status.idle": "2021-10-06T22:30:09.653723Z",
     "shell.execute_reply": "2021-10-06T22:30:09.655111Z"
    },
    "papermill": {
     "duration": 0.068283,
     "end_time": "2021-10-06T22:30:09.655539",
     "exception": false,
     "start_time": "2021-10-06T22:30:09.587256",
     "status": "completed"
    },
    "tags": []
   },
   "outputs": [],
   "source": [
    "df_pivot = df.pivot_table(index=\"PRODUCT\", columns = \"RECORD_TIME\", values = \"LISTING_COUNT\")"
   ]
  },
  {
   "cell_type": "code",
   "execution_count": 6,
   "id": "union-huntington",
   "metadata": {
    "execution": {
     "iopub.execute_input": "2021-10-06T22:30:09.711980Z",
     "iopub.status.busy": "2021-10-06T22:30:09.709797Z",
     "iopub.status.idle": "2021-10-06T22:30:09.715622Z",
     "shell.execute_reply": "2021-10-06T22:30:09.717125Z"
    },
    "papermill": {
     "duration": 0.041247,
     "end_time": "2021-10-06T22:30:09.717645",
     "exception": false,
     "start_time": "2021-10-06T22:30:09.676398",
     "status": "completed"
    },
    "tags": []
   },
   "outputs": [],
   "source": [
    "df_pivot.columns = [\"stamp_1\", \"stamp_2\"]\n",
    "df_pivot_diff = df_pivot.diff(axis=1)"
   ]
  },
  {
   "cell_type": "code",
   "execution_count": 7,
   "id": "fifth-motion",
   "metadata": {
    "execution": {
     "iopub.execute_input": "2021-10-06T22:30:09.774450Z",
     "iopub.status.busy": "2021-10-06T22:30:09.772076Z",
     "iopub.status.idle": "2021-10-06T22:30:11.276319Z",
     "shell.execute_reply": "2021-10-06T22:30:11.277805Z"
    },
    "papermill": {
     "duration": 1.53854,
     "end_time": "2021-10-06T22:30:11.278272",
     "exception": false,
     "start_time": "2021-10-06T22:30:09.739732",
     "status": "completed"
    },
    "tags": []
   },
   "outputs": [
    {
     "data": {
      "text/plain": [
       "<AxesSubplot:ylabel='PRODUCT'>"
      ]
     },
     "execution_count": 7,
     "metadata": {},
     "output_type": "execute_result"
    },
    {
     "data": {
      "image/png": "[encoded data removed]",
      "text/plain": [
       "<Figure size 432x288 with 1 Axes>"
      ]
     },
     "metadata": {
      "needs_background": "light"
     },
     "output_type": "display_data"
    }
   ],
   "source": [
    "df_pivot_diff.sort_values(\"stamp_2\", ascending = False)[\"stamp_2\"].head(10).plot.barh()"
   ]
  },
  {
   "cell_type": "code",
   "execution_count": null,
   "id": "extra-executive",
   "metadata": {
    "papermill": {
     "duration": 0.022178,
     "end_time": "2021-10-06T22:30:11.324071",
     "exception": false,
     "start_time": "2021-10-06T22:30:11.301893",
     "status": "completed"
    },
    "tags": []
   },
   "outputs": [],
   "source": []
  }
 ],
 "metadata": {
  "kernelspec": {
   "display_name": "Python 3",
   "language": "python",
   "name": "python3"
  },
  "language_info": {
   "codemirror_mode": {
    "name": "ipython",
    "version": 3
   },
   "file_extension": ".py",
   "mimetype": "text/x-python",
   "name": "python",
   "nbconvert_exporter": "python",
   "pygments_lexer": "ipython3",
   "version": "3.9.5"
  },
  "papermill": {
   "default_parameters": {},
   "duration": 7.847913,
   "end_time": "2021-10-06T22:30:12.757575",
   "environment_variables": {},
   "exception": null,
   "input_path": "eBay_Overview.ipynb",
   "output_path": "eBay_Overview.ipynb",
   "parameters": {},
   "start_time": "2021-10-06T22:30:04.909662",
   "version": "2.3.3"
  }
 },
 "nbformat": 4,
 "nbformat_minor": 5
}