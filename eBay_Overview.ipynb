{
 "cells": [
  {
   "cell_type": "code",
   "execution_count": 1,
   "id": "reverse-picking",
   "metadata": {
    "execution": {
     "iopub.execute_input": "2021-12-06T06:00:07.477600Z",
     "iopub.status.busy": "2021-12-06T06:00:07.475298Z",
     "iopub.status.idle": "2021-12-06T06:00:08.439224Z",
     "shell.execute_reply": "2021-12-06T06:00:08.441023Z"
    },
    "papermill": {
     "duration": 1.010567,
     "end_time": "2021-12-06T06:00:08.441898",
     "exception": false,
     "start_time": "2021-12-06T06:00:07.431331",
     "status": "completed"
    },
    "tags": []
   },
   "outputs": [],
   "source": [
    "import pandas as pd\n",
    "import sqlite3"
   ]
  },
  {
   "cell_type": "code",
   "execution_count": 2,
   "id": "innovative-syndrome",
   "metadata": {
    "execution": {
     "iopub.execute_input": "2021-12-06T06:00:08.504546Z",
     "iopub.status.busy": "2021-12-06T06:00:08.502054Z",
     "iopub.status.idle": "2021-12-06T06:00:09.507787Z",
     "shell.execute_reply": "2021-12-06T06:00:09.509525Z"
    },
    "papermill": {
     "duration": 1.040185,
     "end_time": "2021-12-06T06:00:09.510113",
     "exception": false,
     "start_time": "2021-12-06T06:00:08.469928",
     "status": "completed"
    },
    "tags": []
   },
   "outputs": [],
   "source": [
    "timestamps = pd.read_sql(\"select distinct record_time from EBAY_TOP_BERLIN order by record_time desc limit 2\", sqlite3.connect(\"UsedObjects.db\"))"
   ]
  },
  {
   "cell_type": "code",
   "execution_count": 3,
   "id": "periodic-identification",
   "metadata": {
    "execution": {
     "iopub.execute_input": "2021-12-06T06:00:09.581993Z",
     "iopub.status.busy": "2021-12-06T06:00:09.579659Z",
     "iopub.status.idle": "2021-12-06T06:00:09.601945Z",
     "shell.execute_reply": "2021-12-06T06:00:09.603396Z"
    },
    "papermill": {
     "duration": 0.07291,
     "end_time": "2021-12-06T06:00:09.603953",
     "exception": false,
     "start_time": "2021-12-06T06:00:09.531043",
     "status": "completed"
    },
    "tags": []
   },
   "outputs": [
    {
     "data": {
      "text/html": [
       "<div>\n",
       "<style scoped>\n",
       "    .dataframe tbody tr th:only-of-type {\n",
       "        vertical-align: middle;\n",
       "    }\n",
       "\n",
       "    .dataframe tbody tr th {\n",
       "        vertical-align: top;\n",
       "    }\n",
       "\n",
       "    .dataframe thead th {\n",
       "        text-align: right;\n",
       "    }\n",
       "</style>\n",
       "<table border=\"1\" class=\"dataframe\">\n",
       "  <thead>\n",
       "    <tr style=\"text-align: right;\">\n",
       "      <th></th>\n",
       "      <th>RECORD_TIME</th>\n",
       "    </tr>\n",
       "  </thead>\n",
       "  <tbody>\n",
       "    <tr>\n",
       "      <th>0</th>\n",
       "      <td>2021-12-06 07:00</td>\n",
       "    </tr>\n",
       "    <tr>\n",
       "      <th>1</th>\n",
       "      <td>2021-12-06 06:30</td>\n",
       "    </tr>\n",
       "  </tbody>\n",
       "</table>\n",
       "</div>"
      ],
      "text/plain": [
       "        RECORD_TIME\n",
       "0  2021-12-06 07:00\n",
       "1  2021-12-06 06:30"
      ]
     },
     "execution_count": 3,
     "metadata": {},
     "output_type": "execute_result"
    }
   ],
   "source": [
    "timestamps"
   ]
  },
  {
   "cell_type": "code",
   "execution_count": 4,
   "id": "alternate-victory",
   "metadata": {
    "execution": {
     "iopub.execute_input": "2021-12-06T06:00:09.663297Z",
     "iopub.status.busy": "2021-12-06T06:00:09.660105Z",
     "iopub.status.idle": "2021-12-06T06:00:11.145276Z",
     "shell.execute_reply": "2021-12-06T06:00:11.146854Z"
    },
    "papermill": {
     "duration": 1.520977,
     "end_time": "2021-12-06T06:00:11.147376",
     "exception": false,
     "start_time": "2021-12-06T06:00:09.626399",
     "status": "completed"
    },
    "tags": []
   },
   "outputs": [],
   "source": [
    "df = pd.read_sql(\"select * from EBAY_TOP_BERLIN where record_time in (select distinct record_time from EBAY_TOP_BERLIN order by record_time desc limit 2)\", sqlite3.connect(\"UsedObjects.db\"))"
   ]
  },
  {
   "cell_type": "code",
   "execution_count": 5,
   "id": "popular-active",
   "metadata": {
    "execution": {
     "iopub.execute_input": "2021-12-06T06:00:11.221242Z",
     "iopub.status.busy": "2021-12-06T06:00:11.213796Z",
     "iopub.status.idle": "2021-12-06T06:00:11.249326Z",
     "shell.execute_reply": "2021-12-06T06:00:11.247379Z"
    },
    "papermill": {
     "duration": 0.079087,
     "end_time": "2021-12-06T06:00:11.249800",
     "exception": false,
     "start_time": "2021-12-06T06:00:11.170713",
     "status": "completed"
    },
    "tags": []
   },
   "outputs": [],
   "source": [
    "df_pivot = df.pivot_table(index=\"PRODUCT\", columns = \"RECORD_TIME\", values = \"LISTING_COUNT\")"
   ]
  },
  {
   "cell_type": "code",
   "execution_count": 6,
   "id": "union-huntington",
   "metadata": {
    "execution": {
     "iopub.execute_input": "2021-12-06T06:00:11.310292Z",
     "iopub.status.busy": "2021-12-06T06:00:11.308037Z",
     "iopub.status.idle": "2021-12-06T06:00:11.313171Z",
     "shell.execute_reply": "2021-12-06T06:00:11.314649Z"
    },
    "papermill": {
     "duration": 0.043453,
     "end_time": "2021-12-06T06:00:11.315120",
     "exception": false,
     "start_time": "2021-12-06T06:00:11.271667",
     "status": "completed"
    },
    "tags": []
   },
   "outputs": [],
   "source": [
    "df_pivot.columns = [\"stamp_1\", \"stamp_2\"]\n",
    "df_pivot_diff = df_pivot.diff(axis=1)"
   ]
  },
  {
   "cell_type": "code",
   "execution_count": 7,
   "id": "fifth-motion",
   "metadata": {
    "execution": {
     "iopub.execute_input": "2021-12-06T06:00:11.371040Z",
     "iopub.status.busy": "2021-12-06T06:00:11.368422Z",
     "iopub.status.idle": "2021-12-06T06:00:13.303558Z",
     "shell.execute_reply": "2021-12-06T06:00:13.306394Z"
    },
    "papermill": {
     "duration": 1.972264,
     "end_time": "2021-12-06T06:00:13.307180",
     "exception": false,
     "start_time": "2021-12-06T06:00:11.334916",
     "status": "completed"
    },
    "tags": []
   },
   "outputs": [
    {
     "data": {
      "text/plain": [
       "<AxesSubplot:ylabel='PRODUCT'>"
      ]
     },
     "execution_count": 7,
     "metadata": {},
     "output_type": "execute_result"
    },
    {
     "data": {
      "image/png": "[encoded data removed]",
      "text/plain": [
       "<Figure size 432x288 with 1 Axes>"
      ]
     },
     "metadata": {
      "needs_background": "light"
     },
     "output_type": "display_data"
    }
   ],
   "source": [
    "df_pivot_diff.sort_values(\"stamp_2\", ascending = False)[\"stamp_2\"].head(10).plot.barh()"
   ]
  },
  {
   "cell_type": "code",
   "execution_count": null,
   "id": "extra-executive",
   "metadata": {
    "papermill": {
     "duration": 0.037232,
     "end_time": "2021-12-06T06:00:13.379229",
     "exception": false,
     "start_time": "2021-12-06T06:00:13.341997",
     "status": "completed"
    },
    "tags": []
   },
   "outputs": [],
   "source": []
  }
 ],
 "metadata": {
  "kernelspec": {
   "display_name": "Python 3",
   "language": "python",
   "name": "python3"
  },
  "language_info": {
   "codemirror_mode": {
    "name": "ipython",
    "version": 3
   },
   "file_extension": ".py",
   "mimetype": "text/x-python",
   "name": "python",
   "nbconvert_exporter": "python",
   "pygments_lexer": "ipython3",
   "version": "3.9.5"
  },
  "papermill": {
   "default_parameters": {},
   "duration": 9.968193,
   "end_time": "2021-12-06T06:00:14.631152",
   "environment_variables": {},
   "exception": null,
   "input_path": "eBay_Overview.ipynb",
   "output_path": "eBay_Overview.ipynb",
   "parameters": {},
   "start_time": "2021-12-06T06:00:04.662959",
   "version": "2.3.3"
  }
 },
 "nbformat": 4,
 "nbformat_minor": 5
}