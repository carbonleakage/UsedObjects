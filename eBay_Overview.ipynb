{
 "cells": [
  {
   "cell_type": "code",
   "execution_count": 1,
   "id": "reverse-picking",
   "metadata": {
    "execution": {
     "iopub.execute_input": "2021-09-08T11:30:07.320680Z",
     "iopub.status.busy": "2021-09-08T11:30:07.318612Z",
     "iopub.status.idle": "2021-09-08T11:30:08.132781Z",
     "shell.execute_reply": "2021-09-08T11:30:08.130962Z"
    },
    "papermill": {
     "duration": 0.865278,
     "end_time": "2021-09-08T11:30:08.133217",
     "exception": false,
     "start_time": "2021-09-08T11:30:07.267939",
     "status": "completed"
    },
    "tags": []
   },
   "outputs": [],
   "source": [
    "import pandas as pd\n",
    "import sqlite3"
   ]
  },
  {
   "cell_type": "code",
   "execution_count": 2,
   "id": "innovative-syndrome",
   "metadata": {
    "execution": {
     "iopub.execute_input": "2021-09-08T11:30:08.183625Z",
     "iopub.status.busy": "2021-09-08T11:30:08.181672Z",
     "iopub.status.idle": "2021-09-08T11:30:08.418205Z",
     "shell.execute_reply": "2021-09-08T11:30:08.419398Z"
    },
    "papermill": {
     "duration": 0.266074,
     "end_time": "2021-09-08T11:30:08.419819",
     "exception": false,
     "start_time": "2021-09-08T11:30:08.153745",
     "status": "completed"
    },
    "tags": []
   },
   "outputs": [],
   "source": [
    "timestamps = pd.read_sql(\"select distinct record_time from EBAY_TOP_BERLIN order by record_time desc limit 2\", sqlite3.connect(\"UsedObjects.db\"))"
   ]
  },
  {
   "cell_type": "code",
   "execution_count": 3,
   "id": "periodic-identification",
   "metadata": {
    "execution": {
     "iopub.execute_input": "2021-09-08T11:30:08.488233Z",
     "iopub.status.busy": "2021-09-08T11:30:08.486147Z",
     "iopub.status.idle": "2021-09-08T11:30:08.506489Z",
     "shell.execute_reply": "2021-09-08T11:30:08.507925Z"
    },
    "papermill": {
     "duration": 0.067046,
     "end_time": "2021-09-08T11:30:08.508372",
     "exception": false,
     "start_time": "2021-09-08T11:30:08.441326",
     "status": "completed"
    },
    "tags": []
   },
   "outputs": [
    {
     "data": {
      "text/html": [
       "<div>\n",
       "<style scoped>\n",
       "    .dataframe tbody tr th:only-of-type {\n",
       "        vertical-align: middle;\n",
       "    }\n",
       "\n",
       "    .dataframe tbody tr th {\n",
       "        vertical-align: top;\n",
       "    }\n",
       "\n",
       "    .dataframe thead th {\n",
       "        text-align: right;\n",
       "    }\n",
       "</style>\n",
       "<table border=\"1\" class=\"dataframe\">\n",
       "  <thead>\n",
       "    <tr style=\"text-align: right;\">\n",
       "      <th></th>\n",
       "      <th>RECORD_TIME</th>\n",
       "    </tr>\n",
       "  </thead>\n",
       "  <tbody>\n",
       "    <tr>\n",
       "      <th>0</th>\n",
       "      <td>2021-09-08 13:30</td>\n",
       "    </tr>\n",
       "    <tr>\n",
       "      <th>1</th>\n",
       "      <td>2021-09-08 13:00</td>\n",
       "    </tr>\n",
       "  </tbody>\n",
       "</table>\n",
       "</div>"
      ],
      "text/plain": [
       "        RECORD_TIME\n",
       "0  2021-09-08 13:30\n",
       "1  2021-09-08 13:00"
      ]
     },
     "execution_count": 3,
     "metadata": {},
     "output_type": "execute_result"
    }
   ],
   "source": [
    "timestamps"
   ]
  },
  {
   "cell_type": "code",
   "execution_count": 4,
   "id": "alternate-victory",
   "metadata": {
    "execution": {
     "iopub.execute_input": "2021-09-08T11:30:08.561664Z",
     "iopub.status.busy": "2021-09-08T11:30:08.559616Z",
     "iopub.status.idle": "2021-09-08T11:30:08.916976Z",
     "shell.execute_reply": "2021-09-08T11:30:08.918173Z"
    },
    "papermill": {
     "duration": 0.387891,
     "end_time": "2021-09-08T11:30:08.918599",
     "exception": false,
     "start_time": "2021-09-08T11:30:08.530708",
     "status": "completed"
    },
    "tags": []
   },
   "outputs": [],
   "source": [
    "df = pd.read_sql(\"select * from EBAY_TOP_BERLIN where record_time in (select distinct record_time from EBAY_TOP_BERLIN order by record_time desc limit 2)\", sqlite3.connect(\"UsedObjects.db\"))"
   ]
  },
  {
   "cell_type": "code",
   "execution_count": 5,
   "id": "popular-active",
   "metadata": {
    "execution": {
     "iopub.execute_input": "2021-09-08T11:30:08.998362Z",
     "iopub.status.busy": "2021-09-08T11:30:08.986674Z",
     "iopub.status.idle": "2021-09-08T11:30:09.015055Z",
     "shell.execute_reply": "2021-09-08T11:30:09.016296Z"
    },
    "papermill": {
     "duration": 0.072158,
     "end_time": "2021-09-08T11:30:09.016691",
     "exception": false,
     "start_time": "2021-09-08T11:30:08.944533",
     "status": "completed"
    },
    "tags": []
   },
   "outputs": [],
   "source": [
    "df_pivot = df.pivot_table(index=\"PRODUCT\", columns = \"RECORD_TIME\", values = \"LISTING_COUNT\")"
   ]
  },
  {
   "cell_type": "code",
   "execution_count": 6,
   "id": "union-huntington",
   "metadata": {
    "execution": {
     "iopub.execute_input": "2021-09-08T11:30:09.076869Z",
     "iopub.status.busy": "2021-09-08T11:30:09.074358Z",
     "iopub.status.idle": "2021-09-08T11:30:09.080363Z",
     "shell.execute_reply": "2021-09-08T11:30:09.081642Z"
    },
    "papermill": {
     "duration": 0.042351,
     "end_time": "2021-09-08T11:30:09.082059",
     "exception": false,
     "start_time": "2021-09-08T11:30:09.039708",
     "status": "completed"
    },
    "tags": []
   },
   "outputs": [],
   "source": [
    "df_pivot.columns = [\"stamp_1\", \"stamp_2\"]\n",
    "df_pivot_diff = df_pivot.diff(axis=1)"
   ]
  },
  {
   "cell_type": "code",
   "execution_count": 7,
   "id": "fifth-motion",
   "metadata": {
    "execution": {
     "iopub.execute_input": "2021-09-08T11:30:09.136116Z",
     "iopub.status.busy": "2021-09-08T11:30:09.133703Z",
     "iopub.status.idle": "2021-09-08T11:30:10.640343Z",
     "shell.execute_reply": "2021-09-08T11:30:10.641716Z"
    },
    "papermill": {
     "duration": 1.539521,
     "end_time": "2021-09-08T11:30:10.642147",
     "exception": false,
     "start_time": "2021-09-08T11:30:09.102626",
     "status": "completed"
    },
    "tags": []
   },
   "outputs": [
    {
     "data": {
      "text/plain": [
       "<AxesSubplot:ylabel='PRODUCT'>"
      ]
     },
     "execution_count": 7,
     "metadata": {},
     "output_type": "execute_result"
    },
    {
     "data": {
      "image/png": "[encoded data removed]",
      "text/plain": [
       "<Figure size 432x288 with 1 Axes>"
      ]
     },
     "metadata": {
      "needs_background": "light"
     },
     "output_type": "display_data"
    }
   ],
   "source": [
    "df_pivot_diff.sort_values(\"stamp_2\", ascending = False)[\"stamp_2\"].head(10).plot.barh()"
   ]
  },
  {
   "cell_type": "code",
   "execution_count": null,
   "id": "extra-executive",
   "metadata": {
    "papermill": {
     "duration": 0.023188,
     "end_time": "2021-09-08T11:30:10.689635",
     "exception": false,
     "start_time": "2021-09-08T11:30:10.666447",
     "status": "completed"
    },
    "tags": []
   },
   "outputs": [],
   "source": []
  }
 ],
 "metadata": {
  "kernelspec": {
   "display_name": "Python 3",
   "language": "python",
   "name": "python3"
  },
  "language_info": {
   "codemirror_mode": {
    "name": "ipython",
    "version": 3
   },
   "file_extension": ".py",
   "mimetype": "text/x-python",
   "name": "python",
   "nbconvert_exporter": "python",
   "pygments_lexer": "ipython3",
   "version": "3.9.5"
  },
  "papermill": {
   "default_parameters": {},
   "duration": 6.481319,
   "end_time": "2021-09-08T11:30:11.330603",
   "environment_variables": {},
   "exception": null,
   "input_path": "eBay_Overview.ipynb",
   "output_path": "eBay_Overview.ipynb",
   "parameters": {},
   "start_time": "2021-09-08T11:30:04.849284",
   "version": "2.3.3"
  }
 },
 "nbformat": 4,
 "nbformat_minor": 5
}