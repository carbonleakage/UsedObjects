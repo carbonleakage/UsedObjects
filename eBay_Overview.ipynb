{
 "cells": [
  {
   "cell_type": "code",
   "execution_count": 1,
   "id": "reverse-picking",
   "metadata": {
    "execution": {
     "iopub.execute_input": "2021-10-20T13:00:07.575229Z",
     "iopub.status.busy": "2021-10-20T13:00:07.573146Z",
     "iopub.status.idle": "2021-10-20T13:00:08.386841Z",
     "shell.execute_reply": "2021-10-20T13:00:08.385140Z"
    },
    "papermill": {
     "duration": 0.861268,
     "end_time": "2021-10-20T13:00:08.387264",
     "exception": false,
     "start_time": "2021-10-20T13:00:07.525996",
     "status": "completed"
    },
    "tags": []
   },
   "outputs": [],
   "source": [
    "import pandas as pd\n",
    "import sqlite3"
   ]
  },
  {
   "cell_type": "code",
   "execution_count": 2,
   "id": "innovative-syndrome",
   "metadata": {
    "execution": {
     "iopub.execute_input": "2021-10-20T13:00:08.438942Z",
     "iopub.status.busy": "2021-10-20T13:00:08.437051Z",
     "iopub.status.idle": "2021-10-20T13:00:09.027635Z",
     "shell.execute_reply": "2021-10-20T13:00:09.028970Z"
    },
    "papermill": {
     "duration": 0.620143,
     "end_time": "2021-10-20T13:00:09.029405",
     "exception": false,
     "start_time": "2021-10-20T13:00:08.409262",
     "status": "completed"
    },
    "tags": []
   },
   "outputs": [],
   "source": [
    "timestamps = pd.read_sql(\"select distinct record_time from EBAY_TOP_BERLIN order by record_time desc limit 2\", sqlite3.connect(\"UsedObjects.db\"))"
   ]
  },
  {
   "cell_type": "code",
   "execution_count": 3,
   "id": "periodic-identification",
   "metadata": {
    "execution": {
     "iopub.execute_input": "2021-10-20T13:00:09.104743Z",
     "iopub.status.busy": "2021-10-20T13:00:09.102635Z",
     "iopub.status.idle": "2021-10-20T13:00:09.122672Z",
     "shell.execute_reply": "2021-10-20T13:00:09.124069Z"
    },
    "papermill": {
     "duration": 0.068045,
     "end_time": "2021-10-20T13:00:09.124506",
     "exception": false,
     "start_time": "2021-10-20T13:00:09.056461",
     "status": "completed"
    },
    "tags": []
   },
   "outputs": [
    {
     "data": {
      "text/html": [
       "<div>\n",
       "<style scoped>\n",
       "    .dataframe tbody tr th:only-of-type {\n",
       "        vertical-align: middle;\n",
       "    }\n",
       "\n",
       "    .dataframe tbody tr th {\n",
       "        vertical-align: top;\n",
       "    }\n",
       "\n",
       "    .dataframe thead th {\n",
       "        text-align: right;\n",
       "    }\n",
       "</style>\n",
       "<table border=\"1\" class=\"dataframe\">\n",
       "  <thead>\n",
       "    <tr style=\"text-align: right;\">\n",
       "      <th></th>\n",
       "      <th>RECORD_TIME</th>\n",
       "    </tr>\n",
       "  </thead>\n",
       "  <tbody>\n",
       "    <tr>\n",
       "      <th>0</th>\n",
       "      <td>2021-10-20 15:00</td>\n",
       "    </tr>\n",
       "    <tr>\n",
       "      <th>1</th>\n",
       "      <td>2021-10-20 14:30</td>\n",
       "    </tr>\n",
       "  </tbody>\n",
       "</table>\n",
       "</div>"
      ],
      "text/plain": [
       "        RECORD_TIME\n",
       "0  2021-10-20 15:00\n",
       "1  2021-10-20 14:30"
      ]
     },
     "execution_count": 3,
     "metadata": {},
     "output_type": "execute_result"
    }
   ],
   "source": [
    "timestamps"
   ]
  },
  {
   "cell_type": "code",
   "execution_count": 4,
   "id": "alternate-victory",
   "metadata": {
    "execution": {
     "iopub.execute_input": "2021-10-20T13:00:09.176213Z",
     "iopub.status.busy": "2021-10-20T13:00:09.174411Z",
     "iopub.status.idle": "2021-10-20T13:00:10.027115Z",
     "shell.execute_reply": "2021-10-20T13:00:10.028355Z"
    },
    "papermill": {
     "duration": 0.883786,
     "end_time": "2021-10-20T13:00:10.028807",
     "exception": false,
     "start_time": "2021-10-20T13:00:09.145021",
     "status": "completed"
    },
    "tags": []
   },
   "outputs": [],
   "source": [
    "df = pd.read_sql(\"select * from EBAY_TOP_BERLIN where record_time in (select distinct record_time from EBAY_TOP_BERLIN order by record_time desc limit 2)\", sqlite3.connect(\"UsedObjects.db\"))"
   ]
  },
  {
   "cell_type": "code",
   "execution_count": 5,
   "id": "popular-active",
   "metadata": {
    "execution": {
     "iopub.execute_input": "2021-10-20T13:00:10.097657Z",
     "iopub.status.busy": "2021-10-20T13:00:10.086381Z",
     "iopub.status.idle": "2021-10-20T13:00:10.115970Z",
     "shell.execute_reply": "2021-10-20T13:00:10.114134Z"
    },
    "papermill": {
     "duration": 0.066988,
     "end_time": "2021-10-20T13:00:10.116351",
     "exception": false,
     "start_time": "2021-10-20T13:00:10.049363",
     "status": "completed"
    },
    "tags": []
   },
   "outputs": [],
   "source": [
    "df_pivot = df.pivot_table(index=\"PRODUCT\", columns = \"RECORD_TIME\", values = \"LISTING_COUNT\")"
   ]
  },
  {
   "cell_type": "code",
   "execution_count": 6,
   "id": "union-huntington",
   "metadata": {
    "execution": {
     "iopub.execute_input": "2021-10-20T13:00:10.173418Z",
     "iopub.status.busy": "2021-10-20T13:00:10.171277Z",
     "iopub.status.idle": "2021-10-20T13:00:10.176539Z",
     "shell.execute_reply": "2021-10-20T13:00:10.177919Z"
    },
    "papermill": {
     "duration": 0.040929,
     "end_time": "2021-10-20T13:00:10.178333",
     "exception": false,
     "start_time": "2021-10-20T13:00:10.137404",
     "status": "completed"
    },
    "tags": []
   },
   "outputs": [],
   "source": [
    "df_pivot.columns = [\"stamp_1\", \"stamp_2\"]\n",
    "df_pivot_diff = df_pivot.diff(axis=1)"
   ]
  },
  {
   "cell_type": "code",
   "execution_count": 7,
   "id": "fifth-motion",
   "metadata": {
    "execution": {
     "iopub.execute_input": "2021-10-20T13:00:10.234134Z",
     "iopub.status.busy": "2021-10-20T13:00:10.231523Z",
     "iopub.status.idle": "2021-10-20T13:00:11.700928Z",
     "shell.execute_reply": "2021-10-20T13:00:11.702247Z"
    },
    "papermill": {
     "duration": 1.503371,
     "end_time": "2021-10-20T13:00:11.702695",
     "exception": false,
     "start_time": "2021-10-20T13:00:10.199324",
     "status": "completed"
    },
    "tags": []
   },
   "outputs": [
    {
     "data": {
      "text/plain": [
       "<AxesSubplot:ylabel='PRODUCT'>"
      ]
     },
     "execution_count": 7,
     "metadata": {},
     "output_type": "execute_result"
    },
    {
     "data": {
      "image/png": "[encoded data removed]",
      "text/plain": [
       "<Figure size 432x288 with 1 Axes>"
      ]
     },
     "metadata": {
      "needs_background": "light"
     },
     "output_type": "display_data"
    }
   ],
   "source": [
    "df_pivot_diff.sort_values(\"stamp_2\", ascending = False)[\"stamp_2\"].head(10).plot.barh()"
   ]
  },
  {
   "cell_type": "code",
   "execution_count": null,
   "id": "extra-executive",
   "metadata": {
    "papermill": {
     "duration": 0.02215,
     "end_time": "2021-10-20T13:00:11.749537",
     "exception": false,
     "start_time": "2021-10-20T13:00:11.727387",
     "status": "completed"
    },
    "tags": []
   },
   "outputs": [],
   "source": []
  }
 ],
 "metadata": {
  "kernelspec": {
   "display_name": "Python 3",
   "language": "python",
   "name": "python3"
  },
  "language_info": {
   "codemirror_mode": {
    "name": "ipython",
    "version": 3
   },
   "file_extension": ".py",
   "mimetype": "text/x-python",
   "name": "python",
   "nbconvert_exporter": "python",
   "pygments_lexer": "ipython3",
   "version": "3.9.5"
  },
  "papermill": {
   "default_parameters": {},
   "duration": 7.830078,
   "end_time": "2021-10-20T13:00:12.930640",
   "environment_variables": {},
   "exception": null,
   "input_path": "eBay_Overview.ipynb",
   "output_path": "eBay_Overview.ipynb",
   "parameters": {},
   "start_time": "2021-10-20T13:00:05.100562",
   "version": "2.3.3"
  }
 },
 "nbformat": 4,
 "nbformat_minor": 5
}