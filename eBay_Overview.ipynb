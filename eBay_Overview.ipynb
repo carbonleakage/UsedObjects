{
 "cells": [
  {
   "cell_type": "code",
   "execution_count": 1,
   "id": "reverse-picking",
   "metadata": {
    "execution": {
     "iopub.execute_input": "2021-12-12T21:00:07.079229Z",
     "iopub.status.busy": "2021-12-12T21:00:07.077052Z",
     "iopub.status.idle": "2021-12-12T21:00:08.028223Z",
     "shell.execute_reply": "2021-12-12T21:00:08.029891Z"
    },
    "papermill": {
     "duration": 1.000425,
     "end_time": "2021-12-12T21:00:08.030620",
     "exception": false,
     "start_time": "2021-12-12T21:00:07.030195",
     "status": "completed"
    },
    "tags": []
   },
   "outputs": [],
   "source": [
    "import pandas as pd\n",
    "import sqlite3"
   ]
  },
  {
   "cell_type": "code",
   "execution_count": 2,
   "id": "innovative-syndrome",
   "metadata": {
    "execution": {
     "iopub.execute_input": "2021-12-12T21:00:08.106953Z",
     "iopub.status.busy": "2021-12-12T21:00:08.104567Z",
     "iopub.status.idle": "2021-12-12T21:00:09.176900Z",
     "shell.execute_reply": "2021-12-12T21:00:09.178433Z"
    },
    "papermill": {
     "duration": 1.106482,
     "end_time": "2021-12-12T21:00:09.178900",
     "exception": false,
     "start_time": "2021-12-12T21:00:08.072418",
     "status": "completed"
    },
    "tags": []
   },
   "outputs": [],
   "source": [
    "timestamps = pd.read_sql(\"select distinct record_time from EBAY_TOP_BERLIN order by record_time desc limit 2\", sqlite3.connect(\"UsedObjects.db\"))"
   ]
  },
  {
   "cell_type": "code",
   "execution_count": 3,
   "id": "periodic-identification",
   "metadata": {
    "execution": {
     "iopub.execute_input": "2021-12-12T21:00:09.247268Z",
     "iopub.status.busy": "2021-12-12T21:00:09.245004Z",
     "iopub.status.idle": "2021-12-12T21:00:09.269493Z",
     "shell.execute_reply": "2021-12-12T21:00:09.267878Z"
    },
    "papermill": {
     "duration": 0.071618,
     "end_time": "2021-12-12T21:00:09.269882",
     "exception": false,
     "start_time": "2021-12-12T21:00:09.198264",
     "status": "completed"
    },
    "tags": []
   },
   "outputs": [
    {
     "data": {
      "text/html": [
       "<div>\n",
       "<style scoped>\n",
       "    .dataframe tbody tr th:only-of-type {\n",
       "        vertical-align: middle;\n",
       "    }\n",
       "\n",
       "    .dataframe tbody tr th {\n",
       "        vertical-align: top;\n",
       "    }\n",
       "\n",
       "    .dataframe thead th {\n",
       "        text-align: right;\n",
       "    }\n",
       "</style>\n",
       "<table border=\"1\" class=\"dataframe\">\n",
       "  <thead>\n",
       "    <tr style=\"text-align: right;\">\n",
       "      <th></th>\n",
       "      <th>RECORD_TIME</th>\n",
       "    </tr>\n",
       "  </thead>\n",
       "  <tbody>\n",
       "    <tr>\n",
       "      <th>0</th>\n",
       "      <td>2021-12-12 22:00</td>\n",
       "    </tr>\n",
       "    <tr>\n",
       "      <th>1</th>\n",
       "      <td>2021-12-12 21:30</td>\n",
       "    </tr>\n",
       "  </tbody>\n",
       "</table>\n",
       "</div>"
      ],
      "text/plain": [
       "        RECORD_TIME\n",
       "0  2021-12-12 22:00\n",
       "1  2021-12-12 21:30"
      ]
     },
     "execution_count": 3,
     "metadata": {},
     "output_type": "execute_result"
    }
   ],
   "source": [
    "timestamps"
   ]
  },
  {
   "cell_type": "code",
   "execution_count": 4,
   "id": "alternate-victory",
   "metadata": {
    "execution": {
     "iopub.execute_input": "2021-12-12T21:00:09.324639Z",
     "iopub.status.busy": "2021-12-12T21:00:09.322297Z",
     "iopub.status.idle": "2021-12-12T21:00:10.848784Z",
     "shell.execute_reply": "2021-12-12T21:00:10.851803Z"
    },
    "papermill": {
     "duration": 1.561212,
     "end_time": "2021-12-12T21:00:10.852596",
     "exception": false,
     "start_time": "2021-12-12T21:00:09.291384",
     "status": "completed"
    },
    "tags": []
   },
   "outputs": [],
   "source": [
    "df = pd.read_sql(\"select * from EBAY_TOP_BERLIN where record_time in (select distinct record_time from EBAY_TOP_BERLIN order by record_time desc limit 2)\", sqlite3.connect(\"UsedObjects.db\"))"
   ]
  },
  {
   "cell_type": "code",
   "execution_count": 5,
   "id": "popular-active",
   "metadata": {
    "execution": {
     "iopub.execute_input": "2021-12-12T21:00:10.946808Z",
     "iopub.status.busy": "2021-12-12T21:00:10.938330Z",
     "iopub.status.idle": "2021-12-12T21:00:10.966483Z",
     "shell.execute_reply": "2021-12-12T21:00:10.968004Z"
    },
    "papermill": {
     "duration": 0.083156,
     "end_time": "2021-12-12T21:00:10.968503",
     "exception": false,
     "start_time": "2021-12-12T21:00:10.885347",
     "status": "completed"
    },
    "tags": []
   },
   "outputs": [],
   "source": [
    "df_pivot = df.pivot_table(index=\"PRODUCT\", columns = \"RECORD_TIME\", values = \"LISTING_COUNT\")"
   ]
  },
  {
   "cell_type": "code",
   "execution_count": 6,
   "id": "union-huntington",
   "metadata": {
    "execution": {
     "iopub.execute_input": "2021-12-12T21:00:11.029425Z",
     "iopub.status.busy": "2021-12-12T21:00:11.027166Z",
     "iopub.status.idle": "2021-12-12T21:00:11.032940Z",
     "shell.execute_reply": "2021-12-12T21:00:11.034184Z"
    },
    "papermill": {
     "duration": 0.0437,
     "end_time": "2021-12-12T21:00:11.034696",
     "exception": false,
     "start_time": "2021-12-12T21:00:10.990996",
     "status": "completed"
    },
    "tags": []
   },
   "outputs": [],
   "source": [
    "df_pivot.columns = [\"stamp_1\", \"stamp_2\"]\n",
    "df_pivot_diff = df_pivot.diff(axis=1)"
   ]
  },
  {
   "cell_type": "code",
   "execution_count": 7,
   "id": "fifth-motion",
   "metadata": {
    "execution": {
     "iopub.execute_input": "2021-12-12T21:00:11.092392Z",
     "iopub.status.busy": "2021-12-12T21:00:11.089676Z",
     "iopub.status.idle": "2021-12-12T21:00:13.047846Z",
     "shell.execute_reply": "2021-12-12T21:00:13.049057Z"
    },
    "papermill": {
     "duration": 1.994498,
     "end_time": "2021-12-12T21:00:13.049489",
     "exception": false,
     "start_time": "2021-12-12T21:00:11.054991",
     "status": "completed"
    },
    "tags": []
   },
   "outputs": [
    {
     "data": {
      "text/plain": [
       "<AxesSubplot:ylabel='PRODUCT'>"
      ]
     },
     "execution_count": 7,
     "metadata": {},
     "output_type": "execute_result"
    },
    {
     "data": {
      "image/png": "[encoded data removed]",
      "text/plain": [
       "<Figure size 432x288 with 1 Axes>"
      ]
     },
     "metadata": {
      "needs_background": "light"
     },
     "output_type": "display_data"
    }
   ],
   "source": [
    "df_pivot_diff.sort_values(\"stamp_2\", ascending = False)[\"stamp_2\"].head(10).plot.barh()"
   ]
  },
  {
   "cell_type": "code",
   "execution_count": null,
   "id": "extra-executive",
   "metadata": {
    "papermill": {
     "duration": 0.027681,
     "end_time": "2021-12-12T21:00:13.110310",
     "exception": false,
     "start_time": "2021-12-12T21:00:13.082629",
     "status": "completed"
    },
    "tags": []
   },
   "outputs": [],
   "source": []
  }
 ],
 "metadata": {
  "kernelspec": {
   "display_name": "Python 3",
   "language": "python",
   "name": "python3"
  },
  "language_info": {
   "codemirror_mode": {
    "name": "ipython",
    "version": 3
   },
   "file_extension": ".py",
   "mimetype": "text/x-python",
   "name": "python",
   "nbconvert_exporter": "python",
   "pygments_lexer": "ipython3",
   "version": "3.9.5"
  },
  "papermill": {
   "default_parameters": {},
   "duration": 9.736178,
   "end_time": "2021-12-12T21:00:13.959308",
   "environment_variables": {},
   "exception": null,
   "input_path": "eBay_Overview.ipynb",
   "output_path": "eBay_Overview.ipynb",
   "parameters": {},
   "start_time": "2021-12-12T21:00:04.223130",
   "version": "2.3.3"
  }
 },
 "nbformat": 4,
 "nbformat_minor": 5
}