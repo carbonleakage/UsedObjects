{
 "cells": [
  {
   "cell_type": "code",
   "execution_count": 1,
   "id": "reverse-picking",
   "metadata": {
    "execution": {
     "iopub.execute_input": "2021-11-03T16:00:08.165924Z",
     "iopub.status.busy": "2021-11-03T16:00:08.163526Z",
     "iopub.status.idle": "2021-11-03T16:00:09.115567Z",
     "shell.execute_reply": "2021-11-03T16:00:09.113735Z"
    },
    "papermill": {
     "duration": 1.000234,
     "end_time": "2021-11-03T16:00:09.116099",
     "exception": false,
     "start_time": "2021-11-03T16:00:08.115865",
     "status": "completed"
    },
    "tags": []
   },
   "outputs": [],
   "source": [
    "import pandas as pd\n",
    "import sqlite3"
   ]
  },
  {
   "cell_type": "code",
   "execution_count": 2,
   "id": "innovative-syndrome",
   "metadata": {
    "execution": {
     "iopub.execute_input": "2021-11-03T16:00:09.177594Z",
     "iopub.status.busy": "2021-11-03T16:00:09.175146Z",
     "iopub.status.idle": "2021-11-03T16:00:09.895959Z",
     "shell.execute_reply": "2021-11-03T16:00:09.898174Z"
    },
    "papermill": {
     "duration": 0.755021,
     "end_time": "2021-11-03T16:00:09.898656",
     "exception": false,
     "start_time": "2021-11-03T16:00:09.143635",
     "status": "completed"
    },
    "tags": []
   },
   "outputs": [],
   "source": [
    "timestamps = pd.read_sql(\"select distinct record_time from EBAY_TOP_BERLIN order by record_time desc limit 2\", sqlite3.connect(\"UsedObjects.db\"))"
   ]
  },
  {
   "cell_type": "code",
   "execution_count": 3,
   "id": "periodic-identification",
   "metadata": {
    "execution": {
     "iopub.execute_input": "2021-11-03T16:00:09.971398Z",
     "iopub.status.busy": "2021-11-03T16:00:09.969009Z",
     "iopub.status.idle": "2021-11-03T16:00:09.994993Z",
     "shell.execute_reply": "2021-11-03T16:00:09.996659Z"
    },
    "papermill": {
     "duration": 0.078956,
     "end_time": "2021-11-03T16:00:09.997240",
     "exception": false,
     "start_time": "2021-11-03T16:00:09.918284",
     "status": "completed"
    },
    "tags": []
   },
   "outputs": [
    {
     "data": {
      "text/html": [
       "<div>\n",
       "<style scoped>\n",
       "    .dataframe tbody tr th:only-of-type {\n",
       "        vertical-align: middle;\n",
       "    }\n",
       "\n",
       "    .dataframe tbody tr th {\n",
       "        vertical-align: top;\n",
       "    }\n",
       "\n",
       "    .dataframe thead th {\n",
       "        text-align: right;\n",
       "    }\n",
       "</style>\n",
       "<table border=\"1\" class=\"dataframe\">\n",
       "  <thead>\n",
       "    <tr style=\"text-align: right;\">\n",
       "      <th></th>\n",
       "      <th>RECORD_TIME</th>\n",
       "    </tr>\n",
       "  </thead>\n",
       "  <tbody>\n",
       "    <tr>\n",
       "      <th>0</th>\n",
       "      <td>2021-11-03 17:00</td>\n",
       "    </tr>\n",
       "    <tr>\n",
       "      <th>1</th>\n",
       "      <td>2021-11-03 16:30</td>\n",
       "    </tr>\n",
       "  </tbody>\n",
       "</table>\n",
       "</div>"
      ],
      "text/plain": [
       "        RECORD_TIME\n",
       "0  2021-11-03 17:00\n",
       "1  2021-11-03 16:30"
      ]
     },
     "execution_count": 3,
     "metadata": {},
     "output_type": "execute_result"
    }
   ],
   "source": [
    "timestamps"
   ]
  },
  {
   "cell_type": "code",
   "execution_count": 4,
   "id": "alternate-victory",
   "metadata": {
    "execution": {
     "iopub.execute_input": "2021-11-03T16:00:10.051553Z",
     "iopub.status.busy": "2021-11-03T16:00:10.049054Z",
     "iopub.status.idle": "2021-11-03T16:00:11.099873Z",
     "shell.execute_reply": "2021-11-03T16:00:11.101357Z"
    },
    "papermill": {
     "duration": 1.084269,
     "end_time": "2021-11-03T16:00:11.101837",
     "exception": false,
     "start_time": "2021-11-03T16:00:10.017568",
     "status": "completed"
    },
    "tags": []
   },
   "outputs": [],
   "source": [
    "df = pd.read_sql(\"select * from EBAY_TOP_BERLIN where record_time in (select distinct record_time from EBAY_TOP_BERLIN order by record_time desc limit 2)\", sqlite3.connect(\"UsedObjects.db\"))"
   ]
  },
  {
   "cell_type": "code",
   "execution_count": 5,
   "id": "popular-active",
   "metadata": {
    "execution": {
     "iopub.execute_input": "2021-11-03T16:00:11.190421Z",
     "iopub.status.busy": "2021-11-03T16:00:11.167544Z",
     "iopub.status.idle": "2021-11-03T16:00:11.225414Z",
     "shell.execute_reply": "2021-11-03T16:00:11.228407Z"
    },
    "papermill": {
     "duration": 0.107174,
     "end_time": "2021-11-03T16:00:11.229338",
     "exception": false,
     "start_time": "2021-11-03T16:00:11.122164",
     "status": "completed"
    },
    "tags": []
   },
   "outputs": [],
   "source": [
    "df_pivot = df.pivot_table(index=\"PRODUCT\", columns = \"RECORD_TIME\", values = \"LISTING_COUNT\")"
   ]
  },
  {
   "cell_type": "code",
   "execution_count": 6,
   "id": "union-huntington",
   "metadata": {
    "execution": {
     "iopub.execute_input": "2021-11-03T16:00:11.299366Z",
     "iopub.status.busy": "2021-11-03T16:00:11.296998Z",
     "iopub.status.idle": "2021-11-03T16:00:11.302184Z",
     "shell.execute_reply": "2021-11-03T16:00:11.303971Z"
    },
    "papermill": {
     "duration": 0.046867,
     "end_time": "2021-11-03T16:00:11.304522",
     "exception": false,
     "start_time": "2021-11-03T16:00:11.257655",
     "status": "completed"
    },
    "tags": []
   },
   "outputs": [],
   "source": [
    "df_pivot.columns = [\"stamp_1\", \"stamp_2\"]\n",
    "df_pivot_diff = df_pivot.diff(axis=1)"
   ]
  },
  {
   "cell_type": "code",
   "execution_count": 7,
   "id": "fifth-motion",
   "metadata": {
    "execution": {
     "iopub.execute_input": "2021-11-03T16:00:11.363656Z",
     "iopub.status.busy": "2021-11-03T16:00:11.361011Z",
     "iopub.status.idle": "2021-11-03T16:00:13.303285Z",
     "shell.execute_reply": "2021-11-03T16:00:13.306188Z"
    },
    "papermill": {
     "duration": 1.980877,
     "end_time": "2021-11-03T16:00:13.307046",
     "exception": false,
     "start_time": "2021-11-03T16:00:11.326169",
     "status": "completed"
    },
    "tags": []
   },
   "outputs": [
    {
     "data": {
      "text/plain": [
       "<AxesSubplot:ylabel='PRODUCT'>"
      ]
     },
     "execution_count": 7,
     "metadata": {},
     "output_type": "execute_result"
    },
    {
     "data": {
      "image/png": "[encoded data removed]",
      "text/plain": [
       "<Figure size 432x288 with 1 Axes>"
      ]
     },
     "metadata": {
      "needs_background": "light"
     },
     "output_type": "display_data"
    }
   ],
   "source": [
    "df_pivot_diff.sort_values(\"stamp_2\", ascending = False)[\"stamp_2\"].head(10).plot.barh()"
   ]
  },
  {
   "cell_type": "code",
   "execution_count": null,
   "id": "extra-executive",
   "metadata": {
    "papermill": {
     "duration": 0.033581,
     "end_time": "2021-11-03T16:00:13.377566",
     "exception": false,
     "start_time": "2021-11-03T16:00:13.343985",
     "status": "completed"
    },
    "tags": []
   },
   "outputs": [],
   "source": []
  }
 ],
 "metadata": {
  "kernelspec": {
   "display_name": "Python 3",
   "language": "python",
   "name": "python3"
  },
  "language_info": {
   "codemirror_mode": {
    "name": "ipython",
    "version": 3
   },
   "file_extension": ".py",
   "mimetype": "text/x-python",
   "name": "python",
   "nbconvert_exporter": "python",
   "pygments_lexer": "ipython3",
   "version": "3.9.5"
  },
  "papermill": {
   "default_parameters": {},
   "duration": 8.860926,
   "end_time": "2021-11-03T16:00:14.246695",
   "environment_variables": {},
   "exception": null,
   "input_path": "eBay_Overview.ipynb",
   "output_path": "eBay_Overview.ipynb",
   "parameters": {},
   "start_time": "2021-11-03T16:00:05.385769",
   "version": "2.3.3"
  }
 },
 "nbformat": 4,
 "nbformat_minor": 5
}