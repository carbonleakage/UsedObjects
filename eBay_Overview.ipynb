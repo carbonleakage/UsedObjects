{
 "cells": [
  {
   "cell_type": "code",
   "execution_count": 1,
   "id": "reverse-picking",
   "metadata": {
    "execution": {
     "iopub.execute_input": "2021-11-24T21:00:08.730028Z",
     "iopub.status.busy": "2021-11-24T21:00:08.727629Z",
     "iopub.status.idle": "2021-11-24T21:00:09.691057Z",
     "shell.execute_reply": "2021-11-24T21:00:09.693364Z"
    },
    "papermill": {
     "duration": 1.01271,
     "end_time": "2021-11-24T21:00:09.694082",
     "exception": false,
     "start_time": "2021-11-24T21:00:08.681372",
     "status": "completed"
    },
    "tags": []
   },
   "outputs": [],
   "source": [
    "import pandas as pd\n",
    "import sqlite3"
   ]
  },
  {
   "cell_type": "code",
   "execution_count": 2,
   "id": "innovative-syndrome",
   "metadata": {
    "execution": {
     "iopub.execute_input": "2021-11-24T21:00:09.872499Z",
     "iopub.status.busy": "2021-11-24T21:00:09.870367Z",
     "iopub.status.idle": "2021-11-24T21:00:10.775288Z",
     "shell.execute_reply": "2021-11-24T21:00:10.777487Z"
    },
    "papermill": {
     "duration": 0.940398,
     "end_time": "2021-11-24T21:00:10.777964",
     "exception": false,
     "start_time": "2021-11-24T21:00:09.837566",
     "status": "completed"
    },
    "tags": []
   },
   "outputs": [],
   "source": [
    "timestamps = pd.read_sql(\"select distinct record_time from EBAY_TOP_BERLIN order by record_time desc limit 2\", sqlite3.connect(\"UsedObjects.db\"))"
   ]
  },
  {
   "cell_type": "code",
   "execution_count": 3,
   "id": "periodic-identification",
   "metadata": {
    "execution": {
     "iopub.execute_input": "2021-11-24T21:00:10.840103Z",
     "iopub.status.busy": "2021-11-24T21:00:10.838530Z",
     "iopub.status.idle": "2021-11-24T21:00:10.900632Z",
     "shell.execute_reply": "2021-11-24T21:00:10.902208Z"
    },
    "papermill": {
     "duration": 0.101449,
     "end_time": "2021-11-24T21:00:10.902721",
     "exception": false,
     "start_time": "2021-11-24T21:00:10.801272",
     "status": "completed"
    },
    "tags": []
   },
   "outputs": [
    {
     "data": {
      "text/html": [
       "<div>\n",
       "<style scoped>\n",
       "    .dataframe tbody tr th:only-of-type {\n",
       "        vertical-align: middle;\n",
       "    }\n",
       "\n",
       "    .dataframe tbody tr th {\n",
       "        vertical-align: top;\n",
       "    }\n",
       "\n",
       "    .dataframe thead th {\n",
       "        text-align: right;\n",
       "    }\n",
       "</style>\n",
       "<table border=\"1\" class=\"dataframe\">\n",
       "  <thead>\n",
       "    <tr style=\"text-align: right;\">\n",
       "      <th></th>\n",
       "      <th>RECORD_TIME</th>\n",
       "    </tr>\n",
       "  </thead>\n",
       "  <tbody>\n",
       "    <tr>\n",
       "      <th>0</th>\n",
       "      <td>2021-11-24 22:00</td>\n",
       "    </tr>\n",
       "    <tr>\n",
       "      <th>1</th>\n",
       "      <td>2021-11-24 21:30</td>\n",
       "    </tr>\n",
       "  </tbody>\n",
       "</table>\n",
       "</div>"
      ],
      "text/plain": [
       "        RECORD_TIME\n",
       "0  2021-11-24 22:00\n",
       "1  2021-11-24 21:30"
      ]
     },
     "execution_count": 3,
     "metadata": {},
     "output_type": "execute_result"
    }
   ],
   "source": [
    "timestamps"
   ]
  },
  {
   "cell_type": "code",
   "execution_count": 4,
   "id": "alternate-victory",
   "metadata": {
    "execution": {
     "iopub.execute_input": "2021-11-24T21:00:10.959340Z",
     "iopub.status.busy": "2021-11-24T21:00:10.957130Z",
     "iopub.status.idle": "2021-11-24T21:00:12.317052Z",
     "shell.execute_reply": "2021-11-24T21:00:12.318699Z"
    },
    "papermill": {
     "duration": 1.394426,
     "end_time": "2021-11-24T21:00:12.319303",
     "exception": false,
     "start_time": "2021-11-24T21:00:10.924877",
     "status": "completed"
    },
    "tags": []
   },
   "outputs": [],
   "source": [
    "df = pd.read_sql(\"select * from EBAY_TOP_BERLIN where record_time in (select distinct record_time from EBAY_TOP_BERLIN order by record_time desc limit 2)\", sqlite3.connect(\"UsedObjects.db\"))"
   ]
  },
  {
   "cell_type": "code",
   "execution_count": 5,
   "id": "popular-active",
   "metadata": {
    "execution": {
     "iopub.execute_input": "2021-11-24T21:00:12.482114Z",
     "iopub.status.busy": "2021-11-24T21:00:12.469569Z",
     "iopub.status.idle": "2021-11-24T21:00:12.501790Z",
     "shell.execute_reply": "2021-11-24T21:00:12.503157Z"
    },
    "papermill": {
     "duration": 0.156592,
     "end_time": "2021-11-24T21:00:12.503620",
     "exception": false,
     "start_time": "2021-11-24T21:00:12.347028",
     "status": "completed"
    },
    "tags": []
   },
   "outputs": [],
   "source": [
    "df_pivot = df.pivot_table(index=\"PRODUCT\", columns = \"RECORD_TIME\", values = \"LISTING_COUNT\")"
   ]
  },
  {
   "cell_type": "code",
   "execution_count": 6,
   "id": "union-huntington",
   "metadata": {
    "execution": {
     "iopub.execute_input": "2021-11-24T21:00:12.566129Z",
     "iopub.status.busy": "2021-11-24T21:00:12.563874Z",
     "iopub.status.idle": "2021-11-24T21:00:12.569631Z",
     "shell.execute_reply": "2021-11-24T21:00:12.570998Z"
    },
    "papermill": {
     "duration": 0.045959,
     "end_time": "2021-11-24T21:00:12.571474",
     "exception": false,
     "start_time": "2021-11-24T21:00:12.525515",
     "status": "completed"
    },
    "tags": []
   },
   "outputs": [],
   "source": [
    "df_pivot.columns = [\"stamp_1\", \"stamp_2\"]\n",
    "df_pivot_diff = df_pivot.diff(axis=1)"
   ]
  },
  {
   "cell_type": "code",
   "execution_count": 7,
   "id": "fifth-motion",
   "metadata": {
    "execution": {
     "iopub.execute_input": "2021-11-24T21:00:12.628021Z",
     "iopub.status.busy": "2021-11-24T21:00:12.625594Z",
     "iopub.status.idle": "2021-11-24T21:00:14.638222Z",
     "shell.execute_reply": "2021-11-24T21:00:14.639783Z"
    },
    "papermill": {
     "duration": 2.048556,
     "end_time": "2021-11-24T21:00:14.640233",
     "exception": false,
     "start_time": "2021-11-24T21:00:12.591677",
     "status": "completed"
    },
    "tags": []
   },
   "outputs": [
    {
     "data": {
      "text/plain": [
       "<AxesSubplot:ylabel='PRODUCT'>"
      ]
     },
     "execution_count": 7,
     "metadata": {},
     "output_type": "execute_result"
    },
    {
     "data": {
      "image/png": "[encoded data removed]",
      "text/plain": [
       "<Figure size 432x288 with 1 Axes>"
      ]
     },
     "metadata": {
      "needs_background": "light"
     },
     "output_type": "display_data"
    }
   ],
   "source": [
    "df_pivot_diff.sort_values(\"stamp_2\", ascending = False)[\"stamp_2\"].head(10).plot.barh()"
   ]
  },
  {
   "cell_type": "code",
   "execution_count": null,
   "id": "extra-executive",
   "metadata": {
    "papermill": {
     "duration": 0.022315,
     "end_time": "2021-11-24T21:00:14.686770",
     "exception": false,
     "start_time": "2021-11-24T21:00:14.664455",
     "status": "completed"
    },
    "tags": []
   },
   "outputs": [],
   "source": []
  }
 ],
 "metadata": {
  "kernelspec": {
   "display_name": "Python 3",
   "language": "python",
   "name": "python3"
  },
  "language_info": {
   "codemirror_mode": {
    "name": "ipython",
    "version": 3
   },
   "file_extension": ".py",
   "mimetype": "text/x-python",
   "name": "python",
   "nbconvert_exporter": "python",
   "pygments_lexer": "ipython3",
   "version": "3.9.5"
  },
  "papermill": {
   "default_parameters": {},
   "duration": 9.93336,
   "end_time": "2021-11-24T21:00:15.893773",
   "environment_variables": {},
   "exception": null,
   "input_path": "eBay_Overview.ipynb",
   "output_path": "eBay_Overview.ipynb",
   "parameters": {},
   "start_time": "2021-11-24T21:00:05.960413",
   "version": "2.3.3"
  }
 },
 "nbformat": 4,
 "nbformat_minor": 5
}