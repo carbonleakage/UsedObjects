{
 "cells": [
  {
   "cell_type": "code",
   "execution_count": 1,
   "id": "reverse-picking",
   "metadata": {
    "execution": {
     "iopub.execute_input": "2021-10-20T21:00:06.925311Z",
     "iopub.status.busy": "2021-10-20T21:00:06.923256Z",
     "iopub.status.idle": "2021-10-20T21:00:07.737098Z",
     "shell.execute_reply": "2021-10-20T21:00:07.738480Z"
    },
    "papermill": {
     "duration": 0.864875,
     "end_time": "2021-10-20T21:00:07.739136",
     "exception": false,
     "start_time": "2021-10-20T21:00:06.874261",
     "status": "completed"
    },
    "tags": []
   },
   "outputs": [],
   "source": [
    "import pandas as pd\n",
    "import sqlite3"
   ]
  },
  {
   "cell_type": "code",
   "execution_count": 2,
   "id": "innovative-syndrome",
   "metadata": {
    "execution": {
     "iopub.execute_input": "2021-10-20T21:00:07.790900Z",
     "iopub.status.busy": "2021-10-20T21:00:07.788995Z",
     "iopub.status.idle": "2021-10-20T21:00:08.379971Z",
     "shell.execute_reply": "2021-10-20T21:00:08.381534Z"
    },
    "papermill": {
     "duration": 0.620922,
     "end_time": "2021-10-20T21:00:08.381979",
     "exception": false,
     "start_time": "2021-10-20T21:00:07.761057",
     "status": "completed"
    },
    "tags": []
   },
   "outputs": [],
   "source": [
    "timestamps = pd.read_sql(\"select distinct record_time from EBAY_TOP_BERLIN order by record_time desc limit 2\", sqlite3.connect(\"UsedObjects.db\"))"
   ]
  },
  {
   "cell_type": "code",
   "execution_count": 3,
   "id": "periodic-identification",
   "metadata": {
    "execution": {
     "iopub.execute_input": "2021-10-20T21:00:08.456499Z",
     "iopub.status.busy": "2021-10-20T21:00:08.454416Z",
     "iopub.status.idle": "2021-10-20T21:00:08.474611Z",
     "shell.execute_reply": "2021-10-20T21:00:08.476216Z"
    },
    "papermill": {
     "duration": 0.069089,
     "end_time": "2021-10-20T21:00:08.476761",
     "exception": false,
     "start_time": "2021-10-20T21:00:08.407672",
     "status": "completed"
    },
    "tags": []
   },
   "outputs": [
    {
     "data": {
      "text/html": [
       "<div>\n",
       "<style scoped>\n",
       "    .dataframe tbody tr th:only-of-type {\n",
       "        vertical-align: middle;\n",
       "    }\n",
       "\n",
       "    .dataframe tbody tr th {\n",
       "        vertical-align: top;\n",
       "    }\n",
       "\n",
       "    .dataframe thead th {\n",
       "        text-align: right;\n",
       "    }\n",
       "</style>\n",
       "<table border=\"1\" class=\"dataframe\">\n",
       "  <thead>\n",
       "    <tr style=\"text-align: right;\">\n",
       "      <th></th>\n",
       "      <th>RECORD_TIME</th>\n",
       "    </tr>\n",
       "  </thead>\n",
       "  <tbody>\n",
       "    <tr>\n",
       "      <th>0</th>\n",
       "      <td>2021-10-20 23:00</td>\n",
       "    </tr>\n",
       "    <tr>\n",
       "      <th>1</th>\n",
       "      <td>2021-10-20 22:30</td>\n",
       "    </tr>\n",
       "  </tbody>\n",
       "</table>\n",
       "</div>"
      ],
      "text/plain": [
       "        RECORD_TIME\n",
       "0  2021-10-20 23:00\n",
       "1  2021-10-20 22:30"
      ]
     },
     "execution_count": 3,
     "metadata": {},
     "output_type": "execute_result"
    }
   ],
   "source": [
    "timestamps"
   ]
  },
  {
   "cell_type": "code",
   "execution_count": 4,
   "id": "alternate-victory",
   "metadata": {
    "execution": {
     "iopub.execute_input": "2021-10-20T21:00:08.528887Z",
     "iopub.status.busy": "2021-10-20T21:00:08.526972Z",
     "iopub.status.idle": "2021-10-20T21:00:09.376090Z",
     "shell.execute_reply": "2021-10-20T21:00:09.377466Z"
    },
    "papermill": {
     "duration": 0.879435,
     "end_time": "2021-10-20T21:00:09.377892",
     "exception": false,
     "start_time": "2021-10-20T21:00:08.498457",
     "status": "completed"
    },
    "tags": []
   },
   "outputs": [],
   "source": [
    "df = pd.read_sql(\"select * from EBAY_TOP_BERLIN where record_time in (select distinct record_time from EBAY_TOP_BERLIN order by record_time desc limit 2)\", sqlite3.connect(\"UsedObjects.db\"))"
   ]
  },
  {
   "cell_type": "code",
   "execution_count": 5,
   "id": "popular-active",
   "metadata": {
    "execution": {
     "iopub.execute_input": "2021-10-20T21:00:09.446576Z",
     "iopub.status.busy": "2021-10-20T21:00:09.435583Z",
     "iopub.status.idle": "2021-10-20T21:00:09.463121Z",
     "shell.execute_reply": "2021-10-20T21:00:09.464364Z"
    },
    "papermill": {
     "duration": 0.066068,
     "end_time": "2021-10-20T21:00:09.464949",
     "exception": false,
     "start_time": "2021-10-20T21:00:09.398881",
     "status": "completed"
    },
    "tags": []
   },
   "outputs": [],
   "source": [
    "df_pivot = df.pivot_table(index=\"PRODUCT\", columns = \"RECORD_TIME\", values = \"LISTING_COUNT\")"
   ]
  },
  {
   "cell_type": "code",
   "execution_count": 6,
   "id": "union-huntington",
   "metadata": {
    "execution": {
     "iopub.execute_input": "2021-10-20T21:00:09.523402Z",
     "iopub.status.busy": "2021-10-20T21:00:09.521315Z",
     "iopub.status.idle": "2021-10-20T21:00:09.526652Z",
     "shell.execute_reply": "2021-10-20T21:00:09.527858Z"
    },
    "papermill": {
     "duration": 0.040988,
     "end_time": "2021-10-20T21:00:09.528287",
     "exception": false,
     "start_time": "2021-10-20T21:00:09.487299",
     "status": "completed"
    },
    "tags": []
   },
   "outputs": [],
   "source": [
    "df_pivot.columns = [\"stamp_1\", \"stamp_2\"]\n",
    "df_pivot_diff = df_pivot.diff(axis=1)"
   ]
  },
  {
   "cell_type": "code",
   "execution_count": 7,
   "id": "fifth-motion",
   "metadata": {
    "execution": {
     "iopub.execute_input": "2021-10-20T21:00:09.585362Z",
     "iopub.status.busy": "2021-10-20T21:00:09.582822Z",
     "iopub.status.idle": "2021-10-20T21:00:11.072873Z",
     "shell.execute_reply": "2021-10-20T21:00:11.074194Z"
    },
    "papermill": {
     "duration": 1.523054,
     "end_time": "2021-10-20T21:00:11.074617",
     "exception": false,
     "start_time": "2021-10-20T21:00:09.551563",
     "status": "completed"
    },
    "tags": []
   },
   "outputs": [
    {
     "data": {
      "text/plain": [
       "<AxesSubplot:ylabel='PRODUCT'>"
      ]
     },
     "execution_count": 7,
     "metadata": {},
     "output_type": "execute_result"
    },
    {
     "data": {
      "image/png": "[encoded data removed]",
      "text/plain": [
       "<Figure size 432x288 with 1 Axes>"
      ]
     },
     "metadata": {
      "needs_background": "light"
     },
     "output_type": "display_data"
    }
   ],
   "source": [
    "df_pivot_diff.sort_values(\"stamp_2\", ascending = False)[\"stamp_2\"].head(10).plot.barh()"
   ]
  },
  {
   "cell_type": "code",
   "execution_count": null,
   "id": "extra-executive",
   "metadata": {
    "papermill": {
     "duration": 0.022215,
     "end_time": "2021-10-20T21:00:11.120639",
     "exception": false,
     "start_time": "2021-10-20T21:00:11.098424",
     "status": "completed"
    },
    "tags": []
   },
   "outputs": [],
   "source": []
  }
 ],
 "metadata": {
  "kernelspec": {
   "display_name": "Python 3",
   "language": "python",
   "name": "python3"
  },
  "language_info": {
   "codemirror_mode": {
    "name": "ipython",
    "version": 3
   },
   "file_extension": ".py",
   "mimetype": "text/x-python",
   "name": "python",
   "nbconvert_exporter": "python",
   "pygments_lexer": "ipython3",
   "version": "3.9.5"
  },
  "papermill": {
   "default_parameters": {},
   "duration": 7.830432,
   "end_time": "2021-10-20T21:00:12.273267",
   "environment_variables": {},
   "exception": null,
   "input_path": "eBay_Overview.ipynb",
   "output_path": "eBay_Overview.ipynb",
   "parameters": {},
   "start_time": "2021-10-20T21:00:04.442835",
   "version": "2.3.3"
  }
 },
 "nbformat": 4,
 "nbformat_minor": 5
}