{
 "cells": [
  {
   "cell_type": "code",
   "execution_count": 1,
   "id": "reverse-picking",
   "metadata": {
    "execution": {
     "iopub.execute_input": "2021-10-22T10:00:07.166306Z",
     "iopub.status.busy": "2021-10-22T10:00:07.164283Z",
     "iopub.status.idle": "2021-10-22T10:00:07.972215Z",
     "shell.execute_reply": "2021-10-22T10:00:07.973561Z"
    },
    "papermill": {
     "duration": 0.859748,
     "end_time": "2021-10-22T10:00:07.974190",
     "exception": false,
     "start_time": "2021-10-22T10:00:07.114442",
     "status": "completed"
    },
    "tags": []
   },
   "outputs": [],
   "source": [
    "import pandas as pd\n",
    "import sqlite3"
   ]
  },
  {
   "cell_type": "code",
   "execution_count": 2,
   "id": "innovative-syndrome",
   "metadata": {
    "execution": {
     "iopub.execute_input": "2021-10-22T10:00:08.024728Z",
     "iopub.status.busy": "2021-10-22T10:00:08.022819Z",
     "iopub.status.idle": "2021-10-22T10:00:08.630369Z",
     "shell.execute_reply": "2021-10-22T10:00:08.631562Z"
    },
    "papermill": {
     "duration": 0.63708,
     "end_time": "2021-10-22T10:00:08.631960",
     "exception": false,
     "start_time": "2021-10-22T10:00:07.994880",
     "status": "completed"
    },
    "tags": []
   },
   "outputs": [],
   "source": [
    "timestamps = pd.read_sql(\"select distinct record_time from EBAY_TOP_BERLIN order by record_time desc limit 2\", sqlite3.connect(\"UsedObjects.db\"))"
   ]
  },
  {
   "cell_type": "code",
   "execution_count": 3,
   "id": "periodic-identification",
   "metadata": {
    "execution": {
     "iopub.execute_input": "2021-10-22T10:00:08.708193Z",
     "iopub.status.busy": "2021-10-22T10:00:08.706180Z",
     "iopub.status.idle": "2021-10-22T10:00:08.726465Z",
     "shell.execute_reply": "2021-10-22T10:00:08.727740Z"
    },
    "papermill": {
     "duration": 0.070794,
     "end_time": "2021-10-22T10:00:08.728157",
     "exception": false,
     "start_time": "2021-10-22T10:00:08.657363",
     "status": "completed"
    },
    "tags": []
   },
   "outputs": [
    {
     "data": {
      "text/html": [
       "<div>\n",
       "<style scoped>\n",
       "    .dataframe tbody tr th:only-of-type {\n",
       "        vertical-align: middle;\n",
       "    }\n",
       "\n",
       "    .dataframe tbody tr th {\n",
       "        vertical-align: top;\n",
       "    }\n",
       "\n",
       "    .dataframe thead th {\n",
       "        text-align: right;\n",
       "    }\n",
       "</style>\n",
       "<table border=\"1\" class=\"dataframe\">\n",
       "  <thead>\n",
       "    <tr style=\"text-align: right;\">\n",
       "      <th></th>\n",
       "      <th>RECORD_TIME</th>\n",
       "    </tr>\n",
       "  </thead>\n",
       "  <tbody>\n",
       "    <tr>\n",
       "      <th>0</th>\n",
       "      <td>2021-10-22 12:00</td>\n",
       "    </tr>\n",
       "    <tr>\n",
       "      <th>1</th>\n",
       "      <td>2021-10-22 11:30</td>\n",
       "    </tr>\n",
       "  </tbody>\n",
       "</table>\n",
       "</div>"
      ],
      "text/plain": [
       "        RECORD_TIME\n",
       "0  2021-10-22 12:00\n",
       "1  2021-10-22 11:30"
      ]
     },
     "execution_count": 3,
     "metadata": {},
     "output_type": "execute_result"
    }
   ],
   "source": [
    "timestamps"
   ]
  },
  {
   "cell_type": "code",
   "execution_count": 4,
   "id": "alternate-victory",
   "metadata": {
    "execution": {
     "iopub.execute_input": "2021-10-22T10:00:08.779383Z",
     "iopub.status.busy": "2021-10-22T10:00:08.777549Z",
     "iopub.status.idle": "2021-10-22T10:00:09.670882Z",
     "shell.execute_reply": "2021-10-22T10:00:09.672134Z"
    },
    "papermill": {
     "duration": 0.923253,
     "end_time": "2021-10-22T10:00:09.672588",
     "exception": false,
     "start_time": "2021-10-22T10:00:08.749335",
     "status": "completed"
    },
    "tags": []
   },
   "outputs": [],
   "source": [
    "df = pd.read_sql(\"select * from EBAY_TOP_BERLIN where record_time in (select distinct record_time from EBAY_TOP_BERLIN order by record_time desc limit 2)\", sqlite3.connect(\"UsedObjects.db\"))"
   ]
  },
  {
   "cell_type": "code",
   "execution_count": 5,
   "id": "popular-active",
   "metadata": {
    "execution": {
     "iopub.execute_input": "2021-10-22T10:00:09.732830Z",
     "iopub.status.busy": "2021-10-22T10:00:09.730051Z",
     "iopub.status.idle": "2021-10-22T10:00:09.759011Z",
     "shell.execute_reply": "2021-10-22T10:00:09.760206Z"
    },
    "papermill": {
     "duration": 0.066564,
     "end_time": "2021-10-22T10:00:09.760598",
     "exception": false,
     "start_time": "2021-10-22T10:00:09.694034",
     "status": "completed"
    },
    "tags": []
   },
   "outputs": [],
   "source": [
    "df_pivot = df.pivot_table(index=\"PRODUCT\", columns = \"RECORD_TIME\", values = \"LISTING_COUNT\")"
   ]
  },
  {
   "cell_type": "code",
   "execution_count": 6,
   "id": "union-huntington",
   "metadata": {
    "execution": {
     "iopub.execute_input": "2021-10-22T10:00:09.819488Z",
     "iopub.status.busy": "2021-10-22T10:00:09.817059Z",
     "iopub.status.idle": "2021-10-22T10:00:09.822641Z",
     "shell.execute_reply": "2021-10-22T10:00:09.823893Z"
    },
    "papermill": {
     "duration": 0.041555,
     "end_time": "2021-10-22T10:00:09.824310",
     "exception": false,
     "start_time": "2021-10-22T10:00:09.782755",
     "status": "completed"
    },
    "tags": []
   },
   "outputs": [],
   "source": [
    "df_pivot.columns = [\"stamp_1\", \"stamp_2\"]\n",
    "df_pivot_diff = df_pivot.diff(axis=1)"
   ]
  },
  {
   "cell_type": "code",
   "execution_count": 7,
   "id": "fifth-motion",
   "metadata": {
    "execution": {
     "iopub.execute_input": "2021-10-22T10:00:09.878892Z",
     "iopub.status.busy": "2021-10-22T10:00:09.876427Z",
     "iopub.status.idle": "2021-10-22T10:00:11.374606Z",
     "shell.execute_reply": "2021-10-22T10:00:11.376053Z"
    },
    "papermill": {
     "duration": 1.531728,
     "end_time": "2021-10-22T10:00:11.376517",
     "exception": false,
     "start_time": "2021-10-22T10:00:09.844789",
     "status": "completed"
    },
    "tags": []
   },
   "outputs": [
    {
     "data": {
      "text/plain": [
       "<AxesSubplot:ylabel='PRODUCT'>"
      ]
     },
     "execution_count": 7,
     "metadata": {},
     "output_type": "execute_result"
    },
    {
     "data": {
      "image/png": "[encoded data removed]",
      "text/plain": [
       "<Figure size 432x288 with 1 Axes>"
      ]
     },
     "metadata": {
      "needs_background": "light"
     },
     "output_type": "display_data"
    }
   ],
   "source": [
    "df_pivot_diff.sort_values(\"stamp_2\", ascending = False)[\"stamp_2\"].head(10).plot.barh()"
   ]
  },
  {
   "cell_type": "code",
   "execution_count": null,
   "id": "extra-executive",
   "metadata": {
    "papermill": {
     "duration": 0.02203,
     "end_time": "2021-10-22T10:00:11.423118",
     "exception": false,
     "start_time": "2021-10-22T10:00:11.401088",
     "status": "completed"
    },
    "tags": []
   },
   "outputs": [],
   "source": []
  }
 ],
 "metadata": {
  "kernelspec": {
   "display_name": "Python 3",
   "language": "python",
   "name": "python3"
  },
  "language_info": {
   "codemirror_mode": {
    "name": "ipython",
    "version": 3
   },
   "file_extension": ".py",
   "mimetype": "text/x-python",
   "name": "python",
   "nbconvert_exporter": "python",
   "pygments_lexer": "ipython3",
   "version": "3.9.5"
  },
  "papermill": {
   "default_parameters": {},
   "duration": 7.365941,
   "end_time": "2021-10-22T10:00:12.065707",
   "environment_variables": {},
   "exception": null,
   "input_path": "eBay_Overview.ipynb",
   "output_path": "eBay_Overview.ipynb",
   "parameters": {},
   "start_time": "2021-10-22T10:00:04.699766",
   "version": "2.3.3"
  }
 },
 "nbformat": 4,
 "nbformat_minor": 5
}