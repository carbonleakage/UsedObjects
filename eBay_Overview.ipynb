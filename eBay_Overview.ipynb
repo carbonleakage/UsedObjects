{
 "cells": [
  {
   "cell_type": "code",
   "execution_count": 1,
   "id": "reverse-picking",
   "metadata": {
    "execution": {
     "iopub.execute_input": "2021-10-20T18:30:07.001201Z",
     "iopub.status.busy": "2021-10-20T18:30:06.999159Z",
     "iopub.status.idle": "2021-10-20T18:30:07.809453Z",
     "shell.execute_reply": "2021-10-20T18:30:07.810741Z"
    },
    "papermill": {
     "duration": 0.861634,
     "end_time": "2021-10-20T18:30:07.811357",
     "exception": false,
     "start_time": "2021-10-20T18:30:06.949723",
     "status": "completed"
    },
    "tags": []
   },
   "outputs": [],
   "source": [
    "import pandas as pd\n",
    "import sqlite3"
   ]
  },
  {
   "cell_type": "code",
   "execution_count": 2,
   "id": "innovative-syndrome",
   "metadata": {
    "execution": {
     "iopub.execute_input": "2021-10-20T18:30:07.865070Z",
     "iopub.status.busy": "2021-10-20T18:30:07.862682Z",
     "iopub.status.idle": "2021-10-20T18:30:08.455124Z",
     "shell.execute_reply": "2021-10-20T18:30:08.456403Z"
    },
    "papermill": {
     "duration": 0.622407,
     "end_time": "2021-10-20T18:30:08.456878",
     "exception": false,
     "start_time": "2021-10-20T18:30:07.834471",
     "status": "completed"
    },
    "tags": []
   },
   "outputs": [],
   "source": [
    "timestamps = pd.read_sql(\"select distinct record_time from EBAY_TOP_BERLIN order by record_time desc limit 2\", sqlite3.connect(\"UsedObjects.db\"))"
   ]
  },
  {
   "cell_type": "code",
   "execution_count": 3,
   "id": "periodic-identification",
   "metadata": {
    "execution": {
     "iopub.execute_input": "2021-10-20T18:30:08.532765Z",
     "iopub.status.busy": "2021-10-20T18:30:08.530680Z",
     "iopub.status.idle": "2021-10-20T18:30:08.550636Z",
     "shell.execute_reply": "2021-10-20T18:30:08.551914Z"
    },
    "papermill": {
     "duration": 0.068465,
     "end_time": "2021-10-20T18:30:08.552324",
     "exception": false,
     "start_time": "2021-10-20T18:30:08.483859",
     "status": "completed"
    },
    "tags": []
   },
   "outputs": [
    {
     "data": {
      "text/html": [
       "<div>\n",
       "<style scoped>\n",
       "    .dataframe tbody tr th:only-of-type {\n",
       "        vertical-align: middle;\n",
       "    }\n",
       "\n",
       "    .dataframe tbody tr th {\n",
       "        vertical-align: top;\n",
       "    }\n",
       "\n",
       "    .dataframe thead th {\n",
       "        text-align: right;\n",
       "    }\n",
       "</style>\n",
       "<table border=\"1\" class=\"dataframe\">\n",
       "  <thead>\n",
       "    <tr style=\"text-align: right;\">\n",
       "      <th></th>\n",
       "      <th>RECORD_TIME</th>\n",
       "    </tr>\n",
       "  </thead>\n",
       "  <tbody>\n",
       "    <tr>\n",
       "      <th>0</th>\n",
       "      <td>2021-10-20 20:30</td>\n",
       "    </tr>\n",
       "    <tr>\n",
       "      <th>1</th>\n",
       "      <td>2021-10-20 20:00</td>\n",
       "    </tr>\n",
       "  </tbody>\n",
       "</table>\n",
       "</div>"
      ],
      "text/plain": [
       "        RECORD_TIME\n",
       "0  2021-10-20 20:30\n",
       "1  2021-10-20 20:00"
      ]
     },
     "execution_count": 3,
     "metadata": {},
     "output_type": "execute_result"
    }
   ],
   "source": [
    "timestamps"
   ]
  },
  {
   "cell_type": "code",
   "execution_count": 4,
   "id": "alternate-victory",
   "metadata": {
    "execution": {
     "iopub.execute_input": "2021-10-20T18:30:08.603377Z",
     "iopub.status.busy": "2021-10-20T18:30:08.601521Z",
     "iopub.status.idle": "2021-10-20T18:30:09.449952Z",
     "shell.execute_reply": "2021-10-20T18:30:09.451164Z"
    },
    "papermill": {
     "duration": 0.877993,
     "end_time": "2021-10-20T18:30:09.451557",
     "exception": false,
     "start_time": "2021-10-20T18:30:08.573564",
     "status": "completed"
    },
    "tags": []
   },
   "outputs": [],
   "source": [
    "df = pd.read_sql(\"select * from EBAY_TOP_BERLIN where record_time in (select distinct record_time from EBAY_TOP_BERLIN order by record_time desc limit 2)\", sqlite3.connect(\"UsedObjects.db\"))"
   ]
  },
  {
   "cell_type": "code",
   "execution_count": 5,
   "id": "popular-active",
   "metadata": {
    "execution": {
     "iopub.execute_input": "2021-10-20T18:30:09.521358Z",
     "iopub.status.busy": "2021-10-20T18:30:09.509120Z",
     "iopub.status.idle": "2021-10-20T18:30:09.538522Z",
     "shell.execute_reply": "2021-10-20T18:30:09.539879Z"
    },
    "papermill": {
     "duration": 0.068455,
     "end_time": "2021-10-20T18:30:09.540309",
     "exception": false,
     "start_time": "2021-10-20T18:30:09.471854",
     "status": "completed"
    },
    "tags": []
   },
   "outputs": [],
   "source": [
    "df_pivot = df.pivot_table(index=\"PRODUCT\", columns = \"RECORD_TIME\", values = \"LISTING_COUNT\")"
   ]
  },
  {
   "cell_type": "code",
   "execution_count": 6,
   "id": "union-huntington",
   "metadata": {
    "execution": {
     "iopub.execute_input": "2021-10-20T18:30:09.596469Z",
     "iopub.status.busy": "2021-10-20T18:30:09.594318Z",
     "iopub.status.idle": "2021-10-20T18:30:09.599531Z",
     "shell.execute_reply": "2021-10-20T18:30:09.600887Z"
    },
    "papermill": {
     "duration": 0.040837,
     "end_time": "2021-10-20T18:30:09.601326",
     "exception": false,
     "start_time": "2021-10-20T18:30:09.560489",
     "status": "completed"
    },
    "tags": []
   },
   "outputs": [],
   "source": [
    "df_pivot.columns = [\"stamp_1\", \"stamp_2\"]\n",
    "df_pivot_diff = df_pivot.diff(axis=1)"
   ]
  },
  {
   "cell_type": "code",
   "execution_count": 7,
   "id": "fifth-motion",
   "metadata": {
    "execution": {
     "iopub.execute_input": "2021-10-20T18:30:09.655086Z",
     "iopub.status.busy": "2021-10-20T18:30:09.652603Z",
     "iopub.status.idle": "2021-10-20T18:30:11.162138Z",
     "shell.execute_reply": "2021-10-20T18:30:11.163337Z"
    },
    "papermill": {
     "duration": 1.542132,
     "end_time": "2021-10-20T18:30:11.163764",
     "exception": false,
     "start_time": "2021-10-20T18:30:09.621632",
     "status": "completed"
    },
    "tags": []
   },
   "outputs": [
    {
     "data": {
      "text/plain": [
       "<AxesSubplot:ylabel='PRODUCT'>"
      ]
     },
     "execution_count": 7,
     "metadata": {},
     "output_type": "execute_result"
    },
    {
     "data": {
      "image/png": "[encoded data removed]",
      "text/plain": [
       "<Figure size 432x288 with 1 Axes>"
      ]
     },
     "metadata": {
      "needs_background": "light"
     },
     "output_type": "display_data"
    }
   ],
   "source": [
    "df_pivot_diff.sort_values(\"stamp_2\", ascending = False)[\"stamp_2\"].head(10).plot.barh()"
   ]
  },
  {
   "cell_type": "code",
   "execution_count": null,
   "id": "extra-executive",
   "metadata": {
    "papermill": {
     "duration": 0.021641,
     "end_time": "2021-10-20T18:30:11.210672",
     "exception": false,
     "start_time": "2021-10-20T18:30:11.189031",
     "status": "completed"
    },
    "tags": []
   },
   "outputs": [],
   "source": []
  }
 ],
 "metadata": {
  "kernelspec": {
   "display_name": "Python 3",
   "language": "python",
   "name": "python3"
  },
  "language_info": {
   "codemirror_mode": {
    "name": "ipython",
    "version": 3
   },
   "file_extension": ".py",
   "mimetype": "text/x-python",
   "name": "python",
   "nbconvert_exporter": "python",
   "pygments_lexer": "ipython3",
   "version": "3.9.5"
  },
  "papermill": {
   "default_parameters": {},
   "duration": 7.316662,
   "end_time": "2021-10-20T18:30:11.851036",
   "environment_variables": {},
   "exception": null,
   "input_path": "eBay_Overview.ipynb",
   "output_path": "eBay_Overview.ipynb",
   "parameters": {},
   "start_time": "2021-10-20T18:30:04.534374",
   "version": "2.3.3"
  }
 },
 "nbformat": 4,
 "nbformat_minor": 5
}