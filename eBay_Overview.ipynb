{
 "cells": [
  {
   "cell_type": "code",
   "execution_count": 1,
   "id": "reverse-picking",
   "metadata": {
    "execution": {
     "iopub.execute_input": "2021-11-24T17:00:08.184081Z",
     "iopub.status.busy": "2021-11-24T17:00:08.181740Z",
     "iopub.status.idle": "2021-11-24T17:00:09.137043Z",
     "shell.execute_reply": "2021-11-24T17:00:09.139259Z"
    },
    "papermill": {
     "duration": 1.005128,
     "end_time": "2021-11-24T17:00:09.139987",
     "exception": false,
     "start_time": "2021-11-24T17:00:08.134859",
     "status": "completed"
    },
    "tags": []
   },
   "outputs": [],
   "source": [
    "import pandas as pd\n",
    "import sqlite3"
   ]
  },
  {
   "cell_type": "code",
   "execution_count": 2,
   "id": "innovative-syndrome",
   "metadata": {
    "execution": {
     "iopub.execute_input": "2021-11-24T17:00:09.255658Z",
     "iopub.status.busy": "2021-11-24T17:00:09.253296Z",
     "iopub.status.idle": "2021-11-24T17:00:10.144071Z",
     "shell.execute_reply": "2021-11-24T17:00:10.145696Z"
    },
    "papermill": {
     "duration": 0.926001,
     "end_time": "2021-11-24T17:00:10.146188",
     "exception": false,
     "start_time": "2021-11-24T17:00:09.220187",
     "status": "completed"
    },
    "tags": []
   },
   "outputs": [],
   "source": [
    "timestamps = pd.read_sql(\"select distinct record_time from EBAY_TOP_BERLIN order by record_time desc limit 2\", sqlite3.connect(\"UsedObjects.db\"))"
   ]
  },
  {
   "cell_type": "code",
   "execution_count": 3,
   "id": "periodic-identification",
   "metadata": {
    "execution": {
     "iopub.execute_input": "2021-11-24T17:00:10.214897Z",
     "iopub.status.busy": "2021-11-24T17:00:10.212616Z",
     "iopub.status.idle": "2021-11-24T17:00:10.234472Z",
     "shell.execute_reply": "2021-11-24T17:00:10.235847Z"
    },
    "papermill": {
     "duration": 0.07034,
     "end_time": "2021-11-24T17:00:10.236434",
     "exception": false,
     "start_time": "2021-11-24T17:00:10.166094",
     "status": "completed"
    },
    "tags": []
   },
   "outputs": [
    {
     "data": {
      "text/html": [
       "<div>\n",
       "<style scoped>\n",
       "    .dataframe tbody tr th:only-of-type {\n",
       "        vertical-align: middle;\n",
       "    }\n",
       "\n",
       "    .dataframe tbody tr th {\n",
       "        vertical-align: top;\n",
       "    }\n",
       "\n",
       "    .dataframe thead th {\n",
       "        text-align: right;\n",
       "    }\n",
       "</style>\n",
       "<table border=\"1\" class=\"dataframe\">\n",
       "  <thead>\n",
       "    <tr style=\"text-align: right;\">\n",
       "      <th></th>\n",
       "      <th>RECORD_TIME</th>\n",
       "    </tr>\n",
       "  </thead>\n",
       "  <tbody>\n",
       "    <tr>\n",
       "      <th>0</th>\n",
       "      <td>2021-11-24 18:00</td>\n",
       "    </tr>\n",
       "    <tr>\n",
       "      <th>1</th>\n",
       "      <td>2021-11-24 17:30</td>\n",
       "    </tr>\n",
       "  </tbody>\n",
       "</table>\n",
       "</div>"
      ],
      "text/plain": [
       "        RECORD_TIME\n",
       "0  2021-11-24 18:00\n",
       "1  2021-11-24 17:30"
      ]
     },
     "execution_count": 3,
     "metadata": {},
     "output_type": "execute_result"
    }
   ],
   "source": [
    "timestamps"
   ]
  },
  {
   "cell_type": "code",
   "execution_count": 4,
   "id": "alternate-victory",
   "metadata": {
    "execution": {
     "iopub.execute_input": "2021-11-24T17:00:10.291208Z",
     "iopub.status.busy": "2021-11-24T17:00:10.289102Z",
     "iopub.status.idle": "2021-11-24T17:00:11.597355Z",
     "shell.execute_reply": "2021-11-24T17:00:11.600331Z"
    },
    "papermill": {
     "duration": 1.343404,
     "end_time": "2021-11-24T17:00:11.600909",
     "exception": false,
     "start_time": "2021-11-24T17:00:10.257505",
     "status": "completed"
    },
    "tags": []
   },
   "outputs": [],
   "source": [
    "df = pd.read_sql(\"select * from EBAY_TOP_BERLIN where record_time in (select distinct record_time from EBAY_TOP_BERLIN order by record_time desc limit 2)\", sqlite3.connect(\"UsedObjects.db\"))"
   ]
  },
  {
   "cell_type": "code",
   "execution_count": 5,
   "id": "popular-active",
   "metadata": {
    "execution": {
     "iopub.execute_input": "2021-11-24T17:00:11.665313Z",
     "iopub.status.busy": "2021-11-24T17:00:11.662960Z",
     "iopub.status.idle": "2021-11-24T17:00:11.692873Z",
     "shell.execute_reply": "2021-11-24T17:00:11.694378Z"
    },
    "papermill": {
     "duration": 0.071679,
     "end_time": "2021-11-24T17:00:11.694844",
     "exception": false,
     "start_time": "2021-11-24T17:00:11.623165",
     "status": "completed"
    },
    "tags": []
   },
   "outputs": [],
   "source": [
    "df_pivot = df.pivot_table(index=\"PRODUCT\", columns = \"RECORD_TIME\", values = \"LISTING_COUNT\")"
   ]
  },
  {
   "cell_type": "code",
   "execution_count": 6,
   "id": "union-huntington",
   "metadata": {
    "execution": {
     "iopub.execute_input": "2021-11-24T17:00:11.757447Z",
     "iopub.status.busy": "2021-11-24T17:00:11.755162Z",
     "iopub.status.idle": "2021-11-24T17:00:11.761700Z",
     "shell.execute_reply": "2021-11-24T17:00:11.763874Z"
    },
    "papermill": {
     "duration": 0.048983,
     "end_time": "2021-11-24T17:00:11.764497",
     "exception": false,
     "start_time": "2021-11-24T17:00:11.715514",
     "status": "completed"
    },
    "tags": []
   },
   "outputs": [],
   "source": [
    "df_pivot.columns = [\"stamp_1\", \"stamp_2\"]\n",
    "df_pivot_diff = df_pivot.diff(axis=1)"
   ]
  },
  {
   "cell_type": "code",
   "execution_count": 7,
   "id": "fifth-motion",
   "metadata": {
    "execution": {
     "iopub.execute_input": "2021-11-24T17:00:11.849789Z",
     "iopub.status.busy": "2021-11-24T17:00:11.846933Z",
     "iopub.status.idle": "2021-11-24T17:00:13.595873Z",
     "shell.execute_reply": "2021-11-24T17:00:13.598681Z"
    },
    "papermill": {
     "duration": 1.804299,
     "end_time": "2021-11-24T17:00:13.599600",
     "exception": false,
     "start_time": "2021-11-24T17:00:11.795301",
     "status": "completed"
    },
    "tags": []
   },
   "outputs": [
    {
     "data": {
      "text/plain": [
       "<AxesSubplot:ylabel='PRODUCT'>"
      ]
     },
     "execution_count": 7,
     "metadata": {},
     "output_type": "execute_result"
    },
    {
     "data": {
      "image/png": "[encoded data removed]",
      "text/plain": [
       "<Figure size 432x288 with 1 Axes>"
      ]
     },
     "metadata": {
      "needs_background": "light"
     },
     "output_type": "display_data"
    }
   ],
   "source": [
    "df_pivot_diff.sort_values(\"stamp_2\", ascending = False)[\"stamp_2\"].head(10).plot.barh()"
   ]
  },
  {
   "cell_type": "code",
   "execution_count": null,
   "id": "extra-executive",
   "metadata": {
    "papermill": {
     "duration": 0.038736,
     "end_time": "2021-11-24T17:00:13.679123",
     "exception": false,
     "start_time": "2021-11-24T17:00:13.640387",
     "status": "completed"
    },
    "tags": []
   },
   "outputs": [],
   "source": []
  }
 ],
 "metadata": {
  "kernelspec": {
   "display_name": "Python 3",
   "language": "python",
   "name": "python3"
  },
  "language_info": {
   "codemirror_mode": {
    "name": "ipython",
    "version": 3
   },
   "file_extension": ".py",
   "mimetype": "text/x-python",
   "name": "python",
   "nbconvert_exporter": "python",
   "pygments_lexer": "ipython3",
   "version": "3.9.5"
  },
  "papermill": {
   "default_parameters": {},
   "duration": 10.014899,
   "end_time": "2021-11-24T17:00:15.324504",
   "environment_variables": {},
   "exception": null,
   "input_path": "eBay_Overview.ipynb",
   "output_path": "eBay_Overview.ipynb",
   "parameters": {},
   "start_time": "2021-11-24T17:00:05.309605",
   "version": "2.3.3"
  }
 },
 "nbformat": 4,
 "nbformat_minor": 5
}