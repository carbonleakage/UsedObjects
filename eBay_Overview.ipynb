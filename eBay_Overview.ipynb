{
 "cells": [
  {
   "cell_type": "code",
   "execution_count": 1,
   "id": "reverse-picking",
   "metadata": {
    "execution": {
     "iopub.execute_input": "2021-11-01T19:00:07.317462Z",
     "iopub.status.busy": "2021-11-01T19:00:07.315103Z",
     "iopub.status.idle": "2021-11-01T19:00:08.216740Z",
     "shell.execute_reply": "2021-11-01T19:00:08.219098Z"
    },
    "papermill": {
     "duration": 0.953428,
     "end_time": "2021-11-01T19:00:08.219905",
     "exception": false,
     "start_time": "2021-11-01T19:00:07.266477",
     "status": "completed"
    },
    "tags": []
   },
   "outputs": [],
   "source": [
    "import pandas as pd\n",
    "import sqlite3"
   ]
  },
  {
   "cell_type": "code",
   "execution_count": 2,
   "id": "innovative-syndrome",
   "metadata": {
    "execution": {
     "iopub.execute_input": "2021-11-01T19:00:08.281213Z",
     "iopub.status.busy": "2021-11-01T19:00:08.278864Z",
     "iopub.status.idle": "2021-11-01T19:00:08.999128Z",
     "shell.execute_reply": "2021-11-01T19:00:09.000914Z"
    },
    "papermill": {
     "duration": 0.760195,
     "end_time": "2021-11-01T19:00:09.001412",
     "exception": false,
     "start_time": "2021-11-01T19:00:08.241217",
     "status": "completed"
    },
    "tags": []
   },
   "outputs": [],
   "source": [
    "timestamps = pd.read_sql(\"select distinct record_time from EBAY_TOP_BERLIN order by record_time desc limit 2\", sqlite3.connect(\"UsedObjects.db\"))"
   ]
  },
  {
   "cell_type": "code",
   "execution_count": 3,
   "id": "periodic-identification",
   "metadata": {
    "execution": {
     "iopub.execute_input": "2021-11-01T19:00:09.074283Z",
     "iopub.status.busy": "2021-11-01T19:00:09.071849Z",
     "iopub.status.idle": "2021-11-01T19:00:09.094982Z",
     "shell.execute_reply": "2021-11-01T19:00:09.096411Z"
    },
    "papermill": {
     "duration": 0.074838,
     "end_time": "2021-11-01T19:00:09.096953",
     "exception": false,
     "start_time": "2021-11-01T19:00:09.022115",
     "status": "completed"
    },
    "tags": []
   },
   "outputs": [
    {
     "data": {
      "text/html": [
       "<div>\n",
       "<style scoped>\n",
       "    .dataframe tbody tr th:only-of-type {\n",
       "        vertical-align: middle;\n",
       "    }\n",
       "\n",
       "    .dataframe tbody tr th {\n",
       "        vertical-align: top;\n",
       "    }\n",
       "\n",
       "    .dataframe thead th {\n",
       "        text-align: right;\n",
       "    }\n",
       "</style>\n",
       "<table border=\"1\" class=\"dataframe\">\n",
       "  <thead>\n",
       "    <tr style=\"text-align: right;\">\n",
       "      <th></th>\n",
       "      <th>RECORD_TIME</th>\n",
       "    </tr>\n",
       "  </thead>\n",
       "  <tbody>\n",
       "    <tr>\n",
       "      <th>0</th>\n",
       "      <td>2021-11-01 20:00</td>\n",
       "    </tr>\n",
       "    <tr>\n",
       "      <th>1</th>\n",
       "      <td>2021-11-01 19:30</td>\n",
       "    </tr>\n",
       "  </tbody>\n",
       "</table>\n",
       "</div>"
      ],
      "text/plain": [
       "        RECORD_TIME\n",
       "0  2021-11-01 20:00\n",
       "1  2021-11-01 19:30"
      ]
     },
     "execution_count": 3,
     "metadata": {},
     "output_type": "execute_result"
    }
   ],
   "source": [
    "timestamps"
   ]
  },
  {
   "cell_type": "code",
   "execution_count": 4,
   "id": "alternate-victory",
   "metadata": {
    "execution": {
     "iopub.execute_input": "2021-11-01T19:00:09.153309Z",
     "iopub.status.busy": "2021-11-01T19:00:09.150797Z",
     "iopub.status.idle": "2021-11-01T19:00:10.209404Z",
     "shell.execute_reply": "2021-11-01T19:00:10.210772Z"
    },
    "papermill": {
     "duration": 1.092961,
     "end_time": "2021-11-01T19:00:10.211237",
     "exception": false,
     "start_time": "2021-11-01T19:00:09.118276",
     "status": "completed"
    },
    "tags": []
   },
   "outputs": [],
   "source": [
    "df = pd.read_sql(\"select * from EBAY_TOP_BERLIN where record_time in (select distinct record_time from EBAY_TOP_BERLIN order by record_time desc limit 2)\", sqlite3.connect(\"UsedObjects.db\"))"
   ]
  },
  {
   "cell_type": "code",
   "execution_count": 5,
   "id": "popular-active",
   "metadata": {
    "execution": {
     "iopub.execute_input": "2021-11-01T19:00:10.285532Z",
     "iopub.status.busy": "2021-11-01T19:00:10.271541Z",
     "iopub.status.idle": "2021-11-01T19:00:10.305954Z",
     "shell.execute_reply": "2021-11-01T19:00:10.304441Z"
    },
    "papermill": {
     "duration": 0.07449,
     "end_time": "2021-11-01T19:00:10.306373",
     "exception": false,
     "start_time": "2021-11-01T19:00:10.231883",
     "status": "completed"
    },
    "tags": []
   },
   "outputs": [],
   "source": [
    "df_pivot = df.pivot_table(index=\"PRODUCT\", columns = \"RECORD_TIME\", values = \"LISTING_COUNT\")"
   ]
  },
  {
   "cell_type": "code",
   "execution_count": 6,
   "id": "union-huntington",
   "metadata": {
    "execution": {
     "iopub.execute_input": "2021-11-01T19:00:10.390915Z",
     "iopub.status.busy": "2021-11-01T19:00:10.387092Z",
     "iopub.status.idle": "2021-11-01T19:00:10.399969Z",
     "shell.execute_reply": "2021-11-01T19:00:10.397745Z"
    },
    "papermill": {
     "duration": 0.070772,
     "end_time": "2021-11-01T19:00:10.400522",
     "exception": false,
     "start_time": "2021-11-01T19:00:10.329750",
     "status": "completed"
    },
    "tags": []
   },
   "outputs": [],
   "source": [
    "df_pivot.columns = [\"stamp_1\", \"stamp_2\"]\n",
    "df_pivot_diff = df_pivot.diff(axis=1)"
   ]
  },
  {
   "cell_type": "code",
   "execution_count": 7,
   "id": "fifth-motion",
   "metadata": {
    "execution": {
     "iopub.execute_input": "2021-11-01T19:00:10.461587Z",
     "iopub.status.busy": "2021-11-01T19:00:10.458978Z",
     "iopub.status.idle": "2021-11-01T19:00:12.351329Z",
     "shell.execute_reply": "2021-11-01T19:00:12.352750Z"
    },
    "papermill": {
     "duration": 1.929804,
     "end_time": "2021-11-01T19:00:12.353231",
     "exception": false,
     "start_time": "2021-11-01T19:00:10.423427",
     "status": "completed"
    },
    "tags": []
   },
   "outputs": [
    {
     "data": {
      "text/plain": [
       "<AxesSubplot:ylabel='PRODUCT'>"
      ]
     },
     "execution_count": 7,
     "metadata": {},
     "output_type": "execute_result"
    },
    {
     "data": {
      "image/png": "[encoded data removed]",
      "text/plain": [
       "<Figure size 432x288 with 1 Axes>"
      ]
     },
     "metadata": {
      "needs_background": "light"
     },
     "output_type": "display_data"
    }
   ],
   "source": [
    "df_pivot_diff.sort_values(\"stamp_2\", ascending = False)[\"stamp_2\"].head(10).plot.barh()"
   ]
  },
  {
   "cell_type": "code",
   "execution_count": null,
   "id": "extra-executive",
   "metadata": {
    "papermill": {
     "duration": 0.032387,
     "end_time": "2021-11-01T19:00:12.411500",
     "exception": false,
     "start_time": "2021-11-01T19:00:12.379113",
     "status": "completed"
    },
    "tags": []
   },
   "outputs": [],
   "source": []
  }
 ],
 "metadata": {
  "kernelspec": {
   "display_name": "Python 3",
   "language": "python",
   "name": "python3"
  },
  "language_info": {
   "codemirror_mode": {
    "name": "ipython",
    "version": 3
   },
   "file_extension": ".py",
   "mimetype": "text/x-python",
   "name": "python",
   "nbconvert_exporter": "python",
   "pygments_lexer": "ipython3",
   "version": "3.9.5"
  },
  "papermill": {
   "default_parameters": {},
   "duration": 8.720307,
   "end_time": "2021-11-01T19:00:13.283191",
   "environment_variables": {},
   "exception": null,
   "input_path": "eBay_Overview.ipynb",
   "output_path": "eBay_Overview.ipynb",
   "parameters": {},
   "start_time": "2021-11-01T19:00:04.562884",
   "version": "2.3.3"
  }
 },
 "nbformat": 4,
 "nbformat_minor": 5
}