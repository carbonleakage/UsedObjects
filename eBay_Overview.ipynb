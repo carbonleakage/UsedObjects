{
 "cells": [
  {
   "cell_type": "code",
   "execution_count": 1,
   "id": "reverse-picking",
   "metadata": {
    "execution": {
     "iopub.execute_input": "2021-11-21T20:30:07.773925Z",
     "iopub.status.busy": "2021-11-21T20:30:07.771646Z",
     "iopub.status.idle": "2021-11-21T20:30:08.729873Z",
     "shell.execute_reply": "2021-11-21T20:30:08.731424Z"
    },
    "papermill": {
     "duration": 1.006676,
     "end_time": "2021-11-21T20:30:08.732188",
     "exception": false,
     "start_time": "2021-11-21T20:30:07.725512",
     "status": "completed"
    },
    "tags": []
   },
   "outputs": [],
   "source": [
    "import pandas as pd\n",
    "import sqlite3"
   ]
  },
  {
   "cell_type": "code",
   "execution_count": 2,
   "id": "innovative-syndrome",
   "metadata": {
    "execution": {
     "iopub.execute_input": "2021-11-21T20:30:08.853901Z",
     "iopub.status.busy": "2021-11-21T20:30:08.851350Z",
     "iopub.status.idle": "2021-11-21T20:30:09.734974Z",
     "shell.execute_reply": "2021-11-21T20:30:09.736148Z"
    },
    "papermill": {
     "duration": 0.917069,
     "end_time": "2021-11-21T20:30:09.736601",
     "exception": false,
     "start_time": "2021-11-21T20:30:08.819532",
     "status": "completed"
    },
    "tags": []
   },
   "outputs": [],
   "source": [
    "timestamps = pd.read_sql(\"select distinct record_time from EBAY_TOP_BERLIN order by record_time desc limit 2\", sqlite3.connect(\"UsedObjects.db\"))"
   ]
  },
  {
   "cell_type": "code",
   "execution_count": 3,
   "id": "periodic-identification",
   "metadata": {
    "execution": {
     "iopub.execute_input": "2021-11-21T20:30:09.803814Z",
     "iopub.status.busy": "2021-11-21T20:30:09.801279Z",
     "iopub.status.idle": "2021-11-21T20:30:09.824303Z",
     "shell.execute_reply": "2021-11-21T20:30:09.825733Z"
    },
    "papermill": {
     "duration": 0.07015,
     "end_time": "2021-11-21T20:30:09.826213",
     "exception": false,
     "start_time": "2021-11-21T20:30:09.756063",
     "status": "completed"
    },
    "tags": []
   },
   "outputs": [
    {
     "data": {
      "text/html": [
       "<div>\n",
       "<style scoped>\n",
       "    .dataframe tbody tr th:only-of-type {\n",
       "        vertical-align: middle;\n",
       "    }\n",
       "\n",
       "    .dataframe tbody tr th {\n",
       "        vertical-align: top;\n",
       "    }\n",
       "\n",
       "    .dataframe thead th {\n",
       "        text-align: right;\n",
       "    }\n",
       "</style>\n",
       "<table border=\"1\" class=\"dataframe\">\n",
       "  <thead>\n",
       "    <tr style=\"text-align: right;\">\n",
       "      <th></th>\n",
       "      <th>RECORD_TIME</th>\n",
       "    </tr>\n",
       "  </thead>\n",
       "  <tbody>\n",
       "    <tr>\n",
       "      <th>0</th>\n",
       "      <td>2021-11-21 21:30</td>\n",
       "    </tr>\n",
       "    <tr>\n",
       "      <th>1</th>\n",
       "      <td>2021-11-21 21:00</td>\n",
       "    </tr>\n",
       "  </tbody>\n",
       "</table>\n",
       "</div>"
      ],
      "text/plain": [
       "        RECORD_TIME\n",
       "0  2021-11-21 21:30\n",
       "1  2021-11-21 21:00"
      ]
     },
     "execution_count": 3,
     "metadata": {},
     "output_type": "execute_result"
    }
   ],
   "source": [
    "timestamps"
   ]
  },
  {
   "cell_type": "code",
   "execution_count": 4,
   "id": "alternate-victory",
   "metadata": {
    "execution": {
     "iopub.execute_input": "2021-11-21T20:30:09.880480Z",
     "iopub.status.busy": "2021-11-21T20:30:09.878517Z",
     "iopub.status.idle": "2021-11-21T20:30:11.165625Z",
     "shell.execute_reply": "2021-11-21T20:30:11.167436Z"
    },
    "papermill": {
     "duration": 1.321374,
     "end_time": "2021-11-21T20:30:11.167955",
     "exception": false,
     "start_time": "2021-11-21T20:30:09.846581",
     "status": "completed"
    },
    "tags": []
   },
   "outputs": [],
   "source": [
    "df = pd.read_sql(\"select * from EBAY_TOP_BERLIN where record_time in (select distinct record_time from EBAY_TOP_BERLIN order by record_time desc limit 2)\", sqlite3.connect(\"UsedObjects.db\"))"
   ]
  },
  {
   "cell_type": "code",
   "execution_count": 5,
   "id": "popular-active",
   "metadata": {
    "execution": {
     "iopub.execute_input": "2021-11-21T20:30:11.232804Z",
     "iopub.status.busy": "2021-11-21T20:30:11.228541Z",
     "iopub.status.idle": "2021-11-21T20:30:11.260799Z",
     "shell.execute_reply": "2021-11-21T20:30:11.262177Z"
    },
    "papermill": {
     "duration": 0.072588,
     "end_time": "2021-11-21T20:30:11.262648",
     "exception": false,
     "start_time": "2021-11-21T20:30:11.190060",
     "status": "completed"
    },
    "tags": []
   },
   "outputs": [],
   "source": [
    "df_pivot = df.pivot_table(index=\"PRODUCT\", columns = \"RECORD_TIME\", values = \"LISTING_COUNT\")"
   ]
  },
  {
   "cell_type": "code",
   "execution_count": 6,
   "id": "union-huntington",
   "metadata": {
    "execution": {
     "iopub.execute_input": "2021-11-21T20:30:11.326977Z",
     "iopub.status.busy": "2021-11-21T20:30:11.324302Z",
     "iopub.status.idle": "2021-11-21T20:30:11.335366Z",
     "shell.execute_reply": "2021-11-21T20:30:11.331207Z"
    },
    "papermill": {
     "duration": 0.053434,
     "end_time": "2021-11-21T20:30:11.336167",
     "exception": false,
     "start_time": "2021-11-21T20:30:11.282733",
     "status": "completed"
    },
    "tags": []
   },
   "outputs": [],
   "source": [
    "df_pivot.columns = [\"stamp_1\", \"stamp_2\"]\n",
    "df_pivot_diff = df_pivot.diff(axis=1)"
   ]
  },
  {
   "cell_type": "code",
   "execution_count": 7,
   "id": "fifth-motion",
   "metadata": {
    "execution": {
     "iopub.execute_input": "2021-11-21T20:30:11.426054Z",
     "iopub.status.busy": "2021-11-21T20:30:11.414492Z",
     "iopub.status.idle": "2021-11-21T20:30:13.190256Z",
     "shell.execute_reply": "2021-11-21T20:30:13.193264Z"
    },
    "papermill": {
     "duration": 1.825123,
     "end_time": "2021-11-21T20:30:13.194094",
     "exception": false,
     "start_time": "2021-11-21T20:30:11.368971",
     "status": "completed"
    },
    "tags": []
   },
   "outputs": [
    {
     "data": {
      "text/plain": [
       "<AxesSubplot:ylabel='PRODUCT'>"
      ]
     },
     "execution_count": 7,
     "metadata": {},
     "output_type": "execute_result"
    },
    {
     "data": {
      "image/png": "[encoded data removed]",
      "text/plain": [
       "<Figure size 432x288 with 1 Axes>"
      ]
     },
     "metadata": {
      "needs_background": "light"
     },
     "output_type": "display_data"
    }
   ],
   "source": [
    "df_pivot_diff.sort_values(\"stamp_2\", ascending = False)[\"stamp_2\"].head(10).plot.barh()"
   ]
  },
  {
   "cell_type": "code",
   "execution_count": null,
   "id": "extra-executive",
   "metadata": {
    "papermill": {
     "duration": 0.033358,
     "end_time": "2021-11-21T20:30:13.265641",
     "exception": false,
     "start_time": "2021-11-21T20:30:13.232283",
     "status": "completed"
    },
    "tags": []
   },
   "outputs": [],
   "source": []
  }
 ],
 "metadata": {
  "kernelspec": {
   "display_name": "Python 3",
   "language": "python",
   "name": "python3"
  },
  "language_info": {
   "codemirror_mode": {
    "name": "ipython",
    "version": 3
   },
   "file_extension": ".py",
   "mimetype": "text/x-python",
   "name": "python",
   "nbconvert_exporter": "python",
   "pygments_lexer": "ipython3",
   "version": "3.9.5"
  },
  "papermill": {
   "default_parameters": {},
   "duration": 9.978985,
   "end_time": "2021-11-21T20:30:14.927135",
   "environment_variables": {},
   "exception": null,
   "input_path": "eBay_Overview.ipynb",
   "output_path": "eBay_Overview.ipynb",
   "parameters": {},
   "start_time": "2021-11-21T20:30:04.948150",
   "version": "2.3.3"
  }
 },
 "nbformat": 4,
 "nbformat_minor": 5
}