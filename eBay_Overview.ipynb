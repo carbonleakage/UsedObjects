{
 "cells": [
  {
   "cell_type": "code",
   "execution_count": 1,
   "id": "reverse-picking",
   "metadata": {
    "execution": {
     "iopub.execute_input": "2021-09-08T17:00:07.440835Z",
     "iopub.status.busy": "2021-09-08T17:00:07.438918Z",
     "iopub.status.idle": "2021-09-08T17:00:08.249637Z",
     "shell.execute_reply": "2021-09-08T17:00:08.251051Z"
    },
    "papermill": {
     "duration": 0.862847,
     "end_time": "2021-09-08T17:00:08.251745",
     "exception": false,
     "start_time": "2021-09-08T17:00:07.388898",
     "status": "completed"
    },
    "tags": []
   },
   "outputs": [],
   "source": [
    "import pandas as pd\n",
    "import sqlite3"
   ]
  },
  {
   "cell_type": "code",
   "execution_count": 2,
   "id": "innovative-syndrome",
   "metadata": {
    "execution": {
     "iopub.execute_input": "2021-09-08T17:00:08.302133Z",
     "iopub.status.busy": "2021-09-08T17:00:08.299979Z",
     "iopub.status.idle": "2021-09-08T17:00:08.537314Z",
     "shell.execute_reply": "2021-09-08T17:00:08.538522Z"
    },
    "papermill": {
     "duration": 0.267086,
     "end_time": "2021-09-08T17:00:08.538982",
     "exception": false,
     "start_time": "2021-09-08T17:00:08.271896",
     "status": "completed"
    },
    "tags": []
   },
   "outputs": [],
   "source": [
    "timestamps = pd.read_sql(\"select distinct record_time from EBAY_TOP_BERLIN order by record_time desc limit 2\", sqlite3.connect(\"UsedObjects.db\"))"
   ]
  },
  {
   "cell_type": "code",
   "execution_count": 3,
   "id": "periodic-identification",
   "metadata": {
    "execution": {
     "iopub.execute_input": "2021-09-08T17:00:08.603785Z",
     "iopub.status.busy": "2021-09-08T17:00:08.601685Z",
     "iopub.status.idle": "2021-09-08T17:00:08.621576Z",
     "shell.execute_reply": "2021-09-08T17:00:08.622847Z"
    },
    "papermill": {
     "duration": 0.065096,
     "end_time": "2021-09-08T17:00:08.623420",
     "exception": false,
     "start_time": "2021-09-08T17:00:08.558324",
     "status": "completed"
    },
    "tags": []
   },
   "outputs": [
    {
     "data": {
      "text/html": [
       "<div>\n",
       "<style scoped>\n",
       "    .dataframe tbody tr th:only-of-type {\n",
       "        vertical-align: middle;\n",
       "    }\n",
       "\n",
       "    .dataframe tbody tr th {\n",
       "        vertical-align: top;\n",
       "    }\n",
       "\n",
       "    .dataframe thead th {\n",
       "        text-align: right;\n",
       "    }\n",
       "</style>\n",
       "<table border=\"1\" class=\"dataframe\">\n",
       "  <thead>\n",
       "    <tr style=\"text-align: right;\">\n",
       "      <th></th>\n",
       "      <th>RECORD_TIME</th>\n",
       "    </tr>\n",
       "  </thead>\n",
       "  <tbody>\n",
       "    <tr>\n",
       "      <th>0</th>\n",
       "      <td>2021-09-08 19:00</td>\n",
       "    </tr>\n",
       "    <tr>\n",
       "      <th>1</th>\n",
       "      <td>2021-09-08 18:30</td>\n",
       "    </tr>\n",
       "  </tbody>\n",
       "</table>\n",
       "</div>"
      ],
      "text/plain": [
       "        RECORD_TIME\n",
       "0  2021-09-08 19:00\n",
       "1  2021-09-08 18:30"
      ]
     },
     "execution_count": 3,
     "metadata": {},
     "output_type": "execute_result"
    }
   ],
   "source": [
    "timestamps"
   ]
  },
  {
   "cell_type": "code",
   "execution_count": 4,
   "id": "alternate-victory",
   "metadata": {
    "execution": {
     "iopub.execute_input": "2021-09-08T17:00:08.674698Z",
     "iopub.status.busy": "2021-09-08T17:00:08.672872Z",
     "iopub.status.idle": "2021-09-08T17:00:09.020906Z",
     "shell.execute_reply": "2021-09-08T17:00:09.022118Z"
    },
    "papermill": {
     "duration": 0.378064,
     "end_time": "2021-09-08T17:00:09.022516",
     "exception": false,
     "start_time": "2021-09-08T17:00:08.644452",
     "status": "completed"
    },
    "tags": []
   },
   "outputs": [],
   "source": [
    "df = pd.read_sql(\"select * from EBAY_TOP_BERLIN where record_time in (select distinct record_time from EBAY_TOP_BERLIN order by record_time desc limit 2)\", sqlite3.connect(\"UsedObjects.db\"))"
   ]
  },
  {
   "cell_type": "code",
   "execution_count": 5,
   "id": "popular-active",
   "metadata": {
    "execution": {
     "iopub.execute_input": "2021-09-08T17:00:09.103849Z",
     "iopub.status.busy": "2021-09-08T17:00:09.092318Z",
     "iopub.status.idle": "2021-09-08T17:00:09.121070Z",
     "shell.execute_reply": "2021-09-08T17:00:09.122345Z"
    },
    "papermill": {
     "duration": 0.072738,
     "end_time": "2021-09-08T17:00:09.122756",
     "exception": false,
     "start_time": "2021-09-08T17:00:09.050018",
     "status": "completed"
    },
    "tags": []
   },
   "outputs": [],
   "source": [
    "df_pivot = df.pivot_table(index=\"PRODUCT\", columns = \"RECORD_TIME\", values = \"LISTING_COUNT\")"
   ]
  },
  {
   "cell_type": "code",
   "execution_count": 6,
   "id": "union-huntington",
   "metadata": {
    "execution": {
     "iopub.execute_input": "2021-09-08T17:00:09.179456Z",
     "iopub.status.busy": "2021-09-08T17:00:09.177331Z",
     "iopub.status.idle": "2021-09-08T17:00:09.182710Z",
     "shell.execute_reply": "2021-09-08T17:00:09.184069Z"
    },
    "papermill": {
     "duration": 0.041536,
     "end_time": "2021-09-08T17:00:09.184489",
     "exception": false,
     "start_time": "2021-09-08T17:00:09.142953",
     "status": "completed"
    },
    "tags": []
   },
   "outputs": [],
   "source": [
    "df_pivot.columns = [\"stamp_1\", \"stamp_2\"]\n",
    "df_pivot_diff = df_pivot.diff(axis=1)"
   ]
  },
  {
   "cell_type": "code",
   "execution_count": 7,
   "id": "fifth-motion",
   "metadata": {
    "execution": {
     "iopub.execute_input": "2021-09-08T17:00:09.240054Z",
     "iopub.status.busy": "2021-09-08T17:00:09.237495Z",
     "iopub.status.idle": "2021-09-08T17:00:10.720526Z",
     "shell.execute_reply": "2021-09-08T17:00:10.721815Z"
    },
    "papermill": {
     "duration": 1.516325,
     "end_time": "2021-09-08T17:00:10.722234",
     "exception": false,
     "start_time": "2021-09-08T17:00:09.205909",
     "status": "completed"
    },
    "tags": []
   },
   "outputs": [
    {
     "data": {
      "text/plain": [
       "<AxesSubplot:ylabel='PRODUCT'>"
      ]
     },
     "execution_count": 7,
     "metadata": {},
     "output_type": "execute_result"
    },
    {
     "data": {
      "image/png": "[encoded data removed]",
      "text/plain": [
       "<Figure size 432x288 with 1 Axes>"
      ]
     },
     "metadata": {
      "needs_background": "light"
     },
     "output_type": "display_data"
    }
   ],
   "source": [
    "df_pivot_diff.sort_values(\"stamp_2\", ascending = False)[\"stamp_2\"].head(10).plot.barh()"
   ]
  },
  {
   "cell_type": "code",
   "execution_count": null,
   "id": "extra-executive",
   "metadata": {
    "papermill": {
     "duration": 0.02211,
     "end_time": "2021-09-08T17:00:10.767969",
     "exception": false,
     "start_time": "2021-09-08T17:00:10.745859",
     "status": "completed"
    },
    "tags": []
   },
   "outputs": [],
   "source": []
  }
 ],
 "metadata": {
  "kernelspec": {
   "display_name": "Python 3",
   "language": "python",
   "name": "python3"
  },
  "language_info": {
   "codemirror_mode": {
    "name": "ipython",
    "version": 3
   },
   "file_extension": ".py",
   "mimetype": "text/x-python",
   "name": "python",
   "nbconvert_exporter": "python",
   "pygments_lexer": "ipython3",
   "version": "3.9.5"
  },
  "papermill": {
   "default_parameters": {},
   "duration": 6.438763,
   "end_time": "2021-09-08T17:00:11.409604",
   "environment_variables": {},
   "exception": null,
   "input_path": "eBay_Overview.ipynb",
   "output_path": "eBay_Overview.ipynb",
   "parameters": {},
   "start_time": "2021-09-08T17:00:04.970841",
   "version": "2.3.3"
  }
 },
 "nbformat": 4,
 "nbformat_minor": 5
}