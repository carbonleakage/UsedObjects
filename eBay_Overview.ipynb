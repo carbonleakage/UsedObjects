{
 "cells": [
  {
   "cell_type": "code",
   "execution_count": 1,
   "id": "reverse-picking",
   "metadata": {
    "execution": {
     "iopub.execute_input": "2021-10-22T14:00:07.489937Z",
     "iopub.status.busy": "2021-10-22T14:00:07.487858Z",
     "iopub.status.idle": "2021-10-22T14:00:08.291793Z",
     "shell.execute_reply": "2021-10-22T14:00:08.293134Z"
    },
    "papermill": {
     "duration": 0.853645,
     "end_time": "2021-10-22T14:00:08.293775",
     "exception": false,
     "start_time": "2021-10-22T14:00:07.440130",
     "status": "completed"
    },
    "tags": []
   },
   "outputs": [],
   "source": [
    "import pandas as pd\n",
    "import sqlite3"
   ]
  },
  {
   "cell_type": "code",
   "execution_count": 2,
   "id": "innovative-syndrome",
   "metadata": {
    "execution": {
     "iopub.execute_input": "2021-10-22T14:00:08.346478Z",
     "iopub.status.busy": "2021-10-22T14:00:08.344188Z",
     "iopub.status.idle": "2021-10-22T14:00:08.941735Z",
     "shell.execute_reply": "2021-10-22T14:00:08.943018Z"
    },
    "papermill": {
     "duration": 0.627236,
     "end_time": "2021-10-22T14:00:08.943419",
     "exception": false,
     "start_time": "2021-10-22T14:00:08.316183",
     "status": "completed"
    },
    "tags": []
   },
   "outputs": [],
   "source": [
    "timestamps = pd.read_sql(\"select distinct record_time from EBAY_TOP_BERLIN order by record_time desc limit 2\", sqlite3.connect(\"UsedObjects.db\"))"
   ]
  },
  {
   "cell_type": "code",
   "execution_count": 3,
   "id": "periodic-identification",
   "metadata": {
    "execution": {
     "iopub.execute_input": "2021-10-22T14:00:09.020226Z",
     "iopub.status.busy": "2021-10-22T14:00:09.015207Z",
     "iopub.status.idle": "2021-10-22T14:00:09.034985Z",
     "shell.execute_reply": "2021-10-22T14:00:09.036117Z"
    },
    "papermill": {
     "duration": 0.068082,
     "end_time": "2021-10-22T14:00:09.036526",
     "exception": false,
     "start_time": "2021-10-22T14:00:08.968444",
     "status": "completed"
    },
    "tags": []
   },
   "outputs": [
    {
     "data": {
      "text/html": [
       "<div>\n",
       "<style scoped>\n",
       "    .dataframe tbody tr th:only-of-type {\n",
       "        vertical-align: middle;\n",
       "    }\n",
       "\n",
       "    .dataframe tbody tr th {\n",
       "        vertical-align: top;\n",
       "    }\n",
       "\n",
       "    .dataframe thead th {\n",
       "        text-align: right;\n",
       "    }\n",
       "</style>\n",
       "<table border=\"1\" class=\"dataframe\">\n",
       "  <thead>\n",
       "    <tr style=\"text-align: right;\">\n",
       "      <th></th>\n",
       "      <th>RECORD_TIME</th>\n",
       "    </tr>\n",
       "  </thead>\n",
       "  <tbody>\n",
       "    <tr>\n",
       "      <th>0</th>\n",
       "      <td>2021-10-22 16:00</td>\n",
       "    </tr>\n",
       "    <tr>\n",
       "      <th>1</th>\n",
       "      <td>2021-10-22 15:30</td>\n",
       "    </tr>\n",
       "  </tbody>\n",
       "</table>\n",
       "</div>"
      ],
      "text/plain": [
       "        RECORD_TIME\n",
       "0  2021-10-22 16:00\n",
       "1  2021-10-22 15:30"
      ]
     },
     "execution_count": 3,
     "metadata": {},
     "output_type": "execute_result"
    }
   ],
   "source": [
    "timestamps"
   ]
  },
  {
   "cell_type": "code",
   "execution_count": 4,
   "id": "alternate-victory",
   "metadata": {
    "execution": {
     "iopub.execute_input": "2021-10-22T14:00:09.090997Z",
     "iopub.status.busy": "2021-10-22T14:00:09.088810Z",
     "iopub.status.idle": "2021-10-22T14:00:09.971489Z",
     "shell.execute_reply": "2021-10-22T14:00:09.972756Z"
    },
    "papermill": {
     "duration": 0.91313,
     "end_time": "2021-10-22T14:00:09.973201",
     "exception": false,
     "start_time": "2021-10-22T14:00:09.060071",
     "status": "completed"
    },
    "tags": []
   },
   "outputs": [],
   "source": [
    "df = pd.read_sql(\"select * from EBAY_TOP_BERLIN where record_time in (select distinct record_time from EBAY_TOP_BERLIN order by record_time desc limit 2)\", sqlite3.connect(\"UsedObjects.db\"))"
   ]
  },
  {
   "cell_type": "code",
   "execution_count": 5,
   "id": "popular-active",
   "metadata": {
    "execution": {
     "iopub.execute_input": "2021-10-22T14:00:10.044627Z",
     "iopub.status.busy": "2021-10-22T14:00:10.032130Z",
     "iopub.status.idle": "2021-10-22T14:00:10.062723Z",
     "shell.execute_reply": "2021-10-22T14:00:10.064102Z"
    },
    "papermill": {
     "duration": 0.070784,
     "end_time": "2021-10-22T14:00:10.064537",
     "exception": false,
     "start_time": "2021-10-22T14:00:09.993753",
     "status": "completed"
    },
    "tags": []
   },
   "outputs": [],
   "source": [
    "df_pivot = df.pivot_table(index=\"PRODUCT\", columns = \"RECORD_TIME\", values = \"LISTING_COUNT\")"
   ]
  },
  {
   "cell_type": "code",
   "execution_count": 6,
   "id": "union-huntington",
   "metadata": {
    "execution": {
     "iopub.execute_input": "2021-10-22T14:00:10.124311Z",
     "iopub.status.busy": "2021-10-22T14:00:10.121859Z",
     "iopub.status.idle": "2021-10-22T14:00:10.127683Z",
     "shell.execute_reply": "2021-10-22T14:00:10.129047Z"
    },
    "papermill": {
     "duration": 0.042307,
     "end_time": "2021-10-22T14:00:10.129469",
     "exception": false,
     "start_time": "2021-10-22T14:00:10.087162",
     "status": "completed"
    },
    "tags": []
   },
   "outputs": [],
   "source": [
    "df_pivot.columns = [\"stamp_1\", \"stamp_2\"]\n",
    "df_pivot_diff = df_pivot.diff(axis=1)"
   ]
  },
  {
   "cell_type": "code",
   "execution_count": 7,
   "id": "fifth-motion",
   "metadata": {
    "execution": {
     "iopub.execute_input": "2021-10-22T14:00:10.184105Z",
     "iopub.status.busy": "2021-10-22T14:00:10.181843Z",
     "iopub.status.idle": "2021-10-22T14:00:11.663590Z",
     "shell.execute_reply": "2021-10-22T14:00:11.664979Z"
    },
    "papermill": {
     "duration": 1.515167,
     "end_time": "2021-10-22T14:00:11.665443",
     "exception": false,
     "start_time": "2021-10-22T14:00:10.150276",
     "status": "completed"
    },
    "tags": []
   },
   "outputs": [
    {
     "data": {
      "text/plain": [
       "<AxesSubplot:ylabel='PRODUCT'>"
      ]
     },
     "execution_count": 7,
     "metadata": {},
     "output_type": "execute_result"
    },
    {
     "data": {
      "image/png": "[encoded data removed]",
      "text/plain": [
       "<Figure size 432x288 with 1 Axes>"
      ]
     },
     "metadata": {
      "needs_background": "light"
     },
     "output_type": "display_data"
    }
   ],
   "source": [
    "df_pivot_diff.sort_values(\"stamp_2\", ascending = False)[\"stamp_2\"].head(10).plot.barh()"
   ]
  },
  {
   "cell_type": "code",
   "execution_count": null,
   "id": "extra-executive",
   "metadata": {
    "papermill": {
     "duration": 0.022412,
     "end_time": "2021-10-22T14:00:11.712804",
     "exception": false,
     "start_time": "2021-10-22T14:00:11.690392",
     "status": "completed"
    },
    "tags": []
   },
   "outputs": [],
   "source": []
  }
 ],
 "metadata": {
  "kernelspec": {
   "display_name": "Python 3",
   "language": "python",
   "name": "python3"
  },
  "language_info": {
   "codemirror_mode": {
    "name": "ipython",
    "version": 3
   },
   "file_extension": ".py",
   "mimetype": "text/x-python",
   "name": "python",
   "nbconvert_exporter": "python",
   "pygments_lexer": "ipython3",
   "version": "3.9.5"
  },
  "papermill": {
   "default_parameters": {},
   "duration": 7.326492,
   "end_time": "2021-10-22T14:00:12.357423",
   "environment_variables": {},
   "exception": null,
   "input_path": "eBay_Overview.ipynb",
   "output_path": "eBay_Overview.ipynb",
   "parameters": {},
   "start_time": "2021-10-22T14:00:05.030931",
   "version": "2.3.3"
  }
 },
 "nbformat": 4,
 "nbformat_minor": 5
}