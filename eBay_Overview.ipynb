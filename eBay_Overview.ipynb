{
 "cells": [
  {
   "cell_type": "code",
   "execution_count": 1,
   "id": "reverse-picking",
   "metadata": {
    "execution": {
     "iopub.execute_input": "2021-12-16T18:00:08.217395Z",
     "iopub.status.busy": "2021-12-16T18:00:08.214855Z",
     "iopub.status.idle": "2021-12-16T18:00:09.187203Z",
     "shell.execute_reply": "2021-12-16T18:00:09.188764Z"
    },
    "papermill": {
     "duration": 1.022552,
     "end_time": "2021-12-16T18:00:09.189508",
     "exception": false,
     "start_time": "2021-12-16T18:00:08.166956",
     "status": "completed"
    },
    "tags": []
   },
   "outputs": [],
   "source": [
    "import pandas as pd\n",
    "import sqlite3"
   ]
  },
  {
   "cell_type": "code",
   "execution_count": 2,
   "id": "innovative-syndrome",
   "metadata": {
    "execution": {
     "iopub.execute_input": "2021-12-16T18:00:09.253577Z",
     "iopub.status.busy": "2021-12-16T18:00:09.251162Z",
     "iopub.status.idle": "2021-12-16T18:00:10.347607Z",
     "shell.execute_reply": "2021-12-16T18:00:10.349447Z"
    },
    "papermill": {
     "duration": 1.13054,
     "end_time": "2021-12-16T18:00:10.349981",
     "exception": false,
     "start_time": "2021-12-16T18:00:09.219441",
     "status": "completed"
    },
    "tags": []
   },
   "outputs": [],
   "source": [
    "timestamps = pd.read_sql(\"select distinct record_time from EBAY_TOP_BERLIN order by record_time desc limit 2\", sqlite3.connect(\"UsedObjects.db\"))"
   ]
  },
  {
   "cell_type": "code",
   "execution_count": 3,
   "id": "periodic-identification",
   "metadata": {
    "execution": {
     "iopub.execute_input": "2021-12-16T18:00:10.413060Z",
     "iopub.status.busy": "2021-12-16T18:00:10.410718Z",
     "iopub.status.idle": "2021-12-16T18:00:10.451315Z",
     "shell.execute_reply": "2021-12-16T18:00:10.452771Z"
    },
    "papermill": {
     "duration": 0.08094,
     "end_time": "2021-12-16T18:00:10.453295",
     "exception": false,
     "start_time": "2021-12-16T18:00:10.372355",
     "status": "completed"
    },
    "tags": []
   },
   "outputs": [
    {
     "data": {
      "text/html": [
       "<div>\n",
       "<style scoped>\n",
       "    .dataframe tbody tr th:only-of-type {\n",
       "        vertical-align: middle;\n",
       "    }\n",
       "\n",
       "    .dataframe tbody tr th {\n",
       "        vertical-align: top;\n",
       "    }\n",
       "\n",
       "    .dataframe thead th {\n",
       "        text-align: right;\n",
       "    }\n",
       "</style>\n",
       "<table border=\"1\" class=\"dataframe\">\n",
       "  <thead>\n",
       "    <tr style=\"text-align: right;\">\n",
       "      <th></th>\n",
       "      <th>RECORD_TIME</th>\n",
       "    </tr>\n",
       "  </thead>\n",
       "  <tbody>\n",
       "    <tr>\n",
       "      <th>0</th>\n",
       "      <td>2021-12-16 19:00</td>\n",
       "    </tr>\n",
       "    <tr>\n",
       "      <th>1</th>\n",
       "      <td>2021-12-16 18:30</td>\n",
       "    </tr>\n",
       "  </tbody>\n",
       "</table>\n",
       "</div>"
      ],
      "text/plain": [
       "        RECORD_TIME\n",
       "0  2021-12-16 19:00\n",
       "1  2021-12-16 18:30"
      ]
     },
     "execution_count": 3,
     "metadata": {},
     "output_type": "execute_result"
    }
   ],
   "source": [
    "timestamps"
   ]
  },
  {
   "cell_type": "code",
   "execution_count": 4,
   "id": "alternate-victory",
   "metadata": {
    "execution": {
     "iopub.execute_input": "2021-12-16T18:00:10.509099Z",
     "iopub.status.busy": "2021-12-16T18:00:10.506761Z",
     "iopub.status.idle": "2021-12-16T18:00:12.164941Z",
     "shell.execute_reply": "2021-12-16T18:00:12.166785Z"
    },
    "papermill": {
     "duration": 1.692287,
     "end_time": "2021-12-16T18:00:12.167303",
     "exception": false,
     "start_time": "2021-12-16T18:00:10.475016",
     "status": "completed"
    },
    "tags": []
   },
   "outputs": [],
   "source": [
    "df = pd.read_sql(\"select * from EBAY_TOP_BERLIN where record_time in (select distinct record_time from EBAY_TOP_BERLIN order by record_time desc limit 2)\", sqlite3.connect(\"UsedObjects.db\"))"
   ]
  },
  {
   "cell_type": "code",
   "execution_count": 5,
   "id": "popular-active",
   "metadata": {
    "execution": {
     "iopub.execute_input": "2021-12-16T18:00:12.244448Z",
     "iopub.status.busy": "2021-12-16T18:00:12.231060Z",
     "iopub.status.idle": "2021-12-16T18:00:12.262375Z",
     "shell.execute_reply": "2021-12-16T18:00:12.263720Z"
    },
    "papermill": {
     "duration": 0.073956,
     "end_time": "2021-12-16T18:00:12.264191",
     "exception": false,
     "start_time": "2021-12-16T18:00:12.190235",
     "status": "completed"
    },
    "tags": []
   },
   "outputs": [],
   "source": [
    "df_pivot = df.pivot_table(index=\"PRODUCT\", columns = \"RECORD_TIME\", values = \"LISTING_COUNT\")"
   ]
  },
  {
   "cell_type": "code",
   "execution_count": 6,
   "id": "union-huntington",
   "metadata": {
    "execution": {
     "iopub.execute_input": "2021-12-16T18:00:12.323069Z",
     "iopub.status.busy": "2021-12-16T18:00:12.320557Z",
     "iopub.status.idle": "2021-12-16T18:00:12.327057Z",
     "shell.execute_reply": "2021-12-16T18:00:12.328535Z"
    },
    "papermill": {
     "duration": 0.045139,
     "end_time": "2021-12-16T18:00:12.329136",
     "exception": false,
     "start_time": "2021-12-16T18:00:12.283997",
     "status": "completed"
    },
    "tags": []
   },
   "outputs": [],
   "source": [
    "df_pivot.columns = [\"stamp_1\", \"stamp_2\"]\n",
    "df_pivot_diff = df_pivot.diff(axis=1)"
   ]
  },
  {
   "cell_type": "code",
   "execution_count": 7,
   "id": "fifth-motion",
   "metadata": {
    "execution": {
     "iopub.execute_input": "2021-12-16T18:00:12.391790Z",
     "iopub.status.busy": "2021-12-16T18:00:12.387741Z",
     "iopub.status.idle": "2021-12-16T18:00:14.352208Z",
     "shell.execute_reply": "2021-12-16T18:00:14.353560Z"
    },
    "papermill": {
     "duration": 2.002871,
     "end_time": "2021-12-16T18:00:14.354029",
     "exception": false,
     "start_time": "2021-12-16T18:00:12.351158",
     "status": "completed"
    },
    "tags": []
   },
   "outputs": [
    {
     "data": {
      "text/plain": [
       "<AxesSubplot:ylabel='PRODUCT'>"
      ]
     },
     "execution_count": 7,
     "metadata": {},
     "output_type": "execute_result"
    },
    {
     "data": {
      "image/png": "[encoded data removed]",
      "text/plain": [
       "<Figure size 432x288 with 1 Axes>"
      ]
     },
     "metadata": {
      "needs_background": "light"
     },
     "output_type": "display_data"
    }
   ],
   "source": [
    "df_pivot_diff.sort_values(\"stamp_2\", ascending = False)[\"stamp_2\"].head(10).plot.barh()"
   ]
  },
  {
   "cell_type": "code",
   "execution_count": null,
   "id": "extra-executive",
   "metadata": {
    "papermill": {
     "duration": 0.022216,
     "end_time": "2021-12-16T18:00:14.401528",
     "exception": false,
     "start_time": "2021-12-16T18:00:14.379312",
     "status": "completed"
    },
    "tags": []
   },
   "outputs": [],
   "source": []
  }
 ],
 "metadata": {
  "kernelspec": {
   "display_name": "Python 3",
   "language": "python",
   "name": "python3"
  },
  "language_info": {
   "codemirror_mode": {
    "name": "ipython",
    "version": 3
   },
   "file_extension": ".py",
   "mimetype": "text/x-python",
   "name": "python",
   "nbconvert_exporter": "python",
   "pygments_lexer": "ipython3",
   "version": "3.9.5"
  },
  "papermill": {
   "default_parameters": {},
   "duration": 9.617724,
   "end_time": "2021-12-16T18:00:15.044543",
   "environment_variables": {},
   "exception": null,
   "input_path": "eBay_Overview.ipynb",
   "output_path": "eBay_Overview.ipynb",
   "parameters": {},
   "start_time": "2021-12-16T18:00:05.426819",
   "version": "2.3.3"
  }
 },
 "nbformat": 4,
 "nbformat_minor": 5
}