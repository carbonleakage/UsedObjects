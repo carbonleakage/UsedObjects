{
 "cells": [
  {
   "cell_type": "code",
   "execution_count": 1,
   "id": "reverse-picking",
   "metadata": {
    "execution": {
     "iopub.execute_input": "2021-12-08T05:00:07.178939Z",
     "iopub.status.busy": "2021-12-08T05:00:07.176569Z",
     "iopub.status.idle": "2021-12-08T05:00:08.134415Z",
     "shell.execute_reply": "2021-12-08T05:00:08.135862Z"
    },
    "papermill": {
     "duration": 1.008119,
     "end_time": "2021-12-08T05:00:08.136575",
     "exception": false,
     "start_time": "2021-12-08T05:00:07.128456",
     "status": "completed"
    },
    "tags": []
   },
   "outputs": [],
   "source": [
    "import pandas as pd\n",
    "import sqlite3"
   ]
  },
  {
   "cell_type": "code",
   "execution_count": 2,
   "id": "innovative-syndrome",
   "metadata": {
    "execution": {
     "iopub.execute_input": "2021-12-08T05:00:08.196672Z",
     "iopub.status.busy": "2021-12-08T05:00:08.194561Z",
     "iopub.status.idle": "2021-12-08T05:00:09.214002Z",
     "shell.execute_reply": "2021-12-08T05:00:09.215627Z"
    },
    "papermill": {
     "duration": 1.052395,
     "end_time": "2021-12-08T05:00:09.216150",
     "exception": false,
     "start_time": "2021-12-08T05:00:08.163755",
     "status": "completed"
    },
    "tags": []
   },
   "outputs": [],
   "source": [
    "timestamps = pd.read_sql(\"select distinct record_time from EBAY_TOP_BERLIN order by record_time desc limit 2\", sqlite3.connect(\"UsedObjects.db\"))"
   ]
  },
  {
   "cell_type": "code",
   "execution_count": 3,
   "id": "periodic-identification",
   "metadata": {
    "execution": {
     "iopub.execute_input": "2021-12-08T05:00:09.306261Z",
     "iopub.status.busy": "2021-12-08T05:00:09.297362Z",
     "iopub.status.idle": "2021-12-08T05:00:09.337965Z",
     "shell.execute_reply": "2021-12-08T05:00:09.339452Z"
    },
    "papermill": {
     "duration": 0.103488,
     "end_time": "2021-12-08T05:00:09.340066",
     "exception": false,
     "start_time": "2021-12-08T05:00:09.236578",
     "status": "completed"
    },
    "tags": []
   },
   "outputs": [
    {
     "data": {
      "text/html": [
       "<div>\n",
       "<style scoped>\n",
       "    .dataframe tbody tr th:only-of-type {\n",
       "        vertical-align: middle;\n",
       "    }\n",
       "\n",
       "    .dataframe tbody tr th {\n",
       "        vertical-align: top;\n",
       "    }\n",
       "\n",
       "    .dataframe thead th {\n",
       "        text-align: right;\n",
       "    }\n",
       "</style>\n",
       "<table border=\"1\" class=\"dataframe\">\n",
       "  <thead>\n",
       "    <tr style=\"text-align: right;\">\n",
       "      <th></th>\n",
       "      <th>RECORD_TIME</th>\n",
       "    </tr>\n",
       "  </thead>\n",
       "  <tbody>\n",
       "    <tr>\n",
       "      <th>0</th>\n",
       "      <td>2021-12-08 06:00</td>\n",
       "    </tr>\n",
       "    <tr>\n",
       "      <th>1</th>\n",
       "      <td>2021-12-08 05:30</td>\n",
       "    </tr>\n",
       "  </tbody>\n",
       "</table>\n",
       "</div>"
      ],
      "text/plain": [
       "        RECORD_TIME\n",
       "0  2021-12-08 06:00\n",
       "1  2021-12-08 05:30"
      ]
     },
     "execution_count": 3,
     "metadata": {},
     "output_type": "execute_result"
    }
   ],
   "source": [
    "timestamps"
   ]
  },
  {
   "cell_type": "code",
   "execution_count": 4,
   "id": "alternate-victory",
   "metadata": {
    "execution": {
     "iopub.execute_input": "2021-12-08T05:00:09.397106Z",
     "iopub.status.busy": "2021-12-08T05:00:09.394791Z",
     "iopub.status.idle": "2021-12-08T05:00:10.887423Z",
     "shell.execute_reply": "2021-12-08T05:00:10.892258Z"
    },
    "papermill": {
     "duration": 1.530748,
     "end_time": "2021-12-08T05:00:10.893181",
     "exception": false,
     "start_time": "2021-12-08T05:00:09.362433",
     "status": "completed"
    },
    "tags": []
   },
   "outputs": [],
   "source": [
    "df = pd.read_sql(\"select * from EBAY_TOP_BERLIN where record_time in (select distinct record_time from EBAY_TOP_BERLIN order by record_time desc limit 2)\", sqlite3.connect(\"UsedObjects.db\"))"
   ]
  },
  {
   "cell_type": "code",
   "execution_count": 5,
   "id": "popular-active",
   "metadata": {
    "execution": {
     "iopub.execute_input": "2021-12-08T05:00:10.991849Z",
     "iopub.status.busy": "2021-12-08T05:00:10.988234Z",
     "iopub.status.idle": "2021-12-08T05:00:11.048767Z",
     "shell.execute_reply": "2021-12-08T05:00:11.051424Z"
    },
    "papermill": {
     "duration": 0.127065,
     "end_time": "2021-12-08T05:00:11.052204",
     "exception": false,
     "start_time": "2021-12-08T05:00:10.925139",
     "status": "completed"
    },
    "tags": []
   },
   "outputs": [],
   "source": [
    "df_pivot = df.pivot_table(index=\"PRODUCT\", columns = \"RECORD_TIME\", values = \"LISTING_COUNT\")"
   ]
  },
  {
   "cell_type": "code",
   "execution_count": 6,
   "id": "union-huntington",
   "metadata": {
    "execution": {
     "iopub.execute_input": "2021-12-08T05:00:11.137042Z",
     "iopub.status.busy": "2021-12-08T05:00:11.133043Z",
     "iopub.status.idle": "2021-12-08T05:00:11.143525Z",
     "shell.execute_reply": "2021-12-08T05:00:11.146285Z"
    },
    "papermill": {
     "duration": 0.067015,
     "end_time": "2021-12-08T05:00:11.147200",
     "exception": false,
     "start_time": "2021-12-08T05:00:11.080185",
     "status": "completed"
    },
    "tags": []
   },
   "outputs": [],
   "source": [
    "df_pivot.columns = [\"stamp_1\", \"stamp_2\"]\n",
    "df_pivot_diff = df_pivot.diff(axis=1)"
   ]
  },
  {
   "cell_type": "code",
   "execution_count": 7,
   "id": "fifth-motion",
   "metadata": {
    "execution": {
     "iopub.execute_input": "2021-12-08T05:00:11.232127Z",
     "iopub.status.busy": "2021-12-08T05:00:11.228625Z",
     "iopub.status.idle": "2021-12-08T05:00:12.922275Z",
     "shell.execute_reply": "2021-12-08T05:00:12.923552Z"
    },
    "papermill": {
     "duration": 1.746463,
     "end_time": "2021-12-08T05:00:12.923976",
     "exception": false,
     "start_time": "2021-12-08T05:00:11.177513",
     "status": "completed"
    },
    "tags": []
   },
   "outputs": [
    {
     "data": {
      "text/plain": [
       "<AxesSubplot:ylabel='PRODUCT'>"
      ]
     },
     "execution_count": 7,
     "metadata": {},
     "output_type": "execute_result"
    },
    {
     "data": {
      "image/png": "[encoded data removed]",
      "text/plain": [
       "<Figure size 432x288 with 1 Axes>"
      ]
     },
     "metadata": {
      "needs_background": "light"
     },
     "output_type": "display_data"
    }
   ],
   "source": [
    "df_pivot_diff.sort_values(\"stamp_2\", ascending = False)[\"stamp_2\"].head(10).plot.barh()"
   ]
  },
  {
   "cell_type": "code",
   "execution_count": null,
   "id": "extra-executive",
   "metadata": {
    "papermill": {
     "duration": 0.022102,
     "end_time": "2021-12-08T05:00:12.970390",
     "exception": false,
     "start_time": "2021-12-08T05:00:12.948288",
     "status": "completed"
    },
    "tags": []
   },
   "outputs": [],
   "source": []
  }
 ],
 "metadata": {
  "kernelspec": {
   "display_name": "Python 3",
   "language": "python",
   "name": "python3"
  },
  "language_info": {
   "codemirror_mode": {
    "name": "ipython",
    "version": 3
   },
   "file_extension": ".py",
   "mimetype": "text/x-python",
   "name": "python",
   "nbconvert_exporter": "python",
   "pygments_lexer": "ipython3",
   "version": "3.9.5"
  },
  "papermill": {
   "default_parameters": {},
   "duration": 9.935391,
   "end_time": "2021-12-08T05:00:14.332612",
   "environment_variables": {},
   "exception": null,
   "input_path": "eBay_Overview.ipynb",
   "output_path": "eBay_Overview.ipynb",
   "parameters": {},
   "start_time": "2021-12-08T05:00:04.397221",
   "version": "2.3.3"
  }
 },
 "nbformat": 4,
 "nbformat_minor": 5
}