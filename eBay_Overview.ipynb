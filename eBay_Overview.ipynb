{
 "cells": [
  {
   "cell_type": "code",
   "execution_count": 1,
   "id": "reverse-picking",
   "metadata": {
    "execution": {
     "iopub.execute_input": "2021-08-28T11:00:07.562929Z",
     "iopub.status.busy": "2021-08-28T11:00:07.560395Z",
     "iopub.status.idle": "2021-08-28T11:00:08.368776Z",
     "shell.execute_reply": "2021-08-28T11:00:08.370067Z"
    },
    "papermill": {
     "duration": 0.861106,
     "end_time": "2021-08-28T11:00:08.370688",
     "exception": false,
     "start_time": "2021-08-28T11:00:07.509582",
     "status": "completed"
    },
    "tags": []
   },
   "outputs": [],
   "source": [
    "import pandas as pd\n",
    "import sqlite3"
   ]
  },
  {
   "cell_type": "code",
   "execution_count": 2,
   "id": "innovative-syndrome",
   "metadata": {
    "execution": {
     "iopub.execute_input": "2021-08-28T11:00:08.425139Z",
     "iopub.status.busy": "2021-08-28T11:00:08.422720Z",
     "iopub.status.idle": "2021-08-28T11:00:08.576424Z",
     "shell.execute_reply": "2021-08-28T11:00:08.577929Z"
    },
    "papermill": {
     "duration": 0.184259,
     "end_time": "2021-08-28T11:00:08.578378",
     "exception": false,
     "start_time": "2021-08-28T11:00:08.394119",
     "status": "completed"
    },
    "tags": []
   },
   "outputs": [],
   "source": [
    "timestamps = pd.read_sql(\"select distinct record_time from EBAY_TOP_BERLIN order by record_time desc limit 2\", sqlite3.connect(\"UsedObjects.db\"))"
   ]
  },
  {
   "cell_type": "code",
   "execution_count": 3,
   "id": "periodic-identification",
   "metadata": {
    "execution": {
     "iopub.execute_input": "2021-08-28T11:00:08.649253Z",
     "iopub.status.busy": "2021-08-28T11:00:08.643935Z",
     "iopub.status.idle": "2021-08-28T11:00:08.664528Z",
     "shell.execute_reply": "2021-08-28T11:00:08.665971Z"
    },
    "papermill": {
     "duration": 0.067813,
     "end_time": "2021-08-28T11:00:08.666405",
     "exception": false,
     "start_time": "2021-08-28T11:00:08.598592",
     "status": "completed"
    },
    "tags": []
   },
   "outputs": [
    {
     "data": {
      "text/html": [
       "<div>\n",
       "<style scoped>\n",
       "    .dataframe tbody tr th:only-of-type {\n",
       "        vertical-align: middle;\n",
       "    }\n",
       "\n",
       "    .dataframe tbody tr th {\n",
       "        vertical-align: top;\n",
       "    }\n",
       "\n",
       "    .dataframe thead th {\n",
       "        text-align: right;\n",
       "    }\n",
       "</style>\n",
       "<table border=\"1\" class=\"dataframe\">\n",
       "  <thead>\n",
       "    <tr style=\"text-align: right;\">\n",
       "      <th></th>\n",
       "      <th>RECORD_TIME</th>\n",
       "    </tr>\n",
       "  </thead>\n",
       "  <tbody>\n",
       "    <tr>\n",
       "      <th>0</th>\n",
       "      <td>2021-08-28 13:00</td>\n",
       "    </tr>\n",
       "    <tr>\n",
       "      <th>1</th>\n",
       "      <td>2021-08-28 12:30</td>\n",
       "    </tr>\n",
       "  </tbody>\n",
       "</table>\n",
       "</div>"
      ],
      "text/plain": [
       "        RECORD_TIME\n",
       "0  2021-08-28 13:00\n",
       "1  2021-08-28 12:30"
      ]
     },
     "execution_count": 3,
     "metadata": {},
     "output_type": "execute_result"
    }
   ],
   "source": [
    "timestamps"
   ]
  },
  {
   "cell_type": "code",
   "execution_count": 4,
   "id": "alternate-victory",
   "metadata": {
    "execution": {
     "iopub.execute_input": "2021-08-28T11:00:08.719752Z",
     "iopub.status.busy": "2021-08-28T11:00:08.717438Z",
     "iopub.status.idle": "2021-08-28T11:00:08.944524Z",
     "shell.execute_reply": "2021-08-28T11:00:08.945765Z"
    },
    "papermill": {
     "duration": 0.257993,
     "end_time": "2021-08-28T11:00:08.946165",
     "exception": false,
     "start_time": "2021-08-28T11:00:08.688172",
     "status": "completed"
    },
    "tags": []
   },
   "outputs": [],
   "source": [
    "df = pd.read_sql(\"select * from EBAY_TOP_BERLIN where record_time in (select distinct record_time from EBAY_TOP_BERLIN order by record_time desc limit 2)\", sqlite3.connect(\"UsedObjects.db\"))"
   ]
  },
  {
   "cell_type": "code",
   "execution_count": 5,
   "id": "popular-active",
   "metadata": {
    "execution": {
     "iopub.execute_input": "2021-08-28T11:00:09.017022Z",
     "iopub.status.busy": "2021-08-28T11:00:09.006046Z",
     "iopub.status.idle": "2021-08-28T11:00:09.033885Z",
     "shell.execute_reply": "2021-08-28T11:00:09.035199Z"
    },
    "papermill": {
     "duration": 0.06742,
     "end_time": "2021-08-28T11:00:09.035620",
     "exception": false,
     "start_time": "2021-08-28T11:00:08.968200",
     "status": "completed"
    },
    "tags": []
   },
   "outputs": [],
   "source": [
    "df_pivot = df.pivot_table(index=\"PRODUCT\", columns = \"RECORD_TIME\", values = \"LISTING_COUNT\")"
   ]
  },
  {
   "cell_type": "code",
   "execution_count": 6,
   "id": "union-huntington",
   "metadata": {
    "execution": {
     "iopub.execute_input": "2021-08-28T11:00:09.091926Z",
     "iopub.status.busy": "2021-08-28T11:00:09.089876Z",
     "iopub.status.idle": "2021-08-28T11:00:09.095106Z",
     "shell.execute_reply": "2021-08-28T11:00:09.096635Z"
    },
    "papermill": {
     "duration": 0.04101,
     "end_time": "2021-08-28T11:00:09.097106",
     "exception": false,
     "start_time": "2021-08-28T11:00:09.056096",
     "status": "completed"
    },
    "tags": []
   },
   "outputs": [],
   "source": [
    "df_pivot.columns = [\"stamp_1\", \"stamp_2\"]\n",
    "df_pivot_diff = df_pivot.diff(axis=1)"
   ]
  },
  {
   "cell_type": "code",
   "execution_count": 7,
   "id": "fifth-motion",
   "metadata": {
    "execution": {
     "iopub.execute_input": "2021-08-28T11:00:09.154700Z",
     "iopub.status.busy": "2021-08-28T11:00:09.152301Z",
     "iopub.status.idle": "2021-08-28T11:00:10.653469Z",
     "shell.execute_reply": "2021-08-28T11:00:10.654778Z"
    },
    "papermill": {
     "duration": 1.535131,
     "end_time": "2021-08-28T11:00:10.655205",
     "exception": false,
     "start_time": "2021-08-28T11:00:09.120074",
     "status": "completed"
    },
    "tags": []
   },
   "outputs": [
    {
     "data": {
      "text/plain": [
       "<AxesSubplot:ylabel='PRODUCT'>"
      ]
     },
     "execution_count": 7,
     "metadata": {},
     "output_type": "execute_result"
    },
    {
     "data": {
      "image/png": "[encoded data removed]",
      "text/plain": [
       "<Figure size 432x288 with 1 Axes>"
      ]
     },
     "metadata": {
      "needs_background": "light"
     },
     "output_type": "display_data"
    }
   ],
   "source": [
    "df_pivot_diff.sort_values(\"stamp_2\", ascending = False)[\"stamp_2\"].head(10).plot.barh()"
   ]
  },
  {
   "cell_type": "code",
   "execution_count": null,
   "id": "extra-executive",
   "metadata": {
    "papermill": {
     "duration": 0.022409,
     "end_time": "2021-08-28T11:00:10.702487",
     "exception": false,
     "start_time": "2021-08-28T11:00:10.680078",
     "status": "completed"
    },
    "tags": []
   },
   "outputs": [],
   "source": []
  }
 ],
 "metadata": {
  "kernelspec": {
   "display_name": "Python 3",
   "language": "python",
   "name": "python3"
  },
  "language_info": {
   "codemirror_mode": {
    "name": "ipython",
    "version": 3
   },
   "file_extension": ".py",
   "mimetype": "text/x-python",
   "name": "python",
   "nbconvert_exporter": "python",
   "pygments_lexer": "ipython3",
   "version": "3.9.5"
  },
  "papermill": {
   "default_parameters": {},
   "duration": 6.822054,
   "end_time": "2021-08-28T11:00:11.927598",
   "environment_variables": {},
   "exception": null,
   "input_path": "eBay_Overview.ipynb",
   "output_path": "eBay_Overview.ipynb",
   "parameters": {},
   "start_time": "2021-08-28T11:00:05.105544",
   "version": "2.3.3"
  }
 },
 "nbformat": 4,
 "nbformat_minor": 5
}