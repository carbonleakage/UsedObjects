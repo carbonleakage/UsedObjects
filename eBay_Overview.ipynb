{
 "cells": [
  {
   "cell_type": "code",
   "execution_count": 1,
   "id": "reverse-picking",
   "metadata": {
    "execution": {
     "iopub.execute_input": "2021-10-31T19:00:07.398783Z",
     "iopub.status.busy": "2021-10-31T19:00:07.396831Z",
     "iopub.status.idle": "2021-10-31T19:00:08.201384Z",
     "shell.execute_reply": "2021-10-31T19:00:08.202660Z"
    },
    "papermill": {
     "duration": 0.858312,
     "end_time": "2021-10-31T19:00:08.203274",
     "exception": false,
     "start_time": "2021-10-31T19:00:07.344962",
     "status": "completed"
    },
    "tags": []
   },
   "outputs": [],
   "source": [
    "import pandas as pd\n",
    "import sqlite3"
   ]
  },
  {
   "cell_type": "code",
   "execution_count": 2,
   "id": "innovative-syndrome",
   "metadata": {
    "execution": {
     "iopub.execute_input": "2021-10-31T19:00:08.255484Z",
     "iopub.status.busy": "2021-10-31T19:00:08.253305Z",
     "iopub.status.idle": "2021-10-31T19:00:08.945684Z",
     "shell.execute_reply": "2021-10-31T19:00:08.946954Z"
    },
    "papermill": {
     "duration": 0.721844,
     "end_time": "2021-10-31T19:00:08.947348",
     "exception": false,
     "start_time": "2021-10-31T19:00:08.225504",
     "status": "completed"
    },
    "tags": []
   },
   "outputs": [],
   "source": [
    "timestamps = pd.read_sql(\"select distinct record_time from EBAY_TOP_BERLIN order by record_time desc limit 2\", sqlite3.connect(\"UsedObjects.db\"))"
   ]
  },
  {
   "cell_type": "code",
   "execution_count": 3,
   "id": "periodic-identification",
   "metadata": {
    "execution": {
     "iopub.execute_input": "2021-10-31T19:00:09.025917Z",
     "iopub.status.busy": "2021-10-31T19:00:09.023820Z",
     "iopub.status.idle": "2021-10-31T19:00:09.046903Z",
     "shell.execute_reply": "2021-10-31T19:00:09.048211Z"
    },
    "papermill": {
     "duration": 0.072944,
     "end_time": "2021-10-31T19:00:09.048663",
     "exception": false,
     "start_time": "2021-10-31T19:00:08.975719",
     "status": "completed"
    },
    "tags": []
   },
   "outputs": [
    {
     "data": {
      "text/html": [
       "<div>\n",
       "<style scoped>\n",
       "    .dataframe tbody tr th:only-of-type {\n",
       "        vertical-align: middle;\n",
       "    }\n",
       "\n",
       "    .dataframe tbody tr th {\n",
       "        vertical-align: top;\n",
       "    }\n",
       "\n",
       "    .dataframe thead th {\n",
       "        text-align: right;\n",
       "    }\n",
       "</style>\n",
       "<table border=\"1\" class=\"dataframe\">\n",
       "  <thead>\n",
       "    <tr style=\"text-align: right;\">\n",
       "      <th></th>\n",
       "      <th>RECORD_TIME</th>\n",
       "    </tr>\n",
       "  </thead>\n",
       "  <tbody>\n",
       "    <tr>\n",
       "      <th>0</th>\n",
       "      <td>2021-10-31 20:00</td>\n",
       "    </tr>\n",
       "    <tr>\n",
       "      <th>1</th>\n",
       "      <td>2021-10-31 19:30</td>\n",
       "    </tr>\n",
       "  </tbody>\n",
       "</table>\n",
       "</div>"
      ],
      "text/plain": [
       "        RECORD_TIME\n",
       "0  2021-10-31 20:00\n",
       "1  2021-10-31 19:30"
      ]
     },
     "execution_count": 3,
     "metadata": {},
     "output_type": "execute_result"
    }
   ],
   "source": [
    "timestamps"
   ]
  },
  {
   "cell_type": "code",
   "execution_count": 4,
   "id": "alternate-victory",
   "metadata": {
    "execution": {
     "iopub.execute_input": "2021-10-31T19:00:09.100313Z",
     "iopub.status.busy": "2021-10-31T19:00:09.098478Z",
     "iopub.status.idle": "2021-10-31T19:00:10.122733Z",
     "shell.execute_reply": "2021-10-31T19:00:10.124019Z"
    },
    "papermill": {
     "duration": 1.054215,
     "end_time": "2021-10-31T19:00:10.124436",
     "exception": false,
     "start_time": "2021-10-31T19:00:09.070221",
     "status": "completed"
    },
    "tags": []
   },
   "outputs": [],
   "source": [
    "df = pd.read_sql(\"select * from EBAY_TOP_BERLIN where record_time in (select distinct record_time from EBAY_TOP_BERLIN order by record_time desc limit 2)\", sqlite3.connect(\"UsedObjects.db\"))"
   ]
  },
  {
   "cell_type": "code",
   "execution_count": 5,
   "id": "popular-active",
   "metadata": {
    "execution": {
     "iopub.execute_input": "2021-10-31T19:00:10.185305Z",
     "iopub.status.busy": "2021-10-31T19:00:10.183082Z",
     "iopub.status.idle": "2021-10-31T19:00:10.210626Z",
     "shell.execute_reply": "2021-10-31T19:00:10.211827Z"
    },
    "papermill": {
     "duration": 0.066868,
     "end_time": "2021-10-31T19:00:10.212222",
     "exception": false,
     "start_time": "2021-10-31T19:00:10.145354",
     "status": "completed"
    },
    "tags": []
   },
   "outputs": [],
   "source": [
    "df_pivot = df.pivot_table(index=\"PRODUCT\", columns = \"RECORD_TIME\", values = \"LISTING_COUNT\")"
   ]
  },
  {
   "cell_type": "code",
   "execution_count": 6,
   "id": "union-huntington",
   "metadata": {
    "execution": {
     "iopub.execute_input": "2021-10-31T19:00:10.271458Z",
     "iopub.status.busy": "2021-10-31T19:00:10.269017Z",
     "iopub.status.idle": "2021-10-31T19:00:10.275074Z",
     "shell.execute_reply": "2021-10-31T19:00:10.276555Z"
    },
    "papermill": {
     "duration": 0.042552,
     "end_time": "2021-10-31T19:00:10.277076",
     "exception": false,
     "start_time": "2021-10-31T19:00:10.234524",
     "status": "completed"
    },
    "tags": []
   },
   "outputs": [],
   "source": [
    "df_pivot.columns = [\"stamp_1\", \"stamp_2\"]\n",
    "df_pivot_diff = df_pivot.diff(axis=1)"
   ]
  },
  {
   "cell_type": "code",
   "execution_count": 7,
   "id": "fifth-motion",
   "metadata": {
    "execution": {
     "iopub.execute_input": "2021-10-31T19:00:10.332219Z",
     "iopub.status.busy": "2021-10-31T19:00:10.329929Z",
     "iopub.status.idle": "2021-10-31T19:00:11.840843Z",
     "shell.execute_reply": "2021-10-31T19:00:11.842163Z"
    },
    "papermill": {
     "duration": 1.543483,
     "end_time": "2021-10-31T19:00:11.842581",
     "exception": false,
     "start_time": "2021-10-31T19:00:10.299098",
     "status": "completed"
    },
    "tags": []
   },
   "outputs": [
    {
     "data": {
      "text/plain": [
       "<AxesSubplot:ylabel='PRODUCT'>"
      ]
     },
     "execution_count": 7,
     "metadata": {},
     "output_type": "execute_result"
    },
    {
     "data": {
      "image/png": "[encoded data removed]",
      "text/plain": [
       "<Figure size 432x288 with 1 Axes>"
      ]
     },
     "metadata": {
      "needs_background": "light"
     },
     "output_type": "display_data"
    }
   ],
   "source": [
    "df_pivot_diff.sort_values(\"stamp_2\", ascending = False)[\"stamp_2\"].head(10).plot.barh()"
   ]
  },
  {
   "cell_type": "code",
   "execution_count": null,
   "id": "extra-executive",
   "metadata": {
    "papermill": {
     "duration": 0.022121,
     "end_time": "2021-10-31T19:00:11.888582",
     "exception": false,
     "start_time": "2021-10-31T19:00:11.866461",
     "status": "completed"
    },
    "tags": []
   },
   "outputs": [],
   "source": []
  }
 ],
 "metadata": {
  "kernelspec": {
   "display_name": "Python 3",
   "language": "python",
   "name": "python3"
  },
  "language_info": {
   "codemirror_mode": {
    "name": "ipython",
    "version": 3
   },
   "file_extension": ".py",
   "mimetype": "text/x-python",
   "name": "python",
   "nbconvert_exporter": "python",
   "pygments_lexer": "ipython3",
   "version": "3.9.5"
  },
  "papermill": {
   "default_parameters": {},
   "duration": 7.74285,
   "end_time": "2021-10-31T19:00:12.531494",
   "environment_variables": {},
   "exception": null,
   "input_path": "eBay_Overview.ipynb",
   "output_path": "eBay_Overview.ipynb",
   "parameters": {},
   "start_time": "2021-10-31T19:00:04.788644",
   "version": "2.3.3"
  }
 },
 "nbformat": 4,
 "nbformat_minor": 5
}