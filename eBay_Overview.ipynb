{
 "cells": [
  {
   "cell_type": "code",
   "execution_count": 1,
   "id": "reverse-picking",
   "metadata": {
    "execution": {
     "iopub.execute_input": "2021-10-02T14:00:07.043705Z",
     "iopub.status.busy": "2021-10-02T14:00:07.041703Z",
     "iopub.status.idle": "2021-10-02T14:00:07.848754Z",
     "shell.execute_reply": "2021-10-02T14:00:07.849990Z"
    },
    "papermill": {
     "duration": 0.85636,
     "end_time": "2021-10-02T14:00:07.850595",
     "exception": false,
     "start_time": "2021-10-02T14:00:06.994235",
     "status": "completed"
    },
    "tags": []
   },
   "outputs": [],
   "source": [
    "import pandas as pd\n",
    "import sqlite3"
   ]
  },
  {
   "cell_type": "code",
   "execution_count": 2,
   "id": "innovative-syndrome",
   "metadata": {
    "execution": {
     "iopub.execute_input": "2021-10-02T14:00:07.903891Z",
     "iopub.status.busy": "2021-10-02T14:00:07.901550Z",
     "iopub.status.idle": "2021-10-02T14:00:08.344016Z",
     "shell.execute_reply": "2021-10-02T14:00:08.345419Z"
    },
    "papermill": {
     "duration": 0.472662,
     "end_time": "2021-10-02T14:00:08.345851",
     "exception": false,
     "start_time": "2021-10-02T14:00:07.873189",
     "status": "completed"
    },
    "tags": []
   },
   "outputs": [],
   "source": [
    "timestamps = pd.read_sql(\"select distinct record_time from EBAY_TOP_BERLIN order by record_time desc limit 2\", sqlite3.connect(\"UsedObjects.db\"))"
   ]
  },
  {
   "cell_type": "code",
   "execution_count": 3,
   "id": "periodic-identification",
   "metadata": {
    "execution": {
     "iopub.execute_input": "2021-10-02T14:00:08.412969Z",
     "iopub.status.busy": "2021-10-02T14:00:08.410958Z",
     "iopub.status.idle": "2021-10-02T14:00:08.430945Z",
     "shell.execute_reply": "2021-10-02T14:00:08.432378Z"
    },
    "papermill": {
     "duration": 0.067055,
     "end_time": "2021-10-02T14:00:08.432812",
     "exception": false,
     "start_time": "2021-10-02T14:00:08.365757",
     "status": "completed"
    },
    "tags": []
   },
   "outputs": [
    {
     "data": {
      "text/html": [
       "<div>\n",
       "<style scoped>\n",
       "    .dataframe tbody tr th:only-of-type {\n",
       "        vertical-align: middle;\n",
       "    }\n",
       "\n",
       "    .dataframe tbody tr th {\n",
       "        vertical-align: top;\n",
       "    }\n",
       "\n",
       "    .dataframe thead th {\n",
       "        text-align: right;\n",
       "    }\n",
       "</style>\n",
       "<table border=\"1\" class=\"dataframe\">\n",
       "  <thead>\n",
       "    <tr style=\"text-align: right;\">\n",
       "      <th></th>\n",
       "      <th>RECORD_TIME</th>\n",
       "    </tr>\n",
       "  </thead>\n",
       "  <tbody>\n",
       "    <tr>\n",
       "      <th>0</th>\n",
       "      <td>2021-10-02 16:00</td>\n",
       "    </tr>\n",
       "    <tr>\n",
       "      <th>1</th>\n",
       "      <td>2021-10-02 15:30</td>\n",
       "    </tr>\n",
       "  </tbody>\n",
       "</table>\n",
       "</div>"
      ],
      "text/plain": [
       "        RECORD_TIME\n",
       "0  2021-10-02 16:00\n",
       "1  2021-10-02 15:30"
      ]
     },
     "execution_count": 3,
     "metadata": {},
     "output_type": "execute_result"
    }
   ],
   "source": [
    "timestamps"
   ]
  },
  {
   "cell_type": "code",
   "execution_count": 4,
   "id": "alternate-victory",
   "metadata": {
    "execution": {
     "iopub.execute_input": "2021-10-02T14:00:08.493461Z",
     "iopub.status.busy": "2021-10-02T14:00:08.490734Z",
     "iopub.status.idle": "2021-10-02T14:00:09.131555Z",
     "shell.execute_reply": "2021-10-02T14:00:09.132866Z"
    },
    "papermill": {
     "duration": 0.679141,
     "end_time": "2021-10-02T14:00:09.133319",
     "exception": false,
     "start_time": "2021-10-02T14:00:08.454178",
     "status": "completed"
    },
    "tags": []
   },
   "outputs": [],
   "source": [
    "df = pd.read_sql(\"select * from EBAY_TOP_BERLIN where record_time in (select distinct record_time from EBAY_TOP_BERLIN order by record_time desc limit 2)\", sqlite3.connect(\"UsedObjects.db\"))"
   ]
  },
  {
   "cell_type": "code",
   "execution_count": 5,
   "id": "popular-active",
   "metadata": {
    "execution": {
     "iopub.execute_input": "2021-10-02T14:00:09.199627Z",
     "iopub.status.busy": "2021-10-02T14:00:09.193078Z",
     "iopub.status.idle": "2021-10-02T14:00:09.221423Z",
     "shell.execute_reply": "2021-10-02T14:00:09.222635Z"
    },
    "papermill": {
     "duration": 0.069004,
     "end_time": "2021-10-02T14:00:09.223209",
     "exception": false,
     "start_time": "2021-10-02T14:00:09.154205",
     "status": "completed"
    },
    "tags": []
   },
   "outputs": [],
   "source": [
    "df_pivot = df.pivot_table(index=\"PRODUCT\", columns = \"RECORD_TIME\", values = \"LISTING_COUNT\")"
   ]
  },
  {
   "cell_type": "code",
   "execution_count": 6,
   "id": "union-huntington",
   "metadata": {
    "execution": {
     "iopub.execute_input": "2021-10-02T14:00:09.282922Z",
     "iopub.status.busy": "2021-10-02T14:00:09.280465Z",
     "iopub.status.idle": "2021-10-02T14:00:09.285830Z",
     "shell.execute_reply": "2021-10-02T14:00:09.287089Z"
    },
    "papermill": {
     "duration": 0.042066,
     "end_time": "2021-10-02T14:00:09.287530",
     "exception": false,
     "start_time": "2021-10-02T14:00:09.245464",
     "status": "completed"
    },
    "tags": []
   },
   "outputs": [],
   "source": [
    "df_pivot.columns = [\"stamp_1\", \"stamp_2\"]\n",
    "df_pivot_diff = df_pivot.diff(axis=1)"
   ]
  },
  {
   "cell_type": "code",
   "execution_count": 7,
   "id": "fifth-motion",
   "metadata": {
    "execution": {
     "iopub.execute_input": "2021-10-02T14:00:09.341604Z",
     "iopub.status.busy": "2021-10-02T14:00:09.339312Z",
     "iopub.status.idle": "2021-10-02T14:00:10.821334Z",
     "shell.execute_reply": "2021-10-02T14:00:10.822622Z"
    },
    "papermill": {
     "duration": 1.515497,
     "end_time": "2021-10-02T14:00:10.823093",
     "exception": false,
     "start_time": "2021-10-02T14:00:09.307596",
     "status": "completed"
    },
    "tags": []
   },
   "outputs": [
    {
     "data": {
      "text/plain": [
       "<AxesSubplot:ylabel='PRODUCT'>"
      ]
     },
     "execution_count": 7,
     "metadata": {},
     "output_type": "execute_result"
    },
    {
     "data": {
      "image/png": "[encoded data removed]",
      "text/plain": [
       "<Figure size 432x288 with 1 Axes>"
      ]
     },
     "metadata": {
      "needs_background": "light"
     },
     "output_type": "display_data"
    }
   ],
   "source": [
    "df_pivot_diff.sort_values(\"stamp_2\", ascending = False)[\"stamp_2\"].head(10).plot.barh()"
   ]
  },
  {
   "cell_type": "code",
   "execution_count": null,
   "id": "extra-executive",
   "metadata": {
    "papermill": {
     "duration": 0.022289,
     "end_time": "2021-10-02T14:00:10.870452",
     "exception": false,
     "start_time": "2021-10-02T14:00:10.848163",
     "status": "completed"
    },
    "tags": []
   },
   "outputs": [],
   "source": []
  }
 ],
 "metadata": {
  "kernelspec": {
   "display_name": "Python 3",
   "language": "python",
   "name": "python3"
  },
  "language_info": {
   "codemirror_mode": {
    "name": "ipython",
    "version": 3
   },
   "file_extension": ".py",
   "mimetype": "text/x-python",
   "name": "python",
   "nbconvert_exporter": "python",
   "pygments_lexer": "ipython3",
   "version": "3.9.5"
  },
  "papermill": {
   "default_parameters": {},
   "duration": 7.821152,
   "end_time": "2021-10-02T14:00:12.410044",
   "environment_variables": {},
   "exception": null,
   "input_path": "eBay_Overview.ipynb",
   "output_path": "eBay_Overview.ipynb",
   "parameters": {},
   "start_time": "2021-10-02T14:00:04.588892",
   "version": "2.3.3"
  }
 },
 "nbformat": 4,
 "nbformat_minor": 5
}