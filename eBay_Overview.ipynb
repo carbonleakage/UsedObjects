{
 "cells": [
  {
   "cell_type": "code",
   "execution_count": 1,
   "id": "reverse-picking",
   "metadata": {
    "execution": {
     "iopub.execute_input": "2021-11-29T21:00:07.363297Z",
     "iopub.status.busy": "2021-11-29T21:00:07.353144Z",
     "iopub.status.idle": "2021-11-29T21:00:08.304020Z",
     "shell.execute_reply": "2021-11-29T21:00:08.302046Z"
    },
    "papermill": {
     "duration": 0.996823,
     "end_time": "2021-11-29T21:00:08.304504",
     "exception": false,
     "start_time": "2021-11-29T21:00:07.307681",
     "status": "completed"
    },
    "tags": []
   },
   "outputs": [],
   "source": [
    "import pandas as pd\n",
    "import sqlite3"
   ]
  },
  {
   "cell_type": "code",
   "execution_count": 2,
   "id": "innovative-syndrome",
   "metadata": {
    "execution": {
     "iopub.execute_input": "2021-11-29T21:00:08.370665Z",
     "iopub.status.busy": "2021-11-29T21:00:08.368067Z",
     "iopub.status.idle": "2021-11-29T21:00:09.331370Z",
     "shell.execute_reply": "2021-11-29T21:00:09.333235Z"
    },
    "papermill": {
     "duration": 0.997373,
     "end_time": "2021-11-29T21:00:09.333813",
     "exception": false,
     "start_time": "2021-11-29T21:00:08.336440",
     "status": "completed"
    },
    "tags": []
   },
   "outputs": [],
   "source": [
    "timestamps = pd.read_sql(\"select distinct record_time from EBAY_TOP_BERLIN order by record_time desc limit 2\", sqlite3.connect(\"UsedObjects.db\"))"
   ]
  },
  {
   "cell_type": "code",
   "execution_count": 3,
   "id": "periodic-identification",
   "metadata": {
    "execution": {
     "iopub.execute_input": "2021-11-29T21:00:09.408368Z",
     "iopub.status.busy": "2021-11-29T21:00:09.405980Z",
     "iopub.status.idle": "2021-11-29T21:00:09.429618Z",
     "shell.execute_reply": "2021-11-29T21:00:09.431089Z"
    },
    "papermill": {
     "duration": 0.075125,
     "end_time": "2021-11-29T21:00:09.431585",
     "exception": false,
     "start_time": "2021-11-29T21:00:09.356460",
     "status": "completed"
    },
    "tags": []
   },
   "outputs": [
    {
     "data": {
      "text/html": [
       "<div>\n",
       "<style scoped>\n",
       "    .dataframe tbody tr th:only-of-type {\n",
       "        vertical-align: middle;\n",
       "    }\n",
       "\n",
       "    .dataframe tbody tr th {\n",
       "        vertical-align: top;\n",
       "    }\n",
       "\n",
       "    .dataframe thead th {\n",
       "        text-align: right;\n",
       "    }\n",
       "</style>\n",
       "<table border=\"1\" class=\"dataframe\">\n",
       "  <thead>\n",
       "    <tr style=\"text-align: right;\">\n",
       "      <th></th>\n",
       "      <th>RECORD_TIME</th>\n",
       "    </tr>\n",
       "  </thead>\n",
       "  <tbody>\n",
       "    <tr>\n",
       "      <th>0</th>\n",
       "      <td>2021-11-29 22:00</td>\n",
       "    </tr>\n",
       "    <tr>\n",
       "      <th>1</th>\n",
       "      <td>2021-11-29 21:30</td>\n",
       "    </tr>\n",
       "  </tbody>\n",
       "</table>\n",
       "</div>"
      ],
      "text/plain": [
       "        RECORD_TIME\n",
       "0  2021-11-29 22:00\n",
       "1  2021-11-29 21:30"
      ]
     },
     "execution_count": 3,
     "metadata": {},
     "output_type": "execute_result"
    }
   ],
   "source": [
    "timestamps"
   ]
  },
  {
   "cell_type": "code",
   "execution_count": 4,
   "id": "alternate-victory",
   "metadata": {
    "execution": {
     "iopub.execute_input": "2021-11-29T21:00:09.488422Z",
     "iopub.status.busy": "2021-11-29T21:00:09.486345Z",
     "iopub.status.idle": "2021-11-29T21:00:10.879412Z",
     "shell.execute_reply": "2021-11-29T21:00:10.881201Z"
    },
    "papermill": {
     "duration": 1.428701,
     "end_time": "2021-11-29T21:00:10.881791",
     "exception": false,
     "start_time": "2021-11-29T21:00:09.453090",
     "status": "completed"
    },
    "tags": []
   },
   "outputs": [],
   "source": [
    "df = pd.read_sql(\"select * from EBAY_TOP_BERLIN where record_time in (select distinct record_time from EBAY_TOP_BERLIN order by record_time desc limit 2)\", sqlite3.connect(\"UsedObjects.db\"))"
   ]
  },
  {
   "cell_type": "code",
   "execution_count": 5,
   "id": "popular-active",
   "metadata": {
    "execution": {
     "iopub.execute_input": "2021-11-29T21:00:10.958083Z",
     "iopub.status.busy": "2021-11-29T21:00:10.946151Z",
     "iopub.status.idle": "2021-11-29T21:00:10.977679Z",
     "shell.execute_reply": "2021-11-29T21:00:10.979083Z"
    },
    "papermill": {
     "duration": 0.075892,
     "end_time": "2021-11-29T21:00:10.979533",
     "exception": false,
     "start_time": "2021-11-29T21:00:10.903641",
     "status": "completed"
    },
    "tags": []
   },
   "outputs": [],
   "source": [
    "df_pivot = df.pivot_table(index=\"PRODUCT\", columns = \"RECORD_TIME\", values = \"LISTING_COUNT\")"
   ]
  },
  {
   "cell_type": "code",
   "execution_count": 6,
   "id": "union-huntington",
   "metadata": {
    "execution": {
     "iopub.execute_input": "2021-11-29T21:00:11.042633Z",
     "iopub.status.busy": "2021-11-29T21:00:11.040277Z",
     "iopub.status.idle": "2021-11-29T21:00:11.046615Z",
     "shell.execute_reply": "2021-11-29T21:00:11.048175Z"
    },
    "papermill": {
     "duration": 0.045888,
     "end_time": "2021-11-29T21:00:11.048731",
     "exception": false,
     "start_time": "2021-11-29T21:00:11.002843",
     "status": "completed"
    },
    "tags": []
   },
   "outputs": [],
   "source": [
    "df_pivot.columns = [\"stamp_1\", \"stamp_2\"]\n",
    "df_pivot_diff = df_pivot.diff(axis=1)"
   ]
  },
  {
   "cell_type": "code",
   "execution_count": 7,
   "id": "fifth-motion",
   "metadata": {
    "execution": {
     "iopub.execute_input": "2021-11-29T21:00:11.108850Z",
     "iopub.status.busy": "2021-11-29T21:00:11.106288Z",
     "iopub.status.idle": "2021-11-29T21:00:13.032540Z",
     "shell.execute_reply": "2021-11-29T21:00:13.033964Z"
    },
    "papermill": {
     "duration": 1.963213,
     "end_time": "2021-11-29T21:00:13.034446",
     "exception": false,
     "start_time": "2021-11-29T21:00:11.071233",
     "status": "completed"
    },
    "tags": []
   },
   "outputs": [
    {
     "data": {
      "text/plain": [
       "<AxesSubplot:ylabel='PRODUCT'>"
      ]
     },
     "execution_count": 7,
     "metadata": {},
     "output_type": "execute_result"
    },
    {
     "data": {
      "image/png": "[encoded data removed]",
      "text/plain": [
       "<Figure size 432x288 with 1 Axes>"
      ]
     },
     "metadata": {
      "needs_background": "light"
     },
     "output_type": "display_data"
    }
   ],
   "source": [
    "df_pivot_diff.sort_values(\"stamp_2\", ascending = False)[\"stamp_2\"].head(10).plot.barh()"
   ]
  },
  {
   "cell_type": "code",
   "execution_count": null,
   "id": "extra-executive",
   "metadata": {
    "papermill": {
     "duration": 0.030306,
     "end_time": "2021-11-29T21:00:13.090102",
     "exception": false,
     "start_time": "2021-11-29T21:00:13.059796",
     "status": "completed"
    },
    "tags": []
   },
   "outputs": [],
   "source": []
  }
 ],
 "metadata": {
  "kernelspec": {
   "display_name": "Python 3",
   "language": "python",
   "name": "python3"
  },
  "language_info": {
   "codemirror_mode": {
    "name": "ipython",
    "version": 3
   },
   "file_extension": ".py",
   "mimetype": "text/x-python",
   "name": "python",
   "nbconvert_exporter": "python",
   "pygments_lexer": "ipython3",
   "version": "3.9.5"
  },
  "papermill": {
   "default_parameters": {},
   "duration": 9.96822,
   "end_time": "2021-11-29T21:00:14.518935",
   "environment_variables": {},
   "exception": null,
   "input_path": "eBay_Overview.ipynb",
   "output_path": "eBay_Overview.ipynb",
   "parameters": {},
   "start_time": "2021-11-29T21:00:04.550715",
   "version": "2.3.3"
  }
 },
 "nbformat": 4,
 "nbformat_minor": 5
}