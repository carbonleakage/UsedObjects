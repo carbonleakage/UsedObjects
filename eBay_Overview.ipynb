{
 "cells": [
  {
   "cell_type": "code",
   "execution_count": 1,
   "id": "reverse-picking",
   "metadata": {
    "execution": {
     "iopub.execute_input": "2021-10-18T01:30:07.286641Z",
     "iopub.status.busy": "2021-10-18T01:30:07.284588Z",
     "iopub.status.idle": "2021-10-18T01:30:08.093344Z",
     "shell.execute_reply": "2021-10-18T01:30:08.094694Z"
    },
    "papermill": {
     "duration": 0.860895,
     "end_time": "2021-10-18T01:30:08.095296",
     "exception": false,
     "start_time": "2021-10-18T01:30:07.234401",
     "status": "completed"
    },
    "tags": []
   },
   "outputs": [],
   "source": [
    "import pandas as pd\n",
    "import sqlite3"
   ]
  },
  {
   "cell_type": "code",
   "execution_count": 2,
   "id": "innovative-syndrome",
   "metadata": {
    "execution": {
     "iopub.execute_input": "2021-10-18T01:30:08.145473Z",
     "iopub.status.busy": "2021-10-18T01:30:08.143310Z",
     "iopub.status.idle": "2021-10-18T01:30:08.697601Z",
     "shell.execute_reply": "2021-10-18T01:30:08.698877Z"
    },
    "papermill": {
     "duration": 0.583983,
     "end_time": "2021-10-18T01:30:08.699325",
     "exception": false,
     "start_time": "2021-10-18T01:30:08.115342",
     "status": "completed"
    },
    "tags": []
   },
   "outputs": [],
   "source": [
    "timestamps = pd.read_sql(\"select distinct record_time from EBAY_TOP_BERLIN order by record_time desc limit 2\", sqlite3.connect(\"UsedObjects.db\"))"
   ]
  },
  {
   "cell_type": "code",
   "execution_count": 3,
   "id": "periodic-identification",
   "metadata": {
    "execution": {
     "iopub.execute_input": "2021-10-18T01:30:08.779929Z",
     "iopub.status.busy": "2021-10-18T01:30:08.777901Z",
     "iopub.status.idle": "2021-10-18T01:30:08.797905Z",
     "shell.execute_reply": "2021-10-18T01:30:08.799505Z"
    },
    "papermill": {
     "duration": 0.072163,
     "end_time": "2021-10-18T01:30:08.799984",
     "exception": false,
     "start_time": "2021-10-18T01:30:08.727821",
     "status": "completed"
    },
    "tags": []
   },
   "outputs": [
    {
     "data": {
      "text/html": [
       "<div>\n",
       "<style scoped>\n",
       "    .dataframe tbody tr th:only-of-type {\n",
       "        vertical-align: middle;\n",
       "    }\n",
       "\n",
       "    .dataframe tbody tr th {\n",
       "        vertical-align: top;\n",
       "    }\n",
       "\n",
       "    .dataframe thead th {\n",
       "        text-align: right;\n",
       "    }\n",
       "</style>\n",
       "<table border=\"1\" class=\"dataframe\">\n",
       "  <thead>\n",
       "    <tr style=\"text-align: right;\">\n",
       "      <th></th>\n",
       "      <th>RECORD_TIME</th>\n",
       "    </tr>\n",
       "  </thead>\n",
       "  <tbody>\n",
       "    <tr>\n",
       "      <th>0</th>\n",
       "      <td>2021-10-18 03:30</td>\n",
       "    </tr>\n",
       "    <tr>\n",
       "      <th>1</th>\n",
       "      <td>2021-10-18 03:00</td>\n",
       "    </tr>\n",
       "  </tbody>\n",
       "</table>\n",
       "</div>"
      ],
      "text/plain": [
       "        RECORD_TIME\n",
       "0  2021-10-18 03:30\n",
       "1  2021-10-18 03:00"
      ]
     },
     "execution_count": 3,
     "metadata": {},
     "output_type": "execute_result"
    }
   ],
   "source": [
    "timestamps"
   ]
  },
  {
   "cell_type": "code",
   "execution_count": 4,
   "id": "alternate-victory",
   "metadata": {
    "execution": {
     "iopub.execute_input": "2021-10-18T01:30:08.852442Z",
     "iopub.status.busy": "2021-10-18T01:30:08.850533Z",
     "iopub.status.idle": "2021-10-18T01:30:09.662238Z",
     "shell.execute_reply": "2021-10-18T01:30:09.663494Z"
    },
    "papermill": {
     "duration": 0.842139,
     "end_time": "2021-10-18T01:30:09.663940",
     "exception": false,
     "start_time": "2021-10-18T01:30:08.821801",
     "status": "completed"
    },
    "tags": []
   },
   "outputs": [],
   "source": [
    "df = pd.read_sql(\"select * from EBAY_TOP_BERLIN where record_time in (select distinct record_time from EBAY_TOP_BERLIN order by record_time desc limit 2)\", sqlite3.connect(\"UsedObjects.db\"))"
   ]
  },
  {
   "cell_type": "code",
   "execution_count": 5,
   "id": "popular-active",
   "metadata": {
    "execution": {
     "iopub.execute_input": "2021-10-18T01:30:09.733971Z",
     "iopub.status.busy": "2021-10-18T01:30:09.722298Z",
     "iopub.status.idle": "2021-10-18T01:30:09.749772Z",
     "shell.execute_reply": "2021-10-18T01:30:09.750980Z"
    },
    "papermill": {
     "duration": 0.066736,
     "end_time": "2021-10-18T01:30:09.751366",
     "exception": false,
     "start_time": "2021-10-18T01:30:09.684630",
     "status": "completed"
    },
    "tags": []
   },
   "outputs": [],
   "source": [
    "df_pivot = df.pivot_table(index=\"PRODUCT\", columns = \"RECORD_TIME\", values = \"LISTING_COUNT\")"
   ]
  },
  {
   "cell_type": "code",
   "execution_count": 6,
   "id": "union-huntington",
   "metadata": {
    "execution": {
     "iopub.execute_input": "2021-10-18T01:30:09.810840Z",
     "iopub.status.busy": "2021-10-18T01:30:09.808323Z",
     "iopub.status.idle": "2021-10-18T01:30:09.814607Z",
     "shell.execute_reply": "2021-10-18T01:30:09.815944Z"
    },
    "papermill": {
     "duration": 0.042747,
     "end_time": "2021-10-18T01:30:09.816411",
     "exception": false,
     "start_time": "2021-10-18T01:30:09.773664",
     "status": "completed"
    },
    "tags": []
   },
   "outputs": [],
   "source": [
    "df_pivot.columns = [\"stamp_1\", \"stamp_2\"]\n",
    "df_pivot_diff = df_pivot.diff(axis=1)"
   ]
  },
  {
   "cell_type": "code",
   "execution_count": 7,
   "id": "fifth-motion",
   "metadata": {
    "execution": {
     "iopub.execute_input": "2021-10-18T01:30:09.872421Z",
     "iopub.status.busy": "2021-10-18T01:30:09.870001Z",
     "iopub.status.idle": "2021-10-18T01:30:11.356144Z",
     "shell.execute_reply": "2021-10-18T01:30:11.357563Z"
    },
    "papermill": {
     "duration": 1.519362,
     "end_time": "2021-10-18T01:30:11.357984",
     "exception": false,
     "start_time": "2021-10-18T01:30:09.838622",
     "status": "completed"
    },
    "tags": []
   },
   "outputs": [
    {
     "data": {
      "text/plain": [
       "<AxesSubplot:ylabel='PRODUCT'>"
      ]
     },
     "execution_count": 7,
     "metadata": {},
     "output_type": "execute_result"
    },
    {
     "data": {
      "image/png": "[encoded data removed]",
      "text/plain": [
       "<Figure size 432x288 with 1 Axes>"
      ]
     },
     "metadata": {
      "needs_background": "light"
     },
     "output_type": "display_data"
    }
   ],
   "source": [
    "df_pivot_diff.sort_values(\"stamp_2\", ascending = False)[\"stamp_2\"].head(10).plot.barh()"
   ]
  },
  {
   "cell_type": "code",
   "execution_count": null,
   "id": "extra-executive",
   "metadata": {
    "papermill": {
     "duration": 0.022135,
     "end_time": "2021-10-18T01:30:11.404037",
     "exception": false,
     "start_time": "2021-10-18T01:30:11.381902",
     "status": "completed"
    },
    "tags": []
   },
   "outputs": [],
   "source": []
  }
 ],
 "metadata": {
  "kernelspec": {
   "display_name": "Python 3",
   "language": "python",
   "name": "python3"
  },
  "language_info": {
   "codemirror_mode": {
    "name": "ipython",
    "version": 3
   },
   "file_extension": ".py",
   "mimetype": "text/x-python",
   "name": "python",
   "nbconvert_exporter": "python",
   "pygments_lexer": "ipython3",
   "version": "3.9.5"
  },
  "papermill": {
   "default_parameters": {},
   "duration": 7.82196,
   "end_time": "2021-10-18T01:30:12.647701",
   "environment_variables": {},
   "exception": null,
   "input_path": "eBay_Overview.ipynb",
   "output_path": "eBay_Overview.ipynb",
   "parameters": {},
   "start_time": "2021-10-18T01:30:04.825741",
   "version": "2.3.3"
  }
 },
 "nbformat": 4,
 "nbformat_minor": 5
}