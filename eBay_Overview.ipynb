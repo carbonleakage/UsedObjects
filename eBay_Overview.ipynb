{
 "cells": [
  {
   "cell_type": "code",
   "execution_count": 1,
   "id": "reverse-picking",
   "metadata": {
    "execution": {
     "iopub.execute_input": "2021-12-17T23:00:07.533621Z",
     "iopub.status.busy": "2021-12-17T23:00:07.531352Z",
     "iopub.status.idle": "2021-12-17T23:00:08.496597Z",
     "shell.execute_reply": "2021-12-17T23:00:08.498283Z"
    },
    "papermill": {
     "duration": 1.014374,
     "end_time": "2021-12-17T23:00:08.499031",
     "exception": false,
     "start_time": "2021-12-17T23:00:07.484657",
     "status": "completed"
    },
    "tags": []
   },
   "outputs": [],
   "source": [
    "import pandas as pd\n",
    "import sqlite3"
   ]
  },
  {
   "cell_type": "code",
   "execution_count": 2,
   "id": "innovative-syndrome",
   "metadata": {
    "execution": {
     "iopub.execute_input": "2021-12-17T23:00:08.564255Z",
     "iopub.status.busy": "2021-12-17T23:00:08.561983Z",
     "iopub.status.idle": "2021-12-17T23:00:09.677266Z",
     "shell.execute_reply": "2021-12-17T23:00:09.678851Z"
    },
    "papermill": {
     "duration": 1.15363,
     "end_time": "2021-12-17T23:00:09.679549",
     "exception": false,
     "start_time": "2021-12-17T23:00:08.525919",
     "status": "completed"
    },
    "tags": []
   },
   "outputs": [],
   "source": [
    "timestamps = pd.read_sql(\"select distinct record_time from EBAY_TOP_BERLIN order by record_time desc limit 2\", sqlite3.connect(\"UsedObjects.db\"))"
   ]
  },
  {
   "cell_type": "code",
   "execution_count": 3,
   "id": "periodic-identification",
   "metadata": {
    "execution": {
     "iopub.execute_input": "2021-12-17T23:00:09.747963Z",
     "iopub.status.busy": "2021-12-17T23:00:09.745724Z",
     "iopub.status.idle": "2021-12-17T23:00:09.767673Z",
     "shell.execute_reply": "2021-12-17T23:00:09.769100Z"
    },
    "papermill": {
     "duration": 0.069346,
     "end_time": "2021-12-17T23:00:09.769585",
     "exception": false,
     "start_time": "2021-12-17T23:00:09.700239",
     "status": "completed"
    },
    "tags": []
   },
   "outputs": [
    {
     "data": {
      "text/html": [
       "<div>\n",
       "<style scoped>\n",
       "    .dataframe tbody tr th:only-of-type {\n",
       "        vertical-align: middle;\n",
       "    }\n",
       "\n",
       "    .dataframe tbody tr th {\n",
       "        vertical-align: top;\n",
       "    }\n",
       "\n",
       "    .dataframe thead th {\n",
       "        text-align: right;\n",
       "    }\n",
       "</style>\n",
       "<table border=\"1\" class=\"dataframe\">\n",
       "  <thead>\n",
       "    <tr style=\"text-align: right;\">\n",
       "      <th></th>\n",
       "      <th>RECORD_TIME</th>\n",
       "    </tr>\n",
       "  </thead>\n",
       "  <tbody>\n",
       "    <tr>\n",
       "      <th>0</th>\n",
       "      <td>2021-12-18 00:00</td>\n",
       "    </tr>\n",
       "    <tr>\n",
       "      <th>1</th>\n",
       "      <td>2021-12-17 23:30</td>\n",
       "    </tr>\n",
       "  </tbody>\n",
       "</table>\n",
       "</div>"
      ],
      "text/plain": [
       "        RECORD_TIME\n",
       "0  2021-12-18 00:00\n",
       "1  2021-12-17 23:30"
      ]
     },
     "execution_count": 3,
     "metadata": {},
     "output_type": "execute_result"
    }
   ],
   "source": [
    "timestamps"
   ]
  },
  {
   "cell_type": "code",
   "execution_count": 4,
   "id": "alternate-victory",
   "metadata": {
    "execution": {
     "iopub.execute_input": "2021-12-17T23:00:09.826073Z",
     "iopub.status.busy": "2021-12-17T23:00:09.823603Z",
     "iopub.status.idle": "2021-12-17T23:00:11.452019Z",
     "shell.execute_reply": "2021-12-17T23:00:11.453620Z"
    },
    "papermill": {
     "duration": 1.662859,
     "end_time": "2021-12-17T23:00:11.454105",
     "exception": false,
     "start_time": "2021-12-17T23:00:09.791246",
     "status": "completed"
    },
    "tags": []
   },
   "outputs": [],
   "source": [
    "df = pd.read_sql(\"select * from EBAY_TOP_BERLIN where record_time in (select distinct record_time from EBAY_TOP_BERLIN order by record_time desc limit 2)\", sqlite3.connect(\"UsedObjects.db\"))"
   ]
  },
  {
   "cell_type": "code",
   "execution_count": 5,
   "id": "popular-active",
   "metadata": {
    "execution": {
     "iopub.execute_input": "2021-12-17T23:00:11.521749Z",
     "iopub.status.busy": "2021-12-17T23:00:11.519433Z",
     "iopub.status.idle": "2021-12-17T23:00:11.548811Z",
     "shell.execute_reply": "2021-12-17T23:00:11.550294Z"
    },
    "papermill": {
     "duration": 0.075001,
     "end_time": "2021-12-17T23:00:11.550760",
     "exception": false,
     "start_time": "2021-12-17T23:00:11.475759",
     "status": "completed"
    },
    "tags": []
   },
   "outputs": [],
   "source": [
    "df_pivot = df.pivot_table(index=\"PRODUCT\", columns = \"RECORD_TIME\", values = \"LISTING_COUNT\")"
   ]
  },
  {
   "cell_type": "code",
   "execution_count": 6,
   "id": "union-huntington",
   "metadata": {
    "execution": {
     "iopub.execute_input": "2021-12-17T23:00:11.608958Z",
     "iopub.status.busy": "2021-12-17T23:00:11.606685Z",
     "iopub.status.idle": "2021-12-17T23:00:11.612167Z",
     "shell.execute_reply": "2021-12-17T23:00:11.613727Z"
    },
    "papermill": {
     "duration": 0.043261,
     "end_time": "2021-12-17T23:00:11.614207",
     "exception": false,
     "start_time": "2021-12-17T23:00:11.570946",
     "status": "completed"
    },
    "tags": []
   },
   "outputs": [],
   "source": [
    "df_pivot.columns = [\"stamp_1\", \"stamp_2\"]\n",
    "df_pivot_diff = df_pivot.diff(axis=1)"
   ]
  },
  {
   "cell_type": "code",
   "execution_count": 7,
   "id": "fifth-motion",
   "metadata": {
    "execution": {
     "iopub.execute_input": "2021-12-17T23:00:11.676471Z",
     "iopub.status.busy": "2021-12-17T23:00:11.673772Z",
     "iopub.status.idle": "2021-12-17T23:00:13.680231Z",
     "shell.execute_reply": "2021-12-17T23:00:13.682039Z"
    },
    "papermill": {
     "duration": 2.044602,
     "end_time": "2021-12-17T23:00:13.682701",
     "exception": false,
     "start_time": "2021-12-17T23:00:11.638099",
     "status": "completed"
    },
    "tags": []
   },
   "outputs": [
    {
     "data": {
      "text/plain": [
       "<AxesSubplot:ylabel='PRODUCT'>"
      ]
     },
     "execution_count": 7,
     "metadata": {},
     "output_type": "execute_result"
    },
    {
     "data": {
      "image/png": "[encoded data removed]",
      "text/plain": [
       "<Figure size 432x288 with 1 Axes>"
      ]
     },
     "metadata": {
      "needs_background": "light"
     },
     "output_type": "display_data"
    }
   ],
   "source": [
    "df_pivot_diff.sort_values(\"stamp_2\", ascending = False)[\"stamp_2\"].head(10).plot.barh()"
   ]
  },
  {
   "cell_type": "code",
   "execution_count": null,
   "id": "extra-executive",
   "metadata": {
    "papermill": {
     "duration": 0.021879,
     "end_time": "2021-12-17T23:00:13.729138",
     "exception": false,
     "start_time": "2021-12-17T23:00:13.707259",
     "status": "completed"
    },
    "tags": []
   },
   "outputs": [],
   "source": []
  }
 ],
 "metadata": {
  "kernelspec": {
   "display_name": "Python 3",
   "language": "python",
   "name": "python3"
  },
  "language_info": {
   "codemirror_mode": {
    "name": "ipython",
    "version": 3
   },
   "file_extension": ".py",
   "mimetype": "text/x-python",
   "name": "python",
   "nbconvert_exporter": "python",
   "pygments_lexer": "ipython3",
   "version": "3.9.5"
  },
  "papermill": {
   "default_parameters": {},
   "duration": 9.620883,
   "end_time": "2021-12-17T23:00:14.369423",
   "environment_variables": {},
   "exception": null,
   "input_path": "eBay_Overview.ipynb",
   "output_path": "eBay_Overview.ipynb",
   "parameters": {},
   "start_time": "2021-12-17T23:00:04.748540",
   "version": "2.3.3"
  }
 },
 "nbformat": 4,
 "nbformat_minor": 5
}