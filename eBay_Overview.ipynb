{
 "cells": [
  {
   "cell_type": "code",
   "execution_count": 1,
   "id": "reverse-picking",
   "metadata": {
    "execution": {
     "iopub.execute_input": "2021-10-27T20:30:07.045780Z",
     "iopub.status.busy": "2021-10-27T20:30:07.043751Z",
     "iopub.status.idle": "2021-10-27T20:30:07.847461Z",
     "shell.execute_reply": "2021-10-27T20:30:07.848771Z"
    },
    "papermill": {
     "duration": 0.853203,
     "end_time": "2021-10-27T20:30:07.849400",
     "exception": false,
     "start_time": "2021-10-27T20:30:06.996197",
     "status": "completed"
    },
    "tags": []
   },
   "outputs": [],
   "source": [
    "import pandas as pd\n",
    "import sqlite3"
   ]
  },
  {
   "cell_type": "code",
   "execution_count": 2,
   "id": "innovative-syndrome",
   "metadata": {
    "execution": {
     "iopub.execute_input": "2021-10-27T20:30:07.900175Z",
     "iopub.status.busy": "2021-10-27T20:30:07.898313Z",
     "iopub.status.idle": "2021-10-27T20:30:08.565707Z",
     "shell.execute_reply": "2021-10-27T20:30:08.566916Z"
    },
    "papermill": {
     "duration": 0.69688,
     "end_time": "2021-10-27T20:30:08.567310",
     "exception": false,
     "start_time": "2021-10-27T20:30:07.870430",
     "status": "completed"
    },
    "tags": []
   },
   "outputs": [],
   "source": [
    "timestamps = pd.read_sql(\"select distinct record_time from EBAY_TOP_BERLIN order by record_time desc limit 2\", sqlite3.connect(\"UsedObjects.db\"))"
   ]
  },
  {
   "cell_type": "code",
   "execution_count": 3,
   "id": "periodic-identification",
   "metadata": {
    "execution": {
     "iopub.execute_input": "2021-10-27T20:30:08.644981Z",
     "iopub.status.busy": "2021-10-27T20:30:08.642774Z",
     "iopub.status.idle": "2021-10-27T20:30:08.664399Z",
     "shell.execute_reply": "2021-10-27T20:30:08.663069Z"
    },
    "papermill": {
     "duration": 0.070311,
     "end_time": "2021-10-27T20:30:08.664900",
     "exception": false,
     "start_time": "2021-10-27T20:30:08.594589",
     "status": "completed"
    },
    "tags": []
   },
   "outputs": [
    {
     "data": {
      "text/html": [
       "<div>\n",
       "<style scoped>\n",
       "    .dataframe tbody tr th:only-of-type {\n",
       "        vertical-align: middle;\n",
       "    }\n",
       "\n",
       "    .dataframe tbody tr th {\n",
       "        vertical-align: top;\n",
       "    }\n",
       "\n",
       "    .dataframe thead th {\n",
       "        text-align: right;\n",
       "    }\n",
       "</style>\n",
       "<table border=\"1\" class=\"dataframe\">\n",
       "  <thead>\n",
       "    <tr style=\"text-align: right;\">\n",
       "      <th></th>\n",
       "      <th>RECORD_TIME</th>\n",
       "    </tr>\n",
       "  </thead>\n",
       "  <tbody>\n",
       "    <tr>\n",
       "      <th>0</th>\n",
       "      <td>2021-10-27 22:30</td>\n",
       "    </tr>\n",
       "    <tr>\n",
       "      <th>1</th>\n",
       "      <td>2021-10-27 22:00</td>\n",
       "    </tr>\n",
       "  </tbody>\n",
       "</table>\n",
       "</div>"
      ],
      "text/plain": [
       "        RECORD_TIME\n",
       "0  2021-10-27 22:30\n",
       "1  2021-10-27 22:00"
      ]
     },
     "execution_count": 3,
     "metadata": {},
     "output_type": "execute_result"
    }
   ],
   "source": [
    "timestamps"
   ]
  },
  {
   "cell_type": "code",
   "execution_count": 4,
   "id": "alternate-victory",
   "metadata": {
    "execution": {
     "iopub.execute_input": "2021-10-27T20:30:08.718576Z",
     "iopub.status.busy": "2021-10-27T20:30:08.716173Z",
     "iopub.status.idle": "2021-10-27T20:30:09.675790Z",
     "shell.execute_reply": "2021-10-27T20:30:09.677157Z"
    },
    "papermill": {
     "duration": 0.990182,
     "end_time": "2021-10-27T20:30:09.677597",
     "exception": false,
     "start_time": "2021-10-27T20:30:08.687415",
     "status": "completed"
    },
    "tags": []
   },
   "outputs": [],
   "source": [
    "df = pd.read_sql(\"select * from EBAY_TOP_BERLIN where record_time in (select distinct record_time from EBAY_TOP_BERLIN order by record_time desc limit 2)\", sqlite3.connect(\"UsedObjects.db\"))"
   ]
  },
  {
   "cell_type": "code",
   "execution_count": 5,
   "id": "popular-active",
   "metadata": {
    "execution": {
     "iopub.execute_input": "2021-10-27T20:30:09.742402Z",
     "iopub.status.busy": "2021-10-27T20:30:09.735181Z",
     "iopub.status.idle": "2021-10-27T20:30:09.762494Z",
     "shell.execute_reply": "2021-10-27T20:30:09.763704Z"
    },
    "papermill": {
     "duration": 0.065565,
     "end_time": "2021-10-27T20:30:09.764097",
     "exception": false,
     "start_time": "2021-10-27T20:30:09.698532",
     "status": "completed"
    },
    "tags": []
   },
   "outputs": [],
   "source": [
    "df_pivot = df.pivot_table(index=\"PRODUCT\", columns = \"RECORD_TIME\", values = \"LISTING_COUNT\")"
   ]
  },
  {
   "cell_type": "code",
   "execution_count": 6,
   "id": "union-huntington",
   "metadata": {
    "execution": {
     "iopub.execute_input": "2021-10-27T20:30:09.820631Z",
     "iopub.status.busy": "2021-10-27T20:30:09.818346Z",
     "iopub.status.idle": "2021-10-27T20:30:09.826337Z",
     "shell.execute_reply": "2021-10-27T20:30:09.824569Z"
    },
    "papermill": {
     "duration": 0.042562,
     "end_time": "2021-10-27T20:30:09.826762",
     "exception": false,
     "start_time": "2021-10-27T20:30:09.784200",
     "status": "completed"
    },
    "tags": []
   },
   "outputs": [],
   "source": [
    "df_pivot.columns = [\"stamp_1\", \"stamp_2\"]\n",
    "df_pivot_diff = df_pivot.diff(axis=1)"
   ]
  },
  {
   "cell_type": "code",
   "execution_count": 7,
   "id": "fifth-motion",
   "metadata": {
    "execution": {
     "iopub.execute_input": "2021-10-27T20:30:09.882573Z",
     "iopub.status.busy": "2021-10-27T20:30:09.880135Z",
     "iopub.status.idle": "2021-10-27T20:30:11.367336Z",
     "shell.execute_reply": "2021-10-27T20:30:11.368522Z"
    },
    "papermill": {
     "duration": 1.51992,
     "end_time": "2021-10-27T20:30:11.369002",
     "exception": false,
     "start_time": "2021-10-27T20:30:09.849082",
     "status": "completed"
    },
    "tags": []
   },
   "outputs": [
    {
     "data": {
      "text/plain": [
       "<AxesSubplot:ylabel='PRODUCT'>"
      ]
     },
     "execution_count": 7,
     "metadata": {},
     "output_type": "execute_result"
    },
    {
     "data": {
      "image/png": "[encoded data removed]",
      "text/plain": [
       "<Figure size 432x288 with 1 Axes>"
      ]
     },
     "metadata": {
      "needs_background": "light"
     },
     "output_type": "display_data"
    }
   ],
   "source": [
    "df_pivot_diff.sort_values(\"stamp_2\", ascending = False)[\"stamp_2\"].head(10).plot.barh()"
   ]
  },
  {
   "cell_type": "code",
   "execution_count": null,
   "id": "extra-executive",
   "metadata": {
    "papermill": {
     "duration": 0.022709,
     "end_time": "2021-10-27T20:30:11.415727",
     "exception": false,
     "start_time": "2021-10-27T20:30:11.393018",
     "status": "completed"
    },
    "tags": []
   },
   "outputs": [],
   "source": []
  }
 ],
 "metadata": {
  "kernelspec": {
   "display_name": "Python 3",
   "language": "python",
   "name": "python3"
  },
  "language_info": {
   "codemirror_mode": {
    "name": "ipython",
    "version": 3
   },
   "file_extension": ".py",
   "mimetype": "text/x-python",
   "name": "python",
   "nbconvert_exporter": "python",
   "pygments_lexer": "ipython3",
   "version": "3.9.5"
  },
  "papermill": {
   "default_parameters": {},
   "duration": 7.467173,
   "end_time": "2021-10-27T20:30:12.059740",
   "environment_variables": {},
   "exception": null,
   "input_path": "eBay_Overview.ipynb",
   "output_path": "eBay_Overview.ipynb",
   "parameters": {},
   "start_time": "2021-10-27T20:30:04.592567",
   "version": "2.3.3"
  }
 },
 "nbformat": 4,
 "nbformat_minor": 5
}