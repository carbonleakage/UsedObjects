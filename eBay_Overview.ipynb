{
 "cells": [
  {
   "cell_type": "code",
   "execution_count": 1,
   "id": "reverse-picking",
   "metadata": {
    "execution": {
     "iopub.execute_input": "2021-09-11T07:30:06.684295Z",
     "iopub.status.busy": "2021-09-11T07:30:06.682266Z",
     "iopub.status.idle": "2021-09-11T07:30:07.496037Z",
     "shell.execute_reply": "2021-09-11T07:30:07.497294Z"
    },
    "papermill": {
     "duration": 0.863343,
     "end_time": "2021-09-11T07:30:07.497916",
     "exception": false,
     "start_time": "2021-09-11T07:30:06.634573",
     "status": "completed"
    },
    "tags": []
   },
   "outputs": [],
   "source": [
    "import pandas as pd\n",
    "import sqlite3"
   ]
  },
  {
   "cell_type": "code",
   "execution_count": 2,
   "id": "innovative-syndrome",
   "metadata": {
    "execution": {
     "iopub.execute_input": "2021-09-11T07:30:07.549434Z",
     "iopub.status.busy": "2021-09-11T07:30:07.547578Z",
     "iopub.status.idle": "2021-09-11T07:30:07.809005Z",
     "shell.execute_reply": "2021-09-11T07:30:07.810121Z"
    },
    "papermill": {
     "duration": 0.290925,
     "end_time": "2021-09-11T07:30:07.810535",
     "exception": false,
     "start_time": "2021-09-11T07:30:07.519610",
     "status": "completed"
    },
    "tags": []
   },
   "outputs": [],
   "source": [
    "timestamps = pd.read_sql(\"select distinct record_time from EBAY_TOP_BERLIN order by record_time desc limit 2\", sqlite3.connect(\"UsedObjects.db\"))"
   ]
  },
  {
   "cell_type": "code",
   "execution_count": 3,
   "id": "periodic-identification",
   "metadata": {
    "execution": {
     "iopub.execute_input": "2021-09-11T07:30:07.875561Z",
     "iopub.status.busy": "2021-09-11T07:30:07.873376Z",
     "iopub.status.idle": "2021-09-11T07:30:07.892823Z",
     "shell.execute_reply": "2021-09-11T07:30:07.894091Z"
    },
    "papermill": {
     "duration": 0.063696,
     "end_time": "2021-09-11T07:30:07.894503",
     "exception": false,
     "start_time": "2021-09-11T07:30:07.830807",
     "status": "completed"
    },
    "tags": []
   },
   "outputs": [
    {
     "data": {
      "text/html": [
       "<div>\n",
       "<style scoped>\n",
       "    .dataframe tbody tr th:only-of-type {\n",
       "        vertical-align: middle;\n",
       "    }\n",
       "\n",
       "    .dataframe tbody tr th {\n",
       "        vertical-align: top;\n",
       "    }\n",
       "\n",
       "    .dataframe thead th {\n",
       "        text-align: right;\n",
       "    }\n",
       "</style>\n",
       "<table border=\"1\" class=\"dataframe\">\n",
       "  <thead>\n",
       "    <tr style=\"text-align: right;\">\n",
       "      <th></th>\n",
       "      <th>RECORD_TIME</th>\n",
       "    </tr>\n",
       "  </thead>\n",
       "  <tbody>\n",
       "    <tr>\n",
       "      <th>0</th>\n",
       "      <td>2021-09-11 09:30</td>\n",
       "    </tr>\n",
       "    <tr>\n",
       "      <th>1</th>\n",
       "      <td>2021-09-11 09:00</td>\n",
       "    </tr>\n",
       "  </tbody>\n",
       "</table>\n",
       "</div>"
      ],
      "text/plain": [
       "        RECORD_TIME\n",
       "0  2021-09-11 09:30\n",
       "1  2021-09-11 09:00"
      ]
     },
     "execution_count": 3,
     "metadata": {},
     "output_type": "execute_result"
    }
   ],
   "source": [
    "timestamps"
   ]
  },
  {
   "cell_type": "code",
   "execution_count": 4,
   "id": "alternate-victory",
   "metadata": {
    "execution": {
     "iopub.execute_input": "2021-09-11T07:30:07.945293Z",
     "iopub.status.busy": "2021-09-11T07:30:07.943465Z",
     "iopub.status.idle": "2021-09-11T07:30:08.334535Z",
     "shell.execute_reply": "2021-09-11T07:30:08.335874Z"
    },
    "papermill": {
     "duration": 0.421274,
     "end_time": "2021-09-11T07:30:08.336302",
     "exception": false,
     "start_time": "2021-09-11T07:30:07.915028",
     "status": "completed"
    },
    "tags": []
   },
   "outputs": [],
   "source": [
    "df = pd.read_sql(\"select * from EBAY_TOP_BERLIN where record_time in (select distinct record_time from EBAY_TOP_BERLIN order by record_time desc limit 2)\", sqlite3.connect(\"UsedObjects.db\"))"
   ]
  },
  {
   "cell_type": "code",
   "execution_count": 5,
   "id": "popular-active",
   "metadata": {
    "execution": {
     "iopub.execute_input": "2021-09-11T07:30:08.417563Z",
     "iopub.status.busy": "2021-09-11T07:30:08.410471Z",
     "iopub.status.idle": "2021-09-11T07:30:08.433124Z",
     "shell.execute_reply": "2021-09-11T07:30:08.434320Z"
    },
    "papermill": {
     "duration": 0.072374,
     "end_time": "2021-09-11T07:30:08.434748",
     "exception": false,
     "start_time": "2021-09-11T07:30:08.362374",
     "status": "completed"
    },
    "tags": []
   },
   "outputs": [],
   "source": [
    "df_pivot = df.pivot_table(index=\"PRODUCT\", columns = \"RECORD_TIME\", values = \"LISTING_COUNT\")"
   ]
  },
  {
   "cell_type": "code",
   "execution_count": 6,
   "id": "union-huntington",
   "metadata": {
    "execution": {
     "iopub.execute_input": "2021-09-11T07:30:08.490260Z",
     "iopub.status.busy": "2021-09-11T07:30:08.488232Z",
     "iopub.status.idle": "2021-09-11T07:30:08.493462Z",
     "shell.execute_reply": "2021-09-11T07:30:08.494723Z"
    },
    "papermill": {
     "duration": 0.040266,
     "end_time": "2021-09-11T07:30:08.495194",
     "exception": false,
     "start_time": "2021-09-11T07:30:08.454928",
     "status": "completed"
    },
    "tags": []
   },
   "outputs": [],
   "source": [
    "df_pivot.columns = [\"stamp_1\", \"stamp_2\"]\n",
    "df_pivot_diff = df_pivot.diff(axis=1)"
   ]
  },
  {
   "cell_type": "code",
   "execution_count": 7,
   "id": "fifth-motion",
   "metadata": {
    "execution": {
     "iopub.execute_input": "2021-09-11T07:30:08.550252Z",
     "iopub.status.busy": "2021-09-11T07:30:08.547861Z",
     "iopub.status.idle": "2021-09-11T07:30:10.075860Z",
     "shell.execute_reply": "2021-09-11T07:30:10.077208Z"
    },
    "papermill": {
     "duration": 1.561035,
     "end_time": "2021-09-11T07:30:10.077630",
     "exception": false,
     "start_time": "2021-09-11T07:30:08.516595",
     "status": "completed"
    },
    "tags": []
   },
   "outputs": [
    {
     "data": {
      "text/plain": [
       "<AxesSubplot:ylabel='PRODUCT'>"
      ]
     },
     "execution_count": 7,
     "metadata": {},
     "output_type": "execute_result"
    },
    {
     "data": {
      "image/png": "[encoded data removed]",
      "text/plain": [
       "<Figure size 432x288 with 1 Axes>"
      ]
     },
     "metadata": {
      "needs_background": "light"
     },
     "output_type": "display_data"
    }
   ],
   "source": [
    "df_pivot_diff.sort_values(\"stamp_2\", ascending = False)[\"stamp_2\"].head(10).plot.barh()"
   ]
  },
  {
   "cell_type": "code",
   "execution_count": null,
   "id": "extra-executive",
   "metadata": {
    "papermill": {
     "duration": 0.022155,
     "end_time": "2021-09-11T07:30:10.124469",
     "exception": false,
     "start_time": "2021-09-11T07:30:10.102314",
     "status": "completed"
    },
    "tags": []
   },
   "outputs": [],
   "source": []
  }
 ],
 "metadata": {
  "kernelspec": {
   "display_name": "Python 3",
   "language": "python",
   "name": "python3"
  },
  "language_info": {
   "codemirror_mode": {
    "name": "ipython",
    "version": 3
   },
   "file_extension": ".py",
   "mimetype": "text/x-python",
   "name": "python",
   "nbconvert_exporter": "python",
   "pygments_lexer": "ipython3",
   "version": "3.9.5"
  },
  "papermill": {
   "default_parameters": {},
   "duration": 6.550307,
   "end_time": "2021-09-11T07:30:10.765124",
   "environment_variables": {},
   "exception": null,
   "input_path": "eBay_Overview.ipynb",
   "output_path": "eBay_Overview.ipynb",
   "parameters": {},
   "start_time": "2021-09-11T07:30:04.214817",
   "version": "2.3.3"
  }
 },
 "nbformat": 4,
 "nbformat_minor": 5
}