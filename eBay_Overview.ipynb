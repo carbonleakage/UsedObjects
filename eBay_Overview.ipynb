{
 "cells": [
  {
   "cell_type": "code",
   "execution_count": 1,
   "id": "reverse-picking",
   "metadata": {
    "execution": {
     "iopub.execute_input": "2021-11-18T15:00:07.844099Z",
     "iopub.status.busy": "2021-11-18T15:00:07.840446Z",
     "iopub.status.idle": "2021-11-18T15:00:08.780132Z",
     "shell.execute_reply": "2021-11-18T15:00:08.781713Z"
    },
    "papermill": {
     "duration": 0.989694,
     "end_time": "2021-11-18T15:00:08.782896",
     "exception": false,
     "start_time": "2021-11-18T15:00:07.793202",
     "status": "completed"
    },
    "tags": []
   },
   "outputs": [],
   "source": [
    "import pandas as pd\n",
    "import sqlite3"
   ]
  },
  {
   "cell_type": "code",
   "execution_count": 2,
   "id": "innovative-syndrome",
   "metadata": {
    "execution": {
     "iopub.execute_input": "2021-11-18T15:00:08.846259Z",
     "iopub.status.busy": "2021-11-18T15:00:08.843868Z",
     "iopub.status.idle": "2021-11-18T15:00:09.689078Z",
     "shell.execute_reply": "2021-11-18T15:00:09.687374Z"
    },
    "papermill": {
     "duration": 0.885319,
     "end_time": "2021-11-18T15:00:09.689537",
     "exception": false,
     "start_time": "2021-11-18T15:00:08.804218",
     "status": "completed"
    },
    "tags": []
   },
   "outputs": [],
   "source": [
    "timestamps = pd.read_sql(\"select distinct record_time from EBAY_TOP_BERLIN order by record_time desc limit 2\", sqlite3.connect(\"UsedObjects.db\"))"
   ]
  },
  {
   "cell_type": "code",
   "execution_count": 3,
   "id": "periodic-identification",
   "metadata": {
    "execution": {
     "iopub.execute_input": "2021-11-18T15:00:09.761184Z",
     "iopub.status.busy": "2021-11-18T15:00:09.755514Z",
     "iopub.status.idle": "2021-11-18T15:00:09.777270Z",
     "shell.execute_reply": "2021-11-18T15:00:09.778569Z"
    },
    "papermill": {
     "duration": 0.069271,
     "end_time": "2021-11-18T15:00:09.779032",
     "exception": false,
     "start_time": "2021-11-18T15:00:09.709761",
     "status": "completed"
    },
    "tags": []
   },
   "outputs": [
    {
     "data": {
      "text/html": [
       "<div>\n",
       "<style scoped>\n",
       "    .dataframe tbody tr th:only-of-type {\n",
       "        vertical-align: middle;\n",
       "    }\n",
       "\n",
       "    .dataframe tbody tr th {\n",
       "        vertical-align: top;\n",
       "    }\n",
       "\n",
       "    .dataframe thead th {\n",
       "        text-align: right;\n",
       "    }\n",
       "</style>\n",
       "<table border=\"1\" class=\"dataframe\">\n",
       "  <thead>\n",
       "    <tr style=\"text-align: right;\">\n",
       "      <th></th>\n",
       "      <th>RECORD_TIME</th>\n",
       "    </tr>\n",
       "  </thead>\n",
       "  <tbody>\n",
       "    <tr>\n",
       "      <th>0</th>\n",
       "      <td>2021-11-18 16:00</td>\n",
       "    </tr>\n",
       "    <tr>\n",
       "      <th>1</th>\n",
       "      <td>2021-11-18 15:30</td>\n",
       "    </tr>\n",
       "  </tbody>\n",
       "</table>\n",
       "</div>"
      ],
      "text/plain": [
       "        RECORD_TIME\n",
       "0  2021-11-18 16:00\n",
       "1  2021-11-18 15:30"
      ]
     },
     "execution_count": 3,
     "metadata": {},
     "output_type": "execute_result"
    }
   ],
   "source": [
    "timestamps"
   ]
  },
  {
   "cell_type": "code",
   "execution_count": 4,
   "id": "alternate-victory",
   "metadata": {
    "execution": {
     "iopub.execute_input": "2021-11-18T15:00:09.832020Z",
     "iopub.status.busy": "2021-11-18T15:00:09.830019Z",
     "iopub.status.idle": "2021-11-18T15:00:11.050053Z",
     "shell.execute_reply": "2021-11-18T15:00:11.051659Z"
    },
    "papermill": {
     "duration": 1.252451,
     "end_time": "2021-11-18T15:00:11.052140",
     "exception": false,
     "start_time": "2021-11-18T15:00:09.799689",
     "status": "completed"
    },
    "tags": []
   },
   "outputs": [],
   "source": [
    "df = pd.read_sql(\"select * from EBAY_TOP_BERLIN where record_time in (select distinct record_time from EBAY_TOP_BERLIN order by record_time desc limit 2)\", sqlite3.connect(\"UsedObjects.db\"))"
   ]
  },
  {
   "cell_type": "code",
   "execution_count": 5,
   "id": "popular-active",
   "metadata": {
    "execution": {
     "iopub.execute_input": "2021-11-18T15:00:11.130809Z",
     "iopub.status.busy": "2021-11-18T15:00:11.116519Z",
     "iopub.status.idle": "2021-11-18T15:00:11.152633Z",
     "shell.execute_reply": "2021-11-18T15:00:11.151197Z"
    },
    "papermill": {
     "duration": 0.079262,
     "end_time": "2021-11-18T15:00:11.153094",
     "exception": false,
     "start_time": "2021-11-18T15:00:11.073832",
     "status": "completed"
    },
    "tags": []
   },
   "outputs": [],
   "source": [
    "df_pivot = df.pivot_table(index=\"PRODUCT\", columns = \"RECORD_TIME\", values = \"LISTING_COUNT\")"
   ]
  },
  {
   "cell_type": "code",
   "execution_count": 6,
   "id": "union-huntington",
   "metadata": {
    "execution": {
     "iopub.execute_input": "2021-11-18T15:00:11.211020Z",
     "iopub.status.busy": "2021-11-18T15:00:11.208866Z",
     "iopub.status.idle": "2021-11-18T15:00:11.214450Z",
     "shell.execute_reply": "2021-11-18T15:00:11.215894Z"
    },
    "papermill": {
     "duration": 0.04312,
     "end_time": "2021-11-18T15:00:11.216348",
     "exception": false,
     "start_time": "2021-11-18T15:00:11.173228",
     "status": "completed"
    },
    "tags": []
   },
   "outputs": [],
   "source": [
    "df_pivot.columns = [\"stamp_1\", \"stamp_2\"]\n",
    "df_pivot_diff = df_pivot.diff(axis=1)"
   ]
  },
  {
   "cell_type": "code",
   "execution_count": 7,
   "id": "fifth-motion",
   "metadata": {
    "execution": {
     "iopub.execute_input": "2021-11-18T15:00:11.276986Z",
     "iopub.status.busy": "2021-11-18T15:00:11.274574Z",
     "iopub.status.idle": "2021-11-18T15:00:13.106176Z",
     "shell.execute_reply": "2021-11-18T15:00:13.109173Z"
    },
    "papermill": {
     "duration": 1.872571,
     "end_time": "2021-11-18T15:00:13.109901",
     "exception": false,
     "start_time": "2021-11-18T15:00:11.237330",
     "status": "completed"
    },
    "tags": []
   },
   "outputs": [
    {
     "data": {
      "text/plain": [
       "<AxesSubplot:ylabel='PRODUCT'>"
      ]
     },
     "execution_count": 7,
     "metadata": {},
     "output_type": "execute_result"
    },
    {
     "data": {
      "image/png": "[encoded data removed]",
      "text/plain": [
       "<Figure size 432x288 with 1 Axes>"
      ]
     },
     "metadata": {
      "needs_background": "light"
     },
     "output_type": "display_data"
    }
   ],
   "source": [
    "df_pivot_diff.sort_values(\"stamp_2\", ascending = False)[\"stamp_2\"].head(10).plot.barh()"
   ]
  },
  {
   "cell_type": "code",
   "execution_count": null,
   "id": "extra-executive",
   "metadata": {
    "papermill": {
     "duration": 0.035989,
     "end_time": "2021-11-18T15:00:13.184063",
     "exception": false,
     "start_time": "2021-11-18T15:00:13.148074",
     "status": "completed"
    },
    "tags": []
   },
   "outputs": [],
   "source": []
  }
 ],
 "metadata": {
  "kernelspec": {
   "display_name": "Python 3",
   "language": "python",
   "name": "python3"
  },
  "language_info": {
   "codemirror_mode": {
    "name": "ipython",
    "version": 3
   },
   "file_extension": ".py",
   "mimetype": "text/x-python",
   "name": "python",
   "nbconvert_exporter": "python",
   "pygments_lexer": "ipython3",
   "version": "3.9.5"
  },
  "papermill": {
   "default_parameters": {},
   "duration": 9.977596,
   "end_time": "2021-11-18T15:00:14.998505",
   "environment_variables": {},
   "exception": null,
   "input_path": "eBay_Overview.ipynb",
   "output_path": "eBay_Overview.ipynb",
   "parameters": {},
   "start_time": "2021-11-18T15:00:05.020909",
   "version": "2.3.3"
  }
 },
 "nbformat": 4,
 "nbformat_minor": 5
}