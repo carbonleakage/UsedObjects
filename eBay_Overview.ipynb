{
 "cells": [
  {
   "cell_type": "code",
   "execution_count": 1,
   "id": "reverse-picking",
   "metadata": {
    "execution": {
     "iopub.execute_input": "2021-12-04T15:00:08.310959Z",
     "iopub.status.busy": "2021-12-04T15:00:08.308490Z",
     "iopub.status.idle": "2021-12-04T15:00:09.263325Z",
     "shell.execute_reply": "2021-12-04T15:00:09.264967Z"
    },
    "papermill": {
     "duration": 1.005659,
     "end_time": "2021-12-04T15:00:09.265718",
     "exception": false,
     "start_time": "2021-12-04T15:00:08.260059",
     "status": "completed"
    },
    "tags": []
   },
   "outputs": [],
   "source": [
    "import pandas as pd\n",
    "import sqlite3"
   ]
  },
  {
   "cell_type": "code",
   "execution_count": 2,
   "id": "innovative-syndrome",
   "metadata": {
    "execution": {
     "iopub.execute_input": "2021-12-04T15:00:09.328364Z",
     "iopub.status.busy": "2021-12-04T15:00:09.326118Z",
     "iopub.status.idle": "2021-12-04T15:00:10.305482Z",
     "shell.execute_reply": "2021-12-04T15:00:10.306927Z"
    },
    "papermill": {
     "duration": 1.014369,
     "end_time": "2021-12-04T15:00:10.307373",
     "exception": false,
     "start_time": "2021-12-04T15:00:09.293004",
     "status": "completed"
    },
    "tags": []
   },
   "outputs": [],
   "source": [
    "timestamps = pd.read_sql(\"select distinct record_time from EBAY_TOP_BERLIN order by record_time desc limit 2\", sqlite3.connect(\"UsedObjects.db\"))"
   ]
  },
  {
   "cell_type": "code",
   "execution_count": 3,
   "id": "periodic-identification",
   "metadata": {
    "execution": {
     "iopub.execute_input": "2021-12-04T15:00:10.375130Z",
     "iopub.status.busy": "2021-12-04T15:00:10.373087Z",
     "iopub.status.idle": "2021-12-04T15:00:10.393234Z",
     "shell.execute_reply": "2021-12-04T15:00:10.394485Z"
    },
    "papermill": {
     "duration": 0.067746,
     "end_time": "2021-12-04T15:00:10.394922",
     "exception": false,
     "start_time": "2021-12-04T15:00:10.327176",
     "status": "completed"
    },
    "tags": []
   },
   "outputs": [
    {
     "data": {
      "text/html": [
       "<div>\n",
       "<style scoped>\n",
       "    .dataframe tbody tr th:only-of-type {\n",
       "        vertical-align: middle;\n",
       "    }\n",
       "\n",
       "    .dataframe tbody tr th {\n",
       "        vertical-align: top;\n",
       "    }\n",
       "\n",
       "    .dataframe thead th {\n",
       "        text-align: right;\n",
       "    }\n",
       "</style>\n",
       "<table border=\"1\" class=\"dataframe\">\n",
       "  <thead>\n",
       "    <tr style=\"text-align: right;\">\n",
       "      <th></th>\n",
       "      <th>RECORD_TIME</th>\n",
       "    </tr>\n",
       "  </thead>\n",
       "  <tbody>\n",
       "    <tr>\n",
       "      <th>0</th>\n",
       "      <td>2021-12-04 16:00</td>\n",
       "    </tr>\n",
       "    <tr>\n",
       "      <th>1</th>\n",
       "      <td>2021-12-04 15:30</td>\n",
       "    </tr>\n",
       "  </tbody>\n",
       "</table>\n",
       "</div>"
      ],
      "text/plain": [
       "        RECORD_TIME\n",
       "0  2021-12-04 16:00\n",
       "1  2021-12-04 15:30"
      ]
     },
     "execution_count": 3,
     "metadata": {},
     "output_type": "execute_result"
    }
   ],
   "source": [
    "timestamps"
   ]
  },
  {
   "cell_type": "code",
   "execution_count": 4,
   "id": "alternate-victory",
   "metadata": {
    "execution": {
     "iopub.execute_input": "2021-12-04T15:00:10.449421Z",
     "iopub.status.busy": "2021-12-04T15:00:10.447019Z",
     "iopub.status.idle": "2021-12-04T15:00:11.980108Z",
     "shell.execute_reply": "2021-12-04T15:00:11.981673Z"
    },
    "papermill": {
     "duration": 1.564252,
     "end_time": "2021-12-04T15:00:11.982151",
     "exception": false,
     "start_time": "2021-12-04T15:00:10.417899",
     "status": "completed"
    },
    "tags": []
   },
   "outputs": [],
   "source": [
    "df = pd.read_sql(\"select * from EBAY_TOP_BERLIN where record_time in (select distinct record_time from EBAY_TOP_BERLIN order by record_time desc limit 2)\", sqlite3.connect(\"UsedObjects.db\"))"
   ]
  },
  {
   "cell_type": "code",
   "execution_count": 5,
   "id": "popular-active",
   "metadata": {
    "execution": {
     "iopub.execute_input": "2021-12-04T15:00:12.056616Z",
     "iopub.status.busy": "2021-12-04T15:00:12.044150Z",
     "iopub.status.idle": "2021-12-04T15:00:12.075586Z",
     "shell.execute_reply": "2021-12-04T15:00:12.077346Z"
    },
    "papermill": {
     "duration": 0.074575,
     "end_time": "2021-12-04T15:00:12.077847",
     "exception": false,
     "start_time": "2021-12-04T15:00:12.003272",
     "status": "completed"
    },
    "tags": []
   },
   "outputs": [],
   "source": [
    "df_pivot = df.pivot_table(index=\"PRODUCT\", columns = \"RECORD_TIME\", values = \"LISTING_COUNT\")"
   ]
  },
  {
   "cell_type": "code",
   "execution_count": 6,
   "id": "union-huntington",
   "metadata": {
    "execution": {
     "iopub.execute_input": "2021-12-04T15:00:12.139433Z",
     "iopub.status.busy": "2021-12-04T15:00:12.137214Z",
     "iopub.status.idle": "2021-12-04T15:00:12.142977Z",
     "shell.execute_reply": "2021-12-04T15:00:12.144361Z"
    },
    "papermill": {
     "duration": 0.045845,
     "end_time": "2021-12-04T15:00:12.144886",
     "exception": false,
     "start_time": "2021-12-04T15:00:12.099041",
     "status": "completed"
    },
    "tags": []
   },
   "outputs": [],
   "source": [
    "df_pivot.columns = [\"stamp_1\", \"stamp_2\"]\n",
    "df_pivot_diff = df_pivot.diff(axis=1)"
   ]
  },
  {
   "cell_type": "code",
   "execution_count": 7,
   "id": "fifth-motion",
   "metadata": {
    "execution": {
     "iopub.execute_input": "2021-12-04T15:00:12.212568Z",
     "iopub.status.busy": "2021-12-04T15:00:12.210065Z",
     "iopub.status.idle": "2021-12-04T15:00:14.253514Z",
     "shell.execute_reply": "2021-12-04T15:00:14.254836Z"
    },
    "papermill": {
     "duration": 2.079579,
     "end_time": "2021-12-04T15:00:14.255303",
     "exception": false,
     "start_time": "2021-12-04T15:00:12.175724",
     "status": "completed"
    },
    "tags": []
   },
   "outputs": [
    {
     "data": {
      "text/plain": [
       "<AxesSubplot:ylabel='PRODUCT'>"
      ]
     },
     "execution_count": 7,
     "metadata": {},
     "output_type": "execute_result"
    },
    {
     "data": {
      "image/png": "[encoded data removed]",
      "text/plain": [
       "<Figure size 432x288 with 1 Axes>"
      ]
     },
     "metadata": {
      "needs_background": "light"
     },
     "output_type": "display_data"
    }
   ],
   "source": [
    "df_pivot_diff.sort_values(\"stamp_2\", ascending = False)[\"stamp_2\"].head(10).plot.barh()"
   ]
  },
  {
   "cell_type": "code",
   "execution_count": null,
   "id": "extra-executive",
   "metadata": {
    "papermill": {
     "duration": 0.0663,
     "end_time": "2021-12-04T15:00:14.348265",
     "exception": false,
     "start_time": "2021-12-04T15:00:14.281965",
     "status": "completed"
    },
    "tags": []
   },
   "outputs": [],
   "source": []
  }
 ],
 "metadata": {
  "kernelspec": {
   "display_name": "Python 3",
   "language": "python",
   "name": "python3"
  },
  "language_info": {
   "codemirror_mode": {
    "name": "ipython",
    "version": 3
   },
   "file_extension": ".py",
   "mimetype": "text/x-python",
   "name": "python",
   "nbconvert_exporter": "python",
   "pygments_lexer": "ipython3",
   "version": "3.9.5"
  },
  "papermill": {
   "default_parameters": {},
   "duration": 9.466955,
   "end_time": "2021-12-04T15:00:14.990827",
   "environment_variables": {},
   "exception": null,
   "input_path": "eBay_Overview.ipynb",
   "output_path": "eBay_Overview.ipynb",
   "parameters": {},
   "start_time": "2021-12-04T15:00:05.523872",
   "version": "2.3.3"
  }
 },
 "nbformat": 4,
 "nbformat_minor": 5
}