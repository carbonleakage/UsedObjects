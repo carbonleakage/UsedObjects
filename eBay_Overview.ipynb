{
 "cells": [
  {
   "cell_type": "code",
   "execution_count": 1,
   "id": "reverse-picking",
   "metadata": {
    "execution": {
     "iopub.execute_input": "2021-09-13T19:30:07.148773Z",
     "iopub.status.busy": "2021-09-13T19:30:07.146639Z",
     "iopub.status.idle": "2021-09-13T19:30:07.951116Z",
     "shell.execute_reply": "2021-09-13T19:30:07.952391Z"
    },
    "papermill": {
     "duration": 0.855543,
     "end_time": "2021-09-13T19:30:07.952997",
     "exception": false,
     "start_time": "2021-09-13T19:30:07.097454",
     "status": "completed"
    },
    "tags": []
   },
   "outputs": [],
   "source": [
    "import pandas as pd\n",
    "import sqlite3"
   ]
  },
  {
   "cell_type": "code",
   "execution_count": 2,
   "id": "innovative-syndrome",
   "metadata": {
    "execution": {
     "iopub.execute_input": "2021-09-13T19:30:08.006440Z",
     "iopub.status.busy": "2021-09-13T19:30:08.004112Z",
     "iopub.status.idle": "2021-09-13T19:30:08.294756Z",
     "shell.execute_reply": "2021-09-13T19:30:08.296246Z"
    },
    "papermill": {
     "duration": 0.320628,
     "end_time": "2021-09-13T19:30:08.296683",
     "exception": false,
     "start_time": "2021-09-13T19:30:07.976055",
     "status": "completed"
    },
    "tags": []
   },
   "outputs": [],
   "source": [
    "timestamps = pd.read_sql(\"select distinct record_time from EBAY_TOP_BERLIN order by record_time desc limit 2\", sqlite3.connect(\"UsedObjects.db\"))"
   ]
  },
  {
   "cell_type": "code",
   "execution_count": 3,
   "id": "periodic-identification",
   "metadata": {
    "execution": {
     "iopub.execute_input": "2021-09-13T19:30:08.360804Z",
     "iopub.status.busy": "2021-09-13T19:30:08.358726Z",
     "iopub.status.idle": "2021-09-13T19:30:08.382168Z",
     "shell.execute_reply": "2021-09-13T19:30:08.380919Z"
    },
    "papermill": {
     "duration": 0.066274,
     "end_time": "2021-09-13T19:30:08.382512",
     "exception": false,
     "start_time": "2021-09-13T19:30:08.316238",
     "status": "completed"
    },
    "tags": []
   },
   "outputs": [
    {
     "data": {
      "text/html": [
       "<div>\n",
       "<style scoped>\n",
       "    .dataframe tbody tr th:only-of-type {\n",
       "        vertical-align: middle;\n",
       "    }\n",
       "\n",
       "    .dataframe tbody tr th {\n",
       "        vertical-align: top;\n",
       "    }\n",
       "\n",
       "    .dataframe thead th {\n",
       "        text-align: right;\n",
       "    }\n",
       "</style>\n",
       "<table border=\"1\" class=\"dataframe\">\n",
       "  <thead>\n",
       "    <tr style=\"text-align: right;\">\n",
       "      <th></th>\n",
       "      <th>RECORD_TIME</th>\n",
       "    </tr>\n",
       "  </thead>\n",
       "  <tbody>\n",
       "    <tr>\n",
       "      <th>0</th>\n",
       "      <td>2021-09-13 21:30</td>\n",
       "    </tr>\n",
       "    <tr>\n",
       "      <th>1</th>\n",
       "      <td>2021-09-13 21:00</td>\n",
       "    </tr>\n",
       "  </tbody>\n",
       "</table>\n",
       "</div>"
      ],
      "text/plain": [
       "        RECORD_TIME\n",
       "0  2021-09-13 21:30\n",
       "1  2021-09-13 21:00"
      ]
     },
     "execution_count": 3,
     "metadata": {},
     "output_type": "execute_result"
    }
   ],
   "source": [
    "timestamps"
   ]
  },
  {
   "cell_type": "code",
   "execution_count": 4,
   "id": "alternate-victory",
   "metadata": {
    "execution": {
     "iopub.execute_input": "2021-09-13T19:30:08.437451Z",
     "iopub.status.busy": "2021-09-13T19:30:08.435515Z",
     "iopub.status.idle": "2021-09-13T19:30:08.864375Z",
     "shell.execute_reply": "2021-09-13T19:30:08.865757Z"
    },
    "papermill": {
     "duration": 0.459478,
     "end_time": "2021-09-13T19:30:08.866190",
     "exception": false,
     "start_time": "2021-09-13T19:30:08.406712",
     "status": "completed"
    },
    "tags": []
   },
   "outputs": [],
   "source": [
    "df = pd.read_sql(\"select * from EBAY_TOP_BERLIN where record_time in (select distinct record_time from EBAY_TOP_BERLIN order by record_time desc limit 2)\", sqlite3.connect(\"UsedObjects.db\"))"
   ]
  },
  {
   "cell_type": "code",
   "execution_count": 5,
   "id": "popular-active",
   "metadata": {
    "execution": {
     "iopub.execute_input": "2021-09-13T19:30:08.936690Z",
     "iopub.status.busy": "2021-09-13T19:30:08.924806Z",
     "iopub.status.idle": "2021-09-13T19:30:08.952018Z",
     "shell.execute_reply": "2021-09-13T19:30:08.953244Z"
    },
    "papermill": {
     "duration": 0.066549,
     "end_time": "2021-09-13T19:30:08.953634",
     "exception": false,
     "start_time": "2021-09-13T19:30:08.887085",
     "status": "completed"
    },
    "tags": []
   },
   "outputs": [],
   "source": [
    "df_pivot = df.pivot_table(index=\"PRODUCT\", columns = \"RECORD_TIME\", values = \"LISTING_COUNT\")"
   ]
  },
  {
   "cell_type": "code",
   "execution_count": 6,
   "id": "union-huntington",
   "metadata": {
    "execution": {
     "iopub.execute_input": "2021-09-13T19:30:09.013062Z",
     "iopub.status.busy": "2021-09-13T19:30:09.010606Z",
     "iopub.status.idle": "2021-09-13T19:30:09.016879Z",
     "shell.execute_reply": "2021-09-13T19:30:09.018338Z"
    },
    "papermill": {
     "duration": 0.042903,
     "end_time": "2021-09-13T19:30:09.018799",
     "exception": false,
     "start_time": "2021-09-13T19:30:08.975896",
     "status": "completed"
    },
    "tags": []
   },
   "outputs": [],
   "source": [
    "df_pivot.columns = [\"stamp_1\", \"stamp_2\"]\n",
    "df_pivot_diff = df_pivot.diff(axis=1)"
   ]
  },
  {
   "cell_type": "code",
   "execution_count": 7,
   "id": "fifth-motion",
   "metadata": {
    "execution": {
     "iopub.execute_input": "2021-09-13T19:30:09.073836Z",
     "iopub.status.busy": "2021-09-13T19:30:09.071451Z",
     "iopub.status.idle": "2021-09-13T19:30:10.590361Z",
     "shell.execute_reply": "2021-09-13T19:30:10.591920Z"
    },
    "papermill": {
     "duration": 1.55218,
     "end_time": "2021-09-13T19:30:10.592436",
     "exception": false,
     "start_time": "2021-09-13T19:30:09.040256",
     "status": "completed"
    },
    "tags": []
   },
   "outputs": [
    {
     "data": {
      "text/plain": [
       "<AxesSubplot:ylabel='PRODUCT'>"
      ]
     },
     "execution_count": 7,
     "metadata": {},
     "output_type": "execute_result"
    },
    {
     "data": {
      "image/png": "[encoded data removed]",
      "text/plain": [
       "<Figure size 432x288 with 1 Axes>"
      ]
     },
     "metadata": {
      "needs_background": "light"
     },
     "output_type": "display_data"
    }
   ],
   "source": [
    "df_pivot_diff.sort_values(\"stamp_2\", ascending = False)[\"stamp_2\"].head(10).plot.barh()"
   ]
  },
  {
   "cell_type": "code",
   "execution_count": null,
   "id": "extra-executive",
   "metadata": {
    "papermill": {
     "duration": 0.022499,
     "end_time": "2021-09-13T19:30:10.641247",
     "exception": false,
     "start_time": "2021-09-13T19:30:10.618748",
     "status": "completed"
    },
    "tags": []
   },
   "outputs": [],
   "source": []
  }
 ],
 "metadata": {
  "kernelspec": {
   "display_name": "Python 3",
   "language": "python",
   "name": "python3"
  },
  "language_info": {
   "codemirror_mode": {
    "name": "ipython",
    "version": 3
   },
   "file_extension": ".py",
   "mimetype": "text/x-python",
   "name": "python",
   "nbconvert_exporter": "python",
   "pygments_lexer": "ipython3",
   "version": "3.9.5"
  },
  "papermill": {
   "default_parameters": {},
   "duration": 6.590391,
   "end_time": "2021-09-13T19:30:11.283898",
   "environment_variables": {},
   "exception": null,
   "input_path": "eBay_Overview.ipynb",
   "output_path": "eBay_Overview.ipynb",
   "parameters": {},
   "start_time": "2021-09-13T19:30:04.693507",
   "version": "2.3.3"
  }
 },
 "nbformat": 4,
 "nbformat_minor": 5
}