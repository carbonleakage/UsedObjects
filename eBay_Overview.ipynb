{
 "cells": [
  {
   "cell_type": "code",
   "execution_count": 1,
   "id": "reverse-picking",
   "metadata": {
    "execution": {
     "iopub.execute_input": "2021-08-13T20:30:07.517047Z",
     "iopub.status.busy": "2021-08-13T20:30:07.513582Z",
     "iopub.status.idle": "2021-08-13T20:30:08.327567Z",
     "shell.execute_reply": "2021-08-13T20:30:08.328968Z"
    },
    "papermill": {
     "duration": 0.867254,
     "end_time": "2021-08-13T20:30:08.329656",
     "exception": false,
     "start_time": "2021-08-13T20:30:07.462402",
     "status": "completed"
    },
    "tags": []
   },
   "outputs": [],
   "source": [
    "import pandas as pd\n",
    "import sqlite3"
   ]
  },
  {
   "cell_type": "code",
   "execution_count": 2,
   "id": "innovative-syndrome",
   "metadata": {
    "execution": {
     "iopub.execute_input": "2021-08-13T20:30:08.381736Z",
     "iopub.status.busy": "2021-08-13T20:30:08.379743Z",
     "iopub.status.idle": "2021-08-13T20:30:08.422628Z",
     "shell.execute_reply": "2021-08-13T20:30:08.423872Z"
    },
    "papermill": {
     "duration": 0.073212,
     "end_time": "2021-08-13T20:30:08.424264",
     "exception": false,
     "start_time": "2021-08-13T20:30:08.351052",
     "status": "completed"
    },
    "tags": []
   },
   "outputs": [],
   "source": [
    "timestamps = pd.read_sql(\"select distinct record_time from EBAY_TOP_BERLIN order by record_time desc limit 2\", sqlite3.connect(\"UsedObjects.db\"))"
   ]
  },
  {
   "cell_type": "code",
   "execution_count": 3,
   "id": "periodic-identification",
   "metadata": {
    "execution": {
     "iopub.execute_input": "2021-08-13T20:30:08.488820Z",
     "iopub.status.busy": "2021-08-13T20:30:08.486787Z",
     "iopub.status.idle": "2021-08-13T20:30:08.507114Z",
     "shell.execute_reply": "2021-08-13T20:30:08.508447Z"
    },
    "papermill": {
     "duration": 0.064194,
     "end_time": "2021-08-13T20:30:08.508858",
     "exception": false,
     "start_time": "2021-08-13T20:30:08.444664",
     "status": "completed"
    },
    "tags": []
   },
   "outputs": [
    {
     "data": {
      "text/html": [
       "<div>\n",
       "<style scoped>\n",
       "    .dataframe tbody tr th:only-of-type {\n",
       "        vertical-align: middle;\n",
       "    }\n",
       "\n",
       "    .dataframe tbody tr th {\n",
       "        vertical-align: top;\n",
       "    }\n",
       "\n",
       "    .dataframe thead th {\n",
       "        text-align: right;\n",
       "    }\n",
       "</style>\n",
       "<table border=\"1\" class=\"dataframe\">\n",
       "  <thead>\n",
       "    <tr style=\"text-align: right;\">\n",
       "      <th></th>\n",
       "      <th>RECORD_TIME</th>\n",
       "    </tr>\n",
       "  </thead>\n",
       "  <tbody>\n",
       "    <tr>\n",
       "      <th>0</th>\n",
       "      <td>2021-08-13 22:30</td>\n",
       "    </tr>\n",
       "    <tr>\n",
       "      <th>1</th>\n",
       "      <td>2021-08-13 22:00</td>\n",
       "    </tr>\n",
       "  </tbody>\n",
       "</table>\n",
       "</div>"
      ],
      "text/plain": [
       "        RECORD_TIME\n",
       "0  2021-08-13 22:30\n",
       "1  2021-08-13 22:00"
      ]
     },
     "execution_count": 3,
     "metadata": {},
     "output_type": "execute_result"
    }
   ],
   "source": [
    "timestamps"
   ]
  },
  {
   "cell_type": "code",
   "execution_count": 4,
   "id": "alternate-victory",
   "metadata": {
    "execution": {
     "iopub.execute_input": "2021-08-13T20:30:08.561784Z",
     "iopub.status.busy": "2021-08-13T20:30:08.559482Z",
     "iopub.status.idle": "2021-08-13T20:30:08.623200Z",
     "shell.execute_reply": "2021-08-13T20:30:08.624428Z"
    },
    "papermill": {
     "duration": 0.094423,
     "end_time": "2021-08-13T20:30:08.624820",
     "exception": false,
     "start_time": "2021-08-13T20:30:08.530397",
     "status": "completed"
    },
    "tags": []
   },
   "outputs": [],
   "source": [
    "df = pd.read_sql(\"select * from EBAY_TOP_BERLIN where record_time in (select distinct record_time from EBAY_TOP_BERLIN order by record_time desc limit 2)\", sqlite3.connect(\"UsedObjects.db\"))"
   ]
  },
  {
   "cell_type": "code",
   "execution_count": 5,
   "id": "popular-active",
   "metadata": {
    "execution": {
     "iopub.execute_input": "2021-08-13T20:30:08.696215Z",
     "iopub.status.busy": "2021-08-13T20:30:08.683962Z",
     "iopub.status.idle": "2021-08-13T20:30:08.714015Z",
     "shell.execute_reply": "2021-08-13T20:30:08.715323Z"
    },
    "papermill": {
     "duration": 0.070295,
     "end_time": "2021-08-13T20:30:08.715736",
     "exception": false,
     "start_time": "2021-08-13T20:30:08.645441",
     "status": "completed"
    },
    "tags": []
   },
   "outputs": [],
   "source": [
    "df_pivot = df.pivot_table(index=\"PRODUCT\", columns = \"RECORD_TIME\", values = \"LISTING_COUNT\")"
   ]
  },
  {
   "cell_type": "code",
   "execution_count": 6,
   "id": "union-huntington",
   "metadata": {
    "execution": {
     "iopub.execute_input": "2021-08-13T20:30:08.772795Z",
     "iopub.status.busy": "2021-08-13T20:30:08.770697Z",
     "iopub.status.idle": "2021-08-13T20:30:08.775866Z",
     "shell.execute_reply": "2021-08-13T20:30:08.777152Z"
    },
    "papermill": {
     "duration": 0.040595,
     "end_time": "2021-08-13T20:30:08.777569",
     "exception": false,
     "start_time": "2021-08-13T20:30:08.736974",
     "status": "completed"
    },
    "tags": []
   },
   "outputs": [],
   "source": [
    "df_pivot.columns = [\"stamp_1\", \"stamp_2\"]\n",
    "df_pivot_diff = df_pivot.diff(axis=1)"
   ]
  },
  {
   "cell_type": "code",
   "execution_count": 7,
   "id": "fifth-motion",
   "metadata": {
    "execution": {
     "iopub.execute_input": "2021-08-13T20:30:08.832928Z",
     "iopub.status.busy": "2021-08-13T20:30:08.830502Z",
     "iopub.status.idle": "2021-08-13T20:30:10.304243Z",
     "shell.execute_reply": "2021-08-13T20:30:10.305532Z"
    },
    "papermill": {
     "duration": 1.5068,
     "end_time": "2021-08-13T20:30:10.306003",
     "exception": false,
     "start_time": "2021-08-13T20:30:08.799203",
     "status": "completed"
    },
    "tags": []
   },
   "outputs": [
    {
     "data": {
      "text/plain": [
       "<AxesSubplot:ylabel='PRODUCT'>"
      ]
     },
     "execution_count": 7,
     "metadata": {},
     "output_type": "execute_result"
    },
    {
     "data": {
      "image/png": "[encoded data removed]",
      "text/plain": [
       "<Figure size 432x288 with 1 Axes>"
      ]
     },
     "metadata": {
      "needs_background": "light"
     },
     "output_type": "display_data"
    }
   ],
   "source": [
    "df_pivot_diff.sort_values(\"stamp_2\", ascending = False)[\"stamp_2\"].head(10).plot.barh()"
   ]
  },
  {
   "cell_type": "code",
   "execution_count": null,
   "id": "extra-executive",
   "metadata": {
    "papermill": {
     "duration": 0.02212,
     "end_time": "2021-08-13T20:30:10.351896",
     "exception": false,
     "start_time": "2021-08-13T20:30:10.329776",
     "status": "completed"
    },
    "tags": []
   },
   "outputs": [],
   "source": []
  }
 ],
 "metadata": {
  "kernelspec": {
   "display_name": "Python 3",
   "language": "python",
   "name": "python3"
  },
  "language_info": {
   "codemirror_mode": {
    "name": "ipython",
    "version": 3
   },
   "file_extension": ".py",
   "mimetype": "text/x-python",
   "name": "python",
   "nbconvert_exporter": "python",
   "pygments_lexer": "ipython3",
   "version": "3.9.5"
  },
  "papermill": {
   "default_parameters": {},
   "duration": 6.831606,
   "end_time": "2021-08-13T20:30:11.867146",
   "environment_variables": {},
   "exception": null,
   "input_path": "eBay_Overview.ipynb",
   "output_path": "eBay_Overview.ipynb",
   "parameters": {},
   "start_time": "2021-08-13T20:30:05.035540",
   "version": "2.3.3"
  }
 },
 "nbformat": 4,
 "nbformat_minor": 5
}