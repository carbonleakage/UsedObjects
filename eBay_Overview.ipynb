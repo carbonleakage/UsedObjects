{
 "cells": [
  {
   "cell_type": "code",
   "execution_count": 1,
   "id": "reverse-picking",
   "metadata": {
    "execution": {
     "iopub.execute_input": "2021-12-01T22:30:07.420885Z",
     "iopub.status.busy": "2021-12-01T22:30:07.418783Z",
     "iopub.status.idle": "2021-12-01T22:30:08.341325Z",
     "shell.execute_reply": "2021-12-01T22:30:08.342939Z"
    },
    "papermill": {
     "duration": 0.972728,
     "end_time": "2021-12-01T22:30:08.343647",
     "exception": false,
     "start_time": "2021-12-01T22:30:07.370919",
     "status": "completed"
    },
    "tags": []
   },
   "outputs": [],
   "source": [
    "import pandas as pd\n",
    "import sqlite3"
   ]
  },
  {
   "cell_type": "code",
   "execution_count": 2,
   "id": "innovative-syndrome",
   "metadata": {
    "execution": {
     "iopub.execute_input": "2021-12-01T22:30:08.413978Z",
     "iopub.status.busy": "2021-12-01T22:30:08.411504Z",
     "iopub.status.idle": "2021-12-01T22:30:09.390538Z",
     "shell.execute_reply": "2021-12-01T22:30:09.392249Z"
    },
    "papermill": {
     "duration": 1.015237,
     "end_time": "2021-12-01T22:30:09.392810",
     "exception": false,
     "start_time": "2021-12-01T22:30:08.377573",
     "status": "completed"
    },
    "tags": []
   },
   "outputs": [],
   "source": [
    "timestamps = pd.read_sql(\"select distinct record_time from EBAY_TOP_BERLIN order by record_time desc limit 2\", sqlite3.connect(\"UsedObjects.db\"))"
   ]
  },
  {
   "cell_type": "code",
   "execution_count": 3,
   "id": "periodic-identification",
   "metadata": {
    "execution": {
     "iopub.execute_input": "2021-12-01T22:30:09.462832Z",
     "iopub.status.busy": "2021-12-01T22:30:09.460759Z",
     "iopub.status.idle": "2021-12-01T22:30:09.481494Z",
     "shell.execute_reply": "2021-12-01T22:30:09.482643Z"
    },
    "papermill": {
     "duration": 0.066664,
     "end_time": "2021-12-01T22:30:09.483058",
     "exception": false,
     "start_time": "2021-12-01T22:30:09.416394",
     "status": "completed"
    },
    "tags": []
   },
   "outputs": [
    {
     "data": {
      "text/html": [
       "<div>\n",
       "<style scoped>\n",
       "    .dataframe tbody tr th:only-of-type {\n",
       "        vertical-align: middle;\n",
       "    }\n",
       "\n",
       "    .dataframe tbody tr th {\n",
       "        vertical-align: top;\n",
       "    }\n",
       "\n",
       "    .dataframe thead th {\n",
       "        text-align: right;\n",
       "    }\n",
       "</style>\n",
       "<table border=\"1\" class=\"dataframe\">\n",
       "  <thead>\n",
       "    <tr style=\"text-align: right;\">\n",
       "      <th></th>\n",
       "      <th>RECORD_TIME</th>\n",
       "    </tr>\n",
       "  </thead>\n",
       "  <tbody>\n",
       "    <tr>\n",
       "      <th>0</th>\n",
       "      <td>2021-12-01 23:30</td>\n",
       "    </tr>\n",
       "    <tr>\n",
       "      <th>1</th>\n",
       "      <td>2021-12-01 23:00</td>\n",
       "    </tr>\n",
       "  </tbody>\n",
       "</table>\n",
       "</div>"
      ],
      "text/plain": [
       "        RECORD_TIME\n",
       "0  2021-12-01 23:30\n",
       "1  2021-12-01 23:00"
      ]
     },
     "execution_count": 3,
     "metadata": {},
     "output_type": "execute_result"
    }
   ],
   "source": [
    "timestamps"
   ]
  },
  {
   "cell_type": "code",
   "execution_count": 4,
   "id": "alternate-victory",
   "metadata": {
    "execution": {
     "iopub.execute_input": "2021-12-01T22:30:09.537896Z",
     "iopub.status.busy": "2021-12-01T22:30:09.535514Z",
     "iopub.status.idle": "2021-12-01T22:30:10.943845Z",
     "shell.execute_reply": "2021-12-01T22:30:10.945400Z"
    },
    "papermill": {
     "duration": 1.439451,
     "end_time": "2021-12-01T22:30:10.945899",
     "exception": false,
     "start_time": "2021-12-01T22:30:09.506448",
     "status": "completed"
    },
    "tags": []
   },
   "outputs": [],
   "source": [
    "df = pd.read_sql(\"select * from EBAY_TOP_BERLIN where record_time in (select distinct record_time from EBAY_TOP_BERLIN order by record_time desc limit 2)\", sqlite3.connect(\"UsedObjects.db\"))"
   ]
  },
  {
   "cell_type": "code",
   "execution_count": 5,
   "id": "popular-active",
   "metadata": {
    "execution": {
     "iopub.execute_input": "2021-12-01T22:30:11.028591Z",
     "iopub.status.busy": "2021-12-01T22:30:11.013170Z",
     "iopub.status.idle": "2021-12-01T22:30:11.059991Z",
     "shell.execute_reply": "2021-12-01T22:30:11.061803Z"
    },
    "papermill": {
     "duration": 0.091402,
     "end_time": "2021-12-01T22:30:11.062362",
     "exception": false,
     "start_time": "2021-12-01T22:30:10.970960",
     "status": "completed"
    },
    "tags": []
   },
   "outputs": [],
   "source": [
    "df_pivot = df.pivot_table(index=\"PRODUCT\", columns = \"RECORD_TIME\", values = \"LISTING_COUNT\")"
   ]
  },
  {
   "cell_type": "code",
   "execution_count": 6,
   "id": "union-huntington",
   "metadata": {
    "execution": {
     "iopub.execute_input": "2021-12-01T22:30:11.126197Z",
     "iopub.status.busy": "2021-12-01T22:30:11.123716Z",
     "iopub.status.idle": "2021-12-01T22:30:11.129732Z",
     "shell.execute_reply": "2021-12-01T22:30:11.131090Z"
    },
    "papermill": {
     "duration": 0.045461,
     "end_time": "2021-12-01T22:30:11.131561",
     "exception": false,
     "start_time": "2021-12-01T22:30:11.086100",
     "status": "completed"
    },
    "tags": []
   },
   "outputs": [],
   "source": [
    "df_pivot.columns = [\"stamp_1\", \"stamp_2\"]\n",
    "df_pivot_diff = df_pivot.diff(axis=1)"
   ]
  },
  {
   "cell_type": "code",
   "execution_count": 7,
   "id": "fifth-motion",
   "metadata": {
    "execution": {
     "iopub.execute_input": "2021-12-01T22:30:11.188245Z",
     "iopub.status.busy": "2021-12-01T22:30:11.185826Z",
     "iopub.status.idle": "2021-12-01T22:30:13.212435Z",
     "shell.execute_reply": "2021-12-01T22:30:13.214371Z"
    },
    "papermill": {
     "duration": 2.063285,
     "end_time": "2021-12-01T22:30:13.215001",
     "exception": false,
     "start_time": "2021-12-01T22:30:11.151716",
     "status": "completed"
    },
    "tags": []
   },
   "outputs": [
    {
     "data": {
      "text/plain": [
       "<AxesSubplot:ylabel='PRODUCT'>"
      ]
     },
     "execution_count": 7,
     "metadata": {},
     "output_type": "execute_result"
    },
    {
     "data": {
      "image/png": "[encoded data removed]",
      "text/plain": [
       "<Figure size 432x288 with 1 Axes>"
      ]
     },
     "metadata": {
      "needs_background": "light"
     },
     "output_type": "display_data"
    }
   ],
   "source": [
    "df_pivot_diff.sort_values(\"stamp_2\", ascending = False)[\"stamp_2\"].head(10).plot.barh()"
   ]
  },
  {
   "cell_type": "code",
   "execution_count": null,
   "id": "extra-executive",
   "metadata": {
    "papermill": {
     "duration": 0.02551,
     "end_time": "2021-12-01T22:30:13.269135",
     "exception": false,
     "start_time": "2021-12-01T22:30:13.243625",
     "status": "completed"
    },
    "tags": []
   },
   "outputs": [],
   "source": []
  }
 ],
 "metadata": {
  "kernelspec": {
   "display_name": "Python 3",
   "language": "python",
   "name": "python3"
  },
  "language_info": {
   "codemirror_mode": {
    "name": "ipython",
    "version": 3
   },
   "file_extension": ".py",
   "mimetype": "text/x-python",
   "name": "python",
   "nbconvert_exporter": "python",
   "pygments_lexer": "ipython3",
   "version": "3.9.5"
  },
  "papermill": {
   "default_parameters": {},
   "duration": 9.943347,
   "end_time": "2021-12-01T22:30:14.578077",
   "environment_variables": {},
   "exception": null,
   "input_path": "eBay_Overview.ipynb",
   "output_path": "eBay_Overview.ipynb",
   "parameters": {},
   "start_time": "2021-12-01T22:30:04.634730",
   "version": "2.3.3"
  }
 },
 "nbformat": 4,
 "nbformat_minor": 5
}