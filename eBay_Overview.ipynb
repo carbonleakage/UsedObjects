{
 "cells": [
  {
   "cell_type": "code",
   "execution_count": 1,
   "id": "reverse-picking",
   "metadata": {
    "execution": {
     "iopub.execute_input": "2021-11-18T13:30:08.022238Z",
     "iopub.status.busy": "2021-11-18T13:30:08.019888Z",
     "iopub.status.idle": "2021-11-18T13:30:08.962964Z",
     "shell.execute_reply": "2021-11-18T13:30:08.964506Z"
    },
    "papermill": {
     "duration": 0.991534,
     "end_time": "2021-11-18T13:30:08.965313",
     "exception": false,
     "start_time": "2021-11-18T13:30:07.973779",
     "status": "completed"
    },
    "tags": []
   },
   "outputs": [],
   "source": [
    "import pandas as pd\n",
    "import sqlite3"
   ]
  },
  {
   "cell_type": "code",
   "execution_count": 2,
   "id": "innovative-syndrome",
   "metadata": {
    "execution": {
     "iopub.execute_input": "2021-11-18T13:30:09.028529Z",
     "iopub.status.busy": "2021-11-18T13:30:09.026346Z",
     "iopub.status.idle": "2021-11-18T13:30:09.870672Z",
     "shell.execute_reply": "2021-11-18T13:30:09.872140Z"
    },
    "papermill": {
     "duration": 0.885731,
     "end_time": "2021-11-18T13:30:09.872665",
     "exception": false,
     "start_time": "2021-11-18T13:30:08.986934",
     "status": "completed"
    },
    "tags": []
   },
   "outputs": [],
   "source": [
    "timestamps = pd.read_sql(\"select distinct record_time from EBAY_TOP_BERLIN order by record_time desc limit 2\", sqlite3.connect(\"UsedObjects.db\"))"
   ]
  },
  {
   "cell_type": "code",
   "execution_count": 3,
   "id": "periodic-identification",
   "metadata": {
    "execution": {
     "iopub.execute_input": "2021-11-18T13:30:09.944838Z",
     "iopub.status.busy": "2021-11-18T13:30:09.942322Z",
     "iopub.status.idle": "2021-11-18T13:30:09.965088Z",
     "shell.execute_reply": "2021-11-18T13:30:09.966563Z"
    },
    "papermill": {
     "duration": 0.07375,
     "end_time": "2021-11-18T13:30:09.967082",
     "exception": false,
     "start_time": "2021-11-18T13:30:09.893332",
     "status": "completed"
    },
    "tags": []
   },
   "outputs": [
    {
     "data": {
      "text/html": [
       "<div>\n",
       "<style scoped>\n",
       "    .dataframe tbody tr th:only-of-type {\n",
       "        vertical-align: middle;\n",
       "    }\n",
       "\n",
       "    .dataframe tbody tr th {\n",
       "        vertical-align: top;\n",
       "    }\n",
       "\n",
       "    .dataframe thead th {\n",
       "        text-align: right;\n",
       "    }\n",
       "</style>\n",
       "<table border=\"1\" class=\"dataframe\">\n",
       "  <thead>\n",
       "    <tr style=\"text-align: right;\">\n",
       "      <th></th>\n",
       "      <th>RECORD_TIME</th>\n",
       "    </tr>\n",
       "  </thead>\n",
       "  <tbody>\n",
       "    <tr>\n",
       "      <th>0</th>\n",
       "      <td>2021-11-18 14:30</td>\n",
       "    </tr>\n",
       "    <tr>\n",
       "      <th>1</th>\n",
       "      <td>2021-11-18 14:00</td>\n",
       "    </tr>\n",
       "  </tbody>\n",
       "</table>\n",
       "</div>"
      ],
      "text/plain": [
       "        RECORD_TIME\n",
       "0  2021-11-18 14:30\n",
       "1  2021-11-18 14:00"
      ]
     },
     "execution_count": 3,
     "metadata": {},
     "output_type": "execute_result"
    }
   ],
   "source": [
    "timestamps"
   ]
  },
  {
   "cell_type": "code",
   "execution_count": 4,
   "id": "alternate-victory",
   "metadata": {
    "execution": {
     "iopub.execute_input": "2021-11-18T13:30:10.022504Z",
     "iopub.status.busy": "2021-11-18T13:30:10.020099Z",
     "iopub.status.idle": "2021-11-18T13:30:11.262016Z",
     "shell.execute_reply": "2021-11-18T13:30:11.263534Z"
    },
    "papermill": {
     "duration": 1.275592,
     "end_time": "2021-11-18T13:30:11.264012",
     "exception": false,
     "start_time": "2021-11-18T13:30:09.988420",
     "status": "completed"
    },
    "tags": []
   },
   "outputs": [],
   "source": [
    "df = pd.read_sql(\"select * from EBAY_TOP_BERLIN where record_time in (select distinct record_time from EBAY_TOP_BERLIN order by record_time desc limit 2)\", sqlite3.connect(\"UsedObjects.db\"))"
   ]
  },
  {
   "cell_type": "code",
   "execution_count": 5,
   "id": "popular-active",
   "metadata": {
    "execution": {
     "iopub.execute_input": "2021-11-18T13:30:11.344449Z",
     "iopub.status.busy": "2021-11-18T13:30:11.329644Z",
     "iopub.status.idle": "2021-11-18T13:30:11.363045Z",
     "shell.execute_reply": "2021-11-18T13:30:11.364376Z"
    },
    "papermill": {
     "duration": 0.07936,
     "end_time": "2021-11-18T13:30:11.364995",
     "exception": false,
     "start_time": "2021-11-18T13:30:11.285635",
     "status": "completed"
    },
    "tags": []
   },
   "outputs": [],
   "source": [
    "df_pivot = df.pivot_table(index=\"PRODUCT\", columns = \"RECORD_TIME\", values = \"LISTING_COUNT\")"
   ]
  },
  {
   "cell_type": "code",
   "execution_count": 6,
   "id": "union-huntington",
   "metadata": {
    "execution": {
     "iopub.execute_input": "2021-11-18T13:30:11.429570Z",
     "iopub.status.busy": "2021-11-18T13:30:11.426986Z",
     "iopub.status.idle": "2021-11-18T13:30:11.432597Z",
     "shell.execute_reply": "2021-11-18T13:30:11.434329Z"
    },
    "papermill": {
     "duration": 0.047537,
     "end_time": "2021-11-18T13:30:11.434844",
     "exception": false,
     "start_time": "2021-11-18T13:30:11.387307",
     "status": "completed"
    },
    "tags": []
   },
   "outputs": [],
   "source": [
    "df_pivot.columns = [\"stamp_1\", \"stamp_2\"]\n",
    "df_pivot_diff = df_pivot.diff(axis=1)"
   ]
  },
  {
   "cell_type": "code",
   "execution_count": 7,
   "id": "fifth-motion",
   "metadata": {
    "execution": {
     "iopub.execute_input": "2021-11-18T13:30:11.494576Z",
     "iopub.status.busy": "2021-11-18T13:30:11.492090Z",
     "iopub.status.idle": "2021-11-18T13:30:13.233315Z",
     "shell.execute_reply": "2021-11-18T13:30:13.234661Z"
    },
    "papermill": {
     "duration": 1.779007,
     "end_time": "2021-11-18T13:30:13.235131",
     "exception": false,
     "start_time": "2021-11-18T13:30:11.456124",
     "status": "completed"
    },
    "tags": []
   },
   "outputs": [
    {
     "data": {
      "text/plain": [
       "<AxesSubplot:ylabel='PRODUCT'>"
      ]
     },
     "execution_count": 7,
     "metadata": {},
     "output_type": "execute_result"
    },
    {
     "data": {
      "image/png": "[encoded data removed]",
      "text/plain": [
       "<Figure size 432x288 with 1 Axes>"
      ]
     },
     "metadata": {
      "needs_background": "light"
     },
     "output_type": "display_data"
    }
   ],
   "source": [
    "df_pivot_diff.sort_values(\"stamp_2\", ascending = False)[\"stamp_2\"].head(10).plot.barh()"
   ]
  },
  {
   "cell_type": "code",
   "execution_count": null,
   "id": "extra-executive",
   "metadata": {
    "papermill": {
     "duration": 0.023122,
     "end_time": "2021-11-18T13:30:13.282130",
     "exception": false,
     "start_time": "2021-11-18T13:30:13.259008",
     "status": "completed"
    },
    "tags": []
   },
   "outputs": [],
   "source": []
  }
 ],
 "metadata": {
  "kernelspec": {
   "display_name": "Python 3",
   "language": "python",
   "name": "python3"
  },
  "language_info": {
   "codemirror_mode": {
    "name": "ipython",
    "version": 3
   },
   "file_extension": ".py",
   "mimetype": "text/x-python",
   "name": "python",
   "nbconvert_exporter": "python",
   "pygments_lexer": "ipython3",
   "version": "3.9.5"
  },
  "papermill": {
   "default_parameters": {},
   "duration": 10.01229,
   "end_time": "2021-11-18T13:30:15.186561",
   "environment_variables": {},
   "exception": null,
   "input_path": "eBay_Overview.ipynb",
   "output_path": "eBay_Overview.ipynb",
   "parameters": {},
   "start_time": "2021-11-18T13:30:05.174271",
   "version": "2.3.3"
  }
 },
 "nbformat": 4,
 "nbformat_minor": 5
}