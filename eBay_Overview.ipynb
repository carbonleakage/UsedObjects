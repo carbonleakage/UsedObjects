{
 "cells": [
  {
   "cell_type": "code",
   "execution_count": 1,
   "id": "reverse-picking",
   "metadata": {
    "execution": {
     "iopub.execute_input": "2021-09-11T18:00:07.056608Z",
     "iopub.status.busy": "2021-09-11T18:00:07.054589Z",
     "iopub.status.idle": "2021-09-11T18:00:07.866128Z",
     "shell.execute_reply": "2021-09-11T18:00:07.867619Z"
    },
    "papermill": {
     "duration": 0.864308,
     "end_time": "2021-09-11T18:00:07.868254",
     "exception": false,
     "start_time": "2021-09-11T18:00:07.003946",
     "status": "completed"
    },
    "tags": []
   },
   "outputs": [],
   "source": [
    "import pandas as pd\n",
    "import sqlite3"
   ]
  },
  {
   "cell_type": "code",
   "execution_count": 2,
   "id": "innovative-syndrome",
   "metadata": {
    "execution": {
     "iopub.execute_input": "2021-09-11T18:00:07.920375Z",
     "iopub.status.busy": "2021-09-11T18:00:07.917955Z",
     "iopub.status.idle": "2021-09-11T18:00:08.181250Z",
     "shell.execute_reply": "2021-09-11T18:00:08.182524Z"
    },
    "papermill": {
     "duration": 0.293437,
     "end_time": "2021-09-11T18:00:08.182991",
     "exception": false,
     "start_time": "2021-09-11T18:00:07.889554",
     "status": "completed"
    },
    "tags": []
   },
   "outputs": [],
   "source": [
    "timestamps = pd.read_sql(\"select distinct record_time from EBAY_TOP_BERLIN order by record_time desc limit 2\", sqlite3.connect(\"UsedObjects.db\"))"
   ]
  },
  {
   "cell_type": "code",
   "execution_count": 3,
   "id": "periodic-identification",
   "metadata": {
    "execution": {
     "iopub.execute_input": "2021-09-11T18:00:08.252466Z",
     "iopub.status.busy": "2021-09-11T18:00:08.247387Z",
     "iopub.status.idle": "2021-09-11T18:00:08.267813Z",
     "shell.execute_reply": "2021-09-11T18:00:08.269161Z"
    },
    "papermill": {
     "duration": 0.067585,
     "end_time": "2021-09-11T18:00:08.269574",
     "exception": false,
     "start_time": "2021-09-11T18:00:08.201989",
     "status": "completed"
    },
    "tags": []
   },
   "outputs": [
    {
     "data": {
      "text/html": [
       "<div>\n",
       "<style scoped>\n",
       "    .dataframe tbody tr th:only-of-type {\n",
       "        vertical-align: middle;\n",
       "    }\n",
       "\n",
       "    .dataframe tbody tr th {\n",
       "        vertical-align: top;\n",
       "    }\n",
       "\n",
       "    .dataframe thead th {\n",
       "        text-align: right;\n",
       "    }\n",
       "</style>\n",
       "<table border=\"1\" class=\"dataframe\">\n",
       "  <thead>\n",
       "    <tr style=\"text-align: right;\">\n",
       "      <th></th>\n",
       "      <th>RECORD_TIME</th>\n",
       "    </tr>\n",
       "  </thead>\n",
       "  <tbody>\n",
       "    <tr>\n",
       "      <th>0</th>\n",
       "      <td>2021-09-11 20:00</td>\n",
       "    </tr>\n",
       "    <tr>\n",
       "      <th>1</th>\n",
       "      <td>2021-09-11 19:30</td>\n",
       "    </tr>\n",
       "  </tbody>\n",
       "</table>\n",
       "</div>"
      ],
      "text/plain": [
       "        RECORD_TIME\n",
       "0  2021-09-11 20:00\n",
       "1  2021-09-11 19:30"
      ]
     },
     "execution_count": 3,
     "metadata": {},
     "output_type": "execute_result"
    }
   ],
   "source": [
    "timestamps"
   ]
  },
  {
   "cell_type": "code",
   "execution_count": 4,
   "id": "alternate-victory",
   "metadata": {
    "execution": {
     "iopub.execute_input": "2021-09-11T18:00:08.321103Z",
     "iopub.status.busy": "2021-09-11T18:00:08.318921Z",
     "iopub.status.idle": "2021-09-11T18:00:08.709513Z",
     "shell.execute_reply": "2021-09-11T18:00:08.710730Z"
    },
    "papermill": {
     "duration": 0.42068,
     "end_time": "2021-09-11T18:00:08.711193",
     "exception": false,
     "start_time": "2021-09-11T18:00:08.290513",
     "status": "completed"
    },
    "tags": []
   },
   "outputs": [],
   "source": [
    "df = pd.read_sql(\"select * from EBAY_TOP_BERLIN where record_time in (select distinct record_time from EBAY_TOP_BERLIN order by record_time desc limit 2)\", sqlite3.connect(\"UsedObjects.db\"))"
   ]
  },
  {
   "cell_type": "code",
   "execution_count": 5,
   "id": "popular-active",
   "metadata": {
    "execution": {
     "iopub.execute_input": "2021-09-11T18:00:08.781802Z",
     "iopub.status.busy": "2021-09-11T18:00:08.774843Z",
     "iopub.status.idle": "2021-09-11T18:00:08.797617Z",
     "shell.execute_reply": "2021-09-11T18:00:08.798979Z"
    },
    "papermill": {
     "duration": 0.067557,
     "end_time": "2021-09-11T18:00:08.799401",
     "exception": false,
     "start_time": "2021-09-11T18:00:08.731844",
     "status": "completed"
    },
    "tags": []
   },
   "outputs": [],
   "source": [
    "df_pivot = df.pivot_table(index=\"PRODUCT\", columns = \"RECORD_TIME\", values = \"LISTING_COUNT\")"
   ]
  },
  {
   "cell_type": "code",
   "execution_count": 6,
   "id": "union-huntington",
   "metadata": {
    "execution": {
     "iopub.execute_input": "2021-09-11T18:00:08.855532Z",
     "iopub.status.busy": "2021-09-11T18:00:08.853411Z",
     "iopub.status.idle": "2021-09-11T18:00:08.858760Z",
     "shell.execute_reply": "2021-09-11T18:00:08.860127Z"
    },
    "papermill": {
     "duration": 0.041046,
     "end_time": "2021-09-11T18:00:08.860545",
     "exception": false,
     "start_time": "2021-09-11T18:00:08.819499",
     "status": "completed"
    },
    "tags": []
   },
   "outputs": [],
   "source": [
    "df_pivot.columns = [\"stamp_1\", \"stamp_2\"]\n",
    "df_pivot_diff = df_pivot.diff(axis=1)"
   ]
  },
  {
   "cell_type": "code",
   "execution_count": 7,
   "id": "fifth-motion",
   "metadata": {
    "execution": {
     "iopub.execute_input": "2021-09-11T18:00:08.914698Z",
     "iopub.status.busy": "2021-09-11T18:00:08.912289Z",
     "iopub.status.idle": "2021-09-11T18:00:10.432331Z",
     "shell.execute_reply": "2021-09-11T18:00:10.433609Z"
    },
    "papermill": {
     "duration": 1.553092,
     "end_time": "2021-09-11T18:00:10.434026",
     "exception": false,
     "start_time": "2021-09-11T18:00:08.880934",
     "status": "completed"
    },
    "tags": []
   },
   "outputs": [
    {
     "data": {
      "text/plain": [
       "<AxesSubplot:ylabel='PRODUCT'>"
      ]
     },
     "execution_count": 7,
     "metadata": {},
     "output_type": "execute_result"
    },
    {
     "data": {
      "image/png": "[encoded data removed]",
      "text/plain": [
       "<Figure size 432x288 with 1 Axes>"
      ]
     },
     "metadata": {
      "needs_background": "light"
     },
     "output_type": "display_data"
    }
   ],
   "source": [
    "df_pivot_diff.sort_values(\"stamp_2\", ascending = False)[\"stamp_2\"].head(10).plot.barh()"
   ]
  },
  {
   "cell_type": "code",
   "execution_count": null,
   "id": "extra-executive",
   "metadata": {
    "papermill": {
     "duration": 0.02224,
     "end_time": "2021-09-11T18:00:10.480875",
     "exception": false,
     "start_time": "2021-09-11T18:00:10.458635",
     "status": "completed"
    },
    "tags": []
   },
   "outputs": [],
   "source": []
  }
 ],
 "metadata": {
  "kernelspec": {
   "display_name": "Python 3",
   "language": "python",
   "name": "python3"
  },
  "language_info": {
   "codemirror_mode": {
    "name": "ipython",
    "version": 3
   },
   "file_extension": ".py",
   "mimetype": "text/x-python",
   "name": "python",
   "nbconvert_exporter": "python",
   "pygments_lexer": "ipython3",
   "version": "3.9.5"
  },
  "papermill": {
   "default_parameters": {},
   "duration": 6.548243,
   "end_time": "2021-09-11T18:00:11.120448",
   "environment_variables": {},
   "exception": null,
   "input_path": "eBay_Overview.ipynb",
   "output_path": "eBay_Overview.ipynb",
   "parameters": {},
   "start_time": "2021-09-11T18:00:04.572205",
   "version": "2.3.3"
  }
 },
 "nbformat": 4,
 "nbformat_minor": 5
}