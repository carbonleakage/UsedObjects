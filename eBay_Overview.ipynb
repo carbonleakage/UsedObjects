{
 "cells": [
  {
   "cell_type": "code",
   "execution_count": 1,
   "id": "reverse-picking",
   "metadata": {
    "execution": {
     "iopub.execute_input": "2021-12-21T22:30:07.667703Z",
     "iopub.status.busy": "2021-12-21T22:30:07.665102Z",
     "iopub.status.idle": "2021-12-21T22:30:08.625455Z",
     "shell.execute_reply": "2021-12-21T22:30:08.623135Z"
    },
    "papermill": {
     "duration": 1.008788,
     "end_time": "2021-12-21T22:30:08.626450",
     "exception": false,
     "start_time": "2021-12-21T22:30:07.617662",
     "status": "completed"
    },
    "tags": []
   },
   "outputs": [],
   "source": [
    "import pandas as pd\n",
    "import sqlite3"
   ]
  },
  {
   "cell_type": "code",
   "execution_count": 2,
   "id": "innovative-syndrome",
   "metadata": {
    "execution": {
     "iopub.execute_input": "2021-12-21T22:30:08.702520Z",
     "iopub.status.busy": "2021-12-21T22:30:08.700238Z",
     "iopub.status.idle": "2021-12-21T22:30:09.852756Z",
     "shell.execute_reply": "2021-12-21T22:30:09.854659Z"
    },
    "papermill": {
     "duration": 1.187278,
     "end_time": "2021-12-21T22:30:09.855077",
     "exception": false,
     "start_time": "2021-12-21T22:30:08.667799",
     "status": "completed"
    },
    "tags": []
   },
   "outputs": [],
   "source": [
    "timestamps = pd.read_sql(\"select distinct record_time from EBAY_TOP_BERLIN order by record_time desc limit 2\", sqlite3.connect(\"UsedObjects.db\"))"
   ]
  },
  {
   "cell_type": "code",
   "execution_count": 3,
   "id": "periodic-identification",
   "metadata": {
    "execution": {
     "iopub.execute_input": "2021-12-21T22:30:09.912733Z",
     "iopub.status.busy": "2021-12-21T22:30:09.899621Z",
     "iopub.status.idle": "2021-12-21T22:30:09.948147Z",
     "shell.execute_reply": "2021-12-21T22:30:09.949778Z"
    },
    "papermill": {
     "duration": 0.07579,
     "end_time": "2021-12-21T22:30:09.950288",
     "exception": false,
     "start_time": "2021-12-21T22:30:09.874498",
     "status": "completed"
    },
    "tags": []
   },
   "outputs": [
    {
     "data": {
      "text/html": [
       "<div>\n",
       "<style scoped>\n",
       "    .dataframe tbody tr th:only-of-type {\n",
       "        vertical-align: middle;\n",
       "    }\n",
       "\n",
       "    .dataframe tbody tr th {\n",
       "        vertical-align: top;\n",
       "    }\n",
       "\n",
       "    .dataframe thead th {\n",
       "        text-align: right;\n",
       "    }\n",
       "</style>\n",
       "<table border=\"1\" class=\"dataframe\">\n",
       "  <thead>\n",
       "    <tr style=\"text-align: right;\">\n",
       "      <th></th>\n",
       "      <th>RECORD_TIME</th>\n",
       "    </tr>\n",
       "  </thead>\n",
       "  <tbody>\n",
       "    <tr>\n",
       "      <th>0</th>\n",
       "      <td>2021-12-21 23:30</td>\n",
       "    </tr>\n",
       "    <tr>\n",
       "      <th>1</th>\n",
       "      <td>2021-12-21 23:00</td>\n",
       "    </tr>\n",
       "  </tbody>\n",
       "</table>\n",
       "</div>"
      ],
      "text/plain": [
       "        RECORD_TIME\n",
       "0  2021-12-21 23:30\n",
       "1  2021-12-21 23:00"
      ]
     },
     "execution_count": 3,
     "metadata": {},
     "output_type": "execute_result"
    }
   ],
   "source": [
    "timestamps"
   ]
  },
  {
   "cell_type": "code",
   "execution_count": 4,
   "id": "alternate-victory",
   "metadata": {
    "execution": {
     "iopub.execute_input": "2021-12-21T22:30:10.006560Z",
     "iopub.status.busy": "2021-12-21T22:30:10.004104Z",
     "iopub.status.idle": "2021-12-21T22:30:11.689709Z",
     "shell.execute_reply": "2021-12-21T22:30:11.691429Z"
    },
    "papermill": {
     "duration": 1.720243,
     "end_time": "2021-12-21T22:30:11.691957",
     "exception": false,
     "start_time": "2021-12-21T22:30:09.971714",
     "status": "completed"
    },
    "tags": []
   },
   "outputs": [],
   "source": [
    "df = pd.read_sql(\"select * from EBAY_TOP_BERLIN where record_time in (select distinct record_time from EBAY_TOP_BERLIN order by record_time desc limit 2)\", sqlite3.connect(\"UsedObjects.db\"))"
   ]
  },
  {
   "cell_type": "code",
   "execution_count": 5,
   "id": "popular-active",
   "metadata": {
    "execution": {
     "iopub.execute_input": "2021-12-21T22:30:11.767920Z",
     "iopub.status.busy": "2021-12-21T22:30:11.754190Z",
     "iopub.status.idle": "2021-12-21T22:30:11.786090Z",
     "shell.execute_reply": "2021-12-21T22:30:11.787430Z"
    },
    "papermill": {
     "duration": 0.073804,
     "end_time": "2021-12-21T22:30:11.787907",
     "exception": false,
     "start_time": "2021-12-21T22:30:11.714103",
     "status": "completed"
    },
    "tags": []
   },
   "outputs": [],
   "source": [
    "df_pivot = df.pivot_table(index=\"PRODUCT\", columns = \"RECORD_TIME\", values = \"LISTING_COUNT\")"
   ]
  },
  {
   "cell_type": "code",
   "execution_count": 6,
   "id": "union-huntington",
   "metadata": {
    "execution": {
     "iopub.execute_input": "2021-12-21T22:30:11.848418Z",
     "iopub.status.busy": "2021-12-21T22:30:11.846089Z",
     "iopub.status.idle": "2021-12-21T22:30:11.851957Z",
     "shell.execute_reply": "2021-12-21T22:30:11.853490Z"
    },
    "papermill": {
     "duration": 0.045627,
     "end_time": "2021-12-21T22:30:11.853994",
     "exception": false,
     "start_time": "2021-12-21T22:30:11.808367",
     "status": "completed"
    },
    "tags": []
   },
   "outputs": [],
   "source": [
    "df_pivot.columns = [\"stamp_1\", \"stamp_2\"]\n",
    "df_pivot_diff = df_pivot.diff(axis=1)"
   ]
  },
  {
   "cell_type": "code",
   "execution_count": 7,
   "id": "fifth-motion",
   "metadata": {
    "execution": {
     "iopub.execute_input": "2021-12-21T22:30:11.915030Z",
     "iopub.status.busy": "2021-12-21T22:30:11.912075Z",
     "iopub.status.idle": "2021-12-21T22:30:13.864250Z",
     "shell.execute_reply": "2021-12-21T22:30:13.865752Z"
    },
    "papermill": {
     "duration": 1.989337,
     "end_time": "2021-12-21T22:30:13.866217",
     "exception": false,
     "start_time": "2021-12-21T22:30:11.876880",
     "status": "completed"
    },
    "tags": []
   },
   "outputs": [
    {
     "data": {
      "text/plain": [
       "<AxesSubplot:ylabel='PRODUCT'>"
      ]
     },
     "execution_count": 7,
     "metadata": {},
     "output_type": "execute_result"
    },
    {
     "data": {
      "image/png": "[encoded data removed]",
      "text/plain": [
       "<Figure size 432x288 with 1 Axes>"
      ]
     },
     "metadata": {
      "needs_background": "light"
     },
     "output_type": "display_data"
    }
   ],
   "source": [
    "df_pivot_diff.sort_values(\"stamp_2\", ascending = False)[\"stamp_2\"].head(10).plot.barh()"
   ]
  },
  {
   "cell_type": "code",
   "execution_count": null,
   "id": "extra-executive",
   "metadata": {
    "papermill": {
     "duration": 0.022371,
     "end_time": "2021-12-21T22:30:13.913509",
     "exception": false,
     "start_time": "2021-12-21T22:30:13.891138",
     "status": "completed"
    },
    "tags": []
   },
   "outputs": [],
   "source": []
  }
 ],
 "metadata": {
  "kernelspec": {
   "display_name": "Python 3",
   "language": "python",
   "name": "python3"
  },
  "language_info": {
   "codemirror_mode": {
    "name": "ipython",
    "version": 3
   },
   "file_extension": ".py",
   "mimetype": "text/x-python",
   "name": "python",
   "nbconvert_exporter": "python",
   "pygments_lexer": "ipython3",
   "version": "3.9.5"
  },
  "papermill": {
   "default_parameters": {},
   "duration": 9.682421,
   "end_time": "2021-12-21T22:30:14.555299",
   "environment_variables": {},
   "exception": null,
   "input_path": "eBay_Overview.ipynb",
   "output_path": "eBay_Overview.ipynb",
   "parameters": {},
   "start_time": "2021-12-21T22:30:04.872878",
   "version": "2.3.3"
  }
 },
 "nbformat": 4,
 "nbformat_minor": 5
}