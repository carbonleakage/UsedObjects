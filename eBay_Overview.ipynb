{
 "cells": [
  {
   "cell_type": "code",
   "execution_count": 1,
   "id": "reverse-picking",
   "metadata": {
    "execution": {
     "iopub.execute_input": "2021-10-26T20:00:06.930609Z",
     "iopub.status.busy": "2021-10-26T20:00:06.928596Z",
     "iopub.status.idle": "2021-10-26T20:00:07.736807Z",
     "shell.execute_reply": "2021-10-26T20:00:07.735211Z"
    },
    "papermill": {
     "duration": 0.860302,
     "end_time": "2021-10-26T20:00:07.737218",
     "exception": false,
     "start_time": "2021-10-26T20:00:06.876916",
     "status": "completed"
    },
    "tags": []
   },
   "outputs": [],
   "source": [
    "import pandas as pd\n",
    "import sqlite3"
   ]
  },
  {
   "cell_type": "code",
   "execution_count": 2,
   "id": "innovative-syndrome",
   "metadata": {
    "execution": {
     "iopub.execute_input": "2021-10-26T20:00:07.788642Z",
     "iopub.status.busy": "2021-10-26T20:00:07.786789Z",
     "iopub.status.idle": "2021-10-26T20:00:08.444347Z",
     "shell.execute_reply": "2021-10-26T20:00:08.445622Z"
    },
    "papermill": {
     "duration": 0.68682,
     "end_time": "2021-10-26T20:00:08.446023",
     "exception": false,
     "start_time": "2021-10-26T20:00:07.759203",
     "status": "completed"
    },
    "tags": []
   },
   "outputs": [],
   "source": [
    "timestamps = pd.read_sql(\"select distinct record_time from EBAY_TOP_BERLIN order by record_time desc limit 2\", sqlite3.connect(\"UsedObjects.db\"))"
   ]
  },
  {
   "cell_type": "code",
   "execution_count": 3,
   "id": "periodic-identification",
   "metadata": {
    "execution": {
     "iopub.execute_input": "2021-10-26T20:00:08.520258Z",
     "iopub.status.busy": "2021-10-26T20:00:08.518261Z",
     "iopub.status.idle": "2021-10-26T20:00:08.538348Z",
     "shell.execute_reply": "2021-10-26T20:00:08.539531Z"
    },
    "papermill": {
     "duration": 0.069178,
     "end_time": "2021-10-26T20:00:08.539952",
     "exception": false,
     "start_time": "2021-10-26T20:00:08.470774",
     "status": "completed"
    },
    "tags": []
   },
   "outputs": [
    {
     "data": {
      "text/html": [
       "<div>\n",
       "<style scoped>\n",
       "    .dataframe tbody tr th:only-of-type {\n",
       "        vertical-align: middle;\n",
       "    }\n",
       "\n",
       "    .dataframe tbody tr th {\n",
       "        vertical-align: top;\n",
       "    }\n",
       "\n",
       "    .dataframe thead th {\n",
       "        text-align: right;\n",
       "    }\n",
       "</style>\n",
       "<table border=\"1\" class=\"dataframe\">\n",
       "  <thead>\n",
       "    <tr style=\"text-align: right;\">\n",
       "      <th></th>\n",
       "      <th>RECORD_TIME</th>\n",
       "    </tr>\n",
       "  </thead>\n",
       "  <tbody>\n",
       "    <tr>\n",
       "      <th>0</th>\n",
       "      <td>2021-10-26 22:00</td>\n",
       "    </tr>\n",
       "    <tr>\n",
       "      <th>1</th>\n",
       "      <td>2021-10-26 21:30</td>\n",
       "    </tr>\n",
       "  </tbody>\n",
       "</table>\n",
       "</div>"
      ],
      "text/plain": [
       "        RECORD_TIME\n",
       "0  2021-10-26 22:00\n",
       "1  2021-10-26 21:30"
      ]
     },
     "execution_count": 3,
     "metadata": {},
     "output_type": "execute_result"
    }
   ],
   "source": [
    "timestamps"
   ]
  },
  {
   "cell_type": "code",
   "execution_count": 4,
   "id": "alternate-victory",
   "metadata": {
    "execution": {
     "iopub.execute_input": "2021-10-26T20:00:08.590765Z",
     "iopub.status.busy": "2021-10-26T20:00:08.588528Z",
     "iopub.status.idle": "2021-10-26T20:00:09.538823Z",
     "shell.execute_reply": "2021-10-26T20:00:09.540008Z"
    },
    "papermill": {
     "duration": 0.979944,
     "end_time": "2021-10-26T20:00:09.540428",
     "exception": false,
     "start_time": "2021-10-26T20:00:08.560484",
     "status": "completed"
    },
    "tags": []
   },
   "outputs": [],
   "source": [
    "df = pd.read_sql(\"select * from EBAY_TOP_BERLIN where record_time in (select distinct record_time from EBAY_TOP_BERLIN order by record_time desc limit 2)\", sqlite3.connect(\"UsedObjects.db\"))"
   ]
  },
  {
   "cell_type": "code",
   "execution_count": 5,
   "id": "popular-active",
   "metadata": {
    "execution": {
     "iopub.execute_input": "2021-10-26T20:00:09.605736Z",
     "iopub.status.busy": "2021-10-26T20:00:09.598308Z",
     "iopub.status.idle": "2021-10-26T20:00:09.626570Z",
     "shell.execute_reply": "2021-10-26T20:00:09.627764Z"
    },
    "papermill": {
     "duration": 0.067213,
     "end_time": "2021-10-26T20:00:09.628155",
     "exception": false,
     "start_time": "2021-10-26T20:00:09.560942",
     "status": "completed"
    },
    "tags": []
   },
   "outputs": [],
   "source": [
    "df_pivot = df.pivot_table(index=\"PRODUCT\", columns = \"RECORD_TIME\", values = \"LISTING_COUNT\")"
   ]
  },
  {
   "cell_type": "code",
   "execution_count": 6,
   "id": "union-huntington",
   "metadata": {
    "execution": {
     "iopub.execute_input": "2021-10-26T20:00:09.686738Z",
     "iopub.status.busy": "2021-10-26T20:00:09.684284Z",
     "iopub.status.idle": "2021-10-26T20:00:09.690349Z",
     "shell.execute_reply": "2021-10-26T20:00:09.691535Z"
    },
    "papermill": {
     "duration": 0.041804,
     "end_time": "2021-10-26T20:00:09.691960",
     "exception": false,
     "start_time": "2021-10-26T20:00:09.650156",
     "status": "completed"
    },
    "tags": []
   },
   "outputs": [],
   "source": [
    "df_pivot.columns = [\"stamp_1\", \"stamp_2\"]\n",
    "df_pivot_diff = df_pivot.diff(axis=1)"
   ]
  },
  {
   "cell_type": "code",
   "execution_count": 7,
   "id": "fifth-motion",
   "metadata": {
    "execution": {
     "iopub.execute_input": "2021-10-26T20:00:09.746259Z",
     "iopub.status.busy": "2021-10-26T20:00:09.743567Z",
     "iopub.status.idle": "2021-10-26T20:00:11.233703Z",
     "shell.execute_reply": "2021-10-26T20:00:11.235163Z"
    },
    "papermill": {
     "duration": 1.523891,
     "end_time": "2021-10-26T20:00:11.235624",
     "exception": false,
     "start_time": "2021-10-26T20:00:09.711733",
     "status": "completed"
    },
    "tags": []
   },
   "outputs": [
    {
     "data": {
      "text/plain": [
       "<AxesSubplot:ylabel='PRODUCT'>"
      ]
     },
     "execution_count": 7,
     "metadata": {},
     "output_type": "execute_result"
    },
    {
     "data": {
      "image/png": "[encoded data removed]",
      "text/plain": [
       "<Figure size 432x288 with 1 Axes>"
      ]
     },
     "metadata": {
      "needs_background": "light"
     },
     "output_type": "display_data"
    }
   ],
   "source": [
    "df_pivot_diff.sort_values(\"stamp_2\", ascending = False)[\"stamp_2\"].head(10).plot.barh()"
   ]
  },
  {
   "cell_type": "code",
   "execution_count": null,
   "id": "extra-executive",
   "metadata": {
    "papermill": {
     "duration": 0.021762,
     "end_time": "2021-10-26T20:00:11.280897",
     "exception": false,
     "start_time": "2021-10-26T20:00:11.259135",
     "status": "completed"
    },
    "tags": []
   },
   "outputs": [],
   "source": []
  }
 ],
 "metadata": {
  "kernelspec": {
   "display_name": "Python 3",
   "language": "python",
   "name": "python3"
  },
  "language_info": {
   "codemirror_mode": {
    "name": "ipython",
    "version": 3
   },
   "file_extension": ".py",
   "mimetype": "text/x-python",
   "name": "python",
   "nbconvert_exporter": "python",
   "pygments_lexer": "ipython3",
   "version": "3.9.5"
  },
  "papermill": {
   "default_parameters": {},
   "duration": 7.459974,
   "end_time": "2021-10-26T20:00:11.925665",
   "environment_variables": {},
   "exception": null,
   "input_path": "eBay_Overview.ipynb",
   "output_path": "eBay_Overview.ipynb",
   "parameters": {},
   "start_time": "2021-10-26T20:00:04.465691",
   "version": "2.3.3"
  }
 },
 "nbformat": 4,
 "nbformat_minor": 5
}