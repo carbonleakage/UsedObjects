{
 "cells": [
  {
   "cell_type": "code",
   "execution_count": 1,
   "id": "reverse-picking",
   "metadata": {
    "execution": {
     "iopub.execute_input": "2021-11-13T00:00:07.744560Z",
     "iopub.status.busy": "2021-11-13T00:00:07.729028Z",
     "iopub.status.idle": "2021-11-13T00:00:08.701194Z",
     "shell.execute_reply": "2021-11-13T00:00:08.703160Z"
    },
    "papermill": {
     "duration": 1.007584,
     "end_time": "2021-11-13T00:00:08.703827",
     "exception": false,
     "start_time": "2021-11-13T00:00:07.696243",
     "status": "completed"
    },
    "tags": []
   },
   "outputs": [],
   "source": [
    "import pandas as pd\n",
    "import sqlite3"
   ]
  },
  {
   "cell_type": "code",
   "execution_count": 2,
   "id": "innovative-syndrome",
   "metadata": {
    "execution": {
     "iopub.execute_input": "2021-11-13T00:00:08.757651Z",
     "iopub.status.busy": "2021-11-13T00:00:08.755388Z",
     "iopub.status.idle": "2021-11-13T00:00:09.558750Z",
     "shell.execute_reply": "2021-11-13T00:00:09.560222Z"
    },
    "papermill": {
     "duration": 0.835762,
     "end_time": "2021-11-13T00:00:09.560737",
     "exception": false,
     "start_time": "2021-11-13T00:00:08.724975",
     "status": "completed"
    },
    "tags": []
   },
   "outputs": [],
   "source": [
    "timestamps = pd.read_sql(\"select distinct record_time from EBAY_TOP_BERLIN order by record_time desc limit 2\", sqlite3.connect(\"UsedObjects.db\"))"
   ]
  },
  {
   "cell_type": "code",
   "execution_count": 3,
   "id": "periodic-identification",
   "metadata": {
    "execution": {
     "iopub.execute_input": "2021-11-13T00:00:09.616223Z",
     "iopub.status.busy": "2021-11-13T00:00:09.614280Z",
     "iopub.status.idle": "2021-11-13T00:00:09.670401Z",
     "shell.execute_reply": "2021-11-13T00:00:09.673419Z"
    },
    "papermill": {
     "duration": 0.092772,
     "end_time": "2021-11-13T00:00:09.673926",
     "exception": false,
     "start_time": "2021-11-13T00:00:09.581154",
     "status": "completed"
    },
    "tags": []
   },
   "outputs": [
    {
     "data": {
      "text/html": [
       "<div>\n",
       "<style scoped>\n",
       "    .dataframe tbody tr th:only-of-type {\n",
       "        vertical-align: middle;\n",
       "    }\n",
       "\n",
       "    .dataframe tbody tr th {\n",
       "        vertical-align: top;\n",
       "    }\n",
       "\n",
       "    .dataframe thead th {\n",
       "        text-align: right;\n",
       "    }\n",
       "</style>\n",
       "<table border=\"1\" class=\"dataframe\">\n",
       "  <thead>\n",
       "    <tr style=\"text-align: right;\">\n",
       "      <th></th>\n",
       "      <th>RECORD_TIME</th>\n",
       "    </tr>\n",
       "  </thead>\n",
       "  <tbody>\n",
       "    <tr>\n",
       "      <th>0</th>\n",
       "      <td>2021-11-13 01:00</td>\n",
       "    </tr>\n",
       "    <tr>\n",
       "      <th>1</th>\n",
       "      <td>2021-11-13 00:30</td>\n",
       "    </tr>\n",
       "  </tbody>\n",
       "</table>\n",
       "</div>"
      ],
      "text/plain": [
       "        RECORD_TIME\n",
       "0  2021-11-13 01:00\n",
       "1  2021-11-13 00:30"
      ]
     },
     "execution_count": 3,
     "metadata": {},
     "output_type": "execute_result"
    }
   ],
   "source": [
    "timestamps"
   ]
  },
  {
   "cell_type": "code",
   "execution_count": 4,
   "id": "alternate-victory",
   "metadata": {
    "execution": {
     "iopub.execute_input": "2021-11-13T00:00:09.731739Z",
     "iopub.status.busy": "2021-11-13T00:00:09.729433Z",
     "iopub.status.idle": "2021-11-13T00:00:10.929926Z",
     "shell.execute_reply": "2021-11-13T00:00:10.931916Z"
    },
    "papermill": {
     "duration": 1.234914,
     "end_time": "2021-11-13T00:00:10.932390",
     "exception": false,
     "start_time": "2021-11-13T00:00:09.697476",
     "status": "completed"
    },
    "tags": []
   },
   "outputs": [],
   "source": [
    "df = pd.read_sql(\"select * from EBAY_TOP_BERLIN where record_time in (select distinct record_time from EBAY_TOP_BERLIN order by record_time desc limit 2)\", sqlite3.connect(\"UsedObjects.db\"))"
   ]
  },
  {
   "cell_type": "code",
   "execution_count": 5,
   "id": "popular-active",
   "metadata": {
    "execution": {
     "iopub.execute_input": "2021-11-13T00:00:11.002489Z",
     "iopub.status.busy": "2021-11-13T00:00:10.994291Z",
     "iopub.status.idle": "2021-11-13T00:00:11.025282Z",
     "shell.execute_reply": "2021-11-13T00:00:11.026652Z"
    },
    "papermill": {
     "duration": 0.072399,
     "end_time": "2021-11-13T00:00:11.027123",
     "exception": false,
     "start_time": "2021-11-13T00:00:10.954724",
     "status": "completed"
    },
    "tags": []
   },
   "outputs": [],
   "source": [
    "df_pivot = df.pivot_table(index=\"PRODUCT\", columns = \"RECORD_TIME\", values = \"LISTING_COUNT\")"
   ]
  },
  {
   "cell_type": "code",
   "execution_count": 6,
   "id": "union-huntington",
   "metadata": {
    "execution": {
     "iopub.execute_input": "2021-11-13T00:00:11.077547Z",
     "iopub.status.busy": "2021-11-13T00:00:11.075224Z",
     "iopub.status.idle": "2021-11-13T00:00:11.090363Z",
     "shell.execute_reply": "2021-11-13T00:00:11.092040Z"
    },
    "papermill": {
     "duration": 0.045655,
     "end_time": "2021-11-13T00:00:11.092586",
     "exception": false,
     "start_time": "2021-11-13T00:00:11.046931",
     "status": "completed"
    },
    "tags": []
   },
   "outputs": [],
   "source": [
    "df_pivot.columns = [\"stamp_1\", \"stamp_2\"]\n",
    "df_pivot_diff = df_pivot.diff(axis=1)"
   ]
  },
  {
   "cell_type": "code",
   "execution_count": 7,
   "id": "fifth-motion",
   "metadata": {
    "execution": {
     "iopub.execute_input": "2021-11-13T00:00:11.149983Z",
     "iopub.status.busy": "2021-11-13T00:00:11.147535Z",
     "iopub.status.idle": "2021-11-13T00:00:13.121728Z",
     "shell.execute_reply": "2021-11-13T00:00:13.119874Z"
    },
    "papermill": {
     "duration": 2.007595,
     "end_time": "2021-11-13T00:00:13.122161",
     "exception": false,
     "start_time": "2021-11-13T00:00:11.114566",
     "status": "completed"
    },
    "tags": []
   },
   "outputs": [
    {
     "data": {
      "text/plain": [
       "<AxesSubplot:ylabel='PRODUCT'>"
      ]
     },
     "execution_count": 7,
     "metadata": {},
     "output_type": "execute_result"
    },
    {
     "data": {
      "image/png": "[encoded data removed]",
      "text/plain": [
       "<Figure size 432x288 with 1 Axes>"
      ]
     },
     "metadata": {
      "needs_background": "light"
     },
     "output_type": "display_data"
    }
   ],
   "source": [
    "df_pivot_diff.sort_values(\"stamp_2\", ascending = False)[\"stamp_2\"].head(10).plot.barh()"
   ]
  },
  {
   "cell_type": "code",
   "execution_count": null,
   "id": "extra-executive",
   "metadata": {
    "papermill": {
     "duration": 0.02232,
     "end_time": "2021-11-13T00:00:13.169089",
     "exception": false,
     "start_time": "2021-11-13T00:00:13.146769",
     "status": "completed"
    },
    "tags": []
   },
   "outputs": [],
   "source": []
  }
 ],
 "metadata": {
  "kernelspec": {
   "display_name": "Python 3",
   "language": "python",
   "name": "python3"
  },
  "language_info": {
   "codemirror_mode": {
    "name": "ipython",
    "version": 3
   },
   "file_extension": ".py",
   "mimetype": "text/x-python",
   "name": "python",
   "nbconvert_exporter": "python",
   "pygments_lexer": "ipython3",
   "version": "3.9.5"
  },
  "papermill": {
   "default_parameters": {},
   "duration": 8.865591,
   "end_time": "2021-11-13T00:00:13.820853",
   "environment_variables": {},
   "exception": null,
   "input_path": "eBay_Overview.ipynb",
   "output_path": "eBay_Overview.ipynb",
   "parameters": {},
   "start_time": "2021-11-13T00:00:04.955262",
   "version": "2.3.3"
  }
 },
 "nbformat": 4,
 "nbformat_minor": 5
}