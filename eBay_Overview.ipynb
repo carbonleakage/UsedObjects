{
 "cells": [
  {
   "cell_type": "code",
   "execution_count": 1,
   "id": "reverse-picking",
   "metadata": {
    "execution": {
     "iopub.execute_input": "2021-10-15T04:30:06.708080Z",
     "iopub.status.busy": "2021-10-15T04:30:06.706131Z",
     "iopub.status.idle": "2021-10-15T04:30:07.513690Z",
     "shell.execute_reply": "2021-10-15T04:30:07.514959Z"
    },
    "papermill": {
     "duration": 0.857796,
     "end_time": "2021-10-15T04:30:07.515574",
     "exception": false,
     "start_time": "2021-10-15T04:30:06.657778",
     "status": "completed"
    },
    "tags": []
   },
   "outputs": [],
   "source": [
    "import pandas as pd\n",
    "import sqlite3"
   ]
  },
  {
   "cell_type": "code",
   "execution_count": 2,
   "id": "innovative-syndrome",
   "metadata": {
    "execution": {
     "iopub.execute_input": "2021-10-15T04:30:07.568024Z",
     "iopub.status.busy": "2021-10-15T04:30:07.565839Z",
     "iopub.status.idle": "2021-10-15T04:30:08.111350Z",
     "shell.execute_reply": "2021-10-15T04:30:08.112558Z"
    },
    "papermill": {
     "duration": 0.575545,
     "end_time": "2021-10-15T04:30:08.113010",
     "exception": false,
     "start_time": "2021-10-15T04:30:07.537465",
     "status": "completed"
    },
    "tags": []
   },
   "outputs": [],
   "source": [
    "timestamps = pd.read_sql(\"select distinct record_time from EBAY_TOP_BERLIN order by record_time desc limit 2\", sqlite3.connect(\"UsedObjects.db\"))"
   ]
  },
  {
   "cell_type": "code",
   "execution_count": 3,
   "id": "periodic-identification",
   "metadata": {
    "execution": {
     "iopub.execute_input": "2021-10-15T04:30:08.191569Z",
     "iopub.status.busy": "2021-10-15T04:30:08.186343Z",
     "iopub.status.idle": "2021-10-15T04:30:08.208101Z",
     "shell.execute_reply": "2021-10-15T04:30:08.210008Z"
    },
    "papermill": {
     "duration": 0.070601,
     "end_time": "2021-10-15T04:30:08.210658",
     "exception": false,
     "start_time": "2021-10-15T04:30:08.140057",
     "status": "completed"
    },
    "tags": []
   },
   "outputs": [
    {
     "data": {
      "text/html": [
       "<div>\n",
       "<style scoped>\n",
       "    .dataframe tbody tr th:only-of-type {\n",
       "        vertical-align: middle;\n",
       "    }\n",
       "\n",
       "    .dataframe tbody tr th {\n",
       "        vertical-align: top;\n",
       "    }\n",
       "\n",
       "    .dataframe thead th {\n",
       "        text-align: right;\n",
       "    }\n",
       "</style>\n",
       "<table border=\"1\" class=\"dataframe\">\n",
       "  <thead>\n",
       "    <tr style=\"text-align: right;\">\n",
       "      <th></th>\n",
       "      <th>RECORD_TIME</th>\n",
       "    </tr>\n",
       "  </thead>\n",
       "  <tbody>\n",
       "    <tr>\n",
       "      <th>0</th>\n",
       "      <td>2021-10-15 06:30</td>\n",
       "    </tr>\n",
       "    <tr>\n",
       "      <th>1</th>\n",
       "      <td>2021-10-15 06:00</td>\n",
       "    </tr>\n",
       "  </tbody>\n",
       "</table>\n",
       "</div>"
      ],
      "text/plain": [
       "        RECORD_TIME\n",
       "0  2021-10-15 06:30\n",
       "1  2021-10-15 06:00"
      ]
     },
     "execution_count": 3,
     "metadata": {},
     "output_type": "execute_result"
    }
   ],
   "source": [
    "timestamps"
   ]
  },
  {
   "cell_type": "code",
   "execution_count": 4,
   "id": "alternate-victory",
   "metadata": {
    "execution": {
     "iopub.execute_input": "2021-10-15T04:30:08.263769Z",
     "iopub.status.busy": "2021-10-15T04:30:08.261822Z",
     "iopub.status.idle": "2021-10-15T04:30:09.063638Z",
     "shell.execute_reply": "2021-10-15T04:30:09.065004Z"
    },
    "papermill": {
     "duration": 0.832358,
     "end_time": "2021-10-15T04:30:09.065440",
     "exception": false,
     "start_time": "2021-10-15T04:30:08.233082",
     "status": "completed"
    },
    "tags": []
   },
   "outputs": [],
   "source": [
    "df = pd.read_sql(\"select * from EBAY_TOP_BERLIN where record_time in (select distinct record_time from EBAY_TOP_BERLIN order by record_time desc limit 2)\", sqlite3.connect(\"UsedObjects.db\"))"
   ]
  },
  {
   "cell_type": "code",
   "execution_count": 5,
   "id": "popular-active",
   "metadata": {
    "execution": {
     "iopub.execute_input": "2021-10-15T04:30:09.135525Z",
     "iopub.status.busy": "2021-10-15T04:30:09.124490Z",
     "iopub.status.idle": "2021-10-15T04:30:09.153660Z",
     "shell.execute_reply": "2021-10-15T04:30:09.155106Z"
    },
    "papermill": {
     "duration": 0.068682,
     "end_time": "2021-10-15T04:30:09.155548",
     "exception": false,
     "start_time": "2021-10-15T04:30:09.086866",
     "status": "completed"
    },
    "tags": []
   },
   "outputs": [],
   "source": [
    "df_pivot = df.pivot_table(index=\"PRODUCT\", columns = \"RECORD_TIME\", values = \"LISTING_COUNT\")"
   ]
  },
  {
   "cell_type": "code",
   "execution_count": 6,
   "id": "union-huntington",
   "metadata": {
    "execution": {
     "iopub.execute_input": "2021-10-15T04:30:09.212566Z",
     "iopub.status.busy": "2021-10-15T04:30:09.210244Z",
     "iopub.status.idle": "2021-10-15T04:30:09.216074Z",
     "shell.execute_reply": "2021-10-15T04:30:09.217435Z"
    },
    "papermill": {
     "duration": 0.042003,
     "end_time": "2021-10-15T04:30:09.217853",
     "exception": false,
     "start_time": "2021-10-15T04:30:09.175850",
     "status": "completed"
    },
    "tags": []
   },
   "outputs": [],
   "source": [
    "df_pivot.columns = [\"stamp_1\", \"stamp_2\"]\n",
    "df_pivot_diff = df_pivot.diff(axis=1)"
   ]
  },
  {
   "cell_type": "code",
   "execution_count": 7,
   "id": "fifth-motion",
   "metadata": {
    "execution": {
     "iopub.execute_input": "2021-10-15T04:30:09.272055Z",
     "iopub.status.busy": "2021-10-15T04:30:09.269749Z",
     "iopub.status.idle": "2021-10-15T04:30:10.750916Z",
     "shell.execute_reply": "2021-10-15T04:30:10.752215Z"
    },
    "papermill": {
     "duration": 1.514323,
     "end_time": "2021-10-15T04:30:10.752632",
     "exception": false,
     "start_time": "2021-10-15T04:30:09.238309",
     "status": "completed"
    },
    "tags": []
   },
   "outputs": [
    {
     "data": {
      "text/plain": [
       "<AxesSubplot:ylabel='PRODUCT'>"
      ]
     },
     "execution_count": 7,
     "metadata": {},
     "output_type": "execute_result"
    },
    {
     "data": {
      "image/png": "[encoded data removed]",
      "text/plain": [
       "<Figure size 432x288 with 1 Axes>"
      ]
     },
     "metadata": {
      "needs_background": "light"
     },
     "output_type": "display_data"
    }
   ],
   "source": [
    "df_pivot_diff.sort_values(\"stamp_2\", ascending = False)[\"stamp_2\"].head(10).plot.barh()"
   ]
  },
  {
   "cell_type": "code",
   "execution_count": null,
   "id": "extra-executive",
   "metadata": {
    "papermill": {
     "duration": 0.021959,
     "end_time": "2021-10-15T04:30:10.799323",
     "exception": false,
     "start_time": "2021-10-15T04:30:10.777364",
     "status": "completed"
    },
    "tags": []
   },
   "outputs": [],
   "source": []
  }
 ],
 "metadata": {
  "kernelspec": {
   "display_name": "Python 3",
   "language": "python",
   "name": "python3"
  },
  "language_info": {
   "codemirror_mode": {
    "name": "ipython",
    "version": 3
   },
   "file_extension": ".py",
   "mimetype": "text/x-python",
   "name": "python",
   "nbconvert_exporter": "python",
   "pygments_lexer": "ipython3",
   "version": "3.9.5"
  },
  "papermill": {
   "default_parameters": {},
   "duration": 7.835645,
   "end_time": "2021-10-15T04:30:12.083212",
   "environment_variables": {},
   "exception": null,
   "input_path": "eBay_Overview.ipynb",
   "output_path": "eBay_Overview.ipynb",
   "parameters": {},
   "start_time": "2021-10-15T04:30:04.247567",
   "version": "2.3.3"
  }
 },
 "nbformat": 4,
 "nbformat_minor": 5
}