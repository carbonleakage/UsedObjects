{
 "cells": [
  {
   "cell_type": "code",
   "execution_count": 1,
   "id": "reverse-picking",
   "metadata": {
    "execution": {
     "iopub.execute_input": "2021-08-13T15:00:06.904279Z",
     "iopub.status.busy": "2021-08-13T15:00:06.902290Z",
     "iopub.status.idle": "2021-08-13T15:00:07.713666Z",
     "shell.execute_reply": "2021-08-13T15:00:07.715277Z"
    },
    "papermill": {
     "duration": 0.864171,
     "end_time": "2021-08-13T15:00:07.716086",
     "exception": false,
     "start_time": "2021-08-13T15:00:06.851915",
     "status": "completed"
    },
    "tags": []
   },
   "outputs": [],
   "source": [
    "import pandas as pd\n",
    "import sqlite3"
   ]
  },
  {
   "cell_type": "code",
   "execution_count": 2,
   "id": "innovative-syndrome",
   "metadata": {
    "execution": {
     "iopub.execute_input": "2021-08-13T15:00:07.767452Z",
     "iopub.status.busy": "2021-08-13T15:00:07.765013Z",
     "iopub.status.idle": "2021-08-13T15:00:07.808277Z",
     "shell.execute_reply": "2021-08-13T15:00:07.809456Z"
    },
    "papermill": {
     "duration": 0.073153,
     "end_time": "2021-08-13T15:00:07.809849",
     "exception": false,
     "start_time": "2021-08-13T15:00:07.736696",
     "status": "completed"
    },
    "tags": []
   },
   "outputs": [],
   "source": [
    "timestamps = pd.read_sql(\"select distinct record_time from EBAY_TOP_BERLIN order by record_time desc limit 2\", sqlite3.connect(\"UsedObjects.db\"))"
   ]
  },
  {
   "cell_type": "code",
   "execution_count": 3,
   "id": "periodic-identification",
   "metadata": {
    "execution": {
     "iopub.execute_input": "2021-08-13T15:00:07.880047Z",
     "iopub.status.busy": "2021-08-13T15:00:07.874760Z",
     "iopub.status.idle": "2021-08-13T15:00:07.894786Z",
     "shell.execute_reply": "2021-08-13T15:00:07.896084Z"
    },
    "papermill": {
     "duration": 0.065298,
     "end_time": "2021-08-13T15:00:07.896496",
     "exception": false,
     "start_time": "2021-08-13T15:00:07.831198",
     "status": "completed"
    },
    "tags": []
   },
   "outputs": [
    {
     "data": {
      "text/html": [
       "<div>\n",
       "<style scoped>\n",
       "    .dataframe tbody tr th:only-of-type {\n",
       "        vertical-align: middle;\n",
       "    }\n",
       "\n",
       "    .dataframe tbody tr th {\n",
       "        vertical-align: top;\n",
       "    }\n",
       "\n",
       "    .dataframe thead th {\n",
       "        text-align: right;\n",
       "    }\n",
       "</style>\n",
       "<table border=\"1\" class=\"dataframe\">\n",
       "  <thead>\n",
       "    <tr style=\"text-align: right;\">\n",
       "      <th></th>\n",
       "      <th>RECORD_TIME</th>\n",
       "    </tr>\n",
       "  </thead>\n",
       "  <tbody>\n",
       "    <tr>\n",
       "      <th>0</th>\n",
       "      <td>2021-08-13 17:00</td>\n",
       "    </tr>\n",
       "    <tr>\n",
       "      <th>1</th>\n",
       "      <td>2021-08-13 16:30</td>\n",
       "    </tr>\n",
       "  </tbody>\n",
       "</table>\n",
       "</div>"
      ],
      "text/plain": [
       "        RECORD_TIME\n",
       "0  2021-08-13 17:00\n",
       "1  2021-08-13 16:30"
      ]
     },
     "execution_count": 3,
     "metadata": {},
     "output_type": "execute_result"
    }
   ],
   "source": [
    "timestamps"
   ]
  },
  {
   "cell_type": "code",
   "execution_count": 4,
   "id": "alternate-victory",
   "metadata": {
    "execution": {
     "iopub.execute_input": "2021-08-13T15:00:07.946609Z",
     "iopub.status.busy": "2021-08-13T15:00:07.944661Z",
     "iopub.status.idle": "2021-08-13T15:00:08.004404Z",
     "shell.execute_reply": "2021-08-13T15:00:08.005589Z"
    },
    "papermill": {
     "duration": 0.089655,
     "end_time": "2021-08-13T15:00:08.006160",
     "exception": false,
     "start_time": "2021-08-13T15:00:07.916505",
     "status": "completed"
    },
    "tags": []
   },
   "outputs": [],
   "source": [
    "df = pd.read_sql(\"select * from EBAY_TOP_BERLIN where record_time in (select distinct record_time from EBAY_TOP_BERLIN order by record_time desc limit 2)\", sqlite3.connect(\"UsedObjects.db\"))"
   ]
  },
  {
   "cell_type": "code",
   "execution_count": 5,
   "id": "popular-active",
   "metadata": {
    "execution": {
     "iopub.execute_input": "2021-08-13T15:00:08.078684Z",
     "iopub.status.busy": "2021-08-13T15:00:08.067806Z",
     "iopub.status.idle": "2021-08-13T15:00:08.095308Z",
     "shell.execute_reply": "2021-08-13T15:00:08.096499Z"
    },
    "papermill": {
     "duration": 0.068196,
     "end_time": "2021-08-13T15:00:08.096891",
     "exception": false,
     "start_time": "2021-08-13T15:00:08.028695",
     "status": "completed"
    },
    "tags": []
   },
   "outputs": [],
   "source": [
    "df_pivot = df.pivot_table(index=\"PRODUCT\", columns = \"RECORD_TIME\", values = \"LISTING_COUNT\")"
   ]
  },
  {
   "cell_type": "code",
   "execution_count": 6,
   "id": "union-huntington",
   "metadata": {
    "execution": {
     "iopub.execute_input": "2021-08-13T15:00:08.153668Z",
     "iopub.status.busy": "2021-08-13T15:00:08.151601Z",
     "iopub.status.idle": "2021-08-13T15:00:08.156884Z",
     "shell.execute_reply": "2021-08-13T15:00:08.158123Z"
    },
    "papermill": {
     "duration": 0.040176,
     "end_time": "2021-08-13T15:00:08.158561",
     "exception": false,
     "start_time": "2021-08-13T15:00:08.118385",
     "status": "completed"
    },
    "tags": []
   },
   "outputs": [],
   "source": [
    "df_pivot.columns = [\"stamp_1\", \"stamp_2\"]\n",
    "df_pivot_diff = df_pivot.diff(axis=1)"
   ]
  },
  {
   "cell_type": "code",
   "execution_count": 7,
   "id": "fifth-motion",
   "metadata": {
    "execution": {
     "iopub.execute_input": "2021-08-13T15:00:08.215519Z",
     "iopub.status.busy": "2021-08-13T15:00:08.212928Z",
     "iopub.status.idle": "2021-08-13T15:00:09.694367Z",
     "shell.execute_reply": "2021-08-13T15:00:09.695712Z"
    },
    "papermill": {
     "duration": 1.514591,
     "end_time": "2021-08-13T15:00:09.696148",
     "exception": false,
     "start_time": "2021-08-13T15:00:08.181557",
     "status": "completed"
    },
    "tags": []
   },
   "outputs": [
    {
     "data": {
      "text/plain": [
       "<AxesSubplot:ylabel='PRODUCT'>"
      ]
     },
     "execution_count": 7,
     "metadata": {},
     "output_type": "execute_result"
    },
    {
     "data": {
      "image/png": "[encoded data removed]",
      "text/plain": [
       "<Figure size 432x288 with 1 Axes>"
      ]
     },
     "metadata": {
      "needs_background": "light"
     },
     "output_type": "display_data"
    }
   ],
   "source": [
    "df_pivot_diff.sort_values(\"stamp_2\", ascending = False)[\"stamp_2\"].head(10).plot.barh()"
   ]
  },
  {
   "cell_type": "code",
   "execution_count": null,
   "id": "extra-executive",
   "metadata": {
    "papermill": {
     "duration": 0.022072,
     "end_time": "2021-08-13T15:00:09.742705",
     "exception": false,
     "start_time": "2021-08-13T15:00:09.720633",
     "status": "completed"
    },
    "tags": []
   },
   "outputs": [],
   "source": []
  }
 ],
 "metadata": {
  "kernelspec": {
   "display_name": "Python 3",
   "language": "python",
   "name": "python3"
  },
  "language_info": {
   "codemirror_mode": {
    "name": "ipython",
    "version": 3
   },
   "file_extension": ".py",
   "mimetype": "text/x-python",
   "name": "python",
   "nbconvert_exporter": "python",
   "pygments_lexer": "ipython3",
   "version": "3.9.5"
  },
  "papermill": {
   "default_parameters": {},
   "duration": 6.828899,
   "end_time": "2021-08-13T15:00:11.262394",
   "environment_variables": {},
   "exception": null,
   "input_path": "eBay_Overview.ipynb",
   "output_path": "eBay_Overview.ipynb",
   "parameters": {},
   "start_time": "2021-08-13T15:00:04.433495",
   "version": "2.3.3"
  }
 },
 "nbformat": 4,
 "nbformat_minor": 5
}