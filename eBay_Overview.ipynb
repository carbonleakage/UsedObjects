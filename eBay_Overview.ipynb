{
 "cells": [
  {
   "cell_type": "code",
   "execution_count": 1,
   "id": "reverse-picking",
   "metadata": {
    "execution": {
     "iopub.execute_input": "2021-11-16T19:00:07.187330Z",
     "iopub.status.busy": "2021-11-16T19:00:07.185074Z",
     "iopub.status.idle": "2021-11-16T19:00:08.130185Z",
     "shell.execute_reply": "2021-11-16T19:00:08.131639Z"
    },
    "papermill": {
     "duration": 0.998158,
     "end_time": "2021-11-16T19:00:08.132345",
     "exception": false,
     "start_time": "2021-11-16T19:00:07.134187",
     "status": "completed"
    },
    "tags": []
   },
   "outputs": [],
   "source": [
    "import pandas as pd\n",
    "import sqlite3"
   ]
  },
  {
   "cell_type": "code",
   "execution_count": 2,
   "id": "innovative-syndrome",
   "metadata": {
    "execution": {
     "iopub.execute_input": "2021-11-16T19:00:08.197803Z",
     "iopub.status.busy": "2021-11-16T19:00:08.195319Z",
     "iopub.status.idle": "2021-11-16T19:00:09.025962Z",
     "shell.execute_reply": "2021-11-16T19:00:09.028015Z"
    },
    "papermill": {
     "duration": 0.865426,
     "end_time": "2021-11-16T19:00:09.028543",
     "exception": false,
     "start_time": "2021-11-16T19:00:08.163117",
     "status": "completed"
    },
    "tags": []
   },
   "outputs": [],
   "source": [
    "timestamps = pd.read_sql(\"select distinct record_time from EBAY_TOP_BERLIN order by record_time desc limit 2\", sqlite3.connect(\"UsedObjects.db\"))"
   ]
  },
  {
   "cell_type": "code",
   "execution_count": 3,
   "id": "periodic-identification",
   "metadata": {
    "execution": {
     "iopub.execute_input": "2021-11-16T19:00:09.100968Z",
     "iopub.status.busy": "2021-11-16T19:00:09.098146Z",
     "iopub.status.idle": "2021-11-16T19:00:09.121515Z",
     "shell.execute_reply": "2021-11-16T19:00:09.123123Z"
    },
    "papermill": {
     "duration": 0.073912,
     "end_time": "2021-11-16T19:00:09.123638",
     "exception": false,
     "start_time": "2021-11-16T19:00:09.049726",
     "status": "completed"
    },
    "tags": []
   },
   "outputs": [
    {
     "data": {
      "text/html": [
       "<div>\n",
       "<style scoped>\n",
       "    .dataframe tbody tr th:only-of-type {\n",
       "        vertical-align: middle;\n",
       "    }\n",
       "\n",
       "    .dataframe tbody tr th {\n",
       "        vertical-align: top;\n",
       "    }\n",
       "\n",
       "    .dataframe thead th {\n",
       "        text-align: right;\n",
       "    }\n",
       "</style>\n",
       "<table border=\"1\" class=\"dataframe\">\n",
       "  <thead>\n",
       "    <tr style=\"text-align: right;\">\n",
       "      <th></th>\n",
       "      <th>RECORD_TIME</th>\n",
       "    </tr>\n",
       "  </thead>\n",
       "  <tbody>\n",
       "    <tr>\n",
       "      <th>0</th>\n",
       "      <td>2021-11-16 20:00</td>\n",
       "    </tr>\n",
       "    <tr>\n",
       "      <th>1</th>\n",
       "      <td>2021-11-16 19:30</td>\n",
       "    </tr>\n",
       "  </tbody>\n",
       "</table>\n",
       "</div>"
      ],
      "text/plain": [
       "        RECORD_TIME\n",
       "0  2021-11-16 20:00\n",
       "1  2021-11-16 19:30"
      ]
     },
     "execution_count": 3,
     "metadata": {},
     "output_type": "execute_result"
    }
   ],
   "source": [
    "timestamps"
   ]
  },
  {
   "cell_type": "code",
   "execution_count": 4,
   "id": "alternate-victory",
   "metadata": {
    "execution": {
     "iopub.execute_input": "2021-11-16T19:00:09.180499Z",
     "iopub.status.busy": "2021-11-16T19:00:09.178424Z",
     "iopub.status.idle": "2021-11-16T19:00:10.397765Z",
     "shell.execute_reply": "2021-11-16T19:00:10.400303Z"
    },
    "papermill": {
     "duration": 1.255667,
     "end_time": "2021-11-16T19:00:10.401137",
     "exception": false,
     "start_time": "2021-11-16T19:00:09.145470",
     "status": "completed"
    },
    "tags": []
   },
   "outputs": [],
   "source": [
    "df = pd.read_sql(\"select * from EBAY_TOP_BERLIN where record_time in (select distinct record_time from EBAY_TOP_BERLIN order by record_time desc limit 2)\", sqlite3.connect(\"UsedObjects.db\"))"
   ]
  },
  {
   "cell_type": "code",
   "execution_count": 5,
   "id": "popular-active",
   "metadata": {
    "execution": {
     "iopub.execute_input": "2021-11-16T19:00:10.481092Z",
     "iopub.status.busy": "2021-11-16T19:00:10.468005Z",
     "iopub.status.idle": "2021-11-16T19:00:10.501934Z",
     "shell.execute_reply": "2021-11-16T19:00:10.503156Z"
    },
    "papermill": {
     "duration": 0.078346,
     "end_time": "2021-11-16T19:00:10.503600",
     "exception": false,
     "start_time": "2021-11-16T19:00:10.425254",
     "status": "completed"
    },
    "tags": []
   },
   "outputs": [],
   "source": [
    "df_pivot = df.pivot_table(index=\"PRODUCT\", columns = \"RECORD_TIME\", values = \"LISTING_COUNT\")"
   ]
  },
  {
   "cell_type": "code",
   "execution_count": 6,
   "id": "union-huntington",
   "metadata": {
    "execution": {
     "iopub.execute_input": "2021-11-16T19:00:10.562136Z",
     "iopub.status.busy": "2021-11-16T19:00:10.560062Z",
     "iopub.status.idle": "2021-11-16T19:00:10.565543Z",
     "shell.execute_reply": "2021-11-16T19:00:10.566844Z"
    },
    "papermill": {
     "duration": 0.042929,
     "end_time": "2021-11-16T19:00:10.567262",
     "exception": false,
     "start_time": "2021-11-16T19:00:10.524333",
     "status": "completed"
    },
    "tags": []
   },
   "outputs": [],
   "source": [
    "df_pivot.columns = [\"stamp_1\", \"stamp_2\"]\n",
    "df_pivot_diff = df_pivot.diff(axis=1)"
   ]
  },
  {
   "cell_type": "code",
   "execution_count": 7,
   "id": "fifth-motion",
   "metadata": {
    "execution": {
     "iopub.execute_input": "2021-11-16T19:00:10.628739Z",
     "iopub.status.busy": "2021-11-16T19:00:10.626357Z",
     "iopub.status.idle": "2021-11-16T19:00:12.571199Z",
     "shell.execute_reply": "2021-11-16T19:00:12.572603Z"
    },
    "papermill": {
     "duration": 1.984034,
     "end_time": "2021-11-16T19:00:12.573168",
     "exception": false,
     "start_time": "2021-11-16T19:00:10.589134",
     "status": "completed"
    },
    "tags": []
   },
   "outputs": [
    {
     "data": {
      "text/plain": [
       "<AxesSubplot:ylabel='PRODUCT'>"
      ]
     },
     "execution_count": 7,
     "metadata": {},
     "output_type": "execute_result"
    },
    {
     "data": {
      "image/png": "[encoded data removed]",
      "text/plain": [
       "<Figure size 432x288 with 1 Axes>"
      ]
     },
     "metadata": {
      "needs_background": "light"
     },
     "output_type": "display_data"
    }
   ],
   "source": [
    "df_pivot_diff.sort_values(\"stamp_2\", ascending = False)[\"stamp_2\"].head(10).plot.barh()"
   ]
  },
  {
   "cell_type": "code",
   "execution_count": null,
   "id": "extra-executive",
   "metadata": {
    "papermill": {
     "duration": 0.023629,
     "end_time": "2021-11-16T19:00:12.621484",
     "exception": false,
     "start_time": "2021-11-16T19:00:12.597855",
     "status": "completed"
    },
    "tags": []
   },
   "outputs": [],
   "source": []
  }
 ],
 "metadata": {
  "kernelspec": {
   "display_name": "Python 3",
   "language": "python",
   "name": "python3"
  },
  "language_info": {
   "codemirror_mode": {
    "name": "ipython",
    "version": 3
   },
   "file_extension": ".py",
   "mimetype": "text/x-python",
   "name": "python",
   "nbconvert_exporter": "python",
   "pygments_lexer": "ipython3",
   "version": "3.9.5"
  },
  "papermill": {
   "default_parameters": {},
   "duration": 9.932704,
   "end_time": "2021-11-16T19:00:14.362260",
   "environment_variables": {},
   "exception": null,
   "input_path": "eBay_Overview.ipynb",
   "output_path": "eBay_Overview.ipynb",
   "parameters": {},
   "start_time": "2021-11-16T19:00:04.429556",
   "version": "2.3.3"
  }
 },
 "nbformat": 4,
 "nbformat_minor": 5
}