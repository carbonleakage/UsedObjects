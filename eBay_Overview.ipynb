{
 "cells": [
  {
   "cell_type": "code",
   "execution_count": 1,
   "id": "reverse-picking",
   "metadata": {
    "execution": {
     "iopub.execute_input": "2021-09-17T07:00:06.756617Z",
     "iopub.status.busy": "2021-09-17T07:00:06.754621Z",
     "iopub.status.idle": "2021-09-17T07:00:07.556040Z",
     "shell.execute_reply": "2021-09-17T07:00:07.557314Z"
    },
    "papermill": {
     "duration": 0.851948,
     "end_time": "2021-09-17T07:00:07.557936",
     "exception": false,
     "start_time": "2021-09-17T07:00:06.705988",
     "status": "completed"
    },
    "tags": []
   },
   "outputs": [],
   "source": [
    "import pandas as pd\n",
    "import sqlite3"
   ]
  },
  {
   "cell_type": "code",
   "execution_count": 2,
   "id": "innovative-syndrome",
   "metadata": {
    "execution": {
     "iopub.execute_input": "2021-09-17T07:00:07.608532Z",
     "iopub.status.busy": "2021-09-17T07:00:07.606599Z",
     "iopub.status.idle": "2021-09-17T07:00:07.913650Z",
     "shell.execute_reply": "2021-09-17T07:00:07.914893Z"
    },
    "papermill": {
     "duration": 0.336634,
     "end_time": "2021-09-17T07:00:07.915337",
     "exception": false,
     "start_time": "2021-09-17T07:00:07.578703",
     "status": "completed"
    },
    "tags": []
   },
   "outputs": [],
   "source": [
    "timestamps = pd.read_sql(\"select distinct record_time from EBAY_TOP_BERLIN order by record_time desc limit 2\", sqlite3.connect(\"UsedObjects.db\"))"
   ]
  },
  {
   "cell_type": "code",
   "execution_count": 3,
   "id": "periodic-identification",
   "metadata": {
    "execution": {
     "iopub.execute_input": "2021-09-17T07:00:07.980845Z",
     "iopub.status.busy": "2021-09-17T07:00:07.978727Z",
     "iopub.status.idle": "2021-09-17T07:00:07.999136Z",
     "shell.execute_reply": "2021-09-17T07:00:08.000371Z"
    },
    "papermill": {
     "duration": 0.065628,
     "end_time": "2021-09-17T07:00:08.000762",
     "exception": false,
     "start_time": "2021-09-17T07:00:07.935134",
     "status": "completed"
    },
    "tags": []
   },
   "outputs": [
    {
     "data": {
      "text/html": [
       "<div>\n",
       "<style scoped>\n",
       "    .dataframe tbody tr th:only-of-type {\n",
       "        vertical-align: middle;\n",
       "    }\n",
       "\n",
       "    .dataframe tbody tr th {\n",
       "        vertical-align: top;\n",
       "    }\n",
       "\n",
       "    .dataframe thead th {\n",
       "        text-align: right;\n",
       "    }\n",
       "</style>\n",
       "<table border=\"1\" class=\"dataframe\">\n",
       "  <thead>\n",
       "    <tr style=\"text-align: right;\">\n",
       "      <th></th>\n",
       "      <th>RECORD_TIME</th>\n",
       "    </tr>\n",
       "  </thead>\n",
       "  <tbody>\n",
       "    <tr>\n",
       "      <th>0</th>\n",
       "      <td>2021-09-17 09:00</td>\n",
       "    </tr>\n",
       "    <tr>\n",
       "      <th>1</th>\n",
       "      <td>2021-09-17 08:30</td>\n",
       "    </tr>\n",
       "  </tbody>\n",
       "</table>\n",
       "</div>"
      ],
      "text/plain": [
       "        RECORD_TIME\n",
       "0  2021-09-17 09:00\n",
       "1  2021-09-17 08:30"
      ]
     },
     "execution_count": 3,
     "metadata": {},
     "output_type": "execute_result"
    }
   ],
   "source": [
    "timestamps"
   ]
  },
  {
   "cell_type": "code",
   "execution_count": 4,
   "id": "alternate-victory",
   "metadata": {
    "execution": {
     "iopub.execute_input": "2021-09-17T07:00:08.052941Z",
     "iopub.status.busy": "2021-09-17T07:00:08.050709Z",
     "iopub.status.idle": "2021-09-17T07:00:08.497722Z",
     "shell.execute_reply": "2021-09-17T07:00:08.496308Z"
    },
    "papermill": {
     "duration": 0.475925,
     "end_time": "2021-09-17T07:00:08.498074",
     "exception": false,
     "start_time": "2021-09-17T07:00:08.022149",
     "status": "completed"
    },
    "tags": []
   },
   "outputs": [],
   "source": [
    "df = pd.read_sql(\"select * from EBAY_TOP_BERLIN where record_time in (select distinct record_time from EBAY_TOP_BERLIN order by record_time desc limit 2)\", sqlite3.connect(\"UsedObjects.db\"))"
   ]
  },
  {
   "cell_type": "code",
   "execution_count": 5,
   "id": "popular-active",
   "metadata": {
    "execution": {
     "iopub.execute_input": "2021-09-17T07:00:08.579296Z",
     "iopub.status.busy": "2021-09-17T07:00:08.566960Z",
     "iopub.status.idle": "2021-09-17T07:00:08.595364Z",
     "shell.execute_reply": "2021-09-17T07:00:08.596747Z"
    },
    "papermill": {
     "duration": 0.072797,
     "end_time": "2021-09-17T07:00:08.597182",
     "exception": false,
     "start_time": "2021-09-17T07:00:08.524385",
     "status": "completed"
    },
    "tags": []
   },
   "outputs": [],
   "source": [
    "df_pivot = df.pivot_table(index=\"PRODUCT\", columns = \"RECORD_TIME\", values = \"LISTING_COUNT\")"
   ]
  },
  {
   "cell_type": "code",
   "execution_count": 6,
   "id": "union-huntington",
   "metadata": {
    "execution": {
     "iopub.execute_input": "2021-09-17T07:00:08.654604Z",
     "iopub.status.busy": "2021-09-17T07:00:08.652314Z",
     "iopub.status.idle": "2021-09-17T07:00:08.657988Z",
     "shell.execute_reply": "2021-09-17T07:00:08.659368Z"
    },
    "papermill": {
     "duration": 0.041965,
     "end_time": "2021-09-17T07:00:08.659793",
     "exception": false,
     "start_time": "2021-09-17T07:00:08.617828",
     "status": "completed"
    },
    "tags": []
   },
   "outputs": [],
   "source": [
    "df_pivot.columns = [\"stamp_1\", \"stamp_2\"]\n",
    "df_pivot_diff = df_pivot.diff(axis=1)"
   ]
  },
  {
   "cell_type": "code",
   "execution_count": 7,
   "id": "fifth-motion",
   "metadata": {
    "execution": {
     "iopub.execute_input": "2021-09-17T07:00:08.713838Z",
     "iopub.status.busy": "2021-09-17T07:00:08.711681Z",
     "iopub.status.idle": "2021-09-17T07:00:10.215293Z",
     "shell.execute_reply": "2021-09-17T07:00:10.216572Z"
    },
    "papermill": {
     "duration": 1.536361,
     "end_time": "2021-09-17T07:00:10.217022",
     "exception": false,
     "start_time": "2021-09-17T07:00:08.680661",
     "status": "completed"
    },
    "tags": []
   },
   "outputs": [
    {
     "data": {
      "text/plain": [
       "<AxesSubplot:ylabel='PRODUCT'>"
      ]
     },
     "execution_count": 7,
     "metadata": {},
     "output_type": "execute_result"
    },
    {
     "data": {
      "image/png": "[encoded data removed]",
      "text/plain": [
       "<Figure size 432x288 with 1 Axes>"
      ]
     },
     "metadata": {
      "needs_background": "light"
     },
     "output_type": "display_data"
    }
   ],
   "source": [
    "df_pivot_diff.sort_values(\"stamp_2\", ascending = False)[\"stamp_2\"].head(10).plot.barh()"
   ]
  },
  {
   "cell_type": "code",
   "execution_count": null,
   "id": "extra-executive",
   "metadata": {
    "papermill": {
     "duration": 0.022812,
     "end_time": "2021-09-17T07:00:10.265367",
     "exception": false,
     "start_time": "2021-09-17T07:00:10.242555",
     "status": "completed"
    },
    "tags": []
   },
   "outputs": [],
   "source": []
  }
 ],
 "metadata": {
  "kernelspec": {
   "display_name": "Python 3",
   "language": "python",
   "name": "python3"
  },
  "language_info": {
   "codemirror_mode": {
    "name": "ipython",
    "version": 3
   },
   "file_extension": ".py",
   "mimetype": "text/x-python",
   "name": "python",
   "nbconvert_exporter": "python",
   "pygments_lexer": "ipython3",
   "version": "3.9.5"
  },
  "papermill": {
   "default_parameters": {},
   "duration": 6.596899,
   "end_time": "2021-09-17T07:00:10.909823",
   "environment_variables": {},
   "exception": null,
   "input_path": "eBay_Overview.ipynb",
   "output_path": "eBay_Overview.ipynb",
   "parameters": {},
   "start_time": "2021-09-17T07:00:04.312924",
   "version": "2.3.3"
  }
 },
 "nbformat": 4,
 "nbformat_minor": 5
}