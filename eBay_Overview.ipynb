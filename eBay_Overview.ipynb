{
 "cells": [
  {
   "cell_type": "code",
   "execution_count": 1,
   "id": "reverse-picking",
   "metadata": {
    "execution": {
     "iopub.execute_input": "2021-11-13T17:00:07.276027Z",
     "iopub.status.busy": "2021-11-13T17:00:07.273746Z",
     "iopub.status.idle": "2021-11-13T17:00:08.228802Z",
     "shell.execute_reply": "2021-11-13T17:00:08.230307Z"
    },
    "papermill": {
     "duration": 0.997842,
     "end_time": "2021-11-13T17:00:08.231103",
     "exception": false,
     "start_time": "2021-11-13T17:00:07.233261",
     "status": "completed"
    },
    "tags": []
   },
   "outputs": [],
   "source": [
    "import pandas as pd\n",
    "import sqlite3"
   ]
  },
  {
   "cell_type": "code",
   "execution_count": 2,
   "id": "innovative-syndrome",
   "metadata": {
    "execution": {
     "iopub.execute_input": "2021-11-13T17:00:08.294756Z",
     "iopub.status.busy": "2021-11-13T17:00:08.292349Z",
     "iopub.status.idle": "2021-11-13T17:00:09.083823Z",
     "shell.execute_reply": "2021-11-13T17:00:09.086055Z"
    },
    "papermill": {
     "duration": 0.827905,
     "end_time": "2021-11-13T17:00:09.086551",
     "exception": false,
     "start_time": "2021-11-13T17:00:08.258646",
     "status": "completed"
    },
    "tags": []
   },
   "outputs": [],
   "source": [
    "timestamps = pd.read_sql(\"select distinct record_time from EBAY_TOP_BERLIN order by record_time desc limit 2\", sqlite3.connect(\"UsedObjects.db\"))"
   ]
  },
  {
   "cell_type": "code",
   "execution_count": 3,
   "id": "periodic-identification",
   "metadata": {
    "execution": {
     "iopub.execute_input": "2021-11-13T17:00:09.158850Z",
     "iopub.status.busy": "2021-11-13T17:00:09.155424Z",
     "iopub.status.idle": "2021-11-13T17:00:09.179847Z",
     "shell.execute_reply": "2021-11-13T17:00:09.181331Z"
    },
    "papermill": {
     "duration": 0.074952,
     "end_time": "2021-11-13T17:00:09.181813",
     "exception": false,
     "start_time": "2021-11-13T17:00:09.106861",
     "status": "completed"
    },
    "tags": []
   },
   "outputs": [
    {
     "data": {
      "text/html": [
       "<div>\n",
       "<style scoped>\n",
       "    .dataframe tbody tr th:only-of-type {\n",
       "        vertical-align: middle;\n",
       "    }\n",
       "\n",
       "    .dataframe tbody tr th {\n",
       "        vertical-align: top;\n",
       "    }\n",
       "\n",
       "    .dataframe thead th {\n",
       "        text-align: right;\n",
       "    }\n",
       "</style>\n",
       "<table border=\"1\" class=\"dataframe\">\n",
       "  <thead>\n",
       "    <tr style=\"text-align: right;\">\n",
       "      <th></th>\n",
       "      <th>RECORD_TIME</th>\n",
       "    </tr>\n",
       "  </thead>\n",
       "  <tbody>\n",
       "    <tr>\n",
       "      <th>0</th>\n",
       "      <td>2021-11-13 18:00</td>\n",
       "    </tr>\n",
       "    <tr>\n",
       "      <th>1</th>\n",
       "      <td>2021-11-13 17:30</td>\n",
       "    </tr>\n",
       "  </tbody>\n",
       "</table>\n",
       "</div>"
      ],
      "text/plain": [
       "        RECORD_TIME\n",
       "0  2021-11-13 18:00\n",
       "1  2021-11-13 17:30"
      ]
     },
     "execution_count": 3,
     "metadata": {},
     "output_type": "execute_result"
    }
   ],
   "source": [
    "timestamps"
   ]
  },
  {
   "cell_type": "code",
   "execution_count": 4,
   "id": "alternate-victory",
   "metadata": {
    "execution": {
     "iopub.execute_input": "2021-11-13T17:00:09.235995Z",
     "iopub.status.busy": "2021-11-13T17:00:09.233822Z",
     "iopub.status.idle": "2021-11-13T17:00:10.390459Z",
     "shell.execute_reply": "2021-11-13T17:00:10.393115Z"
    },
    "papermill": {
     "duration": 1.191318,
     "end_time": "2021-11-13T17:00:10.393884",
     "exception": false,
     "start_time": "2021-11-13T17:00:09.202566",
     "status": "completed"
    },
    "tags": []
   },
   "outputs": [],
   "source": [
    "df = pd.read_sql(\"select * from EBAY_TOP_BERLIN where record_time in (select distinct record_time from EBAY_TOP_BERLIN order by record_time desc limit 2)\", sqlite3.connect(\"UsedObjects.db\"))"
   ]
  },
  {
   "cell_type": "code",
   "execution_count": 5,
   "id": "popular-active",
   "metadata": {
    "execution": {
     "iopub.execute_input": "2021-11-13T17:00:10.483695Z",
     "iopub.status.busy": "2021-11-13T17:00:10.469441Z",
     "iopub.status.idle": "2021-11-13T17:00:10.502240Z",
     "shell.execute_reply": "2021-11-13T17:00:10.503604Z"
    },
    "papermill": {
     "duration": 0.07926,
     "end_time": "2021-11-13T17:00:10.504101",
     "exception": false,
     "start_time": "2021-11-13T17:00:10.424841",
     "status": "completed"
    },
    "tags": []
   },
   "outputs": [],
   "source": [
    "df_pivot = df.pivot_table(index=\"PRODUCT\", columns = \"RECORD_TIME\", values = \"LISTING_COUNT\")"
   ]
  },
  {
   "cell_type": "code",
   "execution_count": 6,
   "id": "union-huntington",
   "metadata": {
    "execution": {
     "iopub.execute_input": "2021-11-13T17:00:10.564380Z",
     "iopub.status.busy": "2021-11-13T17:00:10.562191Z",
     "iopub.status.idle": "2021-11-13T17:00:10.568325Z",
     "shell.execute_reply": "2021-11-13T17:00:10.569688Z"
    },
    "papermill": {
     "duration": 0.043998,
     "end_time": "2021-11-13T17:00:10.570141",
     "exception": false,
     "start_time": "2021-11-13T17:00:10.526143",
     "status": "completed"
    },
    "tags": []
   },
   "outputs": [],
   "source": [
    "df_pivot.columns = [\"stamp_1\", \"stamp_2\"]\n",
    "df_pivot_diff = df_pivot.diff(axis=1)"
   ]
  },
  {
   "cell_type": "code",
   "execution_count": 7,
   "id": "fifth-motion",
   "metadata": {
    "execution": {
     "iopub.execute_input": "2021-11-13T17:00:10.627414Z",
     "iopub.status.busy": "2021-11-13T17:00:10.624759Z",
     "iopub.status.idle": "2021-11-13T17:00:12.536229Z",
     "shell.execute_reply": "2021-11-13T17:00:12.537907Z"
    },
    "papermill": {
     "duration": 1.948388,
     "end_time": "2021-11-13T17:00:12.538419",
     "exception": false,
     "start_time": "2021-11-13T17:00:10.590031",
     "status": "completed"
    },
    "tags": []
   },
   "outputs": [
    {
     "data": {
      "text/plain": [
       "<AxesSubplot:ylabel='PRODUCT'>"
      ]
     },
     "execution_count": 7,
     "metadata": {},
     "output_type": "execute_result"
    },
    {
     "data": {
      "image/png": "[encoded data removed]",
      "text/plain": [
       "<Figure size 432x288 with 1 Axes>"
      ]
     },
     "metadata": {
      "needs_background": "light"
     },
     "output_type": "display_data"
    }
   ],
   "source": [
    "df_pivot_diff.sort_values(\"stamp_2\", ascending = False)[\"stamp_2\"].head(10).plot.barh()"
   ]
  },
  {
   "cell_type": "code",
   "execution_count": null,
   "id": "extra-executive",
   "metadata": {
    "papermill": {
     "duration": 0.023161,
     "end_time": "2021-11-13T17:00:12.588155",
     "exception": false,
     "start_time": "2021-11-13T17:00:12.564994",
     "status": "completed"
    },
    "tags": []
   },
   "outputs": [],
   "source": []
  }
 ],
 "metadata": {
  "kernelspec": {
   "display_name": "Python 3",
   "language": "python",
   "name": "python3"
  },
  "language_info": {
   "codemirror_mode": {
    "name": "ipython",
    "version": 3
   },
   "file_extension": ".py",
   "mimetype": "text/x-python",
   "name": "python",
   "nbconvert_exporter": "python",
   "pygments_lexer": "ipython3",
   "version": "3.9.5"
  },
  "papermill": {
   "default_parameters": {},
   "duration": 8.904515,
   "end_time": "2021-11-13T17:00:13.436242",
   "environment_variables": {},
   "exception": null,
   "input_path": "eBay_Overview.ipynb",
   "output_path": "eBay_Overview.ipynb",
   "parameters": {},
   "start_time": "2021-11-13T17:00:04.531727",
   "version": "2.3.3"
  }
 },
 "nbformat": 4,
 "nbformat_minor": 5
}