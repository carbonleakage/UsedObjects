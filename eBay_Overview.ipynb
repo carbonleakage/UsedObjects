{
 "cells": [
  {
   "cell_type": "code",
   "execution_count": 1,
   "id": "reverse-picking",
   "metadata": {
    "execution": {
     "iopub.execute_input": "2021-08-18T19:30:06.890938Z",
     "iopub.status.busy": "2021-08-18T19:30:06.888912Z",
     "iopub.status.idle": "2021-08-18T19:30:07.691950Z",
     "shell.execute_reply": "2021-08-18T19:30:07.693199Z"
    },
    "papermill": {
     "duration": 0.853484,
     "end_time": "2021-08-18T19:30:07.693808",
     "exception": false,
     "start_time": "2021-08-18T19:30:06.840324",
     "status": "completed"
    },
    "tags": []
   },
   "outputs": [],
   "source": [
    "import pandas as pd\n",
    "import sqlite3"
   ]
  },
  {
   "cell_type": "code",
   "execution_count": 2,
   "id": "innovative-syndrome",
   "metadata": {
    "execution": {
     "iopub.execute_input": "2021-08-18T19:30:07.746471Z",
     "iopub.status.busy": "2021-08-18T19:30:07.744479Z",
     "iopub.status.idle": "2021-08-18T19:30:07.823654Z",
     "shell.execute_reply": "2021-08-18T19:30:07.824862Z"
    },
    "papermill": {
     "duration": 0.108828,
     "end_time": "2021-08-18T19:30:07.825253",
     "exception": false,
     "start_time": "2021-08-18T19:30:07.716425",
     "status": "completed"
    },
    "tags": []
   },
   "outputs": [],
   "source": [
    "timestamps = pd.read_sql(\"select distinct record_time from EBAY_TOP_BERLIN order by record_time desc limit 2\", sqlite3.connect(\"UsedObjects.db\"))"
   ]
  },
  {
   "cell_type": "code",
   "execution_count": 3,
   "id": "periodic-identification",
   "metadata": {
    "execution": {
     "iopub.execute_input": "2021-08-18T19:30:07.888705Z",
     "iopub.status.busy": "2021-08-18T19:30:07.886695Z",
     "iopub.status.idle": "2021-08-18T19:30:07.906620Z",
     "shell.execute_reply": "2021-08-18T19:30:07.907943Z"
    },
    "papermill": {
     "duration": 0.063543,
     "end_time": "2021-08-18T19:30:07.908357",
     "exception": false,
     "start_time": "2021-08-18T19:30:07.844814",
     "status": "completed"
    },
    "tags": []
   },
   "outputs": [
    {
     "data": {
      "text/html": [
       "<div>\n",
       "<style scoped>\n",
       "    .dataframe tbody tr th:only-of-type {\n",
       "        vertical-align: middle;\n",
       "    }\n",
       "\n",
       "    .dataframe tbody tr th {\n",
       "        vertical-align: top;\n",
       "    }\n",
       "\n",
       "    .dataframe thead th {\n",
       "        text-align: right;\n",
       "    }\n",
       "</style>\n",
       "<table border=\"1\" class=\"dataframe\">\n",
       "  <thead>\n",
       "    <tr style=\"text-align: right;\">\n",
       "      <th></th>\n",
       "      <th>RECORD_TIME</th>\n",
       "    </tr>\n",
       "  </thead>\n",
       "  <tbody>\n",
       "    <tr>\n",
       "      <th>0</th>\n",
       "      <td>2021-08-18 21:30</td>\n",
       "    </tr>\n",
       "    <tr>\n",
       "      <th>1</th>\n",
       "      <td>2021-08-18 21:00</td>\n",
       "    </tr>\n",
       "  </tbody>\n",
       "</table>\n",
       "</div>"
      ],
      "text/plain": [
       "        RECORD_TIME\n",
       "0  2021-08-18 21:30\n",
       "1  2021-08-18 21:00"
      ]
     },
     "execution_count": 3,
     "metadata": {},
     "output_type": "execute_result"
    }
   ],
   "source": [
    "timestamps"
   ]
  },
  {
   "cell_type": "code",
   "execution_count": 4,
   "id": "alternate-victory",
   "metadata": {
    "execution": {
     "iopub.execute_input": "2021-08-18T19:30:07.959044Z",
     "iopub.status.busy": "2021-08-18T19:30:07.957099Z",
     "iopub.status.idle": "2021-08-18T19:30:08.072779Z",
     "shell.execute_reply": "2021-08-18T19:30:08.074018Z"
    },
    "papermill": {
     "duration": 0.145703,
     "end_time": "2021-08-18T19:30:08.074427",
     "exception": false,
     "start_time": "2021-08-18T19:30:07.928724",
     "status": "completed"
    },
    "tags": []
   },
   "outputs": [],
   "source": [
    "df = pd.read_sql(\"select * from EBAY_TOP_BERLIN where record_time in (select distinct record_time from EBAY_TOP_BERLIN order by record_time desc limit 2)\", sqlite3.connect(\"UsedObjects.db\"))"
   ]
  },
  {
   "cell_type": "code",
   "execution_count": 5,
   "id": "popular-active",
   "metadata": {
    "execution": {
     "iopub.execute_input": "2021-08-18T19:30:08.147943Z",
     "iopub.status.busy": "2021-08-18T19:30:08.135663Z",
     "iopub.status.idle": "2021-08-18T19:30:08.163717Z",
     "shell.execute_reply": "2021-08-18T19:30:08.164931Z"
    },
    "papermill": {
     "duration": 0.068129,
     "end_time": "2021-08-18T19:30:08.165318",
     "exception": false,
     "start_time": "2021-08-18T19:30:08.097189",
     "status": "completed"
    },
    "tags": []
   },
   "outputs": [],
   "source": [
    "df_pivot = df.pivot_table(index=\"PRODUCT\", columns = \"RECORD_TIME\", values = \"LISTING_COUNT\")"
   ]
  },
  {
   "cell_type": "code",
   "execution_count": 6,
   "id": "union-huntington",
   "metadata": {
    "execution": {
     "iopub.execute_input": "2021-08-18T19:30:08.221646Z",
     "iopub.status.busy": "2021-08-18T19:30:08.219502Z",
     "iopub.status.idle": "2021-08-18T19:30:08.225209Z",
     "shell.execute_reply": "2021-08-18T19:30:08.226705Z"
    },
    "papermill": {
     "duration": 0.041152,
     "end_time": "2021-08-18T19:30:08.227150",
     "exception": false,
     "start_time": "2021-08-18T19:30:08.185998",
     "status": "completed"
    },
    "tags": []
   },
   "outputs": [],
   "source": [
    "df_pivot.columns = [\"stamp_1\", \"stamp_2\"]\n",
    "df_pivot_diff = df_pivot.diff(axis=1)"
   ]
  },
  {
   "cell_type": "code",
   "execution_count": 7,
   "id": "fifth-motion",
   "metadata": {
    "execution": {
     "iopub.execute_input": "2021-08-18T19:30:08.281894Z",
     "iopub.status.busy": "2021-08-18T19:30:08.279562Z",
     "iopub.status.idle": "2021-08-18T19:30:09.742667Z",
     "shell.execute_reply": "2021-08-18T19:30:09.743963Z"
    },
    "papermill": {
     "duration": 1.496221,
     "end_time": "2021-08-18T19:30:09.744379",
     "exception": false,
     "start_time": "2021-08-18T19:30:08.248158",
     "status": "completed"
    },
    "tags": []
   },
   "outputs": [
    {
     "data": {
      "text/plain": [
       "<AxesSubplot:ylabel='PRODUCT'>"
      ]
     },
     "execution_count": 7,
     "metadata": {},
     "output_type": "execute_result"
    },
    {
     "data": {
      "image/png": "[encoded data removed]",
      "text/plain": [
       "<Figure size 432x288 with 1 Axes>"
      ]
     },
     "metadata": {
      "needs_background": "light"
     },
     "output_type": "display_data"
    }
   ],
   "source": [
    "df_pivot_diff.sort_values(\"stamp_2\", ascending = False)[\"stamp_2\"].head(10).plot.barh()"
   ]
  },
  {
   "cell_type": "code",
   "execution_count": null,
   "id": "extra-executive",
   "metadata": {
    "papermill": {
     "duration": 0.022105,
     "end_time": "2021-08-18T19:30:09.791257",
     "exception": false,
     "start_time": "2021-08-18T19:30:09.769152",
     "status": "completed"
    },
    "tags": []
   },
   "outputs": [],
   "source": []
  }
 ],
 "metadata": {
  "kernelspec": {
   "display_name": "Python 3",
   "language": "python",
   "name": "python3"
  },
  "language_info": {
   "codemirror_mode": {
    "name": "ipython",
    "version": 3
   },
   "file_extension": ".py",
   "mimetype": "text/x-python",
   "name": "python",
   "nbconvert_exporter": "python",
   "pygments_lexer": "ipython3",
   "version": "3.9.5"
  },
  "papermill": {
   "default_parameters": {},
   "duration": 6.827006,
   "end_time": "2021-08-18T19:30:11.257697",
   "environment_variables": {},
   "exception": null,
   "input_path": "eBay_Overview.ipynb",
   "output_path": "eBay_Overview.ipynb",
   "parameters": {},
   "start_time": "2021-08-18T19:30:04.430691",
   "version": "2.3.3"
  }
 },
 "nbformat": 4,
 "nbformat_minor": 5
}