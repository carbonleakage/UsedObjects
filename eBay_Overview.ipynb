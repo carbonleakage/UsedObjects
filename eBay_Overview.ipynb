{
 "cells": [
  {
   "cell_type": "code",
   "execution_count": 1,
   "id": "reverse-picking",
   "metadata": {
    "execution": {
     "iopub.execute_input": "2021-11-08T21:30:07.773262Z",
     "iopub.status.busy": "2021-11-08T21:30:07.770645Z",
     "iopub.status.idle": "2021-11-08T21:30:08.724997Z",
     "shell.execute_reply": "2021-11-08T21:30:08.726656Z"
    },
    "papermill": {
     "duration": 1.008203,
     "end_time": "2021-11-08T21:30:08.727371",
     "exception": false,
     "start_time": "2021-11-08T21:30:07.719168",
     "status": "completed"
    },
    "tags": []
   },
   "outputs": [],
   "source": [
    "import pandas as pd\n",
    "import sqlite3"
   ]
  },
  {
   "cell_type": "code",
   "execution_count": 2,
   "id": "innovative-syndrome",
   "metadata": {
    "execution": {
     "iopub.execute_input": "2021-11-08T21:30:08.788199Z",
     "iopub.status.busy": "2021-11-08T21:30:08.786038Z",
     "iopub.status.idle": "2021-11-08T21:30:09.564584Z",
     "shell.execute_reply": "2021-11-08T21:30:09.566234Z"
    },
    "papermill": {
     "duration": 0.812469,
     "end_time": "2021-11-08T21:30:09.566701",
     "exception": false,
     "start_time": "2021-11-08T21:30:08.754232",
     "status": "completed"
    },
    "tags": []
   },
   "outputs": [],
   "source": [
    "timestamps = pd.read_sql(\"select distinct record_time from EBAY_TOP_BERLIN order by record_time desc limit 2\", sqlite3.connect(\"UsedObjects.db\"))"
   ]
  },
  {
   "cell_type": "code",
   "execution_count": 3,
   "id": "periodic-identification",
   "metadata": {
    "execution": {
     "iopub.execute_input": "2021-11-08T21:30:09.637647Z",
     "iopub.status.busy": "2021-11-08T21:30:09.635321Z",
     "iopub.status.idle": "2021-11-08T21:30:09.659075Z",
     "shell.execute_reply": "2021-11-08T21:30:09.660517Z"
    },
    "papermill": {
     "duration": 0.073501,
     "end_time": "2021-11-08T21:30:09.661116",
     "exception": false,
     "start_time": "2021-11-08T21:30:09.587615",
     "status": "completed"
    },
    "tags": []
   },
   "outputs": [
    {
     "data": {
      "text/html": [
       "<div>\n",
       "<style scoped>\n",
       "    .dataframe tbody tr th:only-of-type {\n",
       "        vertical-align: middle;\n",
       "    }\n",
       "\n",
       "    .dataframe tbody tr th {\n",
       "        vertical-align: top;\n",
       "    }\n",
       "\n",
       "    .dataframe thead th {\n",
       "        text-align: right;\n",
       "    }\n",
       "</style>\n",
       "<table border=\"1\" class=\"dataframe\">\n",
       "  <thead>\n",
       "    <tr style=\"text-align: right;\">\n",
       "      <th></th>\n",
       "      <th>RECORD_TIME</th>\n",
       "    </tr>\n",
       "  </thead>\n",
       "  <tbody>\n",
       "    <tr>\n",
       "      <th>0</th>\n",
       "      <td>2021-11-08 22:30</td>\n",
       "    </tr>\n",
       "    <tr>\n",
       "      <th>1</th>\n",
       "      <td>2021-11-08 22:00</td>\n",
       "    </tr>\n",
       "  </tbody>\n",
       "</table>\n",
       "</div>"
      ],
      "text/plain": [
       "        RECORD_TIME\n",
       "0  2021-11-08 22:30\n",
       "1  2021-11-08 22:00"
      ]
     },
     "execution_count": 3,
     "metadata": {},
     "output_type": "execute_result"
    }
   ],
   "source": [
    "timestamps"
   ]
  },
  {
   "cell_type": "code",
   "execution_count": 4,
   "id": "alternate-victory",
   "metadata": {
    "execution": {
     "iopub.execute_input": "2021-11-08T21:30:09.719455Z",
     "iopub.status.busy": "2021-11-08T21:30:09.717216Z",
     "iopub.status.idle": "2021-11-08T21:30:10.830350Z",
     "shell.execute_reply": "2021-11-08T21:30:10.831934Z"
    },
    "papermill": {
     "duration": 1.150046,
     "end_time": "2021-11-08T21:30:10.832403",
     "exception": false,
     "start_time": "2021-11-08T21:30:09.682357",
     "status": "completed"
    },
    "tags": []
   },
   "outputs": [],
   "source": [
    "df = pd.read_sql(\"select * from EBAY_TOP_BERLIN where record_time in (select distinct record_time from EBAY_TOP_BERLIN order by record_time desc limit 2)\", sqlite3.connect(\"UsedObjects.db\"))"
   ]
  },
  {
   "cell_type": "code",
   "execution_count": 5,
   "id": "popular-active",
   "metadata": {
    "execution": {
     "iopub.execute_input": "2021-11-08T21:30:10.937732Z",
     "iopub.status.busy": "2021-11-08T21:30:10.912140Z",
     "iopub.status.idle": "2021-11-08T21:30:10.964514Z",
     "shell.execute_reply": "2021-11-08T21:30:10.966296Z"
    },
    "papermill": {
     "duration": 0.11275,
     "end_time": "2021-11-08T21:30:10.966855",
     "exception": false,
     "start_time": "2021-11-08T21:30:10.854105",
     "status": "completed"
    },
    "tags": []
   },
   "outputs": [],
   "source": [
    "df_pivot = df.pivot_table(index=\"PRODUCT\", columns = \"RECORD_TIME\", values = \"LISTING_COUNT\")"
   ]
  },
  {
   "cell_type": "code",
   "execution_count": 6,
   "id": "union-huntington",
   "metadata": {
    "execution": {
     "iopub.execute_input": "2021-11-08T21:30:11.028911Z",
     "iopub.status.busy": "2021-11-08T21:30:11.026593Z",
     "iopub.status.idle": "2021-11-08T21:30:11.033902Z",
     "shell.execute_reply": "2021-11-08T21:30:11.035592Z"
    },
    "papermill": {
     "duration": 0.047326,
     "end_time": "2021-11-08T21:30:11.036061",
     "exception": false,
     "start_time": "2021-11-08T21:30:10.988735",
     "status": "completed"
    },
    "tags": []
   },
   "outputs": [],
   "source": [
    "df_pivot.columns = [\"stamp_1\", \"stamp_2\"]\n",
    "df_pivot_diff = df_pivot.diff(axis=1)"
   ]
  },
  {
   "cell_type": "code",
   "execution_count": 7,
   "id": "fifth-motion",
   "metadata": {
    "execution": {
     "iopub.execute_input": "2021-11-08T21:30:11.093062Z",
     "iopub.status.busy": "2021-11-08T21:30:11.090700Z",
     "iopub.status.idle": "2021-11-08T21:30:12.930920Z",
     "shell.execute_reply": "2021-11-08T21:30:12.934015Z"
    },
    "papermill": {
     "duration": 1.878884,
     "end_time": "2021-11-08T21:30:12.934841",
     "exception": false,
     "start_time": "2021-11-08T21:30:11.055957",
     "status": "completed"
    },
    "tags": []
   },
   "outputs": [
    {
     "data": {
      "text/plain": [
       "<AxesSubplot:ylabel='PRODUCT'>"
      ]
     },
     "execution_count": 7,
     "metadata": {},
     "output_type": "execute_result"
    },
    {
     "data": {
      "image/png": "[encoded data removed]",
      "text/plain": [
       "<Figure size 432x288 with 1 Axes>"
      ]
     },
     "metadata": {
      "needs_background": "light"
     },
     "output_type": "display_data"
    }
   ],
   "source": [
    "df_pivot_diff.sort_values(\"stamp_2\", ascending = False)[\"stamp_2\"].head(10).plot.barh()"
   ]
  },
  {
   "cell_type": "code",
   "execution_count": null,
   "id": "extra-executive",
   "metadata": {
    "papermill": {
     "duration": 0.033577,
     "end_time": "2021-11-08T21:30:13.006888",
     "exception": false,
     "start_time": "2021-11-08T21:30:12.973311",
     "status": "completed"
    },
    "tags": []
   },
   "outputs": [],
   "source": []
  }
 ],
 "metadata": {
  "kernelspec": {
   "display_name": "Python 3",
   "language": "python",
   "name": "python3"
  },
  "language_info": {
   "codemirror_mode": {
    "name": "ipython",
    "version": 3
   },
   "file_extension": ".py",
   "mimetype": "text/x-python",
   "name": "python",
   "nbconvert_exporter": "python",
   "pygments_lexer": "ipython3",
   "version": "3.9.5"
  },
  "papermill": {
   "default_parameters": {},
   "duration": 8.868214,
   "end_time": "2021-11-08T21:30:13.870212",
   "environment_variables": {},
   "exception": null,
   "input_path": "eBay_Overview.ipynb",
   "output_path": "eBay_Overview.ipynb",
   "parameters": {},
   "start_time": "2021-11-08T21:30:05.001998",
   "version": "2.3.3"
  }
 },
 "nbformat": 4,
 "nbformat_minor": 5
}