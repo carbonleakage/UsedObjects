{
 "cells": [
  {
   "cell_type": "code",
   "execution_count": 1,
   "id": "reverse-picking",
   "metadata": {
    "execution": {
     "iopub.execute_input": "2021-09-22T19:30:07.249596Z",
     "iopub.status.busy": "2021-09-22T19:30:07.247667Z",
     "iopub.status.idle": "2021-09-22T19:30:08.052561Z",
     "shell.execute_reply": "2021-09-22T19:30:08.053801Z"
    },
    "papermill": {
     "duration": 0.854945,
     "end_time": "2021-09-22T19:30:08.054416",
     "exception": false,
     "start_time": "2021-09-22T19:30:07.199471",
     "status": "completed"
    },
    "tags": []
   },
   "outputs": [],
   "source": [
    "import pandas as pd\n",
    "import sqlite3"
   ]
  },
  {
   "cell_type": "code",
   "execution_count": 2,
   "id": "innovative-syndrome",
   "metadata": {
    "execution": {
     "iopub.execute_input": "2021-09-22T19:30:08.104678Z",
     "iopub.status.busy": "2021-09-22T19:30:08.102751Z",
     "iopub.status.idle": "2021-09-22T19:30:08.462373Z",
     "shell.execute_reply": "2021-09-22T19:30:08.463569Z"
    },
    "papermill": {
     "duration": 0.388883,
     "end_time": "2021-09-22T19:30:08.463979",
     "exception": false,
     "start_time": "2021-09-22T19:30:08.075096",
     "status": "completed"
    },
    "tags": []
   },
   "outputs": [],
   "source": [
    "timestamps = pd.read_sql(\"select distinct record_time from EBAY_TOP_BERLIN order by record_time desc limit 2\", sqlite3.connect(\"UsedObjects.db\"))"
   ]
  },
  {
   "cell_type": "code",
   "execution_count": 3,
   "id": "periodic-identification",
   "metadata": {
    "execution": {
     "iopub.execute_input": "2021-09-22T19:30:08.529409Z",
     "iopub.status.busy": "2021-09-22T19:30:08.527370Z",
     "iopub.status.idle": "2021-09-22T19:30:08.547235Z",
     "shell.execute_reply": "2021-09-22T19:30:08.548392Z"
    },
    "papermill": {
     "duration": 0.063712,
     "end_time": "2021-09-22T19:30:08.548798",
     "exception": false,
     "start_time": "2021-09-22T19:30:08.485086",
     "status": "completed"
    },
    "tags": []
   },
   "outputs": [
    {
     "data": {
      "text/html": [
       "<div>\n",
       "<style scoped>\n",
       "    .dataframe tbody tr th:only-of-type {\n",
       "        vertical-align: middle;\n",
       "    }\n",
       "\n",
       "    .dataframe tbody tr th {\n",
       "        vertical-align: top;\n",
       "    }\n",
       "\n",
       "    .dataframe thead th {\n",
       "        text-align: right;\n",
       "    }\n",
       "</style>\n",
       "<table border=\"1\" class=\"dataframe\">\n",
       "  <thead>\n",
       "    <tr style=\"text-align: right;\">\n",
       "      <th></th>\n",
       "      <th>RECORD_TIME</th>\n",
       "    </tr>\n",
       "  </thead>\n",
       "  <tbody>\n",
       "    <tr>\n",
       "      <th>0</th>\n",
       "      <td>2021-09-22 21:30</td>\n",
       "    </tr>\n",
       "    <tr>\n",
       "      <th>1</th>\n",
       "      <td>2021-09-22 21:00</td>\n",
       "    </tr>\n",
       "  </tbody>\n",
       "</table>\n",
       "</div>"
      ],
      "text/plain": [
       "        RECORD_TIME\n",
       "0  2021-09-22 21:30\n",
       "1  2021-09-22 21:00"
      ]
     },
     "execution_count": 3,
     "metadata": {},
     "output_type": "execute_result"
    }
   ],
   "source": [
    "timestamps"
   ]
  },
  {
   "cell_type": "code",
   "execution_count": 4,
   "id": "alternate-victory",
   "metadata": {
    "execution": {
     "iopub.execute_input": "2021-09-22T19:30:08.602024Z",
     "iopub.status.busy": "2021-09-22T19:30:08.599728Z",
     "iopub.status.idle": "2021-09-22T19:30:09.131759Z",
     "shell.execute_reply": "2021-09-22T19:30:09.133078Z"
    },
    "papermill": {
     "duration": 0.562275,
     "end_time": "2021-09-22T19:30:09.133480",
     "exception": false,
     "start_time": "2021-09-22T19:30:08.571205",
     "status": "completed"
    },
    "tags": []
   },
   "outputs": [],
   "source": [
    "df = pd.read_sql(\"select * from EBAY_TOP_BERLIN where record_time in (select distinct record_time from EBAY_TOP_BERLIN order by record_time desc limit 2)\", sqlite3.connect(\"UsedObjects.db\"))"
   ]
  },
  {
   "cell_type": "code",
   "execution_count": 5,
   "id": "popular-active",
   "metadata": {
    "execution": {
     "iopub.execute_input": "2021-09-22T19:30:09.213101Z",
     "iopub.status.busy": "2021-09-22T19:30:09.205333Z",
     "iopub.status.idle": "2021-09-22T19:30:09.233344Z",
     "shell.execute_reply": "2021-09-22T19:30:09.234646Z"
    },
    "papermill": {
     "duration": 0.073778,
     "end_time": "2021-09-22T19:30:09.235119",
     "exception": false,
     "start_time": "2021-09-22T19:30:09.161341",
     "status": "completed"
    },
    "tags": []
   },
   "outputs": [],
   "source": [
    "df_pivot = df.pivot_table(index=\"PRODUCT\", columns = \"RECORD_TIME\", values = \"LISTING_COUNT\")"
   ]
  },
  {
   "cell_type": "code",
   "execution_count": 6,
   "id": "union-huntington",
   "metadata": {
    "execution": {
     "iopub.execute_input": "2021-09-22T19:30:09.290400Z",
     "iopub.status.busy": "2021-09-22T19:30:09.288341Z",
     "iopub.status.idle": "2021-09-22T19:30:09.293659Z",
     "shell.execute_reply": "2021-09-22T19:30:09.294916Z"
    },
    "papermill": {
     "duration": 0.040323,
     "end_time": "2021-09-22T19:30:09.295359",
     "exception": false,
     "start_time": "2021-09-22T19:30:09.255036",
     "status": "completed"
    },
    "tags": []
   },
   "outputs": [],
   "source": [
    "df_pivot.columns = [\"stamp_1\", \"stamp_2\"]\n",
    "df_pivot_diff = df_pivot.diff(axis=1)"
   ]
  },
  {
   "cell_type": "code",
   "execution_count": 7,
   "id": "fifth-motion",
   "metadata": {
    "execution": {
     "iopub.execute_input": "2021-09-22T19:30:09.348901Z",
     "iopub.status.busy": "2021-09-22T19:30:09.346342Z",
     "iopub.status.idle": "2021-09-22T19:30:10.825348Z",
     "shell.execute_reply": "2021-09-22T19:30:10.826555Z"
    },
    "papermill": {
     "duration": 1.511517,
     "end_time": "2021-09-22T19:30:10.827042",
     "exception": false,
     "start_time": "2021-09-22T19:30:09.315525",
     "status": "completed"
    },
    "tags": []
   },
   "outputs": [
    {
     "data": {
      "text/plain": [
       "<AxesSubplot:ylabel='PRODUCT'>"
      ]
     },
     "execution_count": 7,
     "metadata": {},
     "output_type": "execute_result"
    },
    {
     "data": {
      "image/png": "[encoded data removed]",
      "text/plain": [
       "<Figure size 432x288 with 1 Axes>"
      ]
     },
     "metadata": {
      "needs_background": "light"
     },
     "output_type": "display_data"
    }
   ],
   "source": [
    "df_pivot_diff.sort_values(\"stamp_2\", ascending = False)[\"stamp_2\"].head(10).plot.barh()"
   ]
  },
  {
   "cell_type": "code",
   "execution_count": null,
   "id": "extra-executive",
   "metadata": {
    "papermill": {
     "duration": 0.021964,
     "end_time": "2021-09-22T19:30:10.872569",
     "exception": false,
     "start_time": "2021-09-22T19:30:10.850605",
     "status": "completed"
    },
    "tags": []
   },
   "outputs": [],
   "source": []
  }
 ],
 "metadata": {
  "kernelspec": {
   "display_name": "Python 3",
   "language": "python",
   "name": "python3"
  },
  "language_info": {
   "codemirror_mode": {
    "name": "ipython",
    "version": 3
   },
   "file_extension": ".py",
   "mimetype": "text/x-python",
   "name": "python",
   "nbconvert_exporter": "python",
   "pygments_lexer": "ipython3",
   "version": "3.9.5"
  },
  "papermill": {
   "default_parameters": {},
   "duration": 6.71552,
   "end_time": "2021-09-22T19:30:11.515511",
   "environment_variables": {},
   "exception": null,
   "input_path": "eBay_Overview.ipynb",
   "output_path": "eBay_Overview.ipynb",
   "parameters": {},
   "start_time": "2021-09-22T19:30:04.799991",
   "version": "2.3.3"
  }
 },
 "nbformat": 4,
 "nbformat_minor": 5
}