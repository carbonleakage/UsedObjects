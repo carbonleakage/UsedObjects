{
 "cells": [
  {
   "cell_type": "code",
   "execution_count": 1,
   "id": "reverse-picking",
   "metadata": {
    "execution": {
     "iopub.execute_input": "2021-10-14T06:00:07.207186Z",
     "iopub.status.busy": "2021-10-14T06:00:07.205198Z",
     "iopub.status.idle": "2021-10-14T06:00:08.010845Z",
     "shell.execute_reply": "2021-10-14T06:00:08.012123Z"
    },
    "papermill": {
     "duration": 0.857649,
     "end_time": "2021-10-14T06:00:08.012778",
     "exception": false,
     "start_time": "2021-10-14T06:00:07.155129",
     "status": "completed"
    },
    "tags": []
   },
   "outputs": [],
   "source": [
    "import pandas as pd\n",
    "import sqlite3"
   ]
  },
  {
   "cell_type": "code",
   "execution_count": 2,
   "id": "innovative-syndrome",
   "metadata": {
    "execution": {
     "iopub.execute_input": "2021-10-14T06:00:08.063653Z",
     "iopub.status.busy": "2021-10-14T06:00:08.061782Z",
     "iopub.status.idle": "2021-10-14T06:00:08.596779Z",
     "shell.execute_reply": "2021-10-14T06:00:08.598124Z"
    },
    "papermill": {
     "duration": 0.564377,
     "end_time": "2021-10-14T06:00:08.598544",
     "exception": false,
     "start_time": "2021-10-14T06:00:08.034167",
     "status": "completed"
    },
    "tags": []
   },
   "outputs": [],
   "source": [
    "timestamps = pd.read_sql(\"select distinct record_time from EBAY_TOP_BERLIN order by record_time desc limit 2\", sqlite3.connect(\"UsedObjects.db\"))"
   ]
  },
  {
   "cell_type": "code",
   "execution_count": 3,
   "id": "periodic-identification",
   "metadata": {
    "execution": {
     "iopub.execute_input": "2021-10-14T06:00:08.663995Z",
     "iopub.status.busy": "2021-10-14T06:00:08.661941Z",
     "iopub.status.idle": "2021-10-14T06:00:08.681872Z",
     "shell.execute_reply": "2021-10-14T06:00:08.683100Z"
    },
    "papermill": {
     "duration": 0.064097,
     "end_time": "2021-10-14T06:00:08.683534",
     "exception": false,
     "start_time": "2021-10-14T06:00:08.619437",
     "status": "completed"
    },
    "tags": []
   },
   "outputs": [
    {
     "data": {
      "text/html": [
       "<div>\n",
       "<style scoped>\n",
       "    .dataframe tbody tr th:only-of-type {\n",
       "        vertical-align: middle;\n",
       "    }\n",
       "\n",
       "    .dataframe tbody tr th {\n",
       "        vertical-align: top;\n",
       "    }\n",
       "\n",
       "    .dataframe thead th {\n",
       "        text-align: right;\n",
       "    }\n",
       "</style>\n",
       "<table border=\"1\" class=\"dataframe\">\n",
       "  <thead>\n",
       "    <tr style=\"text-align: right;\">\n",
       "      <th></th>\n",
       "      <th>RECORD_TIME</th>\n",
       "    </tr>\n",
       "  </thead>\n",
       "  <tbody>\n",
       "    <tr>\n",
       "      <th>0</th>\n",
       "      <td>2021-10-14 08:00</td>\n",
       "    </tr>\n",
       "    <tr>\n",
       "      <th>1</th>\n",
       "      <td>2021-10-14 07:30</td>\n",
       "    </tr>\n",
       "  </tbody>\n",
       "</table>\n",
       "</div>"
      ],
      "text/plain": [
       "        RECORD_TIME\n",
       "0  2021-10-14 08:00\n",
       "1  2021-10-14 07:30"
      ]
     },
     "execution_count": 3,
     "metadata": {},
     "output_type": "execute_result"
    }
   ],
   "source": [
    "timestamps"
   ]
  },
  {
   "cell_type": "code",
   "execution_count": 4,
   "id": "alternate-victory",
   "metadata": {
    "execution": {
     "iopub.execute_input": "2021-10-14T06:00:08.750760Z",
     "iopub.status.busy": "2021-10-14T06:00:08.748288Z",
     "iopub.status.idle": "2021-10-14T06:00:09.532837Z",
     "shell.execute_reply": "2021-10-14T06:00:09.534251Z"
    },
    "papermill": {
     "duration": 0.819603,
     "end_time": "2021-10-14T06:00:09.534679",
     "exception": false,
     "start_time": "2021-10-14T06:00:08.715076",
     "status": "completed"
    },
    "tags": []
   },
   "outputs": [],
   "source": [
    "df = pd.read_sql(\"select * from EBAY_TOP_BERLIN where record_time in (select distinct record_time from EBAY_TOP_BERLIN order by record_time desc limit 2)\", sqlite3.connect(\"UsedObjects.db\"))"
   ]
  },
  {
   "cell_type": "code",
   "execution_count": 5,
   "id": "popular-active",
   "metadata": {
    "execution": {
     "iopub.execute_input": "2021-10-14T06:00:09.605452Z",
     "iopub.status.busy": "2021-10-14T06:00:09.593682Z",
     "iopub.status.idle": "2021-10-14T06:00:09.621004Z",
     "shell.execute_reply": "2021-10-14T06:00:09.622248Z"
    },
    "papermill": {
     "duration": 0.067825,
     "end_time": "2021-10-14T06:00:09.622649",
     "exception": false,
     "start_time": "2021-10-14T06:00:09.554824",
     "status": "completed"
    },
    "tags": []
   },
   "outputs": [],
   "source": [
    "df_pivot = df.pivot_table(index=\"PRODUCT\", columns = \"RECORD_TIME\", values = \"LISTING_COUNT\")"
   ]
  },
  {
   "cell_type": "code",
   "execution_count": 6,
   "id": "union-huntington",
   "metadata": {
    "execution": {
     "iopub.execute_input": "2021-10-14T06:00:09.680902Z",
     "iopub.status.busy": "2021-10-14T06:00:09.678553Z",
     "iopub.status.idle": "2021-10-14T06:00:09.684313Z",
     "shell.execute_reply": "2021-10-14T06:00:09.685799Z"
    },
    "papermill": {
     "duration": 0.041589,
     "end_time": "2021-10-14T06:00:09.686248",
     "exception": false,
     "start_time": "2021-10-14T06:00:09.644659",
     "status": "completed"
    },
    "tags": []
   },
   "outputs": [],
   "source": [
    "df_pivot.columns = [\"stamp_1\", \"stamp_2\"]\n",
    "df_pivot_diff = df_pivot.diff(axis=1)"
   ]
  },
  {
   "cell_type": "code",
   "execution_count": 7,
   "id": "fifth-motion",
   "metadata": {
    "execution": {
     "iopub.execute_input": "2021-10-14T06:00:09.739994Z",
     "iopub.status.busy": "2021-10-14T06:00:09.737788Z",
     "iopub.status.idle": "2021-10-14T06:00:11.218432Z",
     "shell.execute_reply": "2021-10-14T06:00:11.219738Z"
    },
    "papermill": {
     "duration": 1.512868,
     "end_time": "2021-10-14T06:00:11.220160",
     "exception": false,
     "start_time": "2021-10-14T06:00:09.707292",
     "status": "completed"
    },
    "tags": []
   },
   "outputs": [
    {
     "data": {
      "text/plain": [
       "<AxesSubplot:ylabel='PRODUCT'>"
      ]
     },
     "execution_count": 7,
     "metadata": {},
     "output_type": "execute_result"
    },
    {
     "data": {
      "image/png": "[encoded data removed]",
      "text/plain": [
       "<Figure size 432x288 with 1 Axes>"
      ]
     },
     "metadata": {
      "needs_background": "light"
     },
     "output_type": "display_data"
    }
   ],
   "source": [
    "df_pivot_diff.sort_values(\"stamp_2\", ascending = False)[\"stamp_2\"].head(10).plot.barh()"
   ]
  },
  {
   "cell_type": "code",
   "execution_count": null,
   "id": "extra-executive",
   "metadata": {
    "papermill": {
     "duration": 0.021994,
     "end_time": "2021-10-14T06:00:11.266308",
     "exception": false,
     "start_time": "2021-10-14T06:00:11.244314",
     "status": "completed"
    },
    "tags": []
   },
   "outputs": [],
   "source": []
  }
 ],
 "metadata": {
  "kernelspec": {
   "display_name": "Python 3",
   "language": "python",
   "name": "python3"
  },
  "language_info": {
   "codemirror_mode": {
    "name": "ipython",
    "version": 3
   },
   "file_extension": ".py",
   "mimetype": "text/x-python",
   "name": "python",
   "nbconvert_exporter": "python",
   "pygments_lexer": "ipython3",
   "version": "3.9.5"
  },
  "papermill": {
   "default_parameters": {},
   "duration": 7.814838,
   "end_time": "2021-10-14T06:00:12.582177",
   "environment_variables": {},
   "exception": null,
   "input_path": "eBay_Overview.ipynb",
   "output_path": "eBay_Overview.ipynb",
   "parameters": {},
   "start_time": "2021-10-14T06:00:04.767339",
   "version": "2.3.3"
  }
 },
 "nbformat": 4,
 "nbformat_minor": 5
}