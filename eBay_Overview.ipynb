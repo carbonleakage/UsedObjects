{
 "cells": [
  {
   "cell_type": "code",
   "execution_count": 1,
   "id": "reverse-picking",
   "metadata": {
    "execution": {
     "iopub.execute_input": "2021-10-15T04:00:07.164753Z",
     "iopub.status.busy": "2021-10-15T04:00:07.162760Z",
     "iopub.status.idle": "2021-10-15T04:00:07.970506Z",
     "shell.execute_reply": "2021-10-15T04:00:07.971771Z"
    },
    "papermill": {
     "duration": 0.860123,
     "end_time": "2021-10-15T04:00:07.972397",
     "exception": false,
     "start_time": "2021-10-15T04:00:07.112274",
     "status": "completed"
    },
    "tags": []
   },
   "outputs": [],
   "source": [
    "import pandas as pd\n",
    "import sqlite3"
   ]
  },
  {
   "cell_type": "code",
   "execution_count": 2,
   "id": "innovative-syndrome",
   "metadata": {
    "execution": {
     "iopub.execute_input": "2021-10-15T04:00:08.023792Z",
     "iopub.status.busy": "2021-10-15T04:00:08.021897Z",
     "iopub.status.idle": "2021-10-15T04:00:08.566155Z",
     "shell.execute_reply": "2021-10-15T04:00:08.567588Z"
    },
    "papermill": {
     "duration": 0.573979,
     "end_time": "2021-10-15T04:00:08.568031",
     "exception": false,
     "start_time": "2021-10-15T04:00:07.994052",
     "status": "completed"
    },
    "tags": []
   },
   "outputs": [],
   "source": [
    "timestamps = pd.read_sql(\"select distinct record_time from EBAY_TOP_BERLIN order by record_time desc limit 2\", sqlite3.connect(\"UsedObjects.db\"))"
   ]
  },
  {
   "cell_type": "code",
   "execution_count": 3,
   "id": "periodic-identification",
   "metadata": {
    "execution": {
     "iopub.execute_input": "2021-10-15T04:00:08.641994Z",
     "iopub.status.busy": "2021-10-15T04:00:08.639870Z",
     "iopub.status.idle": "2021-10-15T04:00:08.661695Z",
     "shell.execute_reply": "2021-10-15T04:00:08.663011Z"
    },
    "papermill": {
     "duration": 0.069969,
     "end_time": "2021-10-15T04:00:08.663427",
     "exception": false,
     "start_time": "2021-10-15T04:00:08.593458",
     "status": "completed"
    },
    "tags": []
   },
   "outputs": [
    {
     "data": {
      "text/html": [
       "<div>\n",
       "<style scoped>\n",
       "    .dataframe tbody tr th:only-of-type {\n",
       "        vertical-align: middle;\n",
       "    }\n",
       "\n",
       "    .dataframe tbody tr th {\n",
       "        vertical-align: top;\n",
       "    }\n",
       "\n",
       "    .dataframe thead th {\n",
       "        text-align: right;\n",
       "    }\n",
       "</style>\n",
       "<table border=\"1\" class=\"dataframe\">\n",
       "  <thead>\n",
       "    <tr style=\"text-align: right;\">\n",
       "      <th></th>\n",
       "      <th>RECORD_TIME</th>\n",
       "    </tr>\n",
       "  </thead>\n",
       "  <tbody>\n",
       "    <tr>\n",
       "      <th>0</th>\n",
       "      <td>2021-10-15 06:00</td>\n",
       "    </tr>\n",
       "    <tr>\n",
       "      <th>1</th>\n",
       "      <td>2021-10-15 05:30</td>\n",
       "    </tr>\n",
       "  </tbody>\n",
       "</table>\n",
       "</div>"
      ],
      "text/plain": [
       "        RECORD_TIME\n",
       "0  2021-10-15 06:00\n",
       "1  2021-10-15 05:30"
      ]
     },
     "execution_count": 3,
     "metadata": {},
     "output_type": "execute_result"
    }
   ],
   "source": [
    "timestamps"
   ]
  },
  {
   "cell_type": "code",
   "execution_count": 4,
   "id": "alternate-victory",
   "metadata": {
    "execution": {
     "iopub.execute_input": "2021-10-15T04:00:08.714329Z",
     "iopub.status.busy": "2021-10-15T04:00:08.712342Z",
     "iopub.status.idle": "2021-10-15T04:00:09.508239Z",
     "shell.execute_reply": "2021-10-15T04:00:09.509703Z"
    },
    "papermill": {
     "duration": 0.826225,
     "end_time": "2021-10-15T04:00:09.510151",
     "exception": false,
     "start_time": "2021-10-15T04:00:08.683926",
     "status": "completed"
    },
    "tags": []
   },
   "outputs": [],
   "source": [
    "df = pd.read_sql(\"select * from EBAY_TOP_BERLIN where record_time in (select distinct record_time from EBAY_TOP_BERLIN order by record_time desc limit 2)\", sqlite3.connect(\"UsedObjects.db\"))"
   ]
  },
  {
   "cell_type": "code",
   "execution_count": 5,
   "id": "popular-active",
   "metadata": {
    "execution": {
     "iopub.execute_input": "2021-10-15T04:00:09.580921Z",
     "iopub.status.busy": "2021-10-15T04:00:09.569227Z",
     "iopub.status.idle": "2021-10-15T04:00:09.597076Z",
     "shell.execute_reply": "2021-10-15T04:00:09.598501Z"
    },
    "papermill": {
     "duration": 0.067417,
     "end_time": "2021-10-15T04:00:09.598940",
     "exception": false,
     "start_time": "2021-10-15T04:00:09.531523",
     "status": "completed"
    },
    "tags": []
   },
   "outputs": [],
   "source": [
    "df_pivot = df.pivot_table(index=\"PRODUCT\", columns = \"RECORD_TIME\", values = \"LISTING_COUNT\")"
   ]
  },
  {
   "cell_type": "code",
   "execution_count": 6,
   "id": "union-huntington",
   "metadata": {
    "execution": {
     "iopub.execute_input": "2021-10-15T04:00:09.656751Z",
     "iopub.status.busy": "2021-10-15T04:00:09.654225Z",
     "iopub.status.idle": "2021-10-15T04:00:09.660084Z",
     "shell.execute_reply": "2021-10-15T04:00:09.661443Z"
    },
    "papermill": {
     "duration": 0.042429,
     "end_time": "2021-10-15T04:00:09.661862",
     "exception": false,
     "start_time": "2021-10-15T04:00:09.619433",
     "status": "completed"
    },
    "tags": []
   },
   "outputs": [],
   "source": [
    "df_pivot.columns = [\"stamp_1\", \"stamp_2\"]\n",
    "df_pivot_diff = df_pivot.diff(axis=1)"
   ]
  },
  {
   "cell_type": "code",
   "execution_count": 7,
   "id": "fifth-motion",
   "metadata": {
    "execution": {
     "iopub.execute_input": "2021-10-15T04:00:09.716083Z",
     "iopub.status.busy": "2021-10-15T04:00:09.713719Z",
     "iopub.status.idle": "2021-10-15T04:00:11.225702Z",
     "shell.execute_reply": "2021-10-15T04:00:11.227303Z"
    },
    "papermill": {
     "duration": 1.545129,
     "end_time": "2021-10-15T04:00:11.227797",
     "exception": false,
     "start_time": "2021-10-15T04:00:09.682668",
     "status": "completed"
    },
    "tags": []
   },
   "outputs": [
    {
     "data": {
      "text/plain": [
       "<AxesSubplot:ylabel='PRODUCT'>"
      ]
     },
     "execution_count": 7,
     "metadata": {},
     "output_type": "execute_result"
    },
    {
     "data": {
      "image/png": "[encoded data removed]",
      "text/plain": [
       "<Figure size 432x288 with 1 Axes>"
      ]
     },
     "metadata": {
      "needs_background": "light"
     },
     "output_type": "display_data"
    }
   ],
   "source": [
    "df_pivot_diff.sort_values(\"stamp_2\", ascending = False)[\"stamp_2\"].head(10).plot.barh()"
   ]
  },
  {
   "cell_type": "code",
   "execution_count": null,
   "id": "extra-executive",
   "metadata": {
    "papermill": {
     "duration": 0.022177,
     "end_time": "2021-10-15T04:00:11.274496",
     "exception": false,
     "start_time": "2021-10-15T04:00:11.252319",
     "status": "completed"
    },
    "tags": []
   },
   "outputs": [],
   "source": []
  }
 ],
 "metadata": {
  "kernelspec": {
   "display_name": "Python 3",
   "language": "python",
   "name": "python3"
  },
  "language_info": {
   "codemirror_mode": {
    "name": "ipython",
    "version": 3
   },
   "file_extension": ".py",
   "mimetype": "text/x-python",
   "name": "python",
   "nbconvert_exporter": "python",
   "pygments_lexer": "ipython3",
   "version": "3.9.5"
  },
  "papermill": {
   "default_parameters": {},
   "duration": 7.835508,
   "end_time": "2021-10-15T04:00:12.534965",
   "environment_variables": {},
   "exception": null,
   "input_path": "eBay_Overview.ipynb",
   "output_path": "eBay_Overview.ipynb",
   "parameters": {},
   "start_time": "2021-10-15T04:00:04.699457",
   "version": "2.3.3"
  }
 },
 "nbformat": 4,
 "nbformat_minor": 5
}