{
 "cells": [
  {
   "cell_type": "code",
   "execution_count": 1,
   "id": "reverse-picking",
   "metadata": {
    "execution": {
     "iopub.execute_input": "2021-09-18T22:00:06.859040Z",
     "iopub.status.busy": "2021-09-18T22:00:06.857036Z",
     "iopub.status.idle": "2021-09-18T22:00:07.657836Z",
     "shell.execute_reply": "2021-09-18T22:00:07.659133Z"
    },
    "papermill": {
     "duration": 0.851358,
     "end_time": "2021-09-18T22:00:07.659814",
     "exception": false,
     "start_time": "2021-09-18T22:00:06.808456",
     "status": "completed"
    },
    "tags": []
   },
   "outputs": [],
   "source": [
    "import pandas as pd\n",
    "import sqlite3"
   ]
  },
  {
   "cell_type": "code",
   "execution_count": 2,
   "id": "innovative-syndrome",
   "metadata": {
    "execution": {
     "iopub.execute_input": "2021-09-18T22:00:07.710646Z",
     "iopub.status.busy": "2021-09-18T22:00:07.708715Z",
     "iopub.status.idle": "2021-09-18T22:00:08.021829Z",
     "shell.execute_reply": "2021-09-18T22:00:08.023076Z"
    },
    "papermill": {
     "duration": 0.343407,
     "end_time": "2021-09-18T22:00:08.023485",
     "exception": false,
     "start_time": "2021-09-18T22:00:07.680078",
     "status": "completed"
    },
    "tags": []
   },
   "outputs": [],
   "source": [
    "timestamps = pd.read_sql(\"select distinct record_time from EBAY_TOP_BERLIN order by record_time desc limit 2\", sqlite3.connect(\"UsedObjects.db\"))"
   ]
  },
  {
   "cell_type": "code",
   "execution_count": 3,
   "id": "periodic-identification",
   "metadata": {
    "execution": {
     "iopub.execute_input": "2021-09-18T22:00:08.093593Z",
     "iopub.status.busy": "2021-09-18T22:00:08.088182Z",
     "iopub.status.idle": "2021-09-18T22:00:08.107908Z",
     "shell.execute_reply": "2021-09-18T22:00:08.109129Z"
    },
    "papermill": {
     "duration": 0.064156,
     "end_time": "2021-09-18T22:00:08.109523",
     "exception": false,
     "start_time": "2021-09-18T22:00:08.045367",
     "status": "completed"
    },
    "tags": []
   },
   "outputs": [
    {
     "data": {
      "text/html": [
       "<div>\n",
       "<style scoped>\n",
       "    .dataframe tbody tr th:only-of-type {\n",
       "        vertical-align: middle;\n",
       "    }\n",
       "\n",
       "    .dataframe tbody tr th {\n",
       "        vertical-align: top;\n",
       "    }\n",
       "\n",
       "    .dataframe thead th {\n",
       "        text-align: right;\n",
       "    }\n",
       "</style>\n",
       "<table border=\"1\" class=\"dataframe\">\n",
       "  <thead>\n",
       "    <tr style=\"text-align: right;\">\n",
       "      <th></th>\n",
       "      <th>RECORD_TIME</th>\n",
       "    </tr>\n",
       "  </thead>\n",
       "  <tbody>\n",
       "    <tr>\n",
       "      <th>0</th>\n",
       "      <td>2021-09-19 00:00</td>\n",
       "    </tr>\n",
       "    <tr>\n",
       "      <th>1</th>\n",
       "      <td>2021-09-18 23:30</td>\n",
       "    </tr>\n",
       "  </tbody>\n",
       "</table>\n",
       "</div>"
      ],
      "text/plain": [
       "        RECORD_TIME\n",
       "0  2021-09-19 00:00\n",
       "1  2021-09-18 23:30"
      ]
     },
     "execution_count": 3,
     "metadata": {},
     "output_type": "execute_result"
    }
   ],
   "source": [
    "timestamps"
   ]
  },
  {
   "cell_type": "code",
   "execution_count": 4,
   "id": "alternate-victory",
   "metadata": {
    "execution": {
     "iopub.execute_input": "2021-09-18T22:00:08.161821Z",
     "iopub.status.busy": "2021-09-18T22:00:08.159558Z",
     "iopub.status.idle": "2021-09-18T22:00:08.635244Z",
     "shell.execute_reply": "2021-09-18T22:00:08.636477Z"
    },
    "papermill": {
     "duration": 0.506102,
     "end_time": "2021-09-18T22:00:08.636874",
     "exception": false,
     "start_time": "2021-09-18T22:00:08.130772",
     "status": "completed"
    },
    "tags": []
   },
   "outputs": [],
   "source": [
    "df = pd.read_sql(\"select * from EBAY_TOP_BERLIN where record_time in (select distinct record_time from EBAY_TOP_BERLIN order by record_time desc limit 2)\", sqlite3.connect(\"UsedObjects.db\"))"
   ]
  },
  {
   "cell_type": "code",
   "execution_count": 5,
   "id": "popular-active",
   "metadata": {
    "execution": {
     "iopub.execute_input": "2021-09-18T22:00:08.719902Z",
     "iopub.status.busy": "2021-09-18T22:00:08.707590Z",
     "iopub.status.idle": "2021-09-18T22:00:08.735757Z",
     "shell.execute_reply": "2021-09-18T22:00:08.736983Z"
    },
    "papermill": {
     "duration": 0.071503,
     "end_time": "2021-09-18T22:00:08.737384",
     "exception": false,
     "start_time": "2021-09-18T22:00:08.665881",
     "status": "completed"
    },
    "tags": []
   },
   "outputs": [],
   "source": [
    "df_pivot = df.pivot_table(index=\"PRODUCT\", columns = \"RECORD_TIME\", values = \"LISTING_COUNT\")"
   ]
  },
  {
   "cell_type": "code",
   "execution_count": 6,
   "id": "union-huntington",
   "metadata": {
    "execution": {
     "iopub.execute_input": "2021-09-18T22:00:08.793430Z",
     "iopub.status.busy": "2021-09-18T22:00:08.791383Z",
     "iopub.status.idle": "2021-09-18T22:00:08.796472Z",
     "shell.execute_reply": "2021-09-18T22:00:08.797738Z"
    },
    "papermill": {
     "duration": 0.040131,
     "end_time": "2021-09-18T22:00:08.798161",
     "exception": false,
     "start_time": "2021-09-18T22:00:08.758030",
     "status": "completed"
    },
    "tags": []
   },
   "outputs": [],
   "source": [
    "df_pivot.columns = [\"stamp_1\", \"stamp_2\"]\n",
    "df_pivot_diff = df_pivot.diff(axis=1)"
   ]
  },
  {
   "cell_type": "code",
   "execution_count": 7,
   "id": "fifth-motion",
   "metadata": {
    "execution": {
     "iopub.execute_input": "2021-09-18T22:00:08.852763Z",
     "iopub.status.busy": "2021-09-18T22:00:08.850149Z",
     "iopub.status.idle": "2021-09-18T22:00:10.342733Z",
     "shell.execute_reply": "2021-09-18T22:00:10.344225Z"
    },
    "papermill": {
     "duration": 1.526047,
     "end_time": "2021-09-18T22:00:10.344679",
     "exception": false,
     "start_time": "2021-09-18T22:00:08.818632",
     "status": "completed"
    },
    "tags": []
   },
   "outputs": [
    {
     "data": {
      "text/plain": [
       "<AxesSubplot:ylabel='PRODUCT'>"
      ]
     },
     "execution_count": 7,
     "metadata": {},
     "output_type": "execute_result"
    },
    {
     "data": {
      "image/png": "[encoded data removed]",
      "text/plain": [
       "<Figure size 432x288 with 1 Axes>"
      ]
     },
     "metadata": {
      "needs_background": "light"
     },
     "output_type": "display_data"
    }
   ],
   "source": [
    "df_pivot_diff.sort_values(\"stamp_2\", ascending = False)[\"stamp_2\"].head(10).plot.barh()"
   ]
  },
  {
   "cell_type": "code",
   "execution_count": null,
   "id": "extra-executive",
   "metadata": {
    "papermill": {
     "duration": 0.022387,
     "end_time": "2021-09-18T22:00:10.390704",
     "exception": false,
     "start_time": "2021-09-18T22:00:10.368317",
     "status": "completed"
    },
    "tags": []
   },
   "outputs": [],
   "source": []
  }
 ],
 "metadata": {
  "kernelspec": {
   "display_name": "Python 3",
   "language": "python",
   "name": "python3"
  },
  "language_info": {
   "codemirror_mode": {
    "name": "ipython",
    "version": 3
   },
   "file_extension": ".py",
   "mimetype": "text/x-python",
   "name": "python",
   "nbconvert_exporter": "python",
   "pygments_lexer": "ipython3",
   "version": "3.9.5"
  },
  "papermill": {
   "default_parameters": {},
   "duration": 6.629681,
   "end_time": "2021-09-18T22:00:11.031125",
   "environment_variables": {},
   "exception": null,
   "input_path": "eBay_Overview.ipynb",
   "output_path": "eBay_Overview.ipynb",
   "parameters": {},
   "start_time": "2021-09-18T22:00:04.401444",
   "version": "2.3.3"
  }
 },
 "nbformat": 4,
 "nbformat_minor": 5
}