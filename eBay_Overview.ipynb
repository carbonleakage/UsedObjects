{
 "cells": [
  {
   "cell_type": "code",
   "execution_count": 1,
   "id": "reverse-picking",
   "metadata": {
    "execution": {
     "iopub.execute_input": "2021-11-09T00:00:07.274989Z",
     "iopub.status.busy": "2021-11-09T00:00:07.272900Z",
     "iopub.status.idle": "2021-11-09T00:00:08.212594Z",
     "shell.execute_reply": "2021-11-09T00:00:08.214282Z"
    },
    "papermill": {
     "duration": 0.987381,
     "end_time": "2021-11-09T00:00:08.215120",
     "exception": false,
     "start_time": "2021-11-09T00:00:07.227739",
     "status": "completed"
    },
    "tags": []
   },
   "outputs": [],
   "source": [
    "import pandas as pd\n",
    "import sqlite3"
   ]
  },
  {
   "cell_type": "code",
   "execution_count": 2,
   "id": "innovative-syndrome",
   "metadata": {
    "execution": {
     "iopub.execute_input": "2021-11-09T00:00:08.286558Z",
     "iopub.status.busy": "2021-11-09T00:00:08.284226Z",
     "iopub.status.idle": "2021-11-09T00:00:09.031680Z",
     "shell.execute_reply": "2021-11-09T00:00:09.033214Z"
    },
    "papermill": {
     "duration": 0.783309,
     "end_time": "2021-11-09T00:00:09.033735",
     "exception": false,
     "start_time": "2021-11-09T00:00:08.250426",
     "status": "completed"
    },
    "tags": []
   },
   "outputs": [],
   "source": [
    "timestamps = pd.read_sql(\"select distinct record_time from EBAY_TOP_BERLIN order by record_time desc limit 2\", sqlite3.connect(\"UsedObjects.db\"))"
   ]
  },
  {
   "cell_type": "code",
   "execution_count": 3,
   "id": "periodic-identification",
   "metadata": {
    "execution": {
     "iopub.execute_input": "2021-11-09T00:00:09.105276Z",
     "iopub.status.busy": "2021-11-09T00:00:09.102660Z",
     "iopub.status.idle": "2021-11-09T00:00:09.125175Z",
     "shell.execute_reply": "2021-11-09T00:00:09.126623Z"
    },
    "papermill": {
     "duration": 0.071701,
     "end_time": "2021-11-09T00:00:09.127114",
     "exception": false,
     "start_time": "2021-11-09T00:00:09.055413",
     "status": "completed"
    },
    "tags": []
   },
   "outputs": [
    {
     "data": {
      "text/html": [
       "<div>\n",
       "<style scoped>\n",
       "    .dataframe tbody tr th:only-of-type {\n",
       "        vertical-align: middle;\n",
       "    }\n",
       "\n",
       "    .dataframe tbody tr th {\n",
       "        vertical-align: top;\n",
       "    }\n",
       "\n",
       "    .dataframe thead th {\n",
       "        text-align: right;\n",
       "    }\n",
       "</style>\n",
       "<table border=\"1\" class=\"dataframe\">\n",
       "  <thead>\n",
       "    <tr style=\"text-align: right;\">\n",
       "      <th></th>\n",
       "      <th>RECORD_TIME</th>\n",
       "    </tr>\n",
       "  </thead>\n",
       "  <tbody>\n",
       "    <tr>\n",
       "      <th>0</th>\n",
       "      <td>2021-11-09 01:00</td>\n",
       "    </tr>\n",
       "    <tr>\n",
       "      <th>1</th>\n",
       "      <td>2021-11-09 00:30</td>\n",
       "    </tr>\n",
       "  </tbody>\n",
       "</table>\n",
       "</div>"
      ],
      "text/plain": [
       "        RECORD_TIME\n",
       "0  2021-11-09 01:00\n",
       "1  2021-11-09 00:30"
      ]
     },
     "execution_count": 3,
     "metadata": {},
     "output_type": "execute_result"
    }
   ],
   "source": [
    "timestamps"
   ]
  },
  {
   "cell_type": "code",
   "execution_count": 4,
   "id": "alternate-victory",
   "metadata": {
    "execution": {
     "iopub.execute_input": "2021-11-09T00:00:09.181039Z",
     "iopub.status.busy": "2021-11-09T00:00:09.178938Z",
     "iopub.status.idle": "2021-11-09T00:00:10.258568Z",
     "shell.execute_reply": "2021-11-09T00:00:10.260033Z"
    },
    "papermill": {
     "duration": 1.112507,
     "end_time": "2021-11-09T00:00:10.260536",
     "exception": false,
     "start_time": "2021-11-09T00:00:09.148029",
     "status": "completed"
    },
    "tags": []
   },
   "outputs": [],
   "source": [
    "df = pd.read_sql(\"select * from EBAY_TOP_BERLIN where record_time in (select distinct record_time from EBAY_TOP_BERLIN order by record_time desc limit 2)\", sqlite3.connect(\"UsedObjects.db\"))"
   ]
  },
  {
   "cell_type": "code",
   "execution_count": 5,
   "id": "popular-active",
   "metadata": {
    "execution": {
     "iopub.execute_input": "2021-11-09T00:00:10.341472Z",
     "iopub.status.busy": "2021-11-09T00:00:10.325510Z",
     "iopub.status.idle": "2021-11-09T00:00:10.360859Z",
     "shell.execute_reply": "2021-11-09T00:00:10.362287Z"
    },
    "papermill": {
     "duration": 0.080351,
     "end_time": "2021-11-09T00:00:10.362793",
     "exception": false,
     "start_time": "2021-11-09T00:00:10.282442",
     "status": "completed"
    },
    "tags": []
   },
   "outputs": [],
   "source": [
    "df_pivot = df.pivot_table(index=\"PRODUCT\", columns = \"RECORD_TIME\", values = \"LISTING_COUNT\")"
   ]
  },
  {
   "cell_type": "code",
   "execution_count": 6,
   "id": "union-huntington",
   "metadata": {
    "execution": {
     "iopub.execute_input": "2021-11-09T00:00:10.426215Z",
     "iopub.status.busy": "2021-11-09T00:00:10.423841Z",
     "iopub.status.idle": "2021-11-09T00:00:10.431329Z",
     "shell.execute_reply": "2021-11-09T00:00:10.429805Z"
    },
    "papermill": {
     "duration": 0.046542,
     "end_time": "2021-11-09T00:00:10.431759",
     "exception": false,
     "start_time": "2021-11-09T00:00:10.385217",
     "status": "completed"
    },
    "tags": []
   },
   "outputs": [],
   "source": [
    "df_pivot.columns = [\"stamp_1\", \"stamp_2\"]\n",
    "df_pivot_diff = df_pivot.diff(axis=1)"
   ]
  },
  {
   "cell_type": "code",
   "execution_count": 7,
   "id": "fifth-motion",
   "metadata": {
    "execution": {
     "iopub.execute_input": "2021-11-09T00:00:10.495279Z",
     "iopub.status.busy": "2021-11-09T00:00:10.492817Z",
     "iopub.status.idle": "2021-11-09T00:00:12.254233Z",
     "shell.execute_reply": "2021-11-09T00:00:12.255712Z"
    },
    "papermill": {
     "duration": 1.801114,
     "end_time": "2021-11-09T00:00:12.256182",
     "exception": false,
     "start_time": "2021-11-09T00:00:10.455068",
     "status": "completed"
    },
    "tags": []
   },
   "outputs": [
    {
     "data": {
      "text/plain": [
       "<AxesSubplot:ylabel='PRODUCT'>"
      ]
     },
     "execution_count": 7,
     "metadata": {},
     "output_type": "execute_result"
    },
    {
     "data": {
      "image/png": "[encoded data removed]",
      "text/plain": [
       "<Figure size 432x288 with 1 Axes>"
      ]
     },
     "metadata": {
      "needs_background": "light"
     },
     "output_type": "display_data"
    }
   ],
   "source": [
    "df_pivot_diff.sort_values(\"stamp_2\", ascending = False)[\"stamp_2\"].head(10).plot.barh()"
   ]
  },
  {
   "cell_type": "code",
   "execution_count": null,
   "id": "extra-executive",
   "metadata": {
    "papermill": {
     "duration": 0.023727,
     "end_time": "2021-11-09T00:00:12.304168",
     "exception": false,
     "start_time": "2021-11-09T00:00:12.280441",
     "status": "completed"
    },
    "tags": []
   },
   "outputs": [],
   "source": []
  }
 ],
 "metadata": {
  "kernelspec": {
   "display_name": "Python 3",
   "language": "python",
   "name": "python3"
  },
  "language_info": {
   "codemirror_mode": {
    "name": "ipython",
    "version": 3
   },
   "file_extension": ".py",
   "mimetype": "text/x-python",
   "name": "python",
   "nbconvert_exporter": "python",
   "pygments_lexer": "ipython3",
   "version": "3.9.5"
  },
  "papermill": {
   "default_parameters": {},
   "duration": 8.786197,
   "end_time": "2021-11-09T00:00:13.255964",
   "environment_variables": {},
   "exception": null,
   "input_path": "eBay_Overview.ipynb",
   "output_path": "eBay_Overview.ipynb",
   "parameters": {},
   "start_time": "2021-11-09T00:00:04.469767",
   "version": "2.3.3"
  }
 },
 "nbformat": 4,
 "nbformat_minor": 5
}