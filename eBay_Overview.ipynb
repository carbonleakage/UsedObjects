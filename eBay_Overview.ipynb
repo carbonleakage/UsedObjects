{
 "cells": [
  {
   "cell_type": "code",
   "execution_count": 1,
   "id": "reverse-picking",
   "metadata": {
    "execution": {
     "iopub.execute_input": "2021-08-09T14:30:04.415522Z",
     "iopub.status.busy": "2021-08-09T14:30:04.414753Z",
     "iopub.status.idle": "2021-08-09T14:30:05.418770Z",
     "shell.execute_reply": "2021-08-09T14:30:05.419560Z"
    },
    "papermill": {
     "duration": 1.024776,
     "end_time": "2021-08-09T14:30:05.419888",
     "exception": false,
     "start_time": "2021-08-09T14:30:04.395112",
     "status": "completed"
    },
    "tags": []
   },
   "outputs": [],
   "source": [
    "import pandas as pd\n",
    "import sqlite3"
   ]
  },
  {
   "cell_type": "code",
   "execution_count": 2,
   "id": "innovative-syndrome",
   "metadata": {
    "execution": {
     "iopub.execute_input": "2021-08-09T14:30:05.445437Z",
     "iopub.status.busy": "2021-08-09T14:30:05.444603Z",
     "iopub.status.idle": "2021-08-09T14:30:05.760176Z",
     "shell.execute_reply": "2021-08-09T14:30:05.761069Z"
    },
    "papermill": {
     "duration": 0.331196,
     "end_time": "2021-08-09T14:30:05.761335",
     "exception": false,
     "start_time": "2021-08-09T14:30:05.430139",
     "status": "completed"
    },
    "tags": []
   },
   "outputs": [],
   "source": [
    "timestamps = pd.read_sql(\"select distinct record_time from EBAY_TOP_BERLIN order by record_time desc limit 2\", sqlite3.connect(\"UsedObjects.db\"))"
   ]
  },
  {
   "cell_type": "code",
   "execution_count": 3,
   "id": "periodic-identification",
   "metadata": {
    "execution": {
     "iopub.execute_input": "2021-08-09T14:30:05.789742Z",
     "iopub.status.busy": "2021-08-09T14:30:05.788969Z",
     "iopub.status.idle": "2021-08-09T14:30:05.849339Z",
     "shell.execute_reply": "2021-08-09T14:30:05.848681Z"
    },
    "papermill": {
     "duration": 0.07871,
     "end_time": "2021-08-09T14:30:05.849503",
     "exception": false,
     "start_time": "2021-08-09T14:30:05.770793",
     "status": "completed"
    },
    "tags": []
   },
   "outputs": [
    {
     "data": {
      "text/html": [
       "<div>\n",
       "<style scoped>\n",
       "    .dataframe tbody tr th:only-of-type {\n",
       "        vertical-align: middle;\n",
       "    }\n",
       "\n",
       "    .dataframe tbody tr th {\n",
       "        vertical-align: top;\n",
       "    }\n",
       "\n",
       "    .dataframe thead th {\n",
       "        text-align: right;\n",
       "    }\n",
       "</style>\n",
       "<table border=\"1\" class=\"dataframe\">\n",
       "  <thead>\n",
       "    <tr style=\"text-align: right;\">\n",
       "      <th></th>\n",
       "      <th>RECORD_TIME</th>\n",
       "    </tr>\n",
       "  </thead>\n",
       "  <tbody>\n",
       "    <tr>\n",
       "      <th>0</th>\n",
       "      <td>2021-08-09 16:30</td>\n",
       "    </tr>\n",
       "    <tr>\n",
       "      <th>1</th>\n",
       "      <td>2021-08-09 16:00</td>\n",
       "    </tr>\n",
       "  </tbody>\n",
       "</table>\n",
       "</div>"
      ],
      "text/plain": [
       "        RECORD_TIME\n",
       "0  2021-08-09 16:30\n",
       "1  2021-08-09 16:00"
      ]
     },
     "execution_count": 3,
     "metadata": {},
     "output_type": "execute_result"
    }
   ],
   "source": [
    "timestamps"
   ]
  },
  {
   "cell_type": "code",
   "execution_count": 4,
   "id": "alternate-victory",
   "metadata": {
    "execution": {
     "iopub.execute_input": "2021-08-09T14:30:05.876644Z",
     "iopub.status.busy": "2021-08-09T14:30:05.875875Z",
     "iopub.status.idle": "2021-08-09T14:30:05.889485Z",
     "shell.execute_reply": "2021-08-09T14:30:05.890060Z"
    },
    "papermill": {
     "duration": 0.03077,
     "end_time": "2021-08-09T14:30:05.890253",
     "exception": false,
     "start_time": "2021-08-09T14:30:05.859483",
     "status": "completed"
    },
    "tags": []
   },
   "outputs": [],
   "source": [
    "df = pd.read_sql(\"select * from EBAY_TOP_BERLIN where record_time in (select distinct record_time from EBAY_TOP_BERLIN order by record_time desc limit 2)\", sqlite3.connect(\"UsedObjects.db\"))"
   ]
  },
  {
   "cell_type": "code",
   "execution_count": 5,
   "id": "popular-active",
   "metadata": {
    "execution": {
     "iopub.execute_input": "2021-08-09T14:30:05.915240Z",
     "iopub.status.busy": "2021-08-09T14:30:05.914451Z",
     "iopub.status.idle": "2021-08-09T14:30:05.966860Z",
     "shell.execute_reply": "2021-08-09T14:30:05.967449Z"
    },
    "papermill": {
     "duration": 0.068509,
     "end_time": "2021-08-09T14:30:05.967649",
     "exception": false,
     "start_time": "2021-08-09T14:30:05.899140",
     "status": "completed"
    },
    "tags": []
   },
   "outputs": [],
   "source": [
    "df_pivot = df.pivot_table(index=\"PRODUCT\", columns = \"RECORD_TIME\", values = \"LISTING_COUNT\")"
   ]
  },
  {
   "cell_type": "code",
   "execution_count": 6,
   "id": "union-huntington",
   "metadata": {
    "execution": {
     "iopub.execute_input": "2021-08-09T14:30:05.998210Z",
     "iopub.status.busy": "2021-08-09T14:30:05.997468Z",
     "iopub.status.idle": "2021-08-09T14:30:06.000180Z",
     "shell.execute_reply": "2021-08-09T14:30:06.000712Z"
    },
    "papermill": {
     "duration": 0.024688,
     "end_time": "2021-08-09T14:30:06.000895",
     "exception": false,
     "start_time": "2021-08-09T14:30:05.976207",
     "status": "completed"
    },
    "tags": []
   },
   "outputs": [],
   "source": [
    "df_pivot.columns = [\"stamp_1\", \"stamp_2\"]\n",
    "df_pivot_diff = df_pivot.diff(axis=1)"
   ]
  },
  {
   "cell_type": "code",
   "execution_count": 7,
   "id": "fifth-motion",
   "metadata": {
    "execution": {
     "iopub.execute_input": "2021-08-09T14:30:06.024208Z",
     "iopub.status.busy": "2021-08-09T14:30:06.023449Z",
     "iopub.status.idle": "2021-08-09T14:30:06.812013Z",
     "shell.execute_reply": "2021-08-09T14:30:06.811396Z"
    },
    "papermill": {
     "duration": 0.802323,
     "end_time": "2021-08-09T14:30:06.812177",
     "exception": false,
     "start_time": "2021-08-09T14:30:06.009854",
     "status": "completed"
    },
    "tags": []
   },
   "outputs": [
    {
     "data": {
      "text/plain": [
       "<AxesSubplot:ylabel='PRODUCT'>"
      ]
     },
     "execution_count": 7,
     "metadata": {},
     "output_type": "execute_result"
    },
    {
     "data": {
      "image/png": "[encoded data removed]",
      "text/plain": [
       "<Figure size 432x288 with 1 Axes>"
      ]
     },
     "metadata": {
      "needs_background": "light"
     },
     "output_type": "display_data"
    }
   ],
   "source": [
    "df_pivot_diff.sort_values(\"stamp_2\", ascending = False)[\"stamp_2\"].head(10).plot.barh()"
   ]
  },
  {
   "cell_type": "code",
   "execution_count": null,
   "id": "extra-executive",
   "metadata": {
    "papermill": {
     "duration": 0.009748,
     "end_time": "2021-08-09T14:30:06.831604",
     "exception": false,
     "start_time": "2021-08-09T14:30:06.821856",
     "status": "completed"
    },
    "tags": []
   },
   "outputs": [],
   "source": []
  }
 ],
 "metadata": {
  "kernelspec": {
   "display_name": "Python 3",
   "language": "python",
   "name": "python3"
  },
  "language_info": {
   "codemirror_mode": {
    "name": "ipython",
    "version": 3
   },
   "file_extension": ".py",
   "mimetype": "text/x-python",
   "name": "python",
   "nbconvert_exporter": "python",
   "pygments_lexer": "ipython3",
   "version": "3.8.8"
  },
  "papermill": {
   "default_parameters": {},
   "duration": 4.785647,
   "end_time": "2021-08-09T14:30:07.474116",
   "environment_variables": {},
   "exception": null,
   "input_path": "/Users/saravananshanmugam/Carbonleakage_Git/UsedObjects/eBay_Overview.ipynb",
   "output_path": "/Users/saravananshanmugam/Carbonleakage_Git/UsedObjects/eBay_Overview.ipynb",
   "parameters": {},
   "start_time": "2021-08-09T14:30:02.688469",
   "version": "2.3.3"
  }
 },
 "nbformat": 4,
 "nbformat_minor": 5
}