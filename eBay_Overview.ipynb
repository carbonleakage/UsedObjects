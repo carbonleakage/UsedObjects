{
 "cells": [
  {
   "cell_type": "code",
   "execution_count": 1,
   "id": "reverse-picking",
   "metadata": {
    "execution": {
     "iopub.execute_input": "2021-08-09T04:00:05.021497Z",
     "iopub.status.busy": "2021-08-09T04:00:05.019955Z",
     "iopub.status.idle": "2021-08-09T04:00:05.723638Z",
     "shell.execute_reply": "2021-08-09T04:00:05.722467Z"
    },
    "papermill": {
     "duration": 0.733498,
     "end_time": "2021-08-09T04:00:05.723898",
     "exception": false,
     "start_time": "2021-08-09T04:00:04.990400",
     "status": "completed"
    },
    "tags": []
   },
   "outputs": [],
   "source": [
    "import pandas as pd\n",
    "import sqlite3"
   ]
  },
  {
   "cell_type": "code",
   "execution_count": 2,
   "id": "innovative-syndrome",
   "metadata": {
    "execution": {
     "iopub.execute_input": "2021-08-09T04:00:05.749746Z",
     "iopub.status.busy": "2021-08-09T04:00:05.748457Z",
     "iopub.status.idle": "2021-08-09T04:00:05.954920Z",
     "shell.execute_reply": "2021-08-09T04:00:05.955497Z"
    },
    "papermill": {
     "duration": 0.221411,
     "end_time": "2021-08-09T04:00:05.955690",
     "exception": false,
     "start_time": "2021-08-09T04:00:05.734279",
     "status": "completed"
    },
    "tags": []
   },
   "outputs": [],
   "source": [
    "timestamps = pd.read_sql(\"select distinct record_time from EBAY_TOP_BERLIN order by record_time desc limit 2\", sqlite3.connect(\"UsedObjects.db\"))"
   ]
  },
  {
   "cell_type": "code",
   "execution_count": 3,
   "id": "periodic-identification",
   "metadata": {
    "execution": {
     "iopub.execute_input": "2021-08-09T04:00:05.990011Z",
     "iopub.status.busy": "2021-08-09T04:00:05.989240Z",
     "iopub.status.idle": "2021-08-09T04:00:06.000928Z",
     "shell.execute_reply": "2021-08-09T04:00:06.001508Z"
    },
    "papermill": {
     "duration": 0.037845,
     "end_time": "2021-08-09T04:00:06.001689",
     "exception": false,
     "start_time": "2021-08-09T04:00:05.963844",
     "status": "completed"
    },
    "tags": []
   },
   "outputs": [
    {
     "data": {
      "text/html": [
       "<div>\n",
       "<style scoped>\n",
       "    .dataframe tbody tr th:only-of-type {\n",
       "        vertical-align: middle;\n",
       "    }\n",
       "\n",
       "    .dataframe tbody tr th {\n",
       "        vertical-align: top;\n",
       "    }\n",
       "\n",
       "    .dataframe thead th {\n",
       "        text-align: right;\n",
       "    }\n",
       "</style>\n",
       "<table border=\"1\" class=\"dataframe\">\n",
       "  <thead>\n",
       "    <tr style=\"text-align: right;\">\n",
       "      <th></th>\n",
       "      <th>RECORD_TIME</th>\n",
       "    </tr>\n",
       "  </thead>\n",
       "  <tbody>\n",
       "    <tr>\n",
       "      <th>0</th>\n",
       "      <td>2021-08-09 06:00</td>\n",
       "    </tr>\n",
       "    <tr>\n",
       "      <th>1</th>\n",
       "      <td>2021-08-09 05:30</td>\n",
       "    </tr>\n",
       "  </tbody>\n",
       "</table>\n",
       "</div>"
      ],
      "text/plain": [
       "        RECORD_TIME\n",
       "0  2021-08-09 06:00\n",
       "1  2021-08-09 05:30"
      ]
     },
     "execution_count": 3,
     "metadata": {},
     "output_type": "execute_result"
    }
   ],
   "source": [
    "timestamps"
   ]
  },
  {
   "cell_type": "code",
   "execution_count": 4,
   "id": "alternate-victory",
   "metadata": {
    "execution": {
     "iopub.execute_input": "2021-08-09T04:00:06.028594Z",
     "iopub.status.busy": "2021-08-09T04:00:06.027835Z",
     "iopub.status.idle": "2021-08-09T04:00:06.035897Z",
     "shell.execute_reply": "2021-08-09T04:00:06.036631Z"
    },
    "papermill": {
     "duration": 0.023844,
     "end_time": "2021-08-09T04:00:06.036858",
     "exception": false,
     "start_time": "2021-08-09T04:00:06.013014",
     "status": "completed"
    },
    "tags": []
   },
   "outputs": [],
   "source": [
    "df = pd.read_sql(\"select * from EBAY_TOP_BERLIN where record_time in (select distinct record_time from EBAY_TOP_BERLIN order by record_time desc limit 2)\", sqlite3.connect(\"UsedObjects.db\"))"
   ]
  },
  {
   "cell_type": "code",
   "execution_count": 5,
   "id": "popular-active",
   "metadata": {
    "execution": {
     "iopub.execute_input": "2021-08-09T04:00:06.066467Z",
     "iopub.status.busy": "2021-08-09T04:00:06.065122Z",
     "iopub.status.idle": "2021-08-09T04:00:06.085203Z",
     "shell.execute_reply": "2021-08-09T04:00:06.085778Z"
    },
    "papermill": {
     "duration": 0.035466,
     "end_time": "2021-08-09T04:00:06.085971",
     "exception": false,
     "start_time": "2021-08-09T04:00:06.050505",
     "status": "completed"
    },
    "tags": []
   },
   "outputs": [],
   "source": [
    "df_pivot = df.pivot_table(index=\"PRODUCT\", columns = \"RECORD_TIME\", values = \"LISTING_COUNT\")"
   ]
  },
  {
   "cell_type": "code",
   "execution_count": 6,
   "id": "union-huntington",
   "metadata": {
    "execution": {
     "iopub.execute_input": "2021-08-09T04:00:06.116113Z",
     "iopub.status.busy": "2021-08-09T04:00:06.115423Z",
     "iopub.status.idle": "2021-08-09T04:00:06.126117Z",
     "shell.execute_reply": "2021-08-09T04:00:06.125010Z"
    },
    "papermill": {
     "duration": 0.027115,
     "end_time": "2021-08-09T04:00:06.126416",
     "exception": false,
     "start_time": "2021-08-09T04:00:06.099301",
     "status": "completed"
    },
    "tags": []
   },
   "outputs": [],
   "source": [
    "df_pivot.columns = [\"stamp_1\", \"stamp_2\"]\n",
    "df_pivot_diff = df_pivot.diff(axis=1)"
   ]
  },
  {
   "cell_type": "code",
   "execution_count": 7,
   "id": "fifth-motion",
   "metadata": {
    "execution": {
     "iopub.execute_input": "2021-08-09T04:00:06.157781Z",
     "iopub.status.busy": "2021-08-09T04:00:06.157021Z",
     "iopub.status.idle": "2021-08-09T04:00:06.850652Z",
     "shell.execute_reply": "2021-08-09T04:00:06.851319Z"
    },
    "papermill": {
     "duration": 0.714748,
     "end_time": "2021-08-09T04:00:06.851538",
     "exception": false,
     "start_time": "2021-08-09T04:00:06.136790",
     "status": "completed"
    },
    "tags": []
   },
   "outputs": [
    {
     "data": {
      "text/plain": [
       "<AxesSubplot:ylabel='PRODUCT'>"
      ]
     },
     "execution_count": 7,
     "metadata": {},
     "output_type": "execute_result"
    },
    {
     "data": {
      "image/png": "[encoded data removed]",
      "text/plain": [
       "<Figure size 432x288 with 1 Axes>"
      ]
     },
     "metadata": {
      "needs_background": "light"
     },
     "output_type": "display_data"
    }
   ],
   "source": [
    "df_pivot_diff.sort_values(\"stamp_2\", ascending = False)[\"stamp_2\"].head(10).plot.barh()"
   ]
  },
  {
   "cell_type": "code",
   "execution_count": null,
   "id": "extra-executive",
   "metadata": {
    "papermill": {
     "duration": 0.009464,
     "end_time": "2021-08-09T04:00:06.870870",
     "exception": false,
     "start_time": "2021-08-09T04:00:06.861406",
     "status": "completed"
    },
    "tags": []
   },
   "outputs": [],
   "source": []
  }
 ],
 "metadata": {
  "kernelspec": {
   "display_name": "Python 3",
   "language": "python",
   "name": "python3"
  },
  "language_info": {
   "codemirror_mode": {
    "name": "ipython",
    "version": 3
   },
   "file_extension": ".py",
   "mimetype": "text/x-python",
   "name": "python",
   "nbconvert_exporter": "python",
   "pygments_lexer": "ipython3",
   "version": "3.8.8"
  },
  "papermill": {
   "default_parameters": {},
   "duration": 4.503309,
   "end_time": "2021-08-09T04:00:07.629849",
   "environment_variables": {},
   "exception": null,
   "input_path": "/Users/saravananshanmugam/Carbonleakage_Git/UsedObjects/eBay_Overview.ipynb",
   "output_path": "/Users/saravananshanmugam/Carbonleakage_Git/UsedObjects/eBay_Overview.ipynb",
   "parameters": {},
   "start_time": "2021-08-09T04:00:03.126540",
   "version": "2.3.3"
  }
 },
 "nbformat": 4,
 "nbformat_minor": 5
}