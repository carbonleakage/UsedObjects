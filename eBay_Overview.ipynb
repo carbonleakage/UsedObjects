{
 "cells": [
  {
   "cell_type": "code",
   "execution_count": 1,
   "id": "reverse-picking",
   "metadata": {
    "execution": {
     "iopub.execute_input": "2021-11-19T23:00:07.725736Z",
     "iopub.status.busy": "2021-11-19T23:00:07.723433Z",
     "iopub.status.idle": "2021-11-19T23:00:08.682379Z",
     "shell.execute_reply": "2021-11-19T23:00:08.683888Z"
    },
    "papermill": {
     "duration": 1.006249,
     "end_time": "2021-11-19T23:00:08.684609",
     "exception": false,
     "start_time": "2021-11-19T23:00:07.678360",
     "status": "completed"
    },
    "tags": []
   },
   "outputs": [],
   "source": [
    "import pandas as pd\n",
    "import sqlite3"
   ]
  },
  {
   "cell_type": "code",
   "execution_count": 2,
   "id": "innovative-syndrome",
   "metadata": {
    "execution": {
     "iopub.execute_input": "2021-11-19T23:00:08.751654Z",
     "iopub.status.busy": "2021-11-19T23:00:08.749453Z",
     "iopub.status.idle": "2021-11-19T23:00:09.622028Z",
     "shell.execute_reply": "2021-11-19T23:00:09.623466Z"
    },
    "papermill": {
     "duration": 0.906505,
     "end_time": "2021-11-19T23:00:09.623970",
     "exception": false,
     "start_time": "2021-11-19T23:00:08.717465",
     "status": "completed"
    },
    "tags": []
   },
   "outputs": [],
   "source": [
    "timestamps = pd.read_sql(\"select distinct record_time from EBAY_TOP_BERLIN order by record_time desc limit 2\", sqlite3.connect(\"UsedObjects.db\"))"
   ]
  },
  {
   "cell_type": "code",
   "execution_count": 3,
   "id": "periodic-identification",
   "metadata": {
    "execution": {
     "iopub.execute_input": "2021-11-19T23:00:09.719253Z",
     "iopub.status.busy": "2021-11-19T23:00:09.716796Z",
     "iopub.status.idle": "2021-11-19T23:00:09.738373Z",
     "shell.execute_reply": "2021-11-19T23:00:09.739730Z"
    },
    "papermill": {
     "duration": 0.074795,
     "end_time": "2021-11-19T23:00:09.740200",
     "exception": false,
     "start_time": "2021-11-19T23:00:09.665405",
     "status": "completed"
    },
    "tags": []
   },
   "outputs": [
    {
     "data": {
      "text/html": [
       "<div>\n",
       "<style scoped>\n",
       "    .dataframe tbody tr th:only-of-type {\n",
       "        vertical-align: middle;\n",
       "    }\n",
       "\n",
       "    .dataframe tbody tr th {\n",
       "        vertical-align: top;\n",
       "    }\n",
       "\n",
       "    .dataframe thead th {\n",
       "        text-align: right;\n",
       "    }\n",
       "</style>\n",
       "<table border=\"1\" class=\"dataframe\">\n",
       "  <thead>\n",
       "    <tr style=\"text-align: right;\">\n",
       "      <th></th>\n",
       "      <th>RECORD_TIME</th>\n",
       "    </tr>\n",
       "  </thead>\n",
       "  <tbody>\n",
       "    <tr>\n",
       "      <th>0</th>\n",
       "      <td>2021-11-20 00:00</td>\n",
       "    </tr>\n",
       "    <tr>\n",
       "      <th>1</th>\n",
       "      <td>2021-11-19 23:30</td>\n",
       "    </tr>\n",
       "  </tbody>\n",
       "</table>\n",
       "</div>"
      ],
      "text/plain": [
       "        RECORD_TIME\n",
       "0  2021-11-20 00:00\n",
       "1  2021-11-19 23:30"
      ]
     },
     "execution_count": 3,
     "metadata": {},
     "output_type": "execute_result"
    }
   ],
   "source": [
    "timestamps"
   ]
  },
  {
   "cell_type": "code",
   "execution_count": 4,
   "id": "alternate-victory",
   "metadata": {
    "execution": {
     "iopub.execute_input": "2021-11-19T23:00:09.796580Z",
     "iopub.status.busy": "2021-11-19T23:00:09.794345Z",
     "iopub.status.idle": "2021-11-19T23:00:11.059684Z",
     "shell.execute_reply": "2021-11-19T23:00:11.061248Z"
    },
    "papermill": {
     "duration": 1.300189,
     "end_time": "2021-11-19T23:00:11.061723",
     "exception": false,
     "start_time": "2021-11-19T23:00:09.761534",
     "status": "completed"
    },
    "tags": []
   },
   "outputs": [],
   "source": [
    "df = pd.read_sql(\"select * from EBAY_TOP_BERLIN where record_time in (select distinct record_time from EBAY_TOP_BERLIN order by record_time desc limit 2)\", sqlite3.connect(\"UsedObjects.db\"))"
   ]
  },
  {
   "cell_type": "code",
   "execution_count": 5,
   "id": "popular-active",
   "metadata": {
    "execution": {
     "iopub.execute_input": "2021-11-19T23:00:11.136504Z",
     "iopub.status.busy": "2021-11-19T23:00:11.123272Z",
     "iopub.status.idle": "2021-11-19T23:00:11.153992Z",
     "shell.execute_reply": "2021-11-19T23:00:11.155478Z"
    },
    "papermill": {
     "duration": 0.073729,
     "end_time": "2021-11-19T23:00:11.155967",
     "exception": false,
     "start_time": "2021-11-19T23:00:11.082238",
     "status": "completed"
    },
    "tags": []
   },
   "outputs": [],
   "source": [
    "df_pivot = df.pivot_table(index=\"PRODUCT\", columns = \"RECORD_TIME\", values = \"LISTING_COUNT\")"
   ]
  },
  {
   "cell_type": "code",
   "execution_count": 6,
   "id": "union-huntington",
   "metadata": {
    "execution": {
     "iopub.execute_input": "2021-11-19T23:00:11.232018Z",
     "iopub.status.busy": "2021-11-19T23:00:11.225752Z",
     "iopub.status.idle": "2021-11-19T23:00:11.241202Z",
     "shell.execute_reply": "2021-11-19T23:00:11.243787Z"
    },
    "papermill": {
     "duration": 0.067355,
     "end_time": "2021-11-19T23:00:11.244578",
     "exception": false,
     "start_time": "2021-11-19T23:00:11.177223",
     "status": "completed"
    },
    "tags": []
   },
   "outputs": [],
   "source": [
    "df_pivot.columns = [\"stamp_1\", \"stamp_2\"]\n",
    "df_pivot_diff = df_pivot.diff(axis=1)"
   ]
  },
  {
   "cell_type": "code",
   "execution_count": 7,
   "id": "fifth-motion",
   "metadata": {
    "execution": {
     "iopub.execute_input": "2021-11-19T23:00:11.314710Z",
     "iopub.status.busy": "2021-11-19T23:00:11.312087Z",
     "iopub.status.idle": "2021-11-19T23:00:13.139805Z",
     "shell.execute_reply": "2021-11-19T23:00:13.141799Z"
    },
    "papermill": {
     "duration": 1.866905,
     "end_time": "2021-11-19T23:00:13.142401",
     "exception": false,
     "start_time": "2021-11-19T23:00:11.275496",
     "status": "completed"
    },
    "tags": []
   },
   "outputs": [
    {
     "data": {
      "text/plain": [
       "<AxesSubplot:ylabel='PRODUCT'>"
      ]
     },
     "execution_count": 7,
     "metadata": {},
     "output_type": "execute_result"
    },
    {
     "data": {
      "image/png": "[encoded data removed]",
      "text/plain": [
       "<Figure size 432x288 with 1 Axes>"
      ]
     },
     "metadata": {
      "needs_background": "light"
     },
     "output_type": "display_data"
    }
   ],
   "source": [
    "df_pivot_diff.sort_values(\"stamp_2\", ascending = False)[\"stamp_2\"].head(10).plot.barh()"
   ]
  },
  {
   "cell_type": "code",
   "execution_count": null,
   "id": "extra-executive",
   "metadata": {
    "papermill": {
     "duration": 0.036011,
     "end_time": "2021-11-19T23:00:13.206607",
     "exception": false,
     "start_time": "2021-11-19T23:00:13.170596",
     "status": "completed"
    },
    "tags": []
   },
   "outputs": [],
   "source": []
  }
 ],
 "metadata": {
  "kernelspec": {
   "display_name": "Python 3",
   "language": "python",
   "name": "python3"
  },
  "language_info": {
   "codemirror_mode": {
    "name": "ipython",
    "version": 3
   },
   "file_extension": ".py",
   "mimetype": "text/x-python",
   "name": "python",
   "nbconvert_exporter": "python",
   "pygments_lexer": "ipython3",
   "version": "3.9.5"
  },
  "papermill": {
   "default_parameters": {},
   "duration": 9.961501,
   "end_time": "2021-11-19T23:00:14.867305",
   "environment_variables": {},
   "exception": null,
   "input_path": "eBay_Overview.ipynb",
   "output_path": "eBay_Overview.ipynb",
   "parameters": {},
   "start_time": "2021-11-19T23:00:04.905804",
   "version": "2.3.3"
  }
 },
 "nbformat": 4,
 "nbformat_minor": 5
}