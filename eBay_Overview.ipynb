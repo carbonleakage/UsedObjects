{
 "cells": [
  {
   "cell_type": "code",
   "execution_count": 1,
   "id": "reverse-picking",
   "metadata": {
    "execution": {
     "iopub.execute_input": "2021-09-30T12:30:07.226471Z",
     "iopub.status.busy": "2021-09-30T12:30:07.224471Z",
     "iopub.status.idle": "2021-09-30T12:30:08.032910Z",
     "shell.execute_reply": "2021-09-30T12:30:08.034166Z"
    },
    "papermill": {
     "duration": 0.861126,
     "end_time": "2021-09-30T12:30:08.034779",
     "exception": false,
     "start_time": "2021-09-30T12:30:07.173653",
     "status": "completed"
    },
    "tags": []
   },
   "outputs": [],
   "source": [
    "import pandas as pd\n",
    "import sqlite3"
   ]
  },
  {
   "cell_type": "code",
   "execution_count": 2,
   "id": "innovative-syndrome",
   "metadata": {
    "execution": {
     "iopub.execute_input": "2021-09-30T12:30:08.086209Z",
     "iopub.status.busy": "2021-09-30T12:30:08.084351Z",
     "iopub.status.idle": "2021-09-30T12:30:08.511081Z",
     "shell.execute_reply": "2021-09-30T12:30:08.512369Z"
    },
    "papermill": {
     "duration": 0.456311,
     "end_time": "2021-09-30T12:30:08.512779",
     "exception": false,
     "start_time": "2021-09-30T12:30:08.056468",
     "status": "completed"
    },
    "tags": []
   },
   "outputs": [],
   "source": [
    "timestamps = pd.read_sql(\"select distinct record_time from EBAY_TOP_BERLIN order by record_time desc limit 2\", sqlite3.connect(\"UsedObjects.db\"))"
   ]
  },
  {
   "cell_type": "code",
   "execution_count": 3,
   "id": "periodic-identification",
   "metadata": {
    "execution": {
     "iopub.execute_input": "2021-09-30T12:30:08.578001Z",
     "iopub.status.busy": "2021-09-30T12:30:08.575966Z",
     "iopub.status.idle": "2021-09-30T12:30:08.595879Z",
     "shell.execute_reply": "2021-09-30T12:30:08.597224Z"
    },
    "papermill": {
     "duration": 0.064436,
     "end_time": "2021-09-30T12:30:08.597636",
     "exception": false,
     "start_time": "2021-09-30T12:30:08.533200",
     "status": "completed"
    },
    "tags": []
   },
   "outputs": [
    {
     "data": {
      "text/html": [
       "<div>\n",
       "<style scoped>\n",
       "    .dataframe tbody tr th:only-of-type {\n",
       "        vertical-align: middle;\n",
       "    }\n",
       "\n",
       "    .dataframe tbody tr th {\n",
       "        vertical-align: top;\n",
       "    }\n",
       "\n",
       "    .dataframe thead th {\n",
       "        text-align: right;\n",
       "    }\n",
       "</style>\n",
       "<table border=\"1\" class=\"dataframe\">\n",
       "  <thead>\n",
       "    <tr style=\"text-align: right;\">\n",
       "      <th></th>\n",
       "      <th>RECORD_TIME</th>\n",
       "    </tr>\n",
       "  </thead>\n",
       "  <tbody>\n",
       "    <tr>\n",
       "      <th>0</th>\n",
       "      <td>2021-09-30 14:30</td>\n",
       "    </tr>\n",
       "    <tr>\n",
       "      <th>1</th>\n",
       "      <td>2021-09-30 14:00</td>\n",
       "    </tr>\n",
       "  </tbody>\n",
       "</table>\n",
       "</div>"
      ],
      "text/plain": [
       "        RECORD_TIME\n",
       "0  2021-09-30 14:30\n",
       "1  2021-09-30 14:00"
      ]
     },
     "execution_count": 3,
     "metadata": {},
     "output_type": "execute_result"
    }
   ],
   "source": [
    "timestamps"
   ]
  },
  {
   "cell_type": "code",
   "execution_count": 4,
   "id": "alternate-victory",
   "metadata": {
    "execution": {
     "iopub.execute_input": "2021-09-30T12:30:08.657832Z",
     "iopub.status.busy": "2021-09-30T12:30:08.655378Z",
     "iopub.status.idle": "2021-09-30T12:30:09.279607Z",
     "shell.execute_reply": "2021-09-30T12:30:09.280849Z"
    },
    "papermill": {
     "duration": 0.662317,
     "end_time": "2021-09-30T12:30:09.281242",
     "exception": false,
     "start_time": "2021-09-30T12:30:08.618925",
     "status": "completed"
    },
    "tags": []
   },
   "outputs": [],
   "source": [
    "df = pd.read_sql(\"select * from EBAY_TOP_BERLIN where record_time in (select distinct record_time from EBAY_TOP_BERLIN order by record_time desc limit 2)\", sqlite3.connect(\"UsedObjects.db\"))"
   ]
  },
  {
   "cell_type": "code",
   "execution_count": 5,
   "id": "popular-active",
   "metadata": {
    "execution": {
     "iopub.execute_input": "2021-09-30T12:30:09.355477Z",
     "iopub.status.busy": "2021-09-30T12:30:09.343591Z",
     "iopub.status.idle": "2021-09-30T12:30:09.370996Z",
     "shell.execute_reply": "2021-09-30T12:30:09.372232Z"
    },
    "papermill": {
     "duration": 0.067965,
     "end_time": "2021-09-30T12:30:09.372626",
     "exception": false,
     "start_time": "2021-09-30T12:30:09.304661",
     "status": "completed"
    },
    "tags": []
   },
   "outputs": [],
   "source": [
    "df_pivot = df.pivot_table(index=\"PRODUCT\", columns = \"RECORD_TIME\", values = \"LISTING_COUNT\")"
   ]
  },
  {
   "cell_type": "code",
   "execution_count": 6,
   "id": "union-huntington",
   "metadata": {
    "execution": {
     "iopub.execute_input": "2021-09-30T12:30:09.430161Z",
     "iopub.status.busy": "2021-09-30T12:30:09.427903Z",
     "iopub.status.idle": "2021-09-30T12:30:09.433846Z",
     "shell.execute_reply": "2021-09-30T12:30:09.435282Z"
    },
    "papermill": {
     "duration": 0.041816,
     "end_time": "2021-09-30T12:30:09.435765",
     "exception": false,
     "start_time": "2021-09-30T12:30:09.393949",
     "status": "completed"
    },
    "tags": []
   },
   "outputs": [],
   "source": [
    "df_pivot.columns = [\"stamp_1\", \"stamp_2\"]\n",
    "df_pivot_diff = df_pivot.diff(axis=1)"
   ]
  },
  {
   "cell_type": "code",
   "execution_count": 7,
   "id": "fifth-motion",
   "metadata": {
    "execution": {
     "iopub.execute_input": "2021-09-30T12:30:09.490443Z",
     "iopub.status.busy": "2021-09-30T12:30:09.488158Z",
     "iopub.status.idle": "2021-09-30T12:30:11.029178Z",
     "shell.execute_reply": "2021-09-30T12:30:11.030467Z"
    },
    "papermill": {
     "duration": 1.574294,
     "end_time": "2021-09-30T12:30:11.031088",
     "exception": false,
     "start_time": "2021-09-30T12:30:09.456794",
     "status": "completed"
    },
    "tags": []
   },
   "outputs": [
    {
     "data": {
      "text/plain": [
       "<AxesSubplot:ylabel='PRODUCT'>"
      ]
     },
     "execution_count": 7,
     "metadata": {},
     "output_type": "execute_result"
    },
    {
     "data": {
      "image/png": "[encoded data removed]",
      "text/plain": [
       "<Figure size 432x288 with 1 Axes>"
      ]
     },
     "metadata": {
      "needs_background": "light"
     },
     "output_type": "display_data"
    }
   ],
   "source": [
    "df_pivot_diff.sort_values(\"stamp_2\", ascending = False)[\"stamp_2\"].head(10).plot.barh()"
   ]
  },
  {
   "cell_type": "code",
   "execution_count": null,
   "id": "extra-executive",
   "metadata": {
    "papermill": {
     "duration": 0.022377,
     "end_time": "2021-09-30T12:30:11.078838",
     "exception": false,
     "start_time": "2021-09-30T12:30:11.056461",
     "status": "completed"
    },
    "tags": []
   },
   "outputs": [],
   "source": []
  }
 ],
 "metadata": {
  "kernelspec": {
   "display_name": "Python 3",
   "language": "python",
   "name": "python3"
  },
  "language_info": {
   "codemirror_mode": {
    "name": "ipython",
    "version": 3
   },
   "file_extension": ".py",
   "mimetype": "text/x-python",
   "name": "python",
   "nbconvert_exporter": "python",
   "pygments_lexer": "ipython3",
   "version": "3.9.5"
  },
  "papermill": {
   "default_parameters": {},
   "duration": 7.824801,
   "end_time": "2021-09-30T12:30:12.587531",
   "environment_variables": {},
   "exception": null,
   "input_path": "eBay_Overview.ipynb",
   "output_path": "eBay_Overview.ipynb",
   "parameters": {},
   "start_time": "2021-09-30T12:30:04.762730",
   "version": "2.3.3"
  }
 },
 "nbformat": 4,
 "nbformat_minor": 5
}