{
 "cells": [
  {
   "cell_type": "code",
   "execution_count": 1,
   "id": "reverse-picking",
   "metadata": {
    "execution": {
     "iopub.execute_input": "2021-11-25T06:30:07.587961Z",
     "iopub.status.busy": "2021-11-25T06:30:07.585549Z",
     "iopub.status.idle": "2021-11-25T06:30:08.549133Z",
     "shell.execute_reply": "2021-11-25T06:30:08.550628Z"
    },
    "papermill": {
     "duration": 1.010359,
     "end_time": "2021-11-25T06:30:08.551363",
     "exception": false,
     "start_time": "2021-11-25T06:30:07.541004",
     "status": "completed"
    },
    "tags": []
   },
   "outputs": [],
   "source": [
    "import pandas as pd\n",
    "import sqlite3"
   ]
  },
  {
   "cell_type": "code",
   "execution_count": 2,
   "id": "innovative-syndrome",
   "metadata": {
    "execution": {
     "iopub.execute_input": "2021-11-25T06:30:08.615015Z",
     "iopub.status.busy": "2021-11-25T06:30:08.612812Z",
     "iopub.status.idle": "2021-11-25T06:30:09.523174Z",
     "shell.execute_reply": "2021-11-25T06:30:09.524762Z"
    },
    "papermill": {
     "duration": 0.944618,
     "end_time": "2021-11-25T06:30:09.525242",
     "exception": false,
     "start_time": "2021-11-25T06:30:08.580624",
     "status": "completed"
    },
    "tags": []
   },
   "outputs": [],
   "source": [
    "timestamps = pd.read_sql(\"select distinct record_time from EBAY_TOP_BERLIN order by record_time desc limit 2\", sqlite3.connect(\"UsedObjects.db\"))"
   ]
  },
  {
   "cell_type": "code",
   "execution_count": 3,
   "id": "periodic-identification",
   "metadata": {
    "execution": {
     "iopub.execute_input": "2021-11-25T06:30:09.599283Z",
     "iopub.status.busy": "2021-11-25T06:30:09.597002Z",
     "iopub.status.idle": "2021-11-25T06:30:09.621425Z",
     "shell.execute_reply": "2021-11-25T06:30:09.622914Z"
    },
    "papermill": {
     "duration": 0.077584,
     "end_time": "2021-11-25T06:30:09.623384",
     "exception": false,
     "start_time": "2021-11-25T06:30:09.545800",
     "status": "completed"
    },
    "tags": []
   },
   "outputs": [
    {
     "data": {
      "text/html": [
       "<div>\n",
       "<style scoped>\n",
       "    .dataframe tbody tr th:only-of-type {\n",
       "        vertical-align: middle;\n",
       "    }\n",
       "\n",
       "    .dataframe tbody tr th {\n",
       "        vertical-align: top;\n",
       "    }\n",
       "\n",
       "    .dataframe thead th {\n",
       "        text-align: right;\n",
       "    }\n",
       "</style>\n",
       "<table border=\"1\" class=\"dataframe\">\n",
       "  <thead>\n",
       "    <tr style=\"text-align: right;\">\n",
       "      <th></th>\n",
       "      <th>RECORD_TIME</th>\n",
       "    </tr>\n",
       "  </thead>\n",
       "  <tbody>\n",
       "    <tr>\n",
       "      <th>0</th>\n",
       "      <td>2021-11-25 07:30</td>\n",
       "    </tr>\n",
       "    <tr>\n",
       "      <th>1</th>\n",
       "      <td>2021-11-25 07:00</td>\n",
       "    </tr>\n",
       "  </tbody>\n",
       "</table>\n",
       "</div>"
      ],
      "text/plain": [
       "        RECORD_TIME\n",
       "0  2021-11-25 07:30\n",
       "1  2021-11-25 07:00"
      ]
     },
     "execution_count": 3,
     "metadata": {},
     "output_type": "execute_result"
    }
   ],
   "source": [
    "timestamps"
   ]
  },
  {
   "cell_type": "code",
   "execution_count": 4,
   "id": "alternate-victory",
   "metadata": {
    "execution": {
     "iopub.execute_input": "2021-11-25T06:30:09.679566Z",
     "iopub.status.busy": "2021-11-25T06:30:09.677333Z",
     "iopub.status.idle": "2021-11-25T06:30:10.980997Z",
     "shell.execute_reply": "2021-11-25T06:30:10.984744Z"
    },
    "papermill": {
     "duration": 1.340244,
     "end_time": "2021-11-25T06:30:10.985503",
     "exception": false,
     "start_time": "2021-11-25T06:30:09.645259",
     "status": "completed"
    },
    "tags": []
   },
   "outputs": [],
   "source": [
    "df = pd.read_sql(\"select * from EBAY_TOP_BERLIN where record_time in (select distinct record_time from EBAY_TOP_BERLIN order by record_time desc limit 2)\", sqlite3.connect(\"UsedObjects.db\"))"
   ]
  },
  {
   "cell_type": "code",
   "execution_count": 5,
   "id": "popular-active",
   "metadata": {
    "execution": {
     "iopub.execute_input": "2021-11-25T06:30:11.077597Z",
     "iopub.status.busy": "2021-11-25T06:30:11.062543Z",
     "iopub.status.idle": "2021-11-25T06:30:11.097701Z",
     "shell.execute_reply": "2021-11-25T06:30:11.099102Z"
    },
    "papermill": {
     "duration": 0.082438,
     "end_time": "2021-11-25T06:30:11.099586",
     "exception": false,
     "start_time": "2021-11-25T06:30:11.017148",
     "status": "completed"
    },
    "tags": []
   },
   "outputs": [],
   "source": [
    "df_pivot = df.pivot_table(index=\"PRODUCT\", columns = \"RECORD_TIME\", values = \"LISTING_COUNT\")"
   ]
  },
  {
   "cell_type": "code",
   "execution_count": 6,
   "id": "union-huntington",
   "metadata": {
    "execution": {
     "iopub.execute_input": "2021-11-25T06:30:11.160809Z",
     "iopub.status.busy": "2021-11-25T06:30:11.158683Z",
     "iopub.status.idle": "2021-11-25T06:30:11.164314Z",
     "shell.execute_reply": "2021-11-25T06:30:11.166047Z"
    },
    "papermill": {
     "duration": 0.044479,
     "end_time": "2021-11-25T06:30:11.166510",
     "exception": false,
     "start_time": "2021-11-25T06:30:11.122031",
     "status": "completed"
    },
    "tags": []
   },
   "outputs": [],
   "source": [
    "df_pivot.columns = [\"stamp_1\", \"stamp_2\"]\n",
    "df_pivot_diff = df_pivot.diff(axis=1)"
   ]
  },
  {
   "cell_type": "code",
   "execution_count": 7,
   "id": "fifth-motion",
   "metadata": {
    "execution": {
     "iopub.execute_input": "2021-11-25T06:30:11.224585Z",
     "iopub.status.busy": "2021-11-25T06:30:11.222058Z",
     "iopub.status.idle": "2021-11-25T06:30:13.143302Z",
     "shell.execute_reply": "2021-11-25T06:30:13.145271Z"
    },
    "papermill": {
     "duration": 1.959425,
     "end_time": "2021-11-25T06:30:13.145806",
     "exception": false,
     "start_time": "2021-11-25T06:30:11.186381",
     "status": "completed"
    },
    "tags": []
   },
   "outputs": [
    {
     "data": {
      "text/plain": [
       "<AxesSubplot:ylabel='PRODUCT'>"
      ]
     },
     "execution_count": 7,
     "metadata": {},
     "output_type": "execute_result"
    },
    {
     "data": {
      "image/png": "[encoded data removed]",
      "text/plain": [
       "<Figure size 432x288 with 1 Axes>"
      ]
     },
     "metadata": {
      "needs_background": "light"
     },
     "output_type": "display_data"
    }
   ],
   "source": [
    "df_pivot_diff.sort_values(\"stamp_2\", ascending = False)[\"stamp_2\"].head(10).plot.barh()"
   ]
  },
  {
   "cell_type": "code",
   "execution_count": null,
   "id": "extra-executive",
   "metadata": {
    "papermill": {
     "duration": 0.023362,
     "end_time": "2021-11-25T06:30:13.195321",
     "exception": false,
     "start_time": "2021-11-25T06:30:13.171959",
     "status": "completed"
    },
    "tags": []
   },
   "outputs": [],
   "source": []
  }
 ],
 "metadata": {
  "kernelspec": {
   "display_name": "Python 3",
   "language": "python",
   "name": "python3"
  },
  "language_info": {
   "codemirror_mode": {
    "name": "ipython",
    "version": 3
   },
   "file_extension": ".py",
   "mimetype": "text/x-python",
   "name": "python",
   "nbconvert_exporter": "python",
   "pygments_lexer": "ipython3",
   "version": "3.9.5"
  },
  "papermill": {
   "default_parameters": {},
   "duration": 9.954978,
   "end_time": "2021-11-25T06:30:14.734687",
   "environment_variables": {},
   "exception": null,
   "input_path": "eBay_Overview.ipynb",
   "output_path": "eBay_Overview.ipynb",
   "parameters": {},
   "start_time": "2021-11-25T06:30:04.779709",
   "version": "2.3.3"
  }
 },
 "nbformat": 4,
 "nbformat_minor": 5
}