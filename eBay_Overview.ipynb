{
 "cells": [
  {
   "cell_type": "code",
   "execution_count": 1,
   "id": "reverse-picking",
   "metadata": {
    "execution": {
     "iopub.execute_input": "2021-11-22T22:00:07.658952Z",
     "iopub.status.busy": "2021-11-22T22:00:07.655950Z",
     "iopub.status.idle": "2021-11-22T22:00:08.597915Z",
     "shell.execute_reply": "2021-11-22T22:00:08.600059Z"
    },
    "papermill": {
     "duration": 0.992451,
     "end_time": "2021-11-22T22:00:08.600853",
     "exception": false,
     "start_time": "2021-11-22T22:00:07.608402",
     "status": "completed"
    },
    "tags": []
   },
   "outputs": [],
   "source": [
    "import pandas as pd\n",
    "import sqlite3"
   ]
  },
  {
   "cell_type": "code",
   "execution_count": 2,
   "id": "innovative-syndrome",
   "metadata": {
    "execution": {
     "iopub.execute_input": "2021-11-22T22:00:08.727125Z",
     "iopub.status.busy": "2021-11-22T22:00:08.723658Z",
     "iopub.status.idle": "2021-11-22T22:00:09.615572Z",
     "shell.execute_reply": "2021-11-22T22:00:09.617132Z"
    },
    "papermill": {
     "duration": 0.926714,
     "end_time": "2021-11-22T22:00:09.617630",
     "exception": false,
     "start_time": "2021-11-22T22:00:08.690916",
     "status": "completed"
    },
    "tags": []
   },
   "outputs": [],
   "source": [
    "timestamps = pd.read_sql(\"select distinct record_time from EBAY_TOP_BERLIN order by record_time desc limit 2\", sqlite3.connect(\"UsedObjects.db\"))"
   ]
  },
  {
   "cell_type": "code",
   "execution_count": 3,
   "id": "periodic-identification",
   "metadata": {
    "execution": {
     "iopub.execute_input": "2021-11-22T22:00:09.690309Z",
     "iopub.status.busy": "2021-11-22T22:00:09.686970Z",
     "iopub.status.idle": "2021-11-22T22:00:09.712668Z",
     "shell.execute_reply": "2021-11-22T22:00:09.714195Z"
    },
    "papermill": {
     "duration": 0.076611,
     "end_time": "2021-11-22T22:00:09.714674",
     "exception": false,
     "start_time": "2021-11-22T22:00:09.638063",
     "status": "completed"
    },
    "tags": []
   },
   "outputs": [
    {
     "data": {
      "text/html": [
       "<div>\n",
       "<style scoped>\n",
       "    .dataframe tbody tr th:only-of-type {\n",
       "        vertical-align: middle;\n",
       "    }\n",
       "\n",
       "    .dataframe tbody tr th {\n",
       "        vertical-align: top;\n",
       "    }\n",
       "\n",
       "    .dataframe thead th {\n",
       "        text-align: right;\n",
       "    }\n",
       "</style>\n",
       "<table border=\"1\" class=\"dataframe\">\n",
       "  <thead>\n",
       "    <tr style=\"text-align: right;\">\n",
       "      <th></th>\n",
       "      <th>RECORD_TIME</th>\n",
       "    </tr>\n",
       "  </thead>\n",
       "  <tbody>\n",
       "    <tr>\n",
       "      <th>0</th>\n",
       "      <td>2021-11-22 23:00</td>\n",
       "    </tr>\n",
       "    <tr>\n",
       "      <th>1</th>\n",
       "      <td>2021-11-22 22:30</td>\n",
       "    </tr>\n",
       "  </tbody>\n",
       "</table>\n",
       "</div>"
      ],
      "text/plain": [
       "        RECORD_TIME\n",
       "0  2021-11-22 23:00\n",
       "1  2021-11-22 22:30"
      ]
     },
     "execution_count": 3,
     "metadata": {},
     "output_type": "execute_result"
    }
   ],
   "source": [
    "timestamps"
   ]
  },
  {
   "cell_type": "code",
   "execution_count": 4,
   "id": "alternate-victory",
   "metadata": {
    "execution": {
     "iopub.execute_input": "2021-11-22T22:00:09.769375Z",
     "iopub.status.busy": "2021-11-22T22:00:09.766915Z",
     "iopub.status.idle": "2021-11-22T22:00:11.031322Z",
     "shell.execute_reply": "2021-11-22T22:00:11.033581Z"
    },
    "papermill": {
     "duration": 1.298664,
     "end_time": "2021-11-22T22:00:11.034065",
     "exception": false,
     "start_time": "2021-11-22T22:00:09.735401",
     "status": "completed"
    },
    "tags": []
   },
   "outputs": [],
   "source": [
    "df = pd.read_sql(\"select * from EBAY_TOP_BERLIN where record_time in (select distinct record_time from EBAY_TOP_BERLIN order by record_time desc limit 2)\", sqlite3.connect(\"UsedObjects.db\"))"
   ]
  },
  {
   "cell_type": "code",
   "execution_count": 5,
   "id": "popular-active",
   "metadata": {
    "execution": {
     "iopub.execute_input": "2021-11-22T22:00:11.110280Z",
     "iopub.status.busy": "2021-11-22T22:00:11.096833Z",
     "iopub.status.idle": "2021-11-22T22:00:11.129414Z",
     "shell.execute_reply": "2021-11-22T22:00:11.127526Z"
    },
    "papermill": {
     "duration": 0.073484,
     "end_time": "2021-11-22T22:00:11.129894",
     "exception": false,
     "start_time": "2021-11-22T22:00:11.056410",
     "status": "completed"
    },
    "tags": []
   },
   "outputs": [],
   "source": [
    "df_pivot = df.pivot_table(index=\"PRODUCT\", columns = \"RECORD_TIME\", values = \"LISTING_COUNT\")"
   ]
  },
  {
   "cell_type": "code",
   "execution_count": 6,
   "id": "union-huntington",
   "metadata": {
    "execution": {
     "iopub.execute_input": "2021-11-22T22:00:11.192383Z",
     "iopub.status.busy": "2021-11-22T22:00:11.190101Z",
     "iopub.status.idle": "2021-11-22T22:00:11.195866Z",
     "shell.execute_reply": "2021-11-22T22:00:11.197495Z"
    },
    "papermill": {
     "duration": 0.047386,
     "end_time": "2021-11-22T22:00:11.198000",
     "exception": false,
     "start_time": "2021-11-22T22:00:11.150614",
     "status": "completed"
    },
    "tags": []
   },
   "outputs": [],
   "source": [
    "df_pivot.columns = [\"stamp_1\", \"stamp_2\"]\n",
    "df_pivot_diff = df_pivot.diff(axis=1)"
   ]
  },
  {
   "cell_type": "code",
   "execution_count": 7,
   "id": "fifth-motion",
   "metadata": {
    "execution": {
     "iopub.execute_input": "2021-11-22T22:00:11.257763Z",
     "iopub.status.busy": "2021-11-22T22:00:11.254821Z",
     "iopub.status.idle": "2021-11-22T22:00:13.153147Z",
     "shell.execute_reply": "2021-11-22T22:00:13.154518Z"
    },
    "papermill": {
     "duration": 1.935827,
     "end_time": "2021-11-22T22:00:13.154993",
     "exception": false,
     "start_time": "2021-11-22T22:00:11.219166",
     "status": "completed"
    },
    "tags": []
   },
   "outputs": [
    {
     "data": {
      "text/plain": [
       "<AxesSubplot:ylabel='PRODUCT'>"
      ]
     },
     "execution_count": 7,
     "metadata": {},
     "output_type": "execute_result"
    },
    {
     "data": {
      "image/png": "[encoded data removed]",
      "text/plain": [
       "<Figure size 432x288 with 1 Axes>"
      ]
     },
     "metadata": {
      "needs_background": "light"
     },
     "output_type": "display_data"
    }
   ],
   "source": [
    "df_pivot_diff.sort_values(\"stamp_2\", ascending = False)[\"stamp_2\"].head(10).plot.barh()"
   ]
  },
  {
   "cell_type": "code",
   "execution_count": null,
   "id": "extra-executive",
   "metadata": {
    "papermill": {
     "duration": 0.023494,
     "end_time": "2021-11-22T22:00:13.202644",
     "exception": false,
     "start_time": "2021-11-22T22:00:13.179150",
     "status": "completed"
    },
    "tags": []
   },
   "outputs": [],
   "source": []
  }
 ],
 "metadata": {
  "kernelspec": {
   "display_name": "Python 3",
   "language": "python",
   "name": "python3"
  },
  "language_info": {
   "codemirror_mode": {
    "name": "ipython",
    "version": 3
   },
   "file_extension": ".py",
   "mimetype": "text/x-python",
   "name": "python",
   "nbconvert_exporter": "python",
   "pygments_lexer": "ipython3",
   "version": "3.9.5"
  },
  "papermill": {
   "default_parameters": {},
   "duration": 9.936225,
   "end_time": "2021-11-22T22:00:14.812190",
   "environment_variables": {},
   "exception": null,
   "input_path": "eBay_Overview.ipynb",
   "output_path": "eBay_Overview.ipynb",
   "parameters": {},
   "start_time": "2021-11-22T22:00:04.875965",
   "version": "2.3.3"
  }
 },
 "nbformat": 4,
 "nbformat_minor": 5
}