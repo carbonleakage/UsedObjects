{
 "cells": [
  {
   "cell_type": "code",
   "execution_count": 1,
   "id": "reverse-picking",
   "metadata": {
    "execution": {
     "iopub.execute_input": "2021-09-19T09:00:07.703860Z",
     "iopub.status.busy": "2021-09-19T09:00:07.701876Z",
     "iopub.status.idle": "2021-09-19T09:00:08.692696Z",
     "shell.execute_reply": "2021-09-19T09:00:08.694017Z"
    },
    "papermill": {
     "duration": 1.042466,
     "end_time": "2021-09-19T09:00:08.694660",
     "exception": false,
     "start_time": "2021-09-19T09:00:07.652194",
     "status": "completed"
    },
    "tags": []
   },
   "outputs": [],
   "source": [
    "import pandas as pd\n",
    "import sqlite3"
   ]
  },
  {
   "cell_type": "code",
   "execution_count": 2,
   "id": "innovative-syndrome",
   "metadata": {
    "execution": {
     "iopub.execute_input": "2021-09-19T09:00:08.745215Z",
     "iopub.status.busy": "2021-09-19T09:00:08.743039Z",
     "iopub.status.idle": "2021-09-19T09:00:09.065440Z",
     "shell.execute_reply": "2021-09-19T09:00:09.066644Z"
    },
    "papermill": {
     "duration": 0.352251,
     "end_time": "2021-09-19T09:00:09.067245",
     "exception": false,
     "start_time": "2021-09-19T09:00:08.714994",
     "status": "completed"
    },
    "tags": []
   },
   "outputs": [],
   "source": [
    "timestamps = pd.read_sql(\"select distinct record_time from EBAY_TOP_BERLIN order by record_time desc limit 2\", sqlite3.connect(\"UsedObjects.db\"))"
   ]
  },
  {
   "cell_type": "code",
   "execution_count": 3,
   "id": "periodic-identification",
   "metadata": {
    "execution": {
     "iopub.execute_input": "2021-09-19T09:00:09.141302Z",
     "iopub.status.busy": "2021-09-19T09:00:09.139280Z",
     "iopub.status.idle": "2021-09-19T09:00:09.159565Z",
     "shell.execute_reply": "2021-09-19T09:00:09.161192Z"
    },
    "papermill": {
     "duration": 0.068716,
     "end_time": "2021-09-19T09:00:09.161740",
     "exception": false,
     "start_time": "2021-09-19T09:00:09.093024",
     "status": "completed"
    },
    "tags": []
   },
   "outputs": [
    {
     "data": {
      "text/html": [
       "<div>\n",
       "<style scoped>\n",
       "    .dataframe tbody tr th:only-of-type {\n",
       "        vertical-align: middle;\n",
       "    }\n",
       "\n",
       "    .dataframe tbody tr th {\n",
       "        vertical-align: top;\n",
       "    }\n",
       "\n",
       "    .dataframe thead th {\n",
       "        text-align: right;\n",
       "    }\n",
       "</style>\n",
       "<table border=\"1\" class=\"dataframe\">\n",
       "  <thead>\n",
       "    <tr style=\"text-align: right;\">\n",
       "      <th></th>\n",
       "      <th>RECORD_TIME</th>\n",
       "    </tr>\n",
       "  </thead>\n",
       "  <tbody>\n",
       "    <tr>\n",
       "      <th>0</th>\n",
       "      <td>2021-09-19 11:00</td>\n",
       "    </tr>\n",
       "    <tr>\n",
       "      <th>1</th>\n",
       "      <td>2021-09-19 10:30</td>\n",
       "    </tr>\n",
       "  </tbody>\n",
       "</table>\n",
       "</div>"
      ],
      "text/plain": [
       "        RECORD_TIME\n",
       "0  2021-09-19 11:00\n",
       "1  2021-09-19 10:30"
      ]
     },
     "execution_count": 3,
     "metadata": {},
     "output_type": "execute_result"
    }
   ],
   "source": [
    "timestamps"
   ]
  },
  {
   "cell_type": "code",
   "execution_count": 4,
   "id": "alternate-victory",
   "metadata": {
    "execution": {
     "iopub.execute_input": "2021-09-19T09:00:09.214846Z",
     "iopub.status.busy": "2021-09-19T09:00:09.212902Z",
     "iopub.status.idle": "2021-09-19T09:00:09.687877Z",
     "shell.execute_reply": "2021-09-19T09:00:09.689181Z"
    },
    "papermill": {
     "duration": 0.505292,
     "end_time": "2021-09-19T09:00:09.689632",
     "exception": false,
     "start_time": "2021-09-19T09:00:09.184340",
     "status": "completed"
    },
    "tags": []
   },
   "outputs": [],
   "source": [
    "df = pd.read_sql(\"select * from EBAY_TOP_BERLIN where record_time in (select distinct record_time from EBAY_TOP_BERLIN order by record_time desc limit 2)\", sqlite3.connect(\"UsedObjects.db\"))"
   ]
  },
  {
   "cell_type": "code",
   "execution_count": 5,
   "id": "popular-active",
   "metadata": {
    "execution": {
     "iopub.execute_input": "2021-09-19T09:00:09.760756Z",
     "iopub.status.busy": "2021-09-19T09:00:09.748580Z",
     "iopub.status.idle": "2021-09-19T09:00:09.776338Z",
     "shell.execute_reply": "2021-09-19T09:00:09.777557Z"
    },
    "papermill": {
     "duration": 0.067777,
     "end_time": "2021-09-19T09:00:09.777952",
     "exception": false,
     "start_time": "2021-09-19T09:00:09.710175",
     "status": "completed"
    },
    "tags": []
   },
   "outputs": [],
   "source": [
    "df_pivot = df.pivot_table(index=\"PRODUCT\", columns = \"RECORD_TIME\", values = \"LISTING_COUNT\")"
   ]
  },
  {
   "cell_type": "code",
   "execution_count": 6,
   "id": "union-huntington",
   "metadata": {
    "execution": {
     "iopub.execute_input": "2021-09-19T09:00:09.837131Z",
     "iopub.status.busy": "2021-09-19T09:00:09.834637Z",
     "iopub.status.idle": "2021-09-19T09:00:09.840617Z",
     "shell.execute_reply": "2021-09-19T09:00:09.841901Z"
    },
    "papermill": {
     "duration": 0.042015,
     "end_time": "2021-09-19T09:00:09.842310",
     "exception": false,
     "start_time": "2021-09-19T09:00:09.800295",
     "status": "completed"
    },
    "tags": []
   },
   "outputs": [],
   "source": [
    "df_pivot.columns = [\"stamp_1\", \"stamp_2\"]\n",
    "df_pivot_diff = df_pivot.diff(axis=1)"
   ]
  },
  {
   "cell_type": "code",
   "execution_count": 7,
   "id": "fifth-motion",
   "metadata": {
    "execution": {
     "iopub.execute_input": "2021-09-19T09:00:09.895278Z",
     "iopub.status.busy": "2021-09-19T09:00:09.892925Z",
     "iopub.status.idle": "2021-09-19T09:00:11.466336Z",
     "shell.execute_reply": "2021-09-19T09:00:11.467708Z"
    },
    "papermill": {
     "duration": 1.605975,
     "end_time": "2021-09-19T09:00:11.468133",
     "exception": false,
     "start_time": "2021-09-19T09:00:09.862158",
     "status": "completed"
    },
    "tags": []
   },
   "outputs": [
    {
     "data": {
      "text/plain": [
       "<AxesSubplot:ylabel='PRODUCT'>"
      ]
     },
     "execution_count": 7,
     "metadata": {},
     "output_type": "execute_result"
    },
    {
     "data": {
      "image/png": "[encoded data removed]",
      "text/plain": [
       "<Figure size 432x288 with 1 Axes>"
      ]
     },
     "metadata": {
      "needs_background": "light"
     },
     "output_type": "display_data"
    }
   ],
   "source": [
    "df_pivot_diff.sort_values(\"stamp_2\", ascending = False)[\"stamp_2\"].head(10).plot.barh()"
   ]
  },
  {
   "cell_type": "code",
   "execution_count": null,
   "id": "extra-executive",
   "metadata": {
    "papermill": {
     "duration": 0.02232,
     "end_time": "2021-09-19T09:00:11.515159",
     "exception": false,
     "start_time": "2021-09-19T09:00:11.492839",
     "status": "completed"
    },
    "tags": []
   },
   "outputs": [],
   "source": []
  }
 ],
 "metadata": {
  "kernelspec": {
   "display_name": "Python 3",
   "language": "python",
   "name": "python3"
  },
  "language_info": {
   "codemirror_mode": {
    "name": "ipython",
    "version": 3
   },
   "file_extension": ".py",
   "mimetype": "text/x-python",
   "name": "python",
   "nbconvert_exporter": "python",
   "pygments_lexer": "ipython3",
   "version": "3.9.5"
  },
  "papermill": {
   "default_parameters": {},
   "duration": 7.858732,
   "end_time": "2021-09-19T09:00:13.067102",
   "environment_variables": {},
   "exception": null,
   "input_path": "eBay_Overview.ipynb",
   "output_path": "eBay_Overview.ipynb",
   "parameters": {},
   "start_time": "2021-09-19T09:00:05.208370",
   "version": "2.3.3"
  }
 },
 "nbformat": 4,
 "nbformat_minor": 5
}