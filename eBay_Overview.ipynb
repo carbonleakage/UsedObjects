{
 "cells": [
  {
   "cell_type": "code",
   "execution_count": 1,
   "id": "reverse-picking",
   "metadata": {
    "execution": {
     "iopub.execute_input": "2021-10-20T22:00:07.379115Z",
     "iopub.status.busy": "2021-10-20T22:00:07.377178Z",
     "iopub.status.idle": "2021-10-20T22:00:08.188230Z",
     "shell.execute_reply": "2021-10-20T22:00:08.189723Z"
    },
    "papermill": {
     "duration": 0.863988,
     "end_time": "2021-10-20T22:00:08.190561",
     "exception": false,
     "start_time": "2021-10-20T22:00:07.326573",
     "status": "completed"
    },
    "tags": []
   },
   "outputs": [],
   "source": [
    "import pandas as pd\n",
    "import sqlite3"
   ]
  },
  {
   "cell_type": "code",
   "execution_count": 2,
   "id": "innovative-syndrome",
   "metadata": {
    "execution": {
     "iopub.execute_input": "2021-10-20T22:00:08.243713Z",
     "iopub.status.busy": "2021-10-20T22:00:08.241560Z",
     "iopub.status.idle": "2021-10-20T22:00:08.875928Z",
     "shell.execute_reply": "2021-10-20T22:00:08.877312Z"
    },
    "papermill": {
     "duration": 0.664887,
     "end_time": "2021-10-20T22:00:08.877744",
     "exception": false,
     "start_time": "2021-10-20T22:00:08.212857",
     "status": "completed"
    },
    "tags": []
   },
   "outputs": [],
   "source": [
    "timestamps = pd.read_sql(\"select distinct record_time from EBAY_TOP_BERLIN order by record_time desc limit 2\", sqlite3.connect(\"UsedObjects.db\"))"
   ]
  },
  {
   "cell_type": "code",
   "execution_count": 3,
   "id": "periodic-identification",
   "metadata": {
    "execution": {
     "iopub.execute_input": "2021-10-20T22:00:08.965426Z",
     "iopub.status.busy": "2021-10-20T22:00:08.959726Z",
     "iopub.status.idle": "2021-10-20T22:00:08.980505Z",
     "shell.execute_reply": "2021-10-20T22:00:08.981765Z"
    },
    "papermill": {
     "duration": 0.074682,
     "end_time": "2021-10-20T22:00:08.982185",
     "exception": false,
     "start_time": "2021-10-20T22:00:08.907503",
     "status": "completed"
    },
    "tags": []
   },
   "outputs": [
    {
     "data": {
      "text/html": [
       "<div>\n",
       "<style scoped>\n",
       "    .dataframe tbody tr th:only-of-type {\n",
       "        vertical-align: middle;\n",
       "    }\n",
       "\n",
       "    .dataframe tbody tr th {\n",
       "        vertical-align: top;\n",
       "    }\n",
       "\n",
       "    .dataframe thead th {\n",
       "        text-align: right;\n",
       "    }\n",
       "</style>\n",
       "<table border=\"1\" class=\"dataframe\">\n",
       "  <thead>\n",
       "    <tr style=\"text-align: right;\">\n",
       "      <th></th>\n",
       "      <th>RECORD_TIME</th>\n",
       "    </tr>\n",
       "  </thead>\n",
       "  <tbody>\n",
       "    <tr>\n",
       "      <th>0</th>\n",
       "      <td>2021-10-21 00:00</td>\n",
       "    </tr>\n",
       "    <tr>\n",
       "      <th>1</th>\n",
       "      <td>2021-10-20 23:30</td>\n",
       "    </tr>\n",
       "  </tbody>\n",
       "</table>\n",
       "</div>"
      ],
      "text/plain": [
       "        RECORD_TIME\n",
       "0  2021-10-21 00:00\n",
       "1  2021-10-20 23:30"
      ]
     },
     "execution_count": 3,
     "metadata": {},
     "output_type": "execute_result"
    }
   ],
   "source": [
    "timestamps"
   ]
  },
  {
   "cell_type": "code",
   "execution_count": 4,
   "id": "alternate-victory",
   "metadata": {
    "execution": {
     "iopub.execute_input": "2021-10-20T22:00:09.032054Z",
     "iopub.status.busy": "2021-10-20T22:00:09.030240Z",
     "iopub.status.idle": "2021-10-20T22:00:09.915669Z",
     "shell.execute_reply": "2021-10-20T22:00:09.917032Z"
    },
    "papermill": {
     "duration": 0.915338,
     "end_time": "2021-10-20T22:00:09.917497",
     "exception": false,
     "start_time": "2021-10-20T22:00:09.002159",
     "status": "completed"
    },
    "tags": []
   },
   "outputs": [],
   "source": [
    "df = pd.read_sql(\"select * from EBAY_TOP_BERLIN where record_time in (select distinct record_time from EBAY_TOP_BERLIN order by record_time desc limit 2)\", sqlite3.connect(\"UsedObjects.db\"))"
   ]
  },
  {
   "cell_type": "code",
   "execution_count": 5,
   "id": "popular-active",
   "metadata": {
    "execution": {
     "iopub.execute_input": "2021-10-20T22:00:09.987691Z",
     "iopub.status.busy": "2021-10-20T22:00:09.975030Z",
     "iopub.status.idle": "2021-10-20T22:00:10.006209Z",
     "shell.execute_reply": "2021-10-20T22:00:10.004650Z"
    },
    "papermill": {
     "duration": 0.068455,
     "end_time": "2021-10-20T22:00:10.006582",
     "exception": false,
     "start_time": "2021-10-20T22:00:09.938127",
     "status": "completed"
    },
    "tags": []
   },
   "outputs": [],
   "source": [
    "df_pivot = df.pivot_table(index=\"PRODUCT\", columns = \"RECORD_TIME\", values = \"LISTING_COUNT\")"
   ]
  },
  {
   "cell_type": "code",
   "execution_count": 6,
   "id": "union-huntington",
   "metadata": {
    "execution": {
     "iopub.execute_input": "2021-10-20T22:00:10.062887Z",
     "iopub.status.busy": "2021-10-20T22:00:10.060787Z",
     "iopub.status.idle": "2021-10-20T22:00:10.066000Z",
     "shell.execute_reply": "2021-10-20T22:00:10.067290Z"
    },
    "papermill": {
     "duration": 0.040325,
     "end_time": "2021-10-20T22:00:10.067705",
     "exception": false,
     "start_time": "2021-10-20T22:00:10.027380",
     "status": "completed"
    },
    "tags": []
   },
   "outputs": [],
   "source": [
    "df_pivot.columns = [\"stamp_1\", \"stamp_2\"]\n",
    "df_pivot_diff = df_pivot.diff(axis=1)"
   ]
  },
  {
   "cell_type": "code",
   "execution_count": 7,
   "id": "fifth-motion",
   "metadata": {
    "execution": {
     "iopub.execute_input": "2021-10-20T22:00:10.123649Z",
     "iopub.status.busy": "2021-10-20T22:00:10.120974Z",
     "iopub.status.idle": "2021-10-20T22:00:11.640603Z",
     "shell.execute_reply": "2021-10-20T22:00:11.641976Z"
    },
    "papermill": {
     "duration": 1.553316,
     "end_time": "2021-10-20T22:00:11.642411",
     "exception": false,
     "start_time": "2021-10-20T22:00:10.089095",
     "status": "completed"
    },
    "tags": []
   },
   "outputs": [
    {
     "data": {
      "text/plain": [
       "<AxesSubplot:ylabel='PRODUCT'>"
      ]
     },
     "execution_count": 7,
     "metadata": {},
     "output_type": "execute_result"
    },
    {
     "data": {
      "image/png": "[encoded data removed]",
      "text/plain": [
       "<Figure size 432x288 with 1 Axes>"
      ]
     },
     "metadata": {
      "needs_background": "light"
     },
     "output_type": "display_data"
    }
   ],
   "source": [
    "df_pivot_diff.sort_values(\"stamp_2\", ascending = False)[\"stamp_2\"].head(10).plot.barh()"
   ]
  },
  {
   "cell_type": "code",
   "execution_count": null,
   "id": "extra-executive",
   "metadata": {
    "papermill": {
     "duration": 0.022169,
     "end_time": "2021-10-20T22:00:11.688632",
     "exception": false,
     "start_time": "2021-10-20T22:00:11.666463",
     "status": "completed"
    },
    "tags": []
   },
   "outputs": [],
   "source": []
  }
 ],
 "metadata": {
  "kernelspec": {
   "display_name": "Python 3",
   "language": "python",
   "name": "python3"
  },
  "language_info": {
   "codemirror_mode": {
    "name": "ipython",
    "version": 3
   },
   "file_extension": ".py",
   "mimetype": "text/x-python",
   "name": "python",
   "nbconvert_exporter": "python",
   "pygments_lexer": "ipython3",
   "version": "3.9.5"
  },
  "papermill": {
   "default_parameters": {},
   "duration": 7.424041,
   "end_time": "2021-10-20T22:00:12.329102",
   "environment_variables": {},
   "exception": null,
   "input_path": "eBay_Overview.ipynb",
   "output_path": "eBay_Overview.ipynb",
   "parameters": {},
   "start_time": "2021-10-20T22:00:04.905061",
   "version": "2.3.3"
  }
 },
 "nbformat": 4,
 "nbformat_minor": 5
}