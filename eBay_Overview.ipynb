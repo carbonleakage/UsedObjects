{
 "cells": [
  {
   "cell_type": "code",
   "execution_count": 1,
   "id": "reverse-picking",
   "metadata": {
    "execution": {
     "iopub.execute_input": "2021-11-26T23:00:07.508553Z",
     "iopub.status.busy": "2021-11-26T23:00:07.504970Z",
     "iopub.status.idle": "2021-11-26T23:00:08.465624Z",
     "shell.execute_reply": "2021-11-26T23:00:08.467862Z"
    },
    "papermill": {
     "duration": 1.010422,
     "end_time": "2021-11-26T23:00:08.468601",
     "exception": false,
     "start_time": "2021-11-26T23:00:07.458179",
     "status": "completed"
    },
    "tags": []
   },
   "outputs": [],
   "source": [
    "import pandas as pd\n",
    "import sqlite3"
   ]
  },
  {
   "cell_type": "code",
   "execution_count": 2,
   "id": "innovative-syndrome",
   "metadata": {
    "execution": {
     "iopub.execute_input": "2021-11-26T23:00:08.593645Z",
     "iopub.status.busy": "2021-11-26T23:00:08.589023Z",
     "iopub.status.idle": "2021-11-26T23:00:09.497996Z",
     "shell.execute_reply": "2021-11-26T23:00:09.500442Z"
    },
    "papermill": {
     "duration": 0.94744,
     "end_time": "2021-11-26T23:00:09.501098",
     "exception": false,
     "start_time": "2021-11-26T23:00:08.553658",
     "status": "completed"
    },
    "tags": []
   },
   "outputs": [],
   "source": [
    "timestamps = pd.read_sql(\"select distinct record_time from EBAY_TOP_BERLIN order by record_time desc limit 2\", sqlite3.connect(\"UsedObjects.db\"))"
   ]
  },
  {
   "cell_type": "code",
   "execution_count": 3,
   "id": "periodic-identification",
   "metadata": {
    "execution": {
     "iopub.execute_input": "2021-11-26T23:00:09.570233Z",
     "iopub.status.busy": "2021-11-26T23:00:09.568130Z",
     "iopub.status.idle": "2021-11-26T23:00:09.588545Z",
     "shell.execute_reply": "2021-11-26T23:00:09.590054Z"
    },
    "papermill": {
     "duration": 0.067569,
     "end_time": "2021-11-26T23:00:09.590502",
     "exception": false,
     "start_time": "2021-11-26T23:00:09.522933",
     "status": "completed"
    },
    "tags": []
   },
   "outputs": [
    {
     "data": {
      "text/html": [
       "<div>\n",
       "<style scoped>\n",
       "    .dataframe tbody tr th:only-of-type {\n",
       "        vertical-align: middle;\n",
       "    }\n",
       "\n",
       "    .dataframe tbody tr th {\n",
       "        vertical-align: top;\n",
       "    }\n",
       "\n",
       "    .dataframe thead th {\n",
       "        text-align: right;\n",
       "    }\n",
       "</style>\n",
       "<table border=\"1\" class=\"dataframe\">\n",
       "  <thead>\n",
       "    <tr style=\"text-align: right;\">\n",
       "      <th></th>\n",
       "      <th>RECORD_TIME</th>\n",
       "    </tr>\n",
       "  </thead>\n",
       "  <tbody>\n",
       "    <tr>\n",
       "      <th>0</th>\n",
       "      <td>2021-11-27 00:00</td>\n",
       "    </tr>\n",
       "    <tr>\n",
       "      <th>1</th>\n",
       "      <td>2021-11-26 23:30</td>\n",
       "    </tr>\n",
       "  </tbody>\n",
       "</table>\n",
       "</div>"
      ],
      "text/plain": [
       "        RECORD_TIME\n",
       "0  2021-11-27 00:00\n",
       "1  2021-11-26 23:30"
      ]
     },
     "execution_count": 3,
     "metadata": {},
     "output_type": "execute_result"
    }
   ],
   "source": [
    "timestamps"
   ]
  },
  {
   "cell_type": "code",
   "execution_count": 4,
   "id": "alternate-victory",
   "metadata": {
    "execution": {
     "iopub.execute_input": "2021-11-26T23:00:09.641713Z",
     "iopub.status.busy": "2021-11-26T23:00:09.639732Z",
     "iopub.status.idle": "2021-11-26T23:00:10.993991Z",
     "shell.execute_reply": "2021-11-26T23:00:10.995454Z"
    },
    "papermill": {
     "duration": 1.384207,
     "end_time": "2021-11-26T23:00:10.995923",
     "exception": false,
     "start_time": "2021-11-26T23:00:09.611716",
     "status": "completed"
    },
    "tags": []
   },
   "outputs": [],
   "source": [
    "df = pd.read_sql(\"select * from EBAY_TOP_BERLIN where record_time in (select distinct record_time from EBAY_TOP_BERLIN order by record_time desc limit 2)\", sqlite3.connect(\"UsedObjects.db\"))"
   ]
  },
  {
   "cell_type": "code",
   "execution_count": 5,
   "id": "popular-active",
   "metadata": {
    "execution": {
     "iopub.execute_input": "2021-11-26T23:00:11.075305Z",
     "iopub.status.busy": "2021-11-26T23:00:11.060922Z",
     "iopub.status.idle": "2021-11-26T23:00:11.094379Z",
     "shell.execute_reply": "2021-11-26T23:00:11.095757Z"
    },
    "papermill": {
     "duration": 0.080096,
     "end_time": "2021-11-26T23:00:11.096264",
     "exception": false,
     "start_time": "2021-11-26T23:00:11.016168",
     "status": "completed"
    },
    "tags": []
   },
   "outputs": [],
   "source": [
    "df_pivot = df.pivot_table(index=\"PRODUCT\", columns = \"RECORD_TIME\", values = \"LISTING_COUNT\")"
   ]
  },
  {
   "cell_type": "code",
   "execution_count": 6,
   "id": "union-huntington",
   "metadata": {
    "execution": {
     "iopub.execute_input": "2021-11-26T23:00:11.163652Z",
     "iopub.status.busy": "2021-11-26T23:00:11.161038Z",
     "iopub.status.idle": "2021-11-26T23:00:11.167264Z",
     "shell.execute_reply": "2021-11-26T23:00:11.168871Z"
    },
    "papermill": {
     "duration": 0.050185,
     "end_time": "2021-11-26T23:00:11.169416",
     "exception": false,
     "start_time": "2021-11-26T23:00:11.119231",
     "status": "completed"
    },
    "tags": []
   },
   "outputs": [],
   "source": [
    "df_pivot.columns = [\"stamp_1\", \"stamp_2\"]\n",
    "df_pivot_diff = df_pivot.diff(axis=1)"
   ]
  },
  {
   "cell_type": "code",
   "execution_count": 7,
   "id": "fifth-motion",
   "metadata": {
    "execution": {
     "iopub.execute_input": "2021-11-26T23:00:11.227558Z",
     "iopub.status.busy": "2021-11-26T23:00:11.225057Z",
     "iopub.status.idle": "2021-11-26T23:00:13.115106Z",
     "shell.execute_reply": "2021-11-26T23:00:13.117564Z"
    },
    "papermill": {
     "duration": 1.926476,
     "end_time": "2021-11-26T23:00:13.118267",
     "exception": false,
     "start_time": "2021-11-26T23:00:11.191791",
     "status": "completed"
    },
    "tags": []
   },
   "outputs": [
    {
     "data": {
      "text/plain": [
       "<AxesSubplot:ylabel='PRODUCT'>"
      ]
     },
     "execution_count": 7,
     "metadata": {},
     "output_type": "execute_result"
    },
    {
     "data": {
      "image/png": "[encoded data removed]",
      "text/plain": [
       "<Figure size 432x288 with 1 Axes>"
      ]
     },
     "metadata": {
      "needs_background": "light"
     },
     "output_type": "display_data"
    }
   ],
   "source": [
    "df_pivot_diff.sort_values(\"stamp_2\", ascending = False)[\"stamp_2\"].head(10).plot.barh()"
   ]
  },
  {
   "cell_type": "code",
   "execution_count": null,
   "id": "extra-executive",
   "metadata": {
    "papermill": {
     "duration": 0.03738,
     "end_time": "2021-11-26T23:00:13.189716",
     "exception": false,
     "start_time": "2021-11-26T23:00:13.152336",
     "status": "completed"
    },
    "tags": []
   },
   "outputs": [],
   "source": []
  }
 ],
 "metadata": {
  "kernelspec": {
   "display_name": "Python 3",
   "language": "python",
   "name": "python3"
  },
  "language_info": {
   "codemirror_mode": {
    "name": "ipython",
    "version": 3
   },
   "file_extension": ".py",
   "mimetype": "text/x-python",
   "name": "python",
   "nbconvert_exporter": "python",
   "pygments_lexer": "ipython3",
   "version": "3.9.5"
  },
  "papermill": {
   "default_parameters": {},
   "duration": 9.93807,
   "end_time": "2021-11-26T23:00:14.660187",
   "environment_variables": {},
   "exception": null,
   "input_path": "eBay_Overview.ipynb",
   "output_path": "eBay_Overview.ipynb",
   "parameters": {},
   "start_time": "2021-11-26T23:00:04.722117",
   "version": "2.3.3"
  }
 },
 "nbformat": 4,
 "nbformat_minor": 5
}