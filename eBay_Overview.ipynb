{
 "cells": [
  {
   "cell_type": "code",
   "execution_count": 1,
   "id": "reverse-picking",
   "metadata": {
    "execution": {
     "iopub.execute_input": "2021-11-29T05:30:07.574267Z",
     "iopub.status.busy": "2021-11-29T05:30:07.571946Z",
     "iopub.status.idle": "2021-11-29T05:30:08.530073Z",
     "shell.execute_reply": "2021-11-29T05:30:08.531582Z"
    },
    "papermill": {
     "duration": 1.008736,
     "end_time": "2021-11-29T05:30:08.532334",
     "exception": false,
     "start_time": "2021-11-29T05:30:07.523598",
     "status": "completed"
    },
    "tags": []
   },
   "outputs": [],
   "source": [
    "import pandas as pd\n",
    "import sqlite3"
   ]
  },
  {
   "cell_type": "code",
   "execution_count": 2,
   "id": "innovative-syndrome",
   "metadata": {
    "execution": {
     "iopub.execute_input": "2021-11-29T05:30:08.594792Z",
     "iopub.status.busy": "2021-11-29T05:30:08.592519Z",
     "iopub.status.idle": "2021-11-29T05:30:09.536953Z",
     "shell.execute_reply": "2021-11-29T05:30:09.538364Z"
    },
    "papermill": {
     "duration": 0.978856,
     "end_time": "2021-11-29T05:30:09.538928",
     "exception": false,
     "start_time": "2021-11-29T05:30:08.560072",
     "status": "completed"
    },
    "tags": []
   },
   "outputs": [],
   "source": [
    "timestamps = pd.read_sql(\"select distinct record_time from EBAY_TOP_BERLIN order by record_time desc limit 2\", sqlite3.connect(\"UsedObjects.db\"))"
   ]
  },
  {
   "cell_type": "code",
   "execution_count": 3,
   "id": "periodic-identification",
   "metadata": {
    "execution": {
     "iopub.execute_input": "2021-11-29T05:30:09.606527Z",
     "iopub.status.busy": "2021-11-29T05:30:09.604417Z",
     "iopub.status.idle": "2021-11-29T05:30:09.624301Z",
     "shell.execute_reply": "2021-11-29T05:30:09.625796Z"
    },
    "papermill": {
     "duration": 0.06708,
     "end_time": "2021-11-29T05:30:09.626251",
     "exception": false,
     "start_time": "2021-11-29T05:30:09.559171",
     "status": "completed"
    },
    "tags": []
   },
   "outputs": [
    {
     "data": {
      "text/html": [
       "<div>\n",
       "<style scoped>\n",
       "    .dataframe tbody tr th:only-of-type {\n",
       "        vertical-align: middle;\n",
       "    }\n",
       "\n",
       "    .dataframe tbody tr th {\n",
       "        vertical-align: top;\n",
       "    }\n",
       "\n",
       "    .dataframe thead th {\n",
       "        text-align: right;\n",
       "    }\n",
       "</style>\n",
       "<table border=\"1\" class=\"dataframe\">\n",
       "  <thead>\n",
       "    <tr style=\"text-align: right;\">\n",
       "      <th></th>\n",
       "      <th>RECORD_TIME</th>\n",
       "    </tr>\n",
       "  </thead>\n",
       "  <tbody>\n",
       "    <tr>\n",
       "      <th>0</th>\n",
       "      <td>2021-11-29 06:30</td>\n",
       "    </tr>\n",
       "    <tr>\n",
       "      <th>1</th>\n",
       "      <td>2021-11-29 06:00</td>\n",
       "    </tr>\n",
       "  </tbody>\n",
       "</table>\n",
       "</div>"
      ],
      "text/plain": [
       "        RECORD_TIME\n",
       "0  2021-11-29 06:30\n",
       "1  2021-11-29 06:00"
      ]
     },
     "execution_count": 3,
     "metadata": {},
     "output_type": "execute_result"
    }
   ],
   "source": [
    "timestamps"
   ]
  },
  {
   "cell_type": "code",
   "execution_count": 4,
   "id": "alternate-victory",
   "metadata": {
    "execution": {
     "iopub.execute_input": "2021-11-29T05:30:09.678890Z",
     "iopub.status.busy": "2021-11-29T05:30:09.676608Z",
     "iopub.status.idle": "2021-11-29T05:30:11.012192Z",
     "shell.execute_reply": "2021-11-29T05:30:11.013797Z"
    },
    "papermill": {
     "duration": 1.366495,
     "end_time": "2021-11-29T05:30:11.014272",
     "exception": false,
     "start_time": "2021-11-29T05:30:09.647777",
     "status": "completed"
    },
    "tags": []
   },
   "outputs": [],
   "source": [
    "df = pd.read_sql(\"select * from EBAY_TOP_BERLIN where record_time in (select distinct record_time from EBAY_TOP_BERLIN order by record_time desc limit 2)\", sqlite3.connect(\"UsedObjects.db\"))"
   ]
  },
  {
   "cell_type": "code",
   "execution_count": 5,
   "id": "popular-active",
   "metadata": {
    "execution": {
     "iopub.execute_input": "2021-11-29T05:30:11.094720Z",
     "iopub.status.busy": "2021-11-29T05:30:11.081522Z",
     "iopub.status.idle": "2021-11-29T05:30:11.114927Z",
     "shell.execute_reply": "2021-11-29T05:30:11.113572Z"
    },
    "papermill": {
     "duration": 0.080322,
     "end_time": "2021-11-29T05:30:11.115333",
     "exception": false,
     "start_time": "2021-11-29T05:30:11.035011",
     "status": "completed"
    },
    "tags": []
   },
   "outputs": [],
   "source": [
    "df_pivot = df.pivot_table(index=\"PRODUCT\", columns = \"RECORD_TIME\", values = \"LISTING_COUNT\")"
   ]
  },
  {
   "cell_type": "code",
   "execution_count": 6,
   "id": "union-huntington",
   "metadata": {
    "execution": {
     "iopub.execute_input": "2021-11-29T05:30:11.183230Z",
     "iopub.status.busy": "2021-11-29T05:30:11.180572Z",
     "iopub.status.idle": "2021-11-29T05:30:11.187041Z",
     "shell.execute_reply": "2021-11-29T05:30:11.188402Z"
    },
    "papermill": {
     "duration": 0.050952,
     "end_time": "2021-11-29T05:30:11.188954",
     "exception": false,
     "start_time": "2021-11-29T05:30:11.138002",
     "status": "completed"
    },
    "tags": []
   },
   "outputs": [],
   "source": [
    "df_pivot.columns = [\"stamp_1\", \"stamp_2\"]\n",
    "df_pivot_diff = df_pivot.diff(axis=1)"
   ]
  },
  {
   "cell_type": "code",
   "execution_count": 7,
   "id": "fifth-motion",
   "metadata": {
    "execution": {
     "iopub.execute_input": "2021-11-29T05:30:11.246844Z",
     "iopub.status.busy": "2021-11-29T05:30:11.244312Z",
     "iopub.status.idle": "2021-11-29T05:30:13.236093Z",
     "shell.execute_reply": "2021-11-29T05:30:13.238638Z"
    },
    "papermill": {
     "duration": 2.028676,
     "end_time": "2021-11-29T05:30:13.239571",
     "exception": false,
     "start_time": "2021-11-29T05:30:11.210895",
     "status": "completed"
    },
    "tags": []
   },
   "outputs": [
    {
     "data": {
      "text/plain": [
       "<AxesSubplot:ylabel='PRODUCT'>"
      ]
     },
     "execution_count": 7,
     "metadata": {},
     "output_type": "execute_result"
    },
    {
     "data": {
      "image/png": "[encoded data removed]",
      "text/plain": [
       "<Figure size 432x288 with 1 Axes>"
      ]
     },
     "metadata": {
      "needs_background": "light"
     },
     "output_type": "display_data"
    }
   ],
   "source": [
    "df_pivot_diff.sort_values(\"stamp_2\", ascending = False)[\"stamp_2\"].head(10).plot.barh()"
   ]
  },
  {
   "cell_type": "code",
   "execution_count": null,
   "id": "extra-executive",
   "metadata": {
    "papermill": {
     "duration": 0.030404,
     "end_time": "2021-11-29T05:30:13.307775",
     "exception": false,
     "start_time": "2021-11-29T05:30:13.277371",
     "status": "completed"
    },
    "tags": []
   },
   "outputs": [],
   "source": []
  }
 ],
 "metadata": {
  "kernelspec": {
   "display_name": "Python 3",
   "language": "python",
   "name": "python3"
  },
  "language_info": {
   "codemirror_mode": {
    "name": "ipython",
    "version": 3
   },
   "file_extension": ".py",
   "mimetype": "text/x-python",
   "name": "python",
   "nbconvert_exporter": "python",
   "pygments_lexer": "ipython3",
   "version": "3.9.5"
  },
  "papermill": {
   "default_parameters": {},
   "duration": 9.938257,
   "end_time": "2021-11-29T05:30:14.734454",
   "environment_variables": {},
   "exception": null,
   "input_path": "eBay_Overview.ipynb",
   "output_path": "eBay_Overview.ipynb",
   "parameters": {},
   "start_time": "2021-11-29T05:30:04.796197",
   "version": "2.3.3"
  }
 },
 "nbformat": 4,
 "nbformat_minor": 5
}