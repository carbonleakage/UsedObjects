{
 "cells": [
  {
   "cell_type": "code",
   "execution_count": 1,
   "id": "reverse-picking",
   "metadata": {
    "execution": {
     "iopub.execute_input": "2021-08-10T07:00:03.919776Z",
     "iopub.status.busy": "2021-08-10T07:00:03.919000Z",
     "iopub.status.idle": "2021-08-10T07:00:04.555459Z",
     "shell.execute_reply": "2021-08-10T07:00:04.556002Z"
    },
    "papermill": {
     "duration": 0.655988,
     "end_time": "2021-08-10T07:00:04.556278",
     "exception": false,
     "start_time": "2021-08-10T07:00:03.900290",
     "status": "completed"
    },
    "tags": []
   },
   "outputs": [],
   "source": [
    "import pandas as pd\n",
    "import sqlite3"
   ]
  },
  {
   "cell_type": "code",
   "execution_count": 2,
   "id": "innovative-syndrome",
   "metadata": {
    "execution": {
     "iopub.execute_input": "2021-08-10T07:00:04.579149Z",
     "iopub.status.busy": "2021-08-10T07:00:04.578381Z",
     "iopub.status.idle": "2021-08-10T07:00:04.811854Z",
     "shell.execute_reply": "2021-08-10T07:00:04.812389Z"
    },
    "papermill": {
     "duration": 0.246676,
     "end_time": "2021-08-10T07:00:04.812572",
     "exception": false,
     "start_time": "2021-08-10T07:00:04.565896",
     "status": "completed"
    },
    "tags": []
   },
   "outputs": [],
   "source": [
    "timestamps = pd.read_sql(\"select distinct record_time from EBAY_TOP_BERLIN order by record_time desc limit 2\", sqlite3.connect(\"UsedObjects.db\"))"
   ]
  },
  {
   "cell_type": "code",
   "execution_count": 3,
   "id": "periodic-identification",
   "metadata": {
    "execution": {
     "iopub.execute_input": "2021-08-10T07:00:04.845741Z",
     "iopub.status.busy": "2021-08-10T07:00:04.844923Z",
     "iopub.status.idle": "2021-08-10T07:00:04.856327Z",
     "shell.execute_reply": "2021-08-10T07:00:04.855590Z"
    },
    "papermill": {
     "duration": 0.031299,
     "end_time": "2021-08-10T07:00:04.856479",
     "exception": false,
     "start_time": "2021-08-10T07:00:04.825180",
     "status": "completed"
    },
    "tags": []
   },
   "outputs": [
    {
     "data": {
      "text/html": [
       "<div>\n",
       "<style scoped>\n",
       "    .dataframe tbody tr th:only-of-type {\n",
       "        vertical-align: middle;\n",
       "    }\n",
       "\n",
       "    .dataframe tbody tr th {\n",
       "        vertical-align: top;\n",
       "    }\n",
       "\n",
       "    .dataframe thead th {\n",
       "        text-align: right;\n",
       "    }\n",
       "</style>\n",
       "<table border=\"1\" class=\"dataframe\">\n",
       "  <thead>\n",
       "    <tr style=\"text-align: right;\">\n",
       "      <th></th>\n",
       "      <th>RECORD_TIME</th>\n",
       "    </tr>\n",
       "  </thead>\n",
       "  <tbody>\n",
       "    <tr>\n",
       "      <th>0</th>\n",
       "      <td>2021-08-10 09:00</td>\n",
       "    </tr>\n",
       "    <tr>\n",
       "      <th>1</th>\n",
       "      <td>2021-08-10 08:30</td>\n",
       "    </tr>\n",
       "  </tbody>\n",
       "</table>\n",
       "</div>"
      ],
      "text/plain": [
       "        RECORD_TIME\n",
       "0  2021-08-10 09:00\n",
       "1  2021-08-10 08:30"
      ]
     },
     "execution_count": 3,
     "metadata": {},
     "output_type": "execute_result"
    }
   ],
   "source": [
    "timestamps"
   ]
  },
  {
   "cell_type": "code",
   "execution_count": 4,
   "id": "alternate-victory",
   "metadata": {
    "execution": {
     "iopub.execute_input": "2021-08-10T07:00:04.880340Z",
     "iopub.status.busy": "2021-08-10T07:00:04.879561Z",
     "iopub.status.idle": "2021-08-10T07:00:04.894927Z",
     "shell.execute_reply": "2021-08-10T07:00:04.895798Z"
    },
    "papermill": {
     "duration": 0.029115,
     "end_time": "2021-08-10T07:00:04.896025",
     "exception": false,
     "start_time": "2021-08-10T07:00:04.866910",
     "status": "completed"
    },
    "tags": []
   },
   "outputs": [],
   "source": [
    "df = pd.read_sql(\"select * from EBAY_TOP_BERLIN where record_time in (select distinct record_time from EBAY_TOP_BERLIN order by record_time desc limit 2)\", sqlite3.connect(\"UsedObjects.db\"))"
   ]
  },
  {
   "cell_type": "code",
   "execution_count": 5,
   "id": "popular-active",
   "metadata": {
    "execution": {
     "iopub.execute_input": "2021-08-10T07:00:04.928082Z",
     "iopub.status.busy": "2021-08-10T07:00:04.927220Z",
     "iopub.status.idle": "2021-08-10T07:00:04.949200Z",
     "shell.execute_reply": "2021-08-10T07:00:04.948135Z"
    },
    "papermill": {
     "duration": 0.039911,
     "end_time": "2021-08-10T07:00:04.949477",
     "exception": false,
     "start_time": "2021-08-10T07:00:04.909566",
     "status": "completed"
    },
    "tags": []
   },
   "outputs": [],
   "source": [
    "df_pivot = df.pivot_table(index=\"PRODUCT\", columns = \"RECORD_TIME\", values = \"LISTING_COUNT\")"
   ]
  },
  {
   "cell_type": "code",
   "execution_count": 6,
   "id": "union-huntington",
   "metadata": {
    "execution": {
     "iopub.execute_input": "2021-08-10T07:00:04.984479Z",
     "iopub.status.busy": "2021-08-10T07:00:04.983549Z",
     "iopub.status.idle": "2021-08-10T07:00:04.986989Z",
     "shell.execute_reply": "2021-08-10T07:00:04.986335Z"
    },
    "papermill": {
     "duration": 0.024547,
     "end_time": "2021-08-10T07:00:04.987144",
     "exception": false,
     "start_time": "2021-08-10T07:00:04.962597",
     "status": "completed"
    },
    "tags": []
   },
   "outputs": [],
   "source": [
    "df_pivot.columns = [\"stamp_1\", \"stamp_2\"]\n",
    "df_pivot_diff = df_pivot.diff(axis=1)"
   ]
  },
  {
   "cell_type": "code",
   "execution_count": 7,
   "id": "fifth-motion",
   "metadata": {
    "execution": {
     "iopub.execute_input": "2021-08-10T07:00:05.016860Z",
     "iopub.status.busy": "2021-08-10T07:00:05.016106Z",
     "iopub.status.idle": "2021-08-10T07:00:05.733062Z",
     "shell.execute_reply": "2021-08-10T07:00:05.732229Z"
    },
    "papermill": {
     "duration": 0.737892,
     "end_time": "2021-08-10T07:00:05.733256",
     "exception": false,
     "start_time": "2021-08-10T07:00:04.995364",
     "status": "completed"
    },
    "tags": []
   },
   "outputs": [
    {
     "data": {
      "text/plain": [
       "<AxesSubplot:ylabel='PRODUCT'>"
      ]
     },
     "execution_count": 7,
     "metadata": {},
     "output_type": "execute_result"
    },
    {
     "data": {
      "image/png": "[encoded data removed]",
      "text/plain": [
       "<Figure size 432x288 with 1 Axes>"
      ]
     },
     "metadata": {
      "needs_background": "light"
     },
     "output_type": "display_data"
    }
   ],
   "source": [
    "df_pivot_diff.sort_values(\"stamp_2\", ascending = False)[\"stamp_2\"].head(10).plot.barh()"
   ]
  },
  {
   "cell_type": "code",
   "execution_count": null,
   "id": "extra-executive",
   "metadata": {
    "papermill": {
     "duration": 0.009314,
     "end_time": "2021-08-10T07:00:05.752730",
     "exception": false,
     "start_time": "2021-08-10T07:00:05.743416",
     "status": "completed"
    },
    "tags": []
   },
   "outputs": [],
   "source": []
  }
 ],
 "metadata": {
  "kernelspec": {
   "display_name": "Python 3",
   "language": "python",
   "name": "python3"
  },
  "language_info": {
   "codemirror_mode": {
    "name": "ipython",
    "version": 3
   },
   "file_extension": ".py",
   "mimetype": "text/x-python",
   "name": "python",
   "nbconvert_exporter": "python",
   "pygments_lexer": "ipython3",
   "version": "3.8.8"
  },
  "papermill": {
   "default_parameters": {},
   "duration": 4.247307,
   "end_time": "2021-08-10T07:00:06.514931",
   "environment_variables": {},
   "exception": null,
   "input_path": "/Users/saravananshanmugam/Carbonleakage_Git/UsedObjects/eBay_Overview.ipynb",
   "output_path": "/Users/saravananshanmugam/Carbonleakage_Git/UsedObjects/eBay_Overview.ipynb",
   "parameters": {},
   "start_time": "2021-08-10T07:00:02.267624",
   "version": "2.3.3"
  }
 },
 "nbformat": 4,
 "nbformat_minor": 5
}