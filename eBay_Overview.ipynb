{
 "cells": [
  {
   "cell_type": "code",
   "execution_count": 1,
   "id": "reverse-picking",
   "metadata": {
    "execution": {
     "iopub.execute_input": "2021-11-30T10:00:07.394597Z",
     "iopub.status.busy": "2021-11-30T10:00:07.392249Z",
     "iopub.status.idle": "2021-11-30T10:00:08.338782Z",
     "shell.execute_reply": "2021-11-30T10:00:08.340285Z"
    },
    "papermill": {
     "duration": 0.996686,
     "end_time": "2021-11-30T10:00:08.341081",
     "exception": false,
     "start_time": "2021-11-30T10:00:07.344395",
     "status": "completed"
    },
    "tags": []
   },
   "outputs": [],
   "source": [
    "import pandas as pd\n",
    "import sqlite3"
   ]
  },
  {
   "cell_type": "code",
   "execution_count": 2,
   "id": "innovative-syndrome",
   "metadata": {
    "execution": {
     "iopub.execute_input": "2021-11-30T10:00:08.416378Z",
     "iopub.status.busy": "2021-11-30T10:00:08.413367Z",
     "iopub.status.idle": "2021-11-30T10:00:09.362341Z",
     "shell.execute_reply": "2021-11-30T10:00:09.363562Z"
    },
    "papermill": {
     "duration": 0.995095,
     "end_time": "2021-11-30T10:00:09.363965",
     "exception": false,
     "start_time": "2021-11-30T10:00:08.368870",
     "status": "completed"
    },
    "tags": []
   },
   "outputs": [],
   "source": [
    "timestamps = pd.read_sql(\"select distinct record_time from EBAY_TOP_BERLIN order by record_time desc limit 2\", sqlite3.connect(\"UsedObjects.db\"))"
   ]
  },
  {
   "cell_type": "code",
   "execution_count": 3,
   "id": "periodic-identification",
   "metadata": {
    "execution": {
     "iopub.execute_input": "2021-11-30T10:00:09.434910Z",
     "iopub.status.busy": "2021-11-30T10:00:09.429703Z",
     "iopub.status.idle": "2021-11-30T10:00:09.449956Z",
     "shell.execute_reply": "2021-11-30T10:00:09.451155Z"
    },
    "papermill": {
     "duration": 0.065949,
     "end_time": "2021-11-30T10:00:09.451594",
     "exception": false,
     "start_time": "2021-11-30T10:00:09.385645",
     "status": "completed"
    },
    "tags": []
   },
   "outputs": [
    {
     "data": {
      "text/html": [
       "<div>\n",
       "<style scoped>\n",
       "    .dataframe tbody tr th:only-of-type {\n",
       "        vertical-align: middle;\n",
       "    }\n",
       "\n",
       "    .dataframe tbody tr th {\n",
       "        vertical-align: top;\n",
       "    }\n",
       "\n",
       "    .dataframe thead th {\n",
       "        text-align: right;\n",
       "    }\n",
       "</style>\n",
       "<table border=\"1\" class=\"dataframe\">\n",
       "  <thead>\n",
       "    <tr style=\"text-align: right;\">\n",
       "      <th></th>\n",
       "      <th>RECORD_TIME</th>\n",
       "    </tr>\n",
       "  </thead>\n",
       "  <tbody>\n",
       "    <tr>\n",
       "      <th>0</th>\n",
       "      <td>2021-11-30 11:00</td>\n",
       "    </tr>\n",
       "    <tr>\n",
       "      <th>1</th>\n",
       "      <td>2021-11-30 10:30</td>\n",
       "    </tr>\n",
       "  </tbody>\n",
       "</table>\n",
       "</div>"
      ],
      "text/plain": [
       "        RECORD_TIME\n",
       "0  2021-11-30 11:00\n",
       "1  2021-11-30 10:30"
      ]
     },
     "execution_count": 3,
     "metadata": {},
     "output_type": "execute_result"
    }
   ],
   "source": [
    "timestamps"
   ]
  },
  {
   "cell_type": "code",
   "execution_count": 4,
   "id": "alternate-victory",
   "metadata": {
    "execution": {
     "iopub.execute_input": "2021-11-30T10:00:09.502220Z",
     "iopub.status.busy": "2021-11-30T10:00:09.500255Z",
     "iopub.status.idle": "2021-11-30T10:00:10.918486Z",
     "shell.execute_reply": "2021-11-30T10:00:10.921806Z"
    },
    "papermill": {
     "duration": 1.450331,
     "end_time": "2021-11-30T10:00:10.922407",
     "exception": false,
     "start_time": "2021-11-30T10:00:09.472076",
     "status": "completed"
    },
    "tags": []
   },
   "outputs": [],
   "source": [
    "df = pd.read_sql(\"select * from EBAY_TOP_BERLIN where record_time in (select distinct record_time from EBAY_TOP_BERLIN order by record_time desc limit 2)\", sqlite3.connect(\"UsedObjects.db\"))"
   ]
  },
  {
   "cell_type": "code",
   "execution_count": 5,
   "id": "popular-active",
   "metadata": {
    "execution": {
     "iopub.execute_input": "2021-11-30T10:00:10.988308Z",
     "iopub.status.busy": "2021-11-30T10:00:10.985999Z",
     "iopub.status.idle": "2021-11-30T10:00:11.016847Z",
     "shell.execute_reply": "2021-11-30T10:00:11.018328Z"
    },
    "papermill": {
     "duration": 0.074287,
     "end_time": "2021-11-30T10:00:11.018795",
     "exception": false,
     "start_time": "2021-11-30T10:00:10.944508",
     "status": "completed"
    },
    "tags": []
   },
   "outputs": [],
   "source": [
    "df_pivot = df.pivot_table(index=\"PRODUCT\", columns = \"RECORD_TIME\", values = \"LISTING_COUNT\")"
   ]
  },
  {
   "cell_type": "code",
   "execution_count": 6,
   "id": "union-huntington",
   "metadata": {
    "execution": {
     "iopub.execute_input": "2021-11-30T10:00:11.076944Z",
     "iopub.status.busy": "2021-11-30T10:00:11.074734Z",
     "iopub.status.idle": "2021-11-30T10:00:11.079647Z",
     "shell.execute_reply": "2021-11-30T10:00:11.081549Z"
    },
    "papermill": {
     "duration": 0.043314,
     "end_time": "2021-11-30T10:00:11.082021",
     "exception": false,
     "start_time": "2021-11-30T10:00:11.038707",
     "status": "completed"
    },
    "tags": []
   },
   "outputs": [],
   "source": [
    "df_pivot.columns = [\"stamp_1\", \"stamp_2\"]\n",
    "df_pivot_diff = df_pivot.diff(axis=1)"
   ]
  },
  {
   "cell_type": "code",
   "execution_count": 7,
   "id": "fifth-motion",
   "metadata": {
    "execution": {
     "iopub.execute_input": "2021-11-30T10:00:11.136293Z",
     "iopub.status.busy": "2021-11-30T10:00:11.130780Z",
     "iopub.status.idle": "2021-11-30T10:00:13.139819Z",
     "shell.execute_reply": "2021-11-30T10:00:13.141340Z"
    },
    "papermill": {
     "duration": 2.038383,
     "end_time": "2021-11-30T10:00:13.141846",
     "exception": false,
     "start_time": "2021-11-30T10:00:11.103463",
     "status": "completed"
    },
    "tags": []
   },
   "outputs": [
    {
     "data": {
      "text/plain": [
       "<AxesSubplot:ylabel='PRODUCT'>"
      ]
     },
     "execution_count": 7,
     "metadata": {},
     "output_type": "execute_result"
    },
    {
     "data": {
      "image/png": "[encoded data removed]",
      "text/plain": [
       "<Figure size 432x288 with 1 Axes>"
      ]
     },
     "metadata": {
      "needs_background": "light"
     },
     "output_type": "display_data"
    }
   ],
   "source": [
    "df_pivot_diff.sort_values(\"stamp_2\", ascending = False)[\"stamp_2\"].head(10).plot.barh()"
   ]
  },
  {
   "cell_type": "code",
   "execution_count": null,
   "id": "extra-executive",
   "metadata": {
    "papermill": {
     "duration": 0.024035,
     "end_time": "2021-11-30T10:00:13.190461",
     "exception": false,
     "start_time": "2021-11-30T10:00:13.166426",
     "status": "completed"
    },
    "tags": []
   },
   "outputs": [],
   "source": []
  }
 ],
 "metadata": {
  "kernelspec": {
   "display_name": "Python 3",
   "language": "python",
   "name": "python3"
  },
  "language_info": {
   "codemirror_mode": {
    "name": "ipython",
    "version": 3
   },
   "file_extension": ".py",
   "mimetype": "text/x-python",
   "name": "python",
   "nbconvert_exporter": "python",
   "pygments_lexer": "ipython3",
   "version": "3.9.5"
  },
  "papermill": {
   "default_parameters": {},
   "duration": 9.938466,
   "end_time": "2021-11-30T10:00:14.562194",
   "environment_variables": {},
   "exception": null,
   "input_path": "eBay_Overview.ipynb",
   "output_path": "eBay_Overview.ipynb",
   "parameters": {},
   "start_time": "2021-11-30T10:00:04.623728",
   "version": "2.3.3"
  }
 },
 "nbformat": 4,
 "nbformat_minor": 5
}