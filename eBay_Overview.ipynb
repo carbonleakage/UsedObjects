{
 "cells": [
  {
   "cell_type": "code",
   "execution_count": 1,
   "id": "reverse-picking",
   "metadata": {
    "execution": {
     "iopub.execute_input": "2021-08-28T18:30:07.454169Z",
     "iopub.status.busy": "2021-08-28T18:30:07.452193Z",
     "iopub.status.idle": "2021-08-28T18:30:08.255959Z",
     "shell.execute_reply": "2021-08-28T18:30:08.257364Z"
    },
    "papermill": {
     "duration": 0.855487,
     "end_time": "2021-08-28T18:30:08.258016",
     "exception": false,
     "start_time": "2021-08-28T18:30:07.402529",
     "status": "completed"
    },
    "tags": []
   },
   "outputs": [],
   "source": [
    "import pandas as pd\n",
    "import sqlite3"
   ]
  },
  {
   "cell_type": "code",
   "execution_count": 2,
   "id": "innovative-syndrome",
   "metadata": {
    "execution": {
     "iopub.execute_input": "2021-08-28T18:30:08.308340Z",
     "iopub.status.busy": "2021-08-28T18:30:08.306326Z",
     "iopub.status.idle": "2021-08-28T18:30:08.455098Z",
     "shell.execute_reply": "2021-08-28T18:30:08.456214Z"
    },
    "papermill": {
     "duration": 0.178694,
     "end_time": "2021-08-28T18:30:08.456813",
     "exception": false,
     "start_time": "2021-08-28T18:30:08.278119",
     "status": "completed"
    },
    "tags": []
   },
   "outputs": [],
   "source": [
    "timestamps = pd.read_sql(\"select distinct record_time from EBAY_TOP_BERLIN order by record_time desc limit 2\", sqlite3.connect(\"UsedObjects.db\"))"
   ]
  },
  {
   "cell_type": "code",
   "execution_count": 3,
   "id": "periodic-identification",
   "metadata": {
    "execution": {
     "iopub.execute_input": "2021-08-28T18:30:08.525075Z",
     "iopub.status.busy": "2021-08-28T18:30:08.522999Z",
     "iopub.status.idle": "2021-08-28T18:30:08.542945Z",
     "shell.execute_reply": "2021-08-28T18:30:08.544290Z"
    },
    "papermill": {
     "duration": 0.066457,
     "end_time": "2021-08-28T18:30:08.544738",
     "exception": false,
     "start_time": "2021-08-28T18:30:08.478281",
     "status": "completed"
    },
    "tags": []
   },
   "outputs": [
    {
     "data": {
      "text/html": [
       "<div>\n",
       "<style scoped>\n",
       "    .dataframe tbody tr th:only-of-type {\n",
       "        vertical-align: middle;\n",
       "    }\n",
       "\n",
       "    .dataframe tbody tr th {\n",
       "        vertical-align: top;\n",
       "    }\n",
       "\n",
       "    .dataframe thead th {\n",
       "        text-align: right;\n",
       "    }\n",
       "</style>\n",
       "<table border=\"1\" class=\"dataframe\">\n",
       "  <thead>\n",
       "    <tr style=\"text-align: right;\">\n",
       "      <th></th>\n",
       "      <th>RECORD_TIME</th>\n",
       "    </tr>\n",
       "  </thead>\n",
       "  <tbody>\n",
       "    <tr>\n",
       "      <th>0</th>\n",
       "      <td>2021-08-28 20:30</td>\n",
       "    </tr>\n",
       "    <tr>\n",
       "      <th>1</th>\n",
       "      <td>2021-08-28 20:00</td>\n",
       "    </tr>\n",
       "  </tbody>\n",
       "</table>\n",
       "</div>"
      ],
      "text/plain": [
       "        RECORD_TIME\n",
       "0  2021-08-28 20:30\n",
       "1  2021-08-28 20:00"
      ]
     },
     "execution_count": 3,
     "metadata": {},
     "output_type": "execute_result"
    }
   ],
   "source": [
    "timestamps"
   ]
  },
  {
   "cell_type": "code",
   "execution_count": 4,
   "id": "alternate-victory",
   "metadata": {
    "execution": {
     "iopub.execute_input": "2021-08-28T18:30:08.595891Z",
     "iopub.status.busy": "2021-08-28T18:30:08.594065Z",
     "iopub.status.idle": "2021-08-28T18:30:08.820757Z",
     "shell.execute_reply": "2021-08-28T18:30:08.821985Z"
    },
    "papermill": {
     "duration": 0.256453,
     "end_time": "2021-08-28T18:30:08.822377",
     "exception": false,
     "start_time": "2021-08-28T18:30:08.565924",
     "status": "completed"
    },
    "tags": []
   },
   "outputs": [],
   "source": [
    "df = pd.read_sql(\"select * from EBAY_TOP_BERLIN where record_time in (select distinct record_time from EBAY_TOP_BERLIN order by record_time desc limit 2)\", sqlite3.connect(\"UsedObjects.db\"))"
   ]
  },
  {
   "cell_type": "code",
   "execution_count": 5,
   "id": "popular-active",
   "metadata": {
    "execution": {
     "iopub.execute_input": "2021-08-28T18:30:08.897532Z",
     "iopub.status.busy": "2021-08-28T18:30:08.890170Z",
     "iopub.status.idle": "2021-08-28T18:30:08.912506Z",
     "shell.execute_reply": "2021-08-28T18:30:08.913741Z"
    },
    "papermill": {
     "duration": 0.068455,
     "end_time": "2021-08-28T18:30:08.914135",
     "exception": false,
     "start_time": "2021-08-28T18:30:08.845680",
     "status": "completed"
    },
    "tags": []
   },
   "outputs": [],
   "source": [
    "df_pivot = df.pivot_table(index=\"PRODUCT\", columns = \"RECORD_TIME\", values = \"LISTING_COUNT\")"
   ]
  },
  {
   "cell_type": "code",
   "execution_count": 6,
   "id": "union-huntington",
   "metadata": {
    "execution": {
     "iopub.execute_input": "2021-08-28T18:30:08.980346Z",
     "iopub.status.busy": "2021-08-28T18:30:08.978181Z",
     "iopub.status.idle": "2021-08-28T18:30:08.983812Z",
     "shell.execute_reply": "2021-08-28T18:30:08.985321Z"
    },
    "papermill": {
     "duration": 0.044651,
     "end_time": "2021-08-28T18:30:08.985787",
     "exception": false,
     "start_time": "2021-08-28T18:30:08.941136",
     "status": "completed"
    },
    "tags": []
   },
   "outputs": [],
   "source": [
    "df_pivot.columns = [\"stamp_1\", \"stamp_2\"]\n",
    "df_pivot_diff = df_pivot.diff(axis=1)"
   ]
  },
  {
   "cell_type": "code",
   "execution_count": 7,
   "id": "fifth-motion",
   "metadata": {
    "execution": {
     "iopub.execute_input": "2021-08-28T18:30:09.041860Z",
     "iopub.status.busy": "2021-08-28T18:30:09.039161Z",
     "iopub.status.idle": "2021-08-28T18:30:10.512453Z",
     "shell.execute_reply": "2021-08-28T18:30:10.513763Z"
    },
    "papermill": {
     "duration": 1.506758,
     "end_time": "2021-08-28T18:30:10.514180",
     "exception": false,
     "start_time": "2021-08-28T18:30:09.007422",
     "status": "completed"
    },
    "tags": []
   },
   "outputs": [
    {
     "data": {
      "text/plain": [
       "<AxesSubplot:ylabel='PRODUCT'>"
      ]
     },
     "execution_count": 7,
     "metadata": {},
     "output_type": "execute_result"
    },
    {
     "data": {
      "image/png": "[encoded data removed]",
      "text/plain": [
       "<Figure size 432x288 with 1 Axes>"
      ]
     },
     "metadata": {
      "needs_background": "light"
     },
     "output_type": "display_data"
    }
   ],
   "source": [
    "df_pivot_diff.sort_values(\"stamp_2\", ascending = False)[\"stamp_2\"].head(10).plot.barh()"
   ]
  },
  {
   "cell_type": "code",
   "execution_count": null,
   "id": "extra-executive",
   "metadata": {
    "papermill": {
     "duration": 0.022079,
     "end_time": "2021-08-28T18:30:10.562428",
     "exception": false,
     "start_time": "2021-08-28T18:30:10.540349",
     "status": "completed"
    },
    "tags": []
   },
   "outputs": [],
   "source": []
  }
 ],
 "metadata": {
  "kernelspec": {
   "display_name": "Python 3",
   "language": "python",
   "name": "python3"
  },
  "language_info": {
   "codemirror_mode": {
    "name": "ipython",
    "version": 3
   },
   "file_extension": ".py",
   "mimetype": "text/x-python",
   "name": "python",
   "nbconvert_exporter": "python",
   "pygments_lexer": "ipython3",
   "version": "3.9.5"
  },
  "papermill": {
   "default_parameters": {},
   "duration": 6.820099,
   "end_time": "2021-08-28T18:30:11.816419",
   "environment_variables": {},
   "exception": null,
   "input_path": "eBay_Overview.ipynb",
   "output_path": "eBay_Overview.ipynb",
   "parameters": {},
   "start_time": "2021-08-28T18:30:04.996320",
   "version": "2.3.3"
  }
 },
 "nbformat": 4,
 "nbformat_minor": 5
}