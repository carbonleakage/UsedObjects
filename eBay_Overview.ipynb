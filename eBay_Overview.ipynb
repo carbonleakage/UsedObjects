{
 "cells": [
  {
   "cell_type": "code",
   "execution_count": 1,
   "id": "reverse-picking",
   "metadata": {
    "execution": {
     "iopub.execute_input": "2021-08-24T09:30:06.872458Z",
     "iopub.status.busy": "2021-08-24T09:30:06.870512Z",
     "iopub.status.idle": "2021-08-24T09:30:07.677224Z",
     "shell.execute_reply": "2021-08-24T09:30:07.678611Z"
    },
    "papermill": {
     "duration": 0.860052,
     "end_time": "2021-08-24T09:30:07.679248",
     "exception": false,
     "start_time": "2021-08-24T09:30:06.819196",
     "status": "completed"
    },
    "tags": []
   },
   "outputs": [],
   "source": [
    "import pandas as pd\n",
    "import sqlite3"
   ]
  },
  {
   "cell_type": "code",
   "execution_count": 2,
   "id": "innovative-syndrome",
   "metadata": {
    "execution": {
     "iopub.execute_input": "2021-08-24T09:30:07.732094Z",
     "iopub.status.busy": "2021-08-24T09:30:07.729860Z",
     "iopub.status.idle": "2021-08-24T09:30:07.849526Z",
     "shell.execute_reply": "2021-08-24T09:30:07.850879Z"
    },
    "papermill": {
     "duration": 0.149343,
     "end_time": "2021-08-24T09:30:07.851307",
     "exception": false,
     "start_time": "2021-08-24T09:30:07.701964",
     "status": "completed"
    },
    "tags": []
   },
   "outputs": [],
   "source": [
    "timestamps = pd.read_sql(\"select distinct record_time from EBAY_TOP_BERLIN order by record_time desc limit 2\", sqlite3.connect(\"UsedObjects.db\"))"
   ]
  },
  {
   "cell_type": "code",
   "execution_count": 3,
   "id": "periodic-identification",
   "metadata": {
    "execution": {
     "iopub.execute_input": "2021-08-24T09:30:07.919779Z",
     "iopub.status.busy": "2021-08-24T09:30:07.917689Z",
     "iopub.status.idle": "2021-08-24T09:30:07.937670Z",
     "shell.execute_reply": "2021-08-24T09:30:07.938946Z"
    },
    "papermill": {
     "duration": 0.066996,
     "end_time": "2021-08-24T09:30:07.939387",
     "exception": false,
     "start_time": "2021-08-24T09:30:07.872391",
     "status": "completed"
    },
    "tags": []
   },
   "outputs": [
    {
     "data": {
      "text/html": [
       "<div>\n",
       "<style scoped>\n",
       "    .dataframe tbody tr th:only-of-type {\n",
       "        vertical-align: middle;\n",
       "    }\n",
       "\n",
       "    .dataframe tbody tr th {\n",
       "        vertical-align: top;\n",
       "    }\n",
       "\n",
       "    .dataframe thead th {\n",
       "        text-align: right;\n",
       "    }\n",
       "</style>\n",
       "<table border=\"1\" class=\"dataframe\">\n",
       "  <thead>\n",
       "    <tr style=\"text-align: right;\">\n",
       "      <th></th>\n",
       "      <th>RECORD_TIME</th>\n",
       "    </tr>\n",
       "  </thead>\n",
       "  <tbody>\n",
       "    <tr>\n",
       "      <th>0</th>\n",
       "      <td>2021-08-24 11:30</td>\n",
       "    </tr>\n",
       "    <tr>\n",
       "      <th>1</th>\n",
       "      <td>2021-08-24 11:00</td>\n",
       "    </tr>\n",
       "  </tbody>\n",
       "</table>\n",
       "</div>"
      ],
      "text/plain": [
       "        RECORD_TIME\n",
       "0  2021-08-24 11:30\n",
       "1  2021-08-24 11:00"
      ]
     },
     "execution_count": 3,
     "metadata": {},
     "output_type": "execute_result"
    }
   ],
   "source": [
    "timestamps"
   ]
  },
  {
   "cell_type": "code",
   "execution_count": 4,
   "id": "alternate-victory",
   "metadata": {
    "execution": {
     "iopub.execute_input": "2021-08-24T09:30:07.993900Z",
     "iopub.status.busy": "2021-08-24T09:30:07.991634Z",
     "iopub.status.idle": "2021-08-24T09:30:08.170137Z",
     "shell.execute_reply": "2021-08-24T09:30:08.171563Z"
    },
    "papermill": {
     "duration": 0.209454,
     "end_time": "2021-08-24T09:30:08.172004",
     "exception": false,
     "start_time": "2021-08-24T09:30:07.962550",
     "status": "completed"
    },
    "tags": []
   },
   "outputs": [],
   "source": [
    "df = pd.read_sql(\"select * from EBAY_TOP_BERLIN where record_time in (select distinct record_time from EBAY_TOP_BERLIN order by record_time desc limit 2)\", sqlite3.connect(\"UsedObjects.db\"))"
   ]
  },
  {
   "cell_type": "code",
   "execution_count": 5,
   "id": "popular-active",
   "metadata": {
    "execution": {
     "iopub.execute_input": "2021-08-24T09:30:08.243733Z",
     "iopub.status.busy": "2021-08-24T09:30:08.231635Z",
     "iopub.status.idle": "2021-08-24T09:30:08.261039Z",
     "shell.execute_reply": "2021-08-24T09:30:08.262753Z"
    },
    "papermill": {
     "duration": 0.07004,
     "end_time": "2021-08-24T09:30:08.263244",
     "exception": false,
     "start_time": "2021-08-24T09:30:08.193204",
     "status": "completed"
    },
    "tags": []
   },
   "outputs": [],
   "source": [
    "df_pivot = df.pivot_table(index=\"PRODUCT\", columns = \"RECORD_TIME\", values = \"LISTING_COUNT\")"
   ]
  },
  {
   "cell_type": "code",
   "execution_count": 6,
   "id": "union-huntington",
   "metadata": {
    "execution": {
     "iopub.execute_input": "2021-08-24T09:30:08.327076Z",
     "iopub.status.busy": "2021-08-24T09:30:08.324865Z",
     "iopub.status.idle": "2021-08-24T09:30:08.330661Z",
     "shell.execute_reply": "2021-08-24T09:30:08.332234Z"
    },
    "papermill": {
     "duration": 0.043445,
     "end_time": "2021-08-24T09:30:08.332716",
     "exception": false,
     "start_time": "2021-08-24T09:30:08.289271",
     "status": "completed"
    },
    "tags": []
   },
   "outputs": [],
   "source": [
    "df_pivot.columns = [\"stamp_1\", \"stamp_2\"]\n",
    "df_pivot_diff = df_pivot.diff(axis=1)"
   ]
  },
  {
   "cell_type": "code",
   "execution_count": 7,
   "id": "fifth-motion",
   "metadata": {
    "execution": {
     "iopub.execute_input": "2021-08-24T09:30:08.388454Z",
     "iopub.status.busy": "2021-08-24T09:30:08.386208Z",
     "iopub.status.idle": "2021-08-24T09:30:09.859155Z",
     "shell.execute_reply": "2021-08-24T09:30:09.860462Z"
    },
    "papermill": {
     "duration": 1.50643,
     "end_time": "2021-08-24T09:30:09.860887",
     "exception": false,
     "start_time": "2021-08-24T09:30:08.354457",
     "status": "completed"
    },
    "tags": []
   },
   "outputs": [
    {
     "data": {
      "text/plain": [
       "<AxesSubplot:ylabel='PRODUCT'>"
      ]
     },
     "execution_count": 7,
     "metadata": {},
     "output_type": "execute_result"
    },
    {
     "data": {
      "image/png": "[encoded data removed]",
      "text/plain": [
       "<Figure size 432x288 with 1 Axes>"
      ]
     },
     "metadata": {
      "needs_background": "light"
     },
     "output_type": "display_data"
    }
   ],
   "source": [
    "df_pivot_diff.sort_values(\"stamp_2\", ascending = False)[\"stamp_2\"].head(10).plot.barh()"
   ]
  },
  {
   "cell_type": "code",
   "execution_count": null,
   "id": "extra-executive",
   "metadata": {
    "papermill": {
     "duration": 0.022382,
     "end_time": "2021-08-24T09:30:09.908266",
     "exception": false,
     "start_time": "2021-08-24T09:30:09.885884",
     "status": "completed"
    },
    "tags": []
   },
   "outputs": [],
   "source": []
  }
 ],
 "metadata": {
  "kernelspec": {
   "display_name": "Python 3",
   "language": "python",
   "name": "python3"
  },
  "language_info": {
   "codemirror_mode": {
    "name": "ipython",
    "version": 3
   },
   "file_extension": ".py",
   "mimetype": "text/x-python",
   "name": "python",
   "nbconvert_exporter": "python",
   "pygments_lexer": "ipython3",
   "version": "3.9.5"
  },
  "papermill": {
   "default_parameters": {},
   "duration": 6.823707,
   "end_time": "2021-08-24T09:30:11.230286",
   "environment_variables": {},
   "exception": null,
   "input_path": "eBay_Overview.ipynb",
   "output_path": "eBay_Overview.ipynb",
   "parameters": {},
   "start_time": "2021-08-24T09:30:04.406579",
   "version": "2.3.3"
  }
 },
 "nbformat": 4,
 "nbformat_minor": 5
}