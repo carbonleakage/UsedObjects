{
 "cells": [
  {
   "cell_type": "code",
   "execution_count": 1,
   "id": "reverse-picking",
   "metadata": {
    "execution": {
     "iopub.execute_input": "2021-09-01T02:00:06.883739Z",
     "iopub.status.busy": "2021-09-01T02:00:06.881745Z",
     "iopub.status.idle": "2021-09-01T02:00:07.684214Z",
     "shell.execute_reply": "2021-09-01T02:00:07.685656Z"
    },
    "papermill": {
     "duration": 0.854824,
     "end_time": "2021-09-01T02:00:07.686347",
     "exception": false,
     "start_time": "2021-09-01T02:00:06.831523",
     "status": "completed"
    },
    "tags": []
   },
   "outputs": [],
   "source": [
    "import pandas as pd\n",
    "import sqlite3"
   ]
  },
  {
   "cell_type": "code",
   "execution_count": 2,
   "id": "innovative-syndrome",
   "metadata": {
    "execution": {
     "iopub.execute_input": "2021-09-01T02:00:07.738015Z",
     "iopub.status.busy": "2021-09-01T02:00:07.735981Z",
     "iopub.status.idle": "2021-09-01T02:00:07.916167Z",
     "shell.execute_reply": "2021-09-01T02:00:07.917401Z"
    },
    "papermill": {
     "duration": 0.210547,
     "end_time": "2021-09-01T02:00:07.917793",
     "exception": false,
     "start_time": "2021-09-01T02:00:07.707246",
     "status": "completed"
    },
    "tags": []
   },
   "outputs": [],
   "source": [
    "timestamps = pd.read_sql(\"select distinct record_time from EBAY_TOP_BERLIN order by record_time desc limit 2\", sqlite3.connect(\"UsedObjects.db\"))"
   ]
  },
  {
   "cell_type": "code",
   "execution_count": 3,
   "id": "periodic-identification",
   "metadata": {
    "execution": {
     "iopub.execute_input": "2021-09-01T02:00:07.982622Z",
     "iopub.status.busy": "2021-09-01T02:00:07.980603Z",
     "iopub.status.idle": "2021-09-01T02:00:08.000612Z",
     "shell.execute_reply": "2021-09-01T02:00:08.001910Z"
    },
    "papermill": {
     "duration": 0.064888,
     "end_time": "2021-09-01T02:00:08.002326",
     "exception": false,
     "start_time": "2021-09-01T02:00:07.937438",
     "status": "completed"
    },
    "tags": []
   },
   "outputs": [
    {
     "data": {
      "text/html": [
       "<div>\n",
       "<style scoped>\n",
       "    .dataframe tbody tr th:only-of-type {\n",
       "        vertical-align: middle;\n",
       "    }\n",
       "\n",
       "    .dataframe tbody tr th {\n",
       "        vertical-align: top;\n",
       "    }\n",
       "\n",
       "    .dataframe thead th {\n",
       "        text-align: right;\n",
       "    }\n",
       "</style>\n",
       "<table border=\"1\" class=\"dataframe\">\n",
       "  <thead>\n",
       "    <tr style=\"text-align: right;\">\n",
       "      <th></th>\n",
       "      <th>RECORD_TIME</th>\n",
       "    </tr>\n",
       "  </thead>\n",
       "  <tbody>\n",
       "    <tr>\n",
       "      <th>0</th>\n",
       "      <td>2021-09-01 04:00</td>\n",
       "    </tr>\n",
       "    <tr>\n",
       "      <th>1</th>\n",
       "      <td>2021-09-01 03:30</td>\n",
       "    </tr>\n",
       "  </tbody>\n",
       "</table>\n",
       "</div>"
      ],
      "text/plain": [
       "        RECORD_TIME\n",
       "0  2021-09-01 04:00\n",
       "1  2021-09-01 03:30"
      ]
     },
     "execution_count": 3,
     "metadata": {},
     "output_type": "execute_result"
    }
   ],
   "source": [
    "timestamps"
   ]
  },
  {
   "cell_type": "code",
   "execution_count": 4,
   "id": "alternate-victory",
   "metadata": {
    "execution": {
     "iopub.execute_input": "2021-09-01T02:00:08.054399Z",
     "iopub.status.busy": "2021-09-01T02:00:08.052573Z",
     "iopub.status.idle": "2021-09-01T02:00:08.326186Z",
     "shell.execute_reply": "2021-09-01T02:00:08.327497Z"
    },
    "papermill": {
     "duration": 0.303957,
     "end_time": "2021-09-01T02:00:08.327906",
     "exception": false,
     "start_time": "2021-09-01T02:00:08.023949",
     "status": "completed"
    },
    "tags": []
   },
   "outputs": [],
   "source": [
    "df = pd.read_sql(\"select * from EBAY_TOP_BERLIN where record_time in (select distinct record_time from EBAY_TOP_BERLIN order by record_time desc limit 2)\", sqlite3.connect(\"UsedObjects.db\"))"
   ]
  },
  {
   "cell_type": "code",
   "execution_count": 5,
   "id": "popular-active",
   "metadata": {
    "execution": {
     "iopub.execute_input": "2021-09-01T02:00:08.410032Z",
     "iopub.status.busy": "2021-09-01T02:00:08.397604Z",
     "iopub.status.idle": "2021-09-01T02:00:08.425968Z",
     "shell.execute_reply": "2021-09-01T02:00:08.427297Z"
    },
    "papermill": {
     "duration": 0.071351,
     "end_time": "2021-09-01T02:00:08.427755",
     "exception": false,
     "start_time": "2021-09-01T02:00:08.356404",
     "status": "completed"
    },
    "tags": []
   },
   "outputs": [],
   "source": [
    "df_pivot = df.pivot_table(index=\"PRODUCT\", columns = \"RECORD_TIME\", values = \"LISTING_COUNT\")"
   ]
  },
  {
   "cell_type": "code",
   "execution_count": 6,
   "id": "union-huntington",
   "metadata": {
    "execution": {
     "iopub.execute_input": "2021-09-01T02:00:08.486646Z",
     "iopub.status.busy": "2021-09-01T02:00:08.484380Z",
     "iopub.status.idle": "2021-09-01T02:00:08.490343Z",
     "shell.execute_reply": "2021-09-01T02:00:08.491703Z"
    },
    "papermill": {
     "duration": 0.042272,
     "end_time": "2021-09-01T02:00:08.492126",
     "exception": false,
     "start_time": "2021-09-01T02:00:08.449854",
     "status": "completed"
    },
    "tags": []
   },
   "outputs": [],
   "source": [
    "df_pivot.columns = [\"stamp_1\", \"stamp_2\"]\n",
    "df_pivot_diff = df_pivot.diff(axis=1)"
   ]
  },
  {
   "cell_type": "code",
   "execution_count": 7,
   "id": "fifth-motion",
   "metadata": {
    "execution": {
     "iopub.execute_input": "2021-09-01T02:00:08.546358Z",
     "iopub.status.busy": "2021-09-01T02:00:08.544097Z",
     "iopub.status.idle": "2021-09-01T02:00:10.027862Z",
     "shell.execute_reply": "2021-09-01T02:00:10.029149Z"
    },
    "papermill": {
     "duration": 1.517184,
     "end_time": "2021-09-01T02:00:10.029565",
     "exception": false,
     "start_time": "2021-09-01T02:00:08.512381",
     "status": "completed"
    },
    "tags": []
   },
   "outputs": [
    {
     "data": {
      "text/plain": [
       "<AxesSubplot:ylabel='PRODUCT'>"
      ]
     },
     "execution_count": 7,
     "metadata": {},
     "output_type": "execute_result"
    },
    {
     "data": {
      "image/png": "[encoded data removed]",
      "text/plain": [
       "<Figure size 432x288 with 1 Axes>"
      ]
     },
     "metadata": {
      "needs_background": "light"
     },
     "output_type": "display_data"
    }
   ],
   "source": [
    "df_pivot_diff.sort_values(\"stamp_2\", ascending = False)[\"stamp_2\"].head(10).plot.barh()"
   ]
  },
  {
   "cell_type": "code",
   "execution_count": null,
   "id": "extra-executive",
   "metadata": {
    "papermill": {
     "duration": 0.022456,
     "end_time": "2021-09-01T02:00:10.076976",
     "exception": false,
     "start_time": "2021-09-01T02:00:10.054520",
     "status": "completed"
    },
    "tags": []
   },
   "outputs": [],
   "source": []
  }
 ],
 "metadata": {
  "kernelspec": {
   "display_name": "Python 3",
   "language": "python",
   "name": "python3"
  },
  "language_info": {
   "codemirror_mode": {
    "name": "ipython",
    "version": 3
   },
   "file_extension": ".py",
   "mimetype": "text/x-python",
   "name": "python",
   "nbconvert_exporter": "python",
   "pygments_lexer": "ipython3",
   "version": "3.9.5"
  },
  "papermill": {
   "default_parameters": {},
   "duration": 6.822397,
   "end_time": "2021-09-01T02:00:11.247156",
   "environment_variables": {},
   "exception": null,
   "input_path": "eBay_Overview.ipynb",
   "output_path": "eBay_Overview.ipynb",
   "parameters": {},
   "start_time": "2021-09-01T02:00:04.424759",
   "version": "2.3.3"
  }
 },
 "nbformat": 4,
 "nbformat_minor": 5
}