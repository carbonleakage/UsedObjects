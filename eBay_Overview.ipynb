{
 "cells": [
  {
   "cell_type": "code",
   "execution_count": 1,
   "id": "reverse-picking",
   "metadata": {
    "execution": {
     "iopub.execute_input": "2021-10-01T16:30:06.980765Z",
     "iopub.status.busy": "2021-10-01T16:30:06.978741Z",
     "iopub.status.idle": "2021-10-01T16:30:07.783986Z",
     "shell.execute_reply": "2021-10-01T16:30:07.785260Z"
    },
    "papermill": {
     "duration": 0.855875,
     "end_time": "2021-10-01T16:30:07.785869",
     "exception": false,
     "start_time": "2021-10-01T16:30:06.929994",
     "status": "completed"
    },
    "tags": []
   },
   "outputs": [],
   "source": [
    "import pandas as pd\n",
    "import sqlite3"
   ]
  },
  {
   "cell_type": "code",
   "execution_count": 2,
   "id": "innovative-syndrome",
   "metadata": {
    "execution": {
     "iopub.execute_input": "2021-10-01T16:30:07.839270Z",
     "iopub.status.busy": "2021-10-01T16:30:07.837126Z",
     "iopub.status.idle": "2021-10-01T16:30:08.264644Z",
     "shell.execute_reply": "2021-10-01T16:30:08.265854Z"
    },
    "papermill": {
     "duration": 0.457228,
     "end_time": "2021-10-01T16:30:08.266239",
     "exception": false,
     "start_time": "2021-10-01T16:30:07.809011",
     "status": "completed"
    },
    "tags": []
   },
   "outputs": [],
   "source": [
    "timestamps = pd.read_sql(\"select distinct record_time from EBAY_TOP_BERLIN order by record_time desc limit 2\", sqlite3.connect(\"UsedObjects.db\"))"
   ]
  },
  {
   "cell_type": "code",
   "execution_count": 3,
   "id": "periodic-identification",
   "metadata": {
    "execution": {
     "iopub.execute_input": "2021-10-01T16:30:08.331078Z",
     "iopub.status.busy": "2021-10-01T16:30:08.329012Z",
     "iopub.status.idle": "2021-10-01T16:30:08.348988Z",
     "shell.execute_reply": "2021-10-01T16:30:08.350192Z"
    },
    "papermill": {
     "duration": 0.064863,
     "end_time": "2021-10-01T16:30:08.350577",
     "exception": false,
     "start_time": "2021-10-01T16:30:08.285714",
     "status": "completed"
    },
    "tags": []
   },
   "outputs": [
    {
     "data": {
      "text/html": [
       "<div>\n",
       "<style scoped>\n",
       "    .dataframe tbody tr th:only-of-type {\n",
       "        vertical-align: middle;\n",
       "    }\n",
       "\n",
       "    .dataframe tbody tr th {\n",
       "        vertical-align: top;\n",
       "    }\n",
       "\n",
       "    .dataframe thead th {\n",
       "        text-align: right;\n",
       "    }\n",
       "</style>\n",
       "<table border=\"1\" class=\"dataframe\">\n",
       "  <thead>\n",
       "    <tr style=\"text-align: right;\">\n",
       "      <th></th>\n",
       "      <th>RECORD_TIME</th>\n",
       "    </tr>\n",
       "  </thead>\n",
       "  <tbody>\n",
       "    <tr>\n",
       "      <th>0</th>\n",
       "      <td>2021-10-01 18:30</td>\n",
       "    </tr>\n",
       "    <tr>\n",
       "      <th>1</th>\n",
       "      <td>2021-10-01 18:00</td>\n",
       "    </tr>\n",
       "  </tbody>\n",
       "</table>\n",
       "</div>"
      ],
      "text/plain": [
       "        RECORD_TIME\n",
       "0  2021-10-01 18:30\n",
       "1  2021-10-01 18:00"
      ]
     },
     "execution_count": 3,
     "metadata": {},
     "output_type": "execute_result"
    }
   ],
   "source": [
    "timestamps"
   ]
  },
  {
   "cell_type": "code",
   "execution_count": 4,
   "id": "alternate-victory",
   "metadata": {
    "execution": {
     "iopub.execute_input": "2021-10-01T16:30:08.403551Z",
     "iopub.status.busy": "2021-10-01T16:30:08.401199Z",
     "iopub.status.idle": "2021-10-01T16:30:09.026352Z",
     "shell.execute_reply": "2021-10-01T16:30:09.024981Z"
    },
    "papermill": {
     "duration": 0.654296,
     "end_time": "2021-10-01T16:30:09.026696",
     "exception": false,
     "start_time": "2021-10-01T16:30:08.372400",
     "status": "completed"
    },
    "tags": []
   },
   "outputs": [],
   "source": [
    "df = pd.read_sql(\"select * from EBAY_TOP_BERLIN where record_time in (select distinct record_time from EBAY_TOP_BERLIN order by record_time desc limit 2)\", sqlite3.connect(\"UsedObjects.db\"))"
   ]
  },
  {
   "cell_type": "code",
   "execution_count": 5,
   "id": "popular-active",
   "metadata": {
    "execution": {
     "iopub.execute_input": "2021-10-01T16:30:09.092416Z",
     "iopub.status.busy": "2021-10-01T16:30:09.084897Z",
     "iopub.status.idle": "2021-10-01T16:30:09.112480Z",
     "shell.execute_reply": "2021-10-01T16:30:09.113685Z"
    },
    "papermill": {
     "duration": 0.066805,
     "end_time": "2021-10-01T16:30:09.114069",
     "exception": false,
     "start_time": "2021-10-01T16:30:09.047264",
     "status": "completed"
    },
    "tags": []
   },
   "outputs": [],
   "source": [
    "df_pivot = df.pivot_table(index=\"PRODUCT\", columns = \"RECORD_TIME\", values = \"LISTING_COUNT\")"
   ]
  },
  {
   "cell_type": "code",
   "execution_count": 6,
   "id": "union-huntington",
   "metadata": {
    "execution": {
     "iopub.execute_input": "2021-10-01T16:30:09.173460Z",
     "iopub.status.busy": "2021-10-01T16:30:09.171039Z",
     "iopub.status.idle": "2021-10-01T16:30:09.177178Z",
     "shell.execute_reply": "2021-10-01T16:30:09.178541Z"
    },
    "papermill": {
     "duration": 0.042712,
     "end_time": "2021-10-01T16:30:09.179061",
     "exception": false,
     "start_time": "2021-10-01T16:30:09.136349",
     "status": "completed"
    },
    "tags": []
   },
   "outputs": [],
   "source": [
    "df_pivot.columns = [\"stamp_1\", \"stamp_2\"]\n",
    "df_pivot_diff = df_pivot.diff(axis=1)"
   ]
  },
  {
   "cell_type": "code",
   "execution_count": 7,
   "id": "fifth-motion",
   "metadata": {
    "execution": {
     "iopub.execute_input": "2021-10-01T16:30:09.233955Z",
     "iopub.status.busy": "2021-10-01T16:30:09.231775Z",
     "iopub.status.idle": "2021-10-01T16:30:10.698532Z",
     "shell.execute_reply": "2021-10-01T16:30:10.700173Z"
    },
    "papermill": {
     "duration": 1.499728,
     "end_time": "2021-10-01T16:30:10.700650",
     "exception": false,
     "start_time": "2021-10-01T16:30:09.200922",
     "status": "completed"
    },
    "tags": []
   },
   "outputs": [
    {
     "data": {
      "text/plain": [
       "<AxesSubplot:ylabel='PRODUCT'>"
      ]
     },
     "execution_count": 7,
     "metadata": {},
     "output_type": "execute_result"
    },
    {
     "data": {
      "image/png": "[encoded data removed]",
      "text/plain": [
       "<Figure size 432x288 with 1 Axes>"
      ]
     },
     "metadata": {
      "needs_background": "light"
     },
     "output_type": "display_data"
    }
   ],
   "source": [
    "df_pivot_diff.sort_values(\"stamp_2\", ascending = False)[\"stamp_2\"].head(10).plot.barh()"
   ]
  },
  {
   "cell_type": "code",
   "execution_count": null,
   "id": "extra-executive",
   "metadata": {
    "papermill": {
     "duration": 0.022324,
     "end_time": "2021-10-01T16:30:10.748247",
     "exception": false,
     "start_time": "2021-10-01T16:30:10.725923",
     "status": "completed"
    },
    "tags": []
   },
   "outputs": [],
   "source": []
  }
 ],
 "metadata": {
  "kernelspec": {
   "display_name": "Python 3",
   "language": "python",
   "name": "python3"
  },
  "language_info": {
   "codemirror_mode": {
    "name": "ipython",
    "version": 3
   },
   "file_extension": ".py",
   "mimetype": "text/x-python",
   "name": "python",
   "nbconvert_exporter": "python",
   "pygments_lexer": "ipython3",
   "version": "3.9.5"
  },
  "papermill": {
   "default_parameters": {},
   "duration": 7.821707,
   "end_time": "2021-10-01T16:30:12.352032",
   "environment_variables": {},
   "exception": null,
   "input_path": "eBay_Overview.ipynb",
   "output_path": "eBay_Overview.ipynb",
   "parameters": {},
   "start_time": "2021-10-01T16:30:04.530325",
   "version": "2.3.3"
  }
 },
 "nbformat": 4,
 "nbformat_minor": 5
}