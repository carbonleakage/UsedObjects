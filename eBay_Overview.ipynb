{
 "cells": [
  {
   "cell_type": "code",
   "execution_count": 1,
   "id": "reverse-picking",
   "metadata": {
    "execution": {
     "iopub.execute_input": "2021-09-03T03:00:07.261341Z",
     "iopub.status.busy": "2021-09-03T03:00:07.259400Z",
     "iopub.status.idle": "2021-09-03T03:00:08.063768Z",
     "shell.execute_reply": "2021-09-03T03:00:08.065114Z"
    },
    "papermill": {
     "duration": 0.858641,
     "end_time": "2021-09-03T03:00:08.065763",
     "exception": false,
     "start_time": "2021-09-03T03:00:07.207122",
     "status": "completed"
    },
    "tags": []
   },
   "outputs": [],
   "source": [
    "import pandas as pd\n",
    "import sqlite3"
   ]
  },
  {
   "cell_type": "code",
   "execution_count": 2,
   "id": "innovative-syndrome",
   "metadata": {
    "execution": {
     "iopub.execute_input": "2021-09-03T03:00:08.117707Z",
     "iopub.status.busy": "2021-09-03T03:00:08.115840Z",
     "iopub.status.idle": "2021-09-03T03:00:08.308793Z",
     "shell.execute_reply": "2021-09-03T03:00:08.309914Z"
    },
    "papermill": {
     "duration": 0.222534,
     "end_time": "2021-09-03T03:00:08.310332",
     "exception": false,
     "start_time": "2021-09-03T03:00:08.087798",
     "status": "completed"
    },
    "tags": []
   },
   "outputs": [],
   "source": [
    "timestamps = pd.read_sql(\"select distinct record_time from EBAY_TOP_BERLIN order by record_time desc limit 2\", sqlite3.connect(\"UsedObjects.db\"))"
   ]
  },
  {
   "cell_type": "code",
   "execution_count": 3,
   "id": "periodic-identification",
   "metadata": {
    "execution": {
     "iopub.execute_input": "2021-09-03T03:00:08.378330Z",
     "iopub.status.busy": "2021-09-03T03:00:08.376324Z",
     "iopub.status.idle": "2021-09-03T03:00:08.396520Z",
     "shell.execute_reply": "2021-09-03T03:00:08.398002Z"
    },
    "papermill": {
     "duration": 0.06634,
     "end_time": "2021-09-03T03:00:08.398525",
     "exception": false,
     "start_time": "2021-09-03T03:00:08.332185",
     "status": "completed"
    },
    "tags": []
   },
   "outputs": [
    {
     "data": {
      "text/html": [
       "<div>\n",
       "<style scoped>\n",
       "    .dataframe tbody tr th:only-of-type {\n",
       "        vertical-align: middle;\n",
       "    }\n",
       "\n",
       "    .dataframe tbody tr th {\n",
       "        vertical-align: top;\n",
       "    }\n",
       "\n",
       "    .dataframe thead th {\n",
       "        text-align: right;\n",
       "    }\n",
       "</style>\n",
       "<table border=\"1\" class=\"dataframe\">\n",
       "  <thead>\n",
       "    <tr style=\"text-align: right;\">\n",
       "      <th></th>\n",
       "      <th>RECORD_TIME</th>\n",
       "    </tr>\n",
       "  </thead>\n",
       "  <tbody>\n",
       "    <tr>\n",
       "      <th>0</th>\n",
       "      <td>2021-09-03 05:00</td>\n",
       "    </tr>\n",
       "    <tr>\n",
       "      <th>1</th>\n",
       "      <td>2021-09-03 04:30</td>\n",
       "    </tr>\n",
       "  </tbody>\n",
       "</table>\n",
       "</div>"
      ],
      "text/plain": [
       "        RECORD_TIME\n",
       "0  2021-09-03 05:00\n",
       "1  2021-09-03 04:30"
      ]
     },
     "execution_count": 3,
     "metadata": {},
     "output_type": "execute_result"
    }
   ],
   "source": [
    "timestamps"
   ]
  },
  {
   "cell_type": "code",
   "execution_count": 4,
   "id": "alternate-victory",
   "metadata": {
    "execution": {
     "iopub.execute_input": "2021-09-03T03:00:08.450916Z",
     "iopub.status.busy": "2021-09-03T03:00:08.449041Z",
     "iopub.status.idle": "2021-09-03T03:00:08.741468Z",
     "shell.execute_reply": "2021-09-03T03:00:08.742746Z"
    },
    "papermill": {
     "duration": 0.322588,
     "end_time": "2021-09-03T03:00:08.743243",
     "exception": false,
     "start_time": "2021-09-03T03:00:08.420655",
     "status": "completed"
    },
    "tags": []
   },
   "outputs": [],
   "source": [
    "df = pd.read_sql(\"select * from EBAY_TOP_BERLIN where record_time in (select distinct record_time from EBAY_TOP_BERLIN order by record_time desc limit 2)\", sqlite3.connect(\"UsedObjects.db\"))"
   ]
  },
  {
   "cell_type": "code",
   "execution_count": 5,
   "id": "popular-active",
   "metadata": {
    "execution": {
     "iopub.execute_input": "2021-09-03T03:00:08.824341Z",
     "iopub.status.busy": "2021-09-03T03:00:08.812796Z",
     "iopub.status.idle": "2021-09-03T03:00:08.840733Z",
     "shell.execute_reply": "2021-09-03T03:00:08.842100Z"
    },
    "papermill": {
     "duration": 0.0737,
     "end_time": "2021-09-03T03:00:08.842543",
     "exception": false,
     "start_time": "2021-09-03T03:00:08.768843",
     "status": "completed"
    },
    "tags": []
   },
   "outputs": [],
   "source": [
    "df_pivot = df.pivot_table(index=\"PRODUCT\", columns = \"RECORD_TIME\", values = \"LISTING_COUNT\")"
   ]
  },
  {
   "cell_type": "code",
   "execution_count": 6,
   "id": "union-huntington",
   "metadata": {
    "execution": {
     "iopub.execute_input": "2021-09-03T03:00:08.902454Z",
     "iopub.status.busy": "2021-09-03T03:00:08.900014Z",
     "iopub.status.idle": "2021-09-03T03:00:08.905867Z",
     "shell.execute_reply": "2021-09-03T03:00:08.907237Z"
    },
    "papermill": {
     "duration": 0.04255,
     "end_time": "2021-09-03T03:00:08.907678",
     "exception": false,
     "start_time": "2021-09-03T03:00:08.865128",
     "status": "completed"
    },
    "tags": []
   },
   "outputs": [],
   "source": [
    "df_pivot.columns = [\"stamp_1\", \"stamp_2\"]\n",
    "df_pivot_diff = df_pivot.diff(axis=1)"
   ]
  },
  {
   "cell_type": "code",
   "execution_count": 7,
   "id": "fifth-motion",
   "metadata": {
    "execution": {
     "iopub.execute_input": "2021-09-03T03:00:08.962269Z",
     "iopub.status.busy": "2021-09-03T03:00:08.959854Z",
     "iopub.status.idle": "2021-09-03T03:00:10.428360Z",
     "shell.execute_reply": "2021-09-03T03:00:10.429631Z"
    },
    "papermill": {
     "duration": 1.5016,
     "end_time": "2021-09-03T03:00:10.430052",
     "exception": false,
     "start_time": "2021-09-03T03:00:08.928452",
     "status": "completed"
    },
    "tags": []
   },
   "outputs": [
    {
     "data": {
      "text/plain": [
       "<AxesSubplot:ylabel='PRODUCT'>"
      ]
     },
     "execution_count": 7,
     "metadata": {},
     "output_type": "execute_result"
    },
    {
     "data": {
      "image/png": "[encoded data removed]",
      "text/plain": [
       "<Figure size 432x288 with 1 Axes>"
      ]
     },
     "metadata": {
      "needs_background": "light"
     },
     "output_type": "display_data"
    }
   ],
   "source": [
    "df_pivot_diff.sort_values(\"stamp_2\", ascending = False)[\"stamp_2\"].head(10).plot.barh()"
   ]
  },
  {
   "cell_type": "code",
   "execution_count": null,
   "id": "extra-executive",
   "metadata": {
    "papermill": {
     "duration": 0.022179,
     "end_time": "2021-09-03T03:00:10.476898",
     "exception": false,
     "start_time": "2021-09-03T03:00:10.454719",
     "status": "completed"
    },
    "tags": []
   },
   "outputs": [],
   "source": []
  }
 ],
 "metadata": {
  "kernelspec": {
   "display_name": "Python 3",
   "language": "python",
   "name": "python3"
  },
  "language_info": {
   "codemirror_mode": {
    "name": "ipython",
    "version": 3
   },
   "file_extension": ".py",
   "mimetype": "text/x-python",
   "name": "python",
   "nbconvert_exporter": "python",
   "pygments_lexer": "ipython3",
   "version": "3.9.5"
  },
  "papermill": {
   "default_parameters": {},
   "duration": 6.824581,
   "end_time": "2021-09-03T03:00:11.628673",
   "environment_variables": {},
   "exception": null,
   "input_path": "eBay_Overview.ipynb",
   "output_path": "eBay_Overview.ipynb",
   "parameters": {},
   "start_time": "2021-09-03T03:00:04.804092",
   "version": "2.3.3"
  }
 },
 "nbformat": 4,
 "nbformat_minor": 5
}