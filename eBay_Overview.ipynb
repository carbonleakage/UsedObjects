{
 "cells": [
  {
   "cell_type": "code",
   "execution_count": 1,
   "id": "reverse-picking",
   "metadata": {
    "execution": {
     "iopub.execute_input": "2021-08-14T07:30:07.312457Z",
     "iopub.status.busy": "2021-08-14T07:30:07.310447Z",
     "iopub.status.idle": "2021-08-14T07:30:08.120039Z",
     "shell.execute_reply": "2021-08-14T07:30:08.121309Z"
    },
    "papermill": {
     "duration": 0.862301,
     "end_time": "2021-08-14T07:30:08.122098",
     "exception": false,
     "start_time": "2021-08-14T07:30:07.259797",
     "status": "completed"
    },
    "tags": []
   },
   "outputs": [],
   "source": [
    "import pandas as pd\n",
    "import sqlite3"
   ]
  },
  {
   "cell_type": "code",
   "execution_count": 2,
   "id": "innovative-syndrome",
   "metadata": {
    "execution": {
     "iopub.execute_input": "2021-08-14T07:30:08.175790Z",
     "iopub.status.busy": "2021-08-14T07:30:08.173323Z",
     "iopub.status.idle": "2021-08-14T07:30:08.221357Z",
     "shell.execute_reply": "2021-08-14T07:30:08.222860Z"
    },
    "papermill": {
     "duration": 0.078703,
     "end_time": "2021-08-14T07:30:08.223313",
     "exception": false,
     "start_time": "2021-08-14T07:30:08.144610",
     "status": "completed"
    },
    "tags": []
   },
   "outputs": [],
   "source": [
    "timestamps = pd.read_sql(\"select distinct record_time from EBAY_TOP_BERLIN order by record_time desc limit 2\", sqlite3.connect(\"UsedObjects.db\"))"
   ]
  },
  {
   "cell_type": "code",
   "execution_count": 3,
   "id": "periodic-identification",
   "metadata": {
    "execution": {
     "iopub.execute_input": "2021-08-14T07:30:08.288559Z",
     "iopub.status.busy": "2021-08-14T07:30:08.286516Z",
     "iopub.status.idle": "2021-08-14T07:30:08.307459Z",
     "shell.execute_reply": "2021-08-14T07:30:08.306102Z"
    },
    "papermill": {
     "duration": 0.065169,
     "end_time": "2021-08-14T07:30:08.307798",
     "exception": false,
     "start_time": "2021-08-14T07:30:08.242629",
     "status": "completed"
    },
    "tags": []
   },
   "outputs": [
    {
     "data": {
      "text/html": [
       "<div>\n",
       "<style scoped>\n",
       "    .dataframe tbody tr th:only-of-type {\n",
       "        vertical-align: middle;\n",
       "    }\n",
       "\n",
       "    .dataframe tbody tr th {\n",
       "        vertical-align: top;\n",
       "    }\n",
       "\n",
       "    .dataframe thead th {\n",
       "        text-align: right;\n",
       "    }\n",
       "</style>\n",
       "<table border=\"1\" class=\"dataframe\">\n",
       "  <thead>\n",
       "    <tr style=\"text-align: right;\">\n",
       "      <th></th>\n",
       "      <th>RECORD_TIME</th>\n",
       "    </tr>\n",
       "  </thead>\n",
       "  <tbody>\n",
       "    <tr>\n",
       "      <th>0</th>\n",
       "      <td>2021-08-14 09:30</td>\n",
       "    </tr>\n",
       "    <tr>\n",
       "      <th>1</th>\n",
       "      <td>2021-08-14 09:00</td>\n",
       "    </tr>\n",
       "  </tbody>\n",
       "</table>\n",
       "</div>"
      ],
      "text/plain": [
       "        RECORD_TIME\n",
       "0  2021-08-14 09:30\n",
       "1  2021-08-14 09:00"
      ]
     },
     "execution_count": 3,
     "metadata": {},
     "output_type": "execute_result"
    }
   ],
   "source": [
    "timestamps"
   ]
  },
  {
   "cell_type": "code",
   "execution_count": 4,
   "id": "alternate-victory",
   "metadata": {
    "execution": {
     "iopub.execute_input": "2021-08-14T07:30:08.361936Z",
     "iopub.status.busy": "2021-08-14T07:30:08.359606Z",
     "iopub.status.idle": "2021-08-14T07:30:08.428986Z",
     "shell.execute_reply": "2021-08-14T07:30:08.430437Z"
    },
    "papermill": {
     "duration": 0.100489,
     "end_time": "2021-08-14T07:30:08.430851",
     "exception": false,
     "start_time": "2021-08-14T07:30:08.330362",
     "status": "completed"
    },
    "tags": []
   },
   "outputs": [],
   "source": [
    "df = pd.read_sql(\"select * from EBAY_TOP_BERLIN where record_time in (select distinct record_time from EBAY_TOP_BERLIN order by record_time desc limit 2)\", sqlite3.connect(\"UsedObjects.db\"))"
   ]
  },
  {
   "cell_type": "code",
   "execution_count": 5,
   "id": "popular-active",
   "metadata": {
    "execution": {
     "iopub.execute_input": "2021-08-14T07:30:08.503188Z",
     "iopub.status.busy": "2021-08-14T07:30:08.490698Z",
     "iopub.status.idle": "2021-08-14T07:30:08.519761Z",
     "shell.execute_reply": "2021-08-14T07:30:08.521140Z"
    },
    "papermill": {
     "duration": 0.070219,
     "end_time": "2021-08-14T07:30:08.521573",
     "exception": false,
     "start_time": "2021-08-14T07:30:08.451354",
     "status": "completed"
    },
    "tags": []
   },
   "outputs": [],
   "source": [
    "df_pivot = df.pivot_table(index=\"PRODUCT\", columns = \"RECORD_TIME\", values = \"LISTING_COUNT\")"
   ]
  },
  {
   "cell_type": "code",
   "execution_count": 6,
   "id": "union-huntington",
   "metadata": {
    "execution": {
     "iopub.execute_input": "2021-08-14T07:30:08.581681Z",
     "iopub.status.busy": "2021-08-14T07:30:08.579215Z",
     "iopub.status.idle": "2021-08-14T07:30:08.586819Z",
     "shell.execute_reply": "2021-08-14T07:30:08.585328Z"
    },
    "papermill": {
     "duration": 0.042988,
     "end_time": "2021-08-14T07:30:08.587209",
     "exception": false,
     "start_time": "2021-08-14T07:30:08.544221",
     "status": "completed"
    },
    "tags": []
   },
   "outputs": [],
   "source": [
    "df_pivot.columns = [\"stamp_1\", \"stamp_2\"]\n",
    "df_pivot_diff = df_pivot.diff(axis=1)"
   ]
  },
  {
   "cell_type": "code",
   "execution_count": 7,
   "id": "fifth-motion",
   "metadata": {
    "execution": {
     "iopub.execute_input": "2021-08-14T07:30:08.643064Z",
     "iopub.status.busy": "2021-08-14T07:30:08.640575Z",
     "iopub.status.idle": "2021-08-14T07:30:10.121830Z",
     "shell.execute_reply": "2021-08-14T07:30:10.123215Z"
    },
    "papermill": {
     "duration": 1.514192,
     "end_time": "2021-08-14T07:30:10.123636",
     "exception": false,
     "start_time": "2021-08-14T07:30:08.609444",
     "status": "completed"
    },
    "tags": []
   },
   "outputs": [
    {
     "data": {
      "text/plain": [
       "<AxesSubplot:ylabel='PRODUCT'>"
      ]
     },
     "execution_count": 7,
     "metadata": {},
     "output_type": "execute_result"
    },
    {
     "data": {
      "image/png": "[encoded data removed]",
      "text/plain": [
       "<Figure size 432x288 with 1 Axes>"
      ]
     },
     "metadata": {
      "needs_background": "light"
     },
     "output_type": "display_data"
    }
   ],
   "source": [
    "df_pivot_diff.sort_values(\"stamp_2\", ascending = False)[\"stamp_2\"].head(10).plot.barh()"
   ]
  },
  {
   "cell_type": "code",
   "execution_count": null,
   "id": "extra-executive",
   "metadata": {
    "papermill": {
     "duration": 0.022517,
     "end_time": "2021-08-14T07:30:10.170406",
     "exception": false,
     "start_time": "2021-08-14T07:30:10.147889",
     "status": "completed"
    },
    "tags": []
   },
   "outputs": [],
   "source": []
  }
 ],
 "metadata": {
  "kernelspec": {
   "display_name": "Python 3",
   "language": "python",
   "name": "python3"
  },
  "language_info": {
   "codemirror_mode": {
    "name": "ipython",
    "version": 3
   },
   "file_extension": ".py",
   "mimetype": "text/x-python",
   "name": "python",
   "nbconvert_exporter": "python",
   "pygments_lexer": "ipython3",
   "version": "3.9.5"
  },
  "papermill": {
   "default_parameters": {},
   "duration": 6.828915,
   "end_time": "2021-08-14T07:30:11.667138",
   "environment_variables": {},
   "exception": null,
   "input_path": "eBay_Overview.ipynb",
   "output_path": "eBay_Overview.ipynb",
   "parameters": {},
   "start_time": "2021-08-14T07:30:04.838223",
   "version": "2.3.3"
  }
 },
 "nbformat": 4,
 "nbformat_minor": 5
}