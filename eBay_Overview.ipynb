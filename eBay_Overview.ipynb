{
 "cells": [
  {
   "cell_type": "code",
   "execution_count": 1,
   "id": "reverse-picking",
   "metadata": {
    "execution": {
     "iopub.execute_input": "2021-10-21T01:30:07.627136Z",
     "iopub.status.busy": "2021-10-21T01:30:07.625167Z",
     "iopub.status.idle": "2021-10-21T01:30:08.436439Z",
     "shell.execute_reply": "2021-10-21T01:30:08.437958Z"
    },
    "papermill": {
     "duration": 0.864477,
     "end_time": "2021-10-21T01:30:08.438774",
     "exception": false,
     "start_time": "2021-10-21T01:30:07.574297",
     "status": "completed"
    },
    "tags": []
   },
   "outputs": [],
   "source": [
    "import pandas as pd\n",
    "import sqlite3"
   ]
  },
  {
   "cell_type": "code",
   "execution_count": 2,
   "id": "innovative-syndrome",
   "metadata": {
    "execution": {
     "iopub.execute_input": "2021-10-21T01:30:08.491443Z",
     "iopub.status.busy": "2021-10-21T01:30:08.489108Z",
     "iopub.status.idle": "2021-10-21T01:30:09.069708Z",
     "shell.execute_reply": "2021-10-21T01:30:09.070933Z"
    },
    "papermill": {
     "duration": 0.611008,
     "end_time": "2021-10-21T01:30:09.071329",
     "exception": false,
     "start_time": "2021-10-21T01:30:08.460321",
     "status": "completed"
    },
    "tags": []
   },
   "outputs": [],
   "source": [
    "timestamps = pd.read_sql(\"select distinct record_time from EBAY_TOP_BERLIN order by record_time desc limit 2\", sqlite3.connect(\"UsedObjects.db\"))"
   ]
  },
  {
   "cell_type": "code",
   "execution_count": 3,
   "id": "periodic-identification",
   "metadata": {
    "execution": {
     "iopub.execute_input": "2021-10-21T01:30:09.154976Z",
     "iopub.status.busy": "2021-10-21T01:30:09.152937Z",
     "iopub.status.idle": "2021-10-21T01:30:09.173101Z",
     "shell.execute_reply": "2021-10-21T01:30:09.174317Z"
    },
    "papermill": {
     "duration": 0.071899,
     "end_time": "2021-10-21T01:30:09.174747",
     "exception": false,
     "start_time": "2021-10-21T01:30:09.102848",
     "status": "completed"
    },
    "tags": []
   },
   "outputs": [
    {
     "data": {
      "text/html": [
       "<div>\n",
       "<style scoped>\n",
       "    .dataframe tbody tr th:only-of-type {\n",
       "        vertical-align: middle;\n",
       "    }\n",
       "\n",
       "    .dataframe tbody tr th {\n",
       "        vertical-align: top;\n",
       "    }\n",
       "\n",
       "    .dataframe thead th {\n",
       "        text-align: right;\n",
       "    }\n",
       "</style>\n",
       "<table border=\"1\" class=\"dataframe\">\n",
       "  <thead>\n",
       "    <tr style=\"text-align: right;\">\n",
       "      <th></th>\n",
       "      <th>RECORD_TIME</th>\n",
       "    </tr>\n",
       "  </thead>\n",
       "  <tbody>\n",
       "    <tr>\n",
       "      <th>0</th>\n",
       "      <td>2021-10-21 03:30</td>\n",
       "    </tr>\n",
       "    <tr>\n",
       "      <th>1</th>\n",
       "      <td>2021-10-21 03:00</td>\n",
       "    </tr>\n",
       "  </tbody>\n",
       "</table>\n",
       "</div>"
      ],
      "text/plain": [
       "        RECORD_TIME\n",
       "0  2021-10-21 03:30\n",
       "1  2021-10-21 03:00"
      ]
     },
     "execution_count": 3,
     "metadata": {},
     "output_type": "execute_result"
    }
   ],
   "source": [
    "timestamps"
   ]
  },
  {
   "cell_type": "code",
   "execution_count": 4,
   "id": "alternate-victory",
   "metadata": {
    "execution": {
     "iopub.execute_input": "2021-10-21T01:30:09.225556Z",
     "iopub.status.busy": "2021-10-21T01:30:09.223563Z",
     "iopub.status.idle": "2021-10-21T01:30:10.112323Z",
     "shell.execute_reply": "2021-10-21T01:30:10.113627Z"
    },
    "papermill": {
     "duration": 0.918877,
     "end_time": "2021-10-21T01:30:10.114036",
     "exception": false,
     "start_time": "2021-10-21T01:30:09.195159",
     "status": "completed"
    },
    "tags": []
   },
   "outputs": [],
   "source": [
    "df = pd.read_sql(\"select * from EBAY_TOP_BERLIN where record_time in (select distinct record_time from EBAY_TOP_BERLIN order by record_time desc limit 2)\", sqlite3.connect(\"UsedObjects.db\"))"
   ]
  },
  {
   "cell_type": "code",
   "execution_count": 5,
   "id": "popular-active",
   "metadata": {
    "execution": {
     "iopub.execute_input": "2021-10-21T01:30:10.185603Z",
     "iopub.status.busy": "2021-10-21T01:30:10.173597Z",
     "iopub.status.idle": "2021-10-21T01:30:10.201101Z",
     "shell.execute_reply": "2021-10-21T01:30:10.202351Z"
    },
    "papermill": {
     "duration": 0.067881,
     "end_time": "2021-10-21T01:30:10.202751",
     "exception": false,
     "start_time": "2021-10-21T01:30:10.134870",
     "status": "completed"
    },
    "tags": []
   },
   "outputs": [],
   "source": [
    "df_pivot = df.pivot_table(index=\"PRODUCT\", columns = \"RECORD_TIME\", values = \"LISTING_COUNT\")"
   ]
  },
  {
   "cell_type": "code",
   "execution_count": 6,
   "id": "union-huntington",
   "metadata": {
    "execution": {
     "iopub.execute_input": "2021-10-21T01:30:10.260210Z",
     "iopub.status.busy": "2021-10-21T01:30:10.257911Z",
     "iopub.status.idle": "2021-10-21T01:30:10.263845Z",
     "shell.execute_reply": "2021-10-21T01:30:10.265216Z"
    },
    "papermill": {
     "duration": 0.041912,
     "end_time": "2021-10-21T01:30:10.265636",
     "exception": false,
     "start_time": "2021-10-21T01:30:10.223724",
     "status": "completed"
    },
    "tags": []
   },
   "outputs": [],
   "source": [
    "df_pivot.columns = [\"stamp_1\", \"stamp_2\"]\n",
    "df_pivot_diff = df_pivot.diff(axis=1)"
   ]
  },
  {
   "cell_type": "code",
   "execution_count": 7,
   "id": "fifth-motion",
   "metadata": {
    "execution": {
     "iopub.execute_input": "2021-10-21T01:30:10.319802Z",
     "iopub.status.busy": "2021-10-21T01:30:10.317507Z",
     "iopub.status.idle": "2021-10-21T01:30:11.810673Z",
     "shell.execute_reply": "2021-10-21T01:30:11.811955Z"
    },
    "papermill": {
     "duration": 1.526615,
     "end_time": "2021-10-21T01:30:11.812410",
     "exception": false,
     "start_time": "2021-10-21T01:30:10.285795",
     "status": "completed"
    },
    "tags": []
   },
   "outputs": [
    {
     "data": {
      "text/plain": [
       "<AxesSubplot:ylabel='PRODUCT'>"
      ]
     },
     "execution_count": 7,
     "metadata": {},
     "output_type": "execute_result"
    },
    {
     "data": {
      "image/png": "[encoded data removed]",
      "text/plain": [
       "<Figure size 432x288 with 1 Axes>"
      ]
     },
     "metadata": {
      "needs_background": "light"
     },
     "output_type": "display_data"
    }
   ],
   "source": [
    "df_pivot_diff.sort_values(\"stamp_2\", ascending = False)[\"stamp_2\"].head(10).plot.barh()"
   ]
  },
  {
   "cell_type": "code",
   "execution_count": null,
   "id": "extra-executive",
   "metadata": {
    "papermill": {
     "duration": 0.022179,
     "end_time": "2021-10-21T01:30:11.859668",
     "exception": false,
     "start_time": "2021-10-21T01:30:11.837489",
     "status": "completed"
    },
    "tags": []
   },
   "outputs": [],
   "source": []
  }
 ],
 "metadata": {
  "kernelspec": {
   "display_name": "Python 3",
   "language": "python",
   "name": "python3"
  },
  "language_info": {
   "codemirror_mode": {
    "name": "ipython",
    "version": 3
   },
   "file_extension": ".py",
   "mimetype": "text/x-python",
   "name": "python",
   "nbconvert_exporter": "python",
   "pygments_lexer": "ipython3",
   "version": "3.9.5"
  },
  "papermill": {
   "default_parameters": {},
   "duration": 7.349768,
   "end_time": "2021-10-21T01:30:12.500995",
   "environment_variables": {},
   "exception": null,
   "input_path": "eBay_Overview.ipynb",
   "output_path": "eBay_Overview.ipynb",
   "parameters": {},
   "start_time": "2021-10-21T01:30:05.151227",
   "version": "2.3.3"
  }
 },
 "nbformat": 4,
 "nbformat_minor": 5
}