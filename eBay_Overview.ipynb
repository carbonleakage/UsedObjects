{
 "cells": [
  {
   "cell_type": "code",
   "execution_count": 1,
   "id": "reverse-picking",
   "metadata": {
    "execution": {
     "iopub.execute_input": "2021-09-04T05:30:06.651277Z",
     "iopub.status.busy": "2021-09-04T05:30:06.649252Z",
     "iopub.status.idle": "2021-09-04T05:30:07.452289Z",
     "shell.execute_reply": "2021-09-04T05:30:07.453545Z"
    },
    "papermill": {
     "duration": 0.853031,
     "end_time": "2021-09-04T05:30:07.454155",
     "exception": false,
     "start_time": "2021-09-04T05:30:06.601124",
     "status": "completed"
    },
    "tags": []
   },
   "outputs": [],
   "source": [
    "import pandas as pd\n",
    "import sqlite3"
   ]
  },
  {
   "cell_type": "code",
   "execution_count": 2,
   "id": "innovative-syndrome",
   "metadata": {
    "execution": {
     "iopub.execute_input": "2021-09-04T05:30:07.504625Z",
     "iopub.status.busy": "2021-09-04T05:30:07.502700Z",
     "iopub.status.idle": "2021-09-04T05:30:07.706245Z",
     "shell.execute_reply": "2021-09-04T05:30:07.707502Z"
    },
    "papermill": {
     "duration": 0.232959,
     "end_time": "2021-09-04T05:30:07.707902",
     "exception": false,
     "start_time": "2021-09-04T05:30:07.474943",
     "status": "completed"
    },
    "tags": []
   },
   "outputs": [],
   "source": [
    "timestamps = pd.read_sql(\"select distinct record_time from EBAY_TOP_BERLIN order by record_time desc limit 2\", sqlite3.connect(\"UsedObjects.db\"))"
   ]
  },
  {
   "cell_type": "code",
   "execution_count": 3,
   "id": "periodic-identification",
   "metadata": {
    "execution": {
     "iopub.execute_input": "2021-09-04T05:30:07.776989Z",
     "iopub.status.busy": "2021-09-04T05:30:07.771802Z",
     "iopub.status.idle": "2021-09-04T05:30:07.791483Z",
     "shell.execute_reply": "2021-09-04T05:30:07.792809Z"
    },
    "papermill": {
     "duration": 0.063852,
     "end_time": "2021-09-04T05:30:07.793209",
     "exception": false,
     "start_time": "2021-09-04T05:30:07.729357",
     "status": "completed"
    },
    "tags": []
   },
   "outputs": [
    {
     "data": {
      "text/html": [
       "<div>\n",
       "<style scoped>\n",
       "    .dataframe tbody tr th:only-of-type {\n",
       "        vertical-align: middle;\n",
       "    }\n",
       "\n",
       "    .dataframe tbody tr th {\n",
       "        vertical-align: top;\n",
       "    }\n",
       "\n",
       "    .dataframe thead th {\n",
       "        text-align: right;\n",
       "    }\n",
       "</style>\n",
       "<table border=\"1\" class=\"dataframe\">\n",
       "  <thead>\n",
       "    <tr style=\"text-align: right;\">\n",
       "      <th></th>\n",
       "      <th>RECORD_TIME</th>\n",
       "    </tr>\n",
       "  </thead>\n",
       "  <tbody>\n",
       "    <tr>\n",
       "      <th>0</th>\n",
       "      <td>2021-09-04 07:30</td>\n",
       "    </tr>\n",
       "    <tr>\n",
       "      <th>1</th>\n",
       "      <td>2021-09-04 07:00</td>\n",
       "    </tr>\n",
       "  </tbody>\n",
       "</table>\n",
       "</div>"
      ],
      "text/plain": [
       "        RECORD_TIME\n",
       "0  2021-09-04 07:30\n",
       "1  2021-09-04 07:00"
      ]
     },
     "execution_count": 3,
     "metadata": {},
     "output_type": "execute_result"
    }
   ],
   "source": [
    "timestamps"
   ]
  },
  {
   "cell_type": "code",
   "execution_count": 4,
   "id": "alternate-victory",
   "metadata": {
    "execution": {
     "iopub.execute_input": "2021-09-04T05:30:07.845868Z",
     "iopub.status.busy": "2021-09-04T05:30:07.843848Z",
     "iopub.status.idle": "2021-09-04T05:30:08.149012Z",
     "shell.execute_reply": "2021-09-04T05:30:08.150216Z"
    },
    "papermill": {
     "duration": 0.335521,
     "end_time": "2021-09-04T05:30:08.150604",
     "exception": false,
     "start_time": "2021-09-04T05:30:07.815083",
     "status": "completed"
    },
    "tags": []
   },
   "outputs": [],
   "source": [
    "df = pd.read_sql(\"select * from EBAY_TOP_BERLIN where record_time in (select distinct record_time from EBAY_TOP_BERLIN order by record_time desc limit 2)\", sqlite3.connect(\"UsedObjects.db\"))"
   ]
  },
  {
   "cell_type": "code",
   "execution_count": 5,
   "id": "popular-active",
   "metadata": {
    "execution": {
     "iopub.execute_input": "2021-09-04T05:30:08.232819Z",
     "iopub.status.busy": "2021-09-04T05:30:08.219887Z",
     "iopub.status.idle": "2021-09-04T05:30:08.248549Z",
     "shell.execute_reply": "2021-09-04T05:30:08.249837Z"
    },
    "papermill": {
     "duration": 0.071524,
     "end_time": "2021-09-04T05:30:08.250249",
     "exception": false,
     "start_time": "2021-09-04T05:30:08.178725",
     "status": "completed"
    },
    "tags": []
   },
   "outputs": [],
   "source": [
    "df_pivot = df.pivot_table(index=\"PRODUCT\", columns = \"RECORD_TIME\", values = \"LISTING_COUNT\")"
   ]
  },
  {
   "cell_type": "code",
   "execution_count": 6,
   "id": "union-huntington",
   "metadata": {
    "execution": {
     "iopub.execute_input": "2021-09-04T05:30:08.307373Z",
     "iopub.status.busy": "2021-09-04T05:30:08.305306Z",
     "iopub.status.idle": "2021-09-04T05:30:08.310409Z",
     "shell.execute_reply": "2021-09-04T05:30:08.311885Z"
    },
    "papermill": {
     "duration": 0.040202,
     "end_time": "2021-09-04T05:30:08.312336",
     "exception": false,
     "start_time": "2021-09-04T05:30:08.272134",
     "status": "completed"
    },
    "tags": []
   },
   "outputs": [],
   "source": [
    "df_pivot.columns = [\"stamp_1\", \"stamp_2\"]\n",
    "df_pivot_diff = df_pivot.diff(axis=1)"
   ]
  },
  {
   "cell_type": "code",
   "execution_count": 7,
   "id": "fifth-motion",
   "metadata": {
    "execution": {
     "iopub.execute_input": "2021-09-04T05:30:08.367540Z",
     "iopub.status.busy": "2021-09-04T05:30:08.365013Z",
     "iopub.status.idle": "2021-09-04T05:30:09.855570Z",
     "shell.execute_reply": "2021-09-04T05:30:09.856859Z"
    },
    "papermill": {
     "duration": 1.5236,
     "end_time": "2021-09-04T05:30:09.857268",
     "exception": false,
     "start_time": "2021-09-04T05:30:08.333668",
     "status": "completed"
    },
    "tags": []
   },
   "outputs": [
    {
     "data": {
      "text/plain": [
       "<AxesSubplot:ylabel='PRODUCT'>"
      ]
     },
     "execution_count": 7,
     "metadata": {},
     "output_type": "execute_result"
    },
    {
     "data": {
      "image/png": "[encoded data removed]",
      "text/plain": [
       "<Figure size 432x288 with 1 Axes>"
      ]
     },
     "metadata": {
      "needs_background": "light"
     },
     "output_type": "display_data"
    }
   ],
   "source": [
    "df_pivot_diff.sort_values(\"stamp_2\", ascending = False)[\"stamp_2\"].head(10).plot.barh()"
   ]
  },
  {
   "cell_type": "code",
   "execution_count": null,
   "id": "extra-executive",
   "metadata": {
    "papermill": {
     "duration": 0.022084,
     "end_time": "2021-09-04T05:30:09.904070",
     "exception": false,
     "start_time": "2021-09-04T05:30:09.881986",
     "status": "completed"
    },
    "tags": []
   },
   "outputs": [],
   "source": []
  }
 ],
 "metadata": {
  "kernelspec": {
   "display_name": "Python 3",
   "language": "python",
   "name": "python3"
  },
  "language_info": {
   "codemirror_mode": {
    "name": "ipython",
    "version": 3
   },
   "file_extension": ".py",
   "mimetype": "text/x-python",
   "name": "python",
   "nbconvert_exporter": "python",
   "pygments_lexer": "ipython3",
   "version": "3.9.5"
  },
  "papermill": {
   "default_parameters": {},
   "duration": 6.34932,
   "end_time": "2021-09-04T05:30:10.546172",
   "environment_variables": {},
   "exception": null,
   "input_path": "eBay_Overview.ipynb",
   "output_path": "eBay_Overview.ipynb",
   "parameters": {},
   "start_time": "2021-09-04T05:30:04.196852",
   "version": "2.3.3"
  }
 },
 "nbformat": 4,
 "nbformat_minor": 5
}