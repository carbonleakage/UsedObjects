{
 "cells": [
  {
   "cell_type": "code",
   "execution_count": 1,
   "id": "reverse-picking",
   "metadata": {
    "execution": {
     "iopub.execute_input": "2021-10-02T09:30:07.263253Z",
     "iopub.status.busy": "2021-10-02T09:30:07.261226Z",
     "iopub.status.idle": "2021-10-02T09:30:08.067884Z",
     "shell.execute_reply": "2021-10-02T09:30:08.066236Z"
    },
    "papermill": {
     "duration": 0.855379,
     "end_time": "2021-10-02T09:30:08.068295",
     "exception": false,
     "start_time": "2021-10-02T09:30:07.212916",
     "status": "completed"
    },
    "tags": []
   },
   "outputs": [],
   "source": [
    "import pandas as pd\n",
    "import sqlite3"
   ]
  },
  {
   "cell_type": "code",
   "execution_count": 2,
   "id": "innovative-syndrome",
   "metadata": {
    "execution": {
     "iopub.execute_input": "2021-10-02T09:30:08.121505Z",
     "iopub.status.busy": "2021-10-02T09:30:08.119373Z",
     "iopub.status.idle": "2021-10-02T09:30:08.558303Z",
     "shell.execute_reply": "2021-10-02T09:30:08.559558Z"
    },
    "papermill": {
     "duration": 0.469036,
     "end_time": "2021-10-02T09:30:08.559958",
     "exception": false,
     "start_time": "2021-10-02T09:30:08.090922",
     "status": "completed"
    },
    "tags": []
   },
   "outputs": [],
   "source": [
    "timestamps = pd.read_sql(\"select distinct record_time from EBAY_TOP_BERLIN order by record_time desc limit 2\", sqlite3.connect(\"UsedObjects.db\"))"
   ]
  },
  {
   "cell_type": "code",
   "execution_count": 3,
   "id": "periodic-identification",
   "metadata": {
    "execution": {
     "iopub.execute_input": "2021-10-02T09:30:08.626957Z",
     "iopub.status.busy": "2021-10-02T09:30:08.624888Z",
     "iopub.status.idle": "2021-10-02T09:30:08.647249Z",
     "shell.execute_reply": "2021-10-02T09:30:08.648552Z"
    },
    "papermill": {
     "duration": 0.067233,
     "end_time": "2021-10-02T09:30:08.648965",
     "exception": false,
     "start_time": "2021-10-02T09:30:08.581732",
     "status": "completed"
    },
    "tags": []
   },
   "outputs": [
    {
     "data": {
      "text/html": [
       "<div>\n",
       "<style scoped>\n",
       "    .dataframe tbody tr th:only-of-type {\n",
       "        vertical-align: middle;\n",
       "    }\n",
       "\n",
       "    .dataframe tbody tr th {\n",
       "        vertical-align: top;\n",
       "    }\n",
       "\n",
       "    .dataframe thead th {\n",
       "        text-align: right;\n",
       "    }\n",
       "</style>\n",
       "<table border=\"1\" class=\"dataframe\">\n",
       "  <thead>\n",
       "    <tr style=\"text-align: right;\">\n",
       "      <th></th>\n",
       "      <th>RECORD_TIME</th>\n",
       "    </tr>\n",
       "  </thead>\n",
       "  <tbody>\n",
       "    <tr>\n",
       "      <th>0</th>\n",
       "      <td>2021-10-02 11:30</td>\n",
       "    </tr>\n",
       "    <tr>\n",
       "      <th>1</th>\n",
       "      <td>2021-10-02 11:00</td>\n",
       "    </tr>\n",
       "  </tbody>\n",
       "</table>\n",
       "</div>"
      ],
      "text/plain": [
       "        RECORD_TIME\n",
       "0  2021-10-02 11:30\n",
       "1  2021-10-02 11:00"
      ]
     },
     "execution_count": 3,
     "metadata": {},
     "output_type": "execute_result"
    }
   ],
   "source": [
    "timestamps"
   ]
  },
  {
   "cell_type": "code",
   "execution_count": 4,
   "id": "alternate-victory",
   "metadata": {
    "execution": {
     "iopub.execute_input": "2021-10-02T09:30:08.700076Z",
     "iopub.status.busy": "2021-10-02T09:30:08.698153Z",
     "iopub.status.idle": "2021-10-02T09:30:09.337404Z",
     "shell.execute_reply": "2021-10-02T09:30:09.338689Z"
    },
    "papermill": {
     "duration": 0.669494,
     "end_time": "2021-10-02T09:30:09.339179",
     "exception": false,
     "start_time": "2021-10-02T09:30:08.669685",
     "status": "completed"
    },
    "tags": []
   },
   "outputs": [],
   "source": [
    "df = pd.read_sql(\"select * from EBAY_TOP_BERLIN where record_time in (select distinct record_time from EBAY_TOP_BERLIN order by record_time desc limit 2)\", sqlite3.connect(\"UsedObjects.db\"))"
   ]
  },
  {
   "cell_type": "code",
   "execution_count": 5,
   "id": "popular-active",
   "metadata": {
    "execution": {
     "iopub.execute_input": "2021-10-02T09:30:09.420067Z",
     "iopub.status.busy": "2021-10-02T09:30:09.408028Z",
     "iopub.status.idle": "2021-10-02T09:30:09.435514Z",
     "shell.execute_reply": "2021-10-02T09:30:09.436725Z"
    },
    "papermill": {
     "duration": 0.072198,
     "end_time": "2021-10-02T09:30:09.437113",
     "exception": false,
     "start_time": "2021-10-02T09:30:09.364915",
     "status": "completed"
    },
    "tags": []
   },
   "outputs": [],
   "source": [
    "df_pivot = df.pivot_table(index=\"PRODUCT\", columns = \"RECORD_TIME\", values = \"LISTING_COUNT\")"
   ]
  },
  {
   "cell_type": "code",
   "execution_count": 6,
   "id": "union-huntington",
   "metadata": {
    "execution": {
     "iopub.execute_input": "2021-10-02T09:30:09.495346Z",
     "iopub.status.busy": "2021-10-02T09:30:09.493020Z",
     "iopub.status.idle": "2021-10-02T09:30:09.498761Z",
     "shell.execute_reply": "2021-10-02T09:30:09.500138Z"
    },
    "papermill": {
     "duration": 0.041832,
     "end_time": "2021-10-02T09:30:09.500552",
     "exception": false,
     "start_time": "2021-10-02T09:30:09.458720",
     "status": "completed"
    },
    "tags": []
   },
   "outputs": [],
   "source": [
    "df_pivot.columns = [\"stamp_1\", \"stamp_2\"]\n",
    "df_pivot_diff = df_pivot.diff(axis=1)"
   ]
  },
  {
   "cell_type": "code",
   "execution_count": 7,
   "id": "fifth-motion",
   "metadata": {
    "execution": {
     "iopub.execute_input": "2021-10-02T09:30:09.553840Z",
     "iopub.status.busy": "2021-10-02T09:30:09.551701Z",
     "iopub.status.idle": "2021-10-02T09:30:11.051369Z",
     "shell.execute_reply": "2021-10-02T09:30:11.052837Z"
    },
    "papermill": {
     "duration": 1.532716,
     "end_time": "2021-10-02T09:30:11.053298",
     "exception": false,
     "start_time": "2021-10-02T09:30:09.520582",
     "status": "completed"
    },
    "tags": []
   },
   "outputs": [
    {
     "data": {
      "text/plain": [
       "<AxesSubplot:ylabel='PRODUCT'>"
      ]
     },
     "execution_count": 7,
     "metadata": {},
     "output_type": "execute_result"
    },
    {
     "data": {
      "image/png": "[encoded data removed]",
      "text/plain": [
       "<Figure size 432x288 with 1 Axes>"
      ]
     },
     "metadata": {
      "needs_background": "light"
     },
     "output_type": "display_data"
    }
   ],
   "source": [
    "df_pivot_diff.sort_values(\"stamp_2\", ascending = False)[\"stamp_2\"].head(10).plot.barh()"
   ]
  },
  {
   "cell_type": "code",
   "execution_count": null,
   "id": "extra-executive",
   "metadata": {
    "papermill": {
     "duration": 0.02243,
     "end_time": "2021-10-02T09:30:11.099939",
     "exception": false,
     "start_time": "2021-10-02T09:30:11.077509",
     "status": "completed"
    },
    "tags": []
   },
   "outputs": [],
   "source": []
  }
 ],
 "metadata": {
  "kernelspec": {
   "display_name": "Python 3",
   "language": "python",
   "name": "python3"
  },
  "language_info": {
   "codemirror_mode": {
    "name": "ipython",
    "version": 3
   },
   "file_extension": ".py",
   "mimetype": "text/x-python",
   "name": "python",
   "nbconvert_exporter": "python",
   "pygments_lexer": "ipython3",
   "version": "3.9.5"
  },
  "papermill": {
   "default_parameters": {},
   "duration": 7.818678,
   "end_time": "2021-10-02T09:30:12.632293",
   "environment_variables": {},
   "exception": null,
   "input_path": "eBay_Overview.ipynb",
   "output_path": "eBay_Overview.ipynb",
   "parameters": {},
   "start_time": "2021-10-02T09:30:04.813615",
   "version": "2.3.3"
  }
 },
 "nbformat": 4,
 "nbformat_minor": 5
}