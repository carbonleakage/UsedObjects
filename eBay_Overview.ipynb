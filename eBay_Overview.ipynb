{
 "cells": [
  {
   "cell_type": "code",
   "execution_count": 1,
   "id": "reverse-picking",
   "metadata": {
    "execution": {
     "iopub.execute_input": "2021-09-05T15:30:07.460733Z",
     "iopub.status.busy": "2021-09-05T15:30:07.458717Z",
     "iopub.status.idle": "2021-09-05T15:30:08.262993Z",
     "shell.execute_reply": "2021-09-05T15:30:08.264313Z"
    },
    "papermill": {
     "duration": 0.854843,
     "end_time": "2021-09-05T15:30:08.264930",
     "exception": false,
     "start_time": "2021-09-05T15:30:07.410087",
     "status": "completed"
    },
    "tags": []
   },
   "outputs": [],
   "source": [
    "import pandas as pd\n",
    "import sqlite3"
   ]
  },
  {
   "cell_type": "code",
   "execution_count": 2,
   "id": "innovative-syndrome",
   "metadata": {
    "execution": {
     "iopub.execute_input": "2021-09-05T15:30:08.316924Z",
     "iopub.status.busy": "2021-09-05T15:30:08.314665Z",
     "iopub.status.idle": "2021-09-05T15:30:08.528349Z",
     "shell.execute_reply": "2021-09-05T15:30:08.529551Z"
    },
    "papermill": {
     "duration": 0.243423,
     "end_time": "2021-09-05T15:30:08.529948",
     "exception": false,
     "start_time": "2021-09-05T15:30:08.286525",
     "status": "completed"
    },
    "tags": []
   },
   "outputs": [],
   "source": [
    "timestamps = pd.read_sql(\"select distinct record_time from EBAY_TOP_BERLIN order by record_time desc limit 2\", sqlite3.connect(\"UsedObjects.db\"))"
   ]
  },
  {
   "cell_type": "code",
   "execution_count": 3,
   "id": "periodic-identification",
   "metadata": {
    "execution": {
     "iopub.execute_input": "2021-09-05T15:30:08.594780Z",
     "iopub.status.busy": "2021-09-05T15:30:08.592775Z",
     "iopub.status.idle": "2021-09-05T15:30:08.614558Z",
     "shell.execute_reply": "2021-09-05T15:30:08.616172Z"
    },
    "papermill": {
     "duration": 0.067138,
     "end_time": "2021-09-05T15:30:08.616657",
     "exception": false,
     "start_time": "2021-09-05T15:30:08.549519",
     "status": "completed"
    },
    "tags": []
   },
   "outputs": [
    {
     "data": {
      "text/html": [
       "<div>\n",
       "<style scoped>\n",
       "    .dataframe tbody tr th:only-of-type {\n",
       "        vertical-align: middle;\n",
       "    }\n",
       "\n",
       "    .dataframe tbody tr th {\n",
       "        vertical-align: top;\n",
       "    }\n",
       "\n",
       "    .dataframe thead th {\n",
       "        text-align: right;\n",
       "    }\n",
       "</style>\n",
       "<table border=\"1\" class=\"dataframe\">\n",
       "  <thead>\n",
       "    <tr style=\"text-align: right;\">\n",
       "      <th></th>\n",
       "      <th>RECORD_TIME</th>\n",
       "    </tr>\n",
       "  </thead>\n",
       "  <tbody>\n",
       "    <tr>\n",
       "      <th>0</th>\n",
       "      <td>2021-09-05 17:30</td>\n",
       "    </tr>\n",
       "    <tr>\n",
       "      <th>1</th>\n",
       "      <td>2021-09-05 17:00</td>\n",
       "    </tr>\n",
       "  </tbody>\n",
       "</table>\n",
       "</div>"
      ],
      "text/plain": [
       "        RECORD_TIME\n",
       "0  2021-09-05 17:30\n",
       "1  2021-09-05 17:00"
      ]
     },
     "execution_count": 3,
     "metadata": {},
     "output_type": "execute_result"
    }
   ],
   "source": [
    "timestamps"
   ]
  },
  {
   "cell_type": "code",
   "execution_count": 4,
   "id": "alternate-victory",
   "metadata": {
    "execution": {
     "iopub.execute_input": "2021-09-05T15:30:08.669245Z",
     "iopub.status.busy": "2021-09-05T15:30:08.667427Z",
     "iopub.status.idle": "2021-09-05T15:30:08.983926Z",
     "shell.execute_reply": "2021-09-05T15:30:08.985324Z"
    },
    "papermill": {
     "duration": 0.347198,
     "end_time": "2021-09-05T15:30:08.985762",
     "exception": false,
     "start_time": "2021-09-05T15:30:08.638564",
     "status": "completed"
    },
    "tags": []
   },
   "outputs": [],
   "source": [
    "df = pd.read_sql(\"select * from EBAY_TOP_BERLIN where record_time in (select distinct record_time from EBAY_TOP_BERLIN order by record_time desc limit 2)\", sqlite3.connect(\"UsedObjects.db\"))"
   ]
  },
  {
   "cell_type": "code",
   "execution_count": 5,
   "id": "popular-active",
   "metadata": {
    "execution": {
     "iopub.execute_input": "2021-09-05T15:30:09.061310Z",
     "iopub.status.busy": "2021-09-05T15:30:09.048874Z",
     "iopub.status.idle": "2021-09-05T15:30:09.077728Z",
     "shell.execute_reply": "2021-09-05T15:30:09.079098Z"
    },
    "papermill": {
     "duration": 0.069485,
     "end_time": "2021-09-05T15:30:09.079556",
     "exception": false,
     "start_time": "2021-09-05T15:30:09.010071",
     "status": "completed"
    },
    "tags": []
   },
   "outputs": [],
   "source": [
    "df_pivot = df.pivot_table(index=\"PRODUCT\", columns = \"RECORD_TIME\", values = \"LISTING_COUNT\")"
   ]
  },
  {
   "cell_type": "code",
   "execution_count": 6,
   "id": "union-huntington",
   "metadata": {
    "execution": {
     "iopub.execute_input": "2021-09-05T15:30:09.135125Z",
     "iopub.status.busy": "2021-09-05T15:30:09.133049Z",
     "iopub.status.idle": "2021-09-05T15:30:09.138438Z",
     "shell.execute_reply": "2021-09-05T15:30:09.139780Z"
    },
    "papermill": {
     "duration": 0.040814,
     "end_time": "2021-09-05T15:30:09.140199",
     "exception": false,
     "start_time": "2021-09-05T15:30:09.099385",
     "status": "completed"
    },
    "tags": []
   },
   "outputs": [],
   "source": [
    "df_pivot.columns = [\"stamp_1\", \"stamp_2\"]\n",
    "df_pivot_diff = df_pivot.diff(axis=1)"
   ]
  },
  {
   "cell_type": "code",
   "execution_count": 7,
   "id": "fifth-motion",
   "metadata": {
    "execution": {
     "iopub.execute_input": "2021-09-05T15:30:09.195744Z",
     "iopub.status.busy": "2021-09-05T15:30:09.193160Z",
     "iopub.status.idle": "2021-09-05T15:30:10.663845Z",
     "shell.execute_reply": "2021-09-05T15:30:10.665226Z"
    },
    "papermill": {
     "duration": 1.504038,
     "end_time": "2021-09-05T15:30:10.665666",
     "exception": false,
     "start_time": "2021-09-05T15:30:09.161628",
     "status": "completed"
    },
    "tags": []
   },
   "outputs": [
    {
     "data": {
      "text/plain": [
       "<AxesSubplot:ylabel='PRODUCT'>"
      ]
     },
     "execution_count": 7,
     "metadata": {},
     "output_type": "execute_result"
    },
    {
     "data": {
      "image/png": "[encoded data removed]",
      "text/plain": [
       "<Figure size 432x288 with 1 Axes>"
      ]
     },
     "metadata": {
      "needs_background": "light"
     },
     "output_type": "display_data"
    }
   ],
   "source": [
    "df_pivot_diff.sort_values(\"stamp_2\", ascending = False)[\"stamp_2\"].head(10).plot.barh()"
   ]
  },
  {
   "cell_type": "code",
   "execution_count": null,
   "id": "extra-executive",
   "metadata": {
    "papermill": {
     "duration": 0.022522,
     "end_time": "2021-09-05T15:30:10.712935",
     "exception": false,
     "start_time": "2021-09-05T15:30:10.690413",
     "status": "completed"
    },
    "tags": []
   },
   "outputs": [],
   "source": []
  }
 ],
 "metadata": {
  "kernelspec": {
   "display_name": "Python 3",
   "language": "python",
   "name": "python3"
  },
  "language_info": {
   "codemirror_mode": {
    "name": "ipython",
    "version": 3
   },
   "file_extension": ".py",
   "mimetype": "text/x-python",
   "name": "python",
   "nbconvert_exporter": "python",
   "pygments_lexer": "ipython3",
   "version": "3.9.5"
  },
  "papermill": {
   "default_parameters": {},
   "duration": 6.343138,
   "end_time": "2021-09-05T15:30:11.354973",
   "environment_variables": {},
   "exception": null,
   "input_path": "eBay_Overview.ipynb",
   "output_path": "eBay_Overview.ipynb",
   "parameters": {},
   "start_time": "2021-09-05T15:30:05.011835",
   "version": "2.3.3"
  }
 },
 "nbformat": 4,
 "nbformat_minor": 5
}