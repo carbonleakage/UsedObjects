{
 "cells": [
  {
   "cell_type": "code",
   "execution_count": 1,
   "id": "reverse-picking",
   "metadata": {
    "execution": {
     "iopub.execute_input": "2021-11-22T17:30:07.613107Z",
     "iopub.status.busy": "2021-11-22T17:30:07.610774Z",
     "iopub.status.idle": "2021-11-22T17:30:08.568345Z",
     "shell.execute_reply": "2021-11-22T17:30:08.569907Z"
    },
    "papermill": {
     "duration": 1.007961,
     "end_time": "2021-11-22T17:30:08.570642",
     "exception": false,
     "start_time": "2021-11-22T17:30:07.562681",
     "status": "completed"
    },
    "tags": []
   },
   "outputs": [],
   "source": [
    "import pandas as pd\n",
    "import sqlite3"
   ]
  },
  {
   "cell_type": "code",
   "execution_count": 2,
   "id": "innovative-syndrome",
   "metadata": {
    "execution": {
     "iopub.execute_input": "2021-11-22T17:30:08.631747Z",
     "iopub.status.busy": "2021-11-22T17:30:08.629629Z",
     "iopub.status.idle": "2021-11-22T17:30:09.509840Z",
     "shell.execute_reply": "2021-11-22T17:30:09.511416Z"
    },
    "papermill": {
     "duration": 0.914773,
     "end_time": "2021-11-22T17:30:09.511903",
     "exception": false,
     "start_time": "2021-11-22T17:30:08.597130",
     "status": "completed"
    },
    "tags": []
   },
   "outputs": [],
   "source": [
    "timestamps = pd.read_sql(\"select distinct record_time from EBAY_TOP_BERLIN order by record_time desc limit 2\", sqlite3.connect(\"UsedObjects.db\"))"
   ]
  },
  {
   "cell_type": "code",
   "execution_count": 3,
   "id": "periodic-identification",
   "metadata": {
    "execution": {
     "iopub.execute_input": "2021-11-22T17:30:09.587156Z",
     "iopub.status.busy": "2021-11-22T17:30:09.584524Z",
     "iopub.status.idle": "2021-11-22T17:30:09.609158Z",
     "shell.execute_reply": "2021-11-22T17:30:09.610774Z"
    },
    "papermill": {
     "duration": 0.079185,
     "end_time": "2021-11-22T17:30:09.611254",
     "exception": false,
     "start_time": "2021-11-22T17:30:09.532069",
     "status": "completed"
    },
    "tags": []
   },
   "outputs": [
    {
     "data": {
      "text/html": [
       "<div>\n",
       "<style scoped>\n",
       "    .dataframe tbody tr th:only-of-type {\n",
       "        vertical-align: middle;\n",
       "    }\n",
       "\n",
       "    .dataframe tbody tr th {\n",
       "        vertical-align: top;\n",
       "    }\n",
       "\n",
       "    .dataframe thead th {\n",
       "        text-align: right;\n",
       "    }\n",
       "</style>\n",
       "<table border=\"1\" class=\"dataframe\">\n",
       "  <thead>\n",
       "    <tr style=\"text-align: right;\">\n",
       "      <th></th>\n",
       "      <th>RECORD_TIME</th>\n",
       "    </tr>\n",
       "  </thead>\n",
       "  <tbody>\n",
       "    <tr>\n",
       "      <th>0</th>\n",
       "      <td>2021-11-22 18:30</td>\n",
       "    </tr>\n",
       "    <tr>\n",
       "      <th>1</th>\n",
       "      <td>2021-11-22 18:00</td>\n",
       "    </tr>\n",
       "  </tbody>\n",
       "</table>\n",
       "</div>"
      ],
      "text/plain": [
       "        RECORD_TIME\n",
       "0  2021-11-22 18:30\n",
       "1  2021-11-22 18:00"
      ]
     },
     "execution_count": 3,
     "metadata": {},
     "output_type": "execute_result"
    }
   ],
   "source": [
    "timestamps"
   ]
  },
  {
   "cell_type": "code",
   "execution_count": 4,
   "id": "alternate-victory",
   "metadata": {
    "execution": {
     "iopub.execute_input": "2021-11-22T17:30:09.669091Z",
     "iopub.status.busy": "2021-11-22T17:30:09.666816Z",
     "iopub.status.idle": "2021-11-22T17:30:10.968102Z",
     "shell.execute_reply": "2021-11-22T17:30:10.969584Z"
    },
    "papermill": {
     "duration": 1.334623,
     "end_time": "2021-11-22T17:30:10.970035",
     "exception": false,
     "start_time": "2021-11-22T17:30:09.635412",
     "status": "completed"
    },
    "tags": []
   },
   "outputs": [],
   "source": [
    "df = pd.read_sql(\"select * from EBAY_TOP_BERLIN where record_time in (select distinct record_time from EBAY_TOP_BERLIN order by record_time desc limit 2)\", sqlite3.connect(\"UsedObjects.db\"))"
   ]
  },
  {
   "cell_type": "code",
   "execution_count": 5,
   "id": "popular-active",
   "metadata": {
    "execution": {
     "iopub.execute_input": "2021-11-22T17:30:11.033746Z",
     "iopub.status.busy": "2021-11-22T17:30:11.031230Z",
     "iopub.status.idle": "2021-11-22T17:30:11.063669Z",
     "shell.execute_reply": "2021-11-22T17:30:11.065380Z"
    },
    "papermill": {
     "duration": 0.073982,
     "end_time": "2021-11-22T17:30:11.065872",
     "exception": false,
     "start_time": "2021-11-22T17:30:10.991890",
     "status": "completed"
    },
    "tags": []
   },
   "outputs": [],
   "source": [
    "df_pivot = df.pivot_table(index=\"PRODUCT\", columns = \"RECORD_TIME\", values = \"LISTING_COUNT\")"
   ]
  },
  {
   "cell_type": "code",
   "execution_count": 6,
   "id": "union-huntington",
   "metadata": {
    "execution": {
     "iopub.execute_input": "2021-11-22T17:30:11.128838Z",
     "iopub.status.busy": "2021-11-22T17:30:11.126506Z",
     "iopub.status.idle": "2021-11-22T17:30:11.131966Z",
     "shell.execute_reply": "2021-11-22T17:30:11.133662Z"
    },
    "papermill": {
     "duration": 0.046263,
     "end_time": "2021-11-22T17:30:11.134174",
     "exception": false,
     "start_time": "2021-11-22T17:30:11.087911",
     "status": "completed"
    },
    "tags": []
   },
   "outputs": [],
   "source": [
    "df_pivot.columns = [\"stamp_1\", \"stamp_2\"]\n",
    "df_pivot_diff = df_pivot.diff(axis=1)"
   ]
  },
  {
   "cell_type": "code",
   "execution_count": 7,
   "id": "fifth-motion",
   "metadata": {
    "execution": {
     "iopub.execute_input": "2021-11-22T17:30:11.196166Z",
     "iopub.status.busy": "2021-11-22T17:30:11.193851Z",
     "iopub.status.idle": "2021-11-22T17:30:13.146590Z",
     "shell.execute_reply": "2021-11-22T17:30:13.148124Z"
    },
    "papermill": {
     "duration": 1.99301,
     "end_time": "2021-11-22T17:30:13.148601",
     "exception": false,
     "start_time": "2021-11-22T17:30:11.155591",
     "status": "completed"
    },
    "tags": []
   },
   "outputs": [
    {
     "data": {
      "text/plain": [
       "<AxesSubplot:ylabel='PRODUCT'>"
      ]
     },
     "execution_count": 7,
     "metadata": {},
     "output_type": "execute_result"
    },
    {
     "data": {
      "image/png": "[encoded data removed]",
      "text/plain": [
       "<Figure size 432x288 with 1 Axes>"
      ]
     },
     "metadata": {
      "needs_background": "light"
     },
     "output_type": "display_data"
    }
   ],
   "source": [
    "df_pivot_diff.sort_values(\"stamp_2\", ascending = False)[\"stamp_2\"].head(10).plot.barh()"
   ]
  },
  {
   "cell_type": "code",
   "execution_count": null,
   "id": "extra-executive",
   "metadata": {
    "papermill": {
     "duration": 0.023777,
     "end_time": "2021-11-22T17:30:13.197691",
     "exception": false,
     "start_time": "2021-11-22T17:30:13.173914",
     "status": "completed"
    },
    "tags": []
   },
   "outputs": [],
   "source": []
  }
 ],
 "metadata": {
  "kernelspec": {
   "display_name": "Python 3",
   "language": "python",
   "name": "python3"
  },
  "language_info": {
   "codemirror_mode": {
    "name": "ipython",
    "version": 3
   },
   "file_extension": ".py",
   "mimetype": "text/x-python",
   "name": "python",
   "nbconvert_exporter": "python",
   "pygments_lexer": "ipython3",
   "version": "3.9.5"
  },
  "papermill": {
   "default_parameters": {},
   "duration": 9.93304,
   "end_time": "2021-11-22T17:30:14.770163",
   "environment_variables": {},
   "exception": null,
   "input_path": "eBay_Overview.ipynb",
   "output_path": "eBay_Overview.ipynb",
   "parameters": {},
   "start_time": "2021-11-22T17:30:04.837123",
   "version": "2.3.3"
  }
 },
 "nbformat": 4,
 "nbformat_minor": 5
}