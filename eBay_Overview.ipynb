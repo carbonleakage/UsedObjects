{
 "cells": [
  {
   "cell_type": "code",
   "execution_count": 1,
   "id": "reverse-picking",
   "metadata": {
    "execution": {
     "iopub.execute_input": "2021-12-09T03:00:08.091855Z",
     "iopub.status.busy": "2021-12-09T03:00:08.088171Z",
     "iopub.status.idle": "2021-12-09T03:00:09.065153Z",
     "shell.execute_reply": "2021-12-09T03:00:09.067622Z"
    },
    "papermill": {
     "duration": 1.027742,
     "end_time": "2021-12-09T03:00:09.068343",
     "exception": false,
     "start_time": "2021-12-09T03:00:08.040601",
     "status": "completed"
    },
    "tags": []
   },
   "outputs": [],
   "source": [
    "import pandas as pd\n",
    "import sqlite3"
   ]
  },
  {
   "cell_type": "code",
   "execution_count": 2,
   "id": "innovative-syndrome",
   "metadata": {
    "execution": {
     "iopub.execute_input": "2021-12-09T03:00:09.133889Z",
     "iopub.status.busy": "2021-12-09T03:00:09.131765Z",
     "iopub.status.idle": "2021-12-09T03:00:10.141628Z",
     "shell.execute_reply": "2021-12-09T03:00:10.143069Z"
    },
    "papermill": {
     "duration": 1.054282,
     "end_time": "2021-12-09T03:00:10.143521",
     "exception": false,
     "start_time": "2021-12-09T03:00:09.089239",
     "status": "completed"
    },
    "tags": []
   },
   "outputs": [],
   "source": [
    "timestamps = pd.read_sql(\"select distinct record_time from EBAY_TOP_BERLIN order by record_time desc limit 2\", sqlite3.connect(\"UsedObjects.db\"))"
   ]
  },
  {
   "cell_type": "code",
   "execution_count": 3,
   "id": "periodic-identification",
   "metadata": {
    "execution": {
     "iopub.execute_input": "2021-12-09T03:00:10.221329Z",
     "iopub.status.busy": "2021-12-09T03:00:10.216803Z",
     "iopub.status.idle": "2021-12-09T03:00:10.257982Z",
     "shell.execute_reply": "2021-12-09T03:00:10.260746Z"
    },
    "papermill": {
     "duration": 0.098261,
     "end_time": "2021-12-09T03:00:10.261506",
     "exception": false,
     "start_time": "2021-12-09T03:00:10.163245",
     "status": "completed"
    },
    "tags": []
   },
   "outputs": [
    {
     "data": {
      "text/html": [
       "<div>\n",
       "<style scoped>\n",
       "    .dataframe tbody tr th:only-of-type {\n",
       "        vertical-align: middle;\n",
       "    }\n",
       "\n",
       "    .dataframe tbody tr th {\n",
       "        vertical-align: top;\n",
       "    }\n",
       "\n",
       "    .dataframe thead th {\n",
       "        text-align: right;\n",
       "    }\n",
       "</style>\n",
       "<table border=\"1\" class=\"dataframe\">\n",
       "  <thead>\n",
       "    <tr style=\"text-align: right;\">\n",
       "      <th></th>\n",
       "      <th>RECORD_TIME</th>\n",
       "    </tr>\n",
       "  </thead>\n",
       "  <tbody>\n",
       "    <tr>\n",
       "      <th>0</th>\n",
       "      <td>2021-12-09 04:00</td>\n",
       "    </tr>\n",
       "    <tr>\n",
       "      <th>1</th>\n",
       "      <td>2021-12-09 03:30</td>\n",
       "    </tr>\n",
       "  </tbody>\n",
       "</table>\n",
       "</div>"
      ],
      "text/plain": [
       "        RECORD_TIME\n",
       "0  2021-12-09 04:00\n",
       "1  2021-12-09 03:30"
      ]
     },
     "execution_count": 3,
     "metadata": {},
     "output_type": "execute_result"
    }
   ],
   "source": [
    "timestamps"
   ]
  },
  {
   "cell_type": "code",
   "execution_count": 4,
   "id": "alternate-victory",
   "metadata": {
    "execution": {
     "iopub.execute_input": "2021-12-09T03:00:10.327619Z",
     "iopub.status.busy": "2021-12-09T03:00:10.325392Z",
     "iopub.status.idle": "2021-12-09T03:00:11.852348Z",
     "shell.execute_reply": "2021-12-09T03:00:11.855781Z"
    },
    "papermill": {
     "duration": 1.5641,
     "end_time": "2021-12-09T03:00:11.856653",
     "exception": false,
     "start_time": "2021-12-09T03:00:10.292553",
     "status": "completed"
    },
    "tags": []
   },
   "outputs": [],
   "source": [
    "df = pd.read_sql(\"select * from EBAY_TOP_BERLIN where record_time in (select distinct record_time from EBAY_TOP_BERLIN order by record_time desc limit 2)\", sqlite3.connect(\"UsedObjects.db\"))"
   ]
  },
  {
   "cell_type": "code",
   "execution_count": 5,
   "id": "popular-active",
   "metadata": {
    "execution": {
     "iopub.execute_input": "2021-12-09T03:00:11.969623Z",
     "iopub.status.busy": "2021-12-09T03:00:11.952677Z",
     "iopub.status.idle": "2021-12-09T03:00:12.020519Z",
     "shell.execute_reply": "2021-12-09T03:00:12.023261Z"
    },
    "papermill": {
     "duration": 0.134737,
     "end_time": "2021-12-09T03:00:12.024021",
     "exception": false,
     "start_time": "2021-12-09T03:00:11.889284",
     "status": "completed"
    },
    "tags": []
   },
   "outputs": [],
   "source": [
    "df_pivot = df.pivot_table(index=\"PRODUCT\", columns = \"RECORD_TIME\", values = \"LISTING_COUNT\")"
   ]
  },
  {
   "cell_type": "code",
   "execution_count": 6,
   "id": "union-huntington",
   "metadata": {
    "execution": {
     "iopub.execute_input": "2021-12-09T03:00:12.108868Z",
     "iopub.status.busy": "2021-12-09T03:00:12.104814Z",
     "iopub.status.idle": "2021-12-09T03:00:12.117608Z",
     "shell.execute_reply": "2021-12-09T03:00:12.113771Z"
    },
    "papermill": {
     "duration": 0.064642,
     "end_time": "2021-12-09T03:00:12.118373",
     "exception": false,
     "start_time": "2021-12-09T03:00:12.053731",
     "status": "completed"
    },
    "tags": []
   },
   "outputs": [],
   "source": [
    "df_pivot.columns = [\"stamp_1\", \"stamp_2\"]\n",
    "df_pivot_diff = df_pivot.diff(axis=1)"
   ]
  },
  {
   "cell_type": "code",
   "execution_count": 7,
   "id": "fifth-motion",
   "metadata": {
    "execution": {
     "iopub.execute_input": "2021-12-09T03:00:12.221400Z",
     "iopub.status.busy": "2021-12-09T03:00:12.204243Z",
     "iopub.status.idle": "2021-12-09T03:00:13.910398Z",
     "shell.execute_reply": "2021-12-09T03:00:13.911602Z"
    },
    "papermill": {
     "duration": 1.761275,
     "end_time": "2021-12-09T03:00:13.912036",
     "exception": false,
     "start_time": "2021-12-09T03:00:12.150761",
     "status": "completed"
    },
    "tags": []
   },
   "outputs": [
    {
     "data": {
      "text/plain": [
       "<AxesSubplot:ylabel='PRODUCT'>"
      ]
     },
     "execution_count": 7,
     "metadata": {},
     "output_type": "execute_result"
    },
    {
     "data": {
      "image/png": "[encoded data removed]",
      "text/plain": [
       "<Figure size 432x288 with 1 Axes>"
      ]
     },
     "metadata": {
      "needs_background": "light"
     },
     "output_type": "display_data"
    }
   ],
   "source": [
    "df_pivot_diff.sort_values(\"stamp_2\", ascending = False)[\"stamp_2\"].head(10).plot.barh()"
   ]
  },
  {
   "cell_type": "code",
   "execution_count": null,
   "id": "extra-executive",
   "metadata": {
    "papermill": {
     "duration": 0.02195,
     "end_time": "2021-12-09T03:00:13.957536",
     "exception": false,
     "start_time": "2021-12-09T03:00:13.935586",
     "status": "completed"
    },
    "tags": []
   },
   "outputs": [],
   "source": []
  }
 ],
 "metadata": {
  "kernelspec": {
   "display_name": "Python 3",
   "language": "python",
   "name": "python3"
  },
  "language_info": {
   "codemirror_mode": {
    "name": "ipython",
    "version": 3
   },
   "file_extension": ".py",
   "mimetype": "text/x-python",
   "name": "python",
   "nbconvert_exporter": "python",
   "pygments_lexer": "ipython3",
   "version": "3.9.5"
  },
  "papermill": {
   "default_parameters": {},
   "duration": 9.941583,
   "end_time": "2021-12-09T03:00:15.240477",
   "environment_variables": {},
   "exception": null,
   "input_path": "eBay_Overview.ipynb",
   "output_path": "eBay_Overview.ipynb",
   "parameters": {},
   "start_time": "2021-12-09T03:00:05.298894",
   "version": "2.3.3"
  }
 },
 "nbformat": 4,
 "nbformat_minor": 5
}