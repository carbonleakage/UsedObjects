{
 "cells": [
  {
   "cell_type": "code",
   "execution_count": 1,
   "id": "reverse-picking",
   "metadata": {
    "execution": {
     "iopub.execute_input": "2021-08-18T01:00:07.224834Z",
     "iopub.status.busy": "2021-08-18T01:00:07.222948Z",
     "iopub.status.idle": "2021-08-18T01:00:08.026773Z",
     "shell.execute_reply": "2021-08-18T01:00:08.028016Z"
    },
    "papermill": {
     "duration": 0.857541,
     "end_time": "2021-08-18T01:00:08.028621",
     "exception": false,
     "start_time": "2021-08-18T01:00:07.171080",
     "status": "completed"
    },
    "tags": []
   },
   "outputs": [],
   "source": [
    "import pandas as pd\n",
    "import sqlite3"
   ]
  },
  {
   "cell_type": "code",
   "execution_count": 2,
   "id": "innovative-syndrome",
   "metadata": {
    "execution": {
     "iopub.execute_input": "2021-08-18T01:00:08.081340Z",
     "iopub.status.busy": "2021-08-18T01:00:08.079208Z",
     "iopub.status.idle": "2021-08-18T01:00:08.151354Z",
     "shell.execute_reply": "2021-08-18T01:00:08.152634Z"
    },
    "papermill": {
     "duration": 0.102201,
     "end_time": "2021-08-18T01:00:08.153048",
     "exception": false,
     "start_time": "2021-08-18T01:00:08.050847",
     "status": "completed"
    },
    "tags": []
   },
   "outputs": [],
   "source": [
    "timestamps = pd.read_sql(\"select distinct record_time from EBAY_TOP_BERLIN order by record_time desc limit 2\", sqlite3.connect(\"UsedObjects.db\"))"
   ]
  },
  {
   "cell_type": "code",
   "execution_count": 3,
   "id": "periodic-identification",
   "metadata": {
    "execution": {
     "iopub.execute_input": "2021-08-18T01:00:08.218932Z",
     "iopub.status.busy": "2021-08-18T01:00:08.216867Z",
     "iopub.status.idle": "2021-08-18T01:00:08.236621Z",
     "shell.execute_reply": "2021-08-18T01:00:08.238032Z"
    },
    "papermill": {
     "duration": 0.066421,
     "end_time": "2021-08-18T01:00:08.238516",
     "exception": false,
     "start_time": "2021-08-18T01:00:08.172095",
     "status": "completed"
    },
    "tags": []
   },
   "outputs": [
    {
     "data": {
      "text/html": [
       "<div>\n",
       "<style scoped>\n",
       "    .dataframe tbody tr th:only-of-type {\n",
       "        vertical-align: middle;\n",
       "    }\n",
       "\n",
       "    .dataframe tbody tr th {\n",
       "        vertical-align: top;\n",
       "    }\n",
       "\n",
       "    .dataframe thead th {\n",
       "        text-align: right;\n",
       "    }\n",
       "</style>\n",
       "<table border=\"1\" class=\"dataframe\">\n",
       "  <thead>\n",
       "    <tr style=\"text-align: right;\">\n",
       "      <th></th>\n",
       "      <th>RECORD_TIME</th>\n",
       "    </tr>\n",
       "  </thead>\n",
       "  <tbody>\n",
       "    <tr>\n",
       "      <th>0</th>\n",
       "      <td>2021-08-18 03:00</td>\n",
       "    </tr>\n",
       "    <tr>\n",
       "      <th>1</th>\n",
       "      <td>2021-08-18 02:30</td>\n",
       "    </tr>\n",
       "  </tbody>\n",
       "</table>\n",
       "</div>"
      ],
      "text/plain": [
       "        RECORD_TIME\n",
       "0  2021-08-18 03:00\n",
       "1  2021-08-18 02:30"
      ]
     },
     "execution_count": 3,
     "metadata": {},
     "output_type": "execute_result"
    }
   ],
   "source": [
    "timestamps"
   ]
  },
  {
   "cell_type": "code",
   "execution_count": 4,
   "id": "alternate-victory",
   "metadata": {
    "execution": {
     "iopub.execute_input": "2021-08-18T01:00:08.289964Z",
     "iopub.status.busy": "2021-08-18T01:00:08.288090Z",
     "iopub.status.idle": "2021-08-18T01:00:08.392010Z",
     "shell.execute_reply": "2021-08-18T01:00:08.393266Z"
    },
    "papermill": {
     "duration": 0.133765,
     "end_time": "2021-08-18T01:00:08.393680",
     "exception": false,
     "start_time": "2021-08-18T01:00:08.259915",
     "status": "completed"
    },
    "tags": []
   },
   "outputs": [],
   "source": [
    "df = pd.read_sql(\"select * from EBAY_TOP_BERLIN where record_time in (select distinct record_time from EBAY_TOP_BERLIN order by record_time desc limit 2)\", sqlite3.connect(\"UsedObjects.db\"))"
   ]
  },
  {
   "cell_type": "code",
   "execution_count": 5,
   "id": "popular-active",
   "metadata": {
    "execution": {
     "iopub.execute_input": "2021-08-18T01:00:08.459204Z",
     "iopub.status.busy": "2021-08-18T01:00:08.453144Z",
     "iopub.status.idle": "2021-08-18T01:00:08.480129Z",
     "shell.execute_reply": "2021-08-18T01:00:08.481340Z"
    },
    "papermill": {
     "duration": 0.067439,
     "end_time": "2021-08-18T01:00:08.481732",
     "exception": false,
     "start_time": "2021-08-18T01:00:08.414293",
     "status": "completed"
    },
    "tags": []
   },
   "outputs": [],
   "source": [
    "df_pivot = df.pivot_table(index=\"PRODUCT\", columns = \"RECORD_TIME\", values = \"LISTING_COUNT\")"
   ]
  },
  {
   "cell_type": "code",
   "execution_count": 6,
   "id": "union-huntington",
   "metadata": {
    "execution": {
     "iopub.execute_input": "2021-08-18T01:00:08.541382Z",
     "iopub.status.busy": "2021-08-18T01:00:08.538941Z",
     "iopub.status.idle": "2021-08-18T01:00:08.544682Z",
     "shell.execute_reply": "2021-08-18T01:00:08.545854Z"
    },
    "papermill": {
     "duration": 0.042261,
     "end_time": "2021-08-18T01:00:08.546336",
     "exception": false,
     "start_time": "2021-08-18T01:00:08.504075",
     "status": "completed"
    },
    "tags": []
   },
   "outputs": [],
   "source": [
    "df_pivot.columns = [\"stamp_1\", \"stamp_2\"]\n",
    "df_pivot_diff = df_pivot.diff(axis=1)"
   ]
  },
  {
   "cell_type": "code",
   "execution_count": 7,
   "id": "fifth-motion",
   "metadata": {
    "execution": {
     "iopub.execute_input": "2021-08-18T01:00:08.601036Z",
     "iopub.status.busy": "2021-08-18T01:00:08.598768Z",
     "iopub.status.idle": "2021-08-18T01:00:10.097166Z",
     "shell.execute_reply": "2021-08-18T01:00:10.098507Z"
    },
    "papermill": {
     "duration": 1.531957,
     "end_time": "2021-08-18T01:00:10.098930",
     "exception": false,
     "start_time": "2021-08-18T01:00:08.566973",
     "status": "completed"
    },
    "tags": []
   },
   "outputs": [
    {
     "data": {
      "text/plain": [
       "<AxesSubplot:ylabel='PRODUCT'>"
      ]
     },
     "execution_count": 7,
     "metadata": {},
     "output_type": "execute_result"
    },
    {
     "data": {
      "image/png": "[encoded data removed]",
      "text/plain": [
       "<Figure size 432x288 with 1 Axes>"
      ]
     },
     "metadata": {
      "needs_background": "light"
     },
     "output_type": "display_data"
    }
   ],
   "source": [
    "df_pivot_diff.sort_values(\"stamp_2\", ascending = False)[\"stamp_2\"].head(10).plot.barh()"
   ]
  },
  {
   "cell_type": "code",
   "execution_count": null,
   "id": "extra-executive",
   "metadata": {
    "papermill": {
     "duration": 0.022086,
     "end_time": "2021-08-18T01:00:10.145730",
     "exception": false,
     "start_time": "2021-08-18T01:00:10.123644",
     "status": "completed"
    },
    "tags": []
   },
   "outputs": [],
   "source": []
  }
 ],
 "metadata": {
  "kernelspec": {
   "display_name": "Python 3",
   "language": "python",
   "name": "python3"
  },
  "language_info": {
   "codemirror_mode": {
    "name": "ipython",
    "version": 3
   },
   "file_extension": ".py",
   "mimetype": "text/x-python",
   "name": "python",
   "nbconvert_exporter": "python",
   "pygments_lexer": "ipython3",
   "version": "3.9.5"
  },
  "papermill": {
   "default_parameters": {},
   "duration": 6.826245,
   "end_time": "2021-08-18T01:00:11.591191",
   "environment_variables": {},
   "exception": null,
   "input_path": "eBay_Overview.ipynb",
   "output_path": "eBay_Overview.ipynb",
   "parameters": {},
   "start_time": "2021-08-18T01:00:04.764946",
   "version": "2.3.3"
  }
 },
 "nbformat": 4,
 "nbformat_minor": 5
}