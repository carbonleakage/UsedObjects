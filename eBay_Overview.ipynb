{
 "cells": [
  {
   "cell_type": "code",
   "execution_count": 1,
   "id": "reverse-picking",
   "metadata": {
    "execution": {
     "iopub.execute_input": "2021-12-02T16:30:08.030796Z",
     "iopub.status.busy": "2021-12-02T16:30:08.028424Z",
     "iopub.status.idle": "2021-12-02T16:30:08.995599Z",
     "shell.execute_reply": "2021-12-02T16:30:08.996928Z"
    },
    "papermill": {
     "duration": 1.014309,
     "end_time": "2021-12-02T16:30:08.997633",
     "exception": false,
     "start_time": "2021-12-02T16:30:07.983324",
     "status": "completed"
    },
    "tags": []
   },
   "outputs": [],
   "source": [
    "import pandas as pd\n",
    "import sqlite3"
   ]
  },
  {
   "cell_type": "code",
   "execution_count": 2,
   "id": "innovative-syndrome",
   "metadata": {
    "execution": {
     "iopub.execute_input": "2021-12-02T16:30:09.054347Z",
     "iopub.status.busy": "2021-12-02T16:30:09.051466Z",
     "iopub.status.idle": "2021-12-02T16:30:10.030109Z",
     "shell.execute_reply": "2021-12-02T16:30:10.031591Z"
    },
    "papermill": {
     "duration": 1.012,
     "end_time": "2021-12-02T16:30:10.032129",
     "exception": false,
     "start_time": "2021-12-02T16:30:09.020129",
     "status": "completed"
    },
    "tags": []
   },
   "outputs": [],
   "source": [
    "timestamps = pd.read_sql(\"select distinct record_time from EBAY_TOP_BERLIN order by record_time desc limit 2\", sqlite3.connect(\"UsedObjects.db\"))"
   ]
  },
  {
   "cell_type": "code",
   "execution_count": 3,
   "id": "periodic-identification",
   "metadata": {
    "execution": {
     "iopub.execute_input": "2021-12-02T16:30:10.109496Z",
     "iopub.status.busy": "2021-12-02T16:30:10.103487Z",
     "iopub.status.idle": "2021-12-02T16:30:10.127780Z",
     "shell.execute_reply": "2021-12-02T16:30:10.126191Z"
    },
    "papermill": {
     "duration": 0.075349,
     "end_time": "2021-12-02T16:30:10.128236",
     "exception": false,
     "start_time": "2021-12-02T16:30:10.052887",
     "status": "completed"
    },
    "tags": []
   },
   "outputs": [
    {
     "data": {
      "text/html": [
       "<div>\n",
       "<style scoped>\n",
       "    .dataframe tbody tr th:only-of-type {\n",
       "        vertical-align: middle;\n",
       "    }\n",
       "\n",
       "    .dataframe tbody tr th {\n",
       "        vertical-align: top;\n",
       "    }\n",
       "\n",
       "    .dataframe thead th {\n",
       "        text-align: right;\n",
       "    }\n",
       "</style>\n",
       "<table border=\"1\" class=\"dataframe\">\n",
       "  <thead>\n",
       "    <tr style=\"text-align: right;\">\n",
       "      <th></th>\n",
       "      <th>RECORD_TIME</th>\n",
       "    </tr>\n",
       "  </thead>\n",
       "  <tbody>\n",
       "    <tr>\n",
       "      <th>0</th>\n",
       "      <td>2021-12-02 17:30</td>\n",
       "    </tr>\n",
       "    <tr>\n",
       "      <th>1</th>\n",
       "      <td>2021-12-02 17:00</td>\n",
       "    </tr>\n",
       "  </tbody>\n",
       "</table>\n",
       "</div>"
      ],
      "text/plain": [
       "        RECORD_TIME\n",
       "0  2021-12-02 17:30\n",
       "1  2021-12-02 17:00"
      ]
     },
     "execution_count": 3,
     "metadata": {},
     "output_type": "execute_result"
    }
   ],
   "source": [
    "timestamps"
   ]
  },
  {
   "cell_type": "code",
   "execution_count": 4,
   "id": "alternate-victory",
   "metadata": {
    "execution": {
     "iopub.execute_input": "2021-12-02T16:30:10.184477Z",
     "iopub.status.busy": "2021-12-02T16:30:10.182233Z",
     "iopub.status.idle": "2021-12-02T16:30:11.607952Z",
     "shell.execute_reply": "2021-12-02T16:30:11.609601Z"
    },
    "papermill": {
     "duration": 1.461059,
     "end_time": "2021-12-02T16:30:11.610103",
     "exception": false,
     "start_time": "2021-12-02T16:30:10.149044",
     "status": "completed"
    },
    "tags": []
   },
   "outputs": [],
   "source": [
    "df = pd.read_sql(\"select * from EBAY_TOP_BERLIN where record_time in (select distinct record_time from EBAY_TOP_BERLIN order by record_time desc limit 2)\", sqlite3.connect(\"UsedObjects.db\"))"
   ]
  },
  {
   "cell_type": "code",
   "execution_count": 5,
   "id": "popular-active",
   "metadata": {
    "execution": {
     "iopub.execute_input": "2021-12-02T16:30:11.689959Z",
     "iopub.status.busy": "2021-12-02T16:30:11.674905Z",
     "iopub.status.idle": "2021-12-02T16:30:11.708624Z",
     "shell.execute_reply": "2021-12-02T16:30:11.710203Z"
    },
    "papermill": {
     "duration": 0.079353,
     "end_time": "2021-12-02T16:30:11.710763",
     "exception": false,
     "start_time": "2021-12-02T16:30:11.631410",
     "status": "completed"
    },
    "tags": []
   },
   "outputs": [],
   "source": [
    "df_pivot = df.pivot_table(index=\"PRODUCT\", columns = \"RECORD_TIME\", values = \"LISTING_COUNT\")"
   ]
  },
  {
   "cell_type": "code",
   "execution_count": 6,
   "id": "union-huntington",
   "metadata": {
    "execution": {
     "iopub.execute_input": "2021-12-02T16:30:11.772359Z",
     "iopub.status.busy": "2021-12-02T16:30:11.770031Z",
     "iopub.status.idle": "2021-12-02T16:30:11.776559Z",
     "shell.execute_reply": "2021-12-02T16:30:11.778297Z"
    },
    "papermill": {
     "duration": 0.046841,
     "end_time": "2021-12-02T16:30:11.778897",
     "exception": false,
     "start_time": "2021-12-02T16:30:11.732056",
     "status": "completed"
    },
    "tags": []
   },
   "outputs": [],
   "source": [
    "df_pivot.columns = [\"stamp_1\", \"stamp_2\"]\n",
    "df_pivot_diff = df_pivot.diff(axis=1)"
   ]
  },
  {
   "cell_type": "code",
   "execution_count": 7,
   "id": "fifth-motion",
   "metadata": {
    "execution": {
     "iopub.execute_input": "2021-12-02T16:30:11.834983Z",
     "iopub.status.busy": "2021-12-02T16:30:11.832396Z",
     "iopub.status.idle": "2021-12-02T16:30:13.776398Z",
     "shell.execute_reply": "2021-12-02T16:30:13.779224Z"
    },
    "papermill": {
     "duration": 1.981254,
     "end_time": "2021-12-02T16:30:13.780080",
     "exception": false,
     "start_time": "2021-12-02T16:30:11.798826",
     "status": "completed"
    },
    "tags": []
   },
   "outputs": [
    {
     "data": {
      "text/plain": [
       "<AxesSubplot:ylabel='PRODUCT'>"
      ]
     },
     "execution_count": 7,
     "metadata": {},
     "output_type": "execute_result"
    },
    {
     "data": {
      "image/png": "[encoded data removed]",
      "text/plain": [
       "<Figure size 432x288 with 1 Axes>"
      ]
     },
     "metadata": {
      "needs_background": "light"
     },
     "output_type": "display_data"
    }
   ],
   "source": [
    "df_pivot_diff.sort_values(\"stamp_2\", ascending = False)[\"stamp_2\"].head(10).plot.barh()"
   ]
  },
  {
   "cell_type": "code",
   "execution_count": null,
   "id": "extra-executive",
   "metadata": {
    "papermill": {
     "duration": 0.032801,
     "end_time": "2021-12-02T16:30:13.849556",
     "exception": false,
     "start_time": "2021-12-02T16:30:13.816755",
     "status": "completed"
    },
    "tags": []
   },
   "outputs": [],
   "source": []
  }
 ],
 "metadata": {
  "kernelspec": {
   "display_name": "Python 3",
   "language": "python",
   "name": "python3"
  },
  "language_info": {
   "codemirror_mode": {
    "name": "ipython",
    "version": 3
   },
   "file_extension": ".py",
   "mimetype": "text/x-python",
   "name": "python",
   "nbconvert_exporter": "python",
   "pygments_lexer": "ipython3",
   "version": "3.9.5"
  },
  "papermill": {
   "default_parameters": {},
   "duration": 9.958033,
   "end_time": "2021-12-02T16:30:15.175470",
   "environment_variables": {},
   "exception": null,
   "input_path": "eBay_Overview.ipynb",
   "output_path": "eBay_Overview.ipynb",
   "parameters": {},
   "start_time": "2021-12-02T16:30:05.217437",
   "version": "2.3.3"
  }
 },
 "nbformat": 4,
 "nbformat_minor": 5
}