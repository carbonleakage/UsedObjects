{
 "cells": [
  {
   "cell_type": "code",
   "execution_count": 1,
   "id": "reverse-picking",
   "metadata": {
    "execution": {
     "iopub.execute_input": "2021-11-27T21:00:08.359879Z",
     "iopub.status.busy": "2021-11-27T21:00:08.357475Z",
     "iopub.status.idle": "2021-11-27T21:00:09.323493Z",
     "shell.execute_reply": "2021-11-27T21:00:09.325225Z"
    },
    "papermill": {
     "duration": 1.015694,
     "end_time": "2021-11-27T21:00:09.326089",
     "exception": false,
     "start_time": "2021-11-27T21:00:08.310395",
     "status": "completed"
    },
    "tags": []
   },
   "outputs": [],
   "source": [
    "import pandas as pd\n",
    "import sqlite3"
   ]
  },
  {
   "cell_type": "code",
   "execution_count": 2,
   "id": "innovative-syndrome",
   "metadata": {
    "execution": {
     "iopub.execute_input": "2021-11-27T21:00:09.396322Z",
     "iopub.status.busy": "2021-11-27T21:00:09.394161Z",
     "iopub.status.idle": "2021-11-27T21:00:10.306227Z",
     "shell.execute_reply": "2021-11-27T21:00:10.307767Z"
    },
    "papermill": {
     "duration": 0.947845,
     "end_time": "2021-11-27T21:00:10.308273",
     "exception": false,
     "start_time": "2021-11-27T21:00:09.360428",
     "status": "completed"
    },
    "tags": []
   },
   "outputs": [],
   "source": [
    "timestamps = pd.read_sql(\"select distinct record_time from EBAY_TOP_BERLIN order by record_time desc limit 2\", sqlite3.connect(\"UsedObjects.db\"))"
   ]
  },
  {
   "cell_type": "code",
   "execution_count": 3,
   "id": "periodic-identification",
   "metadata": {
    "execution": {
     "iopub.execute_input": "2021-11-27T21:00:10.370026Z",
     "iopub.status.busy": "2021-11-27T21:00:10.358874Z",
     "iopub.status.idle": "2021-11-27T21:00:10.416047Z",
     "shell.execute_reply": "2021-11-27T21:00:10.417628Z"
    },
    "papermill": {
     "duration": 0.089687,
     "end_time": "2021-11-27T21:00:10.418139",
     "exception": false,
     "start_time": "2021-11-27T21:00:10.328452",
     "status": "completed"
    },
    "tags": []
   },
   "outputs": [
    {
     "data": {
      "text/html": [
       "<div>\n",
       "<style scoped>\n",
       "    .dataframe tbody tr th:only-of-type {\n",
       "        vertical-align: middle;\n",
       "    }\n",
       "\n",
       "    .dataframe tbody tr th {\n",
       "        vertical-align: top;\n",
       "    }\n",
       "\n",
       "    .dataframe thead th {\n",
       "        text-align: right;\n",
       "    }\n",
       "</style>\n",
       "<table border=\"1\" class=\"dataframe\">\n",
       "  <thead>\n",
       "    <tr style=\"text-align: right;\">\n",
       "      <th></th>\n",
       "      <th>RECORD_TIME</th>\n",
       "    </tr>\n",
       "  </thead>\n",
       "  <tbody>\n",
       "    <tr>\n",
       "      <th>0</th>\n",
       "      <td>2021-11-27 22:00</td>\n",
       "    </tr>\n",
       "    <tr>\n",
       "      <th>1</th>\n",
       "      <td>2021-11-27 21:30</td>\n",
       "    </tr>\n",
       "  </tbody>\n",
       "</table>\n",
       "</div>"
      ],
      "text/plain": [
       "        RECORD_TIME\n",
       "0  2021-11-27 22:00\n",
       "1  2021-11-27 21:30"
      ]
     },
     "execution_count": 3,
     "metadata": {},
     "output_type": "execute_result"
    }
   ],
   "source": [
    "timestamps"
   ]
  },
  {
   "cell_type": "code",
   "execution_count": 4,
   "id": "alternate-victory",
   "metadata": {
    "execution": {
     "iopub.execute_input": "2021-11-27T21:00:10.474090Z",
     "iopub.status.busy": "2021-11-27T21:00:10.471708Z",
     "iopub.status.idle": "2021-11-27T21:00:11.804228Z",
     "shell.execute_reply": "2021-11-27T21:00:11.805844Z"
    },
    "papermill": {
     "duration": 1.366294,
     "end_time": "2021-11-27T21:00:11.806329",
     "exception": false,
     "start_time": "2021-11-27T21:00:10.440035",
     "status": "completed"
    },
    "tags": []
   },
   "outputs": [],
   "source": [
    "df = pd.read_sql(\"select * from EBAY_TOP_BERLIN where record_time in (select distinct record_time from EBAY_TOP_BERLIN order by record_time desc limit 2)\", sqlite3.connect(\"UsedObjects.db\"))"
   ]
  },
  {
   "cell_type": "code",
   "execution_count": 5,
   "id": "popular-active",
   "metadata": {
    "execution": {
     "iopub.execute_input": "2021-11-27T21:00:11.882909Z",
     "iopub.status.busy": "2021-11-27T21:00:11.874948Z",
     "iopub.status.idle": "2021-11-27T21:00:11.900484Z",
     "shell.execute_reply": "2021-11-27T21:00:11.902004Z"
    },
    "papermill": {
     "duration": 0.073711,
     "end_time": "2021-11-27T21:00:11.902484",
     "exception": false,
     "start_time": "2021-11-27T21:00:11.828773",
     "status": "completed"
    },
    "tags": []
   },
   "outputs": [],
   "source": [
    "df_pivot = df.pivot_table(index=\"PRODUCT\", columns = \"RECORD_TIME\", values = \"LISTING_COUNT\")"
   ]
  },
  {
   "cell_type": "code",
   "execution_count": 6,
   "id": "union-huntington",
   "metadata": {
    "execution": {
     "iopub.execute_input": "2021-11-27T21:00:11.961806Z",
     "iopub.status.busy": "2021-11-27T21:00:11.959180Z",
     "iopub.status.idle": "2021-11-27T21:00:11.971769Z",
     "shell.execute_reply": "2021-11-27T21:00:11.969160Z"
    },
    "papermill": {
     "duration": 0.049915,
     "end_time": "2021-11-27T21:00:11.972244",
     "exception": false,
     "start_time": "2021-11-27T21:00:11.922329",
     "status": "completed"
    },
    "tags": []
   },
   "outputs": [],
   "source": [
    "df_pivot.columns = [\"stamp_1\", \"stamp_2\"]\n",
    "df_pivot_diff = df_pivot.diff(axis=1)"
   ]
  },
  {
   "cell_type": "code",
   "execution_count": 7,
   "id": "fifth-motion",
   "metadata": {
    "execution": {
     "iopub.execute_input": "2021-11-27T21:00:12.028333Z",
     "iopub.status.busy": "2021-11-27T21:00:12.025954Z",
     "iopub.status.idle": "2021-11-27T21:00:14.017188Z",
     "shell.execute_reply": "2021-11-27T21:00:14.018717Z"
    },
    "papermill": {
     "duration": 2.026668,
     "end_time": "2021-11-27T21:00:14.019335",
     "exception": false,
     "start_time": "2021-11-27T21:00:11.992667",
     "status": "completed"
    },
    "tags": []
   },
   "outputs": [
    {
     "data": {
      "text/plain": [
       "<AxesSubplot:ylabel='PRODUCT'>"
      ]
     },
     "execution_count": 7,
     "metadata": {},
     "output_type": "execute_result"
    },
    {
     "data": {
      "image/png": "[encoded data removed]",
      "text/plain": [
       "<Figure size 432x288 with 1 Axes>"
      ]
     },
     "metadata": {
      "needs_background": "light"
     },
     "output_type": "display_data"
    }
   ],
   "source": [
    "df_pivot_diff.sort_values(\"stamp_2\", ascending = False)[\"stamp_2\"].head(10).plot.barh()"
   ]
  },
  {
   "cell_type": "code",
   "execution_count": null,
   "id": "extra-executive",
   "metadata": {
    "papermill": {
     "duration": 0.022014,
     "end_time": "2021-11-27T21:00:14.066195",
     "exception": false,
     "start_time": "2021-11-27T21:00:14.044181",
     "status": "completed"
    },
    "tags": []
   },
   "outputs": [],
   "source": []
  }
 ],
 "metadata": {
  "kernelspec": {
   "display_name": "Python 3",
   "language": "python",
   "name": "python3"
  },
  "language_info": {
   "codemirror_mode": {
    "name": "ipython",
    "version": 3
   },
   "file_extension": ".py",
   "mimetype": "text/x-python",
   "name": "python",
   "nbconvert_exporter": "python",
   "pygments_lexer": "ipython3",
   "version": "3.9.5"
  },
  "papermill": {
   "default_parameters": {},
   "duration": 9.93848,
   "end_time": "2021-11-27T21:00:15.503538",
   "environment_variables": {},
   "exception": null,
   "input_path": "eBay_Overview.ipynb",
   "output_path": "eBay_Overview.ipynb",
   "parameters": {},
   "start_time": "2021-11-27T21:00:05.565058",
   "version": "2.3.3"
  }
 },
 "nbformat": 4,
 "nbformat_minor": 5
}