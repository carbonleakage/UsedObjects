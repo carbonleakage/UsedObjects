{
 "cells": [
  {
   "cell_type": "code",
   "execution_count": 1,
   "id": "reverse-picking",
   "metadata": {
    "execution": {
     "iopub.execute_input": "2021-10-03T05:00:07.069550Z",
     "iopub.status.busy": "2021-10-03T05:00:07.067640Z",
     "iopub.status.idle": "2021-10-03T05:00:07.871323Z",
     "shell.execute_reply": "2021-10-03T05:00:07.872654Z"
    },
    "papermill": {
     "duration": 0.854028,
     "end_time": "2021-10-03T05:00:07.873301",
     "exception": false,
     "start_time": "2021-10-03T05:00:07.019273",
     "status": "completed"
    },
    "tags": []
   },
   "outputs": [],
   "source": [
    "import pandas as pd\n",
    "import sqlite3"
   ]
  },
  {
   "cell_type": "code",
   "execution_count": 2,
   "id": "innovative-syndrome",
   "metadata": {
    "execution": {
     "iopub.execute_input": "2021-10-03T05:00:07.923968Z",
     "iopub.status.busy": "2021-10-03T05:00:07.922011Z",
     "iopub.status.idle": "2021-10-03T05:00:08.355028Z",
     "shell.execute_reply": "2021-10-03T05:00:08.356410Z"
    },
    "papermill": {
     "duration": 0.462571,
     "end_time": "2021-10-03T05:00:08.356854",
     "exception": false,
     "start_time": "2021-10-03T05:00:07.894283",
     "status": "completed"
    },
    "tags": []
   },
   "outputs": [],
   "source": [
    "timestamps = pd.read_sql(\"select distinct record_time from EBAY_TOP_BERLIN order by record_time desc limit 2\", sqlite3.connect(\"UsedObjects.db\"))"
   ]
  },
  {
   "cell_type": "code",
   "execution_count": 3,
   "id": "periodic-identification",
   "metadata": {
    "execution": {
     "iopub.execute_input": "2021-10-03T05:00:08.422919Z",
     "iopub.status.busy": "2021-10-03T05:00:08.420867Z",
     "iopub.status.idle": "2021-10-03T05:00:08.441022Z",
     "shell.execute_reply": "2021-10-03T05:00:08.442417Z"
    },
    "papermill": {
     "duration": 0.06626,
     "end_time": "2021-10-03T05:00:08.442901",
     "exception": false,
     "start_time": "2021-10-03T05:00:08.376641",
     "status": "completed"
    },
    "tags": []
   },
   "outputs": [
    {
     "data": {
      "text/html": [
       "<div>\n",
       "<style scoped>\n",
       "    .dataframe tbody tr th:only-of-type {\n",
       "        vertical-align: middle;\n",
       "    }\n",
       "\n",
       "    .dataframe tbody tr th {\n",
       "        vertical-align: top;\n",
       "    }\n",
       "\n",
       "    .dataframe thead th {\n",
       "        text-align: right;\n",
       "    }\n",
       "</style>\n",
       "<table border=\"1\" class=\"dataframe\">\n",
       "  <thead>\n",
       "    <tr style=\"text-align: right;\">\n",
       "      <th></th>\n",
       "      <th>RECORD_TIME</th>\n",
       "    </tr>\n",
       "  </thead>\n",
       "  <tbody>\n",
       "    <tr>\n",
       "      <th>0</th>\n",
       "      <td>2021-10-03 07:00</td>\n",
       "    </tr>\n",
       "    <tr>\n",
       "      <th>1</th>\n",
       "      <td>2021-10-03 06:30</td>\n",
       "    </tr>\n",
       "  </tbody>\n",
       "</table>\n",
       "</div>"
      ],
      "text/plain": [
       "        RECORD_TIME\n",
       "0  2021-10-03 07:00\n",
       "1  2021-10-03 06:30"
      ]
     },
     "execution_count": 3,
     "metadata": {},
     "output_type": "execute_result"
    }
   ],
   "source": [
    "timestamps"
   ]
  },
  {
   "cell_type": "code",
   "execution_count": 4,
   "id": "alternate-victory",
   "metadata": {
    "execution": {
     "iopub.execute_input": "2021-10-03T05:00:08.493937Z",
     "iopub.status.busy": "2021-10-03T05:00:08.492108Z",
     "iopub.status.idle": "2021-10-03T05:00:09.128616Z",
     "shell.execute_reply": "2021-10-03T05:00:09.127296Z"
    },
    "papermill": {
     "duration": 0.664972,
     "end_time": "2021-10-03T05:00:09.128951",
     "exception": false,
     "start_time": "2021-10-03T05:00:08.463979",
     "status": "completed"
    },
    "tags": []
   },
   "outputs": [],
   "source": [
    "df = pd.read_sql(\"select * from EBAY_TOP_BERLIN where record_time in (select distinct record_time from EBAY_TOP_BERLIN order by record_time desc limit 2)\", sqlite3.connect(\"UsedObjects.db\"))"
   ]
  },
  {
   "cell_type": "code",
   "execution_count": 5,
   "id": "popular-active",
   "metadata": {
    "execution": {
     "iopub.execute_input": "2021-10-03T05:00:09.201240Z",
     "iopub.status.busy": "2021-10-03T05:00:09.188798Z",
     "iopub.status.idle": "2021-10-03T05:00:09.216854Z",
     "shell.execute_reply": "2021-10-03T05:00:09.218038Z"
    },
    "papermill": {
     "duration": 0.067782,
     "end_time": "2021-10-03T05:00:09.218433",
     "exception": false,
     "start_time": "2021-10-03T05:00:09.150651",
     "status": "completed"
    },
    "tags": []
   },
   "outputs": [],
   "source": [
    "df_pivot = df.pivot_table(index=\"PRODUCT\", columns = \"RECORD_TIME\", values = \"LISTING_COUNT\")"
   ]
  },
  {
   "cell_type": "code",
   "execution_count": 6,
   "id": "union-huntington",
   "metadata": {
    "execution": {
     "iopub.execute_input": "2021-10-03T05:00:09.274382Z",
     "iopub.status.busy": "2021-10-03T05:00:09.272343Z",
     "iopub.status.idle": "2021-10-03T05:00:09.277550Z",
     "shell.execute_reply": "2021-10-03T05:00:09.278867Z"
    },
    "papermill": {
     "duration": 0.040146,
     "end_time": "2021-10-03T05:00:09.279297",
     "exception": false,
     "start_time": "2021-10-03T05:00:09.239151",
     "status": "completed"
    },
    "tags": []
   },
   "outputs": [],
   "source": [
    "df_pivot.columns = [\"stamp_1\", \"stamp_2\"]\n",
    "df_pivot_diff = df_pivot.diff(axis=1)"
   ]
  },
  {
   "cell_type": "code",
   "execution_count": 7,
   "id": "fifth-motion",
   "metadata": {
    "execution": {
     "iopub.execute_input": "2021-10-03T05:00:09.334084Z",
     "iopub.status.busy": "2021-10-03T05:00:09.331717Z",
     "iopub.status.idle": "2021-10-03T05:00:10.846311Z",
     "shell.execute_reply": "2021-10-03T05:00:10.847796Z"
    },
    "papermill": {
     "duration": 1.5476,
     "end_time": "2021-10-03T05:00:10.848255",
     "exception": false,
     "start_time": "2021-10-03T05:00:09.300655",
     "status": "completed"
    },
    "tags": []
   },
   "outputs": [
    {
     "data": {
      "text/plain": [
       "<AxesSubplot:ylabel='PRODUCT'>"
      ]
     },
     "execution_count": 7,
     "metadata": {},
     "output_type": "execute_result"
    },
    {
     "data": {
      "image/png": "[encoded data removed]",
      "text/plain": [
       "<Figure size 432x288 with 1 Axes>"
      ]
     },
     "metadata": {
      "needs_background": "light"
     },
     "output_type": "display_data"
    }
   ],
   "source": [
    "df_pivot_diff.sort_values(\"stamp_2\", ascending = False)[\"stamp_2\"].head(10).plot.barh()"
   ]
  },
  {
   "cell_type": "code",
   "execution_count": null,
   "id": "extra-executive",
   "metadata": {
    "papermill": {
     "duration": 0.022162,
     "end_time": "2021-10-03T05:00:10.894897",
     "exception": false,
     "start_time": "2021-10-03T05:00:10.872735",
     "status": "completed"
    },
    "tags": []
   },
   "outputs": [],
   "source": []
  }
 ],
 "metadata": {
  "kernelspec": {
   "display_name": "Python 3",
   "language": "python",
   "name": "python3"
  },
  "language_info": {
   "codemirror_mode": {
    "name": "ipython",
    "version": 3
   },
   "file_extension": ".py",
   "mimetype": "text/x-python",
   "name": "python",
   "nbconvert_exporter": "python",
   "pygments_lexer": "ipython3",
   "version": "3.9.5"
  },
  "papermill": {
   "default_parameters": {},
   "duration": 7.823144,
   "end_time": "2021-10-03T05:00:12.442209",
   "environment_variables": {},
   "exception": null,
   "input_path": "eBay_Overview.ipynb",
   "output_path": "eBay_Overview.ipynb",
   "parameters": {},
   "start_time": "2021-10-03T05:00:04.619065",
   "version": "2.3.3"
  }
 },
 "nbformat": 4,
 "nbformat_minor": 5
}