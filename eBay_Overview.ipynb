{
 "cells": [
  {
   "cell_type": "code",
   "execution_count": 1,
   "id": "reverse-picking",
   "metadata": {
    "execution": {
     "iopub.execute_input": "2021-09-22T11:30:07.515472Z",
     "iopub.status.busy": "2021-09-22T11:30:07.513479Z",
     "iopub.status.idle": "2021-09-22T11:30:08.315663Z",
     "shell.execute_reply": "2021-09-22T11:30:08.316983Z"
    },
    "papermill": {
     "duration": 0.854133,
     "end_time": "2021-09-22T11:30:08.317599",
     "exception": false,
     "start_time": "2021-09-22T11:30:07.463466",
     "status": "completed"
    },
    "tags": []
   },
   "outputs": [],
   "source": [
    "import pandas as pd\n",
    "import sqlite3"
   ]
  },
  {
   "cell_type": "code",
   "execution_count": 2,
   "id": "innovative-syndrome",
   "metadata": {
    "execution": {
     "iopub.execute_input": "2021-09-22T11:30:08.368675Z",
     "iopub.status.busy": "2021-09-22T11:30:08.366391Z",
     "iopub.status.idle": "2021-09-22T11:30:08.719543Z",
     "shell.execute_reply": "2021-09-22T11:30:08.720750Z"
    },
    "papermill": {
     "duration": 0.382728,
     "end_time": "2021-09-22T11:30:08.721149",
     "exception": false,
     "start_time": "2021-09-22T11:30:08.338421",
     "status": "completed"
    },
    "tags": []
   },
   "outputs": [],
   "source": [
    "timestamps = pd.read_sql(\"select distinct record_time from EBAY_TOP_BERLIN order by record_time desc limit 2\", sqlite3.connect(\"UsedObjects.db\"))"
   ]
  },
  {
   "cell_type": "code",
   "execution_count": 3,
   "id": "periodic-identification",
   "metadata": {
    "execution": {
     "iopub.execute_input": "2021-09-22T11:30:08.789956Z",
     "iopub.status.busy": "2021-09-22T11:30:08.787927Z",
     "iopub.status.idle": "2021-09-22T11:30:08.807736Z",
     "shell.execute_reply": "2021-09-22T11:30:08.809122Z"
    },
    "papermill": {
     "duration": 0.065571,
     "end_time": "2021-09-22T11:30:08.809560",
     "exception": false,
     "start_time": "2021-09-22T11:30:08.743989",
     "status": "completed"
    },
    "tags": []
   },
   "outputs": [
    {
     "data": {
      "text/html": [
       "<div>\n",
       "<style scoped>\n",
       "    .dataframe tbody tr th:only-of-type {\n",
       "        vertical-align: middle;\n",
       "    }\n",
       "\n",
       "    .dataframe tbody tr th {\n",
       "        vertical-align: top;\n",
       "    }\n",
       "\n",
       "    .dataframe thead th {\n",
       "        text-align: right;\n",
       "    }\n",
       "</style>\n",
       "<table border=\"1\" class=\"dataframe\">\n",
       "  <thead>\n",
       "    <tr style=\"text-align: right;\">\n",
       "      <th></th>\n",
       "      <th>RECORD_TIME</th>\n",
       "    </tr>\n",
       "  </thead>\n",
       "  <tbody>\n",
       "    <tr>\n",
       "      <th>0</th>\n",
       "      <td>2021-09-22 13:30</td>\n",
       "    </tr>\n",
       "    <tr>\n",
       "      <th>1</th>\n",
       "      <td>2021-09-22 13:00</td>\n",
       "    </tr>\n",
       "  </tbody>\n",
       "</table>\n",
       "</div>"
      ],
      "text/plain": [
       "        RECORD_TIME\n",
       "0  2021-09-22 13:30\n",
       "1  2021-09-22 13:00"
      ]
     },
     "execution_count": 3,
     "metadata": {},
     "output_type": "execute_result"
    }
   ],
   "source": [
    "timestamps"
   ]
  },
  {
   "cell_type": "code",
   "execution_count": 4,
   "id": "alternate-victory",
   "metadata": {
    "execution": {
     "iopub.execute_input": "2021-09-22T11:30:08.861641Z",
     "iopub.status.busy": "2021-09-22T11:30:08.859590Z",
     "iopub.status.idle": "2021-09-22T11:30:09.397114Z",
     "shell.execute_reply": "2021-09-22T11:30:09.395587Z"
    },
    "papermill": {
     "duration": 0.567056,
     "end_time": "2021-09-22T11:30:09.397494",
     "exception": false,
     "start_time": "2021-09-22T11:30:08.830438",
     "status": "completed"
    },
    "tags": []
   },
   "outputs": [],
   "source": [
    "df = pd.read_sql(\"select * from EBAY_TOP_BERLIN where record_time in (select distinct record_time from EBAY_TOP_BERLIN order by record_time desc limit 2)\", sqlite3.connect(\"UsedObjects.db\"))"
   ]
  },
  {
   "cell_type": "code",
   "execution_count": 5,
   "id": "popular-active",
   "metadata": {
    "execution": {
     "iopub.execute_input": "2021-09-22T11:30:09.478479Z",
     "iopub.status.busy": "2021-09-22T11:30:09.466590Z",
     "iopub.status.idle": "2021-09-22T11:30:09.494001Z",
     "shell.execute_reply": "2021-09-22T11:30:09.495285Z"
    },
    "papermill": {
     "duration": 0.071673,
     "end_time": "2021-09-22T11:30:09.495693",
     "exception": false,
     "start_time": "2021-09-22T11:30:09.424020",
     "status": "completed"
    },
    "tags": []
   },
   "outputs": [],
   "source": [
    "df_pivot = df.pivot_table(index=\"PRODUCT\", columns = \"RECORD_TIME\", values = \"LISTING_COUNT\")"
   ]
  },
  {
   "cell_type": "code",
   "execution_count": 6,
   "id": "union-huntington",
   "metadata": {
    "execution": {
     "iopub.execute_input": "2021-09-22T11:30:09.552544Z",
     "iopub.status.busy": "2021-09-22T11:30:09.550323Z",
     "iopub.status.idle": "2021-09-22T11:30:09.557403Z",
     "shell.execute_reply": "2021-09-22T11:30:09.555916Z"
    },
    "papermill": {
     "duration": 0.041149,
     "end_time": "2021-09-22T11:30:09.557776",
     "exception": false,
     "start_time": "2021-09-22T11:30:09.516627",
     "status": "completed"
    },
    "tags": []
   },
   "outputs": [],
   "source": [
    "df_pivot.columns = [\"stamp_1\", \"stamp_2\"]\n",
    "df_pivot_diff = df_pivot.diff(axis=1)"
   ]
  },
  {
   "cell_type": "code",
   "execution_count": 7,
   "id": "fifth-motion",
   "metadata": {
    "execution": {
     "iopub.execute_input": "2021-09-22T11:30:09.613556Z",
     "iopub.status.busy": "2021-09-22T11:30:09.610910Z",
     "iopub.status.idle": "2021-09-22T11:30:11.090758Z",
     "shell.execute_reply": "2021-09-22T11:30:11.092263Z"
    },
    "papermill": {
     "duration": 1.514055,
     "end_time": "2021-09-22T11:30:11.092709",
     "exception": false,
     "start_time": "2021-09-22T11:30:09.578654",
     "status": "completed"
    },
    "tags": []
   },
   "outputs": [
    {
     "data": {
      "text/plain": [
       "<AxesSubplot:ylabel='PRODUCT'>"
      ]
     },
     "execution_count": 7,
     "metadata": {},
     "output_type": "execute_result"
    },
    {
     "data": {
      "image/png": "[encoded data removed]",
      "text/plain": [
       "<Figure size 432x288 with 1 Axes>"
      ]
     },
     "metadata": {
      "needs_background": "light"
     },
     "output_type": "display_data"
    }
   ],
   "source": [
    "df_pivot_diff.sort_values(\"stamp_2\", ascending = False)[\"stamp_2\"].head(10).plot.barh()"
   ]
  },
  {
   "cell_type": "code",
   "execution_count": null,
   "id": "extra-executive",
   "metadata": {
    "papermill": {
     "duration": 0.02272,
     "end_time": "2021-09-22T11:30:11.139533",
     "exception": false,
     "start_time": "2021-09-22T11:30:11.116813",
     "status": "completed"
    },
    "tags": []
   },
   "outputs": [],
   "source": []
  }
 ],
 "metadata": {
  "kernelspec": {
   "display_name": "Python 3",
   "language": "python",
   "name": "python3"
  },
  "language_info": {
   "codemirror_mode": {
    "name": "ipython",
    "version": 3
   },
   "file_extension": ".py",
   "mimetype": "text/x-python",
   "name": "python",
   "nbconvert_exporter": "python",
   "pygments_lexer": "ipython3",
   "version": "3.9.5"
  },
  "papermill": {
   "default_parameters": {},
   "duration": 6.726423,
   "end_time": "2021-09-22T11:30:11.783377",
   "environment_variables": {},
   "exception": null,
   "input_path": "eBay_Overview.ipynb",
   "output_path": "eBay_Overview.ipynb",
   "parameters": {},
   "start_time": "2021-09-22T11:30:05.056954",
   "version": "2.3.3"
  }
 },
 "nbformat": 4,
 "nbformat_minor": 5
}