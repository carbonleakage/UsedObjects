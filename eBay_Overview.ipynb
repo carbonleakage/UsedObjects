{
 "cells": [
  {
   "cell_type": "code",
   "execution_count": 1,
   "id": "reverse-picking",
   "metadata": {
    "execution": {
     "iopub.execute_input": "2021-09-21T15:00:06.935180Z",
     "iopub.status.busy": "2021-09-21T15:00:06.933154Z",
     "iopub.status.idle": "2021-09-21T15:00:07.736183Z",
     "shell.execute_reply": "2021-09-21T15:00:07.737351Z"
    },
    "papermill": {
     "duration": 0.85326,
     "end_time": "2021-09-21T15:00:07.737988",
     "exception": false,
     "start_time": "2021-09-21T15:00:06.884728",
     "status": "completed"
    },
    "tags": []
   },
   "outputs": [],
   "source": [
    "import pandas as pd\n",
    "import sqlite3"
   ]
  },
  {
   "cell_type": "code",
   "execution_count": 2,
   "id": "innovative-syndrome",
   "metadata": {
    "execution": {
     "iopub.execute_input": "2021-09-21T15:00:07.788259Z",
     "iopub.status.busy": "2021-09-21T15:00:07.786246Z",
     "iopub.status.idle": "2021-09-21T15:00:08.132716Z",
     "shell.execute_reply": "2021-09-21T15:00:08.133918Z"
    },
    "papermill": {
     "duration": 0.375681,
     "end_time": "2021-09-21T15:00:08.134316",
     "exception": false,
     "start_time": "2021-09-21T15:00:07.758635",
     "status": "completed"
    },
    "tags": []
   },
   "outputs": [],
   "source": [
    "timestamps = pd.read_sql(\"select distinct record_time from EBAY_TOP_BERLIN order by record_time desc limit 2\", sqlite3.connect(\"UsedObjects.db\"))"
   ]
  },
  {
   "cell_type": "code",
   "execution_count": 3,
   "id": "periodic-identification",
   "metadata": {
    "execution": {
     "iopub.execute_input": "2021-09-21T15:00:08.197593Z",
     "iopub.status.busy": "2021-09-21T15:00:08.195574Z",
     "iopub.status.idle": "2021-09-21T15:00:08.215573Z",
     "shell.execute_reply": "2021-09-21T15:00:08.217324Z"
    },
    "papermill": {
     "duration": 0.064437,
     "end_time": "2021-09-21T15:00:08.217854",
     "exception": false,
     "start_time": "2021-09-21T15:00:08.153417",
     "status": "completed"
    },
    "tags": []
   },
   "outputs": [
    {
     "data": {
      "text/html": [
       "<div>\n",
       "<style scoped>\n",
       "    .dataframe tbody tr th:only-of-type {\n",
       "        vertical-align: middle;\n",
       "    }\n",
       "\n",
       "    .dataframe tbody tr th {\n",
       "        vertical-align: top;\n",
       "    }\n",
       "\n",
       "    .dataframe thead th {\n",
       "        text-align: right;\n",
       "    }\n",
       "</style>\n",
       "<table border=\"1\" class=\"dataframe\">\n",
       "  <thead>\n",
       "    <tr style=\"text-align: right;\">\n",
       "      <th></th>\n",
       "      <th>RECORD_TIME</th>\n",
       "    </tr>\n",
       "  </thead>\n",
       "  <tbody>\n",
       "    <tr>\n",
       "      <th>0</th>\n",
       "      <td>2021-09-21 17:00</td>\n",
       "    </tr>\n",
       "    <tr>\n",
       "      <th>1</th>\n",
       "      <td>2021-09-21 16:30</td>\n",
       "    </tr>\n",
       "  </tbody>\n",
       "</table>\n",
       "</div>"
      ],
      "text/plain": [
       "        RECORD_TIME\n",
       "0  2021-09-21 17:00\n",
       "1  2021-09-21 16:30"
      ]
     },
     "execution_count": 3,
     "metadata": {},
     "output_type": "execute_result"
    }
   ],
   "source": [
    "timestamps"
   ]
  },
  {
   "cell_type": "code",
   "execution_count": 4,
   "id": "alternate-victory",
   "metadata": {
    "execution": {
     "iopub.execute_input": "2021-09-21T15:00:08.270696Z",
     "iopub.status.busy": "2021-09-21T15:00:08.268746Z",
     "iopub.status.idle": "2021-09-21T15:00:08.784912Z",
     "shell.execute_reply": "2021-09-21T15:00:08.786128Z"
    },
    "papermill": {
     "duration": 0.546246,
     "end_time": "2021-09-21T15:00:08.786531",
     "exception": false,
     "start_time": "2021-09-21T15:00:08.240285",
     "status": "completed"
    },
    "tags": []
   },
   "outputs": [],
   "source": [
    "df = pd.read_sql(\"select * from EBAY_TOP_BERLIN where record_time in (select distinct record_time from EBAY_TOP_BERLIN order by record_time desc limit 2)\", sqlite3.connect(\"UsedObjects.db\"))"
   ]
  },
  {
   "cell_type": "code",
   "execution_count": 5,
   "id": "popular-active",
   "metadata": {
    "execution": {
     "iopub.execute_input": "2021-09-21T15:00:08.855892Z",
     "iopub.status.busy": "2021-09-21T15:00:08.843971Z",
     "iopub.status.idle": "2021-09-21T15:00:08.871745Z",
     "shell.execute_reply": "2021-09-21T15:00:08.873144Z"
    },
    "papermill": {
     "duration": 0.066759,
     "end_time": "2021-09-21T15:00:08.873591",
     "exception": false,
     "start_time": "2021-09-21T15:00:08.806832",
     "status": "completed"
    },
    "tags": []
   },
   "outputs": [],
   "source": [
    "df_pivot = df.pivot_table(index=\"PRODUCT\", columns = \"RECORD_TIME\", values = \"LISTING_COUNT\")"
   ]
  },
  {
   "cell_type": "code",
   "execution_count": 6,
   "id": "union-huntington",
   "metadata": {
    "execution": {
     "iopub.execute_input": "2021-09-21T15:00:08.930697Z",
     "iopub.status.busy": "2021-09-21T15:00:08.928262Z",
     "iopub.status.idle": "2021-09-21T15:00:08.933855Z",
     "shell.execute_reply": "2021-09-21T15:00:08.935227Z"
    },
    "papermill": {
     "duration": 0.041912,
     "end_time": "2021-09-21T15:00:08.935653",
     "exception": false,
     "start_time": "2021-09-21T15:00:08.893741",
     "status": "completed"
    },
    "tags": []
   },
   "outputs": [],
   "source": [
    "df_pivot.columns = [\"stamp_1\", \"stamp_2\"]\n",
    "df_pivot_diff = df_pivot.diff(axis=1)"
   ]
  },
  {
   "cell_type": "code",
   "execution_count": 7,
   "id": "fifth-motion",
   "metadata": {
    "execution": {
     "iopub.execute_input": "2021-09-21T15:00:08.989672Z",
     "iopub.status.busy": "2021-09-21T15:00:08.987394Z",
     "iopub.status.idle": "2021-09-21T15:00:10.449329Z",
     "shell.execute_reply": "2021-09-21T15:00:10.450614Z"
    },
    "papermill": {
     "duration": 1.495241,
     "end_time": "2021-09-21T15:00:10.451248",
     "exception": false,
     "start_time": "2021-09-21T15:00:08.956007",
     "status": "completed"
    },
    "tags": []
   },
   "outputs": [
    {
     "data": {
      "text/plain": [
       "<AxesSubplot:ylabel='PRODUCT'>"
      ]
     },
     "execution_count": 7,
     "metadata": {},
     "output_type": "execute_result"
    },
    {
     "data": {
      "image/png": "[encoded data removed]",
      "text/plain": [
       "<Figure size 432x288 with 1 Axes>"
      ]
     },
     "metadata": {
      "needs_background": "light"
     },
     "output_type": "display_data"
    }
   ],
   "source": [
    "df_pivot_diff.sort_values(\"stamp_2\", ascending = False)[\"stamp_2\"].head(10).plot.barh()"
   ]
  },
  {
   "cell_type": "code",
   "execution_count": null,
   "id": "extra-executive",
   "metadata": {
    "papermill": {
     "duration": 0.022064,
     "end_time": "2021-09-21T15:00:10.499208",
     "exception": false,
     "start_time": "2021-09-21T15:00:10.477144",
     "status": "completed"
    },
    "tags": []
   },
   "outputs": [],
   "source": []
  }
 ],
 "metadata": {
  "kernelspec": {
   "display_name": "Python 3",
   "language": "python",
   "name": "python3"
  },
  "language_info": {
   "codemirror_mode": {
    "name": "ipython",
    "version": 3
   },
   "file_extension": ".py",
   "mimetype": "text/x-python",
   "name": "python",
   "nbconvert_exporter": "python",
   "pygments_lexer": "ipython3",
   "version": "3.9.5"
  },
  "papermill": {
   "default_parameters": {},
   "duration": 6.658373,
   "end_time": "2021-09-21T15:00:11.141727",
   "environment_variables": {},
   "exception": null,
   "input_path": "eBay_Overview.ipynb",
   "output_path": "eBay_Overview.ipynb",
   "parameters": {},
   "start_time": "2021-09-21T15:00:04.483354",
   "version": "2.3.3"
  }
 },
 "nbformat": 4,
 "nbformat_minor": 5
}