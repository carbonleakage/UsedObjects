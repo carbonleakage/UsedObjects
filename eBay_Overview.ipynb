{
 "cells": [
  {
   "cell_type": "code",
   "execution_count": 1,
   "id": "reverse-picking",
   "metadata": {
    "execution": {
     "iopub.execute_input": "2021-12-12T08:30:07.947697Z",
     "iopub.status.busy": "2021-12-12T08:30:07.945336Z",
     "iopub.status.idle": "2021-12-12T08:30:08.896051Z",
     "shell.execute_reply": "2021-12-12T08:30:08.897612Z"
    },
    "papermill": {
     "duration": 1.000196,
     "end_time": "2021-12-12T08:30:08.898593",
     "exception": false,
     "start_time": "2021-12-12T08:30:07.898397",
     "status": "completed"
    },
    "tags": []
   },
   "outputs": [],
   "source": [
    "import pandas as pd\n",
    "import sqlite3"
   ]
  },
  {
   "cell_type": "code",
   "execution_count": 2,
   "id": "innovative-syndrome",
   "metadata": {
    "execution": {
     "iopub.execute_input": "2021-12-12T08:30:08.961413Z",
     "iopub.status.busy": "2021-12-12T08:30:08.959096Z",
     "iopub.status.idle": "2021-12-12T08:30:10.032253Z",
     "shell.execute_reply": "2021-12-12T08:30:10.033607Z"
    },
    "papermill": {
     "duration": 1.107678,
     "end_time": "2021-12-12T08:30:10.034033",
     "exception": false,
     "start_time": "2021-12-12T08:30:08.926355",
     "status": "completed"
    },
    "tags": []
   },
   "outputs": [],
   "source": [
    "timestamps = pd.read_sql(\"select distinct record_time from EBAY_TOP_BERLIN order by record_time desc limit 2\", sqlite3.connect(\"UsedObjects.db\"))"
   ]
  },
  {
   "cell_type": "code",
   "execution_count": 3,
   "id": "periodic-identification",
   "metadata": {
    "execution": {
     "iopub.execute_input": "2021-12-12T08:30:10.100055Z",
     "iopub.status.busy": "2021-12-12T08:30:10.098072Z",
     "iopub.status.idle": "2021-12-12T08:30:10.118963Z",
     "shell.execute_reply": "2021-12-12T08:30:10.120377Z"
    },
    "papermill": {
     "duration": 0.068098,
     "end_time": "2021-12-12T08:30:10.121112",
     "exception": false,
     "start_time": "2021-12-12T08:30:10.053014",
     "status": "completed"
    },
    "tags": []
   },
   "outputs": [
    {
     "data": {
      "text/html": [
       "<div>\n",
       "<style scoped>\n",
       "    .dataframe tbody tr th:only-of-type {\n",
       "        vertical-align: middle;\n",
       "    }\n",
       "\n",
       "    .dataframe tbody tr th {\n",
       "        vertical-align: top;\n",
       "    }\n",
       "\n",
       "    .dataframe thead th {\n",
       "        text-align: right;\n",
       "    }\n",
       "</style>\n",
       "<table border=\"1\" class=\"dataframe\">\n",
       "  <thead>\n",
       "    <tr style=\"text-align: right;\">\n",
       "      <th></th>\n",
       "      <th>RECORD_TIME</th>\n",
       "    </tr>\n",
       "  </thead>\n",
       "  <tbody>\n",
       "    <tr>\n",
       "      <th>0</th>\n",
       "      <td>2021-12-12 09:30</td>\n",
       "    </tr>\n",
       "    <tr>\n",
       "      <th>1</th>\n",
       "      <td>2021-12-12 09:00</td>\n",
       "    </tr>\n",
       "  </tbody>\n",
       "</table>\n",
       "</div>"
      ],
      "text/plain": [
       "        RECORD_TIME\n",
       "0  2021-12-12 09:30\n",
       "1  2021-12-12 09:00"
      ]
     },
     "execution_count": 3,
     "metadata": {},
     "output_type": "execute_result"
    }
   ],
   "source": [
    "timestamps"
   ]
  },
  {
   "cell_type": "code",
   "execution_count": 4,
   "id": "alternate-victory",
   "metadata": {
    "execution": {
     "iopub.execute_input": "2021-12-12T08:30:10.176013Z",
     "iopub.status.busy": "2021-12-12T08:30:10.173857Z",
     "iopub.status.idle": "2021-12-12T08:30:11.712957Z",
     "shell.execute_reply": "2021-12-12T08:30:11.714597Z"
    },
    "papermill": {
     "duration": 1.571337,
     "end_time": "2021-12-12T08:30:11.715126",
     "exception": false,
     "start_time": "2021-12-12T08:30:10.143789",
     "status": "completed"
    },
    "tags": []
   },
   "outputs": [],
   "source": [
    "df = pd.read_sql(\"select * from EBAY_TOP_BERLIN where record_time in (select distinct record_time from EBAY_TOP_BERLIN order by record_time desc limit 2)\", sqlite3.connect(\"UsedObjects.db\"))"
   ]
  },
  {
   "cell_type": "code",
   "execution_count": 5,
   "id": "popular-active",
   "metadata": {
    "execution": {
     "iopub.execute_input": "2021-12-12T08:30:11.790670Z",
     "iopub.status.busy": "2021-12-12T08:30:11.775829Z",
     "iopub.status.idle": "2021-12-12T08:30:11.808312Z",
     "shell.execute_reply": "2021-12-12T08:30:11.809794Z"
    },
    "papermill": {
     "duration": 0.073856,
     "end_time": "2021-12-12T08:30:11.810261",
     "exception": false,
     "start_time": "2021-12-12T08:30:11.736405",
     "status": "completed"
    },
    "tags": []
   },
   "outputs": [],
   "source": [
    "df_pivot = df.pivot_table(index=\"PRODUCT\", columns = \"RECORD_TIME\", values = \"LISTING_COUNT\")"
   ]
  },
  {
   "cell_type": "code",
   "execution_count": 6,
   "id": "union-huntington",
   "metadata": {
    "execution": {
     "iopub.execute_input": "2021-12-12T08:30:11.870902Z",
     "iopub.status.busy": "2021-12-12T08:30:11.868646Z",
     "iopub.status.idle": "2021-12-12T08:30:11.874551Z",
     "shell.execute_reply": "2021-12-12T08:30:11.875895Z"
    },
    "papermill": {
     "duration": 0.046442,
     "end_time": "2021-12-12T08:30:11.876370",
     "exception": false,
     "start_time": "2021-12-12T08:30:11.829928",
     "status": "completed"
    },
    "tags": []
   },
   "outputs": [],
   "source": [
    "df_pivot.columns = [\"stamp_1\", \"stamp_2\"]\n",
    "df_pivot_diff = df_pivot.diff(axis=1)"
   ]
  },
  {
   "cell_type": "code",
   "execution_count": 7,
   "id": "fifth-motion",
   "metadata": {
    "execution": {
     "iopub.execute_input": "2021-12-12T08:30:11.932395Z",
     "iopub.status.busy": "2021-12-12T08:30:11.930005Z",
     "iopub.status.idle": "2021-12-12T08:30:13.922394Z",
     "shell.execute_reply": "2021-12-12T08:30:13.923667Z"
    },
    "papermill": {
     "duration": 2.027529,
     "end_time": "2021-12-12T08:30:13.924082",
     "exception": false,
     "start_time": "2021-12-12T08:30:11.896553",
     "status": "completed"
    },
    "tags": []
   },
   "outputs": [
    {
     "data": {
      "text/plain": [
       "<AxesSubplot:ylabel='PRODUCT'>"
      ]
     },
     "execution_count": 7,
     "metadata": {},
     "output_type": "execute_result"
    },
    {
     "data": {
      "image/png": "[encoded data removed]",
      "text/plain": [
       "<Figure size 432x288 with 1 Axes>"
      ]
     },
     "metadata": {
      "needs_background": "light"
     },
     "output_type": "display_data"
    }
   ],
   "source": [
    "df_pivot_diff.sort_values(\"stamp_2\", ascending = False)[\"stamp_2\"].head(10).plot.barh()"
   ]
  },
  {
   "cell_type": "code",
   "execution_count": null,
   "id": "extra-executive",
   "metadata": {
    "papermill": {
     "duration": 0.025396,
     "end_time": "2021-12-12T08:30:13.981350",
     "exception": false,
     "start_time": "2021-12-12T08:30:13.955954",
     "status": "completed"
    },
    "tags": []
   },
   "outputs": [],
   "source": []
  }
 ],
 "metadata": {
  "kernelspec": {
   "display_name": "Python 3",
   "language": "python",
   "name": "python3"
  },
  "language_info": {
   "codemirror_mode": {
    "name": "ipython",
    "version": 3
   },
   "file_extension": ".py",
   "mimetype": "text/x-python",
   "name": "python",
   "nbconvert_exporter": "python",
   "pygments_lexer": "ipython3",
   "version": "3.9.5"
  },
  "papermill": {
   "default_parameters": {},
   "duration": 9.438603,
   "end_time": "2021-12-12T08:30:14.627986",
   "environment_variables": {},
   "exception": null,
   "input_path": "eBay_Overview.ipynb",
   "output_path": "eBay_Overview.ipynb",
   "parameters": {},
   "start_time": "2021-12-12T08:30:05.189383",
   "version": "2.3.3"
  }
 },
 "nbformat": 4,
 "nbformat_minor": 5
}