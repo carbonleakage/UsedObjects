{
 "cells": [
  {
   "cell_type": "code",
   "execution_count": 1,
   "id": "reverse-picking",
   "metadata": {
    "execution": {
     "iopub.execute_input": "2021-09-25T19:30:06.852423Z",
     "iopub.status.busy": "2021-09-25T19:30:06.850434Z",
     "iopub.status.idle": "2021-09-25T19:30:07.655726Z",
     "shell.execute_reply": "2021-09-25T19:30:07.656979Z"
    },
    "papermill": {
     "duration": 0.85589,
     "end_time": "2021-09-25T19:30:07.657597",
     "exception": false,
     "start_time": "2021-09-25T19:30:06.801707",
     "status": "completed"
    },
    "tags": []
   },
   "outputs": [],
   "source": [
    "import pandas as pd\n",
    "import sqlite3"
   ]
  },
  {
   "cell_type": "code",
   "execution_count": 2,
   "id": "innovative-syndrome",
   "metadata": {
    "execution": {
     "iopub.execute_input": "2021-09-25T19:30:07.711684Z",
     "iopub.status.busy": "2021-09-25T19:30:07.709215Z",
     "iopub.status.idle": "2021-09-25T19:30:08.084980Z",
     "shell.execute_reply": "2021-09-25T19:30:08.086089Z"
    },
    "papermill": {
     "duration": 0.405688,
     "end_time": "2021-09-25T19:30:08.086499",
     "exception": false,
     "start_time": "2021-09-25T19:30:07.680811",
     "status": "completed"
    },
    "tags": []
   },
   "outputs": [],
   "source": [
    "timestamps = pd.read_sql(\"select distinct record_time from EBAY_TOP_BERLIN order by record_time desc limit 2\", sqlite3.connect(\"UsedObjects.db\"))"
   ]
  },
  {
   "cell_type": "code",
   "execution_count": 3,
   "id": "periodic-identification",
   "metadata": {
    "execution": {
     "iopub.execute_input": "2021-09-25T19:30:08.151939Z",
     "iopub.status.busy": "2021-09-25T19:30:08.149868Z",
     "iopub.status.idle": "2021-09-25T19:30:08.169465Z",
     "shell.execute_reply": "2021-09-25T19:30:08.170668Z"
    },
    "papermill": {
     "duration": 0.063665,
     "end_time": "2021-09-25T19:30:08.171290",
     "exception": false,
     "start_time": "2021-09-25T19:30:08.107625",
     "status": "completed"
    },
    "tags": []
   },
   "outputs": [
    {
     "data": {
      "text/html": [
       "<div>\n",
       "<style scoped>\n",
       "    .dataframe tbody tr th:only-of-type {\n",
       "        vertical-align: middle;\n",
       "    }\n",
       "\n",
       "    .dataframe tbody tr th {\n",
       "        vertical-align: top;\n",
       "    }\n",
       "\n",
       "    .dataframe thead th {\n",
       "        text-align: right;\n",
       "    }\n",
       "</style>\n",
       "<table border=\"1\" class=\"dataframe\">\n",
       "  <thead>\n",
       "    <tr style=\"text-align: right;\">\n",
       "      <th></th>\n",
       "      <th>RECORD_TIME</th>\n",
       "    </tr>\n",
       "  </thead>\n",
       "  <tbody>\n",
       "    <tr>\n",
       "      <th>0</th>\n",
       "      <td>2021-09-25 21:30</td>\n",
       "    </tr>\n",
       "    <tr>\n",
       "      <th>1</th>\n",
       "      <td>2021-09-25 21:00</td>\n",
       "    </tr>\n",
       "  </tbody>\n",
       "</table>\n",
       "</div>"
      ],
      "text/plain": [
       "        RECORD_TIME\n",
       "0  2021-09-25 21:30\n",
       "1  2021-09-25 21:00"
      ]
     },
     "execution_count": 3,
     "metadata": {},
     "output_type": "execute_result"
    }
   ],
   "source": [
    "timestamps"
   ]
  },
  {
   "cell_type": "code",
   "execution_count": 4,
   "id": "alternate-victory",
   "metadata": {
    "execution": {
     "iopub.execute_input": "2021-09-25T19:30:08.224356Z",
     "iopub.status.busy": "2021-09-25T19:30:08.221994Z",
     "iopub.status.idle": "2021-09-25T19:30:08.775057Z",
     "shell.execute_reply": "2021-09-25T19:30:08.776432Z"
    },
    "papermill": {
     "duration": 0.583707,
     "end_time": "2021-09-25T19:30:08.776850",
     "exception": false,
     "start_time": "2021-09-25T19:30:08.193143",
     "status": "completed"
    },
    "tags": []
   },
   "outputs": [],
   "source": [
    "df = pd.read_sql(\"select * from EBAY_TOP_BERLIN where record_time in (select distinct record_time from EBAY_TOP_BERLIN order by record_time desc limit 2)\", sqlite3.connect(\"UsedObjects.db\"))"
   ]
  },
  {
   "cell_type": "code",
   "execution_count": 5,
   "id": "popular-active",
   "metadata": {
    "execution": {
     "iopub.execute_input": "2021-09-25T19:30:08.845420Z",
     "iopub.status.busy": "2021-09-25T19:30:08.833964Z",
     "iopub.status.idle": "2021-09-25T19:30:08.861008Z",
     "shell.execute_reply": "2021-09-25T19:30:08.862219Z"
    },
    "papermill": {
     "duration": 0.065361,
     "end_time": "2021-09-25T19:30:08.862613",
     "exception": false,
     "start_time": "2021-09-25T19:30:08.797252",
     "status": "completed"
    },
    "tags": []
   },
   "outputs": [],
   "source": [
    "df_pivot = df.pivot_table(index=\"PRODUCT\", columns = \"RECORD_TIME\", values = \"LISTING_COUNT\")"
   ]
  },
  {
   "cell_type": "code",
   "execution_count": 6,
   "id": "union-huntington",
   "metadata": {
    "execution": {
     "iopub.execute_input": "2021-09-25T19:30:08.921933Z",
     "iopub.status.busy": "2021-09-25T19:30:08.919500Z",
     "iopub.status.idle": "2021-09-25T19:30:08.925350Z",
     "shell.execute_reply": "2021-09-25T19:30:08.926622Z"
    },
    "papermill": {
     "duration": 0.042133,
     "end_time": "2021-09-25T19:30:08.927087",
     "exception": false,
     "start_time": "2021-09-25T19:30:08.884954",
     "status": "completed"
    },
    "tags": []
   },
   "outputs": [],
   "source": [
    "df_pivot.columns = [\"stamp_1\", \"stamp_2\"]\n",
    "df_pivot_diff = df_pivot.diff(axis=1)"
   ]
  },
  {
   "cell_type": "code",
   "execution_count": 7,
   "id": "fifth-motion",
   "metadata": {
    "execution": {
     "iopub.execute_input": "2021-09-25T19:30:08.983048Z",
     "iopub.status.busy": "2021-09-25T19:30:08.978759Z",
     "iopub.status.idle": "2021-09-25T19:30:10.467405Z",
     "shell.execute_reply": "2021-09-25T19:30:10.468773Z"
    },
    "papermill": {
     "duration": 1.522126,
     "end_time": "2021-09-25T19:30:10.469213",
     "exception": false,
     "start_time": "2021-09-25T19:30:08.947087",
     "status": "completed"
    },
    "tags": []
   },
   "outputs": [
    {
     "data": {
      "text/plain": [
       "<AxesSubplot:ylabel='PRODUCT'>"
      ]
     },
     "execution_count": 7,
     "metadata": {},
     "output_type": "execute_result"
    },
    {
     "data": {
      "image/png": "[encoded data removed]",
      "text/plain": [
       "<Figure size 432x288 with 1 Axes>"
      ]
     },
     "metadata": {
      "needs_background": "light"
     },
     "output_type": "display_data"
    }
   ],
   "source": [
    "df_pivot_diff.sort_values(\"stamp_2\", ascending = False)[\"stamp_2\"].head(10).plot.barh()"
   ]
  },
  {
   "cell_type": "code",
   "execution_count": null,
   "id": "extra-executive",
   "metadata": {
    "papermill": {
     "duration": 0.022461,
     "end_time": "2021-09-25T19:30:10.516436",
     "exception": false,
     "start_time": "2021-09-25T19:30:10.493975",
     "status": "completed"
    },
    "tags": []
   },
   "outputs": [],
   "source": []
  }
 ],
 "metadata": {
  "kernelspec": {
   "display_name": "Python 3",
   "language": "python",
   "name": "python3"
  },
  "language_info": {
   "codemirror_mode": {
    "name": "ipython",
    "version": 3
   },
   "file_extension": ".py",
   "mimetype": "text/x-python",
   "name": "python",
   "nbconvert_exporter": "python",
   "pygments_lexer": "ipython3",
   "version": "3.9.5"
  },
  "papermill": {
   "default_parameters": {},
   "duration": 6.760113,
   "end_time": "2021-09-25T19:30:11.159553",
   "environment_variables": {},
   "exception": null,
   "input_path": "eBay_Overview.ipynb",
   "output_path": "eBay_Overview.ipynb",
   "parameters": {},
   "start_time": "2021-09-25T19:30:04.399440",
   "version": "2.3.3"
  }
 },
 "nbformat": 4,
 "nbformat_minor": 5
}