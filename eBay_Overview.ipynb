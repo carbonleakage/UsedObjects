{
 "cells": [
  {
   "cell_type": "code",
   "execution_count": 1,
   "id": "reverse-picking",
   "metadata": {
    "execution": {
     "iopub.execute_input": "2021-10-16T11:00:06.634567Z",
     "iopub.status.busy": "2021-10-16T11:00:06.632486Z",
     "iopub.status.idle": "2021-10-16T11:00:07.444960Z",
     "shell.execute_reply": "2021-10-16T11:00:07.443188Z"
    },
    "papermill": {
     "duration": 0.863724,
     "end_time": "2021-10-16T11:00:07.445387",
     "exception": false,
     "start_time": "2021-10-16T11:00:06.581663",
     "status": "completed"
    },
    "tags": []
   },
   "outputs": [],
   "source": [
    "import pandas as pd\n",
    "import sqlite3"
   ]
  },
  {
   "cell_type": "code",
   "execution_count": 2,
   "id": "innovative-syndrome",
   "metadata": {
    "execution": {
     "iopub.execute_input": "2021-10-16T11:00:07.498373Z",
     "iopub.status.busy": "2021-10-16T11:00:07.495936Z",
     "iopub.status.idle": "2021-10-16T11:00:08.040060Z",
     "shell.execute_reply": "2021-10-16T11:00:08.041355Z"
    },
    "papermill": {
     "duration": 0.574105,
     "end_time": "2021-10-16T11:00:08.041760",
     "exception": false,
     "start_time": "2021-10-16T11:00:07.467655",
     "status": "completed"
    },
    "tags": []
   },
   "outputs": [],
   "source": [
    "timestamps = pd.read_sql(\"select distinct record_time from EBAY_TOP_BERLIN order by record_time desc limit 2\", sqlite3.connect(\"UsedObjects.db\"))"
   ]
  },
  {
   "cell_type": "code",
   "execution_count": 3,
   "id": "periodic-identification",
   "metadata": {
    "execution": {
     "iopub.execute_input": "2021-10-16T11:00:08.116860Z",
     "iopub.status.busy": "2021-10-16T11:00:08.114746Z",
     "iopub.status.idle": "2021-10-16T11:00:08.134779Z",
     "shell.execute_reply": "2021-10-16T11:00:08.136096Z"
    },
    "papermill": {
     "duration": 0.067591,
     "end_time": "2021-10-16T11:00:08.136514",
     "exception": false,
     "start_time": "2021-10-16T11:00:08.068923",
     "status": "completed"
    },
    "tags": []
   },
   "outputs": [
    {
     "data": {
      "text/html": [
       "<div>\n",
       "<style scoped>\n",
       "    .dataframe tbody tr th:only-of-type {\n",
       "        vertical-align: middle;\n",
       "    }\n",
       "\n",
       "    .dataframe tbody tr th {\n",
       "        vertical-align: top;\n",
       "    }\n",
       "\n",
       "    .dataframe thead th {\n",
       "        text-align: right;\n",
       "    }\n",
       "</style>\n",
       "<table border=\"1\" class=\"dataframe\">\n",
       "  <thead>\n",
       "    <tr style=\"text-align: right;\">\n",
       "      <th></th>\n",
       "      <th>RECORD_TIME</th>\n",
       "    </tr>\n",
       "  </thead>\n",
       "  <tbody>\n",
       "    <tr>\n",
       "      <th>0</th>\n",
       "      <td>2021-10-16 13:00</td>\n",
       "    </tr>\n",
       "    <tr>\n",
       "      <th>1</th>\n",
       "      <td>2021-10-16 12:30</td>\n",
       "    </tr>\n",
       "  </tbody>\n",
       "</table>\n",
       "</div>"
      ],
      "text/plain": [
       "        RECORD_TIME\n",
       "0  2021-10-16 13:00\n",
       "1  2021-10-16 12:30"
      ]
     },
     "execution_count": 3,
     "metadata": {},
     "output_type": "execute_result"
    }
   ],
   "source": [
    "timestamps"
   ]
  },
  {
   "cell_type": "code",
   "execution_count": 4,
   "id": "alternate-victory",
   "metadata": {
    "execution": {
     "iopub.execute_input": "2021-10-16T11:00:08.187120Z",
     "iopub.status.busy": "2021-10-16T11:00:08.185262Z",
     "iopub.status.idle": "2021-10-16T11:00:09.006178Z",
     "shell.execute_reply": "2021-10-16T11:00:09.007550Z"
    },
    "papermill": {
     "duration": 0.850963,
     "end_time": "2021-10-16T11:00:09.007972",
     "exception": false,
     "start_time": "2021-10-16T11:00:08.157009",
     "status": "completed"
    },
    "tags": []
   },
   "outputs": [],
   "source": [
    "df = pd.read_sql(\"select * from EBAY_TOP_BERLIN where record_time in (select distinct record_time from EBAY_TOP_BERLIN order by record_time desc limit 2)\", sqlite3.connect(\"UsedObjects.db\"))"
   ]
  },
  {
   "cell_type": "code",
   "execution_count": 5,
   "id": "popular-active",
   "metadata": {
    "execution": {
     "iopub.execute_input": "2021-10-16T11:00:09.073458Z",
     "iopub.status.busy": "2021-10-16T11:00:09.066955Z",
     "iopub.status.idle": "2021-10-16T11:00:09.094206Z",
     "shell.execute_reply": "2021-10-16T11:00:09.095442Z"
    },
    "papermill": {
     "duration": 0.067484,
     "end_time": "2021-10-16T11:00:09.095840",
     "exception": false,
     "start_time": "2021-10-16T11:00:09.028356",
     "status": "completed"
    },
    "tags": []
   },
   "outputs": [],
   "source": [
    "df_pivot = df.pivot_table(index=\"PRODUCT\", columns = \"RECORD_TIME\", values = \"LISTING_COUNT\")"
   ]
  },
  {
   "cell_type": "code",
   "execution_count": 6,
   "id": "union-huntington",
   "metadata": {
    "execution": {
     "iopub.execute_input": "2021-10-16T11:00:09.155267Z",
     "iopub.status.busy": "2021-10-16T11:00:09.152779Z",
     "iopub.status.idle": "2021-10-16T11:00:09.158656Z",
     "shell.execute_reply": "2021-10-16T11:00:09.160065Z"
    },
    "papermill": {
     "duration": 0.042288,
     "end_time": "2021-10-16T11:00:09.160503",
     "exception": false,
     "start_time": "2021-10-16T11:00:09.118215",
     "status": "completed"
    },
    "tags": []
   },
   "outputs": [],
   "source": [
    "df_pivot.columns = [\"stamp_1\", \"stamp_2\"]\n",
    "df_pivot_diff = df_pivot.diff(axis=1)"
   ]
  },
  {
   "cell_type": "code",
   "execution_count": 7,
   "id": "fifth-motion",
   "metadata": {
    "execution": {
     "iopub.execute_input": "2021-10-16T11:00:09.215558Z",
     "iopub.status.busy": "2021-10-16T11:00:09.213119Z",
     "iopub.status.idle": "2021-10-16T11:00:10.743317Z",
     "shell.execute_reply": "2021-10-16T11:00:10.741384Z"
    },
    "papermill": {
     "duration": 1.562012,
     "end_time": "2021-10-16T11:00:10.743715",
     "exception": false,
     "start_time": "2021-10-16T11:00:09.181703",
     "status": "completed"
    },
    "tags": []
   },
   "outputs": [
    {
     "data": {
      "text/plain": [
       "<AxesSubplot:ylabel='PRODUCT'>"
      ]
     },
     "execution_count": 7,
     "metadata": {},
     "output_type": "execute_result"
    },
    {
     "data": {
      "image/png": "[encoded data removed]",
      "text/plain": [
       "<Figure size 432x288 with 1 Axes>"
      ]
     },
     "metadata": {
      "needs_background": "light"
     },
     "output_type": "display_data"
    }
   ],
   "source": [
    "df_pivot_diff.sort_values(\"stamp_2\", ascending = False)[\"stamp_2\"].head(10).plot.barh()"
   ]
  },
  {
   "cell_type": "code",
   "execution_count": null,
   "id": "extra-executive",
   "metadata": {
    "papermill": {
     "duration": 0.022247,
     "end_time": "2021-10-16T11:00:10.790087",
     "exception": false,
     "start_time": "2021-10-16T11:00:10.767840",
     "status": "completed"
    },
    "tags": []
   },
   "outputs": [],
   "source": []
  }
 ],
 "metadata": {
  "kernelspec": {
   "display_name": "Python 3",
   "language": "python",
   "name": "python3"
  },
  "language_info": {
   "codemirror_mode": {
    "name": "ipython",
    "version": 3
   },
   "file_extension": ".py",
   "mimetype": "text/x-python",
   "name": "python",
   "nbconvert_exporter": "python",
   "pygments_lexer": "ipython3",
   "version": "3.9.5"
  },
  "papermill": {
   "default_parameters": {},
   "duration": 7.826416,
   "end_time": "2021-10-16T11:00:11.990316",
   "environment_variables": {},
   "exception": null,
   "input_path": "eBay_Overview.ipynb",
   "output_path": "eBay_Overview.ipynb",
   "parameters": {},
   "start_time": "2021-10-16T11:00:04.163900",
   "version": "2.3.3"
  }
 },
 "nbformat": 4,
 "nbformat_minor": 5
}