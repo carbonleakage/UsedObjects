{
 "cells": [
  {
   "cell_type": "code",
   "execution_count": 1,
   "id": "reverse-picking",
   "metadata": {
    "execution": {
     "iopub.execute_input": "2021-08-26T14:30:07.088922Z",
     "iopub.status.busy": "2021-08-26T14:30:07.086873Z",
     "iopub.status.idle": "2021-08-26T14:30:07.889356Z",
     "shell.execute_reply": "2021-08-26T14:30:07.890618Z"
    },
    "papermill": {
     "duration": 0.853053,
     "end_time": "2021-08-26T14:30:07.891234",
     "exception": false,
     "start_time": "2021-08-26T14:30:07.038181",
     "status": "completed"
    },
    "tags": []
   },
   "outputs": [],
   "source": [
    "import pandas as pd\n",
    "import sqlite3"
   ]
  },
  {
   "cell_type": "code",
   "execution_count": 2,
   "id": "innovative-syndrome",
   "metadata": {
    "execution": {
     "iopub.execute_input": "2021-08-26T14:30:07.942784Z",
     "iopub.status.busy": "2021-08-26T14:30:07.940913Z",
     "iopub.status.idle": "2021-08-26T14:30:08.075021Z",
     "shell.execute_reply": "2021-08-26T14:30:08.076221Z"
    },
    "papermill": {
     "duration": 0.163768,
     "end_time": "2021-08-26T14:30:08.076811",
     "exception": false,
     "start_time": "2021-08-26T14:30:07.913043",
     "status": "completed"
    },
    "tags": []
   },
   "outputs": [],
   "source": [
    "timestamps = pd.read_sql(\"select distinct record_time from EBAY_TOP_BERLIN order by record_time desc limit 2\", sqlite3.connect(\"UsedObjects.db\"))"
   ]
  },
  {
   "cell_type": "code",
   "execution_count": 3,
   "id": "periodic-identification",
   "metadata": {
    "execution": {
     "iopub.execute_input": "2021-08-26T14:30:08.143948Z",
     "iopub.status.busy": "2021-08-26T14:30:08.141942Z",
     "iopub.status.idle": "2021-08-26T14:30:08.161393Z",
     "shell.execute_reply": "2021-08-26T14:30:08.162798Z"
    },
    "papermill": {
     "duration": 0.065478,
     "end_time": "2021-08-26T14:30:08.163233",
     "exception": false,
     "start_time": "2021-08-26T14:30:08.097755",
     "status": "completed"
    },
    "tags": []
   },
   "outputs": [
    {
     "data": {
      "text/html": [
       "<div>\n",
       "<style scoped>\n",
       "    .dataframe tbody tr th:only-of-type {\n",
       "        vertical-align: middle;\n",
       "    }\n",
       "\n",
       "    .dataframe tbody tr th {\n",
       "        vertical-align: top;\n",
       "    }\n",
       "\n",
       "    .dataframe thead th {\n",
       "        text-align: right;\n",
       "    }\n",
       "</style>\n",
       "<table border=\"1\" class=\"dataframe\">\n",
       "  <thead>\n",
       "    <tr style=\"text-align: right;\">\n",
       "      <th></th>\n",
       "      <th>RECORD_TIME</th>\n",
       "    </tr>\n",
       "  </thead>\n",
       "  <tbody>\n",
       "    <tr>\n",
       "      <th>0</th>\n",
       "      <td>2021-08-26 16:30</td>\n",
       "    </tr>\n",
       "    <tr>\n",
       "      <th>1</th>\n",
       "      <td>2021-08-26 16:00</td>\n",
       "    </tr>\n",
       "  </tbody>\n",
       "</table>\n",
       "</div>"
      ],
      "text/plain": [
       "        RECORD_TIME\n",
       "0  2021-08-26 16:30\n",
       "1  2021-08-26 16:00"
      ]
     },
     "execution_count": 3,
     "metadata": {},
     "output_type": "execute_result"
    }
   ],
   "source": [
    "timestamps"
   ]
  },
  {
   "cell_type": "code",
   "execution_count": 4,
   "id": "alternate-victory",
   "metadata": {
    "execution": {
     "iopub.execute_input": "2021-08-26T14:30:08.215057Z",
     "iopub.status.busy": "2021-08-26T14:30:08.213022Z",
     "iopub.status.idle": "2021-08-26T14:30:08.415945Z",
     "shell.execute_reply": "2021-08-26T14:30:08.417314Z"
    },
    "papermill": {
     "duration": 0.233769,
     "end_time": "2021-08-26T14:30:08.417729",
     "exception": false,
     "start_time": "2021-08-26T14:30:08.183960",
     "status": "completed"
    },
    "tags": []
   },
   "outputs": [],
   "source": [
    "df = pd.read_sql(\"select * from EBAY_TOP_BERLIN where record_time in (select distinct record_time from EBAY_TOP_BERLIN order by record_time desc limit 2)\", sqlite3.connect(\"UsedObjects.db\"))"
   ]
  },
  {
   "cell_type": "code",
   "execution_count": 5,
   "id": "popular-active",
   "metadata": {
    "execution": {
     "iopub.execute_input": "2021-08-26T14:30:08.486969Z",
     "iopub.status.busy": "2021-08-26T14:30:08.475915Z",
     "iopub.status.idle": "2021-08-26T14:30:08.503498Z",
     "shell.execute_reply": "2021-08-26T14:30:08.504953Z"
    },
    "papermill": {
     "duration": 0.066704,
     "end_time": "2021-08-26T14:30:08.505366",
     "exception": false,
     "start_time": "2021-08-26T14:30:08.438662",
     "status": "completed"
    },
    "tags": []
   },
   "outputs": [],
   "source": [
    "df_pivot = df.pivot_table(index=\"PRODUCT\", columns = \"RECORD_TIME\", values = \"LISTING_COUNT\")"
   ]
  },
  {
   "cell_type": "code",
   "execution_count": 6,
   "id": "union-huntington",
   "metadata": {
    "execution": {
     "iopub.execute_input": "2021-08-26T14:30:08.571506Z",
     "iopub.status.busy": "2021-08-26T14:30:08.569353Z",
     "iopub.status.idle": "2021-08-26T14:30:08.575094Z",
     "shell.execute_reply": "2021-08-26T14:30:08.576637Z"
    },
    "papermill": {
     "duration": 0.050261,
     "end_time": "2021-08-26T14:30:08.577105",
     "exception": false,
     "start_time": "2021-08-26T14:30:08.526844",
     "status": "completed"
    },
    "tags": []
   },
   "outputs": [],
   "source": [
    "df_pivot.columns = [\"stamp_1\", \"stamp_2\"]\n",
    "df_pivot_diff = df_pivot.diff(axis=1)"
   ]
  },
  {
   "cell_type": "code",
   "execution_count": 7,
   "id": "fifth-motion",
   "metadata": {
    "execution": {
     "iopub.execute_input": "2021-08-26T14:30:08.631937Z",
     "iopub.status.busy": "2021-08-26T14:30:08.629770Z",
     "iopub.status.idle": "2021-08-26T14:30:10.103359Z",
     "shell.execute_reply": "2021-08-26T14:30:10.104847Z"
    },
    "papermill": {
     "duration": 1.506444,
     "end_time": "2021-08-26T14:30:10.105295",
     "exception": false,
     "start_time": "2021-08-26T14:30:08.598851",
     "status": "completed"
    },
    "tags": []
   },
   "outputs": [
    {
     "data": {
      "text/plain": [
       "<AxesSubplot:ylabel='PRODUCT'>"
      ]
     },
     "execution_count": 7,
     "metadata": {},
     "output_type": "execute_result"
    },
    {
     "data": {
      "image/png": "[encoded data removed]",
      "text/plain": [
       "<Figure size 432x288 with 1 Axes>"
      ]
     },
     "metadata": {
      "needs_background": "light"
     },
     "output_type": "display_data"
    }
   ],
   "source": [
    "df_pivot_diff.sort_values(\"stamp_2\", ascending = False)[\"stamp_2\"].head(10).plot.barh()"
   ]
  },
  {
   "cell_type": "code",
   "execution_count": null,
   "id": "extra-executive",
   "metadata": {
    "papermill": {
     "duration": 0.022213,
     "end_time": "2021-08-26T14:30:10.151380",
     "exception": false,
     "start_time": "2021-08-26T14:30:10.129167",
     "status": "completed"
    },
    "tags": []
   },
   "outputs": [],
   "source": []
  }
 ],
 "metadata": {
  "kernelspec": {
   "display_name": "Python 3",
   "language": "python",
   "name": "python3"
  },
  "language_info": {
   "codemirror_mode": {
    "name": "ipython",
    "version": 3
   },
   "file_extension": ".py",
   "mimetype": "text/x-python",
   "name": "python",
   "nbconvert_exporter": "python",
   "pygments_lexer": "ipython3",
   "version": "3.9.5"
  },
  "papermill": {
   "default_parameters": {},
   "duration": 6.817885,
   "end_time": "2021-08-26T14:30:11.463716",
   "environment_variables": {},
   "exception": null,
   "input_path": "eBay_Overview.ipynb",
   "output_path": "eBay_Overview.ipynb",
   "parameters": {},
   "start_time": "2021-08-26T14:30:04.645831",
   "version": "2.3.3"
  }
 },
 "nbformat": 4,
 "nbformat_minor": 5
}