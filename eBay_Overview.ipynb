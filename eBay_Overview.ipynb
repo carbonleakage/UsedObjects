{
 "cells": [
  {
   "cell_type": "code",
   "execution_count": 1,
   "id": "reverse-picking",
   "metadata": {
    "execution": {
     "iopub.execute_input": "2021-12-07T01:30:08.198577Z",
     "iopub.status.busy": "2021-12-07T01:30:08.196181Z",
     "iopub.status.idle": "2021-12-07T01:30:09.120382Z",
     "shell.execute_reply": "2021-12-07T01:30:09.118769Z"
    },
    "papermill": {
     "duration": 0.966431,
     "end_time": "2021-12-07T01:30:09.120843",
     "exception": false,
     "start_time": "2021-12-07T01:30:08.154412",
     "status": "completed"
    },
    "tags": []
   },
   "outputs": [],
   "source": [
    "import pandas as pd\n",
    "import sqlite3"
   ]
  },
  {
   "cell_type": "code",
   "execution_count": 2,
   "id": "innovative-syndrome",
   "metadata": {
    "execution": {
     "iopub.execute_input": "2021-12-07T01:30:09.172846Z",
     "iopub.status.busy": "2021-12-07T01:30:09.170689Z",
     "iopub.status.idle": "2021-12-07T01:30:10.208343Z",
     "shell.execute_reply": "2021-12-07T01:30:10.209934Z"
    },
    "papermill": {
     "duration": 1.069681,
     "end_time": "2021-12-07T01:30:10.210432",
     "exception": false,
     "start_time": "2021-12-07T01:30:09.140751",
     "status": "completed"
    },
    "tags": []
   },
   "outputs": [],
   "source": [
    "timestamps = pd.read_sql(\"select distinct record_time from EBAY_TOP_BERLIN order by record_time desc limit 2\", sqlite3.connect(\"UsedObjects.db\"))"
   ]
  },
  {
   "cell_type": "code",
   "execution_count": 3,
   "id": "periodic-identification",
   "metadata": {
    "execution": {
     "iopub.execute_input": "2021-12-07T01:30:10.279229Z",
     "iopub.status.busy": "2021-12-07T01:30:10.276998Z",
     "iopub.status.idle": "2021-12-07T01:30:10.299799Z",
     "shell.execute_reply": "2021-12-07T01:30:10.301280Z"
    },
    "papermill": {
     "duration": 0.071377,
     "end_time": "2021-12-07T01:30:10.301767",
     "exception": false,
     "start_time": "2021-12-07T01:30:10.230390",
     "status": "completed"
    },
    "tags": []
   },
   "outputs": [
    {
     "data": {
      "text/html": [
       "<div>\n",
       "<style scoped>\n",
       "    .dataframe tbody tr th:only-of-type {\n",
       "        vertical-align: middle;\n",
       "    }\n",
       "\n",
       "    .dataframe tbody tr th {\n",
       "        vertical-align: top;\n",
       "    }\n",
       "\n",
       "    .dataframe thead th {\n",
       "        text-align: right;\n",
       "    }\n",
       "</style>\n",
       "<table border=\"1\" class=\"dataframe\">\n",
       "  <thead>\n",
       "    <tr style=\"text-align: right;\">\n",
       "      <th></th>\n",
       "      <th>RECORD_TIME</th>\n",
       "    </tr>\n",
       "  </thead>\n",
       "  <tbody>\n",
       "    <tr>\n",
       "      <th>0</th>\n",
       "      <td>2021-12-07 02:30</td>\n",
       "    </tr>\n",
       "    <tr>\n",
       "      <th>1</th>\n",
       "      <td>2021-12-07 02:00</td>\n",
       "    </tr>\n",
       "  </tbody>\n",
       "</table>\n",
       "</div>"
      ],
      "text/plain": [
       "        RECORD_TIME\n",
       "0  2021-12-07 02:30\n",
       "1  2021-12-07 02:00"
      ]
     },
     "execution_count": 3,
     "metadata": {},
     "output_type": "execute_result"
    }
   ],
   "source": [
    "timestamps"
   ]
  },
  {
   "cell_type": "code",
   "execution_count": 4,
   "id": "alternate-victory",
   "metadata": {
    "execution": {
     "iopub.execute_input": "2021-12-07T01:30:10.359292Z",
     "iopub.status.busy": "2021-12-07T01:30:10.356503Z",
     "iopub.status.idle": "2021-12-07T01:30:11.841519Z",
     "shell.execute_reply": "2021-12-07T01:30:11.843657Z"
    },
    "papermill": {
     "duration": 1.519398,
     "end_time": "2021-12-07T01:30:11.844287",
     "exception": false,
     "start_time": "2021-12-07T01:30:10.324889",
     "status": "completed"
    },
    "tags": []
   },
   "outputs": [],
   "source": [
    "df = pd.read_sql(\"select * from EBAY_TOP_BERLIN where record_time in (select distinct record_time from EBAY_TOP_BERLIN order by record_time desc limit 2)\", sqlite3.connect(\"UsedObjects.db\"))"
   ]
  },
  {
   "cell_type": "code",
   "execution_count": 5,
   "id": "popular-active",
   "metadata": {
    "execution": {
     "iopub.execute_input": "2021-12-07T01:30:11.949587Z",
     "iopub.status.busy": "2021-12-07T01:30:11.935427Z",
     "iopub.status.idle": "2021-12-07T01:30:11.990516Z",
     "shell.execute_reply": "2021-12-07T01:30:11.993459Z"
    },
    "papermill": {
     "duration": 0.123892,
     "end_time": "2021-12-07T01:30:11.994361",
     "exception": false,
     "start_time": "2021-12-07T01:30:11.870469",
     "status": "completed"
    },
    "tags": []
   },
   "outputs": [],
   "source": [
    "df_pivot = df.pivot_table(index=\"PRODUCT\", columns = \"RECORD_TIME\", values = \"LISTING_COUNT\")"
   ]
  },
  {
   "cell_type": "code",
   "execution_count": 6,
   "id": "union-huntington",
   "metadata": {
    "execution": {
     "iopub.execute_input": "2021-12-07T01:30:12.070426Z",
     "iopub.status.busy": "2021-12-07T01:30:12.067711Z",
     "iopub.status.idle": "2021-12-07T01:30:12.074200Z",
     "shell.execute_reply": "2021-12-07T01:30:12.075964Z"
    },
    "papermill": {
     "duration": 0.054438,
     "end_time": "2021-12-07T01:30:12.076528",
     "exception": false,
     "start_time": "2021-12-07T01:30:12.022090",
     "status": "completed"
    },
    "tags": []
   },
   "outputs": [],
   "source": [
    "df_pivot.columns = [\"stamp_1\", \"stamp_2\"]\n",
    "df_pivot_diff = df_pivot.diff(axis=1)"
   ]
  },
  {
   "cell_type": "code",
   "execution_count": 7,
   "id": "fifth-motion",
   "metadata": {
    "execution": {
     "iopub.execute_input": "2021-12-07T01:30:12.131927Z",
     "iopub.status.busy": "2021-12-07T01:30:12.129671Z",
     "iopub.status.idle": "2021-12-07T01:30:13.821417Z",
     "shell.execute_reply": "2021-12-07T01:30:13.822601Z"
    },
    "papermill": {
     "duration": 1.725456,
     "end_time": "2021-12-07T01:30:13.823037",
     "exception": false,
     "start_time": "2021-12-07T01:30:12.097581",
     "status": "completed"
    },
    "tags": []
   },
   "outputs": [
    {
     "data": {
      "text/plain": [
       "<AxesSubplot:ylabel='PRODUCT'>"
      ]
     },
     "execution_count": 7,
     "metadata": {},
     "output_type": "execute_result"
    },
    {
     "data": {
      "image/png": "[encoded data removed]",
      "text/plain": [
       "<Figure size 432x288 with 1 Axes>"
      ]
     },
     "metadata": {
      "needs_background": "light"
     },
     "output_type": "display_data"
    }
   ],
   "source": [
    "df_pivot_diff.sort_values(\"stamp_2\", ascending = False)[\"stamp_2\"].head(10).plot.barh()"
   ]
  },
  {
   "cell_type": "code",
   "execution_count": null,
   "id": "extra-executive",
   "metadata": {
    "papermill": {
     "duration": 0.022171,
     "end_time": "2021-12-07T01:30:13.871128",
     "exception": false,
     "start_time": "2021-12-07T01:30:13.848957",
     "status": "completed"
    },
    "tags": []
   },
   "outputs": [],
   "source": []
  }
 ],
 "metadata": {
  "kernelspec": {
   "display_name": "Python 3",
   "language": "python",
   "name": "python3"
  },
  "language_info": {
   "codemirror_mode": {
    "name": "ipython",
    "version": 3
   },
   "file_extension": ".py",
   "mimetype": "text/x-python",
   "name": "python",
   "nbconvert_exporter": "python",
   "pygments_lexer": "ipython3",
   "version": "3.9.5"
  },
  "papermill": {
   "default_parameters": {},
   "duration": 9.941235,
   "end_time": "2021-12-07T01:30:15.365882",
   "environment_variables": {},
   "exception": null,
   "input_path": "eBay_Overview.ipynb",
   "output_path": "eBay_Overview.ipynb",
   "parameters": {},
   "start_time": "2021-12-07T01:30:05.424647",
   "version": "2.3.3"
  }
 },
 "nbformat": 4,
 "nbformat_minor": 5
}