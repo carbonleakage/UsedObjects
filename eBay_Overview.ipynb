{
 "cells": [
  {
   "cell_type": "code",
   "execution_count": 1,
   "id": "reverse-picking",
   "metadata": {
    "execution": {
     "iopub.execute_input": "2021-12-01T07:00:07.135430Z",
     "iopub.status.busy": "2021-12-01T07:00:07.133057Z",
     "iopub.status.idle": "2021-12-01T07:00:08.086302Z",
     "shell.execute_reply": "2021-12-01T07:00:08.087751Z"
    },
    "papermill": {
     "duration": 1.003421,
     "end_time": "2021-12-01T07:00:08.088518",
     "exception": false,
     "start_time": "2021-12-01T07:00:07.085097",
     "status": "completed"
    },
    "tags": []
   },
   "outputs": [],
   "source": [
    "import pandas as pd\n",
    "import sqlite3"
   ]
  },
  {
   "cell_type": "code",
   "execution_count": 2,
   "id": "innovative-syndrome",
   "metadata": {
    "execution": {
     "iopub.execute_input": "2021-12-01T07:00:08.150876Z",
     "iopub.status.busy": "2021-12-01T07:00:08.148631Z",
     "iopub.status.idle": "2021-12-01T07:00:09.096299Z",
     "shell.execute_reply": "2021-12-01T07:00:09.097966Z"
    },
    "papermill": {
     "duration": 0.981461,
     "end_time": "2021-12-01T07:00:09.098473",
     "exception": false,
     "start_time": "2021-12-01T07:00:08.117012",
     "status": "completed"
    },
    "tags": []
   },
   "outputs": [],
   "source": [
    "timestamps = pd.read_sql(\"select distinct record_time from EBAY_TOP_BERLIN order by record_time desc limit 2\", sqlite3.connect(\"UsedObjects.db\"))"
   ]
  },
  {
   "cell_type": "code",
   "execution_count": 3,
   "id": "periodic-identification",
   "metadata": {
    "execution": {
     "iopub.execute_input": "2021-12-01T07:00:09.173133Z",
     "iopub.status.busy": "2021-12-01T07:00:09.170063Z",
     "iopub.status.idle": "2021-12-01T07:00:09.192540Z",
     "shell.execute_reply": "2021-12-01T07:00:09.194046Z"
    },
    "papermill": {
     "duration": 0.074882,
     "end_time": "2021-12-01T07:00:09.194528",
     "exception": false,
     "start_time": "2021-12-01T07:00:09.119646",
     "status": "completed"
    },
    "tags": []
   },
   "outputs": [
    {
     "data": {
      "text/html": [
       "<div>\n",
       "<style scoped>\n",
       "    .dataframe tbody tr th:only-of-type {\n",
       "        vertical-align: middle;\n",
       "    }\n",
       "\n",
       "    .dataframe tbody tr th {\n",
       "        vertical-align: top;\n",
       "    }\n",
       "\n",
       "    .dataframe thead th {\n",
       "        text-align: right;\n",
       "    }\n",
       "</style>\n",
       "<table border=\"1\" class=\"dataframe\">\n",
       "  <thead>\n",
       "    <tr style=\"text-align: right;\">\n",
       "      <th></th>\n",
       "      <th>RECORD_TIME</th>\n",
       "    </tr>\n",
       "  </thead>\n",
       "  <tbody>\n",
       "    <tr>\n",
       "      <th>0</th>\n",
       "      <td>2021-12-01 08:00</td>\n",
       "    </tr>\n",
       "    <tr>\n",
       "      <th>1</th>\n",
       "      <td>2021-12-01 07:30</td>\n",
       "    </tr>\n",
       "  </tbody>\n",
       "</table>\n",
       "</div>"
      ],
      "text/plain": [
       "        RECORD_TIME\n",
       "0  2021-12-01 08:00\n",
       "1  2021-12-01 07:30"
      ]
     },
     "execution_count": 3,
     "metadata": {},
     "output_type": "execute_result"
    }
   ],
   "source": [
    "timestamps"
   ]
  },
  {
   "cell_type": "code",
   "execution_count": 4,
   "id": "alternate-victory",
   "metadata": {
    "execution": {
     "iopub.execute_input": "2021-12-01T07:00:09.249255Z",
     "iopub.status.busy": "2021-12-01T07:00:09.247061Z",
     "iopub.status.idle": "2021-12-01T07:00:10.626858Z",
     "shell.execute_reply": "2021-12-01T07:00:10.629244Z"
    },
    "papermill": {
     "duration": 1.413862,
     "end_time": "2021-12-01T07:00:10.629737",
     "exception": false,
     "start_time": "2021-12-01T07:00:09.215875",
     "status": "completed"
    },
    "tags": []
   },
   "outputs": [],
   "source": [
    "df = pd.read_sql(\"select * from EBAY_TOP_BERLIN where record_time in (select distinct record_time from EBAY_TOP_BERLIN order by record_time desc limit 2)\", sqlite3.connect(\"UsedObjects.db\"))"
   ]
  },
  {
   "cell_type": "code",
   "execution_count": 5,
   "id": "popular-active",
   "metadata": {
    "execution": {
     "iopub.execute_input": "2021-12-01T07:00:10.696368Z",
     "iopub.status.busy": "2021-12-01T07:00:10.694046Z",
     "iopub.status.idle": "2021-12-01T07:00:10.726250Z",
     "shell.execute_reply": "2021-12-01T07:00:10.727673Z"
    },
    "papermill": {
     "duration": 0.076793,
     "end_time": "2021-12-01T07:00:10.728156",
     "exception": false,
     "start_time": "2021-12-01T07:00:10.651363",
     "status": "completed"
    },
    "tags": []
   },
   "outputs": [],
   "source": [
    "df_pivot = df.pivot_table(index=\"PRODUCT\", columns = \"RECORD_TIME\", values = \"LISTING_COUNT\")"
   ]
  },
  {
   "cell_type": "code",
   "execution_count": 6,
   "id": "union-huntington",
   "metadata": {
    "execution": {
     "iopub.execute_input": "2021-12-01T07:00:10.786925Z",
     "iopub.status.busy": "2021-12-01T07:00:10.784674Z",
     "iopub.status.idle": "2021-12-01T07:00:10.791716Z",
     "shell.execute_reply": "2021-12-01T07:00:10.790283Z"
    },
    "papermill": {
     "duration": 0.043474,
     "end_time": "2021-12-01T07:00:10.792121",
     "exception": false,
     "start_time": "2021-12-01T07:00:10.748647",
     "status": "completed"
    },
    "tags": []
   },
   "outputs": [],
   "source": [
    "df_pivot.columns = [\"stamp_1\", \"stamp_2\"]\n",
    "df_pivot_diff = df_pivot.diff(axis=1)"
   ]
  },
  {
   "cell_type": "code",
   "execution_count": 7,
   "id": "fifth-motion",
   "metadata": {
    "execution": {
     "iopub.execute_input": "2021-12-01T07:00:10.848627Z",
     "iopub.status.busy": "2021-12-01T07:00:10.845891Z",
     "iopub.status.idle": "2021-12-01T07:00:12.745259Z",
     "shell.execute_reply": "2021-12-01T07:00:12.747929Z"
    },
    "papermill": {
     "duration": 1.936236,
     "end_time": "2021-12-01T07:00:12.748809",
     "exception": false,
     "start_time": "2021-12-01T07:00:10.812573",
     "status": "completed"
    },
    "tags": []
   },
   "outputs": [
    {
     "data": {
      "text/plain": [
       "<AxesSubplot:ylabel='PRODUCT'>"
      ]
     },
     "execution_count": 7,
     "metadata": {},
     "output_type": "execute_result"
    },
    {
     "data": {
      "image/png": "[encoded data removed]",
      "text/plain": [
       "<Figure size 432x288 with 1 Axes>"
      ]
     },
     "metadata": {
      "needs_background": "light"
     },
     "output_type": "display_data"
    }
   ],
   "source": [
    "df_pivot_diff.sort_values(\"stamp_2\", ascending = False)[\"stamp_2\"].head(10).plot.barh()"
   ]
  },
  {
   "cell_type": "code",
   "execution_count": null,
   "id": "extra-executive",
   "metadata": {
    "papermill": {
     "duration": 0.03306,
     "end_time": "2021-12-01T07:00:12.818865",
     "exception": false,
     "start_time": "2021-12-01T07:00:12.785805",
     "status": "completed"
    },
    "tags": []
   },
   "outputs": [],
   "source": []
  }
 ],
 "metadata": {
  "kernelspec": {
   "display_name": "Python 3",
   "language": "python",
   "name": "python3"
  },
  "language_info": {
   "codemirror_mode": {
    "name": "ipython",
    "version": 3
   },
   "file_extension": ".py",
   "mimetype": "text/x-python",
   "name": "python",
   "nbconvert_exporter": "python",
   "pygments_lexer": "ipython3",
   "version": "3.9.5"
  },
  "papermill": {
   "default_parameters": {},
   "duration": 9.930188,
   "end_time": "2021-12-01T07:00:14.278764",
   "environment_variables": {},
   "exception": null,
   "input_path": "eBay_Overview.ipynb",
   "output_path": "eBay_Overview.ipynb",
   "parameters": {},
   "start_time": "2021-12-01T07:00:04.348576",
   "version": "2.3.3"
  }
 },
 "nbformat": 4,
 "nbformat_minor": 5
}