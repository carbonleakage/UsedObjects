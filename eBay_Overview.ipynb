{
 "cells": [
  {
   "cell_type": "code",
   "execution_count": 1,
   "id": "reverse-picking",
   "metadata": {
    "execution": {
     "iopub.execute_input": "2021-08-10T08:00:03.975939Z",
     "iopub.status.busy": "2021-08-10T08:00:03.975169Z",
     "iopub.status.idle": "2021-08-10T08:00:04.587916Z",
     "shell.execute_reply": "2021-08-10T08:00:04.587235Z"
    },
    "papermill": {
     "duration": 0.631924,
     "end_time": "2021-08-10T08:00:04.588103",
     "exception": false,
     "start_time": "2021-08-10T08:00:03.956179",
     "status": "completed"
    },
    "tags": []
   },
   "outputs": [],
   "source": [
    "import pandas as pd\n",
    "import sqlite3"
   ]
  },
  {
   "cell_type": "code",
   "execution_count": 2,
   "id": "innovative-syndrome",
   "metadata": {
    "execution": {
     "iopub.execute_input": "2021-08-10T08:00:04.610111Z",
     "iopub.status.busy": "2021-08-10T08:00:04.609325Z",
     "iopub.status.idle": "2021-08-10T08:00:04.880027Z",
     "shell.execute_reply": "2021-08-10T08:00:04.880559Z"
    },
    "papermill": {
     "duration": 0.283637,
     "end_time": "2021-08-10T08:00:04.880744",
     "exception": false,
     "start_time": "2021-08-10T08:00:04.597107",
     "status": "completed"
    },
    "tags": []
   },
   "outputs": [],
   "source": [
    "timestamps = pd.read_sql(\"select distinct record_time from EBAY_TOP_BERLIN order by record_time desc limit 2\", sqlite3.connect(\"UsedObjects.db\"))"
   ]
  },
  {
   "cell_type": "code",
   "execution_count": 3,
   "id": "periodic-identification",
   "metadata": {
    "execution": {
     "iopub.execute_input": "2021-08-10T08:00:04.907742Z",
     "iopub.status.busy": "2021-08-10T08:00:04.906960Z",
     "iopub.status.idle": "2021-08-10T08:00:04.921874Z",
     "shell.execute_reply": "2021-08-10T08:00:04.921122Z"
    },
    "papermill": {
     "duration": 0.033241,
     "end_time": "2021-08-10T08:00:04.922036",
     "exception": false,
     "start_time": "2021-08-10T08:00:04.888795",
     "status": "completed"
    },
    "tags": []
   },
   "outputs": [
    {
     "data": {
      "text/html": [
       "<div>\n",
       "<style scoped>\n",
       "    .dataframe tbody tr th:only-of-type {\n",
       "        vertical-align: middle;\n",
       "    }\n",
       "\n",
       "    .dataframe tbody tr th {\n",
       "        vertical-align: top;\n",
       "    }\n",
       "\n",
       "    .dataframe thead th {\n",
       "        text-align: right;\n",
       "    }\n",
       "</style>\n",
       "<table border=\"1\" class=\"dataframe\">\n",
       "  <thead>\n",
       "    <tr style=\"text-align: right;\">\n",
       "      <th></th>\n",
       "      <th>RECORD_TIME</th>\n",
       "    </tr>\n",
       "  </thead>\n",
       "  <tbody>\n",
       "    <tr>\n",
       "      <th>0</th>\n",
       "      <td>2021-08-10 10:00</td>\n",
       "    </tr>\n",
       "    <tr>\n",
       "      <th>1</th>\n",
       "      <td>2021-08-10 09:30</td>\n",
       "    </tr>\n",
       "  </tbody>\n",
       "</table>\n",
       "</div>"
      ],
      "text/plain": [
       "        RECORD_TIME\n",
       "0  2021-08-10 10:00\n",
       "1  2021-08-10 09:30"
      ]
     },
     "execution_count": 3,
     "metadata": {},
     "output_type": "execute_result"
    }
   ],
   "source": [
    "timestamps"
   ]
  },
  {
   "cell_type": "code",
   "execution_count": 4,
   "id": "alternate-victory",
   "metadata": {
    "execution": {
     "iopub.execute_input": "2021-08-10T08:00:04.948963Z",
     "iopub.status.busy": "2021-08-10T08:00:04.948193Z",
     "iopub.status.idle": "2021-08-10T08:00:04.961267Z",
     "shell.execute_reply": "2021-08-10T08:00:04.960518Z"
    },
    "papermill": {
     "duration": 0.030152,
     "end_time": "2021-08-10T08:00:04.961482",
     "exception": false,
     "start_time": "2021-08-10T08:00:04.931330",
     "status": "completed"
    },
    "tags": []
   },
   "outputs": [],
   "source": [
    "df = pd.read_sql(\"select * from EBAY_TOP_BERLIN where record_time in (select distinct record_time from EBAY_TOP_BERLIN order by record_time desc limit 2)\", sqlite3.connect(\"UsedObjects.db\"))"
   ]
  },
  {
   "cell_type": "code",
   "execution_count": 5,
   "id": "popular-active",
   "metadata": {
    "execution": {
     "iopub.execute_input": "2021-08-10T08:00:04.991568Z",
     "iopub.status.busy": "2021-08-10T08:00:04.990572Z",
     "iopub.status.idle": "2021-08-10T08:00:05.006786Z",
     "shell.execute_reply": "2021-08-10T08:00:05.007358Z"
    },
    "papermill": {
     "duration": 0.037145,
     "end_time": "2021-08-10T08:00:05.007553",
     "exception": false,
     "start_time": "2021-08-10T08:00:04.970408",
     "status": "completed"
    },
    "tags": []
   },
   "outputs": [],
   "source": [
    "df_pivot = df.pivot_table(index=\"PRODUCT\", columns = \"RECORD_TIME\", values = \"LISTING_COUNT\")"
   ]
  },
  {
   "cell_type": "code",
   "execution_count": 6,
   "id": "union-huntington",
   "metadata": {
    "execution": {
     "iopub.execute_input": "2021-08-10T08:00:05.033762Z",
     "iopub.status.busy": "2021-08-10T08:00:05.033063Z",
     "iopub.status.idle": "2021-08-10T08:00:05.036790Z",
     "shell.execute_reply": "2021-08-10T08:00:05.037321Z"
    },
    "papermill": {
     "duration": 0.021433,
     "end_time": "2021-08-10T08:00:05.037501",
     "exception": false,
     "start_time": "2021-08-10T08:00:05.016068",
     "status": "completed"
    },
    "tags": []
   },
   "outputs": [],
   "source": [
    "df_pivot.columns = [\"stamp_1\", \"stamp_2\"]\n",
    "df_pivot_diff = df_pivot.diff(axis=1)"
   ]
  },
  {
   "cell_type": "code",
   "execution_count": 7,
   "id": "fifth-motion",
   "metadata": {
    "execution": {
     "iopub.execute_input": "2021-08-10T08:00:05.069790Z",
     "iopub.status.busy": "2021-08-10T08:00:05.065697Z",
     "iopub.status.idle": "2021-08-10T08:00:05.773629Z",
     "shell.execute_reply": "2021-08-10T08:00:05.773023Z"
    },
    "papermill": {
     "duration": 0.728159,
     "end_time": "2021-08-10T08:00:05.773788",
     "exception": false,
     "start_time": "2021-08-10T08:00:05.045629",
     "status": "completed"
    },
    "tags": []
   },
   "outputs": [
    {
     "data": {
      "text/plain": [
       "<AxesSubplot:ylabel='PRODUCT'>"
      ]
     },
     "execution_count": 7,
     "metadata": {},
     "output_type": "execute_result"
    },
    {
     "data": {
      "image/png": "[encoded data removed]",
      "text/plain": [
       "<Figure size 432x288 with 1 Axes>"
      ]
     },
     "metadata": {
      "needs_background": "light"
     },
     "output_type": "display_data"
    }
   ],
   "source": [
    "df_pivot_diff.sort_values(\"stamp_2\", ascending = False)[\"stamp_2\"].head(10).plot.barh()"
   ]
  },
  {
   "cell_type": "code",
   "execution_count": null,
   "id": "extra-executive",
   "metadata": {
    "papermill": {
     "duration": 0.014668,
     "end_time": "2021-08-10T08:00:05.798505",
     "exception": false,
     "start_time": "2021-08-10T08:00:05.783837",
     "status": "completed"
    },
    "tags": []
   },
   "outputs": [],
   "source": []
  }
 ],
 "metadata": {
  "kernelspec": {
   "display_name": "Python 3",
   "language": "python",
   "name": "python3"
  },
  "language_info": {
   "codemirror_mode": {
    "name": "ipython",
    "version": 3
   },
   "file_extension": ".py",
   "mimetype": "text/x-python",
   "name": "python",
   "nbconvert_exporter": "python",
   "pygments_lexer": "ipython3",
   "version": "3.8.8"
  },
  "papermill": {
   "default_parameters": {},
   "duration": 4.206815,
   "end_time": "2021-08-10T08:00:06.537215",
   "environment_variables": {},
   "exception": null,
   "input_path": "/Users/saravananshanmugam/Carbonleakage_Git/UsedObjects/eBay_Overview.ipynb",
   "output_path": "/Users/saravananshanmugam/Carbonleakage_Git/UsedObjects/eBay_Overview.ipynb",
   "parameters": {},
   "start_time": "2021-08-10T08:00:02.330400",
   "version": "2.3.3"
  }
 },
 "nbformat": 4,
 "nbformat_minor": 5
}