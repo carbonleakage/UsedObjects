{
 "cells": [
  {
   "cell_type": "code",
   "execution_count": 1,
   "id": "reverse-picking",
   "metadata": {
    "execution": {
     "iopub.execute_input": "2021-10-18T04:00:07.474337Z",
     "iopub.status.busy": "2021-10-18T04:00:07.472265Z",
     "iopub.status.idle": "2021-10-18T04:00:08.285377Z",
     "shell.execute_reply": "2021-10-18T04:00:08.286675Z"
    },
    "papermill": {
     "duration": 0.863119,
     "end_time": "2021-10-18T04:00:08.287301",
     "exception": false,
     "start_time": "2021-10-18T04:00:07.424182",
     "status": "completed"
    },
    "tags": []
   },
   "outputs": [],
   "source": [
    "import pandas as pd\n",
    "import sqlite3"
   ]
  },
  {
   "cell_type": "code",
   "execution_count": 2,
   "id": "innovative-syndrome",
   "metadata": {
    "execution": {
     "iopub.execute_input": "2021-10-18T04:00:08.338510Z",
     "iopub.status.busy": "2021-10-18T04:00:08.336533Z",
     "iopub.status.idle": "2021-10-18T04:00:08.905378Z",
     "shell.execute_reply": "2021-10-18T04:00:08.906834Z"
    },
    "papermill": {
     "duration": 0.599003,
     "end_time": "2021-10-18T04:00:08.907279",
     "exception": false,
     "start_time": "2021-10-18T04:00:08.308276",
     "status": "completed"
    },
    "tags": []
   },
   "outputs": [],
   "source": [
    "timestamps = pd.read_sql(\"select distinct record_time from EBAY_TOP_BERLIN order by record_time desc limit 2\", sqlite3.connect(\"UsedObjects.db\"))"
   ]
  },
  {
   "cell_type": "code",
   "execution_count": 3,
   "id": "periodic-identification",
   "metadata": {
    "execution": {
     "iopub.execute_input": "2021-10-18T04:00:08.984387Z",
     "iopub.status.busy": "2021-10-18T04:00:08.982353Z",
     "iopub.status.idle": "2021-10-18T04:00:09.002364Z",
     "shell.execute_reply": "2021-10-18T04:00:09.003659Z"
    },
    "papermill": {
     "duration": 0.070396,
     "end_time": "2021-10-18T04:00:09.004077",
     "exception": false,
     "start_time": "2021-10-18T04:00:08.933681",
     "status": "completed"
    },
    "tags": []
   },
   "outputs": [
    {
     "data": {
      "text/html": [
       "<div>\n",
       "<style scoped>\n",
       "    .dataframe tbody tr th:only-of-type {\n",
       "        vertical-align: middle;\n",
       "    }\n",
       "\n",
       "    .dataframe tbody tr th {\n",
       "        vertical-align: top;\n",
       "    }\n",
       "\n",
       "    .dataframe thead th {\n",
       "        text-align: right;\n",
       "    }\n",
       "</style>\n",
       "<table border=\"1\" class=\"dataframe\">\n",
       "  <thead>\n",
       "    <tr style=\"text-align: right;\">\n",
       "      <th></th>\n",
       "      <th>RECORD_TIME</th>\n",
       "    </tr>\n",
       "  </thead>\n",
       "  <tbody>\n",
       "    <tr>\n",
       "      <th>0</th>\n",
       "      <td>2021-10-18 06:00</td>\n",
       "    </tr>\n",
       "    <tr>\n",
       "      <th>1</th>\n",
       "      <td>2021-10-18 05:30</td>\n",
       "    </tr>\n",
       "  </tbody>\n",
       "</table>\n",
       "</div>"
      ],
      "text/plain": [
       "        RECORD_TIME\n",
       "0  2021-10-18 06:00\n",
       "1  2021-10-18 05:30"
      ]
     },
     "execution_count": 3,
     "metadata": {},
     "output_type": "execute_result"
    }
   ],
   "source": [
    "timestamps"
   ]
  },
  {
   "cell_type": "code",
   "execution_count": 4,
   "id": "alternate-victory",
   "metadata": {
    "execution": {
     "iopub.execute_input": "2021-10-18T04:00:09.055186Z",
     "iopub.status.busy": "2021-10-18T04:00:09.053344Z",
     "iopub.status.idle": "2021-10-18T04:00:09.862221Z",
     "shell.execute_reply": "2021-10-18T04:00:09.863583Z"
    },
    "papermill": {
     "duration": 0.839184,
     "end_time": "2021-10-18T04:00:09.864017",
     "exception": false,
     "start_time": "2021-10-18T04:00:09.024833",
     "status": "completed"
    },
    "tags": []
   },
   "outputs": [],
   "source": [
    "df = pd.read_sql(\"select * from EBAY_TOP_BERLIN where record_time in (select distinct record_time from EBAY_TOP_BERLIN order by record_time desc limit 2)\", sqlite3.connect(\"UsedObjects.db\"))"
   ]
  },
  {
   "cell_type": "code",
   "execution_count": 5,
   "id": "popular-active",
   "metadata": {
    "execution": {
     "iopub.execute_input": "2021-10-18T04:00:09.936237Z",
     "iopub.status.busy": "2021-10-18T04:00:09.923872Z",
     "iopub.status.idle": "2021-10-18T04:00:09.953878Z",
     "shell.execute_reply": "2021-10-18T04:00:09.955265Z"
    },
    "papermill": {
     "duration": 0.069714,
     "end_time": "2021-10-18T04:00:09.955702",
     "exception": false,
     "start_time": "2021-10-18T04:00:09.885988",
     "status": "completed"
    },
    "tags": []
   },
   "outputs": [],
   "source": [
    "df_pivot = df.pivot_table(index=\"PRODUCT\", columns = \"RECORD_TIME\", values = \"LISTING_COUNT\")"
   ]
  },
  {
   "cell_type": "code",
   "execution_count": 6,
   "id": "union-huntington",
   "metadata": {
    "execution": {
     "iopub.execute_input": "2021-10-18T04:00:10.012983Z",
     "iopub.status.busy": "2021-10-18T04:00:10.010856Z",
     "iopub.status.idle": "2021-10-18T04:00:10.016319Z",
     "shell.execute_reply": "2021-10-18T04:00:10.017677Z"
    },
    "papermill": {
     "duration": 0.041778,
     "end_time": "2021-10-18T04:00:10.018100",
     "exception": false,
     "start_time": "2021-10-18T04:00:09.976322",
     "status": "completed"
    },
    "tags": []
   },
   "outputs": [],
   "source": [
    "df_pivot.columns = [\"stamp_1\", \"stamp_2\"]\n",
    "df_pivot_diff = df_pivot.diff(axis=1)"
   ]
  },
  {
   "cell_type": "code",
   "execution_count": 7,
   "id": "fifth-motion",
   "metadata": {
    "execution": {
     "iopub.execute_input": "2021-10-18T04:00:10.072268Z",
     "iopub.status.busy": "2021-10-18T04:00:10.069861Z",
     "iopub.status.idle": "2021-10-18T04:00:11.582948Z",
     "shell.execute_reply": "2021-10-18T04:00:11.584237Z"
    },
    "papermill": {
     "duration": 1.546003,
     "end_time": "2021-10-18T04:00:11.584652",
     "exception": false,
     "start_time": "2021-10-18T04:00:10.038649",
     "status": "completed"
    },
    "tags": []
   },
   "outputs": [
    {
     "data": {
      "text/plain": [
       "<AxesSubplot:ylabel='PRODUCT'>"
      ]
     },
     "execution_count": 7,
     "metadata": {},
     "output_type": "execute_result"
    },
    {
     "data": {
      "image/png": "[encoded data removed]",
      "text/plain": [
       "<Figure size 432x288 with 1 Axes>"
      ]
     },
     "metadata": {
      "needs_background": "light"
     },
     "output_type": "display_data"
    }
   ],
   "source": [
    "df_pivot_diff.sort_values(\"stamp_2\", ascending = False)[\"stamp_2\"].head(10).plot.barh()"
   ]
  },
  {
   "cell_type": "code",
   "execution_count": null,
   "id": "extra-executive",
   "metadata": {
    "papermill": {
     "duration": 0.022342,
     "end_time": "2021-10-18T04:00:11.632246",
     "exception": false,
     "start_time": "2021-10-18T04:00:11.609904",
     "status": "completed"
    },
    "tags": []
   },
   "outputs": [],
   "source": []
  }
 ],
 "metadata": {
  "kernelspec": {
   "display_name": "Python 3",
   "language": "python",
   "name": "python3"
  },
  "language_info": {
   "codemirror_mode": {
    "name": "ipython",
    "version": 3
   },
   "file_extension": ".py",
   "mimetype": "text/x-python",
   "name": "python",
   "nbconvert_exporter": "python",
   "pygments_lexer": "ipython3",
   "version": "3.9.5"
  },
  "papermill": {
   "default_parameters": {},
   "duration": 7.823655,
   "end_time": "2021-10-18T04:00:12.834259",
   "environment_variables": {},
   "exception": null,
   "input_path": "eBay_Overview.ipynb",
   "output_path": "eBay_Overview.ipynb",
   "parameters": {},
   "start_time": "2021-10-18T04:00:05.010604",
   "version": "2.3.3"
  }
 },
 "nbformat": 4,
 "nbformat_minor": 5
}