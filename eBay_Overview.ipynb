{
 "cells": [
  {
   "cell_type": "code",
   "execution_count": 1,
   "id": "reverse-picking",
   "metadata": {
    "execution": {
     "iopub.execute_input": "2021-08-28T20:00:06.770883Z",
     "iopub.status.busy": "2021-08-28T20:00:06.768924Z",
     "iopub.status.idle": "2021-08-28T20:00:07.573774Z",
     "shell.execute_reply": "2021-08-28T20:00:07.575031Z"
    },
    "papermill": {
     "duration": 0.859266,
     "end_time": "2021-08-28T20:00:07.575656",
     "exception": false,
     "start_time": "2021-08-28T20:00:06.716390",
     "status": "completed"
    },
    "tags": []
   },
   "outputs": [],
   "source": [
    "import pandas as pd\n",
    "import sqlite3"
   ]
  },
  {
   "cell_type": "code",
   "execution_count": 2,
   "id": "innovative-syndrome",
   "metadata": {
    "execution": {
     "iopub.execute_input": "2021-08-28T20:00:07.627246Z",
     "iopub.status.busy": "2021-08-28T20:00:07.625364Z",
     "iopub.status.idle": "2021-08-28T20:00:07.777558Z",
     "shell.execute_reply": "2021-08-28T20:00:07.778768Z"
    },
    "papermill": {
     "duration": 0.181828,
     "end_time": "2021-08-28T20:00:07.779166",
     "exception": false,
     "start_time": "2021-08-28T20:00:07.597338",
     "status": "completed"
    },
    "tags": []
   },
   "outputs": [],
   "source": [
    "timestamps = pd.read_sql(\"select distinct record_time from EBAY_TOP_BERLIN order by record_time desc limit 2\", sqlite3.connect(\"UsedObjects.db\"))"
   ]
  },
  {
   "cell_type": "code",
   "execution_count": 3,
   "id": "periodic-identification",
   "metadata": {
    "execution": {
     "iopub.execute_input": "2021-08-28T20:00:07.843462Z",
     "iopub.status.busy": "2021-08-28T20:00:07.841448Z",
     "iopub.status.idle": "2021-08-28T20:00:07.861297Z",
     "shell.execute_reply": "2021-08-28T20:00:07.862658Z"
    },
    "papermill": {
     "duration": 0.064431,
     "end_time": "2021-08-28T20:00:07.863078",
     "exception": false,
     "start_time": "2021-08-28T20:00:07.798647",
     "status": "completed"
    },
    "tags": []
   },
   "outputs": [
    {
     "data": {
      "text/html": [
       "<div>\n",
       "<style scoped>\n",
       "    .dataframe tbody tr th:only-of-type {\n",
       "        vertical-align: middle;\n",
       "    }\n",
       "\n",
       "    .dataframe tbody tr th {\n",
       "        vertical-align: top;\n",
       "    }\n",
       "\n",
       "    .dataframe thead th {\n",
       "        text-align: right;\n",
       "    }\n",
       "</style>\n",
       "<table border=\"1\" class=\"dataframe\">\n",
       "  <thead>\n",
       "    <tr style=\"text-align: right;\">\n",
       "      <th></th>\n",
       "      <th>RECORD_TIME</th>\n",
       "    </tr>\n",
       "  </thead>\n",
       "  <tbody>\n",
       "    <tr>\n",
       "      <th>0</th>\n",
       "      <td>2021-08-28 22:00</td>\n",
       "    </tr>\n",
       "    <tr>\n",
       "      <th>1</th>\n",
       "      <td>2021-08-28 21:30</td>\n",
       "    </tr>\n",
       "  </tbody>\n",
       "</table>\n",
       "</div>"
      ],
      "text/plain": [
       "        RECORD_TIME\n",
       "0  2021-08-28 22:00\n",
       "1  2021-08-28 21:30"
      ]
     },
     "execution_count": 3,
     "metadata": {},
     "output_type": "execute_result"
    }
   ],
   "source": [
    "timestamps"
   ]
  },
  {
   "cell_type": "code",
   "execution_count": 4,
   "id": "alternate-victory",
   "metadata": {
    "execution": {
     "iopub.execute_input": "2021-08-28T20:00:07.915570Z",
     "iopub.status.busy": "2021-08-28T20:00:07.913264Z",
     "iopub.status.idle": "2021-08-28T20:00:08.147832Z",
     "shell.execute_reply": "2021-08-28T20:00:08.149196Z"
    },
    "papermill": {
     "duration": 0.265154,
     "end_time": "2021-08-28T20:00:08.149609",
     "exception": false,
     "start_time": "2021-08-28T20:00:07.884455",
     "status": "completed"
    },
    "tags": []
   },
   "outputs": [],
   "source": [
    "df = pd.read_sql(\"select * from EBAY_TOP_BERLIN where record_time in (select distinct record_time from EBAY_TOP_BERLIN order by record_time desc limit 2)\", sqlite3.connect(\"UsedObjects.db\"))"
   ]
  },
  {
   "cell_type": "code",
   "execution_count": 5,
   "id": "popular-active",
   "metadata": {
    "execution": {
     "iopub.execute_input": "2021-08-28T20:00:08.234868Z",
     "iopub.status.busy": "2021-08-28T20:00:08.222010Z",
     "iopub.status.idle": "2021-08-28T20:00:08.251644Z",
     "shell.execute_reply": "2021-08-28T20:00:08.252932Z"
    },
    "papermill": {
     "duration": 0.080972,
     "end_time": "2021-08-28T20:00:08.253337",
     "exception": false,
     "start_time": "2021-08-28T20:00:08.172365",
     "status": "completed"
    },
    "tags": []
   },
   "outputs": [],
   "source": [
    "df_pivot = df.pivot_table(index=\"PRODUCT\", columns = \"RECORD_TIME\", values = \"LISTING_COUNT\")"
   ]
  },
  {
   "cell_type": "code",
   "execution_count": 6,
   "id": "union-huntington",
   "metadata": {
    "execution": {
     "iopub.execute_input": "2021-08-28T20:00:08.312730Z",
     "iopub.status.busy": "2021-08-28T20:00:08.310330Z",
     "iopub.status.idle": "2021-08-28T20:00:08.316209Z",
     "shell.execute_reply": "2021-08-28T20:00:08.317770Z"
    },
    "papermill": {
     "duration": 0.042121,
     "end_time": "2021-08-28T20:00:08.318238",
     "exception": false,
     "start_time": "2021-08-28T20:00:08.276117",
     "status": "completed"
    },
    "tags": []
   },
   "outputs": [],
   "source": [
    "df_pivot.columns = [\"stamp_1\", \"stamp_2\"]\n",
    "df_pivot_diff = df_pivot.diff(axis=1)"
   ]
  },
  {
   "cell_type": "code",
   "execution_count": 7,
   "id": "fifth-motion",
   "metadata": {
    "execution": {
     "iopub.execute_input": "2021-08-28T20:00:08.372390Z",
     "iopub.status.busy": "2021-08-28T20:00:08.370044Z",
     "iopub.status.idle": "2021-08-28T20:00:09.857455Z",
     "shell.execute_reply": "2021-08-28T20:00:09.858753Z"
    },
    "papermill": {
     "duration": 1.520337,
     "end_time": "2021-08-28T20:00:09.859171",
     "exception": false,
     "start_time": "2021-08-28T20:00:08.338834",
     "status": "completed"
    },
    "tags": []
   },
   "outputs": [
    {
     "data": {
      "text/plain": [
       "<AxesSubplot:ylabel='PRODUCT'>"
      ]
     },
     "execution_count": 7,
     "metadata": {},
     "output_type": "execute_result"
    },
    {
     "data": {
      "image/png": "[encoded data removed]",
      "text/plain": [
       "<Figure size 432x288 with 1 Axes>"
      ]
     },
     "metadata": {
      "needs_background": "light"
     },
     "output_type": "display_data"
    }
   ],
   "source": [
    "df_pivot_diff.sort_values(\"stamp_2\", ascending = False)[\"stamp_2\"].head(10).plot.barh()"
   ]
  },
  {
   "cell_type": "code",
   "execution_count": null,
   "id": "extra-executive",
   "metadata": {
    "papermill": {
     "duration": 0.022067,
     "end_time": "2021-08-28T20:00:09.906659",
     "exception": false,
     "start_time": "2021-08-28T20:00:09.884592",
     "status": "completed"
    },
    "tags": []
   },
   "outputs": [],
   "source": []
  }
 ],
 "metadata": {
  "kernelspec": {
   "display_name": "Python 3",
   "language": "python",
   "name": "python3"
  },
  "language_info": {
   "codemirror_mode": {
    "name": "ipython",
    "version": 3
   },
   "file_extension": ".py",
   "mimetype": "text/x-python",
   "name": "python",
   "nbconvert_exporter": "python",
   "pygments_lexer": "ipython3",
   "version": "3.9.5"
  },
  "papermill": {
   "default_parameters": {},
   "duration": 6.820998,
   "end_time": "2021-08-28T20:00:11.128215",
   "environment_variables": {},
   "exception": null,
   "input_path": "eBay_Overview.ipynb",
   "output_path": "eBay_Overview.ipynb",
   "parameters": {},
   "start_time": "2021-08-28T20:00:04.307217",
   "version": "2.3.3"
  }
 },
 "nbformat": 4,
 "nbformat_minor": 5
}