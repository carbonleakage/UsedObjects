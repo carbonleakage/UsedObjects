{
 "cells": [
  {
   "cell_type": "code",
   "execution_count": 1,
   "id": "reverse-picking",
   "metadata": {
    "execution": {
     "iopub.execute_input": "2021-11-13T03:00:07.843463Z",
     "iopub.status.busy": "2021-11-13T03:00:07.841158Z",
     "iopub.status.idle": "2021-11-13T03:00:08.784493Z",
     "shell.execute_reply": "2021-11-13T03:00:08.786078Z"
    },
    "papermill": {
     "duration": 0.993169,
     "end_time": "2021-11-13T03:00:08.786840",
     "exception": false,
     "start_time": "2021-11-13T03:00:07.793671",
     "status": "completed"
    },
    "tags": []
   },
   "outputs": [],
   "source": [
    "import pandas as pd\n",
    "import sqlite3"
   ]
  },
  {
   "cell_type": "code",
   "execution_count": 2,
   "id": "innovative-syndrome",
   "metadata": {
    "execution": {
     "iopub.execute_input": "2021-11-13T03:00:08.849859Z",
     "iopub.status.busy": "2021-11-13T03:00:08.847463Z",
     "iopub.status.idle": "2021-11-13T03:00:09.654170Z",
     "shell.execute_reply": "2021-11-13T03:00:09.655709Z"
    },
    "papermill": {
     "duration": 0.840563,
     "end_time": "2021-11-13T03:00:09.656220",
     "exception": false,
     "start_time": "2021-11-13T03:00:08.815657",
     "status": "completed"
    },
    "tags": []
   },
   "outputs": [],
   "source": [
    "timestamps = pd.read_sql(\"select distinct record_time from EBAY_TOP_BERLIN order by record_time desc limit 2\", sqlite3.connect(\"UsedObjects.db\"))"
   ]
  },
  {
   "cell_type": "code",
   "execution_count": 3,
   "id": "periodic-identification",
   "metadata": {
    "execution": {
     "iopub.execute_input": "2021-11-13T03:00:09.733540Z",
     "iopub.status.busy": "2021-11-13T03:00:09.727124Z",
     "iopub.status.idle": "2021-11-13T03:00:09.750268Z",
     "shell.execute_reply": "2021-11-13T03:00:09.751749Z"
    },
    "papermill": {
     "duration": 0.074074,
     "end_time": "2021-11-13T03:00:09.752202",
     "exception": false,
     "start_time": "2021-11-13T03:00:09.678128",
     "status": "completed"
    },
    "tags": []
   },
   "outputs": [
    {
     "data": {
      "text/html": [
       "<div>\n",
       "<style scoped>\n",
       "    .dataframe tbody tr th:only-of-type {\n",
       "        vertical-align: middle;\n",
       "    }\n",
       "\n",
       "    .dataframe tbody tr th {\n",
       "        vertical-align: top;\n",
       "    }\n",
       "\n",
       "    .dataframe thead th {\n",
       "        text-align: right;\n",
       "    }\n",
       "</style>\n",
       "<table border=\"1\" class=\"dataframe\">\n",
       "  <thead>\n",
       "    <tr style=\"text-align: right;\">\n",
       "      <th></th>\n",
       "      <th>RECORD_TIME</th>\n",
       "    </tr>\n",
       "  </thead>\n",
       "  <tbody>\n",
       "    <tr>\n",
       "      <th>0</th>\n",
       "      <td>2021-11-13 04:00</td>\n",
       "    </tr>\n",
       "    <tr>\n",
       "      <th>1</th>\n",
       "      <td>2021-11-13 03:30</td>\n",
       "    </tr>\n",
       "  </tbody>\n",
       "</table>\n",
       "</div>"
      ],
      "text/plain": [
       "        RECORD_TIME\n",
       "0  2021-11-13 04:00\n",
       "1  2021-11-13 03:30"
      ]
     },
     "execution_count": 3,
     "metadata": {},
     "output_type": "execute_result"
    }
   ],
   "source": [
    "timestamps"
   ]
  },
  {
   "cell_type": "code",
   "execution_count": 4,
   "id": "alternate-victory",
   "metadata": {
    "execution": {
     "iopub.execute_input": "2021-11-13T03:00:09.806658Z",
     "iopub.status.busy": "2021-11-13T03:00:09.804365Z",
     "iopub.status.idle": "2021-11-13T03:00:10.986913Z",
     "shell.execute_reply": "2021-11-13T03:00:10.988547Z"
    },
    "papermill": {
     "duration": 1.215927,
     "end_time": "2021-11-13T03:00:10.989099",
     "exception": false,
     "start_time": "2021-11-13T03:00:09.773172",
     "status": "completed"
    },
    "tags": []
   },
   "outputs": [],
   "source": [
    "df = pd.read_sql(\"select * from EBAY_TOP_BERLIN where record_time in (select distinct record_time from EBAY_TOP_BERLIN order by record_time desc limit 2)\", sqlite3.connect(\"UsedObjects.db\"))"
   ]
  },
  {
   "cell_type": "code",
   "execution_count": 5,
   "id": "popular-active",
   "metadata": {
    "execution": {
     "iopub.execute_input": "2021-11-13T03:00:11.067137Z",
     "iopub.status.busy": "2021-11-13T03:00:11.053758Z",
     "iopub.status.idle": "2021-11-13T03:00:11.085310Z",
     "shell.execute_reply": "2021-11-13T03:00:11.083940Z"
    },
    "papermill": {
     "duration": 0.07372,
     "end_time": "2021-11-13T03:00:11.085691",
     "exception": false,
     "start_time": "2021-11-13T03:00:11.011971",
     "status": "completed"
    },
    "tags": []
   },
   "outputs": [],
   "source": [
    "df_pivot = df.pivot_table(index=\"PRODUCT\", columns = \"RECORD_TIME\", values = \"LISTING_COUNT\")"
   ]
  },
  {
   "cell_type": "code",
   "execution_count": 6,
   "id": "union-huntington",
   "metadata": {
    "execution": {
     "iopub.execute_input": "2021-11-13T03:00:11.148257Z",
     "iopub.status.busy": "2021-11-13T03:00:11.146035Z",
     "iopub.status.idle": "2021-11-13T03:00:11.151407Z",
     "shell.execute_reply": "2021-11-13T03:00:11.153137Z"
    },
    "papermill": {
     "duration": 0.04671,
     "end_time": "2021-11-13T03:00:11.153641",
     "exception": false,
     "start_time": "2021-11-13T03:00:11.106931",
     "status": "completed"
    },
    "tags": []
   },
   "outputs": [],
   "source": [
    "df_pivot.columns = [\"stamp_1\", \"stamp_2\"]\n",
    "df_pivot_diff = df_pivot.diff(axis=1)"
   ]
  },
  {
   "cell_type": "code",
   "execution_count": 7,
   "id": "fifth-motion",
   "metadata": {
    "execution": {
     "iopub.execute_input": "2021-11-13T03:00:11.214183Z",
     "iopub.status.busy": "2021-11-13T03:00:11.209982Z",
     "iopub.status.idle": "2021-11-13T03:00:13.102246Z",
     "shell.execute_reply": "2021-11-13T03:00:13.103607Z"
    },
    "papermill": {
     "duration": 1.929378,
     "end_time": "2021-11-13T03:00:13.104081",
     "exception": false,
     "start_time": "2021-11-13T03:00:11.174703",
     "status": "completed"
    },
    "tags": []
   },
   "outputs": [
    {
     "data": {
      "text/plain": [
       "<AxesSubplot:ylabel='PRODUCT'>"
      ]
     },
     "execution_count": 7,
     "metadata": {},
     "output_type": "execute_result"
    },
    {
     "data": {
      "image/png": "[encoded data removed]",
      "text/plain": [
       "<Figure size 432x288 with 1 Axes>"
      ]
     },
     "metadata": {
      "needs_background": "light"
     },
     "output_type": "display_data"
    }
   ],
   "source": [
    "df_pivot_diff.sort_values(\"stamp_2\", ascending = False)[\"stamp_2\"].head(10).plot.barh()"
   ]
  },
  {
   "cell_type": "code",
   "execution_count": null,
   "id": "extra-executive",
   "metadata": {
    "papermill": {
     "duration": 0.023138,
     "end_time": "2021-11-13T03:00:13.150879",
     "exception": false,
     "start_time": "2021-11-13T03:00:13.127741",
     "status": "completed"
    },
    "tags": []
   },
   "outputs": [],
   "source": []
  }
 ],
 "metadata": {
  "kernelspec": {
   "display_name": "Python 3",
   "language": "python",
   "name": "python3"
  },
  "language_info": {
   "codemirror_mode": {
    "name": "ipython",
    "version": 3
   },
   "file_extension": ".py",
   "mimetype": "text/x-python",
   "name": "python",
   "nbconvert_exporter": "python",
   "pygments_lexer": "ipython3",
   "version": "3.9.5"
  },
  "papermill": {
   "default_parameters": {},
   "duration": 8.913415,
   "end_time": "2021-11-13T03:00:13.999620",
   "environment_variables": {},
   "exception": null,
   "input_path": "eBay_Overview.ipynb",
   "output_path": "eBay_Overview.ipynb",
   "parameters": {},
   "start_time": "2021-11-13T03:00:05.086205",
   "version": "2.3.3"
  }
 },
 "nbformat": 4,
 "nbformat_minor": 5
}