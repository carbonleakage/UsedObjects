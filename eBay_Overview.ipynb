{
 "cells": [
  {
   "cell_type": "code",
   "execution_count": 1,
   "id": "reverse-picking",
   "metadata": {
    "execution": {
     "iopub.execute_input": "2021-12-03T15:00:07.910636Z",
     "iopub.status.busy": "2021-12-03T15:00:07.908322Z",
     "iopub.status.idle": "2021-12-03T15:00:08.853312Z",
     "shell.execute_reply": "2021-12-03T15:00:08.855003Z"
    },
    "papermill": {
     "duration": 0.994217,
     "end_time": "2021-12-03T15:00:08.855798",
     "exception": false,
     "start_time": "2021-12-03T15:00:07.861581",
     "status": "completed"
    },
    "tags": []
   },
   "outputs": [],
   "source": [
    "import pandas as pd\n",
    "import sqlite3"
   ]
  },
  {
   "cell_type": "code",
   "execution_count": 2,
   "id": "innovative-syndrome",
   "metadata": {
    "execution": {
     "iopub.execute_input": "2021-12-03T15:00:08.916275Z",
     "iopub.status.busy": "2021-12-03T15:00:08.914080Z",
     "iopub.status.idle": "2021-12-03T15:00:09.895386Z",
     "shell.execute_reply": "2021-12-03T15:00:09.897593Z"
    },
    "papermill": {
     "duration": 1.015507,
     "end_time": "2021-12-03T15:00:09.898083",
     "exception": false,
     "start_time": "2021-12-03T15:00:08.882576",
     "status": "completed"
    },
    "tags": []
   },
   "outputs": [],
   "source": [
    "timestamps = pd.read_sql(\"select distinct record_time from EBAY_TOP_BERLIN order by record_time desc limit 2\", sqlite3.connect(\"UsedObjects.db\"))"
   ]
  },
  {
   "cell_type": "code",
   "execution_count": 3,
   "id": "periodic-identification",
   "metadata": {
    "execution": {
     "iopub.execute_input": "2021-12-03T15:00:09.969745Z",
     "iopub.status.busy": "2021-12-03T15:00:09.967215Z",
     "iopub.status.idle": "2021-12-03T15:00:09.991374Z",
     "shell.execute_reply": "2021-12-03T15:00:09.992961Z"
    },
    "papermill": {
     "duration": 0.07525,
     "end_time": "2021-12-03T15:00:09.993466",
     "exception": false,
     "start_time": "2021-12-03T15:00:09.918216",
     "status": "completed"
    },
    "tags": []
   },
   "outputs": [
    {
     "data": {
      "text/html": [
       "<div>\n",
       "<style scoped>\n",
       "    .dataframe tbody tr th:only-of-type {\n",
       "        vertical-align: middle;\n",
       "    }\n",
       "\n",
       "    .dataframe tbody tr th {\n",
       "        vertical-align: top;\n",
       "    }\n",
       "\n",
       "    .dataframe thead th {\n",
       "        text-align: right;\n",
       "    }\n",
       "</style>\n",
       "<table border=\"1\" class=\"dataframe\">\n",
       "  <thead>\n",
       "    <tr style=\"text-align: right;\">\n",
       "      <th></th>\n",
       "      <th>RECORD_TIME</th>\n",
       "    </tr>\n",
       "  </thead>\n",
       "  <tbody>\n",
       "    <tr>\n",
       "      <th>0</th>\n",
       "      <td>2021-12-03 16:00</td>\n",
       "    </tr>\n",
       "    <tr>\n",
       "      <th>1</th>\n",
       "      <td>2021-12-03 15:30</td>\n",
       "    </tr>\n",
       "  </tbody>\n",
       "</table>\n",
       "</div>"
      ],
      "text/plain": [
       "        RECORD_TIME\n",
       "0  2021-12-03 16:00\n",
       "1  2021-12-03 15:30"
      ]
     },
     "execution_count": 3,
     "metadata": {},
     "output_type": "execute_result"
    }
   ],
   "source": [
    "timestamps"
   ]
  },
  {
   "cell_type": "code",
   "execution_count": 4,
   "id": "alternate-victory",
   "metadata": {
    "execution": {
     "iopub.execute_input": "2021-12-03T15:00:10.049435Z",
     "iopub.status.busy": "2021-12-03T15:00:10.047220Z",
     "iopub.status.idle": "2021-12-03T15:00:11.469824Z",
     "shell.execute_reply": "2021-12-03T15:00:11.471322Z"
    },
    "papermill": {
     "duration": 1.455813,
     "end_time": "2021-12-03T15:00:11.471799",
     "exception": false,
     "start_time": "2021-12-03T15:00:10.015986",
     "status": "completed"
    },
    "tags": []
   },
   "outputs": [],
   "source": [
    "df = pd.read_sql(\"select * from EBAY_TOP_BERLIN where record_time in (select distinct record_time from EBAY_TOP_BERLIN order by record_time desc limit 2)\", sqlite3.connect(\"UsedObjects.db\"))"
   ]
  },
  {
   "cell_type": "code",
   "execution_count": 5,
   "id": "popular-active",
   "metadata": {
    "execution": {
     "iopub.execute_input": "2021-12-03T15:00:11.542790Z",
     "iopub.status.busy": "2021-12-03T15:00:11.535523Z",
     "iopub.status.idle": "2021-12-03T15:00:11.568175Z",
     "shell.execute_reply": "2021-12-03T15:00:11.569607Z"
    },
    "papermill": {
     "duration": 0.07686,
     "end_time": "2021-12-03T15:00:11.570086",
     "exception": false,
     "start_time": "2021-12-03T15:00:11.493226",
     "status": "completed"
    },
    "tags": []
   },
   "outputs": [],
   "source": [
    "df_pivot = df.pivot_table(index=\"PRODUCT\", columns = \"RECORD_TIME\", values = \"LISTING_COUNT\")"
   ]
  },
  {
   "cell_type": "code",
   "execution_count": 6,
   "id": "union-huntington",
   "metadata": {
    "execution": {
     "iopub.execute_input": "2021-12-03T15:00:11.627567Z",
     "iopub.status.busy": "2021-12-03T15:00:11.625382Z",
     "iopub.status.idle": "2021-12-03T15:00:11.632636Z",
     "shell.execute_reply": "2021-12-03T15:00:11.631163Z"
    },
    "papermill": {
     "duration": 0.043203,
     "end_time": "2021-12-03T15:00:11.633110",
     "exception": false,
     "start_time": "2021-12-03T15:00:11.589907",
     "status": "completed"
    },
    "tags": []
   },
   "outputs": [],
   "source": [
    "df_pivot.columns = [\"stamp_1\", \"stamp_2\"]\n",
    "df_pivot_diff = df_pivot.diff(axis=1)"
   ]
  },
  {
   "cell_type": "code",
   "execution_count": 7,
   "id": "fifth-motion",
   "metadata": {
    "execution": {
     "iopub.execute_input": "2021-12-03T15:00:11.692419Z",
     "iopub.status.busy": "2021-12-03T15:00:11.688484Z",
     "iopub.status.idle": "2021-12-03T15:00:13.587661Z",
     "shell.execute_reply": "2021-12-03T15:00:13.590571Z"
    },
    "papermill": {
     "duration": 1.937981,
     "end_time": "2021-12-03T15:00:13.591338",
     "exception": false,
     "start_time": "2021-12-03T15:00:11.653357",
     "status": "completed"
    },
    "tags": []
   },
   "outputs": [
    {
     "data": {
      "text/plain": [
       "<AxesSubplot:ylabel='PRODUCT'>"
      ]
     },
     "execution_count": 7,
     "metadata": {},
     "output_type": "execute_result"
    },
    {
     "data": {
      "image/png": "[encoded data removed]",
      "text/plain": [
       "<Figure size 432x288 with 1 Axes>"
      ]
     },
     "metadata": {
      "needs_background": "light"
     },
     "output_type": "display_data"
    }
   ],
   "source": [
    "df_pivot_diff.sort_values(\"stamp_2\", ascending = False)[\"stamp_2\"].head(10).plot.barh()"
   ]
  },
  {
   "cell_type": "code",
   "execution_count": null,
   "id": "extra-executive",
   "metadata": {
    "papermill": {
     "duration": 0.037841,
     "end_time": "2021-12-03T15:00:13.663698",
     "exception": false,
     "start_time": "2021-12-03T15:00:13.625857",
     "status": "completed"
    },
    "tags": []
   },
   "outputs": [],
   "source": []
  }
 ],
 "metadata": {
  "kernelspec": {
   "display_name": "Python 3",
   "language": "python",
   "name": "python3"
  },
  "language_info": {
   "codemirror_mode": {
    "name": "ipython",
    "version": 3
   },
   "file_extension": ".py",
   "mimetype": "text/x-python",
   "name": "python",
   "nbconvert_exporter": "python",
   "pygments_lexer": "ipython3",
   "version": "3.9.5"
  },
  "papermill": {
   "default_parameters": {},
   "duration": 9.932477,
   "end_time": "2021-12-03T15:00:15.067247",
   "environment_variables": {},
   "exception": null,
   "input_path": "eBay_Overview.ipynb",
   "output_path": "eBay_Overview.ipynb",
   "parameters": {},
   "start_time": "2021-12-03T15:00:05.134770",
   "version": "2.3.3"
  }
 },
 "nbformat": 4,
 "nbformat_minor": 5
}