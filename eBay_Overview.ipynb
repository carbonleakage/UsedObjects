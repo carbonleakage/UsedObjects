{
 "cells": [
  {
   "cell_type": "code",
   "execution_count": 1,
   "id": "reverse-picking",
   "metadata": {
    "execution": {
     "iopub.execute_input": "2021-09-04T15:00:06.668821Z",
     "iopub.status.busy": "2021-09-04T15:00:06.666845Z",
     "iopub.status.idle": "2021-09-04T15:00:07.471147Z",
     "shell.execute_reply": "2021-09-04T15:00:07.472432Z"
    },
    "papermill": {
     "duration": 0.854959,
     "end_time": "2021-09-04T15:00:07.473066",
     "exception": false,
     "start_time": "2021-09-04T15:00:06.618107",
     "status": "completed"
    },
    "tags": []
   },
   "outputs": [],
   "source": [
    "import pandas as pd\n",
    "import sqlite3"
   ]
  },
  {
   "cell_type": "code",
   "execution_count": 2,
   "id": "innovative-syndrome",
   "metadata": {
    "execution": {
     "iopub.execute_input": "2021-09-04T15:00:07.524265Z",
     "iopub.status.busy": "2021-09-04T15:00:07.522290Z",
     "iopub.status.idle": "2021-09-04T15:00:07.731676Z",
     "shell.execute_reply": "2021-09-04T15:00:07.732938Z"
    },
    "papermill": {
     "duration": 0.238627,
     "end_time": "2021-09-04T15:00:07.733329",
     "exception": false,
     "start_time": "2021-09-04T15:00:07.494702",
     "status": "completed"
    },
    "tags": []
   },
   "outputs": [],
   "source": [
    "timestamps = pd.read_sql(\"select distinct record_time from EBAY_TOP_BERLIN order by record_time desc limit 2\", sqlite3.connect(\"UsedObjects.db\"))"
   ]
  },
  {
   "cell_type": "code",
   "execution_count": 3,
   "id": "periodic-identification",
   "metadata": {
    "execution": {
     "iopub.execute_input": "2021-09-04T15:00:07.797831Z",
     "iopub.status.busy": "2021-09-04T15:00:07.795630Z",
     "iopub.status.idle": "2021-09-04T15:00:07.815900Z",
     "shell.execute_reply": "2021-09-04T15:00:07.817169Z"
    },
    "papermill": {
     "duration": 0.064907,
     "end_time": "2021-09-04T15:00:07.817566",
     "exception": false,
     "start_time": "2021-09-04T15:00:07.752659",
     "status": "completed"
    },
    "tags": []
   },
   "outputs": [
    {
     "data": {
      "text/html": [
       "<div>\n",
       "<style scoped>\n",
       "    .dataframe tbody tr th:only-of-type {\n",
       "        vertical-align: middle;\n",
       "    }\n",
       "\n",
       "    .dataframe tbody tr th {\n",
       "        vertical-align: top;\n",
       "    }\n",
       "\n",
       "    .dataframe thead th {\n",
       "        text-align: right;\n",
       "    }\n",
       "</style>\n",
       "<table border=\"1\" class=\"dataframe\">\n",
       "  <thead>\n",
       "    <tr style=\"text-align: right;\">\n",
       "      <th></th>\n",
       "      <th>RECORD_TIME</th>\n",
       "    </tr>\n",
       "  </thead>\n",
       "  <tbody>\n",
       "    <tr>\n",
       "      <th>0</th>\n",
       "      <td>2021-09-04 17:00</td>\n",
       "    </tr>\n",
       "    <tr>\n",
       "      <th>1</th>\n",
       "      <td>2021-09-04 16:30</td>\n",
       "    </tr>\n",
       "  </tbody>\n",
       "</table>\n",
       "</div>"
      ],
      "text/plain": [
       "        RECORD_TIME\n",
       "0  2021-09-04 17:00\n",
       "1  2021-09-04 16:30"
      ]
     },
     "execution_count": 3,
     "metadata": {},
     "output_type": "execute_result"
    }
   ],
   "source": [
    "timestamps"
   ]
  },
  {
   "cell_type": "code",
   "execution_count": 4,
   "id": "alternate-victory",
   "metadata": {
    "execution": {
     "iopub.execute_input": "2021-09-04T15:00:07.870372Z",
     "iopub.status.busy": "2021-09-04T15:00:07.868100Z",
     "iopub.status.idle": "2021-09-04T15:00:08.172240Z",
     "shell.execute_reply": "2021-09-04T15:00:08.173466Z"
    },
    "papermill": {
     "duration": 0.334412,
     "end_time": "2021-09-04T15:00:08.173863",
     "exception": false,
     "start_time": "2021-09-04T15:00:07.839451",
     "status": "completed"
    },
    "tags": []
   },
   "outputs": [],
   "source": [
    "df = pd.read_sql(\"select * from EBAY_TOP_BERLIN where record_time in (select distinct record_time from EBAY_TOP_BERLIN order by record_time desc limit 2)\", sqlite3.connect(\"UsedObjects.db\"))"
   ]
  },
  {
   "cell_type": "code",
   "execution_count": 5,
   "id": "popular-active",
   "metadata": {
    "execution": {
     "iopub.execute_input": "2021-09-04T15:00:08.255286Z",
     "iopub.status.busy": "2021-09-04T15:00:08.243616Z",
     "iopub.status.idle": "2021-09-04T15:00:08.271011Z",
     "shell.execute_reply": "2021-09-04T15:00:08.272253Z"
    },
    "papermill": {
     "duration": 0.069953,
     "end_time": "2021-09-04T15:00:08.272649",
     "exception": false,
     "start_time": "2021-09-04T15:00:08.202696",
     "status": "completed"
    },
    "tags": []
   },
   "outputs": [],
   "source": [
    "df_pivot = df.pivot_table(index=\"PRODUCT\", columns = \"RECORD_TIME\", values = \"LISTING_COUNT\")"
   ]
  },
  {
   "cell_type": "code",
   "execution_count": 6,
   "id": "union-huntington",
   "metadata": {
    "execution": {
     "iopub.execute_input": "2021-09-04T15:00:08.329197Z",
     "iopub.status.busy": "2021-09-04T15:00:08.327029Z",
     "iopub.status.idle": "2021-09-04T15:00:08.332684Z",
     "shell.execute_reply": "2021-09-04T15:00:08.333938Z"
    },
    "papermill": {
     "duration": 0.041094,
     "end_time": "2021-09-04T15:00:08.334390",
     "exception": false,
     "start_time": "2021-09-04T15:00:08.293296",
     "status": "completed"
    },
    "tags": []
   },
   "outputs": [],
   "source": [
    "df_pivot.columns = [\"stamp_1\", \"stamp_2\"]\n",
    "df_pivot_diff = df_pivot.diff(axis=1)"
   ]
  },
  {
   "cell_type": "code",
   "execution_count": 7,
   "id": "fifth-motion",
   "metadata": {
    "execution": {
     "iopub.execute_input": "2021-09-04T15:00:08.391568Z",
     "iopub.status.busy": "2021-09-04T15:00:08.388888Z",
     "iopub.status.idle": "2021-09-04T15:00:09.899630Z",
     "shell.execute_reply": "2021-09-04T15:00:09.900920Z"
    },
    "papermill": {
     "duration": 1.544165,
     "end_time": "2021-09-04T15:00:09.901334",
     "exception": false,
     "start_time": "2021-09-04T15:00:08.357169",
     "status": "completed"
    },
    "tags": []
   },
   "outputs": [
    {
     "data": {
      "text/plain": [
       "<AxesSubplot:ylabel='PRODUCT'>"
      ]
     },
     "execution_count": 7,
     "metadata": {},
     "output_type": "execute_result"
    },
    {
     "data": {
      "image/png": "[encoded data removed]",
      "text/plain": [
       "<Figure size 432x288 with 1 Axes>"
      ]
     },
     "metadata": {
      "needs_background": "light"
     },
     "output_type": "display_data"
    }
   ],
   "source": [
    "df_pivot_diff.sort_values(\"stamp_2\", ascending = False)[\"stamp_2\"].head(10).plot.barh()"
   ]
  },
  {
   "cell_type": "code",
   "execution_count": null,
   "id": "extra-executive",
   "metadata": {
    "papermill": {
     "duration": 0.022065,
     "end_time": "2021-09-04T15:00:09.947986",
     "exception": false,
     "start_time": "2021-09-04T15:00:09.925921",
     "status": "completed"
    },
    "tags": []
   },
   "outputs": [],
   "source": []
  }
 ],
 "metadata": {
  "kernelspec": {
   "display_name": "Python 3",
   "language": "python",
   "name": "python3"
  },
  "language_info": {
   "codemirror_mode": {
    "name": "ipython",
    "version": 3
   },
   "file_extension": ".py",
   "mimetype": "text/x-python",
   "name": "python",
   "nbconvert_exporter": "python",
   "pygments_lexer": "ipython3",
   "version": "3.9.5"
  },
  "papermill": {
   "default_parameters": {},
   "duration": 6.375384,
   "end_time": "2021-09-04T15:00:10.589860",
   "environment_variables": {},
   "exception": null,
   "input_path": "eBay_Overview.ipynb",
   "output_path": "eBay_Overview.ipynb",
   "parameters": {},
   "start_time": "2021-09-04T15:00:04.214476",
   "version": "2.3.3"
  }
 },
 "nbformat": 4,
 "nbformat_minor": 5
}