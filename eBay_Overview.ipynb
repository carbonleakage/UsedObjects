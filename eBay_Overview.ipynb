{
 "cells": [
  {
   "cell_type": "code",
   "execution_count": 1,
   "id": "reverse-picking",
   "metadata": {
    "execution": {
     "iopub.execute_input": "2021-12-11T12:00:08.062672Z",
     "iopub.status.busy": "2021-12-11T12:00:08.060295Z",
     "iopub.status.idle": "2021-12-11T12:00:09.018425Z",
     "shell.execute_reply": "2021-12-11T12:00:09.019825Z"
    },
    "papermill": {
     "duration": 1.007615,
     "end_time": "2021-12-11T12:00:09.020546",
     "exception": false,
     "start_time": "2021-12-11T12:00:08.012931",
     "status": "completed"
    },
    "tags": []
   },
   "outputs": [],
   "source": [
    "import pandas as pd\n",
    "import sqlite3"
   ]
  },
  {
   "cell_type": "code",
   "execution_count": 2,
   "id": "innovative-syndrome",
   "metadata": {
    "execution": {
     "iopub.execute_input": "2021-12-11T12:00:09.085690Z",
     "iopub.status.busy": "2021-12-11T12:00:09.083287Z",
     "iopub.status.idle": "2021-12-11T12:00:10.133379Z",
     "shell.execute_reply": "2021-12-11T12:00:10.134932Z"
    },
    "papermill": {
     "duration": 1.084864,
     "end_time": "2021-12-11T12:00:10.135427",
     "exception": false,
     "start_time": "2021-12-11T12:00:09.050563",
     "status": "completed"
    },
    "tags": []
   },
   "outputs": [],
   "source": [
    "timestamps = pd.read_sql(\"select distinct record_time from EBAY_TOP_BERLIN order by record_time desc limit 2\", sqlite3.connect(\"UsedObjects.db\"))"
   ]
  },
  {
   "cell_type": "code",
   "execution_count": 3,
   "id": "periodic-identification",
   "metadata": {
    "execution": {
     "iopub.execute_input": "2021-12-11T12:00:10.208080Z",
     "iopub.status.busy": "2021-12-11T12:00:10.205626Z",
     "iopub.status.idle": "2021-12-11T12:00:10.227437Z",
     "shell.execute_reply": "2021-12-11T12:00:10.228890Z"
    },
    "papermill": {
     "duration": 0.071987,
     "end_time": "2021-12-11T12:00:10.229373",
     "exception": false,
     "start_time": "2021-12-11T12:00:10.157386",
     "status": "completed"
    },
    "tags": []
   },
   "outputs": [
    {
     "data": {
      "text/html": [
       "<div>\n",
       "<style scoped>\n",
       "    .dataframe tbody tr th:only-of-type {\n",
       "        vertical-align: middle;\n",
       "    }\n",
       "\n",
       "    .dataframe tbody tr th {\n",
       "        vertical-align: top;\n",
       "    }\n",
       "\n",
       "    .dataframe thead th {\n",
       "        text-align: right;\n",
       "    }\n",
       "</style>\n",
       "<table border=\"1\" class=\"dataframe\">\n",
       "  <thead>\n",
       "    <tr style=\"text-align: right;\">\n",
       "      <th></th>\n",
       "      <th>RECORD_TIME</th>\n",
       "    </tr>\n",
       "  </thead>\n",
       "  <tbody>\n",
       "    <tr>\n",
       "      <th>0</th>\n",
       "      <td>2021-12-11 13:00</td>\n",
       "    </tr>\n",
       "    <tr>\n",
       "      <th>1</th>\n",
       "      <td>2021-12-11 12:30</td>\n",
       "    </tr>\n",
       "  </tbody>\n",
       "</table>\n",
       "</div>"
      ],
      "text/plain": [
       "        RECORD_TIME\n",
       "0  2021-12-11 13:00\n",
       "1  2021-12-11 12:30"
      ]
     },
     "execution_count": 3,
     "metadata": {},
     "output_type": "execute_result"
    }
   ],
   "source": [
    "timestamps"
   ]
  },
  {
   "cell_type": "code",
   "execution_count": 4,
   "id": "alternate-victory",
   "metadata": {
    "execution": {
     "iopub.execute_input": "2021-12-11T12:00:10.282977Z",
     "iopub.status.busy": "2021-12-11T12:00:10.280922Z",
     "iopub.status.idle": "2021-12-11T12:00:11.800431Z",
     "shell.execute_reply": "2021-12-11T12:00:11.801894Z"
    },
    "papermill": {
     "duration": 1.552385,
     "end_time": "2021-12-11T12:00:11.802381",
     "exception": false,
     "start_time": "2021-12-11T12:00:10.249996",
     "status": "completed"
    },
    "tags": []
   },
   "outputs": [],
   "source": [
    "df = pd.read_sql(\"select * from EBAY_TOP_BERLIN where record_time in (select distinct record_time from EBAY_TOP_BERLIN order by record_time desc limit 2)\", sqlite3.connect(\"UsedObjects.db\"))"
   ]
  },
  {
   "cell_type": "code",
   "execution_count": 5,
   "id": "popular-active",
   "metadata": {
    "execution": {
     "iopub.execute_input": "2021-12-11T12:00:11.882333Z",
     "iopub.status.busy": "2021-12-11T12:00:11.864270Z",
     "iopub.status.idle": "2021-12-11T12:00:11.915114Z",
     "shell.execute_reply": "2021-12-11T12:00:11.917996Z"
    },
    "papermill": {
     "duration": 0.096022,
     "end_time": "2021-12-11T12:00:11.918859",
     "exception": false,
     "start_time": "2021-12-11T12:00:11.822837",
     "status": "completed"
    },
    "tags": []
   },
   "outputs": [],
   "source": [
    "df_pivot = df.pivot_table(index=\"PRODUCT\", columns = \"RECORD_TIME\", values = \"LISTING_COUNT\")"
   ]
  },
  {
   "cell_type": "code",
   "execution_count": 6,
   "id": "union-huntington",
   "metadata": {
    "execution": {
     "iopub.execute_input": "2021-12-11T12:00:11.994999Z",
     "iopub.status.busy": "2021-12-11T12:00:11.992649Z",
     "iopub.status.idle": "2021-12-11T12:00:11.998732Z",
     "shell.execute_reply": "2021-12-11T12:00:12.000359Z"
    },
    "papermill": {
     "duration": 0.050627,
     "end_time": "2021-12-11T12:00:12.000953",
     "exception": false,
     "start_time": "2021-12-11T12:00:11.950326",
     "status": "completed"
    },
    "tags": []
   },
   "outputs": [],
   "source": [
    "df_pivot.columns = [\"stamp_1\", \"stamp_2\"]\n",
    "df_pivot_diff = df_pivot.diff(axis=1)"
   ]
  },
  {
   "cell_type": "code",
   "execution_count": 7,
   "id": "fifth-motion",
   "metadata": {
    "execution": {
     "iopub.execute_input": "2021-12-11T12:00:12.060105Z",
     "iopub.status.busy": "2021-12-11T12:00:12.057746Z",
     "iopub.status.idle": "2021-12-11T12:00:13.859276Z",
     "shell.execute_reply": "2021-12-11T12:00:13.861864Z"
    },
    "papermill": {
     "duration": 1.840075,
     "end_time": "2021-12-11T12:00:13.862456",
     "exception": false,
     "start_time": "2021-12-11T12:00:12.022381",
     "status": "completed"
    },
    "tags": []
   },
   "outputs": [
    {
     "data": {
      "text/plain": [
       "<AxesSubplot:ylabel='PRODUCT'>"
      ]
     },
     "execution_count": 7,
     "metadata": {},
     "output_type": "execute_result"
    },
    {
     "data": {
      "image/png": "[encoded data removed]",
      "text/plain": [
       "<Figure size 432x288 with 1 Axes>"
      ]
     },
     "metadata": {
      "needs_background": "light"
     },
     "output_type": "display_data"
    }
   ],
   "source": [
    "df_pivot_diff.sort_values(\"stamp_2\", ascending = False)[\"stamp_2\"].head(10).plot.barh()"
   ]
  },
  {
   "cell_type": "code",
   "execution_count": null,
   "id": "extra-executive",
   "metadata": {
    "papermill": {
     "duration": 0.036749,
     "end_time": "2021-12-11T12:00:13.928154",
     "exception": false,
     "start_time": "2021-12-11T12:00:13.891405",
     "status": "completed"
    },
    "tags": []
   },
   "outputs": [],
   "source": []
  }
 ],
 "metadata": {
  "kernelspec": {
   "display_name": "Python 3",
   "language": "python",
   "name": "python3"
  },
  "language_info": {
   "codemirror_mode": {
    "name": "ipython",
    "version": 3
   },
   "file_extension": ".py",
   "mimetype": "text/x-python",
   "name": "python",
   "nbconvert_exporter": "python",
   "pygments_lexer": "ipython3",
   "version": "3.9.5"
  },
  "papermill": {
   "default_parameters": {},
   "duration": 10.01888,
   "end_time": "2021-12-11T12:00:15.208038",
   "environment_variables": {},
   "exception": null,
   "input_path": "eBay_Overview.ipynb",
   "output_path": "eBay_Overview.ipynb",
   "parameters": {},
   "start_time": "2021-12-11T12:00:05.189158",
   "version": "2.3.3"
  }
 },
 "nbformat": 4,
 "nbformat_minor": 5
}