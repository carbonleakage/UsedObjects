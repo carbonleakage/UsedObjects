{
 "cells": [
  {
   "cell_type": "code",
   "execution_count": 1,
   "id": "reverse-picking",
   "metadata": {
    "execution": {
     "iopub.execute_input": "2021-10-01T21:30:07.266344Z",
     "iopub.status.busy": "2021-10-01T21:30:07.264407Z",
     "iopub.status.idle": "2021-10-01T21:30:08.069487Z",
     "shell.execute_reply": "2021-10-01T21:30:08.071039Z"
    },
    "papermill": {
     "duration": 0.857778,
     "end_time": "2021-10-01T21:30:08.071704",
     "exception": false,
     "start_time": "2021-10-01T21:30:07.213926",
     "status": "completed"
    },
    "tags": []
   },
   "outputs": [],
   "source": [
    "import pandas as pd\n",
    "import sqlite3"
   ]
  },
  {
   "cell_type": "code",
   "execution_count": 2,
   "id": "innovative-syndrome",
   "metadata": {
    "execution": {
     "iopub.execute_input": "2021-10-01T21:30:08.122970Z",
     "iopub.status.busy": "2021-10-01T21:30:08.120873Z",
     "iopub.status.idle": "2021-10-01T21:30:08.547634Z",
     "shell.execute_reply": "2021-10-01T21:30:08.549019Z"
    },
    "papermill": {
     "duration": 0.45742,
     "end_time": "2021-10-01T21:30:08.549457",
     "exception": false,
     "start_time": "2021-10-01T21:30:08.092037",
     "status": "completed"
    },
    "tags": []
   },
   "outputs": [],
   "source": [
    "timestamps = pd.read_sql(\"select distinct record_time from EBAY_TOP_BERLIN order by record_time desc limit 2\", sqlite3.connect(\"UsedObjects.db\"))"
   ]
  },
  {
   "cell_type": "code",
   "execution_count": 3,
   "id": "periodic-identification",
   "metadata": {
    "execution": {
     "iopub.execute_input": "2021-10-01T21:30:08.615759Z",
     "iopub.status.busy": "2021-10-01T21:30:08.613671Z",
     "iopub.status.idle": "2021-10-01T21:30:08.634938Z",
     "shell.execute_reply": "2021-10-01T21:30:08.636474Z"
    },
    "papermill": {
     "duration": 0.067682,
     "end_time": "2021-10-01T21:30:08.636935",
     "exception": false,
     "start_time": "2021-10-01T21:30:08.569253",
     "status": "completed"
    },
    "tags": []
   },
   "outputs": [
    {
     "data": {
      "text/html": [
       "<div>\n",
       "<style scoped>\n",
       "    .dataframe tbody tr th:only-of-type {\n",
       "        vertical-align: middle;\n",
       "    }\n",
       "\n",
       "    .dataframe tbody tr th {\n",
       "        vertical-align: top;\n",
       "    }\n",
       "\n",
       "    .dataframe thead th {\n",
       "        text-align: right;\n",
       "    }\n",
       "</style>\n",
       "<table border=\"1\" class=\"dataframe\">\n",
       "  <thead>\n",
       "    <tr style=\"text-align: right;\">\n",
       "      <th></th>\n",
       "      <th>RECORD_TIME</th>\n",
       "    </tr>\n",
       "  </thead>\n",
       "  <tbody>\n",
       "    <tr>\n",
       "      <th>0</th>\n",
       "      <td>2021-10-01 23:30</td>\n",
       "    </tr>\n",
       "    <tr>\n",
       "      <th>1</th>\n",
       "      <td>2021-10-01 23:00</td>\n",
       "    </tr>\n",
       "  </tbody>\n",
       "</table>\n",
       "</div>"
      ],
      "text/plain": [
       "        RECORD_TIME\n",
       "0  2021-10-01 23:30\n",
       "1  2021-10-01 23:00"
      ]
     },
     "execution_count": 3,
     "metadata": {},
     "output_type": "execute_result"
    }
   ],
   "source": [
    "timestamps"
   ]
  },
  {
   "cell_type": "code",
   "execution_count": 4,
   "id": "alternate-victory",
   "metadata": {
    "execution": {
     "iopub.execute_input": "2021-10-01T21:30:08.710646Z",
     "iopub.status.busy": "2021-10-01T21:30:08.708735Z",
     "iopub.status.idle": "2021-10-01T21:30:09.330583Z",
     "shell.execute_reply": "2021-10-01T21:30:09.331946Z"
    },
    "papermill": {
     "duration": 0.658672,
     "end_time": "2021-10-01T21:30:09.332370",
     "exception": false,
     "start_time": "2021-10-01T21:30:08.673698",
     "status": "completed"
    },
    "tags": []
   },
   "outputs": [],
   "source": [
    "df = pd.read_sql(\"select * from EBAY_TOP_BERLIN where record_time in (select distinct record_time from EBAY_TOP_BERLIN order by record_time desc limit 2)\", sqlite3.connect(\"UsedObjects.db\"))"
   ]
  },
  {
   "cell_type": "code",
   "execution_count": 5,
   "id": "popular-active",
   "metadata": {
    "execution": {
     "iopub.execute_input": "2021-10-01T21:30:09.403587Z",
     "iopub.status.busy": "2021-10-01T21:30:09.391080Z",
     "iopub.status.idle": "2021-10-01T21:30:09.420325Z",
     "shell.execute_reply": "2021-10-01T21:30:09.421711Z"
    },
    "papermill": {
     "duration": 0.068125,
     "end_time": "2021-10-01T21:30:09.422149",
     "exception": false,
     "start_time": "2021-10-01T21:30:09.354024",
     "status": "completed"
    },
    "tags": []
   },
   "outputs": [],
   "source": [
    "df_pivot = df.pivot_table(index=\"PRODUCT\", columns = \"RECORD_TIME\", values = \"LISTING_COUNT\")"
   ]
  },
  {
   "cell_type": "code",
   "execution_count": 6,
   "id": "union-huntington",
   "metadata": {
    "execution": {
     "iopub.execute_input": "2021-10-01T21:30:09.478642Z",
     "iopub.status.busy": "2021-10-01T21:30:09.476586Z",
     "iopub.status.idle": "2021-10-01T21:30:09.481924Z",
     "shell.execute_reply": "2021-10-01T21:30:09.483200Z"
    },
    "papermill": {
     "duration": 0.041197,
     "end_time": "2021-10-01T21:30:09.483640",
     "exception": false,
     "start_time": "2021-10-01T21:30:09.442443",
     "status": "completed"
    },
    "tags": []
   },
   "outputs": [],
   "source": [
    "df_pivot.columns = [\"stamp_1\", \"stamp_2\"]\n",
    "df_pivot_diff = df_pivot.diff(axis=1)"
   ]
  },
  {
   "cell_type": "code",
   "execution_count": 7,
   "id": "fifth-motion",
   "metadata": {
    "execution": {
     "iopub.execute_input": "2021-10-01T21:30:09.537520Z",
     "iopub.status.busy": "2021-10-01T21:30:09.535155Z",
     "iopub.status.idle": "2021-10-01T21:30:11.031516Z",
     "shell.execute_reply": "2021-10-01T21:30:11.032834Z"
    },
    "papermill": {
     "duration": 1.529063,
     "end_time": "2021-10-01T21:30:11.033253",
     "exception": false,
     "start_time": "2021-10-01T21:30:09.504190",
     "status": "completed"
    },
    "tags": []
   },
   "outputs": [
    {
     "data": {
      "text/plain": [
       "<AxesSubplot:ylabel='PRODUCT'>"
      ]
     },
     "execution_count": 7,
     "metadata": {},
     "output_type": "execute_result"
    },
    {
     "data": {
      "image/png": "[encoded data removed]",
      "text/plain": [
       "<Figure size 432x288 with 1 Axes>"
      ]
     },
     "metadata": {
      "needs_background": "light"
     },
     "output_type": "display_data"
    }
   ],
   "source": [
    "df_pivot_diff.sort_values(\"stamp_2\", ascending = False)[\"stamp_2\"].head(10).plot.barh()"
   ]
  },
  {
   "cell_type": "code",
   "execution_count": null,
   "id": "extra-executive",
   "metadata": {
    "papermill": {
     "duration": 0.022319,
     "end_time": "2021-10-01T21:30:11.079630",
     "exception": false,
     "start_time": "2021-10-01T21:30:11.057311",
     "status": "completed"
    },
    "tags": []
   },
   "outputs": [],
   "source": []
  }
 ],
 "metadata": {
  "kernelspec": {
   "display_name": "Python 3",
   "language": "python",
   "name": "python3"
  },
  "language_info": {
   "codemirror_mode": {
    "name": "ipython",
    "version": 3
   },
   "file_extension": ".py",
   "mimetype": "text/x-python",
   "name": "python",
   "nbconvert_exporter": "python",
   "pygments_lexer": "ipython3",
   "version": "3.9.5"
  },
  "papermill": {
   "default_parameters": {},
   "duration": 7.82328,
   "end_time": "2021-10-01T21:30:12.626485",
   "environment_variables": {},
   "exception": null,
   "input_path": "eBay_Overview.ipynb",
   "output_path": "eBay_Overview.ipynb",
   "parameters": {},
   "start_time": "2021-10-01T21:30:04.803205",
   "version": "2.3.3"
  }
 },
 "nbformat": 4,
 "nbformat_minor": 5
}