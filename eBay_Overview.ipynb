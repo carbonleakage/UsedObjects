{
 "cells": [
  {
   "cell_type": "code",
   "execution_count": 1,
   "id": "reverse-picking",
   "metadata": {
    "execution": {
     "iopub.execute_input": "2021-09-13T15:00:06.560740Z",
     "iopub.status.busy": "2021-09-13T15:00:06.558760Z",
     "iopub.status.idle": "2021-09-13T15:00:07.362506Z",
     "shell.execute_reply": "2021-09-13T15:00:07.364024Z"
    },
    "papermill": {
     "duration": 0.85607,
     "end_time": "2021-09-13T15:00:07.364710",
     "exception": false,
     "start_time": "2021-09-13T15:00:06.508640",
     "status": "completed"
    },
    "tags": []
   },
   "outputs": [],
   "source": [
    "import pandas as pd\n",
    "import sqlite3"
   ]
  },
  {
   "cell_type": "code",
   "execution_count": 2,
   "id": "innovative-syndrome",
   "metadata": {
    "execution": {
     "iopub.execute_input": "2021-09-13T15:00:07.415215Z",
     "iopub.status.busy": "2021-09-13T15:00:07.413172Z",
     "iopub.status.idle": "2021-09-13T15:00:07.695806Z",
     "shell.execute_reply": "2021-09-13T15:00:07.697023Z"
    },
    "papermill": {
     "duration": 0.312533,
     "end_time": "2021-09-13T15:00:07.697420",
     "exception": false,
     "start_time": "2021-09-13T15:00:07.384887",
     "status": "completed"
    },
    "tags": []
   },
   "outputs": [],
   "source": [
    "timestamps = pd.read_sql(\"select distinct record_time from EBAY_TOP_BERLIN order by record_time desc limit 2\", sqlite3.connect(\"UsedObjects.db\"))"
   ]
  },
  {
   "cell_type": "code",
   "execution_count": 3,
   "id": "periodic-identification",
   "metadata": {
    "execution": {
     "iopub.execute_input": "2021-09-13T15:00:07.764206Z",
     "iopub.status.busy": "2021-09-13T15:00:07.762124Z",
     "iopub.status.idle": "2021-09-13T15:00:07.782016Z",
     "shell.execute_reply": "2021-09-13T15:00:07.783529Z"
    },
    "papermill": {
     "duration": 0.067313,
     "end_time": "2021-09-13T15:00:07.783969",
     "exception": false,
     "start_time": "2021-09-13T15:00:07.716656",
     "status": "completed"
    },
    "tags": []
   },
   "outputs": [
    {
     "data": {
      "text/html": [
       "<div>\n",
       "<style scoped>\n",
       "    .dataframe tbody tr th:only-of-type {\n",
       "        vertical-align: middle;\n",
       "    }\n",
       "\n",
       "    .dataframe tbody tr th {\n",
       "        vertical-align: top;\n",
       "    }\n",
       "\n",
       "    .dataframe thead th {\n",
       "        text-align: right;\n",
       "    }\n",
       "</style>\n",
       "<table border=\"1\" class=\"dataframe\">\n",
       "  <thead>\n",
       "    <tr style=\"text-align: right;\">\n",
       "      <th></th>\n",
       "      <th>RECORD_TIME</th>\n",
       "    </tr>\n",
       "  </thead>\n",
       "  <tbody>\n",
       "    <tr>\n",
       "      <th>0</th>\n",
       "      <td>2021-09-13 17:00</td>\n",
       "    </tr>\n",
       "    <tr>\n",
       "      <th>1</th>\n",
       "      <td>2021-09-13 16:30</td>\n",
       "    </tr>\n",
       "  </tbody>\n",
       "</table>\n",
       "</div>"
      ],
      "text/plain": [
       "        RECORD_TIME\n",
       "0  2021-09-13 17:00\n",
       "1  2021-09-13 16:30"
      ]
     },
     "execution_count": 3,
     "metadata": {},
     "output_type": "execute_result"
    }
   ],
   "source": [
    "timestamps"
   ]
  },
  {
   "cell_type": "code",
   "execution_count": 4,
   "id": "alternate-victory",
   "metadata": {
    "execution": {
     "iopub.execute_input": "2021-09-13T15:00:07.836634Z",
     "iopub.status.busy": "2021-09-13T15:00:07.833254Z",
     "iopub.status.idle": "2021-09-13T15:00:08.271157Z",
     "shell.execute_reply": "2021-09-13T15:00:08.272539Z"
    },
    "papermill": {
     "duration": 0.468332,
     "end_time": "2021-09-13T15:00:08.272957",
     "exception": false,
     "start_time": "2021-09-13T15:00:07.804625",
     "status": "completed"
    },
    "tags": []
   },
   "outputs": [],
   "source": [
    "df = pd.read_sql(\"select * from EBAY_TOP_BERLIN where record_time in (select distinct record_time from EBAY_TOP_BERLIN order by record_time desc limit 2)\", sqlite3.connect(\"UsedObjects.db\"))"
   ]
  },
  {
   "cell_type": "code",
   "execution_count": 5,
   "id": "popular-active",
   "metadata": {
    "execution": {
     "iopub.execute_input": "2021-09-13T15:00:08.348044Z",
     "iopub.status.busy": "2021-09-13T15:00:08.340611Z",
     "iopub.status.idle": "2021-09-13T15:00:08.368294Z",
     "shell.execute_reply": "2021-09-13T15:00:08.369576Z"
    },
    "papermill": {
     "duration": 0.071091,
     "end_time": "2021-09-13T15:00:08.369993",
     "exception": false,
     "start_time": "2021-09-13T15:00:08.298902",
     "status": "completed"
    },
    "tags": []
   },
   "outputs": [],
   "source": [
    "df_pivot = df.pivot_table(index=\"PRODUCT\", columns = \"RECORD_TIME\", values = \"LISTING_COUNT\")"
   ]
  },
  {
   "cell_type": "code",
   "execution_count": 6,
   "id": "union-huntington",
   "metadata": {
    "execution": {
     "iopub.execute_input": "2021-09-13T15:00:08.426986Z",
     "iopub.status.busy": "2021-09-13T15:00:08.424543Z",
     "iopub.status.idle": "2021-09-13T15:00:08.430467Z",
     "shell.execute_reply": "2021-09-13T15:00:08.431833Z"
    },
    "papermill": {
     "duration": 0.042494,
     "end_time": "2021-09-13T15:00:08.432296",
     "exception": false,
     "start_time": "2021-09-13T15:00:08.389802",
     "status": "completed"
    },
    "tags": []
   },
   "outputs": [],
   "source": [
    "df_pivot.columns = [\"stamp_1\", \"stamp_2\"]\n",
    "df_pivot_diff = df_pivot.diff(axis=1)"
   ]
  },
  {
   "cell_type": "code",
   "execution_count": 7,
   "id": "fifth-motion",
   "metadata": {
    "execution": {
     "iopub.execute_input": "2021-09-13T15:00:08.486119Z",
     "iopub.status.busy": "2021-09-13T15:00:08.483943Z",
     "iopub.status.idle": "2021-09-13T15:00:09.987926Z",
     "shell.execute_reply": "2021-09-13T15:00:09.989211Z"
    },
    "papermill": {
     "duration": 1.536216,
     "end_time": "2021-09-13T15:00:09.989625",
     "exception": false,
     "start_time": "2021-09-13T15:00:08.453409",
     "status": "completed"
    },
    "tags": []
   },
   "outputs": [
    {
     "data": {
      "text/plain": [
       "<AxesSubplot:ylabel='PRODUCT'>"
      ]
     },
     "execution_count": 7,
     "metadata": {},
     "output_type": "execute_result"
    },
    {
     "data": {
      "image/png": "[encoded data removed]",
      "text/plain": [
       "<Figure size 432x288 with 1 Axes>"
      ]
     },
     "metadata": {
      "needs_background": "light"
     },
     "output_type": "display_data"
    }
   ],
   "source": [
    "df_pivot_diff.sort_values(\"stamp_2\", ascending = False)[\"stamp_2\"].head(10).plot.barh()"
   ]
  },
  {
   "cell_type": "code",
   "execution_count": null,
   "id": "extra-executive",
   "metadata": {
    "papermill": {
     "duration": 0.021893,
     "end_time": "2021-09-13T15:00:10.035295",
     "exception": false,
     "start_time": "2021-09-13T15:00:10.013402",
     "status": "completed"
    },
    "tags": []
   },
   "outputs": [],
   "source": []
  }
 ],
 "metadata": {
  "kernelspec": {
   "display_name": "Python 3",
   "language": "python",
   "name": "python3"
  },
  "language_info": {
   "codemirror_mode": {
    "name": "ipython",
    "version": 3
   },
   "file_extension": ".py",
   "mimetype": "text/x-python",
   "name": "python",
   "nbconvert_exporter": "python",
   "pygments_lexer": "ipython3",
   "version": "3.9.5"
  },
  "papermill": {
   "default_parameters": {},
   "duration": 6.573622,
   "end_time": "2021-09-13T15:00:10.677854",
   "environment_variables": {},
   "exception": null,
   "input_path": "eBay_Overview.ipynb",
   "output_path": "eBay_Overview.ipynb",
   "parameters": {},
   "start_time": "2021-09-13T15:00:04.104232",
   "version": "2.3.3"
  }
 },
 "nbformat": 4,
 "nbformat_minor": 5
}