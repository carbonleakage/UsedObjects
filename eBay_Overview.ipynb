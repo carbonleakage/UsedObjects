{
 "cells": [
  {
   "cell_type": "code",
   "execution_count": 1,
   "id": "reverse-picking",
   "metadata": {
    "execution": {
     "iopub.execute_input": "2021-11-14T12:00:07.636499Z",
     "iopub.status.busy": "2021-11-14T12:00:07.617973Z",
     "iopub.status.idle": "2021-11-14T12:00:08.590464Z",
     "shell.execute_reply": "2021-11-14T12:00:08.591960Z"
    },
    "papermill": {
     "duration": 1.007836,
     "end_time": "2021-11-14T12:00:08.593070",
     "exception": false,
     "start_time": "2021-11-14T12:00:07.585234",
     "status": "completed"
    },
    "tags": []
   },
   "outputs": [],
   "source": [
    "import pandas as pd\n",
    "import sqlite3"
   ]
  },
  {
   "cell_type": "code",
   "execution_count": 2,
   "id": "innovative-syndrome",
   "metadata": {
    "execution": {
     "iopub.execute_input": "2021-11-14T12:00:08.655093Z",
     "iopub.status.busy": "2021-11-14T12:00:08.652893Z",
     "iopub.status.idle": "2021-11-14T12:00:09.471121Z",
     "shell.execute_reply": "2021-11-14T12:00:09.472604Z"
    },
    "papermill": {
     "duration": 0.852619,
     "end_time": "2021-11-14T12:00:09.473156",
     "exception": false,
     "start_time": "2021-11-14T12:00:08.620537",
     "status": "completed"
    },
    "tags": []
   },
   "outputs": [],
   "source": [
    "timestamps = pd.read_sql(\"select distinct record_time from EBAY_TOP_BERLIN order by record_time desc limit 2\", sqlite3.connect(\"UsedObjects.db\"))"
   ]
  },
  {
   "cell_type": "code",
   "execution_count": 3,
   "id": "periodic-identification",
   "metadata": {
    "execution": {
     "iopub.execute_input": "2021-11-14T12:00:09.547974Z",
     "iopub.status.busy": "2021-11-14T12:00:09.544980Z",
     "iopub.status.idle": "2021-11-14T12:00:09.568142Z",
     "shell.execute_reply": "2021-11-14T12:00:09.569631Z"
    },
    "papermill": {
     "duration": 0.075781,
     "end_time": "2021-11-14T12:00:09.570116",
     "exception": false,
     "start_time": "2021-11-14T12:00:09.494335",
     "status": "completed"
    },
    "tags": []
   },
   "outputs": [
    {
     "data": {
      "text/html": [
       "<div>\n",
       "<style scoped>\n",
       "    .dataframe tbody tr th:only-of-type {\n",
       "        vertical-align: middle;\n",
       "    }\n",
       "\n",
       "    .dataframe tbody tr th {\n",
       "        vertical-align: top;\n",
       "    }\n",
       "\n",
       "    .dataframe thead th {\n",
       "        text-align: right;\n",
       "    }\n",
       "</style>\n",
       "<table border=\"1\" class=\"dataframe\">\n",
       "  <thead>\n",
       "    <tr style=\"text-align: right;\">\n",
       "      <th></th>\n",
       "      <th>RECORD_TIME</th>\n",
       "    </tr>\n",
       "  </thead>\n",
       "  <tbody>\n",
       "    <tr>\n",
       "      <th>0</th>\n",
       "      <td>2021-11-14 13:00</td>\n",
       "    </tr>\n",
       "    <tr>\n",
       "      <th>1</th>\n",
       "      <td>2021-11-14 12:30</td>\n",
       "    </tr>\n",
       "  </tbody>\n",
       "</table>\n",
       "</div>"
      ],
      "text/plain": [
       "        RECORD_TIME\n",
       "0  2021-11-14 13:00\n",
       "1  2021-11-14 12:30"
      ]
     },
     "execution_count": 3,
     "metadata": {},
     "output_type": "execute_result"
    }
   ],
   "source": [
    "timestamps"
   ]
  },
  {
   "cell_type": "code",
   "execution_count": 4,
   "id": "alternate-victory",
   "metadata": {
    "execution": {
     "iopub.execute_input": "2021-11-14T12:00:09.625666Z",
     "iopub.status.busy": "2021-11-14T12:00:09.623496Z",
     "iopub.status.idle": "2021-11-14T12:00:10.815283Z",
     "shell.execute_reply": "2021-11-14T12:00:10.817146Z"
    },
    "papermill": {
     "duration": 1.225985,
     "end_time": "2021-11-14T12:00:10.817625",
     "exception": false,
     "start_time": "2021-11-14T12:00:09.591640",
     "status": "completed"
    },
    "tags": []
   },
   "outputs": [],
   "source": [
    "df = pd.read_sql(\"select * from EBAY_TOP_BERLIN where record_time in (select distinct record_time from EBAY_TOP_BERLIN order by record_time desc limit 2)\", sqlite3.connect(\"UsedObjects.db\"))"
   ]
  },
  {
   "cell_type": "code",
   "execution_count": 5,
   "id": "popular-active",
   "metadata": {
    "execution": {
     "iopub.execute_input": "2021-11-14T12:00:10.897729Z",
     "iopub.status.busy": "2021-11-14T12:00:10.895471Z",
     "iopub.status.idle": "2021-11-14T12:00:10.916254Z",
     "shell.execute_reply": "2021-11-14T12:00:10.917574Z"
    },
    "papermill": {
     "duration": 0.078347,
     "end_time": "2021-11-14T12:00:10.918060",
     "exception": false,
     "start_time": "2021-11-14T12:00:10.839713",
     "status": "completed"
    },
    "tags": []
   },
   "outputs": [],
   "source": [
    "df_pivot = df.pivot_table(index=\"PRODUCT\", columns = \"RECORD_TIME\", values = \"LISTING_COUNT\")"
   ]
  },
  {
   "cell_type": "code",
   "execution_count": 6,
   "id": "union-huntington",
   "metadata": {
    "execution": {
     "iopub.execute_input": "2021-11-14T12:00:10.977242Z",
     "iopub.status.busy": "2021-11-14T12:00:10.975023Z",
     "iopub.status.idle": "2021-11-14T12:00:10.980530Z",
     "shell.execute_reply": "2021-11-14T12:00:10.982184Z"
    },
    "papermill": {
     "duration": 0.044029,
     "end_time": "2021-11-14T12:00:10.982671",
     "exception": false,
     "start_time": "2021-11-14T12:00:10.938642",
     "status": "completed"
    },
    "tags": []
   },
   "outputs": [],
   "source": [
    "df_pivot.columns = [\"stamp_1\", \"stamp_2\"]\n",
    "df_pivot_diff = df_pivot.diff(axis=1)"
   ]
  },
  {
   "cell_type": "code",
   "execution_count": 7,
   "id": "fifth-motion",
   "metadata": {
    "execution": {
     "iopub.execute_input": "2021-11-14T12:00:11.043866Z",
     "iopub.status.busy": "2021-11-14T12:00:11.041270Z",
     "iopub.status.idle": "2021-11-14T12:00:12.985629Z",
     "shell.execute_reply": "2021-11-14T12:00:12.986986Z"
    },
    "papermill": {
     "duration": 1.982828,
     "end_time": "2021-11-14T12:00:12.987456",
     "exception": false,
     "start_time": "2021-11-14T12:00:11.004628",
     "status": "completed"
    },
    "tags": []
   },
   "outputs": [
    {
     "data": {
      "text/plain": [
       "<AxesSubplot:ylabel='PRODUCT'>"
      ]
     },
     "execution_count": 7,
     "metadata": {},
     "output_type": "execute_result"
    },
    {
     "data": {
      "image/png": "[encoded data removed]",
      "text/plain": [
       "<Figure size 432x288 with 1 Axes>"
      ]
     },
     "metadata": {
      "needs_background": "light"
     },
     "output_type": "display_data"
    }
   ],
   "source": [
    "df_pivot_diff.sort_values(\"stamp_2\", ascending = False)[\"stamp_2\"].head(10).plot.barh()"
   ]
  },
  {
   "cell_type": "code",
   "execution_count": null,
   "id": "extra-executive",
   "metadata": {
    "papermill": {
     "duration": 0.023507,
     "end_time": "2021-11-14T12:00:13.035218",
     "exception": false,
     "start_time": "2021-11-14T12:00:13.011711",
     "status": "completed"
    },
    "tags": []
   },
   "outputs": [],
   "source": []
  }
 ],
 "metadata": {
  "kernelspec": {
   "display_name": "Python 3",
   "language": "python",
   "name": "python3"
  },
  "language_info": {
   "codemirror_mode": {
    "name": "ipython",
    "version": 3
   },
   "file_extension": ".py",
   "mimetype": "text/x-python",
   "name": "python",
   "nbconvert_exporter": "python",
   "pygments_lexer": "ipython3",
   "version": "3.9.5"
  },
  "papermill": {
   "default_parameters": {},
   "duration": 9.942092,
   "end_time": "2021-11-14T12:00:14.795860",
   "environment_variables": {},
   "exception": null,
   "input_path": "eBay_Overview.ipynb",
   "output_path": "eBay_Overview.ipynb",
   "parameters": {},
   "start_time": "2021-11-14T12:00:04.853768",
   "version": "2.3.3"
  }
 },
 "nbformat": 4,
 "nbformat_minor": 5
}