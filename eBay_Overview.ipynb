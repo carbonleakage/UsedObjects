{
 "cells": [
  {
   "cell_type": "code",
   "execution_count": 1,
   "id": "reverse-picking",
   "metadata": {
    "execution": {
     "iopub.execute_input": "2021-10-07T00:30:07.160015Z",
     "iopub.status.busy": "2021-10-07T00:30:07.158011Z",
     "iopub.status.idle": "2021-10-07T00:30:07.968803Z",
     "shell.execute_reply": "2021-10-07T00:30:07.970114Z"
    },
    "papermill": {
     "duration": 0.860446,
     "end_time": "2021-10-07T00:30:07.970753",
     "exception": false,
     "start_time": "2021-10-07T00:30:07.110307",
     "status": "completed"
    },
    "tags": []
   },
   "outputs": [],
   "source": [
    "import pandas as pd\n",
    "import sqlite3"
   ]
  },
  {
   "cell_type": "code",
   "execution_count": 2,
   "id": "innovative-syndrome",
   "metadata": {
    "execution": {
     "iopub.execute_input": "2021-10-07T00:30:08.022088Z",
     "iopub.status.busy": "2021-10-07T00:30:08.020036Z",
     "iopub.status.idle": "2021-10-07T00:30:08.483008Z",
     "shell.execute_reply": "2021-10-07T00:30:08.484305Z"
    },
    "papermill": {
     "duration": 0.493441,
     "end_time": "2021-10-07T00:30:08.484757",
     "exception": false,
     "start_time": "2021-10-07T00:30:07.991316",
     "status": "completed"
    },
    "tags": []
   },
   "outputs": [],
   "source": [
    "timestamps = pd.read_sql(\"select distinct record_time from EBAY_TOP_BERLIN order by record_time desc limit 2\", sqlite3.connect(\"UsedObjects.db\"))"
   ]
  },
  {
   "cell_type": "code",
   "execution_count": 3,
   "id": "periodic-identification",
   "metadata": {
    "execution": {
     "iopub.execute_input": "2021-10-07T00:30:08.552573Z",
     "iopub.status.busy": "2021-10-07T00:30:08.550491Z",
     "iopub.status.idle": "2021-10-07T00:30:08.570880Z",
     "shell.execute_reply": "2021-10-07T00:30:08.572093Z"
    },
    "papermill": {
     "duration": 0.067602,
     "end_time": "2021-10-07T00:30:08.572512",
     "exception": false,
     "start_time": "2021-10-07T00:30:08.504910",
     "status": "completed"
    },
    "tags": []
   },
   "outputs": [
    {
     "data": {
      "text/html": [
       "<div>\n",
       "<style scoped>\n",
       "    .dataframe tbody tr th:only-of-type {\n",
       "        vertical-align: middle;\n",
       "    }\n",
       "\n",
       "    .dataframe tbody tr th {\n",
       "        vertical-align: top;\n",
       "    }\n",
       "\n",
       "    .dataframe thead th {\n",
       "        text-align: right;\n",
       "    }\n",
       "</style>\n",
       "<table border=\"1\" class=\"dataframe\">\n",
       "  <thead>\n",
       "    <tr style=\"text-align: right;\">\n",
       "      <th></th>\n",
       "      <th>RECORD_TIME</th>\n",
       "    </tr>\n",
       "  </thead>\n",
       "  <tbody>\n",
       "    <tr>\n",
       "      <th>0</th>\n",
       "      <td>2021-10-07 02:30</td>\n",
       "    </tr>\n",
       "    <tr>\n",
       "      <th>1</th>\n",
       "      <td>2021-10-07 02:00</td>\n",
       "    </tr>\n",
       "  </tbody>\n",
       "</table>\n",
       "</div>"
      ],
      "text/plain": [
       "        RECORD_TIME\n",
       "0  2021-10-07 02:30\n",
       "1  2021-10-07 02:00"
      ]
     },
     "execution_count": 3,
     "metadata": {},
     "output_type": "execute_result"
    }
   ],
   "source": [
    "timestamps"
   ]
  },
  {
   "cell_type": "code",
   "execution_count": 4,
   "id": "alternate-victory",
   "metadata": {
    "execution": {
     "iopub.execute_input": "2021-10-07T00:30:08.637597Z",
     "iopub.status.busy": "2021-10-07T00:30:08.635739Z",
     "iopub.status.idle": "2021-10-07T00:30:09.317482Z",
     "shell.execute_reply": "2021-10-07T00:30:09.318684Z"
    },
    "papermill": {
     "duration": 0.716612,
     "end_time": "2021-10-07T00:30:09.319166",
     "exception": false,
     "start_time": "2021-10-07T00:30:08.602554",
     "status": "completed"
    },
    "tags": []
   },
   "outputs": [],
   "source": [
    "df = pd.read_sql(\"select * from EBAY_TOP_BERLIN where record_time in (select distinct record_time from EBAY_TOP_BERLIN order by record_time desc limit 2)\", sqlite3.connect(\"UsedObjects.db\"))"
   ]
  },
  {
   "cell_type": "code",
   "execution_count": 5,
   "id": "popular-active",
   "metadata": {
    "execution": {
     "iopub.execute_input": "2021-10-07T00:30:09.391279Z",
     "iopub.status.busy": "2021-10-07T00:30:09.378461Z",
     "iopub.status.idle": "2021-10-07T00:30:09.407116Z",
     "shell.execute_reply": "2021-10-07T00:30:09.408334Z"
    },
    "papermill": {
     "duration": 0.068138,
     "end_time": "2021-10-07T00:30:09.408731",
     "exception": false,
     "start_time": "2021-10-07T00:30:09.340593",
     "status": "completed"
    },
    "tags": []
   },
   "outputs": [],
   "source": [
    "df_pivot = df.pivot_table(index=\"PRODUCT\", columns = \"RECORD_TIME\", values = \"LISTING_COUNT\")"
   ]
  },
  {
   "cell_type": "code",
   "execution_count": 6,
   "id": "union-huntington",
   "metadata": {
    "execution": {
     "iopub.execute_input": "2021-10-07T00:30:09.466177Z",
     "iopub.status.busy": "2021-10-07T00:30:09.464159Z",
     "iopub.status.idle": "2021-10-07T00:30:09.469419Z",
     "shell.execute_reply": "2021-10-07T00:30:09.470597Z"
    },
    "papermill": {
     "duration": 0.040795,
     "end_time": "2021-10-07T00:30:09.471213",
     "exception": false,
     "start_time": "2021-10-07T00:30:09.430418",
     "status": "completed"
    },
    "tags": []
   },
   "outputs": [],
   "source": [
    "df_pivot.columns = [\"stamp_1\", \"stamp_2\"]\n",
    "df_pivot_diff = df_pivot.diff(axis=1)"
   ]
  },
  {
   "cell_type": "code",
   "execution_count": 7,
   "id": "fifth-motion",
   "metadata": {
    "execution": {
     "iopub.execute_input": "2021-10-07T00:30:09.529886Z",
     "iopub.status.busy": "2021-10-07T00:30:09.524995Z",
     "iopub.status.idle": "2021-10-07T00:30:11.038714Z",
     "shell.execute_reply": "2021-10-07T00:30:11.040058Z"
    },
    "papermill": {
     "duration": 1.547966,
     "end_time": "2021-10-07T00:30:11.040474",
     "exception": false,
     "start_time": "2021-10-07T00:30:09.492508",
     "status": "completed"
    },
    "tags": []
   },
   "outputs": [
    {
     "data": {
      "text/plain": [
       "<AxesSubplot:ylabel='PRODUCT'>"
      ]
     },
     "execution_count": 7,
     "metadata": {},
     "output_type": "execute_result"
    },
    {
     "data": {
      "image/png": "[encoded data removed]",
      "text/plain": [
       "<Figure size 432x288 with 1 Axes>"
      ]
     },
     "metadata": {
      "needs_background": "light"
     },
     "output_type": "display_data"
    }
   ],
   "source": [
    "df_pivot_diff.sort_values(\"stamp_2\", ascending = False)[\"stamp_2\"].head(10).plot.barh()"
   ]
  },
  {
   "cell_type": "code",
   "execution_count": null,
   "id": "extra-executive",
   "metadata": {
    "papermill": {
     "duration": 0.022513,
     "end_time": "2021-10-07T00:30:11.087930",
     "exception": false,
     "start_time": "2021-10-07T00:30:11.065417",
     "status": "completed"
    },
    "tags": []
   },
   "outputs": [],
   "source": []
  }
 ],
 "metadata": {
  "kernelspec": {
   "display_name": "Python 3",
   "language": "python",
   "name": "python3"
  },
  "language_info": {
   "codemirror_mode": {
    "name": "ipython",
    "version": 3
   },
   "file_extension": ".py",
   "mimetype": "text/x-python",
   "name": "python",
   "nbconvert_exporter": "python",
   "pygments_lexer": "ipython3",
   "version": "3.9.5"
  },
  "papermill": {
   "default_parameters": {},
   "duration": 7.827986,
   "end_time": "2021-10-07T00:30:12.527312",
   "environment_variables": {},
   "exception": null,
   "input_path": "eBay_Overview.ipynb",
   "output_path": "eBay_Overview.ipynb",
   "parameters": {},
   "start_time": "2021-10-07T00:30:04.699326",
   "version": "2.3.3"
  }
 },
 "nbformat": 4,
 "nbformat_minor": 5
}