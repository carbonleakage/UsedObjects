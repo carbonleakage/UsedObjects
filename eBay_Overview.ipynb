{
 "cells": [
  {
   "cell_type": "code",
   "execution_count": 1,
   "id": "reverse-picking",
   "metadata": {
    "execution": {
     "iopub.execute_input": "2021-11-16T12:00:07.533319Z",
     "iopub.status.busy": "2021-11-16T12:00:07.530856Z",
     "iopub.status.idle": "2021-11-16T12:00:08.443719Z",
     "shell.execute_reply": "2021-11-16T12:00:08.441856Z"
    },
    "papermill": {
     "duration": 0.963855,
     "end_time": "2021-11-16T12:00:08.444220",
     "exception": false,
     "start_time": "2021-11-16T12:00:07.480365",
     "status": "completed"
    },
    "tags": []
   },
   "outputs": [],
   "source": [
    "import pandas as pd\n",
    "import sqlite3"
   ]
  },
  {
   "cell_type": "code",
   "execution_count": 2,
   "id": "innovative-syndrome",
   "metadata": {
    "execution": {
     "iopub.execute_input": "2021-11-16T12:00:08.505689Z",
     "iopub.status.busy": "2021-11-16T12:00:08.503342Z",
     "iopub.status.idle": "2021-11-16T12:00:09.353517Z",
     "shell.execute_reply": "2021-11-16T12:00:09.355263Z"
    },
    "papermill": {
     "duration": 0.884401,
     "end_time": "2021-11-16T12:00:09.355757",
     "exception": false,
     "start_time": "2021-11-16T12:00:08.471356",
     "status": "completed"
    },
    "tags": []
   },
   "outputs": [],
   "source": [
    "timestamps = pd.read_sql(\"select distinct record_time from EBAY_TOP_BERLIN order by record_time desc limit 2\", sqlite3.connect(\"UsedObjects.db\"))"
   ]
  },
  {
   "cell_type": "code",
   "execution_count": 3,
   "id": "periodic-identification",
   "metadata": {
    "execution": {
     "iopub.execute_input": "2021-11-16T12:00:09.429546Z",
     "iopub.status.busy": "2021-11-16T12:00:09.427198Z",
     "iopub.status.idle": "2021-11-16T12:00:09.449575Z",
     "shell.execute_reply": "2021-11-16T12:00:09.451197Z"
    },
    "papermill": {
     "duration": 0.073015,
     "end_time": "2021-11-16T12:00:09.451742",
     "exception": false,
     "start_time": "2021-11-16T12:00:09.378727",
     "status": "completed"
    },
    "tags": []
   },
   "outputs": [
    {
     "data": {
      "text/html": [
       "<div>\n",
       "<style scoped>\n",
       "    .dataframe tbody tr th:only-of-type {\n",
       "        vertical-align: middle;\n",
       "    }\n",
       "\n",
       "    .dataframe tbody tr th {\n",
       "        vertical-align: top;\n",
       "    }\n",
       "\n",
       "    .dataframe thead th {\n",
       "        text-align: right;\n",
       "    }\n",
       "</style>\n",
       "<table border=\"1\" class=\"dataframe\">\n",
       "  <thead>\n",
       "    <tr style=\"text-align: right;\">\n",
       "      <th></th>\n",
       "      <th>RECORD_TIME</th>\n",
       "    </tr>\n",
       "  </thead>\n",
       "  <tbody>\n",
       "    <tr>\n",
       "      <th>0</th>\n",
       "      <td>2021-11-16 13:00</td>\n",
       "    </tr>\n",
       "    <tr>\n",
       "      <th>1</th>\n",
       "      <td>2021-11-16 12:30</td>\n",
       "    </tr>\n",
       "  </tbody>\n",
       "</table>\n",
       "</div>"
      ],
      "text/plain": [
       "        RECORD_TIME\n",
       "0  2021-11-16 13:00\n",
       "1  2021-11-16 12:30"
      ]
     },
     "execution_count": 3,
     "metadata": {},
     "output_type": "execute_result"
    }
   ],
   "source": [
    "timestamps"
   ]
  },
  {
   "cell_type": "code",
   "execution_count": 4,
   "id": "alternate-victory",
   "metadata": {
    "execution": {
     "iopub.execute_input": "2021-11-16T12:00:09.506692Z",
     "iopub.status.busy": "2021-11-16T12:00:09.504380Z",
     "iopub.status.idle": "2021-11-16T12:00:10.735804Z",
     "shell.execute_reply": "2021-11-16T12:00:10.737227Z"
    },
    "papermill": {
     "duration": 1.26487,
     "end_time": "2021-11-16T12:00:10.737697",
     "exception": false,
     "start_time": "2021-11-16T12:00:09.472827",
     "status": "completed"
    },
    "tags": []
   },
   "outputs": [],
   "source": [
    "df = pd.read_sql(\"select * from EBAY_TOP_BERLIN where record_time in (select distinct record_time from EBAY_TOP_BERLIN order by record_time desc limit 2)\", sqlite3.connect(\"UsedObjects.db\"))"
   ]
  },
  {
   "cell_type": "code",
   "execution_count": 5,
   "id": "popular-active",
   "metadata": {
    "execution": {
     "iopub.execute_input": "2021-11-16T12:00:10.813631Z",
     "iopub.status.busy": "2021-11-16T12:00:10.798689Z",
     "iopub.status.idle": "2021-11-16T12:00:10.831924Z",
     "shell.execute_reply": "2021-11-16T12:00:10.833521Z"
    },
    "papermill": {
     "duration": 0.074812,
     "end_time": "2021-11-16T12:00:10.834019",
     "exception": false,
     "start_time": "2021-11-16T12:00:10.759207",
     "status": "completed"
    },
    "tags": []
   },
   "outputs": [],
   "source": [
    "df_pivot = df.pivot_table(index=\"PRODUCT\", columns = \"RECORD_TIME\", values = \"LISTING_COUNT\")"
   ]
  },
  {
   "cell_type": "code",
   "execution_count": 6,
   "id": "union-huntington",
   "metadata": {
    "execution": {
     "iopub.execute_input": "2021-11-16T12:00:10.896029Z",
     "iopub.status.busy": "2021-11-16T12:00:10.893760Z",
     "iopub.status.idle": "2021-11-16T12:00:10.900168Z",
     "shell.execute_reply": "2021-11-16T12:00:10.901734Z"
    },
    "papermill": {
     "duration": 0.04606,
     "end_time": "2021-11-16T12:00:10.902278",
     "exception": false,
     "start_time": "2021-11-16T12:00:10.856218",
     "status": "completed"
    },
    "tags": []
   },
   "outputs": [],
   "source": [
    "df_pivot.columns = [\"stamp_1\", \"stamp_2\"]\n",
    "df_pivot_diff = df_pivot.diff(axis=1)"
   ]
  },
  {
   "cell_type": "code",
   "execution_count": 7,
   "id": "fifth-motion",
   "metadata": {
    "execution": {
     "iopub.execute_input": "2021-11-16T12:00:10.962379Z",
     "iopub.status.busy": "2021-11-16T12:00:10.960001Z",
     "iopub.status.idle": "2021-11-16T12:00:12.886525Z",
     "shell.execute_reply": "2021-11-16T12:00:12.887877Z"
    },
    "papermill": {
     "duration": 1.964421,
     "end_time": "2021-11-16T12:00:12.888357",
     "exception": false,
     "start_time": "2021-11-16T12:00:10.923936",
     "status": "completed"
    },
    "tags": []
   },
   "outputs": [
    {
     "data": {
      "text/plain": [
       "<AxesSubplot:ylabel='PRODUCT'>"
      ]
     },
     "execution_count": 7,
     "metadata": {},
     "output_type": "execute_result"
    },
    {
     "data": {
      "image/png": "[encoded data removed]",
      "text/plain": [
       "<Figure size 432x288 with 1 Axes>"
      ]
     },
     "metadata": {
      "needs_background": "light"
     },
     "output_type": "display_data"
    }
   ],
   "source": [
    "df_pivot_diff.sort_values(\"stamp_2\", ascending = False)[\"stamp_2\"].head(10).plot.barh()"
   ]
  },
  {
   "cell_type": "code",
   "execution_count": null,
   "id": "extra-executive",
   "metadata": {
    "papermill": {
     "duration": 0.033375,
     "end_time": "2021-11-16T12:00:12.948174",
     "exception": false,
     "start_time": "2021-11-16T12:00:12.914799",
     "status": "completed"
    },
    "tags": []
   },
   "outputs": [],
   "source": []
  }
 ],
 "metadata": {
  "kernelspec": {
   "display_name": "Python 3",
   "language": "python",
   "name": "python3"
  },
  "language_info": {
   "codemirror_mode": {
    "name": "ipython",
    "version": 3
   },
   "file_extension": ".py",
   "mimetype": "text/x-python",
   "name": "python",
   "nbconvert_exporter": "python",
   "pygments_lexer": "ipython3",
   "version": "3.9.5"
  },
  "papermill": {
   "default_parameters": {},
   "duration": 9.93248,
   "end_time": "2021-11-16T12:00:14.702730",
   "environment_variables": {},
   "exception": null,
   "input_path": "eBay_Overview.ipynb",
   "output_path": "eBay_Overview.ipynb",
   "parameters": {},
   "start_time": "2021-11-16T12:00:04.770250",
   "version": "2.3.3"
  }
 },
 "nbformat": 4,
 "nbformat_minor": 5
}