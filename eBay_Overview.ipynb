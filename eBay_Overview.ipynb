{
 "cells": [
  {
   "cell_type": "code",
   "execution_count": 1,
   "id": "reverse-picking",
   "metadata": {
    "execution": {
     "iopub.execute_input": "2021-10-04T17:00:06.784700Z",
     "iopub.status.busy": "2021-10-04T17:00:06.782669Z",
     "iopub.status.idle": "2021-10-04T17:00:07.588875Z",
     "shell.execute_reply": "2021-10-04T17:00:07.587259Z"
    },
    "papermill": {
     "duration": 0.856548,
     "end_time": "2021-10-04T17:00:07.589274",
     "exception": false,
     "start_time": "2021-10-04T17:00:06.732726",
     "status": "completed"
    },
    "tags": []
   },
   "outputs": [],
   "source": [
    "import pandas as pd\n",
    "import sqlite3"
   ]
  },
  {
   "cell_type": "code",
   "execution_count": 2,
   "id": "innovative-syndrome",
   "metadata": {
    "execution": {
     "iopub.execute_input": "2021-10-04T17:00:07.639932Z",
     "iopub.status.busy": "2021-10-04T17:00:07.637973Z",
     "iopub.status.idle": "2021-10-04T17:00:08.086516Z",
     "shell.execute_reply": "2021-10-04T17:00:08.087867Z"
    },
    "papermill": {
     "duration": 0.478289,
     "end_time": "2021-10-04T17:00:08.088290",
     "exception": false,
     "start_time": "2021-10-04T17:00:07.610001",
     "status": "completed"
    },
    "tags": []
   },
   "outputs": [],
   "source": [
    "timestamps = pd.read_sql(\"select distinct record_time from EBAY_TOP_BERLIN order by record_time desc limit 2\", sqlite3.connect(\"UsedObjects.db\"))"
   ]
  },
  {
   "cell_type": "code",
   "execution_count": 3,
   "id": "periodic-identification",
   "metadata": {
    "execution": {
     "iopub.execute_input": "2021-10-04T17:00:08.153918Z",
     "iopub.status.busy": "2021-10-04T17:00:08.151827Z",
     "iopub.status.idle": "2021-10-04T17:00:08.172360Z",
     "shell.execute_reply": "2021-10-04T17:00:08.173611Z"
    },
    "papermill": {
     "duration": 0.066039,
     "end_time": "2021-10-04T17:00:08.174009",
     "exception": false,
     "start_time": "2021-10-04T17:00:08.107970",
     "status": "completed"
    },
    "tags": []
   },
   "outputs": [
    {
     "data": {
      "text/html": [
       "<div>\n",
       "<style scoped>\n",
       "    .dataframe tbody tr th:only-of-type {\n",
       "        vertical-align: middle;\n",
       "    }\n",
       "\n",
       "    .dataframe tbody tr th {\n",
       "        vertical-align: top;\n",
       "    }\n",
       "\n",
       "    .dataframe thead th {\n",
       "        text-align: right;\n",
       "    }\n",
       "</style>\n",
       "<table border=\"1\" class=\"dataframe\">\n",
       "  <thead>\n",
       "    <tr style=\"text-align: right;\">\n",
       "      <th></th>\n",
       "      <th>RECORD_TIME</th>\n",
       "    </tr>\n",
       "  </thead>\n",
       "  <tbody>\n",
       "    <tr>\n",
       "      <th>0</th>\n",
       "      <td>2021-10-04 19:00</td>\n",
       "    </tr>\n",
       "    <tr>\n",
       "      <th>1</th>\n",
       "      <td>2021-10-04 18:30</td>\n",
       "    </tr>\n",
       "  </tbody>\n",
       "</table>\n",
       "</div>"
      ],
      "text/plain": [
       "        RECORD_TIME\n",
       "0  2021-10-04 19:00\n",
       "1  2021-10-04 18:30"
      ]
     },
     "execution_count": 3,
     "metadata": {},
     "output_type": "execute_result"
    }
   ],
   "source": [
    "timestamps"
   ]
  },
  {
   "cell_type": "code",
   "execution_count": 4,
   "id": "alternate-victory",
   "metadata": {
    "execution": {
     "iopub.execute_input": "2021-10-04T17:00:08.232005Z",
     "iopub.status.busy": "2021-10-04T17:00:08.229615Z",
     "iopub.status.idle": "2021-10-04T17:00:08.893466Z",
     "shell.execute_reply": "2021-10-04T17:00:08.894763Z"
    },
    "papermill": {
     "duration": 0.698818,
     "end_time": "2021-10-04T17:00:08.895241",
     "exception": false,
     "start_time": "2021-10-04T17:00:08.196423",
     "status": "completed"
    },
    "tags": []
   },
   "outputs": [],
   "source": [
    "df = pd.read_sql(\"select * from EBAY_TOP_BERLIN where record_time in (select distinct record_time from EBAY_TOP_BERLIN order by record_time desc limit 2)\", sqlite3.connect(\"UsedObjects.db\"))"
   ]
  },
  {
   "cell_type": "code",
   "execution_count": 5,
   "id": "popular-active",
   "metadata": {
    "execution": {
     "iopub.execute_input": "2021-10-04T17:00:08.965407Z",
     "iopub.status.busy": "2021-10-04T17:00:08.954405Z",
     "iopub.status.idle": "2021-10-04T17:00:08.982461Z",
     "shell.execute_reply": "2021-10-04T17:00:08.984112Z"
    },
    "papermill": {
     "duration": 0.068597,
     "end_time": "2021-10-04T17:00:08.984586",
     "exception": false,
     "start_time": "2021-10-04T17:00:08.915989",
     "status": "completed"
    },
    "tags": []
   },
   "outputs": [],
   "source": [
    "df_pivot = df.pivot_table(index=\"PRODUCT\", columns = \"RECORD_TIME\", values = \"LISTING_COUNT\")"
   ]
  },
  {
   "cell_type": "code",
   "execution_count": 6,
   "id": "union-huntington",
   "metadata": {
    "execution": {
     "iopub.execute_input": "2021-10-04T17:00:09.042415Z",
     "iopub.status.busy": "2021-10-04T17:00:09.040275Z",
     "iopub.status.idle": "2021-10-04T17:00:09.045879Z",
     "shell.execute_reply": "2021-10-04T17:00:09.047240Z"
    },
    "papermill": {
     "duration": 0.041708,
     "end_time": "2021-10-04T17:00:09.047675",
     "exception": false,
     "start_time": "2021-10-04T17:00:09.005967",
     "status": "completed"
    },
    "tags": []
   },
   "outputs": [],
   "source": [
    "df_pivot.columns = [\"stamp_1\", \"stamp_2\"]\n",
    "df_pivot_diff = df_pivot.diff(axis=1)"
   ]
  },
  {
   "cell_type": "code",
   "execution_count": 7,
   "id": "fifth-motion",
   "metadata": {
    "execution": {
     "iopub.execute_input": "2021-10-04T17:00:09.101936Z",
     "iopub.status.busy": "2021-10-04T17:00:09.099530Z",
     "iopub.status.idle": "2021-10-04T17:00:10.569721Z",
     "shell.execute_reply": "2021-10-04T17:00:10.571290Z"
    },
    "papermill": {
     "duration": 1.50341,
     "end_time": "2021-10-04T17:00:10.571767",
     "exception": false,
     "start_time": "2021-10-04T17:00:09.068357",
     "status": "completed"
    },
    "tags": []
   },
   "outputs": [
    {
     "data": {
      "text/plain": [
       "<AxesSubplot:ylabel='PRODUCT'>"
      ]
     },
     "execution_count": 7,
     "metadata": {},
     "output_type": "execute_result"
    },
    {
     "data": {
      "image/png": "[encoded data removed]",
      "text/plain": [
       "<Figure size 432x288 with 1 Axes>"
      ]
     },
     "metadata": {
      "needs_background": "light"
     },
     "output_type": "display_data"
    }
   ],
   "source": [
    "df_pivot_diff.sort_values(\"stamp_2\", ascending = False)[\"stamp_2\"].head(10).plot.barh()"
   ]
  },
  {
   "cell_type": "code",
   "execution_count": null,
   "id": "extra-executive",
   "metadata": {
    "papermill": {
     "duration": 0.022213,
     "end_time": "2021-10-04T17:00:10.620710",
     "exception": false,
     "start_time": "2021-10-04T17:00:10.598497",
     "status": "completed"
    },
    "tags": []
   },
   "outputs": [],
   "source": []
  }
 ],
 "metadata": {
  "kernelspec": {
   "display_name": "Python 3",
   "language": "python",
   "name": "python3"
  },
  "language_info": {
   "codemirror_mode": {
    "name": "ipython",
    "version": 3
   },
   "file_extension": ".py",
   "mimetype": "text/x-python",
   "name": "python",
   "nbconvert_exporter": "python",
   "pygments_lexer": "ipython3",
   "version": "3.9.5"
  },
  "papermill": {
   "default_parameters": {},
   "duration": 7.823203,
   "end_time": "2021-10-04T17:00:12.147593",
   "environment_variables": {},
   "exception": null,
   "input_path": "eBay_Overview.ipynb",
   "output_path": "eBay_Overview.ipynb",
   "parameters": {},
   "start_time": "2021-10-04T17:00:04.324390",
   "version": "2.3.3"
  }
 },
 "nbformat": 4,
 "nbformat_minor": 5
}