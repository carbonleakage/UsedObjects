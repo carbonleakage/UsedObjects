{
 "cells": [
  {
   "cell_type": "code",
   "execution_count": 1,
   "id": "reverse-picking",
   "metadata": {
    "execution": {
     "iopub.execute_input": "2021-09-16T18:00:06.713044Z",
     "iopub.status.busy": "2021-09-16T18:00:06.711031Z",
     "iopub.status.idle": "2021-09-16T18:00:07.510982Z",
     "shell.execute_reply": "2021-09-16T18:00:07.512323Z"
    },
    "papermill": {
     "duration": 0.851096,
     "end_time": "2021-09-16T18:00:07.512972",
     "exception": false,
     "start_time": "2021-09-16T18:00:06.661876",
     "status": "completed"
    },
    "tags": []
   },
   "outputs": [],
   "source": [
    "import pandas as pd\n",
    "import sqlite3"
   ]
  },
  {
   "cell_type": "code",
   "execution_count": 2,
   "id": "innovative-syndrome",
   "metadata": {
    "execution": {
     "iopub.execute_input": "2021-09-16T18:00:07.563577Z",
     "iopub.status.busy": "2021-09-16T18:00:07.561643Z",
     "iopub.status.idle": "2021-09-16T18:00:07.857602Z",
     "shell.execute_reply": "2021-09-16T18:00:07.858765Z"
    },
    "papermill": {
     "duration": 0.325202,
     "end_time": "2021-09-16T18:00:07.859255",
     "exception": false,
     "start_time": "2021-09-16T18:00:07.534053",
     "status": "completed"
    },
    "tags": []
   },
   "outputs": [],
   "source": [
    "timestamps = pd.read_sql(\"select distinct record_time from EBAY_TOP_BERLIN order by record_time desc limit 2\", sqlite3.connect(\"UsedObjects.db\"))"
   ]
  },
  {
   "cell_type": "code",
   "execution_count": 3,
   "id": "periodic-identification",
   "metadata": {
    "execution": {
     "iopub.execute_input": "2021-09-16T18:00:07.922047Z",
     "iopub.status.busy": "2021-09-16T18:00:07.920077Z",
     "iopub.status.idle": "2021-09-16T18:00:07.939916Z",
     "shell.execute_reply": "2021-09-16T18:00:07.941235Z"
    },
    "papermill": {
     "duration": 0.063036,
     "end_time": "2021-09-16T18:00:07.941652",
     "exception": false,
     "start_time": "2021-09-16T18:00:07.878616",
     "status": "completed"
    },
    "tags": []
   },
   "outputs": [
    {
     "data": {
      "text/html": [
       "<div>\n",
       "<style scoped>\n",
       "    .dataframe tbody tr th:only-of-type {\n",
       "        vertical-align: middle;\n",
       "    }\n",
       "\n",
       "    .dataframe tbody tr th {\n",
       "        vertical-align: top;\n",
       "    }\n",
       "\n",
       "    .dataframe thead th {\n",
       "        text-align: right;\n",
       "    }\n",
       "</style>\n",
       "<table border=\"1\" class=\"dataframe\">\n",
       "  <thead>\n",
       "    <tr style=\"text-align: right;\">\n",
       "      <th></th>\n",
       "      <th>RECORD_TIME</th>\n",
       "    </tr>\n",
       "  </thead>\n",
       "  <tbody>\n",
       "    <tr>\n",
       "      <th>0</th>\n",
       "      <td>2021-09-16 20:00</td>\n",
       "    </tr>\n",
       "    <tr>\n",
       "      <th>1</th>\n",
       "      <td>2021-09-16 19:30</td>\n",
       "    </tr>\n",
       "  </tbody>\n",
       "</table>\n",
       "</div>"
      ],
      "text/plain": [
       "        RECORD_TIME\n",
       "0  2021-09-16 20:00\n",
       "1  2021-09-16 19:30"
      ]
     },
     "execution_count": 3,
     "metadata": {},
     "output_type": "execute_result"
    }
   ],
   "source": [
    "timestamps"
   ]
  },
  {
   "cell_type": "code",
   "execution_count": 4,
   "id": "alternate-victory",
   "metadata": {
    "execution": {
     "iopub.execute_input": "2021-09-16T18:00:07.992874Z",
     "iopub.status.busy": "2021-09-16T18:00:07.990705Z",
     "iopub.status.idle": "2021-09-16T18:00:08.430874Z",
     "shell.execute_reply": "2021-09-16T18:00:08.429532Z"
    },
    "papermill": {
     "duration": 0.468633,
     "end_time": "2021-09-16T18:00:08.431258",
     "exception": false,
     "start_time": "2021-09-16T18:00:07.962625",
     "status": "completed"
    },
    "tags": []
   },
   "outputs": [],
   "source": [
    "df = pd.read_sql(\"select * from EBAY_TOP_BERLIN where record_time in (select distinct record_time from EBAY_TOP_BERLIN order by record_time desc limit 2)\", sqlite3.connect(\"UsedObjects.db\"))"
   ]
  },
  {
   "cell_type": "code",
   "execution_count": 5,
   "id": "popular-active",
   "metadata": {
    "execution": {
     "iopub.execute_input": "2021-09-16T18:00:08.511298Z",
     "iopub.status.busy": "2021-09-16T18:00:08.499154Z",
     "iopub.status.idle": "2021-09-16T18:00:08.527769Z",
     "shell.execute_reply": "2021-09-16T18:00:08.529054Z"
    },
    "papermill": {
     "duration": 0.072182,
     "end_time": "2021-09-16T18:00:08.529503",
     "exception": false,
     "start_time": "2021-09-16T18:00:08.457321",
     "status": "completed"
    },
    "tags": []
   },
   "outputs": [],
   "source": [
    "df_pivot = df.pivot_table(index=\"PRODUCT\", columns = \"RECORD_TIME\", values = \"LISTING_COUNT\")"
   ]
  },
  {
   "cell_type": "code",
   "execution_count": 6,
   "id": "union-huntington",
   "metadata": {
    "execution": {
     "iopub.execute_input": "2021-09-16T18:00:08.586589Z",
     "iopub.status.busy": "2021-09-16T18:00:08.584217Z",
     "iopub.status.idle": "2021-09-16T18:00:08.590206Z",
     "shell.execute_reply": "2021-09-16T18:00:08.591616Z"
    },
    "papermill": {
     "duration": 0.042272,
     "end_time": "2021-09-16T18:00:08.592064",
     "exception": false,
     "start_time": "2021-09-16T18:00:08.549792",
     "status": "completed"
    },
    "tags": []
   },
   "outputs": [],
   "source": [
    "df_pivot.columns = [\"stamp_1\", \"stamp_2\"]\n",
    "df_pivot_diff = df_pivot.diff(axis=1)"
   ]
  },
  {
   "cell_type": "code",
   "execution_count": 7,
   "id": "fifth-motion",
   "metadata": {
    "execution": {
     "iopub.execute_input": "2021-09-16T18:00:08.646052Z",
     "iopub.status.busy": "2021-09-16T18:00:08.643887Z",
     "iopub.status.idle": "2021-09-16T18:00:10.122299Z",
     "shell.execute_reply": "2021-09-16T18:00:10.123778Z"
    },
    "papermill": {
     "duration": 1.510995,
     "end_time": "2021-09-16T18:00:10.124246",
     "exception": false,
     "start_time": "2021-09-16T18:00:08.613251",
     "status": "completed"
    },
    "tags": []
   },
   "outputs": [
    {
     "data": {
      "text/plain": [
       "<AxesSubplot:ylabel='PRODUCT'>"
      ]
     },
     "execution_count": 7,
     "metadata": {},
     "output_type": "execute_result"
    },
    {
     "data": {
      "image/png": "[encoded data removed]",
      "text/plain": [
       "<Figure size 432x288 with 1 Axes>"
      ]
     },
     "metadata": {
      "needs_background": "light"
     },
     "output_type": "display_data"
    }
   ],
   "source": [
    "df_pivot_diff.sort_values(\"stamp_2\", ascending = False)[\"stamp_2\"].head(10).plot.barh()"
   ]
  },
  {
   "cell_type": "code",
   "execution_count": null,
   "id": "extra-executive",
   "metadata": {
    "papermill": {
     "duration": 0.022068,
     "end_time": "2021-09-16T18:00:10.170709",
     "exception": false,
     "start_time": "2021-09-16T18:00:10.148641",
     "status": "completed"
    },
    "tags": []
   },
   "outputs": [],
   "source": []
  }
 ],
 "metadata": {
  "kernelspec": {
   "display_name": "Python 3",
   "language": "python",
   "name": "python3"
  },
  "language_info": {
   "codemirror_mode": {
    "name": "ipython",
    "version": 3
   },
   "file_extension": ".py",
   "mimetype": "text/x-python",
   "name": "python",
   "nbconvert_exporter": "python",
   "pygments_lexer": "ipython3",
   "version": "3.9.5"
  },
  "papermill": {
   "default_parameters": {},
   "duration": 6.548898,
   "end_time": "2021-09-16T18:00:10.812846",
   "environment_variables": {},
   "exception": null,
   "input_path": "eBay_Overview.ipynb",
   "output_path": "eBay_Overview.ipynb",
   "parameters": {},
   "start_time": "2021-09-16T18:00:04.263948",
   "version": "2.3.3"
  }
 },
 "nbformat": 4,
 "nbformat_minor": 5
}