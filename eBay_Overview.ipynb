{
 "cells": [
  {
   "cell_type": "code",
   "execution_count": 1,
   "id": "reverse-picking",
   "metadata": {
    "execution": {
     "iopub.execute_input": "2021-10-24T21:00:07.701982Z",
     "iopub.status.busy": "2021-10-24T21:00:07.699973Z",
     "iopub.status.idle": "2021-10-24T21:00:08.510975Z",
     "shell.execute_reply": "2021-10-24T21:00:08.512192Z"
    },
    "papermill": {
     "duration": 0.860337,
     "end_time": "2021-10-24T21:00:08.512894",
     "exception": false,
     "start_time": "2021-10-24T21:00:07.652557",
     "status": "completed"
    },
    "tags": []
   },
   "outputs": [],
   "source": [
    "import pandas as pd\n",
    "import sqlite3"
   ]
  },
  {
   "cell_type": "code",
   "execution_count": 2,
   "id": "innovative-syndrome",
   "metadata": {
    "execution": {
     "iopub.execute_input": "2021-10-24T21:00:08.563673Z",
     "iopub.status.busy": "2021-10-24T21:00:08.561618Z",
     "iopub.status.idle": "2021-10-24T21:00:09.206038Z",
     "shell.execute_reply": "2021-10-24T21:00:09.207351Z"
    },
    "papermill": {
     "duration": 0.674528,
     "end_time": "2021-10-24T21:00:09.207770",
     "exception": false,
     "start_time": "2021-10-24T21:00:08.533242",
     "status": "completed"
    },
    "tags": []
   },
   "outputs": [],
   "source": [
    "timestamps = pd.read_sql(\"select distinct record_time from EBAY_TOP_BERLIN order by record_time desc limit 2\", sqlite3.connect(\"UsedObjects.db\"))"
   ]
  },
  {
   "cell_type": "code",
   "execution_count": 3,
   "id": "periodic-identification",
   "metadata": {
    "execution": {
     "iopub.execute_input": "2021-10-24T21:00:09.283476Z",
     "iopub.status.busy": "2021-10-24T21:00:09.281470Z",
     "iopub.status.idle": "2021-10-24T21:00:09.301406Z",
     "shell.execute_reply": "2021-10-24T21:00:09.302598Z"
    },
    "papermill": {
     "duration": 0.069622,
     "end_time": "2021-10-24T21:00:09.303020",
     "exception": false,
     "start_time": "2021-10-24T21:00:09.233398",
     "status": "completed"
    },
    "tags": []
   },
   "outputs": [
    {
     "data": {
      "text/html": [
       "<div>\n",
       "<style scoped>\n",
       "    .dataframe tbody tr th:only-of-type {\n",
       "        vertical-align: middle;\n",
       "    }\n",
       "\n",
       "    .dataframe tbody tr th {\n",
       "        vertical-align: top;\n",
       "    }\n",
       "\n",
       "    .dataframe thead th {\n",
       "        text-align: right;\n",
       "    }\n",
       "</style>\n",
       "<table border=\"1\" class=\"dataframe\">\n",
       "  <thead>\n",
       "    <tr style=\"text-align: right;\">\n",
       "      <th></th>\n",
       "      <th>RECORD_TIME</th>\n",
       "    </tr>\n",
       "  </thead>\n",
       "  <tbody>\n",
       "    <tr>\n",
       "      <th>0</th>\n",
       "      <td>2021-10-24 23:00</td>\n",
       "    </tr>\n",
       "    <tr>\n",
       "      <th>1</th>\n",
       "      <td>2021-10-24 22:30</td>\n",
       "    </tr>\n",
       "  </tbody>\n",
       "</table>\n",
       "</div>"
      ],
      "text/plain": [
       "        RECORD_TIME\n",
       "0  2021-10-24 23:00\n",
       "1  2021-10-24 22:30"
      ]
     },
     "execution_count": 3,
     "metadata": {},
     "output_type": "execute_result"
    }
   ],
   "source": [
    "timestamps"
   ]
  },
  {
   "cell_type": "code",
   "execution_count": 4,
   "id": "alternate-victory",
   "metadata": {
    "execution": {
     "iopub.execute_input": "2021-10-24T21:00:09.356057Z",
     "iopub.status.busy": "2021-10-24T21:00:09.354200Z",
     "iopub.status.idle": "2021-10-24T21:00:10.249746Z",
     "shell.execute_reply": "2021-10-24T21:00:10.251016Z"
    },
    "papermill": {
     "duration": 0.925955,
     "end_time": "2021-10-24T21:00:10.251411",
     "exception": false,
     "start_time": "2021-10-24T21:00:09.325456",
     "status": "completed"
    },
    "tags": []
   },
   "outputs": [],
   "source": [
    "df = pd.read_sql(\"select * from EBAY_TOP_BERLIN where record_time in (select distinct record_time from EBAY_TOP_BERLIN order by record_time desc limit 2)\", sqlite3.connect(\"UsedObjects.db\"))"
   ]
  },
  {
   "cell_type": "code",
   "execution_count": 5,
   "id": "popular-active",
   "metadata": {
    "execution": {
     "iopub.execute_input": "2021-10-24T21:00:10.321259Z",
     "iopub.status.busy": "2021-10-24T21:00:10.308672Z",
     "iopub.status.idle": "2021-10-24T21:00:10.337618Z",
     "shell.execute_reply": "2021-10-24T21:00:10.339003Z"
    },
    "papermill": {
     "duration": 0.067317,
     "end_time": "2021-10-24T21:00:10.339443",
     "exception": false,
     "start_time": "2021-10-24T21:00:10.272126",
     "status": "completed"
    },
    "tags": []
   },
   "outputs": [],
   "source": [
    "df_pivot = df.pivot_table(index=\"PRODUCT\", columns = \"RECORD_TIME\", values = \"LISTING_COUNT\")"
   ]
  },
  {
   "cell_type": "code",
   "execution_count": 6,
   "id": "union-huntington",
   "metadata": {
    "execution": {
     "iopub.execute_input": "2021-10-24T21:00:10.395985Z",
     "iopub.status.busy": "2021-10-24T21:00:10.393869Z",
     "iopub.status.idle": "2021-10-24T21:00:10.399353Z",
     "shell.execute_reply": "2021-10-24T21:00:10.400634Z"
    },
    "papermill": {
     "duration": 0.041125,
     "end_time": "2021-10-24T21:00:10.401113",
     "exception": false,
     "start_time": "2021-10-24T21:00:10.359988",
     "status": "completed"
    },
    "tags": []
   },
   "outputs": [],
   "source": [
    "df_pivot.columns = [\"stamp_1\", \"stamp_2\"]\n",
    "df_pivot_diff = df_pivot.diff(axis=1)"
   ]
  },
  {
   "cell_type": "code",
   "execution_count": 7,
   "id": "fifth-motion",
   "metadata": {
    "execution": {
     "iopub.execute_input": "2021-10-24T21:00:10.455208Z",
     "iopub.status.busy": "2021-10-24T21:00:10.452849Z",
     "iopub.status.idle": "2021-10-24T21:00:11.955753Z",
     "shell.execute_reply": "2021-10-24T21:00:11.957328Z"
    },
    "papermill": {
     "duration": 1.536036,
     "end_time": "2021-10-24T21:00:11.957790",
     "exception": false,
     "start_time": "2021-10-24T21:00:10.421754",
     "status": "completed"
    },
    "tags": []
   },
   "outputs": [
    {
     "data": {
      "text/plain": [
       "<AxesSubplot:ylabel='PRODUCT'>"
      ]
     },
     "execution_count": 7,
     "metadata": {},
     "output_type": "execute_result"
    },
    {
     "data": {
      "image/png": "[encoded data removed]",
      "text/plain": [
       "<Figure size 432x288 with 1 Axes>"
      ]
     },
     "metadata": {
      "needs_background": "light"
     },
     "output_type": "display_data"
    }
   ],
   "source": [
    "df_pivot_diff.sort_values(\"stamp_2\", ascending = False)[\"stamp_2\"].head(10).plot.barh()"
   ]
  },
  {
   "cell_type": "code",
   "execution_count": null,
   "id": "extra-executive",
   "metadata": {
    "papermill": {
     "duration": 0.022153,
     "end_time": "2021-10-24T21:00:12.006717",
     "exception": false,
     "start_time": "2021-10-24T21:00:11.984564",
     "status": "completed"
    },
    "tags": []
   },
   "outputs": [],
   "source": []
  }
 ],
 "metadata": {
  "kernelspec": {
   "display_name": "Python 3",
   "language": "python",
   "name": "python3"
  },
  "language_info": {
   "codemirror_mode": {
    "name": "ipython",
    "version": 3
   },
   "file_extension": ".py",
   "mimetype": "text/x-python",
   "name": "python",
   "nbconvert_exporter": "python",
   "pygments_lexer": "ipython3",
   "version": "3.9.5"
  },
  "papermill": {
   "default_parameters": {},
   "duration": 7.422163,
   "end_time": "2021-10-24T21:00:12.648077",
   "environment_variables": {},
   "exception": null,
   "input_path": "eBay_Overview.ipynb",
   "output_path": "eBay_Overview.ipynb",
   "parameters": {},
   "start_time": "2021-10-24T21:00:05.225914",
   "version": "2.3.3"
  }
 },
 "nbformat": 4,
 "nbformat_minor": 5
}