{
 "cells": [
  {
   "cell_type": "code",
   "execution_count": 1,
   "id": "reverse-picking",
   "metadata": {
    "execution": {
     "iopub.execute_input": "2021-10-13T04:00:06.802086Z",
     "iopub.status.busy": "2021-10-13T04:00:06.800129Z",
     "iopub.status.idle": "2021-10-13T04:00:07.601947Z",
     "shell.execute_reply": "2021-10-13T04:00:07.600228Z"
    },
    "papermill": {
     "duration": 0.851023,
     "end_time": "2021-10-13T04:00:07.602376",
     "exception": false,
     "start_time": "2021-10-13T04:00:06.751353",
     "status": "completed"
    },
    "tags": []
   },
   "outputs": [],
   "source": [
    "import pandas as pd\n",
    "import sqlite3"
   ]
  },
  {
   "cell_type": "code",
   "execution_count": 2,
   "id": "innovative-syndrome",
   "metadata": {
    "execution": {
     "iopub.execute_input": "2021-10-13T04:00:07.652872Z",
     "iopub.status.busy": "2021-10-13T04:00:07.650774Z",
     "iopub.status.idle": "2021-10-13T04:00:08.172519Z",
     "shell.execute_reply": "2021-10-13T04:00:08.170876Z"
    },
    "papermill": {
     "duration": 0.550617,
     "end_time": "2021-10-13T04:00:08.173038",
     "exception": false,
     "start_time": "2021-10-13T04:00:07.622421",
     "status": "completed"
    },
    "tags": []
   },
   "outputs": [],
   "source": [
    "timestamps = pd.read_sql(\"select distinct record_time from EBAY_TOP_BERLIN order by record_time desc limit 2\", sqlite3.connect(\"UsedObjects.db\"))"
   ]
  },
  {
   "cell_type": "code",
   "execution_count": 3,
   "id": "periodic-identification",
   "metadata": {
    "execution": {
     "iopub.execute_input": "2021-10-13T04:00:08.240379Z",
     "iopub.status.busy": "2021-10-13T04:00:08.238370Z",
     "iopub.status.idle": "2021-10-13T04:00:08.258939Z",
     "shell.execute_reply": "2021-10-13T04:00:08.260119Z"
    },
    "papermill": {
     "duration": 0.06614,
     "end_time": "2021-10-13T04:00:08.260542",
     "exception": false,
     "start_time": "2021-10-13T04:00:08.194402",
     "status": "completed"
    },
    "tags": []
   },
   "outputs": [
    {
     "data": {
      "text/html": [
       "<div>\n",
       "<style scoped>\n",
       "    .dataframe tbody tr th:only-of-type {\n",
       "        vertical-align: middle;\n",
       "    }\n",
       "\n",
       "    .dataframe tbody tr th {\n",
       "        vertical-align: top;\n",
       "    }\n",
       "\n",
       "    .dataframe thead th {\n",
       "        text-align: right;\n",
       "    }\n",
       "</style>\n",
       "<table border=\"1\" class=\"dataframe\">\n",
       "  <thead>\n",
       "    <tr style=\"text-align: right;\">\n",
       "      <th></th>\n",
       "      <th>RECORD_TIME</th>\n",
       "    </tr>\n",
       "  </thead>\n",
       "  <tbody>\n",
       "    <tr>\n",
       "      <th>0</th>\n",
       "      <td>2021-10-13 06:00</td>\n",
       "    </tr>\n",
       "    <tr>\n",
       "      <th>1</th>\n",
       "      <td>2021-10-13 05:30</td>\n",
       "    </tr>\n",
       "  </tbody>\n",
       "</table>\n",
       "</div>"
      ],
      "text/plain": [
       "        RECORD_TIME\n",
       "0  2021-10-13 06:00\n",
       "1  2021-10-13 05:30"
      ]
     },
     "execution_count": 3,
     "metadata": {},
     "output_type": "execute_result"
    }
   ],
   "source": [
    "timestamps"
   ]
  },
  {
   "cell_type": "code",
   "execution_count": 4,
   "id": "alternate-victory",
   "metadata": {
    "execution": {
     "iopub.execute_input": "2021-10-13T04:00:08.311804Z",
     "iopub.status.busy": "2021-10-13T04:00:08.309986Z",
     "iopub.status.idle": "2021-10-13T04:00:09.078080Z",
     "shell.execute_reply": "2021-10-13T04:00:09.079290Z"
    },
    "papermill": {
     "duration": 0.797638,
     "end_time": "2021-10-13T04:00:09.079676",
     "exception": false,
     "start_time": "2021-10-13T04:00:08.282038",
     "status": "completed"
    },
    "tags": []
   },
   "outputs": [],
   "source": [
    "df = pd.read_sql(\"select * from EBAY_TOP_BERLIN where record_time in (select distinct record_time from EBAY_TOP_BERLIN order by record_time desc limit 2)\", sqlite3.connect(\"UsedObjects.db\"))"
   ]
  },
  {
   "cell_type": "code",
   "execution_count": 5,
   "id": "popular-active",
   "metadata": {
    "execution": {
     "iopub.execute_input": "2021-10-13T04:00:09.152157Z",
     "iopub.status.busy": "2021-10-13T04:00:09.140409Z",
     "iopub.status.idle": "2021-10-13T04:00:09.167757Z",
     "shell.execute_reply": "2021-10-13T04:00:09.169091Z"
    },
    "papermill": {
     "duration": 0.067525,
     "end_time": "2021-10-13T04:00:09.169547",
     "exception": false,
     "start_time": "2021-10-13T04:00:09.102022",
     "status": "completed"
    },
    "tags": []
   },
   "outputs": [],
   "source": [
    "df_pivot = df.pivot_table(index=\"PRODUCT\", columns = \"RECORD_TIME\", values = \"LISTING_COUNT\")"
   ]
  },
  {
   "cell_type": "code",
   "execution_count": 6,
   "id": "union-huntington",
   "metadata": {
    "execution": {
     "iopub.execute_input": "2021-10-13T04:00:09.225926Z",
     "iopub.status.busy": "2021-10-13T04:00:09.223741Z",
     "iopub.status.idle": "2021-10-13T04:00:09.229412Z",
     "shell.execute_reply": "2021-10-13T04:00:09.230695Z"
    },
    "papermill": {
     "duration": 0.040488,
     "end_time": "2021-10-13T04:00:09.231142",
     "exception": false,
     "start_time": "2021-10-13T04:00:09.190654",
     "status": "completed"
    },
    "tags": []
   },
   "outputs": [],
   "source": [
    "df_pivot.columns = [\"stamp_1\", \"stamp_2\"]\n",
    "df_pivot_diff = df_pivot.diff(axis=1)"
   ]
  },
  {
   "cell_type": "code",
   "execution_count": 7,
   "id": "fifth-motion",
   "metadata": {
    "execution": {
     "iopub.execute_input": "2021-10-13T04:00:09.285589Z",
     "iopub.status.busy": "2021-10-13T04:00:09.282983Z",
     "iopub.status.idle": "2021-10-13T04:00:10.811681Z",
     "shell.execute_reply": "2021-10-13T04:00:10.813268Z"
    },
    "papermill": {
     "duration": 1.561621,
     "end_time": "2021-10-13T04:00:10.813728",
     "exception": false,
     "start_time": "2021-10-13T04:00:09.252107",
     "status": "completed"
    },
    "tags": []
   },
   "outputs": [
    {
     "data": {
      "text/plain": [
       "<AxesSubplot:ylabel='PRODUCT'>"
      ]
     },
     "execution_count": 7,
     "metadata": {},
     "output_type": "execute_result"
    },
    {
     "data": {
      "image/png": "[encoded data removed]",
      "text/plain": [
       "<Figure size 432x288 with 1 Axes>"
      ]
     },
     "metadata": {
      "needs_background": "light"
     },
     "output_type": "display_data"
    }
   ],
   "source": [
    "df_pivot_diff.sort_values(\"stamp_2\", ascending = False)[\"stamp_2\"].head(10).plot.barh()"
   ]
  },
  {
   "cell_type": "code",
   "execution_count": null,
   "id": "extra-executive",
   "metadata": {
    "papermill": {
     "duration": 0.021974,
     "end_time": "2021-10-13T04:00:10.860514",
     "exception": false,
     "start_time": "2021-10-13T04:00:10.838540",
     "status": "completed"
    },
    "tags": []
   },
   "outputs": [],
   "source": []
  }
 ],
 "metadata": {
  "kernelspec": {
   "display_name": "Python 3",
   "language": "python",
   "name": "python3"
  },
  "language_info": {
   "codemirror_mode": {
    "name": "ipython",
    "version": 3
   },
   "file_extension": ".py",
   "mimetype": "text/x-python",
   "name": "python",
   "nbconvert_exporter": "python",
   "pygments_lexer": "ipython3",
   "version": "3.9.5"
  },
  "papermill": {
   "default_parameters": {},
   "duration": 7.828438,
   "end_time": "2021-10-13T04:00:12.182658",
   "environment_variables": {},
   "exception": null,
   "input_path": "eBay_Overview.ipynb",
   "output_path": "eBay_Overview.ipynb",
   "parameters": {},
   "start_time": "2021-10-13T04:00:04.354220",
   "version": "2.3.3"
  }
 },
 "nbformat": 4,
 "nbformat_minor": 5
}