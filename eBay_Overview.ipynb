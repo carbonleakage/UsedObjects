{
 "cells": [
  {
   "cell_type": "code",
   "execution_count": 1,
   "id": "reverse-picking",
   "metadata": {
    "execution": {
     "iopub.execute_input": "2021-09-06T15:00:07.312236Z",
     "iopub.status.busy": "2021-09-06T15:00:07.310286Z",
     "iopub.status.idle": "2021-09-06T15:00:08.116717Z",
     "shell.execute_reply": "2021-09-06T15:00:08.117946Z"
    },
    "papermill": {
     "duration": 0.857548,
     "end_time": "2021-09-06T15:00:08.118570",
     "exception": false,
     "start_time": "2021-09-06T15:00:07.261022",
     "status": "completed"
    },
    "tags": []
   },
   "outputs": [],
   "source": [
    "import pandas as pd\n",
    "import sqlite3"
   ]
  },
  {
   "cell_type": "code",
   "execution_count": 2,
   "id": "innovative-syndrome",
   "metadata": {
    "execution": {
     "iopub.execute_input": "2021-09-06T15:00:08.168597Z",
     "iopub.status.busy": "2021-09-06T15:00:08.166648Z",
     "iopub.status.idle": "2021-09-06T15:00:08.387619Z",
     "shell.execute_reply": "2021-09-06T15:00:08.389039Z"
    },
    "papermill": {
     "duration": 0.25036,
     "end_time": "2021-09-06T15:00:08.389477",
     "exception": false,
     "start_time": "2021-09-06T15:00:08.139117",
     "status": "completed"
    },
    "tags": []
   },
   "outputs": [],
   "source": [
    "timestamps = pd.read_sql(\"select distinct record_time from EBAY_TOP_BERLIN order by record_time desc limit 2\", sqlite3.connect(\"UsedObjects.db\"))"
   ]
  },
  {
   "cell_type": "code",
   "execution_count": 3,
   "id": "periodic-identification",
   "metadata": {
    "execution": {
     "iopub.execute_input": "2021-09-06T15:00:08.454048Z",
     "iopub.status.busy": "2021-09-06T15:00:08.451873Z",
     "iopub.status.idle": "2021-09-06T15:00:08.471881Z",
     "shell.execute_reply": "2021-09-06T15:00:08.473089Z"
    },
    "papermill": {
     "duration": 0.06512,
     "end_time": "2021-09-06T15:00:08.473478",
     "exception": false,
     "start_time": "2021-09-06T15:00:08.408358",
     "status": "completed"
    },
    "tags": []
   },
   "outputs": [
    {
     "data": {
      "text/html": [
       "<div>\n",
       "<style scoped>\n",
       "    .dataframe tbody tr th:only-of-type {\n",
       "        vertical-align: middle;\n",
       "    }\n",
       "\n",
       "    .dataframe tbody tr th {\n",
       "        vertical-align: top;\n",
       "    }\n",
       "\n",
       "    .dataframe thead th {\n",
       "        text-align: right;\n",
       "    }\n",
       "</style>\n",
       "<table border=\"1\" class=\"dataframe\">\n",
       "  <thead>\n",
       "    <tr style=\"text-align: right;\">\n",
       "      <th></th>\n",
       "      <th>RECORD_TIME</th>\n",
       "    </tr>\n",
       "  </thead>\n",
       "  <tbody>\n",
       "    <tr>\n",
       "      <th>0</th>\n",
       "      <td>2021-09-06 17:00</td>\n",
       "    </tr>\n",
       "    <tr>\n",
       "      <th>1</th>\n",
       "      <td>2021-09-06 16:30</td>\n",
       "    </tr>\n",
       "  </tbody>\n",
       "</table>\n",
       "</div>"
      ],
      "text/plain": [
       "        RECORD_TIME\n",
       "0  2021-09-06 17:00\n",
       "1  2021-09-06 16:30"
      ]
     },
     "execution_count": 3,
     "metadata": {},
     "output_type": "execute_result"
    }
   ],
   "source": [
    "timestamps"
   ]
  },
  {
   "cell_type": "code",
   "execution_count": 4,
   "id": "alternate-victory",
   "metadata": {
    "execution": {
     "iopub.execute_input": "2021-09-06T15:00:08.524945Z",
     "iopub.status.busy": "2021-09-06T15:00:08.522741Z",
     "iopub.status.idle": "2021-09-06T15:00:08.852718Z",
     "shell.execute_reply": "2021-09-06T15:00:08.853913Z"
    },
    "papermill": {
     "duration": 0.359528,
     "end_time": "2021-09-06T15:00:08.854305",
     "exception": false,
     "start_time": "2021-09-06T15:00:08.494777",
     "status": "completed"
    },
    "tags": []
   },
   "outputs": [],
   "source": [
    "df = pd.read_sql(\"select * from EBAY_TOP_BERLIN where record_time in (select distinct record_time from EBAY_TOP_BERLIN order by record_time desc limit 2)\", sqlite3.connect(\"UsedObjects.db\"))"
   ]
  },
  {
   "cell_type": "code",
   "execution_count": 5,
   "id": "popular-active",
   "metadata": {
    "execution": {
     "iopub.execute_input": "2021-09-06T15:00:08.934711Z",
     "iopub.status.busy": "2021-09-06T15:00:08.922030Z",
     "iopub.status.idle": "2021-09-06T15:00:08.952717Z",
     "shell.execute_reply": "2021-09-06T15:00:08.954089Z"
    },
    "papermill": {
     "duration": 0.074809,
     "end_time": "2021-09-06T15:00:08.954522",
     "exception": false,
     "start_time": "2021-09-06T15:00:08.879713",
     "status": "completed"
    },
    "tags": []
   },
   "outputs": [],
   "source": [
    "df_pivot = df.pivot_table(index=\"PRODUCT\", columns = \"RECORD_TIME\", values = \"LISTING_COUNT\")"
   ]
  },
  {
   "cell_type": "code",
   "execution_count": 6,
   "id": "union-huntington",
   "metadata": {
    "execution": {
     "iopub.execute_input": "2021-09-06T15:00:09.011179Z",
     "iopub.status.busy": "2021-09-06T15:00:09.009125Z",
     "iopub.status.idle": "2021-09-06T15:00:09.014471Z",
     "shell.execute_reply": "2021-09-06T15:00:09.015842Z"
    },
    "papermill": {
     "duration": 0.041031,
     "end_time": "2021-09-06T15:00:09.016260",
     "exception": false,
     "start_time": "2021-09-06T15:00:08.975229",
     "status": "completed"
    },
    "tags": []
   },
   "outputs": [],
   "source": [
    "df_pivot.columns = [\"stamp_1\", \"stamp_2\"]\n",
    "df_pivot_diff = df_pivot.diff(axis=1)"
   ]
  },
  {
   "cell_type": "code",
   "execution_count": 7,
   "id": "fifth-motion",
   "metadata": {
    "execution": {
     "iopub.execute_input": "2021-09-06T15:00:09.072216Z",
     "iopub.status.busy": "2021-09-06T15:00:09.068038Z",
     "iopub.status.idle": "2021-09-06T15:00:10.582510Z",
     "shell.execute_reply": "2021-09-06T15:00:10.583839Z"
    },
    "papermill": {
     "duration": 1.54701,
     "end_time": "2021-09-06T15:00:10.584250",
     "exception": false,
     "start_time": "2021-09-06T15:00:09.037240",
     "status": "completed"
    },
    "tags": []
   },
   "outputs": [
    {
     "data": {
      "text/plain": [
       "<AxesSubplot:ylabel='PRODUCT'>"
      ]
     },
     "execution_count": 7,
     "metadata": {},
     "output_type": "execute_result"
    },
    {
     "data": {
      "image/png": "[encoded data removed]",
      "text/plain": [
       "<Figure size 432x288 with 1 Axes>"
      ]
     },
     "metadata": {
      "needs_background": "light"
     },
     "output_type": "display_data"
    }
   ],
   "source": [
    "df_pivot_diff.sort_values(\"stamp_2\", ascending = False)[\"stamp_2\"].head(10).plot.barh()"
   ]
  },
  {
   "cell_type": "code",
   "execution_count": null,
   "id": "extra-executive",
   "metadata": {
    "papermill": {
     "duration": 0.022125,
     "end_time": "2021-09-06T15:00:10.630945",
     "exception": false,
     "start_time": "2021-09-06T15:00:10.608820",
     "status": "completed"
    },
    "tags": []
   },
   "outputs": [],
   "source": []
  }
 ],
 "metadata": {
  "kernelspec": {
   "display_name": "Python 3",
   "language": "python",
   "name": "python3"
  },
  "language_info": {
   "codemirror_mode": {
    "name": "ipython",
    "version": 3
   },
   "file_extension": ".py",
   "mimetype": "text/x-python",
   "name": "python",
   "nbconvert_exporter": "python",
   "pygments_lexer": "ipython3",
   "version": "3.9.5"
  },
  "papermill": {
   "default_parameters": {},
   "duration": 6.417504,
   "end_time": "2021-09-06T15:00:11.273510",
   "environment_variables": {},
   "exception": null,
   "input_path": "eBay_Overview.ipynb",
   "output_path": "eBay_Overview.ipynb",
   "parameters": {},
   "start_time": "2021-09-06T15:00:04.856006",
   "version": "2.3.3"
  }
 },
 "nbformat": 4,
 "nbformat_minor": 5
}