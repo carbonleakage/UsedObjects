{
 "cells": [
  {
   "cell_type": "code",
   "execution_count": 1,
   "id": "reverse-picking",
   "metadata": {
    "execution": {
     "iopub.execute_input": "2021-09-19T04:30:07.440466Z",
     "iopub.status.busy": "2021-09-19T04:30:07.438456Z",
     "iopub.status.idle": "2021-09-19T04:30:08.241747Z",
     "shell.execute_reply": "2021-09-19T04:30:08.240023Z"
    },
    "papermill": {
     "duration": 0.854001,
     "end_time": "2021-09-19T04:30:08.242188",
     "exception": false,
     "start_time": "2021-09-19T04:30:07.388187",
     "status": "completed"
    },
    "tags": []
   },
   "outputs": [],
   "source": [
    "import pandas as pd\n",
    "import sqlite3"
   ]
  },
  {
   "cell_type": "code",
   "execution_count": 2,
   "id": "innovative-syndrome",
   "metadata": {
    "execution": {
     "iopub.execute_input": "2021-09-19T04:30:08.293017Z",
     "iopub.status.busy": "2021-09-19T04:30:08.290648Z",
     "iopub.status.idle": "2021-09-19T04:30:08.608895Z",
     "shell.execute_reply": "2021-09-19T04:30:08.610086Z"
    },
    "papermill": {
     "duration": 0.347992,
     "end_time": "2021-09-19T04:30:08.610484",
     "exception": false,
     "start_time": "2021-09-19T04:30:08.262492",
     "status": "completed"
    },
    "tags": []
   },
   "outputs": [],
   "source": [
    "timestamps = pd.read_sql(\"select distinct record_time from EBAY_TOP_BERLIN order by record_time desc limit 2\", sqlite3.connect(\"UsedObjects.db\"))"
   ]
  },
  {
   "cell_type": "code",
   "execution_count": 3,
   "id": "periodic-identification",
   "metadata": {
    "execution": {
     "iopub.execute_input": "2021-09-19T04:30:08.675163Z",
     "iopub.status.busy": "2021-09-19T04:30:08.673067Z",
     "iopub.status.idle": "2021-09-19T04:30:08.693526Z",
     "shell.execute_reply": "2021-09-19T04:30:08.694953Z"
    },
    "papermill": {
     "duration": 0.065692,
     "end_time": "2021-09-19T04:30:08.695400",
     "exception": false,
     "start_time": "2021-09-19T04:30:08.629708",
     "status": "completed"
    },
    "tags": []
   },
   "outputs": [
    {
     "data": {
      "text/html": [
       "<div>\n",
       "<style scoped>\n",
       "    .dataframe tbody tr th:only-of-type {\n",
       "        vertical-align: middle;\n",
       "    }\n",
       "\n",
       "    .dataframe tbody tr th {\n",
       "        vertical-align: top;\n",
       "    }\n",
       "\n",
       "    .dataframe thead th {\n",
       "        text-align: right;\n",
       "    }\n",
       "</style>\n",
       "<table border=\"1\" class=\"dataframe\">\n",
       "  <thead>\n",
       "    <tr style=\"text-align: right;\">\n",
       "      <th></th>\n",
       "      <th>RECORD_TIME</th>\n",
       "    </tr>\n",
       "  </thead>\n",
       "  <tbody>\n",
       "    <tr>\n",
       "      <th>0</th>\n",
       "      <td>2021-09-19 06:30</td>\n",
       "    </tr>\n",
       "    <tr>\n",
       "      <th>1</th>\n",
       "      <td>2021-09-19 06:00</td>\n",
       "    </tr>\n",
       "  </tbody>\n",
       "</table>\n",
       "</div>"
      ],
      "text/plain": [
       "        RECORD_TIME\n",
       "0  2021-09-19 06:30\n",
       "1  2021-09-19 06:00"
      ]
     },
     "execution_count": 3,
     "metadata": {},
     "output_type": "execute_result"
    }
   ],
   "source": [
    "timestamps"
   ]
  },
  {
   "cell_type": "code",
   "execution_count": 4,
   "id": "alternate-victory",
   "metadata": {
    "execution": {
     "iopub.execute_input": "2021-09-19T04:30:08.746825Z",
     "iopub.status.busy": "2021-09-19T04:30:08.744978Z",
     "iopub.status.idle": "2021-09-19T04:30:09.218773Z",
     "shell.execute_reply": "2021-09-19T04:30:09.220263Z"
    },
    "papermill": {
     "duration": 0.503969,
     "end_time": "2021-09-19T04:30:09.220718",
     "exception": false,
     "start_time": "2021-09-19T04:30:08.716749",
     "status": "completed"
    },
    "tags": []
   },
   "outputs": [],
   "source": [
    "df = pd.read_sql(\"select * from EBAY_TOP_BERLIN where record_time in (select distinct record_time from EBAY_TOP_BERLIN order by record_time desc limit 2)\", sqlite3.connect(\"UsedObjects.db\"))"
   ]
  },
  {
   "cell_type": "code",
   "execution_count": 5,
   "id": "popular-active",
   "metadata": {
    "execution": {
     "iopub.execute_input": "2021-09-19T04:30:09.305515Z",
     "iopub.status.busy": "2021-09-19T04:30:09.293819Z",
     "iopub.status.idle": "2021-09-19T04:30:09.321348Z",
     "shell.execute_reply": "2021-09-19T04:30:09.322631Z"
    },
    "papermill": {
     "duration": 0.073569,
     "end_time": "2021-09-19T04:30:09.323107",
     "exception": false,
     "start_time": "2021-09-19T04:30:09.249538",
     "status": "completed"
    },
    "tags": []
   },
   "outputs": [],
   "source": [
    "df_pivot = df.pivot_table(index=\"PRODUCT\", columns = \"RECORD_TIME\", values = \"LISTING_COUNT\")"
   ]
  },
  {
   "cell_type": "code",
   "execution_count": 6,
   "id": "union-huntington",
   "metadata": {
    "execution": {
     "iopub.execute_input": "2021-09-19T04:30:09.379085Z",
     "iopub.status.busy": "2021-09-19T04:30:09.377006Z",
     "iopub.status.idle": "2021-09-19T04:30:09.382355Z",
     "shell.execute_reply": "2021-09-19T04:30:09.383829Z"
    },
    "papermill": {
     "duration": 0.041056,
     "end_time": "2021-09-19T04:30:09.384290",
     "exception": false,
     "start_time": "2021-09-19T04:30:09.343234",
     "status": "completed"
    },
    "tags": []
   },
   "outputs": [],
   "source": [
    "df_pivot.columns = [\"stamp_1\", \"stamp_2\"]\n",
    "df_pivot_diff = df_pivot.diff(axis=1)"
   ]
  },
  {
   "cell_type": "code",
   "execution_count": 7,
   "id": "fifth-motion",
   "metadata": {
    "execution": {
     "iopub.execute_input": "2021-09-19T04:30:09.439058Z",
     "iopub.status.busy": "2021-09-19T04:30:09.436636Z",
     "iopub.status.idle": "2021-09-19T04:30:10.909860Z",
     "shell.execute_reply": "2021-09-19T04:30:10.911281Z"
    },
    "papermill": {
     "duration": 1.50614,
     "end_time": "2021-09-19T04:30:10.911746",
     "exception": false,
     "start_time": "2021-09-19T04:30:09.405606",
     "status": "completed"
    },
    "tags": []
   },
   "outputs": [
    {
     "data": {
      "text/plain": [
       "<AxesSubplot:ylabel='PRODUCT'>"
      ]
     },
     "execution_count": 7,
     "metadata": {},
     "output_type": "execute_result"
    },
    {
     "data": {
      "image/png": "[encoded data removed]",
      "text/plain": [
       "<Figure size 432x288 with 1 Axes>"
      ]
     },
     "metadata": {
      "needs_background": "light"
     },
     "output_type": "display_data"
    }
   ],
   "source": [
    "df_pivot_diff.sort_values(\"stamp_2\", ascending = False)[\"stamp_2\"].head(10).plot.barh()"
   ]
  },
  {
   "cell_type": "code",
   "execution_count": null,
   "id": "extra-executive",
   "metadata": {
    "papermill": {
     "duration": 0.021908,
     "end_time": "2021-09-19T04:30:10.957464",
     "exception": false,
     "start_time": "2021-09-19T04:30:10.935556",
     "status": "completed"
    },
    "tags": []
   },
   "outputs": [],
   "source": []
  }
 ],
 "metadata": {
  "kernelspec": {
   "display_name": "Python 3",
   "language": "python",
   "name": "python3"
  },
  "language_info": {
   "codemirror_mode": {
    "name": "ipython",
    "version": 3
   },
   "file_extension": ".py",
   "mimetype": "text/x-python",
   "name": "python",
   "nbconvert_exporter": "python",
   "pygments_lexer": "ipython3",
   "version": "3.9.5"
  },
  "papermill": {
   "default_parameters": {},
   "duration": 6.607528,
   "end_time": "2021-09-19T04:30:11.599753",
   "environment_variables": {},
   "exception": null,
   "input_path": "eBay_Overview.ipynb",
   "output_path": "eBay_Overview.ipynb",
   "parameters": {},
   "start_time": "2021-09-19T04:30:04.992225",
   "version": "2.3.3"
  }
 },
 "nbformat": 4,
 "nbformat_minor": 5
}