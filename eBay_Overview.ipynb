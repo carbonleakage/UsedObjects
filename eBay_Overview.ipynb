{
 "cells": [
  {
   "cell_type": "code",
   "execution_count": 1,
   "id": "reverse-picking",
   "metadata": {
    "execution": {
     "iopub.execute_input": "2021-08-17T05:30:06.691836Z",
     "iopub.status.busy": "2021-08-17T05:30:06.689817Z",
     "iopub.status.idle": "2021-08-17T05:30:07.498263Z",
     "shell.execute_reply": "2021-08-17T05:30:07.499576Z"
    },
    "papermill": {
     "duration": 0.859955,
     "end_time": "2021-08-17T05:30:07.500207",
     "exception": false,
     "start_time": "2021-08-17T05:30:06.640252",
     "status": "completed"
    },
    "tags": []
   },
   "outputs": [],
   "source": [
    "import pandas as pd\n",
    "import sqlite3"
   ]
  },
  {
   "cell_type": "code",
   "execution_count": 2,
   "id": "innovative-syndrome",
   "metadata": {
    "execution": {
     "iopub.execute_input": "2021-08-17T05:30:07.551611Z",
     "iopub.status.busy": "2021-08-17T05:30:07.549463Z",
     "iopub.status.idle": "2021-08-17T05:30:07.615512Z",
     "shell.execute_reply": "2021-08-17T05:30:07.616731Z"
    },
    "papermill": {
     "duration": 0.095539,
     "end_time": "2021-08-17T05:30:07.617130",
     "exception": false,
     "start_time": "2021-08-17T05:30:07.521591",
     "status": "completed"
    },
    "tags": []
   },
   "outputs": [],
   "source": [
    "timestamps = pd.read_sql(\"select distinct record_time from EBAY_TOP_BERLIN order by record_time desc limit 2\", sqlite3.connect(\"UsedObjects.db\"))"
   ]
  },
  {
   "cell_type": "code",
   "execution_count": 3,
   "id": "periodic-identification",
   "metadata": {
    "execution": {
     "iopub.execute_input": "2021-08-17T05:30:07.681179Z",
     "iopub.status.busy": "2021-08-17T05:30:07.679139Z",
     "iopub.status.idle": "2021-08-17T05:30:07.700740Z",
     "shell.execute_reply": "2021-08-17T05:30:07.699409Z"
    },
    "papermill": {
     "duration": 0.064923,
     "end_time": "2021-08-17T05:30:07.701113",
     "exception": false,
     "start_time": "2021-08-17T05:30:07.636190",
     "status": "completed"
    },
    "tags": []
   },
   "outputs": [
    {
     "data": {
      "text/html": [
       "<div>\n",
       "<style scoped>\n",
       "    .dataframe tbody tr th:only-of-type {\n",
       "        vertical-align: middle;\n",
       "    }\n",
       "\n",
       "    .dataframe tbody tr th {\n",
       "        vertical-align: top;\n",
       "    }\n",
       "\n",
       "    .dataframe thead th {\n",
       "        text-align: right;\n",
       "    }\n",
       "</style>\n",
       "<table border=\"1\" class=\"dataframe\">\n",
       "  <thead>\n",
       "    <tr style=\"text-align: right;\">\n",
       "      <th></th>\n",
       "      <th>RECORD_TIME</th>\n",
       "    </tr>\n",
       "  </thead>\n",
       "  <tbody>\n",
       "    <tr>\n",
       "      <th>0</th>\n",
       "      <td>2021-08-17 07:30</td>\n",
       "    </tr>\n",
       "    <tr>\n",
       "      <th>1</th>\n",
       "      <td>2021-08-17 07:00</td>\n",
       "    </tr>\n",
       "  </tbody>\n",
       "</table>\n",
       "</div>"
      ],
      "text/plain": [
       "        RECORD_TIME\n",
       "0  2021-08-17 07:30\n",
       "1  2021-08-17 07:00"
      ]
     },
     "execution_count": 3,
     "metadata": {},
     "output_type": "execute_result"
    }
   ],
   "source": [
    "timestamps"
   ]
  },
  {
   "cell_type": "code",
   "execution_count": 4,
   "id": "alternate-victory",
   "metadata": {
    "execution": {
     "iopub.execute_input": "2021-08-17T05:30:07.754757Z",
     "iopub.status.busy": "2021-08-17T05:30:07.752350Z",
     "iopub.status.idle": "2021-08-17T05:30:07.852687Z",
     "shell.execute_reply": "2021-08-17T05:30:07.853907Z"
    },
    "papermill": {
     "duration": 0.130699,
     "end_time": "2021-08-17T05:30:07.854408",
     "exception": false,
     "start_time": "2021-08-17T05:30:07.723709",
     "status": "completed"
    },
    "tags": []
   },
   "outputs": [],
   "source": [
    "df = pd.read_sql(\"select * from EBAY_TOP_BERLIN where record_time in (select distinct record_time from EBAY_TOP_BERLIN order by record_time desc limit 2)\", sqlite3.connect(\"UsedObjects.db\"))"
   ]
  },
  {
   "cell_type": "code",
   "execution_count": 5,
   "id": "popular-active",
   "metadata": {
    "execution": {
     "iopub.execute_input": "2021-08-17T05:30:07.924609Z",
     "iopub.status.busy": "2021-08-17T05:30:07.912312Z",
     "iopub.status.idle": "2021-08-17T05:30:07.940365Z",
     "shell.execute_reply": "2021-08-17T05:30:07.941663Z"
    },
    "papermill": {
     "duration": 0.067464,
     "end_time": "2021-08-17T05:30:07.942135",
     "exception": false,
     "start_time": "2021-08-17T05:30:07.874671",
     "status": "completed"
    },
    "tags": []
   },
   "outputs": [],
   "source": [
    "df_pivot = df.pivot_table(index=\"PRODUCT\", columns = \"RECORD_TIME\", values = \"LISTING_COUNT\")"
   ]
  },
  {
   "cell_type": "code",
   "execution_count": 6,
   "id": "union-huntington",
   "metadata": {
    "execution": {
     "iopub.execute_input": "2021-08-17T05:30:07.997347Z",
     "iopub.status.busy": "2021-08-17T05:30:07.995287Z",
     "iopub.status.idle": "2021-08-17T05:30:08.002218Z",
     "shell.execute_reply": "2021-08-17T05:30:08.000711Z"
    },
    "papermill": {
     "duration": 0.040456,
     "end_time": "2021-08-17T05:30:08.002619",
     "exception": false,
     "start_time": "2021-08-17T05:30:07.962163",
     "status": "completed"
    },
    "tags": []
   },
   "outputs": [],
   "source": [
    "df_pivot.columns = [\"stamp_1\", \"stamp_2\"]\n",
    "df_pivot_diff = df_pivot.diff(axis=1)"
   ]
  },
  {
   "cell_type": "code",
   "execution_count": 7,
   "id": "fifth-motion",
   "metadata": {
    "execution": {
     "iopub.execute_input": "2021-08-17T05:30:08.060318Z",
     "iopub.status.busy": "2021-08-17T05:30:08.057838Z",
     "iopub.status.idle": "2021-08-17T05:30:09.535840Z",
     "shell.execute_reply": "2021-08-17T05:30:09.537130Z"
    },
    "papermill": {
     "duration": 1.511692,
     "end_time": "2021-08-17T05:30:09.537550",
     "exception": false,
     "start_time": "2021-08-17T05:30:08.025858",
     "status": "completed"
    },
    "tags": []
   },
   "outputs": [
    {
     "data": {
      "text/plain": [
       "<AxesSubplot:ylabel='PRODUCT'>"
      ]
     },
     "execution_count": 7,
     "metadata": {},
     "output_type": "execute_result"
    },
    {
     "data": {
      "image/png": "[encoded data removed]",
      "text/plain": [
       "<Figure size 432x288 with 1 Axes>"
      ]
     },
     "metadata": {
      "needs_background": "light"
     },
     "output_type": "display_data"
    }
   ],
   "source": [
    "df_pivot_diff.sort_values(\"stamp_2\", ascending = False)[\"stamp_2\"].head(10).plot.barh()"
   ]
  },
  {
   "cell_type": "code",
   "execution_count": null,
   "id": "extra-executive",
   "metadata": {
    "papermill": {
     "duration": 0.021833,
     "end_time": "2021-08-17T05:30:09.583948",
     "exception": false,
     "start_time": "2021-08-17T05:30:09.562115",
     "status": "completed"
    },
    "tags": []
   },
   "outputs": [],
   "source": []
  }
 ],
 "metadata": {
  "kernelspec": {
   "display_name": "Python 3",
   "language": "python",
   "name": "python3"
  },
  "language_info": {
   "codemirror_mode": {
    "name": "ipython",
    "version": 3
   },
   "file_extension": ".py",
   "mimetype": "text/x-python",
   "name": "python",
   "nbconvert_exporter": "python",
   "pygments_lexer": "ipython3",
   "version": "3.9.5"
  },
  "papermill": {
   "default_parameters": {},
   "duration": 6.825204,
   "end_time": "2021-08-17T05:30:11.053816",
   "environment_variables": {},
   "exception": null,
   "input_path": "eBay_Overview.ipynb",
   "output_path": "eBay_Overview.ipynb",
   "parameters": {},
   "start_time": "2021-08-17T05:30:04.228612",
   "version": "2.3.3"
  }
 },
 "nbformat": 4,
 "nbformat_minor": 5
}