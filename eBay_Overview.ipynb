{
 "cells": [
  {
   "cell_type": "code",
   "execution_count": 1,
   "id": "reverse-picking",
   "metadata": {
    "execution": {
     "iopub.execute_input": "2021-08-30T22:00:07.451658Z",
     "iopub.status.busy": "2021-08-30T22:00:07.449715Z",
     "iopub.status.idle": "2021-08-30T22:00:08.260960Z",
     "shell.execute_reply": "2021-08-30T22:00:08.259306Z"
    },
    "papermill": {
     "duration": 0.862404,
     "end_time": "2021-08-30T22:00:08.261373",
     "exception": false,
     "start_time": "2021-08-30T22:00:07.398969",
     "status": "completed"
    },
    "tags": []
   },
   "outputs": [],
   "source": [
    "import pandas as pd\n",
    "import sqlite3"
   ]
  },
  {
   "cell_type": "code",
   "execution_count": 2,
   "id": "innovative-syndrome",
   "metadata": {
    "execution": {
     "iopub.execute_input": "2021-08-30T22:00:08.312115Z",
     "iopub.status.busy": "2021-08-30T22:00:08.310267Z",
     "iopub.status.idle": "2021-08-30T22:00:08.491048Z",
     "shell.execute_reply": "2021-08-30T22:00:08.492157Z"
    },
    "papermill": {
     "duration": 0.210428,
     "end_time": "2021-08-30T22:00:08.492756",
     "exception": false,
     "start_time": "2021-08-30T22:00:08.282328",
     "status": "completed"
    },
    "tags": []
   },
   "outputs": [],
   "source": [
    "timestamps = pd.read_sql(\"select distinct record_time from EBAY_TOP_BERLIN order by record_time desc limit 2\", sqlite3.connect(\"UsedObjects.db\"))"
   ]
  },
  {
   "cell_type": "code",
   "execution_count": 3,
   "id": "periodic-identification",
   "metadata": {
    "execution": {
     "iopub.execute_input": "2021-08-30T22:00:08.561704Z",
     "iopub.status.busy": "2021-08-30T22:00:08.559601Z",
     "iopub.status.idle": "2021-08-30T22:00:08.580277Z",
     "shell.execute_reply": "2021-08-30T22:00:08.581523Z"
    },
    "papermill": {
     "duration": 0.067488,
     "end_time": "2021-08-30T22:00:08.581960",
     "exception": false,
     "start_time": "2021-08-30T22:00:08.514472",
     "status": "completed"
    },
    "tags": []
   },
   "outputs": [
    {
     "data": {
      "text/html": [
       "<div>\n",
       "<style scoped>\n",
       "    .dataframe tbody tr th:only-of-type {\n",
       "        vertical-align: middle;\n",
       "    }\n",
       "\n",
       "    .dataframe tbody tr th {\n",
       "        vertical-align: top;\n",
       "    }\n",
       "\n",
       "    .dataframe thead th {\n",
       "        text-align: right;\n",
       "    }\n",
       "</style>\n",
       "<table border=\"1\" class=\"dataframe\">\n",
       "  <thead>\n",
       "    <tr style=\"text-align: right;\">\n",
       "      <th></th>\n",
       "      <th>RECORD_TIME</th>\n",
       "    </tr>\n",
       "  </thead>\n",
       "  <tbody>\n",
       "    <tr>\n",
       "      <th>0</th>\n",
       "      <td>2021-08-31 00:00</td>\n",
       "    </tr>\n",
       "    <tr>\n",
       "      <th>1</th>\n",
       "      <td>2021-08-30 23:30</td>\n",
       "    </tr>\n",
       "  </tbody>\n",
       "</table>\n",
       "</div>"
      ],
      "text/plain": [
       "        RECORD_TIME\n",
       "0  2021-08-31 00:00\n",
       "1  2021-08-30 23:30"
      ]
     },
     "execution_count": 3,
     "metadata": {},
     "output_type": "execute_result"
    }
   ],
   "source": [
    "timestamps"
   ]
  },
  {
   "cell_type": "code",
   "execution_count": 4,
   "id": "alternate-victory",
   "metadata": {
    "execution": {
     "iopub.execute_input": "2021-08-30T22:00:08.635943Z",
     "iopub.status.busy": "2021-08-30T22:00:08.633661Z",
     "iopub.status.idle": "2021-08-30T22:00:08.887208Z",
     "shell.execute_reply": "2021-08-30T22:00:08.888608Z"
    },
    "papermill": {
     "duration": 0.284352,
     "end_time": "2021-08-30T22:00:08.889083",
     "exception": false,
     "start_time": "2021-08-30T22:00:08.604731",
     "status": "completed"
    },
    "tags": []
   },
   "outputs": [],
   "source": [
    "df = pd.read_sql(\"select * from EBAY_TOP_BERLIN where record_time in (select distinct record_time from EBAY_TOP_BERLIN order by record_time desc limit 2)\", sqlite3.connect(\"UsedObjects.db\"))"
   ]
  },
  {
   "cell_type": "code",
   "execution_count": 5,
   "id": "popular-active",
   "metadata": {
    "execution": {
     "iopub.execute_input": "2021-08-30T22:00:08.979088Z",
     "iopub.status.busy": "2021-08-30T22:00:08.976871Z",
     "iopub.status.idle": "2021-08-30T22:00:09.004363Z",
     "shell.execute_reply": "2021-08-30T22:00:09.005665Z"
    },
    "papermill": {
     "duration": 0.075053,
     "end_time": "2021-08-30T22:00:09.006085",
     "exception": false,
     "start_time": "2021-08-30T22:00:08.931032",
     "status": "completed"
    },
    "tags": []
   },
   "outputs": [],
   "source": [
    "df_pivot = df.pivot_table(index=\"PRODUCT\", columns = \"RECORD_TIME\", values = \"LISTING_COUNT\")"
   ]
  },
  {
   "cell_type": "code",
   "execution_count": 6,
   "id": "union-huntington",
   "metadata": {
    "execution": {
     "iopub.execute_input": "2021-08-30T22:00:09.062839Z",
     "iopub.status.busy": "2021-08-30T22:00:09.060785Z",
     "iopub.status.idle": "2021-08-30T22:00:09.066101Z",
     "shell.execute_reply": "2021-08-30T22:00:09.067302Z"
    },
    "papermill": {
     "duration": 0.040444,
     "end_time": "2021-08-30T22:00:09.067732",
     "exception": false,
     "start_time": "2021-08-30T22:00:09.027288",
     "status": "completed"
    },
    "tags": []
   },
   "outputs": [],
   "source": [
    "df_pivot.columns = [\"stamp_1\", \"stamp_2\"]\n",
    "df_pivot_diff = df_pivot.diff(axis=1)"
   ]
  },
  {
   "cell_type": "code",
   "execution_count": 7,
   "id": "fifth-motion",
   "metadata": {
    "execution": {
     "iopub.execute_input": "2021-08-30T22:00:09.125766Z",
     "iopub.status.busy": "2021-08-30T22:00:09.123203Z",
     "iopub.status.idle": "2021-08-30T22:00:10.625984Z",
     "shell.execute_reply": "2021-08-30T22:00:10.627256Z"
    },
    "papermill": {
     "duration": 1.536336,
     "end_time": "2021-08-30T22:00:10.627707",
     "exception": false,
     "start_time": "2021-08-30T22:00:09.091371",
     "status": "completed"
    },
    "tags": []
   },
   "outputs": [
    {
     "data": {
      "text/plain": [
       "<AxesSubplot:ylabel='PRODUCT'>"
      ]
     },
     "execution_count": 7,
     "metadata": {},
     "output_type": "execute_result"
    },
    {
     "data": {
      "image/png": "[encoded data removed]",
      "text/plain": [
       "<Figure size 432x288 with 1 Axes>"
      ]
     },
     "metadata": {
      "needs_background": "light"
     },
     "output_type": "display_data"
    }
   ],
   "source": [
    "df_pivot_diff.sort_values(\"stamp_2\", ascending = False)[\"stamp_2\"].head(10).plot.barh()"
   ]
  },
  {
   "cell_type": "code",
   "execution_count": null,
   "id": "extra-executive",
   "metadata": {
    "papermill": {
     "duration": 0.022446,
     "end_time": "2021-08-30T22:00:10.674650",
     "exception": false,
     "start_time": "2021-08-30T22:00:10.652204",
     "status": "completed"
    },
    "tags": []
   },
   "outputs": [],
   "source": []
  }
 ],
 "metadata": {
  "kernelspec": {
   "display_name": "Python 3",
   "language": "python",
   "name": "python3"
  },
  "language_info": {
   "codemirror_mode": {
    "name": "ipython",
    "version": 3
   },
   "file_extension": ".py",
   "mimetype": "text/x-python",
   "name": "python",
   "nbconvert_exporter": "python",
   "pygments_lexer": "ipython3",
   "version": "3.9.5"
  },
  "papermill": {
   "default_parameters": {},
   "duration": 6.32754,
   "end_time": "2021-08-30T22:00:11.316374",
   "environment_variables": {},
   "exception": null,
   "input_path": "eBay_Overview.ipynb",
   "output_path": "eBay_Overview.ipynb",
   "parameters": {},
   "start_time": "2021-08-30T22:00:04.988834",
   "version": "2.3.3"
  }
 },
 "nbformat": 4,
 "nbformat_minor": 5
}