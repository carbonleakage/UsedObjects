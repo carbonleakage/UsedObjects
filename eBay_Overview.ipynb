{
 "cells": [
  {
   "cell_type": "code",
   "execution_count": 1,
   "id": "reverse-picking",
   "metadata": {
    "execution": {
     "iopub.execute_input": "2021-08-10T13:30:04.130386Z",
     "iopub.status.busy": "2021-08-10T13:30:04.129626Z",
     "iopub.status.idle": "2021-08-10T13:30:04.728087Z",
     "shell.execute_reply": "2021-08-10T13:30:04.728672Z"
    },
    "papermill": {
     "duration": 0.617652,
     "end_time": "2021-08-10T13:30:04.728960",
     "exception": false,
     "start_time": "2021-08-10T13:30:04.111308",
     "status": "completed"
    },
    "tags": []
   },
   "outputs": [],
   "source": [
    "import pandas as pd\n",
    "import sqlite3"
   ]
  },
  {
   "cell_type": "code",
   "execution_count": 2,
   "id": "innovative-syndrome",
   "metadata": {
    "execution": {
     "iopub.execute_input": "2021-08-10T13:30:04.760544Z",
     "iopub.status.busy": "2021-08-10T13:30:04.759386Z",
     "iopub.status.idle": "2021-08-10T13:30:05.057575Z",
     "shell.execute_reply": "2021-08-10T13:30:05.056962Z"
    },
    "papermill": {
     "duration": 0.319843,
     "end_time": "2021-08-10T13:30:05.057725",
     "exception": false,
     "start_time": "2021-08-10T13:30:04.737882",
     "status": "completed"
    },
    "tags": []
   },
   "outputs": [],
   "source": [
    "timestamps = pd.read_sql(\"select distinct record_time from EBAY_TOP_BERLIN order by record_time desc limit 2\", sqlite3.connect(\"UsedObjects.db\"))"
   ]
  },
  {
   "cell_type": "code",
   "execution_count": 3,
   "id": "periodic-identification",
   "metadata": {
    "execution": {
     "iopub.execute_input": "2021-08-10T13:30:05.090099Z",
     "iopub.status.busy": "2021-08-10T13:30:05.089315Z",
     "iopub.status.idle": "2021-08-10T13:30:05.100012Z",
     "shell.execute_reply": "2021-08-10T13:30:05.100539Z"
    },
    "papermill": {
     "duration": 0.030611,
     "end_time": "2021-08-10T13:30:05.100717",
     "exception": false,
     "start_time": "2021-08-10T13:30:05.070106",
     "status": "completed"
    },
    "tags": []
   },
   "outputs": [
    {
     "data": {
      "text/html": [
       "<div>\n",
       "<style scoped>\n",
       "    .dataframe tbody tr th:only-of-type {\n",
       "        vertical-align: middle;\n",
       "    }\n",
       "\n",
       "    .dataframe tbody tr th {\n",
       "        vertical-align: top;\n",
       "    }\n",
       "\n",
       "    .dataframe thead th {\n",
       "        text-align: right;\n",
       "    }\n",
       "</style>\n",
       "<table border=\"1\" class=\"dataframe\">\n",
       "  <thead>\n",
       "    <tr style=\"text-align: right;\">\n",
       "      <th></th>\n",
       "      <th>RECORD_TIME</th>\n",
       "    </tr>\n",
       "  </thead>\n",
       "  <tbody>\n",
       "    <tr>\n",
       "      <th>0</th>\n",
       "      <td>2021-08-10 15:30</td>\n",
       "    </tr>\n",
       "    <tr>\n",
       "      <th>1</th>\n",
       "      <td>2021-08-10 15:00</td>\n",
       "    </tr>\n",
       "  </tbody>\n",
       "</table>\n",
       "</div>"
      ],
      "text/plain": [
       "        RECORD_TIME\n",
       "0  2021-08-10 15:30\n",
       "1  2021-08-10 15:00"
      ]
     },
     "execution_count": 3,
     "metadata": {},
     "output_type": "execute_result"
    }
   ],
   "source": [
    "timestamps"
   ]
  },
  {
   "cell_type": "code",
   "execution_count": 4,
   "id": "alternate-victory",
   "metadata": {
    "execution": {
     "iopub.execute_input": "2021-08-10T13:30:05.127389Z",
     "iopub.status.busy": "2021-08-10T13:30:05.126623Z",
     "iopub.status.idle": "2021-08-10T13:30:05.140782Z",
     "shell.execute_reply": "2021-08-10T13:30:05.140034Z"
    },
    "papermill": {
     "duration": 0.030711,
     "end_time": "2021-08-10T13:30:05.140941",
     "exception": false,
     "start_time": "2021-08-10T13:30:05.110230",
     "status": "completed"
    },
    "tags": []
   },
   "outputs": [],
   "source": [
    "df = pd.read_sql(\"select * from EBAY_TOP_BERLIN where record_time in (select distinct record_time from EBAY_TOP_BERLIN order by record_time desc limit 2)\", sqlite3.connect(\"UsedObjects.db\"))"
   ]
  },
  {
   "cell_type": "code",
   "execution_count": 5,
   "id": "popular-active",
   "metadata": {
    "execution": {
     "iopub.execute_input": "2021-08-10T13:30:05.164178Z",
     "iopub.status.busy": "2021-08-10T13:30:05.163407Z",
     "iopub.status.idle": "2021-08-10T13:30:05.183705Z",
     "shell.execute_reply": "2021-08-10T13:30:05.184506Z"
    },
    "papermill": {
     "duration": 0.035525,
     "end_time": "2021-08-10T13:30:05.184770",
     "exception": false,
     "start_time": "2021-08-10T13:30:05.149245",
     "status": "completed"
    },
    "tags": []
   },
   "outputs": [],
   "source": [
    "df_pivot = df.pivot_table(index=\"PRODUCT\", columns = \"RECORD_TIME\", values = \"LISTING_COUNT\")"
   ]
  },
  {
   "cell_type": "code",
   "execution_count": 6,
   "id": "union-huntington",
   "metadata": {
    "execution": {
     "iopub.execute_input": "2021-08-10T13:30:05.209916Z",
     "iopub.status.busy": "2021-08-10T13:30:05.209187Z",
     "iopub.status.idle": "2021-08-10T13:30:05.215608Z",
     "shell.execute_reply": "2021-08-10T13:30:05.216142Z"
    },
    "papermill": {
     "duration": 0.021808,
     "end_time": "2021-08-10T13:30:05.216321",
     "exception": false,
     "start_time": "2021-08-10T13:30:05.194513",
     "status": "completed"
    },
    "tags": []
   },
   "outputs": [],
   "source": [
    "df_pivot.columns = [\"stamp_1\", \"stamp_2\"]\n",
    "df_pivot_diff = df_pivot.diff(axis=1)"
   ]
  },
  {
   "cell_type": "code",
   "execution_count": 7,
   "id": "fifth-motion",
   "metadata": {
    "execution": {
     "iopub.execute_input": "2021-08-10T13:30:05.239218Z",
     "iopub.status.busy": "2021-08-10T13:30:05.238462Z",
     "iopub.status.idle": "2021-08-10T13:30:05.996976Z",
     "shell.execute_reply": "2021-08-10T13:30:05.997508Z"
    },
    "papermill": {
     "duration": 0.77322,
     "end_time": "2021-08-10T13:30:05.997686",
     "exception": false,
     "start_time": "2021-08-10T13:30:05.224466",
     "status": "completed"
    },
    "tags": []
   },
   "outputs": [
    {
     "data": {
      "text/plain": [
       "<AxesSubplot:ylabel='PRODUCT'>"
      ]
     },
     "execution_count": 7,
     "metadata": {},
     "output_type": "execute_result"
    },
    {
     "data": {
      "image/png": "[encoded data removed]",
      "text/plain": [
       "<Figure size 432x288 with 1 Axes>"
      ]
     },
     "metadata": {
      "needs_background": "light"
     },
     "output_type": "display_data"
    }
   ],
   "source": [
    "df_pivot_diff.sort_values(\"stamp_2\", ascending = False)[\"stamp_2\"].head(10).plot.barh()"
   ]
  },
  {
   "cell_type": "code",
   "execution_count": null,
   "id": "extra-executive",
   "metadata": {
    "papermill": {
     "duration": 0.013016,
     "end_time": "2021-08-10T13:30:06.022311",
     "exception": false,
     "start_time": "2021-08-10T13:30:06.009295",
     "status": "completed"
    },
    "tags": []
   },
   "outputs": [],
   "source": []
  }
 ],
 "metadata": {
  "kernelspec": {
   "display_name": "Python 3",
   "language": "python",
   "name": "python3"
  },
  "language_info": {
   "codemirror_mode": {
    "name": "ipython",
    "version": 3
   },
   "file_extension": ".py",
   "mimetype": "text/x-python",
   "name": "python",
   "nbconvert_exporter": "python",
   "pygments_lexer": "ipython3",
   "version": "3.8.8"
  },
  "papermill": {
   "default_parameters": {},
   "duration": 4.342912,
   "end_time": "2021-08-10T13:30:06.788214",
   "environment_variables": {},
   "exception": null,
   "input_path": "/Users/saravananshanmugam/Carbonleakage_Git/UsedObjects/eBay_Overview.ipynb",
   "output_path": "/Users/saravananshanmugam/Carbonleakage_Git/UsedObjects/eBay_Overview.ipynb",
   "parameters": {},
   "start_time": "2021-08-10T13:30:02.445302",
   "version": "2.3.3"
  }
 },
 "nbformat": 4,
 "nbformat_minor": 5
}