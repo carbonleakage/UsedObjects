{
 "cells": [
  {
   "cell_type": "code",
   "execution_count": 1,
   "id": "reverse-picking",
   "metadata": {
    "execution": {
     "iopub.execute_input": "2021-08-14T06:00:07.559915Z",
     "iopub.status.busy": "2021-08-14T06:00:07.557961Z",
     "iopub.status.idle": "2021-08-14T06:00:08.369166Z",
     "shell.execute_reply": "2021-08-14T06:00:08.370568Z"
    },
    "papermill": {
     "duration": 0.861965,
     "end_time": "2021-08-14T06:00:08.371245",
     "exception": false,
     "start_time": "2021-08-14T06:00:07.509280",
     "status": "completed"
    },
    "tags": []
   },
   "outputs": [],
   "source": [
    "import pandas as pd\n",
    "import sqlite3"
   ]
  },
  {
   "cell_type": "code",
   "execution_count": 2,
   "id": "innovative-syndrome",
   "metadata": {
    "execution": {
     "iopub.execute_input": "2021-08-14T06:00:08.422627Z",
     "iopub.status.busy": "2021-08-14T06:00:08.420653Z",
     "iopub.status.idle": "2021-08-14T06:00:08.465470Z",
     "shell.execute_reply": "2021-08-14T06:00:08.466729Z"
    },
    "papermill": {
     "duration": 0.074655,
     "end_time": "2021-08-14T06:00:08.467140",
     "exception": false,
     "start_time": "2021-08-14T06:00:08.392485",
     "status": "completed"
    },
    "tags": []
   },
   "outputs": [],
   "source": [
    "timestamps = pd.read_sql(\"select distinct record_time from EBAY_TOP_BERLIN order by record_time desc limit 2\", sqlite3.connect(\"UsedObjects.db\"))"
   ]
  },
  {
   "cell_type": "code",
   "execution_count": 3,
   "id": "periodic-identification",
   "metadata": {
    "execution": {
     "iopub.execute_input": "2021-08-14T06:00:08.534001Z",
     "iopub.status.busy": "2021-08-14T06:00:08.531915Z",
     "iopub.status.idle": "2021-08-14T06:00:08.551567Z",
     "shell.execute_reply": "2021-08-14T06:00:08.552768Z"
    },
    "papermill": {
     "duration": 0.064758,
     "end_time": "2021-08-14T06:00:08.553167",
     "exception": false,
     "start_time": "2021-08-14T06:00:08.488409",
     "status": "completed"
    },
    "tags": []
   },
   "outputs": [
    {
     "data": {
      "text/html": [
       "<div>\n",
       "<style scoped>\n",
       "    .dataframe tbody tr th:only-of-type {\n",
       "        vertical-align: middle;\n",
       "    }\n",
       "\n",
       "    .dataframe tbody tr th {\n",
       "        vertical-align: top;\n",
       "    }\n",
       "\n",
       "    .dataframe thead th {\n",
       "        text-align: right;\n",
       "    }\n",
       "</style>\n",
       "<table border=\"1\" class=\"dataframe\">\n",
       "  <thead>\n",
       "    <tr style=\"text-align: right;\">\n",
       "      <th></th>\n",
       "      <th>RECORD_TIME</th>\n",
       "    </tr>\n",
       "  </thead>\n",
       "  <tbody>\n",
       "    <tr>\n",
       "      <th>0</th>\n",
       "      <td>2021-08-14 08:00</td>\n",
       "    </tr>\n",
       "    <tr>\n",
       "      <th>1</th>\n",
       "      <td>2021-08-14 07:30</td>\n",
       "    </tr>\n",
       "  </tbody>\n",
       "</table>\n",
       "</div>"
      ],
      "text/plain": [
       "        RECORD_TIME\n",
       "0  2021-08-14 08:00\n",
       "1  2021-08-14 07:30"
      ]
     },
     "execution_count": 3,
     "metadata": {},
     "output_type": "execute_result"
    }
   ],
   "source": [
    "timestamps"
   ]
  },
  {
   "cell_type": "code",
   "execution_count": 4,
   "id": "alternate-victory",
   "metadata": {
    "execution": {
     "iopub.execute_input": "2021-08-14T06:00:08.607713Z",
     "iopub.status.busy": "2021-08-14T06:00:08.605335Z",
     "iopub.status.idle": "2021-08-14T06:00:08.672875Z",
     "shell.execute_reply": "2021-08-14T06:00:08.674212Z"
    },
    "papermill": {
     "duration": 0.098431,
     "end_time": "2021-08-14T06:00:08.674654",
     "exception": false,
     "start_time": "2021-08-14T06:00:08.576223",
     "status": "completed"
    },
    "tags": []
   },
   "outputs": [],
   "source": [
    "df = pd.read_sql(\"select * from EBAY_TOP_BERLIN where record_time in (select distinct record_time from EBAY_TOP_BERLIN order by record_time desc limit 2)\", sqlite3.connect(\"UsedObjects.db\"))"
   ]
  },
  {
   "cell_type": "code",
   "execution_count": 5,
   "id": "popular-active",
   "metadata": {
    "execution": {
     "iopub.execute_input": "2021-08-14T06:00:08.746479Z",
     "iopub.status.busy": "2021-08-14T06:00:08.735528Z",
     "iopub.status.idle": "2021-08-14T06:00:08.763275Z",
     "shell.execute_reply": "2021-08-14T06:00:08.764482Z"
    },
    "papermill": {
     "duration": 0.068294,
     "end_time": "2021-08-14T06:00:08.764884",
     "exception": false,
     "start_time": "2021-08-14T06:00:08.696590",
     "status": "completed"
    },
    "tags": []
   },
   "outputs": [],
   "source": [
    "df_pivot = df.pivot_table(index=\"PRODUCT\", columns = \"RECORD_TIME\", values = \"LISTING_COUNT\")"
   ]
  },
  {
   "cell_type": "code",
   "execution_count": 6,
   "id": "union-huntington",
   "metadata": {
    "execution": {
     "iopub.execute_input": "2021-08-14T06:00:08.823809Z",
     "iopub.status.busy": "2021-08-14T06:00:08.821678Z",
     "iopub.status.idle": "2021-08-14T06:00:08.827121Z",
     "shell.execute_reply": "2021-08-14T06:00:08.828401Z"
    },
    "papermill": {
     "duration": 0.040706,
     "end_time": "2021-08-14T06:00:08.828823",
     "exception": false,
     "start_time": "2021-08-14T06:00:08.788117",
     "status": "completed"
    },
    "tags": []
   },
   "outputs": [],
   "source": [
    "df_pivot.columns = [\"stamp_1\", \"stamp_2\"]\n",
    "df_pivot_diff = df_pivot.diff(axis=1)"
   ]
  },
  {
   "cell_type": "code",
   "execution_count": 7,
   "id": "fifth-motion",
   "metadata": {
    "execution": {
     "iopub.execute_input": "2021-08-14T06:00:08.885106Z",
     "iopub.status.busy": "2021-08-14T06:00:08.882465Z",
     "iopub.status.idle": "2021-08-14T06:00:10.382437Z",
     "shell.execute_reply": "2021-08-14T06:00:10.383832Z"
    },
    "papermill": {
     "duration": 1.533914,
     "end_time": "2021-08-14T06:00:10.384256",
     "exception": false,
     "start_time": "2021-08-14T06:00:08.850342",
     "status": "completed"
    },
    "tags": []
   },
   "outputs": [
    {
     "data": {
      "text/plain": [
       "<AxesSubplot:ylabel='PRODUCT'>"
      ]
     },
     "execution_count": 7,
     "metadata": {},
     "output_type": "execute_result"
    },
    {
     "data": {
      "image/png": "[encoded data removed]",
      "text/plain": [
       "<Figure size 432x288 with 1 Axes>"
      ]
     },
     "metadata": {
      "needs_background": "light"
     },
     "output_type": "display_data"
    }
   ],
   "source": [
    "df_pivot_diff.sort_values(\"stamp_2\", ascending = False)[\"stamp_2\"].head(10).plot.barh()"
   ]
  },
  {
   "cell_type": "code",
   "execution_count": null,
   "id": "extra-executive",
   "metadata": {
    "papermill": {
     "duration": 0.022506,
     "end_time": "2021-08-14T06:00:10.431652",
     "exception": false,
     "start_time": "2021-08-14T06:00:10.409146",
     "status": "completed"
    },
    "tags": []
   },
   "outputs": [],
   "source": []
  }
 ],
 "metadata": {
  "kernelspec": {
   "display_name": "Python 3",
   "language": "python",
   "name": "python3"
  },
  "language_info": {
   "codemirror_mode": {
    "name": "ipython",
    "version": 3
   },
   "file_extension": ".py",
   "mimetype": "text/x-python",
   "name": "python",
   "nbconvert_exporter": "python",
   "pygments_lexer": "ipython3",
   "version": "3.9.5"
  },
  "papermill": {
   "default_parameters": {},
   "duration": 6.828282,
   "end_time": "2021-08-14T06:00:11.906704",
   "environment_variables": {},
   "exception": null,
   "input_path": "eBay_Overview.ipynb",
   "output_path": "eBay_Overview.ipynb",
   "parameters": {},
   "start_time": "2021-08-14T06:00:05.078422",
   "version": "2.3.3"
  }
 },
 "nbformat": 4,
 "nbformat_minor": 5
}