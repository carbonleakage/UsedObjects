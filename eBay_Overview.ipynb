{
 "cells": [
  {
   "cell_type": "code",
   "execution_count": 1,
   "id": "reverse-picking",
   "metadata": {
    "execution": {
     "iopub.execute_input": "2021-08-25T14:00:06.774784Z",
     "iopub.status.busy": "2021-08-25T14:00:06.772808Z",
     "iopub.status.idle": "2021-08-25T14:00:07.579196Z",
     "shell.execute_reply": "2021-08-25T14:00:07.577580Z"
    },
    "papermill": {
     "duration": 0.857769,
     "end_time": "2021-08-25T14:00:07.579593",
     "exception": false,
     "start_time": "2021-08-25T14:00:06.721824",
     "status": "completed"
    },
    "tags": []
   },
   "outputs": [],
   "source": [
    "import pandas as pd\n",
    "import sqlite3"
   ]
  },
  {
   "cell_type": "code",
   "execution_count": 2,
   "id": "innovative-syndrome",
   "metadata": {
    "execution": {
     "iopub.execute_input": "2021-08-25T14:00:07.629649Z",
     "iopub.status.busy": "2021-08-25T14:00:07.627626Z",
     "iopub.status.idle": "2021-08-25T14:00:07.753376Z",
     "shell.execute_reply": "2021-08-25T14:00:07.754623Z"
    },
    "papermill": {
     "duration": 0.155365,
     "end_time": "2021-08-25T14:00:07.755032",
     "exception": false,
     "start_time": "2021-08-25T14:00:07.599667",
     "status": "completed"
    },
    "tags": []
   },
   "outputs": [],
   "source": [
    "timestamps = pd.read_sql(\"select distinct record_time from EBAY_TOP_BERLIN order by record_time desc limit 2\", sqlite3.connect(\"UsedObjects.db\"))"
   ]
  },
  {
   "cell_type": "code",
   "execution_count": 3,
   "id": "periodic-identification",
   "metadata": {
    "execution": {
     "iopub.execute_input": "2021-08-25T14:00:07.819716Z",
     "iopub.status.busy": "2021-08-25T14:00:07.817662Z",
     "iopub.status.idle": "2021-08-25T14:00:07.837880Z",
     "shell.execute_reply": "2021-08-25T14:00:07.839123Z"
    },
    "papermill": {
     "duration": 0.063633,
     "end_time": "2021-08-25T14:00:07.839560",
     "exception": false,
     "start_time": "2021-08-25T14:00:07.775927",
     "status": "completed"
    },
    "tags": []
   },
   "outputs": [
    {
     "data": {
      "text/html": [
       "<div>\n",
       "<style scoped>\n",
       "    .dataframe tbody tr th:only-of-type {\n",
       "        vertical-align: middle;\n",
       "    }\n",
       "\n",
       "    .dataframe tbody tr th {\n",
       "        vertical-align: top;\n",
       "    }\n",
       "\n",
       "    .dataframe thead th {\n",
       "        text-align: right;\n",
       "    }\n",
       "</style>\n",
       "<table border=\"1\" class=\"dataframe\">\n",
       "  <thead>\n",
       "    <tr style=\"text-align: right;\">\n",
       "      <th></th>\n",
       "      <th>RECORD_TIME</th>\n",
       "    </tr>\n",
       "  </thead>\n",
       "  <tbody>\n",
       "    <tr>\n",
       "      <th>0</th>\n",
       "      <td>2021-08-25 16:00</td>\n",
       "    </tr>\n",
       "    <tr>\n",
       "      <th>1</th>\n",
       "      <td>2021-08-25 15:30</td>\n",
       "    </tr>\n",
       "  </tbody>\n",
       "</table>\n",
       "</div>"
      ],
      "text/plain": [
       "        RECORD_TIME\n",
       "0  2021-08-25 16:00\n",
       "1  2021-08-25 15:30"
      ]
     },
     "execution_count": 3,
     "metadata": {},
     "output_type": "execute_result"
    }
   ],
   "source": [
    "timestamps"
   ]
  },
  {
   "cell_type": "code",
   "execution_count": 4,
   "id": "alternate-victory",
   "metadata": {
    "execution": {
     "iopub.execute_input": "2021-08-25T14:00:07.893986Z",
     "iopub.status.busy": "2021-08-25T14:00:07.891562Z",
     "iopub.status.idle": "2021-08-25T14:00:08.084492Z",
     "shell.execute_reply": "2021-08-25T14:00:08.085685Z"
    },
    "papermill": {
     "duration": 0.223157,
     "end_time": "2021-08-25T14:00:08.086105",
     "exception": false,
     "start_time": "2021-08-25T14:00:07.862948",
     "status": "completed"
    },
    "tags": []
   },
   "outputs": [],
   "source": [
    "df = pd.read_sql(\"select * from EBAY_TOP_BERLIN where record_time in (select distinct record_time from EBAY_TOP_BERLIN order by record_time desc limit 2)\", sqlite3.connect(\"UsedObjects.db\"))"
   ]
  },
  {
   "cell_type": "code",
   "execution_count": 5,
   "id": "popular-active",
   "metadata": {
    "execution": {
     "iopub.execute_input": "2021-08-25T14:00:08.157278Z",
     "iopub.status.busy": "2021-08-25T14:00:08.144431Z",
     "iopub.status.idle": "2021-08-25T14:00:08.174082Z",
     "shell.execute_reply": "2021-08-25T14:00:08.175408Z"
    },
    "papermill": {
     "duration": 0.068735,
     "end_time": "2021-08-25T14:00:08.175835",
     "exception": false,
     "start_time": "2021-08-25T14:00:08.107100",
     "status": "completed"
    },
    "tags": []
   },
   "outputs": [],
   "source": [
    "df_pivot = df.pivot_table(index=\"PRODUCT\", columns = \"RECORD_TIME\", values = \"LISTING_COUNT\")"
   ]
  },
  {
   "cell_type": "code",
   "execution_count": 6,
   "id": "union-huntington",
   "metadata": {
    "execution": {
     "iopub.execute_input": "2021-08-25T14:00:08.242178Z",
     "iopub.status.busy": "2021-08-25T14:00:08.239617Z",
     "iopub.status.idle": "2021-08-25T14:00:08.245787Z",
     "shell.execute_reply": "2021-08-25T14:00:08.247109Z"
    },
    "papermill": {
     "duration": 0.04592,
     "end_time": "2021-08-25T14:00:08.247533",
     "exception": false,
     "start_time": "2021-08-25T14:00:08.201613",
     "status": "completed"
    },
    "tags": []
   },
   "outputs": [],
   "source": [
    "df_pivot.columns = [\"stamp_1\", \"stamp_2\"]\n",
    "df_pivot_diff = df_pivot.diff(axis=1)"
   ]
  },
  {
   "cell_type": "code",
   "execution_count": 7,
   "id": "fifth-motion",
   "metadata": {
    "execution": {
     "iopub.execute_input": "2021-08-25T14:00:08.301931Z",
     "iopub.status.busy": "2021-08-25T14:00:08.299419Z",
     "iopub.status.idle": "2021-08-25T14:00:09.787629Z",
     "shell.execute_reply": "2021-08-25T14:00:09.789176Z"
    },
    "papermill": {
     "duration": 1.521533,
     "end_time": "2021-08-25T14:00:09.789651",
     "exception": false,
     "start_time": "2021-08-25T14:00:08.268118",
     "status": "completed"
    },
    "tags": []
   },
   "outputs": [
    {
     "data": {
      "text/plain": [
       "<AxesSubplot:ylabel='PRODUCT'>"
      ]
     },
     "execution_count": 7,
     "metadata": {},
     "output_type": "execute_result"
    },
    {
     "data": {
      "image/png": "[encoded data removed]",
      "text/plain": [
       "<Figure size 432x288 with 1 Axes>"
      ]
     },
     "metadata": {
      "needs_background": "light"
     },
     "output_type": "display_data"
    }
   ],
   "source": [
    "df_pivot_diff.sort_values(\"stamp_2\", ascending = False)[\"stamp_2\"].head(10).plot.barh()"
   ]
  },
  {
   "cell_type": "code",
   "execution_count": null,
   "id": "extra-executive",
   "metadata": {
    "papermill": {
     "duration": 0.022188,
     "end_time": "2021-08-25T14:00:09.836498",
     "exception": false,
     "start_time": "2021-08-25T14:00:09.814310",
     "status": "completed"
    },
    "tags": []
   },
   "outputs": [],
   "source": []
  }
 ],
 "metadata": {
  "kernelspec": {
   "display_name": "Python 3",
   "language": "python",
   "name": "python3"
  },
  "language_info": {
   "codemirror_mode": {
    "name": "ipython",
    "version": 3
   },
   "file_extension": ".py",
   "mimetype": "text/x-python",
   "name": "python",
   "nbconvert_exporter": "python",
   "pygments_lexer": "ipython3",
   "version": "3.9.5"
  },
  "papermill": {
   "default_parameters": {},
   "duration": 6.827177,
   "end_time": "2021-08-25T14:00:11.135226",
   "environment_variables": {},
   "exception": null,
   "input_path": "eBay_Overview.ipynb",
   "output_path": "eBay_Overview.ipynb",
   "parameters": {},
   "start_time": "2021-08-25T14:00:04.308049",
   "version": "2.3.3"
  }
 },
 "nbformat": 4,
 "nbformat_minor": 5
}