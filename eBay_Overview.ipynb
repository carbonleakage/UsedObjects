{
 "cells": [
  {
   "cell_type": "code",
   "execution_count": 1,
   "id": "reverse-picking",
   "metadata": {
    "execution": {
     "iopub.execute_input": "2021-11-02T18:00:08.084125Z",
     "iopub.status.busy": "2021-11-02T18:00:08.081731Z",
     "iopub.status.idle": "2021-11-02T18:00:08.999661Z",
     "shell.execute_reply": "2021-11-02T18:00:09.001281Z"
    },
    "papermill": {
     "duration": 0.972174,
     "end_time": "2021-11-02T18:00:09.002068",
     "exception": false,
     "start_time": "2021-11-02T18:00:08.029894",
     "status": "completed"
    },
    "tags": []
   },
   "outputs": [],
   "source": [
    "import pandas as pd\n",
    "import sqlite3"
   ]
  },
  {
   "cell_type": "code",
   "execution_count": 2,
   "id": "innovative-syndrome",
   "metadata": {
    "execution": {
     "iopub.execute_input": "2021-11-02T18:00:09.058397Z",
     "iopub.status.busy": "2021-11-02T18:00:09.056077Z",
     "iopub.status.idle": "2021-11-02T18:00:09.769776Z",
     "shell.execute_reply": "2021-11-02T18:00:09.772036Z"
    },
    "papermill": {
     "duration": 0.749273,
     "end_time": "2021-11-02T18:00:09.772554",
     "exception": false,
     "start_time": "2021-11-02T18:00:09.023281",
     "status": "completed"
    },
    "tags": []
   },
   "outputs": [],
   "source": [
    "timestamps = pd.read_sql(\"select distinct record_time from EBAY_TOP_BERLIN order by record_time desc limit 2\", sqlite3.connect(\"UsedObjects.db\"))"
   ]
  },
  {
   "cell_type": "code",
   "execution_count": 3,
   "id": "periodic-identification",
   "metadata": {
    "execution": {
     "iopub.execute_input": "2021-11-02T18:00:09.845405Z",
     "iopub.status.busy": "2021-11-02T18:00:09.842863Z",
     "iopub.status.idle": "2021-11-02T18:00:09.866955Z",
     "shell.execute_reply": "2021-11-02T18:00:09.868783Z"
    },
    "papermill": {
     "duration": 0.076015,
     "end_time": "2021-11-02T18:00:09.869332",
     "exception": false,
     "start_time": "2021-11-02T18:00:09.793317",
     "status": "completed"
    },
    "tags": []
   },
   "outputs": [
    {
     "data": {
      "text/html": [
       "<div>\n",
       "<style scoped>\n",
       "    .dataframe tbody tr th:only-of-type {\n",
       "        vertical-align: middle;\n",
       "    }\n",
       "\n",
       "    .dataframe tbody tr th {\n",
       "        vertical-align: top;\n",
       "    }\n",
       "\n",
       "    .dataframe thead th {\n",
       "        text-align: right;\n",
       "    }\n",
       "</style>\n",
       "<table border=\"1\" class=\"dataframe\">\n",
       "  <thead>\n",
       "    <tr style=\"text-align: right;\">\n",
       "      <th></th>\n",
       "      <th>RECORD_TIME</th>\n",
       "    </tr>\n",
       "  </thead>\n",
       "  <tbody>\n",
       "    <tr>\n",
       "      <th>0</th>\n",
       "      <td>2021-11-02 19:00</td>\n",
       "    </tr>\n",
       "    <tr>\n",
       "      <th>1</th>\n",
       "      <td>2021-11-02 18:30</td>\n",
       "    </tr>\n",
       "  </tbody>\n",
       "</table>\n",
       "</div>"
      ],
      "text/plain": [
       "        RECORD_TIME\n",
       "0  2021-11-02 19:00\n",
       "1  2021-11-02 18:30"
      ]
     },
     "execution_count": 3,
     "metadata": {},
     "output_type": "execute_result"
    }
   ],
   "source": [
    "timestamps"
   ]
  },
  {
   "cell_type": "code",
   "execution_count": 4,
   "id": "alternate-victory",
   "metadata": {
    "execution": {
     "iopub.execute_input": "2021-11-02T18:00:09.926573Z",
     "iopub.status.busy": "2021-11-02T18:00:09.924321Z",
     "iopub.status.idle": "2021-11-02T18:00:10.944167Z",
     "shell.execute_reply": "2021-11-02T18:00:10.945854Z"
    },
    "papermill": {
     "duration": 1.055464,
     "end_time": "2021-11-02T18:00:10.946377",
     "exception": false,
     "start_time": "2021-11-02T18:00:09.890913",
     "status": "completed"
    },
    "tags": []
   },
   "outputs": [],
   "source": [
    "df = pd.read_sql(\"select * from EBAY_TOP_BERLIN where record_time in (select distinct record_time from EBAY_TOP_BERLIN order by record_time desc limit 2)\", sqlite3.connect(\"UsedObjects.db\"))"
   ]
  },
  {
   "cell_type": "code",
   "execution_count": 5,
   "id": "popular-active",
   "metadata": {
    "execution": {
     "iopub.execute_input": "2021-11-02T18:00:11.026445Z",
     "iopub.status.busy": "2021-11-02T18:00:11.018889Z",
     "iopub.status.idle": "2021-11-02T18:00:11.047258Z",
     "shell.execute_reply": "2021-11-02T18:00:11.048845Z"
    },
    "papermill": {
     "duration": 0.079058,
     "end_time": "2021-11-02T18:00:11.049365",
     "exception": false,
     "start_time": "2021-11-02T18:00:10.970307",
     "status": "completed"
    },
    "tags": []
   },
   "outputs": [],
   "source": [
    "df_pivot = df.pivot_table(index=\"PRODUCT\", columns = \"RECORD_TIME\", values = \"LISTING_COUNT\")"
   ]
  },
  {
   "cell_type": "code",
   "execution_count": 6,
   "id": "union-huntington",
   "metadata": {
    "execution": {
     "iopub.execute_input": "2021-11-02T18:00:11.108678Z",
     "iopub.status.busy": "2021-11-02T18:00:11.106534Z",
     "iopub.status.idle": "2021-11-02T18:00:11.112132Z",
     "shell.execute_reply": "2021-11-02T18:00:11.113568Z"
    },
    "papermill": {
     "duration": 0.043457,
     "end_time": "2021-11-02T18:00:11.114042",
     "exception": false,
     "start_time": "2021-11-02T18:00:11.070585",
     "status": "completed"
    },
    "tags": []
   },
   "outputs": [],
   "source": [
    "df_pivot.columns = [\"stamp_1\", \"stamp_2\"]\n",
    "df_pivot_diff = df_pivot.diff(axis=1)"
   ]
  },
  {
   "cell_type": "code",
   "execution_count": 7,
   "id": "fifth-motion",
   "metadata": {
    "execution": {
     "iopub.execute_input": "2021-11-02T18:00:11.173877Z",
     "iopub.status.busy": "2021-11-02T18:00:11.169854Z",
     "iopub.status.idle": "2021-11-02T18:00:13.120526Z",
     "shell.execute_reply": "2021-11-02T18:00:13.121913Z"
    },
    "papermill": {
     "duration": 1.988105,
     "end_time": "2021-11-02T18:00:13.122383",
     "exception": false,
     "start_time": "2021-11-02T18:00:11.134278",
     "status": "completed"
    },
    "tags": []
   },
   "outputs": [
    {
     "data": {
      "text/plain": [
       "<AxesSubplot:ylabel='PRODUCT'>"
      ]
     },
     "execution_count": 7,
     "metadata": {},
     "output_type": "execute_result"
    },
    {
     "data": {
      "image/png": "[encoded data removed]",
      "text/plain": [
       "<Figure size 432x288 with 1 Axes>"
      ]
     },
     "metadata": {
      "needs_background": "light"
     },
     "output_type": "display_data"
    }
   ],
   "source": [
    "df_pivot_diff.sort_values(\"stamp_2\", ascending = False)[\"stamp_2\"].head(10).plot.barh()"
   ]
  },
  {
   "cell_type": "code",
   "execution_count": null,
   "id": "extra-executive",
   "metadata": {
    "papermill": {
     "duration": 0.023701,
     "end_time": "2021-11-02T18:00:13.171665",
     "exception": false,
     "start_time": "2021-11-02T18:00:13.147964",
     "status": "completed"
    },
    "tags": []
   },
   "outputs": [],
   "source": []
  }
 ],
 "metadata": {
  "kernelspec": {
   "display_name": "Python 3",
   "language": "python",
   "name": "python3"
  },
  "language_info": {
   "codemirror_mode": {
    "name": "ipython",
    "version": 3
   },
   "file_extension": ".py",
   "mimetype": "text/x-python",
   "name": "python",
   "nbconvert_exporter": "python",
   "pygments_lexer": "ipython3",
   "version": "3.9.5"
  },
  "papermill": {
   "default_parameters": {},
   "duration": 8.696235,
   "end_time": "2021-11-02T18:00:14.020866",
   "environment_variables": {},
   "exception": null,
   "input_path": "eBay_Overview.ipynb",
   "output_path": "eBay_Overview.ipynb",
   "parameters": {},
   "start_time": "2021-11-02T18:00:05.324631",
   "version": "2.3.3"
  }
 },
 "nbformat": 4,
 "nbformat_minor": 5
}