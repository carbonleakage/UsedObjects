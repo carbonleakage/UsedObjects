{
 "cells": [
  {
   "cell_type": "code",
   "execution_count": 1,
   "id": "reverse-picking",
   "metadata": {
    "execution": {
     "iopub.execute_input": "2021-12-21T04:30:08.027217Z",
     "iopub.status.busy": "2021-12-21T04:30:08.025116Z",
     "iopub.status.idle": "2021-12-21T04:30:08.959744Z",
     "shell.execute_reply": "2021-12-21T04:30:08.963491Z"
    },
    "papermill": {
     "duration": 0.986438,
     "end_time": "2021-12-21T04:30:08.964232",
     "exception": false,
     "start_time": "2021-12-21T04:30:07.977794",
     "status": "completed"
    },
    "tags": []
   },
   "outputs": [],
   "source": [
    "import pandas as pd\n",
    "import sqlite3"
   ]
  },
  {
   "cell_type": "code",
   "execution_count": 2,
   "id": "innovative-syndrome",
   "metadata": {
    "execution": {
     "iopub.execute_input": "2021-12-21T04:30:09.030548Z",
     "iopub.status.busy": "2021-12-21T04:30:09.028121Z",
     "iopub.status.idle": "2021-12-21T04:30:10.193630Z",
     "shell.execute_reply": "2021-12-21T04:30:10.195029Z"
    },
    "papermill": {
     "duration": 1.198976,
     "end_time": "2021-12-21T04:30:10.195478",
     "exception": false,
     "start_time": "2021-12-21T04:30:08.996502",
     "status": "completed"
    },
    "tags": []
   },
   "outputs": [],
   "source": [
    "timestamps = pd.read_sql(\"select distinct record_time from EBAY_TOP_BERLIN order by record_time desc limit 2\", sqlite3.connect(\"UsedObjects.db\"))"
   ]
  },
  {
   "cell_type": "code",
   "execution_count": 3,
   "id": "periodic-identification",
   "metadata": {
    "execution": {
     "iopub.execute_input": "2021-12-21T04:30:10.264093Z",
     "iopub.status.busy": "2021-12-21T04:30:10.261830Z",
     "iopub.status.idle": "2021-12-21T04:30:10.286187Z",
     "shell.execute_reply": "2021-12-21T04:30:10.287679Z"
    },
    "papermill": {
     "duration": 0.072707,
     "end_time": "2021-12-21T04:30:10.288162",
     "exception": false,
     "start_time": "2021-12-21T04:30:10.215455",
     "status": "completed"
    },
    "tags": []
   },
   "outputs": [
    {
     "data": {
      "text/html": [
       "<div>\n",
       "<style scoped>\n",
       "    .dataframe tbody tr th:only-of-type {\n",
       "        vertical-align: middle;\n",
       "    }\n",
       "\n",
       "    .dataframe tbody tr th {\n",
       "        vertical-align: top;\n",
       "    }\n",
       "\n",
       "    .dataframe thead th {\n",
       "        text-align: right;\n",
       "    }\n",
       "</style>\n",
       "<table border=\"1\" class=\"dataframe\">\n",
       "  <thead>\n",
       "    <tr style=\"text-align: right;\">\n",
       "      <th></th>\n",
       "      <th>RECORD_TIME</th>\n",
       "    </tr>\n",
       "  </thead>\n",
       "  <tbody>\n",
       "    <tr>\n",
       "      <th>0</th>\n",
       "      <td>2021-12-21 05:30</td>\n",
       "    </tr>\n",
       "    <tr>\n",
       "      <th>1</th>\n",
       "      <td>2021-12-21 05:00</td>\n",
       "    </tr>\n",
       "  </tbody>\n",
       "</table>\n",
       "</div>"
      ],
      "text/plain": [
       "        RECORD_TIME\n",
       "0  2021-12-21 05:30\n",
       "1  2021-12-21 05:00"
      ]
     },
     "execution_count": 3,
     "metadata": {},
     "output_type": "execute_result"
    }
   ],
   "source": [
    "timestamps"
   ]
  },
  {
   "cell_type": "code",
   "execution_count": 4,
   "id": "alternate-victory",
   "metadata": {
    "execution": {
     "iopub.execute_input": "2021-12-21T04:30:10.343547Z",
     "iopub.status.busy": "2021-12-21T04:30:10.341644Z",
     "iopub.status.idle": "2021-12-21T04:30:12.034124Z",
     "shell.execute_reply": "2021-12-21T04:30:12.035601Z"
    },
    "papermill": {
     "duration": 1.725261,
     "end_time": "2021-12-21T04:30:12.036065",
     "exception": false,
     "start_time": "2021-12-21T04:30:10.310804",
     "status": "completed"
    },
    "tags": []
   },
   "outputs": [],
   "source": [
    "df = pd.read_sql(\"select * from EBAY_TOP_BERLIN where record_time in (select distinct record_time from EBAY_TOP_BERLIN order by record_time desc limit 2)\", sqlite3.connect(\"UsedObjects.db\"))"
   ]
  },
  {
   "cell_type": "code",
   "execution_count": 5,
   "id": "popular-active",
   "metadata": {
    "execution": {
     "iopub.execute_input": "2021-12-21T04:30:12.111096Z",
     "iopub.status.busy": "2021-12-21T04:30:12.098233Z",
     "iopub.status.idle": "2021-12-21T04:30:12.133699Z",
     "shell.execute_reply": "2021-12-21T04:30:12.131987Z"
    },
    "papermill": {
     "duration": 0.077132,
     "end_time": "2021-12-21T04:30:12.134119",
     "exception": false,
     "start_time": "2021-12-21T04:30:12.056987",
     "status": "completed"
    },
    "tags": []
   },
   "outputs": [],
   "source": [
    "df_pivot = df.pivot_table(index=\"PRODUCT\", columns = \"RECORD_TIME\", values = \"LISTING_COUNT\")"
   ]
  },
  {
   "cell_type": "code",
   "execution_count": 6,
   "id": "union-huntington",
   "metadata": {
    "execution": {
     "iopub.execute_input": "2021-12-21T04:30:12.197482Z",
     "iopub.status.busy": "2021-12-21T04:30:12.195183Z",
     "iopub.status.idle": "2021-12-21T04:30:12.200986Z",
     "shell.execute_reply": "2021-12-21T04:30:12.202381Z"
    },
    "papermill": {
     "duration": 0.046386,
     "end_time": "2021-12-21T04:30:12.202860",
     "exception": false,
     "start_time": "2021-12-21T04:30:12.156474",
     "status": "completed"
    },
    "tags": []
   },
   "outputs": [],
   "source": [
    "df_pivot.columns = [\"stamp_1\", \"stamp_2\"]\n",
    "df_pivot_diff = df_pivot.diff(axis=1)"
   ]
  },
  {
   "cell_type": "code",
   "execution_count": 7,
   "id": "fifth-motion",
   "metadata": {
    "execution": {
     "iopub.execute_input": "2021-12-21T04:30:12.259466Z",
     "iopub.status.busy": "2021-12-21T04:30:12.257011Z",
     "iopub.status.idle": "2021-12-21T04:30:14.235510Z",
     "shell.execute_reply": "2021-12-21T04:30:14.236922Z"
    },
    "papermill": {
     "duration": 2.014037,
     "end_time": "2021-12-21T04:30:14.237400",
     "exception": false,
     "start_time": "2021-12-21T04:30:12.223363",
     "status": "completed"
    },
    "tags": []
   },
   "outputs": [
    {
     "data": {
      "text/plain": [
       "<AxesSubplot:ylabel='PRODUCT'>"
      ]
     },
     "execution_count": 7,
     "metadata": {},
     "output_type": "execute_result"
    },
    {
     "data": {
      "image/png": "[encoded data removed]",
      "text/plain": [
       "<Figure size 432x288 with 1 Axes>"
      ]
     },
     "metadata": {
      "needs_background": "light"
     },
     "output_type": "display_data"
    }
   ],
   "source": [
    "df_pivot_diff.sort_values(\"stamp_2\", ascending = False)[\"stamp_2\"].head(10).plot.barh()"
   ]
  },
  {
   "cell_type": "code",
   "execution_count": null,
   "id": "extra-executive",
   "metadata": {
    "papermill": {
     "duration": 0.062542,
     "end_time": "2021-12-21T04:30:14.324786",
     "exception": false,
     "start_time": "2021-12-21T04:30:14.262244",
     "status": "completed"
    },
    "tags": []
   },
   "outputs": [],
   "source": []
  }
 ],
 "metadata": {
  "kernelspec": {
   "display_name": "Python 3",
   "language": "python",
   "name": "python3"
  },
  "language_info": {
   "codemirror_mode": {
    "name": "ipython",
    "version": 3
   },
   "file_extension": ".py",
   "mimetype": "text/x-python",
   "name": "python",
   "nbconvert_exporter": "python",
   "pygments_lexer": "ipython3",
   "version": "3.9.5"
  },
  "papermill": {
   "default_parameters": {},
   "duration": 9.724742,
   "end_time": "2021-12-21T04:30:14.972846",
   "environment_variables": {},
   "exception": null,
   "input_path": "eBay_Overview.ipynb",
   "output_path": "eBay_Overview.ipynb",
   "parameters": {},
   "start_time": "2021-12-21T04:30:05.248104",
   "version": "2.3.3"
  }
 },
 "nbformat": 4,
 "nbformat_minor": 5
}