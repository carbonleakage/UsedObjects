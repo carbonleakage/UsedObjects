{
 "cells": [
  {
   "cell_type": "code",
   "execution_count": 1,
   "id": "reverse-picking",
   "metadata": {
    "execution": {
     "iopub.execute_input": "2021-09-20T06:30:07.263770Z",
     "iopub.status.busy": "2021-09-20T06:30:07.261763Z",
     "iopub.status.idle": "2021-09-20T06:30:08.066106Z",
     "shell.execute_reply": "2021-09-20T06:30:08.064567Z"
    },
    "papermill": {
     "duration": 0.853306,
     "end_time": "2021-09-20T06:30:08.066503",
     "exception": false,
     "start_time": "2021-09-20T06:30:07.213197",
     "status": "completed"
    },
    "tags": []
   },
   "outputs": [],
   "source": [
    "import pandas as pd\n",
    "import sqlite3"
   ]
  },
  {
   "cell_type": "code",
   "execution_count": 2,
   "id": "innovative-syndrome",
   "metadata": {
    "execution": {
     "iopub.execute_input": "2021-09-20T06:30:08.117710Z",
     "iopub.status.busy": "2021-09-20T06:30:08.115857Z",
     "iopub.status.idle": "2021-09-20T06:30:08.441898Z",
     "shell.execute_reply": "2021-09-20T06:30:08.443299Z"
    },
    "papermill": {
     "duration": 0.355692,
     "end_time": "2021-09-20T06:30:08.443718",
     "exception": false,
     "start_time": "2021-09-20T06:30:08.088026",
     "status": "completed"
    },
    "tags": []
   },
   "outputs": [],
   "source": [
    "timestamps = pd.read_sql(\"select distinct record_time from EBAY_TOP_BERLIN order by record_time desc limit 2\", sqlite3.connect(\"UsedObjects.db\"))"
   ]
  },
  {
   "cell_type": "code",
   "execution_count": 3,
   "id": "periodic-identification",
   "metadata": {
    "execution": {
     "iopub.execute_input": "2021-09-20T06:30:08.511657Z",
     "iopub.status.busy": "2021-09-20T06:30:08.509545Z",
     "iopub.status.idle": "2021-09-20T06:30:08.530100Z",
     "shell.execute_reply": "2021-09-20T06:30:08.531368Z"
    },
    "papermill": {
     "duration": 0.067177,
     "end_time": "2021-09-20T06:30:08.531805",
     "exception": false,
     "start_time": "2021-09-20T06:30:08.464628",
     "status": "completed"
    },
    "tags": []
   },
   "outputs": [
    {
     "data": {
      "text/html": [
       "<div>\n",
       "<style scoped>\n",
       "    .dataframe tbody tr th:only-of-type {\n",
       "        vertical-align: middle;\n",
       "    }\n",
       "\n",
       "    .dataframe tbody tr th {\n",
       "        vertical-align: top;\n",
       "    }\n",
       "\n",
       "    .dataframe thead th {\n",
       "        text-align: right;\n",
       "    }\n",
       "</style>\n",
       "<table border=\"1\" class=\"dataframe\">\n",
       "  <thead>\n",
       "    <tr style=\"text-align: right;\">\n",
       "      <th></th>\n",
       "      <th>RECORD_TIME</th>\n",
       "    </tr>\n",
       "  </thead>\n",
       "  <tbody>\n",
       "    <tr>\n",
       "      <th>0</th>\n",
       "      <td>2021-09-20 08:30</td>\n",
       "    </tr>\n",
       "    <tr>\n",
       "      <th>1</th>\n",
       "      <td>2021-09-20 08:00</td>\n",
       "    </tr>\n",
       "  </tbody>\n",
       "</table>\n",
       "</div>"
      ],
      "text/plain": [
       "        RECORD_TIME\n",
       "0  2021-09-20 08:30\n",
       "1  2021-09-20 08:00"
      ]
     },
     "execution_count": 3,
     "metadata": {},
     "output_type": "execute_result"
    }
   ],
   "source": [
    "timestamps"
   ]
  },
  {
   "cell_type": "code",
   "execution_count": 4,
   "id": "alternate-victory",
   "metadata": {
    "execution": {
     "iopub.execute_input": "2021-09-20T06:30:08.585367Z",
     "iopub.status.busy": "2021-09-20T06:30:08.583092Z",
     "iopub.status.idle": "2021-09-20T06:30:09.068333Z",
     "shell.execute_reply": "2021-09-20T06:30:09.069459Z"
    },
    "papermill": {
     "duration": 0.515175,
     "end_time": "2021-09-20T06:30:09.069875",
     "exception": false,
     "start_time": "2021-09-20T06:30:08.554700",
     "status": "completed"
    },
    "tags": []
   },
   "outputs": [],
   "source": [
    "df = pd.read_sql(\"select * from EBAY_TOP_BERLIN where record_time in (select distinct record_time from EBAY_TOP_BERLIN order by record_time desc limit 2)\", sqlite3.connect(\"UsedObjects.db\"))"
   ]
  },
  {
   "cell_type": "code",
   "execution_count": 5,
   "id": "popular-active",
   "metadata": {
    "execution": {
     "iopub.execute_input": "2021-09-20T06:30:09.151577Z",
     "iopub.status.busy": "2021-09-20T06:30:09.139941Z",
     "iopub.status.idle": "2021-09-20T06:30:09.168558Z",
     "shell.execute_reply": "2021-09-20T06:30:09.169924Z"
    },
    "papermill": {
     "duration": 0.07314,
     "end_time": "2021-09-20T06:30:09.170364",
     "exception": false,
     "start_time": "2021-09-20T06:30:09.097224",
     "status": "completed"
    },
    "tags": []
   },
   "outputs": [],
   "source": [
    "df_pivot = df.pivot_table(index=\"PRODUCT\", columns = \"RECORD_TIME\", values = \"LISTING_COUNT\")"
   ]
  },
  {
   "cell_type": "code",
   "execution_count": 6,
   "id": "union-huntington",
   "metadata": {
    "execution": {
     "iopub.execute_input": "2021-09-20T06:30:09.227745Z",
     "iopub.status.busy": "2021-09-20T06:30:09.225636Z",
     "iopub.status.idle": "2021-09-20T06:30:09.230877Z",
     "shell.execute_reply": "2021-09-20T06:30:09.232335Z"
    },
    "papermill": {
     "duration": 0.041441,
     "end_time": "2021-09-20T06:30:09.232777",
     "exception": false,
     "start_time": "2021-09-20T06:30:09.191336",
     "status": "completed"
    },
    "tags": []
   },
   "outputs": [],
   "source": [
    "df_pivot.columns = [\"stamp_1\", \"stamp_2\"]\n",
    "df_pivot_diff = df_pivot.diff(axis=1)"
   ]
  },
  {
   "cell_type": "code",
   "execution_count": 7,
   "id": "fifth-motion",
   "metadata": {
    "execution": {
     "iopub.execute_input": "2021-09-20T06:30:09.287762Z",
     "iopub.status.busy": "2021-09-20T06:30:09.285191Z",
     "iopub.status.idle": "2021-09-20T06:30:10.758413Z",
     "shell.execute_reply": "2021-09-20T06:30:10.759754Z"
    },
    "papermill": {
     "duration": 1.506269,
     "end_time": "2021-09-20T06:30:10.760221",
     "exception": false,
     "start_time": "2021-09-20T06:30:09.253952",
     "status": "completed"
    },
    "tags": []
   },
   "outputs": [
    {
     "data": {
      "text/plain": [
       "<AxesSubplot:ylabel='PRODUCT'>"
      ]
     },
     "execution_count": 7,
     "metadata": {},
     "output_type": "execute_result"
    },
    {
     "data": {
      "image/png": "[encoded data removed]",
      "text/plain": [
       "<Figure size 432x288 with 1 Axes>"
      ]
     },
     "metadata": {
      "needs_background": "light"
     },
     "output_type": "display_data"
    }
   ],
   "source": [
    "df_pivot_diff.sort_values(\"stamp_2\", ascending = False)[\"stamp_2\"].head(10).plot.barh()"
   ]
  },
  {
   "cell_type": "code",
   "execution_count": null,
   "id": "extra-executive",
   "metadata": {
    "papermill": {
     "duration": 0.022218,
     "end_time": "2021-09-20T06:30:10.807129",
     "exception": false,
     "start_time": "2021-09-20T06:30:10.784911",
     "status": "completed"
    },
    "tags": []
   },
   "outputs": [],
   "source": []
  }
 ],
 "metadata": {
  "kernelspec": {
   "display_name": "Python 3",
   "language": "python",
   "name": "python3"
  },
  "language_info": {
   "codemirror_mode": {
    "name": "ipython",
    "version": 3
   },
   "file_extension": ".py",
   "mimetype": "text/x-python",
   "name": "python",
   "nbconvert_exporter": "python",
   "pygments_lexer": "ipython3",
   "version": "3.9.5"
  },
  "papermill": {
   "default_parameters": {},
   "duration": 6.630138,
   "end_time": "2021-09-20T06:30:11.448680",
   "environment_variables": {},
   "exception": null,
   "input_path": "eBay_Overview.ipynb",
   "output_path": "eBay_Overview.ipynb",
   "parameters": {},
   "start_time": "2021-09-20T06:30:04.818542",
   "version": "2.3.3"
  }
 },
 "nbformat": 4,
 "nbformat_minor": 5
}