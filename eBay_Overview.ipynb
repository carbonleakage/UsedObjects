{
 "cells": [
  {
   "cell_type": "code",
   "execution_count": 1,
   "id": "reverse-picking",
   "metadata": {
    "execution": {
     "iopub.execute_input": "2021-11-13T14:00:07.679649Z",
     "iopub.status.busy": "2021-11-13T14:00:07.676848Z",
     "iopub.status.idle": "2021-11-13T14:00:08.594719Z",
     "shell.execute_reply": "2021-11-13T14:00:08.596510Z"
    },
    "papermill": {
     "duration": 0.9689,
     "end_time": "2021-11-13T14:00:08.597307",
     "exception": false,
     "start_time": "2021-11-13T14:00:07.628407",
     "status": "completed"
    },
    "tags": []
   },
   "outputs": [],
   "source": [
    "import pandas as pd\n",
    "import sqlite3"
   ]
  },
  {
   "cell_type": "code",
   "execution_count": 2,
   "id": "innovative-syndrome",
   "metadata": {
    "execution": {
     "iopub.execute_input": "2021-11-13T14:00:08.659615Z",
     "iopub.status.busy": "2021-11-13T14:00:08.656664Z",
     "iopub.status.idle": "2021-11-13T14:00:09.462948Z",
     "shell.execute_reply": "2021-11-13T14:00:09.464809Z"
    },
    "papermill": {
     "duration": 0.840535,
     "end_time": "2021-11-13T14:00:09.465329",
     "exception": false,
     "start_time": "2021-11-13T14:00:08.624794",
     "status": "completed"
    },
    "tags": []
   },
   "outputs": [],
   "source": [
    "timestamps = pd.read_sql(\"select distinct record_time from EBAY_TOP_BERLIN order by record_time desc limit 2\", sqlite3.connect(\"UsedObjects.db\"))"
   ]
  },
  {
   "cell_type": "code",
   "execution_count": 3,
   "id": "periodic-identification",
   "metadata": {
    "execution": {
     "iopub.execute_input": "2021-11-13T14:00:09.540672Z",
     "iopub.status.busy": "2021-11-13T14:00:09.534740Z",
     "iopub.status.idle": "2021-11-13T14:00:09.558087Z",
     "shell.execute_reply": "2021-11-13T14:00:09.559721Z"
    },
    "papermill": {
     "duration": 0.074288,
     "end_time": "2021-11-13T14:00:09.560280",
     "exception": false,
     "start_time": "2021-11-13T14:00:09.485992",
     "status": "completed"
    },
    "tags": []
   },
   "outputs": [
    {
     "data": {
      "text/html": [
       "<div>\n",
       "<style scoped>\n",
       "    .dataframe tbody tr th:only-of-type {\n",
       "        vertical-align: middle;\n",
       "    }\n",
       "\n",
       "    .dataframe tbody tr th {\n",
       "        vertical-align: top;\n",
       "    }\n",
       "\n",
       "    .dataframe thead th {\n",
       "        text-align: right;\n",
       "    }\n",
       "</style>\n",
       "<table border=\"1\" class=\"dataframe\">\n",
       "  <thead>\n",
       "    <tr style=\"text-align: right;\">\n",
       "      <th></th>\n",
       "      <th>RECORD_TIME</th>\n",
       "    </tr>\n",
       "  </thead>\n",
       "  <tbody>\n",
       "    <tr>\n",
       "      <th>0</th>\n",
       "      <td>2021-11-13 15:00</td>\n",
       "    </tr>\n",
       "    <tr>\n",
       "      <th>1</th>\n",
       "      <td>2021-11-13 14:30</td>\n",
       "    </tr>\n",
       "  </tbody>\n",
       "</table>\n",
       "</div>"
      ],
      "text/plain": [
       "        RECORD_TIME\n",
       "0  2021-11-13 15:00\n",
       "1  2021-11-13 14:30"
      ]
     },
     "execution_count": 3,
     "metadata": {},
     "output_type": "execute_result"
    }
   ],
   "source": [
    "timestamps"
   ]
  },
  {
   "cell_type": "code",
   "execution_count": 4,
   "id": "alternate-victory",
   "metadata": {
    "execution": {
     "iopub.execute_input": "2021-11-13T14:00:09.618174Z",
     "iopub.status.busy": "2021-11-13T14:00:09.615882Z",
     "iopub.status.idle": "2021-11-13T14:00:10.788985Z",
     "shell.execute_reply": "2021-11-13T14:00:10.790359Z"
    },
    "papermill": {
     "duration": 1.207296,
     "end_time": "2021-11-13T14:00:10.790829",
     "exception": false,
     "start_time": "2021-11-13T14:00:09.583533",
     "status": "completed"
    },
    "tags": []
   },
   "outputs": [],
   "source": [
    "df = pd.read_sql(\"select * from EBAY_TOP_BERLIN where record_time in (select distinct record_time from EBAY_TOP_BERLIN order by record_time desc limit 2)\", sqlite3.connect(\"UsedObjects.db\"))"
   ]
  },
  {
   "cell_type": "code",
   "execution_count": 5,
   "id": "popular-active",
   "metadata": {
    "execution": {
     "iopub.execute_input": "2021-11-13T14:00:10.866523Z",
     "iopub.status.busy": "2021-11-13T14:00:10.853742Z",
     "iopub.status.idle": "2021-11-13T14:00:10.885069Z",
     "shell.execute_reply": "2021-11-13T14:00:10.886518Z"
    },
    "papermill": {
     "duration": 0.075318,
     "end_time": "2021-11-13T14:00:10.887022",
     "exception": false,
     "start_time": "2021-11-13T14:00:10.811704",
     "status": "completed"
    },
    "tags": []
   },
   "outputs": [],
   "source": [
    "df_pivot = df.pivot_table(index=\"PRODUCT\", columns = \"RECORD_TIME\", values = \"LISTING_COUNT\")"
   ]
  },
  {
   "cell_type": "code",
   "execution_count": 6,
   "id": "union-huntington",
   "metadata": {
    "execution": {
     "iopub.execute_input": "2021-11-13T14:00:10.965645Z",
     "iopub.status.busy": "2021-11-13T14:00:10.962191Z",
     "iopub.status.idle": "2021-11-13T14:00:10.970563Z",
     "shell.execute_reply": "2021-11-13T14:00:10.973901Z"
    },
    "papermill": {
     "duration": 0.06556,
     "end_time": "2021-11-13T14:00:10.974741",
     "exception": false,
     "start_time": "2021-11-13T14:00:10.909181",
     "status": "completed"
    },
    "tags": []
   },
   "outputs": [],
   "source": [
    "df_pivot.columns = [\"stamp_1\", \"stamp_2\"]\n",
    "df_pivot_diff = df_pivot.diff(axis=1)"
   ]
  },
  {
   "cell_type": "code",
   "execution_count": 7,
   "id": "fifth-motion",
   "metadata": {
    "execution": {
     "iopub.execute_input": "2021-11-13T14:00:11.043505Z",
     "iopub.status.busy": "2021-11-13T14:00:11.040914Z",
     "iopub.status.idle": "2021-11-13T14:00:12.737468Z",
     "shell.execute_reply": "2021-11-13T14:00:12.738842Z"
    },
    "papermill": {
     "duration": 1.734739,
     "end_time": "2021-11-13T14:00:12.739260",
     "exception": false,
     "start_time": "2021-11-13T14:00:11.004521",
     "status": "completed"
    },
    "tags": []
   },
   "outputs": [
    {
     "data": {
      "text/plain": [
       "<AxesSubplot:ylabel='PRODUCT'>"
      ]
     },
     "execution_count": 7,
     "metadata": {},
     "output_type": "execute_result"
    },
    {
     "data": {
      "image/png": "[encoded data removed]",
      "text/plain": [
       "<Figure size 432x288 with 1 Axes>"
      ]
     },
     "metadata": {
      "needs_background": "light"
     },
     "output_type": "display_data"
    }
   ],
   "source": [
    "df_pivot_diff.sort_values(\"stamp_2\", ascending = False)[\"stamp_2\"].head(10).plot.barh()"
   ]
  },
  {
   "cell_type": "code",
   "execution_count": null,
   "id": "extra-executive",
   "metadata": {
    "papermill": {
     "duration": 0.0224,
     "end_time": "2021-11-13T14:00:12.785980",
     "exception": false,
     "start_time": "2021-11-13T14:00:12.763580",
     "status": "completed"
    },
    "tags": []
   },
   "outputs": [],
   "source": []
  }
 ],
 "metadata": {
  "kernelspec": {
   "display_name": "Python 3",
   "language": "python",
   "name": "python3"
  },
  "language_info": {
   "codemirror_mode": {
    "name": "ipython",
    "version": 3
   },
   "file_extension": ".py",
   "mimetype": "text/x-python",
   "name": "python",
   "nbconvert_exporter": "python",
   "pygments_lexer": "ipython3",
   "version": "3.9.5"
  },
  "papermill": {
   "default_parameters": {},
   "duration": 8.525496,
   "end_time": "2021-11-13T14:00:13.429665",
   "environment_variables": {},
   "exception": null,
   "input_path": "eBay_Overview.ipynb",
   "output_path": "eBay_Overview.ipynb",
   "parameters": {},
   "start_time": "2021-11-13T14:00:04.904169",
   "version": "2.3.3"
  }
 },
 "nbformat": 4,
 "nbformat_minor": 5
}