{
 "cells": [
  {
   "cell_type": "code",
   "execution_count": 1,
   "id": "reverse-picking",
   "metadata": {
    "execution": {
     "iopub.execute_input": "2021-09-19T20:30:06.608189Z",
     "iopub.status.busy": "2021-09-19T20:30:06.606211Z",
     "iopub.status.idle": "2021-09-19T20:30:07.409963Z",
     "shell.execute_reply": "2021-09-19T20:30:07.408438Z"
    },
    "papermill": {
     "duration": 0.852821,
     "end_time": "2021-09-19T20:30:07.410354",
     "exception": false,
     "start_time": "2021-09-19T20:30:06.557533",
     "status": "completed"
    },
    "tags": []
   },
   "outputs": [],
   "source": [
    "import pandas as pd\n",
    "import sqlite3"
   ]
  },
  {
   "cell_type": "code",
   "execution_count": 2,
   "id": "innovative-syndrome",
   "metadata": {
    "execution": {
     "iopub.execute_input": "2021-09-19T20:30:07.461092Z",
     "iopub.status.busy": "2021-09-19T20:30:07.459256Z",
     "iopub.status.idle": "2021-09-19T20:30:07.790504Z",
     "shell.execute_reply": "2021-09-19T20:30:07.791758Z"
    },
    "papermill": {
     "duration": 0.360917,
     "end_time": "2021-09-19T20:30:07.792184",
     "exception": false,
     "start_time": "2021-09-19T20:30:07.431267",
     "status": "completed"
    },
    "tags": []
   },
   "outputs": [],
   "source": [
    "timestamps = pd.read_sql(\"select distinct record_time from EBAY_TOP_BERLIN order by record_time desc limit 2\", sqlite3.connect(\"UsedObjects.db\"))"
   ]
  },
  {
   "cell_type": "code",
   "execution_count": 3,
   "id": "periodic-identification",
   "metadata": {
    "execution": {
     "iopub.execute_input": "2021-09-19T20:30:07.857490Z",
     "iopub.status.busy": "2021-09-19T20:30:07.855483Z",
     "iopub.status.idle": "2021-09-19T20:30:07.875134Z",
     "shell.execute_reply": "2021-09-19T20:30:07.876272Z"
    },
    "papermill": {
     "duration": 0.064033,
     "end_time": "2021-09-19T20:30:07.876676",
     "exception": false,
     "start_time": "2021-09-19T20:30:07.812643",
     "status": "completed"
    },
    "tags": []
   },
   "outputs": [
    {
     "data": {
      "text/html": [
       "<div>\n",
       "<style scoped>\n",
       "    .dataframe tbody tr th:only-of-type {\n",
       "        vertical-align: middle;\n",
       "    }\n",
       "\n",
       "    .dataframe tbody tr th {\n",
       "        vertical-align: top;\n",
       "    }\n",
       "\n",
       "    .dataframe thead th {\n",
       "        text-align: right;\n",
       "    }\n",
       "</style>\n",
       "<table border=\"1\" class=\"dataframe\">\n",
       "  <thead>\n",
       "    <tr style=\"text-align: right;\">\n",
       "      <th></th>\n",
       "      <th>RECORD_TIME</th>\n",
       "    </tr>\n",
       "  </thead>\n",
       "  <tbody>\n",
       "    <tr>\n",
       "      <th>0</th>\n",
       "      <td>2021-09-19 22:30</td>\n",
       "    </tr>\n",
       "    <tr>\n",
       "      <th>1</th>\n",
       "      <td>2021-09-19 22:00</td>\n",
       "    </tr>\n",
       "  </tbody>\n",
       "</table>\n",
       "</div>"
      ],
      "text/plain": [
       "        RECORD_TIME\n",
       "0  2021-09-19 22:30\n",
       "1  2021-09-19 22:00"
      ]
     },
     "execution_count": 3,
     "metadata": {},
     "output_type": "execute_result"
    }
   ],
   "source": [
    "timestamps"
   ]
  },
  {
   "cell_type": "code",
   "execution_count": 4,
   "id": "alternate-victory",
   "metadata": {
    "execution": {
     "iopub.execute_input": "2021-09-19T20:30:07.930919Z",
     "iopub.status.busy": "2021-09-19T20:30:07.928609Z",
     "iopub.status.idle": "2021-09-19T20:30:08.437142Z",
     "shell.execute_reply": "2021-09-19T20:30:08.438326Z"
    },
    "papermill": {
     "duration": 0.538658,
     "end_time": "2021-09-19T20:30:08.438710",
     "exception": false,
     "start_time": "2021-09-19T20:30:07.900052",
     "status": "completed"
    },
    "tags": []
   },
   "outputs": [],
   "source": [
    "df = pd.read_sql(\"select * from EBAY_TOP_BERLIN where record_time in (select distinct record_time from EBAY_TOP_BERLIN order by record_time desc limit 2)\", sqlite3.connect(\"UsedObjects.db\"))"
   ]
  },
  {
   "cell_type": "code",
   "execution_count": 5,
   "id": "popular-active",
   "metadata": {
    "execution": {
     "iopub.execute_input": "2021-09-19T20:30:08.523478Z",
     "iopub.status.busy": "2021-09-19T20:30:08.511981Z",
     "iopub.status.idle": "2021-09-19T20:30:08.538575Z",
     "shell.execute_reply": "2021-09-19T20:30:08.539861Z"
    },
    "papermill": {
     "duration": 0.072576,
     "end_time": "2021-09-19T20:30:08.540257",
     "exception": false,
     "start_time": "2021-09-19T20:30:08.467681",
     "status": "completed"
    },
    "tags": []
   },
   "outputs": [],
   "source": [
    "df_pivot = df.pivot_table(index=\"PRODUCT\", columns = \"RECORD_TIME\", values = \"LISTING_COUNT\")"
   ]
  },
  {
   "cell_type": "code",
   "execution_count": 6,
   "id": "union-huntington",
   "metadata": {
    "execution": {
     "iopub.execute_input": "2021-09-19T20:30:08.595725Z",
     "iopub.status.busy": "2021-09-19T20:30:08.593657Z",
     "iopub.status.idle": "2021-09-19T20:30:08.599041Z",
     "shell.execute_reply": "2021-09-19T20:30:08.600316Z"
    },
    "papermill": {
     "duration": 0.040751,
     "end_time": "2021-09-19T20:30:08.600720",
     "exception": false,
     "start_time": "2021-09-19T20:30:08.559969",
     "status": "completed"
    },
    "tags": []
   },
   "outputs": [],
   "source": [
    "df_pivot.columns = [\"stamp_1\", \"stamp_2\"]\n",
    "df_pivot_diff = df_pivot.diff(axis=1)"
   ]
  },
  {
   "cell_type": "code",
   "execution_count": 7,
   "id": "fifth-motion",
   "metadata": {
    "execution": {
     "iopub.execute_input": "2021-09-19T20:30:08.655964Z",
     "iopub.status.busy": "2021-09-19T20:30:08.653427Z",
     "iopub.status.idle": "2021-09-19T20:30:10.155421Z",
     "shell.execute_reply": "2021-09-19T20:30:10.156702Z"
    },
    "papermill": {
     "duration": 1.535062,
     "end_time": "2021-09-19T20:30:10.157112",
     "exception": false,
     "start_time": "2021-09-19T20:30:08.622050",
     "status": "completed"
    },
    "tags": []
   },
   "outputs": [
    {
     "data": {
      "text/plain": [
       "<AxesSubplot:ylabel='PRODUCT'>"
      ]
     },
     "execution_count": 7,
     "metadata": {},
     "output_type": "execute_result"
    },
    {
     "data": {
      "image/png": "[encoded data removed]",
      "text/plain": [
       "<Figure size 432x288 with 1 Axes>"
      ]
     },
     "metadata": {
      "needs_background": "light"
     },
     "output_type": "display_data"
    }
   ],
   "source": [
    "df_pivot_diff.sort_values(\"stamp_2\", ascending = False)[\"stamp_2\"].head(10).plot.barh()"
   ]
  },
  {
   "cell_type": "code",
   "execution_count": null,
   "id": "extra-executive",
   "metadata": {
    "papermill": {
     "duration": 0.021998,
     "end_time": "2021-09-19T20:30:10.202698",
     "exception": false,
     "start_time": "2021-09-19T20:30:10.180700",
     "status": "completed"
    },
    "tags": []
   },
   "outputs": [],
   "source": []
  }
 ],
 "metadata": {
  "kernelspec": {
   "display_name": "Python 3",
   "language": "python",
   "name": "python3"
  },
  "language_info": {
   "codemirror_mode": {
    "name": "ipython",
    "version": 3
   },
   "file_extension": ".py",
   "mimetype": "text/x-python",
   "name": "python",
   "nbconvert_exporter": "python",
   "pygments_lexer": "ipython3",
   "version": "3.9.5"
  },
  "papermill": {
   "default_parameters": {},
   "duration": 6.684659,
   "end_time": "2021-09-19T20:30:10.843889",
   "environment_variables": {},
   "exception": null,
   "input_path": "eBay_Overview.ipynb",
   "output_path": "eBay_Overview.ipynb",
   "parameters": {},
   "start_time": "2021-09-19T20:30:04.159230",
   "version": "2.3.3"
  }
 },
 "nbformat": 4,
 "nbformat_minor": 5
}