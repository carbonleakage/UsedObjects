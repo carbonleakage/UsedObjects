{
 "cells": [
  {
   "cell_type": "code",
   "execution_count": 1,
   "id": "reverse-picking",
   "metadata": {
    "execution": {
     "iopub.execute_input": "2021-11-28T02:00:07.996534Z",
     "iopub.status.busy": "2021-11-28T02:00:07.994219Z",
     "iopub.status.idle": "2021-11-28T02:00:08.939171Z",
     "shell.execute_reply": "2021-11-28T02:00:08.940782Z"
    },
    "papermill": {
     "duration": 0.996454,
     "end_time": "2021-11-28T02:00:08.941529",
     "exception": false,
     "start_time": "2021-11-28T02:00:07.945075",
     "status": "completed"
    },
    "tags": []
   },
   "outputs": [],
   "source": [
    "import pandas as pd\n",
    "import sqlite3"
   ]
  },
  {
   "cell_type": "code",
   "execution_count": 2,
   "id": "innovative-syndrome",
   "metadata": {
    "execution": {
     "iopub.execute_input": "2021-11-28T02:00:08.995872Z",
     "iopub.status.busy": "2021-11-28T02:00:08.993575Z",
     "iopub.status.idle": "2021-11-28T02:00:09.907760Z",
     "shell.execute_reply": "2021-11-28T02:00:09.909227Z"
    },
    "papermill": {
     "duration": 0.947587,
     "end_time": "2021-11-28T02:00:09.909699",
     "exception": false,
     "start_time": "2021-11-28T02:00:08.962112",
     "status": "completed"
    },
    "tags": []
   },
   "outputs": [],
   "source": [
    "timestamps = pd.read_sql(\"select distinct record_time from EBAY_TOP_BERLIN order by record_time desc limit 2\", sqlite3.connect(\"UsedObjects.db\"))"
   ]
  },
  {
   "cell_type": "code",
   "execution_count": 3,
   "id": "periodic-identification",
   "metadata": {
    "execution": {
     "iopub.execute_input": "2021-11-28T02:00:09.981081Z",
     "iopub.status.busy": "2021-11-28T02:00:09.978421Z",
     "iopub.status.idle": "2021-11-28T02:00:10.005551Z",
     "shell.execute_reply": "2021-11-28T02:00:10.007097Z"
    },
    "papermill": {
     "duration": 0.077764,
     "end_time": "2021-11-28T02:00:10.007602",
     "exception": false,
     "start_time": "2021-11-28T02:00:09.929838",
     "status": "completed"
    },
    "tags": []
   },
   "outputs": [
    {
     "data": {
      "text/html": [
       "<div>\n",
       "<style scoped>\n",
       "    .dataframe tbody tr th:only-of-type {\n",
       "        vertical-align: middle;\n",
       "    }\n",
       "\n",
       "    .dataframe tbody tr th {\n",
       "        vertical-align: top;\n",
       "    }\n",
       "\n",
       "    .dataframe thead th {\n",
       "        text-align: right;\n",
       "    }\n",
       "</style>\n",
       "<table border=\"1\" class=\"dataframe\">\n",
       "  <thead>\n",
       "    <tr style=\"text-align: right;\">\n",
       "      <th></th>\n",
       "      <th>RECORD_TIME</th>\n",
       "    </tr>\n",
       "  </thead>\n",
       "  <tbody>\n",
       "    <tr>\n",
       "      <th>0</th>\n",
       "      <td>2021-11-28 03:00</td>\n",
       "    </tr>\n",
       "    <tr>\n",
       "      <th>1</th>\n",
       "      <td>2021-11-28 02:30</td>\n",
       "    </tr>\n",
       "  </tbody>\n",
       "</table>\n",
       "</div>"
      ],
      "text/plain": [
       "        RECORD_TIME\n",
       "0  2021-11-28 03:00\n",
       "1  2021-11-28 02:30"
      ]
     },
     "execution_count": 3,
     "metadata": {},
     "output_type": "execute_result"
    }
   ],
   "source": [
    "timestamps"
   ]
  },
  {
   "cell_type": "code",
   "execution_count": 4,
   "id": "alternate-victory",
   "metadata": {
    "execution": {
     "iopub.execute_input": "2021-11-28T02:00:10.062482Z",
     "iopub.status.busy": "2021-11-28T02:00:10.060276Z",
     "iopub.status.idle": "2021-11-28T02:00:11.427469Z",
     "shell.execute_reply": "2021-11-28T02:00:11.429012Z"
    },
    "papermill": {
     "duration": 1.400943,
     "end_time": "2021-11-28T02:00:11.429517",
     "exception": false,
     "start_time": "2021-11-28T02:00:10.028574",
     "status": "completed"
    },
    "tags": []
   },
   "outputs": [],
   "source": [
    "df = pd.read_sql(\"select * from EBAY_TOP_BERLIN where record_time in (select distinct record_time from EBAY_TOP_BERLIN order by record_time desc limit 2)\", sqlite3.connect(\"UsedObjects.db\"))"
   ]
  },
  {
   "cell_type": "code",
   "execution_count": 5,
   "id": "popular-active",
   "metadata": {
    "execution": {
     "iopub.execute_input": "2021-11-28T02:00:11.510547Z",
     "iopub.status.busy": "2021-11-28T02:00:11.495979Z",
     "iopub.status.idle": "2021-11-28T02:00:11.529535Z",
     "shell.execute_reply": "2021-11-28T02:00:11.531005Z"
    },
    "papermill": {
     "duration": 0.080032,
     "end_time": "2021-11-28T02:00:11.531512",
     "exception": false,
     "start_time": "2021-11-28T02:00:11.451480",
     "status": "completed"
    },
    "tags": []
   },
   "outputs": [],
   "source": [
    "df_pivot = df.pivot_table(index=\"PRODUCT\", columns = \"RECORD_TIME\", values = \"LISTING_COUNT\")"
   ]
  },
  {
   "cell_type": "code",
   "execution_count": 6,
   "id": "union-huntington",
   "metadata": {
    "execution": {
     "iopub.execute_input": "2021-11-28T02:00:11.592398Z",
     "iopub.status.busy": "2021-11-28T02:00:11.590161Z",
     "iopub.status.idle": "2021-11-28T02:00:11.595838Z",
     "shell.execute_reply": "2021-11-28T02:00:11.597379Z"
    },
    "papermill": {
     "duration": 0.044536,
     "end_time": "2021-11-28T02:00:11.597879",
     "exception": false,
     "start_time": "2021-11-28T02:00:11.553343",
     "status": "completed"
    },
    "tags": []
   },
   "outputs": [],
   "source": [
    "df_pivot.columns = [\"stamp_1\", \"stamp_2\"]\n",
    "df_pivot_diff = df_pivot.diff(axis=1)"
   ]
  },
  {
   "cell_type": "code",
   "execution_count": 7,
   "id": "fifth-motion",
   "metadata": {
    "execution": {
     "iopub.execute_input": "2021-11-28T02:00:11.664220Z",
     "iopub.status.busy": "2021-11-28T02:00:11.651796Z",
     "iopub.status.idle": "2021-11-28T02:00:13.567896Z",
     "shell.execute_reply": "2021-11-28T02:00:13.564951Z"
    },
    "papermill": {
     "duration": 1.950346,
     "end_time": "2021-11-28T02:00:13.568742",
     "exception": false,
     "start_time": "2021-11-28T02:00:11.618396",
     "status": "completed"
    },
    "tags": []
   },
   "outputs": [
    {
     "data": {
      "text/plain": [
       "<AxesSubplot:ylabel='PRODUCT'>"
      ]
     },
     "execution_count": 7,
     "metadata": {},
     "output_type": "execute_result"
    },
    {
     "data": {
      "image/png": "[encoded data removed]",
      "text/plain": [
       "<Figure size 432x288 with 1 Axes>"
      ]
     },
     "metadata": {
      "needs_background": "light"
     },
     "output_type": "display_data"
    }
   ],
   "source": [
    "df_pivot_diff.sort_values(\"stamp_2\", ascending = False)[\"stamp_2\"].head(10).plot.barh()"
   ]
  },
  {
   "cell_type": "code",
   "execution_count": null,
   "id": "extra-executive",
   "metadata": {
    "papermill": {
     "duration": 0.034207,
     "end_time": "2021-11-28T02:00:13.641754",
     "exception": false,
     "start_time": "2021-11-28T02:00:13.607547",
     "status": "completed"
    },
    "tags": []
   },
   "outputs": [],
   "source": []
  }
 ],
 "metadata": {
  "kernelspec": {
   "display_name": "Python 3",
   "language": "python",
   "name": "python3"
  },
  "language_info": {
   "codemirror_mode": {
    "name": "ipython",
    "version": 3
   },
   "file_extension": ".py",
   "mimetype": "text/x-python",
   "name": "python",
   "nbconvert_exporter": "python",
   "pygments_lexer": "ipython3",
   "version": "3.9.5"
  },
  "papermill": {
   "default_parameters": {},
   "duration": 9.944305,
   "end_time": "2021-11-28T02:00:15.147228",
   "environment_variables": {},
   "exception": null,
   "input_path": "eBay_Overview.ipynb",
   "output_path": "eBay_Overview.ipynb",
   "parameters": {},
   "start_time": "2021-11-28T02:00:05.202923",
   "version": "2.3.3"
  }
 },
 "nbformat": 4,
 "nbformat_minor": 5
}