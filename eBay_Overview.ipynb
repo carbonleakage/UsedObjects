{
 "cells": [
  {
   "cell_type": "code",
   "execution_count": 1,
   "id": "reverse-picking",
   "metadata": {
    "execution": {
     "iopub.execute_input": "2021-08-25T04:00:06.868395Z",
     "iopub.status.busy": "2021-08-25T04:00:06.866491Z",
     "iopub.status.idle": "2021-08-25T04:00:07.675002Z",
     "shell.execute_reply": "2021-08-25T04:00:07.676302Z"
    },
    "papermill": {
     "duration": 0.862588,
     "end_time": "2021-08-25T04:00:07.676923",
     "exception": false,
     "start_time": "2021-08-25T04:00:06.814335",
     "status": "completed"
    },
    "tags": []
   },
   "outputs": [],
   "source": [
    "import pandas as pd\n",
    "import sqlite3"
   ]
  },
  {
   "cell_type": "code",
   "execution_count": 2,
   "id": "innovative-syndrome",
   "metadata": {
    "execution": {
     "iopub.execute_input": "2021-08-25T04:00:07.726976Z",
     "iopub.status.busy": "2021-08-25T04:00:07.724988Z",
     "iopub.status.idle": "2021-08-25T04:00:07.848828Z",
     "shell.execute_reply": "2021-08-25T04:00:07.850160Z"
    },
    "papermill": {
     "duration": 0.153476,
     "end_time": "2021-08-25T04:00:07.850592",
     "exception": false,
     "start_time": "2021-08-25T04:00:07.697116",
     "status": "completed"
    },
    "tags": []
   },
   "outputs": [],
   "source": [
    "timestamps = pd.read_sql(\"select distinct record_time from EBAY_TOP_BERLIN order by record_time desc limit 2\", sqlite3.connect(\"UsedObjects.db\"))"
   ]
  },
  {
   "cell_type": "code",
   "execution_count": 3,
   "id": "periodic-identification",
   "metadata": {
    "execution": {
     "iopub.execute_input": "2021-08-25T04:00:07.920095Z",
     "iopub.status.busy": "2021-08-25T04:00:07.915067Z",
     "iopub.status.idle": "2021-08-25T04:00:07.935140Z",
     "shell.execute_reply": "2021-08-25T04:00:07.936334Z"
    },
    "papermill": {
     "duration": 0.066546,
     "end_time": "2021-08-25T04:00:07.936766",
     "exception": false,
     "start_time": "2021-08-25T04:00:07.870220",
     "status": "completed"
    },
    "tags": []
   },
   "outputs": [
    {
     "data": {
      "text/html": [
       "<div>\n",
       "<style scoped>\n",
       "    .dataframe tbody tr th:only-of-type {\n",
       "        vertical-align: middle;\n",
       "    }\n",
       "\n",
       "    .dataframe tbody tr th {\n",
       "        vertical-align: top;\n",
       "    }\n",
       "\n",
       "    .dataframe thead th {\n",
       "        text-align: right;\n",
       "    }\n",
       "</style>\n",
       "<table border=\"1\" class=\"dataframe\">\n",
       "  <thead>\n",
       "    <tr style=\"text-align: right;\">\n",
       "      <th></th>\n",
       "      <th>RECORD_TIME</th>\n",
       "    </tr>\n",
       "  </thead>\n",
       "  <tbody>\n",
       "    <tr>\n",
       "      <th>0</th>\n",
       "      <td>2021-08-25 06:00</td>\n",
       "    </tr>\n",
       "    <tr>\n",
       "      <th>1</th>\n",
       "      <td>2021-08-25 05:30</td>\n",
       "    </tr>\n",
       "  </tbody>\n",
       "</table>\n",
       "</div>"
      ],
      "text/plain": [
       "        RECORD_TIME\n",
       "0  2021-08-25 06:00\n",
       "1  2021-08-25 05:30"
      ]
     },
     "execution_count": 3,
     "metadata": {},
     "output_type": "execute_result"
    }
   ],
   "source": [
    "timestamps"
   ]
  },
  {
   "cell_type": "code",
   "execution_count": 4,
   "id": "alternate-victory",
   "metadata": {
    "execution": {
     "iopub.execute_input": "2021-08-25T04:00:07.989084Z",
     "iopub.status.busy": "2021-08-25T04:00:07.986817Z",
     "iopub.status.idle": "2021-08-25T04:00:08.179833Z",
     "shell.execute_reply": "2021-08-25T04:00:08.181112Z"
    },
    "papermill": {
     "duration": 0.223398,
     "end_time": "2021-08-25T04:00:08.181530",
     "exception": false,
     "start_time": "2021-08-25T04:00:07.958132",
     "status": "completed"
    },
    "tags": []
   },
   "outputs": [],
   "source": [
    "df = pd.read_sql(\"select * from EBAY_TOP_BERLIN where record_time in (select distinct record_time from EBAY_TOP_BERLIN order by record_time desc limit 2)\", sqlite3.connect(\"UsedObjects.db\"))"
   ]
  },
  {
   "cell_type": "code",
   "execution_count": 5,
   "id": "popular-active",
   "metadata": {
    "execution": {
     "iopub.execute_input": "2021-08-25T04:00:08.247409Z",
     "iopub.status.busy": "2021-08-25T04:00:08.238662Z",
     "iopub.status.idle": "2021-08-25T04:00:08.268427Z",
     "shell.execute_reply": "2021-08-25T04:00:08.269653Z"
    },
    "papermill": {
     "duration": 0.068429,
     "end_time": "2021-08-25T04:00:08.270238",
     "exception": false,
     "start_time": "2021-08-25T04:00:08.201809",
     "status": "completed"
    },
    "tags": []
   },
   "outputs": [],
   "source": [
    "df_pivot = df.pivot_table(index=\"PRODUCT\", columns = \"RECORD_TIME\", values = \"LISTING_COUNT\")"
   ]
  },
  {
   "cell_type": "code",
   "execution_count": 6,
   "id": "union-huntington",
   "metadata": {
    "execution": {
     "iopub.execute_input": "2021-08-25T04:00:08.339169Z",
     "iopub.status.busy": "2021-08-25T04:00:08.336655Z",
     "iopub.status.idle": "2021-08-25T04:00:08.342787Z",
     "shell.execute_reply": "2021-08-25T04:00:08.344174Z"
    },
    "papermill": {
     "duration": 0.046306,
     "end_time": "2021-08-25T04:00:08.344657",
     "exception": false,
     "start_time": "2021-08-25T04:00:08.298351",
     "status": "completed"
    },
    "tags": []
   },
   "outputs": [],
   "source": [
    "df_pivot.columns = [\"stamp_1\", \"stamp_2\"]\n",
    "df_pivot_diff = df_pivot.diff(axis=1)"
   ]
  },
  {
   "cell_type": "code",
   "execution_count": 7,
   "id": "fifth-motion",
   "metadata": {
    "execution": {
     "iopub.execute_input": "2021-08-25T04:00:08.400333Z",
     "iopub.status.busy": "2021-08-25T04:00:08.397892Z",
     "iopub.status.idle": "2021-08-25T04:00:09.931799Z",
     "shell.execute_reply": "2021-08-25T04:00:09.933092Z"
    },
    "papermill": {
     "duration": 1.566987,
     "end_time": "2021-08-25T04:00:09.933513",
     "exception": false,
     "start_time": "2021-08-25T04:00:08.366526",
     "status": "completed"
    },
    "tags": []
   },
   "outputs": [
    {
     "data": {
      "text/plain": [
       "<AxesSubplot:ylabel='PRODUCT'>"
      ]
     },
     "execution_count": 7,
     "metadata": {},
     "output_type": "execute_result"
    },
    {
     "data": {
      "image/png": "[encoded data removed]",
      "text/plain": [
       "<Figure size 432x288 with 1 Axes>"
      ]
     },
     "metadata": {
      "needs_background": "light"
     },
     "output_type": "display_data"
    }
   ],
   "source": [
    "df_pivot_diff.sort_values(\"stamp_2\", ascending = False)[\"stamp_2\"].head(10).plot.barh()"
   ]
  },
  {
   "cell_type": "code",
   "execution_count": null,
   "id": "extra-executive",
   "metadata": {
    "papermill": {
     "duration": 0.022536,
     "end_time": "2021-08-25T04:00:09.980120",
     "exception": false,
     "start_time": "2021-08-25T04:00:09.957584",
     "status": "completed"
    },
    "tags": []
   },
   "outputs": [],
   "source": []
  }
 ],
 "metadata": {
  "kernelspec": {
   "display_name": "Python 3",
   "language": "python",
   "name": "python3"
  },
  "language_info": {
   "codemirror_mode": {
    "name": "ipython",
    "version": 3
   },
   "file_extension": ".py",
   "mimetype": "text/x-python",
   "name": "python",
   "nbconvert_exporter": "python",
   "pygments_lexer": "ipython3",
   "version": "3.9.5"
  },
  "papermill": {
   "default_parameters": {},
   "duration": 6.829703,
   "end_time": "2021-08-25T04:00:11.224733",
   "environment_variables": {},
   "exception": null,
   "input_path": "eBay_Overview.ipynb",
   "output_path": "eBay_Overview.ipynb",
   "parameters": {},
   "start_time": "2021-08-25T04:00:04.395030",
   "version": "2.3.3"
  }
 },
 "nbformat": 4,
 "nbformat_minor": 5
}