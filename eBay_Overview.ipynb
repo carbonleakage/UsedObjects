{
 "cells": [
  {
   "cell_type": "code",
   "execution_count": 1,
   "id": "reverse-picking",
   "metadata": {
    "execution": {
     "iopub.execute_input": "2021-09-26T12:00:06.916679Z",
     "iopub.status.busy": "2021-09-26T12:00:06.914701Z",
     "iopub.status.idle": "2021-09-26T12:00:07.720027Z",
     "shell.execute_reply": "2021-09-26T12:00:07.721304Z"
    },
    "papermill": {
     "duration": 0.857407,
     "end_time": "2021-09-26T12:00:07.721917",
     "exception": false,
     "start_time": "2021-09-26T12:00:06.864510",
     "status": "completed"
    },
    "tags": []
   },
   "outputs": [],
   "source": [
    "import pandas as pd\n",
    "import sqlite3"
   ]
  },
  {
   "cell_type": "code",
   "execution_count": 2,
   "id": "innovative-syndrome",
   "metadata": {
    "execution": {
     "iopub.execute_input": "2021-09-26T12:00:07.771547Z",
     "iopub.status.busy": "2021-09-26T12:00:07.769632Z",
     "iopub.status.idle": "2021-09-26T12:00:08.153193Z",
     "shell.execute_reply": "2021-09-26T12:00:08.151901Z"
    },
    "papermill": {
     "duration": 0.411708,
     "end_time": "2021-09-26T12:00:08.153532",
     "exception": false,
     "start_time": "2021-09-26T12:00:07.741824",
     "status": "completed"
    },
    "tags": []
   },
   "outputs": [],
   "source": [
    "timestamps = pd.read_sql(\"select distinct record_time from EBAY_TOP_BERLIN order by record_time desc limit 2\", sqlite3.connect(\"UsedObjects.db\"))"
   ]
  },
  {
   "cell_type": "code",
   "execution_count": 3,
   "id": "periodic-identification",
   "metadata": {
    "execution": {
     "iopub.execute_input": "2021-09-26T12:00:08.221628Z",
     "iopub.status.busy": "2021-09-26T12:00:08.219627Z",
     "iopub.status.idle": "2021-09-26T12:00:08.239634Z",
     "shell.execute_reply": "2021-09-26T12:00:08.241367Z"
    },
    "papermill": {
     "duration": 0.065935,
     "end_time": "2021-09-26T12:00:08.241906",
     "exception": false,
     "start_time": "2021-09-26T12:00:08.175971",
     "status": "completed"
    },
    "tags": []
   },
   "outputs": [
    {
     "data": {
      "text/html": [
       "<div>\n",
       "<style scoped>\n",
       "    .dataframe tbody tr th:only-of-type {\n",
       "        vertical-align: middle;\n",
       "    }\n",
       "\n",
       "    .dataframe tbody tr th {\n",
       "        vertical-align: top;\n",
       "    }\n",
       "\n",
       "    .dataframe thead th {\n",
       "        text-align: right;\n",
       "    }\n",
       "</style>\n",
       "<table border=\"1\" class=\"dataframe\">\n",
       "  <thead>\n",
       "    <tr style=\"text-align: right;\">\n",
       "      <th></th>\n",
       "      <th>RECORD_TIME</th>\n",
       "    </tr>\n",
       "  </thead>\n",
       "  <tbody>\n",
       "    <tr>\n",
       "      <th>0</th>\n",
       "      <td>2021-09-26 14:00</td>\n",
       "    </tr>\n",
       "    <tr>\n",
       "      <th>1</th>\n",
       "      <td>2021-09-26 13:30</td>\n",
       "    </tr>\n",
       "  </tbody>\n",
       "</table>\n",
       "</div>"
      ],
      "text/plain": [
       "        RECORD_TIME\n",
       "0  2021-09-26 14:00\n",
       "1  2021-09-26 13:30"
      ]
     },
     "execution_count": 3,
     "metadata": {},
     "output_type": "execute_result"
    }
   ],
   "source": [
    "timestamps"
   ]
  },
  {
   "cell_type": "code",
   "execution_count": 4,
   "id": "alternate-victory",
   "metadata": {
    "execution": {
     "iopub.execute_input": "2021-09-26T12:00:08.294521Z",
     "iopub.status.busy": "2021-09-26T12:00:08.292691Z",
     "iopub.status.idle": "2021-09-26T12:00:08.856238Z",
     "shell.execute_reply": "2021-09-26T12:00:08.857434Z"
    },
    "papermill": {
     "duration": 0.593388,
     "end_time": "2021-09-26T12:00:08.857830",
     "exception": false,
     "start_time": "2021-09-26T12:00:08.264442",
     "status": "completed"
    },
    "tags": []
   },
   "outputs": [],
   "source": [
    "df = pd.read_sql(\"select * from EBAY_TOP_BERLIN where record_time in (select distinct record_time from EBAY_TOP_BERLIN order by record_time desc limit 2)\", sqlite3.connect(\"UsedObjects.db\"))"
   ]
  },
  {
   "cell_type": "code",
   "execution_count": 5,
   "id": "popular-active",
   "metadata": {
    "execution": {
     "iopub.execute_input": "2021-09-26T12:00:08.929114Z",
     "iopub.status.busy": "2021-09-26T12:00:08.917480Z",
     "iopub.status.idle": "2021-09-26T12:00:08.944761Z",
     "shell.execute_reply": "2021-09-26T12:00:08.946020Z"
    },
    "papermill": {
     "duration": 0.068139,
     "end_time": "2021-09-26T12:00:08.946436",
     "exception": false,
     "start_time": "2021-09-26T12:00:08.878297",
     "status": "completed"
    },
    "tags": []
   },
   "outputs": [],
   "source": [
    "df_pivot = df.pivot_table(index=\"PRODUCT\", columns = \"RECORD_TIME\", values = \"LISTING_COUNT\")"
   ]
  },
  {
   "cell_type": "code",
   "execution_count": 6,
   "id": "union-huntington",
   "metadata": {
    "execution": {
     "iopub.execute_input": "2021-09-26T12:00:09.003479Z",
     "iopub.status.busy": "2021-09-26T12:00:09.001388Z",
     "iopub.status.idle": "2021-09-26T12:00:09.006638Z",
     "shell.execute_reply": "2021-09-26T12:00:09.008019Z"
    },
    "papermill": {
     "duration": 0.040145,
     "end_time": "2021-09-26T12:00:09.008446",
     "exception": false,
     "start_time": "2021-09-26T12:00:08.968301",
     "status": "completed"
    },
    "tags": []
   },
   "outputs": [],
   "source": [
    "df_pivot.columns = [\"stamp_1\", \"stamp_2\"]\n",
    "df_pivot_diff = df_pivot.diff(axis=1)"
   ]
  },
  {
   "cell_type": "code",
   "execution_count": 7,
   "id": "fifth-motion",
   "metadata": {
    "execution": {
     "iopub.execute_input": "2021-09-26T12:00:09.063134Z",
     "iopub.status.busy": "2021-09-26T12:00:09.060459Z",
     "iopub.status.idle": "2021-09-26T12:00:10.565894Z",
     "shell.execute_reply": "2021-09-26T12:00:10.567219Z"
    },
    "papermill": {
     "duration": 1.538951,
     "end_time": "2021-09-26T12:00:10.567638",
     "exception": false,
     "start_time": "2021-09-26T12:00:09.028687",
     "status": "completed"
    },
    "tags": []
   },
   "outputs": [
    {
     "data": {
      "text/plain": [
       "<AxesSubplot:ylabel='PRODUCT'>"
      ]
     },
     "execution_count": 7,
     "metadata": {},
     "output_type": "execute_result"
    },
    {
     "data": {
      "image/png": "[encoded data removed]",
      "text/plain": [
       "<Figure size 432x288 with 1 Axes>"
      ]
     },
     "metadata": {
      "needs_background": "light"
     },
     "output_type": "display_data"
    }
   ],
   "source": [
    "df_pivot_diff.sort_values(\"stamp_2\", ascending = False)[\"stamp_2\"].head(10).plot.barh()"
   ]
  },
  {
   "cell_type": "code",
   "execution_count": null,
   "id": "extra-executive",
   "metadata": {
    "papermill": {
     "duration": 0.022295,
     "end_time": "2021-09-26T12:00:10.614835",
     "exception": false,
     "start_time": "2021-09-26T12:00:10.592540",
     "status": "completed"
    },
    "tags": []
   },
   "outputs": [],
   "source": []
  }
 ],
 "metadata": {
  "kernelspec": {
   "display_name": "Python 3",
   "language": "python",
   "name": "python3"
  },
  "language_info": {
   "codemirror_mode": {
    "name": "ipython",
    "version": 3
   },
   "file_extension": ".py",
   "mimetype": "text/x-python",
   "name": "python",
   "nbconvert_exporter": "python",
   "pygments_lexer": "ipython3",
   "version": "3.9.5"
  },
  "papermill": {
   "default_parameters": {},
   "duration": 6.791714,
   "end_time": "2021-09-26T12:00:11.258250",
   "environment_variables": {},
   "exception": null,
   "input_path": "eBay_Overview.ipynb",
   "output_path": "eBay_Overview.ipynb",
   "parameters": {},
   "start_time": "2021-09-26T12:00:04.466536",
   "version": "2.3.3"
  }
 },
 "nbformat": 4,
 "nbformat_minor": 5
}