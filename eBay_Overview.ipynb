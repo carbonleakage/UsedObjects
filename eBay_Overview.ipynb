{
 "cells": [
  {
   "cell_type": "code",
   "execution_count": 1,
   "id": "reverse-picking",
   "metadata": {
    "execution": {
     "iopub.execute_input": "2021-12-07T10:00:07.373994Z",
     "iopub.status.busy": "2021-12-07T10:00:07.368995Z",
     "iopub.status.idle": "2021-12-07T10:00:08.321529Z",
     "shell.execute_reply": "2021-12-07T10:00:08.319272Z"
    },
    "papermill": {
     "duration": 1.006544,
     "end_time": "2021-12-07T10:00:08.322130",
     "exception": false,
     "start_time": "2021-12-07T10:00:07.315586",
     "status": "completed"
    },
    "tags": []
   },
   "outputs": [],
   "source": [
    "import pandas as pd\n",
    "import sqlite3"
   ]
  },
  {
   "cell_type": "code",
   "execution_count": 2,
   "id": "innovative-syndrome",
   "metadata": {
    "execution": {
     "iopub.execute_input": "2021-12-07T10:00:08.386773Z",
     "iopub.status.busy": "2021-12-07T10:00:08.384512Z",
     "iopub.status.idle": "2021-12-07T10:00:09.410930Z",
     "shell.execute_reply": "2021-12-07T10:00:09.413422Z"
    },
    "papermill": {
     "duration": 1.062918,
     "end_time": "2021-12-07T10:00:09.414304",
     "exception": false,
     "start_time": "2021-12-07T10:00:08.351386",
     "status": "completed"
    },
    "tags": []
   },
   "outputs": [],
   "source": [
    "timestamps = pd.read_sql(\"select distinct record_time from EBAY_TOP_BERLIN order by record_time desc limit 2\", sqlite3.connect(\"UsedObjects.db\"))"
   ]
  },
  {
   "cell_type": "code",
   "execution_count": 3,
   "id": "periodic-identification",
   "metadata": {
    "execution": {
     "iopub.execute_input": "2021-12-07T10:00:09.506525Z",
     "iopub.status.busy": "2021-12-07T10:00:09.489840Z",
     "iopub.status.idle": "2021-12-07T10:00:09.513762Z",
     "shell.execute_reply": "2021-12-07T10:00:09.515208Z"
    },
    "papermill": {
     "duration": 0.076056,
     "end_time": "2021-12-07T10:00:09.515696",
     "exception": false,
     "start_time": "2021-12-07T10:00:09.439640",
     "status": "completed"
    },
    "tags": []
   },
   "outputs": [
    {
     "data": {
      "text/html": [
       "<div>\n",
       "<style scoped>\n",
       "    .dataframe tbody tr th:only-of-type {\n",
       "        vertical-align: middle;\n",
       "    }\n",
       "\n",
       "    .dataframe tbody tr th {\n",
       "        vertical-align: top;\n",
       "    }\n",
       "\n",
       "    .dataframe thead th {\n",
       "        text-align: right;\n",
       "    }\n",
       "</style>\n",
       "<table border=\"1\" class=\"dataframe\">\n",
       "  <thead>\n",
       "    <tr style=\"text-align: right;\">\n",
       "      <th></th>\n",
       "      <th>RECORD_TIME</th>\n",
       "    </tr>\n",
       "  </thead>\n",
       "  <tbody>\n",
       "    <tr>\n",
       "      <th>0</th>\n",
       "      <td>2021-12-07 11:00</td>\n",
       "    </tr>\n",
       "    <tr>\n",
       "      <th>1</th>\n",
       "      <td>2021-12-07 10:30</td>\n",
       "    </tr>\n",
       "  </tbody>\n",
       "</table>\n",
       "</div>"
      ],
      "text/plain": [
       "        RECORD_TIME\n",
       "0  2021-12-07 11:00\n",
       "1  2021-12-07 10:30"
      ]
     },
     "execution_count": 3,
     "metadata": {},
     "output_type": "execute_result"
    }
   ],
   "source": [
    "timestamps"
   ]
  },
  {
   "cell_type": "code",
   "execution_count": 4,
   "id": "alternate-victory",
   "metadata": {
    "execution": {
     "iopub.execute_input": "2021-12-07T10:00:09.570511Z",
     "iopub.status.busy": "2021-12-07T10:00:09.568440Z",
     "iopub.status.idle": "2021-12-07T10:00:11.033542Z",
     "shell.execute_reply": "2021-12-07T10:00:11.036299Z"
    },
    "papermill": {
     "duration": 1.500622,
     "end_time": "2021-12-07T10:00:11.037151",
     "exception": false,
     "start_time": "2021-12-07T10:00:09.536529",
     "status": "completed"
    },
    "tags": []
   },
   "outputs": [],
   "source": [
    "df = pd.read_sql(\"select * from EBAY_TOP_BERLIN where record_time in (select distinct record_time from EBAY_TOP_BERLIN order by record_time desc limit 2)\", sqlite3.connect(\"UsedObjects.db\"))"
   ]
  },
  {
   "cell_type": "code",
   "execution_count": 5,
   "id": "popular-active",
   "metadata": {
    "execution": {
     "iopub.execute_input": "2021-12-07T10:00:11.158241Z",
     "iopub.status.busy": "2021-12-07T10:00:11.139255Z",
     "iopub.status.idle": "2021-12-07T10:00:11.186676Z",
     "shell.execute_reply": "2021-12-07T10:00:11.188659Z"
    },
    "papermill": {
     "duration": 0.121053,
     "end_time": "2021-12-07T10:00:11.189373",
     "exception": false,
     "start_time": "2021-12-07T10:00:11.068320",
     "status": "completed"
    },
    "tags": []
   },
   "outputs": [],
   "source": [
    "df_pivot = df.pivot_table(index=\"PRODUCT\", columns = \"RECORD_TIME\", values = \"LISTING_COUNT\")"
   ]
  },
  {
   "cell_type": "code",
   "execution_count": 6,
   "id": "union-huntington",
   "metadata": {
    "execution": {
     "iopub.execute_input": "2021-12-07T10:00:11.277414Z",
     "iopub.status.busy": "2021-12-07T10:00:11.273658Z",
     "iopub.status.idle": "2021-12-07T10:00:11.283985Z",
     "shell.execute_reply": "2021-12-07T10:00:11.286775Z"
    },
    "papermill": {
     "duration": 0.073152,
     "end_time": "2021-12-07T10:00:11.287547",
     "exception": false,
     "start_time": "2021-12-07T10:00:11.214395",
     "status": "completed"
    },
    "tags": []
   },
   "outputs": [],
   "source": [
    "df_pivot.columns = [\"stamp_1\", \"stamp_2\"]\n",
    "df_pivot_diff = df_pivot.diff(axis=1)"
   ]
  },
  {
   "cell_type": "code",
   "execution_count": 7,
   "id": "fifth-motion",
   "metadata": {
    "execution": {
     "iopub.execute_input": "2021-12-07T10:00:11.366712Z",
     "iopub.status.busy": "2021-12-07T10:00:11.363569Z",
     "iopub.status.idle": "2021-12-07T10:00:13.088337Z",
     "shell.execute_reply": "2021-12-07T10:00:13.089684Z"
    },
    "papermill": {
     "duration": 1.77186,
     "end_time": "2021-12-07T10:00:13.090105",
     "exception": false,
     "start_time": "2021-12-07T10:00:11.318245",
     "status": "completed"
    },
    "tags": []
   },
   "outputs": [
    {
     "data": {
      "text/plain": [
       "<AxesSubplot:ylabel='PRODUCT'>"
      ]
     },
     "execution_count": 7,
     "metadata": {},
     "output_type": "execute_result"
    },
    {
     "data": {
      "image/png": "[encoded data removed]",
      "text/plain": [
       "<Figure size 432x288 with 1 Axes>"
      ]
     },
     "metadata": {
      "needs_background": "light"
     },
     "output_type": "display_data"
    }
   ],
   "source": [
    "df_pivot_diff.sort_values(\"stamp_2\", ascending = False)[\"stamp_2\"].head(10).plot.barh()"
   ]
  },
  {
   "cell_type": "code",
   "execution_count": null,
   "id": "extra-executive",
   "metadata": {
    "papermill": {
     "duration": 0.022242,
     "end_time": "2021-12-07T10:00:13.137357",
     "exception": false,
     "start_time": "2021-12-07T10:00:13.115115",
     "status": "completed"
    },
    "tags": []
   },
   "outputs": [],
   "source": []
  }
 ],
 "metadata": {
  "kernelspec": {
   "display_name": "Python 3",
   "language": "python",
   "name": "python3"
  },
  "language_info": {
   "codemirror_mode": {
    "name": "ipython",
    "version": 3
   },
   "file_extension": ".py",
   "mimetype": "text/x-python",
   "name": "python",
   "nbconvert_exporter": "python",
   "pygments_lexer": "ipython3",
   "version": "3.9.5"
  },
  "papermill": {
   "default_parameters": {},
   "duration": 9.946877,
   "end_time": "2021-12-07T10:00:14.541073",
   "environment_variables": {},
   "exception": null,
   "input_path": "eBay_Overview.ipynb",
   "output_path": "eBay_Overview.ipynb",
   "parameters": {},
   "start_time": "2021-12-07T10:00:04.594196",
   "version": "2.3.3"
  }
 },
 "nbformat": 4,
 "nbformat_minor": 5
}