{
 "cells": [
  {
   "cell_type": "code",
   "execution_count": 1,
   "id": "reverse-picking",
   "metadata": {
    "execution": {
     "iopub.execute_input": "2021-10-11T15:30:07.308795Z",
     "iopub.status.busy": "2021-10-11T15:30:07.306790Z",
     "iopub.status.idle": "2021-10-11T15:30:08.116095Z",
     "shell.execute_reply": "2021-10-11T15:30:08.114530Z"
    },
    "papermill": {
     "duration": 0.858509,
     "end_time": "2021-10-11T15:30:08.116489",
     "exception": false,
     "start_time": "2021-10-11T15:30:07.257980",
     "status": "completed"
    },
    "tags": []
   },
   "outputs": [],
   "source": [
    "import pandas as pd\n",
    "import sqlite3"
   ]
  },
  {
   "cell_type": "code",
   "execution_count": 2,
   "id": "innovative-syndrome",
   "metadata": {
    "execution": {
     "iopub.execute_input": "2021-10-11T15:30:08.166487Z",
     "iopub.status.busy": "2021-10-11T15:30:08.164525Z",
     "iopub.status.idle": "2021-10-11T15:30:08.668152Z",
     "shell.execute_reply": "2021-10-11T15:30:08.669429Z"
    },
    "papermill": {
     "duration": 0.532768,
     "end_time": "2021-10-11T15:30:08.669835",
     "exception": false,
     "start_time": "2021-10-11T15:30:08.137067",
     "status": "completed"
    },
    "tags": []
   },
   "outputs": [],
   "source": [
    "timestamps = pd.read_sql(\"select distinct record_time from EBAY_TOP_BERLIN order by record_time desc limit 2\", sqlite3.connect(\"UsedObjects.db\"))"
   ]
  },
  {
   "cell_type": "code",
   "execution_count": 3,
   "id": "periodic-identification",
   "metadata": {
    "execution": {
     "iopub.execute_input": "2021-10-11T15:30:08.734271Z",
     "iopub.status.busy": "2021-10-11T15:30:08.732126Z",
     "iopub.status.idle": "2021-10-11T15:30:08.751935Z",
     "shell.execute_reply": "2021-10-11T15:30:08.753331Z"
    },
    "papermill": {
     "duration": 0.064038,
     "end_time": "2021-10-11T15:30:08.753772",
     "exception": false,
     "start_time": "2021-10-11T15:30:08.689734",
     "status": "completed"
    },
    "tags": []
   },
   "outputs": [
    {
     "data": {
      "text/html": [
       "<div>\n",
       "<style scoped>\n",
       "    .dataframe tbody tr th:only-of-type {\n",
       "        vertical-align: middle;\n",
       "    }\n",
       "\n",
       "    .dataframe tbody tr th {\n",
       "        vertical-align: top;\n",
       "    }\n",
       "\n",
       "    .dataframe thead th {\n",
       "        text-align: right;\n",
       "    }\n",
       "</style>\n",
       "<table border=\"1\" class=\"dataframe\">\n",
       "  <thead>\n",
       "    <tr style=\"text-align: right;\">\n",
       "      <th></th>\n",
       "      <th>RECORD_TIME</th>\n",
       "    </tr>\n",
       "  </thead>\n",
       "  <tbody>\n",
       "    <tr>\n",
       "      <th>0</th>\n",
       "      <td>2021-10-11 17:30</td>\n",
       "    </tr>\n",
       "    <tr>\n",
       "      <th>1</th>\n",
       "      <td>2021-10-11 17:00</td>\n",
       "    </tr>\n",
       "  </tbody>\n",
       "</table>\n",
       "</div>"
      ],
      "text/plain": [
       "        RECORD_TIME\n",
       "0  2021-10-11 17:30\n",
       "1  2021-10-11 17:00"
      ]
     },
     "execution_count": 3,
     "metadata": {},
     "output_type": "execute_result"
    }
   ],
   "source": [
    "timestamps"
   ]
  },
  {
   "cell_type": "code",
   "execution_count": 4,
   "id": "alternate-victory",
   "metadata": {
    "execution": {
     "iopub.execute_input": "2021-10-11T15:30:08.815313Z",
     "iopub.status.busy": "2021-10-11T15:30:08.813162Z",
     "iopub.status.idle": "2021-10-11T15:30:09.550110Z",
     "shell.execute_reply": "2021-10-11T15:30:09.551335Z"
    },
    "papermill": {
     "duration": 0.770413,
     "end_time": "2021-10-11T15:30:09.551722",
     "exception": false,
     "start_time": "2021-10-11T15:30:08.781309",
     "status": "completed"
    },
    "tags": []
   },
   "outputs": [],
   "source": [
    "df = pd.read_sql(\"select * from EBAY_TOP_BERLIN where record_time in (select distinct record_time from EBAY_TOP_BERLIN order by record_time desc limit 2)\", sqlite3.connect(\"UsedObjects.db\"))"
   ]
  },
  {
   "cell_type": "code",
   "execution_count": 5,
   "id": "popular-active",
   "metadata": {
    "execution": {
     "iopub.execute_input": "2021-10-11T15:30:09.620098Z",
     "iopub.status.busy": "2021-10-11T15:30:09.609763Z",
     "iopub.status.idle": "2021-10-11T15:30:09.637207Z",
     "shell.execute_reply": "2021-10-11T15:30:09.638518Z"
    },
    "papermill": {
     "duration": 0.067018,
     "end_time": "2021-10-11T15:30:09.638970",
     "exception": false,
     "start_time": "2021-10-11T15:30:09.571952",
     "status": "completed"
    },
    "tags": []
   },
   "outputs": [],
   "source": [
    "df_pivot = df.pivot_table(index=\"PRODUCT\", columns = \"RECORD_TIME\", values = \"LISTING_COUNT\")"
   ]
  },
  {
   "cell_type": "code",
   "execution_count": 6,
   "id": "union-huntington",
   "metadata": {
    "execution": {
     "iopub.execute_input": "2021-10-11T15:30:09.696963Z",
     "iopub.status.busy": "2021-10-11T15:30:09.694473Z",
     "iopub.status.idle": "2021-10-11T15:30:09.700237Z",
     "shell.execute_reply": "2021-10-11T15:30:09.701613Z"
    },
    "papermill": {
     "duration": 0.04293,
     "end_time": "2021-10-11T15:30:09.702041",
     "exception": false,
     "start_time": "2021-10-11T15:30:09.659111",
     "status": "completed"
    },
    "tags": []
   },
   "outputs": [],
   "source": [
    "df_pivot.columns = [\"stamp_1\", \"stamp_2\"]\n",
    "df_pivot_diff = df_pivot.diff(axis=1)"
   ]
  },
  {
   "cell_type": "code",
   "execution_count": 7,
   "id": "fifth-motion",
   "metadata": {
    "execution": {
     "iopub.execute_input": "2021-10-11T15:30:09.756063Z",
     "iopub.status.busy": "2021-10-11T15:30:09.753734Z",
     "iopub.status.idle": "2021-10-11T15:30:11.226484Z",
     "shell.execute_reply": "2021-10-11T15:30:11.227772Z"
    },
    "papermill": {
     "duration": 1.505689,
     "end_time": "2021-10-11T15:30:11.228183",
     "exception": false,
     "start_time": "2021-10-11T15:30:09.722494",
     "status": "completed"
    },
    "tags": []
   },
   "outputs": [
    {
     "data": {
      "text/plain": [
       "<AxesSubplot:ylabel='PRODUCT'>"
      ]
     },
     "execution_count": 7,
     "metadata": {},
     "output_type": "execute_result"
    },
    {
     "data": {
      "image/png": "[encoded data removed]",
      "text/plain": [
       "<Figure size 432x288 with 1 Axes>"
      ]
     },
     "metadata": {
      "needs_background": "light"
     },
     "output_type": "display_data"
    }
   ],
   "source": [
    "df_pivot_diff.sort_values(\"stamp_2\", ascending = False)[\"stamp_2\"].head(10).plot.barh()"
   ]
  },
  {
   "cell_type": "code",
   "execution_count": null,
   "id": "extra-executive",
   "metadata": {
    "papermill": {
     "duration": 0.022075,
     "end_time": "2021-10-11T15:30:11.274730",
     "exception": false,
     "start_time": "2021-10-11T15:30:11.252655",
     "status": "completed"
    },
    "tags": []
   },
   "outputs": [],
   "source": []
  }
 ],
 "metadata": {
  "kernelspec": {
   "display_name": "Python 3",
   "language": "python",
   "name": "python3"
  },
  "language_info": {
   "codemirror_mode": {
    "name": "ipython",
    "version": 3
   },
   "file_extension": ".py",
   "mimetype": "text/x-python",
   "name": "python",
   "nbconvert_exporter": "python",
   "pygments_lexer": "ipython3",
   "version": "3.9.5"
  },
  "papermill": {
   "default_parameters": {},
   "duration": 7.830356,
   "end_time": "2021-10-11T15:30:12.677363",
   "environment_variables": {},
   "exception": null,
   "input_path": "eBay_Overview.ipynb",
   "output_path": "eBay_Overview.ipynb",
   "parameters": {},
   "start_time": "2021-10-11T15:30:04.847007",
   "version": "2.3.3"
  }
 },
 "nbformat": 4,
 "nbformat_minor": 5
}