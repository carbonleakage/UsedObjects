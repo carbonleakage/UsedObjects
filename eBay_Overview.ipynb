{
 "cells": [
  {
   "cell_type": "code",
   "execution_count": 1,
   "id": "reverse-picking",
   "metadata": {
    "execution": {
     "iopub.execute_input": "2021-09-14T06:30:06.759645Z",
     "iopub.status.busy": "2021-09-14T06:30:06.757639Z",
     "iopub.status.idle": "2021-09-14T06:30:07.560329Z",
     "shell.execute_reply": "2021-09-14T06:30:07.561567Z"
    },
    "papermill": {
     "duration": 0.853234,
     "end_time": "2021-09-14T06:30:07.562184",
     "exception": false,
     "start_time": "2021-09-14T06:30:06.708950",
     "status": "completed"
    },
    "tags": []
   },
   "outputs": [],
   "source": [
    "import pandas as pd\n",
    "import sqlite3"
   ]
  },
  {
   "cell_type": "code",
   "execution_count": 2,
   "id": "innovative-syndrome",
   "metadata": {
    "execution": {
     "iopub.execute_input": "2021-09-14T06:30:07.613503Z",
     "iopub.status.busy": "2021-09-14T06:30:07.611648Z",
     "iopub.status.idle": "2021-09-14T06:30:07.906475Z",
     "shell.execute_reply": "2021-09-14T06:30:07.907844Z"
    },
    "papermill": {
     "duration": 0.324534,
     "end_time": "2021-09-14T06:30:07.908261",
     "exception": false,
     "start_time": "2021-09-14T06:30:07.583727",
     "status": "completed"
    },
    "tags": []
   },
   "outputs": [],
   "source": [
    "timestamps = pd.read_sql(\"select distinct record_time from EBAY_TOP_BERLIN order by record_time desc limit 2\", sqlite3.connect(\"UsedObjects.db\"))"
   ]
  },
  {
   "cell_type": "code",
   "execution_count": 3,
   "id": "periodic-identification",
   "metadata": {
    "execution": {
     "iopub.execute_input": "2021-09-14T06:30:07.973339Z",
     "iopub.status.busy": "2021-09-14T06:30:07.971350Z",
     "iopub.status.idle": "2021-09-14T06:30:07.990948Z",
     "shell.execute_reply": "2021-09-14T06:30:07.992098Z"
    },
    "papermill": {
     "duration": 0.064677,
     "end_time": "2021-09-14T06:30:07.992505",
     "exception": false,
     "start_time": "2021-09-14T06:30:07.927828",
     "status": "completed"
    },
    "tags": []
   },
   "outputs": [
    {
     "data": {
      "text/html": [
       "<div>\n",
       "<style scoped>\n",
       "    .dataframe tbody tr th:only-of-type {\n",
       "        vertical-align: middle;\n",
       "    }\n",
       "\n",
       "    .dataframe tbody tr th {\n",
       "        vertical-align: top;\n",
       "    }\n",
       "\n",
       "    .dataframe thead th {\n",
       "        text-align: right;\n",
       "    }\n",
       "</style>\n",
       "<table border=\"1\" class=\"dataframe\">\n",
       "  <thead>\n",
       "    <tr style=\"text-align: right;\">\n",
       "      <th></th>\n",
       "      <th>RECORD_TIME</th>\n",
       "    </tr>\n",
       "  </thead>\n",
       "  <tbody>\n",
       "    <tr>\n",
       "      <th>0</th>\n",
       "      <td>2021-09-14 08:30</td>\n",
       "    </tr>\n",
       "    <tr>\n",
       "      <th>1</th>\n",
       "      <td>2021-09-14 08:00</td>\n",
       "    </tr>\n",
       "  </tbody>\n",
       "</table>\n",
       "</div>"
      ],
      "text/plain": [
       "        RECORD_TIME\n",
       "0  2021-09-14 08:30\n",
       "1  2021-09-14 08:00"
      ]
     },
     "execution_count": 3,
     "metadata": {},
     "output_type": "execute_result"
    }
   ],
   "source": [
    "timestamps"
   ]
  },
  {
   "cell_type": "code",
   "execution_count": 4,
   "id": "alternate-victory",
   "metadata": {
    "execution": {
     "iopub.execute_input": "2021-09-14T06:30:08.045745Z",
     "iopub.status.busy": "2021-09-14T06:30:08.043460Z",
     "iopub.status.idle": "2021-09-14T06:30:08.460922Z",
     "shell.execute_reply": "2021-09-14T06:30:08.462134Z"
    },
    "papermill": {
     "duration": 0.447478,
     "end_time": "2021-09-14T06:30:08.462523",
     "exception": false,
     "start_time": "2021-09-14T06:30:08.015045",
     "status": "completed"
    },
    "tags": []
   },
   "outputs": [],
   "source": [
    "df = pd.read_sql(\"select * from EBAY_TOP_BERLIN where record_time in (select distinct record_time from EBAY_TOP_BERLIN order by record_time desc limit 2)\", sqlite3.connect(\"UsedObjects.db\"))"
   ]
  },
  {
   "cell_type": "code",
   "execution_count": 5,
   "id": "popular-active",
   "metadata": {
    "execution": {
     "iopub.execute_input": "2021-09-14T06:30:08.539997Z",
     "iopub.status.busy": "2021-09-14T06:30:08.528817Z",
     "iopub.status.idle": "2021-09-14T06:30:08.558125Z",
     "shell.execute_reply": "2021-09-14T06:30:08.559484Z"
    },
    "papermill": {
     "duration": 0.071641,
     "end_time": "2021-09-14T06:30:08.559899",
     "exception": false,
     "start_time": "2021-09-14T06:30:08.488258",
     "status": "completed"
    },
    "tags": []
   },
   "outputs": [],
   "source": [
    "df_pivot = df.pivot_table(index=\"PRODUCT\", columns = \"RECORD_TIME\", values = \"LISTING_COUNT\")"
   ]
  },
  {
   "cell_type": "code",
   "execution_count": 6,
   "id": "union-huntington",
   "metadata": {
    "execution": {
     "iopub.execute_input": "2021-09-14T06:30:08.616014Z",
     "iopub.status.busy": "2021-09-14T06:30:08.613937Z",
     "iopub.status.idle": "2021-09-14T06:30:08.619350Z",
     "shell.execute_reply": "2021-09-14T06:30:08.620650Z"
    },
    "papermill": {
     "duration": 0.04007,
     "end_time": "2021-09-14T06:30:08.621064",
     "exception": false,
     "start_time": "2021-09-14T06:30:08.580994",
     "status": "completed"
    },
    "tags": []
   },
   "outputs": [],
   "source": [
    "df_pivot.columns = [\"stamp_1\", \"stamp_2\"]\n",
    "df_pivot_diff = df_pivot.diff(axis=1)"
   ]
  },
  {
   "cell_type": "code",
   "execution_count": 7,
   "id": "fifth-motion",
   "metadata": {
    "execution": {
     "iopub.execute_input": "2021-09-14T06:30:08.676056Z",
     "iopub.status.busy": "2021-09-14T06:30:08.673465Z",
     "iopub.status.idle": "2021-09-14T06:30:10.183895Z",
     "shell.execute_reply": "2021-09-14T06:30:10.185089Z"
    },
    "papermill": {
     "duration": 1.543267,
     "end_time": "2021-09-14T06:30:10.185517",
     "exception": false,
     "start_time": "2021-09-14T06:30:08.642250",
     "status": "completed"
    },
    "tags": []
   },
   "outputs": [
    {
     "data": {
      "text/plain": [
       "<AxesSubplot:ylabel='PRODUCT'>"
      ]
     },
     "execution_count": 7,
     "metadata": {},
     "output_type": "execute_result"
    },
    {
     "data": {
      "image/png": "[encoded data removed]",
      "text/plain": [
       "<Figure size 432x288 with 1 Axes>"
      ]
     },
     "metadata": {
      "needs_background": "light"
     },
     "output_type": "display_data"
    }
   ],
   "source": [
    "df_pivot_diff.sort_values(\"stamp_2\", ascending = False)[\"stamp_2\"].head(10).plot.barh()"
   ]
  },
  {
   "cell_type": "code",
   "execution_count": null,
   "id": "extra-executive",
   "metadata": {
    "papermill": {
     "duration": 0.022087,
     "end_time": "2021-09-14T06:30:10.233256",
     "exception": false,
     "start_time": "2021-09-14T06:30:10.211169",
     "status": "completed"
    },
    "tags": []
   },
   "outputs": [],
   "source": []
  }
 ],
 "metadata": {
  "kernelspec": {
   "display_name": "Python 3",
   "language": "python",
   "name": "python3"
  },
  "language_info": {
   "codemirror_mode": {
    "name": "ipython",
    "version": 3
   },
   "file_extension": ".py",
   "mimetype": "text/x-python",
   "name": "python",
   "nbconvert_exporter": "python",
   "pygments_lexer": "ipython3",
   "version": "3.9.5"
  },
  "papermill": {
   "default_parameters": {},
   "duration": 6.573501,
   "end_time": "2021-09-14T06:30:10.876479",
   "environment_variables": {},
   "exception": null,
   "input_path": "eBay_Overview.ipynb",
   "output_path": "eBay_Overview.ipynb",
   "parameters": {},
   "start_time": "2021-09-14T06:30:04.302978",
   "version": "2.3.3"
  }
 },
 "nbformat": 4,
 "nbformat_minor": 5
}