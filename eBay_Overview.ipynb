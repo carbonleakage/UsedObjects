{
 "cells": [
  {
   "cell_type": "code",
   "execution_count": 1,
   "id": "reverse-picking",
   "metadata": {
    "execution": {
     "iopub.execute_input": "2021-12-13T08:00:08.131411Z",
     "iopub.status.busy": "2021-12-13T08:00:08.129209Z",
     "iopub.status.idle": "2021-12-13T08:00:09.099947Z",
     "shell.execute_reply": "2021-12-13T08:00:09.101493Z"
    },
    "papermill": {
     "duration": 1.01768,
     "end_time": "2021-12-13T08:00:09.102253",
     "exception": false,
     "start_time": "2021-12-13T08:00:08.084573",
     "status": "completed"
    },
    "tags": []
   },
   "outputs": [],
   "source": [
    "import pandas as pd\n",
    "import sqlite3"
   ]
  },
  {
   "cell_type": "code",
   "execution_count": 2,
   "id": "innovative-syndrome",
   "metadata": {
    "execution": {
     "iopub.execute_input": "2021-12-13T08:00:09.168406Z",
     "iopub.status.busy": "2021-12-13T08:00:09.166224Z",
     "iopub.status.idle": "2021-12-13T08:00:10.245223Z",
     "shell.execute_reply": "2021-12-13T08:00:10.246881Z"
    },
    "papermill": {
     "duration": 1.113743,
     "end_time": "2021-12-13T08:00:10.247398",
     "exception": false,
     "start_time": "2021-12-13T08:00:09.133655",
     "status": "completed"
    },
    "tags": []
   },
   "outputs": [],
   "source": [
    "timestamps = pd.read_sql(\"select distinct record_time from EBAY_TOP_BERLIN order by record_time desc limit 2\", sqlite3.connect(\"UsedObjects.db\"))"
   ]
  },
  {
   "cell_type": "code",
   "execution_count": 3,
   "id": "periodic-identification",
   "metadata": {
    "execution": {
     "iopub.execute_input": "2021-12-13T08:00:10.323665Z",
     "iopub.status.busy": "2021-12-13T08:00:10.320633Z",
     "iopub.status.idle": "2021-12-13T08:00:10.344794Z",
     "shell.execute_reply": "2021-12-13T08:00:10.343173Z"
    },
    "papermill": {
     "duration": 0.075763,
     "end_time": "2021-12-13T08:00:10.345224",
     "exception": false,
     "start_time": "2021-12-13T08:00:10.269461",
     "status": "completed"
    },
    "tags": []
   },
   "outputs": [
    {
     "data": {
      "text/html": [
       "<div>\n",
       "<style scoped>\n",
       "    .dataframe tbody tr th:only-of-type {\n",
       "        vertical-align: middle;\n",
       "    }\n",
       "\n",
       "    .dataframe tbody tr th {\n",
       "        vertical-align: top;\n",
       "    }\n",
       "\n",
       "    .dataframe thead th {\n",
       "        text-align: right;\n",
       "    }\n",
       "</style>\n",
       "<table border=\"1\" class=\"dataframe\">\n",
       "  <thead>\n",
       "    <tr style=\"text-align: right;\">\n",
       "      <th></th>\n",
       "      <th>RECORD_TIME</th>\n",
       "    </tr>\n",
       "  </thead>\n",
       "  <tbody>\n",
       "    <tr>\n",
       "      <th>0</th>\n",
       "      <td>2021-12-13 09:00</td>\n",
       "    </tr>\n",
       "    <tr>\n",
       "      <th>1</th>\n",
       "      <td>2021-12-13 08:30</td>\n",
       "    </tr>\n",
       "  </tbody>\n",
       "</table>\n",
       "</div>"
      ],
      "text/plain": [
       "        RECORD_TIME\n",
       "0  2021-12-13 09:00\n",
       "1  2021-12-13 08:30"
      ]
     },
     "execution_count": 3,
     "metadata": {},
     "output_type": "execute_result"
    }
   ],
   "source": [
    "timestamps"
   ]
  },
  {
   "cell_type": "code",
   "execution_count": 4,
   "id": "alternate-victory",
   "metadata": {
    "execution": {
     "iopub.execute_input": "2021-12-13T08:00:10.401152Z",
     "iopub.status.busy": "2021-12-13T08:00:10.398912Z",
     "iopub.status.idle": "2021-12-13T08:00:11.957887Z",
     "shell.execute_reply": "2021-12-13T08:00:11.959993Z"
    },
    "papermill": {
     "duration": 1.593826,
     "end_time": "2021-12-13T08:00:11.960467",
     "exception": false,
     "start_time": "2021-12-13T08:00:10.366641",
     "status": "completed"
    },
    "tags": []
   },
   "outputs": [],
   "source": [
    "df = pd.read_sql(\"select * from EBAY_TOP_BERLIN where record_time in (select distinct record_time from EBAY_TOP_BERLIN order by record_time desc limit 2)\", sqlite3.connect(\"UsedObjects.db\"))"
   ]
  },
  {
   "cell_type": "code",
   "execution_count": 5,
   "id": "popular-active",
   "metadata": {
    "execution": {
     "iopub.execute_input": "2021-12-13T08:00:12.029567Z",
     "iopub.status.busy": "2021-12-13T08:00:12.027101Z",
     "iopub.status.idle": "2021-12-13T08:00:12.064432Z",
     "shell.execute_reply": "2021-12-13T08:00:12.067241Z"
    },
    "papermill": {
     "duration": 0.084707,
     "end_time": "2021-12-13T08:00:12.067869",
     "exception": false,
     "start_time": "2021-12-13T08:00:11.983162",
     "status": "completed"
    },
    "tags": []
   },
   "outputs": [],
   "source": [
    "df_pivot = df.pivot_table(index=\"PRODUCT\", columns = \"RECORD_TIME\", values = \"LISTING_COUNT\")"
   ]
  },
  {
   "cell_type": "code",
   "execution_count": 6,
   "id": "union-huntington",
   "metadata": {
    "execution": {
     "iopub.execute_input": "2021-12-13T08:00:12.133484Z",
     "iopub.status.busy": "2021-12-13T08:00:12.131370Z",
     "iopub.status.idle": "2021-12-13T08:00:12.139299Z",
     "shell.execute_reply": "2021-12-13T08:00:12.141138Z"
    },
    "papermill": {
     "duration": 0.050589,
     "end_time": "2021-12-13T08:00:12.141656",
     "exception": false,
     "start_time": "2021-12-13T08:00:12.091067",
     "status": "completed"
    },
    "tags": []
   },
   "outputs": [],
   "source": [
    "df_pivot.columns = [\"stamp_1\", \"stamp_2\"]\n",
    "df_pivot_diff = df_pivot.diff(axis=1)"
   ]
  },
  {
   "cell_type": "code",
   "execution_count": 7,
   "id": "fifth-motion",
   "metadata": {
    "execution": {
     "iopub.execute_input": "2021-12-13T08:00:12.199078Z",
     "iopub.status.busy": "2021-12-13T08:00:12.196505Z",
     "iopub.status.idle": "2021-12-13T08:00:14.275726Z",
     "shell.execute_reply": "2021-12-13T08:00:14.277579Z"
    },
    "papermill": {
     "duration": 2.11509,
     "end_time": "2021-12-13T08:00:14.278117",
     "exception": false,
     "start_time": "2021-12-13T08:00:12.163027",
     "status": "completed"
    },
    "tags": []
   },
   "outputs": [
    {
     "data": {
      "text/plain": [
       "<AxesSubplot:ylabel='PRODUCT'>"
      ]
     },
     "execution_count": 7,
     "metadata": {},
     "output_type": "execute_result"
    },
    {
     "data": {
      "image/png": "[encoded data removed]",
      "text/plain": [
       "<Figure size 432x288 with 1 Axes>"
      ]
     },
     "metadata": {
      "needs_background": "light"
     },
     "output_type": "display_data"
    }
   ],
   "source": [
    "df_pivot_diff.sort_values(\"stamp_2\", ascending = False)[\"stamp_2\"].head(10).plot.barh()"
   ]
  },
  {
   "cell_type": "code",
   "execution_count": null,
   "id": "extra-executive",
   "metadata": {
    "papermill": {
     "duration": 0.029966,
     "end_time": "2021-12-13T08:00:14.396445",
     "exception": false,
     "start_time": "2021-12-13T08:00:14.366479",
     "status": "completed"
    },
    "tags": []
   },
   "outputs": [],
   "source": []
  }
 ],
 "metadata": {
  "kernelspec": {
   "display_name": "Python 3",
   "language": "python",
   "name": "python3"
  },
  "language_info": {
   "codemirror_mode": {
    "name": "ipython",
    "version": 3
   },
   "file_extension": ".py",
   "mimetype": "text/x-python",
   "name": "python",
   "nbconvert_exporter": "python",
   "pygments_lexer": "ipython3",
   "version": "3.9.5"
  },
  "papermill": {
   "default_parameters": {},
   "duration": 9.746083,
   "end_time": "2021-12-13T08:00:15.041177",
   "environment_variables": {},
   "exception": null,
   "input_path": "eBay_Overview.ipynb",
   "output_path": "eBay_Overview.ipynb",
   "parameters": {},
   "start_time": "2021-12-13T08:00:05.295094",
   "version": "2.3.3"
  }
 },
 "nbformat": 4,
 "nbformat_minor": 5
}