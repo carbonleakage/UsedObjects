{
 "cells": [
  {
   "cell_type": "code",
   "execution_count": 1,
   "id": "reverse-picking",
   "metadata": {
    "execution": {
     "iopub.execute_input": "2021-12-14T18:30:09.077011Z",
     "iopub.status.busy": "2021-12-14T18:30:09.074678Z",
     "iopub.status.idle": "2021-12-14T18:30:10.029552Z",
     "shell.execute_reply": "2021-12-14T18:30:10.031131Z"
    },
    "papermill": {
     "duration": 1.002972,
     "end_time": "2021-12-14T18:30:10.031854",
     "exception": false,
     "start_time": "2021-12-14T18:30:09.028882",
     "status": "completed"
    },
    "tags": []
   },
   "outputs": [],
   "source": [
    "import pandas as pd\n",
    "import sqlite3"
   ]
  },
  {
   "cell_type": "code",
   "execution_count": 2,
   "id": "innovative-syndrome",
   "metadata": {
    "execution": {
     "iopub.execute_input": "2021-12-14T18:30:10.098029Z",
     "iopub.status.busy": "2021-12-14T18:30:10.095241Z",
     "iopub.status.idle": "2021-12-14T18:30:11.181423Z",
     "shell.execute_reply": "2021-12-14T18:30:11.183584Z"
    },
    "papermill": {
     "duration": 1.122131,
     "end_time": "2021-12-14T18:30:11.184105",
     "exception": false,
     "start_time": "2021-12-14T18:30:10.061974",
     "status": "completed"
    },
    "tags": []
   },
   "outputs": [],
   "source": [
    "timestamps = pd.read_sql(\"select distinct record_time from EBAY_TOP_BERLIN order by record_time desc limit 2\", sqlite3.connect(\"UsedObjects.db\"))"
   ]
  },
  {
   "cell_type": "code",
   "execution_count": 3,
   "id": "periodic-identification",
   "metadata": {
    "execution": {
     "iopub.execute_input": "2021-12-14T18:30:11.255825Z",
     "iopub.status.busy": "2021-12-14T18:30:11.253424Z",
     "iopub.status.idle": "2021-12-14T18:30:11.277459Z",
     "shell.execute_reply": "2021-12-14T18:30:11.278801Z"
    },
    "papermill": {
     "duration": 0.075261,
     "end_time": "2021-12-14T18:30:11.279272",
     "exception": false,
     "start_time": "2021-12-14T18:30:11.204011",
     "status": "completed"
    },
    "tags": []
   },
   "outputs": [
    {
     "data": {
      "text/html": [
       "<div>\n",
       "<style scoped>\n",
       "    .dataframe tbody tr th:only-of-type {\n",
       "        vertical-align: middle;\n",
       "    }\n",
       "\n",
       "    .dataframe tbody tr th {\n",
       "        vertical-align: top;\n",
       "    }\n",
       "\n",
       "    .dataframe thead th {\n",
       "        text-align: right;\n",
       "    }\n",
       "</style>\n",
       "<table border=\"1\" class=\"dataframe\">\n",
       "  <thead>\n",
       "    <tr style=\"text-align: right;\">\n",
       "      <th></th>\n",
       "      <th>RECORD_TIME</th>\n",
       "    </tr>\n",
       "  </thead>\n",
       "  <tbody>\n",
       "    <tr>\n",
       "      <th>0</th>\n",
       "      <td>2021-12-14 19:30</td>\n",
       "    </tr>\n",
       "    <tr>\n",
       "      <th>1</th>\n",
       "      <td>2021-12-14 19:00</td>\n",
       "    </tr>\n",
       "  </tbody>\n",
       "</table>\n",
       "</div>"
      ],
      "text/plain": [
       "        RECORD_TIME\n",
       "0  2021-12-14 19:30\n",
       "1  2021-12-14 19:00"
      ]
     },
     "execution_count": 3,
     "metadata": {},
     "output_type": "execute_result"
    }
   ],
   "source": [
    "timestamps"
   ]
  },
  {
   "cell_type": "code",
   "execution_count": 4,
   "id": "alternate-victory",
   "metadata": {
    "execution": {
     "iopub.execute_input": "2021-12-14T18:30:11.332138Z",
     "iopub.status.busy": "2021-12-14T18:30:11.330043Z",
     "iopub.status.idle": "2021-12-14T18:30:12.940270Z",
     "shell.execute_reply": "2021-12-14T18:30:12.943980Z"
    },
    "papermill": {
     "duration": 1.645359,
     "end_time": "2021-12-14T18:30:12.944944",
     "exception": false,
     "start_time": "2021-12-14T18:30:11.299585",
     "status": "completed"
    },
    "tags": []
   },
   "outputs": [],
   "source": [
    "df = pd.read_sql(\"select * from EBAY_TOP_BERLIN where record_time in (select distinct record_time from EBAY_TOP_BERLIN order by record_time desc limit 2)\", sqlite3.connect(\"UsedObjects.db\"))"
   ]
  },
  {
   "cell_type": "code",
   "execution_count": 5,
   "id": "popular-active",
   "metadata": {
    "execution": {
     "iopub.execute_input": "2021-12-14T18:30:13.045435Z",
     "iopub.status.busy": "2021-12-14T18:30:13.037522Z",
     "iopub.status.idle": "2021-12-14T18:30:13.099430Z",
     "shell.execute_reply": "2021-12-14T18:30:13.102106Z"
    },
    "papermill": {
     "duration": 0.125064,
     "end_time": "2021-12-14T18:30:13.102883",
     "exception": false,
     "start_time": "2021-12-14T18:30:12.977819",
     "status": "completed"
    },
    "tags": []
   },
   "outputs": [],
   "source": [
    "df_pivot = df.pivot_table(index=\"PRODUCT\", columns = \"RECORD_TIME\", values = \"LISTING_COUNT\")"
   ]
  },
  {
   "cell_type": "code",
   "execution_count": 6,
   "id": "union-huntington",
   "metadata": {
    "execution": {
     "iopub.execute_input": "2021-12-14T18:30:13.197414Z",
     "iopub.status.busy": "2021-12-14T18:30:13.193653Z",
     "iopub.status.idle": "2021-12-14T18:30:13.204991Z",
     "shell.execute_reply": "2021-12-14T18:30:13.207853Z"
    },
    "papermill": {
     "duration": 0.075987,
     "end_time": "2021-12-14T18:30:13.208642",
     "exception": false,
     "start_time": "2021-12-14T18:30:13.132655",
     "status": "completed"
    },
    "tags": []
   },
   "outputs": [],
   "source": [
    "df_pivot.columns = [\"stamp_1\", \"stamp_2\"]\n",
    "df_pivot_diff = df_pivot.diff(axis=1)"
   ]
  },
  {
   "cell_type": "code",
   "execution_count": 7,
   "id": "fifth-motion",
   "metadata": {
    "execution": {
     "iopub.execute_input": "2021-12-14T18:30:13.285881Z",
     "iopub.status.busy": "2021-12-14T18:30:13.282039Z",
     "iopub.status.idle": "2021-12-14T18:30:15.060558Z",
     "shell.execute_reply": "2021-12-14T18:30:15.062075Z"
    },
    "papermill": {
     "duration": 1.82413,
     "end_time": "2021-12-14T18:30:15.062528",
     "exception": false,
     "start_time": "2021-12-14T18:30:13.238398",
     "status": "completed"
    },
    "tags": []
   },
   "outputs": [
    {
     "data": {
      "text/plain": [
       "<AxesSubplot:ylabel='PRODUCT'>"
      ]
     },
     "execution_count": 7,
     "metadata": {},
     "output_type": "execute_result"
    },
    {
     "data": {
      "image/png": "[encoded data removed]",
      "text/plain": [
       "<Figure size 432x288 with 1 Axes>"
      ]
     },
     "metadata": {
      "needs_background": "light"
     },
     "output_type": "display_data"
    }
   ],
   "source": [
    "df_pivot_diff.sort_values(\"stamp_2\", ascending = False)[\"stamp_2\"].head(10).plot.barh()"
   ]
  },
  {
   "cell_type": "code",
   "execution_count": null,
   "id": "extra-executive",
   "metadata": {
    "papermill": {
     "duration": 0.026626,
     "end_time": "2021-12-14T18:30:15.121155",
     "exception": false,
     "start_time": "2021-12-14T18:30:15.094529",
     "status": "completed"
    },
    "tags": []
   },
   "outputs": [],
   "source": []
  }
 ],
 "metadata": {
  "kernelspec": {
   "display_name": "Python 3",
   "language": "python",
   "name": "python3"
  },
  "language_info": {
   "codemirror_mode": {
    "name": "ipython",
    "version": 3
   },
   "file_extension": ".py",
   "mimetype": "text/x-python",
   "name": "python",
   "nbconvert_exporter": "python",
   "pygments_lexer": "ipython3",
   "version": "3.9.5"
  },
  "papermill": {
   "default_parameters": {},
   "duration": 9.46779,
   "end_time": "2021-12-14T18:30:15.777506",
   "environment_variables": {},
   "exception": null,
   "input_path": "eBay_Overview.ipynb",
   "output_path": "eBay_Overview.ipynb",
   "parameters": {},
   "start_time": "2021-12-14T18:30:06.309716",
   "version": "2.3.3"
  }
 },
 "nbformat": 4,
 "nbformat_minor": 5
}