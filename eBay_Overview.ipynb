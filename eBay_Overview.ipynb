{
 "cells": [
  {
   "cell_type": "code",
   "execution_count": 1,
   "id": "reverse-picking",
   "metadata": {
    "execution": {
     "iopub.execute_input": "2021-10-27T14:30:07.116496Z",
     "iopub.status.busy": "2021-10-27T14:30:07.114569Z",
     "iopub.status.idle": "2021-10-27T14:30:07.921382Z",
     "shell.execute_reply": "2021-10-27T14:30:07.919616Z"
    },
    "papermill": {
     "duration": 0.856636,
     "end_time": "2021-10-27T14:30:07.921840",
     "exception": false,
     "start_time": "2021-10-27T14:30:07.065204",
     "status": "completed"
    },
    "tags": []
   },
   "outputs": [],
   "source": [
    "import pandas as pd\n",
    "import sqlite3"
   ]
  },
  {
   "cell_type": "code",
   "execution_count": 2,
   "id": "innovative-syndrome",
   "metadata": {
    "execution": {
     "iopub.execute_input": "2021-10-27T14:30:07.972249Z",
     "iopub.status.busy": "2021-10-27T14:30:07.970320Z",
     "iopub.status.idle": "2021-10-27T14:30:08.607261Z",
     "shell.execute_reply": "2021-10-27T14:30:08.608450Z"
    },
    "papermill": {
     "duration": 0.666909,
     "end_time": "2021-10-27T14:30:08.608895",
     "exception": false,
     "start_time": "2021-10-27T14:30:07.941986",
     "status": "completed"
    },
    "tags": []
   },
   "outputs": [],
   "source": [
    "timestamps = pd.read_sql(\"select distinct record_time from EBAY_TOP_BERLIN order by record_time desc limit 2\", sqlite3.connect(\"UsedObjects.db\"))"
   ]
  },
  {
   "cell_type": "code",
   "execution_count": 3,
   "id": "periodic-identification",
   "metadata": {
    "execution": {
     "iopub.execute_input": "2021-10-27T14:30:08.685776Z",
     "iopub.status.busy": "2021-10-27T14:30:08.683722Z",
     "iopub.status.idle": "2021-10-27T14:30:08.703330Z",
     "shell.execute_reply": "2021-10-27T14:30:08.704532Z"
    },
    "papermill": {
     "duration": 0.069001,
     "end_time": "2021-10-27T14:30:08.705123",
     "exception": false,
     "start_time": "2021-10-27T14:30:08.636122",
     "status": "completed"
    },
    "tags": []
   },
   "outputs": [
    {
     "data": {
      "text/html": [
       "<div>\n",
       "<style scoped>\n",
       "    .dataframe tbody tr th:only-of-type {\n",
       "        vertical-align: middle;\n",
       "    }\n",
       "\n",
       "    .dataframe tbody tr th {\n",
       "        vertical-align: top;\n",
       "    }\n",
       "\n",
       "    .dataframe thead th {\n",
       "        text-align: right;\n",
       "    }\n",
       "</style>\n",
       "<table border=\"1\" class=\"dataframe\">\n",
       "  <thead>\n",
       "    <tr style=\"text-align: right;\">\n",
       "      <th></th>\n",
       "      <th>RECORD_TIME</th>\n",
       "    </tr>\n",
       "  </thead>\n",
       "  <tbody>\n",
       "    <tr>\n",
       "      <th>0</th>\n",
       "      <td>2021-10-27 16:30</td>\n",
       "    </tr>\n",
       "    <tr>\n",
       "      <th>1</th>\n",
       "      <td>2021-10-27 16:00</td>\n",
       "    </tr>\n",
       "  </tbody>\n",
       "</table>\n",
       "</div>"
      ],
      "text/plain": [
       "        RECORD_TIME\n",
       "0  2021-10-27 16:30\n",
       "1  2021-10-27 16:00"
      ]
     },
     "execution_count": 3,
     "metadata": {},
     "output_type": "execute_result"
    }
   ],
   "source": [
    "timestamps"
   ]
  },
  {
   "cell_type": "code",
   "execution_count": 4,
   "id": "alternate-victory",
   "metadata": {
    "execution": {
     "iopub.execute_input": "2021-10-27T14:30:08.758232Z",
     "iopub.status.busy": "2021-10-27T14:30:08.755909Z",
     "iopub.status.idle": "2021-10-27T14:30:09.694373Z",
     "shell.execute_reply": "2021-10-27T14:30:09.695580Z"
    },
    "papermill": {
     "duration": 0.968458,
     "end_time": "2021-10-27T14:30:09.695977",
     "exception": false,
     "start_time": "2021-10-27T14:30:08.727519",
     "status": "completed"
    },
    "tags": []
   },
   "outputs": [],
   "source": [
    "df = pd.read_sql(\"select * from EBAY_TOP_BERLIN where record_time in (select distinct record_time from EBAY_TOP_BERLIN order by record_time desc limit 2)\", sqlite3.connect(\"UsedObjects.db\"))"
   ]
  },
  {
   "cell_type": "code",
   "execution_count": 5,
   "id": "popular-active",
   "metadata": {
    "execution": {
     "iopub.execute_input": "2021-10-27T14:30:09.766752Z",
     "iopub.status.busy": "2021-10-27T14:30:09.755537Z",
     "iopub.status.idle": "2021-10-27T14:30:09.782306Z",
     "shell.execute_reply": "2021-10-27T14:30:09.783503Z"
    },
    "papermill": {
     "duration": 0.067553,
     "end_time": "2021-10-27T14:30:09.783901",
     "exception": false,
     "start_time": "2021-10-27T14:30:09.716348",
     "status": "completed"
    },
    "tags": []
   },
   "outputs": [],
   "source": [
    "df_pivot = df.pivot_table(index=\"PRODUCT\", columns = \"RECORD_TIME\", values = \"LISTING_COUNT\")"
   ]
  },
  {
   "cell_type": "code",
   "execution_count": 6,
   "id": "union-huntington",
   "metadata": {
    "execution": {
     "iopub.execute_input": "2021-10-27T14:30:09.839395Z",
     "iopub.status.busy": "2021-10-27T14:30:09.837336Z",
     "iopub.status.idle": "2021-10-27T14:30:09.842510Z",
     "shell.execute_reply": "2021-10-27T14:30:09.843784Z"
    },
    "papermill": {
     "duration": 0.039853,
     "end_time": "2021-10-27T14:30:09.844198",
     "exception": false,
     "start_time": "2021-10-27T14:30:09.804345",
     "status": "completed"
    },
    "tags": []
   },
   "outputs": [],
   "source": [
    "df_pivot.columns = [\"stamp_1\", \"stamp_2\"]\n",
    "df_pivot_diff = df_pivot.diff(axis=1)"
   ]
  },
  {
   "cell_type": "code",
   "execution_count": 7,
   "id": "fifth-motion",
   "metadata": {
    "execution": {
     "iopub.execute_input": "2021-10-27T14:30:09.900114Z",
     "iopub.status.busy": "2021-10-27T14:30:09.897503Z",
     "iopub.status.idle": "2021-10-27T14:30:11.396092Z",
     "shell.execute_reply": "2021-10-27T14:30:11.397530Z"
    },
    "papermill": {
     "duration": 1.532008,
     "end_time": "2021-10-27T14:30:11.397979",
     "exception": false,
     "start_time": "2021-10-27T14:30:09.865971",
     "status": "completed"
    },
    "tags": []
   },
   "outputs": [
    {
     "data": {
      "text/plain": [
       "<AxesSubplot:ylabel='PRODUCT'>"
      ]
     },
     "execution_count": 7,
     "metadata": {},
     "output_type": "execute_result"
    },
    {
     "data": {
      "image/png": "[encoded data removed]",
      "text/plain": [
       "<Figure size 432x288 with 1 Axes>"
      ]
     },
     "metadata": {
      "needs_background": "light"
     },
     "output_type": "display_data"
    }
   ],
   "source": [
    "df_pivot_diff.sort_values(\"stamp_2\", ascending = False)[\"stamp_2\"].head(10).plot.barh()"
   ]
  },
  {
   "cell_type": "code",
   "execution_count": null,
   "id": "extra-executive",
   "metadata": {
    "papermill": {
     "duration": 0.021841,
     "end_time": "2021-10-27T14:30:11.444218",
     "exception": false,
     "start_time": "2021-10-27T14:30:11.422377",
     "status": "completed"
    },
    "tags": []
   },
   "outputs": [],
   "source": []
  }
 ],
 "metadata": {
  "kernelspec": {
   "display_name": "Python 3",
   "language": "python",
   "name": "python3"
  },
  "language_info": {
   "codemirror_mode": {
    "name": "ipython",
    "version": 3
   },
   "file_extension": ".py",
   "mimetype": "text/x-python",
   "name": "python",
   "nbconvert_exporter": "python",
   "pygments_lexer": "ipython3",
   "version": "3.9.5"
  },
  "papermill": {
   "default_parameters": {},
   "duration": 7.422674,
   "end_time": "2021-10-27T14:30:12.086509",
   "environment_variables": {},
   "exception": null,
   "input_path": "eBay_Overview.ipynb",
   "output_path": "eBay_Overview.ipynb",
   "parameters": {},
   "start_time": "2021-10-27T14:30:04.663835",
   "version": "2.3.3"
  }
 },
 "nbformat": 4,
 "nbformat_minor": 5
}