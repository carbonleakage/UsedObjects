{
 "cells": [
  {
   "cell_type": "code",
   "execution_count": 1,
   "id": "reverse-picking",
   "metadata": {
    "execution": {
     "iopub.execute_input": "2021-08-15T08:00:07.167967Z",
     "iopub.status.busy": "2021-08-15T08:00:07.166005Z",
     "iopub.status.idle": "2021-08-15T08:00:07.979383Z",
     "shell.execute_reply": "2021-08-15T08:00:07.980819Z"
    },
    "papermill": {
     "duration": 0.866455,
     "end_time": "2021-08-15T08:00:07.981493",
     "exception": false,
     "start_time": "2021-08-15T08:00:07.115038",
     "status": "completed"
    },
    "tags": []
   },
   "outputs": [],
   "source": [
    "import pandas as pd\n",
    "import sqlite3"
   ]
  },
  {
   "cell_type": "code",
   "execution_count": 2,
   "id": "innovative-syndrome",
   "metadata": {
    "execution": {
     "iopub.execute_input": "2021-08-15T08:00:08.032574Z",
     "iopub.status.busy": "2021-08-15T08:00:08.030219Z",
     "iopub.status.idle": "2021-08-15T08:00:08.084842Z",
     "shell.execute_reply": "2021-08-15T08:00:08.086127Z"
    },
    "papermill": {
     "duration": 0.084823,
     "end_time": "2021-08-15T08:00:08.086561",
     "exception": false,
     "start_time": "2021-08-15T08:00:08.001738",
     "status": "completed"
    },
    "tags": []
   },
   "outputs": [],
   "source": [
    "timestamps = pd.read_sql(\"select distinct record_time from EBAY_TOP_BERLIN order by record_time desc limit 2\", sqlite3.connect(\"UsedObjects.db\"))"
   ]
  },
  {
   "cell_type": "code",
   "execution_count": 3,
   "id": "periodic-identification",
   "metadata": {
    "execution": {
     "iopub.execute_input": "2021-08-15T08:00:08.155245Z",
     "iopub.status.busy": "2021-08-15T08:00:08.149788Z",
     "iopub.status.idle": "2021-08-15T08:00:08.170104Z",
     "shell.execute_reply": "2021-08-15T08:00:08.171478Z"
    },
    "papermill": {
     "duration": 0.065365,
     "end_time": "2021-08-15T08:00:08.171900",
     "exception": false,
     "start_time": "2021-08-15T08:00:08.106535",
     "status": "completed"
    },
    "tags": []
   },
   "outputs": [
    {
     "data": {
      "text/html": [
       "<div>\n",
       "<style scoped>\n",
       "    .dataframe tbody tr th:only-of-type {\n",
       "        vertical-align: middle;\n",
       "    }\n",
       "\n",
       "    .dataframe tbody tr th {\n",
       "        vertical-align: top;\n",
       "    }\n",
       "\n",
       "    .dataframe thead th {\n",
       "        text-align: right;\n",
       "    }\n",
       "</style>\n",
       "<table border=\"1\" class=\"dataframe\">\n",
       "  <thead>\n",
       "    <tr style=\"text-align: right;\">\n",
       "      <th></th>\n",
       "      <th>RECORD_TIME</th>\n",
       "    </tr>\n",
       "  </thead>\n",
       "  <tbody>\n",
       "    <tr>\n",
       "      <th>0</th>\n",
       "      <td>2021-08-15 10:00</td>\n",
       "    </tr>\n",
       "    <tr>\n",
       "      <th>1</th>\n",
       "      <td>2021-08-15 09:30</td>\n",
       "    </tr>\n",
       "  </tbody>\n",
       "</table>\n",
       "</div>"
      ],
      "text/plain": [
       "        RECORD_TIME\n",
       "0  2021-08-15 10:00\n",
       "1  2021-08-15 09:30"
      ]
     },
     "execution_count": 3,
     "metadata": {},
     "output_type": "execute_result"
    }
   ],
   "source": [
    "timestamps"
   ]
  },
  {
   "cell_type": "code",
   "execution_count": 4,
   "id": "alternate-victory",
   "metadata": {
    "execution": {
     "iopub.execute_input": "2021-08-15T08:00:08.222982Z",
     "iopub.status.busy": "2021-08-15T08:00:08.221005Z",
     "iopub.status.idle": "2021-08-15T08:00:08.300511Z",
     "shell.execute_reply": "2021-08-15T08:00:08.301733Z"
    },
    "papermill": {
     "duration": 0.10939,
     "end_time": "2021-08-15T08:00:08.302193",
     "exception": false,
     "start_time": "2021-08-15T08:00:08.192803",
     "status": "completed"
    },
    "tags": []
   },
   "outputs": [],
   "source": [
    "df = pd.read_sql(\"select * from EBAY_TOP_BERLIN where record_time in (select distinct record_time from EBAY_TOP_BERLIN order by record_time desc limit 2)\", sqlite3.connect(\"UsedObjects.db\"))"
   ]
  },
  {
   "cell_type": "code",
   "execution_count": 5,
   "id": "popular-active",
   "metadata": {
    "execution": {
     "iopub.execute_input": "2021-08-15T08:00:08.374807Z",
     "iopub.status.busy": "2021-08-15T08:00:08.363269Z",
     "iopub.status.idle": "2021-08-15T08:00:08.391552Z",
     "shell.execute_reply": "2021-08-15T08:00:08.392773Z"
    },
    "papermill": {
     "duration": 0.068311,
     "end_time": "2021-08-15T08:00:08.393174",
     "exception": false,
     "start_time": "2021-08-15T08:00:08.324863",
     "status": "completed"
    },
    "tags": []
   },
   "outputs": [],
   "source": [
    "df_pivot = df.pivot_table(index=\"PRODUCT\", columns = \"RECORD_TIME\", values = \"LISTING_COUNT\")"
   ]
  },
  {
   "cell_type": "code",
   "execution_count": 6,
   "id": "union-huntington",
   "metadata": {
    "execution": {
     "iopub.execute_input": "2021-08-15T08:00:08.449531Z",
     "iopub.status.busy": "2021-08-15T08:00:08.447362Z",
     "iopub.status.idle": "2021-08-15T08:00:08.453046Z",
     "shell.execute_reply": "2021-08-15T08:00:08.454649Z"
    },
    "papermill": {
     "duration": 0.041345,
     "end_time": "2021-08-15T08:00:08.455113",
     "exception": false,
     "start_time": "2021-08-15T08:00:08.413768",
     "status": "completed"
    },
    "tags": []
   },
   "outputs": [],
   "source": [
    "df_pivot.columns = [\"stamp_1\", \"stamp_2\"]\n",
    "df_pivot_diff = df_pivot.diff(axis=1)"
   ]
  },
  {
   "cell_type": "code",
   "execution_count": 7,
   "id": "fifth-motion",
   "metadata": {
    "execution": {
     "iopub.execute_input": "2021-08-15T08:00:08.511465Z",
     "iopub.status.busy": "2021-08-15T08:00:08.508687Z",
     "iopub.status.idle": "2021-08-15T08:00:10.027260Z",
     "shell.execute_reply": "2021-08-15T08:00:10.028562Z"
    },
    "papermill": {
     "duration": 1.552184,
     "end_time": "2021-08-15T08:00:10.028985",
     "exception": false,
     "start_time": "2021-08-15T08:00:08.476801",
     "status": "completed"
    },
    "tags": []
   },
   "outputs": [
    {
     "data": {
      "text/plain": [
       "<AxesSubplot:ylabel='PRODUCT'>"
      ]
     },
     "execution_count": 7,
     "metadata": {},
     "output_type": "execute_result"
    },
    {
     "data": {
      "image/png": "[encoded data removed]",
      "text/plain": [
       "<Figure size 432x288 with 1 Axes>"
      ]
     },
     "metadata": {
      "needs_background": "light"
     },
     "output_type": "display_data"
    }
   ],
   "source": [
    "df_pivot_diff.sort_values(\"stamp_2\", ascending = False)[\"stamp_2\"].head(10).plot.barh()"
   ]
  },
  {
   "cell_type": "code",
   "execution_count": null,
   "id": "extra-executive",
   "metadata": {
    "papermill": {
     "duration": 0.022037,
     "end_time": "2021-08-15T08:00:10.075254",
     "exception": false,
     "start_time": "2021-08-15T08:00:10.053217",
     "status": "completed"
    },
    "tags": []
   },
   "outputs": [],
   "source": []
  }
 ],
 "metadata": {
  "kernelspec": {
   "display_name": "Python 3",
   "language": "python",
   "name": "python3"
  },
  "language_info": {
   "codemirror_mode": {
    "name": "ipython",
    "version": 3
   },
   "file_extension": ".py",
   "mimetype": "text/x-python",
   "name": "python",
   "nbconvert_exporter": "python",
   "pygments_lexer": "ipython3",
   "version": "3.9.5"
  },
  "papermill": {
   "default_parameters": {},
   "duration": 6.828874,
   "end_time": "2021-08-15T08:00:11.520922",
   "environment_variables": {},
   "exception": null,
   "input_path": "eBay_Overview.ipynb",
   "output_path": "eBay_Overview.ipynb",
   "parameters": {},
   "start_time": "2021-08-15T08:00:04.692048",
   "version": "2.3.3"
  }
 },
 "nbformat": 4,
 "nbformat_minor": 5
}