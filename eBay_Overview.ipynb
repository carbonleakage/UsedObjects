{
 "cells": [
  {
   "cell_type": "code",
   "execution_count": 1,
   "id": "reverse-picking",
   "metadata": {
    "execution": {
     "iopub.execute_input": "2021-10-03T14:30:07.479419Z",
     "iopub.status.busy": "2021-10-03T14:30:07.477438Z",
     "iopub.status.idle": "2021-10-03T14:30:08.280521Z",
     "shell.execute_reply": "2021-10-03T14:30:08.281827Z"
    },
    "papermill": {
     "duration": 0.854493,
     "end_time": "2021-10-03T14:30:08.282462",
     "exception": false,
     "start_time": "2021-10-03T14:30:07.427969",
     "status": "completed"
    },
    "tags": []
   },
   "outputs": [],
   "source": [
    "import pandas as pd\n",
    "import sqlite3"
   ]
  },
  {
   "cell_type": "code",
   "execution_count": 2,
   "id": "innovative-syndrome",
   "metadata": {
    "execution": {
     "iopub.execute_input": "2021-10-03T14:30:08.332892Z",
     "iopub.status.busy": "2021-10-03T14:30:08.330532Z",
     "iopub.status.idle": "2021-10-03T14:30:08.764899Z",
     "shell.execute_reply": "2021-10-03T14:30:08.765985Z"
    },
    "papermill": {
     "duration": 0.46428,
     "end_time": "2021-10-03T14:30:08.766387",
     "exception": false,
     "start_time": "2021-10-03T14:30:08.302107",
     "status": "completed"
    },
    "tags": []
   },
   "outputs": [],
   "source": [
    "timestamps = pd.read_sql(\"select distinct record_time from EBAY_TOP_BERLIN order by record_time desc limit 2\", sqlite3.connect(\"UsedObjects.db\"))"
   ]
  },
  {
   "cell_type": "code",
   "execution_count": 3,
   "id": "periodic-identification",
   "metadata": {
    "execution": {
     "iopub.execute_input": "2021-10-03T14:30:08.832189Z",
     "iopub.status.busy": "2021-10-03T14:30:08.829911Z",
     "iopub.status.idle": "2021-10-03T14:30:08.849998Z",
     "shell.execute_reply": "2021-10-03T14:30:08.851387Z"
    },
    "papermill": {
     "duration": 0.064319,
     "end_time": "2021-10-03T14:30:08.851823",
     "exception": false,
     "start_time": "2021-10-03T14:30:08.787504",
     "status": "completed"
    },
    "tags": []
   },
   "outputs": [
    {
     "data": {
      "text/html": [
       "<div>\n",
       "<style scoped>\n",
       "    .dataframe tbody tr th:only-of-type {\n",
       "        vertical-align: middle;\n",
       "    }\n",
       "\n",
       "    .dataframe tbody tr th {\n",
       "        vertical-align: top;\n",
       "    }\n",
       "\n",
       "    .dataframe thead th {\n",
       "        text-align: right;\n",
       "    }\n",
       "</style>\n",
       "<table border=\"1\" class=\"dataframe\">\n",
       "  <thead>\n",
       "    <tr style=\"text-align: right;\">\n",
       "      <th></th>\n",
       "      <th>RECORD_TIME</th>\n",
       "    </tr>\n",
       "  </thead>\n",
       "  <tbody>\n",
       "    <tr>\n",
       "      <th>0</th>\n",
       "      <td>2021-10-03 16:30</td>\n",
       "    </tr>\n",
       "    <tr>\n",
       "      <th>1</th>\n",
       "      <td>2021-10-03 16:00</td>\n",
       "    </tr>\n",
       "  </tbody>\n",
       "</table>\n",
       "</div>"
      ],
      "text/plain": [
       "        RECORD_TIME\n",
       "0  2021-10-03 16:30\n",
       "1  2021-10-03 16:00"
      ]
     },
     "execution_count": 3,
     "metadata": {},
     "output_type": "execute_result"
    }
   ],
   "source": [
    "timestamps"
   ]
  },
  {
   "cell_type": "code",
   "execution_count": 4,
   "id": "alternate-victory",
   "metadata": {
    "execution": {
     "iopub.execute_input": "2021-10-03T14:30:08.904912Z",
     "iopub.status.busy": "2021-10-03T14:30:08.902588Z",
     "iopub.status.idle": "2021-10-03T14:30:09.556466Z",
     "shell.execute_reply": "2021-10-03T14:30:09.557553Z"
    },
    "papermill": {
     "duration": 0.684331,
     "end_time": "2021-10-03T14:30:09.557952",
     "exception": false,
     "start_time": "2021-10-03T14:30:08.873621",
     "status": "completed"
    },
    "tags": []
   },
   "outputs": [],
   "source": [
    "df = pd.read_sql(\"select * from EBAY_TOP_BERLIN where record_time in (select distinct record_time from EBAY_TOP_BERLIN order by record_time desc limit 2)\", sqlite3.connect(\"UsedObjects.db\"))"
   ]
  },
  {
   "cell_type": "code",
   "execution_count": 5,
   "id": "popular-active",
   "metadata": {
    "execution": {
     "iopub.execute_input": "2021-10-03T14:30:09.640423Z",
     "iopub.status.busy": "2021-10-03T14:30:09.628620Z",
     "iopub.status.idle": "2021-10-03T14:30:09.656758Z",
     "shell.execute_reply": "2021-10-03T14:30:09.657953Z"
    },
    "papermill": {
     "duration": 0.071576,
     "end_time": "2021-10-03T14:30:09.658346",
     "exception": false,
     "start_time": "2021-10-03T14:30:09.586770",
     "status": "completed"
    },
    "tags": []
   },
   "outputs": [],
   "source": [
    "df_pivot = df.pivot_table(index=\"PRODUCT\", columns = \"RECORD_TIME\", values = \"LISTING_COUNT\")"
   ]
  },
  {
   "cell_type": "code",
   "execution_count": 6,
   "id": "union-huntington",
   "metadata": {
    "execution": {
     "iopub.execute_input": "2021-10-03T14:30:09.715457Z",
     "iopub.status.busy": "2021-10-03T14:30:09.713370Z",
     "iopub.status.idle": "2021-10-03T14:30:09.718558Z",
     "shell.execute_reply": "2021-10-03T14:30:09.720028Z"
    },
    "papermill": {
     "duration": 0.040505,
     "end_time": "2021-10-03T14:30:09.720473",
     "exception": false,
     "start_time": "2021-10-03T14:30:09.679968",
     "status": "completed"
    },
    "tags": []
   },
   "outputs": [],
   "source": [
    "df_pivot.columns = [\"stamp_1\", \"stamp_2\"]\n",
    "df_pivot_diff = df_pivot.diff(axis=1)"
   ]
  },
  {
   "cell_type": "code",
   "execution_count": 7,
   "id": "fifth-motion",
   "metadata": {
    "execution": {
     "iopub.execute_input": "2021-10-03T14:30:09.776039Z",
     "iopub.status.busy": "2021-10-03T14:30:09.773502Z",
     "iopub.status.idle": "2021-10-03T14:30:11.290367Z",
     "shell.execute_reply": "2021-10-03T14:30:11.291817Z"
    },
    "papermill": {
     "duration": 1.550206,
     "end_time": "2021-10-03T14:30:11.292256",
     "exception": false,
     "start_time": "2021-10-03T14:30:09.742050",
     "status": "completed"
    },
    "tags": []
   },
   "outputs": [
    {
     "data": {
      "text/plain": [
       "<AxesSubplot:ylabel='PRODUCT'>"
      ]
     },
     "execution_count": 7,
     "metadata": {},
     "output_type": "execute_result"
    },
    {
     "data": {
      "image/png": "[encoded data removed]",
      "text/plain": [
       "<Figure size 432x288 with 1 Axes>"
      ]
     },
     "metadata": {
      "needs_background": "light"
     },
     "output_type": "display_data"
    }
   ],
   "source": [
    "df_pivot_diff.sort_values(\"stamp_2\", ascending = False)[\"stamp_2\"].head(10).plot.barh()"
   ]
  },
  {
   "cell_type": "code",
   "execution_count": null,
   "id": "extra-executive",
   "metadata": {
    "papermill": {
     "duration": 0.022471,
     "end_time": "2021-10-03T14:30:11.338682",
     "exception": false,
     "start_time": "2021-10-03T14:30:11.316211",
     "status": "completed"
    },
    "tags": []
   },
   "outputs": [],
   "source": []
  }
 ],
 "metadata": {
  "kernelspec": {
   "display_name": "Python 3",
   "language": "python",
   "name": "python3"
  },
  "language_info": {
   "codemirror_mode": {
    "name": "ipython",
    "version": 3
   },
   "file_extension": ".py",
   "mimetype": "text/x-python",
   "name": "python",
   "nbconvert_exporter": "python",
   "pygments_lexer": "ipython3",
   "version": "3.9.5"
  },
  "papermill": {
   "default_parameters": {},
   "duration": 7.819224,
   "end_time": "2021-10-03T14:30:12.842445",
   "environment_variables": {},
   "exception": null,
   "input_path": "eBay_Overview.ipynb",
   "output_path": "eBay_Overview.ipynb",
   "parameters": {},
   "start_time": "2021-10-03T14:30:05.023221",
   "version": "2.3.3"
  }
 },
 "nbformat": 4,
 "nbformat_minor": 5
}