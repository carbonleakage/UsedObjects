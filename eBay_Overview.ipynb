{
 "cells": [
  {
   "cell_type": "code",
   "execution_count": 1,
   "id": "reverse-picking",
   "metadata": {
    "execution": {
     "iopub.execute_input": "2021-11-20T04:30:07.141939Z",
     "iopub.status.busy": "2021-11-20T04:30:07.138976Z",
     "iopub.status.idle": "2021-11-20T04:30:08.097459Z",
     "shell.execute_reply": "2021-11-20T04:30:08.100059Z"
    },
    "papermill": {
     "duration": 1.007715,
     "end_time": "2021-11-20T04:30:08.100895",
     "exception": false,
     "start_time": "2021-11-20T04:30:07.093180",
     "status": "completed"
    },
    "tags": []
   },
   "outputs": [],
   "source": [
    "import pandas as pd\n",
    "import sqlite3"
   ]
  },
  {
   "cell_type": "code",
   "execution_count": 2,
   "id": "innovative-syndrome",
   "metadata": {
    "execution": {
     "iopub.execute_input": "2021-11-20T04:30:08.163048Z",
     "iopub.status.busy": "2021-11-20T04:30:08.160567Z",
     "iopub.status.idle": "2021-11-20T04:30:09.029679Z",
     "shell.execute_reply": "2021-11-20T04:30:09.031181Z"
    },
    "papermill": {
     "duration": 0.903222,
     "end_time": "2021-11-20T04:30:09.031664",
     "exception": false,
     "start_time": "2021-11-20T04:30:08.128442",
     "status": "completed"
    },
    "tags": []
   },
   "outputs": [],
   "source": [
    "timestamps = pd.read_sql(\"select distinct record_time from EBAY_TOP_BERLIN order by record_time desc limit 2\", sqlite3.connect(\"UsedObjects.db\"))"
   ]
  },
  {
   "cell_type": "code",
   "execution_count": 3,
   "id": "periodic-identification",
   "metadata": {
    "execution": {
     "iopub.execute_input": "2021-11-20T04:30:09.105004Z",
     "iopub.status.busy": "2021-11-20T04:30:09.098786Z",
     "iopub.status.idle": "2021-11-20T04:30:09.120743Z",
     "shell.execute_reply": "2021-11-20T04:30:09.122122Z"
    },
    "papermill": {
     "duration": 0.071781,
     "end_time": "2021-11-20T04:30:09.122595",
     "exception": false,
     "start_time": "2021-11-20T04:30:09.050814",
     "status": "completed"
    },
    "tags": []
   },
   "outputs": [
    {
     "data": {
      "text/html": [
       "<div>\n",
       "<style scoped>\n",
       "    .dataframe tbody tr th:only-of-type {\n",
       "        vertical-align: middle;\n",
       "    }\n",
       "\n",
       "    .dataframe tbody tr th {\n",
       "        vertical-align: top;\n",
       "    }\n",
       "\n",
       "    .dataframe thead th {\n",
       "        text-align: right;\n",
       "    }\n",
       "</style>\n",
       "<table border=\"1\" class=\"dataframe\">\n",
       "  <thead>\n",
       "    <tr style=\"text-align: right;\">\n",
       "      <th></th>\n",
       "      <th>RECORD_TIME</th>\n",
       "    </tr>\n",
       "  </thead>\n",
       "  <tbody>\n",
       "    <tr>\n",
       "      <th>0</th>\n",
       "      <td>2021-11-20 05:30</td>\n",
       "    </tr>\n",
       "    <tr>\n",
       "      <th>1</th>\n",
       "      <td>2021-11-20 05:00</td>\n",
       "    </tr>\n",
       "  </tbody>\n",
       "</table>\n",
       "</div>"
      ],
      "text/plain": [
       "        RECORD_TIME\n",
       "0  2021-11-20 05:30\n",
       "1  2021-11-20 05:00"
      ]
     },
     "execution_count": 3,
     "metadata": {},
     "output_type": "execute_result"
    }
   ],
   "source": [
    "timestamps"
   ]
  },
  {
   "cell_type": "code",
   "execution_count": 4,
   "id": "alternate-victory",
   "metadata": {
    "execution": {
     "iopub.execute_input": "2021-11-20T04:30:09.176759Z",
     "iopub.status.busy": "2021-11-20T04:30:09.174619Z",
     "iopub.status.idle": "2021-11-20T04:30:10.433199Z",
     "shell.execute_reply": "2021-11-20T04:30:10.434712Z"
    },
    "papermill": {
     "duration": 1.291333,
     "end_time": "2021-11-20T04:30:10.435175",
     "exception": false,
     "start_time": "2021-11-20T04:30:09.143842",
     "status": "completed"
    },
    "tags": []
   },
   "outputs": [],
   "source": [
    "df = pd.read_sql(\"select * from EBAY_TOP_BERLIN where record_time in (select distinct record_time from EBAY_TOP_BERLIN order by record_time desc limit 2)\", sqlite3.connect(\"UsedObjects.db\"))"
   ]
  },
  {
   "cell_type": "code",
   "execution_count": 5,
   "id": "popular-active",
   "metadata": {
    "execution": {
     "iopub.execute_input": "2021-11-20T04:30:10.510414Z",
     "iopub.status.busy": "2021-11-20T04:30:10.501495Z",
     "iopub.status.idle": "2021-11-20T04:30:10.537290Z",
     "shell.execute_reply": "2021-11-20T04:30:10.535486Z"
    },
    "papermill": {
     "duration": 0.079049,
     "end_time": "2021-11-20T04:30:10.537746",
     "exception": false,
     "start_time": "2021-11-20T04:30:10.458697",
     "status": "completed"
    },
    "tags": []
   },
   "outputs": [],
   "source": [
    "df_pivot = df.pivot_table(index=\"PRODUCT\", columns = \"RECORD_TIME\", values = \"LISTING_COUNT\")"
   ]
  },
  {
   "cell_type": "code",
   "execution_count": 6,
   "id": "union-huntington",
   "metadata": {
    "execution": {
     "iopub.execute_input": "2021-11-20T04:30:10.601729Z",
     "iopub.status.busy": "2021-11-20T04:30:10.599320Z",
     "iopub.status.idle": "2021-11-20T04:30:10.604774Z",
     "shell.execute_reply": "2021-11-20T04:30:10.606525Z"
    },
    "papermill": {
     "duration": 0.047403,
     "end_time": "2021-11-20T04:30:10.606994",
     "exception": false,
     "start_time": "2021-11-20T04:30:10.559591",
     "status": "completed"
    },
    "tags": []
   },
   "outputs": [],
   "source": [
    "df_pivot.columns = [\"stamp_1\", \"stamp_2\"]\n",
    "df_pivot_diff = df_pivot.diff(axis=1)"
   ]
  },
  {
   "cell_type": "code",
   "execution_count": 7,
   "id": "fifth-motion",
   "metadata": {
    "execution": {
     "iopub.execute_input": "2021-11-20T04:30:10.663521Z",
     "iopub.status.busy": "2021-11-20T04:30:10.661081Z",
     "iopub.status.idle": "2021-11-20T04:30:12.477901Z",
     "shell.execute_reply": "2021-11-20T04:30:12.481295Z"
    },
    "papermill": {
     "duration": 1.855123,
     "end_time": "2021-11-20T04:30:12.482340",
     "exception": false,
     "start_time": "2021-11-20T04:30:10.627217",
     "status": "completed"
    },
    "tags": []
   },
   "outputs": [
    {
     "data": {
      "text/plain": [
       "<AxesSubplot:ylabel='PRODUCT'>"
      ]
     },
     "execution_count": 7,
     "metadata": {},
     "output_type": "execute_result"
    },
    {
     "data": {
      "image/png": "[encoded data removed]",
      "text/plain": [
       "<Figure size 432x288 with 1 Axes>"
      ]
     },
     "metadata": {
      "needs_background": "light"
     },
     "output_type": "display_data"
    }
   ],
   "source": [
    "df_pivot_diff.sort_values(\"stamp_2\", ascending = False)[\"stamp_2\"].head(10).plot.barh()"
   ]
  },
  {
   "cell_type": "code",
   "execution_count": null,
   "id": "extra-executive",
   "metadata": {
    "papermill": {
     "duration": 0.035846,
     "end_time": "2021-11-20T04:30:12.558538",
     "exception": false,
     "start_time": "2021-11-20T04:30:12.522692",
     "status": "completed"
    },
    "tags": []
   },
   "outputs": [],
   "source": []
  }
 ],
 "metadata": {
  "kernelspec": {
   "display_name": "Python 3",
   "language": "python",
   "name": "python3"
  },
  "language_info": {
   "codemirror_mode": {
    "name": "ipython",
    "version": 3
   },
   "file_extension": ".py",
   "mimetype": "text/x-python",
   "name": "python",
   "nbconvert_exporter": "python",
   "pygments_lexer": "ipython3",
   "version": "3.9.5"
  },
  "papermill": {
   "default_parameters": {},
   "duration": 10.005546,
   "end_time": "2021-11-20T04:30:14.285397",
   "environment_variables": {},
   "exception": null,
   "input_path": "eBay_Overview.ipynb",
   "output_path": "eBay_Overview.ipynb",
   "parameters": {},
   "start_time": "2021-11-20T04:30:04.279851",
   "version": "2.3.3"
  }
 },
 "nbformat": 4,
 "nbformat_minor": 5
}