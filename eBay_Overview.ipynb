{
 "cells": [
  {
   "cell_type": "code",
   "execution_count": 1,
   "id": "reverse-picking",
   "metadata": {
    "execution": {
     "iopub.execute_input": "2021-09-02T09:00:06.970389Z",
     "iopub.status.busy": "2021-09-02T09:00:06.968497Z",
     "iopub.status.idle": "2021-09-02T09:00:07.771619Z",
     "shell.execute_reply": "2021-09-02T09:00:07.772885Z"
    },
    "papermill": {
     "duration": 0.853707,
     "end_time": "2021-09-02T09:00:07.773518",
     "exception": false,
     "start_time": "2021-09-02T09:00:06.919811",
     "status": "completed"
    },
    "tags": []
   },
   "outputs": [],
   "source": [
    "import pandas as pd\n",
    "import sqlite3"
   ]
  },
  {
   "cell_type": "code",
   "execution_count": 2,
   "id": "innovative-syndrome",
   "metadata": {
    "execution": {
     "iopub.execute_input": "2021-09-02T09:00:07.824882Z",
     "iopub.status.busy": "2021-09-02T09:00:07.822589Z",
     "iopub.status.idle": "2021-09-02T09:00:08.007693Z",
     "shell.execute_reply": "2021-09-02T09:00:08.008947Z"
    },
    "papermill": {
     "duration": 0.214964,
     "end_time": "2021-09-02T09:00:08.009345",
     "exception": false,
     "start_time": "2021-09-02T09:00:07.794381",
     "status": "completed"
    },
    "tags": []
   },
   "outputs": [],
   "source": [
    "timestamps = pd.read_sql(\"select distinct record_time from EBAY_TOP_BERLIN order by record_time desc limit 2\", sqlite3.connect(\"UsedObjects.db\"))"
   ]
  },
  {
   "cell_type": "code",
   "execution_count": 3,
   "id": "periodic-identification",
   "metadata": {
    "execution": {
     "iopub.execute_input": "2021-09-02T09:00:08.074110Z",
     "iopub.status.busy": "2021-09-02T09:00:08.072110Z",
     "iopub.status.idle": "2021-09-02T09:00:08.092023Z",
     "shell.execute_reply": "2021-09-02T09:00:08.093221Z"
    },
    "papermill": {
     "duration": 0.064553,
     "end_time": "2021-09-02T09:00:08.093655",
     "exception": false,
     "start_time": "2021-09-02T09:00:08.029102",
     "status": "completed"
    },
    "tags": []
   },
   "outputs": [
    {
     "data": {
      "text/html": [
       "<div>\n",
       "<style scoped>\n",
       "    .dataframe tbody tr th:only-of-type {\n",
       "        vertical-align: middle;\n",
       "    }\n",
       "\n",
       "    .dataframe tbody tr th {\n",
       "        vertical-align: top;\n",
       "    }\n",
       "\n",
       "    .dataframe thead th {\n",
       "        text-align: right;\n",
       "    }\n",
       "</style>\n",
       "<table border=\"1\" class=\"dataframe\">\n",
       "  <thead>\n",
       "    <tr style=\"text-align: right;\">\n",
       "      <th></th>\n",
       "      <th>RECORD_TIME</th>\n",
       "    </tr>\n",
       "  </thead>\n",
       "  <tbody>\n",
       "    <tr>\n",
       "      <th>0</th>\n",
       "      <td>2021-09-02 11:00</td>\n",
       "    </tr>\n",
       "    <tr>\n",
       "      <th>1</th>\n",
       "      <td>2021-09-02 10:30</td>\n",
       "    </tr>\n",
       "  </tbody>\n",
       "</table>\n",
       "</div>"
      ],
      "text/plain": [
       "        RECORD_TIME\n",
       "0  2021-09-02 11:00\n",
       "1  2021-09-02 10:30"
      ]
     },
     "execution_count": 3,
     "metadata": {},
     "output_type": "execute_result"
    }
   ],
   "source": [
    "timestamps"
   ]
  },
  {
   "cell_type": "code",
   "execution_count": 4,
   "id": "alternate-victory",
   "metadata": {
    "execution": {
     "iopub.execute_input": "2021-09-02T09:00:08.146295Z",
     "iopub.status.busy": "2021-09-02T09:00:08.144471Z",
     "iopub.status.idle": "2021-09-02T09:00:08.425694Z",
     "shell.execute_reply": "2021-09-02T09:00:08.427022Z"
    },
    "papermill": {
     "duration": 0.311494,
     "end_time": "2021-09-02T09:00:08.427453",
     "exception": false,
     "start_time": "2021-09-02T09:00:08.115959",
     "status": "completed"
    },
    "tags": []
   },
   "outputs": [],
   "source": [
    "df = pd.read_sql(\"select * from EBAY_TOP_BERLIN where record_time in (select distinct record_time from EBAY_TOP_BERLIN order by record_time desc limit 2)\", sqlite3.connect(\"UsedObjects.db\"))"
   ]
  },
  {
   "cell_type": "code",
   "execution_count": 5,
   "id": "popular-active",
   "metadata": {
    "execution": {
     "iopub.execute_input": "2021-09-02T09:00:08.509643Z",
     "iopub.status.busy": "2021-09-02T09:00:08.497724Z",
     "iopub.status.idle": "2021-09-02T09:00:08.525842Z",
     "shell.execute_reply": "2021-09-02T09:00:08.527280Z"
    },
    "papermill": {
     "duration": 0.073946,
     "end_time": "2021-09-02T09:00:08.527699",
     "exception": false,
     "start_time": "2021-09-02T09:00:08.453753",
     "status": "completed"
    },
    "tags": []
   },
   "outputs": [],
   "source": [
    "df_pivot = df.pivot_table(index=\"PRODUCT\", columns = \"RECORD_TIME\", values = \"LISTING_COUNT\")"
   ]
  },
  {
   "cell_type": "code",
   "execution_count": 6,
   "id": "union-huntington",
   "metadata": {
    "execution": {
     "iopub.execute_input": "2021-09-02T09:00:08.586723Z",
     "iopub.status.busy": "2021-09-02T09:00:08.584318Z",
     "iopub.status.idle": "2021-09-02T09:00:08.590168Z",
     "shell.execute_reply": "2021-09-02T09:00:08.591409Z"
    },
    "papermill": {
     "duration": 0.042469,
     "end_time": "2021-09-02T09:00:08.591840",
     "exception": false,
     "start_time": "2021-09-02T09:00:08.549371",
     "status": "completed"
    },
    "tags": []
   },
   "outputs": [],
   "source": [
    "df_pivot.columns = [\"stamp_1\", \"stamp_2\"]\n",
    "df_pivot_diff = df_pivot.diff(axis=1)"
   ]
  },
  {
   "cell_type": "code",
   "execution_count": 7,
   "id": "fifth-motion",
   "metadata": {
    "execution": {
     "iopub.execute_input": "2021-09-02T09:00:08.647297Z",
     "iopub.status.busy": "2021-09-02T09:00:08.645067Z",
     "iopub.status.idle": "2021-09-02T09:00:10.105888Z",
     "shell.execute_reply": "2021-09-02T09:00:10.107382Z"
    },
    "papermill": {
     "duration": 1.494044,
     "end_time": "2021-09-02T09:00:10.107826",
     "exception": false,
     "start_time": "2021-09-02T09:00:08.613782",
     "status": "completed"
    },
    "tags": []
   },
   "outputs": [
    {
     "data": {
      "text/plain": [
       "<AxesSubplot:ylabel='PRODUCT'>"
      ]
     },
     "execution_count": 7,
     "metadata": {},
     "output_type": "execute_result"
    },
    {
     "data": {
      "image/png": "[encoded data removed]",
      "text/plain": [
       "<Figure size 432x288 with 1 Axes>"
      ]
     },
     "metadata": {
      "needs_background": "light"
     },
     "output_type": "display_data"
    }
   ],
   "source": [
    "df_pivot_diff.sort_values(\"stamp_2\", ascending = False)[\"stamp_2\"].head(10).plot.barh()"
   ]
  },
  {
   "cell_type": "code",
   "execution_count": null,
   "id": "extra-executive",
   "metadata": {
    "papermill": {
     "duration": 0.022683,
     "end_time": "2021-09-02T09:00:10.154762",
     "exception": false,
     "start_time": "2021-09-02T09:00:10.132079",
     "status": "completed"
    },
    "tags": []
   },
   "outputs": [],
   "source": []
  }
 ],
 "metadata": {
  "kernelspec": {
   "display_name": "Python 3",
   "language": "python",
   "name": "python3"
  },
  "language_info": {
   "codemirror_mode": {
    "name": "ipython",
    "version": 3
   },
   "file_extension": ".py",
   "mimetype": "text/x-python",
   "name": "python",
   "nbconvert_exporter": "python",
   "pygments_lexer": "ipython3",
   "version": "3.9.5"
  },
  "papermill": {
   "default_parameters": {},
   "duration": 6.820125,
   "end_time": "2021-09-02T09:00:11.341054",
   "environment_variables": {},
   "exception": null,
   "input_path": "eBay_Overview.ipynb",
   "output_path": "eBay_Overview.ipynb",
   "parameters": {},
   "start_time": "2021-09-02T09:00:04.520929",
   "version": "2.3.3"
  }
 },
 "nbformat": 4,
 "nbformat_minor": 5
}