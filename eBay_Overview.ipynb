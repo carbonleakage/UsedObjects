{
 "cells": [
  {
   "cell_type": "code",
   "execution_count": 1,
   "id": "reverse-picking",
   "metadata": {
    "execution": {
     "iopub.execute_input": "2021-09-29T07:00:07.038507Z",
     "iopub.status.busy": "2021-09-29T07:00:07.036599Z",
     "iopub.status.idle": "2021-09-29T07:00:07.843661Z",
     "shell.execute_reply": "2021-09-29T07:00:07.842030Z"
    },
    "papermill": {
     "duration": 0.855877,
     "end_time": "2021-09-29T07:00:07.844071",
     "exception": false,
     "start_time": "2021-09-29T07:00:06.988194",
     "status": "completed"
    },
    "tags": []
   },
   "outputs": [],
   "source": [
    "import pandas as pd\n",
    "import sqlite3"
   ]
  },
  {
   "cell_type": "code",
   "execution_count": 2,
   "id": "innovative-syndrome",
   "metadata": {
    "execution": {
     "iopub.execute_input": "2021-09-29T07:00:07.896309Z",
     "iopub.status.busy": "2021-09-29T07:00:07.894169Z",
     "iopub.status.idle": "2021-09-29T07:00:08.299306Z",
     "shell.execute_reply": "2021-09-29T07:00:08.300693Z"
    },
    "papermill": {
     "duration": 0.43477,
     "end_time": "2021-09-29T07:00:08.301132",
     "exception": false,
     "start_time": "2021-09-29T07:00:07.866362",
     "status": "completed"
    },
    "tags": []
   },
   "outputs": [],
   "source": [
    "timestamps = pd.read_sql(\"select distinct record_time from EBAY_TOP_BERLIN order by record_time desc limit 2\", sqlite3.connect(\"UsedObjects.db\"))"
   ]
  },
  {
   "cell_type": "code",
   "execution_count": 3,
   "id": "periodic-identification",
   "metadata": {
    "execution": {
     "iopub.execute_input": "2021-09-29T07:00:08.367795Z",
     "iopub.status.busy": "2021-09-29T07:00:08.365695Z",
     "iopub.status.idle": "2021-09-29T07:00:08.385854Z",
     "shell.execute_reply": "2021-09-29T07:00:08.387164Z"
    },
    "papermill": {
     "duration": 0.066731,
     "end_time": "2021-09-29T07:00:08.387625",
     "exception": false,
     "start_time": "2021-09-29T07:00:08.320894",
     "status": "completed"
    },
    "tags": []
   },
   "outputs": [
    {
     "data": {
      "text/html": [
       "<div>\n",
       "<style scoped>\n",
       "    .dataframe tbody tr th:only-of-type {\n",
       "        vertical-align: middle;\n",
       "    }\n",
       "\n",
       "    .dataframe tbody tr th {\n",
       "        vertical-align: top;\n",
       "    }\n",
       "\n",
       "    .dataframe thead th {\n",
       "        text-align: right;\n",
       "    }\n",
       "</style>\n",
       "<table border=\"1\" class=\"dataframe\">\n",
       "  <thead>\n",
       "    <tr style=\"text-align: right;\">\n",
       "      <th></th>\n",
       "      <th>RECORD_TIME</th>\n",
       "    </tr>\n",
       "  </thead>\n",
       "  <tbody>\n",
       "    <tr>\n",
       "      <th>0</th>\n",
       "      <td>2021-09-29 09:00</td>\n",
       "    </tr>\n",
       "    <tr>\n",
       "      <th>1</th>\n",
       "      <td>2021-09-29 08:30</td>\n",
       "    </tr>\n",
       "  </tbody>\n",
       "</table>\n",
       "</div>"
      ],
      "text/plain": [
       "        RECORD_TIME\n",
       "0  2021-09-29 09:00\n",
       "1  2021-09-29 08:30"
      ]
     },
     "execution_count": 3,
     "metadata": {},
     "output_type": "execute_result"
    }
   ],
   "source": [
    "timestamps"
   ]
  },
  {
   "cell_type": "code",
   "execution_count": 4,
   "id": "alternate-victory",
   "metadata": {
    "execution": {
     "iopub.execute_input": "2021-09-29T07:00:08.441455Z",
     "iopub.status.busy": "2021-09-29T07:00:08.439425Z",
     "iopub.status.idle": "2021-09-29T07:00:09.038935Z",
     "shell.execute_reply": "2021-09-29T07:00:09.040314Z"
    },
    "papermill": {
     "duration": 0.630132,
     "end_time": "2021-09-29T07:00:09.040734",
     "exception": false,
     "start_time": "2021-09-29T07:00:08.410602",
     "status": "completed"
    },
    "tags": []
   },
   "outputs": [],
   "source": [
    "df = pd.read_sql(\"select * from EBAY_TOP_BERLIN where record_time in (select distinct record_time from EBAY_TOP_BERLIN order by record_time desc limit 2)\", sqlite3.connect(\"UsedObjects.db\"))"
   ]
  },
  {
   "cell_type": "code",
   "execution_count": 5,
   "id": "popular-active",
   "metadata": {
    "execution": {
     "iopub.execute_input": "2021-09-29T07:00:09.111101Z",
     "iopub.status.busy": "2021-09-29T07:00:09.099276Z",
     "iopub.status.idle": "2021-09-29T07:00:09.128406Z",
     "shell.execute_reply": "2021-09-29T07:00:09.129769Z"
    },
    "papermill": {
     "duration": 0.067934,
     "end_time": "2021-09-29T07:00:09.130201",
     "exception": false,
     "start_time": "2021-09-29T07:00:09.062267",
     "status": "completed"
    },
    "tags": []
   },
   "outputs": [],
   "source": [
    "df_pivot = df.pivot_table(index=\"PRODUCT\", columns = \"RECORD_TIME\", values = \"LISTING_COUNT\")"
   ]
  },
  {
   "cell_type": "code",
   "execution_count": 6,
   "id": "union-huntington",
   "metadata": {
    "execution": {
     "iopub.execute_input": "2021-09-29T07:00:09.186906Z",
     "iopub.status.busy": "2021-09-29T07:00:09.184564Z",
     "iopub.status.idle": "2021-09-29T07:00:09.190327Z",
     "shell.execute_reply": "2021-09-29T07:00:09.191683Z"
    },
    "papermill": {
     "duration": 0.041795,
     "end_time": "2021-09-29T07:00:09.192107",
     "exception": false,
     "start_time": "2021-09-29T07:00:09.150312",
     "status": "completed"
    },
    "tags": []
   },
   "outputs": [],
   "source": [
    "df_pivot.columns = [\"stamp_1\", \"stamp_2\"]\n",
    "df_pivot_diff = df_pivot.diff(axis=1)"
   ]
  },
  {
   "cell_type": "code",
   "execution_count": 7,
   "id": "fifth-motion",
   "metadata": {
    "execution": {
     "iopub.execute_input": "2021-09-29T07:00:09.246364Z",
     "iopub.status.busy": "2021-09-29T07:00:09.244069Z",
     "iopub.status.idle": "2021-09-29T07:00:10.718703Z",
     "shell.execute_reply": "2021-09-29T07:00:10.719991Z"
    },
    "papermill": {
     "duration": 1.507721,
     "end_time": "2021-09-29T07:00:10.720423",
     "exception": false,
     "start_time": "2021-09-29T07:00:09.212702",
     "status": "completed"
    },
    "tags": []
   },
   "outputs": [
    {
     "data": {
      "text/plain": [
       "<AxesSubplot:ylabel='PRODUCT'>"
      ]
     },
     "execution_count": 7,
     "metadata": {},
     "output_type": "execute_result"
    },
    {
     "data": {
      "image/png": "[encoded data removed]",
      "text/plain": [
       "<Figure size 432x288 with 1 Axes>"
      ]
     },
     "metadata": {
      "needs_background": "light"
     },
     "output_type": "display_data"
    }
   ],
   "source": [
    "df_pivot_diff.sort_values(\"stamp_2\", ascending = False)[\"stamp_2\"].head(10).plot.barh()"
   ]
  },
  {
   "cell_type": "code",
   "execution_count": null,
   "id": "extra-executive",
   "metadata": {
    "papermill": {
     "duration": 0.022093,
     "end_time": "2021-09-29T07:00:10.765513",
     "exception": false,
     "start_time": "2021-09-29T07:00:10.743420",
     "status": "completed"
    },
    "tags": []
   },
   "outputs": [],
   "source": []
  }
 ],
 "metadata": {
  "kernelspec": {
   "display_name": "Python 3",
   "language": "python",
   "name": "python3"
  },
  "language_info": {
   "codemirror_mode": {
    "name": "ipython",
    "version": 3
   },
   "file_extension": ".py",
   "mimetype": "text/x-python",
   "name": "python",
   "nbconvert_exporter": "python",
   "pygments_lexer": "ipython3",
   "version": "3.9.5"
  },
  "papermill": {
   "default_parameters": {},
   "duration": 6.825939,
   "end_time": "2021-09-29T07:00:11.409139",
   "environment_variables": {},
   "exception": null,
   "input_path": "eBay_Overview.ipynb",
   "output_path": "eBay_Overview.ipynb",
   "parameters": {},
   "start_time": "2021-09-29T07:00:04.583200",
   "version": "2.3.3"
  }
 },
 "nbformat": 4,
 "nbformat_minor": 5
}