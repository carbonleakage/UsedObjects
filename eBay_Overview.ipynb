{
 "cells": [
  {
   "cell_type": "code",
   "execution_count": 1,
   "id": "reverse-picking",
   "metadata": {
    "execution": {
     "iopub.execute_input": "2021-10-13T23:00:06.578793Z",
     "iopub.status.busy": "2021-10-13T23:00:06.576843Z",
     "iopub.status.idle": "2021-10-13T23:00:07.375537Z",
     "shell.execute_reply": "2021-10-13T23:00:07.377003Z"
    },
    "papermill": {
     "duration": 0.852613,
     "end_time": "2021-10-13T23:00:07.377662",
     "exception": false,
     "start_time": "2021-10-13T23:00:06.525049",
     "status": "completed"
    },
    "tags": []
   },
   "outputs": [],
   "source": [
    "import pandas as pd\n",
    "import sqlite3"
   ]
  },
  {
   "cell_type": "code",
   "execution_count": 2,
   "id": "innovative-syndrome",
   "metadata": {
    "execution": {
     "iopub.execute_input": "2021-10-13T23:00:07.430220Z",
     "iopub.status.busy": "2021-10-13T23:00:07.427856Z",
     "iopub.status.idle": "2021-10-13T23:00:07.970345Z",
     "shell.execute_reply": "2021-10-13T23:00:07.971553Z"
    },
    "papermill": {
     "duration": 0.572189,
     "end_time": "2021-10-13T23:00:07.971948",
     "exception": false,
     "start_time": "2021-10-13T23:00:07.399759",
     "status": "completed"
    },
    "tags": []
   },
   "outputs": [],
   "source": [
    "timestamps = pd.read_sql(\"select distinct record_time from EBAY_TOP_BERLIN order by record_time desc limit 2\", sqlite3.connect(\"UsedObjects.db\"))"
   ]
  },
  {
   "cell_type": "code",
   "execution_count": 3,
   "id": "periodic-identification",
   "metadata": {
    "execution": {
     "iopub.execute_input": "2021-10-13T23:00:08.036379Z",
     "iopub.status.busy": "2021-10-13T23:00:08.034270Z",
     "iopub.status.idle": "2021-10-13T23:00:08.054316Z",
     "shell.execute_reply": "2021-10-13T23:00:08.055609Z"
    },
    "papermill": {
     "duration": 0.064718,
     "end_time": "2021-10-13T23:00:08.056024",
     "exception": false,
     "start_time": "2021-10-13T23:00:07.991306",
     "status": "completed"
    },
    "tags": []
   },
   "outputs": [
    {
     "data": {
      "text/html": [
       "<div>\n",
       "<style scoped>\n",
       "    .dataframe tbody tr th:only-of-type {\n",
       "        vertical-align: middle;\n",
       "    }\n",
       "\n",
       "    .dataframe tbody tr th {\n",
       "        vertical-align: top;\n",
       "    }\n",
       "\n",
       "    .dataframe thead th {\n",
       "        text-align: right;\n",
       "    }\n",
       "</style>\n",
       "<table border=\"1\" class=\"dataframe\">\n",
       "  <thead>\n",
       "    <tr style=\"text-align: right;\">\n",
       "      <th></th>\n",
       "      <th>RECORD_TIME</th>\n",
       "    </tr>\n",
       "  </thead>\n",
       "  <tbody>\n",
       "    <tr>\n",
       "      <th>0</th>\n",
       "      <td>2021-10-14 01:00</td>\n",
       "    </tr>\n",
       "    <tr>\n",
       "      <th>1</th>\n",
       "      <td>2021-10-14 00:30</td>\n",
       "    </tr>\n",
       "  </tbody>\n",
       "</table>\n",
       "</div>"
      ],
      "text/plain": [
       "        RECORD_TIME\n",
       "0  2021-10-14 01:00\n",
       "1  2021-10-14 00:30"
      ]
     },
     "execution_count": 3,
     "metadata": {},
     "output_type": "execute_result"
    }
   ],
   "source": [
    "timestamps"
   ]
  },
  {
   "cell_type": "code",
   "execution_count": 4,
   "id": "alternate-victory",
   "metadata": {
    "execution": {
     "iopub.execute_input": "2021-10-13T23:00:08.131308Z",
     "iopub.status.busy": "2021-10-13T23:00:08.129364Z",
     "iopub.status.idle": "2021-10-13T23:00:08.932507Z",
     "shell.execute_reply": "2021-10-13T23:00:08.931196Z"
    },
    "papermill": {
     "duration": 0.838642,
     "end_time": "2021-10-13T23:00:08.932908",
     "exception": false,
     "start_time": "2021-10-13T23:00:08.094266",
     "status": "completed"
    },
    "tags": []
   },
   "outputs": [],
   "source": [
    "df = pd.read_sql(\"select * from EBAY_TOP_BERLIN where record_time in (select distinct record_time from EBAY_TOP_BERLIN order by record_time desc limit 2)\", sqlite3.connect(\"UsedObjects.db\"))"
   ]
  },
  {
   "cell_type": "code",
   "execution_count": 5,
   "id": "popular-active",
   "metadata": {
    "execution": {
     "iopub.execute_input": "2021-10-13T23:00:09.003800Z",
     "iopub.status.busy": "2021-10-13T23:00:08.991180Z",
     "iopub.status.idle": "2021-10-13T23:00:09.019030Z",
     "shell.execute_reply": "2021-10-13T23:00:09.020248Z"
    },
    "papermill": {
     "duration": 0.06702,
     "end_time": "2021-10-13T23:00:09.020644",
     "exception": false,
     "start_time": "2021-10-13T23:00:08.953624",
     "status": "completed"
    },
    "tags": []
   },
   "outputs": [],
   "source": [
    "df_pivot = df.pivot_table(index=\"PRODUCT\", columns = \"RECORD_TIME\", values = \"LISTING_COUNT\")"
   ]
  },
  {
   "cell_type": "code",
   "execution_count": 6,
   "id": "union-huntington",
   "metadata": {
    "execution": {
     "iopub.execute_input": "2021-10-13T23:00:09.075956Z",
     "iopub.status.busy": "2021-10-13T23:00:09.073880Z",
     "iopub.status.idle": "2021-10-13T23:00:09.078935Z",
     "shell.execute_reply": "2021-10-13T23:00:09.080211Z"
    },
    "papermill": {
     "duration": 0.03948,
     "end_time": "2021-10-13T23:00:09.080628",
     "exception": false,
     "start_time": "2021-10-13T23:00:09.041148",
     "status": "completed"
    },
    "tags": []
   },
   "outputs": [],
   "source": [
    "df_pivot.columns = [\"stamp_1\", \"stamp_2\"]\n",
    "df_pivot_diff = df_pivot.diff(axis=1)"
   ]
  },
  {
   "cell_type": "code",
   "execution_count": 7,
   "id": "fifth-motion",
   "metadata": {
    "execution": {
     "iopub.execute_input": "2021-10-13T23:00:09.135835Z",
     "iopub.status.busy": "2021-10-13T23:00:09.133205Z",
     "iopub.status.idle": "2021-10-13T23:00:10.617898Z",
     "shell.execute_reply": "2021-10-13T23:00:10.619192Z"
    },
    "papermill": {
     "duration": 1.517968,
     "end_time": "2021-10-13T23:00:10.619646",
     "exception": false,
     "start_time": "2021-10-13T23:00:09.101678",
     "status": "completed"
    },
    "tags": []
   },
   "outputs": [
    {
     "data": {
      "text/plain": [
       "<AxesSubplot:ylabel='PRODUCT'>"
      ]
     },
     "execution_count": 7,
     "metadata": {},
     "output_type": "execute_result"
    },
    {
     "data": {
      "image/png": "[encoded data removed]",
      "text/plain": [
       "<Figure size 432x288 with 1 Axes>"
      ]
     },
     "metadata": {
      "needs_background": "light"
     },
     "output_type": "display_data"
    }
   ],
   "source": [
    "df_pivot_diff.sort_values(\"stamp_2\", ascending = False)[\"stamp_2\"].head(10).plot.barh()"
   ]
  },
  {
   "cell_type": "code",
   "execution_count": null,
   "id": "extra-executive",
   "metadata": {
    "papermill": {
     "duration": 0.021961,
     "end_time": "2021-10-13T23:00:10.665460",
     "exception": false,
     "start_time": "2021-10-13T23:00:10.643499",
     "status": "completed"
    },
    "tags": []
   },
   "outputs": [],
   "source": []
  }
 ],
 "metadata": {
  "kernelspec": {
   "display_name": "Python 3",
   "language": "python",
   "name": "python3"
  },
  "language_info": {
   "codemirror_mode": {
    "name": "ipython",
    "version": 3
   },
   "file_extension": ".py",
   "mimetype": "text/x-python",
   "name": "python",
   "nbconvert_exporter": "python",
   "pygments_lexer": "ipython3",
   "version": "3.9.5"
  },
  "papermill": {
   "default_parameters": {},
   "duration": 7.82265,
   "end_time": "2021-10-13T23:00:11.956850",
   "environment_variables": {},
   "exception": null,
   "input_path": "eBay_Overview.ipynb",
   "output_path": "eBay_Overview.ipynb",
   "parameters": {},
   "start_time": "2021-10-13T23:00:04.134200",
   "version": "2.3.3"
  }
 },
 "nbformat": 4,
 "nbformat_minor": 5
}