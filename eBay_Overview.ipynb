{
 "cells": [
  {
   "cell_type": "code",
   "execution_count": 1,
   "id": "reverse-picking",
   "metadata": {
    "execution": {
     "iopub.execute_input": "2021-12-10T06:30:07.270075Z",
     "iopub.status.busy": "2021-12-10T06:30:07.267962Z",
     "iopub.status.idle": "2021-12-10T06:30:08.221473Z",
     "shell.execute_reply": "2021-12-10T06:30:08.223078Z"
    },
    "papermill": {
     "duration": 1.002259,
     "end_time": "2021-12-10T06:30:08.223765",
     "exception": false,
     "start_time": "2021-12-10T06:30:07.221506",
     "status": "completed"
    },
    "tags": []
   },
   "outputs": [],
   "source": [
    "import pandas as pd\n",
    "import sqlite3"
   ]
  },
  {
   "cell_type": "code",
   "execution_count": 2,
   "id": "innovative-syndrome",
   "metadata": {
    "execution": {
     "iopub.execute_input": "2021-12-10T06:30:08.286786Z",
     "iopub.status.busy": "2021-12-10T06:30:08.284476Z",
     "iopub.status.idle": "2021-12-10T06:30:09.322622Z",
     "shell.execute_reply": "2021-12-10T06:30:09.325500Z"
    },
    "papermill": {
     "duration": 1.075056,
     "end_time": "2021-12-10T06:30:09.326188",
     "exception": false,
     "start_time": "2021-12-10T06:30:08.251132",
     "status": "completed"
    },
    "tags": []
   },
   "outputs": [],
   "source": [
    "timestamps = pd.read_sql(\"select distinct record_time from EBAY_TOP_BERLIN order by record_time desc limit 2\", sqlite3.connect(\"UsedObjects.db\"))"
   ]
  },
  {
   "cell_type": "code",
   "execution_count": 3,
   "id": "periodic-identification",
   "metadata": {
    "execution": {
     "iopub.execute_input": "2021-12-10T06:30:09.409517Z",
     "iopub.status.busy": "2021-12-10T06:30:09.403221Z",
     "iopub.status.idle": "2021-12-10T06:30:09.426731Z",
     "shell.execute_reply": "2021-12-10T06:30:09.429169Z"
    },
    "papermill": {
     "duration": 0.076509,
     "end_time": "2021-12-10T06:30:09.429701",
     "exception": false,
     "start_time": "2021-12-10T06:30:09.353192",
     "status": "completed"
    },
    "tags": []
   },
   "outputs": [
    {
     "data": {
      "text/html": [
       "<div>\n",
       "<style scoped>\n",
       "    .dataframe tbody tr th:only-of-type {\n",
       "        vertical-align: middle;\n",
       "    }\n",
       "\n",
       "    .dataframe tbody tr th {\n",
       "        vertical-align: top;\n",
       "    }\n",
       "\n",
       "    .dataframe thead th {\n",
       "        text-align: right;\n",
       "    }\n",
       "</style>\n",
       "<table border=\"1\" class=\"dataframe\">\n",
       "  <thead>\n",
       "    <tr style=\"text-align: right;\">\n",
       "      <th></th>\n",
       "      <th>RECORD_TIME</th>\n",
       "    </tr>\n",
       "  </thead>\n",
       "  <tbody>\n",
       "    <tr>\n",
       "      <th>0</th>\n",
       "      <td>2021-12-10 07:30</td>\n",
       "    </tr>\n",
       "    <tr>\n",
       "      <th>1</th>\n",
       "      <td>2021-12-10 07:00</td>\n",
       "    </tr>\n",
       "  </tbody>\n",
       "</table>\n",
       "</div>"
      ],
      "text/plain": [
       "        RECORD_TIME\n",
       "0  2021-12-10 07:30\n",
       "1  2021-12-10 07:00"
      ]
     },
     "execution_count": 3,
     "metadata": {},
     "output_type": "execute_result"
    }
   ],
   "source": [
    "timestamps"
   ]
  },
  {
   "cell_type": "code",
   "execution_count": 4,
   "id": "alternate-victory",
   "metadata": {
    "execution": {
     "iopub.execute_input": "2021-12-10T06:30:09.483440Z",
     "iopub.status.busy": "2021-12-10T06:30:09.481223Z",
     "iopub.status.idle": "2021-12-10T06:30:10.957578Z",
     "shell.execute_reply": "2021-12-10T06:30:10.960518Z"
    },
    "papermill": {
     "duration": 1.511644,
     "end_time": "2021-12-10T06:30:10.961485",
     "exception": false,
     "start_time": "2021-12-10T06:30:09.449841",
     "status": "completed"
    },
    "tags": []
   },
   "outputs": [],
   "source": [
    "df = pd.read_sql(\"select * from EBAY_TOP_BERLIN where record_time in (select distinct record_time from EBAY_TOP_BERLIN order by record_time desc limit 2)\", sqlite3.connect(\"UsedObjects.db\"))"
   ]
  },
  {
   "cell_type": "code",
   "execution_count": 5,
   "id": "popular-active",
   "metadata": {
    "execution": {
     "iopub.execute_input": "2021-12-10T06:30:11.080778Z",
     "iopub.status.busy": "2021-12-10T06:30:11.059826Z",
     "iopub.status.idle": "2021-12-10T06:30:11.105552Z",
     "shell.execute_reply": "2021-12-10T06:30:11.107580Z"
    },
    "papermill": {
     "duration": 0.112076,
     "end_time": "2021-12-10T06:30:11.108190",
     "exception": false,
     "start_time": "2021-12-10T06:30:10.996114",
     "status": "completed"
    },
    "tags": []
   },
   "outputs": [],
   "source": [
    "df_pivot = df.pivot_table(index=\"PRODUCT\", columns = \"RECORD_TIME\", values = \"LISTING_COUNT\")"
   ]
  },
  {
   "cell_type": "code",
   "execution_count": 6,
   "id": "union-huntington",
   "metadata": {
    "execution": {
     "iopub.execute_input": "2021-12-10T06:30:11.199609Z",
     "iopub.status.busy": "2021-12-10T06:30:11.195898Z",
     "iopub.status.idle": "2021-12-10T06:30:11.205846Z",
     "shell.execute_reply": "2021-12-10T06:30:11.208559Z"
    },
    "papermill": {
     "duration": 0.069166,
     "end_time": "2021-12-10T06:30:11.209356",
     "exception": false,
     "start_time": "2021-12-10T06:30:11.140190",
     "status": "completed"
    },
    "tags": []
   },
   "outputs": [],
   "source": [
    "df_pivot.columns = [\"stamp_1\", \"stamp_2\"]\n",
    "df_pivot_diff = df_pivot.diff(axis=1)"
   ]
  },
  {
   "cell_type": "code",
   "execution_count": 7,
   "id": "fifth-motion",
   "metadata": {
    "execution": {
     "iopub.execute_input": "2021-12-10T06:30:11.294283Z",
     "iopub.status.busy": "2021-12-10T06:30:11.280780Z",
     "iopub.status.idle": "2021-12-10T06:30:12.969683Z",
     "shell.execute_reply": "2021-12-10T06:30:12.971209Z"
    },
    "papermill": {
     "duration": 1.731786,
     "end_time": "2021-12-10T06:30:12.971730",
     "exception": false,
     "start_time": "2021-12-10T06:30:11.239944",
     "status": "completed"
    },
    "tags": []
   },
   "outputs": [
    {
     "data": {
      "text/plain": [
       "<AxesSubplot:ylabel='PRODUCT'>"
      ]
     },
     "execution_count": 7,
     "metadata": {},
     "output_type": "execute_result"
    },
    {
     "data": {
      "image/png": "[encoded data removed]",
      "text/plain": [
       "<Figure size 432x288 with 1 Axes>"
      ]
     },
     "metadata": {
      "needs_background": "light"
     },
     "output_type": "display_data"
    }
   ],
   "source": [
    "df_pivot_diff.sort_values(\"stamp_2\", ascending = False)[\"stamp_2\"].head(10).plot.barh()"
   ]
  },
  {
   "cell_type": "code",
   "execution_count": null,
   "id": "extra-executive",
   "metadata": {
    "papermill": {
     "duration": 0.021808,
     "end_time": "2021-12-10T06:30:13.018582",
     "exception": false,
     "start_time": "2021-12-10T06:30:12.996774",
     "status": "completed"
    },
    "tags": []
   },
   "outputs": [],
   "source": []
  }
 ],
 "metadata": {
  "kernelspec": {
   "display_name": "Python 3",
   "language": "python",
   "name": "python3"
  },
  "language_info": {
   "codemirror_mode": {
    "name": "ipython",
    "version": 3
   },
   "file_extension": ".py",
   "mimetype": "text/x-python",
   "name": "python",
   "nbconvert_exporter": "python",
   "pygments_lexer": "ipython3",
   "version": "3.9.5"
  },
  "papermill": {
   "default_parameters": {},
   "duration": 9.939153,
   "end_time": "2021-12-10T06:30:14.428038",
   "environment_variables": {},
   "exception": null,
   "input_path": "eBay_Overview.ipynb",
   "output_path": "eBay_Overview.ipynb",
   "parameters": {},
   "start_time": "2021-12-10T06:30:04.488885",
   "version": "2.3.3"
  }
 },
 "nbformat": 4,
 "nbformat_minor": 5
}