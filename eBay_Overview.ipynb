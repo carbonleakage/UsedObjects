{
 "cells": [
  {
   "cell_type": "code",
   "execution_count": 1,
   "id": "reverse-picking",
   "metadata": {
    "execution": {
     "iopub.execute_input": "2021-10-14T15:00:07.442934Z",
     "iopub.status.busy": "2021-10-14T15:00:07.440964Z",
     "iopub.status.idle": "2021-10-14T15:00:08.251794Z",
     "shell.execute_reply": "2021-10-14T15:00:08.250213Z"
    },
    "papermill": {
     "duration": 0.861501,
     "end_time": "2021-10-14T15:00:08.252190",
     "exception": false,
     "start_time": "2021-10-14T15:00:07.390689",
     "status": "completed"
    },
    "tags": []
   },
   "outputs": [],
   "source": [
    "import pandas as pd\n",
    "import sqlite3"
   ]
  },
  {
   "cell_type": "code",
   "execution_count": 2,
   "id": "innovative-syndrome",
   "metadata": {
    "execution": {
     "iopub.execute_input": "2021-10-14T15:00:08.304981Z",
     "iopub.status.busy": "2021-10-14T15:00:08.302600Z",
     "iopub.status.idle": "2021-10-14T15:00:08.854365Z",
     "shell.execute_reply": "2021-10-14T15:00:08.855655Z"
    },
    "papermill": {
     "duration": 0.581657,
     "end_time": "2021-10-14T15:00:08.856069",
     "exception": false,
     "start_time": "2021-10-14T15:00:08.274412",
     "status": "completed"
    },
    "tags": []
   },
   "outputs": [],
   "source": [
    "timestamps = pd.read_sql(\"select distinct record_time from EBAY_TOP_BERLIN order by record_time desc limit 2\", sqlite3.connect(\"UsedObjects.db\"))"
   ]
  },
  {
   "cell_type": "code",
   "execution_count": 3,
   "id": "periodic-identification",
   "metadata": {
    "execution": {
     "iopub.execute_input": "2021-10-14T15:00:08.928634Z",
     "iopub.status.busy": "2021-10-14T15:00:08.926597Z",
     "iopub.status.idle": "2021-10-14T15:00:08.948751Z",
     "shell.execute_reply": "2021-10-14T15:00:08.950126Z"
    },
    "papermill": {
     "duration": 0.069804,
     "end_time": "2021-10-14T15:00:08.950543",
     "exception": false,
     "start_time": "2021-10-14T15:00:08.880739",
     "status": "completed"
    },
    "tags": []
   },
   "outputs": [
    {
     "data": {
      "text/html": [
       "<div>\n",
       "<style scoped>\n",
       "    .dataframe tbody tr th:only-of-type {\n",
       "        vertical-align: middle;\n",
       "    }\n",
       "\n",
       "    .dataframe tbody tr th {\n",
       "        vertical-align: top;\n",
       "    }\n",
       "\n",
       "    .dataframe thead th {\n",
       "        text-align: right;\n",
       "    }\n",
       "</style>\n",
       "<table border=\"1\" class=\"dataframe\">\n",
       "  <thead>\n",
       "    <tr style=\"text-align: right;\">\n",
       "      <th></th>\n",
       "      <th>RECORD_TIME</th>\n",
       "    </tr>\n",
       "  </thead>\n",
       "  <tbody>\n",
       "    <tr>\n",
       "      <th>0</th>\n",
       "      <td>2021-10-14 17:00</td>\n",
       "    </tr>\n",
       "    <tr>\n",
       "      <th>1</th>\n",
       "      <td>2021-10-14 16:30</td>\n",
       "    </tr>\n",
       "  </tbody>\n",
       "</table>\n",
       "</div>"
      ],
      "text/plain": [
       "        RECORD_TIME\n",
       "0  2021-10-14 17:00\n",
       "1  2021-10-14 16:30"
      ]
     },
     "execution_count": 3,
     "metadata": {},
     "output_type": "execute_result"
    }
   ],
   "source": [
    "timestamps"
   ]
  },
  {
   "cell_type": "code",
   "execution_count": 4,
   "id": "alternate-victory",
   "metadata": {
    "execution": {
     "iopub.execute_input": "2021-10-14T15:00:09.000789Z",
     "iopub.status.busy": "2021-10-14T15:00:08.998874Z",
     "iopub.status.idle": "2021-10-14T15:00:09.804040Z",
     "shell.execute_reply": "2021-10-14T15:00:09.805325Z"
    },
    "papermill": {
     "duration": 0.83487,
     "end_time": "2021-10-14T15:00:09.805725",
     "exception": false,
     "start_time": "2021-10-14T15:00:08.970855",
     "status": "completed"
    },
    "tags": []
   },
   "outputs": [],
   "source": [
    "df = pd.read_sql(\"select * from EBAY_TOP_BERLIN where record_time in (select distinct record_time from EBAY_TOP_BERLIN order by record_time desc limit 2)\", sqlite3.connect(\"UsedObjects.db\"))"
   ]
  },
  {
   "cell_type": "code",
   "execution_count": 5,
   "id": "popular-active",
   "metadata": {
    "execution": {
     "iopub.execute_input": "2021-10-14T15:00:09.878856Z",
     "iopub.status.busy": "2021-10-14T15:00:09.867402Z",
     "iopub.status.idle": "2021-10-14T15:00:09.894294Z",
     "shell.execute_reply": "2021-10-14T15:00:09.895535Z"
    },
    "papermill": {
     "duration": 0.067698,
     "end_time": "2021-10-14T15:00:09.895930",
     "exception": false,
     "start_time": "2021-10-14T15:00:09.828232",
     "status": "completed"
    },
    "tags": []
   },
   "outputs": [],
   "source": [
    "df_pivot = df.pivot_table(index=\"PRODUCT\", columns = \"RECORD_TIME\", values = \"LISTING_COUNT\")"
   ]
  },
  {
   "cell_type": "code",
   "execution_count": 6,
   "id": "union-huntington",
   "metadata": {
    "execution": {
     "iopub.execute_input": "2021-10-14T15:00:09.951679Z",
     "iopub.status.busy": "2021-10-14T15:00:09.949591Z",
     "iopub.status.idle": "2021-10-14T15:00:09.954723Z",
     "shell.execute_reply": "2021-10-14T15:00:09.956012Z"
    },
    "papermill": {
     "duration": 0.0399,
     "end_time": "2021-10-14T15:00:09.956427",
     "exception": false,
     "start_time": "2021-10-14T15:00:09.916527",
     "status": "completed"
    },
    "tags": []
   },
   "outputs": [],
   "source": [
    "df_pivot.columns = [\"stamp_1\", \"stamp_2\"]\n",
    "df_pivot_diff = df_pivot.diff(axis=1)"
   ]
  },
  {
   "cell_type": "code",
   "execution_count": 7,
   "id": "fifth-motion",
   "metadata": {
    "execution": {
     "iopub.execute_input": "2021-10-14T15:00:10.010446Z",
     "iopub.status.busy": "2021-10-14T15:00:10.007832Z",
     "iopub.status.idle": "2021-10-14T15:00:11.500636Z",
     "shell.execute_reply": "2021-10-14T15:00:11.502103Z"
    },
    "papermill": {
     "duration": 1.525809,
     "end_time": "2021-10-14T15:00:11.502538",
     "exception": false,
     "start_time": "2021-10-14T15:00:09.976729",
     "status": "completed"
    },
    "tags": []
   },
   "outputs": [
    {
     "data": {
      "text/plain": [
       "<AxesSubplot:ylabel='PRODUCT'>"
      ]
     },
     "execution_count": 7,
     "metadata": {},
     "output_type": "execute_result"
    },
    {
     "data": {
      "image/png": "[encoded data removed]",
      "text/plain": [
       "<Figure size 432x288 with 1 Axes>"
      ]
     },
     "metadata": {
      "needs_background": "light"
     },
     "output_type": "display_data"
    }
   ],
   "source": [
    "df_pivot_diff.sort_values(\"stamp_2\", ascending = False)[\"stamp_2\"].head(10).plot.barh()"
   ]
  },
  {
   "cell_type": "code",
   "execution_count": null,
   "id": "extra-executive",
   "metadata": {
    "papermill": {
     "duration": 0.021735,
     "end_time": "2021-10-14T15:00:11.547778",
     "exception": false,
     "start_time": "2021-10-14T15:00:11.526043",
     "status": "completed"
    },
    "tags": []
   },
   "outputs": [],
   "source": []
  }
 ],
 "metadata": {
  "kernelspec": {
   "display_name": "Python 3",
   "language": "python",
   "name": "python3"
  },
  "language_info": {
   "codemirror_mode": {
    "name": "ipython",
    "version": 3
   },
   "file_extension": ".py",
   "mimetype": "text/x-python",
   "name": "python",
   "nbconvert_exporter": "python",
   "pygments_lexer": "ipython3",
   "version": "3.9.5"
  },
  "papermill": {
   "default_parameters": {},
   "duration": 7.822726,
   "end_time": "2021-10-14T15:00:12.802349",
   "environment_variables": {},
   "exception": null,
   "input_path": "eBay_Overview.ipynb",
   "output_path": "eBay_Overview.ipynb",
   "parameters": {},
   "start_time": "2021-10-14T15:00:04.979623",
   "version": "2.3.3"
  }
 },
 "nbformat": 4,
 "nbformat_minor": 5
}