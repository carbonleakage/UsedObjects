{
 "cells": [
  {
   "cell_type": "code",
   "execution_count": 1,
   "id": "reverse-picking",
   "metadata": {
    "execution": {
     "iopub.execute_input": "2021-11-13T20:30:07.728177Z",
     "iopub.status.busy": "2021-11-13T20:30:07.725842Z",
     "iopub.status.idle": "2021-11-13T20:30:08.671017Z",
     "shell.execute_reply": "2021-11-13T20:30:08.673297Z"
    },
    "papermill": {
     "duration": 0.995752,
     "end_time": "2021-11-13T20:30:08.674043",
     "exception": false,
     "start_time": "2021-11-13T20:30:07.678291",
     "status": "completed"
    },
    "tags": []
   },
   "outputs": [],
   "source": [
    "import pandas as pd\n",
    "import sqlite3"
   ]
  },
  {
   "cell_type": "code",
   "execution_count": 2,
   "id": "innovative-syndrome",
   "metadata": {
    "execution": {
     "iopub.execute_input": "2021-11-13T20:30:08.747963Z",
     "iopub.status.busy": "2021-11-13T20:30:08.745608Z",
     "iopub.status.idle": "2021-11-13T20:30:09.537139Z",
     "shell.execute_reply": "2021-11-13T20:30:09.538891Z"
    },
    "papermill": {
     "duration": 0.828181,
     "end_time": "2021-11-13T20:30:09.539376",
     "exception": false,
     "start_time": "2021-11-13T20:30:08.711195",
     "status": "completed"
    },
    "tags": []
   },
   "outputs": [],
   "source": [
    "timestamps = pd.read_sql(\"select distinct record_time from EBAY_TOP_BERLIN order by record_time desc limit 2\", sqlite3.connect(\"UsedObjects.db\"))"
   ]
  },
  {
   "cell_type": "code",
   "execution_count": 3,
   "id": "periodic-identification",
   "metadata": {
    "execution": {
     "iopub.execute_input": "2021-11-13T20:30:09.607880Z",
     "iopub.status.busy": "2021-11-13T20:30:09.605858Z",
     "iopub.status.idle": "2021-11-13T20:30:09.627321Z",
     "shell.execute_reply": "2021-11-13T20:30:09.625867Z"
    },
    "papermill": {
     "duration": 0.06753,
     "end_time": "2021-11-13T20:30:09.627674",
     "exception": false,
     "start_time": "2021-11-13T20:30:09.560144",
     "status": "completed"
    },
    "tags": []
   },
   "outputs": [
    {
     "data": {
      "text/html": [
       "<div>\n",
       "<style scoped>\n",
       "    .dataframe tbody tr th:only-of-type {\n",
       "        vertical-align: middle;\n",
       "    }\n",
       "\n",
       "    .dataframe tbody tr th {\n",
       "        vertical-align: top;\n",
       "    }\n",
       "\n",
       "    .dataframe thead th {\n",
       "        text-align: right;\n",
       "    }\n",
       "</style>\n",
       "<table border=\"1\" class=\"dataframe\">\n",
       "  <thead>\n",
       "    <tr style=\"text-align: right;\">\n",
       "      <th></th>\n",
       "      <th>RECORD_TIME</th>\n",
       "    </tr>\n",
       "  </thead>\n",
       "  <tbody>\n",
       "    <tr>\n",
       "      <th>0</th>\n",
       "      <td>2021-11-13 21:30</td>\n",
       "    </tr>\n",
       "    <tr>\n",
       "      <th>1</th>\n",
       "      <td>2021-11-13 21:00</td>\n",
       "    </tr>\n",
       "  </tbody>\n",
       "</table>\n",
       "</div>"
      ],
      "text/plain": [
       "        RECORD_TIME\n",
       "0  2021-11-13 21:30\n",
       "1  2021-11-13 21:00"
      ]
     },
     "execution_count": 3,
     "metadata": {},
     "output_type": "execute_result"
    }
   ],
   "source": [
    "timestamps"
   ]
  },
  {
   "cell_type": "code",
   "execution_count": 4,
   "id": "alternate-victory",
   "metadata": {
    "execution": {
     "iopub.execute_input": "2021-11-13T20:30:09.679123Z",
     "iopub.status.busy": "2021-11-13T20:30:09.676983Z",
     "iopub.status.idle": "2021-11-13T20:30:10.826672Z",
     "shell.execute_reply": "2021-11-13T20:30:10.828158Z"
    },
    "papermill": {
     "duration": 1.180188,
     "end_time": "2021-11-13T20:30:10.828841",
     "exception": false,
     "start_time": "2021-11-13T20:30:09.648653",
     "status": "completed"
    },
    "tags": []
   },
   "outputs": [],
   "source": [
    "df = pd.read_sql(\"select * from EBAY_TOP_BERLIN where record_time in (select distinct record_time from EBAY_TOP_BERLIN order by record_time desc limit 2)\", sqlite3.connect(\"UsedObjects.db\"))"
   ]
  },
  {
   "cell_type": "code",
   "execution_count": 5,
   "id": "popular-active",
   "metadata": {
    "execution": {
     "iopub.execute_input": "2021-11-13T20:30:10.893279Z",
     "iopub.status.busy": "2021-11-13T20:30:10.890857Z",
     "iopub.status.idle": "2021-11-13T20:30:10.925242Z",
     "shell.execute_reply": "2021-11-13T20:30:10.926722Z"
    },
    "papermill": {
     "duration": 0.076784,
     "end_time": "2021-11-13T20:30:10.927239",
     "exception": false,
     "start_time": "2021-11-13T20:30:10.850455",
     "status": "completed"
    },
    "tags": []
   },
   "outputs": [],
   "source": [
    "df_pivot = df.pivot_table(index=\"PRODUCT\", columns = \"RECORD_TIME\", values = \"LISTING_COUNT\")"
   ]
  },
  {
   "cell_type": "code",
   "execution_count": 6,
   "id": "union-huntington",
   "metadata": {
    "execution": {
     "iopub.execute_input": "2021-11-13T20:30:10.987554Z",
     "iopub.status.busy": "2021-11-13T20:30:10.985346Z",
     "iopub.status.idle": "2021-11-13T20:30:10.992610Z",
     "shell.execute_reply": "2021-11-13T20:30:10.991040Z"
    },
    "papermill": {
     "duration": 0.044491,
     "end_time": "2021-11-13T20:30:10.993062",
     "exception": false,
     "start_time": "2021-11-13T20:30:10.948571",
     "status": "completed"
    },
    "tags": []
   },
   "outputs": [],
   "source": [
    "df_pivot.columns = [\"stamp_1\", \"stamp_2\"]\n",
    "df_pivot_diff = df_pivot.diff(axis=1)"
   ]
  },
  {
   "cell_type": "code",
   "execution_count": 7,
   "id": "fifth-motion",
   "metadata": {
    "execution": {
     "iopub.execute_input": "2021-11-13T20:30:11.049378Z",
     "iopub.status.busy": "2021-11-13T20:30:11.046792Z",
     "iopub.status.idle": "2021-11-13T20:30:12.913829Z",
     "shell.execute_reply": "2021-11-13T20:30:12.915463Z"
    },
    "papermill": {
     "duration": 1.903145,
     "end_time": "2021-11-13T20:30:12.916485",
     "exception": false,
     "start_time": "2021-11-13T20:30:11.013340",
     "status": "completed"
    },
    "tags": []
   },
   "outputs": [
    {
     "data": {
      "text/plain": [
       "<AxesSubplot:ylabel='PRODUCT'>"
      ]
     },
     "execution_count": 7,
     "metadata": {},
     "output_type": "execute_result"
    },
    {
     "data": {
      "image/png": "[encoded data removed]",
      "text/plain": [
       "<Figure size 432x288 with 1 Axes>"
      ]
     },
     "metadata": {
      "needs_background": "light"
     },
     "output_type": "display_data"
    }
   ],
   "source": [
    "df_pivot_diff.sort_values(\"stamp_2\", ascending = False)[\"stamp_2\"].head(10).plot.barh()"
   ]
  },
  {
   "cell_type": "code",
   "execution_count": null,
   "id": "extra-executive",
   "metadata": {
    "papermill": {
     "duration": 0.033487,
     "end_time": "2021-11-13T20:30:12.987345",
     "exception": false,
     "start_time": "2021-11-13T20:30:12.953858",
     "status": "completed"
    },
    "tags": []
   },
   "outputs": [],
   "source": []
  }
 ],
 "metadata": {
  "kernelspec": {
   "display_name": "Python 3",
   "language": "python",
   "name": "python3"
  },
  "language_info": {
   "codemirror_mode": {
    "name": "ipython",
    "version": 3
   },
   "file_extension": ".py",
   "mimetype": "text/x-python",
   "name": "python",
   "nbconvert_exporter": "python",
   "pygments_lexer": "ipython3",
   "version": "3.9.5"
  },
  "papermill": {
   "default_parameters": {},
   "duration": 8.796589,
   "end_time": "2021-11-13T20:30:13.765385",
   "environment_variables": {},
   "exception": null,
   "input_path": "eBay_Overview.ipynb",
   "output_path": "eBay_Overview.ipynb",
   "parameters": {},
   "start_time": "2021-11-13T20:30:04.968796",
   "version": "2.3.3"
  }
 },
 "nbformat": 4,
 "nbformat_minor": 5
}