{
 "cells": [
  {
   "cell_type": "code",
   "execution_count": 1,
   "id": "reverse-picking",
   "metadata": {
    "execution": {
     "iopub.execute_input": "2021-08-26T11:30:07.013972Z",
     "iopub.status.busy": "2021-08-26T11:30:07.011974Z",
     "iopub.status.idle": "2021-08-26T11:30:07.815802Z",
     "shell.execute_reply": "2021-08-26T11:30:07.817237Z"
    },
    "papermill": {
     "duration": 0.856799,
     "end_time": "2021-08-26T11:30:07.817895",
     "exception": false,
     "start_time": "2021-08-26T11:30:06.961096",
     "status": "completed"
    },
    "tags": []
   },
   "outputs": [],
   "source": [
    "import pandas as pd\n",
    "import sqlite3"
   ]
  },
  {
   "cell_type": "code",
   "execution_count": 2,
   "id": "innovative-syndrome",
   "metadata": {
    "execution": {
     "iopub.execute_input": "2021-08-26T11:30:07.868839Z",
     "iopub.status.busy": "2021-08-26T11:30:07.866783Z",
     "iopub.status.idle": "2021-08-26T11:30:07.999499Z",
     "shell.execute_reply": "2021-08-26T11:30:08.000756Z"
    },
    "papermill": {
     "duration": 0.162771,
     "end_time": "2021-08-26T11:30:08.001155",
     "exception": false,
     "start_time": "2021-08-26T11:30:07.838384",
     "status": "completed"
    },
    "tags": []
   },
   "outputs": [],
   "source": [
    "timestamps = pd.read_sql(\"select distinct record_time from EBAY_TOP_BERLIN order by record_time desc limit 2\", sqlite3.connect(\"UsedObjects.db\"))"
   ]
  },
  {
   "cell_type": "code",
   "execution_count": 3,
   "id": "periodic-identification",
   "metadata": {
    "execution": {
     "iopub.execute_input": "2021-08-26T11:30:08.067814Z",
     "iopub.status.busy": "2021-08-26T11:30:08.065787Z",
     "iopub.status.idle": "2021-08-26T11:30:08.085464Z",
     "shell.execute_reply": "2021-08-26T11:30:08.086741Z"
    },
    "papermill": {
     "duration": 0.064248,
     "end_time": "2021-08-26T11:30:08.087136",
     "exception": false,
     "start_time": "2021-08-26T11:30:08.022888",
     "status": "completed"
    },
    "tags": []
   },
   "outputs": [
    {
     "data": {
      "text/html": [
       "<div>\n",
       "<style scoped>\n",
       "    .dataframe tbody tr th:only-of-type {\n",
       "        vertical-align: middle;\n",
       "    }\n",
       "\n",
       "    .dataframe tbody tr th {\n",
       "        vertical-align: top;\n",
       "    }\n",
       "\n",
       "    .dataframe thead th {\n",
       "        text-align: right;\n",
       "    }\n",
       "</style>\n",
       "<table border=\"1\" class=\"dataframe\">\n",
       "  <thead>\n",
       "    <tr style=\"text-align: right;\">\n",
       "      <th></th>\n",
       "      <th>RECORD_TIME</th>\n",
       "    </tr>\n",
       "  </thead>\n",
       "  <tbody>\n",
       "    <tr>\n",
       "      <th>0</th>\n",
       "      <td>2021-08-26 13:30</td>\n",
       "    </tr>\n",
       "    <tr>\n",
       "      <th>1</th>\n",
       "      <td>2021-08-26 13:00</td>\n",
       "    </tr>\n",
       "  </tbody>\n",
       "</table>\n",
       "</div>"
      ],
      "text/plain": [
       "        RECORD_TIME\n",
       "0  2021-08-26 13:30\n",
       "1  2021-08-26 13:00"
      ]
     },
     "execution_count": 3,
     "metadata": {},
     "output_type": "execute_result"
    }
   ],
   "source": [
    "timestamps"
   ]
  },
  {
   "cell_type": "code",
   "execution_count": 4,
   "id": "alternate-victory",
   "metadata": {
    "execution": {
     "iopub.execute_input": "2021-08-26T11:30:08.140662Z",
     "iopub.status.busy": "2021-08-26T11:30:08.138301Z",
     "iopub.status.idle": "2021-08-26T11:30:08.341526Z",
     "shell.execute_reply": "2021-08-26T11:30:08.342875Z"
    },
    "papermill": {
     "duration": 0.234018,
     "end_time": "2021-08-26T11:30:08.343288",
     "exception": false,
     "start_time": "2021-08-26T11:30:08.109270",
     "status": "completed"
    },
    "tags": []
   },
   "outputs": [],
   "source": [
    "df = pd.read_sql(\"select * from EBAY_TOP_BERLIN where record_time in (select distinct record_time from EBAY_TOP_BERLIN order by record_time desc limit 2)\", sqlite3.connect(\"UsedObjects.db\"))"
   ]
  },
  {
   "cell_type": "code",
   "execution_count": 5,
   "id": "popular-active",
   "metadata": {
    "execution": {
     "iopub.execute_input": "2021-08-26T11:30:08.413772Z",
     "iopub.status.busy": "2021-08-26T11:30:08.402790Z",
     "iopub.status.idle": "2021-08-26T11:30:08.430516Z",
     "shell.execute_reply": "2021-08-26T11:30:08.431988Z"
    },
    "papermill": {
     "duration": 0.069017,
     "end_time": "2021-08-26T11:30:08.432633",
     "exception": false,
     "start_time": "2021-08-26T11:30:08.363616",
     "status": "completed"
    },
    "tags": []
   },
   "outputs": [],
   "source": [
    "df_pivot = df.pivot_table(index=\"PRODUCT\", columns = \"RECORD_TIME\", values = \"LISTING_COUNT\")"
   ]
  },
  {
   "cell_type": "code",
   "execution_count": 6,
   "id": "union-huntington",
   "metadata": {
    "execution": {
     "iopub.execute_input": "2021-08-26T11:30:08.500018Z",
     "iopub.status.busy": "2021-08-26T11:30:08.497715Z",
     "iopub.status.idle": "2021-08-26T11:30:08.503521Z",
     "shell.execute_reply": "2021-08-26T11:30:08.505074Z"
    },
    "papermill": {
     "duration": 0.045236,
     "end_time": "2021-08-26T11:30:08.505555",
     "exception": false,
     "start_time": "2021-08-26T11:30:08.460319",
     "status": "completed"
    },
    "tags": []
   },
   "outputs": [],
   "source": [
    "df_pivot.columns = [\"stamp_1\", \"stamp_2\"]\n",
    "df_pivot_diff = df_pivot.diff(axis=1)"
   ]
  },
  {
   "cell_type": "code",
   "execution_count": 7,
   "id": "fifth-motion",
   "metadata": {
    "execution": {
     "iopub.execute_input": "2021-08-26T11:30:08.560092Z",
     "iopub.status.busy": "2021-08-26T11:30:08.557920Z",
     "iopub.status.idle": "2021-08-26T11:30:10.017861Z",
     "shell.execute_reply": "2021-08-26T11:30:10.019160Z"
    },
    "papermill": {
     "duration": 1.49282,
     "end_time": "2021-08-26T11:30:10.019577",
     "exception": false,
     "start_time": "2021-08-26T11:30:08.526757",
     "status": "completed"
    },
    "tags": []
   },
   "outputs": [
    {
     "data": {
      "text/plain": [
       "<AxesSubplot:ylabel='PRODUCT'>"
      ]
     },
     "execution_count": 7,
     "metadata": {},
     "output_type": "execute_result"
    },
    {
     "data": {
      "image/png": "[encoded data removed]",
      "text/plain": [
       "<Figure size 432x288 with 1 Axes>"
      ]
     },
     "metadata": {
      "needs_background": "light"
     },
     "output_type": "display_data"
    }
   ],
   "source": [
    "df_pivot_diff.sort_values(\"stamp_2\", ascending = False)[\"stamp_2\"].head(10).plot.barh()"
   ]
  },
  {
   "cell_type": "code",
   "execution_count": null,
   "id": "extra-executive",
   "metadata": {
    "papermill": {
     "duration": 0.02235,
     "end_time": "2021-08-26T11:30:10.067585",
     "exception": false,
     "start_time": "2021-08-26T11:30:10.045235",
     "status": "completed"
    },
    "tags": []
   },
   "outputs": [],
   "source": []
  }
 ],
 "metadata": {
  "kernelspec": {
   "display_name": "Python 3",
   "language": "python",
   "name": "python3"
  },
  "language_info": {
   "codemirror_mode": {
    "name": "ipython",
    "version": 3
   },
   "file_extension": ".py",
   "mimetype": "text/x-python",
   "name": "python",
   "nbconvert_exporter": "python",
   "pygments_lexer": "ipython3",
   "version": "3.9.5"
  },
  "papermill": {
   "default_parameters": {},
   "duration": 6.82257,
   "end_time": "2021-08-26T11:30:11.386449",
   "environment_variables": {},
   "exception": null,
   "input_path": "eBay_Overview.ipynb",
   "output_path": "eBay_Overview.ipynb",
   "parameters": {},
   "start_time": "2021-08-26T11:30:04.563879",
   "version": "2.3.3"
  }
 },
 "nbformat": 4,
 "nbformat_minor": 5
}