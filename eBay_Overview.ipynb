{
 "cells": [
  {
   "cell_type": "code",
   "execution_count": 1,
   "id": "reverse-picking",
   "metadata": {
    "execution": {
     "iopub.execute_input": "2021-10-25T01:00:07.294287Z",
     "iopub.status.busy": "2021-10-25T01:00:07.292262Z",
     "iopub.status.idle": "2021-10-25T01:00:08.106801Z",
     "shell.execute_reply": "2021-10-25T01:00:08.105150Z"
    },
    "papermill": {
     "duration": 0.863969,
     "end_time": "2021-10-25T01:00:08.107219",
     "exception": false,
     "start_time": "2021-10-25T01:00:07.243250",
     "status": "completed"
    },
    "tags": []
   },
   "outputs": [],
   "source": [
    "import pandas as pd\n",
    "import sqlite3"
   ]
  },
  {
   "cell_type": "code",
   "execution_count": 2,
   "id": "innovative-syndrome",
   "metadata": {
    "execution": {
     "iopub.execute_input": "2021-10-25T01:00:08.157775Z",
     "iopub.status.busy": "2021-10-25T01:00:08.155743Z",
     "iopub.status.idle": "2021-10-25T01:00:08.786962Z",
     "shell.execute_reply": "2021-10-25T01:00:08.788233Z"
    },
    "papermill": {
     "duration": 0.661201,
     "end_time": "2021-10-25T01:00:08.788646",
     "exception": false,
     "start_time": "2021-10-25T01:00:08.127445",
     "status": "completed"
    },
    "tags": []
   },
   "outputs": [],
   "source": [
    "timestamps = pd.read_sql(\"select distinct record_time from EBAY_TOP_BERLIN order by record_time desc limit 2\", sqlite3.connect(\"UsedObjects.db\"))"
   ]
  },
  {
   "cell_type": "code",
   "execution_count": 3,
   "id": "periodic-identification",
   "metadata": {
    "execution": {
     "iopub.execute_input": "2021-10-25T01:00:08.867616Z",
     "iopub.status.busy": "2021-10-25T01:00:08.865597Z",
     "iopub.status.idle": "2021-10-25T01:00:08.885942Z",
     "shell.execute_reply": "2021-10-25T01:00:08.887661Z"
    },
    "papermill": {
     "duration": 0.071647,
     "end_time": "2021-10-25T01:00:08.888190",
     "exception": false,
     "start_time": "2021-10-25T01:00:08.816543",
     "status": "completed"
    },
    "tags": []
   },
   "outputs": [
    {
     "data": {
      "text/html": [
       "<div>\n",
       "<style scoped>\n",
       "    .dataframe tbody tr th:only-of-type {\n",
       "        vertical-align: middle;\n",
       "    }\n",
       "\n",
       "    .dataframe tbody tr th {\n",
       "        vertical-align: top;\n",
       "    }\n",
       "\n",
       "    .dataframe thead th {\n",
       "        text-align: right;\n",
       "    }\n",
       "</style>\n",
       "<table border=\"1\" class=\"dataframe\">\n",
       "  <thead>\n",
       "    <tr style=\"text-align: right;\">\n",
       "      <th></th>\n",
       "      <th>RECORD_TIME</th>\n",
       "    </tr>\n",
       "  </thead>\n",
       "  <tbody>\n",
       "    <tr>\n",
       "      <th>0</th>\n",
       "      <td>2021-10-25 03:00</td>\n",
       "    </tr>\n",
       "    <tr>\n",
       "      <th>1</th>\n",
       "      <td>2021-10-25 02:30</td>\n",
       "    </tr>\n",
       "  </tbody>\n",
       "</table>\n",
       "</div>"
      ],
      "text/plain": [
       "        RECORD_TIME\n",
       "0  2021-10-25 03:00\n",
       "1  2021-10-25 02:30"
      ]
     },
     "execution_count": 3,
     "metadata": {},
     "output_type": "execute_result"
    }
   ],
   "source": [
    "timestamps"
   ]
  },
  {
   "cell_type": "code",
   "execution_count": 4,
   "id": "alternate-victory",
   "metadata": {
    "execution": {
     "iopub.execute_input": "2021-10-25T01:00:08.940620Z",
     "iopub.status.busy": "2021-10-25T01:00:08.938798Z",
     "iopub.status.idle": "2021-10-25T01:00:09.871639Z",
     "shell.execute_reply": "2021-10-25T01:00:09.872917Z"
    },
    "papermill": {
     "duration": 0.962747,
     "end_time": "2021-10-25T01:00:09.873360",
     "exception": false,
     "start_time": "2021-10-25T01:00:08.910613",
     "status": "completed"
    },
    "tags": []
   },
   "outputs": [],
   "source": [
    "df = pd.read_sql(\"select * from EBAY_TOP_BERLIN where record_time in (select distinct record_time from EBAY_TOP_BERLIN order by record_time desc limit 2)\", sqlite3.connect(\"UsedObjects.db\"))"
   ]
  },
  {
   "cell_type": "code",
   "execution_count": 5,
   "id": "popular-active",
   "metadata": {
    "execution": {
     "iopub.execute_input": "2021-10-25T01:00:09.938473Z",
     "iopub.status.busy": "2021-10-25T01:00:09.931211Z",
     "iopub.status.idle": "2021-10-25T01:00:09.958684Z",
     "shell.execute_reply": "2021-10-25T01:00:09.959894Z"
    },
    "papermill": {
     "duration": 0.066287,
     "end_time": "2021-10-25T01:00:09.960286",
     "exception": false,
     "start_time": "2021-10-25T01:00:09.893999",
     "status": "completed"
    },
    "tags": []
   },
   "outputs": [],
   "source": [
    "df_pivot = df.pivot_table(index=\"PRODUCT\", columns = \"RECORD_TIME\", values = \"LISTING_COUNT\")"
   ]
  },
  {
   "cell_type": "code",
   "execution_count": 6,
   "id": "union-huntington",
   "metadata": {
    "execution": {
     "iopub.execute_input": "2021-10-25T01:00:10.019585Z",
     "iopub.status.busy": "2021-10-25T01:00:10.017152Z",
     "iopub.status.idle": "2021-10-25T01:00:10.022988Z",
     "shell.execute_reply": "2021-10-25T01:00:10.024269Z"
    },
    "papermill": {
     "duration": 0.042195,
     "end_time": "2021-10-25T01:00:10.024734",
     "exception": false,
     "start_time": "2021-10-25T01:00:09.982539",
     "status": "completed"
    },
    "tags": []
   },
   "outputs": [],
   "source": [
    "df_pivot.columns = [\"stamp_1\", \"stamp_2\"]\n",
    "df_pivot_diff = df_pivot.diff(axis=1)"
   ]
  },
  {
   "cell_type": "code",
   "execution_count": 7,
   "id": "fifth-motion",
   "metadata": {
    "execution": {
     "iopub.execute_input": "2021-10-25T01:00:10.079001Z",
     "iopub.status.busy": "2021-10-25T01:00:10.076519Z",
     "iopub.status.idle": "2021-10-25T01:00:11.545341Z",
     "shell.execute_reply": "2021-10-25T01:00:11.546637Z"
    },
    "papermill": {
     "duration": 1.501727,
     "end_time": "2021-10-25T01:00:11.547051",
     "exception": false,
     "start_time": "2021-10-25T01:00:10.045324",
     "status": "completed"
    },
    "tags": []
   },
   "outputs": [
    {
     "data": {
      "text/plain": [
       "<AxesSubplot:ylabel='PRODUCT'>"
      ]
     },
     "execution_count": 7,
     "metadata": {},
     "output_type": "execute_result"
    },
    {
     "data": {
      "image/png": "[encoded data removed]",
      "text/plain": [
       "<Figure size 432x288 with 1 Axes>"
      ]
     },
     "metadata": {
      "needs_background": "light"
     },
     "output_type": "display_data"
    }
   ],
   "source": [
    "df_pivot_diff.sort_values(\"stamp_2\", ascending = False)[\"stamp_2\"].head(10).plot.barh()"
   ]
  },
  {
   "cell_type": "code",
   "execution_count": null,
   "id": "extra-executive",
   "metadata": {
    "papermill": {
     "duration": 0.022163,
     "end_time": "2021-10-25T01:00:11.593799",
     "exception": false,
     "start_time": "2021-10-25T01:00:11.571636",
     "status": "completed"
    },
    "tags": []
   },
   "outputs": [],
   "source": []
  }
 ],
 "metadata": {
  "kernelspec": {
   "display_name": "Python 3",
   "language": "python",
   "name": "python3"
  },
  "language_info": {
   "codemirror_mode": {
    "name": "ipython",
    "version": 3
   },
   "file_extension": ".py",
   "mimetype": "text/x-python",
   "name": "python",
   "nbconvert_exporter": "python",
   "pygments_lexer": "ipython3",
   "version": "3.9.5"
  },
  "papermill": {
   "default_parameters": {},
   "duration": 7.407803,
   "end_time": "2021-10-25T01:00:12.233872",
   "environment_variables": {},
   "exception": null,
   "input_path": "eBay_Overview.ipynb",
   "output_path": "eBay_Overview.ipynb",
   "parameters": {},
   "start_time": "2021-10-25T01:00:04.826069",
   "version": "2.3.3"
  }
 },
 "nbformat": 4,
 "nbformat_minor": 5
}