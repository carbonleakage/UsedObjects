{
 "cells": [
  {
   "cell_type": "code",
   "execution_count": 1,
   "id": "reverse-picking",
   "metadata": {
    "execution": {
     "iopub.execute_input": "2021-11-24T02:00:07.998041Z",
     "iopub.status.busy": "2021-11-24T02:00:07.995033Z",
     "iopub.status.idle": "2021-11-24T02:00:08.954583Z",
     "shell.execute_reply": "2021-11-24T02:00:08.956083Z"
    },
    "papermill": {
     "duration": 1.009148,
     "end_time": "2021-11-24T02:00:08.956880",
     "exception": false,
     "start_time": "2021-11-24T02:00:07.947732",
     "status": "completed"
    },
    "tags": []
   },
   "outputs": [],
   "source": [
    "import pandas as pd\n",
    "import sqlite3"
   ]
  },
  {
   "cell_type": "code",
   "execution_count": 2,
   "id": "innovative-syndrome",
   "metadata": {
    "execution": {
     "iopub.execute_input": "2021-11-24T02:00:09.076974Z",
     "iopub.status.busy": "2021-11-24T02:00:09.074696Z",
     "iopub.status.idle": "2021-11-24T02:00:09.977377Z",
     "shell.execute_reply": "2021-11-24T02:00:09.978968Z"
    },
    "papermill": {
     "duration": 0.936865,
     "end_time": "2021-11-24T02:00:09.979475",
     "exception": false,
     "start_time": "2021-11-24T02:00:09.042610",
     "status": "completed"
    },
    "tags": []
   },
   "outputs": [],
   "source": [
    "timestamps = pd.read_sql(\"select distinct record_time from EBAY_TOP_BERLIN order by record_time desc limit 2\", sqlite3.connect(\"UsedObjects.db\"))"
   ]
  },
  {
   "cell_type": "code",
   "execution_count": 3,
   "id": "periodic-identification",
   "metadata": {
    "execution": {
     "iopub.execute_input": "2021-11-24T02:00:10.050317Z",
     "iopub.status.busy": "2021-11-24T02:00:10.048011Z",
     "iopub.status.idle": "2021-11-24T02:00:10.070538Z",
     "shell.execute_reply": "2021-11-24T02:00:10.071957Z"
    },
    "papermill": {
     "duration": 0.072156,
     "end_time": "2021-11-24T02:00:10.072438",
     "exception": false,
     "start_time": "2021-11-24T02:00:10.000282",
     "status": "completed"
    },
    "tags": []
   },
   "outputs": [
    {
     "data": {
      "text/html": [
       "<div>\n",
       "<style scoped>\n",
       "    .dataframe tbody tr th:only-of-type {\n",
       "        vertical-align: middle;\n",
       "    }\n",
       "\n",
       "    .dataframe tbody tr th {\n",
       "        vertical-align: top;\n",
       "    }\n",
       "\n",
       "    .dataframe thead th {\n",
       "        text-align: right;\n",
       "    }\n",
       "</style>\n",
       "<table border=\"1\" class=\"dataframe\">\n",
       "  <thead>\n",
       "    <tr style=\"text-align: right;\">\n",
       "      <th></th>\n",
       "      <th>RECORD_TIME</th>\n",
       "    </tr>\n",
       "  </thead>\n",
       "  <tbody>\n",
       "    <tr>\n",
       "      <th>0</th>\n",
       "      <td>2021-11-24 03:00</td>\n",
       "    </tr>\n",
       "    <tr>\n",
       "      <th>1</th>\n",
       "      <td>2021-11-24 02:30</td>\n",
       "    </tr>\n",
       "  </tbody>\n",
       "</table>\n",
       "</div>"
      ],
      "text/plain": [
       "        RECORD_TIME\n",
       "0  2021-11-24 03:00\n",
       "1  2021-11-24 02:30"
      ]
     },
     "execution_count": 3,
     "metadata": {},
     "output_type": "execute_result"
    }
   ],
   "source": [
    "timestamps"
   ]
  },
  {
   "cell_type": "code",
   "execution_count": 4,
   "id": "alternate-victory",
   "metadata": {
    "execution": {
     "iopub.execute_input": "2021-11-24T02:00:10.131036Z",
     "iopub.status.busy": "2021-11-24T02:00:10.128841Z",
     "iopub.status.idle": "2021-11-24T02:00:11.420637Z",
     "shell.execute_reply": "2021-11-24T02:00:11.422265Z"
    },
    "papermill": {
     "duration": 1.328627,
     "end_time": "2021-11-24T02:00:11.422769",
     "exception": false,
     "start_time": "2021-11-24T02:00:10.094142",
     "status": "completed"
    },
    "tags": []
   },
   "outputs": [],
   "source": [
    "df = pd.read_sql(\"select * from EBAY_TOP_BERLIN where record_time in (select distinct record_time from EBAY_TOP_BERLIN order by record_time desc limit 2)\", sqlite3.connect(\"UsedObjects.db\"))"
   ]
  },
  {
   "cell_type": "code",
   "execution_count": 5,
   "id": "popular-active",
   "metadata": {
    "execution": {
     "iopub.execute_input": "2021-11-24T02:00:11.500182Z",
     "iopub.status.busy": "2021-11-24T02:00:11.486477Z",
     "iopub.status.idle": "2021-11-24T02:00:11.517537Z",
     "shell.execute_reply": "2021-11-24T02:00:11.518786Z"
    },
    "papermill": {
     "duration": 0.073912,
     "end_time": "2021-11-24T02:00:11.519224",
     "exception": false,
     "start_time": "2021-11-24T02:00:11.445312",
     "status": "completed"
    },
    "tags": []
   },
   "outputs": [],
   "source": [
    "df_pivot = df.pivot_table(index=\"PRODUCT\", columns = \"RECORD_TIME\", values = \"LISTING_COUNT\")"
   ]
  },
  {
   "cell_type": "code",
   "execution_count": 6,
   "id": "union-huntington",
   "metadata": {
    "execution": {
     "iopub.execute_input": "2021-11-24T02:00:11.581860Z",
     "iopub.status.busy": "2021-11-24T02:00:11.579262Z",
     "iopub.status.idle": "2021-11-24T02:00:11.585549Z",
     "shell.execute_reply": "2021-11-24T02:00:11.587081Z"
    },
    "papermill": {
     "duration": 0.047346,
     "end_time": "2021-11-24T02:00:11.587582",
     "exception": false,
     "start_time": "2021-11-24T02:00:11.540236",
     "status": "completed"
    },
    "tags": []
   },
   "outputs": [],
   "source": [
    "df_pivot.columns = [\"stamp_1\", \"stamp_2\"]\n",
    "df_pivot_diff = df_pivot.diff(axis=1)"
   ]
  },
  {
   "cell_type": "code",
   "execution_count": 7,
   "id": "fifth-motion",
   "metadata": {
    "execution": {
     "iopub.execute_input": "2021-11-24T02:00:11.647666Z",
     "iopub.status.busy": "2021-11-24T02:00:11.645007Z",
     "iopub.status.idle": "2021-11-24T02:00:13.542702Z",
     "shell.execute_reply": "2021-11-24T02:00:13.544208Z"
    },
    "papermill": {
     "duration": 1.934986,
     "end_time": "2021-11-24T02:00:13.544729",
     "exception": false,
     "start_time": "2021-11-24T02:00:11.609743",
     "status": "completed"
    },
    "tags": []
   },
   "outputs": [
    {
     "data": {
      "text/plain": [
       "<AxesSubplot:ylabel='PRODUCT'>"
      ]
     },
     "execution_count": 7,
     "metadata": {},
     "output_type": "execute_result"
    },
    {
     "data": {
      "image/png": "[encoded data removed]",
      "text/plain": [
       "<Figure size 432x288 with 1 Axes>"
      ]
     },
     "metadata": {
      "needs_background": "light"
     },
     "output_type": "display_data"
    }
   ],
   "source": [
    "df_pivot_diff.sort_values(\"stamp_2\", ascending = False)[\"stamp_2\"].head(10).plot.barh()"
   ]
  },
  {
   "cell_type": "code",
   "execution_count": null,
   "id": "extra-executive",
   "metadata": {
    "papermill": {
     "duration": 0.023636,
     "end_time": "2021-11-24T02:00:13.592262",
     "exception": false,
     "start_time": "2021-11-24T02:00:13.568626",
     "status": "completed"
    },
    "tags": []
   },
   "outputs": [],
   "source": []
  }
 ],
 "metadata": {
  "kernelspec": {
   "display_name": "Python 3",
   "language": "python",
   "name": "python3"
  },
  "language_info": {
   "codemirror_mode": {
    "name": "ipython",
    "version": 3
   },
   "file_extension": ".py",
   "mimetype": "text/x-python",
   "name": "python",
   "nbconvert_exporter": "python",
   "pygments_lexer": "ipython3",
   "version": "3.9.5"
  },
  "papermill": {
   "default_parameters": {},
   "duration": 9.927791,
   "end_time": "2021-11-24T02:00:15.148340",
   "environment_variables": {},
   "exception": null,
   "input_path": "eBay_Overview.ipynb",
   "output_path": "eBay_Overview.ipynb",
   "parameters": {},
   "start_time": "2021-11-24T02:00:05.220549",
   "version": "2.3.3"
  }
 },
 "nbformat": 4,
 "nbformat_minor": 5
}