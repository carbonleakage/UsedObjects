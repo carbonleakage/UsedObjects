{
 "cells": [
  {
   "cell_type": "code",
   "execution_count": 1,
   "id": "reverse-picking",
   "metadata": {
    "execution": {
     "iopub.execute_input": "2021-11-09T13:00:07.873293Z",
     "iopub.status.busy": "2021-11-09T13:00:07.870747Z",
     "iopub.status.idle": "2021-11-09T13:00:08.827656Z",
     "shell.execute_reply": "2021-11-09T13:00:08.829295Z"
    },
    "papermill": {
     "duration": 1.005434,
     "end_time": "2021-11-09T13:00:08.830028",
     "exception": false,
     "start_time": "2021-11-09T13:00:07.824594",
     "status": "completed"
    },
    "tags": []
   },
   "outputs": [],
   "source": [
    "import pandas as pd\n",
    "import sqlite3"
   ]
  },
  {
   "cell_type": "code",
   "execution_count": 2,
   "id": "innovative-syndrome",
   "metadata": {
    "execution": {
     "iopub.execute_input": "2021-11-09T13:00:08.892966Z",
     "iopub.status.busy": "2021-11-09T13:00:08.890613Z",
     "iopub.status.idle": "2021-11-09T13:00:09.675801Z",
     "shell.execute_reply": "2021-11-09T13:00:09.677169Z"
    },
    "papermill": {
     "duration": 0.819594,
     "end_time": "2021-11-09T13:00:09.677608",
     "exception": false,
     "start_time": "2021-11-09T13:00:08.858014",
     "status": "completed"
    },
    "tags": []
   },
   "outputs": [],
   "source": [
    "timestamps = pd.read_sql(\"select distinct record_time from EBAY_TOP_BERLIN order by record_time desc limit 2\", sqlite3.connect(\"UsedObjects.db\"))"
   ]
  },
  {
   "cell_type": "code",
   "execution_count": 3,
   "id": "periodic-identification",
   "metadata": {
    "execution": {
     "iopub.execute_input": "2021-11-09T13:00:09.742169Z",
     "iopub.status.busy": "2021-11-09T13:00:09.739843Z",
     "iopub.status.idle": "2021-11-09T13:00:09.759656Z",
     "shell.execute_reply": "2021-11-09T13:00:09.761011Z"
    },
    "papermill": {
     "duration": 0.064258,
     "end_time": "2021-11-09T13:00:09.761428",
     "exception": false,
     "start_time": "2021-11-09T13:00:09.697170",
     "status": "completed"
    },
    "tags": []
   },
   "outputs": [
    {
     "data": {
      "text/html": [
       "<div>\n",
       "<style scoped>\n",
       "    .dataframe tbody tr th:only-of-type {\n",
       "        vertical-align: middle;\n",
       "    }\n",
       "\n",
       "    .dataframe tbody tr th {\n",
       "        vertical-align: top;\n",
       "    }\n",
       "\n",
       "    .dataframe thead th {\n",
       "        text-align: right;\n",
       "    }\n",
       "</style>\n",
       "<table border=\"1\" class=\"dataframe\">\n",
       "  <thead>\n",
       "    <tr style=\"text-align: right;\">\n",
       "      <th></th>\n",
       "      <th>RECORD_TIME</th>\n",
       "    </tr>\n",
       "  </thead>\n",
       "  <tbody>\n",
       "    <tr>\n",
       "      <th>0</th>\n",
       "      <td>2021-11-09 14:00</td>\n",
       "    </tr>\n",
       "    <tr>\n",
       "      <th>1</th>\n",
       "      <td>2021-11-09 13:30</td>\n",
       "    </tr>\n",
       "  </tbody>\n",
       "</table>\n",
       "</div>"
      ],
      "text/plain": [
       "        RECORD_TIME\n",
       "0  2021-11-09 14:00\n",
       "1  2021-11-09 13:30"
      ]
     },
     "execution_count": 3,
     "metadata": {},
     "output_type": "execute_result"
    }
   ],
   "source": [
    "timestamps"
   ]
  },
  {
   "cell_type": "code",
   "execution_count": 4,
   "id": "alternate-victory",
   "metadata": {
    "execution": {
     "iopub.execute_input": "2021-11-09T13:00:09.813497Z",
     "iopub.status.busy": "2021-11-09T13:00:09.811523Z",
     "iopub.status.idle": "2021-11-09T13:00:10.965372Z",
     "shell.execute_reply": "2021-11-09T13:00:10.966983Z"
    },
    "papermill": {
     "duration": 1.184221,
     "end_time": "2021-11-09T13:00:10.967533",
     "exception": false,
     "start_time": "2021-11-09T13:00:09.783312",
     "status": "completed"
    },
    "tags": []
   },
   "outputs": [],
   "source": [
    "df = pd.read_sql(\"select * from EBAY_TOP_BERLIN where record_time in (select distinct record_time from EBAY_TOP_BERLIN order by record_time desc limit 2)\", sqlite3.connect(\"UsedObjects.db\"))"
   ]
  },
  {
   "cell_type": "code",
   "execution_count": 5,
   "id": "popular-active",
   "metadata": {
    "execution": {
     "iopub.execute_input": "2021-11-09T13:00:11.035585Z",
     "iopub.status.busy": "2021-11-09T13:00:11.033109Z",
     "iopub.status.idle": "2021-11-09T13:00:11.064624Z",
     "shell.execute_reply": "2021-11-09T13:00:11.065966Z"
    },
    "papermill": {
     "duration": 0.075697,
     "end_time": "2021-11-09T13:00:11.066440",
     "exception": false,
     "start_time": "2021-11-09T13:00:10.990743",
     "status": "completed"
    },
    "tags": []
   },
   "outputs": [],
   "source": [
    "df_pivot = df.pivot_table(index=\"PRODUCT\", columns = \"RECORD_TIME\", values = \"LISTING_COUNT\")"
   ]
  },
  {
   "cell_type": "code",
   "execution_count": 6,
   "id": "union-huntington",
   "metadata": {
    "execution": {
     "iopub.execute_input": "2021-11-09T13:00:11.126052Z",
     "iopub.status.busy": "2021-11-09T13:00:11.123677Z",
     "iopub.status.idle": "2021-11-09T13:00:11.129785Z",
     "shell.execute_reply": "2021-11-09T13:00:11.131382Z"
    },
    "papermill": {
     "duration": 0.045476,
     "end_time": "2021-11-09T13:00:11.131908",
     "exception": false,
     "start_time": "2021-11-09T13:00:11.086432",
     "status": "completed"
    },
    "tags": []
   },
   "outputs": [],
   "source": [
    "df_pivot.columns = [\"stamp_1\", \"stamp_2\"]\n",
    "df_pivot_diff = df_pivot.diff(axis=1)"
   ]
  },
  {
   "cell_type": "code",
   "execution_count": 7,
   "id": "fifth-motion",
   "metadata": {
    "execution": {
     "iopub.execute_input": "2021-11-09T13:00:11.192968Z",
     "iopub.status.busy": "2021-11-09T13:00:11.190339Z",
     "iopub.status.idle": "2021-11-09T13:00:13.117759Z",
     "shell.execute_reply": "2021-11-09T13:00:13.119423Z"
    },
    "papermill": {
     "duration": 1.96635,
     "end_time": "2021-11-09T13:00:13.119947",
     "exception": false,
     "start_time": "2021-11-09T13:00:11.153597",
     "status": "completed"
    },
    "tags": []
   },
   "outputs": [
    {
     "data": {
      "text/plain": [
       "<AxesSubplot:ylabel='PRODUCT'>"
      ]
     },
     "execution_count": 7,
     "metadata": {},
     "output_type": "execute_result"
    },
    {
     "data": {
      "image/png": "[encoded data removed]",
      "text/plain": [
       "<Figure size 432x288 with 1 Axes>"
      ]
     },
     "metadata": {
      "needs_background": "light"
     },
     "output_type": "display_data"
    }
   ],
   "source": [
    "df_pivot_diff.sort_values(\"stamp_2\", ascending = False)[\"stamp_2\"].head(10).plot.barh()"
   ]
  },
  {
   "cell_type": "code",
   "execution_count": null,
   "id": "extra-executive",
   "metadata": {
    "papermill": {
     "duration": 0.02381,
     "end_time": "2021-11-09T13:00:13.169877",
     "exception": false,
     "start_time": "2021-11-09T13:00:13.146067",
     "status": "completed"
    },
    "tags": []
   },
   "outputs": [],
   "source": []
  }
 ],
 "metadata": {
  "kernelspec": {
   "display_name": "Python 3",
   "language": "python",
   "name": "python3"
  },
  "language_info": {
   "codemirror_mode": {
    "name": "ipython",
    "version": 3
   },
   "file_extension": ".py",
   "mimetype": "text/x-python",
   "name": "python",
   "nbconvert_exporter": "python",
   "pygments_lexer": "ipython3",
   "version": "3.9.5"
  },
  "papermill": {
   "default_parameters": {},
   "duration": 8.916714,
   "end_time": "2021-11-09T13:00:14.020089",
   "environment_variables": {},
   "exception": null,
   "input_path": "eBay_Overview.ipynb",
   "output_path": "eBay_Overview.ipynb",
   "parameters": {},
   "start_time": "2021-11-09T13:00:05.103375",
   "version": "2.3.3"
  }
 },
 "nbformat": 4,
 "nbformat_minor": 5
}