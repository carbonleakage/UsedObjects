{
 "cells": [
  {
   "cell_type": "code",
   "execution_count": 1,
   "id": "reverse-picking",
   "metadata": {
    "execution": {
     "iopub.execute_input": "2021-11-13T07:30:07.913046Z",
     "iopub.status.busy": "2021-11-13T07:30:07.910607Z",
     "iopub.status.idle": "2021-11-13T07:30:08.851492Z",
     "shell.execute_reply": "2021-11-13T07:30:08.853219Z"
    },
    "papermill": {
     "duration": 0.991397,
     "end_time": "2021-11-13T07:30:08.853978",
     "exception": false,
     "start_time": "2021-11-13T07:30:07.862581",
     "status": "completed"
    },
    "tags": []
   },
   "outputs": [],
   "source": [
    "import pandas as pd\n",
    "import sqlite3"
   ]
  },
  {
   "cell_type": "code",
   "execution_count": 2,
   "id": "innovative-syndrome",
   "metadata": {
    "execution": {
     "iopub.execute_input": "2021-11-13T07:30:08.934409Z",
     "iopub.status.busy": "2021-11-13T07:30:08.931394Z",
     "iopub.status.idle": "2021-11-13T07:30:09.735028Z",
     "shell.execute_reply": "2021-11-13T07:30:09.736600Z"
    },
    "papermill": {
     "duration": 0.851577,
     "end_time": "2021-11-13T07:30:09.737109",
     "exception": false,
     "start_time": "2021-11-13T07:30:08.885532",
     "status": "completed"
    },
    "tags": []
   },
   "outputs": [],
   "source": [
    "timestamps = pd.read_sql(\"select distinct record_time from EBAY_TOP_BERLIN order by record_time desc limit 2\", sqlite3.connect(\"UsedObjects.db\"))"
   ]
  },
  {
   "cell_type": "code",
   "execution_count": 3,
   "id": "periodic-identification",
   "metadata": {
    "execution": {
     "iopub.execute_input": "2021-11-13T07:30:09.812391Z",
     "iopub.status.busy": "2021-11-13T07:30:09.802703Z",
     "iopub.status.idle": "2021-11-13T07:30:09.832294Z",
     "shell.execute_reply": "2021-11-13T07:30:09.833868Z"
    },
    "papermill": {
     "duration": 0.075857,
     "end_time": "2021-11-13T07:30:09.834345",
     "exception": false,
     "start_time": "2021-11-13T07:30:09.758488",
     "status": "completed"
    },
    "tags": []
   },
   "outputs": [
    {
     "data": {
      "text/html": [
       "<div>\n",
       "<style scoped>\n",
       "    .dataframe tbody tr th:only-of-type {\n",
       "        vertical-align: middle;\n",
       "    }\n",
       "\n",
       "    .dataframe tbody tr th {\n",
       "        vertical-align: top;\n",
       "    }\n",
       "\n",
       "    .dataframe thead th {\n",
       "        text-align: right;\n",
       "    }\n",
       "</style>\n",
       "<table border=\"1\" class=\"dataframe\">\n",
       "  <thead>\n",
       "    <tr style=\"text-align: right;\">\n",
       "      <th></th>\n",
       "      <th>RECORD_TIME</th>\n",
       "    </tr>\n",
       "  </thead>\n",
       "  <tbody>\n",
       "    <tr>\n",
       "      <th>0</th>\n",
       "      <td>2021-11-13 08:30</td>\n",
       "    </tr>\n",
       "    <tr>\n",
       "      <th>1</th>\n",
       "      <td>2021-11-13 08:00</td>\n",
       "    </tr>\n",
       "  </tbody>\n",
       "</table>\n",
       "</div>"
      ],
      "text/plain": [
       "        RECORD_TIME\n",
       "0  2021-11-13 08:30\n",
       "1  2021-11-13 08:00"
      ]
     },
     "execution_count": 3,
     "metadata": {},
     "output_type": "execute_result"
    }
   ],
   "source": [
    "timestamps"
   ]
  },
  {
   "cell_type": "code",
   "execution_count": 4,
   "id": "alternate-victory",
   "metadata": {
    "execution": {
     "iopub.execute_input": "2021-11-13T07:30:09.886397Z",
     "iopub.status.busy": "2021-11-13T07:30:09.884434Z",
     "iopub.status.idle": "2021-11-13T07:30:11.067307Z",
     "shell.execute_reply": "2021-11-13T07:30:11.068801Z"
    },
    "papermill": {
     "duration": 1.213211,
     "end_time": "2021-11-13T07:30:11.069383",
     "exception": false,
     "start_time": "2021-11-13T07:30:09.856172",
     "status": "completed"
    },
    "tags": []
   },
   "outputs": [],
   "source": [
    "df = pd.read_sql(\"select * from EBAY_TOP_BERLIN where record_time in (select distinct record_time from EBAY_TOP_BERLIN order by record_time desc limit 2)\", sqlite3.connect(\"UsedObjects.db\"))"
   ]
  },
  {
   "cell_type": "code",
   "execution_count": 5,
   "id": "popular-active",
   "metadata": {
    "execution": {
     "iopub.execute_input": "2021-11-13T07:30:11.136865Z",
     "iopub.status.busy": "2021-11-13T07:30:11.134541Z",
     "iopub.status.idle": "2021-11-13T07:30:11.167755Z",
     "shell.execute_reply": "2021-11-13T07:30:11.169352Z"
    },
    "papermill": {
     "duration": 0.077494,
     "end_time": "2021-11-13T07:30:11.169859",
     "exception": false,
     "start_time": "2021-11-13T07:30:11.092365",
     "status": "completed"
    },
    "tags": []
   },
   "outputs": [],
   "source": [
    "df_pivot = df.pivot_table(index=\"PRODUCT\", columns = \"RECORD_TIME\", values = \"LISTING_COUNT\")"
   ]
  },
  {
   "cell_type": "code",
   "execution_count": 6,
   "id": "union-huntington",
   "metadata": {
    "execution": {
     "iopub.execute_input": "2021-11-13T07:30:11.230971Z",
     "iopub.status.busy": "2021-11-13T07:30:11.228858Z",
     "iopub.status.idle": "2021-11-13T07:30:11.235035Z",
     "shell.execute_reply": "2021-11-13T07:30:11.236372Z"
    },
    "papermill": {
     "duration": 0.045845,
     "end_time": "2021-11-13T07:30:11.236966",
     "exception": false,
     "start_time": "2021-11-13T07:30:11.191121",
     "status": "completed"
    },
    "tags": []
   },
   "outputs": [],
   "source": [
    "df_pivot.columns = [\"stamp_1\", \"stamp_2\"]\n",
    "df_pivot_diff = df_pivot.diff(axis=1)"
   ]
  },
  {
   "cell_type": "code",
   "execution_count": 7,
   "id": "fifth-motion",
   "metadata": {
    "execution": {
     "iopub.execute_input": "2021-11-13T07:30:11.293628Z",
     "iopub.status.busy": "2021-11-13T07:30:11.291094Z",
     "iopub.status.idle": "2021-11-13T07:30:13.236774Z",
     "shell.execute_reply": "2021-11-13T07:30:13.239577Z"
    },
    "papermill": {
     "duration": 1.982909,
     "end_time": "2021-11-13T07:30:13.240405",
     "exception": false,
     "start_time": "2021-11-13T07:30:11.257496",
     "status": "completed"
    },
    "tags": []
   },
   "outputs": [
    {
     "data": {
      "text/plain": [
       "<AxesSubplot:ylabel='PRODUCT'>"
      ]
     },
     "execution_count": 7,
     "metadata": {},
     "output_type": "execute_result"
    },
    {
     "data": {
      "image/png": "[encoded data removed]",
      "text/plain": [
       "<Figure size 432x288 with 1 Axes>"
      ]
     },
     "metadata": {
      "needs_background": "light"
     },
     "output_type": "display_data"
    }
   ],
   "source": [
    "df_pivot_diff.sort_values(\"stamp_2\", ascending = False)[\"stamp_2\"].head(10).plot.barh()"
   ]
  },
  {
   "cell_type": "code",
   "execution_count": null,
   "id": "extra-executive",
   "metadata": {
    "papermill": {
     "duration": 0.032977,
     "end_time": "2021-11-13T07:30:13.309773",
     "exception": false,
     "start_time": "2021-11-13T07:30:13.276796",
     "status": "completed"
    },
    "tags": []
   },
   "outputs": [],
   "source": []
  }
 ],
 "metadata": {
  "kernelspec": {
   "display_name": "Python 3",
   "language": "python",
   "name": "python3"
  },
  "language_info": {
   "codemirror_mode": {
    "name": "ipython",
    "version": 3
   },
   "file_extension": ".py",
   "mimetype": "text/x-python",
   "name": "python",
   "nbconvert_exporter": "python",
   "pygments_lexer": "ipython3",
   "version": "3.9.5"
  },
  "papermill": {
   "default_parameters": {},
   "duration": 9.932491,
   "end_time": "2021-11-13T07:30:15.079647",
   "environment_variables": {},
   "exception": null,
   "input_path": "eBay_Overview.ipynb",
   "output_path": "eBay_Overview.ipynb",
   "parameters": {},
   "start_time": "2021-11-13T07:30:05.147156",
   "version": "2.3.3"
  }
 },
 "nbformat": 4,
 "nbformat_minor": 5
}