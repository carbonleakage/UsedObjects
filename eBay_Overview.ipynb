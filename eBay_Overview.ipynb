{
 "cells": [
  {
   "cell_type": "code",
   "execution_count": 1,
   "id": "reverse-picking",
   "metadata": {
    "execution": {
     "iopub.execute_input": "2021-09-10T14:00:06.660932Z",
     "iopub.status.busy": "2021-09-10T14:00:06.658957Z",
     "iopub.status.idle": "2021-09-10T14:00:07.468759Z",
     "shell.execute_reply": "2021-09-10T14:00:07.470023Z"
    },
    "papermill": {
     "duration": 0.862662,
     "end_time": "2021-09-10T14:00:07.470655",
     "exception": false,
     "start_time": "2021-09-10T14:00:06.607993",
     "status": "completed"
    },
    "tags": []
   },
   "outputs": [],
   "source": [
    "import pandas as pd\n",
    "import sqlite3"
   ]
  },
  {
   "cell_type": "code",
   "execution_count": 2,
   "id": "innovative-syndrome",
   "metadata": {
    "execution": {
     "iopub.execute_input": "2021-09-10T14:00:07.524295Z",
     "iopub.status.busy": "2021-09-10T14:00:07.521897Z",
     "iopub.status.idle": "2021-09-10T14:00:07.775421Z",
     "shell.execute_reply": "2021-09-10T14:00:07.776732Z"
    },
    "papermill": {
     "duration": 0.283898,
     "end_time": "2021-09-10T14:00:07.777139",
     "exception": false,
     "start_time": "2021-09-10T14:00:07.493241",
     "status": "completed"
    },
    "tags": []
   },
   "outputs": [],
   "source": [
    "timestamps = pd.read_sql(\"select distinct record_time from EBAY_TOP_BERLIN order by record_time desc limit 2\", sqlite3.connect(\"UsedObjects.db\"))"
   ]
  },
  {
   "cell_type": "code",
   "execution_count": 3,
   "id": "periodic-identification",
   "metadata": {
    "execution": {
     "iopub.execute_input": "2021-09-10T14:00:07.842157Z",
     "iopub.status.busy": "2021-09-10T14:00:07.840054Z",
     "iopub.status.idle": "2021-09-10T14:00:07.860739Z",
     "shell.execute_reply": "2021-09-10T14:00:07.861866Z"
    },
    "papermill": {
     "duration": 0.065576,
     "end_time": "2021-09-10T14:00:07.862280",
     "exception": false,
     "start_time": "2021-09-10T14:00:07.796704",
     "status": "completed"
    },
    "tags": []
   },
   "outputs": [
    {
     "data": {
      "text/html": [
       "<div>\n",
       "<style scoped>\n",
       "    .dataframe tbody tr th:only-of-type {\n",
       "        vertical-align: middle;\n",
       "    }\n",
       "\n",
       "    .dataframe tbody tr th {\n",
       "        vertical-align: top;\n",
       "    }\n",
       "\n",
       "    .dataframe thead th {\n",
       "        text-align: right;\n",
       "    }\n",
       "</style>\n",
       "<table border=\"1\" class=\"dataframe\">\n",
       "  <thead>\n",
       "    <tr style=\"text-align: right;\">\n",
       "      <th></th>\n",
       "      <th>RECORD_TIME</th>\n",
       "    </tr>\n",
       "  </thead>\n",
       "  <tbody>\n",
       "    <tr>\n",
       "      <th>0</th>\n",
       "      <td>2021-09-10 16:00</td>\n",
       "    </tr>\n",
       "    <tr>\n",
       "      <th>1</th>\n",
       "      <td>2021-09-10 15:30</td>\n",
       "    </tr>\n",
       "  </tbody>\n",
       "</table>\n",
       "</div>"
      ],
      "text/plain": [
       "        RECORD_TIME\n",
       "0  2021-09-10 16:00\n",
       "1  2021-09-10 15:30"
      ]
     },
     "execution_count": 3,
     "metadata": {},
     "output_type": "execute_result"
    }
   ],
   "source": [
    "timestamps"
   ]
  },
  {
   "cell_type": "code",
   "execution_count": 4,
   "id": "alternate-victory",
   "metadata": {
    "execution": {
     "iopub.execute_input": "2021-09-10T14:00:07.917106Z",
     "iopub.status.busy": "2021-09-10T14:00:07.915057Z",
     "iopub.status.idle": "2021-09-10T14:00:08.292429Z",
     "shell.execute_reply": "2021-09-10T14:00:08.293653Z"
    },
    "papermill": {
     "duration": 0.408195,
     "end_time": "2021-09-10T14:00:08.294056",
     "exception": false,
     "start_time": "2021-09-10T14:00:07.885861",
     "status": "completed"
    },
    "tags": []
   },
   "outputs": [],
   "source": [
    "df = pd.read_sql(\"select * from EBAY_TOP_BERLIN where record_time in (select distinct record_time from EBAY_TOP_BERLIN order by record_time desc limit 2)\", sqlite3.connect(\"UsedObjects.db\"))"
   ]
  },
  {
   "cell_type": "code",
   "execution_count": 5,
   "id": "popular-active",
   "metadata": {
    "execution": {
     "iopub.execute_input": "2021-09-10T14:00:08.374131Z",
     "iopub.status.busy": "2021-09-10T14:00:08.361117Z",
     "iopub.status.idle": "2021-09-10T14:00:08.390837Z",
     "shell.execute_reply": "2021-09-10T14:00:08.392210Z"
    },
    "papermill": {
     "duration": 0.072529,
     "end_time": "2021-09-10T14:00:08.392636",
     "exception": false,
     "start_time": "2021-09-10T14:00:08.320107",
     "status": "completed"
    },
    "tags": []
   },
   "outputs": [],
   "source": [
    "df_pivot = df.pivot_table(index=\"PRODUCT\", columns = \"RECORD_TIME\", values = \"LISTING_COUNT\")"
   ]
  },
  {
   "cell_type": "code",
   "execution_count": 6,
   "id": "union-huntington",
   "metadata": {
    "execution": {
     "iopub.execute_input": "2021-09-10T14:00:08.449135Z",
     "iopub.status.busy": "2021-09-10T14:00:08.447150Z",
     "iopub.status.idle": "2021-09-10T14:00:08.452206Z",
     "shell.execute_reply": "2021-09-10T14:00:08.453335Z"
    },
    "papermill": {
     "duration": 0.039785,
     "end_time": "2021-09-10T14:00:08.453754",
     "exception": false,
     "start_time": "2021-09-10T14:00:08.413969",
     "status": "completed"
    },
    "tags": []
   },
   "outputs": [],
   "source": [
    "df_pivot.columns = [\"stamp_1\", \"stamp_2\"]\n",
    "df_pivot_diff = df_pivot.diff(axis=1)"
   ]
  },
  {
   "cell_type": "code",
   "execution_count": 7,
   "id": "fifth-motion",
   "metadata": {
    "execution": {
     "iopub.execute_input": "2021-09-10T14:00:08.508513Z",
     "iopub.status.busy": "2021-09-10T14:00:08.505919Z",
     "iopub.status.idle": "2021-09-10T14:00:10.019465Z",
     "shell.execute_reply": "2021-09-10T14:00:10.020767Z"
    },
    "papermill": {
     "duration": 1.546973,
     "end_time": "2021-09-10T14:00:10.021195",
     "exception": false,
     "start_time": "2021-09-10T14:00:08.474222",
     "status": "completed"
    },
    "tags": []
   },
   "outputs": [
    {
     "data": {
      "text/plain": [
       "<AxesSubplot:ylabel='PRODUCT'>"
      ]
     },
     "execution_count": 7,
     "metadata": {},
     "output_type": "execute_result"
    },
    {
     "data": {
      "image/png": "[encoded data removed]",
      "text/plain": [
       "<Figure size 432x288 with 1 Axes>"
      ]
     },
     "metadata": {
      "needs_background": "light"
     },
     "output_type": "display_data"
    }
   ],
   "source": [
    "df_pivot_diff.sort_values(\"stamp_2\", ascending = False)[\"stamp_2\"].head(10).plot.barh()"
   ]
  },
  {
   "cell_type": "code",
   "execution_count": null,
   "id": "extra-executive",
   "metadata": {
    "papermill": {
     "duration": 0.022541,
     "end_time": "2021-09-10T14:00:10.067590",
     "exception": false,
     "start_time": "2021-09-10T14:00:10.045049",
     "status": "completed"
    },
    "tags": []
   },
   "outputs": [],
   "source": []
  }
 ],
 "metadata": {
  "kernelspec": {
   "display_name": "Python 3",
   "language": "python",
   "name": "python3"
  },
  "language_info": {
   "codemirror_mode": {
    "name": "ipython",
    "version": 3
   },
   "file_extension": ".py",
   "mimetype": "text/x-python",
   "name": "python",
   "nbconvert_exporter": "python",
   "pygments_lexer": "ipython3",
   "version": "3.9.5"
  },
  "papermill": {
   "default_parameters": {},
   "duration": 6.518908,
   "end_time": "2021-09-10T14:00:10.708995",
   "environment_variables": {},
   "exception": null,
   "input_path": "eBay_Overview.ipynb",
   "output_path": "eBay_Overview.ipynb",
   "parameters": {},
   "start_time": "2021-09-10T14:00:04.190087",
   "version": "2.3.3"
  }
 },
 "nbformat": 4,
 "nbformat_minor": 5
}