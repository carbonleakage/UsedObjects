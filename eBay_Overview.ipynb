{
 "cells": [
  {
   "cell_type": "code",
   "execution_count": 1,
   "id": "reverse-picking",
   "metadata": {
    "execution": {
     "iopub.execute_input": "2021-09-26T11:00:07.061649Z",
     "iopub.status.busy": "2021-09-26T11:00:07.059636Z",
     "iopub.status.idle": "2021-09-26T11:00:07.865056Z",
     "shell.execute_reply": "2021-09-26T11:00:07.866302Z"
    },
    "papermill": {
     "duration": 0.855875,
     "end_time": "2021-09-26T11:00:07.867028",
     "exception": false,
     "start_time": "2021-09-26T11:00:07.011153",
     "status": "completed"
    },
    "tags": []
   },
   "outputs": [],
   "source": [
    "import pandas as pd\n",
    "import sqlite3"
   ]
  },
  {
   "cell_type": "code",
   "execution_count": 2,
   "id": "innovative-syndrome",
   "metadata": {
    "execution": {
     "iopub.execute_input": "2021-09-26T11:00:07.916760Z",
     "iopub.status.busy": "2021-09-26T11:00:07.914854Z",
     "iopub.status.idle": "2021-09-26T11:00:08.293587Z",
     "shell.execute_reply": "2021-09-26T11:00:08.294920Z"
    },
    "papermill": {
     "duration": 0.408245,
     "end_time": "2021-09-26T11:00:08.295385",
     "exception": false,
     "start_time": "2021-09-26T11:00:07.887140",
     "status": "completed"
    },
    "tags": []
   },
   "outputs": [],
   "source": [
    "timestamps = pd.read_sql(\"select distinct record_time from EBAY_TOP_BERLIN order by record_time desc limit 2\", sqlite3.connect(\"UsedObjects.db\"))"
   ]
  },
  {
   "cell_type": "code",
   "execution_count": 3,
   "id": "periodic-identification",
   "metadata": {
    "execution": {
     "iopub.execute_input": "2021-09-26T11:00:08.361620Z",
     "iopub.status.busy": "2021-09-26T11:00:08.359606Z",
     "iopub.status.idle": "2021-09-26T11:00:08.381092Z",
     "shell.execute_reply": "2021-09-26T11:00:08.379676Z"
    },
    "papermill": {
     "duration": 0.066979,
     "end_time": "2021-09-26T11:00:08.381443",
     "exception": false,
     "start_time": "2021-09-26T11:00:08.314464",
     "status": "completed"
    },
    "tags": []
   },
   "outputs": [
    {
     "data": {
      "text/html": [
       "<div>\n",
       "<style scoped>\n",
       "    .dataframe tbody tr th:only-of-type {\n",
       "        vertical-align: middle;\n",
       "    }\n",
       "\n",
       "    .dataframe tbody tr th {\n",
       "        vertical-align: top;\n",
       "    }\n",
       "\n",
       "    .dataframe thead th {\n",
       "        text-align: right;\n",
       "    }\n",
       "</style>\n",
       "<table border=\"1\" class=\"dataframe\">\n",
       "  <thead>\n",
       "    <tr style=\"text-align: right;\">\n",
       "      <th></th>\n",
       "      <th>RECORD_TIME</th>\n",
       "    </tr>\n",
       "  </thead>\n",
       "  <tbody>\n",
       "    <tr>\n",
       "      <th>0</th>\n",
       "      <td>2021-09-26 13:00</td>\n",
       "    </tr>\n",
       "    <tr>\n",
       "      <th>1</th>\n",
       "      <td>2021-09-26 12:30</td>\n",
       "    </tr>\n",
       "  </tbody>\n",
       "</table>\n",
       "</div>"
      ],
      "text/plain": [
       "        RECORD_TIME\n",
       "0  2021-09-26 13:00\n",
       "1  2021-09-26 12:30"
      ]
     },
     "execution_count": 3,
     "metadata": {},
     "output_type": "execute_result"
    }
   ],
   "source": [
    "timestamps"
   ]
  },
  {
   "cell_type": "code",
   "execution_count": 4,
   "id": "alternate-victory",
   "metadata": {
    "execution": {
     "iopub.execute_input": "2021-09-26T11:00:08.432893Z",
     "iopub.status.busy": "2021-09-26T11:00:08.430670Z",
     "iopub.status.idle": "2021-09-26T11:00:08.987634Z",
     "shell.execute_reply": "2021-09-26T11:00:08.988858Z"
    },
    "papermill": {
     "duration": 0.586761,
     "end_time": "2021-09-26T11:00:08.989246",
     "exception": false,
     "start_time": "2021-09-26T11:00:08.402485",
     "status": "completed"
    },
    "tags": []
   },
   "outputs": [],
   "source": [
    "df = pd.read_sql(\"select * from EBAY_TOP_BERLIN where record_time in (select distinct record_time from EBAY_TOP_BERLIN order by record_time desc limit 2)\", sqlite3.connect(\"UsedObjects.db\"))"
   ]
  },
  {
   "cell_type": "code",
   "execution_count": 5,
   "id": "popular-active",
   "metadata": {
    "execution": {
     "iopub.execute_input": "2021-09-26T11:00:09.054187Z",
     "iopub.status.busy": "2021-09-26T11:00:09.046520Z",
     "iopub.status.idle": "2021-09-26T11:00:09.077657Z",
     "shell.execute_reply": "2021-09-26T11:00:09.075295Z"
    },
    "papermill": {
     "duration": 0.068456,
     "end_time": "2021-09-26T11:00:09.078044",
     "exception": false,
     "start_time": "2021-09-26T11:00:09.009588",
     "status": "completed"
    },
    "tags": []
   },
   "outputs": [],
   "source": [
    "df_pivot = df.pivot_table(index=\"PRODUCT\", columns = \"RECORD_TIME\", values = \"LISTING_COUNT\")"
   ]
  },
  {
   "cell_type": "code",
   "execution_count": 6,
   "id": "union-huntington",
   "metadata": {
    "execution": {
     "iopub.execute_input": "2021-09-26T11:00:09.134740Z",
     "iopub.status.busy": "2021-09-26T11:00:09.132446Z",
     "iopub.status.idle": "2021-09-26T11:00:09.139659Z",
     "shell.execute_reply": "2021-09-26T11:00:09.138223Z"
    },
    "papermill": {
     "duration": 0.041821,
     "end_time": "2021-09-26T11:00:09.140019",
     "exception": false,
     "start_time": "2021-09-26T11:00:09.098198",
     "status": "completed"
    },
    "tags": []
   },
   "outputs": [],
   "source": [
    "df_pivot.columns = [\"stamp_1\", \"stamp_2\"]\n",
    "df_pivot_diff = df_pivot.diff(axis=1)"
   ]
  },
  {
   "cell_type": "code",
   "execution_count": 7,
   "id": "fifth-motion",
   "metadata": {
    "execution": {
     "iopub.execute_input": "2021-09-26T11:00:09.194232Z",
     "iopub.status.busy": "2021-09-26T11:00:09.191935Z",
     "iopub.status.idle": "2021-09-26T11:00:10.709081Z",
     "shell.execute_reply": "2021-09-26T11:00:10.710366Z"
    },
    "papermill": {
     "duration": 1.550225,
     "end_time": "2021-09-26T11:00:10.710777",
     "exception": false,
     "start_time": "2021-09-26T11:00:09.160552",
     "status": "completed"
    },
    "tags": []
   },
   "outputs": [
    {
     "data": {
      "text/plain": [
       "<AxesSubplot:ylabel='PRODUCT'>"
      ]
     },
     "execution_count": 7,
     "metadata": {},
     "output_type": "execute_result"
    },
    {
     "data": {
      "image/png": "[encoded data removed]",
      "text/plain": [
       "<Figure size 432x288 with 1 Axes>"
      ]
     },
     "metadata": {
      "needs_background": "light"
     },
     "output_type": "display_data"
    }
   ],
   "source": [
    "df_pivot_diff.sort_values(\"stamp_2\", ascending = False)[\"stamp_2\"].head(10).plot.barh()"
   ]
  },
  {
   "cell_type": "code",
   "execution_count": null,
   "id": "extra-executive",
   "metadata": {
    "papermill": {
     "duration": 0.022087,
     "end_time": "2021-09-26T11:00:10.757700",
     "exception": false,
     "start_time": "2021-09-26T11:00:10.735613",
     "status": "completed"
    },
    "tags": []
   },
   "outputs": [],
   "source": []
  }
 ],
 "metadata": {
  "kernelspec": {
   "display_name": "Python 3",
   "language": "python",
   "name": "python3"
  },
  "language_info": {
   "codemirror_mode": {
    "name": "ipython",
    "version": 3
   },
   "file_extension": ".py",
   "mimetype": "text/x-python",
   "name": "python",
   "nbconvert_exporter": "python",
   "pygments_lexer": "ipython3",
   "version": "3.9.5"
  },
  "papermill": {
   "default_parameters": {},
   "duration": 6.791975,
   "end_time": "2021-09-26T11:00:11.400856",
   "environment_variables": {},
   "exception": null,
   "input_path": "eBay_Overview.ipynb",
   "output_path": "eBay_Overview.ipynb",
   "parameters": {},
   "start_time": "2021-09-26T11:00:04.608881",
   "version": "2.3.3"
  }
 },
 "nbformat": 4,
 "nbformat_minor": 5
}