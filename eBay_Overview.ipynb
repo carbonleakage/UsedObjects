{
 "cells": [
  {
   "cell_type": "code",
   "execution_count": 1,
   "id": "reverse-picking",
   "metadata": {
    "execution": {
     "iopub.execute_input": "2021-10-21T07:30:06.939096Z",
     "iopub.status.busy": "2021-10-21T07:30:06.937120Z",
     "iopub.status.idle": "2021-10-21T07:30:07.745461Z",
     "shell.execute_reply": "2021-10-21T07:30:07.746673Z"
    },
    "papermill": {
     "duration": 0.862296,
     "end_time": "2021-10-21T07:30:07.747304",
     "exception": false,
     "start_time": "2021-10-21T07:30:06.885008",
     "status": "completed"
    },
    "tags": []
   },
   "outputs": [],
   "source": [
    "import pandas as pd\n",
    "import sqlite3"
   ]
  },
  {
   "cell_type": "code",
   "execution_count": 2,
   "id": "innovative-syndrome",
   "metadata": {
    "execution": {
     "iopub.execute_input": "2021-10-21T07:30:07.801552Z",
     "iopub.status.busy": "2021-10-21T07:30:07.799136Z",
     "iopub.status.idle": "2021-10-21T07:30:08.392880Z",
     "shell.execute_reply": "2021-10-21T07:30:08.394065Z"
    },
    "papermill": {
     "duration": 0.62387,
     "end_time": "2021-10-21T07:30:08.394477",
     "exception": false,
     "start_time": "2021-10-21T07:30:07.770607",
     "status": "completed"
    },
    "tags": []
   },
   "outputs": [],
   "source": [
    "timestamps = pd.read_sql(\"select distinct record_time from EBAY_TOP_BERLIN order by record_time desc limit 2\", sqlite3.connect(\"UsedObjects.db\"))"
   ]
  },
  {
   "cell_type": "code",
   "execution_count": 3,
   "id": "periodic-identification",
   "metadata": {
    "execution": {
     "iopub.execute_input": "2021-10-21T07:30:08.470373Z",
     "iopub.status.busy": "2021-10-21T07:30:08.468242Z",
     "iopub.status.idle": "2021-10-21T07:30:08.488093Z",
     "shell.execute_reply": "2021-10-21T07:30:08.489528Z"
    },
    "papermill": {
     "duration": 0.068089,
     "end_time": "2021-10-21T07:30:08.489937",
     "exception": false,
     "start_time": "2021-10-21T07:30:08.421848",
     "status": "completed"
    },
    "tags": []
   },
   "outputs": [
    {
     "data": {
      "text/html": [
       "<div>\n",
       "<style scoped>\n",
       "    .dataframe tbody tr th:only-of-type {\n",
       "        vertical-align: middle;\n",
       "    }\n",
       "\n",
       "    .dataframe tbody tr th {\n",
       "        vertical-align: top;\n",
       "    }\n",
       "\n",
       "    .dataframe thead th {\n",
       "        text-align: right;\n",
       "    }\n",
       "</style>\n",
       "<table border=\"1\" class=\"dataframe\">\n",
       "  <thead>\n",
       "    <tr style=\"text-align: right;\">\n",
       "      <th></th>\n",
       "      <th>RECORD_TIME</th>\n",
       "    </tr>\n",
       "  </thead>\n",
       "  <tbody>\n",
       "    <tr>\n",
       "      <th>0</th>\n",
       "      <td>2021-10-21 09:30</td>\n",
       "    </tr>\n",
       "    <tr>\n",
       "      <th>1</th>\n",
       "      <td>2021-10-21 09:00</td>\n",
       "    </tr>\n",
       "  </tbody>\n",
       "</table>\n",
       "</div>"
      ],
      "text/plain": [
       "        RECORD_TIME\n",
       "0  2021-10-21 09:30\n",
       "1  2021-10-21 09:00"
      ]
     },
     "execution_count": 3,
     "metadata": {},
     "output_type": "execute_result"
    }
   ],
   "source": [
    "timestamps"
   ]
  },
  {
   "cell_type": "code",
   "execution_count": 4,
   "id": "alternate-victory",
   "metadata": {
    "execution": {
     "iopub.execute_input": "2021-10-21T07:30:08.543961Z",
     "iopub.status.busy": "2021-10-21T07:30:08.541951Z",
     "iopub.status.idle": "2021-10-21T07:30:09.411781Z",
     "shell.execute_reply": "2021-10-21T07:30:09.413239Z"
    },
    "papermill": {
     "duration": 0.901084,
     "end_time": "2021-10-21T07:30:09.413667",
     "exception": false,
     "start_time": "2021-10-21T07:30:08.512583",
     "status": "completed"
    },
    "tags": []
   },
   "outputs": [],
   "source": [
    "df = pd.read_sql(\"select * from EBAY_TOP_BERLIN where record_time in (select distinct record_time from EBAY_TOP_BERLIN order by record_time desc limit 2)\", sqlite3.connect(\"UsedObjects.db\"))"
   ]
  },
  {
   "cell_type": "code",
   "execution_count": 5,
   "id": "popular-active",
   "metadata": {
    "execution": {
     "iopub.execute_input": "2021-10-21T07:30:09.479120Z",
     "iopub.status.busy": "2021-10-21T07:30:09.472941Z",
     "iopub.status.idle": "2021-10-21T07:30:09.500874Z",
     "shell.execute_reply": "2021-10-21T07:30:09.502299Z"
    },
    "papermill": {
     "duration": 0.066829,
     "end_time": "2021-10-21T07:30:09.502736",
     "exception": false,
     "start_time": "2021-10-21T07:30:09.435907",
     "status": "completed"
    },
    "tags": []
   },
   "outputs": [],
   "source": [
    "df_pivot = df.pivot_table(index=\"PRODUCT\", columns = \"RECORD_TIME\", values = \"LISTING_COUNT\")"
   ]
  },
  {
   "cell_type": "code",
   "execution_count": 6,
   "id": "union-huntington",
   "metadata": {
    "execution": {
     "iopub.execute_input": "2021-10-21T07:30:09.561337Z",
     "iopub.status.busy": "2021-10-21T07:30:09.558823Z",
     "iopub.status.idle": "2021-10-21T07:30:09.564673Z",
     "shell.execute_reply": "2021-10-21T07:30:09.566087Z"
    },
    "papermill": {
     "duration": 0.043003,
     "end_time": "2021-10-21T07:30:09.566506",
     "exception": false,
     "start_time": "2021-10-21T07:30:09.523503",
     "status": "completed"
    },
    "tags": []
   },
   "outputs": [],
   "source": [
    "df_pivot.columns = [\"stamp_1\", \"stamp_2\"]\n",
    "df_pivot_diff = df_pivot.diff(axis=1)"
   ]
  },
  {
   "cell_type": "code",
   "execution_count": 7,
   "id": "fifth-motion",
   "metadata": {
    "execution": {
     "iopub.execute_input": "2021-10-21T07:30:09.621055Z",
     "iopub.status.busy": "2021-10-21T07:30:09.618753Z",
     "iopub.status.idle": "2021-10-21T07:30:11.091767Z",
     "shell.execute_reply": "2021-10-21T07:30:11.093190Z"
    },
    "papermill": {
     "duration": 1.506107,
     "end_time": "2021-10-21T07:30:11.093634",
     "exception": false,
     "start_time": "2021-10-21T07:30:09.587527",
     "status": "completed"
    },
    "tags": []
   },
   "outputs": [
    {
     "data": {
      "text/plain": [
       "<AxesSubplot:ylabel='PRODUCT'>"
      ]
     },
     "execution_count": 7,
     "metadata": {},
     "output_type": "execute_result"
    },
    {
     "data": {
      "image/png": "[encoded data removed]",
      "text/plain": [
       "<Figure size 432x288 with 1 Axes>"
      ]
     },
     "metadata": {
      "needs_background": "light"
     },
     "output_type": "display_data"
    }
   ],
   "source": [
    "df_pivot_diff.sort_values(\"stamp_2\", ascending = False)[\"stamp_2\"].head(10).plot.barh()"
   ]
  },
  {
   "cell_type": "code",
   "execution_count": null,
   "id": "extra-executive",
   "metadata": {
    "papermill": {
     "duration": 0.022462,
     "end_time": "2021-10-21T07:30:11.142347",
     "exception": false,
     "start_time": "2021-10-21T07:30:11.119885",
     "status": "completed"
    },
    "tags": []
   },
   "outputs": [],
   "source": []
  }
 ],
 "metadata": {
  "kernelspec": {
   "display_name": "Python 3",
   "language": "python",
   "name": "python3"
  },
  "language_info": {
   "codemirror_mode": {
    "name": "ipython",
    "version": 3
   },
   "file_extension": ".py",
   "mimetype": "text/x-python",
   "name": "python",
   "nbconvert_exporter": "python",
   "pygments_lexer": "ipython3",
   "version": "3.9.5"
  },
  "papermill": {
   "default_parameters": {},
   "duration": 7.817696,
   "end_time": "2021-10-21T07:30:12.297742",
   "environment_variables": {},
   "exception": null,
   "input_path": "eBay_Overview.ipynb",
   "output_path": "eBay_Overview.ipynb",
   "parameters": {},
   "start_time": "2021-10-21T07:30:04.480046",
   "version": "2.3.3"
  }
 },
 "nbformat": 4,
 "nbformat_minor": 5
}