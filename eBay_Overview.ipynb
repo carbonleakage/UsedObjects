{
 "cells": [
  {
   "cell_type": "code",
   "execution_count": 1,
   "id": "reverse-picking",
   "metadata": {
    "execution": {
     "iopub.execute_input": "2021-11-24T07:00:08.127980Z",
     "iopub.status.busy": "2021-11-24T07:00:08.125536Z",
     "iopub.status.idle": "2021-11-24T07:00:09.054646Z",
     "shell.execute_reply": "2021-11-24T07:00:09.056156Z"
    },
    "papermill": {
     "duration": 0.979163,
     "end_time": "2021-11-24T07:00:09.056956",
     "exception": false,
     "start_time": "2021-11-24T07:00:08.077793",
     "status": "completed"
    },
    "tags": []
   },
   "outputs": [],
   "source": [
    "import pandas as pd\n",
    "import sqlite3"
   ]
  },
  {
   "cell_type": "code",
   "execution_count": 2,
   "id": "innovative-syndrome",
   "metadata": {
    "execution": {
     "iopub.execute_input": "2021-11-24T07:00:09.118835Z",
     "iopub.status.busy": "2021-11-24T07:00:09.116763Z",
     "iopub.status.idle": "2021-11-24T07:00:10.025587Z",
     "shell.execute_reply": "2021-11-24T07:00:10.026952Z"
    },
    "papermill": {
     "duration": 0.942427,
     "end_time": "2021-11-24T07:00:10.027430",
     "exception": false,
     "start_time": "2021-11-24T07:00:09.085003",
     "status": "completed"
    },
    "tags": []
   },
   "outputs": [],
   "source": [
    "timestamps = pd.read_sql(\"select distinct record_time from EBAY_TOP_BERLIN order by record_time desc limit 2\", sqlite3.connect(\"UsedObjects.db\"))"
   ]
  },
  {
   "cell_type": "code",
   "execution_count": 3,
   "id": "periodic-identification",
   "metadata": {
    "execution": {
     "iopub.execute_input": "2021-11-24T07:00:10.097894Z",
     "iopub.status.busy": "2021-11-24T07:00:10.095537Z",
     "iopub.status.idle": "2021-11-24T07:00:10.119364Z",
     "shell.execute_reply": "2021-11-24T07:00:10.121008Z"
    },
    "papermill": {
     "duration": 0.073245,
     "end_time": "2021-11-24T07:00:10.121565",
     "exception": false,
     "start_time": "2021-11-24T07:00:10.048320",
     "status": "completed"
    },
    "tags": []
   },
   "outputs": [
    {
     "data": {
      "text/html": [
       "<div>\n",
       "<style scoped>\n",
       "    .dataframe tbody tr th:only-of-type {\n",
       "        vertical-align: middle;\n",
       "    }\n",
       "\n",
       "    .dataframe tbody tr th {\n",
       "        vertical-align: top;\n",
       "    }\n",
       "\n",
       "    .dataframe thead th {\n",
       "        text-align: right;\n",
       "    }\n",
       "</style>\n",
       "<table border=\"1\" class=\"dataframe\">\n",
       "  <thead>\n",
       "    <tr style=\"text-align: right;\">\n",
       "      <th></th>\n",
       "      <th>RECORD_TIME</th>\n",
       "    </tr>\n",
       "  </thead>\n",
       "  <tbody>\n",
       "    <tr>\n",
       "      <th>0</th>\n",
       "      <td>2021-11-24 08:00</td>\n",
       "    </tr>\n",
       "    <tr>\n",
       "      <th>1</th>\n",
       "      <td>2021-11-24 07:30</td>\n",
       "    </tr>\n",
       "  </tbody>\n",
       "</table>\n",
       "</div>"
      ],
      "text/plain": [
       "        RECORD_TIME\n",
       "0  2021-11-24 08:00\n",
       "1  2021-11-24 07:30"
      ]
     },
     "execution_count": 3,
     "metadata": {},
     "output_type": "execute_result"
    }
   ],
   "source": [
    "timestamps"
   ]
  },
  {
   "cell_type": "code",
   "execution_count": 4,
   "id": "alternate-victory",
   "metadata": {
    "execution": {
     "iopub.execute_input": "2021-11-24T07:00:10.183330Z",
     "iopub.status.busy": "2021-11-24T07:00:10.181138Z",
     "iopub.status.idle": "2021-11-24T07:00:11.493595Z",
     "shell.execute_reply": "2021-11-24T07:00:11.495193Z"
    },
    "papermill": {
     "duration": 1.348992,
     "end_time": "2021-11-24T07:00:11.495685",
     "exception": false,
     "start_time": "2021-11-24T07:00:10.146693",
     "status": "completed"
    },
    "tags": []
   },
   "outputs": [],
   "source": [
    "df = pd.read_sql(\"select * from EBAY_TOP_BERLIN where record_time in (select distinct record_time from EBAY_TOP_BERLIN order by record_time desc limit 2)\", sqlite3.connect(\"UsedObjects.db\"))"
   ]
  },
  {
   "cell_type": "code",
   "execution_count": 5,
   "id": "popular-active",
   "metadata": {
    "execution": {
     "iopub.execute_input": "2021-11-24T07:00:11.569738Z",
     "iopub.status.busy": "2021-11-24T07:00:11.557514Z",
     "iopub.status.idle": "2021-11-24T07:00:11.589268Z",
     "shell.execute_reply": "2021-11-24T07:00:11.590550Z"
    },
    "papermill": {
     "duration": 0.074789,
     "end_time": "2021-11-24T07:00:11.591000",
     "exception": false,
     "start_time": "2021-11-24T07:00:11.516211",
     "status": "completed"
    },
    "tags": []
   },
   "outputs": [],
   "source": [
    "df_pivot = df.pivot_table(index=\"PRODUCT\", columns = \"RECORD_TIME\", values = \"LISTING_COUNT\")"
   ]
  },
  {
   "cell_type": "code",
   "execution_count": 6,
   "id": "union-huntington",
   "metadata": {
    "execution": {
     "iopub.execute_input": "2021-11-24T07:00:11.652898Z",
     "iopub.status.busy": "2021-11-24T07:00:11.650736Z",
     "iopub.status.idle": "2021-11-24T07:00:11.656546Z",
     "shell.execute_reply": "2021-11-24T07:00:11.658144Z"
    },
    "papermill": {
     "duration": 0.046817,
     "end_time": "2021-11-24T07:00:11.658648",
     "exception": false,
     "start_time": "2021-11-24T07:00:11.611831",
     "status": "completed"
    },
    "tags": []
   },
   "outputs": [],
   "source": [
    "df_pivot.columns = [\"stamp_1\", \"stamp_2\"]\n",
    "df_pivot_diff = df_pivot.diff(axis=1)"
   ]
  },
  {
   "cell_type": "code",
   "execution_count": 7,
   "id": "fifth-motion",
   "metadata": {
    "execution": {
     "iopub.execute_input": "2021-11-24T07:00:11.718886Z",
     "iopub.status.busy": "2021-11-24T07:00:11.716261Z",
     "iopub.status.idle": "2021-11-24T07:00:13.666919Z",
     "shell.execute_reply": "2021-11-24T07:00:13.668554Z"
    },
    "papermill": {
     "duration": 1.988768,
     "end_time": "2021-11-24T07:00:13.669129",
     "exception": false,
     "start_time": "2021-11-24T07:00:11.680361",
     "status": "completed"
    },
    "tags": []
   },
   "outputs": [
    {
     "data": {
      "text/plain": [
       "<AxesSubplot:ylabel='PRODUCT'>"
      ]
     },
     "execution_count": 7,
     "metadata": {},
     "output_type": "execute_result"
    },
    {
     "data": {
      "image/png": "[encoded data removed]",
      "text/plain": [
       "<Figure size 432x288 with 1 Axes>"
      ]
     },
     "metadata": {
      "needs_background": "light"
     },
     "output_type": "display_data"
    }
   ],
   "source": [
    "df_pivot_diff.sort_values(\"stamp_2\", ascending = False)[\"stamp_2\"].head(10).plot.barh()"
   ]
  },
  {
   "cell_type": "code",
   "execution_count": null,
   "id": "extra-executive",
   "metadata": {
    "papermill": {
     "duration": 0.036947,
     "end_time": "2021-11-24T07:00:13.733787",
     "exception": false,
     "start_time": "2021-11-24T07:00:13.696840",
     "status": "completed"
    },
    "tags": []
   },
   "outputs": [],
   "source": []
  }
 ],
 "metadata": {
  "kernelspec": {
   "display_name": "Python 3",
   "language": "python",
   "name": "python3"
  },
  "language_info": {
   "codemirror_mode": {
    "name": "ipython",
    "version": 3
   },
   "file_extension": ".py",
   "mimetype": "text/x-python",
   "name": "python",
   "nbconvert_exporter": "python",
   "pygments_lexer": "ipython3",
   "version": "3.9.5"
  },
  "papermill": {
   "default_parameters": {},
   "duration": 9.920441,
   "end_time": "2021-11-24T07:00:15.281445",
   "environment_variables": {},
   "exception": null,
   "input_path": "eBay_Overview.ipynb",
   "output_path": "eBay_Overview.ipynb",
   "parameters": {},
   "start_time": "2021-11-24T07:00:05.361004",
   "version": "2.3.3"
  }
 },
 "nbformat": 4,
 "nbformat_minor": 5
}