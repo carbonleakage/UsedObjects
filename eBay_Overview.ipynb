{
 "cells": [
  {
   "cell_type": "code",
   "execution_count": 1,
   "id": "reverse-picking",
   "metadata": {
    "execution": {
     "iopub.execute_input": "2021-11-01T21:00:07.958680Z",
     "iopub.status.busy": "2021-11-01T21:00:07.942131Z",
     "iopub.status.idle": "2021-11-01T21:00:08.896437Z",
     "shell.execute_reply": "2021-11-01T21:00:08.898797Z"
    },
    "papermill": {
     "duration": 0.989061,
     "end_time": "2021-11-01T21:00:08.899605",
     "exception": false,
     "start_time": "2021-11-01T21:00:07.910544",
     "status": "completed"
    },
    "tags": []
   },
   "outputs": [],
   "source": [
    "import pandas as pd\n",
    "import sqlite3"
   ]
  },
  {
   "cell_type": "code",
   "execution_count": 2,
   "id": "innovative-syndrome",
   "metadata": {
    "execution": {
     "iopub.execute_input": "2021-11-01T21:00:08.964510Z",
     "iopub.status.busy": "2021-11-01T21:00:08.962163Z",
     "iopub.status.idle": "2021-11-01T21:00:09.669931Z",
     "shell.execute_reply": "2021-11-01T21:00:09.671580Z"
    },
    "papermill": {
     "duration": 0.741442,
     "end_time": "2021-11-01T21:00:09.672220",
     "exception": false,
     "start_time": "2021-11-01T21:00:08.930778",
     "status": "completed"
    },
    "tags": []
   },
   "outputs": [],
   "source": [
    "timestamps = pd.read_sql(\"select distinct record_time from EBAY_TOP_BERLIN order by record_time desc limit 2\", sqlite3.connect(\"UsedObjects.db\"))"
   ]
  },
  {
   "cell_type": "code",
   "execution_count": 3,
   "id": "periodic-identification",
   "metadata": {
    "execution": {
     "iopub.execute_input": "2021-11-01T21:00:09.746146Z",
     "iopub.status.busy": "2021-11-01T21:00:09.742975Z",
     "iopub.status.idle": "2021-11-01T21:00:09.766026Z",
     "shell.execute_reply": "2021-11-01T21:00:09.767581Z"
    },
    "papermill": {
     "duration": 0.073363,
     "end_time": "2021-11-01T21:00:09.768087",
     "exception": false,
     "start_time": "2021-11-01T21:00:09.694724",
     "status": "completed"
    },
    "tags": []
   },
   "outputs": [
    {
     "data": {
      "text/html": [
       "<div>\n",
       "<style scoped>\n",
       "    .dataframe tbody tr th:only-of-type {\n",
       "        vertical-align: middle;\n",
       "    }\n",
       "\n",
       "    .dataframe tbody tr th {\n",
       "        vertical-align: top;\n",
       "    }\n",
       "\n",
       "    .dataframe thead th {\n",
       "        text-align: right;\n",
       "    }\n",
       "</style>\n",
       "<table border=\"1\" class=\"dataframe\">\n",
       "  <thead>\n",
       "    <tr style=\"text-align: right;\">\n",
       "      <th></th>\n",
       "      <th>RECORD_TIME</th>\n",
       "    </tr>\n",
       "  </thead>\n",
       "  <tbody>\n",
       "    <tr>\n",
       "      <th>0</th>\n",
       "      <td>2021-11-01 22:00</td>\n",
       "    </tr>\n",
       "    <tr>\n",
       "      <th>1</th>\n",
       "      <td>2021-11-01 21:30</td>\n",
       "    </tr>\n",
       "  </tbody>\n",
       "</table>\n",
       "</div>"
      ],
      "text/plain": [
       "        RECORD_TIME\n",
       "0  2021-11-01 22:00\n",
       "1  2021-11-01 21:30"
      ]
     },
     "execution_count": 3,
     "metadata": {},
     "output_type": "execute_result"
    }
   ],
   "source": [
    "timestamps"
   ]
  },
  {
   "cell_type": "code",
   "execution_count": 4,
   "id": "alternate-victory",
   "metadata": {
    "execution": {
     "iopub.execute_input": "2021-11-01T21:00:09.824427Z",
     "iopub.status.busy": "2021-11-01T21:00:09.822295Z",
     "iopub.status.idle": "2021-11-01T21:00:10.827477Z",
     "shell.execute_reply": "2021-11-01T21:00:10.828961Z"
    },
    "papermill": {
     "duration": 1.039884,
     "end_time": "2021-11-01T21:00:10.829419",
     "exception": false,
     "start_time": "2021-11-01T21:00:09.789535",
     "status": "completed"
    },
    "tags": []
   },
   "outputs": [],
   "source": [
    "df = pd.read_sql(\"select * from EBAY_TOP_BERLIN where record_time in (select distinct record_time from EBAY_TOP_BERLIN order by record_time desc limit 2)\", sqlite3.connect(\"UsedObjects.db\"))"
   ]
  },
  {
   "cell_type": "code",
   "execution_count": 5,
   "id": "popular-active",
   "metadata": {
    "execution": {
     "iopub.execute_input": "2021-11-01T21:00:10.902365Z",
     "iopub.status.busy": "2021-11-01T21:00:10.888896Z",
     "iopub.status.idle": "2021-11-01T21:00:10.922013Z",
     "shell.execute_reply": "2021-11-01T21:00:10.920135Z"
    },
    "papermill": {
     "duration": 0.072791,
     "end_time": "2021-11-01T21:00:10.922440",
     "exception": false,
     "start_time": "2021-11-01T21:00:10.849649",
     "status": "completed"
    },
    "tags": []
   },
   "outputs": [],
   "source": [
    "df_pivot = df.pivot_table(index=\"PRODUCT\", columns = \"RECORD_TIME\", values = \"LISTING_COUNT\")"
   ]
  },
  {
   "cell_type": "code",
   "execution_count": 6,
   "id": "union-huntington",
   "metadata": {
    "execution": {
     "iopub.execute_input": "2021-11-01T21:00:10.997340Z",
     "iopub.status.busy": "2021-11-01T21:00:10.993583Z",
     "iopub.status.idle": "2021-11-01T21:00:11.004047Z",
     "shell.execute_reply": "2021-11-01T21:00:11.006518Z"
    },
    "papermill": {
     "duration": 0.064002,
     "end_time": "2021-11-01T21:00:11.007291",
     "exception": false,
     "start_time": "2021-11-01T21:00:10.943289",
     "status": "completed"
    },
    "tags": []
   },
   "outputs": [],
   "source": [
    "df_pivot.columns = [\"stamp_1\", \"stamp_2\"]\n",
    "df_pivot_diff = df_pivot.diff(axis=1)"
   ]
  },
  {
   "cell_type": "code",
   "execution_count": 7,
   "id": "fifth-motion",
   "metadata": {
    "execution": {
     "iopub.execute_input": "2021-11-01T21:00:11.075719Z",
     "iopub.status.busy": "2021-11-01T21:00:11.073721Z",
     "iopub.status.idle": "2021-11-01T21:00:12.934788Z",
     "shell.execute_reply": "2021-11-01T21:00:12.936111Z"
    },
    "papermill": {
     "duration": 1.898667,
     "end_time": "2021-11-01T21:00:12.936584",
     "exception": false,
     "start_time": "2021-11-01T21:00:11.037917",
     "status": "completed"
    },
    "tags": []
   },
   "outputs": [
    {
     "data": {
      "text/plain": [
       "<AxesSubplot:ylabel='PRODUCT'>"
      ]
     },
     "execution_count": 7,
     "metadata": {},
     "output_type": "execute_result"
    },
    {
     "data": {
      "image/png": "[encoded data removed]",
      "text/plain": [
       "<Figure size 432x288 with 1 Axes>"
      ]
     },
     "metadata": {
      "needs_background": "light"
     },
     "output_type": "display_data"
    }
   ],
   "source": [
    "df_pivot_diff.sort_values(\"stamp_2\", ascending = False)[\"stamp_2\"].head(10).plot.barh()"
   ]
  },
  {
   "cell_type": "code",
   "execution_count": null,
   "id": "extra-executive",
   "metadata": {
    "papermill": {
     "duration": 0.023278,
     "end_time": "2021-11-01T21:00:12.983339",
     "exception": false,
     "start_time": "2021-11-01T21:00:12.960061",
     "status": "completed"
    },
    "tags": []
   },
   "outputs": [],
   "source": []
  }
 ],
 "metadata": {
  "kernelspec": {
   "display_name": "Python 3",
   "language": "python",
   "name": "python3"
  },
  "language_info": {
   "codemirror_mode": {
    "name": "ipython",
    "version": 3
   },
   "file_extension": ".py",
   "mimetype": "text/x-python",
   "name": "python",
   "nbconvert_exporter": "python",
   "pygments_lexer": "ipython3",
   "version": "3.9.5"
  },
  "papermill": {
   "default_parameters": {},
   "duration": 8.634433,
   "end_time": "2021-11-01T21:00:13.845134",
   "environment_variables": {},
   "exception": null,
   "input_path": "eBay_Overview.ipynb",
   "output_path": "eBay_Overview.ipynb",
   "parameters": {},
   "start_time": "2021-11-01T21:00:05.210701",
   "version": "2.3.3"
  }
 },
 "nbformat": 4,
 "nbformat_minor": 5
}