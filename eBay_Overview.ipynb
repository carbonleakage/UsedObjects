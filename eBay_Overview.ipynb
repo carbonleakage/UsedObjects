{
 "cells": [
  {
   "cell_type": "code",
   "execution_count": 1,
   "id": "reverse-picking",
   "metadata": {
    "execution": {
     "iopub.execute_input": "2021-09-19T23:00:07.383347Z",
     "iopub.status.busy": "2021-09-19T23:00:07.381279Z",
     "iopub.status.idle": "2021-09-19T23:00:08.183910Z",
     "shell.execute_reply": "2021-09-19T23:00:08.185180Z"
    },
    "papermill": {
     "duration": 0.853585,
     "end_time": "2021-09-19T23:00:08.185792",
     "exception": false,
     "start_time": "2021-09-19T23:00:07.332207",
     "status": "completed"
    },
    "tags": []
   },
   "outputs": [],
   "source": [
    "import pandas as pd\n",
    "import sqlite3"
   ]
  },
  {
   "cell_type": "code",
   "execution_count": 2,
   "id": "innovative-syndrome",
   "metadata": {
    "execution": {
     "iopub.execute_input": "2021-09-19T23:00:08.237588Z",
     "iopub.status.busy": "2021-09-19T23:00:08.235717Z",
     "iopub.status.idle": "2021-09-19T23:00:08.562892Z",
     "shell.execute_reply": "2021-09-19T23:00:08.564306Z"
    },
    "papermill": {
     "duration": 0.357065,
     "end_time": "2021-09-19T23:00:08.564740",
     "exception": false,
     "start_time": "2021-09-19T23:00:08.207675",
     "status": "completed"
    },
    "tags": []
   },
   "outputs": [],
   "source": [
    "timestamps = pd.read_sql(\"select distinct record_time from EBAY_TOP_BERLIN order by record_time desc limit 2\", sqlite3.connect(\"UsedObjects.db\"))"
   ]
  },
  {
   "cell_type": "code",
   "execution_count": 3,
   "id": "periodic-identification",
   "metadata": {
    "execution": {
     "iopub.execute_input": "2021-09-19T23:00:08.632073Z",
     "iopub.status.busy": "2021-09-19T23:00:08.629997Z",
     "iopub.status.idle": "2021-09-19T23:00:08.651955Z",
     "shell.execute_reply": "2021-09-19T23:00:08.653234Z"
    },
    "papermill": {
     "duration": 0.06873,
     "end_time": "2021-09-19T23:00:08.653632",
     "exception": false,
     "start_time": "2021-09-19T23:00:08.584902",
     "status": "completed"
    },
    "tags": []
   },
   "outputs": [
    {
     "data": {
      "text/html": [
       "<div>\n",
       "<style scoped>\n",
       "    .dataframe tbody tr th:only-of-type {\n",
       "        vertical-align: middle;\n",
       "    }\n",
       "\n",
       "    .dataframe tbody tr th {\n",
       "        vertical-align: top;\n",
       "    }\n",
       "\n",
       "    .dataframe thead th {\n",
       "        text-align: right;\n",
       "    }\n",
       "</style>\n",
       "<table border=\"1\" class=\"dataframe\">\n",
       "  <thead>\n",
       "    <tr style=\"text-align: right;\">\n",
       "      <th></th>\n",
       "      <th>RECORD_TIME</th>\n",
       "    </tr>\n",
       "  </thead>\n",
       "  <tbody>\n",
       "    <tr>\n",
       "      <th>0</th>\n",
       "      <td>2021-09-20 01:00</td>\n",
       "    </tr>\n",
       "    <tr>\n",
       "      <th>1</th>\n",
       "      <td>2021-09-20 00:30</td>\n",
       "    </tr>\n",
       "  </tbody>\n",
       "</table>\n",
       "</div>"
      ],
      "text/plain": [
       "        RECORD_TIME\n",
       "0  2021-09-20 01:00\n",
       "1  2021-09-20 00:30"
      ]
     },
     "execution_count": 3,
     "metadata": {},
     "output_type": "execute_result"
    }
   ],
   "source": [
    "timestamps"
   ]
  },
  {
   "cell_type": "code",
   "execution_count": 4,
   "id": "alternate-victory",
   "metadata": {
    "execution": {
     "iopub.execute_input": "2021-09-19T23:00:08.705869Z",
     "iopub.status.busy": "2021-09-19T23:00:08.703571Z",
     "iopub.status.idle": "2021-09-19T23:00:09.185401Z",
     "shell.execute_reply": "2021-09-19T23:00:09.186706Z"
    },
    "papermill": {
     "duration": 0.512169,
     "end_time": "2021-09-19T23:00:09.187189",
     "exception": false,
     "start_time": "2021-09-19T23:00:08.675020",
     "status": "completed"
    },
    "tags": []
   },
   "outputs": [],
   "source": [
    "df = pd.read_sql(\"select * from EBAY_TOP_BERLIN where record_time in (select distinct record_time from EBAY_TOP_BERLIN order by record_time desc limit 2)\", sqlite3.connect(\"UsedObjects.db\"))"
   ]
  },
  {
   "cell_type": "code",
   "execution_count": 5,
   "id": "popular-active",
   "metadata": {
    "execution": {
     "iopub.execute_input": "2021-09-19T23:00:09.279995Z",
     "iopub.status.busy": "2021-09-19T23:00:09.268368Z",
     "iopub.status.idle": "2021-09-19T23:00:09.296054Z",
     "shell.execute_reply": "2021-09-19T23:00:09.297446Z"
    },
    "papermill": {
     "duration": 0.07433,
     "end_time": "2021-09-19T23:00:09.297885",
     "exception": false,
     "start_time": "2021-09-19T23:00:09.223555",
     "status": "completed"
    },
    "tags": []
   },
   "outputs": [],
   "source": [
    "df_pivot = df.pivot_table(index=\"PRODUCT\", columns = \"RECORD_TIME\", values = \"LISTING_COUNT\")"
   ]
  },
  {
   "cell_type": "code",
   "execution_count": 6,
   "id": "union-huntington",
   "metadata": {
    "execution": {
     "iopub.execute_input": "2021-09-19T23:00:09.355522Z",
     "iopub.status.busy": "2021-09-19T23:00:09.353385Z",
     "iopub.status.idle": "2021-09-19T23:00:09.358893Z",
     "shell.execute_reply": "2021-09-19T23:00:09.360223Z"
    },
    "papermill": {
     "duration": 0.041275,
     "end_time": "2021-09-19T23:00:09.360642",
     "exception": false,
     "start_time": "2021-09-19T23:00:09.319367",
     "status": "completed"
    },
    "tags": []
   },
   "outputs": [],
   "source": [
    "df_pivot.columns = [\"stamp_1\", \"stamp_2\"]\n",
    "df_pivot_diff = df_pivot.diff(axis=1)"
   ]
  },
  {
   "cell_type": "code",
   "execution_count": 7,
   "id": "fifth-motion",
   "metadata": {
    "execution": {
     "iopub.execute_input": "2021-09-19T23:00:09.415447Z",
     "iopub.status.busy": "2021-09-19T23:00:09.412780Z",
     "iopub.status.idle": "2021-09-19T23:00:10.913390Z",
     "shell.execute_reply": "2021-09-19T23:00:10.914673Z"
    },
    "papermill": {
     "duration": 1.533903,
     "end_time": "2021-09-19T23:00:10.915177",
     "exception": false,
     "start_time": "2021-09-19T23:00:09.381274",
     "status": "completed"
    },
    "tags": []
   },
   "outputs": [
    {
     "data": {
      "text/plain": [
       "<AxesSubplot:ylabel='PRODUCT'>"
      ]
     },
     "execution_count": 7,
     "metadata": {},
     "output_type": "execute_result"
    },
    {
     "data": {
      "image/png": "[encoded data removed]",
      "text/plain": [
       "<Figure size 432x288 with 1 Axes>"
      ]
     },
     "metadata": {
      "needs_background": "light"
     },
     "output_type": "display_data"
    }
   ],
   "source": [
    "df_pivot_diff.sort_values(\"stamp_2\", ascending = False)[\"stamp_2\"].head(10).plot.barh()"
   ]
  },
  {
   "cell_type": "code",
   "execution_count": null,
   "id": "extra-executive",
   "metadata": {
    "papermill": {
     "duration": 0.022538,
     "end_time": "2021-09-19T23:00:10.962907",
     "exception": false,
     "start_time": "2021-09-19T23:00:10.940369",
     "status": "completed"
    },
    "tags": []
   },
   "outputs": [],
   "source": []
  }
 ],
 "metadata": {
  "kernelspec": {
   "display_name": "Python 3",
   "language": "python",
   "name": "python3"
  },
  "language_info": {
   "codemirror_mode": {
    "name": "ipython",
    "version": 3
   },
   "file_extension": ".py",
   "mimetype": "text/x-python",
   "name": "python",
   "nbconvert_exporter": "python",
   "pygments_lexer": "ipython3",
   "version": "3.9.5"
  },
  "papermill": {
   "default_parameters": {},
   "duration": 6.675384,
   "end_time": "2021-09-19T23:00:11.604741",
   "environment_variables": {},
   "exception": null,
   "input_path": "eBay_Overview.ipynb",
   "output_path": "eBay_Overview.ipynb",
   "parameters": {},
   "start_time": "2021-09-19T23:00:04.929357",
   "version": "2.3.3"
  }
 },
 "nbformat": 4,
 "nbformat_minor": 5
}