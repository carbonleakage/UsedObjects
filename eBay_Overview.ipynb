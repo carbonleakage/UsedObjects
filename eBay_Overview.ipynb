{
 "cells": [
  {
   "cell_type": "code",
   "execution_count": 1,
   "id": "reverse-picking",
   "metadata": {
    "execution": {
     "iopub.execute_input": "2021-11-10T13:00:07.482569Z",
     "iopub.status.busy": "2021-11-10T13:00:07.480277Z",
     "iopub.status.idle": "2021-11-10T13:00:08.457117Z",
     "shell.execute_reply": "2021-11-10T13:00:08.458737Z"
    },
    "papermill": {
     "duration": 1.011807,
     "end_time": "2021-11-10T13:00:08.459539",
     "exception": false,
     "start_time": "2021-11-10T13:00:07.447732",
     "status": "completed"
    },
    "tags": []
   },
   "outputs": [],
   "source": [
    "import pandas as pd\n",
    "import sqlite3"
   ]
  },
  {
   "cell_type": "code",
   "execution_count": 2,
   "id": "innovative-syndrome",
   "metadata": {
    "execution": {
     "iopub.execute_input": "2021-11-10T13:00:08.521691Z",
     "iopub.status.busy": "2021-11-10T13:00:08.519354Z",
     "iopub.status.idle": "2021-11-10T13:00:09.302273Z",
     "shell.execute_reply": "2021-11-10T13:00:09.303761Z"
    },
    "papermill": {
     "duration": 0.816635,
     "end_time": "2021-11-10T13:00:09.304264",
     "exception": false,
     "start_time": "2021-11-10T13:00:08.487629",
     "status": "completed"
    },
    "tags": []
   },
   "outputs": [],
   "source": [
    "timestamps = pd.read_sql(\"select distinct record_time from EBAY_TOP_BERLIN order by record_time desc limit 2\", sqlite3.connect(\"UsedObjects.db\"))"
   ]
  },
  {
   "cell_type": "code",
   "execution_count": 3,
   "id": "periodic-identification",
   "metadata": {
    "execution": {
     "iopub.execute_input": "2021-11-10T13:00:09.377215Z",
     "iopub.status.busy": "2021-11-10T13:00:09.374487Z",
     "iopub.status.idle": "2021-11-10T13:00:09.399918Z",
     "shell.execute_reply": "2021-11-10T13:00:09.401664Z"
    },
    "papermill": {
     "duration": 0.076796,
     "end_time": "2021-11-10T13:00:09.402175",
     "exception": false,
     "start_time": "2021-11-10T13:00:09.325379",
     "status": "completed"
    },
    "tags": []
   },
   "outputs": [
    {
     "data": {
      "text/html": [
       "<div>\n",
       "<style scoped>\n",
       "    .dataframe tbody tr th:only-of-type {\n",
       "        vertical-align: middle;\n",
       "    }\n",
       "\n",
       "    .dataframe tbody tr th {\n",
       "        vertical-align: top;\n",
       "    }\n",
       "\n",
       "    .dataframe thead th {\n",
       "        text-align: right;\n",
       "    }\n",
       "</style>\n",
       "<table border=\"1\" class=\"dataframe\">\n",
       "  <thead>\n",
       "    <tr style=\"text-align: right;\">\n",
       "      <th></th>\n",
       "      <th>RECORD_TIME</th>\n",
       "    </tr>\n",
       "  </thead>\n",
       "  <tbody>\n",
       "    <tr>\n",
       "      <th>0</th>\n",
       "      <td>2021-11-10 14:00</td>\n",
       "    </tr>\n",
       "    <tr>\n",
       "      <th>1</th>\n",
       "      <td>2021-11-10 13:30</td>\n",
       "    </tr>\n",
       "  </tbody>\n",
       "</table>\n",
       "</div>"
      ],
      "text/plain": [
       "        RECORD_TIME\n",
       "0  2021-11-10 14:00\n",
       "1  2021-11-10 13:30"
      ]
     },
     "execution_count": 3,
     "metadata": {},
     "output_type": "execute_result"
    }
   ],
   "source": [
    "timestamps"
   ]
  },
  {
   "cell_type": "code",
   "execution_count": 4,
   "id": "alternate-victory",
   "metadata": {
    "execution": {
     "iopub.execute_input": "2021-11-10T13:00:09.459368Z",
     "iopub.status.busy": "2021-11-10T13:00:09.457231Z",
     "iopub.status.idle": "2021-11-10T13:00:10.582496Z",
     "shell.execute_reply": "2021-11-10T13:00:10.584621Z"
    },
    "papermill": {
     "duration": 1.161006,
     "end_time": "2021-11-10T13:00:10.585168",
     "exception": false,
     "start_time": "2021-11-10T13:00:09.424162",
     "status": "completed"
    },
    "tags": []
   },
   "outputs": [],
   "source": [
    "df = pd.read_sql(\"select * from EBAY_TOP_BERLIN where record_time in (select distinct record_time from EBAY_TOP_BERLIN order by record_time desc limit 2)\", sqlite3.connect(\"UsedObjects.db\"))"
   ]
  },
  {
   "cell_type": "code",
   "execution_count": 5,
   "id": "popular-active",
   "metadata": {
    "execution": {
     "iopub.execute_input": "2021-11-10T13:00:10.658182Z",
     "iopub.status.busy": "2021-11-10T13:00:10.649523Z",
     "iopub.status.idle": "2021-11-10T13:00:10.681199Z",
     "shell.execute_reply": "2021-11-10T13:00:10.682586Z"
    },
    "papermill": {
     "duration": 0.07457,
     "end_time": "2021-11-10T13:00:10.683080",
     "exception": false,
     "start_time": "2021-11-10T13:00:10.608510",
     "status": "completed"
    },
    "tags": []
   },
   "outputs": [],
   "source": [
    "df_pivot = df.pivot_table(index=\"PRODUCT\", columns = \"RECORD_TIME\", values = \"LISTING_COUNT\")"
   ]
  },
  {
   "cell_type": "code",
   "execution_count": 6,
   "id": "union-huntington",
   "metadata": {
    "execution": {
     "iopub.execute_input": "2021-11-10T13:00:10.743121Z",
     "iopub.status.busy": "2021-11-10T13:00:10.740840Z",
     "iopub.status.idle": "2021-11-10T13:00:10.748317Z",
     "shell.execute_reply": "2021-11-10T13:00:10.746645Z"
    },
    "papermill": {
     "duration": 0.045383,
     "end_time": "2021-11-10T13:00:10.748836",
     "exception": false,
     "start_time": "2021-11-10T13:00:10.703453",
     "status": "completed"
    },
    "tags": []
   },
   "outputs": [],
   "source": [
    "df_pivot.columns = [\"stamp_1\", \"stamp_2\"]\n",
    "df_pivot_diff = df_pivot.diff(axis=1)"
   ]
  },
  {
   "cell_type": "code",
   "execution_count": 7,
   "id": "fifth-motion",
   "metadata": {
    "execution": {
     "iopub.execute_input": "2021-11-10T13:00:10.834016Z",
     "iopub.status.busy": "2021-11-10T13:00:10.829847Z",
     "iopub.status.idle": "2021-11-10T13:00:12.631597Z",
     "shell.execute_reply": "2021-11-10T13:00:12.634474Z"
    },
    "papermill": {
     "duration": 1.86002,
     "end_time": "2021-11-10T13:00:12.635371",
     "exception": false,
     "start_time": "2021-11-10T13:00:10.775351",
     "status": "completed"
    },
    "tags": []
   },
   "outputs": [
    {
     "data": {
      "text/plain": [
       "<AxesSubplot:ylabel='PRODUCT'>"
      ]
     },
     "execution_count": 7,
     "metadata": {},
     "output_type": "execute_result"
    },
    {
     "data": {
      "image/png": "[encoded data removed]",
      "text/plain": [
       "<Figure size 432x288 with 1 Axes>"
      ]
     },
     "metadata": {
      "needs_background": "light"
     },
     "output_type": "display_data"
    }
   ],
   "source": [
    "df_pivot_diff.sort_values(\"stamp_2\", ascending = False)[\"stamp_2\"].head(10).plot.barh()"
   ]
  },
  {
   "cell_type": "code",
   "execution_count": null,
   "id": "extra-executive",
   "metadata": {
    "papermill": {
     "duration": 0.038255,
     "end_time": "2021-11-10T13:00:12.715609",
     "exception": false,
     "start_time": "2021-11-10T13:00:12.677354",
     "status": "completed"
    },
    "tags": []
   },
   "outputs": [],
   "source": []
  }
 ],
 "metadata": {
  "kernelspec": {
   "display_name": "Python 3",
   "language": "python",
   "name": "python3"
  },
  "language_info": {
   "codemirror_mode": {
    "name": "ipython",
    "version": 3
   },
   "file_extension": ".py",
   "mimetype": "text/x-python",
   "name": "python",
   "nbconvert_exporter": "python",
   "pygments_lexer": "ipython3",
   "version": "3.9.5"
  },
  "papermill": {
   "default_parameters": {},
   "duration": 8.870594,
   "end_time": "2021-11-10T13:00:13.583646",
   "environment_variables": {},
   "exception": null,
   "input_path": "eBay_Overview.ipynb",
   "output_path": "eBay_Overview.ipynb",
   "parameters": {},
   "start_time": "2021-11-10T13:00:04.713052",
   "version": "2.3.3"
  }
 },
 "nbformat": 4,
 "nbformat_minor": 5
}