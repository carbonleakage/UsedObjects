{
 "cells": [
  {
   "cell_type": "code",
   "execution_count": 1,
   "id": "reverse-picking",
   "metadata": {
    "execution": {
     "iopub.execute_input": "2021-11-24T09:30:07.456272Z",
     "iopub.status.busy": "2021-11-24T09:30:07.454089Z",
     "iopub.status.idle": "2021-11-24T09:30:08.417713Z",
     "shell.execute_reply": "2021-11-24T09:30:08.415261Z"
    },
    "papermill": {
     "duration": 1.009257,
     "end_time": "2021-11-24T09:30:08.418208",
     "exception": false,
     "start_time": "2021-11-24T09:30:07.408951",
     "status": "completed"
    },
    "tags": []
   },
   "outputs": [],
   "source": [
    "import pandas as pd\n",
    "import sqlite3"
   ]
  },
  {
   "cell_type": "code",
   "execution_count": 2,
   "id": "innovative-syndrome",
   "metadata": {
    "execution": {
     "iopub.execute_input": "2021-11-24T09:30:08.481022Z",
     "iopub.status.busy": "2021-11-24T09:30:08.478709Z",
     "iopub.status.idle": "2021-11-24T09:30:09.400096Z",
     "shell.execute_reply": "2021-11-24T09:30:09.401704Z"
    },
    "papermill": {
     "duration": 0.956031,
     "end_time": "2021-11-24T09:30:09.402217",
     "exception": false,
     "start_time": "2021-11-24T09:30:08.446186",
     "status": "completed"
    },
    "tags": []
   },
   "outputs": [],
   "source": [
    "timestamps = pd.read_sql(\"select distinct record_time from EBAY_TOP_BERLIN order by record_time desc limit 2\", sqlite3.connect(\"UsedObjects.db\"))"
   ]
  },
  {
   "cell_type": "code",
   "execution_count": 3,
   "id": "periodic-identification",
   "metadata": {
    "execution": {
     "iopub.execute_input": "2021-11-24T09:30:09.480623Z",
     "iopub.status.busy": "2021-11-24T09:30:09.474762Z",
     "iopub.status.idle": "2021-11-24T09:30:09.497782Z",
     "shell.execute_reply": "2021-11-24T09:30:09.499794Z"
    },
    "papermill": {
     "duration": 0.076717,
     "end_time": "2021-11-24T09:30:09.500309",
     "exception": false,
     "start_time": "2021-11-24T09:30:09.423592",
     "status": "completed"
    },
    "tags": []
   },
   "outputs": [
    {
     "data": {
      "text/html": [
       "<div>\n",
       "<style scoped>\n",
       "    .dataframe tbody tr th:only-of-type {\n",
       "        vertical-align: middle;\n",
       "    }\n",
       "\n",
       "    .dataframe tbody tr th {\n",
       "        vertical-align: top;\n",
       "    }\n",
       "\n",
       "    .dataframe thead th {\n",
       "        text-align: right;\n",
       "    }\n",
       "</style>\n",
       "<table border=\"1\" class=\"dataframe\">\n",
       "  <thead>\n",
       "    <tr style=\"text-align: right;\">\n",
       "      <th></th>\n",
       "      <th>RECORD_TIME</th>\n",
       "    </tr>\n",
       "  </thead>\n",
       "  <tbody>\n",
       "    <tr>\n",
       "      <th>0</th>\n",
       "      <td>2021-11-24 10:30</td>\n",
       "    </tr>\n",
       "    <tr>\n",
       "      <th>1</th>\n",
       "      <td>2021-11-24 10:00</td>\n",
       "    </tr>\n",
       "  </tbody>\n",
       "</table>\n",
       "</div>"
      ],
      "text/plain": [
       "        RECORD_TIME\n",
       "0  2021-11-24 10:30\n",
       "1  2021-11-24 10:00"
      ]
     },
     "execution_count": 3,
     "metadata": {},
     "output_type": "execute_result"
    }
   ],
   "source": [
    "timestamps"
   ]
  },
  {
   "cell_type": "code",
   "execution_count": 4,
   "id": "alternate-victory",
   "metadata": {
    "execution": {
     "iopub.execute_input": "2021-11-24T09:30:09.556123Z",
     "iopub.status.busy": "2021-11-24T09:30:09.553973Z",
     "iopub.status.idle": "2021-11-24T09:30:10.852027Z",
     "shell.execute_reply": "2021-11-24T09:30:10.854798Z"
    },
    "papermill": {
     "duration": 1.333353,
     "end_time": "2021-11-24T09:30:10.855583",
     "exception": false,
     "start_time": "2021-11-24T09:30:09.522230",
     "status": "completed"
    },
    "tags": []
   },
   "outputs": [],
   "source": [
    "df = pd.read_sql(\"select * from EBAY_TOP_BERLIN where record_time in (select distinct record_time from EBAY_TOP_BERLIN order by record_time desc limit 2)\", sqlite3.connect(\"UsedObjects.db\"))"
   ]
  },
  {
   "cell_type": "code",
   "execution_count": 5,
   "id": "popular-active",
   "metadata": {
    "execution": {
     "iopub.execute_input": "2021-11-24T09:30:10.947482Z",
     "iopub.status.busy": "2021-11-24T09:30:10.932140Z",
     "iopub.status.idle": "2021-11-24T09:30:10.966245Z",
     "shell.execute_reply": "2021-11-24T09:30:10.967658Z"
    },
    "papermill": {
     "duration": 0.079968,
     "end_time": "2021-11-24T09:30:10.968127",
     "exception": false,
     "start_time": "2021-11-24T09:30:10.888159",
     "status": "completed"
    },
    "tags": []
   },
   "outputs": [],
   "source": [
    "df_pivot = df.pivot_table(index=\"PRODUCT\", columns = \"RECORD_TIME\", values = \"LISTING_COUNT\")"
   ]
  },
  {
   "cell_type": "code",
   "execution_count": 6,
   "id": "union-huntington",
   "metadata": {
    "execution": {
     "iopub.execute_input": "2021-11-24T09:30:11.029668Z",
     "iopub.status.busy": "2021-11-24T09:30:11.027313Z",
     "iopub.status.idle": "2021-11-24T09:30:11.034285Z",
     "shell.execute_reply": "2021-11-24T09:30:11.032336Z"
    },
    "papermill": {
     "duration": 0.044602,
     "end_time": "2021-11-24T09:30:11.034673",
     "exception": false,
     "start_time": "2021-11-24T09:30:10.990071",
     "status": "completed"
    },
    "tags": []
   },
   "outputs": [],
   "source": [
    "df_pivot.columns = [\"stamp_1\", \"stamp_2\"]\n",
    "df_pivot_diff = df_pivot.diff(axis=1)"
   ]
  },
  {
   "cell_type": "code",
   "execution_count": 7,
   "id": "fifth-motion",
   "metadata": {
    "execution": {
     "iopub.execute_input": "2021-11-24T09:30:11.092312Z",
     "iopub.status.busy": "2021-11-24T09:30:11.089924Z",
     "iopub.status.idle": "2021-11-24T09:30:13.038802Z",
     "shell.execute_reply": "2021-11-24T09:30:13.040270Z"
    },
    "papermill": {
     "duration": 1.985822,
     "end_time": "2021-11-24T09:30:13.040868",
     "exception": false,
     "start_time": "2021-11-24T09:30:11.055046",
     "status": "completed"
    },
    "tags": []
   },
   "outputs": [
    {
     "data": {
      "text/plain": [
       "<AxesSubplot:ylabel='PRODUCT'>"
      ]
     },
     "execution_count": 7,
     "metadata": {},
     "output_type": "execute_result"
    },
    {
     "data": {
      "image/png": "[encoded data removed]",
      "text/plain": [
       "<Figure size 432x288 with 1 Axes>"
      ]
     },
     "metadata": {
      "needs_background": "light"
     },
     "output_type": "display_data"
    }
   ],
   "source": [
    "df_pivot_diff.sort_values(\"stamp_2\", ascending = False)[\"stamp_2\"].head(10).plot.barh()"
   ]
  },
  {
   "cell_type": "code",
   "execution_count": null,
   "id": "extra-executive",
   "metadata": {
    "papermill": {
     "duration": 0.023558,
     "end_time": "2021-11-24T09:30:13.089030",
     "exception": false,
     "start_time": "2021-11-24T09:30:13.065472",
     "status": "completed"
    },
    "tags": []
   },
   "outputs": [],
   "source": []
  }
 ],
 "metadata": {
  "kernelspec": {
   "display_name": "Python 3",
   "language": "python",
   "name": "python3"
  },
  "language_info": {
   "codemirror_mode": {
    "name": "ipython",
    "version": 3
   },
   "file_extension": ".py",
   "mimetype": "text/x-python",
   "name": "python",
   "nbconvert_exporter": "python",
   "pygments_lexer": "ipython3",
   "version": "3.9.5"
  },
  "papermill": {
   "default_parameters": {},
   "duration": 9.96608,
   "end_time": "2021-11-24T09:30:14.619923",
   "environment_variables": {},
   "exception": null,
   "input_path": "eBay_Overview.ipynb",
   "output_path": "eBay_Overview.ipynb",
   "parameters": {},
   "start_time": "2021-11-24T09:30:04.653843",
   "version": "2.3.3"
  }
 },
 "nbformat": 4,
 "nbformat_minor": 5
}