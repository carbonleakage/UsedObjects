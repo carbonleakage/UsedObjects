{
 "cells": [
  {
   "cell_type": "code",
   "execution_count": 1,
   "id": "reverse-picking",
   "metadata": {
    "execution": {
     "iopub.execute_input": "2021-10-18T11:00:07.018233Z",
     "iopub.status.busy": "2021-10-18T11:00:07.016190Z",
     "iopub.status.idle": "2021-10-18T11:00:07.818845Z",
     "shell.execute_reply": "2021-10-18T11:00:07.820177Z"
    },
    "papermill": {
     "duration": 0.854126,
     "end_time": "2021-10-18T11:00:07.820895",
     "exception": false,
     "start_time": "2021-10-18T11:00:06.966769",
     "status": "completed"
    },
    "tags": []
   },
   "outputs": [],
   "source": [
    "import pandas as pd\n",
    "import sqlite3"
   ]
  },
  {
   "cell_type": "code",
   "execution_count": 2,
   "id": "innovative-syndrome",
   "metadata": {
    "execution": {
     "iopub.execute_input": "2021-10-18T11:00:07.872240Z",
     "iopub.status.busy": "2021-10-18T11:00:07.870178Z",
     "iopub.status.idle": "2021-10-18T11:00:08.443360Z",
     "shell.execute_reply": "2021-10-18T11:00:08.444573Z"
    },
    "papermill": {
     "duration": 0.603762,
     "end_time": "2021-10-18T11:00:08.445196",
     "exception": false,
     "start_time": "2021-10-18T11:00:07.841434",
     "status": "completed"
    },
    "tags": []
   },
   "outputs": [],
   "source": [
    "timestamps = pd.read_sql(\"select distinct record_time from EBAY_TOP_BERLIN order by record_time desc limit 2\", sqlite3.connect(\"UsedObjects.db\"))"
   ]
  },
  {
   "cell_type": "code",
   "execution_count": 3,
   "id": "periodic-identification",
   "metadata": {
    "execution": {
     "iopub.execute_input": "2021-10-18T11:00:08.518614Z",
     "iopub.status.busy": "2021-10-18T11:00:08.516426Z",
     "iopub.status.idle": "2021-10-18T11:00:08.538726Z",
     "shell.execute_reply": "2021-10-18T11:00:08.540274Z"
    },
    "papermill": {
     "duration": 0.070442,
     "end_time": "2021-10-18T11:00:08.540833",
     "exception": false,
     "start_time": "2021-10-18T11:00:08.470391",
     "status": "completed"
    },
    "tags": []
   },
   "outputs": [
    {
     "data": {
      "text/html": [
       "<div>\n",
       "<style scoped>\n",
       "    .dataframe tbody tr th:only-of-type {\n",
       "        vertical-align: middle;\n",
       "    }\n",
       "\n",
       "    .dataframe tbody tr th {\n",
       "        vertical-align: top;\n",
       "    }\n",
       "\n",
       "    .dataframe thead th {\n",
       "        text-align: right;\n",
       "    }\n",
       "</style>\n",
       "<table border=\"1\" class=\"dataframe\">\n",
       "  <thead>\n",
       "    <tr style=\"text-align: right;\">\n",
       "      <th></th>\n",
       "      <th>RECORD_TIME</th>\n",
       "    </tr>\n",
       "  </thead>\n",
       "  <tbody>\n",
       "    <tr>\n",
       "      <th>0</th>\n",
       "      <td>2021-10-18 13:00</td>\n",
       "    </tr>\n",
       "    <tr>\n",
       "      <th>1</th>\n",
       "      <td>2021-10-18 12:30</td>\n",
       "    </tr>\n",
       "  </tbody>\n",
       "</table>\n",
       "</div>"
      ],
      "text/plain": [
       "        RECORD_TIME\n",
       "0  2021-10-18 13:00\n",
       "1  2021-10-18 12:30"
      ]
     },
     "execution_count": 3,
     "metadata": {},
     "output_type": "execute_result"
    }
   ],
   "source": [
    "timestamps"
   ]
  },
  {
   "cell_type": "code",
   "execution_count": 4,
   "id": "alternate-victory",
   "metadata": {
    "execution": {
     "iopub.execute_input": "2021-10-18T11:00:08.593268Z",
     "iopub.status.busy": "2021-10-18T11:00:08.591307Z",
     "iopub.status.idle": "2021-10-18T11:00:09.434332Z",
     "shell.execute_reply": "2021-10-18T11:00:09.432642Z"
    },
    "papermill": {
     "duration": 0.87196,
     "end_time": "2021-10-18T11:00:09.434716",
     "exception": false,
     "start_time": "2021-10-18T11:00:08.562756",
     "status": "completed"
    },
    "tags": []
   },
   "outputs": [],
   "source": [
    "df = pd.read_sql(\"select * from EBAY_TOP_BERLIN where record_time in (select distinct record_time from EBAY_TOP_BERLIN order by record_time desc limit 2)\", sqlite3.connect(\"UsedObjects.db\"))"
   ]
  },
  {
   "cell_type": "code",
   "execution_count": 5,
   "id": "popular-active",
   "metadata": {
    "execution": {
     "iopub.execute_input": "2021-10-18T11:00:09.504770Z",
     "iopub.status.busy": "2021-10-18T11:00:09.493888Z",
     "iopub.status.idle": "2021-10-18T11:00:09.521497Z",
     "shell.execute_reply": "2021-10-18T11:00:09.522738Z"
    },
    "papermill": {
     "duration": 0.067053,
     "end_time": "2021-10-18T11:00:09.523123",
     "exception": false,
     "start_time": "2021-10-18T11:00:09.456070",
     "status": "completed"
    },
    "tags": []
   },
   "outputs": [],
   "source": [
    "df_pivot = df.pivot_table(index=\"PRODUCT\", columns = \"RECORD_TIME\", values = \"LISTING_COUNT\")"
   ]
  },
  {
   "cell_type": "code",
   "execution_count": 6,
   "id": "union-huntington",
   "metadata": {
    "execution": {
     "iopub.execute_input": "2021-10-18T11:00:09.582250Z",
     "iopub.status.busy": "2021-10-18T11:00:09.579751Z",
     "iopub.status.idle": "2021-10-18T11:00:09.585741Z",
     "shell.execute_reply": "2021-10-18T11:00:09.587039Z"
    },
    "papermill": {
     "duration": 0.042425,
     "end_time": "2021-10-18T11:00:09.587448",
     "exception": false,
     "start_time": "2021-10-18T11:00:09.545023",
     "status": "completed"
    },
    "tags": []
   },
   "outputs": [],
   "source": [
    "df_pivot.columns = [\"stamp_1\", \"stamp_2\"]\n",
    "df_pivot_diff = df_pivot.diff(axis=1)"
   ]
  },
  {
   "cell_type": "code",
   "execution_count": 7,
   "id": "fifth-motion",
   "metadata": {
    "execution": {
     "iopub.execute_input": "2021-10-18T11:00:09.642274Z",
     "iopub.status.busy": "2021-10-18T11:00:09.639801Z",
     "iopub.status.idle": "2021-10-18T11:00:11.159451Z",
     "shell.execute_reply": "2021-10-18T11:00:11.160816Z"
    },
    "papermill": {
     "duration": 1.552823,
     "end_time": "2021-10-18T11:00:11.161265",
     "exception": false,
     "start_time": "2021-10-18T11:00:09.608442",
     "status": "completed"
    },
    "tags": []
   },
   "outputs": [
    {
     "data": {
      "text/plain": [
       "<AxesSubplot:ylabel='PRODUCT'>"
      ]
     },
     "execution_count": 7,
     "metadata": {},
     "output_type": "execute_result"
    },
    {
     "data": {
      "image/png": "[encoded data removed]",
      "text/plain": [
       "<Figure size 432x288 with 1 Axes>"
      ]
     },
     "metadata": {
      "needs_background": "light"
     },
     "output_type": "display_data"
    }
   ],
   "source": [
    "df_pivot_diff.sort_values(\"stamp_2\", ascending = False)[\"stamp_2\"].head(10).plot.barh()"
   ]
  },
  {
   "cell_type": "code",
   "execution_count": null,
   "id": "extra-executive",
   "metadata": {
    "papermill": {
     "duration": 0.022352,
     "end_time": "2021-10-18T11:00:11.207419",
     "exception": false,
     "start_time": "2021-10-18T11:00:11.185067",
     "status": "completed"
    },
    "tags": []
   },
   "outputs": [],
   "source": []
  }
 ],
 "metadata": {
  "kernelspec": {
   "display_name": "Python 3",
   "language": "python",
   "name": "python3"
  },
  "language_info": {
   "codemirror_mode": {
    "name": "ipython",
    "version": 3
   },
   "file_extension": ".py",
   "mimetype": "text/x-python",
   "name": "python",
   "nbconvert_exporter": "python",
   "pygments_lexer": "ipython3",
   "version": "3.9.5"
  },
  "papermill": {
   "default_parameters": {},
   "duration": 7.820801,
   "end_time": "2021-10-18T11:00:12.392908",
   "environment_variables": {},
   "exception": null,
   "input_path": "eBay_Overview.ipynb",
   "output_path": "eBay_Overview.ipynb",
   "parameters": {},
   "start_time": "2021-10-18T11:00:04.572107",
   "version": "2.3.3"
  }
 },
 "nbformat": 4,
 "nbformat_minor": 5
}