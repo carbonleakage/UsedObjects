{
 "cells": [
  {
   "cell_type": "code",
   "execution_count": 1,
   "id": "reverse-picking",
   "metadata": {
    "execution": {
     "iopub.execute_input": "2021-10-14T02:00:07.018931Z",
     "iopub.status.busy": "2021-10-14T02:00:07.016966Z",
     "iopub.status.idle": "2021-10-14T02:00:07.817580Z",
     "shell.execute_reply": "2021-10-14T02:00:07.819021Z"
    },
    "papermill": {
     "duration": 0.852942,
     "end_time": "2021-10-14T02:00:07.819714",
     "exception": false,
     "start_time": "2021-10-14T02:00:06.966772",
     "status": "completed"
    },
    "tags": []
   },
   "outputs": [],
   "source": [
    "import pandas as pd\n",
    "import sqlite3"
   ]
  },
  {
   "cell_type": "code",
   "execution_count": 2,
   "id": "innovative-syndrome",
   "metadata": {
    "execution": {
     "iopub.execute_input": "2021-10-14T02:00:07.871003Z",
     "iopub.status.busy": "2021-10-14T02:00:07.868590Z",
     "iopub.status.idle": "2021-10-14T02:00:08.392116Z",
     "shell.execute_reply": "2021-10-14T02:00:08.393639Z"
    },
    "papermill": {
     "duration": 0.553947,
     "end_time": "2021-10-14T02:00:08.394082",
     "exception": false,
     "start_time": "2021-10-14T02:00:07.840135",
     "status": "completed"
    },
    "tags": []
   },
   "outputs": [],
   "source": [
    "timestamps = pd.read_sql(\"select distinct record_time from EBAY_TOP_BERLIN order by record_time desc limit 2\", sqlite3.connect(\"UsedObjects.db\"))"
   ]
  },
  {
   "cell_type": "code",
   "execution_count": 3,
   "id": "periodic-identification",
   "metadata": {
    "execution": {
     "iopub.execute_input": "2021-10-14T02:00:08.462734Z",
     "iopub.status.busy": "2021-10-14T02:00:08.460641Z",
     "iopub.status.idle": "2021-10-14T02:00:08.480409Z",
     "shell.execute_reply": "2021-10-14T02:00:08.481857Z"
    },
    "papermill": {
     "duration": 0.066526,
     "end_time": "2021-10-14T02:00:08.482299",
     "exception": false,
     "start_time": "2021-10-14T02:00:08.415773",
     "status": "completed"
    },
    "tags": []
   },
   "outputs": [
    {
     "data": {
      "text/html": [
       "<div>\n",
       "<style scoped>\n",
       "    .dataframe tbody tr th:only-of-type {\n",
       "        vertical-align: middle;\n",
       "    }\n",
       "\n",
       "    .dataframe tbody tr th {\n",
       "        vertical-align: top;\n",
       "    }\n",
       "\n",
       "    .dataframe thead th {\n",
       "        text-align: right;\n",
       "    }\n",
       "</style>\n",
       "<table border=\"1\" class=\"dataframe\">\n",
       "  <thead>\n",
       "    <tr style=\"text-align: right;\">\n",
       "      <th></th>\n",
       "      <th>RECORD_TIME</th>\n",
       "    </tr>\n",
       "  </thead>\n",
       "  <tbody>\n",
       "    <tr>\n",
       "      <th>0</th>\n",
       "      <td>2021-10-14 04:00</td>\n",
       "    </tr>\n",
       "    <tr>\n",
       "      <th>1</th>\n",
       "      <td>2021-10-14 03:30</td>\n",
       "    </tr>\n",
       "  </tbody>\n",
       "</table>\n",
       "</div>"
      ],
      "text/plain": [
       "        RECORD_TIME\n",
       "0  2021-10-14 04:00\n",
       "1  2021-10-14 03:30"
      ]
     },
     "execution_count": 3,
     "metadata": {},
     "output_type": "execute_result"
    }
   ],
   "source": [
    "timestamps"
   ]
  },
  {
   "cell_type": "code",
   "execution_count": 4,
   "id": "alternate-victory",
   "metadata": {
    "execution": {
     "iopub.execute_input": "2021-10-14T02:00:08.547015Z",
     "iopub.status.busy": "2021-10-14T02:00:08.545088Z",
     "iopub.status.idle": "2021-10-14T02:00:09.323673Z",
     "shell.execute_reply": "2021-10-14T02:00:09.325208Z"
    },
    "papermill": {
     "duration": 0.813695,
     "end_time": "2021-10-14T02:00:09.325663",
     "exception": false,
     "start_time": "2021-10-14T02:00:08.511968",
     "status": "completed"
    },
    "tags": []
   },
   "outputs": [],
   "source": [
    "df = pd.read_sql(\"select * from EBAY_TOP_BERLIN where record_time in (select distinct record_time from EBAY_TOP_BERLIN order by record_time desc limit 2)\", sqlite3.connect(\"UsedObjects.db\"))"
   ]
  },
  {
   "cell_type": "code",
   "execution_count": 5,
   "id": "popular-active",
   "metadata": {
    "execution": {
     "iopub.execute_input": "2021-10-14T02:00:09.399056Z",
     "iopub.status.busy": "2021-10-14T02:00:09.386483Z",
     "iopub.status.idle": "2021-10-14T02:00:09.414747Z",
     "shell.execute_reply": "2021-10-14T02:00:09.415970Z"
    },
    "papermill": {
     "duration": 0.068835,
     "end_time": "2021-10-14T02:00:09.416371",
     "exception": false,
     "start_time": "2021-10-14T02:00:09.347536",
     "status": "completed"
    },
    "tags": []
   },
   "outputs": [],
   "source": [
    "df_pivot = df.pivot_table(index=\"PRODUCT\", columns = \"RECORD_TIME\", values = \"LISTING_COUNT\")"
   ]
  },
  {
   "cell_type": "code",
   "execution_count": 6,
   "id": "union-huntington",
   "metadata": {
    "execution": {
     "iopub.execute_input": "2021-10-14T02:00:09.475815Z",
     "iopub.status.busy": "2021-10-14T02:00:09.473345Z",
     "iopub.status.idle": "2021-10-14T02:00:09.480464Z",
     "shell.execute_reply": "2021-10-14T02:00:09.479066Z"
    },
    "papermill": {
     "duration": 0.042277,
     "end_time": "2021-10-14T02:00:09.480883",
     "exception": false,
     "start_time": "2021-10-14T02:00:09.438606",
     "status": "completed"
    },
    "tags": []
   },
   "outputs": [],
   "source": [
    "df_pivot.columns = [\"stamp_1\", \"stamp_2\"]\n",
    "df_pivot_diff = df_pivot.diff(axis=1)"
   ]
  },
  {
   "cell_type": "code",
   "execution_count": 7,
   "id": "fifth-motion",
   "metadata": {
    "execution": {
     "iopub.execute_input": "2021-10-14T02:00:09.535129Z",
     "iopub.status.busy": "2021-10-14T02:00:09.532327Z",
     "iopub.status.idle": "2021-10-14T02:00:11.024770Z",
     "shell.execute_reply": "2021-10-14T02:00:11.026074Z"
    },
    "papermill": {
     "duration": 1.525577,
     "end_time": "2021-10-14T02:00:11.026499",
     "exception": false,
     "start_time": "2021-10-14T02:00:09.500922",
     "status": "completed"
    },
    "tags": []
   },
   "outputs": [
    {
     "data": {
      "text/plain": [
       "<AxesSubplot:ylabel='PRODUCT'>"
      ]
     },
     "execution_count": 7,
     "metadata": {},
     "output_type": "execute_result"
    },
    {
     "data": {
      "image/png": "[encoded data removed]",
      "text/plain": [
       "<Figure size 432x288 with 1 Axes>"
      ]
     },
     "metadata": {
      "needs_background": "light"
     },
     "output_type": "display_data"
    }
   ],
   "source": [
    "df_pivot_diff.sort_values(\"stamp_2\", ascending = False)[\"stamp_2\"].head(10).plot.barh()"
   ]
  },
  {
   "cell_type": "code",
   "execution_count": null,
   "id": "extra-executive",
   "metadata": {
    "papermill": {
     "duration": 0.022226,
     "end_time": "2021-10-14T02:00:11.073516",
     "exception": false,
     "start_time": "2021-10-14T02:00:11.051290",
     "status": "completed"
    },
    "tags": []
   },
   "outputs": [],
   "source": []
  }
 ],
 "metadata": {
  "kernelspec": {
   "display_name": "Python 3",
   "language": "python",
   "name": "python3"
  },
  "language_info": {
   "codemirror_mode": {
    "name": "ipython",
    "version": 3
   },
   "file_extension": ".py",
   "mimetype": "text/x-python",
   "name": "python",
   "nbconvert_exporter": "python",
   "pygments_lexer": "ipython3",
   "version": "3.9.5"
  },
  "papermill": {
   "default_parameters": {},
   "duration": 7.820075,
   "end_time": "2021-10-14T02:00:12.393105",
   "environment_variables": {},
   "exception": null,
   "input_path": "eBay_Overview.ipynb",
   "output_path": "eBay_Overview.ipynb",
   "parameters": {},
   "start_time": "2021-10-14T02:00:04.573030",
   "version": "2.3.3"
  }
 },
 "nbformat": 4,
 "nbformat_minor": 5
}