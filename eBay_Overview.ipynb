{
 "cells": [
  {
   "cell_type": "code",
   "execution_count": 1,
   "id": "reverse-picking",
   "metadata": {
    "execution": {
     "iopub.execute_input": "2021-10-29T08:00:07.330657Z",
     "iopub.status.busy": "2021-10-29T08:00:07.328666Z",
     "iopub.status.idle": "2021-10-29T08:00:08.134575Z",
     "shell.execute_reply": "2021-10-29T08:00:08.132980Z"
    },
    "papermill": {
     "duration": 0.856369,
     "end_time": "2021-10-29T08:00:08.134967",
     "exception": false,
     "start_time": "2021-10-29T08:00:07.278598",
     "status": "completed"
    },
    "tags": []
   },
   "outputs": [],
   "source": [
    "import pandas as pd\n",
    "import sqlite3"
   ]
  },
  {
   "cell_type": "code",
   "execution_count": 2,
   "id": "innovative-syndrome",
   "metadata": {
    "execution": {
     "iopub.execute_input": "2021-10-29T08:00:08.185442Z",
     "iopub.status.busy": "2021-10-29T08:00:08.183475Z",
     "iopub.status.idle": "2021-10-29T08:00:08.855491Z",
     "shell.execute_reply": "2021-10-29T08:00:08.856879Z"
    },
    "papermill": {
     "duration": 0.70158,
     "end_time": "2021-10-29T08:00:08.857350",
     "exception": false,
     "start_time": "2021-10-29T08:00:08.155770",
     "status": "completed"
    },
    "tags": []
   },
   "outputs": [],
   "source": [
    "timestamps = pd.read_sql(\"select distinct record_time from EBAY_TOP_BERLIN order by record_time desc limit 2\", sqlite3.connect(\"UsedObjects.db\"))"
   ]
  },
  {
   "cell_type": "code",
   "execution_count": 3,
   "id": "periodic-identification",
   "metadata": {
    "execution": {
     "iopub.execute_input": "2021-10-29T08:00:08.930600Z",
     "iopub.status.busy": "2021-10-29T08:00:08.928506Z",
     "iopub.status.idle": "2021-10-29T08:00:08.948402Z",
     "shell.execute_reply": "2021-10-29T08:00:08.949853Z"
    },
    "papermill": {
     "duration": 0.067772,
     "end_time": "2021-10-29T08:00:08.950280",
     "exception": false,
     "start_time": "2021-10-29T08:00:08.882508",
     "status": "completed"
    },
    "tags": []
   },
   "outputs": [
    {
     "data": {
      "text/html": [
       "<div>\n",
       "<style scoped>\n",
       "    .dataframe tbody tr th:only-of-type {\n",
       "        vertical-align: middle;\n",
       "    }\n",
       "\n",
       "    .dataframe tbody tr th {\n",
       "        vertical-align: top;\n",
       "    }\n",
       "\n",
       "    .dataframe thead th {\n",
       "        text-align: right;\n",
       "    }\n",
       "</style>\n",
       "<table border=\"1\" class=\"dataframe\">\n",
       "  <thead>\n",
       "    <tr style=\"text-align: right;\">\n",
       "      <th></th>\n",
       "      <th>RECORD_TIME</th>\n",
       "    </tr>\n",
       "  </thead>\n",
       "  <tbody>\n",
       "    <tr>\n",
       "      <th>0</th>\n",
       "      <td>2021-10-29 10:00</td>\n",
       "    </tr>\n",
       "    <tr>\n",
       "      <th>1</th>\n",
       "      <td>2021-10-29 09:30</td>\n",
       "    </tr>\n",
       "  </tbody>\n",
       "</table>\n",
       "</div>"
      ],
      "text/plain": [
       "        RECORD_TIME\n",
       "0  2021-10-29 10:00\n",
       "1  2021-10-29 09:30"
      ]
     },
     "execution_count": 3,
     "metadata": {},
     "output_type": "execute_result"
    }
   ],
   "source": [
    "timestamps"
   ]
  },
  {
   "cell_type": "code",
   "execution_count": 4,
   "id": "alternate-victory",
   "metadata": {
    "execution": {
     "iopub.execute_input": "2021-10-29T08:00:09.004098Z",
     "iopub.status.busy": "2021-10-29T08:00:09.002166Z",
     "iopub.status.idle": "2021-10-29T08:00:09.978095Z",
     "shell.execute_reply": "2021-10-29T08:00:09.979318Z"
    },
    "papermill": {
     "duration": 1.006252,
     "end_time": "2021-10-29T08:00:09.979715",
     "exception": false,
     "start_time": "2021-10-29T08:00:08.973463",
     "status": "completed"
    },
    "tags": []
   },
   "outputs": [],
   "source": [
    "df = pd.read_sql(\"select * from EBAY_TOP_BERLIN where record_time in (select distinct record_time from EBAY_TOP_BERLIN order by record_time desc limit 2)\", sqlite3.connect(\"UsedObjects.db\"))"
   ]
  },
  {
   "cell_type": "code",
   "execution_count": 5,
   "id": "popular-active",
   "metadata": {
    "execution": {
     "iopub.execute_input": "2021-10-29T08:00:10.053419Z",
     "iopub.status.busy": "2021-10-29T08:00:10.041964Z",
     "iopub.status.idle": "2021-10-29T08:00:10.070672Z",
     "shell.execute_reply": "2021-10-29T08:00:10.071889Z"
    },
    "papermill": {
     "duration": 0.068924,
     "end_time": "2021-10-29T08:00:10.072290",
     "exception": false,
     "start_time": "2021-10-29T08:00:10.003366",
     "status": "completed"
    },
    "tags": []
   },
   "outputs": [],
   "source": [
    "df_pivot = df.pivot_table(index=\"PRODUCT\", columns = \"RECORD_TIME\", values = \"LISTING_COUNT\")"
   ]
  },
  {
   "cell_type": "code",
   "execution_count": 6,
   "id": "union-huntington",
   "metadata": {
    "execution": {
     "iopub.execute_input": "2021-10-29T08:00:10.131727Z",
     "iopub.status.busy": "2021-10-29T08:00:10.129251Z",
     "iopub.status.idle": "2021-10-29T08:00:10.136305Z",
     "shell.execute_reply": "2021-10-29T08:00:10.134596Z"
    },
    "papermill": {
     "duration": 0.042054,
     "end_time": "2021-10-29T08:00:10.136667",
     "exception": false,
     "start_time": "2021-10-29T08:00:10.094613",
     "status": "completed"
    },
    "tags": []
   },
   "outputs": [],
   "source": [
    "df_pivot.columns = [\"stamp_1\", \"stamp_2\"]\n",
    "df_pivot_diff = df_pivot.diff(axis=1)"
   ]
  },
  {
   "cell_type": "code",
   "execution_count": 7,
   "id": "fifth-motion",
   "metadata": {
    "execution": {
     "iopub.execute_input": "2021-10-29T08:00:10.190607Z",
     "iopub.status.busy": "2021-10-29T08:00:10.188140Z",
     "iopub.status.idle": "2021-10-29T08:00:11.684617Z",
     "shell.execute_reply": "2021-10-29T08:00:11.686128Z"
    },
    "papermill": {
     "duration": 1.53003,
     "end_time": "2021-10-29T08:00:11.686582",
     "exception": false,
     "start_time": "2021-10-29T08:00:10.156552",
     "status": "completed"
    },
    "tags": []
   },
   "outputs": [
    {
     "data": {
      "text/plain": [
       "<AxesSubplot:ylabel='PRODUCT'>"
      ]
     },
     "execution_count": 7,
     "metadata": {},
     "output_type": "execute_result"
    },
    {
     "data": {
      "image/png": "[encoded data removed]",
      "text/plain": [
       "<Figure size 432x288 with 1 Axes>"
      ]
     },
     "metadata": {
      "needs_background": "light"
     },
     "output_type": "display_data"
    }
   ],
   "source": [
    "df_pivot_diff.sort_values(\"stamp_2\", ascending = False)[\"stamp_2\"].head(10).plot.barh()"
   ]
  },
  {
   "cell_type": "code",
   "execution_count": null,
   "id": "extra-executive",
   "metadata": {
    "papermill": {
     "duration": 0.022277,
     "end_time": "2021-10-29T08:00:11.734236",
     "exception": false,
     "start_time": "2021-10-29T08:00:11.711959",
     "status": "completed"
    },
    "tags": []
   },
   "outputs": [],
   "source": []
  }
 ],
 "metadata": {
  "kernelspec": {
   "display_name": "Python 3",
   "language": "python",
   "name": "python3"
  },
  "language_info": {
   "codemirror_mode": {
    "name": "ipython",
    "version": 3
   },
   "file_extension": ".py",
   "mimetype": "text/x-python",
   "name": "python",
   "nbconvert_exporter": "python",
   "pygments_lexer": "ipython3",
   "version": "3.9.5"
  },
  "papermill": {
   "default_parameters": {},
   "duration": 7.507338,
   "end_time": "2021-10-29T08:00:12.377479",
   "environment_variables": {},
   "exception": null,
   "input_path": "eBay_Overview.ipynb",
   "output_path": "eBay_Overview.ipynb",
   "parameters": {},
   "start_time": "2021-10-29T08:00:04.870141",
   "version": "2.3.3"
  }
 },
 "nbformat": 4,
 "nbformat_minor": 5
}