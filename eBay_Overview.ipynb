{
 "cells": [
  {
   "cell_type": "code",
   "execution_count": 1,
   "id": "reverse-picking",
   "metadata": {
    "execution": {
     "iopub.execute_input": "2021-11-28T10:00:07.129201Z",
     "iopub.status.busy": "2021-11-28T10:00:07.126827Z",
     "iopub.status.idle": "2021-11-28T10:00:08.074176Z",
     "shell.execute_reply": "2021-11-28T10:00:08.075767Z"
    },
    "papermill": {
     "duration": 0.998355,
     "end_time": "2021-11-28T10:00:08.076510",
     "exception": false,
     "start_time": "2021-11-28T10:00:07.078155",
     "status": "completed"
    },
    "tags": []
   },
   "outputs": [],
   "source": [
    "import pandas as pd\n",
    "import sqlite3"
   ]
  },
  {
   "cell_type": "code",
   "execution_count": 2,
   "id": "innovative-syndrome",
   "metadata": {
    "execution": {
     "iopub.execute_input": "2021-11-28T10:00:08.138244Z",
     "iopub.status.busy": "2021-11-28T10:00:08.135907Z",
     "iopub.status.idle": "2021-11-28T10:00:09.121171Z",
     "shell.execute_reply": "2021-11-28T10:00:09.123349Z"
    },
    "papermill": {
     "duration": 1.019829,
     "end_time": "2021-11-28T10:00:09.123891",
     "exception": false,
     "start_time": "2021-11-28T10:00:08.104062",
     "status": "completed"
    },
    "tags": []
   },
   "outputs": [],
   "source": [
    "timestamps = pd.read_sql(\"select distinct record_time from EBAY_TOP_BERLIN order by record_time desc limit 2\", sqlite3.connect(\"UsedObjects.db\"))"
   ]
  },
  {
   "cell_type": "code",
   "execution_count": 3,
   "id": "periodic-identification",
   "metadata": {
    "execution": {
     "iopub.execute_input": "2021-11-28T10:00:09.195773Z",
     "iopub.status.busy": "2021-11-28T10:00:09.193371Z",
     "iopub.status.idle": "2021-11-28T10:00:09.220205Z",
     "shell.execute_reply": "2021-11-28T10:00:09.218590Z"
    },
    "papermill": {
     "duration": 0.076656,
     "end_time": "2021-11-28T10:00:09.220616",
     "exception": false,
     "start_time": "2021-11-28T10:00:09.143960",
     "status": "completed"
    },
    "tags": []
   },
   "outputs": [
    {
     "data": {
      "text/html": [
       "<div>\n",
       "<style scoped>\n",
       "    .dataframe tbody tr th:only-of-type {\n",
       "        vertical-align: middle;\n",
       "    }\n",
       "\n",
       "    .dataframe tbody tr th {\n",
       "        vertical-align: top;\n",
       "    }\n",
       "\n",
       "    .dataframe thead th {\n",
       "        text-align: right;\n",
       "    }\n",
       "</style>\n",
       "<table border=\"1\" class=\"dataframe\">\n",
       "  <thead>\n",
       "    <tr style=\"text-align: right;\">\n",
       "      <th></th>\n",
       "      <th>RECORD_TIME</th>\n",
       "    </tr>\n",
       "  </thead>\n",
       "  <tbody>\n",
       "    <tr>\n",
       "      <th>0</th>\n",
       "      <td>2021-11-28 11:00</td>\n",
       "    </tr>\n",
       "    <tr>\n",
       "      <th>1</th>\n",
       "      <td>2021-11-28 10:30</td>\n",
       "    </tr>\n",
       "  </tbody>\n",
       "</table>\n",
       "</div>"
      ],
      "text/plain": [
       "        RECORD_TIME\n",
       "0  2021-11-28 11:00\n",
       "1  2021-11-28 10:30"
      ]
     },
     "execution_count": 3,
     "metadata": {},
     "output_type": "execute_result"
    }
   ],
   "source": [
    "timestamps"
   ]
  },
  {
   "cell_type": "code",
   "execution_count": 4,
   "id": "alternate-victory",
   "metadata": {
    "execution": {
     "iopub.execute_input": "2021-11-28T10:00:09.275700Z",
     "iopub.status.busy": "2021-11-28T10:00:09.273376Z",
     "iopub.status.idle": "2021-11-28T10:00:10.668240Z",
     "shell.execute_reply": "2021-11-28T10:00:10.669943Z"
    },
    "papermill": {
     "duration": 1.429077,
     "end_time": "2021-11-28T10:00:10.670467",
     "exception": false,
     "start_time": "2021-11-28T10:00:09.241390",
     "status": "completed"
    },
    "tags": []
   },
   "outputs": [],
   "source": [
    "df = pd.read_sql(\"select * from EBAY_TOP_BERLIN where record_time in (select distinct record_time from EBAY_TOP_BERLIN order by record_time desc limit 2)\", sqlite3.connect(\"UsedObjects.db\"))"
   ]
  },
  {
   "cell_type": "code",
   "execution_count": 5,
   "id": "popular-active",
   "metadata": {
    "execution": {
     "iopub.execute_input": "2021-11-28T10:00:10.737135Z",
     "iopub.status.busy": "2021-11-28T10:00:10.734720Z",
     "iopub.status.idle": "2021-11-28T10:00:10.767326Z",
     "shell.execute_reply": "2021-11-28T10:00:10.769073Z"
    },
    "papermill": {
     "duration": 0.077397,
     "end_time": "2021-11-28T10:00:10.769590",
     "exception": false,
     "start_time": "2021-11-28T10:00:10.692193",
     "status": "completed"
    },
    "tags": []
   },
   "outputs": [],
   "source": [
    "df_pivot = df.pivot_table(index=\"PRODUCT\", columns = \"RECORD_TIME\", values = \"LISTING_COUNT\")"
   ]
  },
  {
   "cell_type": "code",
   "execution_count": 6,
   "id": "union-huntington",
   "metadata": {
    "execution": {
     "iopub.execute_input": "2021-11-28T10:00:10.828191Z",
     "iopub.status.busy": "2021-11-28T10:00:10.825946Z",
     "iopub.status.idle": "2021-11-28T10:00:10.833266Z",
     "shell.execute_reply": "2021-11-28T10:00:10.831547Z"
    },
    "papermill": {
     "duration": 0.043275,
     "end_time": "2021-11-28T10:00:10.833680",
     "exception": false,
     "start_time": "2021-11-28T10:00:10.790405",
     "status": "completed"
    },
    "tags": []
   },
   "outputs": [],
   "source": [
    "df_pivot.columns = [\"stamp_1\", \"stamp_2\"]\n",
    "df_pivot_diff = df_pivot.diff(axis=1)"
   ]
  },
  {
   "cell_type": "code",
   "execution_count": 7,
   "id": "fifth-motion",
   "metadata": {
    "execution": {
     "iopub.execute_input": "2021-11-28T10:00:10.889549Z",
     "iopub.status.busy": "2021-11-28T10:00:10.886967Z",
     "iopub.status.idle": "2021-11-28T10:00:12.867663Z",
     "shell.execute_reply": "2021-11-28T10:00:12.870744Z"
    },
    "papermill": {
     "duration": 2.017864,
     "end_time": "2021-11-28T10:00:12.871646",
     "exception": false,
     "start_time": "2021-11-28T10:00:10.853782",
     "status": "completed"
    },
    "tags": []
   },
   "outputs": [
    {
     "data": {
      "text/plain": [
       "<AxesSubplot:ylabel='PRODUCT'>"
      ]
     },
     "execution_count": 7,
     "metadata": {},
     "output_type": "execute_result"
    },
    {
     "data": {
      "image/png": "[encoded data removed]",
      "text/plain": [
       "<Figure size 432x288 with 1 Axes>"
      ]
     },
     "metadata": {
      "needs_background": "light"
     },
     "output_type": "display_data"
    }
   ],
   "source": [
    "df_pivot_diff.sort_values(\"stamp_2\", ascending = False)[\"stamp_2\"].head(10).plot.barh()"
   ]
  },
  {
   "cell_type": "code",
   "execution_count": null,
   "id": "extra-executive",
   "metadata": {
    "papermill": {
     "duration": 0.031299,
     "end_time": "2021-11-28T10:00:12.940061",
     "exception": false,
     "start_time": "2021-11-28T10:00:12.908762",
     "status": "completed"
    },
    "tags": []
   },
   "outputs": [],
   "source": []
  }
 ],
 "metadata": {
  "kernelspec": {
   "display_name": "Python 3",
   "language": "python",
   "name": "python3"
  },
  "language_info": {
   "codemirror_mode": {
    "name": "ipython",
    "version": 3
   },
   "file_extension": ".py",
   "mimetype": "text/x-python",
   "name": "python",
   "nbconvert_exporter": "python",
   "pygments_lexer": "ipython3",
   "version": "3.9.5"
  },
  "papermill": {
   "default_parameters": {},
   "duration": 9.926073,
   "end_time": "2021-11-28T10:00:14.273639",
   "environment_variables": {},
   "exception": null,
   "input_path": "eBay_Overview.ipynb",
   "output_path": "eBay_Overview.ipynb",
   "parameters": {},
   "start_time": "2021-11-28T10:00:04.347566",
   "version": "2.3.3"
  }
 },
 "nbformat": 4,
 "nbformat_minor": 5
}