{
 "cells": [
  {
   "cell_type": "code",
   "execution_count": 1,
   "id": "reverse-picking",
   "metadata": {
    "execution": {
     "iopub.execute_input": "2021-08-23T01:00:07.443886Z",
     "iopub.status.busy": "2021-08-23T01:00:07.441859Z",
     "iopub.status.idle": "2021-08-23T01:00:08.249428Z",
     "shell.execute_reply": "2021-08-23T01:00:08.250764Z"
    },
    "papermill": {
     "duration": 0.860119,
     "end_time": "2021-08-23T01:00:08.251385",
     "exception": false,
     "start_time": "2021-08-23T01:00:07.391266",
     "status": "completed"
    },
    "tags": []
   },
   "outputs": [],
   "source": [
    "import pandas as pd\n",
    "import sqlite3"
   ]
  },
  {
   "cell_type": "code",
   "execution_count": 2,
   "id": "innovative-syndrome",
   "metadata": {
    "execution": {
     "iopub.execute_input": "2021-08-23T01:00:08.303627Z",
     "iopub.status.busy": "2021-08-23T01:00:08.301357Z",
     "iopub.status.idle": "2021-08-23T01:00:08.411159Z",
     "shell.execute_reply": "2021-08-23T01:00:08.412585Z"
    },
    "papermill": {
     "duration": 0.139416,
     "end_time": "2021-08-23T01:00:08.413025",
     "exception": false,
     "start_time": "2021-08-23T01:00:08.273609",
     "status": "completed"
    },
    "tags": []
   },
   "outputs": [],
   "source": [
    "timestamps = pd.read_sql(\"select distinct record_time from EBAY_TOP_BERLIN order by record_time desc limit 2\", sqlite3.connect(\"UsedObjects.db\"))"
   ]
  },
  {
   "cell_type": "code",
   "execution_count": 3,
   "id": "periodic-identification",
   "metadata": {
    "execution": {
     "iopub.execute_input": "2021-08-23T01:00:08.479802Z",
     "iopub.status.busy": "2021-08-23T01:00:08.477697Z",
     "iopub.status.idle": "2021-08-23T01:00:08.497762Z",
     "shell.execute_reply": "2021-08-23T01:00:08.499224Z"
    },
    "papermill": {
     "duration": 0.066819,
     "end_time": "2021-08-23T01:00:08.499654",
     "exception": false,
     "start_time": "2021-08-23T01:00:08.432835",
     "status": "completed"
    },
    "tags": []
   },
   "outputs": [
    {
     "data": {
      "text/html": [
       "<div>\n",
       "<style scoped>\n",
       "    .dataframe tbody tr th:only-of-type {\n",
       "        vertical-align: middle;\n",
       "    }\n",
       "\n",
       "    .dataframe tbody tr th {\n",
       "        vertical-align: top;\n",
       "    }\n",
       "\n",
       "    .dataframe thead th {\n",
       "        text-align: right;\n",
       "    }\n",
       "</style>\n",
       "<table border=\"1\" class=\"dataframe\">\n",
       "  <thead>\n",
       "    <tr style=\"text-align: right;\">\n",
       "      <th></th>\n",
       "      <th>RECORD_TIME</th>\n",
       "    </tr>\n",
       "  </thead>\n",
       "  <tbody>\n",
       "    <tr>\n",
       "      <th>0</th>\n",
       "      <td>2021-08-23 03:00</td>\n",
       "    </tr>\n",
       "    <tr>\n",
       "      <th>1</th>\n",
       "      <td>2021-08-23 02:30</td>\n",
       "    </tr>\n",
       "  </tbody>\n",
       "</table>\n",
       "</div>"
      ],
      "text/plain": [
       "        RECORD_TIME\n",
       "0  2021-08-23 03:00\n",
       "1  2021-08-23 02:30"
      ]
     },
     "execution_count": 3,
     "metadata": {},
     "output_type": "execute_result"
    }
   ],
   "source": [
    "timestamps"
   ]
  },
  {
   "cell_type": "code",
   "execution_count": 4,
   "id": "alternate-victory",
   "metadata": {
    "execution": {
     "iopub.execute_input": "2021-08-23T01:00:08.551053Z",
     "iopub.status.busy": "2021-08-23T01:00:08.549101Z",
     "iopub.status.idle": "2021-08-23T01:00:08.711521Z",
     "shell.execute_reply": "2021-08-23T01:00:08.712723Z"
    },
    "papermill": {
     "duration": 0.192306,
     "end_time": "2021-08-23T01:00:08.713118",
     "exception": false,
     "start_time": "2021-08-23T01:00:08.520812",
     "status": "completed"
    },
    "tags": []
   },
   "outputs": [],
   "source": [
    "df = pd.read_sql(\"select * from EBAY_TOP_BERLIN where record_time in (select distinct record_time from EBAY_TOP_BERLIN order by record_time desc limit 2)\", sqlite3.connect(\"UsedObjects.db\"))"
   ]
  },
  {
   "cell_type": "code",
   "execution_count": 5,
   "id": "popular-active",
   "metadata": {
    "execution": {
     "iopub.execute_input": "2021-08-23T01:00:08.781812Z",
     "iopub.status.busy": "2021-08-23T01:00:08.770697Z",
     "iopub.status.idle": "2021-08-23T01:00:08.798636Z",
     "shell.execute_reply": "2021-08-23T01:00:08.800046Z"
    },
    "papermill": {
     "duration": 0.066944,
     "end_time": "2021-08-23T01:00:08.800558",
     "exception": false,
     "start_time": "2021-08-23T01:00:08.733614",
     "status": "completed"
    },
    "tags": []
   },
   "outputs": [],
   "source": [
    "df_pivot = df.pivot_table(index=\"PRODUCT\", columns = \"RECORD_TIME\", values = \"LISTING_COUNT\")"
   ]
  },
  {
   "cell_type": "code",
   "execution_count": 6,
   "id": "union-huntington",
   "metadata": {
    "execution": {
     "iopub.execute_input": "2021-08-23T01:00:08.857770Z",
     "iopub.status.busy": "2021-08-23T01:00:08.855682Z",
     "iopub.status.idle": "2021-08-23T01:00:08.861086Z",
     "shell.execute_reply": "2021-08-23T01:00:08.862421Z"
    },
    "papermill": {
     "duration": 0.041123,
     "end_time": "2021-08-23T01:00:08.862841",
     "exception": false,
     "start_time": "2021-08-23T01:00:08.821718",
     "status": "completed"
    },
    "tags": []
   },
   "outputs": [],
   "source": [
    "df_pivot.columns = [\"stamp_1\", \"stamp_2\"]\n",
    "df_pivot_diff = df_pivot.diff(axis=1)"
   ]
  },
  {
   "cell_type": "code",
   "execution_count": 7,
   "id": "fifth-motion",
   "metadata": {
    "execution": {
     "iopub.execute_input": "2021-08-23T01:00:08.923896Z",
     "iopub.status.busy": "2021-08-23T01:00:08.921208Z",
     "iopub.status.idle": "2021-08-23T01:00:10.393406Z",
     "shell.execute_reply": "2021-08-23T01:00:10.394758Z"
    },
    "papermill": {
     "duration": 1.508435,
     "end_time": "2021-08-23T01:00:10.395179",
     "exception": false,
     "start_time": "2021-08-23T01:00:08.886744",
     "status": "completed"
    },
    "tags": []
   },
   "outputs": [
    {
     "data": {
      "text/plain": [
       "<AxesSubplot:ylabel='PRODUCT'>"
      ]
     },
     "execution_count": 7,
     "metadata": {},
     "output_type": "execute_result"
    },
    {
     "data": {
      "image/png": "[encoded data removed]",
      "text/plain": [
       "<Figure size 432x288 with 1 Axes>"
      ]
     },
     "metadata": {
      "needs_background": "light"
     },
     "output_type": "display_data"
    }
   ],
   "source": [
    "df_pivot_diff.sort_values(\"stamp_2\", ascending = False)[\"stamp_2\"].head(10).plot.barh()"
   ]
  },
  {
   "cell_type": "code",
   "execution_count": null,
   "id": "extra-executive",
   "metadata": {
    "papermill": {
     "duration": 0.022176,
     "end_time": "2021-08-23T01:00:10.442180",
     "exception": false,
     "start_time": "2021-08-23T01:00:10.420004",
     "status": "completed"
    },
    "tags": []
   },
   "outputs": [],
   "source": []
  }
 ],
 "metadata": {
  "kernelspec": {
   "display_name": "Python 3",
   "language": "python",
   "name": "python3"
  },
  "language_info": {
   "codemirror_mode": {
    "name": "ipython",
    "version": 3
   },
   "file_extension": ".py",
   "mimetype": "text/x-python",
   "name": "python",
   "nbconvert_exporter": "python",
   "pygments_lexer": "ipython3",
   "version": "3.9.5"
  },
  "papermill": {
   "default_parameters": {},
   "duration": 6.834802,
   "end_time": "2021-08-23T01:00:11.815467",
   "environment_variables": {},
   "exception": null,
   "input_path": "eBay_Overview.ipynb",
   "output_path": "eBay_Overview.ipynb",
   "parameters": {},
   "start_time": "2021-08-23T01:00:04.980665",
   "version": "2.3.3"
  }
 },
 "nbformat": 4,
 "nbformat_minor": 5
}