{
 "cells": [
  {
   "cell_type": "code",
   "execution_count": 1,
   "id": "reverse-picking",
   "metadata": {
    "execution": {
     "iopub.execute_input": "2021-09-13T20:00:06.961204Z",
     "iopub.status.busy": "2021-09-13T20:00:06.959234Z",
     "iopub.status.idle": "2021-09-13T20:00:07.762759Z",
     "shell.execute_reply": "2021-09-13T20:00:07.764222Z"
    },
    "papermill": {
     "duration": 0.857667,
     "end_time": "2021-09-13T20:00:07.764875",
     "exception": false,
     "start_time": "2021-09-13T20:00:06.907208",
     "status": "completed"
    },
    "tags": []
   },
   "outputs": [],
   "source": [
    "import pandas as pd\n",
    "import sqlite3"
   ]
  },
  {
   "cell_type": "code",
   "execution_count": 2,
   "id": "innovative-syndrome",
   "metadata": {
    "execution": {
     "iopub.execute_input": "2021-09-13T20:00:07.815802Z",
     "iopub.status.busy": "2021-09-13T20:00:07.813763Z",
     "iopub.status.idle": "2021-09-13T20:00:08.095115Z",
     "shell.execute_reply": "2021-09-13T20:00:08.096347Z"
    },
    "papermill": {
     "duration": 0.311528,
     "end_time": "2021-09-13T20:00:08.096746",
     "exception": false,
     "start_time": "2021-09-13T20:00:07.785218",
     "status": "completed"
    },
    "tags": []
   },
   "outputs": [],
   "source": [
    "timestamps = pd.read_sql(\"select distinct record_time from EBAY_TOP_BERLIN order by record_time desc limit 2\", sqlite3.connect(\"UsedObjects.db\"))"
   ]
  },
  {
   "cell_type": "code",
   "execution_count": 3,
   "id": "periodic-identification",
   "metadata": {
    "execution": {
     "iopub.execute_input": "2021-09-13T20:00:08.161207Z",
     "iopub.status.busy": "2021-09-13T20:00:08.159188Z",
     "iopub.status.idle": "2021-09-13T20:00:08.178769Z",
     "shell.execute_reply": "2021-09-13T20:00:08.179965Z"
    },
    "papermill": {
     "duration": 0.064252,
     "end_time": "2021-09-13T20:00:08.180381",
     "exception": false,
     "start_time": "2021-09-13T20:00:08.116129",
     "status": "completed"
    },
    "tags": []
   },
   "outputs": [
    {
     "data": {
      "text/html": [
       "<div>\n",
       "<style scoped>\n",
       "    .dataframe tbody tr th:only-of-type {\n",
       "        vertical-align: middle;\n",
       "    }\n",
       "\n",
       "    .dataframe tbody tr th {\n",
       "        vertical-align: top;\n",
       "    }\n",
       "\n",
       "    .dataframe thead th {\n",
       "        text-align: right;\n",
       "    }\n",
       "</style>\n",
       "<table border=\"1\" class=\"dataframe\">\n",
       "  <thead>\n",
       "    <tr style=\"text-align: right;\">\n",
       "      <th></th>\n",
       "      <th>RECORD_TIME</th>\n",
       "    </tr>\n",
       "  </thead>\n",
       "  <tbody>\n",
       "    <tr>\n",
       "      <th>0</th>\n",
       "      <td>2021-09-13 22:00</td>\n",
       "    </tr>\n",
       "    <tr>\n",
       "      <th>1</th>\n",
       "      <td>2021-09-13 21:30</td>\n",
       "    </tr>\n",
       "  </tbody>\n",
       "</table>\n",
       "</div>"
      ],
      "text/plain": [
       "        RECORD_TIME\n",
       "0  2021-09-13 22:00\n",
       "1  2021-09-13 21:30"
      ]
     },
     "execution_count": 3,
     "metadata": {},
     "output_type": "execute_result"
    }
   ],
   "source": [
    "timestamps"
   ]
  },
  {
   "cell_type": "code",
   "execution_count": 4,
   "id": "alternate-victory",
   "metadata": {
    "execution": {
     "iopub.execute_input": "2021-09-13T20:00:08.233982Z",
     "iopub.status.busy": "2021-09-13T20:00:08.231680Z",
     "iopub.status.idle": "2021-09-13T20:00:08.660836Z",
     "shell.execute_reply": "2021-09-13T20:00:08.662050Z"
    },
    "papermill": {
     "duration": 0.459399,
     "end_time": "2021-09-13T20:00:08.662449",
     "exception": false,
     "start_time": "2021-09-13T20:00:08.203050",
     "status": "completed"
    },
    "tags": []
   },
   "outputs": [],
   "source": [
    "df = pd.read_sql(\"select * from EBAY_TOP_BERLIN where record_time in (select distinct record_time from EBAY_TOP_BERLIN order by record_time desc limit 2)\", sqlite3.connect(\"UsedObjects.db\"))"
   ]
  },
  {
   "cell_type": "code",
   "execution_count": 5,
   "id": "popular-active",
   "metadata": {
    "execution": {
     "iopub.execute_input": "2021-09-13T20:00:08.748735Z",
     "iopub.status.busy": "2021-09-13T20:00:08.736927Z",
     "iopub.status.idle": "2021-09-13T20:00:08.764733Z",
     "shell.execute_reply": "2021-09-13T20:00:08.765956Z"
    },
    "papermill": {
     "duration": 0.072825,
     "end_time": "2021-09-13T20:00:08.766357",
     "exception": false,
     "start_time": "2021-09-13T20:00:08.693532",
     "status": "completed"
    },
    "tags": []
   },
   "outputs": [],
   "source": [
    "df_pivot = df.pivot_table(index=\"PRODUCT\", columns = \"RECORD_TIME\", values = \"LISTING_COUNT\")"
   ]
  },
  {
   "cell_type": "code",
   "execution_count": 6,
   "id": "union-huntington",
   "metadata": {
    "execution": {
     "iopub.execute_input": "2021-09-13T20:00:08.825556Z",
     "iopub.status.busy": "2021-09-13T20:00:08.823084Z",
     "iopub.status.idle": "2021-09-13T20:00:08.829218Z",
     "shell.execute_reply": "2021-09-13T20:00:08.830559Z"
    },
    "papermill": {
     "duration": 0.042516,
     "end_time": "2021-09-13T20:00:08.831087",
     "exception": false,
     "start_time": "2021-09-13T20:00:08.788571",
     "status": "completed"
    },
    "tags": []
   },
   "outputs": [],
   "source": [
    "df_pivot.columns = [\"stamp_1\", \"stamp_2\"]\n",
    "df_pivot_diff = df_pivot.diff(axis=1)"
   ]
  },
  {
   "cell_type": "code",
   "execution_count": 7,
   "id": "fifth-motion",
   "metadata": {
    "execution": {
     "iopub.execute_input": "2021-09-13T20:00:08.886178Z",
     "iopub.status.busy": "2021-09-13T20:00:08.883951Z",
     "iopub.status.idle": "2021-09-13T20:00:10.352479Z",
     "shell.execute_reply": "2021-09-13T20:00:10.353788Z"
    },
    "papermill": {
     "duration": 1.501108,
     "end_time": "2021-09-13T20:00:10.354217",
     "exception": false,
     "start_time": "2021-09-13T20:00:08.853109",
     "status": "completed"
    },
    "tags": []
   },
   "outputs": [
    {
     "data": {
      "text/plain": [
       "<AxesSubplot:ylabel='PRODUCT'>"
      ]
     },
     "execution_count": 7,
     "metadata": {},
     "output_type": "execute_result"
    },
    {
     "data": {
      "image/png": "[encoded data removed]",
      "text/plain": [
       "<Figure size 432x288 with 1 Axes>"
      ]
     },
     "metadata": {
      "needs_background": "light"
     },
     "output_type": "display_data"
    }
   ],
   "source": [
    "df_pivot_diff.sort_values(\"stamp_2\", ascending = False)[\"stamp_2\"].head(10).plot.barh()"
   ]
  },
  {
   "cell_type": "code",
   "execution_count": null,
   "id": "extra-executive",
   "metadata": {
    "papermill": {
     "duration": 0.02227,
     "end_time": "2021-09-13T20:00:10.400326",
     "exception": false,
     "start_time": "2021-09-13T20:00:10.378056",
     "status": "completed"
    },
    "tags": []
   },
   "outputs": [],
   "source": []
  }
 ],
 "metadata": {
  "kernelspec": {
   "display_name": "Python 3",
   "language": "python",
   "name": "python3"
  },
  "language_info": {
   "codemirror_mode": {
    "name": "ipython",
    "version": 3
   },
   "file_extension": ".py",
   "mimetype": "text/x-python",
   "name": "python",
   "nbconvert_exporter": "python",
   "pygments_lexer": "ipython3",
   "version": "3.9.5"
  },
  "papermill": {
   "default_parameters": {},
   "duration": 6.552603,
   "end_time": "2021-09-13T20:00:11.044282",
   "environment_variables": {},
   "exception": null,
   "input_path": "eBay_Overview.ipynb",
   "output_path": "eBay_Overview.ipynb",
   "parameters": {},
   "start_time": "2021-09-13T20:00:04.491679",
   "version": "2.3.3"
  }
 },
 "nbformat": 4,
 "nbformat_minor": 5
}