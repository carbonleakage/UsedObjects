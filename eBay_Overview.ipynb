{
 "cells": [
  {
   "cell_type": "code",
   "execution_count": 1,
   "id": "reverse-picking",
   "metadata": {
    "execution": {
     "iopub.execute_input": "2021-11-01T16:30:07.954957Z",
     "iopub.status.busy": "2021-11-01T16:30:07.953019Z",
     "iopub.status.idle": "2021-11-01T16:30:08.759287Z",
     "shell.execute_reply": "2021-11-01T16:30:08.760548Z"
    },
    "papermill": {
     "duration": 0.859382,
     "end_time": "2021-11-01T16:30:08.761241",
     "exception": false,
     "start_time": "2021-11-01T16:30:07.901859",
     "status": "completed"
    },
    "tags": []
   },
   "outputs": [],
   "source": [
    "import pandas as pd\n",
    "import sqlite3"
   ]
  },
  {
   "cell_type": "code",
   "execution_count": 2,
   "id": "innovative-syndrome",
   "metadata": {
    "execution": {
     "iopub.execute_input": "2021-11-01T16:30:08.812431Z",
     "iopub.status.busy": "2021-11-01T16:30:08.810579Z",
     "iopub.status.idle": "2021-11-01T16:30:09.512134Z",
     "shell.execute_reply": "2021-11-01T16:30:09.513514Z"
    },
    "papermill": {
     "duration": 0.731474,
     "end_time": "2021-11-01T16:30:09.513943",
     "exception": false,
     "start_time": "2021-11-01T16:30:08.782469",
     "status": "completed"
    },
    "tags": []
   },
   "outputs": [],
   "source": [
    "timestamps = pd.read_sql(\"select distinct record_time from EBAY_TOP_BERLIN order by record_time desc limit 2\", sqlite3.connect(\"UsedObjects.db\"))"
   ]
  },
  {
   "cell_type": "code",
   "execution_count": 3,
   "id": "periodic-identification",
   "metadata": {
    "execution": {
     "iopub.execute_input": "2021-11-01T16:30:09.579963Z",
     "iopub.status.busy": "2021-11-01T16:30:09.577739Z",
     "iopub.status.idle": "2021-11-01T16:30:09.599323Z",
     "shell.execute_reply": "2021-11-01T16:30:09.597987Z"
    },
    "papermill": {
     "duration": 0.065785,
     "end_time": "2021-11-01T16:30:09.599662",
     "exception": false,
     "start_time": "2021-11-01T16:30:09.533877",
     "status": "completed"
    },
    "tags": []
   },
   "outputs": [
    {
     "data": {
      "text/html": [
       "<div>\n",
       "<style scoped>\n",
       "    .dataframe tbody tr th:only-of-type {\n",
       "        vertical-align: middle;\n",
       "    }\n",
       "\n",
       "    .dataframe tbody tr th {\n",
       "        vertical-align: top;\n",
       "    }\n",
       "\n",
       "    .dataframe thead th {\n",
       "        text-align: right;\n",
       "    }\n",
       "</style>\n",
       "<table border=\"1\" class=\"dataframe\">\n",
       "  <thead>\n",
       "    <tr style=\"text-align: right;\">\n",
       "      <th></th>\n",
       "      <th>RECORD_TIME</th>\n",
       "    </tr>\n",
       "  </thead>\n",
       "  <tbody>\n",
       "    <tr>\n",
       "      <th>0</th>\n",
       "      <td>2021-11-01 17:30</td>\n",
       "    </tr>\n",
       "    <tr>\n",
       "      <th>1</th>\n",
       "      <td>2021-11-01 17:00</td>\n",
       "    </tr>\n",
       "  </tbody>\n",
       "</table>\n",
       "</div>"
      ],
      "text/plain": [
       "        RECORD_TIME\n",
       "0  2021-11-01 17:30\n",
       "1  2021-11-01 17:00"
      ]
     },
     "execution_count": 3,
     "metadata": {},
     "output_type": "execute_result"
    }
   ],
   "source": [
    "timestamps"
   ]
  },
  {
   "cell_type": "code",
   "execution_count": 4,
   "id": "alternate-victory",
   "metadata": {
    "execution": {
     "iopub.execute_input": "2021-11-01T16:30:09.653071Z",
     "iopub.status.busy": "2021-11-01T16:30:09.650734Z",
     "iopub.status.idle": "2021-11-01T16:30:10.663467Z",
     "shell.execute_reply": "2021-11-01T16:30:10.664731Z"
    },
    "papermill": {
     "duration": 1.043592,
     "end_time": "2021-11-01T16:30:10.665146",
     "exception": false,
     "start_time": "2021-11-01T16:30:09.621554",
     "status": "completed"
    },
    "tags": []
   },
   "outputs": [],
   "source": [
    "df = pd.read_sql(\"select * from EBAY_TOP_BERLIN where record_time in (select distinct record_time from EBAY_TOP_BERLIN order by record_time desc limit 2)\", sqlite3.connect(\"UsedObjects.db\"))"
   ]
  },
  {
   "cell_type": "code",
   "execution_count": 5,
   "id": "popular-active",
   "metadata": {
    "execution": {
     "iopub.execute_input": "2021-11-01T16:30:10.734376Z",
     "iopub.status.busy": "2021-11-01T16:30:10.723171Z",
     "iopub.status.idle": "2021-11-01T16:30:10.751415Z",
     "shell.execute_reply": "2021-11-01T16:30:10.752625Z"
    },
    "papermill": {
     "duration": 0.067136,
     "end_time": "2021-11-01T16:30:10.753211",
     "exception": false,
     "start_time": "2021-11-01T16:30:10.686075",
     "status": "completed"
    },
    "tags": []
   },
   "outputs": [],
   "source": [
    "df_pivot = df.pivot_table(index=\"PRODUCT\", columns = \"RECORD_TIME\", values = \"LISTING_COUNT\")"
   ]
  },
  {
   "cell_type": "code",
   "execution_count": 6,
   "id": "union-huntington",
   "metadata": {
    "execution": {
     "iopub.execute_input": "2021-11-01T16:30:10.812502Z",
     "iopub.status.busy": "2021-11-01T16:30:10.810203Z",
     "iopub.status.idle": "2021-11-01T16:30:10.817354Z",
     "shell.execute_reply": "2021-11-01T16:30:10.815900Z"
    },
    "papermill": {
     "duration": 0.042019,
     "end_time": "2021-11-01T16:30:10.817712",
     "exception": false,
     "start_time": "2021-11-01T16:30:10.775693",
     "status": "completed"
    },
    "tags": []
   },
   "outputs": [],
   "source": [
    "df_pivot.columns = [\"stamp_1\", \"stamp_2\"]\n",
    "df_pivot_diff = df_pivot.diff(axis=1)"
   ]
  },
  {
   "cell_type": "code",
   "execution_count": 7,
   "id": "fifth-motion",
   "metadata": {
    "execution": {
     "iopub.execute_input": "2021-11-01T16:30:10.871861Z",
     "iopub.status.busy": "2021-11-01T16:30:10.869540Z",
     "iopub.status.idle": "2021-11-01T16:30:12.382752Z",
     "shell.execute_reply": "2021-11-01T16:30:12.384037Z"
    },
    "papermill": {
     "duration": 1.545931,
     "end_time": "2021-11-01T16:30:12.384459",
     "exception": false,
     "start_time": "2021-11-01T16:30:10.838528",
     "status": "completed"
    },
    "tags": []
   },
   "outputs": [
    {
     "data": {
      "text/plain": [
       "<AxesSubplot:ylabel='PRODUCT'>"
      ]
     },
     "execution_count": 7,
     "metadata": {},
     "output_type": "execute_result"
    },
    {
     "data": {
      "image/png": "[encoded data removed]",
      "text/plain": [
       "<Figure size 432x288 with 1 Axes>"
      ]
     },
     "metadata": {
      "needs_background": "light"
     },
     "output_type": "display_data"
    }
   ],
   "source": [
    "df_pivot_diff.sort_values(\"stamp_2\", ascending = False)[\"stamp_2\"].head(10).plot.barh()"
   ]
  },
  {
   "cell_type": "code",
   "execution_count": null,
   "id": "extra-executive",
   "metadata": {
    "papermill": {
     "duration": 0.022524,
     "end_time": "2021-11-01T16:30:12.432857",
     "exception": false,
     "start_time": "2021-11-01T16:30:12.410333",
     "status": "completed"
    },
    "tags": []
   },
   "outputs": [],
   "source": []
  }
 ],
 "metadata": {
  "kernelspec": {
   "display_name": "Python 3",
   "language": "python",
   "name": "python3"
  },
  "language_info": {
   "codemirror_mode": {
    "name": "ipython",
    "version": 3
   },
   "file_extension": ".py",
   "mimetype": "text/x-python",
   "name": "python",
   "nbconvert_exporter": "python",
   "pygments_lexer": "ipython3",
   "version": "3.9.5"
  },
  "papermill": {
   "default_parameters": {},
   "duration": 7.589688,
   "end_time": "2021-11-01T16:30:13.076230",
   "environment_variables": {},
   "exception": null,
   "input_path": "eBay_Overview.ipynb",
   "output_path": "eBay_Overview.ipynb",
   "parameters": {},
   "start_time": "2021-11-01T16:30:05.486542",
   "version": "2.3.3"
  }
 },
 "nbformat": 4,
 "nbformat_minor": 5
}