{
 "cells": [
  {
   "cell_type": "code",
   "execution_count": 1,
   "id": "reverse-picking",
   "metadata": {
    "execution": {
     "iopub.execute_input": "2021-10-21T05:00:07.114598Z",
     "iopub.status.busy": "2021-10-21T05:00:07.112558Z",
     "iopub.status.idle": "2021-10-21T05:00:07.920621Z",
     "shell.execute_reply": "2021-10-21T05:00:07.921990Z"
    },
    "papermill": {
     "duration": 0.860475,
     "end_time": "2021-10-21T05:00:07.922616",
     "exception": false,
     "start_time": "2021-10-21T05:00:07.062141",
     "status": "completed"
    },
    "tags": []
   },
   "outputs": [],
   "source": [
    "import pandas as pd\n",
    "import sqlite3"
   ]
  },
  {
   "cell_type": "code",
   "execution_count": 2,
   "id": "innovative-syndrome",
   "metadata": {
    "execution": {
     "iopub.execute_input": "2021-10-21T05:00:07.973812Z",
     "iopub.status.busy": "2021-10-21T05:00:07.971790Z",
     "iopub.status.idle": "2021-10-21T05:00:08.556122Z",
     "shell.execute_reply": "2021-10-21T05:00:08.557398Z"
    },
    "papermill": {
     "duration": 0.613768,
     "end_time": "2021-10-21T05:00:08.557805",
     "exception": false,
     "start_time": "2021-10-21T05:00:07.944037",
     "status": "completed"
    },
    "tags": []
   },
   "outputs": [],
   "source": [
    "timestamps = pd.read_sql(\"select distinct record_time from EBAY_TOP_BERLIN order by record_time desc limit 2\", sqlite3.connect(\"UsedObjects.db\"))"
   ]
  },
  {
   "cell_type": "code",
   "execution_count": 3,
   "id": "periodic-identification",
   "metadata": {
    "execution": {
     "iopub.execute_input": "2021-10-21T05:00:08.632103Z",
     "iopub.status.busy": "2021-10-21T05:00:08.630070Z",
     "iopub.status.idle": "2021-10-21T05:00:08.651352Z",
     "shell.execute_reply": "2021-10-21T05:00:08.652532Z"
    },
    "papermill": {
     "duration": 0.069521,
     "end_time": "2021-10-21T05:00:08.653003",
     "exception": false,
     "start_time": "2021-10-21T05:00:08.583482",
     "status": "completed"
    },
    "tags": []
   },
   "outputs": [
    {
     "data": {
      "text/html": [
       "<div>\n",
       "<style scoped>\n",
       "    .dataframe tbody tr th:only-of-type {\n",
       "        vertical-align: middle;\n",
       "    }\n",
       "\n",
       "    .dataframe tbody tr th {\n",
       "        vertical-align: top;\n",
       "    }\n",
       "\n",
       "    .dataframe thead th {\n",
       "        text-align: right;\n",
       "    }\n",
       "</style>\n",
       "<table border=\"1\" class=\"dataframe\">\n",
       "  <thead>\n",
       "    <tr style=\"text-align: right;\">\n",
       "      <th></th>\n",
       "      <th>RECORD_TIME</th>\n",
       "    </tr>\n",
       "  </thead>\n",
       "  <tbody>\n",
       "    <tr>\n",
       "      <th>0</th>\n",
       "      <td>2021-10-21 07:00</td>\n",
       "    </tr>\n",
       "    <tr>\n",
       "      <th>1</th>\n",
       "      <td>2021-10-21 06:30</td>\n",
       "    </tr>\n",
       "  </tbody>\n",
       "</table>\n",
       "</div>"
      ],
      "text/plain": [
       "        RECORD_TIME\n",
       "0  2021-10-21 07:00\n",
       "1  2021-10-21 06:30"
      ]
     },
     "execution_count": 3,
     "metadata": {},
     "output_type": "execute_result"
    }
   ],
   "source": [
    "timestamps"
   ]
  },
  {
   "cell_type": "code",
   "execution_count": 4,
   "id": "alternate-victory",
   "metadata": {
    "execution": {
     "iopub.execute_input": "2021-10-21T05:00:08.704574Z",
     "iopub.status.busy": "2021-10-21T05:00:08.702754Z",
     "iopub.status.idle": "2021-10-21T05:00:09.552932Z",
     "shell.execute_reply": "2021-10-21T05:00:09.554332Z"
    },
    "papermill": {
     "duration": 0.880359,
     "end_time": "2021-10-21T05:00:09.554754",
     "exception": false,
     "start_time": "2021-10-21T05:00:08.674395",
     "status": "completed"
    },
    "tags": []
   },
   "outputs": [],
   "source": [
    "df = pd.read_sql(\"select * from EBAY_TOP_BERLIN where record_time in (select distinct record_time from EBAY_TOP_BERLIN order by record_time desc limit 2)\", sqlite3.connect(\"UsedObjects.db\"))"
   ]
  },
  {
   "cell_type": "code",
   "execution_count": 5,
   "id": "popular-active",
   "metadata": {
    "execution": {
     "iopub.execute_input": "2021-10-21T05:00:09.625634Z",
     "iopub.status.busy": "2021-10-21T05:00:09.613133Z",
     "iopub.status.idle": "2021-10-21T05:00:09.641380Z",
     "shell.execute_reply": "2021-10-21T05:00:09.642609Z"
    },
    "papermill": {
     "duration": 0.067646,
     "end_time": "2021-10-21T05:00:09.643000",
     "exception": false,
     "start_time": "2021-10-21T05:00:09.575354",
     "status": "completed"
    },
    "tags": []
   },
   "outputs": [],
   "source": [
    "df_pivot = df.pivot_table(index=\"PRODUCT\", columns = \"RECORD_TIME\", values = \"LISTING_COUNT\")"
   ]
  },
  {
   "cell_type": "code",
   "execution_count": 6,
   "id": "union-huntington",
   "metadata": {
    "execution": {
     "iopub.execute_input": "2021-10-21T05:00:09.699353Z",
     "iopub.status.busy": "2021-10-21T05:00:09.697260Z",
     "iopub.status.idle": "2021-10-21T05:00:09.702483Z",
     "shell.execute_reply": "2021-10-21T05:00:09.703683Z"
    },
    "papermill": {
     "duration": 0.040302,
     "end_time": "2021-10-21T05:00:09.704110",
     "exception": false,
     "start_time": "2021-10-21T05:00:09.663808",
     "status": "completed"
    },
    "tags": []
   },
   "outputs": [],
   "source": [
    "df_pivot.columns = [\"stamp_1\", \"stamp_2\"]\n",
    "df_pivot_diff = df_pivot.diff(axis=1)"
   ]
  },
  {
   "cell_type": "code",
   "execution_count": 7,
   "id": "fifth-motion",
   "metadata": {
    "execution": {
     "iopub.execute_input": "2021-10-21T05:00:09.758378Z",
     "iopub.status.busy": "2021-10-21T05:00:09.755740Z",
     "iopub.status.idle": "2021-10-21T05:00:11.224009Z",
     "shell.execute_reply": "2021-10-21T05:00:11.225374Z"
    },
    "papermill": {
     "duration": 1.501402,
     "end_time": "2021-10-21T05:00:11.225836",
     "exception": false,
     "start_time": "2021-10-21T05:00:09.724434",
     "status": "completed"
    },
    "tags": []
   },
   "outputs": [
    {
     "data": {
      "text/plain": [
       "<AxesSubplot:ylabel='PRODUCT'>"
      ]
     },
     "execution_count": 7,
     "metadata": {},
     "output_type": "execute_result"
    },
    {
     "data": {
      "image/png": "[encoded data removed]",
      "text/plain": [
       "<Figure size 432x288 with 1 Axes>"
      ]
     },
     "metadata": {
      "needs_background": "light"
     },
     "output_type": "display_data"
    }
   ],
   "source": [
    "df_pivot_diff.sort_values(\"stamp_2\", ascending = False)[\"stamp_2\"].head(10).plot.barh()"
   ]
  },
  {
   "cell_type": "code",
   "execution_count": null,
   "id": "extra-executive",
   "metadata": {
    "papermill": {
     "duration": 0.022069,
     "end_time": "2021-10-21T05:00:11.271783",
     "exception": false,
     "start_time": "2021-10-21T05:00:11.249714",
     "status": "completed"
    },
    "tags": []
   },
   "outputs": [],
   "source": []
  }
 ],
 "metadata": {
  "kernelspec": {
   "display_name": "Python 3",
   "language": "python",
   "name": "python3"
  },
  "language_info": {
   "codemirror_mode": {
    "name": "ipython",
    "version": 3
   },
   "file_extension": ".py",
   "mimetype": "text/x-python",
   "name": "python",
   "nbconvert_exporter": "python",
   "pygments_lexer": "ipython3",
   "version": "3.9.5"
  },
  "papermill": {
   "default_parameters": {},
   "duration": 7.818391,
   "end_time": "2021-10-21T05:00:12.472088",
   "environment_variables": {},
   "exception": null,
   "input_path": "eBay_Overview.ipynb",
   "output_path": "eBay_Overview.ipynb",
   "parameters": {},
   "start_time": "2021-10-21T05:00:04.653697",
   "version": "2.3.3"
  }
 },
 "nbformat": 4,
 "nbformat_minor": 5
}