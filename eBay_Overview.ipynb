{
 "cells": [
  {
   "cell_type": "code",
   "execution_count": 1,
   "id": "reverse-picking",
   "metadata": {
    "execution": {
     "iopub.execute_input": "2021-09-21T18:00:07.456428Z",
     "iopub.status.busy": "2021-09-21T18:00:07.454412Z",
     "iopub.status.idle": "2021-09-21T18:00:08.258477Z",
     "shell.execute_reply": "2021-09-21T18:00:08.259907Z"
    },
    "papermill": {
     "duration": 0.856277,
     "end_time": "2021-09-21T18:00:08.260547",
     "exception": false,
     "start_time": "2021-09-21T18:00:07.404270",
     "status": "completed"
    },
    "tags": []
   },
   "outputs": [],
   "source": [
    "import pandas as pd\n",
    "import sqlite3"
   ]
  },
  {
   "cell_type": "code",
   "execution_count": 2,
   "id": "innovative-syndrome",
   "metadata": {
    "execution": {
     "iopub.execute_input": "2021-09-21T18:00:08.311406Z",
     "iopub.status.busy": "2021-09-21T18:00:08.309229Z",
     "iopub.status.idle": "2021-09-21T18:00:08.656044Z",
     "shell.execute_reply": "2021-09-21T18:00:08.657245Z"
    },
    "papermill": {
     "duration": 0.377059,
     "end_time": "2021-09-21T18:00:08.657640",
     "exception": false,
     "start_time": "2021-09-21T18:00:08.280581",
     "status": "completed"
    },
    "tags": []
   },
   "outputs": [],
   "source": [
    "timestamps = pd.read_sql(\"select distinct record_time from EBAY_TOP_BERLIN order by record_time desc limit 2\", sqlite3.connect(\"UsedObjects.db\"))"
   ]
  },
  {
   "cell_type": "code",
   "execution_count": 3,
   "id": "periodic-identification",
   "metadata": {
    "execution": {
     "iopub.execute_input": "2021-09-21T18:00:08.726026Z",
     "iopub.status.busy": "2021-09-21T18:00:08.724030Z",
     "iopub.status.idle": "2021-09-21T18:00:08.743866Z",
     "shell.execute_reply": "2021-09-21T18:00:08.745470Z"
    },
    "papermill": {
     "duration": 0.065935,
     "end_time": "2021-09-21T18:00:08.745964",
     "exception": false,
     "start_time": "2021-09-21T18:00:08.680029",
     "status": "completed"
    },
    "tags": []
   },
   "outputs": [
    {
     "data": {
      "text/html": [
       "<div>\n",
       "<style scoped>\n",
       "    .dataframe tbody tr th:only-of-type {\n",
       "        vertical-align: middle;\n",
       "    }\n",
       "\n",
       "    .dataframe tbody tr th {\n",
       "        vertical-align: top;\n",
       "    }\n",
       "\n",
       "    .dataframe thead th {\n",
       "        text-align: right;\n",
       "    }\n",
       "</style>\n",
       "<table border=\"1\" class=\"dataframe\">\n",
       "  <thead>\n",
       "    <tr style=\"text-align: right;\">\n",
       "      <th></th>\n",
       "      <th>RECORD_TIME</th>\n",
       "    </tr>\n",
       "  </thead>\n",
       "  <tbody>\n",
       "    <tr>\n",
       "      <th>0</th>\n",
       "      <td>2021-09-21 20:00</td>\n",
       "    </tr>\n",
       "    <tr>\n",
       "      <th>1</th>\n",
       "      <td>2021-09-21 19:30</td>\n",
       "    </tr>\n",
       "  </tbody>\n",
       "</table>\n",
       "</div>"
      ],
      "text/plain": [
       "        RECORD_TIME\n",
       "0  2021-09-21 20:00\n",
       "1  2021-09-21 19:30"
      ]
     },
     "execution_count": 3,
     "metadata": {},
     "output_type": "execute_result"
    }
   ],
   "source": [
    "timestamps"
   ]
  },
  {
   "cell_type": "code",
   "execution_count": 4,
   "id": "alternate-victory",
   "metadata": {
    "execution": {
     "iopub.execute_input": "2021-09-21T18:00:08.798352Z",
     "iopub.status.busy": "2021-09-21T18:00:08.796448Z",
     "iopub.status.idle": "2021-09-21T18:00:09.298372Z",
     "shell.execute_reply": "2021-09-21T18:00:09.299731Z"
    },
    "papermill": {
     "duration": 0.532379,
     "end_time": "2021-09-21T18:00:09.300151",
     "exception": false,
     "start_time": "2021-09-21T18:00:08.767772",
     "status": "completed"
    },
    "tags": []
   },
   "outputs": [],
   "source": [
    "df = pd.read_sql(\"select * from EBAY_TOP_BERLIN where record_time in (select distinct record_time from EBAY_TOP_BERLIN order by record_time desc limit 2)\", sqlite3.connect(\"UsedObjects.db\"))"
   ]
  },
  {
   "cell_type": "code",
   "execution_count": 5,
   "id": "popular-active",
   "metadata": {
    "execution": {
     "iopub.execute_input": "2021-09-21T18:00:09.370487Z",
     "iopub.status.busy": "2021-09-21T18:00:09.368415Z",
     "iopub.status.idle": "2021-09-21T18:00:09.394515Z",
     "shell.execute_reply": "2021-09-21T18:00:09.395800Z"
    },
    "papermill": {
     "duration": 0.070124,
     "end_time": "2021-09-21T18:00:09.396199",
     "exception": false,
     "start_time": "2021-09-21T18:00:09.326075",
     "status": "completed"
    },
    "tags": []
   },
   "outputs": [],
   "source": [
    "df_pivot = df.pivot_table(index=\"PRODUCT\", columns = \"RECORD_TIME\", values = \"LISTING_COUNT\")"
   ]
  },
  {
   "cell_type": "code",
   "execution_count": 6,
   "id": "union-huntington",
   "metadata": {
    "execution": {
     "iopub.execute_input": "2021-09-21T18:00:09.454473Z",
     "iopub.status.busy": "2021-09-21T18:00:09.452214Z",
     "iopub.status.idle": "2021-09-21T18:00:09.458050Z",
     "shell.execute_reply": "2021-09-21T18:00:09.459539Z"
    },
    "papermill": {
     "duration": 0.041559,
     "end_time": "2021-09-21T18:00:09.459990",
     "exception": false,
     "start_time": "2021-09-21T18:00:09.418431",
     "status": "completed"
    },
    "tags": []
   },
   "outputs": [],
   "source": [
    "df_pivot.columns = [\"stamp_1\", \"stamp_2\"]\n",
    "df_pivot_diff = df_pivot.diff(axis=1)"
   ]
  },
  {
   "cell_type": "code",
   "execution_count": 7,
   "id": "fifth-motion",
   "metadata": {
    "execution": {
     "iopub.execute_input": "2021-09-21T18:00:09.513675Z",
     "iopub.status.busy": "2021-09-21T18:00:09.511402Z",
     "iopub.status.idle": "2021-09-21T18:00:10.991738Z",
     "shell.execute_reply": "2021-09-21T18:00:10.993177Z"
    },
    "papermill": {
     "duration": 1.513666,
     "end_time": "2021-09-21T18:00:10.993623",
     "exception": false,
     "start_time": "2021-09-21T18:00:09.479957",
     "status": "completed"
    },
    "tags": []
   },
   "outputs": [
    {
     "data": {
      "text/plain": [
       "<AxesSubplot:ylabel='PRODUCT'>"
      ]
     },
     "execution_count": 7,
     "metadata": {},
     "output_type": "execute_result"
    },
    {
     "data": {
      "image/png": "[encoded data removed]",
      "text/plain": [
       "<Figure size 432x288 with 1 Axes>"
      ]
     },
     "metadata": {
      "needs_background": "light"
     },
     "output_type": "display_data"
    }
   ],
   "source": [
    "df_pivot_diff.sort_values(\"stamp_2\", ascending = False)[\"stamp_2\"].head(10).plot.barh()"
   ]
  },
  {
   "cell_type": "code",
   "execution_count": null,
   "id": "extra-executive",
   "metadata": {
    "papermill": {
     "duration": 0.022257,
     "end_time": "2021-09-21T18:00:11.040201",
     "exception": false,
     "start_time": "2021-09-21T18:00:11.017944",
     "status": "completed"
    },
    "tags": []
   },
   "outputs": [],
   "source": []
  }
 ],
 "metadata": {
  "kernelspec": {
   "display_name": "Python 3",
   "language": "python",
   "name": "python3"
  },
  "language_info": {
   "codemirror_mode": {
    "name": "ipython",
    "version": 3
   },
   "file_extension": ".py",
   "mimetype": "text/x-python",
   "name": "python",
   "nbconvert_exporter": "python",
   "pygments_lexer": "ipython3",
   "version": "3.9.5"
  },
  "papermill": {
   "default_parameters": {},
   "duration": 6.684437,
   "end_time": "2021-09-21T18:00:11.683686",
   "environment_variables": {},
   "exception": null,
   "input_path": "eBay_Overview.ipynb",
   "output_path": "eBay_Overview.ipynb",
   "parameters": {},
   "start_time": "2021-09-21T18:00:04.999249",
   "version": "2.3.3"
  }
 },
 "nbformat": 4,
 "nbformat_minor": 5
}