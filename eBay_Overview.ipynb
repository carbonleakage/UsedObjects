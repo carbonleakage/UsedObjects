{
 "cells": [
  {
   "cell_type": "code",
   "execution_count": 1,
   "id": "reverse-picking",
   "metadata": {
    "execution": {
     "iopub.execute_input": "2021-09-01T18:30:06.620904Z",
     "iopub.status.busy": "2021-09-01T18:30:06.618980Z",
     "iopub.status.idle": "2021-09-01T18:30:07.423734Z",
     "shell.execute_reply": "2021-09-01T18:30:07.424995Z"
    },
    "papermill": {
     "duration": 0.857351,
     "end_time": "2021-09-01T18:30:07.425603",
     "exception": false,
     "start_time": "2021-09-01T18:30:06.568252",
     "status": "completed"
    },
    "tags": []
   },
   "outputs": [],
   "source": [
    "import pandas as pd\n",
    "import sqlite3"
   ]
  },
  {
   "cell_type": "code",
   "execution_count": 2,
   "id": "innovative-syndrome",
   "metadata": {
    "execution": {
     "iopub.execute_input": "2021-09-01T18:30:07.476843Z",
     "iopub.status.busy": "2021-09-01T18:30:07.474961Z",
     "iopub.status.idle": "2021-09-01T18:30:07.659955Z",
     "shell.execute_reply": "2021-09-01T18:30:07.658431Z"
    },
    "papermill": {
     "duration": 0.213064,
     "end_time": "2021-09-01T18:30:07.660306",
     "exception": false,
     "start_time": "2021-09-01T18:30:07.447242",
     "status": "completed"
    },
    "tags": []
   },
   "outputs": [],
   "source": [
    "timestamps = pd.read_sql(\"select distinct record_time from EBAY_TOP_BERLIN order by record_time desc limit 2\", sqlite3.connect(\"UsedObjects.db\"))"
   ]
  },
  {
   "cell_type": "code",
   "execution_count": 3,
   "id": "periodic-identification",
   "metadata": {
    "execution": {
     "iopub.execute_input": "2021-09-01T18:30:07.725529Z",
     "iopub.status.busy": "2021-09-01T18:30:07.723539Z",
     "iopub.status.idle": "2021-09-01T18:30:07.743354Z",
     "shell.execute_reply": "2021-09-01T18:30:07.744759Z"
    },
    "papermill": {
     "duration": 0.065531,
     "end_time": "2021-09-01T18:30:07.745237",
     "exception": false,
     "start_time": "2021-09-01T18:30:07.679706",
     "status": "completed"
    },
    "tags": []
   },
   "outputs": [
    {
     "data": {
      "text/html": [
       "<div>\n",
       "<style scoped>\n",
       "    .dataframe tbody tr th:only-of-type {\n",
       "        vertical-align: middle;\n",
       "    }\n",
       "\n",
       "    .dataframe tbody tr th {\n",
       "        vertical-align: top;\n",
       "    }\n",
       "\n",
       "    .dataframe thead th {\n",
       "        text-align: right;\n",
       "    }\n",
       "</style>\n",
       "<table border=\"1\" class=\"dataframe\">\n",
       "  <thead>\n",
       "    <tr style=\"text-align: right;\">\n",
       "      <th></th>\n",
       "      <th>RECORD_TIME</th>\n",
       "    </tr>\n",
       "  </thead>\n",
       "  <tbody>\n",
       "    <tr>\n",
       "      <th>0</th>\n",
       "      <td>2021-09-01 20:30</td>\n",
       "    </tr>\n",
       "    <tr>\n",
       "      <th>1</th>\n",
       "      <td>2021-09-01 20:00</td>\n",
       "    </tr>\n",
       "  </tbody>\n",
       "</table>\n",
       "</div>"
      ],
      "text/plain": [
       "        RECORD_TIME\n",
       "0  2021-09-01 20:30\n",
       "1  2021-09-01 20:00"
      ]
     },
     "execution_count": 3,
     "metadata": {},
     "output_type": "execute_result"
    }
   ],
   "source": [
    "timestamps"
   ]
  },
  {
   "cell_type": "code",
   "execution_count": 4,
   "id": "alternate-victory",
   "metadata": {
    "execution": {
     "iopub.execute_input": "2021-09-01T18:30:07.797293Z",
     "iopub.status.busy": "2021-09-01T18:30:07.795288Z",
     "iopub.status.idle": "2021-09-01T18:30:08.075933Z",
     "shell.execute_reply": "2021-09-01T18:30:08.077215Z"
    },
    "papermill": {
     "duration": 0.310962,
     "end_time": "2021-09-01T18:30:08.077602",
     "exception": false,
     "start_time": "2021-09-01T18:30:07.766640",
     "status": "completed"
    },
    "tags": []
   },
   "outputs": [],
   "source": [
    "df = pd.read_sql(\"select * from EBAY_TOP_BERLIN where record_time in (select distinct record_time from EBAY_TOP_BERLIN order by record_time desc limit 2)\", sqlite3.connect(\"UsedObjects.db\"))"
   ]
  },
  {
   "cell_type": "code",
   "execution_count": 5,
   "id": "popular-active",
   "metadata": {
    "execution": {
     "iopub.execute_input": "2021-09-01T18:30:08.157154Z",
     "iopub.status.busy": "2021-09-01T18:30:08.144815Z",
     "iopub.status.idle": "2021-09-01T18:30:08.175750Z",
     "shell.execute_reply": "2021-09-01T18:30:08.176966Z"
    },
    "papermill": {
     "duration": 0.074005,
     "end_time": "2021-09-01T18:30:08.177355",
     "exception": false,
     "start_time": "2021-09-01T18:30:08.103350",
     "status": "completed"
    },
    "tags": []
   },
   "outputs": [],
   "source": [
    "df_pivot = df.pivot_table(index=\"PRODUCT\", columns = \"RECORD_TIME\", values = \"LISTING_COUNT\")"
   ]
  },
  {
   "cell_type": "code",
   "execution_count": 6,
   "id": "union-huntington",
   "metadata": {
    "execution": {
     "iopub.execute_input": "2021-09-01T18:30:08.233059Z",
     "iopub.status.busy": "2021-09-01T18:30:08.231115Z",
     "iopub.status.idle": "2021-09-01T18:30:08.236191Z",
     "shell.execute_reply": "2021-09-01T18:30:08.237305Z"
    },
    "papermill": {
     "duration": 0.039591,
     "end_time": "2021-09-01T18:30:08.237704",
     "exception": false,
     "start_time": "2021-09-01T18:30:08.198113",
     "status": "completed"
    },
    "tags": []
   },
   "outputs": [],
   "source": [
    "df_pivot.columns = [\"stamp_1\", \"stamp_2\"]\n",
    "df_pivot_diff = df_pivot.diff(axis=1)"
   ]
  },
  {
   "cell_type": "code",
   "execution_count": 7,
   "id": "fifth-motion",
   "metadata": {
    "execution": {
     "iopub.execute_input": "2021-09-01T18:30:08.291972Z",
     "iopub.status.busy": "2021-09-01T18:30:08.289420Z",
     "iopub.status.idle": "2021-09-01T18:30:09.801780Z",
     "shell.execute_reply": "2021-09-01T18:30:09.803161Z"
    },
    "papermill": {
     "duration": 1.545503,
     "end_time": "2021-09-01T18:30:09.803622",
     "exception": false,
     "start_time": "2021-09-01T18:30:08.258119",
     "status": "completed"
    },
    "tags": []
   },
   "outputs": [
    {
     "data": {
      "text/plain": [
       "<AxesSubplot:ylabel='PRODUCT'>"
      ]
     },
     "execution_count": 7,
     "metadata": {},
     "output_type": "execute_result"
    },
    {
     "data": {
      "image/png": "[encoded data removed]",
      "text/plain": [
       "<Figure size 432x288 with 1 Axes>"
      ]
     },
     "metadata": {
      "needs_background": "light"
     },
     "output_type": "display_data"
    }
   ],
   "source": [
    "df_pivot_diff.sort_values(\"stamp_2\", ascending = False)[\"stamp_2\"].head(10).plot.barh()"
   ]
  },
  {
   "cell_type": "code",
   "execution_count": null,
   "id": "extra-executive",
   "metadata": {
    "papermill": {
     "duration": 0.022259,
     "end_time": "2021-09-01T18:30:09.850776",
     "exception": false,
     "start_time": "2021-09-01T18:30:09.828517",
     "status": "completed"
    },
    "tags": []
   },
   "outputs": [],
   "source": []
  }
 ],
 "metadata": {
  "kernelspec": {
   "display_name": "Python 3",
   "language": "python",
   "name": "python3"
  },
  "language_info": {
   "codemirror_mode": {
    "name": "ipython",
    "version": 3
   },
   "file_extension": ".py",
   "mimetype": "text/x-python",
   "name": "python",
   "nbconvert_exporter": "python",
   "pygments_lexer": "ipython3",
   "version": "3.9.5"
  },
  "papermill": {
   "default_parameters": {},
   "duration": 6.323548,
   "end_time": "2021-09-01T18:30:10.493861",
   "environment_variables": {},
   "exception": null,
   "input_path": "eBay_Overview.ipynb",
   "output_path": "eBay_Overview.ipynb",
   "parameters": {},
   "start_time": "2021-09-01T18:30:04.170313",
   "version": "2.3.3"
  }
 },
 "nbformat": 4,
 "nbformat_minor": 5
}