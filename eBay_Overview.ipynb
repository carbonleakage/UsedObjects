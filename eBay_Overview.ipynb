{
 "cells": [
  {
   "cell_type": "code",
   "execution_count": 1,
   "id": "reverse-picking",
   "metadata": {
    "execution": {
     "iopub.execute_input": "2021-12-16T22:30:07.228393Z",
     "iopub.status.busy": "2021-12-16T22:30:07.225852Z",
     "iopub.status.idle": "2021-12-16T22:30:08.180220Z",
     "shell.execute_reply": "2021-12-16T22:30:08.182676Z"
    },
    "papermill": {
     "duration": 1.009393,
     "end_time": "2021-12-16T22:30:08.183409",
     "exception": false,
     "start_time": "2021-12-16T22:30:07.174016",
     "status": "completed"
    },
    "tags": []
   },
   "outputs": [],
   "source": [
    "import pandas as pd\n",
    "import sqlite3"
   ]
  },
  {
   "cell_type": "code",
   "execution_count": 2,
   "id": "innovative-syndrome",
   "metadata": {
    "execution": {
     "iopub.execute_input": "2021-12-16T22:30:08.242966Z",
     "iopub.status.busy": "2021-12-16T22:30:08.240436Z",
     "iopub.status.idle": "2021-12-16T22:30:09.329634Z",
     "shell.execute_reply": "2021-12-16T22:30:09.330937Z"
    },
    "papermill": {
     "duration": 1.118503,
     "end_time": "2021-12-16T22:30:09.331347",
     "exception": false,
     "start_time": "2021-12-16T22:30:08.212844",
     "status": "completed"
    },
    "tags": []
   },
   "outputs": [],
   "source": [
    "timestamps = pd.read_sql(\"select distinct record_time from EBAY_TOP_BERLIN order by record_time desc limit 2\", sqlite3.connect(\"UsedObjects.db\"))"
   ]
  },
  {
   "cell_type": "code",
   "execution_count": 3,
   "id": "periodic-identification",
   "metadata": {
    "execution": {
     "iopub.execute_input": "2021-12-16T22:30:09.396082Z",
     "iopub.status.busy": "2021-12-16T22:30:09.394059Z",
     "iopub.status.idle": "2021-12-16T22:30:09.414134Z",
     "shell.execute_reply": "2021-12-16T22:30:09.415431Z"
    },
    "papermill": {
     "duration": 0.065075,
     "end_time": "2021-12-16T22:30:09.415853",
     "exception": false,
     "start_time": "2021-12-16T22:30:09.350778",
     "status": "completed"
    },
    "tags": []
   },
   "outputs": [
    {
     "data": {
      "text/html": [
       "<div>\n",
       "<style scoped>\n",
       "    .dataframe tbody tr th:only-of-type {\n",
       "        vertical-align: middle;\n",
       "    }\n",
       "\n",
       "    .dataframe tbody tr th {\n",
       "        vertical-align: top;\n",
       "    }\n",
       "\n",
       "    .dataframe thead th {\n",
       "        text-align: right;\n",
       "    }\n",
       "</style>\n",
       "<table border=\"1\" class=\"dataframe\">\n",
       "  <thead>\n",
       "    <tr style=\"text-align: right;\">\n",
       "      <th></th>\n",
       "      <th>RECORD_TIME</th>\n",
       "    </tr>\n",
       "  </thead>\n",
       "  <tbody>\n",
       "    <tr>\n",
       "      <th>0</th>\n",
       "      <td>2021-12-16 23:30</td>\n",
       "    </tr>\n",
       "    <tr>\n",
       "      <th>1</th>\n",
       "      <td>2021-12-16 23:00</td>\n",
       "    </tr>\n",
       "  </tbody>\n",
       "</table>\n",
       "</div>"
      ],
      "text/plain": [
       "        RECORD_TIME\n",
       "0  2021-12-16 23:30\n",
       "1  2021-12-16 23:00"
      ]
     },
     "execution_count": 3,
     "metadata": {},
     "output_type": "execute_result"
    }
   ],
   "source": [
    "timestamps"
   ]
  },
  {
   "cell_type": "code",
   "execution_count": 4,
   "id": "alternate-victory",
   "metadata": {
    "execution": {
     "iopub.execute_input": "2021-12-16T22:30:09.466430Z",
     "iopub.status.busy": "2021-12-16T22:30:09.464459Z",
     "iopub.status.idle": "2021-12-16T22:30:11.027675Z",
     "shell.execute_reply": "2021-12-16T22:30:11.029842Z"
    },
    "papermill": {
     "duration": 1.594081,
     "end_time": "2021-12-16T22:30:11.030317",
     "exception": false,
     "start_time": "2021-12-16T22:30:09.436236",
     "status": "completed"
    },
    "tags": []
   },
   "outputs": [],
   "source": [
    "df = pd.read_sql(\"select * from EBAY_TOP_BERLIN where record_time in (select distinct record_time from EBAY_TOP_BERLIN order by record_time desc limit 2)\", sqlite3.connect(\"UsedObjects.db\"))"
   ]
  },
  {
   "cell_type": "code",
   "execution_count": 5,
   "id": "popular-active",
   "metadata": {
    "execution": {
     "iopub.execute_input": "2021-12-16T22:30:11.106657Z",
     "iopub.status.busy": "2021-12-16T22:30:11.090888Z",
     "iopub.status.idle": "2021-12-16T22:30:11.126473Z",
     "shell.execute_reply": "2021-12-16T22:30:11.124388Z"
    },
    "papermill": {
     "duration": 0.075928,
     "end_time": "2021-12-16T22:30:11.126888",
     "exception": false,
     "start_time": "2021-12-16T22:30:11.050960",
     "status": "completed"
    },
    "tags": []
   },
   "outputs": [],
   "source": [
    "df_pivot = df.pivot_table(index=\"PRODUCT\", columns = \"RECORD_TIME\", values = \"LISTING_COUNT\")"
   ]
  },
  {
   "cell_type": "code",
   "execution_count": 6,
   "id": "union-huntington",
   "metadata": {
    "execution": {
     "iopub.execute_input": "2021-12-16T22:30:11.187299Z",
     "iopub.status.busy": "2021-12-16T22:30:11.185075Z",
     "iopub.status.idle": "2021-12-16T22:30:11.190733Z",
     "shell.execute_reply": "2021-12-16T22:30:11.192069Z"
    },
    "papermill": {
     "duration": 0.043684,
     "end_time": "2021-12-16T22:30:11.192545",
     "exception": false,
     "start_time": "2021-12-16T22:30:11.148861",
     "status": "completed"
    },
    "tags": []
   },
   "outputs": [],
   "source": [
    "df_pivot.columns = [\"stamp_1\", \"stamp_2\"]\n",
    "df_pivot_diff = df_pivot.diff(axis=1)"
   ]
  },
  {
   "cell_type": "code",
   "execution_count": 7,
   "id": "fifth-motion",
   "metadata": {
    "execution": {
     "iopub.execute_input": "2021-12-16T22:30:11.248779Z",
     "iopub.status.busy": "2021-12-16T22:30:11.246265Z",
     "iopub.status.idle": "2021-12-16T22:30:13.253412Z",
     "shell.execute_reply": "2021-12-16T22:30:13.254794Z"
    },
    "papermill": {
     "duration": 2.042321,
     "end_time": "2021-12-16T22:30:13.255217",
     "exception": false,
     "start_time": "2021-12-16T22:30:11.212896",
     "status": "completed"
    },
    "tags": []
   },
   "outputs": [
    {
     "data": {
      "text/plain": [
       "<AxesSubplot:ylabel='PRODUCT'>"
      ]
     },
     "execution_count": 7,
     "metadata": {},
     "output_type": "execute_result"
    },
    {
     "data": {
      "image/png": "[encoded data removed]",
      "text/plain": [
       "<Figure size 432x288 with 1 Axes>"
      ]
     },
     "metadata": {
      "needs_background": "light"
     },
     "output_type": "display_data"
    }
   ],
   "source": [
    "df_pivot_diff.sort_values(\"stamp_2\", ascending = False)[\"stamp_2\"].head(10).plot.barh()"
   ]
  },
  {
   "cell_type": "code",
   "execution_count": null,
   "id": "extra-executive",
   "metadata": {
    "papermill": {
     "duration": 0.028799,
     "end_time": "2021-12-16T22:30:13.319584",
     "exception": false,
     "start_time": "2021-12-16T22:30:13.290785",
     "status": "completed"
    },
    "tags": []
   },
   "outputs": [],
   "source": []
  }
 ],
 "metadata": {
  "kernelspec": {
   "display_name": "Python 3",
   "language": "python",
   "name": "python3"
  },
  "language_info": {
   "codemirror_mode": {
    "name": "ipython",
    "version": 3
   },
   "file_extension": ".py",
   "mimetype": "text/x-python",
   "name": "python",
   "nbconvert_exporter": "python",
   "pygments_lexer": "ipython3",
   "version": "3.9.5"
  },
  "papermill": {
   "default_parameters": {},
   "duration": 9.51228,
   "end_time": "2021-12-16T22:30:13.964718",
   "environment_variables": {},
   "exception": null,
   "input_path": "eBay_Overview.ipynb",
   "output_path": "eBay_Overview.ipynb",
   "parameters": {},
   "start_time": "2021-12-16T22:30:04.452438",
   "version": "2.3.3"
  }
 },
 "nbformat": 4,
 "nbformat_minor": 5
}