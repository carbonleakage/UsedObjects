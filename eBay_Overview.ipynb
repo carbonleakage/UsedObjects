{
 "cells": [
  {
   "cell_type": "code",
   "execution_count": 1,
   "id": "reverse-picking",
   "metadata": {
    "execution": {
     "iopub.execute_input": "2021-09-17T14:30:07.164785Z",
     "iopub.status.busy": "2021-09-17T14:30:07.162847Z",
     "iopub.status.idle": "2021-09-17T14:30:07.962914Z",
     "shell.execute_reply": "2021-09-17T14:30:07.964378Z"
    },
    "papermill": {
     "duration": 0.852193,
     "end_time": "2021-09-17T14:30:07.965065",
     "exception": false,
     "start_time": "2021-09-17T14:30:07.112872",
     "status": "completed"
    },
    "tags": []
   },
   "outputs": [],
   "source": [
    "import pandas as pd\n",
    "import sqlite3"
   ]
  },
  {
   "cell_type": "code",
   "execution_count": 2,
   "id": "innovative-syndrome",
   "metadata": {
    "execution": {
     "iopub.execute_input": "2021-09-17T14:30:08.015274Z",
     "iopub.status.busy": "2021-09-17T14:30:08.013242Z",
     "iopub.status.idle": "2021-09-17T14:30:08.314705Z",
     "shell.execute_reply": "2021-09-17T14:30:08.316141Z"
    },
    "papermill": {
     "duration": 0.331719,
     "end_time": "2021-09-17T14:30:08.316563",
     "exception": false,
     "start_time": "2021-09-17T14:30:07.984844",
     "status": "completed"
    },
    "tags": []
   },
   "outputs": [],
   "source": [
    "timestamps = pd.read_sql(\"select distinct record_time from EBAY_TOP_BERLIN order by record_time desc limit 2\", sqlite3.connect(\"UsedObjects.db\"))"
   ]
  },
  {
   "cell_type": "code",
   "execution_count": 3,
   "id": "periodic-identification",
   "metadata": {
    "execution": {
     "iopub.execute_input": "2021-09-17T14:30:08.380928Z",
     "iopub.status.busy": "2021-09-17T14:30:08.378873Z",
     "iopub.status.idle": "2021-09-17T14:30:08.400733Z",
     "shell.execute_reply": "2021-09-17T14:30:08.401954Z"
    },
    "papermill": {
     "duration": 0.066386,
     "end_time": "2021-09-17T14:30:08.402346",
     "exception": false,
     "start_time": "2021-09-17T14:30:08.335960",
     "status": "completed"
    },
    "tags": []
   },
   "outputs": [
    {
     "data": {
      "text/html": [
       "<div>\n",
       "<style scoped>\n",
       "    .dataframe tbody tr th:only-of-type {\n",
       "        vertical-align: middle;\n",
       "    }\n",
       "\n",
       "    .dataframe tbody tr th {\n",
       "        vertical-align: top;\n",
       "    }\n",
       "\n",
       "    .dataframe thead th {\n",
       "        text-align: right;\n",
       "    }\n",
       "</style>\n",
       "<table border=\"1\" class=\"dataframe\">\n",
       "  <thead>\n",
       "    <tr style=\"text-align: right;\">\n",
       "      <th></th>\n",
       "      <th>RECORD_TIME</th>\n",
       "    </tr>\n",
       "  </thead>\n",
       "  <tbody>\n",
       "    <tr>\n",
       "      <th>0</th>\n",
       "      <td>2021-09-17 16:30</td>\n",
       "    </tr>\n",
       "    <tr>\n",
       "      <th>1</th>\n",
       "      <td>2021-09-17 16:00</td>\n",
       "    </tr>\n",
       "  </tbody>\n",
       "</table>\n",
       "</div>"
      ],
      "text/plain": [
       "        RECORD_TIME\n",
       "0  2021-09-17 16:30\n",
       "1  2021-09-17 16:00"
      ]
     },
     "execution_count": 3,
     "metadata": {},
     "output_type": "execute_result"
    }
   ],
   "source": [
    "timestamps"
   ]
  },
  {
   "cell_type": "code",
   "execution_count": 4,
   "id": "alternate-victory",
   "metadata": {
    "execution": {
     "iopub.execute_input": "2021-09-17T14:30:08.456049Z",
     "iopub.status.busy": "2021-09-17T14:30:08.453667Z",
     "iopub.status.idle": "2021-09-17T14:30:08.912919Z",
     "shell.execute_reply": "2021-09-17T14:30:08.914135Z"
    },
    "papermill": {
     "duration": 0.489534,
     "end_time": "2021-09-17T14:30:08.914531",
     "exception": false,
     "start_time": "2021-09-17T14:30:08.424997",
     "status": "completed"
    },
    "tags": []
   },
   "outputs": [],
   "source": [
    "df = pd.read_sql(\"select * from EBAY_TOP_BERLIN where record_time in (select distinct record_time from EBAY_TOP_BERLIN order by record_time desc limit 2)\", sqlite3.connect(\"UsedObjects.db\"))"
   ]
  },
  {
   "cell_type": "code",
   "execution_count": 5,
   "id": "popular-active",
   "metadata": {
    "execution": {
     "iopub.execute_input": "2021-09-17T14:30:08.995512Z",
     "iopub.status.busy": "2021-09-17T14:30:08.982959Z",
     "iopub.status.idle": "2021-09-17T14:30:09.012565Z",
     "shell.execute_reply": "2021-09-17T14:30:09.013927Z"
    },
    "papermill": {
     "duration": 0.072679,
     "end_time": "2021-09-17T14:30:09.014366",
     "exception": false,
     "start_time": "2021-09-17T14:30:08.941687",
     "status": "completed"
    },
    "tags": []
   },
   "outputs": [],
   "source": [
    "df_pivot = df.pivot_table(index=\"PRODUCT\", columns = \"RECORD_TIME\", values = \"LISTING_COUNT\")"
   ]
  },
  {
   "cell_type": "code",
   "execution_count": 6,
   "id": "union-huntington",
   "metadata": {
    "execution": {
     "iopub.execute_input": "2021-09-17T14:30:09.071239Z",
     "iopub.status.busy": "2021-09-17T14:30:09.069148Z",
     "iopub.status.idle": "2021-09-17T14:30:09.074453Z",
     "shell.execute_reply": "2021-09-17T14:30:09.075798Z"
    },
    "papermill": {
     "duration": 0.040767,
     "end_time": "2021-09-17T14:30:09.076213",
     "exception": false,
     "start_time": "2021-09-17T14:30:09.035446",
     "status": "completed"
    },
    "tags": []
   },
   "outputs": [],
   "source": [
    "df_pivot.columns = [\"stamp_1\", \"stamp_2\"]\n",
    "df_pivot_diff = df_pivot.diff(axis=1)"
   ]
  },
  {
   "cell_type": "code",
   "execution_count": 7,
   "id": "fifth-motion",
   "metadata": {
    "execution": {
     "iopub.execute_input": "2021-09-17T14:30:09.130467Z",
     "iopub.status.busy": "2021-09-17T14:30:09.128106Z",
     "iopub.status.idle": "2021-09-17T14:30:10.599137Z",
     "shell.execute_reply": "2021-09-17T14:30:10.600444Z"
    },
    "papermill": {
     "duration": 1.504065,
     "end_time": "2021-09-17T14:30:10.600863",
     "exception": false,
     "start_time": "2021-09-17T14:30:09.096798",
     "status": "completed"
    },
    "tags": []
   },
   "outputs": [
    {
     "data": {
      "text/plain": [
       "<AxesSubplot:ylabel='PRODUCT'>"
      ]
     },
     "execution_count": 7,
     "metadata": {},
     "output_type": "execute_result"
    },
    {
     "data": {
      "image/png": "[encoded data removed]",
      "text/plain": [
       "<Figure size 432x288 with 1 Axes>"
      ]
     },
     "metadata": {
      "needs_background": "light"
     },
     "output_type": "display_data"
    }
   ],
   "source": [
    "df_pivot_diff.sort_values(\"stamp_2\", ascending = False)[\"stamp_2\"].head(10).plot.barh()"
   ]
  },
  {
   "cell_type": "code",
   "execution_count": null,
   "id": "extra-executive",
   "metadata": {
    "papermill": {
     "duration": 0.022273,
     "end_time": "2021-09-17T14:30:10.647157",
     "exception": false,
     "start_time": "2021-09-17T14:30:10.624884",
     "status": "completed"
    },
    "tags": []
   },
   "outputs": [],
   "source": []
  }
 ],
 "metadata": {
  "kernelspec": {
   "display_name": "Python 3",
   "language": "python",
   "name": "python3"
  },
  "language_info": {
   "codemirror_mode": {
    "name": "ipython",
    "version": 3
   },
   "file_extension": ".py",
   "mimetype": "text/x-python",
   "name": "python",
   "nbconvert_exporter": "python",
   "pygments_lexer": "ipython3",
   "version": "3.9.5"
  },
  "papermill": {
   "default_parameters": {},
   "duration": 6.568103,
   "end_time": "2021-09-17T14:30:11.289497",
   "environment_variables": {},
   "exception": null,
   "input_path": "eBay_Overview.ipynb",
   "output_path": "eBay_Overview.ipynb",
   "parameters": {},
   "start_time": "2021-09-17T14:30:04.721394",
   "version": "2.3.3"
  }
 },
 "nbformat": 4,
 "nbformat_minor": 5
}