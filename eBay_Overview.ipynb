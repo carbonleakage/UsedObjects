{
 "cells": [
  {
   "cell_type": "code",
   "execution_count": 1,
   "id": "reverse-picking",
   "metadata": {
    "execution": {
     "iopub.execute_input": "2021-12-22T04:00:07.617945Z",
     "iopub.status.busy": "2021-12-22T04:00:07.615281Z",
     "iopub.status.idle": "2021-12-22T04:00:08.581875Z",
     "shell.execute_reply": "2021-12-22T04:00:08.583368Z"
    },
    "papermill": {
     "duration": 1.009422,
     "end_time": "2021-12-22T04:00:08.584127",
     "exception": false,
     "start_time": "2021-12-22T04:00:07.574705",
     "status": "completed"
    },
    "tags": []
   },
   "outputs": [],
   "source": [
    "import pandas as pd\n",
    "import sqlite3"
   ]
  },
  {
   "cell_type": "code",
   "execution_count": 2,
   "id": "innovative-syndrome",
   "metadata": {
    "execution": {
     "iopub.execute_input": "2021-12-22T04:00:08.646947Z",
     "iopub.status.busy": "2021-12-22T04:00:08.641234Z",
     "iopub.status.idle": "2021-12-22T04:00:09.816922Z",
     "shell.execute_reply": "2021-12-22T04:00:09.818390Z"
    },
    "papermill": {
     "duration": 1.204926,
     "end_time": "2021-12-22T04:00:09.818842",
     "exception": false,
     "start_time": "2021-12-22T04:00:08.613916",
     "status": "completed"
    },
    "tags": []
   },
   "outputs": [],
   "source": [
    "timestamps = pd.read_sql(\"select distinct record_time from EBAY_TOP_BERLIN order by record_time desc limit 2\", sqlite3.connect(\"UsedObjects.db\"))"
   ]
  },
  {
   "cell_type": "code",
   "execution_count": 3,
   "id": "periodic-identification",
   "metadata": {
    "execution": {
     "iopub.execute_input": "2021-12-22T04:00:09.887142Z",
     "iopub.status.busy": "2021-12-22T04:00:09.884869Z",
     "iopub.status.idle": "2021-12-22T04:00:09.908500Z",
     "shell.execute_reply": "2021-12-22T04:00:09.906927Z"
    },
    "papermill": {
     "duration": 0.070264,
     "end_time": "2021-12-22T04:00:09.909023",
     "exception": false,
     "start_time": "2021-12-22T04:00:09.838759",
     "status": "completed"
    },
    "tags": []
   },
   "outputs": [
    {
     "data": {
      "text/html": [
       "<div>\n",
       "<style scoped>\n",
       "    .dataframe tbody tr th:only-of-type {\n",
       "        vertical-align: middle;\n",
       "    }\n",
       "\n",
       "    .dataframe tbody tr th {\n",
       "        vertical-align: top;\n",
       "    }\n",
       "\n",
       "    .dataframe thead th {\n",
       "        text-align: right;\n",
       "    }\n",
       "</style>\n",
       "<table border=\"1\" class=\"dataframe\">\n",
       "  <thead>\n",
       "    <tr style=\"text-align: right;\">\n",
       "      <th></th>\n",
       "      <th>RECORD_TIME</th>\n",
       "    </tr>\n",
       "  </thead>\n",
       "  <tbody>\n",
       "    <tr>\n",
       "      <th>0</th>\n",
       "      <td>2021-12-22 05:00</td>\n",
       "    </tr>\n",
       "    <tr>\n",
       "      <th>1</th>\n",
       "      <td>2021-12-22 04:30</td>\n",
       "    </tr>\n",
       "  </tbody>\n",
       "</table>\n",
       "</div>"
      ],
      "text/plain": [
       "        RECORD_TIME\n",
       "0  2021-12-22 05:00\n",
       "1  2021-12-22 04:30"
      ]
     },
     "execution_count": 3,
     "metadata": {},
     "output_type": "execute_result"
    }
   ],
   "source": [
    "timestamps"
   ]
  },
  {
   "cell_type": "code",
   "execution_count": 4,
   "id": "alternate-victory",
   "metadata": {
    "execution": {
     "iopub.execute_input": "2021-12-22T04:00:09.964090Z",
     "iopub.status.busy": "2021-12-22T04:00:09.961671Z",
     "iopub.status.idle": "2021-12-22T04:00:11.661453Z",
     "shell.execute_reply": "2021-12-22T04:00:11.663169Z"
    },
    "papermill": {
     "duration": 1.734443,
     "end_time": "2021-12-22T04:00:11.663696",
     "exception": false,
     "start_time": "2021-12-22T04:00:09.929253",
     "status": "completed"
    },
    "tags": []
   },
   "outputs": [],
   "source": [
    "df = pd.read_sql(\"select * from EBAY_TOP_BERLIN where record_time in (select distinct record_time from EBAY_TOP_BERLIN order by record_time desc limit 2)\", sqlite3.connect(\"UsedObjects.db\"))"
   ]
  },
  {
   "cell_type": "code",
   "execution_count": 5,
   "id": "popular-active",
   "metadata": {
    "execution": {
     "iopub.execute_input": "2021-12-22T04:00:11.738633Z",
     "iopub.status.busy": "2021-12-22T04:00:11.726233Z",
     "iopub.status.idle": "2021-12-22T04:00:11.758242Z",
     "shell.execute_reply": "2021-12-22T04:00:11.759640Z"
    },
    "papermill": {
     "duration": 0.074161,
     "end_time": "2021-12-22T04:00:11.760129",
     "exception": false,
     "start_time": "2021-12-22T04:00:11.685968",
     "status": "completed"
    },
    "tags": []
   },
   "outputs": [],
   "source": [
    "df_pivot = df.pivot_table(index=\"PRODUCT\", columns = \"RECORD_TIME\", values = \"LISTING_COUNT\")"
   ]
  },
  {
   "cell_type": "code",
   "execution_count": 6,
   "id": "union-huntington",
   "metadata": {
    "execution": {
     "iopub.execute_input": "2021-12-22T04:00:11.821172Z",
     "iopub.status.busy": "2021-12-22T04:00:11.818711Z",
     "iopub.status.idle": "2021-12-22T04:00:11.828135Z",
     "shell.execute_reply": "2021-12-22T04:00:11.825826Z"
    },
    "papermill": {
     "duration": 0.047953,
     "end_time": "2021-12-22T04:00:11.828583",
     "exception": false,
     "start_time": "2021-12-22T04:00:11.780630",
     "status": "completed"
    },
    "tags": []
   },
   "outputs": [],
   "source": [
    "df_pivot.columns = [\"stamp_1\", \"stamp_2\"]\n",
    "df_pivot_diff = df_pivot.diff(axis=1)"
   ]
  },
  {
   "cell_type": "code",
   "execution_count": 7,
   "id": "fifth-motion",
   "metadata": {
    "execution": {
     "iopub.execute_input": "2021-12-22T04:00:11.887413Z",
     "iopub.status.busy": "2021-12-22T04:00:11.884912Z",
     "iopub.status.idle": "2021-12-22T04:00:13.851006Z",
     "shell.execute_reply": "2021-12-22T04:00:13.852393Z"
    },
    "papermill": {
     "duration": 2.001721,
     "end_time": "2021-12-22T04:00:13.852927",
     "exception": false,
     "start_time": "2021-12-22T04:00:11.851206",
     "status": "completed"
    },
    "tags": []
   },
   "outputs": [
    {
     "data": {
      "text/plain": [
       "<AxesSubplot:ylabel='PRODUCT'>"
      ]
     },
     "execution_count": 7,
     "metadata": {},
     "output_type": "execute_result"
    },
    {
     "data": {
      "image/png": "[encoded data removed]",
      "text/plain": [
       "<Figure size 432x288 with 1 Axes>"
      ]
     },
     "metadata": {
      "needs_background": "light"
     },
     "output_type": "display_data"
    }
   ],
   "source": [
    "df_pivot_diff.sort_values(\"stamp_2\", ascending = False)[\"stamp_2\"].head(10).plot.barh()"
   ]
  },
  {
   "cell_type": "code",
   "execution_count": null,
   "id": "extra-executive",
   "metadata": {
    "papermill": {
     "duration": 0.027145,
     "end_time": "2021-12-22T04:00:13.913359",
     "exception": false,
     "start_time": "2021-12-22T04:00:13.886214",
     "status": "completed"
    },
    "tags": []
   },
   "outputs": [],
   "source": []
  }
 ],
 "metadata": {
  "kernelspec": {
   "display_name": "Python 3",
   "language": "python",
   "name": "python3"
  },
  "language_info": {
   "codemirror_mode": {
    "name": "ipython",
    "version": 3
   },
   "file_extension": ".py",
   "mimetype": "text/x-python",
   "name": "python",
   "nbconvert_exporter": "python",
   "pygments_lexer": "ipython3",
   "version": "3.9.5"
  },
  "papermill": {
   "default_parameters": {},
   "duration": 9.727292,
   "end_time": "2021-12-22T04:00:14.557248",
   "environment_variables": {},
   "exception": null,
   "input_path": "eBay_Overview.ipynb",
   "output_path": "eBay_Overview.ipynb",
   "parameters": {},
   "start_time": "2021-12-22T04:00:04.829956",
   "version": "2.3.3"
  }
 },
 "nbformat": 4,
 "nbformat_minor": 5
}