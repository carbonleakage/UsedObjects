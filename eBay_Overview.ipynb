{
 "cells": [
  {
   "cell_type": "code",
   "execution_count": 1,
   "id": "reverse-picking",
   "metadata": {
    "execution": {
     "iopub.execute_input": "2021-10-10T23:00:06.741226Z",
     "iopub.status.busy": "2021-10-10T23:00:06.739256Z",
     "iopub.status.idle": "2021-10-10T23:00:07.545774Z",
     "shell.execute_reply": "2021-10-10T23:00:07.547145Z"
    },
    "papermill": {
     "duration": 0.860206,
     "end_time": "2021-10-10T23:00:07.547784",
     "exception": false,
     "start_time": "2021-10-10T23:00:06.687578",
     "status": "completed"
    },
    "tags": []
   },
   "outputs": [],
   "source": [
    "import pandas as pd\n",
    "import sqlite3"
   ]
  },
  {
   "cell_type": "code",
   "execution_count": 2,
   "id": "innovative-syndrome",
   "metadata": {
    "execution": {
     "iopub.execute_input": "2021-10-10T23:00:07.598043Z",
     "iopub.status.busy": "2021-10-10T23:00:07.596169Z",
     "iopub.status.idle": "2021-10-10T23:00:08.123786Z",
     "shell.execute_reply": "2021-10-10T23:00:08.125073Z"
    },
    "papermill": {
     "duration": 0.557021,
     "end_time": "2021-10-10T23:00:08.125473",
     "exception": false,
     "start_time": "2021-10-10T23:00:07.568452",
     "status": "completed"
    },
    "tags": []
   },
   "outputs": [],
   "source": [
    "timestamps = pd.read_sql(\"select distinct record_time from EBAY_TOP_BERLIN order by record_time desc limit 2\", sqlite3.connect(\"UsedObjects.db\"))"
   ]
  },
  {
   "cell_type": "code",
   "execution_count": 3,
   "id": "periodic-identification",
   "metadata": {
    "execution": {
     "iopub.execute_input": "2021-10-10T23:00:08.213400Z",
     "iopub.status.busy": "2021-10-10T23:00:08.211343Z",
     "iopub.status.idle": "2021-10-10T23:00:08.232616Z",
     "shell.execute_reply": "2021-10-10T23:00:08.231180Z"
    },
    "papermill": {
     "duration": 0.088249,
     "end_time": "2021-10-10T23:00:08.232965",
     "exception": false,
     "start_time": "2021-10-10T23:00:08.144716",
     "status": "completed"
    },
    "tags": []
   },
   "outputs": [
    {
     "data": {
      "text/html": [
       "<div>\n",
       "<style scoped>\n",
       "    .dataframe tbody tr th:only-of-type {\n",
       "        vertical-align: middle;\n",
       "    }\n",
       "\n",
       "    .dataframe tbody tr th {\n",
       "        vertical-align: top;\n",
       "    }\n",
       "\n",
       "    .dataframe thead th {\n",
       "        text-align: right;\n",
       "    }\n",
       "</style>\n",
       "<table border=\"1\" class=\"dataframe\">\n",
       "  <thead>\n",
       "    <tr style=\"text-align: right;\">\n",
       "      <th></th>\n",
       "      <th>RECORD_TIME</th>\n",
       "    </tr>\n",
       "  </thead>\n",
       "  <tbody>\n",
       "    <tr>\n",
       "      <th>0</th>\n",
       "      <td>2021-10-11 01:00</td>\n",
       "    </tr>\n",
       "    <tr>\n",
       "      <th>1</th>\n",
       "      <td>2021-10-11 00:30</td>\n",
       "    </tr>\n",
       "  </tbody>\n",
       "</table>\n",
       "</div>"
      ],
      "text/plain": [
       "        RECORD_TIME\n",
       "0  2021-10-11 01:00\n",
       "1  2021-10-11 00:30"
      ]
     },
     "execution_count": 3,
     "metadata": {},
     "output_type": "execute_result"
    }
   ],
   "source": [
    "timestamps"
   ]
  },
  {
   "cell_type": "code",
   "execution_count": 4,
   "id": "alternate-victory",
   "metadata": {
    "execution": {
     "iopub.execute_input": "2021-10-10T23:00:08.283343Z",
     "iopub.status.busy": "2021-10-10T23:00:08.281248Z",
     "iopub.status.idle": "2021-10-10T23:00:09.034241Z",
     "shell.execute_reply": "2021-10-10T23:00:09.035522Z"
    },
    "papermill": {
     "duration": 0.782573,
     "end_time": "2021-10-10T23:00:09.035923",
     "exception": false,
     "start_time": "2021-10-10T23:00:08.253350",
     "status": "completed"
    },
    "tags": []
   },
   "outputs": [],
   "source": [
    "df = pd.read_sql(\"select * from EBAY_TOP_BERLIN where record_time in (select distinct record_time from EBAY_TOP_BERLIN order by record_time desc limit 2)\", sqlite3.connect(\"UsedObjects.db\"))"
   ]
  },
  {
   "cell_type": "code",
   "execution_count": 5,
   "id": "popular-active",
   "metadata": {
    "execution": {
     "iopub.execute_input": "2021-10-10T23:00:09.105940Z",
     "iopub.status.busy": "2021-10-10T23:00:09.093162Z",
     "iopub.status.idle": "2021-10-10T23:00:09.121856Z",
     "shell.execute_reply": "2021-10-10T23:00:09.123316Z"
    },
    "papermill": {
     "duration": 0.06734,
     "end_time": "2021-10-10T23:00:09.123736",
     "exception": false,
     "start_time": "2021-10-10T23:00:09.056396",
     "status": "completed"
    },
    "tags": []
   },
   "outputs": [],
   "source": [
    "df_pivot = df.pivot_table(index=\"PRODUCT\", columns = \"RECORD_TIME\", values = \"LISTING_COUNT\")"
   ]
  },
  {
   "cell_type": "code",
   "execution_count": 6,
   "id": "union-huntington",
   "metadata": {
    "execution": {
     "iopub.execute_input": "2021-10-10T23:00:09.181378Z",
     "iopub.status.busy": "2021-10-10T23:00:09.178913Z",
     "iopub.status.idle": "2021-10-10T23:00:09.184954Z",
     "shell.execute_reply": "2021-10-10T23:00:09.186250Z"
    },
    "papermill": {
     "duration": 0.041851,
     "end_time": "2021-10-10T23:00:09.186667",
     "exception": false,
     "start_time": "2021-10-10T23:00:09.144816",
     "status": "completed"
    },
    "tags": []
   },
   "outputs": [],
   "source": [
    "df_pivot.columns = [\"stamp_1\", \"stamp_2\"]\n",
    "df_pivot_diff = df_pivot.diff(axis=1)"
   ]
  },
  {
   "cell_type": "code",
   "execution_count": 7,
   "id": "fifth-motion",
   "metadata": {
    "execution": {
     "iopub.execute_input": "2021-10-10T23:00:09.240577Z",
     "iopub.status.busy": "2021-10-10T23:00:09.238112Z",
     "iopub.status.idle": "2021-10-10T23:00:10.725038Z",
     "shell.execute_reply": "2021-10-10T23:00:10.726338Z"
    },
    "papermill": {
     "duration": 1.520214,
     "end_time": "2021-10-10T23:00:10.726751",
     "exception": false,
     "start_time": "2021-10-10T23:00:09.206537",
     "status": "completed"
    },
    "tags": []
   },
   "outputs": [
    {
     "data": {
      "text/plain": [
       "<AxesSubplot:ylabel='PRODUCT'>"
      ]
     },
     "execution_count": 7,
     "metadata": {},
     "output_type": "execute_result"
    },
    {
     "data": {
      "image/png": "[encoded data removed]",
      "text/plain": [
       "<Figure size 432x288 with 1 Axes>"
      ]
     },
     "metadata": {
      "needs_background": "light"
     },
     "output_type": "display_data"
    }
   ],
   "source": [
    "df_pivot_diff.sort_values(\"stamp_2\", ascending = False)[\"stamp_2\"].head(10).plot.barh()"
   ]
  },
  {
   "cell_type": "code",
   "execution_count": null,
   "id": "extra-executive",
   "metadata": {
    "papermill": {
     "duration": 0.022028,
     "end_time": "2021-10-10T23:00:10.775030",
     "exception": false,
     "start_time": "2021-10-10T23:00:10.753002",
     "status": "completed"
    },
    "tags": []
   },
   "outputs": [],
   "source": []
  }
 ],
 "metadata": {
  "kernelspec": {
   "display_name": "Python 3",
   "language": "python",
   "name": "python3"
  },
  "language_info": {
   "codemirror_mode": {
    "name": "ipython",
    "version": 3
   },
   "file_extension": ".py",
   "mimetype": "text/x-python",
   "name": "python",
   "nbconvert_exporter": "python",
   "pygments_lexer": "ipython3",
   "version": "3.9.5"
  },
  "papermill": {
   "default_parameters": {},
   "duration": 7.827063,
   "end_time": "2021-10-10T23:00:12.099797",
   "environment_variables": {},
   "exception": null,
   "input_path": "eBay_Overview.ipynb",
   "output_path": "eBay_Overview.ipynb",
   "parameters": {},
   "start_time": "2021-10-10T23:00:04.272734",
   "version": "2.3.3"
  }
 },
 "nbformat": 4,
 "nbformat_minor": 5
}