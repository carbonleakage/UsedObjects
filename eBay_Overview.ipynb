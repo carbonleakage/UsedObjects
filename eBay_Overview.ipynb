{
 "cells": [
  {
   "cell_type": "code",
   "execution_count": 1,
   "id": "reverse-picking",
   "metadata": {
    "execution": {
     "iopub.execute_input": "2021-08-17T01:30:07.460469Z",
     "iopub.status.busy": "2021-08-17T01:30:07.458451Z",
     "iopub.status.idle": "2021-08-17T01:30:08.265487Z",
     "shell.execute_reply": "2021-08-17T01:30:08.266956Z"
    },
    "papermill": {
     "duration": 0.860948,
     "end_time": "2021-08-17T01:30:08.267610",
     "exception": false,
     "start_time": "2021-08-17T01:30:07.406662",
     "status": "completed"
    },
    "tags": []
   },
   "outputs": [],
   "source": [
    "import pandas as pd\n",
    "import sqlite3"
   ]
  },
  {
   "cell_type": "code",
   "execution_count": 2,
   "id": "innovative-syndrome",
   "metadata": {
    "execution": {
     "iopub.execute_input": "2021-08-17T01:30:08.318504Z",
     "iopub.status.busy": "2021-08-17T01:30:08.316517Z",
     "iopub.status.idle": "2021-08-17T01:30:08.380209Z",
     "shell.execute_reply": "2021-08-17T01:30:08.381491Z"
    },
    "papermill": {
     "duration": 0.093874,
     "end_time": "2021-08-17T01:30:08.381902",
     "exception": false,
     "start_time": "2021-08-17T01:30:08.288028",
     "status": "completed"
    },
    "tags": []
   },
   "outputs": [],
   "source": [
    "timestamps = pd.read_sql(\"select distinct record_time from EBAY_TOP_BERLIN order by record_time desc limit 2\", sqlite3.connect(\"UsedObjects.db\"))"
   ]
  },
  {
   "cell_type": "code",
   "execution_count": 3,
   "id": "periodic-identification",
   "metadata": {
    "execution": {
     "iopub.execute_input": "2021-08-17T01:30:08.448916Z",
     "iopub.status.busy": "2021-08-17T01:30:08.446897Z",
     "iopub.status.idle": "2021-08-17T01:30:08.466949Z",
     "shell.execute_reply": "2021-08-17T01:30:08.468159Z"
    },
    "papermill": {
     "duration": 0.067139,
     "end_time": "2021-08-17T01:30:08.468588",
     "exception": false,
     "start_time": "2021-08-17T01:30:08.401449",
     "status": "completed"
    },
    "tags": []
   },
   "outputs": [
    {
     "data": {
      "text/html": [
       "<div>\n",
       "<style scoped>\n",
       "    .dataframe tbody tr th:only-of-type {\n",
       "        vertical-align: middle;\n",
       "    }\n",
       "\n",
       "    .dataframe tbody tr th {\n",
       "        vertical-align: top;\n",
       "    }\n",
       "\n",
       "    .dataframe thead th {\n",
       "        text-align: right;\n",
       "    }\n",
       "</style>\n",
       "<table border=\"1\" class=\"dataframe\">\n",
       "  <thead>\n",
       "    <tr style=\"text-align: right;\">\n",
       "      <th></th>\n",
       "      <th>RECORD_TIME</th>\n",
       "    </tr>\n",
       "  </thead>\n",
       "  <tbody>\n",
       "    <tr>\n",
       "      <th>0</th>\n",
       "      <td>2021-08-17 03:30</td>\n",
       "    </tr>\n",
       "    <tr>\n",
       "      <th>1</th>\n",
       "      <td>2021-08-17 03:00</td>\n",
       "    </tr>\n",
       "  </tbody>\n",
       "</table>\n",
       "</div>"
      ],
      "text/plain": [
       "        RECORD_TIME\n",
       "0  2021-08-17 03:30\n",
       "1  2021-08-17 03:00"
      ]
     },
     "execution_count": 3,
     "metadata": {},
     "output_type": "execute_result"
    }
   ],
   "source": [
    "timestamps"
   ]
  },
  {
   "cell_type": "code",
   "execution_count": 4,
   "id": "alternate-victory",
   "metadata": {
    "execution": {
     "iopub.execute_input": "2021-08-17T01:30:08.523038Z",
     "iopub.status.busy": "2021-08-17T01:30:08.520684Z",
     "iopub.status.idle": "2021-08-17T01:30:08.618203Z",
     "shell.execute_reply": "2021-08-17T01:30:08.619581Z"
    },
    "papermill": {
     "duration": 0.128449,
     "end_time": "2021-08-17T01:30:08.619993",
     "exception": false,
     "start_time": "2021-08-17T01:30:08.491544",
     "status": "completed"
    },
    "tags": []
   },
   "outputs": [],
   "source": [
    "df = pd.read_sql(\"select * from EBAY_TOP_BERLIN where record_time in (select distinct record_time from EBAY_TOP_BERLIN order by record_time desc limit 2)\", sqlite3.connect(\"UsedObjects.db\"))"
   ]
  },
  {
   "cell_type": "code",
   "execution_count": 5,
   "id": "popular-active",
   "metadata": {
    "execution": {
     "iopub.execute_input": "2021-08-17T01:30:08.689674Z",
     "iopub.status.busy": "2021-08-17T01:30:08.678552Z",
     "iopub.status.idle": "2021-08-17T01:30:08.704964Z",
     "shell.execute_reply": "2021-08-17T01:30:08.706395Z"
    },
    "papermill": {
     "duration": 0.06632,
     "end_time": "2021-08-17T01:30:08.706812",
     "exception": false,
     "start_time": "2021-08-17T01:30:08.640492",
     "status": "completed"
    },
    "tags": []
   },
   "outputs": [],
   "source": [
    "df_pivot = df.pivot_table(index=\"PRODUCT\", columns = \"RECORD_TIME\", values = \"LISTING_COUNT\")"
   ]
  },
  {
   "cell_type": "code",
   "execution_count": 6,
   "id": "union-huntington",
   "metadata": {
    "execution": {
     "iopub.execute_input": "2021-08-17T01:30:08.765469Z",
     "iopub.status.busy": "2021-08-17T01:30:08.763016Z",
     "iopub.status.idle": "2021-08-17T01:30:08.768741Z",
     "shell.execute_reply": "2021-08-17T01:30:08.770081Z"
    },
    "papermill": {
     "duration": 0.042241,
     "end_time": "2021-08-17T01:30:08.770506",
     "exception": false,
     "start_time": "2021-08-17T01:30:08.728265",
     "status": "completed"
    },
    "tags": []
   },
   "outputs": [],
   "source": [
    "df_pivot.columns = [\"stamp_1\", \"stamp_2\"]\n",
    "df_pivot_diff = df_pivot.diff(axis=1)"
   ]
  },
  {
   "cell_type": "code",
   "execution_count": 7,
   "id": "fifth-motion",
   "metadata": {
    "execution": {
     "iopub.execute_input": "2021-08-17T01:30:08.825420Z",
     "iopub.status.busy": "2021-08-17T01:30:08.823147Z",
     "iopub.status.idle": "2021-08-17T01:30:10.334810Z",
     "shell.execute_reply": "2021-08-17T01:30:10.336191Z"
    },
    "papermill": {
     "duration": 1.5454,
     "end_time": "2021-08-17T01:30:10.336630",
     "exception": false,
     "start_time": "2021-08-17T01:30:08.791230",
     "status": "completed"
    },
    "tags": []
   },
   "outputs": [
    {
     "data": {
      "text/plain": [
       "<AxesSubplot:ylabel='PRODUCT'>"
      ]
     },
     "execution_count": 7,
     "metadata": {},
     "output_type": "execute_result"
    },
    {
     "data": {
      "image/png": "[encoded data removed]",
      "text/plain": [
       "<Figure size 432x288 with 1 Axes>"
      ]
     },
     "metadata": {
      "needs_background": "light"
     },
     "output_type": "display_data"
    }
   ],
   "source": [
    "df_pivot_diff.sort_values(\"stamp_2\", ascending = False)[\"stamp_2\"].head(10).plot.barh()"
   ]
  },
  {
   "cell_type": "code",
   "execution_count": null,
   "id": "extra-executive",
   "metadata": {
    "papermill": {
     "duration": 0.022409,
     "end_time": "2021-08-17T01:30:10.383540",
     "exception": false,
     "start_time": "2021-08-17T01:30:10.361131",
     "status": "completed"
    },
    "tags": []
   },
   "outputs": [],
   "source": []
  }
 ],
 "metadata": {
  "kernelspec": {
   "display_name": "Python 3",
   "language": "python",
   "name": "python3"
  },
  "language_info": {
   "codemirror_mode": {
    "name": "ipython",
    "version": 3
   },
   "file_extension": ".py",
   "mimetype": "text/x-python",
   "name": "python",
   "nbconvert_exporter": "python",
   "pygments_lexer": "ipython3",
   "version": "3.9.5"
  },
  "papermill": {
   "default_parameters": {},
   "duration": 6.824295,
   "end_time": "2021-08-17T01:30:11.819323",
   "environment_variables": {},
   "exception": null,
   "input_path": "eBay_Overview.ipynb",
   "output_path": "eBay_Overview.ipynb",
   "parameters": {},
   "start_time": "2021-08-17T01:30:04.995028",
   "version": "2.3.3"
  }
 },
 "nbformat": 4,
 "nbformat_minor": 5
}