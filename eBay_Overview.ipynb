{
 "cells": [
  {
   "cell_type": "code",
   "execution_count": 1,
   "id": "reverse-picking",
   "metadata": {
    "execution": {
     "iopub.execute_input": "2021-12-01T23:30:07.342601Z",
     "iopub.status.busy": "2021-12-01T23:30:07.339949Z",
     "iopub.status.idle": "2021-12-01T23:30:08.312123Z",
     "shell.execute_reply": "2021-12-01T23:30:08.313747Z"
    },
    "papermill": {
     "duration": 1.009135,
     "end_time": "2021-12-01T23:30:08.314480",
     "exception": false,
     "start_time": "2021-12-01T23:30:07.305345",
     "status": "completed"
    },
    "tags": []
   },
   "outputs": [],
   "source": [
    "import pandas as pd\n",
    "import sqlite3"
   ]
  },
  {
   "cell_type": "code",
   "execution_count": 2,
   "id": "innovative-syndrome",
   "metadata": {
    "execution": {
     "iopub.execute_input": "2021-12-01T23:30:08.382532Z",
     "iopub.status.busy": "2021-12-01T23:30:08.380132Z",
     "iopub.status.idle": "2021-12-01T23:30:09.364809Z",
     "shell.execute_reply": "2021-12-01T23:30:09.366084Z"
    },
    "papermill": {
     "duration": 1.018657,
     "end_time": "2021-12-01T23:30:09.366485",
     "exception": false,
     "start_time": "2021-12-01T23:30:08.347828",
     "status": "completed"
    },
    "tags": []
   },
   "outputs": [],
   "source": [
    "timestamps = pd.read_sql(\"select distinct record_time from EBAY_TOP_BERLIN order by record_time desc limit 2\", sqlite3.connect(\"UsedObjects.db\"))"
   ]
  },
  {
   "cell_type": "code",
   "execution_count": 3,
   "id": "periodic-identification",
   "metadata": {
    "execution": {
     "iopub.execute_input": "2021-12-01T23:30:09.436178Z",
     "iopub.status.busy": "2021-12-01T23:30:09.434165Z",
     "iopub.status.idle": "2021-12-01T23:30:09.455002Z",
     "shell.execute_reply": "2021-12-01T23:30:09.456293Z"
    },
    "papermill": {
     "duration": 0.067902,
     "end_time": "2021-12-01T23:30:09.456895",
     "exception": false,
     "start_time": "2021-12-01T23:30:09.388993",
     "status": "completed"
    },
    "tags": []
   },
   "outputs": [
    {
     "data": {
      "text/html": [
       "<div>\n",
       "<style scoped>\n",
       "    .dataframe tbody tr th:only-of-type {\n",
       "        vertical-align: middle;\n",
       "    }\n",
       "\n",
       "    .dataframe tbody tr th {\n",
       "        vertical-align: top;\n",
       "    }\n",
       "\n",
       "    .dataframe thead th {\n",
       "        text-align: right;\n",
       "    }\n",
       "</style>\n",
       "<table border=\"1\" class=\"dataframe\">\n",
       "  <thead>\n",
       "    <tr style=\"text-align: right;\">\n",
       "      <th></th>\n",
       "      <th>RECORD_TIME</th>\n",
       "    </tr>\n",
       "  </thead>\n",
       "  <tbody>\n",
       "    <tr>\n",
       "      <th>0</th>\n",
       "      <td>2021-12-02 00:30</td>\n",
       "    </tr>\n",
       "    <tr>\n",
       "      <th>1</th>\n",
       "      <td>2021-12-02 00:00</td>\n",
       "    </tr>\n",
       "  </tbody>\n",
       "</table>\n",
       "</div>"
      ],
      "text/plain": [
       "        RECORD_TIME\n",
       "0  2021-12-02 00:30\n",
       "1  2021-12-02 00:00"
      ]
     },
     "execution_count": 3,
     "metadata": {},
     "output_type": "execute_result"
    }
   ],
   "source": [
    "timestamps"
   ]
  },
  {
   "cell_type": "code",
   "execution_count": 4,
   "id": "alternate-victory",
   "metadata": {
    "execution": {
     "iopub.execute_input": "2021-12-01T23:30:09.510022Z",
     "iopub.status.busy": "2021-12-01T23:30:09.507645Z",
     "iopub.status.idle": "2021-12-01T23:30:10.993649Z",
     "shell.execute_reply": "2021-12-01T23:30:10.995692Z"
    },
    "papermill": {
     "duration": 1.517638,
     "end_time": "2021-12-01T23:30:10.996262",
     "exception": false,
     "start_time": "2021-12-01T23:30:09.478624",
     "status": "completed"
    },
    "tags": []
   },
   "outputs": [],
   "source": [
    "df = pd.read_sql(\"select * from EBAY_TOP_BERLIN where record_time in (select distinct record_time from EBAY_TOP_BERLIN order by record_time desc limit 2)\", sqlite3.connect(\"UsedObjects.db\"))"
   ]
  },
  {
   "cell_type": "code",
   "execution_count": 5,
   "id": "popular-active",
   "metadata": {
    "execution": {
     "iopub.execute_input": "2021-12-01T23:30:11.068283Z",
     "iopub.status.busy": "2021-12-01T23:30:11.065966Z",
     "iopub.status.idle": "2021-12-01T23:30:11.098146Z",
     "shell.execute_reply": "2021-12-01T23:30:11.099545Z"
    },
    "papermill": {
     "duration": 0.077623,
     "end_time": "2021-12-01T23:30:11.100026",
     "exception": false,
     "start_time": "2021-12-01T23:30:11.022403",
     "status": "completed"
    },
    "tags": []
   },
   "outputs": [],
   "source": [
    "df_pivot = df.pivot_table(index=\"PRODUCT\", columns = \"RECORD_TIME\", values = \"LISTING_COUNT\")"
   ]
  },
  {
   "cell_type": "code",
   "execution_count": 6,
   "id": "union-huntington",
   "metadata": {
    "execution": {
     "iopub.execute_input": "2021-12-01T23:30:11.158350Z",
     "iopub.status.busy": "2021-12-01T23:30:11.156072Z",
     "iopub.status.idle": "2021-12-01T23:30:11.161658Z",
     "shell.execute_reply": "2021-12-01T23:30:11.163028Z"
    },
    "papermill": {
     "duration": 0.043185,
     "end_time": "2021-12-01T23:30:11.163501",
     "exception": false,
     "start_time": "2021-12-01T23:30:11.120316",
     "status": "completed"
    },
    "tags": []
   },
   "outputs": [],
   "source": [
    "df_pivot.columns = [\"stamp_1\", \"stamp_2\"]\n",
    "df_pivot_diff = df_pivot.diff(axis=1)"
   ]
  },
  {
   "cell_type": "code",
   "execution_count": 7,
   "id": "fifth-motion",
   "metadata": {
    "execution": {
     "iopub.execute_input": "2021-12-01T23:30:11.220395Z",
     "iopub.status.busy": "2021-12-01T23:30:11.217828Z",
     "iopub.status.idle": "2021-12-01T23:30:13.225345Z",
     "shell.execute_reply": "2021-12-01T23:30:13.226978Z"
    },
    "papermill": {
     "duration": 2.044041,
     "end_time": "2021-12-01T23:30:13.227629",
     "exception": false,
     "start_time": "2021-12-01T23:30:11.183588",
     "status": "completed"
    },
    "tags": []
   },
   "outputs": [
    {
     "data": {
      "text/plain": [
       "<AxesSubplot:ylabel='PRODUCT'>"
      ]
     },
     "execution_count": 7,
     "metadata": {},
     "output_type": "execute_result"
    },
    {
     "data": {
      "image/png": "[encoded data removed]",
      "text/plain": [
       "<Figure size 432x288 with 1 Axes>"
      ]
     },
     "metadata": {
      "needs_background": "light"
     },
     "output_type": "display_data"
    }
   ],
   "source": [
    "df_pivot_diff.sort_values(\"stamp_2\", ascending = False)[\"stamp_2\"].head(10).plot.barh()"
   ]
  },
  {
   "cell_type": "code",
   "execution_count": null,
   "id": "extra-executive",
   "metadata": {
    "papermill": {
     "duration": 0.023977,
     "end_time": "2021-12-01T23:30:13.276142",
     "exception": false,
     "start_time": "2021-12-01T23:30:13.252165",
     "status": "completed"
    },
    "tags": []
   },
   "outputs": [],
   "source": []
  }
 ],
 "metadata": {
  "kernelspec": {
   "display_name": "Python 3",
   "language": "python",
   "name": "python3"
  },
  "language_info": {
   "codemirror_mode": {
    "name": "ipython",
    "version": 3
   },
   "file_extension": ".py",
   "mimetype": "text/x-python",
   "name": "python",
   "nbconvert_exporter": "python",
   "pygments_lexer": "ipython3",
   "version": "3.9.5"
  },
  "papermill": {
   "default_parameters": {},
   "duration": 9.939744,
   "end_time": "2021-12-01T23:30:14.522378",
   "environment_variables": {},
   "exception": null,
   "input_path": "eBay_Overview.ipynb",
   "output_path": "eBay_Overview.ipynb",
   "parameters": {},
   "start_time": "2021-12-01T23:30:04.582634",
   "version": "2.3.3"
  }
 },
 "nbformat": 4,
 "nbformat_minor": 5
}