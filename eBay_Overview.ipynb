{
 "cells": [
  {
   "cell_type": "code",
   "execution_count": 1,
   "id": "reverse-picking",
   "metadata": {
    "execution": {
     "iopub.execute_input": "2021-10-20T02:30:07.051524Z",
     "iopub.status.busy": "2021-10-20T02:30:07.049622Z",
     "iopub.status.idle": "2021-10-20T02:30:07.857991Z",
     "shell.execute_reply": "2021-10-20T02:30:07.859205Z"
    },
    "papermill": {
     "duration": 0.860582,
     "end_time": "2021-10-20T02:30:07.859823",
     "exception": false,
     "start_time": "2021-10-20T02:30:06.999241",
     "status": "completed"
    },
    "tags": []
   },
   "outputs": [],
   "source": [
    "import pandas as pd\n",
    "import sqlite3"
   ]
  },
  {
   "cell_type": "code",
   "execution_count": 2,
   "id": "innovative-syndrome",
   "metadata": {
    "execution": {
     "iopub.execute_input": "2021-10-20T02:30:07.913599Z",
     "iopub.status.busy": "2021-10-20T02:30:07.911233Z",
     "iopub.status.idle": "2021-10-20T02:30:08.501214Z",
     "shell.execute_reply": "2021-10-20T02:30:08.502491Z"
    },
    "papermill": {
     "duration": 0.619955,
     "end_time": "2021-10-20T02:30:08.502905",
     "exception": false,
     "start_time": "2021-10-20T02:30:07.882950",
     "status": "completed"
    },
    "tags": []
   },
   "outputs": [],
   "source": [
    "timestamps = pd.read_sql(\"select distinct record_time from EBAY_TOP_BERLIN order by record_time desc limit 2\", sqlite3.connect(\"UsedObjects.db\"))"
   ]
  },
  {
   "cell_type": "code",
   "execution_count": 3,
   "id": "periodic-identification",
   "metadata": {
    "execution": {
     "iopub.execute_input": "2021-10-20T02:30:08.580304Z",
     "iopub.status.busy": "2021-10-20T02:30:08.578301Z",
     "iopub.status.idle": "2021-10-20T02:30:08.597807Z",
     "shell.execute_reply": "2021-10-20T02:30:08.598998Z"
    },
    "papermill": {
     "duration": 0.069469,
     "end_time": "2021-10-20T02:30:08.599393",
     "exception": false,
     "start_time": "2021-10-20T02:30:08.529924",
     "status": "completed"
    },
    "tags": []
   },
   "outputs": [
    {
     "data": {
      "text/html": [
       "<div>\n",
       "<style scoped>\n",
       "    .dataframe tbody tr th:only-of-type {\n",
       "        vertical-align: middle;\n",
       "    }\n",
       "\n",
       "    .dataframe tbody tr th {\n",
       "        vertical-align: top;\n",
       "    }\n",
       "\n",
       "    .dataframe thead th {\n",
       "        text-align: right;\n",
       "    }\n",
       "</style>\n",
       "<table border=\"1\" class=\"dataframe\">\n",
       "  <thead>\n",
       "    <tr style=\"text-align: right;\">\n",
       "      <th></th>\n",
       "      <th>RECORD_TIME</th>\n",
       "    </tr>\n",
       "  </thead>\n",
       "  <tbody>\n",
       "    <tr>\n",
       "      <th>0</th>\n",
       "      <td>2021-10-20 04:30</td>\n",
       "    </tr>\n",
       "    <tr>\n",
       "      <th>1</th>\n",
       "      <td>2021-10-20 04:00</td>\n",
       "    </tr>\n",
       "  </tbody>\n",
       "</table>\n",
       "</div>"
      ],
      "text/plain": [
       "        RECORD_TIME\n",
       "0  2021-10-20 04:30\n",
       "1  2021-10-20 04:00"
      ]
     },
     "execution_count": 3,
     "metadata": {},
     "output_type": "execute_result"
    }
   ],
   "source": [
    "timestamps"
   ]
  },
  {
   "cell_type": "code",
   "execution_count": 4,
   "id": "alternate-victory",
   "metadata": {
    "execution": {
     "iopub.execute_input": "2021-10-20T02:30:08.652646Z",
     "iopub.status.busy": "2021-10-20T02:30:08.650400Z",
     "iopub.status.idle": "2021-10-20T02:30:09.518160Z",
     "shell.execute_reply": "2021-10-20T02:30:09.519354Z"
    },
    "papermill": {
     "duration": 0.898315,
     "end_time": "2021-10-20T02:30:09.519750",
     "exception": false,
     "start_time": "2021-10-20T02:30:08.621435",
     "status": "completed"
    },
    "tags": []
   },
   "outputs": [],
   "source": [
    "df = pd.read_sql(\"select * from EBAY_TOP_BERLIN where record_time in (select distinct record_time from EBAY_TOP_BERLIN order by record_time desc limit 2)\", sqlite3.connect(\"UsedObjects.db\"))"
   ]
  },
  {
   "cell_type": "code",
   "execution_count": 5,
   "id": "popular-active",
   "metadata": {
    "execution": {
     "iopub.execute_input": "2021-10-20T02:30:09.590461Z",
     "iopub.status.busy": "2021-10-20T02:30:09.578726Z",
     "iopub.status.idle": "2021-10-20T02:30:09.606289Z",
     "shell.execute_reply": "2021-10-20T02:30:09.607555Z"
    },
    "papermill": {
     "duration": 0.067528,
     "end_time": "2021-10-20T02:30:09.607970",
     "exception": false,
     "start_time": "2021-10-20T02:30:09.540442",
     "status": "completed"
    },
    "tags": []
   },
   "outputs": [],
   "source": [
    "df_pivot = df.pivot_table(index=\"PRODUCT\", columns = \"RECORD_TIME\", values = \"LISTING_COUNT\")"
   ]
  },
  {
   "cell_type": "code",
   "execution_count": 6,
   "id": "union-huntington",
   "metadata": {
    "execution": {
     "iopub.execute_input": "2021-10-20T02:30:09.664655Z",
     "iopub.status.busy": "2021-10-20T02:30:09.662390Z",
     "iopub.status.idle": "2021-10-20T02:30:09.668168Z",
     "shell.execute_reply": "2021-10-20T02:30:09.669418Z"
    },
    "papermill": {
     "duration": 0.042017,
     "end_time": "2021-10-20T02:30:09.669860",
     "exception": false,
     "start_time": "2021-10-20T02:30:09.627843",
     "status": "completed"
    },
    "tags": []
   },
   "outputs": [],
   "source": [
    "df_pivot.columns = [\"stamp_1\", \"stamp_2\"]\n",
    "df_pivot_diff = df_pivot.diff(axis=1)"
   ]
  },
  {
   "cell_type": "code",
   "execution_count": 7,
   "id": "fifth-motion",
   "metadata": {
    "execution": {
     "iopub.execute_input": "2021-10-20T02:30:09.724068Z",
     "iopub.status.busy": "2021-10-20T02:30:09.721905Z",
     "iopub.status.idle": "2021-10-20T02:30:11.228938Z",
     "shell.execute_reply": "2021-10-20T02:30:11.230339Z"
    },
    "papermill": {
     "duration": 1.539921,
     "end_time": "2021-10-20T02:30:11.230768",
     "exception": false,
     "start_time": "2021-10-20T02:30:09.690847",
     "status": "completed"
    },
    "tags": []
   },
   "outputs": [
    {
     "data": {
      "text/plain": [
       "<AxesSubplot:ylabel='PRODUCT'>"
      ]
     },
     "execution_count": 7,
     "metadata": {},
     "output_type": "execute_result"
    },
    {
     "data": {
      "image/png": "[encoded data removed]",
      "text/plain": [
       "<Figure size 432x288 with 1 Axes>"
      ]
     },
     "metadata": {
      "needs_background": "light"
     },
     "output_type": "display_data"
    }
   ],
   "source": [
    "df_pivot_diff.sort_values(\"stamp_2\", ascending = False)[\"stamp_2\"].head(10).plot.barh()"
   ]
  },
  {
   "cell_type": "code",
   "execution_count": null,
   "id": "extra-executive",
   "metadata": {
    "papermill": {
     "duration": 0.022317,
     "end_time": "2021-10-20T02:30:11.278002",
     "exception": false,
     "start_time": "2021-10-20T02:30:11.255685",
     "status": "completed"
    },
    "tags": []
   },
   "outputs": [],
   "source": []
  }
 ],
 "metadata": {
  "kernelspec": {
   "display_name": "Python 3",
   "language": "python",
   "name": "python3"
  },
  "language_info": {
   "codemirror_mode": {
    "name": "ipython",
    "version": 3
   },
   "file_extension": ".py",
   "mimetype": "text/x-python",
   "name": "python",
   "nbconvert_exporter": "python",
   "pygments_lexer": "ipython3",
   "version": "3.9.5"
  },
  "papermill": {
   "default_parameters": {},
   "duration": 7.336683,
   "end_time": "2021-10-20T02:30:11.918773",
   "environment_variables": {},
   "exception": null,
   "input_path": "eBay_Overview.ipynb",
   "output_path": "eBay_Overview.ipynb",
   "parameters": {},
   "start_time": "2021-10-20T02:30:04.582090",
   "version": "2.3.3"
  }
 },
 "nbformat": 4,
 "nbformat_minor": 5
}