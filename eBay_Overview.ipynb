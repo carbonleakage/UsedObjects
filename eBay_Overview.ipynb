{
 "cells": [
  {
   "cell_type": "code",
   "execution_count": 1,
   "id": "reverse-picking",
   "metadata": {
    "execution": {
     "iopub.execute_input": "2021-08-24T19:00:07.030121Z",
     "iopub.status.busy": "2021-08-24T19:00:07.028160Z",
     "iopub.status.idle": "2021-08-24T19:00:07.833494Z",
     "shell.execute_reply": "2021-08-24T19:00:07.834708Z"
    },
    "papermill": {
     "duration": 0.855021,
     "end_time": "2021-08-24T19:00:07.835339",
     "exception": false,
     "start_time": "2021-08-24T19:00:06.980318",
     "status": "completed"
    },
    "tags": []
   },
   "outputs": [],
   "source": [
    "import pandas as pd\n",
    "import sqlite3"
   ]
  },
  {
   "cell_type": "code",
   "execution_count": 2,
   "id": "innovative-syndrome",
   "metadata": {
    "execution": {
     "iopub.execute_input": "2021-08-24T19:00:07.887148Z",
     "iopub.status.busy": "2021-08-24T19:00:07.885214Z",
     "iopub.status.idle": "2021-08-24T19:00:08.008025Z",
     "shell.execute_reply": "2021-08-24T19:00:08.006558Z"
    },
    "papermill": {
     "duration": 0.150877,
     "end_time": "2021-08-24T19:00:08.008406",
     "exception": false,
     "start_time": "2021-08-24T19:00:07.857529",
     "status": "completed"
    },
    "tags": []
   },
   "outputs": [],
   "source": [
    "timestamps = pd.read_sql(\"select distinct record_time from EBAY_TOP_BERLIN order by record_time desc limit 2\", sqlite3.connect(\"UsedObjects.db\"))"
   ]
  },
  {
   "cell_type": "code",
   "execution_count": 3,
   "id": "periodic-identification",
   "metadata": {
    "execution": {
     "iopub.execute_input": "2021-08-24T19:00:08.071921Z",
     "iopub.status.busy": "2021-08-24T19:00:08.069864Z",
     "iopub.status.idle": "2021-08-24T19:00:08.089714Z",
     "shell.execute_reply": "2021-08-24T19:00:08.090977Z"
    },
    "papermill": {
     "duration": 0.063975,
     "end_time": "2021-08-24T19:00:08.091369",
     "exception": false,
     "start_time": "2021-08-24T19:00:08.027394",
     "status": "completed"
    },
    "tags": []
   },
   "outputs": [
    {
     "data": {
      "text/html": [
       "<div>\n",
       "<style scoped>\n",
       "    .dataframe tbody tr th:only-of-type {\n",
       "        vertical-align: middle;\n",
       "    }\n",
       "\n",
       "    .dataframe tbody tr th {\n",
       "        vertical-align: top;\n",
       "    }\n",
       "\n",
       "    .dataframe thead th {\n",
       "        text-align: right;\n",
       "    }\n",
       "</style>\n",
       "<table border=\"1\" class=\"dataframe\">\n",
       "  <thead>\n",
       "    <tr style=\"text-align: right;\">\n",
       "      <th></th>\n",
       "      <th>RECORD_TIME</th>\n",
       "    </tr>\n",
       "  </thead>\n",
       "  <tbody>\n",
       "    <tr>\n",
       "      <th>0</th>\n",
       "      <td>2021-08-24 21:00</td>\n",
       "    </tr>\n",
       "    <tr>\n",
       "      <th>1</th>\n",
       "      <td>2021-08-24 20:30</td>\n",
       "    </tr>\n",
       "  </tbody>\n",
       "</table>\n",
       "</div>"
      ],
      "text/plain": [
       "        RECORD_TIME\n",
       "0  2021-08-24 21:00\n",
       "1  2021-08-24 20:30"
      ]
     },
     "execution_count": 3,
     "metadata": {},
     "output_type": "execute_result"
    }
   ],
   "source": [
    "timestamps"
   ]
  },
  {
   "cell_type": "code",
   "execution_count": 4,
   "id": "alternate-victory",
   "metadata": {
    "execution": {
     "iopub.execute_input": "2021-08-24T19:00:08.141967Z",
     "iopub.status.busy": "2021-08-24T19:00:08.140121Z",
     "iopub.status.idle": "2021-08-24T19:00:08.326112Z",
     "shell.execute_reply": "2021-08-24T19:00:08.327480Z"
    },
    "papermill": {
     "duration": 0.215716,
     "end_time": "2021-08-24T19:00:08.327893",
     "exception": false,
     "start_time": "2021-08-24T19:00:08.112177",
     "status": "completed"
    },
    "tags": []
   },
   "outputs": [],
   "source": [
    "df = pd.read_sql(\"select * from EBAY_TOP_BERLIN where record_time in (select distinct record_time from EBAY_TOP_BERLIN order by record_time desc limit 2)\", sqlite3.connect(\"UsedObjects.db\"))"
   ]
  },
  {
   "cell_type": "code",
   "execution_count": 5,
   "id": "popular-active",
   "metadata": {
    "execution": {
     "iopub.execute_input": "2021-08-24T19:00:08.399446Z",
     "iopub.status.busy": "2021-08-24T19:00:08.387332Z",
     "iopub.status.idle": "2021-08-24T19:00:08.414862Z",
     "shell.execute_reply": "2021-08-24T19:00:08.416066Z"
    },
    "papermill": {
     "duration": 0.067672,
     "end_time": "2021-08-24T19:00:08.416459",
     "exception": false,
     "start_time": "2021-08-24T19:00:08.348787",
     "status": "completed"
    },
    "tags": []
   },
   "outputs": [],
   "source": [
    "df_pivot = df.pivot_table(index=\"PRODUCT\", columns = \"RECORD_TIME\", values = \"LISTING_COUNT\")"
   ]
  },
  {
   "cell_type": "code",
   "execution_count": 6,
   "id": "union-huntington",
   "metadata": {
    "execution": {
     "iopub.execute_input": "2021-08-24T19:00:08.479843Z",
     "iopub.status.busy": "2021-08-24T19:00:08.477396Z",
     "iopub.status.idle": "2021-08-24T19:00:08.483179Z",
     "shell.execute_reply": "2021-08-24T19:00:08.484504Z"
    },
    "papermill": {
     "duration": 0.048053,
     "end_time": "2021-08-24T19:00:08.484919",
     "exception": false,
     "start_time": "2021-08-24T19:00:08.436866",
     "status": "completed"
    },
    "tags": []
   },
   "outputs": [],
   "source": [
    "df_pivot.columns = [\"stamp_1\", \"stamp_2\"]\n",
    "df_pivot_diff = df_pivot.diff(axis=1)"
   ]
  },
  {
   "cell_type": "code",
   "execution_count": 7,
   "id": "fifth-motion",
   "metadata": {
    "execution": {
     "iopub.execute_input": "2021-08-24T19:00:08.538252Z",
     "iopub.status.busy": "2021-08-24T19:00:08.535926Z",
     "iopub.status.idle": "2021-08-24T19:00:10.042601Z",
     "shell.execute_reply": "2021-08-24T19:00:10.043866Z"
    },
    "papermill": {
     "duration": 1.538997,
     "end_time": "2021-08-24T19:00:10.044278",
     "exception": false,
     "start_time": "2021-08-24T19:00:08.505281",
     "status": "completed"
    },
    "tags": []
   },
   "outputs": [
    {
     "data": {
      "text/plain": [
       "<AxesSubplot:ylabel='PRODUCT'>"
      ]
     },
     "execution_count": 7,
     "metadata": {},
     "output_type": "execute_result"
    },
    {
     "data": {
      "image/png": "[encoded data removed]",
      "text/plain": [
       "<Figure size 432x288 with 1 Axes>"
      ]
     },
     "metadata": {
      "needs_background": "light"
     },
     "output_type": "display_data"
    }
   ],
   "source": [
    "df_pivot_diff.sort_values(\"stamp_2\", ascending = False)[\"stamp_2\"].head(10).plot.barh()"
   ]
  },
  {
   "cell_type": "code",
   "execution_count": null,
   "id": "extra-executive",
   "metadata": {
    "papermill": {
     "duration": 0.021822,
     "end_time": "2021-08-24T19:00:10.091334",
     "exception": false,
     "start_time": "2021-08-24T19:00:10.069512",
     "status": "completed"
    },
    "tags": []
   },
   "outputs": [],
   "source": []
  }
 ],
 "metadata": {
  "kernelspec": {
   "display_name": "Python 3",
   "language": "python",
   "name": "python3"
  },
  "language_info": {
   "codemirror_mode": {
    "name": "ipython",
    "version": 3
   },
   "file_extension": ".py",
   "mimetype": "text/x-python",
   "name": "python",
   "nbconvert_exporter": "python",
   "pygments_lexer": "ipython3",
   "version": "3.9.5"
  },
  "papermill": {
   "default_parameters": {},
   "duration": 6.821448,
   "end_time": "2021-08-24T19:00:11.400086",
   "environment_variables": {},
   "exception": null,
   "input_path": "eBay_Overview.ipynb",
   "output_path": "eBay_Overview.ipynb",
   "parameters": {},
   "start_time": "2021-08-24T19:00:04.578638",
   "version": "2.3.3"
  }
 },
 "nbformat": 4,
 "nbformat_minor": 5
}