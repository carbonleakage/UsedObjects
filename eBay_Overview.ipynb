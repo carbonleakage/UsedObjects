{
 "cells": [
  {
   "cell_type": "code",
   "execution_count": 1,
   "id": "reverse-picking",
   "metadata": {
    "execution": {
     "iopub.execute_input": "2021-12-19T19:00:08.244365Z",
     "iopub.status.busy": "2021-12-19T19:00:08.241905Z",
     "iopub.status.idle": "2021-12-19T19:00:09.202101Z",
     "shell.execute_reply": "2021-12-19T19:00:09.203686Z"
    },
    "papermill": {
     "duration": 1.009573,
     "end_time": "2021-12-19T19:00:09.204427",
     "exception": false,
     "start_time": "2021-12-19T19:00:08.194854",
     "status": "completed"
    },
    "tags": []
   },
   "outputs": [],
   "source": [
    "import pandas as pd\n",
    "import sqlite3"
   ]
  },
  {
   "cell_type": "code",
   "execution_count": 2,
   "id": "innovative-syndrome",
   "metadata": {
    "execution": {
     "iopub.execute_input": "2021-12-19T19:00:09.273627Z",
     "iopub.status.busy": "2021-12-19T19:00:09.269285Z",
     "iopub.status.idle": "2021-12-19T19:00:10.422953Z",
     "shell.execute_reply": "2021-12-19T19:00:10.424314Z"
    },
    "papermill": {
     "duration": 1.190493,
     "end_time": "2021-12-19T19:00:10.424919",
     "exception": false,
     "start_time": "2021-12-19T19:00:09.234426",
     "status": "completed"
    },
    "tags": []
   },
   "outputs": [],
   "source": [
    "timestamps = pd.read_sql(\"select distinct record_time from EBAY_TOP_BERLIN order by record_time desc limit 2\", sqlite3.connect(\"UsedObjects.db\"))"
   ]
  },
  {
   "cell_type": "code",
   "execution_count": 3,
   "id": "periodic-identification",
   "metadata": {
    "execution": {
     "iopub.execute_input": "2021-12-19T19:00:10.491388Z",
     "iopub.status.busy": "2021-12-19T19:00:10.489138Z",
     "iopub.status.idle": "2021-12-19T19:00:10.515981Z",
     "shell.execute_reply": "2021-12-19T19:00:10.517937Z"
    },
    "papermill": {
     "duration": 0.072468,
     "end_time": "2021-12-19T19:00:10.518440",
     "exception": false,
     "start_time": "2021-12-19T19:00:10.445972",
     "status": "completed"
    },
    "tags": []
   },
   "outputs": [
    {
     "data": {
      "text/html": [
       "<div>\n",
       "<style scoped>\n",
       "    .dataframe tbody tr th:only-of-type {\n",
       "        vertical-align: middle;\n",
       "    }\n",
       "\n",
       "    .dataframe tbody tr th {\n",
       "        vertical-align: top;\n",
       "    }\n",
       "\n",
       "    .dataframe thead th {\n",
       "        text-align: right;\n",
       "    }\n",
       "</style>\n",
       "<table border=\"1\" class=\"dataframe\">\n",
       "  <thead>\n",
       "    <tr style=\"text-align: right;\">\n",
       "      <th></th>\n",
       "      <th>RECORD_TIME</th>\n",
       "    </tr>\n",
       "  </thead>\n",
       "  <tbody>\n",
       "    <tr>\n",
       "      <th>0</th>\n",
       "      <td>2021-12-19 20:00</td>\n",
       "    </tr>\n",
       "    <tr>\n",
       "      <th>1</th>\n",
       "      <td>2021-12-19 19:30</td>\n",
       "    </tr>\n",
       "  </tbody>\n",
       "</table>\n",
       "</div>"
      ],
      "text/plain": [
       "        RECORD_TIME\n",
       "0  2021-12-19 20:00\n",
       "1  2021-12-19 19:30"
      ]
     },
     "execution_count": 3,
     "metadata": {},
     "output_type": "execute_result"
    }
   ],
   "source": [
    "timestamps"
   ]
  },
  {
   "cell_type": "code",
   "execution_count": 4,
   "id": "alternate-victory",
   "metadata": {
    "execution": {
     "iopub.execute_input": "2021-12-19T19:00:10.597567Z",
     "iopub.status.busy": "2021-12-19T19:00:10.595279Z",
     "iopub.status.idle": "2021-12-19T19:00:12.246642Z",
     "shell.execute_reply": "2021-12-19T19:00:12.248045Z"
    },
    "papermill": {
     "duration": 1.685489,
     "end_time": "2021-12-19T19:00:12.248504",
     "exception": false,
     "start_time": "2021-12-19T19:00:10.563015",
     "status": "completed"
    },
    "tags": []
   },
   "outputs": [],
   "source": [
    "df = pd.read_sql(\"select * from EBAY_TOP_BERLIN where record_time in (select distinct record_time from EBAY_TOP_BERLIN order by record_time desc limit 2)\", sqlite3.connect(\"UsedObjects.db\"))"
   ]
  },
  {
   "cell_type": "code",
   "execution_count": 5,
   "id": "popular-active",
   "metadata": {
    "execution": {
     "iopub.execute_input": "2021-12-19T19:00:12.318932Z",
     "iopub.status.busy": "2021-12-19T19:00:12.314211Z",
     "iopub.status.idle": "2021-12-19T19:00:12.347683Z",
     "shell.execute_reply": "2021-12-19T19:00:12.349203Z"
    },
    "papermill": {
     "duration": 0.077686,
     "end_time": "2021-12-19T19:00:12.349695",
     "exception": false,
     "start_time": "2021-12-19T19:00:12.272009",
     "status": "completed"
    },
    "tags": []
   },
   "outputs": [],
   "source": [
    "df_pivot = df.pivot_table(index=\"PRODUCT\", columns = \"RECORD_TIME\", values = \"LISTING_COUNT\")"
   ]
  },
  {
   "cell_type": "code",
   "execution_count": 6,
   "id": "union-huntington",
   "metadata": {
    "execution": {
     "iopub.execute_input": "2021-12-19T19:00:12.408809Z",
     "iopub.status.busy": "2021-12-19T19:00:12.406501Z",
     "iopub.status.idle": "2021-12-19T19:00:12.411743Z",
     "shell.execute_reply": "2021-12-19T19:00:12.413191Z"
    },
    "papermill": {
     "duration": 0.044376,
     "end_time": "2021-12-19T19:00:12.413679",
     "exception": false,
     "start_time": "2021-12-19T19:00:12.369303",
     "status": "completed"
    },
    "tags": []
   },
   "outputs": [],
   "source": [
    "df_pivot.columns = [\"stamp_1\", \"stamp_2\"]\n",
    "df_pivot_diff = df_pivot.diff(axis=1)"
   ]
  },
  {
   "cell_type": "code",
   "execution_count": 7,
   "id": "fifth-motion",
   "metadata": {
    "execution": {
     "iopub.execute_input": "2021-12-19T19:00:12.470919Z",
     "iopub.status.busy": "2021-12-19T19:00:12.468270Z",
     "iopub.status.idle": "2021-12-19T19:00:14.424171Z",
     "shell.execute_reply": "2021-12-19T19:00:14.425762Z"
    },
    "papermill": {
     "duration": 1.992665,
     "end_time": "2021-12-19T19:00:14.426254",
     "exception": false,
     "start_time": "2021-12-19T19:00:12.433589",
     "status": "completed"
    },
    "tags": []
   },
   "outputs": [
    {
     "data": {
      "text/plain": [
       "<AxesSubplot:ylabel='PRODUCT'>"
      ]
     },
     "execution_count": 7,
     "metadata": {},
     "output_type": "execute_result"
    },
    {
     "data": {
      "image/png": "[encoded data removed]",
      "text/plain": [
       "<Figure size 432x288 with 1 Axes>"
      ]
     },
     "metadata": {
      "needs_background": "light"
     },
     "output_type": "display_data"
    }
   ],
   "source": [
    "df_pivot_diff.sort_values(\"stamp_2\", ascending = False)[\"stamp_2\"].head(10).plot.barh()"
   ]
  },
  {
   "cell_type": "code",
   "execution_count": null,
   "id": "extra-executive",
   "metadata": {
    "papermill": {
     "duration": 0.026826,
     "end_time": "2021-12-19T19:00:14.484779",
     "exception": false,
     "start_time": "2021-12-19T19:00:14.457953",
     "status": "completed"
    },
    "tags": []
   },
   "outputs": [],
   "source": []
  }
 ],
 "metadata": {
  "kernelspec": {
   "display_name": "Python 3",
   "language": "python",
   "name": "python3"
  },
  "language_info": {
   "codemirror_mode": {
    "name": "ipython",
    "version": 3
   },
   "file_extension": ".py",
   "mimetype": "text/x-python",
   "name": "python",
   "nbconvert_exporter": "python",
   "pygments_lexer": "ipython3",
   "version": "3.9.5"
  },
  "papermill": {
   "default_parameters": {},
   "duration": 9.682707,
   "end_time": "2021-12-19T19:00:15.135833",
   "environment_variables": {},
   "exception": null,
   "input_path": "eBay_Overview.ipynb",
   "output_path": "eBay_Overview.ipynb",
   "parameters": {},
   "start_time": "2021-12-19T19:00:05.453126",
   "version": "2.3.3"
  }
 },
 "nbformat": 4,
 "nbformat_minor": 5
}