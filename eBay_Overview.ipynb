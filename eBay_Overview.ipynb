{
 "cells": [
  {
   "cell_type": "code",
   "execution_count": 1,
   "id": "reverse-picking",
   "metadata": {
    "execution": {
     "iopub.execute_input": "2021-09-20T14:00:06.937797Z",
     "iopub.status.busy": "2021-09-20T14:00:06.935845Z",
     "iopub.status.idle": "2021-09-20T14:00:07.738698Z",
     "shell.execute_reply": "2021-09-20T14:00:07.740116Z"
    },
    "papermill": {
     "duration": 0.853592,
     "end_time": "2021-09-20T14:00:07.740767",
     "exception": false,
     "start_time": "2021-09-20T14:00:06.887175",
     "status": "completed"
    },
    "tags": []
   },
   "outputs": [],
   "source": [
    "import pandas as pd\n",
    "import sqlite3"
   ]
  },
  {
   "cell_type": "code",
   "execution_count": 2,
   "id": "innovative-syndrome",
   "metadata": {
    "execution": {
     "iopub.execute_input": "2021-09-20T14:00:07.791391Z",
     "iopub.status.busy": "2021-09-20T14:00:07.789350Z",
     "iopub.status.idle": "2021-09-20T14:00:08.120270Z",
     "shell.execute_reply": "2021-09-20T14:00:08.121545Z"
    },
    "papermill": {
     "duration": 0.360855,
     "end_time": "2021-09-20T14:00:08.121954",
     "exception": false,
     "start_time": "2021-09-20T14:00:07.761099",
     "status": "completed"
    },
    "tags": []
   },
   "outputs": [],
   "source": [
    "timestamps = pd.read_sql(\"select distinct record_time from EBAY_TOP_BERLIN order by record_time desc limit 2\", sqlite3.connect(\"UsedObjects.db\"))"
   ]
  },
  {
   "cell_type": "code",
   "execution_count": 3,
   "id": "periodic-identification",
   "metadata": {
    "execution": {
     "iopub.execute_input": "2021-09-20T14:00:08.188579Z",
     "iopub.status.busy": "2021-09-20T14:00:08.186488Z",
     "iopub.status.idle": "2021-09-20T14:00:08.207138Z",
     "shell.execute_reply": "2021-09-20T14:00:08.208432Z"
    },
    "papermill": {
     "duration": 0.06728,
     "end_time": "2021-09-20T14:00:08.208841",
     "exception": false,
     "start_time": "2021-09-20T14:00:08.141561",
     "status": "completed"
    },
    "tags": []
   },
   "outputs": [
    {
     "data": {
      "text/html": [
       "<div>\n",
       "<style scoped>\n",
       "    .dataframe tbody tr th:only-of-type {\n",
       "        vertical-align: middle;\n",
       "    }\n",
       "\n",
       "    .dataframe tbody tr th {\n",
       "        vertical-align: top;\n",
       "    }\n",
       "\n",
       "    .dataframe thead th {\n",
       "        text-align: right;\n",
       "    }\n",
       "</style>\n",
       "<table border=\"1\" class=\"dataframe\">\n",
       "  <thead>\n",
       "    <tr style=\"text-align: right;\">\n",
       "      <th></th>\n",
       "      <th>RECORD_TIME</th>\n",
       "    </tr>\n",
       "  </thead>\n",
       "  <tbody>\n",
       "    <tr>\n",
       "      <th>0</th>\n",
       "      <td>2021-09-20 16:00</td>\n",
       "    </tr>\n",
       "    <tr>\n",
       "      <th>1</th>\n",
       "      <td>2021-09-20 15:30</td>\n",
       "    </tr>\n",
       "  </tbody>\n",
       "</table>\n",
       "</div>"
      ],
      "text/plain": [
       "        RECORD_TIME\n",
       "0  2021-09-20 16:00\n",
       "1  2021-09-20 15:30"
      ]
     },
     "execution_count": 3,
     "metadata": {},
     "output_type": "execute_result"
    }
   ],
   "source": [
    "timestamps"
   ]
  },
  {
   "cell_type": "code",
   "execution_count": 4,
   "id": "alternate-victory",
   "metadata": {
    "execution": {
     "iopub.execute_input": "2021-09-20T14:00:08.260256Z",
     "iopub.status.busy": "2021-09-20T14:00:08.258316Z",
     "iopub.status.idle": "2021-09-20T14:00:08.749238Z",
     "shell.execute_reply": "2021-09-20T14:00:08.750453Z"
    },
    "papermill": {
     "duration": 0.521003,
     "end_time": "2021-09-20T14:00:08.751113",
     "exception": false,
     "start_time": "2021-09-20T14:00:08.230110",
     "status": "completed"
    },
    "tags": []
   },
   "outputs": [],
   "source": [
    "df = pd.read_sql(\"select * from EBAY_TOP_BERLIN where record_time in (select distinct record_time from EBAY_TOP_BERLIN order by record_time desc limit 2)\", sqlite3.connect(\"UsedObjects.db\"))"
   ]
  },
  {
   "cell_type": "code",
   "execution_count": 5,
   "id": "popular-active",
   "metadata": {
    "execution": {
     "iopub.execute_input": "2021-09-20T14:00:08.831715Z",
     "iopub.status.busy": "2021-09-20T14:00:08.819241Z",
     "iopub.status.idle": "2021-09-20T14:00:08.847311Z",
     "shell.execute_reply": "2021-09-20T14:00:08.848541Z"
    },
    "papermill": {
     "duration": 0.069915,
     "end_time": "2021-09-20T14:00:08.848936",
     "exception": false,
     "start_time": "2021-09-20T14:00:08.779021",
     "status": "completed"
    },
    "tags": []
   },
   "outputs": [],
   "source": [
    "df_pivot = df.pivot_table(index=\"PRODUCT\", columns = \"RECORD_TIME\", values = \"LISTING_COUNT\")"
   ]
  },
  {
   "cell_type": "code",
   "execution_count": 6,
   "id": "union-huntington",
   "metadata": {
    "execution": {
     "iopub.execute_input": "2021-09-20T14:00:08.904492Z",
     "iopub.status.busy": "2021-09-20T14:00:08.902471Z",
     "iopub.status.idle": "2021-09-20T14:00:08.907615Z",
     "shell.execute_reply": "2021-09-20T14:00:08.908739Z"
    },
    "papermill": {
     "duration": 0.039504,
     "end_time": "2021-09-20T14:00:08.909142",
     "exception": false,
     "start_time": "2021-09-20T14:00:08.869638",
     "status": "completed"
    },
    "tags": []
   },
   "outputs": [],
   "source": [
    "df_pivot.columns = [\"stamp_1\", \"stamp_2\"]\n",
    "df_pivot_diff = df_pivot.diff(axis=1)"
   ]
  },
  {
   "cell_type": "code",
   "execution_count": 7,
   "id": "fifth-motion",
   "metadata": {
    "execution": {
     "iopub.execute_input": "2021-09-20T14:00:08.962973Z",
     "iopub.status.busy": "2021-09-20T14:00:08.960525Z",
     "iopub.status.idle": "2021-09-20T14:00:10.480290Z",
     "shell.execute_reply": "2021-09-20T14:00:10.481568Z"
    },
    "papermill": {
     "duration": 1.552451,
     "end_time": "2021-09-20T14:00:10.481979",
     "exception": false,
     "start_time": "2021-09-20T14:00:08.929528",
     "status": "completed"
    },
    "tags": []
   },
   "outputs": [
    {
     "data": {
      "text/plain": [
       "<AxesSubplot:ylabel='PRODUCT'>"
      ]
     },
     "execution_count": 7,
     "metadata": {},
     "output_type": "execute_result"
    },
    {
     "data": {
      "image/png": "[encoded data removed]",
      "text/plain": [
       "<Figure size 432x288 with 1 Axes>"
      ]
     },
     "metadata": {
      "needs_background": "light"
     },
     "output_type": "display_data"
    }
   ],
   "source": [
    "df_pivot_diff.sort_values(\"stamp_2\", ascending = False)[\"stamp_2\"].head(10).plot.barh()"
   ]
  },
  {
   "cell_type": "code",
   "execution_count": null,
   "id": "extra-executive",
   "metadata": {
    "papermill": {
     "duration": 0.022238,
     "end_time": "2021-09-20T14:00:10.528943",
     "exception": false,
     "start_time": "2021-09-20T14:00:10.506705",
     "status": "completed"
    },
    "tags": []
   },
   "outputs": [],
   "source": []
  }
 ],
 "metadata": {
  "kernelspec": {
   "display_name": "Python 3",
   "language": "python",
   "name": "python3"
  },
  "language_info": {
   "codemirror_mode": {
    "name": "ipython",
    "version": 3
   },
   "file_extension": ".py",
   "mimetype": "text/x-python",
   "name": "python",
   "nbconvert_exporter": "python",
   "pygments_lexer": "ipython3",
   "version": "3.9.5"
  },
  "papermill": {
   "default_parameters": {},
   "duration": 6.683483,
   "end_time": "2021-09-20T14:00:11.169767",
   "environment_variables": {},
   "exception": null,
   "input_path": "eBay_Overview.ipynb",
   "output_path": "eBay_Overview.ipynb",
   "parameters": {},
   "start_time": "2021-09-20T14:00:04.486284",
   "version": "2.3.3"
  }
 },
 "nbformat": 4,
 "nbformat_minor": 5
}