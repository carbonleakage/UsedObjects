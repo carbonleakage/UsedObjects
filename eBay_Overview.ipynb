{
 "cells": [
  {
   "cell_type": "code",
   "execution_count": 1,
   "id": "reverse-picking",
   "metadata": {
    "execution": {
     "iopub.execute_input": "2021-09-22T04:00:07.541040Z",
     "iopub.status.busy": "2021-09-22T04:00:07.539138Z",
     "iopub.status.idle": "2021-09-22T04:00:08.342931Z",
     "shell.execute_reply": "2021-09-22T04:00:08.344311Z"
    },
    "papermill": {
     "duration": 0.857733,
     "end_time": "2021-09-22T04:00:08.344957",
     "exception": false,
     "start_time": "2021-09-22T04:00:07.487224",
     "status": "completed"
    },
    "tags": []
   },
   "outputs": [],
   "source": [
    "import pandas as pd\n",
    "import sqlite3"
   ]
  },
  {
   "cell_type": "code",
   "execution_count": 2,
   "id": "innovative-syndrome",
   "metadata": {
    "execution": {
     "iopub.execute_input": "2021-09-22T04:00:08.395290Z",
     "iopub.status.busy": "2021-09-22T04:00:08.393263Z",
     "iopub.status.idle": "2021-09-22T04:00:08.739627Z",
     "shell.execute_reply": "2021-09-22T04:00:08.740915Z"
    },
    "papermill": {
     "duration": 0.376188,
     "end_time": "2021-09-22T04:00:08.741310",
     "exception": false,
     "start_time": "2021-09-22T04:00:08.365122",
     "status": "completed"
    },
    "tags": []
   },
   "outputs": [],
   "source": [
    "timestamps = pd.read_sql(\"select distinct record_time from EBAY_TOP_BERLIN order by record_time desc limit 2\", sqlite3.connect(\"UsedObjects.db\"))"
   ]
  },
  {
   "cell_type": "code",
   "execution_count": 3,
   "id": "periodic-identification",
   "metadata": {
    "execution": {
     "iopub.execute_input": "2021-09-22T04:00:08.805711Z",
     "iopub.status.busy": "2021-09-22T04:00:08.803692Z",
     "iopub.status.idle": "2021-09-22T04:00:08.823404Z",
     "shell.execute_reply": "2021-09-22T04:00:08.824557Z"
    },
    "papermill": {
     "duration": 0.064271,
     "end_time": "2021-09-22T04:00:08.824965",
     "exception": false,
     "start_time": "2021-09-22T04:00:08.760694",
     "status": "completed"
    },
    "tags": []
   },
   "outputs": [
    {
     "data": {
      "text/html": [
       "<div>\n",
       "<style scoped>\n",
       "    .dataframe tbody tr th:only-of-type {\n",
       "        vertical-align: middle;\n",
       "    }\n",
       "\n",
       "    .dataframe tbody tr th {\n",
       "        vertical-align: top;\n",
       "    }\n",
       "\n",
       "    .dataframe thead th {\n",
       "        text-align: right;\n",
       "    }\n",
       "</style>\n",
       "<table border=\"1\" class=\"dataframe\">\n",
       "  <thead>\n",
       "    <tr style=\"text-align: right;\">\n",
       "      <th></th>\n",
       "      <th>RECORD_TIME</th>\n",
       "    </tr>\n",
       "  </thead>\n",
       "  <tbody>\n",
       "    <tr>\n",
       "      <th>0</th>\n",
       "      <td>2021-09-22 06:00</td>\n",
       "    </tr>\n",
       "    <tr>\n",
       "      <th>1</th>\n",
       "      <td>2021-09-22 05:30</td>\n",
       "    </tr>\n",
       "  </tbody>\n",
       "</table>\n",
       "</div>"
      ],
      "text/plain": [
       "        RECORD_TIME\n",
       "0  2021-09-22 06:00\n",
       "1  2021-09-22 05:30"
      ]
     },
     "execution_count": 3,
     "metadata": {},
     "output_type": "execute_result"
    }
   ],
   "source": [
    "timestamps"
   ]
  },
  {
   "cell_type": "code",
   "execution_count": 4,
   "id": "alternate-victory",
   "metadata": {
    "execution": {
     "iopub.execute_input": "2021-09-22T04:00:08.879274Z",
     "iopub.status.busy": "2021-09-22T04:00:08.876937Z",
     "iopub.status.idle": "2021-09-22T04:00:09.390092Z",
     "shell.execute_reply": "2021-09-22T04:00:09.391548Z"
    },
    "papermill": {
     "duration": 0.543806,
     "end_time": "2021-09-22T04:00:09.391961",
     "exception": false,
     "start_time": "2021-09-22T04:00:08.848155",
     "status": "completed"
    },
    "tags": []
   },
   "outputs": [],
   "source": [
    "df = pd.read_sql(\"select * from EBAY_TOP_BERLIN where record_time in (select distinct record_time from EBAY_TOP_BERLIN order by record_time desc limit 2)\", sqlite3.connect(\"UsedObjects.db\"))"
   ]
  },
  {
   "cell_type": "code",
   "execution_count": 5,
   "id": "popular-active",
   "metadata": {
    "execution": {
     "iopub.execute_input": "2021-09-22T04:00:09.471894Z",
     "iopub.status.busy": "2021-09-22T04:00:09.459571Z",
     "iopub.status.idle": "2021-09-22T04:00:09.487315Z",
     "shell.execute_reply": "2021-09-22T04:00:09.488550Z"
    },
    "papermill": {
     "duration": 0.071323,
     "end_time": "2021-09-22T04:00:09.488944",
     "exception": false,
     "start_time": "2021-09-22T04:00:09.417621",
     "status": "completed"
    },
    "tags": []
   },
   "outputs": [],
   "source": [
    "df_pivot = df.pivot_table(index=\"PRODUCT\", columns = \"RECORD_TIME\", values = \"LISTING_COUNT\")"
   ]
  },
  {
   "cell_type": "code",
   "execution_count": 6,
   "id": "union-huntington",
   "metadata": {
    "execution": {
     "iopub.execute_input": "2021-09-22T04:00:09.548387Z",
     "iopub.status.busy": "2021-09-22T04:00:09.545918Z",
     "iopub.status.idle": "2021-09-22T04:00:09.553891Z",
     "shell.execute_reply": "2021-09-22T04:00:09.552319Z"
    },
    "papermill": {
     "duration": 0.04294,
     "end_time": "2021-09-22T04:00:09.554287",
     "exception": false,
     "start_time": "2021-09-22T04:00:09.511347",
     "status": "completed"
    },
    "tags": []
   },
   "outputs": [],
   "source": [
    "df_pivot.columns = [\"stamp_1\", \"stamp_2\"]\n",
    "df_pivot_diff = df_pivot.diff(axis=1)"
   ]
  },
  {
   "cell_type": "code",
   "execution_count": 7,
   "id": "fifth-motion",
   "metadata": {
    "execution": {
     "iopub.execute_input": "2021-09-22T04:00:09.609918Z",
     "iopub.status.busy": "2021-09-22T04:00:09.607533Z",
     "iopub.status.idle": "2021-09-22T04:00:11.094880Z",
     "shell.execute_reply": "2021-09-22T04:00:11.096412Z"
    },
    "papermill": {
     "duration": 1.520293,
     "end_time": "2021-09-22T04:00:11.096870",
     "exception": false,
     "start_time": "2021-09-22T04:00:09.576577",
     "status": "completed"
    },
    "tags": []
   },
   "outputs": [
    {
     "data": {
      "text/plain": [
       "<AxesSubplot:ylabel='PRODUCT'>"
      ]
     },
     "execution_count": 7,
     "metadata": {},
     "output_type": "execute_result"
    },
    {
     "data": {
      "image/png": "[encoded data removed]",
      "text/plain": [
       "<Figure size 432x288 with 1 Axes>"
      ]
     },
     "metadata": {
      "needs_background": "light"
     },
     "output_type": "display_data"
    }
   ],
   "source": [
    "df_pivot_diff.sort_values(\"stamp_2\", ascending = False)[\"stamp_2\"].head(10).plot.barh()"
   ]
  },
  {
   "cell_type": "code",
   "execution_count": null,
   "id": "extra-executive",
   "metadata": {
    "papermill": {
     "duration": 0.022233,
     "end_time": "2021-09-22T04:00:11.143635",
     "exception": false,
     "start_time": "2021-09-22T04:00:11.121402",
     "status": "completed"
    },
    "tags": []
   },
   "outputs": [],
   "source": []
  }
 ],
 "metadata": {
  "kernelspec": {
   "display_name": "Python 3",
   "language": "python",
   "name": "python3"
  },
  "language_info": {
   "codemirror_mode": {
    "name": "ipython",
    "version": 3
   },
   "file_extension": ".py",
   "mimetype": "text/x-python",
   "name": "python",
   "nbconvert_exporter": "python",
   "pygments_lexer": "ipython3",
   "version": "3.9.5"
  },
  "papermill": {
   "default_parameters": {},
   "duration": 6.695337,
   "end_time": "2021-09-22T04:00:11.786698",
   "environment_variables": {},
   "exception": null,
   "input_path": "eBay_Overview.ipynb",
   "output_path": "eBay_Overview.ipynb",
   "parameters": {},
   "start_time": "2021-09-22T04:00:05.091361",
   "version": "2.3.3"
  }
 },
 "nbformat": 4,
 "nbformat_minor": 5
}