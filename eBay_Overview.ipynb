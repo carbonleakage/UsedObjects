{
 "cells": [
  {
   "cell_type": "code",
   "execution_count": 1,
   "id": "reverse-picking",
   "metadata": {
    "execution": {
     "iopub.execute_input": "2021-11-28T22:30:08.205666Z",
     "iopub.status.busy": "2021-11-28T22:30:08.203467Z",
     "iopub.status.idle": "2021-11-28T22:30:09.156752Z",
     "shell.execute_reply": "2021-11-28T22:30:09.158421Z"
    },
    "papermill": {
     "duration": 1.003752,
     "end_time": "2021-11-28T22:30:09.159149",
     "exception": false,
     "start_time": "2021-11-28T22:30:08.155397",
     "status": "completed"
    },
    "tags": []
   },
   "outputs": [],
   "source": [
    "import pandas as pd\n",
    "import sqlite3"
   ]
  },
  {
   "cell_type": "code",
   "execution_count": 2,
   "id": "innovative-syndrome",
   "metadata": {
    "execution": {
     "iopub.execute_input": "2021-11-28T22:30:09.224056Z",
     "iopub.status.busy": "2021-11-28T22:30:09.221845Z",
     "iopub.status.idle": "2021-11-28T22:30:10.159450Z",
     "shell.execute_reply": "2021-11-28T22:30:10.161118Z"
    },
    "papermill": {
     "duration": 0.97204,
     "end_time": "2021-11-28T22:30:10.161618",
     "exception": false,
     "start_time": "2021-11-28T22:30:09.189578",
     "status": "completed"
    },
    "tags": []
   },
   "outputs": [],
   "source": [
    "timestamps = pd.read_sql(\"select distinct record_time from EBAY_TOP_BERLIN order by record_time desc limit 2\", sqlite3.connect(\"UsedObjects.db\"))"
   ]
  },
  {
   "cell_type": "code",
   "execution_count": 3,
   "id": "periodic-identification",
   "metadata": {
    "execution": {
     "iopub.execute_input": "2021-11-28T22:30:10.228109Z",
     "iopub.status.busy": "2021-11-28T22:30:10.226112Z",
     "iopub.status.idle": "2021-11-28T22:30:10.245636Z",
     "shell.execute_reply": "2021-11-28T22:30:10.247166Z"
    },
    "papermill": {
     "duration": 0.065955,
     "end_time": "2021-11-28T22:30:10.247629",
     "exception": false,
     "start_time": "2021-11-28T22:30:10.181674",
     "status": "completed"
    },
    "tags": []
   },
   "outputs": [
    {
     "data": {
      "text/html": [
       "<div>\n",
       "<style scoped>\n",
       "    .dataframe tbody tr th:only-of-type {\n",
       "        vertical-align: middle;\n",
       "    }\n",
       "\n",
       "    .dataframe tbody tr th {\n",
       "        vertical-align: top;\n",
       "    }\n",
       "\n",
       "    .dataframe thead th {\n",
       "        text-align: right;\n",
       "    }\n",
       "</style>\n",
       "<table border=\"1\" class=\"dataframe\">\n",
       "  <thead>\n",
       "    <tr style=\"text-align: right;\">\n",
       "      <th></th>\n",
       "      <th>RECORD_TIME</th>\n",
       "    </tr>\n",
       "  </thead>\n",
       "  <tbody>\n",
       "    <tr>\n",
       "      <th>0</th>\n",
       "      <td>2021-11-28 23:30</td>\n",
       "    </tr>\n",
       "    <tr>\n",
       "      <th>1</th>\n",
       "      <td>2021-11-28 23:00</td>\n",
       "    </tr>\n",
       "  </tbody>\n",
       "</table>\n",
       "</div>"
      ],
      "text/plain": [
       "        RECORD_TIME\n",
       "0  2021-11-28 23:30\n",
       "1  2021-11-28 23:00"
      ]
     },
     "execution_count": 3,
     "metadata": {},
     "output_type": "execute_result"
    }
   ],
   "source": [
    "timestamps"
   ]
  },
  {
   "cell_type": "code",
   "execution_count": 4,
   "id": "alternate-victory",
   "metadata": {
    "execution": {
     "iopub.execute_input": "2021-11-28T22:30:10.300130Z",
     "iopub.status.busy": "2021-11-28T22:30:10.298086Z",
     "iopub.status.idle": "2021-11-28T22:30:11.705038Z",
     "shell.execute_reply": "2021-11-28T22:30:11.706609Z"
    },
    "papermill": {
     "duration": 1.438139,
     "end_time": "2021-11-28T22:30:11.707128",
     "exception": false,
     "start_time": "2021-11-28T22:30:10.268989",
     "status": "completed"
    },
    "tags": []
   },
   "outputs": [],
   "source": [
    "df = pd.read_sql(\"select * from EBAY_TOP_BERLIN where record_time in (select distinct record_time from EBAY_TOP_BERLIN order by record_time desc limit 2)\", sqlite3.connect(\"UsedObjects.db\"))"
   ]
  },
  {
   "cell_type": "code",
   "execution_count": 5,
   "id": "popular-active",
   "metadata": {
    "execution": {
     "iopub.execute_input": "2021-11-28T22:30:11.777332Z",
     "iopub.status.busy": "2021-11-28T22:30:11.774720Z",
     "iopub.status.idle": "2021-11-28T22:30:11.811897Z",
     "shell.execute_reply": "2021-11-28T22:30:11.813731Z"
    },
    "papermill": {
     "duration": 0.08393,
     "end_time": "2021-11-28T22:30:11.814305",
     "exception": false,
     "start_time": "2021-11-28T22:30:11.730375",
     "status": "completed"
    },
    "tags": []
   },
   "outputs": [],
   "source": [
    "df_pivot = df.pivot_table(index=\"PRODUCT\", columns = \"RECORD_TIME\", values = \"LISTING_COUNT\")"
   ]
  },
  {
   "cell_type": "code",
   "execution_count": 6,
   "id": "union-huntington",
   "metadata": {
    "execution": {
     "iopub.execute_input": "2021-11-28T22:30:11.876194Z",
     "iopub.status.busy": "2021-11-28T22:30:11.874005Z",
     "iopub.status.idle": "2021-11-28T22:30:11.880259Z",
     "shell.execute_reply": "2021-11-28T22:30:11.881698Z"
    },
    "papermill": {
     "duration": 0.044898,
     "end_time": "2021-11-28T22:30:11.882182",
     "exception": false,
     "start_time": "2021-11-28T22:30:11.837284",
     "status": "completed"
    },
    "tags": []
   },
   "outputs": [],
   "source": [
    "df_pivot.columns = [\"stamp_1\", \"stamp_2\"]\n",
    "df_pivot_diff = df_pivot.diff(axis=1)"
   ]
  },
  {
   "cell_type": "code",
   "execution_count": 7,
   "id": "fifth-motion",
   "metadata": {
    "execution": {
     "iopub.execute_input": "2021-11-28T22:30:11.938398Z",
     "iopub.status.busy": "2021-11-28T22:30:11.935612Z",
     "iopub.status.idle": "2021-11-28T22:30:13.996874Z",
     "shell.execute_reply": "2021-11-28T22:30:13.998619Z"
    },
    "papermill": {
     "duration": 2.097002,
     "end_time": "2021-11-28T22:30:13.999224",
     "exception": false,
     "start_time": "2021-11-28T22:30:11.902222",
     "status": "completed"
    },
    "tags": []
   },
   "outputs": [
    {
     "data": {
      "text/plain": [
       "<AxesSubplot:ylabel='PRODUCT'>"
      ]
     },
     "execution_count": 7,
     "metadata": {},
     "output_type": "execute_result"
    },
    {
     "data": {
      "image/png": "[encoded data removed]",
      "text/plain": [
       "<Figure size 432x288 with 1 Axes>"
      ]
     },
     "metadata": {
      "needs_background": "light"
     },
     "output_type": "display_data"
    }
   ],
   "source": [
    "df_pivot_diff.sort_values(\"stamp_2\", ascending = False)[\"stamp_2\"].head(10).plot.barh()"
   ]
  },
  {
   "cell_type": "code",
   "execution_count": null,
   "id": "extra-executive",
   "metadata": {
    "papermill": {
     "duration": 0.024195,
     "end_time": "2021-11-28T22:30:14.048092",
     "exception": false,
     "start_time": "2021-11-28T22:30:14.023897",
     "status": "completed"
    },
    "tags": []
   },
   "outputs": [],
   "source": []
  }
 ],
 "metadata": {
  "kernelspec": {
   "display_name": "Python 3",
   "language": "python",
   "name": "python3"
  },
  "language_info": {
   "codemirror_mode": {
    "name": "ipython",
    "version": 3
   },
   "file_extension": ".py",
   "mimetype": "text/x-python",
   "name": "python",
   "nbconvert_exporter": "python",
   "pygments_lexer": "ipython3",
   "version": "3.9.5"
  },
  "papermill": {
   "default_parameters": {},
   "duration": 9.940992,
   "end_time": "2021-11-28T22:30:15.367763",
   "environment_variables": {},
   "exception": null,
   "input_path": "eBay_Overview.ipynb",
   "output_path": "eBay_Overview.ipynb",
   "parameters": {},
   "start_time": "2021-11-28T22:30:05.426771",
   "version": "2.3.3"
  }
 },
 "nbformat": 4,
 "nbformat_minor": 5
}