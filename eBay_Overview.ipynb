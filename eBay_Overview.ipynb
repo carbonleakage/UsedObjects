{
 "cells": [
  {
   "cell_type": "code",
   "execution_count": 1,
   "id": "reverse-picking",
   "metadata": {
    "execution": {
     "iopub.execute_input": "2021-09-19T19:30:06.832705Z",
     "iopub.status.busy": "2021-09-19T19:30:06.830627Z",
     "iopub.status.idle": "2021-09-19T19:30:07.634246Z",
     "shell.execute_reply": "2021-09-19T19:30:07.635649Z"
    },
    "papermill": {
     "duration": 0.85407,
     "end_time": "2021-09-19T19:30:07.636284",
     "exception": false,
     "start_time": "2021-09-19T19:30:06.782214",
     "status": "completed"
    },
    "tags": []
   },
   "outputs": [],
   "source": [
    "import pandas as pd\n",
    "import sqlite3"
   ]
  },
  {
   "cell_type": "code",
   "execution_count": 2,
   "id": "innovative-syndrome",
   "metadata": {
    "execution": {
     "iopub.execute_input": "2021-09-19T19:30:07.686691Z",
     "iopub.status.busy": "2021-09-19T19:30:07.684814Z",
     "iopub.status.idle": "2021-09-19T19:30:08.011771Z",
     "shell.execute_reply": "2021-09-19T19:30:08.013153Z"
    },
    "papermill": {
     "duration": 0.356494,
     "end_time": "2021-09-19T19:30:08.013590",
     "exception": false,
     "start_time": "2021-09-19T19:30:07.657096",
     "status": "completed"
    },
    "tags": []
   },
   "outputs": [],
   "source": [
    "timestamps = pd.read_sql(\"select distinct record_time from EBAY_TOP_BERLIN order by record_time desc limit 2\", sqlite3.connect(\"UsedObjects.db\"))"
   ]
  },
  {
   "cell_type": "code",
   "execution_count": 3,
   "id": "periodic-identification",
   "metadata": {
    "execution": {
     "iopub.execute_input": "2021-09-19T19:30:08.080615Z",
     "iopub.status.busy": "2021-09-19T19:30:08.078518Z",
     "iopub.status.idle": "2021-09-19T19:30:08.098342Z",
     "shell.execute_reply": "2021-09-19T19:30:08.099741Z"
    },
    "papermill": {
     "duration": 0.066811,
     "end_time": "2021-09-19T19:30:08.100178",
     "exception": false,
     "start_time": "2021-09-19T19:30:08.033367",
     "status": "completed"
    },
    "tags": []
   },
   "outputs": [
    {
     "data": {
      "text/html": [
       "<div>\n",
       "<style scoped>\n",
       "    .dataframe tbody tr th:only-of-type {\n",
       "        vertical-align: middle;\n",
       "    }\n",
       "\n",
       "    .dataframe tbody tr th {\n",
       "        vertical-align: top;\n",
       "    }\n",
       "\n",
       "    .dataframe thead th {\n",
       "        text-align: right;\n",
       "    }\n",
       "</style>\n",
       "<table border=\"1\" class=\"dataframe\">\n",
       "  <thead>\n",
       "    <tr style=\"text-align: right;\">\n",
       "      <th></th>\n",
       "      <th>RECORD_TIME</th>\n",
       "    </tr>\n",
       "  </thead>\n",
       "  <tbody>\n",
       "    <tr>\n",
       "      <th>0</th>\n",
       "      <td>2021-09-19 21:30</td>\n",
       "    </tr>\n",
       "    <tr>\n",
       "      <th>1</th>\n",
       "      <td>2021-09-19 21:00</td>\n",
       "    </tr>\n",
       "  </tbody>\n",
       "</table>\n",
       "</div>"
      ],
      "text/plain": [
       "        RECORD_TIME\n",
       "0  2021-09-19 21:30\n",
       "1  2021-09-19 21:00"
      ]
     },
     "execution_count": 3,
     "metadata": {},
     "output_type": "execute_result"
    }
   ],
   "source": [
    "timestamps"
   ]
  },
  {
   "cell_type": "code",
   "execution_count": 4,
   "id": "alternate-victory",
   "metadata": {
    "execution": {
     "iopub.execute_input": "2021-09-19T19:30:08.151704Z",
     "iopub.status.busy": "2021-09-19T19:30:08.149741Z",
     "iopub.status.idle": "2021-09-19T19:30:08.621549Z",
     "shell.execute_reply": "2021-09-19T19:30:08.622916Z"
    },
    "papermill": {
     "duration": 0.501858,
     "end_time": "2021-09-19T19:30:08.623348",
     "exception": false,
     "start_time": "2021-09-19T19:30:08.121490",
     "status": "completed"
    },
    "tags": []
   },
   "outputs": [],
   "source": [
    "df = pd.read_sql(\"select * from EBAY_TOP_BERLIN where record_time in (select distinct record_time from EBAY_TOP_BERLIN order by record_time desc limit 2)\", sqlite3.connect(\"UsedObjects.db\"))"
   ]
  },
  {
   "cell_type": "code",
   "execution_count": 5,
   "id": "popular-active",
   "metadata": {
    "execution": {
     "iopub.execute_input": "2021-09-19T19:30:08.693344Z",
     "iopub.status.busy": "2021-09-19T19:30:08.681054Z",
     "iopub.status.idle": "2021-09-19T19:30:08.708990Z",
     "shell.execute_reply": "2021-09-19T19:30:08.710292Z"
    },
    "papermill": {
     "duration": 0.06676,
     "end_time": "2021-09-19T19:30:08.710707",
     "exception": false,
     "start_time": "2021-09-19T19:30:08.643947",
     "status": "completed"
    },
    "tags": []
   },
   "outputs": [],
   "source": [
    "df_pivot = df.pivot_table(index=\"PRODUCT\", columns = \"RECORD_TIME\", values = \"LISTING_COUNT\")"
   ]
  },
  {
   "cell_type": "code",
   "execution_count": 6,
   "id": "union-huntington",
   "metadata": {
    "execution": {
     "iopub.execute_input": "2021-09-19T19:30:08.766610Z",
     "iopub.status.busy": "2021-09-19T19:30:08.764551Z",
     "iopub.status.idle": "2021-09-19T19:30:08.770104Z",
     "shell.execute_reply": "2021-09-19T19:30:08.771468Z"
    },
    "papermill": {
     "duration": 0.041506,
     "end_time": "2021-09-19T19:30:08.771901",
     "exception": false,
     "start_time": "2021-09-19T19:30:08.730395",
     "status": "completed"
    },
    "tags": []
   },
   "outputs": [],
   "source": [
    "df_pivot.columns = [\"stamp_1\", \"stamp_2\"]\n",
    "df_pivot_diff = df_pivot.diff(axis=1)"
   ]
  },
  {
   "cell_type": "code",
   "execution_count": 7,
   "id": "fifth-motion",
   "metadata": {
    "execution": {
     "iopub.execute_input": "2021-09-19T19:30:08.825881Z",
     "iopub.status.busy": "2021-09-19T19:30:08.823446Z",
     "iopub.status.idle": "2021-09-19T19:30:10.294732Z",
     "shell.execute_reply": "2021-09-19T19:30:10.296185Z"
    },
    "papermill": {
     "duration": 1.504273,
     "end_time": "2021-09-19T19:30:10.296621",
     "exception": false,
     "start_time": "2021-09-19T19:30:08.792348",
     "status": "completed"
    },
    "tags": []
   },
   "outputs": [
    {
     "data": {
      "text/plain": [
       "<AxesSubplot:ylabel='PRODUCT'>"
      ]
     },
     "execution_count": 7,
     "metadata": {},
     "output_type": "execute_result"
    },
    {
     "data": {
      "image/png": "[encoded data removed]",
      "text/plain": [
       "<Figure size 432x288 with 1 Axes>"
      ]
     },
     "metadata": {
      "needs_background": "light"
     },
     "output_type": "display_data"
    }
   ],
   "source": [
    "df_pivot_diff.sort_values(\"stamp_2\", ascending = False)[\"stamp_2\"].head(10).plot.barh()"
   ]
  },
  {
   "cell_type": "code",
   "execution_count": null,
   "id": "extra-executive",
   "metadata": {
    "papermill": {
     "duration": 0.022266,
     "end_time": "2021-09-19T19:30:10.343562",
     "exception": false,
     "start_time": "2021-09-19T19:30:10.321296",
     "status": "completed"
    },
    "tags": []
   },
   "outputs": [],
   "source": []
  }
 ],
 "metadata": {
  "kernelspec": {
   "display_name": "Python 3",
   "language": "python",
   "name": "python3"
  },
  "language_info": {
   "codemirror_mode": {
    "name": "ipython",
    "version": 3
   },
   "file_extension": ".py",
   "mimetype": "text/x-python",
   "name": "python",
   "nbconvert_exporter": "python",
   "pygments_lexer": "ipython3",
   "version": "3.9.5"
  },
  "papermill": {
   "default_parameters": {},
   "duration": 6.60576,
   "end_time": "2021-09-19T19:30:10.984957",
   "environment_variables": {},
   "exception": null,
   "input_path": "eBay_Overview.ipynb",
   "output_path": "eBay_Overview.ipynb",
   "parameters": {},
   "start_time": "2021-09-19T19:30:04.379197",
   "version": "2.3.3"
  }
 },
 "nbformat": 4,
 "nbformat_minor": 5
}