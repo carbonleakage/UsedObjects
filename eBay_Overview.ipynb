{
 "cells": [
  {
   "cell_type": "code",
   "execution_count": 1,
   "id": "reverse-picking",
   "metadata": {
    "execution": {
     "iopub.execute_input": "2021-09-25T00:00:06.765122Z",
     "iopub.status.busy": "2021-09-25T00:00:06.763179Z",
     "iopub.status.idle": "2021-09-25T00:00:07.567142Z",
     "shell.execute_reply": "2021-09-25T00:00:07.568413Z"
    },
    "papermill": {
     "duration": 0.857265,
     "end_time": "2021-09-25T00:00:07.569021",
     "exception": false,
     "start_time": "2021-09-25T00:00:06.711756",
     "status": "completed"
    },
    "tags": []
   },
   "outputs": [],
   "source": [
    "import pandas as pd\n",
    "import sqlite3"
   ]
  },
  {
   "cell_type": "code",
   "execution_count": 2,
   "id": "innovative-syndrome",
   "metadata": {
    "execution": {
     "iopub.execute_input": "2021-09-25T00:00:07.619862Z",
     "iopub.status.busy": "2021-09-25T00:00:07.617870Z",
     "iopub.status.idle": "2021-09-25T00:00:07.991526Z",
     "shell.execute_reply": "2021-09-25T00:00:07.992959Z"
    },
    "papermill": {
     "duration": 0.403086,
     "end_time": "2021-09-25T00:00:07.993401",
     "exception": false,
     "start_time": "2021-09-25T00:00:07.590315",
     "status": "completed"
    },
    "tags": []
   },
   "outputs": [],
   "source": [
    "timestamps = pd.read_sql(\"select distinct record_time from EBAY_TOP_BERLIN order by record_time desc limit 2\", sqlite3.connect(\"UsedObjects.db\"))"
   ]
  },
  {
   "cell_type": "code",
   "execution_count": 3,
   "id": "periodic-identification",
   "metadata": {
    "execution": {
     "iopub.execute_input": "2021-09-25T00:00:08.059911Z",
     "iopub.status.busy": "2021-09-25T00:00:08.058074Z",
     "iopub.status.idle": "2021-09-25T00:00:08.079680Z",
     "shell.execute_reply": "2021-09-25T00:00:08.080914Z"
    },
    "papermill": {
     "duration": 0.06806,
     "end_time": "2021-09-25T00:00:08.081311",
     "exception": false,
     "start_time": "2021-09-25T00:00:08.013251",
     "status": "completed"
    },
    "tags": []
   },
   "outputs": [
    {
     "data": {
      "text/html": [
       "<div>\n",
       "<style scoped>\n",
       "    .dataframe tbody tr th:only-of-type {\n",
       "        vertical-align: middle;\n",
       "    }\n",
       "\n",
       "    .dataframe tbody tr th {\n",
       "        vertical-align: top;\n",
       "    }\n",
       "\n",
       "    .dataframe thead th {\n",
       "        text-align: right;\n",
       "    }\n",
       "</style>\n",
       "<table border=\"1\" class=\"dataframe\">\n",
       "  <thead>\n",
       "    <tr style=\"text-align: right;\">\n",
       "      <th></th>\n",
       "      <th>RECORD_TIME</th>\n",
       "    </tr>\n",
       "  </thead>\n",
       "  <tbody>\n",
       "    <tr>\n",
       "      <th>0</th>\n",
       "      <td>2021-09-25 02:00</td>\n",
       "    </tr>\n",
       "    <tr>\n",
       "      <th>1</th>\n",
       "      <td>2021-09-25 01:30</td>\n",
       "    </tr>\n",
       "  </tbody>\n",
       "</table>\n",
       "</div>"
      ],
      "text/plain": [
       "        RECORD_TIME\n",
       "0  2021-09-25 02:00\n",
       "1  2021-09-25 01:30"
      ]
     },
     "execution_count": 3,
     "metadata": {},
     "output_type": "execute_result"
    }
   ],
   "source": [
    "timestamps"
   ]
  },
  {
   "cell_type": "code",
   "execution_count": 4,
   "id": "alternate-victory",
   "metadata": {
    "execution": {
     "iopub.execute_input": "2021-09-25T00:00:08.134026Z",
     "iopub.status.busy": "2021-09-25T00:00:08.131768Z",
     "iopub.status.idle": "2021-09-25T00:00:08.680110Z",
     "shell.execute_reply": "2021-09-25T00:00:08.681548Z"
    },
    "papermill": {
     "duration": 0.579004,
     "end_time": "2021-09-25T00:00:08.681990",
     "exception": false,
     "start_time": "2021-09-25T00:00:08.102986",
     "status": "completed"
    },
    "tags": []
   },
   "outputs": [],
   "source": [
    "df = pd.read_sql(\"select * from EBAY_TOP_BERLIN where record_time in (select distinct record_time from EBAY_TOP_BERLIN order by record_time desc limit 2)\", sqlite3.connect(\"UsedObjects.db\"))"
   ]
  },
  {
   "cell_type": "code",
   "execution_count": 5,
   "id": "popular-active",
   "metadata": {
    "execution": {
     "iopub.execute_input": "2021-09-25T00:00:08.767842Z",
     "iopub.status.busy": "2021-09-25T00:00:08.755084Z",
     "iopub.status.idle": "2021-09-25T00:00:08.783889Z",
     "shell.execute_reply": "2021-09-25T00:00:08.785172Z"
    },
    "papermill": {
     "duration": 0.074592,
     "end_time": "2021-09-25T00:00:08.785593",
     "exception": false,
     "start_time": "2021-09-25T00:00:08.711001",
     "status": "completed"
    },
    "tags": []
   },
   "outputs": [],
   "source": [
    "df_pivot = df.pivot_table(index=\"PRODUCT\", columns = \"RECORD_TIME\", values = \"LISTING_COUNT\")"
   ]
  },
  {
   "cell_type": "code",
   "execution_count": 6,
   "id": "union-huntington",
   "metadata": {
    "execution": {
     "iopub.execute_input": "2021-09-25T00:00:08.843478Z",
     "iopub.status.busy": "2021-09-25T00:00:08.841376Z",
     "iopub.status.idle": "2021-09-25T00:00:08.846498Z",
     "shell.execute_reply": "2021-09-25T00:00:08.847844Z"
    },
    "papermill": {
     "duration": 0.040362,
     "end_time": "2021-09-25T00:00:08.848258",
     "exception": false,
     "start_time": "2021-09-25T00:00:08.807896",
     "status": "completed"
    },
    "tags": []
   },
   "outputs": [],
   "source": [
    "df_pivot.columns = [\"stamp_1\", \"stamp_2\"]\n",
    "df_pivot_diff = df_pivot.diff(axis=1)"
   ]
  },
  {
   "cell_type": "code",
   "execution_count": 7,
   "id": "fifth-motion",
   "metadata": {
    "execution": {
     "iopub.execute_input": "2021-09-25T00:00:08.902428Z",
     "iopub.status.busy": "2021-09-25T00:00:08.900080Z",
     "iopub.status.idle": "2021-09-25T00:00:10.392712Z",
     "shell.execute_reply": "2021-09-25T00:00:10.393980Z"
    },
    "papermill": {
     "duration": 1.525048,
     "end_time": "2021-09-25T00:00:10.394400",
     "exception": false,
     "start_time": "2021-09-25T00:00:08.869352",
     "status": "completed"
    },
    "tags": []
   },
   "outputs": [
    {
     "data": {
      "text/plain": [
       "<AxesSubplot:ylabel='PRODUCT'>"
      ]
     },
     "execution_count": 7,
     "metadata": {},
     "output_type": "execute_result"
    },
    {
     "data": {
      "image/png": "[encoded data removed]",
      "text/plain": [
       "<Figure size 432x288 with 1 Axes>"
      ]
     },
     "metadata": {
      "needs_background": "light"
     },
     "output_type": "display_data"
    }
   ],
   "source": [
    "df_pivot_diff.sort_values(\"stamp_2\", ascending = False)[\"stamp_2\"].head(10).plot.barh()"
   ]
  },
  {
   "cell_type": "code",
   "execution_count": null,
   "id": "extra-executive",
   "metadata": {
    "papermill": {
     "duration": 0.022044,
     "end_time": "2021-09-25T00:00:10.441679",
     "exception": false,
     "start_time": "2021-09-25T00:00:10.419635",
     "status": "completed"
    },
    "tags": []
   },
   "outputs": [],
   "source": []
  }
 ],
 "metadata": {
  "kernelspec": {
   "display_name": "Python 3",
   "language": "python",
   "name": "python3"
  },
  "language_info": {
   "codemirror_mode": {
    "name": "ipython",
    "version": 3
   },
   "file_extension": ".py",
   "mimetype": "text/x-python",
   "name": "python",
   "nbconvert_exporter": "python",
   "pygments_lexer": "ipython3",
   "version": "3.9.5"
  },
  "papermill": {
   "default_parameters": {},
   "duration": 6.769274,
   "end_time": "2021-09-25T00:00:11.084004",
   "environment_variables": {},
   "exception": null,
   "input_path": "eBay_Overview.ipynb",
   "output_path": "eBay_Overview.ipynb",
   "parameters": {},
   "start_time": "2021-09-25T00:00:04.314730",
   "version": "2.3.3"
  }
 },
 "nbformat": 4,
 "nbformat_minor": 5
}