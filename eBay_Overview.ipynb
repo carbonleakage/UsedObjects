{
 "cells": [
  {
   "cell_type": "code",
   "execution_count": 1,
   "id": "reverse-picking",
   "metadata": {
    "execution": {
     "iopub.execute_input": "2021-10-15T02:00:07.816781Z",
     "iopub.status.busy": "2021-10-15T02:00:07.814790Z",
     "iopub.status.idle": "2021-10-15T02:00:08.622006Z",
     "shell.execute_reply": "2021-10-15T02:00:08.623260Z"
    },
    "papermill": {
     "duration": 0.860345,
     "end_time": "2021-10-15T02:00:08.623866",
     "exception": false,
     "start_time": "2021-10-15T02:00:07.763521",
     "status": "completed"
    },
    "tags": []
   },
   "outputs": [],
   "source": [
    "import pandas as pd\n",
    "import sqlite3"
   ]
  },
  {
   "cell_type": "code",
   "execution_count": 2,
   "id": "innovative-syndrome",
   "metadata": {
    "execution": {
     "iopub.execute_input": "2021-10-15T02:00:08.675064Z",
     "iopub.status.busy": "2021-10-15T02:00:08.673196Z",
     "iopub.status.idle": "2021-10-15T02:00:09.217726Z",
     "shell.execute_reply": "2021-10-15T02:00:09.219102Z"
    },
    "papermill": {
     "duration": 0.574541,
     "end_time": "2021-10-15T02:00:09.219536",
     "exception": false,
     "start_time": "2021-10-15T02:00:08.644995",
     "status": "completed"
    },
    "tags": []
   },
   "outputs": [],
   "source": [
    "timestamps = pd.read_sql(\"select distinct record_time from EBAY_TOP_BERLIN order by record_time desc limit 2\", sqlite3.connect(\"UsedObjects.db\"))"
   ]
  },
  {
   "cell_type": "code",
   "execution_count": 3,
   "id": "periodic-identification",
   "metadata": {
    "execution": {
     "iopub.execute_input": "2021-10-15T02:00:09.300521Z",
     "iopub.status.busy": "2021-10-15T02:00:09.298472Z",
     "iopub.status.idle": "2021-10-15T02:00:09.318075Z",
     "shell.execute_reply": "2021-10-15T02:00:09.319314Z"
    },
    "papermill": {
     "duration": 0.07118,
     "end_time": "2021-10-15T02:00:09.319708",
     "exception": false,
     "start_time": "2021-10-15T02:00:09.248528",
     "status": "completed"
    },
    "tags": []
   },
   "outputs": [
    {
     "data": {
      "text/html": [
       "<div>\n",
       "<style scoped>\n",
       "    .dataframe tbody tr th:only-of-type {\n",
       "        vertical-align: middle;\n",
       "    }\n",
       "\n",
       "    .dataframe tbody tr th {\n",
       "        vertical-align: top;\n",
       "    }\n",
       "\n",
       "    .dataframe thead th {\n",
       "        text-align: right;\n",
       "    }\n",
       "</style>\n",
       "<table border=\"1\" class=\"dataframe\">\n",
       "  <thead>\n",
       "    <tr style=\"text-align: right;\">\n",
       "      <th></th>\n",
       "      <th>RECORD_TIME</th>\n",
       "    </tr>\n",
       "  </thead>\n",
       "  <tbody>\n",
       "    <tr>\n",
       "      <th>0</th>\n",
       "      <td>2021-10-15 04:00</td>\n",
       "    </tr>\n",
       "    <tr>\n",
       "      <th>1</th>\n",
       "      <td>2021-10-15 03:30</td>\n",
       "    </tr>\n",
       "  </tbody>\n",
       "</table>\n",
       "</div>"
      ],
      "text/plain": [
       "        RECORD_TIME\n",
       "0  2021-10-15 04:00\n",
       "1  2021-10-15 03:30"
      ]
     },
     "execution_count": 3,
     "metadata": {},
     "output_type": "execute_result"
    }
   ],
   "source": [
    "timestamps"
   ]
  },
  {
   "cell_type": "code",
   "execution_count": 4,
   "id": "alternate-victory",
   "metadata": {
    "execution": {
     "iopub.execute_input": "2021-10-15T02:00:09.372554Z",
     "iopub.status.busy": "2021-10-15T02:00:09.370643Z",
     "iopub.status.idle": "2021-10-15T02:00:10.161594Z",
     "shell.execute_reply": "2021-10-15T02:00:10.162825Z"
    },
    "papermill": {
     "duration": 0.821458,
     "end_time": "2021-10-15T02:00:10.163224",
     "exception": false,
     "start_time": "2021-10-15T02:00:09.341766",
     "status": "completed"
    },
    "tags": []
   },
   "outputs": [],
   "source": [
    "df = pd.read_sql(\"select * from EBAY_TOP_BERLIN where record_time in (select distinct record_time from EBAY_TOP_BERLIN order by record_time desc limit 2)\", sqlite3.connect(\"UsedObjects.db\"))"
   ]
  },
  {
   "cell_type": "code",
   "execution_count": 5,
   "id": "popular-active",
   "metadata": {
    "execution": {
     "iopub.execute_input": "2021-10-15T02:00:10.236267Z",
     "iopub.status.busy": "2021-10-15T02:00:10.228959Z",
     "iopub.status.idle": "2021-10-15T02:00:10.251583Z",
     "shell.execute_reply": "2021-10-15T02:00:10.252946Z"
    },
    "papermill": {
     "duration": 0.067263,
     "end_time": "2021-10-15T02:00:10.253372",
     "exception": false,
     "start_time": "2021-10-15T02:00:10.186109",
     "status": "completed"
    },
    "tags": []
   },
   "outputs": [],
   "source": [
    "df_pivot = df.pivot_table(index=\"PRODUCT\", columns = \"RECORD_TIME\", values = \"LISTING_COUNT\")"
   ]
  },
  {
   "cell_type": "code",
   "execution_count": 6,
   "id": "union-huntington",
   "metadata": {
    "execution": {
     "iopub.execute_input": "2021-10-15T02:00:10.309761Z",
     "iopub.status.busy": "2021-10-15T02:00:10.307676Z",
     "iopub.status.idle": "2021-10-15T02:00:10.313224Z",
     "shell.execute_reply": "2021-10-15T02:00:10.314529Z"
    },
    "papermill": {
     "duration": 0.04135,
     "end_time": "2021-10-15T02:00:10.314947",
     "exception": false,
     "start_time": "2021-10-15T02:00:10.273597",
     "status": "completed"
    },
    "tags": []
   },
   "outputs": [],
   "source": [
    "df_pivot.columns = [\"stamp_1\", \"stamp_2\"]\n",
    "df_pivot_diff = df_pivot.diff(axis=1)"
   ]
  },
  {
   "cell_type": "code",
   "execution_count": 7,
   "id": "fifth-motion",
   "metadata": {
    "execution": {
     "iopub.execute_input": "2021-10-15T02:00:10.369819Z",
     "iopub.status.busy": "2021-10-15T02:00:10.367186Z",
     "iopub.status.idle": "2021-10-15T02:00:11.869248Z",
     "shell.execute_reply": "2021-10-15T02:00:11.870683Z"
    },
    "papermill": {
     "duration": 1.535638,
     "end_time": "2021-10-15T02:00:11.871121",
     "exception": false,
     "start_time": "2021-10-15T02:00:10.335483",
     "status": "completed"
    },
    "tags": []
   },
   "outputs": [
    {
     "data": {
      "text/plain": [
       "<AxesSubplot:ylabel='PRODUCT'>"
      ]
     },
     "execution_count": 7,
     "metadata": {},
     "output_type": "execute_result"
    },
    {
     "data": {
      "image/png": "[encoded data removed]",
      "text/plain": [
       "<Figure size 432x288 with 1 Axes>"
      ]
     },
     "metadata": {
      "needs_background": "light"
     },
     "output_type": "display_data"
    }
   ],
   "source": [
    "df_pivot_diff.sort_values(\"stamp_2\", ascending = False)[\"stamp_2\"].head(10).plot.barh()"
   ]
  },
  {
   "cell_type": "code",
   "execution_count": null,
   "id": "extra-executive",
   "metadata": {
    "papermill": {
     "duration": 0.022474,
     "end_time": "2021-10-15T02:00:11.917338",
     "exception": false,
     "start_time": "2021-10-15T02:00:11.894864",
     "status": "completed"
    },
    "tags": []
   },
   "outputs": [],
   "source": []
  }
 ],
 "metadata": {
  "kernelspec": {
   "display_name": "Python 3",
   "language": "python",
   "name": "python3"
  },
  "language_info": {
   "codemirror_mode": {
    "name": "ipython",
    "version": 3
   },
   "file_extension": ".py",
   "mimetype": "text/x-python",
   "name": "python",
   "nbconvert_exporter": "python",
   "pygments_lexer": "ipython3",
   "version": "3.9.5"
  },
  "papermill": {
   "default_parameters": {},
   "duration": 7.829426,
   "end_time": "2021-10-15T02:00:13.187388",
   "environment_variables": {},
   "exception": null,
   "input_path": "eBay_Overview.ipynb",
   "output_path": "eBay_Overview.ipynb",
   "parameters": {},
   "start_time": "2021-10-15T02:00:05.357962",
   "version": "2.3.3"
  }
 },
 "nbformat": 4,
 "nbformat_minor": 5
}