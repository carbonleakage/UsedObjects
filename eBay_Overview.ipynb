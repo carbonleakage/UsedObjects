{
 "cells": [
  {
   "cell_type": "code",
   "execution_count": 1,
   "id": "reverse-picking",
   "metadata": {
    "execution": {
     "iopub.execute_input": "2021-09-16T09:30:07.144684Z",
     "iopub.status.busy": "2021-09-16T09:30:07.142570Z",
     "iopub.status.idle": "2021-09-16T09:30:07.944181Z",
     "shell.execute_reply": "2021-09-16T09:30:07.942353Z"
    },
    "papermill": {
     "duration": 0.850812,
     "end_time": "2021-09-16T09:30:07.944617",
     "exception": false,
     "start_time": "2021-09-16T09:30:07.093805",
     "status": "completed"
    },
    "tags": []
   },
   "outputs": [],
   "source": [
    "import pandas as pd\n",
    "import sqlite3"
   ]
  },
  {
   "cell_type": "code",
   "execution_count": 2,
   "id": "innovative-syndrome",
   "metadata": {
    "execution": {
     "iopub.execute_input": "2021-09-16T09:30:07.995769Z",
     "iopub.status.busy": "2021-09-16T09:30:07.993646Z",
     "iopub.status.idle": "2021-09-16T09:30:08.295311Z",
     "shell.execute_reply": "2021-09-16T09:30:08.296764Z"
    },
    "papermill": {
     "duration": 0.332276,
     "end_time": "2021-09-16T09:30:08.297199",
     "exception": false,
     "start_time": "2021-09-16T09:30:07.964923",
     "status": "completed"
    },
    "tags": []
   },
   "outputs": [],
   "source": [
    "timestamps = pd.read_sql(\"select distinct record_time from EBAY_TOP_BERLIN order by record_time desc limit 2\", sqlite3.connect(\"UsedObjects.db\"))"
   ]
  },
  {
   "cell_type": "code",
   "execution_count": 3,
   "id": "periodic-identification",
   "metadata": {
    "execution": {
     "iopub.execute_input": "2021-09-16T09:30:08.364037Z",
     "iopub.status.busy": "2021-09-16T09:30:08.361983Z",
     "iopub.status.idle": "2021-09-16T09:30:08.382538Z",
     "shell.execute_reply": "2021-09-16T09:30:08.383996Z"
    },
    "papermill": {
     "duration": 0.067363,
     "end_time": "2021-09-16T09:30:08.384440",
     "exception": false,
     "start_time": "2021-09-16T09:30:08.317077",
     "status": "completed"
    },
    "tags": []
   },
   "outputs": [
    {
     "data": {
      "text/html": [
       "<div>\n",
       "<style scoped>\n",
       "    .dataframe tbody tr th:only-of-type {\n",
       "        vertical-align: middle;\n",
       "    }\n",
       "\n",
       "    .dataframe tbody tr th {\n",
       "        vertical-align: top;\n",
       "    }\n",
       "\n",
       "    .dataframe thead th {\n",
       "        text-align: right;\n",
       "    }\n",
       "</style>\n",
       "<table border=\"1\" class=\"dataframe\">\n",
       "  <thead>\n",
       "    <tr style=\"text-align: right;\">\n",
       "      <th></th>\n",
       "      <th>RECORD_TIME</th>\n",
       "    </tr>\n",
       "  </thead>\n",
       "  <tbody>\n",
       "    <tr>\n",
       "      <th>0</th>\n",
       "      <td>2021-09-16 11:30</td>\n",
       "    </tr>\n",
       "    <tr>\n",
       "      <th>1</th>\n",
       "      <td>2021-09-16 11:00</td>\n",
       "    </tr>\n",
       "  </tbody>\n",
       "</table>\n",
       "</div>"
      ],
      "text/plain": [
       "        RECORD_TIME\n",
       "0  2021-09-16 11:30\n",
       "1  2021-09-16 11:00"
      ]
     },
     "execution_count": 3,
     "metadata": {},
     "output_type": "execute_result"
    }
   ],
   "source": [
    "timestamps"
   ]
  },
  {
   "cell_type": "code",
   "execution_count": 4,
   "id": "alternate-victory",
   "metadata": {
    "execution": {
     "iopub.execute_input": "2021-09-16T09:30:08.435783Z",
     "iopub.status.busy": "2021-09-16T09:30:08.433863Z",
     "iopub.status.idle": "2021-09-16T09:30:08.884339Z",
     "shell.execute_reply": "2021-09-16T09:30:08.885537Z"
    },
    "papermill": {
     "duration": 0.480285,
     "end_time": "2021-09-16T09:30:08.885931",
     "exception": false,
     "start_time": "2021-09-16T09:30:08.405646",
     "status": "completed"
    },
    "tags": []
   },
   "outputs": [],
   "source": [
    "df = pd.read_sql(\"select * from EBAY_TOP_BERLIN where record_time in (select distinct record_time from EBAY_TOP_BERLIN order by record_time desc limit 2)\", sqlite3.connect(\"UsedObjects.db\"))"
   ]
  },
  {
   "cell_type": "code",
   "execution_count": 5,
   "id": "popular-active",
   "metadata": {
    "execution": {
     "iopub.execute_input": "2021-09-16T09:30:08.954938Z",
     "iopub.status.busy": "2021-09-16T09:30:08.943004Z",
     "iopub.status.idle": "2021-09-16T09:30:08.971998Z",
     "shell.execute_reply": "2021-09-16T09:30:08.970439Z"
    },
    "papermill": {
     "duration": 0.066127,
     "end_time": "2021-09-16T09:30:08.972376",
     "exception": false,
     "start_time": "2021-09-16T09:30:08.906249",
     "status": "completed"
    },
    "tags": []
   },
   "outputs": [],
   "source": [
    "df_pivot = df.pivot_table(index=\"PRODUCT\", columns = \"RECORD_TIME\", values = \"LISTING_COUNT\")"
   ]
  },
  {
   "cell_type": "code",
   "execution_count": 6,
   "id": "union-huntington",
   "metadata": {
    "execution": {
     "iopub.execute_input": "2021-09-16T09:30:09.029811Z",
     "iopub.status.busy": "2021-09-16T09:30:09.027399Z",
     "iopub.status.idle": "2021-09-16T09:30:09.032892Z",
     "shell.execute_reply": "2021-09-16T09:30:09.034283Z"
    },
    "papermill": {
     "duration": 0.041935,
     "end_time": "2021-09-16T09:30:09.034698",
     "exception": false,
     "start_time": "2021-09-16T09:30:08.992763",
     "status": "completed"
    },
    "tags": []
   },
   "outputs": [],
   "source": [
    "df_pivot.columns = [\"stamp_1\", \"stamp_2\"]\n",
    "df_pivot_diff = df_pivot.diff(axis=1)"
   ]
  },
  {
   "cell_type": "code",
   "execution_count": 7,
   "id": "fifth-motion",
   "metadata": {
    "execution": {
     "iopub.execute_input": "2021-09-16T09:30:09.088769Z",
     "iopub.status.busy": "2021-09-16T09:30:09.086335Z",
     "iopub.status.idle": "2021-09-16T09:30:10.582922Z",
     "shell.execute_reply": "2021-09-16T09:30:10.584193Z"
    },
    "papermill": {
     "duration": 1.529897,
     "end_time": "2021-09-16T09:30:10.584604",
     "exception": false,
     "start_time": "2021-09-16T09:30:09.054707",
     "status": "completed"
    },
    "tags": []
   },
   "outputs": [
    {
     "data": {
      "text/plain": [
       "<AxesSubplot:ylabel='PRODUCT'>"
      ]
     },
     "execution_count": 7,
     "metadata": {},
     "output_type": "execute_result"
    },
    {
     "data": {
      "image/png": "[encoded data removed]",
      "text/plain": [
       "<Figure size 432x288 with 1 Axes>"
      ]
     },
     "metadata": {
      "needs_background": "light"
     },
     "output_type": "display_data"
    }
   ],
   "source": [
    "df_pivot_diff.sort_values(\"stamp_2\", ascending = False)[\"stamp_2\"].head(10).plot.barh()"
   ]
  },
  {
   "cell_type": "code",
   "execution_count": null,
   "id": "extra-executive",
   "metadata": {
    "papermill": {
     "duration": 0.022467,
     "end_time": "2021-09-16T09:30:10.631811",
     "exception": false,
     "start_time": "2021-09-16T09:30:10.609344",
     "status": "completed"
    },
    "tags": []
   },
   "outputs": [],
   "source": []
  }
 ],
 "metadata": {
  "kernelspec": {
   "display_name": "Python 3",
   "language": "python",
   "name": "python3"
  },
  "language_info": {
   "codemirror_mode": {
    "name": "ipython",
    "version": 3
   },
   "file_extension": ".py",
   "mimetype": "text/x-python",
   "name": "python",
   "nbconvert_exporter": "python",
   "pygments_lexer": "ipython3",
   "version": "3.9.5"
  },
  "papermill": {
   "default_parameters": {},
   "duration": 6.562564,
   "end_time": "2021-09-16T09:30:11.274838",
   "environment_variables": {},
   "exception": null,
   "input_path": "eBay_Overview.ipynb",
   "output_path": "eBay_Overview.ipynb",
   "parameters": {},
   "start_time": "2021-09-16T09:30:04.712274",
   "version": "2.3.3"
  }
 },
 "nbformat": 4,
 "nbformat_minor": 5
}