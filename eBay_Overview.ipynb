{
 "cells": [
  {
   "cell_type": "code",
   "execution_count": 1,
   "id": "reverse-picking",
   "metadata": {
    "execution": {
     "iopub.execute_input": "2021-09-28T10:30:07.268905Z",
     "iopub.status.busy": "2021-09-28T10:30:07.266918Z",
     "iopub.status.idle": "2021-09-28T10:30:08.076050Z",
     "shell.execute_reply": "2021-09-28T10:30:08.077359Z"
    },
    "papermill": {
     "duration": 0.861793,
     "end_time": "2021-09-28T10:30:08.077980",
     "exception": false,
     "start_time": "2021-09-28T10:30:07.216187",
     "status": "completed"
    },
    "tags": []
   },
   "outputs": [],
   "source": [
    "import pandas as pd\n",
    "import sqlite3"
   ]
  },
  {
   "cell_type": "code",
   "execution_count": 2,
   "id": "innovative-syndrome",
   "metadata": {
    "execution": {
     "iopub.execute_input": "2021-09-28T10:30:08.127715Z",
     "iopub.status.busy": "2021-09-28T10:30:08.125724Z",
     "iopub.status.idle": "2021-09-28T10:30:08.523552Z",
     "shell.execute_reply": "2021-09-28T10:30:08.524854Z"
    },
    "papermill": {
     "duration": 0.427297,
     "end_time": "2021-09-28T10:30:08.525315",
     "exception": false,
     "start_time": "2021-09-28T10:30:08.098018",
     "status": "completed"
    },
    "tags": []
   },
   "outputs": [],
   "source": [
    "timestamps = pd.read_sql(\"select distinct record_time from EBAY_TOP_BERLIN order by record_time desc limit 2\", sqlite3.connect(\"UsedObjects.db\"))"
   ]
  },
  {
   "cell_type": "code",
   "execution_count": 3,
   "id": "periodic-identification",
   "metadata": {
    "execution": {
     "iopub.execute_input": "2021-09-28T10:30:08.591880Z",
     "iopub.status.busy": "2021-09-28T10:30:08.589795Z",
     "iopub.status.idle": "2021-09-28T10:30:08.610341Z",
     "shell.execute_reply": "2021-09-28T10:30:08.612051Z"
    },
    "papermill": {
     "duration": 0.06743,
     "end_time": "2021-09-28T10:30:08.612557",
     "exception": false,
     "start_time": "2021-09-28T10:30:08.545127",
     "status": "completed"
    },
    "tags": []
   },
   "outputs": [
    {
     "data": {
      "text/html": [
       "<div>\n",
       "<style scoped>\n",
       "    .dataframe tbody tr th:only-of-type {\n",
       "        vertical-align: middle;\n",
       "    }\n",
       "\n",
       "    .dataframe tbody tr th {\n",
       "        vertical-align: top;\n",
       "    }\n",
       "\n",
       "    .dataframe thead th {\n",
       "        text-align: right;\n",
       "    }\n",
       "</style>\n",
       "<table border=\"1\" class=\"dataframe\">\n",
       "  <thead>\n",
       "    <tr style=\"text-align: right;\">\n",
       "      <th></th>\n",
       "      <th>RECORD_TIME</th>\n",
       "    </tr>\n",
       "  </thead>\n",
       "  <tbody>\n",
       "    <tr>\n",
       "      <th>0</th>\n",
       "      <td>2021-09-28 12:30</td>\n",
       "    </tr>\n",
       "    <tr>\n",
       "      <th>1</th>\n",
       "      <td>2021-09-28 12:00</td>\n",
       "    </tr>\n",
       "  </tbody>\n",
       "</table>\n",
       "</div>"
      ],
      "text/plain": [
       "        RECORD_TIME\n",
       "0  2021-09-28 12:30\n",
       "1  2021-09-28 12:00"
      ]
     },
     "execution_count": 3,
     "metadata": {},
     "output_type": "execute_result"
    }
   ],
   "source": [
    "timestamps"
   ]
  },
  {
   "cell_type": "code",
   "execution_count": 4,
   "id": "alternate-victory",
   "metadata": {
    "execution": {
     "iopub.execute_input": "2021-09-28T10:30:08.673477Z",
     "iopub.status.busy": "2021-09-28T10:30:08.670694Z",
     "iopub.status.idle": "2021-09-28T10:30:09.250856Z",
     "shell.execute_reply": "2021-09-28T10:30:09.252405Z"
    },
    "papermill": {
     "duration": 0.618595,
     "end_time": "2021-09-28T10:30:09.252864",
     "exception": false,
     "start_time": "2021-09-28T10:30:08.634269",
     "status": "completed"
    },
    "tags": []
   },
   "outputs": [],
   "source": [
    "df = pd.read_sql(\"select * from EBAY_TOP_BERLIN where record_time in (select distinct record_time from EBAY_TOP_BERLIN order by record_time desc limit 2)\", sqlite3.connect(\"UsedObjects.db\"))"
   ]
  },
  {
   "cell_type": "code",
   "execution_count": 5,
   "id": "popular-active",
   "metadata": {
    "execution": {
     "iopub.execute_input": "2021-09-28T10:30:09.325062Z",
     "iopub.status.busy": "2021-09-28T10:30:09.313841Z",
     "iopub.status.idle": "2021-09-28T10:30:09.340706Z",
     "shell.execute_reply": "2021-09-28T10:30:09.341987Z"
    },
    "papermill": {
     "duration": 0.068643,
     "end_time": "2021-09-28T10:30:09.342404",
     "exception": false,
     "start_time": "2021-09-28T10:30:09.273761",
     "status": "completed"
    },
    "tags": []
   },
   "outputs": [],
   "source": [
    "df_pivot = df.pivot_table(index=\"PRODUCT\", columns = \"RECORD_TIME\", values = \"LISTING_COUNT\")"
   ]
  },
  {
   "cell_type": "code",
   "execution_count": 6,
   "id": "union-huntington",
   "metadata": {
    "execution": {
     "iopub.execute_input": "2021-09-28T10:30:09.398746Z",
     "iopub.status.busy": "2021-09-28T10:30:09.396677Z",
     "iopub.status.idle": "2021-09-28T10:30:09.401993Z",
     "shell.execute_reply": "2021-09-28T10:30:09.403483Z"
    },
    "papermill": {
     "duration": 0.040518,
     "end_time": "2021-09-28T10:30:09.403924",
     "exception": false,
     "start_time": "2021-09-28T10:30:09.363406",
     "status": "completed"
    },
    "tags": []
   },
   "outputs": [],
   "source": [
    "df_pivot.columns = [\"stamp_1\", \"stamp_2\"]\n",
    "df_pivot_diff = df_pivot.diff(axis=1)"
   ]
  },
  {
   "cell_type": "code",
   "execution_count": 7,
   "id": "fifth-motion",
   "metadata": {
    "execution": {
     "iopub.execute_input": "2021-09-28T10:30:09.460481Z",
     "iopub.status.busy": "2021-09-28T10:30:09.457738Z",
     "iopub.status.idle": "2021-09-28T10:30:10.933829Z",
     "shell.execute_reply": "2021-09-28T10:30:10.936117Z"
    },
    "papermill": {
     "duration": 1.510996,
     "end_time": "2021-09-28T10:30:10.936762",
     "exception": false,
     "start_time": "2021-09-28T10:30:09.425766",
     "status": "completed"
    },
    "tags": []
   },
   "outputs": [
    {
     "data": {
      "text/plain": [
       "<AxesSubplot:ylabel='PRODUCT'>"
      ]
     },
     "execution_count": 7,
     "metadata": {},
     "output_type": "execute_result"
    },
    {
     "data": {
      "image/png": "[encoded data removed]",
      "text/plain": [
       "<Figure size 432x288 with 1 Axes>"
      ]
     },
     "metadata": {
      "needs_background": "light"
     },
     "output_type": "display_data"
    }
   ],
   "source": [
    "df_pivot_diff.sort_values(\"stamp_2\", ascending = False)[\"stamp_2\"].head(10).plot.barh()"
   ]
  },
  {
   "cell_type": "code",
   "execution_count": null,
   "id": "extra-executive",
   "metadata": {
    "papermill": {
     "duration": 0.022227,
     "end_time": "2021-09-28T10:30:10.985483",
     "exception": false,
     "start_time": "2021-09-28T10:30:10.963256",
     "status": "completed"
    },
    "tags": []
   },
   "outputs": [],
   "source": []
  }
 ],
 "metadata": {
  "kernelspec": {
   "display_name": "Python 3",
   "language": "python",
   "name": "python3"
  },
  "language_info": {
   "codemirror_mode": {
    "name": "ipython",
    "version": 3
   },
   "file_extension": ".py",
   "mimetype": "text/x-python",
   "name": "python",
   "nbconvert_exporter": "python",
   "pygments_lexer": "ipython3",
   "version": "3.9.5"
  },
  "papermill": {
   "default_parameters": {},
   "duration": 6.835152,
   "end_time": "2021-09-28T10:30:11.628905",
   "environment_variables": {},
   "exception": null,
   "input_path": "eBay_Overview.ipynb",
   "output_path": "eBay_Overview.ipynb",
   "parameters": {},
   "start_time": "2021-09-28T10:30:04.793753",
   "version": "2.3.3"
  }
 },
 "nbformat": 4,
 "nbformat_minor": 5
}