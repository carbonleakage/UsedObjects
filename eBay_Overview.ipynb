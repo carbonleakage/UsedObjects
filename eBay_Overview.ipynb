{
 "cells": [
  {
   "cell_type": "code",
   "execution_count": 1,
   "id": "reverse-picking",
   "metadata": {
    "execution": {
     "iopub.execute_input": "2021-08-21T16:00:06.481558Z",
     "iopub.status.busy": "2021-08-21T16:00:06.479600Z",
     "iopub.status.idle": "2021-08-21T16:00:07.286253Z",
     "shell.execute_reply": "2021-08-21T16:00:07.287600Z"
    },
    "papermill": {
     "duration": 0.859616,
     "end_time": "2021-08-21T16:00:07.288236",
     "exception": false,
     "start_time": "2021-08-21T16:00:06.428620",
     "status": "completed"
    },
    "tags": []
   },
   "outputs": [],
   "source": [
    "import pandas as pd\n",
    "import sqlite3"
   ]
  },
  {
   "cell_type": "code",
   "execution_count": 2,
   "id": "innovative-syndrome",
   "metadata": {
    "execution": {
     "iopub.execute_input": "2021-08-21T16:00:07.339602Z",
     "iopub.status.busy": "2021-08-21T16:00:07.337478Z",
     "iopub.status.idle": "2021-08-21T16:00:07.436820Z",
     "shell.execute_reply": "2021-08-21T16:00:07.438139Z"
    },
    "papermill": {
     "duration": 0.129034,
     "end_time": "2021-08-21T16:00:07.438573",
     "exception": false,
     "start_time": "2021-08-21T16:00:07.309539",
     "status": "completed"
    },
    "tags": []
   },
   "outputs": [],
   "source": [
    "timestamps = pd.read_sql(\"select distinct record_time from EBAY_TOP_BERLIN order by record_time desc limit 2\", sqlite3.connect(\"UsedObjects.db\"))"
   ]
  },
  {
   "cell_type": "code",
   "execution_count": 3,
   "id": "periodic-identification",
   "metadata": {
    "execution": {
     "iopub.execute_input": "2021-08-21T16:00:07.505519Z",
     "iopub.status.busy": "2021-08-21T16:00:07.503513Z",
     "iopub.status.idle": "2021-08-21T16:00:07.523693Z",
     "shell.execute_reply": "2021-08-21T16:00:07.524969Z"
    },
    "papermill": {
     "duration": 0.067279,
     "end_time": "2021-08-21T16:00:07.525382",
     "exception": false,
     "start_time": "2021-08-21T16:00:07.458103",
     "status": "completed"
    },
    "tags": []
   },
   "outputs": [
    {
     "data": {
      "text/html": [
       "<div>\n",
       "<style scoped>\n",
       "    .dataframe tbody tr th:only-of-type {\n",
       "        vertical-align: middle;\n",
       "    }\n",
       "\n",
       "    .dataframe tbody tr th {\n",
       "        vertical-align: top;\n",
       "    }\n",
       "\n",
       "    .dataframe thead th {\n",
       "        text-align: right;\n",
       "    }\n",
       "</style>\n",
       "<table border=\"1\" class=\"dataframe\">\n",
       "  <thead>\n",
       "    <tr style=\"text-align: right;\">\n",
       "      <th></th>\n",
       "      <th>RECORD_TIME</th>\n",
       "    </tr>\n",
       "  </thead>\n",
       "  <tbody>\n",
       "    <tr>\n",
       "      <th>0</th>\n",
       "      <td>2021-08-21 18:00</td>\n",
       "    </tr>\n",
       "    <tr>\n",
       "      <th>1</th>\n",
       "      <td>2021-08-21 17:30</td>\n",
       "    </tr>\n",
       "  </tbody>\n",
       "</table>\n",
       "</div>"
      ],
      "text/plain": [
       "        RECORD_TIME\n",
       "0  2021-08-21 18:00\n",
       "1  2021-08-21 17:30"
      ]
     },
     "execution_count": 3,
     "metadata": {},
     "output_type": "execute_result"
    }
   ],
   "source": [
    "timestamps"
   ]
  },
  {
   "cell_type": "code",
   "execution_count": 4,
   "id": "alternate-victory",
   "metadata": {
    "execution": {
     "iopub.execute_input": "2021-08-21T16:00:07.575962Z",
     "iopub.status.busy": "2021-08-21T16:00:07.574125Z",
     "iopub.status.idle": "2021-08-21T16:00:07.721161Z",
     "shell.execute_reply": "2021-08-21T16:00:07.722506Z"
    },
    "papermill": {
     "duration": 0.177138,
     "end_time": "2021-08-21T16:00:07.722935",
     "exception": false,
     "start_time": "2021-08-21T16:00:07.545797",
     "status": "completed"
    },
    "tags": []
   },
   "outputs": [],
   "source": [
    "df = pd.read_sql(\"select * from EBAY_TOP_BERLIN where record_time in (select distinct record_time from EBAY_TOP_BERLIN order by record_time desc limit 2)\", sqlite3.connect(\"UsedObjects.db\"))"
   ]
  },
  {
   "cell_type": "code",
   "execution_count": 5,
   "id": "popular-active",
   "metadata": {
    "execution": {
     "iopub.execute_input": "2021-08-21T16:00:07.789457Z",
     "iopub.status.busy": "2021-08-21T16:00:07.783276Z",
     "iopub.status.idle": "2021-08-21T16:00:07.810260Z",
     "shell.execute_reply": "2021-08-21T16:00:07.811465Z"
    },
    "papermill": {
     "duration": 0.066986,
     "end_time": "2021-08-21T16:00:07.811855",
     "exception": false,
     "start_time": "2021-08-21T16:00:07.744869",
     "status": "completed"
    },
    "tags": []
   },
   "outputs": [],
   "source": [
    "df_pivot = df.pivot_table(index=\"PRODUCT\", columns = \"RECORD_TIME\", values = \"LISTING_COUNT\")"
   ]
  },
  {
   "cell_type": "code",
   "execution_count": 6,
   "id": "union-huntington",
   "metadata": {
    "execution": {
     "iopub.execute_input": "2021-08-21T16:00:07.867269Z",
     "iopub.status.busy": "2021-08-21T16:00:07.865153Z",
     "iopub.status.idle": "2021-08-21T16:00:07.870398Z",
     "shell.execute_reply": "2021-08-21T16:00:07.871684Z"
    },
    "papermill": {
     "duration": 0.040324,
     "end_time": "2021-08-21T16:00:07.872095",
     "exception": false,
     "start_time": "2021-08-21T16:00:07.831771",
     "status": "completed"
    },
    "tags": []
   },
   "outputs": [],
   "source": [
    "df_pivot.columns = [\"stamp_1\", \"stamp_2\"]\n",
    "df_pivot_diff = df_pivot.diff(axis=1)"
   ]
  },
  {
   "cell_type": "code",
   "execution_count": 7,
   "id": "fifth-motion",
   "metadata": {
    "execution": {
     "iopub.execute_input": "2021-08-21T16:00:07.932334Z",
     "iopub.status.busy": "2021-08-21T16:00:07.929423Z",
     "iopub.status.idle": "2021-08-21T16:00:09.406620Z",
     "shell.execute_reply": "2021-08-21T16:00:09.408093Z"
    },
    "papermill": {
     "duration": 1.515169,
     "end_time": "2021-08-21T16:00:09.408556",
     "exception": false,
     "start_time": "2021-08-21T16:00:07.893387",
     "status": "completed"
    },
    "tags": []
   },
   "outputs": [
    {
     "data": {
      "text/plain": [
       "<AxesSubplot:ylabel='PRODUCT'>"
      ]
     },
     "execution_count": 7,
     "metadata": {},
     "output_type": "execute_result"
    },
    {
     "data": {
      "image/png": "[encoded data removed]",
      "text/plain": [
       "<Figure size 432x288 with 1 Axes>"
      ]
     },
     "metadata": {
      "needs_background": "light"
     },
     "output_type": "display_data"
    }
   ],
   "source": [
    "df_pivot_diff.sort_values(\"stamp_2\", ascending = False)[\"stamp_2\"].head(10).plot.barh()"
   ]
  },
  {
   "cell_type": "code",
   "execution_count": null,
   "id": "extra-executive",
   "metadata": {
    "papermill": {
     "duration": 0.022314,
     "end_time": "2021-08-21T16:00:09.454922",
     "exception": false,
     "start_time": "2021-08-21T16:00:09.432608",
     "status": "completed"
    },
    "tags": []
   },
   "outputs": [],
   "source": []
  }
 ],
 "metadata": {
  "kernelspec": {
   "display_name": "Python 3",
   "language": "python",
   "name": "python3"
  },
  "language_info": {
   "codemirror_mode": {
    "name": "ipython",
    "version": 3
   },
   "file_extension": ".py",
   "mimetype": "text/x-python",
   "name": "python",
   "nbconvert_exporter": "python",
   "pygments_lexer": "ipython3",
   "version": "3.9.5"
  },
  "papermill": {
   "default_parameters": {},
   "duration": 6.828432,
   "end_time": "2021-08-21T16:00:10.854488",
   "environment_variables": {},
   "exception": null,
   "input_path": "eBay_Overview.ipynb",
   "output_path": "eBay_Overview.ipynb",
   "parameters": {},
   "start_time": "2021-08-21T16:00:04.026056",
   "version": "2.3.3"
  }
 },
 "nbformat": 4,
 "nbformat_minor": 5
}