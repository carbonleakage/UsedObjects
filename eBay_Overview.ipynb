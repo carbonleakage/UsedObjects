{
 "cells": [
  {
   "cell_type": "code",
   "execution_count": 1,
   "id": "reverse-picking",
   "metadata": {
    "execution": {
     "iopub.execute_input": "2021-12-19T18:30:08.236600Z",
     "iopub.status.busy": "2021-12-19T18:30:08.234202Z",
     "iopub.status.idle": "2021-12-19T18:30:09.208647Z",
     "shell.execute_reply": "2021-12-19T18:30:09.210386Z"
    },
    "papermill": {
     "duration": 1.025679,
     "end_time": "2021-12-19T18:30:09.211212",
     "exception": false,
     "start_time": "2021-12-19T18:30:08.185533",
     "status": "completed"
    },
    "tags": []
   },
   "outputs": [],
   "source": [
    "import pandas as pd\n",
    "import sqlite3"
   ]
  },
  {
   "cell_type": "code",
   "execution_count": 2,
   "id": "innovative-syndrome",
   "metadata": {
    "execution": {
     "iopub.execute_input": "2021-12-19T18:30:09.327356Z",
     "iopub.status.busy": "2021-12-19T18:30:09.325132Z",
     "iopub.status.idle": "2021-12-19T18:30:10.454761Z",
     "shell.execute_reply": "2021-12-19T18:30:10.456418Z"
    },
    "papermill": {
     "duration": 1.1636,
     "end_time": "2021-12-19T18:30:10.457006",
     "exception": false,
     "start_time": "2021-12-19T18:30:09.293406",
     "status": "completed"
    },
    "tags": []
   },
   "outputs": [],
   "source": [
    "timestamps = pd.read_sql(\"select distinct record_time from EBAY_TOP_BERLIN order by record_time desc limit 2\", sqlite3.connect(\"UsedObjects.db\"))"
   ]
  },
  {
   "cell_type": "code",
   "execution_count": 3,
   "id": "periodic-identification",
   "metadata": {
    "execution": {
     "iopub.execute_input": "2021-12-19T18:30:10.529907Z",
     "iopub.status.busy": "2021-12-19T18:30:10.527375Z",
     "iopub.status.idle": "2021-12-19T18:30:10.551254Z",
     "shell.execute_reply": "2021-12-19T18:30:10.552858Z"
    },
    "papermill": {
     "duration": 0.074636,
     "end_time": "2021-12-19T18:30:10.553400",
     "exception": false,
     "start_time": "2021-12-19T18:30:10.478764",
     "status": "completed"
    },
    "tags": []
   },
   "outputs": [
    {
     "data": {
      "text/html": [
       "<div>\n",
       "<style scoped>\n",
       "    .dataframe tbody tr th:only-of-type {\n",
       "        vertical-align: middle;\n",
       "    }\n",
       "\n",
       "    .dataframe tbody tr th {\n",
       "        vertical-align: top;\n",
       "    }\n",
       "\n",
       "    .dataframe thead th {\n",
       "        text-align: right;\n",
       "    }\n",
       "</style>\n",
       "<table border=\"1\" class=\"dataframe\">\n",
       "  <thead>\n",
       "    <tr style=\"text-align: right;\">\n",
       "      <th></th>\n",
       "      <th>RECORD_TIME</th>\n",
       "    </tr>\n",
       "  </thead>\n",
       "  <tbody>\n",
       "    <tr>\n",
       "      <th>0</th>\n",
       "      <td>2021-12-19 19:30</td>\n",
       "    </tr>\n",
       "    <tr>\n",
       "      <th>1</th>\n",
       "      <td>2021-12-19 19:00</td>\n",
       "    </tr>\n",
       "  </tbody>\n",
       "</table>\n",
       "</div>"
      ],
      "text/plain": [
       "        RECORD_TIME\n",
       "0  2021-12-19 19:30\n",
       "1  2021-12-19 19:00"
      ]
     },
     "execution_count": 3,
     "metadata": {},
     "output_type": "execute_result"
    }
   ],
   "source": [
    "timestamps"
   ]
  },
  {
   "cell_type": "code",
   "execution_count": 4,
   "id": "alternate-victory",
   "metadata": {
    "execution": {
     "iopub.execute_input": "2021-12-19T18:30:10.609253Z",
     "iopub.status.busy": "2021-12-19T18:30:10.606975Z",
     "iopub.status.idle": "2021-12-19T18:30:12.252748Z",
     "shell.execute_reply": "2021-12-19T18:30:12.254299Z"
    },
    "papermill": {
     "duration": 1.680283,
     "end_time": "2021-12-19T18:30:12.254762",
     "exception": false,
     "start_time": "2021-12-19T18:30:10.574479",
     "status": "completed"
    },
    "tags": []
   },
   "outputs": [],
   "source": [
    "df = pd.read_sql(\"select * from EBAY_TOP_BERLIN where record_time in (select distinct record_time from EBAY_TOP_BERLIN order by record_time desc limit 2)\", sqlite3.connect(\"UsedObjects.db\"))"
   ]
  },
  {
   "cell_type": "code",
   "execution_count": 5,
   "id": "popular-active",
   "metadata": {
    "execution": {
     "iopub.execute_input": "2021-12-19T18:30:12.329446Z",
     "iopub.status.busy": "2021-12-19T18:30:12.316571Z",
     "iopub.status.idle": "2021-12-19T18:30:12.347350Z",
     "shell.execute_reply": "2021-12-19T18:30:12.348962Z"
    },
    "papermill": {
     "duration": 0.074327,
     "end_time": "2021-12-19T18:30:12.349435",
     "exception": false,
     "start_time": "2021-12-19T18:30:12.275108",
     "status": "completed"
    },
    "tags": []
   },
   "outputs": [],
   "source": [
    "df_pivot = df.pivot_table(index=\"PRODUCT\", columns = \"RECORD_TIME\", values = \"LISTING_COUNT\")"
   ]
  },
  {
   "cell_type": "code",
   "execution_count": 6,
   "id": "union-huntington",
   "metadata": {
    "execution": {
     "iopub.execute_input": "2021-12-19T18:30:12.413900Z",
     "iopub.status.busy": "2021-12-19T18:30:12.411384Z",
     "iopub.status.idle": "2021-12-19T18:30:12.417809Z",
     "shell.execute_reply": "2021-12-19T18:30:12.419191Z"
    },
    "papermill": {
     "duration": 0.048648,
     "end_time": "2021-12-19T18:30:12.419676",
     "exception": false,
     "start_time": "2021-12-19T18:30:12.371028",
     "status": "completed"
    },
    "tags": []
   },
   "outputs": [],
   "source": [
    "df_pivot.columns = [\"stamp_1\", \"stamp_2\"]\n",
    "df_pivot_diff = df_pivot.diff(axis=1)"
   ]
  },
  {
   "cell_type": "code",
   "execution_count": 7,
   "id": "fifth-motion",
   "metadata": {
    "execution": {
     "iopub.execute_input": "2021-12-19T18:30:12.478956Z",
     "iopub.status.busy": "2021-12-19T18:30:12.476334Z",
     "iopub.status.idle": "2021-12-19T18:30:14.467130Z",
     "shell.execute_reply": "2021-12-19T18:30:14.469774Z"
    },
    "papermill": {
     "duration": 2.029291,
     "end_time": "2021-12-19T18:30:14.470361",
     "exception": false,
     "start_time": "2021-12-19T18:30:12.441070",
     "status": "completed"
    },
    "tags": []
   },
   "outputs": [
    {
     "data": {
      "text/plain": [
       "<AxesSubplot:ylabel='PRODUCT'>"
      ]
     },
     "execution_count": 7,
     "metadata": {},
     "output_type": "execute_result"
    },
    {
     "data": {
      "image/png": "[encoded data removed]",
      "text/plain": [
       "<Figure size 432x288 with 1 Axes>"
      ]
     },
     "metadata": {
      "needs_background": "light"
     },
     "output_type": "display_data"
    }
   ],
   "source": [
    "df_pivot_diff.sort_values(\"stamp_2\", ascending = False)[\"stamp_2\"].head(10).plot.barh()"
   ]
  },
  {
   "cell_type": "code",
   "execution_count": null,
   "id": "extra-executive",
   "metadata": {
    "papermill": {
     "duration": 0.033449,
     "end_time": "2021-12-19T18:30:14.528142",
     "exception": false,
     "start_time": "2021-12-19T18:30:14.494693",
     "status": "completed"
    },
    "tags": []
   },
   "outputs": [],
   "source": []
  }
 ],
 "metadata": {
  "kernelspec": {
   "display_name": "Python 3",
   "language": "python",
   "name": "python3"
  },
  "language_info": {
   "codemirror_mode": {
    "name": "ipython",
    "version": 3
   },
   "file_extension": ".py",
   "mimetype": "text/x-python",
   "name": "python",
   "nbconvert_exporter": "python",
   "pygments_lexer": "ipython3",
   "version": "3.9.5"
  },
  "papermill": {
   "default_parameters": {},
   "duration": 9.739378,
   "end_time": "2021-12-19T18:30:15.178239",
   "environment_variables": {},
   "exception": null,
   "input_path": "eBay_Overview.ipynb",
   "output_path": "eBay_Overview.ipynb",
   "parameters": {},
   "start_time": "2021-12-19T18:30:05.438861",
   "version": "2.3.3"
  }
 },
 "nbformat": 4,
 "nbformat_minor": 5
}