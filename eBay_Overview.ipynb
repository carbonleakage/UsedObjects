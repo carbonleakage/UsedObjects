{
 "cells": [
  {
   "cell_type": "code",
   "execution_count": 1,
   "id": "reverse-picking",
   "metadata": {
    "execution": {
     "iopub.execute_input": "2021-08-21T17:30:07.408905Z",
     "iopub.status.busy": "2021-08-21T17:30:07.406974Z",
     "iopub.status.idle": "2021-08-21T17:30:08.212504Z",
     "shell.execute_reply": "2021-08-21T17:30:08.213759Z"
    },
    "papermill": {
     "duration": 0.855962,
     "end_time": "2021-08-21T17:30:08.214424",
     "exception": false,
     "start_time": "2021-08-21T17:30:07.358462",
     "status": "completed"
    },
    "tags": []
   },
   "outputs": [],
   "source": [
    "import pandas as pd\n",
    "import sqlite3"
   ]
  },
  {
   "cell_type": "code",
   "execution_count": 2,
   "id": "innovative-syndrome",
   "metadata": {
    "execution": {
     "iopub.execute_input": "2021-08-21T17:30:08.264813Z",
     "iopub.status.busy": "2021-08-21T17:30:08.262971Z",
     "iopub.status.idle": "2021-08-21T17:30:08.360107Z",
     "shell.execute_reply": "2021-08-21T17:30:08.361294Z"
    },
    "papermill": {
     "duration": 0.126472,
     "end_time": "2021-08-21T17:30:08.361677",
     "exception": false,
     "start_time": "2021-08-21T17:30:08.235205",
     "status": "completed"
    },
    "tags": []
   },
   "outputs": [],
   "source": [
    "timestamps = pd.read_sql(\"select distinct record_time from EBAY_TOP_BERLIN order by record_time desc limit 2\", sqlite3.connect(\"UsedObjects.db\"))"
   ]
  },
  {
   "cell_type": "code",
   "execution_count": 3,
   "id": "periodic-identification",
   "metadata": {
    "execution": {
     "iopub.execute_input": "2021-08-21T17:30:08.429612Z",
     "iopub.status.busy": "2021-08-21T17:30:08.427608Z",
     "iopub.status.idle": "2021-08-21T17:30:08.447758Z",
     "shell.execute_reply": "2021-08-21T17:30:08.449222Z"
    },
    "papermill": {
     "duration": 0.066092,
     "end_time": "2021-08-21T17:30:08.449718",
     "exception": false,
     "start_time": "2021-08-21T17:30:08.383626",
     "status": "completed"
    },
    "tags": []
   },
   "outputs": [
    {
     "data": {
      "text/html": [
       "<div>\n",
       "<style scoped>\n",
       "    .dataframe tbody tr th:only-of-type {\n",
       "        vertical-align: middle;\n",
       "    }\n",
       "\n",
       "    .dataframe tbody tr th {\n",
       "        vertical-align: top;\n",
       "    }\n",
       "\n",
       "    .dataframe thead th {\n",
       "        text-align: right;\n",
       "    }\n",
       "</style>\n",
       "<table border=\"1\" class=\"dataframe\">\n",
       "  <thead>\n",
       "    <tr style=\"text-align: right;\">\n",
       "      <th></th>\n",
       "      <th>RECORD_TIME</th>\n",
       "    </tr>\n",
       "  </thead>\n",
       "  <tbody>\n",
       "    <tr>\n",
       "      <th>0</th>\n",
       "      <td>2021-08-21 19:30</td>\n",
       "    </tr>\n",
       "    <tr>\n",
       "      <th>1</th>\n",
       "      <td>2021-08-21 19:00</td>\n",
       "    </tr>\n",
       "  </tbody>\n",
       "</table>\n",
       "</div>"
      ],
      "text/plain": [
       "        RECORD_TIME\n",
       "0  2021-08-21 19:30\n",
       "1  2021-08-21 19:00"
      ]
     },
     "execution_count": 3,
     "metadata": {},
     "output_type": "execute_result"
    }
   ],
   "source": [
    "timestamps"
   ]
  },
  {
   "cell_type": "code",
   "execution_count": 4,
   "id": "alternate-victory",
   "metadata": {
    "execution": {
     "iopub.execute_input": "2021-08-21T17:30:08.502275Z",
     "iopub.status.busy": "2021-08-21T17:30:08.500373Z",
     "iopub.status.idle": "2021-08-21T17:30:08.650062Z",
     "shell.execute_reply": "2021-08-21T17:30:08.651439Z"
    },
    "papermill": {
     "duration": 0.179573,
     "end_time": "2021-08-21T17:30:08.651852",
     "exception": false,
     "start_time": "2021-08-21T17:30:08.472279",
     "status": "completed"
    },
    "tags": []
   },
   "outputs": [],
   "source": [
    "df = pd.read_sql(\"select * from EBAY_TOP_BERLIN where record_time in (select distinct record_time from EBAY_TOP_BERLIN order by record_time desc limit 2)\", sqlite3.connect(\"UsedObjects.db\"))"
   ]
  },
  {
   "cell_type": "code",
   "execution_count": 5,
   "id": "popular-active",
   "metadata": {
    "execution": {
     "iopub.execute_input": "2021-08-21T17:30:08.720521Z",
     "iopub.status.busy": "2021-08-21T17:30:08.708734Z",
     "iopub.status.idle": "2021-08-21T17:30:08.735911Z",
     "shell.execute_reply": "2021-08-21T17:30:08.737116Z"
    },
    "papermill": {
     "duration": 0.065383,
     "end_time": "2021-08-21T17:30:08.737497",
     "exception": false,
     "start_time": "2021-08-21T17:30:08.672114",
     "status": "completed"
    },
    "tags": []
   },
   "outputs": [],
   "source": [
    "df_pivot = df.pivot_table(index=\"PRODUCT\", columns = \"RECORD_TIME\", values = \"LISTING_COUNT\")"
   ]
  },
  {
   "cell_type": "code",
   "execution_count": 6,
   "id": "union-huntington",
   "metadata": {
    "execution": {
     "iopub.execute_input": "2021-08-21T17:30:08.796991Z",
     "iopub.status.busy": "2021-08-21T17:30:08.794559Z",
     "iopub.status.idle": "2021-08-21T17:30:08.800611Z",
     "shell.execute_reply": "2021-08-21T17:30:08.802020Z"
    },
    "papermill": {
     "duration": 0.042776,
     "end_time": "2021-08-21T17:30:08.802459",
     "exception": false,
     "start_time": "2021-08-21T17:30:08.759683",
     "status": "completed"
    },
    "tags": []
   },
   "outputs": [],
   "source": [
    "df_pivot.columns = [\"stamp_1\", \"stamp_2\"]\n",
    "df_pivot_diff = df_pivot.diff(axis=1)"
   ]
  },
  {
   "cell_type": "code",
   "execution_count": 7,
   "id": "fifth-motion",
   "metadata": {
    "execution": {
     "iopub.execute_input": "2021-08-21T17:30:08.862678Z",
     "iopub.status.busy": "2021-08-21T17:30:08.860224Z",
     "iopub.status.idle": "2021-08-21T17:30:10.360783Z",
     "shell.execute_reply": "2021-08-21T17:30:10.362232Z"
    },
    "papermill": {
     "duration": 1.538794,
     "end_time": "2021-08-21T17:30:10.362669",
     "exception": false,
     "start_time": "2021-08-21T17:30:08.823875",
     "status": "completed"
    },
    "tags": []
   },
   "outputs": [
    {
     "data": {
      "text/plain": [
       "<AxesSubplot:ylabel='PRODUCT'>"
      ]
     },
     "execution_count": 7,
     "metadata": {},
     "output_type": "execute_result"
    },
    {
     "data": {
      "image/png": "[encoded data removed]",
      "text/plain": [
       "<Figure size 432x288 with 1 Axes>"
      ]
     },
     "metadata": {
      "needs_background": "light"
     },
     "output_type": "display_data"
    }
   ],
   "source": [
    "df_pivot_diff.sort_values(\"stamp_2\", ascending = False)[\"stamp_2\"].head(10).plot.barh()"
   ]
  },
  {
   "cell_type": "code",
   "execution_count": null,
   "id": "extra-executive",
   "metadata": {
    "papermill": {
     "duration": 0.022018,
     "end_time": "2021-08-21T17:30:10.408310",
     "exception": false,
     "start_time": "2021-08-21T17:30:10.386292",
     "status": "completed"
    },
    "tags": []
   },
   "outputs": [],
   "source": []
  }
 ],
 "metadata": {
  "kernelspec": {
   "display_name": "Python 3",
   "language": "python",
   "name": "python3"
  },
  "language_info": {
   "codemirror_mode": {
    "name": "ipython",
    "version": 3
   },
   "file_extension": ".py",
   "mimetype": "text/x-python",
   "name": "python",
   "nbconvert_exporter": "python",
   "pygments_lexer": "ipython3",
   "version": "3.9.5"
  },
  "papermill": {
   "default_parameters": {},
   "duration": 6.82941,
   "end_time": "2021-08-21T17:30:11.782252",
   "environment_variables": {},
   "exception": null,
   "input_path": "eBay_Overview.ipynb",
   "output_path": "eBay_Overview.ipynb",
   "parameters": {},
   "start_time": "2021-08-21T17:30:04.952842",
   "version": "2.3.3"
  }
 },
 "nbformat": 4,
 "nbformat_minor": 5
}