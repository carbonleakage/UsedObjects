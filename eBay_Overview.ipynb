{
 "cells": [
  {
   "cell_type": "code",
   "execution_count": 1,
   "id": "reverse-picking",
   "metadata": {
    "execution": {
     "iopub.execute_input": "2021-11-25T10:30:07.339929Z",
     "iopub.status.busy": "2021-11-25T10:30:07.337624Z",
     "iopub.status.idle": "2021-11-25T10:30:08.294174Z",
     "shell.execute_reply": "2021-11-25T10:30:08.295615Z"
    },
    "papermill": {
     "duration": 1.00454,
     "end_time": "2021-11-25T10:30:08.296347",
     "exception": false,
     "start_time": "2021-11-25T10:30:07.291807",
     "status": "completed"
    },
    "tags": []
   },
   "outputs": [],
   "source": [
    "import pandas as pd\n",
    "import sqlite3"
   ]
  },
  {
   "cell_type": "code",
   "execution_count": 2,
   "id": "innovative-syndrome",
   "metadata": {
    "execution": {
     "iopub.execute_input": "2021-11-25T10:30:08.417442Z",
     "iopub.status.busy": "2021-11-25T10:30:08.415135Z",
     "iopub.status.idle": "2021-11-25T10:30:09.330309Z",
     "shell.execute_reply": "2021-11-25T10:30:09.331804Z"
    },
    "papermill": {
     "duration": 0.950745,
     "end_time": "2021-11-25T10:30:09.332299",
     "exception": false,
     "start_time": "2021-11-25T10:30:08.381554",
     "status": "completed"
    },
    "tags": []
   },
   "outputs": [],
   "source": [
    "timestamps = pd.read_sql(\"select distinct record_time from EBAY_TOP_BERLIN order by record_time desc limit 2\", sqlite3.connect(\"UsedObjects.db\"))"
   ]
  },
  {
   "cell_type": "code",
   "execution_count": 3,
   "id": "periodic-identification",
   "metadata": {
    "execution": {
     "iopub.execute_input": "2021-11-25T10:30:09.408045Z",
     "iopub.status.busy": "2021-11-25T10:30:09.405695Z",
     "iopub.status.idle": "2021-11-25T10:30:09.427722Z",
     "shell.execute_reply": "2021-11-25T10:30:09.429161Z"
    },
    "papermill": {
     "duration": 0.076041,
     "end_time": "2021-11-25T10:30:09.429632",
     "exception": false,
     "start_time": "2021-11-25T10:30:09.353591",
     "status": "completed"
    },
    "tags": []
   },
   "outputs": [
    {
     "data": {
      "text/html": [
       "<div>\n",
       "<style scoped>\n",
       "    .dataframe tbody tr th:only-of-type {\n",
       "        vertical-align: middle;\n",
       "    }\n",
       "\n",
       "    .dataframe tbody tr th {\n",
       "        vertical-align: top;\n",
       "    }\n",
       "\n",
       "    .dataframe thead th {\n",
       "        text-align: right;\n",
       "    }\n",
       "</style>\n",
       "<table border=\"1\" class=\"dataframe\">\n",
       "  <thead>\n",
       "    <tr style=\"text-align: right;\">\n",
       "      <th></th>\n",
       "      <th>RECORD_TIME</th>\n",
       "    </tr>\n",
       "  </thead>\n",
       "  <tbody>\n",
       "    <tr>\n",
       "      <th>0</th>\n",
       "      <td>2021-11-25 11:30</td>\n",
       "    </tr>\n",
       "    <tr>\n",
       "      <th>1</th>\n",
       "      <td>2021-11-25 11:00</td>\n",
       "    </tr>\n",
       "  </tbody>\n",
       "</table>\n",
       "</div>"
      ],
      "text/plain": [
       "        RECORD_TIME\n",
       "0  2021-11-25 11:30\n",
       "1  2021-11-25 11:00"
      ]
     },
     "execution_count": 3,
     "metadata": {},
     "output_type": "execute_result"
    }
   ],
   "source": [
    "timestamps"
   ]
  },
  {
   "cell_type": "code",
   "execution_count": 4,
   "id": "alternate-victory",
   "metadata": {
    "execution": {
     "iopub.execute_input": "2021-11-25T10:30:09.485695Z",
     "iopub.status.busy": "2021-11-25T10:30:09.483305Z",
     "iopub.status.idle": "2021-11-25T10:30:10.804538Z",
     "shell.execute_reply": "2021-11-25T10:30:10.806226Z"
    },
    "papermill": {
     "duration": 1.355708,
     "end_time": "2021-11-25T10:30:10.806719",
     "exception": false,
     "start_time": "2021-11-25T10:30:09.451011",
     "status": "completed"
    },
    "tags": []
   },
   "outputs": [],
   "source": [
    "df = pd.read_sql(\"select * from EBAY_TOP_BERLIN where record_time in (select distinct record_time from EBAY_TOP_BERLIN order by record_time desc limit 2)\", sqlite3.connect(\"UsedObjects.db\"))"
   ]
  },
  {
   "cell_type": "code",
   "execution_count": 5,
   "id": "popular-active",
   "metadata": {
    "execution": {
     "iopub.execute_input": "2021-11-25T10:30:10.884420Z",
     "iopub.status.busy": "2021-11-25T10:30:10.872389Z",
     "iopub.status.idle": "2021-11-25T10:30:10.901365Z",
     "shell.execute_reply": "2021-11-25T10:30:10.902892Z"
    },
    "papermill": {
     "duration": 0.073184,
     "end_time": "2021-11-25T10:30:10.903385",
     "exception": false,
     "start_time": "2021-11-25T10:30:10.830201",
     "status": "completed"
    },
    "tags": []
   },
   "outputs": [],
   "source": [
    "df_pivot = df.pivot_table(index=\"PRODUCT\", columns = \"RECORD_TIME\", values = \"LISTING_COUNT\")"
   ]
  },
  {
   "cell_type": "code",
   "execution_count": 6,
   "id": "union-huntington",
   "metadata": {
    "execution": {
     "iopub.execute_input": "2021-11-25T10:30:10.966754Z",
     "iopub.status.busy": "2021-11-25T10:30:10.964374Z",
     "iopub.status.idle": "2021-11-25T10:30:10.970365Z",
     "shell.execute_reply": "2021-11-25T10:30:10.971972Z"
    },
    "papermill": {
     "duration": 0.047861,
     "end_time": "2021-11-25T10:30:10.972479",
     "exception": false,
     "start_time": "2021-11-25T10:30:10.924618",
     "status": "completed"
    },
    "tags": []
   },
   "outputs": [],
   "source": [
    "df_pivot.columns = [\"stamp_1\", \"stamp_2\"]\n",
    "df_pivot_diff = df_pivot.diff(axis=1)"
   ]
  },
  {
   "cell_type": "code",
   "execution_count": 7,
   "id": "fifth-motion",
   "metadata": {
    "execution": {
     "iopub.execute_input": "2021-11-25T10:30:11.032787Z",
     "iopub.status.busy": "2021-11-25T10:30:11.030089Z",
     "iopub.status.idle": "2021-11-25T10:30:12.950710Z",
     "shell.execute_reply": "2021-11-25T10:30:12.949208Z"
    },
    "papermill": {
     "duration": 1.956958,
     "end_time": "2021-11-25T10:30:12.951121",
     "exception": false,
     "start_time": "2021-11-25T10:30:10.994163",
     "status": "completed"
    },
    "tags": []
   },
   "outputs": [
    {
     "data": {
      "text/plain": [
       "<AxesSubplot:ylabel='PRODUCT'>"
      ]
     },
     "execution_count": 7,
     "metadata": {},
     "output_type": "execute_result"
    },
    {
     "data": {
      "image/png": "[encoded data removed]",
      "text/plain": [
       "<Figure size 432x288 with 1 Axes>"
      ]
     },
     "metadata": {
      "needs_background": "light"
     },
     "output_type": "display_data"
    }
   ],
   "source": [
    "df_pivot_diff.sort_values(\"stamp_2\", ascending = False)[\"stamp_2\"].head(10).plot.barh()"
   ]
  },
  {
   "cell_type": "code",
   "execution_count": null,
   "id": "extra-executive",
   "metadata": {
    "papermill": {
     "duration": 0.023988,
     "end_time": "2021-11-25T10:30:12.999910",
     "exception": false,
     "start_time": "2021-11-25T10:30:12.975922",
     "status": "completed"
    },
    "tags": []
   },
   "outputs": [],
   "source": []
  }
 ],
 "metadata": {
  "kernelspec": {
   "display_name": "Python 3",
   "language": "python",
   "name": "python3"
  },
  "language_info": {
   "codemirror_mode": {
    "name": "ipython",
    "version": 3
   },
   "file_extension": ".py",
   "mimetype": "text/x-python",
   "name": "python",
   "nbconvert_exporter": "python",
   "pygments_lexer": "ipython3",
   "version": "3.9.5"
  },
  "papermill": {
   "default_parameters": {},
   "duration": 9.946032,
   "end_time": "2021-11-25T10:30:14.497670",
   "environment_variables": {},
   "exception": null,
   "input_path": "eBay_Overview.ipynb",
   "output_path": "eBay_Overview.ipynb",
   "parameters": {},
   "start_time": "2021-11-25T10:30:04.551638",
   "version": "2.3.3"
  }
 },
 "nbformat": 4,
 "nbformat_minor": 5
}