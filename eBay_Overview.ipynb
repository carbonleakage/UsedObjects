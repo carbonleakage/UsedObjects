{
 "cells": [
  {
   "cell_type": "code",
   "execution_count": 1,
   "id": "reverse-picking",
   "metadata": {
    "execution": {
     "iopub.execute_input": "2021-12-04T04:00:07.607987Z",
     "iopub.status.busy": "2021-12-04T04:00:07.602539Z",
     "iopub.status.idle": "2021-12-04T04:00:08.573446Z",
     "shell.execute_reply": "2021-12-04T04:00:08.575078Z"
    },
    "papermill": {
     "duration": 1.015371,
     "end_time": "2021-12-04T04:00:08.575817",
     "exception": false,
     "start_time": "2021-12-04T04:00:07.560446",
     "status": "completed"
    },
    "tags": []
   },
   "outputs": [],
   "source": [
    "import pandas as pd\n",
    "import sqlite3"
   ]
  },
  {
   "cell_type": "code",
   "execution_count": 2,
   "id": "innovative-syndrome",
   "metadata": {
    "execution": {
     "iopub.execute_input": "2021-12-04T04:00:08.641783Z",
     "iopub.status.busy": "2021-12-04T04:00:08.639415Z",
     "iopub.status.idle": "2021-12-04T04:00:09.631193Z",
     "shell.execute_reply": "2021-12-04T04:00:09.632868Z"
    },
    "papermill": {
     "duration": 1.026947,
     "end_time": "2021-12-04T04:00:09.633427",
     "exception": false,
     "start_time": "2021-12-04T04:00:08.606480",
     "status": "completed"
    },
    "tags": []
   },
   "outputs": [],
   "source": [
    "timestamps = pd.read_sql(\"select distinct record_time from EBAY_TOP_BERLIN order by record_time desc limit 2\", sqlite3.connect(\"UsedObjects.db\"))"
   ]
  },
  {
   "cell_type": "code",
   "execution_count": 3,
   "id": "periodic-identification",
   "metadata": {
    "execution": {
     "iopub.execute_input": "2021-12-04T04:00:09.706423Z",
     "iopub.status.busy": "2021-12-04T04:00:09.702657Z",
     "iopub.status.idle": "2021-12-04T04:00:09.727050Z",
     "shell.execute_reply": "2021-12-04T04:00:09.728433Z"
    },
    "papermill": {
     "duration": 0.075073,
     "end_time": "2021-12-04T04:00:09.728977",
     "exception": false,
     "start_time": "2021-12-04T04:00:09.653904",
     "status": "completed"
    },
    "tags": []
   },
   "outputs": [
    {
     "data": {
      "text/html": [
       "<div>\n",
       "<style scoped>\n",
       "    .dataframe tbody tr th:only-of-type {\n",
       "        vertical-align: middle;\n",
       "    }\n",
       "\n",
       "    .dataframe tbody tr th {\n",
       "        vertical-align: top;\n",
       "    }\n",
       "\n",
       "    .dataframe thead th {\n",
       "        text-align: right;\n",
       "    }\n",
       "</style>\n",
       "<table border=\"1\" class=\"dataframe\">\n",
       "  <thead>\n",
       "    <tr style=\"text-align: right;\">\n",
       "      <th></th>\n",
       "      <th>RECORD_TIME</th>\n",
       "    </tr>\n",
       "  </thead>\n",
       "  <tbody>\n",
       "    <tr>\n",
       "      <th>0</th>\n",
       "      <td>2021-12-04 05:00</td>\n",
       "    </tr>\n",
       "    <tr>\n",
       "      <th>1</th>\n",
       "      <td>2021-12-04 04:30</td>\n",
       "    </tr>\n",
       "  </tbody>\n",
       "</table>\n",
       "</div>"
      ],
      "text/plain": [
       "        RECORD_TIME\n",
       "0  2021-12-04 05:00\n",
       "1  2021-12-04 04:30"
      ]
     },
     "execution_count": 3,
     "metadata": {},
     "output_type": "execute_result"
    }
   ],
   "source": [
    "timestamps"
   ]
  },
  {
   "cell_type": "code",
   "execution_count": 4,
   "id": "alternate-victory",
   "metadata": {
    "execution": {
     "iopub.execute_input": "2021-12-04T04:00:09.784281Z",
     "iopub.status.busy": "2021-12-04T04:00:09.782146Z",
     "iopub.status.idle": "2021-12-04T04:00:11.221683Z",
     "shell.execute_reply": "2021-12-04T04:00:11.223384Z"
    },
    "papermill": {
     "duration": 1.473476,
     "end_time": "2021-12-04T04:00:11.223886",
     "exception": false,
     "start_time": "2021-12-04T04:00:09.750410",
     "status": "completed"
    },
    "tags": []
   },
   "outputs": [],
   "source": [
    "df = pd.read_sql(\"select * from EBAY_TOP_BERLIN where record_time in (select distinct record_time from EBAY_TOP_BERLIN order by record_time desc limit 2)\", sqlite3.connect(\"UsedObjects.db\"))"
   ]
  },
  {
   "cell_type": "code",
   "execution_count": 5,
   "id": "popular-active",
   "metadata": {
    "execution": {
     "iopub.execute_input": "2021-12-04T04:00:11.301422Z",
     "iopub.status.busy": "2021-12-04T04:00:11.288968Z",
     "iopub.status.idle": "2021-12-04T04:00:11.321205Z",
     "shell.execute_reply": "2021-12-04T04:00:11.319366Z"
    },
    "papermill": {
     "duration": 0.075406,
     "end_time": "2021-12-04T04:00:11.321635",
     "exception": false,
     "start_time": "2021-12-04T04:00:11.246229",
     "status": "completed"
    },
    "tags": []
   },
   "outputs": [],
   "source": [
    "df_pivot = df.pivot_table(index=\"PRODUCT\", columns = \"RECORD_TIME\", values = \"LISTING_COUNT\")"
   ]
  },
  {
   "cell_type": "code",
   "execution_count": 6,
   "id": "union-huntington",
   "metadata": {
    "execution": {
     "iopub.execute_input": "2021-12-04T04:00:11.381337Z",
     "iopub.status.busy": "2021-12-04T04:00:11.378813Z",
     "iopub.status.idle": "2021-12-04T04:00:11.385422Z",
     "shell.execute_reply": "2021-12-04T04:00:11.387265Z"
    },
    "papermill": {
     "duration": 0.046003,
     "end_time": "2021-12-04T04:00:11.387818",
     "exception": false,
     "start_time": "2021-12-04T04:00:11.341815",
     "status": "completed"
    },
    "tags": []
   },
   "outputs": [],
   "source": [
    "df_pivot.columns = [\"stamp_1\", \"stamp_2\"]\n",
    "df_pivot_diff = df_pivot.diff(axis=1)"
   ]
  },
  {
   "cell_type": "code",
   "execution_count": 7,
   "id": "fifth-motion",
   "metadata": {
    "execution": {
     "iopub.execute_input": "2021-12-04T04:00:11.449083Z",
     "iopub.status.busy": "2021-12-04T04:00:11.446521Z",
     "iopub.status.idle": "2021-12-04T04:00:13.400611Z",
     "shell.execute_reply": "2021-12-04T04:00:13.403109Z"
    },
    "papermill": {
     "duration": 1.993755,
     "end_time": "2021-12-04T04:00:13.404040",
     "exception": false,
     "start_time": "2021-12-04T04:00:11.410285",
     "status": "completed"
    },
    "tags": []
   },
   "outputs": [
    {
     "data": {
      "text/plain": [
       "<AxesSubplot:ylabel='PRODUCT'>"
      ]
     },
     "execution_count": 7,
     "metadata": {},
     "output_type": "execute_result"
    },
    {
     "data": {
      "image/png": "[encoded data removed]",
      "text/plain": [
       "<Figure size 432x288 with 1 Axes>"
      ]
     },
     "metadata": {
      "needs_background": "light"
     },
     "output_type": "display_data"
    }
   ],
   "source": [
    "df_pivot_diff.sort_values(\"stamp_2\", ascending = False)[\"stamp_2\"].head(10).plot.barh()"
   ]
  },
  {
   "cell_type": "code",
   "execution_count": null,
   "id": "extra-executive",
   "metadata": {
    "papermill": {
     "duration": 0.027432,
     "end_time": "2021-12-04T04:00:13.465596",
     "exception": false,
     "start_time": "2021-12-04T04:00:13.438164",
     "status": "completed"
    },
    "tags": []
   },
   "outputs": [],
   "source": []
  }
 ],
 "metadata": {
  "kernelspec": {
   "display_name": "Python 3",
   "language": "python",
   "name": "python3"
  },
  "language_info": {
   "codemirror_mode": {
    "name": "ipython",
    "version": 3
   },
   "file_extension": ".py",
   "mimetype": "text/x-python",
   "name": "python",
   "nbconvert_exporter": "python",
   "pygments_lexer": "ipython3",
   "version": "3.9.5"
  },
  "papermill": {
   "default_parameters": {},
   "duration": 9.929572,
   "end_time": "2021-12-04T04:00:14.754954",
   "environment_variables": {},
   "exception": null,
   "input_path": "eBay_Overview.ipynb",
   "output_path": "eBay_Overview.ipynb",
   "parameters": {},
   "start_time": "2021-12-04T04:00:04.825382",
   "version": "2.3.3"
  }
 },
 "nbformat": 4,
 "nbformat_minor": 5
}