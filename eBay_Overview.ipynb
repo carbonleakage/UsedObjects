{
 "cells": [
  {
   "cell_type": "code",
   "execution_count": 1,
   "id": "reverse-picking",
   "metadata": {
    "execution": {
     "iopub.execute_input": "2021-08-20T20:30:06.775650Z",
     "iopub.status.busy": "2021-08-20T20:30:06.773670Z",
     "iopub.status.idle": "2021-08-20T20:30:07.579550Z",
     "shell.execute_reply": "2021-08-20T20:30:07.580797Z"
    },
    "papermill": {
     "duration": 0.858522,
     "end_time": "2021-08-20T20:30:07.581408",
     "exception": false,
     "start_time": "2021-08-20T20:30:06.722886",
     "status": "completed"
    },
    "tags": []
   },
   "outputs": [],
   "source": [
    "import pandas as pd\n",
    "import sqlite3"
   ]
  },
  {
   "cell_type": "code",
   "execution_count": 2,
   "id": "innovative-syndrome",
   "metadata": {
    "execution": {
     "iopub.execute_input": "2021-08-20T20:30:07.631995Z",
     "iopub.status.busy": "2021-08-20T20:30:07.630155Z",
     "iopub.status.idle": "2021-08-20T20:30:07.722028Z",
     "shell.execute_reply": "2021-08-20T20:30:07.723315Z"
    },
    "papermill": {
     "duration": 0.121435,
     "end_time": "2021-08-20T20:30:07.723729",
     "exception": false,
     "start_time": "2021-08-20T20:30:07.602294",
     "status": "completed"
    },
    "tags": []
   },
   "outputs": [],
   "source": [
    "timestamps = pd.read_sql(\"select distinct record_time from EBAY_TOP_BERLIN order by record_time desc limit 2\", sqlite3.connect(\"UsedObjects.db\"))"
   ]
  },
  {
   "cell_type": "code",
   "execution_count": 3,
   "id": "periodic-identification",
   "metadata": {
    "execution": {
     "iopub.execute_input": "2021-08-20T20:30:07.788093Z",
     "iopub.status.busy": "2021-08-20T20:30:07.786063Z",
     "iopub.status.idle": "2021-08-20T20:30:07.805897Z",
     "shell.execute_reply": "2021-08-20T20:30:07.807331Z"
    },
    "papermill": {
     "duration": 0.064455,
     "end_time": "2021-08-20T20:30:07.807749",
     "exception": false,
     "start_time": "2021-08-20T20:30:07.743294",
     "status": "completed"
    },
    "tags": []
   },
   "outputs": [
    {
     "data": {
      "text/html": [
       "<div>\n",
       "<style scoped>\n",
       "    .dataframe tbody tr th:only-of-type {\n",
       "        vertical-align: middle;\n",
       "    }\n",
       "\n",
       "    .dataframe tbody tr th {\n",
       "        vertical-align: top;\n",
       "    }\n",
       "\n",
       "    .dataframe thead th {\n",
       "        text-align: right;\n",
       "    }\n",
       "</style>\n",
       "<table border=\"1\" class=\"dataframe\">\n",
       "  <thead>\n",
       "    <tr style=\"text-align: right;\">\n",
       "      <th></th>\n",
       "      <th>RECORD_TIME</th>\n",
       "    </tr>\n",
       "  </thead>\n",
       "  <tbody>\n",
       "    <tr>\n",
       "      <th>0</th>\n",
       "      <td>2021-08-20 22:30</td>\n",
       "    </tr>\n",
       "    <tr>\n",
       "      <th>1</th>\n",
       "      <td>2021-08-20 22:00</td>\n",
       "    </tr>\n",
       "  </tbody>\n",
       "</table>\n",
       "</div>"
      ],
      "text/plain": [
       "        RECORD_TIME\n",
       "0  2021-08-20 22:30\n",
       "1  2021-08-20 22:00"
      ]
     },
     "execution_count": 3,
     "metadata": {},
     "output_type": "execute_result"
    }
   ],
   "source": [
    "timestamps"
   ]
  },
  {
   "cell_type": "code",
   "execution_count": 4,
   "id": "alternate-victory",
   "metadata": {
    "execution": {
     "iopub.execute_input": "2021-08-20T20:30:07.859493Z",
     "iopub.status.busy": "2021-08-20T20:30:07.857556Z",
     "iopub.status.idle": "2021-08-20T20:30:07.997424Z",
     "shell.execute_reply": "2021-08-20T20:30:07.998697Z"
    },
    "papermill": {
     "duration": 0.169628,
     "end_time": "2021-08-20T20:30:07.999104",
     "exception": false,
     "start_time": "2021-08-20T20:30:07.829476",
     "status": "completed"
    },
    "tags": []
   },
   "outputs": [],
   "source": [
    "df = pd.read_sql(\"select * from EBAY_TOP_BERLIN where record_time in (select distinct record_time from EBAY_TOP_BERLIN order by record_time desc limit 2)\", sqlite3.connect(\"UsedObjects.db\"))"
   ]
  },
  {
   "cell_type": "code",
   "execution_count": 5,
   "id": "popular-active",
   "metadata": {
    "execution": {
     "iopub.execute_input": "2021-08-20T20:30:08.062198Z",
     "iopub.status.busy": "2021-08-20T20:30:08.059893Z",
     "iopub.status.idle": "2021-08-20T20:30:08.087311Z",
     "shell.execute_reply": "2021-08-20T20:30:08.088519Z"
    },
    "papermill": {
     "duration": 0.067362,
     "end_time": "2021-08-20T20:30:08.088911",
     "exception": false,
     "start_time": "2021-08-20T20:30:08.021549",
     "status": "completed"
    },
    "tags": []
   },
   "outputs": [],
   "source": [
    "df_pivot = df.pivot_table(index=\"PRODUCT\", columns = \"RECORD_TIME\", values = \"LISTING_COUNT\")"
   ]
  },
  {
   "cell_type": "code",
   "execution_count": 6,
   "id": "union-huntington",
   "metadata": {
    "execution": {
     "iopub.execute_input": "2021-08-20T20:30:08.145652Z",
     "iopub.status.busy": "2021-08-20T20:30:08.143614Z",
     "iopub.status.idle": "2021-08-20T20:30:08.148951Z",
     "shell.execute_reply": "2021-08-20T20:30:08.150452Z"
    },
    "papermill": {
     "duration": 0.04053,
     "end_time": "2021-08-20T20:30:08.150894",
     "exception": false,
     "start_time": "2021-08-20T20:30:08.110364",
     "status": "completed"
    },
    "tags": []
   },
   "outputs": [],
   "source": [
    "df_pivot.columns = [\"stamp_1\", \"stamp_2\"]\n",
    "df_pivot_diff = df_pivot.diff(axis=1)"
   ]
  },
  {
   "cell_type": "code",
   "execution_count": 7,
   "id": "fifth-motion",
   "metadata": {
    "execution": {
     "iopub.execute_input": "2021-08-20T20:30:08.206528Z",
     "iopub.status.busy": "2021-08-20T20:30:08.203803Z",
     "iopub.status.idle": "2021-08-20T20:30:09.680996Z",
     "shell.execute_reply": "2021-08-20T20:30:09.683093Z"
    },
    "papermill": {
     "duration": 1.511682,
     "end_time": "2021-08-20T20:30:09.683565",
     "exception": false,
     "start_time": "2021-08-20T20:30:08.171883",
     "status": "completed"
    },
    "tags": []
   },
   "outputs": [
    {
     "data": {
      "text/plain": [
       "<AxesSubplot:ylabel='PRODUCT'>"
      ]
     },
     "execution_count": 7,
     "metadata": {},
     "output_type": "execute_result"
    },
    {
     "data": {
      "image/png": "[encoded data removed]",
      "text/plain": [
       "<Figure size 432x288 with 1 Axes>"
      ]
     },
     "metadata": {
      "needs_background": "light"
     },
     "output_type": "display_data"
    }
   ],
   "source": [
    "df_pivot_diff.sort_values(\"stamp_2\", ascending = False)[\"stamp_2\"].head(10).plot.barh()"
   ]
  },
  {
   "cell_type": "code",
   "execution_count": null,
   "id": "extra-executive",
   "metadata": {
    "papermill": {
     "duration": 0.022266,
     "end_time": "2021-08-20T20:30:09.732569",
     "exception": false,
     "start_time": "2021-08-20T20:30:09.710303",
     "status": "completed"
    },
    "tags": []
   },
   "outputs": [],
   "source": []
  }
 ],
 "metadata": {
  "kernelspec": {
   "display_name": "Python 3",
   "language": "python",
   "name": "python3"
  },
  "language_info": {
   "codemirror_mode": {
    "name": "ipython",
    "version": 3
   },
   "file_extension": ".py",
   "mimetype": "text/x-python",
   "name": "python",
   "nbconvert_exporter": "python",
   "pygments_lexer": "ipython3",
   "version": "3.9.5"
  },
  "papermill": {
   "default_parameters": {},
   "duration": 6.819244,
   "end_time": "2021-08-20T20:30:11.135141",
   "environment_variables": {},
   "exception": null,
   "input_path": "eBay_Overview.ipynb",
   "output_path": "eBay_Overview.ipynb",
   "parameters": {},
   "start_time": "2021-08-20T20:30:04.315897",
   "version": "2.3.3"
  }
 },
 "nbformat": 4,
 "nbformat_minor": 5
}