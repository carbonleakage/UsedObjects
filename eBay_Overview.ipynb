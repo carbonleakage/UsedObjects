{
 "cells": [
  {
   "cell_type": "code",
   "execution_count": 1,
   "id": "reverse-picking",
   "metadata": {
    "execution": {
     "iopub.execute_input": "2021-08-29T07:00:07.254272Z",
     "iopub.status.busy": "2021-08-29T07:00:07.252318Z",
     "iopub.status.idle": "2021-08-29T07:00:08.060019Z",
     "shell.execute_reply": "2021-08-29T07:00:08.061517Z"
    },
    "papermill": {
     "duration": 0.860018,
     "end_time": "2021-08-29T07:00:08.062310",
     "exception": false,
     "start_time": "2021-08-29T07:00:07.202292",
     "status": "completed"
    },
    "tags": []
   },
   "outputs": [],
   "source": [
    "import pandas as pd\n",
    "import sqlite3"
   ]
  },
  {
   "cell_type": "code",
   "execution_count": 2,
   "id": "innovative-syndrome",
   "metadata": {
    "execution": {
     "iopub.execute_input": "2021-08-29T07:00:08.114065Z",
     "iopub.status.busy": "2021-08-29T07:00:08.111686Z",
     "iopub.status.idle": "2021-08-29T07:00:08.268106Z",
     "shell.execute_reply": "2021-08-29T07:00:08.269531Z"
    },
    "papermill": {
     "duration": 0.186644,
     "end_time": "2021-08-29T07:00:08.269950",
     "exception": false,
     "start_time": "2021-08-29T07:00:08.083306",
     "status": "completed"
    },
    "tags": []
   },
   "outputs": [],
   "source": [
    "timestamps = pd.read_sql(\"select distinct record_time from EBAY_TOP_BERLIN order by record_time desc limit 2\", sqlite3.connect(\"UsedObjects.db\"))"
   ]
  },
  {
   "cell_type": "code",
   "execution_count": 3,
   "id": "periodic-identification",
   "metadata": {
    "execution": {
     "iopub.execute_input": "2021-08-29T07:00:08.334723Z",
     "iopub.status.busy": "2021-08-29T07:00:08.332708Z",
     "iopub.status.idle": "2021-08-29T07:00:08.352474Z",
     "shell.execute_reply": "2021-08-29T07:00:08.353833Z"
    },
    "papermill": {
     "duration": 0.06502,
     "end_time": "2021-08-29T07:00:08.354237",
     "exception": false,
     "start_time": "2021-08-29T07:00:08.289217",
     "status": "completed"
    },
    "tags": []
   },
   "outputs": [
    {
     "data": {
      "text/html": [
       "<div>\n",
       "<style scoped>\n",
       "    .dataframe tbody tr th:only-of-type {\n",
       "        vertical-align: middle;\n",
       "    }\n",
       "\n",
       "    .dataframe tbody tr th {\n",
       "        vertical-align: top;\n",
       "    }\n",
       "\n",
       "    .dataframe thead th {\n",
       "        text-align: right;\n",
       "    }\n",
       "</style>\n",
       "<table border=\"1\" class=\"dataframe\">\n",
       "  <thead>\n",
       "    <tr style=\"text-align: right;\">\n",
       "      <th></th>\n",
       "      <th>RECORD_TIME</th>\n",
       "    </tr>\n",
       "  </thead>\n",
       "  <tbody>\n",
       "    <tr>\n",
       "      <th>0</th>\n",
       "      <td>2021-08-29 09:00</td>\n",
       "    </tr>\n",
       "    <tr>\n",
       "      <th>1</th>\n",
       "      <td>2021-08-29 08:30</td>\n",
       "    </tr>\n",
       "  </tbody>\n",
       "</table>\n",
       "</div>"
      ],
      "text/plain": [
       "        RECORD_TIME\n",
       "0  2021-08-29 09:00\n",
       "1  2021-08-29 08:30"
      ]
     },
     "execution_count": 3,
     "metadata": {},
     "output_type": "execute_result"
    }
   ],
   "source": [
    "timestamps"
   ]
  },
  {
   "cell_type": "code",
   "execution_count": 4,
   "id": "alternate-victory",
   "metadata": {
    "execution": {
     "iopub.execute_input": "2021-08-29T07:00:08.406110Z",
     "iopub.status.busy": "2021-08-29T07:00:08.403891Z",
     "iopub.status.idle": "2021-08-29T07:00:08.637666Z",
     "shell.execute_reply": "2021-08-29T07:00:08.638877Z"
    },
    "papermill": {
     "duration": 0.263573,
     "end_time": "2021-08-29T07:00:08.639271",
     "exception": false,
     "start_time": "2021-08-29T07:00:08.375698",
     "status": "completed"
    },
    "tags": []
   },
   "outputs": [],
   "source": [
    "df = pd.read_sql(\"select * from EBAY_TOP_BERLIN where record_time in (select distinct record_time from EBAY_TOP_BERLIN order by record_time desc limit 2)\", sqlite3.connect(\"UsedObjects.db\"))"
   ]
  },
  {
   "cell_type": "code",
   "execution_count": 5,
   "id": "popular-active",
   "metadata": {
    "execution": {
     "iopub.execute_input": "2021-08-29T07:00:08.718141Z",
     "iopub.status.busy": "2021-08-29T07:00:08.706989Z",
     "iopub.status.idle": "2021-08-29T07:00:08.734945Z",
     "shell.execute_reply": "2021-08-29T07:00:08.736404Z"
    },
    "papermill": {
     "duration": 0.075712,
     "end_time": "2021-08-29T07:00:08.736843",
     "exception": false,
     "start_time": "2021-08-29T07:00:08.661131",
     "status": "completed"
    },
    "tags": []
   },
   "outputs": [],
   "source": [
    "df_pivot = df.pivot_table(index=\"PRODUCT\", columns = \"RECORD_TIME\", values = \"LISTING_COUNT\")"
   ]
  },
  {
   "cell_type": "code",
   "execution_count": 6,
   "id": "union-huntington",
   "metadata": {
    "execution": {
     "iopub.execute_input": "2021-08-29T07:00:08.792921Z",
     "iopub.status.busy": "2021-08-29T07:00:08.790817Z",
     "iopub.status.idle": "2021-08-29T07:00:08.796087Z",
     "shell.execute_reply": "2021-08-29T07:00:08.797495Z"
    },
    "papermill": {
     "duration": 0.041107,
     "end_time": "2021-08-29T07:00:08.797918",
     "exception": false,
     "start_time": "2021-08-29T07:00:08.756811",
     "status": "completed"
    },
    "tags": []
   },
   "outputs": [],
   "source": [
    "df_pivot.columns = [\"stamp_1\", \"stamp_2\"]\n",
    "df_pivot_diff = df_pivot.diff(axis=1)"
   ]
  },
  {
   "cell_type": "code",
   "execution_count": 7,
   "id": "fifth-motion",
   "metadata": {
    "execution": {
     "iopub.execute_input": "2021-08-29T07:00:08.851229Z",
     "iopub.status.busy": "2021-08-29T07:00:08.848859Z",
     "iopub.status.idle": "2021-08-29T07:00:10.329835Z",
     "shell.execute_reply": "2021-08-29T07:00:10.331025Z"
    },
    "papermill": {
     "duration": 1.513319,
     "end_time": "2021-08-29T07:00:10.331448",
     "exception": false,
     "start_time": "2021-08-29T07:00:08.818129",
     "status": "completed"
    },
    "tags": []
   },
   "outputs": [
    {
     "data": {
      "text/plain": [
       "<AxesSubplot:ylabel='PRODUCT'>"
      ]
     },
     "execution_count": 7,
     "metadata": {},
     "output_type": "execute_result"
    },
    {
     "data": {
      "image/png": "[encoded data removed]",
      "text/plain": [
       "<Figure size 432x288 with 1 Axes>"
      ]
     },
     "metadata": {
      "needs_background": "light"
     },
     "output_type": "display_data"
    }
   ],
   "source": [
    "df_pivot_diff.sort_values(\"stamp_2\", ascending = False)[\"stamp_2\"].head(10).plot.barh()"
   ]
  },
  {
   "cell_type": "code",
   "execution_count": null,
   "id": "extra-executive",
   "metadata": {
    "papermill": {
     "duration": 0.022067,
     "end_time": "2021-08-29T07:00:10.377113",
     "exception": false,
     "start_time": "2021-08-29T07:00:10.355046",
     "status": "completed"
    },
    "tags": []
   },
   "outputs": [],
   "source": []
  }
 ],
 "metadata": {
  "kernelspec": {
   "display_name": "Python 3",
   "language": "python",
   "name": "python3"
  },
  "language_info": {
   "codemirror_mode": {
    "name": "ipython",
    "version": 3
   },
   "file_extension": ".py",
   "mimetype": "text/x-python",
   "name": "python",
   "nbconvert_exporter": "python",
   "pygments_lexer": "ipython3",
   "version": "3.9.5"
  },
  "papermill": {
   "default_parameters": {},
   "duration": 6.819651,
   "end_time": "2021-08-29T07:00:11.612979",
   "environment_variables": {},
   "exception": null,
   "input_path": "eBay_Overview.ipynb",
   "output_path": "eBay_Overview.ipynb",
   "parameters": {},
   "start_time": "2021-08-29T07:00:04.793328",
   "version": "2.3.3"
  }
 },
 "nbformat": 4,
 "nbformat_minor": 5
}