{
 "cells": [
  {
   "cell_type": "code",
   "execution_count": 1,
   "id": "reverse-picking",
   "metadata": {
    "execution": {
     "iopub.execute_input": "2021-09-26T00:00:06.844682Z",
     "iopub.status.busy": "2021-09-26T00:00:06.842690Z",
     "iopub.status.idle": "2021-09-26T00:00:07.652358Z",
     "shell.execute_reply": "2021-09-26T00:00:07.650696Z"
    },
    "papermill": {
     "duration": 0.861455,
     "end_time": "2021-09-26T00:00:07.652754",
     "exception": false,
     "start_time": "2021-09-26T00:00:06.791299",
     "status": "completed"
    },
    "tags": []
   },
   "outputs": [],
   "source": [
    "import pandas as pd\n",
    "import sqlite3"
   ]
  },
  {
   "cell_type": "code",
   "execution_count": 2,
   "id": "innovative-syndrome",
   "metadata": {
    "execution": {
     "iopub.execute_input": "2021-09-26T00:00:07.705319Z",
     "iopub.status.busy": "2021-09-26T00:00:07.703177Z",
     "iopub.status.idle": "2021-09-26T00:00:08.078606Z",
     "shell.execute_reply": "2021-09-26T00:00:08.079925Z"
    },
    "papermill": {
     "duration": 0.404739,
     "end_time": "2021-09-26T00:00:08.080345",
     "exception": false,
     "start_time": "2021-09-26T00:00:07.675606",
     "status": "completed"
    },
    "tags": []
   },
   "outputs": [],
   "source": [
    "timestamps = pd.read_sql(\"select distinct record_time from EBAY_TOP_BERLIN order by record_time desc limit 2\", sqlite3.connect(\"UsedObjects.db\"))"
   ]
  },
  {
   "cell_type": "code",
   "execution_count": 3,
   "id": "periodic-identification",
   "metadata": {
    "execution": {
     "iopub.execute_input": "2021-09-26T00:00:08.144430Z",
     "iopub.status.busy": "2021-09-26T00:00:08.142366Z",
     "iopub.status.idle": "2021-09-26T00:00:08.162009Z",
     "shell.execute_reply": "2021-09-26T00:00:08.163346Z"
    },
    "papermill": {
     "duration": 0.063993,
     "end_time": "2021-09-26T00:00:08.163781",
     "exception": false,
     "start_time": "2021-09-26T00:00:08.099788",
     "status": "completed"
    },
    "tags": []
   },
   "outputs": [
    {
     "data": {
      "text/html": [
       "<div>\n",
       "<style scoped>\n",
       "    .dataframe tbody tr th:only-of-type {\n",
       "        vertical-align: middle;\n",
       "    }\n",
       "\n",
       "    .dataframe tbody tr th {\n",
       "        vertical-align: top;\n",
       "    }\n",
       "\n",
       "    .dataframe thead th {\n",
       "        text-align: right;\n",
       "    }\n",
       "</style>\n",
       "<table border=\"1\" class=\"dataframe\">\n",
       "  <thead>\n",
       "    <tr style=\"text-align: right;\">\n",
       "      <th></th>\n",
       "      <th>RECORD_TIME</th>\n",
       "    </tr>\n",
       "  </thead>\n",
       "  <tbody>\n",
       "    <tr>\n",
       "      <th>0</th>\n",
       "      <td>2021-09-26 02:00</td>\n",
       "    </tr>\n",
       "    <tr>\n",
       "      <th>1</th>\n",
       "      <td>2021-09-26 01:30</td>\n",
       "    </tr>\n",
       "  </tbody>\n",
       "</table>\n",
       "</div>"
      ],
      "text/plain": [
       "        RECORD_TIME\n",
       "0  2021-09-26 02:00\n",
       "1  2021-09-26 01:30"
      ]
     },
     "execution_count": 3,
     "metadata": {},
     "output_type": "execute_result"
    }
   ],
   "source": [
    "timestamps"
   ]
  },
  {
   "cell_type": "code",
   "execution_count": 4,
   "id": "alternate-victory",
   "metadata": {
    "execution": {
     "iopub.execute_input": "2021-09-26T00:00:08.214420Z",
     "iopub.status.busy": "2021-09-26T00:00:08.212650Z",
     "iopub.status.idle": "2021-09-26T00:00:08.771267Z",
     "shell.execute_reply": "2021-09-26T00:00:08.772634Z"
    },
    "papermill": {
     "duration": 0.588588,
     "end_time": "2021-09-26T00:00:08.773042",
     "exception": false,
     "start_time": "2021-09-26T00:00:08.184454",
     "status": "completed"
    },
    "tags": []
   },
   "outputs": [],
   "source": [
    "df = pd.read_sql(\"select * from EBAY_TOP_BERLIN where record_time in (select distinct record_time from EBAY_TOP_BERLIN order by record_time desc limit 2)\", sqlite3.connect(\"UsedObjects.db\"))"
   ]
  },
  {
   "cell_type": "code",
   "execution_count": 5,
   "id": "popular-active",
   "metadata": {
    "execution": {
     "iopub.execute_input": "2021-09-26T00:00:08.858015Z",
     "iopub.status.busy": "2021-09-26T00:00:08.845131Z",
     "iopub.status.idle": "2021-09-26T00:00:08.873752Z",
     "shell.execute_reply": "2021-09-26T00:00:08.875083Z"
    },
    "papermill": {
     "duration": 0.074092,
     "end_time": "2021-09-26T00:00:08.875509",
     "exception": false,
     "start_time": "2021-09-26T00:00:08.801417",
     "status": "completed"
    },
    "tags": []
   },
   "outputs": [],
   "source": [
    "df_pivot = df.pivot_table(index=\"PRODUCT\", columns = \"RECORD_TIME\", values = \"LISTING_COUNT\")"
   ]
  },
  {
   "cell_type": "code",
   "execution_count": 6,
   "id": "union-huntington",
   "metadata": {
    "execution": {
     "iopub.execute_input": "2021-09-26T00:00:08.931015Z",
     "iopub.status.busy": "2021-09-26T00:00:08.928978Z",
     "iopub.status.idle": "2021-09-26T00:00:08.934351Z",
     "shell.execute_reply": "2021-09-26T00:00:08.935600Z"
    },
    "papermill": {
     "duration": 0.040633,
     "end_time": "2021-09-26T00:00:08.936040",
     "exception": false,
     "start_time": "2021-09-26T00:00:08.895407",
     "status": "completed"
    },
    "tags": []
   },
   "outputs": [],
   "source": [
    "df_pivot.columns = [\"stamp_1\", \"stamp_2\"]\n",
    "df_pivot_diff = df_pivot.diff(axis=1)"
   ]
  },
  {
   "cell_type": "code",
   "execution_count": 7,
   "id": "fifth-motion",
   "metadata": {
    "execution": {
     "iopub.execute_input": "2021-09-26T00:00:08.989215Z",
     "iopub.status.busy": "2021-09-26T00:00:08.986869Z",
     "iopub.status.idle": "2021-09-26T00:00:10.478849Z",
     "shell.execute_reply": "2021-09-26T00:00:10.480236Z"
    },
    "papermill": {
     "duration": 1.524376,
     "end_time": "2021-09-26T00:00:10.480683",
     "exception": false,
     "start_time": "2021-09-26T00:00:08.956307",
     "status": "completed"
    },
    "tags": []
   },
   "outputs": [
    {
     "data": {
      "text/plain": [
       "<AxesSubplot:ylabel='PRODUCT'>"
      ]
     },
     "execution_count": 7,
     "metadata": {},
     "output_type": "execute_result"
    },
    {
     "data": {
      "image/png": "[encoded data removed]",
      "text/plain": [
       "<Figure size 432x288 with 1 Axes>"
      ]
     },
     "metadata": {
      "needs_background": "light"
     },
     "output_type": "display_data"
    }
   ],
   "source": [
    "df_pivot_diff.sort_values(\"stamp_2\", ascending = False)[\"stamp_2\"].head(10).plot.barh()"
   ]
  },
  {
   "cell_type": "code",
   "execution_count": null,
   "id": "extra-executive",
   "metadata": {
    "papermill": {
     "duration": 0.02188,
     "end_time": "2021-09-26T00:00:10.526012",
     "exception": false,
     "start_time": "2021-09-26T00:00:10.504132",
     "status": "completed"
    },
    "tags": []
   },
   "outputs": [],
   "source": []
  }
 ],
 "metadata": {
  "kernelspec": {
   "display_name": "Python 3",
   "language": "python",
   "name": "python3"
  },
  "language_info": {
   "codemirror_mode": {
    "name": "ipython",
    "version": 3
   },
   "file_extension": ".py",
   "mimetype": "text/x-python",
   "name": "python",
   "nbconvert_exporter": "python",
   "pygments_lexer": "ipython3",
   "version": "3.9.5"
  },
  "papermill": {
   "default_parameters": {},
   "duration": 6.786492,
   "end_time": "2021-09-26T00:00:11.168507",
   "environment_variables": {},
   "exception": null,
   "input_path": "eBay_Overview.ipynb",
   "output_path": "eBay_Overview.ipynb",
   "parameters": {},
   "start_time": "2021-09-26T00:00:04.382015",
   "version": "2.3.3"
  }
 },
 "nbformat": 4,
 "nbformat_minor": 5
}