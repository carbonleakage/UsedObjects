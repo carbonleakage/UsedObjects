{
 "cells": [
  {
   "cell_type": "code",
   "execution_count": 1,
   "id": "reverse-picking",
   "metadata": {
    "execution": {
     "iopub.execute_input": "2021-12-13T22:30:08.391038Z",
     "iopub.status.busy": "2021-12-13T22:30:08.387895Z",
     "iopub.status.idle": "2021-12-13T22:30:09.342333Z",
     "shell.execute_reply": "2021-12-13T22:30:09.344404Z"
    },
    "papermill": {
     "duration": 1.006134,
     "end_time": "2021-12-13T22:30:09.345177",
     "exception": false,
     "start_time": "2021-12-13T22:30:08.339043",
     "status": "completed"
    },
    "tags": []
   },
   "outputs": [],
   "source": [
    "import pandas as pd\n",
    "import sqlite3"
   ]
  },
  {
   "cell_type": "code",
   "execution_count": 2,
   "id": "innovative-syndrome",
   "metadata": {
    "execution": {
     "iopub.execute_input": "2021-12-13T22:30:09.413010Z",
     "iopub.status.busy": "2021-12-13T22:30:09.410634Z",
     "iopub.status.idle": "2021-12-13T22:30:10.462343Z",
     "shell.execute_reply": "2021-12-13T22:30:10.463549Z"
    },
    "papermill": {
     "duration": 1.085229,
     "end_time": "2021-12-13T22:30:10.463947",
     "exception": false,
     "start_time": "2021-12-13T22:30:09.378718",
     "status": "completed"
    },
    "tags": []
   },
   "outputs": [],
   "source": [
    "timestamps = pd.read_sql(\"select distinct record_time from EBAY_TOP_BERLIN order by record_time desc limit 2\", sqlite3.connect(\"UsedObjects.db\"))"
   ]
  },
  {
   "cell_type": "code",
   "execution_count": 3,
   "id": "periodic-identification",
   "metadata": {
    "execution": {
     "iopub.execute_input": "2021-12-13T22:30:10.529481Z",
     "iopub.status.busy": "2021-12-13T22:30:10.527363Z",
     "iopub.status.idle": "2021-12-13T22:30:10.548034Z",
     "shell.execute_reply": "2021-12-13T22:30:10.549470Z"
    },
    "papermill": {
     "duration": 0.065716,
     "end_time": "2021-12-13T22:30:10.549932",
     "exception": false,
     "start_time": "2021-12-13T22:30:10.484216",
     "status": "completed"
    },
    "tags": []
   },
   "outputs": [
    {
     "data": {
      "text/html": [
       "<div>\n",
       "<style scoped>\n",
       "    .dataframe tbody tr th:only-of-type {\n",
       "        vertical-align: middle;\n",
       "    }\n",
       "\n",
       "    .dataframe tbody tr th {\n",
       "        vertical-align: top;\n",
       "    }\n",
       "\n",
       "    .dataframe thead th {\n",
       "        text-align: right;\n",
       "    }\n",
       "</style>\n",
       "<table border=\"1\" class=\"dataframe\">\n",
       "  <thead>\n",
       "    <tr style=\"text-align: right;\">\n",
       "      <th></th>\n",
       "      <th>RECORD_TIME</th>\n",
       "    </tr>\n",
       "  </thead>\n",
       "  <tbody>\n",
       "    <tr>\n",
       "      <th>0</th>\n",
       "      <td>2021-12-13 23:30</td>\n",
       "    </tr>\n",
       "    <tr>\n",
       "      <th>1</th>\n",
       "      <td>2021-12-13 23:00</td>\n",
       "    </tr>\n",
       "  </tbody>\n",
       "</table>\n",
       "</div>"
      ],
      "text/plain": [
       "        RECORD_TIME\n",
       "0  2021-12-13 23:30\n",
       "1  2021-12-13 23:00"
      ]
     },
     "execution_count": 3,
     "metadata": {},
     "output_type": "execute_result"
    }
   ],
   "source": [
    "timestamps"
   ]
  },
  {
   "cell_type": "code",
   "execution_count": 4,
   "id": "alternate-victory",
   "metadata": {
    "execution": {
     "iopub.execute_input": "2021-12-13T22:30:10.605476Z",
     "iopub.status.busy": "2021-12-13T22:30:10.603082Z",
     "iopub.status.idle": "2021-12-13T22:30:12.132317Z",
     "shell.execute_reply": "2021-12-13T22:30:12.134514Z"
    },
    "papermill": {
     "duration": 1.562492,
     "end_time": "2021-12-13T22:30:12.134987",
     "exception": false,
     "start_time": "2021-12-13T22:30:10.572495",
     "status": "completed"
    },
    "tags": []
   },
   "outputs": [],
   "source": [
    "df = pd.read_sql(\"select * from EBAY_TOP_BERLIN where record_time in (select distinct record_time from EBAY_TOP_BERLIN order by record_time desc limit 2)\", sqlite3.connect(\"UsedObjects.db\"))"
   ]
  },
  {
   "cell_type": "code",
   "execution_count": 5,
   "id": "popular-active",
   "metadata": {
    "execution": {
     "iopub.execute_input": "2021-12-13T22:30:12.214306Z",
     "iopub.status.busy": "2021-12-13T22:30:12.197258Z",
     "iopub.status.idle": "2021-12-13T22:30:12.234717Z",
     "shell.execute_reply": "2021-12-13T22:30:12.236074Z"
    },
    "papermill": {
     "duration": 0.080834,
     "end_time": "2021-12-13T22:30:12.236540",
     "exception": false,
     "start_time": "2021-12-13T22:30:12.155706",
     "status": "completed"
    },
    "tags": []
   },
   "outputs": [],
   "source": [
    "df_pivot = df.pivot_table(index=\"PRODUCT\", columns = \"RECORD_TIME\", values = \"LISTING_COUNT\")"
   ]
  },
  {
   "cell_type": "code",
   "execution_count": 6,
   "id": "union-huntington",
   "metadata": {
    "execution": {
     "iopub.execute_input": "2021-12-13T22:30:12.295613Z",
     "iopub.status.busy": "2021-12-13T22:30:12.293385Z",
     "iopub.status.idle": "2021-12-13T22:30:12.298858Z",
     "shell.execute_reply": "2021-12-13T22:30:12.300191Z"
    },
    "papermill": {
     "duration": 0.043615,
     "end_time": "2021-12-13T22:30:12.300663",
     "exception": false,
     "start_time": "2021-12-13T22:30:12.257048",
     "status": "completed"
    },
    "tags": []
   },
   "outputs": [],
   "source": [
    "df_pivot.columns = [\"stamp_1\", \"stamp_2\"]\n",
    "df_pivot_diff = df_pivot.diff(axis=1)"
   ]
  },
  {
   "cell_type": "code",
   "execution_count": 7,
   "id": "fifth-motion",
   "metadata": {
    "execution": {
     "iopub.execute_input": "2021-12-13T22:30:12.358598Z",
     "iopub.status.busy": "2021-12-13T22:30:12.355640Z",
     "iopub.status.idle": "2021-12-13T22:30:14.392184Z",
     "shell.execute_reply": "2021-12-13T22:30:14.393687Z"
    },
    "papermill": {
     "duration": 2.073343,
     "end_time": "2021-12-13T22:30:14.394145",
     "exception": false,
     "start_time": "2021-12-13T22:30:12.320802",
     "status": "completed"
    },
    "tags": []
   },
   "outputs": [
    {
     "data": {
      "text/plain": [
       "<AxesSubplot:ylabel='PRODUCT'>"
      ]
     },
     "execution_count": 7,
     "metadata": {},
     "output_type": "execute_result"
    },
    {
     "data": {
      "image/png": "[encoded data removed]",
      "text/plain": [
       "<Figure size 432x288 with 1 Axes>"
      ]
     },
     "metadata": {
      "needs_background": "light"
     },
     "output_type": "display_data"
    }
   ],
   "source": [
    "df_pivot_diff.sort_values(\"stamp_2\", ascending = False)[\"stamp_2\"].head(10).plot.barh()"
   ]
  },
  {
   "cell_type": "code",
   "execution_count": null,
   "id": "extra-executive",
   "metadata": {
    "papermill": {
     "duration": 0.027384,
     "end_time": "2021-12-13T22:30:14.453557",
     "exception": false,
     "start_time": "2021-12-13T22:30:14.426173",
     "status": "completed"
    },
    "tags": []
   },
   "outputs": [],
   "source": []
  }
 ],
 "metadata": {
  "kernelspec": {
   "display_name": "Python 3",
   "language": "python",
   "name": "python3"
  },
  "language_info": {
   "codemirror_mode": {
    "name": "ipython",
    "version": 3
   },
   "file_extension": ".py",
   "mimetype": "text/x-python",
   "name": "python",
   "nbconvert_exporter": "python",
   "pygments_lexer": "ipython3",
   "version": "3.9.5"
  },
  "papermill": {
   "default_parameters": {},
   "duration": 9.491767,
   "end_time": "2021-12-13T22:30:15.102639",
   "environment_variables": {},
   "exception": null,
   "input_path": "eBay_Overview.ipynb",
   "output_path": "eBay_Overview.ipynb",
   "parameters": {},
   "start_time": "2021-12-13T22:30:05.610872",
   "version": "2.3.3"
  }
 },
 "nbformat": 4,
 "nbformat_minor": 5
}