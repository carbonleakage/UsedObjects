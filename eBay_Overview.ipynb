{
 "cells": [
  {
   "cell_type": "code",
   "execution_count": 1,
   "id": "reverse-picking",
   "metadata": {
    "execution": {
     "iopub.execute_input": "2021-11-17T13:30:08.038184Z",
     "iopub.status.busy": "2021-11-17T13:30:08.034508Z",
     "iopub.status.idle": "2021-11-17T13:30:08.980972Z",
     "shell.execute_reply": "2021-11-17T13:30:08.982522Z"
    },
    "papermill": {
     "duration": 1.002985,
     "end_time": "2021-11-17T13:30:08.983243",
     "exception": false,
     "start_time": "2021-11-17T13:30:07.980258",
     "status": "completed"
    },
    "tags": []
   },
   "outputs": [],
   "source": [
    "import pandas as pd\n",
    "import sqlite3"
   ]
  },
  {
   "cell_type": "code",
   "execution_count": 2,
   "id": "innovative-syndrome",
   "metadata": {
    "execution": {
     "iopub.execute_input": "2021-11-17T13:30:09.042235Z",
     "iopub.status.busy": "2021-11-17T13:30:09.039967Z",
     "iopub.status.idle": "2021-11-17T13:30:09.883750Z",
     "shell.execute_reply": "2021-11-17T13:30:09.886113Z"
    },
    "papermill": {
     "duration": 0.88085,
     "end_time": "2021-11-17T13:30:09.886612",
     "exception": false,
     "start_time": "2021-11-17T13:30:09.005762",
     "status": "completed"
    },
    "tags": []
   },
   "outputs": [],
   "source": [
    "timestamps = pd.read_sql(\"select distinct record_time from EBAY_TOP_BERLIN order by record_time desc limit 2\", sqlite3.connect(\"UsedObjects.db\"))"
   ]
  },
  {
   "cell_type": "code",
   "execution_count": 3,
   "id": "periodic-identification",
   "metadata": {
    "execution": {
     "iopub.execute_input": "2021-11-17T13:30:09.957933Z",
     "iopub.status.busy": "2021-11-17T13:30:09.955600Z",
     "iopub.status.idle": "2021-11-17T13:30:09.978099Z",
     "shell.execute_reply": "2021-11-17T13:30:09.979551Z"
    },
    "papermill": {
     "duration": 0.072748,
     "end_time": "2021-11-17T13:30:09.980058",
     "exception": false,
     "start_time": "2021-11-17T13:30:09.907310",
     "status": "completed"
    },
    "tags": []
   },
   "outputs": [
    {
     "data": {
      "text/html": [
       "<div>\n",
       "<style scoped>\n",
       "    .dataframe tbody tr th:only-of-type {\n",
       "        vertical-align: middle;\n",
       "    }\n",
       "\n",
       "    .dataframe tbody tr th {\n",
       "        vertical-align: top;\n",
       "    }\n",
       "\n",
       "    .dataframe thead th {\n",
       "        text-align: right;\n",
       "    }\n",
       "</style>\n",
       "<table border=\"1\" class=\"dataframe\">\n",
       "  <thead>\n",
       "    <tr style=\"text-align: right;\">\n",
       "      <th></th>\n",
       "      <th>RECORD_TIME</th>\n",
       "    </tr>\n",
       "  </thead>\n",
       "  <tbody>\n",
       "    <tr>\n",
       "      <th>0</th>\n",
       "      <td>2021-11-17 14:30</td>\n",
       "    </tr>\n",
       "    <tr>\n",
       "      <th>1</th>\n",
       "      <td>2021-11-17 14:00</td>\n",
       "    </tr>\n",
       "  </tbody>\n",
       "</table>\n",
       "</div>"
      ],
      "text/plain": [
       "        RECORD_TIME\n",
       "0  2021-11-17 14:30\n",
       "1  2021-11-17 14:00"
      ]
     },
     "execution_count": 3,
     "metadata": {},
     "output_type": "execute_result"
    }
   ],
   "source": [
    "timestamps"
   ]
  },
  {
   "cell_type": "code",
   "execution_count": 4,
   "id": "alternate-victory",
   "metadata": {
    "execution": {
     "iopub.execute_input": "2021-11-17T13:30:10.037071Z",
     "iopub.status.busy": "2021-11-17T13:30:10.034820Z",
     "iopub.status.idle": "2021-11-17T13:30:11.297835Z",
     "shell.execute_reply": "2021-11-17T13:30:11.299237Z"
    },
    "papermill": {
     "duration": 1.296883,
     "end_time": "2021-11-17T13:30:11.299683",
     "exception": false,
     "start_time": "2021-11-17T13:30:10.002800",
     "status": "completed"
    },
    "tags": []
   },
   "outputs": [],
   "source": [
    "df = pd.read_sql(\"select * from EBAY_TOP_BERLIN where record_time in (select distinct record_time from EBAY_TOP_BERLIN order by record_time desc limit 2)\", sqlite3.connect(\"UsedObjects.db\"))"
   ]
  },
  {
   "cell_type": "code",
   "execution_count": 5,
   "id": "popular-active",
   "metadata": {
    "execution": {
     "iopub.execute_input": "2021-11-17T13:30:11.370645Z",
     "iopub.status.busy": "2021-11-17T13:30:11.358689Z",
     "iopub.status.idle": "2021-11-17T13:30:11.386909Z",
     "shell.execute_reply": "2021-11-17T13:30:11.388111Z"
    },
    "papermill": {
     "duration": 0.067579,
     "end_time": "2021-11-17T13:30:11.388503",
     "exception": false,
     "start_time": "2021-11-17T13:30:11.320924",
     "status": "completed"
    },
    "tags": []
   },
   "outputs": [],
   "source": [
    "df_pivot = df.pivot_table(index=\"PRODUCT\", columns = \"RECORD_TIME\", values = \"LISTING_COUNT\")"
   ]
  },
  {
   "cell_type": "code",
   "execution_count": 6,
   "id": "union-huntington",
   "metadata": {
    "execution": {
     "iopub.execute_input": "2021-11-17T13:30:11.450294Z",
     "iopub.status.busy": "2021-11-17T13:30:11.448071Z",
     "iopub.status.idle": "2021-11-17T13:30:11.453231Z",
     "shell.execute_reply": "2021-11-17T13:30:11.454704Z"
    },
    "papermill": {
     "duration": 0.044008,
     "end_time": "2021-11-17T13:30:11.455164",
     "exception": false,
     "start_time": "2021-11-17T13:30:11.411156",
     "status": "completed"
    },
    "tags": []
   },
   "outputs": [],
   "source": [
    "df_pivot.columns = [\"stamp_1\", \"stamp_2\"]\n",
    "df_pivot_diff = df_pivot.diff(axis=1)"
   ]
  },
  {
   "cell_type": "code",
   "execution_count": 7,
   "id": "fifth-motion",
   "metadata": {
    "execution": {
     "iopub.execute_input": "2021-11-17T13:30:11.513395Z",
     "iopub.status.busy": "2021-11-17T13:30:11.510831Z",
     "iopub.status.idle": "2021-11-17T13:30:13.243542Z",
     "shell.execute_reply": "2021-11-17T13:30:13.245011Z"
    },
    "papermill": {
     "duration": 1.769493,
     "end_time": "2021-11-17T13:30:13.245512",
     "exception": false,
     "start_time": "2021-11-17T13:30:11.476019",
     "status": "completed"
    },
    "tags": []
   },
   "outputs": [
    {
     "data": {
      "text/plain": [
       "<AxesSubplot:ylabel='PRODUCT'>"
      ]
     },
     "execution_count": 7,
     "metadata": {},
     "output_type": "execute_result"
    },
    {
     "data": {
      "image/png": "[encoded data removed]",
      "text/plain": [
       "<Figure size 432x288 with 1 Axes>"
      ]
     },
     "metadata": {
      "needs_background": "light"
     },
     "output_type": "display_data"
    }
   ],
   "source": [
    "df_pivot_diff.sort_values(\"stamp_2\", ascending = False)[\"stamp_2\"].head(10).plot.barh()"
   ]
  },
  {
   "cell_type": "code",
   "execution_count": null,
   "id": "extra-executive",
   "metadata": {
    "papermill": {
     "duration": 0.023588,
     "end_time": "2021-11-17T13:30:13.296081",
     "exception": false,
     "start_time": "2021-11-17T13:30:13.272493",
     "status": "completed"
    },
    "tags": []
   },
   "outputs": [],
   "source": []
  }
 ],
 "metadata": {
  "kernelspec": {
   "display_name": "Python 3",
   "language": "python",
   "name": "python3"
  },
  "language_info": {
   "codemirror_mode": {
    "name": "ipython",
    "version": 3
   },
   "file_extension": ".py",
   "mimetype": "text/x-python",
   "name": "python",
   "nbconvert_exporter": "python",
   "pygments_lexer": "ipython3",
   "version": "3.9.5"
  },
  "papermill": {
   "default_parameters": {},
   "duration": 8.825826,
   "end_time": "2021-11-17T13:30:14.041085",
   "environment_variables": {},
   "exception": null,
   "input_path": "eBay_Overview.ipynb",
   "output_path": "eBay_Overview.ipynb",
   "parameters": {},
   "start_time": "2021-11-17T13:30:05.215259",
   "version": "2.3.3"
  }
 },
 "nbformat": 4,
 "nbformat_minor": 5
}