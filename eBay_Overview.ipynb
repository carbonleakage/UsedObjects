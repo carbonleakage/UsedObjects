{
 "cells": [
  {
   "cell_type": "code",
   "execution_count": 1,
   "id": "reverse-picking",
   "metadata": {
    "execution": {
     "iopub.execute_input": "2021-10-11T20:30:07.583608Z",
     "iopub.status.busy": "2021-10-11T20:30:07.581679Z",
     "iopub.status.idle": "2021-10-11T20:30:08.386332Z",
     "shell.execute_reply": "2021-10-11T20:30:08.384659Z"
    },
    "papermill": {
     "duration": 0.853036,
     "end_time": "2021-10-11T20:30:08.386739",
     "exception": false,
     "start_time": "2021-10-11T20:30:07.533703",
     "status": "completed"
    },
    "tags": []
   },
   "outputs": [],
   "source": [
    "import pandas as pd\n",
    "import sqlite3"
   ]
  },
  {
   "cell_type": "code",
   "execution_count": 2,
   "id": "innovative-syndrome",
   "metadata": {
    "execution": {
     "iopub.execute_input": "2021-10-11T20:30:08.437402Z",
     "iopub.status.busy": "2021-10-11T20:30:08.435445Z",
     "iopub.status.idle": "2021-10-11T20:30:08.951185Z",
     "shell.execute_reply": "2021-10-11T20:30:08.952288Z"
    },
    "papermill": {
     "duration": 0.545562,
     "end_time": "2021-10-11T20:30:08.952865",
     "exception": false,
     "start_time": "2021-10-11T20:30:08.407303",
     "status": "completed"
    },
    "tags": []
   },
   "outputs": [],
   "source": [
    "timestamps = pd.read_sql(\"select distinct record_time from EBAY_TOP_BERLIN order by record_time desc limit 2\", sqlite3.connect(\"UsedObjects.db\"))"
   ]
  },
  {
   "cell_type": "code",
   "execution_count": 3,
   "id": "periodic-identification",
   "metadata": {
    "execution": {
     "iopub.execute_input": "2021-10-11T20:30:09.020109Z",
     "iopub.status.busy": "2021-10-11T20:30:09.018090Z",
     "iopub.status.idle": "2021-10-11T20:30:09.037987Z",
     "shell.execute_reply": "2021-10-11T20:30:09.039477Z"
    },
    "papermill": {
     "duration": 0.06527,
     "end_time": "2021-10-11T20:30:09.039986",
     "exception": false,
     "start_time": "2021-10-11T20:30:08.974716",
     "status": "completed"
    },
    "tags": []
   },
   "outputs": [
    {
     "data": {
      "text/html": [
       "<div>\n",
       "<style scoped>\n",
       "    .dataframe tbody tr th:only-of-type {\n",
       "        vertical-align: middle;\n",
       "    }\n",
       "\n",
       "    .dataframe tbody tr th {\n",
       "        vertical-align: top;\n",
       "    }\n",
       "\n",
       "    .dataframe thead th {\n",
       "        text-align: right;\n",
       "    }\n",
       "</style>\n",
       "<table border=\"1\" class=\"dataframe\">\n",
       "  <thead>\n",
       "    <tr style=\"text-align: right;\">\n",
       "      <th></th>\n",
       "      <th>RECORD_TIME</th>\n",
       "    </tr>\n",
       "  </thead>\n",
       "  <tbody>\n",
       "    <tr>\n",
       "      <th>0</th>\n",
       "      <td>2021-10-11 22:30</td>\n",
       "    </tr>\n",
       "    <tr>\n",
       "      <th>1</th>\n",
       "      <td>2021-10-11 22:00</td>\n",
       "    </tr>\n",
       "  </tbody>\n",
       "</table>\n",
       "</div>"
      ],
      "text/plain": [
       "        RECORD_TIME\n",
       "0  2021-10-11 22:30\n",
       "1  2021-10-11 22:00"
      ]
     },
     "execution_count": 3,
     "metadata": {},
     "output_type": "execute_result"
    }
   ],
   "source": [
    "timestamps"
   ]
  },
  {
   "cell_type": "code",
   "execution_count": 4,
   "id": "alternate-victory",
   "metadata": {
    "execution": {
     "iopub.execute_input": "2021-10-11T20:30:09.104249Z",
     "iopub.status.busy": "2021-10-11T20:30:09.102205Z",
     "iopub.status.idle": "2021-10-11T20:30:09.878711Z",
     "shell.execute_reply": "2021-10-11T20:30:09.879994Z"
    },
    "papermill": {
     "duration": 0.812377,
     "end_time": "2021-10-11T20:30:09.880410",
     "exception": false,
     "start_time": "2021-10-11T20:30:09.068033",
     "status": "completed"
    },
    "tags": []
   },
   "outputs": [],
   "source": [
    "df = pd.read_sql(\"select * from EBAY_TOP_BERLIN where record_time in (select distinct record_time from EBAY_TOP_BERLIN order by record_time desc limit 2)\", sqlite3.connect(\"UsedObjects.db\"))"
   ]
  },
  {
   "cell_type": "code",
   "execution_count": 5,
   "id": "popular-active",
   "metadata": {
    "execution": {
     "iopub.execute_input": "2021-10-11T20:30:09.949770Z",
     "iopub.status.busy": "2021-10-11T20:30:09.937745Z",
     "iopub.status.idle": "2021-10-11T20:30:09.966146Z",
     "shell.execute_reply": "2021-10-11T20:30:09.967462Z"
    },
    "papermill": {
     "duration": 0.067518,
     "end_time": "2021-10-11T20:30:09.967881",
     "exception": false,
     "start_time": "2021-10-11T20:30:09.900363",
     "status": "completed"
    },
    "tags": []
   },
   "outputs": [],
   "source": [
    "df_pivot = df.pivot_table(index=\"PRODUCT\", columns = \"RECORD_TIME\", values = \"LISTING_COUNT\")"
   ]
  },
  {
   "cell_type": "code",
   "execution_count": 6,
   "id": "union-huntington",
   "metadata": {
    "execution": {
     "iopub.execute_input": "2021-10-11T20:30:10.025466Z",
     "iopub.status.busy": "2021-10-11T20:30:10.023325Z",
     "iopub.status.idle": "2021-10-11T20:30:10.028572Z",
     "shell.execute_reply": "2021-10-11T20:30:10.029925Z"
    },
    "papermill": {
     "duration": 0.04266,
     "end_time": "2021-10-11T20:30:10.030375",
     "exception": false,
     "start_time": "2021-10-11T20:30:09.987715",
     "status": "completed"
    },
    "tags": []
   },
   "outputs": [],
   "source": [
    "df_pivot.columns = [\"stamp_1\", \"stamp_2\"]\n",
    "df_pivot_diff = df_pivot.diff(axis=1)"
   ]
  },
  {
   "cell_type": "code",
   "execution_count": 7,
   "id": "fifth-motion",
   "metadata": {
    "execution": {
     "iopub.execute_input": "2021-10-11T20:30:10.084007Z",
     "iopub.status.busy": "2021-10-11T20:30:10.081599Z",
     "iopub.status.idle": "2021-10-11T20:30:11.534653Z",
     "shell.execute_reply": "2021-10-11T20:30:11.535947Z"
    },
    "papermill": {
     "duration": 1.486287,
     "end_time": "2021-10-11T20:30:11.536359",
     "exception": false,
     "start_time": "2021-10-11T20:30:10.050072",
     "status": "completed"
    },
    "tags": []
   },
   "outputs": [
    {
     "data": {
      "text/plain": [
       "<AxesSubplot:ylabel='PRODUCT'>"
      ]
     },
     "execution_count": 7,
     "metadata": {},
     "output_type": "execute_result"
    },
    {
     "data": {
      "image/png": "[encoded data removed]",
      "text/plain": [
       "<Figure size 432x288 with 1 Axes>"
      ]
     },
     "metadata": {
      "needs_background": "light"
     },
     "output_type": "display_data"
    }
   ],
   "source": [
    "df_pivot_diff.sort_values(\"stamp_2\", ascending = False)[\"stamp_2\"].head(10).plot.barh()"
   ]
  },
  {
   "cell_type": "code",
   "execution_count": null,
   "id": "extra-executive",
   "metadata": {
    "papermill": {
     "duration": 0.02223,
     "end_time": "2021-10-11T20:30:11.584871",
     "exception": false,
     "start_time": "2021-10-11T20:30:11.562641",
     "status": "completed"
    },
    "tags": []
   },
   "outputs": [],
   "source": []
  }
 ],
 "metadata": {
  "kernelspec": {
   "display_name": "Python 3",
   "language": "python",
   "name": "python3"
  },
  "language_info": {
   "codemirror_mode": {
    "name": "ipython",
    "version": 3
   },
   "file_extension": ".py",
   "mimetype": "text/x-python",
   "name": "python",
   "nbconvert_exporter": "python",
   "pygments_lexer": "ipython3",
   "version": "3.9.5"
  },
  "papermill": {
   "default_parameters": {},
   "duration": 7.82206,
   "end_time": "2021-10-11T20:30:12.954887",
   "environment_variables": {},
   "exception": null,
   "input_path": "eBay_Overview.ipynb",
   "output_path": "eBay_Overview.ipynb",
   "parameters": {},
   "start_time": "2021-10-11T20:30:05.132827",
   "version": "2.3.3"
  }
 },
 "nbformat": 4,
 "nbformat_minor": 5
}