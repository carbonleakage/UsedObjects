{
 "cells": [
  {
   "cell_type": "code",
   "execution_count": 1,
   "id": "reverse-picking",
   "metadata": {
    "execution": {
     "iopub.execute_input": "2021-09-29T22:30:07.415138Z",
     "iopub.status.busy": "2021-09-29T22:30:07.413156Z",
     "iopub.status.idle": "2021-09-29T22:30:08.221962Z",
     "shell.execute_reply": "2021-09-29T22:30:08.223413Z"
    },
    "papermill": {
     "duration": 0.859454,
     "end_time": "2021-09-29T22:30:08.224058",
     "exception": false,
     "start_time": "2021-09-29T22:30:07.364604",
     "status": "completed"
    },
    "tags": []
   },
   "outputs": [],
   "source": [
    "import pandas as pd\n",
    "import sqlite3"
   ]
  },
  {
   "cell_type": "code",
   "execution_count": 2,
   "id": "innovative-syndrome",
   "metadata": {
    "execution": {
     "iopub.execute_input": "2021-09-29T22:30:08.276047Z",
     "iopub.status.busy": "2021-09-29T22:30:08.273686Z",
     "iopub.status.idle": "2021-09-29T22:30:08.683044Z",
     "shell.execute_reply": "2021-09-29T22:30:08.684259Z"
    },
    "papermill": {
     "duration": 0.439198,
     "end_time": "2021-09-29T22:30:08.684653",
     "exception": false,
     "start_time": "2021-09-29T22:30:08.245455",
     "status": "completed"
    },
    "tags": []
   },
   "outputs": [],
   "source": [
    "timestamps = pd.read_sql(\"select distinct record_time from EBAY_TOP_BERLIN order by record_time desc limit 2\", sqlite3.connect(\"UsedObjects.db\"))"
   ]
  },
  {
   "cell_type": "code",
   "execution_count": 3,
   "id": "periodic-identification",
   "metadata": {
    "execution": {
     "iopub.execute_input": "2021-09-29T22:30:08.749872Z",
     "iopub.status.busy": "2021-09-29T22:30:08.747868Z",
     "iopub.status.idle": "2021-09-29T22:30:08.767663Z",
     "shell.execute_reply": "2021-09-29T22:30:08.768964Z"
    },
    "papermill": {
     "duration": 0.064181,
     "end_time": "2021-09-29T22:30:08.769373",
     "exception": false,
     "start_time": "2021-09-29T22:30:08.705192",
     "status": "completed"
    },
    "tags": []
   },
   "outputs": [
    {
     "data": {
      "text/html": [
       "<div>\n",
       "<style scoped>\n",
       "    .dataframe tbody tr th:only-of-type {\n",
       "        vertical-align: middle;\n",
       "    }\n",
       "\n",
       "    .dataframe tbody tr th {\n",
       "        vertical-align: top;\n",
       "    }\n",
       "\n",
       "    .dataframe thead th {\n",
       "        text-align: right;\n",
       "    }\n",
       "</style>\n",
       "<table border=\"1\" class=\"dataframe\">\n",
       "  <thead>\n",
       "    <tr style=\"text-align: right;\">\n",
       "      <th></th>\n",
       "      <th>RECORD_TIME</th>\n",
       "    </tr>\n",
       "  </thead>\n",
       "  <tbody>\n",
       "    <tr>\n",
       "      <th>0</th>\n",
       "      <td>2021-09-30 00:30</td>\n",
       "    </tr>\n",
       "    <tr>\n",
       "      <th>1</th>\n",
       "      <td>2021-09-30 00:00</td>\n",
       "    </tr>\n",
       "  </tbody>\n",
       "</table>\n",
       "</div>"
      ],
      "text/plain": [
       "        RECORD_TIME\n",
       "0  2021-09-30 00:30\n",
       "1  2021-09-30 00:00"
      ]
     },
     "execution_count": 3,
     "metadata": {},
     "output_type": "execute_result"
    }
   ],
   "source": [
    "timestamps"
   ]
  },
  {
   "cell_type": "code",
   "execution_count": 4,
   "id": "alternate-victory",
   "metadata": {
    "execution": {
     "iopub.execute_input": "2021-09-29T22:30:08.822028Z",
     "iopub.status.busy": "2021-09-29T22:30:08.819749Z",
     "iopub.status.idle": "2021-09-29T22:30:09.429359Z",
     "shell.execute_reply": "2021-09-29T22:30:09.430557Z"
    },
    "papermill": {
     "duration": 0.640037,
     "end_time": "2021-09-29T22:30:09.431151",
     "exception": false,
     "start_time": "2021-09-29T22:30:08.791114",
     "status": "completed"
    },
    "tags": []
   },
   "outputs": [],
   "source": [
    "df = pd.read_sql(\"select * from EBAY_TOP_BERLIN where record_time in (select distinct record_time from EBAY_TOP_BERLIN order by record_time desc limit 2)\", sqlite3.connect(\"UsedObjects.db\"))"
   ]
  },
  {
   "cell_type": "code",
   "execution_count": 5,
   "id": "popular-active",
   "metadata": {
    "execution": {
     "iopub.execute_input": "2021-09-29T22:30:09.525233Z",
     "iopub.status.busy": "2021-09-29T22:30:09.513575Z",
     "iopub.status.idle": "2021-09-29T22:30:09.541640Z",
     "shell.execute_reply": "2021-09-29T22:30:09.542888Z"
    },
    "papermill": {
     "duration": 0.073916,
     "end_time": "2021-09-29T22:30:09.543283",
     "exception": false,
     "start_time": "2021-09-29T22:30:09.469367",
     "status": "completed"
    },
    "tags": []
   },
   "outputs": [],
   "source": [
    "df_pivot = df.pivot_table(index=\"PRODUCT\", columns = \"RECORD_TIME\", values = \"LISTING_COUNT\")"
   ]
  },
  {
   "cell_type": "code",
   "execution_count": 6,
   "id": "union-huntington",
   "metadata": {
    "execution": {
     "iopub.execute_input": "2021-09-29T22:30:09.598898Z",
     "iopub.status.busy": "2021-09-29T22:30:09.596859Z",
     "iopub.status.idle": "2021-09-29T22:30:09.602122Z",
     "shell.execute_reply": "2021-09-29T22:30:09.603673Z"
    },
    "papermill": {
     "duration": 0.040233,
     "end_time": "2021-09-29T22:30:09.604140",
     "exception": false,
     "start_time": "2021-09-29T22:30:09.563907",
     "status": "completed"
    },
    "tags": []
   },
   "outputs": [],
   "source": [
    "df_pivot.columns = [\"stamp_1\", \"stamp_2\"]\n",
    "df_pivot_diff = df_pivot.diff(axis=1)"
   ]
  },
  {
   "cell_type": "code",
   "execution_count": 7,
   "id": "fifth-motion",
   "metadata": {
    "execution": {
     "iopub.execute_input": "2021-09-29T22:30:09.659534Z",
     "iopub.status.busy": "2021-09-29T22:30:09.656851Z",
     "iopub.status.idle": "2021-09-29T22:30:11.156972Z",
     "shell.execute_reply": "2021-09-29T22:30:11.158247Z"
    },
    "papermill": {
     "duration": 1.53367,
     "end_time": "2021-09-29T22:30:11.158658",
     "exception": false,
     "start_time": "2021-09-29T22:30:09.624988",
     "status": "completed"
    },
    "tags": []
   },
   "outputs": [
    {
     "data": {
      "text/plain": [
       "<AxesSubplot:ylabel='PRODUCT'>"
      ]
     },
     "execution_count": 7,
     "metadata": {},
     "output_type": "execute_result"
    },
    {
     "data": {
      "image/png": "[encoded data removed]",
      "text/plain": [
       "<Figure size 432x288 with 1 Axes>"
      ]
     },
     "metadata": {
      "needs_background": "light"
     },
     "output_type": "display_data"
    }
   ],
   "source": [
    "df_pivot_diff.sort_values(\"stamp_2\", ascending = False)[\"stamp_2\"].head(10).plot.barh()"
   ]
  },
  {
   "cell_type": "code",
   "execution_count": null,
   "id": "extra-executive",
   "metadata": {
    "papermill": {
     "duration": 0.022071,
     "end_time": "2021-09-29T22:30:11.205298",
     "exception": false,
     "start_time": "2021-09-29T22:30:11.183227",
     "status": "completed"
    },
    "tags": []
   },
   "outputs": [],
   "source": []
  }
 ],
 "metadata": {
  "kernelspec": {
   "display_name": "Python 3",
   "language": "python",
   "name": "python3"
  },
  "language_info": {
   "codemirror_mode": {
    "name": "ipython",
    "version": 3
   },
   "file_extension": ".py",
   "mimetype": "text/x-python",
   "name": "python",
   "nbconvert_exporter": "python",
   "pygments_lexer": "ipython3",
   "version": "3.9.5"
  },
  "papermill": {
   "default_parameters": {},
   "duration": 7.836529,
   "end_time": "2021-09-29T22:30:12.792773",
   "environment_variables": {},
   "exception": null,
   "input_path": "eBay_Overview.ipynb",
   "output_path": "eBay_Overview.ipynb",
   "parameters": {},
   "start_time": "2021-09-29T22:30:04.956244",
   "version": "2.3.3"
  }
 },
 "nbformat": 4,
 "nbformat_minor": 5
}