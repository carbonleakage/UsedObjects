{
 "cells": [
  {
   "cell_type": "code",
   "execution_count": 1,
   "id": "reverse-picking",
   "metadata": {
    "execution": {
     "iopub.execute_input": "2021-08-16T07:30:06.820157Z",
     "iopub.status.busy": "2021-08-16T07:30:06.818197Z",
     "iopub.status.idle": "2021-08-16T07:30:07.628678Z",
     "shell.execute_reply": "2021-08-16T07:30:07.627132Z"
    },
    "papermill": {
     "duration": 0.860824,
     "end_time": "2021-08-16T07:30:07.629068",
     "exception": false,
     "start_time": "2021-08-16T07:30:06.768244",
     "status": "completed"
    },
    "tags": []
   },
   "outputs": [],
   "source": [
    "import pandas as pd\n",
    "import sqlite3"
   ]
  },
  {
   "cell_type": "code",
   "execution_count": 2,
   "id": "innovative-syndrome",
   "metadata": {
    "execution": {
     "iopub.execute_input": "2021-08-16T07:30:07.681410Z",
     "iopub.status.busy": "2021-08-16T07:30:07.679110Z",
     "iopub.status.idle": "2021-08-16T07:30:07.740883Z",
     "shell.execute_reply": "2021-08-16T07:30:07.742260Z"
    },
    "papermill": {
     "duration": 0.091516,
     "end_time": "2021-08-16T07:30:07.742700",
     "exception": false,
     "start_time": "2021-08-16T07:30:07.651184",
     "status": "completed"
    },
    "tags": []
   },
   "outputs": [],
   "source": [
    "timestamps = pd.read_sql(\"select distinct record_time from EBAY_TOP_BERLIN order by record_time desc limit 2\", sqlite3.connect(\"UsedObjects.db\"))"
   ]
  },
  {
   "cell_type": "code",
   "execution_count": 3,
   "id": "periodic-identification",
   "metadata": {
    "execution": {
     "iopub.execute_input": "2021-08-16T07:30:07.809032Z",
     "iopub.status.busy": "2021-08-16T07:30:07.807020Z",
     "iopub.status.idle": "2021-08-16T07:30:07.828876Z",
     "shell.execute_reply": "2021-08-16T07:30:07.830159Z"
    },
    "papermill": {
     "duration": 0.0687,
     "end_time": "2021-08-16T07:30:07.830608",
     "exception": false,
     "start_time": "2021-08-16T07:30:07.761908",
     "status": "completed"
    },
    "tags": []
   },
   "outputs": [
    {
     "data": {
      "text/html": [
       "<div>\n",
       "<style scoped>\n",
       "    .dataframe tbody tr th:only-of-type {\n",
       "        vertical-align: middle;\n",
       "    }\n",
       "\n",
       "    .dataframe tbody tr th {\n",
       "        vertical-align: top;\n",
       "    }\n",
       "\n",
       "    .dataframe thead th {\n",
       "        text-align: right;\n",
       "    }\n",
       "</style>\n",
       "<table border=\"1\" class=\"dataframe\">\n",
       "  <thead>\n",
       "    <tr style=\"text-align: right;\">\n",
       "      <th></th>\n",
       "      <th>RECORD_TIME</th>\n",
       "    </tr>\n",
       "  </thead>\n",
       "  <tbody>\n",
       "    <tr>\n",
       "      <th>0</th>\n",
       "      <td>2021-08-16 09:30</td>\n",
       "    </tr>\n",
       "    <tr>\n",
       "      <th>1</th>\n",
       "      <td>2021-08-16 09:00</td>\n",
       "    </tr>\n",
       "  </tbody>\n",
       "</table>\n",
       "</div>"
      ],
      "text/plain": [
       "        RECORD_TIME\n",
       "0  2021-08-16 09:30\n",
       "1  2021-08-16 09:00"
      ]
     },
     "execution_count": 3,
     "metadata": {},
     "output_type": "execute_result"
    }
   ],
   "source": [
    "timestamps"
   ]
  },
  {
   "cell_type": "code",
   "execution_count": 4,
   "id": "alternate-victory",
   "metadata": {
    "execution": {
     "iopub.execute_input": "2021-08-16T07:30:07.883108Z",
     "iopub.status.busy": "2021-08-16T07:30:07.881132Z",
     "iopub.status.idle": "2021-08-16T07:30:07.971361Z",
     "shell.execute_reply": "2021-08-16T07:30:07.972542Z"
    },
    "papermill": {
     "duration": 0.119857,
     "end_time": "2021-08-16T07:30:07.972931",
     "exception": false,
     "start_time": "2021-08-16T07:30:07.853074",
     "status": "completed"
    },
    "tags": []
   },
   "outputs": [],
   "source": [
    "df = pd.read_sql(\"select * from EBAY_TOP_BERLIN where record_time in (select distinct record_time from EBAY_TOP_BERLIN order by record_time desc limit 2)\", sqlite3.connect(\"UsedObjects.db\"))"
   ]
  },
  {
   "cell_type": "code",
   "execution_count": 5,
   "id": "popular-active",
   "metadata": {
    "execution": {
     "iopub.execute_input": "2021-08-16T07:30:08.043713Z",
     "iopub.status.busy": "2021-08-16T07:30:08.032052Z",
     "iopub.status.idle": "2021-08-16T07:30:08.061279Z",
     "shell.execute_reply": "2021-08-16T07:30:08.059903Z"
    },
    "papermill": {
     "duration": 0.067799,
     "end_time": "2021-08-16T07:30:08.061628",
     "exception": false,
     "start_time": "2021-08-16T07:30:07.993829",
     "status": "completed"
    },
    "tags": []
   },
   "outputs": [],
   "source": [
    "df_pivot = df.pivot_table(index=\"PRODUCT\", columns = \"RECORD_TIME\", values = \"LISTING_COUNT\")"
   ]
  },
  {
   "cell_type": "code",
   "execution_count": 6,
   "id": "union-huntington",
   "metadata": {
    "execution": {
     "iopub.execute_input": "2021-08-16T07:30:08.117765Z",
     "iopub.status.busy": "2021-08-16T07:30:08.115503Z",
     "iopub.status.idle": "2021-08-16T07:30:08.121402Z",
     "shell.execute_reply": "2021-08-16T07:30:08.122829Z"
    },
    "papermill": {
     "duration": 0.041856,
     "end_time": "2021-08-16T07:30:08.123269",
     "exception": false,
     "start_time": "2021-08-16T07:30:08.081413",
     "status": "completed"
    },
    "tags": []
   },
   "outputs": [],
   "source": [
    "df_pivot.columns = [\"stamp_1\", \"stamp_2\"]\n",
    "df_pivot_diff = df_pivot.diff(axis=1)"
   ]
  },
  {
   "cell_type": "code",
   "execution_count": 7,
   "id": "fifth-motion",
   "metadata": {
    "execution": {
     "iopub.execute_input": "2021-08-16T07:30:08.177685Z",
     "iopub.status.busy": "2021-08-16T07:30:08.174799Z",
     "iopub.status.idle": "2021-08-16T07:30:09.670592Z",
     "shell.execute_reply": "2021-08-16T07:30:09.671965Z"
    },
    "papermill": {
     "duration": 1.528666,
     "end_time": "2021-08-16T07:30:09.672402",
     "exception": false,
     "start_time": "2021-08-16T07:30:08.143736",
     "status": "completed"
    },
    "tags": []
   },
   "outputs": [
    {
     "data": {
      "text/plain": [
       "<AxesSubplot:ylabel='PRODUCT'>"
      ]
     },
     "execution_count": 7,
     "metadata": {},
     "output_type": "execute_result"
    },
    {
     "data": {
      "image/png": "[encoded data removed]",
      "text/plain": [
       "<Figure size 432x288 with 1 Axes>"
      ]
     },
     "metadata": {
      "needs_background": "light"
     },
     "output_type": "display_data"
    }
   ],
   "source": [
    "df_pivot_diff.sort_values(\"stamp_2\", ascending = False)[\"stamp_2\"].head(10).plot.barh()"
   ]
  },
  {
   "cell_type": "code",
   "execution_count": null,
   "id": "extra-executive",
   "metadata": {
    "papermill": {
     "duration": 0.021854,
     "end_time": "2021-08-16T07:30:09.717473",
     "exception": false,
     "start_time": "2021-08-16T07:30:09.695619",
     "status": "completed"
    },
    "tags": []
   },
   "outputs": [],
   "source": []
  }
 ],
 "metadata": {
  "kernelspec": {
   "display_name": "Python 3",
   "language": "python",
   "name": "python3"
  },
  "language_info": {
   "codemirror_mode": {
    "name": "ipython",
    "version": 3
   },
   "file_extension": ".py",
   "mimetype": "text/x-python",
   "name": "python",
   "nbconvert_exporter": "python",
   "pygments_lexer": "ipython3",
   "version": "3.9.5"
  },
  "papermill": {
   "default_parameters": {},
   "duration": 6.822328,
   "end_time": "2021-08-16T07:30:11.179856",
   "environment_variables": {},
   "exception": null,
   "input_path": "eBay_Overview.ipynb",
   "output_path": "eBay_Overview.ipynb",
   "parameters": {},
   "start_time": "2021-08-16T07:30:04.357528",
   "version": "2.3.3"
  }
 },
 "nbformat": 4,
 "nbformat_minor": 5
}