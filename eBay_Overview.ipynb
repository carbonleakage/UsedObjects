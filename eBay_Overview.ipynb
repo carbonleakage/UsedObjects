{
 "cells": [
  {
   "cell_type": "code",
   "execution_count": 1,
   "id": "reverse-picking",
   "metadata": {
    "execution": {
     "iopub.execute_input": "2021-11-10T18:30:19.498543Z",
     "iopub.status.busy": "2021-11-10T18:30:19.496491Z",
     "iopub.status.idle": "2021-11-10T18:30:20.307515Z",
     "shell.execute_reply": "2021-11-10T18:30:20.308900Z"
    },
    "papermill": {
     "duration": 0.862012,
     "end_time": "2021-11-10T18:30:20.309566",
     "exception": false,
     "start_time": "2021-11-10T18:30:19.447554",
     "status": "completed"
    },
    "tags": []
   },
   "outputs": [],
   "source": [
    "import pandas as pd\n",
    "import sqlite3"
   ]
  },
  {
   "cell_type": "code",
   "execution_count": 2,
   "id": "innovative-syndrome",
   "metadata": {
    "execution": {
     "iopub.execute_input": "2021-11-10T18:30:20.360966Z",
     "iopub.status.busy": "2021-11-10T18:30:20.358852Z",
     "iopub.status.idle": "2021-11-10T18:30:21.131855Z",
     "shell.execute_reply": "2021-11-10T18:30:21.133311Z"
    },
    "papermill": {
     "duration": 0.803887,
     "end_time": "2021-11-10T18:30:21.133773",
     "exception": false,
     "start_time": "2021-11-10T18:30:20.329886",
     "status": "completed"
    },
    "tags": []
   },
   "outputs": [],
   "source": [
    "timestamps = pd.read_sql(\"select distinct record_time from EBAY_TOP_BERLIN order by record_time desc limit 2\", sqlite3.connect(\"UsedObjects.db\"))"
   ]
  },
  {
   "cell_type": "code",
   "execution_count": 3,
   "id": "periodic-identification",
   "metadata": {
    "execution": {
     "iopub.execute_input": "2021-11-10T18:30:21.208739Z",
     "iopub.status.busy": "2021-11-10T18:30:21.206668Z",
     "iopub.status.idle": "2021-11-10T18:30:21.226887Z",
     "shell.execute_reply": "2021-11-10T18:30:21.228465Z"
    },
    "papermill": {
     "duration": 0.070324,
     "end_time": "2021-11-10T18:30:21.229065",
     "exception": false,
     "start_time": "2021-11-10T18:30:21.158741",
     "status": "completed"
    },
    "tags": []
   },
   "outputs": [
    {
     "data": {
      "text/html": [
       "<div>\n",
       "<style scoped>\n",
       "    .dataframe tbody tr th:only-of-type {\n",
       "        vertical-align: middle;\n",
       "    }\n",
       "\n",
       "    .dataframe tbody tr th {\n",
       "        vertical-align: top;\n",
       "    }\n",
       "\n",
       "    .dataframe thead th {\n",
       "        text-align: right;\n",
       "    }\n",
       "</style>\n",
       "<table border=\"1\" class=\"dataframe\">\n",
       "  <thead>\n",
       "    <tr style=\"text-align: right;\">\n",
       "      <th></th>\n",
       "      <th>RECORD_TIME</th>\n",
       "    </tr>\n",
       "  </thead>\n",
       "  <tbody>\n",
       "    <tr>\n",
       "      <th>0</th>\n",
       "      <td>2021-11-10 19:30</td>\n",
       "    </tr>\n",
       "    <tr>\n",
       "      <th>1</th>\n",
       "      <td>2021-11-10 19:00</td>\n",
       "    </tr>\n",
       "  </tbody>\n",
       "</table>\n",
       "</div>"
      ],
      "text/plain": [
       "        RECORD_TIME\n",
       "0  2021-11-10 19:30\n",
       "1  2021-11-10 19:00"
      ]
     },
     "execution_count": 3,
     "metadata": {},
     "output_type": "execute_result"
    }
   ],
   "source": [
    "timestamps"
   ]
  },
  {
   "cell_type": "code",
   "execution_count": 4,
   "id": "alternate-victory",
   "metadata": {
    "execution": {
     "iopub.execute_input": "2021-11-10T18:30:21.281087Z",
     "iopub.status.busy": "2021-11-10T18:30:21.279157Z",
     "iopub.status.idle": "2021-11-10T18:30:22.434561Z",
     "shell.execute_reply": "2021-11-10T18:30:22.435870Z"
    },
    "papermill": {
     "duration": 1.185375,
     "end_time": "2021-11-10T18:30:22.436291",
     "exception": false,
     "start_time": "2021-11-10T18:30:21.250916",
     "status": "completed"
    },
    "tags": []
   },
   "outputs": [],
   "source": [
    "df = pd.read_sql(\"select * from EBAY_TOP_BERLIN where record_time in (select distinct record_time from EBAY_TOP_BERLIN order by record_time desc limit 2)\", sqlite3.connect(\"UsedObjects.db\"))"
   ]
  },
  {
   "cell_type": "code",
   "execution_count": 5,
   "id": "popular-active",
   "metadata": {
    "execution": {
     "iopub.execute_input": "2021-11-10T18:30:22.506975Z",
     "iopub.status.busy": "2021-11-10T18:30:22.494948Z",
     "iopub.status.idle": "2021-11-10T18:30:22.524379Z",
     "shell.execute_reply": "2021-11-10T18:30:22.525870Z"
    },
    "papermill": {
     "duration": 0.069428,
     "end_time": "2021-11-10T18:30:22.526318",
     "exception": false,
     "start_time": "2021-11-10T18:30:22.456890",
     "status": "completed"
    },
    "tags": []
   },
   "outputs": [],
   "source": [
    "df_pivot = df.pivot_table(index=\"PRODUCT\", columns = \"RECORD_TIME\", values = \"LISTING_COUNT\")"
   ]
  },
  {
   "cell_type": "code",
   "execution_count": 6,
   "id": "union-huntington",
   "metadata": {
    "execution": {
     "iopub.execute_input": "2021-11-10T18:30:22.584209Z",
     "iopub.status.busy": "2021-11-10T18:30:22.581795Z",
     "iopub.status.idle": "2021-11-10T18:30:22.587552Z",
     "shell.execute_reply": "2021-11-10T18:30:22.588919Z"
    },
    "papermill": {
     "duration": 0.042337,
     "end_time": "2021-11-10T18:30:22.589347",
     "exception": false,
     "start_time": "2021-11-10T18:30:22.547010",
     "status": "completed"
    },
    "tags": []
   },
   "outputs": [],
   "source": [
    "df_pivot.columns = [\"stamp_1\", \"stamp_2\"]\n",
    "df_pivot_diff = df_pivot.diff(axis=1)"
   ]
  },
  {
   "cell_type": "code",
   "execution_count": 7,
   "id": "fifth-motion",
   "metadata": {
    "execution": {
     "iopub.execute_input": "2021-11-10T18:30:22.644141Z",
     "iopub.status.busy": "2021-11-10T18:30:22.641866Z",
     "iopub.status.idle": "2021-11-10T18:30:24.163213Z",
     "shell.execute_reply": "2021-11-10T18:30:24.164498Z"
    },
    "papermill": {
     "duration": 1.554883,
     "end_time": "2021-11-10T18:30:24.164974",
     "exception": false,
     "start_time": "2021-11-10T18:30:22.610091",
     "status": "completed"
    },
    "tags": []
   },
   "outputs": [
    {
     "data": {
      "text/plain": [
       "<AxesSubplot:ylabel='PRODUCT'>"
      ]
     },
     "execution_count": 7,
     "metadata": {},
     "output_type": "execute_result"
    },
    {
     "data": {
      "image/png": "[encoded data removed]",
      "text/plain": [
       "<Figure size 432x288 with 1 Axes>"
      ]
     },
     "metadata": {
      "needs_background": "light"
     },
     "output_type": "display_data"
    }
   ],
   "source": [
    "df_pivot_diff.sort_values(\"stamp_2\", ascending = False)[\"stamp_2\"].head(10).plot.barh()"
   ]
  },
  {
   "cell_type": "code",
   "execution_count": null,
   "id": "extra-executive",
   "metadata": {
    "papermill": {
     "duration": 0.022142,
     "end_time": "2021-11-10T18:30:24.211281",
     "exception": false,
     "start_time": "2021-11-10T18:30:24.189139",
     "status": "completed"
    },
    "tags": []
   },
   "outputs": [],
   "source": []
  }
 ],
 "metadata": {
  "kernelspec": {
   "display_name": "Python 3",
   "language": "python",
   "name": "python3"
  },
  "language_info": {
   "codemirror_mode": {
    "name": "ipython",
    "version": 3
   },
   "file_extension": ".py",
   "mimetype": "text/x-python",
   "name": "python",
   "nbconvert_exporter": "python",
   "pygments_lexer": "ipython3",
   "version": "3.9.5"
  },
  "papermill": {
   "default_parameters": {},
   "duration": 8.832558,
   "end_time": "2021-11-10T18:30:25.853088",
   "environment_variables": {},
   "exception": null,
   "input_path": "eBay_Overview.ipynb",
   "output_path": "eBay_Overview.ipynb",
   "parameters": {},
   "start_time": "2021-11-10T18:30:17.020530",
   "version": "2.3.3"
  }
 },
 "nbformat": 4,
 "nbformat_minor": 5
}