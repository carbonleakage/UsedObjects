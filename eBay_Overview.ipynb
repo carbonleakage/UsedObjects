{
 "cells": [
  {
   "cell_type": "code",
   "execution_count": 1,
   "id": "reverse-picking",
   "metadata": {
    "execution": {
     "iopub.execute_input": "2021-09-26T15:30:06.760656Z",
     "iopub.status.busy": "2021-09-26T15:30:06.758668Z",
     "iopub.status.idle": "2021-09-26T15:30:07.563336Z",
     "shell.execute_reply": "2021-09-26T15:30:07.564693Z"
    },
    "papermill": {
     "duration": 0.856734,
     "end_time": "2021-09-26T15:30:07.565301",
     "exception": false,
     "start_time": "2021-09-26T15:30:06.708567",
     "status": "completed"
    },
    "tags": []
   },
   "outputs": [],
   "source": [
    "import pandas as pd\n",
    "import sqlite3"
   ]
  },
  {
   "cell_type": "code",
   "execution_count": 2,
   "id": "innovative-syndrome",
   "metadata": {
    "execution": {
     "iopub.execute_input": "2021-09-26T15:30:07.615490Z",
     "iopub.status.busy": "2021-09-26T15:30:07.613531Z",
     "iopub.status.idle": "2021-09-26T15:30:07.993739Z",
     "shell.execute_reply": "2021-09-26T15:30:07.995021Z"
    },
    "papermill": {
     "duration": 0.409996,
     "end_time": "2021-09-26T15:30:07.995462",
     "exception": false,
     "start_time": "2021-09-26T15:30:07.585466",
     "status": "completed"
    },
    "tags": []
   },
   "outputs": [],
   "source": [
    "timestamps = pd.read_sql(\"select distinct record_time from EBAY_TOP_BERLIN order by record_time desc limit 2\", sqlite3.connect(\"UsedObjects.db\"))"
   ]
  },
  {
   "cell_type": "code",
   "execution_count": 3,
   "id": "periodic-identification",
   "metadata": {
    "execution": {
     "iopub.execute_input": "2021-09-26T15:30:08.059126Z",
     "iopub.status.busy": "2021-09-26T15:30:08.057029Z",
     "iopub.status.idle": "2021-09-26T15:30:08.077395Z",
     "shell.execute_reply": "2021-09-26T15:30:08.078673Z"
    },
    "papermill": {
     "duration": 0.063929,
     "end_time": "2021-09-26T15:30:08.079124",
     "exception": false,
     "start_time": "2021-09-26T15:30:08.015195",
     "status": "completed"
    },
    "tags": []
   },
   "outputs": [
    {
     "data": {
      "text/html": [
       "<div>\n",
       "<style scoped>\n",
       "    .dataframe tbody tr th:only-of-type {\n",
       "        vertical-align: middle;\n",
       "    }\n",
       "\n",
       "    .dataframe tbody tr th {\n",
       "        vertical-align: top;\n",
       "    }\n",
       "\n",
       "    .dataframe thead th {\n",
       "        text-align: right;\n",
       "    }\n",
       "</style>\n",
       "<table border=\"1\" class=\"dataframe\">\n",
       "  <thead>\n",
       "    <tr style=\"text-align: right;\">\n",
       "      <th></th>\n",
       "      <th>RECORD_TIME</th>\n",
       "    </tr>\n",
       "  </thead>\n",
       "  <tbody>\n",
       "    <tr>\n",
       "      <th>0</th>\n",
       "      <td>2021-09-26 17:30</td>\n",
       "    </tr>\n",
       "    <tr>\n",
       "      <th>1</th>\n",
       "      <td>2021-09-26 17:00</td>\n",
       "    </tr>\n",
       "  </tbody>\n",
       "</table>\n",
       "</div>"
      ],
      "text/plain": [
       "        RECORD_TIME\n",
       "0  2021-09-26 17:30\n",
       "1  2021-09-26 17:00"
      ]
     },
     "execution_count": 3,
     "metadata": {},
     "output_type": "execute_result"
    }
   ],
   "source": [
    "timestamps"
   ]
  },
  {
   "cell_type": "code",
   "execution_count": 4,
   "id": "alternate-victory",
   "metadata": {
    "execution": {
     "iopub.execute_input": "2021-09-26T15:30:08.131773Z",
     "iopub.status.busy": "2021-09-26T15:30:08.129699Z",
     "iopub.status.idle": "2021-09-26T15:30:08.699264Z",
     "shell.execute_reply": "2021-09-26T15:30:08.700608Z"
    },
    "papermill": {
     "duration": 0.60025,
     "end_time": "2021-09-26T15:30:08.701003",
     "exception": false,
     "start_time": "2021-09-26T15:30:08.100753",
     "status": "completed"
    },
    "tags": []
   },
   "outputs": [],
   "source": [
    "df = pd.read_sql(\"select * from EBAY_TOP_BERLIN where record_time in (select distinct record_time from EBAY_TOP_BERLIN order by record_time desc limit 2)\", sqlite3.connect(\"UsedObjects.db\"))"
   ]
  },
  {
   "cell_type": "code",
   "execution_count": 5,
   "id": "popular-active",
   "metadata": {
    "execution": {
     "iopub.execute_input": "2021-09-26T15:30:08.770200Z",
     "iopub.status.busy": "2021-09-26T15:30:08.758239Z",
     "iopub.status.idle": "2021-09-26T15:30:08.785800Z",
     "shell.execute_reply": "2021-09-26T15:30:08.787224Z"
    },
    "papermill": {
     "duration": 0.066321,
     "end_time": "2021-09-26T15:30:08.787634",
     "exception": false,
     "start_time": "2021-09-26T15:30:08.721313",
     "status": "completed"
    },
    "tags": []
   },
   "outputs": [],
   "source": [
    "df_pivot = df.pivot_table(index=\"PRODUCT\", columns = \"RECORD_TIME\", values = \"LISTING_COUNT\")"
   ]
  },
  {
   "cell_type": "code",
   "execution_count": 6,
   "id": "union-huntington",
   "metadata": {
    "execution": {
     "iopub.execute_input": "2021-09-26T15:30:08.844614Z",
     "iopub.status.busy": "2021-09-26T15:30:08.842477Z",
     "iopub.status.idle": "2021-09-26T15:30:08.847834Z",
     "shell.execute_reply": "2021-09-26T15:30:08.849113Z"
    },
    "papermill": {
     "duration": 0.04047,
     "end_time": "2021-09-26T15:30:08.849518",
     "exception": false,
     "start_time": "2021-09-26T15:30:08.809048",
     "status": "completed"
    },
    "tags": []
   },
   "outputs": [],
   "source": [
    "df_pivot.columns = [\"stamp_1\", \"stamp_2\"]\n",
    "df_pivot_diff = df_pivot.diff(axis=1)"
   ]
  },
  {
   "cell_type": "code",
   "execution_count": 7,
   "id": "fifth-motion",
   "metadata": {
    "execution": {
     "iopub.execute_input": "2021-09-26T15:30:08.905700Z",
     "iopub.status.busy": "2021-09-26T15:30:08.903086Z",
     "iopub.status.idle": "2021-09-26T15:30:10.368717Z",
     "shell.execute_reply": "2021-09-26T15:30:10.369991Z"
    },
    "papermill": {
     "duration": 1.49949,
     "end_time": "2021-09-26T15:30:10.370400",
     "exception": false,
     "start_time": "2021-09-26T15:30:08.870910",
     "status": "completed"
    },
    "tags": []
   },
   "outputs": [
    {
     "data": {
      "text/plain": [
       "<AxesSubplot:ylabel='PRODUCT'>"
      ]
     },
     "execution_count": 7,
     "metadata": {},
     "output_type": "execute_result"
    },
    {
     "data": {
      "image/png": "[encoded data removed]",
      "text/plain": [
       "<Figure size 432x288 with 1 Axes>"
      ]
     },
     "metadata": {
      "needs_background": "light"
     },
     "output_type": "display_data"
    }
   ],
   "source": [
    "df_pivot_diff.sort_values(\"stamp_2\", ascending = False)[\"stamp_2\"].head(10).plot.barh()"
   ]
  },
  {
   "cell_type": "code",
   "execution_count": null,
   "id": "extra-executive",
   "metadata": {
    "papermill": {
     "duration": 0.022222,
     "end_time": "2021-09-26T15:30:10.418062",
     "exception": false,
     "start_time": "2021-09-26T15:30:10.395840",
     "status": "completed"
    },
    "tags": []
   },
   "outputs": [],
   "source": []
  }
 ],
 "metadata": {
  "kernelspec": {
   "display_name": "Python 3",
   "language": "python",
   "name": "python3"
  },
  "language_info": {
   "codemirror_mode": {
    "name": "ipython",
    "version": 3
   },
   "file_extension": ".py",
   "mimetype": "text/x-python",
   "name": "python",
   "nbconvert_exporter": "python",
   "pygments_lexer": "ipython3",
   "version": "3.9.5"
  },
  "papermill": {
   "default_parameters": {},
   "duration": 6.755109,
   "end_time": "2021-09-26T15:30:11.060311",
   "environment_variables": {},
   "exception": null,
   "input_path": "eBay_Overview.ipynb",
   "output_path": "eBay_Overview.ipynb",
   "parameters": {},
   "start_time": "2021-09-26T15:30:04.305202",
   "version": "2.3.3"
  }
 },
 "nbformat": 4,
 "nbformat_minor": 5
}