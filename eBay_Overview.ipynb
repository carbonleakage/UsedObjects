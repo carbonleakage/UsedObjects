{
 "cells": [
  {
   "cell_type": "code",
   "execution_count": 1,
   "id": "reverse-picking",
   "metadata": {
    "execution": {
     "iopub.execute_input": "2021-09-16T01:00:06.836523Z",
     "iopub.status.busy": "2021-09-16T01:00:06.834536Z",
     "iopub.status.idle": "2021-09-16T01:00:07.636991Z",
     "shell.execute_reply": "2021-09-16T01:00:07.638300Z"
    },
    "papermill": {
     "duration": 0.854544,
     "end_time": "2021-09-16T01:00:07.638995",
     "exception": false,
     "start_time": "2021-09-16T01:00:06.784451",
     "status": "completed"
    },
    "tags": []
   },
   "outputs": [],
   "source": [
    "import pandas as pd\n",
    "import sqlite3"
   ]
  },
  {
   "cell_type": "code",
   "execution_count": 2,
   "id": "innovative-syndrome",
   "metadata": {
    "execution": {
     "iopub.execute_input": "2021-09-16T01:00:07.689759Z",
     "iopub.status.busy": "2021-09-16T01:00:07.687722Z",
     "iopub.status.idle": "2021-09-16T01:00:07.979766Z",
     "shell.execute_reply": "2021-09-16T01:00:07.980967Z"
    },
    "papermill": {
     "duration": 0.322119,
     "end_time": "2021-09-16T01:00:07.981365",
     "exception": false,
     "start_time": "2021-09-16T01:00:07.659246",
     "status": "completed"
    },
    "tags": []
   },
   "outputs": [],
   "source": [
    "timestamps = pd.read_sql(\"select distinct record_time from EBAY_TOP_BERLIN order by record_time desc limit 2\", sqlite3.connect(\"UsedObjects.db\"))"
   ]
  },
  {
   "cell_type": "code",
   "execution_count": 3,
   "id": "periodic-identification",
   "metadata": {
    "execution": {
     "iopub.execute_input": "2021-09-16T01:00:08.045519Z",
     "iopub.status.busy": "2021-09-16T01:00:08.043511Z",
     "iopub.status.idle": "2021-09-16T01:00:08.063688Z",
     "shell.execute_reply": "2021-09-16T01:00:08.065115Z"
    },
    "papermill": {
     "duration": 0.064953,
     "end_time": "2021-09-16T01:00:08.065557",
     "exception": false,
     "start_time": "2021-09-16T01:00:08.000604",
     "status": "completed"
    },
    "tags": []
   },
   "outputs": [
    {
     "data": {
      "text/html": [
       "<div>\n",
       "<style scoped>\n",
       "    .dataframe tbody tr th:only-of-type {\n",
       "        vertical-align: middle;\n",
       "    }\n",
       "\n",
       "    .dataframe tbody tr th {\n",
       "        vertical-align: top;\n",
       "    }\n",
       "\n",
       "    .dataframe thead th {\n",
       "        text-align: right;\n",
       "    }\n",
       "</style>\n",
       "<table border=\"1\" class=\"dataframe\">\n",
       "  <thead>\n",
       "    <tr style=\"text-align: right;\">\n",
       "      <th></th>\n",
       "      <th>RECORD_TIME</th>\n",
       "    </tr>\n",
       "  </thead>\n",
       "  <tbody>\n",
       "    <tr>\n",
       "      <th>0</th>\n",
       "      <td>2021-09-16 03:00</td>\n",
       "    </tr>\n",
       "    <tr>\n",
       "      <th>1</th>\n",
       "      <td>2021-09-16 02:30</td>\n",
       "    </tr>\n",
       "  </tbody>\n",
       "</table>\n",
       "</div>"
      ],
      "text/plain": [
       "        RECORD_TIME\n",
       "0  2021-09-16 03:00\n",
       "1  2021-09-16 02:30"
      ]
     },
     "execution_count": 3,
     "metadata": {},
     "output_type": "execute_result"
    }
   ],
   "source": [
    "timestamps"
   ]
  },
  {
   "cell_type": "code",
   "execution_count": 4,
   "id": "alternate-victory",
   "metadata": {
    "execution": {
     "iopub.execute_input": "2021-09-16T01:00:08.117057Z",
     "iopub.status.busy": "2021-09-16T01:00:08.114710Z",
     "iopub.status.idle": "2021-09-16T01:00:08.553976Z",
     "shell.execute_reply": "2021-09-16T01:00:08.555385Z"
    },
    "papermill": {
     "duration": 0.469752,
     "end_time": "2021-09-16T01:00:08.555812",
     "exception": false,
     "start_time": "2021-09-16T01:00:08.086060",
     "status": "completed"
    },
    "tags": []
   },
   "outputs": [],
   "source": [
    "df = pd.read_sql(\"select * from EBAY_TOP_BERLIN where record_time in (select distinct record_time from EBAY_TOP_BERLIN order by record_time desc limit 2)\", sqlite3.connect(\"UsedObjects.db\"))"
   ]
  },
  {
   "cell_type": "code",
   "execution_count": 5,
   "id": "popular-active",
   "metadata": {
    "execution": {
     "iopub.execute_input": "2021-09-16T01:00:08.632161Z",
     "iopub.status.busy": "2021-09-16T01:00:08.623827Z",
     "iopub.status.idle": "2021-09-16T01:00:08.653557Z",
     "shell.execute_reply": "2021-09-16T01:00:08.654763Z"
    },
    "papermill": {
     "duration": 0.071781,
     "end_time": "2021-09-16T01:00:08.655218",
     "exception": false,
     "start_time": "2021-09-16T01:00:08.583437",
     "status": "completed"
    },
    "tags": []
   },
   "outputs": [],
   "source": [
    "df_pivot = df.pivot_table(index=\"PRODUCT\", columns = \"RECORD_TIME\", values = \"LISTING_COUNT\")"
   ]
  },
  {
   "cell_type": "code",
   "execution_count": 6,
   "id": "union-huntington",
   "metadata": {
    "execution": {
     "iopub.execute_input": "2021-09-16T01:00:08.712792Z",
     "iopub.status.busy": "2021-09-16T01:00:08.710615Z",
     "iopub.status.idle": "2021-09-16T01:00:08.716317Z",
     "shell.execute_reply": "2021-09-16T01:00:08.717664Z"
    },
    "papermill": {
     "duration": 0.040894,
     "end_time": "2021-09-16T01:00:08.718102",
     "exception": false,
     "start_time": "2021-09-16T01:00:08.677208",
     "status": "completed"
    },
    "tags": []
   },
   "outputs": [],
   "source": [
    "df_pivot.columns = [\"stamp_1\", \"stamp_2\"]\n",
    "df_pivot_diff = df_pivot.diff(axis=1)"
   ]
  },
  {
   "cell_type": "code",
   "execution_count": 7,
   "id": "fifth-motion",
   "metadata": {
    "execution": {
     "iopub.execute_input": "2021-09-16T01:00:08.772134Z",
     "iopub.status.busy": "2021-09-16T01:00:08.769578Z",
     "iopub.status.idle": "2021-09-16T01:00:10.240973Z",
     "shell.execute_reply": "2021-09-16T01:00:10.242163Z"
    },
    "papermill": {
     "duration": 1.504179,
     "end_time": "2021-09-16T01:00:10.242595",
     "exception": false,
     "start_time": "2021-09-16T01:00:08.738416",
     "status": "completed"
    },
    "tags": []
   },
   "outputs": [
    {
     "data": {
      "text/plain": [
       "<AxesSubplot:ylabel='PRODUCT'>"
      ]
     },
     "execution_count": 7,
     "metadata": {},
     "output_type": "execute_result"
    },
    {
     "data": {
      "image/png": "[encoded data removed]",
      "text/plain": [
       "<Figure size 432x288 with 1 Axes>"
      ]
     },
     "metadata": {
      "needs_background": "light"
     },
     "output_type": "display_data"
    }
   ],
   "source": [
    "df_pivot_diff.sort_values(\"stamp_2\", ascending = False)[\"stamp_2\"].head(10).plot.barh()"
   ]
  },
  {
   "cell_type": "code",
   "execution_count": null,
   "id": "extra-executive",
   "metadata": {
    "papermill": {
     "duration": 0.021824,
     "end_time": "2021-09-16T01:00:10.287422",
     "exception": false,
     "start_time": "2021-09-16T01:00:10.265598",
     "status": "completed"
    },
    "tags": []
   },
   "outputs": [],
   "source": []
  }
 ],
 "metadata": {
  "kernelspec": {
   "display_name": "Python 3",
   "language": "python",
   "name": "python3"
  },
  "language_info": {
   "codemirror_mode": {
    "name": "ipython",
    "version": 3
   },
   "file_extension": ".py",
   "mimetype": "text/x-python",
   "name": "python",
   "nbconvert_exporter": "python",
   "pygments_lexer": "ipython3",
   "version": "3.9.5"
  },
  "papermill": {
   "default_parameters": {},
   "duration": 6.541325,
   "end_time": "2021-09-16T01:00:10.930337",
   "environment_variables": {},
   "exception": null,
   "input_path": "eBay_Overview.ipynb",
   "output_path": "eBay_Overview.ipynb",
   "parameters": {},
   "start_time": "2021-09-16T01:00:04.389012",
   "version": "2.3.3"
  }
 },
 "nbformat": 4,
 "nbformat_minor": 5
}