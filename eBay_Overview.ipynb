{
 "cells": [
  {
   "cell_type": "code",
   "execution_count": 1,
   "id": "reverse-picking",
   "metadata": {
    "execution": {
     "iopub.execute_input": "2021-11-03T15:00:07.482141Z",
     "iopub.status.busy": "2021-11-03T15:00:07.480089Z",
     "iopub.status.idle": "2021-11-03T15:00:08.431150Z",
     "shell.execute_reply": "2021-11-03T15:00:08.432641Z"
    },
    "papermill": {
     "duration": 1.001973,
     "end_time": "2021-11-03T15:00:08.433448",
     "exception": false,
     "start_time": "2021-11-03T15:00:07.431475",
     "status": "completed"
    },
    "tags": []
   },
   "outputs": [],
   "source": [
    "import pandas as pd\n",
    "import sqlite3"
   ]
  },
  {
   "cell_type": "code",
   "execution_count": 2,
   "id": "innovative-syndrome",
   "metadata": {
    "execution": {
     "iopub.execute_input": "2021-11-03T15:00:08.497437Z",
     "iopub.status.busy": "2021-11-03T15:00:08.495148Z",
     "iopub.status.idle": "2021-11-03T15:00:09.230969Z",
     "shell.execute_reply": "2021-11-03T15:00:09.232338Z"
    },
    "papermill": {
     "duration": 0.77149,
     "end_time": "2021-11-03T15:00:09.232843",
     "exception": false,
     "start_time": "2021-11-03T15:00:08.461353",
     "status": "completed"
    },
    "tags": []
   },
   "outputs": [],
   "source": [
    "timestamps = pd.read_sql(\"select distinct record_time from EBAY_TOP_BERLIN order by record_time desc limit 2\", sqlite3.connect(\"UsedObjects.db\"))"
   ]
  },
  {
   "cell_type": "code",
   "execution_count": 3,
   "id": "periodic-identification",
   "metadata": {
    "execution": {
     "iopub.execute_input": "2021-11-03T15:00:09.303424Z",
     "iopub.status.busy": "2021-11-03T15:00:09.301168Z",
     "iopub.status.idle": "2021-11-03T15:00:09.324870Z",
     "shell.execute_reply": "2021-11-03T15:00:09.326398Z"
    },
    "papermill": {
     "duration": 0.073208,
     "end_time": "2021-11-03T15:00:09.326860",
     "exception": false,
     "start_time": "2021-11-03T15:00:09.253652",
     "status": "completed"
    },
    "tags": []
   },
   "outputs": [
    {
     "data": {
      "text/html": [
       "<div>\n",
       "<style scoped>\n",
       "    .dataframe tbody tr th:only-of-type {\n",
       "        vertical-align: middle;\n",
       "    }\n",
       "\n",
       "    .dataframe tbody tr th {\n",
       "        vertical-align: top;\n",
       "    }\n",
       "\n",
       "    .dataframe thead th {\n",
       "        text-align: right;\n",
       "    }\n",
       "</style>\n",
       "<table border=\"1\" class=\"dataframe\">\n",
       "  <thead>\n",
       "    <tr style=\"text-align: right;\">\n",
       "      <th></th>\n",
       "      <th>RECORD_TIME</th>\n",
       "    </tr>\n",
       "  </thead>\n",
       "  <tbody>\n",
       "    <tr>\n",
       "      <th>0</th>\n",
       "      <td>2021-11-03 16:00</td>\n",
       "    </tr>\n",
       "    <tr>\n",
       "      <th>1</th>\n",
       "      <td>2021-11-03 15:30</td>\n",
       "    </tr>\n",
       "  </tbody>\n",
       "</table>\n",
       "</div>"
      ],
      "text/plain": [
       "        RECORD_TIME\n",
       "0  2021-11-03 16:00\n",
       "1  2021-11-03 15:30"
      ]
     },
     "execution_count": 3,
     "metadata": {},
     "output_type": "execute_result"
    }
   ],
   "source": [
    "timestamps"
   ]
  },
  {
   "cell_type": "code",
   "execution_count": 4,
   "id": "alternate-victory",
   "metadata": {
    "execution": {
     "iopub.execute_input": "2021-11-03T15:00:09.383896Z",
     "iopub.status.busy": "2021-11-03T15:00:09.381448Z",
     "iopub.status.idle": "2021-11-03T15:00:10.431237Z",
     "shell.execute_reply": "2021-11-03T15:00:10.433481Z"
    },
    "papermill": {
     "duration": 1.085715,
     "end_time": "2021-11-03T15:00:10.433990",
     "exception": false,
     "start_time": "2021-11-03T15:00:09.348275",
     "status": "completed"
    },
    "tags": []
   },
   "outputs": [],
   "source": [
    "df = pd.read_sql(\"select * from EBAY_TOP_BERLIN where record_time in (select distinct record_time from EBAY_TOP_BERLIN order by record_time desc limit 2)\", sqlite3.connect(\"UsedObjects.db\"))"
   ]
  },
  {
   "cell_type": "code",
   "execution_count": 5,
   "id": "popular-active",
   "metadata": {
    "execution": {
     "iopub.execute_input": "2021-11-03T15:00:10.513156Z",
     "iopub.status.busy": "2021-11-03T15:00:10.499882Z",
     "iopub.status.idle": "2021-11-03T15:00:10.539515Z",
     "shell.execute_reply": "2021-11-03T15:00:10.541074Z"
    },
    "papermill": {
     "duration": 0.08451,
     "end_time": "2021-11-03T15:00:10.541535",
     "exception": false,
     "start_time": "2021-11-03T15:00:10.457025",
     "status": "completed"
    },
    "tags": []
   },
   "outputs": [],
   "source": [
    "df_pivot = df.pivot_table(index=\"PRODUCT\", columns = \"RECORD_TIME\", values = \"LISTING_COUNT\")"
   ]
  },
  {
   "cell_type": "code",
   "execution_count": 6,
   "id": "union-huntington",
   "metadata": {
    "execution": {
     "iopub.execute_input": "2021-11-03T15:00:10.605721Z",
     "iopub.status.busy": "2021-11-03T15:00:10.603088Z",
     "iopub.status.idle": "2021-11-03T15:00:10.609495Z",
     "shell.execute_reply": "2021-11-03T15:00:10.611074Z"
    },
    "papermill": {
     "duration": 0.048206,
     "end_time": "2021-11-03T15:00:10.611611",
     "exception": false,
     "start_time": "2021-11-03T15:00:10.563405",
     "status": "completed"
    },
    "tags": []
   },
   "outputs": [],
   "source": [
    "df_pivot.columns = [\"stamp_1\", \"stamp_2\"]\n",
    "df_pivot_diff = df_pivot.diff(axis=1)"
   ]
  },
  {
   "cell_type": "code",
   "execution_count": 7,
   "id": "fifth-motion",
   "metadata": {
    "execution": {
     "iopub.execute_input": "2021-11-03T15:00:10.669596Z",
     "iopub.status.busy": "2021-11-03T15:00:10.667148Z",
     "iopub.status.idle": "2021-11-03T15:00:12.530326Z",
     "shell.execute_reply": "2021-11-03T15:00:12.533225Z"
    },
    "papermill": {
     "duration": 1.900703,
     "end_time": "2021-11-03T15:00:12.534100",
     "exception": false,
     "start_time": "2021-11-03T15:00:10.633397",
     "status": "completed"
    },
    "tags": []
   },
   "outputs": [
    {
     "data": {
      "text/plain": [
       "<AxesSubplot:ylabel='PRODUCT'>"
      ]
     },
     "execution_count": 7,
     "metadata": {},
     "output_type": "execute_result"
    },
    {
     "data": {
      "image/png": "[encoded data removed]",
      "text/plain": [
       "<Figure size 432x288 with 1 Axes>"
      ]
     },
     "metadata": {
      "needs_background": "light"
     },
     "output_type": "display_data"
    }
   ],
   "source": [
    "df_pivot_diff.sort_values(\"stamp_2\", ascending = False)[\"stamp_2\"].head(10).plot.barh()"
   ]
  },
  {
   "cell_type": "code",
   "execution_count": null,
   "id": "extra-executive",
   "metadata": {
    "papermill": {
     "duration": 0.034581,
     "end_time": "2021-11-03T15:00:12.603371",
     "exception": false,
     "start_time": "2021-11-03T15:00:12.568790",
     "status": "completed"
    },
    "tags": []
   },
   "outputs": [],
   "source": []
  }
 ],
 "metadata": {
  "kernelspec": {
   "display_name": "Python 3",
   "language": "python",
   "name": "python3"
  },
  "language_info": {
   "codemirror_mode": {
    "name": "ipython",
    "version": 3
   },
   "file_extension": ".py",
   "mimetype": "text/x-python",
   "name": "python",
   "nbconvert_exporter": "python",
   "pygments_lexer": "ipython3",
   "version": "3.9.5"
  },
  "papermill": {
   "default_parameters": {},
   "duration": 8.765735,
   "end_time": "2021-11-03T15:00:13.462557",
   "environment_variables": {},
   "exception": null,
   "input_path": "eBay_Overview.ipynb",
   "output_path": "eBay_Overview.ipynb",
   "parameters": {},
   "start_time": "2021-11-03T15:00:04.696822",
   "version": "2.3.3"
  }
 },
 "nbformat": 4,
 "nbformat_minor": 5
}