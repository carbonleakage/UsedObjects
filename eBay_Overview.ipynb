{
 "cells": [
  {
   "cell_type": "code",
   "execution_count": 1,
   "id": "reverse-picking",
   "metadata": {
    "execution": {
     "iopub.execute_input": "2021-11-10T10:30:07.821804Z",
     "iopub.status.busy": "2021-11-10T10:30:07.819278Z",
     "iopub.status.idle": "2021-11-10T10:30:08.745963Z",
     "shell.execute_reply": "2021-11-10T10:30:08.747636Z"
    },
    "papermill": {
     "duration": 0.977401,
     "end_time": "2021-11-10T10:30:08.748371",
     "exception": false,
     "start_time": "2021-11-10T10:30:07.770970",
     "status": "completed"
    },
    "tags": []
   },
   "outputs": [],
   "source": [
    "import pandas as pd\n",
    "import sqlite3"
   ]
  },
  {
   "cell_type": "code",
   "execution_count": 2,
   "id": "innovative-syndrome",
   "metadata": {
    "execution": {
     "iopub.execute_input": "2021-11-10T10:30:08.814315Z",
     "iopub.status.busy": "2021-11-10T10:30:08.812015Z",
     "iopub.status.idle": "2021-11-10T10:30:09.596338Z",
     "shell.execute_reply": "2021-11-10T10:30:09.597948Z"
    },
    "papermill": {
     "duration": 0.819403,
     "end_time": "2021-11-10T10:30:09.598427",
     "exception": false,
     "start_time": "2021-11-10T10:30:08.779024",
     "status": "completed"
    },
    "tags": []
   },
   "outputs": [],
   "source": [
    "timestamps = pd.read_sql(\"select distinct record_time from EBAY_TOP_BERLIN order by record_time desc limit 2\", sqlite3.connect(\"UsedObjects.db\"))"
   ]
  },
  {
   "cell_type": "code",
   "execution_count": 3,
   "id": "periodic-identification",
   "metadata": {
    "execution": {
     "iopub.execute_input": "2021-11-10T10:30:09.671181Z",
     "iopub.status.busy": "2021-11-10T10:30:09.668617Z",
     "iopub.status.idle": "2021-11-10T10:30:09.692623Z",
     "shell.execute_reply": "2021-11-10T10:30:09.694317Z"
    },
    "papermill": {
     "duration": 0.07461,
     "end_time": "2021-11-10T10:30:09.694828",
     "exception": false,
     "start_time": "2021-11-10T10:30:09.620218",
     "status": "completed"
    },
    "tags": []
   },
   "outputs": [
    {
     "data": {
      "text/html": [
       "<div>\n",
       "<style scoped>\n",
       "    .dataframe tbody tr th:only-of-type {\n",
       "        vertical-align: middle;\n",
       "    }\n",
       "\n",
       "    .dataframe tbody tr th {\n",
       "        vertical-align: top;\n",
       "    }\n",
       "\n",
       "    .dataframe thead th {\n",
       "        text-align: right;\n",
       "    }\n",
       "</style>\n",
       "<table border=\"1\" class=\"dataframe\">\n",
       "  <thead>\n",
       "    <tr style=\"text-align: right;\">\n",
       "      <th></th>\n",
       "      <th>RECORD_TIME</th>\n",
       "    </tr>\n",
       "  </thead>\n",
       "  <tbody>\n",
       "    <tr>\n",
       "      <th>0</th>\n",
       "      <td>2021-11-10 11:30</td>\n",
       "    </tr>\n",
       "    <tr>\n",
       "      <th>1</th>\n",
       "      <td>2021-11-10 11:00</td>\n",
       "    </tr>\n",
       "  </tbody>\n",
       "</table>\n",
       "</div>"
      ],
      "text/plain": [
       "        RECORD_TIME\n",
       "0  2021-11-10 11:30\n",
       "1  2021-11-10 11:00"
      ]
     },
     "execution_count": 3,
     "metadata": {},
     "output_type": "execute_result"
    }
   ],
   "source": [
    "timestamps"
   ]
  },
  {
   "cell_type": "code",
   "execution_count": 4,
   "id": "alternate-victory",
   "metadata": {
    "execution": {
     "iopub.execute_input": "2021-11-10T10:30:09.751568Z",
     "iopub.status.busy": "2021-11-10T10:30:09.749445Z",
     "iopub.status.idle": "2021-11-10T10:30:10.916546Z",
     "shell.execute_reply": "2021-11-10T10:30:10.919419Z"
    },
    "papermill": {
     "duration": 1.202853,
     "end_time": "2021-11-10T10:30:10.920226",
     "exception": false,
     "start_time": "2021-11-10T10:30:09.717373",
     "status": "completed"
    },
    "tags": []
   },
   "outputs": [],
   "source": [
    "df = pd.read_sql(\"select * from EBAY_TOP_BERLIN where record_time in (select distinct record_time from EBAY_TOP_BERLIN order by record_time desc limit 2)\", sqlite3.connect(\"UsedObjects.db\"))"
   ]
  },
  {
   "cell_type": "code",
   "execution_count": 5,
   "id": "popular-active",
   "metadata": {
    "execution": {
     "iopub.execute_input": "2021-11-10T10:30:11.014421Z",
     "iopub.status.busy": "2021-11-10T10:30:10.999507Z",
     "iopub.status.idle": "2021-11-10T10:30:11.034513Z",
     "shell.execute_reply": "2021-11-10T10:30:11.036048Z"
    },
    "papermill": {
     "duration": 0.08301,
     "end_time": "2021-11-10T10:30:11.036510",
     "exception": false,
     "start_time": "2021-11-10T10:30:10.953500",
     "status": "completed"
    },
    "tags": []
   },
   "outputs": [],
   "source": [
    "df_pivot = df.pivot_table(index=\"PRODUCT\", columns = \"RECORD_TIME\", values = \"LISTING_COUNT\")"
   ]
  },
  {
   "cell_type": "code",
   "execution_count": 6,
   "id": "union-huntington",
   "metadata": {
    "execution": {
     "iopub.execute_input": "2021-11-10T10:30:11.097586Z",
     "iopub.status.busy": "2021-11-10T10:30:11.095314Z",
     "iopub.status.idle": "2021-11-10T10:30:11.101053Z",
     "shell.execute_reply": "2021-11-10T10:30:11.102573Z"
    },
    "papermill": {
     "duration": 0.044113,
     "end_time": "2021-11-10T10:30:11.103117",
     "exception": false,
     "start_time": "2021-11-10T10:30:11.059004",
     "status": "completed"
    },
    "tags": []
   },
   "outputs": [],
   "source": [
    "df_pivot.columns = [\"stamp_1\", \"stamp_2\"]\n",
    "df_pivot_diff = df_pivot.diff(axis=1)"
   ]
  },
  {
   "cell_type": "code",
   "execution_count": 7,
   "id": "fifth-motion",
   "metadata": {
    "execution": {
     "iopub.execute_input": "2021-11-10T10:30:11.160870Z",
     "iopub.status.busy": "2021-11-10T10:30:11.158352Z",
     "iopub.status.idle": "2021-11-10T10:30:13.117614Z",
     "shell.execute_reply": "2021-11-10T10:30:13.119297Z"
    },
    "papermill": {
     "duration": 1.996631,
     "end_time": "2021-11-10T10:30:13.119816",
     "exception": false,
     "start_time": "2021-11-10T10:30:11.123185",
     "status": "completed"
    },
    "tags": []
   },
   "outputs": [
    {
     "data": {
      "text/plain": [
       "<AxesSubplot:ylabel='PRODUCT'>"
      ]
     },
     "execution_count": 7,
     "metadata": {},
     "output_type": "execute_result"
    },
    {
     "data": {
      "image/png": "[encoded data removed]",
      "text/plain": [
       "<Figure size 432x288 with 1 Axes>"
      ]
     },
     "metadata": {
      "needs_background": "light"
     },
     "output_type": "display_data"
    }
   ],
   "source": [
    "df_pivot_diff.sort_values(\"stamp_2\", ascending = False)[\"stamp_2\"].head(10).plot.barh()"
   ]
  },
  {
   "cell_type": "code",
   "execution_count": null,
   "id": "extra-executive",
   "metadata": {
    "papermill": {
     "duration": 0.024279,
     "end_time": "2021-11-10T10:30:13.167478",
     "exception": false,
     "start_time": "2021-11-10T10:30:13.143199",
     "status": "completed"
    },
    "tags": []
   },
   "outputs": [],
   "source": []
  }
 ],
 "metadata": {
  "kernelspec": {
   "display_name": "Python 3",
   "language": "python",
   "name": "python3"
  },
  "language_info": {
   "codemirror_mode": {
    "name": "ipython",
    "version": 3
   },
   "file_extension": ".py",
   "mimetype": "text/x-python",
   "name": "python",
   "nbconvert_exporter": "python",
   "pygments_lexer": "ipython3",
   "version": "3.9.5"
  },
  "papermill": {
   "default_parameters": {},
   "duration": 9.93583,
   "end_time": "2021-11-10T10:30:14.981599",
   "environment_variables": {},
   "exception": null,
   "input_path": "eBay_Overview.ipynb",
   "output_path": "eBay_Overview.ipynb",
   "parameters": {},
   "start_time": "2021-11-10T10:30:05.045769",
   "version": "2.3.3"
  }
 },
 "nbformat": 4,
 "nbformat_minor": 5
}