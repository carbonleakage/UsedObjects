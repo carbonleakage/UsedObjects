{
 "cells": [
  {
   "cell_type": "code",
   "execution_count": 1,
   "id": "reverse-picking",
   "metadata": {
    "execution": {
     "iopub.execute_input": "2021-12-17T01:30:07.162559Z",
     "iopub.status.busy": "2021-12-17T01:30:07.159969Z",
     "iopub.status.idle": "2021-12-17T01:30:08.113205Z",
     "shell.execute_reply": "2021-12-17T01:30:08.114855Z"
    },
    "papermill": {
     "duration": 1.003611,
     "end_time": "2021-12-17T01:30:08.115698",
     "exception": false,
     "start_time": "2021-12-17T01:30:07.112087",
     "status": "completed"
    },
    "tags": []
   },
   "outputs": [],
   "source": [
    "import pandas as pd\n",
    "import sqlite3"
   ]
  },
  {
   "cell_type": "code",
   "execution_count": 2,
   "id": "innovative-syndrome",
   "metadata": {
    "execution": {
     "iopub.execute_input": "2021-12-17T01:30:08.185020Z",
     "iopub.status.busy": "2021-12-17T01:30:08.182782Z",
     "iopub.status.idle": "2021-12-17T01:30:09.256220Z",
     "shell.execute_reply": "2021-12-17T01:30:09.257628Z"
    },
    "papermill": {
     "duration": 1.107989,
     "end_time": "2021-12-17T01:30:09.258063",
     "exception": false,
     "start_time": "2021-12-17T01:30:08.150074",
     "status": "completed"
    },
    "tags": []
   },
   "outputs": [],
   "source": [
    "timestamps = pd.read_sql(\"select distinct record_time from EBAY_TOP_BERLIN order by record_time desc limit 2\", sqlite3.connect(\"UsedObjects.db\"))"
   ]
  },
  {
   "cell_type": "code",
   "execution_count": 3,
   "id": "periodic-identification",
   "metadata": {
    "execution": {
     "iopub.execute_input": "2021-12-17T01:30:09.322695Z",
     "iopub.status.busy": "2021-12-17T01:30:09.320520Z",
     "iopub.status.idle": "2021-12-17T01:30:09.341263Z",
     "shell.execute_reply": "2021-12-17T01:30:09.342696Z"
    },
    "papermill": {
     "duration": 0.065518,
     "end_time": "2021-12-17T01:30:09.343146",
     "exception": false,
     "start_time": "2021-12-17T01:30:09.277628",
     "status": "completed"
    },
    "tags": []
   },
   "outputs": [
    {
     "data": {
      "text/html": [
       "<div>\n",
       "<style scoped>\n",
       "    .dataframe tbody tr th:only-of-type {\n",
       "        vertical-align: middle;\n",
       "    }\n",
       "\n",
       "    .dataframe tbody tr th {\n",
       "        vertical-align: top;\n",
       "    }\n",
       "\n",
       "    .dataframe thead th {\n",
       "        text-align: right;\n",
       "    }\n",
       "</style>\n",
       "<table border=\"1\" class=\"dataframe\">\n",
       "  <thead>\n",
       "    <tr style=\"text-align: right;\">\n",
       "      <th></th>\n",
       "      <th>RECORD_TIME</th>\n",
       "    </tr>\n",
       "  </thead>\n",
       "  <tbody>\n",
       "    <tr>\n",
       "      <th>0</th>\n",
       "      <td>2021-12-17 02:30</td>\n",
       "    </tr>\n",
       "    <tr>\n",
       "      <th>1</th>\n",
       "      <td>2021-12-17 02:00</td>\n",
       "    </tr>\n",
       "  </tbody>\n",
       "</table>\n",
       "</div>"
      ],
      "text/plain": [
       "        RECORD_TIME\n",
       "0  2021-12-17 02:30\n",
       "1  2021-12-17 02:00"
      ]
     },
     "execution_count": 3,
     "metadata": {},
     "output_type": "execute_result"
    }
   ],
   "source": [
    "timestamps"
   ]
  },
  {
   "cell_type": "code",
   "execution_count": 4,
   "id": "alternate-victory",
   "metadata": {
    "execution": {
     "iopub.execute_input": "2021-12-17T01:30:09.395089Z",
     "iopub.status.busy": "2021-12-17T01:30:09.393051Z",
     "iopub.status.idle": "2021-12-17T01:30:10.952153Z",
     "shell.execute_reply": "2021-12-17T01:30:10.953627Z"
    },
    "papermill": {
     "duration": 1.590202,
     "end_time": "2021-12-17T01:30:10.954111",
     "exception": false,
     "start_time": "2021-12-17T01:30:09.363909",
     "status": "completed"
    },
    "tags": []
   },
   "outputs": [],
   "source": [
    "df = pd.read_sql(\"select * from EBAY_TOP_BERLIN where record_time in (select distinct record_time from EBAY_TOP_BERLIN order by record_time desc limit 2)\", sqlite3.connect(\"UsedObjects.db\"))"
   ]
  },
  {
   "cell_type": "code",
   "execution_count": 5,
   "id": "popular-active",
   "metadata": {
    "execution": {
     "iopub.execute_input": "2021-12-17T01:30:11.028977Z",
     "iopub.status.busy": "2021-12-17T01:30:11.020934Z",
     "iopub.status.idle": "2021-12-17T01:30:11.048105Z",
     "shell.execute_reply": "2021-12-17T01:30:11.049845Z"
    },
    "papermill": {
     "duration": 0.075413,
     "end_time": "2021-12-17T01:30:11.050342",
     "exception": false,
     "start_time": "2021-12-17T01:30:10.974929",
     "status": "completed"
    },
    "tags": []
   },
   "outputs": [],
   "source": [
    "df_pivot = df.pivot_table(index=\"PRODUCT\", columns = \"RECORD_TIME\", values = \"LISTING_COUNT\")"
   ]
  },
  {
   "cell_type": "code",
   "execution_count": 6,
   "id": "union-huntington",
   "metadata": {
    "execution": {
     "iopub.execute_input": "2021-12-17T01:30:11.110902Z",
     "iopub.status.busy": "2021-12-17T01:30:11.108670Z",
     "iopub.status.idle": "2021-12-17T01:30:11.113614Z",
     "shell.execute_reply": "2021-12-17T01:30:11.115433Z"
    },
    "papermill": {
     "duration": 0.044847,
     "end_time": "2021-12-17T01:30:11.115895",
     "exception": false,
     "start_time": "2021-12-17T01:30:11.071048",
     "status": "completed"
    },
    "tags": []
   },
   "outputs": [],
   "source": [
    "df_pivot.columns = [\"stamp_1\", \"stamp_2\"]\n",
    "df_pivot_diff = df_pivot.diff(axis=1)"
   ]
  },
  {
   "cell_type": "code",
   "execution_count": 7,
   "id": "fifth-motion",
   "metadata": {
    "execution": {
     "iopub.execute_input": "2021-12-17T01:30:11.171812Z",
     "iopub.status.busy": "2021-12-17T01:30:11.169391Z",
     "iopub.status.idle": "2021-12-17T01:30:13.172039Z",
     "shell.execute_reply": "2021-12-17T01:30:13.173483Z"
    },
    "papermill": {
     "duration": 2.037913,
     "end_time": "2021-12-17T01:30:13.173934",
     "exception": false,
     "start_time": "2021-12-17T01:30:11.136021",
     "status": "completed"
    },
    "tags": []
   },
   "outputs": [
    {
     "data": {
      "text/plain": [
       "<AxesSubplot:ylabel='PRODUCT'>"
      ]
     },
     "execution_count": 7,
     "metadata": {},
     "output_type": "execute_result"
    },
    {
     "data": {
      "image/png": "[encoded data removed]",
      "text/plain": [
       "<Figure size 432x288 with 1 Axes>"
      ]
     },
     "metadata": {
      "needs_background": "light"
     },
     "output_type": "display_data"
    }
   ],
   "source": [
    "df_pivot_diff.sort_values(\"stamp_2\", ascending = False)[\"stamp_2\"].head(10).plot.barh()"
   ]
  },
  {
   "cell_type": "code",
   "execution_count": null,
   "id": "extra-executive",
   "metadata": {
    "papermill": {
     "duration": 0.026345,
     "end_time": "2021-12-17T01:30:13.234035",
     "exception": false,
     "start_time": "2021-12-17T01:30:13.207690",
     "status": "completed"
    },
    "tags": []
   },
   "outputs": [],
   "source": []
  }
 ],
 "metadata": {
  "kernelspec": {
   "display_name": "Python 3",
   "language": "python",
   "name": "python3"
  },
  "language_info": {
   "codemirror_mode": {
    "name": "ipython",
    "version": 3
   },
   "file_extension": ".py",
   "mimetype": "text/x-python",
   "name": "python",
   "nbconvert_exporter": "python",
   "pygments_lexer": "ipython3",
   "version": "3.9.5"
  },
  "papermill": {
   "default_parameters": {},
   "duration": 9.493977,
   "end_time": "2021-12-17T01:30:13.892107",
   "environment_variables": {},
   "exception": null,
   "input_path": "eBay_Overview.ipynb",
   "output_path": "eBay_Overview.ipynb",
   "parameters": {},
   "start_time": "2021-12-17T01:30:04.398130",
   "version": "2.3.3"
  }
 },
 "nbformat": 4,
 "nbformat_minor": 5
}