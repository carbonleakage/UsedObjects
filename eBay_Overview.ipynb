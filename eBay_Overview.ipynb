{
 "cells": [
  {
   "cell_type": "code",
   "execution_count": 1,
   "id": "reverse-picking",
   "metadata": {
    "execution": {
     "iopub.execute_input": "2021-11-07T21:00:07.695711Z",
     "iopub.status.busy": "2021-11-07T21:00:07.693284Z",
     "iopub.status.idle": "2021-11-07T21:00:08.651866Z",
     "shell.execute_reply": "2021-11-07T21:00:08.653686Z"
    },
    "papermill": {
     "duration": 1.007058,
     "end_time": "2021-11-07T21:00:08.654456",
     "exception": false,
     "start_time": "2021-11-07T21:00:07.647398",
     "status": "completed"
    },
    "tags": []
   },
   "outputs": [],
   "source": [
    "import pandas as pd\n",
    "import sqlite3"
   ]
  },
  {
   "cell_type": "code",
   "execution_count": 2,
   "id": "innovative-syndrome",
   "metadata": {
    "execution": {
     "iopub.execute_input": "2021-11-07T21:00:08.720026Z",
     "iopub.status.busy": "2021-11-07T21:00:08.717791Z",
     "iopub.status.idle": "2021-11-07T21:00:09.475602Z",
     "shell.execute_reply": "2021-11-07T21:00:09.477227Z"
    },
    "papermill": {
     "duration": 0.792788,
     "end_time": "2021-11-07T21:00:09.477729",
     "exception": false,
     "start_time": "2021-11-07T21:00:08.684941",
     "status": "completed"
    },
    "tags": []
   },
   "outputs": [],
   "source": [
    "timestamps = pd.read_sql(\"select distinct record_time from EBAY_TOP_BERLIN order by record_time desc limit 2\", sqlite3.connect(\"UsedObjects.db\"))"
   ]
  },
  {
   "cell_type": "code",
   "execution_count": 3,
   "id": "periodic-identification",
   "metadata": {
    "execution": {
     "iopub.execute_input": "2021-11-07T21:00:09.550873Z",
     "iopub.status.busy": "2021-11-07T21:00:09.548414Z",
     "iopub.status.idle": "2021-11-07T21:00:09.571403Z",
     "shell.execute_reply": "2021-11-07T21:00:09.573098Z"
    },
    "papermill": {
     "duration": 0.075217,
     "end_time": "2021-11-07T21:00:09.573609",
     "exception": false,
     "start_time": "2021-11-07T21:00:09.498392",
     "status": "completed"
    },
    "tags": []
   },
   "outputs": [
    {
     "data": {
      "text/html": [
       "<div>\n",
       "<style scoped>\n",
       "    .dataframe tbody tr th:only-of-type {\n",
       "        vertical-align: middle;\n",
       "    }\n",
       "\n",
       "    .dataframe tbody tr th {\n",
       "        vertical-align: top;\n",
       "    }\n",
       "\n",
       "    .dataframe thead th {\n",
       "        text-align: right;\n",
       "    }\n",
       "</style>\n",
       "<table border=\"1\" class=\"dataframe\">\n",
       "  <thead>\n",
       "    <tr style=\"text-align: right;\">\n",
       "      <th></th>\n",
       "      <th>RECORD_TIME</th>\n",
       "    </tr>\n",
       "  </thead>\n",
       "  <tbody>\n",
       "    <tr>\n",
       "      <th>0</th>\n",
       "      <td>2021-11-07 22:00</td>\n",
       "    </tr>\n",
       "    <tr>\n",
       "      <th>1</th>\n",
       "      <td>2021-11-07 21:30</td>\n",
       "    </tr>\n",
       "  </tbody>\n",
       "</table>\n",
       "</div>"
      ],
      "text/plain": [
       "        RECORD_TIME\n",
       "0  2021-11-07 22:00\n",
       "1  2021-11-07 21:30"
      ]
     },
     "execution_count": 3,
     "metadata": {},
     "output_type": "execute_result"
    }
   ],
   "source": [
    "timestamps"
   ]
  },
  {
   "cell_type": "code",
   "execution_count": 4,
   "id": "alternate-victory",
   "metadata": {
    "execution": {
     "iopub.execute_input": "2021-11-07T21:00:09.629622Z",
     "iopub.status.busy": "2021-11-07T21:00:09.627421Z",
     "iopub.status.idle": "2021-11-07T21:00:10.762114Z",
     "shell.execute_reply": "2021-11-07T21:00:10.764363Z"
    },
    "papermill": {
     "duration": 1.169819,
     "end_time": "2021-11-07T21:00:10.764928",
     "exception": false,
     "start_time": "2021-11-07T21:00:09.595109",
     "status": "completed"
    },
    "tags": []
   },
   "outputs": [],
   "source": [
    "df = pd.read_sql(\"select * from EBAY_TOP_BERLIN where record_time in (select distinct record_time from EBAY_TOP_BERLIN order by record_time desc limit 2)\", sqlite3.connect(\"UsedObjects.db\"))"
   ]
  },
  {
   "cell_type": "code",
   "execution_count": 5,
   "id": "popular-active",
   "metadata": {
    "execution": {
     "iopub.execute_input": "2021-11-07T21:00:10.844810Z",
     "iopub.status.busy": "2021-11-07T21:00:10.831264Z",
     "iopub.status.idle": "2021-11-07T21:00:10.867327Z",
     "shell.execute_reply": "2021-11-07T21:00:10.865890Z"
    },
    "papermill": {
     "duration": 0.081127,
     "end_time": "2021-11-07T21:00:10.867773",
     "exception": false,
     "start_time": "2021-11-07T21:00:10.786646",
     "status": "completed"
    },
    "tags": []
   },
   "outputs": [],
   "source": [
    "df_pivot = df.pivot_table(index=\"PRODUCT\", columns = \"RECORD_TIME\", values = \"LISTING_COUNT\")"
   ]
  },
  {
   "cell_type": "code",
   "execution_count": 6,
   "id": "union-huntington",
   "metadata": {
    "execution": {
     "iopub.execute_input": "2021-11-07T21:00:10.931151Z",
     "iopub.status.busy": "2021-11-07T21:00:10.928803Z",
     "iopub.status.idle": "2021-11-07T21:00:10.934346Z",
     "shell.execute_reply": "2021-11-07T21:00:10.935889Z"
    },
    "papermill": {
     "duration": 0.046988,
     "end_time": "2021-11-07T21:00:10.936391",
     "exception": false,
     "start_time": "2021-11-07T21:00:10.889403",
     "status": "completed"
    },
    "tags": []
   },
   "outputs": [],
   "source": [
    "df_pivot.columns = [\"stamp_1\", \"stamp_2\"]\n",
    "df_pivot_diff = df_pivot.diff(axis=1)"
   ]
  },
  {
   "cell_type": "code",
   "execution_count": 7,
   "id": "fifth-motion",
   "metadata": {
    "execution": {
     "iopub.execute_input": "2021-11-07T21:00:11.005594Z",
     "iopub.status.busy": "2021-11-07T21:00:10.993867Z",
     "iopub.status.idle": "2021-11-07T21:00:12.756657Z",
     "shell.execute_reply": "2021-11-07T21:00:12.758175Z"
    },
    "papermill": {
     "duration": 1.800049,
     "end_time": "2021-11-07T21:00:12.758671",
     "exception": false,
     "start_time": "2021-11-07T21:00:10.958622",
     "status": "completed"
    },
    "tags": []
   },
   "outputs": [
    {
     "data": {
      "text/plain": [
       "<AxesSubplot:ylabel='PRODUCT'>"
      ]
     },
     "execution_count": 7,
     "metadata": {},
     "output_type": "execute_result"
    },
    {
     "data": {
      "image/png": "[encoded data removed]",
      "text/plain": [
       "<Figure size 432x288 with 1 Axes>"
      ]
     },
     "metadata": {
      "needs_background": "light"
     },
     "output_type": "display_data"
    }
   ],
   "source": [
    "df_pivot_diff.sort_values(\"stamp_2\", ascending = False)[\"stamp_2\"].head(10).plot.barh()"
   ]
  },
  {
   "cell_type": "code",
   "execution_count": null,
   "id": "extra-executive",
   "metadata": {
    "papermill": {
     "duration": 0.024856,
     "end_time": "2021-11-07T21:00:12.807723",
     "exception": false,
     "start_time": "2021-11-07T21:00:12.782867",
     "status": "completed"
    },
    "tags": []
   },
   "outputs": [],
   "source": []
  }
 ],
 "metadata": {
  "kernelspec": {
   "display_name": "Python 3",
   "language": "python",
   "name": "python3"
  },
  "language_info": {
   "codemirror_mode": {
    "name": "ipython",
    "version": 3
   },
   "file_extension": ".py",
   "mimetype": "text/x-python",
   "name": "python",
   "nbconvert_exporter": "python",
   "pygments_lexer": "ipython3",
   "version": "3.9.5"
  },
  "papermill": {
   "default_parameters": {},
   "duration": 8.859798,
   "end_time": "2021-11-07T21:00:13.657546",
   "environment_variables": {},
   "exception": null,
   "input_path": "eBay_Overview.ipynb",
   "output_path": "eBay_Overview.ipynb",
   "parameters": {},
   "start_time": "2021-11-07T21:00:04.797748",
   "version": "2.3.3"
  }
 },
 "nbformat": 4,
 "nbformat_minor": 5
}