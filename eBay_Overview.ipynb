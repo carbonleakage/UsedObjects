{
 "cells": [
  {
   "cell_type": "code",
   "execution_count": 1,
   "id": "reverse-picking",
   "metadata": {
    "execution": {
     "iopub.execute_input": "2021-12-15T04:00:07.475267Z",
     "iopub.status.busy": "2021-12-15T04:00:07.467347Z",
     "iopub.status.idle": "2021-12-15T04:00:08.431632Z",
     "shell.execute_reply": "2021-12-15T04:00:08.429762Z"
    },
    "papermill": {
     "duration": 1.009775,
     "end_time": "2021-12-15T04:00:08.432128",
     "exception": false,
     "start_time": "2021-12-15T04:00:07.422353",
     "status": "completed"
    },
    "tags": []
   },
   "outputs": [],
   "source": [
    "import pandas as pd\n",
    "import sqlite3"
   ]
  },
  {
   "cell_type": "code",
   "execution_count": 2,
   "id": "innovative-syndrome",
   "metadata": {
    "execution": {
     "iopub.execute_input": "2021-12-15T04:00:08.510675Z",
     "iopub.status.busy": "2021-12-15T04:00:08.508324Z",
     "iopub.status.idle": "2021-12-15T04:00:09.617655Z",
     "shell.execute_reply": "2021-12-15T04:00:09.619754Z"
    },
    "papermill": {
     "duration": 1.143929,
     "end_time": "2021-12-15T04:00:09.620231",
     "exception": false,
     "start_time": "2021-12-15T04:00:08.476302",
     "status": "completed"
    },
    "tags": []
   },
   "outputs": [],
   "source": [
    "timestamps = pd.read_sql(\"select distinct record_time from EBAY_TOP_BERLIN order by record_time desc limit 2\", sqlite3.connect(\"UsedObjects.db\"))"
   ]
  },
  {
   "cell_type": "code",
   "execution_count": 3,
   "id": "periodic-identification",
   "metadata": {
    "execution": {
     "iopub.execute_input": "2021-12-15T04:00:09.689193Z",
     "iopub.status.busy": "2021-12-15T04:00:09.686892Z",
     "iopub.status.idle": "2021-12-15T04:00:09.709866Z",
     "shell.execute_reply": "2021-12-15T04:00:09.711300Z"
    },
    "papermill": {
     "duration": 0.071455,
     "end_time": "2021-12-15T04:00:09.711806",
     "exception": false,
     "start_time": "2021-12-15T04:00:09.640351",
     "status": "completed"
    },
    "tags": []
   },
   "outputs": [
    {
     "data": {
      "text/html": [
       "<div>\n",
       "<style scoped>\n",
       "    .dataframe tbody tr th:only-of-type {\n",
       "        vertical-align: middle;\n",
       "    }\n",
       "\n",
       "    .dataframe tbody tr th {\n",
       "        vertical-align: top;\n",
       "    }\n",
       "\n",
       "    .dataframe thead th {\n",
       "        text-align: right;\n",
       "    }\n",
       "</style>\n",
       "<table border=\"1\" class=\"dataframe\">\n",
       "  <thead>\n",
       "    <tr style=\"text-align: right;\">\n",
       "      <th></th>\n",
       "      <th>RECORD_TIME</th>\n",
       "    </tr>\n",
       "  </thead>\n",
       "  <tbody>\n",
       "    <tr>\n",
       "      <th>0</th>\n",
       "      <td>2021-12-15 05:00</td>\n",
       "    </tr>\n",
       "    <tr>\n",
       "      <th>1</th>\n",
       "      <td>2021-12-15 04:30</td>\n",
       "    </tr>\n",
       "  </tbody>\n",
       "</table>\n",
       "</div>"
      ],
      "text/plain": [
       "        RECORD_TIME\n",
       "0  2021-12-15 05:00\n",
       "1  2021-12-15 04:30"
      ]
     },
     "execution_count": 3,
     "metadata": {},
     "output_type": "execute_result"
    }
   ],
   "source": [
    "timestamps"
   ]
  },
  {
   "cell_type": "code",
   "execution_count": 4,
   "id": "alternate-victory",
   "metadata": {
    "execution": {
     "iopub.execute_input": "2021-12-15T04:00:09.766510Z",
     "iopub.status.busy": "2021-12-15T04:00:09.764580Z",
     "iopub.status.idle": "2021-12-15T04:00:11.371822Z",
     "shell.execute_reply": "2021-12-15T04:00:11.373245Z"
    },
    "papermill": {
     "duration": 1.640263,
     "end_time": "2021-12-15T04:00:11.373806",
     "exception": false,
     "start_time": "2021-12-15T04:00:09.733543",
     "status": "completed"
    },
    "tags": []
   },
   "outputs": [],
   "source": [
    "df = pd.read_sql(\"select * from EBAY_TOP_BERLIN where record_time in (select distinct record_time from EBAY_TOP_BERLIN order by record_time desc limit 2)\", sqlite3.connect(\"UsedObjects.db\"))"
   ]
  },
  {
   "cell_type": "code",
   "execution_count": 5,
   "id": "popular-active",
   "metadata": {
    "execution": {
     "iopub.execute_input": "2021-12-15T04:00:11.448239Z",
     "iopub.status.busy": "2021-12-15T04:00:11.440071Z",
     "iopub.status.idle": "2021-12-15T04:00:11.471331Z",
     "shell.execute_reply": "2021-12-15T04:00:11.472790Z"
    },
    "papermill": {
     "duration": 0.07707,
     "end_time": "2021-12-15T04:00:11.473277",
     "exception": false,
     "start_time": "2021-12-15T04:00:11.396207",
     "status": "completed"
    },
    "tags": []
   },
   "outputs": [],
   "source": [
    "df_pivot = df.pivot_table(index=\"PRODUCT\", columns = \"RECORD_TIME\", values = \"LISTING_COUNT\")"
   ]
  },
  {
   "cell_type": "code",
   "execution_count": 6,
   "id": "union-huntington",
   "metadata": {
    "execution": {
     "iopub.execute_input": "2021-12-15T04:00:11.531690Z",
     "iopub.status.busy": "2021-12-15T04:00:11.529537Z",
     "iopub.status.idle": "2021-12-15T04:00:11.534632Z",
     "shell.execute_reply": "2021-12-15T04:00:11.535975Z"
    },
    "papermill": {
     "duration": 0.043209,
     "end_time": "2021-12-15T04:00:11.536446",
     "exception": false,
     "start_time": "2021-12-15T04:00:11.493237",
     "status": "completed"
    },
    "tags": []
   },
   "outputs": [],
   "source": [
    "df_pivot.columns = [\"stamp_1\", \"stamp_2\"]\n",
    "df_pivot_diff = df_pivot.diff(axis=1)"
   ]
  },
  {
   "cell_type": "code",
   "execution_count": 7,
   "id": "fifth-motion",
   "metadata": {
    "execution": {
     "iopub.execute_input": "2021-12-15T04:00:11.594829Z",
     "iopub.status.busy": "2021-12-15T04:00:11.591988Z",
     "iopub.status.idle": "2021-12-15T04:00:13.601938Z",
     "shell.execute_reply": "2021-12-15T04:00:13.603405Z"
    },
    "papermill": {
     "duration": 2.046729,
     "end_time": "2021-12-15T04:00:13.603898",
     "exception": false,
     "start_time": "2021-12-15T04:00:11.557169",
     "status": "completed"
    },
    "tags": []
   },
   "outputs": [
    {
     "data": {
      "text/plain": [
       "<AxesSubplot:ylabel='PRODUCT'>"
      ]
     },
     "execution_count": 7,
     "metadata": {},
     "output_type": "execute_result"
    },
    {
     "data": {
      "image/png": "[encoded data removed]",
      "text/plain": [
       "<Figure size 432x288 with 1 Axes>"
      ]
     },
     "metadata": {
      "needs_background": "light"
     },
     "output_type": "display_data"
    }
   ],
   "source": [
    "df_pivot_diff.sort_values(\"stamp_2\", ascending = False)[\"stamp_2\"].head(10).plot.barh()"
   ]
  },
  {
   "cell_type": "code",
   "execution_count": null,
   "id": "extra-executive",
   "metadata": {
    "papermill": {
     "duration": 0.028286,
     "end_time": "2021-12-15T04:00:13.655959",
     "exception": false,
     "start_time": "2021-12-15T04:00:13.627673",
     "status": "completed"
    },
    "tags": []
   },
   "outputs": [],
   "source": []
  }
 ],
 "metadata": {
  "kernelspec": {
   "display_name": "Python 3",
   "language": "python",
   "name": "python3"
  },
  "language_info": {
   "codemirror_mode": {
    "name": "ipython",
    "version": 3
   },
   "file_extension": ".py",
   "mimetype": "text/x-python",
   "name": "python",
   "nbconvert_exporter": "python",
   "pygments_lexer": "ipython3",
   "version": "3.9.5"
  },
  "papermill": {
   "default_parameters": {},
   "duration": 9.606126,
   "end_time": "2021-12-15T04:00:14.301406",
   "environment_variables": {},
   "exception": null,
   "input_path": "eBay_Overview.ipynb",
   "output_path": "eBay_Overview.ipynb",
   "parameters": {},
   "start_time": "2021-12-15T04:00:04.695280",
   "version": "2.3.3"
  }
 },
 "nbformat": 4,
 "nbformat_minor": 5
}