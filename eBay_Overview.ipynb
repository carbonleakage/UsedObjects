{
 "cells": [
  {
   "cell_type": "code",
   "execution_count": 1,
   "id": "reverse-picking",
   "metadata": {
    "execution": {
     "iopub.execute_input": "2021-08-15T10:00:06.635693Z",
     "iopub.status.busy": "2021-08-15T10:00:06.633680Z",
     "iopub.status.idle": "2021-08-15T10:00:07.442968Z",
     "shell.execute_reply": "2021-08-15T10:00:07.444219Z"
    },
    "papermill": {
     "duration": 0.861377,
     "end_time": "2021-08-15T10:00:07.444838",
     "exception": false,
     "start_time": "2021-08-15T10:00:06.583461",
     "status": "completed"
    },
    "tags": []
   },
   "outputs": [],
   "source": [
    "import pandas as pd\n",
    "import sqlite3"
   ]
  },
  {
   "cell_type": "code",
   "execution_count": 2,
   "id": "innovative-syndrome",
   "metadata": {
    "execution": {
     "iopub.execute_input": "2021-08-15T10:00:07.498140Z",
     "iopub.status.busy": "2021-08-15T10:00:07.495760Z",
     "iopub.status.idle": "2021-08-15T10:00:07.551399Z",
     "shell.execute_reply": "2021-08-15T10:00:07.552579Z"
    },
    "papermill": {
     "duration": 0.085649,
     "end_time": "2021-08-15T10:00:07.552968",
     "exception": false,
     "start_time": "2021-08-15T10:00:07.467319",
     "status": "completed"
    },
    "tags": []
   },
   "outputs": [],
   "source": [
    "timestamps = pd.read_sql(\"select distinct record_time from EBAY_TOP_BERLIN order by record_time desc limit 2\", sqlite3.connect(\"UsedObjects.db\"))"
   ]
  },
  {
   "cell_type": "code",
   "execution_count": 3,
   "id": "periodic-identification",
   "metadata": {
    "execution": {
     "iopub.execute_input": "2021-08-15T10:00:07.620994Z",
     "iopub.status.busy": "2021-08-15T10:00:07.618959Z",
     "iopub.status.idle": "2021-08-15T10:00:07.640763Z",
     "shell.execute_reply": "2021-08-15T10:00:07.642124Z"
    },
    "papermill": {
     "duration": 0.067879,
     "end_time": "2021-08-15T10:00:07.642591",
     "exception": false,
     "start_time": "2021-08-15T10:00:07.574712",
     "status": "completed"
    },
    "tags": []
   },
   "outputs": [
    {
     "data": {
      "text/html": [
       "<div>\n",
       "<style scoped>\n",
       "    .dataframe tbody tr th:only-of-type {\n",
       "        vertical-align: middle;\n",
       "    }\n",
       "\n",
       "    .dataframe tbody tr th {\n",
       "        vertical-align: top;\n",
       "    }\n",
       "\n",
       "    .dataframe thead th {\n",
       "        text-align: right;\n",
       "    }\n",
       "</style>\n",
       "<table border=\"1\" class=\"dataframe\">\n",
       "  <thead>\n",
       "    <tr style=\"text-align: right;\">\n",
       "      <th></th>\n",
       "      <th>RECORD_TIME</th>\n",
       "    </tr>\n",
       "  </thead>\n",
       "  <tbody>\n",
       "    <tr>\n",
       "      <th>0</th>\n",
       "      <td>2021-08-15 12:00</td>\n",
       "    </tr>\n",
       "    <tr>\n",
       "      <th>1</th>\n",
       "      <td>2021-08-15 11:30</td>\n",
       "    </tr>\n",
       "  </tbody>\n",
       "</table>\n",
       "</div>"
      ],
      "text/plain": [
       "        RECORD_TIME\n",
       "0  2021-08-15 12:00\n",
       "1  2021-08-15 11:30"
      ]
     },
     "execution_count": 3,
     "metadata": {},
     "output_type": "execute_result"
    }
   ],
   "source": [
    "timestamps"
   ]
  },
  {
   "cell_type": "code",
   "execution_count": 4,
   "id": "alternate-victory",
   "metadata": {
    "execution": {
     "iopub.execute_input": "2021-08-15T10:00:07.693731Z",
     "iopub.status.busy": "2021-08-15T10:00:07.691877Z",
     "iopub.status.idle": "2021-08-15T10:00:07.772238Z",
     "shell.execute_reply": "2021-08-15T10:00:07.773498Z"
    },
    "papermill": {
     "duration": 0.110702,
     "end_time": "2021-08-15T10:00:07.774009",
     "exception": false,
     "start_time": "2021-08-15T10:00:07.663307",
     "status": "completed"
    },
    "tags": []
   },
   "outputs": [],
   "source": [
    "df = pd.read_sql(\"select * from EBAY_TOP_BERLIN where record_time in (select distinct record_time from EBAY_TOP_BERLIN order by record_time desc limit 2)\", sqlite3.connect(\"UsedObjects.db\"))"
   ]
  },
  {
   "cell_type": "code",
   "execution_count": 5,
   "id": "popular-active",
   "metadata": {
    "execution": {
     "iopub.execute_input": "2021-08-15T10:00:07.845519Z",
     "iopub.status.busy": "2021-08-15T10:00:07.833659Z",
     "iopub.status.idle": "2021-08-15T10:00:07.862975Z",
     "shell.execute_reply": "2021-08-15T10:00:07.864366Z"
    },
    "papermill": {
     "duration": 0.070073,
     "end_time": "2021-08-15T10:00:07.864794",
     "exception": false,
     "start_time": "2021-08-15T10:00:07.794721",
     "status": "completed"
    },
    "tags": []
   },
   "outputs": [],
   "source": [
    "df_pivot = df.pivot_table(index=\"PRODUCT\", columns = \"RECORD_TIME\", values = \"LISTING_COUNT\")"
   ]
  },
  {
   "cell_type": "code",
   "execution_count": 6,
   "id": "union-huntington",
   "metadata": {
    "execution": {
     "iopub.execute_input": "2021-08-15T10:00:07.921759Z",
     "iopub.status.busy": "2021-08-15T10:00:07.919714Z",
     "iopub.status.idle": "2021-08-15T10:00:07.925191Z",
     "shell.execute_reply": "2021-08-15T10:00:07.926603Z"
    },
    "papermill": {
     "duration": 0.041767,
     "end_time": "2021-08-15T10:00:07.927025",
     "exception": false,
     "start_time": "2021-08-15T10:00:07.885258",
     "status": "completed"
    },
    "tags": []
   },
   "outputs": [],
   "source": [
    "df_pivot.columns = [\"stamp_1\", \"stamp_2\"]\n",
    "df_pivot_diff = df_pivot.diff(axis=1)"
   ]
  },
  {
   "cell_type": "code",
   "execution_count": 7,
   "id": "fifth-motion",
   "metadata": {
    "execution": {
     "iopub.execute_input": "2021-08-15T10:00:07.985202Z",
     "iopub.status.busy": "2021-08-15T10:00:07.982550Z",
     "iopub.status.idle": "2021-08-15T10:00:09.483325Z",
     "shell.execute_reply": "2021-08-15T10:00:09.484595Z"
    },
    "papermill": {
     "duration": 1.534762,
     "end_time": "2021-08-15T10:00:09.485010",
     "exception": false,
     "start_time": "2021-08-15T10:00:07.950248",
     "status": "completed"
    },
    "tags": []
   },
   "outputs": [
    {
     "data": {
      "text/plain": [
       "<AxesSubplot:ylabel='PRODUCT'>"
      ]
     },
     "execution_count": 7,
     "metadata": {},
     "output_type": "execute_result"
    },
    {
     "data": {
      "image/png": "[encoded data removed]",
      "text/plain": [
       "<Figure size 432x288 with 1 Axes>"
      ]
     },
     "metadata": {
      "needs_background": "light"
     },
     "output_type": "display_data"
    }
   ],
   "source": [
    "df_pivot_diff.sort_values(\"stamp_2\", ascending = False)[\"stamp_2\"].head(10).plot.barh()"
   ]
  },
  {
   "cell_type": "code",
   "execution_count": null,
   "id": "extra-executive",
   "metadata": {
    "papermill": {
     "duration": 0.022298,
     "end_time": "2021-08-15T10:00:09.532302",
     "exception": false,
     "start_time": "2021-08-15T10:00:09.510004",
     "status": "completed"
    },
    "tags": []
   },
   "outputs": [],
   "source": []
  }
 ],
 "metadata": {
  "kernelspec": {
   "display_name": "Python 3",
   "language": "python",
   "name": "python3"
  },
  "language_info": {
   "codemirror_mode": {
    "name": "ipython",
    "version": 3
   },
   "file_extension": ".py",
   "mimetype": "text/x-python",
   "name": "python",
   "nbconvert_exporter": "python",
   "pygments_lexer": "ipython3",
   "version": "3.9.5"
  },
  "papermill": {
   "default_parameters": {},
   "duration": 6.825425,
   "end_time": "2021-08-15T10:00:10.996557",
   "environment_variables": {},
   "exception": null,
   "input_path": "eBay_Overview.ipynb",
   "output_path": "eBay_Overview.ipynb",
   "parameters": {},
   "start_time": "2021-08-15T10:00:04.171132",
   "version": "2.3.3"
  }
 },
 "nbformat": 4,
 "nbformat_minor": 5
}