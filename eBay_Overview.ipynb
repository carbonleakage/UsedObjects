{
 "cells": [
  {
   "cell_type": "code",
   "execution_count": 1,
   "id": "reverse-picking",
   "metadata": {
    "execution": {
     "iopub.execute_input": "2021-11-02T14:00:07.880383Z",
     "iopub.status.busy": "2021-11-02T14:00:07.877620Z",
     "iopub.status.idle": "2021-11-02T14:00:08.828908Z",
     "shell.execute_reply": "2021-11-02T14:00:08.831262Z"
    },
    "papermill": {
     "duration": 0.99955,
     "end_time": "2021-11-02T14:00:08.831962",
     "exception": false,
     "start_time": "2021-11-02T14:00:07.832412",
     "status": "completed"
    },
    "tags": []
   },
   "outputs": [],
   "source": [
    "import pandas as pd\n",
    "import sqlite3"
   ]
  },
  {
   "cell_type": "code",
   "execution_count": 2,
   "id": "innovative-syndrome",
   "metadata": {
    "execution": {
     "iopub.execute_input": "2021-11-02T14:00:08.893794Z",
     "iopub.status.busy": "2021-11-02T14:00:08.891565Z",
     "iopub.status.idle": "2021-11-02T14:00:09.606081Z",
     "shell.execute_reply": "2021-11-02T14:00:09.607521Z"
    },
    "papermill": {
     "duration": 0.754838,
     "end_time": "2021-11-02T14:00:09.608039",
     "exception": false,
     "start_time": "2021-11-02T14:00:08.853201",
     "status": "completed"
    },
    "tags": []
   },
   "outputs": [],
   "source": [
    "timestamps = pd.read_sql(\"select distinct record_time from EBAY_TOP_BERLIN order by record_time desc limit 2\", sqlite3.connect(\"UsedObjects.db\"))"
   ]
  },
  {
   "cell_type": "code",
   "execution_count": 3,
   "id": "periodic-identification",
   "metadata": {
    "execution": {
     "iopub.execute_input": "2021-11-02T14:00:09.683553Z",
     "iopub.status.busy": "2021-11-02T14:00:09.677907Z",
     "iopub.status.idle": "2021-11-02T14:00:09.705210Z",
     "shell.execute_reply": "2021-11-02T14:00:09.706761Z"
    },
    "papermill": {
     "duration": 0.078801,
     "end_time": "2021-11-02T14:00:09.707273",
     "exception": false,
     "start_time": "2021-11-02T14:00:09.628472",
     "status": "completed"
    },
    "tags": []
   },
   "outputs": [
    {
     "data": {
      "text/html": [
       "<div>\n",
       "<style scoped>\n",
       "    .dataframe tbody tr th:only-of-type {\n",
       "        vertical-align: middle;\n",
       "    }\n",
       "\n",
       "    .dataframe tbody tr th {\n",
       "        vertical-align: top;\n",
       "    }\n",
       "\n",
       "    .dataframe thead th {\n",
       "        text-align: right;\n",
       "    }\n",
       "</style>\n",
       "<table border=\"1\" class=\"dataframe\">\n",
       "  <thead>\n",
       "    <tr style=\"text-align: right;\">\n",
       "      <th></th>\n",
       "      <th>RECORD_TIME</th>\n",
       "    </tr>\n",
       "  </thead>\n",
       "  <tbody>\n",
       "    <tr>\n",
       "      <th>0</th>\n",
       "      <td>2021-11-02 15:00</td>\n",
       "    </tr>\n",
       "    <tr>\n",
       "      <th>1</th>\n",
       "      <td>2021-11-02 14:30</td>\n",
       "    </tr>\n",
       "  </tbody>\n",
       "</table>\n",
       "</div>"
      ],
      "text/plain": [
       "        RECORD_TIME\n",
       "0  2021-11-02 15:00\n",
       "1  2021-11-02 14:30"
      ]
     },
     "execution_count": 3,
     "metadata": {},
     "output_type": "execute_result"
    }
   ],
   "source": [
    "timestamps"
   ]
  },
  {
   "cell_type": "code",
   "execution_count": 4,
   "id": "alternate-victory",
   "metadata": {
    "execution": {
     "iopub.execute_input": "2021-11-02T14:00:09.761764Z",
     "iopub.status.busy": "2021-11-02T14:00:09.759749Z",
     "iopub.status.idle": "2021-11-02T14:00:10.778971Z",
     "shell.execute_reply": "2021-11-02T14:00:10.780456Z"
    },
    "papermill": {
     "duration": 1.051697,
     "end_time": "2021-11-02T14:00:10.781005",
     "exception": false,
     "start_time": "2021-11-02T14:00:09.729308",
     "status": "completed"
    },
    "tags": []
   },
   "outputs": [],
   "source": [
    "df = pd.read_sql(\"select * from EBAY_TOP_BERLIN where record_time in (select distinct record_time from EBAY_TOP_BERLIN order by record_time desc limit 2)\", sqlite3.connect(\"UsedObjects.db\"))"
   ]
  },
  {
   "cell_type": "code",
   "execution_count": 5,
   "id": "popular-active",
   "metadata": {
    "execution": {
     "iopub.execute_input": "2021-11-02T14:00:10.849147Z",
     "iopub.status.busy": "2021-11-02T14:00:10.846827Z",
     "iopub.status.idle": "2021-11-02T14:00:10.880104Z",
     "shell.execute_reply": "2021-11-02T14:00:10.878406Z"
    },
    "papermill": {
     "duration": 0.077295,
     "end_time": "2021-11-02T14:00:10.880553",
     "exception": false,
     "start_time": "2021-11-02T14:00:10.803258",
     "status": "completed"
    },
    "tags": []
   },
   "outputs": [],
   "source": [
    "df_pivot = df.pivot_table(index=\"PRODUCT\", columns = \"RECORD_TIME\", values = \"LISTING_COUNT\")"
   ]
  },
  {
   "cell_type": "code",
   "execution_count": 6,
   "id": "union-huntington",
   "metadata": {
    "execution": {
     "iopub.execute_input": "2021-11-02T14:00:10.944211Z",
     "iopub.status.busy": "2021-11-02T14:00:10.941746Z",
     "iopub.status.idle": "2021-11-02T14:00:10.947004Z",
     "shell.execute_reply": "2021-11-02T14:00:10.948622Z"
    },
    "papermill": {
     "duration": 0.047199,
     "end_time": "2021-11-02T14:00:10.949168",
     "exception": false,
     "start_time": "2021-11-02T14:00:10.901969",
     "status": "completed"
    },
    "tags": []
   },
   "outputs": [],
   "source": [
    "df_pivot.columns = [\"stamp_1\", \"stamp_2\"]\n",
    "df_pivot_diff = df_pivot.diff(axis=1)"
   ]
  },
  {
   "cell_type": "code",
   "execution_count": 7,
   "id": "fifth-motion",
   "metadata": {
    "execution": {
     "iopub.execute_input": "2021-11-02T14:00:11.008987Z",
     "iopub.status.busy": "2021-11-02T14:00:11.006487Z",
     "iopub.status.idle": "2021-11-02T14:00:12.787092Z",
     "shell.execute_reply": "2021-11-02T14:00:12.789304Z"
    },
    "papermill": {
     "duration": 1.819392,
     "end_time": "2021-11-02T14:00:12.789971",
     "exception": false,
     "start_time": "2021-11-02T14:00:10.970579",
     "status": "completed"
    },
    "tags": []
   },
   "outputs": [
    {
     "data": {
      "text/plain": [
       "<AxesSubplot:ylabel='PRODUCT'>"
      ]
     },
     "execution_count": 7,
     "metadata": {},
     "output_type": "execute_result"
    },
    {
     "data": {
      "image/png": "[encoded data removed]",
      "text/plain": [
       "<Figure size 432x288 with 1 Axes>"
      ]
     },
     "metadata": {
      "needs_background": "light"
     },
     "output_type": "display_data"
    }
   ],
   "source": [
    "df_pivot_diff.sort_values(\"stamp_2\", ascending = False)[\"stamp_2\"].head(10).plot.barh()"
   ]
  },
  {
   "cell_type": "code",
   "execution_count": null,
   "id": "extra-executive",
   "metadata": {
    "papermill": {
     "duration": 0.035691,
     "end_time": "2021-11-02T14:00:12.860764",
     "exception": false,
     "start_time": "2021-11-02T14:00:12.825073",
     "status": "completed"
    },
    "tags": []
   },
   "outputs": [],
   "source": []
  }
 ],
 "metadata": {
  "kernelspec": {
   "display_name": "Python 3",
   "language": "python",
   "name": "python3"
  },
  "language_info": {
   "codemirror_mode": {
    "name": "ipython",
    "version": 3
   },
   "file_extension": ".py",
   "mimetype": "text/x-python",
   "name": "python",
   "nbconvert_exporter": "python",
   "pygments_lexer": "ipython3",
   "version": "3.9.5"
  },
  "papermill": {
   "default_parameters": {},
   "duration": 8.666959,
   "end_time": "2021-11-02T14:00:13.730362",
   "environment_variables": {},
   "exception": null,
   "input_path": "eBay_Overview.ipynb",
   "output_path": "eBay_Overview.ipynb",
   "parameters": {},
   "start_time": "2021-11-02T14:00:05.063403",
   "version": "2.3.3"
  }
 },
 "nbformat": 4,
 "nbformat_minor": 5
}