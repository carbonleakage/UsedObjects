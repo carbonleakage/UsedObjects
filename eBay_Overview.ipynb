{
 "cells": [
  {
   "cell_type": "code",
   "execution_count": 1,
   "id": "reverse-picking",
   "metadata": {
    "execution": {
     "iopub.execute_input": "2021-12-05T22:00:08.097563Z",
     "iopub.status.busy": "2021-12-05T22:00:08.094793Z",
     "iopub.status.idle": "2021-12-05T22:00:09.053953Z",
     "shell.execute_reply": "2021-12-05T22:00:09.055453Z"
    },
    "papermill": {
     "duration": 1.009064,
     "end_time": "2021-12-05T22:00:09.056201",
     "exception": false,
     "start_time": "2021-12-05T22:00:08.047137",
     "status": "completed"
    },
    "tags": []
   },
   "outputs": [],
   "source": [
    "import pandas as pd\n",
    "import sqlite3"
   ]
  },
  {
   "cell_type": "code",
   "execution_count": 2,
   "id": "innovative-syndrome",
   "metadata": {
    "execution": {
     "iopub.execute_input": "2021-12-05T22:00:09.120817Z",
     "iopub.status.busy": "2021-12-05T22:00:09.117085Z",
     "iopub.status.idle": "2021-12-05T22:00:10.122817Z",
     "shell.execute_reply": "2021-12-05T22:00:10.124254Z"
    },
    "papermill": {
     "duration": 1.04072,
     "end_time": "2021-12-05T22:00:10.124814",
     "exception": false,
     "start_time": "2021-12-05T22:00:09.084094",
     "status": "completed"
    },
    "tags": []
   },
   "outputs": [],
   "source": [
    "timestamps = pd.read_sql(\"select distinct record_time from EBAY_TOP_BERLIN order by record_time desc limit 2\", sqlite3.connect(\"UsedObjects.db\"))"
   ]
  },
  {
   "cell_type": "code",
   "execution_count": 3,
   "id": "periodic-identification",
   "metadata": {
    "execution": {
     "iopub.execute_input": "2021-12-05T22:00:10.185978Z",
     "iopub.status.busy": "2021-12-05T22:00:10.183775Z",
     "iopub.status.idle": "2021-12-05T22:00:10.218148Z",
     "shell.execute_reply": "2021-12-05T22:00:10.219958Z"
    },
    "papermill": {
     "duration": 0.074822,
     "end_time": "2021-12-05T22:00:10.220479",
     "exception": false,
     "start_time": "2021-12-05T22:00:10.145657",
     "status": "completed"
    },
    "tags": []
   },
   "outputs": [
    {
     "data": {
      "text/html": [
       "<div>\n",
       "<style scoped>\n",
       "    .dataframe tbody tr th:only-of-type {\n",
       "        vertical-align: middle;\n",
       "    }\n",
       "\n",
       "    .dataframe tbody tr th {\n",
       "        vertical-align: top;\n",
       "    }\n",
       "\n",
       "    .dataframe thead th {\n",
       "        text-align: right;\n",
       "    }\n",
       "</style>\n",
       "<table border=\"1\" class=\"dataframe\">\n",
       "  <thead>\n",
       "    <tr style=\"text-align: right;\">\n",
       "      <th></th>\n",
       "      <th>RECORD_TIME</th>\n",
       "    </tr>\n",
       "  </thead>\n",
       "  <tbody>\n",
       "    <tr>\n",
       "      <th>0</th>\n",
       "      <td>2021-12-05 23:00</td>\n",
       "    </tr>\n",
       "    <tr>\n",
       "      <th>1</th>\n",
       "      <td>2021-12-05 22:30</td>\n",
       "    </tr>\n",
       "  </tbody>\n",
       "</table>\n",
       "</div>"
      ],
      "text/plain": [
       "        RECORD_TIME\n",
       "0  2021-12-05 23:00\n",
       "1  2021-12-05 22:30"
      ]
     },
     "execution_count": 3,
     "metadata": {},
     "output_type": "execute_result"
    }
   ],
   "source": [
    "timestamps"
   ]
  },
  {
   "cell_type": "code",
   "execution_count": 4,
   "id": "alternate-victory",
   "metadata": {
    "execution": {
     "iopub.execute_input": "2021-12-05T22:00:10.275997Z",
     "iopub.status.busy": "2021-12-05T22:00:10.274145Z",
     "iopub.status.idle": "2021-12-05T22:00:11.714780Z",
     "shell.execute_reply": "2021-12-05T22:00:11.716571Z"
    },
    "papermill": {
     "duration": 1.471449,
     "end_time": "2021-12-05T22:00:11.717123",
     "exception": false,
     "start_time": "2021-12-05T22:00:10.245674",
     "status": "completed"
    },
    "tags": []
   },
   "outputs": [],
   "source": [
    "df = pd.read_sql(\"select * from EBAY_TOP_BERLIN where record_time in (select distinct record_time from EBAY_TOP_BERLIN order by record_time desc limit 2)\", sqlite3.connect(\"UsedObjects.db\"))"
   ]
  },
  {
   "cell_type": "code",
   "execution_count": 5,
   "id": "popular-active",
   "metadata": {
    "execution": {
     "iopub.execute_input": "2021-12-05T22:00:11.789641Z",
     "iopub.status.busy": "2021-12-05T22:00:11.787063Z",
     "iopub.status.idle": "2021-12-05T22:00:11.815787Z",
     "shell.execute_reply": "2021-12-05T22:00:11.817402Z"
    },
    "papermill": {
     "duration": 0.080042,
     "end_time": "2021-12-05T22:00:11.817917",
     "exception": false,
     "start_time": "2021-12-05T22:00:11.737875",
     "status": "completed"
    },
    "tags": []
   },
   "outputs": [],
   "source": [
    "df_pivot = df.pivot_table(index=\"PRODUCT\", columns = \"RECORD_TIME\", values = \"LISTING_COUNT\")"
   ]
  },
  {
   "cell_type": "code",
   "execution_count": 6,
   "id": "union-huntington",
   "metadata": {
    "execution": {
     "iopub.execute_input": "2021-12-05T22:00:11.882991Z",
     "iopub.status.busy": "2021-12-05T22:00:11.880562Z",
     "iopub.status.idle": "2021-12-05T22:00:11.889619Z",
     "shell.execute_reply": "2021-12-05T22:00:11.891295Z"
    },
    "papermill": {
     "duration": 0.052087,
     "end_time": "2021-12-05T22:00:11.891859",
     "exception": false,
     "start_time": "2021-12-05T22:00:11.839772",
     "status": "completed"
    },
    "tags": []
   },
   "outputs": [],
   "source": [
    "df_pivot.columns = [\"stamp_1\", \"stamp_2\"]\n",
    "df_pivot_diff = df_pivot.diff(axis=1)"
   ]
  },
  {
   "cell_type": "code",
   "execution_count": 7,
   "id": "fifth-motion",
   "metadata": {
    "execution": {
     "iopub.execute_input": "2021-12-05T22:00:11.952261Z",
     "iopub.status.busy": "2021-12-05T22:00:11.949776Z",
     "iopub.status.idle": "2021-12-05T22:00:13.866504Z",
     "shell.execute_reply": "2021-12-05T22:00:13.868345Z"
    },
    "papermill": {
     "duration": 1.954537,
     "end_time": "2021-12-05T22:00:13.868985",
     "exception": false,
     "start_time": "2021-12-05T22:00:11.914448",
     "status": "completed"
    },
    "tags": []
   },
   "outputs": [
    {
     "data": {
      "text/plain": [
       "<AxesSubplot:ylabel='PRODUCT'>"
      ]
     },
     "execution_count": 7,
     "metadata": {},
     "output_type": "execute_result"
    },
    {
     "data": {
      "image/png": "[encoded data removed]",
      "text/plain": [
       "<Figure size 432x288 with 1 Axes>"
      ]
     },
     "metadata": {
      "needs_background": "light"
     },
     "output_type": "display_data"
    }
   ],
   "source": [
    "df_pivot_diff.sort_values(\"stamp_2\", ascending = False)[\"stamp_2\"].head(10).plot.barh()"
   ]
  },
  {
   "cell_type": "code",
   "execution_count": null,
   "id": "extra-executive",
   "metadata": {
    "papermill": {
     "duration": 0.028504,
     "end_time": "2021-12-05T22:00:13.925352",
     "exception": false,
     "start_time": "2021-12-05T22:00:13.896848",
     "status": "completed"
    },
    "tags": []
   },
   "outputs": [],
   "source": []
  }
 ],
 "metadata": {
  "kernelspec": {
   "display_name": "Python 3",
   "language": "python",
   "name": "python3"
  },
  "language_info": {
   "codemirror_mode": {
    "name": "ipython",
    "version": 3
   },
   "file_extension": ".py",
   "mimetype": "text/x-python",
   "name": "python",
   "nbconvert_exporter": "python",
   "pygments_lexer": "ipython3",
   "version": "3.9.5"
  },
  "papermill": {
   "default_parameters": {},
   "duration": 9.950673,
   "end_time": "2021-12-05T22:00:15.249870",
   "environment_variables": {},
   "exception": null,
   "input_path": "eBay_Overview.ipynb",
   "output_path": "eBay_Overview.ipynb",
   "parameters": {},
   "start_time": "2021-12-05T22:00:05.299197",
   "version": "2.3.3"
  }
 },
 "nbformat": 4,
 "nbformat_minor": 5
}