{
 "cells": [
  {
   "cell_type": "code",
   "execution_count": 1,
   "id": "reverse-picking",
   "metadata": {
    "execution": {
     "iopub.execute_input": "2021-12-21T21:30:07.535622Z",
     "iopub.status.busy": "2021-12-21T21:30:07.531827Z",
     "iopub.status.idle": "2021-12-21T21:30:08.503804Z",
     "shell.execute_reply": "2021-12-21T21:30:08.506629Z"
    },
    "papermill": {
     "duration": 1.023198,
     "end_time": "2021-12-21T21:30:08.507925",
     "exception": false,
     "start_time": "2021-12-21T21:30:07.484727",
     "status": "completed"
    },
    "tags": []
   },
   "outputs": [],
   "source": [
    "import pandas as pd\n",
    "import sqlite3"
   ]
  },
  {
   "cell_type": "code",
   "execution_count": 2,
   "id": "innovative-syndrome",
   "metadata": {
    "execution": {
     "iopub.execute_input": "2021-12-21T21:30:08.580365Z",
     "iopub.status.busy": "2021-12-21T21:30:08.577852Z",
     "iopub.status.idle": "2021-12-21T21:30:09.704809Z",
     "shell.execute_reply": "2021-12-21T21:30:09.706663Z"
    },
    "papermill": {
     "duration": 1.1614,
     "end_time": "2021-12-21T21:30:09.707135",
     "exception": false,
     "start_time": "2021-12-21T21:30:08.545735",
     "status": "completed"
    },
    "tags": []
   },
   "outputs": [],
   "source": [
    "timestamps = pd.read_sql(\"select distinct record_time from EBAY_TOP_BERLIN order by record_time desc limit 2\", sqlite3.connect(\"UsedObjects.db\"))"
   ]
  },
  {
   "cell_type": "code",
   "execution_count": 3,
   "id": "periodic-identification",
   "metadata": {
    "execution": {
     "iopub.execute_input": "2021-12-21T21:30:09.803700Z",
     "iopub.status.busy": "2021-12-21T21:30:09.801271Z",
     "iopub.status.idle": "2021-12-21T21:30:09.824820Z",
     "shell.execute_reply": "2021-12-21T21:30:09.826258Z"
    },
    "papermill": {
     "duration": 0.077026,
     "end_time": "2021-12-21T21:30:09.826734",
     "exception": false,
     "start_time": "2021-12-21T21:30:09.749708",
     "status": "completed"
    },
    "tags": []
   },
   "outputs": [
    {
     "data": {
      "text/html": [
       "<div>\n",
       "<style scoped>\n",
       "    .dataframe tbody tr th:only-of-type {\n",
       "        vertical-align: middle;\n",
       "    }\n",
       "\n",
       "    .dataframe tbody tr th {\n",
       "        vertical-align: top;\n",
       "    }\n",
       "\n",
       "    .dataframe thead th {\n",
       "        text-align: right;\n",
       "    }\n",
       "</style>\n",
       "<table border=\"1\" class=\"dataframe\">\n",
       "  <thead>\n",
       "    <tr style=\"text-align: right;\">\n",
       "      <th></th>\n",
       "      <th>RECORD_TIME</th>\n",
       "    </tr>\n",
       "  </thead>\n",
       "  <tbody>\n",
       "    <tr>\n",
       "      <th>0</th>\n",
       "      <td>2021-12-21 22:30</td>\n",
       "    </tr>\n",
       "    <tr>\n",
       "      <th>1</th>\n",
       "      <td>2021-12-21 22:00</td>\n",
       "    </tr>\n",
       "  </tbody>\n",
       "</table>\n",
       "</div>"
      ],
      "text/plain": [
       "        RECORD_TIME\n",
       "0  2021-12-21 22:30\n",
       "1  2021-12-21 22:00"
      ]
     },
     "execution_count": 3,
     "metadata": {},
     "output_type": "execute_result"
    }
   ],
   "source": [
    "timestamps"
   ]
  },
  {
   "cell_type": "code",
   "execution_count": 4,
   "id": "alternate-victory",
   "metadata": {
    "execution": {
     "iopub.execute_input": "2021-12-21T21:30:09.884414Z",
     "iopub.status.busy": "2021-12-21T21:30:09.881961Z",
     "iopub.status.idle": "2021-12-21T21:30:11.527227Z",
     "shell.execute_reply": "2021-12-21T21:30:11.529373Z"
    },
    "papermill": {
     "duration": 1.6811,
     "end_time": "2021-12-21T21:30:11.529857",
     "exception": false,
     "start_time": "2021-12-21T21:30:09.848757",
     "status": "completed"
    },
    "tags": []
   },
   "outputs": [],
   "source": [
    "df = pd.read_sql(\"select * from EBAY_TOP_BERLIN where record_time in (select distinct record_time from EBAY_TOP_BERLIN order by record_time desc limit 2)\", sqlite3.connect(\"UsedObjects.db\"))"
   ]
  },
  {
   "cell_type": "code",
   "execution_count": 5,
   "id": "popular-active",
   "metadata": {
    "execution": {
     "iopub.execute_input": "2021-12-21T21:30:11.605913Z",
     "iopub.status.busy": "2021-12-21T21:30:11.591920Z",
     "iopub.status.idle": "2021-12-21T21:30:11.623720Z",
     "shell.execute_reply": "2021-12-21T21:30:11.625202Z"
    },
    "papermill": {
     "duration": 0.074843,
     "end_time": "2021-12-21T21:30:11.625651",
     "exception": false,
     "start_time": "2021-12-21T21:30:11.550808",
     "status": "completed"
    },
    "tags": []
   },
   "outputs": [],
   "source": [
    "df_pivot = df.pivot_table(index=\"PRODUCT\", columns = \"RECORD_TIME\", values = \"LISTING_COUNT\")"
   ]
  },
  {
   "cell_type": "code",
   "execution_count": 6,
   "id": "union-huntington",
   "metadata": {
    "execution": {
     "iopub.execute_input": "2021-12-21T21:30:11.689524Z",
     "iopub.status.busy": "2021-12-21T21:30:11.687191Z",
     "iopub.status.idle": "2021-12-21T21:30:11.693215Z",
     "shell.execute_reply": "2021-12-21T21:30:11.694740Z"
    },
    "papermill": {
     "duration": 0.047812,
     "end_time": "2021-12-21T21:30:11.695208",
     "exception": false,
     "start_time": "2021-12-21T21:30:11.647396",
     "status": "completed"
    },
    "tags": []
   },
   "outputs": [],
   "source": [
    "df_pivot.columns = [\"stamp_1\", \"stamp_2\"]\n",
    "df_pivot_diff = df_pivot.diff(axis=1)"
   ]
  },
  {
   "cell_type": "code",
   "execution_count": 7,
   "id": "fifth-motion",
   "metadata": {
    "execution": {
     "iopub.execute_input": "2021-12-21T21:30:11.755589Z",
     "iopub.status.busy": "2021-12-21T21:30:11.753082Z",
     "iopub.status.idle": "2021-12-21T21:30:13.319143Z",
     "shell.execute_reply": "2021-12-21T21:30:13.320431Z"
    },
    "papermill": {
     "duration": 1.603787,
     "end_time": "2021-12-21T21:30:13.321069",
     "exception": false,
     "start_time": "2021-12-21T21:30:11.717282",
     "status": "completed"
    },
    "tags": []
   },
   "outputs": [
    {
     "data": {
      "text/plain": [
       "<AxesSubplot:ylabel='PRODUCT'>"
      ]
     },
     "execution_count": 7,
     "metadata": {},
     "output_type": "execute_result"
    },
    {
     "data": {
      "image/png": "[encoded data removed]",
      "text/plain": [
       "<Figure size 432x288 with 1 Axes>"
      ]
     },
     "metadata": {
      "needs_background": "light"
     },
     "output_type": "display_data"
    }
   ],
   "source": [
    "df_pivot_diff.sort_values(\"stamp_2\", ascending = False)[\"stamp_2\"].head(10).plot.barh()"
   ]
  },
  {
   "cell_type": "code",
   "execution_count": null,
   "id": "extra-executive",
   "metadata": {
    "papermill": {
     "duration": 0.022727,
     "end_time": "2021-12-21T21:30:13.368744",
     "exception": false,
     "start_time": "2021-12-21T21:30:13.346017",
     "status": "completed"
    },
    "tags": []
   },
   "outputs": [],
   "source": []
  }
 ],
 "metadata": {
  "kernelspec": {
   "display_name": "Python 3",
   "language": "python",
   "name": "python3"
  },
  "language_info": {
   "codemirror_mode": {
    "name": "ipython",
    "version": 3
   },
   "file_extension": ".py",
   "mimetype": "text/x-python",
   "name": "python",
   "nbconvert_exporter": "python",
   "pygments_lexer": "ipython3",
   "version": "3.9.5"
  },
  "papermill": {
   "default_parameters": {},
   "duration": 9.951795,
   "end_time": "2021-12-21T21:30:14.672753",
   "environment_variables": {},
   "exception": null,
   "input_path": "eBay_Overview.ipynb",
   "output_path": "eBay_Overview.ipynb",
   "parameters": {},
   "start_time": "2021-12-21T21:30:04.720958",
   "version": "2.3.3"
  }
 },
 "nbformat": 4,
 "nbformat_minor": 5
}