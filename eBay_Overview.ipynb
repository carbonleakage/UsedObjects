{
 "cells": [
  {
   "cell_type": "code",
   "execution_count": 1,
   "id": "reverse-picking",
   "metadata": {
    "execution": {
     "iopub.execute_input": "2021-08-17T15:00:07.200072Z",
     "iopub.status.busy": "2021-08-17T15:00:07.198125Z",
     "iopub.status.idle": "2021-08-17T15:00:08.006490Z",
     "shell.execute_reply": "2021-08-17T15:00:08.007748Z"
    },
    "papermill": {
     "duration": 0.862079,
     "end_time": "2021-08-17T15:00:08.008373",
     "exception": false,
     "start_time": "2021-08-17T15:00:07.146294",
     "status": "completed"
    },
    "tags": []
   },
   "outputs": [],
   "source": [
    "import pandas as pd\n",
    "import sqlite3"
   ]
  },
  {
   "cell_type": "code",
   "execution_count": 2,
   "id": "innovative-syndrome",
   "metadata": {
    "execution": {
     "iopub.execute_input": "2021-08-17T15:00:08.059841Z",
     "iopub.status.busy": "2021-08-17T15:00:08.057546Z",
     "iopub.status.idle": "2021-08-17T15:00:08.127082Z",
     "shell.execute_reply": "2021-08-17T15:00:08.128536Z"
    },
    "papermill": {
     "duration": 0.099112,
     "end_time": "2021-08-17T15:00:08.128986",
     "exception": false,
     "start_time": "2021-08-17T15:00:08.029874",
     "status": "completed"
    },
    "tags": []
   },
   "outputs": [],
   "source": [
    "timestamps = pd.read_sql(\"select distinct record_time from EBAY_TOP_BERLIN order by record_time desc limit 2\", sqlite3.connect(\"UsedObjects.db\"))"
   ]
  },
  {
   "cell_type": "code",
   "execution_count": 3,
   "id": "periodic-identification",
   "metadata": {
    "execution": {
     "iopub.execute_input": "2021-08-17T15:00:08.198670Z",
     "iopub.status.busy": "2021-08-17T15:00:08.193313Z",
     "iopub.status.idle": "2021-08-17T15:00:08.213717Z",
     "shell.execute_reply": "2021-08-17T15:00:08.215232Z"
    },
    "papermill": {
     "duration": 0.067247,
     "end_time": "2021-08-17T15:00:08.215679",
     "exception": false,
     "start_time": "2021-08-17T15:00:08.148432",
     "status": "completed"
    },
    "tags": []
   },
   "outputs": [
    {
     "data": {
      "text/html": [
       "<div>\n",
       "<style scoped>\n",
       "    .dataframe tbody tr th:only-of-type {\n",
       "        vertical-align: middle;\n",
       "    }\n",
       "\n",
       "    .dataframe tbody tr th {\n",
       "        vertical-align: top;\n",
       "    }\n",
       "\n",
       "    .dataframe thead th {\n",
       "        text-align: right;\n",
       "    }\n",
       "</style>\n",
       "<table border=\"1\" class=\"dataframe\">\n",
       "  <thead>\n",
       "    <tr style=\"text-align: right;\">\n",
       "      <th></th>\n",
       "      <th>RECORD_TIME</th>\n",
       "    </tr>\n",
       "  </thead>\n",
       "  <tbody>\n",
       "    <tr>\n",
       "      <th>0</th>\n",
       "      <td>2021-08-17 17:00</td>\n",
       "    </tr>\n",
       "    <tr>\n",
       "      <th>1</th>\n",
       "      <td>2021-08-17 16:30</td>\n",
       "    </tr>\n",
       "  </tbody>\n",
       "</table>\n",
       "</div>"
      ],
      "text/plain": [
       "        RECORD_TIME\n",
       "0  2021-08-17 17:00\n",
       "1  2021-08-17 16:30"
      ]
     },
     "execution_count": 3,
     "metadata": {},
     "output_type": "execute_result"
    }
   ],
   "source": [
    "timestamps"
   ]
  },
  {
   "cell_type": "code",
   "execution_count": 4,
   "id": "alternate-victory",
   "metadata": {
    "execution": {
     "iopub.execute_input": "2021-08-17T15:00:08.266734Z",
     "iopub.status.busy": "2021-08-17T15:00:08.264774Z",
     "iopub.status.idle": "2021-08-17T15:00:08.367583Z",
     "shell.execute_reply": "2021-08-17T15:00:08.368782Z"
    },
    "papermill": {
     "duration": 0.132424,
     "end_time": "2021-08-17T15:00:08.369171",
     "exception": false,
     "start_time": "2021-08-17T15:00:08.236747",
     "status": "completed"
    },
    "tags": []
   },
   "outputs": [],
   "source": [
    "df = pd.read_sql(\"select * from EBAY_TOP_BERLIN where record_time in (select distinct record_time from EBAY_TOP_BERLIN order by record_time desc limit 2)\", sqlite3.connect(\"UsedObjects.db\"))"
   ]
  },
  {
   "cell_type": "code",
   "execution_count": 5,
   "id": "popular-active",
   "metadata": {
    "execution": {
     "iopub.execute_input": "2021-08-17T15:00:08.438130Z",
     "iopub.status.busy": "2021-08-17T15:00:08.426323Z",
     "iopub.status.idle": "2021-08-17T15:00:08.455652Z",
     "shell.execute_reply": "2021-08-17T15:00:08.457009Z"
    },
    "papermill": {
     "duration": 0.068029,
     "end_time": "2021-08-17T15:00:08.457438",
     "exception": false,
     "start_time": "2021-08-17T15:00:08.389409",
     "status": "completed"
    },
    "tags": []
   },
   "outputs": [],
   "source": [
    "df_pivot = df.pivot_table(index=\"PRODUCT\", columns = \"RECORD_TIME\", values = \"LISTING_COUNT\")"
   ]
  },
  {
   "cell_type": "code",
   "execution_count": 6,
   "id": "union-huntington",
   "metadata": {
    "execution": {
     "iopub.execute_input": "2021-08-17T15:00:08.513351Z",
     "iopub.status.busy": "2021-08-17T15:00:08.511213Z",
     "iopub.status.idle": "2021-08-17T15:00:08.516558Z",
     "shell.execute_reply": "2021-08-17T15:00:08.517820Z"
    },
    "papermill": {
     "duration": 0.040769,
     "end_time": "2021-08-17T15:00:08.518294",
     "exception": false,
     "start_time": "2021-08-17T15:00:08.477525",
     "status": "completed"
    },
    "tags": []
   },
   "outputs": [],
   "source": [
    "df_pivot.columns = [\"stamp_1\", \"stamp_2\"]\n",
    "df_pivot_diff = df_pivot.diff(axis=1)"
   ]
  },
  {
   "cell_type": "code",
   "execution_count": 7,
   "id": "fifth-motion",
   "metadata": {
    "execution": {
     "iopub.execute_input": "2021-08-17T15:00:08.572756Z",
     "iopub.status.busy": "2021-08-17T15:00:08.570382Z",
     "iopub.status.idle": "2021-08-17T15:00:10.061602Z",
     "shell.execute_reply": "2021-08-17T15:00:10.063066Z"
    },
    "papermill": {
     "duration": 1.524799,
     "end_time": "2021-08-17T15:00:10.063510",
     "exception": false,
     "start_time": "2021-08-17T15:00:08.538711",
     "status": "completed"
    },
    "tags": []
   },
   "outputs": [
    {
     "data": {
      "text/plain": [
       "<AxesSubplot:ylabel='PRODUCT'>"
      ]
     },
     "execution_count": 7,
     "metadata": {},
     "output_type": "execute_result"
    },
    {
     "data": {
      "image/png": "[encoded data removed]",
      "text/plain": [
       "<Figure size 432x288 with 1 Axes>"
      ]
     },
     "metadata": {
      "needs_background": "light"
     },
     "output_type": "display_data"
    }
   ],
   "source": [
    "df_pivot_diff.sort_values(\"stamp_2\", ascending = False)[\"stamp_2\"].head(10).plot.barh()"
   ]
  },
  {
   "cell_type": "code",
   "execution_count": null,
   "id": "extra-executive",
   "metadata": {
    "papermill": {
     "duration": 0.022091,
     "end_time": "2021-08-17T15:00:10.109265",
     "exception": false,
     "start_time": "2021-08-17T15:00:10.087174",
     "status": "completed"
    },
    "tags": []
   },
   "outputs": [],
   "source": []
  }
 ],
 "metadata": {
  "kernelspec": {
   "display_name": "Python 3",
   "language": "python",
   "name": "python3"
  },
  "language_info": {
   "codemirror_mode": {
    "name": "ipython",
    "version": 3
   },
   "file_extension": ".py",
   "mimetype": "text/x-python",
   "name": "python",
   "nbconvert_exporter": "python",
   "pygments_lexer": "ipython3",
   "version": "3.9.5"
  },
  "papermill": {
   "default_parameters": {},
   "duration": 6.827134,
   "end_time": "2021-08-17T15:00:11.561140",
   "environment_variables": {},
   "exception": null,
   "input_path": "eBay_Overview.ipynb",
   "output_path": "eBay_Overview.ipynb",
   "parameters": {},
   "start_time": "2021-08-17T15:00:04.734006",
   "version": "2.3.3"
  }
 },
 "nbformat": 4,
 "nbformat_minor": 5
}