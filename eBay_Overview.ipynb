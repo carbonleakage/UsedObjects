{
 "cells": [
  {
   "cell_type": "code",
   "execution_count": 1,
   "id": "reverse-picking",
   "metadata": {
    "execution": {
     "iopub.execute_input": "2021-09-06T13:00:06.955684Z",
     "iopub.status.busy": "2021-09-06T13:00:06.953685Z",
     "iopub.status.idle": "2021-09-06T13:00:07.762230Z",
     "shell.execute_reply": "2021-09-06T13:00:07.760678Z"
    },
    "papermill": {
     "duration": 0.858633,
     "end_time": "2021-09-06T13:00:07.762621",
     "exception": false,
     "start_time": "2021-09-06T13:00:06.903988",
     "status": "completed"
    },
    "tags": []
   },
   "outputs": [],
   "source": [
    "import pandas as pd\n",
    "import sqlite3"
   ]
  },
  {
   "cell_type": "code",
   "execution_count": 2,
   "id": "innovative-syndrome",
   "metadata": {
    "execution": {
     "iopub.execute_input": "2021-09-06T13:00:07.814348Z",
     "iopub.status.busy": "2021-09-06T13:00:07.812493Z",
     "iopub.status.idle": "2021-09-06T13:00:08.037227Z",
     "shell.execute_reply": "2021-09-06T13:00:08.038435Z"
    },
    "papermill": {
     "duration": 0.254417,
     "end_time": "2021-09-06T13:00:08.038833",
     "exception": false,
     "start_time": "2021-09-06T13:00:07.784416",
     "status": "completed"
    },
    "tags": []
   },
   "outputs": [],
   "source": [
    "timestamps = pd.read_sql(\"select distinct record_time from EBAY_TOP_BERLIN order by record_time desc limit 2\", sqlite3.connect(\"UsedObjects.db\"))"
   ]
  },
  {
   "cell_type": "code",
   "execution_count": 3,
   "id": "periodic-identification",
   "metadata": {
    "execution": {
     "iopub.execute_input": "2021-09-06T13:00:08.102341Z",
     "iopub.status.busy": "2021-09-06T13:00:08.100325Z",
     "iopub.status.idle": "2021-09-06T13:00:08.120519Z",
     "shell.execute_reply": "2021-09-06T13:00:08.121810Z"
    },
    "papermill": {
     "duration": 0.063703,
     "end_time": "2021-09-06T13:00:08.122222",
     "exception": false,
     "start_time": "2021-09-06T13:00:08.058519",
     "status": "completed"
    },
    "tags": []
   },
   "outputs": [
    {
     "data": {
      "text/html": [
       "<div>\n",
       "<style scoped>\n",
       "    .dataframe tbody tr th:only-of-type {\n",
       "        vertical-align: middle;\n",
       "    }\n",
       "\n",
       "    .dataframe tbody tr th {\n",
       "        vertical-align: top;\n",
       "    }\n",
       "\n",
       "    .dataframe thead th {\n",
       "        text-align: right;\n",
       "    }\n",
       "</style>\n",
       "<table border=\"1\" class=\"dataframe\">\n",
       "  <thead>\n",
       "    <tr style=\"text-align: right;\">\n",
       "      <th></th>\n",
       "      <th>RECORD_TIME</th>\n",
       "    </tr>\n",
       "  </thead>\n",
       "  <tbody>\n",
       "    <tr>\n",
       "      <th>0</th>\n",
       "      <td>2021-09-06 15:00</td>\n",
       "    </tr>\n",
       "    <tr>\n",
       "      <th>1</th>\n",
       "      <td>2021-09-06 14:30</td>\n",
       "    </tr>\n",
       "  </tbody>\n",
       "</table>\n",
       "</div>"
      ],
      "text/plain": [
       "        RECORD_TIME\n",
       "0  2021-09-06 15:00\n",
       "1  2021-09-06 14:30"
      ]
     },
     "execution_count": 3,
     "metadata": {},
     "output_type": "execute_result"
    }
   ],
   "source": [
    "timestamps"
   ]
  },
  {
   "cell_type": "code",
   "execution_count": 4,
   "id": "alternate-victory",
   "metadata": {
    "execution": {
     "iopub.execute_input": "2021-09-06T13:00:08.174657Z",
     "iopub.status.busy": "2021-09-06T13:00:08.172383Z",
     "iopub.status.idle": "2021-09-06T13:00:08.505557Z",
     "shell.execute_reply": "2021-09-06T13:00:08.506777Z"
    },
    "papermill": {
     "duration": 0.363736,
     "end_time": "2021-09-06T13:00:08.507282",
     "exception": false,
     "start_time": "2021-09-06T13:00:08.143546",
     "status": "completed"
    },
    "tags": []
   },
   "outputs": [],
   "source": [
    "df = pd.read_sql(\"select * from EBAY_TOP_BERLIN where record_time in (select distinct record_time from EBAY_TOP_BERLIN order by record_time desc limit 2)\", sqlite3.connect(\"UsedObjects.db\"))"
   ]
  },
  {
   "cell_type": "code",
   "execution_count": 5,
   "id": "popular-active",
   "metadata": {
    "execution": {
     "iopub.execute_input": "2021-09-06T13:00:08.588042Z",
     "iopub.status.busy": "2021-09-06T13:00:08.576174Z",
     "iopub.status.idle": "2021-09-06T13:00:08.603438Z",
     "shell.execute_reply": "2021-09-06T13:00:08.604674Z"
    },
    "papermill": {
     "duration": 0.071255,
     "end_time": "2021-09-06T13:00:08.605069",
     "exception": false,
     "start_time": "2021-09-06T13:00:08.533814",
     "status": "completed"
    },
    "tags": []
   },
   "outputs": [],
   "source": [
    "df_pivot = df.pivot_table(index=\"PRODUCT\", columns = \"RECORD_TIME\", values = \"LISTING_COUNT\")"
   ]
  },
  {
   "cell_type": "code",
   "execution_count": 6,
   "id": "union-huntington",
   "metadata": {
    "execution": {
     "iopub.execute_input": "2021-09-06T13:00:08.661336Z",
     "iopub.status.busy": "2021-09-06T13:00:08.659247Z",
     "iopub.status.idle": "2021-09-06T13:00:08.664208Z",
     "shell.execute_reply": "2021-09-06T13:00:08.665413Z"
    },
    "papermill": {
     "duration": 0.039993,
     "end_time": "2021-09-06T13:00:08.665842",
     "exception": false,
     "start_time": "2021-09-06T13:00:08.625849",
     "status": "completed"
    },
    "tags": []
   },
   "outputs": [],
   "source": [
    "df_pivot.columns = [\"stamp_1\", \"stamp_2\"]\n",
    "df_pivot_diff = df_pivot.diff(axis=1)"
   ]
  },
  {
   "cell_type": "code",
   "execution_count": 7,
   "id": "fifth-motion",
   "metadata": {
    "execution": {
     "iopub.execute_input": "2021-09-06T13:00:08.720209Z",
     "iopub.status.busy": "2021-09-06T13:00:08.717667Z",
     "iopub.status.idle": "2021-09-06T13:00:10.181570Z",
     "shell.execute_reply": "2021-09-06T13:00:10.183043Z"
    },
    "papermill": {
     "duration": 1.497157,
     "end_time": "2021-09-06T13:00:10.183528",
     "exception": false,
     "start_time": "2021-09-06T13:00:08.686371",
     "status": "completed"
    },
    "tags": []
   },
   "outputs": [
    {
     "data": {
      "text/plain": [
       "<AxesSubplot:ylabel='PRODUCT'>"
      ]
     },
     "execution_count": 7,
     "metadata": {},
     "output_type": "execute_result"
    },
    {
     "data": {
      "image/png": "[encoded data removed]",
      "text/plain": [
       "<Figure size 432x288 with 1 Axes>"
      ]
     },
     "metadata": {
      "needs_background": "light"
     },
     "output_type": "display_data"
    }
   ],
   "source": [
    "df_pivot_diff.sort_values(\"stamp_2\", ascending = False)[\"stamp_2\"].head(10).plot.barh()"
   ]
  },
  {
   "cell_type": "code",
   "execution_count": null,
   "id": "extra-executive",
   "metadata": {
    "papermill": {
     "duration": 0.022353,
     "end_time": "2021-09-06T13:00:10.230492",
     "exception": false,
     "start_time": "2021-09-06T13:00:10.208139",
     "status": "completed"
    },
    "tags": []
   },
   "outputs": [],
   "source": []
  }
 ],
 "metadata": {
  "kernelspec": {
   "display_name": "Python 3",
   "language": "python",
   "name": "python3"
  },
  "language_info": {
   "codemirror_mode": {
    "name": "ipython",
    "version": 3
   },
   "file_extension": ".py",
   "mimetype": "text/x-python",
   "name": "python",
   "nbconvert_exporter": "python",
   "pygments_lexer": "ipython3",
   "version": "3.9.5"
  },
  "papermill": {
   "default_parameters": {},
   "duration": 6.372762,
   "end_time": "2021-09-06T13:00:10.873445",
   "environment_variables": {},
   "exception": null,
   "input_path": "eBay_Overview.ipynb",
   "output_path": "eBay_Overview.ipynb",
   "parameters": {},
   "start_time": "2021-09-06T13:00:04.500683",
   "version": "2.3.3"
  }
 },
 "nbformat": 4,
 "nbformat_minor": 5
}