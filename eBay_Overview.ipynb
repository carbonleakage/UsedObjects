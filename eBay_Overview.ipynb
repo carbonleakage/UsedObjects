{
 "cells": [
  {
   "cell_type": "code",
   "execution_count": 1,
   "id": "reverse-picking",
   "metadata": {
    "execution": {
     "iopub.execute_input": "2021-10-18T02:30:07.338259Z",
     "iopub.status.busy": "2021-10-18T02:30:07.336217Z",
     "iopub.status.idle": "2021-10-18T02:30:08.143247Z",
     "shell.execute_reply": "2021-10-18T02:30:08.144510Z"
    },
    "papermill": {
     "duration": 0.857927,
     "end_time": "2021-10-18T02:30:08.145317",
     "exception": false,
     "start_time": "2021-10-18T02:30:07.287390",
     "status": "completed"
    },
    "tags": []
   },
   "outputs": [],
   "source": [
    "import pandas as pd\n",
    "import sqlite3"
   ]
  },
  {
   "cell_type": "code",
   "execution_count": 2,
   "id": "innovative-syndrome",
   "metadata": {
    "execution": {
     "iopub.execute_input": "2021-10-18T02:30:08.198375Z",
     "iopub.status.busy": "2021-10-18T02:30:08.195995Z",
     "iopub.status.idle": "2021-10-18T02:30:08.763041Z",
     "shell.execute_reply": "2021-10-18T02:30:08.764237Z"
    },
    "papermill": {
     "duration": 0.597271,
     "end_time": "2021-10-18T02:30:08.764636",
     "exception": false,
     "start_time": "2021-10-18T02:30:08.167365",
     "status": "completed"
    },
    "tags": []
   },
   "outputs": [],
   "source": [
    "timestamps = pd.read_sql(\"select distinct record_time from EBAY_TOP_BERLIN order by record_time desc limit 2\", sqlite3.connect(\"UsedObjects.db\"))"
   ]
  },
  {
   "cell_type": "code",
   "execution_count": 3,
   "id": "periodic-identification",
   "metadata": {
    "execution": {
     "iopub.execute_input": "2021-10-18T02:30:08.844132Z",
     "iopub.status.busy": "2021-10-18T02:30:08.842076Z",
     "iopub.status.idle": "2021-10-18T02:30:08.862070Z",
     "shell.execute_reply": "2021-10-18T02:30:08.863319Z"
    },
    "papermill": {
     "duration": 0.071055,
     "end_time": "2021-10-18T02:30:08.863719",
     "exception": false,
     "start_time": "2021-10-18T02:30:08.792664",
     "status": "completed"
    },
    "tags": []
   },
   "outputs": [
    {
     "data": {
      "text/html": [
       "<div>\n",
       "<style scoped>\n",
       "    .dataframe tbody tr th:only-of-type {\n",
       "        vertical-align: middle;\n",
       "    }\n",
       "\n",
       "    .dataframe tbody tr th {\n",
       "        vertical-align: top;\n",
       "    }\n",
       "\n",
       "    .dataframe thead th {\n",
       "        text-align: right;\n",
       "    }\n",
       "</style>\n",
       "<table border=\"1\" class=\"dataframe\">\n",
       "  <thead>\n",
       "    <tr style=\"text-align: right;\">\n",
       "      <th></th>\n",
       "      <th>RECORD_TIME</th>\n",
       "    </tr>\n",
       "  </thead>\n",
       "  <tbody>\n",
       "    <tr>\n",
       "      <th>0</th>\n",
       "      <td>2021-10-18 04:30</td>\n",
       "    </tr>\n",
       "    <tr>\n",
       "      <th>1</th>\n",
       "      <td>2021-10-18 04:00</td>\n",
       "    </tr>\n",
       "  </tbody>\n",
       "</table>\n",
       "</div>"
      ],
      "text/plain": [
       "        RECORD_TIME\n",
       "0  2021-10-18 04:30\n",
       "1  2021-10-18 04:00"
      ]
     },
     "execution_count": 3,
     "metadata": {},
     "output_type": "execute_result"
    }
   ],
   "source": [
    "timestamps"
   ]
  },
  {
   "cell_type": "code",
   "execution_count": 4,
   "id": "alternate-victory",
   "metadata": {
    "execution": {
     "iopub.execute_input": "2021-10-18T02:30:08.914494Z",
     "iopub.status.busy": "2021-10-18T02:30:08.912265Z",
     "iopub.status.idle": "2021-10-18T02:30:09.755113Z",
     "shell.execute_reply": "2021-10-18T02:30:09.756390Z"
    },
    "papermill": {
     "duration": 0.87263,
     "end_time": "2021-10-18T02:30:09.756887",
     "exception": false,
     "start_time": "2021-10-18T02:30:08.884257",
     "status": "completed"
    },
    "tags": []
   },
   "outputs": [],
   "source": [
    "df = pd.read_sql(\"select * from EBAY_TOP_BERLIN where record_time in (select distinct record_time from EBAY_TOP_BERLIN order by record_time desc limit 2)\", sqlite3.connect(\"UsedObjects.db\"))"
   ]
  },
  {
   "cell_type": "code",
   "execution_count": 5,
   "id": "popular-active",
   "metadata": {
    "execution": {
     "iopub.execute_input": "2021-10-18T02:30:09.822027Z",
     "iopub.status.busy": "2021-10-18T02:30:09.814661Z",
     "iopub.status.idle": "2021-10-18T02:30:09.842604Z",
     "shell.execute_reply": "2021-10-18T02:30:09.843832Z"
    },
    "papermill": {
     "duration": 0.066688,
     "end_time": "2021-10-18T02:30:09.844227",
     "exception": false,
     "start_time": "2021-10-18T02:30:09.777539",
     "status": "completed"
    },
    "tags": []
   },
   "outputs": [],
   "source": [
    "df_pivot = df.pivot_table(index=\"PRODUCT\", columns = \"RECORD_TIME\", values = \"LISTING_COUNT\")"
   ]
  },
  {
   "cell_type": "code",
   "execution_count": 6,
   "id": "union-huntington",
   "metadata": {
    "execution": {
     "iopub.execute_input": "2021-10-18T02:30:09.903189Z",
     "iopub.status.busy": "2021-10-18T02:30:09.900737Z",
     "iopub.status.idle": "2021-10-18T02:30:09.906873Z",
     "shell.execute_reply": "2021-10-18T02:30:09.908159Z"
    },
    "papermill": {
     "duration": 0.042228,
     "end_time": "2021-10-18T02:30:09.908576",
     "exception": false,
     "start_time": "2021-10-18T02:30:09.866348",
     "status": "completed"
    },
    "tags": []
   },
   "outputs": [],
   "source": [
    "df_pivot.columns = [\"stamp_1\", \"stamp_2\"]\n",
    "df_pivot_diff = df_pivot.diff(axis=1)"
   ]
  },
  {
   "cell_type": "code",
   "execution_count": 7,
   "id": "fifth-motion",
   "metadata": {
    "execution": {
     "iopub.execute_input": "2021-10-18T02:30:09.962665Z",
     "iopub.status.busy": "2021-10-18T02:30:09.960184Z",
     "iopub.status.idle": "2021-10-18T02:30:11.454302Z",
     "shell.execute_reply": "2021-10-18T02:30:11.455607Z"
    },
    "papermill": {
     "duration": 1.527006,
     "end_time": "2021-10-18T02:30:11.456025",
     "exception": false,
     "start_time": "2021-10-18T02:30:09.929019",
     "status": "completed"
    },
    "tags": []
   },
   "outputs": [
    {
     "data": {
      "text/plain": [
       "<AxesSubplot:ylabel='PRODUCT'>"
      ]
     },
     "execution_count": 7,
     "metadata": {},
     "output_type": "execute_result"
    },
    {
     "data": {
      "image/png": "[encoded data removed]",
      "text/plain": [
       "<Figure size 432x288 with 1 Axes>"
      ]
     },
     "metadata": {
      "needs_background": "light"
     },
     "output_type": "display_data"
    }
   ],
   "source": [
    "df_pivot_diff.sort_values(\"stamp_2\", ascending = False)[\"stamp_2\"].head(10).plot.barh()"
   ]
  },
  {
   "cell_type": "code",
   "execution_count": null,
   "id": "extra-executive",
   "metadata": {
    "papermill": {
     "duration": 0.021838,
     "end_time": "2021-10-18T02:30:11.503112",
     "exception": false,
     "start_time": "2021-10-18T02:30:11.481274",
     "status": "completed"
    },
    "tags": []
   },
   "outputs": [],
   "source": []
  }
 ],
 "metadata": {
  "kernelspec": {
   "display_name": "Python 3",
   "language": "python",
   "name": "python3"
  },
  "language_info": {
   "codemirror_mode": {
    "name": "ipython",
    "version": 3
   },
   "file_extension": ".py",
   "mimetype": "text/x-python",
   "name": "python",
   "nbconvert_exporter": "python",
   "pygments_lexer": "ipython3",
   "version": "3.9.5"
  },
  "papermill": {
   "default_parameters": {},
   "duration": 7.819034,
   "end_time": "2021-10-18T02:30:12.703112",
   "environment_variables": {},
   "exception": null,
   "input_path": "eBay_Overview.ipynb",
   "output_path": "eBay_Overview.ipynb",
   "parameters": {},
   "start_time": "2021-10-18T02:30:04.884078",
   "version": "2.3.3"
  }
 },
 "nbformat": 4,
 "nbformat_minor": 5
}