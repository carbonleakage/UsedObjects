{
 "cells": [
  {
   "cell_type": "code",
   "execution_count": 1,
   "id": "reverse-picking",
   "metadata": {
    "execution": {
     "iopub.execute_input": "2021-12-12T20:30:07.701787Z",
     "iopub.status.busy": "2021-12-12T20:30:07.699518Z",
     "iopub.status.idle": "2021-12-12T20:30:08.651209Z",
     "shell.execute_reply": "2021-12-12T20:30:08.652868Z"
    },
    "papermill": {
     "duration": 1.000554,
     "end_time": "2021-12-12T20:30:08.653599",
     "exception": false,
     "start_time": "2021-12-12T20:30:07.653045",
     "status": "completed"
    },
    "tags": []
   },
   "outputs": [],
   "source": [
    "import pandas as pd\n",
    "import sqlite3"
   ]
  },
  {
   "cell_type": "code",
   "execution_count": 2,
   "id": "innovative-syndrome",
   "metadata": {
    "execution": {
     "iopub.execute_input": "2021-12-12T20:30:08.716035Z",
     "iopub.status.busy": "2021-12-12T20:30:08.713866Z",
     "iopub.status.idle": "2021-12-12T20:30:09.783020Z",
     "shell.execute_reply": "2021-12-12T20:30:09.784487Z"
    },
    "papermill": {
     "duration": 1.103076,
     "end_time": "2021-12-12T20:30:09.785000",
     "exception": false,
     "start_time": "2021-12-12T20:30:08.681924",
     "status": "completed"
    },
    "tags": []
   },
   "outputs": [],
   "source": [
    "timestamps = pd.read_sql(\"select distinct record_time from EBAY_TOP_BERLIN order by record_time desc limit 2\", sqlite3.connect(\"UsedObjects.db\"))"
   ]
  },
  {
   "cell_type": "code",
   "execution_count": 3,
   "id": "periodic-identification",
   "metadata": {
    "execution": {
     "iopub.execute_input": "2021-12-12T20:30:09.860040Z",
     "iopub.status.busy": "2021-12-12T20:30:09.853637Z",
     "iopub.status.idle": "2021-12-12T20:30:09.876944Z",
     "shell.execute_reply": "2021-12-12T20:30:09.878483Z"
    },
    "papermill": {
     "duration": 0.073864,
     "end_time": "2021-12-12T20:30:09.878979",
     "exception": false,
     "start_time": "2021-12-12T20:30:09.805115",
     "status": "completed"
    },
    "tags": []
   },
   "outputs": [
    {
     "data": {
      "text/html": [
       "<div>\n",
       "<style scoped>\n",
       "    .dataframe tbody tr th:only-of-type {\n",
       "        vertical-align: middle;\n",
       "    }\n",
       "\n",
       "    .dataframe tbody tr th {\n",
       "        vertical-align: top;\n",
       "    }\n",
       "\n",
       "    .dataframe thead th {\n",
       "        text-align: right;\n",
       "    }\n",
       "</style>\n",
       "<table border=\"1\" class=\"dataframe\">\n",
       "  <thead>\n",
       "    <tr style=\"text-align: right;\">\n",
       "      <th></th>\n",
       "      <th>RECORD_TIME</th>\n",
       "    </tr>\n",
       "  </thead>\n",
       "  <tbody>\n",
       "    <tr>\n",
       "      <th>0</th>\n",
       "      <td>2021-12-12 21:30</td>\n",
       "    </tr>\n",
       "    <tr>\n",
       "      <th>1</th>\n",
       "      <td>2021-12-12 21:00</td>\n",
       "    </tr>\n",
       "  </tbody>\n",
       "</table>\n",
       "</div>"
      ],
      "text/plain": [
       "        RECORD_TIME\n",
       "0  2021-12-12 21:30\n",
       "1  2021-12-12 21:00"
      ]
     },
     "execution_count": 3,
     "metadata": {},
     "output_type": "execute_result"
    }
   ],
   "source": [
    "timestamps"
   ]
  },
  {
   "cell_type": "code",
   "execution_count": 4,
   "id": "alternate-victory",
   "metadata": {
    "execution": {
     "iopub.execute_input": "2021-12-12T20:30:09.936463Z",
     "iopub.status.busy": "2021-12-12T20:30:09.934342Z",
     "iopub.status.idle": "2021-12-12T20:30:11.481065Z",
     "shell.execute_reply": "2021-12-12T20:30:11.482457Z"
    },
    "papermill": {
     "duration": 1.580999,
     "end_time": "2021-12-12T20:30:11.482897",
     "exception": false,
     "start_time": "2021-12-12T20:30:09.901898",
     "status": "completed"
    },
    "tags": []
   },
   "outputs": [],
   "source": [
    "df = pd.read_sql(\"select * from EBAY_TOP_BERLIN where record_time in (select distinct record_time from EBAY_TOP_BERLIN order by record_time desc limit 2)\", sqlite3.connect(\"UsedObjects.db\"))"
   ]
  },
  {
   "cell_type": "code",
   "execution_count": 5,
   "id": "popular-active",
   "metadata": {
    "execution": {
     "iopub.execute_input": "2021-12-12T20:30:11.550317Z",
     "iopub.status.busy": "2021-12-12T20:30:11.546003Z",
     "iopub.status.idle": "2021-12-12T20:30:11.582492Z",
     "shell.execute_reply": "2021-12-12T20:30:11.580816Z"
    },
    "papermill": {
     "duration": 0.078219,
     "end_time": "2021-12-12T20:30:11.582953",
     "exception": false,
     "start_time": "2021-12-12T20:30:11.504734",
     "status": "completed"
    },
    "tags": []
   },
   "outputs": [],
   "source": [
    "df_pivot = df.pivot_table(index=\"PRODUCT\", columns = \"RECORD_TIME\", values = \"LISTING_COUNT\")"
   ]
  },
  {
   "cell_type": "code",
   "execution_count": 6,
   "id": "union-huntington",
   "metadata": {
    "execution": {
     "iopub.execute_input": "2021-12-12T20:30:11.643847Z",
     "iopub.status.busy": "2021-12-12T20:30:11.641680Z",
     "iopub.status.idle": "2021-12-12T20:30:11.647271Z",
     "shell.execute_reply": "2021-12-12T20:30:11.648792Z"
    },
    "papermill": {
     "duration": 0.044546,
     "end_time": "2021-12-12T20:30:11.649271",
     "exception": false,
     "start_time": "2021-12-12T20:30:11.604725",
     "status": "completed"
    },
    "tags": []
   },
   "outputs": [],
   "source": [
    "df_pivot.columns = [\"stamp_1\", \"stamp_2\"]\n",
    "df_pivot_diff = df_pivot.diff(axis=1)"
   ]
  },
  {
   "cell_type": "code",
   "execution_count": 7,
   "id": "fifth-motion",
   "metadata": {
    "execution": {
     "iopub.execute_input": "2021-12-12T20:30:11.704859Z",
     "iopub.status.busy": "2021-12-12T20:30:11.702332Z",
     "iopub.status.idle": "2021-12-12T20:30:13.643495Z",
     "shell.execute_reply": "2021-12-12T20:30:13.646295Z"
    },
    "papermill": {
     "duration": 1.978154,
     "end_time": "2021-12-12T20:30:13.647081",
     "exception": false,
     "start_time": "2021-12-12T20:30:11.668927",
     "status": "completed"
    },
    "tags": []
   },
   "outputs": [
    {
     "data": {
      "text/plain": [
       "<AxesSubplot:ylabel='PRODUCT'>"
      ]
     },
     "execution_count": 7,
     "metadata": {},
     "output_type": "execute_result"
    },
    {
     "data": {
      "image/png": "[encoded data removed]",
      "text/plain": [
       "<Figure size 432x288 with 1 Axes>"
      ]
     },
     "metadata": {
      "needs_background": "light"
     },
     "output_type": "display_data"
    }
   ],
   "source": [
    "df_pivot_diff.sort_values(\"stamp_2\", ascending = False)[\"stamp_2\"].head(10).plot.barh()"
   ]
  },
  {
   "cell_type": "code",
   "execution_count": null,
   "id": "extra-executive",
   "metadata": {
    "papermill": {
     "duration": 0.032116,
     "end_time": "2021-12-12T20:30:13.722297",
     "exception": false,
     "start_time": "2021-12-12T20:30:13.690181",
     "status": "completed"
    },
    "tags": []
   },
   "outputs": [],
   "source": []
  }
 ],
 "metadata": {
  "kernelspec": {
   "display_name": "Python 3",
   "language": "python",
   "name": "python3"
  },
  "language_info": {
   "codemirror_mode": {
    "name": "ipython",
    "version": 3
   },
   "file_extension": ".py",
   "mimetype": "text/x-python",
   "name": "python",
   "nbconvert_exporter": "python",
   "pygments_lexer": "ipython3",
   "version": "3.9.5"
  },
  "papermill": {
   "default_parameters": {},
   "duration": 9.629506,
   "end_time": "2021-12-12T20:30:14.489668",
   "environment_variables": {},
   "exception": null,
   "input_path": "eBay_Overview.ipynb",
   "output_path": "eBay_Overview.ipynb",
   "parameters": {},
   "start_time": "2021-12-12T20:30:04.860162",
   "version": "2.3.3"
  }
 },
 "nbformat": 4,
 "nbformat_minor": 5
}