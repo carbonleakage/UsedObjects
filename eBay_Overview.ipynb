{
 "cells": [
  {
   "cell_type": "code",
   "execution_count": 1,
   "id": "reverse-picking",
   "metadata": {
    "execution": {
     "iopub.execute_input": "2021-09-24T18:30:07.276515Z",
     "iopub.status.busy": "2021-09-24T18:30:07.274521Z",
     "iopub.status.idle": "2021-09-24T18:30:08.076287Z",
     "shell.execute_reply": "2021-09-24T18:30:08.077511Z"
    },
    "papermill": {
     "duration": 0.852069,
     "end_time": "2021-09-24T18:30:08.078121",
     "exception": false,
     "start_time": "2021-09-24T18:30:07.226052",
     "status": "completed"
    },
    "tags": []
   },
   "outputs": [],
   "source": [
    "import pandas as pd\n",
    "import sqlite3"
   ]
  },
  {
   "cell_type": "code",
   "execution_count": 2,
   "id": "innovative-syndrome",
   "metadata": {
    "execution": {
     "iopub.execute_input": "2021-09-24T18:30:08.129880Z",
     "iopub.status.busy": "2021-09-24T18:30:08.128015Z",
     "iopub.status.idle": "2021-09-24T18:30:08.491019Z",
     "shell.execute_reply": "2021-09-24T18:30:08.492419Z"
    },
    "papermill": {
     "duration": 0.392738,
     "end_time": "2021-09-24T18:30:08.492850",
     "exception": false,
     "start_time": "2021-09-24T18:30:08.100112",
     "status": "completed"
    },
    "tags": []
   },
   "outputs": [],
   "source": [
    "timestamps = pd.read_sql(\"select distinct record_time from EBAY_TOP_BERLIN order by record_time desc limit 2\", sqlite3.connect(\"UsedObjects.db\"))"
   ]
  },
  {
   "cell_type": "code",
   "execution_count": 3,
   "id": "periodic-identification",
   "metadata": {
    "execution": {
     "iopub.execute_input": "2021-09-24T18:30:08.559808Z",
     "iopub.status.busy": "2021-09-24T18:30:08.557985Z",
     "iopub.status.idle": "2021-09-24T18:30:08.581608Z",
     "shell.execute_reply": "2021-09-24T18:30:08.582951Z"
    },
    "papermill": {
     "duration": 0.070422,
     "end_time": "2021-09-24T18:30:08.583368",
     "exception": false,
     "start_time": "2021-09-24T18:30:08.512946",
     "status": "completed"
    },
    "tags": []
   },
   "outputs": [
    {
     "data": {
      "text/html": [
       "<div>\n",
       "<style scoped>\n",
       "    .dataframe tbody tr th:only-of-type {\n",
       "        vertical-align: middle;\n",
       "    }\n",
       "\n",
       "    .dataframe tbody tr th {\n",
       "        vertical-align: top;\n",
       "    }\n",
       "\n",
       "    .dataframe thead th {\n",
       "        text-align: right;\n",
       "    }\n",
       "</style>\n",
       "<table border=\"1\" class=\"dataframe\">\n",
       "  <thead>\n",
       "    <tr style=\"text-align: right;\">\n",
       "      <th></th>\n",
       "      <th>RECORD_TIME</th>\n",
       "    </tr>\n",
       "  </thead>\n",
       "  <tbody>\n",
       "    <tr>\n",
       "      <th>0</th>\n",
       "      <td>2021-09-24 20:30</td>\n",
       "    </tr>\n",
       "    <tr>\n",
       "      <th>1</th>\n",
       "      <td>2021-09-24 20:00</td>\n",
       "    </tr>\n",
       "  </tbody>\n",
       "</table>\n",
       "</div>"
      ],
      "text/plain": [
       "        RECORD_TIME\n",
       "0  2021-09-24 20:30\n",
       "1  2021-09-24 20:00"
      ]
     },
     "execution_count": 3,
     "metadata": {},
     "output_type": "execute_result"
    }
   ],
   "source": [
    "timestamps"
   ]
  },
  {
   "cell_type": "code",
   "execution_count": 4,
   "id": "alternate-victory",
   "metadata": {
    "execution": {
     "iopub.execute_input": "2021-09-24T18:30:08.635144Z",
     "iopub.status.busy": "2021-09-24T18:30:08.633107Z",
     "iopub.status.idle": "2021-09-24T18:30:09.171560Z",
     "shell.execute_reply": "2021-09-24T18:30:09.172777Z"
    },
    "papermill": {
     "duration": 0.568424,
     "end_time": "2021-09-24T18:30:09.173166",
     "exception": false,
     "start_time": "2021-09-24T18:30:08.604742",
     "status": "completed"
    },
    "tags": []
   },
   "outputs": [],
   "source": [
    "df = pd.read_sql(\"select * from EBAY_TOP_BERLIN where record_time in (select distinct record_time from EBAY_TOP_BERLIN order by record_time desc limit 2)\", sqlite3.connect(\"UsedObjects.db\"))"
   ]
  },
  {
   "cell_type": "code",
   "execution_count": 5,
   "id": "popular-active",
   "metadata": {
    "execution": {
     "iopub.execute_input": "2021-09-24T18:30:09.256734Z",
     "iopub.status.busy": "2021-09-24T18:30:09.244718Z",
     "iopub.status.idle": "2021-09-24T18:30:09.272187Z",
     "shell.execute_reply": "2021-09-24T18:30:09.273395Z"
    },
    "papermill": {
     "duration": 0.071412,
     "end_time": "2021-09-24T18:30:09.273784",
     "exception": false,
     "start_time": "2021-09-24T18:30:09.202372",
     "status": "completed"
    },
    "tags": []
   },
   "outputs": [],
   "source": [
    "df_pivot = df.pivot_table(index=\"PRODUCT\", columns = \"RECORD_TIME\", values = \"LISTING_COUNT\")"
   ]
  },
  {
   "cell_type": "code",
   "execution_count": 6,
   "id": "union-huntington",
   "metadata": {
    "execution": {
     "iopub.execute_input": "2021-09-24T18:30:09.330173Z",
     "iopub.status.busy": "2021-09-24T18:30:09.328147Z",
     "iopub.status.idle": "2021-09-24T18:30:09.333333Z",
     "shell.execute_reply": "2021-09-24T18:30:09.334598Z"
    },
    "papermill": {
     "duration": 0.040393,
     "end_time": "2021-09-24T18:30:09.335067",
     "exception": false,
     "start_time": "2021-09-24T18:30:09.294674",
     "status": "completed"
    },
    "tags": []
   },
   "outputs": [],
   "source": [
    "df_pivot.columns = [\"stamp_1\", \"stamp_2\"]\n",
    "df_pivot_diff = df_pivot.diff(axis=1)"
   ]
  },
  {
   "cell_type": "code",
   "execution_count": 7,
   "id": "fifth-motion",
   "metadata": {
    "execution": {
     "iopub.execute_input": "2021-09-24T18:30:09.389397Z",
     "iopub.status.busy": "2021-09-24T18:30:09.387010Z",
     "iopub.status.idle": "2021-09-24T18:30:10.907691Z",
     "shell.execute_reply": "2021-09-24T18:30:10.909123Z"
    },
    "papermill": {
     "duration": 1.553757,
     "end_time": "2021-09-24T18:30:10.909558",
     "exception": false,
     "start_time": "2021-09-24T18:30:09.355801",
     "status": "completed"
    },
    "tags": []
   },
   "outputs": [
    {
     "data": {
      "text/plain": [
       "<AxesSubplot:ylabel='PRODUCT'>"
      ]
     },
     "execution_count": 7,
     "metadata": {},
     "output_type": "execute_result"
    },
    {
     "data": {
      "image/png": "[encoded data removed]",
      "text/plain": [
       "<Figure size 432x288 with 1 Axes>"
      ]
     },
     "metadata": {
      "needs_background": "light"
     },
     "output_type": "display_data"
    }
   ],
   "source": [
    "df_pivot_diff.sort_values(\"stamp_2\", ascending = False)[\"stamp_2\"].head(10).plot.barh()"
   ]
  },
  {
   "cell_type": "code",
   "execution_count": null,
   "id": "extra-executive",
   "metadata": {
    "papermill": {
     "duration": 0.022557,
     "end_time": "2021-09-24T18:30:10.956931",
     "exception": false,
     "start_time": "2021-09-24T18:30:10.934374",
     "status": "completed"
    },
    "tags": []
   },
   "outputs": [],
   "source": []
  }
 ],
 "metadata": {
  "kernelspec": {
   "display_name": "Python 3",
   "language": "python",
   "name": "python3"
  },
  "language_info": {
   "codemirror_mode": {
    "name": "ipython",
    "version": 3
   },
   "file_extension": ".py",
   "mimetype": "text/x-python",
   "name": "python",
   "nbconvert_exporter": "python",
   "pygments_lexer": "ipython3",
   "version": "3.9.5"
  },
  "papermill": {
   "default_parameters": {},
   "duration": 6.773081,
   "end_time": "2021-09-24T18:30:11.601772",
   "environment_variables": {},
   "exception": null,
   "input_path": "eBay_Overview.ipynb",
   "output_path": "eBay_Overview.ipynb",
   "parameters": {},
   "start_time": "2021-09-24T18:30:04.828691",
   "version": "2.3.3"
  }
 },
 "nbformat": 4,
 "nbformat_minor": 5
}