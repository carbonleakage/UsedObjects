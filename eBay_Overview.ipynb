{
 "cells": [
  {
   "cell_type": "code",
   "execution_count": 1,
   "id": "reverse-picking",
   "metadata": {
    "execution": {
     "iopub.execute_input": "2021-12-15T21:00:08.601695Z",
     "iopub.status.busy": "2021-12-15T21:00:08.599358Z",
     "iopub.status.idle": "2021-12-15T21:00:09.569669Z",
     "shell.execute_reply": "2021-12-15T21:00:09.572516Z"
    },
    "papermill": {
     "duration": 1.023348,
     "end_time": "2021-12-15T21:00:09.573341",
     "exception": false,
     "start_time": "2021-12-15T21:00:08.549993",
     "status": "completed"
    },
    "tags": []
   },
   "outputs": [],
   "source": [
    "import pandas as pd\n",
    "import sqlite3"
   ]
  },
  {
   "cell_type": "code",
   "execution_count": 2,
   "id": "innovative-syndrome",
   "metadata": {
    "execution": {
     "iopub.execute_input": "2021-12-15T21:00:09.628602Z",
     "iopub.status.busy": "2021-12-15T21:00:09.626438Z",
     "iopub.status.idle": "2021-12-15T21:00:10.706423Z",
     "shell.execute_reply": "2021-12-15T21:00:10.703902Z"
    },
    "papermill": {
     "duration": 1.112665,
     "end_time": "2021-12-15T21:00:10.706866",
     "exception": false,
     "start_time": "2021-12-15T21:00:09.594201",
     "status": "completed"
    },
    "tags": []
   },
   "outputs": [],
   "source": [
    "timestamps = pd.read_sql(\"select distinct record_time from EBAY_TOP_BERLIN order by record_time desc limit 2\", sqlite3.connect(\"UsedObjects.db\"))"
   ]
  },
  {
   "cell_type": "code",
   "execution_count": 3,
   "id": "periodic-identification",
   "metadata": {
    "execution": {
     "iopub.execute_input": "2021-12-15T21:00:10.815932Z",
     "iopub.status.busy": "2021-12-15T21:00:10.813535Z",
     "iopub.status.idle": "2021-12-15T21:00:10.836436Z",
     "shell.execute_reply": "2021-12-15T21:00:10.838117Z"
    },
    "papermill": {
     "duration": 0.087434,
     "end_time": "2021-12-15T21:00:10.838594",
     "exception": false,
     "start_time": "2021-12-15T21:00:10.751160",
     "status": "completed"
    },
    "tags": []
   },
   "outputs": [
    {
     "data": {
      "text/html": [
       "<div>\n",
       "<style scoped>\n",
       "    .dataframe tbody tr th:only-of-type {\n",
       "        vertical-align: middle;\n",
       "    }\n",
       "\n",
       "    .dataframe tbody tr th {\n",
       "        vertical-align: top;\n",
       "    }\n",
       "\n",
       "    .dataframe thead th {\n",
       "        text-align: right;\n",
       "    }\n",
       "</style>\n",
       "<table border=\"1\" class=\"dataframe\">\n",
       "  <thead>\n",
       "    <tr style=\"text-align: right;\">\n",
       "      <th></th>\n",
       "      <th>RECORD_TIME</th>\n",
       "    </tr>\n",
       "  </thead>\n",
       "  <tbody>\n",
       "    <tr>\n",
       "      <th>0</th>\n",
       "      <td>2021-12-15 22:00</td>\n",
       "    </tr>\n",
       "    <tr>\n",
       "      <th>1</th>\n",
       "      <td>2021-12-15 21:30</td>\n",
       "    </tr>\n",
       "  </tbody>\n",
       "</table>\n",
       "</div>"
      ],
      "text/plain": [
       "        RECORD_TIME\n",
       "0  2021-12-15 22:00\n",
       "1  2021-12-15 21:30"
      ]
     },
     "execution_count": 3,
     "metadata": {},
     "output_type": "execute_result"
    }
   ],
   "source": [
    "timestamps"
   ]
  },
  {
   "cell_type": "code",
   "execution_count": 4,
   "id": "alternate-victory",
   "metadata": {
    "execution": {
     "iopub.execute_input": "2021-12-15T21:00:10.896093Z",
     "iopub.status.busy": "2021-12-15T21:00:10.893765Z",
     "iopub.status.idle": "2021-12-15T21:00:12.489194Z",
     "shell.execute_reply": "2021-12-15T21:00:12.490675Z"
    },
    "papermill": {
     "duration": 1.630408,
     "end_time": "2021-12-15T21:00:12.491183",
     "exception": false,
     "start_time": "2021-12-15T21:00:10.860775",
     "status": "completed"
    },
    "tags": []
   },
   "outputs": [],
   "source": [
    "df = pd.read_sql(\"select * from EBAY_TOP_BERLIN where record_time in (select distinct record_time from EBAY_TOP_BERLIN order by record_time desc limit 2)\", sqlite3.connect(\"UsedObjects.db\"))"
   ]
  },
  {
   "cell_type": "code",
   "execution_count": 5,
   "id": "popular-active",
   "metadata": {
    "execution": {
     "iopub.execute_input": "2021-12-15T21:00:12.565595Z",
     "iopub.status.busy": "2021-12-15T21:00:12.555647Z",
     "iopub.status.idle": "2021-12-15T21:00:12.589955Z",
     "shell.execute_reply": "2021-12-15T21:00:12.591554Z"
    },
    "papermill": {
     "duration": 0.078171,
     "end_time": "2021-12-15T21:00:12.592021",
     "exception": false,
     "start_time": "2021-12-15T21:00:12.513850",
     "status": "completed"
    },
    "tags": []
   },
   "outputs": [],
   "source": [
    "df_pivot = df.pivot_table(index=\"PRODUCT\", columns = \"RECORD_TIME\", values = \"LISTING_COUNT\")"
   ]
  },
  {
   "cell_type": "code",
   "execution_count": 6,
   "id": "union-huntington",
   "metadata": {
    "execution": {
     "iopub.execute_input": "2021-12-15T21:00:12.651832Z",
     "iopub.status.busy": "2021-12-15T21:00:12.649616Z",
     "iopub.status.idle": "2021-12-15T21:00:12.656785Z",
     "shell.execute_reply": "2021-12-15T21:00:12.655302Z"
    },
    "papermill": {
     "duration": 0.044753,
     "end_time": "2021-12-15T21:00:12.657203",
     "exception": false,
     "start_time": "2021-12-15T21:00:12.612450",
     "status": "completed"
    },
    "tags": []
   },
   "outputs": [],
   "source": [
    "df_pivot.columns = [\"stamp_1\", \"stamp_2\"]\n",
    "df_pivot_diff = df_pivot.diff(axis=1)"
   ]
  },
  {
   "cell_type": "code",
   "execution_count": 7,
   "id": "fifth-motion",
   "metadata": {
    "execution": {
     "iopub.execute_input": "2021-12-15T21:00:12.718500Z",
     "iopub.status.busy": "2021-12-15T21:00:12.713201Z",
     "iopub.status.idle": "2021-12-15T21:00:14.696063Z",
     "shell.execute_reply": "2021-12-15T21:00:14.697524Z"
    },
    "papermill": {
     "duration": 2.020306,
     "end_time": "2021-12-15T21:00:14.697984",
     "exception": false,
     "start_time": "2021-12-15T21:00:12.677678",
     "status": "completed"
    },
    "tags": []
   },
   "outputs": [
    {
     "data": {
      "text/plain": [
       "<AxesSubplot:ylabel='PRODUCT'>"
      ]
     },
     "execution_count": 7,
     "metadata": {},
     "output_type": "execute_result"
    },
    {
     "data": {
      "image/png": "[encoded data removed]",
      "text/plain": [
       "<Figure size 432x288 with 1 Axes>"
      ]
     },
     "metadata": {
      "needs_background": "light"
     },
     "output_type": "display_data"
    }
   ],
   "source": [
    "df_pivot_diff.sort_values(\"stamp_2\", ascending = False)[\"stamp_2\"].head(10).plot.barh()"
   ]
  },
  {
   "cell_type": "code",
   "execution_count": null,
   "id": "extra-executive",
   "metadata": {
    "papermill": {
     "duration": 0.022421,
     "end_time": "2021-12-15T21:00:14.745908",
     "exception": false,
     "start_time": "2021-12-15T21:00:14.723487",
     "status": "completed"
    },
    "tags": []
   },
   "outputs": [],
   "source": []
  }
 ],
 "metadata": {
  "kernelspec": {
   "display_name": "Python 3",
   "language": "python",
   "name": "python3"
  },
  "language_info": {
   "codemirror_mode": {
    "name": "ipython",
    "version": 3
   },
   "file_extension": ".py",
   "mimetype": "text/x-python",
   "name": "python",
   "nbconvert_exporter": "python",
   "pygments_lexer": "ipython3",
   "version": "3.9.5"
  },
  "papermill": {
   "default_parameters": {},
   "duration": 9.618601,
   "end_time": "2021-12-15T21:00:15.429823",
   "environment_variables": {},
   "exception": null,
   "input_path": "eBay_Overview.ipynb",
   "output_path": "eBay_Overview.ipynb",
   "parameters": {},
   "start_time": "2021-12-15T21:00:05.811222",
   "version": "2.3.3"
  }
 },
 "nbformat": 4,
 "nbformat_minor": 5
}