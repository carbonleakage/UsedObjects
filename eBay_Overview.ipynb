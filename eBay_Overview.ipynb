{
 "cells": [
  {
   "cell_type": "code",
   "execution_count": 1,
   "id": "reverse-picking",
   "metadata": {
    "execution": {
     "iopub.execute_input": "2021-11-12T09:30:07.394273Z",
     "iopub.status.busy": "2021-11-12T09:30:07.391928Z",
     "iopub.status.idle": "2021-11-12T09:30:08.345262Z",
     "shell.execute_reply": "2021-11-12T09:30:08.346748Z"
    },
    "papermill": {
     "duration": 1.003111,
     "end_time": "2021-11-12T09:30:08.347509",
     "exception": false,
     "start_time": "2021-11-12T09:30:07.344398",
     "status": "completed"
    },
    "tags": []
   },
   "outputs": [],
   "source": [
    "import pandas as pd\n",
    "import sqlite3"
   ]
  },
  {
   "cell_type": "code",
   "execution_count": 2,
   "id": "innovative-syndrome",
   "metadata": {
    "execution": {
     "iopub.execute_input": "2021-11-12T09:30:08.410301Z",
     "iopub.status.busy": "2021-11-12T09:30:08.408104Z",
     "iopub.status.idle": "2021-11-12T09:30:09.200273Z",
     "shell.execute_reply": "2021-11-12T09:30:09.201772Z"
    },
    "papermill": {
     "duration": 0.827311,
     "end_time": "2021-11-12T09:30:09.202273",
     "exception": false,
     "start_time": "2021-11-12T09:30:08.374962",
     "status": "completed"
    },
    "tags": []
   },
   "outputs": [],
   "source": [
    "timestamps = pd.read_sql(\"select distinct record_time from EBAY_TOP_BERLIN order by record_time desc limit 2\", sqlite3.connect(\"UsedObjects.db\"))"
   ]
  },
  {
   "cell_type": "code",
   "execution_count": 3,
   "id": "periodic-identification",
   "metadata": {
    "execution": {
     "iopub.execute_input": "2021-11-12T09:30:09.273747Z",
     "iopub.status.busy": "2021-11-12T09:30:09.271356Z",
     "iopub.status.idle": "2021-11-12T09:30:09.294116Z",
     "shell.execute_reply": "2021-11-12T09:30:09.295721Z"
    },
    "papermill": {
     "duration": 0.07403,
     "end_time": "2021-11-12T09:30:09.296213",
     "exception": false,
     "start_time": "2021-11-12T09:30:09.222183",
     "status": "completed"
    },
    "tags": []
   },
   "outputs": [
    {
     "data": {
      "text/html": [
       "<div>\n",
       "<style scoped>\n",
       "    .dataframe tbody tr th:only-of-type {\n",
       "        vertical-align: middle;\n",
       "    }\n",
       "\n",
       "    .dataframe tbody tr th {\n",
       "        vertical-align: top;\n",
       "    }\n",
       "\n",
       "    .dataframe thead th {\n",
       "        text-align: right;\n",
       "    }\n",
       "</style>\n",
       "<table border=\"1\" class=\"dataframe\">\n",
       "  <thead>\n",
       "    <tr style=\"text-align: right;\">\n",
       "      <th></th>\n",
       "      <th>RECORD_TIME</th>\n",
       "    </tr>\n",
       "  </thead>\n",
       "  <tbody>\n",
       "    <tr>\n",
       "      <th>0</th>\n",
       "      <td>2021-11-12 10:30</td>\n",
       "    </tr>\n",
       "    <tr>\n",
       "      <th>1</th>\n",
       "      <td>2021-11-12 10:00</td>\n",
       "    </tr>\n",
       "  </tbody>\n",
       "</table>\n",
       "</div>"
      ],
      "text/plain": [
       "        RECORD_TIME\n",
       "0  2021-11-12 10:30\n",
       "1  2021-11-12 10:00"
      ]
     },
     "execution_count": 3,
     "metadata": {},
     "output_type": "execute_result"
    }
   ],
   "source": [
    "timestamps"
   ]
  },
  {
   "cell_type": "code",
   "execution_count": 4,
   "id": "alternate-victory",
   "metadata": {
    "execution": {
     "iopub.execute_input": "2021-11-12T09:30:09.351699Z",
     "iopub.status.busy": "2021-11-12T09:30:09.349244Z",
     "iopub.status.idle": "2021-11-12T09:30:10.490748Z",
     "shell.execute_reply": "2021-11-12T09:30:10.492394Z"
    },
    "papermill": {
     "duration": 1.176019,
     "end_time": "2021-11-12T09:30:10.493284",
     "exception": false,
     "start_time": "2021-11-12T09:30:09.317265",
     "status": "completed"
    },
    "tags": []
   },
   "outputs": [],
   "source": [
    "df = pd.read_sql(\"select * from EBAY_TOP_BERLIN where record_time in (select distinct record_time from EBAY_TOP_BERLIN order by record_time desc limit 2)\", sqlite3.connect(\"UsedObjects.db\"))"
   ]
  },
  {
   "cell_type": "code",
   "execution_count": 5,
   "id": "popular-active",
   "metadata": {
    "execution": {
     "iopub.execute_input": "2021-11-12T09:30:10.561788Z",
     "iopub.status.busy": "2021-11-12T09:30:10.559340Z",
     "iopub.status.idle": "2021-11-12T09:30:10.590719Z",
     "shell.execute_reply": "2021-11-12T09:30:10.592046Z"
    },
    "papermill": {
     "duration": 0.077711,
     "end_time": "2021-11-12T09:30:10.592570",
     "exception": false,
     "start_time": "2021-11-12T09:30:10.514859",
     "status": "completed"
    },
    "tags": []
   },
   "outputs": [],
   "source": [
    "df_pivot = df.pivot_table(index=\"PRODUCT\", columns = \"RECORD_TIME\", values = \"LISTING_COUNT\")"
   ]
  },
  {
   "cell_type": "code",
   "execution_count": 6,
   "id": "union-huntington",
   "metadata": {
    "execution": {
     "iopub.execute_input": "2021-11-12T09:30:10.655575Z",
     "iopub.status.busy": "2021-11-12T09:30:10.653196Z",
     "iopub.status.idle": "2021-11-12T09:30:10.659015Z",
     "shell.execute_reply": "2021-11-12T09:30:10.660649Z"
    },
    "papermill": {
     "duration": 0.047454,
     "end_time": "2021-11-12T09:30:10.661264",
     "exception": false,
     "start_time": "2021-11-12T09:30:10.613810",
     "status": "completed"
    },
    "tags": []
   },
   "outputs": [],
   "source": [
    "df_pivot.columns = [\"stamp_1\", \"stamp_2\"]\n",
    "df_pivot_diff = df_pivot.diff(axis=1)"
   ]
  },
  {
   "cell_type": "code",
   "execution_count": 7,
   "id": "fifth-motion",
   "metadata": {
    "execution": {
     "iopub.execute_input": "2021-11-12T09:30:10.721373Z",
     "iopub.status.busy": "2021-11-12T09:30:10.718671Z",
     "iopub.status.idle": "2021-11-12T09:30:12.451330Z",
     "shell.execute_reply": "2021-11-12T09:30:12.452808Z"
    },
    "papermill": {
     "duration": 1.770698,
     "end_time": "2021-11-12T09:30:12.453302",
     "exception": false,
     "start_time": "2021-11-12T09:30:10.682604",
     "status": "completed"
    },
    "tags": []
   },
   "outputs": [
    {
     "data": {
      "text/plain": [
       "<AxesSubplot:ylabel='PRODUCT'>"
      ]
     },
     "execution_count": 7,
     "metadata": {},
     "output_type": "execute_result"
    },
    {
     "data": {
      "image/png": "[encoded data removed]",
      "text/plain": [
       "<Figure size 432x288 with 1 Axes>"
      ]
     },
     "metadata": {
      "needs_background": "light"
     },
     "output_type": "display_data"
    }
   ],
   "source": [
    "df_pivot_diff.sort_values(\"stamp_2\", ascending = False)[\"stamp_2\"].head(10).plot.barh()"
   ]
  },
  {
   "cell_type": "code",
   "execution_count": null,
   "id": "extra-executive",
   "metadata": {
    "papermill": {
     "duration": 0.024777,
     "end_time": "2021-11-12T09:30:12.503037",
     "exception": false,
     "start_time": "2021-11-12T09:30:12.478260",
     "status": "completed"
    },
    "tags": []
   },
   "outputs": [],
   "source": []
  }
 ],
 "metadata": {
  "kernelspec": {
   "display_name": "Python 3",
   "language": "python",
   "name": "python3"
  },
  "language_info": {
   "codemirror_mode": {
    "name": "ipython",
    "version": 3
   },
   "file_extension": ".py",
   "mimetype": "text/x-python",
   "name": "python",
   "nbconvert_exporter": "python",
   "pygments_lexer": "ipython3",
   "version": "3.9.5"
  },
  "papermill": {
   "default_parameters": {},
   "duration": 8.817472,
   "end_time": "2021-11-12T09:30:13.351794",
   "environment_variables": {},
   "exception": null,
   "input_path": "eBay_Overview.ipynb",
   "output_path": "eBay_Overview.ipynb",
   "parameters": {},
   "start_time": "2021-11-12T09:30:04.534322",
   "version": "2.3.3"
  }
 },
 "nbformat": 4,
 "nbformat_minor": 5
}