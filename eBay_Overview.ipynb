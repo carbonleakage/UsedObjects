{
 "cells": [
  {
   "cell_type": "code",
   "execution_count": 1,
   "id": "reverse-picking",
   "metadata": {
    "execution": {
     "iopub.execute_input": "2021-12-03T09:00:08.070177Z",
     "iopub.status.busy": "2021-12-03T09:00:08.068182Z",
     "iopub.status.idle": "2021-12-03T09:00:09.023541Z",
     "shell.execute_reply": "2021-12-03T09:00:09.025370Z"
    },
    "papermill": {
     "duration": 1.002408,
     "end_time": "2021-12-03T09:00:09.026113",
     "exception": false,
     "start_time": "2021-12-03T09:00:08.023705",
     "status": "completed"
    },
    "tags": []
   },
   "outputs": [],
   "source": [
    "import pandas as pd\n",
    "import sqlite3"
   ]
  },
  {
   "cell_type": "code",
   "execution_count": 2,
   "id": "innovative-syndrome",
   "metadata": {
    "execution": {
     "iopub.execute_input": "2021-12-03T09:00:09.089669Z",
     "iopub.status.busy": "2021-12-03T09:00:09.087346Z",
     "iopub.status.idle": "2021-12-03T09:00:10.049189Z",
     "shell.execute_reply": "2021-12-03T09:00:10.051253Z"
    },
    "papermill": {
     "duration": 0.998011,
     "end_time": "2021-12-03T09:00:10.051722",
     "exception": false,
     "start_time": "2021-12-03T09:00:09.053711",
     "status": "completed"
    },
    "tags": []
   },
   "outputs": [],
   "source": [
    "timestamps = pd.read_sql(\"select distinct record_time from EBAY_TOP_BERLIN order by record_time desc limit 2\", sqlite3.connect(\"UsedObjects.db\"))"
   ]
  },
  {
   "cell_type": "code",
   "execution_count": 3,
   "id": "periodic-identification",
   "metadata": {
    "execution": {
     "iopub.execute_input": "2021-12-03T09:00:10.126320Z",
     "iopub.status.busy": "2021-12-03T09:00:10.120426Z",
     "iopub.status.idle": "2021-12-03T09:00:10.143297Z",
     "shell.execute_reply": "2021-12-03T09:00:10.145027Z"
    },
    "papermill": {
     "duration": 0.074061,
     "end_time": "2021-12-03T09:00:10.145537",
     "exception": false,
     "start_time": "2021-12-03T09:00:10.071476",
     "status": "completed"
    },
    "tags": []
   },
   "outputs": [
    {
     "data": {
      "text/html": [
       "<div>\n",
       "<style scoped>\n",
       "    .dataframe tbody tr th:only-of-type {\n",
       "        vertical-align: middle;\n",
       "    }\n",
       "\n",
       "    .dataframe tbody tr th {\n",
       "        vertical-align: top;\n",
       "    }\n",
       "\n",
       "    .dataframe thead th {\n",
       "        text-align: right;\n",
       "    }\n",
       "</style>\n",
       "<table border=\"1\" class=\"dataframe\">\n",
       "  <thead>\n",
       "    <tr style=\"text-align: right;\">\n",
       "      <th></th>\n",
       "      <th>RECORD_TIME</th>\n",
       "    </tr>\n",
       "  </thead>\n",
       "  <tbody>\n",
       "    <tr>\n",
       "      <th>0</th>\n",
       "      <td>2021-12-03 10:00</td>\n",
       "    </tr>\n",
       "    <tr>\n",
       "      <th>1</th>\n",
       "      <td>2021-12-03 09:30</td>\n",
       "    </tr>\n",
       "  </tbody>\n",
       "</table>\n",
       "</div>"
      ],
      "text/plain": [
       "        RECORD_TIME\n",
       "0  2021-12-03 10:00\n",
       "1  2021-12-03 09:30"
      ]
     },
     "execution_count": 3,
     "metadata": {},
     "output_type": "execute_result"
    }
   ],
   "source": [
    "timestamps"
   ]
  },
  {
   "cell_type": "code",
   "execution_count": 4,
   "id": "alternate-victory",
   "metadata": {
    "execution": {
     "iopub.execute_input": "2021-12-03T09:00:10.203179Z",
     "iopub.status.busy": "2021-12-03T09:00:10.201045Z",
     "iopub.status.idle": "2021-12-03T09:00:11.605399Z",
     "shell.execute_reply": "2021-12-03T09:00:11.607582Z"
    },
    "papermill": {
     "duration": 1.44094,
     "end_time": "2021-12-03T09:00:11.608101",
     "exception": false,
     "start_time": "2021-12-03T09:00:10.167161",
     "status": "completed"
    },
    "tags": []
   },
   "outputs": [],
   "source": [
    "df = pd.read_sql(\"select * from EBAY_TOP_BERLIN where record_time in (select distinct record_time from EBAY_TOP_BERLIN order by record_time desc limit 2)\", sqlite3.connect(\"UsedObjects.db\"))"
   ]
  },
  {
   "cell_type": "code",
   "execution_count": 5,
   "id": "popular-active",
   "metadata": {
    "execution": {
     "iopub.execute_input": "2021-12-03T09:00:11.689507Z",
     "iopub.status.busy": "2021-12-03T09:00:11.673812Z",
     "iopub.status.idle": "2021-12-03T09:00:11.706523Z",
     "shell.execute_reply": "2021-12-03T09:00:11.707774Z"
    },
    "papermill": {
     "duration": 0.07742,
     "end_time": "2021-12-03T09:00:11.708282",
     "exception": false,
     "start_time": "2021-12-03T09:00:11.630862",
     "status": "completed"
    },
    "tags": []
   },
   "outputs": [],
   "source": [
    "df_pivot = df.pivot_table(index=\"PRODUCT\", columns = \"RECORD_TIME\", values = \"LISTING_COUNT\")"
   ]
  },
  {
   "cell_type": "code",
   "execution_count": 6,
   "id": "union-huntington",
   "metadata": {
    "execution": {
     "iopub.execute_input": "2021-12-03T09:00:11.768565Z",
     "iopub.status.busy": "2021-12-03T09:00:11.766139Z",
     "iopub.status.idle": "2021-12-03T09:00:11.771876Z",
     "shell.execute_reply": "2021-12-03T09:00:11.773530Z"
    },
    "papermill": {
     "duration": 0.044155,
     "end_time": "2021-12-03T09:00:11.774040",
     "exception": false,
     "start_time": "2021-12-03T09:00:11.729885",
     "status": "completed"
    },
    "tags": []
   },
   "outputs": [],
   "source": [
    "df_pivot.columns = [\"stamp_1\", \"stamp_2\"]\n",
    "df_pivot_diff = df_pivot.diff(axis=1)"
   ]
  },
  {
   "cell_type": "code",
   "execution_count": 7,
   "id": "fifth-motion",
   "metadata": {
    "execution": {
     "iopub.execute_input": "2021-12-03T09:00:11.834471Z",
     "iopub.status.busy": "2021-12-03T09:00:11.831703Z",
     "iopub.status.idle": "2021-12-03T09:00:13.770601Z",
     "shell.execute_reply": "2021-12-03T09:00:13.771977Z"
    },
    "papermill": {
     "duration": 1.977264,
     "end_time": "2021-12-03T09:00:13.772456",
     "exception": false,
     "start_time": "2021-12-03T09:00:11.795192",
     "status": "completed"
    },
    "tags": []
   },
   "outputs": [
    {
     "data": {
      "text/plain": [
       "<AxesSubplot:ylabel='PRODUCT'>"
      ]
     },
     "execution_count": 7,
     "metadata": {},
     "output_type": "execute_result"
    },
    {
     "data": {
      "image/png": "[encoded data removed]",
      "text/plain": [
       "<Figure size 432x288 with 1 Axes>"
      ]
     },
     "metadata": {
      "needs_background": "light"
     },
     "output_type": "display_data"
    }
   ],
   "source": [
    "df_pivot_diff.sort_values(\"stamp_2\", ascending = False)[\"stamp_2\"].head(10).plot.barh()"
   ]
  },
  {
   "cell_type": "code",
   "execution_count": null,
   "id": "extra-executive",
   "metadata": {
    "papermill": {
     "duration": 0.023671,
     "end_time": "2021-12-03T09:00:13.820204",
     "exception": false,
     "start_time": "2021-12-03T09:00:13.796533",
     "status": "completed"
    },
    "tags": []
   },
   "outputs": [],
   "source": []
  }
 ],
 "metadata": {
  "kernelspec": {
   "display_name": "Python 3",
   "language": "python",
   "name": "python3"
  },
  "language_info": {
   "codemirror_mode": {
    "name": "ipython",
    "version": 3
   },
   "file_extension": ".py",
   "mimetype": "text/x-python",
   "name": "python",
   "nbconvert_exporter": "python",
   "pygments_lexer": "ipython3",
   "version": "3.9.5"
  },
  "papermill": {
   "default_parameters": {},
   "duration": 9.950338,
   "end_time": "2021-12-03T09:00:15.239901",
   "environment_variables": {},
   "exception": null,
   "input_path": "eBay_Overview.ipynb",
   "output_path": "eBay_Overview.ipynb",
   "parameters": {},
   "start_time": "2021-12-03T09:00:05.289563",
   "version": "2.3.3"
  }
 },
 "nbformat": 4,
 "nbformat_minor": 5
}