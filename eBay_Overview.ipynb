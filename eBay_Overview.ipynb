{
 "cells": [
  {
   "cell_type": "code",
   "execution_count": 1,
   "id": "reverse-picking",
   "metadata": {
    "execution": {
     "iopub.execute_input": "2021-11-25T00:30:07.482082Z",
     "iopub.status.busy": "2021-11-25T00:30:07.479838Z",
     "iopub.status.idle": "2021-11-25T00:30:08.443511Z",
     "shell.execute_reply": "2021-11-25T00:30:08.445036Z"
    },
    "papermill": {
     "duration": 1.010133,
     "end_time": "2021-11-25T00:30:08.445757",
     "exception": false,
     "start_time": "2021-11-25T00:30:07.435624",
     "status": "completed"
    },
    "tags": []
   },
   "outputs": [],
   "source": [
    "import pandas as pd\n",
    "import sqlite3"
   ]
  },
  {
   "cell_type": "code",
   "execution_count": 2,
   "id": "innovative-syndrome",
   "metadata": {
    "execution": {
     "iopub.execute_input": "2021-11-25T00:30:08.570465Z",
     "iopub.status.busy": "2021-11-25T00:30:08.568129Z",
     "iopub.status.idle": "2021-11-25T00:30:09.468112Z",
     "shell.execute_reply": "2021-11-25T00:30:09.469682Z"
    },
    "papermill": {
     "duration": 0.935724,
     "end_time": "2021-11-25T00:30:09.470180",
     "exception": false,
     "start_time": "2021-11-25T00:30:08.534456",
     "status": "completed"
    },
    "tags": []
   },
   "outputs": [],
   "source": [
    "timestamps = pd.read_sql(\"select distinct record_time from EBAY_TOP_BERLIN order by record_time desc limit 2\", sqlite3.connect(\"UsedObjects.db\"))"
   ]
  },
  {
   "cell_type": "code",
   "execution_count": 3,
   "id": "periodic-identification",
   "metadata": {
    "execution": {
     "iopub.execute_input": "2021-11-25T00:30:09.542543Z",
     "iopub.status.busy": "2021-11-25T00:30:09.540156Z",
     "iopub.status.idle": "2021-11-25T00:30:09.563607Z",
     "shell.execute_reply": "2021-11-25T00:30:09.566166Z"
    },
    "papermill": {
     "duration": 0.07592,
     "end_time": "2021-11-25T00:30:09.566998",
     "exception": false,
     "start_time": "2021-11-25T00:30:09.491078",
     "status": "completed"
    },
    "tags": []
   },
   "outputs": [
    {
     "data": {
      "text/html": [
       "<div>\n",
       "<style scoped>\n",
       "    .dataframe tbody tr th:only-of-type {\n",
       "        vertical-align: middle;\n",
       "    }\n",
       "\n",
       "    .dataframe tbody tr th {\n",
       "        vertical-align: top;\n",
       "    }\n",
       "\n",
       "    .dataframe thead th {\n",
       "        text-align: right;\n",
       "    }\n",
       "</style>\n",
       "<table border=\"1\" class=\"dataframe\">\n",
       "  <thead>\n",
       "    <tr style=\"text-align: right;\">\n",
       "      <th></th>\n",
       "      <th>RECORD_TIME</th>\n",
       "    </tr>\n",
       "  </thead>\n",
       "  <tbody>\n",
       "    <tr>\n",
       "      <th>0</th>\n",
       "      <td>2021-11-25 01:30</td>\n",
       "    </tr>\n",
       "    <tr>\n",
       "      <th>1</th>\n",
       "      <td>2021-11-25 01:00</td>\n",
       "    </tr>\n",
       "  </tbody>\n",
       "</table>\n",
       "</div>"
      ],
      "text/plain": [
       "        RECORD_TIME\n",
       "0  2021-11-25 01:30\n",
       "1  2021-11-25 01:00"
      ]
     },
     "execution_count": 3,
     "metadata": {},
     "output_type": "execute_result"
    }
   ],
   "source": [
    "timestamps"
   ]
  },
  {
   "cell_type": "code",
   "execution_count": 4,
   "id": "alternate-victory",
   "metadata": {
    "execution": {
     "iopub.execute_input": "2021-11-25T00:30:09.624750Z",
     "iopub.status.busy": "2021-11-25T00:30:09.622033Z",
     "iopub.status.idle": "2021-11-25T00:30:10.968040Z",
     "shell.execute_reply": "2021-11-25T00:30:10.970999Z"
    },
    "papermill": {
     "duration": 1.382906,
     "end_time": "2021-11-25T00:30:10.971904",
     "exception": false,
     "start_time": "2021-11-25T00:30:09.588998",
     "status": "completed"
    },
    "tags": []
   },
   "outputs": [],
   "source": [
    "df = pd.read_sql(\"select * from EBAY_TOP_BERLIN where record_time in (select distinct record_time from EBAY_TOP_BERLIN order by record_time desc limit 2)\", sqlite3.connect(\"UsedObjects.db\"))"
   ]
  },
  {
   "cell_type": "code",
   "execution_count": 5,
   "id": "popular-active",
   "metadata": {
    "execution": {
     "iopub.execute_input": "2021-11-25T00:30:11.067344Z",
     "iopub.status.busy": "2021-11-25T00:30:11.053861Z",
     "iopub.status.idle": "2021-11-25T00:30:11.088452Z",
     "shell.execute_reply": "2021-11-25T00:30:11.090021Z"
    },
    "papermill": {
     "duration": 0.085635,
     "end_time": "2021-11-25T00:30:11.090609",
     "exception": false,
     "start_time": "2021-11-25T00:30:11.004974",
     "status": "completed"
    },
    "tags": []
   },
   "outputs": [],
   "source": [
    "df_pivot = df.pivot_table(index=\"PRODUCT\", columns = \"RECORD_TIME\", values = \"LISTING_COUNT\")"
   ]
  },
  {
   "cell_type": "code",
   "execution_count": 6,
   "id": "union-huntington",
   "metadata": {
    "execution": {
     "iopub.execute_input": "2021-11-25T00:30:11.152513Z",
     "iopub.status.busy": "2021-11-25T00:30:11.150319Z",
     "iopub.status.idle": "2021-11-25T00:30:11.156778Z",
     "shell.execute_reply": "2021-11-25T00:30:11.155149Z"
    },
    "papermill": {
     "duration": 0.043906,
     "end_time": "2021-11-25T00:30:11.157199",
     "exception": false,
     "start_time": "2021-11-25T00:30:11.113293",
     "status": "completed"
    },
    "tags": []
   },
   "outputs": [],
   "source": [
    "df_pivot.columns = [\"stamp_1\", \"stamp_2\"]\n",
    "df_pivot_diff = df_pivot.diff(axis=1)"
   ]
  },
  {
   "cell_type": "code",
   "execution_count": 7,
   "id": "fifth-motion",
   "metadata": {
    "execution": {
     "iopub.execute_input": "2021-11-25T00:30:11.221516Z",
     "iopub.status.busy": "2021-11-25T00:30:11.210866Z",
     "iopub.status.idle": "2021-11-25T00:30:13.157389Z",
     "shell.execute_reply": "2021-11-25T00:30:13.159611Z"
    },
    "papermill": {
     "duration": 1.983051,
     "end_time": "2021-11-25T00:30:13.160422",
     "exception": false,
     "start_time": "2021-11-25T00:30:11.177371",
     "status": "completed"
    },
    "tags": []
   },
   "outputs": [
    {
     "data": {
      "text/plain": [
       "<AxesSubplot:ylabel='PRODUCT'>"
      ]
     },
     "execution_count": 7,
     "metadata": {},
     "output_type": "execute_result"
    },
    {
     "data": {
      "image/png": "[encoded data removed]",
      "text/plain": [
       "<Figure size 432x288 with 1 Axes>"
      ]
     },
     "metadata": {
      "needs_background": "light"
     },
     "output_type": "display_data"
    }
   ],
   "source": [
    "df_pivot_diff.sort_values(\"stamp_2\", ascending = False)[\"stamp_2\"].head(10).plot.barh()"
   ]
  },
  {
   "cell_type": "code",
   "execution_count": null,
   "id": "extra-executive",
   "metadata": {
    "papermill": {
     "duration": 0.057721,
     "end_time": "2021-11-25T00:30:13.247498",
     "exception": false,
     "start_time": "2021-11-25T00:30:13.189777",
     "status": "completed"
    },
    "tags": []
   },
   "outputs": [],
   "source": []
  }
 ],
 "metadata": {
  "kernelspec": {
   "display_name": "Python 3",
   "language": "python",
   "name": "python3"
  },
  "language_info": {
   "codemirror_mode": {
    "name": "ipython",
    "version": 3
   },
   "file_extension": ".py",
   "mimetype": "text/x-python",
   "name": "python",
   "nbconvert_exporter": "python",
   "pygments_lexer": "ipython3",
   "version": "3.9.5"
  },
  "papermill": {
   "default_parameters": {},
   "duration": 9.952409,
   "end_time": "2021-11-25T00:30:14.618858",
   "environment_variables": {},
   "exception": null,
   "input_path": "eBay_Overview.ipynb",
   "output_path": "eBay_Overview.ipynb",
   "parameters": {},
   "start_time": "2021-11-25T00:30:04.666449",
   "version": "2.3.3"
  }
 },
 "nbformat": 4,
 "nbformat_minor": 5
}