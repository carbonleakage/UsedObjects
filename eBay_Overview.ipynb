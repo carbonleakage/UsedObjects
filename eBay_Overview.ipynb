{
 "cells": [
  {
   "cell_type": "code",
   "execution_count": 1,
   "id": "reverse-picking",
   "metadata": {
    "execution": {
     "iopub.execute_input": "2021-11-13T03:30:07.911260Z",
     "iopub.status.busy": "2021-11-13T03:30:07.909044Z",
     "iopub.status.idle": "2021-11-13T03:30:08.856967Z",
     "shell.execute_reply": "2021-11-13T03:30:08.858557Z"
    },
    "papermill": {
     "duration": 0.998104,
     "end_time": "2021-11-13T03:30:08.859290",
     "exception": false,
     "start_time": "2021-11-13T03:30:07.861186",
     "status": "completed"
    },
    "tags": []
   },
   "outputs": [],
   "source": [
    "import pandas as pd\n",
    "import sqlite3"
   ]
  },
  {
   "cell_type": "code",
   "execution_count": 2,
   "id": "innovative-syndrome",
   "metadata": {
    "execution": {
     "iopub.execute_input": "2021-11-13T03:30:08.921898Z",
     "iopub.status.busy": "2021-11-13T03:30:08.919561Z",
     "iopub.status.idle": "2021-11-13T03:30:09.718754Z",
     "shell.execute_reply": "2021-11-13T03:30:09.720349Z"
    },
    "papermill": {
     "duration": 0.83364,
     "end_time": "2021-11-13T03:30:09.720946",
     "exception": false,
     "start_time": "2021-11-13T03:30:08.887306",
     "status": "completed"
    },
    "tags": []
   },
   "outputs": [],
   "source": [
    "timestamps = pd.read_sql(\"select distinct record_time from EBAY_TOP_BERLIN order by record_time desc limit 2\", sqlite3.connect(\"UsedObjects.db\"))"
   ]
  },
  {
   "cell_type": "code",
   "execution_count": 3,
   "id": "periodic-identification",
   "metadata": {
    "execution": {
     "iopub.execute_input": "2021-11-13T03:30:09.795449Z",
     "iopub.status.busy": "2021-11-13T03:30:09.789310Z",
     "iopub.status.idle": "2021-11-13T03:30:09.811951Z",
     "shell.execute_reply": "2021-11-13T03:30:09.813442Z"
    },
    "papermill": {
     "duration": 0.071662,
     "end_time": "2021-11-13T03:30:09.813926",
     "exception": false,
     "start_time": "2021-11-13T03:30:09.742264",
     "status": "completed"
    },
    "tags": []
   },
   "outputs": [
    {
     "data": {
      "text/html": [
       "<div>\n",
       "<style scoped>\n",
       "    .dataframe tbody tr th:only-of-type {\n",
       "        vertical-align: middle;\n",
       "    }\n",
       "\n",
       "    .dataframe tbody tr th {\n",
       "        vertical-align: top;\n",
       "    }\n",
       "\n",
       "    .dataframe thead th {\n",
       "        text-align: right;\n",
       "    }\n",
       "</style>\n",
       "<table border=\"1\" class=\"dataframe\">\n",
       "  <thead>\n",
       "    <tr style=\"text-align: right;\">\n",
       "      <th></th>\n",
       "      <th>RECORD_TIME</th>\n",
       "    </tr>\n",
       "  </thead>\n",
       "  <tbody>\n",
       "    <tr>\n",
       "      <th>0</th>\n",
       "      <td>2021-11-13 04:30</td>\n",
       "    </tr>\n",
       "    <tr>\n",
       "      <th>1</th>\n",
       "      <td>2021-11-13 04:00</td>\n",
       "    </tr>\n",
       "  </tbody>\n",
       "</table>\n",
       "</div>"
      ],
      "text/plain": [
       "        RECORD_TIME\n",
       "0  2021-11-13 04:30\n",
       "1  2021-11-13 04:00"
      ]
     },
     "execution_count": 3,
     "metadata": {},
     "output_type": "execute_result"
    }
   ],
   "source": [
    "timestamps"
   ]
  },
  {
   "cell_type": "code",
   "execution_count": 4,
   "id": "alternate-victory",
   "metadata": {
    "execution": {
     "iopub.execute_input": "2021-11-13T03:30:09.870648Z",
     "iopub.status.busy": "2021-11-13T03:30:09.868774Z",
     "iopub.status.idle": "2021-11-13T03:30:11.028219Z",
     "shell.execute_reply": "2021-11-13T03:30:11.029779Z"
    },
    "papermill": {
     "duration": 1.195078,
     "end_time": "2021-11-13T03:30:11.030262",
     "exception": false,
     "start_time": "2021-11-13T03:30:09.835184",
     "status": "completed"
    },
    "tags": []
   },
   "outputs": [],
   "source": [
    "df = pd.read_sql(\"select * from EBAY_TOP_BERLIN where record_time in (select distinct record_time from EBAY_TOP_BERLIN order by record_time desc limit 2)\", sqlite3.connect(\"UsedObjects.db\"))"
   ]
  },
  {
   "cell_type": "code",
   "execution_count": 5,
   "id": "popular-active",
   "metadata": {
    "execution": {
     "iopub.execute_input": "2021-11-13T03:30:11.107087Z",
     "iopub.status.busy": "2021-11-13T03:30:11.095183Z",
     "iopub.status.idle": "2021-11-13T03:30:11.124577Z",
     "shell.execute_reply": "2021-11-13T03:30:11.126378Z"
    },
    "papermill": {
     "duration": 0.07396,
     "end_time": "2021-11-13T03:30:11.126933",
     "exception": false,
     "start_time": "2021-11-13T03:30:11.052973",
     "status": "completed"
    },
    "tags": []
   },
   "outputs": [],
   "source": [
    "df_pivot = df.pivot_table(index=\"PRODUCT\", columns = \"RECORD_TIME\", values = \"LISTING_COUNT\")"
   ]
  },
  {
   "cell_type": "code",
   "execution_count": 6,
   "id": "union-huntington",
   "metadata": {
    "execution": {
     "iopub.execute_input": "2021-11-13T03:30:11.189071Z",
     "iopub.status.busy": "2021-11-13T03:30:11.186593Z",
     "iopub.status.idle": "2021-11-13T03:30:11.192984Z",
     "shell.execute_reply": "2021-11-13T03:30:11.194469Z"
    },
    "papermill": {
     "duration": 0.047546,
     "end_time": "2021-11-13T03:30:11.194982",
     "exception": false,
     "start_time": "2021-11-13T03:30:11.147436",
     "status": "completed"
    },
    "tags": []
   },
   "outputs": [],
   "source": [
    "df_pivot.columns = [\"stamp_1\", \"stamp_2\"]\n",
    "df_pivot_diff = df_pivot.diff(axis=1)"
   ]
  },
  {
   "cell_type": "code",
   "execution_count": 7,
   "id": "fifth-motion",
   "metadata": {
    "execution": {
     "iopub.execute_input": "2021-11-13T03:30:11.254714Z",
     "iopub.status.busy": "2021-11-13T03:30:11.252127Z",
     "iopub.status.idle": "2021-11-13T03:30:13.138220Z",
     "shell.execute_reply": "2021-11-13T03:30:13.139544Z"
    },
    "papermill": {
     "duration": 1.923782,
     "end_time": "2021-11-13T03:30:13.140018",
     "exception": false,
     "start_time": "2021-11-13T03:30:11.216236",
     "status": "completed"
    },
    "tags": []
   },
   "outputs": [
    {
     "data": {
      "text/plain": [
       "<AxesSubplot:ylabel='PRODUCT'>"
      ]
     },
     "execution_count": 7,
     "metadata": {},
     "output_type": "execute_result"
    },
    {
     "data": {
      "image/png": "[encoded data removed]",
      "text/plain": [
       "<Figure size 432x288 with 1 Axes>"
      ]
     },
     "metadata": {
      "needs_background": "light"
     },
     "output_type": "display_data"
    }
   ],
   "source": [
    "df_pivot_diff.sort_values(\"stamp_2\", ascending = False)[\"stamp_2\"].head(10).plot.barh()"
   ]
  },
  {
   "cell_type": "code",
   "execution_count": null,
   "id": "extra-executive",
   "metadata": {
    "papermill": {
     "duration": 0.023369,
     "end_time": "2021-11-13T03:30:13.187098",
     "exception": false,
     "start_time": "2021-11-13T03:30:13.163729",
     "status": "completed"
    },
    "tags": []
   },
   "outputs": [],
   "source": []
  }
 ],
 "metadata": {
  "kernelspec": {
   "display_name": "Python 3",
   "language": "python",
   "name": "python3"
  },
  "language_info": {
   "codemirror_mode": {
    "name": "ipython",
    "version": 3
   },
   "file_extension": ".py",
   "mimetype": "text/x-python",
   "name": "python",
   "nbconvert_exporter": "python",
   "pygments_lexer": "ipython3",
   "version": "3.9.5"
  },
  "papermill": {
   "default_parameters": {},
   "duration": 8.909937,
   "end_time": "2021-11-13T03:30:14.055820",
   "environment_variables": {},
   "exception": null,
   "input_path": "eBay_Overview.ipynb",
   "output_path": "eBay_Overview.ipynb",
   "parameters": {},
   "start_time": "2021-11-13T03:30:05.145883",
   "version": "2.3.3"
  }
 },
 "nbformat": 4,
 "nbformat_minor": 5
}