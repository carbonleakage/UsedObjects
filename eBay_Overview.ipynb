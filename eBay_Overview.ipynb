{
 "cells": [
  {
   "cell_type": "code",
   "execution_count": 1,
   "id": "reverse-picking",
   "metadata": {
    "execution": {
     "iopub.execute_input": "2021-09-06T13:30:07.508902Z",
     "iopub.status.busy": "2021-09-06T13:30:07.506980Z",
     "iopub.status.idle": "2021-09-06T13:30:08.311970Z",
     "shell.execute_reply": "2021-09-06T13:30:08.313224Z"
    },
    "papermill": {
     "duration": 0.858716,
     "end_time": "2021-09-06T13:30:08.313849",
     "exception": false,
     "start_time": "2021-09-06T13:30:07.455133",
     "status": "completed"
    },
    "tags": []
   },
   "outputs": [],
   "source": [
    "import pandas as pd\n",
    "import sqlite3"
   ]
  },
  {
   "cell_type": "code",
   "execution_count": 2,
   "id": "innovative-syndrome",
   "metadata": {
    "execution": {
     "iopub.execute_input": "2021-09-06T13:30:08.364891Z",
     "iopub.status.busy": "2021-09-06T13:30:08.363044Z",
     "iopub.status.idle": "2021-09-06T13:30:08.583726Z",
     "shell.execute_reply": "2021-09-06T13:30:08.585105Z"
    },
    "papermill": {
     "duration": 0.250124,
     "end_time": "2021-09-06T13:30:08.585538",
     "exception": false,
     "start_time": "2021-09-06T13:30:08.335414",
     "status": "completed"
    },
    "tags": []
   },
   "outputs": [],
   "source": [
    "timestamps = pd.read_sql(\"select distinct record_time from EBAY_TOP_BERLIN order by record_time desc limit 2\", sqlite3.connect(\"UsedObjects.db\"))"
   ]
  },
  {
   "cell_type": "code",
   "execution_count": 3,
   "id": "periodic-identification",
   "metadata": {
    "execution": {
     "iopub.execute_input": "2021-09-06T13:30:08.655374Z",
     "iopub.status.busy": "2021-09-06T13:30:08.650278Z",
     "iopub.status.idle": "2021-09-06T13:30:08.670325Z",
     "shell.execute_reply": "2021-09-06T13:30:08.671813Z"
    },
    "papermill": {
     "duration": 0.067021,
     "end_time": "2021-09-06T13:30:08.672256",
     "exception": false,
     "start_time": "2021-09-06T13:30:08.605235",
     "status": "completed"
    },
    "tags": []
   },
   "outputs": [
    {
     "data": {
      "text/html": [
       "<div>\n",
       "<style scoped>\n",
       "    .dataframe tbody tr th:only-of-type {\n",
       "        vertical-align: middle;\n",
       "    }\n",
       "\n",
       "    .dataframe tbody tr th {\n",
       "        vertical-align: top;\n",
       "    }\n",
       "\n",
       "    .dataframe thead th {\n",
       "        text-align: right;\n",
       "    }\n",
       "</style>\n",
       "<table border=\"1\" class=\"dataframe\">\n",
       "  <thead>\n",
       "    <tr style=\"text-align: right;\">\n",
       "      <th></th>\n",
       "      <th>RECORD_TIME</th>\n",
       "    </tr>\n",
       "  </thead>\n",
       "  <tbody>\n",
       "    <tr>\n",
       "      <th>0</th>\n",
       "      <td>2021-09-06 15:30</td>\n",
       "    </tr>\n",
       "    <tr>\n",
       "      <th>1</th>\n",
       "      <td>2021-09-06 15:00</td>\n",
       "    </tr>\n",
       "  </tbody>\n",
       "</table>\n",
       "</div>"
      ],
      "text/plain": [
       "        RECORD_TIME\n",
       "0  2021-09-06 15:30\n",
       "1  2021-09-06 15:00"
      ]
     },
     "execution_count": 3,
     "metadata": {},
     "output_type": "execute_result"
    }
   ],
   "source": [
    "timestamps"
   ]
  },
  {
   "cell_type": "code",
   "execution_count": 4,
   "id": "alternate-victory",
   "metadata": {
    "execution": {
     "iopub.execute_input": "2021-09-06T13:30:08.723350Z",
     "iopub.status.busy": "2021-09-06T13:30:08.721403Z",
     "iopub.status.idle": "2021-09-06T13:30:09.055054Z",
     "shell.execute_reply": "2021-09-06T13:30:09.056289Z"
    },
    "papermill": {
     "duration": 0.363279,
     "end_time": "2021-09-06T13:30:09.056680",
     "exception": false,
     "start_time": "2021-09-06T13:30:08.693401",
     "status": "completed"
    },
    "tags": []
   },
   "outputs": [],
   "source": [
    "df = pd.read_sql(\"select * from EBAY_TOP_BERLIN where record_time in (select distinct record_time from EBAY_TOP_BERLIN order by record_time desc limit 2)\", sqlite3.connect(\"UsedObjects.db\"))"
   ]
  },
  {
   "cell_type": "code",
   "execution_count": 5,
   "id": "popular-active",
   "metadata": {
    "execution": {
     "iopub.execute_input": "2021-09-06T13:30:09.136284Z",
     "iopub.status.busy": "2021-09-06T13:30:09.125270Z",
     "iopub.status.idle": "2021-09-06T13:30:09.152680Z",
     "shell.execute_reply": "2021-09-06T13:30:09.153957Z"
    },
    "papermill": {
     "duration": 0.072102,
     "end_time": "2021-09-06T13:30:09.154367",
     "exception": false,
     "start_time": "2021-09-06T13:30:09.082265",
     "status": "completed"
    },
    "tags": []
   },
   "outputs": [],
   "source": [
    "df_pivot = df.pivot_table(index=\"PRODUCT\", columns = \"RECORD_TIME\", values = \"LISTING_COUNT\")"
   ]
  },
  {
   "cell_type": "code",
   "execution_count": 6,
   "id": "union-huntington",
   "metadata": {
    "execution": {
     "iopub.execute_input": "2021-09-06T13:30:09.210603Z",
     "iopub.status.busy": "2021-09-06T13:30:09.208555Z",
     "iopub.status.idle": "2021-09-06T13:30:09.213805Z",
     "shell.execute_reply": "2021-09-06T13:30:09.215042Z"
    },
    "papermill": {
     "duration": 0.041107,
     "end_time": "2021-09-06T13:30:09.215465",
     "exception": false,
     "start_time": "2021-09-06T13:30:09.174358",
     "status": "completed"
    },
    "tags": []
   },
   "outputs": [],
   "source": [
    "df_pivot.columns = [\"stamp_1\", \"stamp_2\"]\n",
    "df_pivot_diff = df_pivot.diff(axis=1)"
   ]
  },
  {
   "cell_type": "code",
   "execution_count": 7,
   "id": "fifth-motion",
   "metadata": {
    "execution": {
     "iopub.execute_input": "2021-09-06T13:30:09.268974Z",
     "iopub.status.busy": "2021-09-06T13:30:09.266537Z",
     "iopub.status.idle": "2021-09-06T13:30:10.757986Z",
     "shell.execute_reply": "2021-09-06T13:30:10.759502Z"
    },
    "papermill": {
     "duration": 1.524146,
     "end_time": "2021-09-06T13:30:10.759976",
     "exception": false,
     "start_time": "2021-09-06T13:30:09.235830",
     "status": "completed"
    },
    "tags": []
   },
   "outputs": [
    {
     "data": {
      "text/plain": [
       "<AxesSubplot:ylabel='PRODUCT'>"
      ]
     },
     "execution_count": 7,
     "metadata": {},
     "output_type": "execute_result"
    },
    {
     "data": {
      "image/png": "[encoded data removed]",
      "text/plain": [
       "<Figure size 432x288 with 1 Axes>"
      ]
     },
     "metadata": {
      "needs_background": "light"
     },
     "output_type": "display_data"
    }
   ],
   "source": [
    "df_pivot_diff.sort_values(\"stamp_2\", ascending = False)[\"stamp_2\"].head(10).plot.barh()"
   ]
  },
  {
   "cell_type": "code",
   "execution_count": null,
   "id": "extra-executive",
   "metadata": {
    "papermill": {
     "duration": 0.022076,
     "end_time": "2021-09-06T13:30:10.806592",
     "exception": false,
     "start_time": "2021-09-06T13:30:10.784516",
     "status": "completed"
    },
    "tags": []
   },
   "outputs": [],
   "source": []
  }
 ],
 "metadata": {
  "kernelspec": {
   "display_name": "Python 3",
   "language": "python",
   "name": "python3"
  },
  "language_info": {
   "codemirror_mode": {
    "name": "ipython",
    "version": 3
   },
   "file_extension": ".py",
   "mimetype": "text/x-python",
   "name": "python",
   "nbconvert_exporter": "python",
   "pygments_lexer": "ipython3",
   "version": "3.9.5"
  },
  "papermill": {
   "default_parameters": {},
   "duration": 6.399738,
   "end_time": "2021-09-06T13:30:11.449698",
   "environment_variables": {},
   "exception": null,
   "input_path": "eBay_Overview.ipynb",
   "output_path": "eBay_Overview.ipynb",
   "parameters": {},
   "start_time": "2021-09-06T13:30:05.049960",
   "version": "2.3.3"
  }
 },
 "nbformat": 4,
 "nbformat_minor": 5
}