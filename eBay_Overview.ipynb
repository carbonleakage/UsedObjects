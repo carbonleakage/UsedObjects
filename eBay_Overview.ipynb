{
 "cells": [
  {
   "cell_type": "code",
   "execution_count": 1,
   "id": "reverse-picking",
   "metadata": {
    "execution": {
     "iopub.execute_input": "2021-08-28T22:30:06.974291Z",
     "iopub.status.busy": "2021-08-28T22:30:06.972357Z",
     "iopub.status.idle": "2021-08-28T22:30:07.778685Z",
     "shell.execute_reply": "2021-08-28T22:30:07.779931Z"
    },
    "papermill": {
     "duration": 0.858546,
     "end_time": "2021-08-28T22:30:07.780628",
     "exception": false,
     "start_time": "2021-08-28T22:30:06.922082",
     "status": "completed"
    },
    "tags": []
   },
   "outputs": [],
   "source": [
    "import pandas as pd\n",
    "import sqlite3"
   ]
  },
  {
   "cell_type": "code",
   "execution_count": 2,
   "id": "innovative-syndrome",
   "metadata": {
    "execution": {
     "iopub.execute_input": "2021-08-28T22:30:07.832762Z",
     "iopub.status.busy": "2021-08-28T22:30:07.830746Z",
     "iopub.status.idle": "2021-08-28T22:30:07.985078Z",
     "shell.execute_reply": "2021-08-28T22:30:07.986307Z"
    },
    "papermill": {
     "duration": 0.183662,
     "end_time": "2021-08-28T22:30:07.986702",
     "exception": false,
     "start_time": "2021-08-28T22:30:07.803040",
     "status": "completed"
    },
    "tags": []
   },
   "outputs": [],
   "source": [
    "timestamps = pd.read_sql(\"select distinct record_time from EBAY_TOP_BERLIN order by record_time desc limit 2\", sqlite3.connect(\"UsedObjects.db\"))"
   ]
  },
  {
   "cell_type": "code",
   "execution_count": 3,
   "id": "periodic-identification",
   "metadata": {
    "execution": {
     "iopub.execute_input": "2021-08-28T22:30:08.058039Z",
     "iopub.status.busy": "2021-08-28T22:30:08.053050Z",
     "iopub.status.idle": "2021-08-28T22:30:08.072890Z",
     "shell.execute_reply": "2021-08-28T22:30:08.074350Z"
    },
    "papermill": {
     "duration": 0.065727,
     "end_time": "2021-08-28T22:30:08.074789",
     "exception": false,
     "start_time": "2021-08-28T22:30:08.009062",
     "status": "completed"
    },
    "tags": []
   },
   "outputs": [
    {
     "data": {
      "text/html": [
       "<div>\n",
       "<style scoped>\n",
       "    .dataframe tbody tr th:only-of-type {\n",
       "        vertical-align: middle;\n",
       "    }\n",
       "\n",
       "    .dataframe tbody tr th {\n",
       "        vertical-align: top;\n",
       "    }\n",
       "\n",
       "    .dataframe thead th {\n",
       "        text-align: right;\n",
       "    }\n",
       "</style>\n",
       "<table border=\"1\" class=\"dataframe\">\n",
       "  <thead>\n",
       "    <tr style=\"text-align: right;\">\n",
       "      <th></th>\n",
       "      <th>RECORD_TIME</th>\n",
       "    </tr>\n",
       "  </thead>\n",
       "  <tbody>\n",
       "    <tr>\n",
       "      <th>0</th>\n",
       "      <td>2021-08-29 00:30</td>\n",
       "    </tr>\n",
       "    <tr>\n",
       "      <th>1</th>\n",
       "      <td>2021-08-29 00:00</td>\n",
       "    </tr>\n",
       "  </tbody>\n",
       "</table>\n",
       "</div>"
      ],
      "text/plain": [
       "        RECORD_TIME\n",
       "0  2021-08-29 00:30\n",
       "1  2021-08-29 00:00"
      ]
     },
     "execution_count": 3,
     "metadata": {},
     "output_type": "execute_result"
    }
   ],
   "source": [
    "timestamps"
   ]
  },
  {
   "cell_type": "code",
   "execution_count": 4,
   "id": "alternate-victory",
   "metadata": {
    "execution": {
     "iopub.execute_input": "2021-08-28T22:30:08.125039Z",
     "iopub.status.busy": "2021-08-28T22:30:08.122914Z",
     "iopub.status.idle": "2021-08-28T22:30:08.354789Z",
     "shell.execute_reply": "2021-08-28T22:30:08.356068Z"
    },
    "papermill": {
     "duration": 0.261629,
     "end_time": "2021-08-28T22:30:08.356561",
     "exception": false,
     "start_time": "2021-08-28T22:30:08.094932",
     "status": "completed"
    },
    "tags": []
   },
   "outputs": [],
   "source": [
    "df = pd.read_sql(\"select * from EBAY_TOP_BERLIN where record_time in (select distinct record_time from EBAY_TOP_BERLIN order by record_time desc limit 2)\", sqlite3.connect(\"UsedObjects.db\"))"
   ]
  },
  {
   "cell_type": "code",
   "execution_count": 5,
   "id": "popular-active",
   "metadata": {
    "execution": {
     "iopub.execute_input": "2021-08-28T22:30:08.421603Z",
     "iopub.status.busy": "2021-08-28T22:30:08.415446Z",
     "iopub.status.idle": "2021-08-28T22:30:08.442524Z",
     "shell.execute_reply": "2021-08-28T22:30:08.443736Z"
    },
    "papermill": {
     "duration": 0.067585,
     "end_time": "2021-08-28T22:30:08.444130",
     "exception": false,
     "start_time": "2021-08-28T22:30:08.376545",
     "status": "completed"
    },
    "tags": []
   },
   "outputs": [],
   "source": [
    "df_pivot = df.pivot_table(index=\"PRODUCT\", columns = \"RECORD_TIME\", values = \"LISTING_COUNT\")"
   ]
  },
  {
   "cell_type": "code",
   "execution_count": 6,
   "id": "union-huntington",
   "metadata": {
    "execution": {
     "iopub.execute_input": "2021-08-28T22:30:08.516586Z",
     "iopub.status.busy": "2021-08-28T22:30:08.514130Z",
     "iopub.status.idle": "2021-08-28T22:30:08.520130Z",
     "shell.execute_reply": "2021-08-28T22:30:08.521576Z"
    },
    "papermill": {
     "duration": 0.047186,
     "end_time": "2021-08-28T22:30:08.522014",
     "exception": false,
     "start_time": "2021-08-28T22:30:08.474828",
     "status": "completed"
    },
    "tags": []
   },
   "outputs": [],
   "source": [
    "df_pivot.columns = [\"stamp_1\", \"stamp_2\"]\n",
    "df_pivot_diff = df_pivot.diff(axis=1)"
   ]
  },
  {
   "cell_type": "code",
   "execution_count": 7,
   "id": "fifth-motion",
   "metadata": {
    "execution": {
     "iopub.execute_input": "2021-08-28T22:30:08.576054Z",
     "iopub.status.busy": "2021-08-28T22:30:08.573885Z",
     "iopub.status.idle": "2021-08-28T22:30:10.091532Z",
     "shell.execute_reply": "2021-08-28T22:30:10.092880Z"
    },
    "papermill": {
     "duration": 1.550031,
     "end_time": "2021-08-28T22:30:10.093341",
     "exception": false,
     "start_time": "2021-08-28T22:30:08.543310",
     "status": "completed"
    },
    "tags": []
   },
   "outputs": [
    {
     "data": {
      "text/plain": [
       "<AxesSubplot:ylabel='PRODUCT'>"
      ]
     },
     "execution_count": 7,
     "metadata": {},
     "output_type": "execute_result"
    },
    {
     "data": {
      "image/png": "[encoded data removed]",
      "text/plain": [
       "<Figure size 432x288 with 1 Axes>"
      ]
     },
     "metadata": {
      "needs_background": "light"
     },
     "output_type": "display_data"
    }
   ],
   "source": [
    "df_pivot_diff.sort_values(\"stamp_2\", ascending = False)[\"stamp_2\"].head(10).plot.barh()"
   ]
  },
  {
   "cell_type": "code",
   "execution_count": null,
   "id": "extra-executive",
   "metadata": {
    "papermill": {
     "duration": 0.022194,
     "end_time": "2021-08-28T22:30:10.140331",
     "exception": false,
     "start_time": "2021-08-28T22:30:10.118137",
     "status": "completed"
    },
    "tags": []
   },
   "outputs": [],
   "source": []
  }
 ],
 "metadata": {
  "kernelspec": {
   "display_name": "Python 3",
   "language": "python",
   "name": "python3"
  },
  "language_info": {
   "codemirror_mode": {
    "name": "ipython",
    "version": 3
   },
   "file_extension": ".py",
   "mimetype": "text/x-python",
   "name": "python",
   "nbconvert_exporter": "python",
   "pygments_lexer": "ipython3",
   "version": "3.9.5"
  },
  "papermill": {
   "default_parameters": {},
   "duration": 6.822533,
   "end_time": "2021-08-28T22:30:11.346226",
   "environment_variables": {},
   "exception": null,
   "input_path": "eBay_Overview.ipynb",
   "output_path": "eBay_Overview.ipynb",
   "parameters": {},
   "start_time": "2021-08-28T22:30:04.523693",
   "version": "2.3.3"
  }
 },
 "nbformat": 4,
 "nbformat_minor": 5
}