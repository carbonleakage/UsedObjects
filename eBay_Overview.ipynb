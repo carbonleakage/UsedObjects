{
 "cells": [
  {
   "cell_type": "code",
   "execution_count": 1,
   "id": "reverse-picking",
   "metadata": {
    "execution": {
     "iopub.execute_input": "2021-09-13T10:00:06.653452Z",
     "iopub.status.busy": "2021-09-13T10:00:06.651485Z",
     "iopub.status.idle": "2021-09-13T10:00:07.458175Z",
     "shell.execute_reply": "2021-09-13T10:00:07.456606Z"
    },
    "papermill": {
     "duration": 0.857231,
     "end_time": "2021-09-13T10:00:07.458570",
     "exception": false,
     "start_time": "2021-09-13T10:00:06.601339",
     "status": "completed"
    },
    "tags": []
   },
   "outputs": [],
   "source": [
    "import pandas as pd\n",
    "import sqlite3"
   ]
  },
  {
   "cell_type": "code",
   "execution_count": 2,
   "id": "innovative-syndrome",
   "metadata": {
    "execution": {
     "iopub.execute_input": "2021-09-13T10:00:07.508944Z",
     "iopub.status.busy": "2021-09-13T10:00:07.507048Z",
     "iopub.status.idle": "2021-09-13T10:00:07.791150Z",
     "shell.execute_reply": "2021-09-13T10:00:07.792524Z"
    },
    "papermill": {
     "duration": 0.313595,
     "end_time": "2021-09-13T10:00:07.792934",
     "exception": false,
     "start_time": "2021-09-13T10:00:07.479339",
     "status": "completed"
    },
    "tags": []
   },
   "outputs": [],
   "source": [
    "timestamps = pd.read_sql(\"select distinct record_time from EBAY_TOP_BERLIN order by record_time desc limit 2\", sqlite3.connect(\"UsedObjects.db\"))"
   ]
  },
  {
   "cell_type": "code",
   "execution_count": 3,
   "id": "periodic-identification",
   "metadata": {
    "execution": {
     "iopub.execute_input": "2021-09-13T10:00:07.857202Z",
     "iopub.status.busy": "2021-09-13T10:00:07.855139Z",
     "iopub.status.idle": "2021-09-13T10:00:07.874838Z",
     "shell.execute_reply": "2021-09-13T10:00:07.876292Z"
    },
    "papermill": {
     "duration": 0.064045,
     "end_time": "2021-09-13T10:00:07.876712",
     "exception": false,
     "start_time": "2021-09-13T10:00:07.812667",
     "status": "completed"
    },
    "tags": []
   },
   "outputs": [
    {
     "data": {
      "text/html": [
       "<div>\n",
       "<style scoped>\n",
       "    .dataframe tbody tr th:only-of-type {\n",
       "        vertical-align: middle;\n",
       "    }\n",
       "\n",
       "    .dataframe tbody tr th {\n",
       "        vertical-align: top;\n",
       "    }\n",
       "\n",
       "    .dataframe thead th {\n",
       "        text-align: right;\n",
       "    }\n",
       "</style>\n",
       "<table border=\"1\" class=\"dataframe\">\n",
       "  <thead>\n",
       "    <tr style=\"text-align: right;\">\n",
       "      <th></th>\n",
       "      <th>RECORD_TIME</th>\n",
       "    </tr>\n",
       "  </thead>\n",
       "  <tbody>\n",
       "    <tr>\n",
       "      <th>0</th>\n",
       "      <td>2021-09-13 12:00</td>\n",
       "    </tr>\n",
       "    <tr>\n",
       "      <th>1</th>\n",
       "      <td>2021-09-13 11:30</td>\n",
       "    </tr>\n",
       "  </tbody>\n",
       "</table>\n",
       "</div>"
      ],
      "text/plain": [
       "        RECORD_TIME\n",
       "0  2021-09-13 12:00\n",
       "1  2021-09-13 11:30"
      ]
     },
     "execution_count": 3,
     "metadata": {},
     "output_type": "execute_result"
    }
   ],
   "source": [
    "timestamps"
   ]
  },
  {
   "cell_type": "code",
   "execution_count": 4,
   "id": "alternate-victory",
   "metadata": {
    "execution": {
     "iopub.execute_input": "2021-09-13T10:00:07.927804Z",
     "iopub.status.busy": "2021-09-13T10:00:07.925703Z",
     "iopub.status.idle": "2021-09-13T10:00:08.336126Z",
     "shell.execute_reply": "2021-09-13T10:00:08.337442Z"
    },
    "papermill": {
     "duration": 0.440316,
     "end_time": "2021-09-13T10:00:08.337859",
     "exception": false,
     "start_time": "2021-09-13T10:00:07.897543",
     "status": "completed"
    },
    "tags": []
   },
   "outputs": [],
   "source": [
    "df = pd.read_sql(\"select * from EBAY_TOP_BERLIN where record_time in (select distinct record_time from EBAY_TOP_BERLIN order by record_time desc limit 2)\", sqlite3.connect(\"UsedObjects.db\"))"
   ]
  },
  {
   "cell_type": "code",
   "execution_count": 5,
   "id": "popular-active",
   "metadata": {
    "execution": {
     "iopub.execute_input": "2021-09-13T10:00:08.417003Z",
     "iopub.status.busy": "2021-09-13T10:00:08.405028Z",
     "iopub.status.idle": "2021-09-13T10:00:08.433499Z",
     "shell.execute_reply": "2021-09-13T10:00:08.435061Z"
    },
    "papermill": {
     "duration": 0.07198,
     "end_time": "2021-09-13T10:00:08.435527",
     "exception": false,
     "start_time": "2021-09-13T10:00:08.363547",
     "status": "completed"
    },
    "tags": []
   },
   "outputs": [],
   "source": [
    "df_pivot = df.pivot_table(index=\"PRODUCT\", columns = \"RECORD_TIME\", values = \"LISTING_COUNT\")"
   ]
  },
  {
   "cell_type": "code",
   "execution_count": 6,
   "id": "union-huntington",
   "metadata": {
    "execution": {
     "iopub.execute_input": "2021-09-13T10:00:08.494620Z",
     "iopub.status.busy": "2021-09-13T10:00:08.492160Z",
     "iopub.status.idle": "2021-09-13T10:00:08.497945Z",
     "shell.execute_reply": "2021-09-13T10:00:08.499230Z"
    },
    "papermill": {
     "duration": 0.042124,
     "end_time": "2021-09-13T10:00:08.499675",
     "exception": false,
     "start_time": "2021-09-13T10:00:08.457551",
     "status": "completed"
    },
    "tags": []
   },
   "outputs": [],
   "source": [
    "df_pivot.columns = [\"stamp_1\", \"stamp_2\"]\n",
    "df_pivot_diff = df_pivot.diff(axis=1)"
   ]
  },
  {
   "cell_type": "code",
   "execution_count": 7,
   "id": "fifth-motion",
   "metadata": {
    "execution": {
     "iopub.execute_input": "2021-09-13T10:00:08.553641Z",
     "iopub.status.busy": "2021-09-13T10:00:08.551323Z",
     "iopub.status.idle": "2021-09-13T10:00:10.061126Z",
     "shell.execute_reply": "2021-09-13T10:00:10.062432Z"
    },
    "papermill": {
     "duration": 1.542883,
     "end_time": "2021-09-13T10:00:10.062850",
     "exception": false,
     "start_time": "2021-09-13T10:00:08.519967",
     "status": "completed"
    },
    "tags": []
   },
   "outputs": [
    {
     "data": {
      "text/plain": [
       "<AxesSubplot:ylabel='PRODUCT'>"
      ]
     },
     "execution_count": 7,
     "metadata": {},
     "output_type": "execute_result"
    },
    {
     "data": {
      "image/png": "[encoded data removed]",
      "text/plain": [
       "<Figure size 432x288 with 1 Axes>"
      ]
     },
     "metadata": {
      "needs_background": "light"
     },
     "output_type": "display_data"
    }
   ],
   "source": [
    "df_pivot_diff.sort_values(\"stamp_2\", ascending = False)[\"stamp_2\"].head(10).plot.barh()"
   ]
  },
  {
   "cell_type": "code",
   "execution_count": null,
   "id": "extra-executive",
   "metadata": {
    "papermill": {
     "duration": 0.021948,
     "end_time": "2021-09-13T10:00:10.108608",
     "exception": false,
     "start_time": "2021-09-13T10:00:10.086660",
     "status": "completed"
    },
    "tags": []
   },
   "outputs": [],
   "source": []
  }
 ],
 "metadata": {
  "kernelspec": {
   "display_name": "Python 3",
   "language": "python",
   "name": "python3"
  },
  "language_info": {
   "codemirror_mode": {
    "name": "ipython",
    "version": 3
   },
   "file_extension": ".py",
   "mimetype": "text/x-python",
   "name": "python",
   "nbconvert_exporter": "python",
   "pygments_lexer": "ipython3",
   "version": "3.9.5"
  },
  "papermill": {
   "default_parameters": {},
   "duration": 6.561761,
   "end_time": "2021-09-13T10:00:10.751328",
   "environment_variables": {},
   "exception": null,
   "input_path": "eBay_Overview.ipynb",
   "output_path": "eBay_Overview.ipynb",
   "parameters": {},
   "start_time": "2021-09-13T10:00:04.189567",
   "version": "2.3.3"
  }
 },
 "nbformat": 4,
 "nbformat_minor": 5
}