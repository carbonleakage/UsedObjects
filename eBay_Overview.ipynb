{
 "cells": [
  {
   "cell_type": "code",
   "execution_count": 1,
   "id": "reverse-picking",
   "metadata": {
    "execution": {
     "iopub.execute_input": "2021-12-04T02:00:07.896182Z",
     "iopub.status.busy": "2021-12-04T02:00:07.893940Z",
     "iopub.status.idle": "2021-12-04T02:00:08.860783Z",
     "shell.execute_reply": "2021-12-04T02:00:08.862592Z"
    },
    "papermill": {
     "duration": 1.014333,
     "end_time": "2021-12-04T02:00:08.863330",
     "exception": false,
     "start_time": "2021-12-04T02:00:07.848997",
     "status": "completed"
    },
    "tags": []
   },
   "outputs": [],
   "source": [
    "import pandas as pd\n",
    "import sqlite3"
   ]
  },
  {
   "cell_type": "code",
   "execution_count": 2,
   "id": "innovative-syndrome",
   "metadata": {
    "execution": {
     "iopub.execute_input": "2021-12-04T02:00:08.937323Z",
     "iopub.status.busy": "2021-12-04T02:00:08.934802Z",
     "iopub.status.idle": "2021-12-04T02:00:09.909362Z",
     "shell.execute_reply": "2021-12-04T02:00:09.910968Z"
    },
    "papermill": {
     "duration": 1.00855,
     "end_time": "2021-12-04T02:00:09.911441",
     "exception": false,
     "start_time": "2021-12-04T02:00:08.902891",
     "status": "completed"
    },
    "tags": []
   },
   "outputs": [],
   "source": [
    "timestamps = pd.read_sql(\"select distinct record_time from EBAY_TOP_BERLIN order by record_time desc limit 2\", sqlite3.connect(\"UsedObjects.db\"))"
   ]
  },
  {
   "cell_type": "code",
   "execution_count": 3,
   "id": "periodic-identification",
   "metadata": {
    "execution": {
     "iopub.execute_input": "2021-12-04T02:00:09.986556Z",
     "iopub.status.busy": "2021-12-04T02:00:09.981008Z",
     "iopub.status.idle": "2021-12-04T02:00:10.004300Z",
     "shell.execute_reply": "2021-12-04T02:00:10.005841Z"
    },
    "papermill": {
     "duration": 0.074388,
     "end_time": "2021-12-04T02:00:10.006352",
     "exception": false,
     "start_time": "2021-12-04T02:00:09.931964",
     "status": "completed"
    },
    "tags": []
   },
   "outputs": [
    {
     "data": {
      "text/html": [
       "<div>\n",
       "<style scoped>\n",
       "    .dataframe tbody tr th:only-of-type {\n",
       "        vertical-align: middle;\n",
       "    }\n",
       "\n",
       "    .dataframe tbody tr th {\n",
       "        vertical-align: top;\n",
       "    }\n",
       "\n",
       "    .dataframe thead th {\n",
       "        text-align: right;\n",
       "    }\n",
       "</style>\n",
       "<table border=\"1\" class=\"dataframe\">\n",
       "  <thead>\n",
       "    <tr style=\"text-align: right;\">\n",
       "      <th></th>\n",
       "      <th>RECORD_TIME</th>\n",
       "    </tr>\n",
       "  </thead>\n",
       "  <tbody>\n",
       "    <tr>\n",
       "      <th>0</th>\n",
       "      <td>2021-12-04 03:00</td>\n",
       "    </tr>\n",
       "    <tr>\n",
       "      <th>1</th>\n",
       "      <td>2021-12-04 02:30</td>\n",
       "    </tr>\n",
       "  </tbody>\n",
       "</table>\n",
       "</div>"
      ],
      "text/plain": [
       "        RECORD_TIME\n",
       "0  2021-12-04 03:00\n",
       "1  2021-12-04 02:30"
      ]
     },
     "execution_count": 3,
     "metadata": {},
     "output_type": "execute_result"
    }
   ],
   "source": [
    "timestamps"
   ]
  },
  {
   "cell_type": "code",
   "execution_count": 4,
   "id": "alternate-victory",
   "metadata": {
    "execution": {
     "iopub.execute_input": "2021-12-04T02:00:10.065485Z",
     "iopub.status.busy": "2021-12-04T02:00:10.063318Z",
     "iopub.status.idle": "2021-12-04T02:00:11.508891Z",
     "shell.execute_reply": "2021-12-04T02:00:11.511716Z"
    },
    "papermill": {
     "duration": 1.484342,
     "end_time": "2021-12-04T02:00:11.512496",
     "exception": false,
     "start_time": "2021-12-04T02:00:10.028154",
     "status": "completed"
    },
    "tags": []
   },
   "outputs": [],
   "source": [
    "df = pd.read_sql(\"select * from EBAY_TOP_BERLIN where record_time in (select distinct record_time from EBAY_TOP_BERLIN order by record_time desc limit 2)\", sqlite3.connect(\"UsedObjects.db\"))"
   ]
  },
  {
   "cell_type": "code",
   "execution_count": 5,
   "id": "popular-active",
   "metadata": {
    "execution": {
     "iopub.execute_input": "2021-12-04T02:00:11.591753Z",
     "iopub.status.busy": "2021-12-04T02:00:11.577391Z",
     "iopub.status.idle": "2021-12-04T02:00:11.610852Z",
     "shell.execute_reply": "2021-12-04T02:00:11.612345Z"
    },
    "papermill": {
     "duration": 0.078648,
     "end_time": "2021-12-04T02:00:11.612864",
     "exception": false,
     "start_time": "2021-12-04T02:00:11.534216",
     "status": "completed"
    },
    "tags": []
   },
   "outputs": [],
   "source": [
    "df_pivot = df.pivot_table(index=\"PRODUCT\", columns = \"RECORD_TIME\", values = \"LISTING_COUNT\")"
   ]
  },
  {
   "cell_type": "code",
   "execution_count": 6,
   "id": "union-huntington",
   "metadata": {
    "execution": {
     "iopub.execute_input": "2021-12-04T02:00:11.672342Z",
     "iopub.status.busy": "2021-12-04T02:00:11.670198Z",
     "iopub.status.idle": "2021-12-04T02:00:11.675626Z",
     "shell.execute_reply": "2021-12-04T02:00:11.677287Z"
    },
    "papermill": {
     "duration": 0.043126,
     "end_time": "2021-12-04T02:00:11.677766",
     "exception": false,
     "start_time": "2021-12-04T02:00:11.634640",
     "status": "completed"
    },
    "tags": []
   },
   "outputs": [],
   "source": [
    "df_pivot.columns = [\"stamp_1\", \"stamp_2\"]\n",
    "df_pivot_diff = df_pivot.diff(axis=1)"
   ]
  },
  {
   "cell_type": "code",
   "execution_count": 7,
   "id": "fifth-motion",
   "metadata": {
    "execution": {
     "iopub.execute_input": "2021-12-04T02:00:11.732293Z",
     "iopub.status.busy": "2021-12-04T02:00:11.730523Z",
     "iopub.status.idle": "2021-12-04T02:00:13.664468Z",
     "shell.execute_reply": "2021-12-04T02:00:13.667065Z"
    },
    "papermill": {
     "duration": 1.970267,
     "end_time": "2021-12-04T02:00:13.667894",
     "exception": false,
     "start_time": "2021-12-04T02:00:11.697627",
     "status": "completed"
    },
    "tags": []
   },
   "outputs": [
    {
     "data": {
      "text/plain": [
       "<AxesSubplot:ylabel='PRODUCT'>"
      ]
     },
     "execution_count": 7,
     "metadata": {},
     "output_type": "execute_result"
    },
    {
     "data": {
      "image/png": "[encoded data removed]",
      "text/plain": [
       "<Figure size 432x288 with 1 Axes>"
      ]
     },
     "metadata": {
      "needs_background": "light"
     },
     "output_type": "display_data"
    }
   ],
   "source": [
    "df_pivot_diff.sort_values(\"stamp_2\", ascending = False)[\"stamp_2\"].head(10).plot.barh()"
   ]
  },
  {
   "cell_type": "code",
   "execution_count": null,
   "id": "extra-executive",
   "metadata": {
    "papermill": {
     "duration": 0.036273,
     "end_time": "2021-12-04T02:00:13.738509",
     "exception": false,
     "start_time": "2021-12-04T02:00:13.702236",
     "status": "completed"
    },
    "tags": []
   },
   "outputs": [],
   "source": []
  }
 ],
 "metadata": {
  "kernelspec": {
   "display_name": "Python 3",
   "language": "python",
   "name": "python3"
  },
  "language_info": {
   "codemirror_mode": {
    "name": "ipython",
    "version": 3
   },
   "file_extension": ".py",
   "mimetype": "text/x-python",
   "name": "python",
   "nbconvert_exporter": "python",
   "pygments_lexer": "ipython3",
   "version": "3.9.5"
  },
  "papermill": {
   "default_parameters": {},
   "duration": 9.937445,
   "end_time": "2021-12-04T02:00:15.048289",
   "environment_variables": {},
   "exception": null,
   "input_path": "eBay_Overview.ipynb",
   "output_path": "eBay_Overview.ipynb",
   "parameters": {},
   "start_time": "2021-12-04T02:00:05.110844",
   "version": "2.3.3"
  }
 },
 "nbformat": 4,
 "nbformat_minor": 5
}