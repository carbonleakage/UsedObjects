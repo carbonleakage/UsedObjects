{
 "cells": [
  {
   "cell_type": "code",
   "execution_count": 1,
   "id": "reverse-picking",
   "metadata": {
    "execution": {
     "iopub.execute_input": "2021-11-24T15:30:07.331972Z",
     "iopub.status.busy": "2021-11-24T15:30:07.321117Z",
     "iopub.status.idle": "2021-11-24T15:30:08.281118Z",
     "shell.execute_reply": "2021-11-24T15:30:08.282624Z"
    },
    "papermill": {
     "duration": 1.007497,
     "end_time": "2021-11-24T15:30:08.283361",
     "exception": false,
     "start_time": "2021-11-24T15:30:07.275864",
     "status": "completed"
    },
    "tags": []
   },
   "outputs": [],
   "source": [
    "import pandas as pd\n",
    "import sqlite3"
   ]
  },
  {
   "cell_type": "code",
   "execution_count": 2,
   "id": "innovative-syndrome",
   "metadata": {
    "execution": {
     "iopub.execute_input": "2021-11-24T15:30:08.347100Z",
     "iopub.status.busy": "2021-11-24T15:30:08.344924Z",
     "iopub.status.idle": "2021-11-24T15:30:09.255496Z",
     "shell.execute_reply": "2021-11-24T15:30:09.257212Z"
    },
    "papermill": {
     "duration": 0.944914,
     "end_time": "2021-11-24T15:30:09.257723",
     "exception": false,
     "start_time": "2021-11-24T15:30:08.312809",
     "status": "completed"
    },
    "tags": []
   },
   "outputs": [],
   "source": [
    "timestamps = pd.read_sql(\"select distinct record_time from EBAY_TOP_BERLIN order by record_time desc limit 2\", sqlite3.connect(\"UsedObjects.db\"))"
   ]
  },
  {
   "cell_type": "code",
   "execution_count": 3,
   "id": "periodic-identification",
   "metadata": {
    "execution": {
     "iopub.execute_input": "2021-11-24T15:30:09.330501Z",
     "iopub.status.busy": "2021-11-24T15:30:09.327734Z",
     "iopub.status.idle": "2021-11-24T15:30:09.353344Z",
     "shell.execute_reply": "2021-11-24T15:30:09.354746Z"
    },
    "papermill": {
     "duration": 0.076905,
     "end_time": "2021-11-24T15:30:09.355234",
     "exception": false,
     "start_time": "2021-11-24T15:30:09.278329",
     "status": "completed"
    },
    "tags": []
   },
   "outputs": [
    {
     "data": {
      "text/html": [
       "<div>\n",
       "<style scoped>\n",
       "    .dataframe tbody tr th:only-of-type {\n",
       "        vertical-align: middle;\n",
       "    }\n",
       "\n",
       "    .dataframe tbody tr th {\n",
       "        vertical-align: top;\n",
       "    }\n",
       "\n",
       "    .dataframe thead th {\n",
       "        text-align: right;\n",
       "    }\n",
       "</style>\n",
       "<table border=\"1\" class=\"dataframe\">\n",
       "  <thead>\n",
       "    <tr style=\"text-align: right;\">\n",
       "      <th></th>\n",
       "      <th>RECORD_TIME</th>\n",
       "    </tr>\n",
       "  </thead>\n",
       "  <tbody>\n",
       "    <tr>\n",
       "      <th>0</th>\n",
       "      <td>2021-11-24 16:30</td>\n",
       "    </tr>\n",
       "    <tr>\n",
       "      <th>1</th>\n",
       "      <td>2021-11-24 16:00</td>\n",
       "    </tr>\n",
       "  </tbody>\n",
       "</table>\n",
       "</div>"
      ],
      "text/plain": [
       "        RECORD_TIME\n",
       "0  2021-11-24 16:30\n",
       "1  2021-11-24 16:00"
      ]
     },
     "execution_count": 3,
     "metadata": {},
     "output_type": "execute_result"
    }
   ],
   "source": [
    "timestamps"
   ]
  },
  {
   "cell_type": "code",
   "execution_count": 4,
   "id": "alternate-victory",
   "metadata": {
    "execution": {
     "iopub.execute_input": "2021-11-24T15:30:09.411791Z",
     "iopub.status.busy": "2021-11-24T15:30:09.409516Z",
     "iopub.status.idle": "2021-11-24T15:30:10.738711Z",
     "shell.execute_reply": "2021-11-24T15:30:10.742409Z"
    },
    "papermill": {
     "duration": 1.365695,
     "end_time": "2021-11-24T15:30:10.743209",
     "exception": false,
     "start_time": "2021-11-24T15:30:09.377514",
     "status": "completed"
    },
    "tags": []
   },
   "outputs": [],
   "source": [
    "df = pd.read_sql(\"select * from EBAY_TOP_BERLIN where record_time in (select distinct record_time from EBAY_TOP_BERLIN order by record_time desc limit 2)\", sqlite3.connect(\"UsedObjects.db\"))"
   ]
  },
  {
   "cell_type": "code",
   "execution_count": 5,
   "id": "popular-active",
   "metadata": {
    "execution": {
     "iopub.execute_input": "2021-11-24T15:30:10.819766Z",
     "iopub.status.busy": "2021-11-24T15:30:10.812480Z",
     "iopub.status.idle": "2021-11-24T15:30:10.846554Z",
     "shell.execute_reply": "2021-11-24T15:30:10.848013Z"
    },
    "papermill": {
     "duration": 0.079372,
     "end_time": "2021-11-24T15:30:10.848529",
     "exception": false,
     "start_time": "2021-11-24T15:30:10.769157",
     "status": "completed"
    },
    "tags": []
   },
   "outputs": [],
   "source": [
    "df_pivot = df.pivot_table(index=\"PRODUCT\", columns = \"RECORD_TIME\", values = \"LISTING_COUNT\")"
   ]
  },
  {
   "cell_type": "code",
   "execution_count": 6,
   "id": "union-huntington",
   "metadata": {
    "execution": {
     "iopub.execute_input": "2021-11-24T15:30:10.907636Z",
     "iopub.status.busy": "2021-11-24T15:30:10.905409Z",
     "iopub.status.idle": "2021-11-24T15:30:10.910669Z",
     "shell.execute_reply": "2021-11-24T15:30:10.912093Z"
    },
    "papermill": {
     "duration": 0.043274,
     "end_time": "2021-11-24T15:30:10.912515",
     "exception": false,
     "start_time": "2021-11-24T15:30:10.869241",
     "status": "completed"
    },
    "tags": []
   },
   "outputs": [],
   "source": [
    "df_pivot.columns = [\"stamp_1\", \"stamp_2\"]\n",
    "df_pivot_diff = df_pivot.diff(axis=1)"
   ]
  },
  {
   "cell_type": "code",
   "execution_count": 7,
   "id": "fifth-motion",
   "metadata": {
    "execution": {
     "iopub.execute_input": "2021-11-24T15:30:10.970034Z",
     "iopub.status.busy": "2021-11-24T15:30:10.967820Z",
     "iopub.status.idle": "2021-11-24T15:30:12.874060Z",
     "shell.execute_reply": "2021-11-24T15:30:12.875787Z"
    },
    "papermill": {
     "duration": 1.942946,
     "end_time": "2021-11-24T15:30:12.876370",
     "exception": false,
     "start_time": "2021-11-24T15:30:10.933424",
     "status": "completed"
    },
    "tags": []
   },
   "outputs": [
    {
     "data": {
      "text/plain": [
       "<AxesSubplot:ylabel='PRODUCT'>"
      ]
     },
     "execution_count": 7,
     "metadata": {},
     "output_type": "execute_result"
    },
    {
     "data": {
      "image/png": "[encoded data removed]",
      "text/plain": [
       "<Figure size 432x288 with 1 Axes>"
      ]
     },
     "metadata": {
      "needs_background": "light"
     },
     "output_type": "display_data"
    }
   ],
   "source": [
    "df_pivot_diff.sort_values(\"stamp_2\", ascending = False)[\"stamp_2\"].head(10).plot.barh()"
   ]
  },
  {
   "cell_type": "code",
   "execution_count": null,
   "id": "extra-executive",
   "metadata": {
    "papermill": {
     "duration": 0.023948,
     "end_time": "2021-11-24T15:30:12.924178",
     "exception": false,
     "start_time": "2021-11-24T15:30:12.900230",
     "status": "completed"
    },
    "tags": []
   },
   "outputs": [],
   "source": []
  }
 ],
 "metadata": {
  "kernelspec": {
   "display_name": "Python 3",
   "language": "python",
   "name": "python3"
  },
  "language_info": {
   "codemirror_mode": {
    "name": "ipython",
    "version": 3
   },
   "file_extension": ".py",
   "mimetype": "text/x-python",
   "name": "python",
   "nbconvert_exporter": "python",
   "pygments_lexer": "ipython3",
   "version": "3.9.5"
  },
  "papermill": {
   "default_parameters": {},
   "duration": 9.938747,
   "end_time": "2021-11-24T15:30:14.467083",
   "environment_variables": {},
   "exception": null,
   "input_path": "eBay_Overview.ipynb",
   "output_path": "eBay_Overview.ipynb",
   "parameters": {},
   "start_time": "2021-11-24T15:30:04.528336",
   "version": "2.3.3"
  }
 },
 "nbformat": 4,
 "nbformat_minor": 5
}