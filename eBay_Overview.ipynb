{
 "cells": [
  {
   "cell_type": "code",
   "execution_count": 1,
   "id": "reverse-picking",
   "metadata": {
    "execution": {
     "iopub.execute_input": "2021-12-20T23:30:07.706620Z",
     "iopub.status.busy": "2021-12-20T23:30:07.688841Z",
     "iopub.status.idle": "2021-12-20T23:30:08.627696Z",
     "shell.execute_reply": "2021-12-20T23:30:08.630136Z"
    },
    "papermill": {
     "duration": 0.975911,
     "end_time": "2021-12-20T23:30:08.630914",
     "exception": false,
     "start_time": "2021-12-20T23:30:07.655003",
     "status": "completed"
    },
    "tags": []
   },
   "outputs": [],
   "source": [
    "import pandas as pd\n",
    "import sqlite3"
   ]
  },
  {
   "cell_type": "code",
   "execution_count": 2,
   "id": "innovative-syndrome",
   "metadata": {
    "execution": {
     "iopub.execute_input": "2021-12-20T23:30:08.754088Z",
     "iopub.status.busy": "2021-12-20T23:30:08.751674Z",
     "iopub.status.idle": "2021-12-20T23:30:09.873489Z",
     "shell.execute_reply": "2021-12-20T23:30:09.874773Z"
    },
    "papermill": {
     "duration": 1.156388,
     "end_time": "2021-12-20T23:30:09.875173",
     "exception": false,
     "start_time": "2021-12-20T23:30:08.718785",
     "status": "completed"
    },
    "tags": []
   },
   "outputs": [],
   "source": [
    "timestamps = pd.read_sql(\"select distinct record_time from EBAY_TOP_BERLIN order by record_time desc limit 2\", sqlite3.connect(\"UsedObjects.db\"))"
   ]
  },
  {
   "cell_type": "code",
   "execution_count": 3,
   "id": "periodic-identification",
   "metadata": {
    "execution": {
     "iopub.execute_input": "2021-12-20T23:30:09.945139Z",
     "iopub.status.busy": "2021-12-20T23:30:09.938870Z",
     "iopub.status.idle": "2021-12-20T23:30:09.961666Z",
     "shell.execute_reply": "2021-12-20T23:30:09.963038Z"
    },
    "papermill": {
     "duration": 0.067989,
     "end_time": "2021-12-20T23:30:09.963512",
     "exception": false,
     "start_time": "2021-12-20T23:30:09.895523",
     "status": "completed"
    },
    "tags": []
   },
   "outputs": [
    {
     "data": {
      "text/html": [
       "<div>\n",
       "<style scoped>\n",
       "    .dataframe tbody tr th:only-of-type {\n",
       "        vertical-align: middle;\n",
       "    }\n",
       "\n",
       "    .dataframe tbody tr th {\n",
       "        vertical-align: top;\n",
       "    }\n",
       "\n",
       "    .dataframe thead th {\n",
       "        text-align: right;\n",
       "    }\n",
       "</style>\n",
       "<table border=\"1\" class=\"dataframe\">\n",
       "  <thead>\n",
       "    <tr style=\"text-align: right;\">\n",
       "      <th></th>\n",
       "      <th>RECORD_TIME</th>\n",
       "    </tr>\n",
       "  </thead>\n",
       "  <tbody>\n",
       "    <tr>\n",
       "      <th>0</th>\n",
       "      <td>2021-12-21 00:30</td>\n",
       "    </tr>\n",
       "    <tr>\n",
       "      <th>1</th>\n",
       "      <td>2021-12-21 00:00</td>\n",
       "    </tr>\n",
       "  </tbody>\n",
       "</table>\n",
       "</div>"
      ],
      "text/plain": [
       "        RECORD_TIME\n",
       "0  2021-12-21 00:30\n",
       "1  2021-12-21 00:00"
      ]
     },
     "execution_count": 3,
     "metadata": {},
     "output_type": "execute_result"
    }
   ],
   "source": [
    "timestamps"
   ]
  },
  {
   "cell_type": "code",
   "execution_count": 4,
   "id": "alternate-victory",
   "metadata": {
    "execution": {
     "iopub.execute_input": "2021-12-20T23:30:10.017794Z",
     "iopub.status.busy": "2021-12-20T23:30:10.015485Z",
     "iopub.status.idle": "2021-12-20T23:30:11.653804Z",
     "shell.execute_reply": "2021-12-20T23:30:11.655164Z"
    },
    "papermill": {
     "duration": 1.671909,
     "end_time": "2021-12-20T23:30:11.655634",
     "exception": false,
     "start_time": "2021-12-20T23:30:09.983725",
     "status": "completed"
    },
    "tags": []
   },
   "outputs": [],
   "source": [
    "df = pd.read_sql(\"select * from EBAY_TOP_BERLIN where record_time in (select distinct record_time from EBAY_TOP_BERLIN order by record_time desc limit 2)\", sqlite3.connect(\"UsedObjects.db\"))"
   ]
  },
  {
   "cell_type": "code",
   "execution_count": 5,
   "id": "popular-active",
   "metadata": {
    "execution": {
     "iopub.execute_input": "2021-12-20T23:30:11.714516Z",
     "iopub.status.busy": "2021-12-20T23:30:11.711914Z",
     "iopub.status.idle": "2021-12-20T23:30:11.752424Z",
     "shell.execute_reply": "2021-12-20T23:30:11.753871Z"
    },
    "papermill": {
     "duration": 0.077464,
     "end_time": "2021-12-20T23:30:11.754347",
     "exception": false,
     "start_time": "2021-12-20T23:30:11.676883",
     "status": "completed"
    },
    "tags": []
   },
   "outputs": [],
   "source": [
    "df_pivot = df.pivot_table(index=\"PRODUCT\", columns = \"RECORD_TIME\", values = \"LISTING_COUNT\")"
   ]
  },
  {
   "cell_type": "code",
   "execution_count": 6,
   "id": "union-huntington",
   "metadata": {
    "execution": {
     "iopub.execute_input": "2021-12-20T23:30:11.813377Z",
     "iopub.status.busy": "2021-12-20T23:30:11.811030Z",
     "iopub.status.idle": "2021-12-20T23:30:11.816975Z",
     "shell.execute_reply": "2021-12-20T23:30:11.818349Z"
    },
    "papermill": {
     "duration": 0.044401,
     "end_time": "2021-12-20T23:30:11.818822",
     "exception": false,
     "start_time": "2021-12-20T23:30:11.774421",
     "status": "completed"
    },
    "tags": []
   },
   "outputs": [],
   "source": [
    "df_pivot.columns = [\"stamp_1\", \"stamp_2\"]\n",
    "df_pivot_diff = df_pivot.diff(axis=1)"
   ]
  },
  {
   "cell_type": "code",
   "execution_count": 7,
   "id": "fifth-motion",
   "metadata": {
    "execution": {
     "iopub.execute_input": "2021-12-20T23:30:11.884370Z",
     "iopub.status.busy": "2021-12-20T23:30:11.876075Z",
     "iopub.status.idle": "2021-12-20T23:30:13.912424Z",
     "shell.execute_reply": "2021-12-20T23:30:13.913779Z"
    },
    "papermill": {
     "duration": 2.074682,
     "end_time": "2021-12-20T23:30:13.914203",
     "exception": false,
     "start_time": "2021-12-20T23:30:11.839521",
     "status": "completed"
    },
    "tags": []
   },
   "outputs": [
    {
     "data": {
      "text/plain": [
       "<AxesSubplot:ylabel='PRODUCT'>"
      ]
     },
     "execution_count": 7,
     "metadata": {},
     "output_type": "execute_result"
    },
    {
     "data": {
      "image/png": "[encoded data removed]",
      "text/plain": [
       "<Figure size 432x288 with 1 Axes>"
      ]
     },
     "metadata": {
      "needs_background": "light"
     },
     "output_type": "display_data"
    }
   ],
   "source": [
    "df_pivot_diff.sort_values(\"stamp_2\", ascending = False)[\"stamp_2\"].head(10).plot.barh()"
   ]
  },
  {
   "cell_type": "code",
   "execution_count": null,
   "id": "extra-executive",
   "metadata": {
    "papermill": {
     "duration": 0.02879,
     "end_time": "2021-12-20T23:30:14.031892",
     "exception": false,
     "start_time": "2021-12-20T23:30:14.003102",
     "status": "completed"
    },
    "tags": []
   },
   "outputs": [],
   "source": []
  }
 ],
 "metadata": {
  "kernelspec": {
   "display_name": "Python 3",
   "language": "python",
   "name": "python3"
  },
  "language_info": {
   "codemirror_mode": {
    "name": "ipython",
    "version": 3
   },
   "file_extension": ".py",
   "mimetype": "text/x-python",
   "name": "python",
   "nbconvert_exporter": "python",
   "pygments_lexer": "ipython3",
   "version": "3.9.5"
  },
  "papermill": {
   "default_parameters": {},
   "duration": 9.77055,
   "end_time": "2021-12-20T23:30:14.689746",
   "environment_variables": {},
   "exception": null,
   "input_path": "eBay_Overview.ipynb",
   "output_path": "eBay_Overview.ipynb",
   "parameters": {},
   "start_time": "2021-12-20T23:30:04.919196",
   "version": "2.3.3"
  }
 },
 "nbformat": 4,
 "nbformat_minor": 5
}