{
 "cells": [
  {
   "cell_type": "code",
   "execution_count": 1,
   "id": "reverse-picking",
   "metadata": {
    "execution": {
     "iopub.execute_input": "2021-10-27T11:00:07.213203Z",
     "iopub.status.busy": "2021-10-27T11:00:07.211199Z",
     "iopub.status.idle": "2021-10-27T11:00:08.019628Z",
     "shell.execute_reply": "2021-10-27T11:00:08.021055Z"
    },
    "papermill": {
     "duration": 0.859111,
     "end_time": "2021-10-27T11:00:08.021702",
     "exception": false,
     "start_time": "2021-10-27T11:00:07.162591",
     "status": "completed"
    },
    "tags": []
   },
   "outputs": [],
   "source": [
    "import pandas as pd\n",
    "import sqlite3"
   ]
  },
  {
   "cell_type": "code",
   "execution_count": 2,
   "id": "innovative-syndrome",
   "metadata": {
    "execution": {
     "iopub.execute_input": "2021-10-27T11:00:08.074472Z",
     "iopub.status.busy": "2021-10-27T11:00:08.072055Z",
     "iopub.status.idle": "2021-10-27T11:00:08.721116Z",
     "shell.execute_reply": "2021-10-27T11:00:08.722242Z"
    },
    "papermill": {
     "duration": 0.679207,
     "end_time": "2021-10-27T11:00:08.722655",
     "exception": false,
     "start_time": "2021-10-27T11:00:08.043448",
     "status": "completed"
    },
    "tags": []
   },
   "outputs": [],
   "source": [
    "timestamps = pd.read_sql(\"select distinct record_time from EBAY_TOP_BERLIN order by record_time desc limit 2\", sqlite3.connect(\"UsedObjects.db\"))"
   ]
  },
  {
   "cell_type": "code",
   "execution_count": 3,
   "id": "periodic-identification",
   "metadata": {
    "execution": {
     "iopub.execute_input": "2021-10-27T11:00:08.799459Z",
     "iopub.status.busy": "2021-10-27T11:00:08.797426Z",
     "iopub.status.idle": "2021-10-27T11:00:08.817354Z",
     "shell.execute_reply": "2021-10-27T11:00:08.818662Z"
    },
    "papermill": {
     "duration": 0.069961,
     "end_time": "2021-10-27T11:00:08.819208",
     "exception": false,
     "start_time": "2021-10-27T11:00:08.749247",
     "status": "completed"
    },
    "tags": []
   },
   "outputs": [
    {
     "data": {
      "text/html": [
       "<div>\n",
       "<style scoped>\n",
       "    .dataframe tbody tr th:only-of-type {\n",
       "        vertical-align: middle;\n",
       "    }\n",
       "\n",
       "    .dataframe tbody tr th {\n",
       "        vertical-align: top;\n",
       "    }\n",
       "\n",
       "    .dataframe thead th {\n",
       "        text-align: right;\n",
       "    }\n",
       "</style>\n",
       "<table border=\"1\" class=\"dataframe\">\n",
       "  <thead>\n",
       "    <tr style=\"text-align: right;\">\n",
       "      <th></th>\n",
       "      <th>RECORD_TIME</th>\n",
       "    </tr>\n",
       "  </thead>\n",
       "  <tbody>\n",
       "    <tr>\n",
       "      <th>0</th>\n",
       "      <td>2021-10-27 13:00</td>\n",
       "    </tr>\n",
       "    <tr>\n",
       "      <th>1</th>\n",
       "      <td>2021-10-27 12:30</td>\n",
       "    </tr>\n",
       "  </tbody>\n",
       "</table>\n",
       "</div>"
      ],
      "text/plain": [
       "        RECORD_TIME\n",
       "0  2021-10-27 13:00\n",
       "1  2021-10-27 12:30"
      ]
     },
     "execution_count": 3,
     "metadata": {},
     "output_type": "execute_result"
    }
   ],
   "source": [
    "timestamps"
   ]
  },
  {
   "cell_type": "code",
   "execution_count": 4,
   "id": "alternate-victory",
   "metadata": {
    "execution": {
     "iopub.execute_input": "2021-10-27T11:00:08.870041Z",
     "iopub.status.busy": "2021-10-27T11:00:08.867981Z",
     "iopub.status.idle": "2021-10-27T11:00:09.790138Z",
     "shell.execute_reply": "2021-10-27T11:00:09.791342Z"
    },
    "papermill": {
     "duration": 0.952144,
     "end_time": "2021-10-27T11:00:09.791742",
     "exception": false,
     "start_time": "2021-10-27T11:00:08.839598",
     "status": "completed"
    },
    "tags": []
   },
   "outputs": [],
   "source": [
    "df = pd.read_sql(\"select * from EBAY_TOP_BERLIN where record_time in (select distinct record_time from EBAY_TOP_BERLIN order by record_time desc limit 2)\", sqlite3.connect(\"UsedObjects.db\"))"
   ]
  },
  {
   "cell_type": "code",
   "execution_count": 5,
   "id": "popular-active",
   "metadata": {
    "execution": {
     "iopub.execute_input": "2021-10-27T11:00:09.862098Z",
     "iopub.status.busy": "2021-10-27T11:00:09.856463Z",
     "iopub.status.idle": "2021-10-27T11:00:09.878959Z",
     "shell.execute_reply": "2021-10-27T11:00:09.880230Z"
    },
    "papermill": {
     "duration": 0.068256,
     "end_time": "2021-10-27T11:00:09.880645",
     "exception": false,
     "start_time": "2021-10-27T11:00:09.812389",
     "status": "completed"
    },
    "tags": []
   },
   "outputs": [],
   "source": [
    "df_pivot = df.pivot_table(index=\"PRODUCT\", columns = \"RECORD_TIME\", values = \"LISTING_COUNT\")"
   ]
  },
  {
   "cell_type": "code",
   "execution_count": 6,
   "id": "union-huntington",
   "metadata": {
    "execution": {
     "iopub.execute_input": "2021-10-27T11:00:09.937370Z",
     "iopub.status.busy": "2021-10-27T11:00:09.935260Z",
     "iopub.status.idle": "2021-10-27T11:00:09.940571Z",
     "shell.execute_reply": "2021-10-27T11:00:09.941841Z"
    },
    "papermill": {
     "duration": 0.040366,
     "end_time": "2021-10-27T11:00:09.942285",
     "exception": false,
     "start_time": "2021-10-27T11:00:09.901919",
     "status": "completed"
    },
    "tags": []
   },
   "outputs": [],
   "source": [
    "df_pivot.columns = [\"stamp_1\", \"stamp_2\"]\n",
    "df_pivot_diff = df_pivot.diff(axis=1)"
   ]
  },
  {
   "cell_type": "code",
   "execution_count": 7,
   "id": "fifth-motion",
   "metadata": {
    "execution": {
     "iopub.execute_input": "2021-10-27T11:00:09.996407Z",
     "iopub.status.busy": "2021-10-27T11:00:09.994058Z",
     "iopub.status.idle": "2021-10-27T11:00:11.477946Z",
     "shell.execute_reply": "2021-10-27T11:00:11.479219Z"
    },
    "papermill": {
     "duration": 1.516832,
     "end_time": "2021-10-27T11:00:11.479635",
     "exception": false,
     "start_time": "2021-10-27T11:00:09.962803",
     "status": "completed"
    },
    "tags": []
   },
   "outputs": [
    {
     "data": {
      "text/plain": [
       "<AxesSubplot:ylabel='PRODUCT'>"
      ]
     },
     "execution_count": 7,
     "metadata": {},
     "output_type": "execute_result"
    },
    {
     "data": {
      "image/png": "[encoded data removed]",
      "text/plain": [
       "<Figure size 432x288 with 1 Axes>"
      ]
     },
     "metadata": {
      "needs_background": "light"
     },
     "output_type": "display_data"
    }
   ],
   "source": [
    "df_pivot_diff.sort_values(\"stamp_2\", ascending = False)[\"stamp_2\"].head(10).plot.barh()"
   ]
  },
  {
   "cell_type": "code",
   "execution_count": null,
   "id": "extra-executive",
   "metadata": {
    "papermill": {
     "duration": 0.022316,
     "end_time": "2021-10-27T11:00:11.525834",
     "exception": false,
     "start_time": "2021-10-27T11:00:11.503518",
     "status": "completed"
    },
    "tags": []
   },
   "outputs": [],
   "source": []
  }
 ],
 "metadata": {
  "kernelspec": {
   "display_name": "Python 3",
   "language": "python",
   "name": "python3"
  },
  "language_info": {
   "codemirror_mode": {
    "name": "ipython",
    "version": 3
   },
   "file_extension": ".py",
   "mimetype": "text/x-python",
   "name": "python",
   "nbconvert_exporter": "python",
   "pygments_lexer": "ipython3",
   "version": "3.9.5"
  },
  "papermill": {
   "default_parameters": {},
   "duration": 7.409249,
   "end_time": "2021-10-27T11:00:12.168778",
   "environment_variables": {},
   "exception": null,
   "input_path": "eBay_Overview.ipynb",
   "output_path": "eBay_Overview.ipynb",
   "parameters": {},
   "start_time": "2021-10-27T11:00:04.759529",
   "version": "2.3.3"
  }
 },
 "nbformat": 4,
 "nbformat_minor": 5
}