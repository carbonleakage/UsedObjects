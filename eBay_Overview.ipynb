{
 "cells": [
  {
   "cell_type": "code",
   "execution_count": 1,
   "id": "reverse-picking",
   "metadata": {
    "execution": {
     "iopub.execute_input": "2021-12-05T05:00:07.215736Z",
     "iopub.status.busy": "2021-12-05T05:00:07.212895Z",
     "iopub.status.idle": "2021-12-05T05:00:08.176672Z",
     "shell.execute_reply": "2021-12-05T05:00:08.178396Z"
    },
    "papermill": {
     "duration": 1.01117,
     "end_time": "2021-12-05T05:00:08.179138",
     "exception": false,
     "start_time": "2021-12-05T05:00:07.167968",
     "status": "completed"
    },
    "tags": []
   },
   "outputs": [],
   "source": [
    "import pandas as pd\n",
    "import sqlite3"
   ]
  },
  {
   "cell_type": "code",
   "execution_count": 2,
   "id": "innovative-syndrome",
   "metadata": {
    "execution": {
     "iopub.execute_input": "2021-12-05T05:00:08.242505Z",
     "iopub.status.busy": "2021-12-05T05:00:08.240172Z",
     "iopub.status.idle": "2021-12-05T05:00:09.241886Z",
     "shell.execute_reply": "2021-12-05T05:00:09.243350Z"
    },
    "papermill": {
     "duration": 1.036004,
     "end_time": "2021-12-05T05:00:09.243855",
     "exception": false,
     "start_time": "2021-12-05T05:00:08.207851",
     "status": "completed"
    },
    "tags": []
   },
   "outputs": [],
   "source": [
    "timestamps = pd.read_sql(\"select distinct record_time from EBAY_TOP_BERLIN order by record_time desc limit 2\", sqlite3.connect(\"UsedObjects.db\"))"
   ]
  },
  {
   "cell_type": "code",
   "execution_count": 3,
   "id": "periodic-identification",
   "metadata": {
    "execution": {
     "iopub.execute_input": "2021-12-05T05:00:09.316571Z",
     "iopub.status.busy": "2021-12-05T05:00:09.313860Z",
     "iopub.status.idle": "2021-12-05T05:00:09.341123Z",
     "shell.execute_reply": "2021-12-05T05:00:09.339355Z"
    },
    "papermill": {
     "duration": 0.076494,
     "end_time": "2021-12-05T05:00:09.341565",
     "exception": false,
     "start_time": "2021-12-05T05:00:09.265071",
     "status": "completed"
    },
    "tags": []
   },
   "outputs": [
    {
     "data": {
      "text/html": [
       "<div>\n",
       "<style scoped>\n",
       "    .dataframe tbody tr th:only-of-type {\n",
       "        vertical-align: middle;\n",
       "    }\n",
       "\n",
       "    .dataframe tbody tr th {\n",
       "        vertical-align: top;\n",
       "    }\n",
       "\n",
       "    .dataframe thead th {\n",
       "        text-align: right;\n",
       "    }\n",
       "</style>\n",
       "<table border=\"1\" class=\"dataframe\">\n",
       "  <thead>\n",
       "    <tr style=\"text-align: right;\">\n",
       "      <th></th>\n",
       "      <th>RECORD_TIME</th>\n",
       "    </tr>\n",
       "  </thead>\n",
       "  <tbody>\n",
       "    <tr>\n",
       "      <th>0</th>\n",
       "      <td>2021-12-05 06:00</td>\n",
       "    </tr>\n",
       "    <tr>\n",
       "      <th>1</th>\n",
       "      <td>2021-12-05 05:30</td>\n",
       "    </tr>\n",
       "  </tbody>\n",
       "</table>\n",
       "</div>"
      ],
      "text/plain": [
       "        RECORD_TIME\n",
       "0  2021-12-05 06:00\n",
       "1  2021-12-05 05:30"
      ]
     },
     "execution_count": 3,
     "metadata": {},
     "output_type": "execute_result"
    }
   ],
   "source": [
    "timestamps"
   ]
  },
  {
   "cell_type": "code",
   "execution_count": 4,
   "id": "alternate-victory",
   "metadata": {
    "execution": {
     "iopub.execute_input": "2021-12-05T05:00:09.401508Z",
     "iopub.status.busy": "2021-12-05T05:00:09.399104Z",
     "iopub.status.idle": "2021-12-05T05:00:10.823733Z",
     "shell.execute_reply": "2021-12-05T05:00:10.826075Z"
    },
    "papermill": {
     "duration": 1.461515,
     "end_time": "2021-12-05T05:00:10.826598",
     "exception": false,
     "start_time": "2021-12-05T05:00:09.365083",
     "status": "completed"
    },
    "tags": []
   },
   "outputs": [],
   "source": [
    "df = pd.read_sql(\"select * from EBAY_TOP_BERLIN where record_time in (select distinct record_time from EBAY_TOP_BERLIN order by record_time desc limit 2)\", sqlite3.connect(\"UsedObjects.db\"))"
   ]
  },
  {
   "cell_type": "code",
   "execution_count": 5,
   "id": "popular-active",
   "metadata": {
    "execution": {
     "iopub.execute_input": "2021-12-05T05:00:10.904564Z",
     "iopub.status.busy": "2021-12-05T05:00:10.891389Z",
     "iopub.status.idle": "2021-12-05T05:00:10.923456Z",
     "shell.execute_reply": "2021-12-05T05:00:10.924874Z"
    },
    "papermill": {
     "duration": 0.076393,
     "end_time": "2021-12-05T05:00:10.925349",
     "exception": false,
     "start_time": "2021-12-05T05:00:10.848956",
     "status": "completed"
    },
    "tags": []
   },
   "outputs": [],
   "source": [
    "df_pivot = df.pivot_table(index=\"PRODUCT\", columns = \"RECORD_TIME\", values = \"LISTING_COUNT\")"
   ]
  },
  {
   "cell_type": "code",
   "execution_count": 6,
   "id": "union-huntington",
   "metadata": {
    "execution": {
     "iopub.execute_input": "2021-12-05T05:00:10.985778Z",
     "iopub.status.busy": "2021-12-05T05:00:10.983407Z",
     "iopub.status.idle": "2021-12-05T05:00:10.991115Z",
     "shell.execute_reply": "2021-12-05T05:00:10.989489Z"
    },
    "papermill": {
     "duration": 0.046137,
     "end_time": "2021-12-05T05:00:10.991547",
     "exception": false,
     "start_time": "2021-12-05T05:00:10.945410",
     "status": "completed"
    },
    "tags": []
   },
   "outputs": [],
   "source": [
    "df_pivot.columns = [\"stamp_1\", \"stamp_2\"]\n",
    "df_pivot_diff = df_pivot.diff(axis=1)"
   ]
  },
  {
   "cell_type": "code",
   "execution_count": 7,
   "id": "fifth-motion",
   "metadata": {
    "execution": {
     "iopub.execute_input": "2021-12-05T05:00:11.052168Z",
     "iopub.status.busy": "2021-12-05T05:00:11.049642Z",
     "iopub.status.idle": "2021-12-05T05:00:12.931350Z",
     "shell.execute_reply": "2021-12-05T05:00:12.932643Z"
    },
    "papermill": {
     "duration": 1.91835,
     "end_time": "2021-12-05T05:00:12.933163",
     "exception": false,
     "start_time": "2021-12-05T05:00:11.014813",
     "status": "completed"
    },
    "tags": []
   },
   "outputs": [
    {
     "data": {
      "text/plain": [
       "<AxesSubplot:ylabel='PRODUCT'>"
      ]
     },
     "execution_count": 7,
     "metadata": {},
     "output_type": "execute_result"
    },
    {
     "data": {
      "image/png": "[encoded data removed]",
      "text/plain": [
       "<Figure size 432x288 with 1 Axes>"
      ]
     },
     "metadata": {
      "needs_background": "light"
     },
     "output_type": "display_data"
    }
   ],
   "source": [
    "df_pivot_diff.sort_values(\"stamp_2\", ascending = False)[\"stamp_2\"].head(10).plot.barh()"
   ]
  },
  {
   "cell_type": "code",
   "execution_count": null,
   "id": "extra-executive",
   "metadata": {
    "papermill": {
     "duration": 0.023201,
     "end_time": "2021-12-05T05:00:12.981973",
     "exception": false,
     "start_time": "2021-12-05T05:00:12.958772",
     "status": "completed"
    },
    "tags": []
   },
   "outputs": [],
   "source": []
  }
 ],
 "metadata": {
  "kernelspec": {
   "display_name": "Python 3",
   "language": "python",
   "name": "python3"
  },
  "language_info": {
   "codemirror_mode": {
    "name": "ipython",
    "version": 3
   },
   "file_extension": ".py",
   "mimetype": "text/x-python",
   "name": "python",
   "nbconvert_exporter": "python",
   "pygments_lexer": "ipython3",
   "version": "3.9.5"
  },
  "papermill": {
   "default_parameters": {},
   "duration": 9.970822,
   "end_time": "2021-12-05T05:00:14.367971",
   "environment_variables": {},
   "exception": null,
   "input_path": "eBay_Overview.ipynb",
   "output_path": "eBay_Overview.ipynb",
   "parameters": {},
   "start_time": "2021-12-05T05:00:04.397149",
   "version": "2.3.3"
  }
 },
 "nbformat": 4,
 "nbformat_minor": 5
}