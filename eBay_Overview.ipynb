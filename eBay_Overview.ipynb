{
 "cells": [
  {
   "cell_type": "code",
   "execution_count": 1,
   "id": "reverse-picking",
   "metadata": {
    "execution": {
     "iopub.execute_input": "2021-11-24T00:00:07.379333Z",
     "iopub.status.busy": "2021-11-24T00:00:07.377168Z",
     "iopub.status.idle": "2021-11-24T00:00:08.326913Z",
     "shell.execute_reply": "2021-11-24T00:00:08.329180Z"
    },
    "papermill": {
     "duration": 0.997521,
     "end_time": "2021-11-24T00:00:08.329906",
     "exception": false,
     "start_time": "2021-11-24T00:00:07.332385",
     "status": "completed"
    },
    "tags": []
   },
   "outputs": [],
   "source": [
    "import pandas as pd\n",
    "import sqlite3"
   ]
  },
  {
   "cell_type": "code",
   "execution_count": 2,
   "id": "innovative-syndrome",
   "metadata": {
    "execution": {
     "iopub.execute_input": "2021-11-24T00:00:08.449912Z",
     "iopub.status.busy": "2021-11-24T00:00:08.447204Z",
     "iopub.status.idle": "2021-11-24T00:00:09.344036Z",
     "shell.execute_reply": "2021-11-24T00:00:09.346741Z"
    },
    "papermill": {
     "duration": 0.932289,
     "end_time": "2021-11-24T00:00:09.347477",
     "exception": false,
     "start_time": "2021-11-24T00:00:08.415188",
     "status": "completed"
    },
    "tags": []
   },
   "outputs": [],
   "source": [
    "timestamps = pd.read_sql(\"select distinct record_time from EBAY_TOP_BERLIN order by record_time desc limit 2\", sqlite3.connect(\"UsedObjects.db\"))"
   ]
  },
  {
   "cell_type": "code",
   "execution_count": 3,
   "id": "periodic-identification",
   "metadata": {
    "execution": {
     "iopub.execute_input": "2021-11-24T00:00:09.415831Z",
     "iopub.status.busy": "2021-11-24T00:00:09.413488Z",
     "iopub.status.idle": "2021-11-24T00:00:09.436228Z",
     "shell.execute_reply": "2021-11-24T00:00:09.437768Z"
    },
    "papermill": {
     "duration": 0.071416,
     "end_time": "2021-11-24T00:00:09.438255",
     "exception": false,
     "start_time": "2021-11-24T00:00:09.366839",
     "status": "completed"
    },
    "tags": []
   },
   "outputs": [
    {
     "data": {
      "text/html": [
       "<div>\n",
       "<style scoped>\n",
       "    .dataframe tbody tr th:only-of-type {\n",
       "        vertical-align: middle;\n",
       "    }\n",
       "\n",
       "    .dataframe tbody tr th {\n",
       "        vertical-align: top;\n",
       "    }\n",
       "\n",
       "    .dataframe thead th {\n",
       "        text-align: right;\n",
       "    }\n",
       "</style>\n",
       "<table border=\"1\" class=\"dataframe\">\n",
       "  <thead>\n",
       "    <tr style=\"text-align: right;\">\n",
       "      <th></th>\n",
       "      <th>RECORD_TIME</th>\n",
       "    </tr>\n",
       "  </thead>\n",
       "  <tbody>\n",
       "    <tr>\n",
       "      <th>0</th>\n",
       "      <td>2021-11-24 01:00</td>\n",
       "    </tr>\n",
       "    <tr>\n",
       "      <th>1</th>\n",
       "      <td>2021-11-24 00:30</td>\n",
       "    </tr>\n",
       "  </tbody>\n",
       "</table>\n",
       "</div>"
      ],
      "text/plain": [
       "        RECORD_TIME\n",
       "0  2021-11-24 01:00\n",
       "1  2021-11-24 00:30"
      ]
     },
     "execution_count": 3,
     "metadata": {},
     "output_type": "execute_result"
    }
   ],
   "source": [
    "timestamps"
   ]
  },
  {
   "cell_type": "code",
   "execution_count": 4,
   "id": "alternate-victory",
   "metadata": {
    "execution": {
     "iopub.execute_input": "2021-11-24T00:00:09.495254Z",
     "iopub.status.busy": "2021-11-24T00:00:09.492087Z",
     "iopub.status.idle": "2021-11-24T00:00:10.806278Z",
     "shell.execute_reply": "2021-11-24T00:00:10.804584Z"
    },
    "papermill": {
     "duration": 1.347289,
     "end_time": "2021-11-24T00:00:10.806730",
     "exception": false,
     "start_time": "2021-11-24T00:00:09.459441",
     "status": "completed"
    },
    "tags": []
   },
   "outputs": [],
   "source": [
    "df = pd.read_sql(\"select * from EBAY_TOP_BERLIN where record_time in (select distinct record_time from EBAY_TOP_BERLIN order by record_time desc limit 2)\", sqlite3.connect(\"UsedObjects.db\"))"
   ]
  },
  {
   "cell_type": "code",
   "execution_count": 5,
   "id": "popular-active",
   "metadata": {
    "execution": {
     "iopub.execute_input": "2021-11-24T00:00:10.888814Z",
     "iopub.status.busy": "2021-11-24T00:00:10.885128Z",
     "iopub.status.idle": "2021-11-24T00:00:10.935923Z",
     "shell.execute_reply": "2021-11-24T00:00:10.934025Z"
    },
    "papermill": {
     "duration": 0.107177,
     "end_time": "2021-11-24T00:00:10.936378",
     "exception": false,
     "start_time": "2021-11-24T00:00:10.829201",
     "status": "completed"
    },
    "tags": []
   },
   "outputs": [],
   "source": [
    "df_pivot = df.pivot_table(index=\"PRODUCT\", columns = \"RECORD_TIME\", values = \"LISTING_COUNT\")"
   ]
  },
  {
   "cell_type": "code",
   "execution_count": 6,
   "id": "union-huntington",
   "metadata": {
    "execution": {
     "iopub.execute_input": "2021-11-24T00:00:10.997921Z",
     "iopub.status.busy": "2021-11-24T00:00:10.995706Z",
     "iopub.status.idle": "2021-11-24T00:00:11.001081Z",
     "shell.execute_reply": "2021-11-24T00:00:11.003262Z"
    },
    "papermill": {
     "duration": 0.04637,
     "end_time": "2021-11-24T00:00:11.004102",
     "exception": false,
     "start_time": "2021-11-24T00:00:10.957732",
     "status": "completed"
    },
    "tags": []
   },
   "outputs": [],
   "source": [
    "df_pivot.columns = [\"stamp_1\", \"stamp_2\"]\n",
    "df_pivot_diff = df_pivot.diff(axis=1)"
   ]
  },
  {
   "cell_type": "code",
   "execution_count": 7,
   "id": "fifth-motion",
   "metadata": {
    "execution": {
     "iopub.execute_input": "2021-11-24T00:00:11.060598Z",
     "iopub.status.busy": "2021-11-24T00:00:11.058153Z",
     "iopub.status.idle": "2021-11-24T00:00:12.991798Z",
     "shell.execute_reply": "2021-11-24T00:00:12.993758Z"
    },
    "papermill": {
     "duration": 1.970254,
     "end_time": "2021-11-24T00:00:12.994302",
     "exception": false,
     "start_time": "2021-11-24T00:00:11.024048",
     "status": "completed"
    },
    "tags": []
   },
   "outputs": [
    {
     "data": {
      "text/plain": [
       "<AxesSubplot:ylabel='PRODUCT'>"
      ]
     },
     "execution_count": 7,
     "metadata": {},
     "output_type": "execute_result"
    },
    {
     "data": {
      "image/png": "[encoded data removed]",
      "text/plain": [
       "<Figure size 432x288 with 1 Axes>"
      ]
     },
     "metadata": {
      "needs_background": "light"
     },
     "output_type": "display_data"
    }
   ],
   "source": [
    "df_pivot_diff.sort_values(\"stamp_2\", ascending = False)[\"stamp_2\"].head(10).plot.barh()"
   ]
  },
  {
   "cell_type": "code",
   "execution_count": null,
   "id": "extra-executive",
   "metadata": {
    "papermill": {
     "duration": 0.022411,
     "end_time": "2021-11-24T00:00:13.040175",
     "exception": false,
     "start_time": "2021-11-24T00:00:13.017764",
     "status": "completed"
    },
    "tags": []
   },
   "outputs": [],
   "source": []
  }
 ],
 "metadata": {
  "kernelspec": {
   "display_name": "Python 3",
   "language": "python",
   "name": "python3"
  },
  "language_info": {
   "codemirror_mode": {
    "name": "ipython",
    "version": 3
   },
   "file_extension": ".py",
   "mimetype": "text/x-python",
   "name": "python",
   "nbconvert_exporter": "python",
   "pygments_lexer": "ipython3",
   "version": "3.9.5"
  },
  "papermill": {
   "default_parameters": {},
   "duration": 9.966703,
   "end_time": "2021-11-24T00:00:14.535653",
   "environment_variables": {},
   "exception": null,
   "input_path": "eBay_Overview.ipynb",
   "output_path": "eBay_Overview.ipynb",
   "parameters": {},
   "start_time": "2021-11-24T00:00:04.568950",
   "version": "2.3.3"
  }
 },
 "nbformat": 4,
 "nbformat_minor": 5
}