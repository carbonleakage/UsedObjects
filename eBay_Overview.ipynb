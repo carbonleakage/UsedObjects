{
 "cells": [
  {
   "cell_type": "code",
   "execution_count": 1,
   "id": "reverse-picking",
   "metadata": {
    "execution": {
     "iopub.execute_input": "2021-12-07T07:00:07.427068Z",
     "iopub.status.busy": "2021-12-07T07:00:07.424874Z",
     "iopub.status.idle": "2021-12-07T07:00:08.378390Z",
     "shell.execute_reply": "2021-12-07T07:00:08.379827Z"
    },
    "papermill": {
     "duration": 1.003918,
     "end_time": "2021-12-07T07:00:08.380531",
     "exception": false,
     "start_time": "2021-12-07T07:00:07.376613",
     "status": "completed"
    },
    "tags": []
   },
   "outputs": [],
   "source": [
    "import pandas as pd\n",
    "import sqlite3"
   ]
  },
  {
   "cell_type": "code",
   "execution_count": 2,
   "id": "innovative-syndrome",
   "metadata": {
    "execution": {
     "iopub.execute_input": "2021-12-07T07:00:08.440350Z",
     "iopub.status.busy": "2021-12-07T07:00:08.438165Z",
     "iopub.status.idle": "2021-12-07T07:00:09.446215Z",
     "shell.execute_reply": "2021-12-07T07:00:09.448428Z"
    },
    "papermill": {
     "duration": 1.041206,
     "end_time": "2021-12-07T07:00:09.448994",
     "exception": false,
     "start_time": "2021-12-07T07:00:08.407788",
     "status": "completed"
    },
    "tags": []
   },
   "outputs": [],
   "source": [
    "timestamps = pd.read_sql(\"select distinct record_time from EBAY_TOP_BERLIN order by record_time desc limit 2\", sqlite3.connect(\"UsedObjects.db\"))"
   ]
  },
  {
   "cell_type": "code",
   "execution_count": 3,
   "id": "periodic-identification",
   "metadata": {
    "execution": {
     "iopub.execute_input": "2021-12-07T07:00:09.522394Z",
     "iopub.status.busy": "2021-12-07T07:00:09.519952Z",
     "iopub.status.idle": "2021-12-07T07:00:09.544832Z",
     "shell.execute_reply": "2021-12-07T07:00:09.546232Z"
    },
    "papermill": {
     "duration": 0.075747,
     "end_time": "2021-12-07T07:00:09.546702",
     "exception": false,
     "start_time": "2021-12-07T07:00:09.470955",
     "status": "completed"
    },
    "tags": []
   },
   "outputs": [
    {
     "data": {
      "text/html": [
       "<div>\n",
       "<style scoped>\n",
       "    .dataframe tbody tr th:only-of-type {\n",
       "        vertical-align: middle;\n",
       "    }\n",
       "\n",
       "    .dataframe tbody tr th {\n",
       "        vertical-align: top;\n",
       "    }\n",
       "\n",
       "    .dataframe thead th {\n",
       "        text-align: right;\n",
       "    }\n",
       "</style>\n",
       "<table border=\"1\" class=\"dataframe\">\n",
       "  <thead>\n",
       "    <tr style=\"text-align: right;\">\n",
       "      <th></th>\n",
       "      <th>RECORD_TIME</th>\n",
       "    </tr>\n",
       "  </thead>\n",
       "  <tbody>\n",
       "    <tr>\n",
       "      <th>0</th>\n",
       "      <td>2021-12-07 08:00</td>\n",
       "    </tr>\n",
       "    <tr>\n",
       "      <th>1</th>\n",
       "      <td>2021-12-07 07:30</td>\n",
       "    </tr>\n",
       "  </tbody>\n",
       "</table>\n",
       "</div>"
      ],
      "text/plain": [
       "        RECORD_TIME\n",
       "0  2021-12-07 08:00\n",
       "1  2021-12-07 07:30"
      ]
     },
     "execution_count": 3,
     "metadata": {},
     "output_type": "execute_result"
    }
   ],
   "source": [
    "timestamps"
   ]
  },
  {
   "cell_type": "code",
   "execution_count": 4,
   "id": "alternate-victory",
   "metadata": {
    "execution": {
     "iopub.execute_input": "2021-12-07T07:00:09.600626Z",
     "iopub.status.busy": "2021-12-07T07:00:09.598601Z",
     "iopub.status.idle": "2021-12-07T07:00:11.092552Z",
     "shell.execute_reply": "2021-12-07T07:00:11.094686Z"
    },
    "papermill": {
     "duration": 1.527015,
     "end_time": "2021-12-07T07:00:11.095161",
     "exception": false,
     "start_time": "2021-12-07T07:00:09.568146",
     "status": "completed"
    },
    "tags": []
   },
   "outputs": [],
   "source": [
    "df = pd.read_sql(\"select * from EBAY_TOP_BERLIN where record_time in (select distinct record_time from EBAY_TOP_BERLIN order by record_time desc limit 2)\", sqlite3.connect(\"UsedObjects.db\"))"
   ]
  },
  {
   "cell_type": "code",
   "execution_count": 5,
   "id": "popular-active",
   "metadata": {
    "execution": {
     "iopub.execute_input": "2021-12-07T07:00:11.169025Z",
     "iopub.status.busy": "2021-12-07T07:00:11.156456Z",
     "iopub.status.idle": "2021-12-07T07:00:11.186485Z",
     "shell.execute_reply": "2021-12-07T07:00:11.187762Z"
    },
    "papermill": {
     "duration": 0.072825,
     "end_time": "2021-12-07T07:00:11.188207",
     "exception": false,
     "start_time": "2021-12-07T07:00:11.115382",
     "status": "completed"
    },
    "tags": []
   },
   "outputs": [],
   "source": [
    "df_pivot = df.pivot_table(index=\"PRODUCT\", columns = \"RECORD_TIME\", values = \"LISTING_COUNT\")"
   ]
  },
  {
   "cell_type": "code",
   "execution_count": 6,
   "id": "union-huntington",
   "metadata": {
    "execution": {
     "iopub.execute_input": "2021-12-07T07:00:11.267609Z",
     "iopub.status.busy": "2021-12-07T07:00:11.264006Z",
     "iopub.status.idle": "2021-12-07T07:00:11.277888Z",
     "shell.execute_reply": "2021-12-07T07:00:11.274880Z"
    },
    "papermill": {
     "duration": 0.06929,
     "end_time": "2021-12-07T07:00:11.278600",
     "exception": false,
     "start_time": "2021-12-07T07:00:11.209310",
     "status": "completed"
    },
    "tags": []
   },
   "outputs": [],
   "source": [
    "df_pivot.columns = [\"stamp_1\", \"stamp_2\"]\n",
    "df_pivot_diff = df_pivot.diff(axis=1)"
   ]
  },
  {
   "cell_type": "code",
   "execution_count": 7,
   "id": "fifth-motion",
   "metadata": {
    "execution": {
     "iopub.execute_input": "2021-12-07T07:00:11.364884Z",
     "iopub.status.busy": "2021-12-07T07:00:11.360958Z",
     "iopub.status.idle": "2021-12-07T07:00:13.157259Z",
     "shell.execute_reply": "2021-12-07T07:00:13.158736Z"
    },
    "papermill": {
     "duration": 1.85063,
     "end_time": "2021-12-07T07:00:13.159208",
     "exception": false,
     "start_time": "2021-12-07T07:00:11.308578",
     "status": "completed"
    },
    "tags": []
   },
   "outputs": [
    {
     "data": {
      "text/plain": [
       "<AxesSubplot:ylabel='PRODUCT'>"
      ]
     },
     "execution_count": 7,
     "metadata": {},
     "output_type": "execute_result"
    },
    {
     "data": {
      "image/png": "[encoded data removed]",
      "text/plain": [
       "<Figure size 432x288 with 1 Axes>"
      ]
     },
     "metadata": {
      "needs_background": "light"
     },
     "output_type": "display_data"
    }
   ],
   "source": [
    "df_pivot_diff.sort_values(\"stamp_2\", ascending = False)[\"stamp_2\"].head(10).plot.barh()"
   ]
  },
  {
   "cell_type": "code",
   "execution_count": null,
   "id": "extra-executive",
   "metadata": {
    "papermill": {
     "duration": 0.021868,
     "end_time": "2021-12-07T07:00:13.204902",
     "exception": false,
     "start_time": "2021-12-07T07:00:13.183034",
     "status": "completed"
    },
    "tags": []
   },
   "outputs": [],
   "source": []
  }
 ],
 "metadata": {
  "kernelspec": {
   "display_name": "Python 3",
   "language": "python",
   "name": "python3"
  },
  "language_info": {
   "codemirror_mode": {
    "name": "ipython",
    "version": 3
   },
   "file_extension": ".py",
   "mimetype": "text/x-python",
   "name": "python",
   "nbconvert_exporter": "python",
   "pygments_lexer": "ipython3",
   "version": "3.9.5"
  },
  "papermill": {
   "default_parameters": {},
   "duration": 9.934591,
   "end_time": "2021-12-07T07:00:14.593993",
   "environment_variables": {},
   "exception": null,
   "input_path": "eBay_Overview.ipynb",
   "output_path": "eBay_Overview.ipynb",
   "parameters": {},
   "start_time": "2021-12-07T07:00:04.659402",
   "version": "2.3.3"
  }
 },
 "nbformat": 4,
 "nbformat_minor": 5
}