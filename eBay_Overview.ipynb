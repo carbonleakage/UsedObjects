{
 "cells": [
  {
   "cell_type": "code",
   "execution_count": 1,
   "id": "reverse-picking",
   "metadata": {
    "execution": {
     "iopub.execute_input": "2021-12-18T06:00:07.512326Z",
     "iopub.status.busy": "2021-12-18T06:00:07.510066Z",
     "iopub.status.idle": "2021-12-18T06:00:08.473288Z",
     "shell.execute_reply": "2021-12-18T06:00:08.474931Z"
    },
    "papermill": {
     "duration": 1.017194,
     "end_time": "2021-12-18T06:00:08.475661",
     "exception": false,
     "start_time": "2021-12-18T06:00:07.458467",
     "status": "completed"
    },
    "tags": []
   },
   "outputs": [],
   "source": [
    "import pandas as pd\n",
    "import sqlite3"
   ]
  },
  {
   "cell_type": "code",
   "execution_count": 2,
   "id": "innovative-syndrome",
   "metadata": {
    "execution": {
     "iopub.execute_input": "2021-12-18T06:00:08.547397Z",
     "iopub.status.busy": "2021-12-18T06:00:08.544969Z",
     "iopub.status.idle": "2021-12-18T06:00:09.653317Z",
     "shell.execute_reply": "2021-12-18T06:00:09.654574Z"
    },
    "papermill": {
     "duration": 1.143403,
     "end_time": "2021-12-18T06:00:09.654982",
     "exception": false,
     "start_time": "2021-12-18T06:00:08.511579",
     "status": "completed"
    },
    "tags": []
   },
   "outputs": [],
   "source": [
    "timestamps = pd.read_sql(\"select distinct record_time from EBAY_TOP_BERLIN order by record_time desc limit 2\", sqlite3.connect(\"UsedObjects.db\"))"
   ]
  },
  {
   "cell_type": "code",
   "execution_count": 3,
   "id": "periodic-identification",
   "metadata": {
    "execution": {
     "iopub.execute_input": "2021-12-18T06:00:09.724461Z",
     "iopub.status.busy": "2021-12-18T06:00:09.722392Z",
     "iopub.status.idle": "2021-12-18T06:00:09.743953Z",
     "shell.execute_reply": "2021-12-18T06:00:09.745518Z"
    },
    "papermill": {
     "duration": 0.068349,
     "end_time": "2021-12-18T06:00:09.746026",
     "exception": false,
     "start_time": "2021-12-18T06:00:09.677677",
     "status": "completed"
    },
    "tags": []
   },
   "outputs": [
    {
     "data": {
      "text/html": [
       "<div>\n",
       "<style scoped>\n",
       "    .dataframe tbody tr th:only-of-type {\n",
       "        vertical-align: middle;\n",
       "    }\n",
       "\n",
       "    .dataframe tbody tr th {\n",
       "        vertical-align: top;\n",
       "    }\n",
       "\n",
       "    .dataframe thead th {\n",
       "        text-align: right;\n",
       "    }\n",
       "</style>\n",
       "<table border=\"1\" class=\"dataframe\">\n",
       "  <thead>\n",
       "    <tr style=\"text-align: right;\">\n",
       "      <th></th>\n",
       "      <th>RECORD_TIME</th>\n",
       "    </tr>\n",
       "  </thead>\n",
       "  <tbody>\n",
       "    <tr>\n",
       "      <th>0</th>\n",
       "      <td>2021-12-18 07:00</td>\n",
       "    </tr>\n",
       "    <tr>\n",
       "      <th>1</th>\n",
       "      <td>2021-12-18 06:30</td>\n",
       "    </tr>\n",
       "  </tbody>\n",
       "</table>\n",
       "</div>"
      ],
      "text/plain": [
       "        RECORD_TIME\n",
       "0  2021-12-18 07:00\n",
       "1  2021-12-18 06:30"
      ]
     },
     "execution_count": 3,
     "metadata": {},
     "output_type": "execute_result"
    }
   ],
   "source": [
    "timestamps"
   ]
  },
  {
   "cell_type": "code",
   "execution_count": 4,
   "id": "alternate-victory",
   "metadata": {
    "execution": {
     "iopub.execute_input": "2021-12-18T06:00:09.801783Z",
     "iopub.status.busy": "2021-12-18T06:00:09.798565Z",
     "iopub.status.idle": "2021-12-18T06:00:11.400083Z",
     "shell.execute_reply": "2021-12-18T06:00:11.401747Z"
    },
    "papermill": {
     "duration": 1.635431,
     "end_time": "2021-12-18T06:00:11.402232",
     "exception": false,
     "start_time": "2021-12-18T06:00:09.766801",
     "status": "completed"
    },
    "tags": []
   },
   "outputs": [],
   "source": [
    "df = pd.read_sql(\"select * from EBAY_TOP_BERLIN where record_time in (select distinct record_time from EBAY_TOP_BERLIN order by record_time desc limit 2)\", sqlite3.connect(\"UsedObjects.db\"))"
   ]
  },
  {
   "cell_type": "code",
   "execution_count": 5,
   "id": "popular-active",
   "metadata": {
    "execution": {
     "iopub.execute_input": "2021-12-18T06:00:11.478034Z",
     "iopub.status.busy": "2021-12-18T06:00:11.463627Z",
     "iopub.status.idle": "2021-12-18T06:00:11.496084Z",
     "shell.execute_reply": "2021-12-18T06:00:11.497475Z"
    },
    "papermill": {
     "duration": 0.074823,
     "end_time": "2021-12-18T06:00:11.497950",
     "exception": false,
     "start_time": "2021-12-18T06:00:11.423127",
     "status": "completed"
    },
    "tags": []
   },
   "outputs": [],
   "source": [
    "df_pivot = df.pivot_table(index=\"PRODUCT\", columns = \"RECORD_TIME\", values = \"LISTING_COUNT\")"
   ]
  },
  {
   "cell_type": "code",
   "execution_count": 6,
   "id": "union-huntington",
   "metadata": {
    "execution": {
     "iopub.execute_input": "2021-12-18T06:00:11.560154Z",
     "iopub.status.busy": "2021-12-18T06:00:11.557856Z",
     "iopub.status.idle": "2021-12-18T06:00:11.566447Z",
     "shell.execute_reply": "2021-12-18T06:00:11.564815Z"
    },
    "papermill": {
     "duration": 0.047364,
     "end_time": "2021-12-18T06:00:11.566864",
     "exception": false,
     "start_time": "2021-12-18T06:00:11.519500",
     "status": "completed"
    },
    "tags": []
   },
   "outputs": [],
   "source": [
    "df_pivot.columns = [\"stamp_1\", \"stamp_2\"]\n",
    "df_pivot_diff = df_pivot.diff(axis=1)"
   ]
  },
  {
   "cell_type": "code",
   "execution_count": 7,
   "id": "fifth-motion",
   "metadata": {
    "execution": {
     "iopub.execute_input": "2021-12-18T06:00:11.726737Z",
     "iopub.status.busy": "2021-12-18T06:00:11.724167Z",
     "iopub.status.idle": "2021-12-18T06:00:13.730676Z",
     "shell.execute_reply": "2021-12-18T06:00:13.732255Z"
    },
    "papermill": {
     "duration": 2.076998,
     "end_time": "2021-12-18T06:00:13.732826",
     "exception": false,
     "start_time": "2021-12-18T06:00:11.655828",
     "status": "completed"
    },
    "tags": []
   },
   "outputs": [
    {
     "data": {
      "text/plain": [
       "<AxesSubplot:ylabel='PRODUCT'>"
      ]
     },
     "execution_count": 7,
     "metadata": {},
     "output_type": "execute_result"
    },
    {
     "data": {
      "image/png": "[encoded data removed]",
      "text/plain": [
       "<Figure size 432x288 with 1 Axes>"
      ]
     },
     "metadata": {
      "needs_background": "light"
     },
     "output_type": "display_data"
    }
   ],
   "source": [
    "df_pivot_diff.sort_values(\"stamp_2\", ascending = False)[\"stamp_2\"].head(10).plot.barh()"
   ]
  },
  {
   "cell_type": "code",
   "execution_count": null,
   "id": "extra-executive",
   "metadata": {
    "papermill": {
     "duration": 0.021959,
     "end_time": "2021-12-18T06:00:13.779796",
     "exception": false,
     "start_time": "2021-12-18T06:00:13.757837",
     "status": "completed"
    },
    "tags": []
   },
   "outputs": [],
   "source": []
  }
 ],
 "metadata": {
  "kernelspec": {
   "display_name": "Python 3",
   "language": "python",
   "name": "python3"
  },
  "language_info": {
   "codemirror_mode": {
    "name": "ipython",
    "version": 3
   },
   "file_extension": ".py",
   "mimetype": "text/x-python",
   "name": "python",
   "nbconvert_exporter": "python",
   "pygments_lexer": "ipython3",
   "version": "3.9.5"
  },
  "papermill": {
   "default_parameters": {},
   "duration": 9.712462,
   "end_time": "2021-12-18T06:00:14.421776",
   "environment_variables": {},
   "exception": null,
   "input_path": "eBay_Overview.ipynb",
   "output_path": "eBay_Overview.ipynb",
   "parameters": {},
   "start_time": "2021-12-18T06:00:04.709314",
   "version": "2.3.3"
  }
 },
 "nbformat": 4,
 "nbformat_minor": 5
}