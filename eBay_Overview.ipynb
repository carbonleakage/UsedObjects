{
 "cells": [
  {
   "cell_type": "code",
   "execution_count": 1,
   "id": "reverse-picking",
   "metadata": {
    "execution": {
     "iopub.execute_input": "2021-09-14T00:30:07.013285Z",
     "iopub.status.busy": "2021-09-14T00:30:07.011348Z",
     "iopub.status.idle": "2021-09-14T00:30:07.814056Z",
     "shell.execute_reply": "2021-09-14T00:30:07.815493Z"
    },
    "papermill": {
     "duration": 0.856622,
     "end_time": "2021-09-14T00:30:07.816159",
     "exception": false,
     "start_time": "2021-09-14T00:30:06.959537",
     "status": "completed"
    },
    "tags": []
   },
   "outputs": [],
   "source": [
    "import pandas as pd\n",
    "import sqlite3"
   ]
  },
  {
   "cell_type": "code",
   "execution_count": 2,
   "id": "innovative-syndrome",
   "metadata": {
    "execution": {
     "iopub.execute_input": "2021-09-14T00:30:07.867985Z",
     "iopub.status.busy": "2021-09-14T00:30:07.865913Z",
     "iopub.status.idle": "2021-09-14T00:30:08.148226Z",
     "shell.execute_reply": "2021-09-14T00:30:08.149448Z"
    },
    "papermill": {
     "duration": 0.312305,
     "end_time": "2021-09-14T00:30:08.149847",
     "exception": false,
     "start_time": "2021-09-14T00:30:07.837542",
     "status": "completed"
    },
    "tags": []
   },
   "outputs": [],
   "source": [
    "timestamps = pd.read_sql(\"select distinct record_time from EBAY_TOP_BERLIN order by record_time desc limit 2\", sqlite3.connect(\"UsedObjects.db\"))"
   ]
  },
  {
   "cell_type": "code",
   "execution_count": 3,
   "id": "periodic-identification",
   "metadata": {
    "execution": {
     "iopub.execute_input": "2021-09-14T00:30:08.213865Z",
     "iopub.status.busy": "2021-09-14T00:30:08.211830Z",
     "iopub.status.idle": "2021-09-14T00:30:08.231672Z",
     "shell.execute_reply": "2021-09-14T00:30:08.233024Z"
    },
    "papermill": {
     "duration": 0.064222,
     "end_time": "2021-09-14T00:30:08.233446",
     "exception": false,
     "start_time": "2021-09-14T00:30:08.169224",
     "status": "completed"
    },
    "tags": []
   },
   "outputs": [
    {
     "data": {
      "text/html": [
       "<div>\n",
       "<style scoped>\n",
       "    .dataframe tbody tr th:only-of-type {\n",
       "        vertical-align: middle;\n",
       "    }\n",
       "\n",
       "    .dataframe tbody tr th {\n",
       "        vertical-align: top;\n",
       "    }\n",
       "\n",
       "    .dataframe thead th {\n",
       "        text-align: right;\n",
       "    }\n",
       "</style>\n",
       "<table border=\"1\" class=\"dataframe\">\n",
       "  <thead>\n",
       "    <tr style=\"text-align: right;\">\n",
       "      <th></th>\n",
       "      <th>RECORD_TIME</th>\n",
       "    </tr>\n",
       "  </thead>\n",
       "  <tbody>\n",
       "    <tr>\n",
       "      <th>0</th>\n",
       "      <td>2021-09-14 02:30</td>\n",
       "    </tr>\n",
       "    <tr>\n",
       "      <th>1</th>\n",
       "      <td>2021-09-14 02:00</td>\n",
       "    </tr>\n",
       "  </tbody>\n",
       "</table>\n",
       "</div>"
      ],
      "text/plain": [
       "        RECORD_TIME\n",
       "0  2021-09-14 02:30\n",
       "1  2021-09-14 02:00"
      ]
     },
     "execution_count": 3,
     "metadata": {},
     "output_type": "execute_result"
    }
   ],
   "source": [
    "timestamps"
   ]
  },
  {
   "cell_type": "code",
   "execution_count": 4,
   "id": "alternate-victory",
   "metadata": {
    "execution": {
     "iopub.execute_input": "2021-09-14T00:30:08.285657Z",
     "iopub.status.busy": "2021-09-14T00:30:08.283481Z",
     "iopub.status.idle": "2021-09-14T00:30:08.711776Z",
     "shell.execute_reply": "2021-09-14T00:30:08.710379Z"
    },
    "papermill": {
     "duration": 0.457407,
     "end_time": "2021-09-14T00:30:08.712122",
     "exception": false,
     "start_time": "2021-09-14T00:30:08.254715",
     "status": "completed"
    },
    "tags": []
   },
   "outputs": [],
   "source": [
    "df = pd.read_sql(\"select * from EBAY_TOP_BERLIN where record_time in (select distinct record_time from EBAY_TOP_BERLIN order by record_time desc limit 2)\", sqlite3.connect(\"UsedObjects.db\"))"
   ]
  },
  {
   "cell_type": "code",
   "execution_count": 5,
   "id": "popular-active",
   "metadata": {
    "execution": {
     "iopub.execute_input": "2021-09-14T00:30:08.784361Z",
     "iopub.status.busy": "2021-09-14T00:30:08.773246Z",
     "iopub.status.idle": "2021-09-14T00:30:08.800013Z",
     "shell.execute_reply": "2021-09-14T00:30:08.801312Z"
    },
    "papermill": {
     "duration": 0.06784,
     "end_time": "2021-09-14T00:30:08.801727",
     "exception": false,
     "start_time": "2021-09-14T00:30:08.733887",
     "status": "completed"
    },
    "tags": []
   },
   "outputs": [],
   "source": [
    "df_pivot = df.pivot_table(index=\"PRODUCT\", columns = \"RECORD_TIME\", values = \"LISTING_COUNT\")"
   ]
  },
  {
   "cell_type": "code",
   "execution_count": 6,
   "id": "union-huntington",
   "metadata": {
    "execution": {
     "iopub.execute_input": "2021-09-14T00:30:08.859652Z",
     "iopub.status.busy": "2021-09-14T00:30:08.857428Z",
     "iopub.status.idle": "2021-09-14T00:30:08.862798Z",
     "shell.execute_reply": "2021-09-14T00:30:08.864505Z"
    },
    "papermill": {
     "duration": 0.041418,
     "end_time": "2021-09-14T00:30:08.865085",
     "exception": false,
     "start_time": "2021-09-14T00:30:08.823667",
     "status": "completed"
    },
    "tags": []
   },
   "outputs": [],
   "source": [
    "df_pivot.columns = [\"stamp_1\", \"stamp_2\"]\n",
    "df_pivot_diff = df_pivot.diff(axis=1)"
   ]
  },
  {
   "cell_type": "code",
   "execution_count": 7,
   "id": "fifth-motion",
   "metadata": {
    "execution": {
     "iopub.execute_input": "2021-09-14T00:30:08.920611Z",
     "iopub.status.busy": "2021-09-14T00:30:08.918155Z",
     "iopub.status.idle": "2021-09-14T00:30:10.409991Z",
     "shell.execute_reply": "2021-09-14T00:30:10.411420Z"
    },
    "papermill": {
     "duration": 1.525226,
     "end_time": "2021-09-14T00:30:10.411868",
     "exception": false,
     "start_time": "2021-09-14T00:30:08.886642",
     "status": "completed"
    },
    "tags": []
   },
   "outputs": [
    {
     "data": {
      "text/plain": [
       "<AxesSubplot:ylabel='PRODUCT'>"
      ]
     },
     "execution_count": 7,
     "metadata": {},
     "output_type": "execute_result"
    },
    {
     "data": {
      "image/png": "[encoded data removed]",
      "text/plain": [
       "<Figure size 432x288 with 1 Axes>"
      ]
     },
     "metadata": {
      "needs_background": "light"
     },
     "output_type": "display_data"
    }
   ],
   "source": [
    "df_pivot_diff.sort_values(\"stamp_2\", ascending = False)[\"stamp_2\"].head(10).plot.barh()"
   ]
  },
  {
   "cell_type": "code",
   "execution_count": null,
   "id": "extra-executive",
   "metadata": {
    "papermill": {
     "duration": 0.022343,
     "end_time": "2021-09-14T00:30:10.458265",
     "exception": false,
     "start_time": "2021-09-14T00:30:10.435922",
     "status": "completed"
    },
    "tags": []
   },
   "outputs": [],
   "source": []
  }
 ],
 "metadata": {
  "kernelspec": {
   "display_name": "Python 3",
   "language": "python",
   "name": "python3"
  },
  "language_info": {
   "codemirror_mode": {
    "name": "ipython",
    "version": 3
   },
   "file_extension": ".py",
   "mimetype": "text/x-python",
   "name": "python",
   "nbconvert_exporter": "python",
   "pygments_lexer": "ipython3",
   "version": "3.9.5"
  },
  "papermill": {
   "default_parameters": {},
   "duration": 6.54417,
   "end_time": "2021-09-14T00:30:11.101329",
   "environment_variables": {},
   "exception": null,
   "input_path": "eBay_Overview.ipynb",
   "output_path": "eBay_Overview.ipynb",
   "parameters": {},
   "start_time": "2021-09-14T00:30:04.557159",
   "version": "2.3.3"
  }
 },
 "nbformat": 4,
 "nbformat_minor": 5
}