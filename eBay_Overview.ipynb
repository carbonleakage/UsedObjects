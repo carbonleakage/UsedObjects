{
 "cells": [
  {
   "cell_type": "code",
   "execution_count": 1,
   "id": "reverse-picking",
   "metadata": {
    "execution": {
     "iopub.execute_input": "2021-12-11T00:30:07.746978Z",
     "iopub.status.busy": "2021-12-11T00:30:07.744603Z",
     "iopub.status.idle": "2021-12-11T00:30:08.685402Z",
     "shell.execute_reply": "2021-12-11T00:30:08.686956Z"
    },
    "papermill": {
     "duration": 0.988525,
     "end_time": "2021-12-11T00:30:08.687716",
     "exception": false,
     "start_time": "2021-12-11T00:30:07.699191",
     "status": "completed"
    },
    "tags": []
   },
   "outputs": [],
   "source": [
    "import pandas as pd\n",
    "import sqlite3"
   ]
  },
  {
   "cell_type": "code",
   "execution_count": 2,
   "id": "innovative-syndrome",
   "metadata": {
    "execution": {
     "iopub.execute_input": "2021-12-11T00:30:08.758770Z",
     "iopub.status.busy": "2021-12-11T00:30:08.756503Z",
     "iopub.status.idle": "2021-12-11T00:30:09.818356Z",
     "shell.execute_reply": "2021-12-11T00:30:09.819764Z"
    },
    "papermill": {
     "duration": 1.110572,
     "end_time": "2021-12-11T00:30:09.820253",
     "exception": false,
     "start_time": "2021-12-11T00:30:08.709681",
     "status": "completed"
    },
    "tags": []
   },
   "outputs": [],
   "source": [
    "timestamps = pd.read_sql(\"select distinct record_time from EBAY_TOP_BERLIN order by record_time desc limit 2\", sqlite3.connect(\"UsedObjects.db\"))"
   ]
  },
  {
   "cell_type": "code",
   "execution_count": 3,
   "id": "periodic-identification",
   "metadata": {
    "execution": {
     "iopub.execute_input": "2021-12-11T00:30:09.887888Z",
     "iopub.status.busy": "2021-12-11T00:30:09.885572Z",
     "iopub.status.idle": "2021-12-11T00:30:09.907588Z",
     "shell.execute_reply": "2021-12-11T00:30:09.908989Z"
    },
    "papermill": {
     "duration": 0.070266,
     "end_time": "2021-12-11T00:30:09.909449",
     "exception": false,
     "start_time": "2021-12-11T00:30:09.839183",
     "status": "completed"
    },
    "tags": []
   },
   "outputs": [
    {
     "data": {
      "text/html": [
       "<div>\n",
       "<style scoped>\n",
       "    .dataframe tbody tr th:only-of-type {\n",
       "        vertical-align: middle;\n",
       "    }\n",
       "\n",
       "    .dataframe tbody tr th {\n",
       "        vertical-align: top;\n",
       "    }\n",
       "\n",
       "    .dataframe thead th {\n",
       "        text-align: right;\n",
       "    }\n",
       "</style>\n",
       "<table border=\"1\" class=\"dataframe\">\n",
       "  <thead>\n",
       "    <tr style=\"text-align: right;\">\n",
       "      <th></th>\n",
       "      <th>RECORD_TIME</th>\n",
       "    </tr>\n",
       "  </thead>\n",
       "  <tbody>\n",
       "    <tr>\n",
       "      <th>0</th>\n",
       "      <td>2021-12-11 01:30</td>\n",
       "    </tr>\n",
       "    <tr>\n",
       "      <th>1</th>\n",
       "      <td>2021-12-11 01:00</td>\n",
       "    </tr>\n",
       "  </tbody>\n",
       "</table>\n",
       "</div>"
      ],
      "text/plain": [
       "        RECORD_TIME\n",
       "0  2021-12-11 01:30\n",
       "1  2021-12-11 01:00"
      ]
     },
     "execution_count": 3,
     "metadata": {},
     "output_type": "execute_result"
    }
   ],
   "source": [
    "timestamps"
   ]
  },
  {
   "cell_type": "code",
   "execution_count": 4,
   "id": "alternate-victory",
   "metadata": {
    "execution": {
     "iopub.execute_input": "2021-12-11T00:30:09.962657Z",
     "iopub.status.busy": "2021-12-11T00:30:09.960529Z",
     "iopub.status.idle": "2021-12-11T00:30:11.531793Z",
     "shell.execute_reply": "2021-12-11T00:30:11.528991Z"
    },
    "papermill": {
     "duration": 1.602188,
     "end_time": "2021-12-11T00:30:11.532471",
     "exception": false,
     "start_time": "2021-12-11T00:30:09.930283",
     "status": "completed"
    },
    "tags": []
   },
   "outputs": [],
   "source": [
    "df = pd.read_sql(\"select * from EBAY_TOP_BERLIN where record_time in (select distinct record_time from EBAY_TOP_BERLIN order by record_time desc limit 2)\", sqlite3.connect(\"UsedObjects.db\"))"
   ]
  },
  {
   "cell_type": "code",
   "execution_count": 5,
   "id": "popular-active",
   "metadata": {
    "execution": {
     "iopub.execute_input": "2021-12-11T00:30:11.613910Z",
     "iopub.status.busy": "2021-12-11T00:30:11.599053Z",
     "iopub.status.idle": "2021-12-11T00:30:11.633942Z",
     "shell.execute_reply": "2021-12-11T00:30:11.635386Z"
    },
    "papermill": {
     "duration": 0.079365,
     "end_time": "2021-12-11T00:30:11.635822",
     "exception": false,
     "start_time": "2021-12-11T00:30:11.556457",
     "status": "completed"
    },
    "tags": []
   },
   "outputs": [],
   "source": [
    "df_pivot = df.pivot_table(index=\"PRODUCT\", columns = \"RECORD_TIME\", values = \"LISTING_COUNT\")"
   ]
  },
  {
   "cell_type": "code",
   "execution_count": 6,
   "id": "union-huntington",
   "metadata": {
    "execution": {
     "iopub.execute_input": "2021-12-11T00:30:11.694188Z",
     "iopub.status.busy": "2021-12-11T00:30:11.691872Z",
     "iopub.status.idle": "2021-12-11T00:30:11.697227Z",
     "shell.execute_reply": "2021-12-11T00:30:11.698439Z"
    },
    "papermill": {
     "duration": 0.043359,
     "end_time": "2021-12-11T00:30:11.698874",
     "exception": false,
     "start_time": "2021-12-11T00:30:11.655515",
     "status": "completed"
    },
    "tags": []
   },
   "outputs": [],
   "source": [
    "df_pivot.columns = [\"stamp_1\", \"stamp_2\"]\n",
    "df_pivot_diff = df_pivot.diff(axis=1)"
   ]
  },
  {
   "cell_type": "code",
   "execution_count": 7,
   "id": "fifth-motion",
   "metadata": {
    "execution": {
     "iopub.execute_input": "2021-12-11T00:30:11.757960Z",
     "iopub.status.busy": "2021-12-11T00:30:11.754238Z",
     "iopub.status.idle": "2021-12-11T00:30:13.668943Z",
     "shell.execute_reply": "2021-12-11T00:30:13.670203Z"
    },
    "papermill": {
     "duration": 1.950846,
     "end_time": "2021-12-11T00:30:13.670608",
     "exception": false,
     "start_time": "2021-12-11T00:30:11.719762",
     "status": "completed"
    },
    "tags": []
   },
   "outputs": [
    {
     "data": {
      "text/plain": [
       "<AxesSubplot:ylabel='PRODUCT'>"
      ]
     },
     "execution_count": 7,
     "metadata": {},
     "output_type": "execute_result"
    },
    {
     "data": {
      "image/png": "[encoded data removed]",
      "text/plain": [
       "<Figure size 432x288 with 1 Axes>"
      ]
     },
     "metadata": {
      "needs_background": "light"
     },
     "output_type": "display_data"
    }
   ],
   "source": [
    "df_pivot_diff.sort_values(\"stamp_2\", ascending = False)[\"stamp_2\"].head(10).plot.barh()"
   ]
  },
  {
   "cell_type": "code",
   "execution_count": null,
   "id": "extra-executive",
   "metadata": {
    "papermill": {
     "duration": 0.023667,
     "end_time": "2021-12-11T00:30:13.718479",
     "exception": false,
     "start_time": "2021-12-11T00:30:13.694812",
     "status": "completed"
    },
    "tags": []
   },
   "outputs": [],
   "source": []
  }
 ],
 "metadata": {
  "kernelspec": {
   "display_name": "Python 3",
   "language": "python",
   "name": "python3"
  },
  "language_info": {
   "codemirror_mode": {
    "name": "ipython",
    "version": 3
   },
   "file_extension": ".py",
   "mimetype": "text/x-python",
   "name": "python",
   "nbconvert_exporter": "python",
   "pygments_lexer": "ipython3",
   "version": "3.9.5"
  },
  "papermill": {
   "default_parameters": {},
   "duration": 10.008748,
   "end_time": "2021-12-11T00:30:14.904172",
   "environment_variables": {},
   "exception": null,
   "input_path": "eBay_Overview.ipynb",
   "output_path": "eBay_Overview.ipynb",
   "parameters": {},
   "start_time": "2021-12-11T00:30:04.895424",
   "version": "2.3.3"
  }
 },
 "nbformat": 4,
 "nbformat_minor": 5
}