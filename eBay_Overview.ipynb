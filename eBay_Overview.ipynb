{
 "cells": [
  {
   "cell_type": "code",
   "execution_count": 1,
   "id": "reverse-picking",
   "metadata": {
    "execution": {
     "iopub.execute_input": "2021-10-30T12:30:06.819078Z",
     "iopub.status.busy": "2021-10-30T12:30:06.817067Z",
     "iopub.status.idle": "2021-10-30T12:30:07.620005Z",
     "shell.execute_reply": "2021-10-30T12:30:07.621352Z"
    },
    "papermill": {
     "duration": 0.854351,
     "end_time": "2021-10-30T12:30:07.621995",
     "exception": false,
     "start_time": "2021-10-30T12:30:06.767644",
     "status": "completed"
    },
    "tags": []
   },
   "outputs": [],
   "source": [
    "import pandas as pd\n",
    "import sqlite3"
   ]
  },
  {
   "cell_type": "code",
   "execution_count": 2,
   "id": "innovative-syndrome",
   "metadata": {
    "execution": {
     "iopub.execute_input": "2021-10-30T12:30:07.674113Z",
     "iopub.status.busy": "2021-10-30T12:30:07.672145Z",
     "iopub.status.idle": "2021-10-30T12:30:08.367538Z",
     "shell.execute_reply": "2021-10-30T12:30:08.368906Z"
    },
    "papermill": {
     "duration": 0.725093,
     "end_time": "2021-10-30T12:30:08.369344",
     "exception": false,
     "start_time": "2021-10-30T12:30:07.644251",
     "status": "completed"
    },
    "tags": []
   },
   "outputs": [],
   "source": [
    "timestamps = pd.read_sql(\"select distinct record_time from EBAY_TOP_BERLIN order by record_time desc limit 2\", sqlite3.connect(\"UsedObjects.db\"))"
   ]
  },
  {
   "cell_type": "code",
   "execution_count": 3,
   "id": "periodic-identification",
   "metadata": {
    "execution": {
     "iopub.execute_input": "2021-10-30T12:30:08.442870Z",
     "iopub.status.busy": "2021-10-30T12:30:08.440870Z",
     "iopub.status.idle": "2021-10-30T12:30:08.460795Z",
     "shell.execute_reply": "2021-10-30T12:30:08.462667Z"
    },
    "papermill": {
     "duration": 0.068942,
     "end_time": "2021-10-30T12:30:08.463220",
     "exception": false,
     "start_time": "2021-10-30T12:30:08.394278",
     "status": "completed"
    },
    "tags": []
   },
   "outputs": [
    {
     "data": {
      "text/html": [
       "<div>\n",
       "<style scoped>\n",
       "    .dataframe tbody tr th:only-of-type {\n",
       "        vertical-align: middle;\n",
       "    }\n",
       "\n",
       "    .dataframe tbody tr th {\n",
       "        vertical-align: top;\n",
       "    }\n",
       "\n",
       "    .dataframe thead th {\n",
       "        text-align: right;\n",
       "    }\n",
       "</style>\n",
       "<table border=\"1\" class=\"dataframe\">\n",
       "  <thead>\n",
       "    <tr style=\"text-align: right;\">\n",
       "      <th></th>\n",
       "      <th>RECORD_TIME</th>\n",
       "    </tr>\n",
       "  </thead>\n",
       "  <tbody>\n",
       "    <tr>\n",
       "      <th>0</th>\n",
       "      <td>2021-10-30 14:30</td>\n",
       "    </tr>\n",
       "    <tr>\n",
       "      <th>1</th>\n",
       "      <td>2021-10-30 14:00</td>\n",
       "    </tr>\n",
       "  </tbody>\n",
       "</table>\n",
       "</div>"
      ],
      "text/plain": [
       "        RECORD_TIME\n",
       "0  2021-10-30 14:30\n",
       "1  2021-10-30 14:00"
      ]
     },
     "execution_count": 3,
     "metadata": {},
     "output_type": "execute_result"
    }
   ],
   "source": [
    "timestamps"
   ]
  },
  {
   "cell_type": "code",
   "execution_count": 4,
   "id": "alternate-victory",
   "metadata": {
    "execution": {
     "iopub.execute_input": "2021-10-30T12:30:08.516637Z",
     "iopub.status.busy": "2021-10-30T12:30:08.514737Z",
     "iopub.status.idle": "2021-10-30T12:30:09.501542Z",
     "shell.execute_reply": "2021-10-30T12:30:09.502823Z"
    },
    "papermill": {
     "duration": 1.017147,
     "end_time": "2021-10-30T12:30:09.503226",
     "exception": false,
     "start_time": "2021-10-30T12:30:08.486079",
     "status": "completed"
    },
    "tags": []
   },
   "outputs": [],
   "source": [
    "df = pd.read_sql(\"select * from EBAY_TOP_BERLIN where record_time in (select distinct record_time from EBAY_TOP_BERLIN order by record_time desc limit 2)\", sqlite3.connect(\"UsedObjects.db\"))"
   ]
  },
  {
   "cell_type": "code",
   "execution_count": 5,
   "id": "popular-active",
   "metadata": {
    "execution": {
     "iopub.execute_input": "2021-10-30T12:30:09.574558Z",
     "iopub.status.busy": "2021-10-30T12:30:09.561815Z",
     "iopub.status.idle": "2021-10-30T12:30:09.590263Z",
     "shell.execute_reply": "2021-10-30T12:30:09.591532Z"
    },
    "papermill": {
     "duration": 0.068161,
     "end_time": "2021-10-30T12:30:09.591949",
     "exception": false,
     "start_time": "2021-10-30T12:30:09.523788",
     "status": "completed"
    },
    "tags": []
   },
   "outputs": [],
   "source": [
    "df_pivot = df.pivot_table(index=\"PRODUCT\", columns = \"RECORD_TIME\", values = \"LISTING_COUNT\")"
   ]
  },
  {
   "cell_type": "code",
   "execution_count": 6,
   "id": "union-huntington",
   "metadata": {
    "execution": {
     "iopub.execute_input": "2021-10-30T12:30:09.649603Z",
     "iopub.status.busy": "2021-10-30T12:30:09.647393Z",
     "iopub.status.idle": "2021-10-30T12:30:09.652984Z",
     "shell.execute_reply": "2021-10-30T12:30:09.654529Z"
    },
    "papermill": {
     "duration": 0.04094,
     "end_time": "2021-10-30T12:30:09.654965",
     "exception": false,
     "start_time": "2021-10-30T12:30:09.614025",
     "status": "completed"
    },
    "tags": []
   },
   "outputs": [],
   "source": [
    "df_pivot.columns = [\"stamp_1\", \"stamp_2\"]\n",
    "df_pivot_diff = df_pivot.diff(axis=1)"
   ]
  },
  {
   "cell_type": "code",
   "execution_count": 7,
   "id": "fifth-motion",
   "metadata": {
    "execution": {
     "iopub.execute_input": "2021-10-30T12:30:09.709712Z",
     "iopub.status.busy": "2021-10-30T12:30:09.707010Z",
     "iopub.status.idle": "2021-10-30T12:30:11.198724Z",
     "shell.execute_reply": "2021-10-30T12:30:11.199898Z"
    },
    "papermill": {
     "duration": 1.525194,
     "end_time": "2021-10-30T12:30:11.200329",
     "exception": false,
     "start_time": "2021-10-30T12:30:09.675135",
     "status": "completed"
    },
    "tags": []
   },
   "outputs": [
    {
     "data": {
      "text/plain": [
       "<AxesSubplot:ylabel='PRODUCT'>"
      ]
     },
     "execution_count": 7,
     "metadata": {},
     "output_type": "execute_result"
    },
    {
     "data": {
      "image/png": "[encoded data removed]",
      "text/plain": [
       "<Figure size 432x288 with 1 Axes>"
      ]
     },
     "metadata": {
      "needs_background": "light"
     },
     "output_type": "display_data"
    }
   ],
   "source": [
    "df_pivot_diff.sort_values(\"stamp_2\", ascending = False)[\"stamp_2\"].head(10).plot.barh()"
   ]
  },
  {
   "cell_type": "code",
   "execution_count": null,
   "id": "extra-executive",
   "metadata": {
    "papermill": {
     "duration": 0.022424,
     "end_time": "2021-10-30T12:30:11.249015",
     "exception": false,
     "start_time": "2021-10-30T12:30:11.226591",
     "status": "completed"
    },
    "tags": []
   },
   "outputs": [],
   "source": []
  }
 ],
 "metadata": {
  "kernelspec": {
   "display_name": "Python 3",
   "language": "python",
   "name": "python3"
  },
  "language_info": {
   "codemirror_mode": {
    "name": "ipython",
    "version": 3
   },
   "file_extension": ".py",
   "mimetype": "text/x-python",
   "name": "python",
   "nbconvert_exporter": "python",
   "pygments_lexer": "ipython3",
   "version": "3.9.5"
  },
  "papermill": {
   "default_parameters": {},
   "duration": 7.523386,
   "end_time": "2021-10-30T12:30:11.891193",
   "environment_variables": {},
   "exception": null,
   "input_path": "eBay_Overview.ipynb",
   "output_path": "eBay_Overview.ipynb",
   "parameters": {},
   "start_time": "2021-10-30T12:30:04.367807",
   "version": "2.3.3"
  }
 },
 "nbformat": 4,
 "nbformat_minor": 5
}