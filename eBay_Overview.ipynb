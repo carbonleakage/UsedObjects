{
 "cells": [
  {
   "cell_type": "code",
   "execution_count": 1,
   "id": "reverse-picking",
   "metadata": {
    "execution": {
     "iopub.execute_input": "2021-09-28T07:00:07.235801Z",
     "iopub.status.busy": "2021-09-28T07:00:07.233762Z",
     "iopub.status.idle": "2021-09-28T07:00:08.042254Z",
     "shell.execute_reply": "2021-09-28T07:00:08.043725Z"
    },
    "papermill": {
     "duration": 0.861165,
     "end_time": "2021-09-28T07:00:08.044365",
     "exception": false,
     "start_time": "2021-09-28T07:00:07.183200",
     "status": "completed"
    },
    "tags": []
   },
   "outputs": [],
   "source": [
    "import pandas as pd\n",
    "import sqlite3"
   ]
  },
  {
   "cell_type": "code",
   "execution_count": 2,
   "id": "innovative-syndrome",
   "metadata": {
    "execution": {
     "iopub.execute_input": "2021-09-28T07:00:08.094924Z",
     "iopub.status.busy": "2021-09-28T07:00:08.092978Z",
     "iopub.status.idle": "2021-09-28T07:00:08.490403Z",
     "shell.execute_reply": "2021-09-28T07:00:08.492389Z"
    },
    "papermill": {
     "duration": 0.42816,
     "end_time": "2021-09-28T07:00:08.492936",
     "exception": false,
     "start_time": "2021-09-28T07:00:08.064776",
     "status": "completed"
    },
    "tags": []
   },
   "outputs": [],
   "source": [
    "timestamps = pd.read_sql(\"select distinct record_time from EBAY_TOP_BERLIN order by record_time desc limit 2\", sqlite3.connect(\"UsedObjects.db\"))"
   ]
  },
  {
   "cell_type": "code",
   "execution_count": 3,
   "id": "periodic-identification",
   "metadata": {
    "execution": {
     "iopub.execute_input": "2021-09-28T07:00:08.562003Z",
     "iopub.status.busy": "2021-09-28T07:00:08.556640Z",
     "iopub.status.idle": "2021-09-28T07:00:08.576664Z",
     "shell.execute_reply": "2021-09-28T07:00:08.577961Z"
    },
    "papermill": {
     "duration": 0.066104,
     "end_time": "2021-09-28T07:00:08.578374",
     "exception": false,
     "start_time": "2021-09-28T07:00:08.512270",
     "status": "completed"
    },
    "tags": []
   },
   "outputs": [
    {
     "data": {
      "text/html": [
       "<div>\n",
       "<style scoped>\n",
       "    .dataframe tbody tr th:only-of-type {\n",
       "        vertical-align: middle;\n",
       "    }\n",
       "\n",
       "    .dataframe tbody tr th {\n",
       "        vertical-align: top;\n",
       "    }\n",
       "\n",
       "    .dataframe thead th {\n",
       "        text-align: right;\n",
       "    }\n",
       "</style>\n",
       "<table border=\"1\" class=\"dataframe\">\n",
       "  <thead>\n",
       "    <tr style=\"text-align: right;\">\n",
       "      <th></th>\n",
       "      <th>RECORD_TIME</th>\n",
       "    </tr>\n",
       "  </thead>\n",
       "  <tbody>\n",
       "    <tr>\n",
       "      <th>0</th>\n",
       "      <td>2021-09-28 09:00</td>\n",
       "    </tr>\n",
       "    <tr>\n",
       "      <th>1</th>\n",
       "      <td>2021-09-28 08:30</td>\n",
       "    </tr>\n",
       "  </tbody>\n",
       "</table>\n",
       "</div>"
      ],
      "text/plain": [
       "        RECORD_TIME\n",
       "0  2021-09-28 09:00\n",
       "1  2021-09-28 08:30"
      ]
     },
     "execution_count": 3,
     "metadata": {},
     "output_type": "execute_result"
    }
   ],
   "source": [
    "timestamps"
   ]
  },
  {
   "cell_type": "code",
   "execution_count": 4,
   "id": "alternate-victory",
   "metadata": {
    "execution": {
     "iopub.execute_input": "2021-09-28T07:00:08.629968Z",
     "iopub.status.busy": "2021-09-28T07:00:08.628092Z",
     "iopub.status.idle": "2021-09-28T07:00:09.206371Z",
     "shell.execute_reply": "2021-09-28T07:00:09.208447Z"
    },
    "papermill": {
     "duration": 0.609598,
     "end_time": "2021-09-28T07:00:09.209096",
     "exception": false,
     "start_time": "2021-09-28T07:00:08.599498",
     "status": "completed"
    },
    "tags": []
   },
   "outputs": [],
   "source": [
    "df = pd.read_sql(\"select * from EBAY_TOP_BERLIN where record_time in (select distinct record_time from EBAY_TOP_BERLIN order by record_time desc limit 2)\", sqlite3.connect(\"UsedObjects.db\"))"
   ]
  },
  {
   "cell_type": "code",
   "execution_count": 5,
   "id": "popular-active",
   "metadata": {
    "execution": {
     "iopub.execute_input": "2021-09-28T07:00:09.295236Z",
     "iopub.status.busy": "2021-09-28T07:00:09.282550Z",
     "iopub.status.idle": "2021-09-28T07:00:09.310996Z",
     "shell.execute_reply": "2021-09-28T07:00:09.312242Z"
    },
    "papermill": {
     "duration": 0.072836,
     "end_time": "2021-09-28T07:00:09.312637",
     "exception": false,
     "start_time": "2021-09-28T07:00:09.239801",
     "status": "completed"
    },
    "tags": []
   },
   "outputs": [],
   "source": [
    "df_pivot = df.pivot_table(index=\"PRODUCT\", columns = \"RECORD_TIME\", values = \"LISTING_COUNT\")"
   ]
  },
  {
   "cell_type": "code",
   "execution_count": 6,
   "id": "union-huntington",
   "metadata": {
    "execution": {
     "iopub.execute_input": "2021-09-28T07:00:09.368490Z",
     "iopub.status.busy": "2021-09-28T07:00:09.366466Z",
     "iopub.status.idle": "2021-09-28T07:00:09.371661Z",
     "shell.execute_reply": "2021-09-28T07:00:09.372802Z"
    },
    "papermill": {
     "duration": 0.039743,
     "end_time": "2021-09-28T07:00:09.373208",
     "exception": false,
     "start_time": "2021-09-28T07:00:09.333465",
     "status": "completed"
    },
    "tags": []
   },
   "outputs": [],
   "source": [
    "df_pivot.columns = [\"stamp_1\", \"stamp_2\"]\n",
    "df_pivot_diff = df_pivot.diff(axis=1)"
   ]
  },
  {
   "cell_type": "code",
   "execution_count": 7,
   "id": "fifth-motion",
   "metadata": {
    "execution": {
     "iopub.execute_input": "2021-09-28T07:00:09.427919Z",
     "iopub.status.busy": "2021-09-28T07:00:09.425302Z",
     "iopub.status.idle": "2021-09-28T07:00:10.931571Z",
     "shell.execute_reply": "2021-09-28T07:00:10.933040Z"
    },
    "papermill": {
     "duration": 1.53976,
     "end_time": "2021-09-28T07:00:10.933505",
     "exception": false,
     "start_time": "2021-09-28T07:00:09.393745",
     "status": "completed"
    },
    "tags": []
   },
   "outputs": [
    {
     "data": {
      "text/plain": [
       "<AxesSubplot:ylabel='PRODUCT'>"
      ]
     },
     "execution_count": 7,
     "metadata": {},
     "output_type": "execute_result"
    },
    {
     "data": {
      "image/png": "[encoded data removed]",
      "text/plain": [
       "<Figure size 432x288 with 1 Axes>"
      ]
     },
     "metadata": {
      "needs_background": "light"
     },
     "output_type": "display_data"
    }
   ],
   "source": [
    "df_pivot_diff.sort_values(\"stamp_2\", ascending = False)[\"stamp_2\"].head(10).plot.barh()"
   ]
  },
  {
   "cell_type": "code",
   "execution_count": null,
   "id": "extra-executive",
   "metadata": {
    "papermill": {
     "duration": 0.022478,
     "end_time": "2021-09-28T07:00:10.980219",
     "exception": false,
     "start_time": "2021-09-28T07:00:10.957741",
     "status": "completed"
    },
    "tags": []
   },
   "outputs": [],
   "source": []
  }
 ],
 "metadata": {
  "kernelspec": {
   "display_name": "Python 3",
   "language": "python",
   "name": "python3"
  },
  "language_info": {
   "codemirror_mode": {
    "name": "ipython",
    "version": 3
   },
   "file_extension": ".py",
   "mimetype": "text/x-python",
   "name": "python",
   "nbconvert_exporter": "python",
   "pygments_lexer": "ipython3",
   "version": "3.9.5"
  },
  "papermill": {
   "default_parameters": {},
   "duration": 7.832255,
   "end_time": "2021-09-28T07:00:12.603551",
   "environment_variables": {},
   "exception": null,
   "input_path": "eBay_Overview.ipynb",
   "output_path": "eBay_Overview.ipynb",
   "parameters": {},
   "start_time": "2021-09-28T07:00:04.771296",
   "version": "2.3.3"
  }
 },
 "nbformat": 4,
 "nbformat_minor": 5
}