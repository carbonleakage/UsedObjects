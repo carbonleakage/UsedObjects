{
 "cells": [
  {
   "cell_type": "code",
   "execution_count": 1,
   "id": "reverse-picking",
   "metadata": {
    "execution": {
     "iopub.execute_input": "2021-11-03T06:00:08.257886Z",
     "iopub.status.busy": "2021-11-03T06:00:08.255211Z",
     "iopub.status.idle": "2021-11-03T06:00:09.209654Z",
     "shell.execute_reply": "2021-11-03T06:00:09.207598Z"
    },
    "papermill": {
     "duration": 0.999206,
     "end_time": "2021-11-03T06:00:09.210149",
     "exception": false,
     "start_time": "2021-11-03T06:00:08.210943",
     "status": "completed"
    },
    "tags": []
   },
   "outputs": [],
   "source": [
    "import pandas as pd\n",
    "import sqlite3"
   ]
  },
  {
   "cell_type": "code",
   "execution_count": 2,
   "id": "innovative-syndrome",
   "metadata": {
    "execution": {
     "iopub.execute_input": "2021-11-03T06:00:09.271890Z",
     "iopub.status.busy": "2021-11-03T06:00:09.269535Z",
     "iopub.status.idle": "2021-11-03T06:00:09.968214Z",
     "shell.execute_reply": "2021-11-03T06:00:09.970021Z"
    },
    "papermill": {
     "duration": 0.739154,
     "end_time": "2021-11-03T06:00:09.970545",
     "exception": false,
     "start_time": "2021-11-03T06:00:09.231391",
     "status": "completed"
    },
    "tags": []
   },
   "outputs": [],
   "source": [
    "timestamps = pd.read_sql(\"select distinct record_time from EBAY_TOP_BERLIN order by record_time desc limit 2\", sqlite3.connect(\"UsedObjects.db\"))"
   ]
  },
  {
   "cell_type": "code",
   "execution_count": 3,
   "id": "periodic-identification",
   "metadata": {
    "execution": {
     "iopub.execute_input": "2021-11-03T06:00:10.045486Z",
     "iopub.status.busy": "2021-11-03T06:00:10.039300Z",
     "iopub.status.idle": "2021-11-03T06:00:10.062405Z",
     "shell.execute_reply": "2021-11-03T06:00:10.063834Z"
    },
    "papermill": {
     "duration": 0.073215,
     "end_time": "2021-11-03T06:00:10.064335",
     "exception": false,
     "start_time": "2021-11-03T06:00:09.991120",
     "status": "completed"
    },
    "tags": []
   },
   "outputs": [
    {
     "data": {
      "text/html": [
       "<div>\n",
       "<style scoped>\n",
       "    .dataframe tbody tr th:only-of-type {\n",
       "        vertical-align: middle;\n",
       "    }\n",
       "\n",
       "    .dataframe tbody tr th {\n",
       "        vertical-align: top;\n",
       "    }\n",
       "\n",
       "    .dataframe thead th {\n",
       "        text-align: right;\n",
       "    }\n",
       "</style>\n",
       "<table border=\"1\" class=\"dataframe\">\n",
       "  <thead>\n",
       "    <tr style=\"text-align: right;\">\n",
       "      <th></th>\n",
       "      <th>RECORD_TIME</th>\n",
       "    </tr>\n",
       "  </thead>\n",
       "  <tbody>\n",
       "    <tr>\n",
       "      <th>0</th>\n",
       "      <td>2021-11-03 07:00</td>\n",
       "    </tr>\n",
       "    <tr>\n",
       "      <th>1</th>\n",
       "      <td>2021-11-03 06:30</td>\n",
       "    </tr>\n",
       "  </tbody>\n",
       "</table>\n",
       "</div>"
      ],
      "text/plain": [
       "        RECORD_TIME\n",
       "0  2021-11-03 07:00\n",
       "1  2021-11-03 06:30"
      ]
     },
     "execution_count": 3,
     "metadata": {},
     "output_type": "execute_result"
    }
   ],
   "source": [
    "timestamps"
   ]
  },
  {
   "cell_type": "code",
   "execution_count": 4,
   "id": "alternate-victory",
   "metadata": {
    "execution": {
     "iopub.execute_input": "2021-11-03T06:00:10.118307Z",
     "iopub.status.busy": "2021-11-03T06:00:10.116075Z",
     "iopub.status.idle": "2021-11-03T06:00:11.157098Z",
     "shell.execute_reply": "2021-11-03T06:00:11.158803Z"
    },
    "papermill": {
     "duration": 1.074029,
     "end_time": "2021-11-03T06:00:11.159302",
     "exception": false,
     "start_time": "2021-11-03T06:00:10.085273",
     "status": "completed"
    },
    "tags": []
   },
   "outputs": [],
   "source": [
    "df = pd.read_sql(\"select * from EBAY_TOP_BERLIN where record_time in (select distinct record_time from EBAY_TOP_BERLIN order by record_time desc limit 2)\", sqlite3.connect(\"UsedObjects.db\"))"
   ]
  },
  {
   "cell_type": "code",
   "execution_count": 5,
   "id": "popular-active",
   "metadata": {
    "execution": {
     "iopub.execute_input": "2021-11-03T06:00:11.240238Z",
     "iopub.status.busy": "2021-11-03T06:00:11.224643Z",
     "iopub.status.idle": "2021-11-03T06:00:11.260770Z",
     "shell.execute_reply": "2021-11-03T06:00:11.259041Z"
    },
    "papermill": {
     "duration": 0.078481,
     "end_time": "2021-11-03T06:00:11.261219",
     "exception": false,
     "start_time": "2021-11-03T06:00:11.182738",
     "status": "completed"
    },
    "tags": []
   },
   "outputs": [],
   "source": [
    "df_pivot = df.pivot_table(index=\"PRODUCT\", columns = \"RECORD_TIME\", values = \"LISTING_COUNT\")"
   ]
  },
  {
   "cell_type": "code",
   "execution_count": 6,
   "id": "union-huntington",
   "metadata": {
    "execution": {
     "iopub.execute_input": "2021-11-03T06:00:11.325527Z",
     "iopub.status.busy": "2021-11-03T06:00:11.323085Z",
     "iopub.status.idle": "2021-11-03T06:00:11.330144Z",
     "shell.execute_reply": "2021-11-03T06:00:11.327974Z"
    },
    "papermill": {
     "duration": 0.046374,
     "end_time": "2021-11-03T06:00:11.330582",
     "exception": false,
     "start_time": "2021-11-03T06:00:11.284208",
     "status": "completed"
    },
    "tags": []
   },
   "outputs": [],
   "source": [
    "df_pivot.columns = [\"stamp_1\", \"stamp_2\"]\n",
    "df_pivot_diff = df_pivot.diff(axis=1)"
   ]
  },
  {
   "cell_type": "code",
   "execution_count": 7,
   "id": "fifth-motion",
   "metadata": {
    "execution": {
     "iopub.execute_input": "2021-11-03T06:00:11.390617Z",
     "iopub.status.busy": "2021-11-03T06:00:11.387936Z",
     "iopub.status.idle": "2021-11-03T06:00:13.201483Z",
     "shell.execute_reply": "2021-11-03T06:00:13.204424Z"
    },
    "papermill": {
     "duration": 1.853391,
     "end_time": "2021-11-03T06:00:13.205394",
     "exception": false,
     "start_time": "2021-11-03T06:00:11.352003",
     "status": "completed"
    },
    "tags": []
   },
   "outputs": [
    {
     "data": {
      "text/plain": [
       "<AxesSubplot:ylabel='PRODUCT'>"
      ]
     },
     "execution_count": 7,
     "metadata": {},
     "output_type": "execute_result"
    },
    {
     "data": {
      "image/png": "[encoded data removed]",
      "text/plain": [
       "<Figure size 432x288 with 1 Axes>"
      ]
     },
     "metadata": {
      "needs_background": "light"
     },
     "output_type": "display_data"
    }
   ],
   "source": [
    "df_pivot_diff.sort_values(\"stamp_2\", ascending = False)[\"stamp_2\"].head(10).plot.barh()"
   ]
  },
  {
   "cell_type": "code",
   "execution_count": null,
   "id": "extra-executive",
   "metadata": {
    "papermill": {
     "duration": 0.037787,
     "end_time": "2021-11-03T06:00:13.282326",
     "exception": false,
     "start_time": "2021-11-03T06:00:13.244539",
     "status": "completed"
    },
    "tags": []
   },
   "outputs": [],
   "source": []
  }
 ],
 "metadata": {
  "kernelspec": {
   "display_name": "Python 3",
   "language": "python",
   "name": "python3"
  },
  "language_info": {
   "codemirror_mode": {
    "name": "ipython",
    "version": 3
   },
   "file_extension": ".py",
   "mimetype": "text/x-python",
   "name": "python",
   "nbconvert_exporter": "python",
   "pygments_lexer": "ipython3",
   "version": "3.9.5"
  },
  "papermill": {
   "default_parameters": {},
   "duration": 8.675164,
   "end_time": "2021-11-03T06:00:14.143311",
   "environment_variables": {},
   "exception": null,
   "input_path": "eBay_Overview.ipynb",
   "output_path": "eBay_Overview.ipynb",
   "parameters": {},
   "start_time": "2021-11-03T06:00:05.468147",
   "version": "2.3.3"
  }
 },
 "nbformat": 4,
 "nbformat_minor": 5
}