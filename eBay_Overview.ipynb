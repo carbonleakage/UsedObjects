{
 "cells": [
  {
   "cell_type": "code",
   "execution_count": 1,
   "id": "reverse-picking",
   "metadata": {
    "execution": {
     "iopub.execute_input": "2021-09-23T12:30:06.819507Z",
     "iopub.status.busy": "2021-09-23T12:30:06.817455Z",
     "iopub.status.idle": "2021-09-23T12:30:07.621134Z",
     "shell.execute_reply": "2021-09-23T12:30:07.622385Z"
    },
    "papermill": {
     "duration": 0.853873,
     "end_time": "2021-09-23T12:30:07.623050",
     "exception": false,
     "start_time": "2021-09-23T12:30:06.769177",
     "status": "completed"
    },
    "tags": []
   },
   "outputs": [],
   "source": [
    "import pandas as pd\n",
    "import sqlite3"
   ]
  },
  {
   "cell_type": "code",
   "execution_count": 2,
   "id": "innovative-syndrome",
   "metadata": {
    "execution": {
     "iopub.execute_input": "2021-09-23T12:30:07.673576Z",
     "iopub.status.busy": "2021-09-23T12:30:07.671723Z",
     "iopub.status.idle": "2021-09-23T12:30:08.033618Z",
     "shell.execute_reply": "2021-09-23T12:30:08.035006Z"
    },
    "papermill": {
     "duration": 0.391534,
     "end_time": "2021-09-23T12:30:08.035439",
     "exception": false,
     "start_time": "2021-09-23T12:30:07.643905",
     "status": "completed"
    },
    "tags": []
   },
   "outputs": [],
   "source": [
    "timestamps = pd.read_sql(\"select distinct record_time from EBAY_TOP_BERLIN order by record_time desc limit 2\", sqlite3.connect(\"UsedObjects.db\"))"
   ]
  },
  {
   "cell_type": "code",
   "execution_count": 3,
   "id": "periodic-identification",
   "metadata": {
    "execution": {
     "iopub.execute_input": "2021-09-23T12:30:08.104253Z",
     "iopub.status.busy": "2021-09-23T12:30:08.102162Z",
     "iopub.status.idle": "2021-09-23T12:30:08.122052Z",
     "shell.execute_reply": "2021-09-23T12:30:08.123419Z"
    },
    "papermill": {
     "duration": 0.066761,
     "end_time": "2021-09-23T12:30:08.123843",
     "exception": false,
     "start_time": "2021-09-23T12:30:08.057082",
     "status": "completed"
    },
    "tags": []
   },
   "outputs": [
    {
     "data": {
      "text/html": [
       "<div>\n",
       "<style scoped>\n",
       "    .dataframe tbody tr th:only-of-type {\n",
       "        vertical-align: middle;\n",
       "    }\n",
       "\n",
       "    .dataframe tbody tr th {\n",
       "        vertical-align: top;\n",
       "    }\n",
       "\n",
       "    .dataframe thead th {\n",
       "        text-align: right;\n",
       "    }\n",
       "</style>\n",
       "<table border=\"1\" class=\"dataframe\">\n",
       "  <thead>\n",
       "    <tr style=\"text-align: right;\">\n",
       "      <th></th>\n",
       "      <th>RECORD_TIME</th>\n",
       "    </tr>\n",
       "  </thead>\n",
       "  <tbody>\n",
       "    <tr>\n",
       "      <th>0</th>\n",
       "      <td>2021-09-23 14:30</td>\n",
       "    </tr>\n",
       "    <tr>\n",
       "      <th>1</th>\n",
       "      <td>2021-09-23 14:00</td>\n",
       "    </tr>\n",
       "  </tbody>\n",
       "</table>\n",
       "</div>"
      ],
      "text/plain": [
       "        RECORD_TIME\n",
       "0  2021-09-23 14:30\n",
       "1  2021-09-23 14:00"
      ]
     },
     "execution_count": 3,
     "metadata": {},
     "output_type": "execute_result"
    }
   ],
   "source": [
    "timestamps"
   ]
  },
  {
   "cell_type": "code",
   "execution_count": 4,
   "id": "alternate-victory",
   "metadata": {
    "execution": {
     "iopub.execute_input": "2021-09-23T12:30:08.175466Z",
     "iopub.status.busy": "2021-09-23T12:30:08.173506Z",
     "iopub.status.idle": "2021-09-23T12:30:08.697636Z",
     "shell.execute_reply": "2021-09-23T12:30:08.698920Z"
    },
    "papermill": {
     "duration": 0.554196,
     "end_time": "2021-09-23T12:30:08.699377",
     "exception": false,
     "start_time": "2021-09-23T12:30:08.145181",
     "status": "completed"
    },
    "tags": []
   },
   "outputs": [],
   "source": [
    "df = pd.read_sql(\"select * from EBAY_TOP_BERLIN where record_time in (select distinct record_time from EBAY_TOP_BERLIN order by record_time desc limit 2)\", sqlite3.connect(\"UsedObjects.db\"))"
   ]
  },
  {
   "cell_type": "code",
   "execution_count": 5,
   "id": "popular-active",
   "metadata": {
    "execution": {
     "iopub.execute_input": "2021-09-23T12:30:08.778780Z",
     "iopub.status.busy": "2021-09-23T12:30:08.766322Z",
     "iopub.status.idle": "2021-09-23T12:30:08.796266Z",
     "shell.execute_reply": "2021-09-23T12:30:08.797641Z"
    },
    "papermill": {
     "duration": 0.07273,
     "end_time": "2021-09-23T12:30:08.798084",
     "exception": false,
     "start_time": "2021-09-23T12:30:08.725354",
     "status": "completed"
    },
    "tags": []
   },
   "outputs": [],
   "source": [
    "df_pivot = df.pivot_table(index=\"PRODUCT\", columns = \"RECORD_TIME\", values = \"LISTING_COUNT\")"
   ]
  },
  {
   "cell_type": "code",
   "execution_count": 6,
   "id": "union-huntington",
   "metadata": {
    "execution": {
     "iopub.execute_input": "2021-09-23T12:30:08.855373Z",
     "iopub.status.busy": "2021-09-23T12:30:08.853000Z",
     "iopub.status.idle": "2021-09-23T12:30:08.858958Z",
     "shell.execute_reply": "2021-09-23T12:30:08.860247Z"
    },
    "papermill": {
     "duration": 0.042207,
     "end_time": "2021-09-23T12:30:08.860700",
     "exception": false,
     "start_time": "2021-09-23T12:30:08.818493",
     "status": "completed"
    },
    "tags": []
   },
   "outputs": [],
   "source": [
    "df_pivot.columns = [\"stamp_1\", \"stamp_2\"]\n",
    "df_pivot_diff = df_pivot.diff(axis=1)"
   ]
  },
  {
   "cell_type": "code",
   "execution_count": 7,
   "id": "fifth-motion",
   "metadata": {
    "execution": {
     "iopub.execute_input": "2021-09-23T12:30:08.915081Z",
     "iopub.status.busy": "2021-09-23T12:30:08.912761Z",
     "iopub.status.idle": "2021-09-23T12:30:10.380524Z",
     "shell.execute_reply": "2021-09-23T12:30:10.381821Z"
    },
    "papermill": {
     "duration": 1.500173,
     "end_time": "2021-09-23T12:30:10.382240",
     "exception": false,
     "start_time": "2021-09-23T12:30:08.882067",
     "status": "completed"
    },
    "tags": []
   },
   "outputs": [
    {
     "data": {
      "text/plain": [
       "<AxesSubplot:ylabel='PRODUCT'>"
      ]
     },
     "execution_count": 7,
     "metadata": {},
     "output_type": "execute_result"
    },
    {
     "data": {
      "image/png": "[encoded data removed]",
      "text/plain": [
       "<Figure size 432x288 with 1 Axes>"
      ]
     },
     "metadata": {
      "needs_background": "light"
     },
     "output_type": "display_data"
    }
   ],
   "source": [
    "df_pivot_diff.sort_values(\"stamp_2\", ascending = False)[\"stamp_2\"].head(10).plot.barh()"
   ]
  },
  {
   "cell_type": "code",
   "execution_count": null,
   "id": "extra-executive",
   "metadata": {
    "papermill": {
     "duration": 0.022254,
     "end_time": "2021-09-23T12:30:10.428496",
     "exception": false,
     "start_time": "2021-09-23T12:30:10.406242",
     "status": "completed"
    },
    "tags": []
   },
   "outputs": [],
   "source": []
  }
 ],
 "metadata": {
  "kernelspec": {
   "display_name": "Python 3",
   "language": "python",
   "name": "python3"
  },
  "language_info": {
   "codemirror_mode": {
    "name": "ipython",
    "version": 3
   },
   "file_extension": ".py",
   "mimetype": "text/x-python",
   "name": "python",
   "nbconvert_exporter": "python",
   "pygments_lexer": "ipython3",
   "version": "3.9.5"
  },
  "papermill": {
   "default_parameters": {},
   "duration": 6.705183,
   "end_time": "2021-09-23T12:30:11.071782",
   "environment_variables": {},
   "exception": null,
   "input_path": "eBay_Overview.ipynb",
   "output_path": "eBay_Overview.ipynb",
   "parameters": {},
   "start_time": "2021-09-23T12:30:04.366599",
   "version": "2.3.3"
  }
 },
 "nbformat": 4,
 "nbformat_minor": 5
}