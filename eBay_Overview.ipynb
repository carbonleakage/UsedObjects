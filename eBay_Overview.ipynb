{
 "cells": [
  {
   "cell_type": "code",
   "execution_count": 1,
   "id": "reverse-picking",
   "metadata": {
    "execution": {
     "iopub.execute_input": "2021-12-10T13:30:07.569315Z",
     "iopub.status.busy": "2021-12-10T13:30:07.566957Z",
     "iopub.status.idle": "2021-12-10T13:30:08.505949Z",
     "shell.execute_reply": "2021-12-10T13:30:08.507581Z"
    },
    "papermill": {
     "duration": 0.988406,
     "end_time": "2021-12-10T13:30:08.508349",
     "exception": false,
     "start_time": "2021-12-10T13:30:07.519943",
     "status": "completed"
    },
    "tags": []
   },
   "outputs": [],
   "source": [
    "import pandas as pd\n",
    "import sqlite3"
   ]
  },
  {
   "cell_type": "code",
   "execution_count": 2,
   "id": "innovative-syndrome",
   "metadata": {
    "execution": {
     "iopub.execute_input": "2021-12-10T13:30:08.577010Z",
     "iopub.status.busy": "2021-12-10T13:30:08.574714Z",
     "iopub.status.idle": "2021-12-10T13:30:09.632599Z",
     "shell.execute_reply": "2021-12-10T13:30:09.633933Z"
    },
    "papermill": {
     "duration": 1.104319,
     "end_time": "2021-12-10T13:30:09.634405",
     "exception": false,
     "start_time": "2021-12-10T13:30:08.530086",
     "status": "completed"
    },
    "tags": []
   },
   "outputs": [],
   "source": [
    "timestamps = pd.read_sql(\"select distinct record_time from EBAY_TOP_BERLIN order by record_time desc limit 2\", sqlite3.connect(\"UsedObjects.db\"))"
   ]
  },
  {
   "cell_type": "code",
   "execution_count": 3,
   "id": "periodic-identification",
   "metadata": {
    "execution": {
     "iopub.execute_input": "2021-12-10T13:30:09.705617Z",
     "iopub.status.busy": "2021-12-10T13:30:09.703173Z",
     "iopub.status.idle": "2021-12-10T13:30:09.726261Z",
     "shell.execute_reply": "2021-12-10T13:30:09.727702Z"
    },
    "papermill": {
     "duration": 0.072662,
     "end_time": "2021-12-10T13:30:09.728186",
     "exception": false,
     "start_time": "2021-12-10T13:30:09.655524",
     "status": "completed"
    },
    "tags": []
   },
   "outputs": [
    {
     "data": {
      "text/html": [
       "<div>\n",
       "<style scoped>\n",
       "    .dataframe tbody tr th:only-of-type {\n",
       "        vertical-align: middle;\n",
       "    }\n",
       "\n",
       "    .dataframe tbody tr th {\n",
       "        vertical-align: top;\n",
       "    }\n",
       "\n",
       "    .dataframe thead th {\n",
       "        text-align: right;\n",
       "    }\n",
       "</style>\n",
       "<table border=\"1\" class=\"dataframe\">\n",
       "  <thead>\n",
       "    <tr style=\"text-align: right;\">\n",
       "      <th></th>\n",
       "      <th>RECORD_TIME</th>\n",
       "    </tr>\n",
       "  </thead>\n",
       "  <tbody>\n",
       "    <tr>\n",
       "      <th>0</th>\n",
       "      <td>2021-12-10 14:30</td>\n",
       "    </tr>\n",
       "    <tr>\n",
       "      <th>1</th>\n",
       "      <td>2021-12-10 14:00</td>\n",
       "    </tr>\n",
       "  </tbody>\n",
       "</table>\n",
       "</div>"
      ],
      "text/plain": [
       "        RECORD_TIME\n",
       "0  2021-12-10 14:30\n",
       "1  2021-12-10 14:00"
      ]
     },
     "execution_count": 3,
     "metadata": {},
     "output_type": "execute_result"
    }
   ],
   "source": [
    "timestamps"
   ]
  },
  {
   "cell_type": "code",
   "execution_count": 4,
   "id": "alternate-victory",
   "metadata": {
    "execution": {
     "iopub.execute_input": "2021-12-10T13:30:09.786486Z",
     "iopub.status.busy": "2021-12-10T13:30:09.783235Z",
     "iopub.status.idle": "2021-12-10T13:30:11.297924Z",
     "shell.execute_reply": "2021-12-10T13:30:11.299520Z"
    },
    "papermill": {
     "duration": 1.549977,
     "end_time": "2021-12-10T13:30:11.299999",
     "exception": false,
     "start_time": "2021-12-10T13:30:09.750022",
     "status": "completed"
    },
    "tags": []
   },
   "outputs": [],
   "source": [
    "df = pd.read_sql(\"select * from EBAY_TOP_BERLIN where record_time in (select distinct record_time from EBAY_TOP_BERLIN order by record_time desc limit 2)\", sqlite3.connect(\"UsedObjects.db\"))"
   ]
  },
  {
   "cell_type": "code",
   "execution_count": 5,
   "id": "popular-active",
   "metadata": {
    "execution": {
     "iopub.execute_input": "2021-12-10T13:30:11.376289Z",
     "iopub.status.busy": "2021-12-10T13:30:11.362044Z",
     "iopub.status.idle": "2021-12-10T13:30:11.398392Z",
     "shell.execute_reply": "2021-12-10T13:30:11.395715Z"
    },
    "papermill": {
     "duration": 0.077501,
     "end_time": "2021-12-10T13:30:11.398833",
     "exception": false,
     "start_time": "2021-12-10T13:30:11.321332",
     "status": "completed"
    },
    "tags": []
   },
   "outputs": [],
   "source": [
    "df_pivot = df.pivot_table(index=\"PRODUCT\", columns = \"RECORD_TIME\", values = \"LISTING_COUNT\")"
   ]
  },
  {
   "cell_type": "code",
   "execution_count": 6,
   "id": "union-huntington",
   "metadata": {
    "execution": {
     "iopub.execute_input": "2021-12-10T13:30:11.460331Z",
     "iopub.status.busy": "2021-12-10T13:30:11.457842Z",
     "iopub.status.idle": "2021-12-10T13:30:11.464563Z",
     "shell.execute_reply": "2021-12-10T13:30:11.466294Z"
    },
    "papermill": {
     "duration": 0.046616,
     "end_time": "2021-12-10T13:30:11.466771",
     "exception": false,
     "start_time": "2021-12-10T13:30:11.420155",
     "status": "completed"
    },
    "tags": []
   },
   "outputs": [],
   "source": [
    "df_pivot.columns = [\"stamp_1\", \"stamp_2\"]\n",
    "df_pivot_diff = df_pivot.diff(axis=1)"
   ]
  },
  {
   "cell_type": "code",
   "execution_count": 7,
   "id": "fifth-motion",
   "metadata": {
    "execution": {
     "iopub.execute_input": "2021-12-10T13:30:11.527482Z",
     "iopub.status.busy": "2021-12-10T13:30:11.523105Z",
     "iopub.status.idle": "2021-12-10T13:30:13.401846Z",
     "shell.execute_reply": "2021-12-10T13:30:13.403241Z"
    },
    "papermill": {
     "duration": 1.915148,
     "end_time": "2021-12-10T13:30:13.403722",
     "exception": false,
     "start_time": "2021-12-10T13:30:11.488574",
     "status": "completed"
    },
    "tags": []
   },
   "outputs": [
    {
     "data": {
      "text/plain": [
       "<AxesSubplot:ylabel='PRODUCT'>"
      ]
     },
     "execution_count": 7,
     "metadata": {},
     "output_type": "execute_result"
    },
    {
     "data": {
      "image/png": "[encoded data removed]",
      "text/plain": [
       "<Figure size 432x288 with 1 Axes>"
      ]
     },
     "metadata": {
      "needs_background": "light"
     },
     "output_type": "display_data"
    }
   ],
   "source": [
    "df_pivot_diff.sort_values(\"stamp_2\", ascending = False)[\"stamp_2\"].head(10).plot.barh()"
   ]
  },
  {
   "cell_type": "code",
   "execution_count": null,
   "id": "extra-executive",
   "metadata": {
    "papermill": {
     "duration": 0.023563,
     "end_time": "2021-12-10T13:30:13.451402",
     "exception": false,
     "start_time": "2021-12-10T13:30:13.427839",
     "status": "completed"
    },
    "tags": []
   },
   "outputs": [],
   "source": []
  }
 ],
 "metadata": {
  "kernelspec": {
   "display_name": "Python 3",
   "language": "python",
   "name": "python3"
  },
  "language_info": {
   "codemirror_mode": {
    "name": "ipython",
    "version": 3
   },
   "file_extension": ".py",
   "mimetype": "text/x-python",
   "name": "python",
   "nbconvert_exporter": "python",
   "pygments_lexer": "ipython3",
   "version": "3.9.5"
  },
  "papermill": {
   "default_parameters": {},
   "duration": 10.004533,
   "end_time": "2021-12-10T13:30:14.729053",
   "environment_variables": {},
   "exception": null,
   "input_path": "eBay_Overview.ipynb",
   "output_path": "eBay_Overview.ipynb",
   "parameters": {},
   "start_time": "2021-12-10T13:30:04.724520",
   "version": "2.3.3"
  }
 },
 "nbformat": 4,
 "nbformat_minor": 5
}