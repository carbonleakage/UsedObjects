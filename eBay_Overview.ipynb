{
 "cells": [
  {
   "cell_type": "code",
   "execution_count": 1,
   "id": "reverse-picking",
   "metadata": {
    "execution": {
     "iopub.execute_input": "2021-11-28T19:30:07.920364Z",
     "iopub.status.busy": "2021-11-28T19:30:07.918108Z",
     "iopub.status.idle": "2021-11-28T19:30:08.892451Z",
     "shell.execute_reply": "2021-11-28T19:30:08.894073Z"
    },
    "papermill": {
     "duration": 1.023367,
     "end_time": "2021-11-28T19:30:08.894825",
     "exception": false,
     "start_time": "2021-11-28T19:30:07.871458",
     "status": "completed"
    },
    "tags": []
   },
   "outputs": [],
   "source": [
    "import pandas as pd\n",
    "import sqlite3"
   ]
  },
  {
   "cell_type": "code",
   "execution_count": 2,
   "id": "innovative-syndrome",
   "metadata": {
    "execution": {
     "iopub.execute_input": "2021-11-28T19:30:08.958959Z",
     "iopub.status.busy": "2021-11-28T19:30:08.956601Z",
     "iopub.status.idle": "2021-11-28T19:30:09.872145Z",
     "shell.execute_reply": "2021-11-28T19:30:09.873701Z"
    },
    "papermill": {
     "duration": 0.951441,
     "end_time": "2021-11-28T19:30:09.874234",
     "exception": false,
     "start_time": "2021-11-28T19:30:08.922793",
     "status": "completed"
    },
    "tags": []
   },
   "outputs": [],
   "source": [
    "timestamps = pd.read_sql(\"select distinct record_time from EBAY_TOP_BERLIN order by record_time desc limit 2\", sqlite3.connect(\"UsedObjects.db\"))"
   ]
  },
  {
   "cell_type": "code",
   "execution_count": 3,
   "id": "periodic-identification",
   "metadata": {
    "execution": {
     "iopub.execute_input": "2021-11-28T19:30:09.926379Z",
     "iopub.status.busy": "2021-11-28T19:30:09.921039Z",
     "iopub.status.idle": "2021-11-28T19:30:09.988119Z",
     "shell.execute_reply": "2021-11-28T19:30:09.989682Z"
    },
    "papermill": {
     "duration": 0.095597,
     "end_time": "2021-11-28T19:30:09.990207",
     "exception": false,
     "start_time": "2021-11-28T19:30:09.894610",
     "status": "completed"
    },
    "tags": []
   },
   "outputs": [
    {
     "data": {
      "text/html": [
       "<div>\n",
       "<style scoped>\n",
       "    .dataframe tbody tr th:only-of-type {\n",
       "        vertical-align: middle;\n",
       "    }\n",
       "\n",
       "    .dataframe tbody tr th {\n",
       "        vertical-align: top;\n",
       "    }\n",
       "\n",
       "    .dataframe thead th {\n",
       "        text-align: right;\n",
       "    }\n",
       "</style>\n",
       "<table border=\"1\" class=\"dataframe\">\n",
       "  <thead>\n",
       "    <tr style=\"text-align: right;\">\n",
       "      <th></th>\n",
       "      <th>RECORD_TIME</th>\n",
       "    </tr>\n",
       "  </thead>\n",
       "  <tbody>\n",
       "    <tr>\n",
       "      <th>0</th>\n",
       "      <td>2021-11-28 20:30</td>\n",
       "    </tr>\n",
       "    <tr>\n",
       "      <th>1</th>\n",
       "      <td>2021-11-28 20:00</td>\n",
       "    </tr>\n",
       "  </tbody>\n",
       "</table>\n",
       "</div>"
      ],
      "text/plain": [
       "        RECORD_TIME\n",
       "0  2021-11-28 20:30\n",
       "1  2021-11-28 20:00"
      ]
     },
     "execution_count": 3,
     "metadata": {},
     "output_type": "execute_result"
    }
   ],
   "source": [
    "timestamps"
   ]
  },
  {
   "cell_type": "code",
   "execution_count": 4,
   "id": "alternate-victory",
   "metadata": {
    "execution": {
     "iopub.execute_input": "2021-11-28T19:30:10.047336Z",
     "iopub.status.busy": "2021-11-28T19:30:10.044562Z",
     "iopub.status.idle": "2021-11-28T19:30:11.386686Z",
     "shell.execute_reply": "2021-11-28T19:30:11.388234Z"
    },
    "papermill": {
     "duration": 1.376507,
     "end_time": "2021-11-28T19:30:11.388764",
     "exception": false,
     "start_time": "2021-11-28T19:30:10.012257",
     "status": "completed"
    },
    "tags": []
   },
   "outputs": [],
   "source": [
    "df = pd.read_sql(\"select * from EBAY_TOP_BERLIN where record_time in (select distinct record_time from EBAY_TOP_BERLIN order by record_time desc limit 2)\", sqlite3.connect(\"UsedObjects.db\"))"
   ]
  },
  {
   "cell_type": "code",
   "execution_count": 5,
   "id": "popular-active",
   "metadata": {
    "execution": {
     "iopub.execute_input": "2021-11-28T19:30:11.454250Z",
     "iopub.status.busy": "2021-11-28T19:30:11.451848Z",
     "iopub.status.idle": "2021-11-28T19:30:11.482593Z",
     "shell.execute_reply": "2021-11-28T19:30:11.483970Z"
    },
    "papermill": {
     "duration": 0.072855,
     "end_time": "2021-11-28T19:30:11.484446",
     "exception": false,
     "start_time": "2021-11-28T19:30:11.411591",
     "status": "completed"
    },
    "tags": []
   },
   "outputs": [],
   "source": [
    "df_pivot = df.pivot_table(index=\"PRODUCT\", columns = \"RECORD_TIME\", values = \"LISTING_COUNT\")"
   ]
  },
  {
   "cell_type": "code",
   "execution_count": 6,
   "id": "union-huntington",
   "metadata": {
    "execution": {
     "iopub.execute_input": "2021-11-28T19:30:11.544730Z",
     "iopub.status.busy": "2021-11-28T19:30:11.542331Z",
     "iopub.status.idle": "2021-11-28T19:30:11.552799Z",
     "shell.execute_reply": "2021-11-28T19:30:11.554414Z"
    },
    "papermill": {
     "duration": 0.050251,
     "end_time": "2021-11-28T19:30:11.554902",
     "exception": false,
     "start_time": "2021-11-28T19:30:11.504651",
     "status": "completed"
    },
    "tags": []
   },
   "outputs": [],
   "source": [
    "df_pivot.columns = [\"stamp_1\", \"stamp_2\"]\n",
    "df_pivot_diff = df_pivot.diff(axis=1)"
   ]
  },
  {
   "cell_type": "code",
   "execution_count": 7,
   "id": "fifth-motion",
   "metadata": {
    "execution": {
     "iopub.execute_input": "2021-11-28T19:30:11.612064Z",
     "iopub.status.busy": "2021-11-28T19:30:11.609720Z",
     "iopub.status.idle": "2021-11-28T19:30:13.622958Z",
     "shell.execute_reply": "2021-11-28T19:30:13.624266Z"
    },
    "papermill": {
     "duration": 2.048627,
     "end_time": "2021-11-28T19:30:13.624875",
     "exception": false,
     "start_time": "2021-11-28T19:30:11.576248",
     "status": "completed"
    },
    "tags": []
   },
   "outputs": [
    {
     "data": {
      "text/plain": [
       "<AxesSubplot:ylabel='PRODUCT'>"
      ]
     },
     "execution_count": 7,
     "metadata": {},
     "output_type": "execute_result"
    },
    {
     "data": {
      "image/png": "[encoded data removed]",
      "text/plain": [
       "<Figure size 432x288 with 1 Axes>"
      ]
     },
     "metadata": {
      "needs_background": "light"
     },
     "output_type": "display_data"
    }
   ],
   "source": [
    "df_pivot_diff.sort_values(\"stamp_2\", ascending = False)[\"stamp_2\"].head(10).plot.barh()"
   ]
  },
  {
   "cell_type": "code",
   "execution_count": null,
   "id": "extra-executive",
   "metadata": {
    "papermill": {
     "duration": 0.022564,
     "end_time": "2021-11-28T19:30:13.673721",
     "exception": false,
     "start_time": "2021-11-28T19:30:13.651157",
     "status": "completed"
    },
    "tags": []
   },
   "outputs": [],
   "source": []
  }
 ],
 "metadata": {
  "kernelspec": {
   "display_name": "Python 3",
   "language": "python",
   "name": "python3"
  },
  "language_info": {
   "codemirror_mode": {
    "name": "ipython",
    "version": 3
   },
   "file_extension": ".py",
   "mimetype": "text/x-python",
   "name": "python",
   "nbconvert_exporter": "python",
   "pygments_lexer": "ipython3",
   "version": "3.9.5"
  },
  "papermill": {
   "default_parameters": {},
   "duration": 9.9411,
   "end_time": "2021-11-28T19:30:15.050646",
   "environment_variables": {},
   "exception": null,
   "input_path": "eBay_Overview.ipynb",
   "output_path": "eBay_Overview.ipynb",
   "parameters": {},
   "start_time": "2021-11-28T19:30:05.109546",
   "version": "2.3.3"
  }
 },
 "nbformat": 4,
 "nbformat_minor": 5
}