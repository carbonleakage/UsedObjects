{
 "cells": [
  {
   "cell_type": "code",
   "execution_count": 1,
   "id": "reverse-picking",
   "metadata": {
    "execution": {
     "iopub.execute_input": "2021-08-31T10:00:07.536745Z",
     "iopub.status.busy": "2021-08-31T10:00:07.534744Z",
     "iopub.status.idle": "2021-08-31T10:00:08.335649Z",
     "shell.execute_reply": "2021-08-31T10:00:08.336982Z"
    },
    "papermill": {
     "duration": 0.852124,
     "end_time": "2021-08-31T10:00:08.337628",
     "exception": false,
     "start_time": "2021-08-31T10:00:07.485504",
     "status": "completed"
    },
    "tags": []
   },
   "outputs": [],
   "source": [
    "import pandas as pd\n",
    "import sqlite3"
   ]
  },
  {
   "cell_type": "code",
   "execution_count": 2,
   "id": "innovative-syndrome",
   "metadata": {
    "execution": {
     "iopub.execute_input": "2021-08-31T10:00:08.389248Z",
     "iopub.status.busy": "2021-08-31T10:00:08.387406Z",
     "iopub.status.idle": "2021-08-31T10:00:08.561763Z",
     "shell.execute_reply": "2021-08-31T10:00:08.563087Z"
    },
    "papermill": {
     "duration": 0.203898,
     "end_time": "2021-08-31T10:00:08.563525",
     "exception": false,
     "start_time": "2021-08-31T10:00:08.359627",
     "status": "completed"
    },
    "tags": []
   },
   "outputs": [],
   "source": [
    "timestamps = pd.read_sql(\"select distinct record_time from EBAY_TOP_BERLIN order by record_time desc limit 2\", sqlite3.connect(\"UsedObjects.db\"))"
   ]
  },
  {
   "cell_type": "code",
   "execution_count": 3,
   "id": "periodic-identification",
   "metadata": {
    "execution": {
     "iopub.execute_input": "2021-08-31T10:00:08.628679Z",
     "iopub.status.busy": "2021-08-31T10:00:08.626463Z",
     "iopub.status.idle": "2021-08-31T10:00:08.646642Z",
     "shell.execute_reply": "2021-08-31T10:00:08.648100Z"
    },
    "papermill": {
     "duration": 0.06459,
     "end_time": "2021-08-31T10:00:08.648533",
     "exception": false,
     "start_time": "2021-08-31T10:00:08.583943",
     "status": "completed"
    },
    "tags": []
   },
   "outputs": [
    {
     "data": {
      "text/html": [
       "<div>\n",
       "<style scoped>\n",
       "    .dataframe tbody tr th:only-of-type {\n",
       "        vertical-align: middle;\n",
       "    }\n",
       "\n",
       "    .dataframe tbody tr th {\n",
       "        vertical-align: top;\n",
       "    }\n",
       "\n",
       "    .dataframe thead th {\n",
       "        text-align: right;\n",
       "    }\n",
       "</style>\n",
       "<table border=\"1\" class=\"dataframe\">\n",
       "  <thead>\n",
       "    <tr style=\"text-align: right;\">\n",
       "      <th></th>\n",
       "      <th>RECORD_TIME</th>\n",
       "    </tr>\n",
       "  </thead>\n",
       "  <tbody>\n",
       "    <tr>\n",
       "      <th>0</th>\n",
       "      <td>2021-08-31 12:00</td>\n",
       "    </tr>\n",
       "    <tr>\n",
       "      <th>1</th>\n",
       "      <td>2021-08-31 11:30</td>\n",
       "    </tr>\n",
       "  </tbody>\n",
       "</table>\n",
       "</div>"
      ],
      "text/plain": [
       "        RECORD_TIME\n",
       "0  2021-08-31 12:00\n",
       "1  2021-08-31 11:30"
      ]
     },
     "execution_count": 3,
     "metadata": {},
     "output_type": "execute_result"
    }
   ],
   "source": [
    "timestamps"
   ]
  },
  {
   "cell_type": "code",
   "execution_count": 4,
   "id": "alternate-victory",
   "metadata": {
    "execution": {
     "iopub.execute_input": "2021-08-31T10:00:08.700402Z",
     "iopub.status.busy": "2021-08-31T10:00:08.698460Z",
     "iopub.status.idle": "2021-08-31T10:00:08.966194Z",
     "shell.execute_reply": "2021-08-31T10:00:08.967664Z"
    },
    "papermill": {
     "duration": 0.297878,
     "end_time": "2021-08-31T10:00:08.968123",
     "exception": false,
     "start_time": "2021-08-31T10:00:08.670245",
     "status": "completed"
    },
    "tags": []
   },
   "outputs": [],
   "source": [
    "df = pd.read_sql(\"select * from EBAY_TOP_BERLIN where record_time in (select distinct record_time from EBAY_TOP_BERLIN order by record_time desc limit 2)\", sqlite3.connect(\"UsedObjects.db\"))"
   ]
  },
  {
   "cell_type": "code",
   "execution_count": 5,
   "id": "popular-active",
   "metadata": {
    "execution": {
     "iopub.execute_input": "2021-08-31T10:00:09.043496Z",
     "iopub.status.busy": "2021-08-31T10:00:09.037202Z",
     "iopub.status.idle": "2021-08-31T10:00:09.065339Z",
     "shell.execute_reply": "2021-08-31T10:00:09.066542Z"
    },
    "papermill": {
     "duration": 0.072944,
     "end_time": "2021-08-31T10:00:09.067130",
     "exception": false,
     "start_time": "2021-08-31T10:00:08.994186",
     "status": "completed"
    },
    "tags": []
   },
   "outputs": [],
   "source": [
    "df_pivot = df.pivot_table(index=\"PRODUCT\", columns = \"RECORD_TIME\", values = \"LISTING_COUNT\")"
   ]
  },
  {
   "cell_type": "code",
   "execution_count": 6,
   "id": "union-huntington",
   "metadata": {
    "execution": {
     "iopub.execute_input": "2021-08-31T10:00:09.126725Z",
     "iopub.status.busy": "2021-08-31T10:00:09.124296Z",
     "iopub.status.idle": "2021-08-31T10:00:09.130063Z",
     "shell.execute_reply": "2021-08-31T10:00:09.131522Z"
    },
    "papermill": {
     "duration": 0.042486,
     "end_time": "2021-08-31T10:00:09.131965",
     "exception": false,
     "start_time": "2021-08-31T10:00:09.089479",
     "status": "completed"
    },
    "tags": []
   },
   "outputs": [],
   "source": [
    "df_pivot.columns = [\"stamp_1\", \"stamp_2\"]\n",
    "df_pivot_diff = df_pivot.diff(axis=1)"
   ]
  },
  {
   "cell_type": "code",
   "execution_count": 7,
   "id": "fifth-motion",
   "metadata": {
    "execution": {
     "iopub.execute_input": "2021-08-31T10:00:09.186461Z",
     "iopub.status.busy": "2021-08-31T10:00:09.184184Z",
     "iopub.status.idle": "2021-08-31T10:00:10.668542Z",
     "shell.execute_reply": "2021-08-31T10:00:10.669969Z"
    },
    "papermill": {
     "duration": 1.517729,
     "end_time": "2021-08-31T10:00:10.670421",
     "exception": false,
     "start_time": "2021-08-31T10:00:09.152692",
     "status": "completed"
    },
    "tags": []
   },
   "outputs": [
    {
     "data": {
      "text/plain": [
       "<AxesSubplot:ylabel='PRODUCT'>"
      ]
     },
     "execution_count": 7,
     "metadata": {},
     "output_type": "execute_result"
    },
    {
     "data": {
      "image/png": "[encoded data removed]",
      "text/plain": [
       "<Figure size 432x288 with 1 Axes>"
      ]
     },
     "metadata": {
      "needs_background": "light"
     },
     "output_type": "display_data"
    }
   ],
   "source": [
    "df_pivot_diff.sort_values(\"stamp_2\", ascending = False)[\"stamp_2\"].head(10).plot.barh()"
   ]
  },
  {
   "cell_type": "code",
   "execution_count": null,
   "id": "extra-executive",
   "metadata": {
    "papermill": {
     "duration": 0.022345,
     "end_time": "2021-08-31T10:00:10.716729",
     "exception": false,
     "start_time": "2021-08-31T10:00:10.694384",
     "status": "completed"
    },
    "tags": []
   },
   "outputs": [],
   "source": []
  }
 ],
 "metadata": {
  "kernelspec": {
   "display_name": "Python 3",
   "language": "python",
   "name": "python3"
  },
  "language_info": {
   "codemirror_mode": {
    "name": "ipython",
    "version": 3
   },
   "file_extension": ".py",
   "mimetype": "text/x-python",
   "name": "python",
   "nbconvert_exporter": "python",
   "pygments_lexer": "ipython3",
   "version": "3.9.5"
  },
  "papermill": {
   "default_parameters": {},
   "duration": 6.817692,
   "end_time": "2021-08-31T10:00:11.907466",
   "environment_variables": {},
   "exception": null,
   "input_path": "eBay_Overview.ipynb",
   "output_path": "eBay_Overview.ipynb",
   "parameters": {},
   "start_time": "2021-08-31T10:00:05.089774",
   "version": "2.3.3"
  }
 },
 "nbformat": 4,
 "nbformat_minor": 5
}