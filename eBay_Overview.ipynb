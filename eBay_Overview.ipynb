{
 "cells": [
  {
   "cell_type": "code",
   "execution_count": 1,
   "id": "reverse-picking",
   "metadata": {
    "execution": {
     "iopub.execute_input": "2021-11-13T02:30:07.882579Z",
     "iopub.status.busy": "2021-11-13T02:30:07.880066Z",
     "iopub.status.idle": "2021-11-13T02:30:08.822082Z",
     "shell.execute_reply": "2021-11-13T02:30:08.823642Z"
    },
    "papermill": {
     "duration": 0.992356,
     "end_time": "2021-11-13T02:30:08.824455",
     "exception": false,
     "start_time": "2021-11-13T02:30:07.832099",
     "status": "completed"
    },
    "tags": []
   },
   "outputs": [],
   "source": [
    "import pandas as pd\n",
    "import sqlite3"
   ]
  },
  {
   "cell_type": "code",
   "execution_count": 2,
   "id": "innovative-syndrome",
   "metadata": {
    "execution": {
     "iopub.execute_input": "2021-11-13T02:30:08.899552Z",
     "iopub.status.busy": "2021-11-13T02:30:08.897349Z",
     "iopub.status.idle": "2021-11-13T02:30:09.699893Z",
     "shell.execute_reply": "2021-11-13T02:30:09.701425Z"
    },
    "papermill": {
     "duration": 0.847288,
     "end_time": "2021-11-13T02:30:09.701882",
     "exception": false,
     "start_time": "2021-11-13T02:30:08.854594",
     "status": "completed"
    },
    "tags": []
   },
   "outputs": [],
   "source": [
    "timestamps = pd.read_sql(\"select distinct record_time from EBAY_TOP_BERLIN order by record_time desc limit 2\", sqlite3.connect(\"UsedObjects.db\"))"
   ]
  },
  {
   "cell_type": "code",
   "execution_count": 3,
   "id": "periodic-identification",
   "metadata": {
    "execution": {
     "iopub.execute_input": "2021-11-13T02:30:09.772344Z",
     "iopub.status.busy": "2021-11-13T02:30:09.770313Z",
     "iopub.status.idle": "2021-11-13T02:30:09.792630Z",
     "shell.execute_reply": "2021-11-13T02:30:09.794036Z"
    },
    "papermill": {
     "duration": 0.072091,
     "end_time": "2021-11-13T02:30:09.794494",
     "exception": false,
     "start_time": "2021-11-13T02:30:09.722403",
     "status": "completed"
    },
    "tags": []
   },
   "outputs": [
    {
     "data": {
      "text/html": [
       "<div>\n",
       "<style scoped>\n",
       "    .dataframe tbody tr th:only-of-type {\n",
       "        vertical-align: middle;\n",
       "    }\n",
       "\n",
       "    .dataframe tbody tr th {\n",
       "        vertical-align: top;\n",
       "    }\n",
       "\n",
       "    .dataframe thead th {\n",
       "        text-align: right;\n",
       "    }\n",
       "</style>\n",
       "<table border=\"1\" class=\"dataframe\">\n",
       "  <thead>\n",
       "    <tr style=\"text-align: right;\">\n",
       "      <th></th>\n",
       "      <th>RECORD_TIME</th>\n",
       "    </tr>\n",
       "  </thead>\n",
       "  <tbody>\n",
       "    <tr>\n",
       "      <th>0</th>\n",
       "      <td>2021-11-13 03:30</td>\n",
       "    </tr>\n",
       "    <tr>\n",
       "      <th>1</th>\n",
       "      <td>2021-11-13 03:00</td>\n",
       "    </tr>\n",
       "  </tbody>\n",
       "</table>\n",
       "</div>"
      ],
      "text/plain": [
       "        RECORD_TIME\n",
       "0  2021-11-13 03:30\n",
       "1  2021-11-13 03:00"
      ]
     },
     "execution_count": 3,
     "metadata": {},
     "output_type": "execute_result"
    }
   ],
   "source": [
    "timestamps"
   ]
  },
  {
   "cell_type": "code",
   "execution_count": 4,
   "id": "alternate-victory",
   "metadata": {
    "execution": {
     "iopub.execute_input": "2021-11-13T02:30:09.846894Z",
     "iopub.status.busy": "2021-11-13T02:30:09.845039Z",
     "iopub.status.idle": "2021-11-13T02:30:11.017901Z",
     "shell.execute_reply": "2021-11-13T02:30:11.019392Z"
    },
    "papermill": {
     "duration": 1.203451,
     "end_time": "2021-11-13T02:30:11.019842",
     "exception": false,
     "start_time": "2021-11-13T02:30:09.816391",
     "status": "completed"
    },
    "tags": []
   },
   "outputs": [],
   "source": [
    "df = pd.read_sql(\"select * from EBAY_TOP_BERLIN where record_time in (select distinct record_time from EBAY_TOP_BERLIN order by record_time desc limit 2)\", sqlite3.connect(\"UsedObjects.db\"))"
   ]
  },
  {
   "cell_type": "code",
   "execution_count": 5,
   "id": "popular-active",
   "metadata": {
    "execution": {
     "iopub.execute_input": "2021-11-13T02:30:11.098829Z",
     "iopub.status.busy": "2021-11-13T02:30:11.085835Z",
     "iopub.status.idle": "2021-11-13T02:30:11.118761Z",
     "shell.execute_reply": "2021-11-13T02:30:11.120268Z"
    },
    "papermill": {
     "duration": 0.079027,
     "end_time": "2021-11-13T02:30:11.120837",
     "exception": false,
     "start_time": "2021-11-13T02:30:11.041810",
     "status": "completed"
    },
    "tags": []
   },
   "outputs": [],
   "source": [
    "df_pivot = df.pivot_table(index=\"PRODUCT\", columns = \"RECORD_TIME\", values = \"LISTING_COUNT\")"
   ]
  },
  {
   "cell_type": "code",
   "execution_count": 6,
   "id": "union-huntington",
   "metadata": {
    "execution": {
     "iopub.execute_input": "2021-11-13T02:30:11.182611Z",
     "iopub.status.busy": "2021-11-13T02:30:11.180341Z",
     "iopub.status.idle": "2021-11-13T02:30:11.186032Z",
     "shell.execute_reply": "2021-11-13T02:30:11.187396Z"
    },
    "papermill": {
     "duration": 0.044903,
     "end_time": "2021-11-13T02:30:11.187866",
     "exception": false,
     "start_time": "2021-11-13T02:30:11.142963",
     "status": "completed"
    },
    "tags": []
   },
   "outputs": [],
   "source": [
    "df_pivot.columns = [\"stamp_1\", \"stamp_2\"]\n",
    "df_pivot_diff = df_pivot.diff(axis=1)"
   ]
  },
  {
   "cell_type": "code",
   "execution_count": 7,
   "id": "fifth-motion",
   "metadata": {
    "execution": {
     "iopub.execute_input": "2021-11-13T02:30:11.244271Z",
     "iopub.status.busy": "2021-11-13T02:30:11.241784Z",
     "iopub.status.idle": "2021-11-13T02:30:13.146786Z",
     "shell.execute_reply": "2021-11-13T02:30:13.149665Z"
    },
    "papermill": {
     "duration": 1.942693,
     "end_time": "2021-11-13T02:30:13.150436",
     "exception": false,
     "start_time": "2021-11-13T02:30:11.207743",
     "status": "completed"
    },
    "tags": []
   },
   "outputs": [
    {
     "data": {
      "text/plain": [
       "<AxesSubplot:ylabel='PRODUCT'>"
      ]
     },
     "execution_count": 7,
     "metadata": {},
     "output_type": "execute_result"
    },
    {
     "data": {
      "image/png": "[encoded data removed]",
      "text/plain": [
       "<Figure size 432x288 with 1 Axes>"
      ]
     },
     "metadata": {
      "needs_background": "light"
     },
     "output_type": "display_data"
    }
   ],
   "source": [
    "df_pivot_diff.sort_values(\"stamp_2\", ascending = False)[\"stamp_2\"].head(10).plot.barh()"
   ]
  },
  {
   "cell_type": "code",
   "execution_count": null,
   "id": "extra-executive",
   "metadata": {
    "papermill": {
     "duration": 0.032946,
     "end_time": "2021-11-13T02:30:13.219562",
     "exception": false,
     "start_time": "2021-11-13T02:30:13.186616",
     "status": "completed"
    },
    "tags": []
   },
   "outputs": [],
   "source": []
  }
 ],
 "metadata": {
  "kernelspec": {
   "display_name": "Python 3",
   "language": "python",
   "name": "python3"
  },
  "language_info": {
   "codemirror_mode": {
    "name": "ipython",
    "version": 3
   },
   "file_extension": ".py",
   "mimetype": "text/x-python",
   "name": "python",
   "nbconvert_exporter": "python",
   "pygments_lexer": "ipython3",
   "version": "3.9.5"
  },
  "papermill": {
   "default_parameters": {},
   "duration": 8.873513,
   "end_time": "2021-11-13T02:30:13.995749",
   "environment_variables": {},
   "exception": null,
   "input_path": "eBay_Overview.ipynb",
   "output_path": "eBay_Overview.ipynb",
   "parameters": {},
   "start_time": "2021-11-13T02:30:05.122236",
   "version": "2.3.3"
  }
 },
 "nbformat": 4,
 "nbformat_minor": 5
}