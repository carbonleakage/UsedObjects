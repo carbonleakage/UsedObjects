{
 "cells": [
  {
   "cell_type": "code",
   "execution_count": 1,
   "id": "reverse-picking",
   "metadata": {
    "execution": {
     "iopub.execute_input": "2021-10-28T06:00:06.647854Z",
     "iopub.status.busy": "2021-10-28T06:00:06.645967Z",
     "iopub.status.idle": "2021-10-28T06:00:07.452395Z",
     "shell.execute_reply": "2021-10-28T06:00:07.453695Z"
    },
    "papermill": {
     "duration": 0.856563,
     "end_time": "2021-10-28T06:00:07.454316",
     "exception": false,
     "start_time": "2021-10-28T06:00:06.597753",
     "status": "completed"
    },
    "tags": []
   },
   "outputs": [],
   "source": [
    "import pandas as pd\n",
    "import sqlite3"
   ]
  },
  {
   "cell_type": "code",
   "execution_count": 2,
   "id": "innovative-syndrome",
   "metadata": {
    "execution": {
     "iopub.execute_input": "2021-10-28T06:00:07.505564Z",
     "iopub.status.busy": "2021-10-28T06:00:07.503604Z",
     "iopub.status.idle": "2021-10-28T06:00:08.146628Z",
     "shell.execute_reply": "2021-10-28T06:00:08.147813Z"
    },
    "papermill": {
     "duration": 0.672394,
     "end_time": "2021-10-28T06:00:08.148210",
     "exception": false,
     "start_time": "2021-10-28T06:00:07.475816",
     "status": "completed"
    },
    "tags": []
   },
   "outputs": [],
   "source": [
    "timestamps = pd.read_sql(\"select distinct record_time from EBAY_TOP_BERLIN order by record_time desc limit 2\", sqlite3.connect(\"UsedObjects.db\"))"
   ]
  },
  {
   "cell_type": "code",
   "execution_count": 3,
   "id": "periodic-identification",
   "metadata": {
    "execution": {
     "iopub.execute_input": "2021-10-28T06:00:08.224190Z",
     "iopub.status.busy": "2021-10-28T06:00:08.222199Z",
     "iopub.status.idle": "2021-10-28T06:00:08.242377Z",
     "shell.execute_reply": "2021-10-28T06:00:08.243645Z"
    },
    "papermill": {
     "duration": 0.070841,
     "end_time": "2021-10-28T06:00:08.244063",
     "exception": false,
     "start_time": "2021-10-28T06:00:08.173222",
     "status": "completed"
    },
    "tags": []
   },
   "outputs": [
    {
     "data": {
      "text/html": [
       "<div>\n",
       "<style scoped>\n",
       "    .dataframe tbody tr th:only-of-type {\n",
       "        vertical-align: middle;\n",
       "    }\n",
       "\n",
       "    .dataframe tbody tr th {\n",
       "        vertical-align: top;\n",
       "    }\n",
       "\n",
       "    .dataframe thead th {\n",
       "        text-align: right;\n",
       "    }\n",
       "</style>\n",
       "<table border=\"1\" class=\"dataframe\">\n",
       "  <thead>\n",
       "    <tr style=\"text-align: right;\">\n",
       "      <th></th>\n",
       "      <th>RECORD_TIME</th>\n",
       "    </tr>\n",
       "  </thead>\n",
       "  <tbody>\n",
       "    <tr>\n",
       "      <th>0</th>\n",
       "      <td>2021-10-28 08:00</td>\n",
       "    </tr>\n",
       "    <tr>\n",
       "      <th>1</th>\n",
       "      <td>2021-10-28 07:30</td>\n",
       "    </tr>\n",
       "  </tbody>\n",
       "</table>\n",
       "</div>"
      ],
      "text/plain": [
       "        RECORD_TIME\n",
       "0  2021-10-28 08:00\n",
       "1  2021-10-28 07:30"
      ]
     },
     "execution_count": 3,
     "metadata": {},
     "output_type": "execute_result"
    }
   ],
   "source": [
    "timestamps"
   ]
  },
  {
   "cell_type": "code",
   "execution_count": 4,
   "id": "alternate-victory",
   "metadata": {
    "execution": {
     "iopub.execute_input": "2021-10-28T06:00:08.294464Z",
     "iopub.status.busy": "2021-10-28T06:00:08.292552Z",
     "iopub.status.idle": "2021-10-28T06:00:09.231346Z",
     "shell.execute_reply": "2021-10-28T06:00:09.230052Z"
    },
    "papermill": {
     "duration": 0.967163,
     "end_time": "2021-10-28T06:00:09.231682",
     "exception": false,
     "start_time": "2021-10-28T06:00:08.264519",
     "status": "completed"
    },
    "tags": []
   },
   "outputs": [],
   "source": [
    "df = pd.read_sql(\"select * from EBAY_TOP_BERLIN where record_time in (select distinct record_time from EBAY_TOP_BERLIN order by record_time desc limit 2)\", sqlite3.connect(\"UsedObjects.db\"))"
   ]
  },
  {
   "cell_type": "code",
   "execution_count": 5,
   "id": "popular-active",
   "metadata": {
    "execution": {
     "iopub.execute_input": "2021-10-28T06:00:09.305523Z",
     "iopub.status.busy": "2021-10-28T06:00:09.293402Z",
     "iopub.status.idle": "2021-10-28T06:00:09.321129Z",
     "shell.execute_reply": "2021-10-28T06:00:09.322344Z"
    },
    "papermill": {
     "duration": 0.067714,
     "end_time": "2021-10-28T06:00:09.322738",
     "exception": false,
     "start_time": "2021-10-28T06:00:09.255024",
     "status": "completed"
    },
    "tags": []
   },
   "outputs": [],
   "source": [
    "df_pivot = df.pivot_table(index=\"PRODUCT\", columns = \"RECORD_TIME\", values = \"LISTING_COUNT\")"
   ]
  },
  {
   "cell_type": "code",
   "execution_count": 6,
   "id": "union-huntington",
   "metadata": {
    "execution": {
     "iopub.execute_input": "2021-10-28T06:00:09.380236Z",
     "iopub.status.busy": "2021-10-28T06:00:09.377935Z",
     "iopub.status.idle": "2021-10-28T06:00:09.383982Z",
     "shell.execute_reply": "2021-10-28T06:00:09.385498Z"
    },
    "papermill": {
     "duration": 0.041823,
     "end_time": "2021-10-28T06:00:09.385979",
     "exception": false,
     "start_time": "2021-10-28T06:00:09.344156",
     "status": "completed"
    },
    "tags": []
   },
   "outputs": [],
   "source": [
    "df_pivot.columns = [\"stamp_1\", \"stamp_2\"]\n",
    "df_pivot_diff = df_pivot.diff(axis=1)"
   ]
  },
  {
   "cell_type": "code",
   "execution_count": 7,
   "id": "fifth-motion",
   "metadata": {
    "execution": {
     "iopub.execute_input": "2021-10-28T06:00:09.439813Z",
     "iopub.status.busy": "2021-10-28T06:00:09.437658Z",
     "iopub.status.idle": "2021-10-28T06:00:10.959148Z",
     "shell.execute_reply": "2021-10-28T06:00:10.960408Z"
    },
    "papermill": {
     "duration": 1.554189,
     "end_time": "2021-10-28T06:00:10.961036",
     "exception": false,
     "start_time": "2021-10-28T06:00:09.406847",
     "status": "completed"
    },
    "tags": []
   },
   "outputs": [
    {
     "data": {
      "text/plain": [
       "<AxesSubplot:ylabel='PRODUCT'>"
      ]
     },
     "execution_count": 7,
     "metadata": {},
     "output_type": "execute_result"
    },
    {
     "data": {
      "image/png": "[encoded data removed]",
      "text/plain": [
       "<Figure size 432x288 with 1 Axes>"
      ]
     },
     "metadata": {
      "needs_background": "light"
     },
     "output_type": "display_data"
    }
   ],
   "source": [
    "df_pivot_diff.sort_values(\"stamp_2\", ascending = False)[\"stamp_2\"].head(10).plot.barh()"
   ]
  },
  {
   "cell_type": "code",
   "execution_count": null,
   "id": "extra-executive",
   "metadata": {
    "papermill": {
     "duration": 0.02236,
     "end_time": "2021-10-28T06:00:11.008022",
     "exception": false,
     "start_time": "2021-10-28T06:00:10.985662",
     "status": "completed"
    },
    "tags": []
   },
   "outputs": [],
   "source": []
  }
 ],
 "metadata": {
  "kernelspec": {
   "display_name": "Python 3",
   "language": "python",
   "name": "python3"
  },
  "language_info": {
   "codemirror_mode": {
    "name": "ipython",
    "version": 3
   },
   "file_extension": ".py",
   "mimetype": "text/x-python",
   "name": "python",
   "nbconvert_exporter": "python",
   "pygments_lexer": "ipython3",
   "version": "3.9.5"
  },
  "papermill": {
   "default_parameters": {},
   "duration": 7.461057,
   "end_time": "2021-10-28T06:00:11.652853",
   "environment_variables": {},
   "exception": null,
   "input_path": "eBay_Overview.ipynb",
   "output_path": "eBay_Overview.ipynb",
   "parameters": {},
   "start_time": "2021-10-28T06:00:04.191796",
   "version": "2.3.3"
  }
 },
 "nbformat": 4,
 "nbformat_minor": 5
}