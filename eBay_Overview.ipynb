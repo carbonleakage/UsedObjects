{
 "cells": [
  {
   "cell_type": "code",
   "execution_count": 1,
   "id": "reverse-picking",
   "metadata": {
    "execution": {
     "iopub.execute_input": "2021-08-27T12:00:07.429086Z",
     "iopub.status.busy": "2021-08-27T12:00:07.427010Z",
     "iopub.status.idle": "2021-08-27T12:00:08.227545Z",
     "shell.execute_reply": "2021-08-27T12:00:08.228871Z"
    },
    "papermill": {
     "duration": 0.851528,
     "end_time": "2021-08-27T12:00:08.229556",
     "exception": false,
     "start_time": "2021-08-27T12:00:07.378028",
     "status": "completed"
    },
    "tags": []
   },
   "outputs": [],
   "source": [
    "import pandas as pd\n",
    "import sqlite3"
   ]
  },
  {
   "cell_type": "code",
   "execution_count": 2,
   "id": "innovative-syndrome",
   "metadata": {
    "execution": {
     "iopub.execute_input": "2021-08-27T12:00:08.280559Z",
     "iopub.status.busy": "2021-08-27T12:00:08.278524Z",
     "iopub.status.idle": "2021-08-27T12:00:08.428635Z",
     "shell.execute_reply": "2021-08-27T12:00:08.429956Z"
    },
    "papermill": {
     "duration": 0.180373,
     "end_time": "2021-08-27T12:00:08.430361",
     "exception": false,
     "start_time": "2021-08-27T12:00:08.249988",
     "status": "completed"
    },
    "tags": []
   },
   "outputs": [],
   "source": [
    "timestamps = pd.read_sql(\"select distinct record_time from EBAY_TOP_BERLIN order by record_time desc limit 2\", sqlite3.connect(\"UsedObjects.db\"))"
   ]
  },
  {
   "cell_type": "code",
   "execution_count": 3,
   "id": "periodic-identification",
   "metadata": {
    "execution": {
     "iopub.execute_input": "2021-08-27T12:00:08.495484Z",
     "iopub.status.busy": "2021-08-27T12:00:08.493456Z",
     "iopub.status.idle": "2021-08-27T12:00:08.513339Z",
     "shell.execute_reply": "2021-08-27T12:00:08.514635Z"
    },
    "papermill": {
     "duration": 0.065275,
     "end_time": "2021-08-27T12:00:08.515049",
     "exception": false,
     "start_time": "2021-08-27T12:00:08.449774",
     "status": "completed"
    },
    "tags": []
   },
   "outputs": [
    {
     "data": {
      "text/html": [
       "<div>\n",
       "<style scoped>\n",
       "    .dataframe tbody tr th:only-of-type {\n",
       "        vertical-align: middle;\n",
       "    }\n",
       "\n",
       "    .dataframe tbody tr th {\n",
       "        vertical-align: top;\n",
       "    }\n",
       "\n",
       "    .dataframe thead th {\n",
       "        text-align: right;\n",
       "    }\n",
       "</style>\n",
       "<table border=\"1\" class=\"dataframe\">\n",
       "  <thead>\n",
       "    <tr style=\"text-align: right;\">\n",
       "      <th></th>\n",
       "      <th>RECORD_TIME</th>\n",
       "    </tr>\n",
       "  </thead>\n",
       "  <tbody>\n",
       "    <tr>\n",
       "      <th>0</th>\n",
       "      <td>2021-08-27 14:00</td>\n",
       "    </tr>\n",
       "    <tr>\n",
       "      <th>1</th>\n",
       "      <td>2021-08-27 13:30</td>\n",
       "    </tr>\n",
       "  </tbody>\n",
       "</table>\n",
       "</div>"
      ],
      "text/plain": [
       "        RECORD_TIME\n",
       "0  2021-08-27 14:00\n",
       "1  2021-08-27 13:30"
      ]
     },
     "execution_count": 3,
     "metadata": {},
     "output_type": "execute_result"
    }
   ],
   "source": [
    "timestamps"
   ]
  },
  {
   "cell_type": "code",
   "execution_count": 4,
   "id": "alternate-victory",
   "metadata": {
    "execution": {
     "iopub.execute_input": "2021-08-27T12:00:08.567462Z",
     "iopub.status.busy": "2021-08-27T12:00:08.565135Z",
     "iopub.status.idle": "2021-08-27T12:00:08.786549Z",
     "shell.execute_reply": "2021-08-27T12:00:08.787763Z"
    },
    "papermill": {
     "duration": 0.251804,
     "end_time": "2021-08-27T12:00:08.788156",
     "exception": false,
     "start_time": "2021-08-27T12:00:08.536352",
     "status": "completed"
    },
    "tags": []
   },
   "outputs": [],
   "source": [
    "df = pd.read_sql(\"select * from EBAY_TOP_BERLIN where record_time in (select distinct record_time from EBAY_TOP_BERLIN order by record_time desc limit 2)\", sqlite3.connect(\"UsedObjects.db\"))"
   ]
  },
  {
   "cell_type": "code",
   "execution_count": 5,
   "id": "popular-active",
   "metadata": {
    "execution": {
     "iopub.execute_input": "2021-08-27T12:00:08.862046Z",
     "iopub.status.busy": "2021-08-27T12:00:08.849663Z",
     "iopub.status.idle": "2021-08-27T12:00:08.877588Z",
     "shell.execute_reply": "2021-08-27T12:00:08.878819Z"
    },
    "papermill": {
     "duration": 0.068125,
     "end_time": "2021-08-27T12:00:08.879213",
     "exception": false,
     "start_time": "2021-08-27T12:00:08.811088",
     "status": "completed"
    },
    "tags": []
   },
   "outputs": [],
   "source": [
    "df_pivot = df.pivot_table(index=\"PRODUCT\", columns = \"RECORD_TIME\", values = \"LISTING_COUNT\")"
   ]
  },
  {
   "cell_type": "code",
   "execution_count": 6,
   "id": "union-huntington",
   "metadata": {
    "execution": {
     "iopub.execute_input": "2021-08-27T12:00:08.944385Z",
     "iopub.status.busy": "2021-08-27T12:00:08.942193Z",
     "iopub.status.idle": "2021-08-27T12:00:08.947846Z",
     "shell.execute_reply": "2021-08-27T12:00:08.949390Z"
    },
    "papermill": {
     "duration": 0.044947,
     "end_time": "2021-08-27T12:00:08.949869",
     "exception": false,
     "start_time": "2021-08-27T12:00:08.904922",
     "status": "completed"
    },
    "tags": []
   },
   "outputs": [],
   "source": [
    "df_pivot.columns = [\"stamp_1\", \"stamp_2\"]\n",
    "df_pivot_diff = df_pivot.diff(axis=1)"
   ]
  },
  {
   "cell_type": "code",
   "execution_count": 7,
   "id": "fifth-motion",
   "metadata": {
    "execution": {
     "iopub.execute_input": "2021-08-27T12:00:09.006018Z",
     "iopub.status.busy": "2021-08-27T12:00:09.003468Z",
     "iopub.status.idle": "2021-08-27T12:00:10.509516Z",
     "shell.execute_reply": "2021-08-27T12:00:10.510823Z"
    },
    "papermill": {
     "duration": 1.539639,
     "end_time": "2021-08-27T12:00:10.511251",
     "exception": false,
     "start_time": "2021-08-27T12:00:08.971612",
     "status": "completed"
    },
    "tags": []
   },
   "outputs": [
    {
     "data": {
      "text/plain": [
       "<AxesSubplot:ylabel='PRODUCT'>"
      ]
     },
     "execution_count": 7,
     "metadata": {},
     "output_type": "execute_result"
    },
    {
     "data": {
      "image/png": "[encoded data removed]",
      "text/plain": [
       "<Figure size 432x288 with 1 Axes>"
      ]
     },
     "metadata": {
      "needs_background": "light"
     },
     "output_type": "display_data"
    }
   ],
   "source": [
    "df_pivot_diff.sort_values(\"stamp_2\", ascending = False)[\"stamp_2\"].head(10).plot.barh()"
   ]
  },
  {
   "cell_type": "code",
   "execution_count": null,
   "id": "extra-executive",
   "metadata": {
    "papermill": {
     "duration": 0.022357,
     "end_time": "2021-08-27T12:00:10.559286",
     "exception": false,
     "start_time": "2021-08-27T12:00:10.536929",
     "status": "completed"
    },
    "tags": []
   },
   "outputs": [],
   "source": []
  }
 ],
 "metadata": {
  "kernelspec": {
   "display_name": "Python 3",
   "language": "python",
   "name": "python3"
  },
  "language_info": {
   "codemirror_mode": {
    "name": "ipython",
    "version": 3
   },
   "file_extension": ".py",
   "mimetype": "text/x-python",
   "name": "python",
   "nbconvert_exporter": "python",
   "pygments_lexer": "ipython3",
   "version": "3.9.5"
  },
  "papermill": {
   "default_parameters": {},
   "duration": 6.828452,
   "end_time": "2021-08-27T12:00:11.806643",
   "environment_variables": {},
   "exception": null,
   "input_path": "eBay_Overview.ipynb",
   "output_path": "eBay_Overview.ipynb",
   "parameters": {},
   "start_time": "2021-08-27T12:00:04.978191",
   "version": "2.3.3"
  }
 },
 "nbformat": 4,
 "nbformat_minor": 5
}