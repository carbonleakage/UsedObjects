{
 "cells": [
  {
   "cell_type": "code",
   "execution_count": 1,
   "id": "reverse-picking",
   "metadata": {
    "execution": {
     "iopub.execute_input": "2021-08-16T05:00:07.471761Z",
     "iopub.status.busy": "2021-08-16T05:00:07.469735Z",
     "iopub.status.idle": "2021-08-16T05:00:08.283450Z",
     "shell.execute_reply": "2021-08-16T05:00:08.281591Z"
    },
    "papermill": {
     "duration": 0.863939,
     "end_time": "2021-08-16T05:00:08.283890",
     "exception": false,
     "start_time": "2021-08-16T05:00:07.419951",
     "status": "completed"
    },
    "tags": []
   },
   "outputs": [],
   "source": [
    "import pandas as pd\n",
    "import sqlite3"
   ]
  },
  {
   "cell_type": "code",
   "execution_count": 2,
   "id": "innovative-syndrome",
   "metadata": {
    "execution": {
     "iopub.execute_input": "2021-08-16T05:00:08.334703Z",
     "iopub.status.busy": "2021-08-16T05:00:08.332282Z",
     "iopub.status.idle": "2021-08-16T05:00:08.394349Z",
     "shell.execute_reply": "2021-08-16T05:00:08.395469Z"
    },
    "papermill": {
     "duration": 0.091703,
     "end_time": "2021-08-16T05:00:08.395874",
     "exception": false,
     "start_time": "2021-08-16T05:00:08.304171",
     "status": "completed"
    },
    "tags": []
   },
   "outputs": [],
   "source": [
    "timestamps = pd.read_sql(\"select distinct record_time from EBAY_TOP_BERLIN order by record_time desc limit 2\", sqlite3.connect(\"UsedObjects.db\"))"
   ]
  },
  {
   "cell_type": "code",
   "execution_count": 3,
   "id": "periodic-identification",
   "metadata": {
    "execution": {
     "iopub.execute_input": "2021-08-16T05:00:08.461936Z",
     "iopub.status.busy": "2021-08-16T05:00:08.459772Z",
     "iopub.status.idle": "2021-08-16T05:00:08.480265Z",
     "shell.execute_reply": "2021-08-16T05:00:08.481387Z"
    },
    "papermill": {
     "duration": 0.06555,
     "end_time": "2021-08-16T05:00:08.481792",
     "exception": false,
     "start_time": "2021-08-16T05:00:08.416242",
     "status": "completed"
    },
    "tags": []
   },
   "outputs": [
    {
     "data": {
      "text/html": [
       "<div>\n",
       "<style scoped>\n",
       "    .dataframe tbody tr th:only-of-type {\n",
       "        vertical-align: middle;\n",
       "    }\n",
       "\n",
       "    .dataframe tbody tr th {\n",
       "        vertical-align: top;\n",
       "    }\n",
       "\n",
       "    .dataframe thead th {\n",
       "        text-align: right;\n",
       "    }\n",
       "</style>\n",
       "<table border=\"1\" class=\"dataframe\">\n",
       "  <thead>\n",
       "    <tr style=\"text-align: right;\">\n",
       "      <th></th>\n",
       "      <th>RECORD_TIME</th>\n",
       "    </tr>\n",
       "  </thead>\n",
       "  <tbody>\n",
       "    <tr>\n",
       "      <th>0</th>\n",
       "      <td>2021-08-16 07:00</td>\n",
       "    </tr>\n",
       "    <tr>\n",
       "      <th>1</th>\n",
       "      <td>2021-08-16 06:30</td>\n",
       "    </tr>\n",
       "  </tbody>\n",
       "</table>\n",
       "</div>"
      ],
      "text/plain": [
       "        RECORD_TIME\n",
       "0  2021-08-16 07:00\n",
       "1  2021-08-16 06:30"
      ]
     },
     "execution_count": 3,
     "metadata": {},
     "output_type": "execute_result"
    }
   ],
   "source": [
    "timestamps"
   ]
  },
  {
   "cell_type": "code",
   "execution_count": 4,
   "id": "alternate-victory",
   "metadata": {
    "execution": {
     "iopub.execute_input": "2021-08-16T05:00:08.534659Z",
     "iopub.status.busy": "2021-08-16T05:00:08.532259Z",
     "iopub.status.idle": "2021-08-16T05:00:08.623070Z",
     "shell.execute_reply": "2021-08-16T05:00:08.624200Z"
    },
    "papermill": {
     "duration": 0.121139,
     "end_time": "2021-08-16T05:00:08.624610",
     "exception": false,
     "start_time": "2021-08-16T05:00:08.503471",
     "status": "completed"
    },
    "tags": []
   },
   "outputs": [],
   "source": [
    "df = pd.read_sql(\"select * from EBAY_TOP_BERLIN where record_time in (select distinct record_time from EBAY_TOP_BERLIN order by record_time desc limit 2)\", sqlite3.connect(\"UsedObjects.db\"))"
   ]
  },
  {
   "cell_type": "code",
   "execution_count": 5,
   "id": "popular-active",
   "metadata": {
    "execution": {
     "iopub.execute_input": "2021-08-16T05:00:08.698606Z",
     "iopub.status.busy": "2021-08-16T05:00:08.686338Z",
     "iopub.status.idle": "2021-08-16T05:00:08.713841Z",
     "shell.execute_reply": "2021-08-16T05:00:08.715127Z"
    },
    "papermill": {
     "duration": 0.0678,
     "end_time": "2021-08-16T05:00:08.715517",
     "exception": false,
     "start_time": "2021-08-16T05:00:08.647717",
     "status": "completed"
    },
    "tags": []
   },
   "outputs": [],
   "source": [
    "df_pivot = df.pivot_table(index=\"PRODUCT\", columns = \"RECORD_TIME\", values = \"LISTING_COUNT\")"
   ]
  },
  {
   "cell_type": "code",
   "execution_count": 6,
   "id": "union-huntington",
   "metadata": {
    "execution": {
     "iopub.execute_input": "2021-08-16T05:00:08.775409Z",
     "iopub.status.busy": "2021-08-16T05:00:08.772916Z",
     "iopub.status.idle": "2021-08-16T05:00:08.780568Z",
     "shell.execute_reply": "2021-08-16T05:00:08.778836Z"
    },
    "papermill": {
     "duration": 0.042484,
     "end_time": "2021-08-16T05:00:08.780927",
     "exception": false,
     "start_time": "2021-08-16T05:00:08.738443",
     "status": "completed"
    },
    "tags": []
   },
   "outputs": [],
   "source": [
    "df_pivot.columns = [\"stamp_1\", \"stamp_2\"]\n",
    "df_pivot_diff = df_pivot.diff(axis=1)"
   ]
  },
  {
   "cell_type": "code",
   "execution_count": 7,
   "id": "fifth-motion",
   "metadata": {
    "execution": {
     "iopub.execute_input": "2021-08-16T05:00:08.834494Z",
     "iopub.status.busy": "2021-08-16T05:00:08.832065Z",
     "iopub.status.idle": "2021-08-16T05:00:10.317204Z",
     "shell.execute_reply": "2021-08-16T05:00:10.318747Z"
    },
    "papermill": {
     "duration": 1.51796,
     "end_time": "2021-08-16T05:00:10.319227",
     "exception": false,
     "start_time": "2021-08-16T05:00:08.801267",
     "status": "completed"
    },
    "tags": []
   },
   "outputs": [
    {
     "data": {
      "text/plain": [
       "<AxesSubplot:ylabel='PRODUCT'>"
      ]
     },
     "execution_count": 7,
     "metadata": {},
     "output_type": "execute_result"
    },
    {
     "data": {
      "image/png": "[encoded data removed]",
      "text/plain": [
       "<Figure size 432x288 with 1 Axes>"
      ]
     },
     "metadata": {
      "needs_background": "light"
     },
     "output_type": "display_data"
    }
   ],
   "source": [
    "df_pivot_diff.sort_values(\"stamp_2\", ascending = False)[\"stamp_2\"].head(10).plot.barh()"
   ]
  },
  {
   "cell_type": "code",
   "execution_count": null,
   "id": "extra-executive",
   "metadata": {
    "papermill": {
     "duration": 0.021921,
     "end_time": "2021-08-16T05:00:10.365584",
     "exception": false,
     "start_time": "2021-08-16T05:00:10.343663",
     "status": "completed"
    },
    "tags": []
   },
   "outputs": [],
   "source": []
  }
 ],
 "metadata": {
  "kernelspec": {
   "display_name": "Python 3",
   "language": "python",
   "name": "python3"
  },
  "language_info": {
   "codemirror_mode": {
    "name": "ipython",
    "version": 3
   },
   "file_extension": ".py",
   "mimetype": "text/x-python",
   "name": "python",
   "nbconvert_exporter": "python",
   "pygments_lexer": "ipython3",
   "version": "3.9.5"
  },
  "papermill": {
   "default_parameters": {},
   "duration": 6.826594,
   "end_time": "2021-08-16T05:00:11.830887",
   "environment_variables": {},
   "exception": null,
   "input_path": "eBay_Overview.ipynb",
   "output_path": "eBay_Overview.ipynb",
   "parameters": {},
   "start_time": "2021-08-16T05:00:05.004293",
   "version": "2.3.3"
  }
 },
 "nbformat": 4,
 "nbformat_minor": 5
}