{
 "cells": [
  {
   "cell_type": "code",
   "execution_count": 1,
   "id": "reverse-picking",
   "metadata": {
    "execution": {
     "iopub.execute_input": "2021-11-02T23:00:07.600256Z",
     "iopub.status.busy": "2021-11-02T23:00:07.598077Z",
     "iopub.status.idle": "2021-11-02T23:00:08.546671Z",
     "shell.execute_reply": "2021-11-02T23:00:08.548328Z"
    },
    "papermill": {
     "duration": 0.996133,
     "end_time": "2021-11-02T23:00:08.549127",
     "exception": false,
     "start_time": "2021-11-02T23:00:07.552994",
     "status": "completed"
    },
    "tags": []
   },
   "outputs": [],
   "source": [
    "import pandas as pd\n",
    "import sqlite3"
   ]
  },
  {
   "cell_type": "code",
   "execution_count": 2,
   "id": "innovative-syndrome",
   "metadata": {
    "execution": {
     "iopub.execute_input": "2021-11-02T23:00:08.618336Z",
     "iopub.status.busy": "2021-11-02T23:00:08.615939Z",
     "iopub.status.idle": "2021-11-02T23:00:09.320605Z",
     "shell.execute_reply": "2021-11-02T23:00:09.322255Z"
    },
    "papermill": {
     "duration": 0.750914,
     "end_time": "2021-11-02T23:00:09.322770",
     "exception": false,
     "start_time": "2021-11-02T23:00:08.571856",
     "status": "completed"
    },
    "tags": []
   },
   "outputs": [],
   "source": [
    "timestamps = pd.read_sql(\"select distinct record_time from EBAY_TOP_BERLIN order by record_time desc limit 2\", sqlite3.connect(\"UsedObjects.db\"))"
   ]
  },
  {
   "cell_type": "code",
   "execution_count": 3,
   "id": "periodic-identification",
   "metadata": {
    "execution": {
     "iopub.execute_input": "2021-11-02T23:00:09.394656Z",
     "iopub.status.busy": "2021-11-02T23:00:09.392117Z",
     "iopub.status.idle": "2021-11-02T23:00:09.415362Z",
     "shell.execute_reply": "2021-11-02T23:00:09.416923Z"
    },
    "papermill": {
     "duration": 0.073573,
     "end_time": "2021-11-02T23:00:09.417417",
     "exception": false,
     "start_time": "2021-11-02T23:00:09.343844",
     "status": "completed"
    },
    "tags": []
   },
   "outputs": [
    {
     "data": {
      "text/html": [
       "<div>\n",
       "<style scoped>\n",
       "    .dataframe tbody tr th:only-of-type {\n",
       "        vertical-align: middle;\n",
       "    }\n",
       "\n",
       "    .dataframe tbody tr th {\n",
       "        vertical-align: top;\n",
       "    }\n",
       "\n",
       "    .dataframe thead th {\n",
       "        text-align: right;\n",
       "    }\n",
       "</style>\n",
       "<table border=\"1\" class=\"dataframe\">\n",
       "  <thead>\n",
       "    <tr style=\"text-align: right;\">\n",
       "      <th></th>\n",
       "      <th>RECORD_TIME</th>\n",
       "    </tr>\n",
       "  </thead>\n",
       "  <tbody>\n",
       "    <tr>\n",
       "      <th>0</th>\n",
       "      <td>2021-11-03 00:00</td>\n",
       "    </tr>\n",
       "    <tr>\n",
       "      <th>1</th>\n",
       "      <td>2021-11-02 23:30</td>\n",
       "    </tr>\n",
       "  </tbody>\n",
       "</table>\n",
       "</div>"
      ],
      "text/plain": [
       "        RECORD_TIME\n",
       "0  2021-11-03 00:00\n",
       "1  2021-11-02 23:30"
      ]
     },
     "execution_count": 3,
     "metadata": {},
     "output_type": "execute_result"
    }
   ],
   "source": [
    "timestamps"
   ]
  },
  {
   "cell_type": "code",
   "execution_count": 4,
   "id": "alternate-victory",
   "metadata": {
    "execution": {
     "iopub.execute_input": "2021-11-02T23:00:09.471570Z",
     "iopub.status.busy": "2021-11-02T23:00:09.469349Z",
     "iopub.status.idle": "2021-11-02T23:00:10.478701Z",
     "shell.execute_reply": "2021-11-02T23:00:10.480412Z"
    },
    "papermill": {
     "duration": 1.042667,
     "end_time": "2021-11-02T23:00:10.480964",
     "exception": false,
     "start_time": "2021-11-02T23:00:09.438297",
     "status": "completed"
    },
    "tags": []
   },
   "outputs": [],
   "source": [
    "df = pd.read_sql(\"select * from EBAY_TOP_BERLIN where record_time in (select distinct record_time from EBAY_TOP_BERLIN order by record_time desc limit 2)\", sqlite3.connect(\"UsedObjects.db\"))"
   ]
  },
  {
   "cell_type": "code",
   "execution_count": 5,
   "id": "popular-active",
   "metadata": {
    "execution": {
     "iopub.execute_input": "2021-11-02T23:00:10.561223Z",
     "iopub.status.busy": "2021-11-02T23:00:10.548005Z",
     "iopub.status.idle": "2021-11-02T23:00:10.581709Z",
     "shell.execute_reply": "2021-11-02T23:00:10.579912Z"
    },
    "papermill": {
     "duration": 0.078775,
     "end_time": "2021-11-02T23:00:10.582146",
     "exception": false,
     "start_time": "2021-11-02T23:00:10.503371",
     "status": "completed"
    },
    "tags": []
   },
   "outputs": [],
   "source": [
    "df_pivot = df.pivot_table(index=\"PRODUCT\", columns = \"RECORD_TIME\", values = \"LISTING_COUNT\")"
   ]
  },
  {
   "cell_type": "code",
   "execution_count": 6,
   "id": "union-huntington",
   "metadata": {
    "execution": {
     "iopub.execute_input": "2021-11-02T23:00:10.645117Z",
     "iopub.status.busy": "2021-11-02T23:00:10.642675Z",
     "iopub.status.idle": "2021-11-02T23:00:10.650148Z",
     "shell.execute_reply": "2021-11-02T23:00:10.648480Z"
    },
    "papermill": {
     "duration": 0.046227,
     "end_time": "2021-11-02T23:00:10.650591",
     "exception": false,
     "start_time": "2021-11-02T23:00:10.604364",
     "status": "completed"
    },
    "tags": []
   },
   "outputs": [],
   "source": [
    "df_pivot.columns = [\"stamp_1\", \"stamp_2\"]\n",
    "df_pivot_diff = df_pivot.diff(axis=1)"
   ]
  },
  {
   "cell_type": "code",
   "execution_count": 7,
   "id": "fifth-motion",
   "metadata": {
    "execution": {
     "iopub.execute_input": "2021-11-02T23:00:10.710988Z",
     "iopub.status.busy": "2021-11-02T23:00:10.708339Z",
     "iopub.status.idle": "2021-11-02T23:00:12.480119Z",
     "shell.execute_reply": "2021-11-02T23:00:12.482790Z"
    },
    "papermill": {
     "duration": 1.811061,
     "end_time": "2021-11-02T23:00:12.483536",
     "exception": false,
     "start_time": "2021-11-02T23:00:10.672475",
     "status": "completed"
    },
    "tags": []
   },
   "outputs": [
    {
     "data": {
      "text/plain": [
       "<AxesSubplot:ylabel='PRODUCT'>"
      ]
     },
     "execution_count": 7,
     "metadata": {},
     "output_type": "execute_result"
    },
    {
     "data": {
      "image/png": "[encoded data removed]",
      "text/plain": [
       "<Figure size 432x288 with 1 Axes>"
      ]
     },
     "metadata": {
      "needs_background": "light"
     },
     "output_type": "display_data"
    }
   ],
   "source": [
    "df_pivot_diff.sort_values(\"stamp_2\", ascending = False)[\"stamp_2\"].head(10).plot.barh()"
   ]
  },
  {
   "cell_type": "code",
   "execution_count": null,
   "id": "extra-executive",
   "metadata": {
    "papermill": {
     "duration": 0.035441,
     "end_time": "2021-11-02T23:00:12.555195",
     "exception": false,
     "start_time": "2021-11-02T23:00:12.519754",
     "status": "completed"
    },
    "tags": []
   },
   "outputs": [],
   "source": []
  }
 ],
 "metadata": {
  "kernelspec": {
   "display_name": "Python 3",
   "language": "python",
   "name": "python3"
  },
  "language_info": {
   "codemirror_mode": {
    "name": "ipython",
    "version": 3
   },
   "file_extension": ".py",
   "mimetype": "text/x-python",
   "name": "python",
   "nbconvert_exporter": "python",
   "pygments_lexer": "ipython3",
   "version": "3.9.5"
  },
  "papermill": {
   "default_parameters": {},
   "duration": 8.631531,
   "end_time": "2021-11-02T23:00:13.425126",
   "environment_variables": {},
   "exception": null,
   "input_path": "eBay_Overview.ipynb",
   "output_path": "eBay_Overview.ipynb",
   "parameters": {},
   "start_time": "2021-11-02T23:00:04.793595",
   "version": "2.3.3"
  }
 },
 "nbformat": 4,
 "nbformat_minor": 5
}