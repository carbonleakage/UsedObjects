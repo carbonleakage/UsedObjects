{
 "cells": [
  {
   "cell_type": "code",
   "execution_count": 1,
   "id": "reverse-picking",
   "metadata": {
    "execution": {
     "iopub.execute_input": "2021-08-12T09:00:04.234462Z",
     "iopub.status.busy": "2021-08-12T09:00:04.233694Z",
     "iopub.status.idle": "2021-08-12T09:00:04.837592Z",
     "shell.execute_reply": "2021-08-12T09:00:04.836596Z"
    },
    "papermill": {
     "duration": 0.622933,
     "end_time": "2021-08-12T09:00:04.837859",
     "exception": false,
     "start_time": "2021-08-12T09:00:04.214926",
     "status": "completed"
    },
    "tags": []
   },
   "outputs": [],
   "source": [
    "import pandas as pd\n",
    "import sqlite3"
   ]
  },
  {
   "cell_type": "code",
   "execution_count": 2,
   "id": "innovative-syndrome",
   "metadata": {
    "execution": {
     "iopub.execute_input": "2021-08-12T09:00:04.860485Z",
     "iopub.status.busy": "2021-08-12T09:00:04.859708Z",
     "iopub.status.idle": "2021-08-12T09:00:05.129183Z",
     "shell.execute_reply": "2021-08-12T09:00:05.129764Z"
    },
    "papermill": {
     "duration": 0.28257,
     "end_time": "2021-08-12T09:00:05.129961",
     "exception": false,
     "start_time": "2021-08-12T09:00:04.847391",
     "status": "completed"
    },
    "tags": []
   },
   "outputs": [],
   "source": [
    "timestamps = pd.read_sql(\"select distinct record_time from EBAY_TOP_BERLIN order by record_time desc limit 2\", sqlite3.connect(\"UsedObjects.db\"))"
   ]
  },
  {
   "cell_type": "code",
   "execution_count": 3,
   "id": "periodic-identification",
   "metadata": {
    "execution": {
     "iopub.execute_input": "2021-08-12T09:00:05.158406Z",
     "iopub.status.busy": "2021-08-12T09:00:05.157620Z",
     "iopub.status.idle": "2021-08-12T09:00:05.170587Z",
     "shell.execute_reply": "2021-08-12T09:00:05.171114Z"
    },
    "papermill": {
     "duration": 0.033009,
     "end_time": "2021-08-12T09:00:05.171296",
     "exception": false,
     "start_time": "2021-08-12T09:00:05.138287",
     "status": "completed"
    },
    "tags": []
   },
   "outputs": [
    {
     "data": {
      "text/html": [
       "<div>\n",
       "<style scoped>\n",
       "    .dataframe tbody tr th:only-of-type {\n",
       "        vertical-align: middle;\n",
       "    }\n",
       "\n",
       "    .dataframe tbody tr th {\n",
       "        vertical-align: top;\n",
       "    }\n",
       "\n",
       "    .dataframe thead th {\n",
       "        text-align: right;\n",
       "    }\n",
       "</style>\n",
       "<table border=\"1\" class=\"dataframe\">\n",
       "  <thead>\n",
       "    <tr style=\"text-align: right;\">\n",
       "      <th></th>\n",
       "      <th>RECORD_TIME</th>\n",
       "    </tr>\n",
       "  </thead>\n",
       "  <tbody>\n",
       "    <tr>\n",
       "      <th>0</th>\n",
       "      <td>2021-08-12 11:00</td>\n",
       "    </tr>\n",
       "    <tr>\n",
       "      <th>1</th>\n",
       "      <td>2021-08-12 10:30</td>\n",
       "    </tr>\n",
       "  </tbody>\n",
       "</table>\n",
       "</div>"
      ],
      "text/plain": [
       "        RECORD_TIME\n",
       "0  2021-08-12 11:00\n",
       "1  2021-08-12 10:30"
      ]
     },
     "execution_count": 3,
     "metadata": {},
     "output_type": "execute_result"
    }
   ],
   "source": [
    "timestamps"
   ]
  },
  {
   "cell_type": "code",
   "execution_count": 4,
   "id": "alternate-victory",
   "metadata": {
    "execution": {
     "iopub.execute_input": "2021-08-12T09:00:05.198612Z",
     "iopub.status.busy": "2021-08-12T09:00:05.197845Z",
     "iopub.status.idle": "2021-08-12T09:00:05.229289Z",
     "shell.execute_reply": "2021-08-12T09:00:05.229823Z"
    },
    "papermill": {
     "duration": 0.05005,
     "end_time": "2021-08-12T09:00:05.230008",
     "exception": false,
     "start_time": "2021-08-12T09:00:05.179958",
     "status": "completed"
    },
    "tags": []
   },
   "outputs": [],
   "source": [
    "df = pd.read_sql(\"select * from EBAY_TOP_BERLIN where record_time in (select distinct record_time from EBAY_TOP_BERLIN order by record_time desc limit 2)\", sqlite3.connect(\"UsedObjects.db\"))"
   ]
  },
  {
   "cell_type": "code",
   "execution_count": 5,
   "id": "popular-active",
   "metadata": {
    "execution": {
     "iopub.execute_input": "2021-08-12T09:00:05.259086Z",
     "iopub.status.busy": "2021-08-12T09:00:05.258316Z",
     "iopub.status.idle": "2021-08-12T09:00:05.274976Z",
     "shell.execute_reply": "2021-08-12T09:00:05.274389Z"
    },
    "papermill": {
     "duration": 0.034014,
     "end_time": "2021-08-12T09:00:05.275129",
     "exception": false,
     "start_time": "2021-08-12T09:00:05.241115",
     "status": "completed"
    },
    "tags": []
   },
   "outputs": [],
   "source": [
    "df_pivot = df.pivot_table(index=\"PRODUCT\", columns = \"RECORD_TIME\", values = \"LISTING_COUNT\")"
   ]
  },
  {
   "cell_type": "code",
   "execution_count": 6,
   "id": "union-huntington",
   "metadata": {
    "execution": {
     "iopub.execute_input": "2021-08-12T09:00:05.299961Z",
     "iopub.status.busy": "2021-08-12T09:00:05.298676Z",
     "iopub.status.idle": "2021-08-12T09:00:05.302925Z",
     "shell.execute_reply": "2021-08-12T09:00:05.303453Z"
    },
    "papermill": {
     "duration": 0.020368,
     "end_time": "2021-08-12T09:00:05.303634",
     "exception": false,
     "start_time": "2021-08-12T09:00:05.283266",
     "status": "completed"
    },
    "tags": []
   },
   "outputs": [],
   "source": [
    "df_pivot.columns = [\"stamp_1\", \"stamp_2\"]\n",
    "df_pivot_diff = df_pivot.diff(axis=1)"
   ]
  },
  {
   "cell_type": "code",
   "execution_count": 7,
   "id": "fifth-motion",
   "metadata": {
    "execution": {
     "iopub.execute_input": "2021-08-12T09:00:05.335098Z",
     "iopub.status.busy": "2021-08-12T09:00:05.334332Z",
     "iopub.status.idle": "2021-08-12T09:00:06.079477Z",
     "shell.execute_reply": "2021-08-12T09:00:06.080014Z"
    },
    "papermill": {
     "duration": 0.763206,
     "end_time": "2021-08-12T09:00:06.080201",
     "exception": false,
     "start_time": "2021-08-12T09:00:05.316995",
     "status": "completed"
    },
    "tags": []
   },
   "outputs": [
    {
     "data": {
      "text/plain": [
       "<AxesSubplot:ylabel='PRODUCT'>"
      ]
     },
     "execution_count": 7,
     "metadata": {},
     "output_type": "execute_result"
    },
    {
     "data": {
      "image/png": "[encoded data removed]",
      "text/plain": [
       "<Figure size 432x288 with 1 Axes>"
      ]
     },
     "metadata": {
      "needs_background": "light"
     },
     "output_type": "display_data"
    }
   ],
   "source": [
    "df_pivot_diff.sort_values(\"stamp_2\", ascending = False)[\"stamp_2\"].head(10).plot.barh()"
   ]
  },
  {
   "cell_type": "code",
   "execution_count": null,
   "id": "extra-executive",
   "metadata": {
    "papermill": {
     "duration": 0.009522,
     "end_time": "2021-08-12T09:00:06.100797",
     "exception": false,
     "start_time": "2021-08-12T09:00:06.091275",
     "status": "completed"
    },
    "tags": []
   },
   "outputs": [],
   "source": []
  }
 ],
 "metadata": {
  "kernelspec": {
   "display_name": "Python 3",
   "language": "python",
   "name": "python3"
  },
  "language_info": {
   "codemirror_mode": {
    "name": "ipython",
    "version": 3
   },
   "file_extension": ".py",
   "mimetype": "text/x-python",
   "name": "python",
   "nbconvert_exporter": "python",
   "pygments_lexer": "ipython3",
   "version": "3.8.8"
  },
  "papermill": {
   "default_parameters": {},
   "duration": 5.082326,
   "end_time": "2021-08-12T09:00:07.660327",
   "environment_variables": {},
   "exception": null,
   "input_path": "/Users/saravananshanmugam/Carbonleakage_Git/UsedObjects/eBay_Overview.ipynb",
   "output_path": "/Users/saravananshanmugam/Carbonleakage_Git/UsedObjects/eBay_Overview.ipynb",
   "parameters": {},
   "start_time": "2021-08-12T09:00:02.578001",
   "version": "2.3.3"
  }
 },
 "nbformat": 4,
 "nbformat_minor": 5
}