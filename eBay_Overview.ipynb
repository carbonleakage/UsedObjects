{
 "cells": [
  {
   "cell_type": "code",
   "execution_count": 1,
   "id": "reverse-picking",
   "metadata": {
    "execution": {
     "iopub.execute_input": "2021-11-13T01:30:07.489241Z",
     "iopub.status.busy": "2021-11-13T01:30:07.486843Z",
     "iopub.status.idle": "2021-11-13T01:30:08.427151Z",
     "shell.execute_reply": "2021-11-13T01:30:08.428741Z"
    },
    "papermill": {
     "duration": 0.990824,
     "end_time": "2021-11-13T01:30:08.429546",
     "exception": false,
     "start_time": "2021-11-13T01:30:07.438722",
     "status": "completed"
    },
    "tags": []
   },
   "outputs": [],
   "source": [
    "import pandas as pd\n",
    "import sqlite3"
   ]
  },
  {
   "cell_type": "code",
   "execution_count": 2,
   "id": "innovative-syndrome",
   "metadata": {
    "execution": {
     "iopub.execute_input": "2021-11-13T01:30:08.508118Z",
     "iopub.status.busy": "2021-11-13T01:30:08.504273Z",
     "iopub.status.idle": "2021-11-13T01:30:09.335948Z",
     "shell.execute_reply": "2021-11-13T01:30:09.337411Z"
    },
    "papermill": {
     "duration": 0.874927,
     "end_time": "2021-11-13T01:30:09.337937",
     "exception": false,
     "start_time": "2021-11-13T01:30:08.463010",
     "status": "completed"
    },
    "tags": []
   },
   "outputs": [],
   "source": [
    "timestamps = pd.read_sql(\"select distinct record_time from EBAY_TOP_BERLIN order by record_time desc limit 2\", sqlite3.connect(\"UsedObjects.db\"))"
   ]
  },
  {
   "cell_type": "code",
   "execution_count": 3,
   "id": "periodic-identification",
   "metadata": {
    "execution": {
     "iopub.execute_input": "2021-11-13T01:30:09.391078Z",
     "iopub.status.busy": "2021-11-13T01:30:09.388835Z",
     "iopub.status.idle": "2021-11-13T01:30:09.427864Z",
     "shell.execute_reply": "2021-11-13T01:30:09.429893Z"
    },
    "papermill": {
     "duration": 0.070768,
     "end_time": "2021-11-13T01:30:09.430342",
     "exception": false,
     "start_time": "2021-11-13T01:30:09.359574",
     "status": "completed"
    },
    "tags": []
   },
   "outputs": [
    {
     "data": {
      "text/html": [
       "<div>\n",
       "<style scoped>\n",
       "    .dataframe tbody tr th:only-of-type {\n",
       "        vertical-align: middle;\n",
       "    }\n",
       "\n",
       "    .dataframe tbody tr th {\n",
       "        vertical-align: top;\n",
       "    }\n",
       "\n",
       "    .dataframe thead th {\n",
       "        text-align: right;\n",
       "    }\n",
       "</style>\n",
       "<table border=\"1\" class=\"dataframe\">\n",
       "  <thead>\n",
       "    <tr style=\"text-align: right;\">\n",
       "      <th></th>\n",
       "      <th>RECORD_TIME</th>\n",
       "    </tr>\n",
       "  </thead>\n",
       "  <tbody>\n",
       "    <tr>\n",
       "      <th>0</th>\n",
       "      <td>2021-11-13 02:30</td>\n",
       "    </tr>\n",
       "    <tr>\n",
       "      <th>1</th>\n",
       "      <td>2021-11-13 02:00</td>\n",
       "    </tr>\n",
       "  </tbody>\n",
       "</table>\n",
       "</div>"
      ],
      "text/plain": [
       "        RECORD_TIME\n",
       "0  2021-11-13 02:30\n",
       "1  2021-11-13 02:00"
      ]
     },
     "execution_count": 3,
     "metadata": {},
     "output_type": "execute_result"
    }
   ],
   "source": [
    "timestamps"
   ]
  },
  {
   "cell_type": "code",
   "execution_count": 4,
   "id": "alternate-victory",
   "metadata": {
    "execution": {
     "iopub.execute_input": "2021-11-13T01:30:09.482522Z",
     "iopub.status.busy": "2021-11-13T01:30:09.480126Z",
     "iopub.status.idle": "2021-11-13T01:30:10.681858Z",
     "shell.execute_reply": "2021-11-13T01:30:10.683433Z"
    },
    "papermill": {
     "duration": 1.232635,
     "end_time": "2021-11-13T01:30:10.683948",
     "exception": false,
     "start_time": "2021-11-13T01:30:09.451313",
     "status": "completed"
    },
    "tags": []
   },
   "outputs": [],
   "source": [
    "df = pd.read_sql(\"select * from EBAY_TOP_BERLIN where record_time in (select distinct record_time from EBAY_TOP_BERLIN order by record_time desc limit 2)\", sqlite3.connect(\"UsedObjects.db\"))"
   ]
  },
  {
   "cell_type": "code",
   "execution_count": 5,
   "id": "popular-active",
   "metadata": {
    "execution": {
     "iopub.execute_input": "2021-11-13T01:30:10.763403Z",
     "iopub.status.busy": "2021-11-13T01:30:10.749533Z",
     "iopub.status.idle": "2021-11-13T01:30:10.784768Z",
     "shell.execute_reply": "2021-11-13T01:30:10.783206Z"
    },
    "papermill": {
     "duration": 0.078057,
     "end_time": "2021-11-13T01:30:10.785191",
     "exception": false,
     "start_time": "2021-11-13T01:30:10.707134",
     "status": "completed"
    },
    "tags": []
   },
   "outputs": [],
   "source": [
    "df_pivot = df.pivot_table(index=\"PRODUCT\", columns = \"RECORD_TIME\", values = \"LISTING_COUNT\")"
   ]
  },
  {
   "cell_type": "code",
   "execution_count": 6,
   "id": "union-huntington",
   "metadata": {
    "execution": {
     "iopub.execute_input": "2021-11-13T01:30:10.845574Z",
     "iopub.status.busy": "2021-11-13T01:30:10.843283Z",
     "iopub.status.idle": "2021-11-13T01:30:10.848929Z",
     "shell.execute_reply": "2021-11-13T01:30:10.850308Z"
    },
    "papermill": {
     "duration": 0.043449,
     "end_time": "2021-11-13T01:30:10.850770",
     "exception": false,
     "start_time": "2021-11-13T01:30:10.807321",
     "status": "completed"
    },
    "tags": []
   },
   "outputs": [],
   "source": [
    "df_pivot.columns = [\"stamp_1\", \"stamp_2\"]\n",
    "df_pivot_diff = df_pivot.diff(axis=1)"
   ]
  },
  {
   "cell_type": "code",
   "execution_count": 7,
   "id": "fifth-motion",
   "metadata": {
    "execution": {
     "iopub.execute_input": "2021-11-13T01:30:10.907207Z",
     "iopub.status.busy": "2021-11-13T01:30:10.904673Z",
     "iopub.status.idle": "2021-11-13T01:30:12.775314Z",
     "shell.execute_reply": "2021-11-13T01:30:12.778150Z"
    },
    "papermill": {
     "duration": 1.907768,
     "end_time": "2021-11-13T01:30:12.778955",
     "exception": false,
     "start_time": "2021-11-13T01:30:10.871187",
     "status": "completed"
    },
    "tags": []
   },
   "outputs": [
    {
     "data": {
      "text/plain": [
       "<AxesSubplot:ylabel='PRODUCT'>"
      ]
     },
     "execution_count": 7,
     "metadata": {},
     "output_type": "execute_result"
    },
    {
     "data": {
      "image/png": "[encoded data removed]",
      "text/plain": [
       "<Figure size 432x288 with 1 Axes>"
      ]
     },
     "metadata": {
      "needs_background": "light"
     },
     "output_type": "display_data"
    }
   ],
   "source": [
    "df_pivot_diff.sort_values(\"stamp_2\", ascending = False)[\"stamp_2\"].head(10).plot.barh()"
   ]
  },
  {
   "cell_type": "code",
   "execution_count": null,
   "id": "extra-executive",
   "metadata": {
    "papermill": {
     "duration": 0.033622,
     "end_time": "2021-11-13T01:30:12.849278",
     "exception": false,
     "start_time": "2021-11-13T01:30:12.815656",
     "status": "completed"
    },
    "tags": []
   },
   "outputs": [],
   "source": []
  }
 ],
 "metadata": {
  "kernelspec": {
   "display_name": "Python 3",
   "language": "python",
   "name": "python3"
  },
  "language_info": {
   "codemirror_mode": {
    "name": "ipython",
    "version": 3
   },
   "file_extension": ".py",
   "mimetype": "text/x-python",
   "name": "python",
   "nbconvert_exporter": "python",
   "pygments_lexer": "ipython3",
   "version": "3.9.5"
  },
  "papermill": {
   "default_parameters": {},
   "duration": 8.904927,
   "end_time": "2021-11-13T01:30:13.626502",
   "environment_variables": {},
   "exception": null,
   "input_path": "eBay_Overview.ipynb",
   "output_path": "eBay_Overview.ipynb",
   "parameters": {},
   "start_time": "2021-11-13T01:30:04.721575",
   "version": "2.3.3"
  }
 },
 "nbformat": 4,
 "nbformat_minor": 5
}