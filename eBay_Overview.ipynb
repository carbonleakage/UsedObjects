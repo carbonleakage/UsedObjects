{
 "cells": [
  {
   "cell_type": "code",
   "execution_count": 1,
   "id": "reverse-picking",
   "metadata": {
    "execution": {
     "iopub.execute_input": "2021-12-10T10:30:07.962516Z",
     "iopub.status.busy": "2021-12-10T10:30:07.960200Z",
     "iopub.status.idle": "2021-12-10T10:30:08.912539Z",
     "shell.execute_reply": "2021-12-10T10:30:08.914059Z"
    },
    "papermill": {
     "duration": 1.001861,
     "end_time": "2021-12-10T10:30:08.914767",
     "exception": false,
     "start_time": "2021-12-10T10:30:07.912906",
     "status": "completed"
    },
    "tags": []
   },
   "outputs": [],
   "source": [
    "import pandas as pd\n",
    "import sqlite3"
   ]
  },
  {
   "cell_type": "code",
   "execution_count": 2,
   "id": "innovative-syndrome",
   "metadata": {
    "execution": {
     "iopub.execute_input": "2021-12-10T10:30:08.978491Z",
     "iopub.status.busy": "2021-12-10T10:30:08.976291Z",
     "iopub.status.idle": "2021-12-10T10:30:10.032520Z",
     "shell.execute_reply": "2021-12-10T10:30:10.034279Z"
    },
    "papermill": {
     "duration": 1.088938,
     "end_time": "2021-12-10T10:30:10.034862",
     "exception": false,
     "start_time": "2021-12-10T10:30:08.945924",
     "status": "completed"
    },
    "tags": []
   },
   "outputs": [],
   "source": [
    "timestamps = pd.read_sql(\"select distinct record_time from EBAY_TOP_BERLIN order by record_time desc limit 2\", sqlite3.connect(\"UsedObjects.db\"))"
   ]
  },
  {
   "cell_type": "code",
   "execution_count": 3,
   "id": "periodic-identification",
   "metadata": {
    "execution": {
     "iopub.execute_input": "2021-12-10T10:30:10.131229Z",
     "iopub.status.busy": "2021-12-10T10:30:10.129103Z",
     "iopub.status.idle": "2021-12-10T10:30:10.154139Z",
     "shell.execute_reply": "2021-12-10T10:30:10.152224Z"
    },
    "papermill": {
     "duration": 0.089661,
     "end_time": "2021-12-10T10:30:10.154571",
     "exception": false,
     "start_time": "2021-12-10T10:30:10.064910",
     "status": "completed"
    },
    "tags": []
   },
   "outputs": [
    {
     "data": {
      "text/html": [
       "<div>\n",
       "<style scoped>\n",
       "    .dataframe tbody tr th:only-of-type {\n",
       "        vertical-align: middle;\n",
       "    }\n",
       "\n",
       "    .dataframe tbody tr th {\n",
       "        vertical-align: top;\n",
       "    }\n",
       "\n",
       "    .dataframe thead th {\n",
       "        text-align: right;\n",
       "    }\n",
       "</style>\n",
       "<table border=\"1\" class=\"dataframe\">\n",
       "  <thead>\n",
       "    <tr style=\"text-align: right;\">\n",
       "      <th></th>\n",
       "      <th>RECORD_TIME</th>\n",
       "    </tr>\n",
       "  </thead>\n",
       "  <tbody>\n",
       "    <tr>\n",
       "      <th>0</th>\n",
       "      <td>2021-12-10 11:30</td>\n",
       "    </tr>\n",
       "    <tr>\n",
       "      <th>1</th>\n",
       "      <td>2021-12-10 11:00</td>\n",
       "    </tr>\n",
       "  </tbody>\n",
       "</table>\n",
       "</div>"
      ],
      "text/plain": [
       "        RECORD_TIME\n",
       "0  2021-12-10 11:30\n",
       "1  2021-12-10 11:00"
      ]
     },
     "execution_count": 3,
     "metadata": {},
     "output_type": "execute_result"
    }
   ],
   "source": [
    "timestamps"
   ]
  },
  {
   "cell_type": "code",
   "execution_count": 4,
   "id": "alternate-victory",
   "metadata": {
    "execution": {
     "iopub.execute_input": "2021-12-10T10:30:10.209609Z",
     "iopub.status.busy": "2021-12-10T10:30:10.207316Z",
     "iopub.status.idle": "2021-12-10T10:30:11.711855Z",
     "shell.execute_reply": "2021-12-10T10:30:11.714042Z"
    },
    "papermill": {
     "duration": 1.538375,
     "end_time": "2021-12-10T10:30:11.714805",
     "exception": false,
     "start_time": "2021-12-10T10:30:10.176430",
     "status": "completed"
    },
    "tags": []
   },
   "outputs": [],
   "source": [
    "df = pd.read_sql(\"select * from EBAY_TOP_BERLIN where record_time in (select distinct record_time from EBAY_TOP_BERLIN order by record_time desc limit 2)\", sqlite3.connect(\"UsedObjects.db\"))"
   ]
  },
  {
   "cell_type": "code",
   "execution_count": 5,
   "id": "popular-active",
   "metadata": {
    "execution": {
     "iopub.execute_input": "2021-12-10T10:30:11.839324Z",
     "iopub.status.busy": "2021-12-10T10:30:11.826062Z",
     "iopub.status.idle": "2021-12-10T10:30:11.863766Z",
     "shell.execute_reply": "2021-12-10T10:30:11.861780Z"
    },
    "papermill": {
     "duration": 0.115616,
     "end_time": "2021-12-10T10:30:11.864293",
     "exception": false,
     "start_time": "2021-12-10T10:30:11.748677",
     "status": "completed"
    },
    "tags": []
   },
   "outputs": [],
   "source": [
    "df_pivot = df.pivot_table(index=\"PRODUCT\", columns = \"RECORD_TIME\", values = \"LISTING_COUNT\")"
   ]
  },
  {
   "cell_type": "code",
   "execution_count": 6,
   "id": "union-huntington",
   "metadata": {
    "execution": {
     "iopub.execute_input": "2021-12-10T10:30:11.953694Z",
     "iopub.status.busy": "2021-12-10T10:30:11.950342Z",
     "iopub.status.idle": "2021-12-10T10:30:11.961949Z",
     "shell.execute_reply": "2021-12-10T10:30:11.959123Z"
    },
    "papermill": {
     "duration": 0.069909,
     "end_time": "2021-12-10T10:30:11.962647",
     "exception": false,
     "start_time": "2021-12-10T10:30:11.892738",
     "status": "completed"
    },
    "tags": []
   },
   "outputs": [],
   "source": [
    "df_pivot.columns = [\"stamp_1\", \"stamp_2\"]\n",
    "df_pivot_diff = df_pivot.diff(axis=1)"
   ]
  },
  {
   "cell_type": "code",
   "execution_count": 7,
   "id": "fifth-motion",
   "metadata": {
    "execution": {
     "iopub.execute_input": "2021-12-10T10:30:12.039625Z",
     "iopub.status.busy": "2021-12-10T10:30:12.036564Z",
     "iopub.status.idle": "2021-12-10T10:30:13.732024Z",
     "shell.execute_reply": "2021-12-10T10:30:13.733486Z"
    },
    "papermill": {
     "duration": 1.739704,
     "end_time": "2021-12-10T10:30:13.733946",
     "exception": false,
     "start_time": "2021-12-10T10:30:11.994242",
     "status": "completed"
    },
    "tags": []
   },
   "outputs": [
    {
     "data": {
      "text/plain": [
       "<AxesSubplot:ylabel='PRODUCT'>"
      ]
     },
     "execution_count": 7,
     "metadata": {},
     "output_type": "execute_result"
    },
    {
     "data": {
      "image/png": "[encoded data removed]",
      "text/plain": [
       "<Figure size 432x288 with 1 Axes>"
      ]
     },
     "metadata": {
      "needs_background": "light"
     },
     "output_type": "display_data"
    }
   ],
   "source": [
    "df_pivot_diff.sort_values(\"stamp_2\", ascending = False)[\"stamp_2\"].head(10).plot.barh()"
   ]
  },
  {
   "cell_type": "code",
   "execution_count": null,
   "id": "extra-executive",
   "metadata": {
    "papermill": {
     "duration": 0.021855,
     "end_time": "2021-12-10T10:30:13.780269",
     "exception": false,
     "start_time": "2021-12-10T10:30:13.758414",
     "status": "completed"
    },
    "tags": []
   },
   "outputs": [],
   "source": []
  }
 ],
 "metadata": {
  "kernelspec": {
   "display_name": "Python 3",
   "language": "python",
   "name": "python3"
  },
  "language_info": {
   "codemirror_mode": {
    "name": "ipython",
    "version": 3
   },
   "file_extension": ".py",
   "mimetype": "text/x-python",
   "name": "python",
   "nbconvert_exporter": "python",
   "pygments_lexer": "ipython3",
   "version": "3.9.5"
  },
  "papermill": {
   "default_parameters": {},
   "duration": 9.934599,
   "end_time": "2021-12-10T10:30:15.126094",
   "environment_variables": {},
   "exception": null,
   "input_path": "eBay_Overview.ipynb",
   "output_path": "eBay_Overview.ipynb",
   "parameters": {},
   "start_time": "2021-12-10T10:30:05.191495",
   "version": "2.3.3"
  }
 },
 "nbformat": 4,
 "nbformat_minor": 5
}