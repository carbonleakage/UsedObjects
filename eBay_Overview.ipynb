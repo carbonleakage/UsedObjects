{
 "cells": [
  {
   "cell_type": "code",
   "execution_count": 1,
   "id": "reverse-picking",
   "metadata": {
    "execution": {
     "iopub.execute_input": "2021-08-11T23:00:03.515383Z",
     "iopub.status.busy": "2021-08-11T23:00:03.514613Z",
     "iopub.status.idle": "2021-08-11T23:00:04.128379Z",
     "shell.execute_reply": "2021-08-11T23:00:04.127090Z"
    },
    "papermill": {
     "duration": 0.632421,
     "end_time": "2021-08-11T23:00:04.128634",
     "exception": false,
     "start_time": "2021-08-11T23:00:03.496213",
     "status": "completed"
    },
    "tags": []
   },
   "outputs": [],
   "source": [
    "import pandas as pd\n",
    "import sqlite3"
   ]
  },
  {
   "cell_type": "code",
   "execution_count": 2,
   "id": "innovative-syndrome",
   "metadata": {
    "execution": {
     "iopub.execute_input": "2021-08-11T23:00:04.152959Z",
     "iopub.status.busy": "2021-08-11T23:00:04.152188Z",
     "iopub.status.idle": "2021-08-11T23:00:04.416979Z",
     "shell.execute_reply": "2021-08-11T23:00:04.417513Z"
    },
    "papermill": {
     "duration": 0.279194,
     "end_time": "2021-08-11T23:00:04.417696",
     "exception": false,
     "start_time": "2021-08-11T23:00:04.138502",
     "status": "completed"
    },
    "tags": []
   },
   "outputs": [],
   "source": [
    "timestamps = pd.read_sql(\"select distinct record_time from EBAY_TOP_BERLIN order by record_time desc limit 2\", sqlite3.connect(\"UsedObjects.db\"))"
   ]
  },
  {
   "cell_type": "code",
   "execution_count": 3,
   "id": "periodic-identification",
   "metadata": {
    "execution": {
     "iopub.execute_input": "2021-08-11T23:00:04.452132Z",
     "iopub.status.busy": "2021-08-11T23:00:04.451355Z",
     "iopub.status.idle": "2021-08-11T23:00:04.471645Z",
     "shell.execute_reply": "2021-08-11T23:00:04.470336Z"
    },
    "papermill": {
     "duration": 0.043178,
     "end_time": "2021-08-11T23:00:04.471929",
     "exception": false,
     "start_time": "2021-08-11T23:00:04.428751",
     "status": "completed"
    },
    "tags": []
   },
   "outputs": [
    {
     "data": {
      "text/html": [
       "<div>\n",
       "<style scoped>\n",
       "    .dataframe tbody tr th:only-of-type {\n",
       "        vertical-align: middle;\n",
       "    }\n",
       "\n",
       "    .dataframe tbody tr th {\n",
       "        vertical-align: top;\n",
       "    }\n",
       "\n",
       "    .dataframe thead th {\n",
       "        text-align: right;\n",
       "    }\n",
       "</style>\n",
       "<table border=\"1\" class=\"dataframe\">\n",
       "  <thead>\n",
       "    <tr style=\"text-align: right;\">\n",
       "      <th></th>\n",
       "      <th>RECORD_TIME</th>\n",
       "    </tr>\n",
       "  </thead>\n",
       "  <tbody>\n",
       "    <tr>\n",
       "      <th>0</th>\n",
       "      <td>2021-08-12 01:00</td>\n",
       "    </tr>\n",
       "    <tr>\n",
       "      <th>1</th>\n",
       "      <td>2021-08-12 00:30</td>\n",
       "    </tr>\n",
       "  </tbody>\n",
       "</table>\n",
       "</div>"
      ],
      "text/plain": [
       "        RECORD_TIME\n",
       "0  2021-08-12 01:00\n",
       "1  2021-08-12 00:30"
      ]
     },
     "execution_count": 3,
     "metadata": {},
     "output_type": "execute_result"
    }
   ],
   "source": [
    "timestamps"
   ]
  },
  {
   "cell_type": "code",
   "execution_count": 4,
   "id": "alternate-victory",
   "metadata": {
    "execution": {
     "iopub.execute_input": "2021-08-11T23:00:04.497343Z",
     "iopub.status.busy": "2021-08-11T23:00:04.496590Z",
     "iopub.status.idle": "2021-08-11T23:00:04.522157Z",
     "shell.execute_reply": "2021-08-11T23:00:04.522731Z"
    },
    "papermill": {
     "duration": 0.040848,
     "end_time": "2021-08-11T23:00:04.522926",
     "exception": false,
     "start_time": "2021-08-11T23:00:04.482078",
     "status": "completed"
    },
    "tags": []
   },
   "outputs": [],
   "source": [
    "df = pd.read_sql(\"select * from EBAY_TOP_BERLIN where record_time in (select distinct record_time from EBAY_TOP_BERLIN order by record_time desc limit 2)\", sqlite3.connect(\"UsedObjects.db\"))"
   ]
  },
  {
   "cell_type": "code",
   "execution_count": 5,
   "id": "popular-active",
   "metadata": {
    "execution": {
     "iopub.execute_input": "2021-08-11T23:00:04.555723Z",
     "iopub.status.busy": "2021-08-11T23:00:04.554950Z",
     "iopub.status.idle": "2021-08-11T23:00:04.571666Z",
     "shell.execute_reply": "2021-08-11T23:00:04.572238Z"
    },
    "papermill": {
     "duration": 0.037828,
     "end_time": "2021-08-11T23:00:04.572431",
     "exception": false,
     "start_time": "2021-08-11T23:00:04.534603",
     "status": "completed"
    },
    "tags": []
   },
   "outputs": [],
   "source": [
    "df_pivot = df.pivot_table(index=\"PRODUCT\", columns = \"RECORD_TIME\", values = \"LISTING_COUNT\")"
   ]
  },
  {
   "cell_type": "code",
   "execution_count": 6,
   "id": "union-huntington",
   "metadata": {
    "execution": {
     "iopub.execute_input": "2021-08-11T23:00:04.596264Z",
     "iopub.status.busy": "2021-08-11T23:00:04.595569Z",
     "iopub.status.idle": "2021-08-11T23:00:04.601323Z",
     "shell.execute_reply": "2021-08-11T23:00:04.602001Z"
    },
    "papermill": {
     "duration": 0.021508,
     "end_time": "2021-08-11T23:00:04.602209",
     "exception": false,
     "start_time": "2021-08-11T23:00:04.580701",
     "status": "completed"
    },
    "tags": []
   },
   "outputs": [],
   "source": [
    "df_pivot.columns = [\"stamp_1\", \"stamp_2\"]\n",
    "df_pivot_diff = df_pivot.diff(axis=1)"
   ]
  },
  {
   "cell_type": "code",
   "execution_count": 7,
   "id": "fifth-motion",
   "metadata": {
    "execution": {
     "iopub.execute_input": "2021-08-11T23:00:04.631110Z",
     "iopub.status.busy": "2021-08-11T23:00:04.630019Z",
     "iopub.status.idle": "2021-08-11T23:00:05.289674Z",
     "shell.execute_reply": "2021-08-11T23:00:05.290211Z"
    },
    "papermill": {
     "duration": 0.675309,
     "end_time": "2021-08-11T23:00:05.290395",
     "exception": false,
     "start_time": "2021-08-11T23:00:04.615086",
     "status": "completed"
    },
    "tags": []
   },
   "outputs": [
    {
     "data": {
      "text/plain": [
       "<AxesSubplot:ylabel='PRODUCT'>"
      ]
     },
     "execution_count": 7,
     "metadata": {},
     "output_type": "execute_result"
    },
    {
     "data": {
      "image/png": "[encoded data removed]",
      "text/plain": [
       "<Figure size 432x288 with 1 Axes>"
      ]
     },
     "metadata": {
      "needs_background": "light"
     },
     "output_type": "display_data"
    }
   ],
   "source": [
    "df_pivot_diff.sort_values(\"stamp_2\", ascending = False)[\"stamp_2\"].head(10).plot.barh()"
   ]
  },
  {
   "cell_type": "code",
   "execution_count": null,
   "id": "extra-executive",
   "metadata": {
    "papermill": {
     "duration": 0.011145,
     "end_time": "2021-08-11T23:00:05.316871",
     "exception": false,
     "start_time": "2021-08-11T23:00:05.305726",
     "status": "completed"
    },
    "tags": []
   },
   "outputs": [],
   "source": []
  }
 ],
 "metadata": {
  "kernelspec": {
   "display_name": "Python 3",
   "language": "python",
   "name": "python3"
  },
  "language_info": {
   "codemirror_mode": {
    "name": "ipython",
    "version": 3
   },
   "file_extension": ".py",
   "mimetype": "text/x-python",
   "name": "python",
   "nbconvert_exporter": "python",
   "pygments_lexer": "ipython3",
   "version": "3.8.8"
  },
  "papermill": {
   "default_parameters": {},
   "duration": 5.005696,
   "end_time": "2021-08-11T23:00:06.829582",
   "environment_variables": {},
   "exception": null,
   "input_path": "/Users/saravananshanmugam/Carbonleakage_Git/UsedObjects/eBay_Overview.ipynb",
   "output_path": "/Users/saravananshanmugam/Carbonleakage_Git/UsedObjects/eBay_Overview.ipynb",
   "parameters": {},
   "start_time": "2021-08-11T23:00:01.823886",
   "version": "2.3.3"
  }
 },
 "nbformat": 4,
 "nbformat_minor": 5
}