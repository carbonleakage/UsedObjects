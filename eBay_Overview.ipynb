{
 "cells": [
  {
   "cell_type": "code",
   "execution_count": 1,
   "id": "reverse-picking",
   "metadata": {
    "execution": {
     "iopub.execute_input": "2021-10-18T18:30:07.408620Z",
     "iopub.status.busy": "2021-10-18T18:30:07.406727Z",
     "iopub.status.idle": "2021-10-18T18:30:08.213320Z",
     "shell.execute_reply": "2021-10-18T18:30:08.214653Z"
    },
    "papermill": {
     "duration": 0.859059,
     "end_time": "2021-10-18T18:30:08.215296",
     "exception": false,
     "start_time": "2021-10-18T18:30:07.356237",
     "status": "completed"
    },
    "tags": []
   },
   "outputs": [],
   "source": [
    "import pandas as pd\n",
    "import sqlite3"
   ]
  },
  {
   "cell_type": "code",
   "execution_count": 2,
   "id": "innovative-syndrome",
   "metadata": {
    "execution": {
     "iopub.execute_input": "2021-10-18T18:30:08.265712Z",
     "iopub.status.busy": "2021-10-18T18:30:08.263781Z",
     "iopub.status.idle": "2021-10-18T18:30:08.829741Z",
     "shell.execute_reply": "2021-10-18T18:30:08.831038Z"
    },
    "papermill": {
     "duration": 0.595781,
     "end_time": "2021-10-18T18:30:08.831449",
     "exception": false,
     "start_time": "2021-10-18T18:30:08.235668",
     "status": "completed"
    },
    "tags": []
   },
   "outputs": [],
   "source": [
    "timestamps = pd.read_sql(\"select distinct record_time from EBAY_TOP_BERLIN order by record_time desc limit 2\", sqlite3.connect(\"UsedObjects.db\"))"
   ]
  },
  {
   "cell_type": "code",
   "execution_count": 3,
   "id": "periodic-identification",
   "metadata": {
    "execution": {
     "iopub.execute_input": "2021-10-18T18:30:08.904603Z",
     "iopub.status.busy": "2021-10-18T18:30:08.902595Z",
     "iopub.status.idle": "2021-10-18T18:30:08.922419Z",
     "shell.execute_reply": "2021-10-18T18:30:08.923795Z"
    },
    "papermill": {
     "duration": 0.067916,
     "end_time": "2021-10-18T18:30:08.924232",
     "exception": false,
     "start_time": "2021-10-18T18:30:08.856316",
     "status": "completed"
    },
    "tags": []
   },
   "outputs": [
    {
     "data": {
      "text/html": [
       "<div>\n",
       "<style scoped>\n",
       "    .dataframe tbody tr th:only-of-type {\n",
       "        vertical-align: middle;\n",
       "    }\n",
       "\n",
       "    .dataframe tbody tr th {\n",
       "        vertical-align: top;\n",
       "    }\n",
       "\n",
       "    .dataframe thead th {\n",
       "        text-align: right;\n",
       "    }\n",
       "</style>\n",
       "<table border=\"1\" class=\"dataframe\">\n",
       "  <thead>\n",
       "    <tr style=\"text-align: right;\">\n",
       "      <th></th>\n",
       "      <th>RECORD_TIME</th>\n",
       "    </tr>\n",
       "  </thead>\n",
       "  <tbody>\n",
       "    <tr>\n",
       "      <th>0</th>\n",
       "      <td>2021-10-18 20:30</td>\n",
       "    </tr>\n",
       "    <tr>\n",
       "      <th>1</th>\n",
       "      <td>2021-10-18 20:00</td>\n",
       "    </tr>\n",
       "  </tbody>\n",
       "</table>\n",
       "</div>"
      ],
      "text/plain": [
       "        RECORD_TIME\n",
       "0  2021-10-18 20:30\n",
       "1  2021-10-18 20:00"
      ]
     },
     "execution_count": 3,
     "metadata": {},
     "output_type": "execute_result"
    }
   ],
   "source": [
    "timestamps"
   ]
  },
  {
   "cell_type": "code",
   "execution_count": 4,
   "id": "alternate-victory",
   "metadata": {
    "execution": {
     "iopub.execute_input": "2021-10-18T18:30:08.976154Z",
     "iopub.status.busy": "2021-10-18T18:30:08.974174Z",
     "iopub.status.idle": "2021-10-18T18:30:09.808786Z",
     "shell.execute_reply": "2021-10-18T18:30:09.810327Z"
    },
    "papermill": {
     "duration": 0.865698,
     "end_time": "2021-10-18T18:30:09.810776",
     "exception": false,
     "start_time": "2021-10-18T18:30:08.945078",
     "status": "completed"
    },
    "tags": []
   },
   "outputs": [],
   "source": [
    "df = pd.read_sql(\"select * from EBAY_TOP_BERLIN where record_time in (select distinct record_time from EBAY_TOP_BERLIN order by record_time desc limit 2)\", sqlite3.connect(\"UsedObjects.db\"))"
   ]
  },
  {
   "cell_type": "code",
   "execution_count": 5,
   "id": "popular-active",
   "metadata": {
    "execution": {
     "iopub.execute_input": "2021-10-18T18:30:09.880866Z",
     "iopub.status.busy": "2021-10-18T18:30:09.869924Z",
     "iopub.status.idle": "2021-10-18T18:30:09.897272Z",
     "shell.execute_reply": "2021-10-18T18:30:09.898486Z"
    },
    "papermill": {
     "duration": 0.066798,
     "end_time": "2021-10-18T18:30:09.898875",
     "exception": false,
     "start_time": "2021-10-18T18:30:09.832077",
     "status": "completed"
    },
    "tags": []
   },
   "outputs": [],
   "source": [
    "df_pivot = df.pivot_table(index=\"PRODUCT\", columns = \"RECORD_TIME\", values = \"LISTING_COUNT\")"
   ]
  },
  {
   "cell_type": "code",
   "execution_count": 6,
   "id": "union-huntington",
   "metadata": {
    "execution": {
     "iopub.execute_input": "2021-10-18T18:30:09.959912Z",
     "iopub.status.busy": "2021-10-18T18:30:09.957472Z",
     "iopub.status.idle": "2021-10-18T18:30:09.963163Z",
     "shell.execute_reply": "2021-10-18T18:30:09.964437Z"
    },
    "papermill": {
     "duration": 0.042428,
     "end_time": "2021-10-18T18:30:09.964893",
     "exception": false,
     "start_time": "2021-10-18T18:30:09.922465",
     "status": "completed"
    },
    "tags": []
   },
   "outputs": [],
   "source": [
    "df_pivot.columns = [\"stamp_1\", \"stamp_2\"]\n",
    "df_pivot_diff = df_pivot.diff(axis=1)"
   ]
  },
  {
   "cell_type": "code",
   "execution_count": 7,
   "id": "fifth-motion",
   "metadata": {
    "execution": {
     "iopub.execute_input": "2021-10-18T18:30:10.019970Z",
     "iopub.status.busy": "2021-10-18T18:30:10.017731Z",
     "iopub.status.idle": "2021-10-18T18:30:11.493870Z",
     "shell.execute_reply": "2021-10-18T18:30:11.495138Z"
    },
    "papermill": {
     "duration": 1.509733,
     "end_time": "2021-10-18T18:30:11.495548",
     "exception": false,
     "start_time": "2021-10-18T18:30:09.985815",
     "status": "completed"
    },
    "tags": []
   },
   "outputs": [
    {
     "data": {
      "text/plain": [
       "<AxesSubplot:ylabel='PRODUCT'>"
      ]
     },
     "execution_count": 7,
     "metadata": {},
     "output_type": "execute_result"
    },
    {
     "data": {
      "image/png": "[encoded data removed]",
      "text/plain": [
       "<Figure size 432x288 with 1 Axes>"
      ]
     },
     "metadata": {
      "needs_background": "light"
     },
     "output_type": "display_data"
    }
   ],
   "source": [
    "df_pivot_diff.sort_values(\"stamp_2\", ascending = False)[\"stamp_2\"].head(10).plot.barh()"
   ]
  },
  {
   "cell_type": "code",
   "execution_count": null,
   "id": "extra-executive",
   "metadata": {
    "papermill": {
     "duration": 0.022392,
     "end_time": "2021-10-18T18:30:11.543685",
     "exception": false,
     "start_time": "2021-10-18T18:30:11.521293",
     "status": "completed"
    },
    "tags": []
   },
   "outputs": [],
   "source": []
  }
 ],
 "metadata": {
  "kernelspec": {
   "display_name": "Python 3",
   "language": "python",
   "name": "python3"
  },
  "language_info": {
   "codemirror_mode": {
    "name": "ipython",
    "version": 3
   },
   "file_extension": ".py",
   "mimetype": "text/x-python",
   "name": "python",
   "nbconvert_exporter": "python",
   "pygments_lexer": "ipython3",
   "version": "3.9.5"
  },
  "papermill": {
   "default_parameters": {},
   "duration": 7.817506,
   "end_time": "2021-10-18T18:30:12.777392",
   "environment_variables": {},
   "exception": null,
   "input_path": "eBay_Overview.ipynb",
   "output_path": "eBay_Overview.ipynb",
   "parameters": {},
   "start_time": "2021-10-18T18:30:04.959886",
   "version": "2.3.3"
  }
 },
 "nbformat": 4,
 "nbformat_minor": 5
}