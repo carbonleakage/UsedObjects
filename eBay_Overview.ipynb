{
 "cells": [
  {
   "cell_type": "code",
   "execution_count": 1,
   "id": "reverse-picking",
   "metadata": {
    "execution": {
     "iopub.execute_input": "2021-12-06T04:00:07.932070Z",
     "iopub.status.busy": "2021-12-06T04:00:07.928216Z",
     "iopub.status.idle": "2021-12-06T04:00:08.893237Z",
     "shell.execute_reply": "2021-12-06T04:00:08.894872Z"
    },
    "papermill": {
     "duration": 1.014574,
     "end_time": "2021-12-06T04:00:08.895602",
     "exception": false,
     "start_time": "2021-12-06T04:00:07.881028",
     "status": "completed"
    },
    "tags": []
   },
   "outputs": [],
   "source": [
    "import pandas as pd\n",
    "import sqlite3"
   ]
  },
  {
   "cell_type": "code",
   "execution_count": 2,
   "id": "innovative-syndrome",
   "metadata": {
    "execution": {
     "iopub.execute_input": "2021-12-06T04:00:09.017548Z",
     "iopub.status.busy": "2021-12-06T04:00:09.015111Z",
     "iopub.status.idle": "2021-12-06T04:00:10.025543Z",
     "shell.execute_reply": "2021-12-06T04:00:10.027565Z"
    },
    "papermill": {
     "duration": 1.044722,
     "end_time": "2021-12-06T04:00:10.028156",
     "exception": false,
     "start_time": "2021-12-06T04:00:08.983434",
     "status": "completed"
    },
    "tags": []
   },
   "outputs": [],
   "source": [
    "timestamps = pd.read_sql(\"select distinct record_time from EBAY_TOP_BERLIN order by record_time desc limit 2\", sqlite3.connect(\"UsedObjects.db\"))"
   ]
  },
  {
   "cell_type": "code",
   "execution_count": 3,
   "id": "periodic-identification",
   "metadata": {
    "execution": {
     "iopub.execute_input": "2021-12-06T04:00:10.098795Z",
     "iopub.status.busy": "2021-12-06T04:00:10.096802Z",
     "iopub.status.idle": "2021-12-06T04:00:10.119189Z",
     "shell.execute_reply": "2021-12-06T04:00:10.120450Z"
    },
    "papermill": {
     "duration": 0.069767,
     "end_time": "2021-12-06T04:00:10.121051",
     "exception": false,
     "start_time": "2021-12-06T04:00:10.051284",
     "status": "completed"
    },
    "tags": []
   },
   "outputs": [
    {
     "data": {
      "text/html": [
       "<div>\n",
       "<style scoped>\n",
       "    .dataframe tbody tr th:only-of-type {\n",
       "        vertical-align: middle;\n",
       "    }\n",
       "\n",
       "    .dataframe tbody tr th {\n",
       "        vertical-align: top;\n",
       "    }\n",
       "\n",
       "    .dataframe thead th {\n",
       "        text-align: right;\n",
       "    }\n",
       "</style>\n",
       "<table border=\"1\" class=\"dataframe\">\n",
       "  <thead>\n",
       "    <tr style=\"text-align: right;\">\n",
       "      <th></th>\n",
       "      <th>RECORD_TIME</th>\n",
       "    </tr>\n",
       "  </thead>\n",
       "  <tbody>\n",
       "    <tr>\n",
       "      <th>0</th>\n",
       "      <td>2021-12-06 05:00</td>\n",
       "    </tr>\n",
       "    <tr>\n",
       "      <th>1</th>\n",
       "      <td>2021-12-06 04:30</td>\n",
       "    </tr>\n",
       "  </tbody>\n",
       "</table>\n",
       "</div>"
      ],
      "text/plain": [
       "        RECORD_TIME\n",
       "0  2021-12-06 05:00\n",
       "1  2021-12-06 04:30"
      ]
     },
     "execution_count": 3,
     "metadata": {},
     "output_type": "execute_result"
    }
   ],
   "source": [
    "timestamps"
   ]
  },
  {
   "cell_type": "code",
   "execution_count": 4,
   "id": "alternate-victory",
   "metadata": {
    "execution": {
     "iopub.execute_input": "2021-12-06T04:00:10.174009Z",
     "iopub.status.busy": "2021-12-06T04:00:10.171620Z",
     "iopub.status.idle": "2021-12-06T04:00:11.612921Z",
     "shell.execute_reply": "2021-12-06T04:00:11.614821Z"
    },
    "papermill": {
     "duration": 1.472025,
     "end_time": "2021-12-06T04:00:11.615299",
     "exception": false,
     "start_time": "2021-12-06T04:00:10.143274",
     "status": "completed"
    },
    "tags": []
   },
   "outputs": [],
   "source": [
    "df = pd.read_sql(\"select * from EBAY_TOP_BERLIN where record_time in (select distinct record_time from EBAY_TOP_BERLIN order by record_time desc limit 2)\", sqlite3.connect(\"UsedObjects.db\"))"
   ]
  },
  {
   "cell_type": "code",
   "execution_count": 5,
   "id": "popular-active",
   "metadata": {
    "execution": {
     "iopub.execute_input": "2021-12-06T04:00:11.672725Z",
     "iopub.status.busy": "2021-12-06T04:00:11.669919Z",
     "iopub.status.idle": "2021-12-06T04:00:11.718601Z",
     "shell.execute_reply": "2021-12-06T04:00:11.717116Z"
    },
    "papermill": {
     "duration": 0.082366,
     "end_time": "2021-12-06T04:00:11.719223",
     "exception": false,
     "start_time": "2021-12-06T04:00:11.636857",
     "status": "completed"
    },
    "tags": []
   },
   "outputs": [],
   "source": [
    "df_pivot = df.pivot_table(index=\"PRODUCT\", columns = \"RECORD_TIME\", values = \"LISTING_COUNT\")"
   ]
  },
  {
   "cell_type": "code",
   "execution_count": 6,
   "id": "union-huntington",
   "metadata": {
    "execution": {
     "iopub.execute_input": "2021-12-06T04:00:11.780739Z",
     "iopub.status.busy": "2021-12-06T04:00:11.778541Z",
     "iopub.status.idle": "2021-12-06T04:00:11.784645Z",
     "shell.execute_reply": "2021-12-06T04:00:11.786088Z"
    },
    "papermill": {
     "duration": 0.043245,
     "end_time": "2021-12-06T04:00:11.786538",
     "exception": false,
     "start_time": "2021-12-06T04:00:11.743293",
     "status": "completed"
    },
    "tags": []
   },
   "outputs": [],
   "source": [
    "df_pivot.columns = [\"stamp_1\", \"stamp_2\"]\n",
    "df_pivot_diff = df_pivot.diff(axis=1)"
   ]
  },
  {
   "cell_type": "code",
   "execution_count": 7,
   "id": "fifth-motion",
   "metadata": {
    "execution": {
     "iopub.execute_input": "2021-12-06T04:00:11.879784Z",
     "iopub.status.busy": "2021-12-06T04:00:11.877240Z",
     "iopub.status.idle": "2021-12-06T04:00:13.493687Z",
     "shell.execute_reply": "2021-12-06T04:00:13.495077Z"
    },
    "papermill": {
     "duration": 1.689305,
     "end_time": "2021-12-06T04:00:13.495541",
     "exception": false,
     "start_time": "2021-12-06T04:00:11.806236",
     "status": "completed"
    },
    "tags": []
   },
   "outputs": [
    {
     "data": {
      "text/plain": [
       "<AxesSubplot:ylabel='PRODUCT'>"
      ]
     },
     "execution_count": 7,
     "metadata": {},
     "output_type": "execute_result"
    },
    {
     "data": {
      "image/png": "[encoded data removed]",
      "text/plain": [
       "<Figure size 432x288 with 1 Axes>"
      ]
     },
     "metadata": {
      "needs_background": "light"
     },
     "output_type": "display_data"
    }
   ],
   "source": [
    "df_pivot_diff.sort_values(\"stamp_2\", ascending = False)[\"stamp_2\"].head(10).plot.barh()"
   ]
  },
  {
   "cell_type": "code",
   "execution_count": null,
   "id": "extra-executive",
   "metadata": {
    "papermill": {
     "duration": 0.021796,
     "end_time": "2021-12-06T04:00:13.541434",
     "exception": false,
     "start_time": "2021-12-06T04:00:13.519638",
     "status": "completed"
    },
    "tags": []
   },
   "outputs": [],
   "source": []
  }
 ],
 "metadata": {
  "kernelspec": {
   "display_name": "Python 3",
   "language": "python",
   "name": "python3"
  },
  "language_info": {
   "codemirror_mode": {
    "name": "ipython",
    "version": 3
   },
   "file_extension": ".py",
   "mimetype": "text/x-python",
   "name": "python",
   "nbconvert_exporter": "python",
   "pygments_lexer": "ipython3",
   "version": "3.9.5"
  },
  "papermill": {
   "default_parameters": {},
   "duration": 9.948561,
   "end_time": "2021-12-06T04:00:15.079569",
   "environment_variables": {},
   "exception": null,
   "input_path": "eBay_Overview.ipynb",
   "output_path": "eBay_Overview.ipynb",
   "parameters": {},
   "start_time": "2021-12-06T04:00:05.131008",
   "version": "2.3.3"
  }
 },
 "nbformat": 4,
 "nbformat_minor": 5
}