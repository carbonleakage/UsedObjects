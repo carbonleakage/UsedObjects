{
 "cells": [
  {
   "cell_type": "code",
   "execution_count": 1,
   "id": "reverse-picking",
   "metadata": {
    "execution": {
     "iopub.execute_input": "2021-09-28T04:00:07.447699Z",
     "iopub.status.busy": "2021-09-28T04:00:07.445696Z",
     "iopub.status.idle": "2021-09-28T04:00:08.255186Z",
     "shell.execute_reply": "2021-09-28T04:00:08.256465Z"
    },
    "papermill": {
     "duration": 0.861135,
     "end_time": "2021-09-28T04:00:08.257079",
     "exception": false,
     "start_time": "2021-09-28T04:00:07.395944",
     "status": "completed"
    },
    "tags": []
   },
   "outputs": [],
   "source": [
    "import pandas as pd\n",
    "import sqlite3"
   ]
  },
  {
   "cell_type": "code",
   "execution_count": 2,
   "id": "innovative-syndrome",
   "metadata": {
    "execution": {
     "iopub.execute_input": "2021-09-28T04:00:08.311000Z",
     "iopub.status.busy": "2021-09-28T04:00:08.308643Z",
     "iopub.status.idle": "2021-09-28T04:00:08.705152Z",
     "shell.execute_reply": "2021-09-28T04:00:08.706423Z"
    },
    "papermill": {
     "duration": 0.426581,
     "end_time": "2021-09-28T04:00:08.706892",
     "exception": false,
     "start_time": "2021-09-28T04:00:08.280311",
     "status": "completed"
    },
    "tags": []
   },
   "outputs": [],
   "source": [
    "timestamps = pd.read_sql(\"select distinct record_time from EBAY_TOP_BERLIN order by record_time desc limit 2\", sqlite3.connect(\"UsedObjects.db\"))"
   ]
  },
  {
   "cell_type": "code",
   "execution_count": 3,
   "id": "periodic-identification",
   "metadata": {
    "execution": {
     "iopub.execute_input": "2021-09-28T04:00:08.773201Z",
     "iopub.status.busy": "2021-09-28T04:00:08.771194Z",
     "iopub.status.idle": "2021-09-28T04:00:08.791139Z",
     "shell.execute_reply": "2021-09-28T04:00:08.792337Z"
    },
    "papermill": {
     "duration": 0.066652,
     "end_time": "2021-09-28T04:00:08.792770",
     "exception": false,
     "start_time": "2021-09-28T04:00:08.726118",
     "status": "completed"
    },
    "tags": []
   },
   "outputs": [
    {
     "data": {
      "text/html": [
       "<div>\n",
       "<style scoped>\n",
       "    .dataframe tbody tr th:only-of-type {\n",
       "        vertical-align: middle;\n",
       "    }\n",
       "\n",
       "    .dataframe tbody tr th {\n",
       "        vertical-align: top;\n",
       "    }\n",
       "\n",
       "    .dataframe thead th {\n",
       "        text-align: right;\n",
       "    }\n",
       "</style>\n",
       "<table border=\"1\" class=\"dataframe\">\n",
       "  <thead>\n",
       "    <tr style=\"text-align: right;\">\n",
       "      <th></th>\n",
       "      <th>RECORD_TIME</th>\n",
       "    </tr>\n",
       "  </thead>\n",
       "  <tbody>\n",
       "    <tr>\n",
       "      <th>0</th>\n",
       "      <td>2021-09-28 06:00</td>\n",
       "    </tr>\n",
       "    <tr>\n",
       "      <th>1</th>\n",
       "      <td>2021-09-28 05:30</td>\n",
       "    </tr>\n",
       "  </tbody>\n",
       "</table>\n",
       "</div>"
      ],
      "text/plain": [
       "        RECORD_TIME\n",
       "0  2021-09-28 06:00\n",
       "1  2021-09-28 05:30"
      ]
     },
     "execution_count": 3,
     "metadata": {},
     "output_type": "execute_result"
    }
   ],
   "source": [
    "timestamps"
   ]
  },
  {
   "cell_type": "code",
   "execution_count": 4,
   "id": "alternate-victory",
   "metadata": {
    "execution": {
     "iopub.execute_input": "2021-09-28T04:00:08.845184Z",
     "iopub.status.busy": "2021-09-28T04:00:08.842898Z",
     "iopub.status.idle": "2021-09-28T04:00:09.420845Z",
     "shell.execute_reply": "2021-09-28T04:00:09.422046Z"
    },
    "papermill": {
     "duration": 0.608495,
     "end_time": "2021-09-28T04:00:09.422444",
     "exception": false,
     "start_time": "2021-09-28T04:00:08.813949",
     "status": "completed"
    },
    "tags": []
   },
   "outputs": [],
   "source": [
    "df = pd.read_sql(\"select * from EBAY_TOP_BERLIN where record_time in (select distinct record_time from EBAY_TOP_BERLIN order by record_time desc limit 2)\", sqlite3.connect(\"UsedObjects.db\"))"
   ]
  },
  {
   "cell_type": "code",
   "execution_count": 5,
   "id": "popular-active",
   "metadata": {
    "execution": {
     "iopub.execute_input": "2021-09-28T04:00:09.507830Z",
     "iopub.status.busy": "2021-09-28T04:00:09.500462Z",
     "iopub.status.idle": "2021-09-28T04:00:09.522968Z",
     "shell.execute_reply": "2021-09-28T04:00:09.524263Z"
    },
    "papermill": {
     "duration": 0.073031,
     "end_time": "2021-09-28T04:00:09.524673",
     "exception": false,
     "start_time": "2021-09-28T04:00:09.451642",
     "status": "completed"
    },
    "tags": []
   },
   "outputs": [],
   "source": [
    "df_pivot = df.pivot_table(index=\"PRODUCT\", columns = \"RECORD_TIME\", values = \"LISTING_COUNT\")"
   ]
  },
  {
   "cell_type": "code",
   "execution_count": 6,
   "id": "union-huntington",
   "metadata": {
    "execution": {
     "iopub.execute_input": "2021-09-28T04:00:09.579885Z",
     "iopub.status.busy": "2021-09-28T04:00:09.577878Z",
     "iopub.status.idle": "2021-09-28T04:00:09.583064Z",
     "shell.execute_reply": "2021-09-28T04:00:09.584209Z"
    },
    "papermill": {
     "duration": 0.039726,
     "end_time": "2021-09-28T04:00:09.584621",
     "exception": false,
     "start_time": "2021-09-28T04:00:09.544895",
     "status": "completed"
    },
    "tags": []
   },
   "outputs": [],
   "source": [
    "df_pivot.columns = [\"stamp_1\", \"stamp_2\"]\n",
    "df_pivot_diff = df_pivot.diff(axis=1)"
   ]
  },
  {
   "cell_type": "code",
   "execution_count": 7,
   "id": "fifth-motion",
   "metadata": {
    "execution": {
     "iopub.execute_input": "2021-09-28T04:00:09.640210Z",
     "iopub.status.busy": "2021-09-28T04:00:09.637650Z",
     "iopub.status.idle": "2021-09-28T04:00:11.144776Z",
     "shell.execute_reply": "2021-09-28T04:00:11.146076Z"
    },
    "papermill": {
     "duration": 1.540595,
     "end_time": "2021-09-28T04:00:11.146498",
     "exception": false,
     "start_time": "2021-09-28T04:00:09.605903",
     "status": "completed"
    },
    "tags": []
   },
   "outputs": [
    {
     "data": {
      "text/plain": [
       "<AxesSubplot:ylabel='PRODUCT'>"
      ]
     },
     "execution_count": 7,
     "metadata": {},
     "output_type": "execute_result"
    },
    {
     "data": {
      "image/png": "[encoded data removed]",
      "text/plain": [
       "<Figure size 432x288 with 1 Axes>"
      ]
     },
     "metadata": {
      "needs_background": "light"
     },
     "output_type": "display_data"
    }
   ],
   "source": [
    "df_pivot_diff.sort_values(\"stamp_2\", ascending = False)[\"stamp_2\"].head(10).plot.barh()"
   ]
  },
  {
   "cell_type": "code",
   "execution_count": null,
   "id": "extra-executive",
   "metadata": {
    "papermill": {
     "duration": 0.02229,
     "end_time": "2021-09-28T04:00:11.193561",
     "exception": false,
     "start_time": "2021-09-28T04:00:11.171271",
     "status": "completed"
    },
    "tags": []
   },
   "outputs": [],
   "source": []
  }
 ],
 "metadata": {
  "kernelspec": {
   "display_name": "Python 3",
   "language": "python",
   "name": "python3"
  },
  "language_info": {
   "codemirror_mode": {
    "name": "ipython",
    "version": 3
   },
   "file_extension": ".py",
   "mimetype": "text/x-python",
   "name": "python",
   "nbconvert_exporter": "python",
   "pygments_lexer": "ipython3",
   "version": "3.9.5"
  },
  "papermill": {
   "default_parameters": {},
   "duration": 7.833461,
   "end_time": "2021-09-28T04:00:12.817979",
   "environment_variables": {},
   "exception": null,
   "input_path": "eBay_Overview.ipynb",
   "output_path": "eBay_Overview.ipynb",
   "parameters": {},
   "start_time": "2021-09-28T04:00:04.984518",
   "version": "2.3.3"
  }
 },
 "nbformat": 4,
 "nbformat_minor": 5
}