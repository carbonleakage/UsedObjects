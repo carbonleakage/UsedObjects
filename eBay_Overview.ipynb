{
 "cells": [
  {
   "cell_type": "code",
   "execution_count": 1,
   "id": "reverse-picking",
   "metadata": {
    "execution": {
     "iopub.execute_input": "2021-11-11T19:00:07.668516Z",
     "iopub.status.busy": "2021-11-11T19:00:07.666302Z",
     "iopub.status.idle": "2021-11-11T19:00:08.608611Z",
     "shell.execute_reply": "2021-11-11T19:00:08.610126Z"
    },
    "papermill": {
     "duration": 0.991009,
     "end_time": "2021-11-11T19:00:08.610957",
     "exception": false,
     "start_time": "2021-11-11T19:00:07.619948",
     "status": "completed"
    },
    "tags": []
   },
   "outputs": [],
   "source": [
    "import pandas as pd\n",
    "import sqlite3"
   ]
  },
  {
   "cell_type": "code",
   "execution_count": 2,
   "id": "innovative-syndrome",
   "metadata": {
    "execution": {
     "iopub.execute_input": "2021-11-11T19:00:08.674514Z",
     "iopub.status.busy": "2021-11-11T19:00:08.672286Z",
     "iopub.status.idle": "2021-11-11T19:00:09.449617Z",
     "shell.execute_reply": "2021-11-11T19:00:09.451070Z"
    },
    "papermill": {
     "duration": 0.818986,
     "end_time": "2021-11-11T19:00:09.451575",
     "exception": false,
     "start_time": "2021-11-11T19:00:08.632589",
     "status": "completed"
    },
    "tags": []
   },
   "outputs": [],
   "source": [
    "timestamps = pd.read_sql(\"select distinct record_time from EBAY_TOP_BERLIN order by record_time desc limit 2\", sqlite3.connect(\"UsedObjects.db\"))"
   ]
  },
  {
   "cell_type": "code",
   "execution_count": 3,
   "id": "periodic-identification",
   "metadata": {
    "execution": {
     "iopub.execute_input": "2021-11-11T19:00:09.522803Z",
     "iopub.status.busy": "2021-11-11T19:00:09.520371Z",
     "iopub.status.idle": "2021-11-11T19:00:09.543220Z",
     "shell.execute_reply": "2021-11-11T19:00:09.545067Z"
    },
    "papermill": {
     "duration": 0.073547,
     "end_time": "2021-11-11T19:00:09.545573",
     "exception": false,
     "start_time": "2021-11-11T19:00:09.472026",
     "status": "completed"
    },
    "tags": []
   },
   "outputs": [
    {
     "data": {
      "text/html": [
       "<div>\n",
       "<style scoped>\n",
       "    .dataframe tbody tr th:only-of-type {\n",
       "        vertical-align: middle;\n",
       "    }\n",
       "\n",
       "    .dataframe tbody tr th {\n",
       "        vertical-align: top;\n",
       "    }\n",
       "\n",
       "    .dataframe thead th {\n",
       "        text-align: right;\n",
       "    }\n",
       "</style>\n",
       "<table border=\"1\" class=\"dataframe\">\n",
       "  <thead>\n",
       "    <tr style=\"text-align: right;\">\n",
       "      <th></th>\n",
       "      <th>RECORD_TIME</th>\n",
       "    </tr>\n",
       "  </thead>\n",
       "  <tbody>\n",
       "    <tr>\n",
       "      <th>0</th>\n",
       "      <td>2021-11-11 20:00</td>\n",
       "    </tr>\n",
       "    <tr>\n",
       "      <th>1</th>\n",
       "      <td>2021-11-11 19:30</td>\n",
       "    </tr>\n",
       "  </tbody>\n",
       "</table>\n",
       "</div>"
      ],
      "text/plain": [
       "        RECORD_TIME\n",
       "0  2021-11-11 20:00\n",
       "1  2021-11-11 19:30"
      ]
     },
     "execution_count": 3,
     "metadata": {},
     "output_type": "execute_result"
    }
   ],
   "source": [
    "timestamps"
   ]
  },
  {
   "cell_type": "code",
   "execution_count": 4,
   "id": "alternate-victory",
   "metadata": {
    "execution": {
     "iopub.execute_input": "2021-11-11T19:00:09.601366Z",
     "iopub.status.busy": "2021-11-11T19:00:09.598858Z",
     "iopub.status.idle": "2021-11-11T19:00:10.740601Z",
     "shell.execute_reply": "2021-11-11T19:00:10.742262Z"
    },
    "papermill": {
     "duration": 1.174605,
     "end_time": "2021-11-11T19:00:10.742749",
     "exception": false,
     "start_time": "2021-11-11T19:00:09.568144",
     "status": "completed"
    },
    "tags": []
   },
   "outputs": [],
   "source": [
    "df = pd.read_sql(\"select * from EBAY_TOP_BERLIN where record_time in (select distinct record_time from EBAY_TOP_BERLIN order by record_time desc limit 2)\", sqlite3.connect(\"UsedObjects.db\"))"
   ]
  },
  {
   "cell_type": "code",
   "execution_count": 5,
   "id": "popular-active",
   "metadata": {
    "execution": {
     "iopub.execute_input": "2021-11-11T19:00:10.816807Z",
     "iopub.status.busy": "2021-11-11T19:00:10.808289Z",
     "iopub.status.idle": "2021-11-11T19:00:10.841346Z",
     "shell.execute_reply": "2021-11-11T19:00:10.843033Z"
    },
    "papermill": {
     "duration": 0.078986,
     "end_time": "2021-11-11T19:00:10.843533",
     "exception": false,
     "start_time": "2021-11-11T19:00:10.764547",
     "status": "completed"
    },
    "tags": []
   },
   "outputs": [],
   "source": [
    "df_pivot = df.pivot_table(index=\"PRODUCT\", columns = \"RECORD_TIME\", values = \"LISTING_COUNT\")"
   ]
  },
  {
   "cell_type": "code",
   "execution_count": 6,
   "id": "union-huntington",
   "metadata": {
    "execution": {
     "iopub.execute_input": "2021-11-11T19:00:10.907544Z",
     "iopub.status.busy": "2021-11-11T19:00:10.905106Z",
     "iopub.status.idle": "2021-11-11T19:00:10.911142Z",
     "shell.execute_reply": "2021-11-11T19:00:10.912770Z"
    },
    "papermill": {
     "duration": 0.047667,
     "end_time": "2021-11-11T19:00:10.913244",
     "exception": false,
     "start_time": "2021-11-11T19:00:10.865577",
     "status": "completed"
    },
    "tags": []
   },
   "outputs": [],
   "source": [
    "df_pivot.columns = [\"stamp_1\", \"stamp_2\"]\n",
    "df_pivot_diff = df_pivot.diff(axis=1)"
   ]
  },
  {
   "cell_type": "code",
   "execution_count": 7,
   "id": "fifth-motion",
   "metadata": {
    "execution": {
     "iopub.execute_input": "2021-11-11T19:00:10.973089Z",
     "iopub.status.busy": "2021-11-11T19:00:10.970479Z",
     "iopub.status.idle": "2021-11-11T19:00:12.721309Z",
     "shell.execute_reply": "2021-11-11T19:00:12.722670Z"
    },
    "papermill": {
     "duration": 1.788845,
     "end_time": "2021-11-11T19:00:12.723148",
     "exception": false,
     "start_time": "2021-11-11T19:00:10.934303",
     "status": "completed"
    },
    "tags": []
   },
   "outputs": [
    {
     "data": {
      "text/plain": [
       "<AxesSubplot:ylabel='PRODUCT'>"
      ]
     },
     "execution_count": 7,
     "metadata": {},
     "output_type": "execute_result"
    },
    {
     "data": {
      "image/png": "[encoded data removed]",
      "text/plain": [
       "<Figure size 432x288 with 1 Axes>"
      ]
     },
     "metadata": {
      "needs_background": "light"
     },
     "output_type": "display_data"
    }
   ],
   "source": [
    "df_pivot_diff.sort_values(\"stamp_2\", ascending = False)[\"stamp_2\"].head(10).plot.barh()"
   ]
  },
  {
   "cell_type": "code",
   "execution_count": null,
   "id": "extra-executive",
   "metadata": {
    "papermill": {
     "duration": 0.023827,
     "end_time": "2021-11-11T19:00:12.770925",
     "exception": false,
     "start_time": "2021-11-11T19:00:12.747098",
     "status": "completed"
    },
    "tags": []
   },
   "outputs": [],
   "source": []
  }
 ],
 "metadata": {
  "kernelspec": {
   "display_name": "Python 3",
   "language": "python",
   "name": "python3"
  },
  "language_info": {
   "codemirror_mode": {
    "name": "ipython",
    "version": 3
   },
   "file_extension": ".py",
   "mimetype": "text/x-python",
   "name": "python",
   "nbconvert_exporter": "python",
   "pygments_lexer": "ipython3",
   "version": "3.9.5"
  },
  "papermill": {
   "default_parameters": {},
   "duration": 8.786142,
   "end_time": "2021-11-11T19:00:13.618432",
   "environment_variables": {},
   "exception": null,
   "input_path": "eBay_Overview.ipynb",
   "output_path": "eBay_Overview.ipynb",
   "parameters": {},
   "start_time": "2021-11-11T19:00:04.832290",
   "version": "2.3.3"
  }
 },
 "nbformat": 4,
 "nbformat_minor": 5
}