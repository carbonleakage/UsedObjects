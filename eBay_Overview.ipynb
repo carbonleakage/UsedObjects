{
 "cells": [
  {
   "cell_type": "code",
   "execution_count": 1,
   "id": "reverse-picking",
   "metadata": {
    "execution": {
     "iopub.execute_input": "2021-11-27T13:00:08.233507Z",
     "iopub.status.busy": "2021-11-27T13:00:08.231276Z",
     "iopub.status.idle": "2021-11-27T13:00:09.188428Z",
     "shell.execute_reply": "2021-11-27T13:00:09.191293Z"
    },
    "papermill": {
     "duration": 1.008522,
     "end_time": "2021-11-27T13:00:09.192822",
     "exception": false,
     "start_time": "2021-11-27T13:00:08.184300",
     "status": "completed"
    },
    "tags": []
   },
   "outputs": [],
   "source": [
    "import pandas as pd\n",
    "import sqlite3"
   ]
  },
  {
   "cell_type": "code",
   "execution_count": 2,
   "id": "innovative-syndrome",
   "metadata": {
    "execution": {
     "iopub.execute_input": "2021-11-27T13:00:09.265115Z",
     "iopub.status.busy": "2021-11-27T13:00:09.262837Z",
     "iopub.status.idle": "2021-11-27T13:00:10.201420Z",
     "shell.execute_reply": "2021-11-27T13:00:10.202988Z"
    },
    "papermill": {
     "duration": 0.972463,
     "end_time": "2021-11-27T13:00:10.203388",
     "exception": false,
     "start_time": "2021-11-27T13:00:09.230925",
     "status": "completed"
    },
    "tags": []
   },
   "outputs": [],
   "source": [
    "timestamps = pd.read_sql(\"select distinct record_time from EBAY_TOP_BERLIN order by record_time desc limit 2\", sqlite3.connect(\"UsedObjects.db\"))"
   ]
  },
  {
   "cell_type": "code",
   "execution_count": 3,
   "id": "periodic-identification",
   "metadata": {
    "execution": {
     "iopub.execute_input": "2021-11-27T13:00:10.270858Z",
     "iopub.status.busy": "2021-11-27T13:00:10.265698Z",
     "iopub.status.idle": "2021-11-27T13:00:10.286477Z",
     "shell.execute_reply": "2021-11-27T13:00:10.287841Z"
    },
    "papermill": {
     "duration": 0.064675,
     "end_time": "2021-11-27T13:00:10.288271",
     "exception": false,
     "start_time": "2021-11-27T13:00:10.223596",
     "status": "completed"
    },
    "tags": []
   },
   "outputs": [
    {
     "data": {
      "text/html": [
       "<div>\n",
       "<style scoped>\n",
       "    .dataframe tbody tr th:only-of-type {\n",
       "        vertical-align: middle;\n",
       "    }\n",
       "\n",
       "    .dataframe tbody tr th {\n",
       "        vertical-align: top;\n",
       "    }\n",
       "\n",
       "    .dataframe thead th {\n",
       "        text-align: right;\n",
       "    }\n",
       "</style>\n",
       "<table border=\"1\" class=\"dataframe\">\n",
       "  <thead>\n",
       "    <tr style=\"text-align: right;\">\n",
       "      <th></th>\n",
       "      <th>RECORD_TIME</th>\n",
       "    </tr>\n",
       "  </thead>\n",
       "  <tbody>\n",
       "    <tr>\n",
       "      <th>0</th>\n",
       "      <td>2021-11-27 14:00</td>\n",
       "    </tr>\n",
       "    <tr>\n",
       "      <th>1</th>\n",
       "      <td>2021-11-27 13:30</td>\n",
       "    </tr>\n",
       "  </tbody>\n",
       "</table>\n",
       "</div>"
      ],
      "text/plain": [
       "        RECORD_TIME\n",
       "0  2021-11-27 14:00\n",
       "1  2021-11-27 13:30"
      ]
     },
     "execution_count": 3,
     "metadata": {},
     "output_type": "execute_result"
    }
   ],
   "source": [
    "timestamps"
   ]
  },
  {
   "cell_type": "code",
   "execution_count": 4,
   "id": "alternate-victory",
   "metadata": {
    "execution": {
     "iopub.execute_input": "2021-11-27T13:00:10.342757Z",
     "iopub.status.busy": "2021-11-27T13:00:10.340606Z",
     "iopub.status.idle": "2021-11-27T13:00:11.718530Z",
     "shell.execute_reply": "2021-11-27T13:00:11.715015Z"
    },
    "papermill": {
     "duration": 1.409002,
     "end_time": "2021-11-27T13:00:11.718994",
     "exception": false,
     "start_time": "2021-11-27T13:00:10.309992",
     "status": "completed"
    },
    "tags": []
   },
   "outputs": [],
   "source": [
    "df = pd.read_sql(\"select * from EBAY_TOP_BERLIN where record_time in (select distinct record_time from EBAY_TOP_BERLIN order by record_time desc limit 2)\", sqlite3.connect(\"UsedObjects.db\"))"
   ]
  },
  {
   "cell_type": "code",
   "execution_count": 5,
   "id": "popular-active",
   "metadata": {
    "execution": {
     "iopub.execute_input": "2021-11-27T13:00:11.791983Z",
     "iopub.status.busy": "2021-11-27T13:00:11.784590Z",
     "iopub.status.idle": "2021-11-27T13:00:11.816166Z",
     "shell.execute_reply": "2021-11-27T13:00:11.817582Z"
    },
    "papermill": {
     "duration": 0.076224,
     "end_time": "2021-11-27T13:00:11.818056",
     "exception": false,
     "start_time": "2021-11-27T13:00:11.741832",
     "status": "completed"
    },
    "tags": []
   },
   "outputs": [],
   "source": [
    "df_pivot = df.pivot_table(index=\"PRODUCT\", columns = \"RECORD_TIME\", values = \"LISTING_COUNT\")"
   ]
  },
  {
   "cell_type": "code",
   "execution_count": 6,
   "id": "union-huntington",
   "metadata": {
    "execution": {
     "iopub.execute_input": "2021-11-27T13:00:11.876383Z",
     "iopub.status.busy": "2021-11-27T13:00:11.874218Z",
     "iopub.status.idle": "2021-11-27T13:00:11.878956Z",
     "shell.execute_reply": "2021-11-27T13:00:11.880835Z"
    },
    "papermill": {
     "duration": 0.043367,
     "end_time": "2021-11-27T13:00:11.881306",
     "exception": false,
     "start_time": "2021-11-27T13:00:11.837939",
     "status": "completed"
    },
    "tags": []
   },
   "outputs": [],
   "source": [
    "df_pivot.columns = [\"stamp_1\", \"stamp_2\"]\n",
    "df_pivot_diff = df_pivot.diff(axis=1)"
   ]
  },
  {
   "cell_type": "code",
   "execution_count": 7,
   "id": "fifth-motion",
   "metadata": {
    "execution": {
     "iopub.execute_input": "2021-11-27T13:00:11.941806Z",
     "iopub.status.busy": "2021-11-27T13:00:11.939462Z",
     "iopub.status.idle": "2021-11-27T13:00:13.998561Z",
     "shell.execute_reply": "2021-11-27T13:00:13.999840Z"
    },
    "papermill": {
     "duration": 2.097713,
     "end_time": "2021-11-27T13:00:14.000253",
     "exception": false,
     "start_time": "2021-11-27T13:00:11.902540",
     "status": "completed"
    },
    "tags": []
   },
   "outputs": [
    {
     "data": {
      "text/plain": [
       "<AxesSubplot:ylabel='PRODUCT'>"
      ]
     },
     "execution_count": 7,
     "metadata": {},
     "output_type": "execute_result"
    },
    {
     "data": {
      "image/png": "[encoded data removed]",
      "text/plain": [
       "<Figure size 432x288 with 1 Axes>"
      ]
     },
     "metadata": {
      "needs_background": "light"
     },
     "output_type": "display_data"
    }
   ],
   "source": [
    "df_pivot_diff.sort_values(\"stamp_2\", ascending = False)[\"stamp_2\"].head(10).plot.barh()"
   ]
  },
  {
   "cell_type": "code",
   "execution_count": null,
   "id": "extra-executive",
   "metadata": {
    "papermill": {
     "duration": 0.022176,
     "end_time": "2021-11-27T13:00:14.047745",
     "exception": false,
     "start_time": "2021-11-27T13:00:14.025569",
     "status": "completed"
    },
    "tags": []
   },
   "outputs": [],
   "source": []
  }
 ],
 "metadata": {
  "kernelspec": {
   "display_name": "Python 3",
   "language": "python",
   "name": "python3"
  },
  "language_info": {
   "codemirror_mode": {
    "name": "ipython",
    "version": 3
   },
   "file_extension": ".py",
   "mimetype": "text/x-python",
   "name": "python",
   "nbconvert_exporter": "python",
   "pygments_lexer": "ipython3",
   "version": "3.9.5"
  },
  "papermill": {
   "default_parameters": {},
   "duration": 9.928348,
   "end_time": "2021-11-27T13:00:15.378822",
   "environment_variables": {},
   "exception": null,
   "input_path": "eBay_Overview.ipynb",
   "output_path": "eBay_Overview.ipynb",
   "parameters": {},
   "start_time": "2021-11-27T13:00:05.450474",
   "version": "2.3.3"
  }
 },
 "nbformat": 4,
 "nbformat_minor": 5
}