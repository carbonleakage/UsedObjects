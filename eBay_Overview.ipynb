{
 "cells": [
  {
   "cell_type": "code",
   "execution_count": 1,
   "id": "reverse-picking",
   "metadata": {
    "execution": {
     "iopub.execute_input": "2021-11-02T07:30:07.688358Z",
     "iopub.status.busy": "2021-11-02T07:30:07.685958Z",
     "iopub.status.idle": "2021-11-02T07:30:08.624568Z",
     "shell.execute_reply": "2021-11-02T07:30:08.626843Z"
    },
    "papermill": {
     "duration": 0.98901,
     "end_time": "2021-11-02T07:30:08.627588",
     "exception": false,
     "start_time": "2021-11-02T07:30:07.638578",
     "status": "completed"
    },
    "tags": []
   },
   "outputs": [],
   "source": [
    "import pandas as pd\n",
    "import sqlite3"
   ]
  },
  {
   "cell_type": "code",
   "execution_count": 2,
   "id": "innovative-syndrome",
   "metadata": {
    "execution": {
     "iopub.execute_input": "2021-11-02T07:30:08.703753Z",
     "iopub.status.busy": "2021-11-02T07:30:08.700030Z",
     "iopub.status.idle": "2021-11-02T07:30:09.411950Z",
     "shell.execute_reply": "2021-11-02T07:30:09.413619Z"
    },
    "papermill": {
     "duration": 0.755614,
     "end_time": "2021-11-02T07:30:09.414110",
     "exception": false,
     "start_time": "2021-11-02T07:30:08.658496",
     "status": "completed"
    },
    "tags": []
   },
   "outputs": [],
   "source": [
    "timestamps = pd.read_sql(\"select distinct record_time from EBAY_TOP_BERLIN order by record_time desc limit 2\", sqlite3.connect(\"UsedObjects.db\"))"
   ]
  },
  {
   "cell_type": "code",
   "execution_count": 3,
   "id": "periodic-identification",
   "metadata": {
    "execution": {
     "iopub.execute_input": "2021-11-02T07:30:09.485923Z",
     "iopub.status.busy": "2021-11-02T07:30:09.483586Z",
     "iopub.status.idle": "2021-11-02T07:30:09.505970Z",
     "shell.execute_reply": "2021-11-02T07:30:09.507376Z"
    },
    "papermill": {
     "duration": 0.072378,
     "end_time": "2021-11-02T07:30:09.507853",
     "exception": false,
     "start_time": "2021-11-02T07:30:09.435475",
     "status": "completed"
    },
    "tags": []
   },
   "outputs": [
    {
     "data": {
      "text/html": [
       "<div>\n",
       "<style scoped>\n",
       "    .dataframe tbody tr th:only-of-type {\n",
       "        vertical-align: middle;\n",
       "    }\n",
       "\n",
       "    .dataframe tbody tr th {\n",
       "        vertical-align: top;\n",
       "    }\n",
       "\n",
       "    .dataframe thead th {\n",
       "        text-align: right;\n",
       "    }\n",
       "</style>\n",
       "<table border=\"1\" class=\"dataframe\">\n",
       "  <thead>\n",
       "    <tr style=\"text-align: right;\">\n",
       "      <th></th>\n",
       "      <th>RECORD_TIME</th>\n",
       "    </tr>\n",
       "  </thead>\n",
       "  <tbody>\n",
       "    <tr>\n",
       "      <th>0</th>\n",
       "      <td>2021-11-02 08:30</td>\n",
       "    </tr>\n",
       "    <tr>\n",
       "      <th>1</th>\n",
       "      <td>2021-11-02 08:00</td>\n",
       "    </tr>\n",
       "  </tbody>\n",
       "</table>\n",
       "</div>"
      ],
      "text/plain": [
       "        RECORD_TIME\n",
       "0  2021-11-02 08:30\n",
       "1  2021-11-02 08:00"
      ]
     },
     "execution_count": 3,
     "metadata": {},
     "output_type": "execute_result"
    }
   ],
   "source": [
    "timestamps"
   ]
  },
  {
   "cell_type": "code",
   "execution_count": 4,
   "id": "alternate-victory",
   "metadata": {
    "execution": {
     "iopub.execute_input": "2021-11-02T07:30:09.563450Z",
     "iopub.status.busy": "2021-11-02T07:30:09.561248Z",
     "iopub.status.idle": "2021-11-02T07:30:10.588946Z",
     "shell.execute_reply": "2021-11-02T07:30:10.590522Z"
    },
    "papermill": {
     "duration": 1.061528,
     "end_time": "2021-11-02T07:30:10.591004",
     "exception": false,
     "start_time": "2021-11-02T07:30:09.529476",
     "status": "completed"
    },
    "tags": []
   },
   "outputs": [],
   "source": [
    "df = pd.read_sql(\"select * from EBAY_TOP_BERLIN where record_time in (select distinct record_time from EBAY_TOP_BERLIN order by record_time desc limit 2)\", sqlite3.connect(\"UsedObjects.db\"))"
   ]
  },
  {
   "cell_type": "code",
   "execution_count": 5,
   "id": "popular-active",
   "metadata": {
    "execution": {
     "iopub.execute_input": "2021-11-02T07:30:10.679593Z",
     "iopub.status.busy": "2021-11-02T07:30:10.676025Z",
     "iopub.status.idle": "2021-11-02T07:30:10.717816Z",
     "shell.execute_reply": "2021-11-02T07:30:10.719420Z"
    },
    "papermill": {
     "duration": 0.104691,
     "end_time": "2021-11-02T07:30:10.719874",
     "exception": false,
     "start_time": "2021-11-02T07:30:10.615183",
     "status": "completed"
    },
    "tags": []
   },
   "outputs": [],
   "source": [
    "df_pivot = df.pivot_table(index=\"PRODUCT\", columns = \"RECORD_TIME\", values = \"LISTING_COUNT\")"
   ]
  },
  {
   "cell_type": "code",
   "execution_count": 6,
   "id": "union-huntington",
   "metadata": {
    "execution": {
     "iopub.execute_input": "2021-11-02T07:30:10.782776Z",
     "iopub.status.busy": "2021-11-02T07:30:10.780608Z",
     "iopub.status.idle": "2021-11-02T07:30:10.787045Z",
     "shell.execute_reply": "2021-11-02T07:30:10.788413Z"
    },
    "papermill": {
     "duration": 0.047219,
     "end_time": "2021-11-02T07:30:10.788921",
     "exception": false,
     "start_time": "2021-11-02T07:30:10.741702",
     "status": "completed"
    },
    "tags": []
   },
   "outputs": [],
   "source": [
    "df_pivot.columns = [\"stamp_1\", \"stamp_2\"]\n",
    "df_pivot_diff = df_pivot.diff(axis=1)"
   ]
  },
  {
   "cell_type": "code",
   "execution_count": 7,
   "id": "fifth-motion",
   "metadata": {
    "execution": {
     "iopub.execute_input": "2021-11-02T07:30:10.845462Z",
     "iopub.status.busy": "2021-11-02T07:30:10.842808Z",
     "iopub.status.idle": "2021-11-02T07:30:12.748420Z",
     "shell.execute_reply": "2021-11-02T07:30:12.750799Z"
    },
    "papermill": {
     "duration": 1.942106,
     "end_time": "2021-11-02T07:30:12.751450",
     "exception": false,
     "start_time": "2021-11-02T07:30:10.809344",
     "status": "completed"
    },
    "tags": []
   },
   "outputs": [
    {
     "data": {
      "text/plain": [
       "<AxesSubplot:ylabel='PRODUCT'>"
      ]
     },
     "execution_count": 7,
     "metadata": {},
     "output_type": "execute_result"
    },
    {
     "data": {
      "image/png": "[encoded data removed]",
      "text/plain": [
       "<Figure size 432x288 with 1 Axes>"
      ]
     },
     "metadata": {
      "needs_background": "light"
     },
     "output_type": "display_data"
    }
   ],
   "source": [
    "df_pivot_diff.sort_values(\"stamp_2\", ascending = False)[\"stamp_2\"].head(10).plot.barh()"
   ]
  },
  {
   "cell_type": "code",
   "execution_count": null,
   "id": "extra-executive",
   "metadata": {
    "papermill": {
     "duration": 0.036105,
     "end_time": "2021-11-02T07:30:12.822229",
     "exception": false,
     "start_time": "2021-11-02T07:30:12.786124",
     "status": "completed"
    },
    "tags": []
   },
   "outputs": [],
   "source": []
  }
 ],
 "metadata": {
  "kernelspec": {
   "display_name": "Python 3",
   "language": "python",
   "name": "python3"
  },
  "language_info": {
   "codemirror_mode": {
    "name": "ipython",
    "version": 3
   },
   "file_extension": ".py",
   "mimetype": "text/x-python",
   "name": "python",
   "nbconvert_exporter": "python",
   "pygments_lexer": "ipython3",
   "version": "3.9.5"
  },
  "papermill": {
   "default_parameters": {},
   "duration": 8.663935,
   "end_time": "2021-11-02T07:30:13.586188",
   "environment_variables": {},
   "exception": null,
   "input_path": "eBay_Overview.ipynb",
   "output_path": "eBay_Overview.ipynb",
   "parameters": {},
   "start_time": "2021-11-02T07:30:04.922253",
   "version": "2.3.3"
  }
 },
 "nbformat": 4,
 "nbformat_minor": 5
}