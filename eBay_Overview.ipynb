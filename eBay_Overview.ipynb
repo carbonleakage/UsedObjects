{
 "cells": [
  {
   "cell_type": "code",
   "execution_count": 1,
   "id": "reverse-picking",
   "metadata": {
    "execution": {
     "iopub.execute_input": "2021-11-10T09:00:07.525064Z",
     "iopub.status.busy": "2021-11-10T09:00:07.522729Z",
     "iopub.status.idle": "2021-11-10T09:00:08.479062Z",
     "shell.execute_reply": "2021-11-10T09:00:08.480926Z"
    },
    "papermill": {
     "duration": 1.007799,
     "end_time": "2021-11-10T09:00:08.481785",
     "exception": false,
     "start_time": "2021-11-10T09:00:07.473986",
     "status": "completed"
    },
    "tags": []
   },
   "outputs": [],
   "source": [
    "import pandas as pd\n",
    "import sqlite3"
   ]
  },
  {
   "cell_type": "code",
   "execution_count": 2,
   "id": "innovative-syndrome",
   "metadata": {
    "execution": {
     "iopub.execute_input": "2021-11-10T09:00:08.552493Z",
     "iopub.status.busy": "2021-11-10T09:00:08.550273Z",
     "iopub.status.idle": "2021-11-10T09:00:09.310483Z",
     "shell.execute_reply": "2021-11-10T09:00:09.311988Z"
    },
    "papermill": {
     "duration": 0.805407,
     "end_time": "2021-11-10T09:00:09.312480",
     "exception": false,
     "start_time": "2021-11-10T09:00:08.507073",
     "status": "completed"
    },
    "tags": []
   },
   "outputs": [],
   "source": [
    "timestamps = pd.read_sql(\"select distinct record_time from EBAY_TOP_BERLIN order by record_time desc limit 2\", sqlite3.connect(\"UsedObjects.db\"))"
   ]
  },
  {
   "cell_type": "code",
   "execution_count": 3,
   "id": "periodic-identification",
   "metadata": {
    "execution": {
     "iopub.execute_input": "2021-11-10T09:00:09.382960Z",
     "iopub.status.busy": "2021-11-10T09:00:09.380202Z",
     "iopub.status.idle": "2021-11-10T09:00:09.406517Z",
     "shell.execute_reply": "2021-11-10T09:00:09.404342Z"
    },
    "papermill": {
     "duration": 0.07421,
     "end_time": "2021-11-10T09:00:09.407046",
     "exception": false,
     "start_time": "2021-11-10T09:00:09.332836",
     "status": "completed"
    },
    "tags": []
   },
   "outputs": [
    {
     "data": {
      "text/html": [
       "<div>\n",
       "<style scoped>\n",
       "    .dataframe tbody tr th:only-of-type {\n",
       "        vertical-align: middle;\n",
       "    }\n",
       "\n",
       "    .dataframe tbody tr th {\n",
       "        vertical-align: top;\n",
       "    }\n",
       "\n",
       "    .dataframe thead th {\n",
       "        text-align: right;\n",
       "    }\n",
       "</style>\n",
       "<table border=\"1\" class=\"dataframe\">\n",
       "  <thead>\n",
       "    <tr style=\"text-align: right;\">\n",
       "      <th></th>\n",
       "      <th>RECORD_TIME</th>\n",
       "    </tr>\n",
       "  </thead>\n",
       "  <tbody>\n",
       "    <tr>\n",
       "      <th>0</th>\n",
       "      <td>2021-11-10 10:00</td>\n",
       "    </tr>\n",
       "    <tr>\n",
       "      <th>1</th>\n",
       "      <td>2021-11-10 09:30</td>\n",
       "    </tr>\n",
       "  </tbody>\n",
       "</table>\n",
       "</div>"
      ],
      "text/plain": [
       "        RECORD_TIME\n",
       "0  2021-11-10 10:00\n",
       "1  2021-11-10 09:30"
      ]
     },
     "execution_count": 3,
     "metadata": {},
     "output_type": "execute_result"
    }
   ],
   "source": [
    "timestamps"
   ]
  },
  {
   "cell_type": "code",
   "execution_count": 4,
   "id": "alternate-victory",
   "metadata": {
    "execution": {
     "iopub.execute_input": "2021-11-10T09:00:09.460631Z",
     "iopub.status.busy": "2021-11-10T09:00:09.458782Z",
     "iopub.status.idle": "2021-11-10T09:00:10.636501Z",
     "shell.execute_reply": "2021-11-10T09:00:10.638228Z"
    },
    "papermill": {
     "duration": 1.208034,
     "end_time": "2021-11-10T09:00:10.638719",
     "exception": false,
     "start_time": "2021-11-10T09:00:09.430685",
     "status": "completed"
    },
    "tags": []
   },
   "outputs": [],
   "source": [
    "df = pd.read_sql(\"select * from EBAY_TOP_BERLIN where record_time in (select distinct record_time from EBAY_TOP_BERLIN order by record_time desc limit 2)\", sqlite3.connect(\"UsedObjects.db\"))"
   ]
  },
  {
   "cell_type": "code",
   "execution_count": 5,
   "id": "popular-active",
   "metadata": {
    "execution": {
     "iopub.execute_input": "2021-11-10T09:00:10.703465Z",
     "iopub.status.busy": "2021-11-10T09:00:10.701130Z",
     "iopub.status.idle": "2021-11-10T09:00:10.734892Z",
     "shell.execute_reply": "2021-11-10T09:00:10.736955Z"
    },
    "papermill": {
     "duration": 0.077709,
     "end_time": "2021-11-10T09:00:10.737455",
     "exception": false,
     "start_time": "2021-11-10T09:00:10.659746",
     "status": "completed"
    },
    "tags": []
   },
   "outputs": [],
   "source": [
    "df_pivot = df.pivot_table(index=\"PRODUCT\", columns = \"RECORD_TIME\", values = \"LISTING_COUNT\")"
   ]
  },
  {
   "cell_type": "code",
   "execution_count": 6,
   "id": "union-huntington",
   "metadata": {
    "execution": {
     "iopub.execute_input": "2021-11-10T09:00:10.798713Z",
     "iopub.status.busy": "2021-11-10T09:00:10.796060Z",
     "iopub.status.idle": "2021-11-10T09:00:10.804116Z",
     "shell.execute_reply": "2021-11-10T09:00:10.802330Z"
    },
    "papermill": {
     "duration": 0.04616,
     "end_time": "2021-11-10T09:00:10.804550",
     "exception": false,
     "start_time": "2021-11-10T09:00:10.758390",
     "status": "completed"
    },
    "tags": []
   },
   "outputs": [],
   "source": [
    "df_pivot.columns = [\"stamp_1\", \"stamp_2\"]\n",
    "df_pivot_diff = df_pivot.diff(axis=1)"
   ]
  },
  {
   "cell_type": "code",
   "execution_count": 7,
   "id": "fifth-motion",
   "metadata": {
    "execution": {
     "iopub.execute_input": "2021-11-10T09:00:10.863347Z",
     "iopub.status.busy": "2021-11-10T09:00:10.860900Z",
     "iopub.status.idle": "2021-11-10T09:00:12.803277Z",
     "shell.execute_reply": "2021-11-10T09:00:12.805054Z"
    },
    "papermill": {
     "duration": 1.979538,
     "end_time": "2021-11-10T09:00:12.805659",
     "exception": false,
     "start_time": "2021-11-10T09:00:10.826121",
     "status": "completed"
    },
    "tags": []
   },
   "outputs": [
    {
     "data": {
      "text/plain": [
       "<AxesSubplot:ylabel='PRODUCT'>"
      ]
     },
     "execution_count": 7,
     "metadata": {},
     "output_type": "execute_result"
    },
    {
     "data": {
      "image/png": "[encoded data removed]",
      "text/plain": [
       "<Figure size 432x288 with 1 Axes>"
      ]
     },
     "metadata": {
      "needs_background": "light"
     },
     "output_type": "display_data"
    }
   ],
   "source": [
    "df_pivot_diff.sort_values(\"stamp_2\", ascending = False)[\"stamp_2\"].head(10).plot.barh()"
   ]
  },
  {
   "cell_type": "code",
   "execution_count": null,
   "id": "extra-executive",
   "metadata": {
    "papermill": {
     "duration": 0.036445,
     "end_time": "2021-11-10T09:00:12.869386",
     "exception": false,
     "start_time": "2021-11-10T09:00:12.832941",
     "status": "completed"
    },
    "tags": []
   },
   "outputs": [],
   "source": []
  }
 ],
 "metadata": {
  "kernelspec": {
   "display_name": "Python 3",
   "language": "python",
   "name": "python3"
  },
  "language_info": {
   "codemirror_mode": {
    "name": "ipython",
    "version": 3
   },
   "file_extension": ".py",
   "mimetype": "text/x-python",
   "name": "python",
   "nbconvert_exporter": "python",
   "pygments_lexer": "ipython3",
   "version": "3.9.5"
  },
  "papermill": {
   "default_parameters": {},
   "duration": 9.94423,
   "end_time": "2021-11-10T09:00:14.681963",
   "environment_variables": {},
   "exception": null,
   "input_path": "eBay_Overview.ipynb",
   "output_path": "eBay_Overview.ipynb",
   "parameters": {},
   "start_time": "2021-11-10T09:00:04.737733",
   "version": "2.3.3"
  }
 },
 "nbformat": 4,
 "nbformat_minor": 5
}