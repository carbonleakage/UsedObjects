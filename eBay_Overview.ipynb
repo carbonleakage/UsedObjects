{
 "cells": [
  {
   "cell_type": "code",
   "execution_count": 1,
   "id": "reverse-picking",
   "metadata": {
    "execution": {
     "iopub.execute_input": "2021-11-30T03:30:07.626220Z",
     "iopub.status.busy": "2021-11-30T03:30:07.623931Z",
     "iopub.status.idle": "2021-11-30T03:30:08.581810Z",
     "shell.execute_reply": "2021-11-30T03:30:08.583463Z"
    },
    "papermill": {
     "duration": 1.008133,
     "end_time": "2021-11-30T03:30:08.584203",
     "exception": false,
     "start_time": "2021-11-30T03:30:07.576070",
     "status": "completed"
    },
    "tags": []
   },
   "outputs": [],
   "source": [
    "import pandas as pd\n",
    "import sqlite3"
   ]
  },
  {
   "cell_type": "code",
   "execution_count": 2,
   "id": "innovative-syndrome",
   "metadata": {
    "execution": {
     "iopub.execute_input": "2021-11-30T03:30:08.649419Z",
     "iopub.status.busy": "2021-11-30T03:30:08.646779Z",
     "iopub.status.idle": "2021-11-30T03:30:09.608902Z",
     "shell.execute_reply": "2021-11-30T03:30:09.607295Z"
    },
    "papermill": {
     "duration": 0.995347,
     "end_time": "2021-11-30T03:30:09.609382",
     "exception": false,
     "start_time": "2021-11-30T03:30:08.614035",
     "status": "completed"
    },
    "tags": []
   },
   "outputs": [],
   "source": [
    "timestamps = pd.read_sql(\"select distinct record_time from EBAY_TOP_BERLIN order by record_time desc limit 2\", sqlite3.connect(\"UsedObjects.db\"))"
   ]
  },
  {
   "cell_type": "code",
   "execution_count": 3,
   "id": "periodic-identification",
   "metadata": {
    "execution": {
     "iopub.execute_input": "2021-11-30T03:30:09.683740Z",
     "iopub.status.busy": "2021-11-30T03:30:09.681201Z",
     "iopub.status.idle": "2021-11-30T03:30:09.704147Z",
     "shell.execute_reply": "2021-11-30T03:30:09.705697Z"
    },
    "papermill": {
     "duration": 0.075103,
     "end_time": "2021-11-30T03:30:09.706210",
     "exception": false,
     "start_time": "2021-11-30T03:30:09.631107",
     "status": "completed"
    },
    "tags": []
   },
   "outputs": [
    {
     "data": {
      "text/html": [
       "<div>\n",
       "<style scoped>\n",
       "    .dataframe tbody tr th:only-of-type {\n",
       "        vertical-align: middle;\n",
       "    }\n",
       "\n",
       "    .dataframe tbody tr th {\n",
       "        vertical-align: top;\n",
       "    }\n",
       "\n",
       "    .dataframe thead th {\n",
       "        text-align: right;\n",
       "    }\n",
       "</style>\n",
       "<table border=\"1\" class=\"dataframe\">\n",
       "  <thead>\n",
       "    <tr style=\"text-align: right;\">\n",
       "      <th></th>\n",
       "      <th>RECORD_TIME</th>\n",
       "    </tr>\n",
       "  </thead>\n",
       "  <tbody>\n",
       "    <tr>\n",
       "      <th>0</th>\n",
       "      <td>2021-11-30 04:30</td>\n",
       "    </tr>\n",
       "    <tr>\n",
       "      <th>1</th>\n",
       "      <td>2021-11-30 04:00</td>\n",
       "    </tr>\n",
       "  </tbody>\n",
       "</table>\n",
       "</div>"
      ],
      "text/plain": [
       "        RECORD_TIME\n",
       "0  2021-11-30 04:30\n",
       "1  2021-11-30 04:00"
      ]
     },
     "execution_count": 3,
     "metadata": {},
     "output_type": "execute_result"
    }
   ],
   "source": [
    "timestamps"
   ]
  },
  {
   "cell_type": "code",
   "execution_count": 4,
   "id": "alternate-victory",
   "metadata": {
    "execution": {
     "iopub.execute_input": "2021-11-30T03:30:09.763012Z",
     "iopub.status.busy": "2021-11-30T03:30:09.760793Z",
     "iopub.status.idle": "2021-11-30T03:30:11.135094Z",
     "shell.execute_reply": "2021-11-30T03:30:11.136544Z"
    },
    "papermill": {
     "duration": 1.409748,
     "end_time": "2021-11-30T03:30:11.137138",
     "exception": false,
     "start_time": "2021-11-30T03:30:09.727390",
     "status": "completed"
    },
    "tags": []
   },
   "outputs": [],
   "source": [
    "df = pd.read_sql(\"select * from EBAY_TOP_BERLIN where record_time in (select distinct record_time from EBAY_TOP_BERLIN order by record_time desc limit 2)\", sqlite3.connect(\"UsedObjects.db\"))"
   ]
  },
  {
   "cell_type": "code",
   "execution_count": 5,
   "id": "popular-active",
   "metadata": {
    "execution": {
     "iopub.execute_input": "2021-11-30T03:30:11.219012Z",
     "iopub.status.busy": "2021-11-30T03:30:11.203882Z",
     "iopub.status.idle": "2021-11-30T03:30:11.236070Z",
     "shell.execute_reply": "2021-11-30T03:30:11.237603Z"
    },
    "papermill": {
     "duration": 0.078163,
     "end_time": "2021-11-30T03:30:11.238097",
     "exception": false,
     "start_time": "2021-11-30T03:30:11.159934",
     "status": "completed"
    },
    "tags": []
   },
   "outputs": [],
   "source": [
    "df_pivot = df.pivot_table(index=\"PRODUCT\", columns = \"RECORD_TIME\", values = \"LISTING_COUNT\")"
   ]
  },
  {
   "cell_type": "code",
   "execution_count": 6,
   "id": "union-huntington",
   "metadata": {
    "execution": {
     "iopub.execute_input": "2021-11-30T03:30:11.297972Z",
     "iopub.status.busy": "2021-11-30T03:30:11.295692Z",
     "iopub.status.idle": "2021-11-30T03:30:11.301204Z",
     "shell.execute_reply": "2021-11-30T03:30:11.302575Z"
    },
    "papermill": {
     "duration": 0.044519,
     "end_time": "2021-11-30T03:30:11.303054",
     "exception": false,
     "start_time": "2021-11-30T03:30:11.258535",
     "status": "completed"
    },
    "tags": []
   },
   "outputs": [],
   "source": [
    "df_pivot.columns = [\"stamp_1\", \"stamp_2\"]\n",
    "df_pivot_diff = df_pivot.diff(axis=1)"
   ]
  },
  {
   "cell_type": "code",
   "execution_count": 7,
   "id": "fifth-motion",
   "metadata": {
    "execution": {
     "iopub.execute_input": "2021-11-30T03:30:11.364182Z",
     "iopub.status.busy": "2021-11-30T03:30:11.361654Z",
     "iopub.status.idle": "2021-11-30T03:30:13.334566Z",
     "shell.execute_reply": "2021-11-30T03:30:13.337801Z"
    },
    "papermill": {
     "duration": 2.014977,
     "end_time": "2021-11-30T03:30:13.338795",
     "exception": false,
     "start_time": "2021-11-30T03:30:11.323818",
     "status": "completed"
    },
    "tags": []
   },
   "outputs": [
    {
     "data": {
      "text/plain": [
       "<AxesSubplot:ylabel='PRODUCT'>"
      ]
     },
     "execution_count": 7,
     "metadata": {},
     "output_type": "execute_result"
    },
    {
     "data": {
      "image/png": "[encoded data removed]",
      "text/plain": [
       "<Figure size 432x288 with 1 Axes>"
      ]
     },
     "metadata": {
      "needs_background": "light"
     },
     "output_type": "display_data"
    }
   ],
   "source": [
    "df_pivot_diff.sort_values(\"stamp_2\", ascending = False)[\"stamp_2\"].head(10).plot.barh()"
   ]
  },
  {
   "cell_type": "code",
   "execution_count": null,
   "id": "extra-executive",
   "metadata": {
    "papermill": {
     "duration": 0.034464,
     "end_time": "2021-11-30T03:30:13.411467",
     "exception": false,
     "start_time": "2021-11-30T03:30:13.377003",
     "status": "completed"
    },
    "tags": []
   },
   "outputs": [],
   "source": []
  }
 ],
 "metadata": {
  "kernelspec": {
   "display_name": "Python 3",
   "language": "python",
   "name": "python3"
  },
  "language_info": {
   "codemirror_mode": {
    "name": "ipython",
    "version": 3
   },
   "file_extension": ".py",
   "mimetype": "text/x-python",
   "name": "python",
   "nbconvert_exporter": "python",
   "pygments_lexer": "ipython3",
   "version": "3.9.5"
  },
  "papermill": {
   "default_parameters": {},
   "duration": 9.948586,
   "end_time": "2021-11-30T03:30:14.776030",
   "environment_variables": {},
   "exception": null,
   "input_path": "eBay_Overview.ipynb",
   "output_path": "eBay_Overview.ipynb",
   "parameters": {},
   "start_time": "2021-11-30T03:30:04.827444",
   "version": "2.3.3"
  }
 },
 "nbformat": 4,
 "nbformat_minor": 5
}