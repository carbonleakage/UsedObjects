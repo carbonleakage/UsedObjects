{
 "cells": [
  {
   "cell_type": "code",
   "execution_count": 1,
   "id": "reverse-picking",
   "metadata": {
    "execution": {
     "iopub.execute_input": "2021-08-31T15:30:06.876779Z",
     "iopub.status.busy": "2021-08-31T15:30:06.874627Z",
     "iopub.status.idle": "2021-08-31T15:30:07.678513Z",
     "shell.execute_reply": "2021-08-31T15:30:07.679974Z"
    },
    "papermill": {
     "duration": 0.85672,
     "end_time": "2021-08-31T15:30:07.680617",
     "exception": false,
     "start_time": "2021-08-31T15:30:06.823897",
     "status": "completed"
    },
    "tags": []
   },
   "outputs": [],
   "source": [
    "import pandas as pd\n",
    "import sqlite3"
   ]
  },
  {
   "cell_type": "code",
   "execution_count": 2,
   "id": "innovative-syndrome",
   "metadata": {
    "execution": {
     "iopub.execute_input": "2021-08-31T15:30:07.731729Z",
     "iopub.status.busy": "2021-08-31T15:30:07.729745Z",
     "iopub.status.idle": "2021-08-31T15:30:07.899794Z",
     "shell.execute_reply": "2021-08-31T15:30:07.901080Z"
    },
    "papermill": {
     "duration": 0.200058,
     "end_time": "2021-08-31T15:30:07.901529",
     "exception": false,
     "start_time": "2021-08-31T15:30:07.701471",
     "status": "completed"
    },
    "tags": []
   },
   "outputs": [],
   "source": [
    "timestamps = pd.read_sql(\"select distinct record_time from EBAY_TOP_BERLIN order by record_time desc limit 2\", sqlite3.connect(\"UsedObjects.db\"))"
   ]
  },
  {
   "cell_type": "code",
   "execution_count": 3,
   "id": "periodic-identification",
   "metadata": {
    "execution": {
     "iopub.execute_input": "2021-08-31T15:30:07.968030Z",
     "iopub.status.busy": "2021-08-31T15:30:07.965946Z",
     "iopub.status.idle": "2021-08-31T15:30:07.985673Z",
     "shell.execute_reply": "2021-08-31T15:30:07.987005Z"
    },
    "papermill": {
     "duration": 0.066205,
     "end_time": "2021-08-31T15:30:07.987423",
     "exception": false,
     "start_time": "2021-08-31T15:30:07.921218",
     "status": "completed"
    },
    "tags": []
   },
   "outputs": [
    {
     "data": {
      "text/html": [
       "<div>\n",
       "<style scoped>\n",
       "    .dataframe tbody tr th:only-of-type {\n",
       "        vertical-align: middle;\n",
       "    }\n",
       "\n",
       "    .dataframe tbody tr th {\n",
       "        vertical-align: top;\n",
       "    }\n",
       "\n",
       "    .dataframe thead th {\n",
       "        text-align: right;\n",
       "    }\n",
       "</style>\n",
       "<table border=\"1\" class=\"dataframe\">\n",
       "  <thead>\n",
       "    <tr style=\"text-align: right;\">\n",
       "      <th></th>\n",
       "      <th>RECORD_TIME</th>\n",
       "    </tr>\n",
       "  </thead>\n",
       "  <tbody>\n",
       "    <tr>\n",
       "      <th>0</th>\n",
       "      <td>2021-08-31 17:30</td>\n",
       "    </tr>\n",
       "    <tr>\n",
       "      <th>1</th>\n",
       "      <td>2021-08-31 17:00</td>\n",
       "    </tr>\n",
       "  </tbody>\n",
       "</table>\n",
       "</div>"
      ],
      "text/plain": [
       "        RECORD_TIME\n",
       "0  2021-08-31 17:30\n",
       "1  2021-08-31 17:00"
      ]
     },
     "execution_count": 3,
     "metadata": {},
     "output_type": "execute_result"
    }
   ],
   "source": [
    "timestamps"
   ]
  },
  {
   "cell_type": "code",
   "execution_count": 4,
   "id": "alternate-victory",
   "metadata": {
    "execution": {
     "iopub.execute_input": "2021-08-31T15:30:08.037426Z",
     "iopub.status.busy": "2021-08-31T15:30:08.035567Z",
     "iopub.status.idle": "2021-08-31T15:30:08.290045Z",
     "shell.execute_reply": "2021-08-31T15:30:08.288743Z"
    },
    "papermill": {
     "duration": 0.282822,
     "end_time": "2021-08-31T15:30:08.290374",
     "exception": false,
     "start_time": "2021-08-31T15:30:08.007552",
     "status": "completed"
    },
    "tags": []
   },
   "outputs": [],
   "source": [
    "df = pd.read_sql(\"select * from EBAY_TOP_BERLIN where record_time in (select distinct record_time from EBAY_TOP_BERLIN order by record_time desc limit 2)\", sqlite3.connect(\"UsedObjects.db\"))"
   ]
  },
  {
   "cell_type": "code",
   "execution_count": 5,
   "id": "popular-active",
   "metadata": {
    "execution": {
     "iopub.execute_input": "2021-08-31T15:30:08.368680Z",
     "iopub.status.busy": "2021-08-31T15:30:08.356860Z",
     "iopub.status.idle": "2021-08-31T15:30:08.384631Z",
     "shell.execute_reply": "2021-08-31T15:30:08.385901Z"
    },
    "papermill": {
     "duration": 0.070463,
     "end_time": "2021-08-31T15:30:08.386304",
     "exception": false,
     "start_time": "2021-08-31T15:30:08.315841",
     "status": "completed"
    },
    "tags": []
   },
   "outputs": [],
   "source": [
    "df_pivot = df.pivot_table(index=\"PRODUCT\", columns = \"RECORD_TIME\", values = \"LISTING_COUNT\")"
   ]
  },
  {
   "cell_type": "code",
   "execution_count": 6,
   "id": "union-huntington",
   "metadata": {
    "execution": {
     "iopub.execute_input": "2021-08-31T15:30:08.442102Z",
     "iopub.status.busy": "2021-08-31T15:30:08.440043Z",
     "iopub.status.idle": "2021-08-31T15:30:08.445249Z",
     "shell.execute_reply": "2021-08-31T15:30:08.446527Z"
    },
    "papermill": {
     "duration": 0.039771,
     "end_time": "2021-08-31T15:30:08.446985",
     "exception": false,
     "start_time": "2021-08-31T15:30:08.407214",
     "status": "completed"
    },
    "tags": []
   },
   "outputs": [],
   "source": [
    "df_pivot.columns = [\"stamp_1\", \"stamp_2\"]\n",
    "df_pivot_diff = df_pivot.diff(axis=1)"
   ]
  },
  {
   "cell_type": "code",
   "execution_count": 7,
   "id": "fifth-motion",
   "metadata": {
    "execution": {
     "iopub.execute_input": "2021-08-31T15:30:08.502005Z",
     "iopub.status.busy": "2021-08-31T15:30:08.499602Z",
     "iopub.status.idle": "2021-08-31T15:30:09.961845Z",
     "shell.execute_reply": "2021-08-31T15:30:09.963331Z"
    },
    "papermill": {
     "duration": 1.495343,
     "end_time": "2021-08-31T15:30:09.963809",
     "exception": false,
     "start_time": "2021-08-31T15:30:08.468466",
     "status": "completed"
    },
    "tags": []
   },
   "outputs": [
    {
     "data": {
      "text/plain": [
       "<AxesSubplot:ylabel='PRODUCT'>"
      ]
     },
     "execution_count": 7,
     "metadata": {},
     "output_type": "execute_result"
    },
    {
     "data": {
      "image/png": "[encoded data removed]",
      "text/plain": [
       "<Figure size 432x288 with 1 Axes>"
      ]
     },
     "metadata": {
      "needs_background": "light"
     },
     "output_type": "display_data"
    }
   ],
   "source": [
    "df_pivot_diff.sort_values(\"stamp_2\", ascending = False)[\"stamp_2\"].head(10).plot.barh()"
   ]
  },
  {
   "cell_type": "code",
   "execution_count": null,
   "id": "extra-executive",
   "metadata": {
    "papermill": {
     "duration": 0.021758,
     "end_time": "2021-08-31T15:30:10.009954",
     "exception": false,
     "start_time": "2021-08-31T15:30:09.988196",
     "status": "completed"
    },
    "tags": []
   },
   "outputs": [],
   "source": []
  }
 ],
 "metadata": {
  "kernelspec": {
   "display_name": "Python 3",
   "language": "python",
   "name": "python3"
  },
  "language_info": {
   "codemirror_mode": {
    "name": "ipython",
    "version": 3
   },
   "file_extension": ".py",
   "mimetype": "text/x-python",
   "name": "python",
   "nbconvert_exporter": "python",
   "pygments_lexer": "ipython3",
   "version": "3.9.5"
  },
  "papermill": {
   "default_parameters": {},
   "duration": 6.824961,
   "end_time": "2021-08-31T15:30:11.253863",
   "environment_variables": {},
   "exception": null,
   "input_path": "eBay_Overview.ipynb",
   "output_path": "eBay_Overview.ipynb",
   "parameters": {},
   "start_time": "2021-08-31T15:30:04.428902",
   "version": "2.3.3"
  }
 },
 "nbformat": 4,
 "nbformat_minor": 5
}