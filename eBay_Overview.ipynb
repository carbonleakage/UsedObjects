{
 "cells": [
  {
   "cell_type": "code",
   "execution_count": 1,
   "id": "reverse-picking",
   "metadata": {
    "execution": {
     "iopub.execute_input": "2021-08-14T00:00:07.263578Z",
     "iopub.status.busy": "2021-08-14T00:00:07.261545Z",
     "iopub.status.idle": "2021-08-14T00:00:08.071466Z",
     "shell.execute_reply": "2021-08-14T00:00:08.072778Z"
    },
    "papermill": {
     "duration": 0.860701,
     "end_time": "2021-08-14T00:00:08.073411",
     "exception": false,
     "start_time": "2021-08-14T00:00:07.212710",
     "status": "completed"
    },
    "tags": []
   },
   "outputs": [],
   "source": [
    "import pandas as pd\n",
    "import sqlite3"
   ]
  },
  {
   "cell_type": "code",
   "execution_count": 2,
   "id": "innovative-syndrome",
   "metadata": {
    "execution": {
     "iopub.execute_input": "2021-08-14T00:00:08.124012Z",
     "iopub.status.busy": "2021-08-14T00:00:08.121570Z",
     "iopub.status.idle": "2021-08-14T00:00:08.168594Z",
     "shell.execute_reply": "2021-08-14T00:00:08.170035Z"
    },
    "papermill": {
     "duration": 0.077295,
     "end_time": "2021-08-14T00:00:08.170459",
     "exception": false,
     "start_time": "2021-08-14T00:00:08.093164",
     "status": "completed"
    },
    "tags": []
   },
   "outputs": [],
   "source": [
    "timestamps = pd.read_sql(\"select distinct record_time from EBAY_TOP_BERLIN order by record_time desc limit 2\", sqlite3.connect(\"UsedObjects.db\"))"
   ]
  },
  {
   "cell_type": "code",
   "execution_count": 3,
   "id": "periodic-identification",
   "metadata": {
    "execution": {
     "iopub.execute_input": "2021-08-14T00:00:08.236793Z",
     "iopub.status.busy": "2021-08-14T00:00:08.234770Z",
     "iopub.status.idle": "2021-08-14T00:00:08.254947Z",
     "shell.execute_reply": "2021-08-14T00:00:08.256233Z"
    },
    "papermill": {
     "duration": 0.067114,
     "end_time": "2021-08-14T00:00:08.256636",
     "exception": false,
     "start_time": "2021-08-14T00:00:08.189522",
     "status": "completed"
    },
    "tags": []
   },
   "outputs": [
    {
     "data": {
      "text/html": [
       "<div>\n",
       "<style scoped>\n",
       "    .dataframe tbody tr th:only-of-type {\n",
       "        vertical-align: middle;\n",
       "    }\n",
       "\n",
       "    .dataframe tbody tr th {\n",
       "        vertical-align: top;\n",
       "    }\n",
       "\n",
       "    .dataframe thead th {\n",
       "        text-align: right;\n",
       "    }\n",
       "</style>\n",
       "<table border=\"1\" class=\"dataframe\">\n",
       "  <thead>\n",
       "    <tr style=\"text-align: right;\">\n",
       "      <th></th>\n",
       "      <th>RECORD_TIME</th>\n",
       "    </tr>\n",
       "  </thead>\n",
       "  <tbody>\n",
       "    <tr>\n",
       "      <th>0</th>\n",
       "      <td>2021-08-14 02:00</td>\n",
       "    </tr>\n",
       "    <tr>\n",
       "      <th>1</th>\n",
       "      <td>2021-08-14 01:30</td>\n",
       "    </tr>\n",
       "  </tbody>\n",
       "</table>\n",
       "</div>"
      ],
      "text/plain": [
       "        RECORD_TIME\n",
       "0  2021-08-14 02:00\n",
       "1  2021-08-14 01:30"
      ]
     },
     "execution_count": 3,
     "metadata": {},
     "output_type": "execute_result"
    }
   ],
   "source": [
    "timestamps"
   ]
  },
  {
   "cell_type": "code",
   "execution_count": 4,
   "id": "alternate-victory",
   "metadata": {
    "execution": {
     "iopub.execute_input": "2021-08-14T00:00:08.308900Z",
     "iopub.status.busy": "2021-08-14T00:00:08.306588Z",
     "iopub.status.idle": "2021-08-14T00:00:08.374369Z",
     "shell.execute_reply": "2021-08-14T00:00:08.375607Z"
    },
    "papermill": {
     "duration": 0.098018,
     "end_time": "2021-08-14T00:00:08.375994",
     "exception": false,
     "start_time": "2021-08-14T00:00:08.277976",
     "status": "completed"
    },
    "tags": []
   },
   "outputs": [],
   "source": [
    "df = pd.read_sql(\"select * from EBAY_TOP_BERLIN where record_time in (select distinct record_time from EBAY_TOP_BERLIN order by record_time desc limit 2)\", sqlite3.connect(\"UsedObjects.db\"))"
   ]
  },
  {
   "cell_type": "code",
   "execution_count": 5,
   "id": "popular-active",
   "metadata": {
    "execution": {
     "iopub.execute_input": "2021-08-14T00:00:08.450721Z",
     "iopub.status.busy": "2021-08-14T00:00:08.437806Z",
     "iopub.status.idle": "2021-08-14T00:00:08.466715Z",
     "shell.execute_reply": "2021-08-14T00:00:08.468006Z"
    },
    "papermill": {
     "duration": 0.069343,
     "end_time": "2021-08-14T00:00:08.468416",
     "exception": false,
     "start_time": "2021-08-14T00:00:08.399073",
     "status": "completed"
    },
    "tags": []
   },
   "outputs": [],
   "source": [
    "df_pivot = df.pivot_table(index=\"PRODUCT\", columns = \"RECORD_TIME\", values = \"LISTING_COUNT\")"
   ]
  },
  {
   "cell_type": "code",
   "execution_count": 6,
   "id": "union-huntington",
   "metadata": {
    "execution": {
     "iopub.execute_input": "2021-08-14T00:00:08.528643Z",
     "iopub.status.busy": "2021-08-14T00:00:08.526162Z",
     "iopub.status.idle": "2021-08-14T00:00:08.531816Z",
     "shell.execute_reply": "2021-08-14T00:00:08.533088Z"
    },
    "papermill": {
     "duration": 0.041957,
     "end_time": "2021-08-14T00:00:08.533493",
     "exception": false,
     "start_time": "2021-08-14T00:00:08.491536",
     "status": "completed"
    },
    "tags": []
   },
   "outputs": [],
   "source": [
    "df_pivot.columns = [\"stamp_1\", \"stamp_2\"]\n",
    "df_pivot_diff = df_pivot.diff(axis=1)"
   ]
  },
  {
   "cell_type": "code",
   "execution_count": 7,
   "id": "fifth-motion",
   "metadata": {
    "execution": {
     "iopub.execute_input": "2021-08-14T00:00:08.587863Z",
     "iopub.status.busy": "2021-08-14T00:00:08.585250Z",
     "iopub.status.idle": "2021-08-14T00:00:10.102473Z",
     "shell.execute_reply": "2021-08-14T00:00:10.103848Z"
    },
    "papermill": {
     "duration": 1.550852,
     "end_time": "2021-08-14T00:00:10.104324",
     "exception": false,
     "start_time": "2021-08-14T00:00:08.553472",
     "status": "completed"
    },
    "tags": []
   },
   "outputs": [
    {
     "data": {
      "text/plain": [
       "<AxesSubplot:ylabel='PRODUCT'>"
      ]
     },
     "execution_count": 7,
     "metadata": {},
     "output_type": "execute_result"
    },
    {
     "data": {
      "image/png": "[encoded data removed]",
      "text/plain": [
       "<Figure size 432x288 with 1 Axes>"
      ]
     },
     "metadata": {
      "needs_background": "light"
     },
     "output_type": "display_data"
    }
   ],
   "source": [
    "df_pivot_diff.sort_values(\"stamp_2\", ascending = False)[\"stamp_2\"].head(10).plot.barh()"
   ]
  },
  {
   "cell_type": "code",
   "execution_count": null,
   "id": "extra-executive",
   "metadata": {
    "papermill": {
     "duration": 0.022242,
     "end_time": "2021-08-14T00:00:10.152428",
     "exception": false,
     "start_time": "2021-08-14T00:00:10.130186",
     "status": "completed"
    },
    "tags": []
   },
   "outputs": [],
   "source": []
  }
 ],
 "metadata": {
  "kernelspec": {
   "display_name": "Python 3",
   "language": "python",
   "name": "python3"
  },
  "language_info": {
   "codemirror_mode": {
    "name": "ipython",
    "version": 3
   },
   "file_extension": ".py",
   "mimetype": "text/x-python",
   "name": "python",
   "nbconvert_exporter": "python",
   "pygments_lexer": "ipython3",
   "version": "3.9.5"
  },
  "papermill": {
   "default_parameters": {},
   "duration": 6.830467,
   "end_time": "2021-08-14T00:00:11.618272",
   "environment_variables": {},
   "exception": null,
   "input_path": "eBay_Overview.ipynb",
   "output_path": "eBay_Overview.ipynb",
   "parameters": {},
   "start_time": "2021-08-14T00:00:04.787805",
   "version": "2.3.3"
  }
 },
 "nbformat": 4,
 "nbformat_minor": 5
}