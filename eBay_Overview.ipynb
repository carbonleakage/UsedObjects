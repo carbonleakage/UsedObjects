{
 "cells": [
  {
   "cell_type": "code",
   "execution_count": 1,
   "id": "reverse-picking",
   "metadata": {
    "execution": {
     "iopub.execute_input": "2021-11-07T05:00:07.132846Z",
     "iopub.status.busy": "2021-11-07T05:00:07.130540Z",
     "iopub.status.idle": "2021-11-07T05:00:08.075831Z",
     "shell.execute_reply": "2021-11-07T05:00:08.077992Z"
    },
    "papermill": {
     "duration": 0.994796,
     "end_time": "2021-11-07T05:00:08.078821",
     "exception": false,
     "start_time": "2021-11-07T05:00:07.084025",
     "status": "completed"
    },
    "tags": []
   },
   "outputs": [],
   "source": [
    "import pandas as pd\n",
    "import sqlite3"
   ]
  },
  {
   "cell_type": "code",
   "execution_count": 2,
   "id": "innovative-syndrome",
   "metadata": {
    "execution": {
     "iopub.execute_input": "2021-11-07T05:00:08.137312Z",
     "iopub.status.busy": "2021-11-07T05:00:08.133997Z",
     "iopub.status.idle": "2021-11-07T05:00:08.885088Z",
     "shell.execute_reply": "2021-11-07T05:00:08.886675Z"
    },
    "papermill": {
     "duration": 0.784999,
     "end_time": "2021-11-07T05:00:08.887178",
     "exception": false,
     "start_time": "2021-11-07T05:00:08.102179",
     "status": "completed"
    },
    "tags": []
   },
   "outputs": [],
   "source": [
    "timestamps = pd.read_sql(\"select distinct record_time from EBAY_TOP_BERLIN order by record_time desc limit 2\", sqlite3.connect(\"UsedObjects.db\"))"
   ]
  },
  {
   "cell_type": "code",
   "execution_count": 3,
   "id": "periodic-identification",
   "metadata": {
    "execution": {
     "iopub.execute_input": "2021-11-07T05:00:08.957733Z",
     "iopub.status.busy": "2021-11-07T05:00:08.955343Z",
     "iopub.status.idle": "2021-11-07T05:00:08.979676Z",
     "shell.execute_reply": "2021-11-07T05:00:08.981213Z"
    },
    "papermill": {
     "duration": 0.074665,
     "end_time": "2021-11-07T05:00:08.981703",
     "exception": false,
     "start_time": "2021-11-07T05:00:08.907038",
     "status": "completed"
    },
    "tags": []
   },
   "outputs": [
    {
     "data": {
      "text/html": [
       "<div>\n",
       "<style scoped>\n",
       "    .dataframe tbody tr th:only-of-type {\n",
       "        vertical-align: middle;\n",
       "    }\n",
       "\n",
       "    .dataframe tbody tr th {\n",
       "        vertical-align: top;\n",
       "    }\n",
       "\n",
       "    .dataframe thead th {\n",
       "        text-align: right;\n",
       "    }\n",
       "</style>\n",
       "<table border=\"1\" class=\"dataframe\">\n",
       "  <thead>\n",
       "    <tr style=\"text-align: right;\">\n",
       "      <th></th>\n",
       "      <th>RECORD_TIME</th>\n",
       "    </tr>\n",
       "  </thead>\n",
       "  <tbody>\n",
       "    <tr>\n",
       "      <th>0</th>\n",
       "      <td>2021-11-07 06:00</td>\n",
       "    </tr>\n",
       "    <tr>\n",
       "      <th>1</th>\n",
       "      <td>2021-11-07 05:30</td>\n",
       "    </tr>\n",
       "  </tbody>\n",
       "</table>\n",
       "</div>"
      ],
      "text/plain": [
       "        RECORD_TIME\n",
       "0  2021-11-07 06:00\n",
       "1  2021-11-07 05:30"
      ]
     },
     "execution_count": 3,
     "metadata": {},
     "output_type": "execute_result"
    }
   ],
   "source": [
    "timestamps"
   ]
  },
  {
   "cell_type": "code",
   "execution_count": 4,
   "id": "alternate-victory",
   "metadata": {
    "execution": {
     "iopub.execute_input": "2021-11-07T05:00:09.037792Z",
     "iopub.status.busy": "2021-11-07T05:00:09.035577Z",
     "iopub.status.idle": "2021-11-07T05:00:10.120370Z",
     "shell.execute_reply": "2021-11-07T05:00:10.121666Z"
    },
    "papermill": {
     "duration": 1.118702,
     "end_time": "2021-11-07T05:00:10.122080",
     "exception": false,
     "start_time": "2021-11-07T05:00:09.003378",
     "status": "completed"
    },
    "tags": []
   },
   "outputs": [],
   "source": [
    "df = pd.read_sql(\"select * from EBAY_TOP_BERLIN where record_time in (select distinct record_time from EBAY_TOP_BERLIN order by record_time desc limit 2)\", sqlite3.connect(\"UsedObjects.db\"))"
   ]
  },
  {
   "cell_type": "code",
   "execution_count": 5,
   "id": "popular-active",
   "metadata": {
    "execution": {
     "iopub.execute_input": "2021-11-07T05:00:10.193302Z",
     "iopub.status.busy": "2021-11-07T05:00:10.180779Z",
     "iopub.status.idle": "2021-11-07T05:00:10.209094Z",
     "shell.execute_reply": "2021-11-07T05:00:10.210319Z"
    },
    "papermill": {
     "duration": 0.067797,
     "end_time": "2021-11-07T05:00:10.210760",
     "exception": false,
     "start_time": "2021-11-07T05:00:10.142963",
     "status": "completed"
    },
    "tags": []
   },
   "outputs": [],
   "source": [
    "df_pivot = df.pivot_table(index=\"PRODUCT\", columns = \"RECORD_TIME\", values = \"LISTING_COUNT\")"
   ]
  },
  {
   "cell_type": "code",
   "execution_count": 6,
   "id": "union-huntington",
   "metadata": {
    "execution": {
     "iopub.execute_input": "2021-11-07T05:00:10.267083Z",
     "iopub.status.busy": "2021-11-07T05:00:10.265114Z",
     "iopub.status.idle": "2021-11-07T05:00:10.270069Z",
     "shell.execute_reply": "2021-11-07T05:00:10.271281Z"
    },
    "papermill": {
     "duration": 0.03963,
     "end_time": "2021-11-07T05:00:10.271686",
     "exception": false,
     "start_time": "2021-11-07T05:00:10.232056",
     "status": "completed"
    },
    "tags": []
   },
   "outputs": [],
   "source": [
    "df_pivot.columns = [\"stamp_1\", \"stamp_2\"]\n",
    "df_pivot_diff = df_pivot.diff(axis=1)"
   ]
  },
  {
   "cell_type": "code",
   "execution_count": 7,
   "id": "fifth-motion",
   "metadata": {
    "execution": {
     "iopub.execute_input": "2021-11-07T05:00:10.329133Z",
     "iopub.status.busy": "2021-11-07T05:00:10.326595Z",
     "iopub.status.idle": "2021-11-07T05:00:12.096784Z",
     "shell.execute_reply": "2021-11-07T05:00:12.098201Z"
    },
    "papermill": {
     "duration": 1.806407,
     "end_time": "2021-11-07T05:00:12.098692",
     "exception": false,
     "start_time": "2021-11-07T05:00:10.292285",
     "status": "completed"
    },
    "tags": []
   },
   "outputs": [
    {
     "data": {
      "text/plain": [
       "<AxesSubplot:ylabel='PRODUCT'>"
      ]
     },
     "execution_count": 7,
     "metadata": {},
     "output_type": "execute_result"
    },
    {
     "data": {
      "image/png": "[encoded data removed]",
      "text/plain": [
       "<Figure size 432x288 with 1 Axes>"
      ]
     },
     "metadata": {
      "needs_background": "light"
     },
     "output_type": "display_data"
    }
   ],
   "source": [
    "df_pivot_diff.sort_values(\"stamp_2\", ascending = False)[\"stamp_2\"].head(10).plot.barh()"
   ]
  },
  {
   "cell_type": "code",
   "execution_count": null,
   "id": "extra-executive",
   "metadata": {
    "papermill": {
     "duration": 0.023669,
     "end_time": "2021-11-07T05:00:12.146725",
     "exception": false,
     "start_time": "2021-11-07T05:00:12.123056",
     "status": "completed"
    },
    "tags": []
   },
   "outputs": [],
   "source": []
  }
 ],
 "metadata": {
  "kernelspec": {
   "display_name": "Python 3",
   "language": "python",
   "name": "python3"
  },
  "language_info": {
   "codemirror_mode": {
    "name": "ipython",
    "version": 3
   },
   "file_extension": ".py",
   "mimetype": "text/x-python",
   "name": "python",
   "nbconvert_exporter": "python",
   "pygments_lexer": "ipython3",
   "version": "3.9.5"
  },
  "papermill": {
   "default_parameters": {},
   "duration": 9.012337,
   "end_time": "2021-11-07T05:00:13.315568",
   "environment_variables": {},
   "exception": null,
   "input_path": "eBay_Overview.ipynb",
   "output_path": "eBay_Overview.ipynb",
   "parameters": {},
   "start_time": "2021-11-07T05:00:04.303231",
   "version": "2.3.3"
  }
 },
 "nbformat": 4,
 "nbformat_minor": 5
}