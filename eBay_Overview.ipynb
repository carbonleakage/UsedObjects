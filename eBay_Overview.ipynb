{
 "cells": [
  {
   "cell_type": "code",
   "execution_count": 1,
   "id": "reverse-picking",
   "metadata": {
    "execution": {
     "iopub.execute_input": "2021-11-03T11:30:07.336573Z",
     "iopub.status.busy": "2021-11-03T11:30:07.334300Z",
     "iopub.status.idle": "2021-11-03T11:30:08.297664Z",
     "shell.execute_reply": "2021-11-03T11:30:08.299451Z"
    },
    "papermill": {
     "duration": 1.010794,
     "end_time": "2021-11-03T11:30:08.300201",
     "exception": false,
     "start_time": "2021-11-03T11:30:07.289407",
     "status": "completed"
    },
    "tags": []
   },
   "outputs": [],
   "source": [
    "import pandas as pd\n",
    "import sqlite3"
   ]
  },
  {
   "cell_type": "code",
   "execution_count": 2,
   "id": "innovative-syndrome",
   "metadata": {
    "execution": {
     "iopub.execute_input": "2021-11-03T11:30:08.362094Z",
     "iopub.status.busy": "2021-11-03T11:30:08.359799Z",
     "iopub.status.idle": "2021-11-03T11:30:09.084068Z",
     "shell.execute_reply": "2021-11-03T11:30:09.085619Z"
    },
    "papermill": {
     "duration": 0.757921,
     "end_time": "2021-11-03T11:30:09.086116",
     "exception": false,
     "start_time": "2021-11-03T11:30:08.328195",
     "status": "completed"
    },
    "tags": []
   },
   "outputs": [],
   "source": [
    "timestamps = pd.read_sql(\"select distinct record_time from EBAY_TOP_BERLIN order by record_time desc limit 2\", sqlite3.connect(\"UsedObjects.db\"))"
   ]
  },
  {
   "cell_type": "code",
   "execution_count": 3,
   "id": "periodic-identification",
   "metadata": {
    "execution": {
     "iopub.execute_input": "2021-11-03T11:30:09.155004Z",
     "iopub.status.busy": "2021-11-03T11:30:09.152757Z",
     "iopub.status.idle": "2021-11-03T11:30:09.174873Z",
     "shell.execute_reply": "2021-11-03T11:30:09.176313Z"
    },
    "papermill": {
     "duration": 0.071126,
     "end_time": "2021-11-03T11:30:09.176850",
     "exception": false,
     "start_time": "2021-11-03T11:30:09.105724",
     "status": "completed"
    },
    "tags": []
   },
   "outputs": [
    {
     "data": {
      "text/html": [
       "<div>\n",
       "<style scoped>\n",
       "    .dataframe tbody tr th:only-of-type {\n",
       "        vertical-align: middle;\n",
       "    }\n",
       "\n",
       "    .dataframe tbody tr th {\n",
       "        vertical-align: top;\n",
       "    }\n",
       "\n",
       "    .dataframe thead th {\n",
       "        text-align: right;\n",
       "    }\n",
       "</style>\n",
       "<table border=\"1\" class=\"dataframe\">\n",
       "  <thead>\n",
       "    <tr style=\"text-align: right;\">\n",
       "      <th></th>\n",
       "      <th>RECORD_TIME</th>\n",
       "    </tr>\n",
       "  </thead>\n",
       "  <tbody>\n",
       "    <tr>\n",
       "      <th>0</th>\n",
       "      <td>2021-11-03 12:30</td>\n",
       "    </tr>\n",
       "    <tr>\n",
       "      <th>1</th>\n",
       "      <td>2021-11-03 12:00</td>\n",
       "    </tr>\n",
       "  </tbody>\n",
       "</table>\n",
       "</div>"
      ],
      "text/plain": [
       "        RECORD_TIME\n",
       "0  2021-11-03 12:30\n",
       "1  2021-11-03 12:00"
      ]
     },
     "execution_count": 3,
     "metadata": {},
     "output_type": "execute_result"
    }
   ],
   "source": [
    "timestamps"
   ]
  },
  {
   "cell_type": "code",
   "execution_count": 4,
   "id": "alternate-victory",
   "metadata": {
    "execution": {
     "iopub.execute_input": "2021-11-03T11:30:09.232366Z",
     "iopub.status.busy": "2021-11-03T11:30:09.229983Z",
     "iopub.status.idle": "2021-11-03T11:30:10.288737Z",
     "shell.execute_reply": "2021-11-03T11:30:10.291058Z"
    },
    "papermill": {
     "duration": 1.093191,
     "end_time": "2021-11-03T11:30:10.291557",
     "exception": false,
     "start_time": "2021-11-03T11:30:09.198366",
     "status": "completed"
    },
    "tags": []
   },
   "outputs": [],
   "source": [
    "df = pd.read_sql(\"select * from EBAY_TOP_BERLIN where record_time in (select distinct record_time from EBAY_TOP_BERLIN order by record_time desc limit 2)\", sqlite3.connect(\"UsedObjects.db\"))"
   ]
  },
  {
   "cell_type": "code",
   "execution_count": 5,
   "id": "popular-active",
   "metadata": {
    "execution": {
     "iopub.execute_input": "2021-11-03T11:30:10.372449Z",
     "iopub.status.busy": "2021-11-03T11:30:10.357498Z",
     "iopub.status.idle": "2021-11-03T11:30:10.394338Z",
     "shell.execute_reply": "2021-11-03T11:30:10.392529Z"
    },
    "papermill": {
     "duration": 0.081245,
     "end_time": "2021-11-03T11:30:10.394776",
     "exception": false,
     "start_time": "2021-11-03T11:30:10.313531",
     "status": "completed"
    },
    "tags": []
   },
   "outputs": [],
   "source": [
    "df_pivot = df.pivot_table(index=\"PRODUCT\", columns = \"RECORD_TIME\", values = \"LISTING_COUNT\")"
   ]
  },
  {
   "cell_type": "code",
   "execution_count": 6,
   "id": "union-huntington",
   "metadata": {
    "execution": {
     "iopub.execute_input": "2021-11-03T11:30:10.457762Z",
     "iopub.status.busy": "2021-11-03T11:30:10.455335Z",
     "iopub.status.idle": "2021-11-03T11:30:10.462819Z",
     "shell.execute_reply": "2021-11-03T11:30:10.461159Z"
    },
    "papermill": {
     "duration": 0.046656,
     "end_time": "2021-11-03T11:30:10.463207",
     "exception": false,
     "start_time": "2021-11-03T11:30:10.416551",
     "status": "completed"
    },
    "tags": []
   },
   "outputs": [],
   "source": [
    "df_pivot.columns = [\"stamp_1\", \"stamp_2\"]\n",
    "df_pivot_diff = df_pivot.diff(axis=1)"
   ]
  },
  {
   "cell_type": "code",
   "execution_count": 7,
   "id": "fifth-motion",
   "metadata": {
    "execution": {
     "iopub.execute_input": "2021-11-03T11:30:10.525832Z",
     "iopub.status.busy": "2021-11-03T11:30:10.522623Z",
     "iopub.status.idle": "2021-11-03T11:30:12.388843Z",
     "shell.execute_reply": "2021-11-03T11:30:12.391609Z"
    },
    "papermill": {
     "duration": 1.908339,
     "end_time": "2021-11-03T11:30:12.392423",
     "exception": false,
     "start_time": "2021-11-03T11:30:10.484084",
     "status": "completed"
    },
    "tags": []
   },
   "outputs": [
    {
     "data": {
      "text/plain": [
       "<AxesSubplot:ylabel='PRODUCT'>"
      ]
     },
     "execution_count": 7,
     "metadata": {},
     "output_type": "execute_result"
    },
    {
     "data": {
      "image/png": "[encoded data removed]",
      "text/plain": [
       "<Figure size 432x288 with 1 Axes>"
      ]
     },
     "metadata": {
      "needs_background": "light"
     },
     "output_type": "display_data"
    }
   ],
   "source": [
    "df_pivot_diff.sort_values(\"stamp_2\", ascending = False)[\"stamp_2\"].head(10).plot.barh()"
   ]
  },
  {
   "cell_type": "code",
   "execution_count": null,
   "id": "extra-executive",
   "metadata": {
    "papermill": {
     "duration": 0.035873,
     "end_time": "2021-11-03T11:30:12.469533",
     "exception": false,
     "start_time": "2021-11-03T11:30:12.433660",
     "status": "completed"
    },
    "tags": []
   },
   "outputs": [],
   "source": []
  }
 ],
 "metadata": {
  "kernelspec": {
   "display_name": "Python 3",
   "language": "python",
   "name": "python3"
  },
  "language_info": {
   "codemirror_mode": {
    "name": "ipython",
    "version": 3
   },
   "file_extension": ".py",
   "mimetype": "text/x-python",
   "name": "python",
   "nbconvert_exporter": "python",
   "pygments_lexer": "ipython3",
   "version": "3.9.5"
  },
  "papermill": {
   "default_parameters": {},
   "duration": 8.795014,
   "end_time": "2021-11-03T11:30:13.342491",
   "environment_variables": {},
   "exception": null,
   "input_path": "eBay_Overview.ipynb",
   "output_path": "eBay_Overview.ipynb",
   "parameters": {},
   "start_time": "2021-11-03T11:30:04.547477",
   "version": "2.3.3"
  }
 },
 "nbformat": 4,
 "nbformat_minor": 5
}