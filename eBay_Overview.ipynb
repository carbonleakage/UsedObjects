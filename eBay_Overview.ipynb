{
 "cells": [
  {
   "cell_type": "code",
   "execution_count": 1,
   "id": "reverse-picking",
   "metadata": {
    "execution": {
     "iopub.execute_input": "2021-11-12T04:00:08.243384Z",
     "iopub.status.busy": "2021-11-12T04:00:08.241071Z",
     "iopub.status.idle": "2021-11-12T04:00:09.190734Z",
     "shell.execute_reply": "2021-11-12T04:00:09.192171Z"
    },
    "papermill": {
     "duration": 1.000117,
     "end_time": "2021-11-12T04:00:09.192927",
     "exception": false,
     "start_time": "2021-11-12T04:00:08.192810",
     "status": "completed"
    },
    "tags": []
   },
   "outputs": [],
   "source": [
    "import pandas as pd\n",
    "import sqlite3"
   ]
  },
  {
   "cell_type": "code",
   "execution_count": 2,
   "id": "innovative-syndrome",
   "metadata": {
    "execution": {
     "iopub.execute_input": "2021-11-12T04:00:09.258387Z",
     "iopub.status.busy": "2021-11-12T04:00:09.255904Z",
     "iopub.status.idle": "2021-11-12T04:00:10.140292Z",
     "shell.execute_reply": "2021-11-12T04:00:10.141832Z"
    },
    "papermill": {
     "duration": 0.91904,
     "end_time": "2021-11-12T04:00:10.142346",
     "exception": false,
     "start_time": "2021-11-12T04:00:09.223306",
     "status": "completed"
    },
    "tags": []
   },
   "outputs": [],
   "source": [
    "timestamps = pd.read_sql(\"select distinct record_time from EBAY_TOP_BERLIN order by record_time desc limit 2\", sqlite3.connect(\"UsedObjects.db\"))"
   ]
  },
  {
   "cell_type": "code",
   "execution_count": 3,
   "id": "periodic-identification",
   "metadata": {
    "execution": {
     "iopub.execute_input": "2021-11-12T04:00:10.219030Z",
     "iopub.status.busy": "2021-11-12T04:00:10.212834Z",
     "iopub.status.idle": "2021-11-12T04:00:10.235892Z",
     "shell.execute_reply": "2021-11-12T04:00:10.237608Z"
    },
    "papermill": {
     "duration": 0.07489,
     "end_time": "2021-11-12T04:00:10.238182",
     "exception": false,
     "start_time": "2021-11-12T04:00:10.163292",
     "status": "completed"
    },
    "tags": []
   },
   "outputs": [
    {
     "data": {
      "text/html": [
       "<div>\n",
       "<style scoped>\n",
       "    .dataframe tbody tr th:only-of-type {\n",
       "        vertical-align: middle;\n",
       "    }\n",
       "\n",
       "    .dataframe tbody tr th {\n",
       "        vertical-align: top;\n",
       "    }\n",
       "\n",
       "    .dataframe thead th {\n",
       "        text-align: right;\n",
       "    }\n",
       "</style>\n",
       "<table border=\"1\" class=\"dataframe\">\n",
       "  <thead>\n",
       "    <tr style=\"text-align: right;\">\n",
       "      <th></th>\n",
       "      <th>RECORD_TIME</th>\n",
       "    </tr>\n",
       "  </thead>\n",
       "  <tbody>\n",
       "    <tr>\n",
       "      <th>0</th>\n",
       "      <td>2021-11-12 05:00</td>\n",
       "    </tr>\n",
       "    <tr>\n",
       "      <th>1</th>\n",
       "      <td>2021-11-12 04:30</td>\n",
       "    </tr>\n",
       "  </tbody>\n",
       "</table>\n",
       "</div>"
      ],
      "text/plain": [
       "        RECORD_TIME\n",
       "0  2021-11-12 05:00\n",
       "1  2021-11-12 04:30"
      ]
     },
     "execution_count": 3,
     "metadata": {},
     "output_type": "execute_result"
    }
   ],
   "source": [
    "timestamps"
   ]
  },
  {
   "cell_type": "code",
   "execution_count": 4,
   "id": "alternate-victory",
   "metadata": {
    "execution": {
     "iopub.execute_input": "2021-11-12T04:00:10.296610Z",
     "iopub.status.busy": "2021-11-12T04:00:10.294218Z",
     "iopub.status.idle": "2021-11-12T04:00:11.486971Z",
     "shell.execute_reply": "2021-11-12T04:00:11.488537Z"
    },
    "papermill": {
     "duration": 1.229341,
     "end_time": "2021-11-12T04:00:11.489211",
     "exception": false,
     "start_time": "2021-11-12T04:00:10.259870",
     "status": "completed"
    },
    "tags": []
   },
   "outputs": [],
   "source": [
    "df = pd.read_sql(\"select * from EBAY_TOP_BERLIN where record_time in (select distinct record_time from EBAY_TOP_BERLIN order by record_time desc limit 2)\", sqlite3.connect(\"UsedObjects.db\"))"
   ]
  },
  {
   "cell_type": "code",
   "execution_count": 5,
   "id": "popular-active",
   "metadata": {
    "execution": {
     "iopub.execute_input": "2021-11-12T04:00:11.557763Z",
     "iopub.status.busy": "2021-11-12T04:00:11.555245Z",
     "iopub.status.idle": "2021-11-12T04:00:11.588981Z",
     "shell.execute_reply": "2021-11-12T04:00:11.590454Z"
    },
    "papermill": {
     "duration": 0.07995,
     "end_time": "2021-11-12T04:00:11.590927",
     "exception": false,
     "start_time": "2021-11-12T04:00:11.510977",
     "status": "completed"
    },
    "tags": []
   },
   "outputs": [],
   "source": [
    "df_pivot = df.pivot_table(index=\"PRODUCT\", columns = \"RECORD_TIME\", values = \"LISTING_COUNT\")"
   ]
  },
  {
   "cell_type": "code",
   "execution_count": 6,
   "id": "union-huntington",
   "metadata": {
    "execution": {
     "iopub.execute_input": "2021-11-12T04:00:11.653897Z",
     "iopub.status.busy": "2021-11-12T04:00:11.651368Z",
     "iopub.status.idle": "2021-11-12T04:00:11.657556Z",
     "shell.execute_reply": "2021-11-12T04:00:11.659489Z"
    },
    "papermill": {
     "duration": 0.046852,
     "end_time": "2021-11-12T04:00:11.660040",
     "exception": false,
     "start_time": "2021-11-12T04:00:11.613188",
     "status": "completed"
    },
    "tags": []
   },
   "outputs": [],
   "source": [
    "df_pivot.columns = [\"stamp_1\", \"stamp_2\"]\n",
    "df_pivot_diff = df_pivot.diff(axis=1)"
   ]
  },
  {
   "cell_type": "code",
   "execution_count": 7,
   "id": "fifth-motion",
   "metadata": {
    "execution": {
     "iopub.execute_input": "2021-11-12T04:00:11.722049Z",
     "iopub.status.busy": "2021-11-12T04:00:11.719351Z",
     "iopub.status.idle": "2021-11-12T04:00:13.475870Z",
     "shell.execute_reply": "2021-11-12T04:00:13.477279Z"
    },
    "papermill": {
     "duration": 1.794839,
     "end_time": "2021-11-12T04:00:13.477764",
     "exception": false,
     "start_time": "2021-11-12T04:00:11.682925",
     "status": "completed"
    },
    "tags": []
   },
   "outputs": [
    {
     "data": {
      "text/plain": [
       "<AxesSubplot:ylabel='PRODUCT'>"
      ]
     },
     "execution_count": 7,
     "metadata": {},
     "output_type": "execute_result"
    },
    {
     "data": {
      "image/png": "[encoded data removed]",
      "text/plain": [
       "<Figure size 432x288 with 1 Axes>"
      ]
     },
     "metadata": {
      "needs_background": "light"
     },
     "output_type": "display_data"
    }
   ],
   "source": [
    "df_pivot_diff.sort_values(\"stamp_2\", ascending = False)[\"stamp_2\"].head(10).plot.barh()"
   ]
  },
  {
   "cell_type": "code",
   "execution_count": null,
   "id": "extra-executive",
   "metadata": {
    "papermill": {
     "duration": 0.023467,
     "end_time": "2021-11-12T04:00:13.525108",
     "exception": false,
     "start_time": "2021-11-12T04:00:13.501641",
     "status": "completed"
    },
    "tags": []
   },
   "outputs": [],
   "source": []
  }
 ],
 "metadata": {
  "kernelspec": {
   "display_name": "Python 3",
   "language": "python",
   "name": "python3"
  },
  "language_info": {
   "codemirror_mode": {
    "name": "ipython",
    "version": 3
   },
   "file_extension": ".py",
   "mimetype": "text/x-python",
   "name": "python",
   "nbconvert_exporter": "python",
   "pygments_lexer": "ipython3",
   "version": "3.9.5"
  },
  "papermill": {
   "default_parameters": {},
   "duration": 8.947006,
   "end_time": "2021-11-12T04:00:14.288928",
   "environment_variables": {},
   "exception": null,
   "input_path": "eBay_Overview.ipynb",
   "output_path": "eBay_Overview.ipynb",
   "parameters": {},
   "start_time": "2021-11-12T04:00:05.341922",
   "version": "2.3.3"
  }
 },
 "nbformat": 4,
 "nbformat_minor": 5
}