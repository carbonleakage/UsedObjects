{
 "cells": [
  {
   "cell_type": "code",
   "execution_count": 1,
   "id": "reverse-picking",
   "metadata": {
    "execution": {
     "iopub.execute_input": "2021-12-17T11:30:07.602508Z",
     "iopub.status.busy": "2021-12-17T11:30:07.600163Z",
     "iopub.status.idle": "2021-12-17T11:30:08.553404Z",
     "shell.execute_reply": "2021-12-17T11:30:08.554960Z"
    },
    "papermill": {
     "duration": 1.003566,
     "end_time": "2021-12-17T11:30:08.555686",
     "exception": false,
     "start_time": "2021-12-17T11:30:07.552120",
     "status": "completed"
    },
    "tags": []
   },
   "outputs": [],
   "source": [
    "import pandas as pd\n",
    "import sqlite3"
   ]
  },
  {
   "cell_type": "code",
   "execution_count": 2,
   "id": "innovative-syndrome",
   "metadata": {
    "execution": {
     "iopub.execute_input": "2021-12-17T11:30:08.690848Z",
     "iopub.status.busy": "2021-12-17T11:30:08.687832Z",
     "iopub.status.idle": "2021-12-17T11:30:09.798929Z",
     "shell.execute_reply": "2021-12-17T11:30:09.800404Z"
    },
    "papermill": {
     "duration": 1.159694,
     "end_time": "2021-12-17T11:30:09.800975",
     "exception": false,
     "start_time": "2021-12-17T11:30:08.641281",
     "status": "completed"
    },
    "tags": []
   },
   "outputs": [],
   "source": [
    "timestamps = pd.read_sql(\"select distinct record_time from EBAY_TOP_BERLIN order by record_time desc limit 2\", sqlite3.connect(\"UsedObjects.db\"))"
   ]
  },
  {
   "cell_type": "code",
   "execution_count": 3,
   "id": "periodic-identification",
   "metadata": {
    "execution": {
     "iopub.execute_input": "2021-12-17T11:30:09.870555Z",
     "iopub.status.busy": "2021-12-17T11:30:09.863660Z",
     "iopub.status.idle": "2021-12-17T11:30:09.890995Z",
     "shell.execute_reply": "2021-12-17T11:30:09.892612Z"
    },
    "papermill": {
     "duration": 0.072718,
     "end_time": "2021-12-17T11:30:09.893127",
     "exception": false,
     "start_time": "2021-12-17T11:30:09.820409",
     "status": "completed"
    },
    "tags": []
   },
   "outputs": [
    {
     "data": {
      "text/html": [
       "<div>\n",
       "<style scoped>\n",
       "    .dataframe tbody tr th:only-of-type {\n",
       "        vertical-align: middle;\n",
       "    }\n",
       "\n",
       "    .dataframe tbody tr th {\n",
       "        vertical-align: top;\n",
       "    }\n",
       "\n",
       "    .dataframe thead th {\n",
       "        text-align: right;\n",
       "    }\n",
       "</style>\n",
       "<table border=\"1\" class=\"dataframe\">\n",
       "  <thead>\n",
       "    <tr style=\"text-align: right;\">\n",
       "      <th></th>\n",
       "      <th>RECORD_TIME</th>\n",
       "    </tr>\n",
       "  </thead>\n",
       "  <tbody>\n",
       "    <tr>\n",
       "      <th>0</th>\n",
       "      <td>2021-12-17 12:30</td>\n",
       "    </tr>\n",
       "    <tr>\n",
       "      <th>1</th>\n",
       "      <td>2021-12-17 12:00</td>\n",
       "    </tr>\n",
       "  </tbody>\n",
       "</table>\n",
       "</div>"
      ],
      "text/plain": [
       "        RECORD_TIME\n",
       "0  2021-12-17 12:30\n",
       "1  2021-12-17 12:00"
      ]
     },
     "execution_count": 3,
     "metadata": {},
     "output_type": "execute_result"
    }
   ],
   "source": [
    "timestamps"
   ]
  },
  {
   "cell_type": "code",
   "execution_count": 4,
   "id": "alternate-victory",
   "metadata": {
    "execution": {
     "iopub.execute_input": "2021-12-17T11:30:09.972091Z",
     "iopub.status.busy": "2021-12-17T11:30:09.970253Z",
     "iopub.status.idle": "2021-12-17T11:30:11.586283Z",
     "shell.execute_reply": "2021-12-17T11:30:11.588402Z"
    },
    "papermill": {
     "duration": 1.650144,
     "end_time": "2021-12-17T11:30:11.588978",
     "exception": false,
     "start_time": "2021-12-17T11:30:09.938834",
     "status": "completed"
    },
    "tags": []
   },
   "outputs": [],
   "source": [
    "df = pd.read_sql(\"select * from EBAY_TOP_BERLIN where record_time in (select distinct record_time from EBAY_TOP_BERLIN order by record_time desc limit 2)\", sqlite3.connect(\"UsedObjects.db\"))"
   ]
  },
  {
   "cell_type": "code",
   "execution_count": 5,
   "id": "popular-active",
   "metadata": {
    "execution": {
     "iopub.execute_input": "2021-12-17T11:30:11.767623Z",
     "iopub.status.busy": "2021-12-17T11:30:11.754029Z",
     "iopub.status.idle": "2021-12-17T11:30:11.789028Z",
     "shell.execute_reply": "2021-12-17T11:30:11.790634Z"
    },
    "papermill": {
     "duration": 0.181815,
     "end_time": "2021-12-17T11:30:11.791113",
     "exception": false,
     "start_time": "2021-12-17T11:30:11.609298",
     "status": "completed"
    },
    "tags": []
   },
   "outputs": [],
   "source": [
    "df_pivot = df.pivot_table(index=\"PRODUCT\", columns = \"RECORD_TIME\", values = \"LISTING_COUNT\")"
   ]
  },
  {
   "cell_type": "code",
   "execution_count": 6,
   "id": "union-huntington",
   "metadata": {
    "execution": {
     "iopub.execute_input": "2021-12-17T11:30:11.867510Z",
     "iopub.status.busy": "2021-12-17T11:30:11.865270Z",
     "iopub.status.idle": "2021-12-17T11:30:11.872570Z",
     "shell.execute_reply": "2021-12-17T11:30:11.871012Z"
    },
    "papermill": {
     "duration": 0.043489,
     "end_time": "2021-12-17T11:30:11.873082",
     "exception": false,
     "start_time": "2021-12-17T11:30:11.829593",
     "status": "completed"
    },
    "tags": []
   },
   "outputs": [],
   "source": [
    "df_pivot.columns = [\"stamp_1\", \"stamp_2\"]\n",
    "df_pivot_diff = df_pivot.diff(axis=1)"
   ]
  },
  {
   "cell_type": "code",
   "execution_count": 7,
   "id": "fifth-motion",
   "metadata": {
    "execution": {
     "iopub.execute_input": "2021-12-17T11:30:11.928811Z",
     "iopub.status.busy": "2021-12-17T11:30:11.926183Z",
     "iopub.status.idle": "2021-12-17T11:30:13.935840Z",
     "shell.execute_reply": "2021-12-17T11:30:13.937979Z"
    },
    "papermill": {
     "duration": 2.045741,
     "end_time": "2021-12-17T11:30:13.938564",
     "exception": false,
     "start_time": "2021-12-17T11:30:11.892823",
     "status": "completed"
    },
    "tags": []
   },
   "outputs": [
    {
     "data": {
      "text/plain": [
       "<AxesSubplot:ylabel='PRODUCT'>"
      ]
     },
     "execution_count": 7,
     "metadata": {},
     "output_type": "execute_result"
    },
    {
     "data": {
      "image/png": "[encoded data removed]",
      "text/plain": [
       "<Figure size 432x288 with 1 Axes>"
      ]
     },
     "metadata": {
      "needs_background": "light"
     },
     "output_type": "display_data"
    }
   ],
   "source": [
    "df_pivot_diff.sort_values(\"stamp_2\", ascending = False)[\"stamp_2\"].head(10).plot.barh()"
   ]
  },
  {
   "cell_type": "code",
   "execution_count": null,
   "id": "extra-executive",
   "metadata": {
    "papermill": {
     "duration": 0.028227,
     "end_time": "2021-12-17T11:30:14.052084",
     "exception": false,
     "start_time": "2021-12-17T11:30:14.023857",
     "status": "completed"
    },
    "tags": []
   },
   "outputs": [],
   "source": []
  }
 ],
 "metadata": {
  "kernelspec": {
   "display_name": "Python 3",
   "language": "python",
   "name": "python3"
  },
  "language_info": {
   "codemirror_mode": {
    "name": "ipython",
    "version": 3
   },
   "file_extension": ".py",
   "mimetype": "text/x-python",
   "name": "python",
   "nbconvert_exporter": "python",
   "pygments_lexer": "ipython3",
   "version": "3.9.5"
  },
  "papermill": {
   "default_parameters": {},
   "duration": 9.86222,
   "end_time": "2021-12-17T11:30:14.695723",
   "environment_variables": {},
   "exception": null,
   "input_path": "eBay_Overview.ipynb",
   "output_path": "eBay_Overview.ipynb",
   "parameters": {},
   "start_time": "2021-12-17T11:30:04.833503",
   "version": "2.3.3"
  }
 },
 "nbformat": 4,
 "nbformat_minor": 5
}