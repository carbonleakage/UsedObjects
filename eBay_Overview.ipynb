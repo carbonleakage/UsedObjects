{
 "cells": [
  {
   "cell_type": "code",
   "execution_count": 1,
   "id": "reverse-picking",
   "metadata": {
    "execution": {
     "iopub.execute_input": "2021-09-22T09:30:07.324246Z",
     "iopub.status.busy": "2021-09-22T09:30:07.322210Z",
     "iopub.status.idle": "2021-09-22T09:30:08.127642Z",
     "shell.execute_reply": "2021-09-22T09:30:08.128935Z"
    },
    "papermill": {
     "duration": 0.857307,
     "end_time": "2021-09-22T09:30:08.129564",
     "exception": false,
     "start_time": "2021-09-22T09:30:07.272257",
     "status": "completed"
    },
    "tags": []
   },
   "outputs": [],
   "source": [
    "import pandas as pd\n",
    "import sqlite3"
   ]
  },
  {
   "cell_type": "code",
   "execution_count": 2,
   "id": "innovative-syndrome",
   "metadata": {
    "execution": {
     "iopub.execute_input": "2021-09-22T09:30:08.179797Z",
     "iopub.status.busy": "2021-09-22T09:30:08.177840Z",
     "iopub.status.idle": "2021-09-22T09:30:08.533839Z",
     "shell.execute_reply": "2021-09-22T09:30:08.535122Z"
    },
    "papermill": {
     "duration": 0.385529,
     "end_time": "2021-09-22T09:30:08.535543",
     "exception": false,
     "start_time": "2021-09-22T09:30:08.150014",
     "status": "completed"
    },
    "tags": []
   },
   "outputs": [],
   "source": [
    "timestamps = pd.read_sql(\"select distinct record_time from EBAY_TOP_BERLIN order by record_time desc limit 2\", sqlite3.connect(\"UsedObjects.db\"))"
   ]
  },
  {
   "cell_type": "code",
   "execution_count": 3,
   "id": "periodic-identification",
   "metadata": {
    "execution": {
     "iopub.execute_input": "2021-09-22T09:30:08.604832Z",
     "iopub.status.busy": "2021-09-22T09:30:08.599797Z",
     "iopub.status.idle": "2021-09-22T09:30:08.621576Z",
     "shell.execute_reply": "2021-09-22T09:30:08.623417Z"
    },
    "papermill": {
     "duration": 0.066672,
     "end_time": "2021-09-22T09:30:08.623943",
     "exception": false,
     "start_time": "2021-09-22T09:30:08.557271",
     "status": "completed"
    },
    "tags": []
   },
   "outputs": [
    {
     "data": {
      "text/html": [
       "<div>\n",
       "<style scoped>\n",
       "    .dataframe tbody tr th:only-of-type {\n",
       "        vertical-align: middle;\n",
       "    }\n",
       "\n",
       "    .dataframe tbody tr th {\n",
       "        vertical-align: top;\n",
       "    }\n",
       "\n",
       "    .dataframe thead th {\n",
       "        text-align: right;\n",
       "    }\n",
       "</style>\n",
       "<table border=\"1\" class=\"dataframe\">\n",
       "  <thead>\n",
       "    <tr style=\"text-align: right;\">\n",
       "      <th></th>\n",
       "      <th>RECORD_TIME</th>\n",
       "    </tr>\n",
       "  </thead>\n",
       "  <tbody>\n",
       "    <tr>\n",
       "      <th>0</th>\n",
       "      <td>2021-09-22 11:30</td>\n",
       "    </tr>\n",
       "    <tr>\n",
       "      <th>1</th>\n",
       "      <td>2021-09-22 11:00</td>\n",
       "    </tr>\n",
       "  </tbody>\n",
       "</table>\n",
       "</div>"
      ],
      "text/plain": [
       "        RECORD_TIME\n",
       "0  2021-09-22 11:30\n",
       "1  2021-09-22 11:00"
      ]
     },
     "execution_count": 3,
     "metadata": {},
     "output_type": "execute_result"
    }
   ],
   "source": [
    "timestamps"
   ]
  },
  {
   "cell_type": "code",
   "execution_count": 4,
   "id": "alternate-victory",
   "metadata": {
    "execution": {
     "iopub.execute_input": "2021-09-22T09:30:08.675882Z",
     "iopub.status.busy": "2021-09-22T09:30:08.673499Z",
     "iopub.status.idle": "2021-09-22T09:30:09.186612Z",
     "shell.execute_reply": "2021-09-22T09:30:09.188124Z"
    },
    "papermill": {
     "duration": 0.543787,
     "end_time": "2021-09-22T09:30:09.188582",
     "exception": false,
     "start_time": "2021-09-22T09:30:08.644795",
     "status": "completed"
    },
    "tags": []
   },
   "outputs": [],
   "source": [
    "df = pd.read_sql(\"select * from EBAY_TOP_BERLIN where record_time in (select distinct record_time from EBAY_TOP_BERLIN order by record_time desc limit 2)\", sqlite3.connect(\"UsedObjects.db\"))"
   ]
  },
  {
   "cell_type": "code",
   "execution_count": 5,
   "id": "popular-active",
   "metadata": {
    "execution": {
     "iopub.execute_input": "2021-09-22T09:30:09.268467Z",
     "iopub.status.busy": "2021-09-22T09:30:09.256635Z",
     "iopub.status.idle": "2021-09-22T09:30:09.284222Z",
     "shell.execute_reply": "2021-09-22T09:30:09.285521Z"
    },
    "papermill": {
     "duration": 0.071026,
     "end_time": "2021-09-22T09:30:09.285950",
     "exception": false,
     "start_time": "2021-09-22T09:30:09.214924",
     "status": "completed"
    },
    "tags": []
   },
   "outputs": [],
   "source": [
    "df_pivot = df.pivot_table(index=\"PRODUCT\", columns = \"RECORD_TIME\", values = \"LISTING_COUNT\")"
   ]
  },
  {
   "cell_type": "code",
   "execution_count": 6,
   "id": "union-huntington",
   "metadata": {
    "execution": {
     "iopub.execute_input": "2021-09-22T09:30:09.342355Z",
     "iopub.status.busy": "2021-09-22T09:30:09.340303Z",
     "iopub.status.idle": "2021-09-22T09:30:09.345601Z",
     "shell.execute_reply": "2021-09-22T09:30:09.346951Z"
    },
    "papermill": {
     "duration": 0.040449,
     "end_time": "2021-09-22T09:30:09.347423",
     "exception": false,
     "start_time": "2021-09-22T09:30:09.306974",
     "status": "completed"
    },
    "tags": []
   },
   "outputs": [],
   "source": [
    "df_pivot.columns = [\"stamp_1\", \"stamp_2\"]\n",
    "df_pivot_diff = df_pivot.diff(axis=1)"
   ]
  },
  {
   "cell_type": "code",
   "execution_count": 7,
   "id": "fifth-motion",
   "metadata": {
    "execution": {
     "iopub.execute_input": "2021-09-22T09:30:09.403822Z",
     "iopub.status.busy": "2021-09-22T09:30:09.401117Z",
     "iopub.status.idle": "2021-09-22T09:30:10.883868Z",
     "shell.execute_reply": "2021-09-22T09:30:10.885169Z"
    },
    "papermill": {
     "duration": 1.516344,
     "end_time": "2021-09-22T09:30:10.885593",
     "exception": false,
     "start_time": "2021-09-22T09:30:09.369249",
     "status": "completed"
    },
    "tags": []
   },
   "outputs": [
    {
     "data": {
      "text/plain": [
       "<AxesSubplot:ylabel='PRODUCT'>"
      ]
     },
     "execution_count": 7,
     "metadata": {},
     "output_type": "execute_result"
    },
    {
     "data": {
      "image/png": "[encoded data removed]",
      "text/plain": [
       "<Figure size 432x288 with 1 Axes>"
      ]
     },
     "metadata": {
      "needs_background": "light"
     },
     "output_type": "display_data"
    }
   ],
   "source": [
    "df_pivot_diff.sort_values(\"stamp_2\", ascending = False)[\"stamp_2\"].head(10).plot.barh()"
   ]
  },
  {
   "cell_type": "code",
   "execution_count": null,
   "id": "extra-executive",
   "metadata": {
    "papermill": {
     "duration": 0.022356,
     "end_time": "2021-09-22T09:30:10.933512",
     "exception": false,
     "start_time": "2021-09-22T09:30:10.911156",
     "status": "completed"
    },
    "tags": []
   },
   "outputs": [],
   "source": []
  }
 ],
 "metadata": {
  "kernelspec": {
   "display_name": "Python 3",
   "language": "python",
   "name": "python3"
  },
  "language_info": {
   "codemirror_mode": {
    "name": "ipython",
    "version": 3
   },
   "file_extension": ".py",
   "mimetype": "text/x-python",
   "name": "python",
   "nbconvert_exporter": "python",
   "pygments_lexer": "ipython3",
   "version": "3.9.5"
  },
  "papermill": {
   "default_parameters": {},
   "duration": 6.704339,
   "end_time": "2021-09-22T09:30:11.577798",
   "environment_variables": {},
   "exception": null,
   "input_path": "eBay_Overview.ipynb",
   "output_path": "eBay_Overview.ipynb",
   "parameters": {},
   "start_time": "2021-09-22T09:30:04.873459",
   "version": "2.3.3"
  }
 },
 "nbformat": 4,
 "nbformat_minor": 5
}