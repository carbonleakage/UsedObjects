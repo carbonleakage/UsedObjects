{
 "cells": [
  {
   "cell_type": "code",
   "execution_count": 1,
   "id": "reverse-picking",
   "metadata": {
    "execution": {
     "iopub.execute_input": "2021-08-30T02:00:07.478569Z",
     "iopub.status.busy": "2021-08-30T02:00:07.476509Z",
     "iopub.status.idle": "2021-08-30T02:00:08.280115Z",
     "shell.execute_reply": "2021-08-30T02:00:08.281498Z"
    },
    "papermill": {
     "duration": 0.854344,
     "end_time": "2021-08-30T02:00:08.282120",
     "exception": false,
     "start_time": "2021-08-30T02:00:07.427776",
     "status": "completed"
    },
    "tags": []
   },
   "outputs": [],
   "source": [
    "import pandas as pd\n",
    "import sqlite3"
   ]
  },
  {
   "cell_type": "code",
   "execution_count": 2,
   "id": "innovative-syndrome",
   "metadata": {
    "execution": {
     "iopub.execute_input": "2021-08-30T02:00:08.333333Z",
     "iopub.status.busy": "2021-08-30T02:00:08.331304Z",
     "iopub.status.idle": "2021-08-30T02:00:08.493995Z",
     "shell.execute_reply": "2021-08-30T02:00:08.495217Z"
    },
    "papermill": {
     "duration": 0.19204,
     "end_time": "2021-08-30T02:00:08.495617",
     "exception": false,
     "start_time": "2021-08-30T02:00:08.303577",
     "status": "completed"
    },
    "tags": []
   },
   "outputs": [],
   "source": [
    "timestamps = pd.read_sql(\"select distinct record_time from EBAY_TOP_BERLIN order by record_time desc limit 2\", sqlite3.connect(\"UsedObjects.db\"))"
   ]
  },
  {
   "cell_type": "code",
   "execution_count": 3,
   "id": "periodic-identification",
   "metadata": {
    "execution": {
     "iopub.execute_input": "2021-08-30T02:00:08.564504Z",
     "iopub.status.busy": "2021-08-30T02:00:08.559441Z",
     "iopub.status.idle": "2021-08-30T02:00:08.582529Z",
     "shell.execute_reply": "2021-08-30T02:00:08.584104Z"
    },
    "papermill": {
     "duration": 0.068015,
     "end_time": "2021-08-30T02:00:08.584819",
     "exception": false,
     "start_time": "2021-08-30T02:00:08.516804",
     "status": "completed"
    },
    "tags": []
   },
   "outputs": [
    {
     "data": {
      "text/html": [
       "<div>\n",
       "<style scoped>\n",
       "    .dataframe tbody tr th:only-of-type {\n",
       "        vertical-align: middle;\n",
       "    }\n",
       "\n",
       "    .dataframe tbody tr th {\n",
       "        vertical-align: top;\n",
       "    }\n",
       "\n",
       "    .dataframe thead th {\n",
       "        text-align: right;\n",
       "    }\n",
       "</style>\n",
       "<table border=\"1\" class=\"dataframe\">\n",
       "  <thead>\n",
       "    <tr style=\"text-align: right;\">\n",
       "      <th></th>\n",
       "      <th>RECORD_TIME</th>\n",
       "    </tr>\n",
       "  </thead>\n",
       "  <tbody>\n",
       "    <tr>\n",
       "      <th>0</th>\n",
       "      <td>2021-08-30 04:00</td>\n",
       "    </tr>\n",
       "    <tr>\n",
       "      <th>1</th>\n",
       "      <td>2021-08-30 03:30</td>\n",
       "    </tr>\n",
       "  </tbody>\n",
       "</table>\n",
       "</div>"
      ],
      "text/plain": [
       "        RECORD_TIME\n",
       "0  2021-08-30 04:00\n",
       "1  2021-08-30 03:30"
      ]
     },
     "execution_count": 3,
     "metadata": {},
     "output_type": "execute_result"
    }
   ],
   "source": [
    "timestamps"
   ]
  },
  {
   "cell_type": "code",
   "execution_count": 4,
   "id": "alternate-victory",
   "metadata": {
    "execution": {
     "iopub.execute_input": "2021-08-30T02:00:08.637268Z",
     "iopub.status.busy": "2021-08-30T02:00:08.634892Z",
     "iopub.status.idle": "2021-08-30T02:00:08.878785Z",
     "shell.execute_reply": "2021-08-30T02:00:08.880017Z"
    },
    "papermill": {
     "duration": 0.274346,
     "end_time": "2021-08-30T02:00:08.880478",
     "exception": false,
     "start_time": "2021-08-30T02:00:08.606132",
     "status": "completed"
    },
    "tags": []
   },
   "outputs": [],
   "source": [
    "df = pd.read_sql(\"select * from EBAY_TOP_BERLIN where record_time in (select distinct record_time from EBAY_TOP_BERLIN order by record_time desc limit 2)\", sqlite3.connect(\"UsedObjects.db\"))"
   ]
  },
  {
   "cell_type": "code",
   "execution_count": 5,
   "id": "popular-active",
   "metadata": {
    "execution": {
     "iopub.execute_input": "2021-08-30T02:00:08.961196Z",
     "iopub.status.busy": "2021-08-30T02:00:08.949447Z",
     "iopub.status.idle": "2021-08-30T02:00:08.977193Z",
     "shell.execute_reply": "2021-08-30T02:00:08.978558Z"
    },
    "papermill": {
     "duration": 0.07232,
     "end_time": "2021-08-30T02:00:08.978985",
     "exception": false,
     "start_time": "2021-08-30T02:00:08.906665",
     "status": "completed"
    },
    "tags": []
   },
   "outputs": [],
   "source": [
    "df_pivot = df.pivot_table(index=\"PRODUCT\", columns = \"RECORD_TIME\", values = \"LISTING_COUNT\")"
   ]
  },
  {
   "cell_type": "code",
   "execution_count": 6,
   "id": "union-huntington",
   "metadata": {
    "execution": {
     "iopub.execute_input": "2021-08-30T02:00:09.034968Z",
     "iopub.status.busy": "2021-08-30T02:00:09.032888Z",
     "iopub.status.idle": "2021-08-30T02:00:09.037731Z",
     "shell.execute_reply": "2021-08-30T02:00:09.038931Z"
    },
    "papermill": {
     "duration": 0.040074,
     "end_time": "2021-08-30T02:00:09.039362",
     "exception": false,
     "start_time": "2021-08-30T02:00:08.999288",
     "status": "completed"
    },
    "tags": []
   },
   "outputs": [],
   "source": [
    "df_pivot.columns = [\"stamp_1\", \"stamp_2\"]\n",
    "df_pivot_diff = df_pivot.diff(axis=1)"
   ]
  },
  {
   "cell_type": "code",
   "execution_count": 7,
   "id": "fifth-motion",
   "metadata": {
    "execution": {
     "iopub.execute_input": "2021-08-30T02:00:09.094255Z",
     "iopub.status.busy": "2021-08-30T02:00:09.091679Z",
     "iopub.status.idle": "2021-08-30T02:00:10.579473Z",
     "shell.execute_reply": "2021-08-30T02:00:10.580930Z"
    },
    "papermill": {
     "duration": 1.5216,
     "end_time": "2021-08-30T02:00:10.581382",
     "exception": false,
     "start_time": "2021-08-30T02:00:09.059782",
     "status": "completed"
    },
    "tags": []
   },
   "outputs": [
    {
     "data": {
      "text/plain": [
       "<AxesSubplot:ylabel='PRODUCT'>"
      ]
     },
     "execution_count": 7,
     "metadata": {},
     "output_type": "execute_result"
    },
    {
     "data": {
      "image/png": "[encoded data removed]",
      "text/plain": [
       "<Figure size 432x288 with 1 Axes>"
      ]
     },
     "metadata": {
      "needs_background": "light"
     },
     "output_type": "display_data"
    }
   ],
   "source": [
    "df_pivot_diff.sort_values(\"stamp_2\", ascending = False)[\"stamp_2\"].head(10).plot.barh()"
   ]
  },
  {
   "cell_type": "code",
   "execution_count": null,
   "id": "extra-executive",
   "metadata": {
    "papermill": {
     "duration": 0.022485,
     "end_time": "2021-08-30T02:00:10.628784",
     "exception": false,
     "start_time": "2021-08-30T02:00:10.606299",
     "status": "completed"
    },
    "tags": []
   },
   "outputs": [],
   "source": []
  }
 ],
 "metadata": {
  "kernelspec": {
   "display_name": "Python 3",
   "language": "python",
   "name": "python3"
  },
  "language_info": {
   "codemirror_mode": {
    "name": "ipython",
    "version": 3
   },
   "file_extension": ".py",
   "mimetype": "text/x-python",
   "name": "python",
   "nbconvert_exporter": "python",
   "pygments_lexer": "ipython3",
   "version": "3.9.5"
  },
  "papermill": {
   "default_parameters": {},
   "duration": 6.820867,
   "end_time": "2021-08-30T02:00:11.843252",
   "environment_variables": {},
   "exception": null,
   "input_path": "eBay_Overview.ipynb",
   "output_path": "eBay_Overview.ipynb",
   "parameters": {},
   "start_time": "2021-08-30T02:00:05.022385",
   "version": "2.3.3"
  }
 },
 "nbformat": 4,
 "nbformat_minor": 5
}