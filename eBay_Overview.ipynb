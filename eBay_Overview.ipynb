{
 "cells": [
  {
   "cell_type": "code",
   "execution_count": 1,
   "id": "reverse-picking",
   "metadata": {
    "execution": {
     "iopub.execute_input": "2021-09-25T01:00:07.317035Z",
     "iopub.status.busy": "2021-09-25T01:00:07.315067Z",
     "iopub.status.idle": "2021-09-25T01:00:08.121483Z",
     "shell.execute_reply": "2021-09-25T01:00:08.122721Z"
    },
    "papermill": {
     "duration": 0.858496,
     "end_time": "2021-09-25T01:00:08.123404",
     "exception": false,
     "start_time": "2021-09-25T01:00:07.264908",
     "status": "completed"
    },
    "tags": []
   },
   "outputs": [],
   "source": [
    "import pandas as pd\n",
    "import sqlite3"
   ]
  },
  {
   "cell_type": "code",
   "execution_count": 2,
   "id": "innovative-syndrome",
   "metadata": {
    "execution": {
     "iopub.execute_input": "2021-09-25T01:00:08.173946Z",
     "iopub.status.busy": "2021-09-25T01:00:08.172066Z",
     "iopub.status.idle": "2021-09-25T01:00:08.548042Z",
     "shell.execute_reply": "2021-09-25T01:00:08.549412Z"
    },
    "papermill": {
     "duration": 0.405608,
     "end_time": "2021-09-25T01:00:08.549858",
     "exception": false,
     "start_time": "2021-09-25T01:00:08.144250",
     "status": "completed"
    },
    "tags": []
   },
   "outputs": [],
   "source": [
    "timestamps = pd.read_sql(\"select distinct record_time from EBAY_TOP_BERLIN order by record_time desc limit 2\", sqlite3.connect(\"UsedObjects.db\"))"
   ]
  },
  {
   "cell_type": "code",
   "execution_count": 3,
   "id": "periodic-identification",
   "metadata": {
    "execution": {
     "iopub.execute_input": "2021-09-25T01:00:08.619315Z",
     "iopub.status.busy": "2021-09-25T01:00:08.614180Z",
     "iopub.status.idle": "2021-09-25T01:00:08.634262Z",
     "shell.execute_reply": "2021-09-25T01:00:08.635774Z"
    },
    "papermill": {
     "duration": 0.067001,
     "end_time": "2021-09-25T01:00:08.636236",
     "exception": false,
     "start_time": "2021-09-25T01:00:08.569235",
     "status": "completed"
    },
    "tags": []
   },
   "outputs": [
    {
     "data": {
      "text/html": [
       "<div>\n",
       "<style scoped>\n",
       "    .dataframe tbody tr th:only-of-type {\n",
       "        vertical-align: middle;\n",
       "    }\n",
       "\n",
       "    .dataframe tbody tr th {\n",
       "        vertical-align: top;\n",
       "    }\n",
       "\n",
       "    .dataframe thead th {\n",
       "        text-align: right;\n",
       "    }\n",
       "</style>\n",
       "<table border=\"1\" class=\"dataframe\">\n",
       "  <thead>\n",
       "    <tr style=\"text-align: right;\">\n",
       "      <th></th>\n",
       "      <th>RECORD_TIME</th>\n",
       "    </tr>\n",
       "  </thead>\n",
       "  <tbody>\n",
       "    <tr>\n",
       "      <th>0</th>\n",
       "      <td>2021-09-25 03:00</td>\n",
       "    </tr>\n",
       "    <tr>\n",
       "      <th>1</th>\n",
       "      <td>2021-09-25 02:30</td>\n",
       "    </tr>\n",
       "  </tbody>\n",
       "</table>\n",
       "</div>"
      ],
      "text/plain": [
       "        RECORD_TIME\n",
       "0  2021-09-25 03:00\n",
       "1  2021-09-25 02:30"
      ]
     },
     "execution_count": 3,
     "metadata": {},
     "output_type": "execute_result"
    }
   ],
   "source": [
    "timestamps"
   ]
  },
  {
   "cell_type": "code",
   "execution_count": 4,
   "id": "alternate-victory",
   "metadata": {
    "execution": {
     "iopub.execute_input": "2021-09-25T01:00:08.687629Z",
     "iopub.status.busy": "2021-09-25T01:00:08.685657Z",
     "iopub.status.idle": "2021-09-25T01:00:09.236638Z",
     "shell.execute_reply": "2021-09-25T01:00:09.237854Z"
    },
    "papermill": {
     "duration": 0.581031,
     "end_time": "2021-09-25T01:00:09.238260",
     "exception": false,
     "start_time": "2021-09-25T01:00:08.657229",
     "status": "completed"
    },
    "tags": []
   },
   "outputs": [],
   "source": [
    "df = pd.read_sql(\"select * from EBAY_TOP_BERLIN where record_time in (select distinct record_time from EBAY_TOP_BERLIN order by record_time desc limit 2)\", sqlite3.connect(\"UsedObjects.db\"))"
   ]
  },
  {
   "cell_type": "code",
   "execution_count": 5,
   "id": "popular-active",
   "metadata": {
    "execution": {
     "iopub.execute_input": "2021-09-25T01:00:09.322076Z",
     "iopub.status.busy": "2021-09-25T01:00:09.310633Z",
     "iopub.status.idle": "2021-09-25T01:00:09.337856Z",
     "shell.execute_reply": "2021-09-25T01:00:09.339210Z"
    },
    "papermill": {
     "duration": 0.07181,
     "end_time": "2021-09-25T01:00:09.339639",
     "exception": false,
     "start_time": "2021-09-25T01:00:09.267829",
     "status": "completed"
    },
    "tags": []
   },
   "outputs": [],
   "source": [
    "df_pivot = df.pivot_table(index=\"PRODUCT\", columns = \"RECORD_TIME\", values = \"LISTING_COUNT\")"
   ]
  },
  {
   "cell_type": "code",
   "execution_count": 6,
   "id": "union-huntington",
   "metadata": {
    "execution": {
     "iopub.execute_input": "2021-09-25T01:00:09.396319Z",
     "iopub.status.busy": "2021-09-25T01:00:09.394085Z",
     "iopub.status.idle": "2021-09-25T01:00:09.399660Z",
     "shell.execute_reply": "2021-09-25T01:00:09.401075Z"
    },
    "papermill": {
     "duration": 0.040969,
     "end_time": "2021-09-25T01:00:09.401519",
     "exception": false,
     "start_time": "2021-09-25T01:00:09.360550",
     "status": "completed"
    },
    "tags": []
   },
   "outputs": [],
   "source": [
    "df_pivot.columns = [\"stamp_1\", \"stamp_2\"]\n",
    "df_pivot_diff = df_pivot.diff(axis=1)"
   ]
  },
  {
   "cell_type": "code",
   "execution_count": 7,
   "id": "fifth-motion",
   "metadata": {
    "execution": {
     "iopub.execute_input": "2021-09-25T01:00:09.458299Z",
     "iopub.status.busy": "2021-09-25T01:00:09.455679Z",
     "iopub.status.idle": "2021-09-25T01:00:10.982297Z",
     "shell.execute_reply": "2021-09-25T01:00:10.983725Z"
    },
    "papermill": {
     "duration": 1.560386,
     "end_time": "2021-09-25T01:00:10.984177",
     "exception": false,
     "start_time": "2021-09-25T01:00:09.423791",
     "status": "completed"
    },
    "tags": []
   },
   "outputs": [
    {
     "data": {
      "text/plain": [
       "<AxesSubplot:ylabel='PRODUCT'>"
      ]
     },
     "execution_count": 7,
     "metadata": {},
     "output_type": "execute_result"
    },
    {
     "data": {
      "image/png": "[encoded data removed]",
      "text/plain": [
       "<Figure size 432x288 with 1 Axes>"
      ]
     },
     "metadata": {
      "needs_background": "light"
     },
     "output_type": "display_data"
    }
   ],
   "source": [
    "df_pivot_diff.sort_values(\"stamp_2\", ascending = False)[\"stamp_2\"].head(10).plot.barh()"
   ]
  },
  {
   "cell_type": "code",
   "execution_count": null,
   "id": "extra-executive",
   "metadata": {
    "papermill": {
     "duration": 0.022179,
     "end_time": "2021-09-25T01:00:11.030127",
     "exception": false,
     "start_time": "2021-09-25T01:00:11.007948",
     "status": "completed"
    },
    "tags": []
   },
   "outputs": [],
   "source": []
  }
 ],
 "metadata": {
  "kernelspec": {
   "display_name": "Python 3",
   "language": "python",
   "name": "python3"
  },
  "language_info": {
   "codemirror_mode": {
    "name": "ipython",
    "version": 3
   },
   "file_extension": ".py",
   "mimetype": "text/x-python",
   "name": "python",
   "nbconvert_exporter": "python",
   "pygments_lexer": "ipython3",
   "version": "3.9.5"
  },
  "papermill": {
   "default_parameters": {},
   "duration": 6.818104,
   "end_time": "2021-09-25T01:00:11.673513",
   "environment_variables": {},
   "exception": null,
   "input_path": "eBay_Overview.ipynb",
   "output_path": "eBay_Overview.ipynb",
   "parameters": {},
   "start_time": "2021-09-25T01:00:04.855409",
   "version": "2.3.3"
  }
 },
 "nbformat": 4,
 "nbformat_minor": 5
}