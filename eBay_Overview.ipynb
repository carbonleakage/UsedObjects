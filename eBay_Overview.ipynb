{
 "cells": [
  {
   "cell_type": "code",
   "execution_count": 1,
   "id": "reverse-picking",
   "metadata": {
    "execution": {
     "iopub.execute_input": "2021-10-10T11:30:07.548626Z",
     "iopub.status.busy": "2021-10-10T11:30:07.546602Z",
     "iopub.status.idle": "2021-10-10T11:30:08.354076Z",
     "shell.execute_reply": "2021-10-10T11:30:08.355405Z"
    },
    "papermill": {
     "duration": 0.860149,
     "end_time": "2021-10-10T11:30:08.356044",
     "exception": false,
     "start_time": "2021-10-10T11:30:07.495895",
     "status": "completed"
    },
    "tags": []
   },
   "outputs": [],
   "source": [
    "import pandas as pd\n",
    "import sqlite3"
   ]
  },
  {
   "cell_type": "code",
   "execution_count": 2,
   "id": "innovative-syndrome",
   "metadata": {
    "execution": {
     "iopub.execute_input": "2021-10-10T11:30:08.407194Z",
     "iopub.status.busy": "2021-10-10T11:30:08.405101Z",
     "iopub.status.idle": "2021-10-10T11:30:08.901169Z",
     "shell.execute_reply": "2021-10-10T11:30:08.902487Z"
    },
    "papermill": {
     "duration": 0.526007,
     "end_time": "2021-10-10T11:30:08.903013",
     "exception": false,
     "start_time": "2021-10-10T11:30:08.377006",
     "status": "completed"
    },
    "tags": []
   },
   "outputs": [],
   "source": [
    "timestamps = pd.read_sql(\"select distinct record_time from EBAY_TOP_BERLIN order by record_time desc limit 2\", sqlite3.connect(\"UsedObjects.db\"))"
   ]
  },
  {
   "cell_type": "code",
   "execution_count": 3,
   "id": "periodic-identification",
   "metadata": {
    "execution": {
     "iopub.execute_input": "2021-10-10T11:30:08.968899Z",
     "iopub.status.busy": "2021-10-10T11:30:08.966820Z",
     "iopub.status.idle": "2021-10-10T11:30:08.986756Z",
     "shell.execute_reply": "2021-10-10T11:30:08.987969Z"
    },
    "papermill": {
     "duration": 0.064325,
     "end_time": "2021-10-10T11:30:08.988385",
     "exception": false,
     "start_time": "2021-10-10T11:30:08.924060",
     "status": "completed"
    },
    "tags": []
   },
   "outputs": [
    {
     "data": {
      "text/html": [
       "<div>\n",
       "<style scoped>\n",
       "    .dataframe tbody tr th:only-of-type {\n",
       "        vertical-align: middle;\n",
       "    }\n",
       "\n",
       "    .dataframe tbody tr th {\n",
       "        vertical-align: top;\n",
       "    }\n",
       "\n",
       "    .dataframe thead th {\n",
       "        text-align: right;\n",
       "    }\n",
       "</style>\n",
       "<table border=\"1\" class=\"dataframe\">\n",
       "  <thead>\n",
       "    <tr style=\"text-align: right;\">\n",
       "      <th></th>\n",
       "      <th>RECORD_TIME</th>\n",
       "    </tr>\n",
       "  </thead>\n",
       "  <tbody>\n",
       "    <tr>\n",
       "      <th>0</th>\n",
       "      <td>2021-10-10 13:30</td>\n",
       "    </tr>\n",
       "    <tr>\n",
       "      <th>1</th>\n",
       "      <td>2021-10-10 13:00</td>\n",
       "    </tr>\n",
       "  </tbody>\n",
       "</table>\n",
       "</div>"
      ],
      "text/plain": [
       "        RECORD_TIME\n",
       "0  2021-10-10 13:30\n",
       "1  2021-10-10 13:00"
      ]
     },
     "execution_count": 3,
     "metadata": {},
     "output_type": "execute_result"
    }
   ],
   "source": [
    "timestamps"
   ]
  },
  {
   "cell_type": "code",
   "execution_count": 4,
   "id": "alternate-victory",
   "metadata": {
    "execution": {
     "iopub.execute_input": "2021-10-10T11:30:09.049967Z",
     "iopub.status.busy": "2021-10-10T11:30:09.048105Z",
     "iopub.status.idle": "2021-10-10T11:30:09.786616Z",
     "shell.execute_reply": "2021-10-10T11:30:09.787985Z"
    },
    "papermill": {
     "duration": 0.772285,
     "end_time": "2021-10-10T11:30:09.788403",
     "exception": false,
     "start_time": "2021-10-10T11:30:09.016118",
     "status": "completed"
    },
    "tags": []
   },
   "outputs": [],
   "source": [
    "df = pd.read_sql(\"select * from EBAY_TOP_BERLIN where record_time in (select distinct record_time from EBAY_TOP_BERLIN order by record_time desc limit 2)\", sqlite3.connect(\"UsedObjects.db\"))"
   ]
  },
  {
   "cell_type": "code",
   "execution_count": 5,
   "id": "popular-active",
   "metadata": {
    "execution": {
     "iopub.execute_input": "2021-10-10T11:30:09.857999Z",
     "iopub.status.busy": "2021-10-10T11:30:09.846273Z",
     "iopub.status.idle": "2021-10-10T11:30:09.875292Z",
     "shell.execute_reply": "2021-10-10T11:30:09.876681Z"
    },
    "papermill": {
     "duration": 0.067888,
     "end_time": "2021-10-10T11:30:09.877117",
     "exception": false,
     "start_time": "2021-10-10T11:30:09.809229",
     "status": "completed"
    },
    "tags": []
   },
   "outputs": [],
   "source": [
    "df_pivot = df.pivot_table(index=\"PRODUCT\", columns = \"RECORD_TIME\", values = \"LISTING_COUNT\")"
   ]
  },
  {
   "cell_type": "code",
   "execution_count": 6,
   "id": "union-huntington",
   "metadata": {
    "execution": {
     "iopub.execute_input": "2021-10-10T11:30:09.935234Z",
     "iopub.status.busy": "2021-10-10T11:30:09.932748Z",
     "iopub.status.idle": "2021-10-10T11:30:09.938165Z",
     "shell.execute_reply": "2021-10-10T11:30:09.939554Z"
    },
    "papermill": {
     "duration": 0.042445,
     "end_time": "2021-10-10T11:30:09.939987",
     "exception": false,
     "start_time": "2021-10-10T11:30:09.897542",
     "status": "completed"
    },
    "tags": []
   },
   "outputs": [],
   "source": [
    "df_pivot.columns = [\"stamp_1\", \"stamp_2\"]\n",
    "df_pivot_diff = df_pivot.diff(axis=1)"
   ]
  },
  {
   "cell_type": "code",
   "execution_count": 7,
   "id": "fifth-motion",
   "metadata": {
    "execution": {
     "iopub.execute_input": "2021-10-10T11:30:09.994506Z",
     "iopub.status.busy": "2021-10-10T11:30:09.992203Z",
     "iopub.status.idle": "2021-10-10T11:30:11.471525Z",
     "shell.execute_reply": "2021-10-10T11:30:11.472813Z"
    },
    "papermill": {
     "duration": 1.512667,
     "end_time": "2021-10-10T11:30:11.473235",
     "exception": false,
     "start_time": "2021-10-10T11:30:09.960568",
     "status": "completed"
    },
    "tags": []
   },
   "outputs": [
    {
     "data": {
      "text/plain": [
       "<AxesSubplot:ylabel='PRODUCT'>"
      ]
     },
     "execution_count": 7,
     "metadata": {},
     "output_type": "execute_result"
    },
    {
     "data": {
      "image/png": "[encoded data removed]",
      "text/plain": [
       "<Figure size 432x288 with 1 Axes>"
      ]
     },
     "metadata": {
      "needs_background": "light"
     },
     "output_type": "display_data"
    }
   ],
   "source": [
    "df_pivot_diff.sort_values(\"stamp_2\", ascending = False)[\"stamp_2\"].head(10).plot.barh()"
   ]
  },
  {
   "cell_type": "code",
   "execution_count": null,
   "id": "extra-executive",
   "metadata": {
    "papermill": {
     "duration": 0.022374,
     "end_time": "2021-10-10T11:30:11.519591",
     "exception": false,
     "start_time": "2021-10-10T11:30:11.497217",
     "status": "completed"
    },
    "tags": []
   },
   "outputs": [],
   "source": []
  }
 ],
 "metadata": {
  "kernelspec": {
   "display_name": "Python 3",
   "language": "python",
   "name": "python3"
  },
  "language_info": {
   "codemirror_mode": {
    "name": "ipython",
    "version": 3
   },
   "file_extension": ".py",
   "mimetype": "text/x-python",
   "name": "python",
   "nbconvert_exporter": "python",
   "pygments_lexer": "ipython3",
   "version": "3.9.5"
  },
  "papermill": {
   "default_parameters": {},
   "duration": 7.839458,
   "end_time": "2021-10-10T11:30:12.920116",
   "environment_variables": {},
   "exception": null,
   "input_path": "eBay_Overview.ipynb",
   "output_path": "eBay_Overview.ipynb",
   "parameters": {},
   "start_time": "2021-10-10T11:30:05.080658",
   "version": "2.3.3"
  }
 },
 "nbformat": 4,
 "nbformat_minor": 5
}