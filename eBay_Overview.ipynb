{
 "cells": [
  {
   "cell_type": "code",
   "execution_count": 1,
   "id": "reverse-picking",
   "metadata": {
    "execution": {
     "iopub.execute_input": "2021-08-30T21:30:07.658344Z",
     "iopub.status.busy": "2021-08-30T21:30:07.656384Z",
     "iopub.status.idle": "2021-08-30T21:30:08.461814Z",
     "shell.execute_reply": "2021-08-30T21:30:08.463072Z"
    },
    "papermill": {
     "duration": 0.857514,
     "end_time": "2021-08-30T21:30:08.463687",
     "exception": false,
     "start_time": "2021-08-30T21:30:07.606173",
     "status": "completed"
    },
    "tags": []
   },
   "outputs": [],
   "source": [
    "import pandas as pd\n",
    "import sqlite3"
   ]
  },
  {
   "cell_type": "code",
   "execution_count": 2,
   "id": "innovative-syndrome",
   "metadata": {
    "execution": {
     "iopub.execute_input": "2021-08-30T21:30:08.513972Z",
     "iopub.status.busy": "2021-08-30T21:30:08.512024Z",
     "iopub.status.idle": "2021-08-30T21:30:08.679880Z",
     "shell.execute_reply": "2021-08-30T21:30:08.681292Z"
    },
    "papermill": {
     "duration": 0.197266,
     "end_time": "2021-08-30T21:30:08.681721",
     "exception": false,
     "start_time": "2021-08-30T21:30:08.484455",
     "status": "completed"
    },
    "tags": []
   },
   "outputs": [],
   "source": [
    "timestamps = pd.read_sql(\"select distinct record_time from EBAY_TOP_BERLIN order by record_time desc limit 2\", sqlite3.connect(\"UsedObjects.db\"))"
   ]
  },
  {
   "cell_type": "code",
   "execution_count": 3,
   "id": "periodic-identification",
   "metadata": {
    "execution": {
     "iopub.execute_input": "2021-08-30T21:30:08.746423Z",
     "iopub.status.busy": "2021-08-30T21:30:08.744393Z",
     "iopub.status.idle": "2021-08-30T21:30:08.763963Z",
     "shell.execute_reply": "2021-08-30T21:30:08.765369Z"
    },
    "papermill": {
     "duration": 0.064026,
     "end_time": "2021-08-30T21:30:08.765799",
     "exception": false,
     "start_time": "2021-08-30T21:30:08.701773",
     "status": "completed"
    },
    "tags": []
   },
   "outputs": [
    {
     "data": {
      "text/html": [
       "<div>\n",
       "<style scoped>\n",
       "    .dataframe tbody tr th:only-of-type {\n",
       "        vertical-align: middle;\n",
       "    }\n",
       "\n",
       "    .dataframe tbody tr th {\n",
       "        vertical-align: top;\n",
       "    }\n",
       "\n",
       "    .dataframe thead th {\n",
       "        text-align: right;\n",
       "    }\n",
       "</style>\n",
       "<table border=\"1\" class=\"dataframe\">\n",
       "  <thead>\n",
       "    <tr style=\"text-align: right;\">\n",
       "      <th></th>\n",
       "      <th>RECORD_TIME</th>\n",
       "    </tr>\n",
       "  </thead>\n",
       "  <tbody>\n",
       "    <tr>\n",
       "      <th>0</th>\n",
       "      <td>2021-08-30 23:30</td>\n",
       "    </tr>\n",
       "    <tr>\n",
       "      <th>1</th>\n",
       "      <td>2021-08-30 23:00</td>\n",
       "    </tr>\n",
       "  </tbody>\n",
       "</table>\n",
       "</div>"
      ],
      "text/plain": [
       "        RECORD_TIME\n",
       "0  2021-08-30 23:30\n",
       "1  2021-08-30 23:00"
      ]
     },
     "execution_count": 3,
     "metadata": {},
     "output_type": "execute_result"
    }
   ],
   "source": [
    "timestamps"
   ]
  },
  {
   "cell_type": "code",
   "execution_count": 4,
   "id": "alternate-victory",
   "metadata": {
    "execution": {
     "iopub.execute_input": "2021-08-30T21:30:08.817103Z",
     "iopub.status.busy": "2021-08-30T21:30:08.815160Z",
     "iopub.status.idle": "2021-08-30T21:30:09.064628Z",
     "shell.execute_reply": "2021-08-30T21:30:09.065868Z"
    },
    "papermill": {
     "duration": 0.278973,
     "end_time": "2021-08-30T21:30:09.066269",
     "exception": false,
     "start_time": "2021-08-30T21:30:08.787296",
     "status": "completed"
    },
    "tags": []
   },
   "outputs": [],
   "source": [
    "df = pd.read_sql(\"select * from EBAY_TOP_BERLIN where record_time in (select distinct record_time from EBAY_TOP_BERLIN order by record_time desc limit 2)\", sqlite3.connect(\"UsedObjects.db\"))"
   ]
  },
  {
   "cell_type": "code",
   "execution_count": 5,
   "id": "popular-active",
   "metadata": {
    "execution": {
     "iopub.execute_input": "2021-08-30T21:30:09.163404Z",
     "iopub.status.busy": "2021-08-30T21:30:09.151209Z",
     "iopub.status.idle": "2021-08-30T21:30:09.179185Z",
     "shell.execute_reply": "2021-08-30T21:30:09.180543Z"
    },
    "papermill": {
     "duration": 0.07426,
     "end_time": "2021-08-30T21:30:09.180962",
     "exception": false,
     "start_time": "2021-08-30T21:30:09.106702",
     "status": "completed"
    },
    "tags": []
   },
   "outputs": [],
   "source": [
    "df_pivot = df.pivot_table(index=\"PRODUCT\", columns = \"RECORD_TIME\", values = \"LISTING_COUNT\")"
   ]
  },
  {
   "cell_type": "code",
   "execution_count": 6,
   "id": "union-huntington",
   "metadata": {
    "execution": {
     "iopub.execute_input": "2021-08-30T21:30:09.237045Z",
     "iopub.status.busy": "2021-08-30T21:30:09.234941Z",
     "iopub.status.idle": "2021-08-30T21:30:09.240105Z",
     "shell.execute_reply": "2021-08-30T21:30:09.241619Z"
    },
    "papermill": {
     "duration": 0.040275,
     "end_time": "2021-08-30T21:30:09.242068",
     "exception": false,
     "start_time": "2021-08-30T21:30:09.201793",
     "status": "completed"
    },
    "tags": []
   },
   "outputs": [],
   "source": [
    "df_pivot.columns = [\"stamp_1\", \"stamp_2\"]\n",
    "df_pivot_diff = df_pivot.diff(axis=1)"
   ]
  },
  {
   "cell_type": "code",
   "execution_count": 7,
   "id": "fifth-motion",
   "metadata": {
    "execution": {
     "iopub.execute_input": "2021-08-30T21:30:09.296967Z",
     "iopub.status.busy": "2021-08-30T21:30:09.294423Z",
     "iopub.status.idle": "2021-08-30T21:30:10.812675Z",
     "shell.execute_reply": "2021-08-30T21:30:10.813937Z"
    },
    "papermill": {
     "duration": 1.551083,
     "end_time": "2021-08-30T21:30:10.814389",
     "exception": false,
     "start_time": "2021-08-30T21:30:09.263306",
     "status": "completed"
    },
    "tags": []
   },
   "outputs": [
    {
     "data": {
      "text/plain": [
       "<AxesSubplot:ylabel='PRODUCT'>"
      ]
     },
     "execution_count": 7,
     "metadata": {},
     "output_type": "execute_result"
    },
    {
     "data": {
      "image/png": "[encoded data removed]",
      "text/plain": [
       "<Figure size 432x288 with 1 Axes>"
      ]
     },
     "metadata": {
      "needs_background": "light"
     },
     "output_type": "display_data"
    }
   ],
   "source": [
    "df_pivot_diff.sort_values(\"stamp_2\", ascending = False)[\"stamp_2\"].head(10).plot.barh()"
   ]
  },
  {
   "cell_type": "code",
   "execution_count": null,
   "id": "extra-executive",
   "metadata": {
    "papermill": {
     "duration": 0.022321,
     "end_time": "2021-08-30T21:30:10.861116",
     "exception": false,
     "start_time": "2021-08-30T21:30:10.838795",
     "status": "completed"
    },
    "tags": []
   },
   "outputs": [],
   "source": []
  }
 ],
 "metadata": {
  "kernelspec": {
   "display_name": "Python 3",
   "language": "python",
   "name": "python3"
  },
  "language_info": {
   "codemirror_mode": {
    "name": "ipython",
    "version": 3
   },
   "file_extension": ".py",
   "mimetype": "text/x-python",
   "name": "python",
   "nbconvert_exporter": "python",
   "pygments_lexer": "ipython3",
   "version": "3.9.5"
  },
  "papermill": {
   "default_parameters": {},
   "duration": 6.823106,
   "end_time": "2021-08-30T21:30:12.015523",
   "environment_variables": {},
   "exception": null,
   "input_path": "eBay_Overview.ipynb",
   "output_path": "eBay_Overview.ipynb",
   "parameters": {},
   "start_time": "2021-08-30T21:30:05.192417",
   "version": "2.3.3"
  }
 },
 "nbformat": 4,
 "nbformat_minor": 5
}