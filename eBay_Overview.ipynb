{
 "cells": [
  {
   "cell_type": "code",
   "execution_count": 1,
   "id": "reverse-picking",
   "metadata": {
    "execution": {
     "iopub.execute_input": "2021-10-20T01:30:07.273143Z",
     "iopub.status.busy": "2021-10-20T01:30:07.271087Z",
     "iopub.status.idle": "2021-10-20T01:30:08.107991Z",
     "shell.execute_reply": "2021-10-20T01:30:08.109483Z"
    },
    "papermill": {
     "duration": 0.889862,
     "end_time": "2021-10-20T01:30:08.110111",
     "exception": false,
     "start_time": "2021-10-20T01:30:07.220249",
     "status": "completed"
    },
    "tags": []
   },
   "outputs": [],
   "source": [
    "import pandas as pd\n",
    "import sqlite3"
   ]
  },
  {
   "cell_type": "code",
   "execution_count": 2,
   "id": "innovative-syndrome",
   "metadata": {
    "execution": {
     "iopub.execute_input": "2021-10-20T01:30:08.162508Z",
     "iopub.status.busy": "2021-10-20T01:30:08.160092Z",
     "iopub.status.idle": "2021-10-20T01:30:08.746950Z",
     "shell.execute_reply": "2021-10-20T01:30:08.748205Z"
    },
    "papermill": {
     "duration": 0.617108,
     "end_time": "2021-10-20T01:30:08.748608",
     "exception": false,
     "start_time": "2021-10-20T01:30:08.131500",
     "status": "completed"
    },
    "tags": []
   },
   "outputs": [],
   "source": [
    "timestamps = pd.read_sql(\"select distinct record_time from EBAY_TOP_BERLIN order by record_time desc limit 2\", sqlite3.connect(\"UsedObjects.db\"))"
   ]
  },
  {
   "cell_type": "code",
   "execution_count": 3,
   "id": "periodic-identification",
   "metadata": {
    "execution": {
     "iopub.execute_input": "2021-10-20T01:30:08.828778Z",
     "iopub.status.busy": "2021-10-20T01:30:08.826708Z",
     "iopub.status.idle": "2021-10-20T01:30:08.847147Z",
     "shell.execute_reply": "2021-10-20T01:30:08.848331Z"
    },
    "papermill": {
     "duration": 0.072114,
     "end_time": "2021-10-20T01:30:08.848909",
     "exception": false,
     "start_time": "2021-10-20T01:30:08.776795",
     "status": "completed"
    },
    "tags": []
   },
   "outputs": [
    {
     "data": {
      "text/html": [
       "<div>\n",
       "<style scoped>\n",
       "    .dataframe tbody tr th:only-of-type {\n",
       "        vertical-align: middle;\n",
       "    }\n",
       "\n",
       "    .dataframe tbody tr th {\n",
       "        vertical-align: top;\n",
       "    }\n",
       "\n",
       "    .dataframe thead th {\n",
       "        text-align: right;\n",
       "    }\n",
       "</style>\n",
       "<table border=\"1\" class=\"dataframe\">\n",
       "  <thead>\n",
       "    <tr style=\"text-align: right;\">\n",
       "      <th></th>\n",
       "      <th>RECORD_TIME</th>\n",
       "    </tr>\n",
       "  </thead>\n",
       "  <tbody>\n",
       "    <tr>\n",
       "      <th>0</th>\n",
       "      <td>2021-10-20 03:30</td>\n",
       "    </tr>\n",
       "    <tr>\n",
       "      <th>1</th>\n",
       "      <td>2021-10-20 03:00</td>\n",
       "    </tr>\n",
       "  </tbody>\n",
       "</table>\n",
       "</div>"
      ],
      "text/plain": [
       "        RECORD_TIME\n",
       "0  2021-10-20 03:30\n",
       "1  2021-10-20 03:00"
      ]
     },
     "execution_count": 3,
     "metadata": {},
     "output_type": "execute_result"
    }
   ],
   "source": [
    "timestamps"
   ]
  },
  {
   "cell_type": "code",
   "execution_count": 4,
   "id": "alternate-victory",
   "metadata": {
    "execution": {
     "iopub.execute_input": "2021-10-20T01:30:08.903574Z",
     "iopub.status.busy": "2021-10-20T01:30:08.901541Z",
     "iopub.status.idle": "2021-10-20T01:30:09.772088Z",
     "shell.execute_reply": "2021-10-20T01:30:09.773507Z"
    },
    "papermill": {
     "duration": 0.901523,
     "end_time": "2021-10-20T01:30:09.773923",
     "exception": false,
     "start_time": "2021-10-20T01:30:08.872400",
     "status": "completed"
    },
    "tags": []
   },
   "outputs": [],
   "source": [
    "df = pd.read_sql(\"select * from EBAY_TOP_BERLIN where record_time in (select distinct record_time from EBAY_TOP_BERLIN order by record_time desc limit 2)\", sqlite3.connect(\"UsedObjects.db\"))"
   ]
  },
  {
   "cell_type": "code",
   "execution_count": 5,
   "id": "popular-active",
   "metadata": {
    "execution": {
     "iopub.execute_input": "2021-10-20T01:30:09.844752Z",
     "iopub.status.busy": "2021-10-20T01:30:09.833933Z",
     "iopub.status.idle": "2021-10-20T01:30:09.861229Z",
     "shell.execute_reply": "2021-10-20T01:30:09.862427Z"
    },
    "papermill": {
     "duration": 0.066733,
     "end_time": "2021-10-20T01:30:09.862819",
     "exception": false,
     "start_time": "2021-10-20T01:30:09.796086",
     "status": "completed"
    },
    "tags": []
   },
   "outputs": [],
   "source": [
    "df_pivot = df.pivot_table(index=\"PRODUCT\", columns = \"RECORD_TIME\", values = \"LISTING_COUNT\")"
   ]
  },
  {
   "cell_type": "code",
   "execution_count": 6,
   "id": "union-huntington",
   "metadata": {
    "execution": {
     "iopub.execute_input": "2021-10-20T01:30:09.923163Z",
     "iopub.status.busy": "2021-10-20T01:30:09.920668Z",
     "iopub.status.idle": "2021-10-20T01:30:09.926526Z",
     "shell.execute_reply": "2021-10-20T01:30:09.927799Z"
    },
    "papermill": {
     "duration": 0.042094,
     "end_time": "2021-10-20T01:30:09.928210",
     "exception": false,
     "start_time": "2021-10-20T01:30:09.886116",
     "status": "completed"
    },
    "tags": []
   },
   "outputs": [],
   "source": [
    "df_pivot.columns = [\"stamp_1\", \"stamp_2\"]\n",
    "df_pivot_diff = df_pivot.diff(axis=1)"
   ]
  },
  {
   "cell_type": "code",
   "execution_count": 7,
   "id": "fifth-motion",
   "metadata": {
    "execution": {
     "iopub.execute_input": "2021-10-20T01:30:09.983143Z",
     "iopub.status.busy": "2021-10-20T01:30:09.980670Z",
     "iopub.status.idle": "2021-10-20T01:30:11.482890Z",
     "shell.execute_reply": "2021-10-20T01:30:11.484770Z"
    },
    "papermill": {
     "duration": 1.536137,
     "end_time": "2021-10-20T01:30:11.485256",
     "exception": false,
     "start_time": "2021-10-20T01:30:09.949119",
     "status": "completed"
    },
    "tags": []
   },
   "outputs": [
    {
     "data": {
      "text/plain": [
       "<AxesSubplot:ylabel='PRODUCT'>"
      ]
     },
     "execution_count": 7,
     "metadata": {},
     "output_type": "execute_result"
    },
    {
     "data": {
      "image/png": "[encoded data removed]",
      "text/plain": [
       "<Figure size 432x288 with 1 Axes>"
      ]
     },
     "metadata": {
      "needs_background": "light"
     },
     "output_type": "display_data"
    }
   ],
   "source": [
    "df_pivot_diff.sort_values(\"stamp_2\", ascending = False)[\"stamp_2\"].head(10).plot.barh()"
   ]
  },
  {
   "cell_type": "code",
   "execution_count": null,
   "id": "extra-executive",
   "metadata": {
    "papermill": {
     "duration": 0.022389,
     "end_time": "2021-10-20T01:30:11.534922",
     "exception": false,
     "start_time": "2021-10-20T01:30:11.512533",
     "status": "completed"
    },
    "tags": []
   },
   "outputs": [],
   "source": []
  }
 ],
 "metadata": {
  "kernelspec": {
   "display_name": "Python 3",
   "language": "python",
   "name": "python3"
  },
  "language_info": {
   "codemirror_mode": {
    "name": "ipython",
    "version": 3
   },
   "file_extension": ".py",
   "mimetype": "text/x-python",
   "name": "python",
   "nbconvert_exporter": "python",
   "pygments_lexer": "ipython3",
   "version": "3.9.5"
  },
  "papermill": {
   "default_parameters": {},
   "duration": 7.365445,
   "end_time": "2021-10-20T01:30:12.175308",
   "environment_variables": {},
   "exception": null,
   "input_path": "eBay_Overview.ipynb",
   "output_path": "eBay_Overview.ipynb",
   "parameters": {},
   "start_time": "2021-10-20T01:30:04.809863",
   "version": "2.3.3"
  }
 },
 "nbformat": 4,
 "nbformat_minor": 5
}