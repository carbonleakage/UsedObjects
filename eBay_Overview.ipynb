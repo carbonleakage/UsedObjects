{
 "cells": [
  {
   "cell_type": "code",
   "execution_count": 1,
   "id": "reverse-picking",
   "metadata": {
    "execution": {
     "iopub.execute_input": "2021-10-25T15:00:07.210205Z",
     "iopub.status.busy": "2021-10-25T15:00:07.208194Z",
     "iopub.status.idle": "2021-10-25T15:00:08.013811Z",
     "shell.execute_reply": "2021-10-25T15:00:08.012089Z"
    },
    "papermill": {
     "duration": 0.85563,
     "end_time": "2021-10-25T15:00:08.014243",
     "exception": false,
     "start_time": "2021-10-25T15:00:07.158613",
     "status": "completed"
    },
    "tags": []
   },
   "outputs": [],
   "source": [
    "import pandas as pd\n",
    "import sqlite3"
   ]
  },
  {
   "cell_type": "code",
   "execution_count": 2,
   "id": "innovative-syndrome",
   "metadata": {
    "execution": {
     "iopub.execute_input": "2021-10-25T15:00:08.064434Z",
     "iopub.status.busy": "2021-10-25T15:00:08.062440Z",
     "iopub.status.idle": "2021-10-25T15:00:08.697256Z",
     "shell.execute_reply": "2021-10-25T15:00:08.698477Z"
    },
    "papermill": {
     "duration": 0.664576,
     "end_time": "2021-10-25T15:00:08.698876",
     "exception": false,
     "start_time": "2021-10-25T15:00:08.034300",
     "status": "completed"
    },
    "tags": []
   },
   "outputs": [],
   "source": [
    "timestamps = pd.read_sql(\"select distinct record_time from EBAY_TOP_BERLIN order by record_time desc limit 2\", sqlite3.connect(\"UsedObjects.db\"))"
   ]
  },
  {
   "cell_type": "code",
   "execution_count": 3,
   "id": "periodic-identification",
   "metadata": {
    "execution": {
     "iopub.execute_input": "2021-10-25T15:00:08.776073Z",
     "iopub.status.busy": "2021-10-25T15:00:08.774037Z",
     "iopub.status.idle": "2021-10-25T15:00:08.794250Z",
     "shell.execute_reply": "2021-10-25T15:00:08.795445Z"
    },
    "papermill": {
     "duration": 0.070716,
     "end_time": "2021-10-25T15:00:08.795870",
     "exception": false,
     "start_time": "2021-10-25T15:00:08.725154",
     "status": "completed"
    },
    "tags": []
   },
   "outputs": [
    {
     "data": {
      "text/html": [
       "<div>\n",
       "<style scoped>\n",
       "    .dataframe tbody tr th:only-of-type {\n",
       "        vertical-align: middle;\n",
       "    }\n",
       "\n",
       "    .dataframe tbody tr th {\n",
       "        vertical-align: top;\n",
       "    }\n",
       "\n",
       "    .dataframe thead th {\n",
       "        text-align: right;\n",
       "    }\n",
       "</style>\n",
       "<table border=\"1\" class=\"dataframe\">\n",
       "  <thead>\n",
       "    <tr style=\"text-align: right;\">\n",
       "      <th></th>\n",
       "      <th>RECORD_TIME</th>\n",
       "    </tr>\n",
       "  </thead>\n",
       "  <tbody>\n",
       "    <tr>\n",
       "      <th>0</th>\n",
       "      <td>2021-10-25 17:00</td>\n",
       "    </tr>\n",
       "    <tr>\n",
       "      <th>1</th>\n",
       "      <td>2021-10-25 16:30</td>\n",
       "    </tr>\n",
       "  </tbody>\n",
       "</table>\n",
       "</div>"
      ],
      "text/plain": [
       "        RECORD_TIME\n",
       "0  2021-10-25 17:00\n",
       "1  2021-10-25 16:30"
      ]
     },
     "execution_count": 3,
     "metadata": {},
     "output_type": "execute_result"
    }
   ],
   "source": [
    "timestamps"
   ]
  },
  {
   "cell_type": "code",
   "execution_count": 4,
   "id": "alternate-victory",
   "metadata": {
    "execution": {
     "iopub.execute_input": "2021-10-25T15:00:08.849457Z",
     "iopub.status.busy": "2021-10-25T15:00:08.847096Z",
     "iopub.status.idle": "2021-10-25T15:00:09.782413Z",
     "shell.execute_reply": "2021-10-25T15:00:09.783702Z"
    },
    "papermill": {
     "duration": 0.965712,
     "end_time": "2021-10-25T15:00:09.784120",
     "exception": false,
     "start_time": "2021-10-25T15:00:08.818408",
     "status": "completed"
    },
    "tags": []
   },
   "outputs": [],
   "source": [
    "df = pd.read_sql(\"select * from EBAY_TOP_BERLIN where record_time in (select distinct record_time from EBAY_TOP_BERLIN order by record_time desc limit 2)\", sqlite3.connect(\"UsedObjects.db\"))"
   ]
  },
  {
   "cell_type": "code",
   "execution_count": 5,
   "id": "popular-active",
   "metadata": {
    "execution": {
     "iopub.execute_input": "2021-10-25T15:00:09.854700Z",
     "iopub.status.busy": "2021-10-25T15:00:09.843880Z",
     "iopub.status.idle": "2021-10-25T15:00:09.870493Z",
     "shell.execute_reply": "2021-10-25T15:00:09.871705Z"
    },
    "papermill": {
     "duration": 0.067895,
     "end_time": "2021-10-25T15:00:09.872099",
     "exception": false,
     "start_time": "2021-10-25T15:00:09.804204",
     "status": "completed"
    },
    "tags": []
   },
   "outputs": [],
   "source": [
    "df_pivot = df.pivot_table(index=\"PRODUCT\", columns = \"RECORD_TIME\", values = \"LISTING_COUNT\")"
   ]
  },
  {
   "cell_type": "code",
   "execution_count": 6,
   "id": "union-huntington",
   "metadata": {
    "execution": {
     "iopub.execute_input": "2021-10-25T15:00:09.931311Z",
     "iopub.status.busy": "2021-10-25T15:00:09.928856Z",
     "iopub.status.idle": "2021-10-25T15:00:09.934921Z",
     "shell.execute_reply": "2021-10-25T15:00:09.936391Z"
    },
    "papermill": {
     "duration": 0.042618,
     "end_time": "2021-10-25T15:00:09.936902",
     "exception": false,
     "start_time": "2021-10-25T15:00:09.894284",
     "status": "completed"
    },
    "tags": []
   },
   "outputs": [],
   "source": [
    "df_pivot.columns = [\"stamp_1\", \"stamp_2\"]\n",
    "df_pivot_diff = df_pivot.diff(axis=1)"
   ]
  },
  {
   "cell_type": "code",
   "execution_count": 7,
   "id": "fifth-motion",
   "metadata": {
    "execution": {
     "iopub.execute_input": "2021-10-25T15:00:09.991412Z",
     "iopub.status.busy": "2021-10-25T15:00:09.989137Z",
     "iopub.status.idle": "2021-10-25T15:00:11.452168Z",
     "shell.execute_reply": "2021-10-25T15:00:11.453642Z"
    },
    "papermill": {
     "duration": 1.496175,
     "end_time": "2021-10-25T15:00:11.454097",
     "exception": false,
     "start_time": "2021-10-25T15:00:09.957922",
     "status": "completed"
    },
    "tags": []
   },
   "outputs": [
    {
     "data": {
      "text/plain": [
       "<AxesSubplot:ylabel='PRODUCT'>"
      ]
     },
     "execution_count": 7,
     "metadata": {},
     "output_type": "execute_result"
    },
    {
     "data": {
      "image/png": "[encoded data removed]",
      "text/plain": [
       "<Figure size 432x288 with 1 Axes>"
      ]
     },
     "metadata": {
      "needs_background": "light"
     },
     "output_type": "display_data"
    }
   ],
   "source": [
    "df_pivot_diff.sort_values(\"stamp_2\", ascending = False)[\"stamp_2\"].head(10).plot.barh()"
   ]
  },
  {
   "cell_type": "code",
   "execution_count": null,
   "id": "extra-executive",
   "metadata": {
    "papermill": {
     "duration": 0.021752,
     "end_time": "2021-10-25T15:00:11.499395",
     "exception": false,
     "start_time": "2021-10-25T15:00:11.477643",
     "status": "completed"
    },
    "tags": []
   },
   "outputs": [],
   "source": []
  }
 ],
 "metadata": {
  "kernelspec": {
   "display_name": "Python 3",
   "language": "python",
   "name": "python3"
  },
  "language_info": {
   "codemirror_mode": {
    "name": "ipython",
    "version": 3
   },
   "file_extension": ".py",
   "mimetype": "text/x-python",
   "name": "python",
   "nbconvert_exporter": "python",
   "pygments_lexer": "ipython3",
   "version": "3.9.5"
  },
  "papermill": {
   "default_parameters": {},
   "duration": 7.389024,
   "end_time": "2021-10-25T15:00:12.141915",
   "environment_variables": {},
   "exception": null,
   "input_path": "eBay_Overview.ipynb",
   "output_path": "eBay_Overview.ipynb",
   "parameters": {},
   "start_time": "2021-10-25T15:00:04.752891",
   "version": "2.3.3"
  }
 },
 "nbformat": 4,
 "nbformat_minor": 5
}