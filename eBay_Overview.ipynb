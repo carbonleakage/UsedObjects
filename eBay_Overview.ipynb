{
 "cells": [
  {
   "cell_type": "code",
   "execution_count": 1,
   "id": "reverse-picking",
   "metadata": {
    "execution": {
     "iopub.execute_input": "2021-09-10T21:00:07.152819Z",
     "iopub.status.busy": "2021-09-10T21:00:07.150828Z",
     "iopub.status.idle": "2021-09-10T21:00:07.962026Z",
     "shell.execute_reply": "2021-09-10T21:00:07.960464Z"
    },
    "papermill": {
     "duration": 0.862817,
     "end_time": "2021-09-10T21:00:07.962404",
     "exception": false,
     "start_time": "2021-09-10T21:00:07.099587",
     "status": "completed"
    },
    "tags": []
   },
   "outputs": [],
   "source": [
    "import pandas as pd\n",
    "import sqlite3"
   ]
  },
  {
   "cell_type": "code",
   "execution_count": 2,
   "id": "innovative-syndrome",
   "metadata": {
    "execution": {
     "iopub.execute_input": "2021-09-10T21:00:08.011920Z",
     "iopub.status.busy": "2021-09-10T21:00:08.009926Z",
     "iopub.status.idle": "2021-09-10T21:00:08.278386Z",
     "shell.execute_reply": "2021-09-10T21:00:08.279699Z"
    },
    "papermill": {
     "duration": 0.297883,
     "end_time": "2021-09-10T21:00:08.280122",
     "exception": false,
     "start_time": "2021-09-10T21:00:07.982239",
     "status": "completed"
    },
    "tags": []
   },
   "outputs": [],
   "source": [
    "timestamps = pd.read_sql(\"select distinct record_time from EBAY_TOP_BERLIN order by record_time desc limit 2\", sqlite3.connect(\"UsedObjects.db\"))"
   ]
  },
  {
   "cell_type": "code",
   "execution_count": 3,
   "id": "periodic-identification",
   "metadata": {
    "execution": {
     "iopub.execute_input": "2021-09-10T21:00:08.344762Z",
     "iopub.status.busy": "2021-09-10T21:00:08.342677Z",
     "iopub.status.idle": "2021-09-10T21:00:08.362576Z",
     "shell.execute_reply": "2021-09-10T21:00:08.363776Z"
    },
    "papermill": {
     "duration": 0.064637,
     "end_time": "2021-09-10T21:00:08.364192",
     "exception": false,
     "start_time": "2021-09-10T21:00:08.299555",
     "status": "completed"
    },
    "tags": []
   },
   "outputs": [
    {
     "data": {
      "text/html": [
       "<div>\n",
       "<style scoped>\n",
       "    .dataframe tbody tr th:only-of-type {\n",
       "        vertical-align: middle;\n",
       "    }\n",
       "\n",
       "    .dataframe tbody tr th {\n",
       "        vertical-align: top;\n",
       "    }\n",
       "\n",
       "    .dataframe thead th {\n",
       "        text-align: right;\n",
       "    }\n",
       "</style>\n",
       "<table border=\"1\" class=\"dataframe\">\n",
       "  <thead>\n",
       "    <tr style=\"text-align: right;\">\n",
       "      <th></th>\n",
       "      <th>RECORD_TIME</th>\n",
       "    </tr>\n",
       "  </thead>\n",
       "  <tbody>\n",
       "    <tr>\n",
       "      <th>0</th>\n",
       "      <td>2021-09-10 23:00</td>\n",
       "    </tr>\n",
       "    <tr>\n",
       "      <th>1</th>\n",
       "      <td>2021-09-10 22:30</td>\n",
       "    </tr>\n",
       "  </tbody>\n",
       "</table>\n",
       "</div>"
      ],
      "text/plain": [
       "        RECORD_TIME\n",
       "0  2021-09-10 23:00\n",
       "1  2021-09-10 22:30"
      ]
     },
     "execution_count": 3,
     "metadata": {},
     "output_type": "execute_result"
    }
   ],
   "source": [
    "timestamps"
   ]
  },
  {
   "cell_type": "code",
   "execution_count": 4,
   "id": "alternate-victory",
   "metadata": {
    "execution": {
     "iopub.execute_input": "2021-09-10T21:00:08.414548Z",
     "iopub.status.busy": "2021-09-10T21:00:08.412731Z",
     "iopub.status.idle": "2021-09-10T21:00:08.803532Z",
     "shell.execute_reply": "2021-09-10T21:00:08.804748Z"
    },
    "papermill": {
     "duration": 0.420373,
     "end_time": "2021-09-10T21:00:08.805144",
     "exception": false,
     "start_time": "2021-09-10T21:00:08.384771",
     "status": "completed"
    },
    "tags": []
   },
   "outputs": [],
   "source": [
    "df = pd.read_sql(\"select * from EBAY_TOP_BERLIN where record_time in (select distinct record_time from EBAY_TOP_BERLIN order by record_time desc limit 2)\", sqlite3.connect(\"UsedObjects.db\"))"
   ]
  },
  {
   "cell_type": "code",
   "execution_count": 5,
   "id": "popular-active",
   "metadata": {
    "execution": {
     "iopub.execute_input": "2021-09-10T21:00:08.898242Z",
     "iopub.status.busy": "2021-09-10T21:00:08.884590Z",
     "iopub.status.idle": "2021-09-10T21:00:08.915530Z",
     "shell.execute_reply": "2021-09-10T21:00:08.916913Z"
    },
    "papermill": {
     "duration": 0.078681,
     "end_time": "2021-09-10T21:00:08.917355",
     "exception": false,
     "start_time": "2021-09-10T21:00:08.838674",
     "status": "completed"
    },
    "tags": []
   },
   "outputs": [],
   "source": [
    "df_pivot = df.pivot_table(index=\"PRODUCT\", columns = \"RECORD_TIME\", values = \"LISTING_COUNT\")"
   ]
  },
  {
   "cell_type": "code",
   "execution_count": 6,
   "id": "union-huntington",
   "metadata": {
    "execution": {
     "iopub.execute_input": "2021-09-10T21:00:08.974321Z",
     "iopub.status.busy": "2021-09-10T21:00:08.971901Z",
     "iopub.status.idle": "2021-09-10T21:00:08.977635Z",
     "shell.execute_reply": "2021-09-10T21:00:08.978950Z"
    },
    "papermill": {
     "duration": 0.041885,
     "end_time": "2021-09-10T21:00:08.979366",
     "exception": false,
     "start_time": "2021-09-10T21:00:08.937481",
     "status": "completed"
    },
    "tags": []
   },
   "outputs": [],
   "source": [
    "df_pivot.columns = [\"stamp_1\", \"stamp_2\"]\n",
    "df_pivot_diff = df_pivot.diff(axis=1)"
   ]
  },
  {
   "cell_type": "code",
   "execution_count": 7,
   "id": "fifth-motion",
   "metadata": {
    "execution": {
     "iopub.execute_input": "2021-09-10T21:00:09.033128Z",
     "iopub.status.busy": "2021-09-10T21:00:09.030779Z",
     "iopub.status.idle": "2021-09-10T21:00:10.534119Z",
     "shell.execute_reply": "2021-09-10T21:00:10.535486Z"
    },
    "papermill": {
     "duration": 1.536279,
     "end_time": "2021-09-10T21:00:10.535918",
     "exception": false,
     "start_time": "2021-09-10T21:00:08.999639",
     "status": "completed"
    },
    "tags": []
   },
   "outputs": [
    {
     "data": {
      "text/plain": [
       "<AxesSubplot:ylabel='PRODUCT'>"
      ]
     },
     "execution_count": 7,
     "metadata": {},
     "output_type": "execute_result"
    },
    {
     "data": {
      "image/png": "[encoded data removed]",
      "text/plain": [
       "<Figure size 432x288 with 1 Axes>"
      ]
     },
     "metadata": {
      "needs_background": "light"
     },
     "output_type": "display_data"
    }
   ],
   "source": [
    "df_pivot_diff.sort_values(\"stamp_2\", ascending = False)[\"stamp_2\"].head(10).plot.barh()"
   ]
  },
  {
   "cell_type": "code",
   "execution_count": null,
   "id": "extra-executive",
   "metadata": {
    "papermill": {
     "duration": 0.02186,
     "end_time": "2021-09-10T21:00:10.580488",
     "exception": false,
     "start_time": "2021-09-10T21:00:10.558628",
     "status": "completed"
    },
    "tags": []
   },
   "outputs": [],
   "source": []
  }
 ],
 "metadata": {
  "kernelspec": {
   "display_name": "Python 3",
   "language": "python",
   "name": "python3"
  },
  "language_info": {
   "codemirror_mode": {
    "name": "ipython",
    "version": 3
   },
   "file_extension": ".py",
   "mimetype": "text/x-python",
   "name": "python",
   "nbconvert_exporter": "python",
   "pygments_lexer": "ipython3",
   "version": "3.9.5"
  },
  "papermill": {
   "default_parameters": {},
   "duration": 6.536999,
   "end_time": "2021-09-10T21:00:11.220552",
   "environment_variables": {},
   "exception": null,
   "input_path": "eBay_Overview.ipynb",
   "output_path": "eBay_Overview.ipynb",
   "parameters": {},
   "start_time": "2021-09-10T21:00:04.683553",
   "version": "2.3.3"
  }
 },
 "nbformat": 4,
 "nbformat_minor": 5
}