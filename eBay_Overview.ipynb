{
 "cells": [
  {
   "cell_type": "code",
   "execution_count": 1,
   "id": "reverse-picking",
   "metadata": {
    "execution": {
     "iopub.execute_input": "2021-10-28T18:30:06.970805Z",
     "iopub.status.busy": "2021-10-28T18:30:06.968847Z",
     "iopub.status.idle": "2021-10-28T18:30:07.776105Z",
     "shell.execute_reply": "2021-10-28T18:30:07.777447Z"
    },
    "papermill": {
     "duration": 0.859519,
     "end_time": "2021-10-28T18:30:07.778079",
     "exception": false,
     "start_time": "2021-10-28T18:30:06.918560",
     "status": "completed"
    },
    "tags": []
   },
   "outputs": [],
   "source": [
    "import pandas as pd\n",
    "import sqlite3"
   ]
  },
  {
   "cell_type": "code",
   "execution_count": 2,
   "id": "innovative-syndrome",
   "metadata": {
    "execution": {
     "iopub.execute_input": "2021-10-28T18:30:07.828850Z",
     "iopub.status.busy": "2021-10-28T18:30:07.826911Z",
     "iopub.status.idle": "2021-10-28T18:30:08.468596Z",
     "shell.execute_reply": "2021-10-28T18:30:08.469950Z"
    },
    "papermill": {
     "duration": 0.671314,
     "end_time": "2021-10-28T18:30:08.470371",
     "exception": false,
     "start_time": "2021-10-28T18:30:07.799057",
     "status": "completed"
    },
    "tags": []
   },
   "outputs": [],
   "source": [
    "timestamps = pd.read_sql(\"select distinct record_time from EBAY_TOP_BERLIN order by record_time desc limit 2\", sqlite3.connect(\"UsedObjects.db\"))"
   ]
  },
  {
   "cell_type": "code",
   "execution_count": 3,
   "id": "periodic-identification",
   "metadata": {
    "execution": {
     "iopub.execute_input": "2021-10-28T18:30:08.547776Z",
     "iopub.status.busy": "2021-10-28T18:30:08.545766Z",
     "iopub.status.idle": "2021-10-28T18:30:08.565695Z",
     "shell.execute_reply": "2021-10-28T18:30:08.566905Z"
    },
    "papermill": {
     "duration": 0.071627,
     "end_time": "2021-10-28T18:30:08.567332",
     "exception": false,
     "start_time": "2021-10-28T18:30:08.495705",
     "status": "completed"
    },
    "tags": []
   },
   "outputs": [
    {
     "data": {
      "text/html": [
       "<div>\n",
       "<style scoped>\n",
       "    .dataframe tbody tr th:only-of-type {\n",
       "        vertical-align: middle;\n",
       "    }\n",
       "\n",
       "    .dataframe tbody tr th {\n",
       "        vertical-align: top;\n",
       "    }\n",
       "\n",
       "    .dataframe thead th {\n",
       "        text-align: right;\n",
       "    }\n",
       "</style>\n",
       "<table border=\"1\" class=\"dataframe\">\n",
       "  <thead>\n",
       "    <tr style=\"text-align: right;\">\n",
       "      <th></th>\n",
       "      <th>RECORD_TIME</th>\n",
       "    </tr>\n",
       "  </thead>\n",
       "  <tbody>\n",
       "    <tr>\n",
       "      <th>0</th>\n",
       "      <td>2021-10-28 20:30</td>\n",
       "    </tr>\n",
       "    <tr>\n",
       "      <th>1</th>\n",
       "      <td>2021-10-28 20:00</td>\n",
       "    </tr>\n",
       "  </tbody>\n",
       "</table>\n",
       "</div>"
      ],
      "text/plain": [
       "        RECORD_TIME\n",
       "0  2021-10-28 20:30\n",
       "1  2021-10-28 20:00"
      ]
     },
     "execution_count": 3,
     "metadata": {},
     "output_type": "execute_result"
    }
   ],
   "source": [
    "timestamps"
   ]
  },
  {
   "cell_type": "code",
   "execution_count": 4,
   "id": "alternate-victory",
   "metadata": {
    "execution": {
     "iopub.execute_input": "2021-10-28T18:30:08.618201Z",
     "iopub.status.busy": "2021-10-28T18:30:08.616128Z",
     "iopub.status.idle": "2021-10-28T18:30:09.583880Z",
     "shell.execute_reply": "2021-10-28T18:30:09.585170Z"
    },
    "papermill": {
     "duration": 0.997789,
     "end_time": "2021-10-28T18:30:09.585576",
     "exception": false,
     "start_time": "2021-10-28T18:30:08.587787",
     "status": "completed"
    },
    "tags": []
   },
   "outputs": [],
   "source": [
    "df = pd.read_sql(\"select * from EBAY_TOP_BERLIN where record_time in (select distinct record_time from EBAY_TOP_BERLIN order by record_time desc limit 2)\", sqlite3.connect(\"UsedObjects.db\"))"
   ]
  },
  {
   "cell_type": "code",
   "execution_count": 5,
   "id": "popular-active",
   "metadata": {
    "execution": {
     "iopub.execute_input": "2021-10-28T18:30:09.649632Z",
     "iopub.status.busy": "2021-10-28T18:30:09.643023Z",
     "iopub.status.idle": "2021-10-28T18:30:09.671313Z",
     "shell.execute_reply": "2021-10-28T18:30:09.672540Z"
    },
    "papermill": {
     "duration": 0.066842,
     "end_time": "2021-10-28T18:30:09.673128",
     "exception": false,
     "start_time": "2021-10-28T18:30:09.606286",
     "status": "completed"
    },
    "tags": []
   },
   "outputs": [],
   "source": [
    "df_pivot = df.pivot_table(index=\"PRODUCT\", columns = \"RECORD_TIME\", values = \"LISTING_COUNT\")"
   ]
  },
  {
   "cell_type": "code",
   "execution_count": 6,
   "id": "union-huntington",
   "metadata": {
    "execution": {
     "iopub.execute_input": "2021-10-28T18:30:09.732246Z",
     "iopub.status.busy": "2021-10-28T18:30:09.729974Z",
     "iopub.status.idle": "2021-10-28T18:30:09.735665Z",
     "shell.execute_reply": "2021-10-28T18:30:09.737012Z"
    },
    "papermill": {
     "duration": 0.041983,
     "end_time": "2021-10-28T18:30:09.737444",
     "exception": false,
     "start_time": "2021-10-28T18:30:09.695461",
     "status": "completed"
    },
    "tags": []
   },
   "outputs": [],
   "source": [
    "df_pivot.columns = [\"stamp_1\", \"stamp_2\"]\n",
    "df_pivot_diff = df_pivot.diff(axis=1)"
   ]
  },
  {
   "cell_type": "code",
   "execution_count": 7,
   "id": "fifth-motion",
   "metadata": {
    "execution": {
     "iopub.execute_input": "2021-10-28T18:30:09.792287Z",
     "iopub.status.busy": "2021-10-28T18:30:09.790005Z",
     "iopub.status.idle": "2021-10-28T18:30:11.297034Z",
     "shell.execute_reply": "2021-10-28T18:30:11.298333Z"
    },
    "papermill": {
     "duration": 1.540472,
     "end_time": "2021-10-28T18:30:11.298750",
     "exception": false,
     "start_time": "2021-10-28T18:30:09.758278",
     "status": "completed"
    },
    "tags": []
   },
   "outputs": [
    {
     "data": {
      "text/plain": [
       "<AxesSubplot:ylabel='PRODUCT'>"
      ]
     },
     "execution_count": 7,
     "metadata": {},
     "output_type": "execute_result"
    },
    {
     "data": {
      "image/png": "[encoded data removed]",
      "text/plain": [
       "<Figure size 432x288 with 1 Axes>"
      ]
     },
     "metadata": {
      "needs_background": "light"
     },
     "output_type": "display_data"
    }
   ],
   "source": [
    "df_pivot_diff.sort_values(\"stamp_2\", ascending = False)[\"stamp_2\"].head(10).plot.barh()"
   ]
  },
  {
   "cell_type": "code",
   "execution_count": null,
   "id": "extra-executive",
   "metadata": {
    "papermill": {
     "duration": 0.022917,
     "end_time": "2021-10-28T18:30:11.346579",
     "exception": false,
     "start_time": "2021-10-28T18:30:11.323662",
     "status": "completed"
    },
    "tags": []
   },
   "outputs": [],
   "source": []
  }
 ],
 "metadata": {
  "kernelspec": {
   "display_name": "Python 3",
   "language": "python",
   "name": "python3"
  },
  "language_info": {
   "codemirror_mode": {
    "name": "ipython",
    "version": 3
   },
   "file_extension": ".py",
   "mimetype": "text/x-python",
   "name": "python",
   "nbconvert_exporter": "python",
   "pygments_lexer": "ipython3",
   "version": "3.9.5"
  },
  "papermill": {
   "default_parameters": {},
   "duration": 7.476992,
   "end_time": "2021-10-28T18:30:11.990127",
   "environment_variables": {},
   "exception": null,
   "input_path": "eBay_Overview.ipynb",
   "output_path": "eBay_Overview.ipynb",
   "parameters": {},
   "start_time": "2021-10-28T18:30:04.513135",
   "version": "2.3.3"
  }
 },
 "nbformat": 4,
 "nbformat_minor": 5
}