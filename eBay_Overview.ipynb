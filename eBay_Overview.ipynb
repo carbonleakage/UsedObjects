{
 "cells": [
  {
   "cell_type": "code",
   "execution_count": 1,
   "id": "reverse-picking",
   "metadata": {
    "execution": {
     "iopub.execute_input": "2021-10-16T06:30:07.289146Z",
     "iopub.status.busy": "2021-10-16T06:30:07.287097Z",
     "iopub.status.idle": "2021-10-16T06:30:08.094291Z",
     "shell.execute_reply": "2021-10-16T06:30:08.095467Z"
    },
    "papermill": {
     "duration": 0.858317,
     "end_time": "2021-10-16T06:30:08.096094",
     "exception": false,
     "start_time": "2021-10-16T06:30:07.237777",
     "status": "completed"
    },
    "tags": []
   },
   "outputs": [],
   "source": [
    "import pandas as pd\n",
    "import sqlite3"
   ]
  },
  {
   "cell_type": "code",
   "execution_count": 2,
   "id": "innovative-syndrome",
   "metadata": {
    "execution": {
     "iopub.execute_input": "2021-10-16T06:30:08.147434Z",
     "iopub.status.busy": "2021-10-16T06:30:08.145549Z",
     "iopub.status.idle": "2021-10-16T06:30:08.683408Z",
     "shell.execute_reply": "2021-10-16T06:30:08.684623Z"
    },
    "papermill": {
     "duration": 0.567409,
     "end_time": "2021-10-16T06:30:08.685081",
     "exception": false,
     "start_time": "2021-10-16T06:30:08.117672",
     "status": "completed"
    },
    "tags": []
   },
   "outputs": [],
   "source": [
    "timestamps = pd.read_sql(\"select distinct record_time from EBAY_TOP_BERLIN order by record_time desc limit 2\", sqlite3.connect(\"UsedObjects.db\"))"
   ]
  },
  {
   "cell_type": "code",
   "execution_count": 3,
   "id": "periodic-identification",
   "metadata": {
    "execution": {
     "iopub.execute_input": "2021-10-16T06:30:08.759557Z",
     "iopub.status.busy": "2021-10-16T06:30:08.757502Z",
     "iopub.status.idle": "2021-10-16T06:30:08.777480Z",
     "shell.execute_reply": "2021-10-16T06:30:08.778693Z"
    },
    "papermill": {
     "duration": 0.073892,
     "end_time": "2021-10-16T06:30:08.779125",
     "exception": false,
     "start_time": "2021-10-16T06:30:08.705233",
     "status": "completed"
    },
    "tags": []
   },
   "outputs": [
    {
     "data": {
      "text/html": [
       "<div>\n",
       "<style scoped>\n",
       "    .dataframe tbody tr th:only-of-type {\n",
       "        vertical-align: middle;\n",
       "    }\n",
       "\n",
       "    .dataframe tbody tr th {\n",
       "        vertical-align: top;\n",
       "    }\n",
       "\n",
       "    .dataframe thead th {\n",
       "        text-align: right;\n",
       "    }\n",
       "</style>\n",
       "<table border=\"1\" class=\"dataframe\">\n",
       "  <thead>\n",
       "    <tr style=\"text-align: right;\">\n",
       "      <th></th>\n",
       "      <th>RECORD_TIME</th>\n",
       "    </tr>\n",
       "  </thead>\n",
       "  <tbody>\n",
       "    <tr>\n",
       "      <th>0</th>\n",
       "      <td>2021-10-16 08:30</td>\n",
       "    </tr>\n",
       "    <tr>\n",
       "      <th>1</th>\n",
       "      <td>2021-10-16 08:00</td>\n",
       "    </tr>\n",
       "  </tbody>\n",
       "</table>\n",
       "</div>"
      ],
      "text/plain": [
       "        RECORD_TIME\n",
       "0  2021-10-16 08:30\n",
       "1  2021-10-16 08:00"
      ]
     },
     "execution_count": 3,
     "metadata": {},
     "output_type": "execute_result"
    }
   ],
   "source": [
    "timestamps"
   ]
  },
  {
   "cell_type": "code",
   "execution_count": 4,
   "id": "alternate-victory",
   "metadata": {
    "execution": {
     "iopub.execute_input": "2021-10-16T06:30:08.830212Z",
     "iopub.status.busy": "2021-10-16T06:30:08.828237Z",
     "iopub.status.idle": "2021-10-16T06:30:09.661500Z",
     "shell.execute_reply": "2021-10-16T06:30:09.662744Z"
    },
    "papermill": {
     "duration": 0.863107,
     "end_time": "2021-10-16T06:30:09.663140",
     "exception": false,
     "start_time": "2021-10-16T06:30:08.800033",
     "status": "completed"
    },
    "tags": []
   },
   "outputs": [],
   "source": [
    "df = pd.read_sql(\"select * from EBAY_TOP_BERLIN where record_time in (select distinct record_time from EBAY_TOP_BERLIN order by record_time desc limit 2)\", sqlite3.connect(\"UsedObjects.db\"))"
   ]
  },
  {
   "cell_type": "code",
   "execution_count": 5,
   "id": "popular-active",
   "metadata": {
    "execution": {
     "iopub.execute_input": "2021-10-16T06:30:09.734300Z",
     "iopub.status.busy": "2021-10-16T06:30:09.721754Z",
     "iopub.status.idle": "2021-10-16T06:30:09.751317Z",
     "shell.execute_reply": "2021-10-16T06:30:09.752614Z"
    },
    "papermill": {
     "duration": 0.068195,
     "end_time": "2021-10-16T06:30:09.753086",
     "exception": false,
     "start_time": "2021-10-16T06:30:09.684891",
     "status": "completed"
    },
    "tags": []
   },
   "outputs": [],
   "source": [
    "df_pivot = df.pivot_table(index=\"PRODUCT\", columns = \"RECORD_TIME\", values = \"LISTING_COUNT\")"
   ]
  },
  {
   "cell_type": "code",
   "execution_count": 6,
   "id": "union-huntington",
   "metadata": {
    "execution": {
     "iopub.execute_input": "2021-10-16T06:30:09.809153Z",
     "iopub.status.busy": "2021-10-16T06:30:09.807016Z",
     "iopub.status.idle": "2021-10-16T06:30:09.812304Z",
     "shell.execute_reply": "2021-10-16T06:30:09.813682Z"
    },
    "papermill": {
     "duration": 0.040953,
     "end_time": "2021-10-16T06:30:09.814109",
     "exception": false,
     "start_time": "2021-10-16T06:30:09.773156",
     "status": "completed"
    },
    "tags": []
   },
   "outputs": [],
   "source": [
    "df_pivot.columns = [\"stamp_1\", \"stamp_2\"]\n",
    "df_pivot_diff = df_pivot.diff(axis=1)"
   ]
  },
  {
   "cell_type": "code",
   "execution_count": 7,
   "id": "fifth-motion",
   "metadata": {
    "execution": {
     "iopub.execute_input": "2021-10-16T06:30:09.867676Z",
     "iopub.status.busy": "2021-10-16T06:30:09.865235Z",
     "iopub.status.idle": "2021-10-16T06:30:11.358704Z",
     "shell.execute_reply": "2021-10-16T06:30:11.359998Z"
    },
    "papermill": {
     "duration": 1.525968,
     "end_time": "2021-10-16T06:30:11.360412",
     "exception": false,
     "start_time": "2021-10-16T06:30:09.834444",
     "status": "completed"
    },
    "tags": []
   },
   "outputs": [
    {
     "data": {
      "text/plain": [
       "<AxesSubplot:ylabel='PRODUCT'>"
      ]
     },
     "execution_count": 7,
     "metadata": {},
     "output_type": "execute_result"
    },
    {
     "data": {
      "image/png": "[encoded data removed]",
      "text/plain": [
       "<Figure size 432x288 with 1 Axes>"
      ]
     },
     "metadata": {
      "needs_background": "light"
     },
     "output_type": "display_data"
    }
   ],
   "source": [
    "df_pivot_diff.sort_values(\"stamp_2\", ascending = False)[\"stamp_2\"].head(10).plot.barh()"
   ]
  },
  {
   "cell_type": "code",
   "execution_count": null,
   "id": "extra-executive",
   "metadata": {
    "papermill": {
     "duration": 0.02174,
     "end_time": "2021-10-16T06:30:11.405569",
     "exception": false,
     "start_time": "2021-10-16T06:30:11.383829",
     "status": "completed"
    },
    "tags": []
   },
   "outputs": [],
   "source": []
  }
 ],
 "metadata": {
  "kernelspec": {
   "display_name": "Python 3",
   "language": "python",
   "name": "python3"
  },
  "language_info": {
   "codemirror_mode": {
    "name": "ipython",
    "version": 3
   },
   "file_extension": ".py",
   "mimetype": "text/x-python",
   "name": "python",
   "nbconvert_exporter": "python",
   "pygments_lexer": "ipython3",
   "version": "3.9.5"
  },
  "papermill": {
   "default_parameters": {},
   "duration": 7.819063,
   "end_time": "2021-10-16T06:30:12.652226",
   "environment_variables": {},
   "exception": null,
   "input_path": "eBay_Overview.ipynb",
   "output_path": "eBay_Overview.ipynb",
   "parameters": {},
   "start_time": "2021-10-16T06:30:04.833163",
   "version": "2.3.3"
  }
 },
 "nbformat": 4,
 "nbformat_minor": 5
}