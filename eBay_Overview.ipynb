{
 "cells": [
  {
   "cell_type": "code",
   "execution_count": 1,
   "id": "reverse-picking",
   "metadata": {
    "execution": {
     "iopub.execute_input": "2021-12-15T03:00:08.301869Z",
     "iopub.status.busy": "2021-12-15T03:00:08.299030Z",
     "iopub.status.idle": "2021-12-15T03:00:09.243114Z",
     "shell.execute_reply": "2021-12-15T03:00:09.244640Z"
    },
    "papermill": {
     "duration": 0.994609,
     "end_time": "2021-12-15T03:00:09.245400",
     "exception": false,
     "start_time": "2021-12-15T03:00:08.250791",
     "status": "completed"
    },
    "tags": []
   },
   "outputs": [],
   "source": [
    "import pandas as pd\n",
    "import sqlite3"
   ]
  },
  {
   "cell_type": "code",
   "execution_count": 2,
   "id": "innovative-syndrome",
   "metadata": {
    "execution": {
     "iopub.execute_input": "2021-12-15T03:00:09.310721Z",
     "iopub.status.busy": "2021-12-15T03:00:09.308310Z",
     "iopub.status.idle": "2021-12-15T03:00:10.368620Z",
     "shell.execute_reply": "2021-12-15T03:00:10.369982Z"
    },
    "papermill": {
     "duration": 1.094595,
     "end_time": "2021-12-15T03:00:10.370402",
     "exception": false,
     "start_time": "2021-12-15T03:00:09.275807",
     "status": "completed"
    },
    "tags": []
   },
   "outputs": [],
   "source": [
    "timestamps = pd.read_sql(\"select distinct record_time from EBAY_TOP_BERLIN order by record_time desc limit 2\", sqlite3.connect(\"UsedObjects.db\"))"
   ]
  },
  {
   "cell_type": "code",
   "execution_count": 3,
   "id": "periodic-identification",
   "metadata": {
    "execution": {
     "iopub.execute_input": "2021-12-15T03:00:10.435480Z",
     "iopub.status.busy": "2021-12-15T03:00:10.433404Z",
     "iopub.status.idle": "2021-12-15T03:00:10.455303Z",
     "shell.execute_reply": "2021-12-15T03:00:10.453965Z"
    },
    "papermill": {
     "duration": 0.065803,
     "end_time": "2021-12-15T03:00:10.455639",
     "exception": false,
     "start_time": "2021-12-15T03:00:10.389836",
     "status": "completed"
    },
    "tags": []
   },
   "outputs": [
    {
     "data": {
      "text/html": [
       "<div>\n",
       "<style scoped>\n",
       "    .dataframe tbody tr th:only-of-type {\n",
       "        vertical-align: middle;\n",
       "    }\n",
       "\n",
       "    .dataframe tbody tr th {\n",
       "        vertical-align: top;\n",
       "    }\n",
       "\n",
       "    .dataframe thead th {\n",
       "        text-align: right;\n",
       "    }\n",
       "</style>\n",
       "<table border=\"1\" class=\"dataframe\">\n",
       "  <thead>\n",
       "    <tr style=\"text-align: right;\">\n",
       "      <th></th>\n",
       "      <th>RECORD_TIME</th>\n",
       "    </tr>\n",
       "  </thead>\n",
       "  <tbody>\n",
       "    <tr>\n",
       "      <th>0</th>\n",
       "      <td>2021-12-15 04:00</td>\n",
       "    </tr>\n",
       "    <tr>\n",
       "      <th>1</th>\n",
       "      <td>2021-12-15 03:30</td>\n",
       "    </tr>\n",
       "  </tbody>\n",
       "</table>\n",
       "</div>"
      ],
      "text/plain": [
       "        RECORD_TIME\n",
       "0  2021-12-15 04:00\n",
       "1  2021-12-15 03:30"
      ]
     },
     "execution_count": 3,
     "metadata": {},
     "output_type": "execute_result"
    }
   ],
   "source": [
    "timestamps"
   ]
  },
  {
   "cell_type": "code",
   "execution_count": 4,
   "id": "alternate-victory",
   "metadata": {
    "execution": {
     "iopub.execute_input": "2021-12-15T03:00:10.508483Z",
     "iopub.status.busy": "2021-12-15T03:00:10.506180Z",
     "iopub.status.idle": "2021-12-15T03:00:12.081582Z",
     "shell.execute_reply": "2021-12-15T03:00:12.083032Z"
    },
    "papermill": {
     "duration": 1.605928,
     "end_time": "2021-12-15T03:00:12.083486",
     "exception": false,
     "start_time": "2021-12-15T03:00:10.477558",
     "status": "completed"
    },
    "tags": []
   },
   "outputs": [],
   "source": [
    "df = pd.read_sql(\"select * from EBAY_TOP_BERLIN where record_time in (select distinct record_time from EBAY_TOP_BERLIN order by record_time desc limit 2)\", sqlite3.connect(\"UsedObjects.db\"))"
   ]
  },
  {
   "cell_type": "code",
   "execution_count": 5,
   "id": "popular-active",
   "metadata": {
    "execution": {
     "iopub.execute_input": "2021-12-15T03:00:12.160656Z",
     "iopub.status.busy": "2021-12-15T03:00:12.145962Z",
     "iopub.status.idle": "2021-12-15T03:00:12.180035Z",
     "shell.execute_reply": "2021-12-15T03:00:12.181470Z"
    },
    "papermill": {
     "duration": 0.077737,
     "end_time": "2021-12-15T03:00:12.181940",
     "exception": false,
     "start_time": "2021-12-15T03:00:12.104203",
     "status": "completed"
    },
    "tags": []
   },
   "outputs": [],
   "source": [
    "df_pivot = df.pivot_table(index=\"PRODUCT\", columns = \"RECORD_TIME\", values = \"LISTING_COUNT\")"
   ]
  },
  {
   "cell_type": "code",
   "execution_count": 6,
   "id": "union-huntington",
   "metadata": {
    "execution": {
     "iopub.execute_input": "2021-12-15T03:00:12.239358Z",
     "iopub.status.busy": "2021-12-15T03:00:12.237160Z",
     "iopub.status.idle": "2021-12-15T03:00:12.244331Z",
     "shell.execute_reply": "2021-12-15T03:00:12.242793Z"
    },
    "papermill": {
     "duration": 0.043093,
     "end_time": "2021-12-15T03:00:12.244794",
     "exception": false,
     "start_time": "2021-12-15T03:00:12.201701",
     "status": "completed"
    },
    "tags": []
   },
   "outputs": [],
   "source": [
    "df_pivot.columns = [\"stamp_1\", \"stamp_2\"]\n",
    "df_pivot_diff = df_pivot.diff(axis=1)"
   ]
  },
  {
   "cell_type": "code",
   "execution_count": 7,
   "id": "fifth-motion",
   "metadata": {
    "execution": {
     "iopub.execute_input": "2021-12-15T03:00:12.311347Z",
     "iopub.status.busy": "2021-12-15T03:00:12.309099Z",
     "iopub.status.idle": "2021-12-15T03:00:14.322374Z",
     "shell.execute_reply": "2021-12-15T03:00:14.323561Z"
    },
    "papermill": {
     "duration": 2.048884,
     "end_time": "2021-12-15T03:00:14.323986",
     "exception": false,
     "start_time": "2021-12-15T03:00:12.275102",
     "status": "completed"
    },
    "tags": []
   },
   "outputs": [
    {
     "data": {
      "text/plain": [
       "<AxesSubplot:ylabel='PRODUCT'>"
      ]
     },
     "execution_count": 7,
     "metadata": {},
     "output_type": "execute_result"
    },
    {
     "data": {
      "image/png": "[encoded data removed]",
      "text/plain": [
       "<Figure size 432x288 with 1 Axes>"
      ]
     },
     "metadata": {
      "needs_background": "light"
     },
     "output_type": "display_data"
    }
   ],
   "source": [
    "df_pivot_diff.sort_values(\"stamp_2\", ascending = False)[\"stamp_2\"].head(10).plot.barh()"
   ]
  },
  {
   "cell_type": "code",
   "execution_count": null,
   "id": "extra-executive",
   "metadata": {
    "papermill": {
     "duration": 0.02785,
     "end_time": "2021-12-15T03:00:14.435932",
     "exception": false,
     "start_time": "2021-12-15T03:00:14.408082",
     "status": "completed"
    },
    "tags": []
   },
   "outputs": [],
   "source": []
  }
 ],
 "metadata": {
  "kernelspec": {
   "display_name": "Python 3",
   "language": "python",
   "name": "python3"
  },
  "language_info": {
   "codemirror_mode": {
    "name": "ipython",
    "version": 3
   },
   "file_extension": ".py",
   "mimetype": "text/x-python",
   "name": "python",
   "nbconvert_exporter": "python",
   "pygments_lexer": "ipython3",
   "version": "3.9.5"
  },
  "papermill": {
   "default_parameters": {},
   "duration": 9.550335,
   "end_time": "2021-12-15T03:00:15.099512",
   "environment_variables": {},
   "exception": null,
   "input_path": "eBay_Overview.ipynb",
   "output_path": "eBay_Overview.ipynb",
   "parameters": {},
   "start_time": "2021-12-15T03:00:05.549177",
   "version": "2.3.3"
  }
 },
 "nbformat": 4,
 "nbformat_minor": 5
}