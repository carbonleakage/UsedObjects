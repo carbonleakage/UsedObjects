{
 "cells": [
  {
   "cell_type": "code",
   "execution_count": 1,
   "id": "reverse-picking",
   "metadata": {
    "execution": {
     "iopub.execute_input": "2021-12-11T14:30:07.968445Z",
     "iopub.status.busy": "2021-12-11T14:30:07.965193Z",
     "iopub.status.idle": "2021-12-11T14:30:08.916178Z",
     "shell.execute_reply": "2021-12-11T14:30:08.918647Z"
    },
    "papermill": {
     "duration": 1.000281,
     "end_time": "2021-12-11T14:30:08.919393",
     "exception": false,
     "start_time": "2021-12-11T14:30:07.919112",
     "status": "completed"
    },
    "tags": []
   },
   "outputs": [],
   "source": [
    "import pandas as pd\n",
    "import sqlite3"
   ]
  },
  {
   "cell_type": "code",
   "execution_count": 2,
   "id": "innovative-syndrome",
   "metadata": {
    "execution": {
     "iopub.execute_input": "2021-12-11T14:30:08.982635Z",
     "iopub.status.busy": "2021-12-11T14:30:08.980365Z",
     "iopub.status.idle": "2021-12-11T14:30:10.048451Z",
     "shell.execute_reply": "2021-12-11T14:30:10.049837Z"
    },
    "papermill": {
     "duration": 1.101219,
     "end_time": "2021-12-11T14:30:10.050299",
     "exception": false,
     "start_time": "2021-12-11T14:30:08.949080",
     "status": "completed"
    },
    "tags": []
   },
   "outputs": [],
   "source": [
    "timestamps = pd.read_sql(\"select distinct record_time from EBAY_TOP_BERLIN order by record_time desc limit 2\", sqlite3.connect(\"UsedObjects.db\"))"
   ]
  },
  {
   "cell_type": "code",
   "execution_count": 3,
   "id": "periodic-identification",
   "metadata": {
    "execution": {
     "iopub.execute_input": "2021-12-11T14:30:10.118228Z",
     "iopub.status.busy": "2021-12-11T14:30:10.114863Z",
     "iopub.status.idle": "2021-12-11T14:30:10.138588Z",
     "shell.execute_reply": "2021-12-11T14:30:10.139944Z"
    },
    "papermill": {
     "duration": 0.071023,
     "end_time": "2021-12-11T14:30:10.140406",
     "exception": false,
     "start_time": "2021-12-11T14:30:10.069383",
     "status": "completed"
    },
    "tags": []
   },
   "outputs": [
    {
     "data": {
      "text/html": [
       "<div>\n",
       "<style scoped>\n",
       "    .dataframe tbody tr th:only-of-type {\n",
       "        vertical-align: middle;\n",
       "    }\n",
       "\n",
       "    .dataframe tbody tr th {\n",
       "        vertical-align: top;\n",
       "    }\n",
       "\n",
       "    .dataframe thead th {\n",
       "        text-align: right;\n",
       "    }\n",
       "</style>\n",
       "<table border=\"1\" class=\"dataframe\">\n",
       "  <thead>\n",
       "    <tr style=\"text-align: right;\">\n",
       "      <th></th>\n",
       "      <th>RECORD_TIME</th>\n",
       "    </tr>\n",
       "  </thead>\n",
       "  <tbody>\n",
       "    <tr>\n",
       "      <th>0</th>\n",
       "      <td>2021-12-11 15:30</td>\n",
       "    </tr>\n",
       "    <tr>\n",
       "      <th>1</th>\n",
       "      <td>2021-12-11 15:00</td>\n",
       "    </tr>\n",
       "  </tbody>\n",
       "</table>\n",
       "</div>"
      ],
      "text/plain": [
       "        RECORD_TIME\n",
       "0  2021-12-11 15:30\n",
       "1  2021-12-11 15:00"
      ]
     },
     "execution_count": 3,
     "metadata": {},
     "output_type": "execute_result"
    }
   ],
   "source": [
    "timestamps"
   ]
  },
  {
   "cell_type": "code",
   "execution_count": 4,
   "id": "alternate-victory",
   "metadata": {
    "execution": {
     "iopub.execute_input": "2021-12-11T14:30:10.194464Z",
     "iopub.status.busy": "2021-12-11T14:30:10.192170Z",
     "iopub.status.idle": "2021-12-11T14:30:11.734512Z",
     "shell.execute_reply": "2021-12-11T14:30:11.736180Z"
    },
    "papermill": {
     "duration": 1.576015,
     "end_time": "2021-12-11T14:30:11.736750",
     "exception": false,
     "start_time": "2021-12-11T14:30:10.160735",
     "status": "completed"
    },
    "tags": []
   },
   "outputs": [],
   "source": [
    "df = pd.read_sql(\"select * from EBAY_TOP_BERLIN where record_time in (select distinct record_time from EBAY_TOP_BERLIN order by record_time desc limit 2)\", sqlite3.connect(\"UsedObjects.db\"))"
   ]
  },
  {
   "cell_type": "code",
   "execution_count": 5,
   "id": "popular-active",
   "metadata": {
    "execution": {
     "iopub.execute_input": "2021-12-11T14:30:11.815859Z",
     "iopub.status.busy": "2021-12-11T14:30:11.801261Z",
     "iopub.status.idle": "2021-12-11T14:30:11.834567Z",
     "shell.execute_reply": "2021-12-11T14:30:11.836077Z"
    },
    "papermill": {
     "duration": 0.077061,
     "end_time": "2021-12-11T14:30:11.836558",
     "exception": false,
     "start_time": "2021-12-11T14:30:11.759497",
     "status": "completed"
    },
    "tags": []
   },
   "outputs": [],
   "source": [
    "df_pivot = df.pivot_table(index=\"PRODUCT\", columns = \"RECORD_TIME\", values = \"LISTING_COUNT\")"
   ]
  },
  {
   "cell_type": "code",
   "execution_count": 6,
   "id": "union-huntington",
   "metadata": {
    "execution": {
     "iopub.execute_input": "2021-12-11T14:30:11.895438Z",
     "iopub.status.busy": "2021-12-11T14:30:11.893003Z",
     "iopub.status.idle": "2021-12-11T14:30:11.899319Z",
     "shell.execute_reply": "2021-12-11T14:30:11.901018Z"
    },
    "papermill": {
     "duration": 0.044063,
     "end_time": "2021-12-11T14:30:11.901502",
     "exception": false,
     "start_time": "2021-12-11T14:30:11.857439",
     "status": "completed"
    },
    "tags": []
   },
   "outputs": [],
   "source": [
    "df_pivot.columns = [\"stamp_1\", \"stamp_2\"]\n",
    "df_pivot_diff = df_pivot.diff(axis=1)"
   ]
  },
  {
   "cell_type": "code",
   "execution_count": 7,
   "id": "fifth-motion",
   "metadata": {
    "execution": {
     "iopub.execute_input": "2021-12-11T14:30:11.961409Z",
     "iopub.status.busy": "2021-12-11T14:30:11.957612Z",
     "iopub.status.idle": "2021-12-11T14:30:13.900344Z",
     "shell.execute_reply": "2021-12-11T14:30:13.901799Z"
    },
    "papermill": {
     "duration": 1.980232,
     "end_time": "2021-12-11T14:30:13.902282",
     "exception": false,
     "start_time": "2021-12-11T14:30:11.922050",
     "status": "completed"
    },
    "tags": []
   },
   "outputs": [
    {
     "data": {
      "text/plain": [
       "<AxesSubplot:ylabel='PRODUCT'>"
      ]
     },
     "execution_count": 7,
     "metadata": {},
     "output_type": "execute_result"
    },
    {
     "data": {
      "image/png": "[encoded data removed]",
      "text/plain": [
       "<Figure size 432x288 with 1 Axes>"
      ]
     },
     "metadata": {
      "needs_background": "light"
     },
     "output_type": "display_data"
    }
   ],
   "source": [
    "df_pivot_diff.sort_values(\"stamp_2\", ascending = False)[\"stamp_2\"].head(10).plot.barh()"
   ]
  },
  {
   "cell_type": "code",
   "execution_count": null,
   "id": "extra-executive",
   "metadata": {
    "papermill": {
     "duration": 0.028561,
     "end_time": "2021-12-11T14:30:13.957332",
     "exception": false,
     "start_time": "2021-12-11T14:30:13.928771",
     "status": "completed"
    },
    "tags": []
   },
   "outputs": [],
   "source": []
  }
 ],
 "metadata": {
  "kernelspec": {
   "display_name": "Python 3",
   "language": "python",
   "name": "python3"
  },
  "language_info": {
   "codemirror_mode": {
    "name": "ipython",
    "version": 3
   },
   "file_extension": ".py",
   "mimetype": "text/x-python",
   "name": "python",
   "nbconvert_exporter": "python",
   "pygments_lexer": "ipython3",
   "version": "3.9.5"
  },
  "papermill": {
   "default_parameters": {},
   "duration": 9.696455,
   "end_time": "2021-12-11T14:30:14.805818",
   "environment_variables": {},
   "exception": null,
   "input_path": "eBay_Overview.ipynb",
   "output_path": "eBay_Overview.ipynb",
   "parameters": {},
   "start_time": "2021-12-11T14:30:05.109363",
   "version": "2.3.3"
  }
 },
 "nbformat": 4,
 "nbformat_minor": 5
}