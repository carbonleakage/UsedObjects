{
 "cells": [
  {
   "cell_type": "code",
   "execution_count": 1,
   "id": "reverse-picking",
   "metadata": {
    "execution": {
     "iopub.execute_input": "2021-08-21T10:00:06.607661Z",
     "iopub.status.busy": "2021-08-21T10:00:06.605679Z",
     "iopub.status.idle": "2021-08-21T10:00:07.410867Z",
     "shell.execute_reply": "2021-08-21T10:00:07.412133Z"
    },
    "papermill": {
     "duration": 0.856544,
     "end_time": "2021-08-21T10:00:07.412733",
     "exception": false,
     "start_time": "2021-08-21T10:00:06.556189",
     "status": "completed"
    },
    "tags": []
   },
   "outputs": [],
   "source": [
    "import pandas as pd\n",
    "import sqlite3"
   ]
  },
  {
   "cell_type": "code",
   "execution_count": 2,
   "id": "innovative-syndrome",
   "metadata": {
    "execution": {
     "iopub.execute_input": "2021-08-21T10:00:07.463487Z",
     "iopub.status.busy": "2021-08-21T10:00:07.461495Z",
     "iopub.status.idle": "2021-08-21T10:00:07.558541Z",
     "shell.execute_reply": "2021-08-21T10:00:07.560005Z"
    },
    "papermill": {
     "duration": 0.12662,
     "end_time": "2021-08-21T10:00:07.560447",
     "exception": false,
     "start_time": "2021-08-21T10:00:07.433827",
     "status": "completed"
    },
    "tags": []
   },
   "outputs": [],
   "source": [
    "timestamps = pd.read_sql(\"select distinct record_time from EBAY_TOP_BERLIN order by record_time desc limit 2\", sqlite3.connect(\"UsedObjects.db\"))"
   ]
  },
  {
   "cell_type": "code",
   "execution_count": 3,
   "id": "periodic-identification",
   "metadata": {
    "execution": {
     "iopub.execute_input": "2021-08-21T10:00:07.626712Z",
     "iopub.status.busy": "2021-08-21T10:00:07.624643Z",
     "iopub.status.idle": "2021-08-21T10:00:07.644641Z",
     "shell.execute_reply": "2021-08-21T10:00:07.645912Z"
    },
    "papermill": {
     "duration": 0.066181,
     "end_time": "2021-08-21T10:00:07.646390",
     "exception": false,
     "start_time": "2021-08-21T10:00:07.580209",
     "status": "completed"
    },
    "tags": []
   },
   "outputs": [
    {
     "data": {
      "text/html": [
       "<div>\n",
       "<style scoped>\n",
       "    .dataframe tbody tr th:only-of-type {\n",
       "        vertical-align: middle;\n",
       "    }\n",
       "\n",
       "    .dataframe tbody tr th {\n",
       "        vertical-align: top;\n",
       "    }\n",
       "\n",
       "    .dataframe thead th {\n",
       "        text-align: right;\n",
       "    }\n",
       "</style>\n",
       "<table border=\"1\" class=\"dataframe\">\n",
       "  <thead>\n",
       "    <tr style=\"text-align: right;\">\n",
       "      <th></th>\n",
       "      <th>RECORD_TIME</th>\n",
       "    </tr>\n",
       "  </thead>\n",
       "  <tbody>\n",
       "    <tr>\n",
       "      <th>0</th>\n",
       "      <td>2021-08-21 12:00</td>\n",
       "    </tr>\n",
       "    <tr>\n",
       "      <th>1</th>\n",
       "      <td>2021-08-21 11:30</td>\n",
       "    </tr>\n",
       "  </tbody>\n",
       "</table>\n",
       "</div>"
      ],
      "text/plain": [
       "        RECORD_TIME\n",
       "0  2021-08-21 12:00\n",
       "1  2021-08-21 11:30"
      ]
     },
     "execution_count": 3,
     "metadata": {},
     "output_type": "execute_result"
    }
   ],
   "source": [
    "timestamps"
   ]
  },
  {
   "cell_type": "code",
   "execution_count": 4,
   "id": "alternate-victory",
   "metadata": {
    "execution": {
     "iopub.execute_input": "2021-08-21T10:00:07.696446Z",
     "iopub.status.busy": "2021-08-21T10:00:07.694610Z",
     "iopub.status.idle": "2021-08-21T10:00:07.839620Z",
     "shell.execute_reply": "2021-08-21T10:00:07.840811Z"
    },
    "papermill": {
     "duration": 0.174595,
     "end_time": "2021-08-21T10:00:07.841201",
     "exception": false,
     "start_time": "2021-08-21T10:00:07.666606",
     "status": "completed"
    },
    "tags": []
   },
   "outputs": [],
   "source": [
    "df = pd.read_sql(\"select * from EBAY_TOP_BERLIN where record_time in (select distinct record_time from EBAY_TOP_BERLIN order by record_time desc limit 2)\", sqlite3.connect(\"UsedObjects.db\"))"
   ]
  },
  {
   "cell_type": "code",
   "execution_count": 5,
   "id": "popular-active",
   "metadata": {
    "execution": {
     "iopub.execute_input": "2021-08-21T10:00:07.911569Z",
     "iopub.status.busy": "2021-08-21T10:00:07.899417Z",
     "iopub.status.idle": "2021-08-21T10:00:07.927259Z",
     "shell.execute_reply": "2021-08-21T10:00:07.928454Z"
    },
    "papermill": {
     "duration": 0.067423,
     "end_time": "2021-08-21T10:00:07.928851",
     "exception": false,
     "start_time": "2021-08-21T10:00:07.861428",
     "status": "completed"
    },
    "tags": []
   },
   "outputs": [],
   "source": [
    "df_pivot = df.pivot_table(index=\"PRODUCT\", columns = \"RECORD_TIME\", values = \"LISTING_COUNT\")"
   ]
  },
  {
   "cell_type": "code",
   "execution_count": 6,
   "id": "union-huntington",
   "metadata": {
    "execution": {
     "iopub.execute_input": "2021-08-21T10:00:07.985491Z",
     "iopub.status.busy": "2021-08-21T10:00:07.983462Z",
     "iopub.status.idle": "2021-08-21T10:00:07.988647Z",
     "shell.execute_reply": "2021-08-21T10:00:07.989827Z"
    },
    "papermill": {
     "duration": 0.040386,
     "end_time": "2021-08-21T10:00:07.990450",
     "exception": false,
     "start_time": "2021-08-21T10:00:07.950064",
     "status": "completed"
    },
    "tags": []
   },
   "outputs": [],
   "source": [
    "df_pivot.columns = [\"stamp_1\", \"stamp_2\"]\n",
    "df_pivot_diff = df_pivot.diff(axis=1)"
   ]
  },
  {
   "cell_type": "code",
   "execution_count": 7,
   "id": "fifth-motion",
   "metadata": {
    "execution": {
     "iopub.execute_input": "2021-08-21T10:00:08.047093Z",
     "iopub.status.busy": "2021-08-21T10:00:08.044377Z",
     "iopub.status.idle": "2021-08-21T10:00:09.551806Z",
     "shell.execute_reply": "2021-08-21T10:00:09.553661Z"
    },
    "papermill": {
     "duration": 1.541359,
     "end_time": "2021-08-21T10:00:09.554269",
     "exception": false,
     "start_time": "2021-08-21T10:00:08.012910",
     "status": "completed"
    },
    "tags": []
   },
   "outputs": [
    {
     "data": {
      "text/plain": [
       "<AxesSubplot:ylabel='PRODUCT'>"
      ]
     },
     "execution_count": 7,
     "metadata": {},
     "output_type": "execute_result"
    },
    {
     "data": {
      "image/png": "[encoded data removed]",
      "text/plain": [
       "<Figure size 432x288 with 1 Axes>"
      ]
     },
     "metadata": {
      "needs_background": "light"
     },
     "output_type": "display_data"
    }
   ],
   "source": [
    "df_pivot_diff.sort_values(\"stamp_2\", ascending = False)[\"stamp_2\"].head(10).plot.barh()"
   ]
  },
  {
   "cell_type": "code",
   "execution_count": null,
   "id": "extra-executive",
   "metadata": {
    "papermill": {
     "duration": 0.021941,
     "end_time": "2021-08-21T10:00:09.601548",
     "exception": false,
     "start_time": "2021-08-21T10:00:09.579607",
     "status": "completed"
    },
    "tags": []
   },
   "outputs": [],
   "source": []
  }
 ],
 "metadata": {
  "kernelspec": {
   "display_name": "Python 3",
   "language": "python",
   "name": "python3"
  },
  "language_info": {
   "codemirror_mode": {
    "name": "ipython",
    "version": 3
   },
   "file_extension": ".py",
   "mimetype": "text/x-python",
   "name": "python",
   "nbconvert_exporter": "python",
   "pygments_lexer": "ipython3",
   "version": "3.9.5"
  },
  "papermill": {
   "default_parameters": {},
   "duration": 6.821564,
   "end_time": "2021-08-21T10:00:10.979399",
   "environment_variables": {},
   "exception": null,
   "input_path": "eBay_Overview.ipynb",
   "output_path": "eBay_Overview.ipynb",
   "parameters": {},
   "start_time": "2021-08-21T10:00:04.157835",
   "version": "2.3.3"
  }
 },
 "nbformat": 4,
 "nbformat_minor": 5
}