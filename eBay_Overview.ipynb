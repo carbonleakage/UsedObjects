{
 "cells": [
  {
   "cell_type": "code",
   "execution_count": 1,
   "id": "reverse-picking",
   "metadata": {
    "execution": {
     "iopub.execute_input": "2021-09-13T15:30:07.724187Z",
     "iopub.status.busy": "2021-09-13T15:30:07.722171Z",
     "iopub.status.idle": "2021-09-13T15:30:08.527616Z",
     "shell.execute_reply": "2021-09-13T15:30:08.525850Z"
    },
    "papermill": {
     "duration": 0.853652,
     "end_time": "2021-09-13T15:30:08.528029",
     "exception": false,
     "start_time": "2021-09-13T15:30:07.674377",
     "status": "completed"
    },
    "tags": []
   },
   "outputs": [],
   "source": [
    "import pandas as pd\n",
    "import sqlite3"
   ]
  },
  {
   "cell_type": "code",
   "execution_count": 2,
   "id": "innovative-syndrome",
   "metadata": {
    "execution": {
     "iopub.execute_input": "2021-09-13T15:30:08.580014Z",
     "iopub.status.busy": "2021-09-13T15:30:08.578003Z",
     "iopub.status.idle": "2021-09-13T15:30:08.860452Z",
     "shell.execute_reply": "2021-09-13T15:30:08.861648Z"
    },
    "papermill": {
     "duration": 0.3123,
     "end_time": "2021-09-13T15:30:08.862043",
     "exception": false,
     "start_time": "2021-09-13T15:30:08.549743",
     "status": "completed"
    },
    "tags": []
   },
   "outputs": [],
   "source": [
    "timestamps = pd.read_sql(\"select distinct record_time from EBAY_TOP_BERLIN order by record_time desc limit 2\", sqlite3.connect(\"UsedObjects.db\"))"
   ]
  },
  {
   "cell_type": "code",
   "execution_count": 3,
   "id": "periodic-identification",
   "metadata": {
    "execution": {
     "iopub.execute_input": "2021-09-13T15:30:08.925824Z",
     "iopub.status.busy": "2021-09-13T15:30:08.923817Z",
     "iopub.status.idle": "2021-09-13T15:30:08.943939Z",
     "shell.execute_reply": "2021-09-13T15:30:08.945135Z"
    },
    "papermill": {
     "duration": 0.063813,
     "end_time": "2021-09-13T15:30:08.945561",
     "exception": false,
     "start_time": "2021-09-13T15:30:08.881748",
     "status": "completed"
    },
    "tags": []
   },
   "outputs": [
    {
     "data": {
      "text/html": [
       "<div>\n",
       "<style scoped>\n",
       "    .dataframe tbody tr th:only-of-type {\n",
       "        vertical-align: middle;\n",
       "    }\n",
       "\n",
       "    .dataframe tbody tr th {\n",
       "        vertical-align: top;\n",
       "    }\n",
       "\n",
       "    .dataframe thead th {\n",
       "        text-align: right;\n",
       "    }\n",
       "</style>\n",
       "<table border=\"1\" class=\"dataframe\">\n",
       "  <thead>\n",
       "    <tr style=\"text-align: right;\">\n",
       "      <th></th>\n",
       "      <th>RECORD_TIME</th>\n",
       "    </tr>\n",
       "  </thead>\n",
       "  <tbody>\n",
       "    <tr>\n",
       "      <th>0</th>\n",
       "      <td>2021-09-13 17:30</td>\n",
       "    </tr>\n",
       "    <tr>\n",
       "      <th>1</th>\n",
       "      <td>2021-09-13 17:00</td>\n",
       "    </tr>\n",
       "  </tbody>\n",
       "</table>\n",
       "</div>"
      ],
      "text/plain": [
       "        RECORD_TIME\n",
       "0  2021-09-13 17:30\n",
       "1  2021-09-13 17:00"
      ]
     },
     "execution_count": 3,
     "metadata": {},
     "output_type": "execute_result"
    }
   ],
   "source": [
    "timestamps"
   ]
  },
  {
   "cell_type": "code",
   "execution_count": 4,
   "id": "alternate-victory",
   "metadata": {
    "execution": {
     "iopub.execute_input": "2021-09-13T15:30:09.000243Z",
     "iopub.status.busy": "2021-09-13T15:30:08.997841Z",
     "iopub.status.idle": "2021-09-13T15:30:09.417803Z",
     "shell.execute_reply": "2021-09-13T15:30:09.419147Z"
    },
    "papermill": {
     "duration": 0.450903,
     "end_time": "2021-09-13T15:30:09.419580",
     "exception": false,
     "start_time": "2021-09-13T15:30:08.968677",
     "status": "completed"
    },
    "tags": []
   },
   "outputs": [],
   "source": [
    "df = pd.read_sql(\"select * from EBAY_TOP_BERLIN where record_time in (select distinct record_time from EBAY_TOP_BERLIN order by record_time desc limit 2)\", sqlite3.connect(\"UsedObjects.db\"))"
   ]
  },
  {
   "cell_type": "code",
   "execution_count": 5,
   "id": "popular-active",
   "metadata": {
    "execution": {
     "iopub.execute_input": "2021-09-13T15:30:09.501711Z",
     "iopub.status.busy": "2021-09-13T15:30:09.489145Z",
     "iopub.status.idle": "2021-09-13T15:30:09.518954Z",
     "shell.execute_reply": "2021-09-13T15:30:09.520370Z"
    },
    "papermill": {
     "duration": 0.074882,
     "end_time": "2021-09-13T15:30:09.520806",
     "exception": false,
     "start_time": "2021-09-13T15:30:09.445924",
     "status": "completed"
    },
    "tags": []
   },
   "outputs": [],
   "source": [
    "df_pivot = df.pivot_table(index=\"PRODUCT\", columns = \"RECORD_TIME\", values = \"LISTING_COUNT\")"
   ]
  },
  {
   "cell_type": "code",
   "execution_count": 6,
   "id": "union-huntington",
   "metadata": {
    "execution": {
     "iopub.execute_input": "2021-09-13T15:30:09.579267Z",
     "iopub.status.busy": "2021-09-13T15:30:09.576806Z",
     "iopub.status.idle": "2021-09-13T15:30:09.582283Z",
     "shell.execute_reply": "2021-09-13T15:30:09.583549Z"
    },
    "papermill": {
     "duration": 0.042411,
     "end_time": "2021-09-13T15:30:09.583990",
     "exception": false,
     "start_time": "2021-09-13T15:30:09.541579",
     "status": "completed"
    },
    "tags": []
   },
   "outputs": [],
   "source": [
    "df_pivot.columns = [\"stamp_1\", \"stamp_2\"]\n",
    "df_pivot_diff = df_pivot.diff(axis=1)"
   ]
  },
  {
   "cell_type": "code",
   "execution_count": 7,
   "id": "fifth-motion",
   "metadata": {
    "execution": {
     "iopub.execute_input": "2021-09-13T15:30:09.637820Z",
     "iopub.status.busy": "2021-09-13T15:30:09.635637Z",
     "iopub.status.idle": "2021-09-13T15:30:11.110388Z",
     "shell.execute_reply": "2021-09-13T15:30:11.111882Z"
    },
    "papermill": {
     "duration": 1.508047,
     "end_time": "2021-09-13T15:30:11.112343",
     "exception": false,
     "start_time": "2021-09-13T15:30:09.604296",
     "status": "completed"
    },
    "tags": []
   },
   "outputs": [
    {
     "data": {
      "text/plain": [
       "<AxesSubplot:ylabel='PRODUCT'>"
      ]
     },
     "execution_count": 7,
     "metadata": {},
     "output_type": "execute_result"
    },
    {
     "data": {
      "image/png": "[encoded data removed]",
      "text/plain": [
       "<Figure size 432x288 with 1 Axes>"
      ]
     },
     "metadata": {
      "needs_background": "light"
     },
     "output_type": "display_data"
    }
   ],
   "source": [
    "df_pivot_diff.sort_values(\"stamp_2\", ascending = False)[\"stamp_2\"].head(10).plot.barh()"
   ]
  },
  {
   "cell_type": "code",
   "execution_count": null,
   "id": "extra-executive",
   "metadata": {
    "papermill": {
     "duration": 0.022674,
     "end_time": "2021-09-13T15:30:11.158664",
     "exception": false,
     "start_time": "2021-09-13T15:30:11.135990",
     "status": "completed"
    },
    "tags": []
   },
   "outputs": [],
   "source": []
  }
 ],
 "metadata": {
  "kernelspec": {
   "display_name": "Python 3",
   "language": "python",
   "name": "python3"
  },
  "language_info": {
   "codemirror_mode": {
    "name": "ipython",
    "version": 3
   },
   "file_extension": ".py",
   "mimetype": "text/x-python",
   "name": "python",
   "nbconvert_exporter": "python",
   "pygments_lexer": "ipython3",
   "version": "3.9.5"
  },
  "papermill": {
   "default_parameters": {},
   "duration": 6.538128,
   "end_time": "2021-09-13T15:30:11.802157",
   "environment_variables": {},
   "exception": null,
   "input_path": "eBay_Overview.ipynb",
   "output_path": "eBay_Overview.ipynb",
   "parameters": {},
   "start_time": "2021-09-13T15:30:05.264029",
   "version": "2.3.3"
  }
 },
 "nbformat": 4,
 "nbformat_minor": 5
}