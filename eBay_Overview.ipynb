{
 "cells": [
  {
   "cell_type": "code",
   "execution_count": 1,
   "id": "reverse-picking",
   "metadata": {
    "execution": {
     "iopub.execute_input": "2021-08-20T15:30:07.331556Z",
     "iopub.status.busy": "2021-08-20T15:30:07.329563Z",
     "iopub.status.idle": "2021-08-20T15:30:08.134982Z",
     "shell.execute_reply": "2021-08-20T15:30:08.136222Z"
    },
    "papermill": {
     "duration": 0.857984,
     "end_time": "2021-08-20T15:30:08.136853",
     "exception": false,
     "start_time": "2021-08-20T15:30:07.278869",
     "status": "completed"
    },
    "tags": []
   },
   "outputs": [],
   "source": [
    "import pandas as pd\n",
    "import sqlite3"
   ]
  },
  {
   "cell_type": "code",
   "execution_count": 2,
   "id": "innovative-syndrome",
   "metadata": {
    "execution": {
     "iopub.execute_input": "2021-08-20T15:30:08.188273Z",
     "iopub.status.busy": "2021-08-20T15:30:08.186453Z",
     "iopub.status.idle": "2021-08-20T15:30:08.277815Z",
     "shell.execute_reply": "2021-08-20T15:30:08.279159Z"
    },
    "papermill": {
     "duration": 0.121017,
     "end_time": "2021-08-20T15:30:08.279571",
     "exception": false,
     "start_time": "2021-08-20T15:30:08.158554",
     "status": "completed"
    },
    "tags": []
   },
   "outputs": [],
   "source": [
    "timestamps = pd.read_sql(\"select distinct record_time from EBAY_TOP_BERLIN order by record_time desc limit 2\", sqlite3.connect(\"UsedObjects.db\"))"
   ]
  },
  {
   "cell_type": "code",
   "execution_count": 3,
   "id": "periodic-identification",
   "metadata": {
    "execution": {
     "iopub.execute_input": "2021-08-20T15:30:08.347031Z",
     "iopub.status.busy": "2021-08-20T15:30:08.341661Z",
     "iopub.status.idle": "2021-08-20T15:30:08.361474Z",
     "shell.execute_reply": "2021-08-20T15:30:08.362904Z"
    },
    "papermill": {
     "duration": 0.064325,
     "end_time": "2021-08-20T15:30:08.363327",
     "exception": false,
     "start_time": "2021-08-20T15:30:08.299002",
     "status": "completed"
    },
    "tags": []
   },
   "outputs": [
    {
     "data": {
      "text/html": [
       "<div>\n",
       "<style scoped>\n",
       "    .dataframe tbody tr th:only-of-type {\n",
       "        vertical-align: middle;\n",
       "    }\n",
       "\n",
       "    .dataframe tbody tr th {\n",
       "        vertical-align: top;\n",
       "    }\n",
       "\n",
       "    .dataframe thead th {\n",
       "        text-align: right;\n",
       "    }\n",
       "</style>\n",
       "<table border=\"1\" class=\"dataframe\">\n",
       "  <thead>\n",
       "    <tr style=\"text-align: right;\">\n",
       "      <th></th>\n",
       "      <th>RECORD_TIME</th>\n",
       "    </tr>\n",
       "  </thead>\n",
       "  <tbody>\n",
       "    <tr>\n",
       "      <th>0</th>\n",
       "      <td>2021-08-20 17:30</td>\n",
       "    </tr>\n",
       "    <tr>\n",
       "      <th>1</th>\n",
       "      <td>2021-08-20 17:00</td>\n",
       "    </tr>\n",
       "  </tbody>\n",
       "</table>\n",
       "</div>"
      ],
      "text/plain": [
       "        RECORD_TIME\n",
       "0  2021-08-20 17:30\n",
       "1  2021-08-20 17:00"
      ]
     },
     "execution_count": 3,
     "metadata": {},
     "output_type": "execute_result"
    }
   ],
   "source": [
    "timestamps"
   ]
  },
  {
   "cell_type": "code",
   "execution_count": 4,
   "id": "alternate-victory",
   "metadata": {
    "execution": {
     "iopub.execute_input": "2021-08-20T15:30:08.414528Z",
     "iopub.status.busy": "2021-08-20T15:30:08.412605Z",
     "iopub.status.idle": "2021-08-20T15:30:08.547562Z",
     "shell.execute_reply": "2021-08-20T15:30:08.546047Z"
    },
    "papermill": {
     "duration": 0.163571,
     "end_time": "2021-08-20T15:30:08.547924",
     "exception": false,
     "start_time": "2021-08-20T15:30:08.384353",
     "status": "completed"
    },
    "tags": []
   },
   "outputs": [],
   "source": [
    "df = pd.read_sql(\"select * from EBAY_TOP_BERLIN where record_time in (select distinct record_time from EBAY_TOP_BERLIN order by record_time desc limit 2)\", sqlite3.connect(\"UsedObjects.db\"))"
   ]
  },
  {
   "cell_type": "code",
   "execution_count": 5,
   "id": "popular-active",
   "metadata": {
    "execution": {
     "iopub.execute_input": "2021-08-20T15:30:08.618669Z",
     "iopub.status.busy": "2021-08-20T15:30:08.607622Z",
     "iopub.status.idle": "2021-08-20T15:30:08.635016Z",
     "shell.execute_reply": "2021-08-20T15:30:08.636287Z"
    },
    "papermill": {
     "duration": 0.067842,
     "end_time": "2021-08-20T15:30:08.636673",
     "exception": false,
     "start_time": "2021-08-20T15:30:08.568831",
     "status": "completed"
    },
    "tags": []
   },
   "outputs": [],
   "source": [
    "df_pivot = df.pivot_table(index=\"PRODUCT\", columns = \"RECORD_TIME\", values = \"LISTING_COUNT\")"
   ]
  },
  {
   "cell_type": "code",
   "execution_count": 6,
   "id": "union-huntington",
   "metadata": {
    "execution": {
     "iopub.execute_input": "2021-08-20T15:30:08.692274Z",
     "iopub.status.busy": "2021-08-20T15:30:08.690098Z",
     "iopub.status.idle": "2021-08-20T15:30:08.695842Z",
     "shell.execute_reply": "2021-08-20T15:30:08.697185Z"
    },
    "papermill": {
     "duration": 0.041186,
     "end_time": "2021-08-20T15:30:08.697620",
     "exception": false,
     "start_time": "2021-08-20T15:30:08.656434",
     "status": "completed"
    },
    "tags": []
   },
   "outputs": [],
   "source": [
    "df_pivot.columns = [\"stamp_1\", \"stamp_2\"]\n",
    "df_pivot_diff = df_pivot.diff(axis=1)"
   ]
  },
  {
   "cell_type": "code",
   "execution_count": 7,
   "id": "fifth-motion",
   "metadata": {
    "execution": {
     "iopub.execute_input": "2021-08-20T15:30:08.754039Z",
     "iopub.status.busy": "2021-08-20T15:30:08.751358Z",
     "iopub.status.idle": "2021-08-20T15:30:10.238573Z",
     "shell.execute_reply": "2021-08-20T15:30:10.239861Z"
    },
    "papermill": {
     "duration": 1.520599,
     "end_time": "2021-08-20T15:30:10.240272",
     "exception": false,
     "start_time": "2021-08-20T15:30:08.719673",
     "status": "completed"
    },
    "tags": []
   },
   "outputs": [
    {
     "data": {
      "text/plain": [
       "<AxesSubplot:ylabel='PRODUCT'>"
      ]
     },
     "execution_count": 7,
     "metadata": {},
     "output_type": "execute_result"
    },
    {
     "data": {
      "image/png": "[encoded data removed]",
      "text/plain": [
       "<Figure size 432x288 with 1 Axes>"
      ]
     },
     "metadata": {
      "needs_background": "light"
     },
     "output_type": "display_data"
    }
   ],
   "source": [
    "df_pivot_diff.sort_values(\"stamp_2\", ascending = False)[\"stamp_2\"].head(10).plot.barh()"
   ]
  },
  {
   "cell_type": "code",
   "execution_count": null,
   "id": "extra-executive",
   "metadata": {
    "papermill": {
     "duration": 0.022195,
     "end_time": "2021-08-20T15:30:10.287058",
     "exception": false,
     "start_time": "2021-08-20T15:30:10.264863",
     "status": "completed"
    },
    "tags": []
   },
   "outputs": [],
   "source": []
  }
 ],
 "metadata": {
  "kernelspec": {
   "display_name": "Python 3",
   "language": "python",
   "name": "python3"
  },
  "language_info": {
   "codemirror_mode": {
    "name": "ipython",
    "version": 3
   },
   "file_extension": ".py",
   "mimetype": "text/x-python",
   "name": "python",
   "nbconvert_exporter": "python",
   "pygments_lexer": "ipython3",
   "version": "3.9.5"
  },
  "papermill": {
   "default_parameters": {},
   "duration": 6.821602,
   "end_time": "2021-08-20T15:30:11.697433",
   "environment_variables": {},
   "exception": null,
   "input_path": "eBay_Overview.ipynb",
   "output_path": "eBay_Overview.ipynb",
   "parameters": {},
   "start_time": "2021-08-20T15:30:04.875831",
   "version": "2.3.3"
  }
 },
 "nbformat": 4,
 "nbformat_minor": 5
}