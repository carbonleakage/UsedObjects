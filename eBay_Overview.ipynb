{
 "cells": [
  {
   "cell_type": "code",
   "execution_count": 1,
   "id": "reverse-picking",
   "metadata": {
    "execution": {
     "iopub.execute_input": "2021-12-20T08:30:07.586698Z",
     "iopub.status.busy": "2021-12-20T08:30:07.584339Z",
     "iopub.status.idle": "2021-12-20T08:30:08.538729Z",
     "shell.execute_reply": "2021-12-20T08:30:08.540249Z"
    },
    "papermill": {
     "duration": 1.004641,
     "end_time": "2021-12-20T08:30:08.541104",
     "exception": false,
     "start_time": "2021-12-20T08:30:07.536463",
     "status": "completed"
    },
    "tags": []
   },
   "outputs": [],
   "source": [
    "import pandas as pd\n",
    "import sqlite3"
   ]
  },
  {
   "cell_type": "code",
   "execution_count": 2,
   "id": "innovative-syndrome",
   "metadata": {
    "execution": {
     "iopub.execute_input": "2021-12-20T08:30:08.618400Z",
     "iopub.status.busy": "2021-12-20T08:30:08.614564Z",
     "iopub.status.idle": "2021-12-20T08:30:09.748217Z",
     "shell.execute_reply": "2021-12-20T08:30:09.749833Z"
    },
    "papermill": {
     "duration": 1.179378,
     "end_time": "2021-12-20T08:30:09.750305",
     "exception": false,
     "start_time": "2021-12-20T08:30:08.570927",
     "status": "completed"
    },
    "tags": []
   },
   "outputs": [],
   "source": [
    "timestamps = pd.read_sql(\"select distinct record_time from EBAY_TOP_BERLIN order by record_time desc limit 2\", sqlite3.connect(\"UsedObjects.db\"))"
   ]
  },
  {
   "cell_type": "code",
   "execution_count": 3,
   "id": "periodic-identification",
   "metadata": {
    "execution": {
     "iopub.execute_input": "2021-12-20T08:30:09.816882Z",
     "iopub.status.busy": "2021-12-20T08:30:09.814592Z",
     "iopub.status.idle": "2021-12-20T08:30:09.846559Z",
     "shell.execute_reply": "2021-12-20T08:30:09.849388Z"
    },
    "papermill": {
     "duration": 0.07888,
     "end_time": "2021-12-20T08:30:09.849875",
     "exception": false,
     "start_time": "2021-12-20T08:30:09.770995",
     "status": "completed"
    },
    "tags": []
   },
   "outputs": [
    {
     "data": {
      "text/html": [
       "<div>\n",
       "<style scoped>\n",
       "    .dataframe tbody tr th:only-of-type {\n",
       "        vertical-align: middle;\n",
       "    }\n",
       "\n",
       "    .dataframe tbody tr th {\n",
       "        vertical-align: top;\n",
       "    }\n",
       "\n",
       "    .dataframe thead th {\n",
       "        text-align: right;\n",
       "    }\n",
       "</style>\n",
       "<table border=\"1\" class=\"dataframe\">\n",
       "  <thead>\n",
       "    <tr style=\"text-align: right;\">\n",
       "      <th></th>\n",
       "      <th>RECORD_TIME</th>\n",
       "    </tr>\n",
       "  </thead>\n",
       "  <tbody>\n",
       "    <tr>\n",
       "      <th>0</th>\n",
       "      <td>2021-12-20 09:30</td>\n",
       "    </tr>\n",
       "    <tr>\n",
       "      <th>1</th>\n",
       "      <td>2021-12-20 09:00</td>\n",
       "    </tr>\n",
       "  </tbody>\n",
       "</table>\n",
       "</div>"
      ],
      "text/plain": [
       "        RECORD_TIME\n",
       "0  2021-12-20 09:30\n",
       "1  2021-12-20 09:00"
      ]
     },
     "execution_count": 3,
     "metadata": {},
     "output_type": "execute_result"
    }
   ],
   "source": [
    "timestamps"
   ]
  },
  {
   "cell_type": "code",
   "execution_count": 4,
   "id": "alternate-victory",
   "metadata": {
    "execution": {
     "iopub.execute_input": "2021-12-20T08:30:09.911010Z",
     "iopub.status.busy": "2021-12-20T08:30:09.908843Z",
     "iopub.status.idle": "2021-12-20T08:30:11.750651Z",
     "shell.execute_reply": "2021-12-20T08:30:11.752273Z"
    },
    "papermill": {
     "duration": 1.87957,
     "end_time": "2021-12-20T08:30:11.752832",
     "exception": false,
     "start_time": "2021-12-20T08:30:09.873262",
     "status": "completed"
    },
    "tags": []
   },
   "outputs": [],
   "source": [
    "df = pd.read_sql(\"select * from EBAY_TOP_BERLIN where record_time in (select distinct record_time from EBAY_TOP_BERLIN order by record_time desc limit 2)\", sqlite3.connect(\"UsedObjects.db\"))"
   ]
  },
  {
   "cell_type": "code",
   "execution_count": 5,
   "id": "popular-active",
   "metadata": {
    "execution": {
     "iopub.execute_input": "2021-12-20T08:30:11.819354Z",
     "iopub.status.busy": "2021-12-20T08:30:11.816916Z",
     "iopub.status.idle": "2021-12-20T08:30:11.849257Z",
     "shell.execute_reply": "2021-12-20T08:30:11.850605Z"
    },
    "papermill": {
     "duration": 0.076457,
     "end_time": "2021-12-20T08:30:11.851072",
     "exception": false,
     "start_time": "2021-12-20T08:30:11.774615",
     "status": "completed"
    },
    "tags": []
   },
   "outputs": [],
   "source": [
    "df_pivot = df.pivot_table(index=\"PRODUCT\", columns = \"RECORD_TIME\", values = \"LISTING_COUNT\")"
   ]
  },
  {
   "cell_type": "code",
   "execution_count": 6,
   "id": "union-huntington",
   "metadata": {
    "execution": {
     "iopub.execute_input": "2021-12-20T08:30:11.909795Z",
     "iopub.status.busy": "2021-12-20T08:30:11.907509Z",
     "iopub.status.idle": "2021-12-20T08:30:11.912738Z",
     "shell.execute_reply": "2021-12-20T08:30:11.914228Z"
    },
    "papermill": {
     "duration": 0.043757,
     "end_time": "2021-12-20T08:30:11.914691",
     "exception": false,
     "start_time": "2021-12-20T08:30:11.870934",
     "status": "completed"
    },
    "tags": []
   },
   "outputs": [],
   "source": [
    "df_pivot.columns = [\"stamp_1\", \"stamp_2\"]\n",
    "df_pivot_diff = df_pivot.diff(axis=1)"
   ]
  },
  {
   "cell_type": "code",
   "execution_count": 7,
   "id": "fifth-motion",
   "metadata": {
    "execution": {
     "iopub.execute_input": "2021-12-20T08:30:11.971919Z",
     "iopub.status.busy": "2021-12-20T08:30:11.969145Z",
     "iopub.status.idle": "2021-12-20T08:30:13.916097Z",
     "shell.execute_reply": "2021-12-20T08:30:13.917456Z"
    },
    "papermill": {
     "duration": 1.982863,
     "end_time": "2021-12-20T08:30:13.917887",
     "exception": false,
     "start_time": "2021-12-20T08:30:11.935024",
     "status": "completed"
    },
    "tags": []
   },
   "outputs": [
    {
     "data": {
      "text/plain": [
       "<AxesSubplot:ylabel='PRODUCT'>"
      ]
     },
     "execution_count": 7,
     "metadata": {},
     "output_type": "execute_result"
    },
    {
     "data": {
      "image/png": "[encoded data removed]",
      "text/plain": [
       "<Figure size 432x288 with 1 Axes>"
      ]
     },
     "metadata": {
      "needs_background": "light"
     },
     "output_type": "display_data"
    }
   ],
   "source": [
    "df_pivot_diff.sort_values(\"stamp_2\", ascending = False)[\"stamp_2\"].head(10).plot.barh()"
   ]
  },
  {
   "cell_type": "code",
   "execution_count": null,
   "id": "extra-executive",
   "metadata": {
    "papermill": {
     "duration": 0.022338,
     "end_time": "2021-12-20T08:30:13.964120",
     "exception": false,
     "start_time": "2021-12-20T08:30:13.941782",
     "status": "completed"
    },
    "tags": []
   },
   "outputs": [],
   "source": []
  }
 ],
 "metadata": {
  "kernelspec": {
   "display_name": "Python 3",
   "language": "python",
   "name": "python3"
  },
  "language_info": {
   "codemirror_mode": {
    "name": "ipython",
    "version": 3
   },
   "file_extension": ".py",
   "mimetype": "text/x-python",
   "name": "python",
   "nbconvert_exporter": "python",
   "pygments_lexer": "ipython3",
   "version": "3.9.5"
  },
  "papermill": {
   "default_parameters": {},
   "duration": 9.812302,
   "end_time": "2021-12-20T08:30:14.608083",
   "environment_variables": {},
   "exception": null,
   "input_path": "eBay_Overview.ipynb",
   "output_path": "eBay_Overview.ipynb",
   "parameters": {},
   "start_time": "2021-12-20T08:30:04.795781",
   "version": "2.3.3"
  }
 },
 "nbformat": 4,
 "nbformat_minor": 5
}