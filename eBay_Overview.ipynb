{
 "cells": [
  {
   "cell_type": "code",
   "execution_count": 1,
   "id": "reverse-picking",
   "metadata": {
    "execution": {
     "iopub.execute_input": "2021-09-11T16:30:06.913121Z",
     "iopub.status.busy": "2021-09-11T16:30:06.911140Z",
     "iopub.status.idle": "2021-09-11T16:30:07.722581Z",
     "shell.execute_reply": "2021-09-11T16:30:07.724141Z"
    },
    "papermill": {
     "duration": 0.862103,
     "end_time": "2021-09-11T16:30:07.724818",
     "exception": false,
     "start_time": "2021-09-11T16:30:06.862715",
     "status": "completed"
    },
    "tags": []
   },
   "outputs": [],
   "source": [
    "import pandas as pd\n",
    "import sqlite3"
   ]
  },
  {
   "cell_type": "code",
   "execution_count": 2,
   "id": "innovative-syndrome",
   "metadata": {
    "execution": {
     "iopub.execute_input": "2021-09-11T16:30:07.775502Z",
     "iopub.status.busy": "2021-09-11T16:30:07.773364Z",
     "iopub.status.idle": "2021-09-11T16:30:08.036191Z",
     "shell.execute_reply": "2021-09-11T16:30:08.037429Z"
    },
    "papermill": {
     "duration": 0.292916,
     "end_time": "2021-09-11T16:30:08.037835",
     "exception": false,
     "start_time": "2021-09-11T16:30:07.744919",
     "status": "completed"
    },
    "tags": []
   },
   "outputs": [],
   "source": [
    "timestamps = pd.read_sql(\"select distinct record_time from EBAY_TOP_BERLIN order by record_time desc limit 2\", sqlite3.connect(\"UsedObjects.db\"))"
   ]
  },
  {
   "cell_type": "code",
   "execution_count": 3,
   "id": "periodic-identification",
   "metadata": {
    "execution": {
     "iopub.execute_input": "2021-09-11T16:30:08.101435Z",
     "iopub.status.busy": "2021-09-11T16:30:08.099417Z",
     "iopub.status.idle": "2021-09-11T16:30:08.119296Z",
     "shell.execute_reply": "2021-09-11T16:30:08.120516Z"
    },
    "papermill": {
     "duration": 0.063914,
     "end_time": "2021-09-11T16:30:08.120915",
     "exception": false,
     "start_time": "2021-09-11T16:30:08.057001",
     "status": "completed"
    },
    "tags": []
   },
   "outputs": [
    {
     "data": {
      "text/html": [
       "<div>\n",
       "<style scoped>\n",
       "    .dataframe tbody tr th:only-of-type {\n",
       "        vertical-align: middle;\n",
       "    }\n",
       "\n",
       "    .dataframe tbody tr th {\n",
       "        vertical-align: top;\n",
       "    }\n",
       "\n",
       "    .dataframe thead th {\n",
       "        text-align: right;\n",
       "    }\n",
       "</style>\n",
       "<table border=\"1\" class=\"dataframe\">\n",
       "  <thead>\n",
       "    <tr style=\"text-align: right;\">\n",
       "      <th></th>\n",
       "      <th>RECORD_TIME</th>\n",
       "    </tr>\n",
       "  </thead>\n",
       "  <tbody>\n",
       "    <tr>\n",
       "      <th>0</th>\n",
       "      <td>2021-09-11 18:30</td>\n",
       "    </tr>\n",
       "    <tr>\n",
       "      <th>1</th>\n",
       "      <td>2021-09-11 18:00</td>\n",
       "    </tr>\n",
       "  </tbody>\n",
       "</table>\n",
       "</div>"
      ],
      "text/plain": [
       "        RECORD_TIME\n",
       "0  2021-09-11 18:30\n",
       "1  2021-09-11 18:00"
      ]
     },
     "execution_count": 3,
     "metadata": {},
     "output_type": "execute_result"
    }
   ],
   "source": [
    "timestamps"
   ]
  },
  {
   "cell_type": "code",
   "execution_count": 4,
   "id": "alternate-victory",
   "metadata": {
    "execution": {
     "iopub.execute_input": "2021-09-11T16:30:08.172258Z",
     "iopub.status.busy": "2021-09-11T16:30:08.170317Z",
     "iopub.status.idle": "2021-09-11T16:30:08.552898Z",
     "shell.execute_reply": "2021-09-11T16:30:08.554105Z"
    },
    "papermill": {
     "duration": 0.412319,
     "end_time": "2021-09-11T16:30:08.554506",
     "exception": false,
     "start_time": "2021-09-11T16:30:08.142187",
     "status": "completed"
    },
    "tags": []
   },
   "outputs": [],
   "source": [
    "df = pd.read_sql(\"select * from EBAY_TOP_BERLIN where record_time in (select distinct record_time from EBAY_TOP_BERLIN order by record_time desc limit 2)\", sqlite3.connect(\"UsedObjects.db\"))"
   ]
  },
  {
   "cell_type": "code",
   "execution_count": 5,
   "id": "popular-active",
   "metadata": {
    "execution": {
     "iopub.execute_input": "2021-09-11T16:30:08.635407Z",
     "iopub.status.busy": "2021-09-11T16:30:08.624726Z",
     "iopub.status.idle": "2021-09-11T16:30:08.652265Z",
     "shell.execute_reply": "2021-09-11T16:30:08.653481Z"
    },
    "papermill": {
     "duration": 0.071087,
     "end_time": "2021-09-11T16:30:08.653884",
     "exception": false,
     "start_time": "2021-09-11T16:30:08.582797",
     "status": "completed"
    },
    "tags": []
   },
   "outputs": [],
   "source": [
    "df_pivot = df.pivot_table(index=\"PRODUCT\", columns = \"RECORD_TIME\", values = \"LISTING_COUNT\")"
   ]
  },
  {
   "cell_type": "code",
   "execution_count": 6,
   "id": "union-huntington",
   "metadata": {
    "execution": {
     "iopub.execute_input": "2021-09-11T16:30:08.710273Z",
     "iopub.status.busy": "2021-09-11T16:30:08.708006Z",
     "iopub.status.idle": "2021-09-11T16:30:08.713899Z",
     "shell.execute_reply": "2021-09-11T16:30:08.715254Z"
    },
    "papermill": {
     "duration": 0.041603,
     "end_time": "2021-09-11T16:30:08.715680",
     "exception": false,
     "start_time": "2021-09-11T16:30:08.674077",
     "status": "completed"
    },
    "tags": []
   },
   "outputs": [],
   "source": [
    "df_pivot.columns = [\"stamp_1\", \"stamp_2\"]\n",
    "df_pivot_diff = df_pivot.diff(axis=1)"
   ]
  },
  {
   "cell_type": "code",
   "execution_count": 7,
   "id": "fifth-motion",
   "metadata": {
    "execution": {
     "iopub.execute_input": "2021-09-11T16:30:08.769310Z",
     "iopub.status.busy": "2021-09-11T16:30:08.766931Z",
     "iopub.status.idle": "2021-09-11T16:30:10.241981Z",
     "shell.execute_reply": "2021-09-11T16:30:10.243401Z"
    },
    "papermill": {
     "duration": 1.508458,
     "end_time": "2021-09-11T16:30:10.243866",
     "exception": false,
     "start_time": "2021-09-11T16:30:08.735408",
     "status": "completed"
    },
    "tags": []
   },
   "outputs": [
    {
     "data": {
      "text/plain": [
       "<AxesSubplot:ylabel='PRODUCT'>"
      ]
     },
     "execution_count": 7,
     "metadata": {},
     "output_type": "execute_result"
    },
    {
     "data": {
      "image/png": "[encoded data removed]",
      "text/plain": [
       "<Figure size 432x288 with 1 Axes>"
      ]
     },
     "metadata": {
      "needs_background": "light"
     },
     "output_type": "display_data"
    }
   ],
   "source": [
    "df_pivot_diff.sort_values(\"stamp_2\", ascending = False)[\"stamp_2\"].head(10).plot.barh()"
   ]
  },
  {
   "cell_type": "code",
   "execution_count": null,
   "id": "extra-executive",
   "metadata": {
    "papermill": {
     "duration": 0.022014,
     "end_time": "2021-09-11T16:30:10.290190",
     "exception": false,
     "start_time": "2021-09-11T16:30:10.268176",
     "status": "completed"
    },
    "tags": []
   },
   "outputs": [],
   "source": []
  }
 ],
 "metadata": {
  "kernelspec": {
   "display_name": "Python 3",
   "language": "python",
   "name": "python3"
  },
  "language_info": {
   "codemirror_mode": {
    "name": "ipython",
    "version": 3
   },
   "file_extension": ".py",
   "mimetype": "text/x-python",
   "name": "python",
   "nbconvert_exporter": "python",
   "pygments_lexer": "ipython3",
   "version": "3.9.5"
  },
  "papermill": {
   "default_parameters": {},
   "duration": 6.48797,
   "end_time": "2021-09-11T16:30:10.930272",
   "environment_variables": {},
   "exception": null,
   "input_path": "eBay_Overview.ipynb",
   "output_path": "eBay_Overview.ipynb",
   "parameters": {},
   "start_time": "2021-09-11T16:30:04.442302",
   "version": "2.3.3"
  }
 },
 "nbformat": 4,
 "nbformat_minor": 5
}