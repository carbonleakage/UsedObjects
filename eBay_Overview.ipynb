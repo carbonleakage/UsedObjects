{
 "cells": [
  {
   "cell_type": "code",
   "execution_count": 1,
   "id": "reverse-picking",
   "metadata": {
    "execution": {
     "iopub.execute_input": "2021-08-14T03:30:06.855818Z",
     "iopub.status.busy": "2021-08-14T03:30:06.853791Z",
     "iopub.status.idle": "2021-08-14T03:30:07.667541Z",
     "shell.execute_reply": "2021-08-14T03:30:07.668944Z"
    },
    "papermill": {
     "duration": 0.867103,
     "end_time": "2021-08-14T03:30:07.669624",
     "exception": false,
     "start_time": "2021-08-14T03:30:06.802521",
     "status": "completed"
    },
    "tags": []
   },
   "outputs": [],
   "source": [
    "import pandas as pd\n",
    "import sqlite3"
   ]
  },
  {
   "cell_type": "code",
   "execution_count": 2,
   "id": "innovative-syndrome",
   "metadata": {
    "execution": {
     "iopub.execute_input": "2021-08-14T03:30:07.722222Z",
     "iopub.status.busy": "2021-08-14T03:30:07.720061Z",
     "iopub.status.idle": "2021-08-14T03:30:07.765250Z",
     "shell.execute_reply": "2021-08-14T03:30:07.766504Z"
    },
    "papermill": {
     "duration": 0.075896,
     "end_time": "2021-08-14T03:30:07.766908",
     "exception": false,
     "start_time": "2021-08-14T03:30:07.691012",
     "status": "completed"
    },
    "tags": []
   },
   "outputs": [],
   "source": [
    "timestamps = pd.read_sql(\"select distinct record_time from EBAY_TOP_BERLIN order by record_time desc limit 2\", sqlite3.connect(\"UsedObjects.db\"))"
   ]
  },
  {
   "cell_type": "code",
   "execution_count": 3,
   "id": "periodic-identification",
   "metadata": {
    "execution": {
     "iopub.execute_input": "2021-08-14T03:30:07.836219Z",
     "iopub.status.busy": "2021-08-14T03:30:07.831147Z",
     "iopub.status.idle": "2021-08-14T03:30:07.852993Z",
     "shell.execute_reply": "2021-08-14T03:30:07.854687Z"
    },
    "papermill": {
     "duration": 0.067073,
     "end_time": "2021-08-14T03:30:07.855221",
     "exception": false,
     "start_time": "2021-08-14T03:30:07.788148",
     "status": "completed"
    },
    "tags": []
   },
   "outputs": [
    {
     "data": {
      "text/html": [
       "<div>\n",
       "<style scoped>\n",
       "    .dataframe tbody tr th:only-of-type {\n",
       "        vertical-align: middle;\n",
       "    }\n",
       "\n",
       "    .dataframe tbody tr th {\n",
       "        vertical-align: top;\n",
       "    }\n",
       "\n",
       "    .dataframe thead th {\n",
       "        text-align: right;\n",
       "    }\n",
       "</style>\n",
       "<table border=\"1\" class=\"dataframe\">\n",
       "  <thead>\n",
       "    <tr style=\"text-align: right;\">\n",
       "      <th></th>\n",
       "      <th>RECORD_TIME</th>\n",
       "    </tr>\n",
       "  </thead>\n",
       "  <tbody>\n",
       "    <tr>\n",
       "      <th>0</th>\n",
       "      <td>2021-08-14 05:30</td>\n",
       "    </tr>\n",
       "    <tr>\n",
       "      <th>1</th>\n",
       "      <td>2021-08-14 05:00</td>\n",
       "    </tr>\n",
       "  </tbody>\n",
       "</table>\n",
       "</div>"
      ],
      "text/plain": [
       "        RECORD_TIME\n",
       "0  2021-08-14 05:30\n",
       "1  2021-08-14 05:00"
      ]
     },
     "execution_count": 3,
     "metadata": {},
     "output_type": "execute_result"
    }
   ],
   "source": [
    "timestamps"
   ]
  },
  {
   "cell_type": "code",
   "execution_count": 4,
   "id": "alternate-victory",
   "metadata": {
    "execution": {
     "iopub.execute_input": "2021-08-14T03:30:07.908681Z",
     "iopub.status.busy": "2021-08-14T03:30:07.906620Z",
     "iopub.status.idle": "2021-08-14T03:30:07.971949Z",
     "shell.execute_reply": "2021-08-14T03:30:07.973144Z"
    },
    "papermill": {
     "duration": 0.096187,
     "end_time": "2021-08-14T03:30:07.973542",
     "exception": false,
     "start_time": "2021-08-14T03:30:07.877355",
     "status": "completed"
    },
    "tags": []
   },
   "outputs": [],
   "source": [
    "df = pd.read_sql(\"select * from EBAY_TOP_BERLIN where record_time in (select distinct record_time from EBAY_TOP_BERLIN order by record_time desc limit 2)\", sqlite3.connect(\"UsedObjects.db\"))"
   ]
  },
  {
   "cell_type": "code",
   "execution_count": 5,
   "id": "popular-active",
   "metadata": {
    "execution": {
     "iopub.execute_input": "2021-08-14T03:30:08.047005Z",
     "iopub.status.busy": "2021-08-14T03:30:08.035310Z",
     "iopub.status.idle": "2021-08-14T03:30:08.062779Z",
     "shell.execute_reply": "2021-08-14T03:30:08.064010Z"
    },
    "papermill": {
     "duration": 0.067992,
     "end_time": "2021-08-14T03:30:08.064407",
     "exception": false,
     "start_time": "2021-08-14T03:30:07.996415",
     "status": "completed"
    },
    "tags": []
   },
   "outputs": [],
   "source": [
    "df_pivot = df.pivot_table(index=\"PRODUCT\", columns = \"RECORD_TIME\", values = \"LISTING_COUNT\")"
   ]
  },
  {
   "cell_type": "code",
   "execution_count": 6,
   "id": "union-huntington",
   "metadata": {
    "execution": {
     "iopub.execute_input": "2021-08-14T03:30:08.124075Z",
     "iopub.status.busy": "2021-08-14T03:30:08.121542Z",
     "iopub.status.idle": "2021-08-14T03:30:08.127860Z",
     "shell.execute_reply": "2021-08-14T03:30:08.129314Z"
    },
    "papermill": {
     "duration": 0.043009,
     "end_time": "2021-08-14T03:30:08.129780",
     "exception": false,
     "start_time": "2021-08-14T03:30:08.086771",
     "status": "completed"
    },
    "tags": []
   },
   "outputs": [],
   "source": [
    "df_pivot.columns = [\"stamp_1\", \"stamp_2\"]\n",
    "df_pivot_diff = df_pivot.diff(axis=1)"
   ]
  },
  {
   "cell_type": "code",
   "execution_count": 7,
   "id": "fifth-motion",
   "metadata": {
    "execution": {
     "iopub.execute_input": "2021-08-14T03:30:08.183868Z",
     "iopub.status.busy": "2021-08-14T03:30:08.181373Z",
     "iopub.status.idle": "2021-08-14T03:30:09.685709Z",
     "shell.execute_reply": "2021-08-14T03:30:09.687175Z"
    },
    "papermill": {
     "duration": 1.537226,
     "end_time": "2021-08-14T03:30:09.687621",
     "exception": false,
     "start_time": "2021-08-14T03:30:08.150395",
     "status": "completed"
    },
    "tags": []
   },
   "outputs": [
    {
     "data": {
      "text/plain": [
       "<AxesSubplot:ylabel='PRODUCT'>"
      ]
     },
     "execution_count": 7,
     "metadata": {},
     "output_type": "execute_result"
    },
    {
     "data": {
      "image/png": "[encoded data removed]",
      "text/plain": [
       "<Figure size 432x288 with 1 Axes>"
      ]
     },
     "metadata": {
      "needs_background": "light"
     },
     "output_type": "display_data"
    }
   ],
   "source": [
    "df_pivot_diff.sort_values(\"stamp_2\", ascending = False)[\"stamp_2\"].head(10).plot.barh()"
   ]
  },
  {
   "cell_type": "code",
   "execution_count": null,
   "id": "extra-executive",
   "metadata": {
    "papermill": {
     "duration": 0.022226,
     "end_time": "2021-08-14T03:30:09.733535",
     "exception": false,
     "start_time": "2021-08-14T03:30:09.711309",
     "status": "completed"
    },
    "tags": []
   },
   "outputs": [],
   "source": []
  }
 ],
 "metadata": {
  "kernelspec": {
   "display_name": "Python 3",
   "language": "python",
   "name": "python3"
  },
  "language_info": {
   "codemirror_mode": {
    "name": "ipython",
    "version": 3
   },
   "file_extension": ".py",
   "mimetype": "text/x-python",
   "name": "python",
   "nbconvert_exporter": "python",
   "pygments_lexer": "ipython3",
   "version": "3.9.5"
  },
  "papermill": {
   "default_parameters": {},
   "duration": 6.825872,
   "end_time": "2021-08-14T03:30:11.205310",
   "environment_variables": {},
   "exception": null,
   "input_path": "eBay_Overview.ipynb",
   "output_path": "eBay_Overview.ipynb",
   "parameters": {},
   "start_time": "2021-08-14T03:30:04.379438",
   "version": "2.3.3"
  }
 },
 "nbformat": 4,
 "nbformat_minor": 5
}