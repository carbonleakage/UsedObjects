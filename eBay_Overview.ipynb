{
 "cells": [
  {
   "cell_type": "code",
   "execution_count": 1,
   "id": "reverse-picking",
   "metadata": {
    "execution": {
     "iopub.execute_input": "2021-09-14T09:30:07.627345Z",
     "iopub.status.busy": "2021-09-14T09:30:07.625284Z",
     "iopub.status.idle": "2021-09-14T09:30:08.431791Z",
     "shell.execute_reply": "2021-09-14T09:30:08.430143Z"
    },
    "papermill": {
     "duration": 0.855702,
     "end_time": "2021-09-14T09:30:08.432202",
     "exception": false,
     "start_time": "2021-09-14T09:30:07.576500",
     "status": "completed"
    },
    "tags": []
   },
   "outputs": [],
   "source": [
    "import pandas as pd\n",
    "import sqlite3"
   ]
  },
  {
   "cell_type": "code",
   "execution_count": 2,
   "id": "innovative-syndrome",
   "metadata": {
    "execution": {
     "iopub.execute_input": "2021-09-14T09:30:08.483139Z",
     "iopub.status.busy": "2021-09-14T09:30:08.481085Z",
     "iopub.status.idle": "2021-09-14T09:30:08.763518Z",
     "shell.execute_reply": "2021-09-14T09:30:08.764818Z"
    },
    "papermill": {
     "duration": 0.312103,
     "end_time": "2021-09-14T09:30:08.765214",
     "exception": false,
     "start_time": "2021-09-14T09:30:08.453111",
     "status": "completed"
    },
    "tags": []
   },
   "outputs": [],
   "source": [
    "timestamps = pd.read_sql(\"select distinct record_time from EBAY_TOP_BERLIN order by record_time desc limit 2\", sqlite3.connect(\"UsedObjects.db\"))"
   ]
  },
  {
   "cell_type": "code",
   "execution_count": 3,
   "id": "periodic-identification",
   "metadata": {
    "execution": {
     "iopub.execute_input": "2021-09-14T09:30:08.829804Z",
     "iopub.status.busy": "2021-09-14T09:30:08.827613Z",
     "iopub.status.idle": "2021-09-14T09:30:08.848040Z",
     "shell.execute_reply": "2021-09-14T09:30:08.849166Z"
    },
    "papermill": {
     "duration": 0.064922,
     "end_time": "2021-09-14T09:30:08.849572",
     "exception": false,
     "start_time": "2021-09-14T09:30:08.784650",
     "status": "completed"
    },
    "tags": []
   },
   "outputs": [
    {
     "data": {
      "text/html": [
       "<div>\n",
       "<style scoped>\n",
       "    .dataframe tbody tr th:only-of-type {\n",
       "        vertical-align: middle;\n",
       "    }\n",
       "\n",
       "    .dataframe tbody tr th {\n",
       "        vertical-align: top;\n",
       "    }\n",
       "\n",
       "    .dataframe thead th {\n",
       "        text-align: right;\n",
       "    }\n",
       "</style>\n",
       "<table border=\"1\" class=\"dataframe\">\n",
       "  <thead>\n",
       "    <tr style=\"text-align: right;\">\n",
       "      <th></th>\n",
       "      <th>RECORD_TIME</th>\n",
       "    </tr>\n",
       "  </thead>\n",
       "  <tbody>\n",
       "    <tr>\n",
       "      <th>0</th>\n",
       "      <td>2021-09-14 11:30</td>\n",
       "    </tr>\n",
       "    <tr>\n",
       "      <th>1</th>\n",
       "      <td>2021-09-14 11:00</td>\n",
       "    </tr>\n",
       "  </tbody>\n",
       "</table>\n",
       "</div>"
      ],
      "text/plain": [
       "        RECORD_TIME\n",
       "0  2021-09-14 11:30\n",
       "1  2021-09-14 11:00"
      ]
     },
     "execution_count": 3,
     "metadata": {},
     "output_type": "execute_result"
    }
   ],
   "source": [
    "timestamps"
   ]
  },
  {
   "cell_type": "code",
   "execution_count": 4,
   "id": "alternate-victory",
   "metadata": {
    "execution": {
     "iopub.execute_input": "2021-09-14T09:30:08.904273Z",
     "iopub.status.busy": "2021-09-14T09:30:08.901916Z",
     "iopub.status.idle": "2021-09-14T09:30:09.322363Z",
     "shell.execute_reply": "2021-09-14T09:30:09.323717Z"
    },
    "papermill": {
     "duration": 0.45101,
     "end_time": "2021-09-14T09:30:09.324132",
     "exception": false,
     "start_time": "2021-09-14T09:30:08.873122",
     "status": "completed"
    },
    "tags": []
   },
   "outputs": [],
   "source": [
    "df = pd.read_sql(\"select * from EBAY_TOP_BERLIN where record_time in (select distinct record_time from EBAY_TOP_BERLIN order by record_time desc limit 2)\", sqlite3.connect(\"UsedObjects.db\"))"
   ]
  },
  {
   "cell_type": "code",
   "execution_count": 5,
   "id": "popular-active",
   "metadata": {
    "execution": {
     "iopub.execute_input": "2021-09-14T09:30:09.398955Z",
     "iopub.status.busy": "2021-09-14T09:30:09.392701Z",
     "iopub.status.idle": "2021-09-14T09:30:09.419624Z",
     "shell.execute_reply": "2021-09-14T09:30:09.420852Z"
    },
    "papermill": {
     "duration": 0.071034,
     "end_time": "2021-09-14T09:30:09.421245",
     "exception": false,
     "start_time": "2021-09-14T09:30:09.350211",
     "status": "completed"
    },
    "tags": []
   },
   "outputs": [],
   "source": [
    "df_pivot = df.pivot_table(index=\"PRODUCT\", columns = \"RECORD_TIME\", values = \"LISTING_COUNT\")"
   ]
  },
  {
   "cell_type": "code",
   "execution_count": 6,
   "id": "union-huntington",
   "metadata": {
    "execution": {
     "iopub.execute_input": "2021-09-14T09:30:09.478129Z",
     "iopub.status.busy": "2021-09-14T09:30:09.475976Z",
     "iopub.status.idle": "2021-09-14T09:30:09.481468Z",
     "shell.execute_reply": "2021-09-14T09:30:09.482823Z"
    },
    "papermill": {
     "duration": 0.040907,
     "end_time": "2021-09-14T09:30:09.483452",
     "exception": false,
     "start_time": "2021-09-14T09:30:09.442545",
     "status": "completed"
    },
    "tags": []
   },
   "outputs": [],
   "source": [
    "df_pivot.columns = [\"stamp_1\", \"stamp_2\"]\n",
    "df_pivot_diff = df_pivot.diff(axis=1)"
   ]
  },
  {
   "cell_type": "code",
   "execution_count": 7,
   "id": "fifth-motion",
   "metadata": {
    "execution": {
     "iopub.execute_input": "2021-09-14T09:30:09.540303Z",
     "iopub.status.busy": "2021-09-14T09:30:09.537737Z",
     "iopub.status.idle": "2021-09-14T09:30:11.034614Z",
     "shell.execute_reply": "2021-09-14T09:30:11.035961Z"
    },
    "papermill": {
     "duration": 1.530216,
     "end_time": "2021-09-14T09:30:11.036381",
     "exception": false,
     "start_time": "2021-09-14T09:30:09.506165",
     "status": "completed"
    },
    "tags": []
   },
   "outputs": [
    {
     "data": {
      "text/plain": [
       "<AxesSubplot:ylabel='PRODUCT'>"
      ]
     },
     "execution_count": 7,
     "metadata": {},
     "output_type": "execute_result"
    },
    {
     "data": {
      "image/png": "[encoded data removed]",
      "text/plain": [
       "<Figure size 432x288 with 1 Axes>"
      ]
     },
     "metadata": {
      "needs_background": "light"
     },
     "output_type": "display_data"
    }
   ],
   "source": [
    "df_pivot_diff.sort_values(\"stamp_2\", ascending = False)[\"stamp_2\"].head(10).plot.barh()"
   ]
  },
  {
   "cell_type": "code",
   "execution_count": null,
   "id": "extra-executive",
   "metadata": {
    "papermill": {
     "duration": 0.022293,
     "end_time": "2021-09-14T09:30:11.083595",
     "exception": false,
     "start_time": "2021-09-14T09:30:11.061302",
     "status": "completed"
    },
    "tags": []
   },
   "outputs": [],
   "source": []
  }
 ],
 "metadata": {
  "kernelspec": {
   "display_name": "Python 3",
   "language": "python",
   "name": "python3"
  },
  "language_info": {
   "codemirror_mode": {
    "name": "ipython",
    "version": 3
   },
   "file_extension": ".py",
   "mimetype": "text/x-python",
   "name": "python",
   "nbconvert_exporter": "python",
   "pygments_lexer": "ipython3",
   "version": "3.9.5"
  },
  "papermill": {
   "default_parameters": {},
   "duration": 6.552921,
   "end_time": "2021-09-14T09:30:11.725986",
   "environment_variables": {},
   "exception": null,
   "input_path": "eBay_Overview.ipynb",
   "output_path": "eBay_Overview.ipynb",
   "parameters": {},
   "start_time": "2021-09-14T09:30:05.173065",
   "version": "2.3.3"
  }
 },
 "nbformat": 4,
 "nbformat_minor": 5
}