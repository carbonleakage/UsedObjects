{
 "cells": [
  {
   "cell_type": "code",
   "execution_count": 1,
   "id": "reverse-picking",
   "metadata": {
    "execution": {
     "iopub.execute_input": "2021-11-20T01:30:07.803900Z",
     "iopub.status.busy": "2021-11-20T01:30:07.794774Z",
     "iopub.status.idle": "2021-11-20T01:30:08.754536Z",
     "shell.execute_reply": "2021-11-20T01:30:08.756047Z"
    },
    "papermill": {
     "duration": 1.006216,
     "end_time": "2021-11-20T01:30:08.757175",
     "exception": false,
     "start_time": "2021-11-20T01:30:07.750959",
     "status": "completed"
    },
    "tags": []
   },
   "outputs": [],
   "source": [
    "import pandas as pd\n",
    "import sqlite3"
   ]
  },
  {
   "cell_type": "code",
   "execution_count": 2,
   "id": "innovative-syndrome",
   "metadata": {
    "execution": {
     "iopub.execute_input": "2021-11-20T01:30:08.825827Z",
     "iopub.status.busy": "2021-11-20T01:30:08.823616Z",
     "iopub.status.idle": "2021-11-20T01:30:09.695970Z",
     "shell.execute_reply": "2021-11-20T01:30:09.697435Z"
    },
    "papermill": {
     "duration": 0.906908,
     "end_time": "2021-11-20T01:30:09.697919",
     "exception": false,
     "start_time": "2021-11-20T01:30:08.791011",
     "status": "completed"
    },
    "tags": []
   },
   "outputs": [],
   "source": [
    "timestamps = pd.read_sql(\"select distinct record_time from EBAY_TOP_BERLIN order by record_time desc limit 2\", sqlite3.connect(\"UsedObjects.db\"))"
   ]
  },
  {
   "cell_type": "code",
   "execution_count": 3,
   "id": "periodic-identification",
   "metadata": {
    "execution": {
     "iopub.execute_input": "2021-11-20T01:30:09.767061Z",
     "iopub.status.busy": "2021-11-20T01:30:09.764854Z",
     "iopub.status.idle": "2021-11-20T01:30:09.786567Z",
     "shell.execute_reply": "2021-11-20T01:30:09.788055Z"
    },
    "papermill": {
     "duration": 0.071,
     "end_time": "2021-11-20T01:30:09.788539",
     "exception": false,
     "start_time": "2021-11-20T01:30:09.717539",
     "status": "completed"
    },
    "tags": []
   },
   "outputs": [
    {
     "data": {
      "text/html": [
       "<div>\n",
       "<style scoped>\n",
       "    .dataframe tbody tr th:only-of-type {\n",
       "        vertical-align: middle;\n",
       "    }\n",
       "\n",
       "    .dataframe tbody tr th {\n",
       "        vertical-align: top;\n",
       "    }\n",
       "\n",
       "    .dataframe thead th {\n",
       "        text-align: right;\n",
       "    }\n",
       "</style>\n",
       "<table border=\"1\" class=\"dataframe\">\n",
       "  <thead>\n",
       "    <tr style=\"text-align: right;\">\n",
       "      <th></th>\n",
       "      <th>RECORD_TIME</th>\n",
       "    </tr>\n",
       "  </thead>\n",
       "  <tbody>\n",
       "    <tr>\n",
       "      <th>0</th>\n",
       "      <td>2021-11-20 02:30</td>\n",
       "    </tr>\n",
       "    <tr>\n",
       "      <th>1</th>\n",
       "      <td>2021-11-20 02:00</td>\n",
       "    </tr>\n",
       "  </tbody>\n",
       "</table>\n",
       "</div>"
      ],
      "text/plain": [
       "        RECORD_TIME\n",
       "0  2021-11-20 02:30\n",
       "1  2021-11-20 02:00"
      ]
     },
     "execution_count": 3,
     "metadata": {},
     "output_type": "execute_result"
    }
   ],
   "source": [
    "timestamps"
   ]
  },
  {
   "cell_type": "code",
   "execution_count": 4,
   "id": "alternate-victory",
   "metadata": {
    "execution": {
     "iopub.execute_input": "2021-11-20T01:30:09.844240Z",
     "iopub.status.busy": "2021-11-20T01:30:09.842095Z",
     "iopub.status.idle": "2021-11-20T01:30:11.090154Z",
     "shell.execute_reply": "2021-11-20T01:30:11.092385Z"
    },
    "papermill": {
     "duration": 1.282856,
     "end_time": "2021-11-20T01:30:11.092933",
     "exception": false,
     "start_time": "2021-11-20T01:30:09.810077",
     "status": "completed"
    },
    "tags": []
   },
   "outputs": [],
   "source": [
    "df = pd.read_sql(\"select * from EBAY_TOP_BERLIN where record_time in (select distinct record_time from EBAY_TOP_BERLIN order by record_time desc limit 2)\", sqlite3.connect(\"UsedObjects.db\"))"
   ]
  },
  {
   "cell_type": "code",
   "execution_count": 5,
   "id": "popular-active",
   "metadata": {
    "execution": {
     "iopub.execute_input": "2021-11-20T01:30:11.161201Z",
     "iopub.status.busy": "2021-11-20T01:30:11.154162Z",
     "iopub.status.idle": "2021-11-20T01:30:11.186056Z",
     "shell.execute_reply": "2021-11-20T01:30:11.187547Z"
    },
    "papermill": {
     "duration": 0.073618,
     "end_time": "2021-11-20T01:30:11.188000",
     "exception": false,
     "start_time": "2021-11-20T01:30:11.114382",
     "status": "completed"
    },
    "tags": []
   },
   "outputs": [],
   "source": [
    "df_pivot = df.pivot_table(index=\"PRODUCT\", columns = \"RECORD_TIME\", values = \"LISTING_COUNT\")"
   ]
  },
  {
   "cell_type": "code",
   "execution_count": 6,
   "id": "union-huntington",
   "metadata": {
    "execution": {
     "iopub.execute_input": "2021-11-20T01:30:11.253937Z",
     "iopub.status.busy": "2021-11-20T01:30:11.250323Z",
     "iopub.status.idle": "2021-11-20T01:30:11.259317Z",
     "shell.execute_reply": "2021-11-20T01:30:11.262786Z"
    },
    "papermill": {
     "duration": 0.055334,
     "end_time": "2021-11-20T01:30:11.263599",
     "exception": false,
     "start_time": "2021-11-20T01:30:11.208265",
     "status": "completed"
    },
    "tags": []
   },
   "outputs": [],
   "source": [
    "df_pivot.columns = [\"stamp_1\", \"stamp_2\"]\n",
    "df_pivot_diff = df_pivot.diff(axis=1)"
   ]
  },
  {
   "cell_type": "code",
   "execution_count": 7,
   "id": "fifth-motion",
   "metadata": {
    "execution": {
     "iopub.execute_input": "2021-11-20T01:30:11.352140Z",
     "iopub.status.busy": "2021-11-20T01:30:11.340760Z",
     "iopub.status.idle": "2021-11-20T01:30:13.089343Z",
     "shell.execute_reply": "2021-11-20T01:30:13.091983Z"
    },
    "papermill": {
     "duration": 1.796701,
     "end_time": "2021-11-20T01:30:13.092876",
     "exception": false,
     "start_time": "2021-11-20T01:30:11.296175",
     "status": "completed"
    },
    "tags": []
   },
   "outputs": [
    {
     "data": {
      "text/plain": [
       "<AxesSubplot:ylabel='PRODUCT'>"
      ]
     },
     "execution_count": 7,
     "metadata": {},
     "output_type": "execute_result"
    },
    {
     "data": {
      "image/png": "[encoded data removed]",
      "text/plain": [
       "<Figure size 432x288 with 1 Axes>"
      ]
     },
     "metadata": {
      "needs_background": "light"
     },
     "output_type": "display_data"
    }
   ],
   "source": [
    "df_pivot_diff.sort_values(\"stamp_2\", ascending = False)[\"stamp_2\"].head(10).plot.barh()"
   ]
  },
  {
   "cell_type": "code",
   "execution_count": null,
   "id": "extra-executive",
   "metadata": {
    "papermill": {
     "duration": 0.037131,
     "end_time": "2021-11-20T01:30:13.167845",
     "exception": false,
     "start_time": "2021-11-20T01:30:13.130714",
     "status": "completed"
    },
    "tags": []
   },
   "outputs": [],
   "source": []
  }
 ],
 "metadata": {
  "kernelspec": {
   "display_name": "Python 3",
   "language": "python",
   "name": "python3"
  },
  "language_info": {
   "codemirror_mode": {
    "name": "ipython",
    "version": 3
   },
   "file_extension": ".py",
   "mimetype": "text/x-python",
   "name": "python",
   "nbconvert_exporter": "python",
   "pygments_lexer": "ipython3",
   "version": "3.9.5"
  },
  "papermill": {
   "default_parameters": {},
   "duration": 9.956562,
   "end_time": "2021-11-20T01:30:14.950649",
   "environment_variables": {},
   "exception": null,
   "input_path": "eBay_Overview.ipynb",
   "output_path": "eBay_Overview.ipynb",
   "parameters": {},
   "start_time": "2021-11-20T01:30:04.994087",
   "version": "2.3.3"
  }
 },
 "nbformat": 4,
 "nbformat_minor": 5
}