{
 "cells": [
  {
   "cell_type": "code",
   "execution_count": 1,
   "id": "reverse-picking",
   "metadata": {
    "execution": {
     "iopub.execute_input": "2021-09-24T17:30:06.708576Z",
     "iopub.status.busy": "2021-09-24T17:30:06.706583Z",
     "iopub.status.idle": "2021-09-24T17:30:07.507265Z",
     "shell.execute_reply": "2021-09-24T17:30:07.508731Z"
    },
    "papermill": {
     "duration": 0.853069,
     "end_time": "2021-09-24T17:30:07.509416",
     "exception": false,
     "start_time": "2021-09-24T17:30:06.656347",
     "status": "completed"
    },
    "tags": []
   },
   "outputs": [],
   "source": [
    "import pandas as pd\n",
    "import sqlite3"
   ]
  },
  {
   "cell_type": "code",
   "execution_count": 2,
   "id": "innovative-syndrome",
   "metadata": {
    "execution": {
     "iopub.execute_input": "2021-09-24T17:30:07.560706Z",
     "iopub.status.busy": "2021-09-24T17:30:07.558274Z",
     "iopub.status.idle": "2021-09-24T17:30:07.927695Z",
     "shell.execute_reply": "2021-09-24T17:30:07.929076Z"
    },
    "papermill": {
     "duration": 0.399759,
     "end_time": "2021-09-24T17:30:07.929512",
     "exception": false,
     "start_time": "2021-09-24T17:30:07.529753",
     "status": "completed"
    },
    "tags": []
   },
   "outputs": [],
   "source": [
    "timestamps = pd.read_sql(\"select distinct record_time from EBAY_TOP_BERLIN order by record_time desc limit 2\", sqlite3.connect(\"UsedObjects.db\"))"
   ]
  },
  {
   "cell_type": "code",
   "execution_count": 3,
   "id": "periodic-identification",
   "metadata": {
    "execution": {
     "iopub.execute_input": "2021-09-24T17:30:07.996125Z",
     "iopub.status.busy": "2021-09-24T17:30:07.994047Z",
     "iopub.status.idle": "2021-09-24T17:30:08.014549Z",
     "shell.execute_reply": "2021-09-24T17:30:08.016006Z"
    },
    "papermill": {
     "duration": 0.06722,
     "end_time": "2021-09-24T17:30:08.016479",
     "exception": false,
     "start_time": "2021-09-24T17:30:07.949259",
     "status": "completed"
    },
    "tags": []
   },
   "outputs": [
    {
     "data": {
      "text/html": [
       "<div>\n",
       "<style scoped>\n",
       "    .dataframe tbody tr th:only-of-type {\n",
       "        vertical-align: middle;\n",
       "    }\n",
       "\n",
       "    .dataframe tbody tr th {\n",
       "        vertical-align: top;\n",
       "    }\n",
       "\n",
       "    .dataframe thead th {\n",
       "        text-align: right;\n",
       "    }\n",
       "</style>\n",
       "<table border=\"1\" class=\"dataframe\">\n",
       "  <thead>\n",
       "    <tr style=\"text-align: right;\">\n",
       "      <th></th>\n",
       "      <th>RECORD_TIME</th>\n",
       "    </tr>\n",
       "  </thead>\n",
       "  <tbody>\n",
       "    <tr>\n",
       "      <th>0</th>\n",
       "      <td>2021-09-24 19:30</td>\n",
       "    </tr>\n",
       "    <tr>\n",
       "      <th>1</th>\n",
       "      <td>2021-09-24 19:00</td>\n",
       "    </tr>\n",
       "  </tbody>\n",
       "</table>\n",
       "</div>"
      ],
      "text/plain": [
       "        RECORD_TIME\n",
       "0  2021-09-24 19:30\n",
       "1  2021-09-24 19:00"
      ]
     },
     "execution_count": 3,
     "metadata": {},
     "output_type": "execute_result"
    }
   ],
   "source": [
    "timestamps"
   ]
  },
  {
   "cell_type": "code",
   "execution_count": 4,
   "id": "alternate-victory",
   "metadata": {
    "execution": {
     "iopub.execute_input": "2021-09-24T17:30:08.069854Z",
     "iopub.status.busy": "2021-09-24T17:30:08.067348Z",
     "iopub.status.idle": "2021-09-24T17:30:08.619222Z",
     "shell.execute_reply": "2021-09-24T17:30:08.620673Z"
    },
    "papermill": {
     "duration": 0.582137,
     "end_time": "2021-09-24T17:30:08.621107",
     "exception": false,
     "start_time": "2021-09-24T17:30:08.038970",
     "status": "completed"
    },
    "tags": []
   },
   "outputs": [],
   "source": [
    "df = pd.read_sql(\"select * from EBAY_TOP_BERLIN where record_time in (select distinct record_time from EBAY_TOP_BERLIN order by record_time desc limit 2)\", sqlite3.connect(\"UsedObjects.db\"))"
   ]
  },
  {
   "cell_type": "code",
   "execution_count": 5,
   "id": "popular-active",
   "metadata": {
    "execution": {
     "iopub.execute_input": "2021-09-24T17:30:08.691110Z",
     "iopub.status.busy": "2021-09-24T17:30:08.678987Z",
     "iopub.status.idle": "2021-09-24T17:30:08.707508Z",
     "shell.execute_reply": "2021-09-24T17:30:08.708920Z"
    },
    "papermill": {
     "duration": 0.067409,
     "end_time": "2021-09-24T17:30:08.709352",
     "exception": false,
     "start_time": "2021-09-24T17:30:08.641943",
     "status": "completed"
    },
    "tags": []
   },
   "outputs": [],
   "source": [
    "df_pivot = df.pivot_table(index=\"PRODUCT\", columns = \"RECORD_TIME\", values = \"LISTING_COUNT\")"
   ]
  },
  {
   "cell_type": "code",
   "execution_count": 6,
   "id": "union-huntington",
   "metadata": {
    "execution": {
     "iopub.execute_input": "2021-09-24T17:30:08.766968Z",
     "iopub.status.busy": "2021-09-24T17:30:08.764501Z",
     "iopub.status.idle": "2021-09-24T17:30:08.770310Z",
     "shell.execute_reply": "2021-09-24T17:30:08.771574Z"
    },
    "papermill": {
     "duration": 0.042316,
     "end_time": "2021-09-24T17:30:08.772002",
     "exception": false,
     "start_time": "2021-09-24T17:30:08.729686",
     "status": "completed"
    },
    "tags": []
   },
   "outputs": [],
   "source": [
    "df_pivot.columns = [\"stamp_1\", \"stamp_2\"]\n",
    "df_pivot_diff = df_pivot.diff(axis=1)"
   ]
  },
  {
   "cell_type": "code",
   "execution_count": 7,
   "id": "fifth-motion",
   "metadata": {
    "execution": {
     "iopub.execute_input": "2021-09-24T17:30:08.825798Z",
     "iopub.status.busy": "2021-09-24T17:30:08.823539Z",
     "iopub.status.idle": "2021-09-24T17:30:10.334456Z",
     "shell.execute_reply": "2021-09-24T17:30:10.335901Z"
    },
    "papermill": {
     "duration": 1.543738,
     "end_time": "2021-09-24T17:30:10.336342",
     "exception": false,
     "start_time": "2021-09-24T17:30:08.792604",
     "status": "completed"
    },
    "tags": []
   },
   "outputs": [
    {
     "data": {
      "text/plain": [
       "<AxesSubplot:ylabel='PRODUCT'>"
      ]
     },
     "execution_count": 7,
     "metadata": {},
     "output_type": "execute_result"
    },
    {
     "data": {
      "image/png": "[encoded data removed]",
      "text/plain": [
       "<Figure size 432x288 with 1 Axes>"
      ]
     },
     "metadata": {
      "needs_background": "light"
     },
     "output_type": "display_data"
    }
   ],
   "source": [
    "df_pivot_diff.sort_values(\"stamp_2\", ascending = False)[\"stamp_2\"].head(10).plot.barh()"
   ]
  },
  {
   "cell_type": "code",
   "execution_count": null,
   "id": "extra-executive",
   "metadata": {
    "papermill": {
     "duration": 0.022362,
     "end_time": "2021-09-24T17:30:10.383476",
     "exception": false,
     "start_time": "2021-09-24T17:30:10.361114",
     "status": "completed"
    },
    "tags": []
   },
   "outputs": [],
   "source": []
  }
 ],
 "metadata": {
  "kernelspec": {
   "display_name": "Python 3",
   "language": "python",
   "name": "python3"
  },
  "language_info": {
   "codemirror_mode": {
    "name": "ipython",
    "version": 3
   },
   "file_extension": ".py",
   "mimetype": "text/x-python",
   "name": "python",
   "nbconvert_exporter": "python",
   "pygments_lexer": "ipython3",
   "version": "3.9.5"
  },
  "papermill": {
   "default_parameters": {},
   "duration": 6.776564,
   "end_time": "2021-09-24T17:30:11.026337",
   "environment_variables": {},
   "exception": null,
   "input_path": "eBay_Overview.ipynb",
   "output_path": "eBay_Overview.ipynb",
   "parameters": {},
   "start_time": "2021-09-24T17:30:04.249773",
   "version": "2.3.3"
  }
 },
 "nbformat": 4,
 "nbformat_minor": 5
}