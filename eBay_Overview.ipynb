{
 "cells": [
  {
   "cell_type": "code",
   "execution_count": 1,
   "id": "reverse-picking",
   "metadata": {
    "execution": {
     "iopub.execute_input": "2021-08-11T16:30:04.299674Z",
     "iopub.status.busy": "2021-08-11T16:30:04.298914Z",
     "iopub.status.idle": "2021-08-11T16:30:04.898985Z",
     "shell.execute_reply": "2021-08-11T16:30:04.897739Z"
    },
    "papermill": {
     "duration": 0.618756,
     "end_time": "2021-08-11T16:30:04.899237",
     "exception": false,
     "start_time": "2021-08-11T16:30:04.280481",
     "status": "completed"
    },
    "tags": []
   },
   "outputs": [],
   "source": [
    "import pandas as pd\n",
    "import sqlite3"
   ]
  },
  {
   "cell_type": "code",
   "execution_count": 2,
   "id": "innovative-syndrome",
   "metadata": {
    "execution": {
     "iopub.execute_input": "2021-08-11T16:30:04.927869Z",
     "iopub.status.busy": "2021-08-11T16:30:04.926800Z",
     "iopub.status.idle": "2021-08-11T16:30:05.210654Z",
     "shell.execute_reply": "2021-08-11T16:30:05.211184Z"
    },
    "papermill": {
     "duration": 0.30141,
     "end_time": "2021-08-11T16:30:05.211364",
     "exception": false,
     "start_time": "2021-08-11T16:30:04.909954",
     "status": "completed"
    },
    "tags": []
   },
   "outputs": [],
   "source": [
    "timestamps = pd.read_sql(\"select distinct record_time from EBAY_TOP_BERLIN order by record_time desc limit 2\", sqlite3.connect(\"UsedObjects.db\"))"
   ]
  },
  {
   "cell_type": "code",
   "execution_count": 3,
   "id": "periodic-identification",
   "metadata": {
    "execution": {
     "iopub.execute_input": "2021-08-11T16:30:05.241027Z",
     "iopub.status.busy": "2021-08-11T16:30:05.240225Z",
     "iopub.status.idle": "2021-08-11T16:30:05.252490Z",
     "shell.execute_reply": "2021-08-11T16:30:05.251906Z"
    },
    "papermill": {
     "duration": 0.033152,
     "end_time": "2021-08-11T16:30:05.252639",
     "exception": false,
     "start_time": "2021-08-11T16:30:05.219487",
     "status": "completed"
    },
    "tags": []
   },
   "outputs": [
    {
     "data": {
      "text/html": [
       "<div>\n",
       "<style scoped>\n",
       "    .dataframe tbody tr th:only-of-type {\n",
       "        vertical-align: middle;\n",
       "    }\n",
       "\n",
       "    .dataframe tbody tr th {\n",
       "        vertical-align: top;\n",
       "    }\n",
       "\n",
       "    .dataframe thead th {\n",
       "        text-align: right;\n",
       "    }\n",
       "</style>\n",
       "<table border=\"1\" class=\"dataframe\">\n",
       "  <thead>\n",
       "    <tr style=\"text-align: right;\">\n",
       "      <th></th>\n",
       "      <th>RECORD_TIME</th>\n",
       "    </tr>\n",
       "  </thead>\n",
       "  <tbody>\n",
       "    <tr>\n",
       "      <th>0</th>\n",
       "      <td>2021-08-11 18:30</td>\n",
       "    </tr>\n",
       "    <tr>\n",
       "      <th>1</th>\n",
       "      <td>2021-08-11 18:00</td>\n",
       "    </tr>\n",
       "  </tbody>\n",
       "</table>\n",
       "</div>"
      ],
      "text/plain": [
       "        RECORD_TIME\n",
       "0  2021-08-11 18:30\n",
       "1  2021-08-11 18:00"
      ]
     },
     "execution_count": 3,
     "metadata": {},
     "output_type": "execute_result"
    }
   ],
   "source": [
    "timestamps"
   ]
  },
  {
   "cell_type": "code",
   "execution_count": 4,
   "id": "alternate-victory",
   "metadata": {
    "execution": {
     "iopub.execute_input": "2021-08-11T16:30:05.278293Z",
     "iopub.status.busy": "2021-08-11T16:30:05.277149Z",
     "iopub.status.idle": "2021-08-11T16:30:05.297989Z",
     "shell.execute_reply": "2021-08-11T16:30:05.297252Z"
    },
    "papermill": {
     "duration": 0.036639,
     "end_time": "2021-08-11T16:30:05.298139",
     "exception": false,
     "start_time": "2021-08-11T16:30:05.261500",
     "status": "completed"
    },
    "tags": []
   },
   "outputs": [],
   "source": [
    "df = pd.read_sql(\"select * from EBAY_TOP_BERLIN where record_time in (select distinct record_time from EBAY_TOP_BERLIN order by record_time desc limit 2)\", sqlite3.connect(\"UsedObjects.db\"))"
   ]
  },
  {
   "cell_type": "code",
   "execution_count": 5,
   "id": "popular-active",
   "metadata": {
    "execution": {
     "iopub.execute_input": "2021-08-11T16:30:05.329813Z",
     "iopub.status.busy": "2021-08-11T16:30:05.328544Z",
     "iopub.status.idle": "2021-08-11T16:30:05.348707Z",
     "shell.execute_reply": "2021-08-11T16:30:05.349714Z"
    },
    "papermill": {
     "duration": 0.043461,
     "end_time": "2021-08-11T16:30:05.349974",
     "exception": false,
     "start_time": "2021-08-11T16:30:05.306513",
     "status": "completed"
    },
    "tags": []
   },
   "outputs": [],
   "source": [
    "df_pivot = df.pivot_table(index=\"PRODUCT\", columns = \"RECORD_TIME\", values = \"LISTING_COUNT\")"
   ]
  },
  {
   "cell_type": "code",
   "execution_count": 6,
   "id": "union-huntington",
   "metadata": {
    "execution": {
     "iopub.execute_input": "2021-08-11T16:30:05.377683Z",
     "iopub.status.busy": "2021-08-11T16:30:05.376953Z",
     "iopub.status.idle": "2021-08-11T16:30:05.379770Z",
     "shell.execute_reply": "2021-08-11T16:30:05.380296Z"
    },
    "papermill": {
     "duration": 0.02029,
     "end_time": "2021-08-11T16:30:05.380474",
     "exception": false,
     "start_time": "2021-08-11T16:30:05.360184",
     "status": "completed"
    },
    "tags": []
   },
   "outputs": [],
   "source": [
    "df_pivot.columns = [\"stamp_1\", \"stamp_2\"]\n",
    "df_pivot_diff = df_pivot.diff(axis=1)"
   ]
  },
  {
   "cell_type": "code",
   "execution_count": 7,
   "id": "fifth-motion",
   "metadata": {
    "execution": {
     "iopub.execute_input": "2021-08-11T16:30:05.410312Z",
     "iopub.status.busy": "2021-08-11T16:30:05.409558Z",
     "iopub.status.idle": "2021-08-11T16:30:06.105854Z",
     "shell.execute_reply": "2021-08-11T16:30:06.104771Z"
    },
    "papermill": {
     "duration": 0.715683,
     "end_time": "2021-08-11T16:30:06.106130",
     "exception": false,
     "start_time": "2021-08-11T16:30:05.390447",
     "status": "completed"
    },
    "tags": []
   },
   "outputs": [
    {
     "data": {
      "text/plain": [
       "<AxesSubplot:ylabel='PRODUCT'>"
      ]
     },
     "execution_count": 7,
     "metadata": {},
     "output_type": "execute_result"
    },
    {
     "data": {
      "image/png": "[encoded data removed]",
      "text/plain": [
       "<Figure size 432x288 with 1 Axes>"
      ]
     },
     "metadata": {
      "needs_background": "light"
     },
     "output_type": "display_data"
    }
   ],
   "source": [
    "df_pivot_diff.sort_values(\"stamp_2\", ascending = False)[\"stamp_2\"].head(10).plot.barh()"
   ]
  },
  {
   "cell_type": "code",
   "execution_count": null,
   "id": "extra-executive",
   "metadata": {
    "papermill": {
     "duration": 0.017024,
     "end_time": "2021-08-11T16:30:06.135286",
     "exception": false,
     "start_time": "2021-08-11T16:30:06.118262",
     "status": "completed"
    },
    "tags": []
   },
   "outputs": [],
   "source": []
  }
 ],
 "metadata": {
  "kernelspec": {
   "display_name": "Python 3",
   "language": "python",
   "name": "python3"
  },
  "language_info": {
   "codemirror_mode": {
    "name": "ipython",
    "version": 3
   },
   "file_extension": ".py",
   "mimetype": "text/x-python",
   "name": "python",
   "nbconvert_exporter": "python",
   "pygments_lexer": "ipython3",
   "version": "3.8.8"
  },
  "papermill": {
   "default_parameters": {},
   "duration": 4.212362,
   "end_time": "2021-08-11T16:30:06.779873",
   "environment_variables": {},
   "exception": null,
   "input_path": "/Users/saravananshanmugam/Carbonleakage_Git/UsedObjects/eBay_Overview.ipynb",
   "output_path": "/Users/saravananshanmugam/Carbonleakage_Git/UsedObjects/eBay_Overview.ipynb",
   "parameters": {},
   "start_time": "2021-08-11T16:30:02.567511",
   "version": "2.3.3"
  }
 },
 "nbformat": 4,
 "nbformat_minor": 5
}