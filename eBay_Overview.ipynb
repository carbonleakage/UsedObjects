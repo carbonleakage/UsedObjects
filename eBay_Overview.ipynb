{
 "cells": [
  {
   "cell_type": "code",
   "execution_count": 1,
   "id": "reverse-picking",
   "metadata": {
    "execution": {
     "iopub.execute_input": "2021-12-07T23:00:08.019772Z",
     "iopub.status.busy": "2021-12-07T23:00:08.017051Z",
     "iopub.status.idle": "2021-12-07T23:00:08.949726Z",
     "shell.execute_reply": "2021-12-07T23:00:08.952023Z"
    },
    "papermill": {
     "duration": 0.981078,
     "end_time": "2021-12-07T23:00:08.952755",
     "exception": false,
     "start_time": "2021-12-07T23:00:07.971677",
     "status": "completed"
    },
    "tags": []
   },
   "outputs": [],
   "source": [
    "import pandas as pd\n",
    "import sqlite3"
   ]
  },
  {
   "cell_type": "code",
   "execution_count": 2,
   "id": "innovative-syndrome",
   "metadata": {
    "execution": {
     "iopub.execute_input": "2021-12-07T23:00:09.028133Z",
     "iopub.status.busy": "2021-12-07T23:00:09.025739Z",
     "iopub.status.idle": "2021-12-07T23:00:10.025926Z",
     "shell.execute_reply": "2021-12-07T23:00:10.027335Z"
    },
    "papermill": {
     "duration": 1.033825,
     "end_time": "2021-12-07T23:00:10.027825",
     "exception": false,
     "start_time": "2021-12-07T23:00:08.994000",
     "status": "completed"
    },
    "tags": []
   },
   "outputs": [],
   "source": [
    "timestamps = pd.read_sql(\"select distinct record_time from EBAY_TOP_BERLIN order by record_time desc limit 2\", sqlite3.connect(\"UsedObjects.db\"))"
   ]
  },
  {
   "cell_type": "code",
   "execution_count": 3,
   "id": "periodic-identification",
   "metadata": {
    "execution": {
     "iopub.execute_input": "2021-12-07T23:00:10.102852Z",
     "iopub.status.busy": "2021-12-07T23:00:10.095295Z",
     "iopub.status.idle": "2021-12-07T23:00:10.120031Z",
     "shell.execute_reply": "2021-12-07T23:00:10.121758Z"
    },
    "papermill": {
     "duration": 0.075357,
     "end_time": "2021-12-07T23:00:10.122301",
     "exception": false,
     "start_time": "2021-12-07T23:00:10.046944",
     "status": "completed"
    },
    "tags": []
   },
   "outputs": [
    {
     "data": {
      "text/html": [
       "<div>\n",
       "<style scoped>\n",
       "    .dataframe tbody tr th:only-of-type {\n",
       "        vertical-align: middle;\n",
       "    }\n",
       "\n",
       "    .dataframe tbody tr th {\n",
       "        vertical-align: top;\n",
       "    }\n",
       "\n",
       "    .dataframe thead th {\n",
       "        text-align: right;\n",
       "    }\n",
       "</style>\n",
       "<table border=\"1\" class=\"dataframe\">\n",
       "  <thead>\n",
       "    <tr style=\"text-align: right;\">\n",
       "      <th></th>\n",
       "      <th>RECORD_TIME</th>\n",
       "    </tr>\n",
       "  </thead>\n",
       "  <tbody>\n",
       "    <tr>\n",
       "      <th>0</th>\n",
       "      <td>2021-12-08 00:00</td>\n",
       "    </tr>\n",
       "    <tr>\n",
       "      <th>1</th>\n",
       "      <td>2021-12-07 23:30</td>\n",
       "    </tr>\n",
       "  </tbody>\n",
       "</table>\n",
       "</div>"
      ],
      "text/plain": [
       "        RECORD_TIME\n",
       "0  2021-12-08 00:00\n",
       "1  2021-12-07 23:30"
      ]
     },
     "execution_count": 3,
     "metadata": {},
     "output_type": "execute_result"
    }
   ],
   "source": [
    "timestamps"
   ]
  },
  {
   "cell_type": "code",
   "execution_count": 4,
   "id": "alternate-victory",
   "metadata": {
    "execution": {
     "iopub.execute_input": "2021-12-07T23:00:10.179316Z",
     "iopub.status.busy": "2021-12-07T23:00:10.176815Z",
     "iopub.status.idle": "2021-12-07T23:00:11.654720Z",
     "shell.execute_reply": "2021-12-07T23:00:11.655938Z"
    },
    "papermill": {
     "duration": 1.51266,
     "end_time": "2021-12-07T23:00:11.656373",
     "exception": false,
     "start_time": "2021-12-07T23:00:10.143713",
     "status": "completed"
    },
    "tags": []
   },
   "outputs": [],
   "source": [
    "df = pd.read_sql(\"select * from EBAY_TOP_BERLIN where record_time in (select distinct record_time from EBAY_TOP_BERLIN order by record_time desc limit 2)\", sqlite3.connect(\"UsedObjects.db\"))"
   ]
  },
  {
   "cell_type": "code",
   "execution_count": 5,
   "id": "popular-active",
   "metadata": {
    "execution": {
     "iopub.execute_input": "2021-12-07T23:00:11.720339Z",
     "iopub.status.busy": "2021-12-07T23:00:11.718056Z",
     "iopub.status.idle": "2021-12-07T23:00:11.749037Z",
     "shell.execute_reply": "2021-12-07T23:00:11.750432Z"
    },
    "papermill": {
     "duration": 0.072963,
     "end_time": "2021-12-07T23:00:11.750917",
     "exception": false,
     "start_time": "2021-12-07T23:00:11.677954",
     "status": "completed"
    },
    "tags": []
   },
   "outputs": [],
   "source": [
    "df_pivot = df.pivot_table(index=\"PRODUCT\", columns = \"RECORD_TIME\", values = \"LISTING_COUNT\")"
   ]
  },
  {
   "cell_type": "code",
   "execution_count": 6,
   "id": "union-huntington",
   "metadata": {
    "execution": {
     "iopub.execute_input": "2021-12-07T23:00:11.808936Z",
     "iopub.status.busy": "2021-12-07T23:00:11.806712Z",
     "iopub.status.idle": "2021-12-07T23:00:11.811857Z",
     "shell.execute_reply": "2021-12-07T23:00:11.814217Z"
    },
    "papermill": {
     "duration": 0.044141,
     "end_time": "2021-12-07T23:00:11.814790",
     "exception": false,
     "start_time": "2021-12-07T23:00:11.770649",
     "status": "completed"
    },
    "tags": []
   },
   "outputs": [],
   "source": [
    "df_pivot.columns = [\"stamp_1\", \"stamp_2\"]\n",
    "df_pivot_diff = df_pivot.diff(axis=1)"
   ]
  },
  {
   "cell_type": "code",
   "execution_count": 7,
   "id": "fifth-motion",
   "metadata": {
    "execution": {
     "iopub.execute_input": "2021-12-07T23:00:11.894426Z",
     "iopub.status.busy": "2021-12-07T23:00:11.890384Z",
     "iopub.status.idle": "2021-12-07T23:00:13.525886Z",
     "shell.execute_reply": "2021-12-07T23:00:13.527192Z"
    },
    "papermill": {
     "duration": 1.689628,
     "end_time": "2021-12-07T23:00:13.527618",
     "exception": false,
     "start_time": "2021-12-07T23:00:11.837990",
     "status": "completed"
    },
    "tags": []
   },
   "outputs": [
    {
     "data": {
      "text/plain": [
       "<AxesSubplot:ylabel='PRODUCT'>"
      ]
     },
     "execution_count": 7,
     "metadata": {},
     "output_type": "execute_result"
    },
    {
     "data": {
      "image/png": "[encoded data removed]",
      "text/plain": [
       "<Figure size 432x288 with 1 Axes>"
      ]
     },
     "metadata": {
      "needs_background": "light"
     },
     "output_type": "display_data"
    }
   ],
   "source": [
    "df_pivot_diff.sort_values(\"stamp_2\", ascending = False)[\"stamp_2\"].head(10).plot.barh()"
   ]
  },
  {
   "cell_type": "code",
   "execution_count": null,
   "id": "extra-executive",
   "metadata": {
    "papermill": {
     "duration": 0.021892,
     "end_time": "2021-12-07T23:00:13.573886",
     "exception": false,
     "start_time": "2021-12-07T23:00:13.551994",
     "status": "completed"
    },
    "tags": []
   },
   "outputs": [],
   "source": []
  }
 ],
 "metadata": {
  "kernelspec": {
   "display_name": "Python 3",
   "language": "python",
   "name": "python3"
  },
  "language_info": {
   "codemirror_mode": {
    "name": "ipython",
    "version": 3
   },
   "file_extension": ".py",
   "mimetype": "text/x-python",
   "name": "python",
   "nbconvert_exporter": "python",
   "pygments_lexer": "ipython3",
   "version": "3.9.5"
  },
  "papermill": {
   "default_parameters": {},
   "duration": 9.938622,
   "end_time": "2021-12-07T23:00:15.169808",
   "environment_variables": {},
   "exception": null,
   "input_path": "eBay_Overview.ipynb",
   "output_path": "eBay_Overview.ipynb",
   "parameters": {},
   "start_time": "2021-12-07T23:00:05.231186",
   "version": "2.3.3"
  }
 },
 "nbformat": 4,
 "nbformat_minor": 5
}