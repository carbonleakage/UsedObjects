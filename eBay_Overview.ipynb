{
 "cells": [
  {
   "cell_type": "code",
   "execution_count": 1,
   "id": "reverse-picking",
   "metadata": {
    "execution": {
     "iopub.execute_input": "2021-11-18T17:00:07.819399Z",
     "iopub.status.busy": "2021-11-18T17:00:07.808869Z",
     "iopub.status.idle": "2021-11-18T17:00:08.751493Z",
     "shell.execute_reply": "2021-11-18T17:00:08.752827Z"
    },
    "papermill": {
     "duration": 0.99135,
     "end_time": "2021-11-18T17:00:08.753483",
     "exception": false,
     "start_time": "2021-11-18T17:00:07.762133",
     "status": "completed"
    },
    "tags": []
   },
   "outputs": [],
   "source": [
    "import pandas as pd\n",
    "import sqlite3"
   ]
  },
  {
   "cell_type": "code",
   "execution_count": 2,
   "id": "innovative-syndrome",
   "metadata": {
    "execution": {
     "iopub.execute_input": "2021-11-18T17:00:08.809409Z",
     "iopub.status.busy": "2021-11-18T17:00:08.807051Z",
     "iopub.status.idle": "2021-11-18T17:00:09.670780Z",
     "shell.execute_reply": "2021-11-18T17:00:09.672531Z"
    },
    "papermill": {
     "duration": 0.898407,
     "end_time": "2021-11-18T17:00:09.673139",
     "exception": false,
     "start_time": "2021-11-18T17:00:08.774732",
     "status": "completed"
    },
    "tags": []
   },
   "outputs": [],
   "source": [
    "timestamps = pd.read_sql(\"select distinct record_time from EBAY_TOP_BERLIN order by record_time desc limit 2\", sqlite3.connect(\"UsedObjects.db\"))"
   ]
  },
  {
   "cell_type": "code",
   "execution_count": 3,
   "id": "periodic-identification",
   "metadata": {
    "execution": {
     "iopub.execute_input": "2021-11-18T17:00:09.745139Z",
     "iopub.status.busy": "2021-11-18T17:00:09.742736Z",
     "iopub.status.idle": "2021-11-18T17:00:09.765433Z",
     "shell.execute_reply": "2021-11-18T17:00:09.766904Z"
    },
    "papermill": {
     "duration": 0.073159,
     "end_time": "2021-11-18T17:00:09.767425",
     "exception": false,
     "start_time": "2021-11-18T17:00:09.694266",
     "status": "completed"
    },
    "tags": []
   },
   "outputs": [
    {
     "data": {
      "text/html": [
       "<div>\n",
       "<style scoped>\n",
       "    .dataframe tbody tr th:only-of-type {\n",
       "        vertical-align: middle;\n",
       "    }\n",
       "\n",
       "    .dataframe tbody tr th {\n",
       "        vertical-align: top;\n",
       "    }\n",
       "\n",
       "    .dataframe thead th {\n",
       "        text-align: right;\n",
       "    }\n",
       "</style>\n",
       "<table border=\"1\" class=\"dataframe\">\n",
       "  <thead>\n",
       "    <tr style=\"text-align: right;\">\n",
       "      <th></th>\n",
       "      <th>RECORD_TIME</th>\n",
       "    </tr>\n",
       "  </thead>\n",
       "  <tbody>\n",
       "    <tr>\n",
       "      <th>0</th>\n",
       "      <td>2021-11-18 18:00</td>\n",
       "    </tr>\n",
       "    <tr>\n",
       "      <th>1</th>\n",
       "      <td>2021-11-18 17:30</td>\n",
       "    </tr>\n",
       "  </tbody>\n",
       "</table>\n",
       "</div>"
      ],
      "text/plain": [
       "        RECORD_TIME\n",
       "0  2021-11-18 18:00\n",
       "1  2021-11-18 17:30"
      ]
     },
     "execution_count": 3,
     "metadata": {},
     "output_type": "execute_result"
    }
   ],
   "source": [
    "timestamps"
   ]
  },
  {
   "cell_type": "code",
   "execution_count": 4,
   "id": "alternate-victory",
   "metadata": {
    "execution": {
     "iopub.execute_input": "2021-11-18T17:00:09.836663Z",
     "iopub.status.busy": "2021-11-18T17:00:09.833042Z",
     "iopub.status.idle": "2021-11-18T17:00:11.045802Z",
     "shell.execute_reply": "2021-11-18T17:00:11.048003Z"
    },
    "papermill": {
     "duration": 1.25927,
     "end_time": "2021-11-18T17:00:11.048494",
     "exception": false,
     "start_time": "2021-11-18T17:00:09.789224",
     "status": "completed"
    },
    "tags": []
   },
   "outputs": [],
   "source": [
    "df = pd.read_sql(\"select * from EBAY_TOP_BERLIN where record_time in (select distinct record_time from EBAY_TOP_BERLIN order by record_time desc limit 2)\", sqlite3.connect(\"UsedObjects.db\"))"
   ]
  },
  {
   "cell_type": "code",
   "execution_count": 5,
   "id": "popular-active",
   "metadata": {
    "execution": {
     "iopub.execute_input": "2021-11-18T17:00:11.150617Z",
     "iopub.status.busy": "2021-11-18T17:00:11.136351Z",
     "iopub.status.idle": "2021-11-18T17:00:11.169689Z",
     "shell.execute_reply": "2021-11-18T17:00:11.171123Z"
    },
    "papermill": {
     "duration": 0.076662,
     "end_time": "2021-11-18T17:00:11.171659",
     "exception": false,
     "start_time": "2021-11-18T17:00:11.094997",
     "status": "completed"
    },
    "tags": []
   },
   "outputs": [],
   "source": [
    "df_pivot = df.pivot_table(index=\"PRODUCT\", columns = \"RECORD_TIME\", values = \"LISTING_COUNT\")"
   ]
  },
  {
   "cell_type": "code",
   "execution_count": 6,
   "id": "union-huntington",
   "metadata": {
    "execution": {
     "iopub.execute_input": "2021-11-18T17:00:11.233140Z",
     "iopub.status.busy": "2021-11-18T17:00:11.230835Z",
     "iopub.status.idle": "2021-11-18T17:00:11.235884Z",
     "shell.execute_reply": "2021-11-18T17:00:11.238031Z"
    },
    "papermill": {
     "duration": 0.045898,
     "end_time": "2021-11-18T17:00:11.238526",
     "exception": false,
     "start_time": "2021-11-18T17:00:11.192628",
     "status": "completed"
    },
    "tags": []
   },
   "outputs": [],
   "source": [
    "df_pivot.columns = [\"stamp_1\", \"stamp_2\"]\n",
    "df_pivot_diff = df_pivot.diff(axis=1)"
   ]
  },
  {
   "cell_type": "code",
   "execution_count": 7,
   "id": "fifth-motion",
   "metadata": {
    "execution": {
     "iopub.execute_input": "2021-11-18T17:00:11.298798Z",
     "iopub.status.busy": "2021-11-18T17:00:11.296259Z",
     "iopub.status.idle": "2021-11-18T17:00:13.027813Z",
     "shell.execute_reply": "2021-11-18T17:00:13.029279Z"
    },
    "papermill": {
     "duration": 1.768266,
     "end_time": "2021-11-18T17:00:13.029801",
     "exception": false,
     "start_time": "2021-11-18T17:00:11.261535",
     "status": "completed"
    },
    "tags": []
   },
   "outputs": [
    {
     "data": {
      "text/plain": [
       "<AxesSubplot:ylabel='PRODUCT'>"
      ]
     },
     "execution_count": 7,
     "metadata": {},
     "output_type": "execute_result"
    },
    {
     "data": {
      "image/png": "[encoded data removed]",
      "text/plain": [
       "<Figure size 432x288 with 1 Axes>"
      ]
     },
     "metadata": {
      "needs_background": "light"
     },
     "output_type": "display_data"
    }
   ],
   "source": [
    "df_pivot_diff.sort_values(\"stamp_2\", ascending = False)[\"stamp_2\"].head(10).plot.barh()"
   ]
  },
  {
   "cell_type": "code",
   "execution_count": null,
   "id": "extra-executive",
   "metadata": {
    "papermill": {
     "duration": 0.024223,
     "end_time": "2021-11-18T17:00:13.078661",
     "exception": false,
     "start_time": "2021-11-18T17:00:13.054438",
     "status": "completed"
    },
    "tags": []
   },
   "outputs": [],
   "source": []
  }
 ],
 "metadata": {
  "kernelspec": {
   "display_name": "Python 3",
   "language": "python",
   "name": "python3"
  },
  "language_info": {
   "codemirror_mode": {
    "name": "ipython",
    "version": 3
   },
   "file_extension": ".py",
   "mimetype": "text/x-python",
   "name": "python",
   "nbconvert_exporter": "python",
   "pygments_lexer": "ipython3",
   "version": "3.9.5"
  },
  "papermill": {
   "default_parameters": {},
   "duration": 8.945275,
   "end_time": "2021-11-18T17:00:13.931248",
   "environment_variables": {},
   "exception": null,
   "input_path": "eBay_Overview.ipynb",
   "output_path": "eBay_Overview.ipynb",
   "parameters": {},
   "start_time": "2021-11-18T17:00:04.985973",
   "version": "2.3.3"
  }
 },
 "nbformat": 4,
 "nbformat_minor": 5
}