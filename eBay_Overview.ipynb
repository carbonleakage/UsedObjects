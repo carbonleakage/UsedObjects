{
 "cells": [
  {
   "cell_type": "code",
   "execution_count": 1,
   "id": "reverse-picking",
   "metadata": {
    "execution": {
     "iopub.execute_input": "2021-11-05T09:00:08.005156Z",
     "iopub.status.busy": "2021-11-05T09:00:08.002621Z",
     "iopub.status.idle": "2021-11-05T09:00:08.949410Z",
     "shell.execute_reply": "2021-11-05T09:00:08.950914Z"
    },
    "papermill": {
     "duration": 0.997341,
     "end_time": "2021-11-05T09:00:08.951779",
     "exception": false,
     "start_time": "2021-11-05T09:00:07.954438",
     "status": "completed"
    },
    "tags": []
   },
   "outputs": [],
   "source": [
    "import pandas as pd\n",
    "import sqlite3"
   ]
  },
  {
   "cell_type": "code",
   "execution_count": 2,
   "id": "innovative-syndrome",
   "metadata": {
    "execution": {
     "iopub.execute_input": "2021-11-05T09:00:09.015837Z",
     "iopub.status.busy": "2021-11-05T09:00:09.013545Z",
     "iopub.status.idle": "2021-11-05T09:00:09.746113Z",
     "shell.execute_reply": "2021-11-05T09:00:09.748263Z"
    },
    "papermill": {
     "duration": 0.767976,
     "end_time": "2021-11-05T09:00:09.748783",
     "exception": false,
     "start_time": "2021-11-05T09:00:08.980807",
     "status": "completed"
    },
    "tags": []
   },
   "outputs": [],
   "source": [
    "timestamps = pd.read_sql(\"select distinct record_time from EBAY_TOP_BERLIN order by record_time desc limit 2\", sqlite3.connect(\"UsedObjects.db\"))"
   ]
  },
  {
   "cell_type": "code",
   "execution_count": 3,
   "id": "periodic-identification",
   "metadata": {
    "execution": {
     "iopub.execute_input": "2021-11-05T09:00:09.821205Z",
     "iopub.status.busy": "2021-11-05T09:00:09.818701Z",
     "iopub.status.idle": "2021-11-05T09:00:09.843855Z",
     "shell.execute_reply": "2021-11-05T09:00:09.845597Z"
    },
    "papermill": {
     "duration": 0.076935,
     "end_time": "2021-11-05T09:00:09.846089",
     "exception": false,
     "start_time": "2021-11-05T09:00:09.769154",
     "status": "completed"
    },
    "tags": []
   },
   "outputs": [
    {
     "data": {
      "text/html": [
       "<div>\n",
       "<style scoped>\n",
       "    .dataframe tbody tr th:only-of-type {\n",
       "        vertical-align: middle;\n",
       "    }\n",
       "\n",
       "    .dataframe tbody tr th {\n",
       "        vertical-align: top;\n",
       "    }\n",
       "\n",
       "    .dataframe thead th {\n",
       "        text-align: right;\n",
       "    }\n",
       "</style>\n",
       "<table border=\"1\" class=\"dataframe\">\n",
       "  <thead>\n",
       "    <tr style=\"text-align: right;\">\n",
       "      <th></th>\n",
       "      <th>RECORD_TIME</th>\n",
       "    </tr>\n",
       "  </thead>\n",
       "  <tbody>\n",
       "    <tr>\n",
       "      <th>0</th>\n",
       "      <td>2021-11-05 10:00</td>\n",
       "    </tr>\n",
       "    <tr>\n",
       "      <th>1</th>\n",
       "      <td>2021-11-05 09:30</td>\n",
       "    </tr>\n",
       "  </tbody>\n",
       "</table>\n",
       "</div>"
      ],
      "text/plain": [
       "        RECORD_TIME\n",
       "0  2021-11-05 10:00\n",
       "1  2021-11-05 09:30"
      ]
     },
     "execution_count": 3,
     "metadata": {},
     "output_type": "execute_result"
    }
   ],
   "source": [
    "timestamps"
   ]
  },
  {
   "cell_type": "code",
   "execution_count": 4,
   "id": "alternate-victory",
   "metadata": {
    "execution": {
     "iopub.execute_input": "2021-11-05T09:00:09.901748Z",
     "iopub.status.busy": "2021-11-05T09:00:09.899393Z",
     "iopub.status.idle": "2021-11-05T09:00:10.964540Z",
     "shell.execute_reply": "2021-11-05T09:00:10.966624Z"
    },
    "papermill": {
     "duration": 1.09983,
     "end_time": "2021-11-05T09:00:10.967093",
     "exception": false,
     "start_time": "2021-11-05T09:00:09.867263",
     "status": "completed"
    },
    "tags": []
   },
   "outputs": [],
   "source": [
    "df = pd.read_sql(\"select * from EBAY_TOP_BERLIN where record_time in (select distinct record_time from EBAY_TOP_BERLIN order by record_time desc limit 2)\", sqlite3.connect(\"UsedObjects.db\"))"
   ]
  },
  {
   "cell_type": "code",
   "execution_count": 5,
   "id": "popular-active",
   "metadata": {
    "execution": {
     "iopub.execute_input": "2021-11-05T09:00:11.070981Z",
     "iopub.status.busy": "2021-11-05T09:00:11.046498Z",
     "iopub.status.idle": "2021-11-05T09:00:11.100998Z",
     "shell.execute_reply": "2021-11-05T09:00:11.102496Z"
    },
    "papermill": {
     "duration": 0.113697,
     "end_time": "2021-11-05T09:00:11.102991",
     "exception": false,
     "start_time": "2021-11-05T09:00:10.989294",
     "status": "completed"
    },
    "tags": []
   },
   "outputs": [],
   "source": [
    "df_pivot = df.pivot_table(index=\"PRODUCT\", columns = \"RECORD_TIME\", values = \"LISTING_COUNT\")"
   ]
  },
  {
   "cell_type": "code",
   "execution_count": 6,
   "id": "union-huntington",
   "metadata": {
    "execution": {
     "iopub.execute_input": "2021-11-05T09:00:11.166724Z",
     "iopub.status.busy": "2021-11-05T09:00:11.164270Z",
     "iopub.status.idle": "2021-11-05T09:00:11.172302Z",
     "shell.execute_reply": "2021-11-05T09:00:11.170524Z"
    },
    "papermill": {
     "duration": 0.046996,
     "end_time": "2021-11-05T09:00:11.172800",
     "exception": false,
     "start_time": "2021-11-05T09:00:11.125804",
     "status": "completed"
    },
    "tags": []
   },
   "outputs": [],
   "source": [
    "df_pivot.columns = [\"stamp_1\", \"stamp_2\"]\n",
    "df_pivot_diff = df_pivot.diff(axis=1)"
   ]
  },
  {
   "cell_type": "code",
   "execution_count": 7,
   "id": "fifth-motion",
   "metadata": {
    "execution": {
     "iopub.execute_input": "2021-11-05T09:00:11.231816Z",
     "iopub.status.busy": "2021-11-05T09:00:11.229510Z",
     "iopub.status.idle": "2021-11-05T09:00:13.208747Z",
     "shell.execute_reply": "2021-11-05T09:00:13.211115Z"
    },
    "papermill": {
     "duration": 2.016933,
     "end_time": "2021-11-05T09:00:13.211842",
     "exception": false,
     "start_time": "2021-11-05T09:00:11.194909",
     "status": "completed"
    },
    "tags": []
   },
   "outputs": [
    {
     "data": {
      "text/plain": [
       "<AxesSubplot:ylabel='PRODUCT'>"
      ]
     },
     "execution_count": 7,
     "metadata": {},
     "output_type": "execute_result"
    },
    {
     "data": {
      "image/png": "[encoded data removed]",
      "text/plain": [
       "<Figure size 432x288 with 1 Axes>"
      ]
     },
     "metadata": {
      "needs_background": "light"
     },
     "output_type": "display_data"
    }
   ],
   "source": [
    "df_pivot_diff.sort_values(\"stamp_2\", ascending = False)[\"stamp_2\"].head(10).plot.barh()"
   ]
  },
  {
   "cell_type": "code",
   "execution_count": null,
   "id": "extra-executive",
   "metadata": {
    "papermill": {
     "duration": 0.036902,
     "end_time": "2021-11-05T09:00:13.284401",
     "exception": false,
     "start_time": "2021-11-05T09:00:13.247499",
     "status": "completed"
    },
    "tags": []
   },
   "outputs": [],
   "source": []
  }
 ],
 "metadata": {
  "kernelspec": {
   "display_name": "Python 3",
   "language": "python",
   "name": "python3"
  },
  "language_info": {
   "codemirror_mode": {
    "name": "ipython",
    "version": 3
   },
   "file_extension": ".py",
   "mimetype": "text/x-python",
   "name": "python",
   "nbconvert_exporter": "python",
   "pygments_lexer": "ipython3",
   "version": "3.9.5"
  },
  "papermill": {
   "default_parameters": {},
   "duration": 8.896556,
   "end_time": "2021-11-05T09:00:14.140224",
   "environment_variables": {},
   "exception": null,
   "input_path": "eBay_Overview.ipynb",
   "output_path": "eBay_Overview.ipynb",
   "parameters": {},
   "start_time": "2021-11-05T09:00:05.243668",
   "version": "2.3.3"
  }
 },
 "nbformat": 4,
 "nbformat_minor": 5
}