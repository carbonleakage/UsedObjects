{
 "cells": [
  {
   "cell_type": "code",
   "execution_count": 1,
   "id": "reverse-picking",
   "metadata": {
    "execution": {
     "iopub.execute_input": "2021-08-19T04:30:06.799858Z",
     "iopub.status.busy": "2021-08-19T04:30:06.797679Z",
     "iopub.status.idle": "2021-08-19T04:30:07.602769Z",
     "shell.execute_reply": "2021-08-19T04:30:07.604038Z"
    },
    "papermill": {
     "duration": 0.85715,
     "end_time": "2021-08-19T04:30:07.604656",
     "exception": false,
     "start_time": "2021-08-19T04:30:06.747506",
     "status": "completed"
    },
    "tags": []
   },
   "outputs": [],
   "source": [
    "import pandas as pd\n",
    "import sqlite3"
   ]
  },
  {
   "cell_type": "code",
   "execution_count": 2,
   "id": "innovative-syndrome",
   "metadata": {
    "execution": {
     "iopub.execute_input": "2021-08-19T04:30:07.656041Z",
     "iopub.status.busy": "2021-08-19T04:30:07.654184Z",
     "iopub.status.idle": "2021-08-19T04:30:07.734348Z",
     "shell.execute_reply": "2021-08-19T04:30:07.735577Z"
    },
    "papermill": {
     "duration": 0.10975,
     "end_time": "2021-08-19T04:30:07.735976",
     "exception": false,
     "start_time": "2021-08-19T04:30:07.626226",
     "status": "completed"
    },
    "tags": []
   },
   "outputs": [],
   "source": [
    "timestamps = pd.read_sql(\"select distinct record_time from EBAY_TOP_BERLIN order by record_time desc limit 2\", sqlite3.connect(\"UsedObjects.db\"))"
   ]
  },
  {
   "cell_type": "code",
   "execution_count": 3,
   "id": "periodic-identification",
   "metadata": {
    "execution": {
     "iopub.execute_input": "2021-08-19T04:30:07.801042Z",
     "iopub.status.busy": "2021-08-19T04:30:07.799028Z",
     "iopub.status.idle": "2021-08-19T04:30:07.819227Z",
     "shell.execute_reply": "2021-08-19T04:30:07.820570Z"
    },
    "papermill": {
     "duration": 0.064645,
     "end_time": "2021-08-19T04:30:07.820989",
     "exception": false,
     "start_time": "2021-08-19T04:30:07.756344",
     "status": "completed"
    },
    "tags": []
   },
   "outputs": [
    {
     "data": {
      "text/html": [
       "<div>\n",
       "<style scoped>\n",
       "    .dataframe tbody tr th:only-of-type {\n",
       "        vertical-align: middle;\n",
       "    }\n",
       "\n",
       "    .dataframe tbody tr th {\n",
       "        vertical-align: top;\n",
       "    }\n",
       "\n",
       "    .dataframe thead th {\n",
       "        text-align: right;\n",
       "    }\n",
       "</style>\n",
       "<table border=\"1\" class=\"dataframe\">\n",
       "  <thead>\n",
       "    <tr style=\"text-align: right;\">\n",
       "      <th></th>\n",
       "      <th>RECORD_TIME</th>\n",
       "    </tr>\n",
       "  </thead>\n",
       "  <tbody>\n",
       "    <tr>\n",
       "      <th>0</th>\n",
       "      <td>2021-08-19 06:30</td>\n",
       "    </tr>\n",
       "    <tr>\n",
       "      <th>1</th>\n",
       "      <td>2021-08-19 06:00</td>\n",
       "    </tr>\n",
       "  </tbody>\n",
       "</table>\n",
       "</div>"
      ],
      "text/plain": [
       "        RECORD_TIME\n",
       "0  2021-08-19 06:30\n",
       "1  2021-08-19 06:00"
      ]
     },
     "execution_count": 3,
     "metadata": {},
     "output_type": "execute_result"
    }
   ],
   "source": [
    "timestamps"
   ]
  },
  {
   "cell_type": "code",
   "execution_count": 4,
   "id": "alternate-victory",
   "metadata": {
    "execution": {
     "iopub.execute_input": "2021-08-19T04:30:07.872627Z",
     "iopub.status.busy": "2021-08-19T04:30:07.870723Z",
     "iopub.status.idle": "2021-08-19T04:30:07.991690Z",
     "shell.execute_reply": "2021-08-19T04:30:07.990375Z"
    },
    "papermill": {
     "duration": 0.150136,
     "end_time": "2021-08-19T04:30:07.992024",
     "exception": false,
     "start_time": "2021-08-19T04:30:07.841888",
     "status": "completed"
    },
    "tags": []
   },
   "outputs": [],
   "source": [
    "df = pd.read_sql(\"select * from EBAY_TOP_BERLIN where record_time in (select distinct record_time from EBAY_TOP_BERLIN order by record_time desc limit 2)\", sqlite3.connect(\"UsedObjects.db\"))"
   ]
  },
  {
   "cell_type": "code",
   "execution_count": 5,
   "id": "popular-active",
   "metadata": {
    "execution": {
     "iopub.execute_input": "2021-08-19T04:30:08.064691Z",
     "iopub.status.busy": "2021-08-19T04:30:08.053654Z",
     "iopub.status.idle": "2021-08-19T04:30:08.081307Z",
     "shell.execute_reply": "2021-08-19T04:30:08.082593Z"
    },
    "papermill": {
     "duration": 0.068222,
     "end_time": "2021-08-19T04:30:08.082997",
     "exception": false,
     "start_time": "2021-08-19T04:30:08.014775",
     "status": "completed"
    },
    "tags": []
   },
   "outputs": [],
   "source": [
    "df_pivot = df.pivot_table(index=\"PRODUCT\", columns = \"RECORD_TIME\", values = \"LISTING_COUNT\")"
   ]
  },
  {
   "cell_type": "code",
   "execution_count": 6,
   "id": "union-huntington",
   "metadata": {
    "execution": {
     "iopub.execute_input": "2021-08-19T04:30:08.138720Z",
     "iopub.status.busy": "2021-08-19T04:30:08.136596Z",
     "iopub.status.idle": "2021-08-19T04:30:08.141978Z",
     "shell.execute_reply": "2021-08-19T04:30:08.143218Z"
    },
    "papermill": {
     "duration": 0.040062,
     "end_time": "2021-08-19T04:30:08.143650",
     "exception": false,
     "start_time": "2021-08-19T04:30:08.103588",
     "status": "completed"
    },
    "tags": []
   },
   "outputs": [],
   "source": [
    "df_pivot.columns = [\"stamp_1\", \"stamp_2\"]\n",
    "df_pivot_diff = df_pivot.diff(axis=1)"
   ]
  },
  {
   "cell_type": "code",
   "execution_count": 7,
   "id": "fifth-motion",
   "metadata": {
    "execution": {
     "iopub.execute_input": "2021-08-19T04:30:08.201853Z",
     "iopub.status.busy": "2021-08-19T04:30:08.199260Z",
     "iopub.status.idle": "2021-08-19T04:30:09.700362Z",
     "shell.execute_reply": "2021-08-19T04:30:09.701656Z"
    },
    "papermill": {
     "duration": 1.535232,
     "end_time": "2021-08-19T04:30:09.702277",
     "exception": false,
     "start_time": "2021-08-19T04:30:08.167045",
     "status": "completed"
    },
    "tags": []
   },
   "outputs": [
    {
     "data": {
      "text/plain": [
       "<AxesSubplot:ylabel='PRODUCT'>"
      ]
     },
     "execution_count": 7,
     "metadata": {},
     "output_type": "execute_result"
    },
    {
     "data": {
      "image/png": "[encoded data removed]",
      "text/plain": [
       "<Figure size 432x288 with 1 Axes>"
      ]
     },
     "metadata": {
      "needs_background": "light"
     },
     "output_type": "display_data"
    }
   ],
   "source": [
    "df_pivot_diff.sort_values(\"stamp_2\", ascending = False)[\"stamp_2\"].head(10).plot.barh()"
   ]
  },
  {
   "cell_type": "code",
   "execution_count": null,
   "id": "extra-executive",
   "metadata": {
    "papermill": {
     "duration": 0.022089,
     "end_time": "2021-08-19T04:30:09.748724",
     "exception": false,
     "start_time": "2021-08-19T04:30:09.726635",
     "status": "completed"
    },
    "tags": []
   },
   "outputs": [],
   "source": []
  }
 ],
 "metadata": {
  "kernelspec": {
   "display_name": "Python 3",
   "language": "python",
   "name": "python3"
  },
  "language_info": {
   "codemirror_mode": {
    "name": "ipython",
    "version": 3
   },
   "file_extension": ".py",
   "mimetype": "text/x-python",
   "name": "python",
   "nbconvert_exporter": "python",
   "pygments_lexer": "ipython3",
   "version": "3.9.5"
  },
  "papermill": {
   "default_parameters": {},
   "duration": 6.831128,
   "end_time": "2021-08-19T04:30:11.170273",
   "environment_variables": {},
   "exception": null,
   "input_path": "eBay_Overview.ipynb",
   "output_path": "eBay_Overview.ipynb",
   "parameters": {},
   "start_time": "2021-08-19T04:30:04.339145",
   "version": "2.3.3"
  }
 },
 "nbformat": 4,
 "nbformat_minor": 5
}