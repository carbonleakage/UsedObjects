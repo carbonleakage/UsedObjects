{
 "cells": [
  {
   "cell_type": "code",
   "execution_count": 1,
   "id": "reverse-picking",
   "metadata": {
    "execution": {
     "iopub.execute_input": "2021-12-04T14:30:07.706142Z",
     "iopub.status.busy": "2021-12-04T14:30:07.703489Z",
     "iopub.status.idle": "2021-12-04T14:30:08.665464Z",
     "shell.execute_reply": "2021-12-04T14:30:08.666924Z"
    },
    "papermill": {
     "duration": 1.016975,
     "end_time": "2021-12-04T14:30:08.667637",
     "exception": false,
     "start_time": "2021-12-04T14:30:07.650662",
     "status": "completed"
    },
    "tags": []
   },
   "outputs": [],
   "source": [
    "import pandas as pd\n",
    "import sqlite3"
   ]
  },
  {
   "cell_type": "code",
   "execution_count": 2,
   "id": "innovative-syndrome",
   "metadata": {
    "execution": {
     "iopub.execute_input": "2021-12-04T14:30:08.730658Z",
     "iopub.status.busy": "2021-12-04T14:30:08.728156Z",
     "iopub.status.idle": "2021-12-04T14:30:09.768394Z",
     "shell.execute_reply": "2021-12-04T14:30:09.769669Z"
    },
    "papermill": {
     "duration": 1.074706,
     "end_time": "2021-12-04T14:30:09.770075",
     "exception": false,
     "start_time": "2021-12-04T14:30:08.695369",
     "status": "completed"
    },
    "tags": []
   },
   "outputs": [],
   "source": [
    "timestamps = pd.read_sql(\"select distinct record_time from EBAY_TOP_BERLIN order by record_time desc limit 2\", sqlite3.connect(\"UsedObjects.db\"))"
   ]
  },
  {
   "cell_type": "code",
   "execution_count": 3,
   "id": "periodic-identification",
   "metadata": {
    "execution": {
     "iopub.execute_input": "2021-12-04T14:30:09.837520Z",
     "iopub.status.busy": "2021-12-04T14:30:09.835394Z",
     "iopub.status.idle": "2021-12-04T14:30:09.855821Z",
     "shell.execute_reply": "2021-12-04T14:30:09.857255Z"
    },
    "papermill": {
     "duration": 0.065826,
     "end_time": "2021-12-04T14:30:09.857710",
     "exception": false,
     "start_time": "2021-12-04T14:30:09.791884",
     "status": "completed"
    },
    "tags": []
   },
   "outputs": [
    {
     "data": {
      "text/html": [
       "<div>\n",
       "<style scoped>\n",
       "    .dataframe tbody tr th:only-of-type {\n",
       "        vertical-align: middle;\n",
       "    }\n",
       "\n",
       "    .dataframe tbody tr th {\n",
       "        vertical-align: top;\n",
       "    }\n",
       "\n",
       "    .dataframe thead th {\n",
       "        text-align: right;\n",
       "    }\n",
       "</style>\n",
       "<table border=\"1\" class=\"dataframe\">\n",
       "  <thead>\n",
       "    <tr style=\"text-align: right;\">\n",
       "      <th></th>\n",
       "      <th>RECORD_TIME</th>\n",
       "    </tr>\n",
       "  </thead>\n",
       "  <tbody>\n",
       "    <tr>\n",
       "      <th>0</th>\n",
       "      <td>2021-12-04 15:30</td>\n",
       "    </tr>\n",
       "    <tr>\n",
       "      <th>1</th>\n",
       "      <td>2021-12-04 15:00</td>\n",
       "    </tr>\n",
       "  </tbody>\n",
       "</table>\n",
       "</div>"
      ],
      "text/plain": [
       "        RECORD_TIME\n",
       "0  2021-12-04 15:30\n",
       "1  2021-12-04 15:00"
      ]
     },
     "execution_count": 3,
     "metadata": {},
     "output_type": "execute_result"
    }
   ],
   "source": [
    "timestamps"
   ]
  },
  {
   "cell_type": "code",
   "execution_count": 4,
   "id": "alternate-victory",
   "metadata": {
    "execution": {
     "iopub.execute_input": "2021-12-04T14:30:09.909780Z",
     "iopub.status.busy": "2021-12-04T14:30:09.907895Z",
     "iopub.status.idle": "2021-12-04T14:30:11.356458Z",
     "shell.execute_reply": "2021-12-04T14:30:11.359336Z"
    },
    "papermill": {
     "duration": 1.480354,
     "end_time": "2021-12-04T14:30:11.360057",
     "exception": false,
     "start_time": "2021-12-04T14:30:09.879703",
     "status": "completed"
    },
    "tags": []
   },
   "outputs": [],
   "source": [
    "df = pd.read_sql(\"select * from EBAY_TOP_BERLIN where record_time in (select distinct record_time from EBAY_TOP_BERLIN order by record_time desc limit 2)\", sqlite3.connect(\"UsedObjects.db\"))"
   ]
  },
  {
   "cell_type": "code",
   "execution_count": 5,
   "id": "popular-active",
   "metadata": {
    "execution": {
     "iopub.execute_input": "2021-12-04T14:30:11.432876Z",
     "iopub.status.busy": "2021-12-04T14:30:11.430525Z",
     "iopub.status.idle": "2021-12-04T14:30:11.461842Z",
     "shell.execute_reply": "2021-12-04T14:30:11.463295Z"
    },
    "papermill": {
     "duration": 0.076846,
     "end_time": "2021-12-04T14:30:11.463749",
     "exception": false,
     "start_time": "2021-12-04T14:30:11.386903",
     "status": "completed"
    },
    "tags": []
   },
   "outputs": [],
   "source": [
    "df_pivot = df.pivot_table(index=\"PRODUCT\", columns = \"RECORD_TIME\", values = \"LISTING_COUNT\")"
   ]
  },
  {
   "cell_type": "code",
   "execution_count": 6,
   "id": "union-huntington",
   "metadata": {
    "execution": {
     "iopub.execute_input": "2021-12-04T14:30:11.522750Z",
     "iopub.status.busy": "2021-12-04T14:30:11.520530Z",
     "iopub.status.idle": "2021-12-04T14:30:11.525525Z",
     "shell.execute_reply": "2021-12-04T14:30:11.527292Z"
    },
    "papermill": {
     "duration": 0.044128,
     "end_time": "2021-12-04T14:30:11.527763",
     "exception": false,
     "start_time": "2021-12-04T14:30:11.483635",
     "status": "completed"
    },
    "tags": []
   },
   "outputs": [],
   "source": [
    "df_pivot.columns = [\"stamp_1\", \"stamp_2\"]\n",
    "df_pivot_diff = df_pivot.diff(axis=1)"
   ]
  },
  {
   "cell_type": "code",
   "execution_count": 7,
   "id": "fifth-motion",
   "metadata": {
    "execution": {
     "iopub.execute_input": "2021-12-04T14:30:11.615781Z",
     "iopub.status.busy": "2021-12-04T14:30:11.613326Z",
     "iopub.status.idle": "2021-12-04T14:30:13.643858Z",
     "shell.execute_reply": "2021-12-04T14:30:13.645565Z"
    },
    "papermill": {
     "duration": 2.097774,
     "end_time": "2021-12-04T14:30:13.646051",
     "exception": false,
     "start_time": "2021-12-04T14:30:11.548277",
     "status": "completed"
    },
    "tags": []
   },
   "outputs": [
    {
     "data": {
      "text/plain": [
       "<AxesSubplot:ylabel='PRODUCT'>"
      ]
     },
     "execution_count": 7,
     "metadata": {},
     "output_type": "execute_result"
    },
    {
     "data": {
      "image/png": "[encoded data removed]",
      "text/plain": [
       "<Figure size 432x288 with 1 Axes>"
      ]
     },
     "metadata": {
      "needs_background": "light"
     },
     "output_type": "display_data"
    }
   ],
   "source": [
    "df_pivot_diff.sort_values(\"stamp_2\", ascending = False)[\"stamp_2\"].head(10).plot.barh()"
   ]
  },
  {
   "cell_type": "code",
   "execution_count": null,
   "id": "extra-executive",
   "metadata": {
    "papermill": {
     "duration": 0.08449,
     "end_time": "2021-12-04T14:30:13.755711",
     "exception": false,
     "start_time": "2021-12-04T14:30:13.671221",
     "status": "completed"
    },
    "tags": []
   },
   "outputs": [],
   "source": []
  }
 ],
 "metadata": {
  "kernelspec": {
   "display_name": "Python 3",
   "language": "python",
   "name": "python3"
  },
  "language_info": {
   "codemirror_mode": {
    "name": "ipython",
    "version": 3
   },
   "file_extension": ".py",
   "mimetype": "text/x-python",
   "name": "python",
   "nbconvert_exporter": "python",
   "pygments_lexer": "ipython3",
   "version": "3.9.5"
  },
  "papermill": {
   "default_parameters": {},
   "duration": 9.477897,
   "end_time": "2021-12-04T14:30:14.404515",
   "environment_variables": {},
   "exception": null,
   "input_path": "eBay_Overview.ipynb",
   "output_path": "eBay_Overview.ipynb",
   "parameters": {},
   "start_time": "2021-12-04T14:30:04.926618",
   "version": "2.3.3"
  }
 },
 "nbformat": 4,
 "nbformat_minor": 5
}