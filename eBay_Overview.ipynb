{
 "cells": [
  {
   "cell_type": "code",
   "execution_count": 1,
   "id": "reverse-picking",
   "metadata": {
    "execution": {
     "iopub.execute_input": "2021-11-15T23:00:07.451858Z",
     "iopub.status.busy": "2021-11-15T23:00:07.449443Z",
     "iopub.status.idle": "2021-11-15T23:00:08.406884Z",
     "shell.execute_reply": "2021-11-15T23:00:08.408435Z"
    },
    "papermill": {
     "duration": 1.006444,
     "end_time": "2021-11-15T23:00:08.409230",
     "exception": false,
     "start_time": "2021-11-15T23:00:07.402786",
     "status": "completed"
    },
    "tags": []
   },
   "outputs": [],
   "source": [
    "import pandas as pd\n",
    "import sqlite3"
   ]
  },
  {
   "cell_type": "code",
   "execution_count": 2,
   "id": "innovative-syndrome",
   "metadata": {
    "execution": {
     "iopub.execute_input": "2021-11-15T23:00:08.474705Z",
     "iopub.status.busy": "2021-11-15T23:00:08.472305Z",
     "iopub.status.idle": "2021-11-15T23:00:09.307796Z",
     "shell.execute_reply": "2021-11-15T23:00:09.309775Z"
    },
    "papermill": {
     "duration": 0.870431,
     "end_time": "2021-11-15T23:00:09.310270",
     "exception": false,
     "start_time": "2021-11-15T23:00:08.439839",
     "status": "completed"
    },
    "tags": []
   },
   "outputs": [],
   "source": [
    "timestamps = pd.read_sql(\"select distinct record_time from EBAY_TOP_BERLIN order by record_time desc limit 2\", sqlite3.connect(\"UsedObjects.db\"))"
   ]
  },
  {
   "cell_type": "code",
   "execution_count": 3,
   "id": "periodic-identification",
   "metadata": {
    "execution": {
     "iopub.execute_input": "2021-11-15T23:00:09.380897Z",
     "iopub.status.busy": "2021-11-15T23:00:09.374123Z",
     "iopub.status.idle": "2021-11-15T23:00:09.408574Z",
     "shell.execute_reply": "2021-11-15T23:00:09.407162Z"
    },
    "papermill": {
     "duration": 0.07789,
     "end_time": "2021-11-15T23:00:09.408979",
     "exception": false,
     "start_time": "2021-11-15T23:00:09.331089",
     "status": "completed"
    },
    "tags": []
   },
   "outputs": [
    {
     "data": {
      "text/html": [
       "<div>\n",
       "<style scoped>\n",
       "    .dataframe tbody tr th:only-of-type {\n",
       "        vertical-align: middle;\n",
       "    }\n",
       "\n",
       "    .dataframe tbody tr th {\n",
       "        vertical-align: top;\n",
       "    }\n",
       "\n",
       "    .dataframe thead th {\n",
       "        text-align: right;\n",
       "    }\n",
       "</style>\n",
       "<table border=\"1\" class=\"dataframe\">\n",
       "  <thead>\n",
       "    <tr style=\"text-align: right;\">\n",
       "      <th></th>\n",
       "      <th>RECORD_TIME</th>\n",
       "    </tr>\n",
       "  </thead>\n",
       "  <tbody>\n",
       "    <tr>\n",
       "      <th>0</th>\n",
       "      <td>2021-11-16 00:00</td>\n",
       "    </tr>\n",
       "    <tr>\n",
       "      <th>1</th>\n",
       "      <td>2021-11-15 23:30</td>\n",
       "    </tr>\n",
       "  </tbody>\n",
       "</table>\n",
       "</div>"
      ],
      "text/plain": [
       "        RECORD_TIME\n",
       "0  2021-11-16 00:00\n",
       "1  2021-11-15 23:30"
      ]
     },
     "execution_count": 3,
     "metadata": {},
     "output_type": "execute_result"
    }
   ],
   "source": [
    "timestamps"
   ]
  },
  {
   "cell_type": "code",
   "execution_count": 4,
   "id": "alternate-victory",
   "metadata": {
    "execution": {
     "iopub.execute_input": "2021-11-15T23:00:09.458805Z",
     "iopub.status.busy": "2021-11-15T23:00:09.456763Z",
     "iopub.status.idle": "2021-11-15T23:00:10.672447Z",
     "shell.execute_reply": "2021-11-15T23:00:10.674054Z"
    },
    "papermill": {
     "duration": 1.246318,
     "end_time": "2021-11-15T23:00:10.674583",
     "exception": false,
     "start_time": "2021-11-15T23:00:09.428265",
     "status": "completed"
    },
    "tags": []
   },
   "outputs": [],
   "source": [
    "df = pd.read_sql(\"select * from EBAY_TOP_BERLIN where record_time in (select distinct record_time from EBAY_TOP_BERLIN order by record_time desc limit 2)\", sqlite3.connect(\"UsedObjects.db\"))"
   ]
  },
  {
   "cell_type": "code",
   "execution_count": 5,
   "id": "popular-active",
   "metadata": {
    "execution": {
     "iopub.execute_input": "2021-11-15T23:00:10.748125Z",
     "iopub.status.busy": "2021-11-15T23:00:10.739932Z",
     "iopub.status.idle": "2021-11-15T23:00:10.772990Z",
     "shell.execute_reply": "2021-11-15T23:00:10.774455Z"
    },
    "papermill": {
     "duration": 0.079145,
     "end_time": "2021-11-15T23:00:10.774930",
     "exception": false,
     "start_time": "2021-11-15T23:00:10.695785",
     "status": "completed"
    },
    "tags": []
   },
   "outputs": [],
   "source": [
    "df_pivot = df.pivot_table(index=\"PRODUCT\", columns = \"RECORD_TIME\", values = \"LISTING_COUNT\")"
   ]
  },
  {
   "cell_type": "code",
   "execution_count": 6,
   "id": "union-huntington",
   "metadata": {
    "execution": {
     "iopub.execute_input": "2021-11-15T23:00:10.840439Z",
     "iopub.status.busy": "2021-11-15T23:00:10.838379Z",
     "iopub.status.idle": "2021-11-15T23:00:10.847232Z",
     "shell.execute_reply": "2021-11-15T23:00:10.845729Z"
    },
    "papermill": {
     "duration": 0.05068,
     "end_time": "2021-11-15T23:00:10.847654",
     "exception": false,
     "start_time": "2021-11-15T23:00:10.796974",
     "status": "completed"
    },
    "tags": []
   },
   "outputs": [],
   "source": [
    "df_pivot.columns = [\"stamp_1\", \"stamp_2\"]\n",
    "df_pivot_diff = df_pivot.diff(axis=1)"
   ]
  },
  {
   "cell_type": "code",
   "execution_count": 7,
   "id": "fifth-motion",
   "metadata": {
    "execution": {
     "iopub.execute_input": "2021-11-15T23:00:10.904250Z",
     "iopub.status.busy": "2021-11-15T23:00:10.901784Z",
     "iopub.status.idle": "2021-11-15T23:00:12.819431Z",
     "shell.execute_reply": "2021-11-15T23:00:12.822107Z"
    },
    "papermill": {
     "duration": 1.955263,
     "end_time": "2021-11-15T23:00:12.822925",
     "exception": false,
     "start_time": "2021-11-15T23:00:10.867662",
     "status": "completed"
    },
    "tags": []
   },
   "outputs": [
    {
     "data": {
      "text/plain": [
       "<AxesSubplot:ylabel='PRODUCT'>"
      ]
     },
     "execution_count": 7,
     "metadata": {},
     "output_type": "execute_result"
    },
    {
     "data": {
      "image/png": "[encoded data removed]",
      "text/plain": [
       "<Figure size 432x288 with 1 Axes>"
      ]
     },
     "metadata": {
      "needs_background": "light"
     },
     "output_type": "display_data"
    }
   ],
   "source": [
    "df_pivot_diff.sort_values(\"stamp_2\", ascending = False)[\"stamp_2\"].head(10).plot.barh()"
   ]
  },
  {
   "cell_type": "code",
   "execution_count": null,
   "id": "extra-executive",
   "metadata": {
    "papermill": {
     "duration": 0.034011,
     "end_time": "2021-11-15T23:00:12.893634",
     "exception": false,
     "start_time": "2021-11-15T23:00:12.859623",
     "status": "completed"
    },
    "tags": []
   },
   "outputs": [],
   "source": []
  }
 ],
 "metadata": {
  "kernelspec": {
   "display_name": "Python 3",
   "language": "python",
   "name": "python3"
  },
  "language_info": {
   "codemirror_mode": {
    "name": "ipython",
    "version": 3
   },
   "file_extension": ".py",
   "mimetype": "text/x-python",
   "name": "python",
   "nbconvert_exporter": "python",
   "pygments_lexer": "ipython3",
   "version": "3.9.5"
  },
  "papermill": {
   "default_parameters": {},
   "duration": 9.935075,
   "end_time": "2021-11-15T23:00:14.604172",
   "environment_variables": {},
   "exception": null,
   "input_path": "eBay_Overview.ipynb",
   "output_path": "eBay_Overview.ipynb",
   "parameters": {},
   "start_time": "2021-11-15T23:00:04.669097",
   "version": "2.3.3"
  }
 },
 "nbformat": 4,
 "nbformat_minor": 5
}