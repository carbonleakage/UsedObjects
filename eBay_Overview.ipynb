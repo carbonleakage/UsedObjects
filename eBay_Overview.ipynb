{
 "cells": [
  {
   "cell_type": "code",
   "execution_count": 1,
   "id": "reverse-picking",
   "metadata": {
    "execution": {
     "iopub.execute_input": "2021-10-29T04:00:07.579285Z",
     "iopub.status.busy": "2021-10-29T04:00:07.577309Z",
     "iopub.status.idle": "2021-10-29T04:00:08.383225Z",
     "shell.execute_reply": "2021-10-29T04:00:08.384487Z"
    },
    "papermill": {
     "duration": 0.856307,
     "end_time": "2021-10-29T04:00:08.385236",
     "exception": false,
     "start_time": "2021-10-29T04:00:07.528929",
     "status": "completed"
    },
    "tags": []
   },
   "outputs": [],
   "source": [
    "import pandas as pd\n",
    "import sqlite3"
   ]
  },
  {
   "cell_type": "code",
   "execution_count": 2,
   "id": "innovative-syndrome",
   "metadata": {
    "execution": {
     "iopub.execute_input": "2021-10-29T04:00:08.437360Z",
     "iopub.status.busy": "2021-10-29T04:00:08.435349Z",
     "iopub.status.idle": "2021-10-29T04:00:09.102477Z",
     "shell.execute_reply": "2021-10-29T04:00:09.103697Z"
    },
    "papermill": {
     "duration": 0.696626,
     "end_time": "2021-10-29T04:00:09.104101",
     "exception": false,
     "start_time": "2021-10-29T04:00:08.407475",
     "status": "completed"
    },
    "tags": []
   },
   "outputs": [],
   "source": [
    "timestamps = pd.read_sql(\"select distinct record_time from EBAY_TOP_BERLIN order by record_time desc limit 2\", sqlite3.connect(\"UsedObjects.db\"))"
   ]
  },
  {
   "cell_type": "code",
   "execution_count": 3,
   "id": "periodic-identification",
   "metadata": {
    "execution": {
     "iopub.execute_input": "2021-10-29T04:00:09.235006Z",
     "iopub.status.busy": "2021-10-29T04:00:09.232665Z",
     "iopub.status.idle": "2021-10-29T04:00:09.256299Z",
     "shell.execute_reply": "2021-10-29T04:00:09.257987Z"
    },
    "papermill": {
     "duration": 0.075551,
     "end_time": "2021-10-29T04:00:09.258499",
     "exception": false,
     "start_time": "2021-10-29T04:00:09.182948",
     "status": "completed"
    },
    "tags": []
   },
   "outputs": [
    {
     "data": {
      "text/html": [
       "<div>\n",
       "<style scoped>\n",
       "    .dataframe tbody tr th:only-of-type {\n",
       "        vertical-align: middle;\n",
       "    }\n",
       "\n",
       "    .dataframe tbody tr th {\n",
       "        vertical-align: top;\n",
       "    }\n",
       "\n",
       "    .dataframe thead th {\n",
       "        text-align: right;\n",
       "    }\n",
       "</style>\n",
       "<table border=\"1\" class=\"dataframe\">\n",
       "  <thead>\n",
       "    <tr style=\"text-align: right;\">\n",
       "      <th></th>\n",
       "      <th>RECORD_TIME</th>\n",
       "    </tr>\n",
       "  </thead>\n",
       "  <tbody>\n",
       "    <tr>\n",
       "      <th>0</th>\n",
       "      <td>2021-10-29 06:00</td>\n",
       "    </tr>\n",
       "    <tr>\n",
       "      <th>1</th>\n",
       "      <td>2021-10-29 05:30</td>\n",
       "    </tr>\n",
       "  </tbody>\n",
       "</table>\n",
       "</div>"
      ],
      "text/plain": [
       "        RECORD_TIME\n",
       "0  2021-10-29 06:00\n",
       "1  2021-10-29 05:30"
      ]
     },
     "execution_count": 3,
     "metadata": {},
     "output_type": "execute_result"
    }
   ],
   "source": [
    "timestamps"
   ]
  },
  {
   "cell_type": "code",
   "execution_count": 4,
   "id": "alternate-victory",
   "metadata": {
    "execution": {
     "iopub.execute_input": "2021-10-29T04:00:09.310309Z",
     "iopub.status.busy": "2021-10-29T04:00:09.308360Z",
     "iopub.status.idle": "2021-10-29T04:00:10.269700Z",
     "shell.execute_reply": "2021-10-29T04:00:10.271028Z"
    },
    "papermill": {
     "duration": 0.991324,
     "end_time": "2021-10-29T04:00:10.271455",
     "exception": false,
     "start_time": "2021-10-29T04:00:09.280131",
     "status": "completed"
    },
    "tags": []
   },
   "outputs": [],
   "source": [
    "df = pd.read_sql(\"select * from EBAY_TOP_BERLIN where record_time in (select distinct record_time from EBAY_TOP_BERLIN order by record_time desc limit 2)\", sqlite3.connect(\"UsedObjects.db\"))"
   ]
  },
  {
   "cell_type": "code",
   "execution_count": 5,
   "id": "popular-active",
   "metadata": {
    "execution": {
     "iopub.execute_input": "2021-10-29T04:00:10.342157Z",
     "iopub.status.busy": "2021-10-29T04:00:10.330071Z",
     "iopub.status.idle": "2021-10-29T04:00:10.358613Z",
     "shell.execute_reply": "2021-10-29T04:00:10.359980Z"
    },
    "papermill": {
     "duration": 0.068966,
     "end_time": "2021-10-29T04:00:10.360414",
     "exception": false,
     "start_time": "2021-10-29T04:00:10.291448",
     "status": "completed"
    },
    "tags": []
   },
   "outputs": [],
   "source": [
    "df_pivot = df.pivot_table(index=\"PRODUCT\", columns = \"RECORD_TIME\", values = \"LISTING_COUNT\")"
   ]
  },
  {
   "cell_type": "code",
   "execution_count": 6,
   "id": "union-huntington",
   "metadata": {
    "execution": {
     "iopub.execute_input": "2021-10-29T04:00:10.420218Z",
     "iopub.status.busy": "2021-10-29T04:00:10.417773Z",
     "iopub.status.idle": "2021-10-29T04:00:10.423625Z",
     "shell.execute_reply": "2021-10-29T04:00:10.425080Z"
    },
    "papermill": {
     "duration": 0.042403,
     "end_time": "2021-10-29T04:00:10.425536",
     "exception": false,
     "start_time": "2021-10-29T04:00:10.383133",
     "status": "completed"
    },
    "tags": []
   },
   "outputs": [],
   "source": [
    "df_pivot.columns = [\"stamp_1\", \"stamp_2\"]\n",
    "df_pivot_diff = df_pivot.diff(axis=1)"
   ]
  },
  {
   "cell_type": "code",
   "execution_count": 7,
   "id": "fifth-motion",
   "metadata": {
    "execution": {
     "iopub.execute_input": "2021-10-29T04:00:10.480019Z",
     "iopub.status.busy": "2021-10-29T04:00:10.477819Z",
     "iopub.status.idle": "2021-10-29T04:00:11.950308Z",
     "shell.execute_reply": "2021-10-29T04:00:11.951727Z"
    },
    "papermill": {
     "duration": 1.505299,
     "end_time": "2021-10-29T04:00:11.952182",
     "exception": false,
     "start_time": "2021-10-29T04:00:10.446883",
     "status": "completed"
    },
    "tags": []
   },
   "outputs": [
    {
     "data": {
      "text/plain": [
       "<AxesSubplot:ylabel='PRODUCT'>"
      ]
     },
     "execution_count": 7,
     "metadata": {},
     "output_type": "execute_result"
    },
    {
     "data": {
      "image/png": "[encoded data removed]",
      "text/plain": [
       "<Figure size 432x288 with 1 Axes>"
      ]
     },
     "metadata": {
      "needs_background": "light"
     },
     "output_type": "display_data"
    }
   ],
   "source": [
    "df_pivot_diff.sort_values(\"stamp_2\", ascending = False)[\"stamp_2\"].head(10).plot.barh()"
   ]
  },
  {
   "cell_type": "code",
   "execution_count": null,
   "id": "extra-executive",
   "metadata": {
    "papermill": {
     "duration": 0.022026,
     "end_time": "2021-10-29T04:00:11.997997",
     "exception": false,
     "start_time": "2021-10-29T04:00:11.975971",
     "status": "completed"
    },
    "tags": []
   },
   "outputs": [],
   "source": []
  }
 ],
 "metadata": {
  "kernelspec": {
   "display_name": "Python 3",
   "language": "python",
   "name": "python3"
  },
  "language_info": {
   "codemirror_mode": {
    "name": "ipython",
    "version": 3
   },
   "file_extension": ".py",
   "mimetype": "text/x-python",
   "name": "python",
   "nbconvert_exporter": "python",
   "pygments_lexer": "ipython3",
   "version": "3.9.5"
  },
  "papermill": {
   "default_parameters": {},
   "duration": 7.518331,
   "end_time": "2021-10-29T04:00:12.641501",
   "environment_variables": {},
   "exception": null,
   "input_path": "eBay_Overview.ipynb",
   "output_path": "eBay_Overview.ipynb",
   "parameters": {},
   "start_time": "2021-10-29T04:00:05.123170",
   "version": "2.3.3"
  }
 },
 "nbformat": 4,
 "nbformat_minor": 5
}