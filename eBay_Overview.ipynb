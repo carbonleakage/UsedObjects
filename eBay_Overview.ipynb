{
 "cells": [
  {
   "cell_type": "code",
   "execution_count": 1,
   "id": "reverse-picking",
   "metadata": {
    "execution": {
     "iopub.execute_input": "2021-12-19T03:00:08.108649Z",
     "iopub.status.busy": "2021-12-19T03:00:08.078541Z",
     "iopub.status.idle": "2021-12-19T03:00:09.042884Z",
     "shell.execute_reply": "2021-12-19T03:00:09.044402Z"
    },
    "papermill": {
     "duration": 1.010578,
     "end_time": "2021-12-19T03:00:09.045243",
     "exception": false,
     "start_time": "2021-12-19T03:00:08.034665",
     "status": "completed"
    },
    "tags": []
   },
   "outputs": [],
   "source": [
    "import pandas as pd\n",
    "import sqlite3"
   ]
  },
  {
   "cell_type": "code",
   "execution_count": 2,
   "id": "innovative-syndrome",
   "metadata": {
    "execution": {
     "iopub.execute_input": "2021-12-19T03:00:09.112794Z",
     "iopub.status.busy": "2021-12-19T03:00:09.110437Z",
     "iopub.status.idle": "2021-12-19T03:00:10.238623Z",
     "shell.execute_reply": "2021-12-19T03:00:10.240265Z"
    },
    "papermill": {
     "duration": 1.162677,
     "end_time": "2021-12-19T03:00:10.241021",
     "exception": false,
     "start_time": "2021-12-19T03:00:09.078344",
     "status": "completed"
    },
    "tags": []
   },
   "outputs": [],
   "source": [
    "timestamps = pd.read_sql(\"select distinct record_time from EBAY_TOP_BERLIN order by record_time desc limit 2\", sqlite3.connect(\"UsedObjects.db\"))"
   ]
  },
  {
   "cell_type": "code",
   "execution_count": 3,
   "id": "periodic-identification",
   "metadata": {
    "execution": {
     "iopub.execute_input": "2021-12-19T03:00:10.313913Z",
     "iopub.status.busy": "2021-12-19T03:00:10.311569Z",
     "iopub.status.idle": "2021-12-19T03:00:10.334652Z",
     "shell.execute_reply": "2021-12-19T03:00:10.336169Z"
    },
    "papermill": {
     "duration": 0.075226,
     "end_time": "2021-12-19T03:00:10.336663",
     "exception": false,
     "start_time": "2021-12-19T03:00:10.261437",
     "status": "completed"
    },
    "tags": []
   },
   "outputs": [
    {
     "data": {
      "text/html": [
       "<div>\n",
       "<style scoped>\n",
       "    .dataframe tbody tr th:only-of-type {\n",
       "        vertical-align: middle;\n",
       "    }\n",
       "\n",
       "    .dataframe tbody tr th {\n",
       "        vertical-align: top;\n",
       "    }\n",
       "\n",
       "    .dataframe thead th {\n",
       "        text-align: right;\n",
       "    }\n",
       "</style>\n",
       "<table border=\"1\" class=\"dataframe\">\n",
       "  <thead>\n",
       "    <tr style=\"text-align: right;\">\n",
       "      <th></th>\n",
       "      <th>RECORD_TIME</th>\n",
       "    </tr>\n",
       "  </thead>\n",
       "  <tbody>\n",
       "    <tr>\n",
       "      <th>0</th>\n",
       "      <td>2021-12-19 04:00</td>\n",
       "    </tr>\n",
       "    <tr>\n",
       "      <th>1</th>\n",
       "      <td>2021-12-19 03:30</td>\n",
       "    </tr>\n",
       "  </tbody>\n",
       "</table>\n",
       "</div>"
      ],
      "text/plain": [
       "        RECORD_TIME\n",
       "0  2021-12-19 04:00\n",
       "1  2021-12-19 03:30"
      ]
     },
     "execution_count": 3,
     "metadata": {},
     "output_type": "execute_result"
    }
   ],
   "source": [
    "timestamps"
   ]
  },
  {
   "cell_type": "code",
   "execution_count": 4,
   "id": "alternate-victory",
   "metadata": {
    "execution": {
     "iopub.execute_input": "2021-12-19T03:00:10.390395Z",
     "iopub.status.busy": "2021-12-19T03:00:10.388182Z",
     "iopub.status.idle": "2021-12-19T03:00:12.019917Z",
     "shell.execute_reply": "2021-12-19T03:00:12.021640Z"
    },
    "papermill": {
     "duration": 1.664743,
     "end_time": "2021-12-19T03:00:12.022159",
     "exception": false,
     "start_time": "2021-12-19T03:00:10.357416",
     "status": "completed"
    },
    "tags": []
   },
   "outputs": [],
   "source": [
    "df = pd.read_sql(\"select * from EBAY_TOP_BERLIN where record_time in (select distinct record_time from EBAY_TOP_BERLIN order by record_time desc limit 2)\", sqlite3.connect(\"UsedObjects.db\"))"
   ]
  },
  {
   "cell_type": "code",
   "execution_count": 5,
   "id": "popular-active",
   "metadata": {
    "execution": {
     "iopub.execute_input": "2021-12-19T03:00:12.094732Z",
     "iopub.status.busy": "2021-12-19T03:00:12.091787Z",
     "iopub.status.idle": "2021-12-19T03:00:12.125502Z",
     "shell.execute_reply": "2021-12-19T03:00:12.127228Z"
    },
    "papermill": {
     "duration": 0.084444,
     "end_time": "2021-12-19T03:00:12.127761",
     "exception": false,
     "start_time": "2021-12-19T03:00:12.043317",
     "status": "completed"
    },
    "tags": []
   },
   "outputs": [],
   "source": [
    "df_pivot = df.pivot_table(index=\"PRODUCT\", columns = \"RECORD_TIME\", values = \"LISTING_COUNT\")"
   ]
  },
  {
   "cell_type": "code",
   "execution_count": 6,
   "id": "union-huntington",
   "metadata": {
    "execution": {
     "iopub.execute_input": "2021-12-19T03:00:12.187753Z",
     "iopub.status.busy": "2021-12-19T03:00:12.185602Z",
     "iopub.status.idle": "2021-12-19T03:00:12.192810Z",
     "shell.execute_reply": "2021-12-19T03:00:12.191219Z"
    },
    "papermill": {
     "duration": 0.043084,
     "end_time": "2021-12-19T03:00:12.193298",
     "exception": false,
     "start_time": "2021-12-19T03:00:12.150214",
     "status": "completed"
    },
    "tags": []
   },
   "outputs": [],
   "source": [
    "df_pivot.columns = [\"stamp_1\", \"stamp_2\"]\n",
    "df_pivot_diff = df_pivot.diff(axis=1)"
   ]
  },
  {
   "cell_type": "code",
   "execution_count": 7,
   "id": "fifth-motion",
   "metadata": {
    "execution": {
     "iopub.execute_input": "2021-12-19T03:00:12.260199Z",
     "iopub.status.busy": "2021-12-19T03:00:12.250928Z",
     "iopub.status.idle": "2021-12-19T03:00:14.298014Z",
     "shell.execute_reply": "2021-12-19T03:00:14.299477Z"
    },
    "papermill": {
     "duration": 2.08623,
     "end_time": "2021-12-19T03:00:14.300059",
     "exception": false,
     "start_time": "2021-12-19T03:00:12.213829",
     "status": "completed"
    },
    "tags": []
   },
   "outputs": [
    {
     "data": {
      "text/plain": [
       "<AxesSubplot:ylabel='PRODUCT'>"
      ]
     },
     "execution_count": 7,
     "metadata": {},
     "output_type": "execute_result"
    },
    {
     "data": {
      "image/png": "[encoded data removed]",
      "text/plain": [
       "<Figure size 432x288 with 1 Axes>"
      ]
     },
     "metadata": {
      "needs_background": "light"
     },
     "output_type": "display_data"
    }
   ],
   "source": [
    "df_pivot_diff.sort_values(\"stamp_2\", ascending = False)[\"stamp_2\"].head(10).plot.barh()"
   ]
  },
  {
   "cell_type": "code",
   "execution_count": null,
   "id": "extra-executive",
   "metadata": {
    "papermill": {
     "duration": 0.022197,
     "end_time": "2021-12-19T03:00:14.346055",
     "exception": false,
     "start_time": "2021-12-19T03:00:14.323858",
     "status": "completed"
    },
    "tags": []
   },
   "outputs": [],
   "source": []
  }
 ],
 "metadata": {
  "kernelspec": {
   "display_name": "Python 3",
   "language": "python",
   "name": "python3"
  },
  "language_info": {
   "codemirror_mode": {
    "name": "ipython",
    "version": 3
   },
   "file_extension": ".py",
   "mimetype": "text/x-python",
   "name": "python",
   "nbconvert_exporter": "python",
   "pygments_lexer": "ipython3",
   "version": "3.9.5"
  },
  "papermill": {
   "default_parameters": {},
   "duration": 9.744748,
   "end_time": "2021-12-19T03:00:14.989676",
   "environment_variables": {},
   "exception": null,
   "input_path": "eBay_Overview.ipynb",
   "output_path": "eBay_Overview.ipynb",
   "parameters": {},
   "start_time": "2021-12-19T03:00:05.244928",
   "version": "2.3.3"
  }
 },
 "nbformat": 4,
 "nbformat_minor": 5
}