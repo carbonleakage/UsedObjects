{
 "cells": [
  {
   "cell_type": "code",
   "execution_count": 1,
   "id": "reverse-picking",
   "metadata": {
    "execution": {
     "iopub.execute_input": "2021-12-20T13:30:08.169337Z",
     "iopub.status.busy": "2021-12-20T13:30:08.167048Z",
     "iopub.status.idle": "2021-12-20T13:30:09.129304Z",
     "shell.execute_reply": "2021-12-20T13:30:09.130949Z"
    },
    "papermill": {
     "duration": 1.012239,
     "end_time": "2021-12-20T13:30:09.131711",
     "exception": false,
     "start_time": "2021-12-20T13:30:08.119472",
     "status": "completed"
    },
    "tags": []
   },
   "outputs": [],
   "source": [
    "import pandas as pd\n",
    "import sqlite3"
   ]
  },
  {
   "cell_type": "code",
   "execution_count": 2,
   "id": "innovative-syndrome",
   "metadata": {
    "execution": {
     "iopub.execute_input": "2021-12-20T13:30:09.206959Z",
     "iopub.status.busy": "2021-12-20T13:30:09.204554Z",
     "iopub.status.idle": "2021-12-20T13:30:10.356835Z",
     "shell.execute_reply": "2021-12-20T13:30:10.358384Z"
    },
    "papermill": {
     "duration": 1.188611,
     "end_time": "2021-12-20T13:30:10.358880",
     "exception": false,
     "start_time": "2021-12-20T13:30:09.170269",
     "status": "completed"
    },
    "tags": []
   },
   "outputs": [],
   "source": [
    "timestamps = pd.read_sql(\"select distinct record_time from EBAY_TOP_BERLIN order by record_time desc limit 2\", sqlite3.connect(\"UsedObjects.db\"))"
   ]
  },
  {
   "cell_type": "code",
   "execution_count": 3,
   "id": "periodic-identification",
   "metadata": {
    "execution": {
     "iopub.execute_input": "2021-12-20T13:30:10.458879Z",
     "iopub.status.busy": "2021-12-20T13:30:10.456496Z",
     "iopub.status.idle": "2021-12-20T13:30:10.479544Z",
     "shell.execute_reply": "2021-12-20T13:30:10.481111Z"
    },
    "papermill": {
     "duration": 0.089865,
     "end_time": "2021-12-20T13:30:10.481691",
     "exception": false,
     "start_time": "2021-12-20T13:30:10.391826",
     "status": "completed"
    },
    "tags": []
   },
   "outputs": [
    {
     "data": {
      "text/html": [
       "<div>\n",
       "<style scoped>\n",
       "    .dataframe tbody tr th:only-of-type {\n",
       "        vertical-align: middle;\n",
       "    }\n",
       "\n",
       "    .dataframe tbody tr th {\n",
       "        vertical-align: top;\n",
       "    }\n",
       "\n",
       "    .dataframe thead th {\n",
       "        text-align: right;\n",
       "    }\n",
       "</style>\n",
       "<table border=\"1\" class=\"dataframe\">\n",
       "  <thead>\n",
       "    <tr style=\"text-align: right;\">\n",
       "      <th></th>\n",
       "      <th>RECORD_TIME</th>\n",
       "    </tr>\n",
       "  </thead>\n",
       "  <tbody>\n",
       "    <tr>\n",
       "      <th>0</th>\n",
       "      <td>2021-12-20 14:30</td>\n",
       "    </tr>\n",
       "    <tr>\n",
       "      <th>1</th>\n",
       "      <td>2021-12-20 14:00</td>\n",
       "    </tr>\n",
       "  </tbody>\n",
       "</table>\n",
       "</div>"
      ],
      "text/plain": [
       "        RECORD_TIME\n",
       "0  2021-12-20 14:30\n",
       "1  2021-12-20 14:00"
      ]
     },
     "execution_count": 3,
     "metadata": {},
     "output_type": "execute_result"
    }
   ],
   "source": [
    "timestamps"
   ]
  },
  {
   "cell_type": "code",
   "execution_count": 4,
   "id": "alternate-victory",
   "metadata": {
    "execution": {
     "iopub.execute_input": "2021-12-20T13:30:10.538060Z",
     "iopub.status.busy": "2021-12-20T13:30:10.535651Z",
     "iopub.status.idle": "2021-12-20T13:30:12.194471Z",
     "shell.execute_reply": "2021-12-20T13:30:12.196511Z"
    },
    "papermill": {
     "duration": 1.693312,
     "end_time": "2021-12-20T13:30:12.197067",
     "exception": false,
     "start_time": "2021-12-20T13:30:10.503755",
     "status": "completed"
    },
    "tags": []
   },
   "outputs": [],
   "source": [
    "df = pd.read_sql(\"select * from EBAY_TOP_BERLIN where record_time in (select distinct record_time from EBAY_TOP_BERLIN order by record_time desc limit 2)\", sqlite3.connect(\"UsedObjects.db\"))"
   ]
  },
  {
   "cell_type": "code",
   "execution_count": 5,
   "id": "popular-active",
   "metadata": {
    "execution": {
     "iopub.execute_input": "2021-12-20T13:30:12.261592Z",
     "iopub.status.busy": "2021-12-20T13:30:12.259183Z",
     "iopub.status.idle": "2021-12-20T13:30:12.289668Z",
     "shell.execute_reply": "2021-12-20T13:30:12.291040Z"
    },
    "papermill": {
     "duration": 0.072784,
     "end_time": "2021-12-20T13:30:12.291527",
     "exception": false,
     "start_time": "2021-12-20T13:30:12.218743",
     "status": "completed"
    },
    "tags": []
   },
   "outputs": [],
   "source": [
    "df_pivot = df.pivot_table(index=\"PRODUCT\", columns = \"RECORD_TIME\", values = \"LISTING_COUNT\")"
   ]
  },
  {
   "cell_type": "code",
   "execution_count": 6,
   "id": "union-huntington",
   "metadata": {
    "execution": {
     "iopub.execute_input": "2021-12-20T13:30:12.351523Z",
     "iopub.status.busy": "2021-12-20T13:30:12.349330Z",
     "iopub.status.idle": "2021-12-20T13:30:12.357052Z",
     "shell.execute_reply": "2021-12-20T13:30:12.355319Z"
    },
    "papermill": {
     "duration": 0.045112,
     "end_time": "2021-12-20T13:30:12.357551",
     "exception": false,
     "start_time": "2021-12-20T13:30:12.312439",
     "status": "completed"
    },
    "tags": []
   },
   "outputs": [],
   "source": [
    "df_pivot.columns = [\"stamp_1\", \"stamp_2\"]\n",
    "df_pivot_diff = df_pivot.diff(axis=1)"
   ]
  },
  {
   "cell_type": "code",
   "execution_count": 7,
   "id": "fifth-motion",
   "metadata": {
    "execution": {
     "iopub.execute_input": "2021-12-20T13:30:12.418685Z",
     "iopub.status.busy": "2021-12-20T13:30:12.416106Z",
     "iopub.status.idle": "2021-12-20T13:30:14.394042Z",
     "shell.execute_reply": "2021-12-20T13:30:14.395346Z"
    },
    "papermill": {
     "duration": 2.015588,
     "end_time": "2021-12-20T13:30:14.395771",
     "exception": false,
     "start_time": "2021-12-20T13:30:12.380183",
     "status": "completed"
    },
    "tags": []
   },
   "outputs": [
    {
     "data": {
      "text/plain": [
       "<AxesSubplot:ylabel='PRODUCT'>"
      ]
     },
     "execution_count": 7,
     "metadata": {},
     "output_type": "execute_result"
    },
    {
     "data": {
      "image/png": "[encoded data removed]",
      "text/plain": [
       "<Figure size 432x288 with 1 Axes>"
      ]
     },
     "metadata": {
      "needs_background": "light"
     },
     "output_type": "display_data"
    }
   ],
   "source": [
    "df_pivot_diff.sort_values(\"stamp_2\", ascending = False)[\"stamp_2\"].head(10).plot.barh()"
   ]
  },
  {
   "cell_type": "code",
   "execution_count": null,
   "id": "extra-executive",
   "metadata": {
    "papermill": {
     "duration": 0.027557,
     "end_time": "2021-12-20T13:30:14.456776",
     "exception": false,
     "start_time": "2021-12-20T13:30:14.429219",
     "status": "completed"
    },
    "tags": []
   },
   "outputs": [],
   "source": []
  }
 ],
 "metadata": {
  "kernelspec": {
   "display_name": "Python 3",
   "language": "python",
   "name": "python3"
  },
  "language_info": {
   "codemirror_mode": {
    "name": "ipython",
    "version": 3
   },
   "file_extension": ".py",
   "mimetype": "text/x-python",
   "name": "python",
   "nbconvert_exporter": "python",
   "pygments_lexer": "ipython3",
   "version": "3.9.5"
  },
  "papermill": {
   "default_parameters": {},
   "duration": 9.734281,
   "end_time": "2021-12-20T13:30:15.103646",
   "environment_variables": {},
   "exception": null,
   "input_path": "eBay_Overview.ipynb",
   "output_path": "eBay_Overview.ipynb",
   "parameters": {},
   "start_time": "2021-12-20T13:30:05.369365",
   "version": "2.3.3"
  }
 },
 "nbformat": 4,
 "nbformat_minor": 5
}