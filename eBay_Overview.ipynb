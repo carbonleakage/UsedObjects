{
 "cells": [
  {
   "cell_type": "code",
   "execution_count": 1,
   "id": "reverse-picking",
   "metadata": {
    "execution": {
     "iopub.execute_input": "2021-10-25T00:30:06.547099Z",
     "iopub.status.busy": "2021-10-25T00:30:06.545127Z",
     "iopub.status.idle": "2021-10-25T00:30:07.358402Z",
     "shell.execute_reply": "2021-10-25T00:30:07.359719Z"
    },
    "papermill": {
     "duration": 0.867255,
     "end_time": "2021-10-25T00:30:07.360370",
     "exception": false,
     "start_time": "2021-10-25T00:30:06.493115",
     "status": "completed"
    },
    "tags": []
   },
   "outputs": [],
   "source": [
    "import pandas as pd\n",
    "import sqlite3"
   ]
  },
  {
   "cell_type": "code",
   "execution_count": 2,
   "id": "innovative-syndrome",
   "metadata": {
    "execution": {
     "iopub.execute_input": "2021-10-25T00:30:07.410942Z",
     "iopub.status.busy": "2021-10-25T00:30:07.408480Z",
     "iopub.status.idle": "2021-10-25T00:30:08.026189Z",
     "shell.execute_reply": "2021-10-25T00:30:08.027406Z"
    },
    "papermill": {
     "duration": 0.647562,
     "end_time": "2021-10-25T00:30:08.027812",
     "exception": false,
     "start_time": "2021-10-25T00:30:07.380250",
     "status": "completed"
    },
    "tags": []
   },
   "outputs": [],
   "source": [
    "timestamps = pd.read_sql(\"select distinct record_time from EBAY_TOP_BERLIN order by record_time desc limit 2\", sqlite3.connect(\"UsedObjects.db\"))"
   ]
  },
  {
   "cell_type": "code",
   "execution_count": 3,
   "id": "periodic-identification",
   "metadata": {
    "execution": {
     "iopub.execute_input": "2021-10-25T00:30:08.109987Z",
     "iopub.status.busy": "2021-10-25T00:30:08.107899Z",
     "iopub.status.idle": "2021-10-25T00:30:08.129161Z",
     "shell.execute_reply": "2021-10-25T00:30:08.130460Z"
    },
    "papermill": {
     "duration": 0.071614,
     "end_time": "2021-10-25T00:30:08.130916",
     "exception": false,
     "start_time": "2021-10-25T00:30:08.059302",
     "status": "completed"
    },
    "tags": []
   },
   "outputs": [
    {
     "data": {
      "text/html": [
       "<div>\n",
       "<style scoped>\n",
       "    .dataframe tbody tr th:only-of-type {\n",
       "        vertical-align: middle;\n",
       "    }\n",
       "\n",
       "    .dataframe tbody tr th {\n",
       "        vertical-align: top;\n",
       "    }\n",
       "\n",
       "    .dataframe thead th {\n",
       "        text-align: right;\n",
       "    }\n",
       "</style>\n",
       "<table border=\"1\" class=\"dataframe\">\n",
       "  <thead>\n",
       "    <tr style=\"text-align: right;\">\n",
       "      <th></th>\n",
       "      <th>RECORD_TIME</th>\n",
       "    </tr>\n",
       "  </thead>\n",
       "  <tbody>\n",
       "    <tr>\n",
       "      <th>0</th>\n",
       "      <td>2021-10-25 02:30</td>\n",
       "    </tr>\n",
       "    <tr>\n",
       "      <th>1</th>\n",
       "      <td>2021-10-25 02:00</td>\n",
       "    </tr>\n",
       "  </tbody>\n",
       "</table>\n",
       "</div>"
      ],
      "text/plain": [
       "        RECORD_TIME\n",
       "0  2021-10-25 02:30\n",
       "1  2021-10-25 02:00"
      ]
     },
     "execution_count": 3,
     "metadata": {},
     "output_type": "execute_result"
    }
   ],
   "source": [
    "timestamps"
   ]
  },
  {
   "cell_type": "code",
   "execution_count": 4,
   "id": "alternate-victory",
   "metadata": {
    "execution": {
     "iopub.execute_input": "2021-10-25T00:30:08.182916Z",
     "iopub.status.busy": "2021-10-25T00:30:08.181049Z",
     "iopub.status.idle": "2021-10-25T00:30:09.114259Z",
     "shell.execute_reply": "2021-10-25T00:30:09.115393Z"
    },
    "papermill": {
     "duration": 0.963011,
     "end_time": "2021-10-25T00:30:09.115804",
     "exception": false,
     "start_time": "2021-10-25T00:30:08.152793",
     "status": "completed"
    },
    "tags": []
   },
   "outputs": [],
   "source": [
    "df = pd.read_sql(\"select * from EBAY_TOP_BERLIN where record_time in (select distinct record_time from EBAY_TOP_BERLIN order by record_time desc limit 2)\", sqlite3.connect(\"UsedObjects.db\"))"
   ]
  },
  {
   "cell_type": "code",
   "execution_count": 5,
   "id": "popular-active",
   "metadata": {
    "execution": {
     "iopub.execute_input": "2021-10-25T00:30:09.190024Z",
     "iopub.status.busy": "2021-10-25T00:30:09.175852Z",
     "iopub.status.idle": "2021-10-25T00:30:09.205353Z",
     "shell.execute_reply": "2021-10-25T00:30:09.206570Z"
    },
    "papermill": {
     "duration": 0.069092,
     "end_time": "2021-10-25T00:30:09.206970",
     "exception": false,
     "start_time": "2021-10-25T00:30:09.137878",
     "status": "completed"
    },
    "tags": []
   },
   "outputs": [],
   "source": [
    "df_pivot = df.pivot_table(index=\"PRODUCT\", columns = \"RECORD_TIME\", values = \"LISTING_COUNT\")"
   ]
  },
  {
   "cell_type": "code",
   "execution_count": 6,
   "id": "union-huntington",
   "metadata": {
    "execution": {
     "iopub.execute_input": "2021-10-25T00:30:09.264230Z",
     "iopub.status.busy": "2021-10-25T00:30:09.262065Z",
     "iopub.status.idle": "2021-10-25T00:30:09.267514Z",
     "shell.execute_reply": "2021-10-25T00:30:09.269115Z"
    },
    "papermill": {
     "duration": 0.041109,
     "end_time": "2021-10-25T00:30:09.269578",
     "exception": false,
     "start_time": "2021-10-25T00:30:09.228469",
     "status": "completed"
    },
    "tags": []
   },
   "outputs": [],
   "source": [
    "df_pivot.columns = [\"stamp_1\", \"stamp_2\"]\n",
    "df_pivot_diff = df_pivot.diff(axis=1)"
   ]
  },
  {
   "cell_type": "code",
   "execution_count": 7,
   "id": "fifth-motion",
   "metadata": {
    "execution": {
     "iopub.execute_input": "2021-10-25T00:30:09.326017Z",
     "iopub.status.busy": "2021-10-25T00:30:09.323276Z",
     "iopub.status.idle": "2021-10-25T00:30:10.807662Z",
     "shell.execute_reply": "2021-10-25T00:30:10.808921Z"
    },
    "papermill": {
     "duration": 1.517959,
     "end_time": "2021-10-25T00:30:10.809358",
     "exception": false,
     "start_time": "2021-10-25T00:30:09.291399",
     "status": "completed"
    },
    "tags": []
   },
   "outputs": [
    {
     "data": {
      "text/plain": [
       "<AxesSubplot:ylabel='PRODUCT'>"
      ]
     },
     "execution_count": 7,
     "metadata": {},
     "output_type": "execute_result"
    },
    {
     "data": {
      "image/png": "[encoded data removed]",
      "text/plain": [
       "<Figure size 432x288 with 1 Axes>"
      ]
     },
     "metadata": {
      "needs_background": "light"
     },
     "output_type": "display_data"
    }
   ],
   "source": [
    "df_pivot_diff.sort_values(\"stamp_2\", ascending = False)[\"stamp_2\"].head(10).plot.barh()"
   ]
  },
  {
   "cell_type": "code",
   "execution_count": null,
   "id": "extra-executive",
   "metadata": {
    "papermill": {
     "duration": 0.021984,
     "end_time": "2021-10-25T00:30:10.857619",
     "exception": false,
     "start_time": "2021-10-25T00:30:10.835635",
     "status": "completed"
    },
    "tags": []
   },
   "outputs": [],
   "source": []
  }
 ],
 "metadata": {
  "kernelspec": {
   "display_name": "Python 3",
   "language": "python",
   "name": "python3"
  },
  "language_info": {
   "codemirror_mode": {
    "name": "ipython",
    "version": 3
   },
   "file_extension": ".py",
   "mimetype": "text/x-python",
   "name": "python",
   "nbconvert_exporter": "python",
   "pygments_lexer": "ipython3",
   "version": "3.9.5"
  },
  "papermill": {
   "default_parameters": {},
   "duration": 7.432644,
   "end_time": "2021-10-25T00:30:11.498407",
   "environment_variables": {},
   "exception": null,
   "input_path": "eBay_Overview.ipynb",
   "output_path": "eBay_Overview.ipynb",
   "parameters": {},
   "start_time": "2021-10-25T00:30:04.065763",
   "version": "2.3.3"
  }
 },
 "nbformat": 4,
 "nbformat_minor": 5
}