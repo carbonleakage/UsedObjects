{
 "cells": [
  {
   "cell_type": "code",
   "execution_count": 1,
   "id": "reverse-picking",
   "metadata": {
    "execution": {
     "iopub.execute_input": "2021-08-12T12:00:04.806475Z",
     "iopub.status.busy": "2021-08-12T12:00:04.805712Z",
     "iopub.status.idle": "2021-08-12T12:00:05.574919Z",
     "shell.execute_reply": "2021-08-12T12:00:05.574090Z"
    },
    "papermill": {
     "duration": 0.788816,
     "end_time": "2021-08-12T12:00:05.575108",
     "exception": false,
     "start_time": "2021-08-12T12:00:04.786292",
     "status": "completed"
    },
    "tags": []
   },
   "outputs": [],
   "source": [
    "import pandas as pd\n",
    "import sqlite3"
   ]
  },
  {
   "cell_type": "code",
   "execution_count": 2,
   "id": "innovative-syndrome",
   "metadata": {
    "execution": {
     "iopub.execute_input": "2021-08-12T12:00:05.596468Z",
     "iopub.status.busy": "2021-08-12T12:00:05.595679Z",
     "iopub.status.idle": "2021-08-12T12:00:05.809547Z",
     "shell.execute_reply": "2021-08-12T12:00:05.810077Z"
    },
    "papermill": {
     "duration": 0.226754,
     "end_time": "2021-08-12T12:00:05.810262",
     "exception": false,
     "start_time": "2021-08-12T12:00:05.583508",
     "status": "completed"
    },
    "tags": []
   },
   "outputs": [],
   "source": [
    "timestamps = pd.read_sql(\"select distinct record_time from EBAY_TOP_BERLIN order by record_time desc limit 2\", sqlite3.connect(\"UsedObjects.db\"))"
   ]
  },
  {
   "cell_type": "code",
   "execution_count": 3,
   "id": "periodic-identification",
   "metadata": {
    "execution": {
     "iopub.execute_input": "2021-08-12T12:00:05.838146Z",
     "iopub.status.busy": "2021-08-12T12:00:05.837366Z",
     "iopub.status.idle": "2021-08-12T12:00:05.848625Z",
     "shell.execute_reply": "2021-08-12T12:00:05.849160Z"
    },
    "papermill": {
     "duration": 0.030776,
     "end_time": "2021-08-12T12:00:05.849343",
     "exception": false,
     "start_time": "2021-08-12T12:00:05.818567",
     "status": "completed"
    },
    "tags": []
   },
   "outputs": [
    {
     "data": {
      "text/html": [
       "<div>\n",
       "<style scoped>\n",
       "    .dataframe tbody tr th:only-of-type {\n",
       "        vertical-align: middle;\n",
       "    }\n",
       "\n",
       "    .dataframe tbody tr th {\n",
       "        vertical-align: top;\n",
       "    }\n",
       "\n",
       "    .dataframe thead th {\n",
       "        text-align: right;\n",
       "    }\n",
       "</style>\n",
       "<table border=\"1\" class=\"dataframe\">\n",
       "  <thead>\n",
       "    <tr style=\"text-align: right;\">\n",
       "      <th></th>\n",
       "      <th>RECORD_TIME</th>\n",
       "    </tr>\n",
       "  </thead>\n",
       "  <tbody>\n",
       "    <tr>\n",
       "      <th>0</th>\n",
       "      <td>2021-08-12 14:00</td>\n",
       "    </tr>\n",
       "    <tr>\n",
       "      <th>1</th>\n",
       "      <td>2021-08-12 13:30</td>\n",
       "    </tr>\n",
       "  </tbody>\n",
       "</table>\n",
       "</div>"
      ],
      "text/plain": [
       "        RECORD_TIME\n",
       "0  2021-08-12 14:00\n",
       "1  2021-08-12 13:30"
      ]
     },
     "execution_count": 3,
     "metadata": {},
     "output_type": "execute_result"
    }
   ],
   "source": [
    "timestamps"
   ]
  },
  {
   "cell_type": "code",
   "execution_count": 4,
   "id": "alternate-victory",
   "metadata": {
    "execution": {
     "iopub.execute_input": "2021-08-12T12:00:05.876205Z",
     "iopub.status.busy": "2021-08-12T12:00:05.875396Z",
     "iopub.status.idle": "2021-08-12T12:00:05.903325Z",
     "shell.execute_reply": "2021-08-12T12:00:05.903896Z"
    },
    "papermill": {
     "duration": 0.041828,
     "end_time": "2021-08-12T12:00:05.904094",
     "exception": false,
     "start_time": "2021-08-12T12:00:05.862266",
     "status": "completed"
    },
    "tags": []
   },
   "outputs": [],
   "source": [
    "df = pd.read_sql(\"select * from EBAY_TOP_BERLIN where record_time in (select distinct record_time from EBAY_TOP_BERLIN order by record_time desc limit 2)\", sqlite3.connect(\"UsedObjects.db\"))"
   ]
  },
  {
   "cell_type": "code",
   "execution_count": 5,
   "id": "popular-active",
   "metadata": {
    "execution": {
     "iopub.execute_input": "2021-08-12T12:00:05.931044Z",
     "iopub.status.busy": "2021-08-12T12:00:05.930056Z",
     "iopub.status.idle": "2021-08-12T12:00:05.950539Z",
     "shell.execute_reply": "2021-08-12T12:00:05.951551Z"
    },
    "papermill": {
     "duration": 0.039176,
     "end_time": "2021-08-12T12:00:05.951876",
     "exception": false,
     "start_time": "2021-08-12T12:00:05.912700",
     "status": "completed"
    },
    "tags": []
   },
   "outputs": [],
   "source": [
    "df_pivot = df.pivot_table(index=\"PRODUCT\", columns = \"RECORD_TIME\", values = \"LISTING_COUNT\")"
   ]
  },
  {
   "cell_type": "code",
   "execution_count": 6,
   "id": "union-huntington",
   "metadata": {
    "execution": {
     "iopub.execute_input": "2021-08-12T12:00:05.985039Z",
     "iopub.status.busy": "2021-08-12T12:00:05.982468Z",
     "iopub.status.idle": "2021-08-12T12:00:05.989318Z",
     "shell.execute_reply": "2021-08-12T12:00:05.990377Z"
    },
    "papermill": {
     "duration": 0.02405,
     "end_time": "2021-08-12T12:00:05.990689",
     "exception": false,
     "start_time": "2021-08-12T12:00:05.966639",
     "status": "completed"
    },
    "tags": []
   },
   "outputs": [],
   "source": [
    "df_pivot.columns = [\"stamp_1\", \"stamp_2\"]\n",
    "df_pivot_diff = df_pivot.diff(axis=1)"
   ]
  },
  {
   "cell_type": "code",
   "execution_count": 7,
   "id": "fifth-motion",
   "metadata": {
    "execution": {
     "iopub.execute_input": "2021-08-12T12:00:06.019681Z",
     "iopub.status.busy": "2021-08-12T12:00:06.018925Z",
     "iopub.status.idle": "2021-08-12T12:00:06.712992Z",
     "shell.execute_reply": "2021-08-12T12:00:06.713562Z"
    },
    "papermill": {
     "duration": 0.710385,
     "end_time": "2021-08-12T12:00:06.713759",
     "exception": false,
     "start_time": "2021-08-12T12:00:06.003374",
     "status": "completed"
    },
    "tags": []
   },
   "outputs": [
    {
     "data": {
      "text/plain": [
       "<AxesSubplot:ylabel='PRODUCT'>"
      ]
     },
     "execution_count": 7,
     "metadata": {},
     "output_type": "execute_result"
    },
    {
     "data": {
      "image/png": "[encoded data removed]",
      "text/plain": [
       "<Figure size 432x288 with 1 Axes>"
      ]
     },
     "metadata": {
      "needs_background": "light"
     },
     "output_type": "display_data"
    }
   ],
   "source": [
    "df_pivot_diff.sort_values(\"stamp_2\", ascending = False)[\"stamp_2\"].head(10).plot.barh()"
   ]
  },
  {
   "cell_type": "code",
   "execution_count": null,
   "id": "extra-executive",
   "metadata": {
    "papermill": {
     "duration": 0.018683,
     "end_time": "2021-08-12T12:00:06.742915",
     "exception": false,
     "start_time": "2021-08-12T12:00:06.724232",
     "status": "completed"
    },
    "tags": []
   },
   "outputs": [],
   "source": []
  }
 ],
 "metadata": {
  "kernelspec": {
   "display_name": "Python 3",
   "language": "python",
   "name": "python3"
  },
  "language_info": {
   "codemirror_mode": {
    "name": "ipython",
    "version": 3
   },
   "file_extension": ".py",
   "mimetype": "text/x-python",
   "name": "python",
   "nbconvert_exporter": "python",
   "pygments_lexer": "ipython3",
   "version": "3.8.8"
  },
  "papermill": {
   "default_parameters": {},
   "duration": 4.428521,
   "end_time": "2021-08-12T12:00:07.486823",
   "environment_variables": {},
   "exception": null,
   "input_path": "/Users/saravananshanmugam/Carbonleakage_Git/UsedObjects/eBay_Overview.ipynb",
   "output_path": "/Users/saravananshanmugam/Carbonleakage_Git/UsedObjects/eBay_Overview.ipynb",
   "parameters": {},
   "start_time": "2021-08-12T12:00:03.058302",
   "version": "2.3.3"
  }
 },
 "nbformat": 4,
 "nbformat_minor": 5
}