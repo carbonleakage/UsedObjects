{
 "cells": [
  {
   "cell_type": "code",
   "execution_count": 1,
   "id": "reverse-picking",
   "metadata": {
    "execution": {
     "iopub.execute_input": "2021-09-16T00:30:06.846703Z",
     "iopub.status.busy": "2021-09-16T00:30:06.844714Z",
     "iopub.status.idle": "2021-09-16T00:30:07.646690Z",
     "shell.execute_reply": "2021-09-16T00:30:07.648233Z"
    },
    "papermill": {
     "duration": 0.854525,
     "end_time": "2021-09-16T00:30:07.648913",
     "exception": false,
     "start_time": "2021-09-16T00:30:06.794388",
     "status": "completed"
    },
    "tags": []
   },
   "outputs": [],
   "source": [
    "import pandas as pd\n",
    "import sqlite3"
   ]
  },
  {
   "cell_type": "code",
   "execution_count": 2,
   "id": "innovative-syndrome",
   "metadata": {
    "execution": {
     "iopub.execute_input": "2021-09-16T00:30:07.700871Z",
     "iopub.status.busy": "2021-09-16T00:30:07.698440Z",
     "iopub.status.idle": "2021-09-16T00:30:07.991205Z",
     "shell.execute_reply": "2021-09-16T00:30:07.992560Z"
    },
    "papermill": {
     "duration": 0.323267,
     "end_time": "2021-09-16T00:30:07.992971",
     "exception": false,
     "start_time": "2021-09-16T00:30:07.669704",
     "status": "completed"
    },
    "tags": []
   },
   "outputs": [],
   "source": [
    "timestamps = pd.read_sql(\"select distinct record_time from EBAY_TOP_BERLIN order by record_time desc limit 2\", sqlite3.connect(\"UsedObjects.db\"))"
   ]
  },
  {
   "cell_type": "code",
   "execution_count": 3,
   "id": "periodic-identification",
   "metadata": {
    "execution": {
     "iopub.execute_input": "2021-09-16T00:30:08.060948Z",
     "iopub.status.busy": "2021-09-16T00:30:08.055830Z",
     "iopub.status.idle": "2021-09-16T00:30:08.075558Z",
     "shell.execute_reply": "2021-09-16T00:30:08.076741Z"
    },
    "papermill": {
     "duration": 0.064494,
     "end_time": "2021-09-16T00:30:08.077163",
     "exception": false,
     "start_time": "2021-09-16T00:30:08.012669",
     "status": "completed"
    },
    "tags": []
   },
   "outputs": [
    {
     "data": {
      "text/html": [
       "<div>\n",
       "<style scoped>\n",
       "    .dataframe tbody tr th:only-of-type {\n",
       "        vertical-align: middle;\n",
       "    }\n",
       "\n",
       "    .dataframe tbody tr th {\n",
       "        vertical-align: top;\n",
       "    }\n",
       "\n",
       "    .dataframe thead th {\n",
       "        text-align: right;\n",
       "    }\n",
       "</style>\n",
       "<table border=\"1\" class=\"dataframe\">\n",
       "  <thead>\n",
       "    <tr style=\"text-align: right;\">\n",
       "      <th></th>\n",
       "      <th>RECORD_TIME</th>\n",
       "    </tr>\n",
       "  </thead>\n",
       "  <tbody>\n",
       "    <tr>\n",
       "      <th>0</th>\n",
       "      <td>2021-09-16 02:30</td>\n",
       "    </tr>\n",
       "    <tr>\n",
       "      <th>1</th>\n",
       "      <td>2021-09-16 02:00</td>\n",
       "    </tr>\n",
       "  </tbody>\n",
       "</table>\n",
       "</div>"
      ],
      "text/plain": [
       "        RECORD_TIME\n",
       "0  2021-09-16 02:30\n",
       "1  2021-09-16 02:00"
      ]
     },
     "execution_count": 3,
     "metadata": {},
     "output_type": "execute_result"
    }
   ],
   "source": [
    "timestamps"
   ]
  },
  {
   "cell_type": "code",
   "execution_count": 4,
   "id": "alternate-victory",
   "metadata": {
    "execution": {
     "iopub.execute_input": "2021-09-16T00:30:08.129283Z",
     "iopub.status.busy": "2021-09-16T00:30:08.127123Z",
     "iopub.status.idle": "2021-09-16T00:30:08.569748Z",
     "shell.execute_reply": "2021-09-16T00:30:08.571207Z"
    },
    "papermill": {
     "duration": 0.473198,
     "end_time": "2021-09-16T00:30:08.571640",
     "exception": false,
     "start_time": "2021-09-16T00:30:08.098442",
     "status": "completed"
    },
    "tags": []
   },
   "outputs": [],
   "source": [
    "df = pd.read_sql(\"select * from EBAY_TOP_BERLIN where record_time in (select distinct record_time from EBAY_TOP_BERLIN order by record_time desc limit 2)\", sqlite3.connect(\"UsedObjects.db\"))"
   ]
  },
  {
   "cell_type": "code",
   "execution_count": 5,
   "id": "popular-active",
   "metadata": {
    "execution": {
     "iopub.execute_input": "2021-09-16T00:30:08.651979Z",
     "iopub.status.busy": "2021-09-16T00:30:08.641387Z",
     "iopub.status.idle": "2021-09-16T00:30:08.668429Z",
     "shell.execute_reply": "2021-09-16T00:30:08.669677Z"
    },
    "papermill": {
     "duration": 0.070962,
     "end_time": "2021-09-16T00:30:08.670081",
     "exception": false,
     "start_time": "2021-09-16T00:30:08.599119",
     "status": "completed"
    },
    "tags": []
   },
   "outputs": [],
   "source": [
    "df_pivot = df.pivot_table(index=\"PRODUCT\", columns = \"RECORD_TIME\", values = \"LISTING_COUNT\")"
   ]
  },
  {
   "cell_type": "code",
   "execution_count": 6,
   "id": "union-huntington",
   "metadata": {
    "execution": {
     "iopub.execute_input": "2021-09-16T00:30:08.726737Z",
     "iopub.status.busy": "2021-09-16T00:30:08.724704Z",
     "iopub.status.idle": "2021-09-16T00:30:08.730103Z",
     "shell.execute_reply": "2021-09-16T00:30:08.731385Z"
    },
    "papermill": {
     "duration": 0.040737,
     "end_time": "2021-09-16T00:30:08.731822",
     "exception": false,
     "start_time": "2021-09-16T00:30:08.691085",
     "status": "completed"
    },
    "tags": []
   },
   "outputs": [],
   "source": [
    "df_pivot.columns = [\"stamp_1\", \"stamp_2\"]\n",
    "df_pivot_diff = df_pivot.diff(axis=1)"
   ]
  },
  {
   "cell_type": "code",
   "execution_count": 7,
   "id": "fifth-motion",
   "metadata": {
    "execution": {
     "iopub.execute_input": "2021-09-16T00:30:08.786180Z",
     "iopub.status.busy": "2021-09-16T00:30:08.783797Z",
     "iopub.status.idle": "2021-09-16T00:30:10.278977Z",
     "shell.execute_reply": "2021-09-16T00:30:10.277066Z"
    },
    "papermill": {
     "duration": 1.526939,
     "end_time": "2021-09-16T00:30:10.279372",
     "exception": false,
     "start_time": "2021-09-16T00:30:08.752433",
     "status": "completed"
    },
    "tags": []
   },
   "outputs": [
    {
     "data": {
      "text/plain": [
       "<AxesSubplot:ylabel='PRODUCT'>"
      ]
     },
     "execution_count": 7,
     "metadata": {},
     "output_type": "execute_result"
    },
    {
     "data": {
      "image/png": "[encoded data removed]",
      "text/plain": [
       "<Figure size 432x288 with 1 Axes>"
      ]
     },
     "metadata": {
      "needs_background": "light"
     },
     "output_type": "display_data"
    }
   ],
   "source": [
    "df_pivot_diff.sort_values(\"stamp_2\", ascending = False)[\"stamp_2\"].head(10).plot.barh()"
   ]
  },
  {
   "cell_type": "code",
   "execution_count": null,
   "id": "extra-executive",
   "metadata": {
    "papermill": {
     "duration": 0.022541,
     "end_time": "2021-09-16T00:30:10.326950",
     "exception": false,
     "start_time": "2021-09-16T00:30:10.304409",
     "status": "completed"
    },
    "tags": []
   },
   "outputs": [],
   "source": []
  }
 ],
 "metadata": {
  "kernelspec": {
   "display_name": "Python 3",
   "language": "python",
   "name": "python3"
  },
  "language_info": {
   "codemirror_mode": {
    "name": "ipython",
    "version": 3
   },
   "file_extension": ".py",
   "mimetype": "text/x-python",
   "name": "python",
   "nbconvert_exporter": "python",
   "pygments_lexer": "ipython3",
   "version": "3.9.5"
  },
  "papermill": {
   "default_parameters": {},
   "duration": 6.578569,
   "end_time": "2021-09-16T00:30:10.969200",
   "environment_variables": {},
   "exception": null,
   "input_path": "eBay_Overview.ipynb",
   "output_path": "eBay_Overview.ipynb",
   "parameters": {},
   "start_time": "2021-09-16T00:30:04.390631",
   "version": "2.3.3"
  }
 },
 "nbformat": 4,
 "nbformat_minor": 5
}