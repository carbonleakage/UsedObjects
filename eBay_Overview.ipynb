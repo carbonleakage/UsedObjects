{
 "cells": [
  {
   "cell_type": "code",
   "execution_count": 1,
   "id": "reverse-picking",
   "metadata": {
    "execution": {
     "iopub.execute_input": "2021-11-17T09:30:07.726739Z",
     "iopub.status.busy": "2021-11-17T09:30:07.724298Z",
     "iopub.status.idle": "2021-11-17T09:30:08.675653Z",
     "shell.execute_reply": "2021-11-17T09:30:08.677317Z"
    },
    "papermill": {
     "duration": 1.002797,
     "end_time": "2021-11-17T09:30:08.678112",
     "exception": false,
     "start_time": "2021-11-17T09:30:07.675315",
     "status": "completed"
    },
    "tags": []
   },
   "outputs": [],
   "source": [
    "import pandas as pd\n",
    "import sqlite3"
   ]
  },
  {
   "cell_type": "code",
   "execution_count": 2,
   "id": "innovative-syndrome",
   "metadata": {
    "execution": {
     "iopub.execute_input": "2021-11-17T09:30:08.743590Z",
     "iopub.status.busy": "2021-11-17T09:30:08.740387Z",
     "iopub.status.idle": "2021-11-17T09:30:09.577425Z",
     "shell.execute_reply": "2021-11-17T09:30:09.580263Z"
    },
    "papermill": {
     "duration": 0.873292,
     "end_time": "2021-11-17T09:30:09.581229",
     "exception": false,
     "start_time": "2021-11-17T09:30:08.707937",
     "status": "completed"
    },
    "tags": []
   },
   "outputs": [],
   "source": [
    "timestamps = pd.read_sql(\"select distinct record_time from EBAY_TOP_BERLIN order by record_time desc limit 2\", sqlite3.connect(\"UsedObjects.db\"))"
   ]
  },
  {
   "cell_type": "code",
   "execution_count": 3,
   "id": "periodic-identification",
   "metadata": {
    "execution": {
     "iopub.execute_input": "2021-11-17T09:30:09.654699Z",
     "iopub.status.busy": "2021-11-17T09:30:09.652265Z",
     "iopub.status.idle": "2021-11-17T09:30:09.675174Z",
     "shell.execute_reply": "2021-11-17T09:30:09.676894Z"
    },
    "papermill": {
     "duration": 0.074224,
     "end_time": "2021-11-17T09:30:09.677412",
     "exception": false,
     "start_time": "2021-11-17T09:30:09.603188",
     "status": "completed"
    },
    "tags": []
   },
   "outputs": [
    {
     "data": {
      "text/html": [
       "<div>\n",
       "<style scoped>\n",
       "    .dataframe tbody tr th:only-of-type {\n",
       "        vertical-align: middle;\n",
       "    }\n",
       "\n",
       "    .dataframe tbody tr th {\n",
       "        vertical-align: top;\n",
       "    }\n",
       "\n",
       "    .dataframe thead th {\n",
       "        text-align: right;\n",
       "    }\n",
       "</style>\n",
       "<table border=\"1\" class=\"dataframe\">\n",
       "  <thead>\n",
       "    <tr style=\"text-align: right;\">\n",
       "      <th></th>\n",
       "      <th>RECORD_TIME</th>\n",
       "    </tr>\n",
       "  </thead>\n",
       "  <tbody>\n",
       "    <tr>\n",
       "      <th>0</th>\n",
       "      <td>2021-11-17 10:30</td>\n",
       "    </tr>\n",
       "    <tr>\n",
       "      <th>1</th>\n",
       "      <td>2021-11-17 10:00</td>\n",
       "    </tr>\n",
       "  </tbody>\n",
       "</table>\n",
       "</div>"
      ],
      "text/plain": [
       "        RECORD_TIME\n",
       "0  2021-11-17 10:30\n",
       "1  2021-11-17 10:00"
      ]
     },
     "execution_count": 3,
     "metadata": {},
     "output_type": "execute_result"
    }
   ],
   "source": [
    "timestamps"
   ]
  },
  {
   "cell_type": "code",
   "execution_count": 4,
   "id": "alternate-victory",
   "metadata": {
    "execution": {
     "iopub.execute_input": "2021-11-17T09:30:09.734744Z",
     "iopub.status.busy": "2021-11-17T09:30:09.732625Z",
     "iopub.status.idle": "2021-11-17T09:30:10.957687Z",
     "shell.execute_reply": "2021-11-17T09:30:10.959321Z"
    },
    "papermill": {
     "duration": 1.260475,
     "end_time": "2021-11-17T09:30:10.959828",
     "exception": false,
     "start_time": "2021-11-17T09:30:09.699353",
     "status": "completed"
    },
    "tags": []
   },
   "outputs": [],
   "source": [
    "df = pd.read_sql(\"select * from EBAY_TOP_BERLIN where record_time in (select distinct record_time from EBAY_TOP_BERLIN order by record_time desc limit 2)\", sqlite3.connect(\"UsedObjects.db\"))"
   ]
  },
  {
   "cell_type": "code",
   "execution_count": 5,
   "id": "popular-active",
   "metadata": {
    "execution": {
     "iopub.execute_input": "2021-11-17T09:30:11.042367Z",
     "iopub.status.busy": "2021-11-17T09:30:11.034321Z",
     "iopub.status.idle": "2021-11-17T09:30:11.062472Z",
     "shell.execute_reply": "2021-11-17T09:30:11.060903Z"
    },
    "papermill": {
     "duration": 0.080252,
     "end_time": "2021-11-17T09:30:11.062890",
     "exception": false,
     "start_time": "2021-11-17T09:30:10.982638",
     "status": "completed"
    },
    "tags": []
   },
   "outputs": [],
   "source": [
    "df_pivot = df.pivot_table(index=\"PRODUCT\", columns = \"RECORD_TIME\", values = \"LISTING_COUNT\")"
   ]
  },
  {
   "cell_type": "code",
   "execution_count": 6,
   "id": "union-huntington",
   "metadata": {
    "execution": {
     "iopub.execute_input": "2021-11-17T09:30:11.127880Z",
     "iopub.status.busy": "2021-11-17T09:30:11.125519Z",
     "iopub.status.idle": "2021-11-17T09:30:11.132348Z",
     "shell.execute_reply": "2021-11-17T09:30:11.134210Z"
    },
    "papermill": {
     "duration": 0.049406,
     "end_time": "2021-11-17T09:30:11.134724",
     "exception": false,
     "start_time": "2021-11-17T09:30:11.085318",
     "status": "completed"
    },
    "tags": []
   },
   "outputs": [],
   "source": [
    "df_pivot.columns = [\"stamp_1\", \"stamp_2\"]\n",
    "df_pivot_diff = df_pivot.diff(axis=1)"
   ]
  },
  {
   "cell_type": "code",
   "execution_count": 7,
   "id": "fifth-motion",
   "metadata": {
    "execution": {
     "iopub.execute_input": "2021-11-17T09:30:11.195688Z",
     "iopub.status.busy": "2021-11-17T09:30:11.193197Z",
     "iopub.status.idle": "2021-11-17T09:30:12.942970Z",
     "shell.execute_reply": "2021-11-17T09:30:12.944439Z"
    },
    "papermill": {
     "duration": 1.788684,
     "end_time": "2021-11-17T09:30:12.944978",
     "exception": false,
     "start_time": "2021-11-17T09:30:11.156294",
     "status": "completed"
    },
    "tags": []
   },
   "outputs": [
    {
     "data": {
      "text/plain": [
       "<AxesSubplot:ylabel='PRODUCT'>"
      ]
     },
     "execution_count": 7,
     "metadata": {},
     "output_type": "execute_result"
    },
    {
     "data": {
      "image/png": "[encoded data removed]",
      "text/plain": [
       "<Figure size 432x288 with 1 Axes>"
      ]
     },
     "metadata": {
      "needs_background": "light"
     },
     "output_type": "display_data"
    }
   ],
   "source": [
    "df_pivot_diff.sort_values(\"stamp_2\", ascending = False)[\"stamp_2\"].head(10).plot.barh()"
   ]
  },
  {
   "cell_type": "code",
   "execution_count": null,
   "id": "extra-executive",
   "metadata": {
    "papermill": {
     "duration": 0.023892,
     "end_time": "2021-11-17T09:30:12.993404",
     "exception": false,
     "start_time": "2021-11-17T09:30:12.969512",
     "status": "completed"
    },
    "tags": []
   },
   "outputs": [],
   "source": []
  }
 ],
 "metadata": {
  "kernelspec": {
   "display_name": "Python 3",
   "language": "python",
   "name": "python3"
  },
  "language_info": {
   "codemirror_mode": {
    "name": "ipython",
    "version": 3
   },
   "file_extension": ".py",
   "mimetype": "text/x-python",
   "name": "python",
   "nbconvert_exporter": "python",
   "pygments_lexer": "ipython3",
   "version": "3.9.5"
  },
  "papermill": {
   "default_parameters": {},
   "duration": 10.01185,
   "end_time": "2021-11-17T09:30:14.885954",
   "environment_variables": {},
   "exception": null,
   "input_path": "eBay_Overview.ipynb",
   "output_path": "eBay_Overview.ipynb",
   "parameters": {},
   "start_time": "2021-11-17T09:30:04.874104",
   "version": "2.3.3"
  }
 },
 "nbformat": 4,
 "nbformat_minor": 5
}