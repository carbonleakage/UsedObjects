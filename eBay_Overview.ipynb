{
 "cells": [
  {
   "cell_type": "code",
   "execution_count": 1,
   "id": "reverse-picking",
   "metadata": {
    "execution": {
     "iopub.execute_input": "2021-08-23T18:00:07.031891Z",
     "iopub.status.busy": "2021-08-23T18:00:07.029842Z",
     "iopub.status.idle": "2021-08-23T18:00:07.837743Z",
     "shell.execute_reply": "2021-08-23T18:00:07.836191Z"
    },
    "papermill": {
     "duration": 0.859013,
     "end_time": "2021-08-23T18:00:07.838186",
     "exception": false,
     "start_time": "2021-08-23T18:00:06.979173",
     "status": "completed"
    },
    "tags": []
   },
   "outputs": [],
   "source": [
    "import pandas as pd\n",
    "import sqlite3"
   ]
  },
  {
   "cell_type": "code",
   "execution_count": 2,
   "id": "innovative-syndrome",
   "metadata": {
    "execution": {
     "iopub.execute_input": "2021-08-23T18:00:07.888958Z",
     "iopub.status.busy": "2021-08-23T18:00:07.887080Z",
     "iopub.status.idle": "2021-08-23T18:00:08.000627Z",
     "shell.execute_reply": "2021-08-23T18:00:08.001912Z"
    },
    "papermill": {
     "duration": 0.143225,
     "end_time": "2021-08-23T18:00:08.002409",
     "exception": false,
     "start_time": "2021-08-23T18:00:07.859184",
     "status": "completed"
    },
    "tags": []
   },
   "outputs": [],
   "source": [
    "timestamps = pd.read_sql(\"select distinct record_time from EBAY_TOP_BERLIN order by record_time desc limit 2\", sqlite3.connect(\"UsedObjects.db\"))"
   ]
  },
  {
   "cell_type": "code",
   "execution_count": 3,
   "id": "periodic-identification",
   "metadata": {
    "execution": {
     "iopub.execute_input": "2021-08-23T18:00:08.069048Z",
     "iopub.status.busy": "2021-08-23T18:00:08.067028Z",
     "iopub.status.idle": "2021-08-23T18:00:08.087086Z",
     "shell.execute_reply": "2021-08-23T18:00:08.088440Z"
    },
    "papermill": {
     "duration": 0.066662,
     "end_time": "2021-08-23T18:00:08.088855",
     "exception": false,
     "start_time": "2021-08-23T18:00:08.022193",
     "status": "completed"
    },
    "tags": []
   },
   "outputs": [
    {
     "data": {
      "text/html": [
       "<div>\n",
       "<style scoped>\n",
       "    .dataframe tbody tr th:only-of-type {\n",
       "        vertical-align: middle;\n",
       "    }\n",
       "\n",
       "    .dataframe tbody tr th {\n",
       "        vertical-align: top;\n",
       "    }\n",
       "\n",
       "    .dataframe thead th {\n",
       "        text-align: right;\n",
       "    }\n",
       "</style>\n",
       "<table border=\"1\" class=\"dataframe\">\n",
       "  <thead>\n",
       "    <tr style=\"text-align: right;\">\n",
       "      <th></th>\n",
       "      <th>RECORD_TIME</th>\n",
       "    </tr>\n",
       "  </thead>\n",
       "  <tbody>\n",
       "    <tr>\n",
       "      <th>0</th>\n",
       "      <td>2021-08-23 20:00</td>\n",
       "    </tr>\n",
       "    <tr>\n",
       "      <th>1</th>\n",
       "      <td>2021-08-23 19:30</td>\n",
       "    </tr>\n",
       "  </tbody>\n",
       "</table>\n",
       "</div>"
      ],
      "text/plain": [
       "        RECORD_TIME\n",
       "0  2021-08-23 20:00\n",
       "1  2021-08-23 19:30"
      ]
     },
     "execution_count": 3,
     "metadata": {},
     "output_type": "execute_result"
    }
   ],
   "source": [
    "timestamps"
   ]
  },
  {
   "cell_type": "code",
   "execution_count": 4,
   "id": "alternate-victory",
   "metadata": {
    "execution": {
     "iopub.execute_input": "2021-08-23T18:00:08.140962Z",
     "iopub.status.busy": "2021-08-23T18:00:08.138654Z",
     "iopub.status.idle": "2021-08-23T18:00:08.310108Z",
     "shell.execute_reply": "2021-08-23T18:00:08.311373Z"
    },
    "papermill": {
     "duration": 0.201749,
     "end_time": "2021-08-23T18:00:08.311768",
     "exception": false,
     "start_time": "2021-08-23T18:00:08.110019",
     "status": "completed"
    },
    "tags": []
   },
   "outputs": [],
   "source": [
    "df = pd.read_sql(\"select * from EBAY_TOP_BERLIN where record_time in (select distinct record_time from EBAY_TOP_BERLIN order by record_time desc limit 2)\", sqlite3.connect(\"UsedObjects.db\"))"
   ]
  },
  {
   "cell_type": "code",
   "execution_count": 5,
   "id": "popular-active",
   "metadata": {
    "execution": {
     "iopub.execute_input": "2021-08-23T18:00:08.382503Z",
     "iopub.status.busy": "2021-08-23T18:00:08.370916Z",
     "iopub.status.idle": "2021-08-23T18:00:08.400050Z",
     "shell.execute_reply": "2021-08-23T18:00:08.401355Z"
    },
    "papermill": {
     "duration": 0.068193,
     "end_time": "2021-08-23T18:00:08.401772",
     "exception": false,
     "start_time": "2021-08-23T18:00:08.333579",
     "status": "completed"
    },
    "tags": []
   },
   "outputs": [],
   "source": [
    "df_pivot = df.pivot_table(index=\"PRODUCT\", columns = \"RECORD_TIME\", values = \"LISTING_COUNT\")"
   ]
  },
  {
   "cell_type": "code",
   "execution_count": 6,
   "id": "union-huntington",
   "metadata": {
    "execution": {
     "iopub.execute_input": "2021-08-23T18:00:08.463418Z",
     "iopub.status.busy": "2021-08-23T18:00:08.461192Z",
     "iopub.status.idle": "2021-08-23T18:00:08.466778Z",
     "shell.execute_reply": "2021-08-23T18:00:08.468103Z"
    },
    "papermill": {
     "duration": 0.046425,
     "end_time": "2021-08-23T18:00:08.468517",
     "exception": false,
     "start_time": "2021-08-23T18:00:08.422092",
     "status": "completed"
    },
    "tags": []
   },
   "outputs": [],
   "source": [
    "df_pivot.columns = [\"stamp_1\", \"stamp_2\"]\n",
    "df_pivot_diff = df_pivot.diff(axis=1)"
   ]
  },
  {
   "cell_type": "code",
   "execution_count": 7,
   "id": "fifth-motion",
   "metadata": {
    "execution": {
     "iopub.execute_input": "2021-08-23T18:00:08.521850Z",
     "iopub.status.busy": "2021-08-23T18:00:08.519450Z",
     "iopub.status.idle": "2021-08-23T18:00:10.017254Z",
     "shell.execute_reply": "2021-08-23T18:00:10.019369Z"
    },
    "papermill": {
     "duration": 1.531705,
     "end_time": "2021-08-23T18:00:10.019952",
     "exception": false,
     "start_time": "2021-08-23T18:00:08.488247",
     "status": "completed"
    },
    "tags": []
   },
   "outputs": [
    {
     "data": {
      "text/plain": [
       "<AxesSubplot:ylabel='PRODUCT'>"
      ]
     },
     "execution_count": 7,
     "metadata": {},
     "output_type": "execute_result"
    },
    {
     "data": {
      "image/png": "[encoded data removed]",
      "text/plain": [
       "<Figure size 432x288 with 1 Axes>"
      ]
     },
     "metadata": {
      "needs_background": "light"
     },
     "output_type": "display_data"
    }
   ],
   "source": [
    "df_pivot_diff.sort_values(\"stamp_2\", ascending = False)[\"stamp_2\"].head(10).plot.barh()"
   ]
  },
  {
   "cell_type": "code",
   "execution_count": null,
   "id": "extra-executive",
   "metadata": {
    "papermill": {
     "duration": 0.022493,
     "end_time": "2021-08-23T18:00:10.066756",
     "exception": false,
     "start_time": "2021-08-23T18:00:10.044263",
     "status": "completed"
    },
    "tags": []
   },
   "outputs": [],
   "source": []
  }
 ],
 "metadata": {
  "kernelspec": {
   "display_name": "Python 3",
   "language": "python",
   "name": "python3"
  },
  "language_info": {
   "codemirror_mode": {
    "name": "ipython",
    "version": 3
   },
   "file_extension": ".py",
   "mimetype": "text/x-python",
   "name": "python",
   "nbconvert_exporter": "python",
   "pygments_lexer": "ipython3",
   "version": "3.9.5"
  },
  "papermill": {
   "default_parameters": {},
   "duration": 6.824462,
   "end_time": "2021-08-23T18:00:11.392559",
   "environment_variables": {},
   "exception": null,
   "input_path": "eBay_Overview.ipynb",
   "output_path": "eBay_Overview.ipynb",
   "parameters": {},
   "start_time": "2021-08-23T18:00:04.568097",
   "version": "2.3.3"
  }
 },
 "nbformat": 4,
 "nbformat_minor": 5
}