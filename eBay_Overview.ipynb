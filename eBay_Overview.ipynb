{
 "cells": [
  {
   "cell_type": "code",
   "execution_count": 1,
   "id": "reverse-picking",
   "metadata": {
    "execution": {
     "iopub.execute_input": "2021-09-24T17:00:07.271353Z",
     "iopub.status.busy": "2021-09-24T17:00:07.269338Z",
     "iopub.status.idle": "2021-09-24T17:00:08.077387Z",
     "shell.execute_reply": "2021-09-24T17:00:08.075819Z"
    },
    "papermill": {
     "duration": 0.857017,
     "end_time": "2021-09-24T17:00:08.077784",
     "exception": false,
     "start_time": "2021-09-24T17:00:07.220767",
     "status": "completed"
    },
    "tags": []
   },
   "outputs": [],
   "source": [
    "import pandas as pd\n",
    "import sqlite3"
   ]
  },
  {
   "cell_type": "code",
   "execution_count": 2,
   "id": "innovative-syndrome",
   "metadata": {
    "execution": {
     "iopub.execute_input": "2021-09-24T17:00:08.130778Z",
     "iopub.status.busy": "2021-09-24T17:00:08.128506Z",
     "iopub.status.idle": "2021-09-24T17:00:08.510455Z",
     "shell.execute_reply": "2021-09-24T17:00:08.512424Z"
    },
    "papermill": {
     "duration": 0.412893,
     "end_time": "2021-09-24T17:00:08.512988",
     "exception": false,
     "start_time": "2021-09-24T17:00:08.100095",
     "status": "completed"
    },
    "tags": []
   },
   "outputs": [],
   "source": [
    "timestamps = pd.read_sql(\"select distinct record_time from EBAY_TOP_BERLIN order by record_time desc limit 2\", sqlite3.connect(\"UsedObjects.db\"))"
   ]
  },
  {
   "cell_type": "code",
   "execution_count": 3,
   "id": "periodic-identification",
   "metadata": {
    "execution": {
     "iopub.execute_input": "2021-09-24T17:00:08.578152Z",
     "iopub.status.busy": "2021-09-24T17:00:08.576118Z",
     "iopub.status.idle": "2021-09-24T17:00:08.598357Z",
     "shell.execute_reply": "2021-09-24T17:00:08.600015Z"
    },
    "papermill": {
     "duration": 0.068319,
     "end_time": "2021-09-24T17:00:08.600521",
     "exception": false,
     "start_time": "2021-09-24T17:00:08.532202",
     "status": "completed"
    },
    "tags": []
   },
   "outputs": [
    {
     "data": {
      "text/html": [
       "<div>\n",
       "<style scoped>\n",
       "    .dataframe tbody tr th:only-of-type {\n",
       "        vertical-align: middle;\n",
       "    }\n",
       "\n",
       "    .dataframe tbody tr th {\n",
       "        vertical-align: top;\n",
       "    }\n",
       "\n",
       "    .dataframe thead th {\n",
       "        text-align: right;\n",
       "    }\n",
       "</style>\n",
       "<table border=\"1\" class=\"dataframe\">\n",
       "  <thead>\n",
       "    <tr style=\"text-align: right;\">\n",
       "      <th></th>\n",
       "      <th>RECORD_TIME</th>\n",
       "    </tr>\n",
       "  </thead>\n",
       "  <tbody>\n",
       "    <tr>\n",
       "      <th>0</th>\n",
       "      <td>2021-09-24 19:00</td>\n",
       "    </tr>\n",
       "    <tr>\n",
       "      <th>1</th>\n",
       "      <td>2021-09-24 18:30</td>\n",
       "    </tr>\n",
       "  </tbody>\n",
       "</table>\n",
       "</div>"
      ],
      "text/plain": [
       "        RECORD_TIME\n",
       "0  2021-09-24 19:00\n",
       "1  2021-09-24 18:30"
      ]
     },
     "execution_count": 3,
     "metadata": {},
     "output_type": "execute_result"
    }
   ],
   "source": [
    "timestamps"
   ]
  },
  {
   "cell_type": "code",
   "execution_count": 4,
   "id": "alternate-victory",
   "metadata": {
    "execution": {
     "iopub.execute_input": "2021-09-24T17:00:08.652898Z",
     "iopub.status.busy": "2021-09-24T17:00:08.651059Z",
     "iopub.status.idle": "2021-09-24T17:00:09.186018Z",
     "shell.execute_reply": "2021-09-24T17:00:09.187369Z"
    },
    "papermill": {
     "duration": 0.565502,
     "end_time": "2021-09-24T17:00:09.187796",
     "exception": false,
     "start_time": "2021-09-24T17:00:08.622294",
     "status": "completed"
    },
    "tags": []
   },
   "outputs": [],
   "source": [
    "df = pd.read_sql(\"select * from EBAY_TOP_BERLIN where record_time in (select distinct record_time from EBAY_TOP_BERLIN order by record_time desc limit 2)\", sqlite3.connect(\"UsedObjects.db\"))"
   ]
  },
  {
   "cell_type": "code",
   "execution_count": 5,
   "id": "popular-active",
   "metadata": {
    "execution": {
     "iopub.execute_input": "2021-09-24T17:00:09.267991Z",
     "iopub.status.busy": "2021-09-24T17:00:09.257092Z",
     "iopub.status.idle": "2021-09-24T17:00:09.284210Z",
     "shell.execute_reply": "2021-09-24T17:00:09.285569Z"
    },
    "papermill": {
     "duration": 0.072159,
     "end_time": "2021-09-24T17:00:09.286012",
     "exception": false,
     "start_time": "2021-09-24T17:00:09.213853",
     "status": "completed"
    },
    "tags": []
   },
   "outputs": [],
   "source": [
    "df_pivot = df.pivot_table(index=\"PRODUCT\", columns = \"RECORD_TIME\", values = \"LISTING_COUNT\")"
   ]
  },
  {
   "cell_type": "code",
   "execution_count": 6,
   "id": "union-huntington",
   "metadata": {
    "execution": {
     "iopub.execute_input": "2021-09-24T17:00:09.346539Z",
     "iopub.status.busy": "2021-09-24T17:00:09.344107Z",
     "iopub.status.idle": "2021-09-24T17:00:09.349898Z",
     "shell.execute_reply": "2021-09-24T17:00:09.351155Z"
    },
    "papermill": {
     "duration": 0.042233,
     "end_time": "2021-09-24T17:00:09.351592",
     "exception": false,
     "start_time": "2021-09-24T17:00:09.309359",
     "status": "completed"
    },
    "tags": []
   },
   "outputs": [],
   "source": [
    "df_pivot.columns = [\"stamp_1\", \"stamp_2\"]\n",
    "df_pivot_diff = df_pivot.diff(axis=1)"
   ]
  },
  {
   "cell_type": "code",
   "execution_count": 7,
   "id": "fifth-motion",
   "metadata": {
    "execution": {
     "iopub.execute_input": "2021-09-24T17:00:09.406022Z",
     "iopub.status.busy": "2021-09-24T17:00:09.403727Z",
     "iopub.status.idle": "2021-09-24T17:00:10.894540Z",
     "shell.execute_reply": "2021-09-24T17:00:10.895802Z"
    },
    "papermill": {
     "duration": 1.524062,
     "end_time": "2021-09-24T17:00:10.896248",
     "exception": false,
     "start_time": "2021-09-24T17:00:09.372186",
     "status": "completed"
    },
    "tags": []
   },
   "outputs": [
    {
     "data": {
      "text/plain": [
       "<AxesSubplot:ylabel='PRODUCT'>"
      ]
     },
     "execution_count": 7,
     "metadata": {},
     "output_type": "execute_result"
    },
    {
     "data": {
      "image/png": "[encoded data removed]",
      "text/plain": [
       "<Figure size 432x288 with 1 Axes>"
      ]
     },
     "metadata": {
      "needs_background": "light"
     },
     "output_type": "display_data"
    }
   ],
   "source": [
    "df_pivot_diff.sort_values(\"stamp_2\", ascending = False)[\"stamp_2\"].head(10).plot.barh()"
   ]
  },
  {
   "cell_type": "code",
   "execution_count": null,
   "id": "extra-executive",
   "metadata": {
    "papermill": {
     "duration": 0.022255,
     "end_time": "2021-09-24T17:00:10.942534",
     "exception": false,
     "start_time": "2021-09-24T17:00:10.920279",
     "status": "completed"
    },
    "tags": []
   },
   "outputs": [],
   "source": []
  }
 ],
 "metadata": {
  "kernelspec": {
   "display_name": "Python 3",
   "language": "python",
   "name": "python3"
  },
  "language_info": {
   "codemirror_mode": {
    "name": "ipython",
    "version": 3
   },
   "file_extension": ".py",
   "mimetype": "text/x-python",
   "name": "python",
   "nbconvert_exporter": "python",
   "pygments_lexer": "ipython3",
   "version": "3.9.5"
  },
  "papermill": {
   "default_parameters": {},
   "duration": 6.772392,
   "end_time": "2021-09-24T17:00:11.585010",
   "environment_variables": {},
   "exception": null,
   "input_path": "eBay_Overview.ipynb",
   "output_path": "eBay_Overview.ipynb",
   "parameters": {},
   "start_time": "2021-09-24T17:00:04.812618",
   "version": "2.3.3"
  }
 },
 "nbformat": 4,
 "nbformat_minor": 5
}