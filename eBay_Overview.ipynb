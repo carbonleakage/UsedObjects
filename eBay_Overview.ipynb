{
 "cells": [
  {
   "cell_type": "code",
   "execution_count": 1,
   "id": "reverse-picking",
   "metadata": {
    "execution": {
     "iopub.execute_input": "2021-08-28T21:30:07.319977Z",
     "iopub.status.busy": "2021-08-28T21:30:07.318047Z",
     "iopub.status.idle": "2021-08-28T21:30:08.122037Z",
     "shell.execute_reply": "2021-08-28T21:30:08.120274Z"
    },
    "papermill": {
     "duration": 0.854697,
     "end_time": "2021-08-28T21:30:08.122488",
     "exception": false,
     "start_time": "2021-08-28T21:30:07.267791",
     "status": "completed"
    },
    "tags": []
   },
   "outputs": [],
   "source": [
    "import pandas as pd\n",
    "import sqlite3"
   ]
  },
  {
   "cell_type": "code",
   "execution_count": 2,
   "id": "innovative-syndrome",
   "metadata": {
    "execution": {
     "iopub.execute_input": "2021-08-28T21:30:08.174234Z",
     "iopub.status.busy": "2021-08-28T21:30:08.171814Z",
     "iopub.status.idle": "2021-08-28T21:30:08.327541Z",
     "shell.execute_reply": "2021-08-28T21:30:08.329028Z"
    },
    "papermill": {
     "duration": 0.186242,
     "end_time": "2021-08-28T21:30:08.329483",
     "exception": false,
     "start_time": "2021-08-28T21:30:08.143241",
     "status": "completed"
    },
    "tags": []
   },
   "outputs": [],
   "source": [
    "timestamps = pd.read_sql(\"select distinct record_time from EBAY_TOP_BERLIN order by record_time desc limit 2\", sqlite3.connect(\"UsedObjects.db\"))"
   ]
  },
  {
   "cell_type": "code",
   "execution_count": 3,
   "id": "periodic-identification",
   "metadata": {
    "execution": {
     "iopub.execute_input": "2021-08-28T21:30:08.394681Z",
     "iopub.status.busy": "2021-08-28T21:30:08.392623Z",
     "iopub.status.idle": "2021-08-28T21:30:08.414542Z",
     "shell.execute_reply": "2021-08-28T21:30:08.415694Z"
    },
    "papermill": {
     "duration": 0.066873,
     "end_time": "2021-08-28T21:30:08.416106",
     "exception": false,
     "start_time": "2021-08-28T21:30:08.349233",
     "status": "completed"
    },
    "tags": []
   },
   "outputs": [
    {
     "data": {
      "text/html": [
       "<div>\n",
       "<style scoped>\n",
       "    .dataframe tbody tr th:only-of-type {\n",
       "        vertical-align: middle;\n",
       "    }\n",
       "\n",
       "    .dataframe tbody tr th {\n",
       "        vertical-align: top;\n",
       "    }\n",
       "\n",
       "    .dataframe thead th {\n",
       "        text-align: right;\n",
       "    }\n",
       "</style>\n",
       "<table border=\"1\" class=\"dataframe\">\n",
       "  <thead>\n",
       "    <tr style=\"text-align: right;\">\n",
       "      <th></th>\n",
       "      <th>RECORD_TIME</th>\n",
       "    </tr>\n",
       "  </thead>\n",
       "  <tbody>\n",
       "    <tr>\n",
       "      <th>0</th>\n",
       "      <td>2021-08-28 23:30</td>\n",
       "    </tr>\n",
       "    <tr>\n",
       "      <th>1</th>\n",
       "      <td>2021-08-28 23:00</td>\n",
       "    </tr>\n",
       "  </tbody>\n",
       "</table>\n",
       "</div>"
      ],
      "text/plain": [
       "        RECORD_TIME\n",
       "0  2021-08-28 23:30\n",
       "1  2021-08-28 23:00"
      ]
     },
     "execution_count": 3,
     "metadata": {},
     "output_type": "execute_result"
    }
   ],
   "source": [
    "timestamps"
   ]
  },
  {
   "cell_type": "code",
   "execution_count": 4,
   "id": "alternate-victory",
   "metadata": {
    "execution": {
     "iopub.execute_input": "2021-08-28T21:30:08.469275Z",
     "iopub.status.busy": "2021-08-28T21:30:08.466883Z",
     "iopub.status.idle": "2021-08-28T21:30:08.698776Z",
     "shell.execute_reply": "2021-08-28T21:30:08.700012Z"
    },
    "papermill": {
     "duration": 0.262354,
     "end_time": "2021-08-28T21:30:08.700460",
     "exception": false,
     "start_time": "2021-08-28T21:30:08.438106",
     "status": "completed"
    },
    "tags": []
   },
   "outputs": [],
   "source": [
    "df = pd.read_sql(\"select * from EBAY_TOP_BERLIN where record_time in (select distinct record_time from EBAY_TOP_BERLIN order by record_time desc limit 2)\", sqlite3.connect(\"UsedObjects.db\"))"
   ]
  },
  {
   "cell_type": "code",
   "execution_count": 5,
   "id": "popular-active",
   "metadata": {
    "execution": {
     "iopub.execute_input": "2021-08-28T21:30:08.792155Z",
     "iopub.status.busy": "2021-08-28T21:30:08.779379Z",
     "iopub.status.idle": "2021-08-28T21:30:08.807986Z",
     "shell.execute_reply": "2021-08-28T21:30:08.809373Z"
    },
    "papermill": {
     "duration": 0.088891,
     "end_time": "2021-08-28T21:30:08.809795",
     "exception": false,
     "start_time": "2021-08-28T21:30:08.720904",
     "status": "completed"
    },
    "tags": []
   },
   "outputs": [],
   "source": [
    "df_pivot = df.pivot_table(index=\"PRODUCT\", columns = \"RECORD_TIME\", values = \"LISTING_COUNT\")"
   ]
  },
  {
   "cell_type": "code",
   "execution_count": 6,
   "id": "union-huntington",
   "metadata": {
    "execution": {
     "iopub.execute_input": "2021-08-28T21:30:08.865982Z",
     "iopub.status.busy": "2021-08-28T21:30:08.863851Z",
     "iopub.status.idle": "2021-08-28T21:30:08.869212Z",
     "shell.execute_reply": "2021-08-28T21:30:08.870418Z"
    },
    "papermill": {
     "duration": 0.040363,
     "end_time": "2021-08-28T21:30:08.870848",
     "exception": false,
     "start_time": "2021-08-28T21:30:08.830485",
     "status": "completed"
    },
    "tags": []
   },
   "outputs": [],
   "source": [
    "df_pivot.columns = [\"stamp_1\", \"stamp_2\"]\n",
    "df_pivot_diff = df_pivot.diff(axis=1)"
   ]
  },
  {
   "cell_type": "code",
   "execution_count": 7,
   "id": "fifth-motion",
   "metadata": {
    "execution": {
     "iopub.execute_input": "2021-08-28T21:30:08.925995Z",
     "iopub.status.busy": "2021-08-28T21:30:08.923449Z",
     "iopub.status.idle": "2021-08-28T21:30:10.427903Z",
     "shell.execute_reply": "2021-08-28T21:30:10.429260Z"
    },
    "papermill": {
     "duration": 1.537895,
     "end_time": "2021-08-28T21:30:10.429718",
     "exception": false,
     "start_time": "2021-08-28T21:30:08.891823",
     "status": "completed"
    },
    "tags": []
   },
   "outputs": [
    {
     "data": {
      "text/plain": [
       "<AxesSubplot:ylabel='PRODUCT'>"
      ]
     },
     "execution_count": 7,
     "metadata": {},
     "output_type": "execute_result"
    },
    {
     "data": {
      "image/png": "[encoded data removed]",
      "text/plain": [
       "<Figure size 432x288 with 1 Axes>"
      ]
     },
     "metadata": {
      "needs_background": "light"
     },
     "output_type": "display_data"
    }
   ],
   "source": [
    "df_pivot_diff.sort_values(\"stamp_2\", ascending = False)[\"stamp_2\"].head(10).plot.barh()"
   ]
  },
  {
   "cell_type": "code",
   "execution_count": null,
   "id": "extra-executive",
   "metadata": {
    "papermill": {
     "duration": 0.02248,
     "end_time": "2021-08-28T21:30:10.477019",
     "exception": false,
     "start_time": "2021-08-28T21:30:10.454539",
     "status": "completed"
    },
    "tags": []
   },
   "outputs": [],
   "source": []
  }
 ],
 "metadata": {
  "kernelspec": {
   "display_name": "Python 3",
   "language": "python",
   "name": "python3"
  },
  "language_info": {
   "codemirror_mode": {
    "name": "ipython",
    "version": 3
   },
   "file_extension": ".py",
   "mimetype": "text/x-python",
   "name": "python",
   "nbconvert_exporter": "python",
   "pygments_lexer": "ipython3",
   "version": "3.9.5"
  },
  "papermill": {
   "default_parameters": {},
   "duration": 6.82361,
   "end_time": "2021-08-28T21:30:11.680564",
   "environment_variables": {},
   "exception": null,
   "input_path": "eBay_Overview.ipynb",
   "output_path": "eBay_Overview.ipynb",
   "parameters": {},
   "start_time": "2021-08-28T21:30:04.856954",
   "version": "2.3.3"
  }
 },
 "nbformat": 4,
 "nbformat_minor": 5
}