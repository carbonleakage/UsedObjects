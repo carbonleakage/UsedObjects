{
 "cells": [
  {
   "cell_type": "code",
   "execution_count": 1,
   "id": "reverse-picking",
   "metadata": {
    "execution": {
     "iopub.execute_input": "2021-09-09T00:00:06.924573Z",
     "iopub.status.busy": "2021-09-09T00:00:06.922565Z",
     "iopub.status.idle": "2021-09-09T00:00:07.732778Z",
     "shell.execute_reply": "2021-09-09T00:00:07.734009Z"
    },
    "papermill": {
     "duration": 0.862449,
     "end_time": "2021-09-09T00:00:07.734634",
     "exception": false,
     "start_time": "2021-09-09T00:00:06.872185",
     "status": "completed"
    },
    "tags": []
   },
   "outputs": [],
   "source": [
    "import pandas as pd\n",
    "import sqlite3"
   ]
  },
  {
   "cell_type": "code",
   "execution_count": 2,
   "id": "innovative-syndrome",
   "metadata": {
    "execution": {
     "iopub.execute_input": "2021-09-09T00:00:07.787637Z",
     "iopub.status.busy": "2021-09-09T00:00:07.785181Z",
     "iopub.status.idle": "2021-09-09T00:00:08.030355Z",
     "shell.execute_reply": "2021-09-09T00:00:08.031622Z"
    },
    "papermill": {
     "duration": 0.275103,
     "end_time": "2021-09-09T00:00:08.032019",
     "exception": false,
     "start_time": "2021-09-09T00:00:07.756916",
     "status": "completed"
    },
    "tags": []
   },
   "outputs": [],
   "source": [
    "timestamps = pd.read_sql(\"select distinct record_time from EBAY_TOP_BERLIN order by record_time desc limit 2\", sqlite3.connect(\"UsedObjects.db\"))"
   ]
  },
  {
   "cell_type": "code",
   "execution_count": 3,
   "id": "periodic-identification",
   "metadata": {
    "execution": {
     "iopub.execute_input": "2021-09-09T00:00:08.095044Z",
     "iopub.status.busy": "2021-09-09T00:00:08.092978Z",
     "iopub.status.idle": "2021-09-09T00:00:08.113518Z",
     "shell.execute_reply": "2021-09-09T00:00:08.114705Z"
    },
    "papermill": {
     "duration": 0.063837,
     "end_time": "2021-09-09T00:00:08.115189",
     "exception": false,
     "start_time": "2021-09-09T00:00:08.051352",
     "status": "completed"
    },
    "tags": []
   },
   "outputs": [
    {
     "data": {
      "text/html": [
       "<div>\n",
       "<style scoped>\n",
       "    .dataframe tbody tr th:only-of-type {\n",
       "        vertical-align: middle;\n",
       "    }\n",
       "\n",
       "    .dataframe tbody tr th {\n",
       "        vertical-align: top;\n",
       "    }\n",
       "\n",
       "    .dataframe thead th {\n",
       "        text-align: right;\n",
       "    }\n",
       "</style>\n",
       "<table border=\"1\" class=\"dataframe\">\n",
       "  <thead>\n",
       "    <tr style=\"text-align: right;\">\n",
       "      <th></th>\n",
       "      <th>RECORD_TIME</th>\n",
       "    </tr>\n",
       "  </thead>\n",
       "  <tbody>\n",
       "    <tr>\n",
       "      <th>0</th>\n",
       "      <td>2021-09-09 02:00</td>\n",
       "    </tr>\n",
       "    <tr>\n",
       "      <th>1</th>\n",
       "      <td>2021-09-09 01:30</td>\n",
       "    </tr>\n",
       "  </tbody>\n",
       "</table>\n",
       "</div>"
      ],
      "text/plain": [
       "        RECORD_TIME\n",
       "0  2021-09-09 02:00\n",
       "1  2021-09-09 01:30"
      ]
     },
     "execution_count": 3,
     "metadata": {},
     "output_type": "execute_result"
    }
   ],
   "source": [
    "timestamps"
   ]
  },
  {
   "cell_type": "code",
   "execution_count": 4,
   "id": "alternate-victory",
   "metadata": {
    "execution": {
     "iopub.execute_input": "2021-09-09T00:00:08.166827Z",
     "iopub.status.busy": "2021-09-09T00:00:08.164988Z",
     "iopub.status.idle": "2021-09-09T00:00:08.525885Z",
     "shell.execute_reply": "2021-09-09T00:00:08.527193Z"
    },
    "papermill": {
     "duration": 0.390677,
     "end_time": "2021-09-09T00:00:08.527612",
     "exception": false,
     "start_time": "2021-09-09T00:00:08.136935",
     "status": "completed"
    },
    "tags": []
   },
   "outputs": [],
   "source": [
    "df = pd.read_sql(\"select * from EBAY_TOP_BERLIN where record_time in (select distinct record_time from EBAY_TOP_BERLIN order by record_time desc limit 2)\", sqlite3.connect(\"UsedObjects.db\"))"
   ]
  },
  {
   "cell_type": "code",
   "execution_count": 5,
   "id": "popular-active",
   "metadata": {
    "execution": {
     "iopub.execute_input": "2021-09-09T00:00:08.611352Z",
     "iopub.status.busy": "2021-09-09T00:00:08.599630Z",
     "iopub.status.idle": "2021-09-09T00:00:08.627894Z",
     "shell.execute_reply": "2021-09-09T00:00:08.629110Z"
    },
    "papermill": {
     "duration": 0.073245,
     "end_time": "2021-09-09T00:00:08.629501",
     "exception": false,
     "start_time": "2021-09-09T00:00:08.556256",
     "status": "completed"
    },
    "tags": []
   },
   "outputs": [],
   "source": [
    "df_pivot = df.pivot_table(index=\"PRODUCT\", columns = \"RECORD_TIME\", values = \"LISTING_COUNT\")"
   ]
  },
  {
   "cell_type": "code",
   "execution_count": 6,
   "id": "union-huntington",
   "metadata": {
    "execution": {
     "iopub.execute_input": "2021-09-09T00:00:08.688441Z",
     "iopub.status.busy": "2021-09-09T00:00:08.685964Z",
     "iopub.status.idle": "2021-09-09T00:00:08.691850Z",
     "shell.execute_reply": "2021-09-09T00:00:08.693138Z"
    },
    "papermill": {
     "duration": 0.041936,
     "end_time": "2021-09-09T00:00:08.693543",
     "exception": false,
     "start_time": "2021-09-09T00:00:08.651607",
     "status": "completed"
    },
    "tags": []
   },
   "outputs": [],
   "source": [
    "df_pivot.columns = [\"stamp_1\", \"stamp_2\"]\n",
    "df_pivot_diff = df_pivot.diff(axis=1)"
   ]
  },
  {
   "cell_type": "code",
   "execution_count": 7,
   "id": "fifth-motion",
   "metadata": {
    "execution": {
     "iopub.execute_input": "2021-09-09T00:00:08.746519Z",
     "iopub.status.busy": "2021-09-09T00:00:08.744321Z",
     "iopub.status.idle": "2021-09-09T00:00:10.268308Z",
     "shell.execute_reply": "2021-09-09T00:00:10.269571Z"
    },
    "papermill": {
     "duration": 1.556145,
     "end_time": "2021-09-09T00:00:10.269982",
     "exception": false,
     "start_time": "2021-09-09T00:00:08.713837",
     "status": "completed"
    },
    "tags": []
   },
   "outputs": [
    {
     "data": {
      "text/plain": [
       "<AxesSubplot:ylabel='PRODUCT'>"
      ]
     },
     "execution_count": 7,
     "metadata": {},
     "output_type": "execute_result"
    },
    {
     "data": {
      "image/png": "[encoded data removed]",
      "text/plain": [
       "<Figure size 432x288 with 1 Axes>"
      ]
     },
     "metadata": {
      "needs_background": "light"
     },
     "output_type": "display_data"
    }
   ],
   "source": [
    "df_pivot_diff.sort_values(\"stamp_2\", ascending = False)[\"stamp_2\"].head(10).plot.barh()"
   ]
  },
  {
   "cell_type": "code",
   "execution_count": null,
   "id": "extra-executive",
   "metadata": {
    "papermill": {
     "duration": 0.022038,
     "end_time": "2021-09-09T00:00:10.318070",
     "exception": false,
     "start_time": "2021-09-09T00:00:10.296032",
     "status": "completed"
    },
    "tags": []
   },
   "outputs": [],
   "source": []
  }
 ],
 "metadata": {
  "kernelspec": {
   "display_name": "Python 3",
   "language": "python",
   "name": "python3"
  },
  "language_info": {
   "codemirror_mode": {
    "name": "ipython",
    "version": 3
   },
   "file_extension": ".py",
   "mimetype": "text/x-python",
   "name": "python",
   "nbconvert_exporter": "python",
   "pygments_lexer": "ipython3",
   "version": "3.9.5"
  },
  "papermill": {
   "default_parameters": {},
   "duration": 6.505217,
   "end_time": "2021-09-09T00:00:10.957817",
   "environment_variables": {},
   "exception": null,
   "input_path": "eBay_Overview.ipynb",
   "output_path": "eBay_Overview.ipynb",
   "parameters": {},
   "start_time": "2021-09-09T00:00:04.452600",
   "version": "2.3.3"
  }
 },
 "nbformat": 4,
 "nbformat_minor": 5
}