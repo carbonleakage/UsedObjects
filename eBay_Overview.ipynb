{
 "cells": [
  {
   "cell_type": "code",
   "execution_count": 1,
   "id": "reverse-picking",
   "metadata": {
    "execution": {
     "iopub.execute_input": "2021-12-06T17:30:08.132343Z",
     "iopub.status.busy": "2021-12-06T17:30:08.130208Z",
     "iopub.status.idle": "2021-12-06T17:30:09.104375Z",
     "shell.execute_reply": "2021-12-06T17:30:09.106043Z"
    },
    "papermill": {
     "duration": 1.023159,
     "end_time": "2021-12-06T17:30:09.106776",
     "exception": false,
     "start_time": "2021-12-06T17:30:08.083617",
     "status": "completed"
    },
    "tags": []
   },
   "outputs": [],
   "source": [
    "import pandas as pd\n",
    "import sqlite3"
   ]
  },
  {
   "cell_type": "code",
   "execution_count": 2,
   "id": "innovative-syndrome",
   "metadata": {
    "execution": {
     "iopub.execute_input": "2021-12-06T17:30:09.169566Z",
     "iopub.status.busy": "2021-12-06T17:30:09.167048Z",
     "iopub.status.idle": "2021-12-06T17:30:10.183076Z",
     "shell.execute_reply": "2021-12-06T17:30:10.184395Z"
    },
    "papermill": {
     "duration": 1.050409,
     "end_time": "2021-12-06T17:30:10.184912",
     "exception": false,
     "start_time": "2021-12-06T17:30:09.134503",
     "status": "completed"
    },
    "tags": []
   },
   "outputs": [],
   "source": [
    "timestamps = pd.read_sql(\"select distinct record_time from EBAY_TOP_BERLIN order by record_time desc limit 2\", sqlite3.connect(\"UsedObjects.db\"))"
   ]
  },
  {
   "cell_type": "code",
   "execution_count": 3,
   "id": "periodic-identification",
   "metadata": {
    "execution": {
     "iopub.execute_input": "2021-12-06T17:30:10.253073Z",
     "iopub.status.busy": "2021-12-06T17:30:10.250691Z",
     "iopub.status.idle": "2021-12-06T17:30:10.272572Z",
     "shell.execute_reply": "2021-12-06T17:30:10.274063Z"
    },
    "papermill": {
     "duration": 0.069636,
     "end_time": "2021-12-06T17:30:10.274577",
     "exception": false,
     "start_time": "2021-12-06T17:30:10.204941",
     "status": "completed"
    },
    "tags": []
   },
   "outputs": [
    {
     "data": {
      "text/html": [
       "<div>\n",
       "<style scoped>\n",
       "    .dataframe tbody tr th:only-of-type {\n",
       "        vertical-align: middle;\n",
       "    }\n",
       "\n",
       "    .dataframe tbody tr th {\n",
       "        vertical-align: top;\n",
       "    }\n",
       "\n",
       "    .dataframe thead th {\n",
       "        text-align: right;\n",
       "    }\n",
       "</style>\n",
       "<table border=\"1\" class=\"dataframe\">\n",
       "  <thead>\n",
       "    <tr style=\"text-align: right;\">\n",
       "      <th></th>\n",
       "      <th>RECORD_TIME</th>\n",
       "    </tr>\n",
       "  </thead>\n",
       "  <tbody>\n",
       "    <tr>\n",
       "      <th>0</th>\n",
       "      <td>2021-12-06 18:30</td>\n",
       "    </tr>\n",
       "    <tr>\n",
       "      <th>1</th>\n",
       "      <td>2021-12-06 18:00</td>\n",
       "    </tr>\n",
       "  </tbody>\n",
       "</table>\n",
       "</div>"
      ],
      "text/plain": [
       "        RECORD_TIME\n",
       "0  2021-12-06 18:30\n",
       "1  2021-12-06 18:00"
      ]
     },
     "execution_count": 3,
     "metadata": {},
     "output_type": "execute_result"
    }
   ],
   "source": [
    "timestamps"
   ]
  },
  {
   "cell_type": "code",
   "execution_count": 4,
   "id": "alternate-victory",
   "metadata": {
    "execution": {
     "iopub.execute_input": "2021-12-06T17:30:10.340819Z",
     "iopub.status.busy": "2021-12-06T17:30:10.337008Z",
     "iopub.status.idle": "2021-12-06T17:30:11.816786Z",
     "shell.execute_reply": "2021-12-06T17:30:11.818544Z"
    },
    "papermill": {
     "duration": 1.522754,
     "end_time": "2021-12-06T17:30:11.819079",
     "exception": false,
     "start_time": "2021-12-06T17:30:10.296325",
     "status": "completed"
    },
    "tags": []
   },
   "outputs": [],
   "source": [
    "df = pd.read_sql(\"select * from EBAY_TOP_BERLIN where record_time in (select distinct record_time from EBAY_TOP_BERLIN order by record_time desc limit 2)\", sqlite3.connect(\"UsedObjects.db\"))"
   ]
  },
  {
   "cell_type": "code",
   "execution_count": 5,
   "id": "popular-active",
   "metadata": {
    "execution": {
     "iopub.execute_input": "2021-12-06T17:30:11.941782Z",
     "iopub.status.busy": "2021-12-06T17:30:11.916650Z",
     "iopub.status.idle": "2021-12-06T17:30:11.980400Z",
     "shell.execute_reply": "2021-12-06T17:30:11.977488Z"
    },
    "papermill": {
     "duration": 0.128454,
     "end_time": "2021-12-06T17:30:11.981102",
     "exception": false,
     "start_time": "2021-12-06T17:30:11.852648",
     "status": "completed"
    },
    "tags": []
   },
   "outputs": [],
   "source": [
    "df_pivot = df.pivot_table(index=\"PRODUCT\", columns = \"RECORD_TIME\", values = \"LISTING_COUNT\")"
   ]
  },
  {
   "cell_type": "code",
   "execution_count": 6,
   "id": "union-huntington",
   "metadata": {
    "execution": {
     "iopub.execute_input": "2021-12-06T17:30:12.076475Z",
     "iopub.status.busy": "2021-12-06T17:30:12.072542Z",
     "iopub.status.idle": "2021-12-06T17:30:12.084409Z",
     "shell.execute_reply": "2021-12-06T17:30:12.087495Z"
    },
    "papermill": {
     "duration": 0.0756,
     "end_time": "2021-12-06T17:30:12.088366",
     "exception": false,
     "start_time": "2021-12-06T17:30:12.012766",
     "status": "completed"
    },
    "tags": []
   },
   "outputs": [],
   "source": [
    "df_pivot.columns = [\"stamp_1\", \"stamp_2\"]\n",
    "df_pivot_diff = df_pivot.diff(axis=1)"
   ]
  },
  {
   "cell_type": "code",
   "execution_count": 7,
   "id": "fifth-motion",
   "metadata": {
    "execution": {
     "iopub.execute_input": "2021-12-06T17:30:12.171362Z",
     "iopub.status.busy": "2021-12-06T17:30:12.168280Z",
     "iopub.status.idle": "2021-12-06T17:30:13.955055Z",
     "shell.execute_reply": "2021-12-06T17:30:13.956337Z"
    },
    "papermill": {
     "duration": 1.835487,
     "end_time": "2021-12-06T17:30:13.956816",
     "exception": false,
     "start_time": "2021-12-06T17:30:12.121329",
     "status": "completed"
    },
    "tags": []
   },
   "outputs": [
    {
     "data": {
      "text/plain": [
       "<AxesSubplot:ylabel='PRODUCT'>"
      ]
     },
     "execution_count": 7,
     "metadata": {},
     "output_type": "execute_result"
    },
    {
     "data": {
      "image/png": "[encoded data removed]",
      "text/plain": [
       "<Figure size 432x288 with 1 Axes>"
      ]
     },
     "metadata": {
      "needs_background": "light"
     },
     "output_type": "display_data"
    }
   ],
   "source": [
    "df_pivot_diff.sort_values(\"stamp_2\", ascending = False)[\"stamp_2\"].head(10).plot.barh()"
   ]
  },
  {
   "cell_type": "code",
   "execution_count": null,
   "id": "extra-executive",
   "metadata": {
    "papermill": {
     "duration": 0.022094,
     "end_time": "2021-12-06T17:30:14.004118",
     "exception": false,
     "start_time": "2021-12-06T17:30:13.982024",
     "status": "completed"
    },
    "tags": []
   },
   "outputs": [],
   "source": []
  }
 ],
 "metadata": {
  "kernelspec": {
   "display_name": "Python 3",
   "language": "python",
   "name": "python3"
  },
  "language_info": {
   "codemirror_mode": {
    "name": "ipython",
    "version": 3
   },
   "file_extension": ".py",
   "mimetype": "text/x-python",
   "name": "python",
   "nbconvert_exporter": "python",
   "pygments_lexer": "ipython3",
   "version": "3.9.5"
  },
  "papermill": {
   "default_parameters": {},
   "duration": 9.951579,
   "end_time": "2021-12-06T17:30:15.270441",
   "environment_variables": {},
   "exception": null,
   "input_path": "eBay_Overview.ipynb",
   "output_path": "eBay_Overview.ipynb",
   "parameters": {},
   "start_time": "2021-12-06T17:30:05.318862",
   "version": "2.3.3"
  }
 },
 "nbformat": 4,
 "nbformat_minor": 5
}