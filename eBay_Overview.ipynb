{
 "cells": [
  {
   "cell_type": "code",
   "execution_count": 1,
   "id": "reverse-picking",
   "metadata": {
    "execution": {
     "iopub.execute_input": "2021-08-27T05:00:07.192612Z",
     "iopub.status.busy": "2021-08-27T05:00:07.190575Z",
     "iopub.status.idle": "2021-08-27T05:00:07.994473Z",
     "shell.execute_reply": "2021-08-27T05:00:07.995735Z"
    },
    "papermill": {
     "duration": 0.856957,
     "end_time": "2021-08-27T05:00:07.996419",
     "exception": false,
     "start_time": "2021-08-27T05:00:07.139462",
     "status": "completed"
    },
    "tags": []
   },
   "outputs": [],
   "source": [
    "import pandas as pd\n",
    "import sqlite3"
   ]
  },
  {
   "cell_type": "code",
   "execution_count": 2,
   "id": "innovative-syndrome",
   "metadata": {
    "execution": {
     "iopub.execute_input": "2021-08-27T05:00:08.047129Z",
     "iopub.status.busy": "2021-08-27T05:00:08.045271Z",
     "iopub.status.idle": "2021-08-27T05:00:08.184060Z",
     "shell.execute_reply": "2021-08-27T05:00:08.185424Z"
    },
    "papermill": {
     "duration": 0.16851,
     "end_time": "2021-08-27T05:00:08.185834",
     "exception": false,
     "start_time": "2021-08-27T05:00:08.017324",
     "status": "completed"
    },
    "tags": []
   },
   "outputs": [],
   "source": [
    "timestamps = pd.read_sql(\"select distinct record_time from EBAY_TOP_BERLIN order by record_time desc limit 2\", sqlite3.connect(\"UsedObjects.db\"))"
   ]
  },
  {
   "cell_type": "code",
   "execution_count": 3,
   "id": "periodic-identification",
   "metadata": {
    "execution": {
     "iopub.execute_input": "2021-08-27T05:00:08.251384Z",
     "iopub.status.busy": "2021-08-27T05:00:08.249363Z",
     "iopub.status.idle": "2021-08-27T05:00:08.269542Z",
     "shell.execute_reply": "2021-08-27T05:00:08.270890Z"
    },
    "papermill": {
     "duration": 0.064982,
     "end_time": "2021-08-27T05:00:08.271300",
     "exception": false,
     "start_time": "2021-08-27T05:00:08.206318",
     "status": "completed"
    },
    "tags": []
   },
   "outputs": [
    {
     "data": {
      "text/html": [
       "<div>\n",
       "<style scoped>\n",
       "    .dataframe tbody tr th:only-of-type {\n",
       "        vertical-align: middle;\n",
       "    }\n",
       "\n",
       "    .dataframe tbody tr th {\n",
       "        vertical-align: top;\n",
       "    }\n",
       "\n",
       "    .dataframe thead th {\n",
       "        text-align: right;\n",
       "    }\n",
       "</style>\n",
       "<table border=\"1\" class=\"dataframe\">\n",
       "  <thead>\n",
       "    <tr style=\"text-align: right;\">\n",
       "      <th></th>\n",
       "      <th>RECORD_TIME</th>\n",
       "    </tr>\n",
       "  </thead>\n",
       "  <tbody>\n",
       "    <tr>\n",
       "      <th>0</th>\n",
       "      <td>2021-08-27 07:00</td>\n",
       "    </tr>\n",
       "    <tr>\n",
       "      <th>1</th>\n",
       "      <td>2021-08-27 06:30</td>\n",
       "    </tr>\n",
       "  </tbody>\n",
       "</table>\n",
       "</div>"
      ],
      "text/plain": [
       "        RECORD_TIME\n",
       "0  2021-08-27 07:00\n",
       "1  2021-08-27 06:30"
      ]
     },
     "execution_count": 3,
     "metadata": {},
     "output_type": "execute_result"
    }
   ],
   "source": [
    "timestamps"
   ]
  },
  {
   "cell_type": "code",
   "execution_count": 4,
   "id": "alternate-victory",
   "metadata": {
    "execution": {
     "iopub.execute_input": "2021-08-27T05:00:08.323488Z",
     "iopub.status.busy": "2021-08-27T05:00:08.321179Z",
     "iopub.status.idle": "2021-08-27T05:00:08.533414Z",
     "shell.execute_reply": "2021-08-27T05:00:08.534643Z"
    },
    "papermill": {
     "duration": 0.242644,
     "end_time": "2021-08-27T05:00:08.535027",
     "exception": false,
     "start_time": "2021-08-27T05:00:08.292383",
     "status": "completed"
    },
    "tags": []
   },
   "outputs": [],
   "source": [
    "df = pd.read_sql(\"select * from EBAY_TOP_BERLIN where record_time in (select distinct record_time from EBAY_TOP_BERLIN order by record_time desc limit 2)\", sqlite3.connect(\"UsedObjects.db\"))"
   ]
  },
  {
   "cell_type": "code",
   "execution_count": 5,
   "id": "popular-active",
   "metadata": {
    "execution": {
     "iopub.execute_input": "2021-08-27T05:00:08.605972Z",
     "iopub.status.busy": "2021-08-27T05:00:08.594481Z",
     "iopub.status.idle": "2021-08-27T05:00:08.622352Z",
     "shell.execute_reply": "2021-08-27T05:00:08.623595Z"
    },
    "papermill": {
     "duration": 0.068636,
     "end_time": "2021-08-27T05:00:08.623988",
     "exception": false,
     "start_time": "2021-08-27T05:00:08.555352",
     "status": "completed"
    },
    "tags": []
   },
   "outputs": [],
   "source": [
    "df_pivot = df.pivot_table(index=\"PRODUCT\", columns = \"RECORD_TIME\", values = \"LISTING_COUNT\")"
   ]
  },
  {
   "cell_type": "code",
   "execution_count": 6,
   "id": "union-huntington",
   "metadata": {
    "execution": {
     "iopub.execute_input": "2021-08-27T05:00:08.690519Z",
     "iopub.status.busy": "2021-08-27T05:00:08.688394Z",
     "iopub.status.idle": "2021-08-27T05:00:08.694007Z",
     "shell.execute_reply": "2021-08-27T05:00:08.695222Z"
    },
    "papermill": {
     "duration": 0.045315,
     "end_time": "2021-08-27T05:00:08.695645",
     "exception": false,
     "start_time": "2021-08-27T05:00:08.650330",
     "status": "completed"
    },
    "tags": []
   },
   "outputs": [],
   "source": [
    "df_pivot.columns = [\"stamp_1\", \"stamp_2\"]\n",
    "df_pivot_diff = df_pivot.diff(axis=1)"
   ]
  },
  {
   "cell_type": "code",
   "execution_count": 7,
   "id": "fifth-motion",
   "metadata": {
    "execution": {
     "iopub.execute_input": "2021-08-27T05:00:08.769720Z",
     "iopub.status.busy": "2021-08-27T05:00:08.767580Z",
     "iopub.status.idle": "2021-08-27T05:00:10.275234Z",
     "shell.execute_reply": "2021-08-27T05:00:10.276610Z"
    },
    "papermill": {
     "duration": 1.561083,
     "end_time": "2021-08-27T05:00:10.277027",
     "exception": false,
     "start_time": "2021-08-27T05:00:08.715944",
     "status": "completed"
    },
    "tags": []
   },
   "outputs": [
    {
     "data": {
      "text/plain": [
       "<AxesSubplot:ylabel='PRODUCT'>"
      ]
     },
     "execution_count": 7,
     "metadata": {},
     "output_type": "execute_result"
    },
    {
     "data": {
      "image/png": "[encoded data removed]",
      "text/plain": [
       "<Figure size 432x288 with 1 Axes>"
      ]
     },
     "metadata": {
      "needs_background": "light"
     },
     "output_type": "display_data"
    }
   ],
   "source": [
    "df_pivot_diff.sort_values(\"stamp_2\", ascending = False)[\"stamp_2\"].head(10).plot.barh()"
   ]
  },
  {
   "cell_type": "code",
   "execution_count": null,
   "id": "extra-executive",
   "metadata": {
    "papermill": {
     "duration": 0.022144,
     "end_time": "2021-08-27T05:00:10.323936",
     "exception": false,
     "start_time": "2021-08-27T05:00:10.301792",
     "status": "completed"
    },
    "tags": []
   },
   "outputs": [],
   "source": []
  }
 ],
 "metadata": {
  "kernelspec": {
   "display_name": "Python 3",
   "language": "python",
   "name": "python3"
  },
  "language_info": {
   "codemirror_mode": {
    "name": "ipython",
    "version": 3
   },
   "file_extension": ".py",
   "mimetype": "text/x-python",
   "name": "python",
   "nbconvert_exporter": "python",
   "pygments_lexer": "ipython3",
   "version": "3.9.5"
  },
  "papermill": {
   "default_parameters": {},
   "duration": 6.829091,
   "end_time": "2021-08-27T05:00:11.571381",
   "environment_variables": {},
   "exception": null,
   "input_path": "eBay_Overview.ipynb",
   "output_path": "eBay_Overview.ipynb",
   "parameters": {},
   "start_time": "2021-08-27T05:00:04.742290",
   "version": "2.3.3"
  }
 },
 "nbformat": 4,
 "nbformat_minor": 5
}