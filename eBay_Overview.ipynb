{
 "cells": [
  {
   "cell_type": "code",
   "execution_count": 1,
   "id": "reverse-picking",
   "metadata": {
    "execution": {
     "iopub.execute_input": "2021-12-04T12:00:08.288493Z",
     "iopub.status.busy": "2021-12-04T12:00:08.286002Z",
     "iopub.status.idle": "2021-12-04T12:00:09.205690Z",
     "shell.execute_reply": "2021-12-04T12:00:09.207289Z"
    },
    "papermill": {
     "duration": 0.973196,
     "end_time": "2021-12-04T12:00:09.208065",
     "exception": false,
     "start_time": "2021-12-04T12:00:08.234869",
     "status": "completed"
    },
    "tags": []
   },
   "outputs": [],
   "source": [
    "import pandas as pd\n",
    "import sqlite3"
   ]
  },
  {
   "cell_type": "code",
   "execution_count": 2,
   "id": "innovative-syndrome",
   "metadata": {
    "execution": {
     "iopub.execute_input": "2021-12-04T12:00:09.271847Z",
     "iopub.status.busy": "2021-12-04T12:00:09.269335Z",
     "iopub.status.idle": "2021-12-04T12:00:10.266274Z",
     "shell.execute_reply": "2021-12-04T12:00:10.267725Z"
    },
    "papermill": {
     "duration": 1.030571,
     "end_time": "2021-12-04T12:00:10.268166",
     "exception": false,
     "start_time": "2021-12-04T12:00:09.237595",
     "status": "completed"
    },
    "tags": []
   },
   "outputs": [],
   "source": [
    "timestamps = pd.read_sql(\"select distinct record_time from EBAY_TOP_BERLIN order by record_time desc limit 2\", sqlite3.connect(\"UsedObjects.db\"))"
   ]
  },
  {
   "cell_type": "code",
   "execution_count": 3,
   "id": "periodic-identification",
   "metadata": {
    "execution": {
     "iopub.execute_input": "2021-12-04T12:00:10.342447Z",
     "iopub.status.busy": "2021-12-04T12:00:10.340296Z",
     "iopub.status.idle": "2021-12-04T12:00:10.360804Z",
     "shell.execute_reply": "2021-12-04T12:00:10.362358Z"
    },
    "papermill": {
     "duration": 0.074611,
     "end_time": "2021-12-04T12:00:10.362818",
     "exception": false,
     "start_time": "2021-12-04T12:00:10.288207",
     "status": "completed"
    },
    "tags": []
   },
   "outputs": [
    {
     "data": {
      "text/html": [
       "<div>\n",
       "<style scoped>\n",
       "    .dataframe tbody tr th:only-of-type {\n",
       "        vertical-align: middle;\n",
       "    }\n",
       "\n",
       "    .dataframe tbody tr th {\n",
       "        vertical-align: top;\n",
       "    }\n",
       "\n",
       "    .dataframe thead th {\n",
       "        text-align: right;\n",
       "    }\n",
       "</style>\n",
       "<table border=\"1\" class=\"dataframe\">\n",
       "  <thead>\n",
       "    <tr style=\"text-align: right;\">\n",
       "      <th></th>\n",
       "      <th>RECORD_TIME</th>\n",
       "    </tr>\n",
       "  </thead>\n",
       "  <tbody>\n",
       "    <tr>\n",
       "      <th>0</th>\n",
       "      <td>2021-12-04 13:00</td>\n",
       "    </tr>\n",
       "    <tr>\n",
       "      <th>1</th>\n",
       "      <td>2021-12-04 12:30</td>\n",
       "    </tr>\n",
       "  </tbody>\n",
       "</table>\n",
       "</div>"
      ],
      "text/plain": [
       "        RECORD_TIME\n",
       "0  2021-12-04 13:00\n",
       "1  2021-12-04 12:30"
      ]
     },
     "execution_count": 3,
     "metadata": {},
     "output_type": "execute_result"
    }
   ],
   "source": [
    "timestamps"
   ]
  },
  {
   "cell_type": "code",
   "execution_count": 4,
   "id": "alternate-victory",
   "metadata": {
    "execution": {
     "iopub.execute_input": "2021-12-04T12:00:10.414080Z",
     "iopub.status.busy": "2021-12-04T12:00:10.412133Z",
     "iopub.status.idle": "2021-12-04T12:00:11.844823Z",
     "shell.execute_reply": "2021-12-04T12:00:11.846320Z"
    },
    "papermill": {
     "duration": 1.462891,
     "end_time": "2021-12-04T12:00:11.846783",
     "exception": false,
     "start_time": "2021-12-04T12:00:10.383892",
     "status": "completed"
    },
    "tags": []
   },
   "outputs": [],
   "source": [
    "df = pd.read_sql(\"select * from EBAY_TOP_BERLIN where record_time in (select distinct record_time from EBAY_TOP_BERLIN order by record_time desc limit 2)\", sqlite3.connect(\"UsedObjects.db\"))"
   ]
  },
  {
   "cell_type": "code",
   "execution_count": 5,
   "id": "popular-active",
   "metadata": {
    "execution": {
     "iopub.execute_input": "2021-12-04T12:00:11.927079Z",
     "iopub.status.busy": "2021-12-04T12:00:11.913379Z",
     "iopub.status.idle": "2021-12-04T12:00:11.947944Z",
     "shell.execute_reply": "2021-12-04T12:00:11.950507Z"
    },
    "papermill": {
     "duration": 0.082361,
     "end_time": "2021-12-04T12:00:11.951193",
     "exception": false,
     "start_time": "2021-12-04T12:00:11.868832",
     "status": "completed"
    },
    "tags": []
   },
   "outputs": [],
   "source": [
    "df_pivot = df.pivot_table(index=\"PRODUCT\", columns = \"RECORD_TIME\", values = \"LISTING_COUNT\")"
   ]
  },
  {
   "cell_type": "code",
   "execution_count": 6,
   "id": "union-huntington",
   "metadata": {
    "execution": {
     "iopub.execute_input": "2021-12-04T12:00:12.021130Z",
     "iopub.status.busy": "2021-12-04T12:00:12.018776Z",
     "iopub.status.idle": "2021-12-04T12:00:12.025166Z",
     "shell.execute_reply": "2021-12-04T12:00:12.026504Z"
    },
    "papermill": {
     "duration": 0.048343,
     "end_time": "2021-12-04T12:00:12.026973",
     "exception": false,
     "start_time": "2021-12-04T12:00:11.978630",
     "status": "completed"
    },
    "tags": []
   },
   "outputs": [],
   "source": [
    "df_pivot.columns = [\"stamp_1\", \"stamp_2\"]\n",
    "df_pivot_diff = df_pivot.diff(axis=1)"
   ]
  },
  {
   "cell_type": "code",
   "execution_count": 7,
   "id": "fifth-motion",
   "metadata": {
    "execution": {
     "iopub.execute_input": "2021-12-04T12:00:12.083051Z",
     "iopub.status.busy": "2021-12-04T12:00:12.080531Z",
     "iopub.status.idle": "2021-12-04T12:00:14.051104Z",
     "shell.execute_reply": "2021-12-04T12:00:14.054043Z"
    },
    "papermill": {
     "duration": 2.008155,
     "end_time": "2021-12-04T12:00:14.055048",
     "exception": false,
     "start_time": "2021-12-04T12:00:12.046893",
     "status": "completed"
    },
    "tags": []
   },
   "outputs": [
    {
     "data": {
      "text/plain": [
       "<AxesSubplot:ylabel='PRODUCT'>"
      ]
     },
     "execution_count": 7,
     "metadata": {},
     "output_type": "execute_result"
    },
    {
     "data": {
      "image/png": "[encoded data removed]",
      "text/plain": [
       "<Figure size 432x288 with 1 Axes>"
      ]
     },
     "metadata": {
      "needs_background": "light"
     },
     "output_type": "display_data"
    }
   ],
   "source": [
    "df_pivot_diff.sort_values(\"stamp_2\", ascending = False)[\"stamp_2\"].head(10).plot.barh()"
   ]
  },
  {
   "cell_type": "code",
   "execution_count": null,
   "id": "extra-executive",
   "metadata": {
    "papermill": {
     "duration": 0.027856,
     "end_time": "2021-12-04T12:00:14.116218",
     "exception": false,
     "start_time": "2021-12-04T12:00:14.088362",
     "status": "completed"
    },
    "tags": []
   },
   "outputs": [],
   "source": []
  }
 ],
 "metadata": {
  "kernelspec": {
   "display_name": "Python 3",
   "language": "python",
   "name": "python3"
  },
  "language_info": {
   "codemirror_mode": {
    "name": "ipython",
    "version": 3
   },
   "file_extension": ".py",
   "mimetype": "text/x-python",
   "name": "python",
   "nbconvert_exporter": "python",
   "pygments_lexer": "ipython3",
   "version": "3.9.5"
  },
  "papermill": {
   "default_parameters": {},
   "duration": 9.934887,
   "end_time": "2021-12-04T12:00:15.453940",
   "environment_variables": {},
   "exception": null,
   "input_path": "eBay_Overview.ipynb",
   "output_path": "eBay_Overview.ipynb",
   "parameters": {},
   "start_time": "2021-12-04T12:00:05.519053",
   "version": "2.3.3"
  }
 },
 "nbformat": 4,
 "nbformat_minor": 5
}