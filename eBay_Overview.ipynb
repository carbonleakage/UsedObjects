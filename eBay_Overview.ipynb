{
 "cells": [
  {
   "cell_type": "code",
   "execution_count": 1,
   "id": "reverse-picking",
   "metadata": {
    "execution": {
     "iopub.execute_input": "2021-09-18T14:00:07.292205Z",
     "iopub.status.busy": "2021-09-18T14:00:07.290136Z",
     "iopub.status.idle": "2021-09-18T14:00:08.091357Z",
     "shell.execute_reply": "2021-09-18T14:00:08.092624Z"
    },
    "papermill": {
     "duration": 0.852346,
     "end_time": "2021-09-18T14:00:08.093237",
     "exception": false,
     "start_time": "2021-09-18T14:00:07.240891",
     "status": "completed"
    },
    "tags": []
   },
   "outputs": [],
   "source": [
    "import pandas as pd\n",
    "import sqlite3"
   ]
  },
  {
   "cell_type": "code",
   "execution_count": 2,
   "id": "innovative-syndrome",
   "metadata": {
    "execution": {
     "iopub.execute_input": "2021-09-18T14:00:08.143895Z",
     "iopub.status.busy": "2021-09-18T14:00:08.141945Z",
     "iopub.status.idle": "2021-09-18T14:00:08.454648Z",
     "shell.execute_reply": "2021-09-18T14:00:08.456083Z"
    },
    "papermill": {
     "duration": 0.342477,
     "end_time": "2021-09-18T14:00:08.456516",
     "exception": false,
     "start_time": "2021-09-18T14:00:08.114039",
     "status": "completed"
    },
    "tags": []
   },
   "outputs": [],
   "source": [
    "timestamps = pd.read_sql(\"select distinct record_time from EBAY_TOP_BERLIN order by record_time desc limit 2\", sqlite3.connect(\"UsedObjects.db\"))"
   ]
  },
  {
   "cell_type": "code",
   "execution_count": 3,
   "id": "periodic-identification",
   "metadata": {
    "execution": {
     "iopub.execute_input": "2021-09-18T14:00:08.522902Z",
     "iopub.status.busy": "2021-09-18T14:00:08.520860Z",
     "iopub.status.idle": "2021-09-18T14:00:08.540803Z",
     "shell.execute_reply": "2021-09-18T14:00:08.541992Z"
    },
    "papermill": {
     "duration": 0.065847,
     "end_time": "2021-09-18T14:00:08.542413",
     "exception": false,
     "start_time": "2021-09-18T14:00:08.476566",
     "status": "completed"
    },
    "tags": []
   },
   "outputs": [
    {
     "data": {
      "text/html": [
       "<div>\n",
       "<style scoped>\n",
       "    .dataframe tbody tr th:only-of-type {\n",
       "        vertical-align: middle;\n",
       "    }\n",
       "\n",
       "    .dataframe tbody tr th {\n",
       "        vertical-align: top;\n",
       "    }\n",
       "\n",
       "    .dataframe thead th {\n",
       "        text-align: right;\n",
       "    }\n",
       "</style>\n",
       "<table border=\"1\" class=\"dataframe\">\n",
       "  <thead>\n",
       "    <tr style=\"text-align: right;\">\n",
       "      <th></th>\n",
       "      <th>RECORD_TIME</th>\n",
       "    </tr>\n",
       "  </thead>\n",
       "  <tbody>\n",
       "    <tr>\n",
       "      <th>0</th>\n",
       "      <td>2021-09-18 16:00</td>\n",
       "    </tr>\n",
       "    <tr>\n",
       "      <th>1</th>\n",
       "      <td>2021-09-18 15:30</td>\n",
       "    </tr>\n",
       "  </tbody>\n",
       "</table>\n",
       "</div>"
      ],
      "text/plain": [
       "        RECORD_TIME\n",
       "0  2021-09-18 16:00\n",
       "1  2021-09-18 15:30"
      ]
     },
     "execution_count": 3,
     "metadata": {},
     "output_type": "execute_result"
    }
   ],
   "source": [
    "timestamps"
   ]
  },
  {
   "cell_type": "code",
   "execution_count": 4,
   "id": "alternate-victory",
   "metadata": {
    "execution": {
     "iopub.execute_input": "2021-09-18T14:00:08.592890Z",
     "iopub.status.busy": "2021-09-18T14:00:08.591060Z",
     "iopub.status.idle": "2021-09-18T14:00:09.056242Z",
     "shell.execute_reply": "2021-09-18T14:00:09.057432Z"
    },
    "papermill": {
     "duration": 0.494877,
     "end_time": "2021-09-18T14:00:09.057824",
     "exception": false,
     "start_time": "2021-09-18T14:00:08.562947",
     "status": "completed"
    },
    "tags": []
   },
   "outputs": [],
   "source": [
    "df = pd.read_sql(\"select * from EBAY_TOP_BERLIN where record_time in (select distinct record_time from EBAY_TOP_BERLIN order by record_time desc limit 2)\", sqlite3.connect(\"UsedObjects.db\"))"
   ]
  },
  {
   "cell_type": "code",
   "execution_count": 5,
   "id": "popular-active",
   "metadata": {
    "execution": {
     "iopub.execute_input": "2021-09-18T14:00:09.139291Z",
     "iopub.status.busy": "2021-09-18T14:00:09.126573Z",
     "iopub.status.idle": "2021-09-18T14:00:09.155043Z",
     "shell.execute_reply": "2021-09-18T14:00:09.156346Z"
    },
    "papermill": {
     "duration": 0.071692,
     "end_time": "2021-09-18T14:00:09.156755",
     "exception": false,
     "start_time": "2021-09-18T14:00:09.085063",
     "status": "completed"
    },
    "tags": []
   },
   "outputs": [],
   "source": [
    "df_pivot = df.pivot_table(index=\"PRODUCT\", columns = \"RECORD_TIME\", values = \"LISTING_COUNT\")"
   ]
  },
  {
   "cell_type": "code",
   "execution_count": 6,
   "id": "union-huntington",
   "metadata": {
    "execution": {
     "iopub.execute_input": "2021-09-18T14:00:09.212245Z",
     "iopub.status.busy": "2021-09-18T14:00:09.210152Z",
     "iopub.status.idle": "2021-09-18T14:00:09.215588Z",
     "shell.execute_reply": "2021-09-18T14:00:09.216768Z"
    },
    "papermill": {
     "duration": 0.040184,
     "end_time": "2021-09-18T14:00:09.217192",
     "exception": false,
     "start_time": "2021-09-18T14:00:09.177008",
     "status": "completed"
    },
    "tags": []
   },
   "outputs": [],
   "source": [
    "df_pivot.columns = [\"stamp_1\", \"stamp_2\"]\n",
    "df_pivot_diff = df_pivot.diff(axis=1)"
   ]
  },
  {
   "cell_type": "code",
   "execution_count": 7,
   "id": "fifth-motion",
   "metadata": {
    "execution": {
     "iopub.execute_input": "2021-09-18T14:00:09.272311Z",
     "iopub.status.busy": "2021-09-18T14:00:09.269771Z",
     "iopub.status.idle": "2021-09-18T14:00:10.774301Z",
     "shell.execute_reply": "2021-09-18T14:00:10.775926Z"
    },
    "papermill": {
     "duration": 1.537852,
     "end_time": "2021-09-18T14:00:10.776391",
     "exception": false,
     "start_time": "2021-09-18T14:00:09.238539",
     "status": "completed"
    },
    "tags": []
   },
   "outputs": [
    {
     "data": {
      "text/plain": [
       "<AxesSubplot:ylabel='PRODUCT'>"
      ]
     },
     "execution_count": 7,
     "metadata": {},
     "output_type": "execute_result"
    },
    {
     "data": {
      "image/png": "[encoded data removed]",
      "text/plain": [
       "<Figure size 432x288 with 1 Axes>"
      ]
     },
     "metadata": {
      "needs_background": "light"
     },
     "output_type": "display_data"
    }
   ],
   "source": [
    "df_pivot_diff.sort_values(\"stamp_2\", ascending = False)[\"stamp_2\"].head(10).plot.barh()"
   ]
  },
  {
   "cell_type": "code",
   "execution_count": null,
   "id": "extra-executive",
   "metadata": {
    "papermill": {
     "duration": 0.022517,
     "end_time": "2021-09-18T14:00:10.823390",
     "exception": false,
     "start_time": "2021-09-18T14:00:10.800873",
     "status": "completed"
    },
    "tags": []
   },
   "outputs": [],
   "source": []
  }
 ],
 "metadata": {
  "kernelspec": {
   "display_name": "Python 3",
   "language": "python",
   "name": "python3"
  },
  "language_info": {
   "codemirror_mode": {
    "name": "ipython",
    "version": 3
   },
   "file_extension": ".py",
   "mimetype": "text/x-python",
   "name": "python",
   "nbconvert_exporter": "python",
   "pygments_lexer": "ipython3",
   "version": "3.9.5"
  },
  "papermill": {
   "default_parameters": {},
   "duration": 6.61573,
   "end_time": "2021-09-18T14:00:11.464253",
   "environment_variables": {},
   "exception": null,
   "input_path": "eBay_Overview.ipynb",
   "output_path": "eBay_Overview.ipynb",
   "parameters": {},
   "start_time": "2021-09-18T14:00:04.848523",
   "version": "2.3.3"
  }
 },
 "nbformat": 4,
 "nbformat_minor": 5
}