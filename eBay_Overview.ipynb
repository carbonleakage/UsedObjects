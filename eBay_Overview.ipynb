{
 "cells": [
  {
   "cell_type": "code",
   "execution_count": 1,
   "id": "reverse-picking",
   "metadata": {
    "execution": {
     "iopub.execute_input": "2021-09-02T14:30:07.185060Z",
     "iopub.status.busy": "2021-09-02T14:30:07.183127Z",
     "iopub.status.idle": "2021-09-02T14:30:07.984450Z",
     "shell.execute_reply": "2021-09-02T14:30:07.985898Z"
    },
    "papermill": {
     "duration": 0.8536,
     "end_time": "2021-09-02T14:30:07.986577",
     "exception": false,
     "start_time": "2021-09-02T14:30:07.132977",
     "status": "completed"
    },
    "tags": []
   },
   "outputs": [],
   "source": [
    "import pandas as pd\n",
    "import sqlite3"
   ]
  },
  {
   "cell_type": "code",
   "execution_count": 2,
   "id": "innovative-syndrome",
   "metadata": {
    "execution": {
     "iopub.execute_input": "2021-09-02T14:30:08.037957Z",
     "iopub.status.busy": "2021-09-02T14:30:08.035783Z",
     "iopub.status.idle": "2021-09-02T14:30:08.222054Z",
     "shell.execute_reply": "2021-09-02T14:30:08.223349Z"
    },
    "papermill": {
     "duration": 0.216653,
     "end_time": "2021-09-02T14:30:08.223785",
     "exception": false,
     "start_time": "2021-09-02T14:30:08.007132",
     "status": "completed"
    },
    "tags": []
   },
   "outputs": [],
   "source": [
    "timestamps = pd.read_sql(\"select distinct record_time from EBAY_TOP_BERLIN order by record_time desc limit 2\", sqlite3.connect(\"UsedObjects.db\"))"
   ]
  },
  {
   "cell_type": "code",
   "execution_count": 3,
   "id": "periodic-identification",
   "metadata": {
    "execution": {
     "iopub.execute_input": "2021-09-02T14:30:08.290681Z",
     "iopub.status.busy": "2021-09-02T14:30:08.288661Z",
     "iopub.status.idle": "2021-09-02T14:30:08.309627Z",
     "shell.execute_reply": "2021-09-02T14:30:08.310958Z"
    },
    "papermill": {
     "duration": 0.066911,
     "end_time": "2021-09-02T14:30:08.311422",
     "exception": false,
     "start_time": "2021-09-02T14:30:08.244511",
     "status": "completed"
    },
    "tags": []
   },
   "outputs": [
    {
     "data": {
      "text/html": [
       "<div>\n",
       "<style scoped>\n",
       "    .dataframe tbody tr th:only-of-type {\n",
       "        vertical-align: middle;\n",
       "    }\n",
       "\n",
       "    .dataframe tbody tr th {\n",
       "        vertical-align: top;\n",
       "    }\n",
       "\n",
       "    .dataframe thead th {\n",
       "        text-align: right;\n",
       "    }\n",
       "</style>\n",
       "<table border=\"1\" class=\"dataframe\">\n",
       "  <thead>\n",
       "    <tr style=\"text-align: right;\">\n",
       "      <th></th>\n",
       "      <th>RECORD_TIME</th>\n",
       "    </tr>\n",
       "  </thead>\n",
       "  <tbody>\n",
       "    <tr>\n",
       "      <th>0</th>\n",
       "      <td>2021-09-02 16:30</td>\n",
       "    </tr>\n",
       "    <tr>\n",
       "      <th>1</th>\n",
       "      <td>2021-09-02 16:00</td>\n",
       "    </tr>\n",
       "  </tbody>\n",
       "</table>\n",
       "</div>"
      ],
      "text/plain": [
       "        RECORD_TIME\n",
       "0  2021-09-02 16:30\n",
       "1  2021-09-02 16:00"
      ]
     },
     "execution_count": 3,
     "metadata": {},
     "output_type": "execute_result"
    }
   ],
   "source": [
    "timestamps"
   ]
  },
  {
   "cell_type": "code",
   "execution_count": 4,
   "id": "alternate-victory",
   "metadata": {
    "execution": {
     "iopub.execute_input": "2021-09-02T14:30:08.363064Z",
     "iopub.status.busy": "2021-09-02T14:30:08.361164Z",
     "iopub.status.idle": "2021-09-02T14:30:08.637858Z",
     "shell.execute_reply": "2021-09-02T14:30:08.639156Z"
    },
    "papermill": {
     "duration": 0.306706,
     "end_time": "2021-09-02T14:30:08.639570",
     "exception": false,
     "start_time": "2021-09-02T14:30:08.332864",
     "status": "completed"
    },
    "tags": []
   },
   "outputs": [],
   "source": [
    "df = pd.read_sql(\"select * from EBAY_TOP_BERLIN where record_time in (select distinct record_time from EBAY_TOP_BERLIN order by record_time desc limit 2)\", sqlite3.connect(\"UsedObjects.db\"))"
   ]
  },
  {
   "cell_type": "code",
   "execution_count": 5,
   "id": "popular-active",
   "metadata": {
    "execution": {
     "iopub.execute_input": "2021-09-02T14:30:08.719399Z",
     "iopub.status.busy": "2021-09-02T14:30:08.708109Z",
     "iopub.status.idle": "2021-09-02T14:30:08.734562Z",
     "shell.execute_reply": "2021-09-02T14:30:08.736025Z"
    },
    "papermill": {
     "duration": 0.071323,
     "end_time": "2021-09-02T14:30:08.736474",
     "exception": false,
     "start_time": "2021-09-02T14:30:08.665151",
     "status": "completed"
    },
    "tags": []
   },
   "outputs": [],
   "source": [
    "df_pivot = df.pivot_table(index=\"PRODUCT\", columns = \"RECORD_TIME\", values = \"LISTING_COUNT\")"
   ]
  },
  {
   "cell_type": "code",
   "execution_count": 6,
   "id": "union-huntington",
   "metadata": {
    "execution": {
     "iopub.execute_input": "2021-09-02T14:30:08.794136Z",
     "iopub.status.busy": "2021-09-02T14:30:08.791693Z",
     "iopub.status.idle": "2021-09-02T14:30:08.797838Z",
     "shell.execute_reply": "2021-09-02T14:30:08.799178Z"
    },
    "papermill": {
     "duration": 0.042669,
     "end_time": "2021-09-02T14:30:08.799635",
     "exception": false,
     "start_time": "2021-09-02T14:30:08.756966",
     "status": "completed"
    },
    "tags": []
   },
   "outputs": [],
   "source": [
    "df_pivot.columns = [\"stamp_1\", \"stamp_2\"]\n",
    "df_pivot_diff = df_pivot.diff(axis=1)"
   ]
  },
  {
   "cell_type": "code",
   "execution_count": 7,
   "id": "fifth-motion",
   "metadata": {
    "execution": {
     "iopub.execute_input": "2021-09-02T14:30:08.853909Z",
     "iopub.status.busy": "2021-09-02T14:30:08.851635Z",
     "iopub.status.idle": "2021-09-02T14:30:10.359550Z",
     "shell.execute_reply": "2021-09-02T14:30:10.361039Z"
    },
    "papermill": {
     "duration": 1.541394,
     "end_time": "2021-09-02T14:30:10.361555",
     "exception": false,
     "start_time": "2021-09-02T14:30:08.820161",
     "status": "completed"
    },
    "tags": []
   },
   "outputs": [
    {
     "data": {
      "text/plain": [
       "<AxesSubplot:ylabel='PRODUCT'>"
      ]
     },
     "execution_count": 7,
     "metadata": {},
     "output_type": "execute_result"
    },
    {
     "data": {
      "image/png": "[encoded data removed]",
      "text/plain": [
       "<Figure size 432x288 with 1 Axes>"
      ]
     },
     "metadata": {
      "needs_background": "light"
     },
     "output_type": "display_data"
    }
   ],
   "source": [
    "df_pivot_diff.sort_values(\"stamp_2\", ascending = False)[\"stamp_2\"].head(10).plot.barh()"
   ]
  },
  {
   "cell_type": "code",
   "execution_count": null,
   "id": "extra-executive",
   "metadata": {
    "papermill": {
     "duration": 0.022243,
     "end_time": "2021-09-02T14:30:10.409273",
     "exception": false,
     "start_time": "2021-09-02T14:30:10.387030",
     "status": "completed"
    },
    "tags": []
   },
   "outputs": [],
   "source": []
  }
 ],
 "metadata": {
  "kernelspec": {
   "display_name": "Python 3",
   "language": "python",
   "name": "python3"
  },
  "language_info": {
   "codemirror_mode": {
    "name": "ipython",
    "version": 3
   },
   "file_extension": ".py",
   "mimetype": "text/x-python",
   "name": "python",
   "nbconvert_exporter": "python",
   "pygments_lexer": "ipython3",
   "version": "3.9.5"
  },
  "papermill": {
   "default_parameters": {},
   "duration": 6.824585,
   "end_time": "2021-09-02T14:30:11.554373",
   "environment_variables": {},
   "exception": null,
   "input_path": "eBay_Overview.ipynb",
   "output_path": "eBay_Overview.ipynb",
   "parameters": {},
   "start_time": "2021-09-02T14:30:04.729788",
   "version": "2.3.3"
  }
 },
 "nbformat": 4,
 "nbformat_minor": 5
}