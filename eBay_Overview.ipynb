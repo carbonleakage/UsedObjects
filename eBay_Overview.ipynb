{
 "cells": [
  {
   "cell_type": "code",
   "execution_count": 1,
   "id": "reverse-picking",
   "metadata": {
    "execution": {
     "iopub.execute_input": "2021-11-29T12:00:10.643872Z",
     "iopub.status.busy": "2021-11-29T12:00:10.641884Z",
     "iopub.status.idle": "2021-11-29T12:00:12.763463Z",
     "shell.execute_reply": "2021-11-29T12:00:12.765116Z"
    },
    "papermill": {
     "duration": 2.16859,
     "end_time": "2021-11-29T12:00:12.765918",
     "exception": false,
     "start_time": "2021-11-29T12:00:10.597328",
     "status": "completed"
    },
    "tags": []
   },
   "outputs": [],
   "source": [
    "import pandas as pd\n",
    "import sqlite3"
   ]
  },
  {
   "cell_type": "code",
   "execution_count": 2,
   "id": "innovative-syndrome",
   "metadata": {
    "execution": {
     "iopub.execute_input": "2021-11-29T12:00:12.824178Z",
     "iopub.status.busy": "2021-11-29T12:00:12.822063Z",
     "iopub.status.idle": "2021-11-29T12:00:14.154240Z",
     "shell.execute_reply": "2021-11-29T12:00:14.156483Z"
    },
    "papermill": {
     "duration": 1.367889,
     "end_time": "2021-11-29T12:00:14.157051",
     "exception": false,
     "start_time": "2021-11-29T12:00:12.789162",
     "status": "completed"
    },
    "tags": []
   },
   "outputs": [],
   "source": [
    "timestamps = pd.read_sql(\"select distinct record_time from EBAY_TOP_BERLIN order by record_time desc limit 2\", sqlite3.connect(\"UsedObjects.db\"))"
   ]
  },
  {
   "cell_type": "code",
   "execution_count": 3,
   "id": "periodic-identification",
   "metadata": {
    "execution": {
     "iopub.execute_input": "2021-11-29T12:00:14.229127Z",
     "iopub.status.busy": "2021-11-29T12:00:14.226509Z",
     "iopub.status.idle": "2021-11-29T12:00:14.255139Z",
     "shell.execute_reply": "2021-11-29T12:00:14.253431Z"
    },
    "papermill": {
     "duration": 0.07785,
     "end_time": "2021-11-29T12:00:14.255551",
     "exception": false,
     "start_time": "2021-11-29T12:00:14.177701",
     "status": "completed"
    },
    "tags": []
   },
   "outputs": [
    {
     "data": {
      "text/html": [
       "<div>\n",
       "<style scoped>\n",
       "    .dataframe tbody tr th:only-of-type {\n",
       "        vertical-align: middle;\n",
       "    }\n",
       "\n",
       "    .dataframe tbody tr th {\n",
       "        vertical-align: top;\n",
       "    }\n",
       "\n",
       "    .dataframe thead th {\n",
       "        text-align: right;\n",
       "    }\n",
       "</style>\n",
       "<table border=\"1\" class=\"dataframe\">\n",
       "  <thead>\n",
       "    <tr style=\"text-align: right;\">\n",
       "      <th></th>\n",
       "      <th>RECORD_TIME</th>\n",
       "    </tr>\n",
       "  </thead>\n",
       "  <tbody>\n",
       "    <tr>\n",
       "      <th>0</th>\n",
       "      <td>2021-11-29 13:00</td>\n",
       "    </tr>\n",
       "    <tr>\n",
       "      <th>1</th>\n",
       "      <td>2021-11-29 12:30</td>\n",
       "    </tr>\n",
       "  </tbody>\n",
       "</table>\n",
       "</div>"
      ],
      "text/plain": [
       "        RECORD_TIME\n",
       "0  2021-11-29 13:00\n",
       "1  2021-11-29 12:30"
      ]
     },
     "execution_count": 3,
     "metadata": {},
     "output_type": "execute_result"
    }
   ],
   "source": [
    "timestamps"
   ]
  },
  {
   "cell_type": "code",
   "execution_count": 4,
   "id": "alternate-victory",
   "metadata": {
    "execution": {
     "iopub.execute_input": "2021-11-29T12:00:14.312229Z",
     "iopub.status.busy": "2021-11-29T12:00:14.309932Z",
     "iopub.status.idle": "2021-11-29T12:00:15.681311Z",
     "shell.execute_reply": "2021-11-29T12:00:15.682800Z"
    },
    "papermill": {
     "duration": 1.406107,
     "end_time": "2021-11-29T12:00:15.683269",
     "exception": false,
     "start_time": "2021-11-29T12:00:14.277162",
     "status": "completed"
    },
    "tags": []
   },
   "outputs": [],
   "source": [
    "df = pd.read_sql(\"select * from EBAY_TOP_BERLIN where record_time in (select distinct record_time from EBAY_TOP_BERLIN order by record_time desc limit 2)\", sqlite3.connect(\"UsedObjects.db\"))"
   ]
  },
  {
   "cell_type": "code",
   "execution_count": 5,
   "id": "popular-active",
   "metadata": {
    "execution": {
     "iopub.execute_input": "2021-11-29T12:00:15.769176Z",
     "iopub.status.busy": "2021-11-29T12:00:15.759215Z",
     "iopub.status.idle": "2021-11-29T12:00:15.830860Z",
     "shell.execute_reply": "2021-11-29T12:00:15.833213Z"
    },
    "papermill": {
     "duration": 0.129664,
     "end_time": "2021-11-29T12:00:15.833687",
     "exception": false,
     "start_time": "2021-11-29T12:00:15.704023",
     "status": "completed"
    },
    "tags": []
   },
   "outputs": [],
   "source": [
    "df_pivot = df.pivot_table(index=\"PRODUCT\", columns = \"RECORD_TIME\", values = \"LISTING_COUNT\")"
   ]
  },
  {
   "cell_type": "code",
   "execution_count": 6,
   "id": "union-huntington",
   "metadata": {
    "execution": {
     "iopub.execute_input": "2021-11-29T12:00:15.898821Z",
     "iopub.status.busy": "2021-11-29T12:00:15.896463Z",
     "iopub.status.idle": "2021-11-29T12:00:15.902619Z",
     "shell.execute_reply": "2021-11-29T12:00:15.904061Z"
    },
    "papermill": {
     "duration": 0.045771,
     "end_time": "2021-11-29T12:00:15.904543",
     "exception": false,
     "start_time": "2021-11-29T12:00:15.858772",
     "status": "completed"
    },
    "tags": []
   },
   "outputs": [],
   "source": [
    "df_pivot.columns = [\"stamp_1\", \"stamp_2\"]\n",
    "df_pivot_diff = df_pivot.diff(axis=1)"
   ]
  },
  {
   "cell_type": "code",
   "execution_count": 7,
   "id": "fifth-motion",
   "metadata": {
    "execution": {
     "iopub.execute_input": "2021-11-29T12:00:15.963623Z",
     "iopub.status.busy": "2021-11-29T12:00:15.961545Z",
     "iopub.status.idle": "2021-11-29T12:00:18.130145Z",
     "shell.execute_reply": "2021-11-29T12:00:18.131618Z"
    },
    "papermill": {
     "duration": 2.206375,
     "end_time": "2021-11-29T12:00:18.132095",
     "exception": false,
     "start_time": "2021-11-29T12:00:15.925720",
     "status": "completed"
    },
    "tags": []
   },
   "outputs": [
    {
     "data": {
      "text/plain": [
       "<AxesSubplot:ylabel='PRODUCT'>"
      ]
     },
     "execution_count": 7,
     "metadata": {},
     "output_type": "execute_result"
    },
    {
     "data": {
      "image/png": "[encoded data removed]",
      "text/plain": [
       "<Figure size 432x288 with 1 Axes>"
      ]
     },
     "metadata": {
      "needs_background": "light"
     },
     "output_type": "display_data"
    }
   ],
   "source": [
    "df_pivot_diff.sort_values(\"stamp_2\", ascending = False)[\"stamp_2\"].head(10).plot.barh()"
   ]
  },
  {
   "cell_type": "code",
   "execution_count": null,
   "id": "extra-executive",
   "metadata": {
    "papermill": {
     "duration": 0.031204,
     "end_time": "2021-11-29T12:00:18.188169",
     "exception": false,
     "start_time": "2021-11-29T12:00:18.156965",
     "status": "completed"
    },
    "tags": []
   },
   "outputs": [],
   "source": []
  }
 ],
 "metadata": {
  "kernelspec": {
   "display_name": "Python 3",
   "language": "python",
   "name": "python3"
  },
  "language_info": {
   "codemirror_mode": {
    "name": "ipython",
    "version": 3
   },
   "file_extension": ".py",
   "mimetype": "text/x-python",
   "name": "python",
   "nbconvert_exporter": "python",
   "pygments_lexer": "ipython3",
   "version": "3.9.5"
  },
  "papermill": {
   "default_parameters": {},
   "duration": 12.540842,
   "end_time": "2021-11-29T12:00:19.765021",
   "environment_variables": {},
   "exception": null,
   "input_path": "eBay_Overview.ipynb",
   "output_path": "eBay_Overview.ipynb",
   "parameters": {},
   "start_time": "2021-11-29T12:00:07.224179",
   "version": "2.3.3"
  }
 },
 "nbformat": 4,
 "nbformat_minor": 5
}