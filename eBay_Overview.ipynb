{
 "cells": [
  {
   "cell_type": "code",
   "execution_count": 1,
   "id": "reverse-picking",
   "metadata": {
    "execution": {
     "iopub.execute_input": "2021-11-19T23:30:07.899370Z",
     "iopub.status.busy": "2021-11-19T23:30:07.897161Z",
     "iopub.status.idle": "2021-11-19T23:30:08.855173Z",
     "shell.execute_reply": "2021-11-19T23:30:08.856847Z"
    },
    "papermill": {
     "duration": 1.006474,
     "end_time": "2021-11-19T23:30:08.857590",
     "exception": false,
     "start_time": "2021-11-19T23:30:07.851116",
     "status": "completed"
    },
    "tags": []
   },
   "outputs": [],
   "source": [
    "import pandas as pd\n",
    "import sqlite3"
   ]
  },
  {
   "cell_type": "code",
   "execution_count": 2,
   "id": "innovative-syndrome",
   "metadata": {
    "execution": {
     "iopub.execute_input": "2021-11-19T23:30:08.933932Z",
     "iopub.status.busy": "2021-11-19T23:30:08.931409Z",
     "iopub.status.idle": "2021-11-19T23:30:09.803196Z",
     "shell.execute_reply": "2021-11-19T23:30:09.804740Z"
    },
    "papermill": {
     "duration": 0.906371,
     "end_time": "2021-11-19T23:30:09.805240",
     "exception": false,
     "start_time": "2021-11-19T23:30:08.898869",
     "status": "completed"
    },
    "tags": []
   },
   "outputs": [],
   "source": [
    "timestamps = pd.read_sql(\"select distinct record_time from EBAY_TOP_BERLIN order by record_time desc limit 2\", sqlite3.connect(\"UsedObjects.db\"))"
   ]
  },
  {
   "cell_type": "code",
   "execution_count": 3,
   "id": "periodic-identification",
   "metadata": {
    "execution": {
     "iopub.execute_input": "2021-11-19T23:30:09.874290Z",
     "iopub.status.busy": "2021-11-19T23:30:09.871966Z",
     "iopub.status.idle": "2021-11-19T23:30:09.893604Z",
     "shell.execute_reply": "2021-11-19T23:30:09.895018Z"
    },
    "papermill": {
     "duration": 0.069864,
     "end_time": "2021-11-19T23:30:09.895485",
     "exception": false,
     "start_time": "2021-11-19T23:30:09.825621",
     "status": "completed"
    },
    "tags": []
   },
   "outputs": [
    {
     "data": {
      "text/html": [
       "<div>\n",
       "<style scoped>\n",
       "    .dataframe tbody tr th:only-of-type {\n",
       "        vertical-align: middle;\n",
       "    }\n",
       "\n",
       "    .dataframe tbody tr th {\n",
       "        vertical-align: top;\n",
       "    }\n",
       "\n",
       "    .dataframe thead th {\n",
       "        text-align: right;\n",
       "    }\n",
       "</style>\n",
       "<table border=\"1\" class=\"dataframe\">\n",
       "  <thead>\n",
       "    <tr style=\"text-align: right;\">\n",
       "      <th></th>\n",
       "      <th>RECORD_TIME</th>\n",
       "    </tr>\n",
       "  </thead>\n",
       "  <tbody>\n",
       "    <tr>\n",
       "      <th>0</th>\n",
       "      <td>2021-11-20 00:30</td>\n",
       "    </tr>\n",
       "    <tr>\n",
       "      <th>1</th>\n",
       "      <td>2021-11-20 00:00</td>\n",
       "    </tr>\n",
       "  </tbody>\n",
       "</table>\n",
       "</div>"
      ],
      "text/plain": [
       "        RECORD_TIME\n",
       "0  2021-11-20 00:30\n",
       "1  2021-11-20 00:00"
      ]
     },
     "execution_count": 3,
     "metadata": {},
     "output_type": "execute_result"
    }
   ],
   "source": [
    "timestamps"
   ]
  },
  {
   "cell_type": "code",
   "execution_count": 4,
   "id": "alternate-victory",
   "metadata": {
    "execution": {
     "iopub.execute_input": "2021-11-19T23:30:09.950485Z",
     "iopub.status.busy": "2021-11-19T23:30:09.948377Z",
     "iopub.status.idle": "2021-11-19T23:30:11.237426Z",
     "shell.execute_reply": "2021-11-19T23:30:11.238924Z"
    },
    "papermill": {
     "duration": 1.323191,
     "end_time": "2021-11-19T23:30:11.239418",
     "exception": false,
     "start_time": "2021-11-19T23:30:09.916227",
     "status": "completed"
    },
    "tags": []
   },
   "outputs": [],
   "source": [
    "df = pd.read_sql(\"select * from EBAY_TOP_BERLIN where record_time in (select distinct record_time from EBAY_TOP_BERLIN order by record_time desc limit 2)\", sqlite3.connect(\"UsedObjects.db\"))"
   ]
  },
  {
   "cell_type": "code",
   "execution_count": 5,
   "id": "popular-active",
   "metadata": {
    "execution": {
     "iopub.execute_input": "2021-11-19T23:30:11.312808Z",
     "iopub.status.busy": "2021-11-19T23:30:11.304564Z",
     "iopub.status.idle": "2021-11-19T23:30:11.335618Z",
     "shell.execute_reply": "2021-11-19T23:30:11.337106Z"
    },
    "papermill": {
     "duration": 0.075861,
     "end_time": "2021-11-19T23:30:11.337584",
     "exception": false,
     "start_time": "2021-11-19T23:30:11.261723",
     "status": "completed"
    },
    "tags": []
   },
   "outputs": [],
   "source": [
    "df_pivot = df.pivot_table(index=\"PRODUCT\", columns = \"RECORD_TIME\", values = \"LISTING_COUNT\")"
   ]
  },
  {
   "cell_type": "code",
   "execution_count": 6,
   "id": "union-huntington",
   "metadata": {
    "execution": {
     "iopub.execute_input": "2021-11-19T23:30:11.396815Z",
     "iopub.status.busy": "2021-11-19T23:30:11.394511Z",
     "iopub.status.idle": "2021-11-19T23:30:11.400248Z",
     "shell.execute_reply": "2021-11-19T23:30:11.402001Z"
    },
    "papermill": {
     "duration": 0.044646,
     "end_time": "2021-11-19T23:30:11.402555",
     "exception": false,
     "start_time": "2021-11-19T23:30:11.357909",
     "status": "completed"
    },
    "tags": []
   },
   "outputs": [],
   "source": [
    "df_pivot.columns = [\"stamp_1\", \"stamp_2\"]\n",
    "df_pivot_diff = df_pivot.diff(axis=1)"
   ]
  },
  {
   "cell_type": "code",
   "execution_count": 7,
   "id": "fifth-motion",
   "metadata": {
    "execution": {
     "iopub.execute_input": "2021-11-19T23:30:11.477224Z",
     "iopub.status.busy": "2021-11-19T23:30:11.473170Z",
     "iopub.status.idle": "2021-11-19T23:30:13.302439Z",
     "shell.execute_reply": "2021-11-19T23:30:13.305174Z"
    },
    "papermill": {
     "duration": 1.880639,
     "end_time": "2021-11-19T23:30:13.305967",
     "exception": false,
     "start_time": "2021-11-19T23:30:11.425328",
     "status": "completed"
    },
    "tags": []
   },
   "outputs": [
    {
     "data": {
      "text/plain": [
       "<AxesSubplot:ylabel='PRODUCT'>"
      ]
     },
     "execution_count": 7,
     "metadata": {},
     "output_type": "execute_result"
    },
    {
     "data": {
      "image/png": "[encoded data removed]",
      "text/plain": [
       "<Figure size 432x288 with 1 Axes>"
      ]
     },
     "metadata": {
      "needs_background": "light"
     },
     "output_type": "display_data"
    }
   ],
   "source": [
    "df_pivot_diff.sort_values(\"stamp_2\", ascending = False)[\"stamp_2\"].head(10).plot.barh()"
   ]
  },
  {
   "cell_type": "code",
   "execution_count": null,
   "id": "extra-executive",
   "metadata": {
    "papermill": {
     "duration": 0.035187,
     "end_time": "2021-11-19T23:30:13.380248",
     "exception": false,
     "start_time": "2021-11-19T23:30:13.345061",
     "status": "completed"
    },
    "tags": []
   },
   "outputs": [],
   "source": []
  }
 ],
 "metadata": {
  "kernelspec": {
   "display_name": "Python 3",
   "language": "python",
   "name": "python3"
  },
  "language_info": {
   "codemirror_mode": {
    "name": "ipython",
    "version": 3
   },
   "file_extension": ".py",
   "mimetype": "text/x-python",
   "name": "python",
   "nbconvert_exporter": "python",
   "pygments_lexer": "ipython3",
   "version": "3.9.5"
  },
  "papermill": {
   "default_parameters": {},
   "duration": 10.001573,
   "end_time": "2021-11-19T23:30:15.047147",
   "environment_variables": {},
   "exception": null,
   "input_path": "eBay_Overview.ipynb",
   "output_path": "eBay_Overview.ipynb",
   "parameters": {},
   "start_time": "2021-11-19T23:30:05.045574",
   "version": "2.3.3"
  }
 },
 "nbformat": 4,
 "nbformat_minor": 5
}