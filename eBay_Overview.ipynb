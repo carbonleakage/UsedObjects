{
 "cells": [
  {
   "cell_type": "code",
   "execution_count": 1,
   "id": "reverse-picking",
   "metadata": {
    "execution": {
     "iopub.execute_input": "2021-10-07T18:30:06.776541Z",
     "iopub.status.busy": "2021-10-07T18:30:06.774485Z",
     "iopub.status.idle": "2021-10-07T18:30:07.590083Z",
     "shell.execute_reply": "2021-10-07T18:30:07.588522Z"
    },
    "papermill": {
     "duration": 0.864876,
     "end_time": "2021-10-07T18:30:07.590474",
     "exception": false,
     "start_time": "2021-10-07T18:30:06.725598",
     "status": "completed"
    },
    "tags": []
   },
   "outputs": [],
   "source": [
    "import pandas as pd\n",
    "import sqlite3"
   ]
  },
  {
   "cell_type": "code",
   "execution_count": 2,
   "id": "innovative-syndrome",
   "metadata": {
    "execution": {
     "iopub.execute_input": "2021-10-07T18:30:07.640930Z",
     "iopub.status.busy": "2021-10-07T18:30:07.639025Z",
     "iopub.status.idle": "2021-10-07T18:30:08.119673Z",
     "shell.execute_reply": "2021-10-07T18:30:08.120901Z"
    },
    "papermill": {
     "duration": 0.510029,
     "end_time": "2021-10-07T18:30:08.121311",
     "exception": false,
     "start_time": "2021-10-07T18:30:07.611282",
     "status": "completed"
    },
    "tags": []
   },
   "outputs": [],
   "source": [
    "timestamps = pd.read_sql(\"select distinct record_time from EBAY_TOP_BERLIN order by record_time desc limit 2\", sqlite3.connect(\"UsedObjects.db\"))"
   ]
  },
  {
   "cell_type": "code",
   "execution_count": 3,
   "id": "periodic-identification",
   "metadata": {
    "execution": {
     "iopub.execute_input": "2021-10-07T18:30:08.196838Z",
     "iopub.status.busy": "2021-10-07T18:30:08.194763Z",
     "iopub.status.idle": "2021-10-07T18:30:08.215056Z",
     "shell.execute_reply": "2021-10-07T18:30:08.216809Z"
    },
    "papermill": {
     "duration": 0.068959,
     "end_time": "2021-10-07T18:30:08.217342",
     "exception": false,
     "start_time": "2021-10-07T18:30:08.148383",
     "status": "completed"
    },
    "tags": []
   },
   "outputs": [
    {
     "data": {
      "text/html": [
       "<div>\n",
       "<style scoped>\n",
       "    .dataframe tbody tr th:only-of-type {\n",
       "        vertical-align: middle;\n",
       "    }\n",
       "\n",
       "    .dataframe tbody tr th {\n",
       "        vertical-align: top;\n",
       "    }\n",
       "\n",
       "    .dataframe thead th {\n",
       "        text-align: right;\n",
       "    }\n",
       "</style>\n",
       "<table border=\"1\" class=\"dataframe\">\n",
       "  <thead>\n",
       "    <tr style=\"text-align: right;\">\n",
       "      <th></th>\n",
       "      <th>RECORD_TIME</th>\n",
       "    </tr>\n",
       "  </thead>\n",
       "  <tbody>\n",
       "    <tr>\n",
       "      <th>0</th>\n",
       "      <td>2021-10-07 20:30</td>\n",
       "    </tr>\n",
       "    <tr>\n",
       "      <th>1</th>\n",
       "      <td>2021-10-07 20:00</td>\n",
       "    </tr>\n",
       "  </tbody>\n",
       "</table>\n",
       "</div>"
      ],
      "text/plain": [
       "        RECORD_TIME\n",
       "0  2021-10-07 20:30\n",
       "1  2021-10-07 20:00"
      ]
     },
     "execution_count": 3,
     "metadata": {},
     "output_type": "execute_result"
    }
   ],
   "source": [
    "timestamps"
   ]
  },
  {
   "cell_type": "code",
   "execution_count": 4,
   "id": "alternate-victory",
   "metadata": {
    "execution": {
     "iopub.execute_input": "2021-10-07T18:30:08.270915Z",
     "iopub.status.busy": "2021-10-07T18:30:08.268915Z",
     "iopub.status.idle": "2021-10-07T18:30:08.968103Z",
     "shell.execute_reply": "2021-10-07T18:30:08.969319Z"
    },
    "papermill": {
     "duration": 0.729654,
     "end_time": "2021-10-07T18:30:08.969718",
     "exception": false,
     "start_time": "2021-10-07T18:30:08.240064",
     "status": "completed"
    },
    "tags": []
   },
   "outputs": [],
   "source": [
    "df = pd.read_sql(\"select * from EBAY_TOP_BERLIN where record_time in (select distinct record_time from EBAY_TOP_BERLIN order by record_time desc limit 2)\", sqlite3.connect(\"UsedObjects.db\"))"
   ]
  },
  {
   "cell_type": "code",
   "execution_count": 5,
   "id": "popular-active",
   "metadata": {
    "execution": {
     "iopub.execute_input": "2021-10-07T18:30:09.041098Z",
     "iopub.status.busy": "2021-10-07T18:30:09.028363Z",
     "iopub.status.idle": "2021-10-07T18:30:09.056922Z",
     "shell.execute_reply": "2021-10-07T18:30:09.058151Z"
    },
    "papermill": {
     "duration": 0.068539,
     "end_time": "2021-10-07T18:30:09.058553",
     "exception": false,
     "start_time": "2021-10-07T18:30:08.990014",
     "status": "completed"
    },
    "tags": []
   },
   "outputs": [],
   "source": [
    "df_pivot = df.pivot_table(index=\"PRODUCT\", columns = \"RECORD_TIME\", values = \"LISTING_COUNT\")"
   ]
  },
  {
   "cell_type": "code",
   "execution_count": 6,
   "id": "union-huntington",
   "metadata": {
    "execution": {
     "iopub.execute_input": "2021-10-07T18:30:09.114189Z",
     "iopub.status.busy": "2021-10-07T18:30:09.112137Z",
     "iopub.status.idle": "2021-10-07T18:30:09.117522Z",
     "shell.execute_reply": "2021-10-07T18:30:09.118869Z"
    },
    "papermill": {
     "duration": 0.040109,
     "end_time": "2021-10-07T18:30:09.119297",
     "exception": false,
     "start_time": "2021-10-07T18:30:09.079188",
     "status": "completed"
    },
    "tags": []
   },
   "outputs": [],
   "source": [
    "df_pivot.columns = [\"stamp_1\", \"stamp_2\"]\n",
    "df_pivot_diff = df_pivot.diff(axis=1)"
   ]
  },
  {
   "cell_type": "code",
   "execution_count": 7,
   "id": "fifth-motion",
   "metadata": {
    "execution": {
     "iopub.execute_input": "2021-10-07T18:30:09.173709Z",
     "iopub.status.busy": "2021-10-07T18:30:09.171305Z",
     "iopub.status.idle": "2021-10-07T18:30:10.682342Z",
     "shell.execute_reply": "2021-10-07T18:30:10.683821Z"
    },
    "papermill": {
     "duration": 1.544348,
     "end_time": "2021-10-07T18:30:10.684283",
     "exception": false,
     "start_time": "2021-10-07T18:30:09.139935",
     "status": "completed"
    },
    "tags": []
   },
   "outputs": [
    {
     "data": {
      "text/plain": [
       "<AxesSubplot:ylabel='PRODUCT'>"
      ]
     },
     "execution_count": 7,
     "metadata": {},
     "output_type": "execute_result"
    },
    {
     "data": {
      "image/png": "[encoded data removed]",
      "text/plain": [
       "<Figure size 432x288 with 1 Axes>"
      ]
     },
     "metadata": {
      "needs_background": "light"
     },
     "output_type": "display_data"
    }
   ],
   "source": [
    "df_pivot_diff.sort_values(\"stamp_2\", ascending = False)[\"stamp_2\"].head(10).plot.barh()"
   ]
  },
  {
   "cell_type": "code",
   "execution_count": null,
   "id": "extra-executive",
   "metadata": {
    "papermill": {
     "duration": 0.022132,
     "end_time": "2021-10-07T18:30:10.730993",
     "exception": false,
     "start_time": "2021-10-07T18:30:10.708861",
     "status": "completed"
    },
    "tags": []
   },
   "outputs": [],
   "source": []
  }
 ],
 "metadata": {
  "kernelspec": {
   "display_name": "Python 3",
   "language": "python",
   "name": "python3"
  },
  "language_info": {
   "codemirror_mode": {
    "name": "ipython",
    "version": 3
   },
   "file_extension": ".py",
   "mimetype": "text/x-python",
   "name": "python",
   "nbconvert_exporter": "python",
   "pygments_lexer": "ipython3",
   "version": "3.9.5"
  },
  "papermill": {
   "default_parameters": {},
   "duration": 7.842933,
   "end_time": "2021-10-07T18:30:12.143348",
   "environment_variables": {},
   "exception": null,
   "input_path": "eBay_Overview.ipynb",
   "output_path": "eBay_Overview.ipynb",
   "parameters": {},
   "start_time": "2021-10-07T18:30:04.300415",
   "version": "2.3.3"
  }
 },
 "nbformat": 4,
 "nbformat_minor": 5
}