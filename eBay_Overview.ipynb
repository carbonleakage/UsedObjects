{
 "cells": [
  {
   "cell_type": "code",
   "execution_count": 1,
   "id": "reverse-picking",
   "metadata": {
    "execution": {
     "iopub.execute_input": "2021-12-14T16:30:07.987311Z",
     "iopub.status.busy": "2021-12-14T16:30:07.985083Z",
     "iopub.status.idle": "2021-12-14T16:30:08.930420Z",
     "shell.execute_reply": "2021-12-14T16:30:08.927929Z"
    },
    "papermill": {
     "duration": 0.992307,
     "end_time": "2021-12-14T16:30:08.930906",
     "exception": false,
     "start_time": "2021-12-14T16:30:07.938599",
     "status": "completed"
    },
    "tags": []
   },
   "outputs": [],
   "source": [
    "import pandas as pd\n",
    "import sqlite3"
   ]
  },
  {
   "cell_type": "code",
   "execution_count": 2,
   "id": "innovative-syndrome",
   "metadata": {
    "execution": {
     "iopub.execute_input": "2021-12-14T16:30:08.992898Z",
     "iopub.status.busy": "2021-12-14T16:30:08.990502Z",
     "iopub.status.idle": "2021-12-14T16:30:10.073152Z",
     "shell.execute_reply": "2021-12-14T16:30:10.074456Z"
    },
    "papermill": {
     "duration": 1.122514,
     "end_time": "2021-12-14T16:30:10.074913",
     "exception": false,
     "start_time": "2021-12-14T16:30:08.952399",
     "status": "completed"
    },
    "tags": []
   },
   "outputs": [],
   "source": [
    "timestamps = pd.read_sql(\"select distinct record_time from EBAY_TOP_BERLIN order by record_time desc limit 2\", sqlite3.connect(\"UsedObjects.db\"))"
   ]
  },
  {
   "cell_type": "code",
   "execution_count": 3,
   "id": "periodic-identification",
   "metadata": {
    "execution": {
     "iopub.execute_input": "2021-12-14T16:30:10.144507Z",
     "iopub.status.busy": "2021-12-14T16:30:10.142249Z",
     "iopub.status.idle": "2021-12-14T16:30:10.164145Z",
     "shell.execute_reply": "2021-12-14T16:30:10.165553Z"
    },
    "papermill": {
     "duration": 0.071062,
     "end_time": "2021-12-14T16:30:10.166024",
     "exception": false,
     "start_time": "2021-12-14T16:30:10.094962",
     "status": "completed"
    },
    "tags": []
   },
   "outputs": [
    {
     "data": {
      "text/html": [
       "<div>\n",
       "<style scoped>\n",
       "    .dataframe tbody tr th:only-of-type {\n",
       "        vertical-align: middle;\n",
       "    }\n",
       "\n",
       "    .dataframe tbody tr th {\n",
       "        vertical-align: top;\n",
       "    }\n",
       "\n",
       "    .dataframe thead th {\n",
       "        text-align: right;\n",
       "    }\n",
       "</style>\n",
       "<table border=\"1\" class=\"dataframe\">\n",
       "  <thead>\n",
       "    <tr style=\"text-align: right;\">\n",
       "      <th></th>\n",
       "      <th>RECORD_TIME</th>\n",
       "    </tr>\n",
       "  </thead>\n",
       "  <tbody>\n",
       "    <tr>\n",
       "      <th>0</th>\n",
       "      <td>2021-12-14 17:30</td>\n",
       "    </tr>\n",
       "    <tr>\n",
       "      <th>1</th>\n",
       "      <td>2021-12-14 17:00</td>\n",
       "    </tr>\n",
       "  </tbody>\n",
       "</table>\n",
       "</div>"
      ],
      "text/plain": [
       "        RECORD_TIME\n",
       "0  2021-12-14 17:30\n",
       "1  2021-12-14 17:00"
      ]
     },
     "execution_count": 3,
     "metadata": {},
     "output_type": "execute_result"
    }
   ],
   "source": [
    "timestamps"
   ]
  },
  {
   "cell_type": "code",
   "execution_count": 4,
   "id": "alternate-victory",
   "metadata": {
    "execution": {
     "iopub.execute_input": "2021-12-14T16:30:10.220928Z",
     "iopub.status.busy": "2021-12-14T16:30:10.218695Z",
     "iopub.status.idle": "2021-12-14T16:30:11.792898Z",
     "shell.execute_reply": "2021-12-14T16:30:11.794207Z"
    },
    "papermill": {
     "duration": 1.608151,
     "end_time": "2021-12-14T16:30:11.794768",
     "exception": false,
     "start_time": "2021-12-14T16:30:10.186617",
     "status": "completed"
    },
    "tags": []
   },
   "outputs": [],
   "source": [
    "df = pd.read_sql(\"select * from EBAY_TOP_BERLIN where record_time in (select distinct record_time from EBAY_TOP_BERLIN order by record_time desc limit 2)\", sqlite3.connect(\"UsedObjects.db\"))"
   ]
  },
  {
   "cell_type": "code",
   "execution_count": 5,
   "id": "popular-active",
   "metadata": {
    "execution": {
     "iopub.execute_input": "2021-12-14T16:30:11.870838Z",
     "iopub.status.busy": "2021-12-14T16:30:11.857215Z",
     "iopub.status.idle": "2021-12-14T16:30:11.890993Z",
     "shell.execute_reply": "2021-12-14T16:30:11.889319Z"
    },
    "papermill": {
     "duration": 0.074905,
     "end_time": "2021-12-14T16:30:11.891432",
     "exception": false,
     "start_time": "2021-12-14T16:30:11.816527",
     "status": "completed"
    },
    "tags": []
   },
   "outputs": [],
   "source": [
    "df_pivot = df.pivot_table(index=\"PRODUCT\", columns = \"RECORD_TIME\", values = \"LISTING_COUNT\")"
   ]
  },
  {
   "cell_type": "code",
   "execution_count": 6,
   "id": "union-huntington",
   "metadata": {
    "execution": {
     "iopub.execute_input": "2021-12-14T16:30:11.953248Z",
     "iopub.status.busy": "2021-12-14T16:30:11.950795Z",
     "iopub.status.idle": "2021-12-14T16:30:11.956777Z",
     "shell.execute_reply": "2021-12-14T16:30:11.958187Z"
    },
    "papermill": {
     "duration": 0.046285,
     "end_time": "2021-12-14T16:30:11.958650",
     "exception": false,
     "start_time": "2021-12-14T16:30:11.912365",
     "status": "completed"
    },
    "tags": []
   },
   "outputs": [],
   "source": [
    "df_pivot.columns = [\"stamp_1\", \"stamp_2\"]\n",
    "df_pivot_diff = df_pivot.diff(axis=1)"
   ]
  },
  {
   "cell_type": "code",
   "execution_count": 7,
   "id": "fifth-motion",
   "metadata": {
    "execution": {
     "iopub.execute_input": "2021-12-14T16:30:12.017948Z",
     "iopub.status.busy": "2021-12-14T16:30:12.015246Z",
     "iopub.status.idle": "2021-12-14T16:30:13.916214Z",
     "shell.execute_reply": "2021-12-14T16:30:13.917612Z"
    },
    "papermill": {
     "duration": 1.938015,
     "end_time": "2021-12-14T16:30:13.918088",
     "exception": false,
     "start_time": "2021-12-14T16:30:11.980073",
     "status": "completed"
    },
    "tags": []
   },
   "outputs": [
    {
     "data": {
      "text/plain": [
       "<AxesSubplot:ylabel='PRODUCT'>"
      ]
     },
     "execution_count": 7,
     "metadata": {},
     "output_type": "execute_result"
    },
    {
     "data": {
      "image/png": "[encoded data removed]",
      "text/plain": [
       "<Figure size 432x288 with 1 Axes>"
      ]
     },
     "metadata": {
      "needs_background": "light"
     },
     "output_type": "display_data"
    }
   ],
   "source": [
    "df_pivot_diff.sort_values(\"stamp_2\", ascending = False)[\"stamp_2\"].head(10).plot.barh()"
   ]
  },
  {
   "cell_type": "code",
   "execution_count": null,
   "id": "extra-executive",
   "metadata": {
    "papermill": {
     "duration": 0.02319,
     "end_time": "2021-12-14T16:30:13.965502",
     "exception": false,
     "start_time": "2021-12-14T16:30:13.942312",
     "status": "completed"
    },
    "tags": []
   },
   "outputs": [],
   "source": []
  }
 ],
 "metadata": {
  "kernelspec": {
   "display_name": "Python 3",
   "language": "python",
   "name": "python3"
  },
  "language_info": {
   "codemirror_mode": {
    "name": "ipython",
    "version": 3
   },
   "file_extension": ".py",
   "mimetype": "text/x-python",
   "name": "python",
   "nbconvert_exporter": "python",
   "pygments_lexer": "ipython3",
   "version": "3.9.5"
  },
  "papermill": {
   "default_parameters": {},
   "duration": 9.669977,
   "end_time": "2021-12-14T16:30:14.815922",
   "environment_variables": {},
   "exception": null,
   "input_path": "eBay_Overview.ipynb",
   "output_path": "eBay_Overview.ipynb",
   "parameters": {},
   "start_time": "2021-12-14T16:30:05.145945",
   "version": "2.3.3"
  }
 },
 "nbformat": 4,
 "nbformat_minor": 5
}