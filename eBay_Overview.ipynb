{
 "cells": [
  {
   "cell_type": "code",
   "execution_count": 1,
   "id": "reverse-picking",
   "metadata": {
    "execution": {
     "iopub.execute_input": "2021-10-26T10:30:07.822928Z",
     "iopub.status.busy": "2021-10-26T10:30:07.820988Z",
     "iopub.status.idle": "2021-10-26T10:30:08.626104Z",
     "shell.execute_reply": "2021-10-26T10:30:08.627337Z"
    },
    "papermill": {
     "duration": 0.858498,
     "end_time": "2021-10-26T10:30:08.627944",
     "exception": false,
     "start_time": "2021-10-26T10:30:07.769446",
     "status": "completed"
    },
    "tags": []
   },
   "outputs": [],
   "source": [
    "import pandas as pd\n",
    "import sqlite3"
   ]
  },
  {
   "cell_type": "code",
   "execution_count": 2,
   "id": "innovative-syndrome",
   "metadata": {
    "execution": {
     "iopub.execute_input": "2021-10-26T10:30:08.678755Z",
     "iopub.status.busy": "2021-10-26T10:30:08.676902Z",
     "iopub.status.idle": "2021-10-26T10:30:09.301847Z",
     "shell.execute_reply": "2021-10-26T10:30:09.303105Z"
    },
    "papermill": {
     "duration": 0.654255,
     "end_time": "2021-10-26T10:30:09.303503",
     "exception": false,
     "start_time": "2021-10-26T10:30:08.649248",
     "status": "completed"
    },
    "tags": []
   },
   "outputs": [],
   "source": [
    "timestamps = pd.read_sql(\"select distinct record_time from EBAY_TOP_BERLIN order by record_time desc limit 2\", sqlite3.connect(\"UsedObjects.db\"))"
   ]
  },
  {
   "cell_type": "code",
   "execution_count": 3,
   "id": "periodic-identification",
   "metadata": {
    "execution": {
     "iopub.execute_input": "2021-10-26T10:30:09.377964Z",
     "iopub.status.busy": "2021-10-26T10:30:09.375741Z",
     "iopub.status.idle": "2021-10-26T10:30:09.395634Z",
     "shell.execute_reply": "2021-10-26T10:30:09.396796Z"
    },
    "papermill": {
     "duration": 0.068664,
     "end_time": "2021-10-26T10:30:09.397222",
     "exception": false,
     "start_time": "2021-10-26T10:30:09.328558",
     "status": "completed"
    },
    "tags": []
   },
   "outputs": [
    {
     "data": {
      "text/html": [
       "<div>\n",
       "<style scoped>\n",
       "    .dataframe tbody tr th:only-of-type {\n",
       "        vertical-align: middle;\n",
       "    }\n",
       "\n",
       "    .dataframe tbody tr th {\n",
       "        vertical-align: top;\n",
       "    }\n",
       "\n",
       "    .dataframe thead th {\n",
       "        text-align: right;\n",
       "    }\n",
       "</style>\n",
       "<table border=\"1\" class=\"dataframe\">\n",
       "  <thead>\n",
       "    <tr style=\"text-align: right;\">\n",
       "      <th></th>\n",
       "      <th>RECORD_TIME</th>\n",
       "    </tr>\n",
       "  </thead>\n",
       "  <tbody>\n",
       "    <tr>\n",
       "      <th>0</th>\n",
       "      <td>2021-10-26 12:30</td>\n",
       "    </tr>\n",
       "    <tr>\n",
       "      <th>1</th>\n",
       "      <td>2021-10-26 12:00</td>\n",
       "    </tr>\n",
       "  </tbody>\n",
       "</table>\n",
       "</div>"
      ],
      "text/plain": [
       "        RECORD_TIME\n",
       "0  2021-10-26 12:30\n",
       "1  2021-10-26 12:00"
      ]
     },
     "execution_count": 3,
     "metadata": {},
     "output_type": "execute_result"
    }
   ],
   "source": [
    "timestamps"
   ]
  },
  {
   "cell_type": "code",
   "execution_count": 4,
   "id": "alternate-victory",
   "metadata": {
    "execution": {
     "iopub.execute_input": "2021-10-26T10:30:09.448088Z",
     "iopub.status.busy": "2021-10-26T10:30:09.446245Z",
     "iopub.status.idle": "2021-10-26T10:30:10.386715Z",
     "shell.execute_reply": "2021-10-26T10:30:10.387979Z"
    },
    "papermill": {
     "duration": 0.970453,
     "end_time": "2021-10-26T10:30:10.388394",
     "exception": false,
     "start_time": "2021-10-26T10:30:09.417941",
     "status": "completed"
    },
    "tags": []
   },
   "outputs": [],
   "source": [
    "df = pd.read_sql(\"select * from EBAY_TOP_BERLIN where record_time in (select distinct record_time from EBAY_TOP_BERLIN order by record_time desc limit 2)\", sqlite3.connect(\"UsedObjects.db\"))"
   ]
  },
  {
   "cell_type": "code",
   "execution_count": 5,
   "id": "popular-active",
   "metadata": {
    "execution": {
     "iopub.execute_input": "2021-10-26T10:30:10.454166Z",
     "iopub.status.busy": "2021-10-26T10:30:10.446592Z",
     "iopub.status.idle": "2021-10-26T10:30:10.475736Z",
     "shell.execute_reply": "2021-10-26T10:30:10.477126Z"
    },
    "papermill": {
     "duration": 0.068319,
     "end_time": "2021-10-26T10:30:10.477544",
     "exception": false,
     "start_time": "2021-10-26T10:30:10.409225",
     "status": "completed"
    },
    "tags": []
   },
   "outputs": [],
   "source": [
    "df_pivot = df.pivot_table(index=\"PRODUCT\", columns = \"RECORD_TIME\", values = \"LISTING_COUNT\")"
   ]
  },
  {
   "cell_type": "code",
   "execution_count": 6,
   "id": "union-huntington",
   "metadata": {
    "execution": {
     "iopub.execute_input": "2021-10-26T10:30:10.536007Z",
     "iopub.status.busy": "2021-10-26T10:30:10.533600Z",
     "iopub.status.idle": "2021-10-26T10:30:10.539357Z",
     "shell.execute_reply": "2021-10-26T10:30:10.540614Z"
    },
    "papermill": {
     "duration": 0.04222,
     "end_time": "2021-10-26T10:30:10.541080",
     "exception": false,
     "start_time": "2021-10-26T10:30:10.498860",
     "status": "completed"
    },
    "tags": []
   },
   "outputs": [],
   "source": [
    "df_pivot.columns = [\"stamp_1\", \"stamp_2\"]\n",
    "df_pivot_diff = df_pivot.diff(axis=1)"
   ]
  },
  {
   "cell_type": "code",
   "execution_count": 7,
   "id": "fifth-motion",
   "metadata": {
    "execution": {
     "iopub.execute_input": "2021-10-26T10:30:10.594717Z",
     "iopub.status.busy": "2021-10-26T10:30:10.592285Z",
     "iopub.status.idle": "2021-10-26T10:30:12.092056Z",
     "shell.execute_reply": "2021-10-26T10:30:12.093670Z"
    },
    "papermill": {
     "duration": 1.532557,
     "end_time": "2021-10-26T10:30:12.094128",
     "exception": false,
     "start_time": "2021-10-26T10:30:10.561571",
     "status": "completed"
    },
    "tags": []
   },
   "outputs": [
    {
     "data": {
      "text/plain": [
       "<AxesSubplot:ylabel='PRODUCT'>"
      ]
     },
     "execution_count": 7,
     "metadata": {},
     "output_type": "execute_result"
    },
    {
     "data": {
      "image/png": "[encoded data removed]",
      "text/plain": [
       "<Figure size 432x288 with 1 Axes>"
      ]
     },
     "metadata": {
      "needs_background": "light"
     },
     "output_type": "display_data"
    }
   ],
   "source": [
    "df_pivot_diff.sort_values(\"stamp_2\", ascending = False)[\"stamp_2\"].head(10).plot.barh()"
   ]
  },
  {
   "cell_type": "code",
   "execution_count": null,
   "id": "extra-executive",
   "metadata": {
    "papermill": {
     "duration": 0.022355,
     "end_time": "2021-10-26T10:30:12.142417",
     "exception": false,
     "start_time": "2021-10-26T10:30:12.120062",
     "status": "completed"
    },
    "tags": []
   },
   "outputs": [],
   "source": []
  }
 ],
 "metadata": {
  "kernelspec": {
   "display_name": "Python 3",
   "language": "python",
   "name": "python3"
  },
  "language_info": {
   "codemirror_mode": {
    "name": "ipython",
    "version": 3
   },
   "file_extension": ".py",
   "mimetype": "text/x-python",
   "name": "python",
   "nbconvert_exporter": "python",
   "pygments_lexer": "ipython3",
   "version": "3.9.5"
  },
  "papermill": {
   "default_parameters": {},
   "duration": 7.430224,
   "end_time": "2021-10-26T10:30:12.785718",
   "environment_variables": {},
   "exception": null,
   "input_path": "eBay_Overview.ipynb",
   "output_path": "eBay_Overview.ipynb",
   "parameters": {},
   "start_time": "2021-10-26T10:30:05.355494",
   "version": "2.3.3"
  }
 },
 "nbformat": 4,
 "nbformat_minor": 5
}