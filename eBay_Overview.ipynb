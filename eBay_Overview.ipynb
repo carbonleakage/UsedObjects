{
 "cells": [
  {
   "cell_type": "code",
   "execution_count": 1,
   "id": "reverse-picking",
   "metadata": {
    "execution": {
     "iopub.execute_input": "2021-08-11T01:30:03.870683Z",
     "iopub.status.busy": "2021-08-11T01:30:03.869923Z",
     "iopub.status.idle": "2021-08-11T01:30:04.461867Z",
     "shell.execute_reply": "2021-08-11T01:30:04.462449Z"
    },
    "papermill": {
     "duration": 0.613309,
     "end_time": "2021-08-11T01:30:04.462755",
     "exception": false,
     "start_time": "2021-08-11T01:30:03.849446",
     "status": "completed"
    },
    "tags": []
   },
   "outputs": [],
   "source": [
    "import pandas as pd\n",
    "import sqlite3"
   ]
  },
  {
   "cell_type": "code",
   "execution_count": 2,
   "id": "innovative-syndrome",
   "metadata": {
    "execution": {
     "iopub.execute_input": "2021-08-11T01:30:04.490239Z",
     "iopub.status.busy": "2021-08-11T01:30:04.489125Z",
     "iopub.status.idle": "2021-08-11T01:30:04.779659Z",
     "shell.execute_reply": "2021-08-11T01:30:04.780192Z"
    },
    "papermill": {
     "duration": 0.309122,
     "end_time": "2021-08-11T01:30:04.780379",
     "exception": false,
     "start_time": "2021-08-11T01:30:04.471257",
     "status": "completed"
    },
    "tags": []
   },
   "outputs": [],
   "source": [
    "timestamps = pd.read_sql(\"select distinct record_time from EBAY_TOP_BERLIN order by record_time desc limit 2\", sqlite3.connect(\"UsedObjects.db\"))"
   ]
  },
  {
   "cell_type": "code",
   "execution_count": 3,
   "id": "periodic-identification",
   "metadata": {
    "execution": {
     "iopub.execute_input": "2021-08-11T01:30:04.813451Z",
     "iopub.status.busy": "2021-08-11T01:30:04.812648Z",
     "iopub.status.idle": "2021-08-11T01:30:04.826038Z",
     "shell.execute_reply": "2021-08-11T01:30:04.826610Z"
    },
    "papermill": {
     "duration": 0.038265,
     "end_time": "2021-08-11T01:30:04.826806",
     "exception": false,
     "start_time": "2021-08-11T01:30:04.788541",
     "status": "completed"
    },
    "tags": []
   },
   "outputs": [
    {
     "data": {
      "text/html": [
       "<div>\n",
       "<style scoped>\n",
       "    .dataframe tbody tr th:only-of-type {\n",
       "        vertical-align: middle;\n",
       "    }\n",
       "\n",
       "    .dataframe tbody tr th {\n",
       "        vertical-align: top;\n",
       "    }\n",
       "\n",
       "    .dataframe thead th {\n",
       "        text-align: right;\n",
       "    }\n",
       "</style>\n",
       "<table border=\"1\" class=\"dataframe\">\n",
       "  <thead>\n",
       "    <tr style=\"text-align: right;\">\n",
       "      <th></th>\n",
       "      <th>RECORD_TIME</th>\n",
       "    </tr>\n",
       "  </thead>\n",
       "  <tbody>\n",
       "    <tr>\n",
       "      <th>0</th>\n",
       "      <td>2021-08-11 03:30</td>\n",
       "    </tr>\n",
       "    <tr>\n",
       "      <th>1</th>\n",
       "      <td>2021-08-11 03:00</td>\n",
       "    </tr>\n",
       "  </tbody>\n",
       "</table>\n",
       "</div>"
      ],
      "text/plain": [
       "        RECORD_TIME\n",
       "0  2021-08-11 03:30\n",
       "1  2021-08-11 03:00"
      ]
     },
     "execution_count": 3,
     "metadata": {},
     "output_type": "execute_result"
    }
   ],
   "source": [
    "timestamps"
   ]
  },
  {
   "cell_type": "code",
   "execution_count": 4,
   "id": "alternate-victory",
   "metadata": {
    "execution": {
     "iopub.execute_input": "2021-08-11T01:30:04.849769Z",
     "iopub.status.busy": "2021-08-11T01:30:04.849011Z",
     "iopub.status.idle": "2021-08-11T01:30:04.864552Z",
     "shell.execute_reply": "2021-08-11T01:30:04.865121Z"
    },
    "papermill": {
     "duration": 0.029975,
     "end_time": "2021-08-11T01:30:04.865308",
     "exception": false,
     "start_time": "2021-08-11T01:30:04.835333",
     "status": "completed"
    },
    "tags": []
   },
   "outputs": [],
   "source": [
    "df = pd.read_sql(\"select * from EBAY_TOP_BERLIN where record_time in (select distinct record_time from EBAY_TOP_BERLIN order by record_time desc limit 2)\", sqlite3.connect(\"UsedObjects.db\"))"
   ]
  },
  {
   "cell_type": "code",
   "execution_count": 5,
   "id": "popular-active",
   "metadata": {
    "execution": {
     "iopub.execute_input": "2021-08-11T01:30:04.889267Z",
     "iopub.status.busy": "2021-08-11T01:30:04.888498Z",
     "iopub.status.idle": "2021-08-11T01:30:04.909553Z",
     "shell.execute_reply": "2021-08-11T01:30:04.910445Z"
    },
    "papermill": {
     "duration": 0.036812,
     "end_time": "2021-08-11T01:30:04.910711",
     "exception": false,
     "start_time": "2021-08-11T01:30:04.873899",
     "status": "completed"
    },
    "tags": []
   },
   "outputs": [],
   "source": [
    "df_pivot = df.pivot_table(index=\"PRODUCT\", columns = \"RECORD_TIME\", values = \"LISTING_COUNT\")"
   ]
  },
  {
   "cell_type": "code",
   "execution_count": 6,
   "id": "union-huntington",
   "metadata": {
    "execution": {
     "iopub.execute_input": "2021-08-11T01:30:04.937901Z",
     "iopub.status.busy": "2021-08-11T01:30:04.937207Z",
     "iopub.status.idle": "2021-08-11T01:30:04.943204Z",
     "shell.execute_reply": "2021-08-11T01:30:04.942509Z"
    },
    "papermill": {
     "duration": 0.022594,
     "end_time": "2021-08-11T01:30:04.943360",
     "exception": false,
     "start_time": "2021-08-11T01:30:04.920766",
     "status": "completed"
    },
    "tags": []
   },
   "outputs": [],
   "source": [
    "df_pivot.columns = [\"stamp_1\", \"stamp_2\"]\n",
    "df_pivot_diff = df_pivot.diff(axis=1)"
   ]
  },
  {
   "cell_type": "code",
   "execution_count": 7,
   "id": "fifth-motion",
   "metadata": {
    "execution": {
     "iopub.execute_input": "2021-08-11T01:30:04.973538Z",
     "iopub.status.busy": "2021-08-11T01:30:04.972780Z",
     "iopub.status.idle": "2021-08-11T01:30:05.769309Z",
     "shell.execute_reply": "2021-08-11T01:30:05.769840Z"
    },
    "papermill": {
     "duration": 0.817219,
     "end_time": "2021-08-11T01:30:05.770026",
     "exception": false,
     "start_time": "2021-08-11T01:30:04.952807",
     "status": "completed"
    },
    "tags": []
   },
   "outputs": [
    {
     "data": {
      "text/plain": [
       "<AxesSubplot:ylabel='PRODUCT'>"
      ]
     },
     "execution_count": 7,
     "metadata": {},
     "output_type": "execute_result"
    },
    {
     "data": {
      "image/png": "[encoded data removed]",
      "text/plain": [
       "<Figure size 432x288 with 1 Axes>"
      ]
     },
     "metadata": {
      "needs_background": "light"
     },
     "output_type": "display_data"
    }
   ],
   "source": [
    "df_pivot_diff.sort_values(\"stamp_2\", ascending = False)[\"stamp_2\"].head(10).plot.barh()"
   ]
  },
  {
   "cell_type": "code",
   "execution_count": null,
   "id": "extra-executive",
   "metadata": {
    "papermill": {
     "duration": 0.017418,
     "end_time": "2021-08-11T01:30:05.799105",
     "exception": false,
     "start_time": "2021-08-11T01:30:05.781687",
     "status": "completed"
    },
    "tags": []
   },
   "outputs": [],
   "source": []
  }
 ],
 "metadata": {
  "kernelspec": {
   "display_name": "Python 3",
   "language": "python",
   "name": "python3"
  },
  "language_info": {
   "codemirror_mode": {
    "name": "ipython",
    "version": 3
   },
   "file_extension": ".py",
   "mimetype": "text/x-python",
   "name": "python",
   "nbconvert_exporter": "python",
   "pygments_lexer": "ipython3",
   "version": "3.8.8"
  },
  "papermill": {
   "default_parameters": {},
   "duration": 4.375934,
   "end_time": "2021-08-11T01:30:06.534939",
   "environment_variables": {},
   "exception": null,
   "input_path": "/Users/saravananshanmugam/Carbonleakage_Git/UsedObjects/eBay_Overview.ipynb",
   "output_path": "/Users/saravananshanmugam/Carbonleakage_Git/UsedObjects/eBay_Overview.ipynb",
   "parameters": {},
   "start_time": "2021-08-11T01:30:02.159005",
   "version": "2.3.3"
  }
 },
 "nbformat": 4,
 "nbformat_minor": 5
}