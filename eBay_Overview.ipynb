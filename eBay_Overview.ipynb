{
 "cells": [
  {
   "cell_type": "code",
   "execution_count": 1,
   "id": "reverse-picking",
   "metadata": {
    "execution": {
     "iopub.execute_input": "2021-10-06T02:00:06.516945Z",
     "iopub.status.busy": "2021-10-06T02:00:06.514992Z",
     "iopub.status.idle": "2021-10-06T02:00:07.324765Z",
     "shell.execute_reply": "2021-10-06T02:00:07.326008Z"
    },
    "papermill": {
     "duration": 0.863184,
     "end_time": "2021-10-06T02:00:07.326626",
     "exception": false,
     "start_time": "2021-10-06T02:00:06.463442",
     "status": "completed"
    },
    "tags": []
   },
   "outputs": [],
   "source": [
    "import pandas as pd\n",
    "import sqlite3"
   ]
  },
  {
   "cell_type": "code",
   "execution_count": 2,
   "id": "innovative-syndrome",
   "metadata": {
    "execution": {
     "iopub.execute_input": "2021-10-06T02:00:07.379659Z",
     "iopub.status.busy": "2021-10-06T02:00:07.377247Z",
     "iopub.status.idle": "2021-10-06T02:00:07.840636Z",
     "shell.execute_reply": "2021-10-06T02:00:07.841866Z"
    },
    "papermill": {
     "duration": 0.493206,
     "end_time": "2021-10-06T02:00:07.842263",
     "exception": false,
     "start_time": "2021-10-06T02:00:07.349057",
     "status": "completed"
    },
    "tags": []
   },
   "outputs": [],
   "source": [
    "timestamps = pd.read_sql(\"select distinct record_time from EBAY_TOP_BERLIN order by record_time desc limit 2\", sqlite3.connect(\"UsedObjects.db\"))"
   ]
  },
  {
   "cell_type": "code",
   "execution_count": 3,
   "id": "periodic-identification",
   "metadata": {
    "execution": {
     "iopub.execute_input": "2021-10-06T02:00:07.910972Z",
     "iopub.status.busy": "2021-10-06T02:00:07.908869Z",
     "iopub.status.idle": "2021-10-06T02:00:07.928901Z",
     "shell.execute_reply": "2021-10-06T02:00:07.930190Z"
    },
    "papermill": {
     "duration": 0.066807,
     "end_time": "2021-10-06T02:00:07.930605",
     "exception": false,
     "start_time": "2021-10-06T02:00:07.863798",
     "status": "completed"
    },
    "tags": []
   },
   "outputs": [
    {
     "data": {
      "text/html": [
       "<div>\n",
       "<style scoped>\n",
       "    .dataframe tbody tr th:only-of-type {\n",
       "        vertical-align: middle;\n",
       "    }\n",
       "\n",
       "    .dataframe tbody tr th {\n",
       "        vertical-align: top;\n",
       "    }\n",
       "\n",
       "    .dataframe thead th {\n",
       "        text-align: right;\n",
       "    }\n",
       "</style>\n",
       "<table border=\"1\" class=\"dataframe\">\n",
       "  <thead>\n",
       "    <tr style=\"text-align: right;\">\n",
       "      <th></th>\n",
       "      <th>RECORD_TIME</th>\n",
       "    </tr>\n",
       "  </thead>\n",
       "  <tbody>\n",
       "    <tr>\n",
       "      <th>0</th>\n",
       "      <td>2021-10-06 04:00</td>\n",
       "    </tr>\n",
       "    <tr>\n",
       "      <th>1</th>\n",
       "      <td>2021-10-06 03:30</td>\n",
       "    </tr>\n",
       "  </tbody>\n",
       "</table>\n",
       "</div>"
      ],
      "text/plain": [
       "        RECORD_TIME\n",
       "0  2021-10-06 04:00\n",
       "1  2021-10-06 03:30"
      ]
     },
     "execution_count": 3,
     "metadata": {},
     "output_type": "execute_result"
    }
   ],
   "source": [
    "timestamps"
   ]
  },
  {
   "cell_type": "code",
   "execution_count": 4,
   "id": "alternate-victory",
   "metadata": {
    "execution": {
     "iopub.execute_input": "2021-10-06T02:00:07.991715Z",
     "iopub.status.busy": "2021-10-06T02:00:07.989693Z",
     "iopub.status.idle": "2021-10-06T02:00:08.671692Z",
     "shell.execute_reply": "2021-10-06T02:00:08.672983Z"
    },
    "papermill": {
     "duration": 0.717056,
     "end_time": "2021-10-06T02:00:08.673381",
     "exception": false,
     "start_time": "2021-10-06T02:00:07.956325",
     "status": "completed"
    },
    "tags": []
   },
   "outputs": [],
   "source": [
    "df = pd.read_sql(\"select * from EBAY_TOP_BERLIN where record_time in (select distinct record_time from EBAY_TOP_BERLIN order by record_time desc limit 2)\", sqlite3.connect(\"UsedObjects.db\"))"
   ]
  },
  {
   "cell_type": "code",
   "execution_count": 5,
   "id": "popular-active",
   "metadata": {
    "execution": {
     "iopub.execute_input": "2021-10-06T02:00:08.742507Z",
     "iopub.status.busy": "2021-10-06T02:00:08.731090Z",
     "iopub.status.idle": "2021-10-06T02:00:08.758762Z",
     "shell.execute_reply": "2021-10-06T02:00:08.760208Z"
    },
    "papermill": {
     "duration": 0.067003,
     "end_time": "2021-10-06T02:00:08.760627",
     "exception": false,
     "start_time": "2021-10-06T02:00:08.693624",
     "status": "completed"
    },
    "tags": []
   },
   "outputs": [],
   "source": [
    "df_pivot = df.pivot_table(index=\"PRODUCT\", columns = \"RECORD_TIME\", values = \"LISTING_COUNT\")"
   ]
  },
  {
   "cell_type": "code",
   "execution_count": 6,
   "id": "union-huntington",
   "metadata": {
    "execution": {
     "iopub.execute_input": "2021-10-06T02:00:08.816172Z",
     "iopub.status.busy": "2021-10-06T02:00:08.814085Z",
     "iopub.status.idle": "2021-10-06T02:00:08.819457Z",
     "shell.execute_reply": "2021-10-06T02:00:08.820775Z"
    },
    "papermill": {
     "duration": 0.0408,
     "end_time": "2021-10-06T02:00:08.821189",
     "exception": false,
     "start_time": "2021-10-06T02:00:08.780389",
     "status": "completed"
    },
    "tags": []
   },
   "outputs": [],
   "source": [
    "df_pivot.columns = [\"stamp_1\", \"stamp_2\"]\n",
    "df_pivot_diff = df_pivot.diff(axis=1)"
   ]
  },
  {
   "cell_type": "code",
   "execution_count": 7,
   "id": "fifth-motion",
   "metadata": {
    "execution": {
     "iopub.execute_input": "2021-10-06T02:00:08.876555Z",
     "iopub.status.busy": "2021-10-06T02:00:08.873953Z",
     "iopub.status.idle": "2021-10-06T02:00:10.347631Z",
     "shell.execute_reply": "2021-10-06T02:00:10.349080Z"
    },
    "papermill": {
     "duration": 1.506979,
     "end_time": "2021-10-06T02:00:10.349524",
     "exception": false,
     "start_time": "2021-10-06T02:00:08.842545",
     "status": "completed"
    },
    "tags": []
   },
   "outputs": [
    {
     "data": {
      "text/plain": [
       "<AxesSubplot:ylabel='PRODUCT'>"
      ]
     },
     "execution_count": 7,
     "metadata": {},
     "output_type": "execute_result"
    },
    {
     "data": {
      "image/png": "[encoded data removed]",
      "text/plain": [
       "<Figure size 432x288 with 1 Axes>"
      ]
     },
     "metadata": {
      "needs_background": "light"
     },
     "output_type": "display_data"
    }
   ],
   "source": [
    "df_pivot_diff.sort_values(\"stamp_2\", ascending = False)[\"stamp_2\"].head(10).plot.barh()"
   ]
  },
  {
   "cell_type": "code",
   "execution_count": null,
   "id": "extra-executive",
   "metadata": {
    "papermill": {
     "duration": 0.021931,
     "end_time": "2021-10-06T02:00:10.395809",
     "exception": false,
     "start_time": "2021-10-06T02:00:10.373878",
     "status": "completed"
    },
    "tags": []
   },
   "outputs": [],
   "source": []
  }
 ],
 "metadata": {
  "kernelspec": {
   "display_name": "Python 3",
   "language": "python",
   "name": "python3"
  },
  "language_info": {
   "codemirror_mode": {
    "name": "ipython",
    "version": 3
   },
   "file_extension": ".py",
   "mimetype": "text/x-python",
   "name": "python",
   "nbconvert_exporter": "python",
   "pygments_lexer": "ipython3",
   "version": "3.9.5"
  },
  "papermill": {
   "default_parameters": {},
   "duration": 7.831751,
   "end_time": "2021-10-06T02:00:11.884117",
   "environment_variables": {},
   "exception": null,
   "input_path": "eBay_Overview.ipynb",
   "output_path": "eBay_Overview.ipynb",
   "parameters": {},
   "start_time": "2021-10-06T02:00:04.052366",
   "version": "2.3.3"
  }
 },
 "nbformat": 4,
 "nbformat_minor": 5
}