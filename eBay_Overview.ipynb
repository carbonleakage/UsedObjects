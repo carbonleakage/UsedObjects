{
 "cells": [
  {
   "cell_type": "code",
   "execution_count": 1,
   "id": "reverse-picking",
   "metadata": {
    "execution": {
     "iopub.execute_input": "2021-08-19T00:30:06.746801Z",
     "iopub.status.busy": "2021-08-19T00:30:06.744781Z",
     "iopub.status.idle": "2021-08-19T00:30:07.552693Z",
     "shell.execute_reply": "2021-08-19T00:30:07.551140Z"
    },
    "papermill": {
     "duration": 0.857795,
     "end_time": "2021-08-19T00:30:07.553094",
     "exception": false,
     "start_time": "2021-08-19T00:30:06.695299",
     "status": "completed"
    },
    "tags": []
   },
   "outputs": [],
   "source": [
    "import pandas as pd\n",
    "import sqlite3"
   ]
  },
  {
   "cell_type": "code",
   "execution_count": 2,
   "id": "innovative-syndrome",
   "metadata": {
    "execution": {
     "iopub.execute_input": "2021-08-19T00:30:07.604041Z",
     "iopub.status.busy": "2021-08-19T00:30:07.602168Z",
     "iopub.status.idle": "2021-08-19T00:30:07.681788Z",
     "shell.execute_reply": "2021-08-19T00:30:07.683162Z"
    },
    "papermill": {
     "duration": 0.109472,
     "end_time": "2021-08-19T00:30:07.683581",
     "exception": false,
     "start_time": "2021-08-19T00:30:07.574109",
     "status": "completed"
    },
    "tags": []
   },
   "outputs": [],
   "source": [
    "timestamps = pd.read_sql(\"select distinct record_time from EBAY_TOP_BERLIN order by record_time desc limit 2\", sqlite3.connect(\"UsedObjects.db\"))"
   ]
  },
  {
   "cell_type": "code",
   "execution_count": 3,
   "id": "periodic-identification",
   "metadata": {
    "execution": {
     "iopub.execute_input": "2021-08-19T00:30:07.748390Z",
     "iopub.status.busy": "2021-08-19T00:30:07.746380Z",
     "iopub.status.idle": "2021-08-19T00:30:07.765809Z",
     "shell.execute_reply": "2021-08-19T00:30:07.767026Z"
    },
    "papermill": {
     "duration": 0.064326,
     "end_time": "2021-08-19T00:30:07.767437",
     "exception": false,
     "start_time": "2021-08-19T00:30:07.703111",
     "status": "completed"
    },
    "tags": []
   },
   "outputs": [
    {
     "data": {
      "text/html": [
       "<div>\n",
       "<style scoped>\n",
       "    .dataframe tbody tr th:only-of-type {\n",
       "        vertical-align: middle;\n",
       "    }\n",
       "\n",
       "    .dataframe tbody tr th {\n",
       "        vertical-align: top;\n",
       "    }\n",
       "\n",
       "    .dataframe thead th {\n",
       "        text-align: right;\n",
       "    }\n",
       "</style>\n",
       "<table border=\"1\" class=\"dataframe\">\n",
       "  <thead>\n",
       "    <tr style=\"text-align: right;\">\n",
       "      <th></th>\n",
       "      <th>RECORD_TIME</th>\n",
       "    </tr>\n",
       "  </thead>\n",
       "  <tbody>\n",
       "    <tr>\n",
       "      <th>0</th>\n",
       "      <td>2021-08-19 02:30</td>\n",
       "    </tr>\n",
       "    <tr>\n",
       "      <th>1</th>\n",
       "      <td>2021-08-19 02:00</td>\n",
       "    </tr>\n",
       "  </tbody>\n",
       "</table>\n",
       "</div>"
      ],
      "text/plain": [
       "        RECORD_TIME\n",
       "0  2021-08-19 02:30\n",
       "1  2021-08-19 02:00"
      ]
     },
     "execution_count": 3,
     "metadata": {},
     "output_type": "execute_result"
    }
   ],
   "source": [
    "timestamps"
   ]
  },
  {
   "cell_type": "code",
   "execution_count": 4,
   "id": "alternate-victory",
   "metadata": {
    "execution": {
     "iopub.execute_input": "2021-08-19T00:30:07.821234Z",
     "iopub.status.busy": "2021-08-19T00:30:07.818959Z",
     "iopub.status.idle": "2021-08-19T00:30:07.936275Z",
     "shell.execute_reply": "2021-08-19T00:30:07.937502Z"
    },
    "papermill": {
     "duration": 0.147718,
     "end_time": "2021-08-19T00:30:07.937901",
     "exception": false,
     "start_time": "2021-08-19T00:30:07.790183",
     "status": "completed"
    },
    "tags": []
   },
   "outputs": [],
   "source": [
    "df = pd.read_sql(\"select * from EBAY_TOP_BERLIN where record_time in (select distinct record_time from EBAY_TOP_BERLIN order by record_time desc limit 2)\", sqlite3.connect(\"UsedObjects.db\"))"
   ]
  },
  {
   "cell_type": "code",
   "execution_count": 5,
   "id": "popular-active",
   "metadata": {
    "execution": {
     "iopub.execute_input": "2021-08-19T00:30:08.011717Z",
     "iopub.status.busy": "2021-08-19T00:30:08.001003Z",
     "iopub.status.idle": "2021-08-19T00:30:08.027468Z",
     "shell.execute_reply": "2021-08-19T00:30:08.028691Z"
    },
    "papermill": {
     "duration": 0.068394,
     "end_time": "2021-08-19T00:30:08.029088",
     "exception": false,
     "start_time": "2021-08-19T00:30:07.960694",
     "status": "completed"
    },
    "tags": []
   },
   "outputs": [],
   "source": [
    "df_pivot = df.pivot_table(index=\"PRODUCT\", columns = \"RECORD_TIME\", values = \"LISTING_COUNT\")"
   ]
  },
  {
   "cell_type": "code",
   "execution_count": 6,
   "id": "union-huntington",
   "metadata": {
    "execution": {
     "iopub.execute_input": "2021-08-19T00:30:08.086137Z",
     "iopub.status.busy": "2021-08-19T00:30:08.083919Z",
     "iopub.status.idle": "2021-08-19T00:30:08.089435Z",
     "shell.execute_reply": "2021-08-19T00:30:08.091065Z"
    },
    "papermill": {
     "duration": 0.040951,
     "end_time": "2021-08-19T00:30:08.091526",
     "exception": false,
     "start_time": "2021-08-19T00:30:08.050575",
     "status": "completed"
    },
    "tags": []
   },
   "outputs": [],
   "source": [
    "df_pivot.columns = [\"stamp_1\", \"stamp_2\"]\n",
    "df_pivot_diff = df_pivot.diff(axis=1)"
   ]
  },
  {
   "cell_type": "code",
   "execution_count": 7,
   "id": "fifth-motion",
   "metadata": {
    "execution": {
     "iopub.execute_input": "2021-08-19T00:30:08.147967Z",
     "iopub.status.busy": "2021-08-19T00:30:08.145518Z",
     "iopub.status.idle": "2021-08-19T00:30:09.623551Z",
     "shell.execute_reply": "2021-08-19T00:30:09.625023Z"
    },
    "papermill": {
     "duration": 1.511734,
     "end_time": "2021-08-19T00:30:09.625491",
     "exception": false,
     "start_time": "2021-08-19T00:30:08.113757",
     "status": "completed"
    },
    "tags": []
   },
   "outputs": [
    {
     "data": {
      "text/plain": [
       "<AxesSubplot:ylabel='PRODUCT'>"
      ]
     },
     "execution_count": 7,
     "metadata": {},
     "output_type": "execute_result"
    },
    {
     "data": {
      "image/png": "[encoded data removed]",
      "text/plain": [
       "<Figure size 432x288 with 1 Axes>"
      ]
     },
     "metadata": {
      "needs_background": "light"
     },
     "output_type": "display_data"
    }
   ],
   "source": [
    "df_pivot_diff.sort_values(\"stamp_2\", ascending = False)[\"stamp_2\"].head(10).plot.barh()"
   ]
  },
  {
   "cell_type": "code",
   "execution_count": null,
   "id": "extra-executive",
   "metadata": {
    "papermill": {
     "duration": 0.022168,
     "end_time": "2021-08-19T00:30:09.671467",
     "exception": false,
     "start_time": "2021-08-19T00:30:09.649299",
     "status": "completed"
    },
    "tags": []
   },
   "outputs": [],
   "source": []
  }
 ],
 "metadata": {
  "kernelspec": {
   "display_name": "Python 3",
   "language": "python",
   "name": "python3"
  },
  "language_info": {
   "codemirror_mode": {
    "name": "ipython",
    "version": 3
   },
   "file_extension": ".py",
   "mimetype": "text/x-python",
   "name": "python",
   "nbconvert_exporter": "python",
   "pygments_lexer": "ipython3",
   "version": "3.9.5"
  },
  "papermill": {
   "default_parameters": {},
   "duration": 6.83061,
   "end_time": "2021-08-19T00:30:11.116884",
   "environment_variables": {},
   "exception": null,
   "input_path": "eBay_Overview.ipynb",
   "output_path": "eBay_Overview.ipynb",
   "parameters": {},
   "start_time": "2021-08-19T00:30:04.286274",
   "version": "2.3.3"
  }
 },
 "nbformat": 4,
 "nbformat_minor": 5
}