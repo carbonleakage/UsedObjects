{
 "cells": [
  {
   "cell_type": "code",
   "execution_count": 1,
   "id": "reverse-picking",
   "metadata": {
    "execution": {
     "iopub.execute_input": "2021-08-14T13:30:06.887228Z",
     "iopub.status.busy": "2021-08-14T13:30:06.885175Z",
     "iopub.status.idle": "2021-08-14T13:30:07.695442Z",
     "shell.execute_reply": "2021-08-14T13:30:07.693682Z"
    },
    "papermill": {
     "duration": 0.858536,
     "end_time": "2021-08-14T13:30:07.695875",
     "exception": false,
     "start_time": "2021-08-14T13:30:06.837339",
     "status": "completed"
    },
    "tags": []
   },
   "outputs": [],
   "source": [
    "import pandas as pd\n",
    "import sqlite3"
   ]
  },
  {
   "cell_type": "code",
   "execution_count": 2,
   "id": "innovative-syndrome",
   "metadata": {
    "execution": {
     "iopub.execute_input": "2021-08-14T13:30:07.746872Z",
     "iopub.status.busy": "2021-08-14T13:30:07.744909Z",
     "iopub.status.idle": "2021-08-14T13:30:07.791416Z",
     "shell.execute_reply": "2021-08-14T13:30:07.792627Z"
    },
    "papermill": {
     "duration": 0.07655,
     "end_time": "2021-08-14T13:30:07.793031",
     "exception": false,
     "start_time": "2021-08-14T13:30:07.716481",
     "status": "completed"
    },
    "tags": []
   },
   "outputs": [],
   "source": [
    "timestamps = pd.read_sql(\"select distinct record_time from EBAY_TOP_BERLIN order by record_time desc limit 2\", sqlite3.connect(\"UsedObjects.db\"))"
   ]
  },
  {
   "cell_type": "code",
   "execution_count": 3,
   "id": "periodic-identification",
   "metadata": {
    "execution": {
     "iopub.execute_input": "2021-08-14T13:30:07.857585Z",
     "iopub.status.busy": "2021-08-14T13:30:07.855545Z",
     "iopub.status.idle": "2021-08-14T13:30:07.875744Z",
     "shell.execute_reply": "2021-08-14T13:30:07.877014Z"
    },
    "papermill": {
     "duration": 0.065082,
     "end_time": "2021-08-14T13:30:07.877433",
     "exception": false,
     "start_time": "2021-08-14T13:30:07.812351",
     "status": "completed"
    },
    "tags": []
   },
   "outputs": [
    {
     "data": {
      "text/html": [
       "<div>\n",
       "<style scoped>\n",
       "    .dataframe tbody tr th:only-of-type {\n",
       "        vertical-align: middle;\n",
       "    }\n",
       "\n",
       "    .dataframe tbody tr th {\n",
       "        vertical-align: top;\n",
       "    }\n",
       "\n",
       "    .dataframe thead th {\n",
       "        text-align: right;\n",
       "    }\n",
       "</style>\n",
       "<table border=\"1\" class=\"dataframe\">\n",
       "  <thead>\n",
       "    <tr style=\"text-align: right;\">\n",
       "      <th></th>\n",
       "      <th>RECORD_TIME</th>\n",
       "    </tr>\n",
       "  </thead>\n",
       "  <tbody>\n",
       "    <tr>\n",
       "      <th>0</th>\n",
       "      <td>2021-08-14 15:30</td>\n",
       "    </tr>\n",
       "    <tr>\n",
       "      <th>1</th>\n",
       "      <td>2021-08-14 15:00</td>\n",
       "    </tr>\n",
       "  </tbody>\n",
       "</table>\n",
       "</div>"
      ],
      "text/plain": [
       "        RECORD_TIME\n",
       "0  2021-08-14 15:30\n",
       "1  2021-08-14 15:00"
      ]
     },
     "execution_count": 3,
     "metadata": {},
     "output_type": "execute_result"
    }
   ],
   "source": [
    "timestamps"
   ]
  },
  {
   "cell_type": "code",
   "execution_count": 4,
   "id": "alternate-victory",
   "metadata": {
    "execution": {
     "iopub.execute_input": "2021-08-14T13:30:07.932111Z",
     "iopub.status.busy": "2021-08-14T13:30:07.929703Z",
     "iopub.status.idle": "2021-08-14T13:30:08.002408Z",
     "shell.execute_reply": "2021-08-14T13:30:08.003803Z"
    },
    "papermill": {
     "duration": 0.103597,
     "end_time": "2021-08-14T13:30:08.004232",
     "exception": false,
     "start_time": "2021-08-14T13:30:07.900635",
     "status": "completed"
    },
    "tags": []
   },
   "outputs": [],
   "source": [
    "df = pd.read_sql(\"select * from EBAY_TOP_BERLIN where record_time in (select distinct record_time from EBAY_TOP_BERLIN order by record_time desc limit 2)\", sqlite3.connect(\"UsedObjects.db\"))"
   ]
  },
  {
   "cell_type": "code",
   "execution_count": 5,
   "id": "popular-active",
   "metadata": {
    "execution": {
     "iopub.execute_input": "2021-08-14T13:30:08.074021Z",
     "iopub.status.busy": "2021-08-14T13:30:08.062778Z",
     "iopub.status.idle": "2021-08-14T13:30:08.091383Z",
     "shell.execute_reply": "2021-08-14T13:30:08.092735Z"
    },
    "papermill": {
     "duration": 0.067978,
     "end_time": "2021-08-14T13:30:08.093180",
     "exception": false,
     "start_time": "2021-08-14T13:30:08.025202",
     "status": "completed"
    },
    "tags": []
   },
   "outputs": [],
   "source": [
    "df_pivot = df.pivot_table(index=\"PRODUCT\", columns = \"RECORD_TIME\", values = \"LISTING_COUNT\")"
   ]
  },
  {
   "cell_type": "code",
   "execution_count": 6,
   "id": "union-huntington",
   "metadata": {
    "execution": {
     "iopub.execute_input": "2021-08-14T13:30:08.150001Z",
     "iopub.status.busy": "2021-08-14T13:30:08.147885Z",
     "iopub.status.idle": "2021-08-14T13:30:08.153353Z",
     "shell.execute_reply": "2021-08-14T13:30:08.154708Z"
    },
    "papermill": {
     "duration": 0.041522,
     "end_time": "2021-08-14T13:30:08.155135",
     "exception": false,
     "start_time": "2021-08-14T13:30:08.113613",
     "status": "completed"
    },
    "tags": []
   },
   "outputs": [],
   "source": [
    "df_pivot.columns = [\"stamp_1\", \"stamp_2\"]\n",
    "df_pivot_diff = df_pivot.diff(axis=1)"
   ]
  },
  {
   "cell_type": "code",
   "execution_count": 7,
   "id": "fifth-motion",
   "metadata": {
    "execution": {
     "iopub.execute_input": "2021-08-14T13:30:08.210901Z",
     "iopub.status.busy": "2021-08-14T13:30:08.208295Z",
     "iopub.status.idle": "2021-08-14T13:30:09.681468Z",
     "shell.execute_reply": "2021-08-14T13:30:09.682909Z"
    },
    "papermill": {
     "duration": 1.506672,
     "end_time": "2021-08-14T13:30:09.683362",
     "exception": false,
     "start_time": "2021-08-14T13:30:08.176690",
     "status": "completed"
    },
    "tags": []
   },
   "outputs": [
    {
     "data": {
      "text/plain": [
       "<AxesSubplot:ylabel='PRODUCT'>"
      ]
     },
     "execution_count": 7,
     "metadata": {},
     "output_type": "execute_result"
    },
    {
     "data": {
      "image/png": "[encoded data removed]",
      "text/plain": [
       "<Figure size 432x288 with 1 Axes>"
      ]
     },
     "metadata": {
      "needs_background": "light"
     },
     "output_type": "display_data"
    }
   ],
   "source": [
    "df_pivot_diff.sort_values(\"stamp_2\", ascending = False)[\"stamp_2\"].head(10).plot.barh()"
   ]
  },
  {
   "cell_type": "code",
   "execution_count": null,
   "id": "extra-executive",
   "metadata": {
    "papermill": {
     "duration": 0.022406,
     "end_time": "2021-08-14T13:30:09.730752",
     "exception": false,
     "start_time": "2021-08-14T13:30:09.708346",
     "status": "completed"
    },
    "tags": []
   },
   "outputs": [],
   "source": []
  }
 ],
 "metadata": {
  "kernelspec": {
   "display_name": "Python 3",
   "language": "python",
   "name": "python3"
  },
  "language_info": {
   "codemirror_mode": {
    "name": "ipython",
    "version": 3
   },
   "file_extension": ".py",
   "mimetype": "text/x-python",
   "name": "python",
   "nbconvert_exporter": "python",
   "pygments_lexer": "ipython3",
   "version": "3.9.5"
  },
  "papermill": {
   "default_parameters": {},
   "duration": 6.828496,
   "end_time": "2021-08-14T13:30:11.240649",
   "environment_variables": {},
   "exception": null,
   "input_path": "eBay_Overview.ipynb",
   "output_path": "eBay_Overview.ipynb",
   "parameters": {},
   "start_time": "2021-08-14T13:30:04.412153",
   "version": "2.3.3"
  }
 },
 "nbformat": 4,
 "nbformat_minor": 5
}