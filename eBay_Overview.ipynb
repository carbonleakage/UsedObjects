{
 "cells": [
  {
   "cell_type": "code",
   "execution_count": 1,
   "id": "reverse-picking",
   "metadata": {
    "execution": {
     "iopub.execute_input": "2021-10-31T01:00:07.446570Z",
     "iopub.status.busy": "2021-10-31T01:00:07.444427Z",
     "iopub.status.idle": "2021-10-31T01:00:08.253541Z",
     "shell.execute_reply": "2021-10-31T01:00:08.254908Z"
    },
    "papermill": {
     "duration": 0.859478,
     "end_time": "2021-10-31T01:00:08.255550",
     "exception": false,
     "start_time": "2021-10-31T01:00:07.396072",
     "status": "completed"
    },
    "tags": []
   },
   "outputs": [],
   "source": [
    "import pandas as pd\n",
    "import sqlite3"
   ]
  },
  {
   "cell_type": "code",
   "execution_count": 2,
   "id": "innovative-syndrome",
   "metadata": {
    "execution": {
     "iopub.execute_input": "2021-10-31T01:00:08.306296Z",
     "iopub.status.busy": "2021-10-31T01:00:08.304327Z",
     "iopub.status.idle": "2021-10-31T01:00:08.982445Z",
     "shell.execute_reply": "2021-10-31T01:00:08.983649Z"
    },
    "papermill": {
     "duration": 0.707587,
     "end_time": "2021-10-31T01:00:08.984046",
     "exception": false,
     "start_time": "2021-10-31T01:00:08.276459",
     "status": "completed"
    },
    "tags": []
   },
   "outputs": [],
   "source": [
    "timestamps = pd.read_sql(\"select distinct record_time from EBAY_TOP_BERLIN order by record_time desc limit 2\", sqlite3.connect(\"UsedObjects.db\"))"
   ]
  },
  {
   "cell_type": "code",
   "execution_count": 3,
   "id": "periodic-identification",
   "metadata": {
    "execution": {
     "iopub.execute_input": "2021-10-31T01:00:09.072345Z",
     "iopub.status.busy": "2021-10-31T01:00:09.070343Z",
     "iopub.status.idle": "2021-10-31T01:00:09.091814Z",
     "shell.execute_reply": "2021-10-31T01:00:09.093155Z"
    },
    "papermill": {
     "duration": 0.072743,
     "end_time": "2021-10-31T01:00:09.093606",
     "exception": false,
     "start_time": "2021-10-31T01:00:09.020863",
     "status": "completed"
    },
    "tags": []
   },
   "outputs": [
    {
     "data": {
      "text/html": [
       "<div>\n",
       "<style scoped>\n",
       "    .dataframe tbody tr th:only-of-type {\n",
       "        vertical-align: middle;\n",
       "    }\n",
       "\n",
       "    .dataframe tbody tr th {\n",
       "        vertical-align: top;\n",
       "    }\n",
       "\n",
       "    .dataframe thead th {\n",
       "        text-align: right;\n",
       "    }\n",
       "</style>\n",
       "<table border=\"1\" class=\"dataframe\">\n",
       "  <thead>\n",
       "    <tr style=\"text-align: right;\">\n",
       "      <th></th>\n",
       "      <th>RECORD_TIME</th>\n",
       "    </tr>\n",
       "  </thead>\n",
       "  <tbody>\n",
       "    <tr>\n",
       "      <th>0</th>\n",
       "      <td>2021-10-31 02:30</td>\n",
       "    </tr>\n",
       "    <tr>\n",
       "      <th>1</th>\n",
       "      <td>2021-10-31 02:00</td>\n",
       "    </tr>\n",
       "  </tbody>\n",
       "</table>\n",
       "</div>"
      ],
      "text/plain": [
       "        RECORD_TIME\n",
       "0  2021-10-31 02:30\n",
       "1  2021-10-31 02:00"
      ]
     },
     "execution_count": 3,
     "metadata": {},
     "output_type": "execute_result"
    }
   ],
   "source": [
    "timestamps"
   ]
  },
  {
   "cell_type": "code",
   "execution_count": 4,
   "id": "alternate-victory",
   "metadata": {
    "execution": {
     "iopub.execute_input": "2021-10-31T01:00:09.145957Z",
     "iopub.status.busy": "2021-10-31T01:00:09.143593Z",
     "iopub.status.idle": "2021-10-31T01:00:10.116943Z",
     "shell.execute_reply": "2021-10-31T01:00:10.118327Z"
    },
    "papermill": {
     "duration": 1.003572,
     "end_time": "2021-10-31T01:00:10.118743",
     "exception": false,
     "start_time": "2021-10-31T01:00:09.115171",
     "status": "completed"
    },
    "tags": []
   },
   "outputs": [],
   "source": [
    "df = pd.read_sql(\"select * from EBAY_TOP_BERLIN where record_time in (select distinct record_time from EBAY_TOP_BERLIN order by record_time desc limit 2)\", sqlite3.connect(\"UsedObjects.db\"))"
   ]
  },
  {
   "cell_type": "code",
   "execution_count": 5,
   "id": "popular-active",
   "metadata": {
    "execution": {
     "iopub.execute_input": "2021-10-31T01:00:10.176524Z",
     "iopub.status.busy": "2021-10-31T01:00:10.174128Z",
     "iopub.status.idle": "2021-10-31T01:00:10.203773Z",
     "shell.execute_reply": "2021-10-31T01:00:10.205209Z"
    },
    "papermill": {
     "duration": 0.066444,
     "end_time": "2021-10-31T01:00:10.205633",
     "exception": false,
     "start_time": "2021-10-31T01:00:10.139189",
     "status": "completed"
    },
    "tags": []
   },
   "outputs": [],
   "source": [
    "df_pivot = df.pivot_table(index=\"PRODUCT\", columns = \"RECORD_TIME\", values = \"LISTING_COUNT\")"
   ]
  },
  {
   "cell_type": "code",
   "execution_count": 6,
   "id": "union-huntington",
   "metadata": {
    "execution": {
     "iopub.execute_input": "2021-10-31T01:00:10.264026Z",
     "iopub.status.busy": "2021-10-31T01:00:10.261583Z",
     "iopub.status.idle": "2021-10-31T01:00:10.267467Z",
     "shell.execute_reply": "2021-10-31T01:00:10.268895Z"
    },
    "papermill": {
     "duration": 0.042294,
     "end_time": "2021-10-31T01:00:10.269339",
     "exception": false,
     "start_time": "2021-10-31T01:00:10.227045",
     "status": "completed"
    },
    "tags": []
   },
   "outputs": [],
   "source": [
    "df_pivot.columns = [\"stamp_1\", \"stamp_2\"]\n",
    "df_pivot_diff = df_pivot.diff(axis=1)"
   ]
  },
  {
   "cell_type": "code",
   "execution_count": 7,
   "id": "fifth-motion",
   "metadata": {
    "execution": {
     "iopub.execute_input": "2021-10-31T01:00:10.323865Z",
     "iopub.status.busy": "2021-10-31T01:00:10.321700Z",
     "iopub.status.idle": "2021-10-31T01:00:11.821252Z",
     "shell.execute_reply": "2021-10-31T01:00:11.822453Z"
    },
    "papermill": {
     "duration": 1.532087,
     "end_time": "2021-10-31T01:00:11.822884",
     "exception": false,
     "start_time": "2021-10-31T01:00:10.290797",
     "status": "completed"
    },
    "tags": []
   },
   "outputs": [
    {
     "data": {
      "text/plain": [
       "<AxesSubplot:ylabel='PRODUCT'>"
      ]
     },
     "execution_count": 7,
     "metadata": {},
     "output_type": "execute_result"
    },
    {
     "data": {
      "image/png": "[encoded data removed]",
      "text/plain": [
       "<Figure size 432x288 with 1 Axes>"
      ]
     },
     "metadata": {
      "needs_background": "light"
     },
     "output_type": "display_data"
    }
   ],
   "source": [
    "df_pivot_diff.sort_values(\"stamp_2\", ascending = False)[\"stamp_2\"].head(10).plot.barh()"
   ]
  },
  {
   "cell_type": "code",
   "execution_count": null,
   "id": "extra-executive",
   "metadata": {
    "papermill": {
     "duration": 0.022117,
     "end_time": "2021-10-31T01:00:11.868860",
     "exception": false,
     "start_time": "2021-10-31T01:00:11.846743",
     "status": "completed"
    },
    "tags": []
   },
   "outputs": [],
   "source": []
  }
 ],
 "metadata": {
  "kernelspec": {
   "display_name": "Python 3",
   "language": "python",
   "name": "python3"
  },
  "language_info": {
   "codemirror_mode": {
    "name": "ipython",
    "version": 3
   },
   "file_extension": ".py",
   "mimetype": "text/x-python",
   "name": "python",
   "nbconvert_exporter": "python",
   "pygments_lexer": "ipython3",
   "version": "3.9.5"
  },
  "papermill": {
   "default_parameters": {},
   "duration": 7.52474,
   "end_time": "2021-10-31T01:00:12.511637",
   "environment_variables": {},
   "exception": null,
   "input_path": "eBay_Overview.ipynb",
   "output_path": "eBay_Overview.ipynb",
   "parameters": {},
   "start_time": "2021-10-31T01:00:04.986897",
   "version": "2.3.3"
  }
 },
 "nbformat": 4,
 "nbformat_minor": 5
}