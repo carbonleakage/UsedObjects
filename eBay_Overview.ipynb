{
 "cells": [
  {
   "cell_type": "code",
   "execution_count": 1,
   "id": "reverse-picking",
   "metadata": {
    "execution": {
     "iopub.execute_input": "2021-11-17T19:00:07.703016Z",
     "iopub.status.busy": "2021-11-17T19:00:07.699176Z",
     "iopub.status.idle": "2021-11-17T19:00:08.646726Z",
     "shell.execute_reply": "2021-11-17T19:00:08.648062Z"
    },
    "papermill": {
     "duration": 0.999717,
     "end_time": "2021-11-17T19:00:08.648853",
     "exception": false,
     "start_time": "2021-11-17T19:00:07.649136",
     "status": "completed"
    },
    "tags": []
   },
   "outputs": [],
   "source": [
    "import pandas as pd\n",
    "import sqlite3"
   ]
  },
  {
   "cell_type": "code",
   "execution_count": 2,
   "id": "innovative-syndrome",
   "metadata": {
    "execution": {
     "iopub.execute_input": "2021-11-17T19:00:08.703340Z",
     "iopub.status.busy": "2021-11-17T19:00:08.700985Z",
     "iopub.status.idle": "2021-11-17T19:00:09.538615Z",
     "shell.execute_reply": "2021-11-17T19:00:09.540247Z"
    },
    "papermill": {
     "duration": 0.871115,
     "end_time": "2021-11-17T19:00:09.541009",
     "exception": false,
     "start_time": "2021-11-17T19:00:08.669894",
     "status": "completed"
    },
    "tags": []
   },
   "outputs": [],
   "source": [
    "timestamps = pd.read_sql(\"select distinct record_time from EBAY_TOP_BERLIN order by record_time desc limit 2\", sqlite3.connect(\"UsedObjects.db\"))"
   ]
  },
  {
   "cell_type": "code",
   "execution_count": 3,
   "id": "periodic-identification",
   "metadata": {
    "execution": {
     "iopub.execute_input": "2021-11-17T19:00:09.616067Z",
     "iopub.status.busy": "2021-11-17T19:00:09.592528Z",
     "iopub.status.idle": "2021-11-17T19:00:09.638827Z",
     "shell.execute_reply": "2021-11-17T19:00:09.637245Z"
    },
    "papermill": {
     "duration": 0.075985,
     "end_time": "2021-11-17T19:00:09.639244",
     "exception": false,
     "start_time": "2021-11-17T19:00:09.563259",
     "status": "completed"
    },
    "tags": []
   },
   "outputs": [
    {
     "data": {
      "text/html": [
       "<div>\n",
       "<style scoped>\n",
       "    .dataframe tbody tr th:only-of-type {\n",
       "        vertical-align: middle;\n",
       "    }\n",
       "\n",
       "    .dataframe tbody tr th {\n",
       "        vertical-align: top;\n",
       "    }\n",
       "\n",
       "    .dataframe thead th {\n",
       "        text-align: right;\n",
       "    }\n",
       "</style>\n",
       "<table border=\"1\" class=\"dataframe\">\n",
       "  <thead>\n",
       "    <tr style=\"text-align: right;\">\n",
       "      <th></th>\n",
       "      <th>RECORD_TIME</th>\n",
       "    </tr>\n",
       "  </thead>\n",
       "  <tbody>\n",
       "    <tr>\n",
       "      <th>0</th>\n",
       "      <td>2021-11-17 20:00</td>\n",
       "    </tr>\n",
       "    <tr>\n",
       "      <th>1</th>\n",
       "      <td>2021-11-17 19:30</td>\n",
       "    </tr>\n",
       "  </tbody>\n",
       "</table>\n",
       "</div>"
      ],
      "text/plain": [
       "        RECORD_TIME\n",
       "0  2021-11-17 20:00\n",
       "1  2021-11-17 19:30"
      ]
     },
     "execution_count": 3,
     "metadata": {},
     "output_type": "execute_result"
    }
   ],
   "source": [
    "timestamps"
   ]
  },
  {
   "cell_type": "code",
   "execution_count": 4,
   "id": "alternate-victory",
   "metadata": {
    "execution": {
     "iopub.execute_input": "2021-11-17T19:00:09.697256Z",
     "iopub.status.busy": "2021-11-17T19:00:09.694933Z",
     "iopub.status.idle": "2021-11-17T19:00:10.917341Z",
     "shell.execute_reply": "2021-11-17T19:00:10.919451Z"
    },
    "papermill": {
     "duration": 1.257611,
     "end_time": "2021-11-17T19:00:10.919927",
     "exception": false,
     "start_time": "2021-11-17T19:00:09.662316",
     "status": "completed"
    },
    "tags": []
   },
   "outputs": [],
   "source": [
    "df = pd.read_sql(\"select * from EBAY_TOP_BERLIN where record_time in (select distinct record_time from EBAY_TOP_BERLIN order by record_time desc limit 2)\", sqlite3.connect(\"UsedObjects.db\"))"
   ]
  },
  {
   "cell_type": "code",
   "execution_count": 5,
   "id": "popular-active",
   "metadata": {
    "execution": {
     "iopub.execute_input": "2021-11-17T19:00:10.988178Z",
     "iopub.status.busy": "2021-11-17T19:00:10.985856Z",
     "iopub.status.idle": "2021-11-17T19:00:11.015954Z",
     "shell.execute_reply": "2021-11-17T19:00:11.017409Z"
    },
    "papermill": {
     "duration": 0.076319,
     "end_time": "2021-11-17T19:00:11.017892",
     "exception": false,
     "start_time": "2021-11-17T19:00:10.941573",
     "status": "completed"
    },
    "tags": []
   },
   "outputs": [],
   "source": [
    "df_pivot = df.pivot_table(index=\"PRODUCT\", columns = \"RECORD_TIME\", values = \"LISTING_COUNT\")"
   ]
  },
  {
   "cell_type": "code",
   "execution_count": 6,
   "id": "union-huntington",
   "metadata": {
    "execution": {
     "iopub.execute_input": "2021-11-17T19:00:11.079113Z",
     "iopub.status.busy": "2021-11-17T19:00:11.077061Z",
     "iopub.status.idle": "2021-11-17T19:00:11.083348Z",
     "shell.execute_reply": "2021-11-17T19:00:11.081901Z"
    },
    "papermill": {
     "duration": 0.044325,
     "end_time": "2021-11-17T19:00:11.083709",
     "exception": false,
     "start_time": "2021-11-17T19:00:11.039384",
     "status": "completed"
    },
    "tags": []
   },
   "outputs": [],
   "source": [
    "df_pivot.columns = [\"stamp_1\", \"stamp_2\"]\n",
    "df_pivot_diff = df_pivot.diff(axis=1)"
   ]
  },
  {
   "cell_type": "code",
   "execution_count": 7,
   "id": "fifth-motion",
   "metadata": {
    "execution": {
     "iopub.execute_input": "2021-11-17T19:00:11.148110Z",
     "iopub.status.busy": "2021-11-17T19:00:11.138057Z",
     "iopub.status.idle": "2021-11-17T19:00:12.875651Z",
     "shell.execute_reply": "2021-11-17T19:00:12.877320Z"
    },
    "papermill": {
     "duration": 1.773431,
     "end_time": "2021-11-17T19:00:12.877846",
     "exception": false,
     "start_time": "2021-11-17T19:00:11.104415",
     "status": "completed"
    },
    "tags": []
   },
   "outputs": [
    {
     "data": {
      "text/plain": [
       "<AxesSubplot:ylabel='PRODUCT'>"
      ]
     },
     "execution_count": 7,
     "metadata": {},
     "output_type": "execute_result"
    },
    {
     "data": {
      "image/png": "[encoded data removed]",
      "text/plain": [
       "<Figure size 432x288 with 1 Axes>"
      ]
     },
     "metadata": {
      "needs_background": "light"
     },
     "output_type": "display_data"
    }
   ],
   "source": [
    "df_pivot_diff.sort_values(\"stamp_2\", ascending = False)[\"stamp_2\"].head(10).plot.barh()"
   ]
  },
  {
   "cell_type": "code",
   "execution_count": null,
   "id": "extra-executive",
   "metadata": {
    "papermill": {
     "duration": 0.025889,
     "end_time": "2021-11-17T19:00:12.929367",
     "exception": false,
     "start_time": "2021-11-17T19:00:12.903478",
     "status": "completed"
    },
    "tags": []
   },
   "outputs": [],
   "source": []
  }
 ],
 "metadata": {
  "kernelspec": {
   "display_name": "Python 3",
   "language": "python",
   "name": "python3"
  },
  "language_info": {
   "codemirror_mode": {
    "name": "ipython",
    "version": 3
   },
   "file_extension": ".py",
   "mimetype": "text/x-python",
   "name": "python",
   "nbconvert_exporter": "python",
   "pygments_lexer": "ipython3",
   "version": "3.9.5"
  },
  "papermill": {
   "default_parameters": {},
   "duration": 8.694904,
   "end_time": "2021-11-17T19:00:13.674520",
   "environment_variables": {},
   "exception": null,
   "input_path": "eBay_Overview.ipynb",
   "output_path": "eBay_Overview.ipynb",
   "parameters": {},
   "start_time": "2021-11-17T19:00:04.979616",
   "version": "2.3.3"
  }
 },
 "nbformat": 4,
 "nbformat_minor": 5
}