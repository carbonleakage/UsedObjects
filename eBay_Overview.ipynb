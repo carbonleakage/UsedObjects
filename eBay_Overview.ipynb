{
 "cells": [
  {
   "cell_type": "code",
   "execution_count": 1,
   "id": "reverse-picking",
   "metadata": {
    "execution": {
     "iopub.execute_input": "2021-09-03T13:00:06.944668Z",
     "iopub.status.busy": "2021-09-03T13:00:06.942668Z",
     "iopub.status.idle": "2021-09-03T13:00:07.746922Z",
     "shell.execute_reply": "2021-09-03T13:00:07.748302Z"
    },
    "papermill": {
     "duration": 0.856424,
     "end_time": "2021-09-03T13:00:07.748946",
     "exception": false,
     "start_time": "2021-09-03T13:00:06.892522",
     "status": "completed"
    },
    "tags": []
   },
   "outputs": [],
   "source": [
    "import pandas as pd\n",
    "import sqlite3"
   ]
  },
  {
   "cell_type": "code",
   "execution_count": 2,
   "id": "innovative-syndrome",
   "metadata": {
    "execution": {
     "iopub.execute_input": "2021-09-03T13:00:07.799499Z",
     "iopub.status.busy": "2021-09-03T13:00:07.797513Z",
     "iopub.status.idle": "2021-09-03T13:00:07.989946Z",
     "shell.execute_reply": "2021-09-03T13:00:07.991370Z"
    },
    "papermill": {
     "duration": 0.22194,
     "end_time": "2021-09-03T13:00:07.991793",
     "exception": false,
     "start_time": "2021-09-03T13:00:07.769853",
     "status": "completed"
    },
    "tags": []
   },
   "outputs": [],
   "source": [
    "timestamps = pd.read_sql(\"select distinct record_time from EBAY_TOP_BERLIN order by record_time desc limit 2\", sqlite3.connect(\"UsedObjects.db\"))"
   ]
  },
  {
   "cell_type": "code",
   "execution_count": 3,
   "id": "periodic-identification",
   "metadata": {
    "execution": {
     "iopub.execute_input": "2021-09-03T13:00:08.058358Z",
     "iopub.status.busy": "2021-09-03T13:00:08.056781Z",
     "iopub.status.idle": "2021-09-03T13:00:08.081266Z",
     "shell.execute_reply": "2021-09-03T13:00:08.082461Z"
    },
    "papermill": {
     "duration": 0.070365,
     "end_time": "2021-09-03T13:00:08.082956",
     "exception": false,
     "start_time": "2021-09-03T13:00:08.012591",
     "status": "completed"
    },
    "tags": []
   },
   "outputs": [
    {
     "data": {
      "text/html": [
       "<div>\n",
       "<style scoped>\n",
       "    .dataframe tbody tr th:only-of-type {\n",
       "        vertical-align: middle;\n",
       "    }\n",
       "\n",
       "    .dataframe tbody tr th {\n",
       "        vertical-align: top;\n",
       "    }\n",
       "\n",
       "    .dataframe thead th {\n",
       "        text-align: right;\n",
       "    }\n",
       "</style>\n",
       "<table border=\"1\" class=\"dataframe\">\n",
       "  <thead>\n",
       "    <tr style=\"text-align: right;\">\n",
       "      <th></th>\n",
       "      <th>RECORD_TIME</th>\n",
       "    </tr>\n",
       "  </thead>\n",
       "  <tbody>\n",
       "    <tr>\n",
       "      <th>0</th>\n",
       "      <td>2021-09-03 15:00</td>\n",
       "    </tr>\n",
       "    <tr>\n",
       "      <th>1</th>\n",
       "      <td>2021-09-03 14:30</td>\n",
       "    </tr>\n",
       "  </tbody>\n",
       "</table>\n",
       "</div>"
      ],
      "text/plain": [
       "        RECORD_TIME\n",
       "0  2021-09-03 15:00\n",
       "1  2021-09-03 14:30"
      ]
     },
     "execution_count": 3,
     "metadata": {},
     "output_type": "execute_result"
    }
   ],
   "source": [
    "timestamps"
   ]
  },
  {
   "cell_type": "code",
   "execution_count": 4,
   "id": "alternate-victory",
   "metadata": {
    "execution": {
     "iopub.execute_input": "2021-09-03T13:00:08.135976Z",
     "iopub.status.busy": "2021-09-03T13:00:08.134016Z",
     "iopub.status.idle": "2021-09-03T13:00:08.419643Z",
     "shell.execute_reply": "2021-09-03T13:00:08.420884Z"
    },
    "papermill": {
     "duration": 0.315444,
     "end_time": "2021-09-03T13:00:08.421284",
     "exception": false,
     "start_time": "2021-09-03T13:00:08.105840",
     "status": "completed"
    },
    "tags": []
   },
   "outputs": [],
   "source": [
    "df = pd.read_sql(\"select * from EBAY_TOP_BERLIN where record_time in (select distinct record_time from EBAY_TOP_BERLIN order by record_time desc limit 2)\", sqlite3.connect(\"UsedObjects.db\"))"
   ]
  },
  {
   "cell_type": "code",
   "execution_count": 5,
   "id": "popular-active",
   "metadata": {
    "execution": {
     "iopub.execute_input": "2021-09-03T13:00:08.503142Z",
     "iopub.status.busy": "2021-09-03T13:00:08.491901Z",
     "iopub.status.idle": "2021-09-03T13:00:08.519587Z",
     "shell.execute_reply": "2021-09-03T13:00:08.520821Z"
    },
    "papermill": {
     "duration": 0.071059,
     "end_time": "2021-09-03T13:00:08.521216",
     "exception": false,
     "start_time": "2021-09-03T13:00:08.450157",
     "status": "completed"
    },
    "tags": []
   },
   "outputs": [],
   "source": [
    "df_pivot = df.pivot_table(index=\"PRODUCT\", columns = \"RECORD_TIME\", values = \"LISTING_COUNT\")"
   ]
  },
  {
   "cell_type": "code",
   "execution_count": 6,
   "id": "union-huntington",
   "metadata": {
    "execution": {
     "iopub.execute_input": "2021-09-03T13:00:08.579050Z",
     "iopub.status.busy": "2021-09-03T13:00:08.576741Z",
     "iopub.status.idle": "2021-09-03T13:00:08.582480Z",
     "shell.execute_reply": "2021-09-03T13:00:08.583835Z"
    },
    "papermill": {
     "duration": 0.04151,
     "end_time": "2021-09-03T13:00:08.584254",
     "exception": false,
     "start_time": "2021-09-03T13:00:08.542744",
     "status": "completed"
    },
    "tags": []
   },
   "outputs": [],
   "source": [
    "df_pivot.columns = [\"stamp_1\", \"stamp_2\"]\n",
    "df_pivot_diff = df_pivot.diff(axis=1)"
   ]
  },
  {
   "cell_type": "code",
   "execution_count": 7,
   "id": "fifth-motion",
   "metadata": {
    "execution": {
     "iopub.execute_input": "2021-09-03T13:00:08.638095Z",
     "iopub.status.busy": "2021-09-03T13:00:08.635890Z",
     "iopub.status.idle": "2021-09-03T13:00:10.145978Z",
     "shell.execute_reply": "2021-09-03T13:00:10.147583Z"
    },
    "papermill": {
     "duration": 1.543126,
     "end_time": "2021-09-03T13:00:10.148046",
     "exception": false,
     "start_time": "2021-09-03T13:00:08.604920",
     "status": "completed"
    },
    "tags": []
   },
   "outputs": [
    {
     "data": {
      "text/plain": [
       "<AxesSubplot:ylabel='PRODUCT'>"
      ]
     },
     "execution_count": 7,
     "metadata": {},
     "output_type": "execute_result"
    },
    {
     "data": {
      "image/png": "[encoded data removed]",
      "text/plain": [
       "<Figure size 432x288 with 1 Axes>"
      ]
     },
     "metadata": {
      "needs_background": "light"
     },
     "output_type": "display_data"
    }
   ],
   "source": [
    "df_pivot_diff.sort_values(\"stamp_2\", ascending = False)[\"stamp_2\"].head(10).plot.barh()"
   ]
  },
  {
   "cell_type": "code",
   "execution_count": null,
   "id": "extra-executive",
   "metadata": {
    "papermill": {
     "duration": 0.022148,
     "end_time": "2021-09-03T13:00:10.194416",
     "exception": false,
     "start_time": "2021-09-03T13:00:10.172268",
     "status": "completed"
    },
    "tags": []
   },
   "outputs": [],
   "source": []
  }
 ],
 "metadata": {
  "kernelspec": {
   "display_name": "Python 3",
   "language": "python",
   "name": "python3"
  },
  "language_info": {
   "codemirror_mode": {
    "name": "ipython",
    "version": 3
   },
   "file_extension": ".py",
   "mimetype": "text/x-python",
   "name": "python",
   "nbconvert_exporter": "python",
   "pygments_lexer": "ipython3",
   "version": "3.9.5"
  },
  "papermill": {
   "default_parameters": {},
   "duration": 6.346689,
   "end_time": "2021-09-03T13:00:10.836328",
   "environment_variables": {},
   "exception": null,
   "input_path": "eBay_Overview.ipynb",
   "output_path": "eBay_Overview.ipynb",
   "parameters": {},
   "start_time": "2021-09-03T13:00:04.489639",
   "version": "2.3.3"
  }
 },
 "nbformat": 4,
 "nbformat_minor": 5
}