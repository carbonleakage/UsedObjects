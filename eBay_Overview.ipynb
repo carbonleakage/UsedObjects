{
 "cells": [
  {
   "cell_type": "code",
   "execution_count": 1,
   "id": "reverse-picking",
   "metadata": {
    "execution": {
     "iopub.execute_input": "2021-12-21T18:30:07.710807Z",
     "iopub.status.busy": "2021-12-21T18:30:07.708122Z",
     "iopub.status.idle": "2021-12-21T18:30:08.681763Z",
     "shell.execute_reply": "2021-12-21T18:30:08.679824Z"
    },
    "papermill": {
     "duration": 1.022014,
     "end_time": "2021-12-21T18:30:08.682282",
     "exception": false,
     "start_time": "2021-12-21T18:30:07.660268",
     "status": "completed"
    },
    "tags": []
   },
   "outputs": [],
   "source": [
    "import pandas as pd\n",
    "import sqlite3"
   ]
  },
  {
   "cell_type": "code",
   "execution_count": 2,
   "id": "innovative-syndrome",
   "metadata": {
    "execution": {
     "iopub.execute_input": "2021-12-21T18:30:08.744296Z",
     "iopub.status.busy": "2021-12-21T18:30:08.742074Z",
     "iopub.status.idle": "2021-12-21T18:30:09.859904Z",
     "shell.execute_reply": "2021-12-21T18:30:09.861890Z"
    },
    "papermill": {
     "duration": 1.152807,
     "end_time": "2021-12-21T18:30:09.862372",
     "exception": false,
     "start_time": "2021-12-21T18:30:08.709565",
     "status": "completed"
    },
    "tags": []
   },
   "outputs": [],
   "source": [
    "timestamps = pd.read_sql(\"select distinct record_time from EBAY_TOP_BERLIN order by record_time desc limit 2\", sqlite3.connect(\"UsedObjects.db\"))"
   ]
  },
  {
   "cell_type": "code",
   "execution_count": 3,
   "id": "periodic-identification",
   "metadata": {
    "execution": {
     "iopub.execute_input": "2021-12-21T18:30:09.919538Z",
     "iopub.status.busy": "2021-12-21T18:30:09.917628Z",
     "iopub.status.idle": "2021-12-21T18:30:09.957646Z",
     "shell.execute_reply": "2021-12-21T18:30:09.959340Z"
    },
    "papermill": {
     "duration": 0.078015,
     "end_time": "2021-12-21T18:30:09.959836",
     "exception": false,
     "start_time": "2021-12-21T18:30:09.881821",
     "status": "completed"
    },
    "tags": []
   },
   "outputs": [
    {
     "data": {
      "text/html": [
       "<div>\n",
       "<style scoped>\n",
       "    .dataframe tbody tr th:only-of-type {\n",
       "        vertical-align: middle;\n",
       "    }\n",
       "\n",
       "    .dataframe tbody tr th {\n",
       "        vertical-align: top;\n",
       "    }\n",
       "\n",
       "    .dataframe thead th {\n",
       "        text-align: right;\n",
       "    }\n",
       "</style>\n",
       "<table border=\"1\" class=\"dataframe\">\n",
       "  <thead>\n",
       "    <tr style=\"text-align: right;\">\n",
       "      <th></th>\n",
       "      <th>RECORD_TIME</th>\n",
       "    </tr>\n",
       "  </thead>\n",
       "  <tbody>\n",
       "    <tr>\n",
       "      <th>0</th>\n",
       "      <td>2021-12-21 19:30</td>\n",
       "    </tr>\n",
       "    <tr>\n",
       "      <th>1</th>\n",
       "      <td>2021-12-21 19:00</td>\n",
       "    </tr>\n",
       "  </tbody>\n",
       "</table>\n",
       "</div>"
      ],
      "text/plain": [
       "        RECORD_TIME\n",
       "0  2021-12-21 19:30\n",
       "1  2021-12-21 19:00"
      ]
     },
     "execution_count": 3,
     "metadata": {},
     "output_type": "execute_result"
    }
   ],
   "source": [
    "timestamps"
   ]
  },
  {
   "cell_type": "code",
   "execution_count": 4,
   "id": "alternate-victory",
   "metadata": {
    "execution": {
     "iopub.execute_input": "2021-12-21T18:30:10.015465Z",
     "iopub.status.busy": "2021-12-21T18:30:10.013051Z",
     "iopub.status.idle": "2021-12-21T18:30:11.643182Z",
     "shell.execute_reply": "2021-12-21T18:30:11.645374Z"
    },
    "papermill": {
     "duration": 1.66464,
     "end_time": "2021-12-21T18:30:11.645850",
     "exception": false,
     "start_time": "2021-12-21T18:30:09.981210",
     "status": "completed"
    },
    "tags": []
   },
   "outputs": [],
   "source": [
    "df = pd.read_sql(\"select * from EBAY_TOP_BERLIN where record_time in (select distinct record_time from EBAY_TOP_BERLIN order by record_time desc limit 2)\", sqlite3.connect(\"UsedObjects.db\"))"
   ]
  },
  {
   "cell_type": "code",
   "execution_count": 5,
   "id": "popular-active",
   "metadata": {
    "execution": {
     "iopub.execute_input": "2021-12-21T18:30:11.710584Z",
     "iopub.status.busy": "2021-12-21T18:30:11.708053Z",
     "iopub.status.idle": "2021-12-21T18:30:11.742524Z",
     "shell.execute_reply": "2021-12-21T18:30:11.743887Z"
    },
    "papermill": {
     "duration": 0.077086,
     "end_time": "2021-12-21T18:30:11.744352",
     "exception": false,
     "start_time": "2021-12-21T18:30:11.667266",
     "status": "completed"
    },
    "tags": []
   },
   "outputs": [],
   "source": [
    "df_pivot = df.pivot_table(index=\"PRODUCT\", columns = \"RECORD_TIME\", values = \"LISTING_COUNT\")"
   ]
  },
  {
   "cell_type": "code",
   "execution_count": 6,
   "id": "union-huntington",
   "metadata": {
    "execution": {
     "iopub.execute_input": "2021-12-21T18:30:11.802268Z",
     "iopub.status.busy": "2021-12-21T18:30:11.799925Z",
     "iopub.status.idle": "2021-12-21T18:30:11.805700Z",
     "shell.execute_reply": "2021-12-21T18:30:11.807181Z"
    },
    "papermill": {
     "duration": 0.043522,
     "end_time": "2021-12-21T18:30:11.807640",
     "exception": false,
     "start_time": "2021-12-21T18:30:11.764118",
     "status": "completed"
    },
    "tags": []
   },
   "outputs": [],
   "source": [
    "df_pivot.columns = [\"stamp_1\", \"stamp_2\"]\n",
    "df_pivot_diff = df_pivot.diff(axis=1)"
   ]
  },
  {
   "cell_type": "code",
   "execution_count": 7,
   "id": "fifth-motion",
   "metadata": {
    "execution": {
     "iopub.execute_input": "2021-12-21T18:30:11.865967Z",
     "iopub.status.busy": "2021-12-21T18:30:11.863202Z",
     "iopub.status.idle": "2021-12-21T18:30:13.847901Z",
     "shell.execute_reply": "2021-12-21T18:30:13.849536Z"
    },
    "papermill": {
     "duration": 2.022117,
     "end_time": "2021-12-21T18:30:13.850077",
     "exception": false,
     "start_time": "2021-12-21T18:30:11.827960",
     "status": "completed"
    },
    "tags": []
   },
   "outputs": [
    {
     "data": {
      "text/plain": [
       "<AxesSubplot:ylabel='PRODUCT'>"
      ]
     },
     "execution_count": 7,
     "metadata": {},
     "output_type": "execute_result"
    },
    {
     "data": {
      "image/png": "[encoded data removed]",
      "text/plain": [
       "<Figure size 432x288 with 1 Axes>"
      ]
     },
     "metadata": {
      "needs_background": "light"
     },
     "output_type": "display_data"
    }
   ],
   "source": [
    "df_pivot_diff.sort_values(\"stamp_2\", ascending = False)[\"stamp_2\"].head(10).plot.barh()"
   ]
  },
  {
   "cell_type": "code",
   "execution_count": null,
   "id": "extra-executive",
   "metadata": {
    "papermill": {
     "duration": 0.029734,
     "end_time": "2021-12-21T18:30:13.913483",
     "exception": false,
     "start_time": "2021-12-21T18:30:13.883749",
     "status": "completed"
    },
    "tags": []
   },
   "outputs": [],
   "source": []
  }
 ],
 "metadata": {
  "kernelspec": {
   "display_name": "Python 3",
   "language": "python",
   "name": "python3"
  },
  "language_info": {
   "codemirror_mode": {
    "name": "ipython",
    "version": 3
   },
   "file_extension": ".py",
   "mimetype": "text/x-python",
   "name": "python",
   "nbconvert_exporter": "python",
   "pygments_lexer": "ipython3",
   "version": "3.9.5"
  },
  "papermill": {
   "default_parameters": {},
   "duration": 9.646926,
   "end_time": "2021-12-21T18:30:14.557077",
   "environment_variables": {},
   "exception": null,
   "input_path": "eBay_Overview.ipynb",
   "output_path": "eBay_Overview.ipynb",
   "parameters": {},
   "start_time": "2021-12-21T18:30:04.910151",
   "version": "2.3.3"
  }
 },
 "nbformat": 4,
 "nbformat_minor": 5
}