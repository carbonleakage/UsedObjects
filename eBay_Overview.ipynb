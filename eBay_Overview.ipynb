{
 "cells": [
  {
   "cell_type": "code",
   "execution_count": 1,
   "id": "reverse-picking",
   "metadata": {
    "execution": {
     "iopub.execute_input": "2021-11-24T15:00:07.700412Z",
     "iopub.status.busy": "2021-11-24T15:00:07.698573Z",
     "iopub.status.idle": "2021-11-24T15:00:08.664020Z",
     "shell.execute_reply": "2021-11-24T15:00:08.665731Z"
    },
    "papermill": {
     "duration": 1.014181,
     "end_time": "2021-11-24T15:00:08.666482",
     "exception": false,
     "start_time": "2021-11-24T15:00:07.652301",
     "status": "completed"
    },
    "tags": []
   },
   "outputs": [],
   "source": [
    "import pandas as pd\n",
    "import sqlite3"
   ]
  },
  {
   "cell_type": "code",
   "execution_count": 2,
   "id": "innovative-syndrome",
   "metadata": {
    "execution": {
     "iopub.execute_input": "2021-11-24T15:00:08.731502Z",
     "iopub.status.busy": "2021-11-24T15:00:08.729192Z",
     "iopub.status.idle": "2021-11-24T15:00:09.633461Z",
     "shell.execute_reply": "2021-11-24T15:00:09.634786Z"
    },
    "papermill": {
     "duration": 0.940998,
     "end_time": "2021-11-24T15:00:09.635255",
     "exception": false,
     "start_time": "2021-11-24T15:00:08.694257",
     "status": "completed"
    },
    "tags": []
   },
   "outputs": [],
   "source": [
    "timestamps = pd.read_sql(\"select distinct record_time from EBAY_TOP_BERLIN order by record_time desc limit 2\", sqlite3.connect(\"UsedObjects.db\"))"
   ]
  },
  {
   "cell_type": "code",
   "execution_count": 3,
   "id": "periodic-identification",
   "metadata": {
    "execution": {
     "iopub.execute_input": "2021-11-24T15:00:09.705397Z",
     "iopub.status.busy": "2021-11-24T15:00:09.703042Z",
     "iopub.status.idle": "2021-11-24T15:00:09.725206Z",
     "shell.execute_reply": "2021-11-24T15:00:09.726584Z"
    },
    "papermill": {
     "duration": 0.071667,
     "end_time": "2021-11-24T15:00:09.727053",
     "exception": false,
     "start_time": "2021-11-24T15:00:09.655386",
     "status": "completed"
    },
    "tags": []
   },
   "outputs": [
    {
     "data": {
      "text/html": [
       "<div>\n",
       "<style scoped>\n",
       "    .dataframe tbody tr th:only-of-type {\n",
       "        vertical-align: middle;\n",
       "    }\n",
       "\n",
       "    .dataframe tbody tr th {\n",
       "        vertical-align: top;\n",
       "    }\n",
       "\n",
       "    .dataframe thead th {\n",
       "        text-align: right;\n",
       "    }\n",
       "</style>\n",
       "<table border=\"1\" class=\"dataframe\">\n",
       "  <thead>\n",
       "    <tr style=\"text-align: right;\">\n",
       "      <th></th>\n",
       "      <th>RECORD_TIME</th>\n",
       "    </tr>\n",
       "  </thead>\n",
       "  <tbody>\n",
       "    <tr>\n",
       "      <th>0</th>\n",
       "      <td>2021-11-24 16:00</td>\n",
       "    </tr>\n",
       "    <tr>\n",
       "      <th>1</th>\n",
       "      <td>2021-11-24 15:30</td>\n",
       "    </tr>\n",
       "  </tbody>\n",
       "</table>\n",
       "</div>"
      ],
      "text/plain": [
       "        RECORD_TIME\n",
       "0  2021-11-24 16:00\n",
       "1  2021-11-24 15:30"
      ]
     },
     "execution_count": 3,
     "metadata": {},
     "output_type": "execute_result"
    }
   ],
   "source": [
    "timestamps"
   ]
  },
  {
   "cell_type": "code",
   "execution_count": 4,
   "id": "alternate-victory",
   "metadata": {
    "execution": {
     "iopub.execute_input": "2021-11-24T15:00:09.783654Z",
     "iopub.status.busy": "2021-11-24T15:00:09.781461Z",
     "iopub.status.idle": "2021-11-24T15:00:11.120324Z",
     "shell.execute_reply": "2021-11-24T15:00:11.122238Z"
    },
    "papermill": {
     "duration": 1.374422,
     "end_time": "2021-11-24T15:00:11.122707",
     "exception": false,
     "start_time": "2021-11-24T15:00:09.748285",
     "status": "completed"
    },
    "tags": []
   },
   "outputs": [],
   "source": [
    "df = pd.read_sql(\"select * from EBAY_TOP_BERLIN where record_time in (select distinct record_time from EBAY_TOP_BERLIN order by record_time desc limit 2)\", sqlite3.connect(\"UsedObjects.db\"))"
   ]
  },
  {
   "cell_type": "code",
   "execution_count": 5,
   "id": "popular-active",
   "metadata": {
    "execution": {
     "iopub.execute_input": "2021-11-24T15:00:11.186660Z",
     "iopub.status.busy": "2021-11-24T15:00:11.184134Z",
     "iopub.status.idle": "2021-11-24T15:00:11.223279Z",
     "shell.execute_reply": "2021-11-24T15:00:11.226738Z"
    },
    "papermill": {
     "duration": 0.083545,
     "end_time": "2021-11-24T15:00:11.227633",
     "exception": false,
     "start_time": "2021-11-24T15:00:11.144088",
     "status": "completed"
    },
    "tags": []
   },
   "outputs": [],
   "source": [
    "df_pivot = df.pivot_table(index=\"PRODUCT\", columns = \"RECORD_TIME\", values = \"LISTING_COUNT\")"
   ]
  },
  {
   "cell_type": "code",
   "execution_count": 6,
   "id": "union-huntington",
   "metadata": {
    "execution": {
     "iopub.execute_input": "2021-11-24T15:00:11.312736Z",
     "iopub.status.busy": "2021-11-24T15:00:11.310045Z",
     "iopub.status.idle": "2021-11-24T15:00:11.317152Z",
     "shell.execute_reply": "2021-11-24T15:00:11.318905Z"
    },
    "papermill": {
     "duration": 0.058314,
     "end_time": "2021-11-24T15:00:11.319431",
     "exception": false,
     "start_time": "2021-11-24T15:00:11.261117",
     "status": "completed"
    },
    "tags": []
   },
   "outputs": [],
   "source": [
    "df_pivot.columns = [\"stamp_1\", \"stamp_2\"]\n",
    "df_pivot_diff = df_pivot.diff(axis=1)"
   ]
  },
  {
   "cell_type": "code",
   "execution_count": 7,
   "id": "fifth-motion",
   "metadata": {
    "execution": {
     "iopub.execute_input": "2021-11-24T15:00:11.380371Z",
     "iopub.status.busy": "2021-11-24T15:00:11.377807Z",
     "iopub.status.idle": "2021-11-24T15:00:13.165047Z",
     "shell.execute_reply": "2021-11-24T15:00:13.167323Z"
    },
    "papermill": {
     "duration": 1.82716,
     "end_time": "2021-11-24T15:00:13.167905",
     "exception": false,
     "start_time": "2021-11-24T15:00:11.340745",
     "status": "completed"
    },
    "tags": []
   },
   "outputs": [
    {
     "data": {
      "text/plain": [
       "<AxesSubplot:ylabel='PRODUCT'>"
      ]
     },
     "execution_count": 7,
     "metadata": {},
     "output_type": "execute_result"
    },
    {
     "data": {
      "image/png": "[encoded data removed]",
      "text/plain": [
       "<Figure size 432x288 with 1 Axes>"
      ]
     },
     "metadata": {
      "needs_background": "light"
     },
     "output_type": "display_data"
    }
   ],
   "source": [
    "df_pivot_diff.sort_values(\"stamp_2\", ascending = False)[\"stamp_2\"].head(10).plot.barh()"
   ]
  },
  {
   "cell_type": "code",
   "execution_count": null,
   "id": "extra-executive",
   "metadata": {
    "papermill": {
     "duration": 0.037885,
     "end_time": "2021-11-24T15:00:13.234853",
     "exception": false,
     "start_time": "2021-11-24T15:00:13.196968",
     "status": "completed"
    },
    "tags": []
   },
   "outputs": [],
   "source": []
  }
 ],
 "metadata": {
  "kernelspec": {
   "display_name": "Python 3",
   "language": "python",
   "name": "python3"
  },
  "language_info": {
   "codemirror_mode": {
    "name": "ipython",
    "version": 3
   },
   "file_extension": ".py",
   "mimetype": "text/x-python",
   "name": "python",
   "nbconvert_exporter": "python",
   "pygments_lexer": "ipython3",
   "version": "3.9.5"
  },
  "papermill": {
   "default_parameters": {},
   "duration": 9.973434,
   "end_time": "2021-11-24T15:00:14.841935",
   "environment_variables": {},
   "exception": null,
   "input_path": "eBay_Overview.ipynb",
   "output_path": "eBay_Overview.ipynb",
   "parameters": {},
   "start_time": "2021-11-24T15:00:04.868501",
   "version": "2.3.3"
  }
 },
 "nbformat": 4,
 "nbformat_minor": 5
}