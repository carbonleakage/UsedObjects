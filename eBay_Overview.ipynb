{
 "cells": [
  {
   "cell_type": "code",
   "execution_count": 1,
   "id": "reverse-picking",
   "metadata": {
    "execution": {
     "iopub.execute_input": "2021-08-10T20:00:04.099693Z",
     "iopub.status.busy": "2021-08-10T20:00:04.098932Z",
     "iopub.status.idle": "2021-08-10T20:00:04.712877Z",
     "shell.execute_reply": "2021-08-10T20:00:04.712049Z"
    },
    "papermill": {
     "duration": 0.632458,
     "end_time": "2021-08-10T20:00:04.713057",
     "exception": false,
     "start_time": "2021-08-10T20:00:04.080599",
     "status": "completed"
    },
    "tags": []
   },
   "outputs": [],
   "source": [
    "import pandas as pd\n",
    "import sqlite3"
   ]
  },
  {
   "cell_type": "code",
   "execution_count": 2,
   "id": "innovative-syndrome",
   "metadata": {
    "execution": {
     "iopub.execute_input": "2021-08-10T20:00:04.739842Z",
     "iopub.status.busy": "2021-08-10T20:00:04.739074Z",
     "iopub.status.idle": "2021-08-10T20:00:05.056813Z",
     "shell.execute_reply": "2021-08-10T20:00:05.057830Z"
    },
    "papermill": {
     "duration": 0.332723,
     "end_time": "2021-08-10T20:00:05.058180",
     "exception": false,
     "start_time": "2021-08-10T20:00:04.725457",
     "status": "completed"
    },
    "tags": []
   },
   "outputs": [],
   "source": [
    "timestamps = pd.read_sql(\"select distinct record_time from EBAY_TOP_BERLIN order by record_time desc limit 2\", sqlite3.connect(\"UsedObjects.db\"))"
   ]
  },
  {
   "cell_type": "code",
   "execution_count": 3,
   "id": "periodic-identification",
   "metadata": {
    "execution": {
     "iopub.execute_input": "2021-08-10T20:00:05.093185Z",
     "iopub.status.busy": "2021-08-10T20:00:05.092407Z",
     "iopub.status.idle": "2021-08-10T20:00:05.104057Z",
     "shell.execute_reply": "2021-08-10T20:00:05.104617Z"
    },
    "papermill": {
     "duration": 0.032483,
     "end_time": "2021-08-10T20:00:05.104801",
     "exception": false,
     "start_time": "2021-08-10T20:00:05.072318",
     "status": "completed"
    },
    "tags": []
   },
   "outputs": [
    {
     "data": {
      "text/html": [
       "<div>\n",
       "<style scoped>\n",
       "    .dataframe tbody tr th:only-of-type {\n",
       "        vertical-align: middle;\n",
       "    }\n",
       "\n",
       "    .dataframe tbody tr th {\n",
       "        vertical-align: top;\n",
       "    }\n",
       "\n",
       "    .dataframe thead th {\n",
       "        text-align: right;\n",
       "    }\n",
       "</style>\n",
       "<table border=\"1\" class=\"dataframe\">\n",
       "  <thead>\n",
       "    <tr style=\"text-align: right;\">\n",
       "      <th></th>\n",
       "      <th>RECORD_TIME</th>\n",
       "    </tr>\n",
       "  </thead>\n",
       "  <tbody>\n",
       "    <tr>\n",
       "      <th>0</th>\n",
       "      <td>2021-08-10 22:00</td>\n",
       "    </tr>\n",
       "    <tr>\n",
       "      <th>1</th>\n",
       "      <td>2021-08-10 21:30</td>\n",
       "    </tr>\n",
       "  </tbody>\n",
       "</table>\n",
       "</div>"
      ],
      "text/plain": [
       "        RECORD_TIME\n",
       "0  2021-08-10 22:00\n",
       "1  2021-08-10 21:30"
      ]
     },
     "execution_count": 3,
     "metadata": {},
     "output_type": "execute_result"
    }
   ],
   "source": [
    "timestamps"
   ]
  },
  {
   "cell_type": "code",
   "execution_count": 4,
   "id": "alternate-victory",
   "metadata": {
    "execution": {
     "iopub.execute_input": "2021-08-10T20:00:05.131490Z",
     "iopub.status.busy": "2021-08-10T20:00:05.130730Z",
     "iopub.status.idle": "2021-08-10T20:00:05.150451Z",
     "shell.execute_reply": "2021-08-10T20:00:05.151020Z"
    },
    "papermill": {
     "duration": 0.036969,
     "end_time": "2021-08-10T20:00:05.151214",
     "exception": false,
     "start_time": "2021-08-10T20:00:05.114245",
     "status": "completed"
    },
    "tags": []
   },
   "outputs": [],
   "source": [
    "df = pd.read_sql(\"select * from EBAY_TOP_BERLIN where record_time in (select distinct record_time from EBAY_TOP_BERLIN order by record_time desc limit 2)\", sqlite3.connect(\"UsedObjects.db\"))"
   ]
  },
  {
   "cell_type": "code",
   "execution_count": 5,
   "id": "popular-active",
   "metadata": {
    "execution": {
     "iopub.execute_input": "2021-08-10T20:00:05.175711Z",
     "iopub.status.busy": "2021-08-10T20:00:05.174533Z",
     "iopub.status.idle": "2021-08-10T20:00:05.192401Z",
     "shell.execute_reply": "2021-08-10T20:00:05.192931Z"
    },
    "papermill": {
     "duration": 0.033149,
     "end_time": "2021-08-10T20:00:05.193114",
     "exception": false,
     "start_time": "2021-08-10T20:00:05.159965",
     "status": "completed"
    },
    "tags": []
   },
   "outputs": [],
   "source": [
    "df_pivot = df.pivot_table(index=\"PRODUCT\", columns = \"RECORD_TIME\", values = \"LISTING_COUNT\")"
   ]
  },
  {
   "cell_type": "code",
   "execution_count": 6,
   "id": "union-huntington",
   "metadata": {
    "execution": {
     "iopub.execute_input": "2021-08-10T20:00:05.217416Z",
     "iopub.status.busy": "2021-08-10T20:00:05.216603Z",
     "iopub.status.idle": "2021-08-10T20:00:05.219601Z",
     "shell.execute_reply": "2021-08-10T20:00:05.220167Z"
    },
    "papermill": {
     "duration": 0.018648,
     "end_time": "2021-08-10T20:00:05.220361",
     "exception": false,
     "start_time": "2021-08-10T20:00:05.201713",
     "status": "completed"
    },
    "tags": []
   },
   "outputs": [],
   "source": [
    "df_pivot.columns = [\"stamp_1\", \"stamp_2\"]\n",
    "df_pivot_diff = df_pivot.diff(axis=1)"
   ]
  },
  {
   "cell_type": "code",
   "execution_count": 7,
   "id": "fifth-motion",
   "metadata": {
    "execution": {
     "iopub.execute_input": "2021-08-10T20:00:05.245027Z",
     "iopub.status.busy": "2021-08-10T20:00:05.243801Z",
     "iopub.status.idle": "2021-08-10T20:00:06.130507Z",
     "shell.execute_reply": "2021-08-10T20:00:06.129652Z"
    },
    "papermill": {
     "duration": 0.901899,
     "end_time": "2021-08-10T20:00:06.130693",
     "exception": false,
     "start_time": "2021-08-10T20:00:05.228794",
     "status": "completed"
    },
    "tags": []
   },
   "outputs": [
    {
     "data": {
      "text/plain": [
       "<AxesSubplot:ylabel='PRODUCT'>"
      ]
     },
     "execution_count": 7,
     "metadata": {},
     "output_type": "execute_result"
    },
    {
     "data": {
      "image/png": "[encoded data removed]",
      "text/plain": [
       "<Figure size 432x288 with 1 Axes>"
      ]
     },
     "metadata": {
      "needs_background": "light"
     },
     "output_type": "display_data"
    }
   ],
   "source": [
    "df_pivot_diff.sort_values(\"stamp_2\", ascending = False)[\"stamp_2\"].head(10).plot.barh()"
   ]
  },
  {
   "cell_type": "code",
   "execution_count": null,
   "id": "extra-executive",
   "metadata": {
    "papermill": {
     "duration": 0.014353,
     "end_time": "2021-08-10T20:00:06.155273",
     "exception": false,
     "start_time": "2021-08-10T20:00:06.140920",
     "status": "completed"
    },
    "tags": []
   },
   "outputs": [],
   "source": []
  }
 ],
 "metadata": {
  "kernelspec": {
   "display_name": "Python 3",
   "language": "python",
   "name": "python3"
  },
  "language_info": {
   "codemirror_mode": {
    "name": "ipython",
    "version": 3
   },
   "file_extension": ".py",
   "mimetype": "text/x-python",
   "name": "python",
   "nbconvert_exporter": "python",
   "pygments_lexer": "ipython3",
   "version": "3.8.8"
  },
  "papermill": {
   "default_parameters": {},
   "duration": 4.482373,
   "end_time": "2021-08-10T20:00:06.890965",
   "environment_variables": {},
   "exception": null,
   "input_path": "/Users/saravananshanmugam/Carbonleakage_Git/UsedObjects/eBay_Overview.ipynb",
   "output_path": "/Users/saravananshanmugam/Carbonleakage_Git/UsedObjects/eBay_Overview.ipynb",
   "parameters": {},
   "start_time": "2021-08-10T20:00:02.408592",
   "version": "2.3.3"
  }
 },
 "nbformat": 4,
 "nbformat_minor": 5
}