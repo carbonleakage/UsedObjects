{
 "cells": [
  {
   "cell_type": "code",
   "execution_count": 1,
   "id": "reverse-picking",
   "metadata": {
    "execution": {
     "iopub.execute_input": "2021-10-22T07:30:06.850312Z",
     "iopub.status.busy": "2021-10-22T07:30:06.848305Z",
     "iopub.status.idle": "2021-10-22T07:30:07.658326Z",
     "shell.execute_reply": "2021-10-22T07:30:07.659565Z"
    },
    "papermill": {
     "duration": 0.861708,
     "end_time": "2021-10-22T07:30:07.660185",
     "exception": false,
     "start_time": "2021-10-22T07:30:06.798477",
     "status": "completed"
    },
    "tags": []
   },
   "outputs": [],
   "source": [
    "import pandas as pd\n",
    "import sqlite3"
   ]
  },
  {
   "cell_type": "code",
   "execution_count": 2,
   "id": "innovative-syndrome",
   "metadata": {
    "execution": {
     "iopub.execute_input": "2021-10-22T07:30:07.713197Z",
     "iopub.status.busy": "2021-10-22T07:30:07.710822Z",
     "iopub.status.idle": "2021-10-22T07:30:08.326941Z",
     "shell.execute_reply": "2021-10-22T07:30:08.328124Z"
    },
    "papermill": {
     "duration": 0.646121,
     "end_time": "2021-10-22T07:30:08.328516",
     "exception": false,
     "start_time": "2021-10-22T07:30:07.682395",
     "status": "completed"
    },
    "tags": []
   },
   "outputs": [],
   "source": [
    "timestamps = pd.read_sql(\"select distinct record_time from EBAY_TOP_BERLIN order by record_time desc limit 2\", sqlite3.connect(\"UsedObjects.db\"))"
   ]
  },
  {
   "cell_type": "code",
   "execution_count": 3,
   "id": "periodic-identification",
   "metadata": {
    "execution": {
     "iopub.execute_input": "2021-10-22T07:30:08.404497Z",
     "iopub.status.busy": "2021-10-22T07:30:08.402378Z",
     "iopub.status.idle": "2021-10-22T07:30:08.422538Z",
     "shell.execute_reply": "2021-10-22T07:30:08.423744Z"
    },
    "papermill": {
     "duration": 0.070296,
     "end_time": "2021-10-22T07:30:08.424137",
     "exception": false,
     "start_time": "2021-10-22T07:30:08.353841",
     "status": "completed"
    },
    "tags": []
   },
   "outputs": [
    {
     "data": {
      "text/html": [
       "<div>\n",
       "<style scoped>\n",
       "    .dataframe tbody tr th:only-of-type {\n",
       "        vertical-align: middle;\n",
       "    }\n",
       "\n",
       "    .dataframe tbody tr th {\n",
       "        vertical-align: top;\n",
       "    }\n",
       "\n",
       "    .dataframe thead th {\n",
       "        text-align: right;\n",
       "    }\n",
       "</style>\n",
       "<table border=\"1\" class=\"dataframe\">\n",
       "  <thead>\n",
       "    <tr style=\"text-align: right;\">\n",
       "      <th></th>\n",
       "      <th>RECORD_TIME</th>\n",
       "    </tr>\n",
       "  </thead>\n",
       "  <tbody>\n",
       "    <tr>\n",
       "      <th>0</th>\n",
       "      <td>2021-10-22 09:30</td>\n",
       "    </tr>\n",
       "    <tr>\n",
       "      <th>1</th>\n",
       "      <td>2021-10-22 09:00</td>\n",
       "    </tr>\n",
       "  </tbody>\n",
       "</table>\n",
       "</div>"
      ],
      "text/plain": [
       "        RECORD_TIME\n",
       "0  2021-10-22 09:30\n",
       "1  2021-10-22 09:00"
      ]
     },
     "execution_count": 3,
     "metadata": {},
     "output_type": "execute_result"
    }
   ],
   "source": [
    "timestamps"
   ]
  },
  {
   "cell_type": "code",
   "execution_count": 4,
   "id": "alternate-victory",
   "metadata": {
    "execution": {
     "iopub.execute_input": "2021-10-22T07:30:08.477638Z",
     "iopub.status.busy": "2021-10-22T07:30:08.475251Z",
     "iopub.status.idle": "2021-10-22T07:30:09.346451Z",
     "shell.execute_reply": "2021-10-22T07:30:09.347653Z"
    },
    "papermill": {
     "duration": 0.901486,
     "end_time": "2021-10-22T07:30:09.348047",
     "exception": false,
     "start_time": "2021-10-22T07:30:08.446561",
     "status": "completed"
    },
    "tags": []
   },
   "outputs": [],
   "source": [
    "df = pd.read_sql(\"select * from EBAY_TOP_BERLIN where record_time in (select distinct record_time from EBAY_TOP_BERLIN order by record_time desc limit 2)\", sqlite3.connect(\"UsedObjects.db\"))"
   ]
  },
  {
   "cell_type": "code",
   "execution_count": 5,
   "id": "popular-active",
   "metadata": {
    "execution": {
     "iopub.execute_input": "2021-10-22T07:30:09.418649Z",
     "iopub.status.busy": "2021-10-22T07:30:09.406632Z",
     "iopub.status.idle": "2021-10-22T07:30:09.434727Z",
     "shell.execute_reply": "2021-10-22T07:30:09.435944Z"
    },
    "papermill": {
     "duration": 0.067773,
     "end_time": "2021-10-22T07:30:09.436334",
     "exception": false,
     "start_time": "2021-10-22T07:30:09.368561",
     "status": "completed"
    },
    "tags": []
   },
   "outputs": [],
   "source": [
    "df_pivot = df.pivot_table(index=\"PRODUCT\", columns = \"RECORD_TIME\", values = \"LISTING_COUNT\")"
   ]
  },
  {
   "cell_type": "code",
   "execution_count": 6,
   "id": "union-huntington",
   "metadata": {
    "execution": {
     "iopub.execute_input": "2021-10-22T07:30:09.492841Z",
     "iopub.status.busy": "2021-10-22T07:30:09.490673Z",
     "iopub.status.idle": "2021-10-22T07:30:09.496225Z",
     "shell.execute_reply": "2021-10-22T07:30:09.497822Z"
    },
    "papermill": {
     "duration": 0.041092,
     "end_time": "2021-10-22T07:30:09.498279",
     "exception": false,
     "start_time": "2021-10-22T07:30:09.457187",
     "status": "completed"
    },
    "tags": []
   },
   "outputs": [],
   "source": [
    "df_pivot.columns = [\"stamp_1\", \"stamp_2\"]\n",
    "df_pivot_diff = df_pivot.diff(axis=1)"
   ]
  },
  {
   "cell_type": "code",
   "execution_count": 7,
   "id": "fifth-motion",
   "metadata": {
    "execution": {
     "iopub.execute_input": "2021-10-22T07:30:09.554443Z",
     "iopub.status.busy": "2021-10-22T07:30:09.551871Z",
     "iopub.status.idle": "2021-10-22T07:30:11.025611Z",
     "shell.execute_reply": "2021-10-22T07:30:11.026904Z"
    },
    "papermill": {
     "duration": 1.507163,
     "end_time": "2021-10-22T07:30:11.027317",
     "exception": false,
     "start_time": "2021-10-22T07:30:09.520154",
     "status": "completed"
    },
    "tags": []
   },
   "outputs": [
    {
     "data": {
      "text/plain": [
       "<AxesSubplot:ylabel='PRODUCT'>"
      ]
     },
     "execution_count": 7,
     "metadata": {},
     "output_type": "execute_result"
    },
    {
     "data": {
      "image/png": "[encoded data removed]",
      "text/plain": [
       "<Figure size 432x288 with 1 Axes>"
      ]
     },
     "metadata": {
      "needs_background": "light"
     },
     "output_type": "display_data"
    }
   ],
   "source": [
    "df_pivot_diff.sort_values(\"stamp_2\", ascending = False)[\"stamp_2\"].head(10).plot.barh()"
   ]
  },
  {
   "cell_type": "code",
   "execution_count": null,
   "id": "extra-executive",
   "metadata": {
    "papermill": {
     "duration": 0.022036,
     "end_time": "2021-10-22T07:30:11.074852",
     "exception": false,
     "start_time": "2021-10-22T07:30:11.052816",
     "status": "completed"
    },
    "tags": []
   },
   "outputs": [],
   "source": []
  }
 ],
 "metadata": {
  "kernelspec": {
   "display_name": "Python 3",
   "language": "python",
   "name": "python3"
  },
  "language_info": {
   "codemirror_mode": {
    "name": "ipython",
    "version": 3
   },
   "file_extension": ".py",
   "mimetype": "text/x-python",
   "name": "python",
   "nbconvert_exporter": "python",
   "pygments_lexer": "ipython3",
   "version": "3.9.5"
  },
  "papermill": {
   "default_parameters": {},
   "duration": 7.324056,
   "end_time": "2021-10-22T07:30:11.717621",
   "environment_variables": {},
   "exception": null,
   "input_path": "eBay_Overview.ipynb",
   "output_path": "eBay_Overview.ipynb",
   "parameters": {},
   "start_time": "2021-10-22T07:30:04.393565",
   "version": "2.3.3"
  }
 },
 "nbformat": 4,
 "nbformat_minor": 5
}