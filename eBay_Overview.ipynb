{
 "cells": [
  {
   "cell_type": "code",
   "execution_count": 1,
   "id": "reverse-picking",
   "metadata": {
    "execution": {
     "iopub.execute_input": "2021-09-18T21:30:07.648957Z",
     "iopub.status.busy": "2021-09-18T21:30:07.647067Z",
     "iopub.status.idle": "2021-09-18T21:30:08.451103Z",
     "shell.execute_reply": "2021-09-18T21:30:08.452423Z"
    },
    "papermill": {
     "duration": 0.857489,
     "end_time": "2021-09-18T21:30:08.453071",
     "exception": false,
     "start_time": "2021-09-18T21:30:07.595582",
     "status": "completed"
    },
    "tags": []
   },
   "outputs": [],
   "source": [
    "import pandas as pd\n",
    "import sqlite3"
   ]
  },
  {
   "cell_type": "code",
   "execution_count": 2,
   "id": "innovative-syndrome",
   "metadata": {
    "execution": {
     "iopub.execute_input": "2021-09-18T21:30:08.503854Z",
     "iopub.status.busy": "2021-09-18T21:30:08.501954Z",
     "iopub.status.idle": "2021-09-18T21:30:08.816242Z",
     "shell.execute_reply": "2021-09-18T21:30:08.817658Z"
    },
    "papermill": {
     "duration": 0.343797,
     "end_time": "2021-09-18T21:30:08.818104",
     "exception": false,
     "start_time": "2021-09-18T21:30:08.474307",
     "status": "completed"
    },
    "tags": []
   },
   "outputs": [],
   "source": [
    "timestamps = pd.read_sql(\"select distinct record_time from EBAY_TOP_BERLIN order by record_time desc limit 2\", sqlite3.connect(\"UsedObjects.db\"))"
   ]
  },
  {
   "cell_type": "code",
   "execution_count": 3,
   "id": "periodic-identification",
   "metadata": {
    "execution": {
     "iopub.execute_input": "2021-09-18T21:30:08.884715Z",
     "iopub.status.busy": "2021-09-18T21:30:08.882641Z",
     "iopub.status.idle": "2021-09-18T21:30:08.904799Z",
     "shell.execute_reply": "2021-09-18T21:30:08.905993Z"
    },
    "papermill": {
     "duration": 0.068524,
     "end_time": "2021-09-18T21:30:08.906391",
     "exception": false,
     "start_time": "2021-09-18T21:30:08.837867",
     "status": "completed"
    },
    "tags": []
   },
   "outputs": [
    {
     "data": {
      "text/html": [
       "<div>\n",
       "<style scoped>\n",
       "    .dataframe tbody tr th:only-of-type {\n",
       "        vertical-align: middle;\n",
       "    }\n",
       "\n",
       "    .dataframe tbody tr th {\n",
       "        vertical-align: top;\n",
       "    }\n",
       "\n",
       "    .dataframe thead th {\n",
       "        text-align: right;\n",
       "    }\n",
       "</style>\n",
       "<table border=\"1\" class=\"dataframe\">\n",
       "  <thead>\n",
       "    <tr style=\"text-align: right;\">\n",
       "      <th></th>\n",
       "      <th>RECORD_TIME</th>\n",
       "    </tr>\n",
       "  </thead>\n",
       "  <tbody>\n",
       "    <tr>\n",
       "      <th>0</th>\n",
       "      <td>2021-09-18 23:30</td>\n",
       "    </tr>\n",
       "    <tr>\n",
       "      <th>1</th>\n",
       "      <td>2021-09-18 23:00</td>\n",
       "    </tr>\n",
       "  </tbody>\n",
       "</table>\n",
       "</div>"
      ],
      "text/plain": [
       "        RECORD_TIME\n",
       "0  2021-09-18 23:30\n",
       "1  2021-09-18 23:00"
      ]
     },
     "execution_count": 3,
     "metadata": {},
     "output_type": "execute_result"
    }
   ],
   "source": [
    "timestamps"
   ]
  },
  {
   "cell_type": "code",
   "execution_count": 4,
   "id": "alternate-victory",
   "metadata": {
    "execution": {
     "iopub.execute_input": "2021-09-18T21:30:08.958215Z",
     "iopub.status.busy": "2021-09-18T21:30:08.955958Z",
     "iopub.status.idle": "2021-09-18T21:30:09.420826Z",
     "shell.execute_reply": "2021-09-18T21:30:09.422097Z"
    },
    "papermill": {
     "duration": 0.495075,
     "end_time": "2021-09-18T21:30:09.422510",
     "exception": false,
     "start_time": "2021-09-18T21:30:08.927435",
     "status": "completed"
    },
    "tags": []
   },
   "outputs": [],
   "source": [
    "df = pd.read_sql(\"select * from EBAY_TOP_BERLIN where record_time in (select distinct record_time from EBAY_TOP_BERLIN order by record_time desc limit 2)\", sqlite3.connect(\"UsedObjects.db\"))"
   ]
  },
  {
   "cell_type": "code",
   "execution_count": 5,
   "id": "popular-active",
   "metadata": {
    "execution": {
     "iopub.execute_input": "2021-09-18T21:30:09.518552Z",
     "iopub.status.busy": "2021-09-18T21:30:09.505272Z",
     "iopub.status.idle": "2021-09-18T21:30:09.536570Z",
     "shell.execute_reply": "2021-09-18T21:30:09.537941Z"
    },
    "papermill": {
     "duration": 0.076959,
     "end_time": "2021-09-18T21:30:09.538381",
     "exception": false,
     "start_time": "2021-09-18T21:30:09.461422",
     "status": "completed"
    },
    "tags": []
   },
   "outputs": [],
   "source": [
    "df_pivot = df.pivot_table(index=\"PRODUCT\", columns = \"RECORD_TIME\", values = \"LISTING_COUNT\")"
   ]
  },
  {
   "cell_type": "code",
   "execution_count": 6,
   "id": "union-huntington",
   "metadata": {
    "execution": {
     "iopub.execute_input": "2021-09-18T21:30:09.594696Z",
     "iopub.status.busy": "2021-09-18T21:30:09.592668Z",
     "iopub.status.idle": "2021-09-18T21:30:09.599662Z",
     "shell.execute_reply": "2021-09-18T21:30:09.597907Z"
    },
    "papermill": {
     "duration": 0.041447,
     "end_time": "2021-09-18T21:30:09.600033",
     "exception": false,
     "start_time": "2021-09-18T21:30:09.558586",
     "status": "completed"
    },
    "tags": []
   },
   "outputs": [],
   "source": [
    "df_pivot.columns = [\"stamp_1\", \"stamp_2\"]\n",
    "df_pivot_diff = df_pivot.diff(axis=1)"
   ]
  },
  {
   "cell_type": "code",
   "execution_count": 7,
   "id": "fifth-motion",
   "metadata": {
    "execution": {
     "iopub.execute_input": "2021-09-18T21:30:09.654692Z",
     "iopub.status.busy": "2021-09-18T21:30:09.652308Z",
     "iopub.status.idle": "2021-09-18T21:30:11.128083Z",
     "shell.execute_reply": "2021-09-18T21:30:11.129397Z"
    },
    "papermill": {
     "duration": 1.508494,
     "end_time": "2021-09-18T21:30:11.129815",
     "exception": false,
     "start_time": "2021-09-18T21:30:09.621321",
     "status": "completed"
    },
    "tags": []
   },
   "outputs": [
    {
     "data": {
      "text/plain": [
       "<AxesSubplot:ylabel='PRODUCT'>"
      ]
     },
     "execution_count": 7,
     "metadata": {},
     "output_type": "execute_result"
    },
    {
     "data": {
      "image/png": "[encoded data removed]",
      "text/plain": [
       "<Figure size 432x288 with 1 Axes>"
      ]
     },
     "metadata": {
      "needs_background": "light"
     },
     "output_type": "display_data"
    }
   ],
   "source": [
    "df_pivot_diff.sort_values(\"stamp_2\", ascending = False)[\"stamp_2\"].head(10).plot.barh()"
   ]
  },
  {
   "cell_type": "code",
   "execution_count": null,
   "id": "extra-executive",
   "metadata": {
    "papermill": {
     "duration": 0.022083,
     "end_time": "2021-09-18T21:30:11.175340",
     "exception": false,
     "start_time": "2021-09-18T21:30:11.153257",
     "status": "completed"
    },
    "tags": []
   },
   "outputs": [],
   "source": []
  }
 ],
 "metadata": {
  "kernelspec": {
   "display_name": "Python 3",
   "language": "python",
   "name": "python3"
  },
  "language_info": {
   "codemirror_mode": {
    "name": "ipython",
    "version": 3
   },
   "file_extension": ".py",
   "mimetype": "text/x-python",
   "name": "python",
   "nbconvert_exporter": "python",
   "pygments_lexer": "ipython3",
   "version": "3.9.5"
  },
  "papermill": {
   "default_parameters": {},
   "duration": 6.626063,
   "end_time": "2021-09-18T21:30:11.816698",
   "environment_variables": {},
   "exception": null,
   "input_path": "eBay_Overview.ipynb",
   "output_path": "eBay_Overview.ipynb",
   "parameters": {},
   "start_time": "2021-09-18T21:30:05.190635",
   "version": "2.3.3"
  }
 },
 "nbformat": 4,
 "nbformat_minor": 5
}