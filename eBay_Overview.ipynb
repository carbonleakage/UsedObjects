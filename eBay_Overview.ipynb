{
 "cells": [
  {
   "cell_type": "code",
   "execution_count": 1,
   "id": "reverse-picking",
   "metadata": {
    "execution": {
     "iopub.execute_input": "2021-12-20T03:00:07.653034Z",
     "iopub.status.busy": "2021-12-20T03:00:07.650868Z",
     "iopub.status.idle": "2021-12-20T03:00:08.628827Z",
     "shell.execute_reply": "2021-12-20T03:00:08.630436Z"
    },
    "papermill": {
     "duration": 1.027217,
     "end_time": "2021-12-20T03:00:08.631224",
     "exception": false,
     "start_time": "2021-12-20T03:00:07.604007",
     "status": "completed"
    },
    "tags": []
   },
   "outputs": [],
   "source": [
    "import pandas as pd\n",
    "import sqlite3"
   ]
  },
  {
   "cell_type": "code",
   "execution_count": 2,
   "id": "innovative-syndrome",
   "metadata": {
    "execution": {
     "iopub.execute_input": "2021-12-20T03:00:08.699904Z",
     "iopub.status.busy": "2021-12-20T03:00:08.697355Z",
     "iopub.status.idle": "2021-12-20T03:00:09.828956Z",
     "shell.execute_reply": "2021-12-20T03:00:09.830964Z"
    },
    "papermill": {
     "duration": 1.166572,
     "end_time": "2021-12-20T03:00:09.831501",
     "exception": false,
     "start_time": "2021-12-20T03:00:08.664929",
     "status": "completed"
    },
    "tags": []
   },
   "outputs": [],
   "source": [
    "timestamps = pd.read_sql(\"select distinct record_time from EBAY_TOP_BERLIN order by record_time desc limit 2\", sqlite3.connect(\"UsedObjects.db\"))"
   ]
  },
  {
   "cell_type": "code",
   "execution_count": 3,
   "id": "periodic-identification",
   "metadata": {
    "execution": {
     "iopub.execute_input": "2021-12-20T03:00:09.926431Z",
     "iopub.status.busy": "2021-12-20T03:00:09.923955Z",
     "iopub.status.idle": "2021-12-20T03:00:09.947719Z",
     "shell.execute_reply": "2021-12-20T03:00:09.949497Z"
    },
    "papermill": {
     "duration": 0.075909,
     "end_time": "2021-12-20T03:00:09.949983",
     "exception": false,
     "start_time": "2021-12-20T03:00:09.874074",
     "status": "completed"
    },
    "tags": []
   },
   "outputs": [
    {
     "data": {
      "text/html": [
       "<div>\n",
       "<style scoped>\n",
       "    .dataframe tbody tr th:only-of-type {\n",
       "        vertical-align: middle;\n",
       "    }\n",
       "\n",
       "    .dataframe tbody tr th {\n",
       "        vertical-align: top;\n",
       "    }\n",
       "\n",
       "    .dataframe thead th {\n",
       "        text-align: right;\n",
       "    }\n",
       "</style>\n",
       "<table border=\"1\" class=\"dataframe\">\n",
       "  <thead>\n",
       "    <tr style=\"text-align: right;\">\n",
       "      <th></th>\n",
       "      <th>RECORD_TIME</th>\n",
       "    </tr>\n",
       "  </thead>\n",
       "  <tbody>\n",
       "    <tr>\n",
       "      <th>0</th>\n",
       "      <td>2021-12-20 04:00</td>\n",
       "    </tr>\n",
       "    <tr>\n",
       "      <th>1</th>\n",
       "      <td>2021-12-20 03:30</td>\n",
       "    </tr>\n",
       "  </tbody>\n",
       "</table>\n",
       "</div>"
      ],
      "text/plain": [
       "        RECORD_TIME\n",
       "0  2021-12-20 04:00\n",
       "1  2021-12-20 03:30"
      ]
     },
     "execution_count": 3,
     "metadata": {},
     "output_type": "execute_result"
    }
   ],
   "source": [
    "timestamps"
   ]
  },
  {
   "cell_type": "code",
   "execution_count": 4,
   "id": "alternate-victory",
   "metadata": {
    "execution": {
     "iopub.execute_input": "2021-12-20T03:00:10.007175Z",
     "iopub.status.busy": "2021-12-20T03:00:10.004785Z",
     "iopub.status.idle": "2021-12-20T03:00:11.640228Z",
     "shell.execute_reply": "2021-12-20T03:00:11.641864Z"
    },
    "papermill": {
     "duration": 1.670699,
     "end_time": "2021-12-20T03:00:11.642368",
     "exception": false,
     "start_time": "2021-12-20T03:00:09.971669",
     "status": "completed"
    },
    "tags": []
   },
   "outputs": [],
   "source": [
    "df = pd.read_sql(\"select * from EBAY_TOP_BERLIN where record_time in (select distinct record_time from EBAY_TOP_BERLIN order by record_time desc limit 2)\", sqlite3.connect(\"UsedObjects.db\"))"
   ]
  },
  {
   "cell_type": "code",
   "execution_count": 5,
   "id": "popular-active",
   "metadata": {
    "execution": {
     "iopub.execute_input": "2021-12-20T03:00:11.706030Z",
     "iopub.status.busy": "2021-12-20T03:00:11.703639Z",
     "iopub.status.idle": "2021-12-20T03:00:11.734512Z",
     "shell.execute_reply": "2021-12-20T03:00:11.735990Z"
    },
    "papermill": {
     "duration": 0.073267,
     "end_time": "2021-12-20T03:00:11.736458",
     "exception": false,
     "start_time": "2021-12-20T03:00:11.663191",
     "status": "completed"
    },
    "tags": []
   },
   "outputs": [],
   "source": [
    "df_pivot = df.pivot_table(index=\"PRODUCT\", columns = \"RECORD_TIME\", values = \"LISTING_COUNT\")"
   ]
  },
  {
   "cell_type": "code",
   "execution_count": 6,
   "id": "union-huntington",
   "metadata": {
    "execution": {
     "iopub.execute_input": "2021-12-20T03:00:11.799462Z",
     "iopub.status.busy": "2021-12-20T03:00:11.797127Z",
     "iopub.status.idle": "2021-12-20T03:00:11.803933Z",
     "shell.execute_reply": "2021-12-20T03:00:11.805645Z"
    },
    "papermill": {
     "duration": 0.048057,
     "end_time": "2021-12-20T03:00:11.806147",
     "exception": false,
     "start_time": "2021-12-20T03:00:11.758090",
     "status": "completed"
    },
    "tags": []
   },
   "outputs": [],
   "source": [
    "df_pivot.columns = [\"stamp_1\", \"stamp_2\"]\n",
    "df_pivot_diff = df_pivot.diff(axis=1)"
   ]
  },
  {
   "cell_type": "code",
   "execution_count": 7,
   "id": "fifth-motion",
   "metadata": {
    "execution": {
     "iopub.execute_input": "2021-12-20T03:00:11.866493Z",
     "iopub.status.busy": "2021-12-20T03:00:11.863919Z",
     "iopub.status.idle": "2021-12-20T03:00:13.817694Z",
     "shell.execute_reply": "2021-12-20T03:00:13.819027Z"
    },
    "papermill": {
     "duration": 1.991042,
     "end_time": "2021-12-20T03:00:13.819458",
     "exception": false,
     "start_time": "2021-12-20T03:00:11.828416",
     "status": "completed"
    },
    "tags": []
   },
   "outputs": [
    {
     "data": {
      "text/plain": [
       "<AxesSubplot:ylabel='PRODUCT'>"
      ]
     },
     "execution_count": 7,
     "metadata": {},
     "output_type": "execute_result"
    },
    {
     "data": {
      "image/png": "[encoded data removed]",
      "text/plain": [
       "<Figure size 432x288 with 1 Axes>"
      ]
     },
     "metadata": {
      "needs_background": "light"
     },
     "output_type": "display_data"
    }
   ],
   "source": [
    "df_pivot_diff.sort_values(\"stamp_2\", ascending = False)[\"stamp_2\"].head(10).plot.barh()"
   ]
  },
  {
   "cell_type": "code",
   "execution_count": null,
   "id": "extra-executive",
   "metadata": {
    "papermill": {
     "duration": 0.022435,
     "end_time": "2021-12-20T03:00:13.866956",
     "exception": false,
     "start_time": "2021-12-20T03:00:13.844521",
     "status": "completed"
    },
    "tags": []
   },
   "outputs": [],
   "source": []
  }
 ],
 "metadata": {
  "kernelspec": {
   "display_name": "Python 3",
   "language": "python",
   "name": "python3"
  },
  "language_info": {
   "codemirror_mode": {
    "name": "ipython",
    "version": 3
   },
   "file_extension": ".py",
   "mimetype": "text/x-python",
   "name": "python",
   "nbconvert_exporter": "python",
   "pygments_lexer": "ipython3",
   "version": "3.9.5"
  },
  "papermill": {
   "default_parameters": {},
   "duration": 9.648471,
   "end_time": "2021-12-20T03:00:14.507794",
   "environment_variables": {},
   "exception": null,
   "input_path": "eBay_Overview.ipynb",
   "output_path": "eBay_Overview.ipynb",
   "parameters": {},
   "start_time": "2021-12-20T03:00:04.859323",
   "version": "2.3.3"
  }
 },
 "nbformat": 4,
 "nbformat_minor": 5
}