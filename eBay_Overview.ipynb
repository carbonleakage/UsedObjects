{
 "cells": [
  {
   "cell_type": "code",
   "execution_count": 1,
   "id": "reverse-picking",
   "metadata": {
    "execution": {
     "iopub.execute_input": "2021-11-17T19:30:07.807515Z",
     "iopub.status.busy": "2021-11-17T19:30:07.805174Z",
     "iopub.status.idle": "2021-11-17T19:30:08.772168Z",
     "shell.execute_reply": "2021-11-17T19:30:08.773711Z"
    },
    "papermill": {
     "duration": 1.016466,
     "end_time": "2021-11-17T19:30:08.774430",
     "exception": false,
     "start_time": "2021-11-17T19:30:07.757964",
     "status": "completed"
    },
    "tags": []
   },
   "outputs": [],
   "source": [
    "import pandas as pd\n",
    "import sqlite3"
   ]
  },
  {
   "cell_type": "code",
   "execution_count": 2,
   "id": "innovative-syndrome",
   "metadata": {
    "execution": {
     "iopub.execute_input": "2021-11-17T19:30:08.826467Z",
     "iopub.status.busy": "2021-11-17T19:30:08.824364Z",
     "iopub.status.idle": "2021-11-17T19:30:09.675652Z",
     "shell.execute_reply": "2021-11-17T19:30:09.677300Z"
    },
    "papermill": {
     "duration": 0.883008,
     "end_time": "2021-11-17T19:30:09.677795",
     "exception": false,
     "start_time": "2021-11-17T19:30:08.794787",
     "status": "completed"
    },
    "tags": []
   },
   "outputs": [],
   "source": [
    "timestamps = pd.read_sql(\"select distinct record_time from EBAY_TOP_BERLIN order by record_time desc limit 2\", sqlite3.connect(\"UsedObjects.db\"))"
   ]
  },
  {
   "cell_type": "code",
   "execution_count": 3,
   "id": "periodic-identification",
   "metadata": {
    "execution": {
     "iopub.execute_input": "2021-11-17T19:30:09.751967Z",
     "iopub.status.busy": "2021-11-17T19:30:09.749524Z",
     "iopub.status.idle": "2021-11-17T19:30:09.773777Z",
     "shell.execute_reply": "2021-11-17T19:30:09.775184Z"
    },
    "papermill": {
     "duration": 0.075789,
     "end_time": "2021-11-17T19:30:09.775653",
     "exception": false,
     "start_time": "2021-11-17T19:30:09.699864",
     "status": "completed"
    },
    "tags": []
   },
   "outputs": [
    {
     "data": {
      "text/html": [
       "<div>\n",
       "<style scoped>\n",
       "    .dataframe tbody tr th:only-of-type {\n",
       "        vertical-align: middle;\n",
       "    }\n",
       "\n",
       "    .dataframe tbody tr th {\n",
       "        vertical-align: top;\n",
       "    }\n",
       "\n",
       "    .dataframe thead th {\n",
       "        text-align: right;\n",
       "    }\n",
       "</style>\n",
       "<table border=\"1\" class=\"dataframe\">\n",
       "  <thead>\n",
       "    <tr style=\"text-align: right;\">\n",
       "      <th></th>\n",
       "      <th>RECORD_TIME</th>\n",
       "    </tr>\n",
       "  </thead>\n",
       "  <tbody>\n",
       "    <tr>\n",
       "      <th>0</th>\n",
       "      <td>2021-11-17 20:30</td>\n",
       "    </tr>\n",
       "    <tr>\n",
       "      <th>1</th>\n",
       "      <td>2021-11-17 20:00</td>\n",
       "    </tr>\n",
       "  </tbody>\n",
       "</table>\n",
       "</div>"
      ],
      "text/plain": [
       "        RECORD_TIME\n",
       "0  2021-11-17 20:30\n",
       "1  2021-11-17 20:00"
      ]
     },
     "execution_count": 3,
     "metadata": {},
     "output_type": "execute_result"
    }
   ],
   "source": [
    "timestamps"
   ]
  },
  {
   "cell_type": "code",
   "execution_count": 4,
   "id": "alternate-victory",
   "metadata": {
    "execution": {
     "iopub.execute_input": "2021-11-17T19:30:09.832101Z",
     "iopub.status.busy": "2021-11-17T19:30:09.829955Z",
     "iopub.status.idle": "2021-11-17T19:30:11.038461Z",
     "shell.execute_reply": "2021-11-17T19:30:11.039991Z"
    },
    "papermill": {
     "duration": 1.242481,
     "end_time": "2021-11-17T19:30:11.040477",
     "exception": false,
     "start_time": "2021-11-17T19:30:09.797996",
     "status": "completed"
    },
    "tags": []
   },
   "outputs": [],
   "source": [
    "df = pd.read_sql(\"select * from EBAY_TOP_BERLIN where record_time in (select distinct record_time from EBAY_TOP_BERLIN order by record_time desc limit 2)\", sqlite3.connect(\"UsedObjects.db\"))"
   ]
  },
  {
   "cell_type": "code",
   "execution_count": 5,
   "id": "popular-active",
   "metadata": {
    "execution": {
     "iopub.execute_input": "2021-11-17T19:30:11.105575Z",
     "iopub.status.busy": "2021-11-17T19:30:11.103038Z",
     "iopub.status.idle": "2021-11-17T19:30:11.138797Z",
     "shell.execute_reply": "2021-11-17T19:30:11.140375Z"
    },
    "papermill": {
     "duration": 0.078808,
     "end_time": "2021-11-17T19:30:11.140893",
     "exception": false,
     "start_time": "2021-11-17T19:30:11.062085",
     "status": "completed"
    },
    "tags": []
   },
   "outputs": [],
   "source": [
    "df_pivot = df.pivot_table(index=\"PRODUCT\", columns = \"RECORD_TIME\", values = \"LISTING_COUNT\")"
   ]
  },
  {
   "cell_type": "code",
   "execution_count": 6,
   "id": "union-huntington",
   "metadata": {
    "execution": {
     "iopub.execute_input": "2021-11-17T19:30:11.196440Z",
     "iopub.status.busy": "2021-11-17T19:30:11.194366Z",
     "iopub.status.idle": "2021-11-17T19:30:11.199531Z",
     "shell.execute_reply": "2021-11-17T19:30:11.200869Z"
    },
    "papermill": {
     "duration": 0.041163,
     "end_time": "2021-11-17T19:30:11.201294",
     "exception": false,
     "start_time": "2021-11-17T19:30:11.160131",
     "status": "completed"
    },
    "tags": []
   },
   "outputs": [],
   "source": [
    "df_pivot.columns = [\"stamp_1\", \"stamp_2\"]\n",
    "df_pivot_diff = df_pivot.diff(axis=1)"
   ]
  },
  {
   "cell_type": "code",
   "execution_count": 7,
   "id": "fifth-motion",
   "metadata": {
    "execution": {
     "iopub.execute_input": "2021-11-17T19:30:11.255851Z",
     "iopub.status.busy": "2021-11-17T19:30:11.253473Z",
     "iopub.status.idle": "2021-11-17T19:30:13.034390Z",
     "shell.execute_reply": "2021-11-17T19:30:13.036008Z"
    },
    "papermill": {
     "duration": 1.814473,
     "end_time": "2021-11-17T19:30:13.036534",
     "exception": false,
     "start_time": "2021-11-17T19:30:11.222061",
     "status": "completed"
    },
    "tags": []
   },
   "outputs": [
    {
     "data": {
      "text/plain": [
       "<AxesSubplot:ylabel='PRODUCT'>"
      ]
     },
     "execution_count": 7,
     "metadata": {},
     "output_type": "execute_result"
    },
    {
     "data": {
      "image/png": "[encoded data removed]",
      "text/plain": [
       "<Figure size 432x288 with 1 Axes>"
      ]
     },
     "metadata": {
      "needs_background": "light"
     },
     "output_type": "display_data"
    }
   ],
   "source": [
    "df_pivot_diff.sort_values(\"stamp_2\", ascending = False)[\"stamp_2\"].head(10).plot.barh()"
   ]
  },
  {
   "cell_type": "code",
   "execution_count": null,
   "id": "extra-executive",
   "metadata": {
    "papermill": {
     "duration": 0.02542,
     "end_time": "2021-11-17T19:30:13.088071",
     "exception": false,
     "start_time": "2021-11-17T19:30:13.062651",
     "status": "completed"
    },
    "tags": []
   },
   "outputs": [],
   "source": []
  }
 ],
 "metadata": {
  "kernelspec": {
   "display_name": "Python 3",
   "language": "python",
   "name": "python3"
  },
  "language_info": {
   "codemirror_mode": {
    "name": "ipython",
    "version": 3
   },
   "file_extension": ".py",
   "mimetype": "text/x-python",
   "name": "python",
   "nbconvert_exporter": "python",
   "pygments_lexer": "ipython3",
   "version": "3.9.5"
  },
  "papermill": {
   "default_parameters": {},
   "duration": 8.805363,
   "end_time": "2021-11-17T19:30:13.832475",
   "environment_variables": {},
   "exception": null,
   "input_path": "eBay_Overview.ipynb",
   "output_path": "eBay_Overview.ipynb",
   "parameters": {},
   "start_time": "2021-11-17T19:30:05.027112",
   "version": "2.3.3"
  }
 },
 "nbformat": 4,
 "nbformat_minor": 5
}