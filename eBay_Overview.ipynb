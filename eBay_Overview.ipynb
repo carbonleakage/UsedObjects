{
 "cells": [
  {
   "cell_type": "code",
   "execution_count": 1,
   "id": "reverse-picking",
   "metadata": {
    "execution": {
     "iopub.execute_input": "2021-10-27T00:30:06.854656Z",
     "iopub.status.busy": "2021-10-27T00:30:06.852622Z",
     "iopub.status.idle": "2021-10-27T00:30:07.657985Z",
     "shell.execute_reply": "2021-10-27T00:30:07.659250Z"
    },
    "papermill": {
     "duration": 0.856206,
     "end_time": "2021-10-27T00:30:07.659872",
     "exception": false,
     "start_time": "2021-10-27T00:30:06.803666",
     "status": "completed"
    },
    "tags": []
   },
   "outputs": [],
   "source": [
    "import pandas as pd\n",
    "import sqlite3"
   ]
  },
  {
   "cell_type": "code",
   "execution_count": 2,
   "id": "innovative-syndrome",
   "metadata": {
    "execution": {
     "iopub.execute_input": "2021-10-27T00:30:07.713183Z",
     "iopub.status.busy": "2021-10-27T00:30:07.710761Z",
     "iopub.status.idle": "2021-10-27T00:30:08.361904Z",
     "shell.execute_reply": "2021-10-27T00:30:08.363123Z"
    },
    "papermill": {
     "duration": 0.681261,
     "end_time": "2021-10-27T00:30:08.363518",
     "exception": false,
     "start_time": "2021-10-27T00:30:07.682257",
     "status": "completed"
    },
    "tags": []
   },
   "outputs": [],
   "source": [
    "timestamps = pd.read_sql(\"select distinct record_time from EBAY_TOP_BERLIN order by record_time desc limit 2\", sqlite3.connect(\"UsedObjects.db\"))"
   ]
  },
  {
   "cell_type": "code",
   "execution_count": 3,
   "id": "periodic-identification",
   "metadata": {
    "execution": {
     "iopub.execute_input": "2021-10-27T00:30:08.449156Z",
     "iopub.status.busy": "2021-10-27T00:30:08.447038Z",
     "iopub.status.idle": "2021-10-27T00:30:08.467191Z",
     "shell.execute_reply": "2021-10-27T00:30:08.468391Z"
    },
    "papermill": {
     "duration": 0.07373,
     "end_time": "2021-10-27T00:30:08.468863",
     "exception": false,
     "start_time": "2021-10-27T00:30:08.395133",
     "status": "completed"
    },
    "tags": []
   },
   "outputs": [
    {
     "data": {
      "text/html": [
       "<div>\n",
       "<style scoped>\n",
       "    .dataframe tbody tr th:only-of-type {\n",
       "        vertical-align: middle;\n",
       "    }\n",
       "\n",
       "    .dataframe tbody tr th {\n",
       "        vertical-align: top;\n",
       "    }\n",
       "\n",
       "    .dataframe thead th {\n",
       "        text-align: right;\n",
       "    }\n",
       "</style>\n",
       "<table border=\"1\" class=\"dataframe\">\n",
       "  <thead>\n",
       "    <tr style=\"text-align: right;\">\n",
       "      <th></th>\n",
       "      <th>RECORD_TIME</th>\n",
       "    </tr>\n",
       "  </thead>\n",
       "  <tbody>\n",
       "    <tr>\n",
       "      <th>0</th>\n",
       "      <td>2021-10-27 02:30</td>\n",
       "    </tr>\n",
       "    <tr>\n",
       "      <th>1</th>\n",
       "      <td>2021-10-27 02:00</td>\n",
       "    </tr>\n",
       "  </tbody>\n",
       "</table>\n",
       "</div>"
      ],
      "text/plain": [
       "        RECORD_TIME\n",
       "0  2021-10-27 02:30\n",
       "1  2021-10-27 02:00"
      ]
     },
     "execution_count": 3,
     "metadata": {},
     "output_type": "execute_result"
    }
   ],
   "source": [
    "timestamps"
   ]
  },
  {
   "cell_type": "code",
   "execution_count": 4,
   "id": "alternate-victory",
   "metadata": {
    "execution": {
     "iopub.execute_input": "2021-10-27T00:30:08.521392Z",
     "iopub.status.busy": "2021-10-27T00:30:08.519279Z",
     "iopub.status.idle": "2021-10-27T00:30:09.469185Z",
     "shell.execute_reply": "2021-10-27T00:30:09.470583Z"
    },
    "papermill": {
     "duration": 0.979999,
     "end_time": "2021-10-27T00:30:09.471014",
     "exception": false,
     "start_time": "2021-10-27T00:30:08.491015",
     "status": "completed"
    },
    "tags": []
   },
   "outputs": [],
   "source": [
    "df = pd.read_sql(\"select * from EBAY_TOP_BERLIN where record_time in (select distinct record_time from EBAY_TOP_BERLIN order by record_time desc limit 2)\", sqlite3.connect(\"UsedObjects.db\"))"
   ]
  },
  {
   "cell_type": "code",
   "execution_count": 5,
   "id": "popular-active",
   "metadata": {
    "execution": {
     "iopub.execute_input": "2021-10-27T00:30:09.542427Z",
     "iopub.status.busy": "2021-10-27T00:30:09.531264Z",
     "iopub.status.idle": "2021-10-27T00:30:09.558808Z",
     "shell.execute_reply": "2021-10-27T00:30:09.560174Z"
    },
    "papermill": {
     "duration": 0.068497,
     "end_time": "2021-10-27T00:30:09.560605",
     "exception": false,
     "start_time": "2021-10-27T00:30:09.492108",
     "status": "completed"
    },
    "tags": []
   },
   "outputs": [],
   "source": [
    "df_pivot = df.pivot_table(index=\"PRODUCT\", columns = \"RECORD_TIME\", values = \"LISTING_COUNT\")"
   ]
  },
  {
   "cell_type": "code",
   "execution_count": 6,
   "id": "union-huntington",
   "metadata": {
    "execution": {
     "iopub.execute_input": "2021-10-27T00:30:09.620713Z",
     "iopub.status.busy": "2021-10-27T00:30:09.618251Z",
     "iopub.status.idle": "2021-10-27T00:30:09.624035Z",
     "shell.execute_reply": "2021-10-27T00:30:09.625388Z"
    },
    "papermill": {
     "duration": 0.042548,
     "end_time": "2021-10-27T00:30:09.625812",
     "exception": false,
     "start_time": "2021-10-27T00:30:09.583264",
     "status": "completed"
    },
    "tags": []
   },
   "outputs": [],
   "source": [
    "df_pivot.columns = [\"stamp_1\", \"stamp_2\"]\n",
    "df_pivot_diff = df_pivot.diff(axis=1)"
   ]
  },
  {
   "cell_type": "code",
   "execution_count": 7,
   "id": "fifth-motion",
   "metadata": {
    "execution": {
     "iopub.execute_input": "2021-10-27T00:30:09.680103Z",
     "iopub.status.busy": "2021-10-27T00:30:09.677699Z",
     "iopub.status.idle": "2021-10-27T00:30:11.184932Z",
     "shell.execute_reply": "2021-10-27T00:30:11.186313Z"
    },
    "papermill": {
     "duration": 1.540197,
     "end_time": "2021-10-27T00:30:11.186747",
     "exception": false,
     "start_time": "2021-10-27T00:30:09.646550",
     "status": "completed"
    },
    "tags": []
   },
   "outputs": [
    {
     "data": {
      "text/plain": [
       "<AxesSubplot:ylabel='PRODUCT'>"
      ]
     },
     "execution_count": 7,
     "metadata": {},
     "output_type": "execute_result"
    },
    {
     "data": {
      "image/png": "[encoded data removed]",
      "text/plain": [
       "<Figure size 432x288 with 1 Axes>"
      ]
     },
     "metadata": {
      "needs_background": "light"
     },
     "output_type": "display_data"
    }
   ],
   "source": [
    "df_pivot_diff.sort_values(\"stamp_2\", ascending = False)[\"stamp_2\"].head(10).plot.barh()"
   ]
  },
  {
   "cell_type": "code",
   "execution_count": null,
   "id": "extra-executive",
   "metadata": {
    "papermill": {
     "duration": 0.022884,
     "end_time": "2021-10-27T00:30:11.233409",
     "exception": false,
     "start_time": "2021-10-27T00:30:11.210525",
     "status": "completed"
    },
    "tags": []
   },
   "outputs": [],
   "source": []
  }
 ],
 "metadata": {
  "kernelspec": {
   "display_name": "Python 3",
   "language": "python",
   "name": "python3"
  },
  "language_info": {
   "codemirror_mode": {
    "name": "ipython",
    "version": 3
   },
   "file_extension": ".py",
   "mimetype": "text/x-python",
   "name": "python",
   "nbconvert_exporter": "python",
   "pygments_lexer": "ipython3",
   "version": "3.9.5"
  },
  "papermill": {
   "default_parameters": {},
   "duration": 7.491373,
   "end_time": "2021-10-27T00:30:11.877584",
   "environment_variables": {},
   "exception": null,
   "input_path": "eBay_Overview.ipynb",
   "output_path": "eBay_Overview.ipynb",
   "parameters": {},
   "start_time": "2021-10-27T00:30:04.386211",
   "version": "2.3.3"
  }
 },
 "nbformat": 4,
 "nbformat_minor": 5
}