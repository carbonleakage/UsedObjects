{
 "cells": [
  {
   "cell_type": "code",
   "execution_count": 1,
   "id": "reverse-picking",
   "metadata": {
    "execution": {
     "iopub.execute_input": "2021-12-05T00:30:07.723538Z",
     "iopub.status.busy": "2021-12-05T00:30:07.721191Z",
     "iopub.status.idle": "2021-12-05T00:30:08.690306Z",
     "shell.execute_reply": "2021-12-05T00:30:08.691854Z"
    },
    "papermill": {
     "duration": 1.018016,
     "end_time": "2021-12-05T00:30:08.692585",
     "exception": false,
     "start_time": "2021-12-05T00:30:07.674569",
     "status": "completed"
    },
    "tags": []
   },
   "outputs": [],
   "source": [
    "import pandas as pd\n",
    "import sqlite3"
   ]
  },
  {
   "cell_type": "code",
   "execution_count": 2,
   "id": "innovative-syndrome",
   "metadata": {
    "execution": {
     "iopub.execute_input": "2021-12-05T00:30:08.816249Z",
     "iopub.status.busy": "2021-12-05T00:30:08.813961Z",
     "iopub.status.idle": "2021-12-05T00:30:09.816107Z",
     "shell.execute_reply": "2021-12-05T00:30:09.818467Z"
    },
    "papermill": {
     "duration": 1.037393,
     "end_time": "2021-12-05T00:30:09.818892",
     "exception": false,
     "start_time": "2021-12-05T00:30:08.781499",
     "status": "completed"
    },
    "tags": []
   },
   "outputs": [],
   "source": [
    "timestamps = pd.read_sql(\"select distinct record_time from EBAY_TOP_BERLIN order by record_time desc limit 2\", sqlite3.connect(\"UsedObjects.db\"))"
   ]
  },
  {
   "cell_type": "code",
   "execution_count": 3,
   "id": "periodic-identification",
   "metadata": {
    "execution": {
     "iopub.execute_input": "2021-12-05T00:30:09.887725Z",
     "iopub.status.busy": "2021-12-05T00:30:09.880129Z",
     "iopub.status.idle": "2021-12-05T00:30:09.910209Z",
     "shell.execute_reply": "2021-12-05T00:30:09.911676Z"
    },
    "papermill": {
     "duration": 0.073629,
     "end_time": "2021-12-05T00:30:09.912158",
     "exception": false,
     "start_time": "2021-12-05T00:30:09.838529",
     "status": "completed"
    },
    "tags": []
   },
   "outputs": [
    {
     "data": {
      "text/html": [
       "<div>\n",
       "<style scoped>\n",
       "    .dataframe tbody tr th:only-of-type {\n",
       "        vertical-align: middle;\n",
       "    }\n",
       "\n",
       "    .dataframe tbody tr th {\n",
       "        vertical-align: top;\n",
       "    }\n",
       "\n",
       "    .dataframe thead th {\n",
       "        text-align: right;\n",
       "    }\n",
       "</style>\n",
       "<table border=\"1\" class=\"dataframe\">\n",
       "  <thead>\n",
       "    <tr style=\"text-align: right;\">\n",
       "      <th></th>\n",
       "      <th>RECORD_TIME</th>\n",
       "    </tr>\n",
       "  </thead>\n",
       "  <tbody>\n",
       "    <tr>\n",
       "      <th>0</th>\n",
       "      <td>2021-12-05 01:30</td>\n",
       "    </tr>\n",
       "    <tr>\n",
       "      <th>1</th>\n",
       "      <td>2021-12-05 01:00</td>\n",
       "    </tr>\n",
       "  </tbody>\n",
       "</table>\n",
       "</div>"
      ],
      "text/plain": [
       "        RECORD_TIME\n",
       "0  2021-12-05 01:30\n",
       "1  2021-12-05 01:00"
      ]
     },
     "execution_count": 3,
     "metadata": {},
     "output_type": "execute_result"
    }
   ],
   "source": [
    "timestamps"
   ]
  },
  {
   "cell_type": "code",
   "execution_count": 4,
   "id": "alternate-victory",
   "metadata": {
    "execution": {
     "iopub.execute_input": "2021-12-05T00:30:09.968029Z",
     "iopub.status.busy": "2021-12-05T00:30:09.965731Z",
     "iopub.status.idle": "2021-12-05T00:30:11.417428Z",
     "shell.execute_reply": "2021-12-05T00:30:11.418820Z"
    },
    "papermill": {
     "duration": 1.485572,
     "end_time": "2021-12-05T00:30:11.419297",
     "exception": false,
     "start_time": "2021-12-05T00:30:09.933725",
     "status": "completed"
    },
    "tags": []
   },
   "outputs": [],
   "source": [
    "df = pd.read_sql(\"select * from EBAY_TOP_BERLIN where record_time in (select distinct record_time from EBAY_TOP_BERLIN order by record_time desc limit 2)\", sqlite3.connect(\"UsedObjects.db\"))"
   ]
  },
  {
   "cell_type": "code",
   "execution_count": 5,
   "id": "popular-active",
   "metadata": {
    "execution": {
     "iopub.execute_input": "2021-12-05T00:30:11.499511Z",
     "iopub.status.busy": "2021-12-05T00:30:11.486637Z",
     "iopub.status.idle": "2021-12-05T00:30:11.519324Z",
     "shell.execute_reply": "2021-12-05T00:30:11.520774Z"
    },
    "papermill": {
     "duration": 0.079553,
     "end_time": "2021-12-05T00:30:11.521219",
     "exception": false,
     "start_time": "2021-12-05T00:30:11.441666",
     "status": "completed"
    },
    "tags": []
   },
   "outputs": [],
   "source": [
    "df_pivot = df.pivot_table(index=\"PRODUCT\", columns = \"RECORD_TIME\", values = \"LISTING_COUNT\")"
   ]
  },
  {
   "cell_type": "code",
   "execution_count": 6,
   "id": "union-huntington",
   "metadata": {
    "execution": {
     "iopub.execute_input": "2021-12-05T00:30:11.580334Z",
     "iopub.status.busy": "2021-12-05T00:30:11.578041Z",
     "iopub.status.idle": "2021-12-05T00:30:11.583907Z",
     "shell.execute_reply": "2021-12-05T00:30:11.586932Z"
    },
    "papermill": {
     "duration": 0.045416,
     "end_time": "2021-12-05T00:30:11.587419",
     "exception": false,
     "start_time": "2021-12-05T00:30:11.542003",
     "status": "completed"
    },
    "tags": []
   },
   "outputs": [],
   "source": [
    "df_pivot.columns = [\"stamp_1\", \"stamp_2\"]\n",
    "df_pivot_diff = df_pivot.diff(axis=1)"
   ]
  },
  {
   "cell_type": "code",
   "execution_count": 7,
   "id": "fifth-motion",
   "metadata": {
    "execution": {
     "iopub.execute_input": "2021-12-05T00:30:11.648188Z",
     "iopub.status.busy": "2021-12-05T00:30:11.645830Z",
     "iopub.status.idle": "2021-12-05T00:30:13.649405Z",
     "shell.execute_reply": "2021-12-05T00:30:13.650624Z"
    },
    "papermill": {
     "duration": 2.041397,
     "end_time": "2021-12-05T00:30:13.651058",
     "exception": false,
     "start_time": "2021-12-05T00:30:11.609661",
     "status": "completed"
    },
    "tags": []
   },
   "outputs": [
    {
     "data": {
      "text/plain": [
       "<AxesSubplot:ylabel='PRODUCT'>"
      ]
     },
     "execution_count": 7,
     "metadata": {},
     "output_type": "execute_result"
    },
    {
     "data": {
      "image/png": "[encoded data removed]",
      "text/plain": [
       "<Figure size 432x288 with 1 Axes>"
      ]
     },
     "metadata": {
      "needs_background": "light"
     },
     "output_type": "display_data"
    }
   ],
   "source": [
    "df_pivot_diff.sort_values(\"stamp_2\", ascending = False)[\"stamp_2\"].head(10).plot.barh()"
   ]
  },
  {
   "cell_type": "code",
   "execution_count": null,
   "id": "extra-executive",
   "metadata": {
    "papermill": {
     "duration": 0.022345,
     "end_time": "2021-12-05T00:30:13.699919",
     "exception": false,
     "start_time": "2021-12-05T00:30:13.677574",
     "status": "completed"
    },
    "tags": []
   },
   "outputs": [],
   "source": []
  }
 ],
 "metadata": {
  "kernelspec": {
   "display_name": "Python 3",
   "language": "python",
   "name": "python3"
  },
  "language_info": {
   "codemirror_mode": {
    "name": "ipython",
    "version": 3
   },
   "file_extension": ".py",
   "mimetype": "text/x-python",
   "name": "python",
   "nbconvert_exporter": "python",
   "pygments_lexer": "ipython3",
   "version": "3.9.5"
  },
  "papermill": {
   "default_parameters": {},
   "duration": 9.476094,
   "end_time": "2021-12-05T00:30:14.406509",
   "environment_variables": {},
   "exception": null,
   "input_path": "eBay_Overview.ipynb",
   "output_path": "eBay_Overview.ipynb",
   "parameters": {},
   "start_time": "2021-12-05T00:30:04.930415",
   "version": "2.3.3"
  }
 },
 "nbformat": 4,
 "nbformat_minor": 5
}