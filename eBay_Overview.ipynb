{
 "cells": [
  {
   "cell_type": "code",
   "execution_count": 1,
   "id": "reverse-picking",
   "metadata": {
    "execution": {
     "iopub.execute_input": "2021-09-04T14:00:06.912896Z",
     "iopub.status.busy": "2021-09-04T14:00:06.910825Z",
     "iopub.status.idle": "2021-09-04T14:00:07.712745Z",
     "shell.execute_reply": "2021-09-04T14:00:07.713981Z"
    },
    "papermill": {
     "duration": 0.853132,
     "end_time": "2021-09-04T14:00:07.714588",
     "exception": false,
     "start_time": "2021-09-04T14:00:06.861456",
     "status": "completed"
    },
    "tags": []
   },
   "outputs": [],
   "source": [
    "import pandas as pd\n",
    "import sqlite3"
   ]
  },
  {
   "cell_type": "code",
   "execution_count": 2,
   "id": "innovative-syndrome",
   "metadata": {
    "execution": {
     "iopub.execute_input": "2021-09-04T14:00:07.766504Z",
     "iopub.status.busy": "2021-09-04T14:00:07.764645Z",
     "iopub.status.idle": "2021-09-04T14:00:07.970405Z",
     "shell.execute_reply": "2021-09-04T14:00:07.971819Z"
    },
    "papermill": {
     "duration": 0.23572,
     "end_time": "2021-09-04T14:00:07.972227",
     "exception": false,
     "start_time": "2021-09-04T14:00:07.736507",
     "status": "completed"
    },
    "tags": []
   },
   "outputs": [],
   "source": [
    "timestamps = pd.read_sql(\"select distinct record_time from EBAY_TOP_BERLIN order by record_time desc limit 2\", sqlite3.connect(\"UsedObjects.db\"))"
   ]
  },
  {
   "cell_type": "code",
   "execution_count": 3,
   "id": "periodic-identification",
   "metadata": {
    "execution": {
     "iopub.execute_input": "2021-09-04T14:00:08.040421Z",
     "iopub.status.busy": "2021-09-04T14:00:08.038322Z",
     "iopub.status.idle": "2021-09-04T14:00:08.058285Z",
     "shell.execute_reply": "2021-09-04T14:00:08.059648Z"
    },
    "papermill": {
     "duration": 0.066959,
     "end_time": "2021-09-04T14:00:08.060065",
     "exception": false,
     "start_time": "2021-09-04T14:00:07.993106",
     "status": "completed"
    },
    "tags": []
   },
   "outputs": [
    {
     "data": {
      "text/html": [
       "<div>\n",
       "<style scoped>\n",
       "    .dataframe tbody tr th:only-of-type {\n",
       "        vertical-align: middle;\n",
       "    }\n",
       "\n",
       "    .dataframe tbody tr th {\n",
       "        vertical-align: top;\n",
       "    }\n",
       "\n",
       "    .dataframe thead th {\n",
       "        text-align: right;\n",
       "    }\n",
       "</style>\n",
       "<table border=\"1\" class=\"dataframe\">\n",
       "  <thead>\n",
       "    <tr style=\"text-align: right;\">\n",
       "      <th></th>\n",
       "      <th>RECORD_TIME</th>\n",
       "    </tr>\n",
       "  </thead>\n",
       "  <tbody>\n",
       "    <tr>\n",
       "      <th>0</th>\n",
       "      <td>2021-09-04 16:00</td>\n",
       "    </tr>\n",
       "    <tr>\n",
       "      <th>1</th>\n",
       "      <td>2021-09-04 15:30</td>\n",
       "    </tr>\n",
       "  </tbody>\n",
       "</table>\n",
       "</div>"
      ],
      "text/plain": [
       "        RECORD_TIME\n",
       "0  2021-09-04 16:00\n",
       "1  2021-09-04 15:30"
      ]
     },
     "execution_count": 3,
     "metadata": {},
     "output_type": "execute_result"
    }
   ],
   "source": [
    "timestamps"
   ]
  },
  {
   "cell_type": "code",
   "execution_count": 4,
   "id": "alternate-victory",
   "metadata": {
    "execution": {
     "iopub.execute_input": "2021-09-04T14:00:08.111954Z",
     "iopub.status.busy": "2021-09-04T14:00:08.110011Z",
     "iopub.status.idle": "2021-09-04T14:00:08.418585Z",
     "shell.execute_reply": "2021-09-04T14:00:08.419869Z"
    },
    "papermill": {
     "duration": 0.338705,
     "end_time": "2021-09-04T14:00:08.420268",
     "exception": false,
     "start_time": "2021-09-04T14:00:08.081563",
     "status": "completed"
    },
    "tags": []
   },
   "outputs": [],
   "source": [
    "df = pd.read_sql(\"select * from EBAY_TOP_BERLIN where record_time in (select distinct record_time from EBAY_TOP_BERLIN order by record_time desc limit 2)\", sqlite3.connect(\"UsedObjects.db\"))"
   ]
  },
  {
   "cell_type": "code",
   "execution_count": 5,
   "id": "popular-active",
   "metadata": {
    "execution": {
     "iopub.execute_input": "2021-09-04T14:00:08.500579Z",
     "iopub.status.busy": "2021-09-04T14:00:08.488227Z",
     "iopub.status.idle": "2021-09-04T14:00:08.516784Z",
     "shell.execute_reply": "2021-09-04T14:00:08.518067Z"
    },
    "papermill": {
     "duration": 0.072266,
     "end_time": "2021-09-04T14:00:08.518478",
     "exception": false,
     "start_time": "2021-09-04T14:00:08.446212",
     "status": "completed"
    },
    "tags": []
   },
   "outputs": [],
   "source": [
    "df_pivot = df.pivot_table(index=\"PRODUCT\", columns = \"RECORD_TIME\", values = \"LISTING_COUNT\")"
   ]
  },
  {
   "cell_type": "code",
   "execution_count": 6,
   "id": "union-huntington",
   "metadata": {
    "execution": {
     "iopub.execute_input": "2021-09-04T14:00:08.574740Z",
     "iopub.status.busy": "2021-09-04T14:00:08.572681Z",
     "iopub.status.idle": "2021-09-04T14:00:08.578068Z",
     "shell.execute_reply": "2021-09-04T14:00:08.579335Z"
    },
    "papermill": {
     "duration": 0.041593,
     "end_time": "2021-09-04T14:00:08.579769",
     "exception": false,
     "start_time": "2021-09-04T14:00:08.538176",
     "status": "completed"
    },
    "tags": []
   },
   "outputs": [],
   "source": [
    "df_pivot.columns = [\"stamp_1\", \"stamp_2\"]\n",
    "df_pivot_diff = df_pivot.diff(axis=1)"
   ]
  },
  {
   "cell_type": "code",
   "execution_count": 7,
   "id": "fifth-motion",
   "metadata": {
    "execution": {
     "iopub.execute_input": "2021-09-04T14:00:08.634850Z",
     "iopub.status.busy": "2021-09-04T14:00:08.632465Z",
     "iopub.status.idle": "2021-09-04T14:00:10.114805Z",
     "shell.execute_reply": "2021-09-04T14:00:10.116244Z"
    },
    "papermill": {
     "duration": 1.515471,
     "end_time": "2021-09-04T14:00:10.116678",
     "exception": false,
     "start_time": "2021-09-04T14:00:08.601207",
     "status": "completed"
    },
    "tags": []
   },
   "outputs": [
    {
     "data": {
      "text/plain": [
       "<AxesSubplot:ylabel='PRODUCT'>"
      ]
     },
     "execution_count": 7,
     "metadata": {},
     "output_type": "execute_result"
    },
    {
     "data": {
      "image/png": "[encoded data removed]",
      "text/plain": [
       "<Figure size 432x288 with 1 Axes>"
      ]
     },
     "metadata": {
      "needs_background": "light"
     },
     "output_type": "display_data"
    }
   ],
   "source": [
    "df_pivot_diff.sort_values(\"stamp_2\", ascending = False)[\"stamp_2\"].head(10).plot.barh()"
   ]
  },
  {
   "cell_type": "code",
   "execution_count": null,
   "id": "extra-executive",
   "metadata": {
    "papermill": {
     "duration": 0.022457,
     "end_time": "2021-09-04T14:00:10.163869",
     "exception": false,
     "start_time": "2021-09-04T14:00:10.141412",
     "status": "completed"
    },
    "tags": []
   },
   "outputs": [],
   "source": []
  }
 ],
 "metadata": {
  "kernelspec": {
   "display_name": "Python 3",
   "language": "python",
   "name": "python3"
  },
  "language_info": {
   "codemirror_mode": {
    "name": "ipython",
    "version": 3
   },
   "file_extension": ".py",
   "mimetype": "text/x-python",
   "name": "python",
   "nbconvert_exporter": "python",
   "pygments_lexer": "ipython3",
   "version": "3.9.5"
  },
  "papermill": {
   "default_parameters": {},
   "duration": 6.34444,
   "end_time": "2021-09-04T14:00:10.805123",
   "environment_variables": {},
   "exception": null,
   "input_path": "eBay_Overview.ipynb",
   "output_path": "eBay_Overview.ipynb",
   "parameters": {},
   "start_time": "2021-09-04T14:00:04.460683",
   "version": "2.3.3"
  }
 },
 "nbformat": 4,
 "nbformat_minor": 5
}