{
 "cells": [
  {
   "cell_type": "code",
   "execution_count": 1,
   "id": "reverse-picking",
   "metadata": {
    "execution": {
     "iopub.execute_input": "2021-11-27T03:00:07.799269Z",
     "iopub.status.busy": "2021-11-27T03:00:07.796835Z",
     "iopub.status.idle": "2021-11-27T03:00:08.726435Z",
     "shell.execute_reply": "2021-11-27T03:00:08.727998Z"
    },
    "papermill": {
     "duration": 0.980575,
     "end_time": "2021-11-27T03:00:08.728781",
     "exception": false,
     "start_time": "2021-11-27T03:00:07.748206",
     "status": "completed"
    },
    "tags": []
   },
   "outputs": [],
   "source": [
    "import pandas as pd\n",
    "import sqlite3"
   ]
  },
  {
   "cell_type": "code",
   "execution_count": 2,
   "id": "innovative-syndrome",
   "metadata": {
    "execution": {
     "iopub.execute_input": "2021-11-27T03:00:08.795949Z",
     "iopub.status.busy": "2021-11-27T03:00:08.792841Z",
     "iopub.status.idle": "2021-11-27T03:00:09.738984Z",
     "shell.execute_reply": "2021-11-27T03:00:09.737075Z"
    },
    "papermill": {
     "duration": 0.979976,
     "end_time": "2021-11-27T03:00:09.739385",
     "exception": false,
     "start_time": "2021-11-27T03:00:08.759409",
     "status": "completed"
    },
    "tags": []
   },
   "outputs": [],
   "source": [
    "timestamps = pd.read_sql(\"select distinct record_time from EBAY_TOP_BERLIN order by record_time desc limit 2\", sqlite3.connect(\"UsedObjects.db\"))"
   ]
  },
  {
   "cell_type": "code",
   "execution_count": 3,
   "id": "periodic-identification",
   "metadata": {
    "execution": {
     "iopub.execute_input": "2021-11-27T03:00:09.807660Z",
     "iopub.status.busy": "2021-11-27T03:00:09.805331Z",
     "iopub.status.idle": "2021-11-27T03:00:09.833549Z",
     "shell.execute_reply": "2021-11-27T03:00:09.834847Z"
    },
    "papermill": {
     "duration": 0.075239,
     "end_time": "2021-11-27T03:00:09.835302",
     "exception": false,
     "start_time": "2021-11-27T03:00:09.760063",
     "status": "completed"
    },
    "tags": []
   },
   "outputs": [
    {
     "data": {
      "text/html": [
       "<div>\n",
       "<style scoped>\n",
       "    .dataframe tbody tr th:only-of-type {\n",
       "        vertical-align: middle;\n",
       "    }\n",
       "\n",
       "    .dataframe tbody tr th {\n",
       "        vertical-align: top;\n",
       "    }\n",
       "\n",
       "    .dataframe thead th {\n",
       "        text-align: right;\n",
       "    }\n",
       "</style>\n",
       "<table border=\"1\" class=\"dataframe\">\n",
       "  <thead>\n",
       "    <tr style=\"text-align: right;\">\n",
       "      <th></th>\n",
       "      <th>RECORD_TIME</th>\n",
       "    </tr>\n",
       "  </thead>\n",
       "  <tbody>\n",
       "    <tr>\n",
       "      <th>0</th>\n",
       "      <td>2021-11-27 04:00</td>\n",
       "    </tr>\n",
       "    <tr>\n",
       "      <th>1</th>\n",
       "      <td>2021-11-27 03:30</td>\n",
       "    </tr>\n",
       "  </tbody>\n",
       "</table>\n",
       "</div>"
      ],
      "text/plain": [
       "        RECORD_TIME\n",
       "0  2021-11-27 04:00\n",
       "1  2021-11-27 03:30"
      ]
     },
     "execution_count": 3,
     "metadata": {},
     "output_type": "execute_result"
    }
   ],
   "source": [
    "timestamps"
   ]
  },
  {
   "cell_type": "code",
   "execution_count": 4,
   "id": "alternate-victory",
   "metadata": {
    "execution": {
     "iopub.execute_input": "2021-11-27T03:00:09.886239Z",
     "iopub.status.busy": "2021-11-27T03:00:09.884314Z",
     "iopub.status.idle": "2021-11-27T03:00:11.197639Z",
     "shell.execute_reply": "2021-11-27T03:00:11.199343Z"
    },
    "papermill": {
     "duration": 1.344239,
     "end_time": "2021-11-27T03:00:11.199874",
     "exception": false,
     "start_time": "2021-11-27T03:00:09.855635",
     "status": "completed"
    },
    "tags": []
   },
   "outputs": [],
   "source": [
    "df = pd.read_sql(\"select * from EBAY_TOP_BERLIN where record_time in (select distinct record_time from EBAY_TOP_BERLIN order by record_time desc limit 2)\", sqlite3.connect(\"UsedObjects.db\"))"
   ]
  },
  {
   "cell_type": "code",
   "execution_count": 5,
   "id": "popular-active",
   "metadata": {
    "execution": {
     "iopub.execute_input": "2021-11-27T03:00:11.278319Z",
     "iopub.status.busy": "2021-11-27T03:00:11.269674Z",
     "iopub.status.idle": "2021-11-27T03:00:11.295649Z",
     "shell.execute_reply": "2021-11-27T03:00:11.297099Z"
    },
    "papermill": {
     "duration": 0.075552,
     "end_time": "2021-11-27T03:00:11.297587",
     "exception": false,
     "start_time": "2021-11-27T03:00:11.222035",
     "status": "completed"
    },
    "tags": []
   },
   "outputs": [],
   "source": [
    "df_pivot = df.pivot_table(index=\"PRODUCT\", columns = \"RECORD_TIME\", values = \"LISTING_COUNT\")"
   ]
  },
  {
   "cell_type": "code",
   "execution_count": 6,
   "id": "union-huntington",
   "metadata": {
    "execution": {
     "iopub.execute_input": "2021-11-27T03:00:11.358354Z",
     "iopub.status.busy": "2021-11-27T03:00:11.355695Z",
     "iopub.status.idle": "2021-11-27T03:00:11.363858Z",
     "shell.execute_reply": "2021-11-27T03:00:11.365656Z"
    },
    "papermill": {
     "duration": 0.048296,
     "end_time": "2021-11-27T03:00:11.366184",
     "exception": false,
     "start_time": "2021-11-27T03:00:11.317888",
     "status": "completed"
    },
    "tags": []
   },
   "outputs": [],
   "source": [
    "df_pivot.columns = [\"stamp_1\", \"stamp_2\"]\n",
    "df_pivot_diff = df_pivot.diff(axis=1)"
   ]
  },
  {
   "cell_type": "code",
   "execution_count": 7,
   "id": "fifth-motion",
   "metadata": {
    "execution": {
     "iopub.execute_input": "2021-11-27T03:00:11.427755Z",
     "iopub.status.busy": "2021-11-27T03:00:11.424845Z",
     "iopub.status.idle": "2021-11-27T03:00:13.401821Z",
     "shell.execute_reply": "2021-11-27T03:00:13.404180Z"
    },
    "papermill": {
     "duration": 2.015909,
     "end_time": "2021-11-27T03:00:13.405111",
     "exception": false,
     "start_time": "2021-11-27T03:00:11.389202",
     "status": "completed"
    },
    "tags": []
   },
   "outputs": [
    {
     "data": {
      "text/plain": [
       "<AxesSubplot:ylabel='PRODUCT'>"
      ]
     },
     "execution_count": 7,
     "metadata": {},
     "output_type": "execute_result"
    },
    {
     "data": {
      "image/png": "[encoded data removed]",
      "text/plain": [
       "<Figure size 432x288 with 1 Axes>"
      ]
     },
     "metadata": {
      "needs_background": "light"
     },
     "output_type": "display_data"
    }
   ],
   "source": [
    "df_pivot_diff.sort_values(\"stamp_2\", ascending = False)[\"stamp_2\"].head(10).plot.barh()"
   ]
  },
  {
   "cell_type": "code",
   "execution_count": null,
   "id": "extra-executive",
   "metadata": {
    "papermill": {
     "duration": 0.027877,
     "end_time": "2021-11-27T03:00:13.466934",
     "exception": false,
     "start_time": "2021-11-27T03:00:13.439057",
     "status": "completed"
    },
    "tags": []
   },
   "outputs": [],
   "source": []
  }
 ],
 "metadata": {
  "kernelspec": {
   "display_name": "Python 3",
   "language": "python",
   "name": "python3"
  },
  "language_info": {
   "codemirror_mode": {
    "name": "ipython",
    "version": 3
   },
   "file_extension": ".py",
   "mimetype": "text/x-python",
   "name": "python",
   "nbconvert_exporter": "python",
   "pygments_lexer": "ipython3",
   "version": "3.9.5"
  },
  "papermill": {
   "default_parameters": {},
   "duration": 9.937384,
   "end_time": "2021-11-27T03:00:14.946749",
   "environment_variables": {},
   "exception": null,
   "input_path": "eBay_Overview.ipynb",
   "output_path": "eBay_Overview.ipynb",
   "parameters": {},
   "start_time": "2021-11-27T03:00:05.009365",
   "version": "2.3.3"
  }
 },
 "nbformat": 4,
 "nbformat_minor": 5
}