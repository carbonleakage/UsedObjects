{
 "cells": [
  {
   "cell_type": "code",
   "execution_count": 1,
   "id": "reverse-picking",
   "metadata": {
    "execution": {
     "iopub.execute_input": "2021-09-15T11:00:07.784322Z",
     "iopub.status.busy": "2021-09-15T11:00:07.782239Z",
     "iopub.status.idle": "2021-09-15T11:00:08.588793Z",
     "shell.execute_reply": "2021-09-15T11:00:08.587179Z"
    },
    "papermill": {
     "duration": 0.85444,
     "end_time": "2021-09-15T11:00:08.589191",
     "exception": false,
     "start_time": "2021-09-15T11:00:07.734751",
     "status": "completed"
    },
    "tags": []
   },
   "outputs": [],
   "source": [
    "import pandas as pd\n",
    "import sqlite3"
   ]
  },
  {
   "cell_type": "code",
   "execution_count": 2,
   "id": "innovative-syndrome",
   "metadata": {
    "execution": {
     "iopub.execute_input": "2021-09-15T11:00:08.641399Z",
     "iopub.status.busy": "2021-09-15T11:00:08.639197Z",
     "iopub.status.idle": "2021-09-15T11:00:08.932125Z",
     "shell.execute_reply": "2021-09-15T11:00:08.933377Z"
    },
    "papermill": {
     "duration": 0.322786,
     "end_time": "2021-09-15T11:00:08.933773",
     "exception": false,
     "start_time": "2021-09-15T11:00:08.610987",
     "status": "completed"
    },
    "tags": []
   },
   "outputs": [],
   "source": [
    "timestamps = pd.read_sql(\"select distinct record_time from EBAY_TOP_BERLIN order by record_time desc limit 2\", sqlite3.connect(\"UsedObjects.db\"))"
   ]
  },
  {
   "cell_type": "code",
   "execution_count": 3,
   "id": "periodic-identification",
   "metadata": {
    "execution": {
     "iopub.execute_input": "2021-09-15T11:00:08.998239Z",
     "iopub.status.busy": "2021-09-15T11:00:08.996191Z",
     "iopub.status.idle": "2021-09-15T11:00:09.016211Z",
     "shell.execute_reply": "2021-09-15T11:00:09.017414Z"
    },
    "papermill": {
     "duration": 0.064617,
     "end_time": "2021-09-15T11:00:09.017840",
     "exception": false,
     "start_time": "2021-09-15T11:00:08.953223",
     "status": "completed"
    },
    "tags": []
   },
   "outputs": [
    {
     "data": {
      "text/html": [
       "<div>\n",
       "<style scoped>\n",
       "    .dataframe tbody tr th:only-of-type {\n",
       "        vertical-align: middle;\n",
       "    }\n",
       "\n",
       "    .dataframe tbody tr th {\n",
       "        vertical-align: top;\n",
       "    }\n",
       "\n",
       "    .dataframe thead th {\n",
       "        text-align: right;\n",
       "    }\n",
       "</style>\n",
       "<table border=\"1\" class=\"dataframe\">\n",
       "  <thead>\n",
       "    <tr style=\"text-align: right;\">\n",
       "      <th></th>\n",
       "      <th>RECORD_TIME</th>\n",
       "    </tr>\n",
       "  </thead>\n",
       "  <tbody>\n",
       "    <tr>\n",
       "      <th>0</th>\n",
       "      <td>2021-09-15 13:00</td>\n",
       "    </tr>\n",
       "    <tr>\n",
       "      <th>1</th>\n",
       "      <td>2021-09-15 12:30</td>\n",
       "    </tr>\n",
       "  </tbody>\n",
       "</table>\n",
       "</div>"
      ],
      "text/plain": [
       "        RECORD_TIME\n",
       "0  2021-09-15 13:00\n",
       "1  2021-09-15 12:30"
      ]
     },
     "execution_count": 3,
     "metadata": {},
     "output_type": "execute_result"
    }
   ],
   "source": [
    "timestamps"
   ]
  },
  {
   "cell_type": "code",
   "execution_count": 4,
   "id": "alternate-victory",
   "metadata": {
    "execution": {
     "iopub.execute_input": "2021-09-15T11:00:09.070176Z",
     "iopub.status.busy": "2021-09-15T11:00:09.067878Z",
     "iopub.status.idle": "2021-09-15T11:00:09.497887Z",
     "shell.execute_reply": "2021-09-15T11:00:09.499434Z"
    },
    "papermill": {
     "duration": 0.46081,
     "end_time": "2021-09-15T11:00:09.499882",
     "exception": false,
     "start_time": "2021-09-15T11:00:09.039072",
     "status": "completed"
    },
    "tags": []
   },
   "outputs": [],
   "source": [
    "df = pd.read_sql(\"select * from EBAY_TOP_BERLIN where record_time in (select distinct record_time from EBAY_TOP_BERLIN order by record_time desc limit 2)\", sqlite3.connect(\"UsedObjects.db\"))"
   ]
  },
  {
   "cell_type": "code",
   "execution_count": 5,
   "id": "popular-active",
   "metadata": {
    "execution": {
     "iopub.execute_input": "2021-09-15T11:00:09.580407Z",
     "iopub.status.busy": "2021-09-15T11:00:09.567240Z",
     "iopub.status.idle": "2021-09-15T11:00:09.595870Z",
     "shell.execute_reply": "2021-09-15T11:00:09.597151Z"
    },
    "papermill": {
     "duration": 0.07145,
     "end_time": "2021-09-15T11:00:09.597544",
     "exception": false,
     "start_time": "2021-09-15T11:00:09.526094",
     "status": "completed"
    },
    "tags": []
   },
   "outputs": [],
   "source": [
    "df_pivot = df.pivot_table(index=\"PRODUCT\", columns = \"RECORD_TIME\", values = \"LISTING_COUNT\")"
   ]
  },
  {
   "cell_type": "code",
   "execution_count": 6,
   "id": "union-huntington",
   "metadata": {
    "execution": {
     "iopub.execute_input": "2021-09-15T11:00:09.655343Z",
     "iopub.status.busy": "2021-09-15T11:00:09.652948Z",
     "iopub.status.idle": "2021-09-15T11:00:09.658849Z",
     "shell.execute_reply": "2021-09-15T11:00:09.660339Z"
    },
    "papermill": {
     "duration": 0.042441,
     "end_time": "2021-09-15T11:00:09.660802",
     "exception": false,
     "start_time": "2021-09-15T11:00:09.618361",
     "status": "completed"
    },
    "tags": []
   },
   "outputs": [],
   "source": [
    "df_pivot.columns = [\"stamp_1\", \"stamp_2\"]\n",
    "df_pivot_diff = df_pivot.diff(axis=1)"
   ]
  },
  {
   "cell_type": "code",
   "execution_count": 7,
   "id": "fifth-motion",
   "metadata": {
    "execution": {
     "iopub.execute_input": "2021-09-15T11:00:09.716738Z",
     "iopub.status.busy": "2021-09-15T11:00:09.714226Z",
     "iopub.status.idle": "2021-09-15T11:00:11.186269Z",
     "shell.execute_reply": "2021-09-15T11:00:11.187894Z"
    },
    "papermill": {
     "duration": 1.505633,
     "end_time": "2021-09-15T11:00:11.188376",
     "exception": false,
     "start_time": "2021-09-15T11:00:09.682743",
     "status": "completed"
    },
    "tags": []
   },
   "outputs": [
    {
     "data": {
      "text/plain": [
       "<AxesSubplot:ylabel='PRODUCT'>"
      ]
     },
     "execution_count": 7,
     "metadata": {},
     "output_type": "execute_result"
    },
    {
     "data": {
      "image/png": "[encoded data removed]",
      "text/plain": [
       "<Figure size 432x288 with 1 Axes>"
      ]
     },
     "metadata": {
      "needs_background": "light"
     },
     "output_type": "display_data"
    }
   ],
   "source": [
    "df_pivot_diff.sort_values(\"stamp_2\", ascending = False)[\"stamp_2\"].head(10).plot.barh()"
   ]
  },
  {
   "cell_type": "code",
   "execution_count": null,
   "id": "extra-executive",
   "metadata": {
    "papermill": {
     "duration": 0.022436,
     "end_time": "2021-09-15T11:00:11.235503",
     "exception": false,
     "start_time": "2021-09-15T11:00:11.213067",
     "status": "completed"
    },
    "tags": []
   },
   "outputs": [],
   "source": []
  }
 ],
 "metadata": {
  "kernelspec": {
   "display_name": "Python 3",
   "language": "python",
   "name": "python3"
  },
  "language_info": {
   "codemirror_mode": {
    "name": "ipython",
    "version": 3
   },
   "file_extension": ".py",
   "mimetype": "text/x-python",
   "name": "python",
   "nbconvert_exporter": "python",
   "pygments_lexer": "ipython3",
   "version": "3.9.5"
  },
  "papermill": {
   "default_parameters": {},
   "duration": 6.555807,
   "end_time": "2021-09-15T11:00:11.876610",
   "environment_variables": {},
   "exception": null,
   "input_path": "eBay_Overview.ipynb",
   "output_path": "eBay_Overview.ipynb",
   "parameters": {},
   "start_time": "2021-09-15T11:00:05.320803",
   "version": "2.3.3"
  }
 },
 "nbformat": 4,
 "nbformat_minor": 5
}