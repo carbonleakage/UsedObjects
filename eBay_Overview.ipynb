{
 "cells": [
  {
   "cell_type": "code",
   "execution_count": 1,
   "id": "reverse-picking",
   "metadata": {
    "execution": {
     "iopub.execute_input": "2021-08-18T10:00:07.488884Z",
     "iopub.status.busy": "2021-08-18T10:00:07.486948Z",
     "iopub.status.idle": "2021-08-18T10:00:08.290479Z",
     "shell.execute_reply": "2021-08-18T10:00:08.291836Z"
    },
    "papermill": {
     "duration": 0.854281,
     "end_time": "2021-08-18T10:00:08.292484",
     "exception": false,
     "start_time": "2021-08-18T10:00:07.438203",
     "status": "completed"
    },
    "tags": []
   },
   "outputs": [],
   "source": [
    "import pandas as pd\n",
    "import sqlite3"
   ]
  },
  {
   "cell_type": "code",
   "execution_count": 2,
   "id": "innovative-syndrome",
   "metadata": {
    "execution": {
     "iopub.execute_input": "2021-08-18T10:00:08.343257Z",
     "iopub.status.busy": "2021-08-18T10:00:08.341303Z",
     "iopub.status.idle": "2021-08-18T10:00:08.416180Z",
     "shell.execute_reply": "2021-08-18T10:00:08.417444Z"
    },
    "papermill": {
     "duration": 0.104271,
     "end_time": "2021-08-18T10:00:08.417856",
     "exception": false,
     "start_time": "2021-08-18T10:00:08.313585",
     "status": "completed"
    },
    "tags": []
   },
   "outputs": [],
   "source": [
    "timestamps = pd.read_sql(\"select distinct record_time from EBAY_TOP_BERLIN order by record_time desc limit 2\", sqlite3.connect(\"UsedObjects.db\"))"
   ]
  },
  {
   "cell_type": "code",
   "execution_count": 3,
   "id": "periodic-identification",
   "metadata": {
    "execution": {
     "iopub.execute_input": "2021-08-18T10:00:08.483959Z",
     "iopub.status.busy": "2021-08-18T10:00:08.481916Z",
     "iopub.status.idle": "2021-08-18T10:00:08.502969Z",
     "shell.execute_reply": "2021-08-18T10:00:08.504105Z"
    },
    "papermill": {
     "duration": 0.067421,
     "end_time": "2021-08-18T10:00:08.504506",
     "exception": false,
     "start_time": "2021-08-18T10:00:08.437085",
     "status": "completed"
    },
    "tags": []
   },
   "outputs": [
    {
     "data": {
      "text/html": [
       "<div>\n",
       "<style scoped>\n",
       "    .dataframe tbody tr th:only-of-type {\n",
       "        vertical-align: middle;\n",
       "    }\n",
       "\n",
       "    .dataframe tbody tr th {\n",
       "        vertical-align: top;\n",
       "    }\n",
       "\n",
       "    .dataframe thead th {\n",
       "        text-align: right;\n",
       "    }\n",
       "</style>\n",
       "<table border=\"1\" class=\"dataframe\">\n",
       "  <thead>\n",
       "    <tr style=\"text-align: right;\">\n",
       "      <th></th>\n",
       "      <th>RECORD_TIME</th>\n",
       "    </tr>\n",
       "  </thead>\n",
       "  <tbody>\n",
       "    <tr>\n",
       "      <th>0</th>\n",
       "      <td>2021-08-18 12:00</td>\n",
       "    </tr>\n",
       "    <tr>\n",
       "      <th>1</th>\n",
       "      <td>2021-08-18 11:30</td>\n",
       "    </tr>\n",
       "  </tbody>\n",
       "</table>\n",
       "</div>"
      ],
      "text/plain": [
       "        RECORD_TIME\n",
       "0  2021-08-18 12:00\n",
       "1  2021-08-18 11:30"
      ]
     },
     "execution_count": 3,
     "metadata": {},
     "output_type": "execute_result"
    }
   ],
   "source": [
    "timestamps"
   ]
  },
  {
   "cell_type": "code",
   "execution_count": 4,
   "id": "alternate-victory",
   "metadata": {
    "execution": {
     "iopub.execute_input": "2021-08-18T10:00:08.559183Z",
     "iopub.status.busy": "2021-08-18T10:00:08.556792Z",
     "iopub.status.idle": "2021-08-18T10:00:08.669421Z",
     "shell.execute_reply": "2021-08-18T10:00:08.670691Z"
    },
    "papermill": {
     "duration": 0.143078,
     "end_time": "2021-08-18T10:00:08.671089",
     "exception": false,
     "start_time": "2021-08-18T10:00:08.528011",
     "status": "completed"
    },
    "tags": []
   },
   "outputs": [],
   "source": [
    "df = pd.read_sql(\"select * from EBAY_TOP_BERLIN where record_time in (select distinct record_time from EBAY_TOP_BERLIN order by record_time desc limit 2)\", sqlite3.connect(\"UsedObjects.db\"))"
   ]
  },
  {
   "cell_type": "code",
   "execution_count": 5,
   "id": "popular-active",
   "metadata": {
    "execution": {
     "iopub.execute_input": "2021-08-18T10:00:08.741237Z",
     "iopub.status.busy": "2021-08-18T10:00:08.730572Z",
     "iopub.status.idle": "2021-08-18T10:00:08.757035Z",
     "shell.execute_reply": "2021-08-18T10:00:08.758309Z"
    },
    "papermill": {
     "duration": 0.067117,
     "end_time": "2021-08-18T10:00:08.758743",
     "exception": false,
     "start_time": "2021-08-18T10:00:08.691626",
     "status": "completed"
    },
    "tags": []
   },
   "outputs": [],
   "source": [
    "df_pivot = df.pivot_table(index=\"PRODUCT\", columns = \"RECORD_TIME\", values = \"LISTING_COUNT\")"
   ]
  },
  {
   "cell_type": "code",
   "execution_count": 6,
   "id": "union-huntington",
   "metadata": {
    "execution": {
     "iopub.execute_input": "2021-08-18T10:00:08.814544Z",
     "iopub.status.busy": "2021-08-18T10:00:08.812437Z",
     "iopub.status.idle": "2021-08-18T10:00:08.817852Z",
     "shell.execute_reply": "2021-08-18T10:00:08.819129Z"
    },
    "papermill": {
     "duration": 0.040716,
     "end_time": "2021-08-18T10:00:08.819557",
     "exception": false,
     "start_time": "2021-08-18T10:00:08.778841",
     "status": "completed"
    },
    "tags": []
   },
   "outputs": [],
   "source": [
    "df_pivot.columns = [\"stamp_1\", \"stamp_2\"]\n",
    "df_pivot_diff = df_pivot.diff(axis=1)"
   ]
  },
  {
   "cell_type": "code",
   "execution_count": 7,
   "id": "fifth-motion",
   "metadata": {
    "execution": {
     "iopub.execute_input": "2021-08-18T10:00:08.877600Z",
     "iopub.status.busy": "2021-08-18T10:00:08.874972Z",
     "iopub.status.idle": "2021-08-18T10:00:10.345247Z",
     "shell.execute_reply": "2021-08-18T10:00:10.346694Z"
    },
    "papermill": {
     "duration": 1.504643,
     "end_time": "2021-08-18T10:00:10.347137",
     "exception": false,
     "start_time": "2021-08-18T10:00:08.842494",
     "status": "completed"
    },
    "tags": []
   },
   "outputs": [
    {
     "data": {
      "text/plain": [
       "<AxesSubplot:ylabel='PRODUCT'>"
      ]
     },
     "execution_count": 7,
     "metadata": {},
     "output_type": "execute_result"
    },
    {
     "data": {
      "image/png": "[encoded data removed]",
      "text/plain": [
       "<Figure size 432x288 with 1 Axes>"
      ]
     },
     "metadata": {
      "needs_background": "light"
     },
     "output_type": "display_data"
    }
   ],
   "source": [
    "df_pivot_diff.sort_values(\"stamp_2\", ascending = False)[\"stamp_2\"].head(10).plot.barh()"
   ]
  },
  {
   "cell_type": "code",
   "execution_count": null,
   "id": "extra-executive",
   "metadata": {
    "papermill": {
     "duration": 0.022146,
     "end_time": "2021-08-18T10:00:10.394073",
     "exception": false,
     "start_time": "2021-08-18T10:00:10.371927",
     "status": "completed"
    },
    "tags": []
   },
   "outputs": [],
   "source": []
  }
 ],
 "metadata": {
  "kernelspec": {
   "display_name": "Python 3",
   "language": "python",
   "name": "python3"
  },
  "language_info": {
   "codemirror_mode": {
    "name": "ipython",
    "version": 3
   },
   "file_extension": ".py",
   "mimetype": "text/x-python",
   "name": "python",
   "nbconvert_exporter": "python",
   "pygments_lexer": "ipython3",
   "version": "3.9.5"
  },
  "papermill": {
   "default_parameters": {},
   "duration": 6.829306,
   "end_time": "2021-08-18T10:00:11.864991",
   "environment_variables": {},
   "exception": null,
   "input_path": "eBay_Overview.ipynb",
   "output_path": "eBay_Overview.ipynb",
   "parameters": {},
   "start_time": "2021-08-18T10:00:05.035685",
   "version": "2.3.3"
  }
 },
 "nbformat": 4,
 "nbformat_minor": 5
}