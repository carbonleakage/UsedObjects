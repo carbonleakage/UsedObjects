{
 "cells": [
  {
   "cell_type": "code",
   "execution_count": 1,
   "id": "reverse-picking",
   "metadata": {
    "execution": {
     "iopub.execute_input": "2021-09-14T03:30:06.826339Z",
     "iopub.status.busy": "2021-09-14T03:30:06.824400Z",
     "iopub.status.idle": "2021-09-14T03:30:07.628973Z",
     "shell.execute_reply": "2021-09-14T03:30:07.630285Z"
    },
    "papermill": {
     "duration": 0.856635,
     "end_time": "2021-09-14T03:30:07.631001",
     "exception": false,
     "start_time": "2021-09-14T03:30:06.774366",
     "status": "completed"
    },
    "tags": []
   },
   "outputs": [],
   "source": [
    "import pandas as pd\n",
    "import sqlite3"
   ]
  },
  {
   "cell_type": "code",
   "execution_count": 2,
   "id": "innovative-syndrome",
   "metadata": {
    "execution": {
     "iopub.execute_input": "2021-09-14T03:30:07.681887Z",
     "iopub.status.busy": "2021-09-14T03:30:07.679566Z",
     "iopub.status.idle": "2021-09-14T03:30:07.959030Z",
     "shell.execute_reply": "2021-09-14T03:30:07.960267Z"
    },
    "papermill": {
     "duration": 0.309715,
     "end_time": "2021-09-14T03:30:07.960665",
     "exception": false,
     "start_time": "2021-09-14T03:30:07.650950",
     "status": "completed"
    },
    "tags": []
   },
   "outputs": [],
   "source": [
    "timestamps = pd.read_sql(\"select distinct record_time from EBAY_TOP_BERLIN order by record_time desc limit 2\", sqlite3.connect(\"UsedObjects.db\"))"
   ]
  },
  {
   "cell_type": "code",
   "execution_count": 3,
   "id": "periodic-identification",
   "metadata": {
    "execution": {
     "iopub.execute_input": "2021-09-14T03:30:08.028446Z",
     "iopub.status.busy": "2021-09-14T03:30:08.026360Z",
     "iopub.status.idle": "2021-09-14T03:30:08.046596Z",
     "shell.execute_reply": "2021-09-14T03:30:08.048037Z"
    },
    "papermill": {
     "duration": 0.06548,
     "end_time": "2021-09-14T03:30:08.048516",
     "exception": false,
     "start_time": "2021-09-14T03:30:07.983036",
     "status": "completed"
    },
    "tags": []
   },
   "outputs": [
    {
     "data": {
      "text/html": [
       "<div>\n",
       "<style scoped>\n",
       "    .dataframe tbody tr th:only-of-type {\n",
       "        vertical-align: middle;\n",
       "    }\n",
       "\n",
       "    .dataframe tbody tr th {\n",
       "        vertical-align: top;\n",
       "    }\n",
       "\n",
       "    .dataframe thead th {\n",
       "        text-align: right;\n",
       "    }\n",
       "</style>\n",
       "<table border=\"1\" class=\"dataframe\">\n",
       "  <thead>\n",
       "    <tr style=\"text-align: right;\">\n",
       "      <th></th>\n",
       "      <th>RECORD_TIME</th>\n",
       "    </tr>\n",
       "  </thead>\n",
       "  <tbody>\n",
       "    <tr>\n",
       "      <th>0</th>\n",
       "      <td>2021-09-14 05:30</td>\n",
       "    </tr>\n",
       "    <tr>\n",
       "      <th>1</th>\n",
       "      <td>2021-09-14 05:00</td>\n",
       "    </tr>\n",
       "  </tbody>\n",
       "</table>\n",
       "</div>"
      ],
      "text/plain": [
       "        RECORD_TIME\n",
       "0  2021-09-14 05:30\n",
       "1  2021-09-14 05:00"
      ]
     },
     "execution_count": 3,
     "metadata": {},
     "output_type": "execute_result"
    }
   ],
   "source": [
    "timestamps"
   ]
  },
  {
   "cell_type": "code",
   "execution_count": 4,
   "id": "alternate-victory",
   "metadata": {
    "execution": {
     "iopub.execute_input": "2021-09-14T03:30:08.101267Z",
     "iopub.status.busy": "2021-09-14T03:30:08.099108Z",
     "iopub.status.idle": "2021-09-14T03:30:08.519431Z",
     "shell.execute_reply": "2021-09-14T03:30:08.520748Z"
    },
    "papermill": {
     "duration": 0.450599,
     "end_time": "2021-09-14T03:30:08.521144",
     "exception": false,
     "start_time": "2021-09-14T03:30:08.070545",
     "status": "completed"
    },
    "tags": []
   },
   "outputs": [],
   "source": [
    "df = pd.read_sql(\"select * from EBAY_TOP_BERLIN where record_time in (select distinct record_time from EBAY_TOP_BERLIN order by record_time desc limit 2)\", sqlite3.connect(\"UsedObjects.db\"))"
   ]
  },
  {
   "cell_type": "code",
   "execution_count": 5,
   "id": "popular-active",
   "metadata": {
    "execution": {
     "iopub.execute_input": "2021-09-14T03:30:08.606837Z",
     "iopub.status.busy": "2021-09-14T03:30:08.594469Z",
     "iopub.status.idle": "2021-09-14T03:30:08.624071Z",
     "shell.execute_reply": "2021-09-14T03:30:08.625449Z"
    },
    "papermill": {
     "duration": 0.076008,
     "end_time": "2021-09-14T03:30:08.625883",
     "exception": false,
     "start_time": "2021-09-14T03:30:08.549875",
     "status": "completed"
    },
    "tags": []
   },
   "outputs": [],
   "source": [
    "df_pivot = df.pivot_table(index=\"PRODUCT\", columns = \"RECORD_TIME\", values = \"LISTING_COUNT\")"
   ]
  },
  {
   "cell_type": "code",
   "execution_count": 6,
   "id": "union-huntington",
   "metadata": {
    "execution": {
     "iopub.execute_input": "2021-09-14T03:30:08.682484Z",
     "iopub.status.busy": "2021-09-14T03:30:08.680304Z",
     "iopub.status.idle": "2021-09-14T03:30:08.685418Z",
     "shell.execute_reply": "2021-09-14T03:30:08.686602Z"
    },
    "papermill": {
     "duration": 0.040956,
     "end_time": "2021-09-14T03:30:08.687151",
     "exception": false,
     "start_time": "2021-09-14T03:30:08.646195",
     "status": "completed"
    },
    "tags": []
   },
   "outputs": [],
   "source": [
    "df_pivot.columns = [\"stamp_1\", \"stamp_2\"]\n",
    "df_pivot_diff = df_pivot.diff(axis=1)"
   ]
  },
  {
   "cell_type": "code",
   "execution_count": 7,
   "id": "fifth-motion",
   "metadata": {
    "execution": {
     "iopub.execute_input": "2021-09-14T03:30:08.742698Z",
     "iopub.status.busy": "2021-09-14T03:30:08.740304Z",
     "iopub.status.idle": "2021-09-14T03:30:10.221122Z",
     "shell.execute_reply": "2021-09-14T03:30:10.222925Z"
    },
    "papermill": {
     "duration": 1.514132,
     "end_time": "2021-09-14T03:30:10.223465",
     "exception": false,
     "start_time": "2021-09-14T03:30:08.709333",
     "status": "completed"
    },
    "tags": []
   },
   "outputs": [
    {
     "data": {
      "text/plain": [
       "<AxesSubplot:ylabel='PRODUCT'>"
      ]
     },
     "execution_count": 7,
     "metadata": {},
     "output_type": "execute_result"
    },
    {
     "data": {
      "image/png": "[encoded data removed]",
      "text/plain": [
       "<Figure size 432x288 with 1 Axes>"
      ]
     },
     "metadata": {
      "needs_background": "light"
     },
     "output_type": "display_data"
    }
   ],
   "source": [
    "df_pivot_diff.sort_values(\"stamp_2\", ascending = False)[\"stamp_2\"].head(10).plot.barh()"
   ]
  },
  {
   "cell_type": "code",
   "execution_count": null,
   "id": "extra-executive",
   "metadata": {
    "papermill": {
     "duration": 0.022375,
     "end_time": "2021-09-14T03:30:10.271417",
     "exception": false,
     "start_time": "2021-09-14T03:30:10.249042",
     "status": "completed"
    },
    "tags": []
   },
   "outputs": [],
   "source": []
  }
 ],
 "metadata": {
  "kernelspec": {
   "display_name": "Python 3",
   "language": "python",
   "name": "python3"
  },
  "language_info": {
   "codemirror_mode": {
    "name": "ipython",
    "version": 3
   },
   "file_extension": ".py",
   "mimetype": "text/x-python",
   "name": "python",
   "nbconvert_exporter": "python",
   "pygments_lexer": "ipython3",
   "version": "3.9.5"
  },
  "papermill": {
   "default_parameters": {},
   "duration": 6.547065,
   "end_time": "2021-09-14T03:30:10.915332",
   "environment_variables": {},
   "exception": null,
   "input_path": "eBay_Overview.ipynb",
   "output_path": "eBay_Overview.ipynb",
   "parameters": {},
   "start_time": "2021-09-14T03:30:04.368267",
   "version": "2.3.3"
  }
 },
 "nbformat": 4,
 "nbformat_minor": 5
}