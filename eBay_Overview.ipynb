{
 "cells": [
  {
   "cell_type": "code",
   "execution_count": 1,
   "id": "reverse-picking",
   "metadata": {
    "execution": {
     "iopub.execute_input": "2021-12-05T19:30:08.021659Z",
     "iopub.status.busy": "2021-12-05T19:30:08.013158Z",
     "iopub.status.idle": "2021-12-05T19:30:08.976293Z",
     "shell.execute_reply": "2021-12-05T19:30:08.978972Z"
    },
    "papermill": {
     "duration": 1.0104,
     "end_time": "2021-12-05T19:30:08.979693",
     "exception": false,
     "start_time": "2021-12-05T19:30:07.969293",
     "status": "completed"
    },
    "tags": []
   },
   "outputs": [],
   "source": [
    "import pandas as pd\n",
    "import sqlite3"
   ]
  },
  {
   "cell_type": "code",
   "execution_count": 2,
   "id": "innovative-syndrome",
   "metadata": {
    "execution": {
     "iopub.execute_input": "2021-12-05T19:30:09.096942Z",
     "iopub.status.busy": "2021-12-05T19:30:09.094591Z",
     "iopub.status.idle": "2021-12-05T19:30:10.087858Z",
     "shell.execute_reply": "2021-12-05T19:30:10.089270Z"
    },
    "papermill": {
     "duration": 1.028181,
     "end_time": "2021-12-05T19:30:10.089778",
     "exception": false,
     "start_time": "2021-12-05T19:30:09.061597",
     "status": "completed"
    },
    "tags": []
   },
   "outputs": [],
   "source": [
    "timestamps = pd.read_sql(\"select distinct record_time from EBAY_TOP_BERLIN order by record_time desc limit 2\", sqlite3.connect(\"UsedObjects.db\"))"
   ]
  },
  {
   "cell_type": "code",
   "execution_count": 3,
   "id": "periodic-identification",
   "metadata": {
    "execution": {
     "iopub.execute_input": "2021-12-05T19:30:10.160170Z",
     "iopub.status.busy": "2021-12-05T19:30:10.157541Z",
     "iopub.status.idle": "2021-12-05T19:30:10.181476Z",
     "shell.execute_reply": "2021-12-05T19:30:10.179177Z"
    },
    "papermill": {
     "duration": 0.07112,
     "end_time": "2021-12-05T19:30:10.181923",
     "exception": false,
     "start_time": "2021-12-05T19:30:10.110803",
     "status": "completed"
    },
    "tags": []
   },
   "outputs": [
    {
     "data": {
      "text/html": [
       "<div>\n",
       "<style scoped>\n",
       "    .dataframe tbody tr th:only-of-type {\n",
       "        vertical-align: middle;\n",
       "    }\n",
       "\n",
       "    .dataframe tbody tr th {\n",
       "        vertical-align: top;\n",
       "    }\n",
       "\n",
       "    .dataframe thead th {\n",
       "        text-align: right;\n",
       "    }\n",
       "</style>\n",
       "<table border=\"1\" class=\"dataframe\">\n",
       "  <thead>\n",
       "    <tr style=\"text-align: right;\">\n",
       "      <th></th>\n",
       "      <th>RECORD_TIME</th>\n",
       "    </tr>\n",
       "  </thead>\n",
       "  <tbody>\n",
       "    <tr>\n",
       "      <th>0</th>\n",
       "      <td>2021-12-05 20:30</td>\n",
       "    </tr>\n",
       "    <tr>\n",
       "      <th>1</th>\n",
       "      <td>2021-12-05 20:00</td>\n",
       "    </tr>\n",
       "  </tbody>\n",
       "</table>\n",
       "</div>"
      ],
      "text/plain": [
       "        RECORD_TIME\n",
       "0  2021-12-05 20:30\n",
       "1  2021-12-05 20:00"
      ]
     },
     "execution_count": 3,
     "metadata": {},
     "output_type": "execute_result"
    }
   ],
   "source": [
    "timestamps"
   ]
  },
  {
   "cell_type": "code",
   "execution_count": 4,
   "id": "alternate-victory",
   "metadata": {
    "execution": {
     "iopub.execute_input": "2021-12-05T19:30:10.238345Z",
     "iopub.status.busy": "2021-12-05T19:30:10.236253Z",
     "iopub.status.idle": "2021-12-05T19:30:11.684761Z",
     "shell.execute_reply": "2021-12-05T19:30:11.686817Z"
    },
    "papermill": {
     "duration": 1.484029,
     "end_time": "2021-12-05T19:30:11.687290",
     "exception": false,
     "start_time": "2021-12-05T19:30:10.203261",
     "status": "completed"
    },
    "tags": []
   },
   "outputs": [],
   "source": [
    "df = pd.read_sql(\"select * from EBAY_TOP_BERLIN where record_time in (select distinct record_time from EBAY_TOP_BERLIN order by record_time desc limit 2)\", sqlite3.connect(\"UsedObjects.db\"))"
   ]
  },
  {
   "cell_type": "code",
   "execution_count": 5,
   "id": "popular-active",
   "metadata": {
    "execution": {
     "iopub.execute_input": "2021-12-05T19:30:11.760904Z",
     "iopub.status.busy": "2021-12-05T19:30:11.749613Z",
     "iopub.status.idle": "2021-12-05T19:30:11.783987Z",
     "shell.execute_reply": "2021-12-05T19:30:11.785532Z"
    },
    "papermill": {
     "duration": 0.07809,
     "end_time": "2021-12-05T19:30:11.786012",
     "exception": false,
     "start_time": "2021-12-05T19:30:11.707922",
     "status": "completed"
    },
    "tags": []
   },
   "outputs": [],
   "source": [
    "df_pivot = df.pivot_table(index=\"PRODUCT\", columns = \"RECORD_TIME\", values = \"LISTING_COUNT\")"
   ]
  },
  {
   "cell_type": "code",
   "execution_count": 6,
   "id": "union-huntington",
   "metadata": {
    "execution": {
     "iopub.execute_input": "2021-12-05T19:30:11.844405Z",
     "iopub.status.busy": "2021-12-05T19:30:11.842165Z",
     "iopub.status.idle": "2021-12-05T19:30:11.849689Z",
     "shell.execute_reply": "2021-12-05T19:30:11.848092Z"
    },
    "papermill": {
     "duration": 0.044008,
     "end_time": "2021-12-05T19:30:11.850113",
     "exception": false,
     "start_time": "2021-12-05T19:30:11.806105",
     "status": "completed"
    },
    "tags": []
   },
   "outputs": [],
   "source": [
    "df_pivot.columns = [\"stamp_1\", \"stamp_2\"]\n",
    "df_pivot_diff = df_pivot.diff(axis=1)"
   ]
  },
  {
   "cell_type": "code",
   "execution_count": 7,
   "id": "fifth-motion",
   "metadata": {
    "execution": {
     "iopub.execute_input": "2021-12-05T19:30:11.910879Z",
     "iopub.status.busy": "2021-12-05T19:30:11.908337Z",
     "iopub.status.idle": "2021-12-05T19:30:13.909305Z",
     "shell.execute_reply": "2021-12-05T19:30:13.910606Z"
    },
    "papermill": {
     "duration": 2.040346,
     "end_time": "2021-12-05T19:30:13.911066",
     "exception": false,
     "start_time": "2021-12-05T19:30:11.870720",
     "status": "completed"
    },
    "tags": []
   },
   "outputs": [
    {
     "data": {
      "text/plain": [
       "<AxesSubplot:ylabel='PRODUCT'>"
      ]
     },
     "execution_count": 7,
     "metadata": {},
     "output_type": "execute_result"
    },
    {
     "data": {
      "image/png": "[encoded data removed]",
      "text/plain": [
       "<Figure size 432x288 with 1 Axes>"
      ]
     },
     "metadata": {
      "needs_background": "light"
     },
     "output_type": "display_data"
    }
   ],
   "source": [
    "df_pivot_diff.sort_values(\"stamp_2\", ascending = False)[\"stamp_2\"].head(10).plot.barh()"
   ]
  },
  {
   "cell_type": "code",
   "execution_count": null,
   "id": "extra-executive",
   "metadata": {
    "papermill": {
     "duration": 0.022382,
     "end_time": "2021-12-05T19:30:13.958234",
     "exception": false,
     "start_time": "2021-12-05T19:30:13.935852",
     "status": "completed"
    },
    "tags": []
   },
   "outputs": [],
   "source": []
  }
 ],
 "metadata": {
  "kernelspec": {
   "display_name": "Python 3",
   "language": "python",
   "name": "python3"
  },
  "language_info": {
   "codemirror_mode": {
    "name": "ipython",
    "version": 3
   },
   "file_extension": ".py",
   "mimetype": "text/x-python",
   "name": "python",
   "nbconvert_exporter": "python",
   "pygments_lexer": "ipython3",
   "version": "3.9.5"
  },
  "papermill": {
   "default_parameters": {},
   "duration": 9.942987,
   "end_time": "2021-12-05T19:30:15.165952",
   "environment_variables": {},
   "exception": null,
   "input_path": "eBay_Overview.ipynb",
   "output_path": "eBay_Overview.ipynb",
   "parameters": {},
   "start_time": "2021-12-05T19:30:05.222965",
   "version": "2.3.3"
  }
 },
 "nbformat": 4,
 "nbformat_minor": 5
}