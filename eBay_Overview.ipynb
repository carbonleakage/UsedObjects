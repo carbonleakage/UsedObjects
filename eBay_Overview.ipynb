{
 "cells": [
  {
   "cell_type": "code",
   "execution_count": 1,
   "id": "reverse-picking",
   "metadata": {
    "execution": {
     "iopub.execute_input": "2021-08-17T09:00:06.551456Z",
     "iopub.status.busy": "2021-08-17T09:00:06.549392Z",
     "iopub.status.idle": "2021-08-17T09:00:07.360883Z",
     "shell.execute_reply": "2021-08-17T09:00:07.362235Z"
    },
    "papermill": {
     "duration": 0.86168,
     "end_time": "2021-08-17T09:00:07.362916",
     "exception": false,
     "start_time": "2021-08-17T09:00:06.501236",
     "status": "completed"
    },
    "tags": []
   },
   "outputs": [],
   "source": [
    "import pandas as pd\n",
    "import sqlite3"
   ]
  },
  {
   "cell_type": "code",
   "execution_count": 2,
   "id": "innovative-syndrome",
   "metadata": {
    "execution": {
     "iopub.execute_input": "2021-08-17T09:00:07.414151Z",
     "iopub.status.busy": "2021-08-17T09:00:07.412099Z",
     "iopub.status.idle": "2021-08-17T09:00:07.478370Z",
     "shell.execute_reply": "2021-08-17T09:00:07.479777Z"
    },
    "papermill": {
     "duration": 0.096787,
     "end_time": "2021-08-17T09:00:07.480226",
     "exception": false,
     "start_time": "2021-08-17T09:00:07.383439",
     "status": "completed"
    },
    "tags": []
   },
   "outputs": [],
   "source": [
    "timestamps = pd.read_sql(\"select distinct record_time from EBAY_TOP_BERLIN order by record_time desc limit 2\", sqlite3.connect(\"UsedObjects.db\"))"
   ]
  },
  {
   "cell_type": "code",
   "execution_count": 3,
   "id": "periodic-identification",
   "metadata": {
    "execution": {
     "iopub.execute_input": "2021-08-17T09:00:07.547754Z",
     "iopub.status.busy": "2021-08-17T09:00:07.545640Z",
     "iopub.status.idle": "2021-08-17T09:00:07.565884Z",
     "shell.execute_reply": "2021-08-17T09:00:07.567150Z"
    },
    "papermill": {
     "duration": 0.067181,
     "end_time": "2021-08-17T09:00:07.567587",
     "exception": false,
     "start_time": "2021-08-17T09:00:07.500406",
     "status": "completed"
    },
    "tags": []
   },
   "outputs": [
    {
     "data": {
      "text/html": [
       "<div>\n",
       "<style scoped>\n",
       "    .dataframe tbody tr th:only-of-type {\n",
       "        vertical-align: middle;\n",
       "    }\n",
       "\n",
       "    .dataframe tbody tr th {\n",
       "        vertical-align: top;\n",
       "    }\n",
       "\n",
       "    .dataframe thead th {\n",
       "        text-align: right;\n",
       "    }\n",
       "</style>\n",
       "<table border=\"1\" class=\"dataframe\">\n",
       "  <thead>\n",
       "    <tr style=\"text-align: right;\">\n",
       "      <th></th>\n",
       "      <th>RECORD_TIME</th>\n",
       "    </tr>\n",
       "  </thead>\n",
       "  <tbody>\n",
       "    <tr>\n",
       "      <th>0</th>\n",
       "      <td>2021-08-17 11:00</td>\n",
       "    </tr>\n",
       "    <tr>\n",
       "      <th>1</th>\n",
       "      <td>2021-08-17 10:30</td>\n",
       "    </tr>\n",
       "  </tbody>\n",
       "</table>\n",
       "</div>"
      ],
      "text/plain": [
       "        RECORD_TIME\n",
       "0  2021-08-17 11:00\n",
       "1  2021-08-17 10:30"
      ]
     },
     "execution_count": 3,
     "metadata": {},
     "output_type": "execute_result"
    }
   ],
   "source": [
    "timestamps"
   ]
  },
  {
   "cell_type": "code",
   "execution_count": 4,
   "id": "alternate-victory",
   "metadata": {
    "execution": {
     "iopub.execute_input": "2021-08-17T09:00:07.622424Z",
     "iopub.status.busy": "2021-08-17T09:00:07.620025Z",
     "iopub.status.idle": "2021-08-17T09:00:07.721662Z",
     "shell.execute_reply": "2021-08-17T09:00:07.722941Z"
    },
    "papermill": {
     "duration": 0.132527,
     "end_time": "2021-08-17T09:00:07.723348",
     "exception": false,
     "start_time": "2021-08-17T09:00:07.590821",
     "status": "completed"
    },
    "tags": []
   },
   "outputs": [],
   "source": [
    "df = pd.read_sql(\"select * from EBAY_TOP_BERLIN where record_time in (select distinct record_time from EBAY_TOP_BERLIN order by record_time desc limit 2)\", sqlite3.connect(\"UsedObjects.db\"))"
   ]
  },
  {
   "cell_type": "code",
   "execution_count": 5,
   "id": "popular-active",
   "metadata": {
    "execution": {
     "iopub.execute_input": "2021-08-17T09:00:07.798288Z",
     "iopub.status.busy": "2021-08-17T09:00:07.786917Z",
     "iopub.status.idle": "2021-08-17T09:00:07.814588Z",
     "shell.execute_reply": "2021-08-17T09:00:07.815966Z"
    },
    "papermill": {
     "duration": 0.069963,
     "end_time": "2021-08-17T09:00:07.816403",
     "exception": false,
     "start_time": "2021-08-17T09:00:07.746440",
     "status": "completed"
    },
    "tags": []
   },
   "outputs": [],
   "source": [
    "df_pivot = df.pivot_table(index=\"PRODUCT\", columns = \"RECORD_TIME\", values = \"LISTING_COUNT\")"
   ]
  },
  {
   "cell_type": "code",
   "execution_count": 6,
   "id": "union-huntington",
   "metadata": {
    "execution": {
     "iopub.execute_input": "2021-08-17T09:00:07.875786Z",
     "iopub.status.busy": "2021-08-17T09:00:07.873273Z",
     "iopub.status.idle": "2021-08-17T09:00:07.879260Z",
     "shell.execute_reply": "2021-08-17T09:00:07.880450Z"
    },
    "papermill": {
     "duration": 0.042413,
     "end_time": "2021-08-17T09:00:07.880878",
     "exception": false,
     "start_time": "2021-08-17T09:00:07.838465",
     "status": "completed"
    },
    "tags": []
   },
   "outputs": [],
   "source": [
    "df_pivot.columns = [\"stamp_1\", \"stamp_2\"]\n",
    "df_pivot_diff = df_pivot.diff(axis=1)"
   ]
  },
  {
   "cell_type": "code",
   "execution_count": 7,
   "id": "fifth-motion",
   "metadata": {
    "execution": {
     "iopub.execute_input": "2021-08-17T09:00:07.936582Z",
     "iopub.status.busy": "2021-08-17T09:00:07.934186Z",
     "iopub.status.idle": "2021-08-17T09:00:09.397709Z",
     "shell.execute_reply": "2021-08-17T09:00:09.399227Z"
    },
    "papermill": {
     "duration": 1.497852,
     "end_time": "2021-08-17T09:00:09.399680",
     "exception": false,
     "start_time": "2021-08-17T09:00:07.901828",
     "status": "completed"
    },
    "tags": []
   },
   "outputs": [
    {
     "data": {
      "text/plain": [
       "<AxesSubplot:ylabel='PRODUCT'>"
      ]
     },
     "execution_count": 7,
     "metadata": {},
     "output_type": "execute_result"
    },
    {
     "data": {
      "image/png": "[encoded data removed]",
      "text/plain": [
       "<Figure size 432x288 with 1 Axes>"
      ]
     },
     "metadata": {
      "needs_background": "light"
     },
     "output_type": "display_data"
    }
   ],
   "source": [
    "df_pivot_diff.sort_values(\"stamp_2\", ascending = False)[\"stamp_2\"].head(10).plot.barh()"
   ]
  },
  {
   "cell_type": "code",
   "execution_count": null,
   "id": "extra-executive",
   "metadata": {
    "papermill": {
     "duration": 0.022572,
     "end_time": "2021-08-17T09:00:09.447300",
     "exception": false,
     "start_time": "2021-08-17T09:00:09.424728",
     "status": "completed"
    },
    "tags": []
   },
   "outputs": [],
   "source": []
  }
 ],
 "metadata": {
  "kernelspec": {
   "display_name": "Python 3",
   "language": "python",
   "name": "python3"
  },
  "language_info": {
   "codemirror_mode": {
    "name": "ipython",
    "version": 3
   },
   "file_extension": ".py",
   "mimetype": "text/x-python",
   "name": "python",
   "nbconvert_exporter": "python",
   "pygments_lexer": "ipython3",
   "version": "3.9.5"
  },
  "papermill": {
   "default_parameters": {},
   "duration": 6.841089,
   "end_time": "2021-08-17T09:00:10.920651",
   "environment_variables": {},
   "exception": null,
   "input_path": "eBay_Overview.ipynb",
   "output_path": "eBay_Overview.ipynb",
   "parameters": {},
   "start_time": "2021-08-17T09:00:04.079562",
   "version": "2.3.3"
  }
 },
 "nbformat": 4,
 "nbformat_minor": 5
}