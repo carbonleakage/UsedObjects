{
 "cells": [
  {
   "cell_type": "code",
   "execution_count": 1,
   "id": "reverse-picking",
   "metadata": {
    "execution": {
     "iopub.execute_input": "2021-08-26T08:30:07.372842Z",
     "iopub.status.busy": "2021-08-26T08:30:07.370864Z",
     "iopub.status.idle": "2021-08-26T08:30:08.169652Z",
     "shell.execute_reply": "2021-08-26T08:30:08.170901Z"
    },
    "papermill": {
     "duration": 0.849987,
     "end_time": "2021-08-26T08:30:08.171509",
     "exception": false,
     "start_time": "2021-08-26T08:30:07.321522",
     "status": "completed"
    },
    "tags": []
   },
   "outputs": [],
   "source": [
    "import pandas as pd\n",
    "import sqlite3"
   ]
  },
  {
   "cell_type": "code",
   "execution_count": 2,
   "id": "innovative-syndrome",
   "metadata": {
    "execution": {
     "iopub.execute_input": "2021-08-26T08:30:08.224500Z",
     "iopub.status.busy": "2021-08-26T08:30:08.222162Z",
     "iopub.status.idle": "2021-08-26T08:30:08.357492Z",
     "shell.execute_reply": "2021-08-26T08:30:08.358721Z"
    },
    "papermill": {
     "duration": 0.165387,
     "end_time": "2021-08-26T08:30:08.359108",
     "exception": false,
     "start_time": "2021-08-26T08:30:08.193721",
     "status": "completed"
    },
    "tags": []
   },
   "outputs": [],
   "source": [
    "timestamps = pd.read_sql(\"select distinct record_time from EBAY_TOP_BERLIN order by record_time desc limit 2\", sqlite3.connect(\"UsedObjects.db\"))"
   ]
  },
  {
   "cell_type": "code",
   "execution_count": 3,
   "id": "periodic-identification",
   "metadata": {
    "execution": {
     "iopub.execute_input": "2021-08-26T08:30:08.425978Z",
     "iopub.status.busy": "2021-08-26T08:30:08.420966Z",
     "iopub.status.idle": "2021-08-26T08:30:08.443582Z",
     "shell.execute_reply": "2021-08-26T08:30:08.442006Z"
    },
    "papermill": {
     "duration": 0.06559,
     "end_time": "2021-08-26T08:30:08.443962",
     "exception": false,
     "start_time": "2021-08-26T08:30:08.378372",
     "status": "completed"
    },
    "tags": []
   },
   "outputs": [
    {
     "data": {
      "text/html": [
       "<div>\n",
       "<style scoped>\n",
       "    .dataframe tbody tr th:only-of-type {\n",
       "        vertical-align: middle;\n",
       "    }\n",
       "\n",
       "    .dataframe tbody tr th {\n",
       "        vertical-align: top;\n",
       "    }\n",
       "\n",
       "    .dataframe thead th {\n",
       "        text-align: right;\n",
       "    }\n",
       "</style>\n",
       "<table border=\"1\" class=\"dataframe\">\n",
       "  <thead>\n",
       "    <tr style=\"text-align: right;\">\n",
       "      <th></th>\n",
       "      <th>RECORD_TIME</th>\n",
       "    </tr>\n",
       "  </thead>\n",
       "  <tbody>\n",
       "    <tr>\n",
       "      <th>0</th>\n",
       "      <td>2021-08-26 10:30</td>\n",
       "    </tr>\n",
       "    <tr>\n",
       "      <th>1</th>\n",
       "      <td>2021-08-26 10:00</td>\n",
       "    </tr>\n",
       "  </tbody>\n",
       "</table>\n",
       "</div>"
      ],
      "text/plain": [
       "        RECORD_TIME\n",
       "0  2021-08-26 10:30\n",
       "1  2021-08-26 10:00"
      ]
     },
     "execution_count": 3,
     "metadata": {},
     "output_type": "execute_result"
    }
   ],
   "source": [
    "timestamps"
   ]
  },
  {
   "cell_type": "code",
   "execution_count": 4,
   "id": "alternate-victory",
   "metadata": {
    "execution": {
     "iopub.execute_input": "2021-08-26T08:30:08.496927Z",
     "iopub.status.busy": "2021-08-26T08:30:08.494576Z",
     "iopub.status.idle": "2021-08-26T08:30:08.703376Z",
     "shell.execute_reply": "2021-08-26T08:30:08.704640Z"
    },
    "papermill": {
     "duration": 0.239162,
     "end_time": "2021-08-26T08:30:08.705036",
     "exception": false,
     "start_time": "2021-08-26T08:30:08.465874",
     "status": "completed"
    },
    "tags": []
   },
   "outputs": [],
   "source": [
    "df = pd.read_sql(\"select * from EBAY_TOP_BERLIN where record_time in (select distinct record_time from EBAY_TOP_BERLIN order by record_time desc limit 2)\", sqlite3.connect(\"UsedObjects.db\"))"
   ]
  },
  {
   "cell_type": "code",
   "execution_count": 5,
   "id": "popular-active",
   "metadata": {
    "execution": {
     "iopub.execute_input": "2021-08-26T08:30:08.777164Z",
     "iopub.status.busy": "2021-08-26T08:30:08.764287Z",
     "iopub.status.idle": "2021-08-26T08:30:08.792736Z",
     "shell.execute_reply": "2021-08-26T08:30:08.793939Z"
    },
    "papermill": {
     "duration": 0.06899,
     "end_time": "2021-08-26T08:30:08.794331",
     "exception": false,
     "start_time": "2021-08-26T08:30:08.725341",
     "status": "completed"
    },
    "tags": []
   },
   "outputs": [],
   "source": [
    "df_pivot = df.pivot_table(index=\"PRODUCT\", columns = \"RECORD_TIME\", values = \"LISTING_COUNT\")"
   ]
  },
  {
   "cell_type": "code",
   "execution_count": 6,
   "id": "union-huntington",
   "metadata": {
    "execution": {
     "iopub.execute_input": "2021-08-26T08:30:08.861244Z",
     "iopub.status.busy": "2021-08-26T08:30:08.859042Z",
     "iopub.status.idle": "2021-08-26T08:30:08.864772Z",
     "shell.execute_reply": "2021-08-26T08:30:08.866170Z"
    },
    "papermill": {
     "duration": 0.0444,
     "end_time": "2021-08-26T08:30:08.866604",
     "exception": false,
     "start_time": "2021-08-26T08:30:08.822204",
     "status": "completed"
    },
    "tags": []
   },
   "outputs": [],
   "source": [
    "df_pivot.columns = [\"stamp_1\", \"stamp_2\"]\n",
    "df_pivot_diff = df_pivot.diff(axis=1)"
   ]
  },
  {
   "cell_type": "code",
   "execution_count": 7,
   "id": "fifth-motion",
   "metadata": {
    "execution": {
     "iopub.execute_input": "2021-08-26T08:30:08.922212Z",
     "iopub.status.busy": "2021-08-26T08:30:08.919524Z",
     "iopub.status.idle": "2021-08-26T08:30:10.411432Z",
     "shell.execute_reply": "2021-08-26T08:30:10.412930Z"
    },
    "papermill": {
     "duration": 1.526049,
     "end_time": "2021-08-26T08:30:10.413409",
     "exception": false,
     "start_time": "2021-08-26T08:30:08.887360",
     "status": "completed"
    },
    "tags": []
   },
   "outputs": [
    {
     "data": {
      "text/plain": [
       "<AxesSubplot:ylabel='PRODUCT'>"
      ]
     },
     "execution_count": 7,
     "metadata": {},
     "output_type": "execute_result"
    },
    {
     "data": {
      "image/png": "[encoded data removed]",
      "text/plain": [
       "<Figure size 432x288 with 1 Axes>"
      ]
     },
     "metadata": {
      "needs_background": "light"
     },
     "output_type": "display_data"
    }
   ],
   "source": [
    "df_pivot_diff.sort_values(\"stamp_2\", ascending = False)[\"stamp_2\"].head(10).plot.barh()"
   ]
  },
  {
   "cell_type": "code",
   "execution_count": null,
   "id": "extra-executive",
   "metadata": {
    "papermill": {
     "duration": 0.022067,
     "end_time": "2021-08-26T08:30:10.460102",
     "exception": false,
     "start_time": "2021-08-26T08:30:10.438035",
     "status": "completed"
    },
    "tags": []
   },
   "outputs": [],
   "source": []
  }
 ],
 "metadata": {
  "kernelspec": {
   "display_name": "Python 3",
   "language": "python",
   "name": "python3"
  },
  "language_info": {
   "codemirror_mode": {
    "name": "ipython",
    "version": 3
   },
   "file_extension": ".py",
   "mimetype": "text/x-python",
   "name": "python",
   "nbconvert_exporter": "python",
   "pygments_lexer": "ipython3",
   "version": "3.9.5"
  },
  "papermill": {
   "default_parameters": {},
   "duration": 6.826369,
   "end_time": "2021-08-26T08:30:11.746857",
   "environment_variables": {},
   "exception": null,
   "input_path": "eBay_Overview.ipynb",
   "output_path": "eBay_Overview.ipynb",
   "parameters": {},
   "start_time": "2021-08-26T08:30:04.920488",
   "version": "2.3.3"
  }
 },
 "nbformat": 4,
 "nbformat_minor": 5
}