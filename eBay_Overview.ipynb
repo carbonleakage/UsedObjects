{
 "cells": [
  {
   "cell_type": "code",
   "execution_count": 1,
   "id": "reverse-picking",
   "metadata": {
    "execution": {
     "iopub.execute_input": "2021-08-18T14:00:07.143071Z",
     "iopub.status.busy": "2021-08-18T14:00:07.141101Z",
     "iopub.status.idle": "2021-08-18T14:00:07.946845Z",
     "shell.execute_reply": "2021-08-18T14:00:07.948103Z"
    },
    "papermill": {
     "duration": 0.856032,
     "end_time": "2021-08-18T14:00:07.948714",
     "exception": false,
     "start_time": "2021-08-18T14:00:07.092682",
     "status": "completed"
    },
    "tags": []
   },
   "outputs": [],
   "source": [
    "import pandas as pd\n",
    "import sqlite3"
   ]
  },
  {
   "cell_type": "code",
   "execution_count": 2,
   "id": "innovative-syndrome",
   "metadata": {
    "execution": {
     "iopub.execute_input": "2021-08-18T14:00:08.000143Z",
     "iopub.status.busy": "2021-08-18T14:00:07.997901Z",
     "iopub.status.idle": "2021-08-18T14:00:08.074665Z",
     "shell.execute_reply": "2021-08-18T14:00:08.075965Z"
    },
    "papermill": {
     "duration": 0.106175,
     "end_time": "2021-08-18T14:00:08.076364",
     "exception": false,
     "start_time": "2021-08-18T14:00:07.970189",
     "status": "completed"
    },
    "tags": []
   },
   "outputs": [],
   "source": [
    "timestamps = pd.read_sql(\"select distinct record_time from EBAY_TOP_BERLIN order by record_time desc limit 2\", sqlite3.connect(\"UsedObjects.db\"))"
   ]
  },
  {
   "cell_type": "code",
   "execution_count": 3,
   "id": "periodic-identification",
   "metadata": {
    "execution": {
     "iopub.execute_input": "2021-08-18T14:00:08.141095Z",
     "iopub.status.busy": "2021-08-18T14:00:08.139047Z",
     "iopub.status.idle": "2021-08-18T14:00:08.159342Z",
     "shell.execute_reply": "2021-08-18T14:00:08.160625Z"
    },
    "papermill": {
     "duration": 0.065637,
     "end_time": "2021-08-18T14:00:08.161032",
     "exception": false,
     "start_time": "2021-08-18T14:00:08.095395",
     "status": "completed"
    },
    "tags": []
   },
   "outputs": [
    {
     "data": {
      "text/html": [
       "<div>\n",
       "<style scoped>\n",
       "    .dataframe tbody tr th:only-of-type {\n",
       "        vertical-align: middle;\n",
       "    }\n",
       "\n",
       "    .dataframe tbody tr th {\n",
       "        vertical-align: top;\n",
       "    }\n",
       "\n",
       "    .dataframe thead th {\n",
       "        text-align: right;\n",
       "    }\n",
       "</style>\n",
       "<table border=\"1\" class=\"dataframe\">\n",
       "  <thead>\n",
       "    <tr style=\"text-align: right;\">\n",
       "      <th></th>\n",
       "      <th>RECORD_TIME</th>\n",
       "    </tr>\n",
       "  </thead>\n",
       "  <tbody>\n",
       "    <tr>\n",
       "      <th>0</th>\n",
       "      <td>2021-08-18 16:00</td>\n",
       "    </tr>\n",
       "    <tr>\n",
       "      <th>1</th>\n",
       "      <td>2021-08-18 15:30</td>\n",
       "    </tr>\n",
       "  </tbody>\n",
       "</table>\n",
       "</div>"
      ],
      "text/plain": [
       "        RECORD_TIME\n",
       "0  2021-08-18 16:00\n",
       "1  2021-08-18 15:30"
      ]
     },
     "execution_count": 3,
     "metadata": {},
     "output_type": "execute_result"
    }
   ],
   "source": [
    "timestamps"
   ]
  },
  {
   "cell_type": "code",
   "execution_count": 4,
   "id": "alternate-victory",
   "metadata": {
    "execution": {
     "iopub.execute_input": "2021-08-18T14:00:08.213523Z",
     "iopub.status.busy": "2021-08-18T14:00:08.211231Z",
     "iopub.status.idle": "2021-08-18T14:00:08.324018Z",
     "shell.execute_reply": "2021-08-18T14:00:08.325226Z"
    },
    "papermill": {
     "duration": 0.142973,
     "end_time": "2021-08-18T14:00:08.325618",
     "exception": false,
     "start_time": "2021-08-18T14:00:08.182645",
     "status": "completed"
    },
    "tags": []
   },
   "outputs": [],
   "source": [
    "df = pd.read_sql(\"select * from EBAY_TOP_BERLIN where record_time in (select distinct record_time from EBAY_TOP_BERLIN order by record_time desc limit 2)\", sqlite3.connect(\"UsedObjects.db\"))"
   ]
  },
  {
   "cell_type": "code",
   "execution_count": 5,
   "id": "popular-active",
   "metadata": {
    "execution": {
     "iopub.execute_input": "2021-08-18T14:00:08.386073Z",
     "iopub.status.busy": "2021-08-18T14:00:08.383767Z",
     "iopub.status.idle": "2021-08-18T14:00:08.410987Z",
     "shell.execute_reply": "2021-08-18T14:00:08.412183Z"
    },
    "papermill": {
     "duration": 0.066962,
     "end_time": "2021-08-18T14:00:08.412575",
     "exception": false,
     "start_time": "2021-08-18T14:00:08.345613",
     "status": "completed"
    },
    "tags": []
   },
   "outputs": [],
   "source": [
    "df_pivot = df.pivot_table(index=\"PRODUCT\", columns = \"RECORD_TIME\", values = \"LISTING_COUNT\")"
   ]
  },
  {
   "cell_type": "code",
   "execution_count": 6,
   "id": "union-huntington",
   "metadata": {
    "execution": {
     "iopub.execute_input": "2021-08-18T14:00:08.469444Z",
     "iopub.status.busy": "2021-08-18T14:00:08.467293Z",
     "iopub.status.idle": "2021-08-18T14:00:08.472755Z",
     "shell.execute_reply": "2021-08-18T14:00:08.474291Z"
    },
    "papermill": {
     "duration": 0.041002,
     "end_time": "2021-08-18T14:00:08.474747",
     "exception": false,
     "start_time": "2021-08-18T14:00:08.433745",
     "status": "completed"
    },
    "tags": []
   },
   "outputs": [],
   "source": [
    "df_pivot.columns = [\"stamp_1\", \"stamp_2\"]\n",
    "df_pivot_diff = df_pivot.diff(axis=1)"
   ]
  },
  {
   "cell_type": "code",
   "execution_count": 7,
   "id": "fifth-motion",
   "metadata": {
    "execution": {
     "iopub.execute_input": "2021-08-18T14:00:08.531166Z",
     "iopub.status.busy": "2021-08-18T14:00:08.528705Z",
     "iopub.status.idle": "2021-08-18T14:00:10.025492Z",
     "shell.execute_reply": "2021-08-18T14:00:10.027066Z"
    },
    "papermill": {
     "duration": 1.53122,
     "end_time": "2021-08-18T14:00:10.027542",
     "exception": false,
     "start_time": "2021-08-18T14:00:08.496322",
     "status": "completed"
    },
    "tags": []
   },
   "outputs": [
    {
     "data": {
      "text/plain": [
       "<AxesSubplot:ylabel='PRODUCT'>"
      ]
     },
     "execution_count": 7,
     "metadata": {},
     "output_type": "execute_result"
    },
    {
     "data": {
      "image/png": "[encoded data removed]",
      "text/plain": [
       "<Figure size 432x288 with 1 Axes>"
      ]
     },
     "metadata": {
      "needs_background": "light"
     },
     "output_type": "display_data"
    }
   ],
   "source": [
    "df_pivot_diff.sort_values(\"stamp_2\", ascending = False)[\"stamp_2\"].head(10).plot.barh()"
   ]
  },
  {
   "cell_type": "code",
   "execution_count": null,
   "id": "extra-executive",
   "metadata": {
    "papermill": {
     "duration": 0.021755,
     "end_time": "2021-08-18T14:00:10.072690",
     "exception": false,
     "start_time": "2021-08-18T14:00:10.050935",
     "status": "completed"
    },
    "tags": []
   },
   "outputs": [],
   "source": []
  }
 ],
 "metadata": {
  "kernelspec": {
   "display_name": "Python 3",
   "language": "python",
   "name": "python3"
  },
  "language_info": {
   "codemirror_mode": {
    "name": "ipython",
    "version": 3
   },
   "file_extension": ".py",
   "mimetype": "text/x-python",
   "name": "python",
   "nbconvert_exporter": "python",
   "pygments_lexer": "ipython3",
   "version": "3.9.5"
  },
  "papermill": {
   "default_parameters": {},
   "duration": 6.832783,
   "end_time": "2021-08-18T14:00:11.517893",
   "environment_variables": {},
   "exception": null,
   "input_path": "eBay_Overview.ipynb",
   "output_path": "eBay_Overview.ipynb",
   "parameters": {},
   "start_time": "2021-08-18T14:00:04.685110",
   "version": "2.3.3"
  }
 },
 "nbformat": 4,
 "nbformat_minor": 5
}