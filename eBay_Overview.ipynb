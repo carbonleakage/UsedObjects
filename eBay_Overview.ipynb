{
 "cells": [
  {
   "cell_type": "code",
   "execution_count": 1,
   "id": "reverse-picking",
   "metadata": {
    "execution": {
     "iopub.execute_input": "2021-09-29T13:00:07.360425Z",
     "iopub.status.busy": "2021-09-29T13:00:07.358444Z",
     "iopub.status.idle": "2021-09-29T13:00:08.164336Z",
     "shell.execute_reply": "2021-09-29T13:00:08.165563Z"
    },
    "papermill": {
     "duration": 0.858445,
     "end_time": "2021-09-29T13:00:08.166181",
     "exception": false,
     "start_time": "2021-09-29T13:00:07.307736",
     "status": "completed"
    },
    "tags": []
   },
   "outputs": [],
   "source": [
    "import pandas as pd\n",
    "import sqlite3"
   ]
  },
  {
   "cell_type": "code",
   "execution_count": 2,
   "id": "innovative-syndrome",
   "metadata": {
    "execution": {
     "iopub.execute_input": "2021-09-29T13:00:08.217906Z",
     "iopub.status.busy": "2021-09-29T13:00:08.216053Z",
     "iopub.status.idle": "2021-09-29T13:00:08.616840Z",
     "shell.execute_reply": "2021-09-29T13:00:08.618087Z"
    },
    "papermill": {
     "duration": 0.430524,
     "end_time": "2021-09-29T13:00:08.618501",
     "exception": false,
     "start_time": "2021-09-29T13:00:08.187977",
     "status": "completed"
    },
    "tags": []
   },
   "outputs": [],
   "source": [
    "timestamps = pd.read_sql(\"select distinct record_time from EBAY_TOP_BERLIN order by record_time desc limit 2\", sqlite3.connect(\"UsedObjects.db\"))"
   ]
  },
  {
   "cell_type": "code",
   "execution_count": 3,
   "id": "periodic-identification",
   "metadata": {
    "execution": {
     "iopub.execute_input": "2021-09-29T13:00:08.685551Z",
     "iopub.status.busy": "2021-09-29T13:00:08.683576Z",
     "iopub.status.idle": "2021-09-29T13:00:08.703363Z",
     "shell.execute_reply": "2021-09-29T13:00:08.704726Z"
    },
    "papermill": {
     "duration": 0.066962,
     "end_time": "2021-09-29T13:00:08.705145",
     "exception": false,
     "start_time": "2021-09-29T13:00:08.638183",
     "status": "completed"
    },
    "tags": []
   },
   "outputs": [
    {
     "data": {
      "text/html": [
       "<div>\n",
       "<style scoped>\n",
       "    .dataframe tbody tr th:only-of-type {\n",
       "        vertical-align: middle;\n",
       "    }\n",
       "\n",
       "    .dataframe tbody tr th {\n",
       "        vertical-align: top;\n",
       "    }\n",
       "\n",
       "    .dataframe thead th {\n",
       "        text-align: right;\n",
       "    }\n",
       "</style>\n",
       "<table border=\"1\" class=\"dataframe\">\n",
       "  <thead>\n",
       "    <tr style=\"text-align: right;\">\n",
       "      <th></th>\n",
       "      <th>RECORD_TIME</th>\n",
       "    </tr>\n",
       "  </thead>\n",
       "  <tbody>\n",
       "    <tr>\n",
       "      <th>0</th>\n",
       "      <td>2021-09-29 15:00</td>\n",
       "    </tr>\n",
       "    <tr>\n",
       "      <th>1</th>\n",
       "      <td>2021-09-29 14:30</td>\n",
       "    </tr>\n",
       "  </tbody>\n",
       "</table>\n",
       "</div>"
      ],
      "text/plain": [
       "        RECORD_TIME\n",
       "0  2021-09-29 15:00\n",
       "1  2021-09-29 14:30"
      ]
     },
     "execution_count": 3,
     "metadata": {},
     "output_type": "execute_result"
    }
   ],
   "source": [
    "timestamps"
   ]
  },
  {
   "cell_type": "code",
   "execution_count": 4,
   "id": "alternate-victory",
   "metadata": {
    "execution": {
     "iopub.execute_input": "2021-09-29T13:00:08.758483Z",
     "iopub.status.busy": "2021-09-29T13:00:08.756245Z",
     "iopub.status.idle": "2021-09-29T13:00:09.358341Z",
     "shell.execute_reply": "2021-09-29T13:00:09.359670Z"
    },
    "papermill": {
     "duration": 0.63292,
     "end_time": "2021-09-29T13:00:09.360087",
     "exception": false,
     "start_time": "2021-09-29T13:00:08.727167",
     "status": "completed"
    },
    "tags": []
   },
   "outputs": [],
   "source": [
    "df = pd.read_sql(\"select * from EBAY_TOP_BERLIN where record_time in (select distinct record_time from EBAY_TOP_BERLIN order by record_time desc limit 2)\", sqlite3.connect(\"UsedObjects.db\"))"
   ]
  },
  {
   "cell_type": "code",
   "execution_count": 5,
   "id": "popular-active",
   "metadata": {
    "execution": {
     "iopub.execute_input": "2021-09-29T13:00:09.440189Z",
     "iopub.status.busy": "2021-09-29T13:00:09.428369Z",
     "iopub.status.idle": "2021-09-29T13:00:09.457213Z",
     "shell.execute_reply": "2021-09-29T13:00:09.458672Z"
    },
    "papermill": {
     "duration": 0.073653,
     "end_time": "2021-09-29T13:00:09.459348",
     "exception": false,
     "start_time": "2021-09-29T13:00:09.385695",
     "status": "completed"
    },
    "tags": []
   },
   "outputs": [],
   "source": [
    "df_pivot = df.pivot_table(index=\"PRODUCT\", columns = \"RECORD_TIME\", values = \"LISTING_COUNT\")"
   ]
  },
  {
   "cell_type": "code",
   "execution_count": 6,
   "id": "union-huntington",
   "metadata": {
    "execution": {
     "iopub.execute_input": "2021-09-29T13:00:09.518572Z",
     "iopub.status.busy": "2021-09-29T13:00:09.516312Z",
     "iopub.status.idle": "2021-09-29T13:00:09.521985Z",
     "shell.execute_reply": "2021-09-29T13:00:09.523311Z"
    },
    "papermill": {
     "duration": 0.041902,
     "end_time": "2021-09-29T13:00:09.523735",
     "exception": false,
     "start_time": "2021-09-29T13:00:09.481833",
     "status": "completed"
    },
    "tags": []
   },
   "outputs": [],
   "source": [
    "df_pivot.columns = [\"stamp_1\", \"stamp_2\"]\n",
    "df_pivot_diff = df_pivot.diff(axis=1)"
   ]
  },
  {
   "cell_type": "code",
   "execution_count": 7,
   "id": "fifth-motion",
   "metadata": {
    "execution": {
     "iopub.execute_input": "2021-09-29T13:00:09.577929Z",
     "iopub.status.busy": "2021-09-29T13:00:09.575687Z",
     "iopub.status.idle": "2021-09-29T13:00:11.098086Z",
     "shell.execute_reply": "2021-09-29T13:00:11.099585Z"
    },
    "papermill": {
     "duration": 1.555441,
     "end_time": "2021-09-29T13:00:11.100059",
     "exception": false,
     "start_time": "2021-09-29T13:00:09.544618",
     "status": "completed"
    },
    "tags": []
   },
   "outputs": [
    {
     "data": {
      "text/plain": [
       "<AxesSubplot:ylabel='PRODUCT'>"
      ]
     },
     "execution_count": 7,
     "metadata": {},
     "output_type": "execute_result"
    },
    {
     "data": {
      "image/png": "[encoded data removed]",
      "text/plain": [
       "<Figure size 432x288 with 1 Axes>"
      ]
     },
     "metadata": {
      "needs_background": "light"
     },
     "output_type": "display_data"
    }
   ],
   "source": [
    "df_pivot_diff.sort_values(\"stamp_2\", ascending = False)[\"stamp_2\"].head(10).plot.barh()"
   ]
  },
  {
   "cell_type": "code",
   "execution_count": null,
   "id": "extra-executive",
   "metadata": {
    "papermill": {
     "duration": 0.022611,
     "end_time": "2021-09-29T13:00:11.147723",
     "exception": false,
     "start_time": "2021-09-29T13:00:11.125112",
     "status": "completed"
    },
    "tags": []
   },
   "outputs": [],
   "source": []
  }
 ],
 "metadata": {
  "kernelspec": {
   "display_name": "Python 3",
   "language": "python",
   "name": "python3"
  },
  "language_info": {
   "codemirror_mode": {
    "name": "ipython",
    "version": 3
   },
   "file_extension": ".py",
   "mimetype": "text/x-python",
   "name": "python",
   "nbconvert_exporter": "python",
   "pygments_lexer": "ipython3",
   "version": "3.9.5"
  },
  "papermill": {
   "default_parameters": {},
   "duration": 7.836864,
   "end_time": "2021-09-29T13:00:12.730972",
   "environment_variables": {},
   "exception": null,
   "input_path": "eBay_Overview.ipynb",
   "output_path": "eBay_Overview.ipynb",
   "parameters": {},
   "start_time": "2021-09-29T13:00:04.894108",
   "version": "2.3.3"
  }
 },
 "nbformat": 4,
 "nbformat_minor": 5
}