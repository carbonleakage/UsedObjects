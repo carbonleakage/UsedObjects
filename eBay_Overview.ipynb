{
 "cells": [
  {
   "cell_type": "code",
   "execution_count": 1,
   "id": "reverse-picking",
   "metadata": {
    "execution": {
     "iopub.execute_input": "2021-09-14T04:30:07.256971Z",
     "iopub.status.busy": "2021-09-14T04:30:07.255027Z",
     "iopub.status.idle": "2021-09-14T04:30:08.059020Z",
     "shell.execute_reply": "2021-09-14T04:30:08.060347Z"
    },
    "papermill": {
     "duration": 0.85651,
     "end_time": "2021-09-14T04:30:08.060995",
     "exception": false,
     "start_time": "2021-09-14T04:30:07.204485",
     "status": "completed"
    },
    "tags": []
   },
   "outputs": [],
   "source": [
    "import pandas as pd\n",
    "import sqlite3"
   ]
  },
  {
   "cell_type": "code",
   "execution_count": 2,
   "id": "innovative-syndrome",
   "metadata": {
    "execution": {
     "iopub.execute_input": "2021-09-14T04:30:08.112400Z",
     "iopub.status.busy": "2021-09-14T04:30:08.110430Z",
     "iopub.status.idle": "2021-09-14T04:30:08.390066Z",
     "shell.execute_reply": "2021-09-14T04:30:08.391399Z"
    },
    "papermill": {
     "duration": 0.309465,
     "end_time": "2021-09-14T04:30:08.391825",
     "exception": false,
     "start_time": "2021-09-14T04:30:08.082360",
     "status": "completed"
    },
    "tags": []
   },
   "outputs": [],
   "source": [
    "timestamps = pd.read_sql(\"select distinct record_time from EBAY_TOP_BERLIN order by record_time desc limit 2\", sqlite3.connect(\"UsedObjects.db\"))"
   ]
  },
  {
   "cell_type": "code",
   "execution_count": 3,
   "id": "periodic-identification",
   "metadata": {
    "execution": {
     "iopub.execute_input": "2021-09-14T04:30:08.457108Z",
     "iopub.status.busy": "2021-09-14T04:30:08.455081Z",
     "iopub.status.idle": "2021-09-14T04:30:08.474741Z",
     "shell.execute_reply": "2021-09-14T04:30:08.476052Z"
    },
    "papermill": {
     "duration": 0.065006,
     "end_time": "2021-09-14T04:30:08.476453",
     "exception": false,
     "start_time": "2021-09-14T04:30:08.411447",
     "status": "completed"
    },
    "tags": []
   },
   "outputs": [
    {
     "data": {
      "text/html": [
       "<div>\n",
       "<style scoped>\n",
       "    .dataframe tbody tr th:only-of-type {\n",
       "        vertical-align: middle;\n",
       "    }\n",
       "\n",
       "    .dataframe tbody tr th {\n",
       "        vertical-align: top;\n",
       "    }\n",
       "\n",
       "    .dataframe thead th {\n",
       "        text-align: right;\n",
       "    }\n",
       "</style>\n",
       "<table border=\"1\" class=\"dataframe\">\n",
       "  <thead>\n",
       "    <tr style=\"text-align: right;\">\n",
       "      <th></th>\n",
       "      <th>RECORD_TIME</th>\n",
       "    </tr>\n",
       "  </thead>\n",
       "  <tbody>\n",
       "    <tr>\n",
       "      <th>0</th>\n",
       "      <td>2021-09-14 06:30</td>\n",
       "    </tr>\n",
       "    <tr>\n",
       "      <th>1</th>\n",
       "      <td>2021-09-14 06:00</td>\n",
       "    </tr>\n",
       "  </tbody>\n",
       "</table>\n",
       "</div>"
      ],
      "text/plain": [
       "        RECORD_TIME\n",
       "0  2021-09-14 06:30\n",
       "1  2021-09-14 06:00"
      ]
     },
     "execution_count": 3,
     "metadata": {},
     "output_type": "execute_result"
    }
   ],
   "source": [
    "timestamps"
   ]
  },
  {
   "cell_type": "code",
   "execution_count": 4,
   "id": "alternate-victory",
   "metadata": {
    "execution": {
     "iopub.execute_input": "2021-09-14T04:30:08.527996Z",
     "iopub.status.busy": "2021-09-14T04:30:08.526027Z",
     "iopub.status.idle": "2021-09-14T04:30:08.943364Z",
     "shell.execute_reply": "2021-09-14T04:30:08.944594Z"
    },
    "papermill": {
     "duration": 0.447247,
     "end_time": "2021-09-14T04:30:08.944991",
     "exception": false,
     "start_time": "2021-09-14T04:30:08.497744",
     "status": "completed"
    },
    "tags": []
   },
   "outputs": [],
   "source": [
    "df = pd.read_sql(\"select * from EBAY_TOP_BERLIN where record_time in (select distinct record_time from EBAY_TOP_BERLIN order by record_time desc limit 2)\", sqlite3.connect(\"UsedObjects.db\"))"
   ]
  },
  {
   "cell_type": "code",
   "execution_count": 5,
   "id": "popular-active",
   "metadata": {
    "execution": {
     "iopub.execute_input": "2021-09-14T04:30:09.026537Z",
     "iopub.status.busy": "2021-09-14T04:30:09.015410Z",
     "iopub.status.idle": "2021-09-14T04:30:09.042029Z",
     "shell.execute_reply": "2021-09-14T04:30:09.043377Z"
    },
    "papermill": {
     "duration": 0.069757,
     "end_time": "2021-09-14T04:30:09.043799",
     "exception": false,
     "start_time": "2021-09-14T04:30:08.974042",
     "status": "completed"
    },
    "tags": []
   },
   "outputs": [],
   "source": [
    "df_pivot = df.pivot_table(index=\"PRODUCT\", columns = \"RECORD_TIME\", values = \"LISTING_COUNT\")"
   ]
  },
  {
   "cell_type": "code",
   "execution_count": 6,
   "id": "union-huntington",
   "metadata": {
    "execution": {
     "iopub.execute_input": "2021-09-14T04:30:09.100564Z",
     "iopub.status.busy": "2021-09-14T04:30:09.098465Z",
     "iopub.status.idle": "2021-09-14T04:30:09.103856Z",
     "shell.execute_reply": "2021-09-14T04:30:09.105061Z"
    },
    "papermill": {
     "duration": 0.040356,
     "end_time": "2021-09-14T04:30:09.105493",
     "exception": false,
     "start_time": "2021-09-14T04:30:09.065137",
     "status": "completed"
    },
    "tags": []
   },
   "outputs": [],
   "source": [
    "df_pivot.columns = [\"stamp_1\", \"stamp_2\"]\n",
    "df_pivot_diff = df_pivot.diff(axis=1)"
   ]
  },
  {
   "cell_type": "code",
   "execution_count": 7,
   "id": "fifth-motion",
   "metadata": {
    "execution": {
     "iopub.execute_input": "2021-09-14T04:30:09.161526Z",
     "iopub.status.busy": "2021-09-14T04:30:09.158829Z",
     "iopub.status.idle": "2021-09-14T04:30:10.646207Z",
     "shell.execute_reply": "2021-09-14T04:30:10.647741Z"
    },
    "papermill": {
     "duration": 1.521181,
     "end_time": "2021-09-14T04:30:10.648186",
     "exception": false,
     "start_time": "2021-09-14T04:30:09.127005",
     "status": "completed"
    },
    "tags": []
   },
   "outputs": [
    {
     "data": {
      "text/plain": [
       "<AxesSubplot:ylabel='PRODUCT'>"
      ]
     },
     "execution_count": 7,
     "metadata": {},
     "output_type": "execute_result"
    },
    {
     "data": {
      "image/png": "[encoded data removed]",
      "text/plain": [
       "<Figure size 432x288 with 1 Axes>"
      ]
     },
     "metadata": {
      "needs_background": "light"
     },
     "output_type": "display_data"
    }
   ],
   "source": [
    "df_pivot_diff.sort_values(\"stamp_2\", ascending = False)[\"stamp_2\"].head(10).plot.barh()"
   ]
  },
  {
   "cell_type": "code",
   "execution_count": null,
   "id": "extra-executive",
   "metadata": {
    "papermill": {
     "duration": 0.02251,
     "end_time": "2021-09-14T04:30:10.695314",
     "exception": false,
     "start_time": "2021-09-14T04:30:10.672804",
     "status": "completed"
    },
    "tags": []
   },
   "outputs": [],
   "source": []
  }
 ],
 "metadata": {
  "kernelspec": {
   "display_name": "Python 3",
   "language": "python",
   "name": "python3"
  },
  "language_info": {
   "codemirror_mode": {
    "name": "ipython",
    "version": 3
   },
   "file_extension": ".py",
   "mimetype": "text/x-python",
   "name": "python",
   "nbconvert_exporter": "python",
   "pygments_lexer": "ipython3",
   "version": "3.9.5"
  },
  "papermill": {
   "default_parameters": {},
   "duration": 6.541715,
   "end_time": "2021-09-14T04:30:11.337948",
   "environment_variables": {},
   "exception": null,
   "input_path": "eBay_Overview.ipynb",
   "output_path": "eBay_Overview.ipynb",
   "parameters": {},
   "start_time": "2021-09-14T04:30:04.796233",
   "version": "2.3.3"
  }
 },
 "nbformat": 4,
 "nbformat_minor": 5
}