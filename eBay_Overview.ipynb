{
 "cells": [
  {
   "cell_type": "code",
   "execution_count": 1,
   "id": "reverse-picking",
   "metadata": {
    "execution": {
     "iopub.execute_input": "2021-11-27T00:00:07.609110Z",
     "iopub.status.busy": "2021-11-27T00:00:07.606450Z",
     "iopub.status.idle": "2021-11-27T00:00:08.573086Z",
     "shell.execute_reply": "2021-11-27T00:00:08.574685Z"
    },
    "papermill": {
     "duration": 1.009375,
     "end_time": "2021-11-27T00:00:08.575428",
     "exception": false,
     "start_time": "2021-11-27T00:00:07.566053",
     "status": "completed"
    },
    "tags": []
   },
   "outputs": [],
   "source": [
    "import pandas as pd\n",
    "import sqlite3"
   ]
  },
  {
   "cell_type": "code",
   "execution_count": 2,
   "id": "innovative-syndrome",
   "metadata": {
    "execution": {
     "iopub.execute_input": "2021-11-27T00:00:08.693483Z",
     "iopub.status.busy": "2021-11-27T00:00:08.691112Z",
     "iopub.status.idle": "2021-11-27T00:00:09.608842Z",
     "shell.execute_reply": "2021-11-27T00:00:09.610361Z"
    },
    "papermill": {
     "duration": 0.951619,
     "end_time": "2021-11-27T00:00:09.610849",
     "exception": false,
     "start_time": "2021-11-27T00:00:08.659230",
     "status": "completed"
    },
    "tags": []
   },
   "outputs": [],
   "source": [
    "timestamps = pd.read_sql(\"select distinct record_time from EBAY_TOP_BERLIN order by record_time desc limit 2\", sqlite3.connect(\"UsedObjects.db\"))"
   ]
  },
  {
   "cell_type": "code",
   "execution_count": 3,
   "id": "periodic-identification",
   "metadata": {
    "execution": {
     "iopub.execute_input": "2021-11-27T00:00:09.681795Z",
     "iopub.status.busy": "2021-11-27T00:00:09.679587Z",
     "iopub.status.idle": "2021-11-27T00:00:09.699586Z",
     "shell.execute_reply": "2021-11-27T00:00:09.700877Z"
    },
    "papermill": {
     "duration": 0.069998,
     "end_time": "2021-11-27T00:00:09.701278",
     "exception": false,
     "start_time": "2021-11-27T00:00:09.631280",
     "status": "completed"
    },
    "tags": []
   },
   "outputs": [
    {
     "data": {
      "text/html": [
       "<div>\n",
       "<style scoped>\n",
       "    .dataframe tbody tr th:only-of-type {\n",
       "        vertical-align: middle;\n",
       "    }\n",
       "\n",
       "    .dataframe tbody tr th {\n",
       "        vertical-align: top;\n",
       "    }\n",
       "\n",
       "    .dataframe thead th {\n",
       "        text-align: right;\n",
       "    }\n",
       "</style>\n",
       "<table border=\"1\" class=\"dataframe\">\n",
       "  <thead>\n",
       "    <tr style=\"text-align: right;\">\n",
       "      <th></th>\n",
       "      <th>RECORD_TIME</th>\n",
       "    </tr>\n",
       "  </thead>\n",
       "  <tbody>\n",
       "    <tr>\n",
       "      <th>0</th>\n",
       "      <td>2021-11-27 01:00</td>\n",
       "    </tr>\n",
       "    <tr>\n",
       "      <th>1</th>\n",
       "      <td>2021-11-27 00:30</td>\n",
       "    </tr>\n",
       "  </tbody>\n",
       "</table>\n",
       "</div>"
      ],
      "text/plain": [
       "        RECORD_TIME\n",
       "0  2021-11-27 01:00\n",
       "1  2021-11-27 00:30"
      ]
     },
     "execution_count": 3,
     "metadata": {},
     "output_type": "execute_result"
    }
   ],
   "source": [
    "timestamps"
   ]
  },
  {
   "cell_type": "code",
   "execution_count": 4,
   "id": "alternate-victory",
   "metadata": {
    "execution": {
     "iopub.execute_input": "2021-11-27T00:00:09.754039Z",
     "iopub.status.busy": "2021-11-27T00:00:09.752063Z",
     "iopub.status.idle": "2021-11-27T00:00:11.079004Z",
     "shell.execute_reply": "2021-11-27T00:00:11.083668Z"
    },
    "papermill": {
     "duration": 1.360364,
     "end_time": "2021-11-27T00:00:11.084191",
     "exception": false,
     "start_time": "2021-11-27T00:00:09.723827",
     "status": "completed"
    },
    "tags": []
   },
   "outputs": [],
   "source": [
    "df = pd.read_sql(\"select * from EBAY_TOP_BERLIN where record_time in (select distinct record_time from EBAY_TOP_BERLIN order by record_time desc limit 2)\", sqlite3.connect(\"UsedObjects.db\"))"
   ]
  },
  {
   "cell_type": "code",
   "execution_count": 5,
   "id": "popular-active",
   "metadata": {
    "execution": {
     "iopub.execute_input": "2021-11-27T00:00:11.161351Z",
     "iopub.status.busy": "2021-11-27T00:00:11.152666Z",
     "iopub.status.idle": "2021-11-27T00:00:11.178413Z",
     "shell.execute_reply": "2021-11-27T00:00:11.179800Z"
    },
    "papermill": {
     "duration": 0.073877,
     "end_time": "2021-11-27T00:00:11.180271",
     "exception": false,
     "start_time": "2021-11-27T00:00:11.106394",
     "status": "completed"
    },
    "tags": []
   },
   "outputs": [],
   "source": [
    "df_pivot = df.pivot_table(index=\"PRODUCT\", columns = \"RECORD_TIME\", values = \"LISTING_COUNT\")"
   ]
  },
  {
   "cell_type": "code",
   "execution_count": 6,
   "id": "union-huntington",
   "metadata": {
    "execution": {
     "iopub.execute_input": "2021-11-27T00:00:11.242036Z",
     "iopub.status.busy": "2021-11-27T00:00:11.239750Z",
     "iopub.status.idle": "2021-11-27T00:00:11.245706Z",
     "shell.execute_reply": "2021-11-27T00:00:11.247337Z"
    },
    "papermill": {
     "duration": 0.047547,
     "end_time": "2021-11-27T00:00:11.247892",
     "exception": false,
     "start_time": "2021-11-27T00:00:11.200345",
     "status": "completed"
    },
    "tags": []
   },
   "outputs": [],
   "source": [
    "df_pivot.columns = [\"stamp_1\", \"stamp_2\"]\n",
    "df_pivot_diff = df_pivot.diff(axis=1)"
   ]
  },
  {
   "cell_type": "code",
   "execution_count": 7,
   "id": "fifth-motion",
   "metadata": {
    "execution": {
     "iopub.execute_input": "2021-11-27T00:00:11.312217Z",
     "iopub.status.busy": "2021-11-27T00:00:11.309606Z",
     "iopub.status.idle": "2021-11-27T00:00:13.282829Z",
     "shell.execute_reply": "2021-11-27T00:00:13.280914Z"
    },
    "papermill": {
     "duration": 2.01406,
     "end_time": "2021-11-27T00:00:13.283357",
     "exception": false,
     "start_time": "2021-11-27T00:00:11.269297",
     "status": "completed"
    },
    "tags": []
   },
   "outputs": [
    {
     "data": {
      "text/plain": [
       "<AxesSubplot:ylabel='PRODUCT'>"
      ]
     },
     "execution_count": 7,
     "metadata": {},
     "output_type": "execute_result"
    },
    {
     "data": {
      "image/png": "[encoded data removed]",
      "text/plain": [
       "<Figure size 432x288 with 1 Axes>"
      ]
     },
     "metadata": {
      "needs_background": "light"
     },
     "output_type": "display_data"
    }
   ],
   "source": [
    "df_pivot_diff.sort_values(\"stamp_2\", ascending = False)[\"stamp_2\"].head(10).plot.barh()"
   ]
  },
  {
   "cell_type": "code",
   "execution_count": null,
   "id": "extra-executive",
   "metadata": {
    "papermill": {
     "duration": 0.058249,
     "end_time": "2021-11-27T00:00:13.369529",
     "exception": false,
     "start_time": "2021-11-27T00:00:13.311280",
     "status": "completed"
    },
    "tags": []
   },
   "outputs": [],
   "source": []
  }
 ],
 "metadata": {
  "kernelspec": {
   "display_name": "Python 3",
   "language": "python",
   "name": "python3"
  },
  "language_info": {
   "codemirror_mode": {
    "name": "ipython",
    "version": 3
   },
   "file_extension": ".py",
   "mimetype": "text/x-python",
   "name": "python",
   "nbconvert_exporter": "python",
   "pygments_lexer": "ipython3",
   "version": "3.9.5"
  },
  "papermill": {
   "default_parameters": {},
   "duration": 11.939692,
   "end_time": "2021-11-27T00:00:16.780745",
   "environment_variables": {},
   "exception": null,
   "input_path": "eBay_Overview.ipynb",
   "output_path": "eBay_Overview.ipynb",
   "parameters": {},
   "start_time": "2021-11-27T00:00:04.841053",
   "version": "2.3.3"
  }
 },
 "nbformat": 4,
 "nbformat_minor": 5
}