{
 "cells": [
  {
   "cell_type": "code",
   "execution_count": 1,
   "id": "reverse-picking",
   "metadata": {
    "execution": {
     "iopub.execute_input": "2021-09-09T09:00:07.121381Z",
     "iopub.status.busy": "2021-09-09T09:00:07.119396Z",
     "iopub.status.idle": "2021-09-09T09:00:07.929577Z",
     "shell.execute_reply": "2021-09-09T09:00:07.930979Z"
    },
    "papermill": {
     "duration": 0.861329,
     "end_time": "2021-09-09T09:00:07.931647",
     "exception": false,
     "start_time": "2021-09-09T09:00:07.070318",
     "status": "completed"
    },
    "tags": []
   },
   "outputs": [],
   "source": [
    "import pandas as pd\n",
    "import sqlite3"
   ]
  },
  {
   "cell_type": "code",
   "execution_count": 2,
   "id": "innovative-syndrome",
   "metadata": {
    "execution": {
     "iopub.execute_input": "2021-09-09T09:00:07.982816Z",
     "iopub.status.busy": "2021-09-09T09:00:07.980860Z",
     "iopub.status.idle": "2021-09-09T09:00:08.227140Z",
     "shell.execute_reply": "2021-09-09T09:00:08.228554Z"
    },
    "papermill": {
     "duration": 0.276753,
     "end_time": "2021-09-09T09:00:08.228995",
     "exception": false,
     "start_time": "2021-09-09T09:00:07.952242",
     "status": "completed"
    },
    "tags": []
   },
   "outputs": [],
   "source": [
    "timestamps = pd.read_sql(\"select distinct record_time from EBAY_TOP_BERLIN order by record_time desc limit 2\", sqlite3.connect(\"UsedObjects.db\"))"
   ]
  },
  {
   "cell_type": "code",
   "execution_count": 3,
   "id": "periodic-identification",
   "metadata": {
    "execution": {
     "iopub.execute_input": "2021-09-09T09:00:08.296271Z",
     "iopub.status.busy": "2021-09-09T09:00:08.294155Z",
     "iopub.status.idle": "2021-09-09T09:00:08.314380Z",
     "shell.execute_reply": "2021-09-09T09:00:08.315745Z"
    },
    "papermill": {
     "duration": 0.067143,
     "end_time": "2021-09-09T09:00:08.316172",
     "exception": false,
     "start_time": "2021-09-09T09:00:08.249029",
     "status": "completed"
    },
    "tags": []
   },
   "outputs": [
    {
     "data": {
      "text/html": [
       "<div>\n",
       "<style scoped>\n",
       "    .dataframe tbody tr th:only-of-type {\n",
       "        vertical-align: middle;\n",
       "    }\n",
       "\n",
       "    .dataframe tbody tr th {\n",
       "        vertical-align: top;\n",
       "    }\n",
       "\n",
       "    .dataframe thead th {\n",
       "        text-align: right;\n",
       "    }\n",
       "</style>\n",
       "<table border=\"1\" class=\"dataframe\">\n",
       "  <thead>\n",
       "    <tr style=\"text-align: right;\">\n",
       "      <th></th>\n",
       "      <th>RECORD_TIME</th>\n",
       "    </tr>\n",
       "  </thead>\n",
       "  <tbody>\n",
       "    <tr>\n",
       "      <th>0</th>\n",
       "      <td>2021-09-09 11:00</td>\n",
       "    </tr>\n",
       "    <tr>\n",
       "      <th>1</th>\n",
       "      <td>2021-09-09 10:30</td>\n",
       "    </tr>\n",
       "  </tbody>\n",
       "</table>\n",
       "</div>"
      ],
      "text/plain": [
       "        RECORD_TIME\n",
       "0  2021-09-09 11:00\n",
       "1  2021-09-09 10:30"
      ]
     },
     "execution_count": 3,
     "metadata": {},
     "output_type": "execute_result"
    }
   ],
   "source": [
    "timestamps"
   ]
  },
  {
   "cell_type": "code",
   "execution_count": 4,
   "id": "alternate-victory",
   "metadata": {
    "execution": {
     "iopub.execute_input": "2021-09-09T09:00:08.367769Z",
     "iopub.status.busy": "2021-09-09T09:00:08.365814Z",
     "iopub.status.idle": "2021-09-09T09:00:08.730452Z",
     "shell.execute_reply": "2021-09-09T09:00:08.731860Z"
    },
    "papermill": {
     "duration": 0.394815,
     "end_time": "2021-09-09T09:00:08.732290",
     "exception": false,
     "start_time": "2021-09-09T09:00:08.337475",
     "status": "completed"
    },
    "tags": []
   },
   "outputs": [],
   "source": [
    "df = pd.read_sql(\"select * from EBAY_TOP_BERLIN where record_time in (select distinct record_time from EBAY_TOP_BERLIN order by record_time desc limit 2)\", sqlite3.connect(\"UsedObjects.db\"))"
   ]
  },
  {
   "cell_type": "code",
   "execution_count": 5,
   "id": "popular-active",
   "metadata": {
    "execution": {
     "iopub.execute_input": "2021-09-09T09:00:08.812669Z",
     "iopub.status.busy": "2021-09-09T09:00:08.800496Z",
     "iopub.status.idle": "2021-09-09T09:00:08.829796Z",
     "shell.execute_reply": "2021-09-09T09:00:08.831520Z"
    },
    "papermill": {
     "duration": 0.07367,
     "end_time": "2021-09-09T09:00:08.832006",
     "exception": false,
     "start_time": "2021-09-09T09:00:08.758336",
     "status": "completed"
    },
    "tags": []
   },
   "outputs": [],
   "source": [
    "df_pivot = df.pivot_table(index=\"PRODUCT\", columns = \"RECORD_TIME\", values = \"LISTING_COUNT\")"
   ]
  },
  {
   "cell_type": "code",
   "execution_count": 6,
   "id": "union-huntington",
   "metadata": {
    "execution": {
     "iopub.execute_input": "2021-09-09T09:00:08.891051Z",
     "iopub.status.busy": "2021-09-09T09:00:08.888898Z",
     "iopub.status.idle": "2021-09-09T09:00:08.894104Z",
     "shell.execute_reply": "2021-09-09T09:00:08.895360Z"
    },
    "papermill": {
     "duration": 0.041329,
     "end_time": "2021-09-09T09:00:08.895795",
     "exception": false,
     "start_time": "2021-09-09T09:00:08.854466",
     "status": "completed"
    },
    "tags": []
   },
   "outputs": [],
   "source": [
    "df_pivot.columns = [\"stamp_1\", \"stamp_2\"]\n",
    "df_pivot_diff = df_pivot.diff(axis=1)"
   ]
  },
  {
   "cell_type": "code",
   "execution_count": 7,
   "id": "fifth-motion",
   "metadata": {
    "execution": {
     "iopub.execute_input": "2021-09-09T09:00:08.950049Z",
     "iopub.status.busy": "2021-09-09T09:00:08.947644Z",
     "iopub.status.idle": "2021-09-09T09:00:10.441920Z",
     "shell.execute_reply": "2021-09-09T09:00:10.443351Z"
    },
    "papermill": {
     "duration": 1.527395,
     "end_time": "2021-09-09T09:00:10.443809",
     "exception": false,
     "start_time": "2021-09-09T09:00:08.916414",
     "status": "completed"
    },
    "tags": []
   },
   "outputs": [
    {
     "data": {
      "text/plain": [
       "<AxesSubplot:ylabel='PRODUCT'>"
      ]
     },
     "execution_count": 7,
     "metadata": {},
     "output_type": "execute_result"
    },
    {
     "data": {
      "image/png": "[encoded data removed]",
      "text/plain": [
       "<Figure size 432x288 with 1 Axes>"
      ]
     },
     "metadata": {
      "needs_background": "light"
     },
     "output_type": "display_data"
    }
   ],
   "source": [
    "df_pivot_diff.sort_values(\"stamp_2\", ascending = False)[\"stamp_2\"].head(10).plot.barh()"
   ]
  },
  {
   "cell_type": "code",
   "execution_count": null,
   "id": "extra-executive",
   "metadata": {
    "papermill": {
     "duration": 0.023158,
     "end_time": "2021-09-09T09:00:10.492953",
     "exception": false,
     "start_time": "2021-09-09T09:00:10.469795",
     "status": "completed"
    },
    "tags": []
   },
   "outputs": [],
   "source": []
  }
 ],
 "metadata": {
  "kernelspec": {
   "display_name": "Python 3",
   "language": "python",
   "name": "python3"
  },
  "language_info": {
   "codemirror_mode": {
    "name": "ipython",
    "version": 3
   },
   "file_extension": ".py",
   "mimetype": "text/x-python",
   "name": "python",
   "nbconvert_exporter": "python",
   "pygments_lexer": "ipython3",
   "version": "3.9.5"
  },
  "papermill": {
   "default_parameters": {},
   "duration": 6.48244,
   "end_time": "2021-09-09T09:00:11.132670",
   "environment_variables": {},
   "exception": null,
   "input_path": "eBay_Overview.ipynb",
   "output_path": "eBay_Overview.ipynb",
   "parameters": {},
   "start_time": "2021-09-09T09:00:04.650230",
   "version": "2.3.3"
  }
 },
 "nbformat": 4,
 "nbformat_minor": 5
}