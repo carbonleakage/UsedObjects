{
 "cells": [
  {
   "cell_type": "code",
   "execution_count": 1,
   "id": "reverse-picking",
   "metadata": {
    "execution": {
     "iopub.execute_input": "2021-12-02T22:00:07.758159Z",
     "iopub.status.busy": "2021-12-02T22:00:07.755738Z",
     "iopub.status.idle": "2021-12-02T22:00:08.712644Z",
     "shell.execute_reply": "2021-12-02T22:00:08.714284Z"
    },
    "papermill": {
     "duration": 1.00735,
     "end_time": "2021-12-02T22:00:08.715078",
     "exception": false,
     "start_time": "2021-12-02T22:00:07.707728",
     "status": "completed"
    },
    "tags": []
   },
   "outputs": [],
   "source": [
    "import pandas as pd\n",
    "import sqlite3"
   ]
  },
  {
   "cell_type": "code",
   "execution_count": 2,
   "id": "innovative-syndrome",
   "metadata": {
    "execution": {
     "iopub.execute_input": "2021-12-02T22:00:08.798634Z",
     "iopub.status.busy": "2021-12-02T22:00:08.796098Z",
     "iopub.status.idle": "2021-12-02T22:00:09.770279Z",
     "shell.execute_reply": "2021-12-02T22:00:09.772746Z"
    },
    "papermill": {
     "duration": 1.01147,
     "end_time": "2021-12-02T22:00:09.773271",
     "exception": false,
     "start_time": "2021-12-02T22:00:08.761801",
     "status": "completed"
    },
    "tags": []
   },
   "outputs": [],
   "source": [
    "timestamps = pd.read_sql(\"select distinct record_time from EBAY_TOP_BERLIN order by record_time desc limit 2\", sqlite3.connect(\"UsedObjects.db\"))"
   ]
  },
  {
   "cell_type": "code",
   "execution_count": 3,
   "id": "periodic-identification",
   "metadata": {
    "execution": {
     "iopub.execute_input": "2021-12-02T22:00:09.844574Z",
     "iopub.status.busy": "2021-12-02T22:00:09.841866Z",
     "iopub.status.idle": "2021-12-02T22:00:09.870161Z",
     "shell.execute_reply": "2021-12-02T22:00:09.867436Z"
    },
    "papermill": {
     "duration": 0.077118,
     "end_time": "2021-12-02T22:00:09.870591",
     "exception": false,
     "start_time": "2021-12-02T22:00:09.793473",
     "status": "completed"
    },
    "tags": []
   },
   "outputs": [
    {
     "data": {
      "text/html": [
       "<div>\n",
       "<style scoped>\n",
       "    .dataframe tbody tr th:only-of-type {\n",
       "        vertical-align: middle;\n",
       "    }\n",
       "\n",
       "    .dataframe tbody tr th {\n",
       "        vertical-align: top;\n",
       "    }\n",
       "\n",
       "    .dataframe thead th {\n",
       "        text-align: right;\n",
       "    }\n",
       "</style>\n",
       "<table border=\"1\" class=\"dataframe\">\n",
       "  <thead>\n",
       "    <tr style=\"text-align: right;\">\n",
       "      <th></th>\n",
       "      <th>RECORD_TIME</th>\n",
       "    </tr>\n",
       "  </thead>\n",
       "  <tbody>\n",
       "    <tr>\n",
       "      <th>0</th>\n",
       "      <td>2021-12-02 23:00</td>\n",
       "    </tr>\n",
       "    <tr>\n",
       "      <th>1</th>\n",
       "      <td>2021-12-02 22:30</td>\n",
       "    </tr>\n",
       "  </tbody>\n",
       "</table>\n",
       "</div>"
      ],
      "text/plain": [
       "        RECORD_TIME\n",
       "0  2021-12-02 23:00\n",
       "1  2021-12-02 22:30"
      ]
     },
     "execution_count": 3,
     "metadata": {},
     "output_type": "execute_result"
    }
   ],
   "source": [
    "timestamps"
   ]
  },
  {
   "cell_type": "code",
   "execution_count": 4,
   "id": "alternate-victory",
   "metadata": {
    "execution": {
     "iopub.execute_input": "2021-12-02T22:00:09.928356Z",
     "iopub.status.busy": "2021-12-02T22:00:09.926473Z",
     "iopub.status.idle": "2021-12-02T22:00:11.312344Z",
     "shell.execute_reply": "2021-12-02T22:00:11.314158Z"
    },
    "papermill": {
     "duration": 1.422171,
     "end_time": "2021-12-02T22:00:11.314757",
     "exception": false,
     "start_time": "2021-12-02T22:00:09.892586",
     "status": "completed"
    },
    "tags": []
   },
   "outputs": [],
   "source": [
    "df = pd.read_sql(\"select * from EBAY_TOP_BERLIN where record_time in (select distinct record_time from EBAY_TOP_BERLIN order by record_time desc limit 2)\", sqlite3.connect(\"UsedObjects.db\"))"
   ]
  },
  {
   "cell_type": "code",
   "execution_count": 5,
   "id": "popular-active",
   "metadata": {
    "execution": {
     "iopub.execute_input": "2021-12-02T22:00:11.422959Z",
     "iopub.status.busy": "2021-12-02T22:00:11.411457Z",
     "iopub.status.idle": "2021-12-02T22:00:11.441952Z",
     "shell.execute_reply": "2021-12-02T22:00:11.443332Z"
    },
    "papermill": {
     "duration": 0.106669,
     "end_time": "2021-12-02T22:00:11.443803",
     "exception": false,
     "start_time": "2021-12-02T22:00:11.337134",
     "status": "completed"
    },
    "tags": []
   },
   "outputs": [],
   "source": [
    "df_pivot = df.pivot_table(index=\"PRODUCT\", columns = \"RECORD_TIME\", values = \"LISTING_COUNT\")"
   ]
  },
  {
   "cell_type": "code",
   "execution_count": 6,
   "id": "union-huntington",
   "metadata": {
    "execution": {
     "iopub.execute_input": "2021-12-02T22:00:11.509056Z",
     "iopub.status.busy": "2021-12-02T22:00:11.506579Z",
     "iopub.status.idle": "2021-12-02T22:00:11.514139Z",
     "shell.execute_reply": "2021-12-02T22:00:11.512464Z"
    },
    "papermill": {
     "duration": 0.049105,
     "end_time": "2021-12-02T22:00:11.514578",
     "exception": false,
     "start_time": "2021-12-02T22:00:11.465473",
     "status": "completed"
    },
    "tags": []
   },
   "outputs": [],
   "source": [
    "df_pivot.columns = [\"stamp_1\", \"stamp_2\"]\n",
    "df_pivot_diff = df_pivot.diff(axis=1)"
   ]
  },
  {
   "cell_type": "code",
   "execution_count": 7,
   "id": "fifth-motion",
   "metadata": {
    "execution": {
     "iopub.execute_input": "2021-12-02T22:00:11.579586Z",
     "iopub.status.busy": "2021-12-02T22:00:11.576879Z",
     "iopub.status.idle": "2021-12-02T22:00:13.496893Z",
     "shell.execute_reply": "2021-12-02T22:00:13.494237Z"
    },
    "papermill": {
     "duration": 1.961719,
     "end_time": "2021-12-02T22:00:13.497518",
     "exception": false,
     "start_time": "2021-12-02T22:00:11.535799",
     "status": "completed"
    },
    "tags": []
   },
   "outputs": [
    {
     "data": {
      "text/plain": [
       "<AxesSubplot:ylabel='PRODUCT'>"
      ]
     },
     "execution_count": 7,
     "metadata": {},
     "output_type": "execute_result"
    },
    {
     "data": {
      "image/png": "[encoded data removed]",
      "text/plain": [
       "<Figure size 432x288 with 1 Axes>"
      ]
     },
     "metadata": {
      "needs_background": "light"
     },
     "output_type": "display_data"
    }
   ],
   "source": [
    "df_pivot_diff.sort_values(\"stamp_2\", ascending = False)[\"stamp_2\"].head(10).plot.barh()"
   ]
  },
  {
   "cell_type": "code",
   "execution_count": null,
   "id": "extra-executive",
   "metadata": {
    "papermill": {
     "duration": 0.028495,
     "end_time": "2021-12-02T22:00:13.560999",
     "exception": false,
     "start_time": "2021-12-02T22:00:13.532504",
     "status": "completed"
    },
    "tags": []
   },
   "outputs": [],
   "source": []
  }
 ],
 "metadata": {
  "kernelspec": {
   "display_name": "Python 3",
   "language": "python",
   "name": "python3"
  },
  "language_info": {
   "codemirror_mode": {
    "name": "ipython",
    "version": 3
   },
   "file_extension": ".py",
   "mimetype": "text/x-python",
   "name": "python",
   "nbconvert_exporter": "python",
   "pygments_lexer": "ipython3",
   "version": "3.9.5"
  },
  "papermill": {
   "default_parameters": {},
   "duration": 9.957887,
   "end_time": "2021-12-02T22:00:14.918150",
   "environment_variables": {},
   "exception": null,
   "input_path": "eBay_Overview.ipynb",
   "output_path": "eBay_Overview.ipynb",
   "parameters": {},
   "start_time": "2021-12-02T22:00:04.960263",
   "version": "2.3.3"
  }
 },
 "nbformat": 4,
 "nbformat_minor": 5
}