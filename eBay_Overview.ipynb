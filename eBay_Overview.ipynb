{
 "cells": [
  {
   "cell_type": "code",
   "execution_count": 1,
   "id": "reverse-picking",
   "metadata": {
    "execution": {
     "iopub.execute_input": "2021-09-06T17:30:07.373150Z",
     "iopub.status.busy": "2021-09-06T17:30:07.371219Z",
     "iopub.status.idle": "2021-09-06T17:30:08.179953Z",
     "shell.execute_reply": "2021-09-06T17:30:08.181215Z"
    },
    "papermill": {
     "duration": 0.861434,
     "end_time": "2021-09-06T17:30:08.181828",
     "exception": false,
     "start_time": "2021-09-06T17:30:07.320394",
     "status": "completed"
    },
    "tags": []
   },
   "outputs": [],
   "source": [
    "import pandas as pd\n",
    "import sqlite3"
   ]
  },
  {
   "cell_type": "code",
   "execution_count": 2,
   "id": "innovative-syndrome",
   "metadata": {
    "execution": {
     "iopub.execute_input": "2021-09-06T17:30:08.236142Z",
     "iopub.status.busy": "2021-09-06T17:30:08.233759Z",
     "iopub.status.idle": "2021-09-06T17:30:08.454186Z",
     "shell.execute_reply": "2021-09-06T17:30:08.455461Z"
    },
    "papermill": {
     "duration": 0.250735,
     "end_time": "2021-09-06T17:30:08.455864",
     "exception": false,
     "start_time": "2021-09-06T17:30:08.205129",
     "status": "completed"
    },
    "tags": []
   },
   "outputs": [],
   "source": [
    "timestamps = pd.read_sql(\"select distinct record_time from EBAY_TOP_BERLIN order by record_time desc limit 2\", sqlite3.connect(\"UsedObjects.db\"))"
   ]
  },
  {
   "cell_type": "code",
   "execution_count": 3,
   "id": "periodic-identification",
   "metadata": {
    "execution": {
     "iopub.execute_input": "2021-09-06T17:30:08.520489Z",
     "iopub.status.busy": "2021-09-06T17:30:08.518304Z",
     "iopub.status.idle": "2021-09-06T17:30:08.538191Z",
     "shell.execute_reply": "2021-09-06T17:30:08.539597Z"
    },
    "papermill": {
     "duration": 0.064472,
     "end_time": "2021-09-06T17:30:08.540030",
     "exception": false,
     "start_time": "2021-09-06T17:30:08.475558",
     "status": "completed"
    },
    "tags": []
   },
   "outputs": [
    {
     "data": {
      "text/html": [
       "<div>\n",
       "<style scoped>\n",
       "    .dataframe tbody tr th:only-of-type {\n",
       "        vertical-align: middle;\n",
       "    }\n",
       "\n",
       "    .dataframe tbody tr th {\n",
       "        vertical-align: top;\n",
       "    }\n",
       "\n",
       "    .dataframe thead th {\n",
       "        text-align: right;\n",
       "    }\n",
       "</style>\n",
       "<table border=\"1\" class=\"dataframe\">\n",
       "  <thead>\n",
       "    <tr style=\"text-align: right;\">\n",
       "      <th></th>\n",
       "      <th>RECORD_TIME</th>\n",
       "    </tr>\n",
       "  </thead>\n",
       "  <tbody>\n",
       "    <tr>\n",
       "      <th>0</th>\n",
       "      <td>2021-09-06 19:30</td>\n",
       "    </tr>\n",
       "    <tr>\n",
       "      <th>1</th>\n",
       "      <td>2021-09-06 19:00</td>\n",
       "    </tr>\n",
       "  </tbody>\n",
       "</table>\n",
       "</div>"
      ],
      "text/plain": [
       "        RECORD_TIME\n",
       "0  2021-09-06 19:30\n",
       "1  2021-09-06 19:00"
      ]
     },
     "execution_count": 3,
     "metadata": {},
     "output_type": "execute_result"
    }
   ],
   "source": [
    "timestamps"
   ]
  },
  {
   "cell_type": "code",
   "execution_count": 4,
   "id": "alternate-victory",
   "metadata": {
    "execution": {
     "iopub.execute_input": "2021-09-06T17:30:08.592385Z",
     "iopub.status.busy": "2021-09-06T17:30:08.590428Z",
     "iopub.status.idle": "2021-09-06T17:30:08.922832Z",
     "shell.execute_reply": "2021-09-06T17:30:08.924272Z"
    },
    "papermill": {
     "duration": 0.36263,
     "end_time": "2021-09-06T17:30:08.924692",
     "exception": false,
     "start_time": "2021-09-06T17:30:08.562062",
     "status": "completed"
    },
    "tags": []
   },
   "outputs": [],
   "source": [
    "df = pd.read_sql(\"select * from EBAY_TOP_BERLIN where record_time in (select distinct record_time from EBAY_TOP_BERLIN order by record_time desc limit 2)\", sqlite3.connect(\"UsedObjects.db\"))"
   ]
  },
  {
   "cell_type": "code",
   "execution_count": 5,
   "id": "popular-active",
   "metadata": {
    "execution": {
     "iopub.execute_input": "2021-09-06T17:30:09.006180Z",
     "iopub.status.busy": "2021-09-06T17:30:08.999535Z",
     "iopub.status.idle": "2021-09-06T17:30:09.021899Z",
     "shell.execute_reply": "2021-09-06T17:30:09.023245Z"
    },
    "papermill": {
     "duration": 0.072707,
     "end_time": "2021-09-06T17:30:09.023660",
     "exception": false,
     "start_time": "2021-09-06T17:30:08.950953",
     "status": "completed"
    },
    "tags": []
   },
   "outputs": [],
   "source": [
    "df_pivot = df.pivot_table(index=\"PRODUCT\", columns = \"RECORD_TIME\", values = \"LISTING_COUNT\")"
   ]
  },
  {
   "cell_type": "code",
   "execution_count": 6,
   "id": "union-huntington",
   "metadata": {
    "execution": {
     "iopub.execute_input": "2021-09-06T17:30:09.082095Z",
     "iopub.status.busy": "2021-09-06T17:30:09.079824Z",
     "iopub.status.idle": "2021-09-06T17:30:09.085560Z",
     "shell.execute_reply": "2021-09-06T17:30:09.087087Z"
    },
    "papermill": {
     "duration": 0.041902,
     "end_time": "2021-09-06T17:30:09.087577",
     "exception": false,
     "start_time": "2021-09-06T17:30:09.045675",
     "status": "completed"
    },
    "tags": []
   },
   "outputs": [],
   "source": [
    "df_pivot.columns = [\"stamp_1\", \"stamp_2\"]\n",
    "df_pivot_diff = df_pivot.diff(axis=1)"
   ]
  },
  {
   "cell_type": "code",
   "execution_count": 7,
   "id": "fifth-motion",
   "metadata": {
    "execution": {
     "iopub.execute_input": "2021-09-06T17:30:09.142269Z",
     "iopub.status.busy": "2021-09-06T17:30:09.140063Z",
     "iopub.status.idle": "2021-09-06T17:30:10.630007Z",
     "shell.execute_reply": "2021-09-06T17:30:10.631416Z"
    },
    "papermill": {
     "duration": 1.522981,
     "end_time": "2021-09-06T17:30:10.631864",
     "exception": false,
     "start_time": "2021-09-06T17:30:09.108883",
     "status": "completed"
    },
    "tags": []
   },
   "outputs": [
    {
     "data": {
      "text/plain": [
       "<AxesSubplot:ylabel='PRODUCT'>"
      ]
     },
     "execution_count": 7,
     "metadata": {},
     "output_type": "execute_result"
    },
    {
     "data": {
      "image/png": "[encoded data removed]",
      "text/plain": [
       "<Figure size 432x288 with 1 Axes>"
      ]
     },
     "metadata": {
      "needs_background": "light"
     },
     "output_type": "display_data"
    }
   ],
   "source": [
    "df_pivot_diff.sort_values(\"stamp_2\", ascending = False)[\"stamp_2\"].head(10).plot.barh()"
   ]
  },
  {
   "cell_type": "code",
   "execution_count": null,
   "id": "extra-executive",
   "metadata": {
    "papermill": {
     "duration": 0.02247,
     "end_time": "2021-09-06T17:30:10.678333",
     "exception": false,
     "start_time": "2021-09-06T17:30:10.655863",
     "status": "completed"
    },
    "tags": []
   },
   "outputs": [],
   "source": []
  }
 ],
 "metadata": {
  "kernelspec": {
   "display_name": "Python 3",
   "language": "python",
   "name": "python3"
  },
  "language_info": {
   "codemirror_mode": {
    "name": "ipython",
    "version": 3
   },
   "file_extension": ".py",
   "mimetype": "text/x-python",
   "name": "python",
   "nbconvert_exporter": "python",
   "pygments_lexer": "ipython3",
   "version": "3.9.5"
  },
  "papermill": {
   "default_parameters": {},
   "duration": 6.402827,
   "end_time": "2021-09-06T17:30:11.319799",
   "environment_variables": {},
   "exception": null,
   "input_path": "eBay_Overview.ipynb",
   "output_path": "eBay_Overview.ipynb",
   "parameters": {},
   "start_time": "2021-09-06T17:30:04.916972",
   "version": "2.3.3"
  }
 },
 "nbformat": 4,
 "nbformat_minor": 5
}