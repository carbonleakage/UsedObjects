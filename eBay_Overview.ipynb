{
 "cells": [
  {
   "cell_type": "code",
   "execution_count": 1,
   "id": "reverse-picking",
   "metadata": {
    "execution": {
     "iopub.execute_input": "2021-10-22T05:00:08.250440Z",
     "iopub.status.busy": "2021-10-22T05:00:08.248407Z",
     "iopub.status.idle": "2021-10-22T05:00:09.054911Z",
     "shell.execute_reply": "2021-10-22T05:00:09.056170Z"
    },
    "papermill": {
     "duration": 0.859005,
     "end_time": "2021-10-22T05:00:09.056849",
     "exception": false,
     "start_time": "2021-10-22T05:00:08.197844",
     "status": "completed"
    },
    "tags": []
   },
   "outputs": [],
   "source": [
    "import pandas as pd\n",
    "import sqlite3"
   ]
  },
  {
   "cell_type": "code",
   "execution_count": 2,
   "id": "innovative-syndrome",
   "metadata": {
    "execution": {
     "iopub.execute_input": "2021-10-22T05:00:09.107538Z",
     "iopub.status.busy": "2021-10-22T05:00:09.105654Z",
     "iopub.status.idle": "2021-10-22T05:00:09.710695Z",
     "shell.execute_reply": "2021-10-22T05:00:09.711972Z"
    },
    "papermill": {
     "duration": 0.63468,
     "end_time": "2021-10-22T05:00:09.712390",
     "exception": false,
     "start_time": "2021-10-22T05:00:09.077710",
     "status": "completed"
    },
    "tags": []
   },
   "outputs": [],
   "source": [
    "timestamps = pd.read_sql(\"select distinct record_time from EBAY_TOP_BERLIN order by record_time desc limit 2\", sqlite3.connect(\"UsedObjects.db\"))"
   ]
  },
  {
   "cell_type": "code",
   "execution_count": 3,
   "id": "periodic-identification",
   "metadata": {
    "execution": {
     "iopub.execute_input": "2021-10-22T05:00:09.785150Z",
     "iopub.status.busy": "2021-10-22T05:00:09.783024Z",
     "iopub.status.idle": "2021-10-22T05:00:09.803599Z",
     "shell.execute_reply": "2021-10-22T05:00:09.805133Z"
    },
    "papermill": {
     "duration": 0.069067,
     "end_time": "2021-10-22T05:00:09.805614",
     "exception": false,
     "start_time": "2021-10-22T05:00:09.736547",
     "status": "completed"
    },
    "tags": []
   },
   "outputs": [
    {
     "data": {
      "text/html": [
       "<div>\n",
       "<style scoped>\n",
       "    .dataframe tbody tr th:only-of-type {\n",
       "        vertical-align: middle;\n",
       "    }\n",
       "\n",
       "    .dataframe tbody tr th {\n",
       "        vertical-align: top;\n",
       "    }\n",
       "\n",
       "    .dataframe thead th {\n",
       "        text-align: right;\n",
       "    }\n",
       "</style>\n",
       "<table border=\"1\" class=\"dataframe\">\n",
       "  <thead>\n",
       "    <tr style=\"text-align: right;\">\n",
       "      <th></th>\n",
       "      <th>RECORD_TIME</th>\n",
       "    </tr>\n",
       "  </thead>\n",
       "  <tbody>\n",
       "    <tr>\n",
       "      <th>0</th>\n",
       "      <td>2021-10-22 07:00</td>\n",
       "    </tr>\n",
       "    <tr>\n",
       "      <th>1</th>\n",
       "      <td>2021-10-22 06:30</td>\n",
       "    </tr>\n",
       "  </tbody>\n",
       "</table>\n",
       "</div>"
      ],
      "text/plain": [
       "        RECORD_TIME\n",
       "0  2021-10-22 07:00\n",
       "1  2021-10-22 06:30"
      ]
     },
     "execution_count": 3,
     "metadata": {},
     "output_type": "execute_result"
    }
   ],
   "source": [
    "timestamps"
   ]
  },
  {
   "cell_type": "code",
   "execution_count": 4,
   "id": "alternate-victory",
   "metadata": {
    "execution": {
     "iopub.execute_input": "2021-10-22T05:00:09.857601Z",
     "iopub.status.busy": "2021-10-22T05:00:09.855659Z",
     "iopub.status.idle": "2021-10-22T05:00:10.749976Z",
     "shell.execute_reply": "2021-10-22T05:00:10.748501Z"
    },
    "papermill": {
     "duration": 0.92304,
     "end_time": "2021-10-22T05:00:10.750342",
     "exception": false,
     "start_time": "2021-10-22T05:00:09.827302",
     "status": "completed"
    },
    "tags": []
   },
   "outputs": [],
   "source": [
    "df = pd.read_sql(\"select * from EBAY_TOP_BERLIN where record_time in (select distinct record_time from EBAY_TOP_BERLIN order by record_time desc limit 2)\", sqlite3.connect(\"UsedObjects.db\"))"
   ]
  },
  {
   "cell_type": "code",
   "execution_count": 5,
   "id": "popular-active",
   "metadata": {
    "execution": {
     "iopub.execute_input": "2021-10-22T05:00:10.818400Z",
     "iopub.status.busy": "2021-10-22T05:00:10.807689Z",
     "iopub.status.idle": "2021-10-22T05:00:10.835005Z",
     "shell.execute_reply": "2021-10-22T05:00:10.836224Z"
    },
    "papermill": {
     "duration": 0.065502,
     "end_time": "2021-10-22T05:00:10.836624",
     "exception": false,
     "start_time": "2021-10-22T05:00:10.771122",
     "status": "completed"
    },
    "tags": []
   },
   "outputs": [],
   "source": [
    "df_pivot = df.pivot_table(index=\"PRODUCT\", columns = \"RECORD_TIME\", values = \"LISTING_COUNT\")"
   ]
  },
  {
   "cell_type": "code",
   "execution_count": 6,
   "id": "union-huntington",
   "metadata": {
    "execution": {
     "iopub.execute_input": "2021-10-22T05:00:10.893239Z",
     "iopub.status.busy": "2021-10-22T05:00:10.890880Z",
     "iopub.status.idle": "2021-10-22T05:00:10.896796Z",
     "shell.execute_reply": "2021-10-22T05:00:10.898112Z"
    },
    "papermill": {
     "duration": 0.041803,
     "end_time": "2021-10-22T05:00:10.898529",
     "exception": false,
     "start_time": "2021-10-22T05:00:10.856726",
     "status": "completed"
    },
    "tags": []
   },
   "outputs": [],
   "source": [
    "df_pivot.columns = [\"stamp_1\", \"stamp_2\"]\n",
    "df_pivot_diff = df_pivot.diff(axis=1)"
   ]
  },
  {
   "cell_type": "code",
   "execution_count": 7,
   "id": "fifth-motion",
   "metadata": {
    "execution": {
     "iopub.execute_input": "2021-10-22T05:00:10.951773Z",
     "iopub.status.busy": "2021-10-22T05:00:10.949442Z",
     "iopub.status.idle": "2021-10-22T05:00:12.405026Z",
     "shell.execute_reply": "2021-10-22T05:00:12.406383Z"
    },
    "papermill": {
     "duration": 1.488328,
     "end_time": "2021-10-22T05:00:12.406800",
     "exception": false,
     "start_time": "2021-10-22T05:00:10.918472",
     "status": "completed"
    },
    "tags": []
   },
   "outputs": [
    {
     "data": {
      "text/plain": [
       "<AxesSubplot:ylabel='PRODUCT'>"
      ]
     },
     "execution_count": 7,
     "metadata": {},
     "output_type": "execute_result"
    },
    {
     "data": {
      "image/png": "[encoded data removed]",
      "text/plain": [
       "<Figure size 432x288 with 1 Axes>"
      ]
     },
     "metadata": {
      "needs_background": "light"
     },
     "output_type": "display_data"
    }
   ],
   "source": [
    "df_pivot_diff.sort_values(\"stamp_2\", ascending = False)[\"stamp_2\"].head(10).plot.barh()"
   ]
  },
  {
   "cell_type": "code",
   "execution_count": null,
   "id": "extra-executive",
   "metadata": {
    "papermill": {
     "duration": 0.02222,
     "end_time": "2021-10-22T05:00:12.452884",
     "exception": false,
     "start_time": "2021-10-22T05:00:12.430664",
     "status": "completed"
    },
    "tags": []
   },
   "outputs": [],
   "source": []
  }
 ],
 "metadata": {
  "kernelspec": {
   "display_name": "Python 3",
   "language": "python",
   "name": "python3"
  },
  "language_info": {
   "codemirror_mode": {
    "name": "ipython",
    "version": 3
   },
   "file_extension": ".py",
   "mimetype": "text/x-python",
   "name": "python",
   "nbconvert_exporter": "python",
   "pygments_lexer": "ipython3",
   "version": "3.9.5"
  },
  "papermill": {
   "default_parameters": {},
   "duration": 7.828934,
   "end_time": "2021-10-22T05:00:13.608530",
   "environment_variables": {},
   "exception": null,
   "input_path": "eBay_Overview.ipynb",
   "output_path": "eBay_Overview.ipynb",
   "parameters": {},
   "start_time": "2021-10-22T05:00:05.779596",
   "version": "2.3.3"
  }
 },
 "nbformat": 4,
 "nbformat_minor": 5
}