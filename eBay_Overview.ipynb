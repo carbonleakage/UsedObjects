{
 "cells": [
  {
   "cell_type": "code",
   "execution_count": 1,
   "id": "reverse-picking",
   "metadata": {
    "execution": {
     "iopub.execute_input": "2021-08-31T14:00:07.531232Z",
     "iopub.status.busy": "2021-08-31T14:00:07.529218Z",
     "iopub.status.idle": "2021-08-31T14:00:08.418624Z",
     "shell.execute_reply": "2021-08-31T14:00:08.416930Z"
    },
    "papermill": {
     "duration": 0.939648,
     "end_time": "2021-08-31T14:00:08.419088",
     "exception": false,
     "start_time": "2021-08-31T14:00:07.479440",
     "status": "completed"
    },
    "tags": []
   },
   "outputs": [],
   "source": [
    "import pandas as pd\n",
    "import sqlite3"
   ]
  },
  {
   "cell_type": "code",
   "execution_count": 2,
   "id": "innovative-syndrome",
   "metadata": {
    "execution": {
     "iopub.execute_input": "2021-08-31T14:00:08.472500Z",
     "iopub.status.busy": "2021-08-31T14:00:08.470243Z",
     "iopub.status.idle": "2021-08-31T14:00:08.646270Z",
     "shell.execute_reply": "2021-08-31T14:00:08.647836Z"
    },
    "papermill": {
     "duration": 0.206655,
     "end_time": "2021-08-31T14:00:08.648270",
     "exception": false,
     "start_time": "2021-08-31T14:00:08.441615",
     "status": "completed"
    },
    "tags": []
   },
   "outputs": [],
   "source": [
    "timestamps = pd.read_sql(\"select distinct record_time from EBAY_TOP_BERLIN order by record_time desc limit 2\", sqlite3.connect(\"UsedObjects.db\"))"
   ]
  },
  {
   "cell_type": "code",
   "execution_count": 3,
   "id": "periodic-identification",
   "metadata": {
    "execution": {
     "iopub.execute_input": "2021-08-31T14:00:08.715881Z",
     "iopub.status.busy": "2021-08-31T14:00:08.713652Z",
     "iopub.status.idle": "2021-08-31T14:00:08.733906Z",
     "shell.execute_reply": "2021-08-31T14:00:08.735358Z"
    },
    "papermill": {
     "duration": 0.068193,
     "end_time": "2021-08-31T14:00:08.735823",
     "exception": false,
     "start_time": "2021-08-31T14:00:08.667630",
     "status": "completed"
    },
    "tags": []
   },
   "outputs": [
    {
     "data": {
      "text/html": [
       "<div>\n",
       "<style scoped>\n",
       "    .dataframe tbody tr th:only-of-type {\n",
       "        vertical-align: middle;\n",
       "    }\n",
       "\n",
       "    .dataframe tbody tr th {\n",
       "        vertical-align: top;\n",
       "    }\n",
       "\n",
       "    .dataframe thead th {\n",
       "        text-align: right;\n",
       "    }\n",
       "</style>\n",
       "<table border=\"1\" class=\"dataframe\">\n",
       "  <thead>\n",
       "    <tr style=\"text-align: right;\">\n",
       "      <th></th>\n",
       "      <th>RECORD_TIME</th>\n",
       "    </tr>\n",
       "  </thead>\n",
       "  <tbody>\n",
       "    <tr>\n",
       "      <th>0</th>\n",
       "      <td>2021-08-31 16:00</td>\n",
       "    </tr>\n",
       "    <tr>\n",
       "      <th>1</th>\n",
       "      <td>2021-08-31 15:30</td>\n",
       "    </tr>\n",
       "  </tbody>\n",
       "</table>\n",
       "</div>"
      ],
      "text/plain": [
       "        RECORD_TIME\n",
       "0  2021-08-31 16:00\n",
       "1  2021-08-31 15:30"
      ]
     },
     "execution_count": 3,
     "metadata": {},
     "output_type": "execute_result"
    }
   ],
   "source": [
    "timestamps"
   ]
  },
  {
   "cell_type": "code",
   "execution_count": 4,
   "id": "alternate-victory",
   "metadata": {
    "execution": {
     "iopub.execute_input": "2021-08-31T14:00:08.788674Z",
     "iopub.status.busy": "2021-08-31T14:00:08.786302Z",
     "iopub.status.idle": "2021-08-31T14:00:09.043912Z",
     "shell.execute_reply": "2021-08-31T14:00:09.045152Z"
    },
    "papermill": {
     "duration": 0.287925,
     "end_time": "2021-08-31T14:00:09.045550",
     "exception": false,
     "start_time": "2021-08-31T14:00:08.757625",
     "status": "completed"
    },
    "tags": []
   },
   "outputs": [],
   "source": [
    "df = pd.read_sql(\"select * from EBAY_TOP_BERLIN where record_time in (select distinct record_time from EBAY_TOP_BERLIN order by record_time desc limit 2)\", sqlite3.connect(\"UsedObjects.db\"))"
   ]
  },
  {
   "cell_type": "code",
   "execution_count": 5,
   "id": "popular-active",
   "metadata": {
    "execution": {
     "iopub.execute_input": "2021-08-31T14:00:09.126464Z",
     "iopub.status.busy": "2021-08-31T14:00:09.114222Z",
     "iopub.status.idle": "2021-08-31T14:00:09.142726Z",
     "shell.execute_reply": "2021-08-31T14:00:09.144109Z"
    },
    "papermill": {
     "duration": 0.070662,
     "end_time": "2021-08-31T14:00:09.144524",
     "exception": false,
     "start_time": "2021-08-31T14:00:09.073862",
     "status": "completed"
    },
    "tags": []
   },
   "outputs": [],
   "source": [
    "df_pivot = df.pivot_table(index=\"PRODUCT\", columns = \"RECORD_TIME\", values = \"LISTING_COUNT\")"
   ]
  },
  {
   "cell_type": "code",
   "execution_count": 6,
   "id": "union-huntington",
   "metadata": {
    "execution": {
     "iopub.execute_input": "2021-08-31T14:00:09.200755Z",
     "iopub.status.busy": "2021-08-31T14:00:09.198653Z",
     "iopub.status.idle": "2021-08-31T14:00:09.203996Z",
     "shell.execute_reply": "2021-08-31T14:00:09.205721Z"
    },
    "papermill": {
     "duration": 0.041384,
     "end_time": "2021-08-31T14:00:09.206264",
     "exception": false,
     "start_time": "2021-08-31T14:00:09.164880",
     "status": "completed"
    },
    "tags": []
   },
   "outputs": [],
   "source": [
    "df_pivot.columns = [\"stamp_1\", \"stamp_2\"]\n",
    "df_pivot_diff = df_pivot.diff(axis=1)"
   ]
  },
  {
   "cell_type": "code",
   "execution_count": 7,
   "id": "fifth-motion",
   "metadata": {
    "execution": {
     "iopub.execute_input": "2021-08-31T14:00:09.276581Z",
     "iopub.status.busy": "2021-08-31T14:00:09.274035Z",
     "iopub.status.idle": "2021-08-31T14:00:10.930290Z",
     "shell.execute_reply": "2021-08-31T14:00:10.931787Z"
    },
    "papermill": {
     "duration": 1.701805,
     "end_time": "2021-08-31T14:00:10.932242",
     "exception": false,
     "start_time": "2021-08-31T14:00:09.230437",
     "status": "completed"
    },
    "tags": []
   },
   "outputs": [
    {
     "data": {
      "text/plain": [
       "<AxesSubplot:ylabel='PRODUCT'>"
      ]
     },
     "execution_count": 7,
     "metadata": {},
     "output_type": "execute_result"
    },
    {
     "data": {
      "image/png": "[encoded data removed]",
      "text/plain": [
       "<Figure size 432x288 with 1 Axes>"
      ]
     },
     "metadata": {
      "needs_background": "light"
     },
     "output_type": "display_data"
    }
   ],
   "source": [
    "df_pivot_diff.sort_values(\"stamp_2\", ascending = False)[\"stamp_2\"].head(10).plot.barh()"
   ]
  },
  {
   "cell_type": "code",
   "execution_count": null,
   "id": "extra-executive",
   "metadata": {
    "papermill": {
     "duration": 0.025986,
     "end_time": "2021-08-31T14:00:10.982851",
     "exception": false,
     "start_time": "2021-08-31T14:00:10.956865",
     "status": "completed"
    },
    "tags": []
   },
   "outputs": [],
   "source": []
  }
 ],
 "metadata": {
  "kernelspec": {
   "display_name": "Python 3",
   "language": "python",
   "name": "python3"
  },
  "language_info": {
   "codemirror_mode": {
    "name": "ipython",
    "version": 3
   },
   "file_extension": ".py",
   "mimetype": "text/x-python",
   "name": "python",
   "nbconvert_exporter": "python",
   "pygments_lexer": "ipython3",
   "version": "3.9.5"
  },
  "papermill": {
   "default_parameters": {},
   "duration": 7.848747,
   "end_time": "2021-08-31T14:00:12.821286",
   "environment_variables": {},
   "exception": null,
   "input_path": "eBay_Overview.ipynb",
   "output_path": "eBay_Overview.ipynb",
   "parameters": {},
   "start_time": "2021-08-31T14:00:04.972539",
   "version": "2.3.3"
  }
 },
 "nbformat": 4,
 "nbformat_minor": 5
}