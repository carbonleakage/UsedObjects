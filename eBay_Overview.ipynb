{
 "cells": [
  {
   "cell_type": "code",
   "execution_count": 1,
   "id": "reverse-picking",
   "metadata": {
    "execution": {
     "iopub.execute_input": "2021-09-01T22:30:06.931453Z",
     "iopub.status.busy": "2021-09-01T22:30:06.929475Z",
     "iopub.status.idle": "2021-09-01T22:30:07.737193Z",
     "shell.execute_reply": "2021-09-01T22:30:07.735625Z"
    },
    "papermill": {
     "duration": 0.856689,
     "end_time": "2021-09-01T22:30:07.737597",
     "exception": false,
     "start_time": "2021-09-01T22:30:06.880908",
     "status": "completed"
    },
    "tags": []
   },
   "outputs": [],
   "source": [
    "import pandas as pd\n",
    "import sqlite3"
   ]
  },
  {
   "cell_type": "code",
   "execution_count": 2,
   "id": "innovative-syndrome",
   "metadata": {
    "execution": {
     "iopub.execute_input": "2021-09-01T22:30:07.790411Z",
     "iopub.status.busy": "2021-09-01T22:30:07.788136Z",
     "iopub.status.idle": "2021-09-01T22:30:07.975092Z",
     "shell.execute_reply": "2021-09-01T22:30:07.976303Z"
    },
    "papermill": {
     "duration": 0.217186,
     "end_time": "2021-09-01T22:30:07.976702",
     "exception": false,
     "start_time": "2021-09-01T22:30:07.759516",
     "status": "completed"
    },
    "tags": []
   },
   "outputs": [],
   "source": [
    "timestamps = pd.read_sql(\"select distinct record_time from EBAY_TOP_BERLIN order by record_time desc limit 2\", sqlite3.connect(\"UsedObjects.db\"))"
   ]
  },
  {
   "cell_type": "code",
   "execution_count": 3,
   "id": "periodic-identification",
   "metadata": {
    "execution": {
     "iopub.execute_input": "2021-09-01T22:30:08.045464Z",
     "iopub.status.busy": "2021-09-01T22:30:08.043472Z",
     "iopub.status.idle": "2021-09-01T22:30:08.063304Z",
     "shell.execute_reply": "2021-09-01T22:30:08.065038Z"
    },
    "papermill": {
     "duration": 0.066131,
     "end_time": "2021-09-01T22:30:08.065577",
     "exception": false,
     "start_time": "2021-09-01T22:30:07.999446",
     "status": "completed"
    },
    "tags": []
   },
   "outputs": [
    {
     "data": {
      "text/html": [
       "<div>\n",
       "<style scoped>\n",
       "    .dataframe tbody tr th:only-of-type {\n",
       "        vertical-align: middle;\n",
       "    }\n",
       "\n",
       "    .dataframe tbody tr th {\n",
       "        vertical-align: top;\n",
       "    }\n",
       "\n",
       "    .dataframe thead th {\n",
       "        text-align: right;\n",
       "    }\n",
       "</style>\n",
       "<table border=\"1\" class=\"dataframe\">\n",
       "  <thead>\n",
       "    <tr style=\"text-align: right;\">\n",
       "      <th></th>\n",
       "      <th>RECORD_TIME</th>\n",
       "    </tr>\n",
       "  </thead>\n",
       "  <tbody>\n",
       "    <tr>\n",
       "      <th>0</th>\n",
       "      <td>2021-09-02 00:30</td>\n",
       "    </tr>\n",
       "    <tr>\n",
       "      <th>1</th>\n",
       "      <td>2021-09-02 00:00</td>\n",
       "    </tr>\n",
       "  </tbody>\n",
       "</table>\n",
       "</div>"
      ],
      "text/plain": [
       "        RECORD_TIME\n",
       "0  2021-09-02 00:30\n",
       "1  2021-09-02 00:00"
      ]
     },
     "execution_count": 3,
     "metadata": {},
     "output_type": "execute_result"
    }
   ],
   "source": [
    "timestamps"
   ]
  },
  {
   "cell_type": "code",
   "execution_count": 4,
   "id": "alternate-victory",
   "metadata": {
    "execution": {
     "iopub.execute_input": "2021-09-01T22:30:08.118892Z",
     "iopub.status.busy": "2021-09-01T22:30:08.117052Z",
     "iopub.status.idle": "2021-09-01T22:30:08.396034Z",
     "shell.execute_reply": "2021-09-01T22:30:08.397242Z"
    },
    "papermill": {
     "duration": 0.309039,
     "end_time": "2021-09-01T22:30:08.397641",
     "exception": false,
     "start_time": "2021-09-01T22:30:08.088602",
     "status": "completed"
    },
    "tags": []
   },
   "outputs": [],
   "source": [
    "df = pd.read_sql(\"select * from EBAY_TOP_BERLIN where record_time in (select distinct record_time from EBAY_TOP_BERLIN order by record_time desc limit 2)\", sqlite3.connect(\"UsedObjects.db\"))"
   ]
  },
  {
   "cell_type": "code",
   "execution_count": 5,
   "id": "popular-active",
   "metadata": {
    "execution": {
     "iopub.execute_input": "2021-09-01T22:30:08.489889Z",
     "iopub.status.busy": "2021-09-01T22:30:08.478143Z",
     "iopub.status.idle": "2021-09-01T22:30:08.506762Z",
     "shell.execute_reply": "2021-09-01T22:30:08.508137Z"
    },
    "papermill": {
     "duration": 0.075923,
     "end_time": "2021-09-01T22:30:08.508559",
     "exception": false,
     "start_time": "2021-09-01T22:30:08.432636",
     "status": "completed"
    },
    "tags": []
   },
   "outputs": [],
   "source": [
    "df_pivot = df.pivot_table(index=\"PRODUCT\", columns = \"RECORD_TIME\", values = \"LISTING_COUNT\")"
   ]
  },
  {
   "cell_type": "code",
   "execution_count": 6,
   "id": "union-huntington",
   "metadata": {
    "execution": {
     "iopub.execute_input": "2021-09-01T22:30:08.564592Z",
     "iopub.status.busy": "2021-09-01T22:30:08.562493Z",
     "iopub.status.idle": "2021-09-01T22:30:08.567600Z",
     "shell.execute_reply": "2021-09-01T22:30:08.568865Z"
    },
    "papermill": {
     "duration": 0.04036,
     "end_time": "2021-09-01T22:30:08.569283",
     "exception": false,
     "start_time": "2021-09-01T22:30:08.528923",
     "status": "completed"
    },
    "tags": []
   },
   "outputs": [],
   "source": [
    "df_pivot.columns = [\"stamp_1\", \"stamp_2\"]\n",
    "df_pivot_diff = df_pivot.diff(axis=1)"
   ]
  },
  {
   "cell_type": "code",
   "execution_count": 7,
   "id": "fifth-motion",
   "metadata": {
    "execution": {
     "iopub.execute_input": "2021-09-01T22:30:08.623675Z",
     "iopub.status.busy": "2021-09-01T22:30:08.621120Z",
     "iopub.status.idle": "2021-09-01T22:30:10.074180Z",
     "shell.execute_reply": "2021-09-01T22:30:10.075517Z"
    },
    "papermill": {
     "duration": 1.486147,
     "end_time": "2021-09-01T22:30:10.075943",
     "exception": false,
     "start_time": "2021-09-01T22:30:08.589796",
     "status": "completed"
    },
    "tags": []
   },
   "outputs": [
    {
     "data": {
      "text/plain": [
       "<AxesSubplot:ylabel='PRODUCT'>"
      ]
     },
     "execution_count": 7,
     "metadata": {},
     "output_type": "execute_result"
    },
    {
     "data": {
      "image/png": "[encoded data removed]",
      "text/plain": [
       "<Figure size 432x288 with 1 Axes>"
      ]
     },
     "metadata": {
      "needs_background": "light"
     },
     "output_type": "display_data"
    }
   ],
   "source": [
    "df_pivot_diff.sort_values(\"stamp_2\", ascending = False)[\"stamp_2\"].head(10).plot.barh()"
   ]
  },
  {
   "cell_type": "code",
   "execution_count": null,
   "id": "extra-executive",
   "metadata": {
    "papermill": {
     "duration": 0.02232,
     "end_time": "2021-09-01T22:30:10.123163",
     "exception": false,
     "start_time": "2021-09-01T22:30:10.100843",
     "status": "completed"
    },
    "tags": []
   },
   "outputs": [],
   "source": []
  }
 ],
 "metadata": {
  "kernelspec": {
   "display_name": "Python 3",
   "language": "python",
   "name": "python3"
  },
  "language_info": {
   "codemirror_mode": {
    "name": "ipython",
    "version": 3
   },
   "file_extension": ".py",
   "mimetype": "text/x-python",
   "name": "python",
   "nbconvert_exporter": "python",
   "pygments_lexer": "ipython3",
   "version": "3.9.5"
  },
  "papermill": {
   "default_parameters": {},
   "duration": 6.822878,
   "end_time": "2021-09-01T22:30:11.300923",
   "environment_variables": {},
   "exception": null,
   "input_path": "eBay_Overview.ipynb",
   "output_path": "eBay_Overview.ipynb",
   "parameters": {},
   "start_time": "2021-09-01T22:30:04.478045",
   "version": "2.3.3"
  }
 },
 "nbformat": 4,
 "nbformat_minor": 5
}