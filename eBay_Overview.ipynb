{
 "cells": [
  {
   "cell_type": "code",
   "execution_count": 1,
   "id": "reverse-picking",
   "metadata": {
    "execution": {
     "iopub.execute_input": "2021-08-27T03:30:06.783161Z",
     "iopub.status.busy": "2021-08-27T03:30:06.781224Z",
     "iopub.status.idle": "2021-08-27T03:30:07.584524Z",
     "shell.execute_reply": "2021-08-27T03:30:07.585882Z"
    },
    "papermill": {
     "duration": 0.853388,
     "end_time": "2021-08-27T03:30:07.586525",
     "exception": false,
     "start_time": "2021-08-27T03:30:06.733137",
     "status": "completed"
    },
    "tags": []
   },
   "outputs": [],
   "source": [
    "import pandas as pd\n",
    "import sqlite3"
   ]
  },
  {
   "cell_type": "code",
   "execution_count": 2,
   "id": "innovative-syndrome",
   "metadata": {
    "execution": {
     "iopub.execute_input": "2021-08-27T03:30:07.637152Z",
     "iopub.status.busy": "2021-08-27T03:30:07.635200Z",
     "iopub.status.idle": "2021-08-27T03:30:07.772649Z",
     "shell.execute_reply": "2021-08-27T03:30:07.773896Z"
    },
    "papermill": {
     "duration": 0.166707,
     "end_time": "2021-08-27T03:30:07.774287",
     "exception": false,
     "start_time": "2021-08-27T03:30:07.607580",
     "status": "completed"
    },
    "tags": []
   },
   "outputs": [],
   "source": [
    "timestamps = pd.read_sql(\"select distinct record_time from EBAY_TOP_BERLIN order by record_time desc limit 2\", sqlite3.connect(\"UsedObjects.db\"))"
   ]
  },
  {
   "cell_type": "code",
   "execution_count": 3,
   "id": "periodic-identification",
   "metadata": {
    "execution": {
     "iopub.execute_input": "2021-08-27T03:30:07.839493Z",
     "iopub.status.busy": "2021-08-27T03:30:07.837368Z",
     "iopub.status.idle": "2021-08-27T03:30:07.857986Z",
     "shell.execute_reply": "2021-08-27T03:30:07.859131Z"
    },
    "papermill": {
     "duration": 0.065716,
     "end_time": "2021-08-27T03:30:07.859541",
     "exception": false,
     "start_time": "2021-08-27T03:30:07.793825",
     "status": "completed"
    },
    "tags": []
   },
   "outputs": [
    {
     "data": {
      "text/html": [
       "<div>\n",
       "<style scoped>\n",
       "    .dataframe tbody tr th:only-of-type {\n",
       "        vertical-align: middle;\n",
       "    }\n",
       "\n",
       "    .dataframe tbody tr th {\n",
       "        vertical-align: top;\n",
       "    }\n",
       "\n",
       "    .dataframe thead th {\n",
       "        text-align: right;\n",
       "    }\n",
       "</style>\n",
       "<table border=\"1\" class=\"dataframe\">\n",
       "  <thead>\n",
       "    <tr style=\"text-align: right;\">\n",
       "      <th></th>\n",
       "      <th>RECORD_TIME</th>\n",
       "    </tr>\n",
       "  </thead>\n",
       "  <tbody>\n",
       "    <tr>\n",
       "      <th>0</th>\n",
       "      <td>2021-08-27 05:30</td>\n",
       "    </tr>\n",
       "    <tr>\n",
       "      <th>1</th>\n",
       "      <td>2021-08-27 05:00</td>\n",
       "    </tr>\n",
       "  </tbody>\n",
       "</table>\n",
       "</div>"
      ],
      "text/plain": [
       "        RECORD_TIME\n",
       "0  2021-08-27 05:30\n",
       "1  2021-08-27 05:00"
      ]
     },
     "execution_count": 3,
     "metadata": {},
     "output_type": "execute_result"
    }
   ],
   "source": [
    "timestamps"
   ]
  },
  {
   "cell_type": "code",
   "execution_count": 4,
   "id": "alternate-victory",
   "metadata": {
    "execution": {
     "iopub.execute_input": "2021-08-27T03:30:07.911888Z",
     "iopub.status.busy": "2021-08-27T03:30:07.909604Z",
     "iopub.status.idle": "2021-08-27T03:30:08.118701Z",
     "shell.execute_reply": "2021-08-27T03:30:08.119927Z"
    },
    "papermill": {
     "duration": 0.239236,
     "end_time": "2021-08-27T03:30:08.120366",
     "exception": false,
     "start_time": "2021-08-27T03:30:07.881130",
     "status": "completed"
    },
    "tags": []
   },
   "outputs": [],
   "source": [
    "df = pd.read_sql(\"select * from EBAY_TOP_BERLIN where record_time in (select distinct record_time from EBAY_TOP_BERLIN order by record_time desc limit 2)\", sqlite3.connect(\"UsedObjects.db\"))"
   ]
  },
  {
   "cell_type": "code",
   "execution_count": 5,
   "id": "popular-active",
   "metadata": {
    "execution": {
     "iopub.execute_input": "2021-08-27T03:30:08.192789Z",
     "iopub.status.busy": "2021-08-27T03:30:08.179917Z",
     "iopub.status.idle": "2021-08-27T03:30:08.208415Z",
     "shell.execute_reply": "2021-08-27T03:30:08.209672Z"
    },
    "papermill": {
     "duration": 0.068888,
     "end_time": "2021-08-27T03:30:08.210072",
     "exception": false,
     "start_time": "2021-08-27T03:30:08.141184",
     "status": "completed"
    },
    "tags": []
   },
   "outputs": [],
   "source": [
    "df_pivot = df.pivot_table(index=\"PRODUCT\", columns = \"RECORD_TIME\", values = \"LISTING_COUNT\")"
   ]
  },
  {
   "cell_type": "code",
   "execution_count": 6,
   "id": "union-huntington",
   "metadata": {
    "execution": {
     "iopub.execute_input": "2021-08-27T03:30:08.275959Z",
     "iopub.status.busy": "2021-08-27T03:30:08.273762Z",
     "iopub.status.idle": "2021-08-27T03:30:08.279198Z",
     "shell.execute_reply": "2021-08-27T03:30:08.280797Z"
    },
    "papermill": {
     "duration": 0.044761,
     "end_time": "2021-08-27T03:30:08.281253",
     "exception": false,
     "start_time": "2021-08-27T03:30:08.236492",
     "status": "completed"
    },
    "tags": []
   },
   "outputs": [],
   "source": [
    "df_pivot.columns = [\"stamp_1\", \"stamp_2\"]\n",
    "df_pivot_diff = df_pivot.diff(axis=1)"
   ]
  },
  {
   "cell_type": "code",
   "execution_count": 7,
   "id": "fifth-motion",
   "metadata": {
    "execution": {
     "iopub.execute_input": "2021-08-27T03:30:08.335763Z",
     "iopub.status.busy": "2021-08-27T03:30:08.333586Z",
     "iopub.status.idle": "2021-08-27T03:30:09.848860Z",
     "shell.execute_reply": "2021-08-27T03:30:09.850165Z"
    },
    "papermill": {
     "duration": 1.547614,
     "end_time": "2021-08-27T03:30:09.850576",
     "exception": false,
     "start_time": "2021-08-27T03:30:08.302962",
     "status": "completed"
    },
    "tags": []
   },
   "outputs": [
    {
     "data": {
      "text/plain": [
       "<AxesSubplot:ylabel='PRODUCT'>"
      ]
     },
     "execution_count": 7,
     "metadata": {},
     "output_type": "execute_result"
    },
    {
     "data": {
      "image/png": "[encoded data removed]",
      "text/plain": [
       "<Figure size 432x288 with 1 Axes>"
      ]
     },
     "metadata": {
      "needs_background": "light"
     },
     "output_type": "display_data"
    }
   ],
   "source": [
    "df_pivot_diff.sort_values(\"stamp_2\", ascending = False)[\"stamp_2\"].head(10).plot.barh()"
   ]
  },
  {
   "cell_type": "code",
   "execution_count": null,
   "id": "extra-executive",
   "metadata": {
    "papermill": {
     "duration": 0.022103,
     "end_time": "2021-08-27T03:30:09.897155",
     "exception": false,
     "start_time": "2021-08-27T03:30:09.875052",
     "status": "completed"
    },
    "tags": []
   },
   "outputs": [],
   "source": []
  }
 ],
 "metadata": {
  "kernelspec": {
   "display_name": "Python 3",
   "language": "python",
   "name": "python3"
  },
  "language_info": {
   "codemirror_mode": {
    "name": "ipython",
    "version": 3
   },
   "file_extension": ".py",
   "mimetype": "text/x-python",
   "name": "python",
   "nbconvert_exporter": "python",
   "pygments_lexer": "ipython3",
   "version": "3.9.5"
  },
  "papermill": {
   "default_parameters": {},
   "duration": 6.82621,
   "end_time": "2021-08-27T03:30:11.163450",
   "environment_variables": {},
   "exception": null,
   "input_path": "eBay_Overview.ipynb",
   "output_path": "eBay_Overview.ipynb",
   "parameters": {},
   "start_time": "2021-08-27T03:30:04.337240",
   "version": "2.3.3"
  }
 },
 "nbformat": 4,
 "nbformat_minor": 5
}