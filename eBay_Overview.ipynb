{
 "cells": [
  {
   "cell_type": "code",
   "execution_count": 1,
   "id": "reverse-picking",
   "metadata": {
    "execution": {
     "iopub.execute_input": "2021-08-15T04:00:07.452324Z",
     "iopub.status.busy": "2021-08-15T04:00:07.450396Z",
     "iopub.status.idle": "2021-08-15T04:00:08.258828Z",
     "shell.execute_reply": "2021-08-15T04:00:08.260082Z"
    },
    "papermill": {
     "duration": 0.860323,
     "end_time": "2021-08-15T04:00:08.260688",
     "exception": false,
     "start_time": "2021-08-15T04:00:07.400365",
     "status": "completed"
    },
    "tags": []
   },
   "outputs": [],
   "source": [
    "import pandas as pd\n",
    "import sqlite3"
   ]
  },
  {
   "cell_type": "code",
   "execution_count": 2,
   "id": "innovative-syndrome",
   "metadata": {
    "execution": {
     "iopub.execute_input": "2021-08-15T04:00:08.312425Z",
     "iopub.status.busy": "2021-08-15T04:00:08.310257Z",
     "iopub.status.idle": "2021-08-15T04:00:08.363537Z",
     "shell.execute_reply": "2021-08-15T04:00:08.364733Z"
    },
    "papermill": {
     "duration": 0.08291,
     "end_time": "2021-08-15T04:00:08.365123",
     "exception": false,
     "start_time": "2021-08-15T04:00:08.282213",
     "status": "completed"
    },
    "tags": []
   },
   "outputs": [],
   "source": [
    "timestamps = pd.read_sql(\"select distinct record_time from EBAY_TOP_BERLIN order by record_time desc limit 2\", sqlite3.connect(\"UsedObjects.db\"))"
   ]
  },
  {
   "cell_type": "code",
   "execution_count": 3,
   "id": "periodic-identification",
   "metadata": {
    "execution": {
     "iopub.execute_input": "2021-08-15T04:00:08.430041Z",
     "iopub.status.busy": "2021-08-15T04:00:08.427957Z",
     "iopub.status.idle": "2021-08-15T04:00:08.448155Z",
     "shell.execute_reply": "2021-08-15T04:00:08.449340Z"
    },
    "papermill": {
     "duration": 0.0636,
     "end_time": "2021-08-15T04:00:08.449763",
     "exception": false,
     "start_time": "2021-08-15T04:00:08.386163",
     "status": "completed"
    },
    "tags": []
   },
   "outputs": [
    {
     "data": {
      "text/html": [
       "<div>\n",
       "<style scoped>\n",
       "    .dataframe tbody tr th:only-of-type {\n",
       "        vertical-align: middle;\n",
       "    }\n",
       "\n",
       "    .dataframe tbody tr th {\n",
       "        vertical-align: top;\n",
       "    }\n",
       "\n",
       "    .dataframe thead th {\n",
       "        text-align: right;\n",
       "    }\n",
       "</style>\n",
       "<table border=\"1\" class=\"dataframe\">\n",
       "  <thead>\n",
       "    <tr style=\"text-align: right;\">\n",
       "      <th></th>\n",
       "      <th>RECORD_TIME</th>\n",
       "    </tr>\n",
       "  </thead>\n",
       "  <tbody>\n",
       "    <tr>\n",
       "      <th>0</th>\n",
       "      <td>2021-08-15 06:00</td>\n",
       "    </tr>\n",
       "    <tr>\n",
       "      <th>1</th>\n",
       "      <td>2021-08-15 05:30</td>\n",
       "    </tr>\n",
       "  </tbody>\n",
       "</table>\n",
       "</div>"
      ],
      "text/plain": [
       "        RECORD_TIME\n",
       "0  2021-08-15 06:00\n",
       "1  2021-08-15 05:30"
      ]
     },
     "execution_count": 3,
     "metadata": {},
     "output_type": "execute_result"
    }
   ],
   "source": [
    "timestamps"
   ]
  },
  {
   "cell_type": "code",
   "execution_count": 4,
   "id": "alternate-victory",
   "metadata": {
    "execution": {
     "iopub.execute_input": "2021-08-15T04:00:08.502107Z",
     "iopub.status.busy": "2021-08-15T04:00:08.500171Z",
     "iopub.status.idle": "2021-08-15T04:00:08.575942Z",
     "shell.execute_reply": "2021-08-15T04:00:08.577208Z"
    },
    "papermill": {
     "duration": 0.105647,
     "end_time": "2021-08-15T04:00:08.577611",
     "exception": false,
     "start_time": "2021-08-15T04:00:08.471964",
     "status": "completed"
    },
    "tags": []
   },
   "outputs": [],
   "source": [
    "df = pd.read_sql(\"select * from EBAY_TOP_BERLIN where record_time in (select distinct record_time from EBAY_TOP_BERLIN order by record_time desc limit 2)\", sqlite3.connect(\"UsedObjects.db\"))"
   ]
  },
  {
   "cell_type": "code",
   "execution_count": 5,
   "id": "popular-active",
   "metadata": {
    "execution": {
     "iopub.execute_input": "2021-08-15T04:00:08.643078Z",
     "iopub.status.busy": "2021-08-15T04:00:08.635756Z",
     "iopub.status.idle": "2021-08-15T04:00:08.665391Z",
     "shell.execute_reply": "2021-08-15T04:00:08.666829Z"
    },
    "papermill": {
     "duration": 0.069431,
     "end_time": "2021-08-15T04:00:08.667241",
     "exception": false,
     "start_time": "2021-08-15T04:00:08.597810",
     "status": "completed"
    },
    "tags": []
   },
   "outputs": [],
   "source": [
    "df_pivot = df.pivot_table(index=\"PRODUCT\", columns = \"RECORD_TIME\", values = \"LISTING_COUNT\")"
   ]
  },
  {
   "cell_type": "code",
   "execution_count": 6,
   "id": "union-huntington",
   "metadata": {
    "execution": {
     "iopub.execute_input": "2021-08-15T04:00:08.725695Z",
     "iopub.status.busy": "2021-08-15T04:00:08.723563Z",
     "iopub.status.idle": "2021-08-15T04:00:08.729100Z",
     "shell.execute_reply": "2021-08-15T04:00:08.730424Z"
    },
    "papermill": {
     "duration": 0.04153,
     "end_time": "2021-08-15T04:00:08.730858",
     "exception": false,
     "start_time": "2021-08-15T04:00:08.689328",
     "status": "completed"
    },
    "tags": []
   },
   "outputs": [],
   "source": [
    "df_pivot.columns = [\"stamp_1\", \"stamp_2\"]\n",
    "df_pivot_diff = df_pivot.diff(axis=1)"
   ]
  },
  {
   "cell_type": "code",
   "execution_count": 7,
   "id": "fifth-motion",
   "metadata": {
    "execution": {
     "iopub.execute_input": "2021-08-15T04:00:08.787164Z",
     "iopub.status.busy": "2021-08-15T04:00:08.784593Z",
     "iopub.status.idle": "2021-08-15T04:00:10.287197Z",
     "shell.execute_reply": "2021-08-15T04:00:10.288465Z"
    },
    "papermill": {
     "duration": 1.535724,
     "end_time": "2021-08-15T04:00:10.288875",
     "exception": false,
     "start_time": "2021-08-15T04:00:08.753151",
     "status": "completed"
    },
    "tags": []
   },
   "outputs": [
    {
     "data": {
      "text/plain": [
       "<AxesSubplot:ylabel='PRODUCT'>"
      ]
     },
     "execution_count": 7,
     "metadata": {},
     "output_type": "execute_result"
    },
    {
     "data": {
      "image/png": "[encoded data removed]",
      "text/plain": [
       "<Figure size 432x288 with 1 Axes>"
      ]
     },
     "metadata": {
      "needs_background": "light"
     },
     "output_type": "display_data"
    }
   ],
   "source": [
    "df_pivot_diff.sort_values(\"stamp_2\", ascending = False)[\"stamp_2\"].head(10).plot.barh()"
   ]
  },
  {
   "cell_type": "code",
   "execution_count": null,
   "id": "extra-executive",
   "metadata": {
    "papermill": {
     "duration": 0.022255,
     "end_time": "2021-08-15T04:00:10.335617",
     "exception": false,
     "start_time": "2021-08-15T04:00:10.313362",
     "status": "completed"
    },
    "tags": []
   },
   "outputs": [],
   "source": []
  }
 ],
 "metadata": {
  "kernelspec": {
   "display_name": "Python 3",
   "language": "python",
   "name": "python3"
  },
  "language_info": {
   "codemirror_mode": {
    "name": "ipython",
    "version": 3
   },
   "file_extension": ".py",
   "mimetype": "text/x-python",
   "name": "python",
   "nbconvert_exporter": "python",
   "pygments_lexer": "ipython3",
   "version": "3.9.5"
  },
  "papermill": {
   "default_parameters": {},
   "duration": 6.82639,
   "end_time": "2021-08-15T04:00:11.810076",
   "environment_variables": {},
   "exception": null,
   "input_path": "eBay_Overview.ipynb",
   "output_path": "eBay_Overview.ipynb",
   "parameters": {},
   "start_time": "2021-08-15T04:00:04.983686",
   "version": "2.3.3"
  }
 },
 "nbformat": 4,
 "nbformat_minor": 5
}