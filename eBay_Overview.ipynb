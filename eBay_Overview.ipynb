{
 "cells": [
  {
   "cell_type": "code",
   "execution_count": 1,
   "id": "reverse-picking",
   "metadata": {
    "execution": {
     "iopub.execute_input": "2021-10-05T22:30:07.256831Z",
     "iopub.status.busy": "2021-10-05T22:30:07.254730Z",
     "iopub.status.idle": "2021-10-05T22:30:08.058770Z",
     "shell.execute_reply": "2021-10-05T22:30:08.060089Z"
    },
    "papermill": {
     "duration": 0.854448,
     "end_time": "2021-10-05T22:30:08.060714",
     "exception": false,
     "start_time": "2021-10-05T22:30:07.206266",
     "status": "completed"
    },
    "tags": []
   },
   "outputs": [],
   "source": [
    "import pandas as pd\n",
    "import sqlite3"
   ]
  },
  {
   "cell_type": "code",
   "execution_count": 2,
   "id": "innovative-syndrome",
   "metadata": {
    "execution": {
     "iopub.execute_input": "2021-10-05T22:30:08.114183Z",
     "iopub.status.busy": "2021-10-05T22:30:08.111897Z",
     "iopub.status.idle": "2021-10-05T22:30:08.578240Z",
     "shell.execute_reply": "2021-10-05T22:30:08.579670Z"
    },
    "papermill": {
     "duration": 0.49624,
     "end_time": "2021-10-05T22:30:08.580090",
     "exception": false,
     "start_time": "2021-10-05T22:30:08.083850",
     "status": "completed"
    },
    "tags": []
   },
   "outputs": [],
   "source": [
    "timestamps = pd.read_sql(\"select distinct record_time from EBAY_TOP_BERLIN order by record_time desc limit 2\", sqlite3.connect(\"UsedObjects.db\"))"
   ]
  },
  {
   "cell_type": "code",
   "execution_count": 3,
   "id": "periodic-identification",
   "metadata": {
    "execution": {
     "iopub.execute_input": "2021-10-05T22:30:08.644923Z",
     "iopub.status.busy": "2021-10-05T22:30:08.642888Z",
     "iopub.status.idle": "2021-10-05T22:30:08.663269Z",
     "shell.execute_reply": "2021-10-05T22:30:08.664743Z"
    },
    "papermill": {
     "duration": 0.065899,
     "end_time": "2021-10-05T22:30:08.665180",
     "exception": false,
     "start_time": "2021-10-05T22:30:08.599281",
     "status": "completed"
    },
    "tags": []
   },
   "outputs": [
    {
     "data": {
      "text/html": [
       "<div>\n",
       "<style scoped>\n",
       "    .dataframe tbody tr th:only-of-type {\n",
       "        vertical-align: middle;\n",
       "    }\n",
       "\n",
       "    .dataframe tbody tr th {\n",
       "        vertical-align: top;\n",
       "    }\n",
       "\n",
       "    .dataframe thead th {\n",
       "        text-align: right;\n",
       "    }\n",
       "</style>\n",
       "<table border=\"1\" class=\"dataframe\">\n",
       "  <thead>\n",
       "    <tr style=\"text-align: right;\">\n",
       "      <th></th>\n",
       "      <th>RECORD_TIME</th>\n",
       "    </tr>\n",
       "  </thead>\n",
       "  <tbody>\n",
       "    <tr>\n",
       "      <th>0</th>\n",
       "      <td>2021-10-06 00:30</td>\n",
       "    </tr>\n",
       "    <tr>\n",
       "      <th>1</th>\n",
       "      <td>2021-10-06 00:00</td>\n",
       "    </tr>\n",
       "  </tbody>\n",
       "</table>\n",
       "</div>"
      ],
      "text/plain": [
       "        RECORD_TIME\n",
       "0  2021-10-06 00:30\n",
       "1  2021-10-06 00:00"
      ]
     },
     "execution_count": 3,
     "metadata": {},
     "output_type": "execute_result"
    }
   ],
   "source": [
    "timestamps"
   ]
  },
  {
   "cell_type": "code",
   "execution_count": 4,
   "id": "alternate-victory",
   "metadata": {
    "execution": {
     "iopub.execute_input": "2021-10-05T22:30:08.738556Z",
     "iopub.status.busy": "2021-10-05T22:30:08.736632Z",
     "iopub.status.idle": "2021-10-05T22:30:09.438503Z",
     "shell.execute_reply": "2021-10-05T22:30:09.439858Z"
    },
    "papermill": {
     "duration": 0.738661,
     "end_time": "2021-10-05T22:30:09.440278",
     "exception": false,
     "start_time": "2021-10-05T22:30:08.701617",
     "status": "completed"
    },
    "tags": []
   },
   "outputs": [],
   "source": [
    "df = pd.read_sql(\"select * from EBAY_TOP_BERLIN where record_time in (select distinct record_time from EBAY_TOP_BERLIN order by record_time desc limit 2)\", sqlite3.connect(\"UsedObjects.db\"))"
   ]
  },
  {
   "cell_type": "code",
   "execution_count": 5,
   "id": "popular-active",
   "metadata": {
    "execution": {
     "iopub.execute_input": "2021-10-05T22:30:09.510174Z",
     "iopub.status.busy": "2021-10-05T22:30:09.498511Z",
     "iopub.status.idle": "2021-10-05T22:30:09.526000Z",
     "shell.execute_reply": "2021-10-05T22:30:09.527428Z"
    },
    "papermill": {
     "duration": 0.066941,
     "end_time": "2021-10-05T22:30:09.527840",
     "exception": false,
     "start_time": "2021-10-05T22:30:09.460899",
     "status": "completed"
    },
    "tags": []
   },
   "outputs": [],
   "source": [
    "df_pivot = df.pivot_table(index=\"PRODUCT\", columns = \"RECORD_TIME\", values = \"LISTING_COUNT\")"
   ]
  },
  {
   "cell_type": "code",
   "execution_count": 6,
   "id": "union-huntington",
   "metadata": {
    "execution": {
     "iopub.execute_input": "2021-10-05T22:30:09.585624Z",
     "iopub.status.busy": "2021-10-05T22:30:09.583194Z",
     "iopub.status.idle": "2021-10-05T22:30:09.589061Z",
     "shell.execute_reply": "2021-10-05T22:30:09.590326Z"
    },
    "papermill": {
     "duration": 0.041607,
     "end_time": "2021-10-05T22:30:09.590731",
     "exception": false,
     "start_time": "2021-10-05T22:30:09.549124",
     "status": "completed"
    },
    "tags": []
   },
   "outputs": [],
   "source": [
    "df_pivot.columns = [\"stamp_1\", \"stamp_2\"]\n",
    "df_pivot_diff = df_pivot.diff(axis=1)"
   ]
  },
  {
   "cell_type": "code",
   "execution_count": 7,
   "id": "fifth-motion",
   "metadata": {
    "execution": {
     "iopub.execute_input": "2021-10-05T22:30:09.645819Z",
     "iopub.status.busy": "2021-10-05T22:30:09.643451Z",
     "iopub.status.idle": "2021-10-05T22:30:11.128771Z",
     "shell.execute_reply": "2021-10-05T22:30:11.130034Z"
    },
    "papermill": {
     "duration": 1.519712,
     "end_time": "2021-10-05T22:30:11.130443",
     "exception": false,
     "start_time": "2021-10-05T22:30:09.610731",
     "status": "completed"
    },
    "tags": []
   },
   "outputs": [
    {
     "data": {
      "text/plain": [
       "<AxesSubplot:ylabel='PRODUCT'>"
      ]
     },
     "execution_count": 7,
     "metadata": {},
     "output_type": "execute_result"
    },
    {
     "data": {
      "image/png": "[encoded data removed]",
      "text/plain": [
       "<Figure size 432x288 with 1 Axes>"
      ]
     },
     "metadata": {
      "needs_background": "light"
     },
     "output_type": "display_data"
    }
   ],
   "source": [
    "df_pivot_diff.sort_values(\"stamp_2\", ascending = False)[\"stamp_2\"].head(10).plot.barh()"
   ]
  },
  {
   "cell_type": "code",
   "execution_count": null,
   "id": "extra-executive",
   "metadata": {
    "papermill": {
     "duration": 0.021978,
     "end_time": "2021-10-05T22:30:11.177710",
     "exception": false,
     "start_time": "2021-10-05T22:30:11.155732",
     "status": "completed"
    },
    "tags": []
   },
   "outputs": [],
   "source": []
  }
 ],
 "metadata": {
  "kernelspec": {
   "display_name": "Python 3",
   "language": "python",
   "name": "python3"
  },
  "language_info": {
   "codemirror_mode": {
    "name": "ipython",
    "version": 3
   },
   "file_extension": ".py",
   "mimetype": "text/x-python",
   "name": "python",
   "nbconvert_exporter": "python",
   "pygments_lexer": "ipython3",
   "version": "3.9.5"
  },
  "papermill": {
   "default_parameters": {},
   "duration": 7.833542,
   "end_time": "2021-10-05T22:30:12.632593",
   "environment_variables": {},
   "exception": null,
   "input_path": "eBay_Overview.ipynb",
   "output_path": "eBay_Overview.ipynb",
   "parameters": {},
   "start_time": "2021-10-05T22:30:04.799051",
   "version": "2.3.3"
  }
 },
 "nbformat": 4,
 "nbformat_minor": 5
}