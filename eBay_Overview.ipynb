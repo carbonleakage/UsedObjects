{
 "cells": [
  {
   "cell_type": "code",
   "execution_count": 1,
   "id": "reverse-picking",
   "metadata": {
    "execution": {
     "iopub.execute_input": "2021-09-09T05:00:07.557231Z",
     "iopub.status.busy": "2021-09-09T05:00:07.555293Z",
     "iopub.status.idle": "2021-09-09T05:00:08.367765Z",
     "shell.execute_reply": "2021-09-09T05:00:08.369205Z"
    },
    "papermill": {
     "duration": 0.86526,
     "end_time": "2021-09-09T05:00:08.369881",
     "exception": false,
     "start_time": "2021-09-09T05:00:07.504621",
     "status": "completed"
    },
    "tags": []
   },
   "outputs": [],
   "source": [
    "import pandas as pd\n",
    "import sqlite3"
   ]
  },
  {
   "cell_type": "code",
   "execution_count": 2,
   "id": "innovative-syndrome",
   "metadata": {
    "execution": {
     "iopub.execute_input": "2021-09-09T05:00:08.421696Z",
     "iopub.status.busy": "2021-09-09T05:00:08.419404Z",
     "iopub.status.idle": "2021-09-09T05:00:08.666645Z",
     "shell.execute_reply": "2021-09-09T05:00:08.668037Z"
    },
    "papermill": {
     "duration": 0.277912,
     "end_time": "2021-09-09T05:00:08.668503",
     "exception": false,
     "start_time": "2021-09-09T05:00:08.390591",
     "status": "completed"
    },
    "tags": []
   },
   "outputs": [],
   "source": [
    "timestamps = pd.read_sql(\"select distinct record_time from EBAY_TOP_BERLIN order by record_time desc limit 2\", sqlite3.connect(\"UsedObjects.db\"))"
   ]
  },
  {
   "cell_type": "code",
   "execution_count": 3,
   "id": "periodic-identification",
   "metadata": {
    "execution": {
     "iopub.execute_input": "2021-09-09T05:00:08.736168Z",
     "iopub.status.busy": "2021-09-09T05:00:08.734091Z",
     "iopub.status.idle": "2021-09-09T05:00:08.754098Z",
     "shell.execute_reply": "2021-09-09T05:00:08.755372Z"
    },
    "papermill": {
     "duration": 0.067104,
     "end_time": "2021-09-09T05:00:08.755820",
     "exception": false,
     "start_time": "2021-09-09T05:00:08.688716",
     "status": "completed"
    },
    "tags": []
   },
   "outputs": [
    {
     "data": {
      "text/html": [
       "<div>\n",
       "<style scoped>\n",
       "    .dataframe tbody tr th:only-of-type {\n",
       "        vertical-align: middle;\n",
       "    }\n",
       "\n",
       "    .dataframe tbody tr th {\n",
       "        vertical-align: top;\n",
       "    }\n",
       "\n",
       "    .dataframe thead th {\n",
       "        text-align: right;\n",
       "    }\n",
       "</style>\n",
       "<table border=\"1\" class=\"dataframe\">\n",
       "  <thead>\n",
       "    <tr style=\"text-align: right;\">\n",
       "      <th></th>\n",
       "      <th>RECORD_TIME</th>\n",
       "    </tr>\n",
       "  </thead>\n",
       "  <tbody>\n",
       "    <tr>\n",
       "      <th>0</th>\n",
       "      <td>2021-09-09 07:00</td>\n",
       "    </tr>\n",
       "    <tr>\n",
       "      <th>1</th>\n",
       "      <td>2021-09-09 06:30</td>\n",
       "    </tr>\n",
       "  </tbody>\n",
       "</table>\n",
       "</div>"
      ],
      "text/plain": [
       "        RECORD_TIME\n",
       "0  2021-09-09 07:00\n",
       "1  2021-09-09 06:30"
      ]
     },
     "execution_count": 3,
     "metadata": {},
     "output_type": "execute_result"
    }
   ],
   "source": [
    "timestamps"
   ]
  },
  {
   "cell_type": "code",
   "execution_count": 4,
   "id": "alternate-victory",
   "metadata": {
    "execution": {
     "iopub.execute_input": "2021-09-09T05:00:08.809909Z",
     "iopub.status.busy": "2021-09-09T05:00:08.807625Z",
     "iopub.status.idle": "2021-09-09T05:00:09.180301Z",
     "shell.execute_reply": "2021-09-09T05:00:09.181595Z"
    },
    "papermill": {
     "duration": 0.403287,
     "end_time": "2021-09-09T05:00:09.182017",
     "exception": false,
     "start_time": "2021-09-09T05:00:08.778730",
     "status": "completed"
    },
    "tags": []
   },
   "outputs": [],
   "source": [
    "df = pd.read_sql(\"select * from EBAY_TOP_BERLIN where record_time in (select distinct record_time from EBAY_TOP_BERLIN order by record_time desc limit 2)\", sqlite3.connect(\"UsedObjects.db\"))"
   ]
  },
  {
   "cell_type": "code",
   "execution_count": 5,
   "id": "popular-active",
   "metadata": {
    "execution": {
     "iopub.execute_input": "2021-09-09T05:00:09.261948Z",
     "iopub.status.busy": "2021-09-09T05:00:09.250281Z",
     "iopub.status.idle": "2021-09-09T05:00:09.277883Z",
     "shell.execute_reply": "2021-09-09T05:00:09.279169Z"
    },
    "papermill": {
     "duration": 0.07147,
     "end_time": "2021-09-09T05:00:09.279576",
     "exception": false,
     "start_time": "2021-09-09T05:00:09.208106",
     "status": "completed"
    },
    "tags": []
   },
   "outputs": [],
   "source": [
    "df_pivot = df.pivot_table(index=\"PRODUCT\", columns = \"RECORD_TIME\", values = \"LISTING_COUNT\")"
   ]
  },
  {
   "cell_type": "code",
   "execution_count": 6,
   "id": "union-huntington",
   "metadata": {
    "execution": {
     "iopub.execute_input": "2021-09-09T05:00:09.335943Z",
     "iopub.status.busy": "2021-09-09T05:00:09.333867Z",
     "iopub.status.idle": "2021-09-09T05:00:09.339132Z",
     "shell.execute_reply": "2021-09-09T05:00:09.340448Z"
    },
    "papermill": {
     "duration": 0.040413,
     "end_time": "2021-09-09T05:00:09.340867",
     "exception": false,
     "start_time": "2021-09-09T05:00:09.300454",
     "status": "completed"
    },
    "tags": []
   },
   "outputs": [],
   "source": [
    "df_pivot.columns = [\"stamp_1\", \"stamp_2\"]\n",
    "df_pivot_diff = df_pivot.diff(axis=1)"
   ]
  },
  {
   "cell_type": "code",
   "execution_count": 7,
   "id": "fifth-motion",
   "metadata": {
    "execution": {
     "iopub.execute_input": "2021-09-09T05:00:09.398984Z",
     "iopub.status.busy": "2021-09-09T05:00:09.396308Z",
     "iopub.status.idle": "2021-09-09T05:00:10.896430Z",
     "shell.execute_reply": "2021-09-09T05:00:10.897842Z"
    },
    "papermill": {
     "duration": 1.534318,
     "end_time": "2021-09-09T05:00:10.898295",
     "exception": false,
     "start_time": "2021-09-09T05:00:09.363977",
     "status": "completed"
    },
    "tags": []
   },
   "outputs": [
    {
     "data": {
      "text/plain": [
       "<AxesSubplot:ylabel='PRODUCT'>"
      ]
     },
     "execution_count": 7,
     "metadata": {},
     "output_type": "execute_result"
    },
    {
     "data": {
      "image/png": "[encoded data removed]",
      "text/plain": [
       "<Figure size 432x288 with 1 Axes>"
      ]
     },
     "metadata": {
      "needs_background": "light"
     },
     "output_type": "display_data"
    }
   ],
   "source": [
    "df_pivot_diff.sort_values(\"stamp_2\", ascending = False)[\"stamp_2\"].head(10).plot.barh()"
   ]
  },
  {
   "cell_type": "code",
   "execution_count": null,
   "id": "extra-executive",
   "metadata": {
    "papermill": {
     "duration": 0.022413,
     "end_time": "2021-09-09T05:00:10.945728",
     "exception": false,
     "start_time": "2021-09-09T05:00:10.923315",
     "status": "completed"
    },
    "tags": []
   },
   "outputs": [],
   "source": []
  }
 ],
 "metadata": {
  "kernelspec": {
   "display_name": "Python 3",
   "language": "python",
   "name": "python3"
  },
  "language_info": {
   "codemirror_mode": {
    "name": "ipython",
    "version": 3
   },
   "file_extension": ".py",
   "mimetype": "text/x-python",
   "name": "python",
   "nbconvert_exporter": "python",
   "pygments_lexer": "ipython3",
   "version": "3.9.5"
  },
  "papermill": {
   "default_parameters": {},
   "duration": 6.498132,
   "end_time": "2021-09-09T05:00:11.589572",
   "environment_variables": {},
   "exception": null,
   "input_path": "eBay_Overview.ipynb",
   "output_path": "eBay_Overview.ipynb",
   "parameters": {},
   "start_time": "2021-09-09T05:00:05.091440",
   "version": "2.3.3"
  }
 },
 "nbformat": 4,
 "nbformat_minor": 5
}