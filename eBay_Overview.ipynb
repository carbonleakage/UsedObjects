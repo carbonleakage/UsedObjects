{
 "cells": [
  {
   "cell_type": "code",
   "execution_count": 1,
   "id": "reverse-picking",
   "metadata": {
    "execution": {
     "iopub.execute_input": "2021-12-14T01:00:07.684136Z",
     "iopub.status.busy": "2021-12-14T01:00:07.681822Z",
     "iopub.status.idle": "2021-12-14T01:00:08.639941Z",
     "shell.execute_reply": "2021-12-14T01:00:08.641489Z"
    },
    "papermill": {
     "duration": 1.008454,
     "end_time": "2021-12-14T01:00:08.642229",
     "exception": false,
     "start_time": "2021-12-14T01:00:07.633775",
     "status": "completed"
    },
    "tags": []
   },
   "outputs": [],
   "source": [
    "import pandas as pd\n",
    "import sqlite3"
   ]
  },
  {
   "cell_type": "code",
   "execution_count": 2,
   "id": "innovative-syndrome",
   "metadata": {
    "execution": {
     "iopub.execute_input": "2021-12-14T01:00:08.711172Z",
     "iopub.status.busy": "2021-12-14T01:00:08.709032Z",
     "iopub.status.idle": "2021-12-14T01:00:09.806663Z",
     "shell.execute_reply": "2021-12-14T01:00:09.808189Z"
    },
    "papermill": {
     "duration": 1.133444,
     "end_time": "2021-12-14T01:00:09.808651",
     "exception": false,
     "start_time": "2021-12-14T01:00:08.675207",
     "status": "completed"
    },
    "tags": []
   },
   "outputs": [],
   "source": [
    "timestamps = pd.read_sql(\"select distinct record_time from EBAY_TOP_BERLIN order by record_time desc limit 2\", sqlite3.connect(\"UsedObjects.db\"))"
   ]
  },
  {
   "cell_type": "code",
   "execution_count": 3,
   "id": "periodic-identification",
   "metadata": {
    "execution": {
     "iopub.execute_input": "2021-12-14T01:00:09.880074Z",
     "iopub.status.busy": "2021-12-14T01:00:09.877739Z",
     "iopub.status.idle": "2021-12-14T01:00:09.902611Z",
     "shell.execute_reply": "2021-12-14T01:00:09.904120Z"
    },
    "papermill": {
     "duration": 0.074272,
     "end_time": "2021-12-14T01:00:09.904626",
     "exception": false,
     "start_time": "2021-12-14T01:00:09.830354",
     "status": "completed"
    },
    "tags": []
   },
   "outputs": [
    {
     "data": {
      "text/html": [
       "<div>\n",
       "<style scoped>\n",
       "    .dataframe tbody tr th:only-of-type {\n",
       "        vertical-align: middle;\n",
       "    }\n",
       "\n",
       "    .dataframe tbody tr th {\n",
       "        vertical-align: top;\n",
       "    }\n",
       "\n",
       "    .dataframe thead th {\n",
       "        text-align: right;\n",
       "    }\n",
       "</style>\n",
       "<table border=\"1\" class=\"dataframe\">\n",
       "  <thead>\n",
       "    <tr style=\"text-align: right;\">\n",
       "      <th></th>\n",
       "      <th>RECORD_TIME</th>\n",
       "    </tr>\n",
       "  </thead>\n",
       "  <tbody>\n",
       "    <tr>\n",
       "      <th>0</th>\n",
       "      <td>2021-12-14 02:00</td>\n",
       "    </tr>\n",
       "    <tr>\n",
       "      <th>1</th>\n",
       "      <td>2021-12-14 01:30</td>\n",
       "    </tr>\n",
       "  </tbody>\n",
       "</table>\n",
       "</div>"
      ],
      "text/plain": [
       "        RECORD_TIME\n",
       "0  2021-12-14 02:00\n",
       "1  2021-12-14 01:30"
      ]
     },
     "execution_count": 3,
     "metadata": {},
     "output_type": "execute_result"
    }
   ],
   "source": [
    "timestamps"
   ]
  },
  {
   "cell_type": "code",
   "execution_count": 4,
   "id": "alternate-victory",
   "metadata": {
    "execution": {
     "iopub.execute_input": "2021-12-14T01:00:09.959883Z",
     "iopub.status.busy": "2021-12-14T01:00:09.957613Z",
     "iopub.status.idle": "2021-12-14T01:00:11.580607Z",
     "shell.execute_reply": "2021-12-14T01:00:11.582188Z"
    },
    "papermill": {
     "duration": 1.653929,
     "end_time": "2021-12-14T01:00:11.582665",
     "exception": false,
     "start_time": "2021-12-14T01:00:09.928736",
     "status": "completed"
    },
    "tags": []
   },
   "outputs": [],
   "source": [
    "df = pd.read_sql(\"select * from EBAY_TOP_BERLIN where record_time in (select distinct record_time from EBAY_TOP_BERLIN order by record_time desc limit 2)\", sqlite3.connect(\"UsedObjects.db\"))"
   ]
  },
  {
   "cell_type": "code",
   "execution_count": 5,
   "id": "popular-active",
   "metadata": {
    "execution": {
     "iopub.execute_input": "2021-12-14T01:00:11.659810Z",
     "iopub.status.busy": "2021-12-14T01:00:11.646810Z",
     "iopub.status.idle": "2021-12-14T01:00:11.677800Z",
     "shell.execute_reply": "2021-12-14T01:00:11.679141Z"
    },
    "papermill": {
     "duration": 0.073841,
     "end_time": "2021-12-14T01:00:11.679606",
     "exception": false,
     "start_time": "2021-12-14T01:00:11.605765",
     "status": "completed"
    },
    "tags": []
   },
   "outputs": [],
   "source": [
    "df_pivot = df.pivot_table(index=\"PRODUCT\", columns = \"RECORD_TIME\", values = \"LISTING_COUNT\")"
   ]
  },
  {
   "cell_type": "code",
   "execution_count": 6,
   "id": "union-huntington",
   "metadata": {
    "execution": {
     "iopub.execute_input": "2021-12-14T01:00:11.738810Z",
     "iopub.status.busy": "2021-12-14T01:00:11.736556Z",
     "iopub.status.idle": "2021-12-14T01:00:11.745014Z",
     "shell.execute_reply": "2021-12-14T01:00:11.746404Z"
    },
    "papermill": {
     "duration": 0.047298,
     "end_time": "2021-12-14T01:00:11.746895",
     "exception": false,
     "start_time": "2021-12-14T01:00:11.699597",
     "status": "completed"
    },
    "tags": []
   },
   "outputs": [],
   "source": [
    "df_pivot.columns = [\"stamp_1\", \"stamp_2\"]\n",
    "df_pivot_diff = df_pivot.diff(axis=1)"
   ]
  },
  {
   "cell_type": "code",
   "execution_count": 7,
   "id": "fifth-motion",
   "metadata": {
    "execution": {
     "iopub.execute_input": "2021-12-14T01:00:11.806465Z",
     "iopub.status.busy": "2021-12-14T01:00:11.803929Z",
     "iopub.status.idle": "2021-12-14T01:00:13.851203Z",
     "shell.execute_reply": "2021-12-14T01:00:13.853583Z"
    },
    "papermill": {
     "duration": 2.083975,
     "end_time": "2021-12-14T01:00:13.854135",
     "exception": false,
     "start_time": "2021-12-14T01:00:11.770160",
     "status": "completed"
    },
    "tags": []
   },
   "outputs": [
    {
     "data": {
      "text/plain": [
       "<AxesSubplot:ylabel='PRODUCT'>"
      ]
     },
     "execution_count": 7,
     "metadata": {},
     "output_type": "execute_result"
    },
    {
     "data": {
      "image/png": "[encoded data removed]",
      "text/plain": [
       "<Figure size 432x288 with 1 Axes>"
      ]
     },
     "metadata": {
      "needs_background": "light"
     },
     "output_type": "display_data"
    }
   ],
   "source": [
    "df_pivot_diff.sort_values(\"stamp_2\", ascending = False)[\"stamp_2\"].head(10).plot.barh()"
   ]
  },
  {
   "cell_type": "code",
   "execution_count": null,
   "id": "extra-executive",
   "metadata": {
    "papermill": {
     "duration": 0.022192,
     "end_time": "2021-12-14T01:00:13.901433",
     "exception": false,
     "start_time": "2021-12-14T01:00:13.879241",
     "status": "completed"
    },
    "tags": []
   },
   "outputs": [],
   "source": []
  }
 ],
 "metadata": {
  "kernelspec": {
   "display_name": "Python 3",
   "language": "python",
   "name": "python3"
  },
  "language_info": {
   "codemirror_mode": {
    "name": "ipython",
    "version": 3
   },
   "file_extension": ".py",
   "mimetype": "text/x-python",
   "name": "python",
   "nbconvert_exporter": "python",
   "pygments_lexer": "ipython3",
   "version": "3.9.5"
  },
  "papermill": {
   "default_parameters": {},
   "duration": 9.649784,
   "end_time": "2021-12-14T01:00:14.542828",
   "environment_variables": {},
   "exception": null,
   "input_path": "eBay_Overview.ipynb",
   "output_path": "eBay_Overview.ipynb",
   "parameters": {},
   "start_time": "2021-12-14T01:00:04.893044",
   "version": "2.3.3"
  }
 },
 "nbformat": 4,
 "nbformat_minor": 5
}