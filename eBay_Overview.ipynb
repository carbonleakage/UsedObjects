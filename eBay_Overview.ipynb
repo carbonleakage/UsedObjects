{
 "cells": [
  {
   "cell_type": "code",
   "execution_count": 1,
   "id": "reverse-picking",
   "metadata": {
    "execution": {
     "iopub.execute_input": "2021-09-29T12:00:06.904873Z",
     "iopub.status.busy": "2021-09-29T12:00:06.902933Z",
     "iopub.status.idle": "2021-09-29T12:00:07.709753Z",
     "shell.execute_reply": "2021-09-29T12:00:07.708208Z"
    },
    "papermill": {
     "duration": 0.857534,
     "end_time": "2021-09-29T12:00:07.710146",
     "exception": false,
     "start_time": "2021-09-29T12:00:06.852612",
     "status": "completed"
    },
    "tags": []
   },
   "outputs": [],
   "source": [
    "import pandas as pd\n",
    "import sqlite3"
   ]
  },
  {
   "cell_type": "code",
   "execution_count": 2,
   "id": "innovative-syndrome",
   "metadata": {
    "execution": {
     "iopub.execute_input": "2021-09-29T12:00:07.760670Z",
     "iopub.status.busy": "2021-09-29T12:00:07.758669Z",
     "iopub.status.idle": "2021-09-29T12:00:08.161262Z",
     "shell.execute_reply": "2021-09-29T12:00:08.162546Z"
    },
    "papermill": {
     "duration": 0.432101,
     "end_time": "2021-09-29T12:00:08.163038",
     "exception": false,
     "start_time": "2021-09-29T12:00:07.730937",
     "status": "completed"
    },
    "tags": []
   },
   "outputs": [],
   "source": [
    "timestamps = pd.read_sql(\"select distinct record_time from EBAY_TOP_BERLIN order by record_time desc limit 2\", sqlite3.connect(\"UsedObjects.db\"))"
   ]
  },
  {
   "cell_type": "code",
   "execution_count": 3,
   "id": "periodic-identification",
   "metadata": {
    "execution": {
     "iopub.execute_input": "2021-09-29T12:00:08.229388Z",
     "iopub.status.busy": "2021-09-29T12:00:08.227370Z",
     "iopub.status.idle": "2021-09-29T12:00:08.247201Z",
     "shell.execute_reply": "2021-09-29T12:00:08.248531Z"
    },
    "papermill": {
     "duration": 0.066826,
     "end_time": "2021-09-29T12:00:08.248953",
     "exception": false,
     "start_time": "2021-09-29T12:00:08.182127",
     "status": "completed"
    },
    "tags": []
   },
   "outputs": [
    {
     "data": {
      "text/html": [
       "<div>\n",
       "<style scoped>\n",
       "    .dataframe tbody tr th:only-of-type {\n",
       "        vertical-align: middle;\n",
       "    }\n",
       "\n",
       "    .dataframe tbody tr th {\n",
       "        vertical-align: top;\n",
       "    }\n",
       "\n",
       "    .dataframe thead th {\n",
       "        text-align: right;\n",
       "    }\n",
       "</style>\n",
       "<table border=\"1\" class=\"dataframe\">\n",
       "  <thead>\n",
       "    <tr style=\"text-align: right;\">\n",
       "      <th></th>\n",
       "      <th>RECORD_TIME</th>\n",
       "    </tr>\n",
       "  </thead>\n",
       "  <tbody>\n",
       "    <tr>\n",
       "      <th>0</th>\n",
       "      <td>2021-09-29 14:00</td>\n",
       "    </tr>\n",
       "    <tr>\n",
       "      <th>1</th>\n",
       "      <td>2021-09-29 13:30</td>\n",
       "    </tr>\n",
       "  </tbody>\n",
       "</table>\n",
       "</div>"
      ],
      "text/plain": [
       "        RECORD_TIME\n",
       "0  2021-09-29 14:00\n",
       "1  2021-09-29 13:30"
      ]
     },
     "execution_count": 3,
     "metadata": {},
     "output_type": "execute_result"
    }
   ],
   "source": [
    "timestamps"
   ]
  },
  {
   "cell_type": "code",
   "execution_count": 4,
   "id": "alternate-victory",
   "metadata": {
    "execution": {
     "iopub.execute_input": "2021-09-29T12:00:08.300946Z",
     "iopub.status.busy": "2021-09-29T12:00:08.298671Z",
     "iopub.status.idle": "2021-09-29T12:00:08.907935Z",
     "shell.execute_reply": "2021-09-29T12:00:08.909225Z"
    },
    "papermill": {
     "duration": 0.639054,
     "end_time": "2021-09-29T12:00:08.909625",
     "exception": false,
     "start_time": "2021-09-29T12:00:08.270571",
     "status": "completed"
    },
    "tags": []
   },
   "outputs": [],
   "source": [
    "df = pd.read_sql(\"select * from EBAY_TOP_BERLIN where record_time in (select distinct record_time from EBAY_TOP_BERLIN order by record_time desc limit 2)\", sqlite3.connect(\"UsedObjects.db\"))"
   ]
  },
  {
   "cell_type": "code",
   "execution_count": 5,
   "id": "popular-active",
   "metadata": {
    "execution": {
     "iopub.execute_input": "2021-09-29T12:00:08.980812Z",
     "iopub.status.busy": "2021-09-29T12:00:08.968449Z",
     "iopub.status.idle": "2021-09-29T12:00:08.996296Z",
     "shell.execute_reply": "2021-09-29T12:00:08.997444Z"
    },
    "papermill": {
     "duration": 0.067992,
     "end_time": "2021-09-29T12:00:08.997860",
     "exception": false,
     "start_time": "2021-09-29T12:00:08.929868",
     "status": "completed"
    },
    "tags": []
   },
   "outputs": [],
   "source": [
    "df_pivot = df.pivot_table(index=\"PRODUCT\", columns = \"RECORD_TIME\", values = \"LISTING_COUNT\")"
   ]
  },
  {
   "cell_type": "code",
   "execution_count": 6,
   "id": "union-huntington",
   "metadata": {
    "execution": {
     "iopub.execute_input": "2021-09-29T12:00:09.054738Z",
     "iopub.status.busy": "2021-09-29T12:00:09.052688Z",
     "iopub.status.idle": "2021-09-29T12:00:09.057989Z",
     "shell.execute_reply": "2021-09-29T12:00:09.059514Z"
    },
    "papermill": {
     "duration": 0.040652,
     "end_time": "2021-09-29T12:00:09.059960",
     "exception": false,
     "start_time": "2021-09-29T12:00:09.019308",
     "status": "completed"
    },
    "tags": []
   },
   "outputs": [],
   "source": [
    "df_pivot.columns = [\"stamp_1\", \"stamp_2\"]\n",
    "df_pivot_diff = df_pivot.diff(axis=1)"
   ]
  },
  {
   "cell_type": "code",
   "execution_count": 7,
   "id": "fifth-motion",
   "metadata": {
    "execution": {
     "iopub.execute_input": "2021-09-29T12:00:09.116614Z",
     "iopub.status.busy": "2021-09-29T12:00:09.114031Z",
     "iopub.status.idle": "2021-09-29T12:00:10.585920Z",
     "shell.execute_reply": "2021-09-29T12:00:10.587391Z"
    },
    "papermill": {
     "duration": 1.505464,
     "end_time": "2021-09-29T12:00:10.587863",
     "exception": false,
     "start_time": "2021-09-29T12:00:09.082399",
     "status": "completed"
    },
    "tags": []
   },
   "outputs": [
    {
     "data": {
      "text/plain": [
       "<AxesSubplot:ylabel='PRODUCT'>"
      ]
     },
     "execution_count": 7,
     "metadata": {},
     "output_type": "execute_result"
    },
    {
     "data": {
      "image/png": "[encoded data removed]",
      "text/plain": [
       "<Figure size 432x288 with 1 Axes>"
      ]
     },
     "metadata": {
      "needs_background": "light"
     },
     "output_type": "display_data"
    }
   ],
   "source": [
    "df_pivot_diff.sort_values(\"stamp_2\", ascending = False)[\"stamp_2\"].head(10).plot.barh()"
   ]
  },
  {
   "cell_type": "code",
   "execution_count": null,
   "id": "extra-executive",
   "metadata": {
    "papermill": {
     "duration": 0.022131,
     "end_time": "2021-09-29T12:00:10.634694",
     "exception": false,
     "start_time": "2021-09-29T12:00:10.612563",
     "status": "completed"
    },
    "tags": []
   },
   "outputs": [],
   "source": []
  }
 ],
 "metadata": {
  "kernelspec": {
   "display_name": "Python 3",
   "language": "python",
   "name": "python3"
  },
  "language_info": {
   "codemirror_mode": {
    "name": "ipython",
    "version": 3
   },
   "file_extension": ".py",
   "mimetype": "text/x-python",
   "name": "python",
   "nbconvert_exporter": "python",
   "pygments_lexer": "ipython3",
   "version": "3.9.5"
  },
  "papermill": {
   "default_parameters": {},
   "duration": 7.822251,
   "end_time": "2021-09-29T12:00:12.274618",
   "environment_variables": {},
   "exception": null,
   "input_path": "eBay_Overview.ipynb",
   "output_path": "eBay_Overview.ipynb",
   "parameters": {},
   "start_time": "2021-09-29T12:00:04.452367",
   "version": "2.3.3"
  }
 },
 "nbformat": 4,
 "nbformat_minor": 5
}