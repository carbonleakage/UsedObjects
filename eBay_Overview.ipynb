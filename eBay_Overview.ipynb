{
 "cells": [
  {
   "cell_type": "code",
   "execution_count": 1,
   "id": "reverse-picking",
   "metadata": {
    "execution": {
     "iopub.execute_input": "2021-09-07T03:30:07.396316Z",
     "iopub.status.busy": "2021-09-07T03:30:07.394245Z",
     "iopub.status.idle": "2021-09-07T03:30:08.204947Z",
     "shell.execute_reply": "2021-09-07T03:30:08.206298Z"
    },
    "papermill": {
     "duration": 0.86065,
     "end_time": "2021-09-07T03:30:08.206997",
     "exception": false,
     "start_time": "2021-09-07T03:30:07.346347",
     "status": "completed"
    },
    "tags": []
   },
   "outputs": [],
   "source": [
    "import pandas as pd\n",
    "import sqlite3"
   ]
  },
  {
   "cell_type": "code",
   "execution_count": 2,
   "id": "innovative-syndrome",
   "metadata": {
    "execution": {
     "iopub.execute_input": "2021-09-07T03:30:08.258254Z",
     "iopub.status.busy": "2021-09-07T03:30:08.256181Z",
     "iopub.status.idle": "2021-09-07T03:30:08.482725Z",
     "shell.execute_reply": "2021-09-07T03:30:08.484090Z"
    },
    "papermill": {
     "duration": 0.257089,
     "end_time": "2021-09-07T03:30:08.484508",
     "exception": false,
     "start_time": "2021-09-07T03:30:08.227419",
     "status": "completed"
    },
    "tags": []
   },
   "outputs": [],
   "source": [
    "timestamps = pd.read_sql(\"select distinct record_time from EBAY_TOP_BERLIN order by record_time desc limit 2\", sqlite3.connect(\"UsedObjects.db\"))"
   ]
  },
  {
   "cell_type": "code",
   "execution_count": 3,
   "id": "periodic-identification",
   "metadata": {
    "execution": {
     "iopub.execute_input": "2021-09-07T03:30:08.549517Z",
     "iopub.status.busy": "2021-09-07T03:30:08.547481Z",
     "iopub.status.idle": "2021-09-07T03:30:08.568760Z",
     "shell.execute_reply": "2021-09-07T03:30:08.567402Z"
    },
    "papermill": {
     "duration": 0.064832,
     "end_time": "2021-09-07T03:30:08.569095",
     "exception": false,
     "start_time": "2021-09-07T03:30:08.504263",
     "status": "completed"
    },
    "tags": []
   },
   "outputs": [
    {
     "data": {
      "text/html": [
       "<div>\n",
       "<style scoped>\n",
       "    .dataframe tbody tr th:only-of-type {\n",
       "        vertical-align: middle;\n",
       "    }\n",
       "\n",
       "    .dataframe tbody tr th {\n",
       "        vertical-align: top;\n",
       "    }\n",
       "\n",
       "    .dataframe thead th {\n",
       "        text-align: right;\n",
       "    }\n",
       "</style>\n",
       "<table border=\"1\" class=\"dataframe\">\n",
       "  <thead>\n",
       "    <tr style=\"text-align: right;\">\n",
       "      <th></th>\n",
       "      <th>RECORD_TIME</th>\n",
       "    </tr>\n",
       "  </thead>\n",
       "  <tbody>\n",
       "    <tr>\n",
       "      <th>0</th>\n",
       "      <td>2021-09-07 05:30</td>\n",
       "    </tr>\n",
       "    <tr>\n",
       "      <th>1</th>\n",
       "      <td>2021-09-07 05:00</td>\n",
       "    </tr>\n",
       "  </tbody>\n",
       "</table>\n",
       "</div>"
      ],
      "text/plain": [
       "        RECORD_TIME\n",
       "0  2021-09-07 05:30\n",
       "1  2021-09-07 05:00"
      ]
     },
     "execution_count": 3,
     "metadata": {},
     "output_type": "execute_result"
    }
   ],
   "source": [
    "timestamps"
   ]
  },
  {
   "cell_type": "code",
   "execution_count": 4,
   "id": "alternate-victory",
   "metadata": {
    "execution": {
     "iopub.execute_input": "2021-09-07T03:30:08.622745Z",
     "iopub.status.busy": "2021-09-07T03:30:08.620449Z",
     "iopub.status.idle": "2021-09-07T03:30:08.955011Z",
     "shell.execute_reply": "2021-09-07T03:30:08.956576Z"
    },
    "papermill": {
     "duration": 0.365826,
     "end_time": "2021-09-07T03:30:08.957032",
     "exception": false,
     "start_time": "2021-09-07T03:30:08.591206",
     "status": "completed"
    },
    "tags": []
   },
   "outputs": [],
   "source": [
    "df = pd.read_sql(\"select * from EBAY_TOP_BERLIN where record_time in (select distinct record_time from EBAY_TOP_BERLIN order by record_time desc limit 2)\", sqlite3.connect(\"UsedObjects.db\"))"
   ]
  },
  {
   "cell_type": "code",
   "execution_count": 5,
   "id": "popular-active",
   "metadata": {
    "execution": {
     "iopub.execute_input": "2021-09-07T03:30:09.055712Z",
     "iopub.status.busy": "2021-09-07T03:30:09.042626Z",
     "iopub.status.idle": "2021-09-07T03:30:09.072141Z",
     "shell.execute_reply": "2021-09-07T03:30:09.073530Z"
    },
    "papermill": {
     "duration": 0.078403,
     "end_time": "2021-09-07T03:30:09.073969",
     "exception": false,
     "start_time": "2021-09-07T03:30:08.995566",
     "status": "completed"
    },
    "tags": []
   },
   "outputs": [],
   "source": [
    "df_pivot = df.pivot_table(index=\"PRODUCT\", columns = \"RECORD_TIME\", values = \"LISTING_COUNT\")"
   ]
  },
  {
   "cell_type": "code",
   "execution_count": 6,
   "id": "union-huntington",
   "metadata": {
    "execution": {
     "iopub.execute_input": "2021-09-07T03:30:09.134007Z",
     "iopub.status.busy": "2021-09-07T03:30:09.131544Z",
     "iopub.status.idle": "2021-09-07T03:30:09.139032Z",
     "shell.execute_reply": "2021-09-07T03:30:09.137578Z"
    },
    "papermill": {
     "duration": 0.043184,
     "end_time": "2021-09-07T03:30:09.139435",
     "exception": false,
     "start_time": "2021-09-07T03:30:09.096251",
     "status": "completed"
    },
    "tags": []
   },
   "outputs": [],
   "source": [
    "df_pivot.columns = [\"stamp_1\", \"stamp_2\"]\n",
    "df_pivot_diff = df_pivot.diff(axis=1)"
   ]
  },
  {
   "cell_type": "code",
   "execution_count": 7,
   "id": "fifth-motion",
   "metadata": {
    "execution": {
     "iopub.execute_input": "2021-09-07T03:30:09.194639Z",
     "iopub.status.busy": "2021-09-07T03:30:09.192213Z",
     "iopub.status.idle": "2021-09-07T03:30:10.667871Z",
     "shell.execute_reply": "2021-09-07T03:30:10.669204Z"
    },
    "papermill": {
     "duration": 1.508949,
     "end_time": "2021-09-07T03:30:10.669622",
     "exception": false,
     "start_time": "2021-09-07T03:30:09.160673",
     "status": "completed"
    },
    "tags": []
   },
   "outputs": [
    {
     "data": {
      "text/plain": [
       "<AxesSubplot:ylabel='PRODUCT'>"
      ]
     },
     "execution_count": 7,
     "metadata": {},
     "output_type": "execute_result"
    },
    {
     "data": {
      "image/png": "[encoded data removed]",
      "text/plain": [
       "<Figure size 432x288 with 1 Axes>"
      ]
     },
     "metadata": {
      "needs_background": "light"
     },
     "output_type": "display_data"
    }
   ],
   "source": [
    "df_pivot_diff.sort_values(\"stamp_2\", ascending = False)[\"stamp_2\"].head(10).plot.barh()"
   ]
  },
  {
   "cell_type": "code",
   "execution_count": null,
   "id": "extra-executive",
   "metadata": {
    "papermill": {
     "duration": 0.022721,
     "end_time": "2021-09-07T03:30:10.716480",
     "exception": false,
     "start_time": "2021-09-07T03:30:10.693759",
     "status": "completed"
    },
    "tags": []
   },
   "outputs": [],
   "source": []
  }
 ],
 "metadata": {
  "kernelspec": {
   "display_name": "Python 3",
   "language": "python",
   "name": "python3"
  },
  "language_info": {
   "codemirror_mode": {
    "name": "ipython",
    "version": 3
   },
   "file_extension": ".py",
   "mimetype": "text/x-python",
   "name": "python",
   "nbconvert_exporter": "python",
   "pygments_lexer": "ipython3",
   "version": "3.9.5"
  },
  "papermill": {
   "default_parameters": {},
   "duration": 6.43027,
   "end_time": "2021-09-07T03:30:11.357891",
   "environment_variables": {},
   "exception": null,
   "input_path": "eBay_Overview.ipynb",
   "output_path": "eBay_Overview.ipynb",
   "parameters": {},
   "start_time": "2021-09-07T03:30:04.927621",
   "version": "2.3.3"
  }
 },
 "nbformat": 4,
 "nbformat_minor": 5
}