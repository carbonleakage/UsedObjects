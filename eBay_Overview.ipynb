{
 "cells": [
  {
   "cell_type": "code",
   "execution_count": 1,
   "id": "reverse-picking",
   "metadata": {
    "execution": {
     "iopub.execute_input": "2021-09-14T14:00:07.405081Z",
     "iopub.status.busy": "2021-09-14T14:00:07.403119Z",
     "iopub.status.idle": "2021-09-14T14:00:08.210157Z",
     "shell.execute_reply": "2021-09-14T14:00:08.211499Z"
    },
    "papermill": {
     "duration": 0.859594,
     "end_time": "2021-09-14T14:00:08.212127",
     "exception": false,
     "start_time": "2021-09-14T14:00:07.352533",
     "status": "completed"
    },
    "tags": []
   },
   "outputs": [],
   "source": [
    "import pandas as pd\n",
    "import sqlite3"
   ]
  },
  {
   "cell_type": "code",
   "execution_count": 2,
   "id": "innovative-syndrome",
   "metadata": {
    "execution": {
     "iopub.execute_input": "2021-09-14T14:00:08.262656Z",
     "iopub.status.busy": "2021-09-14T14:00:08.260796Z",
     "iopub.status.idle": "2021-09-14T14:00:08.550420Z",
     "shell.execute_reply": "2021-09-14T14:00:08.551837Z"
    },
    "papermill": {
     "duration": 0.319294,
     "end_time": "2021-09-14T14:00:08.552245",
     "exception": false,
     "start_time": "2021-09-14T14:00:08.232951",
     "status": "completed"
    },
    "tags": []
   },
   "outputs": [],
   "source": [
    "timestamps = pd.read_sql(\"select distinct record_time from EBAY_TOP_BERLIN order by record_time desc limit 2\", sqlite3.connect(\"UsedObjects.db\"))"
   ]
  },
  {
   "cell_type": "code",
   "execution_count": 3,
   "id": "periodic-identification",
   "metadata": {
    "execution": {
     "iopub.execute_input": "2021-09-14T14:00:08.620037Z",
     "iopub.status.busy": "2021-09-14T14:00:08.617933Z",
     "iopub.status.idle": "2021-09-14T14:00:08.638255Z",
     "shell.execute_reply": "2021-09-14T14:00:08.639730Z"
    },
    "papermill": {
     "duration": 0.067145,
     "end_time": "2021-09-14T14:00:08.640174",
     "exception": false,
     "start_time": "2021-09-14T14:00:08.573029",
     "status": "completed"
    },
    "tags": []
   },
   "outputs": [
    {
     "data": {
      "text/html": [
       "<div>\n",
       "<style scoped>\n",
       "    .dataframe tbody tr th:only-of-type {\n",
       "        vertical-align: middle;\n",
       "    }\n",
       "\n",
       "    .dataframe tbody tr th {\n",
       "        vertical-align: top;\n",
       "    }\n",
       "\n",
       "    .dataframe thead th {\n",
       "        text-align: right;\n",
       "    }\n",
       "</style>\n",
       "<table border=\"1\" class=\"dataframe\">\n",
       "  <thead>\n",
       "    <tr style=\"text-align: right;\">\n",
       "      <th></th>\n",
       "      <th>RECORD_TIME</th>\n",
       "    </tr>\n",
       "  </thead>\n",
       "  <tbody>\n",
       "    <tr>\n",
       "      <th>0</th>\n",
       "      <td>2021-09-14 16:00</td>\n",
       "    </tr>\n",
       "    <tr>\n",
       "      <th>1</th>\n",
       "      <td>2021-09-14 15:30</td>\n",
       "    </tr>\n",
       "  </tbody>\n",
       "</table>\n",
       "</div>"
      ],
      "text/plain": [
       "        RECORD_TIME\n",
       "0  2021-09-14 16:00\n",
       "1  2021-09-14 15:30"
      ]
     },
     "execution_count": 3,
     "metadata": {},
     "output_type": "execute_result"
    }
   ],
   "source": [
    "timestamps"
   ]
  },
  {
   "cell_type": "code",
   "execution_count": 4,
   "id": "alternate-victory",
   "metadata": {
    "execution": {
     "iopub.execute_input": "2021-09-14T14:00:08.690400Z",
     "iopub.status.busy": "2021-09-14T14:00:08.688580Z",
     "iopub.status.idle": "2021-09-14T14:00:09.124636Z",
     "shell.execute_reply": "2021-09-14T14:00:09.125921Z"
    },
    "papermill": {
     "duration": 0.465974,
     "end_time": "2021-09-14T14:00:09.126329",
     "exception": false,
     "start_time": "2021-09-14T14:00:08.660355",
     "status": "completed"
    },
    "tags": []
   },
   "outputs": [],
   "source": [
    "df = pd.read_sql(\"select * from EBAY_TOP_BERLIN where record_time in (select distinct record_time from EBAY_TOP_BERLIN order by record_time desc limit 2)\", sqlite3.connect(\"UsedObjects.db\"))"
   ]
  },
  {
   "cell_type": "code",
   "execution_count": 5,
   "id": "popular-active",
   "metadata": {
    "execution": {
     "iopub.execute_input": "2021-09-14T14:00:09.200498Z",
     "iopub.status.busy": "2021-09-14T14:00:09.188898Z",
     "iopub.status.idle": "2021-09-14T14:00:09.216009Z",
     "shell.execute_reply": "2021-09-14T14:00:09.217392Z"
    },
    "papermill": {
     "duration": 0.068843,
     "end_time": "2021-09-14T14:00:09.217820",
     "exception": false,
     "start_time": "2021-09-14T14:00:09.148977",
     "status": "completed"
    },
    "tags": []
   },
   "outputs": [],
   "source": [
    "df_pivot = df.pivot_table(index=\"PRODUCT\", columns = \"RECORD_TIME\", values = \"LISTING_COUNT\")"
   ]
  },
  {
   "cell_type": "code",
   "execution_count": 6,
   "id": "union-huntington",
   "metadata": {
    "execution": {
     "iopub.execute_input": "2021-09-14T14:00:09.274585Z",
     "iopub.status.busy": "2021-09-14T14:00:09.272287Z",
     "iopub.status.idle": "2021-09-14T14:00:09.277987Z",
     "shell.execute_reply": "2021-09-14T14:00:09.279338Z"
    },
    "papermill": {
     "duration": 0.0417,
     "end_time": "2021-09-14T14:00:09.279760",
     "exception": false,
     "start_time": "2021-09-14T14:00:09.238060",
     "status": "completed"
    },
    "tags": []
   },
   "outputs": [],
   "source": [
    "df_pivot.columns = [\"stamp_1\", \"stamp_2\"]\n",
    "df_pivot_diff = df_pivot.diff(axis=1)"
   ]
  },
  {
   "cell_type": "code",
   "execution_count": 7,
   "id": "fifth-motion",
   "metadata": {
    "execution": {
     "iopub.execute_input": "2021-09-14T14:00:09.334156Z",
     "iopub.status.busy": "2021-09-14T14:00:09.331883Z",
     "iopub.status.idle": "2021-09-14T14:00:10.812710Z",
     "shell.execute_reply": "2021-09-14T14:00:10.813982Z"
    },
    "papermill": {
     "duration": 1.514147,
     "end_time": "2021-09-14T14:00:10.814389",
     "exception": false,
     "start_time": "2021-09-14T14:00:09.300242",
     "status": "completed"
    },
    "tags": []
   },
   "outputs": [
    {
     "data": {
      "text/plain": [
       "<AxesSubplot:ylabel='PRODUCT'>"
      ]
     },
     "execution_count": 7,
     "metadata": {},
     "output_type": "execute_result"
    },
    {
     "data": {
      "image/png": "[encoded data removed]",
      "text/plain": [
       "<Figure size 432x288 with 1 Axes>"
      ]
     },
     "metadata": {
      "needs_background": "light"
     },
     "output_type": "display_data"
    }
   ],
   "source": [
    "df_pivot_diff.sort_values(\"stamp_2\", ascending = False)[\"stamp_2\"].head(10).plot.barh()"
   ]
  },
  {
   "cell_type": "code",
   "execution_count": null,
   "id": "extra-executive",
   "metadata": {
    "papermill": {
     "duration": 0.022064,
     "end_time": "2021-09-14T14:00:10.860975",
     "exception": false,
     "start_time": "2021-09-14T14:00:10.838911",
     "status": "completed"
    },
    "tags": []
   },
   "outputs": [],
   "source": []
  }
 ],
 "metadata": {
  "kernelspec": {
   "display_name": "Python 3",
   "language": "python",
   "name": "python3"
  },
  "language_info": {
   "codemirror_mode": {
    "name": "ipython",
    "version": 3
   },
   "file_extension": ".py",
   "mimetype": "text/x-python",
   "name": "python",
   "nbconvert_exporter": "python",
   "pygments_lexer": "ipython3",
   "version": "3.9.5"
  },
  "papermill": {
   "default_parameters": {},
   "duration": 6.558252,
   "end_time": "2021-09-14T14:00:11.503356",
   "environment_variables": {},
   "exception": null,
   "input_path": "eBay_Overview.ipynb",
   "output_path": "eBay_Overview.ipynb",
   "parameters": {},
   "start_time": "2021-09-14T14:00:04.945104",
   "version": "2.3.3"
  }
 },
 "nbformat": 4,
 "nbformat_minor": 5
}