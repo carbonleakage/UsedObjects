{
 "cells": [
  {
   "cell_type": "code",
   "execution_count": 1,
   "id": "reverse-picking",
   "metadata": {
    "execution": {
     "iopub.execute_input": "2021-08-25T13:00:08.523903Z",
     "iopub.status.busy": "2021-08-25T13:00:08.521948Z",
     "iopub.status.idle": "2021-08-25T13:00:09.324089Z",
     "shell.execute_reply": "2021-08-25T13:00:09.325656Z"
    },
    "papermill": {
     "duration": 0.85519,
     "end_time": "2021-08-25T13:00:09.326346",
     "exception": false,
     "start_time": "2021-08-25T13:00:08.471156",
     "status": "completed"
    },
    "tags": []
   },
   "outputs": [],
   "source": [
    "import pandas as pd\n",
    "import sqlite3"
   ]
  },
  {
   "cell_type": "code",
   "execution_count": 2,
   "id": "innovative-syndrome",
   "metadata": {
    "execution": {
     "iopub.execute_input": "2021-08-25T13:00:09.378048Z",
     "iopub.status.busy": "2021-08-25T13:00:09.375620Z",
     "iopub.status.idle": "2021-08-25T13:00:09.504922Z",
     "shell.execute_reply": "2021-08-25T13:00:09.506386Z"
    },
    "papermill": {
     "duration": 0.159796,
     "end_time": "2021-08-25T13:00:09.506828",
     "exception": false,
     "start_time": "2021-08-25T13:00:09.347032",
     "status": "completed"
    },
    "tags": []
   },
   "outputs": [],
   "source": [
    "timestamps = pd.read_sql(\"select distinct record_time from EBAY_TOP_BERLIN order by record_time desc limit 2\", sqlite3.connect(\"UsedObjects.db\"))"
   ]
  },
  {
   "cell_type": "code",
   "execution_count": 3,
   "id": "periodic-identification",
   "metadata": {
    "execution": {
     "iopub.execute_input": "2021-08-25T13:00:09.574638Z",
     "iopub.status.busy": "2021-08-25T13:00:09.572588Z",
     "iopub.status.idle": "2021-08-25T13:00:09.592398Z",
     "shell.execute_reply": "2021-08-25T13:00:09.593712Z"
    },
    "papermill": {
     "duration": 0.067086,
     "end_time": "2021-08-25T13:00:09.594131",
     "exception": false,
     "start_time": "2021-08-25T13:00:09.527045",
     "status": "completed"
    },
    "tags": []
   },
   "outputs": [
    {
     "data": {
      "text/html": [
       "<div>\n",
       "<style scoped>\n",
       "    .dataframe tbody tr th:only-of-type {\n",
       "        vertical-align: middle;\n",
       "    }\n",
       "\n",
       "    .dataframe tbody tr th {\n",
       "        vertical-align: top;\n",
       "    }\n",
       "\n",
       "    .dataframe thead th {\n",
       "        text-align: right;\n",
       "    }\n",
       "</style>\n",
       "<table border=\"1\" class=\"dataframe\">\n",
       "  <thead>\n",
       "    <tr style=\"text-align: right;\">\n",
       "      <th></th>\n",
       "      <th>RECORD_TIME</th>\n",
       "    </tr>\n",
       "  </thead>\n",
       "  <tbody>\n",
       "    <tr>\n",
       "      <th>0</th>\n",
       "      <td>2021-08-25 15:00</td>\n",
       "    </tr>\n",
       "    <tr>\n",
       "      <th>1</th>\n",
       "      <td>2021-08-25 14:30</td>\n",
       "    </tr>\n",
       "  </tbody>\n",
       "</table>\n",
       "</div>"
      ],
      "text/plain": [
       "        RECORD_TIME\n",
       "0  2021-08-25 15:00\n",
       "1  2021-08-25 14:30"
      ]
     },
     "execution_count": 3,
     "metadata": {},
     "output_type": "execute_result"
    }
   ],
   "source": [
    "timestamps"
   ]
  },
  {
   "cell_type": "code",
   "execution_count": 4,
   "id": "alternate-victory",
   "metadata": {
    "execution": {
     "iopub.execute_input": "2021-08-25T13:00:09.646627Z",
     "iopub.status.busy": "2021-08-25T13:00:09.644430Z",
     "iopub.status.idle": "2021-08-25T13:00:09.830054Z",
     "shell.execute_reply": "2021-08-25T13:00:09.831275Z"
    },
    "papermill": {
     "duration": 0.216103,
     "end_time": "2021-08-25T13:00:09.831669",
     "exception": false,
     "start_time": "2021-08-25T13:00:09.615566",
     "status": "completed"
    },
    "tags": []
   },
   "outputs": [],
   "source": [
    "df = pd.read_sql(\"select * from EBAY_TOP_BERLIN where record_time in (select distinct record_time from EBAY_TOP_BERLIN order by record_time desc limit 2)\", sqlite3.connect(\"UsedObjects.db\"))"
   ]
  },
  {
   "cell_type": "code",
   "execution_count": 5,
   "id": "popular-active",
   "metadata": {
    "execution": {
     "iopub.execute_input": "2021-08-25T13:00:09.905098Z",
     "iopub.status.busy": "2021-08-25T13:00:09.898174Z",
     "iopub.status.idle": "2021-08-25T13:00:09.921528Z",
     "shell.execute_reply": "2021-08-25T13:00:09.922959Z"
    },
    "papermill": {
     "duration": 0.068782,
     "end_time": "2021-08-25T13:00:09.923404",
     "exception": false,
     "start_time": "2021-08-25T13:00:09.854622",
     "status": "completed"
    },
    "tags": []
   },
   "outputs": [],
   "source": [
    "df_pivot = df.pivot_table(index=\"PRODUCT\", columns = \"RECORD_TIME\", values = \"LISTING_COUNT\")"
   ]
  },
  {
   "cell_type": "code",
   "execution_count": 6,
   "id": "union-huntington",
   "metadata": {
    "execution": {
     "iopub.execute_input": "2021-08-25T13:00:09.988929Z",
     "iopub.status.busy": "2021-08-25T13:00:09.986772Z",
     "iopub.status.idle": "2021-08-25T13:00:09.992108Z",
     "shell.execute_reply": "2021-08-25T13:00:09.993575Z"
    },
    "papermill": {
     "duration": 0.044232,
     "end_time": "2021-08-25T13:00:09.994306",
     "exception": false,
     "start_time": "2021-08-25T13:00:09.950074",
     "status": "completed"
    },
    "tags": []
   },
   "outputs": [],
   "source": [
    "df_pivot.columns = [\"stamp_1\", \"stamp_2\"]\n",
    "df_pivot_diff = df_pivot.diff(axis=1)"
   ]
  },
  {
   "cell_type": "code",
   "execution_count": 7,
   "id": "fifth-motion",
   "metadata": {
    "execution": {
     "iopub.execute_input": "2021-08-25T13:00:10.051400Z",
     "iopub.status.busy": "2021-08-25T13:00:10.049076Z",
     "iopub.status.idle": "2021-08-25T13:00:11.541093Z",
     "shell.execute_reply": "2021-08-25T13:00:11.542383Z"
    },
    "papermill": {
     "duration": 1.52573,
     "end_time": "2021-08-25T13:00:11.542838",
     "exception": false,
     "start_time": "2021-08-25T13:00:10.017108",
     "status": "completed"
    },
    "tags": []
   },
   "outputs": [
    {
     "data": {
      "text/plain": [
       "<AxesSubplot:ylabel='PRODUCT'>"
      ]
     },
     "execution_count": 7,
     "metadata": {},
     "output_type": "execute_result"
    },
    {
     "data": {
      "image/png": "[encoded data removed]",
      "text/plain": [
       "<Figure size 432x288 with 1 Axes>"
      ]
     },
     "metadata": {
      "needs_background": "light"
     },
     "output_type": "display_data"
    }
   ],
   "source": [
    "df_pivot_diff.sort_values(\"stamp_2\", ascending = False)[\"stamp_2\"].head(10).plot.barh()"
   ]
  },
  {
   "cell_type": "code",
   "execution_count": null,
   "id": "extra-executive",
   "metadata": {
    "papermill": {
     "duration": 0.022524,
     "end_time": "2021-08-25T13:00:11.590077",
     "exception": false,
     "start_time": "2021-08-25T13:00:11.567553",
     "status": "completed"
    },
    "tags": []
   },
   "outputs": [],
   "source": []
  }
 ],
 "metadata": {
  "kernelspec": {
   "display_name": "Python 3",
   "language": "python",
   "name": "python3"
  },
  "language_info": {
   "codemirror_mode": {
    "name": "ipython",
    "version": 3
   },
   "file_extension": ".py",
   "mimetype": "text/x-python",
   "name": "python",
   "nbconvert_exporter": "python",
   "pygments_lexer": "ipython3",
   "version": "3.9.5"
  },
  "papermill": {
   "default_parameters": {},
   "duration": 6.819478,
   "end_time": "2021-08-25T13:00:12.883134",
   "environment_variables": {},
   "exception": null,
   "input_path": "eBay_Overview.ipynb",
   "output_path": "eBay_Overview.ipynb",
   "parameters": {},
   "start_time": "2021-08-25T13:00:06.063656",
   "version": "2.3.3"
  }
 },
 "nbformat": 4,
 "nbformat_minor": 5
}