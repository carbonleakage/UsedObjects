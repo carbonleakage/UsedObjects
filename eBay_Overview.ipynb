{
 "cells": [
  {
   "cell_type": "code",
   "execution_count": 1,
   "id": "reverse-picking",
   "metadata": {
    "execution": {
     "iopub.execute_input": "2021-10-11T01:30:06.852915Z",
     "iopub.status.busy": "2021-10-11T01:30:06.851006Z",
     "iopub.status.idle": "2021-10-11T01:30:07.659835Z",
     "shell.execute_reply": "2021-10-11T01:30:07.661110Z"
    },
    "papermill": {
     "duration": 0.861626,
     "end_time": "2021-10-11T01:30:07.661731",
     "exception": false,
     "start_time": "2021-10-11T01:30:06.800105",
     "status": "completed"
    },
    "tags": []
   },
   "outputs": [],
   "source": [
    "import pandas as pd\n",
    "import sqlite3"
   ]
  },
  {
   "cell_type": "code",
   "execution_count": 2,
   "id": "innovative-syndrome",
   "metadata": {
    "execution": {
     "iopub.execute_input": "2021-10-11T01:30:07.712565Z",
     "iopub.status.busy": "2021-10-11T01:30:07.710407Z",
     "iopub.status.idle": "2021-10-11T01:30:08.222762Z",
     "shell.execute_reply": "2021-10-11T01:30:08.224163Z"
    },
    "papermill": {
     "duration": 0.541458,
     "end_time": "2021-10-11T01:30:08.224577",
     "exception": false,
     "start_time": "2021-10-11T01:30:07.683119",
     "status": "completed"
    },
    "tags": []
   },
   "outputs": [],
   "source": [
    "timestamps = pd.read_sql(\"select distinct record_time from EBAY_TOP_BERLIN order by record_time desc limit 2\", sqlite3.connect(\"UsedObjects.db\"))"
   ]
  },
  {
   "cell_type": "code",
   "execution_count": 3,
   "id": "periodic-identification",
   "metadata": {
    "execution": {
     "iopub.execute_input": "2021-10-11T01:30:08.292265Z",
     "iopub.status.busy": "2021-10-11T01:30:08.287269Z",
     "iopub.status.idle": "2021-10-11T01:30:08.308903Z",
     "shell.execute_reply": "2021-10-11T01:30:08.310486Z"
    },
    "papermill": {
     "duration": 0.0667,
     "end_time": "2021-10-11T01:30:08.311206",
     "exception": false,
     "start_time": "2021-10-11T01:30:08.244506",
     "status": "completed"
    },
    "tags": []
   },
   "outputs": [
    {
     "data": {
      "text/html": [
       "<div>\n",
       "<style scoped>\n",
       "    .dataframe tbody tr th:only-of-type {\n",
       "        vertical-align: middle;\n",
       "    }\n",
       "\n",
       "    .dataframe tbody tr th {\n",
       "        vertical-align: top;\n",
       "    }\n",
       "\n",
       "    .dataframe thead th {\n",
       "        text-align: right;\n",
       "    }\n",
       "</style>\n",
       "<table border=\"1\" class=\"dataframe\">\n",
       "  <thead>\n",
       "    <tr style=\"text-align: right;\">\n",
       "      <th></th>\n",
       "      <th>RECORD_TIME</th>\n",
       "    </tr>\n",
       "  </thead>\n",
       "  <tbody>\n",
       "    <tr>\n",
       "      <th>0</th>\n",
       "      <td>2021-10-11 03:30</td>\n",
       "    </tr>\n",
       "    <tr>\n",
       "      <th>1</th>\n",
       "      <td>2021-10-11 03:00</td>\n",
       "    </tr>\n",
       "  </tbody>\n",
       "</table>\n",
       "</div>"
      ],
      "text/plain": [
       "        RECORD_TIME\n",
       "0  2021-10-11 03:30\n",
       "1  2021-10-11 03:00"
      ]
     },
     "execution_count": 3,
     "metadata": {},
     "output_type": "execute_result"
    }
   ],
   "source": [
    "timestamps"
   ]
  },
  {
   "cell_type": "code",
   "execution_count": 4,
   "id": "alternate-victory",
   "metadata": {
    "execution": {
     "iopub.execute_input": "2021-10-11T01:30:08.390724Z",
     "iopub.status.busy": "2021-10-11T01:30:08.388717Z",
     "iopub.status.idle": "2021-10-11T01:30:09.147492Z",
     "shell.execute_reply": "2021-10-11T01:30:09.148724Z"
    },
    "papermill": {
     "duration": 0.795405,
     "end_time": "2021-10-11T01:30:09.149119",
     "exception": false,
     "start_time": "2021-10-11T01:30:08.353714",
     "status": "completed"
    },
    "tags": []
   },
   "outputs": [],
   "source": [
    "df = pd.read_sql(\"select * from EBAY_TOP_BERLIN where record_time in (select distinct record_time from EBAY_TOP_BERLIN order by record_time desc limit 2)\", sqlite3.connect(\"UsedObjects.db\"))"
   ]
  },
  {
   "cell_type": "code",
   "execution_count": 5,
   "id": "popular-active",
   "metadata": {
    "execution": {
     "iopub.execute_input": "2021-10-11T01:30:09.224031Z",
     "iopub.status.busy": "2021-10-11T01:30:09.210901Z",
     "iopub.status.idle": "2021-10-11T01:30:09.240384Z",
     "shell.execute_reply": "2021-10-11T01:30:09.241764Z"
    },
    "papermill": {
     "duration": 0.069836,
     "end_time": "2021-10-11T01:30:09.242203",
     "exception": false,
     "start_time": "2021-10-11T01:30:09.172367",
     "status": "completed"
    },
    "tags": []
   },
   "outputs": [],
   "source": [
    "df_pivot = df.pivot_table(index=\"PRODUCT\", columns = \"RECORD_TIME\", values = \"LISTING_COUNT\")"
   ]
  },
  {
   "cell_type": "code",
   "execution_count": 6,
   "id": "union-huntington",
   "metadata": {
    "execution": {
     "iopub.execute_input": "2021-10-11T01:30:09.301180Z",
     "iopub.status.busy": "2021-10-11T01:30:09.298701Z",
     "iopub.status.idle": "2021-10-11T01:30:09.304670Z",
     "shell.execute_reply": "2021-10-11T01:30:09.305949Z"
    },
    "papermill": {
     "duration": 0.041918,
     "end_time": "2021-10-11T01:30:09.306367",
     "exception": false,
     "start_time": "2021-10-11T01:30:09.264449",
     "status": "completed"
    },
    "tags": []
   },
   "outputs": [],
   "source": [
    "df_pivot.columns = [\"stamp_1\", \"stamp_2\"]\n",
    "df_pivot_diff = df_pivot.diff(axis=1)"
   ]
  },
  {
   "cell_type": "code",
   "execution_count": 7,
   "id": "fifth-motion",
   "metadata": {
    "execution": {
     "iopub.execute_input": "2021-10-11T01:30:09.360801Z",
     "iopub.status.busy": "2021-10-11T01:30:09.358360Z",
     "iopub.status.idle": "2021-10-11T01:30:10.847179Z",
     "shell.execute_reply": "2021-10-11T01:30:10.848651Z"
    },
    "papermill": {
     "duration": 1.522277,
     "end_time": "2021-10-11T01:30:10.849119",
     "exception": false,
     "start_time": "2021-10-11T01:30:09.326842",
     "status": "completed"
    },
    "tags": []
   },
   "outputs": [
    {
     "data": {
      "text/plain": [
       "<AxesSubplot:ylabel='PRODUCT'>"
      ]
     },
     "execution_count": 7,
     "metadata": {},
     "output_type": "execute_result"
    },
    {
     "data": {
      "image/png": "[encoded data removed]",
      "text/plain": [
       "<Figure size 432x288 with 1 Axes>"
      ]
     },
     "metadata": {
      "needs_background": "light"
     },
     "output_type": "display_data"
    }
   ],
   "source": [
    "df_pivot_diff.sort_values(\"stamp_2\", ascending = False)[\"stamp_2\"].head(10).plot.barh()"
   ]
  },
  {
   "cell_type": "code",
   "execution_count": null,
   "id": "extra-executive",
   "metadata": {
    "papermill": {
     "duration": 0.022156,
     "end_time": "2021-10-11T01:30:10.895989",
     "exception": false,
     "start_time": "2021-10-11T01:30:10.873833",
     "status": "completed"
    },
    "tags": []
   },
   "outputs": [],
   "source": []
  }
 ],
 "metadata": {
  "kernelspec": {
   "display_name": "Python 3",
   "language": "python",
   "name": "python3"
  },
  "language_info": {
   "codemirror_mode": {
    "name": "ipython",
    "version": 3
   },
   "file_extension": ".py",
   "mimetype": "text/x-python",
   "name": "python",
   "nbconvert_exporter": "python",
   "pygments_lexer": "ipython3",
   "version": "3.9.5"
  },
  "papermill": {
   "default_parameters": {},
   "duration": 7.823868,
   "end_time": "2021-10-11T01:30:12.220824",
   "environment_variables": {},
   "exception": null,
   "input_path": "eBay_Overview.ipynb",
   "output_path": "eBay_Overview.ipynb",
   "parameters": {},
   "start_time": "2021-10-11T01:30:04.396956",
   "version": "2.3.3"
  }
 },
 "nbformat": 4,
 "nbformat_minor": 5
}