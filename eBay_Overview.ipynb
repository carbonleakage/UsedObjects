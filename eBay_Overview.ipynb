{
 "cells": [
  {
   "cell_type": "code",
   "execution_count": 1,
   "id": "reverse-picking",
   "metadata": {
    "execution": {
     "iopub.execute_input": "2021-10-23T05:00:06.732618Z",
     "iopub.status.busy": "2021-10-23T05:00:06.730714Z",
     "iopub.status.idle": "2021-10-23T05:00:07.534296Z",
     "shell.execute_reply": "2021-10-23T05:00:07.535698Z"
    },
    "papermill": {
     "duration": 0.856484,
     "end_time": "2021-10-23T05:00:07.536378",
     "exception": false,
     "start_time": "2021-10-23T05:00:06.679894",
     "status": "completed"
    },
    "tags": []
   },
   "outputs": [],
   "source": [
    "import pandas as pd\n",
    "import sqlite3"
   ]
  },
  {
   "cell_type": "code",
   "execution_count": 2,
   "id": "innovative-syndrome",
   "metadata": {
    "execution": {
     "iopub.execute_input": "2021-10-23T05:00:07.587963Z",
     "iopub.status.busy": "2021-10-23T05:00:07.585894Z",
     "iopub.status.idle": "2021-10-23T05:00:08.195616Z",
     "shell.execute_reply": "2021-10-23T05:00:08.196973Z"
    },
    "papermill": {
     "duration": 0.640424,
     "end_time": "2021-10-23T05:00:08.197445",
     "exception": false,
     "start_time": "2021-10-23T05:00:07.557021",
     "status": "completed"
    },
    "tags": []
   },
   "outputs": [],
   "source": [
    "timestamps = pd.read_sql(\"select distinct record_time from EBAY_TOP_BERLIN order by record_time desc limit 2\", sqlite3.connect(\"UsedObjects.db\"))"
   ]
  },
  {
   "cell_type": "code",
   "execution_count": 3,
   "id": "periodic-identification",
   "metadata": {
    "execution": {
     "iopub.execute_input": "2021-10-23T05:00:08.272364Z",
     "iopub.status.busy": "2021-10-23T05:00:08.270336Z",
     "iopub.status.idle": "2021-10-23T05:00:08.290487Z",
     "shell.execute_reply": "2021-10-23T05:00:08.291670Z"
    },
    "papermill": {
     "duration": 0.069234,
     "end_time": "2021-10-23T05:00:08.292099",
     "exception": false,
     "start_time": "2021-10-23T05:00:08.222865",
     "status": "completed"
    },
    "tags": []
   },
   "outputs": [
    {
     "data": {
      "text/html": [
       "<div>\n",
       "<style scoped>\n",
       "    .dataframe tbody tr th:only-of-type {\n",
       "        vertical-align: middle;\n",
       "    }\n",
       "\n",
       "    .dataframe tbody tr th {\n",
       "        vertical-align: top;\n",
       "    }\n",
       "\n",
       "    .dataframe thead th {\n",
       "        text-align: right;\n",
       "    }\n",
       "</style>\n",
       "<table border=\"1\" class=\"dataframe\">\n",
       "  <thead>\n",
       "    <tr style=\"text-align: right;\">\n",
       "      <th></th>\n",
       "      <th>RECORD_TIME</th>\n",
       "    </tr>\n",
       "  </thead>\n",
       "  <tbody>\n",
       "    <tr>\n",
       "      <th>0</th>\n",
       "      <td>2021-10-23 07:00</td>\n",
       "    </tr>\n",
       "    <tr>\n",
       "      <th>1</th>\n",
       "      <td>2021-10-23 06:30</td>\n",
       "    </tr>\n",
       "  </tbody>\n",
       "</table>\n",
       "</div>"
      ],
      "text/plain": [
       "        RECORD_TIME\n",
       "0  2021-10-23 07:00\n",
       "1  2021-10-23 06:30"
      ]
     },
     "execution_count": 3,
     "metadata": {},
     "output_type": "execute_result"
    }
   ],
   "source": [
    "timestamps"
   ]
  },
  {
   "cell_type": "code",
   "execution_count": 4,
   "id": "alternate-victory",
   "metadata": {
    "execution": {
     "iopub.execute_input": "2021-10-23T05:00:08.345027Z",
     "iopub.status.busy": "2021-10-23T05:00:08.343064Z",
     "iopub.status.idle": "2021-10-23T05:00:09.239335Z",
     "shell.execute_reply": "2021-10-23T05:00:09.240549Z"
    },
    "papermill": {
     "duration": 0.92651,
     "end_time": "2021-10-23T05:00:09.241007",
     "exception": false,
     "start_time": "2021-10-23T05:00:08.314497",
     "status": "completed"
    },
    "tags": []
   },
   "outputs": [],
   "source": [
    "df = pd.read_sql(\"select * from EBAY_TOP_BERLIN where record_time in (select distinct record_time from EBAY_TOP_BERLIN order by record_time desc limit 2)\", sqlite3.connect(\"UsedObjects.db\"))"
   ]
  },
  {
   "cell_type": "code",
   "execution_count": 5,
   "id": "popular-active",
   "metadata": {
    "execution": {
     "iopub.execute_input": "2021-10-23T05:00:09.313020Z",
     "iopub.status.busy": "2021-10-23T05:00:09.301442Z",
     "iopub.status.idle": "2021-10-23T05:00:09.328914Z",
     "shell.execute_reply": "2021-10-23T05:00:09.330129Z"
    },
    "papermill": {
     "duration": 0.067915,
     "end_time": "2021-10-23T05:00:09.330525",
     "exception": false,
     "start_time": "2021-10-23T05:00:09.262610",
     "status": "completed"
    },
    "tags": []
   },
   "outputs": [],
   "source": [
    "df_pivot = df.pivot_table(index=\"PRODUCT\", columns = \"RECORD_TIME\", values = \"LISTING_COUNT\")"
   ]
  },
  {
   "cell_type": "code",
   "execution_count": 6,
   "id": "union-huntington",
   "metadata": {
    "execution": {
     "iopub.execute_input": "2021-10-23T05:00:09.387930Z",
     "iopub.status.busy": "2021-10-23T05:00:09.385881Z",
     "iopub.status.idle": "2021-10-23T05:00:09.391146Z",
     "shell.execute_reply": "2021-10-23T05:00:09.392408Z"
    },
    "papermill": {
     "duration": 0.040614,
     "end_time": "2021-10-23T05:00:09.392893",
     "exception": false,
     "start_time": "2021-10-23T05:00:09.352279",
     "status": "completed"
    },
    "tags": []
   },
   "outputs": [],
   "source": [
    "df_pivot.columns = [\"stamp_1\", \"stamp_2\"]\n",
    "df_pivot_diff = df_pivot.diff(axis=1)"
   ]
  },
  {
   "cell_type": "code",
   "execution_count": 7,
   "id": "fifth-motion",
   "metadata": {
    "execution": {
     "iopub.execute_input": "2021-10-23T05:00:09.448970Z",
     "iopub.status.busy": "2021-10-23T05:00:09.446542Z",
     "iopub.status.idle": "2021-10-23T05:00:10.922045Z",
     "shell.execute_reply": "2021-10-23T05:00:10.923615Z"
    },
    "papermill": {
     "duration": 1.509434,
     "end_time": "2021-10-23T05:00:10.924115",
     "exception": false,
     "start_time": "2021-10-23T05:00:09.414681",
     "status": "completed"
    },
    "tags": []
   },
   "outputs": [
    {
     "data": {
      "text/plain": [
       "<AxesSubplot:ylabel='PRODUCT'>"
      ]
     },
     "execution_count": 7,
     "metadata": {},
     "output_type": "execute_result"
    },
    {
     "data": {
      "image/png": "[encoded data removed]",
      "text/plain": [
       "<Figure size 432x288 with 1 Axes>"
      ]
     },
     "metadata": {
      "needs_background": "light"
     },
     "output_type": "display_data"
    }
   ],
   "source": [
    "df_pivot_diff.sort_values(\"stamp_2\", ascending = False)[\"stamp_2\"].head(10).plot.barh()"
   ]
  },
  {
   "cell_type": "code",
   "execution_count": null,
   "id": "extra-executive",
   "metadata": {
    "papermill": {
     "duration": 0.022548,
     "end_time": "2021-10-23T05:00:10.971148",
     "exception": false,
     "start_time": "2021-10-23T05:00:10.948600",
     "status": "completed"
    },
    "tags": []
   },
   "outputs": [],
   "source": []
  }
 ],
 "metadata": {
  "kernelspec": {
   "display_name": "Python 3",
   "language": "python",
   "name": "python3"
  },
  "language_info": {
   "codemirror_mode": {
    "name": "ipython",
    "version": 3
   },
   "file_extension": ".py",
   "mimetype": "text/x-python",
   "name": "python",
   "nbconvert_exporter": "python",
   "pygments_lexer": "ipython3",
   "version": "3.9.5"
  },
  "papermill": {
   "default_parameters": {},
   "duration": 7.342507,
   "end_time": "2021-10-23T05:00:11.615027",
   "environment_variables": {},
   "exception": null,
   "input_path": "eBay_Overview.ipynb",
   "output_path": "eBay_Overview.ipynb",
   "parameters": {},
   "start_time": "2021-10-23T05:00:04.272520",
   "version": "2.3.3"
  }
 },
 "nbformat": 4,
 "nbformat_minor": 5
}