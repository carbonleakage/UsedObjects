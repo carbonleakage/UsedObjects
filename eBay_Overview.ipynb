{
 "cells": [
  {
   "cell_type": "code",
   "execution_count": 1,
   "id": "reverse-picking",
   "metadata": {
    "execution": {
     "iopub.execute_input": "2021-12-06T10:30:07.961988Z",
     "iopub.status.busy": "2021-12-06T10:30:07.959529Z",
     "iopub.status.idle": "2021-12-06T10:30:08.937713Z",
     "shell.execute_reply": "2021-12-06T10:30:08.939433Z"
    },
    "papermill": {
     "duration": 1.027146,
     "end_time": "2021-12-06T10:30:08.940322",
     "exception": false,
     "start_time": "2021-12-06T10:30:07.913176",
     "status": "completed"
    },
    "tags": []
   },
   "outputs": [],
   "source": [
    "import pandas as pd\n",
    "import sqlite3"
   ]
  },
  {
   "cell_type": "code",
   "execution_count": 2,
   "id": "innovative-syndrome",
   "metadata": {
    "execution": {
     "iopub.execute_input": "2021-12-06T10:30:09.061530Z",
     "iopub.status.busy": "2021-12-06T10:30:09.059249Z",
     "iopub.status.idle": "2021-12-06T10:30:10.089169Z",
     "shell.execute_reply": "2021-12-06T10:30:10.091220Z"
    },
    "papermill": {
     "duration": 1.064439,
     "end_time": "2021-12-06T10:30:10.091643",
     "exception": false,
     "start_time": "2021-12-06T10:30:09.027204",
     "status": "completed"
    },
    "tags": []
   },
   "outputs": [],
   "source": [
    "timestamps = pd.read_sql(\"select distinct record_time from EBAY_TOP_BERLIN order by record_time desc limit 2\", sqlite3.connect(\"UsedObjects.db\"))"
   ]
  },
  {
   "cell_type": "code",
   "execution_count": 3,
   "id": "periodic-identification",
   "metadata": {
    "execution": {
     "iopub.execute_input": "2021-12-06T10:30:10.164090Z",
     "iopub.status.busy": "2021-12-06T10:30:10.161700Z",
     "iopub.status.idle": "2021-12-06T10:30:10.185099Z",
     "shell.execute_reply": "2021-12-06T10:30:10.186547Z"
    },
    "papermill": {
     "duration": 0.073335,
     "end_time": "2021-12-06T10:30:10.187024",
     "exception": false,
     "start_time": "2021-12-06T10:30:10.113689",
     "status": "completed"
    },
    "tags": []
   },
   "outputs": [
    {
     "data": {
      "text/html": [
       "<div>\n",
       "<style scoped>\n",
       "    .dataframe tbody tr th:only-of-type {\n",
       "        vertical-align: middle;\n",
       "    }\n",
       "\n",
       "    .dataframe tbody tr th {\n",
       "        vertical-align: top;\n",
       "    }\n",
       "\n",
       "    .dataframe thead th {\n",
       "        text-align: right;\n",
       "    }\n",
       "</style>\n",
       "<table border=\"1\" class=\"dataframe\">\n",
       "  <thead>\n",
       "    <tr style=\"text-align: right;\">\n",
       "      <th></th>\n",
       "      <th>RECORD_TIME</th>\n",
       "    </tr>\n",
       "  </thead>\n",
       "  <tbody>\n",
       "    <tr>\n",
       "      <th>0</th>\n",
       "      <td>2021-12-06 11:30</td>\n",
       "    </tr>\n",
       "    <tr>\n",
       "      <th>1</th>\n",
       "      <td>2021-12-06 11:00</td>\n",
       "    </tr>\n",
       "  </tbody>\n",
       "</table>\n",
       "</div>"
      ],
      "text/plain": [
       "        RECORD_TIME\n",
       "0  2021-12-06 11:30\n",
       "1  2021-12-06 11:00"
      ]
     },
     "execution_count": 3,
     "metadata": {},
     "output_type": "execute_result"
    }
   ],
   "source": [
    "timestamps"
   ]
  },
  {
   "cell_type": "code",
   "execution_count": 4,
   "id": "alternate-victory",
   "metadata": {
    "execution": {
     "iopub.execute_input": "2021-12-06T10:30:10.242543Z",
     "iopub.status.busy": "2021-12-06T10:30:10.240197Z",
     "iopub.status.idle": "2021-12-06T10:30:11.703465Z",
     "shell.execute_reply": "2021-12-06T10:30:11.704954Z"
    },
    "papermill": {
     "duration": 1.497533,
     "end_time": "2021-12-06T10:30:11.705451",
     "exception": false,
     "start_time": "2021-12-06T10:30:10.207918",
     "status": "completed"
    },
    "tags": []
   },
   "outputs": [],
   "source": [
    "df = pd.read_sql(\"select * from EBAY_TOP_BERLIN where record_time in (select distinct record_time from EBAY_TOP_BERLIN order by record_time desc limit 2)\", sqlite3.connect(\"UsedObjects.db\"))"
   ]
  },
  {
   "cell_type": "code",
   "execution_count": 5,
   "id": "popular-active",
   "metadata": {
    "execution": {
     "iopub.execute_input": "2021-12-06T10:30:11.778743Z",
     "iopub.status.busy": "2021-12-06T10:30:11.765964Z",
     "iopub.status.idle": "2021-12-06T10:30:11.797605Z",
     "shell.execute_reply": "2021-12-06T10:30:11.798952Z"
    },
    "papermill": {
     "duration": 0.073722,
     "end_time": "2021-12-06T10:30:11.799421",
     "exception": false,
     "start_time": "2021-12-06T10:30:11.725699",
     "status": "completed"
    },
    "tags": []
   },
   "outputs": [],
   "source": [
    "df_pivot = df.pivot_table(index=\"PRODUCT\", columns = \"RECORD_TIME\", values = \"LISTING_COUNT\")"
   ]
  },
  {
   "cell_type": "code",
   "execution_count": 6,
   "id": "union-huntington",
   "metadata": {
    "execution": {
     "iopub.execute_input": "2021-12-06T10:30:11.861197Z",
     "iopub.status.busy": "2021-12-06T10:30:11.858775Z",
     "iopub.status.idle": "2021-12-06T10:30:11.864352Z",
     "shell.execute_reply": "2021-12-06T10:30:11.866049Z"
    },
    "papermill": {
     "duration": 0.046876,
     "end_time": "2021-12-06T10:30:11.866584",
     "exception": false,
     "start_time": "2021-12-06T10:30:11.819708",
     "status": "completed"
    },
    "tags": []
   },
   "outputs": [],
   "source": [
    "df_pivot.columns = [\"stamp_1\", \"stamp_2\"]\n",
    "df_pivot_diff = df_pivot.diff(axis=1)"
   ]
  },
  {
   "cell_type": "code",
   "execution_count": 7,
   "id": "fifth-motion",
   "metadata": {
    "execution": {
     "iopub.execute_input": "2021-12-06T10:30:11.924081Z",
     "iopub.status.busy": "2021-12-06T10:30:11.921617Z",
     "iopub.status.idle": "2021-12-06T10:30:13.920940Z",
     "shell.execute_reply": "2021-12-06T10:30:13.922172Z"
    },
    "papermill": {
     "duration": 2.03423,
     "end_time": "2021-12-06T10:30:13.922613",
     "exception": false,
     "start_time": "2021-12-06T10:30:11.888383",
     "status": "completed"
    },
    "tags": []
   },
   "outputs": [
    {
     "data": {
      "text/plain": [
       "<AxesSubplot:ylabel='PRODUCT'>"
      ]
     },
     "execution_count": 7,
     "metadata": {},
     "output_type": "execute_result"
    },
    {
     "data": {
      "image/png": "[encoded data removed]",
      "text/plain": [
       "<Figure size 432x288 with 1 Axes>"
      ]
     },
     "metadata": {
      "needs_background": "light"
     },
     "output_type": "display_data"
    }
   ],
   "source": [
    "df_pivot_diff.sort_values(\"stamp_2\", ascending = False)[\"stamp_2\"].head(10).plot.barh()"
   ]
  },
  {
   "cell_type": "code",
   "execution_count": null,
   "id": "extra-executive",
   "metadata": {
    "papermill": {
     "duration": 0.070922,
     "end_time": "2021-12-06T10:30:14.019784",
     "exception": false,
     "start_time": "2021-12-06T10:30:13.948862",
     "status": "completed"
    },
    "tags": []
   },
   "outputs": [],
   "source": []
  }
 ],
 "metadata": {
  "kernelspec": {
   "display_name": "Python 3",
   "language": "python",
   "name": "python3"
  },
  "language_info": {
   "codemirror_mode": {
    "name": "ipython",
    "version": 3
   },
   "file_extension": ".py",
   "mimetype": "text/x-python",
   "name": "python",
   "nbconvert_exporter": "python",
   "pygments_lexer": "ipython3",
   "version": "3.9.5"
  },
  "papermill": {
   "default_parameters": {},
   "duration": 9.50186,
   "end_time": "2021-12-06T10:30:14.669434",
   "environment_variables": {},
   "exception": null,
   "input_path": "eBay_Overview.ipynb",
   "output_path": "eBay_Overview.ipynb",
   "parameters": {},
   "start_time": "2021-12-06T10:30:05.167574",
   "version": "2.3.3"
  }
 },
 "nbformat": 4,
 "nbformat_minor": 5
}