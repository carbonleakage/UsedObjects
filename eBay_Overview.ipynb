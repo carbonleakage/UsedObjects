{
 "cells": [
  {
   "cell_type": "code",
   "execution_count": 1,
   "id": "reverse-picking",
   "metadata": {
    "execution": {
     "iopub.execute_input": "2021-12-03T16:00:07.247928Z",
     "iopub.status.busy": "2021-12-03T16:00:07.239007Z",
     "iopub.status.idle": "2021-12-03T16:00:08.197159Z",
     "shell.execute_reply": "2021-12-03T16:00:08.198825Z"
    },
    "papermill": {
     "duration": 1.004979,
     "end_time": "2021-12-03T16:00:08.199551",
     "exception": false,
     "start_time": "2021-12-03T16:00:07.194572",
     "status": "completed"
    },
    "tags": []
   },
   "outputs": [],
   "source": [
    "import pandas as pd\n",
    "import sqlite3"
   ]
  },
  {
   "cell_type": "code",
   "execution_count": 2,
   "id": "innovative-syndrome",
   "metadata": {
    "execution": {
     "iopub.execute_input": "2021-12-03T16:00:08.263744Z",
     "iopub.status.busy": "2021-12-03T16:00:08.261314Z",
     "iopub.status.idle": "2021-12-03T16:00:09.254392Z",
     "shell.execute_reply": "2021-12-03T16:00:09.255990Z"
    },
    "papermill": {
     "duration": 1.028555,
     "end_time": "2021-12-03T16:00:09.256492",
     "exception": false,
     "start_time": "2021-12-03T16:00:08.227937",
     "status": "completed"
    },
    "tags": []
   },
   "outputs": [],
   "source": [
    "timestamps = pd.read_sql(\"select distinct record_time from EBAY_TOP_BERLIN order by record_time desc limit 2\", sqlite3.connect(\"UsedObjects.db\"))"
   ]
  },
  {
   "cell_type": "code",
   "execution_count": 3,
   "id": "periodic-identification",
   "metadata": {
    "execution": {
     "iopub.execute_input": "2021-12-03T16:00:09.331063Z",
     "iopub.status.busy": "2021-12-03T16:00:09.328608Z",
     "iopub.status.idle": "2021-12-03T16:00:09.351734Z",
     "shell.execute_reply": "2021-12-03T16:00:09.353246Z"
    },
    "papermill": {
     "duration": 0.076362,
     "end_time": "2021-12-03T16:00:09.353726",
     "exception": false,
     "start_time": "2021-12-03T16:00:09.277364",
     "status": "completed"
    },
    "tags": []
   },
   "outputs": [
    {
     "data": {
      "text/html": [
       "<div>\n",
       "<style scoped>\n",
       "    .dataframe tbody tr th:only-of-type {\n",
       "        vertical-align: middle;\n",
       "    }\n",
       "\n",
       "    .dataframe tbody tr th {\n",
       "        vertical-align: top;\n",
       "    }\n",
       "\n",
       "    .dataframe thead th {\n",
       "        text-align: right;\n",
       "    }\n",
       "</style>\n",
       "<table border=\"1\" class=\"dataframe\">\n",
       "  <thead>\n",
       "    <tr style=\"text-align: right;\">\n",
       "      <th></th>\n",
       "      <th>RECORD_TIME</th>\n",
       "    </tr>\n",
       "  </thead>\n",
       "  <tbody>\n",
       "    <tr>\n",
       "      <th>0</th>\n",
       "      <td>2021-12-03 17:00</td>\n",
       "    </tr>\n",
       "    <tr>\n",
       "      <th>1</th>\n",
       "      <td>2021-12-03 16:30</td>\n",
       "    </tr>\n",
       "  </tbody>\n",
       "</table>\n",
       "</div>"
      ],
      "text/plain": [
       "        RECORD_TIME\n",
       "0  2021-12-03 17:00\n",
       "1  2021-12-03 16:30"
      ]
     },
     "execution_count": 3,
     "metadata": {},
     "output_type": "execute_result"
    }
   ],
   "source": [
    "timestamps"
   ]
  },
  {
   "cell_type": "code",
   "execution_count": 4,
   "id": "alternate-victory",
   "metadata": {
    "execution": {
     "iopub.execute_input": "2021-12-03T16:00:09.406417Z",
     "iopub.status.busy": "2021-12-03T16:00:09.403949Z",
     "iopub.status.idle": "2021-12-03T16:00:10.827648Z",
     "shell.execute_reply": "2021-12-03T16:00:10.829268Z"
    },
    "papermill": {
     "duration": 1.454848,
     "end_time": "2021-12-03T16:00:10.829790",
     "exception": false,
     "start_time": "2021-12-03T16:00:09.374942",
     "status": "completed"
    },
    "tags": []
   },
   "outputs": [],
   "source": [
    "df = pd.read_sql(\"select * from EBAY_TOP_BERLIN where record_time in (select distinct record_time from EBAY_TOP_BERLIN order by record_time desc limit 2)\", sqlite3.connect(\"UsedObjects.db\"))"
   ]
  },
  {
   "cell_type": "code",
   "execution_count": 5,
   "id": "popular-active",
   "metadata": {
    "execution": {
     "iopub.execute_input": "2021-12-03T16:00:10.902804Z",
     "iopub.status.busy": "2021-12-03T16:00:10.892997Z",
     "iopub.status.idle": "2021-12-03T16:00:10.928374Z",
     "shell.execute_reply": "2021-12-03T16:00:10.929851Z"
    },
    "papermill": {
     "duration": 0.078345,
     "end_time": "2021-12-03T16:00:10.930359",
     "exception": false,
     "start_time": "2021-12-03T16:00:10.852014",
     "status": "completed"
    },
    "tags": []
   },
   "outputs": [],
   "source": [
    "df_pivot = df.pivot_table(index=\"PRODUCT\", columns = \"RECORD_TIME\", values = \"LISTING_COUNT\")"
   ]
  },
  {
   "cell_type": "code",
   "execution_count": 6,
   "id": "union-huntington",
   "metadata": {
    "execution": {
     "iopub.execute_input": "2021-12-03T16:00:10.991203Z",
     "iopub.status.busy": "2021-12-03T16:00:10.988985Z",
     "iopub.status.idle": "2021-12-03T16:00:10.994746Z",
     "shell.execute_reply": "2021-12-03T16:00:10.996095Z"
    },
    "papermill": {
     "duration": 0.043977,
     "end_time": "2021-12-03T16:00:10.996570",
     "exception": false,
     "start_time": "2021-12-03T16:00:10.952593",
     "status": "completed"
    },
    "tags": []
   },
   "outputs": [],
   "source": [
    "df_pivot.columns = [\"stamp_1\", \"stamp_2\"]\n",
    "df_pivot_diff = df_pivot.diff(axis=1)"
   ]
  },
  {
   "cell_type": "code",
   "execution_count": 7,
   "id": "fifth-motion",
   "metadata": {
    "execution": {
     "iopub.execute_input": "2021-12-03T16:00:11.052829Z",
     "iopub.status.busy": "2021-12-03T16:00:11.050312Z",
     "iopub.status.idle": "2021-12-03T16:00:12.966706Z",
     "shell.execute_reply": "2021-12-03T16:00:12.969594Z"
    },
    "papermill": {
     "duration": 1.953766,
     "end_time": "2021-12-03T16:00:12.970381",
     "exception": false,
     "start_time": "2021-12-03T16:00:11.016615",
     "status": "completed"
    },
    "tags": []
   },
   "outputs": [
    {
     "data": {
      "text/plain": [
       "<AxesSubplot:ylabel='PRODUCT'>"
      ]
     },
     "execution_count": 7,
     "metadata": {},
     "output_type": "execute_result"
    },
    {
     "data": {
      "image/png": "[encoded data removed]",
      "text/plain": [
       "<Figure size 432x288 with 1 Axes>"
      ]
     },
     "metadata": {
      "needs_background": "light"
     },
     "output_type": "display_data"
    }
   ],
   "source": [
    "df_pivot_diff.sort_values(\"stamp_2\", ascending = False)[\"stamp_2\"].head(10).plot.barh()"
   ]
  },
  {
   "cell_type": "code",
   "execution_count": null,
   "id": "extra-executive",
   "metadata": {
    "papermill": {
     "duration": 0.035338,
     "end_time": "2021-12-03T16:00:13.040662",
     "exception": false,
     "start_time": "2021-12-03T16:00:13.005324",
     "status": "completed"
    },
    "tags": []
   },
   "outputs": [],
   "source": []
  }
 ],
 "metadata": {
  "kernelspec": {
   "display_name": "Python 3",
   "language": "python",
   "name": "python3"
  },
  "language_info": {
   "codemirror_mode": {
    "name": "ipython",
    "version": 3
   },
   "file_extension": ".py",
   "mimetype": "text/x-python",
   "name": "python",
   "nbconvert_exporter": "python",
   "pygments_lexer": "ipython3",
   "version": "3.9.5"
  },
  "papermill": {
   "default_parameters": {},
   "duration": 9.949703,
   "end_time": "2021-12-03T16:00:14.404462",
   "environment_variables": {},
   "exception": null,
   "input_path": "eBay_Overview.ipynb",
   "output_path": "eBay_Overview.ipynb",
   "parameters": {},
   "start_time": "2021-12-03T16:00:04.454759",
   "version": "2.3.3"
  }
 },
 "nbformat": 4,
 "nbformat_minor": 5
}