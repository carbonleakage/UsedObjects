{
 "cells": [
  {
   "cell_type": "code",
   "execution_count": 1,
   "id": "reverse-picking",
   "metadata": {
    "execution": {
     "iopub.execute_input": "2021-10-01T06:30:06.668717Z",
     "iopub.status.busy": "2021-10-01T06:30:06.666703Z",
     "iopub.status.idle": "2021-10-01T06:30:07.472317Z",
     "shell.execute_reply": "2021-10-01T06:30:07.473581Z"
    },
    "papermill": {
     "duration": 0.85759,
     "end_time": "2021-10-01T06:30:07.474186",
     "exception": false,
     "start_time": "2021-10-01T06:30:06.616596",
     "status": "completed"
    },
    "tags": []
   },
   "outputs": [],
   "source": [
    "import pandas as pd\n",
    "import sqlite3"
   ]
  },
  {
   "cell_type": "code",
   "execution_count": 2,
   "id": "innovative-syndrome",
   "metadata": {
    "execution": {
     "iopub.execute_input": "2021-10-01T06:30:07.525659Z",
     "iopub.status.busy": "2021-10-01T06:30:07.523807Z",
     "iopub.status.idle": "2021-10-01T06:30:07.940324Z",
     "shell.execute_reply": "2021-10-01T06:30:07.941525Z"
    },
    "papermill": {
     "duration": 0.445967,
     "end_time": "2021-10-01T06:30:07.941921",
     "exception": false,
     "start_time": "2021-10-01T06:30:07.495954",
     "status": "completed"
    },
    "tags": []
   },
   "outputs": [],
   "source": [
    "timestamps = pd.read_sql(\"select distinct record_time from EBAY_TOP_BERLIN order by record_time desc limit 2\", sqlite3.connect(\"UsedObjects.db\"))"
   ]
  },
  {
   "cell_type": "code",
   "execution_count": 3,
   "id": "periodic-identification",
   "metadata": {
    "execution": {
     "iopub.execute_input": "2021-10-01T06:30:08.010082Z",
     "iopub.status.busy": "2021-10-01T06:30:08.005097Z",
     "iopub.status.idle": "2021-10-01T06:30:08.026779Z",
     "shell.execute_reply": "2021-10-01T06:30:08.025119Z"
    },
    "papermill": {
     "duration": 0.064211,
     "end_time": "2021-10-01T06:30:08.027239",
     "exception": false,
     "start_time": "2021-10-01T06:30:07.963028",
     "status": "completed"
    },
    "tags": []
   },
   "outputs": [
    {
     "data": {
      "text/html": [
       "<div>\n",
       "<style scoped>\n",
       "    .dataframe tbody tr th:only-of-type {\n",
       "        vertical-align: middle;\n",
       "    }\n",
       "\n",
       "    .dataframe tbody tr th {\n",
       "        vertical-align: top;\n",
       "    }\n",
       "\n",
       "    .dataframe thead th {\n",
       "        text-align: right;\n",
       "    }\n",
       "</style>\n",
       "<table border=\"1\" class=\"dataframe\">\n",
       "  <thead>\n",
       "    <tr style=\"text-align: right;\">\n",
       "      <th></th>\n",
       "      <th>RECORD_TIME</th>\n",
       "    </tr>\n",
       "  </thead>\n",
       "  <tbody>\n",
       "    <tr>\n",
       "      <th>0</th>\n",
       "      <td>2021-10-01 08:30</td>\n",
       "    </tr>\n",
       "    <tr>\n",
       "      <th>1</th>\n",
       "      <td>2021-10-01 08:00</td>\n",
       "    </tr>\n",
       "  </tbody>\n",
       "</table>\n",
       "</div>"
      ],
      "text/plain": [
       "        RECORD_TIME\n",
       "0  2021-10-01 08:30\n",
       "1  2021-10-01 08:00"
      ]
     },
     "execution_count": 3,
     "metadata": {},
     "output_type": "execute_result"
    }
   ],
   "source": [
    "timestamps"
   ]
  },
  {
   "cell_type": "code",
   "execution_count": 4,
   "id": "alternate-victory",
   "metadata": {
    "execution": {
     "iopub.execute_input": "2021-10-01T06:30:08.080852Z",
     "iopub.status.busy": "2021-10-01T06:30:08.078481Z",
     "iopub.status.idle": "2021-10-01T06:30:08.703747Z",
     "shell.execute_reply": "2021-10-01T06:30:08.704995Z"
    },
    "papermill": {
     "duration": 0.656064,
     "end_time": "2021-10-01T06:30:08.705388",
     "exception": false,
     "start_time": "2021-10-01T06:30:08.049324",
     "status": "completed"
    },
    "tags": []
   },
   "outputs": [],
   "source": [
    "df = pd.read_sql(\"select * from EBAY_TOP_BERLIN where record_time in (select distinct record_time from EBAY_TOP_BERLIN order by record_time desc limit 2)\", sqlite3.connect(\"UsedObjects.db\"))"
   ]
  },
  {
   "cell_type": "code",
   "execution_count": 5,
   "id": "popular-active",
   "metadata": {
    "execution": {
     "iopub.execute_input": "2021-10-01T06:30:08.787421Z",
     "iopub.status.busy": "2021-10-01T06:30:08.775353Z",
     "iopub.status.idle": "2021-10-01T06:30:08.804697Z",
     "shell.execute_reply": "2021-10-01T06:30:08.806073Z"
    },
    "papermill": {
     "duration": 0.073146,
     "end_time": "2021-10-01T06:30:08.806508",
     "exception": false,
     "start_time": "2021-10-01T06:30:08.733362",
     "status": "completed"
    },
    "tags": []
   },
   "outputs": [],
   "source": [
    "df_pivot = df.pivot_table(index=\"PRODUCT\", columns = \"RECORD_TIME\", values = \"LISTING_COUNT\")"
   ]
  },
  {
   "cell_type": "code",
   "execution_count": 6,
   "id": "union-huntington",
   "metadata": {
    "execution": {
     "iopub.execute_input": "2021-10-01T06:30:08.862970Z",
     "iopub.status.busy": "2021-10-01T06:30:08.860886Z",
     "iopub.status.idle": "2021-10-01T06:30:08.867737Z",
     "shell.execute_reply": "2021-10-01T06:30:08.866284Z"
    },
    "papermill": {
     "duration": 0.041132,
     "end_time": "2021-10-01T06:30:08.868096",
     "exception": false,
     "start_time": "2021-10-01T06:30:08.826964",
     "status": "completed"
    },
    "tags": []
   },
   "outputs": [],
   "source": [
    "df_pivot.columns = [\"stamp_1\", \"stamp_2\"]\n",
    "df_pivot_diff = df_pivot.diff(axis=1)"
   ]
  },
  {
   "cell_type": "code",
   "execution_count": 7,
   "id": "fifth-motion",
   "metadata": {
    "execution": {
     "iopub.execute_input": "2021-10-01T06:30:08.922204Z",
     "iopub.status.busy": "2021-10-01T06:30:08.919798Z",
     "iopub.status.idle": "2021-10-01T06:30:10.413611Z",
     "shell.execute_reply": "2021-10-01T06:30:10.414885Z"
    },
    "papermill": {
     "duration": 1.526753,
     "end_time": "2021-10-01T06:30:10.415323",
     "exception": false,
     "start_time": "2021-10-01T06:30:08.888570",
     "status": "completed"
    },
    "tags": []
   },
   "outputs": [
    {
     "data": {
      "text/plain": [
       "<AxesSubplot:ylabel='PRODUCT'>"
      ]
     },
     "execution_count": 7,
     "metadata": {},
     "output_type": "execute_result"
    },
    {
     "data": {
      "image/png": "[encoded data removed]",
      "text/plain": [
       "<Figure size 432x288 with 1 Axes>"
      ]
     },
     "metadata": {
      "needs_background": "light"
     },
     "output_type": "display_data"
    }
   ],
   "source": [
    "df_pivot_diff.sort_values(\"stamp_2\", ascending = False)[\"stamp_2\"].head(10).plot.barh()"
   ]
  },
  {
   "cell_type": "code",
   "execution_count": null,
   "id": "extra-executive",
   "metadata": {
    "papermill": {
     "duration": 0.022404,
     "end_time": "2021-10-01T06:30:10.462663",
     "exception": false,
     "start_time": "2021-10-01T06:30:10.440259",
     "status": "completed"
    },
    "tags": []
   },
   "outputs": [],
   "source": []
  }
 ],
 "metadata": {
  "kernelspec": {
   "display_name": "Python 3",
   "language": "python",
   "name": "python3"
  },
  "language_info": {
   "codemirror_mode": {
    "name": "ipython",
    "version": 3
   },
   "file_extension": ".py",
   "mimetype": "text/x-python",
   "name": "python",
   "nbconvert_exporter": "python",
   "pygments_lexer": "ipython3",
   "version": "3.9.5"
  },
  "papermill": {
   "default_parameters": {},
   "duration": 7.836699,
   "end_time": "2021-10-01T06:30:12.037069",
   "environment_variables": {},
   "exception": null,
   "input_path": "eBay_Overview.ipynb",
   "output_path": "eBay_Overview.ipynb",
   "parameters": {},
   "start_time": "2021-10-01T06:30:04.200370",
   "version": "2.3.3"
  }
 },
 "nbformat": 4,
 "nbformat_minor": 5
}