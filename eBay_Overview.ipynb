{
 "cells": [
  {
   "cell_type": "code",
   "execution_count": 1,
   "id": "reverse-picking",
   "metadata": {
    "execution": {
     "iopub.execute_input": "2021-12-22T09:00:08.062838Z",
     "iopub.status.busy": "2021-12-22T09:00:08.060588Z",
     "iopub.status.idle": "2021-12-22T09:00:09.025531Z",
     "shell.execute_reply": "2021-12-22T09:00:09.029273Z"
    },
    "papermill": {
     "duration": 1.017596,
     "end_time": "2021-12-22T09:00:09.030686",
     "exception": false,
     "start_time": "2021-12-22T09:00:08.013090",
     "status": "completed"
    },
    "tags": []
   },
   "outputs": [],
   "source": [
    "import pandas as pd\n",
    "import sqlite3"
   ]
  },
  {
   "cell_type": "code",
   "execution_count": 2,
   "id": "innovative-syndrome",
   "metadata": {
    "execution": {
     "iopub.execute_input": "2021-12-22T09:00:09.100146Z",
     "iopub.status.busy": "2021-12-22T09:00:09.098045Z",
     "iopub.status.idle": "2021-12-22T09:00:10.255594Z",
     "shell.execute_reply": "2021-12-22T09:00:10.257345Z"
    },
    "papermill": {
     "duration": 1.192227,
     "end_time": "2021-12-22T09:00:10.257823",
     "exception": false,
     "start_time": "2021-12-22T09:00:09.065596",
     "status": "completed"
    },
    "tags": []
   },
   "outputs": [],
   "source": [
    "timestamps = pd.read_sql(\"select distinct record_time from EBAY_TOP_BERLIN order by record_time desc limit 2\", sqlite3.connect(\"UsedObjects.db\"))"
   ]
  },
  {
   "cell_type": "code",
   "execution_count": 3,
   "id": "periodic-identification",
   "metadata": {
    "execution": {
     "iopub.execute_input": "2021-12-22T09:00:10.354845Z",
     "iopub.status.busy": "2021-12-22T09:00:10.352383Z",
     "iopub.status.idle": "2021-12-22T09:00:10.376348Z",
     "shell.execute_reply": "2021-12-22T09:00:10.377955Z"
    },
    "papermill": {
     "duration": 0.083751,
     "end_time": "2021-12-22T09:00:10.378433",
     "exception": false,
     "start_time": "2021-12-22T09:00:10.294682",
     "status": "completed"
    },
    "tags": []
   },
   "outputs": [
    {
     "data": {
      "text/html": [
       "<div>\n",
       "<style scoped>\n",
       "    .dataframe tbody tr th:only-of-type {\n",
       "        vertical-align: middle;\n",
       "    }\n",
       "\n",
       "    .dataframe tbody tr th {\n",
       "        vertical-align: top;\n",
       "    }\n",
       "\n",
       "    .dataframe thead th {\n",
       "        text-align: right;\n",
       "    }\n",
       "</style>\n",
       "<table border=\"1\" class=\"dataframe\">\n",
       "  <thead>\n",
       "    <tr style=\"text-align: right;\">\n",
       "      <th></th>\n",
       "      <th>RECORD_TIME</th>\n",
       "    </tr>\n",
       "  </thead>\n",
       "  <tbody>\n",
       "    <tr>\n",
       "      <th>0</th>\n",
       "      <td>2021-12-22 10:00</td>\n",
       "    </tr>\n",
       "    <tr>\n",
       "      <th>1</th>\n",
       "      <td>2021-12-22 09:30</td>\n",
       "    </tr>\n",
       "  </tbody>\n",
       "</table>\n",
       "</div>"
      ],
      "text/plain": [
       "        RECORD_TIME\n",
       "0  2021-12-22 10:00\n",
       "1  2021-12-22 09:30"
      ]
     },
     "execution_count": 3,
     "metadata": {},
     "output_type": "execute_result"
    }
   ],
   "source": [
    "timestamps"
   ]
  },
  {
   "cell_type": "code",
   "execution_count": 4,
   "id": "alternate-victory",
   "metadata": {
    "execution": {
     "iopub.execute_input": "2021-12-22T09:00:10.435186Z",
     "iopub.status.busy": "2021-12-22T09:00:10.432875Z",
     "iopub.status.idle": "2021-12-22T09:00:12.086248Z",
     "shell.execute_reply": "2021-12-22T09:00:12.087738Z"
    },
    "papermill": {
     "duration": 1.687915,
     "end_time": "2021-12-22T09:00:12.088210",
     "exception": false,
     "start_time": "2021-12-22T09:00:10.400295",
     "status": "completed"
    },
    "tags": []
   },
   "outputs": [],
   "source": [
    "df = pd.read_sql(\"select * from EBAY_TOP_BERLIN where record_time in (select distinct record_time from EBAY_TOP_BERLIN order by record_time desc limit 2)\", sqlite3.connect(\"UsedObjects.db\"))"
   ]
  },
  {
   "cell_type": "code",
   "execution_count": 5,
   "id": "popular-active",
   "metadata": {
    "execution": {
     "iopub.execute_input": "2021-12-22T09:00:12.162869Z",
     "iopub.status.busy": "2021-12-22T09:00:12.149926Z",
     "iopub.status.idle": "2021-12-22T09:00:12.180586Z",
     "shell.execute_reply": "2021-12-22T09:00:12.182045Z"
    },
    "papermill": {
     "duration": 0.073688,
     "end_time": "2021-12-22T09:00:12.182520",
     "exception": false,
     "start_time": "2021-12-22T09:00:12.108832",
     "status": "completed"
    },
    "tags": []
   },
   "outputs": [],
   "source": [
    "df_pivot = df.pivot_table(index=\"PRODUCT\", columns = \"RECORD_TIME\", values = \"LISTING_COUNT\")"
   ]
  },
  {
   "cell_type": "code",
   "execution_count": 6,
   "id": "union-huntington",
   "metadata": {
    "execution": {
     "iopub.execute_input": "2021-12-22T09:00:12.245144Z",
     "iopub.status.busy": "2021-12-22T09:00:12.242732Z",
     "iopub.status.idle": "2021-12-22T09:00:12.249470Z",
     "shell.execute_reply": "2021-12-22T09:00:12.250967Z"
    },
    "papermill": {
     "duration": 0.047124,
     "end_time": "2021-12-22T09:00:12.251462",
     "exception": false,
     "start_time": "2021-12-22T09:00:12.204338",
     "status": "completed"
    },
    "tags": []
   },
   "outputs": [],
   "source": [
    "df_pivot.columns = [\"stamp_1\", \"stamp_2\"]\n",
    "df_pivot_diff = df_pivot.diff(axis=1)"
   ]
  },
  {
   "cell_type": "code",
   "execution_count": 7,
   "id": "fifth-motion",
   "metadata": {
    "execution": {
     "iopub.execute_input": "2021-12-22T09:00:12.310227Z",
     "iopub.status.busy": "2021-12-22T09:00:12.307645Z",
     "iopub.status.idle": "2021-12-22T09:00:14.297219Z",
     "shell.execute_reply": "2021-12-22T09:00:14.298532Z"
    },
    "papermill": {
     "duration": 2.0263,
     "end_time": "2021-12-22T09:00:14.299098",
     "exception": false,
     "start_time": "2021-12-22T09:00:12.272798",
     "status": "completed"
    },
    "tags": []
   },
   "outputs": [
    {
     "data": {
      "text/plain": [
       "<AxesSubplot:ylabel='PRODUCT'>"
      ]
     },
     "execution_count": 7,
     "metadata": {},
     "output_type": "execute_result"
    },
    {
     "data": {
      "image/png": "[encoded data removed]",
      "text/plain": [
       "<Figure size 432x288 with 1 Axes>"
      ]
     },
     "metadata": {
      "needs_background": "light"
     },
     "output_type": "display_data"
    }
   ],
   "source": [
    "df_pivot_diff.sort_values(\"stamp_2\", ascending = False)[\"stamp_2\"].head(10).plot.barh()"
   ]
  },
  {
   "cell_type": "code",
   "execution_count": null,
   "id": "extra-executive",
   "metadata": {
    "papermill": {
     "duration": 0.022429,
     "end_time": "2021-12-22T09:00:14.346558",
     "exception": false,
     "start_time": "2021-12-22T09:00:14.324129",
     "status": "completed"
    },
    "tags": []
   },
   "outputs": [],
   "source": []
  }
 ],
 "metadata": {
  "kernelspec": {
   "display_name": "Python 3",
   "language": "python",
   "name": "python3"
  },
  "language_info": {
   "codemirror_mode": {
    "name": "ipython",
    "version": 3
   },
   "file_extension": ".py",
   "mimetype": "text/x-python",
   "name": "python",
   "nbconvert_exporter": "python",
   "pygments_lexer": "ipython3",
   "version": "3.9.5"
  },
  "papermill": {
   "default_parameters": {},
   "duration": 9.733273,
   "end_time": "2021-12-22T09:00:14.989287",
   "environment_variables": {},
   "exception": null,
   "input_path": "eBay_Overview.ipynb",
   "output_path": "eBay_Overview.ipynb",
   "parameters": {},
   "start_time": "2021-12-22T09:00:05.256014",
   "version": "2.3.3"
  }
 },
 "nbformat": 4,
 "nbformat_minor": 5
}