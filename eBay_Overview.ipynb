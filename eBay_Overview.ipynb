{
 "cells": [
  {
   "cell_type": "code",
   "execution_count": 1,
   "id": "reverse-picking",
   "metadata": {
    "execution": {
     "iopub.execute_input": "2021-09-28T00:30:07.553021Z",
     "iopub.status.busy": "2021-09-28T00:30:07.551118Z",
     "iopub.status.idle": "2021-09-28T00:30:08.365380Z",
     "shell.execute_reply": "2021-09-28T00:30:08.366601Z"
    },
    "papermill": {
     "duration": 0.866169,
     "end_time": "2021-09-28T00:30:08.367346",
     "exception": false,
     "start_time": "2021-09-28T00:30:07.501177",
     "status": "completed"
    },
    "tags": []
   },
   "outputs": [],
   "source": [
    "import pandas as pd\n",
    "import sqlite3"
   ]
  },
  {
   "cell_type": "code",
   "execution_count": 2,
   "id": "innovative-syndrome",
   "metadata": {
    "execution": {
     "iopub.execute_input": "2021-09-28T00:30:08.418397Z",
     "iopub.status.busy": "2021-09-28T00:30:08.416361Z",
     "iopub.status.idle": "2021-09-28T00:30:08.813544Z",
     "shell.execute_reply": "2021-09-28T00:30:08.814726Z"
    },
    "papermill": {
     "duration": 0.427602,
     "end_time": "2021-09-28T00:30:08.815239",
     "exception": false,
     "start_time": "2021-09-28T00:30:08.387637",
     "status": "completed"
    },
    "tags": []
   },
   "outputs": [],
   "source": [
    "timestamps = pd.read_sql(\"select distinct record_time from EBAY_TOP_BERLIN order by record_time desc limit 2\", sqlite3.connect(\"UsedObjects.db\"))"
   ]
  },
  {
   "cell_type": "code",
   "execution_count": 3,
   "id": "periodic-identification",
   "metadata": {
    "execution": {
     "iopub.execute_input": "2021-09-28T00:30:08.878491Z",
     "iopub.status.busy": "2021-09-28T00:30:08.876482Z",
     "iopub.status.idle": "2021-09-28T00:30:08.896288Z",
     "shell.execute_reply": "2021-09-28T00:30:08.897560Z"
    },
    "papermill": {
     "duration": 0.063128,
     "end_time": "2021-09-28T00:30:08.897981",
     "exception": false,
     "start_time": "2021-09-28T00:30:08.834853",
     "status": "completed"
    },
    "tags": []
   },
   "outputs": [
    {
     "data": {
      "text/html": [
       "<div>\n",
       "<style scoped>\n",
       "    .dataframe tbody tr th:only-of-type {\n",
       "        vertical-align: middle;\n",
       "    }\n",
       "\n",
       "    .dataframe tbody tr th {\n",
       "        vertical-align: top;\n",
       "    }\n",
       "\n",
       "    .dataframe thead th {\n",
       "        text-align: right;\n",
       "    }\n",
       "</style>\n",
       "<table border=\"1\" class=\"dataframe\">\n",
       "  <thead>\n",
       "    <tr style=\"text-align: right;\">\n",
       "      <th></th>\n",
       "      <th>RECORD_TIME</th>\n",
       "    </tr>\n",
       "  </thead>\n",
       "  <tbody>\n",
       "    <tr>\n",
       "      <th>0</th>\n",
       "      <td>2021-09-28 02:30</td>\n",
       "    </tr>\n",
       "    <tr>\n",
       "      <th>1</th>\n",
       "      <td>2021-09-28 02:00</td>\n",
       "    </tr>\n",
       "  </tbody>\n",
       "</table>\n",
       "</div>"
      ],
      "text/plain": [
       "        RECORD_TIME\n",
       "0  2021-09-28 02:30\n",
       "1  2021-09-28 02:00"
      ]
     },
     "execution_count": 3,
     "metadata": {},
     "output_type": "execute_result"
    }
   ],
   "source": [
    "timestamps"
   ]
  },
  {
   "cell_type": "code",
   "execution_count": 4,
   "id": "alternate-victory",
   "metadata": {
    "execution": {
     "iopub.execute_input": "2021-09-28T00:30:08.949063Z",
     "iopub.status.busy": "2021-09-28T00:30:08.947214Z",
     "iopub.status.idle": "2021-09-28T00:30:09.522722Z",
     "shell.execute_reply": "2021-09-28T00:30:09.524021Z"
    },
    "papermill": {
     "duration": 0.605808,
     "end_time": "2021-09-28T00:30:09.524426",
     "exception": false,
     "start_time": "2021-09-28T00:30:08.918618",
     "status": "completed"
    },
    "tags": []
   },
   "outputs": [],
   "source": [
    "df = pd.read_sql(\"select * from EBAY_TOP_BERLIN where record_time in (select distinct record_time from EBAY_TOP_BERLIN order by record_time desc limit 2)\", sqlite3.connect(\"UsedObjects.db\"))"
   ]
  },
  {
   "cell_type": "code",
   "execution_count": 5,
   "id": "popular-active",
   "metadata": {
    "execution": {
     "iopub.execute_input": "2021-09-28T00:30:09.614854Z",
     "iopub.status.busy": "2021-09-28T00:30:09.603013Z",
     "iopub.status.idle": "2021-09-28T00:30:09.630828Z",
     "shell.execute_reply": "2021-09-28T00:30:09.632285Z"
    },
    "papermill": {
     "duration": 0.073886,
     "end_time": "2021-09-28T00:30:09.632724",
     "exception": false,
     "start_time": "2021-09-28T00:30:09.558838",
     "status": "completed"
    },
    "tags": []
   },
   "outputs": [],
   "source": [
    "df_pivot = df.pivot_table(index=\"PRODUCT\", columns = \"RECORD_TIME\", values = \"LISTING_COUNT\")"
   ]
  },
  {
   "cell_type": "code",
   "execution_count": 6,
   "id": "union-huntington",
   "metadata": {
    "execution": {
     "iopub.execute_input": "2021-09-28T00:30:09.688907Z",
     "iopub.status.busy": "2021-09-28T00:30:09.686729Z",
     "iopub.status.idle": "2021-09-28T00:30:09.692433Z",
     "shell.execute_reply": "2021-09-28T00:30:09.693686Z"
    },
    "papermill": {
     "duration": 0.041302,
     "end_time": "2021-09-28T00:30:09.694136",
     "exception": false,
     "start_time": "2021-09-28T00:30:09.652834",
     "status": "completed"
    },
    "tags": []
   },
   "outputs": [],
   "source": [
    "df_pivot.columns = [\"stamp_1\", \"stamp_2\"]\n",
    "df_pivot_diff = df_pivot.diff(axis=1)"
   ]
  },
  {
   "cell_type": "code",
   "execution_count": 7,
   "id": "fifth-motion",
   "metadata": {
    "execution": {
     "iopub.execute_input": "2021-09-28T00:30:09.754215Z",
     "iopub.status.busy": "2021-09-28T00:30:09.749293Z",
     "iopub.status.idle": "2021-09-28T00:30:11.236880Z",
     "shell.execute_reply": "2021-09-28T00:30:11.238159Z"
    },
    "papermill": {
     "duration": 1.521396,
     "end_time": "2021-09-28T00:30:11.238579",
     "exception": false,
     "start_time": "2021-09-28T00:30:09.717183",
     "status": "completed"
    },
    "tags": []
   },
   "outputs": [
    {
     "data": {
      "text/plain": [
       "<AxesSubplot:ylabel='PRODUCT'>"
      ]
     },
     "execution_count": 7,
     "metadata": {},
     "output_type": "execute_result"
    },
    {
     "data": {
      "image/png": "[encoded data removed]",
      "text/plain": [
       "<Figure size 432x288 with 1 Axes>"
      ]
     },
     "metadata": {
      "needs_background": "light"
     },
     "output_type": "display_data"
    }
   ],
   "source": [
    "df_pivot_diff.sort_values(\"stamp_2\", ascending = False)[\"stamp_2\"].head(10).plot.barh()"
   ]
  },
  {
   "cell_type": "code",
   "execution_count": null,
   "id": "extra-executive",
   "metadata": {
    "papermill": {
     "duration": 0.02274,
     "end_time": "2021-09-28T00:30:11.287784",
     "exception": false,
     "start_time": "2021-09-28T00:30:11.265044",
     "status": "completed"
    },
    "tags": []
   },
   "outputs": [],
   "source": []
  }
 ],
 "metadata": {
  "kernelspec": {
   "display_name": "Python 3",
   "language": "python",
   "name": "python3"
  },
  "language_info": {
   "codemirror_mode": {
    "name": "ipython",
    "version": 3
   },
   "file_extension": ".py",
   "mimetype": "text/x-python",
   "name": "python",
   "nbconvert_exporter": "python",
   "pygments_lexer": "ipython3",
   "version": "3.9.5"
  },
  "papermill": {
   "default_parameters": {},
   "duration": 7.833178,
   "end_time": "2021-09-28T00:30:12.922050",
   "environment_variables": {},
   "exception": null,
   "input_path": "eBay_Overview.ipynb",
   "output_path": "eBay_Overview.ipynb",
   "parameters": {},
   "start_time": "2021-09-28T00:30:05.088872",
   "version": "2.3.3"
  }
 },
 "nbformat": 4,
 "nbformat_minor": 5
}