{
 "cells": [
  {
   "cell_type": "code",
   "execution_count": 1,
   "id": "reverse-picking",
   "metadata": {
    "execution": {
     "iopub.execute_input": "2021-10-23T09:00:07.506417Z",
     "iopub.status.busy": "2021-10-23T09:00:07.504398Z",
     "iopub.status.idle": "2021-10-23T09:00:08.309632Z",
     "shell.execute_reply": "2021-10-23T09:00:08.310897Z"
    },
    "papermill": {
     "duration": 0.855502,
     "end_time": "2021-10-23T09:00:08.311507",
     "exception": false,
     "start_time": "2021-10-23T09:00:07.456005",
     "status": "completed"
    },
    "tags": []
   },
   "outputs": [],
   "source": [
    "import pandas as pd\n",
    "import sqlite3"
   ]
  },
  {
   "cell_type": "code",
   "execution_count": 2,
   "id": "innovative-syndrome",
   "metadata": {
    "execution": {
     "iopub.execute_input": "2021-10-23T09:00:08.363143Z",
     "iopub.status.busy": "2021-10-23T09:00:08.360945Z",
     "iopub.status.idle": "2021-10-23T09:00:08.982444Z",
     "shell.execute_reply": "2021-10-23T09:00:08.983655Z"
    },
    "papermill": {
     "duration": 0.650969,
     "end_time": "2021-10-23T09:00:08.984050",
     "exception": false,
     "start_time": "2021-10-23T09:00:08.333081",
     "status": "completed"
    },
    "tags": []
   },
   "outputs": [],
   "source": [
    "timestamps = pd.read_sql(\"select distinct record_time from EBAY_TOP_BERLIN order by record_time desc limit 2\", sqlite3.connect(\"UsedObjects.db\"))"
   ]
  },
  {
   "cell_type": "code",
   "execution_count": 3,
   "id": "periodic-identification",
   "metadata": {
    "execution": {
     "iopub.execute_input": "2021-10-23T09:00:09.064942Z",
     "iopub.status.busy": "2021-10-23T09:00:09.059780Z",
     "iopub.status.idle": "2021-10-23T09:00:09.081478Z",
     "shell.execute_reply": "2021-10-23T09:00:09.083009Z"
    },
    "papermill": {
     "duration": 0.07121,
     "end_time": "2021-10-23T09:00:09.083477",
     "exception": false,
     "start_time": "2021-10-23T09:00:09.012267",
     "status": "completed"
    },
    "tags": []
   },
   "outputs": [
    {
     "data": {
      "text/html": [
       "<div>\n",
       "<style scoped>\n",
       "    .dataframe tbody tr th:only-of-type {\n",
       "        vertical-align: middle;\n",
       "    }\n",
       "\n",
       "    .dataframe tbody tr th {\n",
       "        vertical-align: top;\n",
       "    }\n",
       "\n",
       "    .dataframe thead th {\n",
       "        text-align: right;\n",
       "    }\n",
       "</style>\n",
       "<table border=\"1\" class=\"dataframe\">\n",
       "  <thead>\n",
       "    <tr style=\"text-align: right;\">\n",
       "      <th></th>\n",
       "      <th>RECORD_TIME</th>\n",
       "    </tr>\n",
       "  </thead>\n",
       "  <tbody>\n",
       "    <tr>\n",
       "      <th>0</th>\n",
       "      <td>2021-10-23 11:00</td>\n",
       "    </tr>\n",
       "    <tr>\n",
       "      <th>1</th>\n",
       "      <td>2021-10-23 10:30</td>\n",
       "    </tr>\n",
       "  </tbody>\n",
       "</table>\n",
       "</div>"
      ],
      "text/plain": [
       "        RECORD_TIME\n",
       "0  2021-10-23 11:00\n",
       "1  2021-10-23 10:30"
      ]
     },
     "execution_count": 3,
     "metadata": {},
     "output_type": "execute_result"
    }
   ],
   "source": [
    "timestamps"
   ]
  },
  {
   "cell_type": "code",
   "execution_count": 4,
   "id": "alternate-victory",
   "metadata": {
    "execution": {
     "iopub.execute_input": "2021-10-23T09:00:09.135895Z",
     "iopub.status.busy": "2021-10-23T09:00:09.133852Z",
     "iopub.status.idle": "2021-10-23T09:00:10.054917Z",
     "shell.execute_reply": "2021-10-23T09:00:10.056210Z"
    },
    "papermill": {
     "duration": 0.951687,
     "end_time": "2021-10-23T09:00:10.056625",
     "exception": false,
     "start_time": "2021-10-23T09:00:09.104938",
     "status": "completed"
    },
    "tags": []
   },
   "outputs": [],
   "source": [
    "df = pd.read_sql(\"select * from EBAY_TOP_BERLIN where record_time in (select distinct record_time from EBAY_TOP_BERLIN order by record_time desc limit 2)\", sqlite3.connect(\"UsedObjects.db\"))"
   ]
  },
  {
   "cell_type": "code",
   "execution_count": 5,
   "id": "popular-active",
   "metadata": {
    "execution": {
     "iopub.execute_input": "2021-10-23T09:00:10.125857Z",
     "iopub.status.busy": "2021-10-23T09:00:10.115052Z",
     "iopub.status.idle": "2021-10-23T09:00:10.142418Z",
     "shell.execute_reply": "2021-10-23T09:00:10.143630Z"
    },
    "papermill": {
     "duration": 0.066399,
     "end_time": "2021-10-23T09:00:10.144025",
     "exception": false,
     "start_time": "2021-10-23T09:00:10.077626",
     "status": "completed"
    },
    "tags": []
   },
   "outputs": [],
   "source": [
    "df_pivot = df.pivot_table(index=\"PRODUCT\", columns = \"RECORD_TIME\", values = \"LISTING_COUNT\")"
   ]
  },
  {
   "cell_type": "code",
   "execution_count": 6,
   "id": "union-huntington",
   "metadata": {
    "execution": {
     "iopub.execute_input": "2021-10-23T09:00:10.203340Z",
     "iopub.status.busy": "2021-10-23T09:00:10.200923Z",
     "iopub.status.idle": "2021-10-23T09:00:10.206843Z",
     "shell.execute_reply": "2021-10-23T09:00:10.208125Z"
    },
    "papermill": {
     "duration": 0.042111,
     "end_time": "2021-10-23T09:00:10.208541",
     "exception": false,
     "start_time": "2021-10-23T09:00:10.166430",
     "status": "completed"
    },
    "tags": []
   },
   "outputs": [],
   "source": [
    "df_pivot.columns = [\"stamp_1\", \"stamp_2\"]\n",
    "df_pivot_diff = df_pivot.diff(axis=1)"
   ]
  },
  {
   "cell_type": "code",
   "execution_count": 7,
   "id": "fifth-motion",
   "metadata": {
    "execution": {
     "iopub.execute_input": "2021-10-23T09:00:10.262969Z",
     "iopub.status.busy": "2021-10-23T09:00:10.260556Z",
     "iopub.status.idle": "2021-10-23T09:00:11.745358Z",
     "shell.execute_reply": "2021-10-23T09:00:11.746578Z"
    },
    "papermill": {
     "duration": 1.518218,
     "end_time": "2021-10-23T09:00:11.747009",
     "exception": false,
     "start_time": "2021-10-23T09:00:10.228791",
     "status": "completed"
    },
    "tags": []
   },
   "outputs": [
    {
     "data": {
      "text/plain": [
       "<AxesSubplot:ylabel='PRODUCT'>"
      ]
     },
     "execution_count": 7,
     "metadata": {},
     "output_type": "execute_result"
    },
    {
     "data": {
      "image/png": "[encoded data removed]",
      "text/plain": [
       "<Figure size 432x288 with 1 Axes>"
      ]
     },
     "metadata": {
      "needs_background": "light"
     },
     "output_type": "display_data"
    }
   ],
   "source": [
    "df_pivot_diff.sort_values(\"stamp_2\", ascending = False)[\"stamp_2\"].head(10).plot.barh()"
   ]
  },
  {
   "cell_type": "code",
   "execution_count": null,
   "id": "extra-executive",
   "metadata": {
    "papermill": {
     "duration": 0.022239,
     "end_time": "2021-10-23T09:00:11.792950",
     "exception": false,
     "start_time": "2021-10-23T09:00:11.770711",
     "status": "completed"
    },
    "tags": []
   },
   "outputs": [],
   "source": []
  }
 ],
 "metadata": {
  "kernelspec": {
   "display_name": "Python 3",
   "language": "python",
   "name": "python3"
  },
  "language_info": {
   "codemirror_mode": {
    "name": "ipython",
    "version": 3
   },
   "file_extension": ".py",
   "mimetype": "text/x-python",
   "name": "python",
   "nbconvert_exporter": "python",
   "pygments_lexer": "ipython3",
   "version": "3.9.5"
  },
  "papermill": {
   "default_parameters": {},
   "duration": 7.378791,
   "end_time": "2021-10-23T09:00:12.436244",
   "environment_variables": {},
   "exception": null,
   "input_path": "eBay_Overview.ipynb",
   "output_path": "eBay_Overview.ipynb",
   "parameters": {},
   "start_time": "2021-10-23T09:00:05.057453",
   "version": "2.3.3"
  }
 },
 "nbformat": 4,
 "nbformat_minor": 5
}