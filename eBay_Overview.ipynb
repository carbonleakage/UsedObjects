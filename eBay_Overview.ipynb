{
 "cells": [
  {
   "cell_type": "code",
   "execution_count": 1,
   "id": "reverse-picking",
   "metadata": {
    "execution": {
     "iopub.execute_input": "2021-11-22T09:00:07.393919Z",
     "iopub.status.busy": "2021-11-22T09:00:07.391506Z",
     "iopub.status.idle": "2021-11-22T09:00:08.346923Z",
     "shell.execute_reply": "2021-11-22T09:00:08.348159Z"
    },
    "papermill": {
     "duration": 1.004208,
     "end_time": "2021-11-22T09:00:08.348869",
     "exception": false,
     "start_time": "2021-11-22T09:00:07.344661",
     "status": "completed"
    },
    "tags": []
   },
   "outputs": [],
   "source": [
    "import pandas as pd\n",
    "import sqlite3"
   ]
  },
  {
   "cell_type": "code",
   "execution_count": 2,
   "id": "innovative-syndrome",
   "metadata": {
    "execution": {
     "iopub.execute_input": "2021-11-22T09:00:08.412331Z",
     "iopub.status.busy": "2021-11-22T09:00:08.410096Z",
     "iopub.status.idle": "2021-11-22T09:00:09.307244Z",
     "shell.execute_reply": "2021-11-22T09:00:09.308543Z"
    },
    "papermill": {
     "duration": 0.930681,
     "end_time": "2021-11-22T09:00:09.309087",
     "exception": false,
     "start_time": "2021-11-22T09:00:08.378406",
     "status": "completed"
    },
    "tags": []
   },
   "outputs": [],
   "source": [
    "timestamps = pd.read_sql(\"select distinct record_time from EBAY_TOP_BERLIN order by record_time desc limit 2\", sqlite3.connect(\"UsedObjects.db\"))"
   ]
  },
  {
   "cell_type": "code",
   "execution_count": 3,
   "id": "periodic-identification",
   "metadata": {
    "execution": {
     "iopub.execute_input": "2021-11-22T09:00:09.378781Z",
     "iopub.status.busy": "2021-11-22T09:00:09.376465Z",
     "iopub.status.idle": "2021-11-22T09:00:09.398125Z",
     "shell.execute_reply": "2021-11-22T09:00:09.399486Z"
    },
    "papermill": {
     "duration": 0.070844,
     "end_time": "2021-11-22T09:00:09.399968",
     "exception": false,
     "start_time": "2021-11-22T09:00:09.329124",
     "status": "completed"
    },
    "tags": []
   },
   "outputs": [
    {
     "data": {
      "text/html": [
       "<div>\n",
       "<style scoped>\n",
       "    .dataframe tbody tr th:only-of-type {\n",
       "        vertical-align: middle;\n",
       "    }\n",
       "\n",
       "    .dataframe tbody tr th {\n",
       "        vertical-align: top;\n",
       "    }\n",
       "\n",
       "    .dataframe thead th {\n",
       "        text-align: right;\n",
       "    }\n",
       "</style>\n",
       "<table border=\"1\" class=\"dataframe\">\n",
       "  <thead>\n",
       "    <tr style=\"text-align: right;\">\n",
       "      <th></th>\n",
       "      <th>RECORD_TIME</th>\n",
       "    </tr>\n",
       "  </thead>\n",
       "  <tbody>\n",
       "    <tr>\n",
       "      <th>0</th>\n",
       "      <td>2021-11-22 10:00</td>\n",
       "    </tr>\n",
       "    <tr>\n",
       "      <th>1</th>\n",
       "      <td>2021-11-22 09:30</td>\n",
       "    </tr>\n",
       "  </tbody>\n",
       "</table>\n",
       "</div>"
      ],
      "text/plain": [
       "        RECORD_TIME\n",
       "0  2021-11-22 10:00\n",
       "1  2021-11-22 09:30"
      ]
     },
     "execution_count": 3,
     "metadata": {},
     "output_type": "execute_result"
    }
   ],
   "source": [
    "timestamps"
   ]
  },
  {
   "cell_type": "code",
   "execution_count": 4,
   "id": "alternate-victory",
   "metadata": {
    "execution": {
     "iopub.execute_input": "2021-11-22T09:00:09.453935Z",
     "iopub.status.busy": "2021-11-22T09:00:09.451661Z",
     "iopub.status.idle": "2021-11-22T09:00:10.732112Z",
     "shell.execute_reply": "2021-11-22T09:00:10.733827Z"
    },
    "papermill": {
     "duration": 1.313421,
     "end_time": "2021-11-22T09:00:10.734324",
     "exception": false,
     "start_time": "2021-11-22T09:00:09.420903",
     "status": "completed"
    },
    "tags": []
   },
   "outputs": [],
   "source": [
    "df = pd.read_sql(\"select * from EBAY_TOP_BERLIN where record_time in (select distinct record_time from EBAY_TOP_BERLIN order by record_time desc limit 2)\", sqlite3.connect(\"UsedObjects.db\"))"
   ]
  },
  {
   "cell_type": "code",
   "execution_count": 5,
   "id": "popular-active",
   "metadata": {
    "execution": {
     "iopub.execute_input": "2021-11-22T09:00:10.802437Z",
     "iopub.status.busy": "2021-11-22T09:00:10.800014Z",
     "iopub.status.idle": "2021-11-22T09:00:10.834086Z",
     "shell.execute_reply": "2021-11-22T09:00:10.835513Z"
    },
    "papermill": {
     "duration": 0.079588,
     "end_time": "2021-11-22T09:00:10.835982",
     "exception": false,
     "start_time": "2021-11-22T09:00:10.756394",
     "status": "completed"
    },
    "tags": []
   },
   "outputs": [],
   "source": [
    "df_pivot = df.pivot_table(index=\"PRODUCT\", columns = \"RECORD_TIME\", values = \"LISTING_COUNT\")"
   ]
  },
  {
   "cell_type": "code",
   "execution_count": 6,
   "id": "union-huntington",
   "metadata": {
    "execution": {
     "iopub.execute_input": "2021-11-22T09:00:10.894844Z",
     "iopub.status.busy": "2021-11-22T09:00:10.892646Z",
     "iopub.status.idle": "2021-11-22T09:00:10.898160Z",
     "shell.execute_reply": "2021-11-22T09:00:10.899586Z"
    },
    "papermill": {
     "duration": 0.043254,
     "end_time": "2021-11-22T09:00:10.900032",
     "exception": false,
     "start_time": "2021-11-22T09:00:10.856778",
     "status": "completed"
    },
    "tags": []
   },
   "outputs": [],
   "source": [
    "df_pivot.columns = [\"stamp_1\", \"stamp_2\"]\n",
    "df_pivot_diff = df_pivot.diff(axis=1)"
   ]
  },
  {
   "cell_type": "code",
   "execution_count": 7,
   "id": "fifth-motion",
   "metadata": {
    "execution": {
     "iopub.execute_input": "2021-11-22T09:00:10.963920Z",
     "iopub.status.busy": "2021-11-22T09:00:10.955435Z",
     "iopub.status.idle": "2021-11-22T09:00:12.760070Z",
     "shell.execute_reply": "2021-11-22T09:00:12.762730Z"
    },
    "papermill": {
     "duration": 1.842965,
     "end_time": "2021-11-22T09:00:12.763387",
     "exception": false,
     "start_time": "2021-11-22T09:00:10.920422",
     "status": "completed"
    },
    "tags": []
   },
   "outputs": [
    {
     "data": {
      "text/plain": [
       "<AxesSubplot:ylabel='PRODUCT'>"
      ]
     },
     "execution_count": 7,
     "metadata": {},
     "output_type": "execute_result"
    },
    {
     "data": {
      "image/png": "[encoded data removed]",
      "text/plain": [
       "<Figure size 432x288 with 1 Axes>"
      ]
     },
     "metadata": {
      "needs_background": "light"
     },
     "output_type": "display_data"
    }
   ],
   "source": [
    "df_pivot_diff.sort_values(\"stamp_2\", ascending = False)[\"stamp_2\"].head(10).plot.barh()"
   ]
  },
  {
   "cell_type": "code",
   "execution_count": null,
   "id": "extra-executive",
   "metadata": {
    "papermill": {
     "duration": 0.038214,
     "end_time": "2021-11-22T09:00:12.836952",
     "exception": false,
     "start_time": "2021-11-22T09:00:12.798738",
     "status": "completed"
    },
    "tags": []
   },
   "outputs": [],
   "source": []
  }
 ],
 "metadata": {
  "kernelspec": {
   "display_name": "Python 3",
   "language": "python",
   "name": "python3"
  },
  "language_info": {
   "codemirror_mode": {
    "name": "ipython",
    "version": 3
   },
   "file_extension": ".py",
   "mimetype": "text/x-python",
   "name": "python",
   "nbconvert_exporter": "python",
   "pygments_lexer": "ipython3",
   "version": "3.9.5"
  },
  "papermill": {
   "default_parameters": {},
   "duration": 10.003492,
   "end_time": "2021-11-22T09:00:14.535450",
   "environment_variables": {},
   "exception": null,
   "input_path": "eBay_Overview.ipynb",
   "output_path": "eBay_Overview.ipynb",
   "parameters": {},
   "start_time": "2021-11-22T09:00:04.531958",
   "version": "2.3.3"
  }
 },
 "nbformat": 4,
 "nbformat_minor": 5
}