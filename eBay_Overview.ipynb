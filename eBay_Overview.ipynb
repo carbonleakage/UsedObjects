{
 "cells": [
  {
   "cell_type": "code",
   "execution_count": 1,
   "id": "reverse-picking",
   "metadata": {
    "execution": {
     "iopub.execute_input": "2021-09-15T22:30:07.338118Z",
     "iopub.status.busy": "2021-09-15T22:30:07.336207Z",
     "iopub.status.idle": "2021-09-15T22:30:08.140972Z",
     "shell.execute_reply": "2021-09-15T22:30:08.139382Z"
    },
    "papermill": {
     "duration": 0.853647,
     "end_time": "2021-09-15T22:30:08.141373",
     "exception": false,
     "start_time": "2021-09-15T22:30:07.287726",
     "status": "completed"
    },
    "tags": []
   },
   "outputs": [],
   "source": [
    "import pandas as pd\n",
    "import sqlite3"
   ]
  },
  {
   "cell_type": "code",
   "execution_count": 2,
   "id": "innovative-syndrome",
   "metadata": {
    "execution": {
     "iopub.execute_input": "2021-09-15T22:30:08.191282Z",
     "iopub.status.busy": "2021-09-15T22:30:08.189358Z",
     "iopub.status.idle": "2021-09-15T22:30:08.482574Z",
     "shell.execute_reply": "2021-09-15T22:30:08.484027Z"
    },
    "papermill": {
     "duration": 0.322945,
     "end_time": "2021-09-15T22:30:08.484469",
     "exception": false,
     "start_time": "2021-09-15T22:30:08.161524",
     "status": "completed"
    },
    "tags": []
   },
   "outputs": [],
   "source": [
    "timestamps = pd.read_sql(\"select distinct record_time from EBAY_TOP_BERLIN order by record_time desc limit 2\", sqlite3.connect(\"UsedObjects.db\"))"
   ]
  },
  {
   "cell_type": "code",
   "execution_count": 3,
   "id": "periodic-identification",
   "metadata": {
    "execution": {
     "iopub.execute_input": "2021-09-15T22:30:08.550372Z",
     "iopub.status.busy": "2021-09-15T22:30:08.548373Z",
     "iopub.status.idle": "2021-09-15T22:30:08.570553Z",
     "shell.execute_reply": "2021-09-15T22:30:08.572226Z"
    },
    "papermill": {
     "duration": 0.068508,
     "end_time": "2021-09-15T22:30:08.572716",
     "exception": false,
     "start_time": "2021-09-15T22:30:08.504208",
     "status": "completed"
    },
    "tags": []
   },
   "outputs": [
    {
     "data": {
      "text/html": [
       "<div>\n",
       "<style scoped>\n",
       "    .dataframe tbody tr th:only-of-type {\n",
       "        vertical-align: middle;\n",
       "    }\n",
       "\n",
       "    .dataframe tbody tr th {\n",
       "        vertical-align: top;\n",
       "    }\n",
       "\n",
       "    .dataframe thead th {\n",
       "        text-align: right;\n",
       "    }\n",
       "</style>\n",
       "<table border=\"1\" class=\"dataframe\">\n",
       "  <thead>\n",
       "    <tr style=\"text-align: right;\">\n",
       "      <th></th>\n",
       "      <th>RECORD_TIME</th>\n",
       "    </tr>\n",
       "  </thead>\n",
       "  <tbody>\n",
       "    <tr>\n",
       "      <th>0</th>\n",
       "      <td>2021-09-16 00:30</td>\n",
       "    </tr>\n",
       "    <tr>\n",
       "      <th>1</th>\n",
       "      <td>2021-09-16 00:00</td>\n",
       "    </tr>\n",
       "  </tbody>\n",
       "</table>\n",
       "</div>"
      ],
      "text/plain": [
       "        RECORD_TIME\n",
       "0  2021-09-16 00:30\n",
       "1  2021-09-16 00:00"
      ]
     },
     "execution_count": 3,
     "metadata": {},
     "output_type": "execute_result"
    }
   ],
   "source": [
    "timestamps"
   ]
  },
  {
   "cell_type": "code",
   "execution_count": 4,
   "id": "alternate-victory",
   "metadata": {
    "execution": {
     "iopub.execute_input": "2021-09-15T22:30:08.623919Z",
     "iopub.status.busy": "2021-09-15T22:30:08.621934Z",
     "iopub.status.idle": "2021-09-15T22:30:09.052689Z",
     "shell.execute_reply": "2021-09-15T22:30:09.053891Z"
    },
    "papermill": {
     "duration": 0.460786,
     "end_time": "2021-09-15T22:30:09.054281",
     "exception": false,
     "start_time": "2021-09-15T22:30:08.593495",
     "status": "completed"
    },
    "tags": []
   },
   "outputs": [],
   "source": [
    "df = pd.read_sql(\"select * from EBAY_TOP_BERLIN where record_time in (select distinct record_time from EBAY_TOP_BERLIN order by record_time desc limit 2)\", sqlite3.connect(\"UsedObjects.db\"))"
   ]
  },
  {
   "cell_type": "code",
   "execution_count": 5,
   "id": "popular-active",
   "metadata": {
    "execution": {
     "iopub.execute_input": "2021-09-15T22:30:09.153800Z",
     "iopub.status.busy": "2021-09-15T22:30:09.141765Z",
     "iopub.status.idle": "2021-09-15T22:30:09.170903Z",
     "shell.execute_reply": "2021-09-15T22:30:09.169380Z"
    },
    "papermill": {
     "duration": 0.076105,
     "end_time": "2021-09-15T22:30:09.171267",
     "exception": false,
     "start_time": "2021-09-15T22:30:09.095162",
     "status": "completed"
    },
    "tags": []
   },
   "outputs": [],
   "source": [
    "df_pivot = df.pivot_table(index=\"PRODUCT\", columns = \"RECORD_TIME\", values = \"LISTING_COUNT\")"
   ]
  },
  {
   "cell_type": "code",
   "execution_count": 6,
   "id": "union-huntington",
   "metadata": {
    "execution": {
     "iopub.execute_input": "2021-09-15T22:30:09.229605Z",
     "iopub.status.busy": "2021-09-15T22:30:09.227449Z",
     "iopub.status.idle": "2021-09-15T22:30:09.232920Z",
     "shell.execute_reply": "2021-09-15T22:30:09.234187Z"
    },
    "papermill": {
     "duration": 0.040815,
     "end_time": "2021-09-15T22:30:09.234635",
     "exception": false,
     "start_time": "2021-09-15T22:30:09.193820",
     "status": "completed"
    },
    "tags": []
   },
   "outputs": [],
   "source": [
    "df_pivot.columns = [\"stamp_1\", \"stamp_2\"]\n",
    "df_pivot_diff = df_pivot.diff(axis=1)"
   ]
  },
  {
   "cell_type": "code",
   "execution_count": 7,
   "id": "fifth-motion",
   "metadata": {
    "execution": {
     "iopub.execute_input": "2021-09-15T22:30:09.289766Z",
     "iopub.status.busy": "2021-09-15T22:30:09.287165Z",
     "iopub.status.idle": "2021-09-15T22:30:10.754591Z",
     "shell.execute_reply": "2021-09-15T22:30:10.756017Z"
    },
    "papermill": {
     "duration": 1.50125,
     "end_time": "2021-09-15T22:30:10.756457",
     "exception": false,
     "start_time": "2021-09-15T22:30:09.255207",
     "status": "completed"
    },
    "tags": []
   },
   "outputs": [
    {
     "data": {
      "text/plain": [
       "<AxesSubplot:ylabel='PRODUCT'>"
      ]
     },
     "execution_count": 7,
     "metadata": {},
     "output_type": "execute_result"
    },
    {
     "data": {
      "image/png": "[encoded data removed]",
      "text/plain": [
       "<Figure size 432x288 with 1 Axes>"
      ]
     },
     "metadata": {
      "needs_background": "light"
     },
     "output_type": "display_data"
    }
   ],
   "source": [
    "df_pivot_diff.sort_values(\"stamp_2\", ascending = False)[\"stamp_2\"].head(10).plot.barh()"
   ]
  },
  {
   "cell_type": "code",
   "execution_count": null,
   "id": "extra-executive",
   "metadata": {
    "papermill": {
     "duration": 0.022525,
     "end_time": "2021-09-15T22:30:10.803665",
     "exception": false,
     "start_time": "2021-09-15T22:30:10.781140",
     "status": "completed"
    },
    "tags": []
   },
   "outputs": [],
   "source": []
  }
 ],
 "metadata": {
  "kernelspec": {
   "display_name": "Python 3",
   "language": "python",
   "name": "python3"
  },
  "language_info": {
   "codemirror_mode": {
    "name": "ipython",
    "version": 3
   },
   "file_extension": ".py",
   "mimetype": "text/x-python",
   "name": "python",
   "nbconvert_exporter": "python",
   "pygments_lexer": "ipython3",
   "version": "3.9.5"
  },
  "papermill": {
   "default_parameters": {},
   "duration": 6.563883,
   "end_time": "2021-09-15T22:30:11.445732",
   "environment_variables": {},
   "exception": null,
   "input_path": "eBay_Overview.ipynb",
   "output_path": "eBay_Overview.ipynb",
   "parameters": {},
   "start_time": "2021-09-15T22:30:04.881849",
   "version": "2.3.3"
  }
 },
 "nbformat": 4,
 "nbformat_minor": 5
}