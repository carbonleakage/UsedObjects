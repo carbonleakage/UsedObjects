{
 "cells": [
  {
   "cell_type": "code",
   "execution_count": 1,
   "id": "reverse-picking",
   "metadata": {
    "execution": {
     "iopub.execute_input": "2021-12-17T21:30:07.545159Z",
     "iopub.status.busy": "2021-12-17T21:30:07.542714Z",
     "iopub.status.idle": "2021-12-17T21:30:08.504538Z",
     "shell.execute_reply": "2021-12-17T21:30:08.507303Z"
    },
    "papermill": {
     "duration": 1.015289,
     "end_time": "2021-12-17T21:30:08.508076",
     "exception": false,
     "start_time": "2021-12-17T21:30:07.492787",
     "status": "completed"
    },
    "tags": []
   },
   "outputs": [],
   "source": [
    "import pandas as pd\n",
    "import sqlite3"
   ]
  },
  {
   "cell_type": "code",
   "execution_count": 2,
   "id": "innovative-syndrome",
   "metadata": {
    "execution": {
     "iopub.execute_input": "2021-12-17T21:30:08.564544Z",
     "iopub.status.busy": "2021-12-17T21:30:08.562087Z",
     "iopub.status.idle": "2021-12-17T21:30:09.684029Z",
     "shell.execute_reply": "2021-12-17T21:30:09.685210Z"
    },
    "papermill": {
     "duration": 1.154919,
     "end_time": "2021-12-17T21:30:09.685622",
     "exception": false,
     "start_time": "2021-12-17T21:30:08.530703",
     "status": "completed"
    },
    "tags": []
   },
   "outputs": [],
   "source": [
    "timestamps = pd.read_sql(\"select distinct record_time from EBAY_TOP_BERLIN order by record_time desc limit 2\", sqlite3.connect(\"UsedObjects.db\"))"
   ]
  },
  {
   "cell_type": "code",
   "execution_count": 3,
   "id": "periodic-identification",
   "metadata": {
    "execution": {
     "iopub.execute_input": "2021-12-17T21:30:09.755851Z",
     "iopub.status.busy": "2021-12-17T21:30:09.753728Z",
     "iopub.status.idle": "2021-12-17T21:30:09.775876Z",
     "shell.execute_reply": "2021-12-17T21:30:09.774266Z"
    },
    "papermill": {
     "duration": 0.068128,
     "end_time": "2021-12-17T21:30:09.776267",
     "exception": false,
     "start_time": "2021-12-17T21:30:09.708139",
     "status": "completed"
    },
    "tags": []
   },
   "outputs": [
    {
     "data": {
      "text/html": [
       "<div>\n",
       "<style scoped>\n",
       "    .dataframe tbody tr th:only-of-type {\n",
       "        vertical-align: middle;\n",
       "    }\n",
       "\n",
       "    .dataframe tbody tr th {\n",
       "        vertical-align: top;\n",
       "    }\n",
       "\n",
       "    .dataframe thead th {\n",
       "        text-align: right;\n",
       "    }\n",
       "</style>\n",
       "<table border=\"1\" class=\"dataframe\">\n",
       "  <thead>\n",
       "    <tr style=\"text-align: right;\">\n",
       "      <th></th>\n",
       "      <th>RECORD_TIME</th>\n",
       "    </tr>\n",
       "  </thead>\n",
       "  <tbody>\n",
       "    <tr>\n",
       "      <th>0</th>\n",
       "      <td>2021-12-17 22:30</td>\n",
       "    </tr>\n",
       "    <tr>\n",
       "      <th>1</th>\n",
       "      <td>2021-12-17 22:00</td>\n",
       "    </tr>\n",
       "  </tbody>\n",
       "</table>\n",
       "</div>"
      ],
      "text/plain": [
       "        RECORD_TIME\n",
       "0  2021-12-17 22:30\n",
       "1  2021-12-17 22:00"
      ]
     },
     "execution_count": 3,
     "metadata": {},
     "output_type": "execute_result"
    }
   ],
   "source": [
    "timestamps"
   ]
  },
  {
   "cell_type": "code",
   "execution_count": 4,
   "id": "alternate-victory",
   "metadata": {
    "execution": {
     "iopub.execute_input": "2021-12-17T21:30:09.829577Z",
     "iopub.status.busy": "2021-12-17T21:30:09.827190Z",
     "iopub.status.idle": "2021-12-17T21:30:11.470350Z",
     "shell.execute_reply": "2021-12-17T21:30:11.472416Z"
    },
    "papermill": {
     "duration": 1.675453,
     "end_time": "2021-12-17T21:30:11.472934",
     "exception": false,
     "start_time": "2021-12-17T21:30:09.797481",
     "status": "completed"
    },
    "tags": []
   },
   "outputs": [],
   "source": [
    "df = pd.read_sql(\"select * from EBAY_TOP_BERLIN where record_time in (select distinct record_time from EBAY_TOP_BERLIN order by record_time desc limit 2)\", sqlite3.connect(\"UsedObjects.db\"))"
   ]
  },
  {
   "cell_type": "code",
   "execution_count": 5,
   "id": "popular-active",
   "metadata": {
    "execution": {
     "iopub.execute_input": "2021-12-17T21:30:11.536270Z",
     "iopub.status.busy": "2021-12-17T21:30:11.533988Z",
     "iopub.status.idle": "2021-12-17T21:30:11.564965Z",
     "shell.execute_reply": "2021-12-17T21:30:11.566444Z"
    },
    "papermill": {
     "duration": 0.073223,
     "end_time": "2021-12-17T21:30:11.566898",
     "exception": false,
     "start_time": "2021-12-17T21:30:11.493675",
     "status": "completed"
    },
    "tags": []
   },
   "outputs": [],
   "source": [
    "df_pivot = df.pivot_table(index=\"PRODUCT\", columns = \"RECORD_TIME\", values = \"LISTING_COUNT\")"
   ]
  },
  {
   "cell_type": "code",
   "execution_count": 6,
   "id": "union-huntington",
   "metadata": {
    "execution": {
     "iopub.execute_input": "2021-12-17T21:30:11.631525Z",
     "iopub.status.busy": "2021-12-17T21:30:11.628299Z",
     "iopub.status.idle": "2021-12-17T21:30:11.634954Z",
     "shell.execute_reply": "2021-12-17T21:30:11.633457Z"
    },
    "papermill": {
     "duration": 0.048083,
     "end_time": "2021-12-17T21:30:11.635353",
     "exception": false,
     "start_time": "2021-12-17T21:30:11.587270",
     "status": "completed"
    },
    "tags": []
   },
   "outputs": [],
   "source": [
    "df_pivot.columns = [\"stamp_1\", \"stamp_2\"]\n",
    "df_pivot_diff = df_pivot.diff(axis=1)"
   ]
  },
  {
   "cell_type": "code",
   "execution_count": 7,
   "id": "fifth-motion",
   "metadata": {
    "execution": {
     "iopub.execute_input": "2021-12-17T21:30:11.692348Z",
     "iopub.status.busy": "2021-12-17T21:30:11.689863Z",
     "iopub.status.idle": "2021-12-17T21:30:13.700775Z",
     "shell.execute_reply": "2021-12-17T21:30:13.702089Z"
    },
    "papermill": {
     "duration": 2.046464,
     "end_time": "2021-12-17T21:30:13.702503",
     "exception": false,
     "start_time": "2021-12-17T21:30:11.656039",
     "status": "completed"
    },
    "tags": []
   },
   "outputs": [
    {
     "data": {
      "text/plain": [
       "<AxesSubplot:ylabel='PRODUCT'>"
      ]
     },
     "execution_count": 7,
     "metadata": {},
     "output_type": "execute_result"
    },
    {
     "data": {
      "image/png": "[encoded data removed]",
      "text/plain": [
       "<Figure size 432x288 with 1 Axes>"
      ]
     },
     "metadata": {
      "needs_background": "light"
     },
     "output_type": "display_data"
    }
   ],
   "source": [
    "df_pivot_diff.sort_values(\"stamp_2\", ascending = False)[\"stamp_2\"].head(10).plot.barh()"
   ]
  },
  {
   "cell_type": "code",
   "execution_count": null,
   "id": "extra-executive",
   "metadata": {
    "papermill": {
     "duration": 0.022076,
     "end_time": "2021-12-17T21:30:13.748468",
     "exception": false,
     "start_time": "2021-12-17T21:30:13.726392",
     "status": "completed"
    },
    "tags": []
   },
   "outputs": [],
   "source": []
  }
 ],
 "metadata": {
  "kernelspec": {
   "display_name": "Python 3",
   "language": "python",
   "name": "python3"
  },
  "language_info": {
   "codemirror_mode": {
    "name": "ipython",
    "version": 3
   },
   "file_extension": ".py",
   "mimetype": "text/x-python",
   "name": "python",
   "nbconvert_exporter": "python",
   "pygments_lexer": "ipython3",
   "version": "3.9.5"
  },
  "papermill": {
   "default_parameters": {},
   "duration": 9.635272,
   "end_time": "2021-12-17T21:30:14.389945",
   "environment_variables": {},
   "exception": null,
   "input_path": "eBay_Overview.ipynb",
   "output_path": "eBay_Overview.ipynb",
   "parameters": {},
   "start_time": "2021-12-17T21:30:04.754673",
   "version": "2.3.3"
  }
 },
 "nbformat": 4,
 "nbformat_minor": 5
}