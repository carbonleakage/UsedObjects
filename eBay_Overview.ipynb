{
 "cells": [
  {
   "cell_type": "code",
   "execution_count": 1,
   "id": "reverse-picking",
   "metadata": {
    "execution": {
     "iopub.execute_input": "2021-08-20T03:00:07.144087Z",
     "iopub.status.busy": "2021-08-20T03:00:07.142178Z",
     "iopub.status.idle": "2021-08-20T03:00:07.948080Z",
     "shell.execute_reply": "2021-08-20T03:00:07.949314Z"
    },
    "papermill": {
     "duration": 0.857593,
     "end_time": "2021-08-20T03:00:07.949998",
     "exception": false,
     "start_time": "2021-08-20T03:00:07.092405",
     "status": "completed"
    },
    "tags": []
   },
   "outputs": [],
   "source": [
    "import pandas as pd\n",
    "import sqlite3"
   ]
  },
  {
   "cell_type": "code",
   "execution_count": 2,
   "id": "innovative-syndrome",
   "metadata": {
    "execution": {
     "iopub.execute_input": "2021-08-20T03:00:08.000189Z",
     "iopub.status.busy": "2021-08-20T03:00:07.998347Z",
     "iopub.status.idle": "2021-08-20T03:00:08.084559Z",
     "shell.execute_reply": "2021-08-20T03:00:08.085741Z"
    },
    "papermill": {
     "duration": 0.115711,
     "end_time": "2021-08-20T03:00:08.086315",
     "exception": false,
     "start_time": "2021-08-20T03:00:07.970604",
     "status": "completed"
    },
    "tags": []
   },
   "outputs": [],
   "source": [
    "timestamps = pd.read_sql(\"select distinct record_time from EBAY_TOP_BERLIN order by record_time desc limit 2\", sqlite3.connect(\"UsedObjects.db\"))"
   ]
  },
  {
   "cell_type": "code",
   "execution_count": 3,
   "id": "periodic-identification",
   "metadata": {
    "execution": {
     "iopub.execute_input": "2021-08-20T03:00:08.154833Z",
     "iopub.status.busy": "2021-08-20T03:00:08.152715Z",
     "iopub.status.idle": "2021-08-20T03:00:08.173313Z",
     "shell.execute_reply": "2021-08-20T03:00:08.174663Z"
    },
    "papermill": {
     "duration": 0.067221,
     "end_time": "2021-08-20T03:00:08.175094",
     "exception": false,
     "start_time": "2021-08-20T03:00:08.107873",
     "status": "completed"
    },
    "tags": []
   },
   "outputs": [
    {
     "data": {
      "text/html": [
       "<div>\n",
       "<style scoped>\n",
       "    .dataframe tbody tr th:only-of-type {\n",
       "        vertical-align: middle;\n",
       "    }\n",
       "\n",
       "    .dataframe tbody tr th {\n",
       "        vertical-align: top;\n",
       "    }\n",
       "\n",
       "    .dataframe thead th {\n",
       "        text-align: right;\n",
       "    }\n",
       "</style>\n",
       "<table border=\"1\" class=\"dataframe\">\n",
       "  <thead>\n",
       "    <tr style=\"text-align: right;\">\n",
       "      <th></th>\n",
       "      <th>RECORD_TIME</th>\n",
       "    </tr>\n",
       "  </thead>\n",
       "  <tbody>\n",
       "    <tr>\n",
       "      <th>0</th>\n",
       "      <td>2021-08-20 05:00</td>\n",
       "    </tr>\n",
       "    <tr>\n",
       "      <th>1</th>\n",
       "      <td>2021-08-20 04:30</td>\n",
       "    </tr>\n",
       "  </tbody>\n",
       "</table>\n",
       "</div>"
      ],
      "text/plain": [
       "        RECORD_TIME\n",
       "0  2021-08-20 05:00\n",
       "1  2021-08-20 04:30"
      ]
     },
     "execution_count": 3,
     "metadata": {},
     "output_type": "execute_result"
    }
   ],
   "source": [
    "timestamps"
   ]
  },
  {
   "cell_type": "code",
   "execution_count": 4,
   "id": "alternate-victory",
   "metadata": {
    "execution": {
     "iopub.execute_input": "2021-08-20T03:00:08.226271Z",
     "iopub.status.busy": "2021-08-20T03:00:08.224373Z",
     "iopub.status.idle": "2021-08-20T03:00:08.354542Z",
     "shell.execute_reply": "2021-08-20T03:00:08.355745Z"
    },
    "papermill": {
     "duration": 0.159847,
     "end_time": "2021-08-20T03:00:08.356150",
     "exception": false,
     "start_time": "2021-08-20T03:00:08.196303",
     "status": "completed"
    },
    "tags": []
   },
   "outputs": [],
   "source": [
    "df = pd.read_sql(\"select * from EBAY_TOP_BERLIN where record_time in (select distinct record_time from EBAY_TOP_BERLIN order by record_time desc limit 2)\", sqlite3.connect(\"UsedObjects.db\"))"
   ]
  },
  {
   "cell_type": "code",
   "execution_count": 5,
   "id": "popular-active",
   "metadata": {
    "execution": {
     "iopub.execute_input": "2021-08-20T03:00:08.430417Z",
     "iopub.status.busy": "2021-08-20T03:00:08.418308Z",
     "iopub.status.idle": "2021-08-20T03:00:08.445797Z",
     "shell.execute_reply": "2021-08-20T03:00:08.447077Z"
    },
    "papermill": {
     "duration": 0.067956,
     "end_time": "2021-08-20T03:00:08.447483",
     "exception": false,
     "start_time": "2021-08-20T03:00:08.379527",
     "status": "completed"
    },
    "tags": []
   },
   "outputs": [],
   "source": [
    "df_pivot = df.pivot_table(index=\"PRODUCT\", columns = \"RECORD_TIME\", values = \"LISTING_COUNT\")"
   ]
  },
  {
   "cell_type": "code",
   "execution_count": 6,
   "id": "union-huntington",
   "metadata": {
    "execution": {
     "iopub.execute_input": "2021-08-20T03:00:08.504565Z",
     "iopub.status.busy": "2021-08-20T03:00:08.502428Z",
     "iopub.status.idle": "2021-08-20T03:00:08.509541Z",
     "shell.execute_reply": "2021-08-20T03:00:08.508099Z"
    },
    "papermill": {
     "duration": 0.041209,
     "end_time": "2021-08-20T03:00:08.510002",
     "exception": false,
     "start_time": "2021-08-20T03:00:08.468793",
     "status": "completed"
    },
    "tags": []
   },
   "outputs": [],
   "source": [
    "df_pivot.columns = [\"stamp_1\", \"stamp_2\"]\n",
    "df_pivot_diff = df_pivot.diff(axis=1)"
   ]
  },
  {
   "cell_type": "code",
   "execution_count": 7,
   "id": "fifth-motion",
   "metadata": {
    "execution": {
     "iopub.execute_input": "2021-08-20T03:00:08.563790Z",
     "iopub.status.busy": "2021-08-20T03:00:08.561354Z",
     "iopub.status.idle": "2021-08-20T03:00:10.043747Z",
     "shell.execute_reply": "2021-08-20T03:00:10.045017Z"
    },
    "papermill": {
     "duration": 1.515061,
     "end_time": "2021-08-20T03:00:10.045443",
     "exception": false,
     "start_time": "2021-08-20T03:00:08.530382",
     "status": "completed"
    },
    "tags": []
   },
   "outputs": [
    {
     "data": {
      "text/plain": [
       "<AxesSubplot:ylabel='PRODUCT'>"
      ]
     },
     "execution_count": 7,
     "metadata": {},
     "output_type": "execute_result"
    },
    {
     "data": {
      "image/png": "[encoded data removed]",
      "text/plain": [
       "<Figure size 432x288 with 1 Axes>"
      ]
     },
     "metadata": {
      "needs_background": "light"
     },
     "output_type": "display_data"
    }
   ],
   "source": [
    "df_pivot_diff.sort_values(\"stamp_2\", ascending = False)[\"stamp_2\"].head(10).plot.barh()"
   ]
  },
  {
   "cell_type": "code",
   "execution_count": null,
   "id": "extra-executive",
   "metadata": {
    "papermill": {
     "duration": 0.022045,
     "end_time": "2021-08-20T03:00:10.091066",
     "exception": false,
     "start_time": "2021-08-20T03:00:10.069021",
     "status": "completed"
    },
    "tags": []
   },
   "outputs": [],
   "source": []
  }
 ],
 "metadata": {
  "kernelspec": {
   "display_name": "Python 3",
   "language": "python",
   "name": "python3"
  },
  "language_info": {
   "codemirror_mode": {
    "name": "ipython",
    "version": 3
   },
   "file_extension": ".py",
   "mimetype": "text/x-python",
   "name": "python",
   "nbconvert_exporter": "python",
   "pygments_lexer": "ipython3",
   "version": "3.9.5"
  },
  "papermill": {
   "default_parameters": {},
   "duration": 6.82524,
   "end_time": "2021-08-20T03:00:11.509849",
   "environment_variables": {},
   "exception": null,
   "input_path": "eBay_Overview.ipynb",
   "output_path": "eBay_Overview.ipynb",
   "parameters": {},
   "start_time": "2021-08-20T03:00:04.684609",
   "version": "2.3.3"
  }
 },
 "nbformat": 4,
 "nbformat_minor": 5
}