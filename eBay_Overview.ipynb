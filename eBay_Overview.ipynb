{
 "cells": [
  {
   "cell_type": "code",
   "execution_count": 1,
   "id": "reverse-picking",
   "metadata": {
    "execution": {
     "iopub.execute_input": "2021-11-07T17:00:08.057336Z",
     "iopub.status.busy": "2021-11-07T17:00:08.054880Z",
     "iopub.status.idle": "2021-11-07T17:00:09.000353Z",
     "shell.execute_reply": "2021-11-07T17:00:09.002991Z"
    },
    "papermill": {
     "duration": 0.996559,
     "end_time": "2021-11-07T17:00:09.003769",
     "exception": false,
     "start_time": "2021-11-07T17:00:08.007210",
     "status": "completed"
    },
    "tags": []
   },
   "outputs": [],
   "source": [
    "import pandas as pd\n",
    "import sqlite3"
   ]
  },
  {
   "cell_type": "code",
   "execution_count": 2,
   "id": "innovative-syndrome",
   "metadata": {
    "execution": {
     "iopub.execute_input": "2021-11-07T17:00:09.064294Z",
     "iopub.status.busy": "2021-11-07T17:00:09.061952Z",
     "iopub.status.idle": "2021-11-07T17:00:09.822083Z",
     "shell.execute_reply": "2021-11-07T17:00:09.823583Z"
    },
    "papermill": {
     "duration": 0.793626,
     "end_time": "2021-11-07T17:00:09.824088",
     "exception": false,
     "start_time": "2021-11-07T17:00:09.030462",
     "status": "completed"
    },
    "tags": []
   },
   "outputs": [],
   "source": [
    "timestamps = pd.read_sql(\"select distinct record_time from EBAY_TOP_BERLIN order by record_time desc limit 2\", sqlite3.connect(\"UsedObjects.db\"))"
   ]
  },
  {
   "cell_type": "code",
   "execution_count": 3,
   "id": "periodic-identification",
   "metadata": {
    "execution": {
     "iopub.execute_input": "2021-11-07T17:00:09.896514Z",
     "iopub.status.busy": "2021-11-07T17:00:09.894129Z",
     "iopub.status.idle": "2021-11-07T17:00:09.917357Z",
     "shell.execute_reply": "2021-11-07T17:00:09.918950Z"
    },
    "papermill": {
     "duration": 0.074459,
     "end_time": "2021-11-07T17:00:09.919450",
     "exception": false,
     "start_time": "2021-11-07T17:00:09.844991",
     "status": "completed"
    },
    "tags": []
   },
   "outputs": [
    {
     "data": {
      "text/html": [
       "<div>\n",
       "<style scoped>\n",
       "    .dataframe tbody tr th:only-of-type {\n",
       "        vertical-align: middle;\n",
       "    }\n",
       "\n",
       "    .dataframe tbody tr th {\n",
       "        vertical-align: top;\n",
       "    }\n",
       "\n",
       "    .dataframe thead th {\n",
       "        text-align: right;\n",
       "    }\n",
       "</style>\n",
       "<table border=\"1\" class=\"dataframe\">\n",
       "  <thead>\n",
       "    <tr style=\"text-align: right;\">\n",
       "      <th></th>\n",
       "      <th>RECORD_TIME</th>\n",
       "    </tr>\n",
       "  </thead>\n",
       "  <tbody>\n",
       "    <tr>\n",
       "      <th>0</th>\n",
       "      <td>2021-11-07 18:00</td>\n",
       "    </tr>\n",
       "    <tr>\n",
       "      <th>1</th>\n",
       "      <td>2021-11-07 17:30</td>\n",
       "    </tr>\n",
       "  </tbody>\n",
       "</table>\n",
       "</div>"
      ],
      "text/plain": [
       "        RECORD_TIME\n",
       "0  2021-11-07 18:00\n",
       "1  2021-11-07 17:30"
      ]
     },
     "execution_count": 3,
     "metadata": {},
     "output_type": "execute_result"
    }
   ],
   "source": [
    "timestamps"
   ]
  },
  {
   "cell_type": "code",
   "execution_count": 4,
   "id": "alternate-victory",
   "metadata": {
    "execution": {
     "iopub.execute_input": "2021-11-07T17:00:09.988979Z",
     "iopub.status.busy": "2021-11-07T17:00:09.985451Z",
     "iopub.status.idle": "2021-11-07T17:00:11.107645Z",
     "shell.execute_reply": "2021-11-07T17:00:11.108831Z"
    },
    "papermill": {
     "duration": 1.167802,
     "end_time": "2021-11-07T17:00:11.109258",
     "exception": false,
     "start_time": "2021-11-07T17:00:09.941456",
     "status": "completed"
    },
    "tags": []
   },
   "outputs": [],
   "source": [
    "df = pd.read_sql(\"select * from EBAY_TOP_BERLIN where record_time in (select distinct record_time from EBAY_TOP_BERLIN order by record_time desc limit 2)\", sqlite3.connect(\"UsedObjects.db\"))"
   ]
  },
  {
   "cell_type": "code",
   "execution_count": 5,
   "id": "popular-active",
   "metadata": {
    "execution": {
     "iopub.execute_input": "2021-11-07T17:00:11.174609Z",
     "iopub.status.busy": "2021-11-07T17:00:11.172228Z",
     "iopub.status.idle": "2021-11-07T17:00:11.205845Z",
     "shell.execute_reply": "2021-11-07T17:00:11.203803Z"
    },
    "papermill": {
     "duration": 0.07396,
     "end_time": "2021-11-07T17:00:11.206274",
     "exception": false,
     "start_time": "2021-11-07T17:00:11.132314",
     "status": "completed"
    },
    "tags": []
   },
   "outputs": [],
   "source": [
    "df_pivot = df.pivot_table(index=\"PRODUCT\", columns = \"RECORD_TIME\", values = \"LISTING_COUNT\")"
   ]
  },
  {
   "cell_type": "code",
   "execution_count": 6,
   "id": "union-huntington",
   "metadata": {
    "execution": {
     "iopub.execute_input": "2021-11-07T17:00:11.267916Z",
     "iopub.status.busy": "2021-11-07T17:00:11.265327Z",
     "iopub.status.idle": "2021-11-07T17:00:11.283682Z",
     "shell.execute_reply": "2021-11-07T17:00:11.285705Z"
    },
    "papermill": {
     "duration": 0.053423,
     "end_time": "2021-11-07T17:00:11.286198",
     "exception": false,
     "start_time": "2021-11-07T17:00:11.232775",
     "status": "completed"
    },
    "tags": []
   },
   "outputs": [],
   "source": [
    "df_pivot.columns = [\"stamp_1\", \"stamp_2\"]\n",
    "df_pivot_diff = df_pivot.diff(axis=1)"
   ]
  },
  {
   "cell_type": "code",
   "execution_count": 7,
   "id": "fifth-motion",
   "metadata": {
    "execution": {
     "iopub.execute_input": "2021-11-07T17:00:11.356326Z",
     "iopub.status.busy": "2021-11-07T17:00:11.353615Z",
     "iopub.status.idle": "2021-11-07T17:00:13.154569Z",
     "shell.execute_reply": "2021-11-07T17:00:13.156149Z"
    },
    "papermill": {
     "duration": 1.837864,
     "end_time": "2021-11-07T17:00:13.156784",
     "exception": false,
     "start_time": "2021-11-07T17:00:11.318920",
     "status": "completed"
    },
    "tags": []
   },
   "outputs": [
    {
     "data": {
      "text/plain": [
       "<AxesSubplot:ylabel='PRODUCT'>"
      ]
     },
     "execution_count": 7,
     "metadata": {},
     "output_type": "execute_result"
    },
    {
     "data": {
      "image/png": "[encoded data removed]",
      "text/plain": [
       "<Figure size 432x288 with 1 Axes>"
      ]
     },
     "metadata": {
      "needs_background": "light"
     },
     "output_type": "display_data"
    }
   ],
   "source": [
    "df_pivot_diff.sort_values(\"stamp_2\", ascending = False)[\"stamp_2\"].head(10).plot.barh()"
   ]
  },
  {
   "cell_type": "code",
   "execution_count": null,
   "id": "extra-executive",
   "metadata": {
    "papermill": {
     "duration": 0.024495,
     "end_time": "2021-11-07T17:00:13.207764",
     "exception": false,
     "start_time": "2021-11-07T17:00:13.183269",
     "status": "completed"
    },
    "tags": []
   },
   "outputs": [],
   "source": []
  }
 ],
 "metadata": {
  "kernelspec": {
   "display_name": "Python 3",
   "language": "python",
   "name": "python3"
  },
  "language_info": {
   "codemirror_mode": {
    "name": "ipython",
    "version": 3
   },
   "file_extension": ".py",
   "mimetype": "text/x-python",
   "name": "python",
   "nbconvert_exporter": "python",
   "pygments_lexer": "ipython3",
   "version": "3.9.5"
  },
  "papermill": {
   "default_parameters": {},
   "duration": 8.795815,
   "end_time": "2021-11-07T17:00:13.954694",
   "environment_variables": {},
   "exception": null,
   "input_path": "eBay_Overview.ipynb",
   "output_path": "eBay_Overview.ipynb",
   "parameters": {},
   "start_time": "2021-11-07T17:00:05.158879",
   "version": "2.3.3"
  }
 },
 "nbformat": 4,
 "nbformat_minor": 5
}