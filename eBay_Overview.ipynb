{
 "cells": [
  {
   "cell_type": "code",
   "execution_count": 1,
   "id": "reverse-picking",
   "metadata": {
    "execution": {
     "iopub.execute_input": "2021-12-18T15:30:07.851660Z",
     "iopub.status.busy": "2021-12-18T15:30:07.849010Z",
     "iopub.status.idle": "2021-12-18T15:30:08.822339Z",
     "shell.execute_reply": "2021-12-18T15:30:08.823890Z"
    },
    "papermill": {
     "duration": 1.021587,
     "end_time": "2021-12-18T15:30:08.824658",
     "exception": false,
     "start_time": "2021-12-18T15:30:07.803071",
     "status": "completed"
    },
    "tags": []
   },
   "outputs": [],
   "source": [
    "import pandas as pd\n",
    "import sqlite3"
   ]
  },
  {
   "cell_type": "code",
   "execution_count": 2,
   "id": "innovative-syndrome",
   "metadata": {
    "execution": {
     "iopub.execute_input": "2021-12-18T15:30:08.886218Z",
     "iopub.status.busy": "2021-12-18T15:30:08.883805Z",
     "iopub.status.idle": "2021-12-18T15:30:09.999802Z",
     "shell.execute_reply": "2021-12-18T15:30:10.002035Z"
    },
    "papermill": {
     "duration": 1.150056,
     "end_time": "2021-12-18T15:30:10.002531",
     "exception": false,
     "start_time": "2021-12-18T15:30:08.852475",
     "status": "completed"
    },
    "tags": []
   },
   "outputs": [],
   "source": [
    "timestamps = pd.read_sql(\"select distinct record_time from EBAY_TOP_BERLIN order by record_time desc limit 2\", sqlite3.connect(\"UsedObjects.db\"))"
   ]
  },
  {
   "cell_type": "code",
   "execution_count": 3,
   "id": "periodic-identification",
   "metadata": {
    "execution": {
     "iopub.execute_input": "2021-12-18T15:30:10.073517Z",
     "iopub.status.busy": "2021-12-18T15:30:10.071198Z",
     "iopub.status.idle": "2021-12-18T15:30:10.094514Z",
     "shell.execute_reply": "2021-12-18T15:30:10.096040Z"
    },
    "papermill": {
     "duration": 0.074071,
     "end_time": "2021-12-18T15:30:10.096725",
     "exception": false,
     "start_time": "2021-12-18T15:30:10.022654",
     "status": "completed"
    },
    "tags": []
   },
   "outputs": [
    {
     "data": {
      "text/html": [
       "<div>\n",
       "<style scoped>\n",
       "    .dataframe tbody tr th:only-of-type {\n",
       "        vertical-align: middle;\n",
       "    }\n",
       "\n",
       "    .dataframe tbody tr th {\n",
       "        vertical-align: top;\n",
       "    }\n",
       "\n",
       "    .dataframe thead th {\n",
       "        text-align: right;\n",
       "    }\n",
       "</style>\n",
       "<table border=\"1\" class=\"dataframe\">\n",
       "  <thead>\n",
       "    <tr style=\"text-align: right;\">\n",
       "      <th></th>\n",
       "      <th>RECORD_TIME</th>\n",
       "    </tr>\n",
       "  </thead>\n",
       "  <tbody>\n",
       "    <tr>\n",
       "      <th>0</th>\n",
       "      <td>2021-12-18 16:30</td>\n",
       "    </tr>\n",
       "    <tr>\n",
       "      <th>1</th>\n",
       "      <td>2021-12-18 16:00</td>\n",
       "    </tr>\n",
       "  </tbody>\n",
       "</table>\n",
       "</div>"
      ],
      "text/plain": [
       "        RECORD_TIME\n",
       "0  2021-12-18 16:30\n",
       "1  2021-12-18 16:00"
      ]
     },
     "execution_count": 3,
     "metadata": {},
     "output_type": "execute_result"
    }
   ],
   "source": [
    "timestamps"
   ]
  },
  {
   "cell_type": "code",
   "execution_count": 4,
   "id": "alternate-victory",
   "metadata": {
    "execution": {
     "iopub.execute_input": "2021-12-18T15:30:10.153336Z",
     "iopub.status.busy": "2021-12-18T15:30:10.151304Z",
     "iopub.status.idle": "2021-12-18T15:30:11.809389Z",
     "shell.execute_reply": "2021-12-18T15:30:11.811419Z"
    },
    "papermill": {
     "duration": 1.694315,
     "end_time": "2021-12-18T15:30:11.811895",
     "exception": false,
     "start_time": "2021-12-18T15:30:10.117580",
     "status": "completed"
    },
    "tags": []
   },
   "outputs": [],
   "source": [
    "df = pd.read_sql(\"select * from EBAY_TOP_BERLIN where record_time in (select distinct record_time from EBAY_TOP_BERLIN order by record_time desc limit 2)\", sqlite3.connect(\"UsedObjects.db\"))"
   ]
  },
  {
   "cell_type": "code",
   "execution_count": 5,
   "id": "popular-active",
   "metadata": {
    "execution": {
     "iopub.execute_input": "2021-12-18T15:30:11.888075Z",
     "iopub.status.busy": "2021-12-18T15:30:11.874802Z",
     "iopub.status.idle": "2021-12-18T15:30:11.906295Z",
     "shell.execute_reply": "2021-12-18T15:30:11.907747Z"
    },
    "papermill": {
     "duration": 0.073979,
     "end_time": "2021-12-18T15:30:11.908216",
     "exception": false,
     "start_time": "2021-12-18T15:30:11.834237",
     "status": "completed"
    },
    "tags": []
   },
   "outputs": [],
   "source": [
    "df_pivot = df.pivot_table(index=\"PRODUCT\", columns = \"RECORD_TIME\", values = \"LISTING_COUNT\")"
   ]
  },
  {
   "cell_type": "code",
   "execution_count": 6,
   "id": "union-huntington",
   "metadata": {
    "execution": {
     "iopub.execute_input": "2021-12-18T15:30:11.968074Z",
     "iopub.status.busy": "2021-12-18T15:30:11.965699Z",
     "iopub.status.idle": "2021-12-18T15:30:11.972189Z",
     "shell.execute_reply": "2021-12-18T15:30:11.973967Z"
    },
    "papermill": {
     "duration": 0.046242,
     "end_time": "2021-12-18T15:30:11.974461",
     "exception": false,
     "start_time": "2021-12-18T15:30:11.928219",
     "status": "completed"
    },
    "tags": []
   },
   "outputs": [],
   "source": [
    "df_pivot.columns = [\"stamp_1\", \"stamp_2\"]\n",
    "df_pivot_diff = df_pivot.diff(axis=1)"
   ]
  },
  {
   "cell_type": "code",
   "execution_count": 7,
   "id": "fifth-motion",
   "metadata": {
    "execution": {
     "iopub.execute_input": "2021-12-18T15:30:12.034993Z",
     "iopub.status.busy": "2021-12-18T15:30:12.032417Z",
     "iopub.status.idle": "2021-12-18T15:30:14.123422Z",
     "shell.execute_reply": "2021-12-18T15:30:14.124775Z"
    },
    "papermill": {
     "duration": 2.127141,
     "end_time": "2021-12-18T15:30:14.125220",
     "exception": false,
     "start_time": "2021-12-18T15:30:11.998079",
     "status": "completed"
    },
    "tags": []
   },
   "outputs": [
    {
     "data": {
      "text/plain": [
       "<AxesSubplot:ylabel='PRODUCT'>"
      ]
     },
     "execution_count": 7,
     "metadata": {},
     "output_type": "execute_result"
    },
    {
     "data": {
      "image/png": "[encoded data removed]",
      "text/plain": [
       "<Figure size 432x288 with 1 Axes>"
      ]
     },
     "metadata": {
      "needs_background": "light"
     },
     "output_type": "display_data"
    }
   ],
   "source": [
    "df_pivot_diff.sort_values(\"stamp_2\", ascending = False)[\"stamp_2\"].head(10).plot.barh()"
   ]
  },
  {
   "cell_type": "code",
   "execution_count": null,
   "id": "extra-executive",
   "metadata": {
    "papermill": {
     "duration": 0.022653,
     "end_time": "2021-12-18T15:30:14.173112",
     "exception": false,
     "start_time": "2021-12-18T15:30:14.150459",
     "status": "completed"
    },
    "tags": []
   },
   "outputs": [],
   "source": []
  }
 ],
 "metadata": {
  "kernelspec": {
   "display_name": "Python 3",
   "language": "python",
   "name": "python3"
  },
  "language_info": {
   "codemirror_mode": {
    "name": "ipython",
    "version": 3
   },
   "file_extension": ".py",
   "mimetype": "text/x-python",
   "name": "python",
   "nbconvert_exporter": "python",
   "pygments_lexer": "ipython3",
   "version": "3.9.5"
  },
  "papermill": {
   "default_parameters": {},
   "duration": 9.794892,
   "end_time": "2021-12-18T15:30:14.814485",
   "environment_variables": {},
   "exception": null,
   "input_path": "eBay_Overview.ipynb",
   "output_path": "eBay_Overview.ipynb",
   "parameters": {},
   "start_time": "2021-12-18T15:30:05.019593",
   "version": "2.3.3"
  }
 },
 "nbformat": 4,
 "nbformat_minor": 5
}