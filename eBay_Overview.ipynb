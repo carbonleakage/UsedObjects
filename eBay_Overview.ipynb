{
 "cells": [
  {
   "cell_type": "code",
   "execution_count": 1,
   "id": "reverse-picking",
   "metadata": {
    "execution": {
     "iopub.execute_input": "2021-11-04T21:00:07.953598Z",
     "iopub.status.busy": "2021-11-04T21:00:07.951282Z",
     "iopub.status.idle": "2021-11-04T21:00:08.890030Z",
     "shell.execute_reply": "2021-11-04T21:00:08.891579Z"
    },
    "papermill": {
     "duration": 0.987696,
     "end_time": "2021-11-04T21:00:08.892328",
     "exception": false,
     "start_time": "2021-11-04T21:00:07.904632",
     "status": "completed"
    },
    "tags": []
   },
   "outputs": [],
   "source": [
    "import pandas as pd\n",
    "import sqlite3"
   ]
  },
  {
   "cell_type": "code",
   "execution_count": 2,
   "id": "innovative-syndrome",
   "metadata": {
    "execution": {
     "iopub.execute_input": "2021-11-04T21:00:08.954971Z",
     "iopub.status.busy": "2021-11-04T21:00:08.952780Z",
     "iopub.status.idle": "2021-11-04T21:00:09.690869Z",
     "shell.execute_reply": "2021-11-04T21:00:09.692345Z"
    },
    "papermill": {
     "duration": 0.772491,
     "end_time": "2021-11-04T21:00:09.693097",
     "exception": false,
     "start_time": "2021-11-04T21:00:08.920606",
     "status": "completed"
    },
    "tags": []
   },
   "outputs": [],
   "source": [
    "timestamps = pd.read_sql(\"select distinct record_time from EBAY_TOP_BERLIN order by record_time desc limit 2\", sqlite3.connect(\"UsedObjects.db\"))"
   ]
  },
  {
   "cell_type": "code",
   "execution_count": 3,
   "id": "periodic-identification",
   "metadata": {
    "execution": {
     "iopub.execute_input": "2021-11-04T21:00:09.769588Z",
     "iopub.status.busy": "2021-11-04T21:00:09.761957Z",
     "iopub.status.idle": "2021-11-04T21:00:09.786251Z",
     "shell.execute_reply": "2021-11-04T21:00:09.787743Z"
    },
    "papermill": {
     "duration": 0.074696,
     "end_time": "2021-11-04T21:00:09.788240",
     "exception": false,
     "start_time": "2021-11-04T21:00:09.713544",
     "status": "completed"
    },
    "tags": []
   },
   "outputs": [
    {
     "data": {
      "text/html": [
       "<div>\n",
       "<style scoped>\n",
       "    .dataframe tbody tr th:only-of-type {\n",
       "        vertical-align: middle;\n",
       "    }\n",
       "\n",
       "    .dataframe tbody tr th {\n",
       "        vertical-align: top;\n",
       "    }\n",
       "\n",
       "    .dataframe thead th {\n",
       "        text-align: right;\n",
       "    }\n",
       "</style>\n",
       "<table border=\"1\" class=\"dataframe\">\n",
       "  <thead>\n",
       "    <tr style=\"text-align: right;\">\n",
       "      <th></th>\n",
       "      <th>RECORD_TIME</th>\n",
       "    </tr>\n",
       "  </thead>\n",
       "  <tbody>\n",
       "    <tr>\n",
       "      <th>0</th>\n",
       "      <td>2021-11-04 22:00</td>\n",
       "    </tr>\n",
       "    <tr>\n",
       "      <th>1</th>\n",
       "      <td>2021-11-04 21:30</td>\n",
       "    </tr>\n",
       "  </tbody>\n",
       "</table>\n",
       "</div>"
      ],
      "text/plain": [
       "        RECORD_TIME\n",
       "0  2021-11-04 22:00\n",
       "1  2021-11-04 21:30"
      ]
     },
     "execution_count": 3,
     "metadata": {},
     "output_type": "execute_result"
    }
   ],
   "source": [
    "timestamps"
   ]
  },
  {
   "cell_type": "code",
   "execution_count": 4,
   "id": "alternate-victory",
   "metadata": {
    "execution": {
     "iopub.execute_input": "2021-11-04T21:00:09.842694Z",
     "iopub.status.busy": "2021-11-04T21:00:09.840448Z",
     "iopub.status.idle": "2021-11-04T21:00:10.924954Z",
     "shell.execute_reply": "2021-11-04T21:00:10.926527Z"
    },
    "papermill": {
     "duration": 1.118504,
     "end_time": "2021-11-04T21:00:10.927063",
     "exception": false,
     "start_time": "2021-11-04T21:00:09.808559",
     "status": "completed"
    },
    "tags": []
   },
   "outputs": [],
   "source": [
    "df = pd.read_sql(\"select * from EBAY_TOP_BERLIN where record_time in (select distinct record_time from EBAY_TOP_BERLIN order by record_time desc limit 2)\", sqlite3.connect(\"UsedObjects.db\"))"
   ]
  },
  {
   "cell_type": "code",
   "execution_count": 5,
   "id": "popular-active",
   "metadata": {
    "execution": {
     "iopub.execute_input": "2021-11-04T21:00:11.005346Z",
     "iopub.status.busy": "2021-11-04T21:00:10.993908Z",
     "iopub.status.idle": "2021-11-04T21:00:11.027308Z",
     "shell.execute_reply": "2021-11-04T21:00:11.025524Z"
    },
    "papermill": {
     "duration": 0.078588,
     "end_time": "2021-11-04T21:00:11.027760",
     "exception": false,
     "start_time": "2021-11-04T21:00:10.949172",
     "status": "completed"
    },
    "tags": []
   },
   "outputs": [],
   "source": [
    "df_pivot = df.pivot_table(index=\"PRODUCT\", columns = \"RECORD_TIME\", values = \"LISTING_COUNT\")"
   ]
  },
  {
   "cell_type": "code",
   "execution_count": 6,
   "id": "union-huntington",
   "metadata": {
    "execution": {
     "iopub.execute_input": "2021-11-04T21:00:11.091310Z",
     "iopub.status.busy": "2021-11-04T21:00:11.089048Z",
     "iopub.status.idle": "2021-11-04T21:00:11.094865Z",
     "shell.execute_reply": "2021-11-04T21:00:11.096408Z"
    },
    "papermill": {
     "duration": 0.047209,
     "end_time": "2021-11-04T21:00:11.096972",
     "exception": false,
     "start_time": "2021-11-04T21:00:11.049763",
     "status": "completed"
    },
    "tags": []
   },
   "outputs": [],
   "source": [
    "df_pivot.columns = [\"stamp_1\", \"stamp_2\"]\n",
    "df_pivot_diff = df_pivot.diff(axis=1)"
   ]
  },
  {
   "cell_type": "code",
   "execution_count": 7,
   "id": "fifth-motion",
   "metadata": {
    "execution": {
     "iopub.execute_input": "2021-11-04T21:00:11.158103Z",
     "iopub.status.busy": "2021-11-04T21:00:11.155352Z",
     "iopub.status.idle": "2021-11-04T21:00:12.963536Z",
     "shell.execute_reply": "2021-11-04T21:00:12.965369Z"
    },
    "papermill": {
     "duration": 1.846599,
     "end_time": "2021-11-04T21:00:12.965933",
     "exception": false,
     "start_time": "2021-11-04T21:00:11.119334",
     "status": "completed"
    },
    "tags": []
   },
   "outputs": [
    {
     "data": {
      "text/plain": [
       "<AxesSubplot:ylabel='PRODUCT'>"
      ]
     },
     "execution_count": 7,
     "metadata": {},
     "output_type": "execute_result"
    },
    {
     "data": {
      "image/png": "[encoded data removed]",
      "text/plain": [
       "<Figure size 432x288 with 1 Axes>"
      ]
     },
     "metadata": {
      "needs_background": "light"
     },
     "output_type": "display_data"
    }
   ],
   "source": [
    "df_pivot_diff.sort_values(\"stamp_2\", ascending = False)[\"stamp_2\"].head(10).plot.barh()"
   ]
  },
  {
   "cell_type": "code",
   "execution_count": null,
   "id": "extra-executive",
   "metadata": {
    "papermill": {
     "duration": 0.023345,
     "end_time": "2021-11-04T21:00:13.015222",
     "exception": false,
     "start_time": "2021-11-04T21:00:12.991877",
     "status": "completed"
    },
    "tags": []
   },
   "outputs": [],
   "source": []
  }
 ],
 "metadata": {
  "kernelspec": {
   "display_name": "Python 3",
   "language": "python",
   "name": "python3"
  },
  "language_info": {
   "codemirror_mode": {
    "name": "ipython",
    "version": 3
   },
   "file_extension": ".py",
   "mimetype": "text/x-python",
   "name": "python",
   "nbconvert_exporter": "python",
   "pygments_lexer": "ipython3",
   "version": "3.9.5"
  },
  "papermill": {
   "default_parameters": {},
   "duration": 8.848267,
   "end_time": "2021-11-04T21:00:13.969793",
   "environment_variables": {},
   "exception": null,
   "input_path": "eBay_Overview.ipynb",
   "output_path": "eBay_Overview.ipynb",
   "parameters": {},
   "start_time": "2021-11-04T21:00:05.121526",
   "version": "2.3.3"
  }
 },
 "nbformat": 4,
 "nbformat_minor": 5
}