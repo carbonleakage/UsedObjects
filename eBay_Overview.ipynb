{
 "cells": [
  {
   "cell_type": "code",
   "execution_count": 1,
   "id": "reverse-picking",
   "metadata": {
    "execution": {
     "iopub.execute_input": "2021-08-18T22:00:06.882739Z",
     "iopub.status.busy": "2021-08-18T22:00:06.880624Z",
     "iopub.status.idle": "2021-08-18T22:00:07.692018Z",
     "shell.execute_reply": "2021-08-18T22:00:07.693365Z"
    },
    "papermill": {
     "duration": 0.861725,
     "end_time": "2021-08-18T22:00:07.694066",
     "exception": false,
     "start_time": "2021-08-18T22:00:06.832341",
     "status": "completed"
    },
    "tags": []
   },
   "outputs": [],
   "source": [
    "import pandas as pd\n",
    "import sqlite3"
   ]
  },
  {
   "cell_type": "code",
   "execution_count": 2,
   "id": "innovative-syndrome",
   "metadata": {
    "execution": {
     "iopub.execute_input": "2021-08-18T22:00:07.744985Z",
     "iopub.status.busy": "2021-08-18T22:00:07.742910Z",
     "iopub.status.idle": "2021-08-18T22:00:07.822985Z",
     "shell.execute_reply": "2021-08-18T22:00:07.824442Z"
    },
    "papermill": {
     "duration": 0.110459,
     "end_time": "2021-08-18T22:00:07.824890",
     "exception": false,
     "start_time": "2021-08-18T22:00:07.714431",
     "status": "completed"
    },
    "tags": []
   },
   "outputs": [],
   "source": [
    "timestamps = pd.read_sql(\"select distinct record_time from EBAY_TOP_BERLIN order by record_time desc limit 2\", sqlite3.connect(\"UsedObjects.db\"))"
   ]
  },
  {
   "cell_type": "code",
   "execution_count": 3,
   "id": "periodic-identification",
   "metadata": {
    "execution": {
     "iopub.execute_input": "2021-08-18T22:00:07.891677Z",
     "iopub.status.busy": "2021-08-18T22:00:07.889556Z",
     "iopub.status.idle": "2021-08-18T22:00:07.909622Z",
     "shell.execute_reply": "2021-08-18T22:00:07.911069Z"
    },
    "papermill": {
     "duration": 0.066843,
     "end_time": "2021-08-18T22:00:07.911510",
     "exception": false,
     "start_time": "2021-08-18T22:00:07.844667",
     "status": "completed"
    },
    "tags": []
   },
   "outputs": [
    {
     "data": {
      "text/html": [
       "<div>\n",
       "<style scoped>\n",
       "    .dataframe tbody tr th:only-of-type {\n",
       "        vertical-align: middle;\n",
       "    }\n",
       "\n",
       "    .dataframe tbody tr th {\n",
       "        vertical-align: top;\n",
       "    }\n",
       "\n",
       "    .dataframe thead th {\n",
       "        text-align: right;\n",
       "    }\n",
       "</style>\n",
       "<table border=\"1\" class=\"dataframe\">\n",
       "  <thead>\n",
       "    <tr style=\"text-align: right;\">\n",
       "      <th></th>\n",
       "      <th>RECORD_TIME</th>\n",
       "    </tr>\n",
       "  </thead>\n",
       "  <tbody>\n",
       "    <tr>\n",
       "      <th>0</th>\n",
       "      <td>2021-08-19 00:00</td>\n",
       "    </tr>\n",
       "    <tr>\n",
       "      <th>1</th>\n",
       "      <td>2021-08-18 23:30</td>\n",
       "    </tr>\n",
       "  </tbody>\n",
       "</table>\n",
       "</div>"
      ],
      "text/plain": [
       "        RECORD_TIME\n",
       "0  2021-08-19 00:00\n",
       "1  2021-08-18 23:30"
      ]
     },
     "execution_count": 3,
     "metadata": {},
     "output_type": "execute_result"
    }
   ],
   "source": [
    "timestamps"
   ]
  },
  {
   "cell_type": "code",
   "execution_count": 4,
   "id": "alternate-victory",
   "metadata": {
    "execution": {
     "iopub.execute_input": "2021-08-18T22:00:07.962721Z",
     "iopub.status.busy": "2021-08-18T22:00:07.960774Z",
     "iopub.status.idle": "2021-08-18T22:00:08.075643Z",
     "shell.execute_reply": "2021-08-18T22:00:08.076877Z"
    },
    "papermill": {
     "duration": 0.144662,
     "end_time": "2021-08-18T22:00:08.077275",
     "exception": false,
     "start_time": "2021-08-18T22:00:07.932613",
     "status": "completed"
    },
    "tags": []
   },
   "outputs": [],
   "source": [
    "df = pd.read_sql(\"select * from EBAY_TOP_BERLIN where record_time in (select distinct record_time from EBAY_TOP_BERLIN order by record_time desc limit 2)\", sqlite3.connect(\"UsedObjects.db\"))"
   ]
  },
  {
   "cell_type": "code",
   "execution_count": 5,
   "id": "popular-active",
   "metadata": {
    "execution": {
     "iopub.execute_input": "2021-08-18T22:00:08.147168Z",
     "iopub.status.busy": "2021-08-18T22:00:08.135812Z",
     "iopub.status.idle": "2021-08-18T22:00:08.162995Z",
     "shell.execute_reply": "2021-08-18T22:00:08.164415Z"
    },
    "papermill": {
     "duration": 0.067144,
     "end_time": "2021-08-18T22:00:08.164860",
     "exception": false,
     "start_time": "2021-08-18T22:00:08.097716",
     "status": "completed"
    },
    "tags": []
   },
   "outputs": [],
   "source": [
    "df_pivot = df.pivot_table(index=\"PRODUCT\", columns = \"RECORD_TIME\", values = \"LISTING_COUNT\")"
   ]
  },
  {
   "cell_type": "code",
   "execution_count": 6,
   "id": "union-huntington",
   "metadata": {
    "execution": {
     "iopub.execute_input": "2021-08-18T22:00:08.222005Z",
     "iopub.status.busy": "2021-08-18T22:00:08.219658Z",
     "iopub.status.idle": "2021-08-18T22:00:08.225599Z",
     "shell.execute_reply": "2021-08-18T22:00:08.227048Z"
    },
    "papermill": {
     "duration": 0.042326,
     "end_time": "2021-08-18T22:00:08.227494",
     "exception": false,
     "start_time": "2021-08-18T22:00:08.185168",
     "status": "completed"
    },
    "tags": []
   },
   "outputs": [],
   "source": [
    "df_pivot.columns = [\"stamp_1\", \"stamp_2\"]\n",
    "df_pivot_diff = df_pivot.diff(axis=1)"
   ]
  },
  {
   "cell_type": "code",
   "execution_count": 7,
   "id": "fifth-motion",
   "metadata": {
    "execution": {
     "iopub.execute_input": "2021-08-18T22:00:08.283225Z",
     "iopub.status.busy": "2021-08-18T22:00:08.280777Z",
     "iopub.status.idle": "2021-08-18T22:00:09.778287Z",
     "shell.execute_reply": "2021-08-18T22:00:09.779592Z"
    },
    "papermill": {
     "duration": 1.530375,
     "end_time": "2021-08-18T22:00:09.780051",
     "exception": false,
     "start_time": "2021-08-18T22:00:08.249676",
     "status": "completed"
    },
    "tags": []
   },
   "outputs": [
    {
     "data": {
      "text/plain": [
       "<AxesSubplot:ylabel='PRODUCT'>"
      ]
     },
     "execution_count": 7,
     "metadata": {},
     "output_type": "execute_result"
    },
    {
     "data": {
      "image/png": "[encoded data removed]",
      "text/plain": [
       "<Figure size 432x288 with 1 Axes>"
      ]
     },
     "metadata": {
      "needs_background": "light"
     },
     "output_type": "display_data"
    }
   ],
   "source": [
    "df_pivot_diff.sort_values(\"stamp_2\", ascending = False)[\"stamp_2\"].head(10).plot.barh()"
   ]
  },
  {
   "cell_type": "code",
   "execution_count": null,
   "id": "extra-executive",
   "metadata": {
    "papermill": {
     "duration": 0.022141,
     "end_time": "2021-08-18T22:00:09.827382",
     "exception": false,
     "start_time": "2021-08-18T22:00:09.805241",
     "status": "completed"
    },
    "tags": []
   },
   "outputs": [],
   "source": []
  }
 ],
 "metadata": {
  "kernelspec": {
   "display_name": "Python 3",
   "language": "python",
   "name": "python3"
  },
  "language_info": {
   "codemirror_mode": {
    "name": "ipython",
    "version": 3
   },
   "file_extension": ".py",
   "mimetype": "text/x-python",
   "name": "python",
   "nbconvert_exporter": "python",
   "pygments_lexer": "ipython3",
   "version": "3.9.5"
  },
  "papermill": {
   "default_parameters": {},
   "duration": 6.829975,
   "end_time": "2021-08-18T22:00:11.252989",
   "environment_variables": {},
   "exception": null,
   "input_path": "eBay_Overview.ipynb",
   "output_path": "eBay_Overview.ipynb",
   "parameters": {},
   "start_time": "2021-08-18T22:00:04.423014",
   "version": "2.3.3"
  }
 },
 "nbformat": 4,
 "nbformat_minor": 5
}