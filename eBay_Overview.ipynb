{
 "cells": [
  {
   "cell_type": "code",
   "execution_count": 1,
   "id": "reverse-picking",
   "metadata": {
    "execution": {
     "iopub.execute_input": "2021-11-03T19:00:07.317846Z",
     "iopub.status.busy": "2021-11-03T19:00:07.315651Z",
     "iopub.status.idle": "2021-11-03T19:00:08.278355Z",
     "shell.execute_reply": "2021-11-03T19:00:08.280150Z"
    },
    "papermill": {
     "duration": 1.009231,
     "end_time": "2021-11-03T19:00:08.280999",
     "exception": false,
     "start_time": "2021-11-03T19:00:07.271768",
     "status": "completed"
    },
    "tags": []
   },
   "outputs": [],
   "source": [
    "import pandas as pd\n",
    "import sqlite3"
   ]
  },
  {
   "cell_type": "code",
   "execution_count": 2,
   "id": "innovative-syndrome",
   "metadata": {
    "execution": {
     "iopub.execute_input": "2021-11-03T19:00:08.338170Z",
     "iopub.status.busy": "2021-11-03T19:00:08.335877Z",
     "iopub.status.idle": "2021-11-03T19:00:09.058606Z",
     "shell.execute_reply": "2021-11-03T19:00:09.060095Z"
    },
    "papermill": {
     "duration": 0.757783,
     "end_time": "2021-11-03T19:00:09.060624",
     "exception": false,
     "start_time": "2021-11-03T19:00:08.302841",
     "status": "completed"
    },
    "tags": []
   },
   "outputs": [],
   "source": [
    "timestamps = pd.read_sql(\"select distinct record_time from EBAY_TOP_BERLIN order by record_time desc limit 2\", sqlite3.connect(\"UsedObjects.db\"))"
   ]
  },
  {
   "cell_type": "code",
   "execution_count": 3,
   "id": "periodic-identification",
   "metadata": {
    "execution": {
     "iopub.execute_input": "2021-11-03T19:00:09.129389Z",
     "iopub.status.busy": "2021-11-03T19:00:09.126926Z",
     "iopub.status.idle": "2021-11-03T19:00:09.148525Z",
     "shell.execute_reply": "2021-11-03T19:00:09.149933Z"
    },
    "papermill": {
     "duration": 0.06975,
     "end_time": "2021-11-03T19:00:09.150398",
     "exception": false,
     "start_time": "2021-11-03T19:00:09.080648",
     "status": "completed"
    },
    "tags": []
   },
   "outputs": [
    {
     "data": {
      "text/html": [
       "<div>\n",
       "<style scoped>\n",
       "    .dataframe tbody tr th:only-of-type {\n",
       "        vertical-align: middle;\n",
       "    }\n",
       "\n",
       "    .dataframe tbody tr th {\n",
       "        vertical-align: top;\n",
       "    }\n",
       "\n",
       "    .dataframe thead th {\n",
       "        text-align: right;\n",
       "    }\n",
       "</style>\n",
       "<table border=\"1\" class=\"dataframe\">\n",
       "  <thead>\n",
       "    <tr style=\"text-align: right;\">\n",
       "      <th></th>\n",
       "      <th>RECORD_TIME</th>\n",
       "    </tr>\n",
       "  </thead>\n",
       "  <tbody>\n",
       "    <tr>\n",
       "      <th>0</th>\n",
       "      <td>2021-11-03 20:00</td>\n",
       "    </tr>\n",
       "    <tr>\n",
       "      <th>1</th>\n",
       "      <td>2021-11-03 19:30</td>\n",
       "    </tr>\n",
       "  </tbody>\n",
       "</table>\n",
       "</div>"
      ],
      "text/plain": [
       "        RECORD_TIME\n",
       "0  2021-11-03 20:00\n",
       "1  2021-11-03 19:30"
      ]
     },
     "execution_count": 3,
     "metadata": {},
     "output_type": "execute_result"
    }
   ],
   "source": [
    "timestamps"
   ]
  },
  {
   "cell_type": "code",
   "execution_count": 4,
   "id": "alternate-victory",
   "metadata": {
    "execution": {
     "iopub.execute_input": "2021-11-03T19:00:09.202479Z",
     "iopub.status.busy": "2021-11-03T19:00:09.200409Z",
     "iopub.status.idle": "2021-11-03T19:00:10.241526Z",
     "shell.execute_reply": "2021-11-03T19:00:10.242959Z"
    },
    "papermill": {
     "duration": 1.07283,
     "end_time": "2021-11-03T19:00:10.243433",
     "exception": false,
     "start_time": "2021-11-03T19:00:09.170603",
     "status": "completed"
    },
    "tags": []
   },
   "outputs": [],
   "source": [
    "df = pd.read_sql(\"select * from EBAY_TOP_BERLIN where record_time in (select distinct record_time from EBAY_TOP_BERLIN order by record_time desc limit 2)\", sqlite3.connect(\"UsedObjects.db\"))"
   ]
  },
  {
   "cell_type": "code",
   "execution_count": 5,
   "id": "popular-active",
   "metadata": {
    "execution": {
     "iopub.execute_input": "2021-11-03T19:00:10.315620Z",
     "iopub.status.busy": "2021-11-03T19:00:10.305237Z",
     "iopub.status.idle": "2021-11-03T19:00:10.340150Z",
     "shell.execute_reply": "2021-11-03T19:00:10.341791Z"
    },
    "papermill": {
     "duration": 0.077453,
     "end_time": "2021-11-03T19:00:10.342288",
     "exception": false,
     "start_time": "2021-11-03T19:00:10.264835",
     "status": "completed"
    },
    "tags": []
   },
   "outputs": [],
   "source": [
    "df_pivot = df.pivot_table(index=\"PRODUCT\", columns = \"RECORD_TIME\", values = \"LISTING_COUNT\")"
   ]
  },
  {
   "cell_type": "code",
   "execution_count": 6,
   "id": "union-huntington",
   "metadata": {
    "execution": {
     "iopub.execute_input": "2021-11-03T19:00:10.404090Z",
     "iopub.status.busy": "2021-11-03T19:00:10.401695Z",
     "iopub.status.idle": "2021-11-03T19:00:10.408568Z",
     "shell.execute_reply": "2021-11-03T19:00:10.410445Z"
    },
    "papermill": {
     "duration": 0.047798,
     "end_time": "2021-11-03T19:00:10.410999",
     "exception": false,
     "start_time": "2021-11-03T19:00:10.363201",
     "status": "completed"
    },
    "tags": []
   },
   "outputs": [],
   "source": [
    "df_pivot.columns = [\"stamp_1\", \"stamp_2\"]\n",
    "df_pivot_diff = df_pivot.diff(axis=1)"
   ]
  },
  {
   "cell_type": "code",
   "execution_count": 7,
   "id": "fifth-motion",
   "metadata": {
    "execution": {
     "iopub.execute_input": "2021-11-03T19:00:10.470140Z",
     "iopub.status.busy": "2021-11-03T19:00:10.466969Z",
     "iopub.status.idle": "2021-11-03T19:00:12.212044Z",
     "shell.execute_reply": "2021-11-03T19:00:12.213467Z"
    },
    "papermill": {
     "duration": 1.78203,
     "end_time": "2021-11-03T19:00:12.213947",
     "exception": false,
     "start_time": "2021-11-03T19:00:10.431917",
     "status": "completed"
    },
    "tags": []
   },
   "outputs": [
    {
     "data": {
      "text/plain": [
       "<AxesSubplot:ylabel='PRODUCT'>"
      ]
     },
     "execution_count": 7,
     "metadata": {},
     "output_type": "execute_result"
    },
    {
     "data": {
      "image/png": "[encoded data removed]",
      "text/plain": [
       "<Figure size 432x288 with 1 Axes>"
      ]
     },
     "metadata": {
      "needs_background": "light"
     },
     "output_type": "display_data"
    }
   ],
   "source": [
    "df_pivot_diff.sort_values(\"stamp_2\", ascending = False)[\"stamp_2\"].head(10).plot.barh()"
   ]
  },
  {
   "cell_type": "code",
   "execution_count": null,
   "id": "extra-executive",
   "metadata": {
    "papermill": {
     "duration": 0.02533,
     "end_time": "2021-11-03T19:00:12.262524",
     "exception": false,
     "start_time": "2021-11-03T19:00:12.237194",
     "status": "completed"
    },
    "tags": []
   },
   "outputs": [],
   "source": []
  }
 ],
 "metadata": {
  "kernelspec": {
   "display_name": "Python 3",
   "language": "python",
   "name": "python3"
  },
  "language_info": {
   "codemirror_mode": {
    "name": "ipython",
    "version": 3
   },
   "file_extension": ".py",
   "mimetype": "text/x-python",
   "name": "python",
   "nbconvert_exporter": "python",
   "pygments_lexer": "ipython3",
   "version": "3.9.5"
  },
  "papermill": {
   "default_parameters": {},
   "duration": 8.747323,
   "end_time": "2021-11-03T19:00:13.255590",
   "environment_variables": {},
   "exception": null,
   "input_path": "eBay_Overview.ipynb",
   "output_path": "eBay_Overview.ipynb",
   "parameters": {},
   "start_time": "2021-11-03T19:00:04.508267",
   "version": "2.3.3"
  }
 },
 "nbformat": 4,
 "nbformat_minor": 5
}