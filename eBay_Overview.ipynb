{
 "cells": [
  {
   "cell_type": "code",
   "execution_count": 1,
   "id": "reverse-picking",
   "metadata": {
    "execution": {
     "iopub.execute_input": "2021-09-01T12:30:07.292408Z",
     "iopub.status.busy": "2021-09-01T12:30:07.290426Z",
     "iopub.status.idle": "2021-09-01T12:30:08.092596Z",
     "shell.execute_reply": "2021-09-01T12:30:08.093824Z"
    },
    "papermill": {
     "duration": 0.852329,
     "end_time": "2021-09-01T12:30:08.094438",
     "exception": false,
     "start_time": "2021-09-01T12:30:07.242109",
     "status": "completed"
    },
    "tags": []
   },
   "outputs": [],
   "source": [
    "import pandas as pd\n",
    "import sqlite3"
   ]
  },
  {
   "cell_type": "code",
   "execution_count": 2,
   "id": "innovative-syndrome",
   "metadata": {
    "execution": {
     "iopub.execute_input": "2021-09-01T12:30:08.144678Z",
     "iopub.status.busy": "2021-09-01T12:30:08.142766Z",
     "iopub.status.idle": "2021-09-01T12:30:08.329064Z",
     "shell.execute_reply": "2021-09-01T12:30:08.330326Z"
    },
    "papermill": {
     "duration": 0.215597,
     "end_time": "2021-09-01T12:30:08.330735",
     "exception": false,
     "start_time": "2021-09-01T12:30:08.115138",
     "status": "completed"
    },
    "tags": []
   },
   "outputs": [],
   "source": [
    "timestamps = pd.read_sql(\"select distinct record_time from EBAY_TOP_BERLIN order by record_time desc limit 2\", sqlite3.connect(\"UsedObjects.db\"))"
   ]
  },
  {
   "cell_type": "code",
   "execution_count": 3,
   "id": "periodic-identification",
   "metadata": {
    "execution": {
     "iopub.execute_input": "2021-09-01T12:30:08.393908Z",
     "iopub.status.busy": "2021-09-01T12:30:08.391890Z",
     "iopub.status.idle": "2021-09-01T12:30:08.411616Z",
     "shell.execute_reply": "2021-09-01T12:30:08.412820Z"
    },
    "papermill": {
     "duration": 0.063005,
     "end_time": "2021-09-01T12:30:08.413244",
     "exception": false,
     "start_time": "2021-09-01T12:30:08.350239",
     "status": "completed"
    },
    "tags": []
   },
   "outputs": [
    {
     "data": {
      "text/html": [
       "<div>\n",
       "<style scoped>\n",
       "    .dataframe tbody tr th:only-of-type {\n",
       "        vertical-align: middle;\n",
       "    }\n",
       "\n",
       "    .dataframe tbody tr th {\n",
       "        vertical-align: top;\n",
       "    }\n",
       "\n",
       "    .dataframe thead th {\n",
       "        text-align: right;\n",
       "    }\n",
       "</style>\n",
       "<table border=\"1\" class=\"dataframe\">\n",
       "  <thead>\n",
       "    <tr style=\"text-align: right;\">\n",
       "      <th></th>\n",
       "      <th>RECORD_TIME</th>\n",
       "    </tr>\n",
       "  </thead>\n",
       "  <tbody>\n",
       "    <tr>\n",
       "      <th>0</th>\n",
       "      <td>2021-09-01 14:30</td>\n",
       "    </tr>\n",
       "    <tr>\n",
       "      <th>1</th>\n",
       "      <td>2021-09-01 14:00</td>\n",
       "    </tr>\n",
       "  </tbody>\n",
       "</table>\n",
       "</div>"
      ],
      "text/plain": [
       "        RECORD_TIME\n",
       "0  2021-09-01 14:30\n",
       "1  2021-09-01 14:00"
      ]
     },
     "execution_count": 3,
     "metadata": {},
     "output_type": "execute_result"
    }
   ],
   "source": [
    "timestamps"
   ]
  },
  {
   "cell_type": "code",
   "execution_count": 4,
   "id": "alternate-victory",
   "metadata": {
    "execution": {
     "iopub.execute_input": "2021-09-01T12:30:08.466472Z",
     "iopub.status.busy": "2021-09-01T12:30:08.464220Z",
     "iopub.status.idle": "2021-09-01T12:30:08.735264Z",
     "shell.execute_reply": "2021-09-01T12:30:08.736475Z"
    },
    "papermill": {
     "duration": 0.301013,
     "end_time": "2021-09-01T12:30:08.736871",
     "exception": false,
     "start_time": "2021-09-01T12:30:08.435858",
     "status": "completed"
    },
    "tags": []
   },
   "outputs": [],
   "source": [
    "df = pd.read_sql(\"select * from EBAY_TOP_BERLIN where record_time in (select distinct record_time from EBAY_TOP_BERLIN order by record_time desc limit 2)\", sqlite3.connect(\"UsedObjects.db\"))"
   ]
  },
  {
   "cell_type": "code",
   "execution_count": 5,
   "id": "popular-active",
   "metadata": {
    "execution": {
     "iopub.execute_input": "2021-09-01T12:30:08.816317Z",
     "iopub.status.busy": "2021-09-01T12:30:08.804085Z",
     "iopub.status.idle": "2021-09-01T12:30:08.832284Z",
     "shell.execute_reply": "2021-09-01T12:30:08.833560Z"
    },
    "papermill": {
     "duration": 0.071408,
     "end_time": "2021-09-01T12:30:08.833968",
     "exception": false,
     "start_time": "2021-09-01T12:30:08.762560",
     "status": "completed"
    },
    "tags": []
   },
   "outputs": [],
   "source": [
    "df_pivot = df.pivot_table(index=\"PRODUCT\", columns = \"RECORD_TIME\", values = \"LISTING_COUNT\")"
   ]
  },
  {
   "cell_type": "code",
   "execution_count": 6,
   "id": "union-huntington",
   "metadata": {
    "execution": {
     "iopub.execute_input": "2021-09-01T12:30:08.888982Z",
     "iopub.status.busy": "2021-09-01T12:30:08.886970Z",
     "iopub.status.idle": "2021-09-01T12:30:08.892275Z",
     "shell.execute_reply": "2021-09-01T12:30:08.893450Z"
    },
    "papermill": {
     "duration": 0.039904,
     "end_time": "2021-09-01T12:30:08.893873",
     "exception": false,
     "start_time": "2021-09-01T12:30:08.853969",
     "status": "completed"
    },
    "tags": []
   },
   "outputs": [],
   "source": [
    "df_pivot.columns = [\"stamp_1\", \"stamp_2\"]\n",
    "df_pivot_diff = df_pivot.diff(axis=1)"
   ]
  },
  {
   "cell_type": "code",
   "execution_count": 7,
   "id": "fifth-motion",
   "metadata": {
    "execution": {
     "iopub.execute_input": "2021-09-01T12:30:08.947188Z",
     "iopub.status.busy": "2021-09-01T12:30:08.944750Z",
     "iopub.status.idle": "2021-09-01T12:30:10.441598Z",
     "shell.execute_reply": "2021-09-01T12:30:10.442853Z"
    },
    "papermill": {
     "duration": 1.52931,
     "end_time": "2021-09-01T12:30:10.443325",
     "exception": false,
     "start_time": "2021-09-01T12:30:08.914015",
     "status": "completed"
    },
    "tags": []
   },
   "outputs": [
    {
     "data": {
      "text/plain": [
       "<AxesSubplot:ylabel='PRODUCT'>"
      ]
     },
     "execution_count": 7,
     "metadata": {},
     "output_type": "execute_result"
    },
    {
     "data": {
      "image/png": "[encoded data removed]",
      "text/plain": [
       "<Figure size 432x288 with 1 Axes>"
      ]
     },
     "metadata": {
      "needs_background": "light"
     },
     "output_type": "display_data"
    }
   ],
   "source": [
    "df_pivot_diff.sort_values(\"stamp_2\", ascending = False)[\"stamp_2\"].head(10).plot.barh()"
   ]
  },
  {
   "cell_type": "code",
   "execution_count": null,
   "id": "extra-executive",
   "metadata": {
    "papermill": {
     "duration": 0.021858,
     "end_time": "2021-09-01T12:30:10.488932",
     "exception": false,
     "start_time": "2021-09-01T12:30:10.467074",
     "status": "completed"
    },
    "tags": []
   },
   "outputs": [],
   "source": []
  }
 ],
 "metadata": {
  "kernelspec": {
   "display_name": "Python 3",
   "language": "python",
   "name": "python3"
  },
  "language_info": {
   "codemirror_mode": {
    "name": "ipython",
    "version": 3
   },
   "file_extension": ".py",
   "mimetype": "text/x-python",
   "name": "python",
   "nbconvert_exporter": "python",
   "pygments_lexer": "ipython3",
   "version": "3.9.5"
  },
  "papermill": {
   "default_parameters": {},
   "duration": 6.820229,
   "end_time": "2021-09-01T12:30:11.661393",
   "environment_variables": {},
   "exception": null,
   "input_path": "eBay_Overview.ipynb",
   "output_path": "eBay_Overview.ipynb",
   "parameters": {},
   "start_time": "2021-09-01T12:30:04.841164",
   "version": "2.3.3"
  }
 },
 "nbformat": 4,
 "nbformat_minor": 5
}