{
 "cells": [
  {
   "cell_type": "code",
   "execution_count": 1,
   "id": "reverse-picking",
   "metadata": {
    "execution": {
     "iopub.execute_input": "2021-11-02T00:30:07.890113Z",
     "iopub.status.busy": "2021-11-02T00:30:07.887832Z",
     "iopub.status.idle": "2021-11-02T00:30:08.828079Z",
     "shell.execute_reply": "2021-11-02T00:30:08.829853Z"
    },
    "papermill": {
     "duration": 0.989955,
     "end_time": "2021-11-02T00:30:08.830581",
     "exception": false,
     "start_time": "2021-11-02T00:30:07.840626",
     "status": "completed"
    },
    "tags": []
   },
   "outputs": [],
   "source": [
    "import pandas as pd\n",
    "import sqlite3"
   ]
  },
  {
   "cell_type": "code",
   "execution_count": 2,
   "id": "innovative-syndrome",
   "metadata": {
    "execution": {
     "iopub.execute_input": "2021-11-02T00:30:08.895477Z",
     "iopub.status.busy": "2021-11-02T00:30:08.893239Z",
     "iopub.status.idle": "2021-11-02T00:30:09.617980Z",
     "shell.execute_reply": "2021-11-02T00:30:09.619515Z"
    },
    "papermill": {
     "duration": 0.759192,
     "end_time": "2021-11-02T00:30:09.620009",
     "exception": false,
     "start_time": "2021-11-02T00:30:08.860817",
     "status": "completed"
    },
    "tags": []
   },
   "outputs": [],
   "source": [
    "timestamps = pd.read_sql(\"select distinct record_time from EBAY_TOP_BERLIN order by record_time desc limit 2\", sqlite3.connect(\"UsedObjects.db\"))"
   ]
  },
  {
   "cell_type": "code",
   "execution_count": 3,
   "id": "periodic-identification",
   "metadata": {
    "execution": {
     "iopub.execute_input": "2021-11-02T00:30:09.693858Z",
     "iopub.status.busy": "2021-11-02T00:30:09.690826Z",
     "iopub.status.idle": "2021-11-02T00:30:09.715807Z",
     "shell.execute_reply": "2021-11-02T00:30:09.717275Z"
    },
    "papermill": {
     "duration": 0.0767,
     "end_time": "2021-11-02T00:30:09.717764",
     "exception": false,
     "start_time": "2021-11-02T00:30:09.641064",
     "status": "completed"
    },
    "tags": []
   },
   "outputs": [
    {
     "data": {
      "text/html": [
       "<div>\n",
       "<style scoped>\n",
       "    .dataframe tbody tr th:only-of-type {\n",
       "        vertical-align: middle;\n",
       "    }\n",
       "\n",
       "    .dataframe tbody tr th {\n",
       "        vertical-align: top;\n",
       "    }\n",
       "\n",
       "    .dataframe thead th {\n",
       "        text-align: right;\n",
       "    }\n",
       "</style>\n",
       "<table border=\"1\" class=\"dataframe\">\n",
       "  <thead>\n",
       "    <tr style=\"text-align: right;\">\n",
       "      <th></th>\n",
       "      <th>RECORD_TIME</th>\n",
       "    </tr>\n",
       "  </thead>\n",
       "  <tbody>\n",
       "    <tr>\n",
       "      <th>0</th>\n",
       "      <td>2021-11-02 01:30</td>\n",
       "    </tr>\n",
       "    <tr>\n",
       "      <th>1</th>\n",
       "      <td>2021-11-02 01:00</td>\n",
       "    </tr>\n",
       "  </tbody>\n",
       "</table>\n",
       "</div>"
      ],
      "text/plain": [
       "        RECORD_TIME\n",
       "0  2021-11-02 01:30\n",
       "1  2021-11-02 01:00"
      ]
     },
     "execution_count": 3,
     "metadata": {},
     "output_type": "execute_result"
    }
   ],
   "source": [
    "timestamps"
   ]
  },
  {
   "cell_type": "code",
   "execution_count": 4,
   "id": "alternate-victory",
   "metadata": {
    "execution": {
     "iopub.execute_input": "2021-11-02T00:30:09.771592Z",
     "iopub.status.busy": "2021-11-02T00:30:09.769571Z",
     "iopub.status.idle": "2021-11-02T00:30:10.781668Z",
     "shell.execute_reply": "2021-11-02T00:30:10.783145Z"
    },
    "papermill": {
     "duration": 1.044935,
     "end_time": "2021-11-02T00:30:10.783597",
     "exception": false,
     "start_time": "2021-11-02T00:30:09.738662",
     "status": "completed"
    },
    "tags": []
   },
   "outputs": [],
   "source": [
    "df = pd.read_sql(\"select * from EBAY_TOP_BERLIN where record_time in (select distinct record_time from EBAY_TOP_BERLIN order by record_time desc limit 2)\", sqlite3.connect(\"UsedObjects.db\"))"
   ]
  },
  {
   "cell_type": "code",
   "execution_count": 5,
   "id": "popular-active",
   "metadata": {
    "execution": {
     "iopub.execute_input": "2021-11-02T00:30:10.865645Z",
     "iopub.status.busy": "2021-11-02T00:30:10.850649Z",
     "iopub.status.idle": "2021-11-02T00:30:10.912211Z",
     "shell.execute_reply": "2021-11-02T00:30:10.909402Z"
    },
    "papermill": {
     "duration": 0.108189,
     "end_time": "2021-11-02T00:30:10.912956",
     "exception": false,
     "start_time": "2021-11-02T00:30:10.804767",
     "status": "completed"
    },
    "tags": []
   },
   "outputs": [],
   "source": [
    "df_pivot = df.pivot_table(index=\"PRODUCT\", columns = \"RECORD_TIME\", values = \"LISTING_COUNT\")"
   ]
  },
  {
   "cell_type": "code",
   "execution_count": 6,
   "id": "union-huntington",
   "metadata": {
    "execution": {
     "iopub.execute_input": "2021-11-02T00:30:10.977770Z",
     "iopub.status.busy": "2021-11-02T00:30:10.975346Z",
     "iopub.status.idle": "2021-11-02T00:30:10.981558Z",
     "shell.execute_reply": "2021-11-02T00:30:10.983046Z"
    },
    "papermill": {
     "duration": 0.046023,
     "end_time": "2021-11-02T00:30:10.983564",
     "exception": false,
     "start_time": "2021-11-02T00:30:10.937541",
     "status": "completed"
    },
    "tags": []
   },
   "outputs": [],
   "source": [
    "df_pivot.columns = [\"stamp_1\", \"stamp_2\"]\n",
    "df_pivot_diff = df_pivot.diff(axis=1)"
   ]
  },
  {
   "cell_type": "code",
   "execution_count": 7,
   "id": "fifth-motion",
   "metadata": {
    "execution": {
     "iopub.execute_input": "2021-11-02T00:30:11.041927Z",
     "iopub.status.busy": "2021-11-02T00:30:11.039407Z",
     "iopub.status.idle": "2021-11-02T00:30:12.904571Z",
     "shell.execute_reply": "2021-11-02T00:30:12.906291Z"
    },
    "papermill": {
     "duration": 1.901463,
     "end_time": "2021-11-02T00:30:12.906867",
     "exception": false,
     "start_time": "2021-11-02T00:30:11.005404",
     "status": "completed"
    },
    "tags": []
   },
   "outputs": [
    {
     "data": {
      "text/plain": [
       "<AxesSubplot:ylabel='PRODUCT'>"
      ]
     },
     "execution_count": 7,
     "metadata": {},
     "output_type": "execute_result"
    },
    {
     "data": {
      "image/png": "[encoded data removed]",
      "text/plain": [
       "<Figure size 432x288 with 1 Axes>"
      ]
     },
     "metadata": {
      "needs_background": "light"
     },
     "output_type": "display_data"
    }
   ],
   "source": [
    "df_pivot_diff.sort_values(\"stamp_2\", ascending = False)[\"stamp_2\"].head(10).plot.barh()"
   ]
  },
  {
   "cell_type": "code",
   "execution_count": null,
   "id": "extra-executive",
   "metadata": {
    "papermill": {
     "duration": 0.033472,
     "end_time": "2021-11-02T00:30:12.977822",
     "exception": false,
     "start_time": "2021-11-02T00:30:12.944350",
     "status": "completed"
    },
    "tags": []
   },
   "outputs": [],
   "source": []
  }
 ],
 "metadata": {
  "kernelspec": {
   "display_name": "Python 3",
   "language": "python",
   "name": "python3"
  },
  "language_info": {
   "codemirror_mode": {
    "name": "ipython",
    "version": 3
   },
   "file_extension": ".py",
   "mimetype": "text/x-python",
   "name": "python",
   "nbconvert_exporter": "python",
   "pygments_lexer": "ipython3",
   "version": "3.9.5"
  },
  "papermill": {
   "default_parameters": {},
   "duration": 8.609562,
   "end_time": "2021-11-02T00:30:13.746175",
   "environment_variables": {},
   "exception": null,
   "input_path": "eBay_Overview.ipynb",
   "output_path": "eBay_Overview.ipynb",
   "parameters": {},
   "start_time": "2021-11-02T00:30:05.136613",
   "version": "2.3.3"
  }
 },
 "nbformat": 4,
 "nbformat_minor": 5
}