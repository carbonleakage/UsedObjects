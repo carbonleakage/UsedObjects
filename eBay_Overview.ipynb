{
 "cells": [
  {
   "cell_type": "code",
   "execution_count": 1,
   "id": "reverse-picking",
   "metadata": {
    "execution": {
     "iopub.execute_input": "2021-10-17T20:30:07.410423Z",
     "iopub.status.busy": "2021-10-17T20:30:07.408444Z",
     "iopub.status.idle": "2021-10-17T20:30:08.216358Z",
     "shell.execute_reply": "2021-10-17T20:30:08.217691Z"
    },
    "papermill": {
     "duration": 0.860204,
     "end_time": "2021-10-17T20:30:08.218319",
     "exception": false,
     "start_time": "2021-10-17T20:30:07.358115",
     "status": "completed"
    },
    "tags": []
   },
   "outputs": [],
   "source": [
    "import pandas as pd\n",
    "import sqlite3"
   ]
  },
  {
   "cell_type": "code",
   "execution_count": 2,
   "id": "innovative-syndrome",
   "metadata": {
    "execution": {
     "iopub.execute_input": "2021-10-17T20:30:08.270655Z",
     "iopub.status.busy": "2021-10-17T20:30:08.268402Z",
     "iopub.status.idle": "2021-10-17T20:30:08.826983Z",
     "shell.execute_reply": "2021-10-17T20:30:08.828185Z"
    },
    "papermill": {
     "duration": 0.588013,
     "end_time": "2021-10-17T20:30:08.828579",
     "exception": false,
     "start_time": "2021-10-17T20:30:08.240566",
     "status": "completed"
    },
    "tags": []
   },
   "outputs": [],
   "source": [
    "timestamps = pd.read_sql(\"select distinct record_time from EBAY_TOP_BERLIN order by record_time desc limit 2\", sqlite3.connect(\"UsedObjects.db\"))"
   ]
  },
  {
   "cell_type": "code",
   "execution_count": 3,
   "id": "periodic-identification",
   "metadata": {
    "execution": {
     "iopub.execute_input": "2021-10-17T20:30:08.904251Z",
     "iopub.status.busy": "2021-10-17T20:30:08.902233Z",
     "iopub.status.idle": "2021-10-17T20:30:08.922165Z",
     "shell.execute_reply": "2021-10-17T20:30:08.923297Z"
    },
    "papermill": {
     "duration": 0.068321,
     "end_time": "2021-10-17T20:30:08.923707",
     "exception": false,
     "start_time": "2021-10-17T20:30:08.855386",
     "status": "completed"
    },
    "tags": []
   },
   "outputs": [
    {
     "data": {
      "text/html": [
       "<div>\n",
       "<style scoped>\n",
       "    .dataframe tbody tr th:only-of-type {\n",
       "        vertical-align: middle;\n",
       "    }\n",
       "\n",
       "    .dataframe tbody tr th {\n",
       "        vertical-align: top;\n",
       "    }\n",
       "\n",
       "    .dataframe thead th {\n",
       "        text-align: right;\n",
       "    }\n",
       "</style>\n",
       "<table border=\"1\" class=\"dataframe\">\n",
       "  <thead>\n",
       "    <tr style=\"text-align: right;\">\n",
       "      <th></th>\n",
       "      <th>RECORD_TIME</th>\n",
       "    </tr>\n",
       "  </thead>\n",
       "  <tbody>\n",
       "    <tr>\n",
       "      <th>0</th>\n",
       "      <td>2021-10-17 22:30</td>\n",
       "    </tr>\n",
       "    <tr>\n",
       "      <th>1</th>\n",
       "      <td>2021-10-17 22:00</td>\n",
       "    </tr>\n",
       "  </tbody>\n",
       "</table>\n",
       "</div>"
      ],
      "text/plain": [
       "        RECORD_TIME\n",
       "0  2021-10-17 22:30\n",
       "1  2021-10-17 22:00"
      ]
     },
     "execution_count": 3,
     "metadata": {},
     "output_type": "execute_result"
    }
   ],
   "source": [
    "timestamps"
   ]
  },
  {
   "cell_type": "code",
   "execution_count": 4,
   "id": "alternate-victory",
   "metadata": {
    "execution": {
     "iopub.execute_input": "2021-10-17T20:30:08.977332Z",
     "iopub.status.busy": "2021-10-17T20:30:08.974950Z",
     "iopub.status.idle": "2021-10-17T20:30:09.792621Z",
     "shell.execute_reply": "2021-10-17T20:30:09.793973Z"
    },
    "papermill": {
     "duration": 0.848146,
     "end_time": "2021-10-17T20:30:09.794392",
     "exception": false,
     "start_time": "2021-10-17T20:30:08.946246",
     "status": "completed"
    },
    "tags": []
   },
   "outputs": [],
   "source": [
    "df = pd.read_sql(\"select * from EBAY_TOP_BERLIN where record_time in (select distinct record_time from EBAY_TOP_BERLIN order by record_time desc limit 2)\", sqlite3.connect(\"UsedObjects.db\"))"
   ]
  },
  {
   "cell_type": "code",
   "execution_count": 5,
   "id": "popular-active",
   "metadata": {
    "execution": {
     "iopub.execute_input": "2021-10-17T20:30:09.865465Z",
     "iopub.status.busy": "2021-10-17T20:30:09.853019Z",
     "iopub.status.idle": "2021-10-17T20:30:09.882423Z",
     "shell.execute_reply": "2021-10-17T20:30:09.883785Z"
    },
    "papermill": {
     "duration": 0.067945,
     "end_time": "2021-10-17T20:30:09.884222",
     "exception": false,
     "start_time": "2021-10-17T20:30:09.816277",
     "status": "completed"
    },
    "tags": []
   },
   "outputs": [],
   "source": [
    "df_pivot = df.pivot_table(index=\"PRODUCT\", columns = \"RECORD_TIME\", values = \"LISTING_COUNT\")"
   ]
  },
  {
   "cell_type": "code",
   "execution_count": 6,
   "id": "union-huntington",
   "metadata": {
    "execution": {
     "iopub.execute_input": "2021-10-17T20:30:09.941802Z",
     "iopub.status.busy": "2021-10-17T20:30:09.939719Z",
     "iopub.status.idle": "2021-10-17T20:30:09.945319Z",
     "shell.execute_reply": "2021-10-17T20:30:09.946538Z"
    },
    "papermill": {
     "duration": 0.04159,
     "end_time": "2021-10-17T20:30:09.946966",
     "exception": false,
     "start_time": "2021-10-17T20:30:09.905376",
     "status": "completed"
    },
    "tags": []
   },
   "outputs": [],
   "source": [
    "df_pivot.columns = [\"stamp_1\", \"stamp_2\"]\n",
    "df_pivot_diff = df_pivot.diff(axis=1)"
   ]
  },
  {
   "cell_type": "code",
   "execution_count": 7,
   "id": "fifth-motion",
   "metadata": {
    "execution": {
     "iopub.execute_input": "2021-10-17T20:30:10.003726Z",
     "iopub.status.busy": "2021-10-17T20:30:10.001440Z",
     "iopub.status.idle": "2021-10-17T20:30:11.481604Z",
     "shell.execute_reply": "2021-10-17T20:30:11.482901Z"
    },
    "papermill": {
     "duration": 1.513405,
     "end_time": "2021-10-17T20:30:11.483315",
     "exception": false,
     "start_time": "2021-10-17T20:30:09.969910",
     "status": "completed"
    },
    "tags": []
   },
   "outputs": [
    {
     "data": {
      "text/plain": [
       "<AxesSubplot:ylabel='PRODUCT'>"
      ]
     },
     "execution_count": 7,
     "metadata": {},
     "output_type": "execute_result"
    },
    {
     "data": {
      "image/png": "[encoded data removed]",
      "text/plain": [
       "<Figure size 432x288 with 1 Axes>"
      ]
     },
     "metadata": {
      "needs_background": "light"
     },
     "output_type": "display_data"
    }
   ],
   "source": [
    "df_pivot_diff.sort_values(\"stamp_2\", ascending = False)[\"stamp_2\"].head(10).plot.barh()"
   ]
  },
  {
   "cell_type": "code",
   "execution_count": null,
   "id": "extra-executive",
   "metadata": {
    "papermill": {
     "duration": 0.022054,
     "end_time": "2021-10-17T20:30:11.531553",
     "exception": false,
     "start_time": "2021-10-17T20:30:11.509499",
     "status": "completed"
    },
    "tags": []
   },
   "outputs": [],
   "source": []
  }
 ],
 "metadata": {
  "kernelspec": {
   "display_name": "Python 3",
   "language": "python",
   "name": "python3"
  },
  "language_info": {
   "codemirror_mode": {
    "name": "ipython",
    "version": 3
   },
   "file_extension": ".py",
   "mimetype": "text/x-python",
   "name": "python",
   "nbconvert_exporter": "python",
   "pygments_lexer": "ipython3",
   "version": "3.9.5"
  },
  "papermill": {
   "default_parameters": {},
   "duration": 7.818934,
   "end_time": "2021-10-17T20:30:12.768436",
   "environment_variables": {},
   "exception": null,
   "input_path": "eBay_Overview.ipynb",
   "output_path": "eBay_Overview.ipynb",
   "parameters": {},
   "start_time": "2021-10-17T20:30:04.949502",
   "version": "2.3.3"
  }
 },
 "nbformat": 4,
 "nbformat_minor": 5
}