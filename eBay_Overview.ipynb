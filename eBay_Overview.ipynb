{
 "cells": [
  {
   "cell_type": "code",
   "execution_count": 1,
   "id": "reverse-picking",
   "metadata": {
    "execution": {
     "iopub.execute_input": "2021-10-02T06:30:07.171080Z",
     "iopub.status.busy": "2021-10-02T06:30:07.169080Z",
     "iopub.status.idle": "2021-10-02T06:30:07.973788Z",
     "shell.execute_reply": "2021-10-02T06:30:07.975107Z"
    },
    "papermill": {
     "duration": 0.855049,
     "end_time": "2021-10-02T06:30:07.975750",
     "exception": false,
     "start_time": "2021-10-02T06:30:07.120701",
     "status": "completed"
    },
    "tags": []
   },
   "outputs": [],
   "source": [
    "import pandas as pd\n",
    "import sqlite3"
   ]
  },
  {
   "cell_type": "code",
   "execution_count": 2,
   "id": "innovative-syndrome",
   "metadata": {
    "execution": {
     "iopub.execute_input": "2021-10-02T06:30:08.026018Z",
     "iopub.status.busy": "2021-10-02T06:30:08.024164Z",
     "iopub.status.idle": "2021-10-02T06:30:08.451025Z",
     "shell.execute_reply": "2021-10-02T06:30:08.452168Z"
    },
    "papermill": {
     "duration": 0.456151,
     "end_time": "2021-10-02T06:30:08.452576",
     "exception": false,
     "start_time": "2021-10-02T06:30:07.996425",
     "status": "completed"
    },
    "tags": []
   },
   "outputs": [],
   "source": [
    "timestamps = pd.read_sql(\"select distinct record_time from EBAY_TOP_BERLIN order by record_time desc limit 2\", sqlite3.connect(\"UsedObjects.db\"))"
   ]
  },
  {
   "cell_type": "code",
   "execution_count": 3,
   "id": "periodic-identification",
   "metadata": {
    "execution": {
     "iopub.execute_input": "2021-10-02T06:30:08.518194Z",
     "iopub.status.busy": "2021-10-02T06:30:08.516184Z",
     "iopub.status.idle": "2021-10-02T06:30:08.536066Z",
     "shell.execute_reply": "2021-10-02T06:30:08.537664Z"
    },
    "papermill": {
     "duration": 0.065038,
     "end_time": "2021-10-02T06:30:08.538380",
     "exception": false,
     "start_time": "2021-10-02T06:30:08.473342",
     "status": "completed"
    },
    "tags": []
   },
   "outputs": [
    {
     "data": {
      "text/html": [
       "<div>\n",
       "<style scoped>\n",
       "    .dataframe tbody tr th:only-of-type {\n",
       "        vertical-align: middle;\n",
       "    }\n",
       "\n",
       "    .dataframe tbody tr th {\n",
       "        vertical-align: top;\n",
       "    }\n",
       "\n",
       "    .dataframe thead th {\n",
       "        text-align: right;\n",
       "    }\n",
       "</style>\n",
       "<table border=\"1\" class=\"dataframe\">\n",
       "  <thead>\n",
       "    <tr style=\"text-align: right;\">\n",
       "      <th></th>\n",
       "      <th>RECORD_TIME</th>\n",
       "    </tr>\n",
       "  </thead>\n",
       "  <tbody>\n",
       "    <tr>\n",
       "      <th>0</th>\n",
       "      <td>2021-10-02 08:30</td>\n",
       "    </tr>\n",
       "    <tr>\n",
       "      <th>1</th>\n",
       "      <td>2021-10-02 08:00</td>\n",
       "    </tr>\n",
       "  </tbody>\n",
       "</table>\n",
       "</div>"
      ],
      "text/plain": [
       "        RECORD_TIME\n",
       "0  2021-10-02 08:30\n",
       "1  2021-10-02 08:00"
      ]
     },
     "execution_count": 3,
     "metadata": {},
     "output_type": "execute_result"
    }
   ],
   "source": [
    "timestamps"
   ]
  },
  {
   "cell_type": "code",
   "execution_count": 4,
   "id": "alternate-victory",
   "metadata": {
    "execution": {
     "iopub.execute_input": "2021-10-02T06:30:08.590530Z",
     "iopub.status.busy": "2021-10-02T06:30:08.588267Z",
     "iopub.status.idle": "2021-10-02T06:30:09.208572Z",
     "shell.execute_reply": "2021-10-02T06:30:09.209775Z"
    },
    "papermill": {
     "duration": 0.650462,
     "end_time": "2021-10-02T06:30:09.210167",
     "exception": false,
     "start_time": "2021-10-02T06:30:08.559705",
     "status": "completed"
    },
    "tags": []
   },
   "outputs": [],
   "source": [
    "df = pd.read_sql(\"select * from EBAY_TOP_BERLIN where record_time in (select distinct record_time from EBAY_TOP_BERLIN order by record_time desc limit 2)\", sqlite3.connect(\"UsedObjects.db\"))"
   ]
  },
  {
   "cell_type": "code",
   "execution_count": 5,
   "id": "popular-active",
   "metadata": {
    "execution": {
     "iopub.execute_input": "2021-10-02T06:30:09.290914Z",
     "iopub.status.busy": "2021-10-02T06:30:09.278836Z",
     "iopub.status.idle": "2021-10-02T06:30:09.306291Z",
     "shell.execute_reply": "2021-10-02T06:30:09.307568Z"
    },
    "papermill": {
     "duration": 0.071419,
     "end_time": "2021-10-02T06:30:09.307963",
     "exception": false,
     "start_time": "2021-10-02T06:30:09.236544",
     "status": "completed"
    },
    "tags": []
   },
   "outputs": [],
   "source": [
    "df_pivot = df.pivot_table(index=\"PRODUCT\", columns = \"RECORD_TIME\", values = \"LISTING_COUNT\")"
   ]
  },
  {
   "cell_type": "code",
   "execution_count": 6,
   "id": "union-huntington",
   "metadata": {
    "execution": {
     "iopub.execute_input": "2021-10-02T06:30:09.366280Z",
     "iopub.status.busy": "2021-10-02T06:30:09.364009Z",
     "iopub.status.idle": "2021-10-02T06:30:09.369756Z",
     "shell.execute_reply": "2021-10-02T06:30:09.371121Z"
    },
    "papermill": {
     "duration": 0.041443,
     "end_time": "2021-10-02T06:30:09.371544",
     "exception": false,
     "start_time": "2021-10-02T06:30:09.330101",
     "status": "completed"
    },
    "tags": []
   },
   "outputs": [],
   "source": [
    "df_pivot.columns = [\"stamp_1\", \"stamp_2\"]\n",
    "df_pivot_diff = df_pivot.diff(axis=1)"
   ]
  },
  {
   "cell_type": "code",
   "execution_count": 7,
   "id": "fifth-motion",
   "metadata": {
    "execution": {
     "iopub.execute_input": "2021-10-02T06:30:09.425332Z",
     "iopub.status.busy": "2021-10-02T06:30:09.423072Z",
     "iopub.status.idle": "2021-10-02T06:30:10.912385Z",
     "shell.execute_reply": "2021-10-02T06:30:10.913649Z"
    },
    "papermill": {
     "duration": 1.522554,
     "end_time": "2021-10-02T06:30:10.914064",
     "exception": false,
     "start_time": "2021-10-02T06:30:09.391510",
     "status": "completed"
    },
    "tags": []
   },
   "outputs": [
    {
     "data": {
      "text/plain": [
       "<AxesSubplot:ylabel='PRODUCT'>"
      ]
     },
     "execution_count": 7,
     "metadata": {},
     "output_type": "execute_result"
    },
    {
     "data": {
      "image/png": "[encoded data removed]",
      "text/plain": [
       "<Figure size 432x288 with 1 Axes>"
      ]
     },
     "metadata": {
      "needs_background": "light"
     },
     "output_type": "display_data"
    }
   ],
   "source": [
    "df_pivot_diff.sort_values(\"stamp_2\", ascending = False)[\"stamp_2\"].head(10).plot.barh()"
   ]
  },
  {
   "cell_type": "code",
   "execution_count": null,
   "id": "extra-executive",
   "metadata": {
    "papermill": {
     "duration": 0.022269,
     "end_time": "2021-10-02T06:30:10.960063",
     "exception": false,
     "start_time": "2021-10-02T06:30:10.937794",
     "status": "completed"
    },
    "tags": []
   },
   "outputs": [],
   "source": []
  }
 ],
 "metadata": {
  "kernelspec": {
   "display_name": "Python 3",
   "language": "python",
   "name": "python3"
  },
  "language_info": {
   "codemirror_mode": {
    "name": "ipython",
    "version": 3
   },
   "file_extension": ".py",
   "mimetype": "text/x-python",
   "name": "python",
   "nbconvert_exporter": "python",
   "pygments_lexer": "ipython3",
   "version": "3.9.5"
  },
  "papermill": {
   "default_parameters": {},
   "duration": 7.825419,
   "end_time": "2021-10-02T06:30:12.542764",
   "environment_variables": {},
   "exception": null,
   "input_path": "eBay_Overview.ipynb",
   "output_path": "eBay_Overview.ipynb",
   "parameters": {},
   "start_time": "2021-10-02T06:30:04.717345",
   "version": "2.3.3"
  }
 },
 "nbformat": 4,
 "nbformat_minor": 5
}