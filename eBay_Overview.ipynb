{
 "cells": [
  {
   "cell_type": "code",
   "execution_count": 1,
   "id": "reverse-picking",
   "metadata": {
    "execution": {
     "iopub.execute_input": "2021-11-29T01:30:07.575655Z",
     "iopub.status.busy": "2021-11-29T01:30:07.558656Z",
     "iopub.status.idle": "2021-11-29T01:30:08.528539Z",
     "shell.execute_reply": "2021-11-29T01:30:08.530176Z"
    },
    "papermill": {
     "duration": 1.003175,
     "end_time": "2021-11-29T01:30:08.530924",
     "exception": false,
     "start_time": "2021-11-29T01:30:07.527749",
     "status": "completed"
    },
    "tags": []
   },
   "outputs": [],
   "source": [
    "import pandas as pd\n",
    "import sqlite3"
   ]
  },
  {
   "cell_type": "code",
   "execution_count": 2,
   "id": "innovative-syndrome",
   "metadata": {
    "execution": {
     "iopub.execute_input": "2021-11-29T01:30:08.596607Z",
     "iopub.status.busy": "2021-11-29T01:30:08.594294Z",
     "iopub.status.idle": "2021-11-29T01:30:09.533750Z",
     "shell.execute_reply": "2021-11-29T01:30:09.535484Z"
    },
    "papermill": {
     "duration": 0.973897,
     "end_time": "2021-11-29T01:30:09.536021",
     "exception": false,
     "start_time": "2021-11-29T01:30:08.562124",
     "status": "completed"
    },
    "tags": []
   },
   "outputs": [],
   "source": [
    "timestamps = pd.read_sql(\"select distinct record_time from EBAY_TOP_BERLIN order by record_time desc limit 2\", sqlite3.connect(\"UsedObjects.db\"))"
   ]
  },
  {
   "cell_type": "code",
   "execution_count": 3,
   "id": "periodic-identification",
   "metadata": {
    "execution": {
     "iopub.execute_input": "2021-11-29T01:30:09.606279Z",
     "iopub.status.busy": "2021-11-29T01:30:09.604167Z",
     "iopub.status.idle": "2021-11-29T01:30:09.624315Z",
     "shell.execute_reply": "2021-11-29T01:30:09.625743Z"
    },
    "papermill": {
     "duration": 0.067145,
     "end_time": "2021-11-29T01:30:09.626185",
     "exception": false,
     "start_time": "2021-11-29T01:30:09.559040",
     "status": "completed"
    },
    "tags": []
   },
   "outputs": [
    {
     "data": {
      "text/html": [
       "<div>\n",
       "<style scoped>\n",
       "    .dataframe tbody tr th:only-of-type {\n",
       "        vertical-align: middle;\n",
       "    }\n",
       "\n",
       "    .dataframe tbody tr th {\n",
       "        vertical-align: top;\n",
       "    }\n",
       "\n",
       "    .dataframe thead th {\n",
       "        text-align: right;\n",
       "    }\n",
       "</style>\n",
       "<table border=\"1\" class=\"dataframe\">\n",
       "  <thead>\n",
       "    <tr style=\"text-align: right;\">\n",
       "      <th></th>\n",
       "      <th>RECORD_TIME</th>\n",
       "    </tr>\n",
       "  </thead>\n",
       "  <tbody>\n",
       "    <tr>\n",
       "      <th>0</th>\n",
       "      <td>2021-11-29 02:30</td>\n",
       "    </tr>\n",
       "    <tr>\n",
       "      <th>1</th>\n",
       "      <td>2021-11-29 02:00</td>\n",
       "    </tr>\n",
       "  </tbody>\n",
       "</table>\n",
       "</div>"
      ],
      "text/plain": [
       "        RECORD_TIME\n",
       "0  2021-11-29 02:30\n",
       "1  2021-11-29 02:00"
      ]
     },
     "execution_count": 3,
     "metadata": {},
     "output_type": "execute_result"
    }
   ],
   "source": [
    "timestamps"
   ]
  },
  {
   "cell_type": "code",
   "execution_count": 4,
   "id": "alternate-victory",
   "metadata": {
    "execution": {
     "iopub.execute_input": "2021-11-29T01:30:09.677328Z",
     "iopub.status.busy": "2021-11-29T01:30:09.675390Z",
     "iopub.status.idle": "2021-11-29T01:30:11.073567Z",
     "shell.execute_reply": "2021-11-29T01:30:11.075638Z"
    },
    "papermill": {
     "duration": 1.428806,
     "end_time": "2021-11-29T01:30:11.076107",
     "exception": false,
     "start_time": "2021-11-29T01:30:09.647301",
     "status": "completed"
    },
    "tags": []
   },
   "outputs": [],
   "source": [
    "df = pd.read_sql(\"select * from EBAY_TOP_BERLIN where record_time in (select distinct record_time from EBAY_TOP_BERLIN order by record_time desc limit 2)\", sqlite3.connect(\"UsedObjects.db\"))"
   ]
  },
  {
   "cell_type": "code",
   "execution_count": 5,
   "id": "popular-active",
   "metadata": {
    "execution": {
     "iopub.execute_input": "2021-11-29T01:30:11.143473Z",
     "iopub.status.busy": "2021-11-29T01:30:11.141131Z",
     "iopub.status.idle": "2021-11-29T01:30:11.176611Z",
     "shell.execute_reply": "2021-11-29T01:30:11.174079Z"
    },
    "papermill": {
     "duration": 0.080022,
     "end_time": "2021-11-29T01:30:11.177189",
     "exception": false,
     "start_time": "2021-11-29T01:30:11.097167",
     "status": "completed"
    },
    "tags": []
   },
   "outputs": [],
   "source": [
    "df_pivot = df.pivot_table(index=\"PRODUCT\", columns = \"RECORD_TIME\", values = \"LISTING_COUNT\")"
   ]
  },
  {
   "cell_type": "code",
   "execution_count": 6,
   "id": "union-huntington",
   "metadata": {
    "execution": {
     "iopub.execute_input": "2021-11-29T01:30:11.243557Z",
     "iopub.status.busy": "2021-11-29T01:30:11.241150Z",
     "iopub.status.idle": "2021-11-29T01:30:11.250841Z",
     "shell.execute_reply": "2021-11-29T01:30:11.248523Z"
    },
    "papermill": {
     "duration": 0.048943,
     "end_time": "2021-11-29T01:30:11.251273",
     "exception": false,
     "start_time": "2021-11-29T01:30:11.202330",
     "status": "completed"
    },
    "tags": []
   },
   "outputs": [],
   "source": [
    "df_pivot.columns = [\"stamp_1\", \"stamp_2\"]\n",
    "df_pivot_diff = df_pivot.diff(axis=1)"
   ]
  },
  {
   "cell_type": "code",
   "execution_count": 7,
   "id": "fifth-motion",
   "metadata": {
    "execution": {
     "iopub.execute_input": "2021-11-29T01:30:11.309129Z",
     "iopub.status.busy": "2021-11-29T01:30:11.306622Z",
     "iopub.status.idle": "2021-11-29T01:30:13.381924Z",
     "shell.execute_reply": "2021-11-29T01:30:13.383786Z"
    },
    "papermill": {
     "duration": 2.111204,
     "end_time": "2021-11-29T01:30:13.384394",
     "exception": false,
     "start_time": "2021-11-29T01:30:11.273190",
     "status": "completed"
    },
    "tags": []
   },
   "outputs": [
    {
     "data": {
      "text/plain": [
       "<AxesSubplot:ylabel='PRODUCT'>"
      ]
     },
     "execution_count": 7,
     "metadata": {},
     "output_type": "execute_result"
    },
    {
     "data": {
      "image/png": "[encoded data removed]",
      "text/plain": [
       "<Figure size 432x288 with 1 Axes>"
      ]
     },
     "metadata": {
      "needs_background": "light"
     },
     "output_type": "display_data"
    }
   ],
   "source": [
    "df_pivot_diff.sort_values(\"stamp_2\", ascending = False)[\"stamp_2\"].head(10).plot.barh()"
   ]
  },
  {
   "cell_type": "code",
   "execution_count": null,
   "id": "extra-executive",
   "metadata": {
    "papermill": {
     "duration": 0.024649,
     "end_time": "2021-11-29T01:30:13.437857",
     "exception": false,
     "start_time": "2021-11-29T01:30:13.413208",
     "status": "completed"
    },
    "tags": []
   },
   "outputs": [],
   "source": []
  }
 ],
 "metadata": {
  "kernelspec": {
   "display_name": "Python 3",
   "language": "python",
   "name": "python3"
  },
  "language_info": {
   "codemirror_mode": {
    "name": "ipython",
    "version": 3
   },
   "file_extension": ".py",
   "mimetype": "text/x-python",
   "name": "python",
   "nbconvert_exporter": "python",
   "pygments_lexer": "ipython3",
   "version": "3.9.5"
  },
  "papermill": {
   "default_parameters": {},
   "duration": 9.932679,
   "end_time": "2021-11-29T01:30:14.738484",
   "environment_variables": {},
   "exception": null,
   "input_path": "eBay_Overview.ipynb",
   "output_path": "eBay_Overview.ipynb",
   "parameters": {},
   "start_time": "2021-11-29T01:30:04.805805",
   "version": "2.3.3"
  }
 },
 "nbformat": 4,
 "nbformat_minor": 5
}