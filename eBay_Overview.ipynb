{
 "cells": [
  {
   "cell_type": "code",
   "execution_count": 1,
   "id": "reverse-picking",
   "metadata": {
    "execution": {
     "iopub.execute_input": "2021-12-04T18:30:07.818797Z",
     "iopub.status.busy": "2021-12-04T18:30:07.812315Z",
     "iopub.status.idle": "2021-12-04T18:30:08.735745Z",
     "shell.execute_reply": "2021-12-04T18:30:08.737319Z"
    },
    "papermill": {
     "duration": 0.970721,
     "end_time": "2021-12-04T18:30:08.738176",
     "exception": false,
     "start_time": "2021-12-04T18:30:07.767455",
     "status": "completed"
    },
    "tags": []
   },
   "outputs": [],
   "source": [
    "import pandas as pd\n",
    "import sqlite3"
   ]
  },
  {
   "cell_type": "code",
   "execution_count": 2,
   "id": "innovative-syndrome",
   "metadata": {
    "execution": {
     "iopub.execute_input": "2021-12-04T18:30:08.801646Z",
     "iopub.status.busy": "2021-12-04T18:30:08.799323Z",
     "iopub.status.idle": "2021-12-04T18:30:09.779579Z",
     "shell.execute_reply": "2021-12-04T18:30:09.777102Z"
    },
    "papermill": {
     "duration": 1.012817,
     "end_time": "2021-12-04T18:30:09.780019",
     "exception": false,
     "start_time": "2021-12-04T18:30:08.767202",
     "status": "completed"
    },
    "tags": []
   },
   "outputs": [],
   "source": [
    "timestamps = pd.read_sql(\"select distinct record_time from EBAY_TOP_BERLIN order by record_time desc limit 2\", sqlite3.connect(\"UsedObjects.db\"))"
   ]
  },
  {
   "cell_type": "code",
   "execution_count": 3,
   "id": "periodic-identification",
   "metadata": {
    "execution": {
     "iopub.execute_input": "2021-12-04T18:30:09.851591Z",
     "iopub.status.busy": "2021-12-04T18:30:09.849174Z",
     "iopub.status.idle": "2021-12-04T18:30:09.874580Z",
     "shell.execute_reply": "2021-12-04T18:30:09.875965Z"
    },
    "papermill": {
     "duration": 0.076595,
     "end_time": "2021-12-04T18:30:09.876410",
     "exception": false,
     "start_time": "2021-12-04T18:30:09.799815",
     "status": "completed"
    },
    "tags": []
   },
   "outputs": [
    {
     "data": {
      "text/html": [
       "<div>\n",
       "<style scoped>\n",
       "    .dataframe tbody tr th:only-of-type {\n",
       "        vertical-align: middle;\n",
       "    }\n",
       "\n",
       "    .dataframe tbody tr th {\n",
       "        vertical-align: top;\n",
       "    }\n",
       "\n",
       "    .dataframe thead th {\n",
       "        text-align: right;\n",
       "    }\n",
       "</style>\n",
       "<table border=\"1\" class=\"dataframe\">\n",
       "  <thead>\n",
       "    <tr style=\"text-align: right;\">\n",
       "      <th></th>\n",
       "      <th>RECORD_TIME</th>\n",
       "    </tr>\n",
       "  </thead>\n",
       "  <tbody>\n",
       "    <tr>\n",
       "      <th>0</th>\n",
       "      <td>2021-12-04 19:30</td>\n",
       "    </tr>\n",
       "    <tr>\n",
       "      <th>1</th>\n",
       "      <td>2021-12-04 19:00</td>\n",
       "    </tr>\n",
       "  </tbody>\n",
       "</table>\n",
       "</div>"
      ],
      "text/plain": [
       "        RECORD_TIME\n",
       "0  2021-12-04 19:30\n",
       "1  2021-12-04 19:00"
      ]
     },
     "execution_count": 3,
     "metadata": {},
     "output_type": "execute_result"
    }
   ],
   "source": [
    "timestamps"
   ]
  },
  {
   "cell_type": "code",
   "execution_count": 4,
   "id": "alternate-victory",
   "metadata": {
    "execution": {
     "iopub.execute_input": "2021-12-04T18:30:09.928329Z",
     "iopub.status.busy": "2021-12-04T18:30:09.926300Z",
     "iopub.status.idle": "2021-12-04T18:30:11.338103Z",
     "shell.execute_reply": "2021-12-04T18:30:11.340079Z"
    },
    "papermill": {
     "duration": 1.443322,
     "end_time": "2021-12-04T18:30:11.340593",
     "exception": false,
     "start_time": "2021-12-04T18:30:09.897271",
     "status": "completed"
    },
    "tags": []
   },
   "outputs": [],
   "source": [
    "df = pd.read_sql(\"select * from EBAY_TOP_BERLIN where record_time in (select distinct record_time from EBAY_TOP_BERLIN order by record_time desc limit 2)\", sqlite3.connect(\"UsedObjects.db\"))"
   ]
  },
  {
   "cell_type": "code",
   "execution_count": 5,
   "id": "popular-active",
   "metadata": {
    "execution": {
     "iopub.execute_input": "2021-12-04T18:30:11.419916Z",
     "iopub.status.busy": "2021-12-04T18:30:11.405787Z",
     "iopub.status.idle": "2021-12-04T18:30:11.438872Z",
     "shell.execute_reply": "2021-12-04T18:30:11.440360Z"
    },
    "papermill": {
     "duration": 0.079038,
     "end_time": "2021-12-04T18:30:11.440911",
     "exception": false,
     "start_time": "2021-12-04T18:30:11.361873",
     "status": "completed"
    },
    "tags": []
   },
   "outputs": [],
   "source": [
    "df_pivot = df.pivot_table(index=\"PRODUCT\", columns = \"RECORD_TIME\", values = \"LISTING_COUNT\")"
   ]
  },
  {
   "cell_type": "code",
   "execution_count": 6,
   "id": "union-huntington",
   "metadata": {
    "execution": {
     "iopub.execute_input": "2021-12-04T18:30:11.503059Z",
     "iopub.status.busy": "2021-12-04T18:30:11.500744Z",
     "iopub.status.idle": "2021-12-04T18:30:11.506758Z",
     "shell.execute_reply": "2021-12-04T18:30:11.508178Z"
    },
    "papermill": {
     "duration": 0.04595,
     "end_time": "2021-12-04T18:30:11.508675",
     "exception": false,
     "start_time": "2021-12-04T18:30:11.462725",
     "status": "completed"
    },
    "tags": []
   },
   "outputs": [],
   "source": [
    "df_pivot.columns = [\"stamp_1\", \"stamp_2\"]\n",
    "df_pivot_diff = df_pivot.diff(axis=1)"
   ]
  },
  {
   "cell_type": "code",
   "execution_count": 7,
   "id": "fifth-motion",
   "metadata": {
    "execution": {
     "iopub.execute_input": "2021-12-04T18:30:11.564496Z",
     "iopub.status.busy": "2021-12-04T18:30:11.562018Z",
     "iopub.status.idle": "2021-12-04T18:30:13.500770Z",
     "shell.execute_reply": "2021-12-04T18:30:13.503530Z"
    },
    "papermill": {
     "duration": 1.975678,
     "end_time": "2021-12-04T18:30:13.504304",
     "exception": false,
     "start_time": "2021-12-04T18:30:11.528626",
     "status": "completed"
    },
    "tags": []
   },
   "outputs": [
    {
     "data": {
      "text/plain": [
       "<AxesSubplot:ylabel='PRODUCT'>"
      ]
     },
     "execution_count": 7,
     "metadata": {},
     "output_type": "execute_result"
    },
    {
     "data": {
      "image/png": "[encoded data removed]",
      "text/plain": [
       "<Figure size 432x288 with 1 Axes>"
      ]
     },
     "metadata": {
      "needs_background": "light"
     },
     "output_type": "display_data"
    }
   ],
   "source": [
    "df_pivot_diff.sort_values(\"stamp_2\", ascending = False)[\"stamp_2\"].head(10).plot.barh()"
   ]
  },
  {
   "cell_type": "code",
   "execution_count": null,
   "id": "extra-executive",
   "metadata": {
    "papermill": {
     "duration": 0.03329,
     "end_time": "2021-12-04T18:30:13.574114",
     "exception": false,
     "start_time": "2021-12-04T18:30:13.540824",
     "status": "completed"
    },
    "tags": []
   },
   "outputs": [],
   "source": []
  }
 ],
 "metadata": {
  "kernelspec": {
   "display_name": "Python 3",
   "language": "python",
   "name": "python3"
  },
  "language_info": {
   "codemirror_mode": {
    "name": "ipython",
    "version": 3
   },
   "file_extension": ".py",
   "mimetype": "text/x-python",
   "name": "python",
   "nbconvert_exporter": "python",
   "pygments_lexer": "ipython3",
   "version": "3.9.5"
  },
  "papermill": {
   "default_parameters": {},
   "duration": 9.934229,
   "end_time": "2021-12-04T18:30:14.979342",
   "environment_variables": {},
   "exception": null,
   "input_path": "eBay_Overview.ipynb",
   "output_path": "eBay_Overview.ipynb",
   "parameters": {},
   "start_time": "2021-12-04T18:30:05.045113",
   "version": "2.3.3"
  }
 },
 "nbformat": 4,
 "nbformat_minor": 5
}