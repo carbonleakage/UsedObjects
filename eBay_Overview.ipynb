{
 "cells": [
  {
   "cell_type": "code",
   "execution_count": 1,
   "id": "reverse-picking",
   "metadata": {
    "execution": {
     "iopub.execute_input": "2021-12-03T03:00:07.623455Z",
     "iopub.status.busy": "2021-12-03T03:00:07.621271Z",
     "iopub.status.idle": "2021-12-03T03:00:08.557354Z",
     "shell.execute_reply": "2021-12-03T03:00:08.559007Z"
    },
    "papermill": {
     "duration": 0.986971,
     "end_time": "2021-12-03T03:00:08.559756",
     "exception": false,
     "start_time": "2021-12-03T03:00:07.572785",
     "status": "completed"
    },
    "tags": []
   },
   "outputs": [],
   "source": [
    "import pandas as pd\n",
    "import sqlite3"
   ]
  },
  {
   "cell_type": "code",
   "execution_count": 2,
   "id": "innovative-syndrome",
   "metadata": {
    "execution": {
     "iopub.execute_input": "2021-12-03T03:00:08.680969Z",
     "iopub.status.busy": "2021-12-03T03:00:08.678745Z",
     "iopub.status.idle": "2021-12-03T03:00:09.659926Z",
     "shell.execute_reply": "2021-12-03T03:00:09.662457Z"
    },
    "papermill": {
     "duration": 1.017561,
     "end_time": "2021-12-03T03:00:09.663043",
     "exception": false,
     "start_time": "2021-12-03T03:00:08.645482",
     "status": "completed"
    },
    "tags": []
   },
   "outputs": [],
   "source": [
    "timestamps = pd.read_sql(\"select distinct record_time from EBAY_TOP_BERLIN order by record_time desc limit 2\", sqlite3.connect(\"UsedObjects.db\"))"
   ]
  },
  {
   "cell_type": "code",
   "execution_count": 3,
   "id": "periodic-identification",
   "metadata": {
    "execution": {
     "iopub.execute_input": "2021-12-03T03:00:09.740111Z",
     "iopub.status.busy": "2021-12-03T03:00:09.733157Z",
     "iopub.status.idle": "2021-12-03T03:00:09.755684Z",
     "shell.execute_reply": "2021-12-03T03:00:09.757119Z"
    },
    "papermill": {
     "duration": 0.072888,
     "end_time": "2021-12-03T03:00:09.757966",
     "exception": false,
     "start_time": "2021-12-03T03:00:09.685078",
     "status": "completed"
    },
    "tags": []
   },
   "outputs": [
    {
     "data": {
      "text/html": [
       "<div>\n",
       "<style scoped>\n",
       "    .dataframe tbody tr th:only-of-type {\n",
       "        vertical-align: middle;\n",
       "    }\n",
       "\n",
       "    .dataframe tbody tr th {\n",
       "        vertical-align: top;\n",
       "    }\n",
       "\n",
       "    .dataframe thead th {\n",
       "        text-align: right;\n",
       "    }\n",
       "</style>\n",
       "<table border=\"1\" class=\"dataframe\">\n",
       "  <thead>\n",
       "    <tr style=\"text-align: right;\">\n",
       "      <th></th>\n",
       "      <th>RECORD_TIME</th>\n",
       "    </tr>\n",
       "  </thead>\n",
       "  <tbody>\n",
       "    <tr>\n",
       "      <th>0</th>\n",
       "      <td>2021-12-03 04:00</td>\n",
       "    </tr>\n",
       "    <tr>\n",
       "      <th>1</th>\n",
       "      <td>2021-12-03 03:30</td>\n",
       "    </tr>\n",
       "  </tbody>\n",
       "</table>\n",
       "</div>"
      ],
      "text/plain": [
       "        RECORD_TIME\n",
       "0  2021-12-03 04:00\n",
       "1  2021-12-03 03:30"
      ]
     },
     "execution_count": 3,
     "metadata": {},
     "output_type": "execute_result"
    }
   ],
   "source": [
    "timestamps"
   ]
  },
  {
   "cell_type": "code",
   "execution_count": 4,
   "id": "alternate-victory",
   "metadata": {
    "execution": {
     "iopub.execute_input": "2021-12-03T03:00:09.818749Z",
     "iopub.status.busy": "2021-12-03T03:00:09.816581Z",
     "iopub.status.idle": "2021-12-03T03:00:11.270066Z",
     "shell.execute_reply": "2021-12-03T03:00:11.271520Z"
    },
    "papermill": {
     "duration": 1.48979,
     "end_time": "2021-12-03T03:00:11.271975",
     "exception": false,
     "start_time": "2021-12-03T03:00:09.782185",
     "status": "completed"
    },
    "tags": []
   },
   "outputs": [],
   "source": [
    "df = pd.read_sql(\"select * from EBAY_TOP_BERLIN where record_time in (select distinct record_time from EBAY_TOP_BERLIN order by record_time desc limit 2)\", sqlite3.connect(\"UsedObjects.db\"))"
   ]
  },
  {
   "cell_type": "code",
   "execution_count": 5,
   "id": "popular-active",
   "metadata": {
    "execution": {
     "iopub.execute_input": "2021-12-03T03:00:11.374950Z",
     "iopub.status.busy": "2021-12-03T03:00:11.360278Z",
     "iopub.status.idle": "2021-12-03T03:00:11.396009Z",
     "shell.execute_reply": "2021-12-03T03:00:11.397428Z"
    },
    "papermill": {
     "duration": 0.094179,
     "end_time": "2021-12-03T03:00:11.397942",
     "exception": false,
     "start_time": "2021-12-03T03:00:11.303763",
     "status": "completed"
    },
    "tags": []
   },
   "outputs": [],
   "source": [
    "df_pivot = df.pivot_table(index=\"PRODUCT\", columns = \"RECORD_TIME\", values = \"LISTING_COUNT\")"
   ]
  },
  {
   "cell_type": "code",
   "execution_count": 6,
   "id": "union-huntington",
   "metadata": {
    "execution": {
     "iopub.execute_input": "2021-12-03T03:00:11.464249Z",
     "iopub.status.busy": "2021-12-03T03:00:11.461635Z",
     "iopub.status.idle": "2021-12-03T03:00:11.472489Z",
     "shell.execute_reply": "2021-12-03T03:00:11.469241Z"
    },
    "papermill": {
     "duration": 0.053676,
     "end_time": "2021-12-03T03:00:11.473439",
     "exception": false,
     "start_time": "2021-12-03T03:00:11.419763",
     "status": "completed"
    },
    "tags": []
   },
   "outputs": [],
   "source": [
    "df_pivot.columns = [\"stamp_1\", \"stamp_2\"]\n",
    "df_pivot_diff = df_pivot.diff(axis=1)"
   ]
  },
  {
   "cell_type": "code",
   "execution_count": 7,
   "id": "fifth-motion",
   "metadata": {
    "execution": {
     "iopub.execute_input": "2021-12-03T03:00:11.536506Z",
     "iopub.status.busy": "2021-12-03T03:00:11.532551Z",
     "iopub.status.idle": "2021-12-03T03:00:13.552941Z",
     "shell.execute_reply": "2021-12-03T03:00:13.555254Z"
    },
    "papermill": {
     "duration": 2.060053,
     "end_time": "2021-12-03T03:00:13.555990",
     "exception": false,
     "start_time": "2021-12-03T03:00:11.495937",
     "status": "completed"
    },
    "tags": []
   },
   "outputs": [
    {
     "data": {
      "text/plain": [
       "<AxesSubplot:ylabel='PRODUCT'>"
      ]
     },
     "execution_count": 7,
     "metadata": {},
     "output_type": "execute_result"
    },
    {
     "data": {
      "image/png": "[encoded data removed]",
      "text/plain": [
       "<Figure size 432x288 with 1 Axes>"
      ]
     },
     "metadata": {
      "needs_background": "light"
     },
     "output_type": "display_data"
    }
   ],
   "source": [
    "df_pivot_diff.sort_values(\"stamp_2\", ascending = False)[\"stamp_2\"].head(10).plot.barh()"
   ]
  },
  {
   "cell_type": "code",
   "execution_count": null,
   "id": "extra-executive",
   "metadata": {
    "papermill": {
     "duration": 0.060665,
     "end_time": "2021-12-03T03:00:13.655645",
     "exception": false,
     "start_time": "2021-12-03T03:00:13.594980",
     "status": "completed"
    },
    "tags": []
   },
   "outputs": [],
   "source": []
  }
 ],
 "metadata": {
  "kernelspec": {
   "display_name": "Python 3",
   "language": "python",
   "name": "python3"
  },
  "language_info": {
   "codemirror_mode": {
    "name": "ipython",
    "version": 3
   },
   "file_extension": ".py",
   "mimetype": "text/x-python",
   "name": "python",
   "nbconvert_exporter": "python",
   "pygments_lexer": "ipython3",
   "version": "3.9.5"
  },
  "papermill": {
   "default_parameters": {},
   "duration": 9.596524,
   "end_time": "2021-12-03T03:00:14.426402",
   "environment_variables": {},
   "exception": null,
   "input_path": "eBay_Overview.ipynb",
   "output_path": "eBay_Overview.ipynb",
   "parameters": {},
   "start_time": "2021-12-03T03:00:04.829878",
   "version": "2.3.3"
  }
 },
 "nbformat": 4,
 "nbformat_minor": 5
}