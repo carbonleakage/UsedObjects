{
 "cells": [
  {
   "cell_type": "code",
   "execution_count": 1,
   "id": "reverse-picking",
   "metadata": {
    "execution": {
     "iopub.execute_input": "2021-09-02T18:00:07.172709Z",
     "iopub.status.busy": "2021-09-02T18:00:07.170717Z",
     "iopub.status.idle": "2021-09-02T18:00:07.974354Z",
     "shell.execute_reply": "2021-09-02T18:00:07.975647Z"
    },
    "papermill": {
     "duration": 0.855933,
     "end_time": "2021-09-02T18:00:07.976324",
     "exception": false,
     "start_time": "2021-09-02T18:00:07.120391",
     "status": "completed"
    },
    "tags": []
   },
   "outputs": [],
   "source": [
    "import pandas as pd\n",
    "import sqlite3"
   ]
  },
  {
   "cell_type": "code",
   "execution_count": 2,
   "id": "innovative-syndrome",
   "metadata": {
    "execution": {
     "iopub.execute_input": "2021-09-02T18:00:08.028754Z",
     "iopub.status.busy": "2021-09-02T18:00:08.026489Z",
     "iopub.status.idle": "2021-09-02T18:00:08.221234Z",
     "shell.execute_reply": "2021-09-02T18:00:08.219678Z"
    },
    "papermill": {
     "duration": 0.223167,
     "end_time": "2021-09-02T18:00:08.221608",
     "exception": false,
     "start_time": "2021-09-02T18:00:07.998441",
     "status": "completed"
    },
    "tags": []
   },
   "outputs": [],
   "source": [
    "timestamps = pd.read_sql(\"select distinct record_time from EBAY_TOP_BERLIN order by record_time desc limit 2\", sqlite3.connect(\"UsedObjects.db\"))"
   ]
  },
  {
   "cell_type": "code",
   "execution_count": 3,
   "id": "periodic-identification",
   "metadata": {
    "execution": {
     "iopub.execute_input": "2021-09-02T18:00:08.288728Z",
     "iopub.status.busy": "2021-09-02T18:00:08.286652Z",
     "iopub.status.idle": "2021-09-02T18:00:08.306592Z",
     "shell.execute_reply": "2021-09-02T18:00:08.307912Z"
    },
    "papermill": {
     "duration": 0.066703,
     "end_time": "2021-09-02T18:00:08.308350",
     "exception": false,
     "start_time": "2021-09-02T18:00:08.241647",
     "status": "completed"
    },
    "tags": []
   },
   "outputs": [
    {
     "data": {
      "text/html": [
       "<div>\n",
       "<style scoped>\n",
       "    .dataframe tbody tr th:only-of-type {\n",
       "        vertical-align: middle;\n",
       "    }\n",
       "\n",
       "    .dataframe tbody tr th {\n",
       "        vertical-align: top;\n",
       "    }\n",
       "\n",
       "    .dataframe thead th {\n",
       "        text-align: right;\n",
       "    }\n",
       "</style>\n",
       "<table border=\"1\" class=\"dataframe\">\n",
       "  <thead>\n",
       "    <tr style=\"text-align: right;\">\n",
       "      <th></th>\n",
       "      <th>RECORD_TIME</th>\n",
       "    </tr>\n",
       "  </thead>\n",
       "  <tbody>\n",
       "    <tr>\n",
       "      <th>0</th>\n",
       "      <td>2021-09-02 20:00</td>\n",
       "    </tr>\n",
       "    <tr>\n",
       "      <th>1</th>\n",
       "      <td>2021-09-02 19:30</td>\n",
       "    </tr>\n",
       "  </tbody>\n",
       "</table>\n",
       "</div>"
      ],
      "text/plain": [
       "        RECORD_TIME\n",
       "0  2021-09-02 20:00\n",
       "1  2021-09-02 19:30"
      ]
     },
     "execution_count": 3,
     "metadata": {},
     "output_type": "execute_result"
    }
   ],
   "source": [
    "timestamps"
   ]
  },
  {
   "cell_type": "code",
   "execution_count": 4,
   "id": "alternate-victory",
   "metadata": {
    "execution": {
     "iopub.execute_input": "2021-09-02T18:00:08.362764Z",
     "iopub.status.busy": "2021-09-02T18:00:08.360747Z",
     "iopub.status.idle": "2021-09-02T18:00:08.641518Z",
     "shell.execute_reply": "2021-09-02T18:00:08.642740Z"
    },
    "papermill": {
     "duration": 0.311807,
     "end_time": "2021-09-02T18:00:08.643224",
     "exception": false,
     "start_time": "2021-09-02T18:00:08.331417",
     "status": "completed"
    },
    "tags": []
   },
   "outputs": [],
   "source": [
    "df = pd.read_sql(\"select * from EBAY_TOP_BERLIN where record_time in (select distinct record_time from EBAY_TOP_BERLIN order by record_time desc limit 2)\", sqlite3.connect(\"UsedObjects.db\"))"
   ]
  },
  {
   "cell_type": "code",
   "execution_count": 5,
   "id": "popular-active",
   "metadata": {
    "execution": {
     "iopub.execute_input": "2021-09-02T18:00:08.723393Z",
     "iopub.status.busy": "2021-09-02T18:00:08.710660Z",
     "iopub.status.idle": "2021-09-02T18:00:08.738642Z",
     "shell.execute_reply": "2021-09-02T18:00:08.739943Z"
    },
    "papermill": {
     "duration": 0.070835,
     "end_time": "2021-09-02T18:00:08.740345",
     "exception": false,
     "start_time": "2021-09-02T18:00:08.669510",
     "status": "completed"
    },
    "tags": []
   },
   "outputs": [],
   "source": [
    "df_pivot = df.pivot_table(index=\"PRODUCT\", columns = \"RECORD_TIME\", values = \"LISTING_COUNT\")"
   ]
  },
  {
   "cell_type": "code",
   "execution_count": 6,
   "id": "union-huntington",
   "metadata": {
    "execution": {
     "iopub.execute_input": "2021-09-02T18:00:08.800265Z",
     "iopub.status.busy": "2021-09-02T18:00:08.797781Z",
     "iopub.status.idle": "2021-09-02T18:00:08.803767Z",
     "shell.execute_reply": "2021-09-02T18:00:08.804984Z"
    },
    "papermill": {
     "duration": 0.042486,
     "end_time": "2021-09-02T18:00:08.805412",
     "exception": false,
     "start_time": "2021-09-02T18:00:08.762926",
     "status": "completed"
    },
    "tags": []
   },
   "outputs": [],
   "source": [
    "df_pivot.columns = [\"stamp_1\", \"stamp_2\"]\n",
    "df_pivot_diff = df_pivot.diff(axis=1)"
   ]
  },
  {
   "cell_type": "code",
   "execution_count": 7,
   "id": "fifth-motion",
   "metadata": {
    "execution": {
     "iopub.execute_input": "2021-09-02T18:00:08.859546Z",
     "iopub.status.busy": "2021-09-02T18:00:08.857198Z",
     "iopub.status.idle": "2021-09-02T18:00:10.350585Z",
     "shell.execute_reply": "2021-09-02T18:00:10.351963Z"
    },
    "papermill": {
     "duration": 1.526148,
     "end_time": "2021-09-02T18:00:10.352389",
     "exception": false,
     "start_time": "2021-09-02T18:00:08.826241",
     "status": "completed"
    },
    "tags": []
   },
   "outputs": [
    {
     "data": {
      "text/plain": [
       "<AxesSubplot:ylabel='PRODUCT'>"
      ]
     },
     "execution_count": 7,
     "metadata": {},
     "output_type": "execute_result"
    },
    {
     "data": {
      "image/png": "[encoded data removed]",
      "text/plain": [
       "<Figure size 432x288 with 1 Axes>"
      ]
     },
     "metadata": {
      "needs_background": "light"
     },
     "output_type": "display_data"
    }
   ],
   "source": [
    "df_pivot_diff.sort_values(\"stamp_2\", ascending = False)[\"stamp_2\"].head(10).plot.barh()"
   ]
  },
  {
   "cell_type": "code",
   "execution_count": null,
   "id": "extra-executive",
   "metadata": {
    "papermill": {
     "duration": 0.022691,
     "end_time": "2021-09-02T18:00:10.399536",
     "exception": false,
     "start_time": "2021-09-02T18:00:10.376845",
     "status": "completed"
    },
    "tags": []
   },
   "outputs": [],
   "source": []
  }
 ],
 "metadata": {
  "kernelspec": {
   "display_name": "Python 3",
   "language": "python",
   "name": "python3"
  },
  "language_info": {
   "codemirror_mode": {
    "name": "ipython",
    "version": 3
   },
   "file_extension": ".py",
   "mimetype": "text/x-python",
   "name": "python",
   "nbconvert_exporter": "python",
   "pygments_lexer": "ipython3",
   "version": "3.9.5"
  },
  "papermill": {
   "default_parameters": {},
   "duration": 6.822518,
   "end_time": "2021-09-02T18:00:11.544283",
   "environment_variables": {},
   "exception": null,
   "input_path": "eBay_Overview.ipynb",
   "output_path": "eBay_Overview.ipynb",
   "parameters": {},
   "start_time": "2021-09-02T18:00:04.721765",
   "version": "2.3.3"
  }
 },
 "nbformat": 4,
 "nbformat_minor": 5
}