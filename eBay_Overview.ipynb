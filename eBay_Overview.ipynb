{
 "cells": [
  {
   "cell_type": "code",
   "execution_count": 1,
   "id": "reverse-picking",
   "metadata": {
    "execution": {
     "iopub.execute_input": "2021-11-03T06:30:08.207248Z",
     "iopub.status.busy": "2021-11-03T06:30:08.204259Z",
     "iopub.status.idle": "2021-11-03T06:30:09.155266Z",
     "shell.execute_reply": "2021-11-03T06:30:09.157355Z"
    },
    "papermill": {
     "duration": 1.004574,
     "end_time": "2021-11-03T06:30:09.158173",
     "exception": false,
     "start_time": "2021-11-03T06:30:08.153599",
     "status": "completed"
    },
    "tags": []
   },
   "outputs": [],
   "source": [
    "import pandas as pd\n",
    "import sqlite3"
   ]
  },
  {
   "cell_type": "code",
   "execution_count": 2,
   "id": "innovative-syndrome",
   "metadata": {
    "execution": {
     "iopub.execute_input": "2021-11-03T06:30:09.217558Z",
     "iopub.status.busy": "2021-11-03T06:30:09.215130Z",
     "iopub.status.idle": "2021-11-03T06:30:09.926420Z",
     "shell.execute_reply": "2021-11-03T06:30:09.928042Z"
    },
    "papermill": {
     "duration": 0.745308,
     "end_time": "2021-11-03T06:30:09.928546",
     "exception": false,
     "start_time": "2021-11-03T06:30:09.183238",
     "status": "completed"
    },
    "tags": []
   },
   "outputs": [],
   "source": [
    "timestamps = pd.read_sql(\"select distinct record_time from EBAY_TOP_BERLIN order by record_time desc limit 2\", sqlite3.connect(\"UsedObjects.db\"))"
   ]
  },
  {
   "cell_type": "code",
   "execution_count": 3,
   "id": "periodic-identification",
   "metadata": {
    "execution": {
     "iopub.execute_input": "2021-11-03T06:30:10.003216Z",
     "iopub.status.busy": "2021-11-03T06:30:10.000970Z",
     "iopub.status.idle": "2021-11-03T06:30:10.024254Z",
     "shell.execute_reply": "2021-11-03T06:30:10.025856Z"
    },
    "papermill": {
     "duration": 0.075518,
     "end_time": "2021-11-03T06:30:10.026342",
     "exception": false,
     "start_time": "2021-11-03T06:30:09.950824",
     "status": "completed"
    },
    "tags": []
   },
   "outputs": [
    {
     "data": {
      "text/html": [
       "<div>\n",
       "<style scoped>\n",
       "    .dataframe tbody tr th:only-of-type {\n",
       "        vertical-align: middle;\n",
       "    }\n",
       "\n",
       "    .dataframe tbody tr th {\n",
       "        vertical-align: top;\n",
       "    }\n",
       "\n",
       "    .dataframe thead th {\n",
       "        text-align: right;\n",
       "    }\n",
       "</style>\n",
       "<table border=\"1\" class=\"dataframe\">\n",
       "  <thead>\n",
       "    <tr style=\"text-align: right;\">\n",
       "      <th></th>\n",
       "      <th>RECORD_TIME</th>\n",
       "    </tr>\n",
       "  </thead>\n",
       "  <tbody>\n",
       "    <tr>\n",
       "      <th>0</th>\n",
       "      <td>2021-11-03 07:30</td>\n",
       "    </tr>\n",
       "    <tr>\n",
       "      <th>1</th>\n",
       "      <td>2021-11-03 07:00</td>\n",
       "    </tr>\n",
       "  </tbody>\n",
       "</table>\n",
       "</div>"
      ],
      "text/plain": [
       "        RECORD_TIME\n",
       "0  2021-11-03 07:30\n",
       "1  2021-11-03 07:00"
      ]
     },
     "execution_count": 3,
     "metadata": {},
     "output_type": "execute_result"
    }
   ],
   "source": [
    "timestamps"
   ]
  },
  {
   "cell_type": "code",
   "execution_count": 4,
   "id": "alternate-victory",
   "metadata": {
    "execution": {
     "iopub.execute_input": "2021-11-03T06:30:10.081487Z",
     "iopub.status.busy": "2021-11-03T06:30:10.079153Z",
     "iopub.status.idle": "2021-11-03T06:30:11.113086Z",
     "shell.execute_reply": "2021-11-03T06:30:11.114718Z"
    },
    "papermill": {
     "duration": 1.067872,
     "end_time": "2021-11-03T06:30:11.115225",
     "exception": false,
     "start_time": "2021-11-03T06:30:10.047353",
     "status": "completed"
    },
    "tags": []
   },
   "outputs": [],
   "source": [
    "df = pd.read_sql(\"select * from EBAY_TOP_BERLIN where record_time in (select distinct record_time from EBAY_TOP_BERLIN order by record_time desc limit 2)\", sqlite3.connect(\"UsedObjects.db\"))"
   ]
  },
  {
   "cell_type": "code",
   "execution_count": 5,
   "id": "popular-active",
   "metadata": {
    "execution": {
     "iopub.execute_input": "2021-11-03T06:30:11.186932Z",
     "iopub.status.busy": "2021-11-03T06:30:11.178650Z",
     "iopub.status.idle": "2021-11-03T06:30:11.209511Z",
     "shell.execute_reply": "2021-11-03T06:30:11.210947Z"
    },
    "papermill": {
     "duration": 0.0727,
     "end_time": "2021-11-03T06:30:11.211402",
     "exception": false,
     "start_time": "2021-11-03T06:30:11.138702",
     "status": "completed"
    },
    "tags": []
   },
   "outputs": [],
   "source": [
    "df_pivot = df.pivot_table(index=\"PRODUCT\", columns = \"RECORD_TIME\", values = \"LISTING_COUNT\")"
   ]
  },
  {
   "cell_type": "code",
   "execution_count": 6,
   "id": "union-huntington",
   "metadata": {
    "execution": {
     "iopub.execute_input": "2021-11-03T06:30:11.273264Z",
     "iopub.status.busy": "2021-11-03T06:30:11.270074Z",
     "iopub.status.idle": "2021-11-03T06:30:11.276889Z",
     "shell.execute_reply": "2021-11-03T06:30:11.278801Z"
    },
    "papermill": {
     "duration": 0.047558,
     "end_time": "2021-11-03T06:30:11.279436",
     "exception": false,
     "start_time": "2021-11-03T06:30:11.231878",
     "status": "completed"
    },
    "tags": []
   },
   "outputs": [],
   "source": [
    "df_pivot.columns = [\"stamp_1\", \"stamp_2\"]\n",
    "df_pivot_diff = df_pivot.diff(axis=1)"
   ]
  },
  {
   "cell_type": "code",
   "execution_count": 7,
   "id": "fifth-motion",
   "metadata": {
    "execution": {
     "iopub.execute_input": "2021-11-03T06:30:11.363304Z",
     "iopub.status.busy": "2021-11-03T06:30:11.360017Z",
     "iopub.status.idle": "2021-11-03T06:30:13.263477Z",
     "shell.execute_reply": "2021-11-03T06:30:13.264900Z"
    },
    "papermill": {
     "duration": 1.957163,
     "end_time": "2021-11-03T06:30:13.265384",
     "exception": false,
     "start_time": "2021-11-03T06:30:11.308221",
     "status": "completed"
    },
    "tags": []
   },
   "outputs": [
    {
     "data": {
      "text/plain": [
       "<AxesSubplot:ylabel='PRODUCT'>"
      ]
     },
     "execution_count": 7,
     "metadata": {},
     "output_type": "execute_result"
    },
    {
     "data": {
      "image/png": "[encoded data removed]",
      "text/plain": [
       "<Figure size 432x288 with 1 Axes>"
      ]
     },
     "metadata": {
      "needs_background": "light"
     },
     "output_type": "display_data"
    }
   ],
   "source": [
    "df_pivot_diff.sort_values(\"stamp_2\", ascending = False)[\"stamp_2\"].head(10).plot.barh()"
   ]
  },
  {
   "cell_type": "code",
   "execution_count": null,
   "id": "extra-executive",
   "metadata": {
    "papermill": {
     "duration": 0.023369,
     "end_time": "2021-11-03T06:30:13.313092",
     "exception": false,
     "start_time": "2021-11-03T06:30:13.289723",
     "status": "completed"
    },
    "tags": []
   },
   "outputs": [],
   "source": []
  }
 ],
 "metadata": {
  "kernelspec": {
   "display_name": "Python 3",
   "language": "python",
   "name": "python3"
  },
  "language_info": {
   "codemirror_mode": {
    "name": "ipython",
    "version": 3
   },
   "file_extension": ".py",
   "mimetype": "text/x-python",
   "name": "python",
   "nbconvert_exporter": "python",
   "pygments_lexer": "ipython3",
   "version": "3.9.5"
  },
  "papermill": {
   "default_parameters": {},
   "duration": 8.71377,
   "end_time": "2021-11-03T06:30:14.163282",
   "environment_variables": {},
   "exception": null,
   "input_path": "eBay_Overview.ipynb",
   "output_path": "eBay_Overview.ipynb",
   "parameters": {},
   "start_time": "2021-11-03T06:30:05.449512",
   "version": "2.3.3"
  }
 },
 "nbformat": 4,
 "nbformat_minor": 5
}