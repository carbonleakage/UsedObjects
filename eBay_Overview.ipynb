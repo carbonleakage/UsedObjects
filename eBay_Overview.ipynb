{
 "cells": [
  {
   "cell_type": "code",
   "execution_count": 1,
   "id": "reverse-picking",
   "metadata": {
    "execution": {
     "iopub.execute_input": "2021-12-12T19:30:08.457347Z",
     "iopub.status.busy": "2021-12-12T19:30:08.454594Z",
     "iopub.status.idle": "2021-12-12T19:30:09.373164Z",
     "shell.execute_reply": "2021-12-12T19:30:09.374882Z"
    },
    "papermill": {
     "duration": 0.970414,
     "end_time": "2021-12-12T19:30:09.375692",
     "exception": false,
     "start_time": "2021-12-12T19:30:08.405278",
     "status": "completed"
    },
    "tags": []
   },
   "outputs": [],
   "source": [
    "import pandas as pd\n",
    "import sqlite3"
   ]
  },
  {
   "cell_type": "code",
   "execution_count": 2,
   "id": "innovative-syndrome",
   "metadata": {
    "execution": {
     "iopub.execute_input": "2021-12-12T19:30:09.441220Z",
     "iopub.status.busy": "2021-12-12T19:30:09.438883Z",
     "iopub.status.idle": "2021-12-12T19:30:10.522365Z",
     "shell.execute_reply": "2021-12-12T19:30:10.524492Z"
    },
    "papermill": {
     "duration": 1.119571,
     "end_time": "2021-12-12T19:30:10.525087",
     "exception": false,
     "start_time": "2021-12-12T19:30:09.405516",
     "status": "completed"
    },
    "tags": []
   },
   "outputs": [],
   "source": [
    "timestamps = pd.read_sql(\"select distinct record_time from EBAY_TOP_BERLIN order by record_time desc limit 2\", sqlite3.connect(\"UsedObjects.db\"))"
   ]
  },
  {
   "cell_type": "code",
   "execution_count": 3,
   "id": "periodic-identification",
   "metadata": {
    "execution": {
     "iopub.execute_input": "2021-12-12T19:30:10.595078Z",
     "iopub.status.busy": "2021-12-12T19:30:10.592631Z",
     "iopub.status.idle": "2021-12-12T19:30:10.616657Z",
     "shell.execute_reply": "2021-12-12T19:30:10.618443Z"
    },
    "papermill": {
     "duration": 0.073571,
     "end_time": "2021-12-12T19:30:10.618987",
     "exception": false,
     "start_time": "2021-12-12T19:30:10.545416",
     "status": "completed"
    },
    "tags": []
   },
   "outputs": [
    {
     "data": {
      "text/html": [
       "<div>\n",
       "<style scoped>\n",
       "    .dataframe tbody tr th:only-of-type {\n",
       "        vertical-align: middle;\n",
       "    }\n",
       "\n",
       "    .dataframe tbody tr th {\n",
       "        vertical-align: top;\n",
       "    }\n",
       "\n",
       "    .dataframe thead th {\n",
       "        text-align: right;\n",
       "    }\n",
       "</style>\n",
       "<table border=\"1\" class=\"dataframe\">\n",
       "  <thead>\n",
       "    <tr style=\"text-align: right;\">\n",
       "      <th></th>\n",
       "      <th>RECORD_TIME</th>\n",
       "    </tr>\n",
       "  </thead>\n",
       "  <tbody>\n",
       "    <tr>\n",
       "      <th>0</th>\n",
       "      <td>2021-12-12 20:30</td>\n",
       "    </tr>\n",
       "    <tr>\n",
       "      <th>1</th>\n",
       "      <td>2021-12-12 20:00</td>\n",
       "    </tr>\n",
       "  </tbody>\n",
       "</table>\n",
       "</div>"
      ],
      "text/plain": [
       "        RECORD_TIME\n",
       "0  2021-12-12 20:30\n",
       "1  2021-12-12 20:00"
      ]
     },
     "execution_count": 3,
     "metadata": {},
     "output_type": "execute_result"
    }
   ],
   "source": [
    "timestamps"
   ]
  },
  {
   "cell_type": "code",
   "execution_count": 4,
   "id": "alternate-victory",
   "metadata": {
    "execution": {
     "iopub.execute_input": "2021-12-12T19:30:10.674785Z",
     "iopub.status.busy": "2021-12-12T19:30:10.672400Z",
     "iopub.status.idle": "2021-12-12T19:30:12.215975Z",
     "shell.execute_reply": "2021-12-12T19:30:12.218274Z"
    },
    "papermill": {
     "duration": 1.575471,
     "end_time": "2021-12-12T19:30:12.218780",
     "exception": false,
     "start_time": "2021-12-12T19:30:10.643309",
     "status": "completed"
    },
    "tags": []
   },
   "outputs": [],
   "source": [
    "df = pd.read_sql(\"select * from EBAY_TOP_BERLIN where record_time in (select distinct record_time from EBAY_TOP_BERLIN order by record_time desc limit 2)\", sqlite3.connect(\"UsedObjects.db\"))"
   ]
  },
  {
   "cell_type": "code",
   "execution_count": 5,
   "id": "popular-active",
   "metadata": {
    "execution": {
     "iopub.execute_input": "2021-12-12T19:30:12.304220Z",
     "iopub.status.busy": "2021-12-12T19:30:12.287732Z",
     "iopub.status.idle": "2021-12-12T19:30:12.324488Z",
     "shell.execute_reply": "2021-12-12T19:30:12.326053Z"
    },
    "papermill": {
     "duration": 0.085788,
     "end_time": "2021-12-12T19:30:12.326593",
     "exception": false,
     "start_time": "2021-12-12T19:30:12.240805",
     "status": "completed"
    },
    "tags": []
   },
   "outputs": [],
   "source": [
    "df_pivot = df.pivot_table(index=\"PRODUCT\", columns = \"RECORD_TIME\", values = \"LISTING_COUNT\")"
   ]
  },
  {
   "cell_type": "code",
   "execution_count": 6,
   "id": "union-huntington",
   "metadata": {
    "execution": {
     "iopub.execute_input": "2021-12-12T19:30:12.387615Z",
     "iopub.status.busy": "2021-12-12T19:30:12.385414Z",
     "iopub.status.idle": "2021-12-12T19:30:12.391075Z",
     "shell.execute_reply": "2021-12-12T19:30:12.392676Z"
    },
    "papermill": {
     "duration": 0.043808,
     "end_time": "2021-12-12T19:30:12.393204",
     "exception": false,
     "start_time": "2021-12-12T19:30:12.349396",
     "status": "completed"
    },
    "tags": []
   },
   "outputs": [],
   "source": [
    "df_pivot.columns = [\"stamp_1\", \"stamp_2\"]\n",
    "df_pivot_diff = df_pivot.diff(axis=1)"
   ]
  },
  {
   "cell_type": "code",
   "execution_count": 7,
   "id": "fifth-motion",
   "metadata": {
    "execution": {
     "iopub.execute_input": "2021-12-12T19:30:12.450501Z",
     "iopub.status.busy": "2021-12-12T19:30:12.447855Z",
     "iopub.status.idle": "2021-12-12T19:30:14.457192Z",
     "shell.execute_reply": "2021-12-12T19:30:14.459078Z"
    },
    "papermill": {
     "duration": 2.04625,
     "end_time": "2021-12-12T19:30:14.459684",
     "exception": false,
     "start_time": "2021-12-12T19:30:12.413434",
     "status": "completed"
    },
    "tags": []
   },
   "outputs": [
    {
     "data": {
      "text/plain": [
       "<AxesSubplot:ylabel='PRODUCT'>"
      ]
     },
     "execution_count": 7,
     "metadata": {},
     "output_type": "execute_result"
    },
    {
     "data": {
      "image/png": "[encoded data removed]",
      "text/plain": [
       "<Figure size 432x288 with 1 Axes>"
      ]
     },
     "metadata": {
      "needs_background": "light"
     },
     "output_type": "display_data"
    }
   ],
   "source": [
    "df_pivot_diff.sort_values(\"stamp_2\", ascending = False)[\"stamp_2\"].head(10).plot.barh()"
   ]
  },
  {
   "cell_type": "code",
   "execution_count": null,
   "id": "extra-executive",
   "metadata": {
    "papermill": {
     "duration": 0.026386,
     "end_time": "2021-12-12T19:30:14.520252",
     "exception": false,
     "start_time": "2021-12-12T19:30:14.493866",
     "status": "completed"
    },
    "tags": []
   },
   "outputs": [],
   "source": []
  }
 ],
 "metadata": {
  "kernelspec": {
   "display_name": "Python 3",
   "language": "python",
   "name": "python3"
  },
  "language_info": {
   "codemirror_mode": {
    "name": "ipython",
    "version": 3
   },
   "file_extension": ".py",
   "mimetype": "text/x-python",
   "name": "python",
   "nbconvert_exporter": "python",
   "pygments_lexer": "ipython3",
   "version": "3.9.5"
  },
  "papermill": {
   "default_parameters": {},
   "duration": 9.481927,
   "end_time": "2021-12-12T19:30:15.165747",
   "environment_variables": {},
   "exception": null,
   "input_path": "eBay_Overview.ipynb",
   "output_path": "eBay_Overview.ipynb",
   "parameters": {},
   "start_time": "2021-12-12T19:30:05.683820",
   "version": "2.3.3"
  }
 },
 "nbformat": 4,
 "nbformat_minor": 5
}