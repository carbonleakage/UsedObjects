{
 "cells": [
  {
   "cell_type": "code",
   "execution_count": 1,
   "id": "reverse-picking",
   "metadata": {
    "execution": {
     "iopub.execute_input": "2021-11-22T08:00:07.655106Z",
     "iopub.status.busy": "2021-11-22T08:00:07.651851Z",
     "iopub.status.idle": "2021-11-22T08:00:08.610671Z",
     "shell.execute_reply": "2021-11-22T08:00:08.612212Z"
    },
    "papermill": {
     "duration": 1.008859,
     "end_time": "2021-11-22T08:00:08.613035",
     "exception": false,
     "start_time": "2021-11-22T08:00:07.604176",
     "status": "completed"
    },
    "tags": []
   },
   "outputs": [],
   "source": [
    "import pandas as pd\n",
    "import sqlite3"
   ]
  },
  {
   "cell_type": "code",
   "execution_count": 2,
   "id": "innovative-syndrome",
   "metadata": {
    "execution": {
     "iopub.execute_input": "2021-11-22T08:00:08.675538Z",
     "iopub.status.busy": "2021-11-22T08:00:08.673167Z",
     "iopub.status.idle": "2021-11-22T08:00:09.566284Z",
     "shell.execute_reply": "2021-11-22T08:00:09.567706Z"
    },
    "papermill": {
     "duration": 0.927275,
     "end_time": "2021-11-22T08:00:09.568189",
     "exception": false,
     "start_time": "2021-11-22T08:00:08.640914",
     "status": "completed"
    },
    "tags": []
   },
   "outputs": [],
   "source": [
    "timestamps = pd.read_sql(\"select distinct record_time from EBAY_TOP_BERLIN order by record_time desc limit 2\", sqlite3.connect(\"UsedObjects.db\"))"
   ]
  },
  {
   "cell_type": "code",
   "execution_count": 3,
   "id": "periodic-identification",
   "metadata": {
    "execution": {
     "iopub.execute_input": "2021-11-22T08:00:09.640218Z",
     "iopub.status.busy": "2021-11-22T08:00:09.634798Z",
     "iopub.status.idle": "2021-11-22T08:00:09.656322Z",
     "shell.execute_reply": "2021-11-22T08:00:09.657758Z"
    },
    "papermill": {
     "duration": 0.07047,
     "end_time": "2021-11-22T08:00:09.658224",
     "exception": false,
     "start_time": "2021-11-22T08:00:09.587754",
     "status": "completed"
    },
    "tags": []
   },
   "outputs": [
    {
     "data": {
      "text/html": [
       "<div>\n",
       "<style scoped>\n",
       "    .dataframe tbody tr th:only-of-type {\n",
       "        vertical-align: middle;\n",
       "    }\n",
       "\n",
       "    .dataframe tbody tr th {\n",
       "        vertical-align: top;\n",
       "    }\n",
       "\n",
       "    .dataframe thead th {\n",
       "        text-align: right;\n",
       "    }\n",
       "</style>\n",
       "<table border=\"1\" class=\"dataframe\">\n",
       "  <thead>\n",
       "    <tr style=\"text-align: right;\">\n",
       "      <th></th>\n",
       "      <th>RECORD_TIME</th>\n",
       "    </tr>\n",
       "  </thead>\n",
       "  <tbody>\n",
       "    <tr>\n",
       "      <th>0</th>\n",
       "      <td>2021-11-22 09:00</td>\n",
       "    </tr>\n",
       "    <tr>\n",
       "      <th>1</th>\n",
       "      <td>2021-11-22 08:30</td>\n",
       "    </tr>\n",
       "  </tbody>\n",
       "</table>\n",
       "</div>"
      ],
      "text/plain": [
       "        RECORD_TIME\n",
       "0  2021-11-22 09:00\n",
       "1  2021-11-22 08:30"
      ]
     },
     "execution_count": 3,
     "metadata": {},
     "output_type": "execute_result"
    }
   ],
   "source": [
    "timestamps"
   ]
  },
  {
   "cell_type": "code",
   "execution_count": 4,
   "id": "alternate-victory",
   "metadata": {
    "execution": {
     "iopub.execute_input": "2021-11-22T08:00:09.713663Z",
     "iopub.status.busy": "2021-11-22T08:00:09.711125Z",
     "iopub.status.idle": "2021-11-22T08:00:11.012477Z",
     "shell.execute_reply": "2021-11-22T08:00:11.014145Z"
    },
    "papermill": {
     "duration": 1.334573,
     "end_time": "2021-11-22T08:00:11.014661",
     "exception": false,
     "start_time": "2021-11-22T08:00:09.680088",
     "status": "completed"
    },
    "tags": []
   },
   "outputs": [],
   "source": [
    "df = pd.read_sql(\"select * from EBAY_TOP_BERLIN where record_time in (select distinct record_time from EBAY_TOP_BERLIN order by record_time desc limit 2)\", sqlite3.connect(\"UsedObjects.db\"))"
   ]
  },
  {
   "cell_type": "code",
   "execution_count": 5,
   "id": "popular-active",
   "metadata": {
    "execution": {
     "iopub.execute_input": "2021-11-22T08:00:11.090033Z",
     "iopub.status.busy": "2021-11-22T08:00:11.077648Z",
     "iopub.status.idle": "2021-11-22T08:00:11.107738Z",
     "shell.execute_reply": "2021-11-22T08:00:11.109192Z"
    },
    "papermill": {
     "duration": 0.073367,
     "end_time": "2021-11-22T08:00:11.109669",
     "exception": false,
     "start_time": "2021-11-22T08:00:11.036302",
     "status": "completed"
    },
    "tags": []
   },
   "outputs": [],
   "source": [
    "df_pivot = df.pivot_table(index=\"PRODUCT\", columns = \"RECORD_TIME\", values = \"LISTING_COUNT\")"
   ]
  },
  {
   "cell_type": "code",
   "execution_count": 6,
   "id": "union-huntington",
   "metadata": {
    "execution": {
     "iopub.execute_input": "2021-11-22T08:00:11.179369Z",
     "iopub.status.busy": "2021-11-22T08:00:11.175452Z",
     "iopub.status.idle": "2021-11-22T08:00:11.186932Z",
     "shell.execute_reply": "2021-11-22T08:00:11.189640Z"
    },
    "papermill": {
     "duration": 0.059304,
     "end_time": "2021-11-22T08:00:11.190534",
     "exception": false,
     "start_time": "2021-11-22T08:00:11.131230",
     "status": "completed"
    },
    "tags": []
   },
   "outputs": [],
   "source": [
    "df_pivot.columns = [\"stamp_1\", \"stamp_2\"]\n",
    "df_pivot_diff = df_pivot.diff(axis=1)"
   ]
  },
  {
   "cell_type": "code",
   "execution_count": 7,
   "id": "fifth-motion",
   "metadata": {
    "execution": {
     "iopub.execute_input": "2021-11-22T08:00:11.269325Z",
     "iopub.status.busy": "2021-11-22T08:00:11.266739Z",
     "iopub.status.idle": "2021-11-22T08:00:13.103737Z",
     "shell.execute_reply": "2021-11-22T08:00:13.106301Z"
    },
    "papermill": {
     "duration": 1.883778,
     "end_time": "2021-11-22T08:00:13.107112",
     "exception": false,
     "start_time": "2021-11-22T08:00:11.223334",
     "status": "completed"
    },
    "tags": []
   },
   "outputs": [
    {
     "data": {
      "text/plain": [
       "<AxesSubplot:ylabel='PRODUCT'>"
      ]
     },
     "execution_count": 7,
     "metadata": {},
     "output_type": "execute_result"
    },
    {
     "data": {
      "image/png": "[encoded data removed]",
      "text/plain": [
       "<Figure size 432x288 with 1 Axes>"
      ]
     },
     "metadata": {
      "needs_background": "light"
     },
     "output_type": "display_data"
    }
   ],
   "source": [
    "df_pivot_diff.sort_values(\"stamp_2\", ascending = False)[\"stamp_2\"].head(10).plot.barh()"
   ]
  },
  {
   "cell_type": "code",
   "execution_count": null,
   "id": "extra-executive",
   "metadata": {
    "papermill": {
     "duration": 0.037179,
     "end_time": "2021-11-22T08:00:13.173509",
     "exception": false,
     "start_time": "2021-11-22T08:00:13.136330",
     "status": "completed"
    },
    "tags": []
   },
   "outputs": [],
   "source": []
  }
 ],
 "metadata": {
  "kernelspec": {
   "display_name": "Python 3",
   "language": "python",
   "name": "python3"
  },
  "language_info": {
   "codemirror_mode": {
    "name": "ipython",
    "version": 3
   },
   "file_extension": ".py",
   "mimetype": "text/x-python",
   "name": "python",
   "nbconvert_exporter": "python",
   "pygments_lexer": "ipython3",
   "version": "3.9.5"
  },
  "papermill": {
   "default_parameters": {},
   "duration": 9.983966,
   "end_time": "2021-11-22T08:00:14.789222",
   "environment_variables": {},
   "exception": null,
   "input_path": "eBay_Overview.ipynb",
   "output_path": "eBay_Overview.ipynb",
   "parameters": {},
   "start_time": "2021-11-22T08:00:04.805256",
   "version": "2.3.3"
  }
 },
 "nbformat": 4,
 "nbformat_minor": 5
}