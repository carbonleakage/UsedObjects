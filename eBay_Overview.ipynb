{
 "cells": [
  {
   "cell_type": "code",
   "execution_count": 1,
   "id": "reverse-picking",
   "metadata": {
    "execution": {
     "iopub.execute_input": "2021-12-11T18:30:07.843457Z",
     "iopub.status.busy": "2021-12-11T18:30:07.841113Z",
     "iopub.status.idle": "2021-12-11T18:30:08.791881Z",
     "shell.execute_reply": "2021-12-11T18:30:08.794151Z"
    },
    "papermill": {
     "duration": 1.000683,
     "end_time": "2021-12-11T18:30:08.794860",
     "exception": false,
     "start_time": "2021-12-11T18:30:07.794177",
     "status": "completed"
    },
    "tags": []
   },
   "outputs": [],
   "source": [
    "import pandas as pd\n",
    "import sqlite3"
   ]
  },
  {
   "cell_type": "code",
   "execution_count": 2,
   "id": "innovative-syndrome",
   "metadata": {
    "execution": {
     "iopub.execute_input": "2021-12-11T18:30:08.910437Z",
     "iopub.status.busy": "2021-12-11T18:30:08.908193Z",
     "iopub.status.idle": "2021-12-11T18:30:09.964043Z",
     "shell.execute_reply": "2021-12-11T18:30:09.965612Z"
    },
    "papermill": {
     "duration": 1.089637,
     "end_time": "2021-12-11T18:30:09.966194",
     "exception": false,
     "start_time": "2021-12-11T18:30:08.876557",
     "status": "completed"
    },
    "tags": []
   },
   "outputs": [],
   "source": [
    "timestamps = pd.read_sql(\"select distinct record_time from EBAY_TOP_BERLIN order by record_time desc limit 2\", sqlite3.connect(\"UsedObjects.db\"))"
   ]
  },
  {
   "cell_type": "code",
   "execution_count": 3,
   "id": "periodic-identification",
   "metadata": {
    "execution": {
     "iopub.execute_input": "2021-12-11T18:30:10.041134Z",
     "iopub.status.busy": "2021-12-11T18:30:10.034906Z",
     "iopub.status.idle": "2021-12-11T18:30:10.057579Z",
     "shell.execute_reply": "2021-12-11T18:30:10.059021Z"
    },
    "papermill": {
     "duration": 0.072971,
     "end_time": "2021-12-11T18:30:10.059514",
     "exception": false,
     "start_time": "2021-12-11T18:30:09.986543",
     "status": "completed"
    },
    "tags": []
   },
   "outputs": [
    {
     "data": {
      "text/html": [
       "<div>\n",
       "<style scoped>\n",
       "    .dataframe tbody tr th:only-of-type {\n",
       "        vertical-align: middle;\n",
       "    }\n",
       "\n",
       "    .dataframe tbody tr th {\n",
       "        vertical-align: top;\n",
       "    }\n",
       "\n",
       "    .dataframe thead th {\n",
       "        text-align: right;\n",
       "    }\n",
       "</style>\n",
       "<table border=\"1\" class=\"dataframe\">\n",
       "  <thead>\n",
       "    <tr style=\"text-align: right;\">\n",
       "      <th></th>\n",
       "      <th>RECORD_TIME</th>\n",
       "    </tr>\n",
       "  </thead>\n",
       "  <tbody>\n",
       "    <tr>\n",
       "      <th>0</th>\n",
       "      <td>2021-12-11 19:30</td>\n",
       "    </tr>\n",
       "    <tr>\n",
       "      <th>1</th>\n",
       "      <td>2021-12-11 19:00</td>\n",
       "    </tr>\n",
       "  </tbody>\n",
       "</table>\n",
       "</div>"
      ],
      "text/plain": [
       "        RECORD_TIME\n",
       "0  2021-12-11 19:30\n",
       "1  2021-12-11 19:00"
      ]
     },
     "execution_count": 3,
     "metadata": {},
     "output_type": "execute_result"
    }
   ],
   "source": [
    "timestamps"
   ]
  },
  {
   "cell_type": "code",
   "execution_count": 4,
   "id": "alternate-victory",
   "metadata": {
    "execution": {
     "iopub.execute_input": "2021-12-11T18:30:10.118299Z",
     "iopub.status.busy": "2021-12-11T18:30:10.114635Z",
     "iopub.status.idle": "2021-12-11T18:30:11.648833Z",
     "shell.execute_reply": "2021-12-11T18:30:11.650258Z"
    },
    "papermill": {
     "duration": 1.569817,
     "end_time": "2021-12-11T18:30:11.650748",
     "exception": false,
     "start_time": "2021-12-11T18:30:10.080931",
     "status": "completed"
    },
    "tags": []
   },
   "outputs": [],
   "source": [
    "df = pd.read_sql(\"select * from EBAY_TOP_BERLIN where record_time in (select distinct record_time from EBAY_TOP_BERLIN order by record_time desc limit 2)\", sqlite3.connect(\"UsedObjects.db\"))"
   ]
  },
  {
   "cell_type": "code",
   "execution_count": 5,
   "id": "popular-active",
   "metadata": {
    "execution": {
     "iopub.execute_input": "2021-12-11T18:30:11.726844Z",
     "iopub.status.busy": "2021-12-11T18:30:11.711879Z",
     "iopub.status.idle": "2021-12-11T18:30:11.747163Z",
     "shell.execute_reply": "2021-12-11T18:30:11.748915Z"
    },
    "papermill": {
     "duration": 0.077888,
     "end_time": "2021-12-11T18:30:11.749416",
     "exception": false,
     "start_time": "2021-12-11T18:30:11.671528",
     "status": "completed"
    },
    "tags": []
   },
   "outputs": [],
   "source": [
    "df_pivot = df.pivot_table(index=\"PRODUCT\", columns = \"RECORD_TIME\", values = \"LISTING_COUNT\")"
   ]
  },
  {
   "cell_type": "code",
   "execution_count": 6,
   "id": "union-huntington",
   "metadata": {
    "execution": {
     "iopub.execute_input": "2021-12-11T18:30:11.809945Z",
     "iopub.status.busy": "2021-12-11T18:30:11.807594Z",
     "iopub.status.idle": "2021-12-11T18:30:11.813879Z",
     "shell.execute_reply": "2021-12-11T18:30:11.815511Z"
    },
    "papermill": {
     "duration": 0.046139,
     "end_time": "2021-12-11T18:30:11.816028",
     "exception": false,
     "start_time": "2021-12-11T18:30:11.769889",
     "status": "completed"
    },
    "tags": []
   },
   "outputs": [],
   "source": [
    "df_pivot.columns = [\"stamp_1\", \"stamp_2\"]\n",
    "df_pivot_diff = df_pivot.diff(axis=1)"
   ]
  },
  {
   "cell_type": "code",
   "execution_count": 7,
   "id": "fifth-motion",
   "metadata": {
    "execution": {
     "iopub.execute_input": "2021-12-11T18:30:11.873445Z",
     "iopub.status.busy": "2021-12-11T18:30:11.870924Z",
     "iopub.status.idle": "2021-12-11T18:30:13.838931Z",
     "shell.execute_reply": "2021-12-11T18:30:13.841856Z"
    },
    "papermill": {
     "duration": 2.00556,
     "end_time": "2021-12-11T18:30:13.842820",
     "exception": false,
     "start_time": "2021-12-11T18:30:11.837260",
     "status": "completed"
    },
    "tags": []
   },
   "outputs": [
    {
     "data": {
      "text/plain": [
       "<AxesSubplot:ylabel='PRODUCT'>"
      ]
     },
     "execution_count": 7,
     "metadata": {},
     "output_type": "execute_result"
    },
    {
     "data": {
      "image/png": "[encoded data removed]",
      "text/plain": [
       "<Figure size 432x288 with 1 Axes>"
      ]
     },
     "metadata": {
      "needs_background": "light"
     },
     "output_type": "display_data"
    }
   ],
   "source": [
    "df_pivot_diff.sort_values(\"stamp_2\", ascending = False)[\"stamp_2\"].head(10).plot.barh()"
   ]
  },
  {
   "cell_type": "code",
   "execution_count": null,
   "id": "extra-executive",
   "metadata": {
    "papermill": {
     "duration": 0.033073,
     "end_time": "2021-12-11T18:30:13.919102",
     "exception": false,
     "start_time": "2021-12-11T18:30:13.886029",
     "status": "completed"
    },
    "tags": []
   },
   "outputs": [],
   "source": []
  }
 ],
 "metadata": {
  "kernelspec": {
   "display_name": "Python 3",
   "language": "python",
   "name": "python3"
  },
  "language_info": {
   "codemirror_mode": {
    "name": "ipython",
    "version": 3
   },
   "file_extension": ".py",
   "mimetype": "text/x-python",
   "name": "python",
   "nbconvert_exporter": "python",
   "pygments_lexer": "ipython3",
   "version": "3.9.5"
  },
  "papermill": {
   "default_parameters": {},
   "duration": 9.698713,
   "end_time": "2021-12-11T18:30:14.687809",
   "environment_variables": {},
   "exception": null,
   "input_path": "eBay_Overview.ipynb",
   "output_path": "eBay_Overview.ipynb",
   "parameters": {},
   "start_time": "2021-12-11T18:30:04.989096",
   "version": "2.3.3"
  }
 },
 "nbformat": 4,
 "nbformat_minor": 5
}