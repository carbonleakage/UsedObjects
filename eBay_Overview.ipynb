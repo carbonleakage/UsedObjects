{
 "cells": [
  {
   "cell_type": "code",
   "execution_count": 1,
   "id": "reverse-picking",
   "metadata": {
    "execution": {
     "iopub.execute_input": "2021-12-03T18:00:08.270231Z",
     "iopub.status.busy": "2021-12-03T18:00:08.267710Z",
     "iopub.status.idle": "2021-12-03T18:00:09.185603Z",
     "shell.execute_reply": "2021-12-03T18:00:09.187170Z"
    },
    "papermill": {
     "duration": 0.967468,
     "end_time": "2021-12-03T18:00:09.187898",
     "exception": false,
     "start_time": "2021-12-03T18:00:08.220430",
     "status": "completed"
    },
    "tags": []
   },
   "outputs": [],
   "source": [
    "import pandas as pd\n",
    "import sqlite3"
   ]
  },
  {
   "cell_type": "code",
   "execution_count": 2,
   "id": "innovative-syndrome",
   "metadata": {
    "execution": {
     "iopub.execute_input": "2021-12-03T18:00:09.250197Z",
     "iopub.status.busy": "2021-12-03T18:00:09.247875Z",
     "iopub.status.idle": "2021-12-03T18:00:10.239825Z",
     "shell.execute_reply": "2021-12-03T18:00:10.241222Z"
    },
    "papermill": {
     "duration": 1.025076,
     "end_time": "2021-12-03T18:00:10.241693",
     "exception": false,
     "start_time": "2021-12-03T18:00:09.216617",
     "status": "completed"
    },
    "tags": []
   },
   "outputs": [],
   "source": [
    "timestamps = pd.read_sql(\"select distinct record_time from EBAY_TOP_BERLIN order by record_time desc limit 2\", sqlite3.connect(\"UsedObjects.db\"))"
   ]
  },
  {
   "cell_type": "code",
   "execution_count": 3,
   "id": "periodic-identification",
   "metadata": {
    "execution": {
     "iopub.execute_input": "2021-12-03T18:00:10.314003Z",
     "iopub.status.busy": "2021-12-03T18:00:10.311496Z",
     "iopub.status.idle": "2021-12-03T18:00:10.337585Z",
     "shell.execute_reply": "2021-12-03T18:00:10.335898Z"
    },
    "papermill": {
     "duration": 0.075072,
     "end_time": "2021-12-03T18:00:10.338009",
     "exception": false,
     "start_time": "2021-12-03T18:00:10.262937",
     "status": "completed"
    },
    "tags": []
   },
   "outputs": [
    {
     "data": {
      "text/html": [
       "<div>\n",
       "<style scoped>\n",
       "    .dataframe tbody tr th:only-of-type {\n",
       "        vertical-align: middle;\n",
       "    }\n",
       "\n",
       "    .dataframe tbody tr th {\n",
       "        vertical-align: top;\n",
       "    }\n",
       "\n",
       "    .dataframe thead th {\n",
       "        text-align: right;\n",
       "    }\n",
       "</style>\n",
       "<table border=\"1\" class=\"dataframe\">\n",
       "  <thead>\n",
       "    <tr style=\"text-align: right;\">\n",
       "      <th></th>\n",
       "      <th>RECORD_TIME</th>\n",
       "    </tr>\n",
       "  </thead>\n",
       "  <tbody>\n",
       "    <tr>\n",
       "      <th>0</th>\n",
       "      <td>2021-12-03 19:00</td>\n",
       "    </tr>\n",
       "    <tr>\n",
       "      <th>1</th>\n",
       "      <td>2021-12-03 18:30</td>\n",
       "    </tr>\n",
       "  </tbody>\n",
       "</table>\n",
       "</div>"
      ],
      "text/plain": [
       "        RECORD_TIME\n",
       "0  2021-12-03 19:00\n",
       "1  2021-12-03 18:30"
      ]
     },
     "execution_count": 3,
     "metadata": {},
     "output_type": "execute_result"
    }
   ],
   "source": [
    "timestamps"
   ]
  },
  {
   "cell_type": "code",
   "execution_count": 4,
   "id": "alternate-victory",
   "metadata": {
    "execution": {
     "iopub.execute_input": "2021-12-03T18:00:10.393000Z",
     "iopub.status.busy": "2021-12-03T18:00:10.390552Z",
     "iopub.status.idle": "2021-12-03T18:00:11.838866Z",
     "shell.execute_reply": "2021-12-03T18:00:11.840497Z"
    },
    "papermill": {
     "duration": 1.481892,
     "end_time": "2021-12-03T18:00:11.841072",
     "exception": false,
     "start_time": "2021-12-03T18:00:10.359180",
     "status": "completed"
    },
    "tags": []
   },
   "outputs": [],
   "source": [
    "df = pd.read_sql(\"select * from EBAY_TOP_BERLIN where record_time in (select distinct record_time from EBAY_TOP_BERLIN order by record_time desc limit 2)\", sqlite3.connect(\"UsedObjects.db\"))"
   ]
  },
  {
   "cell_type": "code",
   "execution_count": 5,
   "id": "popular-active",
   "metadata": {
    "execution": {
     "iopub.execute_input": "2021-12-03T18:00:11.917071Z",
     "iopub.status.busy": "2021-12-03T18:00:11.905015Z",
     "iopub.status.idle": "2021-12-03T18:00:11.934721Z",
     "shell.execute_reply": "2021-12-03T18:00:11.936111Z"
    },
    "papermill": {
     "duration": 0.07353,
     "end_time": "2021-12-03T18:00:11.936586",
     "exception": false,
     "start_time": "2021-12-03T18:00:11.863056",
     "status": "completed"
    },
    "tags": []
   },
   "outputs": [],
   "source": [
    "df_pivot = df.pivot_table(index=\"PRODUCT\", columns = \"RECORD_TIME\", values = \"LISTING_COUNT\")"
   ]
  },
  {
   "cell_type": "code",
   "execution_count": 6,
   "id": "union-huntington",
   "metadata": {
    "execution": {
     "iopub.execute_input": "2021-12-03T18:00:11.999317Z",
     "iopub.status.busy": "2021-12-03T18:00:11.995802Z",
     "iopub.status.idle": "2021-12-03T18:00:12.005572Z",
     "shell.execute_reply": "2021-12-03T18:00:12.003492Z"
    },
    "papermill": {
     "duration": 0.049103,
     "end_time": "2021-12-03T18:00:12.006033",
     "exception": false,
     "start_time": "2021-12-03T18:00:11.956930",
     "status": "completed"
    },
    "tags": []
   },
   "outputs": [],
   "source": [
    "df_pivot.columns = [\"stamp_1\", \"stamp_2\"]\n",
    "df_pivot_diff = df_pivot.diff(axis=1)"
   ]
  },
  {
   "cell_type": "code",
   "execution_count": 7,
   "id": "fifth-motion",
   "metadata": {
    "execution": {
     "iopub.execute_input": "2021-12-03T18:00:12.068353Z",
     "iopub.status.busy": "2021-12-03T18:00:12.065394Z",
     "iopub.status.idle": "2021-12-03T18:00:14.002084Z",
     "shell.execute_reply": "2021-12-03T18:00:14.004899Z"
    },
    "papermill": {
     "duration": 1.977612,
     "end_time": "2021-12-03T18:00:14.005738",
     "exception": false,
     "start_time": "2021-12-03T18:00:12.028126",
     "status": "completed"
    },
    "tags": []
   },
   "outputs": [
    {
     "data": {
      "text/plain": [
       "<AxesSubplot:ylabel='PRODUCT'>"
      ]
     },
     "execution_count": 7,
     "metadata": {},
     "output_type": "execute_result"
    },
    {
     "data": {
      "image/png": "[encoded data removed]",
      "text/plain": [
       "<Figure size 432x288 with 1 Axes>"
      ]
     },
     "metadata": {
      "needs_background": "light"
     },
     "output_type": "display_data"
    }
   ],
   "source": [
    "df_pivot_diff.sort_values(\"stamp_2\", ascending = False)[\"stamp_2\"].head(10).plot.barh()"
   ]
  },
  {
   "cell_type": "code",
   "execution_count": null,
   "id": "extra-executive",
   "metadata": {
    "papermill": {
     "duration": 0.028286,
     "end_time": "2021-12-03T18:00:14.068422",
     "exception": false,
     "start_time": "2021-12-03T18:00:14.040136",
     "status": "completed"
    },
    "tags": []
   },
   "outputs": [],
   "source": []
  }
 ],
 "metadata": {
  "kernelspec": {
   "display_name": "Python 3",
   "language": "python",
   "name": "python3"
  },
  "language_info": {
   "codemirror_mode": {
    "name": "ipython",
    "version": 3
   },
   "file_extension": ".py",
   "mimetype": "text/x-python",
   "name": "python",
   "nbconvert_exporter": "python",
   "pygments_lexer": "ipython3",
   "version": "3.9.5"
  },
  "papermill": {
   "default_parameters": {},
   "duration": 9.936855,
   "end_time": "2021-12-03T18:00:15.437173",
   "environment_variables": {},
   "exception": null,
   "input_path": "eBay_Overview.ipynb",
   "output_path": "eBay_Overview.ipynb",
   "parameters": {},
   "start_time": "2021-12-03T18:00:05.500318",
   "version": "2.3.3"
  }
 },
 "nbformat": 4,
 "nbformat_minor": 5
}