{
 "cells": [
  {
   "cell_type": "code",
   "execution_count": 1,
   "id": "reverse-picking",
   "metadata": {
    "execution": {
     "iopub.execute_input": "2021-10-31T15:30:07.278540Z",
     "iopub.status.busy": "2021-10-31T15:30:07.276494Z",
     "iopub.status.idle": "2021-10-31T15:30:08.084494Z",
     "shell.execute_reply": "2021-10-31T15:30:08.082908Z"
    },
    "papermill": {
     "duration": 0.860061,
     "end_time": "2021-10-31T15:30:08.084938",
     "exception": false,
     "start_time": "2021-10-31T15:30:07.224877",
     "status": "completed"
    },
    "tags": []
   },
   "outputs": [],
   "source": [
    "import pandas as pd\n",
    "import sqlite3"
   ]
  },
  {
   "cell_type": "code",
   "execution_count": 2,
   "id": "innovative-syndrome",
   "metadata": {
    "execution": {
     "iopub.execute_input": "2021-10-31T15:30:08.135788Z",
     "iopub.status.busy": "2021-10-31T15:30:08.133866Z",
     "iopub.status.idle": "2021-10-31T15:30:08.817213Z",
     "shell.execute_reply": "2021-10-31T15:30:08.818387Z"
    },
    "papermill": {
     "duration": 0.712685,
     "end_time": "2021-10-31T15:30:08.818801",
     "exception": false,
     "start_time": "2021-10-31T15:30:08.106116",
     "status": "completed"
    },
    "tags": []
   },
   "outputs": [],
   "source": [
    "timestamps = pd.read_sql(\"select distinct record_time from EBAY_TOP_BERLIN order by record_time desc limit 2\", sqlite3.connect(\"UsedObjects.db\"))"
   ]
  },
  {
   "cell_type": "code",
   "execution_count": 3,
   "id": "periodic-identification",
   "metadata": {
    "execution": {
     "iopub.execute_input": "2021-10-31T15:30:08.894484Z",
     "iopub.status.busy": "2021-10-31T15:30:08.892366Z",
     "iopub.status.idle": "2021-10-31T15:30:08.912283Z",
     "shell.execute_reply": "2021-10-31T15:30:08.913828Z"
    },
    "papermill": {
     "duration": 0.067394,
     "end_time": "2021-10-31T15:30:08.914266",
     "exception": false,
     "start_time": "2021-10-31T15:30:08.846872",
     "status": "completed"
    },
    "tags": []
   },
   "outputs": [
    {
     "data": {
      "text/html": [
       "<div>\n",
       "<style scoped>\n",
       "    .dataframe tbody tr th:only-of-type {\n",
       "        vertical-align: middle;\n",
       "    }\n",
       "\n",
       "    .dataframe tbody tr th {\n",
       "        vertical-align: top;\n",
       "    }\n",
       "\n",
       "    .dataframe thead th {\n",
       "        text-align: right;\n",
       "    }\n",
       "</style>\n",
       "<table border=\"1\" class=\"dataframe\">\n",
       "  <thead>\n",
       "    <tr style=\"text-align: right;\">\n",
       "      <th></th>\n",
       "      <th>RECORD_TIME</th>\n",
       "    </tr>\n",
       "  </thead>\n",
       "  <tbody>\n",
       "    <tr>\n",
       "      <th>0</th>\n",
       "      <td>2021-10-31 16:30</td>\n",
       "    </tr>\n",
       "    <tr>\n",
       "      <th>1</th>\n",
       "      <td>2021-10-31 16:00</td>\n",
       "    </tr>\n",
       "  </tbody>\n",
       "</table>\n",
       "</div>"
      ],
      "text/plain": [
       "        RECORD_TIME\n",
       "0  2021-10-31 16:30\n",
       "1  2021-10-31 16:00"
      ]
     },
     "execution_count": 3,
     "metadata": {},
     "output_type": "execute_result"
    }
   ],
   "source": [
    "timestamps"
   ]
  },
  {
   "cell_type": "code",
   "execution_count": 4,
   "id": "alternate-victory",
   "metadata": {
    "execution": {
     "iopub.execute_input": "2021-10-31T15:30:08.968172Z",
     "iopub.status.busy": "2021-10-31T15:30:08.966144Z",
     "iopub.status.idle": "2021-10-31T15:30:10.006067Z",
     "shell.execute_reply": "2021-10-31T15:30:10.007387Z"
    },
    "papermill": {
     "duration": 1.070515,
     "end_time": "2021-10-31T15:30:10.007802",
     "exception": false,
     "start_time": "2021-10-31T15:30:08.937287",
     "status": "completed"
    },
    "tags": []
   },
   "outputs": [],
   "source": [
    "df = pd.read_sql(\"select * from EBAY_TOP_BERLIN where record_time in (select distinct record_time from EBAY_TOP_BERLIN order by record_time desc limit 2)\", sqlite3.connect(\"UsedObjects.db\"))"
   ]
  },
  {
   "cell_type": "code",
   "execution_count": 5,
   "id": "popular-active",
   "metadata": {
    "execution": {
     "iopub.execute_input": "2021-10-31T15:30:10.077525Z",
     "iopub.status.busy": "2021-10-31T15:30:10.066658Z",
     "iopub.status.idle": "2021-10-31T15:30:10.094168Z",
     "shell.execute_reply": "2021-10-31T15:30:10.095398Z"
    },
    "papermill": {
     "duration": 0.067825,
     "end_time": "2021-10-31T15:30:10.095792",
     "exception": false,
     "start_time": "2021-10-31T15:30:10.027967",
     "status": "completed"
    },
    "tags": []
   },
   "outputs": [],
   "source": [
    "df_pivot = df.pivot_table(index=\"PRODUCT\", columns = \"RECORD_TIME\", values = \"LISTING_COUNT\")"
   ]
  },
  {
   "cell_type": "code",
   "execution_count": 6,
   "id": "union-huntington",
   "metadata": {
    "execution": {
     "iopub.execute_input": "2021-10-31T15:30:10.150424Z",
     "iopub.status.busy": "2021-10-31T15:30:10.148371Z",
     "iopub.status.idle": "2021-10-31T15:30:10.153562Z",
     "shell.execute_reply": "2021-10-31T15:30:10.154849Z"
    },
    "papermill": {
     "duration": 0.039512,
     "end_time": "2021-10-31T15:30:10.155244",
     "exception": false,
     "start_time": "2021-10-31T15:30:10.115732",
     "status": "completed"
    },
    "tags": []
   },
   "outputs": [],
   "source": [
    "df_pivot.columns = [\"stamp_1\", \"stamp_2\"]\n",
    "df_pivot_diff = df_pivot.diff(axis=1)"
   ]
  },
  {
   "cell_type": "code",
   "execution_count": 7,
   "id": "fifth-motion",
   "metadata": {
    "execution": {
     "iopub.execute_input": "2021-10-31T15:30:10.210308Z",
     "iopub.status.busy": "2021-10-31T15:30:10.207747Z",
     "iopub.status.idle": "2021-10-31T15:30:11.720025Z",
     "shell.execute_reply": "2021-10-31T15:30:11.721685Z"
    },
    "papermill": {
     "duration": 1.545792,
     "end_time": "2021-10-31T15:30:11.722140",
     "exception": false,
     "start_time": "2021-10-31T15:30:10.176348",
     "status": "completed"
    },
    "tags": []
   },
   "outputs": [
    {
     "data": {
      "text/plain": [
       "<AxesSubplot:ylabel='PRODUCT'>"
      ]
     },
     "execution_count": 7,
     "metadata": {},
     "output_type": "execute_result"
    },
    {
     "data": {
      "image/png": "[encoded data removed]",
      "text/plain": [
       "<Figure size 432x288 with 1 Axes>"
      ]
     },
     "metadata": {
      "needs_background": "light"
     },
     "output_type": "display_data"
    }
   ],
   "source": [
    "df_pivot_diff.sort_values(\"stamp_2\", ascending = False)[\"stamp_2\"].head(10).plot.barh()"
   ]
  },
  {
   "cell_type": "code",
   "execution_count": null,
   "id": "extra-executive",
   "metadata": {
    "papermill": {
     "duration": 0.022318,
     "end_time": "2021-10-31T15:30:11.768779",
     "exception": false,
     "start_time": "2021-10-31T15:30:11.746461",
     "status": "completed"
    },
    "tags": []
   },
   "outputs": [],
   "source": []
  }
 ],
 "metadata": {
  "kernelspec": {
   "display_name": "Python 3",
   "language": "python",
   "name": "python3"
  },
  "language_info": {
   "codemirror_mode": {
    "name": "ipython",
    "version": 3
   },
   "file_extension": ".py",
   "mimetype": "text/x-python",
   "name": "python",
   "nbconvert_exporter": "python",
   "pygments_lexer": "ipython3",
   "version": "3.9.5"
  },
  "papermill": {
   "default_parameters": {},
   "duration": 7.594445,
   "end_time": "2021-10-31T15:30:12.408318",
   "environment_variables": {},
   "exception": null,
   "input_path": "eBay_Overview.ipynb",
   "output_path": "eBay_Overview.ipynb",
   "parameters": {},
   "start_time": "2021-10-31T15:30:04.813873",
   "version": "2.3.3"
  }
 },
 "nbformat": 4,
 "nbformat_minor": 5
}