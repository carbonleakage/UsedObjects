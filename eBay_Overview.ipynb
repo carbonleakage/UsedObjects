{
 "cells": [
  {
   "cell_type": "code",
   "execution_count": 1,
   "id": "reverse-picking",
   "metadata": {
    "execution": {
     "iopub.execute_input": "2021-09-01T16:30:06.743195Z",
     "iopub.status.busy": "2021-09-01T16:30:06.741197Z",
     "iopub.status.idle": "2021-09-01T16:30:07.543748Z",
     "shell.execute_reply": "2021-09-01T16:30:07.545081Z"
    },
    "papermill": {
     "duration": 0.852857,
     "end_time": "2021-09-01T16:30:07.545718",
     "exception": false,
     "start_time": "2021-09-01T16:30:06.692861",
     "status": "completed"
    },
    "tags": []
   },
   "outputs": [],
   "source": [
    "import pandas as pd\n",
    "import sqlite3"
   ]
  },
  {
   "cell_type": "code",
   "execution_count": 2,
   "id": "innovative-syndrome",
   "metadata": {
    "execution": {
     "iopub.execute_input": "2021-09-01T16:30:07.596907Z",
     "iopub.status.busy": "2021-09-01T16:30:07.595042Z",
     "iopub.status.idle": "2021-09-01T16:30:07.773791Z",
     "shell.execute_reply": "2021-09-01T16:30:07.775065Z"
    },
    "papermill": {
     "duration": 0.208222,
     "end_time": "2021-09-01T16:30:07.775469",
     "exception": false,
     "start_time": "2021-09-01T16:30:07.567247",
     "status": "completed"
    },
    "tags": []
   },
   "outputs": [],
   "source": [
    "timestamps = pd.read_sql(\"select distinct record_time from EBAY_TOP_BERLIN order by record_time desc limit 2\", sqlite3.connect(\"UsedObjects.db\"))"
   ]
  },
  {
   "cell_type": "code",
   "execution_count": 3,
   "id": "periodic-identification",
   "metadata": {
    "execution": {
     "iopub.execute_input": "2021-09-01T16:30:07.838937Z",
     "iopub.status.busy": "2021-09-01T16:30:07.836892Z",
     "iopub.status.idle": "2021-09-01T16:30:07.856821Z",
     "shell.execute_reply": "2021-09-01T16:30:07.858097Z"
    },
    "papermill": {
     "duration": 0.063427,
     "end_time": "2021-09-01T16:30:07.858500",
     "exception": false,
     "start_time": "2021-09-01T16:30:07.795073",
     "status": "completed"
    },
    "tags": []
   },
   "outputs": [
    {
     "data": {
      "text/html": [
       "<div>\n",
       "<style scoped>\n",
       "    .dataframe tbody tr th:only-of-type {\n",
       "        vertical-align: middle;\n",
       "    }\n",
       "\n",
       "    .dataframe tbody tr th {\n",
       "        vertical-align: top;\n",
       "    }\n",
       "\n",
       "    .dataframe thead th {\n",
       "        text-align: right;\n",
       "    }\n",
       "</style>\n",
       "<table border=\"1\" class=\"dataframe\">\n",
       "  <thead>\n",
       "    <tr style=\"text-align: right;\">\n",
       "      <th></th>\n",
       "      <th>RECORD_TIME</th>\n",
       "    </tr>\n",
       "  </thead>\n",
       "  <tbody>\n",
       "    <tr>\n",
       "      <th>0</th>\n",
       "      <td>2021-09-01 18:30</td>\n",
       "    </tr>\n",
       "    <tr>\n",
       "      <th>1</th>\n",
       "      <td>2021-09-01 18:00</td>\n",
       "    </tr>\n",
       "  </tbody>\n",
       "</table>\n",
       "</div>"
      ],
      "text/plain": [
       "        RECORD_TIME\n",
       "0  2021-09-01 18:30\n",
       "1  2021-09-01 18:00"
      ]
     },
     "execution_count": 3,
     "metadata": {},
     "output_type": "execute_result"
    }
   ],
   "source": [
    "timestamps"
   ]
  },
  {
   "cell_type": "code",
   "execution_count": 4,
   "id": "alternate-victory",
   "metadata": {
    "execution": {
     "iopub.execute_input": "2021-09-01T16:30:07.910642Z",
     "iopub.status.busy": "2021-09-01T16:30:07.908402Z",
     "iopub.status.idle": "2021-09-01T16:30:08.176397Z",
     "shell.execute_reply": "2021-09-01T16:30:08.177597Z"
    },
    "papermill": {
     "duration": 0.298357,
     "end_time": "2021-09-01T16:30:08.178053",
     "exception": false,
     "start_time": "2021-09-01T16:30:07.879696",
     "status": "completed"
    },
    "tags": []
   },
   "outputs": [],
   "source": [
    "df = pd.read_sql(\"select * from EBAY_TOP_BERLIN where record_time in (select distinct record_time from EBAY_TOP_BERLIN order by record_time desc limit 2)\", sqlite3.connect(\"UsedObjects.db\"))"
   ]
  },
  {
   "cell_type": "code",
   "execution_count": 5,
   "id": "popular-active",
   "metadata": {
    "execution": {
     "iopub.execute_input": "2021-09-01T16:30:08.258638Z",
     "iopub.status.busy": "2021-09-01T16:30:08.247674Z",
     "iopub.status.idle": "2021-09-01T16:30:08.274327Z",
     "shell.execute_reply": "2021-09-01T16:30:08.275774Z"
    },
    "papermill": {
     "duration": 0.070949,
     "end_time": "2021-09-01T16:30:08.276189",
     "exception": false,
     "start_time": "2021-09-01T16:30:08.205240",
     "status": "completed"
    },
    "tags": []
   },
   "outputs": [],
   "source": [
    "df_pivot = df.pivot_table(index=\"PRODUCT\", columns = \"RECORD_TIME\", values = \"LISTING_COUNT\")"
   ]
  },
  {
   "cell_type": "code",
   "execution_count": 6,
   "id": "union-huntington",
   "metadata": {
    "execution": {
     "iopub.execute_input": "2021-09-01T16:30:08.334820Z",
     "iopub.status.busy": "2021-09-01T16:30:08.332422Z",
     "iopub.status.idle": "2021-09-01T16:30:08.337798Z",
     "shell.execute_reply": "2021-09-01T16:30:08.339123Z"
    },
    "papermill": {
     "duration": 0.041914,
     "end_time": "2021-09-01T16:30:08.339530",
     "exception": false,
     "start_time": "2021-09-01T16:30:08.297616",
     "status": "completed"
    },
    "tags": []
   },
   "outputs": [],
   "source": [
    "df_pivot.columns = [\"stamp_1\", \"stamp_2\"]\n",
    "df_pivot_diff = df_pivot.diff(axis=1)"
   ]
  },
  {
   "cell_type": "code",
   "execution_count": 7,
   "id": "fifth-motion",
   "metadata": {
    "execution": {
     "iopub.execute_input": "2021-09-01T16:30:08.393129Z",
     "iopub.status.busy": "2021-09-01T16:30:08.390814Z",
     "iopub.status.idle": "2021-09-01T16:30:09.902754Z",
     "shell.execute_reply": "2021-09-01T16:30:09.904243Z"
    },
    "papermill": {
     "duration": 1.545093,
     "end_time": "2021-09-01T16:30:09.904681",
     "exception": false,
     "start_time": "2021-09-01T16:30:08.359588",
     "status": "completed"
    },
    "tags": []
   },
   "outputs": [
    {
     "data": {
      "text/plain": [
       "<AxesSubplot:ylabel='PRODUCT'>"
      ]
     },
     "execution_count": 7,
     "metadata": {},
     "output_type": "execute_result"
    },
    {
     "data": {
      "image/png": "[encoded data removed]",
      "text/plain": [
       "<Figure size 432x288 with 1 Axes>"
      ]
     },
     "metadata": {
      "needs_background": "light"
     },
     "output_type": "display_data"
    }
   ],
   "source": [
    "df_pivot_diff.sort_values(\"stamp_2\", ascending = False)[\"stamp_2\"].head(10).plot.barh()"
   ]
  },
  {
   "cell_type": "code",
   "execution_count": null,
   "id": "extra-executive",
   "metadata": {
    "papermill": {
     "duration": 0.022307,
     "end_time": "2021-09-01T16:30:09.950785",
     "exception": false,
     "start_time": "2021-09-01T16:30:09.928478",
     "status": "completed"
    },
    "tags": []
   },
   "outputs": [],
   "source": []
  }
 ],
 "metadata": {
  "kernelspec": {
   "display_name": "Python 3",
   "language": "python",
   "name": "python3"
  },
  "language_info": {
   "codemirror_mode": {
    "name": "ipython",
    "version": 3
   },
   "file_extension": ".py",
   "mimetype": "text/x-python",
   "name": "python",
   "nbconvert_exporter": "python",
   "pygments_lexer": "ipython3",
   "version": "3.9.5"
  },
  "papermill": {
   "default_parameters": {},
   "duration": 6.816499,
   "end_time": "2021-09-01T16:30:11.112515",
   "environment_variables": {},
   "exception": null,
   "input_path": "eBay_Overview.ipynb",
   "output_path": "eBay_Overview.ipynb",
   "parameters": {},
   "start_time": "2021-09-01T16:30:04.296016",
   "version": "2.3.3"
  }
 },
 "nbformat": 4,
 "nbformat_minor": 5
}