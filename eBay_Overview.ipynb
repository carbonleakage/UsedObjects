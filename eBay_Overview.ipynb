{
 "cells": [
  {
   "cell_type": "code",
   "execution_count": 1,
   "id": "reverse-picking",
   "metadata": {
    "execution": {
     "iopub.execute_input": "2021-12-11T21:00:08.637184Z",
     "iopub.status.busy": "2021-12-11T21:00:08.633886Z",
     "iopub.status.idle": "2021-12-11T21:00:09.595630Z",
     "shell.execute_reply": "2021-12-11T21:00:09.597126Z"
    },
    "papermill": {
     "duration": 1.011194,
     "end_time": "2021-12-11T21:00:09.597905",
     "exception": false,
     "start_time": "2021-12-11T21:00:08.586711",
     "status": "completed"
    },
    "tags": []
   },
   "outputs": [],
   "source": [
    "import pandas as pd\n",
    "import sqlite3"
   ]
  },
  {
   "cell_type": "code",
   "execution_count": 2,
   "id": "innovative-syndrome",
   "metadata": {
    "execution": {
     "iopub.execute_input": "2021-12-11T21:00:09.673694Z",
     "iopub.status.busy": "2021-12-11T21:00:09.670664Z",
     "iopub.status.idle": "2021-12-11T21:00:10.727872Z",
     "shell.execute_reply": "2021-12-11T21:00:10.729489Z"
    },
    "papermill": {
     "duration": 1.091804,
     "end_time": "2021-12-11T21:00:10.730020",
     "exception": false,
     "start_time": "2021-12-11T21:00:09.638216",
     "status": "completed"
    },
    "tags": []
   },
   "outputs": [],
   "source": [
    "timestamps = pd.read_sql(\"select distinct record_time from EBAY_TOP_BERLIN order by record_time desc limit 2\", sqlite3.connect(\"UsedObjects.db\"))"
   ]
  },
  {
   "cell_type": "code",
   "execution_count": 3,
   "id": "periodic-identification",
   "metadata": {
    "execution": {
     "iopub.execute_input": "2021-12-11T21:00:10.801890Z",
     "iopub.status.busy": "2021-12-11T21:00:10.799453Z",
     "iopub.status.idle": "2021-12-11T21:00:10.823697Z",
     "shell.execute_reply": "2021-12-11T21:00:10.825376Z"
    },
    "papermill": {
     "duration": 0.075424,
     "end_time": "2021-12-11T21:00:10.825904",
     "exception": false,
     "start_time": "2021-12-11T21:00:10.750480",
     "status": "completed"
    },
    "tags": []
   },
   "outputs": [
    {
     "data": {
      "text/html": [
       "<div>\n",
       "<style scoped>\n",
       "    .dataframe tbody tr th:only-of-type {\n",
       "        vertical-align: middle;\n",
       "    }\n",
       "\n",
       "    .dataframe tbody tr th {\n",
       "        vertical-align: top;\n",
       "    }\n",
       "\n",
       "    .dataframe thead th {\n",
       "        text-align: right;\n",
       "    }\n",
       "</style>\n",
       "<table border=\"1\" class=\"dataframe\">\n",
       "  <thead>\n",
       "    <tr style=\"text-align: right;\">\n",
       "      <th></th>\n",
       "      <th>RECORD_TIME</th>\n",
       "    </tr>\n",
       "  </thead>\n",
       "  <tbody>\n",
       "    <tr>\n",
       "      <th>0</th>\n",
       "      <td>2021-12-11 22:00</td>\n",
       "    </tr>\n",
       "    <tr>\n",
       "      <th>1</th>\n",
       "      <td>2021-12-11 21:30</td>\n",
       "    </tr>\n",
       "  </tbody>\n",
       "</table>\n",
       "</div>"
      ],
      "text/plain": [
       "        RECORD_TIME\n",
       "0  2021-12-11 22:00\n",
       "1  2021-12-11 21:30"
      ]
     },
     "execution_count": 3,
     "metadata": {},
     "output_type": "execute_result"
    }
   ],
   "source": [
    "timestamps"
   ]
  },
  {
   "cell_type": "code",
   "execution_count": 4,
   "id": "alternate-victory",
   "metadata": {
    "execution": {
     "iopub.execute_input": "2021-12-11T21:00:10.883648Z",
     "iopub.status.busy": "2021-12-11T21:00:10.880169Z",
     "iopub.status.idle": "2021-12-11T21:00:12.406267Z",
     "shell.execute_reply": "2021-12-11T21:00:12.407628Z"
    },
    "papermill": {
     "duration": 1.56057,
     "end_time": "2021-12-11T21:00:12.408108",
     "exception": false,
     "start_time": "2021-12-11T21:00:10.847538",
     "status": "completed"
    },
    "tags": []
   },
   "outputs": [],
   "source": [
    "df = pd.read_sql(\"select * from EBAY_TOP_BERLIN where record_time in (select distinct record_time from EBAY_TOP_BERLIN order by record_time desc limit 2)\", sqlite3.connect(\"UsedObjects.db\"))"
   ]
  },
  {
   "cell_type": "code",
   "execution_count": 5,
   "id": "popular-active",
   "metadata": {
    "execution": {
     "iopub.execute_input": "2021-12-11T21:00:12.483780Z",
     "iopub.status.busy": "2021-12-11T21:00:12.470665Z",
     "iopub.status.idle": "2021-12-11T21:00:12.501367Z",
     "shell.execute_reply": "2021-12-11T21:00:12.503043Z"
    },
    "papermill": {
     "duration": 0.074932,
     "end_time": "2021-12-11T21:00:12.503548",
     "exception": false,
     "start_time": "2021-12-11T21:00:12.428616",
     "status": "completed"
    },
    "tags": []
   },
   "outputs": [],
   "source": [
    "df_pivot = df.pivot_table(index=\"PRODUCT\", columns = \"RECORD_TIME\", values = \"LISTING_COUNT\")"
   ]
  },
  {
   "cell_type": "code",
   "execution_count": 6,
   "id": "union-huntington",
   "metadata": {
    "execution": {
     "iopub.execute_input": "2021-12-11T21:00:12.566780Z",
     "iopub.status.busy": "2021-12-11T21:00:12.564504Z",
     "iopub.status.idle": "2021-12-11T21:00:12.570311Z",
     "shell.execute_reply": "2021-12-11T21:00:12.571906Z"
    },
    "papermill": {
     "duration": 0.045895,
     "end_time": "2021-12-11T21:00:12.572390",
     "exception": false,
     "start_time": "2021-12-11T21:00:12.526495",
     "status": "completed"
    },
    "tags": []
   },
   "outputs": [],
   "source": [
    "df_pivot.columns = [\"stamp_1\", \"stamp_2\"]\n",
    "df_pivot_diff = df_pivot.diff(axis=1)"
   ]
  },
  {
   "cell_type": "code",
   "execution_count": 7,
   "id": "fifth-motion",
   "metadata": {
    "execution": {
     "iopub.execute_input": "2021-12-11T21:00:12.646114Z",
     "iopub.status.busy": "2021-12-11T21:00:12.641277Z",
     "iopub.status.idle": "2021-12-11T21:00:14.603520Z",
     "shell.execute_reply": "2021-12-11T21:00:14.604884Z"
    },
    "papermill": {
     "duration": 2.000243,
     "end_time": "2021-12-11T21:00:14.605357",
     "exception": false,
     "start_time": "2021-12-11T21:00:12.605114",
     "status": "completed"
    },
    "tags": []
   },
   "outputs": [
    {
     "data": {
      "text/plain": [
       "<AxesSubplot:ylabel='PRODUCT'>"
      ]
     },
     "execution_count": 7,
     "metadata": {},
     "output_type": "execute_result"
    },
    {
     "data": {
      "image/png": "[encoded data removed]",
      "text/plain": [
       "<Figure size 432x288 with 1 Axes>"
      ]
     },
     "metadata": {
      "needs_background": "light"
     },
     "output_type": "display_data"
    }
   ],
   "source": [
    "df_pivot_diff.sort_values(\"stamp_2\", ascending = False)[\"stamp_2\"].head(10).plot.barh()"
   ]
  },
  {
   "cell_type": "code",
   "execution_count": null,
   "id": "extra-executive",
   "metadata": {
    "papermill": {
     "duration": 0.029755,
     "end_time": "2021-12-11T21:00:14.672464",
     "exception": false,
     "start_time": "2021-12-11T21:00:14.642709",
     "status": "completed"
    },
    "tags": []
   },
   "outputs": [],
   "source": []
  }
 ],
 "metadata": {
  "kernelspec": {
   "display_name": "Python 3",
   "language": "python",
   "name": "python3"
  },
  "language_info": {
   "codemirror_mode": {
    "name": "ipython",
    "version": 3
   },
   "file_extension": ".py",
   "mimetype": "text/x-python",
   "name": "python",
   "nbconvert_exporter": "python",
   "pygments_lexer": "ipython3",
   "version": "3.9.5"
  },
  "papermill": {
   "default_parameters": {},
   "duration": 9.477633,
   "end_time": "2021-12-11T21:00:15.317306",
   "environment_variables": {},
   "exception": null,
   "input_path": "eBay_Overview.ipynb",
   "output_path": "eBay_Overview.ipynb",
   "parameters": {},
   "start_time": "2021-12-11T21:00:05.839673",
   "version": "2.3.3"
  }
 },
 "nbformat": 4,
 "nbformat_minor": 5
}