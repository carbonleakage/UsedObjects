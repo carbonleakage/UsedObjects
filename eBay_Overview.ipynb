{
 "cells": [
  {
   "cell_type": "code",
   "execution_count": 1,
   "id": "reverse-picking",
   "metadata": {
    "execution": {
     "iopub.execute_input": "2021-12-09T06:00:07.365866Z",
     "iopub.status.busy": "2021-12-09T06:00:07.363396Z",
     "iopub.status.idle": "2021-12-09T06:00:08.331718Z",
     "shell.execute_reply": "2021-12-09T06:00:08.334436Z"
    },
    "papermill": {
     "duration": 1.018531,
     "end_time": "2021-12-09T06:00:08.335354",
     "exception": false,
     "start_time": "2021-12-09T06:00:07.316823",
     "status": "completed"
    },
    "tags": []
   },
   "outputs": [],
   "source": [
    "import pandas as pd\n",
    "import sqlite3"
   ]
  },
  {
   "cell_type": "code",
   "execution_count": 2,
   "id": "innovative-syndrome",
   "metadata": {
    "execution": {
     "iopub.execute_input": "2021-12-09T06:00:08.391877Z",
     "iopub.status.busy": "2021-12-09T06:00:08.389620Z",
     "iopub.status.idle": "2021-12-09T06:00:09.399020Z",
     "shell.execute_reply": "2021-12-09T06:00:09.400476Z"
    },
    "papermill": {
     "duration": 1.043771,
     "end_time": "2021-12-09T06:00:09.400993",
     "exception": false,
     "start_time": "2021-12-09T06:00:08.357222",
     "status": "completed"
    },
    "tags": []
   },
   "outputs": [],
   "source": [
    "timestamps = pd.read_sql(\"select distinct record_time from EBAY_TOP_BERLIN order by record_time desc limit 2\", sqlite3.connect(\"UsedObjects.db\"))"
   ]
  },
  {
   "cell_type": "code",
   "execution_count": 3,
   "id": "periodic-identification",
   "metadata": {
    "execution": {
     "iopub.execute_input": "2021-12-09T06:00:09.474314Z",
     "iopub.status.busy": "2021-12-09T06:00:09.468603Z",
     "iopub.status.idle": "2021-12-09T06:00:09.494158Z",
     "shell.execute_reply": "2021-12-09T06:00:09.495918Z"
    },
    "papermill": {
     "duration": 0.075621,
     "end_time": "2021-12-09T06:00:09.496499",
     "exception": false,
     "start_time": "2021-12-09T06:00:09.420878",
     "status": "completed"
    },
    "tags": []
   },
   "outputs": [
    {
     "data": {
      "text/html": [
       "<div>\n",
       "<style scoped>\n",
       "    .dataframe tbody tr th:only-of-type {\n",
       "        vertical-align: middle;\n",
       "    }\n",
       "\n",
       "    .dataframe tbody tr th {\n",
       "        vertical-align: top;\n",
       "    }\n",
       "\n",
       "    .dataframe thead th {\n",
       "        text-align: right;\n",
       "    }\n",
       "</style>\n",
       "<table border=\"1\" class=\"dataframe\">\n",
       "  <thead>\n",
       "    <tr style=\"text-align: right;\">\n",
       "      <th></th>\n",
       "      <th>RECORD_TIME</th>\n",
       "    </tr>\n",
       "  </thead>\n",
       "  <tbody>\n",
       "    <tr>\n",
       "      <th>0</th>\n",
       "      <td>2021-12-09 07:00</td>\n",
       "    </tr>\n",
       "    <tr>\n",
       "      <th>1</th>\n",
       "      <td>2021-12-09 06:30</td>\n",
       "    </tr>\n",
       "  </tbody>\n",
       "</table>\n",
       "</div>"
      ],
      "text/plain": [
       "        RECORD_TIME\n",
       "0  2021-12-09 07:00\n",
       "1  2021-12-09 06:30"
      ]
     },
     "execution_count": 3,
     "metadata": {},
     "output_type": "execute_result"
    }
   ],
   "source": [
    "timestamps"
   ]
  },
  {
   "cell_type": "code",
   "execution_count": 4,
   "id": "alternate-victory",
   "metadata": {
    "execution": {
     "iopub.execute_input": "2021-12-09T06:00:09.578770Z",
     "iopub.status.busy": "2021-12-09T06:00:09.576566Z",
     "iopub.status.idle": "2021-12-09T06:00:11.056448Z",
     "shell.execute_reply": "2021-12-09T06:00:11.059095Z"
    },
    "papermill": {
     "duration": 1.529508,
     "end_time": "2021-12-09T06:00:11.059886",
     "exception": false,
     "start_time": "2021-12-09T06:00:09.530378",
     "status": "completed"
    },
    "tags": []
   },
   "outputs": [],
   "source": [
    "df = pd.read_sql(\"select * from EBAY_TOP_BERLIN where record_time in (select distinct record_time from EBAY_TOP_BERLIN order by record_time desc limit 2)\", sqlite3.connect(\"UsedObjects.db\"))"
   ]
  },
  {
   "cell_type": "code",
   "execution_count": 5,
   "id": "popular-active",
   "metadata": {
    "execution": {
     "iopub.execute_input": "2021-12-09T06:00:11.172120Z",
     "iopub.status.busy": "2021-12-09T06:00:11.154341Z",
     "iopub.status.idle": "2021-12-09T06:00:11.216353Z",
     "shell.execute_reply": "2021-12-09T06:00:11.213370Z"
    },
    "papermill": {
     "duration": 0.12564,
     "end_time": "2021-12-09T06:00:11.217197",
     "exception": false,
     "start_time": "2021-12-09T06:00:11.091557",
     "status": "completed"
    },
    "tags": []
   },
   "outputs": [],
   "source": [
    "df_pivot = df.pivot_table(index=\"PRODUCT\", columns = \"RECORD_TIME\", values = \"LISTING_COUNT\")"
   ]
  },
  {
   "cell_type": "code",
   "execution_count": 6,
   "id": "union-huntington",
   "metadata": {
    "execution": {
     "iopub.execute_input": "2021-12-09T06:00:11.313202Z",
     "iopub.status.busy": "2021-12-09T06:00:11.309769Z",
     "iopub.status.idle": "2021-12-09T06:00:11.319455Z",
     "shell.execute_reply": "2021-12-09T06:00:11.321964Z"
    },
    "papermill": {
     "duration": 0.071936,
     "end_time": "2021-12-09T06:00:11.322780",
     "exception": false,
     "start_time": "2021-12-09T06:00:11.250844",
     "status": "completed"
    },
    "tags": []
   },
   "outputs": [],
   "source": [
    "df_pivot.columns = [\"stamp_1\", \"stamp_2\"]\n",
    "df_pivot_diff = df_pivot.diff(axis=1)"
   ]
  },
  {
   "cell_type": "code",
   "execution_count": 7,
   "id": "fifth-motion",
   "metadata": {
    "execution": {
     "iopub.execute_input": "2021-12-09T06:00:11.402108Z",
     "iopub.status.busy": "2021-12-09T06:00:11.397524Z",
     "iopub.status.idle": "2021-12-09T06:00:13.153554Z",
     "shell.execute_reply": "2021-12-09T06:00:13.154860Z"
    },
    "papermill": {
     "duration": 1.80591,
     "end_time": "2021-12-09T06:00:13.155278",
     "exception": false,
     "start_time": "2021-12-09T06:00:11.349368",
     "status": "completed"
    },
    "tags": []
   },
   "outputs": [
    {
     "data": {
      "text/plain": [
       "<AxesSubplot:ylabel='PRODUCT'>"
      ]
     },
     "execution_count": 7,
     "metadata": {},
     "output_type": "execute_result"
    },
    {
     "data": {
      "image/png": "[encoded data removed]",
      "text/plain": [
       "<Figure size 432x288 with 1 Axes>"
      ]
     },
     "metadata": {
      "needs_background": "light"
     },
     "output_type": "display_data"
    }
   ],
   "source": [
    "df_pivot_diff.sort_values(\"stamp_2\", ascending = False)[\"stamp_2\"].head(10).plot.barh()"
   ]
  },
  {
   "cell_type": "code",
   "execution_count": null,
   "id": "extra-executive",
   "metadata": {
    "papermill": {
     "duration": 0.021948,
     "end_time": "2021-12-09T06:00:13.201708",
     "exception": false,
     "start_time": "2021-12-09T06:00:13.179760",
     "status": "completed"
    },
    "tags": []
   },
   "outputs": [],
   "source": []
  }
 ],
 "metadata": {
  "kernelspec": {
   "display_name": "Python 3",
   "language": "python",
   "name": "python3"
  },
  "language_info": {
   "codemirror_mode": {
    "name": "ipython",
    "version": 3
   },
   "file_extension": ".py",
   "mimetype": "text/x-python",
   "name": "python",
   "nbconvert_exporter": "python",
   "pygments_lexer": "ipython3",
   "version": "3.9.5"
  },
  "papermill": {
   "default_parameters": {},
   "duration": 9.961256,
   "end_time": "2021-12-09T06:00:14.521401",
   "environment_variables": {},
   "exception": null,
   "input_path": "eBay_Overview.ipynb",
   "output_path": "eBay_Overview.ipynb",
   "parameters": {},
   "start_time": "2021-12-09T06:00:04.560145",
   "version": "2.3.3"
  }
 },
 "nbformat": 4,
 "nbformat_minor": 5
}