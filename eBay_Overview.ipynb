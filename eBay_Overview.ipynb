{
 "cells": [
  {
   "cell_type": "code",
   "execution_count": 1,
   "id": "reverse-picking",
   "metadata": {
    "execution": {
     "iopub.execute_input": "2021-11-08T10:30:07.298039Z",
     "iopub.status.busy": "2021-11-08T10:30:07.295557Z",
     "iopub.status.idle": "2021-11-08T10:30:08.254794Z",
     "shell.execute_reply": "2021-11-08T10:30:08.256311Z"
    },
    "papermill": {
     "duration": 1.008728,
     "end_time": "2021-11-08T10:30:08.257107",
     "exception": false,
     "start_time": "2021-11-08T10:30:07.248379",
     "status": "completed"
    },
    "tags": []
   },
   "outputs": [],
   "source": [
    "import pandas as pd\n",
    "import sqlite3"
   ]
  },
  {
   "cell_type": "code",
   "execution_count": 2,
   "id": "innovative-syndrome",
   "metadata": {
    "execution": {
     "iopub.execute_input": "2021-11-08T10:30:08.322202Z",
     "iopub.status.busy": "2021-11-08T10:30:08.319692Z",
     "iopub.status.idle": "2021-11-08T10:30:09.063719Z",
     "shell.execute_reply": "2021-11-08T10:30:09.065205Z"
    },
    "papermill": {
     "duration": 0.779125,
     "end_time": "2021-11-08T10:30:09.065714",
     "exception": false,
     "start_time": "2021-11-08T10:30:08.286589",
     "status": "completed"
    },
    "tags": []
   },
   "outputs": [],
   "source": [
    "timestamps = pd.read_sql(\"select distinct record_time from EBAY_TOP_BERLIN order by record_time desc limit 2\", sqlite3.connect(\"UsedObjects.db\"))"
   ]
  },
  {
   "cell_type": "code",
   "execution_count": 3,
   "id": "periodic-identification",
   "metadata": {
    "execution": {
     "iopub.execute_input": "2021-11-08T10:30:09.142701Z",
     "iopub.status.busy": "2021-11-08T10:30:09.136777Z",
     "iopub.status.idle": "2021-11-08T10:30:09.162238Z",
     "shell.execute_reply": "2021-11-08T10:30:09.163754Z"
    },
    "papermill": {
     "duration": 0.078027,
     "end_time": "2021-11-08T10:30:09.164311",
     "exception": false,
     "start_time": "2021-11-08T10:30:09.086284",
     "status": "completed"
    },
    "tags": []
   },
   "outputs": [
    {
     "data": {
      "text/html": [
       "<div>\n",
       "<style scoped>\n",
       "    .dataframe tbody tr th:only-of-type {\n",
       "        vertical-align: middle;\n",
       "    }\n",
       "\n",
       "    .dataframe tbody tr th {\n",
       "        vertical-align: top;\n",
       "    }\n",
       "\n",
       "    .dataframe thead th {\n",
       "        text-align: right;\n",
       "    }\n",
       "</style>\n",
       "<table border=\"1\" class=\"dataframe\">\n",
       "  <thead>\n",
       "    <tr style=\"text-align: right;\">\n",
       "      <th></th>\n",
       "      <th>RECORD_TIME</th>\n",
       "    </tr>\n",
       "  </thead>\n",
       "  <tbody>\n",
       "    <tr>\n",
       "      <th>0</th>\n",
       "      <td>2021-11-08 11:30</td>\n",
       "    </tr>\n",
       "    <tr>\n",
       "      <th>1</th>\n",
       "      <td>2021-11-08 11:00</td>\n",
       "    </tr>\n",
       "  </tbody>\n",
       "</table>\n",
       "</div>"
      ],
      "text/plain": [
       "        RECORD_TIME\n",
       "0  2021-11-08 11:30\n",
       "1  2021-11-08 11:00"
      ]
     },
     "execution_count": 3,
     "metadata": {},
     "output_type": "execute_result"
    }
   ],
   "source": [
    "timestamps"
   ]
  },
  {
   "cell_type": "code",
   "execution_count": 4,
   "id": "alternate-victory",
   "metadata": {
    "execution": {
     "iopub.execute_input": "2021-11-08T10:30:09.221422Z",
     "iopub.status.busy": "2021-11-08T10:30:09.218611Z",
     "iopub.status.idle": "2021-11-08T10:30:10.318420Z",
     "shell.execute_reply": "2021-11-08T10:30:10.319706Z"
    },
    "papermill": {
     "duration": 1.134343,
     "end_time": "2021-11-08T10:30:10.320163",
     "exception": false,
     "start_time": "2021-11-08T10:30:09.185820",
     "status": "completed"
    },
    "tags": []
   },
   "outputs": [],
   "source": [
    "df = pd.read_sql(\"select * from EBAY_TOP_BERLIN where record_time in (select distinct record_time from EBAY_TOP_BERLIN order by record_time desc limit 2)\", sqlite3.connect(\"UsedObjects.db\"))"
   ]
  },
  {
   "cell_type": "code",
   "execution_count": 5,
   "id": "popular-active",
   "metadata": {
    "execution": {
     "iopub.execute_input": "2021-11-08T10:30:10.395445Z",
     "iopub.status.busy": "2021-11-08T10:30:10.381434Z",
     "iopub.status.idle": "2021-11-08T10:30:10.414707Z",
     "shell.execute_reply": "2021-11-08T10:30:10.415995Z"
    },
    "papermill": {
     "duration": 0.075288,
     "end_time": "2021-11-08T10:30:10.416444",
     "exception": false,
     "start_time": "2021-11-08T10:30:10.341156",
     "status": "completed"
    },
    "tags": []
   },
   "outputs": [],
   "source": [
    "df_pivot = df.pivot_table(index=\"PRODUCT\", columns = \"RECORD_TIME\", values = \"LISTING_COUNT\")"
   ]
  },
  {
   "cell_type": "code",
   "execution_count": 6,
   "id": "union-huntington",
   "metadata": {
    "execution": {
     "iopub.execute_input": "2021-11-08T10:30:10.478513Z",
     "iopub.status.busy": "2021-11-08T10:30:10.476601Z",
     "iopub.status.idle": "2021-11-08T10:30:10.487247Z",
     "shell.execute_reply": "2021-11-08T10:30:10.488932Z"
    },
    "papermill": {
     "duration": 0.048755,
     "end_time": "2021-11-08T10:30:10.489410",
     "exception": false,
     "start_time": "2021-11-08T10:30:10.440655",
     "status": "completed"
    },
    "tags": []
   },
   "outputs": [],
   "source": [
    "df_pivot.columns = [\"stamp_1\", \"stamp_2\"]\n",
    "df_pivot_diff = df_pivot.diff(axis=1)"
   ]
  },
  {
   "cell_type": "code",
   "execution_count": 7,
   "id": "fifth-motion",
   "metadata": {
    "execution": {
     "iopub.execute_input": "2021-11-08T10:30:10.543645Z",
     "iopub.status.busy": "2021-11-08T10:30:10.540589Z",
     "iopub.status.idle": "2021-11-08T10:30:12.318044Z",
     "shell.execute_reply": "2021-11-08T10:30:12.319450Z"
    },
    "papermill": {
     "duration": 1.810601,
     "end_time": "2021-11-08T10:30:12.319936",
     "exception": false,
     "start_time": "2021-11-08T10:30:10.509335",
     "status": "completed"
    },
    "tags": []
   },
   "outputs": [
    {
     "data": {
      "text/plain": [
       "<AxesSubplot:ylabel='PRODUCT'>"
      ]
     },
     "execution_count": 7,
     "metadata": {},
     "output_type": "execute_result"
    },
    {
     "data": {
      "image/png": "[encoded data removed]",
      "text/plain": [
       "<Figure size 432x288 with 1 Axes>"
      ]
     },
     "metadata": {
      "needs_background": "light"
     },
     "output_type": "display_data"
    }
   ],
   "source": [
    "df_pivot_diff.sort_values(\"stamp_2\", ascending = False)[\"stamp_2\"].head(10).plot.barh()"
   ]
  },
  {
   "cell_type": "code",
   "execution_count": null,
   "id": "extra-executive",
   "metadata": {
    "papermill": {
     "duration": 0.024835,
     "end_time": "2021-11-08T10:30:12.369970",
     "exception": false,
     "start_time": "2021-11-08T10:30:12.345135",
     "status": "completed"
    },
    "tags": []
   },
   "outputs": [],
   "source": []
  }
 ],
 "metadata": {
  "kernelspec": {
   "display_name": "Python 3",
   "language": "python",
   "name": "python3"
  },
  "language_info": {
   "codemirror_mode": {
    "name": "ipython",
    "version": 3
   },
   "file_extension": ".py",
   "mimetype": "text/x-python",
   "name": "python",
   "nbconvert_exporter": "python",
   "pygments_lexer": "ipython3",
   "version": "3.9.5"
  },
  "papermill": {
   "default_parameters": {},
   "duration": 8.703221,
   "end_time": "2021-11-08T10:30:13.121393",
   "environment_variables": {},
   "exception": null,
   "input_path": "eBay_Overview.ipynb",
   "output_path": "eBay_Overview.ipynb",
   "parameters": {},
   "start_time": "2021-11-08T10:30:04.418172",
   "version": "2.3.3"
  }
 },
 "nbformat": 4,
 "nbformat_minor": 5
}