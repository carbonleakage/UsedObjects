{
 "cells": [
  {
   "cell_type": "code",
   "execution_count": 1,
   "id": "reverse-picking",
   "metadata": {
    "execution": {
     "iopub.execute_input": "2021-10-12T22:00:07.288341Z",
     "iopub.status.busy": "2021-10-12T22:00:07.286407Z",
     "iopub.status.idle": "2021-10-12T22:00:08.088242Z",
     "shell.execute_reply": "2021-10-12T22:00:08.089719Z"
    },
    "papermill": {
     "duration": 0.853673,
     "end_time": "2021-10-12T22:00:08.090482",
     "exception": false,
     "start_time": "2021-10-12T22:00:07.236809",
     "status": "completed"
    },
    "tags": []
   },
   "outputs": [],
   "source": [
    "import pandas as pd\n",
    "import sqlite3"
   ]
  },
  {
   "cell_type": "code",
   "execution_count": 2,
   "id": "innovative-syndrome",
   "metadata": {
    "execution": {
     "iopub.execute_input": "2021-10-12T22:00:08.142057Z",
     "iopub.status.busy": "2021-10-12T22:00:08.139650Z",
     "iopub.status.idle": "2021-10-12T22:00:08.671982Z",
     "shell.execute_reply": "2021-10-12T22:00:08.673244Z"
    },
    "papermill": {
     "duration": 0.562072,
     "end_time": "2021-10-12T22:00:08.673637",
     "exception": false,
     "start_time": "2021-10-12T22:00:08.111565",
     "status": "completed"
    },
    "tags": []
   },
   "outputs": [],
   "source": [
    "timestamps = pd.read_sql(\"select distinct record_time from EBAY_TOP_BERLIN order by record_time desc limit 2\", sqlite3.connect(\"UsedObjects.db\"))"
   ]
  },
  {
   "cell_type": "code",
   "execution_count": 3,
   "id": "periodic-identification",
   "metadata": {
    "execution": {
     "iopub.execute_input": "2021-10-12T22:00:08.735995Z",
     "iopub.status.busy": "2021-10-12T22:00:08.733968Z",
     "iopub.status.idle": "2021-10-12T22:00:08.753572Z",
     "shell.execute_reply": "2021-10-12T22:00:08.754859Z"
    },
    "papermill": {
     "duration": 0.062505,
     "end_time": "2021-10-12T22:00:08.755250",
     "exception": false,
     "start_time": "2021-10-12T22:00:08.692745",
     "status": "completed"
    },
    "tags": []
   },
   "outputs": [
    {
     "data": {
      "text/html": [
       "<div>\n",
       "<style scoped>\n",
       "    .dataframe tbody tr th:only-of-type {\n",
       "        vertical-align: middle;\n",
       "    }\n",
       "\n",
       "    .dataframe tbody tr th {\n",
       "        vertical-align: top;\n",
       "    }\n",
       "\n",
       "    .dataframe thead th {\n",
       "        text-align: right;\n",
       "    }\n",
       "</style>\n",
       "<table border=\"1\" class=\"dataframe\">\n",
       "  <thead>\n",
       "    <tr style=\"text-align: right;\">\n",
       "      <th></th>\n",
       "      <th>RECORD_TIME</th>\n",
       "    </tr>\n",
       "  </thead>\n",
       "  <tbody>\n",
       "    <tr>\n",
       "      <th>0</th>\n",
       "      <td>2021-10-13 00:00</td>\n",
       "    </tr>\n",
       "    <tr>\n",
       "      <th>1</th>\n",
       "      <td>2021-10-12 23:30</td>\n",
       "    </tr>\n",
       "  </tbody>\n",
       "</table>\n",
       "</div>"
      ],
      "text/plain": [
       "        RECORD_TIME\n",
       "0  2021-10-13 00:00\n",
       "1  2021-10-12 23:30"
      ]
     },
     "execution_count": 3,
     "metadata": {},
     "output_type": "execute_result"
    }
   ],
   "source": [
    "timestamps"
   ]
  },
  {
   "cell_type": "code",
   "execution_count": 4,
   "id": "alternate-victory",
   "metadata": {
    "execution": {
     "iopub.execute_input": "2021-10-12T22:00:08.819374Z",
     "iopub.status.busy": "2021-10-12T22:00:08.817135Z",
     "iopub.status.idle": "2021-10-12T22:00:09.602577Z",
     "shell.execute_reply": "2021-10-12T22:00:09.603771Z"
    },
    "papermill": {
     "duration": 0.819585,
     "end_time": "2021-10-12T22:00:09.604156",
     "exception": false,
     "start_time": "2021-10-12T22:00:08.784571",
     "status": "completed"
    },
    "tags": []
   },
   "outputs": [],
   "source": [
    "df = pd.read_sql(\"select * from EBAY_TOP_BERLIN where record_time in (select distinct record_time from EBAY_TOP_BERLIN order by record_time desc limit 2)\", sqlite3.connect(\"UsedObjects.db\"))"
   ]
  },
  {
   "cell_type": "code",
   "execution_count": 5,
   "id": "popular-active",
   "metadata": {
    "execution": {
     "iopub.execute_input": "2021-10-12T22:00:09.674684Z",
     "iopub.status.busy": "2021-10-12T22:00:09.663567Z",
     "iopub.status.idle": "2021-10-12T22:00:09.690594Z",
     "shell.execute_reply": "2021-10-12T22:00:09.691795Z"
    },
    "papermill": {
     "duration": 0.067833,
     "end_time": "2021-10-12T22:00:09.692183",
     "exception": false,
     "start_time": "2021-10-12T22:00:09.624350",
     "status": "completed"
    },
    "tags": []
   },
   "outputs": [],
   "source": [
    "df_pivot = df.pivot_table(index=\"PRODUCT\", columns = \"RECORD_TIME\", values = \"LISTING_COUNT\")"
   ]
  },
  {
   "cell_type": "code",
   "execution_count": 6,
   "id": "union-huntington",
   "metadata": {
    "execution": {
     "iopub.execute_input": "2021-10-12T22:00:09.747290Z",
     "iopub.status.busy": "2021-10-12T22:00:09.745253Z",
     "iopub.status.idle": "2021-10-12T22:00:09.750493Z",
     "shell.execute_reply": "2021-10-12T22:00:09.751654Z"
    },
    "papermill": {
     "duration": 0.039606,
     "end_time": "2021-10-12T22:00:09.752068",
     "exception": false,
     "start_time": "2021-10-12T22:00:09.712462",
     "status": "completed"
    },
    "tags": []
   },
   "outputs": [],
   "source": [
    "df_pivot.columns = [\"stamp_1\", \"stamp_2\"]\n",
    "df_pivot_diff = df_pivot.diff(axis=1)"
   ]
  },
  {
   "cell_type": "code",
   "execution_count": 7,
   "id": "fifth-motion",
   "metadata": {
    "execution": {
     "iopub.execute_input": "2021-10-12T22:00:09.805471Z",
     "iopub.status.busy": "2021-10-12T22:00:09.802890Z",
     "iopub.status.idle": "2021-10-12T22:00:11.312103Z",
     "shell.execute_reply": "2021-10-12T22:00:11.313569Z"
    },
    "papermill": {
     "duration": 1.541957,
     "end_time": "2021-10-12T22:00:11.314019",
     "exception": false,
     "start_time": "2021-10-12T22:00:09.772062",
     "status": "completed"
    },
    "tags": []
   },
   "outputs": [
    {
     "data": {
      "text/plain": [
       "<AxesSubplot:ylabel='PRODUCT'>"
      ]
     },
     "execution_count": 7,
     "metadata": {},
     "output_type": "execute_result"
    },
    {
     "data": {
      "image/png": "[encoded data removed]",
      "text/plain": [
       "<Figure size 432x288 with 1 Axes>"
      ]
     },
     "metadata": {
      "needs_background": "light"
     },
     "output_type": "display_data"
    }
   ],
   "source": [
    "df_pivot_diff.sort_values(\"stamp_2\", ascending = False)[\"stamp_2\"].head(10).plot.barh()"
   ]
  },
  {
   "cell_type": "code",
   "execution_count": null,
   "id": "extra-executive",
   "metadata": {
    "papermill": {
     "duration": 0.021947,
     "end_time": "2021-10-12T22:00:11.359627",
     "exception": false,
     "start_time": "2021-10-12T22:00:11.337680",
     "status": "completed"
    },
    "tags": []
   },
   "outputs": [],
   "source": []
  }
 ],
 "metadata": {
  "kernelspec": {
   "display_name": "Python 3",
   "language": "python",
   "name": "python3"
  },
  "language_info": {
   "codemirror_mode": {
    "name": "ipython",
    "version": 3
   },
   "file_extension": ".py",
   "mimetype": "text/x-python",
   "name": "python",
   "nbconvert_exporter": "python",
   "pygments_lexer": "ipython3",
   "version": "3.9.5"
  },
  "papermill": {
   "default_parameters": {},
   "duration": 7.81982,
   "end_time": "2021-10-12T22:00:12.652923",
   "environment_variables": {},
   "exception": null,
   "input_path": "eBay_Overview.ipynb",
   "output_path": "eBay_Overview.ipynb",
   "parameters": {},
   "start_time": "2021-10-12T22:00:04.833103",
   "version": "2.3.3"
  }
 },
 "nbformat": 4,
 "nbformat_minor": 5
}