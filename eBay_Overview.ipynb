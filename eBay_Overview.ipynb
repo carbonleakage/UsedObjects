{
 "cells": [
  {
   "cell_type": "code",
   "execution_count": 1,
   "id": "reverse-picking",
   "metadata": {
    "execution": {
     "iopub.execute_input": "2021-12-03T04:00:07.805277Z",
     "iopub.status.busy": "2021-12-03T04:00:07.802883Z",
     "iopub.status.idle": "2021-12-03T04:00:08.773764Z",
     "shell.execute_reply": "2021-12-03T04:00:08.776229Z"
    },
    "papermill": {
     "duration": 1.021935,
     "end_time": "2021-12-03T04:00:08.777013",
     "exception": false,
     "start_time": "2021-12-03T04:00:07.755078",
     "status": "completed"
    },
    "tags": []
   },
   "outputs": [],
   "source": [
    "import pandas as pd\n",
    "import sqlite3"
   ]
  },
  {
   "cell_type": "code",
   "execution_count": 2,
   "id": "innovative-syndrome",
   "metadata": {
    "execution": {
     "iopub.execute_input": "2021-12-03T04:00:08.894632Z",
     "iopub.status.busy": "2021-12-03T04:00:08.892370Z",
     "iopub.status.idle": "2021-12-03T04:00:09.859002Z",
     "shell.execute_reply": "2021-12-03T04:00:09.861156Z"
    },
    "papermill": {
     "duration": 1.000774,
     "end_time": "2021-12-03T04:00:09.861701",
     "exception": false,
     "start_time": "2021-12-03T04:00:08.860927",
     "status": "completed"
    },
    "tags": []
   },
   "outputs": [],
   "source": [
    "timestamps = pd.read_sql(\"select distinct record_time from EBAY_TOP_BERLIN order by record_time desc limit 2\", sqlite3.connect(\"UsedObjects.db\"))"
   ]
  },
  {
   "cell_type": "code",
   "execution_count": 3,
   "id": "periodic-identification",
   "metadata": {
    "execution": {
     "iopub.execute_input": "2021-12-03T04:00:09.935990Z",
     "iopub.status.busy": "2021-12-03T04:00:09.933680Z",
     "iopub.status.idle": "2021-12-03T04:00:09.956609Z",
     "shell.execute_reply": "2021-12-03T04:00:09.958096Z"
    },
    "papermill": {
     "duration": 0.075133,
     "end_time": "2021-12-03T04:00:09.958586",
     "exception": false,
     "start_time": "2021-12-03T04:00:09.883453",
     "status": "completed"
    },
    "tags": []
   },
   "outputs": [
    {
     "data": {
      "text/html": [
       "<div>\n",
       "<style scoped>\n",
       "    .dataframe tbody tr th:only-of-type {\n",
       "        vertical-align: middle;\n",
       "    }\n",
       "\n",
       "    .dataframe tbody tr th {\n",
       "        vertical-align: top;\n",
       "    }\n",
       "\n",
       "    .dataframe thead th {\n",
       "        text-align: right;\n",
       "    }\n",
       "</style>\n",
       "<table border=\"1\" class=\"dataframe\">\n",
       "  <thead>\n",
       "    <tr style=\"text-align: right;\">\n",
       "      <th></th>\n",
       "      <th>RECORD_TIME</th>\n",
       "    </tr>\n",
       "  </thead>\n",
       "  <tbody>\n",
       "    <tr>\n",
       "      <th>0</th>\n",
       "      <td>2021-12-03 05:00</td>\n",
       "    </tr>\n",
       "    <tr>\n",
       "      <th>1</th>\n",
       "      <td>2021-12-03 04:30</td>\n",
       "    </tr>\n",
       "  </tbody>\n",
       "</table>\n",
       "</div>"
      ],
      "text/plain": [
       "        RECORD_TIME\n",
       "0  2021-12-03 05:00\n",
       "1  2021-12-03 04:30"
      ]
     },
     "execution_count": 3,
     "metadata": {},
     "output_type": "execute_result"
    }
   ],
   "source": [
    "timestamps"
   ]
  },
  {
   "cell_type": "code",
   "execution_count": 4,
   "id": "alternate-victory",
   "metadata": {
    "execution": {
     "iopub.execute_input": "2021-12-03T04:00:10.013476Z",
     "iopub.status.busy": "2021-12-03T04:00:10.011193Z",
     "iopub.status.idle": "2021-12-03T04:00:11.428433Z",
     "shell.execute_reply": "2021-12-03T04:00:11.430143Z"
    },
    "papermill": {
     "duration": 1.451004,
     "end_time": "2021-12-03T04:00:11.430648",
     "exception": false,
     "start_time": "2021-12-03T04:00:09.979644",
     "status": "completed"
    },
    "tags": []
   },
   "outputs": [],
   "source": [
    "df = pd.read_sql(\"select * from EBAY_TOP_BERLIN where record_time in (select distinct record_time from EBAY_TOP_BERLIN order by record_time desc limit 2)\", sqlite3.connect(\"UsedObjects.db\"))"
   ]
  },
  {
   "cell_type": "code",
   "execution_count": 5,
   "id": "popular-active",
   "metadata": {
    "execution": {
     "iopub.execute_input": "2021-12-03T04:00:11.495997Z",
     "iopub.status.busy": "2021-12-03T04:00:11.493374Z",
     "iopub.status.idle": "2021-12-03T04:00:11.526979Z",
     "shell.execute_reply": "2021-12-03T04:00:11.525521Z"
    },
    "papermill": {
     "duration": 0.074738,
     "end_time": "2021-12-03T04:00:11.527384",
     "exception": false,
     "start_time": "2021-12-03T04:00:11.452646",
     "status": "completed"
    },
    "tags": []
   },
   "outputs": [],
   "source": [
    "df_pivot = df.pivot_table(index=\"PRODUCT\", columns = \"RECORD_TIME\", values = \"LISTING_COUNT\")"
   ]
  },
  {
   "cell_type": "code",
   "execution_count": 6,
   "id": "union-huntington",
   "metadata": {
    "execution": {
     "iopub.execute_input": "2021-12-03T04:00:11.585112Z",
     "iopub.status.busy": "2021-12-03T04:00:11.582832Z",
     "iopub.status.idle": "2021-12-03T04:00:11.588898Z",
     "shell.execute_reply": "2021-12-03T04:00:11.590290Z"
    },
    "papermill": {
     "duration": 0.043541,
     "end_time": "2021-12-03T04:00:11.590761",
     "exception": false,
     "start_time": "2021-12-03T04:00:11.547220",
     "status": "completed"
    },
    "tags": []
   },
   "outputs": [],
   "source": [
    "df_pivot.columns = [\"stamp_1\", \"stamp_2\"]\n",
    "df_pivot_diff = df_pivot.diff(axis=1)"
   ]
  },
  {
   "cell_type": "code",
   "execution_count": 7,
   "id": "fifth-motion",
   "metadata": {
    "execution": {
     "iopub.execute_input": "2021-12-03T04:00:11.651672Z",
     "iopub.status.busy": "2021-12-03T04:00:11.648959Z",
     "iopub.status.idle": "2021-12-03T04:00:13.643489Z",
     "shell.execute_reply": "2021-12-03T04:00:13.646173Z"
    },
    "papermill": {
     "duration": 2.035191,
     "end_time": "2021-12-03T04:00:13.646967",
     "exception": false,
     "start_time": "2021-12-03T04:00:11.611776",
     "status": "completed"
    },
    "tags": []
   },
   "outputs": [
    {
     "data": {
      "text/plain": [
       "<AxesSubplot:ylabel='PRODUCT'>"
      ]
     },
     "execution_count": 7,
     "metadata": {},
     "output_type": "execute_result"
    },
    {
     "data": {
      "image/png": "[encoded data removed]",
      "text/plain": [
       "<Figure size 432x288 with 1 Axes>"
      ]
     },
     "metadata": {
      "needs_background": "light"
     },
     "output_type": "display_data"
    }
   ],
   "source": [
    "df_pivot_diff.sort_values(\"stamp_2\", ascending = False)[\"stamp_2\"].head(10).plot.barh()"
   ]
  },
  {
   "cell_type": "code",
   "execution_count": null,
   "id": "extra-executive",
   "metadata": {
    "papermill": {
     "duration": 0.026903,
     "end_time": "2021-12-03T04:00:13.706354",
     "exception": false,
     "start_time": "2021-12-03T04:00:13.679451",
     "status": "completed"
    },
    "tags": []
   },
   "outputs": [],
   "source": []
  }
 ],
 "metadata": {
  "kernelspec": {
   "display_name": "Python 3",
   "language": "python",
   "name": "python3"
  },
  "language_info": {
   "codemirror_mode": {
    "name": "ipython",
    "version": 3
   },
   "file_extension": ".py",
   "mimetype": "text/x-python",
   "name": "python",
   "nbconvert_exporter": "python",
   "pygments_lexer": "ipython3",
   "version": "3.9.5"
  },
  "papermill": {
   "default_parameters": {},
   "duration": 9.932681,
   "end_time": "2021-12-03T04:00:14.942429",
   "environment_variables": {},
   "exception": null,
   "input_path": "eBay_Overview.ipynb",
   "output_path": "eBay_Overview.ipynb",
   "parameters": {},
   "start_time": "2021-12-03T04:00:05.009748",
   "version": "2.3.3"
  }
 },
 "nbformat": 4,
 "nbformat_minor": 5
}