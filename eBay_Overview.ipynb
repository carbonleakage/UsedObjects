{
 "cells": [
  {
   "cell_type": "code",
   "execution_count": 1,
   "id": "reverse-picking",
   "metadata": {
    "execution": {
     "iopub.execute_input": "2021-11-05T19:30:07.277854Z",
     "iopub.status.busy": "2021-11-05T19:30:07.275035Z",
     "iopub.status.idle": "2021-11-05T19:30:08.234655Z",
     "shell.execute_reply": "2021-11-05T19:30:08.232043Z"
    },
    "papermill": {
     "duration": 1.007128,
     "end_time": "2021-11-05T19:30:08.235162",
     "exception": false,
     "start_time": "2021-11-05T19:30:07.228034",
     "status": "completed"
    },
    "tags": []
   },
   "outputs": [],
   "source": [
    "import pandas as pd\n",
    "import sqlite3"
   ]
  },
  {
   "cell_type": "code",
   "execution_count": 2,
   "id": "innovative-syndrome",
   "metadata": {
    "execution": {
     "iopub.execute_input": "2021-11-05T19:30:08.298366Z",
     "iopub.status.busy": "2021-11-05T19:30:08.296007Z",
     "iopub.status.idle": "2021-11-05T19:30:09.060802Z",
     "shell.execute_reply": "2021-11-05T19:30:09.062320Z"
    },
    "papermill": {
     "duration": 0.798896,
     "end_time": "2021-11-05T19:30:09.062807",
     "exception": false,
     "start_time": "2021-11-05T19:30:08.263911",
     "status": "completed"
    },
    "tags": []
   },
   "outputs": [],
   "source": [
    "timestamps = pd.read_sql(\"select distinct record_time from EBAY_TOP_BERLIN order by record_time desc limit 2\", sqlite3.connect(\"UsedObjects.db\"))"
   ]
  },
  {
   "cell_type": "code",
   "execution_count": 3,
   "id": "periodic-identification",
   "metadata": {
    "execution": {
     "iopub.execute_input": "2021-11-05T19:30:09.147646Z",
     "iopub.status.busy": "2021-11-05T19:30:09.141289Z",
     "iopub.status.idle": "2021-11-05T19:30:09.173495Z",
     "shell.execute_reply": "2021-11-05T19:30:09.175026Z"
    },
    "papermill": {
     "duration": 0.092141,
     "end_time": "2021-11-05T19:30:09.175520",
     "exception": false,
     "start_time": "2021-11-05T19:30:09.083379",
     "status": "completed"
    },
    "tags": []
   },
   "outputs": [
    {
     "data": {
      "text/html": [
       "<div>\n",
       "<style scoped>\n",
       "    .dataframe tbody tr th:only-of-type {\n",
       "        vertical-align: middle;\n",
       "    }\n",
       "\n",
       "    .dataframe tbody tr th {\n",
       "        vertical-align: top;\n",
       "    }\n",
       "\n",
       "    .dataframe thead th {\n",
       "        text-align: right;\n",
       "    }\n",
       "</style>\n",
       "<table border=\"1\" class=\"dataframe\">\n",
       "  <thead>\n",
       "    <tr style=\"text-align: right;\">\n",
       "      <th></th>\n",
       "      <th>RECORD_TIME</th>\n",
       "    </tr>\n",
       "  </thead>\n",
       "  <tbody>\n",
       "    <tr>\n",
       "      <th>0</th>\n",
       "      <td>2021-11-05 20:30</td>\n",
       "    </tr>\n",
       "    <tr>\n",
       "      <th>1</th>\n",
       "      <td>2021-11-05 20:00</td>\n",
       "    </tr>\n",
       "  </tbody>\n",
       "</table>\n",
       "</div>"
      ],
      "text/plain": [
       "        RECORD_TIME\n",
       "0  2021-11-05 20:30\n",
       "1  2021-11-05 20:00"
      ]
     },
     "execution_count": 3,
     "metadata": {},
     "output_type": "execute_result"
    }
   ],
   "source": [
    "timestamps"
   ]
  },
  {
   "cell_type": "code",
   "execution_count": 4,
   "id": "alternate-victory",
   "metadata": {
    "execution": {
     "iopub.execute_input": "2021-11-05T19:30:09.232147Z",
     "iopub.status.busy": "2021-11-05T19:30:09.229818Z",
     "iopub.status.idle": "2021-11-05T19:30:10.306065Z",
     "shell.execute_reply": "2021-11-05T19:30:10.307498Z"
    },
    "papermill": {
     "duration": 1.110475,
     "end_time": "2021-11-05T19:30:10.307956",
     "exception": false,
     "start_time": "2021-11-05T19:30:09.197481",
     "status": "completed"
    },
    "tags": []
   },
   "outputs": [],
   "source": [
    "df = pd.read_sql(\"select * from EBAY_TOP_BERLIN where record_time in (select distinct record_time from EBAY_TOP_BERLIN order by record_time desc limit 2)\", sqlite3.connect(\"UsedObjects.db\"))"
   ]
  },
  {
   "cell_type": "code",
   "execution_count": 5,
   "id": "popular-active",
   "metadata": {
    "execution": {
     "iopub.execute_input": "2021-11-05T19:30:10.376351Z",
     "iopub.status.busy": "2021-11-05T19:30:10.369815Z",
     "iopub.status.idle": "2021-11-05T19:30:10.408729Z",
     "shell.execute_reply": "2021-11-05T19:30:10.410370Z"
    },
    "papermill": {
     "duration": 0.080927,
     "end_time": "2021-11-05T19:30:10.410910",
     "exception": false,
     "start_time": "2021-11-05T19:30:10.329983",
     "status": "completed"
    },
    "tags": []
   },
   "outputs": [],
   "source": [
    "df_pivot = df.pivot_table(index=\"PRODUCT\", columns = \"RECORD_TIME\", values = \"LISTING_COUNT\")"
   ]
  },
  {
   "cell_type": "code",
   "execution_count": 6,
   "id": "union-huntington",
   "metadata": {
    "execution": {
     "iopub.execute_input": "2021-11-05T19:30:10.474968Z",
     "iopub.status.busy": "2021-11-05T19:30:10.472640Z",
     "iopub.status.idle": "2021-11-05T19:30:10.478593Z",
     "shell.execute_reply": "2021-11-05T19:30:10.480430Z"
    },
    "papermill": {
     "duration": 0.047633,
     "end_time": "2021-11-05T19:30:10.481055",
     "exception": false,
     "start_time": "2021-11-05T19:30:10.433422",
     "status": "completed"
    },
    "tags": []
   },
   "outputs": [],
   "source": [
    "df_pivot.columns = [\"stamp_1\", \"stamp_2\"]\n",
    "df_pivot_diff = df_pivot.diff(axis=1)"
   ]
  },
  {
   "cell_type": "code",
   "execution_count": 7,
   "id": "fifth-motion",
   "metadata": {
    "execution": {
     "iopub.execute_input": "2021-11-05T19:30:10.539669Z",
     "iopub.status.busy": "2021-11-05T19:30:10.537029Z",
     "iopub.status.idle": "2021-11-05T19:30:12.362969Z",
     "shell.execute_reply": "2021-11-05T19:30:12.364436Z"
    },
    "papermill": {
     "duration": 1.862573,
     "end_time": "2021-11-05T19:30:12.364983",
     "exception": false,
     "start_time": "2021-11-05T19:30:10.502410",
     "status": "completed"
    },
    "tags": []
   },
   "outputs": [
    {
     "data": {
      "text/plain": [
       "<AxesSubplot:ylabel='PRODUCT'>"
      ]
     },
     "execution_count": 7,
     "metadata": {},
     "output_type": "execute_result"
    },
    {
     "data": {
      "image/png": "[encoded data removed]",
      "text/plain": [
       "<Figure size 432x288 with 1 Axes>"
      ]
     },
     "metadata": {
      "needs_background": "light"
     },
     "output_type": "display_data"
    }
   ],
   "source": [
    "df_pivot_diff.sort_values(\"stamp_2\", ascending = False)[\"stamp_2\"].head(10).plot.barh()"
   ]
  },
  {
   "cell_type": "code",
   "execution_count": null,
   "id": "extra-executive",
   "metadata": {
    "papermill": {
     "duration": 0.025093,
     "end_time": "2021-11-05T19:30:12.414509",
     "exception": false,
     "start_time": "2021-11-05T19:30:12.389416",
     "status": "completed"
    },
    "tags": []
   },
   "outputs": [],
   "source": []
  }
 ],
 "metadata": {
  "kernelspec": {
   "display_name": "Python 3",
   "language": "python",
   "name": "python3"
  },
  "language_info": {
   "codemirror_mode": {
    "name": "ipython",
    "version": 3
   },
   "file_extension": ".py",
   "mimetype": "text/x-python",
   "name": "python",
   "nbconvert_exporter": "python",
   "pygments_lexer": "ipython3",
   "version": "3.9.5"
  },
  "papermill": {
   "default_parameters": {},
   "duration": 9.056332,
   "end_time": "2021-11-05T19:30:13.409423",
   "environment_variables": {},
   "exception": null,
   "input_path": "eBay_Overview.ipynb",
   "output_path": "eBay_Overview.ipynb",
   "parameters": {},
   "start_time": "2021-11-05T19:30:04.353091",
   "version": "2.3.3"
  }
 },
 "nbformat": 4,
 "nbformat_minor": 5
}