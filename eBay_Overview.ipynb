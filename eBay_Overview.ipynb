{
 "cells": [
  {
   "cell_type": "code",
   "execution_count": 1,
   "id": "reverse-picking",
   "metadata": {
    "execution": {
     "iopub.execute_input": "2021-12-18T23:00:08.166781Z",
     "iopub.status.busy": "2021-12-18T23:00:08.150762Z",
     "iopub.status.idle": "2021-12-18T23:00:09.118093Z",
     "shell.execute_reply": "2021-12-18T23:00:09.119696Z"
    },
    "papermill": {
     "duration": 1.003218,
     "end_time": "2021-12-18T23:00:09.120462",
     "exception": false,
     "start_time": "2021-12-18T23:00:08.117244",
     "status": "completed"
    },
    "tags": []
   },
   "outputs": [],
   "source": [
    "import pandas as pd\n",
    "import sqlite3"
   ]
  },
  {
   "cell_type": "code",
   "execution_count": 2,
   "id": "innovative-syndrome",
   "metadata": {
    "execution": {
     "iopub.execute_input": "2021-12-18T23:00:09.180181Z",
     "iopub.status.busy": "2021-12-18T23:00:09.177935Z",
     "iopub.status.idle": "2021-12-18T23:00:10.337789Z",
     "shell.execute_reply": "2021-12-18T23:00:10.339268Z"
    },
    "papermill": {
     "duration": 1.196816,
     "end_time": "2021-12-18T23:00:10.339736",
     "exception": false,
     "start_time": "2021-12-18T23:00:09.142920",
     "status": "completed"
    },
    "tags": []
   },
   "outputs": [],
   "source": [
    "timestamps = pd.read_sql(\"select distinct record_time from EBAY_TOP_BERLIN order by record_time desc limit 2\", sqlite3.connect(\"UsedObjects.db\"))"
   ]
  },
  {
   "cell_type": "code",
   "execution_count": 3,
   "id": "periodic-identification",
   "metadata": {
    "execution": {
     "iopub.execute_input": "2021-12-18T23:00:10.411322Z",
     "iopub.status.busy": "2021-12-18T23:00:10.408935Z",
     "iopub.status.idle": "2021-12-18T23:00:10.438537Z",
     "shell.execute_reply": "2021-12-18T23:00:10.440445Z"
    },
    "papermill": {
     "duration": 0.080831,
     "end_time": "2021-12-18T23:00:10.441037",
     "exception": false,
     "start_time": "2021-12-18T23:00:10.360206",
     "status": "completed"
    },
    "tags": []
   },
   "outputs": [
    {
     "data": {
      "text/html": [
       "<div>\n",
       "<style scoped>\n",
       "    .dataframe tbody tr th:only-of-type {\n",
       "        vertical-align: middle;\n",
       "    }\n",
       "\n",
       "    .dataframe tbody tr th {\n",
       "        vertical-align: top;\n",
       "    }\n",
       "\n",
       "    .dataframe thead th {\n",
       "        text-align: right;\n",
       "    }\n",
       "</style>\n",
       "<table border=\"1\" class=\"dataframe\">\n",
       "  <thead>\n",
       "    <tr style=\"text-align: right;\">\n",
       "      <th></th>\n",
       "      <th>RECORD_TIME</th>\n",
       "    </tr>\n",
       "  </thead>\n",
       "  <tbody>\n",
       "    <tr>\n",
       "      <th>0</th>\n",
       "      <td>2021-12-19 00:00</td>\n",
       "    </tr>\n",
       "    <tr>\n",
       "      <th>1</th>\n",
       "      <td>2021-12-18 23:30</td>\n",
       "    </tr>\n",
       "  </tbody>\n",
       "</table>\n",
       "</div>"
      ],
      "text/plain": [
       "        RECORD_TIME\n",
       "0  2021-12-19 00:00\n",
       "1  2021-12-18 23:30"
      ]
     },
     "execution_count": 3,
     "metadata": {},
     "output_type": "execute_result"
    }
   ],
   "source": [
    "timestamps"
   ]
  },
  {
   "cell_type": "code",
   "execution_count": 4,
   "id": "alternate-victory",
   "metadata": {
    "execution": {
     "iopub.execute_input": "2021-12-18T23:00:10.516564Z",
     "iopub.status.busy": "2021-12-18T23:00:10.514302Z",
     "iopub.status.idle": "2021-12-18T23:00:12.146893Z",
     "shell.execute_reply": "2021-12-18T23:00:12.148200Z"
    },
    "papermill": {
     "duration": 1.66633,
     "end_time": "2021-12-18T23:00:12.148658",
     "exception": false,
     "start_time": "2021-12-18T23:00:10.482328",
     "status": "completed"
    },
    "tags": []
   },
   "outputs": [],
   "source": [
    "df = pd.read_sql(\"select * from EBAY_TOP_BERLIN where record_time in (select distinct record_time from EBAY_TOP_BERLIN order by record_time desc limit 2)\", sqlite3.connect(\"UsedObjects.db\"))"
   ]
  },
  {
   "cell_type": "code",
   "execution_count": 5,
   "id": "popular-active",
   "metadata": {
    "execution": {
     "iopub.execute_input": "2021-12-18T23:00:12.235956Z",
     "iopub.status.busy": "2021-12-18T23:00:12.231168Z",
     "iopub.status.idle": "2021-12-18T23:00:12.263654Z",
     "shell.execute_reply": "2021-12-18T23:00:12.265148Z"
    },
    "papermill": {
     "duration": 0.092859,
     "end_time": "2021-12-18T23:00:12.265635",
     "exception": false,
     "start_time": "2021-12-18T23:00:12.172776",
     "status": "completed"
    },
    "tags": []
   },
   "outputs": [],
   "source": [
    "df_pivot = df.pivot_table(index=\"PRODUCT\", columns = \"RECORD_TIME\", values = \"LISTING_COUNT\")"
   ]
  },
  {
   "cell_type": "code",
   "execution_count": 6,
   "id": "union-huntington",
   "metadata": {
    "execution": {
     "iopub.execute_input": "2021-12-18T23:00:12.325866Z",
     "iopub.status.busy": "2021-12-18T23:00:12.323577Z",
     "iopub.status.idle": "2021-12-18T23:00:12.328888Z",
     "shell.execute_reply": "2021-12-18T23:00:12.330293Z"
    },
    "papermill": {
     "duration": 0.044358,
     "end_time": "2021-12-18T23:00:12.330768",
     "exception": false,
     "start_time": "2021-12-18T23:00:12.286410",
     "status": "completed"
    },
    "tags": []
   },
   "outputs": [],
   "source": [
    "df_pivot.columns = [\"stamp_1\", \"stamp_2\"]\n",
    "df_pivot_diff = df_pivot.diff(axis=1)"
   ]
  },
  {
   "cell_type": "code",
   "execution_count": 7,
   "id": "fifth-motion",
   "metadata": {
    "execution": {
     "iopub.execute_input": "2021-12-18T23:00:12.389294Z",
     "iopub.status.busy": "2021-12-18T23:00:12.386714Z",
     "iopub.status.idle": "2021-12-18T23:00:14.377796Z",
     "shell.execute_reply": "2021-12-18T23:00:14.379254Z"
    },
    "papermill": {
     "duration": 2.028677,
     "end_time": "2021-12-18T23:00:14.379696",
     "exception": false,
     "start_time": "2021-12-18T23:00:12.351019",
     "status": "completed"
    },
    "tags": []
   },
   "outputs": [
    {
     "data": {
      "text/plain": [
       "<AxesSubplot:ylabel='PRODUCT'>"
      ]
     },
     "execution_count": 7,
     "metadata": {},
     "output_type": "execute_result"
    },
    {
     "data": {
      "image/png": "[encoded data removed]",
      "text/plain": [
       "<Figure size 432x288 with 1 Axes>"
      ]
     },
     "metadata": {
      "needs_background": "light"
     },
     "output_type": "display_data"
    }
   ],
   "source": [
    "df_pivot_diff.sort_values(\"stamp_2\", ascending = False)[\"stamp_2\"].head(10).plot.barh()"
   ]
  },
  {
   "cell_type": "code",
   "execution_count": null,
   "id": "extra-executive",
   "metadata": {
    "papermill": {
     "duration": 0.0222,
     "end_time": "2021-12-18T23:00:14.427081",
     "exception": false,
     "start_time": "2021-12-18T23:00:14.404881",
     "status": "completed"
    },
    "tags": []
   },
   "outputs": [],
   "source": []
  }
 ],
 "metadata": {
  "kernelspec": {
   "display_name": "Python 3",
   "language": "python",
   "name": "python3"
  },
  "language_info": {
   "codemirror_mode": {
    "name": "ipython",
    "version": 3
   },
   "file_extension": ".py",
   "mimetype": "text/x-python",
   "name": "python",
   "nbconvert_exporter": "python",
   "pygments_lexer": "ipython3",
   "version": "3.9.5"
  },
  "papermill": {
   "default_parameters": {},
   "duration": 9.707768,
   "end_time": "2021-12-18T23:00:15.071022",
   "environment_variables": {},
   "exception": null,
   "input_path": "eBay_Overview.ipynb",
   "output_path": "eBay_Overview.ipynb",
   "parameters": {},
   "start_time": "2021-12-18T23:00:05.363254",
   "version": "2.3.3"
  }
 },
 "nbformat": 4,
 "nbformat_minor": 5
}