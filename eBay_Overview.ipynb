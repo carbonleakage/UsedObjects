{
 "cells": [
  {
   "cell_type": "code",
   "execution_count": 1,
   "id": "reverse-picking",
   "metadata": {
    "execution": {
     "iopub.execute_input": "2021-08-21T00:00:06.900364Z",
     "iopub.status.busy": "2021-08-21T00:00:06.898428Z",
     "iopub.status.idle": "2021-08-21T00:00:07.707035Z",
     "shell.execute_reply": "2021-08-21T00:00:07.705429Z"
    },
    "papermill": {
     "duration": 0.860548,
     "end_time": "2021-08-21T00:00:07.707427",
     "exception": false,
     "start_time": "2021-08-21T00:00:06.846879",
     "status": "completed"
    },
    "tags": []
   },
   "outputs": [],
   "source": [
    "import pandas as pd\n",
    "import sqlite3"
   ]
  },
  {
   "cell_type": "code",
   "execution_count": 2,
   "id": "innovative-syndrome",
   "metadata": {
    "execution": {
     "iopub.execute_input": "2021-08-21T00:00:07.760230Z",
     "iopub.status.busy": "2021-08-21T00:00:07.758038Z",
     "iopub.status.idle": "2021-08-21T00:00:07.854991Z",
     "shell.execute_reply": "2021-08-21T00:00:07.856371Z"
    },
    "papermill": {
     "duration": 0.126911,
     "end_time": "2021-08-21T00:00:07.856806",
     "exception": false,
     "start_time": "2021-08-21T00:00:07.729895",
     "status": "completed"
    },
    "tags": []
   },
   "outputs": [],
   "source": [
    "timestamps = pd.read_sql(\"select distinct record_time from EBAY_TOP_BERLIN order by record_time desc limit 2\", sqlite3.connect(\"UsedObjects.db\"))"
   ]
  },
  {
   "cell_type": "code",
   "execution_count": 3,
   "id": "periodic-identification",
   "metadata": {
    "execution": {
     "iopub.execute_input": "2021-08-21T00:00:07.924757Z",
     "iopub.status.busy": "2021-08-21T00:00:07.922758Z",
     "iopub.status.idle": "2021-08-21T00:00:07.942725Z",
     "shell.execute_reply": "2021-08-21T00:00:07.944036Z"
    },
    "papermill": {
     "duration": 0.067594,
     "end_time": "2021-08-21T00:00:07.944455",
     "exception": false,
     "start_time": "2021-08-21T00:00:07.876861",
     "status": "completed"
    },
    "tags": []
   },
   "outputs": [
    {
     "data": {
      "text/html": [
       "<div>\n",
       "<style scoped>\n",
       "    .dataframe tbody tr th:only-of-type {\n",
       "        vertical-align: middle;\n",
       "    }\n",
       "\n",
       "    .dataframe tbody tr th {\n",
       "        vertical-align: top;\n",
       "    }\n",
       "\n",
       "    .dataframe thead th {\n",
       "        text-align: right;\n",
       "    }\n",
       "</style>\n",
       "<table border=\"1\" class=\"dataframe\">\n",
       "  <thead>\n",
       "    <tr style=\"text-align: right;\">\n",
       "      <th></th>\n",
       "      <th>RECORD_TIME</th>\n",
       "    </tr>\n",
       "  </thead>\n",
       "  <tbody>\n",
       "    <tr>\n",
       "      <th>0</th>\n",
       "      <td>2021-08-21 02:00</td>\n",
       "    </tr>\n",
       "    <tr>\n",
       "      <th>1</th>\n",
       "      <td>2021-08-21 01:30</td>\n",
       "    </tr>\n",
       "  </tbody>\n",
       "</table>\n",
       "</div>"
      ],
      "text/plain": [
       "        RECORD_TIME\n",
       "0  2021-08-21 02:00\n",
       "1  2021-08-21 01:30"
      ]
     },
     "execution_count": 3,
     "metadata": {},
     "output_type": "execute_result"
    }
   ],
   "source": [
    "timestamps"
   ]
  },
  {
   "cell_type": "code",
   "execution_count": 4,
   "id": "alternate-victory",
   "metadata": {
    "execution": {
     "iopub.execute_input": "2021-08-21T00:00:07.997063Z",
     "iopub.status.busy": "2021-08-21T00:00:07.994791Z",
     "iopub.status.idle": "2021-08-21T00:00:08.135134Z",
     "shell.execute_reply": "2021-08-21T00:00:08.136402Z"
    },
    "papermill": {
     "duration": 0.170801,
     "end_time": "2021-08-21T00:00:08.136801",
     "exception": false,
     "start_time": "2021-08-21T00:00:07.966000",
     "status": "completed"
    },
    "tags": []
   },
   "outputs": [],
   "source": [
    "df = pd.read_sql(\"select * from EBAY_TOP_BERLIN where record_time in (select distinct record_time from EBAY_TOP_BERLIN order by record_time desc limit 2)\", sqlite3.connect(\"UsedObjects.db\"))"
   ]
  },
  {
   "cell_type": "code",
   "execution_count": 5,
   "id": "popular-active",
   "metadata": {
    "execution": {
     "iopub.execute_input": "2021-08-21T00:00:08.198360Z",
     "iopub.status.busy": "2021-08-21T00:00:08.196026Z",
     "iopub.status.idle": "2021-08-21T00:00:08.223674Z",
     "shell.execute_reply": "2021-08-21T00:00:08.224864Z"
    },
    "papermill": {
     "duration": 0.067798,
     "end_time": "2021-08-21T00:00:08.225256",
     "exception": false,
     "start_time": "2021-08-21T00:00:08.157458",
     "status": "completed"
    },
    "tags": []
   },
   "outputs": [],
   "source": [
    "df_pivot = df.pivot_table(index=\"PRODUCT\", columns = \"RECORD_TIME\", values = \"LISTING_COUNT\")"
   ]
  },
  {
   "cell_type": "code",
   "execution_count": 6,
   "id": "union-huntington",
   "metadata": {
    "execution": {
     "iopub.execute_input": "2021-08-21T00:00:08.283909Z",
     "iopub.status.busy": "2021-08-21T00:00:08.281714Z",
     "iopub.status.idle": "2021-08-21T00:00:08.287455Z",
     "shell.execute_reply": "2021-08-21T00:00:08.288810Z"
    },
    "papermill": {
     "duration": 0.042277,
     "end_time": "2021-08-21T00:00:08.289249",
     "exception": false,
     "start_time": "2021-08-21T00:00:08.246972",
     "status": "completed"
    },
    "tags": []
   },
   "outputs": [],
   "source": [
    "df_pivot.columns = [\"stamp_1\", \"stamp_2\"]\n",
    "df_pivot_diff = df_pivot.diff(axis=1)"
   ]
  },
  {
   "cell_type": "code",
   "execution_count": 7,
   "id": "fifth-motion",
   "metadata": {
    "execution": {
     "iopub.execute_input": "2021-08-21T00:00:08.351923Z",
     "iopub.status.busy": "2021-08-21T00:00:08.349482Z",
     "iopub.status.idle": "2021-08-21T00:00:09.857471Z",
     "shell.execute_reply": "2021-08-21T00:00:09.859015Z"
    },
    "papermill": {
     "duration": 1.549173,
     "end_time": "2021-08-21T00:00:09.859534",
     "exception": false,
     "start_time": "2021-08-21T00:00:08.310361",
     "status": "completed"
    },
    "tags": []
   },
   "outputs": [
    {
     "data": {
      "text/plain": [
       "<AxesSubplot:ylabel='PRODUCT'>"
      ]
     },
     "execution_count": 7,
     "metadata": {},
     "output_type": "execute_result"
    },
    {
     "data": {
      "image/png": "[encoded data removed]",
      "text/plain": [
       "<Figure size 432x288 with 1 Axes>"
      ]
     },
     "metadata": {
      "needs_background": "light"
     },
     "output_type": "display_data"
    }
   ],
   "source": [
    "df_pivot_diff.sort_values(\"stamp_2\", ascending = False)[\"stamp_2\"].head(10).plot.barh()"
   ]
  },
  {
   "cell_type": "code",
   "execution_count": null,
   "id": "extra-executive",
   "metadata": {
    "papermill": {
     "duration": 0.022774,
     "end_time": "2021-08-21T00:00:09.908397",
     "exception": false,
     "start_time": "2021-08-21T00:00:09.885623",
     "status": "completed"
    },
    "tags": []
   },
   "outputs": [],
   "source": []
  }
 ],
 "metadata": {
  "kernelspec": {
   "display_name": "Python 3",
   "language": "python",
   "name": "python3"
  },
  "language_info": {
   "codemirror_mode": {
    "name": "ipython",
    "version": 3
   },
   "file_extension": ".py",
   "mimetype": "text/x-python",
   "name": "python",
   "nbconvert_exporter": "python",
   "pygments_lexer": "ipython3",
   "version": "3.9.5"
  },
  "papermill": {
   "default_parameters": {},
   "duration": 6.8321,
   "end_time": "2021-08-21T00:00:11.266621",
   "environment_variables": {},
   "exception": null,
   "input_path": "eBay_Overview.ipynb",
   "output_path": "eBay_Overview.ipynb",
   "parameters": {},
   "start_time": "2021-08-21T00:00:04.434521",
   "version": "2.3.3"
  }
 },
 "nbformat": 4,
 "nbformat_minor": 5
}