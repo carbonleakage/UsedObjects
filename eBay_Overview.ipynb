{
 "cells": [
  {
   "cell_type": "code",
   "execution_count": 1,
   "id": "reverse-picking",
   "metadata": {
    "execution": {
     "iopub.execute_input": "2021-12-04T10:30:07.963396Z",
     "iopub.status.busy": "2021-12-04T10:30:07.956775Z",
     "iopub.status.idle": "2021-12-04T10:30:08.882558Z",
     "shell.execute_reply": "2021-12-04T10:30:08.879971Z"
    },
    "papermill": {
     "duration": 0.97404,
     "end_time": "2021-12-04T10:30:08.883036",
     "exception": false,
     "start_time": "2021-12-04T10:30:07.908996",
     "status": "completed"
    },
    "tags": []
   },
   "outputs": [],
   "source": [
    "import pandas as pd\n",
    "import sqlite3"
   ]
  },
  {
   "cell_type": "code",
   "execution_count": 2,
   "id": "innovative-syndrome",
   "metadata": {
    "execution": {
     "iopub.execute_input": "2021-12-04T10:30:08.997506Z",
     "iopub.status.busy": "2021-12-04T10:30:08.995215Z",
     "iopub.status.idle": "2021-12-04T10:30:09.989639Z",
     "shell.execute_reply": "2021-12-04T10:30:09.991317Z"
    },
    "papermill": {
     "duration": 1.027868,
     "end_time": "2021-12-04T10:30:09.991818",
     "exception": false,
     "start_time": "2021-12-04T10:30:08.963950",
     "status": "completed"
    },
    "tags": []
   },
   "outputs": [],
   "source": [
    "timestamps = pd.read_sql(\"select distinct record_time from EBAY_TOP_BERLIN order by record_time desc limit 2\", sqlite3.connect(\"UsedObjects.db\"))"
   ]
  },
  {
   "cell_type": "code",
   "execution_count": 3,
   "id": "periodic-identification",
   "metadata": {
    "execution": {
     "iopub.execute_input": "2021-12-04T10:30:10.068532Z",
     "iopub.status.busy": "2021-12-04T10:30:10.062236Z",
     "iopub.status.idle": "2021-12-04T10:30:10.084987Z",
     "shell.execute_reply": "2021-12-04T10:30:10.086367Z"
    },
    "papermill": {
     "duration": 0.073628,
     "end_time": "2021-12-04T10:30:10.086836",
     "exception": false,
     "start_time": "2021-12-04T10:30:10.013208",
     "status": "completed"
    },
    "tags": []
   },
   "outputs": [
    {
     "data": {
      "text/html": [
       "<div>\n",
       "<style scoped>\n",
       "    .dataframe tbody tr th:only-of-type {\n",
       "        vertical-align: middle;\n",
       "    }\n",
       "\n",
       "    .dataframe tbody tr th {\n",
       "        vertical-align: top;\n",
       "    }\n",
       "\n",
       "    .dataframe thead th {\n",
       "        text-align: right;\n",
       "    }\n",
       "</style>\n",
       "<table border=\"1\" class=\"dataframe\">\n",
       "  <thead>\n",
       "    <tr style=\"text-align: right;\">\n",
       "      <th></th>\n",
       "      <th>RECORD_TIME</th>\n",
       "    </tr>\n",
       "  </thead>\n",
       "  <tbody>\n",
       "    <tr>\n",
       "      <th>0</th>\n",
       "      <td>2021-12-04 11:30</td>\n",
       "    </tr>\n",
       "    <tr>\n",
       "      <th>1</th>\n",
       "      <td>2021-12-04 11:00</td>\n",
       "    </tr>\n",
       "  </tbody>\n",
       "</table>\n",
       "</div>"
      ],
      "text/plain": [
       "        RECORD_TIME\n",
       "0  2021-12-04 11:30\n",
       "1  2021-12-04 11:00"
      ]
     },
     "execution_count": 3,
     "metadata": {},
     "output_type": "execute_result"
    }
   ],
   "source": [
    "timestamps"
   ]
  },
  {
   "cell_type": "code",
   "execution_count": 4,
   "id": "alternate-victory",
   "metadata": {
    "execution": {
     "iopub.execute_input": "2021-12-04T10:30:10.142118Z",
     "iopub.status.busy": "2021-12-04T10:30:10.137173Z",
     "iopub.status.idle": "2021-12-04T10:30:11.586669Z",
     "shell.execute_reply": "2021-12-04T10:30:11.589147Z"
    },
    "papermill": {
     "duration": 1.480361,
     "end_time": "2021-12-04T10:30:11.589642",
     "exception": false,
     "start_time": "2021-12-04T10:30:10.109281",
     "status": "completed"
    },
    "tags": []
   },
   "outputs": [],
   "source": [
    "df = pd.read_sql(\"select * from EBAY_TOP_BERLIN where record_time in (select distinct record_time from EBAY_TOP_BERLIN order by record_time desc limit 2)\", sqlite3.connect(\"UsedObjects.db\"))"
   ]
  },
  {
   "cell_type": "code",
   "execution_count": 5,
   "id": "popular-active",
   "metadata": {
    "execution": {
     "iopub.execute_input": "2021-12-04T10:30:11.664102Z",
     "iopub.status.busy": "2021-12-04T10:30:11.650785Z",
     "iopub.status.idle": "2021-12-04T10:30:11.682194Z",
     "shell.execute_reply": "2021-12-04T10:30:11.683647Z"
    },
    "papermill": {
     "duration": 0.073556,
     "end_time": "2021-12-04T10:30:11.684097",
     "exception": false,
     "start_time": "2021-12-04T10:30:11.610541",
     "status": "completed"
    },
    "tags": []
   },
   "outputs": [],
   "source": [
    "df_pivot = df.pivot_table(index=\"PRODUCT\", columns = \"RECORD_TIME\", values = \"LISTING_COUNT\")"
   ]
  },
  {
   "cell_type": "code",
   "execution_count": 6,
   "id": "union-huntington",
   "metadata": {
    "execution": {
     "iopub.execute_input": "2021-12-04T10:30:11.747613Z",
     "iopub.status.busy": "2021-12-04T10:30:11.745298Z",
     "iopub.status.idle": "2021-12-04T10:30:11.751172Z",
     "shell.execute_reply": "2021-12-04T10:30:11.752765Z"
    },
    "papermill": {
     "duration": 0.047711,
     "end_time": "2021-12-04T10:30:11.753275",
     "exception": false,
     "start_time": "2021-12-04T10:30:11.705564",
     "status": "completed"
    },
    "tags": []
   },
   "outputs": [],
   "source": [
    "df_pivot.columns = [\"stamp_1\", \"stamp_2\"]\n",
    "df_pivot_diff = df_pivot.diff(axis=1)"
   ]
  },
  {
   "cell_type": "code",
   "execution_count": 7,
   "id": "fifth-motion",
   "metadata": {
    "execution": {
     "iopub.execute_input": "2021-12-04T10:30:11.836782Z",
     "iopub.status.busy": "2021-12-04T10:30:11.834579Z",
     "iopub.status.idle": "2021-12-04T10:30:13.744436Z",
     "shell.execute_reply": "2021-12-04T10:30:13.747309Z"
    },
    "papermill": {
     "duration": 1.973385,
     "end_time": "2021-12-04T10:30:13.748141",
     "exception": false,
     "start_time": "2021-12-04T10:30:11.774756",
     "status": "completed"
    },
    "tags": []
   },
   "outputs": [
    {
     "data": {
      "text/plain": [
       "<AxesSubplot:ylabel='PRODUCT'>"
      ]
     },
     "execution_count": 7,
     "metadata": {},
     "output_type": "execute_result"
    },
    {
     "data": {
      "image/png": "[encoded data removed]",
      "text/plain": [
       "<Figure size 432x288 with 1 Axes>"
      ]
     },
     "metadata": {
      "needs_background": "light"
     },
     "output_type": "display_data"
    }
   ],
   "source": [
    "df_pivot_diff.sort_values(\"stamp_2\", ascending = False)[\"stamp_2\"].head(10).plot.barh()"
   ]
  },
  {
   "cell_type": "code",
   "execution_count": null,
   "id": "extra-executive",
   "metadata": {
    "papermill": {
     "duration": 0.05912,
     "end_time": "2021-12-04T10:30:13.837541",
     "exception": false,
     "start_time": "2021-12-04T10:30:13.778421",
     "status": "completed"
    },
    "tags": []
   },
   "outputs": [],
   "source": []
  }
 ],
 "metadata": {
  "kernelspec": {
   "display_name": "Python 3",
   "language": "python",
   "name": "python3"
  },
  "language_info": {
   "codemirror_mode": {
    "name": "ipython",
    "version": 3
   },
   "file_extension": ".py",
   "mimetype": "text/x-python",
   "name": "python",
   "nbconvert_exporter": "python",
   "pygments_lexer": "ipython3",
   "version": "3.9.5"
  },
  "papermill": {
   "default_parameters": {},
   "duration": 9.947422,
   "end_time": "2021-12-04T10:30:15.109358",
   "environment_variables": {},
   "exception": null,
   "input_path": "eBay_Overview.ipynb",
   "output_path": "eBay_Overview.ipynb",
   "parameters": {},
   "start_time": "2021-12-04T10:30:05.161936",
   "version": "2.3.3"
  }
 },
 "nbformat": 4,
 "nbformat_minor": 5
}