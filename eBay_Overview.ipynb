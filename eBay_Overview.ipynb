{
 "cells": [
  {
   "cell_type": "code",
   "execution_count": 1,
   "id": "reverse-picking",
   "metadata": {
    "execution": {
     "iopub.execute_input": "2021-10-15T03:00:07.000888Z",
     "iopub.status.busy": "2021-10-15T03:00:06.998899Z",
     "iopub.status.idle": "2021-10-15T03:00:07.806223Z",
     "shell.execute_reply": "2021-10-15T03:00:07.807459Z"
    },
    "papermill": {
     "duration": 0.859761,
     "end_time": "2021-10-15T03:00:07.808082",
     "exception": false,
     "start_time": "2021-10-15T03:00:06.948321",
     "status": "completed"
    },
    "tags": []
   },
   "outputs": [],
   "source": [
    "import pandas as pd\n",
    "import sqlite3"
   ]
  },
  {
   "cell_type": "code",
   "execution_count": 2,
   "id": "innovative-syndrome",
   "metadata": {
    "execution": {
     "iopub.execute_input": "2021-10-15T03:00:07.858368Z",
     "iopub.status.busy": "2021-10-15T03:00:07.856396Z",
     "iopub.status.idle": "2021-10-15T03:00:08.399137Z",
     "shell.execute_reply": "2021-10-15T03:00:08.400326Z"
    },
    "papermill": {
     "duration": 0.572589,
     "end_time": "2021-10-15T03:00:08.400922",
     "exception": false,
     "start_time": "2021-10-15T03:00:07.828333",
     "status": "completed"
    },
    "tags": []
   },
   "outputs": [],
   "source": [
    "timestamps = pd.read_sql(\"select distinct record_time from EBAY_TOP_BERLIN order by record_time desc limit 2\", sqlite3.connect(\"UsedObjects.db\"))"
   ]
  },
  {
   "cell_type": "code",
   "execution_count": 3,
   "id": "periodic-identification",
   "metadata": {
    "execution": {
     "iopub.execute_input": "2021-10-15T03:00:08.476928Z",
     "iopub.status.busy": "2021-10-15T03:00:08.474817Z",
     "iopub.status.idle": "2021-10-15T03:00:08.495343Z",
     "shell.execute_reply": "2021-10-15T03:00:08.496758Z"
    },
    "papermill": {
     "duration": 0.068457,
     "end_time": "2021-10-15T03:00:08.497205",
     "exception": false,
     "start_time": "2021-10-15T03:00:08.428748",
     "status": "completed"
    },
    "tags": []
   },
   "outputs": [
    {
     "data": {
      "text/html": [
       "<div>\n",
       "<style scoped>\n",
       "    .dataframe tbody tr th:only-of-type {\n",
       "        vertical-align: middle;\n",
       "    }\n",
       "\n",
       "    .dataframe tbody tr th {\n",
       "        vertical-align: top;\n",
       "    }\n",
       "\n",
       "    .dataframe thead th {\n",
       "        text-align: right;\n",
       "    }\n",
       "</style>\n",
       "<table border=\"1\" class=\"dataframe\">\n",
       "  <thead>\n",
       "    <tr style=\"text-align: right;\">\n",
       "      <th></th>\n",
       "      <th>RECORD_TIME</th>\n",
       "    </tr>\n",
       "  </thead>\n",
       "  <tbody>\n",
       "    <tr>\n",
       "      <th>0</th>\n",
       "      <td>2021-10-15 05:00</td>\n",
       "    </tr>\n",
       "    <tr>\n",
       "      <th>1</th>\n",
       "      <td>2021-10-15 04:30</td>\n",
       "    </tr>\n",
       "  </tbody>\n",
       "</table>\n",
       "</div>"
      ],
      "text/plain": [
       "        RECORD_TIME\n",
       "0  2021-10-15 05:00\n",
       "1  2021-10-15 04:30"
      ]
     },
     "execution_count": 3,
     "metadata": {},
     "output_type": "execute_result"
    }
   ],
   "source": [
    "timestamps"
   ]
  },
  {
   "cell_type": "code",
   "execution_count": 4,
   "id": "alternate-victory",
   "metadata": {
    "execution": {
     "iopub.execute_input": "2021-10-15T03:00:08.548788Z",
     "iopub.status.busy": "2021-10-15T03:00:08.546917Z",
     "iopub.status.idle": "2021-10-15T03:00:09.381676Z",
     "shell.execute_reply": "2021-10-15T03:00:09.380254Z"
    },
    "papermill": {
     "duration": 0.863539,
     "end_time": "2021-10-15T03:00:09.382033",
     "exception": false,
     "start_time": "2021-10-15T03:00:08.518494",
     "status": "completed"
    },
    "tags": []
   },
   "outputs": [],
   "source": [
    "df = pd.read_sql(\"select * from EBAY_TOP_BERLIN where record_time in (select distinct record_time from EBAY_TOP_BERLIN order by record_time desc limit 2)\", sqlite3.connect(\"UsedObjects.db\"))"
   ]
  },
  {
   "cell_type": "code",
   "execution_count": 5,
   "id": "popular-active",
   "metadata": {
    "execution": {
     "iopub.execute_input": "2021-10-15T03:00:09.446989Z",
     "iopub.status.busy": "2021-10-15T03:00:09.440960Z",
     "iopub.status.idle": "2021-10-15T03:00:09.469430Z",
     "shell.execute_reply": "2021-10-15T03:00:09.470815Z"
    },
    "papermill": {
     "duration": 0.067127,
     "end_time": "2021-10-15T03:00:09.471242",
     "exception": false,
     "start_time": "2021-10-15T03:00:09.404115",
     "status": "completed"
    },
    "tags": []
   },
   "outputs": [],
   "source": [
    "df_pivot = df.pivot_table(index=\"PRODUCT\", columns = \"RECORD_TIME\", values = \"LISTING_COUNT\")"
   ]
  },
  {
   "cell_type": "code",
   "execution_count": 6,
   "id": "union-huntington",
   "metadata": {
    "execution": {
     "iopub.execute_input": "2021-10-15T03:00:09.528991Z",
     "iopub.status.busy": "2021-10-15T03:00:09.526646Z",
     "iopub.status.idle": "2021-10-15T03:00:09.532253Z",
     "shell.execute_reply": "2021-10-15T03:00:09.533622Z"
    },
    "papermill": {
     "duration": 0.042162,
     "end_time": "2021-10-15T03:00:09.534050",
     "exception": false,
     "start_time": "2021-10-15T03:00:09.491888",
     "status": "completed"
    },
    "tags": []
   },
   "outputs": [],
   "source": [
    "df_pivot.columns = [\"stamp_1\", \"stamp_2\"]\n",
    "df_pivot_diff = df_pivot.diff(axis=1)"
   ]
  },
  {
   "cell_type": "code",
   "execution_count": 7,
   "id": "fifth-motion",
   "metadata": {
    "execution": {
     "iopub.execute_input": "2021-10-15T03:00:09.588761Z",
     "iopub.status.busy": "2021-10-15T03:00:09.586387Z",
     "iopub.status.idle": "2021-10-15T03:00:11.072146Z",
     "shell.execute_reply": "2021-10-15T03:00:11.073728Z"
    },
    "papermill": {
     "duration": 1.519242,
     "end_time": "2021-10-15T03:00:11.074201",
     "exception": false,
     "start_time": "2021-10-15T03:00:09.554959",
     "status": "completed"
    },
    "tags": []
   },
   "outputs": [
    {
     "data": {
      "text/plain": [
       "<AxesSubplot:ylabel='PRODUCT'>"
      ]
     },
     "execution_count": 7,
     "metadata": {},
     "output_type": "execute_result"
    },
    {
     "data": {
      "image/png": "[encoded data removed]",
      "text/plain": [
       "<Figure size 432x288 with 1 Axes>"
      ]
     },
     "metadata": {
      "needs_background": "light"
     },
     "output_type": "display_data"
    }
   ],
   "source": [
    "df_pivot_diff.sort_values(\"stamp_2\", ascending = False)[\"stamp_2\"].head(10).plot.barh()"
   ]
  },
  {
   "cell_type": "code",
   "execution_count": null,
   "id": "extra-executive",
   "metadata": {
    "papermill": {
     "duration": 0.022441,
     "end_time": "2021-10-15T03:00:11.121418",
     "exception": false,
     "start_time": "2021-10-15T03:00:11.098977",
     "status": "completed"
    },
    "tags": []
   },
   "outputs": [],
   "source": []
  }
 ],
 "metadata": {
  "kernelspec": {
   "display_name": "Python 3",
   "language": "python",
   "name": "python3"
  },
  "language_info": {
   "codemirror_mode": {
    "name": "ipython",
    "version": 3
   },
   "file_extension": ".py",
   "mimetype": "text/x-python",
   "name": "python",
   "nbconvert_exporter": "python",
   "pygments_lexer": "ipython3",
   "version": "3.9.5"
  },
  "papermill": {
   "default_parameters": {},
   "duration": 7.823245,
   "end_time": "2021-10-15T03:00:12.362148",
   "environment_variables": {},
   "exception": null,
   "input_path": "eBay_Overview.ipynb",
   "output_path": "eBay_Overview.ipynb",
   "parameters": {},
   "start_time": "2021-10-15T03:00:04.538903",
   "version": "2.3.3"
  }
 },
 "nbformat": 4,
 "nbformat_minor": 5
}