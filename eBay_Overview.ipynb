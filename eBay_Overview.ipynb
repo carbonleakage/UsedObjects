{
 "cells": [
  {
   "cell_type": "code",
   "execution_count": 1,
   "id": "reverse-picking",
   "metadata": {
    "execution": {
     "iopub.execute_input": "2021-10-06T17:30:07.450937Z",
     "iopub.status.busy": "2021-10-06T17:30:07.448961Z",
     "iopub.status.idle": "2021-10-06T17:30:08.254587Z",
     "shell.execute_reply": "2021-10-06T17:30:08.256057Z"
    },
    "papermill": {
     "duration": 0.856359,
     "end_time": "2021-10-06T17:30:08.256852",
     "exception": false,
     "start_time": "2021-10-06T17:30:07.400493",
     "status": "completed"
    },
    "tags": []
   },
   "outputs": [],
   "source": [
    "import pandas as pd\n",
    "import sqlite3"
   ]
  },
  {
   "cell_type": "code",
   "execution_count": 2,
   "id": "innovative-syndrome",
   "metadata": {
    "execution": {
     "iopub.execute_input": "2021-10-06T17:30:08.308988Z",
     "iopub.status.busy": "2021-10-06T17:30:08.306608Z",
     "iopub.status.idle": "2021-10-06T17:30:08.773555Z",
     "shell.execute_reply": "2021-10-06T17:30:08.774868Z"
    },
    "papermill": {
     "duration": 0.497276,
     "end_time": "2021-10-06T17:30:08.775309",
     "exception": false,
     "start_time": "2021-10-06T17:30:08.278033",
     "status": "completed"
    },
    "tags": []
   },
   "outputs": [],
   "source": [
    "timestamps = pd.read_sql(\"select distinct record_time from EBAY_TOP_BERLIN order by record_time desc limit 2\", sqlite3.connect(\"UsedObjects.db\"))"
   ]
  },
  {
   "cell_type": "code",
   "execution_count": 3,
   "id": "periodic-identification",
   "metadata": {
    "execution": {
     "iopub.execute_input": "2021-10-06T17:30:08.840673Z",
     "iopub.status.busy": "2021-10-06T17:30:08.838543Z",
     "iopub.status.idle": "2021-10-06T17:30:08.858334Z",
     "shell.execute_reply": "2021-10-06T17:30:08.859524Z"
    },
    "papermill": {
     "duration": 0.065002,
     "end_time": "2021-10-06T17:30:08.859943",
     "exception": false,
     "start_time": "2021-10-06T17:30:08.794941",
     "status": "completed"
    },
    "tags": []
   },
   "outputs": [
    {
     "data": {
      "text/html": [
       "<div>\n",
       "<style scoped>\n",
       "    .dataframe tbody tr th:only-of-type {\n",
       "        vertical-align: middle;\n",
       "    }\n",
       "\n",
       "    .dataframe tbody tr th {\n",
       "        vertical-align: top;\n",
       "    }\n",
       "\n",
       "    .dataframe thead th {\n",
       "        text-align: right;\n",
       "    }\n",
       "</style>\n",
       "<table border=\"1\" class=\"dataframe\">\n",
       "  <thead>\n",
       "    <tr style=\"text-align: right;\">\n",
       "      <th></th>\n",
       "      <th>RECORD_TIME</th>\n",
       "    </tr>\n",
       "  </thead>\n",
       "  <tbody>\n",
       "    <tr>\n",
       "      <th>0</th>\n",
       "      <td>2021-10-06 19:30</td>\n",
       "    </tr>\n",
       "    <tr>\n",
       "      <th>1</th>\n",
       "      <td>2021-10-06 19:00</td>\n",
       "    </tr>\n",
       "  </tbody>\n",
       "</table>\n",
       "</div>"
      ],
      "text/plain": [
       "        RECORD_TIME\n",
       "0  2021-10-06 19:30\n",
       "1  2021-10-06 19:00"
      ]
     },
     "execution_count": 3,
     "metadata": {},
     "output_type": "execute_result"
    }
   ],
   "source": [
    "timestamps"
   ]
  },
  {
   "cell_type": "code",
   "execution_count": 4,
   "id": "alternate-victory",
   "metadata": {
    "execution": {
     "iopub.execute_input": "2021-10-06T17:30:08.921466Z",
     "iopub.status.busy": "2021-10-06T17:30:08.918720Z",
     "iopub.status.idle": "2021-10-06T17:30:09.611802Z",
     "shell.execute_reply": "2021-10-06T17:30:09.612996Z"
    },
    "papermill": {
     "duration": 0.730876,
     "end_time": "2021-10-06T17:30:09.613391",
     "exception": false,
     "start_time": "2021-10-06T17:30:08.882515",
     "status": "completed"
    },
    "tags": []
   },
   "outputs": [],
   "source": [
    "df = pd.read_sql(\"select * from EBAY_TOP_BERLIN where record_time in (select distinct record_time from EBAY_TOP_BERLIN order by record_time desc limit 2)\", sqlite3.connect(\"UsedObjects.db\"))"
   ]
  },
  {
   "cell_type": "code",
   "execution_count": 5,
   "id": "popular-active",
   "metadata": {
    "execution": {
     "iopub.execute_input": "2021-10-06T17:30:09.682471Z",
     "iopub.status.busy": "2021-10-06T17:30:09.670508Z",
     "iopub.status.idle": "2021-10-06T17:30:09.697770Z",
     "shell.execute_reply": "2021-10-06T17:30:09.699204Z"
    },
    "papermill": {
     "duration": 0.065972,
     "end_time": "2021-10-06T17:30:09.699628",
     "exception": false,
     "start_time": "2021-10-06T17:30:09.633656",
     "status": "completed"
    },
    "tags": []
   },
   "outputs": [],
   "source": [
    "df_pivot = df.pivot_table(index=\"PRODUCT\", columns = \"RECORD_TIME\", values = \"LISTING_COUNT\")"
   ]
  },
  {
   "cell_type": "code",
   "execution_count": 6,
   "id": "union-huntington",
   "metadata": {
    "execution": {
     "iopub.execute_input": "2021-10-06T17:30:09.757854Z",
     "iopub.status.busy": "2021-10-06T17:30:09.755400Z",
     "iopub.status.idle": "2021-10-06T17:30:09.761003Z",
     "shell.execute_reply": "2021-10-06T17:30:09.762344Z"
    },
    "papermill": {
     "duration": 0.0419,
     "end_time": "2021-10-06T17:30:09.762778",
     "exception": false,
     "start_time": "2021-10-06T17:30:09.720878",
     "status": "completed"
    },
    "tags": []
   },
   "outputs": [],
   "source": [
    "df_pivot.columns = [\"stamp_1\", \"stamp_2\"]\n",
    "df_pivot_diff = df_pivot.diff(axis=1)"
   ]
  },
  {
   "cell_type": "code",
   "execution_count": 7,
   "id": "fifth-motion",
   "metadata": {
    "execution": {
     "iopub.execute_input": "2021-10-06T17:30:09.817859Z",
     "iopub.status.busy": "2021-10-06T17:30:09.815371Z",
     "iopub.status.idle": "2021-10-06T17:30:11.320180Z",
     "shell.execute_reply": "2021-10-06T17:30:11.321359Z"
    },
    "papermill": {
     "duration": 1.537809,
     "end_time": "2021-10-06T17:30:11.321790",
     "exception": false,
     "start_time": "2021-10-06T17:30:09.783981",
     "status": "completed"
    },
    "tags": []
   },
   "outputs": [
    {
     "data": {
      "text/plain": [
       "<AxesSubplot:ylabel='PRODUCT'>"
      ]
     },
     "execution_count": 7,
     "metadata": {},
     "output_type": "execute_result"
    },
    {
     "data": {
      "image/png": "[encoded data removed]",
      "text/plain": [
       "<Figure size 432x288 with 1 Axes>"
      ]
     },
     "metadata": {
      "needs_background": "light"
     },
     "output_type": "display_data"
    }
   ],
   "source": [
    "df_pivot_diff.sort_values(\"stamp_2\", ascending = False)[\"stamp_2\"].head(10).plot.barh()"
   ]
  },
  {
   "cell_type": "code",
   "execution_count": null,
   "id": "extra-executive",
   "metadata": {
    "papermill": {
     "duration": 0.022245,
     "end_time": "2021-10-06T17:30:11.368520",
     "exception": false,
     "start_time": "2021-10-06T17:30:11.346275",
     "status": "completed"
    },
    "tags": []
   },
   "outputs": [],
   "source": []
  }
 ],
 "metadata": {
  "kernelspec": {
   "display_name": "Python 3",
   "language": "python",
   "name": "python3"
  },
  "language_info": {
   "codemirror_mode": {
    "name": "ipython",
    "version": 3
   },
   "file_extension": ".py",
   "mimetype": "text/x-python",
   "name": "python",
   "nbconvert_exporter": "python",
   "pygments_lexer": "ipython3",
   "version": "3.9.5"
  },
  "papermill": {
   "default_parameters": {},
   "duration": 7.818852,
   "end_time": "2021-10-06T17:30:12.822379",
   "environment_variables": {},
   "exception": null,
   "input_path": "eBay_Overview.ipynb",
   "output_path": "eBay_Overview.ipynb",
   "parameters": {},
   "start_time": "2021-10-06T17:30:05.003527",
   "version": "2.3.3"
  }
 },
 "nbformat": 4,
 "nbformat_minor": 5
}