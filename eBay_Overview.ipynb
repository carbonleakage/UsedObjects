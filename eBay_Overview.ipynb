{
 "cells": [
  {
   "cell_type": "code",
   "execution_count": 1,
   "id": "reverse-picking",
   "metadata": {
    "execution": {
     "iopub.execute_input": "2021-10-22T01:00:06.770250Z",
     "iopub.status.busy": "2021-10-22T01:00:06.768281Z",
     "iopub.status.idle": "2021-10-22T01:00:07.574156Z",
     "shell.execute_reply": "2021-10-22T01:00:07.575384Z"
    },
    "papermill": {
     "duration": 0.857734,
     "end_time": "2021-10-22T01:00:07.575995",
     "exception": false,
     "start_time": "2021-10-22T01:00:06.718261",
     "status": "completed"
    },
    "tags": []
   },
   "outputs": [],
   "source": [
    "import pandas as pd\n",
    "import sqlite3"
   ]
  },
  {
   "cell_type": "code",
   "execution_count": 2,
   "id": "innovative-syndrome",
   "metadata": {
    "execution": {
     "iopub.execute_input": "2021-10-22T01:00:07.626631Z",
     "iopub.status.busy": "2021-10-22T01:00:07.624665Z",
     "iopub.status.idle": "2021-10-22T01:00:08.231187Z",
     "shell.execute_reply": "2021-10-22T01:00:08.232355Z"
    },
    "papermill": {
     "duration": 0.636023,
     "end_time": "2021-10-22T01:00:08.232852",
     "exception": false,
     "start_time": "2021-10-22T01:00:07.596829",
     "status": "completed"
    },
    "tags": []
   },
   "outputs": [],
   "source": [
    "timestamps = pd.read_sql(\"select distinct record_time from EBAY_TOP_BERLIN order by record_time desc limit 2\", sqlite3.connect(\"UsedObjects.db\"))"
   ]
  },
  {
   "cell_type": "code",
   "execution_count": 3,
   "id": "periodic-identification",
   "metadata": {
    "execution": {
     "iopub.execute_input": "2021-10-22T01:00:08.308070Z",
     "iopub.status.busy": "2021-10-22T01:00:08.306073Z",
     "iopub.status.idle": "2021-10-22T01:00:08.325861Z",
     "shell.execute_reply": "2021-10-22T01:00:08.327110Z"
    },
    "papermill": {
     "duration": 0.068978,
     "end_time": "2021-10-22T01:00:08.327500",
     "exception": false,
     "start_time": "2021-10-22T01:00:08.258522",
     "status": "completed"
    },
    "tags": []
   },
   "outputs": [
    {
     "data": {
      "text/html": [
       "<div>\n",
       "<style scoped>\n",
       "    .dataframe tbody tr th:only-of-type {\n",
       "        vertical-align: middle;\n",
       "    }\n",
       "\n",
       "    .dataframe tbody tr th {\n",
       "        vertical-align: top;\n",
       "    }\n",
       "\n",
       "    .dataframe thead th {\n",
       "        text-align: right;\n",
       "    }\n",
       "</style>\n",
       "<table border=\"1\" class=\"dataframe\">\n",
       "  <thead>\n",
       "    <tr style=\"text-align: right;\">\n",
       "      <th></th>\n",
       "      <th>RECORD_TIME</th>\n",
       "    </tr>\n",
       "  </thead>\n",
       "  <tbody>\n",
       "    <tr>\n",
       "      <th>0</th>\n",
       "      <td>2021-10-22 03:00</td>\n",
       "    </tr>\n",
       "    <tr>\n",
       "      <th>1</th>\n",
       "      <td>2021-10-22 02:30</td>\n",
       "    </tr>\n",
       "  </tbody>\n",
       "</table>\n",
       "</div>"
      ],
      "text/plain": [
       "        RECORD_TIME\n",
       "0  2021-10-22 03:00\n",
       "1  2021-10-22 02:30"
      ]
     },
     "execution_count": 3,
     "metadata": {},
     "output_type": "execute_result"
    }
   ],
   "source": [
    "timestamps"
   ]
  },
  {
   "cell_type": "code",
   "execution_count": 4,
   "id": "alternate-victory",
   "metadata": {
    "execution": {
     "iopub.execute_input": "2021-10-22T01:00:08.380414Z",
     "iopub.status.busy": "2021-10-22T01:00:08.378144Z",
     "iopub.status.idle": "2021-10-22T01:00:09.258054Z",
     "shell.execute_reply": "2021-10-22T01:00:09.259250Z"
    },
    "papermill": {
     "duration": 0.910308,
     "end_time": "2021-10-22T01:00:09.259643",
     "exception": false,
     "start_time": "2021-10-22T01:00:08.349335",
     "status": "completed"
    },
    "tags": []
   },
   "outputs": [],
   "source": [
    "df = pd.read_sql(\"select * from EBAY_TOP_BERLIN where record_time in (select distinct record_time from EBAY_TOP_BERLIN order by record_time desc limit 2)\", sqlite3.connect(\"UsedObjects.db\"))"
   ]
  },
  {
   "cell_type": "code",
   "execution_count": 5,
   "id": "popular-active",
   "metadata": {
    "execution": {
     "iopub.execute_input": "2021-10-22T01:00:09.333021Z",
     "iopub.status.busy": "2021-10-22T01:00:09.316601Z",
     "iopub.status.idle": "2021-10-22T01:00:09.350003Z",
     "shell.execute_reply": "2021-10-22T01:00:09.351279Z"
    },
    "papermill": {
     "duration": 0.071421,
     "end_time": "2021-10-22T01:00:09.351686",
     "exception": false,
     "start_time": "2021-10-22T01:00:09.280265",
     "status": "completed"
    },
    "tags": []
   },
   "outputs": [],
   "source": [
    "df_pivot = df.pivot_table(index=\"PRODUCT\", columns = \"RECORD_TIME\", values = \"LISTING_COUNT\")"
   ]
  },
  {
   "cell_type": "code",
   "execution_count": 6,
   "id": "union-huntington",
   "metadata": {
    "execution": {
     "iopub.execute_input": "2021-10-22T01:00:09.409660Z",
     "iopub.status.busy": "2021-10-22T01:00:09.407474Z",
     "iopub.status.idle": "2021-10-22T01:00:09.413250Z",
     "shell.execute_reply": "2021-10-22T01:00:09.414851Z"
    },
    "papermill": {
     "duration": 0.0415,
     "end_time": "2021-10-22T01:00:09.415324",
     "exception": false,
     "start_time": "2021-10-22T01:00:09.373824",
     "status": "completed"
    },
    "tags": []
   },
   "outputs": [],
   "source": [
    "df_pivot.columns = [\"stamp_1\", \"stamp_2\"]\n",
    "df_pivot_diff = df_pivot.diff(axis=1)"
   ]
  },
  {
   "cell_type": "code",
   "execution_count": 7,
   "id": "fifth-motion",
   "metadata": {
    "execution": {
     "iopub.execute_input": "2021-10-22T01:00:09.470889Z",
     "iopub.status.busy": "2021-10-22T01:00:09.468587Z",
     "iopub.status.idle": "2021-10-22T01:00:10.932948Z",
     "shell.execute_reply": "2021-10-22T01:00:10.934404Z"
    },
    "papermill": {
     "duration": 1.497746,
     "end_time": "2021-10-22T01:00:10.934864",
     "exception": false,
     "start_time": "2021-10-22T01:00:09.437118",
     "status": "completed"
    },
    "tags": []
   },
   "outputs": [
    {
     "data": {
      "text/plain": [
       "<AxesSubplot:ylabel='PRODUCT'>"
      ]
     },
     "execution_count": 7,
     "metadata": {},
     "output_type": "execute_result"
    },
    {
     "data": {
      "image/png": "[encoded data removed]",
      "text/plain": [
       "<Figure size 432x288 with 1 Axes>"
      ]
     },
     "metadata": {
      "needs_background": "light"
     },
     "output_type": "display_data"
    }
   ],
   "source": [
    "df_pivot_diff.sort_values(\"stamp_2\", ascending = False)[\"stamp_2\"].head(10).plot.barh()"
   ]
  },
  {
   "cell_type": "code",
   "execution_count": null,
   "id": "extra-executive",
   "metadata": {
    "papermill": {
     "duration": 0.022168,
     "end_time": "2021-10-22T01:00:10.981321",
     "exception": false,
     "start_time": "2021-10-22T01:00:10.959153",
     "status": "completed"
    },
    "tags": []
   },
   "outputs": [],
   "source": []
  }
 ],
 "metadata": {
  "kernelspec": {
   "display_name": "Python 3",
   "language": "python",
   "name": "python3"
  },
  "language_info": {
   "codemirror_mode": {
    "name": "ipython",
    "version": 3
   },
   "file_extension": ".py",
   "mimetype": "text/x-python",
   "name": "python",
   "nbconvert_exporter": "python",
   "pygments_lexer": "ipython3",
   "version": "3.9.5"
  },
  "papermill": {
   "default_parameters": {},
   "duration": 7.820614,
   "end_time": "2021-10-22T01:00:12.134061",
   "environment_variables": {},
   "exception": null,
   "input_path": "eBay_Overview.ipynb",
   "output_path": "eBay_Overview.ipynb",
   "parameters": {},
   "start_time": "2021-10-22T01:00:04.313447",
   "version": "2.3.3"
  }
 },
 "nbformat": 4,
 "nbformat_minor": 5
}