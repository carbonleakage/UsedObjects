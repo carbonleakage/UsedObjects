{
 "cells": [
  {
   "cell_type": "code",
   "execution_count": 1,
   "id": "reverse-picking",
   "metadata": {
    "execution": {
     "iopub.execute_input": "2021-10-13T21:30:06.775168Z",
     "iopub.status.busy": "2021-10-13T21:30:06.773239Z",
     "iopub.status.idle": "2021-10-13T21:30:07.571486Z",
     "shell.execute_reply": "2021-10-13T21:30:07.572781Z"
    },
    "papermill": {
     "duration": 0.848699,
     "end_time": "2021-10-13T21:30:07.573460",
     "exception": false,
     "start_time": "2021-10-13T21:30:06.724761",
     "status": "completed"
    },
    "tags": []
   },
   "outputs": [],
   "source": [
    "import pandas as pd\n",
    "import sqlite3"
   ]
  },
  {
   "cell_type": "code",
   "execution_count": 2,
   "id": "innovative-syndrome",
   "metadata": {
    "execution": {
     "iopub.execute_input": "2021-10-13T21:30:07.623799Z",
     "iopub.status.busy": "2021-10-13T21:30:07.621688Z",
     "iopub.status.idle": "2021-10-13T21:30:08.155200Z",
     "shell.execute_reply": "2021-10-13T21:30:08.153851Z"
    },
    "papermill": {
     "duration": 0.562079,
     "end_time": "2021-10-13T21:30:08.155536",
     "exception": false,
     "start_time": "2021-10-13T21:30:07.593457",
     "status": "completed"
    },
    "tags": []
   },
   "outputs": [],
   "source": [
    "timestamps = pd.read_sql(\"select distinct record_time from EBAY_TOP_BERLIN order by record_time desc limit 2\", sqlite3.connect(\"UsedObjects.db\"))"
   ]
  },
  {
   "cell_type": "code",
   "execution_count": 3,
   "id": "periodic-identification",
   "metadata": {
    "execution": {
     "iopub.execute_input": "2021-10-13T21:30:08.221121Z",
     "iopub.status.busy": "2021-10-13T21:30:08.219023Z",
     "iopub.status.idle": "2021-10-13T21:30:08.238567Z",
     "shell.execute_reply": "2021-10-13T21:30:08.239785Z"
    },
    "papermill": {
     "duration": 0.064045,
     "end_time": "2021-10-13T21:30:08.240177",
     "exception": false,
     "start_time": "2021-10-13T21:30:08.176132",
     "status": "completed"
    },
    "tags": []
   },
   "outputs": [
    {
     "data": {
      "text/html": [
       "<div>\n",
       "<style scoped>\n",
       "    .dataframe tbody tr th:only-of-type {\n",
       "        vertical-align: middle;\n",
       "    }\n",
       "\n",
       "    .dataframe tbody tr th {\n",
       "        vertical-align: top;\n",
       "    }\n",
       "\n",
       "    .dataframe thead th {\n",
       "        text-align: right;\n",
       "    }\n",
       "</style>\n",
       "<table border=\"1\" class=\"dataframe\">\n",
       "  <thead>\n",
       "    <tr style=\"text-align: right;\">\n",
       "      <th></th>\n",
       "      <th>RECORD_TIME</th>\n",
       "    </tr>\n",
       "  </thead>\n",
       "  <tbody>\n",
       "    <tr>\n",
       "      <th>0</th>\n",
       "      <td>2021-10-13 23:30</td>\n",
       "    </tr>\n",
       "    <tr>\n",
       "      <th>1</th>\n",
       "      <td>2021-10-13 23:00</td>\n",
       "    </tr>\n",
       "  </tbody>\n",
       "</table>\n",
       "</div>"
      ],
      "text/plain": [
       "        RECORD_TIME\n",
       "0  2021-10-13 23:30\n",
       "1  2021-10-13 23:00"
      ]
     },
     "execution_count": 3,
     "metadata": {},
     "output_type": "execute_result"
    }
   ],
   "source": [
    "timestamps"
   ]
  },
  {
   "cell_type": "code",
   "execution_count": 4,
   "id": "alternate-victory",
   "metadata": {
    "execution": {
     "iopub.execute_input": "2021-10-13T21:30:08.306389Z",
     "iopub.status.busy": "2021-10-13T21:30:08.303996Z",
     "iopub.status.idle": "2021-10-13T21:30:09.084229Z",
     "shell.execute_reply": "2021-10-13T21:30:09.085610Z"
    },
    "papermill": {
     "duration": 0.814946,
     "end_time": "2021-10-13T21:30:09.086034",
     "exception": false,
     "start_time": "2021-10-13T21:30:08.271088",
     "status": "completed"
    },
    "tags": []
   },
   "outputs": [],
   "source": [
    "df = pd.read_sql(\"select * from EBAY_TOP_BERLIN where record_time in (select distinct record_time from EBAY_TOP_BERLIN order by record_time desc limit 2)\", sqlite3.connect(\"UsedObjects.db\"))"
   ]
  },
  {
   "cell_type": "code",
   "execution_count": 5,
   "id": "popular-active",
   "metadata": {
    "execution": {
     "iopub.execute_input": "2021-10-13T21:30:09.155329Z",
     "iopub.status.busy": "2021-10-13T21:30:09.143760Z",
     "iopub.status.idle": "2021-10-13T21:30:09.171268Z",
     "shell.execute_reply": "2021-10-13T21:30:09.172482Z"
    },
    "papermill": {
     "duration": 0.066487,
     "end_time": "2021-10-13T21:30:09.173061",
     "exception": false,
     "start_time": "2021-10-13T21:30:09.106574",
     "status": "completed"
    },
    "tags": []
   },
   "outputs": [],
   "source": [
    "df_pivot = df.pivot_table(index=\"PRODUCT\", columns = \"RECORD_TIME\", values = \"LISTING_COUNT\")"
   ]
  },
  {
   "cell_type": "code",
   "execution_count": 6,
   "id": "union-huntington",
   "metadata": {
    "execution": {
     "iopub.execute_input": "2021-10-13T21:30:09.231483Z",
     "iopub.status.busy": "2021-10-13T21:30:09.229060Z",
     "iopub.status.idle": "2021-10-13T21:30:09.235061Z",
     "shell.execute_reply": "2021-10-13T21:30:09.236523Z"
    },
    "papermill": {
     "duration": 0.041953,
     "end_time": "2021-10-13T21:30:09.237030",
     "exception": false,
     "start_time": "2021-10-13T21:30:09.195077",
     "status": "completed"
    },
    "tags": []
   },
   "outputs": [],
   "source": [
    "df_pivot.columns = [\"stamp_1\", \"stamp_2\"]\n",
    "df_pivot_diff = df_pivot.diff(axis=1)"
   ]
  },
  {
   "cell_type": "code",
   "execution_count": 7,
   "id": "fifth-motion",
   "metadata": {
    "execution": {
     "iopub.execute_input": "2021-10-13T21:30:09.291909Z",
     "iopub.status.busy": "2021-10-13T21:30:09.289733Z",
     "iopub.status.idle": "2021-10-13T21:30:10.764157Z",
     "shell.execute_reply": "2021-10-13T21:30:10.762771Z"
    },
    "papermill": {
     "duration": 1.505492,
     "end_time": "2021-10-13T21:30:10.764505",
     "exception": false,
     "start_time": "2021-10-13T21:30:09.259013",
     "status": "completed"
    },
    "tags": []
   },
   "outputs": [
    {
     "data": {
      "text/plain": [
       "<AxesSubplot:ylabel='PRODUCT'>"
      ]
     },
     "execution_count": 7,
     "metadata": {},
     "output_type": "execute_result"
    },
    {
     "data": {
      "image/png": "[encoded data removed]",
      "text/plain": [
       "<Figure size 432x288 with 1 Axes>"
      ]
     },
     "metadata": {
      "needs_background": "light"
     },
     "output_type": "display_data"
    }
   ],
   "source": [
    "df_pivot_diff.sort_values(\"stamp_2\", ascending = False)[\"stamp_2\"].head(10).plot.barh()"
   ]
  },
  {
   "cell_type": "code",
   "execution_count": null,
   "id": "extra-executive",
   "metadata": {
    "papermill": {
     "duration": 0.02202,
     "end_time": "2021-10-13T21:30:10.812369",
     "exception": false,
     "start_time": "2021-10-13T21:30:10.790349",
     "status": "completed"
    },
    "tags": []
   },
   "outputs": [],
   "source": []
  }
 ],
 "metadata": {
  "kernelspec": {
   "display_name": "Python 3",
   "language": "python",
   "name": "python3"
  },
  "language_info": {
   "codemirror_mode": {
    "name": "ipython",
    "version": 3
   },
   "file_extension": ".py",
   "mimetype": "text/x-python",
   "name": "python",
   "nbconvert_exporter": "python",
   "pygments_lexer": "ipython3",
   "version": "3.9.5"
  },
  "papermill": {
   "default_parameters": {},
   "duration": 7.816998,
   "end_time": "2021-10-13T21:30:12.150213",
   "environment_variables": {},
   "exception": null,
   "input_path": "eBay_Overview.ipynb",
   "output_path": "eBay_Overview.ipynb",
   "parameters": {},
   "start_time": "2021-10-13T21:30:04.333215",
   "version": "2.3.3"
  }
 },
 "nbformat": 4,
 "nbformat_minor": 5
}