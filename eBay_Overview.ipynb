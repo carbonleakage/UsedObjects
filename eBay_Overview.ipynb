{
 "cells": [
  {
   "cell_type": "code",
   "execution_count": 1,
   "id": "reverse-picking",
   "metadata": {
    "execution": {
     "iopub.execute_input": "2021-11-15T09:30:07.695234Z",
     "iopub.status.busy": "2021-11-15T09:30:07.692531Z",
     "iopub.status.idle": "2021-11-15T09:30:08.667061Z",
     "shell.execute_reply": "2021-11-15T09:30:08.668626Z"
    },
    "papermill": {
     "duration": 1.023834,
     "end_time": "2021-11-15T09:30:08.669419",
     "exception": false,
     "start_time": "2021-11-15T09:30:07.645585",
     "status": "completed"
    },
    "tags": []
   },
   "outputs": [],
   "source": [
    "import pandas as pd\n",
    "import sqlite3"
   ]
  },
  {
   "cell_type": "code",
   "execution_count": 2,
   "id": "innovative-syndrome",
   "metadata": {
    "execution": {
     "iopub.execute_input": "2021-11-15T09:30:08.722277Z",
     "iopub.status.busy": "2021-11-15T09:30:08.720095Z",
     "iopub.status.idle": "2021-11-15T09:30:09.537809Z",
     "shell.execute_reply": "2021-11-15T09:30:09.539551Z"
    },
    "papermill": {
     "duration": 0.850282,
     "end_time": "2021-11-15T09:30:09.540050",
     "exception": false,
     "start_time": "2021-11-15T09:30:08.689768",
     "status": "completed"
    },
    "tags": []
   },
   "outputs": [],
   "source": [
    "timestamps = pd.read_sql(\"select distinct record_time from EBAY_TOP_BERLIN order by record_time desc limit 2\", sqlite3.connect(\"UsedObjects.db\"))"
   ]
  },
  {
   "cell_type": "code",
   "execution_count": 3,
   "id": "periodic-identification",
   "metadata": {
    "execution": {
     "iopub.execute_input": "2021-11-15T09:30:09.635009Z",
     "iopub.status.busy": "2021-11-15T09:30:09.632570Z",
     "iopub.status.idle": "2021-11-15T09:30:09.657572Z",
     "shell.execute_reply": "2021-11-15T09:30:09.655719Z"
    },
    "papermill": {
     "duration": 0.073479,
     "end_time": "2021-11-15T09:30:09.657991",
     "exception": false,
     "start_time": "2021-11-15T09:30:09.584512",
     "status": "completed"
    },
    "tags": []
   },
   "outputs": [
    {
     "data": {
      "text/html": [
       "<div>\n",
       "<style scoped>\n",
       "    .dataframe tbody tr th:only-of-type {\n",
       "        vertical-align: middle;\n",
       "    }\n",
       "\n",
       "    .dataframe tbody tr th {\n",
       "        vertical-align: top;\n",
       "    }\n",
       "\n",
       "    .dataframe thead th {\n",
       "        text-align: right;\n",
       "    }\n",
       "</style>\n",
       "<table border=\"1\" class=\"dataframe\">\n",
       "  <thead>\n",
       "    <tr style=\"text-align: right;\">\n",
       "      <th></th>\n",
       "      <th>RECORD_TIME</th>\n",
       "    </tr>\n",
       "  </thead>\n",
       "  <tbody>\n",
       "    <tr>\n",
       "      <th>0</th>\n",
       "      <td>2021-11-15 10:30</td>\n",
       "    </tr>\n",
       "    <tr>\n",
       "      <th>1</th>\n",
       "      <td>2021-11-15 10:00</td>\n",
       "    </tr>\n",
       "  </tbody>\n",
       "</table>\n",
       "</div>"
      ],
      "text/plain": [
       "        RECORD_TIME\n",
       "0  2021-11-15 10:30\n",
       "1  2021-11-15 10:00"
      ]
     },
     "execution_count": 3,
     "metadata": {},
     "output_type": "execute_result"
    }
   ],
   "source": [
    "timestamps"
   ]
  },
  {
   "cell_type": "code",
   "execution_count": 4,
   "id": "alternate-victory",
   "metadata": {
    "execution": {
     "iopub.execute_input": "2021-11-15T09:30:09.714361Z",
     "iopub.status.busy": "2021-11-15T09:30:09.711935Z",
     "iopub.status.idle": "2021-11-15T09:30:10.915962Z",
     "shell.execute_reply": "2021-11-15T09:30:10.918128Z"
    },
    "papermill": {
     "duration": 1.239073,
     "end_time": "2021-11-15T09:30:10.918600",
     "exception": false,
     "start_time": "2021-11-15T09:30:09.679527",
     "status": "completed"
    },
    "tags": []
   },
   "outputs": [],
   "source": [
    "df = pd.read_sql(\"select * from EBAY_TOP_BERLIN where record_time in (select distinct record_time from EBAY_TOP_BERLIN order by record_time desc limit 2)\", sqlite3.connect(\"UsedObjects.db\"))"
   ]
  },
  {
   "cell_type": "code",
   "execution_count": 5,
   "id": "popular-active",
   "metadata": {
    "execution": {
     "iopub.execute_input": "2021-11-15T09:30:10.996333Z",
     "iopub.status.busy": "2021-11-15T09:30:10.981170Z",
     "iopub.status.idle": "2021-11-15T09:30:11.017680Z",
     "shell.execute_reply": "2021-11-15T09:30:11.019032Z"
    },
    "papermill": {
     "duration": 0.080331,
     "end_time": "2021-11-15T09:30:11.019504",
     "exception": false,
     "start_time": "2021-11-15T09:30:10.939173",
     "status": "completed"
    },
    "tags": []
   },
   "outputs": [],
   "source": [
    "df_pivot = df.pivot_table(index=\"PRODUCT\", columns = \"RECORD_TIME\", values = \"LISTING_COUNT\")"
   ]
  },
  {
   "cell_type": "code",
   "execution_count": 6,
   "id": "union-huntington",
   "metadata": {
    "execution": {
     "iopub.execute_input": "2021-11-15T09:30:11.078441Z",
     "iopub.status.busy": "2021-11-15T09:30:11.076137Z",
     "iopub.status.idle": "2021-11-15T09:30:11.083249Z",
     "shell.execute_reply": "2021-11-15T09:30:11.081703Z"
    },
    "papermill": {
     "duration": 0.043726,
     "end_time": "2021-11-15T09:30:11.083654",
     "exception": false,
     "start_time": "2021-11-15T09:30:11.039928",
     "status": "completed"
    },
    "tags": []
   },
   "outputs": [],
   "source": [
    "df_pivot.columns = [\"stamp_1\", \"stamp_2\"]\n",
    "df_pivot_diff = df_pivot.diff(axis=1)"
   ]
  },
  {
   "cell_type": "code",
   "execution_count": 7,
   "id": "fifth-motion",
   "metadata": {
    "execution": {
     "iopub.execute_input": "2021-11-15T09:30:11.141350Z",
     "iopub.status.busy": "2021-11-15T09:30:11.138912Z",
     "iopub.status.idle": "2021-11-15T09:30:13.160641Z",
     "shell.execute_reply": "2021-11-15T09:30:13.162163Z"
    },
    "papermill": {
     "duration": 2.058929,
     "end_time": "2021-11-15T09:30:13.162636",
     "exception": false,
     "start_time": "2021-11-15T09:30:11.103707",
     "status": "completed"
    },
    "tags": []
   },
   "outputs": [
    {
     "data": {
      "text/plain": [
       "<AxesSubplot:ylabel='PRODUCT'>"
      ]
     },
     "execution_count": 7,
     "metadata": {},
     "output_type": "execute_result"
    },
    {
     "data": {
      "image/png": "[encoded data removed]",
      "text/plain": [
       "<Figure size 432x288 with 1 Axes>"
      ]
     },
     "metadata": {
      "needs_background": "light"
     },
     "output_type": "display_data"
    }
   ],
   "source": [
    "df_pivot_diff.sort_values(\"stamp_2\", ascending = False)[\"stamp_2\"].head(10).plot.barh()"
   ]
  },
  {
   "cell_type": "code",
   "execution_count": null,
   "id": "extra-executive",
   "metadata": {
    "papermill": {
     "duration": 0.022309,
     "end_time": "2021-11-15T09:30:13.210402",
     "exception": false,
     "start_time": "2021-11-15T09:30:13.188093",
     "status": "completed"
    },
    "tags": []
   },
   "outputs": [],
   "source": []
  }
 ],
 "metadata": {
  "kernelspec": {
   "display_name": "Python 3",
   "language": "python",
   "name": "python3"
  },
  "language_info": {
   "codemirror_mode": {
    "name": "ipython",
    "version": 3
   },
   "file_extension": ".py",
   "mimetype": "text/x-python",
   "name": "python",
   "nbconvert_exporter": "python",
   "pygments_lexer": "ipython3",
   "version": "3.9.5"
  },
  "papermill": {
   "default_parameters": {},
   "duration": 9.940348,
   "end_time": "2021-11-15T09:30:14.835402",
   "environment_variables": {},
   "exception": null,
   "input_path": "eBay_Overview.ipynb",
   "output_path": "eBay_Overview.ipynb",
   "parameters": {},
   "start_time": "2021-11-15T09:30:04.895054",
   "version": "2.3.3"
  }
 },
 "nbformat": 4,
 "nbformat_minor": 5
}