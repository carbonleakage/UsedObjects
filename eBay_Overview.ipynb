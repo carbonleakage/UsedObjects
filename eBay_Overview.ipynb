{
 "cells": [
  {
   "cell_type": "code",
   "execution_count": 1,
   "id": "reverse-picking",
   "metadata": {
    "execution": {
     "iopub.execute_input": "2021-10-16T15:00:07.109860Z",
     "iopub.status.busy": "2021-10-16T15:00:07.107803Z",
     "iopub.status.idle": "2021-10-16T15:00:07.917704Z",
     "shell.execute_reply": "2021-10-16T15:00:07.915893Z"
    },
    "papermill": {
     "duration": 0.85772,
     "end_time": "2021-10-16T15:00:07.918120",
     "exception": false,
     "start_time": "2021-10-16T15:00:07.060400",
     "status": "completed"
    },
    "tags": []
   },
   "outputs": [],
   "source": [
    "import pandas as pd\n",
    "import sqlite3"
   ]
  },
  {
   "cell_type": "code",
   "execution_count": 2,
   "id": "innovative-syndrome",
   "metadata": {
    "execution": {
     "iopub.execute_input": "2021-10-16T15:00:07.969881Z",
     "iopub.status.busy": "2021-10-16T15:00:07.967467Z",
     "iopub.status.idle": "2021-10-16T15:00:08.535617Z",
     "shell.execute_reply": "2021-10-16T15:00:08.536814Z"
    },
    "papermill": {
     "duration": 0.597848,
     "end_time": "2021-10-16T15:00:08.537242",
     "exception": false,
     "start_time": "2021-10-16T15:00:07.939394",
     "status": "completed"
    },
    "tags": []
   },
   "outputs": [],
   "source": [
    "timestamps = pd.read_sql(\"select distinct record_time from EBAY_TOP_BERLIN order by record_time desc limit 2\", sqlite3.connect(\"UsedObjects.db\"))"
   ]
  },
  {
   "cell_type": "code",
   "execution_count": 3,
   "id": "periodic-identification",
   "metadata": {
    "execution": {
     "iopub.execute_input": "2021-10-16T15:00:08.616309Z",
     "iopub.status.busy": "2021-10-16T15:00:08.611068Z",
     "iopub.status.idle": "2021-10-16T15:00:08.632060Z",
     "shell.execute_reply": "2021-10-16T15:00:08.633687Z"
    },
    "papermill": {
     "duration": 0.069763,
     "end_time": "2021-10-16T15:00:08.634152",
     "exception": false,
     "start_time": "2021-10-16T15:00:08.564389",
     "status": "completed"
    },
    "tags": []
   },
   "outputs": [
    {
     "data": {
      "text/html": [
       "<div>\n",
       "<style scoped>\n",
       "    .dataframe tbody tr th:only-of-type {\n",
       "        vertical-align: middle;\n",
       "    }\n",
       "\n",
       "    .dataframe tbody tr th {\n",
       "        vertical-align: top;\n",
       "    }\n",
       "\n",
       "    .dataframe thead th {\n",
       "        text-align: right;\n",
       "    }\n",
       "</style>\n",
       "<table border=\"1\" class=\"dataframe\">\n",
       "  <thead>\n",
       "    <tr style=\"text-align: right;\">\n",
       "      <th></th>\n",
       "      <th>RECORD_TIME</th>\n",
       "    </tr>\n",
       "  </thead>\n",
       "  <tbody>\n",
       "    <tr>\n",
       "      <th>0</th>\n",
       "      <td>2021-10-16 17:00</td>\n",
       "    </tr>\n",
       "    <tr>\n",
       "      <th>1</th>\n",
       "      <td>2021-10-16 16:30</td>\n",
       "    </tr>\n",
       "  </tbody>\n",
       "</table>\n",
       "</div>"
      ],
      "text/plain": [
       "        RECORD_TIME\n",
       "0  2021-10-16 17:00\n",
       "1  2021-10-16 16:30"
      ]
     },
     "execution_count": 3,
     "metadata": {},
     "output_type": "execute_result"
    }
   ],
   "source": [
    "timestamps"
   ]
  },
  {
   "cell_type": "code",
   "execution_count": 4,
   "id": "alternate-victory",
   "metadata": {
    "execution": {
     "iopub.execute_input": "2021-10-16T15:00:08.687030Z",
     "iopub.status.busy": "2021-10-16T15:00:08.684839Z",
     "iopub.status.idle": "2021-10-16T15:00:09.496461Z",
     "shell.execute_reply": "2021-10-16T15:00:09.498078Z"
    },
    "papermill": {
     "duration": 0.84239,
     "end_time": "2021-10-16T15:00:09.498648",
     "exception": false,
     "start_time": "2021-10-16T15:00:08.656258",
     "status": "completed"
    },
    "tags": []
   },
   "outputs": [],
   "source": [
    "df = pd.read_sql(\"select * from EBAY_TOP_BERLIN where record_time in (select distinct record_time from EBAY_TOP_BERLIN order by record_time desc limit 2)\", sqlite3.connect(\"UsedObjects.db\"))"
   ]
  },
  {
   "cell_type": "code",
   "execution_count": 5,
   "id": "popular-active",
   "metadata": {
    "execution": {
     "iopub.execute_input": "2021-10-16T15:00:09.571071Z",
     "iopub.status.busy": "2021-10-16T15:00:09.558227Z",
     "iopub.status.idle": "2021-10-16T15:00:09.586506Z",
     "shell.execute_reply": "2021-10-16T15:00:09.587737Z"
    },
    "papermill": {
     "duration": 0.068551,
     "end_time": "2021-10-16T15:00:09.588132",
     "exception": false,
     "start_time": "2021-10-16T15:00:09.519581",
     "status": "completed"
    },
    "tags": []
   },
   "outputs": [],
   "source": [
    "df_pivot = df.pivot_table(index=\"PRODUCT\", columns = \"RECORD_TIME\", values = \"LISTING_COUNT\")"
   ]
  },
  {
   "cell_type": "code",
   "execution_count": 6,
   "id": "union-huntington",
   "metadata": {
    "execution": {
     "iopub.execute_input": "2021-10-16T15:00:09.647129Z",
     "iopub.status.busy": "2021-10-16T15:00:09.644599Z",
     "iopub.status.idle": "2021-10-16T15:00:09.650542Z",
     "shell.execute_reply": "2021-10-16T15:00:09.651844Z"
    },
    "papermill": {
     "duration": 0.042001,
     "end_time": "2021-10-16T15:00:09.652249",
     "exception": false,
     "start_time": "2021-10-16T15:00:09.610248",
     "status": "completed"
    },
    "tags": []
   },
   "outputs": [],
   "source": [
    "df_pivot.columns = [\"stamp_1\", \"stamp_2\"]\n",
    "df_pivot_diff = df_pivot.diff(axis=1)"
   ]
  },
  {
   "cell_type": "code",
   "execution_count": 7,
   "id": "fifth-motion",
   "metadata": {
    "execution": {
     "iopub.execute_input": "2021-10-16T15:00:09.707056Z",
     "iopub.status.busy": "2021-10-16T15:00:09.704606Z",
     "iopub.status.idle": "2021-10-16T15:00:11.219437Z",
     "shell.execute_reply": "2021-10-16T15:00:11.217596Z"
    },
    "papermill": {
     "duration": 1.546144,
     "end_time": "2021-10-16T15:00:11.219818",
     "exception": false,
     "start_time": "2021-10-16T15:00:09.673674",
     "status": "completed"
    },
    "tags": []
   },
   "outputs": [
    {
     "data": {
      "text/plain": [
       "<AxesSubplot:ylabel='PRODUCT'>"
      ]
     },
     "execution_count": 7,
     "metadata": {},
     "output_type": "execute_result"
    },
    {
     "data": {
      "image/png": "[encoded data removed]",
      "text/plain": [
       "<Figure size 432x288 with 1 Axes>"
      ]
     },
     "metadata": {
      "needs_background": "light"
     },
     "output_type": "display_data"
    }
   ],
   "source": [
    "df_pivot_diff.sort_values(\"stamp_2\", ascending = False)[\"stamp_2\"].head(10).plot.barh()"
   ]
  },
  {
   "cell_type": "code",
   "execution_count": null,
   "id": "extra-executive",
   "metadata": {
    "papermill": {
     "duration": 0.021828,
     "end_time": "2021-10-16T15:00:11.265903",
     "exception": false,
     "start_time": "2021-10-16T15:00:11.244075",
     "status": "completed"
    },
    "tags": []
   },
   "outputs": [],
   "source": []
  }
 ],
 "metadata": {
  "kernelspec": {
   "display_name": "Python 3",
   "language": "python",
   "name": "python3"
  },
  "language_info": {
   "codemirror_mode": {
    "name": "ipython",
    "version": 3
   },
   "file_extension": ".py",
   "mimetype": "text/x-python",
   "name": "python",
   "nbconvert_exporter": "python",
   "pygments_lexer": "ipython3",
   "version": "3.9.5"
  },
  "papermill": {
   "default_parameters": {},
   "duration": 7.822206,
   "end_time": "2021-10-16T15:00:12.472128",
   "environment_variables": {},
   "exception": null,
   "input_path": "eBay_Overview.ipynb",
   "output_path": "eBay_Overview.ipynb",
   "parameters": {},
   "start_time": "2021-10-16T15:00:04.649922",
   "version": "2.3.3"
  }
 },
 "nbformat": 4,
 "nbformat_minor": 5
}