{
 "cells": [
  {
   "cell_type": "code",
   "execution_count": 1,
   "id": "reverse-picking",
   "metadata": {
    "execution": {
     "iopub.execute_input": "2021-10-16T23:00:07.298842Z",
     "iopub.status.busy": "2021-10-16T23:00:07.296842Z",
     "iopub.status.idle": "2021-10-16T23:00:08.107052Z",
     "shell.execute_reply": "2021-10-16T23:00:08.108324Z"
    },
    "papermill": {
     "duration": 0.862464,
     "end_time": "2021-10-16T23:00:08.109161",
     "exception": false,
     "start_time": "2021-10-16T23:00:07.246697",
     "status": "completed"
    },
    "tags": []
   },
   "outputs": [],
   "source": [
    "import pandas as pd\n",
    "import sqlite3"
   ]
  },
  {
   "cell_type": "code",
   "execution_count": 2,
   "id": "innovative-syndrome",
   "metadata": {
    "execution": {
     "iopub.execute_input": "2021-10-16T23:00:08.162095Z",
     "iopub.status.busy": "2021-10-16T23:00:08.159703Z",
     "iopub.status.idle": "2021-10-16T23:00:08.729262Z",
     "shell.execute_reply": "2021-10-16T23:00:08.730558Z"
    },
    "papermill": {
     "duration": 0.599568,
     "end_time": "2021-10-16T23:00:08.730956",
     "exception": false,
     "start_time": "2021-10-16T23:00:08.131388",
     "status": "completed"
    },
    "tags": []
   },
   "outputs": [],
   "source": [
    "timestamps = pd.read_sql(\"select distinct record_time from EBAY_TOP_BERLIN order by record_time desc limit 2\", sqlite3.connect(\"UsedObjects.db\"))"
   ]
  },
  {
   "cell_type": "code",
   "execution_count": 3,
   "id": "periodic-identification",
   "metadata": {
    "execution": {
     "iopub.execute_input": "2021-10-16T23:00:08.820012Z",
     "iopub.status.busy": "2021-10-16T23:00:08.817949Z",
     "iopub.status.idle": "2021-10-16T23:00:08.838818Z",
     "shell.execute_reply": "2021-10-16T23:00:08.837539Z"
    },
    "papermill": {
     "duration": 0.070152,
     "end_time": "2021-10-16T23:00:08.839167",
     "exception": false,
     "start_time": "2021-10-16T23:00:08.769015",
     "status": "completed"
    },
    "tags": []
   },
   "outputs": [
    {
     "data": {
      "text/html": [
       "<div>\n",
       "<style scoped>\n",
       "    .dataframe tbody tr th:only-of-type {\n",
       "        vertical-align: middle;\n",
       "    }\n",
       "\n",
       "    .dataframe tbody tr th {\n",
       "        vertical-align: top;\n",
       "    }\n",
       "\n",
       "    .dataframe thead th {\n",
       "        text-align: right;\n",
       "    }\n",
       "</style>\n",
       "<table border=\"1\" class=\"dataframe\">\n",
       "  <thead>\n",
       "    <tr style=\"text-align: right;\">\n",
       "      <th></th>\n",
       "      <th>RECORD_TIME</th>\n",
       "    </tr>\n",
       "  </thead>\n",
       "  <tbody>\n",
       "    <tr>\n",
       "      <th>0</th>\n",
       "      <td>2021-10-17 01:00</td>\n",
       "    </tr>\n",
       "    <tr>\n",
       "      <th>1</th>\n",
       "      <td>2021-10-17 00:30</td>\n",
       "    </tr>\n",
       "  </tbody>\n",
       "</table>\n",
       "</div>"
      ],
      "text/plain": [
       "        RECORD_TIME\n",
       "0  2021-10-17 01:00\n",
       "1  2021-10-17 00:30"
      ]
     },
     "execution_count": 3,
     "metadata": {},
     "output_type": "execute_result"
    }
   ],
   "source": [
    "timestamps"
   ]
  },
  {
   "cell_type": "code",
   "execution_count": 4,
   "id": "alternate-victory",
   "metadata": {
    "execution": {
     "iopub.execute_input": "2021-10-16T23:00:08.893544Z",
     "iopub.status.busy": "2021-10-16T23:00:08.891172Z",
     "iopub.status.idle": "2021-10-16T23:00:09.731928Z",
     "shell.execute_reply": "2021-10-16T23:00:09.733296Z"
    },
    "papermill": {
     "duration": 0.871435,
     "end_time": "2021-10-16T23:00:09.733754",
     "exception": false,
     "start_time": "2021-10-16T23:00:08.862319",
     "status": "completed"
    },
    "tags": []
   },
   "outputs": [],
   "source": [
    "df = pd.read_sql(\"select * from EBAY_TOP_BERLIN where record_time in (select distinct record_time from EBAY_TOP_BERLIN order by record_time desc limit 2)\", sqlite3.connect(\"UsedObjects.db\"))"
   ]
  },
  {
   "cell_type": "code",
   "execution_count": 5,
   "id": "popular-active",
   "metadata": {
    "execution": {
     "iopub.execute_input": "2021-10-16T23:00:09.798226Z",
     "iopub.status.busy": "2021-10-16T23:00:09.792019Z",
     "iopub.status.idle": "2021-10-16T23:00:09.819677Z",
     "shell.execute_reply": "2021-10-16T23:00:09.821137Z"
    },
    "papermill": {
     "duration": 0.066127,
     "end_time": "2021-10-16T23:00:09.821559",
     "exception": false,
     "start_time": "2021-10-16T23:00:09.755432",
     "status": "completed"
    },
    "tags": []
   },
   "outputs": [],
   "source": [
    "df_pivot = df.pivot_table(index=\"PRODUCT\", columns = \"RECORD_TIME\", values = \"LISTING_COUNT\")"
   ]
  },
  {
   "cell_type": "code",
   "execution_count": 6,
   "id": "union-huntington",
   "metadata": {
    "execution": {
     "iopub.execute_input": "2021-10-16T23:00:09.879507Z",
     "iopub.status.busy": "2021-10-16T23:00:09.877065Z",
     "iopub.status.idle": "2021-10-16T23:00:09.882838Z",
     "shell.execute_reply": "2021-10-16T23:00:09.884134Z"
    },
    "papermill": {
     "duration": 0.041824,
     "end_time": "2021-10-16T23:00:09.884553",
     "exception": false,
     "start_time": "2021-10-16T23:00:09.842729",
     "status": "completed"
    },
    "tags": []
   },
   "outputs": [],
   "source": [
    "df_pivot.columns = [\"stamp_1\", \"stamp_2\"]\n",
    "df_pivot_diff = df_pivot.diff(axis=1)"
   ]
  },
  {
   "cell_type": "code",
   "execution_count": 7,
   "id": "fifth-motion",
   "metadata": {
    "execution": {
     "iopub.execute_input": "2021-10-16T23:00:09.938732Z",
     "iopub.status.busy": "2021-10-16T23:00:09.936321Z",
     "iopub.status.idle": "2021-10-16T23:00:11.443760Z",
     "shell.execute_reply": "2021-10-16T23:00:11.445383Z"
    },
    "papermill": {
     "duration": 1.540812,
     "end_time": "2021-10-16T23:00:11.445845",
     "exception": false,
     "start_time": "2021-10-16T23:00:09.905033",
     "status": "completed"
    },
    "tags": []
   },
   "outputs": [
    {
     "data": {
      "text/plain": [
       "<AxesSubplot:ylabel='PRODUCT'>"
      ]
     },
     "execution_count": 7,
     "metadata": {},
     "output_type": "execute_result"
    },
    {
     "data": {
      "image/png": "[encoded data removed]",
      "text/plain": [
       "<Figure size 432x288 with 1 Axes>"
      ]
     },
     "metadata": {
      "needs_background": "light"
     },
     "output_type": "display_data"
    }
   ],
   "source": [
    "df_pivot_diff.sort_values(\"stamp_2\", ascending = False)[\"stamp_2\"].head(10).plot.barh()"
   ]
  },
  {
   "cell_type": "code",
   "execution_count": null,
   "id": "extra-executive",
   "metadata": {
    "papermill": {
     "duration": 0.022,
     "end_time": "2021-10-16T23:00:11.494396",
     "exception": false,
     "start_time": "2021-10-16T23:00:11.472396",
     "status": "completed"
    },
    "tags": []
   },
   "outputs": [],
   "source": []
  }
 ],
 "metadata": {
  "kernelspec": {
   "display_name": "Python 3",
   "language": "python",
   "name": "python3"
  },
  "language_info": {
   "codemirror_mode": {
    "name": "ipython",
    "version": 3
   },
   "file_extension": ".py",
   "mimetype": "text/x-python",
   "name": "python",
   "nbconvert_exporter": "python",
   "pygments_lexer": "ipython3",
   "version": "3.9.5"
  },
  "papermill": {
   "default_parameters": {},
   "duration": 7.828652,
   "end_time": "2021-10-16T23:00:12.659572",
   "environment_variables": {},
   "exception": null,
   "input_path": "eBay_Overview.ipynb",
   "output_path": "eBay_Overview.ipynb",
   "parameters": {},
   "start_time": "2021-10-16T23:00:04.830920",
   "version": "2.3.3"
  }
 },
 "nbformat": 4,
 "nbformat_minor": 5
}