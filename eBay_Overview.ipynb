{
 "cells": [
  {
   "cell_type": "code",
   "execution_count": 1,
   "id": "reverse-picking",
   "metadata": {
    "execution": {
     "iopub.execute_input": "2021-12-14T19:00:07.925155Z",
     "iopub.status.busy": "2021-12-14T19:00:07.922819Z",
     "iopub.status.idle": "2021-12-14T19:00:08.883879Z",
     "shell.execute_reply": "2021-12-14T19:00:08.880646Z"
    },
    "papermill": {
     "duration": 1.008836,
     "end_time": "2021-12-14T19:00:08.884663",
     "exception": false,
     "start_time": "2021-12-14T19:00:07.875827",
     "status": "completed"
    },
    "tags": []
   },
   "outputs": [],
   "source": [
    "import pandas as pd\n",
    "import sqlite3"
   ]
  },
  {
   "cell_type": "code",
   "execution_count": 2,
   "id": "innovative-syndrome",
   "metadata": {
    "execution": {
     "iopub.execute_input": "2021-12-14T19:00:08.950420Z",
     "iopub.status.busy": "2021-12-14T19:00:08.948047Z",
     "iopub.status.idle": "2021-12-14T19:00:10.036139Z",
     "shell.execute_reply": "2021-12-14T19:00:10.038293Z"
    },
    "papermill": {
     "duration": 1.122849,
     "end_time": "2021-12-14T19:00:10.038778",
     "exception": false,
     "start_time": "2021-12-14T19:00:08.915929",
     "status": "completed"
    },
    "tags": []
   },
   "outputs": [],
   "source": [
    "timestamps = pd.read_sql(\"select distinct record_time from EBAY_TOP_BERLIN order by record_time desc limit 2\", sqlite3.connect(\"UsedObjects.db\"))"
   ]
  },
  {
   "cell_type": "code",
   "execution_count": 3,
   "id": "periodic-identification",
   "metadata": {
    "execution": {
     "iopub.execute_input": "2021-12-14T19:00:10.099658Z",
     "iopub.status.busy": "2021-12-14T19:00:10.097712Z",
     "iopub.status.idle": "2021-12-14T19:00:10.145858Z",
     "shell.execute_reply": "2021-12-14T19:00:10.148199Z"
    },
    "papermill": {
     "duration": 0.088601,
     "end_time": "2021-12-14T19:00:10.148780",
     "exception": false,
     "start_time": "2021-12-14T19:00:10.060179",
     "status": "completed"
    },
    "tags": []
   },
   "outputs": [
    {
     "data": {
      "text/html": [
       "<div>\n",
       "<style scoped>\n",
       "    .dataframe tbody tr th:only-of-type {\n",
       "        vertical-align: middle;\n",
       "    }\n",
       "\n",
       "    .dataframe tbody tr th {\n",
       "        vertical-align: top;\n",
       "    }\n",
       "\n",
       "    .dataframe thead th {\n",
       "        text-align: right;\n",
       "    }\n",
       "</style>\n",
       "<table border=\"1\" class=\"dataframe\">\n",
       "  <thead>\n",
       "    <tr style=\"text-align: right;\">\n",
       "      <th></th>\n",
       "      <th>RECORD_TIME</th>\n",
       "    </tr>\n",
       "  </thead>\n",
       "  <tbody>\n",
       "    <tr>\n",
       "      <th>0</th>\n",
       "      <td>2021-12-14 20:00</td>\n",
       "    </tr>\n",
       "    <tr>\n",
       "      <th>1</th>\n",
       "      <td>2021-12-14 19:30</td>\n",
       "    </tr>\n",
       "  </tbody>\n",
       "</table>\n",
       "</div>"
      ],
      "text/plain": [
       "        RECORD_TIME\n",
       "0  2021-12-14 20:00\n",
       "1  2021-12-14 19:30"
      ]
     },
     "execution_count": 3,
     "metadata": {},
     "output_type": "execute_result"
    }
   ],
   "source": [
    "timestamps"
   ]
  },
  {
   "cell_type": "code",
   "execution_count": 4,
   "id": "alternate-victory",
   "metadata": {
    "execution": {
     "iopub.execute_input": "2021-12-14T19:00:10.205610Z",
     "iopub.status.busy": "2021-12-14T19:00:10.203313Z",
     "iopub.status.idle": "2021-12-14T19:00:11.778155Z",
     "shell.execute_reply": "2021-12-14T19:00:11.780250Z"
    },
    "papermill": {
     "duration": 1.609251,
     "end_time": "2021-12-14T19:00:11.780782",
     "exception": false,
     "start_time": "2021-12-14T19:00:10.171531",
     "status": "completed"
    },
    "tags": []
   },
   "outputs": [],
   "source": [
    "df = pd.read_sql(\"select * from EBAY_TOP_BERLIN where record_time in (select distinct record_time from EBAY_TOP_BERLIN order by record_time desc limit 2)\", sqlite3.connect(\"UsedObjects.db\"))"
   ]
  },
  {
   "cell_type": "code",
   "execution_count": 5,
   "id": "popular-active",
   "metadata": {
    "execution": {
     "iopub.execute_input": "2021-12-14T19:00:11.856096Z",
     "iopub.status.busy": "2021-12-14T19:00:11.842203Z",
     "iopub.status.idle": "2021-12-14T19:00:11.876809Z",
     "shell.execute_reply": "2021-12-14T19:00:11.875245Z"
    },
    "papermill": {
     "duration": 0.0754,
     "end_time": "2021-12-14T19:00:11.877236",
     "exception": false,
     "start_time": "2021-12-14T19:00:11.801836",
     "status": "completed"
    },
    "tags": []
   },
   "outputs": [],
   "source": [
    "df_pivot = df.pivot_table(index=\"PRODUCT\", columns = \"RECORD_TIME\", values = \"LISTING_COUNT\")"
   ]
  },
  {
   "cell_type": "code",
   "execution_count": 6,
   "id": "union-huntington",
   "metadata": {
    "execution": {
     "iopub.execute_input": "2021-12-14T19:00:11.939120Z",
     "iopub.status.busy": "2021-12-14T19:00:11.936926Z",
     "iopub.status.idle": "2021-12-14T19:00:11.942852Z",
     "shell.execute_reply": "2021-12-14T19:00:11.944306Z"
    },
    "papermill": {
     "duration": 0.046172,
     "end_time": "2021-12-14T19:00:11.944825",
     "exception": false,
     "start_time": "2021-12-14T19:00:11.898653",
     "status": "completed"
    },
    "tags": []
   },
   "outputs": [],
   "source": [
    "df_pivot.columns = [\"stamp_1\", \"stamp_2\"]\n",
    "df_pivot_diff = df_pivot.diff(axis=1)"
   ]
  },
  {
   "cell_type": "code",
   "execution_count": 7,
   "id": "fifth-motion",
   "metadata": {
    "execution": {
     "iopub.execute_input": "2021-12-14T19:00:12.001184Z",
     "iopub.status.busy": "2021-12-14T19:00:11.998665Z",
     "iopub.status.idle": "2021-12-14T19:00:13.586257Z",
     "shell.execute_reply": "2021-12-14T19:00:13.587561Z"
    },
    "papermill": {
     "duration": 1.622655,
     "end_time": "2021-12-14T19:00:13.587987",
     "exception": false,
     "start_time": "2021-12-14T19:00:11.965332",
     "status": "completed"
    },
    "tags": []
   },
   "outputs": [
    {
     "data": {
      "text/plain": [
       "<AxesSubplot:ylabel='PRODUCT'>"
      ]
     },
     "execution_count": 7,
     "metadata": {},
     "output_type": "execute_result"
    },
    {
     "data": {
      "image/png": "[encoded data removed]",
      "text/plain": [
       "<Figure size 432x288 with 1 Axes>"
      ]
     },
     "metadata": {
      "needs_background": "light"
     },
     "output_type": "display_data"
    }
   ],
   "source": [
    "df_pivot_diff.sort_values(\"stamp_2\", ascending = False)[\"stamp_2\"].head(10).plot.barh()"
   ]
  },
  {
   "cell_type": "code",
   "execution_count": null,
   "id": "extra-executive",
   "metadata": {
    "papermill": {
     "duration": 0.022143,
     "end_time": "2021-12-14T19:00:13.636514",
     "exception": false,
     "start_time": "2021-12-14T19:00:13.614371",
     "status": "completed"
    },
    "tags": []
   },
   "outputs": [],
   "source": []
  }
 ],
 "metadata": {
  "kernelspec": {
   "display_name": "Python 3",
   "language": "python",
   "name": "python3"
  },
  "language_info": {
   "codemirror_mode": {
    "name": "ipython",
    "version": 3
   },
   "file_extension": ".py",
   "mimetype": "text/x-python",
   "name": "python",
   "nbconvert_exporter": "python",
   "pygments_lexer": "ipython3",
   "version": "3.9.5"
  },
  "papermill": {
   "default_parameters": {},
   "duration": 9.927844,
   "end_time": "2021-12-14T19:00:15.094140",
   "environment_variables": {},
   "exception": null,
   "input_path": "eBay_Overview.ipynb",
   "output_path": "eBay_Overview.ipynb",
   "parameters": {},
   "start_time": "2021-12-14T19:00:05.166296",
   "version": "2.3.3"
  }
 },
 "nbformat": 4,
 "nbformat_minor": 5
}