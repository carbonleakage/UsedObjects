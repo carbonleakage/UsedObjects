{
 "cells": [
  {
   "cell_type": "code",
   "execution_count": 1,
   "id": "reverse-picking",
   "metadata": {
    "execution": {
     "iopub.execute_input": "2021-10-30T09:30:07.578328Z",
     "iopub.status.busy": "2021-10-30T09:30:07.576276Z",
     "iopub.status.idle": "2021-10-30T09:30:08.380434Z",
     "shell.execute_reply": "2021-10-30T09:30:08.381853Z"
    },
    "papermill": {
     "duration": 0.853972,
     "end_time": "2021-10-30T09:30:08.382515",
     "exception": false,
     "start_time": "2021-10-30T09:30:07.528543",
     "status": "completed"
    },
    "tags": []
   },
   "outputs": [],
   "source": [
    "import pandas as pd\n",
    "import sqlite3"
   ]
  },
  {
   "cell_type": "code",
   "execution_count": 2,
   "id": "innovative-syndrome",
   "metadata": {
    "execution": {
     "iopub.execute_input": "2021-10-30T09:30:08.432944Z",
     "iopub.status.busy": "2021-10-30T09:30:08.430894Z",
     "iopub.status.idle": "2021-10-30T09:30:09.108869Z",
     "shell.execute_reply": "2021-10-30T09:30:09.110301Z"
    },
    "papermill": {
     "duration": 0.708086,
     "end_time": "2021-10-30T09:30:09.110736",
     "exception": false,
     "start_time": "2021-10-30T09:30:08.402650",
     "status": "completed"
    },
    "tags": []
   },
   "outputs": [],
   "source": [
    "timestamps = pd.read_sql(\"select distinct record_time from EBAY_TOP_BERLIN order by record_time desc limit 2\", sqlite3.connect(\"UsedObjects.db\"))"
   ]
  },
  {
   "cell_type": "code",
   "execution_count": 3,
   "id": "periodic-identification",
   "metadata": {
    "execution": {
     "iopub.execute_input": "2021-10-30T09:30:09.189825Z",
     "iopub.status.busy": "2021-10-30T09:30:09.187708Z",
     "iopub.status.idle": "2021-10-30T09:30:09.208219Z",
     "shell.execute_reply": "2021-10-30T09:30:09.209606Z"
    },
    "papermill": {
     "duration": 0.071381,
     "end_time": "2021-10-30T09:30:09.210032",
     "exception": false,
     "start_time": "2021-10-30T09:30:09.138651",
     "status": "completed"
    },
    "tags": []
   },
   "outputs": [
    {
     "data": {
      "text/html": [
       "<div>\n",
       "<style scoped>\n",
       "    .dataframe tbody tr th:only-of-type {\n",
       "        vertical-align: middle;\n",
       "    }\n",
       "\n",
       "    .dataframe tbody tr th {\n",
       "        vertical-align: top;\n",
       "    }\n",
       "\n",
       "    .dataframe thead th {\n",
       "        text-align: right;\n",
       "    }\n",
       "</style>\n",
       "<table border=\"1\" class=\"dataframe\">\n",
       "  <thead>\n",
       "    <tr style=\"text-align: right;\">\n",
       "      <th></th>\n",
       "      <th>RECORD_TIME</th>\n",
       "    </tr>\n",
       "  </thead>\n",
       "  <tbody>\n",
       "    <tr>\n",
       "      <th>0</th>\n",
       "      <td>2021-10-30 11:30</td>\n",
       "    </tr>\n",
       "    <tr>\n",
       "      <th>1</th>\n",
       "      <td>2021-10-30 11:00</td>\n",
       "    </tr>\n",
       "  </tbody>\n",
       "</table>\n",
       "</div>"
      ],
      "text/plain": [
       "        RECORD_TIME\n",
       "0  2021-10-30 11:30\n",
       "1  2021-10-30 11:00"
      ]
     },
     "execution_count": 3,
     "metadata": {},
     "output_type": "execute_result"
    }
   ],
   "source": [
    "timestamps"
   ]
  },
  {
   "cell_type": "code",
   "execution_count": 4,
   "id": "alternate-victory",
   "metadata": {
    "execution": {
     "iopub.execute_input": "2021-10-30T09:30:09.260035Z",
     "iopub.status.busy": "2021-10-30T09:30:09.258204Z",
     "iopub.status.idle": "2021-10-30T09:30:10.238575Z",
     "shell.execute_reply": "2021-10-30T09:30:10.239801Z"
    },
    "papermill": {
     "duration": 1.010079,
     "end_time": "2021-10-30T09:30:10.240198",
     "exception": false,
     "start_time": "2021-10-30T09:30:09.230119",
     "status": "completed"
    },
    "tags": []
   },
   "outputs": [],
   "source": [
    "df = pd.read_sql(\"select * from EBAY_TOP_BERLIN where record_time in (select distinct record_time from EBAY_TOP_BERLIN order by record_time desc limit 2)\", sqlite3.connect(\"UsedObjects.db\"))"
   ]
  },
  {
   "cell_type": "code",
   "execution_count": 5,
   "id": "popular-active",
   "metadata": {
    "execution": {
     "iopub.execute_input": "2021-10-30T09:30:10.311772Z",
     "iopub.status.busy": "2021-10-30T09:30:10.298772Z",
     "iopub.status.idle": "2021-10-30T09:30:10.328476Z",
     "shell.execute_reply": "2021-10-30T09:30:10.329861Z"
    },
    "papermill": {
     "duration": 0.068245,
     "end_time": "2021-10-30T09:30:10.330282",
     "exception": false,
     "start_time": "2021-10-30T09:30:10.262037",
     "status": "completed"
    },
    "tags": []
   },
   "outputs": [],
   "source": [
    "df_pivot = df.pivot_table(index=\"PRODUCT\", columns = \"RECORD_TIME\", values = \"LISTING_COUNT\")"
   ]
  },
  {
   "cell_type": "code",
   "execution_count": 6,
   "id": "union-huntington",
   "metadata": {
    "execution": {
     "iopub.execute_input": "2021-10-30T09:30:10.385920Z",
     "iopub.status.busy": "2021-10-30T09:30:10.383786Z",
     "iopub.status.idle": "2021-10-30T09:30:10.389197Z",
     "shell.execute_reply": "2021-10-30T09:30:10.390411Z"
    },
    "papermill": {
     "duration": 0.040642,
     "end_time": "2021-10-30T09:30:10.390840",
     "exception": false,
     "start_time": "2021-10-30T09:30:10.350198",
     "status": "completed"
    },
    "tags": []
   },
   "outputs": [],
   "source": [
    "df_pivot.columns = [\"stamp_1\", \"stamp_2\"]\n",
    "df_pivot_diff = df_pivot.diff(axis=1)"
   ]
  },
  {
   "cell_type": "code",
   "execution_count": 7,
   "id": "fifth-motion",
   "metadata": {
    "execution": {
     "iopub.execute_input": "2021-10-30T09:30:10.444293Z",
     "iopub.status.busy": "2021-10-30T09:30:10.441917Z",
     "iopub.status.idle": "2021-10-30T09:30:11.952614Z",
     "shell.execute_reply": "2021-10-30T09:30:11.954016Z"
    },
    "papermill": {
     "duration": 1.543432,
     "end_time": "2021-10-30T09:30:11.954435",
     "exception": false,
     "start_time": "2021-10-30T09:30:10.411003",
     "status": "completed"
    },
    "tags": []
   },
   "outputs": [
    {
     "data": {
      "text/plain": [
       "<AxesSubplot:ylabel='PRODUCT'>"
      ]
     },
     "execution_count": 7,
     "metadata": {},
     "output_type": "execute_result"
    },
    {
     "data": {
      "image/png": "[encoded data removed]",
      "text/plain": [
       "<Figure size 432x288 with 1 Axes>"
      ]
     },
     "metadata": {
      "needs_background": "light"
     },
     "output_type": "display_data"
    }
   ],
   "source": [
    "df_pivot_diff.sort_values(\"stamp_2\", ascending = False)[\"stamp_2\"].head(10).plot.barh()"
   ]
  },
  {
   "cell_type": "code",
   "execution_count": null,
   "id": "extra-executive",
   "metadata": {
    "papermill": {
     "duration": 0.021903,
     "end_time": "2021-10-30T09:30:12.000189",
     "exception": false,
     "start_time": "2021-10-30T09:30:11.978286",
     "status": "completed"
    },
    "tags": []
   },
   "outputs": [],
   "source": []
  }
 ],
 "metadata": {
  "kernelspec": {
   "display_name": "Python 3",
   "language": "python",
   "name": "python3"
  },
  "language_info": {
   "codemirror_mode": {
    "name": "ipython",
    "version": 3
   },
   "file_extension": ".py",
   "mimetype": "text/x-python",
   "name": "python",
   "nbconvert_exporter": "python",
   "pygments_lexer": "ipython3",
   "version": "3.9.5"
  },
  "papermill": {
   "default_parameters": {},
   "duration": 7.514071,
   "end_time": "2021-10-30T09:30:12.644210",
   "environment_variables": {},
   "exception": null,
   "input_path": "eBay_Overview.ipynb",
   "output_path": "eBay_Overview.ipynb",
   "parameters": {},
   "start_time": "2021-10-30T09:30:05.130139",
   "version": "2.3.3"
  }
 },
 "nbformat": 4,
 "nbformat_minor": 5
}