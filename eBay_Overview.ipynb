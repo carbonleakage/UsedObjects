{
 "cells": [
  {
   "cell_type": "code",
   "execution_count": 1,
   "id": "reverse-picking",
   "metadata": {
    "execution": {
     "iopub.execute_input": "2021-08-20T14:30:07.454790Z",
     "iopub.status.busy": "2021-08-20T14:30:07.452729Z",
     "iopub.status.idle": "2021-08-20T14:30:08.260586Z",
     "shell.execute_reply": "2021-08-20T14:30:08.261845Z"
    },
    "papermill": {
     "duration": 0.85953,
     "end_time": "2021-08-20T14:30:08.262545",
     "exception": false,
     "start_time": "2021-08-20T14:30:07.403015",
     "status": "completed"
    },
    "tags": []
   },
   "outputs": [],
   "source": [
    "import pandas as pd\n",
    "import sqlite3"
   ]
  },
  {
   "cell_type": "code",
   "execution_count": 2,
   "id": "innovative-syndrome",
   "metadata": {
    "execution": {
     "iopub.execute_input": "2021-08-20T14:30:08.313403Z",
     "iopub.status.busy": "2021-08-20T14:30:08.311531Z",
     "iopub.status.idle": "2021-08-20T14:30:08.402720Z",
     "shell.execute_reply": "2021-08-20T14:30:08.403998Z"
    },
    "papermill": {
     "duration": 0.120813,
     "end_time": "2021-08-20T14:30:08.404400",
     "exception": false,
     "start_time": "2021-08-20T14:30:08.283587",
     "status": "completed"
    },
    "tags": []
   },
   "outputs": [],
   "source": [
    "timestamps = pd.read_sql(\"select distinct record_time from EBAY_TOP_BERLIN order by record_time desc limit 2\", sqlite3.connect(\"UsedObjects.db\"))"
   ]
  },
  {
   "cell_type": "code",
   "execution_count": 3,
   "id": "periodic-identification",
   "metadata": {
    "execution": {
     "iopub.execute_input": "2021-08-20T14:30:08.469267Z",
     "iopub.status.busy": "2021-08-20T14:30:08.467223Z",
     "iopub.status.idle": "2021-08-20T14:30:08.487383Z",
     "shell.execute_reply": "2021-08-20T14:30:08.488582Z"
    },
    "papermill": {
     "duration": 0.065087,
     "end_time": "2021-08-20T14:30:08.489014",
     "exception": false,
     "start_time": "2021-08-20T14:30:08.423927",
     "status": "completed"
    },
    "tags": []
   },
   "outputs": [
    {
     "data": {
      "text/html": [
       "<div>\n",
       "<style scoped>\n",
       "    .dataframe tbody tr th:only-of-type {\n",
       "        vertical-align: middle;\n",
       "    }\n",
       "\n",
       "    .dataframe tbody tr th {\n",
       "        vertical-align: top;\n",
       "    }\n",
       "\n",
       "    .dataframe thead th {\n",
       "        text-align: right;\n",
       "    }\n",
       "</style>\n",
       "<table border=\"1\" class=\"dataframe\">\n",
       "  <thead>\n",
       "    <tr style=\"text-align: right;\">\n",
       "      <th></th>\n",
       "      <th>RECORD_TIME</th>\n",
       "    </tr>\n",
       "  </thead>\n",
       "  <tbody>\n",
       "    <tr>\n",
       "      <th>0</th>\n",
       "      <td>2021-08-20 16:30</td>\n",
       "    </tr>\n",
       "    <tr>\n",
       "      <th>1</th>\n",
       "      <td>2021-08-20 16:00</td>\n",
       "    </tr>\n",
       "  </tbody>\n",
       "</table>\n",
       "</div>"
      ],
      "text/plain": [
       "        RECORD_TIME\n",
       "0  2021-08-20 16:30\n",
       "1  2021-08-20 16:00"
      ]
     },
     "execution_count": 3,
     "metadata": {},
     "output_type": "execute_result"
    }
   ],
   "source": [
    "timestamps"
   ]
  },
  {
   "cell_type": "code",
   "execution_count": 4,
   "id": "alternate-victory",
   "metadata": {
    "execution": {
     "iopub.execute_input": "2021-08-20T14:30:08.542738Z",
     "iopub.status.busy": "2021-08-20T14:30:08.540382Z",
     "iopub.status.idle": "2021-08-20T14:30:08.679190Z",
     "shell.execute_reply": "2021-08-20T14:30:08.680452Z"
    },
    "papermill": {
     "duration": 0.169299,
     "end_time": "2021-08-20T14:30:08.680855",
     "exception": false,
     "start_time": "2021-08-20T14:30:08.511556",
     "status": "completed"
    },
    "tags": []
   },
   "outputs": [],
   "source": [
    "df = pd.read_sql(\"select * from EBAY_TOP_BERLIN where record_time in (select distinct record_time from EBAY_TOP_BERLIN order by record_time desc limit 2)\", sqlite3.connect(\"UsedObjects.db\"))"
   ]
  },
  {
   "cell_type": "code",
   "execution_count": 5,
   "id": "popular-active",
   "metadata": {
    "execution": {
     "iopub.execute_input": "2021-08-20T14:30:08.752405Z",
     "iopub.status.busy": "2021-08-20T14:30:08.739661Z",
     "iopub.status.idle": "2021-08-20T14:30:08.767995Z",
     "shell.execute_reply": "2021-08-20T14:30:08.769204Z"
    },
    "papermill": {
     "duration": 0.068328,
     "end_time": "2021-08-20T14:30:08.769606",
     "exception": false,
     "start_time": "2021-08-20T14:30:08.701278",
     "status": "completed"
    },
    "tags": []
   },
   "outputs": [],
   "source": [
    "df_pivot = df.pivot_table(index=\"PRODUCT\", columns = \"RECORD_TIME\", values = \"LISTING_COUNT\")"
   ]
  },
  {
   "cell_type": "code",
   "execution_count": 6,
   "id": "union-huntington",
   "metadata": {
    "execution": {
     "iopub.execute_input": "2021-08-20T14:30:08.825762Z",
     "iopub.status.busy": "2021-08-20T14:30:08.823716Z",
     "iopub.status.idle": "2021-08-20T14:30:08.829120Z",
     "shell.execute_reply": "2021-08-20T14:30:08.830619Z"
    },
    "papermill": {
     "duration": 0.040633,
     "end_time": "2021-08-20T14:30:08.831062",
     "exception": false,
     "start_time": "2021-08-20T14:30:08.790429",
     "status": "completed"
    },
    "tags": []
   },
   "outputs": [],
   "source": [
    "df_pivot.columns = [\"stamp_1\", \"stamp_2\"]\n",
    "df_pivot_diff = df_pivot.diff(axis=1)"
   ]
  },
  {
   "cell_type": "code",
   "execution_count": 7,
   "id": "fifth-motion",
   "metadata": {
    "execution": {
     "iopub.execute_input": "2021-08-20T14:30:08.887638Z",
     "iopub.status.busy": "2021-08-20T14:30:08.885168Z",
     "iopub.status.idle": "2021-08-20T14:30:10.364832Z",
     "shell.execute_reply": "2021-08-20T14:30:10.366217Z"
    },
    "papermill": {
     "duration": 1.513084,
     "end_time": "2021-08-20T14:30:10.366694",
     "exception": false,
     "start_time": "2021-08-20T14:30:08.853610",
     "status": "completed"
    },
    "tags": []
   },
   "outputs": [
    {
     "data": {
      "text/plain": [
       "<AxesSubplot:ylabel='PRODUCT'>"
      ]
     },
     "execution_count": 7,
     "metadata": {},
     "output_type": "execute_result"
    },
    {
     "data": {
      "image/png": "[encoded data removed]",
      "text/plain": [
       "<Figure size 432x288 with 1 Axes>"
      ]
     },
     "metadata": {
      "needs_background": "light"
     },
     "output_type": "display_data"
    }
   ],
   "source": [
    "df_pivot_diff.sort_values(\"stamp_2\", ascending = False)[\"stamp_2\"].head(10).plot.barh()"
   ]
  },
  {
   "cell_type": "code",
   "execution_count": null,
   "id": "extra-executive",
   "metadata": {
    "papermill": {
     "duration": 0.022138,
     "end_time": "2021-08-20T14:30:10.413564",
     "exception": false,
     "start_time": "2021-08-20T14:30:10.391426",
     "status": "completed"
    },
    "tags": []
   },
   "outputs": [],
   "source": []
  }
 ],
 "metadata": {
  "kernelspec": {
   "display_name": "Python 3",
   "language": "python",
   "name": "python3"
  },
  "language_info": {
   "codemirror_mode": {
    "name": "ipython",
    "version": 3
   },
   "file_extension": ".py",
   "mimetype": "text/x-python",
   "name": "python",
   "nbconvert_exporter": "python",
   "pygments_lexer": "ipython3",
   "version": "3.9.5"
  },
  "papermill": {
   "default_parameters": {},
   "duration": 6.820721,
   "end_time": "2021-08-20T14:30:11.816340",
   "environment_variables": {},
   "exception": null,
   "input_path": "eBay_Overview.ipynb",
   "output_path": "eBay_Overview.ipynb",
   "parameters": {},
   "start_time": "2021-08-20T14:30:04.995619",
   "version": "2.3.3"
  }
 },
 "nbformat": 4,
 "nbformat_minor": 5
}