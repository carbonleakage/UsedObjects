{
 "cells": [
  {
   "cell_type": "code",
   "execution_count": 1,
   "id": "reverse-picking",
   "metadata": {
    "execution": {
     "iopub.execute_input": "2021-08-27T16:00:06.970657Z",
     "iopub.status.busy": "2021-08-27T16:00:06.968734Z",
     "iopub.status.idle": "2021-08-27T16:00:07.770200Z",
     "shell.execute_reply": "2021-08-27T16:00:07.771613Z"
    },
    "papermill": {
     "duration": 0.855238,
     "end_time": "2021-08-27T16:00:07.772348",
     "exception": false,
     "start_time": "2021-08-27T16:00:06.917110",
     "status": "completed"
    },
    "tags": []
   },
   "outputs": [],
   "source": [
    "import pandas as pd\n",
    "import sqlite3"
   ]
  },
  {
   "cell_type": "code",
   "execution_count": 2,
   "id": "innovative-syndrome",
   "metadata": {
    "execution": {
     "iopub.execute_input": "2021-08-27T16:00:07.822820Z",
     "iopub.status.busy": "2021-08-27T16:00:07.820758Z",
     "iopub.status.idle": "2021-08-27T16:00:07.962355Z",
     "shell.execute_reply": "2021-08-27T16:00:07.963554Z"
    },
    "papermill": {
     "duration": 0.171438,
     "end_time": "2021-08-27T16:00:07.963955",
     "exception": false,
     "start_time": "2021-08-27T16:00:07.792517",
     "status": "completed"
    },
    "tags": []
   },
   "outputs": [],
   "source": [
    "timestamps = pd.read_sql(\"select distinct record_time from EBAY_TOP_BERLIN order by record_time desc limit 2\", sqlite3.connect(\"UsedObjects.db\"))"
   ]
  },
  {
   "cell_type": "code",
   "execution_count": 3,
   "id": "periodic-identification",
   "metadata": {
    "execution": {
     "iopub.execute_input": "2021-08-27T16:00:08.027108Z",
     "iopub.status.busy": "2021-08-27T16:00:08.025105Z",
     "iopub.status.idle": "2021-08-27T16:00:08.045240Z",
     "shell.execute_reply": "2021-08-27T16:00:08.046574Z"
    },
    "papermill": {
     "duration": 0.06357,
     "end_time": "2021-08-27T16:00:08.046994",
     "exception": false,
     "start_time": "2021-08-27T16:00:07.983424",
     "status": "completed"
    },
    "tags": []
   },
   "outputs": [
    {
     "data": {
      "text/html": [
       "<div>\n",
       "<style scoped>\n",
       "    .dataframe tbody tr th:only-of-type {\n",
       "        vertical-align: middle;\n",
       "    }\n",
       "\n",
       "    .dataframe tbody tr th {\n",
       "        vertical-align: top;\n",
       "    }\n",
       "\n",
       "    .dataframe thead th {\n",
       "        text-align: right;\n",
       "    }\n",
       "</style>\n",
       "<table border=\"1\" class=\"dataframe\">\n",
       "  <thead>\n",
       "    <tr style=\"text-align: right;\">\n",
       "      <th></th>\n",
       "      <th>RECORD_TIME</th>\n",
       "    </tr>\n",
       "  </thead>\n",
       "  <tbody>\n",
       "    <tr>\n",
       "      <th>0</th>\n",
       "      <td>2021-08-27 18:00</td>\n",
       "    </tr>\n",
       "    <tr>\n",
       "      <th>1</th>\n",
       "      <td>2021-08-27 17:30</td>\n",
       "    </tr>\n",
       "  </tbody>\n",
       "</table>\n",
       "</div>"
      ],
      "text/plain": [
       "        RECORD_TIME\n",
       "0  2021-08-27 18:00\n",
       "1  2021-08-27 17:30"
      ]
     },
     "execution_count": 3,
     "metadata": {},
     "output_type": "execute_result"
    }
   ],
   "source": [
    "timestamps"
   ]
  },
  {
   "cell_type": "code",
   "execution_count": 4,
   "id": "alternate-victory",
   "metadata": {
    "execution": {
     "iopub.execute_input": "2021-08-27T16:00:08.099306Z",
     "iopub.status.busy": "2021-08-27T16:00:08.097021Z",
     "iopub.status.idle": "2021-08-27T16:00:08.310232Z",
     "shell.execute_reply": "2021-08-27T16:00:08.311445Z"
    },
    "papermill": {
     "duration": 0.243631,
     "end_time": "2021-08-27T16:00:08.311844",
     "exception": false,
     "start_time": "2021-08-27T16:00:08.068213",
     "status": "completed"
    },
    "tags": []
   },
   "outputs": [],
   "source": [
    "df = pd.read_sql(\"select * from EBAY_TOP_BERLIN where record_time in (select distinct record_time from EBAY_TOP_BERLIN order by record_time desc limit 2)\", sqlite3.connect(\"UsedObjects.db\"))"
   ]
  },
  {
   "cell_type": "code",
   "execution_count": 5,
   "id": "popular-active",
   "metadata": {
    "execution": {
     "iopub.execute_input": "2021-08-27T16:00:08.383077Z",
     "iopub.status.busy": "2021-08-27T16:00:08.376079Z",
     "iopub.status.idle": "2021-08-27T16:00:08.399965Z",
     "shell.execute_reply": "2021-08-27T16:00:08.401595Z"
    },
    "papermill": {
     "duration": 0.069867,
     "end_time": "2021-08-27T16:00:08.402071",
     "exception": false,
     "start_time": "2021-08-27T16:00:08.332204",
     "status": "completed"
    },
    "tags": []
   },
   "outputs": [],
   "source": [
    "df_pivot = df.pivot_table(index=\"PRODUCT\", columns = \"RECORD_TIME\", values = \"LISTING_COUNT\")"
   ]
  },
  {
   "cell_type": "code",
   "execution_count": 6,
   "id": "union-huntington",
   "metadata": {
    "execution": {
     "iopub.execute_input": "2021-08-27T16:00:08.467256Z",
     "iopub.status.busy": "2021-08-27T16:00:08.464953Z",
     "iopub.status.idle": "2021-08-27T16:00:08.470578Z",
     "shell.execute_reply": "2021-08-27T16:00:08.471872Z"
    },
    "papermill": {
     "duration": 0.043826,
     "end_time": "2021-08-27T16:00:08.472343",
     "exception": false,
     "start_time": "2021-08-27T16:00:08.428517",
     "status": "completed"
    },
    "tags": []
   },
   "outputs": [],
   "source": [
    "df_pivot.columns = [\"stamp_1\", \"stamp_2\"]\n",
    "df_pivot_diff = df_pivot.diff(axis=1)"
   ]
  },
  {
   "cell_type": "code",
   "execution_count": 7,
   "id": "fifth-motion",
   "metadata": {
    "execution": {
     "iopub.execute_input": "2021-08-27T16:00:08.526904Z",
     "iopub.status.busy": "2021-08-27T16:00:08.524539Z",
     "iopub.status.idle": "2021-08-27T16:00:09.994472Z",
     "shell.execute_reply": "2021-08-27T16:00:09.995758Z"
    },
    "papermill": {
     "duration": 1.503642,
     "end_time": "2021-08-27T16:00:09.996178",
     "exception": false,
     "start_time": "2021-08-27T16:00:08.492536",
     "status": "completed"
    },
    "tags": []
   },
   "outputs": [
    {
     "data": {
      "text/plain": [
       "<AxesSubplot:ylabel='PRODUCT'>"
      ]
     },
     "execution_count": 7,
     "metadata": {},
     "output_type": "execute_result"
    },
    {
     "data": {
      "image/png": "[encoded data removed]",
      "text/plain": [
       "<Figure size 432x288 with 1 Axes>"
      ]
     },
     "metadata": {
      "needs_background": "light"
     },
     "output_type": "display_data"
    }
   ],
   "source": [
    "df_pivot_diff.sort_values(\"stamp_2\", ascending = False)[\"stamp_2\"].head(10).plot.barh()"
   ]
  },
  {
   "cell_type": "code",
   "execution_count": null,
   "id": "extra-executive",
   "metadata": {
    "papermill": {
     "duration": 0.022236,
     "end_time": "2021-08-27T16:00:10.043504",
     "exception": false,
     "start_time": "2021-08-27T16:00:10.021268",
     "status": "completed"
    },
    "tags": []
   },
   "outputs": [],
   "source": []
  }
 ],
 "metadata": {
  "kernelspec": {
   "display_name": "Python 3",
   "language": "python",
   "name": "python3"
  },
  "language_info": {
   "codemirror_mode": {
    "name": "ipython",
    "version": 3
   },
   "file_extension": ".py",
   "mimetype": "text/x-python",
   "name": "python",
   "nbconvert_exporter": "python",
   "pygments_lexer": "ipython3",
   "version": "3.9.5"
  },
  "papermill": {
   "default_parameters": {},
   "duration": 6.828793,
   "end_time": "2021-08-27T16:00:11.350537",
   "environment_variables": {},
   "exception": null,
   "input_path": "eBay_Overview.ipynb",
   "output_path": "eBay_Overview.ipynb",
   "parameters": {},
   "start_time": "2021-08-27T16:00:04.521744",
   "version": "2.3.3"
  }
 },
 "nbformat": 4,
 "nbformat_minor": 5
}