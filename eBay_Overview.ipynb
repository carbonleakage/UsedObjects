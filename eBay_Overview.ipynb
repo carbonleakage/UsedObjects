{
 "cells": [
  {
   "cell_type": "code",
   "execution_count": 1,
   "id": "reverse-picking",
   "metadata": {
    "execution": {
     "iopub.execute_input": "2021-08-30T15:00:07.581400Z",
     "iopub.status.busy": "2021-08-30T15:00:07.579395Z",
     "iopub.status.idle": "2021-08-30T15:00:08.384028Z",
     "shell.execute_reply": "2021-08-30T15:00:08.385487Z"
    },
    "papermill": {
     "duration": 0.854271,
     "end_time": "2021-08-30T15:00:08.386131",
     "exception": false,
     "start_time": "2021-08-30T15:00:07.531860",
     "status": "completed"
    },
    "tags": []
   },
   "outputs": [],
   "source": [
    "import pandas as pd\n",
    "import sqlite3"
   ]
  },
  {
   "cell_type": "code",
   "execution_count": 2,
   "id": "innovative-syndrome",
   "metadata": {
    "execution": {
     "iopub.execute_input": "2021-08-30T15:00:08.436059Z",
     "iopub.status.busy": "2021-08-30T15:00:08.434212Z",
     "iopub.status.idle": "2021-08-30T15:00:08.599807Z",
     "shell.execute_reply": "2021-08-30T15:00:08.601080Z"
    },
    "papermill": {
     "duration": 0.195182,
     "end_time": "2021-08-30T15:00:08.601488",
     "exception": false,
     "start_time": "2021-08-30T15:00:08.406306",
     "status": "completed"
    },
    "tags": []
   },
   "outputs": [],
   "source": [
    "timestamps = pd.read_sql(\"select distinct record_time from EBAY_TOP_BERLIN order by record_time desc limit 2\", sqlite3.connect(\"UsedObjects.db\"))"
   ]
  },
  {
   "cell_type": "code",
   "execution_count": 3,
   "id": "periodic-identification",
   "metadata": {
    "execution": {
     "iopub.execute_input": "2021-08-30T15:00:08.668747Z",
     "iopub.status.busy": "2021-08-30T15:00:08.666650Z",
     "iopub.status.idle": "2021-08-30T15:00:08.687087Z",
     "shell.execute_reply": "2021-08-30T15:00:08.688659Z"
    },
    "papermill": {
     "duration": 0.065891,
     "end_time": "2021-08-30T15:00:08.689174",
     "exception": false,
     "start_time": "2021-08-30T15:00:08.623283",
     "status": "completed"
    },
    "tags": []
   },
   "outputs": [
    {
     "data": {
      "text/html": [
       "<div>\n",
       "<style scoped>\n",
       "    .dataframe tbody tr th:only-of-type {\n",
       "        vertical-align: middle;\n",
       "    }\n",
       "\n",
       "    .dataframe tbody tr th {\n",
       "        vertical-align: top;\n",
       "    }\n",
       "\n",
       "    .dataframe thead th {\n",
       "        text-align: right;\n",
       "    }\n",
       "</style>\n",
       "<table border=\"1\" class=\"dataframe\">\n",
       "  <thead>\n",
       "    <tr style=\"text-align: right;\">\n",
       "      <th></th>\n",
       "      <th>RECORD_TIME</th>\n",
       "    </tr>\n",
       "  </thead>\n",
       "  <tbody>\n",
       "    <tr>\n",
       "      <th>0</th>\n",
       "      <td>2021-08-30 17:00</td>\n",
       "    </tr>\n",
       "    <tr>\n",
       "      <th>1</th>\n",
       "      <td>2021-08-30 16:30</td>\n",
       "    </tr>\n",
       "  </tbody>\n",
       "</table>\n",
       "</div>"
      ],
      "text/plain": [
       "        RECORD_TIME\n",
       "0  2021-08-30 17:00\n",
       "1  2021-08-30 16:30"
      ]
     },
     "execution_count": 3,
     "metadata": {},
     "output_type": "execute_result"
    }
   ],
   "source": [
    "timestamps"
   ]
  },
  {
   "cell_type": "code",
   "execution_count": 4,
   "id": "alternate-victory",
   "metadata": {
    "execution": {
     "iopub.execute_input": "2021-08-30T15:00:08.741157Z",
     "iopub.status.busy": "2021-08-30T15:00:08.739266Z",
     "iopub.status.idle": "2021-08-30T15:00:08.983287Z",
     "shell.execute_reply": "2021-08-30T15:00:08.984719Z"
    },
    "papermill": {
     "duration": 0.274123,
     "end_time": "2021-08-30T15:00:08.985199",
     "exception": false,
     "start_time": "2021-08-30T15:00:08.711076",
     "status": "completed"
    },
    "tags": []
   },
   "outputs": [],
   "source": [
    "df = pd.read_sql(\"select * from EBAY_TOP_BERLIN where record_time in (select distinct record_time from EBAY_TOP_BERLIN order by record_time desc limit 2)\", sqlite3.connect(\"UsedObjects.db\"))"
   ]
  },
  {
   "cell_type": "code",
   "execution_count": 5,
   "id": "popular-active",
   "metadata": {
    "execution": {
     "iopub.execute_input": "2021-08-30T15:00:09.066660Z",
     "iopub.status.busy": "2021-08-30T15:00:09.054216Z",
     "iopub.status.idle": "2021-08-30T15:00:09.083532Z",
     "shell.execute_reply": "2021-08-30T15:00:09.085245Z"
    },
    "papermill": {
     "duration": 0.074492,
     "end_time": "2021-08-30T15:00:09.085734",
     "exception": false,
     "start_time": "2021-08-30T15:00:09.011242",
     "status": "completed"
    },
    "tags": []
   },
   "outputs": [],
   "source": [
    "df_pivot = df.pivot_table(index=\"PRODUCT\", columns = \"RECORD_TIME\", values = \"LISTING_COUNT\")"
   ]
  },
  {
   "cell_type": "code",
   "execution_count": 6,
   "id": "union-huntington",
   "metadata": {
    "execution": {
     "iopub.execute_input": "2021-08-30T15:00:09.144080Z",
     "iopub.status.busy": "2021-08-30T15:00:09.142026Z",
     "iopub.status.idle": "2021-08-30T15:00:09.147373Z",
     "shell.execute_reply": "2021-08-30T15:00:09.148731Z"
    },
    "papermill": {
     "duration": 0.041288,
     "end_time": "2021-08-30T15:00:09.149169",
     "exception": false,
     "start_time": "2021-08-30T15:00:09.107881",
     "status": "completed"
    },
    "tags": []
   },
   "outputs": [],
   "source": [
    "df_pivot.columns = [\"stamp_1\", \"stamp_2\"]\n",
    "df_pivot_diff = df_pivot.diff(axis=1)"
   ]
  },
  {
   "cell_type": "code",
   "execution_count": 7,
   "id": "fifth-motion",
   "metadata": {
    "execution": {
     "iopub.execute_input": "2021-08-30T15:00:09.203287Z",
     "iopub.status.busy": "2021-08-30T15:00:09.200888Z",
     "iopub.status.idle": "2021-08-30T15:00:10.668924Z",
     "shell.execute_reply": "2021-08-30T15:00:10.670303Z"
    },
    "papermill": {
     "duration": 1.500973,
     "end_time": "2021-08-30T15:00:10.670731",
     "exception": false,
     "start_time": "2021-08-30T15:00:09.169758",
     "status": "completed"
    },
    "tags": []
   },
   "outputs": [
    {
     "data": {
      "text/plain": [
       "<AxesSubplot:ylabel='PRODUCT'>"
      ]
     },
     "execution_count": 7,
     "metadata": {},
     "output_type": "execute_result"
    },
    {
     "data": {
      "image/png": "[encoded data removed]",
      "text/plain": [
       "<Figure size 432x288 with 1 Axes>"
      ]
     },
     "metadata": {
      "needs_background": "light"
     },
     "output_type": "display_data"
    }
   ],
   "source": [
    "df_pivot_diff.sort_values(\"stamp_2\", ascending = False)[\"stamp_2\"].head(10).plot.barh()"
   ]
  },
  {
   "cell_type": "code",
   "execution_count": null,
   "id": "extra-executive",
   "metadata": {
    "papermill": {
     "duration": 0.022221,
     "end_time": "2021-08-30T15:00:10.716200",
     "exception": false,
     "start_time": "2021-08-30T15:00:10.693979",
     "status": "completed"
    },
    "tags": []
   },
   "outputs": [],
   "source": []
  }
 ],
 "metadata": {
  "kernelspec": {
   "display_name": "Python 3",
   "language": "python",
   "name": "python3"
  },
  "language_info": {
   "codemirror_mode": {
    "name": "ipython",
    "version": 3
   },
   "file_extension": ".py",
   "mimetype": "text/x-python",
   "name": "python",
   "nbconvert_exporter": "python",
   "pygments_lexer": "ipython3",
   "version": "3.9.5"
  },
  "papermill": {
   "default_parameters": {},
   "duration": 6.821553,
   "end_time": "2021-08-30T15:00:11.945493",
   "environment_variables": {},
   "exception": null,
   "input_path": "eBay_Overview.ipynb",
   "output_path": "eBay_Overview.ipynb",
   "parameters": {},
   "start_time": "2021-08-30T15:00:05.123940",
   "version": "2.3.3"
  }
 },
 "nbformat": 4,
 "nbformat_minor": 5
}