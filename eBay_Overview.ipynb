{
 "cells": [
  {
   "cell_type": "code",
   "execution_count": 1,
   "id": "reverse-picking",
   "metadata": {
    "execution": {
     "iopub.execute_input": "2021-12-17T10:00:08.276373Z",
     "iopub.status.busy": "2021-12-17T10:00:08.274136Z",
     "iopub.status.idle": "2021-12-17T10:00:09.249302Z",
     "shell.execute_reply": "2021-12-17T10:00:09.251489Z"
    },
    "papermill": {
     "duration": 1.026505,
     "end_time": "2021-12-17T10:00:09.252314",
     "exception": false,
     "start_time": "2021-12-17T10:00:08.225809",
     "status": "completed"
    },
    "tags": []
   },
   "outputs": [],
   "source": [
    "import pandas as pd\n",
    "import sqlite3"
   ]
  },
  {
   "cell_type": "code",
   "execution_count": 2,
   "id": "innovative-syndrome",
   "metadata": {
    "execution": {
     "iopub.execute_input": "2021-12-17T10:00:09.330847Z",
     "iopub.status.busy": "2021-12-17T10:00:09.328229Z",
     "iopub.status.idle": "2021-12-17T10:00:10.434631Z",
     "shell.execute_reply": "2021-12-17T10:00:10.436258Z"
    },
    "papermill": {
     "duration": 1.141428,
     "end_time": "2021-12-17T10:00:10.436775",
     "exception": false,
     "start_time": "2021-12-17T10:00:09.295347",
     "status": "completed"
    },
    "tags": []
   },
   "outputs": [],
   "source": [
    "timestamps = pd.read_sql(\"select distinct record_time from EBAY_TOP_BERLIN order by record_time desc limit 2\", sqlite3.connect(\"UsedObjects.db\"))"
   ]
  },
  {
   "cell_type": "code",
   "execution_count": 3,
   "id": "periodic-identification",
   "metadata": {
    "execution": {
     "iopub.execute_input": "2021-12-17T10:00:10.520951Z",
     "iopub.status.busy": "2021-12-17T10:00:10.518441Z",
     "iopub.status.idle": "2021-12-17T10:00:10.543054Z",
     "shell.execute_reply": "2021-12-17T10:00:10.541362Z"
    },
    "papermill": {
     "duration": 0.074025,
     "end_time": "2021-12-17T10:00:10.543495",
     "exception": false,
     "start_time": "2021-12-17T10:00:10.469470",
     "status": "completed"
    },
    "tags": []
   },
   "outputs": [
    {
     "data": {
      "text/html": [
       "<div>\n",
       "<style scoped>\n",
       "    .dataframe tbody tr th:only-of-type {\n",
       "        vertical-align: middle;\n",
       "    }\n",
       "\n",
       "    .dataframe tbody tr th {\n",
       "        vertical-align: top;\n",
       "    }\n",
       "\n",
       "    .dataframe thead th {\n",
       "        text-align: right;\n",
       "    }\n",
       "</style>\n",
       "<table border=\"1\" class=\"dataframe\">\n",
       "  <thead>\n",
       "    <tr style=\"text-align: right;\">\n",
       "      <th></th>\n",
       "      <th>RECORD_TIME</th>\n",
       "    </tr>\n",
       "  </thead>\n",
       "  <tbody>\n",
       "    <tr>\n",
       "      <th>0</th>\n",
       "      <td>2021-12-17 11:00</td>\n",
       "    </tr>\n",
       "    <tr>\n",
       "      <th>1</th>\n",
       "      <td>2021-12-17 10:30</td>\n",
       "    </tr>\n",
       "  </tbody>\n",
       "</table>\n",
       "</div>"
      ],
      "text/plain": [
       "        RECORD_TIME\n",
       "0  2021-12-17 11:00\n",
       "1  2021-12-17 10:30"
      ]
     },
     "execution_count": 3,
     "metadata": {},
     "output_type": "execute_result"
    }
   ],
   "source": [
    "timestamps"
   ]
  },
  {
   "cell_type": "code",
   "execution_count": 4,
   "id": "alternate-victory",
   "metadata": {
    "execution": {
     "iopub.execute_input": "2021-12-17T10:00:10.599943Z",
     "iopub.status.busy": "2021-12-17T10:00:10.597726Z",
     "iopub.status.idle": "2021-12-17T10:00:12.235491Z",
     "shell.execute_reply": "2021-12-17T10:00:12.234008Z"
    },
    "papermill": {
     "duration": 1.670869,
     "end_time": "2021-12-17T10:00:12.235904",
     "exception": false,
     "start_time": "2021-12-17T10:00:10.565035",
     "status": "completed"
    },
    "tags": []
   },
   "outputs": [],
   "source": [
    "df = pd.read_sql(\"select * from EBAY_TOP_BERLIN where record_time in (select distinct record_time from EBAY_TOP_BERLIN order by record_time desc limit 2)\", sqlite3.connect(\"UsedObjects.db\"))"
   ]
  },
  {
   "cell_type": "code",
   "execution_count": 5,
   "id": "popular-active",
   "metadata": {
    "execution": {
     "iopub.execute_input": "2021-12-17T10:00:12.310398Z",
     "iopub.status.busy": "2021-12-17T10:00:12.297889Z",
     "iopub.status.idle": "2021-12-17T10:00:12.328285Z",
     "shell.execute_reply": "2021-12-17T10:00:12.329775Z"
    },
    "papermill": {
     "duration": 0.073594,
     "end_time": "2021-12-17T10:00:12.330261",
     "exception": false,
     "start_time": "2021-12-17T10:00:12.256667",
     "status": "completed"
    },
    "tags": []
   },
   "outputs": [],
   "source": [
    "df_pivot = df.pivot_table(index=\"PRODUCT\", columns = \"RECORD_TIME\", values = \"LISTING_COUNT\")"
   ]
  },
  {
   "cell_type": "code",
   "execution_count": 6,
   "id": "union-huntington",
   "metadata": {
    "execution": {
     "iopub.execute_input": "2021-12-17T10:00:12.391774Z",
     "iopub.status.busy": "2021-12-17T10:00:12.388603Z",
     "iopub.status.idle": "2021-12-17T10:00:12.398743Z",
     "shell.execute_reply": "2021-12-17T10:00:12.397271Z"
    },
    "papermill": {
     "duration": 0.048244,
     "end_time": "2021-12-17T10:00:12.399153",
     "exception": false,
     "start_time": "2021-12-17T10:00:12.350909",
     "status": "completed"
    },
    "tags": []
   },
   "outputs": [],
   "source": [
    "df_pivot.columns = [\"stamp_1\", \"stamp_2\"]\n",
    "df_pivot_diff = df_pivot.diff(axis=1)"
   ]
  },
  {
   "cell_type": "code",
   "execution_count": 7,
   "id": "fifth-motion",
   "metadata": {
    "execution": {
     "iopub.execute_input": "2021-12-17T10:00:12.460260Z",
     "iopub.status.busy": "2021-12-17T10:00:12.457688Z",
     "iopub.status.idle": "2021-12-17T10:00:14.420150Z",
     "shell.execute_reply": "2021-12-17T10:00:14.421668Z"
    },
    "papermill": {
     "duration": 1.999959,
     "end_time": "2021-12-17T10:00:14.422135",
     "exception": false,
     "start_time": "2021-12-17T10:00:12.422176",
     "status": "completed"
    },
    "tags": []
   },
   "outputs": [
    {
     "data": {
      "text/plain": [
       "<AxesSubplot:ylabel='PRODUCT'>"
      ]
     },
     "execution_count": 7,
     "metadata": {},
     "output_type": "execute_result"
    },
    {
     "data": {
      "image/png": "[encoded data removed]",
      "text/plain": [
       "<Figure size 432x288 with 1 Axes>"
      ]
     },
     "metadata": {
      "needs_background": "light"
     },
     "output_type": "display_data"
    }
   ],
   "source": [
    "df_pivot_diff.sort_values(\"stamp_2\", ascending = False)[\"stamp_2\"].head(10).plot.barh()"
   ]
  },
  {
   "cell_type": "code",
   "execution_count": null,
   "id": "extra-executive",
   "metadata": {
    "papermill": {
     "duration": 0.022562,
     "end_time": "2021-12-17T10:00:14.469330",
     "exception": false,
     "start_time": "2021-12-17T10:00:14.446768",
     "status": "completed"
    },
    "tags": []
   },
   "outputs": [],
   "source": []
  }
 ],
 "metadata": {
  "kernelspec": {
   "display_name": "Python 3",
   "language": "python",
   "name": "python3"
  },
  "language_info": {
   "codemirror_mode": {
    "name": "ipython",
    "version": 3
   },
   "file_extension": ".py",
   "mimetype": "text/x-python",
   "name": "python",
   "nbconvert_exporter": "python",
   "pygments_lexer": "ipython3",
   "version": "3.9.5"
  },
  "papermill": {
   "default_parameters": {},
   "duration": 9.645292,
   "end_time": "2021-12-17T10:00:15.112625",
   "environment_variables": {},
   "exception": null,
   "input_path": "eBay_Overview.ipynb",
   "output_path": "eBay_Overview.ipynb",
   "parameters": {},
   "start_time": "2021-12-17T10:00:05.467333",
   "version": "2.3.3"
  }
 },
 "nbformat": 4,
 "nbformat_minor": 5
}