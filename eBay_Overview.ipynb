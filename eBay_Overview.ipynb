{
 "cells": [
  {
   "cell_type": "code",
   "execution_count": 1,
   "id": "reverse-picking",
   "metadata": {
    "execution": {
     "iopub.execute_input": "2021-08-29T22:30:06.714104Z",
     "iopub.status.busy": "2021-08-29T22:30:06.712086Z",
     "iopub.status.idle": "2021-08-29T22:30:07.515401Z",
     "shell.execute_reply": "2021-08-29T22:30:07.516805Z"
    },
    "papermill": {
     "duration": 0.854933,
     "end_time": "2021-08-29T22:30:07.517458",
     "exception": false,
     "start_time": "2021-08-29T22:30:06.662525",
     "status": "completed"
    },
    "tags": []
   },
   "outputs": [],
   "source": [
    "import pandas as pd\n",
    "import sqlite3"
   ]
  },
  {
   "cell_type": "code",
   "execution_count": 2,
   "id": "innovative-syndrome",
   "metadata": {
    "execution": {
     "iopub.execute_input": "2021-08-29T22:30:07.568576Z",
     "iopub.status.busy": "2021-08-29T22:30:07.566568Z",
     "iopub.status.idle": "2021-08-29T22:30:07.723971Z",
     "shell.execute_reply": "2021-08-29T22:30:07.725260Z"
    },
    "papermill": {
     "duration": 0.187288,
     "end_time": "2021-08-29T22:30:07.725664",
     "exception": false,
     "start_time": "2021-08-29T22:30:07.538376",
     "status": "completed"
    },
    "tags": []
   },
   "outputs": [],
   "source": [
    "timestamps = pd.read_sql(\"select distinct record_time from EBAY_TOP_BERLIN order by record_time desc limit 2\", sqlite3.connect(\"UsedObjects.db\"))"
   ]
  },
  {
   "cell_type": "code",
   "execution_count": 3,
   "id": "periodic-identification",
   "metadata": {
    "execution": {
     "iopub.execute_input": "2021-08-29T22:30:07.791592Z",
     "iopub.status.busy": "2021-08-29T22:30:07.789585Z",
     "iopub.status.idle": "2021-08-29T22:30:07.809711Z",
     "shell.execute_reply": "2021-08-29T22:30:07.810890Z"
    },
    "papermill": {
     "duration": 0.064235,
     "end_time": "2021-08-29T22:30:07.811313",
     "exception": false,
     "start_time": "2021-08-29T22:30:07.747078",
     "status": "completed"
    },
    "tags": []
   },
   "outputs": [
    {
     "data": {
      "text/html": [
       "<div>\n",
       "<style scoped>\n",
       "    .dataframe tbody tr th:only-of-type {\n",
       "        vertical-align: middle;\n",
       "    }\n",
       "\n",
       "    .dataframe tbody tr th {\n",
       "        vertical-align: top;\n",
       "    }\n",
       "\n",
       "    .dataframe thead th {\n",
       "        text-align: right;\n",
       "    }\n",
       "</style>\n",
       "<table border=\"1\" class=\"dataframe\">\n",
       "  <thead>\n",
       "    <tr style=\"text-align: right;\">\n",
       "      <th></th>\n",
       "      <th>RECORD_TIME</th>\n",
       "    </tr>\n",
       "  </thead>\n",
       "  <tbody>\n",
       "    <tr>\n",
       "      <th>0</th>\n",
       "      <td>2021-08-30 00:30</td>\n",
       "    </tr>\n",
       "    <tr>\n",
       "      <th>1</th>\n",
       "      <td>2021-08-30 00:00</td>\n",
       "    </tr>\n",
       "  </tbody>\n",
       "</table>\n",
       "</div>"
      ],
      "text/plain": [
       "        RECORD_TIME\n",
       "0  2021-08-30 00:30\n",
       "1  2021-08-30 00:00"
      ]
     },
     "execution_count": 3,
     "metadata": {},
     "output_type": "execute_result"
    }
   ],
   "source": [
    "timestamps"
   ]
  },
  {
   "cell_type": "code",
   "execution_count": 4,
   "id": "alternate-victory",
   "metadata": {
    "execution": {
     "iopub.execute_input": "2021-08-29T22:30:07.864660Z",
     "iopub.status.busy": "2021-08-29T22:30:07.862321Z",
     "iopub.status.idle": "2021-08-29T22:30:08.104452Z",
     "shell.execute_reply": "2021-08-29T22:30:08.105599Z"
    },
    "papermill": {
     "duration": 0.272135,
     "end_time": "2021-08-29T22:30:08.106004",
     "exception": false,
     "start_time": "2021-08-29T22:30:07.833869",
     "status": "completed"
    },
    "tags": []
   },
   "outputs": [],
   "source": [
    "df = pd.read_sql(\"select * from EBAY_TOP_BERLIN where record_time in (select distinct record_time from EBAY_TOP_BERLIN order by record_time desc limit 2)\", sqlite3.connect(\"UsedObjects.db\"))"
   ]
  },
  {
   "cell_type": "code",
   "execution_count": 5,
   "id": "popular-active",
   "metadata": {
    "execution": {
     "iopub.execute_input": "2021-08-29T22:30:08.189136Z",
     "iopub.status.busy": "2021-08-29T22:30:08.178008Z",
     "iopub.status.idle": "2021-08-29T22:30:08.207152Z",
     "shell.execute_reply": "2021-08-29T22:30:08.208504Z"
    },
    "papermill": {
     "duration": 0.081516,
     "end_time": "2021-08-29T22:30:08.208929",
     "exception": false,
     "start_time": "2021-08-29T22:30:08.127413",
     "status": "completed"
    },
    "tags": []
   },
   "outputs": [],
   "source": [
    "df_pivot = df.pivot_table(index=\"PRODUCT\", columns = \"RECORD_TIME\", values = \"LISTING_COUNT\")"
   ]
  },
  {
   "cell_type": "code",
   "execution_count": 6,
   "id": "union-huntington",
   "metadata": {
    "execution": {
     "iopub.execute_input": "2021-08-29T22:30:08.264955Z",
     "iopub.status.busy": "2021-08-29T22:30:08.262852Z",
     "iopub.status.idle": "2021-08-29T22:30:08.268282Z",
     "shell.execute_reply": "2021-08-29T22:30:08.269497Z"
    },
    "papermill": {
     "duration": 0.040641,
     "end_time": "2021-08-29T22:30:08.269928",
     "exception": false,
     "start_time": "2021-08-29T22:30:08.229287",
     "status": "completed"
    },
    "tags": []
   },
   "outputs": [],
   "source": [
    "df_pivot.columns = [\"stamp_1\", \"stamp_2\"]\n",
    "df_pivot_diff = df_pivot.diff(axis=1)"
   ]
  },
  {
   "cell_type": "code",
   "execution_count": 7,
   "id": "fifth-motion",
   "metadata": {
    "execution": {
     "iopub.execute_input": "2021-08-29T22:30:08.323102Z",
     "iopub.status.busy": "2021-08-29T22:30:08.320730Z",
     "iopub.status.idle": "2021-08-29T22:30:09.831776Z",
     "shell.execute_reply": "2021-08-29T22:30:09.833119Z"
    },
    "papermill": {
     "duration": 1.543816,
     "end_time": "2021-08-29T22:30:09.833543",
     "exception": false,
     "start_time": "2021-08-29T22:30:08.289727",
     "status": "completed"
    },
    "tags": []
   },
   "outputs": [
    {
     "data": {
      "text/plain": [
       "<AxesSubplot:ylabel='PRODUCT'>"
      ]
     },
     "execution_count": 7,
     "metadata": {},
     "output_type": "execute_result"
    },
    {
     "data": {
      "image/png": "[encoded data removed]",
      "text/plain": [
       "<Figure size 432x288 with 1 Axes>"
      ]
     },
     "metadata": {
      "needs_background": "light"
     },
     "output_type": "display_data"
    }
   ],
   "source": [
    "df_pivot_diff.sort_values(\"stamp_2\", ascending = False)[\"stamp_2\"].head(10).plot.barh()"
   ]
  },
  {
   "cell_type": "code",
   "execution_count": null,
   "id": "extra-executive",
   "metadata": {
    "papermill": {
     "duration": 0.021909,
     "end_time": "2021-08-29T22:30:09.879402",
     "exception": false,
     "start_time": "2021-08-29T22:30:09.857493",
     "status": "completed"
    },
    "tags": []
   },
   "outputs": [],
   "source": []
  }
 ],
 "metadata": {
  "kernelspec": {
   "display_name": "Python 3",
   "language": "python",
   "name": "python3"
  },
  "language_info": {
   "codemirror_mode": {
    "name": "ipython",
    "version": 3
   },
   "file_extension": ".py",
   "mimetype": "text/x-python",
   "name": "python",
   "nbconvert_exporter": "python",
   "pygments_lexer": "ipython3",
   "version": "3.9.5"
  },
  "papermill": {
   "default_parameters": {},
   "duration": 6.819177,
   "end_time": "2021-08-29T22:30:11.084025",
   "environment_variables": {},
   "exception": null,
   "input_path": "eBay_Overview.ipynb",
   "output_path": "eBay_Overview.ipynb",
   "parameters": {},
   "start_time": "2021-08-29T22:30:04.264848",
   "version": "2.3.3"
  }
 },
 "nbformat": 4,
 "nbformat_minor": 5
}