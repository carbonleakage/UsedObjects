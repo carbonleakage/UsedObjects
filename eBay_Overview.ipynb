{
 "cells": [
  {
   "cell_type": "code",
   "execution_count": 1,
   "id": "reverse-picking",
   "metadata": {
    "execution": {
     "iopub.execute_input": "2021-10-06T21:00:07.195269Z",
     "iopub.status.busy": "2021-10-06T21:00:07.193258Z",
     "iopub.status.idle": "2021-10-06T21:00:07.999417Z",
     "shell.execute_reply": "2021-10-06T21:00:08.000732Z"
    },
    "papermill": {
     "duration": 0.857536,
     "end_time": "2021-10-06T21:00:08.001355",
     "exception": false,
     "start_time": "2021-10-06T21:00:07.143819",
     "status": "completed"
    },
    "tags": []
   },
   "outputs": [],
   "source": [
    "import pandas as pd\n",
    "import sqlite3"
   ]
  },
  {
   "cell_type": "code",
   "execution_count": 2,
   "id": "innovative-syndrome",
   "metadata": {
    "execution": {
     "iopub.execute_input": "2021-10-06T21:00:08.051685Z",
     "iopub.status.busy": "2021-10-06T21:00:08.049667Z",
     "iopub.status.idle": "2021-10-06T21:00:08.533040Z",
     "shell.execute_reply": "2021-10-06T21:00:08.534216Z"
    },
    "papermill": {
     "duration": 0.513265,
     "end_time": "2021-10-06T21:00:08.534613",
     "exception": false,
     "start_time": "2021-10-06T21:00:08.021348",
     "status": "completed"
    },
    "tags": []
   },
   "outputs": [],
   "source": [
    "timestamps = pd.read_sql(\"select distinct record_time from EBAY_TOP_BERLIN order by record_time desc limit 2\", sqlite3.connect(\"UsedObjects.db\"))"
   ]
  },
  {
   "cell_type": "code",
   "execution_count": 3,
   "id": "periodic-identification",
   "metadata": {
    "execution": {
     "iopub.execute_input": "2021-10-06T21:00:08.603473Z",
     "iopub.status.busy": "2021-10-06T21:00:08.601380Z",
     "iopub.status.idle": "2021-10-06T21:00:08.621778Z",
     "shell.execute_reply": "2021-10-06T21:00:08.623018Z"
    },
    "papermill": {
     "duration": 0.06668,
     "end_time": "2021-10-06T21:00:08.623456",
     "exception": false,
     "start_time": "2021-10-06T21:00:08.556776",
     "status": "completed"
    },
    "tags": []
   },
   "outputs": [
    {
     "data": {
      "text/html": [
       "<div>\n",
       "<style scoped>\n",
       "    .dataframe tbody tr th:only-of-type {\n",
       "        vertical-align: middle;\n",
       "    }\n",
       "\n",
       "    .dataframe tbody tr th {\n",
       "        vertical-align: top;\n",
       "    }\n",
       "\n",
       "    .dataframe thead th {\n",
       "        text-align: right;\n",
       "    }\n",
       "</style>\n",
       "<table border=\"1\" class=\"dataframe\">\n",
       "  <thead>\n",
       "    <tr style=\"text-align: right;\">\n",
       "      <th></th>\n",
       "      <th>RECORD_TIME</th>\n",
       "    </tr>\n",
       "  </thead>\n",
       "  <tbody>\n",
       "    <tr>\n",
       "      <th>0</th>\n",
       "      <td>2021-10-06 23:00</td>\n",
       "    </tr>\n",
       "    <tr>\n",
       "      <th>1</th>\n",
       "      <td>2021-10-06 22:30</td>\n",
       "    </tr>\n",
       "  </tbody>\n",
       "</table>\n",
       "</div>"
      ],
      "text/plain": [
       "        RECORD_TIME\n",
       "0  2021-10-06 23:00\n",
       "1  2021-10-06 22:30"
      ]
     },
     "execution_count": 3,
     "metadata": {},
     "output_type": "execute_result"
    }
   ],
   "source": [
    "timestamps"
   ]
  },
  {
   "cell_type": "code",
   "execution_count": 4,
   "id": "alternate-victory",
   "metadata": {
    "execution": {
     "iopub.execute_input": "2021-10-06T21:00:08.688027Z",
     "iopub.status.busy": "2021-10-06T21:00:08.685638Z",
     "iopub.status.idle": "2021-10-06T21:00:09.368874Z",
     "shell.execute_reply": "2021-10-06T21:00:09.370138Z"
    },
    "papermill": {
     "duration": 0.71726,
     "end_time": "2021-10-06T21:00:09.370544",
     "exception": false,
     "start_time": "2021-10-06T21:00:08.653284",
     "status": "completed"
    },
    "tags": []
   },
   "outputs": [],
   "source": [
    "df = pd.read_sql(\"select * from EBAY_TOP_BERLIN where record_time in (select distinct record_time from EBAY_TOP_BERLIN order by record_time desc limit 2)\", sqlite3.connect(\"UsedObjects.db\"))"
   ]
  },
  {
   "cell_type": "code",
   "execution_count": 5,
   "id": "popular-active",
   "metadata": {
    "execution": {
     "iopub.execute_input": "2021-10-06T21:00:09.441145Z",
     "iopub.status.busy": "2021-10-06T21:00:09.428740Z",
     "iopub.status.idle": "2021-10-06T21:00:09.459238Z",
     "shell.execute_reply": "2021-10-06T21:00:09.460606Z"
    },
    "papermill": {
     "duration": 0.069938,
     "end_time": "2021-10-06T21:00:09.461038",
     "exception": false,
     "start_time": "2021-10-06T21:00:09.391100",
     "status": "completed"
    },
    "tags": []
   },
   "outputs": [],
   "source": [
    "df_pivot = df.pivot_table(index=\"PRODUCT\", columns = \"RECORD_TIME\", values = \"LISTING_COUNT\")"
   ]
  },
  {
   "cell_type": "code",
   "execution_count": 6,
   "id": "union-huntington",
   "metadata": {
    "execution": {
     "iopub.execute_input": "2021-10-06T21:00:09.518249Z",
     "iopub.status.busy": "2021-10-06T21:00:09.515812Z",
     "iopub.status.idle": "2021-10-06T21:00:09.521403Z",
     "shell.execute_reply": "2021-10-06T21:00:09.522647Z"
    },
    "papermill": {
     "duration": 0.041853,
     "end_time": "2021-10-06T21:00:09.523115",
     "exception": false,
     "start_time": "2021-10-06T21:00:09.481262",
     "status": "completed"
    },
    "tags": []
   },
   "outputs": [],
   "source": [
    "df_pivot.columns = [\"stamp_1\", \"stamp_2\"]\n",
    "df_pivot_diff = df_pivot.diff(axis=1)"
   ]
  },
  {
   "cell_type": "code",
   "execution_count": 7,
   "id": "fifth-motion",
   "metadata": {
    "execution": {
     "iopub.execute_input": "2021-10-06T21:00:09.578276Z",
     "iopub.status.busy": "2021-10-06T21:00:09.575933Z",
     "iopub.status.idle": "2021-10-06T21:00:11.028458Z",
     "shell.execute_reply": "2021-10-06T21:00:11.029944Z"
    },
    "papermill": {
     "duration": 1.486905,
     "end_time": "2021-10-06T21:00:11.030405",
     "exception": false,
     "start_time": "2021-10-06T21:00:09.543500",
     "status": "completed"
    },
    "tags": []
   },
   "outputs": [
    {
     "data": {
      "text/plain": [
       "<AxesSubplot:ylabel='PRODUCT'>"
      ]
     },
     "execution_count": 7,
     "metadata": {},
     "output_type": "execute_result"
    },
    {
     "data": {
      "image/png": "[encoded data removed]",
      "text/plain": [
       "<Figure size 432x288 with 1 Axes>"
      ]
     },
     "metadata": {
      "needs_background": "light"
     },
     "output_type": "display_data"
    }
   ],
   "source": [
    "df_pivot_diff.sort_values(\"stamp_2\", ascending = False)[\"stamp_2\"].head(10).plot.barh()"
   ]
  },
  {
   "cell_type": "code",
   "execution_count": null,
   "id": "extra-executive",
   "metadata": {
    "papermill": {
     "duration": 0.021936,
     "end_time": "2021-10-06T21:00:11.076702",
     "exception": false,
     "start_time": "2021-10-06T21:00:11.054766",
     "status": "completed"
    },
    "tags": []
   },
   "outputs": [],
   "source": []
  }
 ],
 "metadata": {
  "kernelspec": {
   "display_name": "Python 3",
   "language": "python",
   "name": "python3"
  },
  "language_info": {
   "codemirror_mode": {
    "name": "ipython",
    "version": 3
   },
   "file_extension": ".py",
   "mimetype": "text/x-python",
   "name": "python",
   "nbconvert_exporter": "python",
   "pygments_lexer": "ipython3",
   "version": "3.9.5"
  },
  "papermill": {
   "default_parameters": {},
   "duration": 7.833768,
   "end_time": "2021-10-06T21:00:12.565967",
   "environment_variables": {},
   "exception": null,
   "input_path": "eBay_Overview.ipynb",
   "output_path": "eBay_Overview.ipynb",
   "parameters": {},
   "start_time": "2021-10-06T21:00:04.732199",
   "version": "2.3.3"
  }
 },
 "nbformat": 4,
 "nbformat_minor": 5
}