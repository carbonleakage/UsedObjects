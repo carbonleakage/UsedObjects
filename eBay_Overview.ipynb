{
 "cells": [
  {
   "cell_type": "code",
   "execution_count": 1,
   "id": "reverse-picking",
   "metadata": {
    "execution": {
     "iopub.execute_input": "2021-11-25T15:30:07.476161Z",
     "iopub.status.busy": "2021-11-25T15:30:07.473974Z",
     "iopub.status.idle": "2021-11-25T15:30:08.390455Z",
     "shell.execute_reply": "2021-11-25T15:30:08.391960Z"
    },
    "papermill": {
     "duration": 0.966787,
     "end_time": "2021-11-25T15:30:08.392675",
     "exception": false,
     "start_time": "2021-11-25T15:30:07.425888",
     "status": "completed"
    },
    "tags": []
   },
   "outputs": [],
   "source": [
    "import pandas as pd\n",
    "import sqlite3"
   ]
  },
  {
   "cell_type": "code",
   "execution_count": 2,
   "id": "innovative-syndrome",
   "metadata": {
    "execution": {
     "iopub.execute_input": "2021-11-25T15:30:08.456229Z",
     "iopub.status.busy": "2021-11-25T15:30:08.454008Z",
     "iopub.status.idle": "2021-11-25T15:30:09.369203Z",
     "shell.execute_reply": "2021-11-25T15:30:09.370832Z"
    },
    "papermill": {
     "duration": 0.950664,
     "end_time": "2021-11-25T15:30:09.371302",
     "exception": false,
     "start_time": "2021-11-25T15:30:08.420638",
     "status": "completed"
    },
    "tags": []
   },
   "outputs": [],
   "source": [
    "timestamps = pd.read_sql(\"select distinct record_time from EBAY_TOP_BERLIN order by record_time desc limit 2\", sqlite3.connect(\"UsedObjects.db\"))"
   ]
  },
  {
   "cell_type": "code",
   "execution_count": 3,
   "id": "periodic-identification",
   "metadata": {
    "execution": {
     "iopub.execute_input": "2021-11-25T15:30:09.446222Z",
     "iopub.status.busy": "2021-11-25T15:30:09.439951Z",
     "iopub.status.idle": "2021-11-25T15:30:09.463070Z",
     "shell.execute_reply": "2021-11-25T15:30:09.464836Z"
    },
    "papermill": {
     "duration": 0.072858,
     "end_time": "2021-11-25T15:30:09.465449",
     "exception": false,
     "start_time": "2021-11-25T15:30:09.392591",
     "status": "completed"
    },
    "tags": []
   },
   "outputs": [
    {
     "data": {
      "text/html": [
       "<div>\n",
       "<style scoped>\n",
       "    .dataframe tbody tr th:only-of-type {\n",
       "        vertical-align: middle;\n",
       "    }\n",
       "\n",
       "    .dataframe tbody tr th {\n",
       "        vertical-align: top;\n",
       "    }\n",
       "\n",
       "    .dataframe thead th {\n",
       "        text-align: right;\n",
       "    }\n",
       "</style>\n",
       "<table border=\"1\" class=\"dataframe\">\n",
       "  <thead>\n",
       "    <tr style=\"text-align: right;\">\n",
       "      <th></th>\n",
       "      <th>RECORD_TIME</th>\n",
       "    </tr>\n",
       "  </thead>\n",
       "  <tbody>\n",
       "    <tr>\n",
       "      <th>0</th>\n",
       "      <td>2021-11-25 16:30</td>\n",
       "    </tr>\n",
       "    <tr>\n",
       "      <th>1</th>\n",
       "      <td>2021-11-25 16:00</td>\n",
       "    </tr>\n",
       "  </tbody>\n",
       "</table>\n",
       "</div>"
      ],
      "text/plain": [
       "        RECORD_TIME\n",
       "0  2021-11-25 16:30\n",
       "1  2021-11-25 16:00"
      ]
     },
     "execution_count": 3,
     "metadata": {},
     "output_type": "execute_result"
    }
   ],
   "source": [
    "timestamps"
   ]
  },
  {
   "cell_type": "code",
   "execution_count": 4,
   "id": "alternate-victory",
   "metadata": {
    "execution": {
     "iopub.execute_input": "2021-11-25T15:30:09.523298Z",
     "iopub.status.busy": "2021-11-25T15:30:09.521140Z",
     "iopub.status.idle": "2021-11-25T15:30:10.904009Z",
     "shell.execute_reply": "2021-11-25T15:30:10.905571Z"
    },
    "papermill": {
     "duration": 1.419063,
     "end_time": "2021-11-25T15:30:10.906082",
     "exception": false,
     "start_time": "2021-11-25T15:30:09.487019",
     "status": "completed"
    },
    "tags": []
   },
   "outputs": [],
   "source": [
    "df = pd.read_sql(\"select * from EBAY_TOP_BERLIN where record_time in (select distinct record_time from EBAY_TOP_BERLIN order by record_time desc limit 2)\", sqlite3.connect(\"UsedObjects.db\"))"
   ]
  },
  {
   "cell_type": "code",
   "execution_count": 5,
   "id": "popular-active",
   "metadata": {
    "execution": {
     "iopub.execute_input": "2021-11-25T15:30:10.983292Z",
     "iopub.status.busy": "2021-11-25T15:30:10.970799Z",
     "iopub.status.idle": "2021-11-25T15:30:11.004940Z",
     "shell.execute_reply": "2021-11-25T15:30:11.006489Z"
    },
    "papermill": {
     "duration": 0.078749,
     "end_time": "2021-11-25T15:30:11.007041",
     "exception": false,
     "start_time": "2021-11-25T15:30:10.928292",
     "status": "completed"
    },
    "tags": []
   },
   "outputs": [],
   "source": [
    "df_pivot = df.pivot_table(index=\"PRODUCT\", columns = \"RECORD_TIME\", values = \"LISTING_COUNT\")"
   ]
  },
  {
   "cell_type": "code",
   "execution_count": 6,
   "id": "union-huntington",
   "metadata": {
    "execution": {
     "iopub.execute_input": "2021-11-25T15:30:11.070490Z",
     "iopub.status.busy": "2021-11-25T15:30:11.068208Z",
     "iopub.status.idle": "2021-11-25T15:30:11.075222Z",
     "shell.execute_reply": "2021-11-25T15:30:11.073669Z"
    },
    "papermill": {
     "duration": 0.046792,
     "end_time": "2021-11-25T15:30:11.075646",
     "exception": false,
     "start_time": "2021-11-25T15:30:11.028854",
     "status": "completed"
    },
    "tags": []
   },
   "outputs": [],
   "source": [
    "df_pivot.columns = [\"stamp_1\", \"stamp_2\"]\n",
    "df_pivot_diff = df_pivot.diff(axis=1)"
   ]
  },
  {
   "cell_type": "code",
   "execution_count": 7,
   "id": "fifth-motion",
   "metadata": {
    "execution": {
     "iopub.execute_input": "2021-11-25T15:30:11.134091Z",
     "iopub.status.busy": "2021-11-25T15:30:11.129807Z",
     "iopub.status.idle": "2021-11-25T15:30:13.051083Z",
     "shell.execute_reply": "2021-11-25T15:30:13.053715Z"
    },
    "papermill": {
     "duration": 1.958284,
     "end_time": "2021-11-25T15:30:13.054605",
     "exception": false,
     "start_time": "2021-11-25T15:30:11.096321",
     "status": "completed"
    },
    "tags": []
   },
   "outputs": [
    {
     "data": {
      "text/plain": [
       "<AxesSubplot:ylabel='PRODUCT'>"
      ]
     },
     "execution_count": 7,
     "metadata": {},
     "output_type": "execute_result"
    },
    {
     "data": {
      "image/png": "[encoded data removed]",
      "text/plain": [
       "<Figure size 432x288 with 1 Axes>"
      ]
     },
     "metadata": {
      "needs_background": "light"
     },
     "output_type": "display_data"
    }
   ],
   "source": [
    "df_pivot_diff.sort_values(\"stamp_2\", ascending = False)[\"stamp_2\"].head(10).plot.barh()"
   ]
  },
  {
   "cell_type": "code",
   "execution_count": null,
   "id": "extra-executive",
   "metadata": {
    "papermill": {
     "duration": 0.033452,
     "end_time": "2021-11-25T15:30:13.125013",
     "exception": false,
     "start_time": "2021-11-25T15:30:13.091561",
     "status": "completed"
    },
    "tags": []
   },
   "outputs": [],
   "source": []
  }
 ],
 "metadata": {
  "kernelspec": {
   "display_name": "Python 3",
   "language": "python",
   "name": "python3"
  },
  "language_info": {
   "codemirror_mode": {
    "name": "ipython",
    "version": 3
   },
   "file_extension": ".py",
   "mimetype": "text/x-python",
   "name": "python",
   "nbconvert_exporter": "python",
   "pygments_lexer": "ipython3",
   "version": "3.9.5"
  },
  "papermill": {
   "default_parameters": {},
   "duration": 9.929159,
   "end_time": "2021-11-25T15:30:14.640392",
   "environment_variables": {},
   "exception": null,
   "input_path": "eBay_Overview.ipynb",
   "output_path": "eBay_Overview.ipynb",
   "parameters": {},
   "start_time": "2021-11-25T15:30:04.711233",
   "version": "2.3.3"
  }
 },
 "nbformat": 4,
 "nbformat_minor": 5
}