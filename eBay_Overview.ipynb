{
 "cells": [
  {
   "cell_type": "code",
   "execution_count": 1,
   "id": "reverse-picking",
   "metadata": {
    "execution": {
     "iopub.execute_input": "2021-12-10T19:30:07.988658Z",
     "iopub.status.busy": "2021-12-10T19:30:07.986594Z",
     "iopub.status.idle": "2021-12-10T19:30:08.934239Z",
     "shell.execute_reply": "2021-12-10T19:30:08.935762Z"
    },
    "papermill": {
     "duration": 0.99703,
     "end_time": "2021-12-10T19:30:08.936508",
     "exception": false,
     "start_time": "2021-12-10T19:30:07.939478",
     "status": "completed"
    },
    "tags": []
   },
   "outputs": [],
   "source": [
    "import pandas as pd\n",
    "import sqlite3"
   ]
  },
  {
   "cell_type": "code",
   "execution_count": 2,
   "id": "innovative-syndrome",
   "metadata": {
    "execution": {
     "iopub.execute_input": "2021-12-10T19:30:09.002067Z",
     "iopub.status.busy": "2021-12-10T19:30:08.999770Z",
     "iopub.status.idle": "2021-12-10T19:30:10.025108Z",
     "shell.execute_reply": "2021-12-10T19:30:10.026619Z"
    },
    "papermill": {
     "duration": 1.060021,
     "end_time": "2021-12-10T19:30:10.027079",
     "exception": false,
     "start_time": "2021-12-10T19:30:08.967058",
     "status": "completed"
    },
    "tags": []
   },
   "outputs": [],
   "source": [
    "timestamps = pd.read_sql(\"select distinct record_time from EBAY_TOP_BERLIN order by record_time desc limit 2\", sqlite3.connect(\"UsedObjects.db\"))"
   ]
  },
  {
   "cell_type": "code",
   "execution_count": 3,
   "id": "periodic-identification",
   "metadata": {
    "execution": {
     "iopub.execute_input": "2021-12-10T19:30:10.095865Z",
     "iopub.status.busy": "2021-12-10T19:30:10.093632Z",
     "iopub.status.idle": "2021-12-10T19:30:10.116851Z",
     "shell.execute_reply": "2021-12-10T19:30:10.115181Z"
    },
    "papermill": {
     "duration": 0.070579,
     "end_time": "2021-12-10T19:30:10.117282",
     "exception": false,
     "start_time": "2021-12-10T19:30:10.046703",
     "status": "completed"
    },
    "tags": []
   },
   "outputs": [
    {
     "data": {
      "text/html": [
       "<div>\n",
       "<style scoped>\n",
       "    .dataframe tbody tr th:only-of-type {\n",
       "        vertical-align: middle;\n",
       "    }\n",
       "\n",
       "    .dataframe tbody tr th {\n",
       "        vertical-align: top;\n",
       "    }\n",
       "\n",
       "    .dataframe thead th {\n",
       "        text-align: right;\n",
       "    }\n",
       "</style>\n",
       "<table border=\"1\" class=\"dataframe\">\n",
       "  <thead>\n",
       "    <tr style=\"text-align: right;\">\n",
       "      <th></th>\n",
       "      <th>RECORD_TIME</th>\n",
       "    </tr>\n",
       "  </thead>\n",
       "  <tbody>\n",
       "    <tr>\n",
       "      <th>0</th>\n",
       "      <td>2021-12-10 20:30</td>\n",
       "    </tr>\n",
       "    <tr>\n",
       "      <th>1</th>\n",
       "      <td>2021-12-10 20:00</td>\n",
       "    </tr>\n",
       "  </tbody>\n",
       "</table>\n",
       "</div>"
      ],
      "text/plain": [
       "        RECORD_TIME\n",
       "0  2021-12-10 20:30\n",
       "1  2021-12-10 20:00"
      ]
     },
     "execution_count": 3,
     "metadata": {},
     "output_type": "execute_result"
    }
   ],
   "source": [
    "timestamps"
   ]
  },
  {
   "cell_type": "code",
   "execution_count": 4,
   "id": "alternate-victory",
   "metadata": {
    "execution": {
     "iopub.execute_input": "2021-12-10T19:30:10.173716Z",
     "iopub.status.busy": "2021-12-10T19:30:10.171379Z",
     "iopub.status.idle": "2021-12-10T19:30:11.701036Z",
     "shell.execute_reply": "2021-12-10T19:30:11.702683Z"
    },
    "papermill": {
     "duration": 1.564811,
     "end_time": "2021-12-10T19:30:11.703177",
     "exception": false,
     "start_time": "2021-12-10T19:30:10.138366",
     "status": "completed"
    },
    "tags": []
   },
   "outputs": [],
   "source": [
    "df = pd.read_sql(\"select * from EBAY_TOP_BERLIN where record_time in (select distinct record_time from EBAY_TOP_BERLIN order by record_time desc limit 2)\", sqlite3.connect(\"UsedObjects.db\"))"
   ]
  },
  {
   "cell_type": "code",
   "execution_count": 5,
   "id": "popular-active",
   "metadata": {
    "execution": {
     "iopub.execute_input": "2021-12-10T19:30:11.767517Z",
     "iopub.status.busy": "2021-12-10T19:30:11.765358Z",
     "iopub.status.idle": "2021-12-10T19:30:11.797512Z",
     "shell.execute_reply": "2021-12-10T19:30:11.795946Z"
    },
    "papermill": {
     "duration": 0.073514,
     "end_time": "2021-12-10T19:30:11.797901",
     "exception": false,
     "start_time": "2021-12-10T19:30:11.724387",
     "status": "completed"
    },
    "tags": []
   },
   "outputs": [],
   "source": [
    "df_pivot = df.pivot_table(index=\"PRODUCT\", columns = \"RECORD_TIME\", values = \"LISTING_COUNT\")"
   ]
  },
  {
   "cell_type": "code",
   "execution_count": 6,
   "id": "union-huntington",
   "metadata": {
    "execution": {
     "iopub.execute_input": "2021-12-10T19:30:11.859671Z",
     "iopub.status.busy": "2021-12-10T19:30:11.857659Z",
     "iopub.status.idle": "2021-12-10T19:30:11.862392Z",
     "shell.execute_reply": "2021-12-10T19:30:11.864331Z"
    },
    "papermill": {
     "duration": 0.04618,
     "end_time": "2021-12-10T19:30:11.864888",
     "exception": false,
     "start_time": "2021-12-10T19:30:11.818708",
     "status": "completed"
    },
    "tags": []
   },
   "outputs": [],
   "source": [
    "df_pivot.columns = [\"stamp_1\", \"stamp_2\"]\n",
    "df_pivot_diff = df_pivot.diff(axis=1)"
   ]
  },
  {
   "cell_type": "code",
   "execution_count": 7,
   "id": "fifth-motion",
   "metadata": {
    "execution": {
     "iopub.execute_input": "2021-12-10T19:30:11.924366Z",
     "iopub.status.busy": "2021-12-10T19:30:11.921886Z",
     "iopub.status.idle": "2021-12-10T19:30:13.836942Z",
     "shell.execute_reply": "2021-12-10T19:30:13.838319Z"
    },
    "papermill": {
     "duration": 1.95229,
     "end_time": "2021-12-10T19:30:13.838804",
     "exception": false,
     "start_time": "2021-12-10T19:30:11.886514",
     "status": "completed"
    },
    "tags": []
   },
   "outputs": [
    {
     "data": {
      "text/plain": [
       "<AxesSubplot:ylabel='PRODUCT'>"
      ]
     },
     "execution_count": 7,
     "metadata": {},
     "output_type": "execute_result"
    },
    {
     "data": {
      "image/png": "[encoded data removed]",
      "text/plain": [
       "<Figure size 432x288 with 1 Axes>"
      ]
     },
     "metadata": {
      "needs_background": "light"
     },
     "output_type": "display_data"
    }
   ],
   "source": [
    "df_pivot_diff.sort_values(\"stamp_2\", ascending = False)[\"stamp_2\"].head(10).plot.barh()"
   ]
  },
  {
   "cell_type": "code",
   "execution_count": null,
   "id": "extra-executive",
   "metadata": {
    "papermill": {
     "duration": 0.023227,
     "end_time": "2021-12-10T19:30:13.886280",
     "exception": false,
     "start_time": "2021-12-10T19:30:13.863053",
     "status": "completed"
    },
    "tags": []
   },
   "outputs": [],
   "source": []
  }
 ],
 "metadata": {
  "kernelspec": {
   "display_name": "Python 3",
   "language": "python",
   "name": "python3"
  },
  "language_info": {
   "codemirror_mode": {
    "name": "ipython",
    "version": 3
   },
   "file_extension": ".py",
   "mimetype": "text/x-python",
   "name": "python",
   "nbconvert_exporter": "python",
   "pygments_lexer": "ipython3",
   "version": "3.9.5"
  },
  "papermill": {
   "default_parameters": {},
   "duration": 10.010942,
   "end_time": "2021-12-10T19:30:15.160028",
   "environment_variables": {},
   "exception": null,
   "input_path": "eBay_Overview.ipynb",
   "output_path": "eBay_Overview.ipynb",
   "parameters": {},
   "start_time": "2021-12-10T19:30:05.149086",
   "version": "2.3.3"
  }
 },
 "nbformat": 4,
 "nbformat_minor": 5
}