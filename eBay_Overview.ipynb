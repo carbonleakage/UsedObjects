{
 "cells": [
  {
   "cell_type": "code",
   "execution_count": 1,
   "id": "reverse-picking",
   "metadata": {
    "execution": {
     "iopub.execute_input": "2021-12-09T23:00:07.822817Z",
     "iopub.status.busy": "2021-12-09T23:00:07.819051Z",
     "iopub.status.idle": "2021-12-09T23:00:08.775971Z",
     "shell.execute_reply": "2021-12-09T23:00:08.777361Z"
    },
    "papermill": {
     "duration": 1.015637,
     "end_time": "2021-12-09T23:00:08.778105",
     "exception": false,
     "start_time": "2021-12-09T23:00:07.762468",
     "status": "completed"
    },
    "tags": []
   },
   "outputs": [],
   "source": [
    "import pandas as pd\n",
    "import sqlite3"
   ]
  },
  {
   "cell_type": "code",
   "execution_count": 2,
   "id": "innovative-syndrome",
   "metadata": {
    "execution": {
     "iopub.execute_input": "2021-12-09T23:00:08.851285Z",
     "iopub.status.busy": "2021-12-09T23:00:08.849040Z",
     "iopub.status.idle": "2021-12-09T23:00:09.889686Z",
     "shell.execute_reply": "2021-12-09T23:00:09.891334Z"
    },
    "papermill": {
     "duration": 1.079179,
     "end_time": "2021-12-09T23:00:09.891856",
     "exception": false,
     "start_time": "2021-12-09T23:00:08.812677",
     "status": "completed"
    },
    "tags": []
   },
   "outputs": [],
   "source": [
    "timestamps = pd.read_sql(\"select distinct record_time from EBAY_TOP_BERLIN order by record_time desc limit 2\", sqlite3.connect(\"UsedObjects.db\"))"
   ]
  },
  {
   "cell_type": "code",
   "execution_count": 3,
   "id": "periodic-identification",
   "metadata": {
    "execution": {
     "iopub.execute_input": "2021-12-09T23:00:09.967636Z",
     "iopub.status.busy": "2021-12-09T23:00:09.965281Z",
     "iopub.status.idle": "2021-12-09T23:00:09.988545Z",
     "shell.execute_reply": "2021-12-09T23:00:09.987159Z"
    },
    "papermill": {
     "duration": 0.074906,
     "end_time": "2021-12-09T23:00:09.988991",
     "exception": false,
     "start_time": "2021-12-09T23:00:09.914085",
     "status": "completed"
    },
    "tags": []
   },
   "outputs": [
    {
     "data": {
      "text/html": [
       "<div>\n",
       "<style scoped>\n",
       "    .dataframe tbody tr th:only-of-type {\n",
       "        vertical-align: middle;\n",
       "    }\n",
       "\n",
       "    .dataframe tbody tr th {\n",
       "        vertical-align: top;\n",
       "    }\n",
       "\n",
       "    .dataframe thead th {\n",
       "        text-align: right;\n",
       "    }\n",
       "</style>\n",
       "<table border=\"1\" class=\"dataframe\">\n",
       "  <thead>\n",
       "    <tr style=\"text-align: right;\">\n",
       "      <th></th>\n",
       "      <th>RECORD_TIME</th>\n",
       "    </tr>\n",
       "  </thead>\n",
       "  <tbody>\n",
       "    <tr>\n",
       "      <th>0</th>\n",
       "      <td>2021-12-10 00:00</td>\n",
       "    </tr>\n",
       "    <tr>\n",
       "      <th>1</th>\n",
       "      <td>2021-12-09 23:30</td>\n",
       "    </tr>\n",
       "  </tbody>\n",
       "</table>\n",
       "</div>"
      ],
      "text/plain": [
       "        RECORD_TIME\n",
       "0  2021-12-10 00:00\n",
       "1  2021-12-09 23:30"
      ]
     },
     "execution_count": 3,
     "metadata": {},
     "output_type": "execute_result"
    }
   ],
   "source": [
    "timestamps"
   ]
  },
  {
   "cell_type": "code",
   "execution_count": 4,
   "id": "alternate-victory",
   "metadata": {
    "execution": {
     "iopub.execute_input": "2021-12-09T23:00:10.043222Z",
     "iopub.status.busy": "2021-12-09T23:00:10.041279Z",
     "iopub.status.idle": "2021-12-09T23:00:11.574751Z",
     "shell.execute_reply": "2021-12-09T23:00:11.577975Z"
    },
    "papermill": {
     "duration": 1.568145,
     "end_time": "2021-12-09T23:00:11.578876",
     "exception": false,
     "start_time": "2021-12-09T23:00:10.010731",
     "status": "completed"
    },
    "tags": []
   },
   "outputs": [],
   "source": [
    "df = pd.read_sql(\"select * from EBAY_TOP_BERLIN where record_time in (select distinct record_time from EBAY_TOP_BERLIN order by record_time desc limit 2)\", sqlite3.connect(\"UsedObjects.db\"))"
   ]
  },
  {
   "cell_type": "code",
   "execution_count": 5,
   "id": "popular-active",
   "metadata": {
    "execution": {
     "iopub.execute_input": "2021-12-09T23:00:11.684803Z",
     "iopub.status.busy": "2021-12-09T23:00:11.681805Z",
     "iopub.status.idle": "2021-12-09T23:00:11.729720Z",
     "shell.execute_reply": "2021-12-09T23:00:11.732876Z"
    },
    "papermill": {
     "duration": 0.118553,
     "end_time": "2021-12-09T23:00:11.733747",
     "exception": false,
     "start_time": "2021-12-09T23:00:11.615194",
     "status": "completed"
    },
    "tags": []
   },
   "outputs": [],
   "source": [
    "df_pivot = df.pivot_table(index=\"PRODUCT\", columns = \"RECORD_TIME\", values = \"LISTING_COUNT\")"
   ]
  },
  {
   "cell_type": "code",
   "execution_count": 6,
   "id": "union-huntington",
   "metadata": {
    "execution": {
     "iopub.execute_input": "2021-12-09T23:00:11.826841Z",
     "iopub.status.busy": "2021-12-09T23:00:11.823897Z",
     "iopub.status.idle": "2021-12-09T23:00:11.831295Z",
     "shell.execute_reply": "2021-12-09T23:00:11.833441Z"
    },
    "papermill": {
     "duration": 0.068709,
     "end_time": "2021-12-09T23:00:11.834112",
     "exception": false,
     "start_time": "2021-12-09T23:00:11.765403",
     "status": "completed"
    },
    "tags": []
   },
   "outputs": [],
   "source": [
    "df_pivot.columns = [\"stamp_1\", \"stamp_2\"]\n",
    "df_pivot_diff = df_pivot.diff(axis=1)"
   ]
  },
  {
   "cell_type": "code",
   "execution_count": 7,
   "id": "fifth-motion",
   "metadata": {
    "execution": {
     "iopub.execute_input": "2021-12-09T23:00:11.911189Z",
     "iopub.status.busy": "2021-12-09T23:00:11.900505Z",
     "iopub.status.idle": "2021-12-09T23:00:13.607557Z",
     "shell.execute_reply": "2021-12-09T23:00:13.609067Z"
    },
    "papermill": {
     "duration": 1.750809,
     "end_time": "2021-12-09T23:00:13.609551",
     "exception": false,
     "start_time": "2021-12-09T23:00:11.858742",
     "status": "completed"
    },
    "tags": []
   },
   "outputs": [
    {
     "data": {
      "text/plain": [
       "<AxesSubplot:ylabel='PRODUCT'>"
      ]
     },
     "execution_count": 7,
     "metadata": {},
     "output_type": "execute_result"
    },
    {
     "data": {
      "image/png": "[encoded data removed]",
      "text/plain": [
       "<Figure size 432x288 with 1 Axes>"
      ]
     },
     "metadata": {
      "needs_background": "light"
     },
     "output_type": "display_data"
    }
   ],
   "source": [
    "df_pivot_diff.sort_values(\"stamp_2\", ascending = False)[\"stamp_2\"].head(10).plot.barh()"
   ]
  },
  {
   "cell_type": "code",
   "execution_count": null,
   "id": "extra-executive",
   "metadata": {
    "papermill": {
     "duration": 0.022422,
     "end_time": "2021-12-09T23:00:13.658252",
     "exception": false,
     "start_time": "2021-12-09T23:00:13.635830",
     "status": "completed"
    },
    "tags": []
   },
   "outputs": [],
   "source": []
  }
 ],
 "metadata": {
  "kernelspec": {
   "display_name": "Python 3",
   "language": "python",
   "name": "python3"
  },
  "language_info": {
   "codemirror_mode": {
    "name": "ipython",
    "version": 3
   },
   "file_extension": ".py",
   "mimetype": "text/x-python",
   "name": "python",
   "nbconvert_exporter": "python",
   "pygments_lexer": "ipython3",
   "version": "3.9.5"
  },
  "papermill": {
   "default_parameters": {},
   "duration": 9.948774,
   "end_time": "2021-12-09T23:00:14.958749",
   "environment_variables": {},
   "exception": null,
   "input_path": "eBay_Overview.ipynb",
   "output_path": "eBay_Overview.ipynb",
   "parameters": {},
   "start_time": "2021-12-09T23:00:05.009975",
   "version": "2.3.3"
  }
 },
 "nbformat": 4,
 "nbformat_minor": 5
}