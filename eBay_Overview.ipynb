{
 "cells": [
  {
   "cell_type": "code",
   "execution_count": 1,
   "id": "reverse-picking",
   "metadata": {
    "execution": {
     "iopub.execute_input": "2021-08-16T00:00:06.620313Z",
     "iopub.status.busy": "2021-08-16T00:00:06.618357Z",
     "iopub.status.idle": "2021-08-16T00:00:07.428451Z",
     "shell.execute_reply": "2021-08-16T00:00:07.429696Z"
    },
    "papermill": {
     "duration": 0.864495,
     "end_time": "2021-08-16T00:00:07.430517",
     "exception": false,
     "start_time": "2021-08-16T00:00:06.566022",
     "status": "completed"
    },
    "tags": []
   },
   "outputs": [],
   "source": [
    "import pandas as pd\n",
    "import sqlite3"
   ]
  },
  {
   "cell_type": "code",
   "execution_count": 2,
   "id": "innovative-syndrome",
   "metadata": {
    "execution": {
     "iopub.execute_input": "2021-08-16T00:00:07.483594Z",
     "iopub.status.busy": "2021-08-16T00:00:07.481194Z",
     "iopub.status.idle": "2021-08-16T00:00:07.541158Z",
     "shell.execute_reply": "2021-08-16T00:00:07.542517Z"
    },
    "papermill": {
     "duration": 0.090169,
     "end_time": "2021-08-16T00:00:07.542963",
     "exception": false,
     "start_time": "2021-08-16T00:00:07.452794",
     "status": "completed"
    },
    "tags": []
   },
   "outputs": [],
   "source": [
    "timestamps = pd.read_sql(\"select distinct record_time from EBAY_TOP_BERLIN order by record_time desc limit 2\", sqlite3.connect(\"UsedObjects.db\"))"
   ]
  },
  {
   "cell_type": "code",
   "execution_count": 3,
   "id": "periodic-identification",
   "metadata": {
    "execution": {
     "iopub.execute_input": "2021-08-16T00:00:07.608262Z",
     "iopub.status.busy": "2021-08-16T00:00:07.606224Z",
     "iopub.status.idle": "2021-08-16T00:00:07.626025Z",
     "shell.execute_reply": "2021-08-16T00:00:07.627389Z"
    },
    "papermill": {
     "duration": 0.065177,
     "end_time": "2021-08-16T00:00:07.627808",
     "exception": false,
     "start_time": "2021-08-16T00:00:07.562631",
     "status": "completed"
    },
    "tags": []
   },
   "outputs": [
    {
     "data": {
      "text/html": [
       "<div>\n",
       "<style scoped>\n",
       "    .dataframe tbody tr th:only-of-type {\n",
       "        vertical-align: middle;\n",
       "    }\n",
       "\n",
       "    .dataframe tbody tr th {\n",
       "        vertical-align: top;\n",
       "    }\n",
       "\n",
       "    .dataframe thead th {\n",
       "        text-align: right;\n",
       "    }\n",
       "</style>\n",
       "<table border=\"1\" class=\"dataframe\">\n",
       "  <thead>\n",
       "    <tr style=\"text-align: right;\">\n",
       "      <th></th>\n",
       "      <th>RECORD_TIME</th>\n",
       "    </tr>\n",
       "  </thead>\n",
       "  <tbody>\n",
       "    <tr>\n",
       "      <th>0</th>\n",
       "      <td>2021-08-16 02:00</td>\n",
       "    </tr>\n",
       "    <tr>\n",
       "      <th>1</th>\n",
       "      <td>2021-08-16 01:30</td>\n",
       "    </tr>\n",
       "  </tbody>\n",
       "</table>\n",
       "</div>"
      ],
      "text/plain": [
       "        RECORD_TIME\n",
       "0  2021-08-16 02:00\n",
       "1  2021-08-16 01:30"
      ]
     },
     "execution_count": 3,
     "metadata": {},
     "output_type": "execute_result"
    }
   ],
   "source": [
    "timestamps"
   ]
  },
  {
   "cell_type": "code",
   "execution_count": 4,
   "id": "alternate-victory",
   "metadata": {
    "execution": {
     "iopub.execute_input": "2021-08-16T00:00:07.681027Z",
     "iopub.status.busy": "2021-08-16T00:00:07.678724Z",
     "iopub.status.idle": "2021-08-16T00:00:07.765695Z",
     "shell.execute_reply": "2021-08-16T00:00:07.767062Z"
    },
    "papermill": {
     "duration": 0.117756,
     "end_time": "2021-08-16T00:00:07.767510",
     "exception": false,
     "start_time": "2021-08-16T00:00:07.649754",
     "status": "completed"
    },
    "tags": []
   },
   "outputs": [],
   "source": [
    "df = pd.read_sql(\"select * from EBAY_TOP_BERLIN where record_time in (select distinct record_time from EBAY_TOP_BERLIN order by record_time desc limit 2)\", sqlite3.connect(\"UsedObjects.db\"))"
   ]
  },
  {
   "cell_type": "code",
   "execution_count": 5,
   "id": "popular-active",
   "metadata": {
    "execution": {
     "iopub.execute_input": "2021-08-16T00:00:07.839347Z",
     "iopub.status.busy": "2021-08-16T00:00:07.827854Z",
     "iopub.status.idle": "2021-08-16T00:00:07.855058Z",
     "shell.execute_reply": "2021-08-16T00:00:07.856436Z"
    },
    "papermill": {
     "duration": 0.067616,
     "end_time": "2021-08-16T00:00:07.856878",
     "exception": false,
     "start_time": "2021-08-16T00:00:07.789262",
     "status": "completed"
    },
    "tags": []
   },
   "outputs": [],
   "source": [
    "df_pivot = df.pivot_table(index=\"PRODUCT\", columns = \"RECORD_TIME\", values = \"LISTING_COUNT\")"
   ]
  },
  {
   "cell_type": "code",
   "execution_count": 6,
   "id": "union-huntington",
   "metadata": {
    "execution": {
     "iopub.execute_input": "2021-08-16T00:00:07.913587Z",
     "iopub.status.busy": "2021-08-16T00:00:07.911500Z",
     "iopub.status.idle": "2021-08-16T00:00:07.917021Z",
     "shell.execute_reply": "2021-08-16T00:00:07.918372Z"
    },
    "papermill": {
     "duration": 0.041655,
     "end_time": "2021-08-16T00:00:07.918801",
     "exception": false,
     "start_time": "2021-08-16T00:00:07.877146",
     "status": "completed"
    },
    "tags": []
   },
   "outputs": [],
   "source": [
    "df_pivot.columns = [\"stamp_1\", \"stamp_2\"]\n",
    "df_pivot_diff = df_pivot.diff(axis=1)"
   ]
  },
  {
   "cell_type": "code",
   "execution_count": 7,
   "id": "fifth-motion",
   "metadata": {
    "execution": {
     "iopub.execute_input": "2021-08-16T00:00:07.977162Z",
     "iopub.status.busy": "2021-08-16T00:00:07.974698Z",
     "iopub.status.idle": "2021-08-16T00:00:09.465108Z",
     "shell.execute_reply": "2021-08-16T00:00:09.466567Z"
    },
    "papermill": {
     "duration": 1.525216,
     "end_time": "2021-08-16T00:00:09.467036",
     "exception": false,
     "start_time": "2021-08-16T00:00:07.941820",
     "status": "completed"
    },
    "tags": []
   },
   "outputs": [
    {
     "data": {
      "text/plain": [
       "<AxesSubplot:ylabel='PRODUCT'>"
      ]
     },
     "execution_count": 7,
     "metadata": {},
     "output_type": "execute_result"
    },
    {
     "data": {
      "image/png": "[encoded data removed]",
      "text/plain": [
       "<Figure size 432x288 with 1 Axes>"
      ]
     },
     "metadata": {
      "needs_background": "light"
     },
     "output_type": "display_data"
    }
   ],
   "source": [
    "df_pivot_diff.sort_values(\"stamp_2\", ascending = False)[\"stamp_2\"].head(10).plot.barh()"
   ]
  },
  {
   "cell_type": "code",
   "execution_count": null,
   "id": "extra-executive",
   "metadata": {
    "papermill": {
     "duration": 0.022362,
     "end_time": "2021-08-16T00:00:09.514133",
     "exception": false,
     "start_time": "2021-08-16T00:00:09.491771",
     "status": "completed"
    },
    "tags": []
   },
   "outputs": [],
   "source": []
  }
 ],
 "metadata": {
  "kernelspec": {
   "display_name": "Python 3",
   "language": "python",
   "name": "python3"
  },
  "language_info": {
   "codemirror_mode": {
    "name": "ipython",
    "version": 3
   },
   "file_extension": ".py",
   "mimetype": "text/x-python",
   "name": "python",
   "nbconvert_exporter": "python",
   "pygments_lexer": "ipython3",
   "version": "3.9.5"
  },
  "papermill": {
   "default_parameters": {},
   "duration": 6.830814,
   "end_time": "2021-08-16T00:00:10.975795",
   "environment_variables": {},
   "exception": null,
   "input_path": "eBay_Overview.ipynb",
   "output_path": "eBay_Overview.ipynb",
   "parameters": {},
   "start_time": "2021-08-16T00:00:04.144981",
   "version": "2.3.3"
  }
 },
 "nbformat": 4,
 "nbformat_minor": 5
}