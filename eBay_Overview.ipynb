{
 "cells": [
  {
   "cell_type": "code",
   "execution_count": 1,
   "id": "reverse-picking",
   "metadata": {
    "execution": {
     "iopub.execute_input": "2021-11-06T20:00:07.982839Z",
     "iopub.status.busy": "2021-11-06T20:00:07.980540Z",
     "iopub.status.idle": "2021-11-06T20:00:08.919519Z",
     "shell.execute_reply": "2021-11-06T20:00:08.921063Z"
    },
    "papermill": {
     "duration": 0.989268,
     "end_time": "2021-11-06T20:00:08.921809",
     "exception": false,
     "start_time": "2021-11-06T20:00:07.932541",
     "status": "completed"
    },
    "tags": []
   },
   "outputs": [],
   "source": [
    "import pandas as pd\n",
    "import sqlite3"
   ]
  },
  {
   "cell_type": "code",
   "execution_count": 2,
   "id": "innovative-syndrome",
   "metadata": {
    "execution": {
     "iopub.execute_input": "2021-11-06T20:00:08.983378Z",
     "iopub.status.busy": "2021-11-06T20:00:08.981198Z",
     "iopub.status.idle": "2021-11-06T20:00:09.724004Z",
     "shell.execute_reply": "2021-11-06T20:00:09.725557Z"
    },
    "papermill": {
     "duration": 0.783282,
     "end_time": "2021-11-06T20:00:09.726058",
     "exception": false,
     "start_time": "2021-11-06T20:00:08.942776",
     "status": "completed"
    },
    "tags": []
   },
   "outputs": [],
   "source": [
    "timestamps = pd.read_sql(\"select distinct record_time from EBAY_TOP_BERLIN order by record_time desc limit 2\", sqlite3.connect(\"UsedObjects.db\"))"
   ]
  },
  {
   "cell_type": "code",
   "execution_count": 3,
   "id": "periodic-identification",
   "metadata": {
    "execution": {
     "iopub.execute_input": "2021-11-06T20:00:09.811138Z",
     "iopub.status.busy": "2021-11-06T20:00:09.808873Z",
     "iopub.status.idle": "2021-11-06T20:00:09.831524Z",
     "shell.execute_reply": "2021-11-06T20:00:09.833088Z"
    },
    "papermill": {
     "duration": 0.083704,
     "end_time": "2021-11-06T20:00:09.833589",
     "exception": false,
     "start_time": "2021-11-06T20:00:09.749885",
     "status": "completed"
    },
    "tags": []
   },
   "outputs": [
    {
     "data": {
      "text/html": [
       "<div>\n",
       "<style scoped>\n",
       "    .dataframe tbody tr th:only-of-type {\n",
       "        vertical-align: middle;\n",
       "    }\n",
       "\n",
       "    .dataframe tbody tr th {\n",
       "        vertical-align: top;\n",
       "    }\n",
       "\n",
       "    .dataframe thead th {\n",
       "        text-align: right;\n",
       "    }\n",
       "</style>\n",
       "<table border=\"1\" class=\"dataframe\">\n",
       "  <thead>\n",
       "    <tr style=\"text-align: right;\">\n",
       "      <th></th>\n",
       "      <th>RECORD_TIME</th>\n",
       "    </tr>\n",
       "  </thead>\n",
       "  <tbody>\n",
       "    <tr>\n",
       "      <th>0</th>\n",
       "      <td>2021-11-06 21:00</td>\n",
       "    </tr>\n",
       "    <tr>\n",
       "      <th>1</th>\n",
       "      <td>2021-11-06 20:30</td>\n",
       "    </tr>\n",
       "  </tbody>\n",
       "</table>\n",
       "</div>"
      ],
      "text/plain": [
       "        RECORD_TIME\n",
       "0  2021-11-06 21:00\n",
       "1  2021-11-06 20:30"
      ]
     },
     "execution_count": 3,
     "metadata": {},
     "output_type": "execute_result"
    }
   ],
   "source": [
    "timestamps"
   ]
  },
  {
   "cell_type": "code",
   "execution_count": 4,
   "id": "alternate-victory",
   "metadata": {
    "execution": {
     "iopub.execute_input": "2021-11-06T20:00:09.889388Z",
     "iopub.status.busy": "2021-11-06T20:00:09.887237Z",
     "iopub.status.idle": "2021-11-06T20:00:10.989970Z",
     "shell.execute_reply": "2021-11-06T20:00:10.991773Z"
    },
    "papermill": {
     "duration": 1.136376,
     "end_time": "2021-11-06T20:00:10.992186",
     "exception": false,
     "start_time": "2021-11-06T20:00:09.855810",
     "status": "completed"
    },
    "tags": []
   },
   "outputs": [],
   "source": [
    "df = pd.read_sql(\"select * from EBAY_TOP_BERLIN where record_time in (select distinct record_time from EBAY_TOP_BERLIN order by record_time desc limit 2)\", sqlite3.connect(\"UsedObjects.db\"))"
   ]
  },
  {
   "cell_type": "code",
   "execution_count": 5,
   "id": "popular-active",
   "metadata": {
    "execution": {
     "iopub.execute_input": "2021-11-06T20:00:11.088757Z",
     "iopub.status.busy": "2021-11-06T20:00:11.075775Z",
     "iopub.status.idle": "2021-11-06T20:00:11.109009Z",
     "shell.execute_reply": "2021-11-06T20:00:11.110387Z"
    },
    "papermill": {
     "duration": 0.078255,
     "end_time": "2021-11-06T20:00:11.110859",
     "exception": false,
     "start_time": "2021-11-06T20:00:11.032604",
     "status": "completed"
    },
    "tags": []
   },
   "outputs": [],
   "source": [
    "df_pivot = df.pivot_table(index=\"PRODUCT\", columns = \"RECORD_TIME\", values = \"LISTING_COUNT\")"
   ]
  },
  {
   "cell_type": "code",
   "execution_count": 6,
   "id": "union-huntington",
   "metadata": {
    "execution": {
     "iopub.execute_input": "2021-11-06T20:00:11.174080Z",
     "iopub.status.busy": "2021-11-06T20:00:11.171785Z",
     "iopub.status.idle": "2021-11-06T20:00:11.177885Z",
     "shell.execute_reply": "2021-11-06T20:00:11.179444Z"
    },
    "papermill": {
     "duration": 0.047231,
     "end_time": "2021-11-06T20:00:11.179941",
     "exception": false,
     "start_time": "2021-11-06T20:00:11.132710",
     "status": "completed"
    },
    "tags": []
   },
   "outputs": [],
   "source": [
    "df_pivot.columns = [\"stamp_1\", \"stamp_2\"]\n",
    "df_pivot_diff = df_pivot.diff(axis=1)"
   ]
  },
  {
   "cell_type": "code",
   "execution_count": 7,
   "id": "fifth-motion",
   "metadata": {
    "execution": {
     "iopub.execute_input": "2021-11-06T20:00:11.247331Z",
     "iopub.status.busy": "2021-11-06T20:00:11.237224Z",
     "iopub.status.idle": "2021-11-06T20:00:12.992273Z",
     "shell.execute_reply": "2021-11-06T20:00:12.993938Z"
    },
    "papermill": {
     "duration": 1.792048,
     "end_time": "2021-11-06T20:00:12.994459",
     "exception": false,
     "start_time": "2021-11-06T20:00:11.202411",
     "status": "completed"
    },
    "tags": []
   },
   "outputs": [
    {
     "data": {
      "text/plain": [
       "<AxesSubplot:ylabel='PRODUCT'>"
      ]
     },
     "execution_count": 7,
     "metadata": {},
     "output_type": "execute_result"
    },
    {
     "data": {
      "image/png": "[encoded data removed]",
      "text/plain": [
       "<Figure size 432x288 with 1 Axes>"
      ]
     },
     "metadata": {
      "needs_background": "light"
     },
     "output_type": "display_data"
    }
   ],
   "source": [
    "df_pivot_diff.sort_values(\"stamp_2\", ascending = False)[\"stamp_2\"].head(10).plot.barh()"
   ]
  },
  {
   "cell_type": "code",
   "execution_count": null,
   "id": "extra-executive",
   "metadata": {
    "papermill": {
     "duration": 0.025539,
     "end_time": "2021-11-06T20:00:13.045450",
     "exception": false,
     "start_time": "2021-11-06T20:00:13.019911",
     "status": "completed"
    },
    "tags": []
   },
   "outputs": [],
   "source": []
  }
 ],
 "metadata": {
  "kernelspec": {
   "display_name": "Python 3",
   "language": "python",
   "name": "python3"
  },
  "language_info": {
   "codemirror_mode": {
    "name": "ipython",
    "version": 3
   },
   "file_extension": ".py",
   "mimetype": "text/x-python",
   "name": "python",
   "nbconvert_exporter": "python",
   "pygments_lexer": "ipython3",
   "version": "3.9.5"
  },
  "papermill": {
   "default_parameters": {},
   "duration": 8.778603,
   "end_time": "2021-11-06T20:00:13.894427",
   "environment_variables": {},
   "exception": null,
   "input_path": "eBay_Overview.ipynb",
   "output_path": "eBay_Overview.ipynb",
   "parameters": {},
   "start_time": "2021-11-06T20:00:05.115824",
   "version": "2.3.3"
  }
 },
 "nbformat": 4,
 "nbformat_minor": 5
}