{
 "cells": [
  {
   "cell_type": "code",
   "execution_count": 1,
   "id": "reverse-picking",
   "metadata": {
    "execution": {
     "iopub.execute_input": "2021-08-20T05:00:07.224238Z",
     "iopub.status.busy": "2021-08-20T05:00:07.222264Z",
     "iopub.status.idle": "2021-08-20T05:00:08.029574Z",
     "shell.execute_reply": "2021-08-20T05:00:08.028018Z"
    },
    "papermill": {
     "duration": 0.858683,
     "end_time": "2021-08-20T05:00:08.030021",
     "exception": false,
     "start_time": "2021-08-20T05:00:07.171338",
     "status": "completed"
    },
    "tags": []
   },
   "outputs": [],
   "source": [
    "import pandas as pd\n",
    "import sqlite3"
   ]
  },
  {
   "cell_type": "code",
   "execution_count": 2,
   "id": "innovative-syndrome",
   "metadata": {
    "execution": {
     "iopub.execute_input": "2021-08-20T05:00:08.080005Z",
     "iopub.status.busy": "2021-08-20T05:00:08.078108Z",
     "iopub.status.idle": "2021-08-20T05:00:08.164696Z",
     "shell.execute_reply": "2021-08-20T05:00:08.165895Z"
    },
    "papermill": {
     "duration": 0.116218,
     "end_time": "2021-08-20T05:00:08.166476",
     "exception": false,
     "start_time": "2021-08-20T05:00:08.050258",
     "status": "completed"
    },
    "tags": []
   },
   "outputs": [],
   "source": [
    "timestamps = pd.read_sql(\"select distinct record_time from EBAY_TOP_BERLIN order by record_time desc limit 2\", sqlite3.connect(\"UsedObjects.db\"))"
   ]
  },
  {
   "cell_type": "code",
   "execution_count": 3,
   "id": "periodic-identification",
   "metadata": {
    "execution": {
     "iopub.execute_input": "2021-08-20T05:00:08.234908Z",
     "iopub.status.busy": "2021-08-20T05:00:08.232794Z",
     "iopub.status.idle": "2021-08-20T05:00:08.252921Z",
     "shell.execute_reply": "2021-08-20T05:00:08.254208Z"
    },
    "papermill": {
     "duration": 0.066562,
     "end_time": "2021-08-20T05:00:08.254665",
     "exception": false,
     "start_time": "2021-08-20T05:00:08.188103",
     "status": "completed"
    },
    "tags": []
   },
   "outputs": [
    {
     "data": {
      "text/html": [
       "<div>\n",
       "<style scoped>\n",
       "    .dataframe tbody tr th:only-of-type {\n",
       "        vertical-align: middle;\n",
       "    }\n",
       "\n",
       "    .dataframe tbody tr th {\n",
       "        vertical-align: top;\n",
       "    }\n",
       "\n",
       "    .dataframe thead th {\n",
       "        text-align: right;\n",
       "    }\n",
       "</style>\n",
       "<table border=\"1\" class=\"dataframe\">\n",
       "  <thead>\n",
       "    <tr style=\"text-align: right;\">\n",
       "      <th></th>\n",
       "      <th>RECORD_TIME</th>\n",
       "    </tr>\n",
       "  </thead>\n",
       "  <tbody>\n",
       "    <tr>\n",
       "      <th>0</th>\n",
       "      <td>2021-08-20 07:00</td>\n",
       "    </tr>\n",
       "    <tr>\n",
       "      <th>1</th>\n",
       "      <td>2021-08-20 06:30</td>\n",
       "    </tr>\n",
       "  </tbody>\n",
       "</table>\n",
       "</div>"
      ],
      "text/plain": [
       "        RECORD_TIME\n",
       "0  2021-08-20 07:00\n",
       "1  2021-08-20 06:30"
      ]
     },
     "execution_count": 3,
     "metadata": {},
     "output_type": "execute_result"
    }
   ],
   "source": [
    "timestamps"
   ]
  },
  {
   "cell_type": "code",
   "execution_count": 4,
   "id": "alternate-victory",
   "metadata": {
    "execution": {
     "iopub.execute_input": "2021-08-20T05:00:08.307133Z",
     "iopub.status.busy": "2021-08-20T05:00:08.305106Z",
     "iopub.status.idle": "2021-08-20T05:00:08.435821Z",
     "shell.execute_reply": "2021-08-20T05:00:08.437045Z"
    },
    "papermill": {
     "duration": 0.160692,
     "end_time": "2021-08-20T05:00:08.437447",
     "exception": false,
     "start_time": "2021-08-20T05:00:08.276755",
     "status": "completed"
    },
    "tags": []
   },
   "outputs": [],
   "source": [
    "df = pd.read_sql(\"select * from EBAY_TOP_BERLIN where record_time in (select distinct record_time from EBAY_TOP_BERLIN order by record_time desc limit 2)\", sqlite3.connect(\"UsedObjects.db\"))"
   ]
  },
  {
   "cell_type": "code",
   "execution_count": 5,
   "id": "popular-active",
   "metadata": {
    "execution": {
     "iopub.execute_input": "2021-08-20T05:00:08.510247Z",
     "iopub.status.busy": "2021-08-20T05:00:08.498916Z",
     "iopub.status.idle": "2021-08-20T05:00:08.526739Z",
     "shell.execute_reply": "2021-08-20T05:00:08.527988Z"
    },
    "papermill": {
     "duration": 0.068509,
     "end_time": "2021-08-20T05:00:08.528383",
     "exception": false,
     "start_time": "2021-08-20T05:00:08.459874",
     "status": "completed"
    },
    "tags": []
   },
   "outputs": [],
   "source": [
    "df_pivot = df.pivot_table(index=\"PRODUCT\", columns = \"RECORD_TIME\", values = \"LISTING_COUNT\")"
   ]
  },
  {
   "cell_type": "code",
   "execution_count": 6,
   "id": "union-huntington",
   "metadata": {
    "execution": {
     "iopub.execute_input": "2021-08-20T05:00:08.586659Z",
     "iopub.status.busy": "2021-08-20T05:00:08.584316Z",
     "iopub.status.idle": "2021-08-20T05:00:08.590265Z",
     "shell.execute_reply": "2021-08-20T05:00:08.591592Z"
    },
    "papermill": {
     "duration": 0.042046,
     "end_time": "2021-08-20T05:00:08.592010",
     "exception": false,
     "start_time": "2021-08-20T05:00:08.549964",
     "status": "completed"
    },
    "tags": []
   },
   "outputs": [],
   "source": [
    "df_pivot.columns = [\"stamp_1\", \"stamp_2\"]\n",
    "df_pivot_diff = df_pivot.diff(axis=1)"
   ]
  },
  {
   "cell_type": "code",
   "execution_count": 7,
   "id": "fifth-motion",
   "metadata": {
    "execution": {
     "iopub.execute_input": "2021-08-20T05:00:08.645067Z",
     "iopub.status.busy": "2021-08-20T05:00:08.642872Z",
     "iopub.status.idle": "2021-08-20T05:00:10.102091Z",
     "shell.execute_reply": "2021-08-20T05:00:10.103547Z"
    },
    "papermill": {
     "duration": 1.492068,
     "end_time": "2021-08-20T05:00:10.103991",
     "exception": false,
     "start_time": "2021-08-20T05:00:08.611923",
     "status": "completed"
    },
    "tags": []
   },
   "outputs": [
    {
     "data": {
      "text/plain": [
       "<AxesSubplot:ylabel='PRODUCT'>"
      ]
     },
     "execution_count": 7,
     "metadata": {},
     "output_type": "execute_result"
    },
    {
     "data": {
      "image/png": "[encoded data removed]",
      "text/plain": [
       "<Figure size 432x288 with 1 Axes>"
      ]
     },
     "metadata": {
      "needs_background": "light"
     },
     "output_type": "display_data"
    }
   ],
   "source": [
    "df_pivot_diff.sort_values(\"stamp_2\", ascending = False)[\"stamp_2\"].head(10).plot.barh()"
   ]
  },
  {
   "cell_type": "code",
   "execution_count": null,
   "id": "extra-executive",
   "metadata": {
    "papermill": {
     "duration": 0.022041,
     "end_time": "2021-08-20T05:00:10.150431",
     "exception": false,
     "start_time": "2021-08-20T05:00:10.128390",
     "status": "completed"
    },
    "tags": []
   },
   "outputs": [],
   "source": []
  }
 ],
 "metadata": {
  "kernelspec": {
   "display_name": "Python 3",
   "language": "python",
   "name": "python3"
  },
  "language_info": {
   "codemirror_mode": {
    "name": "ipython",
    "version": 3
   },
   "file_extension": ".py",
   "mimetype": "text/x-python",
   "name": "python",
   "nbconvert_exporter": "python",
   "pygments_lexer": "ipython3",
   "version": "3.9.5"
  },
  "papermill": {
   "default_parameters": {},
   "duration": 6.824535,
   "end_time": "2021-08-20T05:00:11.583968",
   "environment_variables": {},
   "exception": null,
   "input_path": "eBay_Overview.ipynb",
   "output_path": "eBay_Overview.ipynb",
   "parameters": {},
   "start_time": "2021-08-20T05:00:04.759433",
   "version": "2.3.3"
  }
 },
 "nbformat": 4,
 "nbformat_minor": 5
}