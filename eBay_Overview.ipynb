{
 "cells": [
  {
   "cell_type": "code",
   "execution_count": 1,
   "id": "reverse-picking",
   "metadata": {
    "execution": {
     "iopub.execute_input": "2021-08-31T10:30:07.400576Z",
     "iopub.status.busy": "2021-08-31T10:30:07.398503Z",
     "iopub.status.idle": "2021-08-31T10:30:08.198800Z",
     "shell.execute_reply": "2021-08-31T10:30:08.200243Z"
    },
    "papermill": {
     "duration": 0.850917,
     "end_time": "2021-08-31T10:30:08.200896",
     "exception": false,
     "start_time": "2021-08-31T10:30:07.349979",
     "status": "completed"
    },
    "tags": []
   },
   "outputs": [],
   "source": [
    "import pandas as pd\n",
    "import sqlite3"
   ]
  },
  {
   "cell_type": "code",
   "execution_count": 2,
   "id": "innovative-syndrome",
   "metadata": {
    "execution": {
     "iopub.execute_input": "2021-08-31T10:30:08.251884Z",
     "iopub.status.busy": "2021-08-31T10:30:08.249807Z",
     "iopub.status.idle": "2021-08-31T10:30:08.424052Z",
     "shell.execute_reply": "2021-08-31T10:30:08.422426Z"
    },
    "papermill": {
     "duration": 0.203041,
     "end_time": "2021-08-31T10:30:08.424427",
     "exception": false,
     "start_time": "2021-08-31T10:30:08.221386",
     "status": "completed"
    },
    "tags": []
   },
   "outputs": [],
   "source": [
    "timestamps = pd.read_sql(\"select distinct record_time from EBAY_TOP_BERLIN order by record_time desc limit 2\", sqlite3.connect(\"UsedObjects.db\"))"
   ]
  },
  {
   "cell_type": "code",
   "execution_count": 3,
   "id": "periodic-identification",
   "metadata": {
    "execution": {
     "iopub.execute_input": "2021-08-31T10:30:08.490035Z",
     "iopub.status.busy": "2021-08-31T10:30:08.488016Z",
     "iopub.status.idle": "2021-08-31T10:30:08.507797Z",
     "shell.execute_reply": "2021-08-31T10:30:08.509529Z"
    },
    "papermill": {
     "duration": 0.066249,
     "end_time": "2021-08-31T10:30:08.510060",
     "exception": false,
     "start_time": "2021-08-31T10:30:08.443811",
     "status": "completed"
    },
    "tags": []
   },
   "outputs": [
    {
     "data": {
      "text/html": [
       "<div>\n",
       "<style scoped>\n",
       "    .dataframe tbody tr th:only-of-type {\n",
       "        vertical-align: middle;\n",
       "    }\n",
       "\n",
       "    .dataframe tbody tr th {\n",
       "        vertical-align: top;\n",
       "    }\n",
       "\n",
       "    .dataframe thead th {\n",
       "        text-align: right;\n",
       "    }\n",
       "</style>\n",
       "<table border=\"1\" class=\"dataframe\">\n",
       "  <thead>\n",
       "    <tr style=\"text-align: right;\">\n",
       "      <th></th>\n",
       "      <th>RECORD_TIME</th>\n",
       "    </tr>\n",
       "  </thead>\n",
       "  <tbody>\n",
       "    <tr>\n",
       "      <th>0</th>\n",
       "      <td>2021-08-31 12:30</td>\n",
       "    </tr>\n",
       "    <tr>\n",
       "      <th>1</th>\n",
       "      <td>2021-08-31 12:00</td>\n",
       "    </tr>\n",
       "  </tbody>\n",
       "</table>\n",
       "</div>"
      ],
      "text/plain": [
       "        RECORD_TIME\n",
       "0  2021-08-31 12:30\n",
       "1  2021-08-31 12:00"
      ]
     },
     "execution_count": 3,
     "metadata": {},
     "output_type": "execute_result"
    }
   ],
   "source": [
    "timestamps"
   ]
  },
  {
   "cell_type": "code",
   "execution_count": 4,
   "id": "alternate-victory",
   "metadata": {
    "execution": {
     "iopub.execute_input": "2021-08-31T10:30:08.562749Z",
     "iopub.status.busy": "2021-08-31T10:30:08.560920Z",
     "iopub.status.idle": "2021-08-31T10:30:08.815734Z",
     "shell.execute_reply": "2021-08-31T10:30:08.816955Z"
    },
    "papermill": {
     "duration": 0.28471,
     "end_time": "2021-08-31T10:30:08.817346",
     "exception": false,
     "start_time": "2021-08-31T10:30:08.532636",
     "status": "completed"
    },
    "tags": []
   },
   "outputs": [],
   "source": [
    "df = pd.read_sql(\"select * from EBAY_TOP_BERLIN where record_time in (select distinct record_time from EBAY_TOP_BERLIN order by record_time desc limit 2)\", sqlite3.connect(\"UsedObjects.db\"))"
   ]
  },
  {
   "cell_type": "code",
   "execution_count": 5,
   "id": "popular-active",
   "metadata": {
    "execution": {
     "iopub.execute_input": "2021-08-31T10:30:08.889196Z",
     "iopub.status.busy": "2021-08-31T10:30:08.887048Z",
     "iopub.status.idle": "2021-08-31T10:30:08.914123Z",
     "shell.execute_reply": "2021-08-31T10:30:08.915516Z"
    },
    "papermill": {
     "duration": 0.075275,
     "end_time": "2021-08-31T10:30:08.915937",
     "exception": false,
     "start_time": "2021-08-31T10:30:08.840662",
     "status": "completed"
    },
    "tags": []
   },
   "outputs": [],
   "source": [
    "df_pivot = df.pivot_table(index=\"PRODUCT\", columns = \"RECORD_TIME\", values = \"LISTING_COUNT\")"
   ]
  },
  {
   "cell_type": "code",
   "execution_count": 6,
   "id": "union-huntington",
   "metadata": {
    "execution": {
     "iopub.execute_input": "2021-08-31T10:30:08.972583Z",
     "iopub.status.busy": "2021-08-31T10:30:08.970468Z",
     "iopub.status.idle": "2021-08-31T10:30:08.975610Z",
     "shell.execute_reply": "2021-08-31T10:30:08.976910Z"
    },
    "papermill": {
     "duration": 0.040112,
     "end_time": "2021-08-31T10:30:08.977325",
     "exception": false,
     "start_time": "2021-08-31T10:30:08.937213",
     "status": "completed"
    },
    "tags": []
   },
   "outputs": [],
   "source": [
    "df_pivot.columns = [\"stamp_1\", \"stamp_2\"]\n",
    "df_pivot_diff = df_pivot.diff(axis=1)"
   ]
  },
  {
   "cell_type": "code",
   "execution_count": 7,
   "id": "fifth-motion",
   "metadata": {
    "execution": {
     "iopub.execute_input": "2021-08-31T10:30:09.032632Z",
     "iopub.status.busy": "2021-08-31T10:30:09.030098Z",
     "iopub.status.idle": "2021-08-31T10:30:10.543668Z",
     "shell.execute_reply": "2021-08-31T10:30:10.542227Z"
    },
    "papermill": {
     "duration": 1.545372,
     "end_time": "2021-08-31T10:30:10.544030",
     "exception": false,
     "start_time": "2021-08-31T10:30:08.998658",
     "status": "completed"
    },
    "tags": []
   },
   "outputs": [
    {
     "data": {
      "text/plain": [
       "<AxesSubplot:ylabel='PRODUCT'>"
      ]
     },
     "execution_count": 7,
     "metadata": {},
     "output_type": "execute_result"
    },
    {
     "data": {
      "image/png": "[encoded data removed]",
      "text/plain": [
       "<Figure size 432x288 with 1 Axes>"
      ]
     },
     "metadata": {
      "needs_background": "light"
     },
     "output_type": "display_data"
    }
   ],
   "source": [
    "df_pivot_diff.sort_values(\"stamp_2\", ascending = False)[\"stamp_2\"].head(10).plot.barh()"
   ]
  },
  {
   "cell_type": "code",
   "execution_count": null,
   "id": "extra-executive",
   "metadata": {
    "papermill": {
     "duration": 0.022308,
     "end_time": "2021-08-31T10:30:10.591227",
     "exception": false,
     "start_time": "2021-08-31T10:30:10.568919",
     "status": "completed"
    },
    "tags": []
   },
   "outputs": [],
   "source": []
  }
 ],
 "metadata": {
  "kernelspec": {
   "display_name": "Python 3",
   "language": "python",
   "name": "python3"
  },
  "language_info": {
   "codemirror_mode": {
    "name": "ipython",
    "version": 3
   },
   "file_extension": ".py",
   "mimetype": "text/x-python",
   "name": "python",
   "nbconvert_exporter": "python",
   "pygments_lexer": "ipython3",
   "version": "3.9.5"
  },
  "papermill": {
   "default_parameters": {},
   "duration": 6.817382,
   "end_time": "2021-08-31T10:30:11.780163",
   "environment_variables": {},
   "exception": null,
   "input_path": "eBay_Overview.ipynb",
   "output_path": "eBay_Overview.ipynb",
   "parameters": {},
   "start_time": "2021-08-31T10:30:04.962781",
   "version": "2.3.3"
  }
 },
 "nbformat": 4,
 "nbformat_minor": 5
}