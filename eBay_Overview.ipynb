{
 "cells": [
  {
   "cell_type": "code",
   "execution_count": 1,
   "id": "reverse-picking",
   "metadata": {
    "execution": {
     "iopub.execute_input": "2021-09-22T07:00:07.563468Z",
     "iopub.status.busy": "2021-09-22T07:00:07.561446Z",
     "iopub.status.idle": "2021-09-22T07:00:08.370246Z",
     "shell.execute_reply": "2021-09-22T07:00:08.368674Z"
    },
    "papermill": {
     "duration": 0.85853,
     "end_time": "2021-09-22T07:00:08.370651",
     "exception": false,
     "start_time": "2021-09-22T07:00:07.512121",
     "status": "completed"
    },
    "tags": []
   },
   "outputs": [],
   "source": [
    "import pandas as pd\n",
    "import sqlite3"
   ]
  },
  {
   "cell_type": "code",
   "execution_count": 2,
   "id": "innovative-syndrome",
   "metadata": {
    "execution": {
     "iopub.execute_input": "2021-09-22T07:00:08.421678Z",
     "iopub.status.busy": "2021-09-22T07:00:08.419819Z",
     "iopub.status.idle": "2021-09-22T07:00:08.779893Z",
     "shell.execute_reply": "2021-09-22T07:00:08.781107Z"
    },
    "papermill": {
     "duration": 0.389758,
     "end_time": "2021-09-22T07:00:08.781502",
     "exception": false,
     "start_time": "2021-09-22T07:00:08.391744",
     "status": "completed"
    },
    "tags": []
   },
   "outputs": [],
   "source": [
    "timestamps = pd.read_sql(\"select distinct record_time from EBAY_TOP_BERLIN order by record_time desc limit 2\", sqlite3.connect(\"UsedObjects.db\"))"
   ]
  },
  {
   "cell_type": "code",
   "execution_count": 3,
   "id": "periodic-identification",
   "metadata": {
    "execution": {
     "iopub.execute_input": "2021-09-22T07:00:08.849890Z",
     "iopub.status.busy": "2021-09-22T07:00:08.847900Z",
     "iopub.status.idle": "2021-09-22T07:00:08.870225Z",
     "shell.execute_reply": "2021-09-22T07:00:08.872026Z"
    },
    "papermill": {
     "duration": 0.068568,
     "end_time": "2021-09-22T07:00:08.872546",
     "exception": false,
     "start_time": "2021-09-22T07:00:08.803978",
     "status": "completed"
    },
    "tags": []
   },
   "outputs": [
    {
     "data": {
      "text/html": [
       "<div>\n",
       "<style scoped>\n",
       "    .dataframe tbody tr th:only-of-type {\n",
       "        vertical-align: middle;\n",
       "    }\n",
       "\n",
       "    .dataframe tbody tr th {\n",
       "        vertical-align: top;\n",
       "    }\n",
       "\n",
       "    .dataframe thead th {\n",
       "        text-align: right;\n",
       "    }\n",
       "</style>\n",
       "<table border=\"1\" class=\"dataframe\">\n",
       "  <thead>\n",
       "    <tr style=\"text-align: right;\">\n",
       "      <th></th>\n",
       "      <th>RECORD_TIME</th>\n",
       "    </tr>\n",
       "  </thead>\n",
       "  <tbody>\n",
       "    <tr>\n",
       "      <th>0</th>\n",
       "      <td>2021-09-22 09:00</td>\n",
       "    </tr>\n",
       "    <tr>\n",
       "      <th>1</th>\n",
       "      <td>2021-09-22 08:30</td>\n",
       "    </tr>\n",
       "  </tbody>\n",
       "</table>\n",
       "</div>"
      ],
      "text/plain": [
       "        RECORD_TIME\n",
       "0  2021-09-22 09:00\n",
       "1  2021-09-22 08:30"
      ]
     },
     "execution_count": 3,
     "metadata": {},
     "output_type": "execute_result"
    }
   ],
   "source": [
    "timestamps"
   ]
  },
  {
   "cell_type": "code",
   "execution_count": 4,
   "id": "alternate-victory",
   "metadata": {
    "execution": {
     "iopub.execute_input": "2021-09-22T07:00:08.924055Z",
     "iopub.status.busy": "2021-09-22T07:00:08.922018Z",
     "iopub.status.idle": "2021-09-22T07:00:09.424698Z",
     "shell.execute_reply": "2021-09-22T07:00:09.425833Z"
    },
    "papermill": {
     "duration": 0.532577,
     "end_time": "2021-09-22T07:00:09.426244",
     "exception": false,
     "start_time": "2021-09-22T07:00:08.893667",
     "status": "completed"
    },
    "tags": []
   },
   "outputs": [],
   "source": [
    "df = pd.read_sql(\"select * from EBAY_TOP_BERLIN where record_time in (select distinct record_time from EBAY_TOP_BERLIN order by record_time desc limit 2)\", sqlite3.connect(\"UsedObjects.db\"))"
   ]
  },
  {
   "cell_type": "code",
   "execution_count": 5,
   "id": "popular-active",
   "metadata": {
    "execution": {
     "iopub.execute_input": "2021-09-22T07:00:09.508598Z",
     "iopub.status.busy": "2021-09-22T07:00:09.495897Z",
     "iopub.status.idle": "2021-09-22T07:00:09.524096Z",
     "shell.execute_reply": "2021-09-22T07:00:09.525325Z"
    },
    "papermill": {
     "duration": 0.071145,
     "end_time": "2021-09-22T07:00:09.525723",
     "exception": false,
     "start_time": "2021-09-22T07:00:09.454578",
     "status": "completed"
    },
    "tags": []
   },
   "outputs": [],
   "source": [
    "df_pivot = df.pivot_table(index=\"PRODUCT\", columns = \"RECORD_TIME\", values = \"LISTING_COUNT\")"
   ]
  },
  {
   "cell_type": "code",
   "execution_count": 6,
   "id": "union-huntington",
   "metadata": {
    "execution": {
     "iopub.execute_input": "2021-09-22T07:00:09.581921Z",
     "iopub.status.busy": "2021-09-22T07:00:09.579891Z",
     "iopub.status.idle": "2021-09-22T07:00:09.585129Z",
     "shell.execute_reply": "2021-09-22T07:00:09.586320Z"
    },
    "papermill": {
     "duration": 0.040221,
     "end_time": "2021-09-22T07:00:09.586748",
     "exception": false,
     "start_time": "2021-09-22T07:00:09.546527",
     "status": "completed"
    },
    "tags": []
   },
   "outputs": [],
   "source": [
    "df_pivot.columns = [\"stamp_1\", \"stamp_2\"]\n",
    "df_pivot_diff = df_pivot.diff(axis=1)"
   ]
  },
  {
   "cell_type": "code",
   "execution_count": 7,
   "id": "fifth-motion",
   "metadata": {
    "execution": {
     "iopub.execute_input": "2021-09-22T07:00:09.642013Z",
     "iopub.status.busy": "2021-09-22T07:00:09.639767Z",
     "iopub.status.idle": "2021-09-22T07:00:11.115857Z",
     "shell.execute_reply": "2021-09-22T07:00:11.117336Z"
    },
    "papermill": {
     "duration": 1.509574,
     "end_time": "2021-09-22T07:00:11.117799",
     "exception": false,
     "start_time": "2021-09-22T07:00:09.608225",
     "status": "completed"
    },
    "tags": []
   },
   "outputs": [
    {
     "data": {
      "text/plain": [
       "<AxesSubplot:ylabel='PRODUCT'>"
      ]
     },
     "execution_count": 7,
     "metadata": {},
     "output_type": "execute_result"
    },
    {
     "data": {
      "image/png": "[encoded data removed]",
      "text/plain": [
       "<Figure size 432x288 with 1 Axes>"
      ]
     },
     "metadata": {
      "needs_background": "light"
     },
     "output_type": "display_data"
    }
   ],
   "source": [
    "df_pivot_diff.sort_values(\"stamp_2\", ascending = False)[\"stamp_2\"].head(10).plot.barh()"
   ]
  },
  {
   "cell_type": "code",
   "execution_count": null,
   "id": "extra-executive",
   "metadata": {
    "papermill": {
     "duration": 0.022351,
     "end_time": "2021-09-22T07:00:11.164297",
     "exception": false,
     "start_time": "2021-09-22T07:00:11.141946",
     "status": "completed"
    },
    "tags": []
   },
   "outputs": [],
   "source": []
  }
 ],
 "metadata": {
  "kernelspec": {
   "display_name": "Python 3",
   "language": "python",
   "name": "python3"
  },
  "language_info": {
   "codemirror_mode": {
    "name": "ipython",
    "version": 3
   },
   "file_extension": ".py",
   "mimetype": "text/x-python",
   "name": "python",
   "nbconvert_exporter": "python",
   "pygments_lexer": "ipython3",
   "version": "3.9.5"
  },
  "papermill": {
   "default_parameters": {},
   "duration": 6.696452,
   "end_time": "2021-09-22T07:00:11.806622",
   "environment_variables": {},
   "exception": null,
   "input_path": "eBay_Overview.ipynb",
   "output_path": "eBay_Overview.ipynb",
   "parameters": {},
   "start_time": "2021-09-22T07:00:05.110170",
   "version": "2.3.3"
  }
 },
 "nbformat": 4,
 "nbformat_minor": 5
}