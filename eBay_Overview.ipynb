{
 "cells": [
  {
   "cell_type": "code",
   "execution_count": 1,
   "id": "reverse-picking",
   "metadata": {
    "execution": {
     "iopub.execute_input": "2021-09-14T10:30:07.634781Z",
     "iopub.status.busy": "2021-09-14T10:30:07.632847Z",
     "iopub.status.idle": "2021-09-14T10:30:08.436940Z",
     "shell.execute_reply": "2021-09-14T10:30:08.438187Z"
    },
    "papermill": {
     "duration": 0.856462,
     "end_time": "2021-09-14T10:30:08.438812",
     "exception": false,
     "start_time": "2021-09-14T10:30:07.582350",
     "status": "completed"
    },
    "tags": []
   },
   "outputs": [],
   "source": [
    "import pandas as pd\n",
    "import sqlite3"
   ]
  },
  {
   "cell_type": "code",
   "execution_count": 2,
   "id": "innovative-syndrome",
   "metadata": {
    "execution": {
     "iopub.execute_input": "2021-09-14T10:30:08.490308Z",
     "iopub.status.busy": "2021-09-14T10:30:08.488422Z",
     "iopub.status.idle": "2021-09-14T10:30:08.770566Z",
     "shell.execute_reply": "2021-09-14T10:30:08.771928Z"
    },
    "papermill": {
     "duration": 0.311893,
     "end_time": "2021-09-14T10:30:08.772375",
     "exception": false,
     "start_time": "2021-09-14T10:30:08.460482",
     "status": "completed"
    },
    "tags": []
   },
   "outputs": [],
   "source": [
    "timestamps = pd.read_sql(\"select distinct record_time from EBAY_TOP_BERLIN order by record_time desc limit 2\", sqlite3.connect(\"UsedObjects.db\"))"
   ]
  },
  {
   "cell_type": "code",
   "execution_count": 3,
   "id": "periodic-identification",
   "metadata": {
    "execution": {
     "iopub.execute_input": "2021-09-14T10:30:08.837765Z",
     "iopub.status.busy": "2021-09-14T10:30:08.835746Z",
     "iopub.status.idle": "2021-09-14T10:30:08.857095Z",
     "shell.execute_reply": "2021-09-14T10:30:08.855660Z"
    },
    "papermill": {
     "duration": 0.064672,
     "end_time": "2021-09-14T10:30:08.857445",
     "exception": false,
     "start_time": "2021-09-14T10:30:08.792773",
     "status": "completed"
    },
    "tags": []
   },
   "outputs": [
    {
     "data": {
      "text/html": [
       "<div>\n",
       "<style scoped>\n",
       "    .dataframe tbody tr th:only-of-type {\n",
       "        vertical-align: middle;\n",
       "    }\n",
       "\n",
       "    .dataframe tbody tr th {\n",
       "        vertical-align: top;\n",
       "    }\n",
       "\n",
       "    .dataframe thead th {\n",
       "        text-align: right;\n",
       "    }\n",
       "</style>\n",
       "<table border=\"1\" class=\"dataframe\">\n",
       "  <thead>\n",
       "    <tr style=\"text-align: right;\">\n",
       "      <th></th>\n",
       "      <th>RECORD_TIME</th>\n",
       "    </tr>\n",
       "  </thead>\n",
       "  <tbody>\n",
       "    <tr>\n",
       "      <th>0</th>\n",
       "      <td>2021-09-14 12:30</td>\n",
       "    </tr>\n",
       "    <tr>\n",
       "      <th>1</th>\n",
       "      <td>2021-09-14 12:00</td>\n",
       "    </tr>\n",
       "  </tbody>\n",
       "</table>\n",
       "</div>"
      ],
      "text/plain": [
       "        RECORD_TIME\n",
       "0  2021-09-14 12:30\n",
       "1  2021-09-14 12:00"
      ]
     },
     "execution_count": 3,
     "metadata": {},
     "output_type": "execute_result"
    }
   ],
   "source": [
    "timestamps"
   ]
  },
  {
   "cell_type": "code",
   "execution_count": 4,
   "id": "alternate-victory",
   "metadata": {
    "execution": {
     "iopub.execute_input": "2021-09-14T10:30:08.907864Z",
     "iopub.status.busy": "2021-09-14T10:30:08.905880Z",
     "iopub.status.idle": "2021-09-14T10:30:09.325435Z",
     "shell.execute_reply": "2021-09-14T10:30:09.326661Z"
    },
    "papermill": {
     "duration": 0.449433,
     "end_time": "2021-09-14T10:30:09.327121",
     "exception": false,
     "start_time": "2021-09-14T10:30:08.877688",
     "status": "completed"
    },
    "tags": []
   },
   "outputs": [],
   "source": [
    "df = pd.read_sql(\"select * from EBAY_TOP_BERLIN where record_time in (select distinct record_time from EBAY_TOP_BERLIN order by record_time desc limit 2)\", sqlite3.connect(\"UsedObjects.db\"))"
   ]
  },
  {
   "cell_type": "code",
   "execution_count": 5,
   "id": "popular-active",
   "metadata": {
    "execution": {
     "iopub.execute_input": "2021-09-14T10:30:09.405924Z",
     "iopub.status.busy": "2021-09-14T10:30:09.394219Z",
     "iopub.status.idle": "2021-09-14T10:30:09.421899Z",
     "shell.execute_reply": "2021-09-14T10:30:09.423293Z"
    },
    "papermill": {
     "duration": 0.070519,
     "end_time": "2021-09-14T10:30:09.423721",
     "exception": false,
     "start_time": "2021-09-14T10:30:09.353202",
     "status": "completed"
    },
    "tags": []
   },
   "outputs": [],
   "source": [
    "df_pivot = df.pivot_table(index=\"PRODUCT\", columns = \"RECORD_TIME\", values = \"LISTING_COUNT\")"
   ]
  },
  {
   "cell_type": "code",
   "execution_count": 6,
   "id": "union-huntington",
   "metadata": {
    "execution": {
     "iopub.execute_input": "2021-09-14T10:30:09.479955Z",
     "iopub.status.busy": "2021-09-14T10:30:09.477829Z",
     "iopub.status.idle": "2021-09-14T10:30:09.484456Z",
     "shell.execute_reply": "2021-09-14T10:30:09.483040Z"
    },
    "papermill": {
     "duration": 0.040972,
     "end_time": "2021-09-14T10:30:09.484807",
     "exception": false,
     "start_time": "2021-09-14T10:30:09.443835",
     "status": "completed"
    },
    "tags": []
   },
   "outputs": [],
   "source": [
    "df_pivot.columns = [\"stamp_1\", \"stamp_2\"]\n",
    "df_pivot_diff = df_pivot.diff(axis=1)"
   ]
  },
  {
   "cell_type": "code",
   "execution_count": 7,
   "id": "fifth-motion",
   "metadata": {
    "execution": {
     "iopub.execute_input": "2021-09-14T10:30:09.538921Z",
     "iopub.status.busy": "2021-09-14T10:30:09.536476Z",
     "iopub.status.idle": "2021-09-14T10:30:11.038743Z",
     "shell.execute_reply": "2021-09-14T10:30:11.040123Z"
    },
    "papermill": {
     "duration": 1.535351,
     "end_time": "2021-09-14T10:30:11.040548",
     "exception": false,
     "start_time": "2021-09-14T10:30:09.505197",
     "status": "completed"
    },
    "tags": []
   },
   "outputs": [
    {
     "data": {
      "text/plain": [
       "<AxesSubplot:ylabel='PRODUCT'>"
      ]
     },
     "execution_count": 7,
     "metadata": {},
     "output_type": "execute_result"
    },
    {
     "data": {
      "image/png": "[encoded data removed]",
      "text/plain": [
       "<Figure size 432x288 with 1 Axes>"
      ]
     },
     "metadata": {
      "needs_background": "light"
     },
     "output_type": "display_data"
    }
   ],
   "source": [
    "df_pivot_diff.sort_values(\"stamp_2\", ascending = False)[\"stamp_2\"].head(10).plot.barh()"
   ]
  },
  {
   "cell_type": "code",
   "execution_count": null,
   "id": "extra-executive",
   "metadata": {
    "papermill": {
     "duration": 0.022246,
     "end_time": "2021-09-14T10:30:11.087417",
     "exception": false,
     "start_time": "2021-09-14T10:30:11.065171",
     "status": "completed"
    },
    "tags": []
   },
   "outputs": [],
   "source": []
  }
 ],
 "metadata": {
  "kernelspec": {
   "display_name": "Python 3",
   "language": "python",
   "name": "python3"
  },
  "language_info": {
   "codemirror_mode": {
    "name": "ipython",
    "version": 3
   },
   "file_extension": ".py",
   "mimetype": "text/x-python",
   "name": "python",
   "nbconvert_exporter": "python",
   "pygments_lexer": "ipython3",
   "version": "3.9.5"
  },
  "papermill": {
   "default_parameters": {},
   "duration": 6.554819,
   "end_time": "2021-09-14T10:30:11.730506",
   "environment_variables": {},
   "exception": null,
   "input_path": "eBay_Overview.ipynb",
   "output_path": "eBay_Overview.ipynb",
   "parameters": {},
   "start_time": "2021-09-14T10:30:05.175687",
   "version": "2.3.3"
  }
 },
 "nbformat": 4,
 "nbformat_minor": 5
}