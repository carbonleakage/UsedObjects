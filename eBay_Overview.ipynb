{
 "cells": [
  {
   "cell_type": "code",
   "execution_count": 1,
   "id": "reverse-picking",
   "metadata": {
    "execution": {
     "iopub.execute_input": "2021-11-10T03:00:07.994076Z",
     "iopub.status.busy": "2021-11-10T03:00:07.991803Z",
     "iopub.status.idle": "2021-11-10T03:00:08.950447Z",
     "shell.execute_reply": "2021-11-10T03:00:08.951978Z"
    },
    "papermill": {
     "duration": 1.009159,
     "end_time": "2021-11-10T03:00:08.952801",
     "exception": false,
     "start_time": "2021-11-10T03:00:07.943642",
     "status": "completed"
    },
    "tags": []
   },
   "outputs": [],
   "source": [
    "import pandas as pd\n",
    "import sqlite3"
   ]
  },
  {
   "cell_type": "code",
   "execution_count": 2,
   "id": "innovative-syndrome",
   "metadata": {
    "execution": {
     "iopub.execute_input": "2021-11-10T03:00:09.014334Z",
     "iopub.status.busy": "2021-11-10T03:00:09.012024Z",
     "iopub.status.idle": "2021-11-10T03:00:09.783477Z",
     "shell.execute_reply": "2021-11-10T03:00:09.785085Z"
    },
    "papermill": {
     "duration": 0.805084,
     "end_time": "2021-11-10T03:00:09.785562",
     "exception": false,
     "start_time": "2021-11-10T03:00:08.980478",
     "status": "completed"
    },
    "tags": []
   },
   "outputs": [],
   "source": [
    "timestamps = pd.read_sql(\"select distinct record_time from EBAY_TOP_BERLIN order by record_time desc limit 2\", sqlite3.connect(\"UsedObjects.db\"))"
   ]
  },
  {
   "cell_type": "code",
   "execution_count": 3,
   "id": "periodic-identification",
   "metadata": {
    "execution": {
     "iopub.execute_input": "2021-11-10T03:00:09.854610Z",
     "iopub.status.busy": "2021-11-10T03:00:09.852150Z",
     "iopub.status.idle": "2021-11-10T03:00:09.875164Z",
     "shell.execute_reply": "2021-11-10T03:00:09.876674Z"
    },
    "papermill": {
     "duration": 0.072465,
     "end_time": "2021-11-10T03:00:09.877265",
     "exception": false,
     "start_time": "2021-11-10T03:00:09.804800",
     "status": "completed"
    },
    "tags": []
   },
   "outputs": [
    {
     "data": {
      "text/html": [
       "<div>\n",
       "<style scoped>\n",
       "    .dataframe tbody tr th:only-of-type {\n",
       "        vertical-align: middle;\n",
       "    }\n",
       "\n",
       "    .dataframe tbody tr th {\n",
       "        vertical-align: top;\n",
       "    }\n",
       "\n",
       "    .dataframe thead th {\n",
       "        text-align: right;\n",
       "    }\n",
       "</style>\n",
       "<table border=\"1\" class=\"dataframe\">\n",
       "  <thead>\n",
       "    <tr style=\"text-align: right;\">\n",
       "      <th></th>\n",
       "      <th>RECORD_TIME</th>\n",
       "    </tr>\n",
       "  </thead>\n",
       "  <tbody>\n",
       "    <tr>\n",
       "      <th>0</th>\n",
       "      <td>2021-11-10 04:00</td>\n",
       "    </tr>\n",
       "    <tr>\n",
       "      <th>1</th>\n",
       "      <td>2021-11-10 03:30</td>\n",
       "    </tr>\n",
       "  </tbody>\n",
       "</table>\n",
       "</div>"
      ],
      "text/plain": [
       "        RECORD_TIME\n",
       "0  2021-11-10 04:00\n",
       "1  2021-11-10 03:30"
      ]
     },
     "execution_count": 3,
     "metadata": {},
     "output_type": "execute_result"
    }
   ],
   "source": [
    "timestamps"
   ]
  },
  {
   "cell_type": "code",
   "execution_count": 4,
   "id": "alternate-victory",
   "metadata": {
    "execution": {
     "iopub.execute_input": "2021-11-10T03:00:09.934427Z",
     "iopub.status.busy": "2021-11-10T03:00:09.931196Z",
     "iopub.status.idle": "2021-11-10T03:00:11.030144Z",
     "shell.execute_reply": "2021-11-10T03:00:11.033603Z"
    },
    "papermill": {
     "duration": 1.135152,
     "end_time": "2021-11-10T03:00:11.034193",
     "exception": false,
     "start_time": "2021-11-10T03:00:09.899041",
     "status": "completed"
    },
    "tags": []
   },
   "outputs": [],
   "source": [
    "df = pd.read_sql(\"select * from EBAY_TOP_BERLIN where record_time in (select distinct record_time from EBAY_TOP_BERLIN order by record_time desc limit 2)\", sqlite3.connect(\"UsedObjects.db\"))"
   ]
  },
  {
   "cell_type": "code",
   "execution_count": 5,
   "id": "popular-active",
   "metadata": {
    "execution": {
     "iopub.execute_input": "2021-11-10T03:00:11.102586Z",
     "iopub.status.busy": "2021-11-10T03:00:11.099991Z",
     "iopub.status.idle": "2021-11-10T03:00:11.131946Z",
     "shell.execute_reply": "2021-11-10T03:00:11.133490Z"
    },
    "papermill": {
     "duration": 0.077727,
     "end_time": "2021-11-10T03:00:11.133982",
     "exception": false,
     "start_time": "2021-11-10T03:00:11.056255",
     "status": "completed"
    },
    "tags": []
   },
   "outputs": [],
   "source": [
    "df_pivot = df.pivot_table(index=\"PRODUCT\", columns = \"RECORD_TIME\", values = \"LISTING_COUNT\")"
   ]
  },
  {
   "cell_type": "code",
   "execution_count": 6,
   "id": "union-huntington",
   "metadata": {
    "execution": {
     "iopub.execute_input": "2021-11-10T03:00:11.198605Z",
     "iopub.status.busy": "2021-11-10T03:00:11.196327Z",
     "iopub.status.idle": "2021-11-10T03:00:11.201738Z",
     "shell.execute_reply": "2021-11-10T03:00:11.203196Z"
    },
    "papermill": {
     "duration": 0.046365,
     "end_time": "2021-11-10T03:00:11.203646",
     "exception": false,
     "start_time": "2021-11-10T03:00:11.157281",
     "status": "completed"
    },
    "tags": []
   },
   "outputs": [],
   "source": [
    "df_pivot.columns = [\"stamp_1\", \"stamp_2\"]\n",
    "df_pivot_diff = df_pivot.diff(axis=1)"
   ]
  },
  {
   "cell_type": "code",
   "execution_count": 7,
   "id": "fifth-motion",
   "metadata": {
    "execution": {
     "iopub.execute_input": "2021-11-10T03:00:11.260075Z",
     "iopub.status.busy": "2021-11-10T03:00:11.257700Z",
     "iopub.status.idle": "2021-11-10T03:00:13.007494Z",
     "shell.execute_reply": "2021-11-10T03:00:13.010051Z"
    },
    "papermill": {
     "duration": 1.786907,
     "end_time": "2021-11-10T03:00:13.010923",
     "exception": false,
     "start_time": "2021-11-10T03:00:11.224016",
     "status": "completed"
    },
    "tags": []
   },
   "outputs": [
    {
     "data": {
      "text/plain": [
       "<AxesSubplot:ylabel='PRODUCT'>"
      ]
     },
     "execution_count": 7,
     "metadata": {},
     "output_type": "execute_result"
    },
    {
     "data": {
      "image/png": "[encoded data removed]",
      "text/plain": [
       "<Figure size 432x288 with 1 Axes>"
      ]
     },
     "metadata": {
      "needs_background": "light"
     },
     "output_type": "display_data"
    }
   ],
   "source": [
    "df_pivot_diff.sort_values(\"stamp_2\", ascending = False)[\"stamp_2\"].head(10).plot.barh()"
   ]
  },
  {
   "cell_type": "code",
   "execution_count": null,
   "id": "extra-executive",
   "metadata": {
    "papermill": {
     "duration": 0.035938,
     "end_time": "2021-11-10T03:00:13.085247",
     "exception": false,
     "start_time": "2021-11-10T03:00:13.049309",
     "status": "completed"
    },
    "tags": []
   },
   "outputs": [],
   "source": []
  }
 ],
 "metadata": {
  "kernelspec": {
   "display_name": "Python 3",
   "language": "python",
   "name": "python3"
  },
  "language_info": {
   "codemirror_mode": {
    "name": "ipython",
    "version": 3
   },
   "file_extension": ".py",
   "mimetype": "text/x-python",
   "name": "python",
   "nbconvert_exporter": "python",
   "pygments_lexer": "ipython3",
   "version": "3.9.5"
  },
  "papermill": {
   "default_parameters": {},
   "duration": 8.514086,
   "end_time": "2021-11-10T03:00:13.727598",
   "environment_variables": {},
   "exception": null,
   "input_path": "eBay_Overview.ipynb",
   "output_path": "eBay_Overview.ipynb",
   "parameters": {},
   "start_time": "2021-11-10T03:00:05.213512",
   "version": "2.3.3"
  }
 },
 "nbformat": 4,
 "nbformat_minor": 5
}