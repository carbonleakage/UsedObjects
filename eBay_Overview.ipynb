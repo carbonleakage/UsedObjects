{
 "cells": [
  {
   "cell_type": "code",
   "execution_count": 1,
   "id": "reverse-picking",
   "metadata": {
    "execution": {
     "iopub.execute_input": "2021-10-13T14:30:07.354495Z",
     "iopub.status.busy": "2021-10-13T14:30:07.352482Z",
     "iopub.status.idle": "2021-10-13T14:30:08.151947Z",
     "shell.execute_reply": "2021-10-13T14:30:08.153429Z"
    },
    "papermill": {
     "duration": 0.851474,
     "end_time": "2021-10-13T14:30:08.154069",
     "exception": false,
     "start_time": "2021-10-13T14:30:07.302595",
     "status": "completed"
    },
    "tags": []
   },
   "outputs": [],
   "source": [
    "import pandas as pd\n",
    "import sqlite3"
   ]
  },
  {
   "cell_type": "code",
   "execution_count": 2,
   "id": "innovative-syndrome",
   "metadata": {
    "execution": {
     "iopub.execute_input": "2021-10-13T14:30:08.206636Z",
     "iopub.status.busy": "2021-10-13T14:30:08.204215Z",
     "iopub.status.idle": "2021-10-13T14:30:08.739478Z",
     "shell.execute_reply": "2021-10-13T14:30:08.738148Z"
    },
    "papermill": {
     "duration": 0.563959,
     "end_time": "2021-10-13T14:30:08.739813",
     "exception": false,
     "start_time": "2021-10-13T14:30:08.175854",
     "status": "completed"
    },
    "tags": []
   },
   "outputs": [],
   "source": [
    "timestamps = pd.read_sql(\"select distinct record_time from EBAY_TOP_BERLIN order by record_time desc limit 2\", sqlite3.connect(\"UsedObjects.db\"))"
   ]
  },
  {
   "cell_type": "code",
   "execution_count": 3,
   "id": "periodic-identification",
   "metadata": {
    "execution": {
     "iopub.execute_input": "2021-10-13T14:30:08.804248Z",
     "iopub.status.busy": "2021-10-13T14:30:08.802221Z",
     "iopub.status.idle": "2021-10-13T14:30:08.821631Z",
     "shell.execute_reply": "2021-10-13T14:30:08.822862Z"
    },
    "papermill": {
     "duration": 0.063888,
     "end_time": "2021-10-13T14:30:08.823260",
     "exception": false,
     "start_time": "2021-10-13T14:30:08.759372",
     "status": "completed"
    },
    "tags": []
   },
   "outputs": [
    {
     "data": {
      "text/html": [
       "<div>\n",
       "<style scoped>\n",
       "    .dataframe tbody tr th:only-of-type {\n",
       "        vertical-align: middle;\n",
       "    }\n",
       "\n",
       "    .dataframe tbody tr th {\n",
       "        vertical-align: top;\n",
       "    }\n",
       "\n",
       "    .dataframe thead th {\n",
       "        text-align: right;\n",
       "    }\n",
       "</style>\n",
       "<table border=\"1\" class=\"dataframe\">\n",
       "  <thead>\n",
       "    <tr style=\"text-align: right;\">\n",
       "      <th></th>\n",
       "      <th>RECORD_TIME</th>\n",
       "    </tr>\n",
       "  </thead>\n",
       "  <tbody>\n",
       "    <tr>\n",
       "      <th>0</th>\n",
       "      <td>2021-10-13 16:30</td>\n",
       "    </tr>\n",
       "    <tr>\n",
       "      <th>1</th>\n",
       "      <td>2021-10-13 16:00</td>\n",
       "    </tr>\n",
       "  </tbody>\n",
       "</table>\n",
       "</div>"
      ],
      "text/plain": [
       "        RECORD_TIME\n",
       "0  2021-10-13 16:30\n",
       "1  2021-10-13 16:00"
      ]
     },
     "execution_count": 3,
     "metadata": {},
     "output_type": "execute_result"
    }
   ],
   "source": [
    "timestamps"
   ]
  },
  {
   "cell_type": "code",
   "execution_count": 4,
   "id": "alternate-victory",
   "metadata": {
    "execution": {
     "iopub.execute_input": "2021-10-13T14:30:08.884153Z",
     "iopub.status.busy": "2021-10-13T14:30:08.882263Z",
     "iopub.status.idle": "2021-10-13T14:30:09.656532Z",
     "shell.execute_reply": "2021-10-13T14:30:09.657887Z"
    },
    "papermill": {
     "duration": 0.807612,
     "end_time": "2021-10-13T14:30:09.658306",
     "exception": false,
     "start_time": "2021-10-13T14:30:08.850694",
     "status": "completed"
    },
    "tags": []
   },
   "outputs": [],
   "source": [
    "df = pd.read_sql(\"select * from EBAY_TOP_BERLIN where record_time in (select distinct record_time from EBAY_TOP_BERLIN order by record_time desc limit 2)\", sqlite3.connect(\"UsedObjects.db\"))"
   ]
  },
  {
   "cell_type": "code",
   "execution_count": 5,
   "id": "popular-active",
   "metadata": {
    "execution": {
     "iopub.execute_input": "2021-10-13T14:30:09.728966Z",
     "iopub.status.busy": "2021-10-13T14:30:09.716584Z",
     "iopub.status.idle": "2021-10-13T14:30:09.744942Z",
     "shell.execute_reply": "2021-10-13T14:30:09.746161Z"
    },
    "papermill": {
     "duration": 0.067639,
     "end_time": "2021-10-13T14:30:09.746562",
     "exception": false,
     "start_time": "2021-10-13T14:30:09.678923",
     "status": "completed"
    },
    "tags": []
   },
   "outputs": [],
   "source": [
    "df_pivot = df.pivot_table(index=\"PRODUCT\", columns = \"RECORD_TIME\", values = \"LISTING_COUNT\")"
   ]
  },
  {
   "cell_type": "code",
   "execution_count": 6,
   "id": "union-huntington",
   "metadata": {
    "execution": {
     "iopub.execute_input": "2021-10-13T14:30:09.805906Z",
     "iopub.status.busy": "2021-10-13T14:30:09.803435Z",
     "iopub.status.idle": "2021-10-13T14:30:09.809048Z",
     "shell.execute_reply": "2021-10-13T14:30:09.810656Z"
    },
    "papermill": {
     "duration": 0.042038,
     "end_time": "2021-10-13T14:30:09.811076",
     "exception": false,
     "start_time": "2021-10-13T14:30:09.769038",
     "status": "completed"
    },
    "tags": []
   },
   "outputs": [],
   "source": [
    "df_pivot.columns = [\"stamp_1\", \"stamp_2\"]\n",
    "df_pivot_diff = df_pivot.diff(axis=1)"
   ]
  },
  {
   "cell_type": "code",
   "execution_count": 7,
   "id": "fifth-motion",
   "metadata": {
    "execution": {
     "iopub.execute_input": "2021-10-13T14:30:09.864089Z",
     "iopub.status.busy": "2021-10-13T14:30:09.861926Z",
     "iopub.status.idle": "2021-10-13T14:30:11.343254Z",
     "shell.execute_reply": "2021-10-13T14:30:11.341801Z"
    },
    "papermill": {
     "duration": 1.512572,
     "end_time": "2021-10-13T14:30:11.343614",
     "exception": false,
     "start_time": "2021-10-13T14:30:09.831042",
     "status": "completed"
    },
    "tags": []
   },
   "outputs": [
    {
     "data": {
      "text/plain": [
       "<AxesSubplot:ylabel='PRODUCT'>"
      ]
     },
     "execution_count": 7,
     "metadata": {},
     "output_type": "execute_result"
    },
    {
     "data": {
      "image/png": "[encoded data removed]",
      "text/plain": [
       "<Figure size 432x288 with 1 Axes>"
      ]
     },
     "metadata": {
      "needs_background": "light"
     },
     "output_type": "display_data"
    }
   ],
   "source": [
    "df_pivot_diff.sort_values(\"stamp_2\", ascending = False)[\"stamp_2\"].head(10).plot.barh()"
   ]
  },
  {
   "cell_type": "code",
   "execution_count": null,
   "id": "extra-executive",
   "metadata": {
    "papermill": {
     "duration": 0.022352,
     "end_time": "2021-10-13T14:30:11.390604",
     "exception": false,
     "start_time": "2021-10-13T14:30:11.368252",
     "status": "completed"
    },
    "tags": []
   },
   "outputs": [],
   "source": []
  }
 ],
 "metadata": {
  "kernelspec": {
   "display_name": "Python 3",
   "language": "python",
   "name": "python3"
  },
  "language_info": {
   "codemirror_mode": {
    "name": "ipython",
    "version": 3
   },
   "file_extension": ".py",
   "mimetype": "text/x-python",
   "name": "python",
   "nbconvert_exporter": "python",
   "pygments_lexer": "ipython3",
   "version": "3.9.5"
  },
  "papermill": {
   "default_parameters": {},
   "duration": 7.819395,
   "end_time": "2021-10-13T14:30:12.734021",
   "environment_variables": {},
   "exception": null,
   "input_path": "eBay_Overview.ipynb",
   "output_path": "eBay_Overview.ipynb",
   "parameters": {},
   "start_time": "2021-10-13T14:30:04.914626",
   "version": "2.3.3"
  }
 },
 "nbformat": 4,
 "nbformat_minor": 5
}