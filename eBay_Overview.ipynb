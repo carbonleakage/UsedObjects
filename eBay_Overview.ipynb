{
 "cells": [
  {
   "cell_type": "code",
   "execution_count": 1,
   "id": "reverse-picking",
   "metadata": {
    "execution": {
     "iopub.execute_input": "2021-08-14T12:30:07.124290Z",
     "iopub.status.busy": "2021-08-14T12:30:07.122192Z",
     "iopub.status.idle": "2021-08-14T12:30:07.935656Z",
     "shell.execute_reply": "2021-08-14T12:30:07.936924Z"
    },
    "papermill": {
     "duration": 0.864577,
     "end_time": "2021-08-14T12:30:07.937549",
     "exception": false,
     "start_time": "2021-08-14T12:30:07.072972",
     "status": "completed"
    },
    "tags": []
   },
   "outputs": [],
   "source": [
    "import pandas as pd\n",
    "import sqlite3"
   ]
  },
  {
   "cell_type": "code",
   "execution_count": 2,
   "id": "innovative-syndrome",
   "metadata": {
    "execution": {
     "iopub.execute_input": "2021-08-14T12:30:07.989715Z",
     "iopub.status.busy": "2021-08-14T12:30:07.987789Z",
     "iopub.status.idle": "2021-08-14T12:30:08.035344Z",
     "shell.execute_reply": "2021-08-14T12:30:08.036556Z"
    },
    "papermill": {
     "duration": 0.077483,
     "end_time": "2021-08-14T12:30:08.036959",
     "exception": false,
     "start_time": "2021-08-14T12:30:07.959476",
     "status": "completed"
    },
    "tags": []
   },
   "outputs": [],
   "source": [
    "timestamps = pd.read_sql(\"select distinct record_time from EBAY_TOP_BERLIN order by record_time desc limit 2\", sqlite3.connect(\"UsedObjects.db\"))"
   ]
  },
  {
   "cell_type": "code",
   "execution_count": 3,
   "id": "periodic-identification",
   "metadata": {
    "execution": {
     "iopub.execute_input": "2021-08-14T12:30:08.107095Z",
     "iopub.status.busy": "2021-08-14T12:30:08.104962Z",
     "iopub.status.idle": "2021-08-14T12:30:08.124999Z",
     "shell.execute_reply": "2021-08-14T12:30:08.126457Z"
    },
    "papermill": {
     "duration": 0.067283,
     "end_time": "2021-08-14T12:30:08.126907",
     "exception": false,
     "start_time": "2021-08-14T12:30:08.059624",
     "status": "completed"
    },
    "tags": []
   },
   "outputs": [
    {
     "data": {
      "text/html": [
       "<div>\n",
       "<style scoped>\n",
       "    .dataframe tbody tr th:only-of-type {\n",
       "        vertical-align: middle;\n",
       "    }\n",
       "\n",
       "    .dataframe tbody tr th {\n",
       "        vertical-align: top;\n",
       "    }\n",
       "\n",
       "    .dataframe thead th {\n",
       "        text-align: right;\n",
       "    }\n",
       "</style>\n",
       "<table border=\"1\" class=\"dataframe\">\n",
       "  <thead>\n",
       "    <tr style=\"text-align: right;\">\n",
       "      <th></th>\n",
       "      <th>RECORD_TIME</th>\n",
       "    </tr>\n",
       "  </thead>\n",
       "  <tbody>\n",
       "    <tr>\n",
       "      <th>0</th>\n",
       "      <td>2021-08-14 14:30</td>\n",
       "    </tr>\n",
       "    <tr>\n",
       "      <th>1</th>\n",
       "      <td>2021-08-14 14:00</td>\n",
       "    </tr>\n",
       "  </tbody>\n",
       "</table>\n",
       "</div>"
      ],
      "text/plain": [
       "        RECORD_TIME\n",
       "0  2021-08-14 14:30\n",
       "1  2021-08-14 14:00"
      ]
     },
     "execution_count": 3,
     "metadata": {},
     "output_type": "execute_result"
    }
   ],
   "source": [
    "timestamps"
   ]
  },
  {
   "cell_type": "code",
   "execution_count": 4,
   "id": "alternate-victory",
   "metadata": {
    "execution": {
     "iopub.execute_input": "2021-08-14T12:30:08.178099Z",
     "iopub.status.busy": "2021-08-14T12:30:08.176140Z",
     "iopub.status.idle": "2021-08-14T12:30:08.247911Z",
     "shell.execute_reply": "2021-08-14T12:30:08.249042Z"
    },
    "papermill": {
     "duration": 0.101918,
     "end_time": "2021-08-14T12:30:08.249454",
     "exception": false,
     "start_time": "2021-08-14T12:30:08.147536",
     "status": "completed"
    },
    "tags": []
   },
   "outputs": [],
   "source": [
    "df = pd.read_sql(\"select * from EBAY_TOP_BERLIN where record_time in (select distinct record_time from EBAY_TOP_BERLIN order by record_time desc limit 2)\", sqlite3.connect(\"UsedObjects.db\"))"
   ]
  },
  {
   "cell_type": "code",
   "execution_count": 5,
   "id": "popular-active",
   "metadata": {
    "execution": {
     "iopub.execute_input": "2021-08-14T12:30:08.322401Z",
     "iopub.status.busy": "2021-08-14T12:30:08.310704Z",
     "iopub.status.idle": "2021-08-14T12:30:08.338448Z",
     "shell.execute_reply": "2021-08-14T12:30:08.339771Z"
    },
    "papermill": {
     "duration": 0.067838,
     "end_time": "2021-08-14T12:30:08.340236",
     "exception": false,
     "start_time": "2021-08-14T12:30:08.272398",
     "status": "completed"
    },
    "tags": []
   },
   "outputs": [],
   "source": [
    "df_pivot = df.pivot_table(index=\"PRODUCT\", columns = \"RECORD_TIME\", values = \"LISTING_COUNT\")"
   ]
  },
  {
   "cell_type": "code",
   "execution_count": 6,
   "id": "union-huntington",
   "metadata": {
    "execution": {
     "iopub.execute_input": "2021-08-14T12:30:08.397793Z",
     "iopub.status.busy": "2021-08-14T12:30:08.395440Z",
     "iopub.status.idle": "2021-08-14T12:30:08.401063Z",
     "shell.execute_reply": "2021-08-14T12:30:08.402438Z"
    },
    "papermill": {
     "duration": 0.042049,
     "end_time": "2021-08-14T12:30:08.402863",
     "exception": false,
     "start_time": "2021-08-14T12:30:08.360814",
     "status": "completed"
    },
    "tags": []
   },
   "outputs": [],
   "source": [
    "df_pivot.columns = [\"stamp_1\", \"stamp_2\"]\n",
    "df_pivot_diff = df_pivot.diff(axis=1)"
   ]
  },
  {
   "cell_type": "code",
   "execution_count": 7,
   "id": "fifth-motion",
   "metadata": {
    "execution": {
     "iopub.execute_input": "2021-08-14T12:30:08.457332Z",
     "iopub.status.busy": "2021-08-14T12:30:08.455056Z",
     "iopub.status.idle": "2021-08-14T12:30:09.993843Z",
     "shell.execute_reply": "2021-08-14T12:30:09.995476Z"
    },
    "papermill": {
     "duration": 1.572202,
     "end_time": "2021-08-14T12:30:09.995950",
     "exception": false,
     "start_time": "2021-08-14T12:30:08.423748",
     "status": "completed"
    },
    "tags": []
   },
   "outputs": [
    {
     "data": {
      "text/plain": [
       "<AxesSubplot:ylabel='PRODUCT'>"
      ]
     },
     "execution_count": 7,
     "metadata": {},
     "output_type": "execute_result"
    },
    {
     "data": {
      "image/png": "[encoded data removed]",
      "text/plain": [
       "<Figure size 432x288 with 1 Axes>"
      ]
     },
     "metadata": {
      "needs_background": "light"
     },
     "output_type": "display_data"
    }
   ],
   "source": [
    "df_pivot_diff.sort_values(\"stamp_2\", ascending = False)[\"stamp_2\"].head(10).plot.barh()"
   ]
  },
  {
   "cell_type": "code",
   "execution_count": null,
   "id": "extra-executive",
   "metadata": {
    "papermill": {
     "duration": 0.02249,
     "end_time": "2021-08-14T12:30:10.043351",
     "exception": false,
     "start_time": "2021-08-14T12:30:10.020861",
     "status": "completed"
    },
    "tags": []
   },
   "outputs": [],
   "source": []
  }
 ],
 "metadata": {
  "kernelspec": {
   "display_name": "Python 3",
   "language": "python",
   "name": "python3"
  },
  "language_info": {
   "codemirror_mode": {
    "name": "ipython",
    "version": 3
   },
   "file_extension": ".py",
   "mimetype": "text/x-python",
   "name": "python",
   "nbconvert_exporter": "python",
   "pygments_lexer": "ipython3",
   "version": "3.9.5"
  },
  "papermill": {
   "default_parameters": {},
   "duration": 6.829264,
   "end_time": "2021-08-14T12:30:11.475627",
   "environment_variables": {},
   "exception": null,
   "input_path": "eBay_Overview.ipynb",
   "output_path": "eBay_Overview.ipynb",
   "parameters": {},
   "start_time": "2021-08-14T12:30:04.646363",
   "version": "2.3.3"
  }
 },
 "nbformat": 4,
 "nbformat_minor": 5
}