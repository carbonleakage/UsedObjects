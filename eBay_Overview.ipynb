{
 "cells": [
  {
   "cell_type": "code",
   "execution_count": 1,
   "id": "reverse-picking",
   "metadata": {
    "execution": {
     "iopub.execute_input": "2021-08-26T13:30:06.818088Z",
     "iopub.status.busy": "2021-08-26T13:30:06.816031Z",
     "iopub.status.idle": "2021-08-26T13:30:07.619717Z",
     "shell.execute_reply": "2021-08-26T13:30:07.621047Z"
    },
    "papermill": {
     "duration": 0.854787,
     "end_time": "2021-08-26T13:30:07.621692",
     "exception": false,
     "start_time": "2021-08-26T13:30:06.766905",
     "status": "completed"
    },
    "tags": []
   },
   "outputs": [],
   "source": [
    "import pandas as pd\n",
    "import sqlite3"
   ]
  },
  {
   "cell_type": "code",
   "execution_count": 2,
   "id": "innovative-syndrome",
   "metadata": {
    "execution": {
     "iopub.execute_input": "2021-08-26T13:30:07.673638Z",
     "iopub.status.busy": "2021-08-26T13:30:07.671547Z",
     "iopub.status.idle": "2021-08-26T13:30:07.809851Z",
     "shell.execute_reply": "2021-08-26T13:30:07.810962Z"
    },
    "papermill": {
     "duration": 0.167565,
     "end_time": "2021-08-26T13:30:07.811368",
     "exception": false,
     "start_time": "2021-08-26T13:30:07.643803",
     "status": "completed"
    },
    "tags": []
   },
   "outputs": [],
   "source": [
    "timestamps = pd.read_sql(\"select distinct record_time from EBAY_TOP_BERLIN order by record_time desc limit 2\", sqlite3.connect(\"UsedObjects.db\"))"
   ]
  },
  {
   "cell_type": "code",
   "execution_count": 3,
   "id": "periodic-identification",
   "metadata": {
    "execution": {
     "iopub.execute_input": "2021-08-26T13:30:07.879350Z",
     "iopub.status.busy": "2021-08-26T13:30:07.874141Z",
     "iopub.status.idle": "2021-08-26T13:30:07.895126Z",
     "shell.execute_reply": "2021-08-26T13:30:07.896667Z"
    },
    "papermill": {
     "duration": 0.064818,
     "end_time": "2021-08-26T13:30:07.897150",
     "exception": false,
     "start_time": "2021-08-26T13:30:07.832332",
     "status": "completed"
    },
    "tags": []
   },
   "outputs": [
    {
     "data": {
      "text/html": [
       "<div>\n",
       "<style scoped>\n",
       "    .dataframe tbody tr th:only-of-type {\n",
       "        vertical-align: middle;\n",
       "    }\n",
       "\n",
       "    .dataframe tbody tr th {\n",
       "        vertical-align: top;\n",
       "    }\n",
       "\n",
       "    .dataframe thead th {\n",
       "        text-align: right;\n",
       "    }\n",
       "</style>\n",
       "<table border=\"1\" class=\"dataframe\">\n",
       "  <thead>\n",
       "    <tr style=\"text-align: right;\">\n",
       "      <th></th>\n",
       "      <th>RECORD_TIME</th>\n",
       "    </tr>\n",
       "  </thead>\n",
       "  <tbody>\n",
       "    <tr>\n",
       "      <th>0</th>\n",
       "      <td>2021-08-26 15:30</td>\n",
       "    </tr>\n",
       "    <tr>\n",
       "      <th>1</th>\n",
       "      <td>2021-08-26 15:00</td>\n",
       "    </tr>\n",
       "  </tbody>\n",
       "</table>\n",
       "</div>"
      ],
      "text/plain": [
       "        RECORD_TIME\n",
       "0  2021-08-26 15:30\n",
       "1  2021-08-26 15:00"
      ]
     },
     "execution_count": 3,
     "metadata": {},
     "output_type": "execute_result"
    }
   ],
   "source": [
    "timestamps"
   ]
  },
  {
   "cell_type": "code",
   "execution_count": 4,
   "id": "alternate-victory",
   "metadata": {
    "execution": {
     "iopub.execute_input": "2021-08-26T13:30:07.949709Z",
     "iopub.status.busy": "2021-08-26T13:30:07.947336Z",
     "iopub.status.idle": "2021-08-26T13:30:08.154514Z",
     "shell.execute_reply": "2021-08-26T13:30:08.155718Z"
    },
    "papermill": {
     "duration": 0.237408,
     "end_time": "2021-08-26T13:30:08.156110",
     "exception": false,
     "start_time": "2021-08-26T13:30:07.918702",
     "status": "completed"
    },
    "tags": []
   },
   "outputs": [],
   "source": [
    "df = pd.read_sql(\"select * from EBAY_TOP_BERLIN where record_time in (select distinct record_time from EBAY_TOP_BERLIN order by record_time desc limit 2)\", sqlite3.connect(\"UsedObjects.db\"))"
   ]
  },
  {
   "cell_type": "code",
   "execution_count": 5,
   "id": "popular-active",
   "metadata": {
    "execution": {
     "iopub.execute_input": "2021-08-26T13:30:08.217628Z",
     "iopub.status.busy": "2021-08-26T13:30:08.215408Z",
     "iopub.status.idle": "2021-08-26T13:30:08.245642Z",
     "shell.execute_reply": "2021-08-26T13:30:08.246828Z"
    },
    "papermill": {
     "duration": 0.07089,
     "end_time": "2021-08-26T13:30:08.247220",
     "exception": false,
     "start_time": "2021-08-26T13:30:08.176330",
     "status": "completed"
    },
    "tags": []
   },
   "outputs": [],
   "source": [
    "df_pivot = df.pivot_table(index=\"PRODUCT\", columns = \"RECORD_TIME\", values = \"LISTING_COUNT\")"
   ]
  },
  {
   "cell_type": "code",
   "execution_count": 6,
   "id": "union-huntington",
   "metadata": {
    "execution": {
     "iopub.execute_input": "2021-08-26T13:30:08.314399Z",
     "iopub.status.busy": "2021-08-26T13:30:08.312280Z",
     "iopub.status.idle": "2021-08-26T13:30:08.317853Z",
     "shell.execute_reply": "2021-08-26T13:30:08.319094Z"
    },
    "papermill": {
     "duration": 0.043812,
     "end_time": "2021-08-26T13:30:08.319545",
     "exception": false,
     "start_time": "2021-08-26T13:30:08.275733",
     "status": "completed"
    },
    "tags": []
   },
   "outputs": [],
   "source": [
    "df_pivot.columns = [\"stamp_1\", \"stamp_2\"]\n",
    "df_pivot_diff = df_pivot.diff(axis=1)"
   ]
  },
  {
   "cell_type": "code",
   "execution_count": 7,
   "id": "fifth-motion",
   "metadata": {
    "execution": {
     "iopub.execute_input": "2021-08-26T13:30:08.374959Z",
     "iopub.status.busy": "2021-08-26T13:30:08.372345Z",
     "iopub.status.idle": "2021-08-26T13:30:09.879557Z",
     "shell.execute_reply": "2021-08-26T13:30:09.881109Z"
    },
    "papermill": {
     "duration": 1.540976,
     "end_time": "2021-08-26T13:30:09.881589",
     "exception": false,
     "start_time": "2021-08-26T13:30:08.340613",
     "status": "completed"
    },
    "tags": []
   },
   "outputs": [
    {
     "data": {
      "text/plain": [
       "<AxesSubplot:ylabel='PRODUCT'>"
      ]
     },
     "execution_count": 7,
     "metadata": {},
     "output_type": "execute_result"
    },
    {
     "data": {
      "image/png": "[encoded data removed]",
      "text/plain": [
       "<Figure size 432x288 with 1 Axes>"
      ]
     },
     "metadata": {
      "needs_background": "light"
     },
     "output_type": "display_data"
    }
   ],
   "source": [
    "df_pivot_diff.sort_values(\"stamp_2\", ascending = False)[\"stamp_2\"].head(10).plot.barh()"
   ]
  },
  {
   "cell_type": "code",
   "execution_count": null,
   "id": "extra-executive",
   "metadata": {
    "papermill": {
     "duration": 0.022207,
     "end_time": "2021-08-26T13:30:09.928352",
     "exception": false,
     "start_time": "2021-08-26T13:30:09.906145",
     "status": "completed"
    },
    "tags": []
   },
   "outputs": [],
   "source": []
  }
 ],
 "metadata": {
  "kernelspec": {
   "display_name": "Python 3",
   "language": "python",
   "name": "python3"
  },
  "language_info": {
   "codemirror_mode": {
    "name": "ipython",
    "version": 3
   },
   "file_extension": ".py",
   "mimetype": "text/x-python",
   "name": "python",
   "nbconvert_exporter": "python",
   "pygments_lexer": "ipython3",
   "version": "3.9.5"
  },
  "papermill": {
   "default_parameters": {},
   "duration": 6.828339,
   "end_time": "2021-08-26T13:30:11.192930",
   "environment_variables": {},
   "exception": null,
   "input_path": "eBay_Overview.ipynb",
   "output_path": "eBay_Overview.ipynb",
   "parameters": {},
   "start_time": "2021-08-26T13:30:04.364591",
   "version": "2.3.3"
  }
 },
 "nbformat": 4,
 "nbformat_minor": 5
}