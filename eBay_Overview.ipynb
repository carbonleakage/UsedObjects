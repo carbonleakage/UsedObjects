{
 "cells": [
  {
   "cell_type": "code",
   "execution_count": 1,
   "id": "reverse-picking",
   "metadata": {
    "execution": {
     "iopub.execute_input": "2021-10-04T12:00:07.274657Z",
     "iopub.status.busy": "2021-10-04T12:00:07.272708Z",
     "iopub.status.idle": "2021-10-04T12:00:08.077274Z",
     "shell.execute_reply": "2021-10-04T12:00:08.078600Z"
    },
    "papermill": {
     "duration": 0.856864,
     "end_time": "2021-10-04T12:00:08.079334",
     "exception": false,
     "start_time": "2021-10-04T12:00:07.222470",
     "status": "completed"
    },
    "tags": []
   },
   "outputs": [],
   "source": [
    "import pandas as pd\n",
    "import sqlite3"
   ]
  },
  {
   "cell_type": "code",
   "execution_count": 2,
   "id": "innovative-syndrome",
   "metadata": {
    "execution": {
     "iopub.execute_input": "2021-10-04T12:00:08.130063Z",
     "iopub.status.busy": "2021-10-04T12:00:08.128001Z",
     "iopub.status.idle": "2021-10-04T12:00:08.570240Z",
     "shell.execute_reply": "2021-10-04T12:00:08.571585Z"
    },
    "papermill": {
     "duration": 0.472455,
     "end_time": "2021-10-04T12:00:08.572007",
     "exception": false,
     "start_time": "2021-10-04T12:00:08.099552",
     "status": "completed"
    },
    "tags": []
   },
   "outputs": [],
   "source": [
    "timestamps = pd.read_sql(\"select distinct record_time from EBAY_TOP_BERLIN order by record_time desc limit 2\", sqlite3.connect(\"UsedObjects.db\"))"
   ]
  },
  {
   "cell_type": "code",
   "execution_count": 3,
   "id": "periodic-identification",
   "metadata": {
    "execution": {
     "iopub.execute_input": "2021-10-04T12:00:08.637052Z",
     "iopub.status.busy": "2021-10-04T12:00:08.635001Z",
     "iopub.status.idle": "2021-10-04T12:00:08.654689Z",
     "shell.execute_reply": "2021-10-04T12:00:08.656128Z"
    },
    "papermill": {
     "duration": 0.064827,
     "end_time": "2021-10-04T12:00:08.656549",
     "exception": false,
     "start_time": "2021-10-04T12:00:08.591722",
     "status": "completed"
    },
    "tags": []
   },
   "outputs": [
    {
     "data": {
      "text/html": [
       "<div>\n",
       "<style scoped>\n",
       "    .dataframe tbody tr th:only-of-type {\n",
       "        vertical-align: middle;\n",
       "    }\n",
       "\n",
       "    .dataframe tbody tr th {\n",
       "        vertical-align: top;\n",
       "    }\n",
       "\n",
       "    .dataframe thead th {\n",
       "        text-align: right;\n",
       "    }\n",
       "</style>\n",
       "<table border=\"1\" class=\"dataframe\">\n",
       "  <thead>\n",
       "    <tr style=\"text-align: right;\">\n",
       "      <th></th>\n",
       "      <th>RECORD_TIME</th>\n",
       "    </tr>\n",
       "  </thead>\n",
       "  <tbody>\n",
       "    <tr>\n",
       "      <th>0</th>\n",
       "      <td>2021-10-04 14:00</td>\n",
       "    </tr>\n",
       "    <tr>\n",
       "      <th>1</th>\n",
       "      <td>2021-10-04 13:30</td>\n",
       "    </tr>\n",
       "  </tbody>\n",
       "</table>\n",
       "</div>"
      ],
      "text/plain": [
       "        RECORD_TIME\n",
       "0  2021-10-04 14:00\n",
       "1  2021-10-04 13:30"
      ]
     },
     "execution_count": 3,
     "metadata": {},
     "output_type": "execute_result"
    }
   ],
   "source": [
    "timestamps"
   ]
  },
  {
   "cell_type": "code",
   "execution_count": 4,
   "id": "alternate-victory",
   "metadata": {
    "execution": {
     "iopub.execute_input": "2021-10-04T12:00:08.716593Z",
     "iopub.status.busy": "2021-10-04T12:00:08.713838Z",
     "iopub.status.idle": "2021-10-04T12:00:09.367499Z",
     "shell.execute_reply": "2021-10-04T12:00:09.368982Z"
    },
    "papermill": {
     "duration": 0.691984,
     "end_time": "2021-10-04T12:00:09.369421",
     "exception": false,
     "start_time": "2021-10-04T12:00:08.677437",
     "status": "completed"
    },
    "tags": []
   },
   "outputs": [],
   "source": [
    "df = pd.read_sql(\"select * from EBAY_TOP_BERLIN where record_time in (select distinct record_time from EBAY_TOP_BERLIN order by record_time desc limit 2)\", sqlite3.connect(\"UsedObjects.db\"))"
   ]
  },
  {
   "cell_type": "code",
   "execution_count": 5,
   "id": "popular-active",
   "metadata": {
    "execution": {
     "iopub.execute_input": "2021-10-04T12:00:09.441288Z",
     "iopub.status.busy": "2021-10-04T12:00:09.429233Z",
     "iopub.status.idle": "2021-10-04T12:00:09.457824Z",
     "shell.execute_reply": "2021-10-04T12:00:09.459282Z"
    },
    "papermill": {
     "duration": 0.06942,
     "end_time": "2021-10-04T12:00:09.459700",
     "exception": false,
     "start_time": "2021-10-04T12:00:09.390280",
     "status": "completed"
    },
    "tags": []
   },
   "outputs": [],
   "source": [
    "df_pivot = df.pivot_table(index=\"PRODUCT\", columns = \"RECORD_TIME\", values = \"LISTING_COUNT\")"
   ]
  },
  {
   "cell_type": "code",
   "execution_count": 6,
   "id": "union-huntington",
   "metadata": {
    "execution": {
     "iopub.execute_input": "2021-10-04T12:00:09.517651Z",
     "iopub.status.busy": "2021-10-04T12:00:09.515211Z",
     "iopub.status.idle": "2021-10-04T12:00:09.521274Z",
     "shell.execute_reply": "2021-10-04T12:00:09.522749Z"
    },
    "papermill": {
     "duration": 0.042342,
     "end_time": "2021-10-04T12:00:09.523293",
     "exception": false,
     "start_time": "2021-10-04T12:00:09.480951",
     "status": "completed"
    },
    "tags": []
   },
   "outputs": [],
   "source": [
    "df_pivot.columns = [\"stamp_1\", \"stamp_2\"]\n",
    "df_pivot_diff = df_pivot.diff(axis=1)"
   ]
  },
  {
   "cell_type": "code",
   "execution_count": 7,
   "id": "fifth-motion",
   "metadata": {
    "execution": {
     "iopub.execute_input": "2021-10-04T12:00:09.578119Z",
     "iopub.status.busy": "2021-10-04T12:00:09.575933Z",
     "iopub.status.idle": "2021-10-04T12:00:11.078957Z",
     "shell.execute_reply": "2021-10-04T12:00:11.080184Z"
    },
    "papermill": {
     "duration": 1.535267,
     "end_time": "2021-10-04T12:00:11.080612",
     "exception": false,
     "start_time": "2021-10-04T12:00:09.545345",
     "status": "completed"
    },
    "tags": []
   },
   "outputs": [
    {
     "data": {
      "text/plain": [
       "<AxesSubplot:ylabel='PRODUCT'>"
      ]
     },
     "execution_count": 7,
     "metadata": {},
     "output_type": "execute_result"
    },
    {
     "data": {
      "image/png": "[encoded data removed]",
      "text/plain": [
       "<Figure size 432x288 with 1 Axes>"
      ]
     },
     "metadata": {
      "needs_background": "light"
     },
     "output_type": "display_data"
    }
   ],
   "source": [
    "df_pivot_diff.sort_values(\"stamp_2\", ascending = False)[\"stamp_2\"].head(10).plot.barh()"
   ]
  },
  {
   "cell_type": "code",
   "execution_count": null,
   "id": "extra-executive",
   "metadata": {
    "papermill": {
     "duration": 0.022146,
     "end_time": "2021-10-04T12:00:11.129060",
     "exception": false,
     "start_time": "2021-10-04T12:00:11.106914",
     "status": "completed"
    },
    "tags": []
   },
   "outputs": [],
   "source": []
  }
 ],
 "metadata": {
  "kernelspec": {
   "display_name": "Python 3",
   "language": "python",
   "name": "python3"
  },
  "language_info": {
   "codemirror_mode": {
    "name": "ipython",
    "version": 3
   },
   "file_extension": ".py",
   "mimetype": "text/x-python",
   "name": "python",
   "nbconvert_exporter": "python",
   "pygments_lexer": "ipython3",
   "version": "3.9.5"
  },
  "papermill": {
   "default_parameters": {},
   "duration": 7.818647,
   "end_time": "2021-10-04T12:00:12.636836",
   "environment_variables": {},
   "exception": null,
   "input_path": "eBay_Overview.ipynb",
   "output_path": "eBay_Overview.ipynb",
   "parameters": {},
   "start_time": "2021-10-04T12:00:04.818189",
   "version": "2.3.3"
  }
 },
 "nbformat": 4,
 "nbformat_minor": 5
}