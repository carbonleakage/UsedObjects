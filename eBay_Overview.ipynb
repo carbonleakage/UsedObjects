{
 "cells": [
  {
   "cell_type": "code",
   "execution_count": 1,
   "id": "reverse-picking",
   "metadata": {
    "execution": {
     "iopub.execute_input": "2021-08-20T22:00:07.246575Z",
     "iopub.status.busy": "2021-08-20T22:00:07.244547Z",
     "iopub.status.idle": "2021-08-20T22:00:08.059019Z",
     "shell.execute_reply": "2021-08-20T22:00:08.060470Z"
    },
    "papermill": {
     "duration": 0.866143,
     "end_time": "2021-08-20T22:00:08.061148",
     "exception": false,
     "start_time": "2021-08-20T22:00:07.195005",
     "status": "completed"
    },
    "tags": []
   },
   "outputs": [],
   "source": [
    "import pandas as pd\n",
    "import sqlite3"
   ]
  },
  {
   "cell_type": "code",
   "execution_count": 2,
   "id": "innovative-syndrome",
   "metadata": {
    "execution": {
     "iopub.execute_input": "2021-08-20T22:00:08.112133Z",
     "iopub.status.busy": "2021-08-20T22:00:08.109674Z",
     "iopub.status.idle": "2021-08-20T22:00:08.204175Z",
     "shell.execute_reply": "2021-08-20T22:00:08.205543Z"
    },
    "papermill": {
     "duration": 0.124546,
     "end_time": "2021-08-20T22:00:08.206042",
     "exception": false,
     "start_time": "2021-08-20T22:00:08.081496",
     "status": "completed"
    },
    "tags": []
   },
   "outputs": [],
   "source": [
    "timestamps = pd.read_sql(\"select distinct record_time from EBAY_TOP_BERLIN order by record_time desc limit 2\", sqlite3.connect(\"UsedObjects.db\"))"
   ]
  },
  {
   "cell_type": "code",
   "execution_count": 3,
   "id": "periodic-identification",
   "metadata": {
    "execution": {
     "iopub.execute_input": "2021-08-20T22:00:08.269666Z",
     "iopub.status.busy": "2021-08-20T22:00:08.267618Z",
     "iopub.status.idle": "2021-08-20T22:00:08.287653Z",
     "shell.execute_reply": "2021-08-20T22:00:08.288864Z"
    },
    "papermill": {
     "duration": 0.063402,
     "end_time": "2021-08-20T22:00:08.289299",
     "exception": false,
     "start_time": "2021-08-20T22:00:08.225897",
     "status": "completed"
    },
    "tags": []
   },
   "outputs": [
    {
     "data": {
      "text/html": [
       "<div>\n",
       "<style scoped>\n",
       "    .dataframe tbody tr th:only-of-type {\n",
       "        vertical-align: middle;\n",
       "    }\n",
       "\n",
       "    .dataframe tbody tr th {\n",
       "        vertical-align: top;\n",
       "    }\n",
       "\n",
       "    .dataframe thead th {\n",
       "        text-align: right;\n",
       "    }\n",
       "</style>\n",
       "<table border=\"1\" class=\"dataframe\">\n",
       "  <thead>\n",
       "    <tr style=\"text-align: right;\">\n",
       "      <th></th>\n",
       "      <th>RECORD_TIME</th>\n",
       "    </tr>\n",
       "  </thead>\n",
       "  <tbody>\n",
       "    <tr>\n",
       "      <th>0</th>\n",
       "      <td>2021-08-21 00:00</td>\n",
       "    </tr>\n",
       "    <tr>\n",
       "      <th>1</th>\n",
       "      <td>2021-08-20 23:30</td>\n",
       "    </tr>\n",
       "  </tbody>\n",
       "</table>\n",
       "</div>"
      ],
      "text/plain": [
       "        RECORD_TIME\n",
       "0  2021-08-21 00:00\n",
       "1  2021-08-20 23:30"
      ]
     },
     "execution_count": 3,
     "metadata": {},
     "output_type": "execute_result"
    }
   ],
   "source": [
    "timestamps"
   ]
  },
  {
   "cell_type": "code",
   "execution_count": 4,
   "id": "alternate-victory",
   "metadata": {
    "execution": {
     "iopub.execute_input": "2021-08-20T22:00:08.341415Z",
     "iopub.status.busy": "2021-08-20T22:00:08.339571Z",
     "iopub.status.idle": "2021-08-20T22:00:08.475797Z",
     "shell.execute_reply": "2021-08-20T22:00:08.477088Z"
    },
    "papermill": {
     "duration": 0.166137,
     "end_time": "2021-08-20T22:00:08.477502",
     "exception": false,
     "start_time": "2021-08-20T22:00:08.311365",
     "status": "completed"
    },
    "tags": []
   },
   "outputs": [],
   "source": [
    "df = pd.read_sql(\"select * from EBAY_TOP_BERLIN where record_time in (select distinct record_time from EBAY_TOP_BERLIN order by record_time desc limit 2)\", sqlite3.connect(\"UsedObjects.db\"))"
   ]
  },
  {
   "cell_type": "code",
   "execution_count": 5,
   "id": "popular-active",
   "metadata": {
    "execution": {
     "iopub.execute_input": "2021-08-20T22:00:08.546569Z",
     "iopub.status.busy": "2021-08-20T22:00:08.535591Z",
     "iopub.status.idle": "2021-08-20T22:00:08.563022Z",
     "shell.execute_reply": "2021-08-20T22:00:08.564259Z"
    },
    "papermill": {
     "duration": 0.067338,
     "end_time": "2021-08-20T22:00:08.564662",
     "exception": false,
     "start_time": "2021-08-20T22:00:08.497324",
     "status": "completed"
    },
    "tags": []
   },
   "outputs": [],
   "source": [
    "df_pivot = df.pivot_table(index=\"PRODUCT\", columns = \"RECORD_TIME\", values = \"LISTING_COUNT\")"
   ]
  },
  {
   "cell_type": "code",
   "execution_count": 6,
   "id": "union-huntington",
   "metadata": {
    "execution": {
     "iopub.execute_input": "2021-08-20T22:00:08.623870Z",
     "iopub.status.busy": "2021-08-20T22:00:08.621361Z",
     "iopub.status.idle": "2021-08-20T22:00:08.627572Z",
     "shell.execute_reply": "2021-08-20T22:00:08.628951Z"
    },
    "papermill": {
     "duration": 0.042684,
     "end_time": "2021-08-20T22:00:08.629391",
     "exception": false,
     "start_time": "2021-08-20T22:00:08.586707",
     "status": "completed"
    },
    "tags": []
   },
   "outputs": [],
   "source": [
    "df_pivot.columns = [\"stamp_1\", \"stamp_2\"]\n",
    "df_pivot_diff = df_pivot.diff(axis=1)"
   ]
  },
  {
   "cell_type": "code",
   "execution_count": 7,
   "id": "fifth-motion",
   "metadata": {
    "execution": {
     "iopub.execute_input": "2021-08-20T22:00:08.706689Z",
     "iopub.status.busy": "2021-08-20T22:00:08.704222Z",
     "iopub.status.idle": "2021-08-20T22:00:10.207939Z",
     "shell.execute_reply": "2021-08-20T22:00:10.209250Z"
    },
    "papermill": {
     "duration": 1.559839,
     "end_time": "2021-08-20T22:00:10.209674",
     "exception": false,
     "start_time": "2021-08-20T22:00:08.649835",
     "status": "completed"
    },
    "tags": []
   },
   "outputs": [
    {
     "data": {
      "text/plain": [
       "<AxesSubplot:ylabel='PRODUCT'>"
      ]
     },
     "execution_count": 7,
     "metadata": {},
     "output_type": "execute_result"
    },
    {
     "data": {
      "image/png": "[encoded data removed]",
      "text/plain": [
       "<Figure size 432x288 with 1 Axes>"
      ]
     },
     "metadata": {
      "needs_background": "light"
     },
     "output_type": "display_data"
    }
   ],
   "source": [
    "df_pivot_diff.sort_values(\"stamp_2\", ascending = False)[\"stamp_2\"].head(10).plot.barh()"
   ]
  },
  {
   "cell_type": "code",
   "execution_count": null,
   "id": "extra-executive",
   "metadata": {
    "papermill": {
     "duration": 0.021884,
     "end_time": "2021-08-20T22:00:10.255938",
     "exception": false,
     "start_time": "2021-08-20T22:00:10.234054",
     "status": "completed"
    },
    "tags": []
   },
   "outputs": [],
   "source": []
  }
 ],
 "metadata": {
  "kernelspec": {
   "display_name": "Python 3",
   "language": "python",
   "name": "python3"
  },
  "language_info": {
   "codemirror_mode": {
    "name": "ipython",
    "version": 3
   },
   "file_extension": ".py",
   "mimetype": "text/x-python",
   "name": "python",
   "nbconvert_exporter": "python",
   "pygments_lexer": "ipython3",
   "version": "3.9.5"
  },
  "papermill": {
   "default_parameters": {},
   "duration": 6.819336,
   "end_time": "2021-08-20T22:00:11.610516",
   "environment_variables": {},
   "exception": null,
   "input_path": "eBay_Overview.ipynb",
   "output_path": "eBay_Overview.ipynb",
   "parameters": {},
   "start_time": "2021-08-20T22:00:04.791180",
   "version": "2.3.3"
  }
 },
 "nbformat": 4,
 "nbformat_minor": 5
}