{
 "cells": [
  {
   "cell_type": "code",
   "execution_count": 1,
   "id": "reverse-picking",
   "metadata": {
    "execution": {
     "iopub.execute_input": "2021-11-20T17:30:07.179874Z",
     "iopub.status.busy": "2021-11-20T17:30:07.169840Z",
     "iopub.status.idle": "2021-11-20T17:30:08.121602Z",
     "shell.execute_reply": "2021-11-20T17:30:08.124290Z"
    },
    "papermill": {
     "duration": 1.001372,
     "end_time": "2021-11-20T17:30:08.125545",
     "exception": false,
     "start_time": "2021-11-20T17:30:07.124173",
     "status": "completed"
    },
    "tags": []
   },
   "outputs": [],
   "source": [
    "import pandas as pd\n",
    "import sqlite3"
   ]
  },
  {
   "cell_type": "code",
   "execution_count": 2,
   "id": "innovative-syndrome",
   "metadata": {
    "execution": {
     "iopub.execute_input": "2021-11-20T17:30:08.186455Z",
     "iopub.status.busy": "2021-11-20T17:30:08.183951Z",
     "iopub.status.idle": "2021-11-20T17:30:09.065629Z",
     "shell.execute_reply": "2021-11-20T17:30:09.067106Z"
    },
    "papermill": {
     "duration": 0.915106,
     "end_time": "2021-11-20T17:30:09.067590",
     "exception": false,
     "start_time": "2021-11-20T17:30:08.152484",
     "status": "completed"
    },
    "tags": []
   },
   "outputs": [],
   "source": [
    "timestamps = pd.read_sql(\"select distinct record_time from EBAY_TOP_BERLIN order by record_time desc limit 2\", sqlite3.connect(\"UsedObjects.db\"))"
   ]
  },
  {
   "cell_type": "code",
   "execution_count": 3,
   "id": "periodic-identification",
   "metadata": {
    "execution": {
     "iopub.execute_input": "2021-11-20T17:30:09.140508Z",
     "iopub.status.busy": "2021-11-20T17:30:09.134806Z",
     "iopub.status.idle": "2021-11-20T17:30:09.156629Z",
     "shell.execute_reply": "2021-11-20T17:30:09.157947Z"
    },
    "papermill": {
     "duration": 0.070342,
     "end_time": "2021-11-20T17:30:09.158432",
     "exception": false,
     "start_time": "2021-11-20T17:30:09.088090",
     "status": "completed"
    },
    "tags": []
   },
   "outputs": [
    {
     "data": {
      "text/html": [
       "<div>\n",
       "<style scoped>\n",
       "    .dataframe tbody tr th:only-of-type {\n",
       "        vertical-align: middle;\n",
       "    }\n",
       "\n",
       "    .dataframe tbody tr th {\n",
       "        vertical-align: top;\n",
       "    }\n",
       "\n",
       "    .dataframe thead th {\n",
       "        text-align: right;\n",
       "    }\n",
       "</style>\n",
       "<table border=\"1\" class=\"dataframe\">\n",
       "  <thead>\n",
       "    <tr style=\"text-align: right;\">\n",
       "      <th></th>\n",
       "      <th>RECORD_TIME</th>\n",
       "    </tr>\n",
       "  </thead>\n",
       "  <tbody>\n",
       "    <tr>\n",
       "      <th>0</th>\n",
       "      <td>2021-11-20 18:30</td>\n",
       "    </tr>\n",
       "    <tr>\n",
       "      <th>1</th>\n",
       "      <td>2021-11-20 18:00</td>\n",
       "    </tr>\n",
       "  </tbody>\n",
       "</table>\n",
       "</div>"
      ],
      "text/plain": [
       "        RECORD_TIME\n",
       "0  2021-11-20 18:30\n",
       "1  2021-11-20 18:00"
      ]
     },
     "execution_count": 3,
     "metadata": {},
     "output_type": "execute_result"
    }
   ],
   "source": [
    "timestamps"
   ]
  },
  {
   "cell_type": "code",
   "execution_count": 4,
   "id": "alternate-victory",
   "metadata": {
    "execution": {
     "iopub.execute_input": "2021-11-20T17:30:09.211365Z",
     "iopub.status.busy": "2021-11-20T17:30:09.209295Z",
     "iopub.status.idle": "2021-11-20T17:30:10.456116Z",
     "shell.execute_reply": "2021-11-20T17:30:10.457808Z"
    },
    "papermill": {
     "duration": 1.279686,
     "end_time": "2021-11-20T17:30:10.458273",
     "exception": false,
     "start_time": "2021-11-20T17:30:09.178587",
     "status": "completed"
    },
    "tags": []
   },
   "outputs": [],
   "source": [
    "df = pd.read_sql(\"select * from EBAY_TOP_BERLIN where record_time in (select distinct record_time from EBAY_TOP_BERLIN order by record_time desc limit 2)\", sqlite3.connect(\"UsedObjects.db\"))"
   ]
  },
  {
   "cell_type": "code",
   "execution_count": 5,
   "id": "popular-active",
   "metadata": {
    "execution": {
     "iopub.execute_input": "2021-11-20T17:30:10.539836Z",
     "iopub.status.busy": "2021-11-20T17:30:10.526702Z",
     "iopub.status.idle": "2021-11-20T17:30:10.557984Z",
     "shell.execute_reply": "2021-11-20T17:30:10.559542Z"
    },
    "papermill": {
     "duration": 0.079241,
     "end_time": "2021-11-20T17:30:10.560069",
     "exception": false,
     "start_time": "2021-11-20T17:30:10.480828",
     "status": "completed"
    },
    "tags": []
   },
   "outputs": [],
   "source": [
    "df_pivot = df.pivot_table(index=\"PRODUCT\", columns = \"RECORD_TIME\", values = \"LISTING_COUNT\")"
   ]
  },
  {
   "cell_type": "code",
   "execution_count": 6,
   "id": "union-huntington",
   "metadata": {
    "execution": {
     "iopub.execute_input": "2021-11-20T17:30:10.623484Z",
     "iopub.status.busy": "2021-11-20T17:30:10.621130Z",
     "iopub.status.idle": "2021-11-20T17:30:10.626983Z",
     "shell.execute_reply": "2021-11-20T17:30:10.628432Z"
    },
    "papermill": {
     "duration": 0.047003,
     "end_time": "2021-11-20T17:30:10.629007",
     "exception": false,
     "start_time": "2021-11-20T17:30:10.582004",
     "status": "completed"
    },
    "tags": []
   },
   "outputs": [],
   "source": [
    "df_pivot.columns = [\"stamp_1\", \"stamp_2\"]\n",
    "df_pivot_diff = df_pivot.diff(axis=1)"
   ]
  },
  {
   "cell_type": "code",
   "execution_count": 7,
   "id": "fifth-motion",
   "metadata": {
    "execution": {
     "iopub.execute_input": "2021-11-20T17:30:10.684958Z",
     "iopub.status.busy": "2021-11-20T17:30:10.682439Z",
     "iopub.status.idle": "2021-11-20T17:30:12.389778Z",
     "shell.execute_reply": "2021-11-20T17:30:12.391965Z"
    },
    "papermill": {
     "duration": 1.743455,
     "end_time": "2021-11-20T17:30:12.392460",
     "exception": false,
     "start_time": "2021-11-20T17:30:10.649005",
     "status": "completed"
    },
    "tags": []
   },
   "outputs": [
    {
     "data": {
      "text/plain": [
       "<AxesSubplot:ylabel='PRODUCT'>"
      ]
     },
     "execution_count": 7,
     "metadata": {},
     "output_type": "execute_result"
    },
    {
     "data": {
      "image/png": "[encoded data removed]",
      "text/plain": [
       "<Figure size 432x288 with 1 Axes>"
      ]
     },
     "metadata": {
      "needs_background": "light"
     },
     "output_type": "display_data"
    }
   ],
   "source": [
    "df_pivot_diff.sort_values(\"stamp_2\", ascending = False)[\"stamp_2\"].head(10).plot.barh()"
   ]
  },
  {
   "cell_type": "code",
   "execution_count": null,
   "id": "extra-executive",
   "metadata": {
    "papermill": {
     "duration": 0.036386,
     "end_time": "2021-11-20T17:30:12.461835",
     "exception": false,
     "start_time": "2021-11-20T17:30:12.425449",
     "status": "completed"
    },
    "tags": []
   },
   "outputs": [],
   "source": []
  }
 ],
 "metadata": {
  "kernelspec": {
   "display_name": "Python 3",
   "language": "python",
   "name": "python3"
  },
  "language_info": {
   "codemirror_mode": {
    "name": "ipython",
    "version": 3
   },
   "file_extension": ".py",
   "mimetype": "text/x-python",
   "name": "python",
   "nbconvert_exporter": "python",
   "pygments_lexer": "ipython3",
   "version": "3.9.5"
  },
  "papermill": {
   "default_parameters": {},
   "duration": 10.000411,
   "end_time": "2021-11-20T17:30:14.317694",
   "environment_variables": {},
   "exception": null,
   "input_path": "eBay_Overview.ipynb",
   "output_path": "eBay_Overview.ipynb",
   "parameters": {},
   "start_time": "2021-11-20T17:30:04.317283",
   "version": "2.3.3"
  }
 },
 "nbformat": 4,
 "nbformat_minor": 5
}