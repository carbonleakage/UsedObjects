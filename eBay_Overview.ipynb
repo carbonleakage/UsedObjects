{
 "cells": [
  {
   "cell_type": "code",
   "execution_count": 1,
   "id": "reverse-picking",
   "metadata": {
    "execution": {
     "iopub.execute_input": "2021-10-14T23:30:07.467346Z",
     "iopub.status.busy": "2021-10-14T23:30:07.465367Z",
     "iopub.status.idle": "2021-10-14T23:30:08.276300Z",
     "shell.execute_reply": "2021-10-14T23:30:08.274722Z"
    },
    "papermill": {
     "duration": 0.862434,
     "end_time": "2021-10-14T23:30:08.276856",
     "exception": false,
     "start_time": "2021-10-14T23:30:07.414422",
     "status": "completed"
    },
    "tags": []
   },
   "outputs": [],
   "source": [
    "import pandas as pd\n",
    "import sqlite3"
   ]
  },
  {
   "cell_type": "code",
   "execution_count": 2,
   "id": "innovative-syndrome",
   "metadata": {
    "execution": {
     "iopub.execute_input": "2021-10-14T23:30:08.330398Z",
     "iopub.status.busy": "2021-10-14T23:30:08.327928Z",
     "iopub.status.idle": "2021-10-14T23:30:08.861044Z",
     "shell.execute_reply": "2021-10-14T23:30:08.862287Z"
    },
    "papermill": {
     "duration": 0.56317,
     "end_time": "2021-10-14T23:30:08.862689",
     "exception": false,
     "start_time": "2021-10-14T23:30:08.299519",
     "status": "completed"
    },
    "tags": []
   },
   "outputs": [],
   "source": [
    "timestamps = pd.read_sql(\"select distinct record_time from EBAY_TOP_BERLIN order by record_time desc limit 2\", sqlite3.connect(\"UsedObjects.db\"))"
   ]
  },
  {
   "cell_type": "code",
   "execution_count": 3,
   "id": "periodic-identification",
   "metadata": {
    "execution": {
     "iopub.execute_input": "2021-10-14T23:30:08.955558Z",
     "iopub.status.busy": "2021-10-14T23:30:08.953499Z",
     "iopub.status.idle": "2021-10-14T23:30:08.973485Z",
     "shell.execute_reply": "2021-10-14T23:30:08.974739Z"
    },
    "papermill": {
     "duration": 0.072357,
     "end_time": "2021-10-14T23:30:08.975138",
     "exception": false,
     "start_time": "2021-10-14T23:30:08.902781",
     "status": "completed"
    },
    "tags": []
   },
   "outputs": [
    {
     "data": {
      "text/html": [
       "<div>\n",
       "<style scoped>\n",
       "    .dataframe tbody tr th:only-of-type {\n",
       "        vertical-align: middle;\n",
       "    }\n",
       "\n",
       "    .dataframe tbody tr th {\n",
       "        vertical-align: top;\n",
       "    }\n",
       "\n",
       "    .dataframe thead th {\n",
       "        text-align: right;\n",
       "    }\n",
       "</style>\n",
       "<table border=\"1\" class=\"dataframe\">\n",
       "  <thead>\n",
       "    <tr style=\"text-align: right;\">\n",
       "      <th></th>\n",
       "      <th>RECORD_TIME</th>\n",
       "    </tr>\n",
       "  </thead>\n",
       "  <tbody>\n",
       "    <tr>\n",
       "      <th>0</th>\n",
       "      <td>2021-10-15 01:30</td>\n",
       "    </tr>\n",
       "    <tr>\n",
       "      <th>1</th>\n",
       "      <td>2021-10-15 01:00</td>\n",
       "    </tr>\n",
       "  </tbody>\n",
       "</table>\n",
       "</div>"
      ],
      "text/plain": [
       "        RECORD_TIME\n",
       "0  2021-10-15 01:30\n",
       "1  2021-10-15 01:00"
      ]
     },
     "execution_count": 3,
     "metadata": {},
     "output_type": "execute_result"
    }
   ],
   "source": [
    "timestamps"
   ]
  },
  {
   "cell_type": "code",
   "execution_count": 4,
   "id": "alternate-victory",
   "metadata": {
    "execution": {
     "iopub.execute_input": "2021-10-14T23:30:09.028827Z",
     "iopub.status.busy": "2021-10-14T23:30:09.026481Z",
     "iopub.status.idle": "2021-10-14T23:30:09.815265Z",
     "shell.execute_reply": "2021-10-14T23:30:09.816500Z"
    },
    "papermill": {
     "duration": 0.819836,
     "end_time": "2021-10-14T23:30:09.817082",
     "exception": false,
     "start_time": "2021-10-14T23:30:08.997246",
     "status": "completed"
    },
    "tags": []
   },
   "outputs": [],
   "source": [
    "df = pd.read_sql(\"select * from EBAY_TOP_BERLIN where record_time in (select distinct record_time from EBAY_TOP_BERLIN order by record_time desc limit 2)\", sqlite3.connect(\"UsedObjects.db\"))"
   ]
  },
  {
   "cell_type": "code",
   "execution_count": 5,
   "id": "popular-active",
   "metadata": {
    "execution": {
     "iopub.execute_input": "2021-10-14T23:30:09.883744Z",
     "iopub.status.busy": "2021-10-14T23:30:09.875020Z",
     "iopub.status.idle": "2021-10-14T23:30:09.904929Z",
     "shell.execute_reply": "2021-10-14T23:30:09.906339Z"
    },
    "papermill": {
     "duration": 0.068549,
     "end_time": "2021-10-14T23:30:09.906782",
     "exception": false,
     "start_time": "2021-10-14T23:30:09.838233",
     "status": "completed"
    },
    "tags": []
   },
   "outputs": [],
   "source": [
    "df_pivot = df.pivot_table(index=\"PRODUCT\", columns = \"RECORD_TIME\", values = \"LISTING_COUNT\")"
   ]
  },
  {
   "cell_type": "code",
   "execution_count": 6,
   "id": "union-huntington",
   "metadata": {
    "execution": {
     "iopub.execute_input": "2021-10-14T23:30:09.964355Z",
     "iopub.status.busy": "2021-10-14T23:30:09.962030Z",
     "iopub.status.idle": "2021-10-14T23:30:09.967833Z",
     "shell.execute_reply": "2021-10-14T23:30:09.969205Z"
    },
    "papermill": {
     "duration": 0.042157,
     "end_time": "2021-10-14T23:30:09.969634",
     "exception": false,
     "start_time": "2021-10-14T23:30:09.927477",
     "status": "completed"
    },
    "tags": []
   },
   "outputs": [],
   "source": [
    "df_pivot.columns = [\"stamp_1\", \"stamp_2\"]\n",
    "df_pivot_diff = df_pivot.diff(axis=1)"
   ]
  },
  {
   "cell_type": "code",
   "execution_count": 7,
   "id": "fifth-motion",
   "metadata": {
    "execution": {
     "iopub.execute_input": "2021-10-14T23:30:10.024229Z",
     "iopub.status.busy": "2021-10-14T23:30:10.021986Z",
     "iopub.status.idle": "2021-10-14T23:30:11.512754Z",
     "shell.execute_reply": "2021-10-14T23:30:11.514237Z"
    },
    "papermill": {
     "duration": 1.52407,
     "end_time": "2021-10-14T23:30:11.514682",
     "exception": false,
     "start_time": "2021-10-14T23:30:09.990612",
     "status": "completed"
    },
    "tags": []
   },
   "outputs": [
    {
     "data": {
      "text/plain": [
       "<AxesSubplot:ylabel='PRODUCT'>"
      ]
     },
     "execution_count": 7,
     "metadata": {},
     "output_type": "execute_result"
    },
    {
     "data": {
      "image/png": "[encoded data removed]",
      "text/plain": [
       "<Figure size 432x288 with 1 Axes>"
      ]
     },
     "metadata": {
      "needs_background": "light"
     },
     "output_type": "display_data"
    }
   ],
   "source": [
    "df_pivot_diff.sort_values(\"stamp_2\", ascending = False)[\"stamp_2\"].head(10).plot.barh()"
   ]
  },
  {
   "cell_type": "code",
   "execution_count": null,
   "id": "extra-executive",
   "metadata": {
    "papermill": {
     "duration": 0.022614,
     "end_time": "2021-10-14T23:30:11.561739",
     "exception": false,
     "start_time": "2021-10-14T23:30:11.539125",
     "status": "completed"
    },
    "tags": []
   },
   "outputs": [],
   "source": []
  }
 ],
 "metadata": {
  "kernelspec": {
   "display_name": "Python 3",
   "language": "python",
   "name": "python3"
  },
  "language_info": {
   "codemirror_mode": {
    "name": "ipython",
    "version": 3
   },
   "file_extension": ".py",
   "mimetype": "text/x-python",
   "name": "python",
   "nbconvert_exporter": "python",
   "pygments_lexer": "ipython3",
   "version": "3.9.5"
  },
  "papermill": {
   "default_parameters": {},
   "duration": 7.837738,
   "end_time": "2021-10-14T23:30:12.837432",
   "environment_variables": {},
   "exception": null,
   "input_path": "eBay_Overview.ipynb",
   "output_path": "eBay_Overview.ipynb",
   "parameters": {},
   "start_time": "2021-10-14T23:30:04.999694",
   "version": "2.3.3"
  }
 },
 "nbformat": 4,
 "nbformat_minor": 5
}