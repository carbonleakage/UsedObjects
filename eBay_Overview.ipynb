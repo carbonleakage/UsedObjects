{
 "cells": [
  {
   "cell_type": "code",
   "execution_count": 1,
   "id": "reverse-picking",
   "metadata": {
    "execution": {
     "iopub.execute_input": "2021-11-19T12:30:07.573182Z",
     "iopub.status.busy": "2021-11-19T12:30:07.570858Z",
     "iopub.status.idle": "2021-11-19T12:30:08.523566Z",
     "shell.execute_reply": "2021-11-19T12:30:08.525240Z"
    },
    "papermill": {
     "duration": 1.002265,
     "end_time": "2021-11-19T12:30:08.526072",
     "exception": false,
     "start_time": "2021-11-19T12:30:07.523807",
     "status": "completed"
    },
    "tags": []
   },
   "outputs": [],
   "source": [
    "import pandas as pd\n",
    "import sqlite3"
   ]
  },
  {
   "cell_type": "code",
   "execution_count": 2,
   "id": "innovative-syndrome",
   "metadata": {
    "execution": {
     "iopub.execute_input": "2021-11-19T12:30:08.589999Z",
     "iopub.status.busy": "2021-11-19T12:30:08.587514Z",
     "iopub.status.idle": "2021-11-19T12:30:09.460308Z",
     "shell.execute_reply": "2021-11-19T12:30:09.461857Z"
    },
    "papermill": {
     "duration": 0.909217,
     "end_time": "2021-11-19T12:30:09.462366",
     "exception": false,
     "start_time": "2021-11-19T12:30:08.553149",
     "status": "completed"
    },
    "tags": []
   },
   "outputs": [],
   "source": [
    "timestamps = pd.read_sql(\"select distinct record_time from EBAY_TOP_BERLIN order by record_time desc limit 2\", sqlite3.connect(\"UsedObjects.db\"))"
   ]
  },
  {
   "cell_type": "code",
   "execution_count": 3,
   "id": "periodic-identification",
   "metadata": {
    "execution": {
     "iopub.execute_input": "2021-11-19T12:30:09.533969Z",
     "iopub.status.busy": "2021-11-19T12:30:09.531532Z",
     "iopub.status.idle": "2021-11-19T12:30:09.553962Z",
     "shell.execute_reply": "2021-11-19T12:30:09.555422Z"
    },
    "papermill": {
     "duration": 0.071875,
     "end_time": "2021-11-19T12:30:09.555918",
     "exception": false,
     "start_time": "2021-11-19T12:30:09.484043",
     "status": "completed"
    },
    "tags": []
   },
   "outputs": [
    {
     "data": {
      "text/html": [
       "<div>\n",
       "<style scoped>\n",
       "    .dataframe tbody tr th:only-of-type {\n",
       "        vertical-align: middle;\n",
       "    }\n",
       "\n",
       "    .dataframe tbody tr th {\n",
       "        vertical-align: top;\n",
       "    }\n",
       "\n",
       "    .dataframe thead th {\n",
       "        text-align: right;\n",
       "    }\n",
       "</style>\n",
       "<table border=\"1\" class=\"dataframe\">\n",
       "  <thead>\n",
       "    <tr style=\"text-align: right;\">\n",
       "      <th></th>\n",
       "      <th>RECORD_TIME</th>\n",
       "    </tr>\n",
       "  </thead>\n",
       "  <tbody>\n",
       "    <tr>\n",
       "      <th>0</th>\n",
       "      <td>2021-11-19 13:30</td>\n",
       "    </tr>\n",
       "    <tr>\n",
       "      <th>1</th>\n",
       "      <td>2021-11-19 13:00</td>\n",
       "    </tr>\n",
       "  </tbody>\n",
       "</table>\n",
       "</div>"
      ],
      "text/plain": [
       "        RECORD_TIME\n",
       "0  2021-11-19 13:30\n",
       "1  2021-11-19 13:00"
      ]
     },
     "execution_count": 3,
     "metadata": {},
     "output_type": "execute_result"
    }
   ],
   "source": [
    "timestamps"
   ]
  },
  {
   "cell_type": "code",
   "execution_count": 4,
   "id": "alternate-victory",
   "metadata": {
    "execution": {
     "iopub.execute_input": "2021-11-19T12:30:09.609715Z",
     "iopub.status.busy": "2021-11-19T12:30:09.607454Z",
     "iopub.status.idle": "2021-11-19T12:30:10.825905Z",
     "shell.execute_reply": "2021-11-19T12:30:10.828066Z"
    },
    "papermill": {
     "duration": 1.252027,
     "end_time": "2021-11-19T12:30:10.828599",
     "exception": false,
     "start_time": "2021-11-19T12:30:09.576572",
     "status": "completed"
    },
    "tags": []
   },
   "outputs": [],
   "source": [
    "df = pd.read_sql(\"select * from EBAY_TOP_BERLIN where record_time in (select distinct record_time from EBAY_TOP_BERLIN order by record_time desc limit 2)\", sqlite3.connect(\"UsedObjects.db\"))"
   ]
  },
  {
   "cell_type": "code",
   "execution_count": 5,
   "id": "popular-active",
   "metadata": {
    "execution": {
     "iopub.execute_input": "2021-11-19T12:30:10.901474Z",
     "iopub.status.busy": "2021-11-19T12:30:10.892593Z",
     "iopub.status.idle": "2021-11-19T12:30:10.929662Z",
     "shell.execute_reply": "2021-11-19T12:30:10.931280Z"
    },
    "papermill": {
     "duration": 0.081083,
     "end_time": "2021-11-19T12:30:10.931778",
     "exception": false,
     "start_time": "2021-11-19T12:30:10.850695",
     "status": "completed"
    },
    "tags": []
   },
   "outputs": [],
   "source": [
    "df_pivot = df.pivot_table(index=\"PRODUCT\", columns = \"RECORD_TIME\", values = \"LISTING_COUNT\")"
   ]
  },
  {
   "cell_type": "code",
   "execution_count": 6,
   "id": "union-huntington",
   "metadata": {
    "execution": {
     "iopub.execute_input": "2021-11-19T12:30:10.994817Z",
     "iopub.status.busy": "2021-11-19T12:30:10.992493Z",
     "iopub.status.idle": "2021-11-19T12:30:10.998163Z",
     "shell.execute_reply": "2021-11-19T12:30:10.999607Z"
    },
    "papermill": {
     "duration": 0.046778,
     "end_time": "2021-11-19T12:30:11.000097",
     "exception": false,
     "start_time": "2021-11-19T12:30:10.953319",
     "status": "completed"
    },
    "tags": []
   },
   "outputs": [],
   "source": [
    "df_pivot.columns = [\"stamp_1\", \"stamp_2\"]\n",
    "df_pivot_diff = df_pivot.diff(axis=1)"
   ]
  },
  {
   "cell_type": "code",
   "execution_count": 7,
   "id": "fifth-motion",
   "metadata": {
    "execution": {
     "iopub.execute_input": "2021-11-19T12:30:11.061245Z",
     "iopub.status.busy": "2021-11-19T12:30:11.058556Z",
     "iopub.status.idle": "2021-11-19T12:30:12.806832Z",
     "shell.execute_reply": "2021-11-19T12:30:12.808297Z"
    },
    "papermill": {
     "duration": 1.787323,
     "end_time": "2021-11-19T12:30:12.808826",
     "exception": false,
     "start_time": "2021-11-19T12:30:11.021503",
     "status": "completed"
    },
    "tags": []
   },
   "outputs": [
    {
     "data": {
      "text/plain": [
       "<AxesSubplot:ylabel='PRODUCT'>"
      ]
     },
     "execution_count": 7,
     "metadata": {},
     "output_type": "execute_result"
    },
    {
     "data": {
      "image/png": "[encoded data removed]",
      "text/plain": [
       "<Figure size 432x288 with 1 Axes>"
      ]
     },
     "metadata": {
      "needs_background": "light"
     },
     "output_type": "display_data"
    }
   ],
   "source": [
    "df_pivot_diff.sort_values(\"stamp_2\", ascending = False)[\"stamp_2\"].head(10).plot.barh()"
   ]
  },
  {
   "cell_type": "code",
   "execution_count": null,
   "id": "extra-executive",
   "metadata": {
    "papermill": {
     "duration": 0.031969,
     "end_time": "2021-11-19T12:30:12.866012",
     "exception": false,
     "start_time": "2021-11-19T12:30:12.834043",
     "status": "completed"
    },
    "tags": []
   },
   "outputs": [],
   "source": []
  }
 ],
 "metadata": {
  "kernelspec": {
   "display_name": "Python 3",
   "language": "python",
   "name": "python3"
  },
  "language_info": {
   "codemirror_mode": {
    "name": "ipython",
    "version": 3
   },
   "file_extension": ".py",
   "mimetype": "text/x-python",
   "name": "python",
   "nbconvert_exporter": "python",
   "pygments_lexer": "ipython3",
   "version": "3.9.5"
  },
  "papermill": {
   "default_parameters": {},
   "duration": 10.004474,
   "end_time": "2021-11-19T12:30:14.731856",
   "environment_variables": {},
   "exception": null,
   "input_path": "eBay_Overview.ipynb",
   "output_path": "eBay_Overview.ipynb",
   "parameters": {},
   "start_time": "2021-11-19T12:30:04.727382",
   "version": "2.3.3"
  }
 },
 "nbformat": 4,
 "nbformat_minor": 5
}