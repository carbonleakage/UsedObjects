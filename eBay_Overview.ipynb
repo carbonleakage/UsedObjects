{
 "cells": [
  {
   "cell_type": "code",
   "execution_count": 1,
   "id": "reverse-picking",
   "metadata": {
    "execution": {
     "iopub.execute_input": "2021-10-26T19:30:06.961281Z",
     "iopub.status.busy": "2021-10-26T19:30:06.959240Z",
     "iopub.status.idle": "2021-10-26T19:30:07.765008Z",
     "shell.execute_reply": "2021-10-26T19:30:07.766301Z"
    },
    "papermill": {
     "duration": 0.856242,
     "end_time": "2021-10-26T19:30:07.766917",
     "exception": false,
     "start_time": "2021-10-26T19:30:06.910675",
     "status": "completed"
    },
    "tags": []
   },
   "outputs": [],
   "source": [
    "import pandas as pd\n",
    "import sqlite3"
   ]
  },
  {
   "cell_type": "code",
   "execution_count": 2,
   "id": "innovative-syndrome",
   "metadata": {
    "execution": {
     "iopub.execute_input": "2021-10-26T19:30:07.820933Z",
     "iopub.status.busy": "2021-10-26T19:30:07.818546Z",
     "iopub.status.idle": "2021-10-26T19:30:08.468913Z",
     "shell.execute_reply": "2021-10-26T19:30:08.470283Z"
    },
    "papermill": {
     "duration": 0.680564,
     "end_time": "2021-10-26T19:30:08.470695",
     "exception": false,
     "start_time": "2021-10-26T19:30:07.790131",
     "status": "completed"
    },
    "tags": []
   },
   "outputs": [],
   "source": [
    "timestamps = pd.read_sql(\"select distinct record_time from EBAY_TOP_BERLIN order by record_time desc limit 2\", sqlite3.connect(\"UsedObjects.db\"))"
   ]
  },
  {
   "cell_type": "code",
   "execution_count": 3,
   "id": "periodic-identification",
   "metadata": {
    "execution": {
     "iopub.execute_input": "2021-10-26T19:30:08.546023Z",
     "iopub.status.busy": "2021-10-26T19:30:08.543891Z",
     "iopub.status.idle": "2021-10-26T19:30:08.564239Z",
     "shell.execute_reply": "2021-10-26T19:30:08.565517Z"
    },
    "papermill": {
     "duration": 0.070828,
     "end_time": "2021-10-26T19:30:08.565951",
     "exception": false,
     "start_time": "2021-10-26T19:30:08.495123",
     "status": "completed"
    },
    "tags": []
   },
   "outputs": [
    {
     "data": {
      "text/html": [
       "<div>\n",
       "<style scoped>\n",
       "    .dataframe tbody tr th:only-of-type {\n",
       "        vertical-align: middle;\n",
       "    }\n",
       "\n",
       "    .dataframe tbody tr th {\n",
       "        vertical-align: top;\n",
       "    }\n",
       "\n",
       "    .dataframe thead th {\n",
       "        text-align: right;\n",
       "    }\n",
       "</style>\n",
       "<table border=\"1\" class=\"dataframe\">\n",
       "  <thead>\n",
       "    <tr style=\"text-align: right;\">\n",
       "      <th></th>\n",
       "      <th>RECORD_TIME</th>\n",
       "    </tr>\n",
       "  </thead>\n",
       "  <tbody>\n",
       "    <tr>\n",
       "      <th>0</th>\n",
       "      <td>2021-10-26 21:30</td>\n",
       "    </tr>\n",
       "    <tr>\n",
       "      <th>1</th>\n",
       "      <td>2021-10-26 21:00</td>\n",
       "    </tr>\n",
       "  </tbody>\n",
       "</table>\n",
       "</div>"
      ],
      "text/plain": [
       "        RECORD_TIME\n",
       "0  2021-10-26 21:30\n",
       "1  2021-10-26 21:00"
      ]
     },
     "execution_count": 3,
     "metadata": {},
     "output_type": "execute_result"
    }
   ],
   "source": [
    "timestamps"
   ]
  },
  {
   "cell_type": "code",
   "execution_count": 4,
   "id": "alternate-victory",
   "metadata": {
    "execution": {
     "iopub.execute_input": "2021-10-26T19:30:08.619185Z",
     "iopub.status.busy": "2021-10-26T19:30:08.617012Z",
     "iopub.status.idle": "2021-10-26T19:30:09.562887Z",
     "shell.execute_reply": "2021-10-26T19:30:09.564108Z"
    },
    "papermill": {
     "duration": 0.975739,
     "end_time": "2021-10-26T19:30:09.564499",
     "exception": false,
     "start_time": "2021-10-26T19:30:08.588760",
     "status": "completed"
    },
    "tags": []
   },
   "outputs": [],
   "source": [
    "df = pd.read_sql(\"select * from EBAY_TOP_BERLIN where record_time in (select distinct record_time from EBAY_TOP_BERLIN order by record_time desc limit 2)\", sqlite3.connect(\"UsedObjects.db\"))"
   ]
  },
  {
   "cell_type": "code",
   "execution_count": 5,
   "id": "popular-active",
   "metadata": {
    "execution": {
     "iopub.execute_input": "2021-10-26T19:30:09.635805Z",
     "iopub.status.busy": "2021-10-26T19:30:09.622986Z",
     "iopub.status.idle": "2021-10-26T19:30:09.651745Z",
     "shell.execute_reply": "2021-10-26T19:30:09.653107Z"
    },
    "papermill": {
     "duration": 0.068367,
     "end_time": "2021-10-26T19:30:09.653528",
     "exception": false,
     "start_time": "2021-10-26T19:30:09.585161",
     "status": "completed"
    },
    "tags": []
   },
   "outputs": [],
   "source": [
    "df_pivot = df.pivot_table(index=\"PRODUCT\", columns = \"RECORD_TIME\", values = \"LISTING_COUNT\")"
   ]
  },
  {
   "cell_type": "code",
   "execution_count": 6,
   "id": "union-huntington",
   "metadata": {
    "execution": {
     "iopub.execute_input": "2021-10-26T19:30:09.710499Z",
     "iopub.status.busy": "2021-10-26T19:30:09.708275Z",
     "iopub.status.idle": "2021-10-26T19:30:09.713905Z",
     "shell.execute_reply": "2021-10-26T19:30:09.715285Z"
    },
    "papermill": {
     "duration": 0.041115,
     "end_time": "2021-10-26T19:30:09.715725",
     "exception": false,
     "start_time": "2021-10-26T19:30:09.674610",
     "status": "completed"
    },
    "tags": []
   },
   "outputs": [],
   "source": [
    "df_pivot.columns = [\"stamp_1\", \"stamp_2\"]\n",
    "df_pivot_diff = df_pivot.diff(axis=1)"
   ]
  },
  {
   "cell_type": "code",
   "execution_count": 7,
   "id": "fifth-motion",
   "metadata": {
    "execution": {
     "iopub.execute_input": "2021-10-26T19:30:09.771637Z",
     "iopub.status.busy": "2021-10-26T19:30:09.768991Z",
     "iopub.status.idle": "2021-10-26T19:30:11.286527Z",
     "shell.execute_reply": "2021-10-26T19:30:11.287907Z"
    },
    "papermill": {
     "duration": 1.551225,
     "end_time": "2021-10-26T19:30:11.288343",
     "exception": false,
     "start_time": "2021-10-26T19:30:09.737118",
     "status": "completed"
    },
    "tags": []
   },
   "outputs": [
    {
     "data": {
      "text/plain": [
       "<AxesSubplot:ylabel='PRODUCT'>"
      ]
     },
     "execution_count": 7,
     "metadata": {},
     "output_type": "execute_result"
    },
    {
     "data": {
      "image/png": "[encoded data removed]",
      "text/plain": [
       "<Figure size 432x288 with 1 Axes>"
      ]
     },
     "metadata": {
      "needs_background": "light"
     },
     "output_type": "display_data"
    }
   ],
   "source": [
    "df_pivot_diff.sort_values(\"stamp_2\", ascending = False)[\"stamp_2\"].head(10).plot.barh()"
   ]
  },
  {
   "cell_type": "code",
   "execution_count": null,
   "id": "extra-executive",
   "metadata": {
    "papermill": {
     "duration": 0.022722,
     "end_time": "2021-10-26T19:30:11.335345",
     "exception": false,
     "start_time": "2021-10-26T19:30:11.312623",
     "status": "completed"
    },
    "tags": []
   },
   "outputs": [],
   "source": []
  }
 ],
 "metadata": {
  "kernelspec": {
   "display_name": "Python 3",
   "language": "python",
   "name": "python3"
  },
  "language_info": {
   "codemirror_mode": {
    "name": "ipython",
    "version": 3
   },
   "file_extension": ".py",
   "mimetype": "text/x-python",
   "name": "python",
   "nbconvert_exporter": "python",
   "pygments_lexer": "ipython3",
   "version": "3.9.5"
  },
  "papermill": {
   "default_parameters": {},
   "duration": 7.476732,
   "end_time": "2021-10-26T19:30:11.979313",
   "environment_variables": {},
   "exception": null,
   "input_path": "eBay_Overview.ipynb",
   "output_path": "eBay_Overview.ipynb",
   "parameters": {},
   "start_time": "2021-10-26T19:30:04.502581",
   "version": "2.3.3"
  }
 },
 "nbformat": 4,
 "nbformat_minor": 5
}