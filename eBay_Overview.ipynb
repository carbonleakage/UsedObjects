{
 "cells": [
  {
   "cell_type": "code",
   "execution_count": 1,
   "id": "reverse-picking",
   "metadata": {
    "execution": {
     "iopub.execute_input": "2021-12-01T01:30:07.978931Z",
     "iopub.status.busy": "2021-12-01T01:30:07.976562Z",
     "iopub.status.idle": "2021-12-01T01:30:08.944896Z",
     "shell.execute_reply": "2021-12-01T01:30:08.946373Z"
    },
    "papermill": {
     "duration": 1.018612,
     "end_time": "2021-12-01T01:30:08.947086",
     "exception": false,
     "start_time": "2021-12-01T01:30:07.928474",
     "status": "completed"
    },
    "tags": []
   },
   "outputs": [],
   "source": [
    "import pandas as pd\n",
    "import sqlite3"
   ]
  },
  {
   "cell_type": "code",
   "execution_count": 2,
   "id": "innovative-syndrome",
   "metadata": {
    "execution": {
     "iopub.execute_input": "2021-12-01T01:30:09.074379Z",
     "iopub.status.busy": "2021-12-01T01:30:09.072064Z",
     "iopub.status.idle": "2021-12-01T01:30:10.034400Z",
     "shell.execute_reply": "2021-12-01T01:30:10.036974Z"
    },
    "papermill": {
     "duration": 0.998533,
     "end_time": "2021-12-01T01:30:10.037478",
     "exception": false,
     "start_time": "2021-12-01T01:30:09.038945",
     "status": "completed"
    },
    "tags": []
   },
   "outputs": [],
   "source": [
    "timestamps = pd.read_sql(\"select distinct record_time from EBAY_TOP_BERLIN order by record_time desc limit 2\", sqlite3.connect(\"UsedObjects.db\"))"
   ]
  },
  {
   "cell_type": "code",
   "execution_count": 3,
   "id": "periodic-identification",
   "metadata": {
    "execution": {
     "iopub.execute_input": "2021-12-01T01:30:10.096376Z",
     "iopub.status.busy": "2021-12-01T01:30:10.094051Z",
     "iopub.status.idle": "2021-12-01T01:30:10.129272Z",
     "shell.execute_reply": "2021-12-01T01:30:10.130744Z"
    },
    "papermill": {
     "duration": 0.073857,
     "end_time": "2021-12-01T01:30:10.131244",
     "exception": false,
     "start_time": "2021-12-01T01:30:10.057387",
     "status": "completed"
    },
    "tags": []
   },
   "outputs": [
    {
     "data": {
      "text/html": [
       "<div>\n",
       "<style scoped>\n",
       "    .dataframe tbody tr th:only-of-type {\n",
       "        vertical-align: middle;\n",
       "    }\n",
       "\n",
       "    .dataframe tbody tr th {\n",
       "        vertical-align: top;\n",
       "    }\n",
       "\n",
       "    .dataframe thead th {\n",
       "        text-align: right;\n",
       "    }\n",
       "</style>\n",
       "<table border=\"1\" class=\"dataframe\">\n",
       "  <thead>\n",
       "    <tr style=\"text-align: right;\">\n",
       "      <th></th>\n",
       "      <th>RECORD_TIME</th>\n",
       "    </tr>\n",
       "  </thead>\n",
       "  <tbody>\n",
       "    <tr>\n",
       "      <th>0</th>\n",
       "      <td>2021-12-01 02:30</td>\n",
       "    </tr>\n",
       "    <tr>\n",
       "      <th>1</th>\n",
       "      <td>2021-12-01 02:00</td>\n",
       "    </tr>\n",
       "  </tbody>\n",
       "</table>\n",
       "</div>"
      ],
      "text/plain": [
       "        RECORD_TIME\n",
       "0  2021-12-01 02:30\n",
       "1  2021-12-01 02:00"
      ]
     },
     "execution_count": 3,
     "metadata": {},
     "output_type": "execute_result"
    }
   ],
   "source": [
    "timestamps"
   ]
  },
  {
   "cell_type": "code",
   "execution_count": 4,
   "id": "alternate-victory",
   "metadata": {
    "execution": {
     "iopub.execute_input": "2021-12-01T01:30:10.187946Z",
     "iopub.status.busy": "2021-12-01T01:30:10.185662Z",
     "iopub.status.idle": "2021-12-01T01:30:11.582700Z",
     "shell.execute_reply": "2021-12-01T01:30:11.584202Z"
    },
    "papermill": {
     "duration": 1.431473,
     "end_time": "2021-12-01T01:30:11.584677",
     "exception": false,
     "start_time": "2021-12-01T01:30:10.153204",
     "status": "completed"
    },
    "tags": []
   },
   "outputs": [],
   "source": [
    "df = pd.read_sql(\"select * from EBAY_TOP_BERLIN where record_time in (select distinct record_time from EBAY_TOP_BERLIN order by record_time desc limit 2)\", sqlite3.connect(\"UsedObjects.db\"))"
   ]
  },
  {
   "cell_type": "code",
   "execution_count": 5,
   "id": "popular-active",
   "metadata": {
    "execution": {
     "iopub.execute_input": "2021-12-01T01:30:11.662425Z",
     "iopub.status.busy": "2021-12-01T01:30:11.650360Z",
     "iopub.status.idle": "2021-12-01T01:30:11.678016Z",
     "shell.execute_reply": "2021-12-01T01:30:11.679347Z"
    },
    "papermill": {
     "duration": 0.073727,
     "end_time": "2021-12-01T01:30:11.679754",
     "exception": false,
     "start_time": "2021-12-01T01:30:11.606027",
     "status": "completed"
    },
    "tags": []
   },
   "outputs": [],
   "source": [
    "df_pivot = df.pivot_table(index=\"PRODUCT\", columns = \"RECORD_TIME\", values = \"LISTING_COUNT\")"
   ]
  },
  {
   "cell_type": "code",
   "execution_count": 6,
   "id": "union-huntington",
   "metadata": {
    "execution": {
     "iopub.execute_input": "2021-12-01T01:30:11.875874Z",
     "iopub.status.busy": "2021-12-01T01:30:11.873604Z",
     "iopub.status.idle": "2021-12-01T01:30:11.879305Z",
     "shell.execute_reply": "2021-12-01T01:30:11.880745Z"
    },
    "papermill": {
     "duration": 0.048391,
     "end_time": "2021-12-01T01:30:11.881245",
     "exception": false,
     "start_time": "2021-12-01T01:30:11.832854",
     "status": "completed"
    },
    "tags": []
   },
   "outputs": [],
   "source": [
    "df_pivot.columns = [\"stamp_1\", \"stamp_2\"]\n",
    "df_pivot_diff = df_pivot.diff(axis=1)"
   ]
  },
  {
   "cell_type": "code",
   "execution_count": 7,
   "id": "fifth-motion",
   "metadata": {
    "execution": {
     "iopub.execute_input": "2021-12-01T01:30:11.940149Z",
     "iopub.status.busy": "2021-12-01T01:30:11.937358Z",
     "iopub.status.idle": "2021-12-01T01:30:13.937960Z",
     "shell.execute_reply": "2021-12-01T01:30:13.939283Z"
    },
    "papermill": {
     "duration": 2.038049,
     "end_time": "2021-12-01T01:30:13.939714",
     "exception": false,
     "start_time": "2021-12-01T01:30:11.901665",
     "status": "completed"
    },
    "tags": []
   },
   "outputs": [
    {
     "data": {
      "text/plain": [
       "<AxesSubplot:ylabel='PRODUCT'>"
      ]
     },
     "execution_count": 7,
     "metadata": {},
     "output_type": "execute_result"
    },
    {
     "data": {
      "image/png": "[encoded data removed]",
      "text/plain": [
       "<Figure size 432x288 with 1 Axes>"
      ]
     },
     "metadata": {
      "needs_background": "light"
     },
     "output_type": "display_data"
    }
   ],
   "source": [
    "df_pivot_diff.sort_values(\"stamp_2\", ascending = False)[\"stamp_2\"].head(10).plot.barh()"
   ]
  },
  {
   "cell_type": "code",
   "execution_count": null,
   "id": "extra-executive",
   "metadata": {
    "papermill": {
     "duration": 0.066559,
     "end_time": "2021-12-01T01:30:14.031476",
     "exception": false,
     "start_time": "2021-12-01T01:30:13.964917",
     "status": "completed"
    },
    "tags": []
   },
   "outputs": [],
   "source": []
  }
 ],
 "metadata": {
  "kernelspec": {
   "display_name": "Python 3",
   "language": "python",
   "name": "python3"
  },
  "language_info": {
   "codemirror_mode": {
    "name": "ipython",
    "version": 3
   },
   "file_extension": ".py",
   "mimetype": "text/x-python",
   "name": "python",
   "nbconvert_exporter": "python",
   "pygments_lexer": "ipython3",
   "version": "3.9.5"
  },
  "papermill": {
   "default_parameters": {},
   "duration": 9.50479,
   "end_time": "2021-12-01T01:30:14.676762",
   "environment_variables": {},
   "exception": null,
   "input_path": "eBay_Overview.ipynb",
   "output_path": "eBay_Overview.ipynb",
   "parameters": {},
   "start_time": "2021-12-01T01:30:05.171972",
   "version": "2.3.3"
  }
 },
 "nbformat": 4,
 "nbformat_minor": 5
}