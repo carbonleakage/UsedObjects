{
 "cells": [
  {
   "cell_type": "code",
   "execution_count": 1,
   "id": "reverse-picking",
   "metadata": {
    "execution": {
     "iopub.execute_input": "2021-11-04T18:30:08.148013Z",
     "iopub.status.busy": "2021-11-04T18:30:08.145647Z",
     "iopub.status.idle": "2021-11-04T18:30:09.091555Z",
     "shell.execute_reply": "2021-11-04T18:30:09.093307Z"
    },
    "papermill": {
     "duration": 0.996288,
     "end_time": "2021-11-04T18:30:09.094031",
     "exception": false,
     "start_time": "2021-11-04T18:30:08.097743",
     "status": "completed"
    },
    "tags": []
   },
   "outputs": [],
   "source": [
    "import pandas as pd\n",
    "import sqlite3"
   ]
  },
  {
   "cell_type": "code",
   "execution_count": 2,
   "id": "innovative-syndrome",
   "metadata": {
    "execution": {
     "iopub.execute_input": "2021-11-04T18:30:09.155561Z",
     "iopub.status.busy": "2021-11-04T18:30:09.152992Z",
     "iopub.status.idle": "2021-11-04T18:30:09.893397Z",
     "shell.execute_reply": "2021-11-04T18:30:09.894888Z"
    },
    "papermill": {
     "duration": 0.773654,
     "end_time": "2021-11-04T18:30:09.895354",
     "exception": false,
     "start_time": "2021-11-04T18:30:09.121700",
     "status": "completed"
    },
    "tags": []
   },
   "outputs": [],
   "source": [
    "timestamps = pd.read_sql(\"select distinct record_time from EBAY_TOP_BERLIN order by record_time desc limit 2\", sqlite3.connect(\"UsedObjects.db\"))"
   ]
  },
  {
   "cell_type": "code",
   "execution_count": 3,
   "id": "periodic-identification",
   "metadata": {
    "execution": {
     "iopub.execute_input": "2021-11-04T18:30:09.965210Z",
     "iopub.status.busy": "2021-11-04T18:30:09.962843Z",
     "iopub.status.idle": "2021-11-04T18:30:09.985559Z",
     "shell.execute_reply": "2021-11-04T18:30:09.987047Z"
    },
    "papermill": {
     "duration": 0.07205,
     "end_time": "2021-11-04T18:30:09.987535",
     "exception": false,
     "start_time": "2021-11-04T18:30:09.915485",
     "status": "completed"
    },
    "tags": []
   },
   "outputs": [
    {
     "data": {
      "text/html": [
       "<div>\n",
       "<style scoped>\n",
       "    .dataframe tbody tr th:only-of-type {\n",
       "        vertical-align: middle;\n",
       "    }\n",
       "\n",
       "    .dataframe tbody tr th {\n",
       "        vertical-align: top;\n",
       "    }\n",
       "\n",
       "    .dataframe thead th {\n",
       "        text-align: right;\n",
       "    }\n",
       "</style>\n",
       "<table border=\"1\" class=\"dataframe\">\n",
       "  <thead>\n",
       "    <tr style=\"text-align: right;\">\n",
       "      <th></th>\n",
       "      <th>RECORD_TIME</th>\n",
       "    </tr>\n",
       "  </thead>\n",
       "  <tbody>\n",
       "    <tr>\n",
       "      <th>0</th>\n",
       "      <td>2021-11-04 19:30</td>\n",
       "    </tr>\n",
       "    <tr>\n",
       "      <th>1</th>\n",
       "      <td>2021-11-04 19:00</td>\n",
       "    </tr>\n",
       "  </tbody>\n",
       "</table>\n",
       "</div>"
      ],
      "text/plain": [
       "        RECORD_TIME\n",
       "0  2021-11-04 19:30\n",
       "1  2021-11-04 19:00"
      ]
     },
     "execution_count": 3,
     "metadata": {},
     "output_type": "execute_result"
    }
   ],
   "source": [
    "timestamps"
   ]
  },
  {
   "cell_type": "code",
   "execution_count": 4,
   "id": "alternate-victory",
   "metadata": {
    "execution": {
     "iopub.execute_input": "2021-11-04T18:30:10.043397Z",
     "iopub.status.busy": "2021-11-04T18:30:10.041176Z",
     "iopub.status.idle": "2021-11-04T18:30:11.109150Z",
     "shell.execute_reply": "2021-11-04T18:30:11.110894Z"
    },
    "papermill": {
     "duration": 1.102257,
     "end_time": "2021-11-04T18:30:11.111434",
     "exception": false,
     "start_time": "2021-11-04T18:30:10.009177",
     "status": "completed"
    },
    "tags": []
   },
   "outputs": [],
   "source": [
    "df = pd.read_sql(\"select * from EBAY_TOP_BERLIN where record_time in (select distinct record_time from EBAY_TOP_BERLIN order by record_time desc limit 2)\", sqlite3.connect(\"UsedObjects.db\"))"
   ]
  },
  {
   "cell_type": "code",
   "execution_count": 5,
   "id": "popular-active",
   "metadata": {
    "execution": {
     "iopub.execute_input": "2021-11-04T18:30:11.193211Z",
     "iopub.status.busy": "2021-11-04T18:30:11.178812Z",
     "iopub.status.idle": "2021-11-04T18:30:11.214789Z",
     "shell.execute_reply": "2021-11-04T18:30:11.213161Z"
    },
    "papermill": {
     "duration": 0.081169,
     "end_time": "2021-11-04T18:30:11.215251",
     "exception": false,
     "start_time": "2021-11-04T18:30:11.134082",
     "status": "completed"
    },
    "tags": []
   },
   "outputs": [],
   "source": [
    "df_pivot = df.pivot_table(index=\"PRODUCT\", columns = \"RECORD_TIME\", values = \"LISTING_COUNT\")"
   ]
  },
  {
   "cell_type": "code",
   "execution_count": 6,
   "id": "union-huntington",
   "metadata": {
    "execution": {
     "iopub.execute_input": "2021-11-04T18:30:11.277035Z",
     "iopub.status.busy": "2021-11-04T18:30:11.274670Z",
     "iopub.status.idle": "2021-11-04T18:30:11.282061Z",
     "shell.execute_reply": "2021-11-04T18:30:11.283690Z"
    },
    "papermill": {
     "duration": 0.047774,
     "end_time": "2021-11-04T18:30:11.284202",
     "exception": false,
     "start_time": "2021-11-04T18:30:11.236428",
     "status": "completed"
    },
    "tags": []
   },
   "outputs": [],
   "source": [
    "df_pivot.columns = [\"stamp_1\", \"stamp_2\"]\n",
    "df_pivot_diff = df_pivot.diff(axis=1)"
   ]
  },
  {
   "cell_type": "code",
   "execution_count": 7,
   "id": "fifth-motion",
   "metadata": {
    "execution": {
     "iopub.execute_input": "2021-11-04T18:30:11.342719Z",
     "iopub.status.busy": "2021-11-04T18:30:11.340166Z",
     "iopub.status.idle": "2021-11-04T18:30:13.183625Z",
     "shell.execute_reply": "2021-11-04T18:30:13.184924Z"
    },
    "papermill": {
     "duration": 1.878693,
     "end_time": "2021-11-04T18:30:13.185452",
     "exception": false,
     "start_time": "2021-11-04T18:30:11.306759",
     "status": "completed"
    },
    "tags": []
   },
   "outputs": [
    {
     "data": {
      "text/plain": [
       "<AxesSubplot:ylabel='PRODUCT'>"
      ]
     },
     "execution_count": 7,
     "metadata": {},
     "output_type": "execute_result"
    },
    {
     "data": {
      "image/png": "[encoded data removed]",
      "text/plain": [
       "<Figure size 432x288 with 1 Axes>"
      ]
     },
     "metadata": {
      "needs_background": "light"
     },
     "output_type": "display_data"
    }
   ],
   "source": [
    "df_pivot_diff.sort_values(\"stamp_2\", ascending = False)[\"stamp_2\"].head(10).plot.barh()"
   ]
  },
  {
   "cell_type": "code",
   "execution_count": null,
   "id": "extra-executive",
   "metadata": {
    "papermill": {
     "duration": 0.044051,
     "end_time": "2021-11-04T18:30:13.268334",
     "exception": false,
     "start_time": "2021-11-04T18:30:13.224283",
     "status": "completed"
    },
    "tags": []
   },
   "outputs": [],
   "source": []
  }
 ],
 "metadata": {
  "kernelspec": {
   "display_name": "Python 3",
   "language": "python",
   "name": "python3"
  },
  "language_info": {
   "codemirror_mode": {
    "name": "ipython",
    "version": 3
   },
   "file_extension": ".py",
   "mimetype": "text/x-python",
   "name": "python",
   "nbconvert_exporter": "python",
   "pygments_lexer": "ipython3",
   "version": "3.9.5"
  },
  "papermill": {
   "default_parameters": {},
   "duration": 8.798193,
   "end_time": "2021-11-04T18:30:14.157803",
   "environment_variables": {},
   "exception": null,
   "input_path": "eBay_Overview.ipynb",
   "output_path": "eBay_Overview.ipynb",
   "parameters": {},
   "start_time": "2021-11-04T18:30:05.359610",
   "version": "2.3.3"
  }
 },
 "nbformat": 4,
 "nbformat_minor": 5
}