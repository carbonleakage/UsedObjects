{
 "cells": [
  {
   "cell_type": "code",
   "execution_count": 1,
   "id": "reverse-picking",
   "metadata": {
    "execution": {
     "iopub.execute_input": "2021-12-22T17:00:07.843772Z",
     "iopub.status.busy": "2021-12-22T17:00:07.841433Z",
     "iopub.status.idle": "2021-12-22T17:00:08.812014Z",
     "shell.execute_reply": "2021-12-22T17:00:08.814433Z"
    },
    "papermill": {
     "duration": 1.020068,
     "end_time": "2021-12-22T17:00:08.815172",
     "exception": false,
     "start_time": "2021-12-22T17:00:07.795104",
     "status": "completed"
    },
    "tags": []
   },
   "outputs": [],
   "source": [
    "import pandas as pd\n",
    "import sqlite3"
   ]
  },
  {
   "cell_type": "code",
   "execution_count": 2,
   "id": "innovative-syndrome",
   "metadata": {
    "execution": {
     "iopub.execute_input": "2021-12-22T17:00:08.879971Z",
     "iopub.status.busy": "2021-12-22T17:00:08.877319Z",
     "iopub.status.idle": "2021-12-22T17:00:10.037460Z",
     "shell.execute_reply": "2021-12-22T17:00:10.039079Z"
    },
    "papermill": {
     "duration": 1.195729,
     "end_time": "2021-12-22T17:00:10.039662",
     "exception": false,
     "start_time": "2021-12-22T17:00:08.843933",
     "status": "completed"
    },
    "tags": []
   },
   "outputs": [],
   "source": [
    "timestamps = pd.read_sql(\"select distinct record_time from EBAY_TOP_BERLIN order by record_time desc limit 2\", sqlite3.connect(\"UsedObjects.db\"))"
   ]
  },
  {
   "cell_type": "code",
   "execution_count": 3,
   "id": "periodic-identification",
   "metadata": {
    "execution": {
     "iopub.execute_input": "2021-12-22T17:00:10.110735Z",
     "iopub.status.busy": "2021-12-22T17:00:10.108246Z",
     "iopub.status.idle": "2021-12-22T17:00:10.131285Z",
     "shell.execute_reply": "2021-12-22T17:00:10.132842Z"
    },
    "papermill": {
     "duration": 0.073437,
     "end_time": "2021-12-22T17:00:10.133368",
     "exception": false,
     "start_time": "2021-12-22T17:00:10.059931",
     "status": "completed"
    },
    "tags": []
   },
   "outputs": [
    {
     "data": {
      "text/html": [
       "<div>\n",
       "<style scoped>\n",
       "    .dataframe tbody tr th:only-of-type {\n",
       "        vertical-align: middle;\n",
       "    }\n",
       "\n",
       "    .dataframe tbody tr th {\n",
       "        vertical-align: top;\n",
       "    }\n",
       "\n",
       "    .dataframe thead th {\n",
       "        text-align: right;\n",
       "    }\n",
       "</style>\n",
       "<table border=\"1\" class=\"dataframe\">\n",
       "  <thead>\n",
       "    <tr style=\"text-align: right;\">\n",
       "      <th></th>\n",
       "      <th>RECORD_TIME</th>\n",
       "    </tr>\n",
       "  </thead>\n",
       "  <tbody>\n",
       "    <tr>\n",
       "      <th>0</th>\n",
       "      <td>2021-12-22 18:00</td>\n",
       "    </tr>\n",
       "    <tr>\n",
       "      <th>1</th>\n",
       "      <td>2021-12-22 17:30</td>\n",
       "    </tr>\n",
       "  </tbody>\n",
       "</table>\n",
       "</div>"
      ],
      "text/plain": [
       "        RECORD_TIME\n",
       "0  2021-12-22 18:00\n",
       "1  2021-12-22 17:30"
      ]
     },
     "execution_count": 3,
     "metadata": {},
     "output_type": "execute_result"
    }
   ],
   "source": [
    "timestamps"
   ]
  },
  {
   "cell_type": "code",
   "execution_count": 4,
   "id": "alternate-victory",
   "metadata": {
    "execution": {
     "iopub.execute_input": "2021-12-22T17:00:10.190698Z",
     "iopub.status.busy": "2021-12-22T17:00:10.188338Z",
     "iopub.status.idle": "2021-12-22T17:00:11.817972Z",
     "shell.execute_reply": "2021-12-22T17:00:11.819769Z"
    },
    "papermill": {
     "duration": 1.66566,
     "end_time": "2021-12-22T17:00:11.820242",
     "exception": false,
     "start_time": "2021-12-22T17:00:10.154582",
     "status": "completed"
    },
    "tags": []
   },
   "outputs": [],
   "source": [
    "df = pd.read_sql(\"select * from EBAY_TOP_BERLIN where record_time in (select distinct record_time from EBAY_TOP_BERLIN order by record_time desc limit 2)\", sqlite3.connect(\"UsedObjects.db\"))"
   ]
  },
  {
   "cell_type": "code",
   "execution_count": 5,
   "id": "popular-active",
   "metadata": {
    "execution": {
     "iopub.execute_input": "2021-12-22T17:00:11.883192Z",
     "iopub.status.busy": "2021-12-22T17:00:11.880962Z",
     "iopub.status.idle": "2021-12-22T17:00:11.914589Z",
     "shell.execute_reply": "2021-12-22T17:00:11.916891Z"
    },
    "papermill": {
     "duration": 0.076566,
     "end_time": "2021-12-22T17:00:11.917416",
     "exception": false,
     "start_time": "2021-12-22T17:00:11.840850",
     "status": "completed"
    },
    "tags": []
   },
   "outputs": [],
   "source": [
    "df_pivot = df.pivot_table(index=\"PRODUCT\", columns = \"RECORD_TIME\", values = \"LISTING_COUNT\")"
   ]
  },
  {
   "cell_type": "code",
   "execution_count": 6,
   "id": "union-huntington",
   "metadata": {
    "execution": {
     "iopub.execute_input": "2021-12-22T17:00:11.978807Z",
     "iopub.status.busy": "2021-12-22T17:00:11.976501Z",
     "iopub.status.idle": "2021-12-22T17:00:11.983778Z",
     "shell.execute_reply": "2021-12-22T17:00:11.985700Z"
    },
    "papermill": {
     "duration": 0.046934,
     "end_time": "2021-12-22T17:00:11.986282",
     "exception": false,
     "start_time": "2021-12-22T17:00:11.939348",
     "status": "completed"
    },
    "tags": []
   },
   "outputs": [],
   "source": [
    "df_pivot.columns = [\"stamp_1\", \"stamp_2\"]\n",
    "df_pivot_diff = df_pivot.diff(axis=1)"
   ]
  },
  {
   "cell_type": "code",
   "execution_count": 7,
   "id": "fifth-motion",
   "metadata": {
    "execution": {
     "iopub.execute_input": "2021-12-22T17:00:12.043914Z",
     "iopub.status.busy": "2021-12-22T17:00:12.041444Z",
     "iopub.status.idle": "2021-12-22T17:00:13.990072Z",
     "shell.execute_reply": "2021-12-22T17:00:13.991529Z"
    },
    "papermill": {
     "duration": 1.983935,
     "end_time": "2021-12-22T17:00:13.991987",
     "exception": false,
     "start_time": "2021-12-22T17:00:12.008052",
     "status": "completed"
    },
    "tags": []
   },
   "outputs": [
    {
     "data": {
      "text/plain": [
       "<AxesSubplot:ylabel='PRODUCT'>"
      ]
     },
     "execution_count": 7,
     "metadata": {},
     "output_type": "execute_result"
    },
    {
     "data": {
      "image/png": "[encoded data removed]",
      "text/plain": [
       "<Figure size 432x288 with 1 Axes>"
      ]
     },
     "metadata": {
      "needs_background": "light"
     },
     "output_type": "display_data"
    }
   ],
   "source": [
    "df_pivot_diff.sort_values(\"stamp_2\", ascending = False)[\"stamp_2\"].head(10).plot.barh()"
   ]
  },
  {
   "cell_type": "code",
   "execution_count": null,
   "id": "extra-executive",
   "metadata": {
    "papermill": {
     "duration": 0.021972,
     "end_time": "2021-12-22T17:00:14.037437",
     "exception": false,
     "start_time": "2021-12-22T17:00:14.015465",
     "status": "completed"
    },
    "tags": []
   },
   "outputs": [],
   "source": []
  }
 ],
 "metadata": {
  "kernelspec": {
   "display_name": "Python 3",
   "language": "python",
   "name": "python3"
  },
  "language_info": {
   "codemirror_mode": {
    "name": "ipython",
    "version": 3
   },
   "file_extension": ".py",
   "mimetype": "text/x-python",
   "name": "python",
   "nbconvert_exporter": "python",
   "pygments_lexer": "ipython3",
   "version": "3.9.5"
  },
  "papermill": {
   "default_parameters": {},
   "duration": 9.650125,
   "end_time": "2021-12-22T17:00:14.679529",
   "environment_variables": {},
   "exception": null,
   "input_path": "eBay_Overview.ipynb",
   "output_path": "eBay_Overview.ipynb",
   "parameters": {},
   "start_time": "2021-12-22T17:00:05.029404",
   "version": "2.3.3"
  }
 },
 "nbformat": 4,
 "nbformat_minor": 5
}