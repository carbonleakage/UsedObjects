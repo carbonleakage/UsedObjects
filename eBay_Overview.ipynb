{
 "cells": [
  {
   "cell_type": "code",
   "execution_count": 1,
   "id": "reverse-picking",
   "metadata": {
    "execution": {
     "iopub.execute_input": "2021-10-02T16:00:07.616288Z",
     "iopub.status.busy": "2021-10-02T16:00:07.614308Z",
     "iopub.status.idle": "2021-10-02T16:00:08.420591Z",
     "shell.execute_reply": "2021-10-02T16:00:08.421829Z"
    },
    "papermill": {
     "duration": 0.857779,
     "end_time": "2021-10-02T16:00:08.422436",
     "exception": false,
     "start_time": "2021-10-02T16:00:07.564657",
     "status": "completed"
    },
    "tags": []
   },
   "outputs": [],
   "source": [
    "import pandas as pd\n",
    "import sqlite3"
   ]
  },
  {
   "cell_type": "code",
   "execution_count": 2,
   "id": "innovative-syndrome",
   "metadata": {
    "execution": {
     "iopub.execute_input": "2021-10-02T16:00:08.473724Z",
     "iopub.status.busy": "2021-10-02T16:00:08.471851Z",
     "iopub.status.idle": "2021-10-02T16:00:08.908363Z",
     "shell.execute_reply": "2021-10-02T16:00:08.909769Z"
    },
    "papermill": {
     "duration": 0.466131,
     "end_time": "2021-10-02T16:00:08.910203",
     "exception": false,
     "start_time": "2021-10-02T16:00:08.444072",
     "status": "completed"
    },
    "tags": []
   },
   "outputs": [],
   "source": [
    "timestamps = pd.read_sql(\"select distinct record_time from EBAY_TOP_BERLIN order by record_time desc limit 2\", sqlite3.connect(\"UsedObjects.db\"))"
   ]
  },
  {
   "cell_type": "code",
   "execution_count": 3,
   "id": "periodic-identification",
   "metadata": {
    "execution": {
     "iopub.execute_input": "2021-10-02T16:00:08.976857Z",
     "iopub.status.busy": "2021-10-02T16:00:08.974779Z",
     "iopub.status.idle": "2021-10-02T16:00:08.994899Z",
     "shell.execute_reply": "2021-10-02T16:00:08.996228Z"
    },
    "papermill": {
     "duration": 0.066766,
     "end_time": "2021-10-02T16:00:08.996646",
     "exception": false,
     "start_time": "2021-10-02T16:00:08.929880",
     "status": "completed"
    },
    "tags": []
   },
   "outputs": [
    {
     "data": {
      "text/html": [
       "<div>\n",
       "<style scoped>\n",
       "    .dataframe tbody tr th:only-of-type {\n",
       "        vertical-align: middle;\n",
       "    }\n",
       "\n",
       "    .dataframe tbody tr th {\n",
       "        vertical-align: top;\n",
       "    }\n",
       "\n",
       "    .dataframe thead th {\n",
       "        text-align: right;\n",
       "    }\n",
       "</style>\n",
       "<table border=\"1\" class=\"dataframe\">\n",
       "  <thead>\n",
       "    <tr style=\"text-align: right;\">\n",
       "      <th></th>\n",
       "      <th>RECORD_TIME</th>\n",
       "    </tr>\n",
       "  </thead>\n",
       "  <tbody>\n",
       "    <tr>\n",
       "      <th>0</th>\n",
       "      <td>2021-10-02 18:00</td>\n",
       "    </tr>\n",
       "    <tr>\n",
       "      <th>1</th>\n",
       "      <td>2021-10-02 17:30</td>\n",
       "    </tr>\n",
       "  </tbody>\n",
       "</table>\n",
       "</div>"
      ],
      "text/plain": [
       "        RECORD_TIME\n",
       "0  2021-10-02 18:00\n",
       "1  2021-10-02 17:30"
      ]
     },
     "execution_count": 3,
     "metadata": {},
     "output_type": "execute_result"
    }
   ],
   "source": [
    "timestamps"
   ]
  },
  {
   "cell_type": "code",
   "execution_count": 4,
   "id": "alternate-victory",
   "metadata": {
    "execution": {
     "iopub.execute_input": "2021-10-02T16:00:09.047392Z",
     "iopub.status.busy": "2021-10-02T16:00:09.045441Z",
     "iopub.status.idle": "2021-10-02T16:00:09.713135Z",
     "shell.execute_reply": "2021-10-02T16:00:09.714338Z"
    },
    "papermill": {
     "duration": 0.697235,
     "end_time": "2021-10-02T16:00:09.714734",
     "exception": false,
     "start_time": "2021-10-02T16:00:09.017499",
     "status": "completed"
    },
    "tags": []
   },
   "outputs": [],
   "source": [
    "df = pd.read_sql(\"select * from EBAY_TOP_BERLIN where record_time in (select distinct record_time from EBAY_TOP_BERLIN order by record_time desc limit 2)\", sqlite3.connect(\"UsedObjects.db\"))"
   ]
  },
  {
   "cell_type": "code",
   "execution_count": 5,
   "id": "popular-active",
   "metadata": {
    "execution": {
     "iopub.execute_input": "2021-10-02T16:00:09.795691Z",
     "iopub.status.busy": "2021-10-02T16:00:09.783323Z",
     "iopub.status.idle": "2021-10-02T16:00:09.811687Z",
     "shell.execute_reply": "2021-10-02T16:00:09.813081Z"
    },
    "papermill": {
     "duration": 0.07162,
     "end_time": "2021-10-02T16:00:09.813523",
     "exception": false,
     "start_time": "2021-10-02T16:00:09.741903",
     "status": "completed"
    },
    "tags": []
   },
   "outputs": [],
   "source": [
    "df_pivot = df.pivot_table(index=\"PRODUCT\", columns = \"RECORD_TIME\", values = \"LISTING_COUNT\")"
   ]
  },
  {
   "cell_type": "code",
   "execution_count": 6,
   "id": "union-huntington",
   "metadata": {
    "execution": {
     "iopub.execute_input": "2021-10-02T16:00:09.870406Z",
     "iopub.status.busy": "2021-10-02T16:00:09.867961Z",
     "iopub.status.idle": "2021-10-02T16:00:09.873928Z",
     "shell.execute_reply": "2021-10-02T16:00:09.875251Z"
    },
    "papermill": {
     "duration": 0.041929,
     "end_time": "2021-10-02T16:00:09.875711",
     "exception": false,
     "start_time": "2021-10-02T16:00:09.833782",
     "status": "completed"
    },
    "tags": []
   },
   "outputs": [],
   "source": [
    "df_pivot.columns = [\"stamp_1\", \"stamp_2\"]\n",
    "df_pivot_diff = df_pivot.diff(axis=1)"
   ]
  },
  {
   "cell_type": "code",
   "execution_count": 7,
   "id": "fifth-motion",
   "metadata": {
    "execution": {
     "iopub.execute_input": "2021-10-02T16:00:09.929969Z",
     "iopub.status.busy": "2021-10-02T16:00:09.927799Z",
     "iopub.status.idle": "2021-10-02T16:00:11.380423Z",
     "shell.execute_reply": "2021-10-02T16:00:11.381734Z"
    },
    "papermill": {
     "duration": 1.484962,
     "end_time": "2021-10-02T16:00:11.382150",
     "exception": false,
     "start_time": "2021-10-02T16:00:09.897188",
     "status": "completed"
    },
    "tags": []
   },
   "outputs": [
    {
     "data": {
      "text/plain": [
       "<AxesSubplot:ylabel='PRODUCT'>"
      ]
     },
     "execution_count": 7,
     "metadata": {},
     "output_type": "execute_result"
    },
    {
     "data": {
      "image/png": "[encoded data removed]",
      "text/plain": [
       "<Figure size 432x288 with 1 Axes>"
      ]
     },
     "metadata": {
      "needs_background": "light"
     },
     "output_type": "display_data"
    }
   ],
   "source": [
    "df_pivot_diff.sort_values(\"stamp_2\", ascending = False)[\"stamp_2\"].head(10).plot.barh()"
   ]
  },
  {
   "cell_type": "code",
   "execution_count": null,
   "id": "extra-executive",
   "metadata": {
    "papermill": {
     "duration": 0.022048,
     "end_time": "2021-10-02T16:00:11.427097",
     "exception": false,
     "start_time": "2021-10-02T16:00:11.405049",
     "status": "completed"
    },
    "tags": []
   },
   "outputs": [],
   "source": []
  }
 ],
 "metadata": {
  "kernelspec": {
   "display_name": "Python 3",
   "language": "python",
   "name": "python3"
  },
  "language_info": {
   "codemirror_mode": {
    "name": "ipython",
    "version": 3
   },
   "file_extension": ".py",
   "mimetype": "text/x-python",
   "name": "python",
   "nbconvert_exporter": "python",
   "pygments_lexer": "ipython3",
   "version": "3.9.5"
  },
  "papermill": {
   "default_parameters": {},
   "duration": 7.823919,
   "end_time": "2021-10-02T16:00:12.982418",
   "environment_variables": {},
   "exception": null,
   "input_path": "eBay_Overview.ipynb",
   "output_path": "eBay_Overview.ipynb",
   "parameters": {},
   "start_time": "2021-10-02T16:00:05.158499",
   "version": "2.3.3"
  }
 },
 "nbformat": 4,
 "nbformat_minor": 5
}