{
 "cells": [
  {
   "cell_type": "code",
   "execution_count": 1,
   "id": "reverse-picking",
   "metadata": {
    "execution": {
     "iopub.execute_input": "2021-10-09T12:00:07.624274Z",
     "iopub.status.busy": "2021-10-09T12:00:07.622251Z",
     "iopub.status.idle": "2021-10-09T12:00:08.432734Z",
     "shell.execute_reply": "2021-10-09T12:00:08.433981Z"
    },
    "papermill": {
     "duration": 0.862319,
     "end_time": "2021-10-09T12:00:08.434602",
     "exception": false,
     "start_time": "2021-10-09T12:00:07.572283",
     "status": "completed"
    },
    "tags": []
   },
   "outputs": [],
   "source": [
    "import pandas as pd\n",
    "import sqlite3"
   ]
  },
  {
   "cell_type": "code",
   "execution_count": 2,
   "id": "innovative-syndrome",
   "metadata": {
    "execution": {
     "iopub.execute_input": "2021-10-09T12:00:08.487212Z",
     "iopub.status.busy": "2021-10-09T12:00:08.484834Z",
     "iopub.status.idle": "2021-10-09T12:00:08.977342Z",
     "shell.execute_reply": "2021-10-09T12:00:08.978622Z"
    },
    "papermill": {
     "duration": 0.522267,
     "end_time": "2021-10-09T12:00:08.979087",
     "exception": false,
     "start_time": "2021-10-09T12:00:08.456820",
     "status": "completed"
    },
    "tags": []
   },
   "outputs": [],
   "source": [
    "timestamps = pd.read_sql(\"select distinct record_time from EBAY_TOP_BERLIN order by record_time desc limit 2\", sqlite3.connect(\"UsedObjects.db\"))"
   ]
  },
  {
   "cell_type": "code",
   "execution_count": 3,
   "id": "periodic-identification",
   "metadata": {
    "execution": {
     "iopub.execute_input": "2021-10-09T12:00:09.046313Z",
     "iopub.status.busy": "2021-10-09T12:00:09.044236Z",
     "iopub.status.idle": "2021-10-09T12:00:09.064754Z",
     "shell.execute_reply": "2021-10-09T12:00:09.065945Z"
    },
    "papermill": {
     "duration": 0.06724,
     "end_time": "2021-10-09T12:00:09.066371",
     "exception": false,
     "start_time": "2021-10-09T12:00:08.999131",
     "status": "completed"
    },
    "tags": []
   },
   "outputs": [
    {
     "data": {
      "text/html": [
       "<div>\n",
       "<style scoped>\n",
       "    .dataframe tbody tr th:only-of-type {\n",
       "        vertical-align: middle;\n",
       "    }\n",
       "\n",
       "    .dataframe tbody tr th {\n",
       "        vertical-align: top;\n",
       "    }\n",
       "\n",
       "    .dataframe thead th {\n",
       "        text-align: right;\n",
       "    }\n",
       "</style>\n",
       "<table border=\"1\" class=\"dataframe\">\n",
       "  <thead>\n",
       "    <tr style=\"text-align: right;\">\n",
       "      <th></th>\n",
       "      <th>RECORD_TIME</th>\n",
       "    </tr>\n",
       "  </thead>\n",
       "  <tbody>\n",
       "    <tr>\n",
       "      <th>0</th>\n",
       "      <td>2021-10-09 14:00</td>\n",
       "    </tr>\n",
       "    <tr>\n",
       "      <th>1</th>\n",
       "      <td>2021-10-09 13:30</td>\n",
       "    </tr>\n",
       "  </tbody>\n",
       "</table>\n",
       "</div>"
      ],
      "text/plain": [
       "        RECORD_TIME\n",
       "0  2021-10-09 14:00\n",
       "1  2021-10-09 13:30"
      ]
     },
     "execution_count": 3,
     "metadata": {},
     "output_type": "execute_result"
    }
   ],
   "source": [
    "timestamps"
   ]
  },
  {
   "cell_type": "code",
   "execution_count": 4,
   "id": "alternate-victory",
   "metadata": {
    "execution": {
     "iopub.execute_input": "2021-10-09T12:00:09.128762Z",
     "iopub.status.busy": "2021-10-09T12:00:09.126842Z",
     "iopub.status.idle": "2021-10-09T12:00:09.861766Z",
     "shell.execute_reply": "2021-10-09T12:00:09.863274Z"
    },
    "papermill": {
     "duration": 0.769768,
     "end_time": "2021-10-09T12:00:09.863714",
     "exception": false,
     "start_time": "2021-10-09T12:00:09.093946",
     "status": "completed"
    },
    "tags": []
   },
   "outputs": [],
   "source": [
    "df = pd.read_sql(\"select * from EBAY_TOP_BERLIN where record_time in (select distinct record_time from EBAY_TOP_BERLIN order by record_time desc limit 2)\", sqlite3.connect(\"UsedObjects.db\"))"
   ]
  },
  {
   "cell_type": "code",
   "execution_count": 5,
   "id": "popular-active",
   "metadata": {
    "execution": {
     "iopub.execute_input": "2021-10-09T12:00:09.934247Z",
     "iopub.status.busy": "2021-10-09T12:00:09.921828Z",
     "iopub.status.idle": "2021-10-09T12:00:09.950226Z",
     "shell.execute_reply": "2021-10-09T12:00:09.951670Z"
    },
    "papermill": {
     "duration": 0.067846,
     "end_time": "2021-10-09T12:00:09.952084",
     "exception": false,
     "start_time": "2021-10-09T12:00:09.884238",
     "status": "completed"
    },
    "tags": []
   },
   "outputs": [],
   "source": [
    "df_pivot = df.pivot_table(index=\"PRODUCT\", columns = \"RECORD_TIME\", values = \"LISTING_COUNT\")"
   ]
  },
  {
   "cell_type": "code",
   "execution_count": 6,
   "id": "union-huntington",
   "metadata": {
    "execution": {
     "iopub.execute_input": "2021-10-09T12:00:10.010316Z",
     "iopub.status.busy": "2021-10-09T12:00:10.007888Z",
     "iopub.status.idle": "2021-10-09T12:00:10.013989Z",
     "shell.execute_reply": "2021-10-09T12:00:10.015336Z"
    },
    "papermill": {
     "duration": 0.042581,
     "end_time": "2021-10-09T12:00:10.015804",
     "exception": false,
     "start_time": "2021-10-09T12:00:09.973223",
     "status": "completed"
    },
    "tags": []
   },
   "outputs": [],
   "source": [
    "df_pivot.columns = [\"stamp_1\", \"stamp_2\"]\n",
    "df_pivot_diff = df_pivot.diff(axis=1)"
   ]
  },
  {
   "cell_type": "code",
   "execution_count": 7,
   "id": "fifth-motion",
   "metadata": {
    "execution": {
     "iopub.execute_input": "2021-10-09T12:00:10.070221Z",
     "iopub.status.busy": "2021-10-09T12:00:10.067856Z",
     "iopub.status.idle": "2021-10-09T12:00:11.557506Z",
     "shell.execute_reply": "2021-10-09T12:00:11.558842Z"
    },
    "papermill": {
     "duration": 1.522213,
     "end_time": "2021-10-09T12:00:11.559297",
     "exception": false,
     "start_time": "2021-10-09T12:00:10.037084",
     "status": "completed"
    },
    "tags": []
   },
   "outputs": [
    {
     "data": {
      "text/plain": [
       "<AxesSubplot:ylabel='PRODUCT'>"
      ]
     },
     "execution_count": 7,
     "metadata": {},
     "output_type": "execute_result"
    },
    {
     "data": {
      "image/png": "[encoded data removed]",
      "text/plain": [
       "<Figure size 432x288 with 1 Axes>"
      ]
     },
     "metadata": {
      "needs_background": "light"
     },
     "output_type": "display_data"
    }
   ],
   "source": [
    "df_pivot_diff.sort_values(\"stamp_2\", ascending = False)[\"stamp_2\"].head(10).plot.barh()"
   ]
  },
  {
   "cell_type": "code",
   "execution_count": null,
   "id": "extra-executive",
   "metadata": {
    "papermill": {
     "duration": 0.021984,
     "end_time": "2021-10-09T12:00:11.605950",
     "exception": false,
     "start_time": "2021-10-09T12:00:11.583966",
     "status": "completed"
    },
    "tags": []
   },
   "outputs": [],
   "source": []
  }
 ],
 "metadata": {
  "kernelspec": {
   "display_name": "Python 3",
   "language": "python",
   "name": "python3"
  },
  "language_info": {
   "codemirror_mode": {
    "name": "ipython",
    "version": 3
   },
   "file_extension": ".py",
   "mimetype": "text/x-python",
   "name": "python",
   "nbconvert_exporter": "python",
   "pygments_lexer": "ipython3",
   "version": "3.9.5"
  },
  "papermill": {
   "default_parameters": {},
   "duration": 7.83707,
   "end_time": "2021-10-09T12:00:12.996917",
   "environment_variables": {},
   "exception": null,
   "input_path": "eBay_Overview.ipynb",
   "output_path": "eBay_Overview.ipynb",
   "parameters": {},
   "start_time": "2021-10-09T12:00:05.159847",
   "version": "2.3.3"
  }
 },
 "nbformat": 4,
 "nbformat_minor": 5
}