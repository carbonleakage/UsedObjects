{
 "cells": [
  {
   "cell_type": "code",
   "execution_count": 1,
   "id": "reverse-picking",
   "metadata": {
    "execution": {
     "iopub.execute_input": "2021-11-11T11:00:07.115903Z",
     "iopub.status.busy": "2021-11-11T11:00:07.113757Z",
     "iopub.status.idle": "2021-11-11T11:00:08.065294Z",
     "shell.execute_reply": "2021-11-11T11:00:08.066757Z"
    },
    "papermill": {
     "duration": 0.99778,
     "end_time": "2021-11-11T11:00:08.067497",
     "exception": false,
     "start_time": "2021-11-11T11:00:07.069717",
     "status": "completed"
    },
    "tags": []
   },
   "outputs": [],
   "source": [
    "import pandas as pd\n",
    "import sqlite3"
   ]
  },
  {
   "cell_type": "code",
   "execution_count": 2,
   "id": "innovative-syndrome",
   "metadata": {
    "execution": {
     "iopub.execute_input": "2021-11-11T11:00:08.124761Z",
     "iopub.status.busy": "2021-11-11T11:00:08.122503Z",
     "iopub.status.idle": "2021-11-11T11:00:08.897042Z",
     "shell.execute_reply": "2021-11-11T11:00:08.898441Z"
    },
    "papermill": {
     "duration": 0.809538,
     "end_time": "2021-11-11T11:00:08.898901",
     "exception": false,
     "start_time": "2021-11-11T11:00:08.089363",
     "status": "completed"
    },
    "tags": []
   },
   "outputs": [],
   "source": [
    "timestamps = pd.read_sql(\"select distinct record_time from EBAY_TOP_BERLIN order by record_time desc limit 2\", sqlite3.connect(\"UsedObjects.db\"))"
   ]
  },
  {
   "cell_type": "code",
   "execution_count": 3,
   "id": "periodic-identification",
   "metadata": {
    "execution": {
     "iopub.execute_input": "2021-11-11T11:00:08.970331Z",
     "iopub.status.busy": "2021-11-11T11:00:08.964944Z",
     "iopub.status.idle": "2021-11-11T11:00:08.986042Z",
     "shell.execute_reply": "2021-11-11T11:00:08.988571Z"
    },
    "papermill": {
     "duration": 0.070743,
     "end_time": "2021-11-11T11:00:08.989312",
     "exception": false,
     "start_time": "2021-11-11T11:00:08.918569",
     "status": "completed"
    },
    "tags": []
   },
   "outputs": [
    {
     "data": {
      "text/html": [
       "<div>\n",
       "<style scoped>\n",
       "    .dataframe tbody tr th:only-of-type {\n",
       "        vertical-align: middle;\n",
       "    }\n",
       "\n",
       "    .dataframe tbody tr th {\n",
       "        vertical-align: top;\n",
       "    }\n",
       "\n",
       "    .dataframe thead th {\n",
       "        text-align: right;\n",
       "    }\n",
       "</style>\n",
       "<table border=\"1\" class=\"dataframe\">\n",
       "  <thead>\n",
       "    <tr style=\"text-align: right;\">\n",
       "      <th></th>\n",
       "      <th>RECORD_TIME</th>\n",
       "    </tr>\n",
       "  </thead>\n",
       "  <tbody>\n",
       "    <tr>\n",
       "      <th>0</th>\n",
       "      <td>2021-11-11 12:00</td>\n",
       "    </tr>\n",
       "    <tr>\n",
       "      <th>1</th>\n",
       "      <td>2021-11-11 11:30</td>\n",
       "    </tr>\n",
       "  </tbody>\n",
       "</table>\n",
       "</div>"
      ],
      "text/plain": [
       "        RECORD_TIME\n",
       "0  2021-11-11 12:00\n",
       "1  2021-11-11 11:30"
      ]
     },
     "execution_count": 3,
     "metadata": {},
     "output_type": "execute_result"
    }
   ],
   "source": [
    "timestamps"
   ]
  },
  {
   "cell_type": "code",
   "execution_count": 4,
   "id": "alternate-victory",
   "metadata": {
    "execution": {
     "iopub.execute_input": "2021-11-11T11:00:09.042954Z",
     "iopub.status.busy": "2021-11-11T11:00:09.040816Z",
     "iopub.status.idle": "2021-11-11T11:00:10.207443Z",
     "shell.execute_reply": "2021-11-11T11:00:10.209054Z"
    },
    "papermill": {
     "duration": 1.199943,
     "end_time": "2021-11-11T11:00:10.209538",
     "exception": false,
     "start_time": "2021-11-11T11:00:09.009595",
     "status": "completed"
    },
    "tags": []
   },
   "outputs": [],
   "source": [
    "df = pd.read_sql(\"select * from EBAY_TOP_BERLIN where record_time in (select distinct record_time from EBAY_TOP_BERLIN order by record_time desc limit 2)\", sqlite3.connect(\"UsedObjects.db\"))"
   ]
  },
  {
   "cell_type": "code",
   "execution_count": 5,
   "id": "popular-active",
   "metadata": {
    "execution": {
     "iopub.execute_input": "2021-11-11T11:00:10.289821Z",
     "iopub.status.busy": "2021-11-11T11:00:10.276361Z",
     "iopub.status.idle": "2021-11-11T11:00:10.309569Z",
     "shell.execute_reply": "2021-11-11T11:00:10.311040Z"
    },
    "papermill": {
     "duration": 0.079846,
     "end_time": "2021-11-11T11:00:10.311535",
     "exception": false,
     "start_time": "2021-11-11T11:00:10.231689",
     "status": "completed"
    },
    "tags": []
   },
   "outputs": [],
   "source": [
    "df_pivot = df.pivot_table(index=\"PRODUCT\", columns = \"RECORD_TIME\", values = \"LISTING_COUNT\")"
   ]
  },
  {
   "cell_type": "code",
   "execution_count": 6,
   "id": "union-huntington",
   "metadata": {
    "execution": {
     "iopub.execute_input": "2021-11-11T11:00:10.373154Z",
     "iopub.status.busy": "2021-11-11T11:00:10.370959Z",
     "iopub.status.idle": "2021-11-11T11:00:10.376404Z",
     "shell.execute_reply": "2021-11-11T11:00:10.377891Z"
    },
    "papermill": {
     "duration": 0.043764,
     "end_time": "2021-11-11T11:00:10.378369",
     "exception": false,
     "start_time": "2021-11-11T11:00:10.334605",
     "status": "completed"
    },
    "tags": []
   },
   "outputs": [],
   "source": [
    "df_pivot.columns = [\"stamp_1\", \"stamp_2\"]\n",
    "df_pivot_diff = df_pivot.diff(axis=1)"
   ]
  },
  {
   "cell_type": "code",
   "execution_count": 7,
   "id": "fifth-motion",
   "metadata": {
    "execution": {
     "iopub.execute_input": "2021-11-11T11:00:10.434453Z",
     "iopub.status.busy": "2021-11-11T11:00:10.431949Z",
     "iopub.status.idle": "2021-11-11T11:00:12.223404Z",
     "shell.execute_reply": "2021-11-11T11:00:12.225208Z"
    },
    "papermill": {
     "duration": 1.827433,
     "end_time": "2021-11-11T11:00:12.225755",
     "exception": false,
     "start_time": "2021-11-11T11:00:10.398322",
     "status": "completed"
    },
    "tags": []
   },
   "outputs": [
    {
     "data": {
      "text/plain": [
       "<AxesSubplot:ylabel='PRODUCT'>"
      ]
     },
     "execution_count": 7,
     "metadata": {},
     "output_type": "execute_result"
    },
    {
     "data": {
      "image/png": "[encoded data removed]",
      "text/plain": [
       "<Figure size 432x288 with 1 Axes>"
      ]
     },
     "metadata": {
      "needs_background": "light"
     },
     "output_type": "display_data"
    }
   ],
   "source": [
    "df_pivot_diff.sort_values(\"stamp_2\", ascending = False)[\"stamp_2\"].head(10).plot.barh()"
   ]
  },
  {
   "cell_type": "code",
   "execution_count": null,
   "id": "extra-executive",
   "metadata": {
    "papermill": {
     "duration": 0.037413,
     "end_time": "2021-11-11T11:00:12.301108",
     "exception": false,
     "start_time": "2021-11-11T11:00:12.263695",
     "status": "completed"
    },
    "tags": []
   },
   "outputs": [],
   "source": []
  }
 ],
 "metadata": {
  "kernelspec": {
   "display_name": "Python 3",
   "language": "python",
   "name": "python3"
  },
  "language_info": {
   "codemirror_mode": {
    "name": "ipython",
    "version": 3
   },
   "file_extension": ".py",
   "mimetype": "text/x-python",
   "name": "python",
   "nbconvert_exporter": "python",
   "pygments_lexer": "ipython3",
   "version": "3.9.5"
  },
  "papermill": {
   "default_parameters": {},
   "duration": 8.850651,
   "end_time": "2021-11-11T11:00:13.177498",
   "environment_variables": {},
   "exception": null,
   "input_path": "eBay_Overview.ipynb",
   "output_path": "eBay_Overview.ipynb",
   "parameters": {},
   "start_time": "2021-11-11T11:00:04.326847",
   "version": "2.3.3"
  }
 },
 "nbformat": 4,
 "nbformat_minor": 5
}