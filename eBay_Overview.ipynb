{
 "cells": [
  {
   "cell_type": "code",
   "execution_count": 1,
   "id": "reverse-picking",
   "metadata": {
    "execution": {
     "iopub.execute_input": "2021-12-05T08:00:07.354060Z",
     "iopub.status.busy": "2021-12-05T08:00:07.350969Z",
     "iopub.status.idle": "2021-12-05T08:00:08.301264Z",
     "shell.execute_reply": "2021-12-05T08:00:08.299308Z"
    },
    "papermill": {
     "duration": 0.998324,
     "end_time": "2021-12-05T08:00:08.301759",
     "exception": false,
     "start_time": "2021-12-05T08:00:07.303435",
     "status": "completed"
    },
    "tags": []
   },
   "outputs": [],
   "source": [
    "import pandas as pd\n",
    "import sqlite3"
   ]
  },
  {
   "cell_type": "code",
   "execution_count": 2,
   "id": "innovative-syndrome",
   "metadata": {
    "execution": {
     "iopub.execute_input": "2021-12-05T08:00:08.414952Z",
     "iopub.status.busy": "2021-12-05T08:00:08.412496Z",
     "iopub.status.idle": "2021-12-05T08:00:09.415887Z",
     "shell.execute_reply": "2021-12-05T08:00:09.417493Z"
    },
    "papermill": {
     "duration": 1.036174,
     "end_time": "2021-12-05T08:00:09.417986",
     "exception": false,
     "start_time": "2021-12-05T08:00:08.381812",
     "status": "completed"
    },
    "tags": []
   },
   "outputs": [],
   "source": [
    "timestamps = pd.read_sql(\"select distinct record_time from EBAY_TOP_BERLIN order by record_time desc limit 2\", sqlite3.connect(\"UsedObjects.db\"))"
   ]
  },
  {
   "cell_type": "code",
   "execution_count": 3,
   "id": "periodic-identification",
   "metadata": {
    "execution": {
     "iopub.execute_input": "2021-12-05T08:00:09.490446Z",
     "iopub.status.busy": "2021-12-05T08:00:09.487832Z",
     "iopub.status.idle": "2021-12-05T08:00:09.511146Z",
     "shell.execute_reply": "2021-12-05T08:00:09.512506Z"
    },
    "papermill": {
     "duration": 0.071995,
     "end_time": "2021-12-05T08:00:09.513028",
     "exception": false,
     "start_time": "2021-12-05T08:00:09.441033",
     "status": "completed"
    },
    "tags": []
   },
   "outputs": [
    {
     "data": {
      "text/html": [
       "<div>\n",
       "<style scoped>\n",
       "    .dataframe tbody tr th:only-of-type {\n",
       "        vertical-align: middle;\n",
       "    }\n",
       "\n",
       "    .dataframe tbody tr th {\n",
       "        vertical-align: top;\n",
       "    }\n",
       "\n",
       "    .dataframe thead th {\n",
       "        text-align: right;\n",
       "    }\n",
       "</style>\n",
       "<table border=\"1\" class=\"dataframe\">\n",
       "  <thead>\n",
       "    <tr style=\"text-align: right;\">\n",
       "      <th></th>\n",
       "      <th>RECORD_TIME</th>\n",
       "    </tr>\n",
       "  </thead>\n",
       "  <tbody>\n",
       "    <tr>\n",
       "      <th>0</th>\n",
       "      <td>2021-12-05 09:00</td>\n",
       "    </tr>\n",
       "    <tr>\n",
       "      <th>1</th>\n",
       "      <td>2021-12-05 08:30</td>\n",
       "    </tr>\n",
       "  </tbody>\n",
       "</table>\n",
       "</div>"
      ],
      "text/plain": [
       "        RECORD_TIME\n",
       "0  2021-12-05 09:00\n",
       "1  2021-12-05 08:30"
      ]
     },
     "execution_count": 3,
     "metadata": {},
     "output_type": "execute_result"
    }
   ],
   "source": [
    "timestamps"
   ]
  },
  {
   "cell_type": "code",
   "execution_count": 4,
   "id": "alternate-victory",
   "metadata": {
    "execution": {
     "iopub.execute_input": "2021-12-05T08:00:09.570143Z",
     "iopub.status.busy": "2021-12-05T08:00:09.567342Z",
     "iopub.status.idle": "2021-12-05T08:00:11.071500Z",
     "shell.execute_reply": "2021-12-05T08:00:11.073048Z"
    },
    "papermill": {
     "duration": 1.539493,
     "end_time": "2021-12-05T08:00:11.073515",
     "exception": false,
     "start_time": "2021-12-05T08:00:09.534022",
     "status": "completed"
    },
    "tags": []
   },
   "outputs": [],
   "source": [
    "df = pd.read_sql(\"select * from EBAY_TOP_BERLIN where record_time in (select distinct record_time from EBAY_TOP_BERLIN order by record_time desc limit 2)\", sqlite3.connect(\"UsedObjects.db\"))"
   ]
  },
  {
   "cell_type": "code",
   "execution_count": 5,
   "id": "popular-active",
   "metadata": {
    "execution": {
     "iopub.execute_input": "2021-12-05T08:00:11.141784Z",
     "iopub.status.busy": "2021-12-05T08:00:11.139347Z",
     "iopub.status.idle": "2021-12-05T08:00:11.171609Z",
     "shell.execute_reply": "2021-12-05T08:00:11.173059Z"
    },
    "papermill": {
     "duration": 0.0797,
     "end_time": "2021-12-05T08:00:11.173565",
     "exception": false,
     "start_time": "2021-12-05T08:00:11.093865",
     "status": "completed"
    },
    "tags": []
   },
   "outputs": [],
   "source": [
    "df_pivot = df.pivot_table(index=\"PRODUCT\", columns = \"RECORD_TIME\", values = \"LISTING_COUNT\")"
   ]
  },
  {
   "cell_type": "code",
   "execution_count": 6,
   "id": "union-huntington",
   "metadata": {
    "execution": {
     "iopub.execute_input": "2021-12-05T08:00:11.241792Z",
     "iopub.status.busy": "2021-12-05T08:00:11.239579Z",
     "iopub.status.idle": "2021-12-05T08:00:11.245553Z",
     "shell.execute_reply": "2021-12-05T08:00:11.246937Z"
    },
    "papermill": {
     "duration": 0.050949,
     "end_time": "2021-12-05T08:00:11.247422",
     "exception": false,
     "start_time": "2021-12-05T08:00:11.196473",
     "status": "completed"
    },
    "tags": []
   },
   "outputs": [],
   "source": [
    "df_pivot.columns = [\"stamp_1\", \"stamp_2\"]\n",
    "df_pivot_diff = df_pivot.diff(axis=1)"
   ]
  },
  {
   "cell_type": "code",
   "execution_count": 7,
   "id": "fifth-motion",
   "metadata": {
    "execution": {
     "iopub.execute_input": "2021-12-05T08:00:11.305512Z",
     "iopub.status.busy": "2021-12-05T08:00:11.302256Z",
     "iopub.status.idle": "2021-12-05T08:00:13.254084Z",
     "shell.execute_reply": "2021-12-05T08:00:13.256242Z"
    },
    "papermill": {
     "duration": 1.988673,
     "end_time": "2021-12-05T08:00:13.257207",
     "exception": false,
     "start_time": "2021-12-05T08:00:11.268534",
     "status": "completed"
    },
    "tags": []
   },
   "outputs": [
    {
     "data": {
      "text/plain": [
       "<AxesSubplot:ylabel='PRODUCT'>"
      ]
     },
     "execution_count": 7,
     "metadata": {},
     "output_type": "execute_result"
    },
    {
     "data": {
      "image/png": "[encoded data removed]",
      "text/plain": [
       "<Figure size 432x288 with 1 Axes>"
      ]
     },
     "metadata": {
      "needs_background": "light"
     },
     "output_type": "display_data"
    }
   ],
   "source": [
    "df_pivot_diff.sort_values(\"stamp_2\", ascending = False)[\"stamp_2\"].head(10).plot.barh()"
   ]
  },
  {
   "cell_type": "code",
   "execution_count": null,
   "id": "extra-executive",
   "metadata": {
    "papermill": {
     "duration": 0.066951,
     "end_time": "2021-12-05T08:00:13.362636",
     "exception": false,
     "start_time": "2021-12-05T08:00:13.295685",
     "status": "completed"
    },
    "tags": []
   },
   "outputs": [],
   "source": []
  }
 ],
 "metadata": {
  "kernelspec": {
   "display_name": "Python 3",
   "language": "python",
   "name": "python3"
  },
  "language_info": {
   "codemirror_mode": {
    "name": "ipython",
    "version": 3
   },
   "file_extension": ".py",
   "mimetype": "text/x-python",
   "name": "python",
   "nbconvert_exporter": "python",
   "pygments_lexer": "ipython3",
   "version": "3.9.5"
  },
  "papermill": {
   "default_parameters": {},
   "duration": 9.544688,
   "end_time": "2021-12-05T08:00:14.117273",
   "environment_variables": {},
   "exception": null,
   "input_path": "eBay_Overview.ipynb",
   "output_path": "eBay_Overview.ipynb",
   "parameters": {},
   "start_time": "2021-12-05T08:00:04.572585",
   "version": "2.3.3"
  }
 },
 "nbformat": 4,
 "nbformat_minor": 5
}