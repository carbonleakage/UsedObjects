{
 "cells": [
  {
   "cell_type": "code",
   "execution_count": 1,
   "id": "reverse-picking",
   "metadata": {
    "execution": {
     "iopub.execute_input": "2021-10-02T15:30:06.828499Z",
     "iopub.status.busy": "2021-10-02T15:30:06.826484Z",
     "iopub.status.idle": "2021-10-02T15:30:07.630989Z",
     "shell.execute_reply": "2021-10-02T15:30:07.632270Z"
    },
    "papermill": {
     "duration": 0.856512,
     "end_time": "2021-10-02T15:30:07.632886",
     "exception": false,
     "start_time": "2021-10-02T15:30:06.776374",
     "status": "completed"
    },
    "tags": []
   },
   "outputs": [],
   "source": [
    "import pandas as pd\n",
    "import sqlite3"
   ]
  },
  {
   "cell_type": "code",
   "execution_count": 2,
   "id": "innovative-syndrome",
   "metadata": {
    "execution": {
     "iopub.execute_input": "2021-10-02T15:30:07.683359Z",
     "iopub.status.busy": "2021-10-02T15:30:07.681342Z",
     "iopub.status.idle": "2021-10-02T15:30:08.110389Z",
     "shell.execute_reply": "2021-10-02T15:30:08.111669Z"
    },
    "papermill": {
     "duration": 0.458624,
     "end_time": "2021-10-02T15:30:08.112066",
     "exception": false,
     "start_time": "2021-10-02T15:30:07.653442",
     "status": "completed"
    },
    "tags": []
   },
   "outputs": [],
   "source": [
    "timestamps = pd.read_sql(\"select distinct record_time from EBAY_TOP_BERLIN order by record_time desc limit 2\", sqlite3.connect(\"UsedObjects.db\"))"
   ]
  },
  {
   "cell_type": "code",
   "execution_count": 3,
   "id": "periodic-identification",
   "metadata": {
    "execution": {
     "iopub.execute_input": "2021-10-02T15:30:08.176437Z",
     "iopub.status.busy": "2021-10-02T15:30:08.174241Z",
     "iopub.status.idle": "2021-10-02T15:30:08.194248Z",
     "shell.execute_reply": "2021-10-02T15:30:08.195541Z"
    },
    "papermill": {
     "duration": 0.064302,
     "end_time": "2021-10-02T15:30:08.195940",
     "exception": false,
     "start_time": "2021-10-02T15:30:08.131638",
     "status": "completed"
    },
    "tags": []
   },
   "outputs": [
    {
     "data": {
      "text/html": [
       "<div>\n",
       "<style scoped>\n",
       "    .dataframe tbody tr th:only-of-type {\n",
       "        vertical-align: middle;\n",
       "    }\n",
       "\n",
       "    .dataframe tbody tr th {\n",
       "        vertical-align: top;\n",
       "    }\n",
       "\n",
       "    .dataframe thead th {\n",
       "        text-align: right;\n",
       "    }\n",
       "</style>\n",
       "<table border=\"1\" class=\"dataframe\">\n",
       "  <thead>\n",
       "    <tr style=\"text-align: right;\">\n",
       "      <th></th>\n",
       "      <th>RECORD_TIME</th>\n",
       "    </tr>\n",
       "  </thead>\n",
       "  <tbody>\n",
       "    <tr>\n",
       "      <th>0</th>\n",
       "      <td>2021-10-02 17:30</td>\n",
       "    </tr>\n",
       "    <tr>\n",
       "      <th>1</th>\n",
       "      <td>2021-10-02 17:00</td>\n",
       "    </tr>\n",
       "  </tbody>\n",
       "</table>\n",
       "</div>"
      ],
      "text/plain": [
       "        RECORD_TIME\n",
       "0  2021-10-02 17:30\n",
       "1  2021-10-02 17:00"
      ]
     },
     "execution_count": 3,
     "metadata": {},
     "output_type": "execute_result"
    }
   ],
   "source": [
    "timestamps"
   ]
  },
  {
   "cell_type": "code",
   "execution_count": 4,
   "id": "alternate-victory",
   "metadata": {
    "execution": {
     "iopub.execute_input": "2021-10-02T15:30:08.247822Z",
     "iopub.status.busy": "2021-10-02T15:30:08.245881Z",
     "iopub.status.idle": "2021-10-02T15:30:08.873389Z",
     "shell.execute_reply": "2021-10-02T15:30:08.874678Z"
    },
    "papermill": {
     "duration": 0.657535,
     "end_time": "2021-10-02T15:30:08.875204",
     "exception": false,
     "start_time": "2021-10-02T15:30:08.217669",
     "status": "completed"
    },
    "tags": []
   },
   "outputs": [],
   "source": [
    "df = pd.read_sql(\"select * from EBAY_TOP_BERLIN where record_time in (select distinct record_time from EBAY_TOP_BERLIN order by record_time desc limit 2)\", sqlite3.connect(\"UsedObjects.db\"))"
   ]
  },
  {
   "cell_type": "code",
   "execution_count": 5,
   "id": "popular-active",
   "metadata": {
    "execution": {
     "iopub.execute_input": "2021-10-02T15:30:08.945666Z",
     "iopub.status.busy": "2021-10-02T15:30:08.934066Z",
     "iopub.status.idle": "2021-10-02T15:30:08.961436Z",
     "shell.execute_reply": "2021-10-02T15:30:08.962646Z"
    },
    "papermill": {
     "duration": 0.067848,
     "end_time": "2021-10-02T15:30:08.963229",
     "exception": false,
     "start_time": "2021-10-02T15:30:08.895381",
     "status": "completed"
    },
    "tags": []
   },
   "outputs": [],
   "source": [
    "df_pivot = df.pivot_table(index=\"PRODUCT\", columns = \"RECORD_TIME\", values = \"LISTING_COUNT\")"
   ]
  },
  {
   "cell_type": "code",
   "execution_count": 6,
   "id": "union-huntington",
   "metadata": {
    "execution": {
     "iopub.execute_input": "2021-10-02T15:30:09.022277Z",
     "iopub.status.busy": "2021-10-02T15:30:09.019817Z",
     "iopub.status.idle": "2021-10-02T15:30:09.025426Z",
     "shell.execute_reply": "2021-10-02T15:30:09.026708Z"
    },
    "papermill": {
     "duration": 0.041854,
     "end_time": "2021-10-02T15:30:09.027176",
     "exception": false,
     "start_time": "2021-10-02T15:30:08.985322",
     "status": "completed"
    },
    "tags": []
   },
   "outputs": [],
   "source": [
    "df_pivot.columns = [\"stamp_1\", \"stamp_2\"]\n",
    "df_pivot_diff = df_pivot.diff(axis=1)"
   ]
  },
  {
   "cell_type": "code",
   "execution_count": 7,
   "id": "fifth-motion",
   "metadata": {
    "execution": {
     "iopub.execute_input": "2021-10-02T15:30:09.081423Z",
     "iopub.status.busy": "2021-10-02T15:30:09.079070Z",
     "iopub.status.idle": "2021-10-02T15:30:10.552619Z",
     "shell.execute_reply": "2021-10-02T15:30:10.553898Z"
    },
    "papermill": {
     "duration": 1.507131,
     "end_time": "2021-10-02T15:30:10.554311",
     "exception": false,
     "start_time": "2021-10-02T15:30:09.047180",
     "status": "completed"
    },
    "tags": []
   },
   "outputs": [
    {
     "data": {
      "text/plain": [
       "<AxesSubplot:ylabel='PRODUCT'>"
      ]
     },
     "execution_count": 7,
     "metadata": {},
     "output_type": "execute_result"
    },
    {
     "data": {
      "image/png": "[encoded data removed]",
      "text/plain": [
       "<Figure size 432x288 with 1 Axes>"
      ]
     },
     "metadata": {
      "needs_background": "light"
     },
     "output_type": "display_data"
    }
   ],
   "source": [
    "df_pivot_diff.sort_values(\"stamp_2\", ascending = False)[\"stamp_2\"].head(10).plot.barh()"
   ]
  },
  {
   "cell_type": "code",
   "execution_count": null,
   "id": "extra-executive",
   "metadata": {
    "papermill": {
     "duration": 0.022071,
     "end_time": "2021-10-02T15:30:10.600728",
     "exception": false,
     "start_time": "2021-10-02T15:30:10.578657",
     "status": "completed"
    },
    "tags": []
   },
   "outputs": [],
   "source": []
  }
 ],
 "metadata": {
  "kernelspec": {
   "display_name": "Python 3",
   "language": "python",
   "name": "python3"
  },
  "language_info": {
   "codemirror_mode": {
    "name": "ipython",
    "version": 3
   },
   "file_extension": ".py",
   "mimetype": "text/x-python",
   "name": "python",
   "nbconvert_exporter": "python",
   "pygments_lexer": "ipython3",
   "version": "3.9.5"
  },
  "papermill": {
   "default_parameters": {},
   "duration": 7.824014,
   "end_time": "2021-10-02T15:30:12.195876",
   "environment_variables": {},
   "exception": null,
   "input_path": "eBay_Overview.ipynb",
   "output_path": "eBay_Overview.ipynb",
   "parameters": {},
   "start_time": "2021-10-02T15:30:04.371862",
   "version": "2.3.3"
  }
 },
 "nbformat": 4,
 "nbformat_minor": 5
}