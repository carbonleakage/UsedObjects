{
 "cells": [
  {
   "cell_type": "code",
   "execution_count": 1,
   "id": "reverse-picking",
   "metadata": {
    "execution": {
     "iopub.execute_input": "2021-09-25T16:00:07.042168Z",
     "iopub.status.busy": "2021-09-25T16:00:07.040228Z",
     "iopub.status.idle": "2021-09-25T16:00:07.849135Z",
     "shell.execute_reply": "2021-09-25T16:00:07.850364Z"
    },
    "papermill": {
     "duration": 0.859317,
     "end_time": "2021-09-25T16:00:07.851157",
     "exception": false,
     "start_time": "2021-09-25T16:00:06.991840",
     "status": "completed"
    },
    "tags": []
   },
   "outputs": [],
   "source": [
    "import pandas as pd\n",
    "import sqlite3"
   ]
  },
  {
   "cell_type": "code",
   "execution_count": 2,
   "id": "innovative-syndrome",
   "metadata": {
    "execution": {
     "iopub.execute_input": "2021-09-25T16:00:07.904093Z",
     "iopub.status.busy": "2021-09-25T16:00:07.901760Z",
     "iopub.status.idle": "2021-09-25T16:00:08.272427Z",
     "shell.execute_reply": "2021-09-25T16:00:08.273697Z"
    },
    "papermill": {
     "duration": 0.40056,
     "end_time": "2021-09-25T16:00:08.274111",
     "exception": false,
     "start_time": "2021-09-25T16:00:07.873551",
     "status": "completed"
    },
    "tags": []
   },
   "outputs": [],
   "source": [
    "timestamps = pd.read_sql(\"select distinct record_time from EBAY_TOP_BERLIN order by record_time desc limit 2\", sqlite3.connect(\"UsedObjects.db\"))"
   ]
  },
  {
   "cell_type": "code",
   "execution_count": 3,
   "id": "periodic-identification",
   "metadata": {
    "execution": {
     "iopub.execute_input": "2021-09-25T16:00:08.340152Z",
     "iopub.status.busy": "2021-09-25T16:00:08.338084Z",
     "iopub.status.idle": "2021-09-25T16:00:08.357992Z",
     "shell.execute_reply": "2021-09-25T16:00:08.359341Z"
    },
    "papermill": {
     "duration": 0.066709,
     "end_time": "2021-09-25T16:00:08.359766",
     "exception": false,
     "start_time": "2021-09-25T16:00:08.293057",
     "status": "completed"
    },
    "tags": []
   },
   "outputs": [
    {
     "data": {
      "text/html": [
       "<div>\n",
       "<style scoped>\n",
       "    .dataframe tbody tr th:only-of-type {\n",
       "        vertical-align: middle;\n",
       "    }\n",
       "\n",
       "    .dataframe tbody tr th {\n",
       "        vertical-align: top;\n",
       "    }\n",
       "\n",
       "    .dataframe thead th {\n",
       "        text-align: right;\n",
       "    }\n",
       "</style>\n",
       "<table border=\"1\" class=\"dataframe\">\n",
       "  <thead>\n",
       "    <tr style=\"text-align: right;\">\n",
       "      <th></th>\n",
       "      <th>RECORD_TIME</th>\n",
       "    </tr>\n",
       "  </thead>\n",
       "  <tbody>\n",
       "    <tr>\n",
       "      <th>0</th>\n",
       "      <td>2021-09-25 18:00</td>\n",
       "    </tr>\n",
       "    <tr>\n",
       "      <th>1</th>\n",
       "      <td>2021-09-25 17:30</td>\n",
       "    </tr>\n",
       "  </tbody>\n",
       "</table>\n",
       "</div>"
      ],
      "text/plain": [
       "        RECORD_TIME\n",
       "0  2021-09-25 18:00\n",
       "1  2021-09-25 17:30"
      ]
     },
     "execution_count": 3,
     "metadata": {},
     "output_type": "execute_result"
    }
   ],
   "source": [
    "timestamps"
   ]
  },
  {
   "cell_type": "code",
   "execution_count": 4,
   "id": "alternate-victory",
   "metadata": {
    "execution": {
     "iopub.execute_input": "2021-09-25T16:00:08.410953Z",
     "iopub.status.busy": "2021-09-25T16:00:08.408998Z",
     "iopub.status.idle": "2021-09-25T16:00:08.955187Z",
     "shell.execute_reply": "2021-09-25T16:00:08.956698Z"
    },
    "papermill": {
     "duration": 0.577036,
     "end_time": "2021-09-25T16:00:08.957146",
     "exception": false,
     "start_time": "2021-09-25T16:00:08.380110",
     "status": "completed"
    },
    "tags": []
   },
   "outputs": [],
   "source": [
    "df = pd.read_sql(\"select * from EBAY_TOP_BERLIN where record_time in (select distinct record_time from EBAY_TOP_BERLIN order by record_time desc limit 2)\", sqlite3.connect(\"UsedObjects.db\"))"
   ]
  },
  {
   "cell_type": "code",
   "execution_count": 5,
   "id": "popular-active",
   "metadata": {
    "execution": {
     "iopub.execute_input": "2021-09-25T16:00:09.028357Z",
     "iopub.status.busy": "2021-09-25T16:00:09.016370Z",
     "iopub.status.idle": "2021-09-25T16:00:09.044753Z",
     "shell.execute_reply": "2021-09-25T16:00:09.046091Z"
    },
    "papermill": {
     "duration": 0.068539,
     "end_time": "2021-09-25T16:00:09.046522",
     "exception": false,
     "start_time": "2021-09-25T16:00:08.977983",
     "status": "completed"
    },
    "tags": []
   },
   "outputs": [],
   "source": [
    "df_pivot = df.pivot_table(index=\"PRODUCT\", columns = \"RECORD_TIME\", values = \"LISTING_COUNT\")"
   ]
  },
  {
   "cell_type": "code",
   "execution_count": 6,
   "id": "union-huntington",
   "metadata": {
    "execution": {
     "iopub.execute_input": "2021-09-25T16:00:09.105917Z",
     "iopub.status.busy": "2021-09-25T16:00:09.103501Z",
     "iopub.status.idle": "2021-09-25T16:00:09.110700Z",
     "shell.execute_reply": "2021-09-25T16:00:09.109330Z"
    },
    "papermill": {
     "duration": 0.042194,
     "end_time": "2021-09-25T16:00:09.111108",
     "exception": false,
     "start_time": "2021-09-25T16:00:09.068914",
     "status": "completed"
    },
    "tags": []
   },
   "outputs": [],
   "source": [
    "df_pivot.columns = [\"stamp_1\", \"stamp_2\"]\n",
    "df_pivot_diff = df_pivot.diff(axis=1)"
   ]
  },
  {
   "cell_type": "code",
   "execution_count": 7,
   "id": "fifth-motion",
   "metadata": {
    "execution": {
     "iopub.execute_input": "2021-09-25T16:00:09.165173Z",
     "iopub.status.busy": "2021-09-25T16:00:09.162905Z",
     "iopub.status.idle": "2021-09-25T16:00:10.652409Z",
     "shell.execute_reply": "2021-09-25T16:00:10.653675Z"
    },
    "papermill": {
     "duration": 1.52254,
     "end_time": "2021-09-25T16:00:10.654091",
     "exception": false,
     "start_time": "2021-09-25T16:00:09.131551",
     "status": "completed"
    },
    "tags": []
   },
   "outputs": [
    {
     "data": {
      "text/plain": [
       "<AxesSubplot:ylabel='PRODUCT'>"
      ]
     },
     "execution_count": 7,
     "metadata": {},
     "output_type": "execute_result"
    },
    {
     "data": {
      "image/png": "[encoded data removed]",
      "text/plain": [
       "<Figure size 432x288 with 1 Axes>"
      ]
     },
     "metadata": {
      "needs_background": "light"
     },
     "output_type": "display_data"
    }
   ],
   "source": [
    "df_pivot_diff.sort_values(\"stamp_2\", ascending = False)[\"stamp_2\"].head(10).plot.barh()"
   ]
  },
  {
   "cell_type": "code",
   "execution_count": null,
   "id": "extra-executive",
   "metadata": {
    "papermill": {
     "duration": 0.022211,
     "end_time": "2021-09-25T16:00:10.700213",
     "exception": false,
     "start_time": "2021-09-25T16:00:10.678002",
     "status": "completed"
    },
    "tags": []
   },
   "outputs": [],
   "source": []
  }
 ],
 "metadata": {
  "kernelspec": {
   "display_name": "Python 3",
   "language": "python",
   "name": "python3"
  },
  "language_info": {
   "codemirror_mode": {
    "name": "ipython",
    "version": 3
   },
   "file_extension": ".py",
   "mimetype": "text/x-python",
   "name": "python",
   "nbconvert_exporter": "python",
   "pygments_lexer": "ipython3",
   "version": "3.9.5"
  },
  "papermill": {
   "default_parameters": {},
   "duration": 6.752895,
   "end_time": "2021-09-25T16:00:11.343662",
   "environment_variables": {},
   "exception": null,
   "input_path": "eBay_Overview.ipynb",
   "output_path": "eBay_Overview.ipynb",
   "parameters": {},
   "start_time": "2021-09-25T16:00:04.590767",
   "version": "2.3.3"
  }
 },
 "nbformat": 4,
 "nbformat_minor": 5
}