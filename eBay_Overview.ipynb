{
 "cells": [
  {
   "cell_type": "code",
   "execution_count": 1,
   "id": "reverse-picking",
   "metadata": {
    "execution": {
     "iopub.execute_input": "2021-12-13T09:00:07.556582Z",
     "iopub.status.busy": "2021-12-13T09:00:07.554298Z",
     "iopub.status.idle": "2021-12-13T09:00:08.510685Z",
     "shell.execute_reply": "2021-12-13T09:00:08.512233Z"
    },
    "papermill": {
     "duration": 1.005325,
     "end_time": "2021-12-13T09:00:08.513038",
     "exception": false,
     "start_time": "2021-12-13T09:00:07.507713",
     "status": "completed"
    },
    "tags": []
   },
   "outputs": [],
   "source": [
    "import pandas as pd\n",
    "import sqlite3"
   ]
  },
  {
   "cell_type": "code",
   "execution_count": 2,
   "id": "innovative-syndrome",
   "metadata": {
    "execution": {
     "iopub.execute_input": "2021-12-13T09:00:08.577153Z",
     "iopub.status.busy": "2021-12-13T09:00:08.574618Z",
     "iopub.status.idle": "2021-12-13T09:00:09.682452Z",
     "shell.execute_reply": "2021-12-13T09:00:09.683808Z"
    },
    "papermill": {
     "duration": 1.143453,
     "end_time": "2021-12-13T09:00:09.684278",
     "exception": false,
     "start_time": "2021-12-13T09:00:08.540825",
     "status": "completed"
    },
    "tags": []
   },
   "outputs": [],
   "source": [
    "timestamps = pd.read_sql(\"select distinct record_time from EBAY_TOP_BERLIN order by record_time desc limit 2\", sqlite3.connect(\"UsedObjects.db\"))"
   ]
  },
  {
   "cell_type": "code",
   "execution_count": 3,
   "id": "periodic-identification",
   "metadata": {
    "execution": {
     "iopub.execute_input": "2021-12-13T09:00:09.761456Z",
     "iopub.status.busy": "2021-12-13T09:00:09.755335Z",
     "iopub.status.idle": "2021-12-13T09:00:09.778018Z",
     "shell.execute_reply": "2021-12-13T09:00:09.779449Z"
    },
    "papermill": {
     "duration": 0.074122,
     "end_time": "2021-12-13T09:00:09.779964",
     "exception": false,
     "start_time": "2021-12-13T09:00:09.705842",
     "status": "completed"
    },
    "tags": []
   },
   "outputs": [
    {
     "data": {
      "text/html": [
       "<div>\n",
       "<style scoped>\n",
       "    .dataframe tbody tr th:only-of-type {\n",
       "        vertical-align: middle;\n",
       "    }\n",
       "\n",
       "    .dataframe tbody tr th {\n",
       "        vertical-align: top;\n",
       "    }\n",
       "\n",
       "    .dataframe thead th {\n",
       "        text-align: right;\n",
       "    }\n",
       "</style>\n",
       "<table border=\"1\" class=\"dataframe\">\n",
       "  <thead>\n",
       "    <tr style=\"text-align: right;\">\n",
       "      <th></th>\n",
       "      <th>RECORD_TIME</th>\n",
       "    </tr>\n",
       "  </thead>\n",
       "  <tbody>\n",
       "    <tr>\n",
       "      <th>0</th>\n",
       "      <td>2021-12-13 10:00</td>\n",
       "    </tr>\n",
       "    <tr>\n",
       "      <th>1</th>\n",
       "      <td>2021-12-13 09:30</td>\n",
       "    </tr>\n",
       "  </tbody>\n",
       "</table>\n",
       "</div>"
      ],
      "text/plain": [
       "        RECORD_TIME\n",
       "0  2021-12-13 10:00\n",
       "1  2021-12-13 09:30"
      ]
     },
     "execution_count": 3,
     "metadata": {},
     "output_type": "execute_result"
    }
   ],
   "source": [
    "timestamps"
   ]
  },
  {
   "cell_type": "code",
   "execution_count": 4,
   "id": "alternate-victory",
   "metadata": {
    "execution": {
     "iopub.execute_input": "2021-12-13T09:00:09.838667Z",
     "iopub.status.busy": "2021-12-13T09:00:09.836473Z",
     "iopub.status.idle": "2021-12-13T09:00:11.369308Z",
     "shell.execute_reply": "2021-12-13T09:00:11.371079Z"
    },
    "papermill": {
     "duration": 1.568394,
     "end_time": "2021-12-13T09:00:11.371576",
     "exception": false,
     "start_time": "2021-12-13T09:00:09.803182",
     "status": "completed"
    },
    "tags": []
   },
   "outputs": [],
   "source": [
    "df = pd.read_sql(\"select * from EBAY_TOP_BERLIN where record_time in (select distinct record_time from EBAY_TOP_BERLIN order by record_time desc limit 2)\", sqlite3.connect(\"UsedObjects.db\"))"
   ]
  },
  {
   "cell_type": "code",
   "execution_count": 5,
   "id": "popular-active",
   "metadata": {
    "execution": {
     "iopub.execute_input": "2021-12-13T09:00:11.448222Z",
     "iopub.status.busy": "2021-12-13T09:00:11.438776Z",
     "iopub.status.idle": "2021-12-13T09:00:11.473389Z",
     "shell.execute_reply": "2021-12-13T09:00:11.474780Z"
    },
    "papermill": {
     "duration": 0.078046,
     "end_time": "2021-12-13T09:00:11.475280",
     "exception": false,
     "start_time": "2021-12-13T09:00:11.397234",
     "status": "completed"
    },
    "tags": []
   },
   "outputs": [],
   "source": [
    "df_pivot = df.pivot_table(index=\"PRODUCT\", columns = \"RECORD_TIME\", values = \"LISTING_COUNT\")"
   ]
  },
  {
   "cell_type": "code",
   "execution_count": 6,
   "id": "union-huntington",
   "metadata": {
    "execution": {
     "iopub.execute_input": "2021-12-13T09:00:11.538001Z",
     "iopub.status.busy": "2021-12-13T09:00:11.535560Z",
     "iopub.status.idle": "2021-12-13T09:00:11.541768Z",
     "shell.execute_reply": "2021-12-13T09:00:11.543117Z"
    },
    "papermill": {
     "duration": 0.045951,
     "end_time": "2021-12-13T09:00:11.543590",
     "exception": false,
     "start_time": "2021-12-13T09:00:11.497639",
     "status": "completed"
    },
    "tags": []
   },
   "outputs": [],
   "source": [
    "df_pivot.columns = [\"stamp_1\", \"stamp_2\"]\n",
    "df_pivot_diff = df_pivot.diff(axis=1)"
   ]
  },
  {
   "cell_type": "code",
   "execution_count": 7,
   "id": "fifth-motion",
   "metadata": {
    "execution": {
     "iopub.execute_input": "2021-12-13T09:00:11.599702Z",
     "iopub.status.busy": "2021-12-13T09:00:11.597344Z",
     "iopub.status.idle": "2021-12-13T09:00:13.576310Z",
     "shell.execute_reply": "2021-12-13T09:00:13.578808Z"
    },
    "papermill": {
     "duration": 2.016032,
     "end_time": "2021-12-13T09:00:13.579519",
     "exception": false,
     "start_time": "2021-12-13T09:00:11.563487",
     "status": "completed"
    },
    "tags": []
   },
   "outputs": [
    {
     "data": {
      "text/plain": [
       "<AxesSubplot:ylabel='PRODUCT'>"
      ]
     },
     "execution_count": 7,
     "metadata": {},
     "output_type": "execute_result"
    },
    {
     "data": {
      "image/png": "[encoded data removed]",
      "text/plain": [
       "<Figure size 432x288 with 1 Axes>"
      ]
     },
     "metadata": {
      "needs_background": "light"
     },
     "output_type": "display_data"
    }
   ],
   "source": [
    "df_pivot_diff.sort_values(\"stamp_2\", ascending = False)[\"stamp_2\"].head(10).plot.barh()"
   ]
  },
  {
   "cell_type": "code",
   "execution_count": null,
   "id": "extra-executive",
   "metadata": {
    "papermill": {
     "duration": 0.03778,
     "end_time": "2021-12-13T09:00:13.657604",
     "exception": false,
     "start_time": "2021-12-13T09:00:13.619824",
     "status": "completed"
    },
    "tags": []
   },
   "outputs": [],
   "source": []
  }
 ],
 "metadata": {
  "kernelspec": {
   "display_name": "Python 3",
   "language": "python",
   "name": "python3"
  },
  "language_info": {
   "codemirror_mode": {
    "name": "ipython",
    "version": 3
   },
   "file_extension": ".py",
   "mimetype": "text/x-python",
   "name": "python",
   "nbconvert_exporter": "python",
   "pygments_lexer": "ipython3",
   "version": "3.9.5"
  },
  "papermill": {
   "default_parameters": {},
   "duration": 9.725949,
   "end_time": "2021-12-13T09:00:14.422551",
   "environment_variables": {},
   "exception": null,
   "input_path": "eBay_Overview.ipynb",
   "output_path": "eBay_Overview.ipynb",
   "parameters": {},
   "start_time": "2021-12-13T09:00:04.696602",
   "version": "2.3.3"
  }
 },
 "nbformat": 4,
 "nbformat_minor": 5
}