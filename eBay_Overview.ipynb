{
 "cells": [
  {
   "cell_type": "code",
   "execution_count": 1,
   "id": "reverse-picking",
   "metadata": {
    "execution": {
     "iopub.execute_input": "2021-10-19T06:30:06.715024Z",
     "iopub.status.busy": "2021-10-19T06:30:06.712988Z",
     "iopub.status.idle": "2021-10-19T06:30:07.522502Z",
     "shell.execute_reply": "2021-10-19T06:30:07.520421Z"
    },
    "papermill": {
     "duration": 0.859037,
     "end_time": "2021-10-19T06:30:07.523005",
     "exception": false,
     "start_time": "2021-10-19T06:30:06.663968",
     "status": "completed"
    },
    "tags": []
   },
   "outputs": [],
   "source": [
    "import pandas as pd\n",
    "import sqlite3"
   ]
  },
  {
   "cell_type": "code",
   "execution_count": 2,
   "id": "innovative-syndrome",
   "metadata": {
    "execution": {
     "iopub.execute_input": "2021-10-19T06:30:07.574774Z",
     "iopub.status.busy": "2021-10-19T06:30:07.572356Z",
     "iopub.status.idle": "2021-10-19T06:30:08.143583Z",
     "shell.execute_reply": "2021-10-19T06:30:08.144986Z"
    },
    "papermill": {
     "duration": 0.601372,
     "end_time": "2021-10-19T06:30:08.145408",
     "exception": false,
     "start_time": "2021-10-19T06:30:07.544036",
     "status": "completed"
    },
    "tags": []
   },
   "outputs": [],
   "source": [
    "timestamps = pd.read_sql(\"select distinct record_time from EBAY_TOP_BERLIN order by record_time desc limit 2\", sqlite3.connect(\"UsedObjects.db\"))"
   ]
  },
  {
   "cell_type": "code",
   "execution_count": 3,
   "id": "periodic-identification",
   "metadata": {
    "execution": {
     "iopub.execute_input": "2021-10-19T06:30:08.230372Z",
     "iopub.status.busy": "2021-10-19T06:30:08.225375Z",
     "iopub.status.idle": "2021-10-19T06:30:08.246561Z",
     "shell.execute_reply": "2021-10-19T06:30:08.247747Z"
    },
    "papermill": {
     "duration": 0.072308,
     "end_time": "2021-10-19T06:30:08.248174",
     "exception": false,
     "start_time": "2021-10-19T06:30:08.175866",
     "status": "completed"
    },
    "tags": []
   },
   "outputs": [
    {
     "data": {
      "text/html": [
       "<div>\n",
       "<style scoped>\n",
       "    .dataframe tbody tr th:only-of-type {\n",
       "        vertical-align: middle;\n",
       "    }\n",
       "\n",
       "    .dataframe tbody tr th {\n",
       "        vertical-align: top;\n",
       "    }\n",
       "\n",
       "    .dataframe thead th {\n",
       "        text-align: right;\n",
       "    }\n",
       "</style>\n",
       "<table border=\"1\" class=\"dataframe\">\n",
       "  <thead>\n",
       "    <tr style=\"text-align: right;\">\n",
       "      <th></th>\n",
       "      <th>RECORD_TIME</th>\n",
       "    </tr>\n",
       "  </thead>\n",
       "  <tbody>\n",
       "    <tr>\n",
       "      <th>0</th>\n",
       "      <td>2021-10-19 08:30</td>\n",
       "    </tr>\n",
       "    <tr>\n",
       "      <th>1</th>\n",
       "      <td>2021-10-19 08:00</td>\n",
       "    </tr>\n",
       "  </tbody>\n",
       "</table>\n",
       "</div>"
      ],
      "text/plain": [
       "        RECORD_TIME\n",
       "0  2021-10-19 08:30\n",
       "1  2021-10-19 08:00"
      ]
     },
     "execution_count": 3,
     "metadata": {},
     "output_type": "execute_result"
    }
   ],
   "source": [
    "timestamps"
   ]
  },
  {
   "cell_type": "code",
   "execution_count": 4,
   "id": "alternate-victory",
   "metadata": {
    "execution": {
     "iopub.execute_input": "2021-10-19T06:30:08.302293Z",
     "iopub.status.busy": "2021-10-19T06:30:08.299937Z",
     "iopub.status.idle": "2021-10-19T06:30:09.134143Z",
     "shell.execute_reply": "2021-10-19T06:30:09.135395Z"
    },
    "papermill": {
     "duration": 0.864248,
     "end_time": "2021-10-19T06:30:09.135785",
     "exception": false,
     "start_time": "2021-10-19T06:30:08.271537",
     "status": "completed"
    },
    "tags": []
   },
   "outputs": [],
   "source": [
    "df = pd.read_sql(\"select * from EBAY_TOP_BERLIN where record_time in (select distinct record_time from EBAY_TOP_BERLIN order by record_time desc limit 2)\", sqlite3.connect(\"UsedObjects.db\"))"
   ]
  },
  {
   "cell_type": "code",
   "execution_count": 5,
   "id": "popular-active",
   "metadata": {
    "execution": {
     "iopub.execute_input": "2021-10-19T06:30:09.207132Z",
     "iopub.status.busy": "2021-10-19T06:30:09.195040Z",
     "iopub.status.idle": "2021-10-19T06:30:09.222445Z",
     "shell.execute_reply": "2021-10-19T06:30:09.223663Z"
    },
    "papermill": {
     "duration": 0.067836,
     "end_time": "2021-10-19T06:30:09.224057",
     "exception": false,
     "start_time": "2021-10-19T06:30:09.156221",
     "status": "completed"
    },
    "tags": []
   },
   "outputs": [],
   "source": [
    "df_pivot = df.pivot_table(index=\"PRODUCT\", columns = \"RECORD_TIME\", values = \"LISTING_COUNT\")"
   ]
  },
  {
   "cell_type": "code",
   "execution_count": 6,
   "id": "union-huntington",
   "metadata": {
    "execution": {
     "iopub.execute_input": "2021-10-19T06:30:09.280403Z",
     "iopub.status.busy": "2021-10-19T06:30:09.278246Z",
     "iopub.status.idle": "2021-10-19T06:30:09.283867Z",
     "shell.execute_reply": "2021-10-19T06:30:09.285453Z"
    },
    "papermill": {
     "duration": 0.041108,
     "end_time": "2021-10-19T06:30:09.285913",
     "exception": false,
     "start_time": "2021-10-19T06:30:09.244805",
     "status": "completed"
    },
    "tags": []
   },
   "outputs": [],
   "source": [
    "df_pivot.columns = [\"stamp_1\", \"stamp_2\"]\n",
    "df_pivot_diff = df_pivot.diff(axis=1)"
   ]
  },
  {
   "cell_type": "code",
   "execution_count": 7,
   "id": "fifth-motion",
   "metadata": {
    "execution": {
     "iopub.execute_input": "2021-10-19T06:30:09.342502Z",
     "iopub.status.busy": "2021-10-19T06:30:09.339903Z",
     "iopub.status.idle": "2021-10-19T06:30:10.824150Z",
     "shell.execute_reply": "2021-10-19T06:30:10.825649Z"
    },
    "papermill": {
     "duration": 1.517724,
     "end_time": "2021-10-19T06:30:10.826097",
     "exception": false,
     "start_time": "2021-10-19T06:30:09.308373",
     "status": "completed"
    },
    "tags": []
   },
   "outputs": [
    {
     "data": {
      "text/plain": [
       "<AxesSubplot:ylabel='PRODUCT'>"
      ]
     },
     "execution_count": 7,
     "metadata": {},
     "output_type": "execute_result"
    },
    {
     "data": {
      "image/png": "[encoded data removed]",
      "text/plain": [
       "<Figure size 432x288 with 1 Axes>"
      ]
     },
     "metadata": {
      "needs_background": "light"
     },
     "output_type": "display_data"
    }
   ],
   "source": [
    "df_pivot_diff.sort_values(\"stamp_2\", ascending = False)[\"stamp_2\"].head(10).plot.barh()"
   ]
  },
  {
   "cell_type": "code",
   "execution_count": null,
   "id": "extra-executive",
   "metadata": {
    "papermill": {
     "duration": 0.021928,
     "end_time": "2021-10-19T06:30:10.871867",
     "exception": false,
     "start_time": "2021-10-19T06:30:10.849939",
     "status": "completed"
    },
    "tags": []
   },
   "outputs": [],
   "source": []
  }
 ],
 "metadata": {
  "kernelspec": {
   "display_name": "Python 3",
   "language": "python",
   "name": "python3"
  },
  "language_info": {
   "codemirror_mode": {
    "name": "ipython",
    "version": 3
   },
   "file_extension": ".py",
   "mimetype": "text/x-python",
   "name": "python",
   "nbconvert_exporter": "python",
   "pygments_lexer": "ipython3",
   "version": "3.9.5"
  },
  "papermill": {
   "default_parameters": {},
   "duration": 7.82071,
   "end_time": "2021-10-19T06:30:12.079500",
   "environment_variables": {},
   "exception": null,
   "input_path": "eBay_Overview.ipynb",
   "output_path": "eBay_Overview.ipynb",
   "parameters": {},
   "start_time": "2021-10-19T06:30:04.258790",
   "version": "2.3.3"
  }
 },
 "nbformat": 4,
 "nbformat_minor": 5
}