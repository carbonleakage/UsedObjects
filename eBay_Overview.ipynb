{
 "cells": [
  {
   "cell_type": "code",
   "execution_count": 1,
   "id": "reverse-picking",
   "metadata": {
    "execution": {
     "iopub.execute_input": "2021-10-31T11:30:06.810783Z",
     "iopub.status.busy": "2021-10-31T11:30:06.808745Z",
     "iopub.status.idle": "2021-10-31T11:30:07.611696Z",
     "shell.execute_reply": "2021-10-31T11:30:07.613037Z"
    },
    "papermill": {
     "duration": 0.853921,
     "end_time": "2021-10-31T11:30:07.613678",
     "exception": false,
     "start_time": "2021-10-31T11:30:06.759757",
     "status": "completed"
    },
    "tags": []
   },
   "outputs": [],
   "source": [
    "import pandas as pd\n",
    "import sqlite3"
   ]
  },
  {
   "cell_type": "code",
   "execution_count": 2,
   "id": "innovative-syndrome",
   "metadata": {
    "execution": {
     "iopub.execute_input": "2021-10-31T11:30:07.664176Z",
     "iopub.status.busy": "2021-10-31T11:30:07.662311Z",
     "iopub.status.idle": "2021-10-31T11:30:08.349287Z",
     "shell.execute_reply": "2021-10-31T11:30:08.350584Z"
    },
    "papermill": {
     "duration": 0.716636,
     "end_time": "2021-10-31T11:30:08.351054",
     "exception": false,
     "start_time": "2021-10-31T11:30:07.634418",
     "status": "completed"
    },
    "tags": []
   },
   "outputs": [],
   "source": [
    "timestamps = pd.read_sql(\"select distinct record_time from EBAY_TOP_BERLIN order by record_time desc limit 2\", sqlite3.connect(\"UsedObjects.db\"))"
   ]
  },
  {
   "cell_type": "code",
   "execution_count": 3,
   "id": "periodic-identification",
   "metadata": {
    "execution": {
     "iopub.execute_input": "2021-10-31T11:30:08.424769Z",
     "iopub.status.busy": "2021-10-31T11:30:08.422687Z",
     "iopub.status.idle": "2021-10-31T11:30:08.442541Z",
     "shell.execute_reply": "2021-10-31T11:30:08.443661Z"
    },
    "papermill": {
     "duration": 0.067541,
     "end_time": "2021-10-31T11:30:08.444077",
     "exception": false,
     "start_time": "2021-10-31T11:30:08.376536",
     "status": "completed"
    },
    "tags": []
   },
   "outputs": [
    {
     "data": {
      "text/html": [
       "<div>\n",
       "<style scoped>\n",
       "    .dataframe tbody tr th:only-of-type {\n",
       "        vertical-align: middle;\n",
       "    }\n",
       "\n",
       "    .dataframe tbody tr th {\n",
       "        vertical-align: top;\n",
       "    }\n",
       "\n",
       "    .dataframe thead th {\n",
       "        text-align: right;\n",
       "    }\n",
       "</style>\n",
       "<table border=\"1\" class=\"dataframe\">\n",
       "  <thead>\n",
       "    <tr style=\"text-align: right;\">\n",
       "      <th></th>\n",
       "      <th>RECORD_TIME</th>\n",
       "    </tr>\n",
       "  </thead>\n",
       "  <tbody>\n",
       "    <tr>\n",
       "      <th>0</th>\n",
       "      <td>2021-10-31 12:30</td>\n",
       "    </tr>\n",
       "    <tr>\n",
       "      <th>1</th>\n",
       "      <td>2021-10-31 12:00</td>\n",
       "    </tr>\n",
       "  </tbody>\n",
       "</table>\n",
       "</div>"
      ],
      "text/plain": [
       "        RECORD_TIME\n",
       "0  2021-10-31 12:30\n",
       "1  2021-10-31 12:00"
      ]
     },
     "execution_count": 3,
     "metadata": {},
     "output_type": "execute_result"
    }
   ],
   "source": [
    "timestamps"
   ]
  },
  {
   "cell_type": "code",
   "execution_count": 4,
   "id": "alternate-victory",
   "metadata": {
    "execution": {
     "iopub.execute_input": "2021-10-31T11:30:08.498649Z",
     "iopub.status.busy": "2021-10-31T11:30:08.496280Z",
     "iopub.status.idle": "2021-10-31T11:30:09.486750Z",
     "shell.execute_reply": "2021-10-31T11:30:09.487950Z"
    },
    "papermill": {
     "duration": 1.02088,
     "end_time": "2021-10-31T11:30:09.488362",
     "exception": false,
     "start_time": "2021-10-31T11:30:08.467482",
     "status": "completed"
    },
    "tags": []
   },
   "outputs": [],
   "source": [
    "df = pd.read_sql(\"select * from EBAY_TOP_BERLIN where record_time in (select distinct record_time from EBAY_TOP_BERLIN order by record_time desc limit 2)\", sqlite3.connect(\"UsedObjects.db\"))"
   ]
  },
  {
   "cell_type": "code",
   "execution_count": 5,
   "id": "popular-active",
   "metadata": {
    "execution": {
     "iopub.execute_input": "2021-10-31T11:30:09.548618Z",
     "iopub.status.busy": "2021-10-31T11:30:09.545723Z",
     "iopub.status.idle": "2021-10-31T11:30:09.574578Z",
     "shell.execute_reply": "2021-10-31T11:30:09.575779Z"
    },
    "papermill": {
     "duration": 0.067344,
     "end_time": "2021-10-31T11:30:09.576183",
     "exception": false,
     "start_time": "2021-10-31T11:30:09.508839",
     "status": "completed"
    },
    "tags": []
   },
   "outputs": [],
   "source": [
    "df_pivot = df.pivot_table(index=\"PRODUCT\", columns = \"RECORD_TIME\", values = \"LISTING_COUNT\")"
   ]
  },
  {
   "cell_type": "code",
   "execution_count": 6,
   "id": "union-huntington",
   "metadata": {
    "execution": {
     "iopub.execute_input": "2021-10-31T11:30:09.633078Z",
     "iopub.status.busy": "2021-10-31T11:30:09.630876Z",
     "iopub.status.idle": "2021-10-31T11:30:09.636640Z",
     "shell.execute_reply": "2021-10-31T11:30:09.638176Z"
    },
    "papermill": {
     "duration": 0.040841,
     "end_time": "2021-10-31T11:30:09.638625",
     "exception": false,
     "start_time": "2021-10-31T11:30:09.597784",
     "status": "completed"
    },
    "tags": []
   },
   "outputs": [],
   "source": [
    "df_pivot.columns = [\"stamp_1\", \"stamp_2\"]\n",
    "df_pivot_diff = df_pivot.diff(axis=1)"
   ]
  },
  {
   "cell_type": "code",
   "execution_count": 7,
   "id": "fifth-motion",
   "metadata": {
    "execution": {
     "iopub.execute_input": "2021-10-31T11:30:09.694251Z",
     "iopub.status.busy": "2021-10-31T11:30:09.691534Z",
     "iopub.status.idle": "2021-10-31T11:30:11.205580Z",
     "shell.execute_reply": "2021-10-31T11:30:11.207024Z"
    },
    "papermill": {
     "duration": 1.547945,
     "end_time": "2021-10-31T11:30:11.207476",
     "exception": false,
     "start_time": "2021-10-31T11:30:09.659531",
     "status": "completed"
    },
    "tags": []
   },
   "outputs": [
    {
     "data": {
      "text/plain": [
       "<AxesSubplot:ylabel='PRODUCT'>"
      ]
     },
     "execution_count": 7,
     "metadata": {},
     "output_type": "execute_result"
    },
    {
     "data": {
      "image/png": "[encoded data removed]",
      "text/plain": [
       "<Figure size 432x288 with 1 Axes>"
      ]
     },
     "metadata": {
      "needs_background": "light"
     },
     "output_type": "display_data"
    }
   ],
   "source": [
    "df_pivot_diff.sort_values(\"stamp_2\", ascending = False)[\"stamp_2\"].head(10).plot.barh()"
   ]
  },
  {
   "cell_type": "code",
   "execution_count": null,
   "id": "extra-executive",
   "metadata": {
    "papermill": {
     "duration": 0.022419,
     "end_time": "2021-10-31T11:30:11.254504",
     "exception": false,
     "start_time": "2021-10-31T11:30:11.232085",
     "status": "completed"
    },
    "tags": []
   },
   "outputs": [],
   "source": []
  }
 ],
 "metadata": {
  "kernelspec": {
   "display_name": "Python 3",
   "language": "python",
   "name": "python3"
  },
  "language_info": {
   "codemirror_mode": {
    "name": "ipython",
    "version": 3
   },
   "file_extension": ".py",
   "mimetype": "text/x-python",
   "name": "python",
   "nbconvert_exporter": "python",
   "pygments_lexer": "ipython3",
   "version": "3.9.5"
  },
  "papermill": {
   "default_parameters": {},
   "duration": 7.538515,
   "end_time": "2021-10-31T11:30:11.898676",
   "environment_variables": {},
   "exception": null,
   "input_path": "eBay_Overview.ipynb",
   "output_path": "eBay_Overview.ipynb",
   "parameters": {},
   "start_time": "2021-10-31T11:30:04.360161",
   "version": "2.3.3"
  }
 },
 "nbformat": 4,
 "nbformat_minor": 5
}