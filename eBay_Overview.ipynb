{
 "cells": [
  {
   "cell_type": "code",
   "execution_count": 1,
   "id": "reverse-picking",
   "metadata": {
    "execution": {
     "iopub.execute_input": "2021-11-01T09:30:11.695432Z",
     "iopub.status.busy": "2021-11-01T09:30:11.693519Z",
     "iopub.status.idle": "2021-11-01T09:30:12.497404Z",
     "shell.execute_reply": "2021-11-01T09:30:12.498758Z"
    },
    "papermill": {
     "duration": 0.854587,
     "end_time": "2021-11-01T09:30:12.499404",
     "exception": false,
     "start_time": "2021-11-01T09:30:11.644817",
     "status": "completed"
    },
    "tags": []
   },
   "outputs": [],
   "source": [
    "import pandas as pd\n",
    "import sqlite3"
   ]
  },
  {
   "cell_type": "code",
   "execution_count": 2,
   "id": "innovative-syndrome",
   "metadata": {
    "execution": {
     "iopub.execute_input": "2021-11-01T09:30:12.549680Z",
     "iopub.status.busy": "2021-11-01T09:30:12.547731Z",
     "iopub.status.idle": "2021-11-01T09:30:13.239038Z",
     "shell.execute_reply": "2021-11-01T09:30:13.240241Z"
    },
    "papermill": {
     "duration": 0.720841,
     "end_time": "2021-11-01T09:30:13.240633",
     "exception": false,
     "start_time": "2021-11-01T09:30:12.519792",
     "status": "completed"
    },
    "tags": []
   },
   "outputs": [],
   "source": [
    "timestamps = pd.read_sql(\"select distinct record_time from EBAY_TOP_BERLIN order by record_time desc limit 2\", sqlite3.connect(\"UsedObjects.db\"))"
   ]
  },
  {
   "cell_type": "code",
   "execution_count": 3,
   "id": "periodic-identification",
   "metadata": {
    "execution": {
     "iopub.execute_input": "2021-11-01T09:30:13.316056Z",
     "iopub.status.busy": "2021-11-01T09:30:13.314049Z",
     "iopub.status.idle": "2021-11-01T09:30:13.333962Z",
     "shell.execute_reply": "2021-11-01T09:30:13.335247Z"
    },
    "papermill": {
     "duration": 0.06954,
     "end_time": "2021-11-01T09:30:13.335662",
     "exception": false,
     "start_time": "2021-11-01T09:30:13.266122",
     "status": "completed"
    },
    "tags": []
   },
   "outputs": [
    {
     "data": {
      "text/html": [
       "<div>\n",
       "<style scoped>\n",
       "    .dataframe tbody tr th:only-of-type {\n",
       "        vertical-align: middle;\n",
       "    }\n",
       "\n",
       "    .dataframe tbody tr th {\n",
       "        vertical-align: top;\n",
       "    }\n",
       "\n",
       "    .dataframe thead th {\n",
       "        text-align: right;\n",
       "    }\n",
       "</style>\n",
       "<table border=\"1\" class=\"dataframe\">\n",
       "  <thead>\n",
       "    <tr style=\"text-align: right;\">\n",
       "      <th></th>\n",
       "      <th>RECORD_TIME</th>\n",
       "    </tr>\n",
       "  </thead>\n",
       "  <tbody>\n",
       "    <tr>\n",
       "      <th>0</th>\n",
       "      <td>2021-11-01 10:30</td>\n",
       "    </tr>\n",
       "    <tr>\n",
       "      <th>1</th>\n",
       "      <td>2021-11-01 10:00</td>\n",
       "    </tr>\n",
       "  </tbody>\n",
       "</table>\n",
       "</div>"
      ],
      "text/plain": [
       "        RECORD_TIME\n",
       "0  2021-11-01 10:30\n",
       "1  2021-11-01 10:00"
      ]
     },
     "execution_count": 3,
     "metadata": {},
     "output_type": "execute_result"
    }
   ],
   "source": [
    "timestamps"
   ]
  },
  {
   "cell_type": "code",
   "execution_count": 4,
   "id": "alternate-victory",
   "metadata": {
    "execution": {
     "iopub.execute_input": "2021-11-01T09:30:13.387626Z",
     "iopub.status.busy": "2021-11-01T09:30:13.385348Z",
     "iopub.status.idle": "2021-11-01T09:30:14.384964Z",
     "shell.execute_reply": "2021-11-01T09:30:14.386209Z"
    },
    "papermill": {
     "duration": 1.029755,
     "end_time": "2021-11-01T09:30:14.386607",
     "exception": false,
     "start_time": "2021-11-01T09:30:13.356852",
     "status": "completed"
    },
    "tags": []
   },
   "outputs": [],
   "source": [
    "df = pd.read_sql(\"select * from EBAY_TOP_BERLIN where record_time in (select distinct record_time from EBAY_TOP_BERLIN order by record_time desc limit 2)\", sqlite3.connect(\"UsedObjects.db\"))"
   ]
  },
  {
   "cell_type": "code",
   "execution_count": 5,
   "id": "popular-active",
   "metadata": {
    "execution": {
     "iopub.execute_input": "2021-11-01T09:30:14.458220Z",
     "iopub.status.busy": "2021-11-01T09:30:14.445395Z",
     "iopub.status.idle": "2021-11-01T09:30:14.474907Z",
     "shell.execute_reply": "2021-11-01T09:30:14.476197Z"
    },
    "papermill": {
     "duration": 0.068145,
     "end_time": "2021-11-01T09:30:14.476612",
     "exception": false,
     "start_time": "2021-11-01T09:30:14.408467",
     "status": "completed"
    },
    "tags": []
   },
   "outputs": [],
   "source": [
    "df_pivot = df.pivot_table(index=\"PRODUCT\", columns = \"RECORD_TIME\", values = \"LISTING_COUNT\")"
   ]
  },
  {
   "cell_type": "code",
   "execution_count": 6,
   "id": "union-huntington",
   "metadata": {
    "execution": {
     "iopub.execute_input": "2021-11-01T09:30:14.533150Z",
     "iopub.status.busy": "2021-11-01T09:30:14.531111Z",
     "iopub.status.idle": "2021-11-01T09:30:14.536652Z",
     "shell.execute_reply": "2021-11-01T09:30:14.538007Z"
    },
    "papermill": {
     "duration": 0.0415,
     "end_time": "2021-11-01T09:30:14.538426",
     "exception": false,
     "start_time": "2021-11-01T09:30:14.496926",
     "status": "completed"
    },
    "tags": []
   },
   "outputs": [],
   "source": [
    "df_pivot.columns = [\"stamp_1\", \"stamp_2\"]\n",
    "df_pivot_diff = df_pivot.diff(axis=1)"
   ]
  },
  {
   "cell_type": "code",
   "execution_count": 7,
   "id": "fifth-motion",
   "metadata": {
    "execution": {
     "iopub.execute_input": "2021-11-01T09:30:14.592166Z",
     "iopub.status.busy": "2021-11-01T09:30:14.589815Z",
     "iopub.status.idle": "2021-11-01T09:30:16.088895Z",
     "shell.execute_reply": "2021-11-01T09:30:16.090264Z"
    },
    "papermill": {
     "duration": 1.531804,
     "end_time": "2021-11-01T09:30:16.090705",
     "exception": false,
     "start_time": "2021-11-01T09:30:14.558901",
     "status": "completed"
    },
    "tags": []
   },
   "outputs": [
    {
     "data": {
      "text/plain": [
       "<AxesSubplot:ylabel='PRODUCT'>"
      ]
     },
     "execution_count": 7,
     "metadata": {},
     "output_type": "execute_result"
    },
    {
     "data": {
      "image/png": "[encoded data removed]",
      "text/plain": [
       "<Figure size 432x288 with 1 Axes>"
      ]
     },
     "metadata": {
      "needs_background": "light"
     },
     "output_type": "display_data"
    }
   ],
   "source": [
    "df_pivot_diff.sort_values(\"stamp_2\", ascending = False)[\"stamp_2\"].head(10).plot.barh()"
   ]
  },
  {
   "cell_type": "code",
   "execution_count": null,
   "id": "extra-executive",
   "metadata": {
    "papermill": {
     "duration": 0.022196,
     "end_time": "2021-11-01T09:30:16.137663",
     "exception": false,
     "start_time": "2021-11-01T09:30:16.115467",
     "status": "completed"
    },
    "tags": []
   },
   "outputs": [],
   "source": []
  }
 ],
 "metadata": {
  "kernelspec": {
   "display_name": "Python 3",
   "language": "python",
   "name": "python3"
  },
  "language_info": {
   "codemirror_mode": {
    "name": "ipython",
    "version": 3
   },
   "file_extension": ".py",
   "mimetype": "text/x-python",
   "name": "python",
   "nbconvert_exporter": "python",
   "pygments_lexer": "ipython3",
   "version": "3.9.5"
  },
  "papermill": {
   "default_parameters": {},
   "duration": 7.543651,
   "end_time": "2021-11-01T09:30:16.781446",
   "environment_variables": {},
   "exception": null,
   "input_path": "eBay_Overview.ipynb",
   "output_path": "eBay_Overview.ipynb",
   "parameters": {},
   "start_time": "2021-11-01T09:30:09.237795",
   "version": "2.3.3"
  }
 },
 "nbformat": 4,
 "nbformat_minor": 5
}