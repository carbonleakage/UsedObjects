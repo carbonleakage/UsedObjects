{
 "cells": [
  {
   "cell_type": "code",
   "execution_count": 1,
   "id": "reverse-picking",
   "metadata": {
    "execution": {
     "iopub.execute_input": "2021-09-26T04:30:06.762995Z",
     "iopub.status.busy": "2021-09-26T04:30:06.760979Z",
     "iopub.status.idle": "2021-09-26T04:30:07.567911Z",
     "shell.execute_reply": "2021-09-26T04:30:07.569169Z"
    },
    "papermill": {
     "duration": 0.859557,
     "end_time": "2021-09-26T04:30:07.569792",
     "exception": false,
     "start_time": "2021-09-26T04:30:06.710235",
     "status": "completed"
    },
    "tags": []
   },
   "outputs": [],
   "source": [
    "import pandas as pd\n",
    "import sqlite3"
   ]
  },
  {
   "cell_type": "code",
   "execution_count": 2,
   "id": "innovative-syndrome",
   "metadata": {
    "execution": {
     "iopub.execute_input": "2021-09-26T04:30:07.620979Z",
     "iopub.status.busy": "2021-09-26T04:30:07.619122Z",
     "iopub.status.idle": "2021-09-26T04:30:07.995927Z",
     "shell.execute_reply": "2021-09-26T04:30:07.997216Z"
    },
    "papermill": {
     "duration": 0.406277,
     "end_time": "2021-09-26T04:30:07.997631",
     "exception": false,
     "start_time": "2021-09-26T04:30:07.591354",
     "status": "completed"
    },
    "tags": []
   },
   "outputs": [],
   "source": [
    "timestamps = pd.read_sql(\"select distinct record_time from EBAY_TOP_BERLIN order by record_time desc limit 2\", sqlite3.connect(\"UsedObjects.db\"))"
   ]
  },
  {
   "cell_type": "code",
   "execution_count": 3,
   "id": "periodic-identification",
   "metadata": {
    "execution": {
     "iopub.execute_input": "2021-09-26T04:30:08.062399Z",
     "iopub.status.busy": "2021-09-26T04:30:08.060392Z",
     "iopub.status.idle": "2021-09-26T04:30:08.082468Z",
     "shell.execute_reply": "2021-09-26T04:30:08.083832Z"
    },
    "papermill": {
     "duration": 0.067614,
     "end_time": "2021-09-26T04:30:08.084297",
     "exception": false,
     "start_time": "2021-09-26T04:30:08.016683",
     "status": "completed"
    },
    "tags": []
   },
   "outputs": [
    {
     "data": {
      "text/html": [
       "<div>\n",
       "<style scoped>\n",
       "    .dataframe tbody tr th:only-of-type {\n",
       "        vertical-align: middle;\n",
       "    }\n",
       "\n",
       "    .dataframe tbody tr th {\n",
       "        vertical-align: top;\n",
       "    }\n",
       "\n",
       "    .dataframe thead th {\n",
       "        text-align: right;\n",
       "    }\n",
       "</style>\n",
       "<table border=\"1\" class=\"dataframe\">\n",
       "  <thead>\n",
       "    <tr style=\"text-align: right;\">\n",
       "      <th></th>\n",
       "      <th>RECORD_TIME</th>\n",
       "    </tr>\n",
       "  </thead>\n",
       "  <tbody>\n",
       "    <tr>\n",
       "      <th>0</th>\n",
       "      <td>2021-09-26 06:30</td>\n",
       "    </tr>\n",
       "    <tr>\n",
       "      <th>1</th>\n",
       "      <td>2021-09-26 06:00</td>\n",
       "    </tr>\n",
       "  </tbody>\n",
       "</table>\n",
       "</div>"
      ],
      "text/plain": [
       "        RECORD_TIME\n",
       "0  2021-09-26 06:30\n",
       "1  2021-09-26 06:00"
      ]
     },
     "execution_count": 3,
     "metadata": {},
     "output_type": "execute_result"
    }
   ],
   "source": [
    "timestamps"
   ]
  },
  {
   "cell_type": "code",
   "execution_count": 4,
   "id": "alternate-victory",
   "metadata": {
    "execution": {
     "iopub.execute_input": "2021-09-26T04:30:08.137054Z",
     "iopub.status.busy": "2021-09-26T04:30:08.134964Z",
     "iopub.status.idle": "2021-09-26T04:30:08.691872Z",
     "shell.execute_reply": "2021-09-26T04:30:08.690480Z"
    },
    "papermill": {
     "duration": 0.585945,
     "end_time": "2021-09-26T04:30:08.692214",
     "exception": false,
     "start_time": "2021-09-26T04:30:08.106269",
     "status": "completed"
    },
    "tags": []
   },
   "outputs": [],
   "source": [
    "df = pd.read_sql(\"select * from EBAY_TOP_BERLIN where record_time in (select distinct record_time from EBAY_TOP_BERLIN order by record_time desc limit 2)\", sqlite3.connect(\"UsedObjects.db\"))"
   ]
  },
  {
   "cell_type": "code",
   "execution_count": 5,
   "id": "popular-active",
   "metadata": {
    "execution": {
     "iopub.execute_input": "2021-09-26T04:30:08.772794Z",
     "iopub.status.busy": "2021-09-26T04:30:08.760370Z",
     "iopub.status.idle": "2021-09-26T04:30:08.788144Z",
     "shell.execute_reply": "2021-09-26T04:30:08.789340Z"
    },
    "papermill": {
     "duration": 0.071968,
     "end_time": "2021-09-26T04:30:08.789732",
     "exception": false,
     "start_time": "2021-09-26T04:30:08.717764",
     "status": "completed"
    },
    "tags": []
   },
   "outputs": [],
   "source": [
    "df_pivot = df.pivot_table(index=\"PRODUCT\", columns = \"RECORD_TIME\", values = \"LISTING_COUNT\")"
   ]
  },
  {
   "cell_type": "code",
   "execution_count": 6,
   "id": "union-huntington",
   "metadata": {
    "execution": {
     "iopub.execute_input": "2021-09-26T04:30:08.848882Z",
     "iopub.status.busy": "2021-09-26T04:30:08.846391Z",
     "iopub.status.idle": "2021-09-26T04:30:08.852367Z",
     "shell.execute_reply": "2021-09-26T04:30:08.853636Z"
    },
    "papermill": {
     "duration": 0.042077,
     "end_time": "2021-09-26T04:30:08.854047",
     "exception": false,
     "start_time": "2021-09-26T04:30:08.811970",
     "status": "completed"
    },
    "tags": []
   },
   "outputs": [],
   "source": [
    "df_pivot.columns = [\"stamp_1\", \"stamp_2\"]\n",
    "df_pivot_diff = df_pivot.diff(axis=1)"
   ]
  },
  {
   "cell_type": "code",
   "execution_count": 7,
   "id": "fifth-motion",
   "metadata": {
    "execution": {
     "iopub.execute_input": "2021-09-26T04:30:08.907477Z",
     "iopub.status.busy": "2021-09-26T04:30:08.905167Z",
     "iopub.status.idle": "2021-09-26T04:30:10.384331Z",
     "shell.execute_reply": "2021-09-26T04:30:10.385843Z"
    },
    "papermill": {
     "duration": 1.51178,
     "end_time": "2021-09-26T04:30:10.386306",
     "exception": false,
     "start_time": "2021-09-26T04:30:08.874526",
     "status": "completed"
    },
    "tags": []
   },
   "outputs": [
    {
     "data": {
      "text/plain": [
       "<AxesSubplot:ylabel='PRODUCT'>"
      ]
     },
     "execution_count": 7,
     "metadata": {},
     "output_type": "execute_result"
    },
    {
     "data": {
      "image/png": "[encoded data removed]",
      "text/plain": [
       "<Figure size 432x288 with 1 Axes>"
      ]
     },
     "metadata": {
      "needs_background": "light"
     },
     "output_type": "display_data"
    }
   ],
   "source": [
    "df_pivot_diff.sort_values(\"stamp_2\", ascending = False)[\"stamp_2\"].head(10).plot.barh()"
   ]
  },
  {
   "cell_type": "code",
   "execution_count": null,
   "id": "extra-executive",
   "metadata": {
    "papermill": {
     "duration": 0.022258,
     "end_time": "2021-09-26T04:30:10.433263",
     "exception": false,
     "start_time": "2021-09-26T04:30:10.411005",
     "status": "completed"
    },
    "tags": []
   },
   "outputs": [],
   "source": []
  }
 ],
 "metadata": {
  "kernelspec": {
   "display_name": "Python 3",
   "language": "python",
   "name": "python3"
  },
  "language_info": {
   "codemirror_mode": {
    "name": "ipython",
    "version": 3
   },
   "file_extension": ".py",
   "mimetype": "text/x-python",
   "name": "python",
   "nbconvert_exporter": "python",
   "pygments_lexer": "ipython3",
   "version": "3.9.5"
  },
  "papermill": {
   "default_parameters": {},
   "duration": 6.763462,
   "end_time": "2021-09-26T04:30:11.076430",
   "environment_variables": {},
   "exception": null,
   "input_path": "eBay_Overview.ipynb",
   "output_path": "eBay_Overview.ipynb",
   "parameters": {},
   "start_time": "2021-09-26T04:30:04.312968",
   "version": "2.3.3"
  }
 },
 "nbformat": 4,
 "nbformat_minor": 5
}