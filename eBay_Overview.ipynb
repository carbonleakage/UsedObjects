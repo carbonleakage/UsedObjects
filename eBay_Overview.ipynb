{
 "cells": [
  {
   "cell_type": "code",
   "execution_count": 1,
   "id": "reverse-picking",
   "metadata": {
    "execution": {
     "iopub.execute_input": "2021-12-20T11:30:07.452065Z",
     "iopub.status.busy": "2021-12-20T11:30:07.449612Z",
     "iopub.status.idle": "2021-12-20T11:30:08.414776Z",
     "shell.execute_reply": "2021-12-20T11:30:08.417670Z"
    },
    "papermill": {
     "duration": 1.016045,
     "end_time": "2021-12-20T11:30:08.418423",
     "exception": false,
     "start_time": "2021-12-20T11:30:07.402378",
     "status": "completed"
    },
    "tags": []
   },
   "outputs": [],
   "source": [
    "import pandas as pd\n",
    "import sqlite3"
   ]
  },
  {
   "cell_type": "code",
   "execution_count": 2,
   "id": "innovative-syndrome",
   "metadata": {
    "execution": {
     "iopub.execute_input": "2021-12-20T11:30:08.474407Z",
     "iopub.status.busy": "2021-12-20T11:30:08.472174Z",
     "iopub.status.idle": "2021-12-20T11:30:09.606219Z",
     "shell.execute_reply": "2021-12-20T11:30:09.608579Z"
    },
    "papermill": {
     "duration": 1.169485,
     "end_time": "2021-12-20T11:30:09.609172",
     "exception": false,
     "start_time": "2021-12-20T11:30:08.439687",
     "status": "completed"
    },
    "tags": []
   },
   "outputs": [],
   "source": [
    "timestamps = pd.read_sql(\"select distinct record_time from EBAY_TOP_BERLIN order by record_time desc limit 2\", sqlite3.connect(\"UsedObjects.db\"))"
   ]
  },
  {
   "cell_type": "code",
   "execution_count": 3,
   "id": "periodic-identification",
   "metadata": {
    "execution": {
     "iopub.execute_input": "2021-12-20T11:30:09.682904Z",
     "iopub.status.busy": "2021-12-20T11:30:09.680563Z",
     "iopub.status.idle": "2021-12-20T11:30:09.704628Z",
     "shell.execute_reply": "2021-12-20T11:30:09.702860Z"
    },
    "papermill": {
     "duration": 0.074983,
     "end_time": "2021-12-20T11:30:09.705133",
     "exception": false,
     "start_time": "2021-12-20T11:30:09.630150",
     "status": "completed"
    },
    "tags": []
   },
   "outputs": [
    {
     "data": {
      "text/html": [
       "<div>\n",
       "<style scoped>\n",
       "    .dataframe tbody tr th:only-of-type {\n",
       "        vertical-align: middle;\n",
       "    }\n",
       "\n",
       "    .dataframe tbody tr th {\n",
       "        vertical-align: top;\n",
       "    }\n",
       "\n",
       "    .dataframe thead th {\n",
       "        text-align: right;\n",
       "    }\n",
       "</style>\n",
       "<table border=\"1\" class=\"dataframe\">\n",
       "  <thead>\n",
       "    <tr style=\"text-align: right;\">\n",
       "      <th></th>\n",
       "      <th>RECORD_TIME</th>\n",
       "    </tr>\n",
       "  </thead>\n",
       "  <tbody>\n",
       "    <tr>\n",
       "      <th>0</th>\n",
       "      <td>2021-12-20 12:30</td>\n",
       "    </tr>\n",
       "    <tr>\n",
       "      <th>1</th>\n",
       "      <td>2021-12-20 12:00</td>\n",
       "    </tr>\n",
       "  </tbody>\n",
       "</table>\n",
       "</div>"
      ],
      "text/plain": [
       "        RECORD_TIME\n",
       "0  2021-12-20 12:30\n",
       "1  2021-12-20 12:00"
      ]
     },
     "execution_count": 3,
     "metadata": {},
     "output_type": "execute_result"
    }
   ],
   "source": [
    "timestamps"
   ]
  },
  {
   "cell_type": "code",
   "execution_count": 4,
   "id": "alternate-victory",
   "metadata": {
    "execution": {
     "iopub.execute_input": "2021-12-20T11:30:09.762770Z",
     "iopub.status.busy": "2021-12-20T11:30:09.760378Z",
     "iopub.status.idle": "2021-12-20T11:30:11.411304Z",
     "shell.execute_reply": "2021-12-20T11:30:11.413535Z"
    },
    "papermill": {
     "duration": 1.687061,
     "end_time": "2021-12-20T11:30:11.414030",
     "exception": false,
     "start_time": "2021-12-20T11:30:09.726969",
     "status": "completed"
    },
    "tags": []
   },
   "outputs": [],
   "source": [
    "df = pd.read_sql(\"select * from EBAY_TOP_BERLIN where record_time in (select distinct record_time from EBAY_TOP_BERLIN order by record_time desc limit 2)\", sqlite3.connect(\"UsedObjects.db\"))"
   ]
  },
  {
   "cell_type": "code",
   "execution_count": 5,
   "id": "popular-active",
   "metadata": {
    "execution": {
     "iopub.execute_input": "2021-12-20T11:30:11.491746Z",
     "iopub.status.busy": "2021-12-20T11:30:11.477828Z",
     "iopub.status.idle": "2021-12-20T11:30:11.509663Z",
     "shell.execute_reply": "2021-12-20T11:30:11.511049Z"
    },
    "papermill": {
     "duration": 0.075996,
     "end_time": "2021-12-20T11:30:11.511527",
     "exception": false,
     "start_time": "2021-12-20T11:30:11.435531",
     "status": "completed"
    },
    "tags": []
   },
   "outputs": [],
   "source": [
    "df_pivot = df.pivot_table(index=\"PRODUCT\", columns = \"RECORD_TIME\", values = \"LISTING_COUNT\")"
   ]
  },
  {
   "cell_type": "code",
   "execution_count": 6,
   "id": "union-huntington",
   "metadata": {
    "execution": {
     "iopub.execute_input": "2021-12-20T11:30:11.570637Z",
     "iopub.status.busy": "2021-12-20T11:30:11.568291Z",
     "iopub.status.idle": "2021-12-20T11:30:11.575608Z",
     "shell.execute_reply": "2021-12-20T11:30:11.574134Z"
    },
    "papermill": {
     "duration": 0.043927,
     "end_time": "2021-12-20T11:30:11.576030",
     "exception": false,
     "start_time": "2021-12-20T11:30:11.532103",
     "status": "completed"
    },
    "tags": []
   },
   "outputs": [],
   "source": [
    "df_pivot.columns = [\"stamp_1\", \"stamp_2\"]\n",
    "df_pivot_diff = df_pivot.diff(axis=1)"
   ]
  },
  {
   "cell_type": "code",
   "execution_count": 7,
   "id": "fifth-motion",
   "metadata": {
    "execution": {
     "iopub.execute_input": "2021-12-20T11:30:11.641296Z",
     "iopub.status.busy": "2021-12-20T11:30:11.630877Z",
     "iopub.status.idle": "2021-12-20T11:30:13.562321Z",
     "shell.execute_reply": "2021-12-20T11:30:13.563664Z"
    },
    "papermill": {
     "duration": 1.966634,
     "end_time": "2021-12-20T11:30:13.564091",
     "exception": false,
     "start_time": "2021-12-20T11:30:11.597457",
     "status": "completed"
    },
    "tags": []
   },
   "outputs": [
    {
     "data": {
      "text/plain": [
       "<AxesSubplot:ylabel='PRODUCT'>"
      ]
     },
     "execution_count": 7,
     "metadata": {},
     "output_type": "execute_result"
    },
    {
     "data": {
      "image/png": "[encoded data removed]",
      "text/plain": [
       "<Figure size 432x288 with 1 Axes>"
      ]
     },
     "metadata": {
      "needs_background": "light"
     },
     "output_type": "display_data"
    }
   ],
   "source": [
    "df_pivot_diff.sort_values(\"stamp_2\", ascending = False)[\"stamp_2\"].head(10).plot.barh()"
   ]
  },
  {
   "cell_type": "code",
   "execution_count": null,
   "id": "extra-executive",
   "metadata": {
    "papermill": {
     "duration": 0.022784,
     "end_time": "2021-12-20T11:30:13.611264",
     "exception": false,
     "start_time": "2021-12-20T11:30:13.588480",
     "status": "completed"
    },
    "tags": []
   },
   "outputs": [],
   "source": []
  }
 ],
 "metadata": {
  "kernelspec": {
   "display_name": "Python 3",
   "language": "python",
   "name": "python3"
  },
  "language_info": {
   "codemirror_mode": {
    "name": "ipython",
    "version": 3
   },
   "file_extension": ".py",
   "mimetype": "text/x-python",
   "name": "python",
   "nbconvert_exporter": "python",
   "pygments_lexer": "ipython3",
   "version": "3.9.5"
  },
  "papermill": {
   "default_parameters": {},
   "duration": 9.593432,
   "end_time": "2021-12-20T11:30:14.252154",
   "environment_variables": {},
   "exception": null,
   "input_path": "eBay_Overview.ipynb",
   "output_path": "eBay_Overview.ipynb",
   "parameters": {},
   "start_time": "2021-12-20T11:30:04.658722",
   "version": "2.3.3"
  }
 },
 "nbformat": 4,
 "nbformat_minor": 5
}