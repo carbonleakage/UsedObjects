{
 "cells": [
  {
   "cell_type": "code",
   "execution_count": 1,
   "id": "reverse-picking",
   "metadata": {
    "execution": {
     "iopub.execute_input": "2021-12-14T21:30:07.976096Z",
     "iopub.status.busy": "2021-12-14T21:30:07.973613Z",
     "iopub.status.idle": "2021-12-14T21:30:08.911538Z",
     "shell.execute_reply": "2021-12-14T21:30:08.914399Z"
    },
    "papermill": {
     "duration": 0.989576,
     "end_time": "2021-12-14T21:30:08.915164",
     "exception": false,
     "start_time": "2021-12-14T21:30:07.925588",
     "status": "completed"
    },
    "tags": []
   },
   "outputs": [],
   "source": [
    "import pandas as pd\n",
    "import sqlite3"
   ]
  },
  {
   "cell_type": "code",
   "execution_count": 2,
   "id": "innovative-syndrome",
   "metadata": {
    "execution": {
     "iopub.execute_input": "2021-12-14T21:30:08.969900Z",
     "iopub.status.busy": "2021-12-14T21:30:08.967634Z",
     "iopub.status.idle": "2021-12-14T21:30:10.061766Z",
     "shell.execute_reply": "2021-12-14T21:30:10.064240Z"
    },
    "papermill": {
     "duration": 1.128886,
     "end_time": "2021-12-14T21:30:10.064872",
     "exception": false,
     "start_time": "2021-12-14T21:30:08.935986",
     "status": "completed"
    },
    "tags": []
   },
   "outputs": [],
   "source": [
    "timestamps = pd.read_sql(\"select distinct record_time from EBAY_TOP_BERLIN order by record_time desc limit 2\", sqlite3.connect(\"UsedObjects.db\"))"
   ]
  },
  {
   "cell_type": "code",
   "execution_count": 3,
   "id": "periodic-identification",
   "metadata": {
    "execution": {
     "iopub.execute_input": "2021-12-14T21:30:10.138095Z",
     "iopub.status.busy": "2021-12-14T21:30:10.135719Z",
     "iopub.status.idle": "2021-12-14T21:30:10.157786Z",
     "shell.execute_reply": "2021-12-14T21:30:10.159119Z"
    },
    "papermill": {
     "duration": 0.071823,
     "end_time": "2021-12-14T21:30:10.159599",
     "exception": false,
     "start_time": "2021-12-14T21:30:10.087776",
     "status": "completed"
    },
    "tags": []
   },
   "outputs": [
    {
     "data": {
      "text/html": [
       "<div>\n",
       "<style scoped>\n",
       "    .dataframe tbody tr th:only-of-type {\n",
       "        vertical-align: middle;\n",
       "    }\n",
       "\n",
       "    .dataframe tbody tr th {\n",
       "        vertical-align: top;\n",
       "    }\n",
       "\n",
       "    .dataframe thead th {\n",
       "        text-align: right;\n",
       "    }\n",
       "</style>\n",
       "<table border=\"1\" class=\"dataframe\">\n",
       "  <thead>\n",
       "    <tr style=\"text-align: right;\">\n",
       "      <th></th>\n",
       "      <th>RECORD_TIME</th>\n",
       "    </tr>\n",
       "  </thead>\n",
       "  <tbody>\n",
       "    <tr>\n",
       "      <th>0</th>\n",
       "      <td>2021-12-14 22:30</td>\n",
       "    </tr>\n",
       "    <tr>\n",
       "      <th>1</th>\n",
       "      <td>2021-12-14 22:00</td>\n",
       "    </tr>\n",
       "  </tbody>\n",
       "</table>\n",
       "</div>"
      ],
      "text/plain": [
       "        RECORD_TIME\n",
       "0  2021-12-14 22:30\n",
       "1  2021-12-14 22:00"
      ]
     },
     "execution_count": 3,
     "metadata": {},
     "output_type": "execute_result"
    }
   ],
   "source": [
    "timestamps"
   ]
  },
  {
   "cell_type": "code",
   "execution_count": 4,
   "id": "alternate-victory",
   "metadata": {
    "execution": {
     "iopub.execute_input": "2021-12-14T21:30:10.222285Z",
     "iopub.status.busy": "2021-12-14T21:30:10.220029Z",
     "iopub.status.idle": "2021-12-14T21:30:11.781364Z",
     "shell.execute_reply": "2021-12-14T21:30:11.782882Z"
    },
    "papermill": {
     "duration": 1.601976,
     "end_time": "2021-12-14T21:30:11.783410",
     "exception": false,
     "start_time": "2021-12-14T21:30:10.181434",
     "status": "completed"
    },
    "tags": []
   },
   "outputs": [],
   "source": [
    "df = pd.read_sql(\"select * from EBAY_TOP_BERLIN where record_time in (select distinct record_time from EBAY_TOP_BERLIN order by record_time desc limit 2)\", sqlite3.connect(\"UsedObjects.db\"))"
   ]
  },
  {
   "cell_type": "code",
   "execution_count": 5,
   "id": "popular-active",
   "metadata": {
    "execution": {
     "iopub.execute_input": "2021-12-14T21:30:11.845850Z",
     "iopub.status.busy": "2021-12-14T21:30:11.842711Z",
     "iopub.status.idle": "2021-12-14T21:30:11.887351Z",
     "shell.execute_reply": "2021-12-14T21:30:11.889493Z"
    },
    "papermill": {
     "duration": 0.084436,
     "end_time": "2021-12-14T21:30:11.890060",
     "exception": false,
     "start_time": "2021-12-14T21:30:11.805624",
     "status": "completed"
    },
    "tags": []
   },
   "outputs": [],
   "source": [
    "df_pivot = df.pivot_table(index=\"PRODUCT\", columns = \"RECORD_TIME\", values = \"LISTING_COUNT\")"
   ]
  },
  {
   "cell_type": "code",
   "execution_count": 6,
   "id": "union-huntington",
   "metadata": {
    "execution": {
     "iopub.execute_input": "2021-12-14T21:30:11.950784Z",
     "iopub.status.busy": "2021-12-14T21:30:11.948528Z",
     "iopub.status.idle": "2021-12-14T21:30:11.953805Z",
     "shell.execute_reply": "2021-12-14T21:30:11.955182Z"
    },
    "papermill": {
     "duration": 0.044482,
     "end_time": "2021-12-14T21:30:11.955661",
     "exception": false,
     "start_time": "2021-12-14T21:30:11.911179",
     "status": "completed"
    },
    "tags": []
   },
   "outputs": [],
   "source": [
    "df_pivot.columns = [\"stamp_1\", \"stamp_2\"]\n",
    "df_pivot_diff = df_pivot.diff(axis=1)"
   ]
  },
  {
   "cell_type": "code",
   "execution_count": 7,
   "id": "fifth-motion",
   "metadata": {
    "execution": {
     "iopub.execute_input": "2021-12-14T21:30:12.011708Z",
     "iopub.status.busy": "2021-12-14T21:30:12.009273Z",
     "iopub.status.idle": "2021-12-14T21:30:13.990871Z",
     "shell.execute_reply": "2021-12-14T21:30:13.992848Z"
    },
    "papermill": {
     "duration": 2.01775,
     "end_time": "2021-12-14T21:30:13.993462",
     "exception": false,
     "start_time": "2021-12-14T21:30:11.975712",
     "status": "completed"
    },
    "tags": []
   },
   "outputs": [
    {
     "data": {
      "text/plain": [
       "<AxesSubplot:ylabel='PRODUCT'>"
      ]
     },
     "execution_count": 7,
     "metadata": {},
     "output_type": "execute_result"
    },
    {
     "data": {
      "image/png": "[encoded data removed]",
      "text/plain": [
       "<Figure size 432x288 with 1 Axes>"
      ]
     },
     "metadata": {
      "needs_background": "light"
     },
     "output_type": "display_data"
    }
   ],
   "source": [
    "df_pivot_diff.sort_values(\"stamp_2\", ascending = False)[\"stamp_2\"].head(10).plot.barh()"
   ]
  },
  {
   "cell_type": "code",
   "execution_count": null,
   "id": "extra-executive",
   "metadata": {
    "papermill": {
     "duration": 0.026714,
     "end_time": "2021-12-14T21:30:14.059702",
     "exception": false,
     "start_time": "2021-12-14T21:30:14.032988",
     "status": "completed"
    },
    "tags": []
   },
   "outputs": [],
   "source": []
  }
 ],
 "metadata": {
  "kernelspec": {
   "display_name": "Python 3",
   "language": "python",
   "name": "python3"
  },
  "language_info": {
   "codemirror_mode": {
    "name": "ipython",
    "version": 3
   },
   "file_extension": ".py",
   "mimetype": "text/x-python",
   "name": "python",
   "nbconvert_exporter": "python",
   "pygments_lexer": "ipython3",
   "version": "3.9.5"
  },
  "papermill": {
   "default_parameters": {},
   "duration": 9.49784,
   "end_time": "2021-12-14T21:30:14.706421",
   "environment_variables": {},
   "exception": null,
   "input_path": "eBay_Overview.ipynb",
   "output_path": "eBay_Overview.ipynb",
   "parameters": {},
   "start_time": "2021-12-14T21:30:05.208581",
   "version": "2.3.3"
  }
 },
 "nbformat": 4,
 "nbformat_minor": 5
}