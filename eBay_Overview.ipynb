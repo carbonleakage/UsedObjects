{
 "cells": [
  {
   "cell_type": "code",
   "execution_count": 1,
   "id": "reverse-picking",
   "metadata": {
    "execution": {
     "iopub.execute_input": "2021-10-30T09:00:07.429507Z",
     "iopub.status.busy": "2021-10-30T09:00:07.427464Z",
     "iopub.status.idle": "2021-10-30T09:00:08.231595Z",
     "shell.execute_reply": "2021-10-30T09:00:08.232895Z"
    },
    "papermill": {
     "duration": 0.854732,
     "end_time": "2021-10-30T09:00:08.233533",
     "exception": false,
     "start_time": "2021-10-30T09:00:07.378801",
     "status": "completed"
    },
    "tags": []
   },
   "outputs": [],
   "source": [
    "import pandas as pd\n",
    "import sqlite3"
   ]
  },
  {
   "cell_type": "code",
   "execution_count": 2,
   "id": "innovative-syndrome",
   "metadata": {
    "execution": {
     "iopub.execute_input": "2021-10-30T09:00:08.286240Z",
     "iopub.status.busy": "2021-10-30T09:00:08.284113Z",
     "iopub.status.idle": "2021-10-30T09:00:08.961063Z",
     "shell.execute_reply": "2021-10-30T09:00:08.962278Z"
    },
    "papermill": {
     "duration": 0.706627,
     "end_time": "2021-10-30T09:00:08.962669",
     "exception": false,
     "start_time": "2021-10-30T09:00:08.256042",
     "status": "completed"
    },
    "tags": []
   },
   "outputs": [],
   "source": [
    "timestamps = pd.read_sql(\"select distinct record_time from EBAY_TOP_BERLIN order by record_time desc limit 2\", sqlite3.connect(\"UsedObjects.db\"))"
   ]
  },
  {
   "cell_type": "code",
   "execution_count": 3,
   "id": "periodic-identification",
   "metadata": {
    "execution": {
     "iopub.execute_input": "2021-10-30T09:00:09.043525Z",
     "iopub.status.busy": "2021-10-30T09:00:09.041511Z",
     "iopub.status.idle": "2021-10-30T09:00:09.063497Z",
     "shell.execute_reply": "2021-10-30T09:00:09.061738Z"
    },
    "papermill": {
     "duration": 0.071802,
     "end_time": "2021-10-30T09:00:09.063971",
     "exception": false,
     "start_time": "2021-10-30T09:00:08.992169",
     "status": "completed"
    },
    "tags": []
   },
   "outputs": [
    {
     "data": {
      "text/html": [
       "<div>\n",
       "<style scoped>\n",
       "    .dataframe tbody tr th:only-of-type {\n",
       "        vertical-align: middle;\n",
       "    }\n",
       "\n",
       "    .dataframe tbody tr th {\n",
       "        vertical-align: top;\n",
       "    }\n",
       "\n",
       "    .dataframe thead th {\n",
       "        text-align: right;\n",
       "    }\n",
       "</style>\n",
       "<table border=\"1\" class=\"dataframe\">\n",
       "  <thead>\n",
       "    <tr style=\"text-align: right;\">\n",
       "      <th></th>\n",
       "      <th>RECORD_TIME</th>\n",
       "    </tr>\n",
       "  </thead>\n",
       "  <tbody>\n",
       "    <tr>\n",
       "      <th>0</th>\n",
       "      <td>2021-10-30 11:00</td>\n",
       "    </tr>\n",
       "    <tr>\n",
       "      <th>1</th>\n",
       "      <td>2021-10-30 10:30</td>\n",
       "    </tr>\n",
       "  </tbody>\n",
       "</table>\n",
       "</div>"
      ],
      "text/plain": [
       "        RECORD_TIME\n",
       "0  2021-10-30 11:00\n",
       "1  2021-10-30 10:30"
      ]
     },
     "execution_count": 3,
     "metadata": {},
     "output_type": "execute_result"
    }
   ],
   "source": [
    "timestamps"
   ]
  },
  {
   "cell_type": "code",
   "execution_count": 4,
   "id": "alternate-victory",
   "metadata": {
    "execution": {
     "iopub.execute_input": "2021-10-30T09:00:09.117189Z",
     "iopub.status.busy": "2021-10-30T09:00:09.115279Z",
     "iopub.status.idle": "2021-10-30T09:00:10.093994Z",
     "shell.execute_reply": "2021-10-30T09:00:10.095251Z"
    },
    "papermill": {
     "duration": 1.008944,
     "end_time": "2021-10-30T09:00:10.095646",
     "exception": false,
     "start_time": "2021-10-30T09:00:09.086702",
     "status": "completed"
    },
    "tags": []
   },
   "outputs": [],
   "source": [
    "df = pd.read_sql(\"select * from EBAY_TOP_BERLIN where record_time in (select distinct record_time from EBAY_TOP_BERLIN order by record_time desc limit 2)\", sqlite3.connect(\"UsedObjects.db\"))"
   ]
  },
  {
   "cell_type": "code",
   "execution_count": 5,
   "id": "popular-active",
   "metadata": {
    "execution": {
     "iopub.execute_input": "2021-10-30T09:00:10.161593Z",
     "iopub.status.busy": "2021-10-30T09:00:10.153966Z",
     "iopub.status.idle": "2021-10-30T09:00:10.182502Z",
     "shell.execute_reply": "2021-10-30T09:00:10.183769Z"
    },
    "papermill": {
     "duration": 0.067683,
     "end_time": "2021-10-30T09:00:10.184177",
     "exception": false,
     "start_time": "2021-10-30T09:00:10.116494",
     "status": "completed"
    },
    "tags": []
   },
   "outputs": [],
   "source": [
    "df_pivot = df.pivot_table(index=\"PRODUCT\", columns = \"RECORD_TIME\", values = \"LISTING_COUNT\")"
   ]
  },
  {
   "cell_type": "code",
   "execution_count": 6,
   "id": "union-huntington",
   "metadata": {
    "execution": {
     "iopub.execute_input": "2021-10-30T09:00:10.240639Z",
     "iopub.status.busy": "2021-10-30T09:00:10.238582Z",
     "iopub.status.idle": "2021-10-30T09:00:10.243953Z",
     "shell.execute_reply": "2021-10-30T09:00:10.245399Z"
    },
    "papermill": {
     "duration": 0.041775,
     "end_time": "2021-10-30T09:00:10.245850",
     "exception": false,
     "start_time": "2021-10-30T09:00:10.204075",
     "status": "completed"
    },
    "tags": []
   },
   "outputs": [],
   "source": [
    "df_pivot.columns = [\"stamp_1\", \"stamp_2\"]\n",
    "df_pivot_diff = df_pivot.diff(axis=1)"
   ]
  },
  {
   "cell_type": "code",
   "execution_count": 7,
   "id": "fifth-motion",
   "metadata": {
    "execution": {
     "iopub.execute_input": "2021-10-30T09:00:10.300297Z",
     "iopub.status.busy": "2021-10-30T09:00:10.297947Z",
     "iopub.status.idle": "2021-10-30T09:00:11.770331Z",
     "shell.execute_reply": "2021-10-30T09:00:11.771896Z"
    },
    "papermill": {
     "duration": 1.505828,
     "end_time": "2021-10-30T09:00:11.772394",
     "exception": false,
     "start_time": "2021-10-30T09:00:10.266566",
     "status": "completed"
    },
    "tags": []
   },
   "outputs": [
    {
     "data": {
      "text/plain": [
       "<AxesSubplot:ylabel='PRODUCT'>"
      ]
     },
     "execution_count": 7,
     "metadata": {},
     "output_type": "execute_result"
    },
    {
     "data": {
      "image/png": "[encoded data removed]",
      "text/plain": [
       "<Figure size 432x288 with 1 Axes>"
      ]
     },
     "metadata": {
      "needs_background": "light"
     },
     "output_type": "display_data"
    }
   ],
   "source": [
    "df_pivot_diff.sort_values(\"stamp_2\", ascending = False)[\"stamp_2\"].head(10).plot.barh()"
   ]
  },
  {
   "cell_type": "code",
   "execution_count": null,
   "id": "extra-executive",
   "metadata": {
    "papermill": {
     "duration": 0.022315,
     "end_time": "2021-10-30T09:00:11.819673",
     "exception": false,
     "start_time": "2021-10-30T09:00:11.797358",
     "status": "completed"
    },
    "tags": []
   },
   "outputs": [],
   "source": []
  }
 ],
 "metadata": {
  "kernelspec": {
   "display_name": "Python 3",
   "language": "python",
   "name": "python3"
  },
  "language_info": {
   "codemirror_mode": {
    "name": "ipython",
    "version": 3
   },
   "file_extension": ".py",
   "mimetype": "text/x-python",
   "name": "python",
   "nbconvert_exporter": "python",
   "pygments_lexer": "ipython3",
   "version": "3.9.5"
  },
  "papermill": {
   "default_parameters": {},
   "duration": 7.487236,
   "end_time": "2021-10-30T09:00:12.463171",
   "environment_variables": {},
   "exception": null,
   "input_path": "eBay_Overview.ipynb",
   "output_path": "eBay_Overview.ipynb",
   "parameters": {},
   "start_time": "2021-10-30T09:00:04.975935",
   "version": "2.3.3"
  }
 },
 "nbformat": 4,
 "nbformat_minor": 5
}