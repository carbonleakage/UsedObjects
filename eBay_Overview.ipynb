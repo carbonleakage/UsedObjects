{
 "cells": [
  {
   "cell_type": "code",
   "execution_count": 1,
   "id": "reverse-picking",
   "metadata": {
    "execution": {
     "iopub.execute_input": "2021-08-12T00:30:03.706431Z",
     "iopub.status.busy": "2021-08-12T00:30:03.705663Z",
     "iopub.status.idle": "2021-08-12T00:30:04.479899Z",
     "shell.execute_reply": "2021-08-12T00:30:04.480921Z"
    },
    "papermill": {
     "duration": 0.794563,
     "end_time": "2021-08-12T00:30:04.481327",
     "exception": false,
     "start_time": "2021-08-12T00:30:03.686764",
     "status": "completed"
    },
    "tags": []
   },
   "outputs": [],
   "source": [
    "import pandas as pd\n",
    "import sqlite3"
   ]
  },
  {
   "cell_type": "code",
   "execution_count": 2,
   "id": "innovative-syndrome",
   "metadata": {
    "execution": {
     "iopub.execute_input": "2021-08-12T00:30:04.509308Z",
     "iopub.status.busy": "2021-08-12T00:30:04.508345Z",
     "iopub.status.idle": "2021-08-12T00:30:04.768273Z",
     "shell.execute_reply": "2021-08-12T00:30:04.768929Z"
    },
    "papermill": {
     "duration": 0.277354,
     "end_time": "2021-08-12T00:30:04.769126",
     "exception": false,
     "start_time": "2021-08-12T00:30:04.491772",
     "status": "completed"
    },
    "tags": []
   },
   "outputs": [],
   "source": [
    "timestamps = pd.read_sql(\"select distinct record_time from EBAY_TOP_BERLIN order by record_time desc limit 2\", sqlite3.connect(\"UsedObjects.db\"))"
   ]
  },
  {
   "cell_type": "code",
   "execution_count": 3,
   "id": "periodic-identification",
   "metadata": {
    "execution": {
     "iopub.execute_input": "2021-08-12T00:30:04.798055Z",
     "iopub.status.busy": "2021-08-12T00:30:04.797280Z",
     "iopub.status.idle": "2021-08-12T00:30:04.807759Z",
     "shell.execute_reply": "2021-08-12T00:30:04.808284Z"
    },
    "papermill": {
     "duration": 0.031285,
     "end_time": "2021-08-12T00:30:04.808464",
     "exception": false,
     "start_time": "2021-08-12T00:30:04.777179",
     "status": "completed"
    },
    "tags": []
   },
   "outputs": [
    {
     "data": {
      "text/html": [
       "<div>\n",
       "<style scoped>\n",
       "    .dataframe tbody tr th:only-of-type {\n",
       "        vertical-align: middle;\n",
       "    }\n",
       "\n",
       "    .dataframe tbody tr th {\n",
       "        vertical-align: top;\n",
       "    }\n",
       "\n",
       "    .dataframe thead th {\n",
       "        text-align: right;\n",
       "    }\n",
       "</style>\n",
       "<table border=\"1\" class=\"dataframe\">\n",
       "  <thead>\n",
       "    <tr style=\"text-align: right;\">\n",
       "      <th></th>\n",
       "      <th>RECORD_TIME</th>\n",
       "    </tr>\n",
       "  </thead>\n",
       "  <tbody>\n",
       "    <tr>\n",
       "      <th>0</th>\n",
       "      <td>2021-08-12 02:30</td>\n",
       "    </tr>\n",
       "    <tr>\n",
       "      <th>1</th>\n",
       "      <td>2021-08-12 02:00</td>\n",
       "    </tr>\n",
       "  </tbody>\n",
       "</table>\n",
       "</div>"
      ],
      "text/plain": [
       "        RECORD_TIME\n",
       "0  2021-08-12 02:30\n",
       "1  2021-08-12 02:00"
      ]
     },
     "execution_count": 3,
     "metadata": {},
     "output_type": "execute_result"
    }
   ],
   "source": [
    "timestamps"
   ]
  },
  {
   "cell_type": "code",
   "execution_count": 4,
   "id": "alternate-victory",
   "metadata": {
    "execution": {
     "iopub.execute_input": "2021-08-12T00:30:04.831951Z",
     "iopub.status.busy": "2021-08-12T00:30:04.831199Z",
     "iopub.status.idle": "2021-08-12T00:30:04.855599Z",
     "shell.execute_reply": "2021-08-12T00:30:04.854650Z"
    },
    "papermill": {
     "duration": 0.039,
     "end_time": "2021-08-12T00:30:04.855887",
     "exception": false,
     "start_time": "2021-08-12T00:30:04.816887",
     "status": "completed"
    },
    "tags": []
   },
   "outputs": [],
   "source": [
    "df = pd.read_sql(\"select * from EBAY_TOP_BERLIN where record_time in (select distinct record_time from EBAY_TOP_BERLIN order by record_time desc limit 2)\", sqlite3.connect(\"UsedObjects.db\"))"
   ]
  },
  {
   "cell_type": "code",
   "execution_count": 5,
   "id": "popular-active",
   "metadata": {
    "execution": {
     "iopub.execute_input": "2021-08-12T00:30:04.884885Z",
     "iopub.status.busy": "2021-08-12T00:30:04.883845Z",
     "iopub.status.idle": "2021-08-12T00:30:04.902532Z",
     "shell.execute_reply": "2021-08-12T00:30:04.901922Z"
    },
    "papermill": {
     "duration": 0.035555,
     "end_time": "2021-08-12T00:30:04.902695",
     "exception": false,
     "start_time": "2021-08-12T00:30:04.867140",
     "status": "completed"
    },
    "tags": []
   },
   "outputs": [],
   "source": [
    "df_pivot = df.pivot_table(index=\"PRODUCT\", columns = \"RECORD_TIME\", values = \"LISTING_COUNT\")"
   ]
  },
  {
   "cell_type": "code",
   "execution_count": 6,
   "id": "union-huntington",
   "metadata": {
    "execution": {
     "iopub.execute_input": "2021-08-12T00:30:04.933030Z",
     "iopub.status.busy": "2021-08-12T00:30:04.932303Z",
     "iopub.status.idle": "2021-08-12T00:30:04.938615Z",
     "shell.execute_reply": "2021-08-12T00:30:04.939237Z"
    },
    "papermill": {
     "duration": 0.028138,
     "end_time": "2021-08-12T00:30:04.939423",
     "exception": false,
     "start_time": "2021-08-12T00:30:04.911285",
     "status": "completed"
    },
    "tags": []
   },
   "outputs": [],
   "source": [
    "df_pivot.columns = [\"stamp_1\", \"stamp_2\"]\n",
    "df_pivot_diff = df_pivot.diff(axis=1)"
   ]
  },
  {
   "cell_type": "code",
   "execution_count": 7,
   "id": "fifth-motion",
   "metadata": {
    "execution": {
     "iopub.execute_input": "2021-08-12T00:30:04.968536Z",
     "iopub.status.busy": "2021-08-12T00:30:04.967790Z",
     "iopub.status.idle": "2021-08-12T00:30:05.648224Z",
     "shell.execute_reply": "2021-08-12T00:30:05.648793Z"
    },
    "papermill": {
     "duration": 0.701436,
     "end_time": "2021-08-12T00:30:05.648991",
     "exception": false,
     "start_time": "2021-08-12T00:30:04.947555",
     "status": "completed"
    },
    "tags": []
   },
   "outputs": [
    {
     "data": {
      "text/plain": [
       "<AxesSubplot:ylabel='PRODUCT'>"
      ]
     },
     "execution_count": 7,
     "metadata": {},
     "output_type": "execute_result"
    },
    {
     "data": {
      "image/png": "[encoded data removed]",
      "text/plain": [
       "<Figure size 432x288 with 1 Axes>"
      ]
     },
     "metadata": {
      "needs_background": "light"
     },
     "output_type": "display_data"
    }
   ],
   "source": [
    "df_pivot_diff.sort_values(\"stamp_2\", ascending = False)[\"stamp_2\"].head(10).plot.barh()"
   ]
  },
  {
   "cell_type": "code",
   "execution_count": null,
   "id": "extra-executive",
   "metadata": {
    "papermill": {
     "duration": 0.01281,
     "end_time": "2021-08-12T00:30:05.673811",
     "exception": false,
     "start_time": "2021-08-12T00:30:05.661001",
     "status": "completed"
    },
    "tags": []
   },
   "outputs": [],
   "source": []
  }
 ],
 "metadata": {
  "kernelspec": {
   "display_name": "Python 3",
   "language": "python",
   "name": "python3"
  },
  "language_info": {
   "codemirror_mode": {
    "name": "ipython",
    "version": 3
   },
   "file_extension": ".py",
   "mimetype": "text/x-python",
   "name": "python",
   "nbconvert_exporter": "python",
   "pygments_lexer": "ipython3",
   "version": "3.8.8"
  },
  "papermill": {
   "default_parameters": {},
   "duration": 4.300878,
   "end_time": "2021-08-12T00:30:06.325761",
   "environment_variables": {},
   "exception": null,
   "input_path": "/Users/saravananshanmugam/Carbonleakage_Git/UsedObjects/eBay_Overview.ipynb",
   "output_path": "/Users/saravananshanmugam/Carbonleakage_Git/UsedObjects/eBay_Overview.ipynb",
   "parameters": {},
   "start_time": "2021-08-12T00:30:02.024883",
   "version": "2.3.3"
  }
 },
 "nbformat": 4,
 "nbformat_minor": 5
}