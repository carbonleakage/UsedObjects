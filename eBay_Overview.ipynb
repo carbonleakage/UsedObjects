{
 "cells": [
  {
   "cell_type": "code",
   "execution_count": 1,
   "id": "reverse-picking",
   "metadata": {
    "execution": {
     "iopub.execute_input": "2021-11-12T16:00:08.460483Z",
     "iopub.status.busy": "2021-11-12T16:00:08.458072Z",
     "iopub.status.idle": "2021-11-12T16:00:09.403530Z",
     "shell.execute_reply": "2021-11-12T16:00:09.401691Z"
    },
    "papermill": {
     "duration": 0.993416,
     "end_time": "2021-11-12T16:00:09.404008",
     "exception": false,
     "start_time": "2021-11-12T16:00:08.410592",
     "status": "completed"
    },
    "tags": []
   },
   "outputs": [],
   "source": [
    "import pandas as pd\n",
    "import sqlite3"
   ]
  },
  {
   "cell_type": "code",
   "execution_count": 2,
   "id": "innovative-syndrome",
   "metadata": {
    "execution": {
     "iopub.execute_input": "2021-11-12T16:00:09.465755Z",
     "iopub.status.busy": "2021-11-12T16:00:09.463469Z",
     "iopub.status.idle": "2021-11-12T16:00:10.258199Z",
     "shell.execute_reply": "2021-11-12T16:00:10.259601Z"
    },
    "papermill": {
     "duration": 0.829042,
     "end_time": "2021-11-12T16:00:10.260035",
     "exception": false,
     "start_time": "2021-11-12T16:00:09.430993",
     "status": "completed"
    },
    "tags": []
   },
   "outputs": [],
   "source": [
    "timestamps = pd.read_sql(\"select distinct record_time from EBAY_TOP_BERLIN order by record_time desc limit 2\", sqlite3.connect(\"UsedObjects.db\"))"
   ]
  },
  {
   "cell_type": "code",
   "execution_count": 3,
   "id": "periodic-identification",
   "metadata": {
    "execution": {
     "iopub.execute_input": "2021-11-12T16:00:10.326050Z",
     "iopub.status.busy": "2021-11-12T16:00:10.324100Z",
     "iopub.status.idle": "2021-11-12T16:00:10.351271Z",
     "shell.execute_reply": "2021-11-12T16:00:10.352486Z"
    },
    "papermill": {
     "duration": 0.072261,
     "end_time": "2021-11-12T16:00:10.352922",
     "exception": false,
     "start_time": "2021-11-12T16:00:10.280661",
     "status": "completed"
    },
    "tags": []
   },
   "outputs": [
    {
     "data": {
      "text/html": [
       "<div>\n",
       "<style scoped>\n",
       "    .dataframe tbody tr th:only-of-type {\n",
       "        vertical-align: middle;\n",
       "    }\n",
       "\n",
       "    .dataframe tbody tr th {\n",
       "        vertical-align: top;\n",
       "    }\n",
       "\n",
       "    .dataframe thead th {\n",
       "        text-align: right;\n",
       "    }\n",
       "</style>\n",
       "<table border=\"1\" class=\"dataframe\">\n",
       "  <thead>\n",
       "    <tr style=\"text-align: right;\">\n",
       "      <th></th>\n",
       "      <th>RECORD_TIME</th>\n",
       "    </tr>\n",
       "  </thead>\n",
       "  <tbody>\n",
       "    <tr>\n",
       "      <th>0</th>\n",
       "      <td>2021-11-12 17:00</td>\n",
       "    </tr>\n",
       "    <tr>\n",
       "      <th>1</th>\n",
       "      <td>2021-11-12 16:30</td>\n",
       "    </tr>\n",
       "  </tbody>\n",
       "</table>\n",
       "</div>"
      ],
      "text/plain": [
       "        RECORD_TIME\n",
       "0  2021-11-12 17:00\n",
       "1  2021-11-12 16:30"
      ]
     },
     "execution_count": 3,
     "metadata": {},
     "output_type": "execute_result"
    }
   ],
   "source": [
    "timestamps"
   ]
  },
  {
   "cell_type": "code",
   "execution_count": 4,
   "id": "alternate-victory",
   "metadata": {
    "execution": {
     "iopub.execute_input": "2021-11-12T16:00:10.423633Z",
     "iopub.status.busy": "2021-11-12T16:00:10.421408Z",
     "iopub.status.idle": "2021-11-12T16:00:11.586560Z",
     "shell.execute_reply": "2021-11-12T16:00:11.589298Z"
    },
    "papermill": {
     "duration": 1.201661,
     "end_time": "2021-11-12T16:00:11.589865",
     "exception": false,
     "start_time": "2021-11-12T16:00:10.388204",
     "status": "completed"
    },
    "tags": []
   },
   "outputs": [],
   "source": [
    "df = pd.read_sql(\"select * from EBAY_TOP_BERLIN where record_time in (select distinct record_time from EBAY_TOP_BERLIN order by record_time desc limit 2)\", sqlite3.connect(\"UsedObjects.db\"))"
   ]
  },
  {
   "cell_type": "code",
   "execution_count": 5,
   "id": "popular-active",
   "metadata": {
    "execution": {
     "iopub.execute_input": "2021-11-12T16:00:11.668925Z",
     "iopub.status.busy": "2021-11-12T16:00:11.658852Z",
     "iopub.status.idle": "2021-11-12T16:00:11.691873Z",
     "shell.execute_reply": "2021-11-12T16:00:11.693266Z"
    },
    "papermill": {
     "duration": 0.077155,
     "end_time": "2021-11-12T16:00:11.693744",
     "exception": false,
     "start_time": "2021-11-12T16:00:11.616589",
     "status": "completed"
    },
    "tags": []
   },
   "outputs": [],
   "source": [
    "df_pivot = df.pivot_table(index=\"PRODUCT\", columns = \"RECORD_TIME\", values = \"LISTING_COUNT\")"
   ]
  },
  {
   "cell_type": "code",
   "execution_count": 6,
   "id": "union-huntington",
   "metadata": {
    "execution": {
     "iopub.execute_input": "2021-11-12T16:00:11.750872Z",
     "iopub.status.busy": "2021-11-12T16:00:11.748605Z",
     "iopub.status.idle": "2021-11-12T16:00:11.754612Z",
     "shell.execute_reply": "2021-11-12T16:00:11.756102Z"
    },
    "papermill": {
     "duration": 0.043117,
     "end_time": "2021-11-12T16:00:11.756621",
     "exception": false,
     "start_time": "2021-11-12T16:00:11.713504",
     "status": "completed"
    },
    "tags": []
   },
   "outputs": [],
   "source": [
    "df_pivot.columns = [\"stamp_1\", \"stamp_2\"]\n",
    "df_pivot_diff = df_pivot.diff(axis=1)"
   ]
  },
  {
   "cell_type": "code",
   "execution_count": 7,
   "id": "fifth-motion",
   "metadata": {
    "execution": {
     "iopub.execute_input": "2021-11-12T16:00:11.818967Z",
     "iopub.status.busy": "2021-11-12T16:00:11.816567Z",
     "iopub.status.idle": "2021-11-12T16:00:13.820422Z",
     "shell.execute_reply": "2021-11-12T16:00:13.822267Z"
    },
    "papermill": {
     "duration": 2.044966,
     "end_time": "2021-11-12T16:00:13.822808",
     "exception": false,
     "start_time": "2021-11-12T16:00:11.777842",
     "status": "completed"
    },
    "tags": []
   },
   "outputs": [
    {
     "data": {
      "text/plain": [
       "<AxesSubplot:ylabel='PRODUCT'>"
      ]
     },
     "execution_count": 7,
     "metadata": {},
     "output_type": "execute_result"
    },
    {
     "data": {
      "image/png": "[encoded data removed]",
      "text/plain": [
       "<Figure size 432x288 with 1 Axes>"
      ]
     },
     "metadata": {
      "needs_background": "light"
     },
     "output_type": "display_data"
    }
   ],
   "source": [
    "df_pivot_diff.sort_values(\"stamp_2\", ascending = False)[\"stamp_2\"].head(10).plot.barh()"
   ]
  },
  {
   "cell_type": "code",
   "execution_count": null,
   "id": "extra-executive",
   "metadata": {
    "papermill": {
     "duration": 0.022123,
     "end_time": "2021-11-12T16:00:13.871563",
     "exception": false,
     "start_time": "2021-11-12T16:00:13.849440",
     "status": "completed"
    },
    "tags": []
   },
   "outputs": [],
   "source": []
  }
 ],
 "metadata": {
  "kernelspec": {
   "display_name": "Python 3",
   "language": "python",
   "name": "python3"
  },
  "language_info": {
   "codemirror_mode": {
    "name": "ipython",
    "version": 3
   },
   "file_extension": ".py",
   "mimetype": "text/x-python",
   "name": "python",
   "nbconvert_exporter": "python",
   "pygments_lexer": "ipython3",
   "version": "3.9.5"
  },
  "papermill": {
   "default_parameters": {},
   "duration": 8.839652,
   "end_time": "2021-11-12T16:00:14.523755",
   "environment_variables": {},
   "exception": null,
   "input_path": "eBay_Overview.ipynb",
   "output_path": "eBay_Overview.ipynb",
   "parameters": {},
   "start_time": "2021-11-12T16:00:05.684103",
   "version": "2.3.3"
  }
 },
 "nbformat": 4,
 "nbformat_minor": 5
}