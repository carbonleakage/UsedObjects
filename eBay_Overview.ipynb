{
 "cells": [
  {
   "cell_type": "code",
   "execution_count": 1,
   "id": "reverse-picking",
   "metadata": {
    "execution": {
     "iopub.execute_input": "2021-08-09T12:30:04.327292Z",
     "iopub.status.busy": "2021-08-09T12:30:04.326528Z",
     "iopub.status.idle": "2021-08-09T12:30:05.078376Z",
     "shell.execute_reply": "2021-08-09T12:30:05.077213Z"
    },
    "papermill": {
     "duration": 0.770698,
     "end_time": "2021-08-09T12:30:05.078621",
     "exception": false,
     "start_time": "2021-08-09T12:30:04.307923",
     "status": "completed"
    },
    "tags": []
   },
   "outputs": [],
   "source": [
    "import pandas as pd\n",
    "import sqlite3"
   ]
  },
  {
   "cell_type": "code",
   "execution_count": 2,
   "id": "innovative-syndrome",
   "metadata": {
    "execution": {
     "iopub.execute_input": "2021-08-09T12:30:05.103546Z",
     "iopub.status.busy": "2021-08-09T12:30:05.102784Z",
     "iopub.status.idle": "2021-08-09T12:30:05.366852Z",
     "shell.execute_reply": "2021-08-09T12:30:05.367383Z"
    },
    "papermill": {
     "duration": 0.278754,
     "end_time": "2021-08-09T12:30:05.367565",
     "exception": false,
     "start_time": "2021-08-09T12:30:05.088811",
     "status": "completed"
    },
    "tags": []
   },
   "outputs": [],
   "source": [
    "timestamps = pd.read_sql(\"select distinct record_time from EBAY_TOP_BERLIN order by record_time desc limit 2\", sqlite3.connect(\"UsedObjects.db\"))"
   ]
  },
  {
   "cell_type": "code",
   "execution_count": 3,
   "id": "periodic-identification",
   "metadata": {
    "execution": {
     "iopub.execute_input": "2021-08-09T12:30:05.397382Z",
     "iopub.status.busy": "2021-08-09T12:30:05.396603Z",
     "iopub.status.idle": "2021-08-09T12:30:05.412228Z",
     "shell.execute_reply": "2021-08-09T12:30:05.412765Z"
    },
    "papermill": {
     "duration": 0.036107,
     "end_time": "2021-08-09T12:30:05.412949",
     "exception": false,
     "start_time": "2021-08-09T12:30:05.376842",
     "status": "completed"
    },
    "tags": []
   },
   "outputs": [
    {
     "data": {
      "text/html": [
       "<div>\n",
       "<style scoped>\n",
       "    .dataframe tbody tr th:only-of-type {\n",
       "        vertical-align: middle;\n",
       "    }\n",
       "\n",
       "    .dataframe tbody tr th {\n",
       "        vertical-align: top;\n",
       "    }\n",
       "\n",
       "    .dataframe thead th {\n",
       "        text-align: right;\n",
       "    }\n",
       "</style>\n",
       "<table border=\"1\" class=\"dataframe\">\n",
       "  <thead>\n",
       "    <tr style=\"text-align: right;\">\n",
       "      <th></th>\n",
       "      <th>RECORD_TIME</th>\n",
       "    </tr>\n",
       "  </thead>\n",
       "  <tbody>\n",
       "    <tr>\n",
       "      <th>0</th>\n",
       "      <td>2021-08-09 14:30</td>\n",
       "    </tr>\n",
       "    <tr>\n",
       "      <th>1</th>\n",
       "      <td>2021-08-09 14:00</td>\n",
       "    </tr>\n",
       "  </tbody>\n",
       "</table>\n",
       "</div>"
      ],
      "text/plain": [
       "        RECORD_TIME\n",
       "0  2021-08-09 14:30\n",
       "1  2021-08-09 14:00"
      ]
     },
     "execution_count": 3,
     "metadata": {},
     "output_type": "execute_result"
    }
   ],
   "source": [
    "timestamps"
   ]
  },
  {
   "cell_type": "code",
   "execution_count": 4,
   "id": "alternate-victory",
   "metadata": {
    "execution": {
     "iopub.execute_input": "2021-08-09T12:30:05.439860Z",
     "iopub.status.busy": "2021-08-09T12:30:05.439086Z",
     "iopub.status.idle": "2021-08-09T12:30:05.448799Z",
     "shell.execute_reply": "2021-08-09T12:30:05.449491Z"
    },
    "papermill": {
     "duration": 0.027539,
     "end_time": "2021-08-09T12:30:05.449702",
     "exception": false,
     "start_time": "2021-08-09T12:30:05.422163",
     "status": "completed"
    },
    "tags": []
   },
   "outputs": [],
   "source": [
    "df = pd.read_sql(\"select * from EBAY_TOP_BERLIN where record_time in (select distinct record_time from EBAY_TOP_BERLIN order by record_time desc limit 2)\", sqlite3.connect(\"UsedObjects.db\"))"
   ]
  },
  {
   "cell_type": "code",
   "execution_count": 5,
   "id": "popular-active",
   "metadata": {
    "execution": {
     "iopub.execute_input": "2021-08-09T12:30:05.484806Z",
     "iopub.status.busy": "2021-08-09T12:30:05.481974Z",
     "iopub.status.idle": "2021-08-09T12:30:05.497338Z",
     "shell.execute_reply": "2021-08-09T12:30:05.497871Z"
    },
    "papermill": {
     "duration": 0.033944,
     "end_time": "2021-08-09T12:30:05.498054",
     "exception": false,
     "start_time": "2021-08-09T12:30:05.464110",
     "status": "completed"
    },
    "tags": []
   },
   "outputs": [],
   "source": [
    "df_pivot = df.pivot_table(index=\"PRODUCT\", columns = \"RECORD_TIME\", values = \"LISTING_COUNT\")"
   ]
  },
  {
   "cell_type": "code",
   "execution_count": 6,
   "id": "union-huntington",
   "metadata": {
    "execution": {
     "iopub.execute_input": "2021-08-09T12:30:05.523853Z",
     "iopub.status.busy": "2021-08-09T12:30:05.523168Z",
     "iopub.status.idle": "2021-08-09T12:30:05.528277Z",
     "shell.execute_reply": "2021-08-09T12:30:05.528812Z"
    },
    "papermill": {
     "duration": 0.022527,
     "end_time": "2021-08-09T12:30:05.528996",
     "exception": false,
     "start_time": "2021-08-09T12:30:05.506469",
     "status": "completed"
    },
    "tags": []
   },
   "outputs": [],
   "source": [
    "df_pivot.columns = [\"stamp_1\", \"stamp_2\"]\n",
    "df_pivot_diff = df_pivot.diff(axis=1)"
   ]
  },
  {
   "cell_type": "code",
   "execution_count": 7,
   "id": "fifth-motion",
   "metadata": {
    "execution": {
     "iopub.execute_input": "2021-08-09T12:30:05.553546Z",
     "iopub.status.busy": "2021-08-09T12:30:05.552682Z",
     "iopub.status.idle": "2021-08-09T12:30:06.191378Z",
     "shell.execute_reply": "2021-08-09T12:30:06.191944Z"
    },
    "papermill": {
     "duration": 0.65445,
     "end_time": "2021-08-09T12:30:06.192134",
     "exception": false,
     "start_time": "2021-08-09T12:30:05.537684",
     "status": "completed"
    },
    "tags": []
   },
   "outputs": [
    {
     "data": {
      "text/plain": [
       "<AxesSubplot:ylabel='PRODUCT'>"
      ]
     },
     "execution_count": 7,
     "metadata": {},
     "output_type": "execute_result"
    },
    {
     "data": {
      "image/png": "[encoded data removed]",
      "text/plain": [
       "<Figure size 432x288 with 1 Axes>"
      ]
     },
     "metadata": {
      "needs_background": "light"
     },
     "output_type": "display_data"
    }
   ],
   "source": [
    "df_pivot_diff.sort_values(\"stamp_2\", ascending = False)[\"stamp_2\"].head(10).plot.barh()"
   ]
  },
  {
   "cell_type": "code",
   "execution_count": null,
   "id": "extra-executive",
   "metadata": {
    "papermill": {
     "duration": 0.011767,
     "end_time": "2021-08-09T12:30:06.218509",
     "exception": false,
     "start_time": "2021-08-09T12:30:06.206742",
     "status": "completed"
    },
    "tags": []
   },
   "outputs": [],
   "source": []
  }
 ],
 "metadata": {
  "kernelspec": {
   "display_name": "Python 3",
   "language": "python",
   "name": "python3"
  },
  "language_info": {
   "codemirror_mode": {
    "name": "ipython",
    "version": 3
   },
   "file_extension": ".py",
   "mimetype": "text/x-python",
   "name": "python",
   "nbconvert_exporter": "python",
   "pygments_lexer": "ipython3",
   "version": "3.8.8"
  },
  "papermill": {
   "default_parameters": {},
   "duration": 5.021288,
   "end_time": "2021-08-09T12:30:07.641191",
   "environment_variables": {},
   "exception": null,
   "input_path": "/Users/saravananshanmugam/Carbonleakage_Git/UsedObjects/eBay_Overview.ipynb",
   "output_path": "/Users/saravananshanmugam/Carbonleakage_Git/UsedObjects/eBay_Overview.ipynb",
   "parameters": {},
   "start_time": "2021-08-09T12:30:02.619903",
   "version": "2.3.3"
  }
 },
 "nbformat": 4,
 "nbformat_minor": 5
}