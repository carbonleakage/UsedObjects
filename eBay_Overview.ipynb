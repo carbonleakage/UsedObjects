{
 "cells": [
  {
   "cell_type": "code",
   "execution_count": 1,
   "id": "reverse-picking",
   "metadata": {
    "execution": {
     "iopub.execute_input": "2021-08-11T00:00:04.180381Z",
     "iopub.status.busy": "2021-08-11T00:00:04.179618Z",
     "iopub.status.idle": "2021-08-11T00:00:04.814037Z",
     "shell.execute_reply": "2021-08-11T00:00:04.813327Z"
    },
    "papermill": {
     "duration": 0.653142,
     "end_time": "2021-08-11T00:00:04.814227",
     "exception": false,
     "start_time": "2021-08-11T00:00:04.161085",
     "status": "completed"
    },
    "tags": []
   },
   "outputs": [],
   "source": [
    "import pandas as pd\n",
    "import sqlite3"
   ]
  },
  {
   "cell_type": "code",
   "execution_count": 2,
   "id": "innovative-syndrome",
   "metadata": {
    "execution": {
     "iopub.execute_input": "2021-08-11T00:00:04.840981Z",
     "iopub.status.busy": "2021-08-11T00:00:04.840214Z",
     "iopub.status.idle": "2021-08-11T00:00:05.092213Z",
     "shell.execute_reply": "2021-08-11T00:00:05.091618Z"
    },
    "papermill": {
     "duration": 0.267573,
     "end_time": "2021-08-11T00:00:05.092365",
     "exception": false,
     "start_time": "2021-08-11T00:00:04.824792",
     "status": "completed"
    },
    "tags": []
   },
   "outputs": [],
   "source": [
    "timestamps = pd.read_sql(\"select distinct record_time from EBAY_TOP_BERLIN order by record_time desc limit 2\", sqlite3.connect(\"UsedObjects.db\"))"
   ]
  },
  {
   "cell_type": "code",
   "execution_count": 3,
   "id": "periodic-identification",
   "metadata": {
    "execution": {
     "iopub.execute_input": "2021-08-11T00:00:05.124816Z",
     "iopub.status.busy": "2021-08-11T00:00:05.124046Z",
     "iopub.status.idle": "2021-08-11T00:00:05.137579Z",
     "shell.execute_reply": "2021-08-11T00:00:05.138147Z"
    },
    "papermill": {
     "duration": 0.037051,
     "end_time": "2021-08-11T00:00:05.138341",
     "exception": false,
     "start_time": "2021-08-11T00:00:05.101290",
     "status": "completed"
    },
    "tags": []
   },
   "outputs": [
    {
     "data": {
      "text/html": [
       "<div>\n",
       "<style scoped>\n",
       "    .dataframe tbody tr th:only-of-type {\n",
       "        vertical-align: middle;\n",
       "    }\n",
       "\n",
       "    .dataframe tbody tr th {\n",
       "        vertical-align: top;\n",
       "    }\n",
       "\n",
       "    .dataframe thead th {\n",
       "        text-align: right;\n",
       "    }\n",
       "</style>\n",
       "<table border=\"1\" class=\"dataframe\">\n",
       "  <thead>\n",
       "    <tr style=\"text-align: right;\">\n",
       "      <th></th>\n",
       "      <th>RECORD_TIME</th>\n",
       "    </tr>\n",
       "  </thead>\n",
       "  <tbody>\n",
       "    <tr>\n",
       "      <th>0</th>\n",
       "      <td>2021-08-11 02:00</td>\n",
       "    </tr>\n",
       "    <tr>\n",
       "      <th>1</th>\n",
       "      <td>2021-08-11 01:30</td>\n",
       "    </tr>\n",
       "  </tbody>\n",
       "</table>\n",
       "</div>"
      ],
      "text/plain": [
       "        RECORD_TIME\n",
       "0  2021-08-11 02:00\n",
       "1  2021-08-11 01:30"
      ]
     },
     "execution_count": 3,
     "metadata": {},
     "output_type": "execute_result"
    }
   ],
   "source": [
    "timestamps"
   ]
  },
  {
   "cell_type": "code",
   "execution_count": 4,
   "id": "alternate-victory",
   "metadata": {
    "execution": {
     "iopub.execute_input": "2021-08-11T00:00:05.165494Z",
     "iopub.status.busy": "2021-08-11T00:00:05.164730Z",
     "iopub.status.idle": "2021-08-11T00:00:05.187431Z",
     "shell.execute_reply": "2021-08-11T00:00:05.188311Z"
    },
    "papermill": {
     "duration": 0.040607,
     "end_time": "2021-08-11T00:00:05.188527",
     "exception": false,
     "start_time": "2021-08-11T00:00:05.147920",
     "status": "completed"
    },
    "tags": []
   },
   "outputs": [],
   "source": [
    "df = pd.read_sql(\"select * from EBAY_TOP_BERLIN where record_time in (select distinct record_time from EBAY_TOP_BERLIN order by record_time desc limit 2)\", sqlite3.connect(\"UsedObjects.db\"))"
   ]
  },
  {
   "cell_type": "code",
   "execution_count": 5,
   "id": "popular-active",
   "metadata": {
    "execution": {
     "iopub.execute_input": "2021-08-11T00:00:05.214313Z",
     "iopub.status.busy": "2021-08-11T00:00:05.213415Z",
     "iopub.status.idle": "2021-08-11T00:00:05.232202Z",
     "shell.execute_reply": "2021-08-11T00:00:05.231591Z"
    },
    "papermill": {
     "duration": 0.035576,
     "end_time": "2021-08-11T00:00:05.232364",
     "exception": false,
     "start_time": "2021-08-11T00:00:05.196788",
     "status": "completed"
    },
    "tags": []
   },
   "outputs": [],
   "source": [
    "df_pivot = df.pivot_table(index=\"PRODUCT\", columns = \"RECORD_TIME\", values = \"LISTING_COUNT\")"
   ]
  },
  {
   "cell_type": "code",
   "execution_count": 6,
   "id": "union-huntington",
   "metadata": {
    "execution": {
     "iopub.execute_input": "2021-08-11T00:00:05.261875Z",
     "iopub.status.busy": "2021-08-11T00:00:05.261170Z",
     "iopub.status.idle": "2021-08-11T00:00:05.266040Z",
     "shell.execute_reply": "2021-08-11T00:00:05.266795Z"
    },
    "papermill": {
     "duration": 0.023851,
     "end_time": "2021-08-11T00:00:05.267025",
     "exception": false,
     "start_time": "2021-08-11T00:00:05.243174",
     "status": "completed"
    },
    "tags": []
   },
   "outputs": [],
   "source": [
    "df_pivot.columns = [\"stamp_1\", \"stamp_2\"]\n",
    "df_pivot_diff = df_pivot.diff(axis=1)"
   ]
  },
  {
   "cell_type": "code",
   "execution_count": 7,
   "id": "fifth-motion",
   "metadata": {
    "execution": {
     "iopub.execute_input": "2021-08-11T00:00:05.297063Z",
     "iopub.status.busy": "2021-08-11T00:00:05.296211Z",
     "iopub.status.idle": "2021-08-11T00:00:06.008194Z",
     "shell.execute_reply": "2021-08-11T00:00:06.009368Z"
    },
    "papermill": {
     "duration": 0.729084,
     "end_time": "2021-08-11T00:00:06.009706",
     "exception": false,
     "start_time": "2021-08-11T00:00:05.280622",
     "status": "completed"
    },
    "tags": []
   },
   "outputs": [
    {
     "data": {
      "text/plain": [
       "<AxesSubplot:ylabel='PRODUCT'>"
      ]
     },
     "execution_count": 7,
     "metadata": {},
     "output_type": "execute_result"
    },
    {
     "data": {
      "image/png": "[encoded data removed]",
      "text/plain": [
       "<Figure size 432x288 with 1 Axes>"
      ]
     },
     "metadata": {
      "needs_background": "light"
     },
     "output_type": "display_data"
    }
   ],
   "source": [
    "df_pivot_diff.sort_values(\"stamp_2\", ascending = False)[\"stamp_2\"].head(10).plot.barh()"
   ]
  },
  {
   "cell_type": "code",
   "execution_count": null,
   "id": "extra-executive",
   "metadata": {
    "papermill": {
     "duration": 0.009295,
     "end_time": "2021-08-11T00:00:06.031787",
     "exception": false,
     "start_time": "2021-08-11T00:00:06.022492",
     "status": "completed"
    },
    "tags": []
   },
   "outputs": [],
   "source": []
  }
 ],
 "metadata": {
  "kernelspec": {
   "display_name": "Python 3",
   "language": "python",
   "name": "python3"
  },
  "language_info": {
   "codemirror_mode": {
    "name": "ipython",
    "version": 3
   },
   "file_extension": ".py",
   "mimetype": "text/x-python",
   "name": "python",
   "nbconvert_exporter": "python",
   "pygments_lexer": "ipython3",
   "version": "3.8.8"
  },
  "papermill": {
   "default_parameters": {},
   "duration": 4.945752,
   "end_time": "2021-08-11T00:00:07.506031",
   "environment_variables": {},
   "exception": null,
   "input_path": "/Users/saravananshanmugam/Carbonleakage_Git/UsedObjects/eBay_Overview.ipynb",
   "output_path": "/Users/saravananshanmugam/Carbonleakage_Git/UsedObjects/eBay_Overview.ipynb",
   "parameters": {},
   "start_time": "2021-08-11T00:00:02.560279",
   "version": "2.3.3"
  }
 },
 "nbformat": 4,
 "nbformat_minor": 5
}