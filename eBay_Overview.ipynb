{
 "cells": [
  {
   "cell_type": "code",
   "execution_count": 1,
   "id": "reverse-picking",
   "metadata": {
    "execution": {
     "iopub.execute_input": "2021-10-28T20:00:06.974220Z",
     "iopub.status.busy": "2021-10-28T20:00:06.972245Z",
     "iopub.status.idle": "2021-10-28T20:00:07.774312Z",
     "shell.execute_reply": "2021-10-28T20:00:07.775686Z"
    },
    "papermill": {
     "duration": 0.853611,
     "end_time": "2021-10-28T20:00:07.776370",
     "exception": false,
     "start_time": "2021-10-28T20:00:06.922759",
     "status": "completed"
    },
    "tags": []
   },
   "outputs": [],
   "source": [
    "import pandas as pd\n",
    "import sqlite3"
   ]
  },
  {
   "cell_type": "code",
   "execution_count": 2,
   "id": "innovative-syndrome",
   "metadata": {
    "execution": {
     "iopub.execute_input": "2021-10-28T20:00:07.827822Z",
     "iopub.status.busy": "2021-10-28T20:00:07.825541Z",
     "iopub.status.idle": "2021-10-28T20:00:08.502070Z",
     "shell.execute_reply": "2021-10-28T20:00:08.503259Z"
    },
    "papermill": {
     "duration": 0.706562,
     "end_time": "2021-10-28T20:00:08.503653",
     "exception": false,
     "start_time": "2021-10-28T20:00:07.797091",
     "status": "completed"
    },
    "tags": []
   },
   "outputs": [],
   "source": [
    "timestamps = pd.read_sql(\"select distinct record_time from EBAY_TOP_BERLIN order by record_time desc limit 2\", sqlite3.connect(\"UsedObjects.db\"))"
   ]
  },
  {
   "cell_type": "code",
   "execution_count": 3,
   "id": "periodic-identification",
   "metadata": {
    "execution": {
     "iopub.execute_input": "2021-10-28T20:00:08.576657Z",
     "iopub.status.busy": "2021-10-28T20:00:08.574667Z",
     "iopub.status.idle": "2021-10-28T20:00:08.594336Z",
     "shell.execute_reply": "2021-10-28T20:00:08.595615Z"
    },
    "papermill": {
     "duration": 0.067431,
     "end_time": "2021-10-28T20:00:08.596033",
     "exception": false,
     "start_time": "2021-10-28T20:00:08.528602",
     "status": "completed"
    },
    "tags": []
   },
   "outputs": [
    {
     "data": {
      "text/html": [
       "<div>\n",
       "<style scoped>\n",
       "    .dataframe tbody tr th:only-of-type {\n",
       "        vertical-align: middle;\n",
       "    }\n",
       "\n",
       "    .dataframe tbody tr th {\n",
       "        vertical-align: top;\n",
       "    }\n",
       "\n",
       "    .dataframe thead th {\n",
       "        text-align: right;\n",
       "    }\n",
       "</style>\n",
       "<table border=\"1\" class=\"dataframe\">\n",
       "  <thead>\n",
       "    <tr style=\"text-align: right;\">\n",
       "      <th></th>\n",
       "      <th>RECORD_TIME</th>\n",
       "    </tr>\n",
       "  </thead>\n",
       "  <tbody>\n",
       "    <tr>\n",
       "      <th>0</th>\n",
       "      <td>2021-10-28 22:00</td>\n",
       "    </tr>\n",
       "    <tr>\n",
       "      <th>1</th>\n",
       "      <td>2021-10-28 21:30</td>\n",
       "    </tr>\n",
       "  </tbody>\n",
       "</table>\n",
       "</div>"
      ],
      "text/plain": [
       "        RECORD_TIME\n",
       "0  2021-10-28 22:00\n",
       "1  2021-10-28 21:30"
      ]
     },
     "execution_count": 3,
     "metadata": {},
     "output_type": "execute_result"
    }
   ],
   "source": [
    "timestamps"
   ]
  },
  {
   "cell_type": "code",
   "execution_count": 4,
   "id": "alternate-victory",
   "metadata": {
    "execution": {
     "iopub.execute_input": "2021-10-28T20:00:08.647032Z",
     "iopub.status.busy": "2021-10-28T20:00:08.645204Z",
     "iopub.status.idle": "2021-10-28T20:00:09.642279Z",
     "shell.execute_reply": "2021-10-28T20:00:09.643473Z"
    },
    "papermill": {
     "duration": 1.026636,
     "end_time": "2021-10-28T20:00:09.643869",
     "exception": false,
     "start_time": "2021-10-28T20:00:08.617233",
     "status": "completed"
    },
    "tags": []
   },
   "outputs": [],
   "source": [
    "df = pd.read_sql(\"select * from EBAY_TOP_BERLIN where record_time in (select distinct record_time from EBAY_TOP_BERLIN order by record_time desc limit 2)\", sqlite3.connect(\"UsedObjects.db\"))"
   ]
  },
  {
   "cell_type": "code",
   "execution_count": 5,
   "id": "popular-active",
   "metadata": {
    "execution": {
     "iopub.execute_input": "2021-10-28T20:00:09.713495Z",
     "iopub.status.busy": "2021-10-28T20:00:09.701834Z",
     "iopub.status.idle": "2021-10-28T20:00:09.729841Z",
     "shell.execute_reply": "2021-10-28T20:00:09.731096Z"
    },
    "papermill": {
     "duration": 0.067236,
     "end_time": "2021-10-28T20:00:09.731494",
     "exception": false,
     "start_time": "2021-10-28T20:00:09.664258",
     "status": "completed"
    },
    "tags": []
   },
   "outputs": [],
   "source": [
    "df_pivot = df.pivot_table(index=\"PRODUCT\", columns = \"RECORD_TIME\", values = \"LISTING_COUNT\")"
   ]
  },
  {
   "cell_type": "code",
   "execution_count": 6,
   "id": "union-huntington",
   "metadata": {
    "execution": {
     "iopub.execute_input": "2021-10-28T20:00:09.785638Z",
     "iopub.status.busy": "2021-10-28T20:00:09.783674Z",
     "iopub.status.idle": "2021-10-28T20:00:09.788873Z",
     "shell.execute_reply": "2021-10-28T20:00:09.790224Z"
    },
    "papermill": {
     "duration": 0.039499,
     "end_time": "2021-10-28T20:00:09.790637",
     "exception": false,
     "start_time": "2021-10-28T20:00:09.751138",
     "status": "completed"
    },
    "tags": []
   },
   "outputs": [],
   "source": [
    "df_pivot.columns = [\"stamp_1\", \"stamp_2\"]\n",
    "df_pivot_diff = df_pivot.diff(axis=1)"
   ]
  },
  {
   "cell_type": "code",
   "execution_count": 7,
   "id": "fifth-motion",
   "metadata": {
    "execution": {
     "iopub.execute_input": "2021-10-28T20:00:09.844573Z",
     "iopub.status.busy": "2021-10-28T20:00:09.842204Z",
     "iopub.status.idle": "2021-10-28T20:00:11.315503Z",
     "shell.execute_reply": "2021-10-28T20:00:11.316991Z"
    },
    "papermill": {
     "duration": 1.505976,
     "end_time": "2021-10-28T20:00:11.317467",
     "exception": false,
     "start_time": "2021-10-28T20:00:09.811491",
     "status": "completed"
    },
    "tags": []
   },
   "outputs": [
    {
     "data": {
      "text/plain": [
       "<AxesSubplot:ylabel='PRODUCT'>"
      ]
     },
     "execution_count": 7,
     "metadata": {},
     "output_type": "execute_result"
    },
    {
     "data": {
      "image/png": "[encoded data removed]",
      "text/plain": [
       "<Figure size 432x288 with 1 Axes>"
      ]
     },
     "metadata": {
      "needs_background": "light"
     },
     "output_type": "display_data"
    }
   ],
   "source": [
    "df_pivot_diff.sort_values(\"stamp_2\", ascending = False)[\"stamp_2\"].head(10).plot.barh()"
   ]
  },
  {
   "cell_type": "code",
   "execution_count": null,
   "id": "extra-executive",
   "metadata": {
    "papermill": {
     "duration": 0.022549,
     "end_time": "2021-10-28T20:00:11.363798",
     "exception": false,
     "start_time": "2021-10-28T20:00:11.341249",
     "status": "completed"
    },
    "tags": []
   },
   "outputs": [],
   "source": []
  }
 ],
 "metadata": {
  "kernelspec": {
   "display_name": "Python 3",
   "language": "python",
   "name": "python3"
  },
  "language_info": {
   "codemirror_mode": {
    "name": "ipython",
    "version": 3
   },
   "file_extension": ".py",
   "mimetype": "text/x-python",
   "name": "python",
   "nbconvert_exporter": "python",
   "pygments_lexer": "ipython3",
   "version": "3.9.5"
  },
  "papermill": {
   "default_parameters": {},
   "duration": 7.482475,
   "end_time": "2021-10-28T20:00:12.005811",
   "environment_variables": {},
   "exception": null,
   "input_path": "eBay_Overview.ipynb",
   "output_path": "eBay_Overview.ipynb",
   "parameters": {},
   "start_time": "2021-10-28T20:00:04.523336",
   "version": "2.3.3"
  }
 },
 "nbformat": 4,
 "nbformat_minor": 5
}