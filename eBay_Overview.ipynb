{
 "cells": [
  {
   "cell_type": "code",
   "execution_count": 1,
   "id": "reverse-picking",
   "metadata": {
    "execution": {
     "iopub.execute_input": "2021-10-12T14:30:07.334503Z",
     "iopub.status.busy": "2021-10-12T14:30:07.332561Z",
     "iopub.status.idle": "2021-10-12T14:30:08.135080Z",
     "shell.execute_reply": "2021-10-12T14:30:08.136314Z"
    },
    "papermill": {
     "duration": 0.853035,
     "end_time": "2021-10-12T14:30:08.136977",
     "exception": false,
     "start_time": "2021-10-12T14:30:07.283942",
     "status": "completed"
    },
    "tags": []
   },
   "outputs": [],
   "source": [
    "import pandas as pd\n",
    "import sqlite3"
   ]
  },
  {
   "cell_type": "code",
   "execution_count": 2,
   "id": "innovative-syndrome",
   "metadata": {
    "execution": {
     "iopub.execute_input": "2021-10-12T14:30:08.188205Z",
     "iopub.status.busy": "2021-10-12T14:30:08.186369Z",
     "iopub.status.idle": "2021-10-12T14:30:08.693719Z",
     "shell.execute_reply": "2021-10-12T14:30:08.695085Z"
    },
    "papermill": {
     "duration": 0.536927,
     "end_time": "2021-10-12T14:30:08.695517",
     "exception": false,
     "start_time": "2021-10-12T14:30:08.158590",
     "status": "completed"
    },
    "tags": []
   },
   "outputs": [],
   "source": [
    "timestamps = pd.read_sql(\"select distinct record_time from EBAY_TOP_BERLIN order by record_time desc limit 2\", sqlite3.connect(\"UsedObjects.db\"))"
   ]
  },
  {
   "cell_type": "code",
   "execution_count": 3,
   "id": "periodic-identification",
   "metadata": {
    "execution": {
     "iopub.execute_input": "2021-10-12T14:30:08.759392Z",
     "iopub.status.busy": "2021-10-12T14:30:08.757415Z",
     "iopub.status.idle": "2021-10-12T14:30:08.777301Z",
     "shell.execute_reply": "2021-10-12T14:30:08.778657Z"
    },
    "papermill": {
     "duration": 0.063234,
     "end_time": "2021-10-12T14:30:08.779072",
     "exception": false,
     "start_time": "2021-10-12T14:30:08.715838",
     "status": "completed"
    },
    "tags": []
   },
   "outputs": [
    {
     "data": {
      "text/html": [
       "<div>\n",
       "<style scoped>\n",
       "    .dataframe tbody tr th:only-of-type {\n",
       "        vertical-align: middle;\n",
       "    }\n",
       "\n",
       "    .dataframe tbody tr th {\n",
       "        vertical-align: top;\n",
       "    }\n",
       "\n",
       "    .dataframe thead th {\n",
       "        text-align: right;\n",
       "    }\n",
       "</style>\n",
       "<table border=\"1\" class=\"dataframe\">\n",
       "  <thead>\n",
       "    <tr style=\"text-align: right;\">\n",
       "      <th></th>\n",
       "      <th>RECORD_TIME</th>\n",
       "    </tr>\n",
       "  </thead>\n",
       "  <tbody>\n",
       "    <tr>\n",
       "      <th>0</th>\n",
       "      <td>2021-10-12 16:30</td>\n",
       "    </tr>\n",
       "    <tr>\n",
       "      <th>1</th>\n",
       "      <td>2021-10-12 16:00</td>\n",
       "    </tr>\n",
       "  </tbody>\n",
       "</table>\n",
       "</div>"
      ],
      "text/plain": [
       "        RECORD_TIME\n",
       "0  2021-10-12 16:30\n",
       "1  2021-10-12 16:00"
      ]
     },
     "execution_count": 3,
     "metadata": {},
     "output_type": "execute_result"
    }
   ],
   "source": [
    "timestamps"
   ]
  },
  {
   "cell_type": "code",
   "execution_count": 4,
   "id": "alternate-victory",
   "metadata": {
    "execution": {
     "iopub.execute_input": "2021-10-12T14:30:08.839433Z",
     "iopub.status.busy": "2021-10-12T14:30:08.837621Z",
     "iopub.status.idle": "2021-10-12T14:30:09.592452Z",
     "shell.execute_reply": "2021-10-12T14:30:09.593724Z"
    },
    "papermill": {
     "duration": 0.788222,
     "end_time": "2021-10-12T14:30:09.594120",
     "exception": false,
     "start_time": "2021-10-12T14:30:08.805898",
     "status": "completed"
    },
    "tags": []
   },
   "outputs": [],
   "source": [
    "df = pd.read_sql(\"select * from EBAY_TOP_BERLIN where record_time in (select distinct record_time from EBAY_TOP_BERLIN order by record_time desc limit 2)\", sqlite3.connect(\"UsedObjects.db\"))"
   ]
  },
  {
   "cell_type": "code",
   "execution_count": 5,
   "id": "popular-active",
   "metadata": {
    "execution": {
     "iopub.execute_input": "2021-10-12T14:30:09.664625Z",
     "iopub.status.busy": "2021-10-12T14:30:09.652394Z",
     "iopub.status.idle": "2021-10-12T14:30:09.682194Z",
     "shell.execute_reply": "2021-10-12T14:30:09.683551Z"
    },
    "papermill": {
     "duration": 0.069285,
     "end_time": "2021-10-12T14:30:09.683987",
     "exception": false,
     "start_time": "2021-10-12T14:30:09.614702",
     "status": "completed"
    },
    "tags": []
   },
   "outputs": [],
   "source": [
    "df_pivot = df.pivot_table(index=\"PRODUCT\", columns = \"RECORD_TIME\", values = \"LISTING_COUNT\")"
   ]
  },
  {
   "cell_type": "code",
   "execution_count": 6,
   "id": "union-huntington",
   "metadata": {
    "execution": {
     "iopub.execute_input": "2021-10-12T14:30:09.742022Z",
     "iopub.status.busy": "2021-10-12T14:30:09.739924Z",
     "iopub.status.idle": "2021-10-12T14:30:09.745204Z",
     "shell.execute_reply": "2021-10-12T14:30:09.746502Z"
    },
    "papermill": {
     "duration": 0.041851,
     "end_time": "2021-10-12T14:30:09.746913",
     "exception": false,
     "start_time": "2021-10-12T14:30:09.705062",
     "status": "completed"
    },
    "tags": []
   },
   "outputs": [],
   "source": [
    "df_pivot.columns = [\"stamp_1\", \"stamp_2\"]\n",
    "df_pivot_diff = df_pivot.diff(axis=1)"
   ]
  },
  {
   "cell_type": "code",
   "execution_count": 7,
   "id": "fifth-motion",
   "metadata": {
    "execution": {
     "iopub.execute_input": "2021-10-12T14:30:09.802365Z",
     "iopub.status.busy": "2021-10-12T14:30:09.799834Z",
     "iopub.status.idle": "2021-10-12T14:30:11.264048Z",
     "shell.execute_reply": "2021-10-12T14:30:11.265526Z"
    },
    "papermill": {
     "duration": 1.497641,
     "end_time": "2021-10-12T14:30:11.265981",
     "exception": false,
     "start_time": "2021-10-12T14:30:09.768340",
     "status": "completed"
    },
    "tags": []
   },
   "outputs": [
    {
     "data": {
      "text/plain": [
       "<AxesSubplot:ylabel='PRODUCT'>"
      ]
     },
     "execution_count": 7,
     "metadata": {},
     "output_type": "execute_result"
    },
    {
     "data": {
      "image/png": "[encoded data removed]",
      "text/plain": [
       "<Figure size 432x288 with 1 Axes>"
      ]
     },
     "metadata": {
      "needs_background": "light"
     },
     "output_type": "display_data"
    }
   ],
   "source": [
    "df_pivot_diff.sort_values(\"stamp_2\", ascending = False)[\"stamp_2\"].head(10).plot.barh()"
   ]
  },
  {
   "cell_type": "code",
   "execution_count": null,
   "id": "extra-executive",
   "metadata": {
    "papermill": {
     "duration": 0.022184,
     "end_time": "2021-10-12T14:30:11.312803",
     "exception": false,
     "start_time": "2021-10-12T14:30:11.290619",
     "status": "completed"
    },
    "tags": []
   },
   "outputs": [],
   "source": []
  }
 ],
 "metadata": {
  "kernelspec": {
   "display_name": "Python 3",
   "language": "python",
   "name": "python3"
  },
  "language_info": {
   "codemirror_mode": {
    "name": "ipython",
    "version": 3
   },
   "file_extension": ".py",
   "mimetype": "text/x-python",
   "name": "python",
   "nbconvert_exporter": "python",
   "pygments_lexer": "ipython3",
   "version": "3.9.5"
  },
  "papermill": {
   "default_parameters": {},
   "duration": 7.841216,
   "end_time": "2021-10-12T14:30:12.727845",
   "environment_variables": {},
   "exception": null,
   "input_path": "eBay_Overview.ipynb",
   "output_path": "eBay_Overview.ipynb",
   "parameters": {},
   "start_time": "2021-10-12T14:30:04.886629",
   "version": "2.3.3"
  }
 },
 "nbformat": 4,
 "nbformat_minor": 5
}