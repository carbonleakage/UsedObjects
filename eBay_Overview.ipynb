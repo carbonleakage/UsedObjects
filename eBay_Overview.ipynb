{
 "cells": [
  {
   "cell_type": "code",
   "execution_count": 1,
   "id": "reverse-picking",
   "metadata": {
    "execution": {
     "iopub.execute_input": "2021-10-27T00:00:07.023162Z",
     "iopub.status.busy": "2021-10-27T00:00:07.021245Z",
     "iopub.status.idle": "2021-10-27T00:00:07.824903Z",
     "shell.execute_reply": "2021-10-27T00:00:07.826256Z"
    },
    "papermill": {
     "duration": 0.857568,
     "end_time": "2021-10-27T00:00:07.826893",
     "exception": false,
     "start_time": "2021-10-27T00:00:06.969325",
     "status": "completed"
    },
    "tags": []
   },
   "outputs": [],
   "source": [
    "import pandas as pd\n",
    "import sqlite3"
   ]
  },
  {
   "cell_type": "code",
   "execution_count": 2,
   "id": "innovative-syndrome",
   "metadata": {
    "execution": {
     "iopub.execute_input": "2021-10-27T00:00:07.877569Z",
     "iopub.status.busy": "2021-10-27T00:00:07.875627Z",
     "iopub.status.idle": "2021-10-27T00:00:08.513128Z",
     "shell.execute_reply": "2021-10-27T00:00:08.514510Z"
    },
    "papermill": {
     "duration": 0.666943,
     "end_time": "2021-10-27T00:00:08.514944",
     "exception": false,
     "start_time": "2021-10-27T00:00:07.848001",
     "status": "completed"
    },
    "tags": []
   },
   "outputs": [],
   "source": [
    "timestamps = pd.read_sql(\"select distinct record_time from EBAY_TOP_BERLIN order by record_time desc limit 2\", sqlite3.connect(\"UsedObjects.db\"))"
   ]
  },
  {
   "cell_type": "code",
   "execution_count": 3,
   "id": "periodic-identification",
   "metadata": {
    "execution": {
     "iopub.execute_input": "2021-10-27T00:00:08.599128Z",
     "iopub.status.busy": "2021-10-27T00:00:08.597121Z",
     "iopub.status.idle": "2021-10-27T00:00:08.617042Z",
     "shell.execute_reply": "2021-10-27T00:00:08.618533Z"
    },
    "papermill": {
     "duration": 0.072567,
     "end_time": "2021-10-27T00:00:08.618996",
     "exception": false,
     "start_time": "2021-10-27T00:00:08.546429",
     "status": "completed"
    },
    "tags": []
   },
   "outputs": [
    {
     "data": {
      "text/html": [
       "<div>\n",
       "<style scoped>\n",
       "    .dataframe tbody tr th:only-of-type {\n",
       "        vertical-align: middle;\n",
       "    }\n",
       "\n",
       "    .dataframe tbody tr th {\n",
       "        vertical-align: top;\n",
       "    }\n",
       "\n",
       "    .dataframe thead th {\n",
       "        text-align: right;\n",
       "    }\n",
       "</style>\n",
       "<table border=\"1\" class=\"dataframe\">\n",
       "  <thead>\n",
       "    <tr style=\"text-align: right;\">\n",
       "      <th></th>\n",
       "      <th>RECORD_TIME</th>\n",
       "    </tr>\n",
       "  </thead>\n",
       "  <tbody>\n",
       "    <tr>\n",
       "      <th>0</th>\n",
       "      <td>2021-10-27 02:00</td>\n",
       "    </tr>\n",
       "    <tr>\n",
       "      <th>1</th>\n",
       "      <td>2021-10-27 01:30</td>\n",
       "    </tr>\n",
       "  </tbody>\n",
       "</table>\n",
       "</div>"
      ],
      "text/plain": [
       "        RECORD_TIME\n",
       "0  2021-10-27 02:00\n",
       "1  2021-10-27 01:30"
      ]
     },
     "execution_count": 3,
     "metadata": {},
     "output_type": "execute_result"
    }
   ],
   "source": [
    "timestamps"
   ]
  },
  {
   "cell_type": "code",
   "execution_count": 4,
   "id": "alternate-victory",
   "metadata": {
    "execution": {
     "iopub.execute_input": "2021-10-27T00:00:08.670586Z",
     "iopub.status.busy": "2021-10-27T00:00:08.668361Z",
     "iopub.status.idle": "2021-10-27T00:00:09.596171Z",
     "shell.execute_reply": "2021-10-27T00:00:09.597456Z"
    },
    "papermill": {
     "duration": 0.957715,
     "end_time": "2021-10-27T00:00:09.597861",
     "exception": false,
     "start_time": "2021-10-27T00:00:08.640146",
     "status": "completed"
    },
    "tags": []
   },
   "outputs": [],
   "source": [
    "df = pd.read_sql(\"select * from EBAY_TOP_BERLIN where record_time in (select distinct record_time from EBAY_TOP_BERLIN order by record_time desc limit 2)\", sqlite3.connect(\"UsedObjects.db\"))"
   ]
  },
  {
   "cell_type": "code",
   "execution_count": 5,
   "id": "popular-active",
   "metadata": {
    "execution": {
     "iopub.execute_input": "2021-10-27T00:00:09.671288Z",
     "iopub.status.busy": "2021-10-27T00:00:09.658352Z",
     "iopub.status.idle": "2021-10-27T00:00:09.686686Z",
     "shell.execute_reply": "2021-10-27T00:00:09.687882Z"
    },
    "papermill": {
     "duration": 0.067744,
     "end_time": "2021-10-27T00:00:09.688268",
     "exception": false,
     "start_time": "2021-10-27T00:00:09.620524",
     "status": "completed"
    },
    "tags": []
   },
   "outputs": [],
   "source": [
    "df_pivot = df.pivot_table(index=\"PRODUCT\", columns = \"RECORD_TIME\", values = \"LISTING_COUNT\")"
   ]
  },
  {
   "cell_type": "code",
   "execution_count": 6,
   "id": "union-huntington",
   "metadata": {
    "execution": {
     "iopub.execute_input": "2021-10-27T00:00:09.744118Z",
     "iopub.status.busy": "2021-10-27T00:00:09.742087Z",
     "iopub.status.idle": "2021-10-27T00:00:09.747271Z",
     "shell.execute_reply": "2021-10-27T00:00:09.748534Z"
    },
    "papermill": {
     "duration": 0.040132,
     "end_time": "2021-10-27T00:00:09.749005",
     "exception": false,
     "start_time": "2021-10-27T00:00:09.708873",
     "status": "completed"
    },
    "tags": []
   },
   "outputs": [],
   "source": [
    "df_pivot.columns = [\"stamp_1\", \"stamp_2\"]\n",
    "df_pivot_diff = df_pivot.diff(axis=1)"
   ]
  },
  {
   "cell_type": "code",
   "execution_count": 7,
   "id": "fifth-motion",
   "metadata": {
    "execution": {
     "iopub.execute_input": "2021-10-27T00:00:09.803349Z",
     "iopub.status.busy": "2021-10-27T00:00:09.800639Z",
     "iopub.status.idle": "2021-10-27T00:00:11.257196Z",
     "shell.execute_reply": "2021-10-27T00:00:11.258491Z"
    },
    "papermill": {
     "duration": 1.489754,
     "end_time": "2021-10-27T00:00:11.258905",
     "exception": false,
     "start_time": "2021-10-27T00:00:09.769151",
     "status": "completed"
    },
    "tags": []
   },
   "outputs": [
    {
     "data": {
      "text/plain": [
       "<AxesSubplot:ylabel='PRODUCT'>"
      ]
     },
     "execution_count": 7,
     "metadata": {},
     "output_type": "execute_result"
    },
    {
     "data": {
      "image/png": "[encoded data removed]",
      "text/plain": [
       "<Figure size 432x288 with 1 Axes>"
      ]
     },
     "metadata": {
      "needs_background": "light"
     },
     "output_type": "display_data"
    }
   ],
   "source": [
    "df_pivot_diff.sort_values(\"stamp_2\", ascending = False)[\"stamp_2\"].head(10).plot.barh()"
   ]
  },
  {
   "cell_type": "code",
   "execution_count": null,
   "id": "extra-executive",
   "metadata": {
    "papermill": {
     "duration": 0.021871,
     "end_time": "2021-10-27T00:00:11.303743",
     "exception": false,
     "start_time": "2021-10-27T00:00:11.281872",
     "status": "completed"
    },
    "tags": []
   },
   "outputs": [],
   "source": []
  }
 ],
 "metadata": {
  "kernelspec": {
   "display_name": "Python 3",
   "language": "python",
   "name": "python3"
  },
  "language_info": {
   "codemirror_mode": {
    "name": "ipython",
    "version": 3
   },
   "file_extension": ".py",
   "mimetype": "text/x-python",
   "name": "python",
   "nbconvert_exporter": "python",
   "pygments_lexer": "ipython3",
   "version": "3.9.5"
  },
  "papermill": {
   "default_parameters": {},
   "duration": 7.390976,
   "end_time": "2021-10-27T00:00:11.945873",
   "environment_variables": {},
   "exception": null,
   "input_path": "eBay_Overview.ipynb",
   "output_path": "eBay_Overview.ipynb",
   "parameters": {},
   "start_time": "2021-10-27T00:00:04.554897",
   "version": "2.3.3"
  }
 },
 "nbformat": 4,
 "nbformat_minor": 5
}