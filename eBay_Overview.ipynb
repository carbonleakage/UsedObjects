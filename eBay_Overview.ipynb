{
 "cells": [
  {
   "cell_type": "code",
   "execution_count": 1,
   "id": "reverse-picking",
   "metadata": {
    "execution": {
     "iopub.execute_input": "2021-10-14T08:30:07.366439Z",
     "iopub.status.busy": "2021-10-14T08:30:07.364396Z",
     "iopub.status.idle": "2021-10-14T08:30:08.170864Z",
     "shell.execute_reply": "2021-10-14T08:30:08.172101Z"
    },
    "papermill": {
     "duration": 0.85844,
     "end_time": "2021-10-14T08:30:08.172758",
     "exception": false,
     "start_time": "2021-10-14T08:30:07.314318",
     "status": "completed"
    },
    "tags": []
   },
   "outputs": [],
   "source": [
    "import pandas as pd\n",
    "import sqlite3"
   ]
  },
  {
   "cell_type": "code",
   "execution_count": 2,
   "id": "innovative-syndrome",
   "metadata": {
    "execution": {
     "iopub.execute_input": "2021-10-14T08:30:08.223629Z",
     "iopub.status.busy": "2021-10-14T08:30:08.221798Z",
     "iopub.status.idle": "2021-10-14T08:30:08.752601Z",
     "shell.execute_reply": "2021-10-14T08:30:08.754053Z"
    },
    "papermill": {
     "duration": 0.560864,
     "end_time": "2021-10-14T08:30:08.754601",
     "exception": false,
     "start_time": "2021-10-14T08:30:08.193737",
     "status": "completed"
    },
    "tags": []
   },
   "outputs": [],
   "source": [
    "timestamps = pd.read_sql(\"select distinct record_time from EBAY_TOP_BERLIN order by record_time desc limit 2\", sqlite3.connect(\"UsedObjects.db\"))"
   ]
  },
  {
   "cell_type": "code",
   "execution_count": 3,
   "id": "periodic-identification",
   "metadata": {
    "execution": {
     "iopub.execute_input": "2021-10-14T08:30:08.822462Z",
     "iopub.status.busy": "2021-10-14T08:30:08.820308Z",
     "iopub.status.idle": "2021-10-14T08:30:08.840284Z",
     "shell.execute_reply": "2021-10-14T08:30:08.841761Z"
    },
    "papermill": {
     "duration": 0.066925,
     "end_time": "2021-10-14T08:30:08.842209",
     "exception": false,
     "start_time": "2021-10-14T08:30:08.775284",
     "status": "completed"
    },
    "tags": []
   },
   "outputs": [
    {
     "data": {
      "text/html": [
       "<div>\n",
       "<style scoped>\n",
       "    .dataframe tbody tr th:only-of-type {\n",
       "        vertical-align: middle;\n",
       "    }\n",
       "\n",
       "    .dataframe tbody tr th {\n",
       "        vertical-align: top;\n",
       "    }\n",
       "\n",
       "    .dataframe thead th {\n",
       "        text-align: right;\n",
       "    }\n",
       "</style>\n",
       "<table border=\"1\" class=\"dataframe\">\n",
       "  <thead>\n",
       "    <tr style=\"text-align: right;\">\n",
       "      <th></th>\n",
       "      <th>RECORD_TIME</th>\n",
       "    </tr>\n",
       "  </thead>\n",
       "  <tbody>\n",
       "    <tr>\n",
       "      <th>0</th>\n",
       "      <td>2021-10-14 10:30</td>\n",
       "    </tr>\n",
       "    <tr>\n",
       "      <th>1</th>\n",
       "      <td>2021-10-14 10:00</td>\n",
       "    </tr>\n",
       "  </tbody>\n",
       "</table>\n",
       "</div>"
      ],
      "text/plain": [
       "        RECORD_TIME\n",
       "0  2021-10-14 10:30\n",
       "1  2021-10-14 10:00"
      ]
     },
     "execution_count": 3,
     "metadata": {},
     "output_type": "execute_result"
    }
   ],
   "source": [
    "timestamps"
   ]
  },
  {
   "cell_type": "code",
   "execution_count": 4,
   "id": "alternate-victory",
   "metadata": {
    "execution": {
     "iopub.execute_input": "2021-10-14T08:30:08.903140Z",
     "iopub.status.busy": "2021-10-14T08:30:08.901304Z",
     "iopub.status.idle": "2021-10-14T08:30:09.688542Z",
     "shell.execute_reply": "2021-10-14T08:30:09.689879Z"
    },
    "papermill": {
     "duration": 0.820694,
     "end_time": "2021-10-14T08:30:09.690293",
     "exception": false,
     "start_time": "2021-10-14T08:30:08.869599",
     "status": "completed"
    },
    "tags": []
   },
   "outputs": [],
   "source": [
    "df = pd.read_sql(\"select * from EBAY_TOP_BERLIN where record_time in (select distinct record_time from EBAY_TOP_BERLIN order by record_time desc limit 2)\", sqlite3.connect(\"UsedObjects.db\"))"
   ]
  },
  {
   "cell_type": "code",
   "execution_count": 5,
   "id": "popular-active",
   "metadata": {
    "execution": {
     "iopub.execute_input": "2021-10-14T08:30:09.759673Z",
     "iopub.status.busy": "2021-10-14T08:30:09.749002Z",
     "iopub.status.idle": "2021-10-14T08:30:09.775338Z",
     "shell.execute_reply": "2021-10-14T08:30:09.776547Z"
    },
    "papermill": {
     "duration": 0.066108,
     "end_time": "2021-10-14T08:30:09.777146",
     "exception": false,
     "start_time": "2021-10-14T08:30:09.711038",
     "status": "completed"
    },
    "tags": []
   },
   "outputs": [],
   "source": [
    "df_pivot = df.pivot_table(index=\"PRODUCT\", columns = \"RECORD_TIME\", values = \"LISTING_COUNT\")"
   ]
  },
  {
   "cell_type": "code",
   "execution_count": 6,
   "id": "union-huntington",
   "metadata": {
    "execution": {
     "iopub.execute_input": "2021-10-14T08:30:09.836443Z",
     "iopub.status.busy": "2021-10-14T08:30:09.834011Z",
     "iopub.status.idle": "2021-10-14T08:30:09.839782Z",
     "shell.execute_reply": "2021-10-14T08:30:09.841124Z"
    },
    "papermill": {
     "duration": 0.042348,
     "end_time": "2021-10-14T08:30:09.841545",
     "exception": false,
     "start_time": "2021-10-14T08:30:09.799197",
     "status": "completed"
    },
    "tags": []
   },
   "outputs": [],
   "source": [
    "df_pivot.columns = [\"stamp_1\", \"stamp_2\"]\n",
    "df_pivot_diff = df_pivot.diff(axis=1)"
   ]
  },
  {
   "cell_type": "code",
   "execution_count": 7,
   "id": "fifth-motion",
   "metadata": {
    "execution": {
     "iopub.execute_input": "2021-10-14T08:30:09.895657Z",
     "iopub.status.busy": "2021-10-14T08:30:09.893405Z",
     "iopub.status.idle": "2021-10-14T08:30:11.379036Z",
     "shell.execute_reply": "2021-10-14T08:30:11.380297Z"
    },
    "papermill": {
     "duration": 1.519431,
     "end_time": "2021-10-14T08:30:11.381402",
     "exception": false,
     "start_time": "2021-10-14T08:30:09.861971",
     "status": "completed"
    },
    "tags": []
   },
   "outputs": [
    {
     "data": {
      "text/plain": [
       "<AxesSubplot:ylabel='PRODUCT'>"
      ]
     },
     "execution_count": 7,
     "metadata": {},
     "output_type": "execute_result"
    },
    {
     "data": {
      "image/png": "[encoded data removed]",
      "text/plain": [
       "<Figure size 432x288 with 1 Axes>"
      ]
     },
     "metadata": {
      "needs_background": "light"
     },
     "output_type": "display_data"
    }
   ],
   "source": [
    "df_pivot_diff.sort_values(\"stamp_2\", ascending = False)[\"stamp_2\"].head(10).plot.barh()"
   ]
  },
  {
   "cell_type": "code",
   "execution_count": null,
   "id": "extra-executive",
   "metadata": {
    "papermill": {
     "duration": 0.022037,
     "end_time": "2021-10-14T08:30:11.428477",
     "exception": false,
     "start_time": "2021-10-14T08:30:11.406440",
     "status": "completed"
    },
    "tags": []
   },
   "outputs": [],
   "source": []
  }
 ],
 "metadata": {
  "kernelspec": {
   "display_name": "Python 3",
   "language": "python",
   "name": "python3"
  },
  "language_info": {
   "codemirror_mode": {
    "name": "ipython",
    "version": 3
   },
   "file_extension": ".py",
   "mimetype": "text/x-python",
   "name": "python",
   "nbconvert_exporter": "python",
   "pygments_lexer": "ipython3",
   "version": "3.9.5"
  },
  "papermill": {
   "default_parameters": {},
   "duration": 7.820841,
   "end_time": "2021-10-14T08:30:12.733695",
   "environment_variables": {},
   "exception": null,
   "input_path": "eBay_Overview.ipynb",
   "output_path": "eBay_Overview.ipynb",
   "parameters": {},
   "start_time": "2021-10-14T08:30:04.912854",
   "version": "2.3.3"
  }
 },
 "nbformat": 4,
 "nbformat_minor": 5
}