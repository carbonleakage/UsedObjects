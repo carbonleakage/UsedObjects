{
 "cells": [
  {
   "cell_type": "code",
   "execution_count": 1,
   "id": "reverse-picking",
   "metadata": {
    "execution": {
     "iopub.execute_input": "2021-10-28T13:00:06.872516Z",
     "iopub.status.busy": "2021-10-28T13:00:06.870563Z",
     "iopub.status.idle": "2021-10-28T13:00:07.676672Z",
     "shell.execute_reply": "2021-10-28T13:00:07.678091Z"
    },
    "papermill": {
     "duration": 0.858953,
     "end_time": "2021-10-28T13:00:07.678731",
     "exception": false,
     "start_time": "2021-10-28T13:00:06.819778",
     "status": "completed"
    },
    "tags": []
   },
   "outputs": [],
   "source": [
    "import pandas as pd\n",
    "import sqlite3"
   ]
  },
  {
   "cell_type": "code",
   "execution_count": 2,
   "id": "innovative-syndrome",
   "metadata": {
    "execution": {
     "iopub.execute_input": "2021-10-28T13:00:07.729328Z",
     "iopub.status.busy": "2021-10-28T13:00:07.727248Z",
     "iopub.status.idle": "2021-10-28T13:00:08.478980Z",
     "shell.execute_reply": "2021-10-28T13:00:08.480257Z"
    },
    "papermill": {
     "duration": 0.781596,
     "end_time": "2021-10-28T13:00:08.480671",
     "exception": false,
     "start_time": "2021-10-28T13:00:07.699075",
     "status": "completed"
    },
    "tags": []
   },
   "outputs": [],
   "source": [
    "timestamps = pd.read_sql(\"select distinct record_time from EBAY_TOP_BERLIN order by record_time desc limit 2\", sqlite3.connect(\"UsedObjects.db\"))"
   ]
  },
  {
   "cell_type": "code",
   "execution_count": 3,
   "id": "periodic-identification",
   "metadata": {
    "execution": {
     "iopub.execute_input": "2021-10-28T13:00:08.545367Z",
     "iopub.status.busy": "2021-10-28T13:00:08.543147Z",
     "iopub.status.idle": "2021-10-28T13:00:08.563124Z",
     "shell.execute_reply": "2021-10-28T13:00:08.564420Z"
    },
    "papermill": {
     "duration": 0.064481,
     "end_time": "2021-10-28T13:00:08.564891",
     "exception": false,
     "start_time": "2021-10-28T13:00:08.500410",
     "status": "completed"
    },
    "tags": []
   },
   "outputs": [
    {
     "data": {
      "text/html": [
       "<div>\n",
       "<style scoped>\n",
       "    .dataframe tbody tr th:only-of-type {\n",
       "        vertical-align: middle;\n",
       "    }\n",
       "\n",
       "    .dataframe tbody tr th {\n",
       "        vertical-align: top;\n",
       "    }\n",
       "\n",
       "    .dataframe thead th {\n",
       "        text-align: right;\n",
       "    }\n",
       "</style>\n",
       "<table border=\"1\" class=\"dataframe\">\n",
       "  <thead>\n",
       "    <tr style=\"text-align: right;\">\n",
       "      <th></th>\n",
       "      <th>RECORD_TIME</th>\n",
       "    </tr>\n",
       "  </thead>\n",
       "  <tbody>\n",
       "    <tr>\n",
       "      <th>0</th>\n",
       "      <td>2021-10-28 15:00</td>\n",
       "    </tr>\n",
       "    <tr>\n",
       "      <th>1</th>\n",
       "      <td>2021-10-28 14:30</td>\n",
       "    </tr>\n",
       "  </tbody>\n",
       "</table>\n",
       "</div>"
      ],
      "text/plain": [
       "        RECORD_TIME\n",
       "0  2021-10-28 15:00\n",
       "1  2021-10-28 14:30"
      ]
     },
     "execution_count": 3,
     "metadata": {},
     "output_type": "execute_result"
    }
   ],
   "source": [
    "timestamps"
   ]
  },
  {
   "cell_type": "code",
   "execution_count": 4,
   "id": "alternate-victory",
   "metadata": {
    "execution": {
     "iopub.execute_input": "2021-10-28T13:00:08.616366Z",
     "iopub.status.busy": "2021-10-28T13:00:08.614517Z",
     "iopub.status.idle": "2021-10-28T13:00:09.563170Z",
     "shell.execute_reply": "2021-10-28T13:00:09.564379Z"
    },
    "papermill": {
     "duration": 0.97874,
     "end_time": "2021-10-28T13:00:09.564946",
     "exception": false,
     "start_time": "2021-10-28T13:00:08.586206",
     "status": "completed"
    },
    "tags": []
   },
   "outputs": [],
   "source": [
    "df = pd.read_sql(\"select * from EBAY_TOP_BERLIN where record_time in (select distinct record_time from EBAY_TOP_BERLIN order by record_time desc limit 2)\", sqlite3.connect(\"UsedObjects.db\"))"
   ]
  },
  {
   "cell_type": "code",
   "execution_count": 5,
   "id": "popular-active",
   "metadata": {
    "execution": {
     "iopub.execute_input": "2021-10-28T13:00:09.635913Z",
     "iopub.status.busy": "2021-10-28T13:00:09.624090Z",
     "iopub.status.idle": "2021-10-28T13:00:09.653212Z",
     "shell.execute_reply": "2021-10-28T13:00:09.654457Z"
    },
    "papermill": {
     "duration": 0.069405,
     "end_time": "2021-10-28T13:00:09.654852",
     "exception": false,
     "start_time": "2021-10-28T13:00:09.585447",
     "status": "completed"
    },
    "tags": []
   },
   "outputs": [],
   "source": [
    "df_pivot = df.pivot_table(index=\"PRODUCT\", columns = \"RECORD_TIME\", values = \"LISTING_COUNT\")"
   ]
  },
  {
   "cell_type": "code",
   "execution_count": 6,
   "id": "union-huntington",
   "metadata": {
    "execution": {
     "iopub.execute_input": "2021-10-28T13:00:09.712539Z",
     "iopub.status.busy": "2021-10-28T13:00:09.710282Z",
     "iopub.status.idle": "2021-10-28T13:00:09.716210Z",
     "shell.execute_reply": "2021-10-28T13:00:09.717672Z"
    },
    "papermill": {
     "duration": 0.04179,
     "end_time": "2021-10-28T13:00:09.718153",
     "exception": false,
     "start_time": "2021-10-28T13:00:09.676363",
     "status": "completed"
    },
    "tags": []
   },
   "outputs": [],
   "source": [
    "df_pivot.columns = [\"stamp_1\", \"stamp_2\"]\n",
    "df_pivot_diff = df_pivot.diff(axis=1)"
   ]
  },
  {
   "cell_type": "code",
   "execution_count": 7,
   "id": "fifth-motion",
   "metadata": {
    "execution": {
     "iopub.execute_input": "2021-10-28T13:00:09.771961Z",
     "iopub.status.busy": "2021-10-28T13:00:09.769745Z",
     "iopub.status.idle": "2021-10-28T13:00:11.282994Z",
     "shell.execute_reply": "2021-10-28T13:00:11.284289Z"
    },
    "papermill": {
     "duration": 1.545659,
     "end_time": "2021-10-28T13:00:11.284755",
     "exception": false,
     "start_time": "2021-10-28T13:00:09.739096",
     "status": "completed"
    },
    "tags": []
   },
   "outputs": [
    {
     "data": {
      "text/plain": [
       "<AxesSubplot:ylabel='PRODUCT'>"
      ]
     },
     "execution_count": 7,
     "metadata": {},
     "output_type": "execute_result"
    },
    {
     "data": {
      "image/png": "[encoded data removed]",
      "text/plain": [
       "<Figure size 432x288 with 1 Axes>"
      ]
     },
     "metadata": {
      "needs_background": "light"
     },
     "output_type": "display_data"
    }
   ],
   "source": [
    "df_pivot_diff.sort_values(\"stamp_2\", ascending = False)[\"stamp_2\"].head(10).plot.barh()"
   ]
  },
  {
   "cell_type": "code",
   "execution_count": null,
   "id": "extra-executive",
   "metadata": {
    "papermill": {
     "duration": 0.022222,
     "end_time": "2021-10-28T13:00:11.331200",
     "exception": false,
     "start_time": "2021-10-28T13:00:11.308978",
     "status": "completed"
    },
    "tags": []
   },
   "outputs": [],
   "source": []
  }
 ],
 "metadata": {
  "kernelspec": {
   "display_name": "Python 3",
   "language": "python",
   "name": "python3"
  },
  "language_info": {
   "codemirror_mode": {
    "name": "ipython",
    "version": 3
   },
   "file_extension": ".py",
   "mimetype": "text/x-python",
   "name": "python",
   "nbconvert_exporter": "python",
   "pygments_lexer": "ipython3",
   "version": "3.9.5"
  },
  "papermill": {
   "default_parameters": {},
   "duration": 7.564792,
   "end_time": "2021-10-28T13:00:11.974505",
   "environment_variables": {},
   "exception": null,
   "input_path": "eBay_Overview.ipynb",
   "output_path": "eBay_Overview.ipynb",
   "parameters": {},
   "start_time": "2021-10-28T13:00:04.409713",
   "version": "2.3.3"
  }
 },
 "nbformat": 4,
 "nbformat_minor": 5
}