{
 "cells": [
  {
   "cell_type": "code",
   "execution_count": 1,
   "id": "reverse-picking",
   "metadata": {
    "execution": {
     "iopub.execute_input": "2021-10-18T16:00:07.050812Z",
     "iopub.status.busy": "2021-10-18T16:00:07.048864Z",
     "iopub.status.idle": "2021-10-18T16:00:07.860565Z",
     "shell.execute_reply": "2021-10-18T16:00:07.862010Z"
    },
    "papermill": {
     "duration": 0.865554,
     "end_time": "2021-10-18T16:00:07.862835",
     "exception": false,
     "start_time": "2021-10-18T16:00:06.997281",
     "status": "completed"
    },
    "tags": []
   },
   "outputs": [],
   "source": [
    "import pandas as pd\n",
    "import sqlite3"
   ]
  },
  {
   "cell_type": "code",
   "execution_count": 2,
   "id": "innovative-syndrome",
   "metadata": {
    "execution": {
     "iopub.execute_input": "2021-10-18T16:00:07.915796Z",
     "iopub.status.busy": "2021-10-18T16:00:07.913528Z",
     "iopub.status.idle": "2021-10-18T16:00:08.484108Z",
     "shell.execute_reply": "2021-10-18T16:00:08.485527Z"
    },
    "papermill": {
     "duration": 0.601709,
     "end_time": "2021-10-18T16:00:08.485948",
     "exception": false,
     "start_time": "2021-10-18T16:00:07.884239",
     "status": "completed"
    },
    "tags": []
   },
   "outputs": [],
   "source": [
    "timestamps = pd.read_sql(\"select distinct record_time from EBAY_TOP_BERLIN order by record_time desc limit 2\", sqlite3.connect(\"UsedObjects.db\"))"
   ]
  },
  {
   "cell_type": "code",
   "execution_count": 3,
   "id": "periodic-identification",
   "metadata": {
    "execution": {
     "iopub.execute_input": "2021-10-18T16:00:08.560860Z",
     "iopub.status.busy": "2021-10-18T16:00:08.558785Z",
     "iopub.status.idle": "2021-10-18T16:00:08.578498Z",
     "shell.execute_reply": "2021-10-18T16:00:08.579700Z"
    },
    "papermill": {
     "duration": 0.067836,
     "end_time": "2021-10-18T16:00:08.580096",
     "exception": false,
     "start_time": "2021-10-18T16:00:08.512260",
     "status": "completed"
    },
    "tags": []
   },
   "outputs": [
    {
     "data": {
      "text/html": [
       "<div>\n",
       "<style scoped>\n",
       "    .dataframe tbody tr th:only-of-type {\n",
       "        vertical-align: middle;\n",
       "    }\n",
       "\n",
       "    .dataframe tbody tr th {\n",
       "        vertical-align: top;\n",
       "    }\n",
       "\n",
       "    .dataframe thead th {\n",
       "        text-align: right;\n",
       "    }\n",
       "</style>\n",
       "<table border=\"1\" class=\"dataframe\">\n",
       "  <thead>\n",
       "    <tr style=\"text-align: right;\">\n",
       "      <th></th>\n",
       "      <th>RECORD_TIME</th>\n",
       "    </tr>\n",
       "  </thead>\n",
       "  <tbody>\n",
       "    <tr>\n",
       "      <th>0</th>\n",
       "      <td>2021-10-18 18:00</td>\n",
       "    </tr>\n",
       "    <tr>\n",
       "      <th>1</th>\n",
       "      <td>2021-10-18 17:30</td>\n",
       "    </tr>\n",
       "  </tbody>\n",
       "</table>\n",
       "</div>"
      ],
      "text/plain": [
       "        RECORD_TIME\n",
       "0  2021-10-18 18:00\n",
       "1  2021-10-18 17:30"
      ]
     },
     "execution_count": 3,
     "metadata": {},
     "output_type": "execute_result"
    }
   ],
   "source": [
    "timestamps"
   ]
  },
  {
   "cell_type": "code",
   "execution_count": 4,
   "id": "alternate-victory",
   "metadata": {
    "execution": {
     "iopub.execute_input": "2021-10-18T16:00:08.634221Z",
     "iopub.status.busy": "2021-10-18T16:00:08.631886Z",
     "iopub.status.idle": "2021-10-18T16:00:09.465323Z",
     "shell.execute_reply": "2021-10-18T16:00:09.466569Z"
    },
    "papermill": {
     "duration": 0.864105,
     "end_time": "2021-10-18T16:00:09.466972",
     "exception": false,
     "start_time": "2021-10-18T16:00:08.602867",
     "status": "completed"
    },
    "tags": []
   },
   "outputs": [],
   "source": [
    "df = pd.read_sql(\"select * from EBAY_TOP_BERLIN where record_time in (select distinct record_time from EBAY_TOP_BERLIN order by record_time desc limit 2)\", sqlite3.connect(\"UsedObjects.db\"))"
   ]
  },
  {
   "cell_type": "code",
   "execution_count": 5,
   "id": "popular-active",
   "metadata": {
    "execution": {
     "iopub.execute_input": "2021-10-18T16:00:09.541263Z",
     "iopub.status.busy": "2021-10-18T16:00:09.530012Z",
     "iopub.status.idle": "2021-10-18T16:00:09.557539Z",
     "shell.execute_reply": "2021-10-18T16:00:09.558773Z"
    },
    "papermill": {
     "duration": 0.06822,
     "end_time": "2021-10-18T16:00:09.559171",
     "exception": false,
     "start_time": "2021-10-18T16:00:09.490951",
     "status": "completed"
    },
    "tags": []
   },
   "outputs": [],
   "source": [
    "df_pivot = df.pivot_table(index=\"PRODUCT\", columns = \"RECORD_TIME\", values = \"LISTING_COUNT\")"
   ]
  },
  {
   "cell_type": "code",
   "execution_count": 6,
   "id": "union-huntington",
   "metadata": {
    "execution": {
     "iopub.execute_input": "2021-10-18T16:00:09.619110Z",
     "iopub.status.busy": "2021-10-18T16:00:09.616614Z",
     "iopub.status.idle": "2021-10-18T16:00:09.622515Z",
     "shell.execute_reply": "2021-10-18T16:00:09.623798Z"
    },
    "papermill": {
     "duration": 0.042321,
     "end_time": "2021-10-18T16:00:09.624217",
     "exception": false,
     "start_time": "2021-10-18T16:00:09.581896",
     "status": "completed"
    },
    "tags": []
   },
   "outputs": [],
   "source": [
    "df_pivot.columns = [\"stamp_1\", \"stamp_2\"]\n",
    "df_pivot_diff = df_pivot.diff(axis=1)"
   ]
  },
  {
   "cell_type": "code",
   "execution_count": 7,
   "id": "fifth-motion",
   "metadata": {
    "execution": {
     "iopub.execute_input": "2021-10-18T16:00:09.679201Z",
     "iopub.status.busy": "2021-10-18T16:00:09.676827Z",
     "iopub.status.idle": "2021-10-18T16:00:11.190118Z",
     "shell.execute_reply": "2021-10-18T16:00:11.191425Z"
    },
    "papermill": {
     "duration": 1.547257,
     "end_time": "2021-10-18T16:00:11.191845",
     "exception": false,
     "start_time": "2021-10-18T16:00:09.644588",
     "status": "completed"
    },
    "tags": []
   },
   "outputs": [
    {
     "data": {
      "text/plain": [
       "<AxesSubplot:ylabel='PRODUCT'>"
      ]
     },
     "execution_count": 7,
     "metadata": {},
     "output_type": "execute_result"
    },
    {
     "data": {
      "image/png": "[encoded data removed]",
      "text/plain": [
       "<Figure size 432x288 with 1 Axes>"
      ]
     },
     "metadata": {
      "needs_background": "light"
     },
     "output_type": "display_data"
    }
   ],
   "source": [
    "df_pivot_diff.sort_values(\"stamp_2\", ascending = False)[\"stamp_2\"].head(10).plot.barh()"
   ]
  },
  {
   "cell_type": "code",
   "execution_count": null,
   "id": "extra-executive",
   "metadata": {
    "papermill": {
     "duration": 0.022486,
     "end_time": "2021-10-18T16:00:11.239551",
     "exception": false,
     "start_time": "2021-10-18T16:00:11.217065",
     "status": "completed"
    },
    "tags": []
   },
   "outputs": [],
   "source": []
  }
 ],
 "metadata": {
  "kernelspec": {
   "display_name": "Python 3",
   "language": "python",
   "name": "python3"
  },
  "language_info": {
   "codemirror_mode": {
    "name": "ipython",
    "version": 3
   },
   "file_extension": ".py",
   "mimetype": "text/x-python",
   "name": "python",
   "nbconvert_exporter": "python",
   "pygments_lexer": "ipython3",
   "version": "3.9.5"
  },
  "papermill": {
   "default_parameters": {},
   "duration": 7.823167,
   "end_time": "2021-10-18T16:00:12.408169",
   "environment_variables": {},
   "exception": null,
   "input_path": "eBay_Overview.ipynb",
   "output_path": "eBay_Overview.ipynb",
   "parameters": {},
   "start_time": "2021-10-18T16:00:04.585002",
   "version": "2.3.3"
  }
 },
 "nbformat": 4,
 "nbformat_minor": 5
}