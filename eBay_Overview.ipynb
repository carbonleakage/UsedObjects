{
 "cells": [
  {
   "cell_type": "code",
   "execution_count": 1,
   "id": "reverse-picking",
   "metadata": {
    "execution": {
     "iopub.execute_input": "2021-11-22T11:00:07.602624Z",
     "iopub.status.busy": "2021-11-22T11:00:07.599221Z",
     "iopub.status.idle": "2021-11-22T11:00:08.521789Z",
     "shell.execute_reply": "2021-11-22T11:00:08.523385Z"
    },
    "papermill": {
     "duration": 0.973395,
     "end_time": "2021-11-22T11:00:08.524149",
     "exception": false,
     "start_time": "2021-11-22T11:00:07.550754",
     "status": "completed"
    },
    "tags": []
   },
   "outputs": [],
   "source": [
    "import pandas as pd\n",
    "import sqlite3"
   ]
  },
  {
   "cell_type": "code",
   "execution_count": 2,
   "id": "innovative-syndrome",
   "metadata": {
    "execution": {
     "iopub.execute_input": "2021-11-22T11:00:08.586033Z",
     "iopub.status.busy": "2021-11-22T11:00:08.583718Z",
     "iopub.status.idle": "2021-11-22T11:00:09.467157Z",
     "shell.execute_reply": "2021-11-22T11:00:09.468666Z"
    },
    "papermill": {
     "duration": 0.917708,
     "end_time": "2021-11-22T11:00:09.469272",
     "exception": false,
     "start_time": "2021-11-22T11:00:08.551564",
     "status": "completed"
    },
    "tags": []
   },
   "outputs": [],
   "source": [
    "timestamps = pd.read_sql(\"select distinct record_time from EBAY_TOP_BERLIN order by record_time desc limit 2\", sqlite3.connect(\"UsedObjects.db\"))"
   ]
  },
  {
   "cell_type": "code",
   "execution_count": 3,
   "id": "periodic-identification",
   "metadata": {
    "execution": {
     "iopub.execute_input": "2021-11-22T11:00:09.547052Z",
     "iopub.status.busy": "2021-11-22T11:00:09.541353Z",
     "iopub.status.idle": "2021-11-22T11:00:09.565367Z",
     "shell.execute_reply": "2021-11-22T11:00:09.566894Z"
    },
    "papermill": {
     "duration": 0.0771,
     "end_time": "2021-11-22T11:00:09.567364",
     "exception": false,
     "start_time": "2021-11-22T11:00:09.490264",
     "status": "completed"
    },
    "tags": []
   },
   "outputs": [
    {
     "data": {
      "text/html": [
       "<div>\n",
       "<style scoped>\n",
       "    .dataframe tbody tr th:only-of-type {\n",
       "        vertical-align: middle;\n",
       "    }\n",
       "\n",
       "    .dataframe tbody tr th {\n",
       "        vertical-align: top;\n",
       "    }\n",
       "\n",
       "    .dataframe thead th {\n",
       "        text-align: right;\n",
       "    }\n",
       "</style>\n",
       "<table border=\"1\" class=\"dataframe\">\n",
       "  <thead>\n",
       "    <tr style=\"text-align: right;\">\n",
       "      <th></th>\n",
       "      <th>RECORD_TIME</th>\n",
       "    </tr>\n",
       "  </thead>\n",
       "  <tbody>\n",
       "    <tr>\n",
       "      <th>0</th>\n",
       "      <td>2021-11-22 12:00</td>\n",
       "    </tr>\n",
       "    <tr>\n",
       "      <th>1</th>\n",
       "      <td>2021-11-22 11:30</td>\n",
       "    </tr>\n",
       "  </tbody>\n",
       "</table>\n",
       "</div>"
      ],
      "text/plain": [
       "        RECORD_TIME\n",
       "0  2021-11-22 12:00\n",
       "1  2021-11-22 11:30"
      ]
     },
     "execution_count": 3,
     "metadata": {},
     "output_type": "execute_result"
    }
   ],
   "source": [
    "timestamps"
   ]
  },
  {
   "cell_type": "code",
   "execution_count": 4,
   "id": "alternate-victory",
   "metadata": {
    "execution": {
     "iopub.execute_input": "2021-11-22T11:00:09.622527Z",
     "iopub.status.busy": "2021-11-22T11:00:09.620207Z",
     "iopub.status.idle": "2021-11-22T11:00:10.934355Z",
     "shell.execute_reply": "2021-11-22T11:00:10.937028Z"
    },
    "papermill": {
     "duration": 1.348914,
     "end_time": "2021-11-22T11:00:10.937665",
     "exception": false,
     "start_time": "2021-11-22T11:00:09.588751",
     "status": "completed"
    },
    "tags": []
   },
   "outputs": [],
   "source": [
    "df = pd.read_sql(\"select * from EBAY_TOP_BERLIN where record_time in (select distinct record_time from EBAY_TOP_BERLIN order by record_time desc limit 2)\", sqlite3.connect(\"UsedObjects.db\"))"
   ]
  },
  {
   "cell_type": "code",
   "execution_count": 5,
   "id": "popular-active",
   "metadata": {
    "execution": {
     "iopub.execute_input": "2021-11-22T11:00:11.019575Z",
     "iopub.status.busy": "2021-11-22T11:00:11.016380Z",
     "iopub.status.idle": "2021-11-22T11:00:11.039006Z",
     "shell.execute_reply": "2021-11-22T11:00:11.040263Z"
    },
    "papermill": {
     "duration": 0.079983,
     "end_time": "2021-11-22T11:00:11.040781",
     "exception": false,
     "start_time": "2021-11-22T11:00:10.960798",
     "status": "completed"
    },
    "tags": []
   },
   "outputs": [],
   "source": [
    "df_pivot = df.pivot_table(index=\"PRODUCT\", columns = \"RECORD_TIME\", values = \"LISTING_COUNT\")"
   ]
  },
  {
   "cell_type": "code",
   "execution_count": 6,
   "id": "union-huntington",
   "metadata": {
    "execution": {
     "iopub.execute_input": "2021-11-22T11:00:11.100230Z",
     "iopub.status.busy": "2021-11-22T11:00:11.098178Z",
     "iopub.status.idle": "2021-11-22T11:00:11.102938Z",
     "shell.execute_reply": "2021-11-22T11:00:11.104125Z"
    },
    "papermill": {
     "duration": 0.042732,
     "end_time": "2021-11-22T11:00:11.104542",
     "exception": false,
     "start_time": "2021-11-22T11:00:11.061810",
     "status": "completed"
    },
    "tags": []
   },
   "outputs": [],
   "source": [
    "df_pivot.columns = [\"stamp_1\", \"stamp_2\"]\n",
    "df_pivot_diff = df_pivot.diff(axis=1)"
   ]
  },
  {
   "cell_type": "code",
   "execution_count": 7,
   "id": "fifth-motion",
   "metadata": {
    "execution": {
     "iopub.execute_input": "2021-11-22T11:00:11.164779Z",
     "iopub.status.busy": "2021-11-22T11:00:11.162227Z",
     "iopub.status.idle": "2021-11-22T11:00:13.103357Z",
     "shell.execute_reply": "2021-11-22T11:00:13.105216Z"
    },
    "papermill": {
     "duration": 1.980065,
     "end_time": "2021-11-22T11:00:13.105756",
     "exception": false,
     "start_time": "2021-11-22T11:00:11.125691",
     "status": "completed"
    },
    "tags": []
   },
   "outputs": [
    {
     "data": {
      "text/plain": [
       "<AxesSubplot:ylabel='PRODUCT'>"
      ]
     },
     "execution_count": 7,
     "metadata": {},
     "output_type": "execute_result"
    },
    {
     "data": {
      "image/png": "[encoded data removed]",
      "text/plain": [
       "<Figure size 432x288 with 1 Axes>"
      ]
     },
     "metadata": {
      "needs_background": "light"
     },
     "output_type": "display_data"
    }
   ],
   "source": [
    "df_pivot_diff.sort_values(\"stamp_2\", ascending = False)[\"stamp_2\"].head(10).plot.barh()"
   ]
  },
  {
   "cell_type": "code",
   "execution_count": null,
   "id": "extra-executive",
   "metadata": {
    "papermill": {
     "duration": 0.023654,
     "end_time": "2021-11-22T11:00:13.154703",
     "exception": false,
     "start_time": "2021-11-22T11:00:13.131049",
     "status": "completed"
    },
    "tags": []
   },
   "outputs": [],
   "source": []
  }
 ],
 "metadata": {
  "kernelspec": {
   "display_name": "Python 3",
   "language": "python",
   "name": "python3"
  },
  "language_info": {
   "codemirror_mode": {
    "name": "ipython",
    "version": 3
   },
   "file_extension": ".py",
   "mimetype": "text/x-python",
   "name": "python",
   "nbconvert_exporter": "python",
   "pygments_lexer": "ipython3",
   "version": "3.9.5"
  },
  "papermill": {
   "default_parameters": {},
   "duration": 9.923448,
   "end_time": "2021-11-22T11:00:14.747289",
   "environment_variables": {},
   "exception": null,
   "input_path": "eBay_Overview.ipynb",
   "output_path": "eBay_Overview.ipynb",
   "parameters": {},
   "start_time": "2021-11-22T11:00:04.823841",
   "version": "2.3.3"
  }
 },
 "nbformat": 4,
 "nbformat_minor": 5
}