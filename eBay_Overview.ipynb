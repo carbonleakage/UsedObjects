{
 "cells": [
  {
   "cell_type": "code",
   "execution_count": 1,
   "id": "reverse-picking",
   "metadata": {
    "execution": {
     "iopub.execute_input": "2021-10-08T07:30:07.925230Z",
     "iopub.status.busy": "2021-10-08T07:30:07.923270Z",
     "iopub.status.idle": "2021-10-08T07:30:08.733032Z",
     "shell.execute_reply": "2021-10-08T07:30:08.734293Z"
    },
    "papermill": {
     "duration": 0.86117,
     "end_time": "2021-10-08T07:30:08.735181",
     "exception": false,
     "start_time": "2021-10-08T07:30:07.874011",
     "status": "completed"
    },
    "tags": []
   },
   "outputs": [],
   "source": [
    "import pandas as pd\n",
    "import sqlite3"
   ]
  },
  {
   "cell_type": "code",
   "execution_count": 2,
   "id": "innovative-syndrome",
   "metadata": {
    "execution": {
     "iopub.execute_input": "2021-10-08T07:30:08.788080Z",
     "iopub.status.busy": "2021-10-08T07:30:08.785678Z",
     "iopub.status.idle": "2021-10-08T07:30:09.269585Z",
     "shell.execute_reply": "2021-10-08T07:30:09.270843Z"
    },
    "papermill": {
     "duration": 0.513886,
     "end_time": "2021-10-08T07:30:09.271261",
     "exception": false,
     "start_time": "2021-10-08T07:30:08.757375",
     "status": "completed"
    },
    "tags": []
   },
   "outputs": [],
   "source": [
    "timestamps = pd.read_sql(\"select distinct record_time from EBAY_TOP_BERLIN order by record_time desc limit 2\", sqlite3.connect(\"UsedObjects.db\"))"
   ]
  },
  {
   "cell_type": "code",
   "execution_count": 3,
   "id": "periodic-identification",
   "metadata": {
    "execution": {
     "iopub.execute_input": "2021-10-08T07:30:09.336745Z",
     "iopub.status.busy": "2021-10-08T07:30:09.334649Z",
     "iopub.status.idle": "2021-10-08T07:30:09.354482Z",
     "shell.execute_reply": "2021-10-08T07:30:09.355736Z"
    },
    "papermill": {
     "duration": 0.063959,
     "end_time": "2021-10-08T07:30:09.356135",
     "exception": false,
     "start_time": "2021-10-08T07:30:09.292176",
     "status": "completed"
    },
    "tags": []
   },
   "outputs": [
    {
     "data": {
      "text/html": [
       "<div>\n",
       "<style scoped>\n",
       "    .dataframe tbody tr th:only-of-type {\n",
       "        vertical-align: middle;\n",
       "    }\n",
       "\n",
       "    .dataframe tbody tr th {\n",
       "        vertical-align: top;\n",
       "    }\n",
       "\n",
       "    .dataframe thead th {\n",
       "        text-align: right;\n",
       "    }\n",
       "</style>\n",
       "<table border=\"1\" class=\"dataframe\">\n",
       "  <thead>\n",
       "    <tr style=\"text-align: right;\">\n",
       "      <th></th>\n",
       "      <th>RECORD_TIME</th>\n",
       "    </tr>\n",
       "  </thead>\n",
       "  <tbody>\n",
       "    <tr>\n",
       "      <th>0</th>\n",
       "      <td>2021-10-08 09:30</td>\n",
       "    </tr>\n",
       "    <tr>\n",
       "      <th>1</th>\n",
       "      <td>2021-10-08 09:00</td>\n",
       "    </tr>\n",
       "  </tbody>\n",
       "</table>\n",
       "</div>"
      ],
      "text/plain": [
       "        RECORD_TIME\n",
       "0  2021-10-08 09:30\n",
       "1  2021-10-08 09:00"
      ]
     },
     "execution_count": 3,
     "metadata": {},
     "output_type": "execute_result"
    }
   ],
   "source": [
    "timestamps"
   ]
  },
  {
   "cell_type": "code",
   "execution_count": 4,
   "id": "alternate-victory",
   "metadata": {
    "execution": {
     "iopub.execute_input": "2021-10-08T07:30:09.419687Z",
     "iopub.status.busy": "2021-10-08T07:30:09.417258Z",
     "iopub.status.idle": "2021-10-08T07:30:10.119880Z",
     "shell.execute_reply": "2021-10-08T07:30:10.121138Z"
    },
    "papermill": {
     "duration": 0.736131,
     "end_time": "2021-10-08T07:30:10.121535",
     "exception": false,
     "start_time": "2021-10-08T07:30:09.385404",
     "status": "completed"
    },
    "tags": []
   },
   "outputs": [],
   "source": [
    "df = pd.read_sql(\"select * from EBAY_TOP_BERLIN where record_time in (select distinct record_time from EBAY_TOP_BERLIN order by record_time desc limit 2)\", sqlite3.connect(\"UsedObjects.db\"))"
   ]
  },
  {
   "cell_type": "code",
   "execution_count": 5,
   "id": "popular-active",
   "metadata": {
    "execution": {
     "iopub.execute_input": "2021-10-08T07:30:10.190752Z",
     "iopub.status.busy": "2021-10-08T07:30:10.179181Z",
     "iopub.status.idle": "2021-10-08T07:30:10.206506Z",
     "shell.execute_reply": "2021-10-08T07:30:10.207919Z"
    },
    "papermill": {
     "duration": 0.066711,
     "end_time": "2021-10-08T07:30:10.208353",
     "exception": false,
     "start_time": "2021-10-08T07:30:10.141642",
     "status": "completed"
    },
    "tags": []
   },
   "outputs": [],
   "source": [
    "df_pivot = df.pivot_table(index=\"PRODUCT\", columns = \"RECORD_TIME\", values = \"LISTING_COUNT\")"
   ]
  },
  {
   "cell_type": "code",
   "execution_count": 6,
   "id": "union-huntington",
   "metadata": {
    "execution": {
     "iopub.execute_input": "2021-10-08T07:30:10.264671Z",
     "iopub.status.busy": "2021-10-08T07:30:10.262416Z",
     "iopub.status.idle": "2021-10-08T07:30:10.267920Z",
     "shell.execute_reply": "2021-10-08T07:30:10.269280Z"
    },
    "papermill": {
     "duration": 0.040796,
     "end_time": "2021-10-08T07:30:10.269712",
     "exception": false,
     "start_time": "2021-10-08T07:30:10.228916",
     "status": "completed"
    },
    "tags": []
   },
   "outputs": [],
   "source": [
    "df_pivot.columns = [\"stamp_1\", \"stamp_2\"]\n",
    "df_pivot_diff = df_pivot.diff(axis=1)"
   ]
  },
  {
   "cell_type": "code",
   "execution_count": 7,
   "id": "fifth-motion",
   "metadata": {
    "execution": {
     "iopub.execute_input": "2021-10-08T07:30:10.327612Z",
     "iopub.status.busy": "2021-10-08T07:30:10.324872Z",
     "iopub.status.idle": "2021-10-08T07:30:11.799235Z",
     "shell.execute_reply": "2021-10-08T07:30:11.800514Z"
    },
    "papermill": {
     "duration": 1.50794,
     "end_time": "2021-10-08T07:30:11.800929",
     "exception": false,
     "start_time": "2021-10-08T07:30:10.292989",
     "status": "completed"
    },
    "tags": []
   },
   "outputs": [
    {
     "data": {
      "text/plain": [
       "<AxesSubplot:ylabel='PRODUCT'>"
      ]
     },
     "execution_count": 7,
     "metadata": {},
     "output_type": "execute_result"
    },
    {
     "data": {
      "image/png": "[encoded data removed]",
      "text/plain": [
       "<Figure size 432x288 with 1 Axes>"
      ]
     },
     "metadata": {
      "needs_background": "light"
     },
     "output_type": "display_data"
    }
   ],
   "source": [
    "df_pivot_diff.sort_values(\"stamp_2\", ascending = False)[\"stamp_2\"].head(10).plot.barh()"
   ]
  },
  {
   "cell_type": "code",
   "execution_count": null,
   "id": "extra-executive",
   "metadata": {
    "papermill": {
     "duration": 0.021835,
     "end_time": "2021-10-08T07:30:11.847307",
     "exception": false,
     "start_time": "2021-10-08T07:30:11.825472",
     "status": "completed"
    },
    "tags": []
   },
   "outputs": [],
   "source": []
  }
 ],
 "metadata": {
  "kernelspec": {
   "display_name": "Python 3",
   "language": "python",
   "name": "python3"
  },
  "language_info": {
   "codemirror_mode": {
    "name": "ipython",
    "version": 3
   },
   "file_extension": ".py",
   "mimetype": "text/x-python",
   "name": "python",
   "nbconvert_exporter": "python",
   "pygments_lexer": "ipython3",
   "version": "3.9.5"
  },
  "papermill": {
   "default_parameters": {},
   "duration": 7.83806,
   "end_time": "2021-10-08T07:30:13.296287",
   "environment_variables": {},
   "exception": null,
   "input_path": "eBay_Overview.ipynb",
   "output_path": "eBay_Overview.ipynb",
   "parameters": {},
   "start_time": "2021-10-08T07:30:05.458227",
   "version": "2.3.3"
  }
 },
 "nbformat": 4,
 "nbformat_minor": 5
}