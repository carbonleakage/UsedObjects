{
 "cells": [
  {
   "cell_type": "code",
   "execution_count": 1,
   "id": "reverse-picking",
   "metadata": {
    "execution": {
     "iopub.execute_input": "2021-09-05T23:30:06.880715Z",
     "iopub.status.busy": "2021-09-05T23:30:06.878691Z",
     "iopub.status.idle": "2021-09-05T23:30:07.684648Z",
     "shell.execute_reply": "2021-09-05T23:30:07.685913Z"
    },
    "papermill": {
     "duration": 0.858528,
     "end_time": "2021-09-05T23:30:07.686528",
     "exception": false,
     "start_time": "2021-09-05T23:30:06.828000",
     "status": "completed"
    },
    "tags": []
   },
   "outputs": [],
   "source": [
    "import pandas as pd\n",
    "import sqlite3"
   ]
  },
  {
   "cell_type": "code",
   "execution_count": 2,
   "id": "innovative-syndrome",
   "metadata": {
    "execution": {
     "iopub.execute_input": "2021-09-05T23:30:07.737026Z",
     "iopub.status.busy": "2021-09-05T23:30:07.735174Z",
     "iopub.status.idle": "2021-09-05T23:30:07.947381Z",
     "shell.execute_reply": "2021-09-05T23:30:07.948763Z"
    },
    "papermill": {
     "duration": 0.241742,
     "end_time": "2021-09-05T23:30:07.949179",
     "exception": false,
     "start_time": "2021-09-05T23:30:07.707437",
     "status": "completed"
    },
    "tags": []
   },
   "outputs": [],
   "source": [
    "timestamps = pd.read_sql(\"select distinct record_time from EBAY_TOP_BERLIN order by record_time desc limit 2\", sqlite3.connect(\"UsedObjects.db\"))"
   ]
  },
  {
   "cell_type": "code",
   "execution_count": 3,
   "id": "periodic-identification",
   "metadata": {
    "execution": {
     "iopub.execute_input": "2021-09-05T23:30:08.013950Z",
     "iopub.status.busy": "2021-09-05T23:30:08.011885Z",
     "iopub.status.idle": "2021-09-05T23:30:08.032613Z",
     "shell.execute_reply": "2021-09-05T23:30:08.033757Z"
    },
    "papermill": {
     "duration": 0.06549,
     "end_time": "2021-09-05T23:30:08.034166",
     "exception": false,
     "start_time": "2021-09-05T23:30:07.968676",
     "status": "completed"
    },
    "tags": []
   },
   "outputs": [
    {
     "data": {
      "text/html": [
       "<div>\n",
       "<style scoped>\n",
       "    .dataframe tbody tr th:only-of-type {\n",
       "        vertical-align: middle;\n",
       "    }\n",
       "\n",
       "    .dataframe tbody tr th {\n",
       "        vertical-align: top;\n",
       "    }\n",
       "\n",
       "    .dataframe thead th {\n",
       "        text-align: right;\n",
       "    }\n",
       "</style>\n",
       "<table border=\"1\" class=\"dataframe\">\n",
       "  <thead>\n",
       "    <tr style=\"text-align: right;\">\n",
       "      <th></th>\n",
       "      <th>RECORD_TIME</th>\n",
       "    </tr>\n",
       "  </thead>\n",
       "  <tbody>\n",
       "    <tr>\n",
       "      <th>0</th>\n",
       "      <td>2021-09-06 01:30</td>\n",
       "    </tr>\n",
       "    <tr>\n",
       "      <th>1</th>\n",
       "      <td>2021-09-06 01:00</td>\n",
       "    </tr>\n",
       "  </tbody>\n",
       "</table>\n",
       "</div>"
      ],
      "text/plain": [
       "        RECORD_TIME\n",
       "0  2021-09-06 01:30\n",
       "1  2021-09-06 01:00"
      ]
     },
     "execution_count": 3,
     "metadata": {},
     "output_type": "execute_result"
    }
   ],
   "source": [
    "timestamps"
   ]
  },
  {
   "cell_type": "code",
   "execution_count": 4,
   "id": "alternate-victory",
   "metadata": {
    "execution": {
     "iopub.execute_input": "2021-09-05T23:30:08.088471Z",
     "iopub.status.busy": "2021-09-05T23:30:08.086099Z",
     "iopub.status.idle": "2021-09-05T23:30:08.414278Z",
     "shell.execute_reply": "2021-09-05T23:30:08.415496Z"
    },
    "papermill": {
     "duration": 0.358463,
     "end_time": "2021-09-05T23:30:08.415913",
     "exception": false,
     "start_time": "2021-09-05T23:30:08.057450",
     "status": "completed"
    },
    "tags": []
   },
   "outputs": [],
   "source": [
    "df = pd.read_sql(\"select * from EBAY_TOP_BERLIN where record_time in (select distinct record_time from EBAY_TOP_BERLIN order by record_time desc limit 2)\", sqlite3.connect(\"UsedObjects.db\"))"
   ]
  },
  {
   "cell_type": "code",
   "execution_count": 5,
   "id": "popular-active",
   "metadata": {
    "execution": {
     "iopub.execute_input": "2021-09-05T23:30:08.501400Z",
     "iopub.status.busy": "2021-09-05T23:30:08.489637Z",
     "iopub.status.idle": "2021-09-05T23:30:08.517740Z",
     "shell.execute_reply": "2021-09-05T23:30:08.519020Z"
    },
    "papermill": {
     "duration": 0.07279,
     "end_time": "2021-09-05T23:30:08.519423",
     "exception": false,
     "start_time": "2021-09-05T23:30:08.446633",
     "status": "completed"
    },
    "tags": []
   },
   "outputs": [],
   "source": [
    "df_pivot = df.pivot_table(index=\"PRODUCT\", columns = \"RECORD_TIME\", values = \"LISTING_COUNT\")"
   ]
  },
  {
   "cell_type": "code",
   "execution_count": 6,
   "id": "union-huntington",
   "metadata": {
    "execution": {
     "iopub.execute_input": "2021-09-05T23:30:08.577499Z",
     "iopub.status.busy": "2021-09-05T23:30:08.575327Z",
     "iopub.status.idle": "2021-09-05T23:30:08.580783Z",
     "shell.execute_reply": "2021-09-05T23:30:08.582141Z"
    },
    "papermill": {
     "duration": 0.040913,
     "end_time": "2021-09-05T23:30:08.582574",
     "exception": false,
     "start_time": "2021-09-05T23:30:08.541661",
     "status": "completed"
    },
    "tags": []
   },
   "outputs": [],
   "source": [
    "df_pivot.columns = [\"stamp_1\", \"stamp_2\"]\n",
    "df_pivot_diff = df_pivot.diff(axis=1)"
   ]
  },
  {
   "cell_type": "code",
   "execution_count": 7,
   "id": "fifth-motion",
   "metadata": {
    "execution": {
     "iopub.execute_input": "2021-09-05T23:30:08.637713Z",
     "iopub.status.busy": "2021-09-05T23:30:08.635109Z",
     "iopub.status.idle": "2021-09-05T23:30:10.126005Z",
     "shell.execute_reply": "2021-09-05T23:30:10.127471Z"
    },
    "papermill": {
     "duration": 1.524676,
     "end_time": "2021-09-05T23:30:10.127925",
     "exception": false,
     "start_time": "2021-09-05T23:30:08.603249",
     "status": "completed"
    },
    "tags": []
   },
   "outputs": [
    {
     "data": {
      "text/plain": [
       "<AxesSubplot:ylabel='PRODUCT'>"
      ]
     },
     "execution_count": 7,
     "metadata": {},
     "output_type": "execute_result"
    },
    {
     "data": {
      "image/png": "[encoded data removed]",
      "text/plain": [
       "<Figure size 432x288 with 1 Axes>"
      ]
     },
     "metadata": {
      "needs_background": "light"
     },
     "output_type": "display_data"
    }
   ],
   "source": [
    "df_pivot_diff.sort_values(\"stamp_2\", ascending = False)[\"stamp_2\"].head(10).plot.barh()"
   ]
  },
  {
   "cell_type": "code",
   "execution_count": null,
   "id": "extra-executive",
   "metadata": {
    "papermill": {
     "duration": 0.022266,
     "end_time": "2021-09-05T23:30:10.174688",
     "exception": false,
     "start_time": "2021-09-05T23:30:10.152422",
     "status": "completed"
    },
    "tags": []
   },
   "outputs": [],
   "source": []
  }
 ],
 "metadata": {
  "kernelspec": {
   "display_name": "Python 3",
   "language": "python",
   "name": "python3"
  },
  "language_info": {
   "codemirror_mode": {
    "name": "ipython",
    "version": 3
   },
   "file_extension": ".py",
   "mimetype": "text/x-python",
   "name": "python",
   "nbconvert_exporter": "python",
   "pygments_lexer": "ipython3",
   "version": "3.9.5"
  },
  "papermill": {
   "default_parameters": {},
   "duration": 6.394715,
   "end_time": "2021-09-05T23:30:10.815743",
   "environment_variables": {},
   "exception": null,
   "input_path": "eBay_Overview.ipynb",
   "output_path": "eBay_Overview.ipynb",
   "parameters": {},
   "start_time": "2021-09-05T23:30:04.421028",
   "version": "2.3.3"
  }
 },
 "nbformat": 4,
 "nbformat_minor": 5
}