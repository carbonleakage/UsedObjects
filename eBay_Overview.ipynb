{
 "cells": [
  {
   "cell_type": "code",
   "execution_count": 1,
   "id": "reverse-picking",
   "metadata": {
    "execution": {
     "iopub.execute_input": "2021-08-09T01:30:03.751426Z",
     "iopub.status.busy": "2021-08-09T01:30:03.750659Z",
     "iopub.status.idle": "2021-08-09T01:30:04.364782Z",
     "shell.execute_reply": "2021-08-09T01:30:04.363552Z"
    },
    "papermill": {
     "duration": 0.632817,
     "end_time": "2021-08-09T01:30:04.365045",
     "exception": false,
     "start_time": "2021-08-09T01:30:03.732228",
     "status": "completed"
    },
    "tags": []
   },
   "outputs": [],
   "source": [
    "import pandas as pd\n",
    "import sqlite3"
   ]
  },
  {
   "cell_type": "code",
   "execution_count": 2,
   "id": "innovative-syndrome",
   "metadata": {
    "execution": {
     "iopub.execute_input": "2021-08-09T01:30:04.390588Z",
     "iopub.status.busy": "2021-08-09T01:30:04.389819Z",
     "iopub.status.idle": "2021-08-09T01:30:04.590742Z",
     "shell.execute_reply": "2021-08-09T01:30:04.591313Z"
    },
    "papermill": {
     "duration": 0.21634,
     "end_time": "2021-08-09T01:30:04.591509",
     "exception": false,
     "start_time": "2021-08-09T01:30:04.375169",
     "status": "completed"
    },
    "tags": []
   },
   "outputs": [],
   "source": [
    "timestamps = pd.read_sql(\"select distinct record_time from EBAY_TOP_BERLIN order by record_time desc limit 2\", sqlite3.connect(\"UsedObjects.db\"))"
   ]
  },
  {
   "cell_type": "code",
   "execution_count": 3,
   "id": "periodic-identification",
   "metadata": {
    "execution": {
     "iopub.execute_input": "2021-08-09T01:30:04.626737Z",
     "iopub.status.busy": "2021-08-09T01:30:04.625947Z",
     "iopub.status.idle": "2021-08-09T01:30:04.640020Z",
     "shell.execute_reply": "2021-08-09T01:30:04.640593Z"
    },
    "papermill": {
     "duration": 0.040961,
     "end_time": "2021-08-09T01:30:04.640789",
     "exception": false,
     "start_time": "2021-08-09T01:30:04.599828",
     "status": "completed"
    },
    "tags": []
   },
   "outputs": [
    {
     "data": {
      "text/html": [
       "<div>\n",
       "<style scoped>\n",
       "    .dataframe tbody tr th:only-of-type {\n",
       "        vertical-align: middle;\n",
       "    }\n",
       "\n",
       "    .dataframe tbody tr th {\n",
       "        vertical-align: top;\n",
       "    }\n",
       "\n",
       "    .dataframe thead th {\n",
       "        text-align: right;\n",
       "    }\n",
       "</style>\n",
       "<table border=\"1\" class=\"dataframe\">\n",
       "  <thead>\n",
       "    <tr style=\"text-align: right;\">\n",
       "      <th></th>\n",
       "      <th>RECORD_TIME</th>\n",
       "    </tr>\n",
       "  </thead>\n",
       "  <tbody>\n",
       "    <tr>\n",
       "      <th>0</th>\n",
       "      <td>2021-08-09 03:30</td>\n",
       "    </tr>\n",
       "    <tr>\n",
       "      <th>1</th>\n",
       "      <td>2021-08-09 03:00</td>\n",
       "    </tr>\n",
       "  </tbody>\n",
       "</table>\n",
       "</div>"
      ],
      "text/plain": [
       "        RECORD_TIME\n",
       "0  2021-08-09 03:30\n",
       "1  2021-08-09 03:00"
      ]
     },
     "execution_count": 3,
     "metadata": {},
     "output_type": "execute_result"
    }
   ],
   "source": [
    "timestamps"
   ]
  },
  {
   "cell_type": "code",
   "execution_count": 4,
   "id": "alternate-victory",
   "metadata": {
    "execution": {
     "iopub.execute_input": "2021-08-09T01:30:04.669887Z",
     "iopub.status.busy": "2021-08-09T01:30:04.668578Z",
     "iopub.status.idle": "2021-08-09T01:30:04.679535Z",
     "shell.execute_reply": "2021-08-09T01:30:04.680244Z"
    },
    "papermill": {
     "duration": 0.029018,
     "end_time": "2021-08-09T01:30:04.680438",
     "exception": false,
     "start_time": "2021-08-09T01:30:04.651420",
     "status": "completed"
    },
    "tags": []
   },
   "outputs": [],
   "source": [
    "df = pd.read_sql(\"select * from EBAY_TOP_BERLIN where record_time in (select distinct record_time from EBAY_TOP_BERLIN order by record_time desc limit 2)\", sqlite3.connect(\"UsedObjects.db\"))"
   ]
  },
  {
   "cell_type": "code",
   "execution_count": 5,
   "id": "popular-active",
   "metadata": {
    "execution": {
     "iopub.execute_input": "2021-08-09T01:30:04.705067Z",
     "iopub.status.busy": "2021-08-09T01:30:04.704301Z",
     "iopub.status.idle": "2021-08-09T01:30:04.739074Z",
     "shell.execute_reply": "2021-08-09T01:30:04.738463Z"
    },
    "papermill": {
     "duration": 0.050342,
     "end_time": "2021-08-09T01:30:04.739236",
     "exception": false,
     "start_time": "2021-08-09T01:30:04.688894",
     "status": "completed"
    },
    "tags": []
   },
   "outputs": [],
   "source": [
    "df_pivot = df.pivot_table(index=\"PRODUCT\", columns = \"RECORD_TIME\", values = \"LISTING_COUNT\")"
   ]
  },
  {
   "cell_type": "code",
   "execution_count": 6,
   "id": "union-huntington",
   "metadata": {
    "execution": {
     "iopub.execute_input": "2021-08-09T01:30:04.764734Z",
     "iopub.status.busy": "2021-08-09T01:30:04.763989Z",
     "iopub.status.idle": "2021-08-09T01:30:04.768341Z",
     "shell.execute_reply": "2021-08-09T01:30:04.769302Z"
    },
    "papermill": {
     "duration": 0.021677,
     "end_time": "2021-08-09T01:30:04.769550",
     "exception": false,
     "start_time": "2021-08-09T01:30:04.747873",
     "status": "completed"
    },
    "tags": []
   },
   "outputs": [],
   "source": [
    "df_pivot.columns = [\"stamp_1\", \"stamp_2\"]\n",
    "df_pivot_diff = df_pivot.diff(axis=1)"
   ]
  },
  {
   "cell_type": "code",
   "execution_count": 7,
   "id": "fifth-motion",
   "metadata": {
    "execution": {
     "iopub.execute_input": "2021-08-09T01:30:04.800014Z",
     "iopub.status.busy": "2021-08-09T01:30:04.799028Z",
     "iopub.status.idle": "2021-08-09T01:30:05.604728Z",
     "shell.execute_reply": "2021-08-09T01:30:05.605258Z"
    },
    "papermill": {
     "duration": 0.821762,
     "end_time": "2021-08-09T01:30:05.605440",
     "exception": false,
     "start_time": "2021-08-09T01:30:04.783678",
     "status": "completed"
    },
    "tags": []
   },
   "outputs": [
    {
     "data": {
      "text/plain": [
       "<AxesSubplot:ylabel='PRODUCT'>"
      ]
     },
     "execution_count": 7,
     "metadata": {},
     "output_type": "execute_result"
    },
    {
     "data": {
      "image/png": "[encoded data removed]",
      "text/plain": [
       "<Figure size 432x288 with 1 Axes>"
      ]
     },
     "metadata": {
      "needs_background": "light"
     },
     "output_type": "display_data"
    }
   ],
   "source": [
    "df_pivot_diff.sort_values(\"stamp_2\", ascending = False)[\"stamp_2\"].head(10).plot.barh()"
   ]
  },
  {
   "cell_type": "code",
   "execution_count": null,
   "id": "extra-executive",
   "metadata": {
    "papermill": {
     "duration": 0.011018,
     "end_time": "2021-08-09T01:30:05.631209",
     "exception": false,
     "start_time": "2021-08-09T01:30:05.620191",
     "status": "completed"
    },
    "tags": []
   },
   "outputs": [],
   "source": []
  }
 ],
 "metadata": {
  "kernelspec": {
   "display_name": "Python 3",
   "language": "python",
   "name": "python3"
  },
  "language_info": {
   "codemirror_mode": {
    "name": "ipython",
    "version": 3
   },
   "file_extension": ".py",
   "mimetype": "text/x-python",
   "name": "python",
   "nbconvert_exporter": "python",
   "pygments_lexer": "ipython3",
   "version": "3.8.8"
  },
  "papermill": {
   "default_parameters": {},
   "duration": 4.086425,
   "end_time": "2021-08-09T01:30:06.174239",
   "environment_variables": {},
   "exception": null,
   "input_path": "/Users/saravananshanmugam/Carbonleakage_Git/UsedObjects/eBay_Overview.ipynb",
   "output_path": "/Users/saravananshanmugam/Carbonleakage_Git/UsedObjects/eBay_Overview.ipynb",
   "parameters": {},
   "start_time": "2021-08-09T01:30:02.087814",
   "version": "2.3.3"
  }
 },
 "nbformat": 4,
 "nbformat_minor": 5
}