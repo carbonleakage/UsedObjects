{
 "cells": [
  {
   "cell_type": "code",
   "execution_count": 1,
   "id": "reverse-picking",
   "metadata": {
    "execution": {
     "iopub.execute_input": "2021-10-22T19:00:07.016319Z",
     "iopub.status.busy": "2021-10-22T19:00:07.014419Z",
     "iopub.status.idle": "2021-10-22T19:00:07.822967Z",
     "shell.execute_reply": "2021-10-22T19:00:07.821389Z"
    },
    "papermill": {
     "duration": 0.859511,
     "end_time": "2021-10-22T19:00:07.823358",
     "exception": false,
     "start_time": "2021-10-22T19:00:06.963847",
     "status": "completed"
    },
    "tags": []
   },
   "outputs": [],
   "source": [
    "import pandas as pd\n",
    "import sqlite3"
   ]
  },
  {
   "cell_type": "code",
   "execution_count": 2,
   "id": "innovative-syndrome",
   "metadata": {
    "execution": {
     "iopub.execute_input": "2021-10-22T19:00:07.876327Z",
     "iopub.status.busy": "2021-10-22T19:00:07.874006Z",
     "iopub.status.idle": "2021-10-22T19:00:08.478802Z",
     "shell.execute_reply": "2021-10-22T19:00:08.480006Z"
    },
    "papermill": {
     "duration": 0.634838,
     "end_time": "2021-10-22T19:00:08.480399",
     "exception": false,
     "start_time": "2021-10-22T19:00:07.845561",
     "status": "completed"
    },
    "tags": []
   },
   "outputs": [],
   "source": [
    "timestamps = pd.read_sql(\"select distinct record_time from EBAY_TOP_BERLIN order by record_time desc limit 2\", sqlite3.connect(\"UsedObjects.db\"))"
   ]
  },
  {
   "cell_type": "code",
   "execution_count": 3,
   "id": "periodic-identification",
   "metadata": {
    "execution": {
     "iopub.execute_input": "2021-10-22T19:00:08.555838Z",
     "iopub.status.busy": "2021-10-22T19:00:08.553821Z",
     "iopub.status.idle": "2021-10-22T19:00:08.573604Z",
     "shell.execute_reply": "2021-10-22T19:00:08.574920Z"
    },
    "papermill": {
     "duration": 0.069874,
     "end_time": "2021-10-22T19:00:08.575341",
     "exception": false,
     "start_time": "2021-10-22T19:00:08.505467",
     "status": "completed"
    },
    "tags": []
   },
   "outputs": [
    {
     "data": {
      "text/html": [
       "<div>\n",
       "<style scoped>\n",
       "    .dataframe tbody tr th:only-of-type {\n",
       "        vertical-align: middle;\n",
       "    }\n",
       "\n",
       "    .dataframe tbody tr th {\n",
       "        vertical-align: top;\n",
       "    }\n",
       "\n",
       "    .dataframe thead th {\n",
       "        text-align: right;\n",
       "    }\n",
       "</style>\n",
       "<table border=\"1\" class=\"dataframe\">\n",
       "  <thead>\n",
       "    <tr style=\"text-align: right;\">\n",
       "      <th></th>\n",
       "      <th>RECORD_TIME</th>\n",
       "    </tr>\n",
       "  </thead>\n",
       "  <tbody>\n",
       "    <tr>\n",
       "      <th>0</th>\n",
       "      <td>2021-10-22 21:00</td>\n",
       "    </tr>\n",
       "    <tr>\n",
       "      <th>1</th>\n",
       "      <td>2021-10-22 20:30</td>\n",
       "    </tr>\n",
       "  </tbody>\n",
       "</table>\n",
       "</div>"
      ],
      "text/plain": [
       "        RECORD_TIME\n",
       "0  2021-10-22 21:00\n",
       "1  2021-10-22 20:30"
      ]
     },
     "execution_count": 3,
     "metadata": {},
     "output_type": "execute_result"
    }
   ],
   "source": [
    "timestamps"
   ]
  },
  {
   "cell_type": "code",
   "execution_count": 4,
   "id": "alternate-victory",
   "metadata": {
    "execution": {
     "iopub.execute_input": "2021-10-22T19:00:08.627215Z",
     "iopub.status.busy": "2021-10-22T19:00:08.625082Z",
     "iopub.status.idle": "2021-10-22T19:00:09.505464Z",
     "shell.execute_reply": "2021-10-22T19:00:09.506694Z"
    },
    "papermill": {
     "duration": 0.910456,
     "end_time": "2021-10-22T19:00:09.507095",
     "exception": false,
     "start_time": "2021-10-22T19:00:08.596639",
     "status": "completed"
    },
    "tags": []
   },
   "outputs": [],
   "source": [
    "df = pd.read_sql(\"select * from EBAY_TOP_BERLIN where record_time in (select distinct record_time from EBAY_TOP_BERLIN order by record_time desc limit 2)\", sqlite3.connect(\"UsedObjects.db\"))"
   ]
  },
  {
   "cell_type": "code",
   "execution_count": 5,
   "id": "popular-active",
   "metadata": {
    "execution": {
     "iopub.execute_input": "2021-10-22T19:00:09.572639Z",
     "iopub.status.busy": "2021-10-22T19:00:09.566179Z",
     "iopub.status.idle": "2021-10-22T19:00:09.594468Z",
     "shell.execute_reply": "2021-10-22T19:00:09.595829Z"
    },
    "papermill": {
     "duration": 0.06688,
     "end_time": "2021-10-22T19:00:09.596266",
     "exception": false,
     "start_time": "2021-10-22T19:00:09.529386",
     "status": "completed"
    },
    "tags": []
   },
   "outputs": [],
   "source": [
    "df_pivot = df.pivot_table(index=\"PRODUCT\", columns = \"RECORD_TIME\", values = \"LISTING_COUNT\")"
   ]
  },
  {
   "cell_type": "code",
   "execution_count": 6,
   "id": "union-huntington",
   "metadata": {
    "execution": {
     "iopub.execute_input": "2021-10-22T19:00:09.653071Z",
     "iopub.status.busy": "2021-10-22T19:00:09.650954Z",
     "iopub.status.idle": "2021-10-22T19:00:09.656191Z",
     "shell.execute_reply": "2021-10-22T19:00:09.657541Z"
    },
    "papermill": {
     "duration": 0.041159,
     "end_time": "2021-10-22T19:00:09.657965",
     "exception": false,
     "start_time": "2021-10-22T19:00:09.616806",
     "status": "completed"
    },
    "tags": []
   },
   "outputs": [],
   "source": [
    "df_pivot.columns = [\"stamp_1\", \"stamp_2\"]\n",
    "df_pivot_diff = df_pivot.diff(axis=1)"
   ]
  },
  {
   "cell_type": "code",
   "execution_count": 7,
   "id": "fifth-motion",
   "metadata": {
    "execution": {
     "iopub.execute_input": "2021-10-22T19:00:09.712795Z",
     "iopub.status.busy": "2021-10-22T19:00:09.710414Z",
     "iopub.status.idle": "2021-10-22T19:00:11.175942Z",
     "shell.execute_reply": "2021-10-22T19:00:11.177400Z"
    },
    "papermill": {
     "duration": 1.498444,
     "end_time": "2021-10-22T19:00:11.177855",
     "exception": false,
     "start_time": "2021-10-22T19:00:09.679411",
     "status": "completed"
    },
    "tags": []
   },
   "outputs": [
    {
     "data": {
      "text/plain": [
       "<AxesSubplot:ylabel='PRODUCT'>"
      ]
     },
     "execution_count": 7,
     "metadata": {},
     "output_type": "execute_result"
    },
    {
     "data": {
      "image/png": "[encoded data removed]",
      "text/plain": [
       "<Figure size 432x288 with 1 Axes>"
      ]
     },
     "metadata": {
      "needs_background": "light"
     },
     "output_type": "display_data"
    }
   ],
   "source": [
    "df_pivot_diff.sort_values(\"stamp_2\", ascending = False)[\"stamp_2\"].head(10).plot.barh()"
   ]
  },
  {
   "cell_type": "code",
   "execution_count": null,
   "id": "extra-executive",
   "metadata": {
    "papermill": {
     "duration": 0.022256,
     "end_time": "2021-10-22T19:00:11.224907",
     "exception": false,
     "start_time": "2021-10-22T19:00:11.202651",
     "status": "completed"
    },
    "tags": []
   },
   "outputs": [],
   "source": []
  }
 ],
 "metadata": {
  "kernelspec": {
   "display_name": "Python 3",
   "language": "python",
   "name": "python3"
  },
  "language_info": {
   "codemirror_mode": {
    "name": "ipython",
    "version": 3
   },
   "file_extension": ".py",
   "mimetype": "text/x-python",
   "name": "python",
   "nbconvert_exporter": "python",
   "pygments_lexer": "ipython3",
   "version": "3.9.5"
  },
  "papermill": {
   "default_parameters": {},
   "duration": 7.819725,
   "end_time": "2021-10-22T19:00:12.378551",
   "environment_variables": {},
   "exception": null,
   "input_path": "eBay_Overview.ipynb",
   "output_path": "eBay_Overview.ipynb",
   "parameters": {},
   "start_time": "2021-10-22T19:00:04.558826",
   "version": "2.3.3"
  }
 },
 "nbformat": 4,
 "nbformat_minor": 5
}