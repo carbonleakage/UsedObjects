{
 "cells": [
  {
   "cell_type": "code",
   "execution_count": 1,
   "id": "reverse-picking",
   "metadata": {
    "execution": {
     "iopub.execute_input": "2021-09-10T11:30:06.929345Z",
     "iopub.status.busy": "2021-09-10T11:30:06.927367Z",
     "iopub.status.idle": "2021-09-10T11:30:07.741196Z",
     "shell.execute_reply": "2021-09-10T11:30:07.742369Z"
    },
    "papermill": {
     "duration": 0.866275,
     "end_time": "2021-09-10T11:30:07.743053",
     "exception": false,
     "start_time": "2021-09-10T11:30:06.876778",
     "status": "completed"
    },
    "tags": []
   },
   "outputs": [],
   "source": [
    "import pandas as pd\n",
    "import sqlite3"
   ]
  },
  {
   "cell_type": "code",
   "execution_count": 2,
   "id": "innovative-syndrome",
   "metadata": {
    "execution": {
     "iopub.execute_input": "2021-09-10T11:30:07.795358Z",
     "iopub.status.busy": "2021-09-10T11:30:07.793366Z",
     "iopub.status.idle": "2021-09-10T11:30:08.048260Z",
     "shell.execute_reply": "2021-09-10T11:30:08.049670Z"
    },
    "papermill": {
     "duration": 0.284733,
     "end_time": "2021-09-10T11:30:08.050104",
     "exception": false,
     "start_time": "2021-09-10T11:30:07.765371",
     "status": "completed"
    },
    "tags": []
   },
   "outputs": [],
   "source": [
    "timestamps = pd.read_sql(\"select distinct record_time from EBAY_TOP_BERLIN order by record_time desc limit 2\", sqlite3.connect(\"UsedObjects.db\"))"
   ]
  },
  {
   "cell_type": "code",
   "execution_count": 3,
   "id": "periodic-identification",
   "metadata": {
    "execution": {
     "iopub.execute_input": "2021-09-10T11:30:08.117490Z",
     "iopub.status.busy": "2021-09-10T11:30:08.115442Z",
     "iopub.status.idle": "2021-09-10T11:30:08.135669Z",
     "shell.execute_reply": "2021-09-10T11:30:08.137024Z"
    },
    "papermill": {
     "duration": 0.067528,
     "end_time": "2021-09-10T11:30:08.137448",
     "exception": false,
     "start_time": "2021-09-10T11:30:08.069920",
     "status": "completed"
    },
    "tags": []
   },
   "outputs": [
    {
     "data": {
      "text/html": [
       "<div>\n",
       "<style scoped>\n",
       "    .dataframe tbody tr th:only-of-type {\n",
       "        vertical-align: middle;\n",
       "    }\n",
       "\n",
       "    .dataframe tbody tr th {\n",
       "        vertical-align: top;\n",
       "    }\n",
       "\n",
       "    .dataframe thead th {\n",
       "        text-align: right;\n",
       "    }\n",
       "</style>\n",
       "<table border=\"1\" class=\"dataframe\">\n",
       "  <thead>\n",
       "    <tr style=\"text-align: right;\">\n",
       "      <th></th>\n",
       "      <th>RECORD_TIME</th>\n",
       "    </tr>\n",
       "  </thead>\n",
       "  <tbody>\n",
       "    <tr>\n",
       "      <th>0</th>\n",
       "      <td>2021-09-10 13:30</td>\n",
       "    </tr>\n",
       "    <tr>\n",
       "      <th>1</th>\n",
       "      <td>2021-09-10 13:00</td>\n",
       "    </tr>\n",
       "  </tbody>\n",
       "</table>\n",
       "</div>"
      ],
      "text/plain": [
       "        RECORD_TIME\n",
       "0  2021-09-10 13:30\n",
       "1  2021-09-10 13:00"
      ]
     },
     "execution_count": 3,
     "metadata": {},
     "output_type": "execute_result"
    }
   ],
   "source": [
    "timestamps"
   ]
  },
  {
   "cell_type": "code",
   "execution_count": 4,
   "id": "alternate-victory",
   "metadata": {
    "execution": {
     "iopub.execute_input": "2021-09-10T11:30:08.189904Z",
     "iopub.status.busy": "2021-09-10T11:30:08.187631Z",
     "iopub.status.idle": "2021-09-10T11:30:08.565599Z",
     "shell.execute_reply": "2021-09-10T11:30:08.566802Z"
    },
    "papermill": {
     "duration": 0.408685,
     "end_time": "2021-09-10T11:30:08.567299",
     "exception": false,
     "start_time": "2021-09-10T11:30:08.158614",
     "status": "completed"
    },
    "tags": []
   },
   "outputs": [],
   "source": [
    "df = pd.read_sql(\"select * from EBAY_TOP_BERLIN where record_time in (select distinct record_time from EBAY_TOP_BERLIN order by record_time desc limit 2)\", sqlite3.connect(\"UsedObjects.db\"))"
   ]
  },
  {
   "cell_type": "code",
   "execution_count": 5,
   "id": "popular-active",
   "metadata": {
    "execution": {
     "iopub.execute_input": "2021-09-10T11:30:08.643225Z",
     "iopub.status.busy": "2021-09-10T11:30:08.635619Z",
     "iopub.status.idle": "2021-09-10T11:30:08.664977Z",
     "shell.execute_reply": "2021-09-10T11:30:08.666276Z"
    },
    "papermill": {
     "duration": 0.07338,
     "end_time": "2021-09-10T11:30:08.666694",
     "exception": false,
     "start_time": "2021-09-10T11:30:08.593314",
     "status": "completed"
    },
    "tags": []
   },
   "outputs": [],
   "source": [
    "df_pivot = df.pivot_table(index=\"PRODUCT\", columns = \"RECORD_TIME\", values = \"LISTING_COUNT\")"
   ]
  },
  {
   "cell_type": "code",
   "execution_count": 6,
   "id": "union-huntington",
   "metadata": {
    "execution": {
     "iopub.execute_input": "2021-09-10T11:30:08.724345Z",
     "iopub.status.busy": "2021-09-10T11:30:08.722224Z",
     "iopub.status.idle": "2021-09-10T11:30:08.727679Z",
     "shell.execute_reply": "2021-09-10T11:30:08.729028Z"
    },
    "papermill": {
     "duration": 0.041309,
     "end_time": "2021-09-10T11:30:08.729446",
     "exception": false,
     "start_time": "2021-09-10T11:30:08.688137",
     "status": "completed"
    },
    "tags": []
   },
   "outputs": [],
   "source": [
    "df_pivot.columns = [\"stamp_1\", \"stamp_2\"]\n",
    "df_pivot_diff = df_pivot.diff(axis=1)"
   ]
  },
  {
   "cell_type": "code",
   "execution_count": 7,
   "id": "fifth-motion",
   "metadata": {
    "execution": {
     "iopub.execute_input": "2021-09-10T11:30:08.785176Z",
     "iopub.status.busy": "2021-09-10T11:30:08.782585Z",
     "iopub.status.idle": "2021-09-10T11:30:10.293673Z",
     "shell.execute_reply": "2021-09-10T11:30:10.295030Z"
    },
    "papermill": {
     "duration": 1.54475,
     "end_time": "2021-09-10T11:30:10.295508",
     "exception": false,
     "start_time": "2021-09-10T11:30:08.750758",
     "status": "completed"
    },
    "tags": []
   },
   "outputs": [
    {
     "data": {
      "text/plain": [
       "<AxesSubplot:ylabel='PRODUCT'>"
      ]
     },
     "execution_count": 7,
     "metadata": {},
     "output_type": "execute_result"
    },
    {
     "data": {
      "image/png": "[encoded data removed]",
      "text/plain": [
       "<Figure size 432x288 with 1 Axes>"
      ]
     },
     "metadata": {
      "needs_background": "light"
     },
     "output_type": "display_data"
    }
   ],
   "source": [
    "df_pivot_diff.sort_values(\"stamp_2\", ascending = False)[\"stamp_2\"].head(10).plot.barh()"
   ]
  },
  {
   "cell_type": "code",
   "execution_count": null,
   "id": "extra-executive",
   "metadata": {
    "papermill": {
     "duration": 0.022114,
     "end_time": "2021-09-10T11:30:10.342329",
     "exception": false,
     "start_time": "2021-09-10T11:30:10.320215",
     "status": "completed"
    },
    "tags": []
   },
   "outputs": [],
   "source": []
  }
 ],
 "metadata": {
  "kernelspec": {
   "display_name": "Python 3",
   "language": "python",
   "name": "python3"
  },
  "language_info": {
   "codemirror_mode": {
    "name": "ipython",
    "version": 3
   },
   "file_extension": ".py",
   "mimetype": "text/x-python",
   "name": "python",
   "nbconvert_exporter": "python",
   "pygments_lexer": "ipython3",
   "version": "3.9.5"
  },
  "papermill": {
   "default_parameters": {},
   "duration": 6.540232,
   "end_time": "2021-09-10T11:30:10.983322",
   "environment_variables": {},
   "exception": null,
   "input_path": "eBay_Overview.ipynb",
   "output_path": "eBay_Overview.ipynb",
   "parameters": {},
   "start_time": "2021-09-10T11:30:04.443090",
   "version": "2.3.3"
  }
 },
 "nbformat": 4,
 "nbformat_minor": 5
}