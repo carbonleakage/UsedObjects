{
 "cells": [
  {
   "cell_type": "code",
   "execution_count": 1,
   "id": "reverse-picking",
   "metadata": {
    "execution": {
     "iopub.execute_input": "2021-10-25T22:00:08.323190Z",
     "iopub.status.busy": "2021-10-25T22:00:08.321242Z",
     "iopub.status.idle": "2021-10-25T22:00:09.133207Z",
     "shell.execute_reply": "2021-10-25T22:00:09.131441Z"
    },
    "papermill": {
     "duration": 0.863745,
     "end_time": "2021-10-25T22:00:09.133630",
     "exception": false,
     "start_time": "2021-10-25T22:00:08.269885",
     "status": "completed"
    },
    "tags": []
   },
   "outputs": [],
   "source": [
    "import pandas as pd\n",
    "import sqlite3"
   ]
  },
  {
   "cell_type": "code",
   "execution_count": 2,
   "id": "innovative-syndrome",
   "metadata": {
    "execution": {
     "iopub.execute_input": "2021-10-25T22:00:09.187727Z",
     "iopub.status.busy": "2021-10-25T22:00:09.185676Z",
     "iopub.status.idle": "2021-10-25T22:00:09.809950Z",
     "shell.execute_reply": "2021-10-25T22:00:09.811200Z"
    },
    "papermill": {
     "duration": 0.655257,
     "end_time": "2021-10-25T22:00:09.811592",
     "exception": false,
     "start_time": "2021-10-25T22:00:09.156335",
     "status": "completed"
    },
    "tags": []
   },
   "outputs": [],
   "source": [
    "timestamps = pd.read_sql(\"select distinct record_time from EBAY_TOP_BERLIN order by record_time desc limit 2\", sqlite3.connect(\"UsedObjects.db\"))"
   ]
  },
  {
   "cell_type": "code",
   "execution_count": 3,
   "id": "periodic-identification",
   "metadata": {
    "execution": {
     "iopub.execute_input": "2021-10-25T22:00:09.898564Z",
     "iopub.status.busy": "2021-10-25T22:00:09.896467Z",
     "iopub.status.idle": "2021-10-25T22:00:09.916329Z",
     "shell.execute_reply": "2021-10-25T22:00:09.917705Z"
    },
    "papermill": {
     "duration": 0.074319,
     "end_time": "2021-10-25T22:00:09.918138",
     "exception": false,
     "start_time": "2021-10-25T22:00:09.843819",
     "status": "completed"
    },
    "tags": []
   },
   "outputs": [
    {
     "data": {
      "text/html": [
       "<div>\n",
       "<style scoped>\n",
       "    .dataframe tbody tr th:only-of-type {\n",
       "        vertical-align: middle;\n",
       "    }\n",
       "\n",
       "    .dataframe tbody tr th {\n",
       "        vertical-align: top;\n",
       "    }\n",
       "\n",
       "    .dataframe thead th {\n",
       "        text-align: right;\n",
       "    }\n",
       "</style>\n",
       "<table border=\"1\" class=\"dataframe\">\n",
       "  <thead>\n",
       "    <tr style=\"text-align: right;\">\n",
       "      <th></th>\n",
       "      <th>RECORD_TIME</th>\n",
       "    </tr>\n",
       "  </thead>\n",
       "  <tbody>\n",
       "    <tr>\n",
       "      <th>0</th>\n",
       "      <td>2021-10-26 00:00</td>\n",
       "    </tr>\n",
       "    <tr>\n",
       "      <th>1</th>\n",
       "      <td>2021-10-25 23:30</td>\n",
       "    </tr>\n",
       "  </tbody>\n",
       "</table>\n",
       "</div>"
      ],
      "text/plain": [
       "        RECORD_TIME\n",
       "0  2021-10-26 00:00\n",
       "1  2021-10-25 23:30"
      ]
     },
     "execution_count": 3,
     "metadata": {},
     "output_type": "execute_result"
    }
   ],
   "source": [
    "timestamps"
   ]
  },
  {
   "cell_type": "code",
   "execution_count": 4,
   "id": "alternate-victory",
   "metadata": {
    "execution": {
     "iopub.execute_input": "2021-10-25T22:00:09.969703Z",
     "iopub.status.busy": "2021-10-25T22:00:09.967758Z",
     "iopub.status.idle": "2021-10-25T22:00:10.881743Z",
     "shell.execute_reply": "2021-10-25T22:00:10.883114Z"
    },
    "papermill": {
     "duration": 0.94461,
     "end_time": "2021-10-25T22:00:10.883548",
     "exception": false,
     "start_time": "2021-10-25T22:00:09.938938",
     "status": "completed"
    },
    "tags": []
   },
   "outputs": [],
   "source": [
    "df = pd.read_sql(\"select * from EBAY_TOP_BERLIN where record_time in (select distinct record_time from EBAY_TOP_BERLIN order by record_time desc limit 2)\", sqlite3.connect(\"UsedObjects.db\"))"
   ]
  },
  {
   "cell_type": "code",
   "execution_count": 5,
   "id": "popular-active",
   "metadata": {
    "execution": {
     "iopub.execute_input": "2021-10-25T22:00:10.950135Z",
     "iopub.status.busy": "2021-10-25T22:00:10.943852Z",
     "iopub.status.idle": "2021-10-25T22:00:10.971172Z",
     "shell.execute_reply": "2021-10-25T22:00:10.972362Z"
    },
    "papermill": {
     "duration": 0.067899,
     "end_time": "2021-10-25T22:00:10.972938",
     "exception": false,
     "start_time": "2021-10-25T22:00:10.905039",
     "status": "completed"
    },
    "tags": []
   },
   "outputs": [],
   "source": [
    "df_pivot = df.pivot_table(index=\"PRODUCT\", columns = \"RECORD_TIME\", values = \"LISTING_COUNT\")"
   ]
  },
  {
   "cell_type": "code",
   "execution_count": 6,
   "id": "union-huntington",
   "metadata": {
    "execution": {
     "iopub.execute_input": "2021-10-25T22:00:11.032373Z",
     "iopub.status.busy": "2021-10-25T22:00:11.030218Z",
     "iopub.status.idle": "2021-10-25T22:00:11.035747Z",
     "shell.execute_reply": "2021-10-25T22:00:11.037154Z"
    },
    "papermill": {
     "duration": 0.041858,
     "end_time": "2021-10-25T22:00:11.037598",
     "exception": false,
     "start_time": "2021-10-25T22:00:10.995740",
     "status": "completed"
    },
    "tags": []
   },
   "outputs": [],
   "source": [
    "df_pivot.columns = [\"stamp_1\", \"stamp_2\"]\n",
    "df_pivot_diff = df_pivot.diff(axis=1)"
   ]
  },
  {
   "cell_type": "code",
   "execution_count": 7,
   "id": "fifth-motion",
   "metadata": {
    "execution": {
     "iopub.execute_input": "2021-10-25T22:00:11.093136Z",
     "iopub.status.busy": "2021-10-25T22:00:11.090666Z",
     "iopub.status.idle": "2021-10-25T22:00:12.612984Z",
     "shell.execute_reply": "2021-10-25T22:00:12.614345Z"
    },
    "papermill": {
     "duration": 1.555844,
     "end_time": "2021-10-25T22:00:12.614785",
     "exception": false,
     "start_time": "2021-10-25T22:00:11.058941",
     "status": "completed"
    },
    "tags": []
   },
   "outputs": [
    {
     "data": {
      "text/plain": [
       "<AxesSubplot:ylabel='PRODUCT'>"
      ]
     },
     "execution_count": 7,
     "metadata": {},
     "output_type": "execute_result"
    },
    {
     "data": {
      "image/png": "[encoded data removed]",
      "text/plain": [
       "<Figure size 432x288 with 1 Axes>"
      ]
     },
     "metadata": {
      "needs_background": "light"
     },
     "output_type": "display_data"
    }
   ],
   "source": [
    "df_pivot_diff.sort_values(\"stamp_2\", ascending = False)[\"stamp_2\"].head(10).plot.barh()"
   ]
  },
  {
   "cell_type": "code",
   "execution_count": null,
   "id": "extra-executive",
   "metadata": {
    "papermill": {
     "duration": 0.02257,
     "end_time": "2021-10-25T22:00:12.662566",
     "exception": false,
     "start_time": "2021-10-25T22:00:12.639996",
     "status": "completed"
    },
    "tags": []
   },
   "outputs": [],
   "source": []
  }
 ],
 "metadata": {
  "kernelspec": {
   "display_name": "Python 3",
   "language": "python",
   "name": "python3"
  },
  "language_info": {
   "codemirror_mode": {
    "name": "ipython",
    "version": 3
   },
   "file_extension": ".py",
   "mimetype": "text/x-python",
   "name": "python",
   "nbconvert_exporter": "python",
   "pygments_lexer": "ipython3",
   "version": "3.9.5"
  },
  "papermill": {
   "default_parameters": {},
   "duration": 7.458599,
   "end_time": "2021-10-25T22:00:13.304125",
   "environment_variables": {},
   "exception": null,
   "input_path": "eBay_Overview.ipynb",
   "output_path": "eBay_Overview.ipynb",
   "parameters": {},
   "start_time": "2021-10-25T22:00:05.845526",
   "version": "2.3.3"
  }
 },
 "nbformat": 4,
 "nbformat_minor": 5
}