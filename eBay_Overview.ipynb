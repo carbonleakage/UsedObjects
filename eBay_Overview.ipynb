{
 "cells": [
  {
   "cell_type": "code",
   "execution_count": 1,
   "id": "reverse-picking",
   "metadata": {
    "execution": {
     "iopub.execute_input": "2021-08-16T06:00:07.076297Z",
     "iopub.status.busy": "2021-08-16T06:00:07.074323Z",
     "iopub.status.idle": "2021-08-16T06:00:07.880153Z",
     "shell.execute_reply": "2021-08-16T06:00:07.881384Z"
    },
    "papermill": {
     "duration": 0.857702,
     "end_time": "2021-08-16T06:00:07.882072",
     "exception": false,
     "start_time": "2021-08-16T06:00:07.024370",
     "status": "completed"
    },
    "tags": []
   },
   "outputs": [],
   "source": [
    "import pandas as pd\n",
    "import sqlite3"
   ]
  },
  {
   "cell_type": "code",
   "execution_count": 2,
   "id": "innovative-syndrome",
   "metadata": {
    "execution": {
     "iopub.execute_input": "2021-08-16T06:00:07.932083Z",
     "iopub.status.busy": "2021-08-16T06:00:07.930195Z",
     "iopub.status.idle": "2021-08-16T06:00:07.989390Z",
     "shell.execute_reply": "2021-08-16T06:00:07.990646Z"
    },
    "papermill": {
     "duration": 0.08868,
     "end_time": "2021-08-16T06:00:07.991046",
     "exception": false,
     "start_time": "2021-08-16T06:00:07.902366",
     "status": "completed"
    },
    "tags": []
   },
   "outputs": [],
   "source": [
    "timestamps = pd.read_sql(\"select distinct record_time from EBAY_TOP_BERLIN order by record_time desc limit 2\", sqlite3.connect(\"UsedObjects.db\"))"
   ]
  },
  {
   "cell_type": "code",
   "execution_count": 3,
   "id": "periodic-identification",
   "metadata": {
    "execution": {
     "iopub.execute_input": "2021-08-16T06:00:08.057094Z",
     "iopub.status.busy": "2021-08-16T06:00:08.055043Z",
     "iopub.status.idle": "2021-08-16T06:00:08.077383Z",
     "shell.execute_reply": "2021-08-16T06:00:08.076067Z"
    },
    "papermill": {
     "duration": 0.065285,
     "end_time": "2021-08-16T06:00:08.077717",
     "exception": false,
     "start_time": "2021-08-16T06:00:08.012432",
     "status": "completed"
    },
    "tags": []
   },
   "outputs": [
    {
     "data": {
      "text/html": [
       "<div>\n",
       "<style scoped>\n",
       "    .dataframe tbody tr th:only-of-type {\n",
       "        vertical-align: middle;\n",
       "    }\n",
       "\n",
       "    .dataframe tbody tr th {\n",
       "        vertical-align: top;\n",
       "    }\n",
       "\n",
       "    .dataframe thead th {\n",
       "        text-align: right;\n",
       "    }\n",
       "</style>\n",
       "<table border=\"1\" class=\"dataframe\">\n",
       "  <thead>\n",
       "    <tr style=\"text-align: right;\">\n",
       "      <th></th>\n",
       "      <th>RECORD_TIME</th>\n",
       "    </tr>\n",
       "  </thead>\n",
       "  <tbody>\n",
       "    <tr>\n",
       "      <th>0</th>\n",
       "      <td>2021-08-16 08:00</td>\n",
       "    </tr>\n",
       "    <tr>\n",
       "      <th>1</th>\n",
       "      <td>2021-08-16 07:30</td>\n",
       "    </tr>\n",
       "  </tbody>\n",
       "</table>\n",
       "</div>"
      ],
      "text/plain": [
       "        RECORD_TIME\n",
       "0  2021-08-16 08:00\n",
       "1  2021-08-16 07:30"
      ]
     },
     "execution_count": 3,
     "metadata": {},
     "output_type": "execute_result"
    }
   ],
   "source": [
    "timestamps"
   ]
  },
  {
   "cell_type": "code",
   "execution_count": 4,
   "id": "alternate-victory",
   "metadata": {
    "execution": {
     "iopub.execute_input": "2021-08-16T06:00:08.130595Z",
     "iopub.status.busy": "2021-08-16T06:00:08.128234Z",
     "iopub.status.idle": "2021-08-16T06:00:08.220634Z",
     "shell.execute_reply": "2021-08-16T06:00:08.221843Z"
    },
    "papermill": {
     "duration": 0.122812,
     "end_time": "2021-08-16T06:00:08.222320",
     "exception": false,
     "start_time": "2021-08-16T06:00:08.099508",
     "status": "completed"
    },
    "tags": []
   },
   "outputs": [],
   "source": [
    "df = pd.read_sql(\"select * from EBAY_TOP_BERLIN where record_time in (select distinct record_time from EBAY_TOP_BERLIN order by record_time desc limit 2)\", sqlite3.connect(\"UsedObjects.db\"))"
   ]
  },
  {
   "cell_type": "code",
   "execution_count": 5,
   "id": "popular-active",
   "metadata": {
    "execution": {
     "iopub.execute_input": "2021-08-16T06:00:08.282967Z",
     "iopub.status.busy": "2021-08-16T06:00:08.279071Z",
     "iopub.status.idle": "2021-08-16T06:00:08.308328Z",
     "shell.execute_reply": "2021-08-16T06:00:08.309535Z"
    },
    "papermill": {
     "duration": 0.067466,
     "end_time": "2021-08-16T06:00:08.309970",
     "exception": false,
     "start_time": "2021-08-16T06:00:08.242504",
     "status": "completed"
    },
    "tags": []
   },
   "outputs": [],
   "source": [
    "df_pivot = df.pivot_table(index=\"PRODUCT\", columns = \"RECORD_TIME\", values = \"LISTING_COUNT\")"
   ]
  },
  {
   "cell_type": "code",
   "execution_count": 6,
   "id": "union-huntington",
   "metadata": {
    "execution": {
     "iopub.execute_input": "2021-08-16T06:00:08.367016Z",
     "iopub.status.busy": "2021-08-16T06:00:08.364787Z",
     "iopub.status.idle": "2021-08-16T06:00:08.372117Z",
     "shell.execute_reply": "2021-08-16T06:00:08.370562Z"
    },
    "papermill": {
     "duration": 0.041214,
     "end_time": "2021-08-16T06:00:08.372523",
     "exception": false,
     "start_time": "2021-08-16T06:00:08.331309",
     "status": "completed"
    },
    "tags": []
   },
   "outputs": [],
   "source": [
    "df_pivot.columns = [\"stamp_1\", \"stamp_2\"]\n",
    "df_pivot_diff = df_pivot.diff(axis=1)"
   ]
  },
  {
   "cell_type": "code",
   "execution_count": 7,
   "id": "fifth-motion",
   "metadata": {
    "execution": {
     "iopub.execute_input": "2021-08-16T06:00:08.428100Z",
     "iopub.status.busy": "2021-08-16T06:00:08.425587Z",
     "iopub.status.idle": "2021-08-16T06:00:09.895512Z",
     "shell.execute_reply": "2021-08-16T06:00:09.896713Z"
    },
    "papermill": {
     "duration": 1.503215,
     "end_time": "2021-08-16T06:00:09.897145",
     "exception": false,
     "start_time": "2021-08-16T06:00:08.393930",
     "status": "completed"
    },
    "tags": []
   },
   "outputs": [
    {
     "data": {
      "text/plain": [
       "<AxesSubplot:ylabel='PRODUCT'>"
      ]
     },
     "execution_count": 7,
     "metadata": {},
     "output_type": "execute_result"
    },
    {
     "data": {
      "image/png": "[encoded data removed]",
      "text/plain": [
       "<Figure size 432x288 with 1 Axes>"
      ]
     },
     "metadata": {
      "needs_background": "light"
     },
     "output_type": "display_data"
    }
   ],
   "source": [
    "df_pivot_diff.sort_values(\"stamp_2\", ascending = False)[\"stamp_2\"].head(10).plot.barh()"
   ]
  },
  {
   "cell_type": "code",
   "execution_count": null,
   "id": "extra-executive",
   "metadata": {
    "papermill": {
     "duration": 0.022166,
     "end_time": "2021-08-16T06:00:09.944794",
     "exception": false,
     "start_time": "2021-08-16T06:00:09.922628",
     "status": "completed"
    },
    "tags": []
   },
   "outputs": [],
   "source": []
  }
 ],
 "metadata": {
  "kernelspec": {
   "display_name": "Python 3",
   "language": "python",
   "name": "python3"
  },
  "language_info": {
   "codemirror_mode": {
    "name": "ipython",
    "version": 3
   },
   "file_extension": ".py",
   "mimetype": "text/x-python",
   "name": "python",
   "nbconvert_exporter": "python",
   "pygments_lexer": "ipython3",
   "version": "3.9.5"
  },
  "papermill": {
   "default_parameters": {},
   "duration": 6.828436,
   "end_time": "2021-08-16T06:00:11.433305",
   "environment_variables": {},
   "exception": null,
   "input_path": "eBay_Overview.ipynb",
   "output_path": "eBay_Overview.ipynb",
   "parameters": {},
   "start_time": "2021-08-16T06:00:04.604869",
   "version": "2.3.3"
  }
 },
 "nbformat": 4,
 "nbformat_minor": 5
}