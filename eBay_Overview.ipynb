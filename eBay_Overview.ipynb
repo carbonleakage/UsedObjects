{
 "cells": [
  {
   "cell_type": "code",
   "execution_count": 1,
   "id": "reverse-picking",
   "metadata": {
    "execution": {
     "iopub.execute_input": "2021-08-23T18:30:06.611217Z",
     "iopub.status.busy": "2021-08-23T18:30:06.609205Z",
     "iopub.status.idle": "2021-08-23T18:30:07.416162Z",
     "shell.execute_reply": "2021-08-23T18:30:07.417415Z"
    },
    "papermill": {
     "duration": 0.856365,
     "end_time": "2021-08-23T18:30:07.418221",
     "exception": false,
     "start_time": "2021-08-23T18:30:06.561856",
     "status": "completed"
    },
    "tags": []
   },
   "outputs": [],
   "source": [
    "import pandas as pd\n",
    "import sqlite3"
   ]
  },
  {
   "cell_type": "code",
   "execution_count": 2,
   "id": "innovative-syndrome",
   "metadata": {
    "execution": {
     "iopub.execute_input": "2021-08-23T18:30:07.471361Z",
     "iopub.status.busy": "2021-08-23T18:30:07.468957Z",
     "iopub.status.idle": "2021-08-23T18:30:07.585878Z",
     "shell.execute_reply": "2021-08-23T18:30:07.587447Z"
    },
    "papermill": {
     "duration": 0.147485,
     "end_time": "2021-08-23T18:30:07.587905",
     "exception": false,
     "start_time": "2021-08-23T18:30:07.440420",
     "status": "completed"
    },
    "tags": []
   },
   "outputs": [],
   "source": [
    "timestamps = pd.read_sql(\"select distinct record_time from EBAY_TOP_BERLIN order by record_time desc limit 2\", sqlite3.connect(\"UsedObjects.db\"))"
   ]
  },
  {
   "cell_type": "code",
   "execution_count": 3,
   "id": "periodic-identification",
   "metadata": {
    "execution": {
     "iopub.execute_input": "2021-08-23T18:30:07.655237Z",
     "iopub.status.busy": "2021-08-23T18:30:07.653093Z",
     "iopub.status.idle": "2021-08-23T18:30:07.673732Z",
     "shell.execute_reply": "2021-08-23T18:30:07.675024Z"
    },
    "papermill": {
     "duration": 0.067627,
     "end_time": "2021-08-23T18:30:07.675458",
     "exception": false,
     "start_time": "2021-08-23T18:30:07.607831",
     "status": "completed"
    },
    "tags": []
   },
   "outputs": [
    {
     "data": {
      "text/html": [
       "<div>\n",
       "<style scoped>\n",
       "    .dataframe tbody tr th:only-of-type {\n",
       "        vertical-align: middle;\n",
       "    }\n",
       "\n",
       "    .dataframe tbody tr th {\n",
       "        vertical-align: top;\n",
       "    }\n",
       "\n",
       "    .dataframe thead th {\n",
       "        text-align: right;\n",
       "    }\n",
       "</style>\n",
       "<table border=\"1\" class=\"dataframe\">\n",
       "  <thead>\n",
       "    <tr style=\"text-align: right;\">\n",
       "      <th></th>\n",
       "      <th>RECORD_TIME</th>\n",
       "    </tr>\n",
       "  </thead>\n",
       "  <tbody>\n",
       "    <tr>\n",
       "      <th>0</th>\n",
       "      <td>2021-08-23 20:30</td>\n",
       "    </tr>\n",
       "    <tr>\n",
       "      <th>1</th>\n",
       "      <td>2021-08-23 20:00</td>\n",
       "    </tr>\n",
       "  </tbody>\n",
       "</table>\n",
       "</div>"
      ],
      "text/plain": [
       "        RECORD_TIME\n",
       "0  2021-08-23 20:30\n",
       "1  2021-08-23 20:00"
      ]
     },
     "execution_count": 3,
     "metadata": {},
     "output_type": "execute_result"
    }
   ],
   "source": [
    "timestamps"
   ]
  },
  {
   "cell_type": "code",
   "execution_count": 4,
   "id": "alternate-victory",
   "metadata": {
    "execution": {
     "iopub.execute_input": "2021-08-23T18:30:07.729468Z",
     "iopub.status.busy": "2021-08-23T18:30:07.727181Z",
     "iopub.status.idle": "2021-08-23T18:30:07.902436Z",
     "shell.execute_reply": "2021-08-23T18:30:07.903775Z"
    },
    "papermill": {
     "duration": 0.205871,
     "end_time": "2021-08-23T18:30:07.904178",
     "exception": false,
     "start_time": "2021-08-23T18:30:07.698307",
     "status": "completed"
    },
    "tags": []
   },
   "outputs": [],
   "source": [
    "df = pd.read_sql(\"select * from EBAY_TOP_BERLIN where record_time in (select distinct record_time from EBAY_TOP_BERLIN order by record_time desc limit 2)\", sqlite3.connect(\"UsedObjects.db\"))"
   ]
  },
  {
   "cell_type": "code",
   "execution_count": 5,
   "id": "popular-active",
   "metadata": {
    "execution": {
     "iopub.execute_input": "2021-08-23T18:30:07.975409Z",
     "iopub.status.busy": "2021-08-23T18:30:07.963225Z",
     "iopub.status.idle": "2021-08-23T18:30:07.990875Z",
     "shell.execute_reply": "2021-08-23T18:30:07.992110Z"
    },
    "papermill": {
     "duration": 0.068059,
     "end_time": "2021-08-23T18:30:07.992509",
     "exception": false,
     "start_time": "2021-08-23T18:30:07.924450",
     "status": "completed"
    },
    "tags": []
   },
   "outputs": [],
   "source": [
    "df_pivot = df.pivot_table(index=\"PRODUCT\", columns = \"RECORD_TIME\", values = \"LISTING_COUNT\")"
   ]
  },
  {
   "cell_type": "code",
   "execution_count": 6,
   "id": "union-huntington",
   "metadata": {
    "execution": {
     "iopub.execute_input": "2021-08-23T18:30:08.060482Z",
     "iopub.status.busy": "2021-08-23T18:30:08.058422Z",
     "iopub.status.idle": "2021-08-23T18:30:08.063710Z",
     "shell.execute_reply": "2021-08-23T18:30:08.064998Z"
    },
    "papermill": {
     "duration": 0.045646,
     "end_time": "2021-08-23T18:30:08.065418",
     "exception": false,
     "start_time": "2021-08-23T18:30:08.019772",
     "status": "completed"
    },
    "tags": []
   },
   "outputs": [],
   "source": [
    "df_pivot.columns = [\"stamp_1\", \"stamp_2\"]\n",
    "df_pivot_diff = df_pivot.diff(axis=1)"
   ]
  },
  {
   "cell_type": "code",
   "execution_count": 7,
   "id": "fifth-motion",
   "metadata": {
    "execution": {
     "iopub.execute_input": "2021-08-23T18:30:08.123633Z",
     "iopub.status.busy": "2021-08-23T18:30:08.121046Z",
     "iopub.status.idle": "2021-08-23T18:30:09.603933Z",
     "shell.execute_reply": "2021-08-23T18:30:09.605131Z"
    },
    "papermill": {
     "duration": 1.516562,
     "end_time": "2021-08-23T18:30:09.605560",
     "exception": false,
     "start_time": "2021-08-23T18:30:08.088998",
     "status": "completed"
    },
    "tags": []
   },
   "outputs": [
    {
     "data": {
      "text/plain": [
       "<AxesSubplot:ylabel='PRODUCT'>"
      ]
     },
     "execution_count": 7,
     "metadata": {},
     "output_type": "execute_result"
    },
    {
     "data": {
      "image/png": "[encoded data removed]",
      "text/plain": [
       "<Figure size 432x288 with 1 Axes>"
      ]
     },
     "metadata": {
      "needs_background": "light"
     },
     "output_type": "display_data"
    }
   ],
   "source": [
    "df_pivot_diff.sort_values(\"stamp_2\", ascending = False)[\"stamp_2\"].head(10).plot.barh()"
   ]
  },
  {
   "cell_type": "code",
   "execution_count": null,
   "id": "extra-executive",
   "metadata": {
    "papermill": {
     "duration": 0.022298,
     "end_time": "2021-08-23T18:30:09.651886",
     "exception": false,
     "start_time": "2021-08-23T18:30:09.629588",
     "status": "completed"
    },
    "tags": []
   },
   "outputs": [],
   "source": []
  }
 ],
 "metadata": {
  "kernelspec": {
   "display_name": "Python 3",
   "language": "python",
   "name": "python3"
  },
  "language_info": {
   "codemirror_mode": {
    "name": "ipython",
    "version": 3
   },
   "file_extension": ".py",
   "mimetype": "text/x-python",
   "name": "python",
   "nbconvert_exporter": "python",
   "pygments_lexer": "ipython3",
   "version": "3.9.5"
  },
  "papermill": {
   "default_parameters": {},
   "duration": 6.828571,
   "end_time": "2021-08-23T18:30:10.972745",
   "environment_variables": {},
   "exception": null,
   "input_path": "eBay_Overview.ipynb",
   "output_path": "eBay_Overview.ipynb",
   "parameters": {},
   "start_time": "2021-08-23T18:30:04.144174",
   "version": "2.3.3"
  }
 },
 "nbformat": 4,
 "nbformat_minor": 5
}