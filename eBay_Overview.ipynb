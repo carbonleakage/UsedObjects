{
 "cells": [
  {
   "cell_type": "code",
   "execution_count": 1,
   "id": "reverse-picking",
   "metadata": {
    "execution": {
     "iopub.execute_input": "2021-10-12T06:00:07.178727Z",
     "iopub.status.busy": "2021-10-12T06:00:07.176792Z",
     "iopub.status.idle": "2021-10-12T06:00:07.977736Z",
     "shell.execute_reply": "2021-10-12T06:00:07.978986Z"
    },
    "papermill": {
     "duration": 0.844929,
     "end_time": "2021-10-12T06:00:07.979604",
     "exception": false,
     "start_time": "2021-10-12T06:00:07.134675",
     "status": "completed"
    },
    "tags": []
   },
   "outputs": [],
   "source": [
    "import pandas as pd\n",
    "import sqlite3"
   ]
  },
  {
   "cell_type": "code",
   "execution_count": 2,
   "id": "innovative-syndrome",
   "metadata": {
    "execution": {
     "iopub.execute_input": "2021-10-12T06:00:08.030894Z",
     "iopub.status.busy": "2021-10-12T06:00:08.029032Z",
     "iopub.status.idle": "2021-10-12T06:00:08.556909Z",
     "shell.execute_reply": "2021-10-12T06:00:08.558261Z"
    },
    "papermill": {
     "duration": 0.557493,
     "end_time": "2021-10-12T06:00:08.558670",
     "exception": false,
     "start_time": "2021-10-12T06:00:08.001177",
     "status": "completed"
    },
    "tags": []
   },
   "outputs": [],
   "source": [
    "timestamps = pd.read_sql(\"select distinct record_time from EBAY_TOP_BERLIN order by record_time desc limit 2\", sqlite3.connect(\"UsedObjects.db\"))"
   ]
  },
  {
   "cell_type": "code",
   "execution_count": 3,
   "id": "periodic-identification",
   "metadata": {
    "execution": {
     "iopub.execute_input": "2021-10-12T06:00:08.622199Z",
     "iopub.status.busy": "2021-10-12T06:00:08.620013Z",
     "iopub.status.idle": "2021-10-12T06:00:08.640199Z",
     "shell.execute_reply": "2021-10-12T06:00:08.641585Z"
    },
    "papermill": {
     "duration": 0.064142,
     "end_time": "2021-10-12T06:00:08.642014",
     "exception": false,
     "start_time": "2021-10-12T06:00:08.577872",
     "status": "completed"
    },
    "tags": []
   },
   "outputs": [
    {
     "data": {
      "text/html": [
       "<div>\n",
       "<style scoped>\n",
       "    .dataframe tbody tr th:only-of-type {\n",
       "        vertical-align: middle;\n",
       "    }\n",
       "\n",
       "    .dataframe tbody tr th {\n",
       "        vertical-align: top;\n",
       "    }\n",
       "\n",
       "    .dataframe thead th {\n",
       "        text-align: right;\n",
       "    }\n",
       "</style>\n",
       "<table border=\"1\" class=\"dataframe\">\n",
       "  <thead>\n",
       "    <tr style=\"text-align: right;\">\n",
       "      <th></th>\n",
       "      <th>RECORD_TIME</th>\n",
       "    </tr>\n",
       "  </thead>\n",
       "  <tbody>\n",
       "    <tr>\n",
       "      <th>0</th>\n",
       "      <td>2021-10-12 08:00</td>\n",
       "    </tr>\n",
       "    <tr>\n",
       "      <th>1</th>\n",
       "      <td>2021-10-12 07:30</td>\n",
       "    </tr>\n",
       "  </tbody>\n",
       "</table>\n",
       "</div>"
      ],
      "text/plain": [
       "        RECORD_TIME\n",
       "0  2021-10-12 08:00\n",
       "1  2021-10-12 07:30"
      ]
     },
     "execution_count": 3,
     "metadata": {},
     "output_type": "execute_result"
    }
   ],
   "source": [
    "timestamps"
   ]
  },
  {
   "cell_type": "code",
   "execution_count": 4,
   "id": "alternate-victory",
   "metadata": {
    "execution": {
     "iopub.execute_input": "2021-10-12T06:00:08.707459Z",
     "iopub.status.busy": "2021-10-12T06:00:08.705632Z",
     "iopub.status.idle": "2021-10-12T06:00:09.470780Z",
     "shell.execute_reply": "2021-10-12T06:00:09.471986Z"
    },
    "papermill": {
     "duration": 0.799639,
     "end_time": "2021-10-12T06:00:09.472382",
     "exception": false,
     "start_time": "2021-10-12T06:00:08.672743",
     "status": "completed"
    },
    "tags": []
   },
   "outputs": [],
   "source": [
    "df = pd.read_sql(\"select * from EBAY_TOP_BERLIN where record_time in (select distinct record_time from EBAY_TOP_BERLIN order by record_time desc limit 2)\", sqlite3.connect(\"UsedObjects.db\"))"
   ]
  },
  {
   "cell_type": "code",
   "execution_count": 5,
   "id": "popular-active",
   "metadata": {
    "execution": {
     "iopub.execute_input": "2021-10-12T06:00:09.543539Z",
     "iopub.status.busy": "2021-10-12T06:00:09.531081Z",
     "iopub.status.idle": "2021-10-12T06:00:09.560241Z",
     "shell.execute_reply": "2021-10-12T06:00:09.561601Z"
    },
    "papermill": {
     "duration": 0.067812,
     "end_time": "2021-10-12T06:00:09.562021",
     "exception": false,
     "start_time": "2021-10-12T06:00:09.494209",
     "status": "completed"
    },
    "tags": []
   },
   "outputs": [],
   "source": [
    "df_pivot = df.pivot_table(index=\"PRODUCT\", columns = \"RECORD_TIME\", values = \"LISTING_COUNT\")"
   ]
  },
  {
   "cell_type": "code",
   "execution_count": 6,
   "id": "union-huntington",
   "metadata": {
    "execution": {
     "iopub.execute_input": "2021-10-12T06:00:09.616787Z",
     "iopub.status.busy": "2021-10-12T06:00:09.614732Z",
     "iopub.status.idle": "2021-10-12T06:00:09.620008Z",
     "shell.execute_reply": "2021-10-12T06:00:09.621335Z"
    },
    "papermill": {
     "duration": 0.039876,
     "end_time": "2021-10-12T06:00:09.621752",
     "exception": false,
     "start_time": "2021-10-12T06:00:09.581876",
     "status": "completed"
    },
    "tags": []
   },
   "outputs": [],
   "source": [
    "df_pivot.columns = [\"stamp_1\", \"stamp_2\"]\n",
    "df_pivot_diff = df_pivot.diff(axis=1)"
   ]
  },
  {
   "cell_type": "code",
   "execution_count": 7,
   "id": "fifth-motion",
   "metadata": {
    "execution": {
     "iopub.execute_input": "2021-10-12T06:00:09.676205Z",
     "iopub.status.busy": "2021-10-12T06:00:09.673851Z",
     "iopub.status.idle": "2021-10-12T06:00:11.153363Z",
     "shell.execute_reply": "2021-10-12T06:00:11.154652Z"
    },
    "papermill": {
     "duration": 1.511951,
     "end_time": "2021-10-12T06:00:11.155076",
     "exception": false,
     "start_time": "2021-10-12T06:00:09.643125",
     "status": "completed"
    },
    "tags": []
   },
   "outputs": [
    {
     "data": {
      "text/plain": [
       "<AxesSubplot:ylabel='PRODUCT'>"
      ]
     },
     "execution_count": 7,
     "metadata": {},
     "output_type": "execute_result"
    },
    {
     "data": {
      "image/png": "[encoded data removed]",
      "text/plain": [
       "<Figure size 432x288 with 1 Axes>"
      ]
     },
     "metadata": {
      "needs_background": "light"
     },
     "output_type": "display_data"
    }
   ],
   "source": [
    "df_pivot_diff.sort_values(\"stamp_2\", ascending = False)[\"stamp_2\"].head(10).plot.barh()"
   ]
  },
  {
   "cell_type": "code",
   "execution_count": null,
   "id": "extra-executive",
   "metadata": {
    "papermill": {
     "duration": 0.021819,
     "end_time": "2021-10-12T06:00:11.202048",
     "exception": false,
     "start_time": "2021-10-12T06:00:11.180229",
     "status": "completed"
    },
    "tags": []
   },
   "outputs": [],
   "source": []
  }
 ],
 "metadata": {
  "kernelspec": {
   "display_name": "Python 3",
   "language": "python",
   "name": "python3"
  },
  "language_info": {
   "codemirror_mode": {
    "name": "ipython",
    "version": 3
   },
   "file_extension": ".py",
   "mimetype": "text/x-python",
   "name": "python",
   "nbconvert_exporter": "python",
   "pygments_lexer": "ipython3",
   "version": "3.9.5"
  },
  "papermill": {
   "default_parameters": {},
   "duration": 7.819229,
   "end_time": "2021-10-12T06:00:12.553164",
   "environment_variables": {},
   "exception": null,
   "input_path": "eBay_Overview.ipynb",
   "output_path": "eBay_Overview.ipynb",
   "parameters": {},
   "start_time": "2021-10-12T06:00:04.733935",
   "version": "2.3.3"
  }
 },
 "nbformat": 4,
 "nbformat_minor": 5
}