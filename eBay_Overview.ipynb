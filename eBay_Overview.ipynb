{
 "cells": [
  {
   "cell_type": "code",
   "execution_count": 1,
   "id": "reverse-picking",
   "metadata": {
    "execution": {
     "iopub.execute_input": "2021-11-27T09:30:08.250553Z",
     "iopub.status.busy": "2021-11-27T09:30:08.248100Z",
     "iopub.status.idle": "2021-11-27T09:30:09.198863Z",
     "shell.execute_reply": "2021-11-27T09:30:09.200553Z"
    },
    "papermill": {
     "duration": 1.001651,
     "end_time": "2021-11-27T09:30:09.201378",
     "exception": false,
     "start_time": "2021-11-27T09:30:08.199727",
     "status": "completed"
    },
    "tags": []
   },
   "outputs": [],
   "source": [
    "import pandas as pd\n",
    "import sqlite3"
   ]
  },
  {
   "cell_type": "code",
   "execution_count": 2,
   "id": "innovative-syndrome",
   "metadata": {
    "execution": {
     "iopub.execute_input": "2021-11-27T09:30:09.276190Z",
     "iopub.status.busy": "2021-11-27T09:30:09.272900Z",
     "iopub.status.idle": "2021-11-27T09:30:10.188839Z",
     "shell.execute_reply": "2021-11-27T09:30:10.190179Z"
    },
    "papermill": {
     "duration": 0.961327,
     "end_time": "2021-11-27T09:30:10.190597",
     "exception": false,
     "start_time": "2021-11-27T09:30:09.229270",
     "status": "completed"
    },
    "tags": []
   },
   "outputs": [],
   "source": [
    "timestamps = pd.read_sql(\"select distinct record_time from EBAY_TOP_BERLIN order by record_time desc limit 2\", sqlite3.connect(\"UsedObjects.db\"))"
   ]
  },
  {
   "cell_type": "code",
   "execution_count": 3,
   "id": "periodic-identification",
   "metadata": {
    "execution": {
     "iopub.execute_input": "2021-11-27T09:30:10.256078Z",
     "iopub.status.busy": "2021-11-27T09:30:10.253896Z",
     "iopub.status.idle": "2021-11-27T09:30:10.274925Z",
     "shell.execute_reply": "2021-11-27T09:30:10.276148Z"
    },
    "papermill": {
     "duration": 0.066326,
     "end_time": "2021-11-27T09:30:10.276539",
     "exception": false,
     "start_time": "2021-11-27T09:30:10.210213",
     "status": "completed"
    },
    "tags": []
   },
   "outputs": [
    {
     "data": {
      "text/html": [
       "<div>\n",
       "<style scoped>\n",
       "    .dataframe tbody tr th:only-of-type {\n",
       "        vertical-align: middle;\n",
       "    }\n",
       "\n",
       "    .dataframe tbody tr th {\n",
       "        vertical-align: top;\n",
       "    }\n",
       "\n",
       "    .dataframe thead th {\n",
       "        text-align: right;\n",
       "    }\n",
       "</style>\n",
       "<table border=\"1\" class=\"dataframe\">\n",
       "  <thead>\n",
       "    <tr style=\"text-align: right;\">\n",
       "      <th></th>\n",
       "      <th>RECORD_TIME</th>\n",
       "    </tr>\n",
       "  </thead>\n",
       "  <tbody>\n",
       "    <tr>\n",
       "      <th>0</th>\n",
       "      <td>2021-11-27 10:30</td>\n",
       "    </tr>\n",
       "    <tr>\n",
       "      <th>1</th>\n",
       "      <td>2021-11-27 10:00</td>\n",
       "    </tr>\n",
       "  </tbody>\n",
       "</table>\n",
       "</div>"
      ],
      "text/plain": [
       "        RECORD_TIME\n",
       "0  2021-11-27 10:30\n",
       "1  2021-11-27 10:00"
      ]
     },
     "execution_count": 3,
     "metadata": {},
     "output_type": "execute_result"
    }
   ],
   "source": [
    "timestamps"
   ]
  },
  {
   "cell_type": "code",
   "execution_count": 4,
   "id": "alternate-victory",
   "metadata": {
    "execution": {
     "iopub.execute_input": "2021-11-27T09:30:10.330446Z",
     "iopub.status.busy": "2021-11-27T09:30:10.328062Z",
     "iopub.status.idle": "2021-11-27T09:30:11.668998Z",
     "shell.execute_reply": "2021-11-27T09:30:11.670390Z"
    },
    "papermill": {
     "duration": 1.37162,
     "end_time": "2021-11-27T09:30:11.670856",
     "exception": false,
     "start_time": "2021-11-27T09:30:10.299236",
     "status": "completed"
    },
    "tags": []
   },
   "outputs": [],
   "source": [
    "df = pd.read_sql(\"select * from EBAY_TOP_BERLIN where record_time in (select distinct record_time from EBAY_TOP_BERLIN order by record_time desc limit 2)\", sqlite3.connect(\"UsedObjects.db\"))"
   ]
  },
  {
   "cell_type": "code",
   "execution_count": 5,
   "id": "popular-active",
   "metadata": {
    "execution": {
     "iopub.execute_input": "2021-11-27T09:30:11.751234Z",
     "iopub.status.busy": "2021-11-27T09:30:11.744483Z",
     "iopub.status.idle": "2021-11-27T09:30:11.770481Z",
     "shell.execute_reply": "2021-11-27T09:30:11.772091Z"
    },
    "papermill": {
     "duration": 0.080593,
     "end_time": "2021-11-27T09:30:11.772510",
     "exception": false,
     "start_time": "2021-11-27T09:30:11.691917",
     "status": "completed"
    },
    "tags": []
   },
   "outputs": [],
   "source": [
    "df_pivot = df.pivot_table(index=\"PRODUCT\", columns = \"RECORD_TIME\", values = \"LISTING_COUNT\")"
   ]
  },
  {
   "cell_type": "code",
   "execution_count": 6,
   "id": "union-huntington",
   "metadata": {
    "execution": {
     "iopub.execute_input": "2021-11-27T09:30:11.840614Z",
     "iopub.status.busy": "2021-11-27T09:30:11.838399Z",
     "iopub.status.idle": "2021-11-27T09:30:11.846764Z",
     "shell.execute_reply": "2021-11-27T09:30:11.848305Z"
    },
    "papermill": {
     "duration": 0.049281,
     "end_time": "2021-11-27T09:30:11.848880",
     "exception": false,
     "start_time": "2021-11-27T09:30:11.799599",
     "status": "completed"
    },
    "tags": []
   },
   "outputs": [],
   "source": [
    "df_pivot.columns = [\"stamp_1\", \"stamp_2\"]\n",
    "df_pivot_diff = df_pivot.diff(axis=1)"
   ]
  },
  {
   "cell_type": "code",
   "execution_count": 7,
   "id": "fifth-motion",
   "metadata": {
    "execution": {
     "iopub.execute_input": "2021-11-27T09:30:11.906174Z",
     "iopub.status.busy": "2021-11-27T09:30:11.903630Z",
     "iopub.status.idle": "2021-11-27T09:30:13.967610Z",
     "shell.execute_reply": "2021-11-27T09:30:13.969613Z"
    },
    "papermill": {
     "duration": 2.100476,
     "end_time": "2021-11-27T09:30:13.970228",
     "exception": false,
     "start_time": "2021-11-27T09:30:11.869752",
     "status": "completed"
    },
    "tags": []
   },
   "outputs": [
    {
     "data": {
      "text/plain": [
       "<AxesSubplot:ylabel='PRODUCT'>"
      ]
     },
     "execution_count": 7,
     "metadata": {},
     "output_type": "execute_result"
    },
    {
     "data": {
      "image/png": "[encoded data removed]",
      "text/plain": [
       "<Figure size 432x288 with 1 Axes>"
      ]
     },
     "metadata": {
      "needs_background": "light"
     },
     "output_type": "display_data"
    }
   ],
   "source": [
    "df_pivot_diff.sort_values(\"stamp_2\", ascending = False)[\"stamp_2\"].head(10).plot.barh()"
   ]
  },
  {
   "cell_type": "code",
   "execution_count": null,
   "id": "extra-executive",
   "metadata": {
    "papermill": {
     "duration": 0.024983,
     "end_time": "2021-11-27T09:30:14.023727",
     "exception": false,
     "start_time": "2021-11-27T09:30:13.998744",
     "status": "completed"
    },
    "tags": []
   },
   "outputs": [],
   "source": []
  }
 ],
 "metadata": {
  "kernelspec": {
   "display_name": "Python 3",
   "language": "python",
   "name": "python3"
  },
  "language_info": {
   "codemirror_mode": {
    "name": "ipython",
    "version": 3
   },
   "file_extension": ".py",
   "mimetype": "text/x-python",
   "name": "python",
   "nbconvert_exporter": "python",
   "pygments_lexer": "ipython3",
   "version": "3.9.5"
  },
  "papermill": {
   "default_parameters": {},
   "duration": 9.934562,
   "end_time": "2021-11-27T09:30:15.396309",
   "environment_variables": {},
   "exception": null,
   "input_path": "eBay_Overview.ipynb",
   "output_path": "eBay_Overview.ipynb",
   "parameters": {},
   "start_time": "2021-11-27T09:30:05.461747",
   "version": "2.3.3"
  }
 },
 "nbformat": 4,
 "nbformat_minor": 5
}