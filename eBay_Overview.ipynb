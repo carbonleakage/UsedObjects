{
 "cells": [
  {
   "cell_type": "code",
   "execution_count": 1,
   "id": "reverse-picking",
   "metadata": {
    "execution": {
     "iopub.execute_input": "2021-11-04T17:30:08.137184Z",
     "iopub.status.busy": "2021-11-04T17:30:08.134690Z",
     "iopub.status.idle": "2021-11-04T17:30:09.082457Z",
     "shell.execute_reply": "2021-11-04T17:30:09.084047Z"
    },
    "papermill": {
     "duration": 0.995271,
     "end_time": "2021-11-04T17:30:09.084825",
     "exception": false,
     "start_time": "2021-11-04T17:30:08.089554",
     "status": "completed"
    },
    "tags": []
   },
   "outputs": [],
   "source": [
    "import pandas as pd\n",
    "import sqlite3"
   ]
  },
  {
   "cell_type": "code",
   "execution_count": 2,
   "id": "innovative-syndrome",
   "metadata": {
    "execution": {
     "iopub.execute_input": "2021-11-04T17:30:09.146414Z",
     "iopub.status.busy": "2021-11-04T17:30:09.144130Z",
     "iopub.status.idle": "2021-11-04T17:30:09.865805Z",
     "shell.execute_reply": "2021-11-04T17:30:09.867161Z"
    },
    "papermill": {
     "duration": 0.755303,
     "end_time": "2021-11-04T17:30:09.867633",
     "exception": false,
     "start_time": "2021-11-04T17:30:09.112330",
     "status": "completed"
    },
    "tags": []
   },
   "outputs": [],
   "source": [
    "timestamps = pd.read_sql(\"select distinct record_time from EBAY_TOP_BERLIN order by record_time desc limit 2\", sqlite3.connect(\"UsedObjects.db\"))"
   ]
  },
  {
   "cell_type": "code",
   "execution_count": 3,
   "id": "periodic-identification",
   "metadata": {
    "execution": {
     "iopub.execute_input": "2021-11-04T17:30:09.941809Z",
     "iopub.status.busy": "2021-11-04T17:30:09.936251Z",
     "iopub.status.idle": "2021-11-04T17:30:09.958919Z",
     "shell.execute_reply": "2021-11-04T17:30:09.960331Z"
    },
    "papermill": {
     "duration": 0.072973,
     "end_time": "2021-11-04T17:30:09.960910",
     "exception": false,
     "start_time": "2021-11-04T17:30:09.887937",
     "status": "completed"
    },
    "tags": []
   },
   "outputs": [
    {
     "data": {
      "text/html": [
       "<div>\n",
       "<style scoped>\n",
       "    .dataframe tbody tr th:only-of-type {\n",
       "        vertical-align: middle;\n",
       "    }\n",
       "\n",
       "    .dataframe tbody tr th {\n",
       "        vertical-align: top;\n",
       "    }\n",
       "\n",
       "    .dataframe thead th {\n",
       "        text-align: right;\n",
       "    }\n",
       "</style>\n",
       "<table border=\"1\" class=\"dataframe\">\n",
       "  <thead>\n",
       "    <tr style=\"text-align: right;\">\n",
       "      <th></th>\n",
       "      <th>RECORD_TIME</th>\n",
       "    </tr>\n",
       "  </thead>\n",
       "  <tbody>\n",
       "    <tr>\n",
       "      <th>0</th>\n",
       "      <td>2021-11-04 18:30</td>\n",
       "    </tr>\n",
       "    <tr>\n",
       "      <th>1</th>\n",
       "      <td>2021-11-04 18:00</td>\n",
       "    </tr>\n",
       "  </tbody>\n",
       "</table>\n",
       "</div>"
      ],
      "text/plain": [
       "        RECORD_TIME\n",
       "0  2021-11-04 18:30\n",
       "1  2021-11-04 18:00"
      ]
     },
     "execution_count": 3,
     "metadata": {},
     "output_type": "execute_result"
    }
   ],
   "source": [
    "timestamps"
   ]
  },
  {
   "cell_type": "code",
   "execution_count": 4,
   "id": "alternate-victory",
   "metadata": {
    "execution": {
     "iopub.execute_input": "2021-11-04T17:30:10.015996Z",
     "iopub.status.busy": "2021-11-04T17:30:10.013814Z",
     "iopub.status.idle": "2021-11-04T17:30:11.101548Z",
     "shell.execute_reply": "2021-11-04T17:30:11.103340Z"
    },
    "papermill": {
     "duration": 1.120804,
     "end_time": "2021-11-04T17:30:11.103843",
     "exception": false,
     "start_time": "2021-11-04T17:30:09.983039",
     "status": "completed"
    },
    "tags": []
   },
   "outputs": [],
   "source": [
    "df = pd.read_sql(\"select * from EBAY_TOP_BERLIN where record_time in (select distinct record_time from EBAY_TOP_BERLIN order by record_time desc limit 2)\", sqlite3.connect(\"UsedObjects.db\"))"
   ]
  },
  {
   "cell_type": "code",
   "execution_count": 5,
   "id": "popular-active",
   "metadata": {
    "execution": {
     "iopub.execute_input": "2021-11-04T17:30:11.184779Z",
     "iopub.status.busy": "2021-11-04T17:30:11.170298Z",
     "iopub.status.idle": "2021-11-04T17:30:11.203243Z",
     "shell.execute_reply": "2021-11-04T17:30:11.204674Z"
    },
    "papermill": {
     "duration": 0.079233,
     "end_time": "2021-11-04T17:30:11.205224",
     "exception": false,
     "start_time": "2021-11-04T17:30:11.125991",
     "status": "completed"
    },
    "tags": []
   },
   "outputs": [],
   "source": [
    "df_pivot = df.pivot_table(index=\"PRODUCT\", columns = \"RECORD_TIME\", values = \"LISTING_COUNT\")"
   ]
  },
  {
   "cell_type": "code",
   "execution_count": 6,
   "id": "union-huntington",
   "metadata": {
    "execution": {
     "iopub.execute_input": "2021-11-04T17:30:11.268379Z",
     "iopub.status.busy": "2021-11-04T17:30:11.264652Z",
     "iopub.status.idle": "2021-11-04T17:30:11.272311Z",
     "shell.execute_reply": "2021-11-04T17:30:11.273807Z"
    },
    "papermill": {
     "duration": 0.047444,
     "end_time": "2021-11-04T17:30:11.274286",
     "exception": false,
     "start_time": "2021-11-04T17:30:11.226842",
     "status": "completed"
    },
    "tags": []
   },
   "outputs": [],
   "source": [
    "df_pivot.columns = [\"stamp_1\", \"stamp_2\"]\n",
    "df_pivot_diff = df_pivot.diff(axis=1)"
   ]
  },
  {
   "cell_type": "code",
   "execution_count": 7,
   "id": "fifth-motion",
   "metadata": {
    "execution": {
     "iopub.execute_input": "2021-11-04T17:30:11.334378Z",
     "iopub.status.busy": "2021-11-04T17:30:11.331545Z",
     "iopub.status.idle": "2021-11-04T17:30:13.141943Z",
     "shell.execute_reply": "2021-11-04T17:30:13.143716Z"
    },
    "papermill": {
     "duration": 1.848129,
     "end_time": "2021-11-04T17:30:13.144280",
     "exception": false,
     "start_time": "2021-11-04T17:30:11.296151",
     "status": "completed"
    },
    "tags": []
   },
   "outputs": [
    {
     "data": {
      "text/plain": [
       "<AxesSubplot:ylabel='PRODUCT'>"
      ]
     },
     "execution_count": 7,
     "metadata": {},
     "output_type": "execute_result"
    },
    {
     "data": {
      "image/png": "[encoded data removed]",
      "text/plain": [
       "<Figure size 432x288 with 1 Axes>"
      ]
     },
     "metadata": {
      "needs_background": "light"
     },
     "output_type": "display_data"
    }
   ],
   "source": [
    "df_pivot_diff.sort_values(\"stamp_2\", ascending = False)[\"stamp_2\"].head(10).plot.barh()"
   ]
  },
  {
   "cell_type": "code",
   "execution_count": null,
   "id": "extra-executive",
   "metadata": {
    "papermill": {
     "duration": 0.023299,
     "end_time": "2021-11-04T17:30:13.192855",
     "exception": false,
     "start_time": "2021-11-04T17:30:13.169556",
     "status": "completed"
    },
    "tags": []
   },
   "outputs": [],
   "source": []
  }
 ],
 "metadata": {
  "kernelspec": {
   "display_name": "Python 3",
   "language": "python",
   "name": "python3"
  },
  "language_info": {
   "codemirror_mode": {
    "name": "ipython",
    "version": 3
   },
   "file_extension": ".py",
   "mimetype": "text/x-python",
   "name": "python",
   "nbconvert_exporter": "python",
   "pygments_lexer": "ipython3",
   "version": "3.9.5"
  },
  "papermill": {
   "default_parameters": {},
   "duration": 8.866276,
   "end_time": "2021-11-04T17:30:14.149188",
   "environment_variables": {},
   "exception": null,
   "input_path": "eBay_Overview.ipynb",
   "output_path": "eBay_Overview.ipynb",
   "parameters": {},
   "start_time": "2021-11-04T17:30:05.282912",
   "version": "2.3.3"
  }
 },
 "nbformat": 4,
 "nbformat_minor": 5
}