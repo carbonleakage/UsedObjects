{
 "cells": [
  {
   "cell_type": "code",
   "execution_count": 1,
   "id": "reverse-picking",
   "metadata": {
    "execution": {
     "iopub.execute_input": "2021-12-19T16:30:07.314292Z",
     "iopub.status.busy": "2021-12-19T16:30:07.311241Z",
     "iopub.status.idle": "2021-12-19T16:30:08.274719Z",
     "shell.execute_reply": "2021-12-19T16:30:08.276364Z"
    },
    "papermill": {
     "duration": 1.012829,
     "end_time": "2021-12-19T16:30:08.277170",
     "exception": false,
     "start_time": "2021-12-19T16:30:07.264341",
     "status": "completed"
    },
    "tags": []
   },
   "outputs": [],
   "source": [
    "import pandas as pd\n",
    "import sqlite3"
   ]
  },
  {
   "cell_type": "code",
   "execution_count": 2,
   "id": "innovative-syndrome",
   "metadata": {
    "execution": {
     "iopub.execute_input": "2021-12-19T16:30:08.337597Z",
     "iopub.status.busy": "2021-12-19T16:30:08.333168Z",
     "iopub.status.idle": "2021-12-19T16:30:09.462148Z",
     "shell.execute_reply": "2021-12-19T16:30:09.463637Z"
    },
    "papermill": {
     "duration": 1.165427,
     "end_time": "2021-12-19T16:30:09.464099",
     "exception": false,
     "start_time": "2021-12-19T16:30:08.298672",
     "status": "completed"
    },
    "tags": []
   },
   "outputs": [],
   "source": [
    "timestamps = pd.read_sql(\"select distinct record_time from EBAY_TOP_BERLIN order by record_time desc limit 2\", sqlite3.connect(\"UsedObjects.db\"))"
   ]
  },
  {
   "cell_type": "code",
   "execution_count": 3,
   "id": "periodic-identification",
   "metadata": {
    "execution": {
     "iopub.execute_input": "2021-12-19T16:30:09.537644Z",
     "iopub.status.busy": "2021-12-19T16:30:09.531466Z",
     "iopub.status.idle": "2021-12-19T16:30:09.556352Z",
     "shell.execute_reply": "2021-12-19T16:30:09.553852Z"
    },
    "papermill": {
     "duration": 0.073213,
     "end_time": "2021-12-19T16:30:09.556828",
     "exception": false,
     "start_time": "2021-12-19T16:30:09.483615",
     "status": "completed"
    },
    "tags": []
   },
   "outputs": [
    {
     "data": {
      "text/html": [
       "<div>\n",
       "<style scoped>\n",
       "    .dataframe tbody tr th:only-of-type {\n",
       "        vertical-align: middle;\n",
       "    }\n",
       "\n",
       "    .dataframe tbody tr th {\n",
       "        vertical-align: top;\n",
       "    }\n",
       "\n",
       "    .dataframe thead th {\n",
       "        text-align: right;\n",
       "    }\n",
       "</style>\n",
       "<table border=\"1\" class=\"dataframe\">\n",
       "  <thead>\n",
       "    <tr style=\"text-align: right;\">\n",
       "      <th></th>\n",
       "      <th>RECORD_TIME</th>\n",
       "    </tr>\n",
       "  </thead>\n",
       "  <tbody>\n",
       "    <tr>\n",
       "      <th>0</th>\n",
       "      <td>2021-12-19 17:30</td>\n",
       "    </tr>\n",
       "    <tr>\n",
       "      <th>1</th>\n",
       "      <td>2021-12-19 17:00</td>\n",
       "    </tr>\n",
       "  </tbody>\n",
       "</table>\n",
       "</div>"
      ],
      "text/plain": [
       "        RECORD_TIME\n",
       "0  2021-12-19 17:30\n",
       "1  2021-12-19 17:00"
      ]
     },
     "execution_count": 3,
     "metadata": {},
     "output_type": "execute_result"
    }
   ],
   "source": [
    "timestamps"
   ]
  },
  {
   "cell_type": "code",
   "execution_count": 4,
   "id": "alternate-victory",
   "metadata": {
    "execution": {
     "iopub.execute_input": "2021-12-19T16:30:09.646316Z",
     "iopub.status.busy": "2021-12-19T16:30:09.643867Z",
     "iopub.status.idle": "2021-12-19T16:30:11.283769Z",
     "shell.execute_reply": "2021-12-19T16:30:11.285369Z"
    },
    "papermill": {
     "duration": 1.683688,
     "end_time": "2021-12-19T16:30:11.285854",
     "exception": false,
     "start_time": "2021-12-19T16:30:09.602166",
     "status": "completed"
    },
    "tags": []
   },
   "outputs": [],
   "source": [
    "df = pd.read_sql(\"select * from EBAY_TOP_BERLIN where record_time in (select distinct record_time from EBAY_TOP_BERLIN order by record_time desc limit 2)\", sqlite3.connect(\"UsedObjects.db\"))"
   ]
  },
  {
   "cell_type": "code",
   "execution_count": 5,
   "id": "popular-active",
   "metadata": {
    "execution": {
     "iopub.execute_input": "2021-12-19T16:30:11.357745Z",
     "iopub.status.busy": "2021-12-19T16:30:11.351798Z",
     "iopub.status.idle": "2021-12-19T16:30:11.383871Z",
     "shell.execute_reply": "2021-12-19T16:30:11.385177Z"
    },
    "papermill": {
     "duration": 0.078796,
     "end_time": "2021-12-19T16:30:11.385589",
     "exception": false,
     "start_time": "2021-12-19T16:30:11.306793",
     "status": "completed"
    },
    "tags": []
   },
   "outputs": [],
   "source": [
    "df_pivot = df.pivot_table(index=\"PRODUCT\", columns = \"RECORD_TIME\", values = \"LISTING_COUNT\")"
   ]
  },
  {
   "cell_type": "code",
   "execution_count": 6,
   "id": "union-huntington",
   "metadata": {
    "execution": {
     "iopub.execute_input": "2021-12-19T16:30:11.444365Z",
     "iopub.status.busy": "2021-12-19T16:30:11.442135Z",
     "iopub.status.idle": "2021-12-19T16:30:11.447373Z",
     "shell.execute_reply": "2021-12-19T16:30:11.448894Z"
    },
    "papermill": {
     "duration": 0.044042,
     "end_time": "2021-12-19T16:30:11.449381",
     "exception": false,
     "start_time": "2021-12-19T16:30:11.405339",
     "status": "completed"
    },
    "tags": []
   },
   "outputs": [],
   "source": [
    "df_pivot.columns = [\"stamp_1\", \"stamp_2\"]\n",
    "df_pivot_diff = df_pivot.diff(axis=1)"
   ]
  },
  {
   "cell_type": "code",
   "execution_count": 7,
   "id": "fifth-motion",
   "metadata": {
    "execution": {
     "iopub.execute_input": "2021-12-19T16:30:11.508280Z",
     "iopub.status.busy": "2021-12-19T16:30:11.505697Z",
     "iopub.status.idle": "2021-12-19T16:30:13.501971Z",
     "shell.execute_reply": "2021-12-19T16:30:13.503277Z"
    },
    "papermill": {
     "duration": 2.032955,
     "end_time": "2021-12-19T16:30:13.503705",
     "exception": false,
     "start_time": "2021-12-19T16:30:11.470750",
     "status": "completed"
    },
    "tags": []
   },
   "outputs": [
    {
     "data": {
      "text/plain": [
       "<AxesSubplot:ylabel='PRODUCT'>"
      ]
     },
     "execution_count": 7,
     "metadata": {},
     "output_type": "execute_result"
    },
    {
     "data": {
      "image/png": "[encoded data removed]",
      "text/plain": [
       "<Figure size 432x288 with 1 Axes>"
      ]
     },
     "metadata": {
      "needs_background": "light"
     },
     "output_type": "display_data"
    }
   ],
   "source": [
    "df_pivot_diff.sort_values(\"stamp_2\", ascending = False)[\"stamp_2\"].head(10).plot.barh()"
   ]
  },
  {
   "cell_type": "code",
   "execution_count": null,
   "id": "extra-executive",
   "metadata": {
    "papermill": {
     "duration": 0.022031,
     "end_time": "2021-12-19T16:30:13.551396",
     "exception": false,
     "start_time": "2021-12-19T16:30:13.529365",
     "status": "completed"
    },
    "tags": []
   },
   "outputs": [],
   "source": []
  }
 ],
 "metadata": {
  "kernelspec": {
   "display_name": "Python 3",
   "language": "python",
   "name": "python3"
  },
  "language_info": {
   "codemirror_mode": {
    "name": "ipython",
    "version": 3
   },
   "file_extension": ".py",
   "mimetype": "text/x-python",
   "name": "python",
   "nbconvert_exporter": "python",
   "pygments_lexer": "ipython3",
   "version": "3.9.5"
  },
  "papermill": {
   "default_parameters": {},
   "duration": 9.694205,
   "end_time": "2021-12-19T16:30:14.208030",
   "environment_variables": {},
   "exception": null,
   "input_path": "eBay_Overview.ipynb",
   "output_path": "eBay_Overview.ipynb",
   "parameters": {},
   "start_time": "2021-12-19T16:30:04.513825",
   "version": "2.3.3"
  }
 },
 "nbformat": 4,
 "nbformat_minor": 5
}