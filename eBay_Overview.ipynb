{
 "cells": [
  {
   "cell_type": "code",
   "execution_count": 1,
   "id": "reverse-picking",
   "metadata": {
    "execution": {
     "iopub.execute_input": "2021-09-08T06:30:07.172696Z",
     "iopub.status.busy": "2021-09-08T06:30:07.170655Z",
     "iopub.status.idle": "2021-09-08T06:30:07.971638Z",
     "shell.execute_reply": "2021-09-08T06:30:07.973055Z"
    },
    "papermill": {
     "duration": 0.851451,
     "end_time": "2021-09-08T06:30:07.973710",
     "exception": false,
     "start_time": "2021-09-08T06:30:07.122259",
     "status": "completed"
    },
    "tags": []
   },
   "outputs": [],
   "source": [
    "import pandas as pd\n",
    "import sqlite3"
   ]
  },
  {
   "cell_type": "code",
   "execution_count": 2,
   "id": "innovative-syndrome",
   "metadata": {
    "execution": {
     "iopub.execute_input": "2021-09-08T06:30:08.023733Z",
     "iopub.status.busy": "2021-09-08T06:30:08.021781Z",
     "iopub.status.idle": "2021-09-08T06:30:08.253431Z",
     "shell.execute_reply": "2021-09-08T06:30:08.251931Z"
    },
    "papermill": {
     "duration": 0.259797,
     "end_time": "2021-09-08T06:30:08.253805",
     "exception": false,
     "start_time": "2021-09-08T06:30:07.994008",
     "status": "completed"
    },
    "tags": []
   },
   "outputs": [],
   "source": [
    "timestamps = pd.read_sql(\"select distinct record_time from EBAY_TOP_BERLIN order by record_time desc limit 2\", sqlite3.connect(\"UsedObjects.db\"))"
   ]
  },
  {
   "cell_type": "code",
   "execution_count": 3,
   "id": "periodic-identification",
   "metadata": {
    "execution": {
     "iopub.execute_input": "2021-09-08T06:30:08.319967Z",
     "iopub.status.busy": "2021-09-08T06:30:08.317858Z",
     "iopub.status.idle": "2021-09-08T06:30:08.338182Z",
     "shell.execute_reply": "2021-09-08T06:30:08.339656Z"
    },
    "papermill": {
     "duration": 0.06684,
     "end_time": "2021-09-08T06:30:08.340146",
     "exception": false,
     "start_time": "2021-09-08T06:30:08.273306",
     "status": "completed"
    },
    "tags": []
   },
   "outputs": [
    {
     "data": {
      "text/html": [
       "<div>\n",
       "<style scoped>\n",
       "    .dataframe tbody tr th:only-of-type {\n",
       "        vertical-align: middle;\n",
       "    }\n",
       "\n",
       "    .dataframe tbody tr th {\n",
       "        vertical-align: top;\n",
       "    }\n",
       "\n",
       "    .dataframe thead th {\n",
       "        text-align: right;\n",
       "    }\n",
       "</style>\n",
       "<table border=\"1\" class=\"dataframe\">\n",
       "  <thead>\n",
       "    <tr style=\"text-align: right;\">\n",
       "      <th></th>\n",
       "      <th>RECORD_TIME</th>\n",
       "    </tr>\n",
       "  </thead>\n",
       "  <tbody>\n",
       "    <tr>\n",
       "      <th>0</th>\n",
       "      <td>2021-09-08 08:30</td>\n",
       "    </tr>\n",
       "    <tr>\n",
       "      <th>1</th>\n",
       "      <td>2021-09-08 08:00</td>\n",
       "    </tr>\n",
       "  </tbody>\n",
       "</table>\n",
       "</div>"
      ],
      "text/plain": [
       "        RECORD_TIME\n",
       "0  2021-09-08 08:30\n",
       "1  2021-09-08 08:00"
      ]
     },
     "execution_count": 3,
     "metadata": {},
     "output_type": "execute_result"
    }
   ],
   "source": [
    "timestamps"
   ]
  },
  {
   "cell_type": "code",
   "execution_count": 4,
   "id": "alternate-victory",
   "metadata": {
    "execution": {
     "iopub.execute_input": "2021-09-08T06:30:08.392748Z",
     "iopub.status.busy": "2021-09-08T06:30:08.390827Z",
     "iopub.status.idle": "2021-09-08T06:30:08.739388Z",
     "shell.execute_reply": "2021-09-08T06:30:08.740652Z"
    },
    "papermill": {
     "duration": 0.378438,
     "end_time": "2021-09-08T06:30:08.741050",
     "exception": false,
     "start_time": "2021-09-08T06:30:08.362612",
     "status": "completed"
    },
    "tags": []
   },
   "outputs": [],
   "source": [
    "df = pd.read_sql(\"select * from EBAY_TOP_BERLIN where record_time in (select distinct record_time from EBAY_TOP_BERLIN order by record_time desc limit 2)\", sqlite3.connect(\"UsedObjects.db\"))"
   ]
  },
  {
   "cell_type": "code",
   "execution_count": 5,
   "id": "popular-active",
   "metadata": {
    "execution": {
     "iopub.execute_input": "2021-09-08T06:30:08.815406Z",
     "iopub.status.busy": "2021-09-08T06:30:08.803214Z",
     "iopub.status.idle": "2021-09-08T06:30:08.833007Z",
     "shell.execute_reply": "2021-09-08T06:30:08.834389Z"
    },
    "papermill": {
     "duration": 0.070299,
     "end_time": "2021-09-08T06:30:08.834827",
     "exception": false,
     "start_time": "2021-09-08T06:30:08.764528",
     "status": "completed"
    },
    "tags": []
   },
   "outputs": [],
   "source": [
    "df_pivot = df.pivot_table(index=\"PRODUCT\", columns = \"RECORD_TIME\", values = \"LISTING_COUNT\")"
   ]
  },
  {
   "cell_type": "code",
   "execution_count": 6,
   "id": "union-huntington",
   "metadata": {
    "execution": {
     "iopub.execute_input": "2021-09-08T06:30:08.894158Z",
     "iopub.status.busy": "2021-09-08T06:30:08.891686Z",
     "iopub.status.idle": "2021-09-08T06:30:08.897407Z",
     "shell.execute_reply": "2021-09-08T06:30:08.898634Z"
    },
    "papermill": {
     "duration": 0.041902,
     "end_time": "2021-09-08T06:30:08.899113",
     "exception": false,
     "start_time": "2021-09-08T06:30:08.857211",
     "status": "completed"
    },
    "tags": []
   },
   "outputs": [],
   "source": [
    "df_pivot.columns = [\"stamp_1\", \"stamp_2\"]\n",
    "df_pivot_diff = df_pivot.diff(axis=1)"
   ]
  },
  {
   "cell_type": "code",
   "execution_count": 7,
   "id": "fifth-motion",
   "metadata": {
    "execution": {
     "iopub.execute_input": "2021-09-08T06:30:08.952964Z",
     "iopub.status.busy": "2021-09-08T06:30:08.950505Z",
     "iopub.status.idle": "2021-09-08T06:30:10.446609Z",
     "shell.execute_reply": "2021-09-08T06:30:10.445303Z"
    },
    "papermill": {
     "duration": 1.52793,
     "end_time": "2021-09-08T06:30:10.447033",
     "exception": false,
     "start_time": "2021-09-08T06:30:08.919103",
     "status": "completed"
    },
    "tags": []
   },
   "outputs": [
    {
     "data": {
      "text/plain": [
       "<AxesSubplot:ylabel='PRODUCT'>"
      ]
     },
     "execution_count": 7,
     "metadata": {},
     "output_type": "execute_result"
    },
    {
     "data": {
      "image/png": "[encoded data removed]",
      "text/plain": [
       "<Figure size 432x288 with 1 Axes>"
      ]
     },
     "metadata": {
      "needs_background": "light"
     },
     "output_type": "display_data"
    }
   ],
   "source": [
    "df_pivot_diff.sort_values(\"stamp_2\", ascending = False)[\"stamp_2\"].head(10).plot.barh()"
   ]
  },
  {
   "cell_type": "code",
   "execution_count": null,
   "id": "extra-executive",
   "metadata": {
    "papermill": {
     "duration": 0.022055,
     "end_time": "2021-09-08T06:30:10.492878",
     "exception": false,
     "start_time": "2021-09-08T06:30:10.470823",
     "status": "completed"
    },
    "tags": []
   },
   "outputs": [],
   "source": []
  }
 ],
 "metadata": {
  "kernelspec": {
   "display_name": "Python 3",
   "language": "python",
   "name": "python3"
  },
  "language_info": {
   "codemirror_mode": {
    "name": "ipython",
    "version": 3
   },
   "file_extension": ".py",
   "mimetype": "text/x-python",
   "name": "python",
   "nbconvert_exporter": "python",
   "pygments_lexer": "ipython3",
   "version": "3.9.5"
  },
  "papermill": {
   "default_parameters": {},
   "duration": 6.415008,
   "end_time": "2021-09-08T06:30:11.136037",
   "environment_variables": {},
   "exception": null,
   "input_path": "eBay_Overview.ipynb",
   "output_path": "eBay_Overview.ipynb",
   "parameters": {},
   "start_time": "2021-09-08T06:30:04.721029",
   "version": "2.3.3"
  }
 },
 "nbformat": 4,
 "nbformat_minor": 5
}