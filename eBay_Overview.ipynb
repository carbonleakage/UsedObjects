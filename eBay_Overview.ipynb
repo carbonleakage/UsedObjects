{
 "cells": [
  {
   "cell_type": "code",
   "execution_count": 1,
   "id": "reverse-picking",
   "metadata": {
    "execution": {
     "iopub.execute_input": "2021-09-22T18:00:06.976619Z",
     "iopub.status.busy": "2021-09-22T18:00:06.974692Z",
     "iopub.status.idle": "2021-09-22T18:00:07.779290Z",
     "shell.execute_reply": "2021-09-22T18:00:07.780622Z"
    },
    "papermill": {
     "duration": 0.856658,
     "end_time": "2021-09-22T18:00:07.781265",
     "exception": false,
     "start_time": "2021-09-22T18:00:06.924607",
     "status": "completed"
    },
    "tags": []
   },
   "outputs": [],
   "source": [
    "import pandas as pd\n",
    "import sqlite3"
   ]
  },
  {
   "cell_type": "code",
   "execution_count": 2,
   "id": "innovative-syndrome",
   "metadata": {
    "execution": {
     "iopub.execute_input": "2021-09-22T18:00:07.832278Z",
     "iopub.status.busy": "2021-09-22T18:00:07.830344Z",
     "iopub.status.idle": "2021-09-22T18:00:08.181660Z",
     "shell.execute_reply": "2021-09-22T18:00:08.180276Z"
    },
    "papermill": {
     "duration": 0.3795,
     "end_time": "2021-09-22T18:00:08.182016",
     "exception": false,
     "start_time": "2021-09-22T18:00:07.802516",
     "status": "completed"
    },
    "tags": []
   },
   "outputs": [],
   "source": [
    "timestamps = pd.read_sql(\"select distinct record_time from EBAY_TOP_BERLIN order by record_time desc limit 2\", sqlite3.connect(\"UsedObjects.db\"))"
   ]
  },
  {
   "cell_type": "code",
   "execution_count": 3,
   "id": "periodic-identification",
   "metadata": {
    "execution": {
     "iopub.execute_input": "2021-09-22T18:00:08.248835Z",
     "iopub.status.busy": "2021-09-22T18:00:08.246682Z",
     "iopub.status.idle": "2021-09-22T18:00:08.269259Z",
     "shell.execute_reply": "2021-09-22T18:00:08.270442Z"
    },
    "papermill": {
     "duration": 0.069698,
     "end_time": "2021-09-22T18:00:08.271062",
     "exception": false,
     "start_time": "2021-09-22T18:00:08.201364",
     "status": "completed"
    },
    "tags": []
   },
   "outputs": [
    {
     "data": {
      "text/html": [
       "<div>\n",
       "<style scoped>\n",
       "    .dataframe tbody tr th:only-of-type {\n",
       "        vertical-align: middle;\n",
       "    }\n",
       "\n",
       "    .dataframe tbody tr th {\n",
       "        vertical-align: top;\n",
       "    }\n",
       "\n",
       "    .dataframe thead th {\n",
       "        text-align: right;\n",
       "    }\n",
       "</style>\n",
       "<table border=\"1\" class=\"dataframe\">\n",
       "  <thead>\n",
       "    <tr style=\"text-align: right;\">\n",
       "      <th></th>\n",
       "      <th>RECORD_TIME</th>\n",
       "    </tr>\n",
       "  </thead>\n",
       "  <tbody>\n",
       "    <tr>\n",
       "      <th>0</th>\n",
       "      <td>2021-09-22 20:00</td>\n",
       "    </tr>\n",
       "    <tr>\n",
       "      <th>1</th>\n",
       "      <td>2021-09-22 19:30</td>\n",
       "    </tr>\n",
       "  </tbody>\n",
       "</table>\n",
       "</div>"
      ],
      "text/plain": [
       "        RECORD_TIME\n",
       "0  2021-09-22 20:00\n",
       "1  2021-09-22 19:30"
      ]
     },
     "execution_count": 3,
     "metadata": {},
     "output_type": "execute_result"
    }
   ],
   "source": [
    "timestamps"
   ]
  },
  {
   "cell_type": "code",
   "execution_count": 4,
   "id": "alternate-victory",
   "metadata": {
    "execution": {
     "iopub.execute_input": "2021-09-22T18:00:08.324011Z",
     "iopub.status.busy": "2021-09-22T18:00:08.321697Z",
     "iopub.status.idle": "2021-09-22T18:00:08.836421Z",
     "shell.execute_reply": "2021-09-22T18:00:08.837742Z"
    },
    "papermill": {
     "duration": 0.545301,
     "end_time": "2021-09-22T18:00:08.838164",
     "exception": false,
     "start_time": "2021-09-22T18:00:08.292863",
     "status": "completed"
    },
    "tags": []
   },
   "outputs": [],
   "source": [
    "df = pd.read_sql(\"select * from EBAY_TOP_BERLIN where record_time in (select distinct record_time from EBAY_TOP_BERLIN order by record_time desc limit 2)\", sqlite3.connect(\"UsedObjects.db\"))"
   ]
  },
  {
   "cell_type": "code",
   "execution_count": 5,
   "id": "popular-active",
   "metadata": {
    "execution": {
     "iopub.execute_input": "2021-09-22T18:00:08.908949Z",
     "iopub.status.busy": "2021-09-22T18:00:08.897261Z",
     "iopub.status.idle": "2021-09-22T18:00:08.924782Z",
     "shell.execute_reply": "2021-09-22T18:00:08.925999Z"
    },
    "papermill": {
     "duration": 0.068001,
     "end_time": "2021-09-22T18:00:08.926403",
     "exception": false,
     "start_time": "2021-09-22T18:00:08.858402",
     "status": "completed"
    },
    "tags": []
   },
   "outputs": [],
   "source": [
    "df_pivot = df.pivot_table(index=\"PRODUCT\", columns = \"RECORD_TIME\", values = \"LISTING_COUNT\")"
   ]
  },
  {
   "cell_type": "code",
   "execution_count": 6,
   "id": "union-huntington",
   "metadata": {
    "execution": {
     "iopub.execute_input": "2021-09-22T18:00:08.985608Z",
     "iopub.status.busy": "2021-09-22T18:00:08.983224Z",
     "iopub.status.idle": "2021-09-22T18:00:08.988796Z",
     "shell.execute_reply": "2021-09-22T18:00:08.990039Z"
    },
    "papermill": {
     "duration": 0.041713,
     "end_time": "2021-09-22T18:00:08.990452",
     "exception": false,
     "start_time": "2021-09-22T18:00:08.948739",
     "status": "completed"
    },
    "tags": []
   },
   "outputs": [],
   "source": [
    "df_pivot.columns = [\"stamp_1\", \"stamp_2\"]\n",
    "df_pivot_diff = df_pivot.diff(axis=1)"
   ]
  },
  {
   "cell_type": "code",
   "execution_count": 7,
   "id": "fifth-motion",
   "metadata": {
    "execution": {
     "iopub.execute_input": "2021-09-22T18:00:09.044917Z",
     "iopub.status.busy": "2021-09-22T18:00:09.042599Z",
     "iopub.status.idle": "2021-09-22T18:00:10.541017Z",
     "shell.execute_reply": "2021-09-22T18:00:10.542277Z"
    },
    "papermill": {
     "duration": 1.531553,
     "end_time": "2021-09-22T18:00:10.542695",
     "exception": false,
     "start_time": "2021-09-22T18:00:09.011142",
     "status": "completed"
    },
    "tags": []
   },
   "outputs": [
    {
     "data": {
      "text/plain": [
       "<AxesSubplot:ylabel='PRODUCT'>"
      ]
     },
     "execution_count": 7,
     "metadata": {},
     "output_type": "execute_result"
    },
    {
     "data": {
      "image/png": "[encoded data removed]",
      "text/plain": [
       "<Figure size 432x288 with 1 Axes>"
      ]
     },
     "metadata": {
      "needs_background": "light"
     },
     "output_type": "display_data"
    }
   ],
   "source": [
    "df_pivot_diff.sort_values(\"stamp_2\", ascending = False)[\"stamp_2\"].head(10).plot.barh()"
   ]
  },
  {
   "cell_type": "code",
   "execution_count": null,
   "id": "extra-executive",
   "metadata": {
    "papermill": {
     "duration": 0.02224,
     "end_time": "2021-09-22T18:00:10.589419",
     "exception": false,
     "start_time": "2021-09-22T18:00:10.567179",
     "status": "completed"
    },
    "tags": []
   },
   "outputs": [],
   "source": []
  }
 ],
 "metadata": {
  "kernelspec": {
   "display_name": "Python 3",
   "language": "python",
   "name": "python3"
  },
  "language_info": {
   "codemirror_mode": {
    "name": "ipython",
    "version": 3
   },
   "file_extension": ".py",
   "mimetype": "text/x-python",
   "name": "python",
   "nbconvert_exporter": "python",
   "pygments_lexer": "ipython3",
   "version": "3.9.5"
  },
  "papermill": {
   "default_parameters": {},
   "duration": 6.699684,
   "end_time": "2021-09-22T18:00:11.231855",
   "environment_variables": {},
   "exception": null,
   "input_path": "eBay_Overview.ipynb",
   "output_path": "eBay_Overview.ipynb",
   "parameters": {},
   "start_time": "2021-09-22T18:00:04.532171",
   "version": "2.3.3"
  }
 },
 "nbformat": 4,
 "nbformat_minor": 5
}