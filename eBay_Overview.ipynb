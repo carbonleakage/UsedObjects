{
 "cells": [
  {
   "cell_type": "code",
   "execution_count": 1,
   "id": "reverse-picking",
   "metadata": {
    "execution": {
     "iopub.execute_input": "2021-08-24T04:30:06.691168Z",
     "iopub.status.busy": "2021-08-24T04:30:06.689140Z",
     "iopub.status.idle": "2021-08-24T04:30:07.494217Z",
     "shell.execute_reply": "2021-08-24T04:30:07.495574Z"
    },
    "papermill": {
     "duration": 0.856855,
     "end_time": "2021-08-24T04:30:07.496228",
     "exception": false,
     "start_time": "2021-08-24T04:30:06.639373",
     "status": "completed"
    },
    "tags": []
   },
   "outputs": [],
   "source": [
    "import pandas as pd\n",
    "import sqlite3"
   ]
  },
  {
   "cell_type": "code",
   "execution_count": 2,
   "id": "innovative-syndrome",
   "metadata": {
    "execution": {
     "iopub.execute_input": "2021-08-24T04:30:07.546723Z",
     "iopub.status.busy": "2021-08-24T04:30:07.544671Z",
     "iopub.status.idle": "2021-08-24T04:30:07.660654Z",
     "shell.execute_reply": "2021-08-24T04:30:07.661823Z"
    },
    "papermill": {
     "duration": 0.145868,
     "end_time": "2021-08-24T04:30:07.662315",
     "exception": false,
     "start_time": "2021-08-24T04:30:07.516447",
     "status": "completed"
    },
    "tags": []
   },
   "outputs": [],
   "source": [
    "timestamps = pd.read_sql(\"select distinct record_time from EBAY_TOP_BERLIN order by record_time desc limit 2\", sqlite3.connect(\"UsedObjects.db\"))"
   ]
  },
  {
   "cell_type": "code",
   "execution_count": 3,
   "id": "periodic-identification",
   "metadata": {
    "execution": {
     "iopub.execute_input": "2021-08-24T04:30:07.731749Z",
     "iopub.status.busy": "2021-08-24T04:30:07.726703Z",
     "iopub.status.idle": "2021-08-24T04:30:07.746654Z",
     "shell.execute_reply": "2021-08-24T04:30:07.747961Z"
    },
    "papermill": {
     "duration": 0.066648,
     "end_time": "2021-08-24T04:30:07.748374",
     "exception": false,
     "start_time": "2021-08-24T04:30:07.681726",
     "status": "completed"
    },
    "tags": []
   },
   "outputs": [
    {
     "data": {
      "text/html": [
       "<div>\n",
       "<style scoped>\n",
       "    .dataframe tbody tr th:only-of-type {\n",
       "        vertical-align: middle;\n",
       "    }\n",
       "\n",
       "    .dataframe tbody tr th {\n",
       "        vertical-align: top;\n",
       "    }\n",
       "\n",
       "    .dataframe thead th {\n",
       "        text-align: right;\n",
       "    }\n",
       "</style>\n",
       "<table border=\"1\" class=\"dataframe\">\n",
       "  <thead>\n",
       "    <tr style=\"text-align: right;\">\n",
       "      <th></th>\n",
       "      <th>RECORD_TIME</th>\n",
       "    </tr>\n",
       "  </thead>\n",
       "  <tbody>\n",
       "    <tr>\n",
       "      <th>0</th>\n",
       "      <td>2021-08-24 06:30</td>\n",
       "    </tr>\n",
       "    <tr>\n",
       "      <th>1</th>\n",
       "      <td>2021-08-24 06:00</td>\n",
       "    </tr>\n",
       "  </tbody>\n",
       "</table>\n",
       "</div>"
      ],
      "text/plain": [
       "        RECORD_TIME\n",
       "0  2021-08-24 06:30\n",
       "1  2021-08-24 06:00"
      ]
     },
     "execution_count": 3,
     "metadata": {},
     "output_type": "execute_result"
    }
   ],
   "source": [
    "timestamps"
   ]
  },
  {
   "cell_type": "code",
   "execution_count": 4,
   "id": "alternate-victory",
   "metadata": {
    "execution": {
     "iopub.execute_input": "2021-08-24T04:30:07.799354Z",
     "iopub.status.busy": "2021-08-24T04:30:07.797404Z",
     "iopub.status.idle": "2021-08-24T04:30:07.975721Z",
     "shell.execute_reply": "2021-08-24T04:30:07.976915Z"
    },
    "papermill": {
     "duration": 0.208031,
     "end_time": "2021-08-24T04:30:07.977317",
     "exception": false,
     "start_time": "2021-08-24T04:30:07.769286",
     "status": "completed"
    },
    "tags": []
   },
   "outputs": [],
   "source": [
    "df = pd.read_sql(\"select * from EBAY_TOP_BERLIN where record_time in (select distinct record_time from EBAY_TOP_BERLIN order by record_time desc limit 2)\", sqlite3.connect(\"UsedObjects.db\"))"
   ]
  },
  {
   "cell_type": "code",
   "execution_count": 5,
   "id": "popular-active",
   "metadata": {
    "execution": {
     "iopub.execute_input": "2021-08-24T04:30:08.037847Z",
     "iopub.status.busy": "2021-08-24T04:30:08.035618Z",
     "iopub.status.idle": "2021-08-24T04:30:08.063188Z",
     "shell.execute_reply": "2021-08-24T04:30:08.064386Z"
    },
    "papermill": {
     "duration": 0.067274,
     "end_time": "2021-08-24T04:30:08.064779",
     "exception": false,
     "start_time": "2021-08-24T04:30:07.997505",
     "status": "completed"
    },
    "tags": []
   },
   "outputs": [],
   "source": [
    "df_pivot = df.pivot_table(index=\"PRODUCT\", columns = \"RECORD_TIME\", values = \"LISTING_COUNT\")"
   ]
  },
  {
   "cell_type": "code",
   "execution_count": 6,
   "id": "union-huntington",
   "metadata": {
    "execution": {
     "iopub.execute_input": "2021-08-24T04:30:08.126078Z",
     "iopub.status.busy": "2021-08-24T04:30:08.123638Z",
     "iopub.status.idle": "2021-08-24T04:30:08.129895Z",
     "shell.execute_reply": "2021-08-24T04:30:08.131482Z"
    },
    "papermill": {
     "duration": 0.045957,
     "end_time": "2021-08-24T04:30:08.131975",
     "exception": false,
     "start_time": "2021-08-24T04:30:08.086018",
     "status": "completed"
    },
    "tags": []
   },
   "outputs": [],
   "source": [
    "df_pivot.columns = [\"stamp_1\", \"stamp_2\"]\n",
    "df_pivot_diff = df_pivot.diff(axis=1)"
   ]
  },
  {
   "cell_type": "code",
   "execution_count": 7,
   "id": "fifth-motion",
   "metadata": {
    "execution": {
     "iopub.execute_input": "2021-08-24T04:30:08.185317Z",
     "iopub.status.busy": "2021-08-24T04:30:08.183023Z",
     "iopub.status.idle": "2021-08-24T04:30:09.661157Z",
     "shell.execute_reply": "2021-08-24T04:30:09.663242Z"
    },
    "papermill": {
     "duration": 1.511798,
     "end_time": "2021-08-24T04:30:09.663832",
     "exception": false,
     "start_time": "2021-08-24T04:30:08.152034",
     "status": "completed"
    },
    "tags": []
   },
   "outputs": [
    {
     "data": {
      "text/plain": [
       "<AxesSubplot:ylabel='PRODUCT'>"
      ]
     },
     "execution_count": 7,
     "metadata": {},
     "output_type": "execute_result"
    },
    {
     "data": {
      "image/png": "[encoded data removed]",
      "text/plain": [
       "<Figure size 432x288 with 1 Axes>"
      ]
     },
     "metadata": {
      "needs_background": "light"
     },
     "output_type": "display_data"
    }
   ],
   "source": [
    "df_pivot_diff.sort_values(\"stamp_2\", ascending = False)[\"stamp_2\"].head(10).plot.barh()"
   ]
  },
  {
   "cell_type": "code",
   "execution_count": null,
   "id": "extra-executive",
   "metadata": {
    "papermill": {
     "duration": 0.022073,
     "end_time": "2021-08-24T04:30:09.710680",
     "exception": false,
     "start_time": "2021-08-24T04:30:09.688607",
     "status": "completed"
    },
    "tags": []
   },
   "outputs": [],
   "source": []
  }
 ],
 "metadata": {
  "kernelspec": {
   "display_name": "Python 3",
   "language": "python",
   "name": "python3"
  },
  "language_info": {
   "codemirror_mode": {
    "name": "ipython",
    "version": 3
   },
   "file_extension": ".py",
   "mimetype": "text/x-python",
   "name": "python",
   "nbconvert_exporter": "python",
   "pygments_lexer": "ipython3",
   "version": "3.9.5"
  },
  "papermill": {
   "default_parameters": {},
   "duration": 8.829563,
   "end_time": "2021-08-24T04:30:13.056147",
   "environment_variables": {},
   "exception": null,
   "input_path": "eBay_Overview.ipynb",
   "output_path": "eBay_Overview.ipynb",
   "parameters": {},
   "start_time": "2021-08-24T04:30:04.226584",
   "version": "2.3.3"
  }
 },
 "nbformat": 4,
 "nbformat_minor": 5
}