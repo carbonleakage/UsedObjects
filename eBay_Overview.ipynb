{
 "cells": [
  {
   "cell_type": "code",
   "execution_count": 1,
   "id": "reverse-picking",
   "metadata": {
    "execution": {
     "iopub.execute_input": "2021-12-17T17:30:08.330639Z",
     "iopub.status.busy": "2021-12-17T17:30:08.326680Z",
     "iopub.status.idle": "2021-12-17T17:30:09.304538Z",
     "shell.execute_reply": "2021-12-17T17:30:09.302013Z"
    },
    "papermill": {
     "duration": 1.025369,
     "end_time": "2021-12-17T17:30:09.305090",
     "exception": false,
     "start_time": "2021-12-17T17:30:08.279721",
     "status": "completed"
    },
    "tags": []
   },
   "outputs": [],
   "source": [
    "import pandas as pd\n",
    "import sqlite3"
   ]
  },
  {
   "cell_type": "code",
   "execution_count": 2,
   "id": "innovative-syndrome",
   "metadata": {
    "execution": {
     "iopub.execute_input": "2021-12-17T17:30:09.366156Z",
     "iopub.status.busy": "2021-12-17T17:30:09.363833Z",
     "iopub.status.idle": "2021-12-17T17:30:10.477977Z",
     "shell.execute_reply": "2021-12-17T17:30:10.480068Z"
    },
    "papermill": {
     "duration": 1.153954,
     "end_time": "2021-12-17T17:30:10.480609",
     "exception": false,
     "start_time": "2021-12-17T17:30:09.326655",
     "status": "completed"
    },
    "tags": []
   },
   "outputs": [],
   "source": [
    "timestamps = pd.read_sql(\"select distinct record_time from EBAY_TOP_BERLIN order by record_time desc limit 2\", sqlite3.connect(\"UsedObjects.db\"))"
   ]
  },
  {
   "cell_type": "code",
   "execution_count": 3,
   "id": "periodic-identification",
   "metadata": {
    "execution": {
     "iopub.execute_input": "2021-12-17T17:30:10.544062Z",
     "iopub.status.busy": "2021-12-17T17:30:10.542502Z",
     "iopub.status.idle": "2021-12-17T17:30:10.576244Z",
     "shell.execute_reply": "2021-12-17T17:30:10.577718Z"
    },
    "papermill": {
     "duration": 0.077893,
     "end_time": "2021-12-17T17:30:10.578206",
     "exception": false,
     "start_time": "2021-12-17T17:30:10.500313",
     "status": "completed"
    },
    "tags": []
   },
   "outputs": [
    {
     "data": {
      "text/html": [
       "<div>\n",
       "<style scoped>\n",
       "    .dataframe tbody tr th:only-of-type {\n",
       "        vertical-align: middle;\n",
       "    }\n",
       "\n",
       "    .dataframe tbody tr th {\n",
       "        vertical-align: top;\n",
       "    }\n",
       "\n",
       "    .dataframe thead th {\n",
       "        text-align: right;\n",
       "    }\n",
       "</style>\n",
       "<table border=\"1\" class=\"dataframe\">\n",
       "  <thead>\n",
       "    <tr style=\"text-align: right;\">\n",
       "      <th></th>\n",
       "      <th>RECORD_TIME</th>\n",
       "    </tr>\n",
       "  </thead>\n",
       "  <tbody>\n",
       "    <tr>\n",
       "      <th>0</th>\n",
       "      <td>2021-12-17 18:30</td>\n",
       "    </tr>\n",
       "    <tr>\n",
       "      <th>1</th>\n",
       "      <td>2021-12-17 18:00</td>\n",
       "    </tr>\n",
       "  </tbody>\n",
       "</table>\n",
       "</div>"
      ],
      "text/plain": [
       "        RECORD_TIME\n",
       "0  2021-12-17 18:30\n",
       "1  2021-12-17 18:00"
      ]
     },
     "execution_count": 3,
     "metadata": {},
     "output_type": "execute_result"
    }
   ],
   "source": [
    "timestamps"
   ]
  },
  {
   "cell_type": "code",
   "execution_count": 4,
   "id": "alternate-victory",
   "metadata": {
    "execution": {
     "iopub.execute_input": "2021-12-17T17:30:10.634631Z",
     "iopub.status.busy": "2021-12-17T17:30:10.632239Z",
     "iopub.status.idle": "2021-12-17T17:30:12.209462Z",
     "shell.execute_reply": "2021-12-17T17:30:12.211553Z"
    },
    "papermill": {
     "duration": 1.612177,
     "end_time": "2021-12-17T17:30:12.212037",
     "exception": false,
     "start_time": "2021-12-17T17:30:10.599860",
     "status": "completed"
    },
    "tags": []
   },
   "outputs": [],
   "source": [
    "df = pd.read_sql(\"select * from EBAY_TOP_BERLIN where record_time in (select distinct record_time from EBAY_TOP_BERLIN order by record_time desc limit 2)\", sqlite3.connect(\"UsedObjects.db\"))"
   ]
  },
  {
   "cell_type": "code",
   "execution_count": 5,
   "id": "popular-active",
   "metadata": {
    "execution": {
     "iopub.execute_input": "2021-12-17T17:30:12.278404Z",
     "iopub.status.busy": "2021-12-17T17:30:12.275941Z",
     "iopub.status.idle": "2021-12-17T17:30:12.307873Z",
     "shell.execute_reply": "2021-12-17T17:30:12.309399Z"
    },
    "papermill": {
     "duration": 0.076784,
     "end_time": "2021-12-17T17:30:12.309905",
     "exception": false,
     "start_time": "2021-12-17T17:30:12.233121",
     "status": "completed"
    },
    "tags": []
   },
   "outputs": [],
   "source": [
    "df_pivot = df.pivot_table(index=\"PRODUCT\", columns = \"RECORD_TIME\", values = \"LISTING_COUNT\")"
   ]
  },
  {
   "cell_type": "code",
   "execution_count": 6,
   "id": "union-huntington",
   "metadata": {
    "execution": {
     "iopub.execute_input": "2021-12-17T17:30:12.371400Z",
     "iopub.status.busy": "2021-12-17T17:30:12.369161Z",
     "iopub.status.idle": "2021-12-17T17:30:12.374988Z",
     "shell.execute_reply": "2021-12-17T17:30:12.376350Z"
    },
    "papermill": {
     "duration": 0.044751,
     "end_time": "2021-12-17T17:30:12.376889",
     "exception": false,
     "start_time": "2021-12-17T17:30:12.332138",
     "status": "completed"
    },
    "tags": []
   },
   "outputs": [],
   "source": [
    "df_pivot.columns = [\"stamp_1\", \"stamp_2\"]\n",
    "df_pivot_diff = df_pivot.diff(axis=1)"
   ]
  },
  {
   "cell_type": "code",
   "execution_count": 7,
   "id": "fifth-motion",
   "metadata": {
    "execution": {
     "iopub.execute_input": "2021-12-17T17:30:12.433983Z",
     "iopub.status.busy": "2021-12-17T17:30:12.431466Z",
     "iopub.status.idle": "2021-12-17T17:30:14.020361Z",
     "shell.execute_reply": "2021-12-17T17:30:14.021824Z"
    },
    "papermill": {
     "duration": 1.624509,
     "end_time": "2021-12-17T17:30:14.022280",
     "exception": false,
     "start_time": "2021-12-17T17:30:12.397771",
     "status": "completed"
    },
    "tags": []
   },
   "outputs": [
    {
     "data": {
      "text/plain": [
       "<AxesSubplot:ylabel='PRODUCT'>"
      ]
     },
     "execution_count": 7,
     "metadata": {},
     "output_type": "execute_result"
    },
    {
     "data": {
      "image/png": "[encoded data removed]",
      "text/plain": [
       "<Figure size 432x288 with 1 Axes>"
      ]
     },
     "metadata": {
      "needs_background": "light"
     },
     "output_type": "display_data"
    }
   ],
   "source": [
    "df_pivot_diff.sort_values(\"stamp_2\", ascending = False)[\"stamp_2\"].head(10).plot.barh()"
   ]
  },
  {
   "cell_type": "code",
   "execution_count": null,
   "id": "extra-executive",
   "metadata": {
    "papermill": {
     "duration": 0.022485,
     "end_time": "2021-12-17T17:30:14.069883",
     "exception": false,
     "start_time": "2021-12-17T17:30:14.047398",
     "status": "completed"
    },
    "tags": []
   },
   "outputs": [],
   "source": []
  }
 ],
 "metadata": {
  "kernelspec": {
   "display_name": "Python 3",
   "language": "python",
   "name": "python3"
  },
  "language_info": {
   "codemirror_mode": {
    "name": "ipython",
    "version": 3
   },
   "file_extension": ".py",
   "mimetype": "text/x-python",
   "name": "python",
   "nbconvert_exporter": "python",
   "pygments_lexer": "ipython3",
   "version": "3.9.5"
  },
  "papermill": {
   "default_parameters": {},
   "duration": 9.933783,
   "end_time": "2021-12-17T17:30:15.477493",
   "environment_variables": {},
   "exception": null,
   "input_path": "eBay_Overview.ipynb",
   "output_path": "eBay_Overview.ipynb",
   "parameters": {},
   "start_time": "2021-12-17T17:30:05.543710",
   "version": "2.3.3"
  }
 },
 "nbformat": 4,
 "nbformat_minor": 5
}