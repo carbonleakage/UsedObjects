{
 "cells": [
  {
   "cell_type": "code",
   "execution_count": 1,
   "id": "reverse-picking",
   "metadata": {
    "execution": {
     "iopub.execute_input": "2021-09-25T03:30:06.921423Z",
     "iopub.status.busy": "2021-09-25T03:30:06.919493Z",
     "iopub.status.idle": "2021-09-25T03:30:07.731336Z",
     "shell.execute_reply": "2021-09-25T03:30:07.729622Z"
    },
    "papermill": {
     "duration": 0.864166,
     "end_time": "2021-09-25T03:30:07.731761",
     "exception": false,
     "start_time": "2021-09-25T03:30:06.867595",
     "status": "completed"
    },
    "tags": []
   },
   "outputs": [],
   "source": [
    "import pandas as pd\n",
    "import sqlite3"
   ]
  },
  {
   "cell_type": "code",
   "execution_count": 2,
   "id": "innovative-syndrome",
   "metadata": {
    "execution": {
     "iopub.execute_input": "2021-09-25T03:30:07.783376Z",
     "iopub.status.busy": "2021-09-25T03:30:07.781215Z",
     "iopub.status.idle": "2021-09-25T03:30:08.149154Z",
     "shell.execute_reply": "2021-09-25T03:30:08.150357Z"
    },
    "papermill": {
     "duration": 0.397913,
     "end_time": "2021-09-25T03:30:08.150749",
     "exception": false,
     "start_time": "2021-09-25T03:30:07.752836",
     "status": "completed"
    },
    "tags": []
   },
   "outputs": [],
   "source": [
    "timestamps = pd.read_sql(\"select distinct record_time from EBAY_TOP_BERLIN order by record_time desc limit 2\", sqlite3.connect(\"UsedObjects.db\"))"
   ]
  },
  {
   "cell_type": "code",
   "execution_count": 3,
   "id": "periodic-identification",
   "metadata": {
    "execution": {
     "iopub.execute_input": "2021-09-25T03:30:08.213864Z",
     "iopub.status.busy": "2021-09-25T03:30:08.211869Z",
     "iopub.status.idle": "2021-09-25T03:30:08.233646Z",
     "shell.execute_reply": "2021-09-25T03:30:08.235120Z"
    },
    "papermill": {
     "duration": 0.065369,
     "end_time": "2021-09-25T03:30:08.235559",
     "exception": false,
     "start_time": "2021-09-25T03:30:08.170190",
     "status": "completed"
    },
    "tags": []
   },
   "outputs": [
    {
     "data": {
      "text/html": [
       "<div>\n",
       "<style scoped>\n",
       "    .dataframe tbody tr th:only-of-type {\n",
       "        vertical-align: middle;\n",
       "    }\n",
       "\n",
       "    .dataframe tbody tr th {\n",
       "        vertical-align: top;\n",
       "    }\n",
       "\n",
       "    .dataframe thead th {\n",
       "        text-align: right;\n",
       "    }\n",
       "</style>\n",
       "<table border=\"1\" class=\"dataframe\">\n",
       "  <thead>\n",
       "    <tr style=\"text-align: right;\">\n",
       "      <th></th>\n",
       "      <th>RECORD_TIME</th>\n",
       "    </tr>\n",
       "  </thead>\n",
       "  <tbody>\n",
       "    <tr>\n",
       "      <th>0</th>\n",
       "      <td>2021-09-25 05:30</td>\n",
       "    </tr>\n",
       "    <tr>\n",
       "      <th>1</th>\n",
       "      <td>2021-09-25 05:00</td>\n",
       "    </tr>\n",
       "  </tbody>\n",
       "</table>\n",
       "</div>"
      ],
      "text/plain": [
       "        RECORD_TIME\n",
       "0  2021-09-25 05:30\n",
       "1  2021-09-25 05:00"
      ]
     },
     "execution_count": 3,
     "metadata": {},
     "output_type": "execute_result"
    }
   ],
   "source": [
    "timestamps"
   ]
  },
  {
   "cell_type": "code",
   "execution_count": 4,
   "id": "alternate-victory",
   "metadata": {
    "execution": {
     "iopub.execute_input": "2021-09-25T03:30:08.288026Z",
     "iopub.status.busy": "2021-09-25T03:30:08.285678Z",
     "iopub.status.idle": "2021-09-25T03:30:08.822446Z",
     "shell.execute_reply": "2021-09-25T03:30:08.824018Z"
    },
    "papermill": {
     "duration": 0.56734,
     "end_time": "2021-09-25T03:30:08.824462",
     "exception": false,
     "start_time": "2021-09-25T03:30:08.257122",
     "status": "completed"
    },
    "tags": []
   },
   "outputs": [],
   "source": [
    "df = pd.read_sql(\"select * from EBAY_TOP_BERLIN where record_time in (select distinct record_time from EBAY_TOP_BERLIN order by record_time desc limit 2)\", sqlite3.connect(\"UsedObjects.db\"))"
   ]
  },
  {
   "cell_type": "code",
   "execution_count": 5,
   "id": "popular-active",
   "metadata": {
    "execution": {
     "iopub.execute_input": "2021-09-25T03:30:08.895645Z",
     "iopub.status.busy": "2021-09-25T03:30:08.884379Z",
     "iopub.status.idle": "2021-09-25T03:30:08.910847Z",
     "shell.execute_reply": "2021-09-25T03:30:08.912088Z"
    },
    "papermill": {
     "duration": 0.06788,
     "end_time": "2021-09-25T03:30:08.912485",
     "exception": false,
     "start_time": "2021-09-25T03:30:08.844605",
     "status": "completed"
    },
    "tags": []
   },
   "outputs": [],
   "source": [
    "df_pivot = df.pivot_table(index=\"PRODUCT\", columns = \"RECORD_TIME\", values = \"LISTING_COUNT\")"
   ]
  },
  {
   "cell_type": "code",
   "execution_count": 6,
   "id": "union-huntington",
   "metadata": {
    "execution": {
     "iopub.execute_input": "2021-09-25T03:30:08.969096Z",
     "iopub.status.busy": "2021-09-25T03:30:08.966948Z",
     "iopub.status.idle": "2021-09-25T03:30:08.972430Z",
     "shell.execute_reply": "2021-09-25T03:30:08.973786Z"
    },
    "papermill": {
     "duration": 0.040556,
     "end_time": "2021-09-25T03:30:08.974219",
     "exception": false,
     "start_time": "2021-09-25T03:30:08.933663",
     "status": "completed"
    },
    "tags": []
   },
   "outputs": [],
   "source": [
    "df_pivot.columns = [\"stamp_1\", \"stamp_2\"]\n",
    "df_pivot_diff = df_pivot.diff(axis=1)"
   ]
  },
  {
   "cell_type": "code",
   "execution_count": 7,
   "id": "fifth-motion",
   "metadata": {
    "execution": {
     "iopub.execute_input": "2021-09-25T03:30:09.028303Z",
     "iopub.status.busy": "2021-09-25T03:30:09.025726Z",
     "iopub.status.idle": "2021-09-25T03:30:10.533367Z",
     "shell.execute_reply": "2021-09-25T03:30:10.534726Z"
    },
    "papermill": {
     "duration": 1.540633,
     "end_time": "2021-09-25T03:30:10.535257",
     "exception": false,
     "start_time": "2021-09-25T03:30:08.994624",
     "status": "completed"
    },
    "tags": []
   },
   "outputs": [
    {
     "data": {
      "text/plain": [
       "<AxesSubplot:ylabel='PRODUCT'>"
      ]
     },
     "execution_count": 7,
     "metadata": {},
     "output_type": "execute_result"
    },
    {
     "data": {
      "image/png": "[encoded data removed]",
      "text/plain": [
       "<Figure size 432x288 with 1 Axes>"
      ]
     },
     "metadata": {
      "needs_background": "light"
     },
     "output_type": "display_data"
    }
   ],
   "source": [
    "df_pivot_diff.sort_values(\"stamp_2\", ascending = False)[\"stamp_2\"].head(10).plot.barh()"
   ]
  },
  {
   "cell_type": "code",
   "execution_count": null,
   "id": "extra-executive",
   "metadata": {
    "papermill": {
     "duration": 0.021994,
     "end_time": "2021-09-25T03:30:10.581930",
     "exception": false,
     "start_time": "2021-09-25T03:30:10.559936",
     "status": "completed"
    },
    "tags": []
   },
   "outputs": [],
   "source": []
  }
 ],
 "metadata": {
  "kernelspec": {
   "display_name": "Python 3",
   "language": "python",
   "name": "python3"
  },
  "language_info": {
   "codemirror_mode": {
    "name": "ipython",
    "version": 3
   },
   "file_extension": ".py",
   "mimetype": "text/x-python",
   "name": "python",
   "nbconvert_exporter": "python",
   "pygments_lexer": "ipython3",
   "version": "3.9.5"
  },
  "papermill": {
   "default_parameters": {},
   "duration": 6.761705,
   "end_time": "2021-09-25T03:30:11.225147",
   "environment_variables": {},
   "exception": null,
   "input_path": "eBay_Overview.ipynb",
   "output_path": "eBay_Overview.ipynb",
   "parameters": {},
   "start_time": "2021-09-25T03:30:04.463442",
   "version": "2.3.3"
  }
 },
 "nbformat": 4,
 "nbformat_minor": 5
}