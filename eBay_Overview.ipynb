{
 "cells": [
  {
   "cell_type": "code",
   "execution_count": 1,
   "id": "reverse-picking",
   "metadata": {
    "execution": {
     "iopub.execute_input": "2021-11-21T14:00:07.560357Z",
     "iopub.status.busy": "2021-11-21T14:00:07.558354Z",
     "iopub.status.idle": "2021-11-21T14:00:08.522828Z",
     "shell.execute_reply": "2021-11-21T14:00:08.525158Z"
    },
    "papermill": {
     "duration": 1.013049,
     "end_time": "2021-11-21T14:00:08.525878",
     "exception": false,
     "start_time": "2021-11-21T14:00:07.512829",
     "status": "completed"
    },
    "tags": []
   },
   "outputs": [],
   "source": [
    "import pandas as pd\n",
    "import sqlite3"
   ]
  },
  {
   "cell_type": "code",
   "execution_count": 2,
   "id": "innovative-syndrome",
   "metadata": {
    "execution": {
     "iopub.execute_input": "2021-11-21T14:00:08.589451Z",
     "iopub.status.busy": "2021-11-21T14:00:08.586916Z",
     "iopub.status.idle": "2021-11-21T14:00:09.462517Z",
     "shell.execute_reply": "2021-11-21T14:00:09.463901Z"
    },
    "papermill": {
     "duration": 0.910032,
     "end_time": "2021-11-21T14:00:09.464352",
     "exception": false,
     "start_time": "2021-11-21T14:00:08.554320",
     "status": "completed"
    },
    "tags": []
   },
   "outputs": [],
   "source": [
    "timestamps = pd.read_sql(\"select distinct record_time from EBAY_TOP_BERLIN order by record_time desc limit 2\", sqlite3.connect(\"UsedObjects.db\"))"
   ]
  },
  {
   "cell_type": "code",
   "execution_count": 3,
   "id": "periodic-identification",
   "metadata": {
    "execution": {
     "iopub.execute_input": "2021-11-21T14:00:09.534328Z",
     "iopub.status.busy": "2021-11-21T14:00:09.532051Z",
     "iopub.status.idle": "2021-11-21T14:00:09.553472Z",
     "shell.execute_reply": "2021-11-21T14:00:09.554823Z"
    },
    "papermill": {
     "duration": 0.070633,
     "end_time": "2021-11-21T14:00:09.555287",
     "exception": false,
     "start_time": "2021-11-21T14:00:09.484654",
     "status": "completed"
    },
    "tags": []
   },
   "outputs": [
    {
     "data": {
      "text/html": [
       "<div>\n",
       "<style scoped>\n",
       "    .dataframe tbody tr th:only-of-type {\n",
       "        vertical-align: middle;\n",
       "    }\n",
       "\n",
       "    .dataframe tbody tr th {\n",
       "        vertical-align: top;\n",
       "    }\n",
       "\n",
       "    .dataframe thead th {\n",
       "        text-align: right;\n",
       "    }\n",
       "</style>\n",
       "<table border=\"1\" class=\"dataframe\">\n",
       "  <thead>\n",
       "    <tr style=\"text-align: right;\">\n",
       "      <th></th>\n",
       "      <th>RECORD_TIME</th>\n",
       "    </tr>\n",
       "  </thead>\n",
       "  <tbody>\n",
       "    <tr>\n",
       "      <th>0</th>\n",
       "      <td>2021-11-21 15:00</td>\n",
       "    </tr>\n",
       "    <tr>\n",
       "      <th>1</th>\n",
       "      <td>2021-11-21 14:30</td>\n",
       "    </tr>\n",
       "  </tbody>\n",
       "</table>\n",
       "</div>"
      ],
      "text/plain": [
       "        RECORD_TIME\n",
       "0  2021-11-21 15:00\n",
       "1  2021-11-21 14:30"
      ]
     },
     "execution_count": 3,
     "metadata": {},
     "output_type": "execute_result"
    }
   ],
   "source": [
    "timestamps"
   ]
  },
  {
   "cell_type": "code",
   "execution_count": 4,
   "id": "alternate-victory",
   "metadata": {
    "execution": {
     "iopub.execute_input": "2021-11-21T14:00:09.611392Z",
     "iopub.status.busy": "2021-11-21T14:00:09.609308Z",
     "iopub.status.idle": "2021-11-21T14:00:10.907432Z",
     "shell.execute_reply": "2021-11-21T14:00:10.909599Z"
    },
    "papermill": {
     "duration": 1.333259,
     "end_time": "2021-11-21T14:00:10.910074",
     "exception": false,
     "start_time": "2021-11-21T14:00:09.576815",
     "status": "completed"
    },
    "tags": []
   },
   "outputs": [],
   "source": [
    "df = pd.read_sql(\"select * from EBAY_TOP_BERLIN where record_time in (select distinct record_time from EBAY_TOP_BERLIN order by record_time desc limit 2)\", sqlite3.connect(\"UsedObjects.db\"))"
   ]
  },
  {
   "cell_type": "code",
   "execution_count": 5,
   "id": "popular-active",
   "metadata": {
    "execution": {
     "iopub.execute_input": "2021-11-21T14:00:10.985030Z",
     "iopub.status.busy": "2021-11-21T14:00:10.972154Z",
     "iopub.status.idle": "2021-11-21T14:00:11.003615Z",
     "shell.execute_reply": "2021-11-21T14:00:11.005186Z"
    },
    "papermill": {
     "duration": 0.074747,
     "end_time": "2021-11-21T14:00:11.005687",
     "exception": false,
     "start_time": "2021-11-21T14:00:10.930940",
     "status": "completed"
    },
    "tags": []
   },
   "outputs": [],
   "source": [
    "df_pivot = df.pivot_table(index=\"PRODUCT\", columns = \"RECORD_TIME\", values = \"LISTING_COUNT\")"
   ]
  },
  {
   "cell_type": "code",
   "execution_count": 6,
   "id": "union-huntington",
   "metadata": {
    "execution": {
     "iopub.execute_input": "2021-11-21T14:00:11.083780Z",
     "iopub.status.busy": "2021-11-21T14:00:11.080300Z",
     "iopub.status.idle": "2021-11-21T14:00:11.090962Z",
     "shell.execute_reply": "2021-11-21T14:00:11.093873Z"
    },
    "papermill": {
     "duration": 0.067209,
     "end_time": "2021-11-21T14:00:11.094745",
     "exception": false,
     "start_time": "2021-11-21T14:00:11.027536",
     "status": "completed"
    },
    "tags": []
   },
   "outputs": [],
   "source": [
    "df_pivot.columns = [\"stamp_1\", \"stamp_2\"]\n",
    "df_pivot_diff = df_pivot.diff(axis=1)"
   ]
  },
  {
   "cell_type": "code",
   "execution_count": 7,
   "id": "fifth-motion",
   "metadata": {
    "execution": {
     "iopub.execute_input": "2021-11-21T14:00:11.162514Z",
     "iopub.status.busy": "2021-11-21T14:00:11.159798Z",
     "iopub.status.idle": "2021-11-21T14:00:12.995960Z",
     "shell.execute_reply": "2021-11-21T14:00:12.998602Z"
    },
    "papermill": {
     "duration": 1.875654,
     "end_time": "2021-11-21T14:00:12.999460",
     "exception": false,
     "start_time": "2021-11-21T14:00:11.123806",
     "status": "completed"
    },
    "tags": []
   },
   "outputs": [
    {
     "data": {
      "text/plain": [
       "<AxesSubplot:ylabel='PRODUCT'>"
      ]
     },
     "execution_count": 7,
     "metadata": {},
     "output_type": "execute_result"
    },
    {
     "data": {
      "image/png": "[encoded data removed]",
      "text/plain": [
       "<Figure size 432x288 with 1 Axes>"
      ]
     },
     "metadata": {
      "needs_background": "light"
     },
     "output_type": "display_data"
    }
   ],
   "source": [
    "df_pivot_diff.sort_values(\"stamp_2\", ascending = False)[\"stamp_2\"].head(10).plot.barh()"
   ]
  },
  {
   "cell_type": "code",
   "execution_count": null,
   "id": "extra-executive",
   "metadata": {
    "papermill": {
     "duration": 0.030861,
     "end_time": "2021-11-21T14:00:13.061206",
     "exception": false,
     "start_time": "2021-11-21T14:00:13.030345",
     "status": "completed"
    },
    "tags": []
   },
   "outputs": [],
   "source": []
  }
 ],
 "metadata": {
  "kernelspec": {
   "display_name": "Python 3",
   "language": "python",
   "name": "python3"
  },
  "language_info": {
   "codemirror_mode": {
    "name": "ipython",
    "version": 3
   },
   "file_extension": ".py",
   "mimetype": "text/x-python",
   "name": "python",
   "nbconvert_exporter": "python",
   "pygments_lexer": "ipython3",
   "version": "3.9.5"
  },
  "papermill": {
   "default_parameters": {},
   "duration": 9.927723,
   "end_time": "2021-11-21T14:00:14.705645",
   "environment_variables": {},
   "exception": null,
   "input_path": "eBay_Overview.ipynb",
   "output_path": "eBay_Overview.ipynb",
   "parameters": {},
   "start_time": "2021-11-21T14:00:04.777922",
   "version": "2.3.3"
  }
 },
 "nbformat": 4,
 "nbformat_minor": 5
}