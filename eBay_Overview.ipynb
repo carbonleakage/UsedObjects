{
 "cells": [
  {
   "cell_type": "code",
   "execution_count": 1,
   "id": "reverse-picking",
   "metadata": {
    "execution": {
     "iopub.execute_input": "2021-08-12T04:30:05.533781Z",
     "iopub.status.busy": "2021-08-12T04:30:05.533019Z",
     "iopub.status.idle": "2021-08-12T04:30:06.138344Z",
     "shell.execute_reply": "2021-08-12T04:30:06.137527Z"
    },
    "papermill": {
     "duration": 0.624479,
     "end_time": "2021-08-12T04:30:06.138525",
     "exception": false,
     "start_time": "2021-08-12T04:30:05.514046",
     "status": "completed"
    },
    "tags": []
   },
   "outputs": [],
   "source": [
    "import pandas as pd\n",
    "import sqlite3"
   ]
  },
  {
   "cell_type": "code",
   "execution_count": 2,
   "id": "innovative-syndrome",
   "metadata": {
    "execution": {
     "iopub.execute_input": "2021-08-12T04:30:06.161077Z",
     "iopub.status.busy": "2021-08-12T04:30:06.160294Z",
     "iopub.status.idle": "2021-08-12T04:30:06.369235Z",
     "shell.execute_reply": "2021-08-12T04:30:06.368151Z"
    },
    "papermill": {
     "duration": 0.222517,
     "end_time": "2021-08-12T04:30:06.369510",
     "exception": false,
     "start_time": "2021-08-12T04:30:06.146993",
     "status": "completed"
    },
    "tags": []
   },
   "outputs": [],
   "source": [
    "timestamps = pd.read_sql(\"select distinct record_time from EBAY_TOP_BERLIN order by record_time desc limit 2\", sqlite3.connect(\"UsedObjects.db\"))"
   ]
  },
  {
   "cell_type": "code",
   "execution_count": 3,
   "id": "periodic-identification",
   "metadata": {
    "execution": {
     "iopub.execute_input": "2021-08-12T04:30:06.399096Z",
     "iopub.status.busy": "2021-08-12T04:30:06.398423Z",
     "iopub.status.idle": "2021-08-12T04:30:06.474498Z",
     "shell.execute_reply": "2021-08-12T04:30:06.475066Z"
    },
    "papermill": {
     "duration": 0.095269,
     "end_time": "2021-08-12T04:30:06.475248",
     "exception": false,
     "start_time": "2021-08-12T04:30:06.379979",
     "status": "completed"
    },
    "tags": []
   },
   "outputs": [
    {
     "data": {
      "text/html": [
       "<div>\n",
       "<style scoped>\n",
       "    .dataframe tbody tr th:only-of-type {\n",
       "        vertical-align: middle;\n",
       "    }\n",
       "\n",
       "    .dataframe tbody tr th {\n",
       "        vertical-align: top;\n",
       "    }\n",
       "\n",
       "    .dataframe thead th {\n",
       "        text-align: right;\n",
       "    }\n",
       "</style>\n",
       "<table border=\"1\" class=\"dataframe\">\n",
       "  <thead>\n",
       "    <tr style=\"text-align: right;\">\n",
       "      <th></th>\n",
       "      <th>RECORD_TIME</th>\n",
       "    </tr>\n",
       "  </thead>\n",
       "  <tbody>\n",
       "    <tr>\n",
       "      <th>0</th>\n",
       "      <td>2021-08-12 06:30</td>\n",
       "    </tr>\n",
       "    <tr>\n",
       "      <th>1</th>\n",
       "      <td>2021-08-12 06:00</td>\n",
       "    </tr>\n",
       "  </tbody>\n",
       "</table>\n",
       "</div>"
      ],
      "text/plain": [
       "        RECORD_TIME\n",
       "0  2021-08-12 06:30\n",
       "1  2021-08-12 06:00"
      ]
     },
     "execution_count": 3,
     "metadata": {},
     "output_type": "execute_result"
    }
   ],
   "source": [
    "timestamps"
   ]
  },
  {
   "cell_type": "code",
   "execution_count": 4,
   "id": "alternate-victory",
   "metadata": {
    "execution": {
     "iopub.execute_input": "2021-08-12T04:30:06.498380Z",
     "iopub.status.busy": "2021-08-12T04:30:06.497622Z",
     "iopub.status.idle": "2021-08-12T04:30:06.521520Z",
     "shell.execute_reply": "2021-08-12T04:30:06.520893Z"
    },
    "papermill": {
     "duration": 0.036855,
     "end_time": "2021-08-12T04:30:06.521685",
     "exception": false,
     "start_time": "2021-08-12T04:30:06.484830",
     "status": "completed"
    },
    "tags": []
   },
   "outputs": [],
   "source": [
    "df = pd.read_sql(\"select * from EBAY_TOP_BERLIN where record_time in (select distinct record_time from EBAY_TOP_BERLIN order by record_time desc limit 2)\", sqlite3.connect(\"UsedObjects.db\"))"
   ]
  },
  {
   "cell_type": "code",
   "execution_count": 5,
   "id": "popular-active",
   "metadata": {
    "execution": {
     "iopub.execute_input": "2021-08-12T04:30:06.554334Z",
     "iopub.status.busy": "2021-08-12T04:30:06.553560Z",
     "iopub.status.idle": "2021-08-12T04:30:06.578497Z",
     "shell.execute_reply": "2021-08-12T04:30:06.577881Z"
    },
    "papermill": {
     "duration": 0.048506,
     "end_time": "2021-08-12T04:30:06.578659",
     "exception": false,
     "start_time": "2021-08-12T04:30:06.530153",
     "status": "completed"
    },
    "tags": []
   },
   "outputs": [],
   "source": [
    "df_pivot = df.pivot_table(index=\"PRODUCT\", columns = \"RECORD_TIME\", values = \"LISTING_COUNT\")"
   ]
  },
  {
   "cell_type": "code",
   "execution_count": 6,
   "id": "union-huntington",
   "metadata": {
    "execution": {
     "iopub.execute_input": "2021-08-12T04:30:06.610510Z",
     "iopub.status.busy": "2021-08-12T04:30:06.609780Z",
     "iopub.status.idle": "2021-08-12T04:30:06.612632Z",
     "shell.execute_reply": "2021-08-12T04:30:06.613159Z"
    },
    "papermill": {
     "duration": 0.025609,
     "end_time": "2021-08-12T04:30:06.613341",
     "exception": false,
     "start_time": "2021-08-12T04:30:06.587732",
     "status": "completed"
    },
    "tags": []
   },
   "outputs": [],
   "source": [
    "df_pivot.columns = [\"stamp_1\", \"stamp_2\"]\n",
    "df_pivot_diff = df_pivot.diff(axis=1)"
   ]
  },
  {
   "cell_type": "code",
   "execution_count": 7,
   "id": "fifth-motion",
   "metadata": {
    "execution": {
     "iopub.execute_input": "2021-08-12T04:30:06.643166Z",
     "iopub.status.busy": "2021-08-12T04:30:06.642126Z",
     "iopub.status.idle": "2021-08-12T04:30:07.301464Z",
     "shell.execute_reply": "2021-08-12T04:30:07.300804Z"
    },
    "papermill": {
     "duration": 0.679761,
     "end_time": "2021-08-12T04:30:07.301629",
     "exception": false,
     "start_time": "2021-08-12T04:30:06.621868",
     "status": "completed"
    },
    "tags": []
   },
   "outputs": [
    {
     "data": {
      "text/plain": [
       "<AxesSubplot:ylabel='PRODUCT'>"
      ]
     },
     "execution_count": 7,
     "metadata": {},
     "output_type": "execute_result"
    },
    {
     "data": {
      "image/png": "[encoded data removed]",
      "text/plain": [
       "<Figure size 432x288 with 1 Axes>"
      ]
     },
     "metadata": {
      "needs_background": "light"
     },
     "output_type": "display_data"
    }
   ],
   "source": [
    "df_pivot_diff.sort_values(\"stamp_2\", ascending = False)[\"stamp_2\"].head(10).plot.barh()"
   ]
  },
  {
   "cell_type": "code",
   "execution_count": null,
   "id": "extra-executive",
   "metadata": {
    "papermill": {
     "duration": 0.009528,
     "end_time": "2021-08-12T04:30:07.321104",
     "exception": false,
     "start_time": "2021-08-12T04:30:07.311576",
     "status": "completed"
    },
    "tags": []
   },
   "outputs": [],
   "source": []
  }
 ],
 "metadata": {
  "kernelspec": {
   "display_name": "Python 3",
   "language": "python",
   "name": "python3"
  },
  "language_info": {
   "codemirror_mode": {
    "name": "ipython",
    "version": 3
   },
   "file_extension": ".py",
   "mimetype": "text/x-python",
   "name": "python",
   "nbconvert_exporter": "python",
   "pygments_lexer": "ipython3",
   "version": "3.8.8"
  },
  "papermill": {
   "default_parameters": {},
   "duration": 4.239854,
   "end_time": "2021-08-12T04:30:08.060167",
   "environment_variables": {},
   "exception": null,
   "input_path": "/Users/saravananshanmugam/Carbonleakage_Git/UsedObjects/eBay_Overview.ipynb",
   "output_path": "/Users/saravananshanmugam/Carbonleakage_Git/UsedObjects/eBay_Overview.ipynb",
   "parameters": {},
   "start_time": "2021-08-12T04:30:03.820313",
   "version": "2.3.3"
  }
 },
 "nbformat": 4,
 "nbformat_minor": 5
}