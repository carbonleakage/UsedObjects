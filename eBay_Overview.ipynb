{
 "cells": [
  {
   "cell_type": "code",
   "execution_count": 1,
   "id": "reverse-picking",
   "metadata": {
    "execution": {
     "iopub.execute_input": "2021-11-13T16:00:08.340816Z",
     "iopub.status.busy": "2021-11-13T16:00:08.338489Z",
     "iopub.status.idle": "2021-11-13T16:00:09.295334Z",
     "shell.execute_reply": "2021-11-13T16:00:09.298011Z"
    },
    "papermill": {
     "duration": 1.007895,
     "end_time": "2021-11-13T16:00:09.299104",
     "exception": false,
     "start_time": "2021-11-13T16:00:08.291209",
     "status": "completed"
    },
    "tags": []
   },
   "outputs": [],
   "source": [
    "import pandas as pd\n",
    "import sqlite3"
   ]
  },
  {
   "cell_type": "code",
   "execution_count": 2,
   "id": "innovative-syndrome",
   "metadata": {
    "execution": {
     "iopub.execute_input": "2021-11-13T16:00:09.360493Z",
     "iopub.status.busy": "2021-11-13T16:00:09.358304Z",
     "iopub.status.idle": "2021-11-13T16:00:10.162748Z",
     "shell.execute_reply": "2021-11-13T16:00:10.164020Z"
    },
    "papermill": {
     "duration": 0.83828,
     "end_time": "2021-11-13T16:00:10.164433",
     "exception": false,
     "start_time": "2021-11-13T16:00:09.326153",
     "status": "completed"
    },
    "tags": []
   },
   "outputs": [],
   "source": [
    "timestamps = pd.read_sql(\"select distinct record_time from EBAY_TOP_BERLIN order by record_time desc limit 2\", sqlite3.connect(\"UsedObjects.db\"))"
   ]
  },
  {
   "cell_type": "code",
   "execution_count": 3,
   "id": "periodic-identification",
   "metadata": {
    "execution": {
     "iopub.execute_input": "2021-11-13T16:00:10.230707Z",
     "iopub.status.busy": "2021-11-13T16:00:10.228601Z",
     "iopub.status.idle": "2021-11-13T16:00:10.248922Z",
     "shell.execute_reply": "2021-11-13T16:00:10.250516Z"
    },
    "papermill": {
     "duration": 0.067369,
     "end_time": "2021-11-13T16:00:10.250995",
     "exception": false,
     "start_time": "2021-11-13T16:00:10.183626",
     "status": "completed"
    },
    "tags": []
   },
   "outputs": [
    {
     "data": {
      "text/html": [
       "<div>\n",
       "<style scoped>\n",
       "    .dataframe tbody tr th:only-of-type {\n",
       "        vertical-align: middle;\n",
       "    }\n",
       "\n",
       "    .dataframe tbody tr th {\n",
       "        vertical-align: top;\n",
       "    }\n",
       "\n",
       "    .dataframe thead th {\n",
       "        text-align: right;\n",
       "    }\n",
       "</style>\n",
       "<table border=\"1\" class=\"dataframe\">\n",
       "  <thead>\n",
       "    <tr style=\"text-align: right;\">\n",
       "      <th></th>\n",
       "      <th>RECORD_TIME</th>\n",
       "    </tr>\n",
       "  </thead>\n",
       "  <tbody>\n",
       "    <tr>\n",
       "      <th>0</th>\n",
       "      <td>2021-11-13 17:00</td>\n",
       "    </tr>\n",
       "    <tr>\n",
       "      <th>1</th>\n",
       "      <td>2021-11-13 16:30</td>\n",
       "    </tr>\n",
       "  </tbody>\n",
       "</table>\n",
       "</div>"
      ],
      "text/plain": [
       "        RECORD_TIME\n",
       "0  2021-11-13 17:00\n",
       "1  2021-11-13 16:30"
      ]
     },
     "execution_count": 3,
     "metadata": {},
     "output_type": "execute_result"
    }
   ],
   "source": [
    "timestamps"
   ]
  },
  {
   "cell_type": "code",
   "execution_count": 4,
   "id": "alternate-victory",
   "metadata": {
    "execution": {
     "iopub.execute_input": "2021-11-13T16:00:10.305358Z",
     "iopub.status.busy": "2021-11-13T16:00:10.303213Z",
     "iopub.status.idle": "2021-11-13T16:00:11.493052Z",
     "shell.execute_reply": "2021-11-13T16:00:11.495115Z"
    },
    "papermill": {
     "duration": 1.222787,
     "end_time": "2021-11-13T16:00:11.495867",
     "exception": false,
     "start_time": "2021-11-13T16:00:10.273080",
     "status": "completed"
    },
    "tags": []
   },
   "outputs": [],
   "source": [
    "df = pd.read_sql(\"select * from EBAY_TOP_BERLIN where record_time in (select distinct record_time from EBAY_TOP_BERLIN order by record_time desc limit 2)\", sqlite3.connect(\"UsedObjects.db\"))"
   ]
  },
  {
   "cell_type": "code",
   "execution_count": 5,
   "id": "popular-active",
   "metadata": {
    "execution": {
     "iopub.execute_input": "2021-11-13T16:00:11.571404Z",
     "iopub.status.busy": "2021-11-13T16:00:11.558192Z",
     "iopub.status.idle": "2021-11-13T16:00:11.595568Z",
     "shell.execute_reply": "2021-11-13T16:00:11.593169Z"
    },
    "papermill": {
     "duration": 0.078785,
     "end_time": "2021-11-13T16:00:11.596003",
     "exception": false,
     "start_time": "2021-11-13T16:00:11.517218",
     "status": "completed"
    },
    "tags": []
   },
   "outputs": [],
   "source": [
    "df_pivot = df.pivot_table(index=\"PRODUCT\", columns = \"RECORD_TIME\", values = \"LISTING_COUNT\")"
   ]
  },
  {
   "cell_type": "code",
   "execution_count": 6,
   "id": "union-huntington",
   "metadata": {
    "execution": {
     "iopub.execute_input": "2021-11-13T16:00:11.659740Z",
     "iopub.status.busy": "2021-11-13T16:00:11.656972Z",
     "iopub.status.idle": "2021-11-13T16:00:11.665462Z",
     "shell.execute_reply": "2021-11-13T16:00:11.667674Z"
    },
    "papermill": {
     "duration": 0.050485,
     "end_time": "2021-11-13T16:00:11.668286",
     "exception": false,
     "start_time": "2021-11-13T16:00:11.617801",
     "status": "completed"
    },
    "tags": []
   },
   "outputs": [],
   "source": [
    "df_pivot.columns = [\"stamp_1\", \"stamp_2\"]\n",
    "df_pivot_diff = df_pivot.diff(axis=1)"
   ]
  },
  {
   "cell_type": "code",
   "execution_count": 7,
   "id": "fifth-motion",
   "metadata": {
    "execution": {
     "iopub.execute_input": "2021-11-13T16:00:11.727261Z",
     "iopub.status.busy": "2021-11-13T16:00:11.724832Z",
     "iopub.status.idle": "2021-11-13T16:00:13.672088Z",
     "shell.execute_reply": "2021-11-13T16:00:13.674162Z"
    },
    "papermill": {
     "duration": 1.984724,
     "end_time": "2021-11-13T16:00:13.674788",
     "exception": false,
     "start_time": "2021-11-13T16:00:11.690064",
     "status": "completed"
    },
    "tags": []
   },
   "outputs": [
    {
     "data": {
      "text/plain": [
       "<AxesSubplot:ylabel='PRODUCT'>"
      ]
     },
     "execution_count": 7,
     "metadata": {},
     "output_type": "execute_result"
    },
    {
     "data": {
      "image/png": "[encoded data removed]",
      "text/plain": [
       "<Figure size 432x288 with 1 Axes>"
      ]
     },
     "metadata": {
      "needs_background": "light"
     },
     "output_type": "display_data"
    }
   ],
   "source": [
    "df_pivot_diff.sort_values(\"stamp_2\", ascending = False)[\"stamp_2\"].head(10).plot.barh()"
   ]
  },
  {
   "cell_type": "code",
   "execution_count": null,
   "id": "extra-executive",
   "metadata": {
    "papermill": {
     "duration": 0.034091,
     "end_time": "2021-11-13T16:00:13.746073",
     "exception": false,
     "start_time": "2021-11-13T16:00:13.711982",
     "status": "completed"
    },
    "tags": []
   },
   "outputs": [],
   "source": []
  }
 ],
 "metadata": {
  "kernelspec": {
   "display_name": "Python 3",
   "language": "python",
   "name": "python3"
  },
  "language_info": {
   "codemirror_mode": {
    "name": "ipython",
    "version": 3
   },
   "file_extension": ".py",
   "mimetype": "text/x-python",
   "name": "python",
   "nbconvert_exporter": "python",
   "pygments_lexer": "ipython3",
   "version": "3.9.5"
  },
  "papermill": {
   "default_parameters": {},
   "duration": 8.840635,
   "end_time": "2021-11-13T16:00:14.414907",
   "environment_variables": {},
   "exception": null,
   "input_path": "eBay_Overview.ipynb",
   "output_path": "eBay_Overview.ipynb",
   "parameters": {},
   "start_time": "2021-11-13T16:00:05.574272",
   "version": "2.3.3"
  }
 },
 "nbformat": 4,
 "nbformat_minor": 5
}