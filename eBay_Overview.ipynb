{
 "cells": [
  {
   "cell_type": "code",
   "execution_count": 1,
   "id": "reverse-picking",
   "metadata": {
    "execution": {
     "iopub.execute_input": "2021-08-13T18:00:06.684059Z",
     "iopub.status.busy": "2021-08-13T18:00:06.682008Z",
     "iopub.status.idle": "2021-08-13T18:00:07.495414Z",
     "shell.execute_reply": "2021-08-13T18:00:07.496648Z"
    },
    "papermill": {
     "duration": 0.864103,
     "end_time": "2021-08-13T18:00:07.497257",
     "exception": false,
     "start_time": "2021-08-13T18:00:06.633154",
     "status": "completed"
    },
    "tags": []
   },
   "outputs": [],
   "source": [
    "import pandas as pd\n",
    "import sqlite3"
   ]
  },
  {
   "cell_type": "code",
   "execution_count": 2,
   "id": "innovative-syndrome",
   "metadata": {
    "execution": {
     "iopub.execute_input": "2021-08-13T18:00:07.549170Z",
     "iopub.status.busy": "2021-08-13T18:00:07.547300Z",
     "iopub.status.idle": "2021-08-13T18:00:07.589563Z",
     "shell.execute_reply": "2021-08-13T18:00:07.590899Z"
    },
    "papermill": {
     "duration": 0.072119,
     "end_time": "2021-08-13T18:00:07.591320",
     "exception": false,
     "start_time": "2021-08-13T18:00:07.519201",
     "status": "completed"
    },
    "tags": []
   },
   "outputs": [],
   "source": [
    "timestamps = pd.read_sql(\"select distinct record_time from EBAY_TOP_BERLIN order by record_time desc limit 2\", sqlite3.connect(\"UsedObjects.db\"))"
   ]
  },
  {
   "cell_type": "code",
   "execution_count": 3,
   "id": "periodic-identification",
   "metadata": {
    "execution": {
     "iopub.execute_input": "2021-08-13T18:00:07.656709Z",
     "iopub.status.busy": "2021-08-13T18:00:07.654692Z",
     "iopub.status.idle": "2021-08-13T18:00:07.674221Z",
     "shell.execute_reply": "2021-08-13T18:00:07.675552Z"
    },
    "papermill": {
     "duration": 0.065195,
     "end_time": "2021-08-13T18:00:07.675959",
     "exception": false,
     "start_time": "2021-08-13T18:00:07.610764",
     "status": "completed"
    },
    "tags": []
   },
   "outputs": [
    {
     "data": {
      "text/html": [
       "<div>\n",
       "<style scoped>\n",
       "    .dataframe tbody tr th:only-of-type {\n",
       "        vertical-align: middle;\n",
       "    }\n",
       "\n",
       "    .dataframe tbody tr th {\n",
       "        vertical-align: top;\n",
       "    }\n",
       "\n",
       "    .dataframe thead th {\n",
       "        text-align: right;\n",
       "    }\n",
       "</style>\n",
       "<table border=\"1\" class=\"dataframe\">\n",
       "  <thead>\n",
       "    <tr style=\"text-align: right;\">\n",
       "      <th></th>\n",
       "      <th>RECORD_TIME</th>\n",
       "    </tr>\n",
       "  </thead>\n",
       "  <tbody>\n",
       "    <tr>\n",
       "      <th>0</th>\n",
       "      <td>2021-08-13 20:00</td>\n",
       "    </tr>\n",
       "    <tr>\n",
       "      <th>1</th>\n",
       "      <td>2021-08-13 19:30</td>\n",
       "    </tr>\n",
       "  </tbody>\n",
       "</table>\n",
       "</div>"
      ],
      "text/plain": [
       "        RECORD_TIME\n",
       "0  2021-08-13 20:00\n",
       "1  2021-08-13 19:30"
      ]
     },
     "execution_count": 3,
     "metadata": {},
     "output_type": "execute_result"
    }
   ],
   "source": [
    "timestamps"
   ]
  },
  {
   "cell_type": "code",
   "execution_count": 4,
   "id": "alternate-victory",
   "metadata": {
    "execution": {
     "iopub.execute_input": "2021-08-13T18:00:07.728951Z",
     "iopub.status.busy": "2021-08-13T18:00:07.726671Z",
     "iopub.status.idle": "2021-08-13T18:00:07.789528Z",
     "shell.execute_reply": "2021-08-13T18:00:07.790865Z"
    },
    "papermill": {
     "duration": 0.093694,
     "end_time": "2021-08-13T18:00:07.791287",
     "exception": false,
     "start_time": "2021-08-13T18:00:07.697593",
     "status": "completed"
    },
    "tags": []
   },
   "outputs": [],
   "source": [
    "df = pd.read_sql(\"select * from EBAY_TOP_BERLIN where record_time in (select distinct record_time from EBAY_TOP_BERLIN order by record_time desc limit 2)\", sqlite3.connect(\"UsedObjects.db\"))"
   ]
  },
  {
   "cell_type": "code",
   "execution_count": 5,
   "id": "popular-active",
   "metadata": {
    "execution": {
     "iopub.execute_input": "2021-08-13T18:00:07.861692Z",
     "iopub.status.busy": "2021-08-13T18:00:07.850746Z",
     "iopub.status.idle": "2021-08-13T18:00:07.880040Z",
     "shell.execute_reply": "2021-08-13T18:00:07.878432Z"
    },
    "papermill": {
     "duration": 0.067276,
     "end_time": "2021-08-13T18:00:07.880419",
     "exception": false,
     "start_time": "2021-08-13T18:00:07.813143",
     "status": "completed"
    },
    "tags": []
   },
   "outputs": [],
   "source": [
    "df_pivot = df.pivot_table(index=\"PRODUCT\", columns = \"RECORD_TIME\", values = \"LISTING_COUNT\")"
   ]
  },
  {
   "cell_type": "code",
   "execution_count": 6,
   "id": "union-huntington",
   "metadata": {
    "execution": {
     "iopub.execute_input": "2021-08-13T18:00:07.937739Z",
     "iopub.status.busy": "2021-08-13T18:00:07.935643Z",
     "iopub.status.idle": "2021-08-13T18:00:07.940847Z",
     "shell.execute_reply": "2021-08-13T18:00:07.942194Z"
    },
    "papermill": {
     "duration": 0.04151,
     "end_time": "2021-08-13T18:00:07.942620",
     "exception": false,
     "start_time": "2021-08-13T18:00:07.901110",
     "status": "completed"
    },
    "tags": []
   },
   "outputs": [],
   "source": [
    "df_pivot.columns = [\"stamp_1\", \"stamp_2\"]\n",
    "df_pivot_diff = df_pivot.diff(axis=1)"
   ]
  },
  {
   "cell_type": "code",
   "execution_count": 7,
   "id": "fifth-motion",
   "metadata": {
    "execution": {
     "iopub.execute_input": "2021-08-13T18:00:07.997121Z",
     "iopub.status.busy": "2021-08-13T18:00:07.994738Z",
     "iopub.status.idle": "2021-08-13T18:00:09.492257Z",
     "shell.execute_reply": "2021-08-13T18:00:09.493533Z"
    },
    "papermill": {
     "duration": 1.530744,
     "end_time": "2021-08-13T18:00:09.494013",
     "exception": false,
     "start_time": "2021-08-13T18:00:07.963269",
     "status": "completed"
    },
    "tags": []
   },
   "outputs": [
    {
     "data": {
      "text/plain": [
       "<AxesSubplot:ylabel='PRODUCT'>"
      ]
     },
     "execution_count": 7,
     "metadata": {},
     "output_type": "execute_result"
    },
    {
     "data": {
      "image/png": "[encoded data removed]",
      "text/plain": [
       "<Figure size 432x288 with 1 Axes>"
      ]
     },
     "metadata": {
      "needs_background": "light"
     },
     "output_type": "display_data"
    }
   ],
   "source": [
    "df_pivot_diff.sort_values(\"stamp_2\", ascending = False)[\"stamp_2\"].head(10).plot.barh()"
   ]
  },
  {
   "cell_type": "code",
   "execution_count": null,
   "id": "extra-executive",
   "metadata": {
    "papermill": {
     "duration": 0.022726,
     "end_time": "2021-08-13T18:00:09.541944",
     "exception": false,
     "start_time": "2021-08-13T18:00:09.519218",
     "status": "completed"
    },
    "tags": []
   },
   "outputs": [],
   "source": []
  }
 ],
 "metadata": {
  "kernelspec": {
   "display_name": "Python 3",
   "language": "python",
   "name": "python3"
  },
  "language_info": {
   "codemirror_mode": {
    "name": "ipython",
    "version": 3
   },
   "file_extension": ".py",
   "mimetype": "text/x-python",
   "name": "python",
   "nbconvert_exporter": "python",
   "pygments_lexer": "ipython3",
   "version": "3.9.5"
  },
  "papermill": {
   "default_parameters": {},
   "duration": 6.835306,
   "end_time": "2021-08-13T18:00:11.038707",
   "environment_variables": {},
   "exception": null,
   "input_path": "eBay_Overview.ipynb",
   "output_path": "eBay_Overview.ipynb",
   "parameters": {},
   "start_time": "2021-08-13T18:00:04.203401",
   "version": "2.3.3"
  }
 },
 "nbformat": 4,
 "nbformat_minor": 5
}