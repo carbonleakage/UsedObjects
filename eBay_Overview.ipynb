{
 "cells": [
  {
   "cell_type": "code",
   "execution_count": 1,
   "id": "reverse-picking",
   "metadata": {
    "execution": {
     "iopub.execute_input": "2021-10-30T22:00:06.990885Z",
     "iopub.status.busy": "2021-10-30T22:00:06.988964Z",
     "iopub.status.idle": "2021-10-30T22:00:07.794030Z",
     "shell.execute_reply": "2021-10-30T22:00:07.795273Z"
    },
    "papermill": {
     "duration": 0.857191,
     "end_time": "2021-10-30T22:00:07.795887",
     "exception": false,
     "start_time": "2021-10-30T22:00:06.938696",
     "status": "completed"
    },
    "tags": []
   },
   "outputs": [],
   "source": [
    "import pandas as pd\n",
    "import sqlite3"
   ]
  },
  {
   "cell_type": "code",
   "execution_count": 2,
   "id": "innovative-syndrome",
   "metadata": {
    "execution": {
     "iopub.execute_input": "2021-10-30T22:00:07.847047Z",
     "iopub.status.busy": "2021-10-30T22:00:07.845184Z",
     "iopub.status.idle": "2021-10-30T22:00:08.530432Z",
     "shell.execute_reply": "2021-10-30T22:00:08.531528Z"
    },
    "papermill": {
     "duration": 0.715001,
     "end_time": "2021-10-30T22:00:08.531936",
     "exception": false,
     "start_time": "2021-10-30T22:00:07.816935",
     "status": "completed"
    },
    "tags": []
   },
   "outputs": [],
   "source": [
    "timestamps = pd.read_sql(\"select distinct record_time from EBAY_TOP_BERLIN order by record_time desc limit 2\", sqlite3.connect(\"UsedObjects.db\"))"
   ]
  },
  {
   "cell_type": "code",
   "execution_count": 3,
   "id": "periodic-identification",
   "metadata": {
    "execution": {
     "iopub.execute_input": "2021-10-30T22:00:08.613785Z",
     "iopub.status.busy": "2021-10-30T22:00:08.611431Z",
     "iopub.status.idle": "2021-10-30T22:00:08.632676Z",
     "shell.execute_reply": "2021-10-30T22:00:08.633970Z"
    },
    "papermill": {
     "duration": 0.072037,
     "end_time": "2021-10-30T22:00:08.634369",
     "exception": false,
     "start_time": "2021-10-30T22:00:08.562332",
     "status": "completed"
    },
    "tags": []
   },
   "outputs": [
    {
     "data": {
      "text/html": [
       "<div>\n",
       "<style scoped>\n",
       "    .dataframe tbody tr th:only-of-type {\n",
       "        vertical-align: middle;\n",
       "    }\n",
       "\n",
       "    .dataframe tbody tr th {\n",
       "        vertical-align: top;\n",
       "    }\n",
       "\n",
       "    .dataframe thead th {\n",
       "        text-align: right;\n",
       "    }\n",
       "</style>\n",
       "<table border=\"1\" class=\"dataframe\">\n",
       "  <thead>\n",
       "    <tr style=\"text-align: right;\">\n",
       "      <th></th>\n",
       "      <th>RECORD_TIME</th>\n",
       "    </tr>\n",
       "  </thead>\n",
       "  <tbody>\n",
       "    <tr>\n",
       "      <th>0</th>\n",
       "      <td>2021-10-31 00:00</td>\n",
       "    </tr>\n",
       "    <tr>\n",
       "      <th>1</th>\n",
       "      <td>2021-10-30 23:30</td>\n",
       "    </tr>\n",
       "  </tbody>\n",
       "</table>\n",
       "</div>"
      ],
      "text/plain": [
       "        RECORD_TIME\n",
       "0  2021-10-31 00:00\n",
       "1  2021-10-30 23:30"
      ]
     },
     "execution_count": 3,
     "metadata": {},
     "output_type": "execute_result"
    }
   ],
   "source": [
    "timestamps"
   ]
  },
  {
   "cell_type": "code",
   "execution_count": 4,
   "id": "alternate-victory",
   "metadata": {
    "execution": {
     "iopub.execute_input": "2021-10-30T22:00:08.685973Z",
     "iopub.status.busy": "2021-10-30T22:00:08.683897Z",
     "iopub.status.idle": "2021-10-30T22:00:09.667985Z",
     "shell.execute_reply": "2021-10-30T22:00:09.670037Z"
    },
    "papermill": {
     "duration": 1.015048,
     "end_time": "2021-10-30T22:00:09.670585",
     "exception": false,
     "start_time": "2021-10-30T22:00:08.655537",
     "status": "completed"
    },
    "tags": []
   },
   "outputs": [],
   "source": [
    "df = pd.read_sql(\"select * from EBAY_TOP_BERLIN where record_time in (select distinct record_time from EBAY_TOP_BERLIN order by record_time desc limit 2)\", sqlite3.connect(\"UsedObjects.db\"))"
   ]
  },
  {
   "cell_type": "code",
   "execution_count": 5,
   "id": "popular-active",
   "metadata": {
    "execution": {
     "iopub.execute_input": "2021-10-30T22:00:09.742519Z",
     "iopub.status.busy": "2021-10-30T22:00:09.729914Z",
     "iopub.status.idle": "2021-10-30T22:00:09.759426Z",
     "shell.execute_reply": "2021-10-30T22:00:09.761092Z"
    },
    "papermill": {
     "duration": 0.070442,
     "end_time": "2021-10-30T22:00:09.761575",
     "exception": false,
     "start_time": "2021-10-30T22:00:09.691133",
     "status": "completed"
    },
    "tags": []
   },
   "outputs": [],
   "source": [
    "df_pivot = df.pivot_table(index=\"PRODUCT\", columns = \"RECORD_TIME\", values = \"LISTING_COUNT\")"
   ]
  },
  {
   "cell_type": "code",
   "execution_count": 6,
   "id": "union-huntington",
   "metadata": {
    "execution": {
     "iopub.execute_input": "2021-10-30T22:00:09.820438Z",
     "iopub.status.busy": "2021-10-30T22:00:09.818342Z",
     "iopub.status.idle": "2021-10-30T22:00:09.823773Z",
     "shell.execute_reply": "2021-10-30T22:00:09.825152Z"
    },
    "papermill": {
     "duration": 0.04155,
     "end_time": "2021-10-30T22:00:09.825573",
     "exception": false,
     "start_time": "2021-10-30T22:00:09.784023",
     "status": "completed"
    },
    "tags": []
   },
   "outputs": [],
   "source": [
    "df_pivot.columns = [\"stamp_1\", \"stamp_2\"]\n",
    "df_pivot_diff = df_pivot.diff(axis=1)"
   ]
  },
  {
   "cell_type": "code",
   "execution_count": 7,
   "id": "fifth-motion",
   "metadata": {
    "execution": {
     "iopub.execute_input": "2021-10-30T22:00:09.879888Z",
     "iopub.status.busy": "2021-10-30T22:00:09.877508Z",
     "iopub.status.idle": "2021-10-30T22:00:11.358225Z",
     "shell.execute_reply": "2021-10-30T22:00:11.359500Z"
    },
    "papermill": {
     "duration": 1.513675,
     "end_time": "2021-10-30T22:00:11.359911",
     "exception": false,
     "start_time": "2021-10-30T22:00:09.846236",
     "status": "completed"
    },
    "tags": []
   },
   "outputs": [
    {
     "data": {
      "text/plain": [
       "<AxesSubplot:ylabel='PRODUCT'>"
      ]
     },
     "execution_count": 7,
     "metadata": {},
     "output_type": "execute_result"
    },
    {
     "data": {
      "image/png": "[encoded data removed]",
      "text/plain": [
       "<Figure size 432x288 with 1 Axes>"
      ]
     },
     "metadata": {
      "needs_background": "light"
     },
     "output_type": "display_data"
    }
   ],
   "source": [
    "df_pivot_diff.sort_values(\"stamp_2\", ascending = False)[\"stamp_2\"].head(10).plot.barh()"
   ]
  },
  {
   "cell_type": "code",
   "execution_count": null,
   "id": "extra-executive",
   "metadata": {
    "papermill": {
     "duration": 0.022211,
     "end_time": "2021-10-30T22:00:11.408455",
     "exception": false,
     "start_time": "2021-10-30T22:00:11.386244",
     "status": "completed"
    },
    "tags": []
   },
   "outputs": [],
   "source": []
  }
 ],
 "metadata": {
  "kernelspec": {
   "display_name": "Python 3",
   "language": "python",
   "name": "python3"
  },
  "language_info": {
   "codemirror_mode": {
    "name": "ipython",
    "version": 3
   },
   "file_extension": ".py",
   "mimetype": "text/x-python",
   "name": "python",
   "nbconvert_exporter": "python",
   "pygments_lexer": "ipython3",
   "version": "3.9.5"
  },
  "papermill": {
   "default_parameters": {},
   "duration": 7.526863,
   "end_time": "2021-10-30T22:00:12.051996",
   "environment_variables": {},
   "exception": null,
   "input_path": "eBay_Overview.ipynb",
   "output_path": "eBay_Overview.ipynb",
   "parameters": {},
   "start_time": "2021-10-30T22:00:04.525133",
   "version": "2.3.3"
  }
 },
 "nbformat": 4,
 "nbformat_minor": 5
}