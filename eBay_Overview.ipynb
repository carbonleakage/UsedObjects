{
 "cells": [
  {
   "cell_type": "code",
   "execution_count": 1,
   "id": "reverse-picking",
   "metadata": {
    "execution": {
     "iopub.execute_input": "2021-12-13T20:00:07.728548Z",
     "iopub.status.busy": "2021-12-13T20:00:07.715633Z",
     "iopub.status.idle": "2021-12-13T20:00:08.683720Z",
     "shell.execute_reply": "2021-12-13T20:00:08.685337Z"
    },
    "papermill": {
     "duration": 1.018874,
     "end_time": "2021-12-13T20:00:08.686067",
     "exception": false,
     "start_time": "2021-12-13T20:00:07.667193",
     "status": "completed"
    },
    "tags": []
   },
   "outputs": [],
   "source": [
    "import pandas as pd\n",
    "import sqlite3"
   ]
  },
  {
   "cell_type": "code",
   "execution_count": 2,
   "id": "innovative-syndrome",
   "metadata": {
    "execution": {
     "iopub.execute_input": "2021-12-13T20:00:08.749558Z",
     "iopub.status.busy": "2021-12-13T20:00:08.747306Z",
     "iopub.status.idle": "2021-12-13T20:00:09.840065Z",
     "shell.execute_reply": "2021-12-13T20:00:09.841596Z"
    },
    "papermill": {
     "duration": 1.128163,
     "end_time": "2021-12-13T20:00:09.842102",
     "exception": false,
     "start_time": "2021-12-13T20:00:08.713939",
     "status": "completed"
    },
    "tags": []
   },
   "outputs": [],
   "source": [
    "timestamps = pd.read_sql(\"select distinct record_time from EBAY_TOP_BERLIN order by record_time desc limit 2\", sqlite3.connect(\"UsedObjects.db\"))"
   ]
  },
  {
   "cell_type": "code",
   "execution_count": 3,
   "id": "periodic-identification",
   "metadata": {
    "execution": {
     "iopub.execute_input": "2021-12-13T20:00:09.912835Z",
     "iopub.status.busy": "2021-12-13T20:00:09.910462Z",
     "iopub.status.idle": "2021-12-13T20:00:09.936924Z",
     "shell.execute_reply": "2021-12-13T20:00:09.934484Z"
    },
    "papermill": {
     "duration": 0.074378,
     "end_time": "2021-12-13T20:00:09.937402",
     "exception": false,
     "start_time": "2021-12-13T20:00:09.863024",
     "status": "completed"
    },
    "tags": []
   },
   "outputs": [
    {
     "data": {
      "text/html": [
       "<div>\n",
       "<style scoped>\n",
       "    .dataframe tbody tr th:only-of-type {\n",
       "        vertical-align: middle;\n",
       "    }\n",
       "\n",
       "    .dataframe tbody tr th {\n",
       "        vertical-align: top;\n",
       "    }\n",
       "\n",
       "    .dataframe thead th {\n",
       "        text-align: right;\n",
       "    }\n",
       "</style>\n",
       "<table border=\"1\" class=\"dataframe\">\n",
       "  <thead>\n",
       "    <tr style=\"text-align: right;\">\n",
       "      <th></th>\n",
       "      <th>RECORD_TIME</th>\n",
       "    </tr>\n",
       "  </thead>\n",
       "  <tbody>\n",
       "    <tr>\n",
       "      <th>0</th>\n",
       "      <td>2021-12-13 21:00</td>\n",
       "    </tr>\n",
       "    <tr>\n",
       "      <th>1</th>\n",
       "      <td>2021-12-13 20:30</td>\n",
       "    </tr>\n",
       "  </tbody>\n",
       "</table>\n",
       "</div>"
      ],
      "text/plain": [
       "        RECORD_TIME\n",
       "0  2021-12-13 21:00\n",
       "1  2021-12-13 20:30"
      ]
     },
     "execution_count": 3,
     "metadata": {},
     "output_type": "execute_result"
    }
   ],
   "source": [
    "timestamps"
   ]
  },
  {
   "cell_type": "code",
   "execution_count": 4,
   "id": "alternate-victory",
   "metadata": {
    "execution": {
     "iopub.execute_input": "2021-12-13T20:00:09.991833Z",
     "iopub.status.busy": "2021-12-13T20:00:09.989993Z",
     "iopub.status.idle": "2021-12-13T20:00:11.544339Z",
     "shell.execute_reply": "2021-12-13T20:00:11.546599Z"
    },
    "papermill": {
     "duration": 1.585222,
     "end_time": "2021-12-13T20:00:11.547125",
     "exception": false,
     "start_time": "2021-12-13T20:00:09.961903",
     "status": "completed"
    },
    "tags": []
   },
   "outputs": [],
   "source": [
    "df = pd.read_sql(\"select * from EBAY_TOP_BERLIN where record_time in (select distinct record_time from EBAY_TOP_BERLIN order by record_time desc limit 2)\", sqlite3.connect(\"UsedObjects.db\"))"
   ]
  },
  {
   "cell_type": "code",
   "execution_count": 5,
   "id": "popular-active",
   "metadata": {
    "execution": {
     "iopub.execute_input": "2021-12-13T20:00:11.621263Z",
     "iopub.status.busy": "2021-12-13T20:00:11.618857Z",
     "iopub.status.idle": "2021-12-13T20:00:11.652671Z",
     "shell.execute_reply": "2021-12-13T20:00:11.651034Z"
    },
    "papermill": {
     "duration": 0.081775,
     "end_time": "2021-12-13T20:00:11.653156",
     "exception": false,
     "start_time": "2021-12-13T20:00:11.571381",
     "status": "completed"
    },
    "tags": []
   },
   "outputs": [],
   "source": [
    "df_pivot = df.pivot_table(index=\"PRODUCT\", columns = \"RECORD_TIME\", values = \"LISTING_COUNT\")"
   ]
  },
  {
   "cell_type": "code",
   "execution_count": 6,
   "id": "union-huntington",
   "metadata": {
    "execution": {
     "iopub.execute_input": "2021-12-13T20:00:11.711458Z",
     "iopub.status.busy": "2021-12-13T20:00:11.709225Z",
     "iopub.status.idle": "2021-12-13T20:00:11.716477Z",
     "shell.execute_reply": "2021-12-13T20:00:11.715029Z"
    },
    "papermill": {
     "duration": 0.043341,
     "end_time": "2021-12-13T20:00:11.716961",
     "exception": false,
     "start_time": "2021-12-13T20:00:11.673620",
     "status": "completed"
    },
    "tags": []
   },
   "outputs": [],
   "source": [
    "df_pivot.columns = [\"stamp_1\", \"stamp_2\"]\n",
    "df_pivot_diff = df_pivot.diff(axis=1)"
   ]
  },
  {
   "cell_type": "code",
   "execution_count": 7,
   "id": "fifth-motion",
   "metadata": {
    "execution": {
     "iopub.execute_input": "2021-12-13T20:00:11.774093Z",
     "iopub.status.busy": "2021-12-13T20:00:11.771462Z",
     "iopub.status.idle": "2021-12-13T20:00:13.830771Z",
     "shell.execute_reply": "2021-12-13T20:00:13.832428Z"
    },
    "papermill": {
     "duration": 2.09638,
     "end_time": "2021-12-13T20:00:13.832998",
     "exception": false,
     "start_time": "2021-12-13T20:00:11.736618",
     "status": "completed"
    },
    "tags": []
   },
   "outputs": [
    {
     "data": {
      "text/plain": [
       "<AxesSubplot:ylabel='PRODUCT'>"
      ]
     },
     "execution_count": 7,
     "metadata": {},
     "output_type": "execute_result"
    },
    {
     "data": {
      "image/png": "[encoded data removed]",
      "text/plain": [
       "<Figure size 432x288 with 1 Axes>"
      ]
     },
     "metadata": {
      "needs_background": "light"
     },
     "output_type": "display_data"
    }
   ],
   "source": [
    "df_pivot_diff.sort_values(\"stamp_2\", ascending = False)[\"stamp_2\"].head(10).plot.barh()"
   ]
  },
  {
   "cell_type": "code",
   "execution_count": null,
   "id": "extra-executive",
   "metadata": {
    "papermill": {
     "duration": 0.023873,
     "end_time": "2021-12-13T20:00:13.881938",
     "exception": false,
     "start_time": "2021-12-13T20:00:13.858065",
     "status": "completed"
    },
    "tags": []
   },
   "outputs": [],
   "source": []
  }
 ],
 "metadata": {
  "kernelspec": {
   "display_name": "Python 3",
   "language": "python",
   "name": "python3"
  },
  "language_info": {
   "codemirror_mode": {
    "name": "ipython",
    "version": 3
   },
   "file_extension": ".py",
   "mimetype": "text/x-python",
   "name": "python",
   "nbconvert_exporter": "python",
   "pygments_lexer": "ipython3",
   "version": "3.9.5"
  },
  "papermill": {
   "default_parameters": {},
   "duration": 9.599986,
   "end_time": "2021-12-13T20:00:14.523486",
   "environment_variables": {},
   "exception": null,
   "input_path": "eBay_Overview.ipynb",
   "output_path": "eBay_Overview.ipynb",
   "parameters": {},
   "start_time": "2021-12-13T20:00:04.923500",
   "version": "2.3.3"
  }
 },
 "nbformat": 4,
 "nbformat_minor": 5
}