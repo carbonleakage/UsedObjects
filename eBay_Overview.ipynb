{
 "cells": [
  {
   "cell_type": "code",
   "execution_count": 1,
   "id": "reverse-picking",
   "metadata": {
    "execution": {
     "iopub.execute_input": "2021-08-26T23:30:06.762797Z",
     "iopub.status.busy": "2021-08-26T23:30:06.760910Z",
     "iopub.status.idle": "2021-08-26T23:30:07.568853Z",
     "shell.execute_reply": "2021-08-26T23:30:07.570116Z"
    },
    "papermill": {
     "duration": 0.861091,
     "end_time": "2021-08-26T23:30:07.570735",
     "exception": false,
     "start_time": "2021-08-26T23:30:06.709644",
     "status": "completed"
    },
    "tags": []
   },
   "outputs": [],
   "source": [
    "import pandas as pd\n",
    "import sqlite3"
   ]
  },
  {
   "cell_type": "code",
   "execution_count": 2,
   "id": "innovative-syndrome",
   "metadata": {
    "execution": {
     "iopub.execute_input": "2021-08-26T23:30:07.623801Z",
     "iopub.status.busy": "2021-08-26T23:30:07.621489Z",
     "iopub.status.idle": "2021-08-26T23:30:07.767245Z",
     "shell.execute_reply": "2021-08-26T23:30:07.768615Z"
    },
    "papermill": {
     "duration": 0.175443,
     "end_time": "2021-08-26T23:30:07.769054",
     "exception": false,
     "start_time": "2021-08-26T23:30:07.593611",
     "status": "completed"
    },
    "tags": []
   },
   "outputs": [],
   "source": [
    "timestamps = pd.read_sql(\"select distinct record_time from EBAY_TOP_BERLIN order by record_time desc limit 2\", sqlite3.connect(\"UsedObjects.db\"))"
   ]
  },
  {
   "cell_type": "code",
   "execution_count": 3,
   "id": "periodic-identification",
   "metadata": {
    "execution": {
     "iopub.execute_input": "2021-08-26T23:30:07.834794Z",
     "iopub.status.busy": "2021-08-26T23:30:07.832799Z",
     "iopub.status.idle": "2021-08-26T23:30:07.852626Z",
     "shell.execute_reply": "2021-08-26T23:30:07.853916Z"
    },
    "papermill": {
     "duration": 0.065846,
     "end_time": "2021-08-26T23:30:07.854335",
     "exception": false,
     "start_time": "2021-08-26T23:30:07.788489",
     "status": "completed"
    },
    "tags": []
   },
   "outputs": [
    {
     "data": {
      "text/html": [
       "<div>\n",
       "<style scoped>\n",
       "    .dataframe tbody tr th:only-of-type {\n",
       "        vertical-align: middle;\n",
       "    }\n",
       "\n",
       "    .dataframe tbody tr th {\n",
       "        vertical-align: top;\n",
       "    }\n",
       "\n",
       "    .dataframe thead th {\n",
       "        text-align: right;\n",
       "    }\n",
       "</style>\n",
       "<table border=\"1\" class=\"dataframe\">\n",
       "  <thead>\n",
       "    <tr style=\"text-align: right;\">\n",
       "      <th></th>\n",
       "      <th>RECORD_TIME</th>\n",
       "    </tr>\n",
       "  </thead>\n",
       "  <tbody>\n",
       "    <tr>\n",
       "      <th>0</th>\n",
       "      <td>2021-08-27 01:30</td>\n",
       "    </tr>\n",
       "    <tr>\n",
       "      <th>1</th>\n",
       "      <td>2021-08-27 01:00</td>\n",
       "    </tr>\n",
       "  </tbody>\n",
       "</table>\n",
       "</div>"
      ],
      "text/plain": [
       "        RECORD_TIME\n",
       "0  2021-08-27 01:30\n",
       "1  2021-08-27 01:00"
      ]
     },
     "execution_count": 3,
     "metadata": {},
     "output_type": "execute_result"
    }
   ],
   "source": [
    "timestamps"
   ]
  },
  {
   "cell_type": "code",
   "execution_count": 4,
   "id": "alternate-victory",
   "metadata": {
    "execution": {
     "iopub.execute_input": "2021-08-26T23:30:07.905328Z",
     "iopub.status.busy": "2021-08-26T23:30:07.903416Z",
     "iopub.status.idle": "2021-08-26T23:30:08.117569Z",
     "shell.execute_reply": "2021-08-26T23:30:08.118842Z"
    },
    "papermill": {
     "duration": 0.243823,
     "end_time": "2021-08-26T23:30:08.119246",
     "exception": false,
     "start_time": "2021-08-26T23:30:07.875423",
     "status": "completed"
    },
    "tags": []
   },
   "outputs": [],
   "source": [
    "df = pd.read_sql(\"select * from EBAY_TOP_BERLIN where record_time in (select distinct record_time from EBAY_TOP_BERLIN order by record_time desc limit 2)\", sqlite3.connect(\"UsedObjects.db\"))"
   ]
  },
  {
   "cell_type": "code",
   "execution_count": 5,
   "id": "popular-active",
   "metadata": {
    "execution": {
     "iopub.execute_input": "2021-08-26T23:30:08.179626Z",
     "iopub.status.busy": "2021-08-26T23:30:08.177608Z",
     "iopub.status.idle": "2021-08-26T23:30:08.204822Z",
     "shell.execute_reply": "2021-08-26T23:30:08.206039Z"
    },
    "papermill": {
     "duration": 0.0665,
     "end_time": "2021-08-26T23:30:08.206439",
     "exception": false,
     "start_time": "2021-08-26T23:30:08.139939",
     "status": "completed"
    },
    "tags": []
   },
   "outputs": [],
   "source": [
    "df_pivot = df.pivot_table(index=\"PRODUCT\", columns = \"RECORD_TIME\", values = \"LISTING_COUNT\")"
   ]
  },
  {
   "cell_type": "code",
   "execution_count": 6,
   "id": "union-huntington",
   "metadata": {
    "execution": {
     "iopub.execute_input": "2021-08-26T23:30:08.278786Z",
     "iopub.status.busy": "2021-08-26T23:30:08.276373Z",
     "iopub.status.idle": "2021-08-26T23:30:08.282561Z",
     "shell.execute_reply": "2021-08-26T23:30:08.283906Z"
    },
    "papermill": {
     "duration": 0.046976,
     "end_time": "2021-08-26T23:30:08.284437",
     "exception": false,
     "start_time": "2021-08-26T23:30:08.237461",
     "status": "completed"
    },
    "tags": []
   },
   "outputs": [],
   "source": [
    "df_pivot.columns = [\"stamp_1\", \"stamp_2\"]\n",
    "df_pivot_diff = df_pivot.diff(axis=1)"
   ]
  },
  {
   "cell_type": "code",
   "execution_count": 7,
   "id": "fifth-motion",
   "metadata": {
    "execution": {
     "iopub.execute_input": "2021-08-26T23:30:08.338700Z",
     "iopub.status.busy": "2021-08-26T23:30:08.336371Z",
     "iopub.status.idle": "2021-08-26T23:30:09.814044Z",
     "shell.execute_reply": "2021-08-26T23:30:09.815324Z"
    },
    "papermill": {
     "duration": 1.510196,
     "end_time": "2021-08-26T23:30:09.815745",
     "exception": false,
     "start_time": "2021-08-26T23:30:08.305549",
     "status": "completed"
    },
    "tags": []
   },
   "outputs": [
    {
     "data": {
      "text/plain": [
       "<AxesSubplot:ylabel='PRODUCT'>"
      ]
     },
     "execution_count": 7,
     "metadata": {},
     "output_type": "execute_result"
    },
    {
     "data": {
      "image/png": "[encoded data removed]",
      "text/plain": [
       "<Figure size 432x288 with 1 Axes>"
      ]
     },
     "metadata": {
      "needs_background": "light"
     },
     "output_type": "display_data"
    }
   ],
   "source": [
    "df_pivot_diff.sort_values(\"stamp_2\", ascending = False)[\"stamp_2\"].head(10).plot.barh()"
   ]
  },
  {
   "cell_type": "code",
   "execution_count": null,
   "id": "extra-executive",
   "metadata": {
    "papermill": {
     "duration": 0.022115,
     "end_time": "2021-08-26T23:30:09.861525",
     "exception": false,
     "start_time": "2021-08-26T23:30:09.839410",
     "status": "completed"
    },
    "tags": []
   },
   "outputs": [],
   "source": []
  }
 ],
 "metadata": {
  "kernelspec": {
   "display_name": "Python 3",
   "language": "python",
   "name": "python3"
  },
  "language_info": {
   "codemirror_mode": {
    "name": "ipython",
    "version": 3
   },
   "file_extension": ".py",
   "mimetype": "text/x-python",
   "name": "python",
   "nbconvert_exporter": "python",
   "pygments_lexer": "ipython3",
   "version": "3.9.5"
  },
  "papermill": {
   "default_parameters": {},
   "duration": 6.82619,
   "end_time": "2021-08-26T23:30:11.140754",
   "environment_variables": {},
   "exception": null,
   "input_path": "eBay_Overview.ipynb",
   "output_path": "eBay_Overview.ipynb",
   "parameters": {},
   "start_time": "2021-08-26T23:30:04.314564",
   "version": "2.3.3"
  }
 },
 "nbformat": 4,
 "nbformat_minor": 5
}