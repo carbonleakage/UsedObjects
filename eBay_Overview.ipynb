{
 "cells": [
  {
   "cell_type": "code",
   "execution_count": 1,
   "id": "reverse-picking",
   "metadata": {
    "execution": {
     "iopub.execute_input": "2021-09-15T09:30:06.748805Z",
     "iopub.status.busy": "2021-09-15T09:30:06.746776Z",
     "iopub.status.idle": "2021-09-15T09:30:07.560106Z",
     "shell.execute_reply": "2021-09-15T09:30:07.558282Z"
    },
    "papermill": {
     "duration": 0.863435,
     "end_time": "2021-09-15T09:30:07.560637",
     "exception": false,
     "start_time": "2021-09-15T09:30:06.697202",
     "status": "completed"
    },
    "tags": []
   },
   "outputs": [],
   "source": [
    "import pandas as pd\n",
    "import sqlite3"
   ]
  },
  {
   "cell_type": "code",
   "execution_count": 2,
   "id": "innovative-syndrome",
   "metadata": {
    "execution": {
     "iopub.execute_input": "2021-09-15T09:30:07.612827Z",
     "iopub.status.busy": "2021-09-15T09:30:07.610405Z",
     "iopub.status.idle": "2021-09-15T09:30:07.905622Z",
     "shell.execute_reply": "2021-09-15T09:30:07.906997Z"
    },
    "papermill": {
     "duration": 0.325516,
     "end_time": "2021-09-15T09:30:07.907421",
     "exception": false,
     "start_time": "2021-09-15T09:30:07.581905",
     "status": "completed"
    },
    "tags": []
   },
   "outputs": [],
   "source": [
    "timestamps = pd.read_sql(\"select distinct record_time from EBAY_TOP_BERLIN order by record_time desc limit 2\", sqlite3.connect(\"UsedObjects.db\"))"
   ]
  },
  {
   "cell_type": "code",
   "execution_count": 3,
   "id": "periodic-identification",
   "metadata": {
    "execution": {
     "iopub.execute_input": "2021-09-15T09:30:07.974595Z",
     "iopub.status.busy": "2021-09-15T09:30:07.972533Z",
     "iopub.status.idle": "2021-09-15T09:30:07.993501Z",
     "shell.execute_reply": "2021-09-15T09:30:07.995150Z"
    },
    "papermill": {
     "duration": 0.067302,
     "end_time": "2021-09-15T09:30:07.995655",
     "exception": false,
     "start_time": "2021-09-15T09:30:07.928353",
     "status": "completed"
    },
    "tags": []
   },
   "outputs": [
    {
     "data": {
      "text/html": [
       "<div>\n",
       "<style scoped>\n",
       "    .dataframe tbody tr th:only-of-type {\n",
       "        vertical-align: middle;\n",
       "    }\n",
       "\n",
       "    .dataframe tbody tr th {\n",
       "        vertical-align: top;\n",
       "    }\n",
       "\n",
       "    .dataframe thead th {\n",
       "        text-align: right;\n",
       "    }\n",
       "</style>\n",
       "<table border=\"1\" class=\"dataframe\">\n",
       "  <thead>\n",
       "    <tr style=\"text-align: right;\">\n",
       "      <th></th>\n",
       "      <th>RECORD_TIME</th>\n",
       "    </tr>\n",
       "  </thead>\n",
       "  <tbody>\n",
       "    <tr>\n",
       "      <th>0</th>\n",
       "      <td>2021-09-15 11:30</td>\n",
       "    </tr>\n",
       "    <tr>\n",
       "      <th>1</th>\n",
       "      <td>2021-09-15 11:00</td>\n",
       "    </tr>\n",
       "  </tbody>\n",
       "</table>\n",
       "</div>"
      ],
      "text/plain": [
       "        RECORD_TIME\n",
       "0  2021-09-15 11:30\n",
       "1  2021-09-15 11:00"
      ]
     },
     "execution_count": 3,
     "metadata": {},
     "output_type": "execute_result"
    }
   ],
   "source": [
    "timestamps"
   ]
  },
  {
   "cell_type": "code",
   "execution_count": 4,
   "id": "alternate-victory",
   "metadata": {
    "execution": {
     "iopub.execute_input": "2021-09-15T09:30:08.047513Z",
     "iopub.status.busy": "2021-09-15T09:30:08.045530Z",
     "iopub.status.idle": "2021-09-15T09:30:08.470912Z",
     "shell.execute_reply": "2021-09-15T09:30:08.472177Z"
    },
    "papermill": {
     "duration": 0.455345,
     "end_time": "2021-09-15T09:30:08.472576",
     "exception": false,
     "start_time": "2021-09-15T09:30:08.017231",
     "status": "completed"
    },
    "tags": []
   },
   "outputs": [],
   "source": [
    "df = pd.read_sql(\"select * from EBAY_TOP_BERLIN where record_time in (select distinct record_time from EBAY_TOP_BERLIN order by record_time desc limit 2)\", sqlite3.connect(\"UsedObjects.db\"))"
   ]
  },
  {
   "cell_type": "code",
   "execution_count": 5,
   "id": "popular-active",
   "metadata": {
    "execution": {
     "iopub.execute_input": "2021-09-15T09:30:08.553462Z",
     "iopub.status.busy": "2021-09-15T09:30:08.540811Z",
     "iopub.status.idle": "2021-09-15T09:30:08.569300Z",
     "shell.execute_reply": "2021-09-15T09:30:08.570608Z"
    },
    "papermill": {
     "duration": 0.071713,
     "end_time": "2021-09-15T09:30:08.571081",
     "exception": false,
     "start_time": "2021-09-15T09:30:08.499368",
     "status": "completed"
    },
    "tags": []
   },
   "outputs": [],
   "source": [
    "df_pivot = df.pivot_table(index=\"PRODUCT\", columns = \"RECORD_TIME\", values = \"LISTING_COUNT\")"
   ]
  },
  {
   "cell_type": "code",
   "execution_count": 6,
   "id": "union-huntington",
   "metadata": {
    "execution": {
     "iopub.execute_input": "2021-09-15T09:30:08.626725Z",
     "iopub.status.busy": "2021-09-15T09:30:08.624677Z",
     "iopub.status.idle": "2021-09-15T09:30:08.629995Z",
     "shell.execute_reply": "2021-09-15T09:30:08.631354Z"
    },
    "papermill": {
     "duration": 0.040543,
     "end_time": "2021-09-15T09:30:08.631764",
     "exception": false,
     "start_time": "2021-09-15T09:30:08.591221",
     "status": "completed"
    },
    "tags": []
   },
   "outputs": [],
   "source": [
    "df_pivot.columns = [\"stamp_1\", \"stamp_2\"]\n",
    "df_pivot_diff = df_pivot.diff(axis=1)"
   ]
  },
  {
   "cell_type": "code",
   "execution_count": 7,
   "id": "fifth-motion",
   "metadata": {
    "execution": {
     "iopub.execute_input": "2021-09-15T09:30:08.685918Z",
     "iopub.status.busy": "2021-09-15T09:30:08.683504Z",
     "iopub.status.idle": "2021-09-15T09:30:10.200978Z",
     "shell.execute_reply": "2021-09-15T09:30:10.202279Z"
    },
    "papermill": {
     "duration": 1.550359,
     "end_time": "2021-09-15T09:30:10.202692",
     "exception": false,
     "start_time": "2021-09-15T09:30:08.652333",
     "status": "completed"
    },
    "tags": []
   },
   "outputs": [
    {
     "data": {
      "text/plain": [
       "<AxesSubplot:ylabel='PRODUCT'>"
      ]
     },
     "execution_count": 7,
     "metadata": {},
     "output_type": "execute_result"
    },
    {
     "data": {
      "image/png": "[encoded data removed]",
      "text/plain": [
       "<Figure size 432x288 with 1 Axes>"
      ]
     },
     "metadata": {
      "needs_background": "light"
     },
     "output_type": "display_data"
    }
   ],
   "source": [
    "df_pivot_diff.sort_values(\"stamp_2\", ascending = False)[\"stamp_2\"].head(10).plot.barh()"
   ]
  },
  {
   "cell_type": "code",
   "execution_count": null,
   "id": "extra-executive",
   "metadata": {
    "papermill": {
     "duration": 0.022301,
     "end_time": "2021-09-15T09:30:10.249432",
     "exception": false,
     "start_time": "2021-09-15T09:30:10.227131",
     "status": "completed"
    },
    "tags": []
   },
   "outputs": [],
   "source": []
  }
 ],
 "metadata": {
  "kernelspec": {
   "display_name": "Python 3",
   "language": "python",
   "name": "python3"
  },
  "language_info": {
   "codemirror_mode": {
    "name": "ipython",
    "version": 3
   },
   "file_extension": ".py",
   "mimetype": "text/x-python",
   "name": "python",
   "nbconvert_exporter": "python",
   "pygments_lexer": "ipython3",
   "version": "3.9.5"
  },
  "papermill": {
   "default_parameters": {},
   "duration": 6.606124,
   "end_time": "2021-09-15T09:30:10.890207",
   "environment_variables": {},
   "exception": null,
   "input_path": "eBay_Overview.ipynb",
   "output_path": "eBay_Overview.ipynb",
   "parameters": {},
   "start_time": "2021-09-15T09:30:04.284083",
   "version": "2.3.3"
  }
 },
 "nbformat": 4,
 "nbformat_minor": 5
}