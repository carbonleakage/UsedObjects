{
 "cells": [
  {
   "cell_type": "code",
   "execution_count": 1,
   "id": "reverse-picking",
   "metadata": {
    "execution": {
     "iopub.execute_input": "2021-09-30T17:30:06.855562Z",
     "iopub.status.busy": "2021-09-30T17:30:06.853483Z",
     "iopub.status.idle": "2021-09-30T17:30:07.661006Z",
     "shell.execute_reply": "2021-09-30T17:30:07.662258Z"
    },
    "papermill": {
     "duration": 0.859684,
     "end_time": "2021-09-30T17:30:07.662969",
     "exception": false,
     "start_time": "2021-09-30T17:30:06.803285",
     "status": "completed"
    },
    "tags": []
   },
   "outputs": [],
   "source": [
    "import pandas as pd\n",
    "import sqlite3"
   ]
  },
  {
   "cell_type": "code",
   "execution_count": 2,
   "id": "innovative-syndrome",
   "metadata": {
    "execution": {
     "iopub.execute_input": "2021-09-30T17:30:07.716011Z",
     "iopub.status.busy": "2021-09-30T17:30:07.714022Z",
     "iopub.status.idle": "2021-09-30T17:30:08.145830Z",
     "shell.execute_reply": "2021-09-30T17:30:08.147298Z"
    },
    "papermill": {
     "duration": 0.46195,
     "end_time": "2021-09-30T17:30:08.147738",
     "exception": false,
     "start_time": "2021-09-30T17:30:07.685788",
     "status": "completed"
    },
    "tags": []
   },
   "outputs": [],
   "source": [
    "timestamps = pd.read_sql(\"select distinct record_time from EBAY_TOP_BERLIN order by record_time desc limit 2\", sqlite3.connect(\"UsedObjects.db\"))"
   ]
  },
  {
   "cell_type": "code",
   "execution_count": 3,
   "id": "periodic-identification",
   "metadata": {
    "execution": {
     "iopub.execute_input": "2021-09-30T17:30:08.217125Z",
     "iopub.status.busy": "2021-09-30T17:30:08.211870Z",
     "iopub.status.idle": "2021-09-30T17:30:08.231877Z",
     "shell.execute_reply": "2021-09-30T17:30:08.233167Z"
    },
    "papermill": {
     "duration": 0.066008,
     "end_time": "2021-09-30T17:30:08.233571",
     "exception": false,
     "start_time": "2021-09-30T17:30:08.167563",
     "status": "completed"
    },
    "tags": []
   },
   "outputs": [
    {
     "data": {
      "text/html": [
       "<div>\n",
       "<style scoped>\n",
       "    .dataframe tbody tr th:only-of-type {\n",
       "        vertical-align: middle;\n",
       "    }\n",
       "\n",
       "    .dataframe tbody tr th {\n",
       "        vertical-align: top;\n",
       "    }\n",
       "\n",
       "    .dataframe thead th {\n",
       "        text-align: right;\n",
       "    }\n",
       "</style>\n",
       "<table border=\"1\" class=\"dataframe\">\n",
       "  <thead>\n",
       "    <tr style=\"text-align: right;\">\n",
       "      <th></th>\n",
       "      <th>RECORD_TIME</th>\n",
       "    </tr>\n",
       "  </thead>\n",
       "  <tbody>\n",
       "    <tr>\n",
       "      <th>0</th>\n",
       "      <td>2021-09-30 19:30</td>\n",
       "    </tr>\n",
       "    <tr>\n",
       "      <th>1</th>\n",
       "      <td>2021-09-30 19:00</td>\n",
       "    </tr>\n",
       "  </tbody>\n",
       "</table>\n",
       "</div>"
      ],
      "text/plain": [
       "        RECORD_TIME\n",
       "0  2021-09-30 19:30\n",
       "1  2021-09-30 19:00"
      ]
     },
     "execution_count": 3,
     "metadata": {},
     "output_type": "execute_result"
    }
   ],
   "source": [
    "timestamps"
   ]
  },
  {
   "cell_type": "code",
   "execution_count": 4,
   "id": "alternate-victory",
   "metadata": {
    "execution": {
     "iopub.execute_input": "2021-09-30T17:30:08.293654Z",
     "iopub.status.busy": "2021-09-30T17:30:08.290995Z",
     "iopub.status.idle": "2021-09-30T17:30:08.932144Z",
     "shell.execute_reply": "2021-09-30T17:30:08.933490Z"
    },
    "papermill": {
     "duration": 0.679512,
     "end_time": "2021-09-30T17:30:08.933904",
     "exception": false,
     "start_time": "2021-09-30T17:30:08.254392",
     "status": "completed"
    },
    "tags": []
   },
   "outputs": [],
   "source": [
    "df = pd.read_sql(\"select * from EBAY_TOP_BERLIN where record_time in (select distinct record_time from EBAY_TOP_BERLIN order by record_time desc limit 2)\", sqlite3.connect(\"UsedObjects.db\"))"
   ]
  },
  {
   "cell_type": "code",
   "execution_count": 5,
   "id": "popular-active",
   "metadata": {
    "execution": {
     "iopub.execute_input": "2021-09-30T17:30:09.004636Z",
     "iopub.status.busy": "2021-09-30T17:30:08.992633Z",
     "iopub.status.idle": "2021-09-30T17:30:09.022045Z",
     "shell.execute_reply": "2021-09-30T17:30:09.023759Z"
    },
    "papermill": {
     "duration": 0.069801,
     "end_time": "2021-09-30T17:30:09.024265",
     "exception": false,
     "start_time": "2021-09-30T17:30:08.954464",
     "status": "completed"
    },
    "tags": []
   },
   "outputs": [],
   "source": [
    "df_pivot = df.pivot_table(index=\"PRODUCT\", columns = \"RECORD_TIME\", values = \"LISTING_COUNT\")"
   ]
  },
  {
   "cell_type": "code",
   "execution_count": 6,
   "id": "union-huntington",
   "metadata": {
    "execution": {
     "iopub.execute_input": "2021-09-30T17:30:09.082875Z",
     "iopub.status.busy": "2021-09-30T17:30:09.080786Z",
     "iopub.status.idle": "2021-09-30T17:30:09.086033Z",
     "shell.execute_reply": "2021-09-30T17:30:09.087388Z"
    },
    "papermill": {
     "duration": 0.041073,
     "end_time": "2021-09-30T17:30:09.087806",
     "exception": false,
     "start_time": "2021-09-30T17:30:09.046733",
     "status": "completed"
    },
    "tags": []
   },
   "outputs": [],
   "source": [
    "df_pivot.columns = [\"stamp_1\", \"stamp_2\"]\n",
    "df_pivot_diff = df_pivot.diff(axis=1)"
   ]
  },
  {
   "cell_type": "code",
   "execution_count": 7,
   "id": "fifth-motion",
   "metadata": {
    "execution": {
     "iopub.execute_input": "2021-09-30T17:30:09.143764Z",
     "iopub.status.busy": "2021-09-30T17:30:09.141195Z",
     "iopub.status.idle": "2021-09-30T17:30:10.623418Z",
     "shell.execute_reply": "2021-09-30T17:30:10.624804Z"
    },
    "papermill": {
     "duration": 1.515563,
     "end_time": "2021-09-30T17:30:10.625242",
     "exception": false,
     "start_time": "2021-09-30T17:30:09.109679",
     "status": "completed"
    },
    "tags": []
   },
   "outputs": [
    {
     "data": {
      "text/plain": [
       "<AxesSubplot:ylabel='PRODUCT'>"
      ]
     },
     "execution_count": 7,
     "metadata": {},
     "output_type": "execute_result"
    },
    {
     "data": {
      "image/png": "[encoded data removed]",
      "text/plain": [
       "<Figure size 432x288 with 1 Axes>"
      ]
     },
     "metadata": {
      "needs_background": "light"
     },
     "output_type": "display_data"
    }
   ],
   "source": [
    "df_pivot_diff.sort_values(\"stamp_2\", ascending = False)[\"stamp_2\"].head(10).plot.barh()"
   ]
  },
  {
   "cell_type": "code",
   "execution_count": null,
   "id": "extra-executive",
   "metadata": {
    "papermill": {
     "duration": 0.022707,
     "end_time": "2021-09-30T17:30:10.673034",
     "exception": false,
     "start_time": "2021-09-30T17:30:10.650327",
     "status": "completed"
    },
    "tags": []
   },
   "outputs": [],
   "source": []
  }
 ],
 "metadata": {
  "kernelspec": {
   "display_name": "Python 3",
   "language": "python",
   "name": "python3"
  },
  "language_info": {
   "codemirror_mode": {
    "name": "ipython",
    "version": 3
   },
   "file_extension": ".py",
   "mimetype": "text/x-python",
   "name": "python",
   "nbconvert_exporter": "python",
   "pygments_lexer": "ipython3",
   "version": "3.9.5"
  },
  "papermill": {
   "default_parameters": {},
   "duration": 7.82815,
   "end_time": "2021-09-30T17:30:12.217842",
   "environment_variables": {},
   "exception": null,
   "input_path": "eBay_Overview.ipynb",
   "output_path": "eBay_Overview.ipynb",
   "parameters": {},
   "start_time": "2021-09-30T17:30:04.389692",
   "version": "2.3.3"
  }
 },
 "nbformat": 4,
 "nbformat_minor": 5
}