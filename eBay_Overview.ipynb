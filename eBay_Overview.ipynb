{
 "cells": [
  {
   "cell_type": "code",
   "execution_count": 1,
   "id": "reverse-picking",
   "metadata": {
    "execution": {
     "iopub.execute_input": "2021-12-07T06:00:07.834012Z",
     "iopub.status.busy": "2021-12-07T06:00:07.831798Z",
     "iopub.status.idle": "2021-12-07T06:00:08.778541Z",
     "shell.execute_reply": "2021-12-07T06:00:08.780085Z"
    },
    "papermill": {
     "duration": 0.995135,
     "end_time": "2021-12-07T06:00:08.780844",
     "exception": false,
     "start_time": "2021-12-07T06:00:07.785709",
     "status": "completed"
    },
    "tags": []
   },
   "outputs": [],
   "source": [
    "import pandas as pd\n",
    "import sqlite3"
   ]
  },
  {
   "cell_type": "code",
   "execution_count": 2,
   "id": "innovative-syndrome",
   "metadata": {
    "execution": {
     "iopub.execute_input": "2021-12-07T06:00:08.843376Z",
     "iopub.status.busy": "2021-12-07T06:00:08.840780Z",
     "iopub.status.idle": "2021-12-07T06:00:09.858212Z",
     "shell.execute_reply": "2021-12-07T06:00:09.860054Z"
    },
    "papermill": {
     "duration": 1.052259,
     "end_time": "2021-12-07T06:00:09.860632",
     "exception": false,
     "start_time": "2021-12-07T06:00:08.808373",
     "status": "completed"
    },
    "tags": []
   },
   "outputs": [],
   "source": [
    "timestamps = pd.read_sql(\"select distinct record_time from EBAY_TOP_BERLIN order by record_time desc limit 2\", sqlite3.connect(\"UsedObjects.db\"))"
   ]
  },
  {
   "cell_type": "code",
   "execution_count": 3,
   "id": "periodic-identification",
   "metadata": {
    "execution": {
     "iopub.execute_input": "2021-12-07T06:00:09.961301Z",
     "iopub.status.busy": "2021-12-07T06:00:09.954806Z",
     "iopub.status.idle": "2021-12-07T06:00:09.979740Z",
     "shell.execute_reply": "2021-12-07T06:00:09.978088Z"
    },
    "papermill": {
     "duration": 0.089579,
     "end_time": "2021-12-07T06:00:09.980176",
     "exception": false,
     "start_time": "2021-12-07T06:00:09.890597",
     "status": "completed"
    },
    "tags": []
   },
   "outputs": [
    {
     "data": {
      "text/html": [
       "<div>\n",
       "<style scoped>\n",
       "    .dataframe tbody tr th:only-of-type {\n",
       "        vertical-align: middle;\n",
       "    }\n",
       "\n",
       "    .dataframe tbody tr th {\n",
       "        vertical-align: top;\n",
       "    }\n",
       "\n",
       "    .dataframe thead th {\n",
       "        text-align: right;\n",
       "    }\n",
       "</style>\n",
       "<table border=\"1\" class=\"dataframe\">\n",
       "  <thead>\n",
       "    <tr style=\"text-align: right;\">\n",
       "      <th></th>\n",
       "      <th>RECORD_TIME</th>\n",
       "    </tr>\n",
       "  </thead>\n",
       "  <tbody>\n",
       "    <tr>\n",
       "      <th>0</th>\n",
       "      <td>2021-12-07 07:00</td>\n",
       "    </tr>\n",
       "    <tr>\n",
       "      <th>1</th>\n",
       "      <td>2021-12-07 06:30</td>\n",
       "    </tr>\n",
       "  </tbody>\n",
       "</table>\n",
       "</div>"
      ],
      "text/plain": [
       "        RECORD_TIME\n",
       "0  2021-12-07 07:00\n",
       "1  2021-12-07 06:30"
      ]
     },
     "execution_count": 3,
     "metadata": {},
     "output_type": "execute_result"
    }
   ],
   "source": [
    "timestamps"
   ]
  },
  {
   "cell_type": "code",
   "execution_count": 4,
   "id": "alternate-victory",
   "metadata": {
    "execution": {
     "iopub.execute_input": "2021-12-07T06:00:10.037963Z",
     "iopub.status.busy": "2021-12-07T06:00:10.035935Z",
     "iopub.status.idle": "2021-12-07T06:00:11.527954Z",
     "shell.execute_reply": "2021-12-07T06:00:11.530755Z"
    },
    "papermill": {
     "duration": 1.527937,
     "end_time": "2021-12-07T06:00:11.531538",
     "exception": false,
     "start_time": "2021-12-07T06:00:10.003601",
     "status": "completed"
    },
    "tags": []
   },
   "outputs": [],
   "source": [
    "df = pd.read_sql(\"select * from EBAY_TOP_BERLIN where record_time in (select distinct record_time from EBAY_TOP_BERLIN order by record_time desc limit 2)\", sqlite3.connect(\"UsedObjects.db\"))"
   ]
  },
  {
   "cell_type": "code",
   "execution_count": 5,
   "id": "popular-active",
   "metadata": {
    "execution": {
     "iopub.execute_input": "2021-12-07T06:00:11.634757Z",
     "iopub.status.busy": "2021-12-07T06:00:11.631022Z",
     "iopub.status.idle": "2021-12-07T06:00:11.679512Z",
     "shell.execute_reply": "2021-12-07T06:00:11.681712Z"
    },
    "papermill": {
     "duration": 0.120371,
     "end_time": "2021-12-07T06:00:11.682335",
     "exception": false,
     "start_time": "2021-12-07T06:00:11.561964",
     "status": "completed"
    },
    "tags": []
   },
   "outputs": [],
   "source": [
    "df_pivot = df.pivot_table(index=\"PRODUCT\", columns = \"RECORD_TIME\", values = \"LISTING_COUNT\")"
   ]
  },
  {
   "cell_type": "code",
   "execution_count": 6,
   "id": "union-huntington",
   "metadata": {
    "execution": {
     "iopub.execute_input": "2021-12-07T06:00:11.770351Z",
     "iopub.status.busy": "2021-12-07T06:00:11.766707Z",
     "iopub.status.idle": "2021-12-07T06:00:11.774903Z",
     "shell.execute_reply": "2021-12-07T06:00:11.777857Z"
    },
    "papermill": {
     "duration": 0.071593,
     "end_time": "2021-12-07T06:00:11.778835",
     "exception": false,
     "start_time": "2021-12-07T06:00:11.707242",
     "status": "completed"
    },
    "tags": []
   },
   "outputs": [],
   "source": [
    "df_pivot.columns = [\"stamp_1\", \"stamp_2\"]\n",
    "df_pivot_diff = df_pivot.diff(axis=1)"
   ]
  },
  {
   "cell_type": "code",
   "execution_count": 7,
   "id": "fifth-motion",
   "metadata": {
    "execution": {
     "iopub.execute_input": "2021-12-07T06:00:11.858066Z",
     "iopub.status.busy": "2021-12-07T06:00:11.854937Z",
     "iopub.status.idle": "2021-12-07T06:00:13.560424Z",
     "shell.execute_reply": "2021-12-07T06:00:13.561863Z"
    },
    "papermill": {
     "duration": 1.753689,
     "end_time": "2021-12-07T06:00:13.562315",
     "exception": false,
     "start_time": "2021-12-07T06:00:11.808626",
     "status": "completed"
    },
    "tags": []
   },
   "outputs": [
    {
     "data": {
      "text/plain": [
       "<AxesSubplot:ylabel='PRODUCT'>"
      ]
     },
     "execution_count": 7,
     "metadata": {},
     "output_type": "execute_result"
    },
    {
     "data": {
      "image/png": "[encoded data removed]",
      "text/plain": [
       "<Figure size 432x288 with 1 Axes>"
      ]
     },
     "metadata": {
      "needs_background": "light"
     },
     "output_type": "display_data"
    }
   ],
   "source": [
    "df_pivot_diff.sort_values(\"stamp_2\", ascending = False)[\"stamp_2\"].head(10).plot.barh()"
   ]
  },
  {
   "cell_type": "code",
   "execution_count": null,
   "id": "extra-executive",
   "metadata": {
    "papermill": {
     "duration": 0.021976,
     "end_time": "2021-12-07T06:00:13.608323",
     "exception": false,
     "start_time": "2021-12-07T06:00:13.586347",
     "status": "completed"
    },
    "tags": []
   },
   "outputs": [],
   "source": []
  }
 ],
 "metadata": {
  "kernelspec": {
   "display_name": "Python 3",
   "language": "python",
   "name": "python3"
  },
  "language_info": {
   "codemirror_mode": {
    "name": "ipython",
    "version": 3
   },
   "file_extension": ".py",
   "mimetype": "text/x-python",
   "name": "python",
   "nbconvert_exporter": "python",
   "pygments_lexer": "ipython3",
   "version": "3.9.5"
  },
  "papermill": {
   "default_parameters": {},
   "duration": 9.945938,
   "end_time": "2021-12-07T06:00:15.007203",
   "environment_variables": {},
   "exception": null,
   "input_path": "eBay_Overview.ipynb",
   "output_path": "eBay_Overview.ipynb",
   "parameters": {},
   "start_time": "2021-12-07T06:00:05.061265",
   "version": "2.3.3"
  }
 },
 "nbformat": 4,
 "nbformat_minor": 5
}