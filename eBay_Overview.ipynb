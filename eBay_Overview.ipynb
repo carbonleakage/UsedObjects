{
 "cells": [
  {
   "cell_type": "code",
   "execution_count": 1,
   "id": "reverse-picking",
   "metadata": {
    "execution": {
     "iopub.execute_input": "2021-10-04T02:00:07.352678Z",
     "iopub.status.busy": "2021-10-04T02:00:07.350636Z",
     "iopub.status.idle": "2021-10-04T02:00:08.157503Z",
     "shell.execute_reply": "2021-10-04T02:00:08.158768Z"
    },
    "papermill": {
     "duration": 0.860543,
     "end_time": "2021-10-04T02:00:08.159441",
     "exception": false,
     "start_time": "2021-10-04T02:00:07.298898",
     "status": "completed"
    },
    "tags": []
   },
   "outputs": [],
   "source": [
    "import pandas as pd\n",
    "import sqlite3"
   ]
  },
  {
   "cell_type": "code",
   "execution_count": 2,
   "id": "innovative-syndrome",
   "metadata": {
    "execution": {
     "iopub.execute_input": "2021-10-04T02:00:08.209527Z",
     "iopub.status.busy": "2021-10-04T02:00:08.207654Z",
     "iopub.status.idle": "2021-10-04T02:00:08.661702Z",
     "shell.execute_reply": "2021-10-04T02:00:08.662986Z"
    },
    "papermill": {
     "duration": 0.483508,
     "end_time": "2021-10-04T02:00:08.663434",
     "exception": false,
     "start_time": "2021-10-04T02:00:08.179926",
     "status": "completed"
    },
    "tags": []
   },
   "outputs": [],
   "source": [
    "timestamps = pd.read_sql(\"select distinct record_time from EBAY_TOP_BERLIN order by record_time desc limit 2\", sqlite3.connect(\"UsedObjects.db\"))"
   ]
  },
  {
   "cell_type": "code",
   "execution_count": 3,
   "id": "periodic-identification",
   "metadata": {
    "execution": {
     "iopub.execute_input": "2021-10-04T02:00:08.726853Z",
     "iopub.status.busy": "2021-10-04T02:00:08.724769Z",
     "iopub.status.idle": "2021-10-04T02:00:08.744512Z",
     "shell.execute_reply": "2021-10-04T02:00:08.745809Z"
    },
    "papermill": {
     "duration": 0.063557,
     "end_time": "2021-10-04T02:00:08.746221",
     "exception": false,
     "start_time": "2021-10-04T02:00:08.682664",
     "status": "completed"
    },
    "tags": []
   },
   "outputs": [
    {
     "data": {
      "text/html": [
       "<div>\n",
       "<style scoped>\n",
       "    .dataframe tbody tr th:only-of-type {\n",
       "        vertical-align: middle;\n",
       "    }\n",
       "\n",
       "    .dataframe tbody tr th {\n",
       "        vertical-align: top;\n",
       "    }\n",
       "\n",
       "    .dataframe thead th {\n",
       "        text-align: right;\n",
       "    }\n",
       "</style>\n",
       "<table border=\"1\" class=\"dataframe\">\n",
       "  <thead>\n",
       "    <tr style=\"text-align: right;\">\n",
       "      <th></th>\n",
       "      <th>RECORD_TIME</th>\n",
       "    </tr>\n",
       "  </thead>\n",
       "  <tbody>\n",
       "    <tr>\n",
       "      <th>0</th>\n",
       "      <td>2021-10-04 04:00</td>\n",
       "    </tr>\n",
       "    <tr>\n",
       "      <th>1</th>\n",
       "      <td>2021-10-04 03:30</td>\n",
       "    </tr>\n",
       "  </tbody>\n",
       "</table>\n",
       "</div>"
      ],
      "text/plain": [
       "        RECORD_TIME\n",
       "0  2021-10-04 04:00\n",
       "1  2021-10-04 03:30"
      ]
     },
     "execution_count": 3,
     "metadata": {},
     "output_type": "execute_result"
    }
   ],
   "source": [
    "timestamps"
   ]
  },
  {
   "cell_type": "code",
   "execution_count": 4,
   "id": "alternate-victory",
   "metadata": {
    "execution": {
     "iopub.execute_input": "2021-10-04T02:00:08.797660Z",
     "iopub.status.busy": "2021-10-04T02:00:08.795594Z",
     "iopub.status.idle": "2021-10-04T02:00:09.456019Z",
     "shell.execute_reply": "2021-10-04T02:00:09.457227Z"
    },
    "papermill": {
     "duration": 0.690693,
     "end_time": "2021-10-04T02:00:09.457616",
     "exception": false,
     "start_time": "2021-10-04T02:00:08.766923",
     "status": "completed"
    },
    "tags": []
   },
   "outputs": [],
   "source": [
    "df = pd.read_sql(\"select * from EBAY_TOP_BERLIN where record_time in (select distinct record_time from EBAY_TOP_BERLIN order by record_time desc limit 2)\", sqlite3.connect(\"UsedObjects.db\"))"
   ]
  },
  {
   "cell_type": "code",
   "execution_count": 5,
   "id": "popular-active",
   "metadata": {
    "execution": {
     "iopub.execute_input": "2021-10-04T02:00:09.530528Z",
     "iopub.status.busy": "2021-10-04T02:00:09.519084Z",
     "iopub.status.idle": "2021-10-04T02:00:09.547501Z",
     "shell.execute_reply": "2021-10-04T02:00:09.548910Z"
    },
    "papermill": {
     "duration": 0.068731,
     "end_time": "2021-10-04T02:00:09.549346",
     "exception": false,
     "start_time": "2021-10-04T02:00:09.480615",
     "status": "completed"
    },
    "tags": []
   },
   "outputs": [],
   "source": [
    "df_pivot = df.pivot_table(index=\"PRODUCT\", columns = \"RECORD_TIME\", values = \"LISTING_COUNT\")"
   ]
  },
  {
   "cell_type": "code",
   "execution_count": 6,
   "id": "union-huntington",
   "metadata": {
    "execution": {
     "iopub.execute_input": "2021-10-04T02:00:09.606822Z",
     "iopub.status.busy": "2021-10-04T02:00:09.604510Z",
     "iopub.status.idle": "2021-10-04T02:00:09.610451Z",
     "shell.execute_reply": "2021-10-04T02:00:09.611820Z"
    },
    "papermill": {
     "duration": 0.041487,
     "end_time": "2021-10-04T02:00:09.612240",
     "exception": false,
     "start_time": "2021-10-04T02:00:09.570753",
     "status": "completed"
    },
    "tags": []
   },
   "outputs": [],
   "source": [
    "df_pivot.columns = [\"stamp_1\", \"stamp_2\"]\n",
    "df_pivot_diff = df_pivot.diff(axis=1)"
   ]
  },
  {
   "cell_type": "code",
   "execution_count": 7,
   "id": "fifth-motion",
   "metadata": {
    "execution": {
     "iopub.execute_input": "2021-10-04T02:00:09.665581Z",
     "iopub.status.busy": "2021-10-04T02:00:09.663282Z",
     "iopub.status.idle": "2021-10-04T02:00:11.130145Z",
     "shell.execute_reply": "2021-10-04T02:00:11.131824Z"
    },
    "papermill": {
     "duration": 1.500325,
     "end_time": "2021-10-04T02:00:11.132325",
     "exception": false,
     "start_time": "2021-10-04T02:00:09.632000",
     "status": "completed"
    },
    "tags": []
   },
   "outputs": [
    {
     "data": {
      "text/plain": [
       "<AxesSubplot:ylabel='PRODUCT'>"
      ]
     },
     "execution_count": 7,
     "metadata": {},
     "output_type": "execute_result"
    },
    {
     "data": {
      "image/png": "[encoded data removed]",
      "text/plain": [
       "<Figure size 432x288 with 1 Axes>"
      ]
     },
     "metadata": {
      "needs_background": "light"
     },
     "output_type": "display_data"
    }
   ],
   "source": [
    "df_pivot_diff.sort_values(\"stamp_2\", ascending = False)[\"stamp_2\"].head(10).plot.barh()"
   ]
  },
  {
   "cell_type": "code",
   "execution_count": null,
   "id": "extra-executive",
   "metadata": {
    "papermill": {
     "duration": 0.021984,
     "end_time": "2021-10-04T02:00:11.179143",
     "exception": false,
     "start_time": "2021-10-04T02:00:11.157159",
     "status": "completed"
    },
    "tags": []
   },
   "outputs": [],
   "source": []
  }
 ],
 "metadata": {
  "kernelspec": {
   "display_name": "Python 3",
   "language": "python",
   "name": "python3"
  },
  "language_info": {
   "codemirror_mode": {
    "name": "ipython",
    "version": 3
   },
   "file_extension": ".py",
   "mimetype": "text/x-python",
   "name": "python",
   "nbconvert_exporter": "python",
   "pygments_lexer": "ipython3",
   "version": "3.9.5"
  },
  "papermill": {
   "default_parameters": {},
   "duration": 7.821625,
   "end_time": "2021-10-04T02:00:12.711221",
   "environment_variables": {},
   "exception": null,
   "input_path": "eBay_Overview.ipynb",
   "output_path": "eBay_Overview.ipynb",
   "parameters": {},
   "start_time": "2021-10-04T02:00:04.889596",
   "version": "2.3.3"
  }
 },
 "nbformat": 4,
 "nbformat_minor": 5
}