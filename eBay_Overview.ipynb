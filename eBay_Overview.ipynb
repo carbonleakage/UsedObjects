{
 "cells": [
  {
   "cell_type": "code",
   "execution_count": 1,
   "id": "reverse-picking",
   "metadata": {
    "execution": {
     "iopub.execute_input": "2021-09-23T07:00:07.216517Z",
     "iopub.status.busy": "2021-09-23T07:00:07.214393Z",
     "iopub.status.idle": "2021-09-23T07:00:08.018412Z",
     "shell.execute_reply": "2021-09-23T07:00:08.016966Z"
    },
    "papermill": {
     "duration": 0.852238,
     "end_time": "2021-09-23T07:00:08.018864",
     "exception": false,
     "start_time": "2021-09-23T07:00:07.166626",
     "status": "completed"
    },
    "tags": []
   },
   "outputs": [],
   "source": [
    "import pandas as pd\n",
    "import sqlite3"
   ]
  },
  {
   "cell_type": "code",
   "execution_count": 2,
   "id": "innovative-syndrome",
   "metadata": {
    "execution": {
     "iopub.execute_input": "2021-09-23T07:00:08.071265Z",
     "iopub.status.busy": "2021-09-23T07:00:08.068888Z",
     "iopub.status.idle": "2021-09-23T07:00:08.420237Z",
     "shell.execute_reply": "2021-09-23T07:00:08.421359Z"
    },
    "papermill": {
     "duration": 0.38098,
     "end_time": "2021-09-23T07:00:08.421765",
     "exception": false,
     "start_time": "2021-09-23T07:00:08.040785",
     "status": "completed"
    },
    "tags": []
   },
   "outputs": [],
   "source": [
    "timestamps = pd.read_sql(\"select distinct record_time from EBAY_TOP_BERLIN order by record_time desc limit 2\", sqlite3.connect(\"UsedObjects.db\"))"
   ]
  },
  {
   "cell_type": "code",
   "execution_count": 3,
   "id": "periodic-identification",
   "metadata": {
    "execution": {
     "iopub.execute_input": "2021-09-23T07:00:08.488589Z",
     "iopub.status.busy": "2021-09-23T07:00:08.483447Z",
     "iopub.status.idle": "2021-09-23T07:00:08.504899Z",
     "shell.execute_reply": "2021-09-23T07:00:08.506113Z"
    },
    "papermill": {
     "duration": 0.064193,
     "end_time": "2021-09-23T07:00:08.506501",
     "exception": false,
     "start_time": "2021-09-23T07:00:08.442308",
     "status": "completed"
    },
    "tags": []
   },
   "outputs": [
    {
     "data": {
      "text/html": [
       "<div>\n",
       "<style scoped>\n",
       "    .dataframe tbody tr th:only-of-type {\n",
       "        vertical-align: middle;\n",
       "    }\n",
       "\n",
       "    .dataframe tbody tr th {\n",
       "        vertical-align: top;\n",
       "    }\n",
       "\n",
       "    .dataframe thead th {\n",
       "        text-align: right;\n",
       "    }\n",
       "</style>\n",
       "<table border=\"1\" class=\"dataframe\">\n",
       "  <thead>\n",
       "    <tr style=\"text-align: right;\">\n",
       "      <th></th>\n",
       "      <th>RECORD_TIME</th>\n",
       "    </tr>\n",
       "  </thead>\n",
       "  <tbody>\n",
       "    <tr>\n",
       "      <th>0</th>\n",
       "      <td>2021-09-23 09:00</td>\n",
       "    </tr>\n",
       "    <tr>\n",
       "      <th>1</th>\n",
       "      <td>2021-09-23 08:30</td>\n",
       "    </tr>\n",
       "  </tbody>\n",
       "</table>\n",
       "</div>"
      ],
      "text/plain": [
       "        RECORD_TIME\n",
       "0  2021-09-23 09:00\n",
       "1  2021-09-23 08:30"
      ]
     },
     "execution_count": 3,
     "metadata": {},
     "output_type": "execute_result"
    }
   ],
   "source": [
    "timestamps"
   ]
  },
  {
   "cell_type": "code",
   "execution_count": 4,
   "id": "alternate-victory",
   "metadata": {
    "execution": {
     "iopub.execute_input": "2021-09-23T07:00:08.559129Z",
     "iopub.status.busy": "2021-09-23T07:00:08.556783Z",
     "iopub.status.idle": "2021-09-23T07:00:09.079215Z",
     "shell.execute_reply": "2021-09-23T07:00:09.080573Z"
    },
    "papermill": {
     "duration": 0.552376,
     "end_time": "2021-09-23T07:00:09.080975",
     "exception": false,
     "start_time": "2021-09-23T07:00:08.528599",
     "status": "completed"
    },
    "tags": []
   },
   "outputs": [],
   "source": [
    "df = pd.read_sql(\"select * from EBAY_TOP_BERLIN where record_time in (select distinct record_time from EBAY_TOP_BERLIN order by record_time desc limit 2)\", sqlite3.connect(\"UsedObjects.db\"))"
   ]
  },
  {
   "cell_type": "code",
   "execution_count": 5,
   "id": "popular-active",
   "metadata": {
    "execution": {
     "iopub.execute_input": "2021-09-23T07:00:09.160938Z",
     "iopub.status.busy": "2021-09-23T07:00:09.154587Z",
     "iopub.status.idle": "2021-09-23T07:00:09.176416Z",
     "shell.execute_reply": "2021-09-23T07:00:09.177727Z"
    },
    "papermill": {
     "duration": 0.071355,
     "end_time": "2021-09-23T07:00:09.178135",
     "exception": false,
     "start_time": "2021-09-23T07:00:09.106780",
     "status": "completed"
    },
    "tags": []
   },
   "outputs": [],
   "source": [
    "df_pivot = df.pivot_table(index=\"PRODUCT\", columns = \"RECORD_TIME\", values = \"LISTING_COUNT\")"
   ]
  },
  {
   "cell_type": "code",
   "execution_count": 6,
   "id": "union-huntington",
   "metadata": {
    "execution": {
     "iopub.execute_input": "2021-09-23T07:00:09.234308Z",
     "iopub.status.busy": "2021-09-23T07:00:09.231864Z",
     "iopub.status.idle": "2021-09-23T07:00:09.237559Z",
     "shell.execute_reply": "2021-09-23T07:00:09.238900Z"
    },
    "papermill": {
     "duration": 0.041919,
     "end_time": "2021-09-23T07:00:09.239315",
     "exception": false,
     "start_time": "2021-09-23T07:00:09.197396",
     "status": "completed"
    },
    "tags": []
   },
   "outputs": [],
   "source": [
    "df_pivot.columns = [\"stamp_1\", \"stamp_2\"]\n",
    "df_pivot_diff = df_pivot.diff(axis=1)"
   ]
  },
  {
   "cell_type": "code",
   "execution_count": 7,
   "id": "fifth-motion",
   "metadata": {
    "execution": {
     "iopub.execute_input": "2021-09-23T07:00:09.293015Z",
     "iopub.status.busy": "2021-09-23T07:00:09.290711Z",
     "iopub.status.idle": "2021-09-23T07:00:10.754542Z",
     "shell.execute_reply": "2021-09-23T07:00:10.756107Z"
    },
    "papermill": {
     "duration": 1.497068,
     "end_time": "2021-09-23T07:00:10.756577",
     "exception": false,
     "start_time": "2021-09-23T07:00:09.259509",
     "status": "completed"
    },
    "tags": []
   },
   "outputs": [
    {
     "data": {
      "text/plain": [
       "<AxesSubplot:ylabel='PRODUCT'>"
      ]
     },
     "execution_count": 7,
     "metadata": {},
     "output_type": "execute_result"
    },
    {
     "data": {
      "image/png": "[encoded data removed]",
      "text/plain": [
       "<Figure size 432x288 with 1 Axes>"
      ]
     },
     "metadata": {
      "needs_background": "light"
     },
     "output_type": "display_data"
    }
   ],
   "source": [
    "df_pivot_diff.sort_values(\"stamp_2\", ascending = False)[\"stamp_2\"].head(10).plot.barh()"
   ]
  },
  {
   "cell_type": "code",
   "execution_count": null,
   "id": "extra-executive",
   "metadata": {
    "papermill": {
     "duration": 0.021945,
     "end_time": "2021-09-23T07:00:10.802283",
     "exception": false,
     "start_time": "2021-09-23T07:00:10.780338",
     "status": "completed"
    },
    "tags": []
   },
   "outputs": [],
   "source": []
  }
 ],
 "metadata": {
  "kernelspec": {
   "display_name": "Python 3",
   "language": "python",
   "name": "python3"
  },
  "language_info": {
   "codemirror_mode": {
    "name": "ipython",
    "version": 3
   },
   "file_extension": ".py",
   "mimetype": "text/x-python",
   "name": "python",
   "nbconvert_exporter": "python",
   "pygments_lexer": "ipython3",
   "version": "3.9.5"
  },
  "papermill": {
   "default_parameters": {},
   "duration": 6.681181,
   "end_time": "2021-09-23T07:00:11.445029",
   "environment_variables": {},
   "exception": null,
   "input_path": "eBay_Overview.ipynb",
   "output_path": "eBay_Overview.ipynb",
   "parameters": {},
   "start_time": "2021-09-23T07:00:04.763848",
   "version": "2.3.3"
  }
 },
 "nbformat": 4,
 "nbformat_minor": 5
}