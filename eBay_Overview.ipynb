{
 "cells": [
  {
   "cell_type": "code",
   "execution_count": 1,
   "id": "reverse-picking",
   "metadata": {
    "execution": {
     "iopub.execute_input": "2021-09-09T15:00:07.920158Z",
     "iopub.status.busy": "2021-09-09T15:00:07.918151Z",
     "iopub.status.idle": "2021-09-09T15:00:08.729934Z",
     "shell.execute_reply": "2021-09-09T15:00:08.731333Z"
    },
    "papermill": {
     "duration": 0.861258,
     "end_time": "2021-09-09T15:00:08.731992",
     "exception": false,
     "start_time": "2021-09-09T15:00:07.870734",
     "status": "completed"
    },
    "tags": []
   },
   "outputs": [],
   "source": [
    "import pandas as pd\n",
    "import sqlite3"
   ]
  },
  {
   "cell_type": "code",
   "execution_count": 2,
   "id": "innovative-syndrome",
   "metadata": {
    "execution": {
     "iopub.execute_input": "2021-09-09T15:00:08.783359Z",
     "iopub.status.busy": "2021-09-09T15:00:08.781193Z",
     "iopub.status.idle": "2021-09-09T15:00:09.022493Z",
     "shell.execute_reply": "2021-09-09T15:00:09.023971Z"
    },
    "papermill": {
     "duration": 0.271995,
     "end_time": "2021-09-09T15:00:09.024397",
     "exception": false,
     "start_time": "2021-09-09T15:00:08.752402",
     "status": "completed"
    },
    "tags": []
   },
   "outputs": [],
   "source": [
    "timestamps = pd.read_sql(\"select distinct record_time from EBAY_TOP_BERLIN order by record_time desc limit 2\", sqlite3.connect(\"UsedObjects.db\"))"
   ]
  },
  {
   "cell_type": "code",
   "execution_count": 3,
   "id": "periodic-identification",
   "metadata": {
    "execution": {
     "iopub.execute_input": "2021-09-09T15:00:09.095418Z",
     "iopub.status.busy": "2021-09-09T15:00:09.090278Z",
     "iopub.status.idle": "2021-09-09T15:00:09.110648Z",
     "shell.execute_reply": "2021-09-09T15:00:09.111965Z"
    },
    "papermill": {
     "duration": 0.067163,
     "end_time": "2021-09-09T15:00:09.112397",
     "exception": false,
     "start_time": "2021-09-09T15:00:09.045234",
     "status": "completed"
    },
    "tags": []
   },
   "outputs": [
    {
     "data": {
      "text/html": [
       "<div>\n",
       "<style scoped>\n",
       "    .dataframe tbody tr th:only-of-type {\n",
       "        vertical-align: middle;\n",
       "    }\n",
       "\n",
       "    .dataframe tbody tr th {\n",
       "        vertical-align: top;\n",
       "    }\n",
       "\n",
       "    .dataframe thead th {\n",
       "        text-align: right;\n",
       "    }\n",
       "</style>\n",
       "<table border=\"1\" class=\"dataframe\">\n",
       "  <thead>\n",
       "    <tr style=\"text-align: right;\">\n",
       "      <th></th>\n",
       "      <th>RECORD_TIME</th>\n",
       "    </tr>\n",
       "  </thead>\n",
       "  <tbody>\n",
       "    <tr>\n",
       "      <th>0</th>\n",
       "      <td>2021-09-09 17:00</td>\n",
       "    </tr>\n",
       "    <tr>\n",
       "      <th>1</th>\n",
       "      <td>2021-09-09 16:30</td>\n",
       "    </tr>\n",
       "  </tbody>\n",
       "</table>\n",
       "</div>"
      ],
      "text/plain": [
       "        RECORD_TIME\n",
       "0  2021-09-09 17:00\n",
       "1  2021-09-09 16:30"
      ]
     },
     "execution_count": 3,
     "metadata": {},
     "output_type": "execute_result"
    }
   ],
   "source": [
    "timestamps"
   ]
  },
  {
   "cell_type": "code",
   "execution_count": 4,
   "id": "alternate-victory",
   "metadata": {
    "execution": {
     "iopub.execute_input": "2021-09-09T15:00:09.166704Z",
     "iopub.status.busy": "2021-09-09T15:00:09.164429Z",
     "iopub.status.idle": "2021-09-09T15:00:09.554482Z",
     "shell.execute_reply": "2021-09-09T15:00:09.555674Z"
    },
    "papermill": {
     "duration": 0.420794,
     "end_time": "2021-09-09T15:00:09.556085",
     "exception": false,
     "start_time": "2021-09-09T15:00:09.135291",
     "status": "completed"
    },
    "tags": []
   },
   "outputs": [],
   "source": [
    "df = pd.read_sql(\"select * from EBAY_TOP_BERLIN where record_time in (select distinct record_time from EBAY_TOP_BERLIN order by record_time desc limit 2)\", sqlite3.connect(\"UsedObjects.db\"))"
   ]
  },
  {
   "cell_type": "code",
   "execution_count": 5,
   "id": "popular-active",
   "metadata": {
    "execution": {
     "iopub.execute_input": "2021-09-09T15:00:09.637532Z",
     "iopub.status.busy": "2021-09-09T15:00:09.624959Z",
     "iopub.status.idle": "2021-09-09T15:00:09.654089Z",
     "shell.execute_reply": "2021-09-09T15:00:09.655525Z"
    },
    "papermill": {
     "duration": 0.071825,
     "end_time": "2021-09-09T15:00:09.655946",
     "exception": false,
     "start_time": "2021-09-09T15:00:09.584121",
     "status": "completed"
    },
    "tags": []
   },
   "outputs": [],
   "source": [
    "df_pivot = df.pivot_table(index=\"PRODUCT\", columns = \"RECORD_TIME\", values = \"LISTING_COUNT\")"
   ]
  },
  {
   "cell_type": "code",
   "execution_count": 6,
   "id": "union-huntington",
   "metadata": {
    "execution": {
     "iopub.execute_input": "2021-09-09T15:00:09.712195Z",
     "iopub.status.busy": "2021-09-09T15:00:09.710079Z",
     "iopub.status.idle": "2021-09-09T15:00:09.715540Z",
     "shell.execute_reply": "2021-09-09T15:00:09.716733Z"
    },
    "papermill": {
     "duration": 0.041006,
     "end_time": "2021-09-09T15:00:09.717159",
     "exception": false,
     "start_time": "2021-09-09T15:00:09.676153",
     "status": "completed"
    },
    "tags": []
   },
   "outputs": [],
   "source": [
    "df_pivot.columns = [\"stamp_1\", \"stamp_2\"]\n",
    "df_pivot_diff = df_pivot.diff(axis=1)"
   ]
  },
  {
   "cell_type": "code",
   "execution_count": 7,
   "id": "fifth-motion",
   "metadata": {
    "execution": {
     "iopub.execute_input": "2021-09-09T15:00:09.771491Z",
     "iopub.status.busy": "2021-09-09T15:00:09.768907Z",
     "iopub.status.idle": "2021-09-09T15:00:11.243206Z",
     "shell.execute_reply": "2021-09-09T15:00:11.244498Z"
    },
    "papermill": {
     "duration": 1.507374,
     "end_time": "2021-09-09T15:00:11.244909",
     "exception": false,
     "start_time": "2021-09-09T15:00:09.737535",
     "status": "completed"
    },
    "tags": []
   },
   "outputs": [
    {
     "data": {
      "text/plain": [
       "<AxesSubplot:ylabel='PRODUCT'>"
      ]
     },
     "execution_count": 7,
     "metadata": {},
     "output_type": "execute_result"
    },
    {
     "data": {
      "image/png": "[encoded data removed]",
      "text/plain": [
       "<Figure size 432x288 with 1 Axes>"
      ]
     },
     "metadata": {
      "needs_background": "light"
     },
     "output_type": "display_data"
    }
   ],
   "source": [
    "df_pivot_diff.sort_values(\"stamp_2\", ascending = False)[\"stamp_2\"].head(10).plot.barh()"
   ]
  },
  {
   "cell_type": "code",
   "execution_count": null,
   "id": "extra-executive",
   "metadata": {
    "papermill": {
     "duration": 0.023158,
     "end_time": "2021-09-09T15:00:11.291951",
     "exception": false,
     "start_time": "2021-09-09T15:00:11.268793",
     "status": "completed"
    },
    "tags": []
   },
   "outputs": [],
   "source": []
  }
 ],
 "metadata": {
  "kernelspec": {
   "display_name": "Python 3",
   "language": "python",
   "name": "python3"
  },
  "language_info": {
   "codemirror_mode": {
    "name": "ipython",
    "version": 3
   },
   "file_extension": ".py",
   "mimetype": "text/x-python",
   "name": "python",
   "nbconvert_exporter": "python",
   "pygments_lexer": "ipython3",
   "version": "3.9.5"
  },
  "papermill": {
   "default_parameters": {},
   "duration": 6.481635,
   "end_time": "2021-09-09T15:00:11.932660",
   "environment_variables": {},
   "exception": null,
   "input_path": "eBay_Overview.ipynb",
   "output_path": "eBay_Overview.ipynb",
   "parameters": {},
   "start_time": "2021-09-09T15:00:05.451025",
   "version": "2.3.3"
  }
 },
 "nbformat": 4,
 "nbformat_minor": 5
}