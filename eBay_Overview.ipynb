{
 "cells": [
  {
   "cell_type": "code",
   "execution_count": 1,
   "id": "reverse-picking",
   "metadata": {
    "execution": {
     "iopub.execute_input": "2021-10-27T09:00:07.360206Z",
     "iopub.status.busy": "2021-10-27T09:00:07.358292Z",
     "iopub.status.idle": "2021-10-27T09:00:08.160933Z",
     "shell.execute_reply": "2021-10-27T09:00:08.162378Z"
    },
    "papermill": {
     "duration": 0.855212,
     "end_time": "2021-10-27T09:00:08.163056",
     "exception": false,
     "start_time": "2021-10-27T09:00:07.307844",
     "status": "completed"
    },
    "tags": []
   },
   "outputs": [],
   "source": [
    "import pandas as pd\n",
    "import sqlite3"
   ]
  },
  {
   "cell_type": "code",
   "execution_count": 2,
   "id": "innovative-syndrome",
   "metadata": {
    "execution": {
     "iopub.execute_input": "2021-10-27T09:00:08.214129Z",
     "iopub.status.busy": "2021-10-27T09:00:08.211751Z",
     "iopub.status.idle": "2021-10-27T09:00:08.863071Z",
     "shell.execute_reply": "2021-10-27T09:00:08.864272Z"
    },
    "papermill": {
     "duration": 0.681151,
     "end_time": "2021-10-27T09:00:08.864668",
     "exception": false,
     "start_time": "2021-10-27T09:00:08.183517",
     "status": "completed"
    },
    "tags": []
   },
   "outputs": [],
   "source": [
    "timestamps = pd.read_sql(\"select distinct record_time from EBAY_TOP_BERLIN order by record_time desc limit 2\", sqlite3.connect(\"UsedObjects.db\"))"
   ]
  },
  {
   "cell_type": "code",
   "execution_count": 3,
   "id": "periodic-identification",
   "metadata": {
    "execution": {
     "iopub.execute_input": "2021-10-27T09:00:08.943826Z",
     "iopub.status.busy": "2021-10-27T09:00:08.941822Z",
     "iopub.status.idle": "2021-10-27T09:00:08.961395Z",
     "shell.execute_reply": "2021-10-27T09:00:08.962529Z"
    },
    "papermill": {
     "duration": 0.069043,
     "end_time": "2021-10-27T09:00:08.962942",
     "exception": false,
     "start_time": "2021-10-27T09:00:08.893899",
     "status": "completed"
    },
    "tags": []
   },
   "outputs": [
    {
     "data": {
      "text/html": [
       "<div>\n",
       "<style scoped>\n",
       "    .dataframe tbody tr th:only-of-type {\n",
       "        vertical-align: middle;\n",
       "    }\n",
       "\n",
       "    .dataframe tbody tr th {\n",
       "        vertical-align: top;\n",
       "    }\n",
       "\n",
       "    .dataframe thead th {\n",
       "        text-align: right;\n",
       "    }\n",
       "</style>\n",
       "<table border=\"1\" class=\"dataframe\">\n",
       "  <thead>\n",
       "    <tr style=\"text-align: right;\">\n",
       "      <th></th>\n",
       "      <th>RECORD_TIME</th>\n",
       "    </tr>\n",
       "  </thead>\n",
       "  <tbody>\n",
       "    <tr>\n",
       "      <th>0</th>\n",
       "      <td>2021-10-27 11:00</td>\n",
       "    </tr>\n",
       "    <tr>\n",
       "      <th>1</th>\n",
       "      <td>2021-10-27 10:30</td>\n",
       "    </tr>\n",
       "  </tbody>\n",
       "</table>\n",
       "</div>"
      ],
      "text/plain": [
       "        RECORD_TIME\n",
       "0  2021-10-27 11:00\n",
       "1  2021-10-27 10:30"
      ]
     },
     "execution_count": 3,
     "metadata": {},
     "output_type": "execute_result"
    }
   ],
   "source": [
    "timestamps"
   ]
  },
  {
   "cell_type": "code",
   "execution_count": 4,
   "id": "alternate-victory",
   "metadata": {
    "execution": {
     "iopub.execute_input": "2021-10-27T09:00:09.016431Z",
     "iopub.status.busy": "2021-10-27T09:00:09.014173Z",
     "iopub.status.idle": "2021-10-27T09:00:09.968562Z",
     "shell.execute_reply": "2021-10-27T09:00:09.969759Z"
    },
    "papermill": {
     "duration": 0.98471,
     "end_time": "2021-10-27T09:00:09.970174",
     "exception": false,
     "start_time": "2021-10-27T09:00:08.985464",
     "status": "completed"
    },
    "tags": []
   },
   "outputs": [],
   "source": [
    "df = pd.read_sql(\"select * from EBAY_TOP_BERLIN where record_time in (select distinct record_time from EBAY_TOP_BERLIN order by record_time desc limit 2)\", sqlite3.connect(\"UsedObjects.db\"))"
   ]
  },
  {
   "cell_type": "code",
   "execution_count": 5,
   "id": "popular-active",
   "metadata": {
    "execution": {
     "iopub.execute_input": "2021-10-27T09:00:10.042750Z",
     "iopub.status.busy": "2021-10-27T09:00:10.030730Z",
     "iopub.status.idle": "2021-10-27T09:00:10.058811Z",
     "shell.execute_reply": "2021-10-27T09:00:10.060014Z"
    },
    "papermill": {
     "duration": 0.067536,
     "end_time": "2021-10-27T09:00:10.060409",
     "exception": false,
     "start_time": "2021-10-27T09:00:09.992873",
     "status": "completed"
    },
    "tags": []
   },
   "outputs": [],
   "source": [
    "df_pivot = df.pivot_table(index=\"PRODUCT\", columns = \"RECORD_TIME\", values = \"LISTING_COUNT\")"
   ]
  },
  {
   "cell_type": "code",
   "execution_count": 6,
   "id": "union-huntington",
   "metadata": {
    "execution": {
     "iopub.execute_input": "2021-10-27T09:00:10.117721Z",
     "iopub.status.busy": "2021-10-27T09:00:10.115517Z",
     "iopub.status.idle": "2021-10-27T09:00:10.121255Z",
     "shell.execute_reply": "2021-10-27T09:00:10.122851Z"
    },
    "papermill": {
     "duration": 0.041301,
     "end_time": "2021-10-27T09:00:10.123330",
     "exception": false,
     "start_time": "2021-10-27T09:00:10.082029",
     "status": "completed"
    },
    "tags": []
   },
   "outputs": [],
   "source": [
    "df_pivot.columns = [\"stamp_1\", \"stamp_2\"]\n",
    "df_pivot_diff = df_pivot.diff(axis=1)"
   ]
  },
  {
   "cell_type": "code",
   "execution_count": 7,
   "id": "fifth-motion",
   "metadata": {
    "execution": {
     "iopub.execute_input": "2021-10-27T09:00:10.178997Z",
     "iopub.status.busy": "2021-10-27T09:00:10.176581Z",
     "iopub.status.idle": "2021-10-27T09:00:11.673854Z",
     "shell.execute_reply": "2021-10-27T09:00:11.675136Z"
    },
    "papermill": {
     "duration": 1.530703,
     "end_time": "2021-10-27T09:00:11.675555",
     "exception": false,
     "start_time": "2021-10-27T09:00:10.144852",
     "status": "completed"
    },
    "tags": []
   },
   "outputs": [
    {
     "data": {
      "text/plain": [
       "<AxesSubplot:ylabel='PRODUCT'>"
      ]
     },
     "execution_count": 7,
     "metadata": {},
     "output_type": "execute_result"
    },
    {
     "data": {
      "image/png": "[encoded data removed]",
      "text/plain": [
       "<Figure size 432x288 with 1 Axes>"
      ]
     },
     "metadata": {
      "needs_background": "light"
     },
     "output_type": "display_data"
    }
   ],
   "source": [
    "df_pivot_diff.sort_values(\"stamp_2\", ascending = False)[\"stamp_2\"].head(10).plot.barh()"
   ]
  },
  {
   "cell_type": "code",
   "execution_count": null,
   "id": "extra-executive",
   "metadata": {
    "papermill": {
     "duration": 0.022166,
     "end_time": "2021-10-27T09:00:11.722362",
     "exception": false,
     "start_time": "2021-10-27T09:00:11.700196",
     "status": "completed"
    },
    "tags": []
   },
   "outputs": [],
   "source": []
  }
 ],
 "metadata": {
  "kernelspec": {
   "display_name": "Python 3",
   "language": "python",
   "name": "python3"
  },
  "language_info": {
   "codemirror_mode": {
    "name": "ipython",
    "version": 3
   },
   "file_extension": ".py",
   "mimetype": "text/x-python",
   "name": "python",
   "nbconvert_exporter": "python",
   "pygments_lexer": "ipython3",
   "version": "3.9.5"
  },
  "papermill": {
   "default_parameters": {},
   "duration": 7.456419,
   "end_time": "2021-10-27T09:00:12.365483",
   "environment_variables": {},
   "exception": null,
   "input_path": "eBay_Overview.ipynb",
   "output_path": "eBay_Overview.ipynb",
   "parameters": {},
   "start_time": "2021-10-27T09:00:04.909064",
   "version": "2.3.3"
  }
 },
 "nbformat": 4,
 "nbformat_minor": 5
}