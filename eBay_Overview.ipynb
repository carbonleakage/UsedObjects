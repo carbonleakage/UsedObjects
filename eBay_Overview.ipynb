{
 "cells": [
  {
   "cell_type": "code",
   "execution_count": 1,
   "id": "reverse-picking",
   "metadata": {
    "execution": {
     "iopub.execute_input": "2021-09-21T09:00:07.046311Z",
     "iopub.status.busy": "2021-09-21T09:00:07.044385Z",
     "iopub.status.idle": "2021-09-21T09:00:07.848578Z",
     "shell.execute_reply": "2021-09-21T09:00:07.849841Z"
    },
    "papermill": {
     "duration": 0.854476,
     "end_time": "2021-09-21T09:00:07.850461",
     "exception": false,
     "start_time": "2021-09-21T09:00:06.995985",
     "status": "completed"
    },
    "tags": []
   },
   "outputs": [],
   "source": [
    "import pandas as pd\n",
    "import sqlite3"
   ]
  },
  {
   "cell_type": "code",
   "execution_count": 2,
   "id": "innovative-syndrome",
   "metadata": {
    "execution": {
     "iopub.execute_input": "2021-09-21T09:00:07.901750Z",
     "iopub.status.busy": "2021-09-21T09:00:07.899899Z",
     "iopub.status.idle": "2021-09-21T09:00:08.238316Z",
     "shell.execute_reply": "2021-09-21T09:00:08.240311Z"
    },
    "papermill": {
     "duration": 0.369085,
     "end_time": "2021-09-21T09:00:08.240859",
     "exception": false,
     "start_time": "2021-09-21T09:00:07.871774",
     "status": "completed"
    },
    "tags": []
   },
   "outputs": [],
   "source": [
    "timestamps = pd.read_sql(\"select distinct record_time from EBAY_TOP_BERLIN order by record_time desc limit 2\", sqlite3.connect(\"UsedObjects.db\"))"
   ]
  },
  {
   "cell_type": "code",
   "execution_count": 3,
   "id": "periodic-identification",
   "metadata": {
    "execution": {
     "iopub.execute_input": "2021-09-21T09:00:08.307750Z",
     "iopub.status.busy": "2021-09-21T09:00:08.305645Z",
     "iopub.status.idle": "2021-09-21T09:00:08.325537Z",
     "shell.execute_reply": "2021-09-21T09:00:08.326733Z"
    },
    "papermill": {
     "duration": 0.066762,
     "end_time": "2021-09-21T09:00:08.327239",
     "exception": false,
     "start_time": "2021-09-21T09:00:08.260477",
     "status": "completed"
    },
    "tags": []
   },
   "outputs": [
    {
     "data": {
      "text/html": [
       "<div>\n",
       "<style scoped>\n",
       "    .dataframe tbody tr th:only-of-type {\n",
       "        vertical-align: middle;\n",
       "    }\n",
       "\n",
       "    .dataframe tbody tr th {\n",
       "        vertical-align: top;\n",
       "    }\n",
       "\n",
       "    .dataframe thead th {\n",
       "        text-align: right;\n",
       "    }\n",
       "</style>\n",
       "<table border=\"1\" class=\"dataframe\">\n",
       "  <thead>\n",
       "    <tr style=\"text-align: right;\">\n",
       "      <th></th>\n",
       "      <th>RECORD_TIME</th>\n",
       "    </tr>\n",
       "  </thead>\n",
       "  <tbody>\n",
       "    <tr>\n",
       "      <th>0</th>\n",
       "      <td>2021-09-21 11:00</td>\n",
       "    </tr>\n",
       "    <tr>\n",
       "      <th>1</th>\n",
       "      <td>2021-09-21 10:30</td>\n",
       "    </tr>\n",
       "  </tbody>\n",
       "</table>\n",
       "</div>"
      ],
      "text/plain": [
       "        RECORD_TIME\n",
       "0  2021-09-21 11:00\n",
       "1  2021-09-21 10:30"
      ]
     },
     "execution_count": 3,
     "metadata": {},
     "output_type": "execute_result"
    }
   ],
   "source": [
    "timestamps"
   ]
  },
  {
   "cell_type": "code",
   "execution_count": 4,
   "id": "alternate-victory",
   "metadata": {
    "execution": {
     "iopub.execute_input": "2021-09-21T09:00:08.381819Z",
     "iopub.status.busy": "2021-09-21T09:00:08.379532Z",
     "iopub.status.idle": "2021-09-21T09:00:08.889951Z",
     "shell.execute_reply": "2021-09-21T09:00:08.891242Z"
    },
    "papermill": {
     "duration": 0.541158,
     "end_time": "2021-09-21T09:00:08.891643",
     "exception": false,
     "start_time": "2021-09-21T09:00:08.350485",
     "status": "completed"
    },
    "tags": []
   },
   "outputs": [],
   "source": [
    "df = pd.read_sql(\"select * from EBAY_TOP_BERLIN where record_time in (select distinct record_time from EBAY_TOP_BERLIN order by record_time desc limit 2)\", sqlite3.connect(\"UsedObjects.db\"))"
   ]
  },
  {
   "cell_type": "code",
   "execution_count": 5,
   "id": "popular-active",
   "metadata": {
    "execution": {
     "iopub.execute_input": "2021-09-21T09:00:08.963532Z",
     "iopub.status.busy": "2021-09-21T09:00:08.956010Z",
     "iopub.status.idle": "2021-09-21T09:00:08.978926Z",
     "shell.execute_reply": "2021-09-21T09:00:08.980234Z"
    },
    "papermill": {
     "duration": 0.068332,
     "end_time": "2021-09-21T09:00:08.980653",
     "exception": false,
     "start_time": "2021-09-21T09:00:08.912321",
     "status": "completed"
    },
    "tags": []
   },
   "outputs": [],
   "source": [
    "df_pivot = df.pivot_table(index=\"PRODUCT\", columns = \"RECORD_TIME\", values = \"LISTING_COUNT\")"
   ]
  },
  {
   "cell_type": "code",
   "execution_count": 6,
   "id": "union-huntington",
   "metadata": {
    "execution": {
     "iopub.execute_input": "2021-09-21T09:00:09.037655Z",
     "iopub.status.busy": "2021-09-21T09:00:09.035626Z",
     "iopub.status.idle": "2021-09-21T09:00:09.041026Z",
     "shell.execute_reply": "2021-09-21T09:00:09.042216Z"
    },
    "papermill": {
     "duration": 0.040419,
     "end_time": "2021-09-21T09:00:09.042648",
     "exception": false,
     "start_time": "2021-09-21T09:00:09.002229",
     "status": "completed"
    },
    "tags": []
   },
   "outputs": [],
   "source": [
    "df_pivot.columns = [\"stamp_1\", \"stamp_2\"]\n",
    "df_pivot_diff = df_pivot.diff(axis=1)"
   ]
  },
  {
   "cell_type": "code",
   "execution_count": 7,
   "id": "fifth-motion",
   "metadata": {
    "execution": {
     "iopub.execute_input": "2021-09-21T09:00:09.103436Z",
     "iopub.status.busy": "2021-09-21T09:00:09.098466Z",
     "iopub.status.idle": "2021-09-21T09:00:10.601949Z",
     "shell.execute_reply": "2021-09-21T09:00:10.603213Z"
    },
    "papermill": {
     "duration": 1.537051,
     "end_time": "2021-09-21T09:00:10.603654",
     "exception": false,
     "start_time": "2021-09-21T09:00:09.066603",
     "status": "completed"
    },
    "tags": []
   },
   "outputs": [
    {
     "data": {
      "text/plain": [
       "<AxesSubplot:ylabel='PRODUCT'>"
      ]
     },
     "execution_count": 7,
     "metadata": {},
     "output_type": "execute_result"
    },
    {
     "data": {
      "image/png": "[encoded data removed]",
      "text/plain": [
       "<Figure size 432x288 with 1 Axes>"
      ]
     },
     "metadata": {
      "needs_background": "light"
     },
     "output_type": "display_data"
    }
   ],
   "source": [
    "df_pivot_diff.sort_values(\"stamp_2\", ascending = False)[\"stamp_2\"].head(10).plot.barh()"
   ]
  },
  {
   "cell_type": "code",
   "execution_count": null,
   "id": "extra-executive",
   "metadata": {
    "papermill": {
     "duration": 0.022786,
     "end_time": "2021-09-21T09:00:10.650701",
     "exception": false,
     "start_time": "2021-09-21T09:00:10.627915",
     "status": "completed"
    },
    "tags": []
   },
   "outputs": [],
   "source": []
  }
 ],
 "metadata": {
  "kernelspec": {
   "display_name": "Python 3",
   "language": "python",
   "name": "python3"
  },
  "language_info": {
   "codemirror_mode": {
    "name": "ipython",
    "version": 3
   },
   "file_extension": ".py",
   "mimetype": "text/x-python",
   "name": "python",
   "nbconvert_exporter": "python",
   "pygments_lexer": "ipython3",
   "version": "3.9.5"
  },
  "papermill": {
   "default_parameters": {},
   "duration": 6.706907,
   "end_time": "2021-09-21T09:00:11.294258",
   "environment_variables": {},
   "exception": null,
   "input_path": "eBay_Overview.ipynb",
   "output_path": "eBay_Overview.ipynb",
   "parameters": {},
   "start_time": "2021-09-21T09:00:04.587351",
   "version": "2.3.3"
  }
 },
 "nbformat": 4,
 "nbformat_minor": 5
}