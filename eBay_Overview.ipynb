{
 "cells": [
  {
   "cell_type": "code",
   "execution_count": 1,
   "id": "reverse-picking",
   "metadata": {
    "execution": {
     "iopub.execute_input": "2021-11-08T04:30:07.623254Z",
     "iopub.status.busy": "2021-11-08T04:30:07.619637Z",
     "iopub.status.idle": "2021-11-08T04:30:08.565319Z",
     "shell.execute_reply": "2021-11-08T04:30:08.566903Z"
    },
    "papermill": {
     "duration": 0.994008,
     "end_time": "2021-11-08T04:30:08.567593",
     "exception": false,
     "start_time": "2021-11-08T04:30:07.573585",
     "status": "completed"
    },
    "tags": []
   },
   "outputs": [],
   "source": [
    "import pandas as pd\n",
    "import sqlite3"
   ]
  },
  {
   "cell_type": "code",
   "execution_count": 2,
   "id": "innovative-syndrome",
   "metadata": {
    "execution": {
     "iopub.execute_input": "2021-11-08T04:30:08.631666Z",
     "iopub.status.busy": "2021-11-08T04:30:08.629490Z",
     "iopub.status.idle": "2021-11-08T04:30:09.384066Z",
     "shell.execute_reply": "2021-11-08T04:30:09.385700Z"
    },
    "papermill": {
     "duration": 0.797462,
     "end_time": "2021-11-08T04:30:09.386190",
     "exception": false,
     "start_time": "2021-11-08T04:30:08.588728",
     "status": "completed"
    },
    "tags": []
   },
   "outputs": [],
   "source": [
    "timestamps = pd.read_sql(\"select distinct record_time from EBAY_TOP_BERLIN order by record_time desc limit 2\", sqlite3.connect(\"UsedObjects.db\"))"
   ]
  },
  {
   "cell_type": "code",
   "execution_count": 3,
   "id": "periodic-identification",
   "metadata": {
    "execution": {
     "iopub.execute_input": "2021-11-08T04:30:09.459125Z",
     "iopub.status.busy": "2021-11-08T04:30:09.455434Z",
     "iopub.status.idle": "2021-11-08T04:30:09.481190Z",
     "shell.execute_reply": "2021-11-08T04:30:09.479543Z"
    },
    "papermill": {
     "duration": 0.07493,
     "end_time": "2021-11-08T04:30:09.481616",
     "exception": false,
     "start_time": "2021-11-08T04:30:09.406686",
     "status": "completed"
    },
    "tags": []
   },
   "outputs": [
    {
     "data": {
      "text/html": [
       "<div>\n",
       "<style scoped>\n",
       "    .dataframe tbody tr th:only-of-type {\n",
       "        vertical-align: middle;\n",
       "    }\n",
       "\n",
       "    .dataframe tbody tr th {\n",
       "        vertical-align: top;\n",
       "    }\n",
       "\n",
       "    .dataframe thead th {\n",
       "        text-align: right;\n",
       "    }\n",
       "</style>\n",
       "<table border=\"1\" class=\"dataframe\">\n",
       "  <thead>\n",
       "    <tr style=\"text-align: right;\">\n",
       "      <th></th>\n",
       "      <th>RECORD_TIME</th>\n",
       "    </tr>\n",
       "  </thead>\n",
       "  <tbody>\n",
       "    <tr>\n",
       "      <th>0</th>\n",
       "      <td>2021-11-08 05:30</td>\n",
       "    </tr>\n",
       "    <tr>\n",
       "      <th>1</th>\n",
       "      <td>2021-11-08 05:00</td>\n",
       "    </tr>\n",
       "  </tbody>\n",
       "</table>\n",
       "</div>"
      ],
      "text/plain": [
       "        RECORD_TIME\n",
       "0  2021-11-08 05:30\n",
       "1  2021-11-08 05:00"
      ]
     },
     "execution_count": 3,
     "metadata": {},
     "output_type": "execute_result"
    }
   ],
   "source": [
    "timestamps"
   ]
  },
  {
   "cell_type": "code",
   "execution_count": 4,
   "id": "alternate-victory",
   "metadata": {
    "execution": {
     "iopub.execute_input": "2021-11-08T04:30:09.538318Z",
     "iopub.status.busy": "2021-11-08T04:30:09.535980Z",
     "iopub.status.idle": "2021-11-08T04:30:10.657889Z",
     "shell.execute_reply": "2021-11-08T04:30:10.659322Z"
    },
    "papermill": {
     "duration": 1.155977,
     "end_time": "2021-11-08T04:30:10.659758",
     "exception": false,
     "start_time": "2021-11-08T04:30:09.503781",
     "status": "completed"
    },
    "tags": []
   },
   "outputs": [],
   "source": [
    "df = pd.read_sql(\"select * from EBAY_TOP_BERLIN where record_time in (select distinct record_time from EBAY_TOP_BERLIN order by record_time desc limit 2)\", sqlite3.connect(\"UsedObjects.db\"))"
   ]
  },
  {
   "cell_type": "code",
   "execution_count": 5,
   "id": "popular-active",
   "metadata": {
    "execution": {
     "iopub.execute_input": "2021-11-08T04:30:10.723432Z",
     "iopub.status.busy": "2021-11-08T04:30:10.721160Z",
     "iopub.status.idle": "2021-11-08T04:30:10.753212Z",
     "shell.execute_reply": "2021-11-08T04:30:10.754821Z"
    },
    "papermill": {
     "duration": 0.07434,
     "end_time": "2021-11-08T04:30:10.755336",
     "exception": false,
     "start_time": "2021-11-08T04:30:10.680996",
     "status": "completed"
    },
    "tags": []
   },
   "outputs": [],
   "source": [
    "df_pivot = df.pivot_table(index=\"PRODUCT\", columns = \"RECORD_TIME\", values = \"LISTING_COUNT\")"
   ]
  },
  {
   "cell_type": "code",
   "execution_count": 6,
   "id": "union-huntington",
   "metadata": {
    "execution": {
     "iopub.execute_input": "2021-11-08T04:30:10.815894Z",
     "iopub.status.busy": "2021-11-08T04:30:10.813914Z",
     "iopub.status.idle": "2021-11-08T04:30:10.824994Z",
     "shell.execute_reply": "2021-11-08T04:30:10.823661Z"
    },
    "papermill": {
     "duration": 0.048612,
     "end_time": "2021-11-08T04:30:10.825356",
     "exception": false,
     "start_time": "2021-11-08T04:30:10.776744",
     "status": "completed"
    },
    "tags": []
   },
   "outputs": [],
   "source": [
    "df_pivot.columns = [\"stamp_1\", \"stamp_2\"]\n",
    "df_pivot_diff = df_pivot.diff(axis=1)"
   ]
  },
  {
   "cell_type": "code",
   "execution_count": 7,
   "id": "fifth-motion",
   "metadata": {
    "execution": {
     "iopub.execute_input": "2021-11-08T04:30:10.882933Z",
     "iopub.status.busy": "2021-11-08T04:30:10.880404Z",
     "iopub.status.idle": "2021-11-08T04:30:12.677155Z",
     "shell.execute_reply": "2021-11-08T04:30:12.675388Z"
    },
    "papermill": {
     "duration": 1.831427,
     "end_time": "2021-11-08T04:30:12.677579",
     "exception": false,
     "start_time": "2021-11-08T04:30:10.846152",
     "status": "completed"
    },
    "tags": []
   },
   "outputs": [
    {
     "data": {
      "text/plain": [
       "<AxesSubplot:ylabel='PRODUCT'>"
      ]
     },
     "execution_count": 7,
     "metadata": {},
     "output_type": "execute_result"
    },
    {
     "data": {
      "image/png": "[encoded data removed]",
      "text/plain": [
       "<Figure size 432x288 with 1 Axes>"
      ]
     },
     "metadata": {
      "needs_background": "light"
     },
     "output_type": "display_data"
    }
   ],
   "source": [
    "df_pivot_diff.sort_values(\"stamp_2\", ascending = False)[\"stamp_2\"].head(10).plot.barh()"
   ]
  },
  {
   "cell_type": "code",
   "execution_count": null,
   "id": "extra-executive",
   "metadata": {
    "papermill": {
     "duration": 0.026916,
     "end_time": "2021-11-08T04:30:12.730556",
     "exception": false,
     "start_time": "2021-11-08T04:30:12.703640",
     "status": "completed"
    },
    "tags": []
   },
   "outputs": [],
   "source": []
  }
 ],
 "metadata": {
  "kernelspec": {
   "display_name": "Python 3",
   "language": "python",
   "name": "python3"
  },
  "language_info": {
   "codemirror_mode": {
    "name": "ipython",
    "version": 3
   },
   "file_extension": ".py",
   "mimetype": "text/x-python",
   "name": "python",
   "nbconvert_exporter": "python",
   "pygments_lexer": "ipython3",
   "version": "3.9.5"
  },
  "papermill": {
   "default_parameters": {},
   "duration": 8.703949,
   "end_time": "2021-11-08T04:30:13.478115",
   "environment_variables": {},
   "exception": null,
   "input_path": "eBay_Overview.ipynb",
   "output_path": "eBay_Overview.ipynb",
   "parameters": {},
   "start_time": "2021-11-08T04:30:04.774166",
   "version": "2.3.3"
  }
 },
 "nbformat": 4,
 "nbformat_minor": 5
}