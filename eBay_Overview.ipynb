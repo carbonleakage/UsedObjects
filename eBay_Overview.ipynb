{
 "cells": [
  {
   "cell_type": "code",
   "execution_count": 1,
   "id": "reverse-picking",
   "metadata": {
    "execution": {
     "iopub.execute_input": "2021-09-01T03:00:07.320977Z",
     "iopub.status.busy": "2021-09-01T03:00:07.318926Z",
     "iopub.status.idle": "2021-09-01T03:00:08.122853Z",
     "shell.execute_reply": "2021-09-01T03:00:08.124291Z"
    },
    "papermill": {
     "duration": 0.855334,
     "end_time": "2021-09-01T03:00:08.124916",
     "exception": false,
     "start_time": "2021-09-01T03:00:07.269582",
     "status": "completed"
    },
    "tags": []
   },
   "outputs": [],
   "source": [
    "import pandas as pd\n",
    "import sqlite3"
   ]
  },
  {
   "cell_type": "code",
   "execution_count": 2,
   "id": "innovative-syndrome",
   "metadata": {
    "execution": {
     "iopub.execute_input": "2021-09-01T03:00:08.179462Z",
     "iopub.status.busy": "2021-09-01T03:00:08.177026Z",
     "iopub.status.idle": "2021-09-01T03:00:08.358727Z",
     "shell.execute_reply": "2021-09-01T03:00:08.360093Z"
    },
    "papermill": {
     "duration": 0.212113,
     "end_time": "2021-09-01T03:00:08.360516",
     "exception": false,
     "start_time": "2021-09-01T03:00:08.148403",
     "status": "completed"
    },
    "tags": []
   },
   "outputs": [],
   "source": [
    "timestamps = pd.read_sql(\"select distinct record_time from EBAY_TOP_BERLIN order by record_time desc limit 2\", sqlite3.connect(\"UsedObjects.db\"))"
   ]
  },
  {
   "cell_type": "code",
   "execution_count": 3,
   "id": "periodic-identification",
   "metadata": {
    "execution": {
     "iopub.execute_input": "2021-09-01T03:00:08.426166Z",
     "iopub.status.busy": "2021-09-01T03:00:08.424146Z",
     "iopub.status.idle": "2021-09-01T03:00:08.444240Z",
     "shell.execute_reply": "2021-09-01T03:00:08.445438Z"
    },
    "papermill": {
     "duration": 0.064742,
     "end_time": "2021-09-01T03:00:08.445867",
     "exception": false,
     "start_time": "2021-09-01T03:00:08.381125",
     "status": "completed"
    },
    "tags": []
   },
   "outputs": [
    {
     "data": {
      "text/html": [
       "<div>\n",
       "<style scoped>\n",
       "    .dataframe tbody tr th:only-of-type {\n",
       "        vertical-align: middle;\n",
       "    }\n",
       "\n",
       "    .dataframe tbody tr th {\n",
       "        vertical-align: top;\n",
       "    }\n",
       "\n",
       "    .dataframe thead th {\n",
       "        text-align: right;\n",
       "    }\n",
       "</style>\n",
       "<table border=\"1\" class=\"dataframe\">\n",
       "  <thead>\n",
       "    <tr style=\"text-align: right;\">\n",
       "      <th></th>\n",
       "      <th>RECORD_TIME</th>\n",
       "    </tr>\n",
       "  </thead>\n",
       "  <tbody>\n",
       "    <tr>\n",
       "      <th>0</th>\n",
       "      <td>2021-09-01 05:00</td>\n",
       "    </tr>\n",
       "    <tr>\n",
       "      <th>1</th>\n",
       "      <td>2021-09-01 04:30</td>\n",
       "    </tr>\n",
       "  </tbody>\n",
       "</table>\n",
       "</div>"
      ],
      "text/plain": [
       "        RECORD_TIME\n",
       "0  2021-09-01 05:00\n",
       "1  2021-09-01 04:30"
      ]
     },
     "execution_count": 3,
     "metadata": {},
     "output_type": "execute_result"
    }
   ],
   "source": [
    "timestamps"
   ]
  },
  {
   "cell_type": "code",
   "execution_count": 4,
   "id": "alternate-victory",
   "metadata": {
    "execution": {
     "iopub.execute_input": "2021-09-01T03:00:08.500218Z",
     "iopub.status.busy": "2021-09-01T03:00:08.497830Z",
     "iopub.status.idle": "2021-09-01T03:00:08.771920Z",
     "shell.execute_reply": "2021-09-01T03:00:08.773317Z"
    },
    "papermill": {
     "duration": 0.304945,
     "end_time": "2021-09-01T03:00:08.773761",
     "exception": false,
     "start_time": "2021-09-01T03:00:08.468816",
     "status": "completed"
    },
    "tags": []
   },
   "outputs": [],
   "source": [
    "df = pd.read_sql(\"select * from EBAY_TOP_BERLIN where record_time in (select distinct record_time from EBAY_TOP_BERLIN order by record_time desc limit 2)\", sqlite3.connect(\"UsedObjects.db\"))"
   ]
  },
  {
   "cell_type": "code",
   "execution_count": 5,
   "id": "popular-active",
   "metadata": {
    "execution": {
     "iopub.execute_input": "2021-09-01T03:00:08.854316Z",
     "iopub.status.busy": "2021-09-01T03:00:08.843525Z",
     "iopub.status.idle": "2021-09-01T03:00:08.869643Z",
     "shell.execute_reply": "2021-09-01T03:00:08.870915Z"
    },
    "papermill": {
     "duration": 0.071206,
     "end_time": "2021-09-01T03:00:08.871322",
     "exception": false,
     "start_time": "2021-09-01T03:00:08.800116",
     "status": "completed"
    },
    "tags": []
   },
   "outputs": [],
   "source": [
    "df_pivot = df.pivot_table(index=\"PRODUCT\", columns = \"RECORD_TIME\", values = \"LISTING_COUNT\")"
   ]
  },
  {
   "cell_type": "code",
   "execution_count": 6,
   "id": "union-huntington",
   "metadata": {
    "execution": {
     "iopub.execute_input": "2021-09-01T03:00:08.928533Z",
     "iopub.status.busy": "2021-09-01T03:00:08.926299Z",
     "iopub.status.idle": "2021-09-01T03:00:08.931775Z",
     "shell.execute_reply": "2021-09-01T03:00:08.933167Z"
    },
    "papermill": {
     "duration": 0.041249,
     "end_time": "2021-09-01T03:00:08.933607",
     "exception": false,
     "start_time": "2021-09-01T03:00:08.892358",
     "status": "completed"
    },
    "tags": []
   },
   "outputs": [],
   "source": [
    "df_pivot.columns = [\"stamp_1\", \"stamp_2\"]\n",
    "df_pivot_diff = df_pivot.diff(axis=1)"
   ]
  },
  {
   "cell_type": "code",
   "execution_count": 7,
   "id": "fifth-motion",
   "metadata": {
    "execution": {
     "iopub.execute_input": "2021-09-01T03:00:08.988243Z",
     "iopub.status.busy": "2021-09-01T03:00:08.985679Z",
     "iopub.status.idle": "2021-09-01T03:00:10.508080Z",
     "shell.execute_reply": "2021-09-01T03:00:10.509291Z"
    },
    "papermill": {
     "duration": 1.555388,
     "end_time": "2021-09-01T03:00:10.509727",
     "exception": false,
     "start_time": "2021-09-01T03:00:08.954339",
     "status": "completed"
    },
    "tags": []
   },
   "outputs": [
    {
     "data": {
      "text/plain": [
       "<AxesSubplot:ylabel='PRODUCT'>"
      ]
     },
     "execution_count": 7,
     "metadata": {},
     "output_type": "execute_result"
    },
    {
     "data": {
      "image/png": "[encoded data removed]",
      "text/plain": [
       "<Figure size 432x288 with 1 Axes>"
      ]
     },
     "metadata": {
      "needs_background": "light"
     },
     "output_type": "display_data"
    }
   ],
   "source": [
    "df_pivot_diff.sort_values(\"stamp_2\", ascending = False)[\"stamp_2\"].head(10).plot.barh()"
   ]
  },
  {
   "cell_type": "code",
   "execution_count": null,
   "id": "extra-executive",
   "metadata": {
    "papermill": {
     "duration": 0.022562,
     "end_time": "2021-09-01T03:00:10.559509",
     "exception": false,
     "start_time": "2021-09-01T03:00:10.536947",
     "status": "completed"
    },
    "tags": []
   },
   "outputs": [],
   "source": []
  }
 ],
 "metadata": {
  "kernelspec": {
   "display_name": "Python 3",
   "language": "python",
   "name": "python3"
  },
  "language_info": {
   "codemirror_mode": {
    "name": "ipython",
    "version": 3
   },
   "file_extension": ".py",
   "mimetype": "text/x-python",
   "name": "python",
   "nbconvert_exporter": "python",
   "pygments_lexer": "ipython3",
   "version": "3.9.5"
  },
  "papermill": {
   "default_parameters": {},
   "duration": 6.335658,
   "end_time": "2021-09-01T03:00:11.202735",
   "environment_variables": {},
   "exception": null,
   "input_path": "eBay_Overview.ipynb",
   "output_path": "eBay_Overview.ipynb",
   "parameters": {},
   "start_time": "2021-09-01T03:00:04.867077",
   "version": "2.3.3"
  }
 },
 "nbformat": 4,
 "nbformat_minor": 5
}