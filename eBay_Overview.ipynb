{
 "cells": [
  {
   "cell_type": "code",
   "execution_count": 1,
   "id": "reverse-picking",
   "metadata": {
    "execution": {
     "iopub.execute_input": "2021-10-11T11:30:07.186634Z",
     "iopub.status.busy": "2021-10-11T11:30:07.184593Z",
     "iopub.status.idle": "2021-10-11T11:30:07.986888Z",
     "shell.execute_reply": "2021-10-11T11:30:07.985117Z"
    },
    "papermill": {
     "duration": 0.852994,
     "end_time": "2021-10-11T11:30:07.987330",
     "exception": false,
     "start_time": "2021-10-11T11:30:07.134336",
     "status": "completed"
    },
    "tags": []
   },
   "outputs": [],
   "source": [
    "import pandas as pd\n",
    "import sqlite3"
   ]
  },
  {
   "cell_type": "code",
   "execution_count": 2,
   "id": "innovative-syndrome",
   "metadata": {
    "execution": {
     "iopub.execute_input": "2021-10-11T11:30:08.038982Z",
     "iopub.status.busy": "2021-10-11T11:30:08.036599Z",
     "iopub.status.idle": "2021-10-11T11:30:08.558984Z",
     "shell.execute_reply": "2021-10-11T11:30:08.560183Z"
    },
    "papermill": {
     "duration": 0.552502,
     "end_time": "2021-10-11T11:30:08.560578",
     "exception": false,
     "start_time": "2021-10-11T11:30:08.008076",
     "status": "completed"
    },
    "tags": []
   },
   "outputs": [],
   "source": [
    "timestamps = pd.read_sql(\"select distinct record_time from EBAY_TOP_BERLIN order by record_time desc limit 2\", sqlite3.connect(\"UsedObjects.db\"))"
   ]
  },
  {
   "cell_type": "code",
   "execution_count": 3,
   "id": "periodic-identification",
   "metadata": {
    "execution": {
     "iopub.execute_input": "2021-10-11T11:30:08.628427Z",
     "iopub.status.busy": "2021-10-11T11:30:08.623424Z",
     "iopub.status.idle": "2021-10-11T11:30:08.643532Z",
     "shell.execute_reply": "2021-10-11T11:30:08.644952Z"
    },
    "papermill": {
     "duration": 0.065403,
     "end_time": "2021-10-11T11:30:08.645401",
     "exception": false,
     "start_time": "2021-10-11T11:30:08.579998",
     "status": "completed"
    },
    "tags": []
   },
   "outputs": [
    {
     "data": {
      "text/html": [
       "<div>\n",
       "<style scoped>\n",
       "    .dataframe tbody tr th:only-of-type {\n",
       "        vertical-align: middle;\n",
       "    }\n",
       "\n",
       "    .dataframe tbody tr th {\n",
       "        vertical-align: top;\n",
       "    }\n",
       "\n",
       "    .dataframe thead th {\n",
       "        text-align: right;\n",
       "    }\n",
       "</style>\n",
       "<table border=\"1\" class=\"dataframe\">\n",
       "  <thead>\n",
       "    <tr style=\"text-align: right;\">\n",
       "      <th></th>\n",
       "      <th>RECORD_TIME</th>\n",
       "    </tr>\n",
       "  </thead>\n",
       "  <tbody>\n",
       "    <tr>\n",
       "      <th>0</th>\n",
       "      <td>2021-10-11 13:30</td>\n",
       "    </tr>\n",
       "    <tr>\n",
       "      <th>1</th>\n",
       "      <td>2021-10-11 13:00</td>\n",
       "    </tr>\n",
       "  </tbody>\n",
       "</table>\n",
       "</div>"
      ],
      "text/plain": [
       "        RECORD_TIME\n",
       "0  2021-10-11 13:30\n",
       "1  2021-10-11 13:00"
      ]
     },
     "execution_count": 3,
     "metadata": {},
     "output_type": "execute_result"
    }
   ],
   "source": [
    "timestamps"
   ]
  },
  {
   "cell_type": "code",
   "execution_count": 4,
   "id": "alternate-victory",
   "metadata": {
    "execution": {
     "iopub.execute_input": "2021-10-11T11:30:08.707000Z",
     "iopub.status.busy": "2021-10-11T11:30:08.704972Z",
     "iopub.status.idle": "2021-10-11T11:30:09.459073Z",
     "shell.execute_reply": "2021-10-11T11:30:09.460283Z"
    },
    "papermill": {
     "duration": 0.788485,
     "end_time": "2021-10-11T11:30:09.460674",
     "exception": false,
     "start_time": "2021-10-11T11:30:08.672189",
     "status": "completed"
    },
    "tags": []
   },
   "outputs": [],
   "source": [
    "df = pd.read_sql(\"select * from EBAY_TOP_BERLIN where record_time in (select distinct record_time from EBAY_TOP_BERLIN order by record_time desc limit 2)\", sqlite3.connect(\"UsedObjects.db\"))"
   ]
  },
  {
   "cell_type": "code",
   "execution_count": 5,
   "id": "popular-active",
   "metadata": {
    "execution": {
     "iopub.execute_input": "2021-10-11T11:30:09.526304Z",
     "iopub.status.busy": "2021-10-11T11:30:09.518743Z",
     "iopub.status.idle": "2021-10-11T11:30:09.547305Z",
     "shell.execute_reply": "2021-10-11T11:30:09.548839Z"
    },
    "papermill": {
     "duration": 0.067755,
     "end_time": "2021-10-11T11:30:09.549320",
     "exception": false,
     "start_time": "2021-10-11T11:30:09.481565",
     "status": "completed"
    },
    "tags": []
   },
   "outputs": [],
   "source": [
    "df_pivot = df.pivot_table(index=\"PRODUCT\", columns = \"RECORD_TIME\", values = \"LISTING_COUNT\")"
   ]
  },
  {
   "cell_type": "code",
   "execution_count": 6,
   "id": "union-huntington",
   "metadata": {
    "execution": {
     "iopub.execute_input": "2021-10-11T11:30:09.606544Z",
     "iopub.status.busy": "2021-10-11T11:30:09.604320Z",
     "iopub.status.idle": "2021-10-11T11:30:09.609811Z",
     "shell.execute_reply": "2021-10-11T11:30:09.611167Z"
    },
    "papermill": {
     "duration": 0.040977,
     "end_time": "2021-10-11T11:30:09.611601",
     "exception": false,
     "start_time": "2021-10-11T11:30:09.570624",
     "status": "completed"
    },
    "tags": []
   },
   "outputs": [],
   "source": [
    "df_pivot.columns = [\"stamp_1\", \"stamp_2\"]\n",
    "df_pivot_diff = df_pivot.diff(axis=1)"
   ]
  },
  {
   "cell_type": "code",
   "execution_count": 7,
   "id": "fifth-motion",
   "metadata": {
    "execution": {
     "iopub.execute_input": "2021-10-11T11:30:09.669737Z",
     "iopub.status.busy": "2021-10-11T11:30:09.667029Z",
     "iopub.status.idle": "2021-10-11T11:30:11.151618Z",
     "shell.execute_reply": "2021-10-11T11:30:11.152955Z"
    },
    "papermill": {
     "duration": 1.518531,
     "end_time": "2021-10-11T11:30:11.153401",
     "exception": false,
     "start_time": "2021-10-11T11:30:09.634870",
     "status": "completed"
    },
    "tags": []
   },
   "outputs": [
    {
     "data": {
      "text/plain": [
       "<AxesSubplot:ylabel='PRODUCT'>"
      ]
     },
     "execution_count": 7,
     "metadata": {},
     "output_type": "execute_result"
    },
    {
     "data": {
      "image/png": "[encoded data removed]",
      "text/plain": [
       "<Figure size 432x288 with 1 Axes>"
      ]
     },
     "metadata": {
      "needs_background": "light"
     },
     "output_type": "display_data"
    }
   ],
   "source": [
    "df_pivot_diff.sort_values(\"stamp_2\", ascending = False)[\"stamp_2\"].head(10).plot.barh()"
   ]
  },
  {
   "cell_type": "code",
   "execution_count": null,
   "id": "extra-executive",
   "metadata": {
    "papermill": {
     "duration": 0.022651,
     "end_time": "2021-10-11T11:30:11.199177",
     "exception": false,
     "start_time": "2021-10-11T11:30:11.176526",
     "status": "completed"
    },
    "tags": []
   },
   "outputs": [],
   "source": []
  }
 ],
 "metadata": {
  "kernelspec": {
   "display_name": "Python 3",
   "language": "python",
   "name": "python3"
  },
  "language_info": {
   "codemirror_mode": {
    "name": "ipython",
    "version": 3
   },
   "file_extension": ".py",
   "mimetype": "text/x-python",
   "name": "python",
   "nbconvert_exporter": "python",
   "pygments_lexer": "ipython3",
   "version": "3.9.5"
  },
  "papermill": {
   "default_parameters": {},
   "duration": 7.82194,
   "end_time": "2021-10-11T11:30:12.552138",
   "environment_variables": {},
   "exception": null,
   "input_path": "eBay_Overview.ipynb",
   "output_path": "eBay_Overview.ipynb",
   "parameters": {},
   "start_time": "2021-10-11T11:30:04.730198",
   "version": "2.3.3"
  }
 },
 "nbformat": 4,
 "nbformat_minor": 5
}