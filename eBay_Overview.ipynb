{
 "cells": [
  {
   "cell_type": "code",
   "execution_count": 1,
   "id": "reverse-picking",
   "metadata": {
    "execution": {
     "iopub.execute_input": "2021-10-15T13:00:07.441061Z",
     "iopub.status.busy": "2021-10-15T13:00:07.439038Z",
     "iopub.status.idle": "2021-10-15T13:00:08.243783Z",
     "shell.execute_reply": "2021-10-15T13:00:08.245191Z"
    },
    "papermill": {
     "duration": 0.856281,
     "end_time": "2021-10-15T13:00:08.245859",
     "exception": false,
     "start_time": "2021-10-15T13:00:07.389578",
     "status": "completed"
    },
    "tags": []
   },
   "outputs": [],
   "source": [
    "import pandas as pd\n",
    "import sqlite3"
   ]
  },
  {
   "cell_type": "code",
   "execution_count": 2,
   "id": "innovative-syndrome",
   "metadata": {
    "execution": {
     "iopub.execute_input": "2021-10-15T13:00:08.297290Z",
     "iopub.status.busy": "2021-10-15T13:00:08.295129Z",
     "iopub.status.idle": "2021-10-15T13:00:08.840300Z",
     "shell.execute_reply": "2021-10-15T13:00:08.842271Z"
    },
    "papermill": {
     "duration": 0.57667,
     "end_time": "2021-10-15T13:00:08.842835",
     "exception": false,
     "start_time": "2021-10-15T13:00:08.266165",
     "status": "completed"
    },
    "tags": []
   },
   "outputs": [],
   "source": [
    "timestamps = pd.read_sql(\"select distinct record_time from EBAY_TOP_BERLIN order by record_time desc limit 2\", sqlite3.connect(\"UsedObjects.db\"))"
   ]
  },
  {
   "cell_type": "code",
   "execution_count": 3,
   "id": "periodic-identification",
   "metadata": {
    "execution": {
     "iopub.execute_input": "2021-10-15T13:00:08.919137Z",
     "iopub.status.busy": "2021-10-15T13:00:08.913931Z",
     "iopub.status.idle": "2021-10-15T13:00:08.935610Z",
     "shell.execute_reply": "2021-10-15T13:00:08.937377Z"
    },
    "papermill": {
     "duration": 0.070215,
     "end_time": "2021-10-15T13:00:08.937919",
     "exception": false,
     "start_time": "2021-10-15T13:00:08.867704",
     "status": "completed"
    },
    "tags": []
   },
   "outputs": [
    {
     "data": {
      "text/html": [
       "<div>\n",
       "<style scoped>\n",
       "    .dataframe tbody tr th:only-of-type {\n",
       "        vertical-align: middle;\n",
       "    }\n",
       "\n",
       "    .dataframe tbody tr th {\n",
       "        vertical-align: top;\n",
       "    }\n",
       "\n",
       "    .dataframe thead th {\n",
       "        text-align: right;\n",
       "    }\n",
       "</style>\n",
       "<table border=\"1\" class=\"dataframe\">\n",
       "  <thead>\n",
       "    <tr style=\"text-align: right;\">\n",
       "      <th></th>\n",
       "      <th>RECORD_TIME</th>\n",
       "    </tr>\n",
       "  </thead>\n",
       "  <tbody>\n",
       "    <tr>\n",
       "      <th>0</th>\n",
       "      <td>2021-10-15 15:00</td>\n",
       "    </tr>\n",
       "    <tr>\n",
       "      <th>1</th>\n",
       "      <td>2021-10-15 14:30</td>\n",
       "    </tr>\n",
       "  </tbody>\n",
       "</table>\n",
       "</div>"
      ],
      "text/plain": [
       "        RECORD_TIME\n",
       "0  2021-10-15 15:00\n",
       "1  2021-10-15 14:30"
      ]
     },
     "execution_count": 3,
     "metadata": {},
     "output_type": "execute_result"
    }
   ],
   "source": [
    "timestamps"
   ]
  },
  {
   "cell_type": "code",
   "execution_count": 4,
   "id": "alternate-victory",
   "metadata": {
    "execution": {
     "iopub.execute_input": "2021-10-15T13:00:08.991238Z",
     "iopub.status.busy": "2021-10-15T13:00:08.989170Z",
     "iopub.status.idle": "2021-10-15T13:00:09.797265Z",
     "shell.execute_reply": "2021-10-15T13:00:09.798618Z"
    },
    "papermill": {
     "duration": 0.838645,
     "end_time": "2021-10-15T13:00:09.799020",
     "exception": false,
     "start_time": "2021-10-15T13:00:08.960375",
     "status": "completed"
    },
    "tags": []
   },
   "outputs": [],
   "source": [
    "df = pd.read_sql(\"select * from EBAY_TOP_BERLIN where record_time in (select distinct record_time from EBAY_TOP_BERLIN order by record_time desc limit 2)\", sqlite3.connect(\"UsedObjects.db\"))"
   ]
  },
  {
   "cell_type": "code",
   "execution_count": 5,
   "id": "popular-active",
   "metadata": {
    "execution": {
     "iopub.execute_input": "2021-10-15T13:00:09.869990Z",
     "iopub.status.busy": "2021-10-15T13:00:09.858314Z",
     "iopub.status.idle": "2021-10-15T13:00:09.885730Z",
     "shell.execute_reply": "2021-10-15T13:00:09.886976Z"
    },
    "papermill": {
     "duration": 0.066808,
     "end_time": "2021-10-15T13:00:09.887376",
     "exception": false,
     "start_time": "2021-10-15T13:00:09.820568",
     "status": "completed"
    },
    "tags": []
   },
   "outputs": [],
   "source": [
    "df_pivot = df.pivot_table(index=\"PRODUCT\", columns = \"RECORD_TIME\", values = \"LISTING_COUNT\")"
   ]
  },
  {
   "cell_type": "code",
   "execution_count": 6,
   "id": "union-huntington",
   "metadata": {
    "execution": {
     "iopub.execute_input": "2021-10-15T13:00:09.946412Z",
     "iopub.status.busy": "2021-10-15T13:00:09.943888Z",
     "iopub.status.idle": "2021-10-15T13:00:09.951791Z",
     "shell.execute_reply": "2021-10-15T13:00:09.950191Z"
    },
    "papermill": {
     "duration": 0.042579,
     "end_time": "2021-10-15T13:00:09.952191",
     "exception": false,
     "start_time": "2021-10-15T13:00:09.909612",
     "status": "completed"
    },
    "tags": []
   },
   "outputs": [],
   "source": [
    "df_pivot.columns = [\"stamp_1\", \"stamp_2\"]\n",
    "df_pivot_diff = df_pivot.diff(axis=1)"
   ]
  },
  {
   "cell_type": "code",
   "execution_count": 7,
   "id": "fifth-motion",
   "metadata": {
    "execution": {
     "iopub.execute_input": "2021-10-15T13:00:10.007266Z",
     "iopub.status.busy": "2021-10-15T13:00:10.004833Z",
     "iopub.status.idle": "2021-10-15T13:00:11.454805Z",
     "shell.execute_reply": "2021-10-15T13:00:11.456125Z"
    },
    "papermill": {
     "duration": 1.482801,
     "end_time": "2021-10-15T13:00:11.456545",
     "exception": false,
     "start_time": "2021-10-15T13:00:09.973744",
     "status": "completed"
    },
    "tags": []
   },
   "outputs": [
    {
     "data": {
      "text/plain": [
       "<AxesSubplot:ylabel='PRODUCT'>"
      ]
     },
     "execution_count": 7,
     "metadata": {},
     "output_type": "execute_result"
    },
    {
     "data": {
      "image/png": "[encoded data removed]",
      "text/plain": [
       "<Figure size 432x288 with 1 Axes>"
      ]
     },
     "metadata": {
      "needs_background": "light"
     },
     "output_type": "display_data"
    }
   ],
   "source": [
    "df_pivot_diff.sort_values(\"stamp_2\", ascending = False)[\"stamp_2\"].head(10).plot.barh()"
   ]
  },
  {
   "cell_type": "code",
   "execution_count": null,
   "id": "extra-executive",
   "metadata": {
    "papermill": {
     "duration": 0.022094,
     "end_time": "2021-10-15T13:00:11.502083",
     "exception": false,
     "start_time": "2021-10-15T13:00:11.479989",
     "status": "completed"
    },
    "tags": []
   },
   "outputs": [],
   "source": []
  }
 ],
 "metadata": {
  "kernelspec": {
   "display_name": "Python 3",
   "language": "python",
   "name": "python3"
  },
  "language_info": {
   "codemirror_mode": {
    "name": "ipython",
    "version": 3
   },
   "file_extension": ".py",
   "mimetype": "text/x-python",
   "name": "python",
   "nbconvert_exporter": "python",
   "pygments_lexer": "ipython3",
   "version": "3.9.5"
  },
  "papermill": {
   "default_parameters": {},
   "duration": 7.831806,
   "end_time": "2021-10-15T13:00:12.814622",
   "environment_variables": {},
   "exception": null,
   "input_path": "eBay_Overview.ipynb",
   "output_path": "eBay_Overview.ipynb",
   "parameters": {},
   "start_time": "2021-10-15T13:00:04.982816",
   "version": "2.3.3"
  }
 },
 "nbformat": 4,
 "nbformat_minor": 5
}