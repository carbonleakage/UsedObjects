{
 "cells": [
  {
   "cell_type": "code",
   "execution_count": 1,
   "id": "reverse-picking",
   "metadata": {
    "execution": {
     "iopub.execute_input": "2021-10-07T13:30:06.804711Z",
     "iopub.status.busy": "2021-10-07T13:30:06.802671Z",
     "iopub.status.idle": "2021-10-07T13:30:07.615142Z",
     "shell.execute_reply": "2021-10-07T13:30:07.616605Z"
    },
    "papermill": {
     "duration": 0.865724,
     "end_time": "2021-10-07T13:30:07.617283",
     "exception": false,
     "start_time": "2021-10-07T13:30:06.751559",
     "status": "completed"
    },
    "tags": []
   },
   "outputs": [],
   "source": [
    "import pandas as pd\n",
    "import sqlite3"
   ]
  },
  {
   "cell_type": "code",
   "execution_count": 2,
   "id": "innovative-syndrome",
   "metadata": {
    "execution": {
     "iopub.execute_input": "2021-10-07T13:30:07.669112Z",
     "iopub.status.busy": "2021-10-07T13:30:07.666642Z",
     "iopub.status.idle": "2021-10-07T13:30:08.140021Z",
     "shell.execute_reply": "2021-10-07T13:30:08.141220Z"
    },
    "papermill": {
     "duration": 0.503483,
     "end_time": "2021-10-07T13:30:08.141613",
     "exception": false,
     "start_time": "2021-10-07T13:30:07.638130",
     "status": "completed"
    },
    "tags": []
   },
   "outputs": [],
   "source": [
    "timestamps = pd.read_sql(\"select distinct record_time from EBAY_TOP_BERLIN order by record_time desc limit 2\", sqlite3.connect(\"UsedObjects.db\"))"
   ]
  },
  {
   "cell_type": "code",
   "execution_count": 3,
   "id": "periodic-identification",
   "metadata": {
    "execution": {
     "iopub.execute_input": "2021-10-07T13:30:08.210213Z",
     "iopub.status.busy": "2021-10-07T13:30:08.207962Z",
     "iopub.status.idle": "2021-10-07T13:30:08.229444Z",
     "shell.execute_reply": "2021-10-07T13:30:08.228071Z"
    },
    "papermill": {
     "duration": 0.065867,
     "end_time": "2021-10-07T13:30:08.229775",
     "exception": false,
     "start_time": "2021-10-07T13:30:08.163908",
     "status": "completed"
    },
    "tags": []
   },
   "outputs": [
    {
     "data": {
      "text/html": [
       "<div>\n",
       "<style scoped>\n",
       "    .dataframe tbody tr th:only-of-type {\n",
       "        vertical-align: middle;\n",
       "    }\n",
       "\n",
       "    .dataframe tbody tr th {\n",
       "        vertical-align: top;\n",
       "    }\n",
       "\n",
       "    .dataframe thead th {\n",
       "        text-align: right;\n",
       "    }\n",
       "</style>\n",
       "<table border=\"1\" class=\"dataframe\">\n",
       "  <thead>\n",
       "    <tr style=\"text-align: right;\">\n",
       "      <th></th>\n",
       "      <th>RECORD_TIME</th>\n",
       "    </tr>\n",
       "  </thead>\n",
       "  <tbody>\n",
       "    <tr>\n",
       "      <th>0</th>\n",
       "      <td>2021-10-07 15:30</td>\n",
       "    </tr>\n",
       "    <tr>\n",
       "      <th>1</th>\n",
       "      <td>2021-10-07 15:00</td>\n",
       "    </tr>\n",
       "  </tbody>\n",
       "</table>\n",
       "</div>"
      ],
      "text/plain": [
       "        RECORD_TIME\n",
       "0  2021-10-07 15:30\n",
       "1  2021-10-07 15:00"
      ]
     },
     "execution_count": 3,
     "metadata": {},
     "output_type": "execute_result"
    }
   ],
   "source": [
    "timestamps"
   ]
  },
  {
   "cell_type": "code",
   "execution_count": 4,
   "id": "alternate-victory",
   "metadata": {
    "execution": {
     "iopub.execute_input": "2021-10-07T13:30:08.288552Z",
     "iopub.status.busy": "2021-10-07T13:30:08.286614Z",
     "iopub.status.idle": "2021-10-07T13:30:08.999526Z",
     "shell.execute_reply": "2021-10-07T13:30:09.001006Z"
    },
    "papermill": {
     "duration": 0.745683,
     "end_time": "2021-10-07T13:30:09.001441",
     "exception": false,
     "start_time": "2021-10-07T13:30:08.255758",
     "status": "completed"
    },
    "tags": []
   },
   "outputs": [],
   "source": [
    "df = pd.read_sql(\"select * from EBAY_TOP_BERLIN where record_time in (select distinct record_time from EBAY_TOP_BERLIN order by record_time desc limit 2)\", sqlite3.connect(\"UsedObjects.db\"))"
   ]
  },
  {
   "cell_type": "code",
   "execution_count": 5,
   "id": "popular-active",
   "metadata": {
    "execution": {
     "iopub.execute_input": "2021-10-07T13:30:09.072399Z",
     "iopub.status.busy": "2021-10-07T13:30:09.066940Z",
     "iopub.status.idle": "2021-10-07T13:30:09.090982Z",
     "shell.execute_reply": "2021-10-07T13:30:09.092410Z"
    },
    "papermill": {
     "duration": 0.070251,
     "end_time": "2021-10-07T13:30:09.092846",
     "exception": false,
     "start_time": "2021-10-07T13:30:09.022595",
     "status": "completed"
    },
    "tags": []
   },
   "outputs": [],
   "source": [
    "df_pivot = df.pivot_table(index=\"PRODUCT\", columns = \"RECORD_TIME\", values = \"LISTING_COUNT\")"
   ]
  },
  {
   "cell_type": "code",
   "execution_count": 6,
   "id": "union-huntington",
   "metadata": {
    "execution": {
     "iopub.execute_input": "2021-10-07T13:30:09.150462Z",
     "iopub.status.busy": "2021-10-07T13:30:09.148160Z",
     "iopub.status.idle": "2021-10-07T13:30:09.155618Z",
     "shell.execute_reply": "2021-10-07T13:30:09.154126Z"
    },
    "papermill": {
     "duration": 0.042391,
     "end_time": "2021-10-07T13:30:09.156008",
     "exception": false,
     "start_time": "2021-10-07T13:30:09.113617",
     "status": "completed"
    },
    "tags": []
   },
   "outputs": [],
   "source": [
    "df_pivot.columns = [\"stamp_1\", \"stamp_2\"]\n",
    "df_pivot_diff = df_pivot.diff(axis=1)"
   ]
  },
  {
   "cell_type": "code",
   "execution_count": 7,
   "id": "fifth-motion",
   "metadata": {
    "execution": {
     "iopub.execute_input": "2021-10-07T13:30:09.211609Z",
     "iopub.status.busy": "2021-10-07T13:30:09.209234Z",
     "iopub.status.idle": "2021-10-07T13:30:10.672180Z",
     "shell.execute_reply": "2021-10-07T13:30:10.673545Z"
    },
    "papermill": {
     "duration": 1.49604,
     "end_time": "2021-10-07T13:30:10.674022",
     "exception": false,
     "start_time": "2021-10-07T13:30:09.177982",
     "status": "completed"
    },
    "tags": []
   },
   "outputs": [
    {
     "data": {
      "text/plain": [
       "<AxesSubplot:ylabel='PRODUCT'>"
      ]
     },
     "execution_count": 7,
     "metadata": {},
     "output_type": "execute_result"
    },
    {
     "data": {
      "image/png": "[encoded data removed]",
      "text/plain": [
       "<Figure size 432x288 with 1 Axes>"
      ]
     },
     "metadata": {
      "needs_background": "light"
     },
     "output_type": "display_data"
    }
   ],
   "source": [
    "df_pivot_diff.sort_values(\"stamp_2\", ascending = False)[\"stamp_2\"].head(10).plot.barh()"
   ]
  },
  {
   "cell_type": "code",
   "execution_count": null,
   "id": "extra-executive",
   "metadata": {
    "papermill": {
     "duration": 0.022277,
     "end_time": "2021-10-07T13:30:10.721403",
     "exception": false,
     "start_time": "2021-10-07T13:30:10.699126",
     "status": "completed"
    },
    "tags": []
   },
   "outputs": [],
   "source": []
  }
 ],
 "metadata": {
  "kernelspec": {
   "display_name": "Python 3",
   "language": "python",
   "name": "python3"
  },
  "language_info": {
   "codemirror_mode": {
    "name": "ipython",
    "version": 3
   },
   "file_extension": ".py",
   "mimetype": "text/x-python",
   "name": "python",
   "nbconvert_exporter": "python",
   "pygments_lexer": "ipython3",
   "version": "3.9.5"
  },
  "papermill": {
   "default_parameters": {},
   "duration": 7.84249,
   "end_time": "2021-10-07T13:30:12.177853",
   "environment_variables": {},
   "exception": null,
   "input_path": "eBay_Overview.ipynb",
   "output_path": "eBay_Overview.ipynb",
   "parameters": {},
   "start_time": "2021-10-07T13:30:04.335363",
   "version": "2.3.3"
  }
 },
 "nbformat": 4,
 "nbformat_minor": 5
}