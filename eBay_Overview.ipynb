{
 "cells": [
  {
   "cell_type": "code",
   "execution_count": 1,
   "id": "reverse-picking",
   "metadata": {
    "execution": {
     "iopub.execute_input": "2021-09-08T17:30:07.352946Z",
     "iopub.status.busy": "2021-09-08T17:30:07.350973Z",
     "iopub.status.idle": "2021-09-08T17:30:08.161313Z",
     "shell.execute_reply": "2021-09-08T17:30:08.159556Z"
    },
    "papermill": {
     "duration": 0.8599,
     "end_time": "2021-09-08T17:30:08.161754",
     "exception": false,
     "start_time": "2021-09-08T17:30:07.301854",
     "status": "completed"
    },
    "tags": []
   },
   "outputs": [],
   "source": [
    "import pandas as pd\n",
    "import sqlite3"
   ]
  },
  {
   "cell_type": "code",
   "execution_count": 2,
   "id": "innovative-syndrome",
   "metadata": {
    "execution": {
     "iopub.execute_input": "2021-09-08T17:30:08.212742Z",
     "iopub.status.busy": "2021-09-08T17:30:08.210303Z",
     "iopub.status.idle": "2021-09-08T17:30:08.446946Z",
     "shell.execute_reply": "2021-09-08T17:30:08.448343Z"
    },
    "papermill": {
     "duration": 0.266822,
     "end_time": "2021-09-08T17:30:08.448783",
     "exception": false,
     "start_time": "2021-09-08T17:30:08.181961",
     "status": "completed"
    },
    "tags": []
   },
   "outputs": [],
   "source": [
    "timestamps = pd.read_sql(\"select distinct record_time from EBAY_TOP_BERLIN order by record_time desc limit 2\", sqlite3.connect(\"UsedObjects.db\"))"
   ]
  },
  {
   "cell_type": "code",
   "execution_count": 3,
   "id": "periodic-identification",
   "metadata": {
    "execution": {
     "iopub.execute_input": "2021-09-08T17:30:08.513500Z",
     "iopub.status.busy": "2021-09-08T17:30:08.511355Z",
     "iopub.status.idle": "2021-09-08T17:30:08.533050Z",
     "shell.execute_reply": "2021-09-08T17:30:08.534184Z"
    },
    "papermill": {
     "duration": 0.066701,
     "end_time": "2021-09-08T17:30:08.534596",
     "exception": false,
     "start_time": "2021-09-08T17:30:08.467895",
     "status": "completed"
    },
    "tags": []
   },
   "outputs": [
    {
     "data": {
      "text/html": [
       "<div>\n",
       "<style scoped>\n",
       "    .dataframe tbody tr th:only-of-type {\n",
       "        vertical-align: middle;\n",
       "    }\n",
       "\n",
       "    .dataframe tbody tr th {\n",
       "        vertical-align: top;\n",
       "    }\n",
       "\n",
       "    .dataframe thead th {\n",
       "        text-align: right;\n",
       "    }\n",
       "</style>\n",
       "<table border=\"1\" class=\"dataframe\">\n",
       "  <thead>\n",
       "    <tr style=\"text-align: right;\">\n",
       "      <th></th>\n",
       "      <th>RECORD_TIME</th>\n",
       "    </tr>\n",
       "  </thead>\n",
       "  <tbody>\n",
       "    <tr>\n",
       "      <th>0</th>\n",
       "      <td>2021-09-08 19:30</td>\n",
       "    </tr>\n",
       "    <tr>\n",
       "      <th>1</th>\n",
       "      <td>2021-09-08 19:00</td>\n",
       "    </tr>\n",
       "  </tbody>\n",
       "</table>\n",
       "</div>"
      ],
      "text/plain": [
       "        RECORD_TIME\n",
       "0  2021-09-08 19:30\n",
       "1  2021-09-08 19:00"
      ]
     },
     "execution_count": 3,
     "metadata": {},
     "output_type": "execute_result"
    }
   ],
   "source": [
    "timestamps"
   ]
  },
  {
   "cell_type": "code",
   "execution_count": 4,
   "id": "alternate-victory",
   "metadata": {
    "execution": {
     "iopub.execute_input": "2021-09-08T17:30:08.589068Z",
     "iopub.status.busy": "2021-09-08T17:30:08.586805Z",
     "iopub.status.idle": "2021-09-08T17:30:08.945481Z",
     "shell.execute_reply": "2021-09-08T17:30:08.946775Z"
    },
    "papermill": {
     "duration": 0.389255,
     "end_time": "2021-09-08T17:30:08.947260",
     "exception": false,
     "start_time": "2021-09-08T17:30:08.558005",
     "status": "completed"
    },
    "tags": []
   },
   "outputs": [],
   "source": [
    "df = pd.read_sql(\"select * from EBAY_TOP_BERLIN where record_time in (select distinct record_time from EBAY_TOP_BERLIN order by record_time desc limit 2)\", sqlite3.connect(\"UsedObjects.db\"))"
   ]
  },
  {
   "cell_type": "code",
   "execution_count": 5,
   "id": "popular-active",
   "metadata": {
    "execution": {
     "iopub.execute_input": "2021-09-08T17:30:09.021874Z",
     "iopub.status.busy": "2021-09-08T17:30:09.013454Z",
     "iopub.status.idle": "2021-09-08T17:30:09.042020Z",
     "shell.execute_reply": "2021-09-08T17:30:09.043314Z"
    },
    "papermill": {
     "duration": 0.070582,
     "end_time": "2021-09-08T17:30:09.043722",
     "exception": false,
     "start_time": "2021-09-08T17:30:08.973140",
     "status": "completed"
    },
    "tags": []
   },
   "outputs": [],
   "source": [
    "df_pivot = df.pivot_table(index=\"PRODUCT\", columns = \"RECORD_TIME\", values = \"LISTING_COUNT\")"
   ]
  },
  {
   "cell_type": "code",
   "execution_count": 6,
   "id": "union-huntington",
   "metadata": {
    "execution": {
     "iopub.execute_input": "2021-09-08T17:30:09.100263Z",
     "iopub.status.busy": "2021-09-08T17:30:09.097823Z",
     "iopub.status.idle": "2021-09-08T17:30:09.105890Z",
     "shell.execute_reply": "2021-09-08T17:30:09.107559Z"
    },
    "papermill": {
     "duration": 0.042206,
     "end_time": "2021-09-08T17:30:09.108065",
     "exception": false,
     "start_time": "2021-09-08T17:30:09.065859",
     "status": "completed"
    },
    "tags": []
   },
   "outputs": [],
   "source": [
    "df_pivot.columns = [\"stamp_1\", \"stamp_2\"]\n",
    "df_pivot_diff = df_pivot.diff(axis=1)"
   ]
  },
  {
   "cell_type": "code",
   "execution_count": 7,
   "id": "fifth-motion",
   "metadata": {
    "execution": {
     "iopub.execute_input": "2021-09-08T17:30:09.162590Z",
     "iopub.status.busy": "2021-09-08T17:30:09.160262Z",
     "iopub.status.idle": "2021-09-08T17:30:10.638139Z",
     "shell.execute_reply": "2021-09-08T17:30:10.639622Z"
    },
    "papermill": {
     "duration": 1.5106,
     "end_time": "2021-09-08T17:30:10.640089",
     "exception": false,
     "start_time": "2021-09-08T17:30:09.129489",
     "status": "completed"
    },
    "tags": []
   },
   "outputs": [
    {
     "data": {
      "text/plain": [
       "<AxesSubplot:ylabel='PRODUCT'>"
      ]
     },
     "execution_count": 7,
     "metadata": {},
     "output_type": "execute_result"
    },
    {
     "data": {
      "image/png": "[encoded data removed]",
      "text/plain": [
       "<Figure size 432x288 with 1 Axes>"
      ]
     },
     "metadata": {
      "needs_background": "light"
     },
     "output_type": "display_data"
    }
   ],
   "source": [
    "df_pivot_diff.sort_values(\"stamp_2\", ascending = False)[\"stamp_2\"].head(10).plot.barh()"
   ]
  },
  {
   "cell_type": "code",
   "execution_count": null,
   "id": "extra-executive",
   "metadata": {
    "papermill": {
     "duration": 0.022105,
     "end_time": "2021-09-08T17:30:10.686766",
     "exception": false,
     "start_time": "2021-09-08T17:30:10.664661",
     "status": "completed"
    },
    "tags": []
   },
   "outputs": [],
   "source": []
  }
 ],
 "metadata": {
  "kernelspec": {
   "display_name": "Python 3",
   "language": "python",
   "name": "python3"
  },
  "language_info": {
   "codemirror_mode": {
    "name": "ipython",
    "version": 3
   },
   "file_extension": ".py",
   "mimetype": "text/x-python",
   "name": "python",
   "nbconvert_exporter": "python",
   "pygments_lexer": "ipython3",
   "version": "3.9.5"
  },
  "papermill": {
   "default_parameters": {},
   "duration": 6.438381,
   "end_time": "2021-09-08T17:30:11.328215",
   "environment_variables": {},
   "exception": null,
   "input_path": "eBay_Overview.ipynb",
   "output_path": "eBay_Overview.ipynb",
   "parameters": {},
   "start_time": "2021-09-08T17:30:04.889834",
   "version": "2.3.3"
  }
 },
 "nbformat": 4,
 "nbformat_minor": 5
}