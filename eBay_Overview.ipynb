{
 "cells": [
  {
   "cell_type": "code",
   "execution_count": 1,
   "id": "reverse-picking",
   "metadata": {
    "execution": {
     "iopub.execute_input": "2021-08-20T09:30:06.625845Z",
     "iopub.status.busy": "2021-08-20T09:30:06.623936Z",
     "iopub.status.idle": "2021-08-20T09:30:07.428785Z",
     "shell.execute_reply": "2021-08-20T09:30:07.430086Z"
    },
    "papermill": {
     "duration": 0.85761,
     "end_time": "2021-08-20T09:30:07.430760",
     "exception": false,
     "start_time": "2021-08-20T09:30:06.573150",
     "status": "completed"
    },
    "tags": []
   },
   "outputs": [],
   "source": [
    "import pandas as pd\n",
    "import sqlite3"
   ]
  },
  {
   "cell_type": "code",
   "execution_count": 2,
   "id": "innovative-syndrome",
   "metadata": {
    "execution": {
     "iopub.execute_input": "2021-08-20T09:30:07.481746Z",
     "iopub.status.busy": "2021-08-20T09:30:07.479807Z",
     "iopub.status.idle": "2021-08-20T09:30:07.567414Z",
     "shell.execute_reply": "2021-08-20T09:30:07.568609Z"
    },
    "papermill": {
     "duration": 0.117864,
     "end_time": "2021-08-20T09:30:07.569006",
     "exception": false,
     "start_time": "2021-08-20T09:30:07.451142",
     "status": "completed"
    },
    "tags": []
   },
   "outputs": [],
   "source": [
    "timestamps = pd.read_sql(\"select distinct record_time from EBAY_TOP_BERLIN order by record_time desc limit 2\", sqlite3.connect(\"UsedObjects.db\"))"
   ]
  },
  {
   "cell_type": "code",
   "execution_count": 3,
   "id": "periodic-identification",
   "metadata": {
    "execution": {
     "iopub.execute_input": "2021-08-20T09:30:07.636764Z",
     "iopub.status.busy": "2021-08-20T09:30:07.634742Z",
     "iopub.status.idle": "2021-08-20T09:30:07.654220Z",
     "shell.execute_reply": "2021-08-20T09:30:07.655644Z"
    },
    "papermill": {
     "duration": 0.065351,
     "end_time": "2021-08-20T09:30:07.656084",
     "exception": false,
     "start_time": "2021-08-20T09:30:07.590733",
     "status": "completed"
    },
    "tags": []
   },
   "outputs": [
    {
     "data": {
      "text/html": [
       "<div>\n",
       "<style scoped>\n",
       "    .dataframe tbody tr th:only-of-type {\n",
       "        vertical-align: middle;\n",
       "    }\n",
       "\n",
       "    .dataframe tbody tr th {\n",
       "        vertical-align: top;\n",
       "    }\n",
       "\n",
       "    .dataframe thead th {\n",
       "        text-align: right;\n",
       "    }\n",
       "</style>\n",
       "<table border=\"1\" class=\"dataframe\">\n",
       "  <thead>\n",
       "    <tr style=\"text-align: right;\">\n",
       "      <th></th>\n",
       "      <th>RECORD_TIME</th>\n",
       "    </tr>\n",
       "  </thead>\n",
       "  <tbody>\n",
       "    <tr>\n",
       "      <th>0</th>\n",
       "      <td>2021-08-20 11:30</td>\n",
       "    </tr>\n",
       "    <tr>\n",
       "      <th>1</th>\n",
       "      <td>2021-08-20 11:00</td>\n",
       "    </tr>\n",
       "  </tbody>\n",
       "</table>\n",
       "</div>"
      ],
      "text/plain": [
       "        RECORD_TIME\n",
       "0  2021-08-20 11:30\n",
       "1  2021-08-20 11:00"
      ]
     },
     "execution_count": 3,
     "metadata": {},
     "output_type": "execute_result"
    }
   ],
   "source": [
    "timestamps"
   ]
  },
  {
   "cell_type": "code",
   "execution_count": 4,
   "id": "alternate-victory",
   "metadata": {
    "execution": {
     "iopub.execute_input": "2021-08-20T09:30:07.707942Z",
     "iopub.status.busy": "2021-08-20T09:30:07.705688Z",
     "iopub.status.idle": "2021-08-20T09:30:07.839075Z",
     "shell.execute_reply": "2021-08-20T09:30:07.840222Z"
    },
    "papermill": {
     "duration": 0.163634,
     "end_time": "2021-08-20T09:30:07.840634",
     "exception": false,
     "start_time": "2021-08-20T09:30:07.677000",
     "status": "completed"
    },
    "tags": []
   },
   "outputs": [],
   "source": [
    "df = pd.read_sql(\"select * from EBAY_TOP_BERLIN where record_time in (select distinct record_time from EBAY_TOP_BERLIN order by record_time desc limit 2)\", sqlite3.connect(\"UsedObjects.db\"))"
   ]
  },
  {
   "cell_type": "code",
   "execution_count": 5,
   "id": "popular-active",
   "metadata": {
    "execution": {
     "iopub.execute_input": "2021-08-20T09:30:07.912800Z",
     "iopub.status.busy": "2021-08-20T09:30:07.900294Z",
     "iopub.status.idle": "2021-08-20T09:30:07.928533Z",
     "shell.execute_reply": "2021-08-20T09:30:07.929837Z"
    },
    "papermill": {
     "duration": 0.067547,
     "end_time": "2021-08-20T09:30:07.930315",
     "exception": false,
     "start_time": "2021-08-20T09:30:07.862768",
     "status": "completed"
    },
    "tags": []
   },
   "outputs": [],
   "source": [
    "df_pivot = df.pivot_table(index=\"PRODUCT\", columns = \"RECORD_TIME\", values = \"LISTING_COUNT\")"
   ]
  },
  {
   "cell_type": "code",
   "execution_count": 6,
   "id": "union-huntington",
   "metadata": {
    "execution": {
     "iopub.execute_input": "2021-08-20T09:30:07.986950Z",
     "iopub.status.busy": "2021-08-20T09:30:07.984847Z",
     "iopub.status.idle": "2021-08-20T09:30:07.991461Z",
     "shell.execute_reply": "2021-08-20T09:30:07.990051Z"
    },
    "papermill": {
     "duration": 0.041178,
     "end_time": "2021-08-20T09:30:07.991810",
     "exception": false,
     "start_time": "2021-08-20T09:30:07.950632",
     "status": "completed"
    },
    "tags": []
   },
   "outputs": [],
   "source": [
    "df_pivot.columns = [\"stamp_1\", \"stamp_2\"]\n",
    "df_pivot_diff = df_pivot.diff(axis=1)"
   ]
  },
  {
   "cell_type": "code",
   "execution_count": 7,
   "id": "fifth-motion",
   "metadata": {
    "execution": {
     "iopub.execute_input": "2021-08-20T09:30:08.045622Z",
     "iopub.status.busy": "2021-08-20T09:30:08.043217Z",
     "iopub.status.idle": "2021-08-20T09:30:09.521849Z",
     "shell.execute_reply": "2021-08-20T09:30:09.523461Z"
    },
    "papermill": {
     "duration": 1.511691,
     "end_time": "2021-08-20T09:30:09.523912",
     "exception": false,
     "start_time": "2021-08-20T09:30:08.012221",
     "status": "completed"
    },
    "tags": []
   },
   "outputs": [
    {
     "data": {
      "text/plain": [
       "<AxesSubplot:ylabel='PRODUCT'>"
      ]
     },
     "execution_count": 7,
     "metadata": {},
     "output_type": "execute_result"
    },
    {
     "data": {
      "image/png": "[encoded data removed]",
      "text/plain": [
       "<Figure size 432x288 with 1 Axes>"
      ]
     },
     "metadata": {
      "needs_background": "light"
     },
     "output_type": "display_data"
    }
   ],
   "source": [
    "df_pivot_diff.sort_values(\"stamp_2\", ascending = False)[\"stamp_2\"].head(10).plot.barh()"
   ]
  },
  {
   "cell_type": "code",
   "execution_count": null,
   "id": "extra-executive",
   "metadata": {
    "papermill": {
     "duration": 0.022316,
     "end_time": "2021-08-20T09:30:09.570990",
     "exception": false,
     "start_time": "2021-08-20T09:30:09.548674",
     "status": "completed"
    },
    "tags": []
   },
   "outputs": [],
   "source": []
  }
 ],
 "metadata": {
  "kernelspec": {
   "display_name": "Python 3",
   "language": "python",
   "name": "python3"
  },
  "language_info": {
   "codemirror_mode": {
    "name": "ipython",
    "version": 3
   },
   "file_extension": ".py",
   "mimetype": "text/x-python",
   "name": "python",
   "nbconvert_exporter": "python",
   "pygments_lexer": "ipython3",
   "version": "3.9.5"
  },
  "papermill": {
   "default_parameters": {},
   "duration": 6.824424,
   "end_time": "2021-08-20T09:30:10.987069",
   "environment_variables": {},
   "exception": null,
   "input_path": "eBay_Overview.ipynb",
   "output_path": "eBay_Overview.ipynb",
   "parameters": {},
   "start_time": "2021-08-20T09:30:04.162645",
   "version": "2.3.3"
  }
 },
 "nbformat": 4,
 "nbformat_minor": 5
}