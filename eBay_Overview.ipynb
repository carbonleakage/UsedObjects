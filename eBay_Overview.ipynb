{
 "cells": [
  {
   "cell_type": "code",
   "execution_count": 1,
   "id": "reverse-picking",
   "metadata": {
    "execution": {
     "iopub.execute_input": "2021-12-11T12:30:08.048112Z",
     "iopub.status.busy": "2021-12-11T12:30:08.046225Z",
     "iopub.status.idle": "2021-12-11T12:30:09.002173Z",
     "shell.execute_reply": "2021-12-11T12:30:08.999642Z"
    },
    "papermill": {
     "duration": 1.003261,
     "end_time": "2021-12-11T12:30:09.002653",
     "exception": false,
     "start_time": "2021-12-11T12:30:07.999392",
     "status": "completed"
    },
    "tags": []
   },
   "outputs": [],
   "source": [
    "import pandas as pd\n",
    "import sqlite3"
   ]
  },
  {
   "cell_type": "code",
   "execution_count": 2,
   "id": "innovative-syndrome",
   "metadata": {
    "execution": {
     "iopub.execute_input": "2021-12-11T12:30:09.064641Z",
     "iopub.status.busy": "2021-12-11T12:30:09.062286Z",
     "iopub.status.idle": "2021-12-11T12:30:10.128329Z",
     "shell.execute_reply": "2021-12-11T12:30:10.129774Z"
    },
    "papermill": {
     "duration": 1.100547,
     "end_time": "2021-12-11T12:30:10.130212",
     "exception": false,
     "start_time": "2021-12-11T12:30:09.029665",
     "status": "completed"
    },
    "tags": []
   },
   "outputs": [],
   "source": [
    "timestamps = pd.read_sql(\"select distinct record_time from EBAY_TOP_BERLIN order by record_time desc limit 2\", sqlite3.connect(\"UsedObjects.db\"))"
   ]
  },
  {
   "cell_type": "code",
   "execution_count": 3,
   "id": "periodic-identification",
   "metadata": {
    "execution": {
     "iopub.execute_input": "2021-12-11T12:30:10.199613Z",
     "iopub.status.busy": "2021-12-11T12:30:10.197469Z",
     "iopub.status.idle": "2021-12-11T12:30:10.219267Z",
     "shell.execute_reply": "2021-12-11T12:30:10.220603Z"
    },
    "papermill": {
     "duration": 0.070593,
     "end_time": "2021-12-11T12:30:10.221124",
     "exception": false,
     "start_time": "2021-12-11T12:30:10.150531",
     "status": "completed"
    },
    "tags": []
   },
   "outputs": [
    {
     "data": {
      "text/html": [
       "<div>\n",
       "<style scoped>\n",
       "    .dataframe tbody tr th:only-of-type {\n",
       "        vertical-align: middle;\n",
       "    }\n",
       "\n",
       "    .dataframe tbody tr th {\n",
       "        vertical-align: top;\n",
       "    }\n",
       "\n",
       "    .dataframe thead th {\n",
       "        text-align: right;\n",
       "    }\n",
       "</style>\n",
       "<table border=\"1\" class=\"dataframe\">\n",
       "  <thead>\n",
       "    <tr style=\"text-align: right;\">\n",
       "      <th></th>\n",
       "      <th>RECORD_TIME</th>\n",
       "    </tr>\n",
       "  </thead>\n",
       "  <tbody>\n",
       "    <tr>\n",
       "      <th>0</th>\n",
       "      <td>2021-12-11 13:30</td>\n",
       "    </tr>\n",
       "    <tr>\n",
       "      <th>1</th>\n",
       "      <td>2021-12-11 13:00</td>\n",
       "    </tr>\n",
       "  </tbody>\n",
       "</table>\n",
       "</div>"
      ],
      "text/plain": [
       "        RECORD_TIME\n",
       "0  2021-12-11 13:30\n",
       "1  2021-12-11 13:00"
      ]
     },
     "execution_count": 3,
     "metadata": {},
     "output_type": "execute_result"
    }
   ],
   "source": [
    "timestamps"
   ]
  },
  {
   "cell_type": "code",
   "execution_count": 4,
   "id": "alternate-victory",
   "metadata": {
    "execution": {
     "iopub.execute_input": "2021-12-11T12:30:10.274203Z",
     "iopub.status.busy": "2021-12-11T12:30:10.272036Z",
     "iopub.status.idle": "2021-12-11T12:30:11.805358Z",
     "shell.execute_reply": "2021-12-11T12:30:11.808211Z"
    },
    "papermill": {
     "duration": 1.5679,
     "end_time": "2021-12-11T12:30:11.809058",
     "exception": false,
     "start_time": "2021-12-11T12:30:10.241158",
     "status": "completed"
    },
    "tags": []
   },
   "outputs": [],
   "source": [
    "df = pd.read_sql(\"select * from EBAY_TOP_BERLIN where record_time in (select distinct record_time from EBAY_TOP_BERLIN order by record_time desc limit 2)\", sqlite3.connect(\"UsedObjects.db\"))"
   ]
  },
  {
   "cell_type": "code",
   "execution_count": 5,
   "id": "popular-active",
   "metadata": {
    "execution": {
     "iopub.execute_input": "2021-12-11T12:30:11.888817Z",
     "iopub.status.busy": "2021-12-11T12:30:11.886370Z",
     "iopub.status.idle": "2021-12-11T12:30:11.919206Z",
     "shell.execute_reply": "2021-12-11T12:30:11.920618Z"
    },
    "papermill": {
     "duration": 0.079592,
     "end_time": "2021-12-11T12:30:11.921158",
     "exception": false,
     "start_time": "2021-12-11T12:30:11.841566",
     "status": "completed"
    },
    "tags": []
   },
   "outputs": [],
   "source": [
    "df_pivot = df.pivot_table(index=\"PRODUCT\", columns = \"RECORD_TIME\", values = \"LISTING_COUNT\")"
   ]
  },
  {
   "cell_type": "code",
   "execution_count": 6,
   "id": "union-huntington",
   "metadata": {
    "execution": {
     "iopub.execute_input": "2021-12-11T12:30:11.982640Z",
     "iopub.status.busy": "2021-12-11T12:30:11.980077Z",
     "iopub.status.idle": "2021-12-11T12:30:11.986108Z",
     "shell.execute_reply": "2021-12-11T12:30:11.987496Z"
    },
    "papermill": {
     "duration": 0.044534,
     "end_time": "2021-12-11T12:30:11.987946",
     "exception": false,
     "start_time": "2021-12-11T12:30:11.943412",
     "status": "completed"
    },
    "tags": []
   },
   "outputs": [],
   "source": [
    "df_pivot.columns = [\"stamp_1\", \"stamp_2\"]\n",
    "df_pivot_diff = df_pivot.diff(axis=1)"
   ]
  },
  {
   "cell_type": "code",
   "execution_count": 7,
   "id": "fifth-motion",
   "metadata": {
    "execution": {
     "iopub.execute_input": "2021-12-11T12:30:12.080059Z",
     "iopub.status.busy": "2021-12-11T12:30:12.077555Z",
     "iopub.status.idle": "2021-12-11T12:30:14.006298Z",
     "shell.execute_reply": "2021-12-11T12:30:14.007795Z"
    },
    "papermill": {
     "duration": 1.985526,
     "end_time": "2021-12-11T12:30:14.008311",
     "exception": false,
     "start_time": "2021-12-11T12:30:12.022785",
     "status": "completed"
    },
    "tags": []
   },
   "outputs": [
    {
     "data": {
      "text/plain": [
       "<AxesSubplot:ylabel='PRODUCT'>"
      ]
     },
     "execution_count": 7,
     "metadata": {},
     "output_type": "execute_result"
    },
    {
     "data": {
      "image/png": "[encoded data removed]",
      "text/plain": [
       "<Figure size 432x288 with 1 Axes>"
      ]
     },
     "metadata": {
      "needs_background": "light"
     },
     "output_type": "display_data"
    }
   ],
   "source": [
    "df_pivot_diff.sort_values(\"stamp_2\", ascending = False)[\"stamp_2\"].head(10).plot.barh()"
   ]
  },
  {
   "cell_type": "code",
   "execution_count": null,
   "id": "extra-executive",
   "metadata": {
    "papermill": {
     "duration": 0.023358,
     "end_time": "2021-12-11T12:30:14.062715",
     "exception": false,
     "start_time": "2021-12-11T12:30:14.039357",
     "status": "completed"
    },
    "tags": []
   },
   "outputs": [],
   "source": []
  }
 ],
 "metadata": {
  "kernelspec": {
   "display_name": "Python 3",
   "language": "python",
   "name": "python3"
  },
  "language_info": {
   "codemirror_mode": {
    "name": "ipython",
    "version": 3
   },
   "file_extension": ".py",
   "mimetype": "text/x-python",
   "name": "python",
   "nbconvert_exporter": "python",
   "pygments_lexer": "ipython3",
   "version": "3.9.5"
  },
  "papermill": {
   "default_parameters": {},
   "duration": 9.715659,
   "end_time": "2021-12-11T12:30:14.912190",
   "environment_variables": {},
   "exception": null,
   "input_path": "eBay_Overview.ipynb",
   "output_path": "eBay_Overview.ipynb",
   "parameters": {},
   "start_time": "2021-12-11T12:30:05.196531",
   "version": "2.3.3"
  }
 },
 "nbformat": 4,
 "nbformat_minor": 5
}