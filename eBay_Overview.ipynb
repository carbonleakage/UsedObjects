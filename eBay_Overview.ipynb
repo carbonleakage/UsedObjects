{
 "cells": [
  {
   "cell_type": "code",
   "execution_count": 1,
   "id": "reverse-picking",
   "metadata": {
    "execution": {
     "iopub.execute_input": "2021-11-07T12:30:07.869263Z",
     "iopub.status.busy": "2021-11-07T12:30:07.866822Z",
     "iopub.status.idle": "2021-11-07T12:30:08.823652Z",
     "shell.execute_reply": "2021-11-07T12:30:08.821142Z"
    },
    "papermill": {
     "duration": 1.00556,
     "end_time": "2021-11-07T12:30:08.824151",
     "exception": false,
     "start_time": "2021-11-07T12:30:07.818591",
     "status": "completed"
    },
    "tags": []
   },
   "outputs": [],
   "source": [
    "import pandas as pd\n",
    "import sqlite3"
   ]
  },
  {
   "cell_type": "code",
   "execution_count": 2,
   "id": "innovative-syndrome",
   "metadata": {
    "execution": {
     "iopub.execute_input": "2021-11-07T12:30:08.885666Z",
     "iopub.status.busy": "2021-11-07T12:30:08.883347Z",
     "iopub.status.idle": "2021-11-07T12:30:09.643904Z",
     "shell.execute_reply": "2021-11-07T12:30:09.645529Z"
    },
    "papermill": {
     "duration": 0.794111,
     "end_time": "2021-11-07T12:30:09.646022",
     "exception": false,
     "start_time": "2021-11-07T12:30:08.851911",
     "status": "completed"
    },
    "tags": []
   },
   "outputs": [],
   "source": [
    "timestamps = pd.read_sql(\"select distinct record_time from EBAY_TOP_BERLIN order by record_time desc limit 2\", sqlite3.connect(\"UsedObjects.db\"))"
   ]
  },
  {
   "cell_type": "code",
   "execution_count": 3,
   "id": "periodic-identification",
   "metadata": {
    "execution": {
     "iopub.execute_input": "2021-11-07T12:30:09.731888Z",
     "iopub.status.busy": "2021-11-07T12:30:09.728399Z",
     "iopub.status.idle": "2021-11-07T12:30:09.756393Z",
     "shell.execute_reply": "2021-11-07T12:30:09.758000Z"
    },
    "papermill": {
     "duration": 0.091999,
     "end_time": "2021-11-07T12:30:09.758504",
     "exception": false,
     "start_time": "2021-11-07T12:30:09.666505",
     "status": "completed"
    },
    "tags": []
   },
   "outputs": [
    {
     "data": {
      "text/html": [
       "<div>\n",
       "<style scoped>\n",
       "    .dataframe tbody tr th:only-of-type {\n",
       "        vertical-align: middle;\n",
       "    }\n",
       "\n",
       "    .dataframe tbody tr th {\n",
       "        vertical-align: top;\n",
       "    }\n",
       "\n",
       "    .dataframe thead th {\n",
       "        text-align: right;\n",
       "    }\n",
       "</style>\n",
       "<table border=\"1\" class=\"dataframe\">\n",
       "  <thead>\n",
       "    <tr style=\"text-align: right;\">\n",
       "      <th></th>\n",
       "      <th>RECORD_TIME</th>\n",
       "    </tr>\n",
       "  </thead>\n",
       "  <tbody>\n",
       "    <tr>\n",
       "      <th>0</th>\n",
       "      <td>2021-11-07 13:30</td>\n",
       "    </tr>\n",
       "    <tr>\n",
       "      <th>1</th>\n",
       "      <td>2021-11-07 13:00</td>\n",
       "    </tr>\n",
       "  </tbody>\n",
       "</table>\n",
       "</div>"
      ],
      "text/plain": [
       "        RECORD_TIME\n",
       "0  2021-11-07 13:30\n",
       "1  2021-11-07 13:00"
      ]
     },
     "execution_count": 3,
     "metadata": {},
     "output_type": "execute_result"
    }
   ],
   "source": [
    "timestamps"
   ]
  },
  {
   "cell_type": "code",
   "execution_count": 4,
   "id": "alternate-victory",
   "metadata": {
    "execution": {
     "iopub.execute_input": "2021-11-07T12:30:09.814905Z",
     "iopub.status.busy": "2021-11-07T12:30:09.812653Z",
     "iopub.status.idle": "2021-11-07T12:30:10.903754Z",
     "shell.execute_reply": "2021-11-07T12:30:10.905599Z"
    },
    "papermill": {
     "duration": 1.125784,
     "end_time": "2021-11-07T12:30:10.906123",
     "exception": false,
     "start_time": "2021-11-07T12:30:09.780339",
     "status": "completed"
    },
    "tags": []
   },
   "outputs": [],
   "source": [
    "df = pd.read_sql(\"select * from EBAY_TOP_BERLIN where record_time in (select distinct record_time from EBAY_TOP_BERLIN order by record_time desc limit 2)\", sqlite3.connect(\"UsedObjects.db\"))"
   ]
  },
  {
   "cell_type": "code",
   "execution_count": 5,
   "id": "popular-active",
   "metadata": {
    "execution": {
     "iopub.execute_input": "2021-11-07T12:30:10.961720Z",
     "iopub.status.busy": "2021-11-07T12:30:10.959628Z",
     "iopub.status.idle": "2021-11-07T12:30:10.994659Z",
     "shell.execute_reply": "2021-11-07T12:30:10.996591Z"
    },
    "papermill": {
     "duration": 0.069394,
     "end_time": "2021-11-07T12:30:10.997120",
     "exception": false,
     "start_time": "2021-11-07T12:30:10.927726",
     "status": "completed"
    },
    "tags": []
   },
   "outputs": [],
   "source": [
    "df_pivot = df.pivot_table(index=\"PRODUCT\", columns = \"RECORD_TIME\", values = \"LISTING_COUNT\")"
   ]
  },
  {
   "cell_type": "code",
   "execution_count": 6,
   "id": "union-huntington",
   "metadata": {
    "execution": {
     "iopub.execute_input": "2021-11-07T12:30:11.061309Z",
     "iopub.status.busy": "2021-11-07T12:30:11.058901Z",
     "iopub.status.idle": "2021-11-07T12:30:11.064895Z",
     "shell.execute_reply": "2021-11-07T12:30:11.066426Z"
    },
    "papermill": {
     "duration": 0.045976,
     "end_time": "2021-11-07T12:30:11.066978",
     "exception": false,
     "start_time": "2021-11-07T12:30:11.021002",
     "status": "completed"
    },
    "tags": []
   },
   "outputs": [],
   "source": [
    "df_pivot.columns = [\"stamp_1\", \"stamp_2\"]\n",
    "df_pivot_diff = df_pivot.diff(axis=1)"
   ]
  },
  {
   "cell_type": "code",
   "execution_count": 7,
   "id": "fifth-motion",
   "metadata": {
    "execution": {
     "iopub.execute_input": "2021-11-07T12:30:11.127009Z",
     "iopub.status.busy": "2021-11-07T12:30:11.124454Z",
     "iopub.status.idle": "2021-11-07T12:30:12.931242Z",
     "shell.execute_reply": "2021-11-07T12:30:12.932589Z"
    },
    "papermill": {
     "duration": 1.844643,
     "end_time": "2021-11-07T12:30:12.933246",
     "exception": false,
     "start_time": "2021-11-07T12:30:11.088603",
     "status": "completed"
    },
    "tags": []
   },
   "outputs": [
    {
     "data": {
      "text/plain": [
       "<AxesSubplot:ylabel='PRODUCT'>"
      ]
     },
     "execution_count": 7,
     "metadata": {},
     "output_type": "execute_result"
    },
    {
     "data": {
      "image/png": "[encoded data removed]",
      "text/plain": [
       "<Figure size 432x288 with 1 Axes>"
      ]
     },
     "metadata": {
      "needs_background": "light"
     },
     "output_type": "display_data"
    }
   ],
   "source": [
    "df_pivot_diff.sort_values(\"stamp_2\", ascending = False)[\"stamp_2\"].head(10).plot.barh()"
   ]
  },
  {
   "cell_type": "code",
   "execution_count": null,
   "id": "extra-executive",
   "metadata": {
    "papermill": {
     "duration": 0.02367,
     "end_time": "2021-11-07T12:30:12.981070",
     "exception": false,
     "start_time": "2021-11-07T12:30:12.957400",
     "status": "completed"
    },
    "tags": []
   },
   "outputs": [],
   "source": []
  }
 ],
 "metadata": {
  "kernelspec": {
   "display_name": "Python 3",
   "language": "python",
   "name": "python3"
  },
  "language_info": {
   "codemirror_mode": {
    "name": "ipython",
    "version": 3
   },
   "file_extension": ".py",
   "mimetype": "text/x-python",
   "name": "python",
   "nbconvert_exporter": "python",
   "pygments_lexer": "ipython3",
   "version": "3.9.5"
  },
  "papermill": {
   "default_parameters": {},
   "duration": 8.866646,
   "end_time": "2021-11-07T12:30:13.829941",
   "environment_variables": {},
   "exception": null,
   "input_path": "eBay_Overview.ipynb",
   "output_path": "eBay_Overview.ipynb",
   "parameters": {},
   "start_time": "2021-11-07T12:30:04.963295",
   "version": "2.3.3"
  }
 },
 "nbformat": 4,
 "nbformat_minor": 5
}