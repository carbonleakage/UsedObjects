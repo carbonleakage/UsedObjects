{
 "cells": [
  {
   "cell_type": "code",
   "execution_count": 1,
   "id": "reverse-picking",
   "metadata": {
    "execution": {
     "iopub.execute_input": "2021-10-01T06:00:07.080714Z",
     "iopub.status.busy": "2021-10-01T06:00:07.078729Z",
     "iopub.status.idle": "2021-10-01T06:00:07.883554Z",
     "shell.execute_reply": "2021-10-01T06:00:07.884932Z"
    },
    "papermill": {
     "duration": 0.856898,
     "end_time": "2021-10-01T06:00:07.885572",
     "exception": false,
     "start_time": "2021-10-01T06:00:07.028674",
     "status": "completed"
    },
    "tags": []
   },
   "outputs": [],
   "source": [
    "import pandas as pd\n",
    "import sqlite3"
   ]
  },
  {
   "cell_type": "code",
   "execution_count": 2,
   "id": "innovative-syndrome",
   "metadata": {
    "execution": {
     "iopub.execute_input": "2021-10-01T06:00:07.935438Z",
     "iopub.status.busy": "2021-10-01T06:00:07.933458Z",
     "iopub.status.idle": "2021-10-01T06:00:08.350526Z",
     "shell.execute_reply": "2021-10-01T06:00:08.351807Z"
    },
    "papermill": {
     "duration": 0.446397,
     "end_time": "2021-10-01T06:00:08.352211",
     "exception": false,
     "start_time": "2021-10-01T06:00:07.905814",
     "status": "completed"
    },
    "tags": []
   },
   "outputs": [],
   "source": [
    "timestamps = pd.read_sql(\"select distinct record_time from EBAY_TOP_BERLIN order by record_time desc limit 2\", sqlite3.connect(\"UsedObjects.db\"))"
   ]
  },
  {
   "cell_type": "code",
   "execution_count": 3,
   "id": "periodic-identification",
   "metadata": {
    "execution": {
     "iopub.execute_input": "2021-10-01T06:00:08.420535Z",
     "iopub.status.busy": "2021-10-01T06:00:08.415669Z",
     "iopub.status.idle": "2021-10-01T06:00:08.435320Z",
     "shell.execute_reply": "2021-10-01T06:00:08.436474Z"
    },
    "papermill": {
     "duration": 0.063999,
     "end_time": "2021-10-01T06:00:08.436913",
     "exception": false,
     "start_time": "2021-10-01T06:00:08.372914",
     "status": "completed"
    },
    "tags": []
   },
   "outputs": [
    {
     "data": {
      "text/html": [
       "<div>\n",
       "<style scoped>\n",
       "    .dataframe tbody tr th:only-of-type {\n",
       "        vertical-align: middle;\n",
       "    }\n",
       "\n",
       "    .dataframe tbody tr th {\n",
       "        vertical-align: top;\n",
       "    }\n",
       "\n",
       "    .dataframe thead th {\n",
       "        text-align: right;\n",
       "    }\n",
       "</style>\n",
       "<table border=\"1\" class=\"dataframe\">\n",
       "  <thead>\n",
       "    <tr style=\"text-align: right;\">\n",
       "      <th></th>\n",
       "      <th>RECORD_TIME</th>\n",
       "    </tr>\n",
       "  </thead>\n",
       "  <tbody>\n",
       "    <tr>\n",
       "      <th>0</th>\n",
       "      <td>2021-10-01 08:00</td>\n",
       "    </tr>\n",
       "    <tr>\n",
       "      <th>1</th>\n",
       "      <td>2021-10-01 07:30</td>\n",
       "    </tr>\n",
       "  </tbody>\n",
       "</table>\n",
       "</div>"
      ],
      "text/plain": [
       "        RECORD_TIME\n",
       "0  2021-10-01 08:00\n",
       "1  2021-10-01 07:30"
      ]
     },
     "execution_count": 3,
     "metadata": {},
     "output_type": "execute_result"
    }
   ],
   "source": [
    "timestamps"
   ]
  },
  {
   "cell_type": "code",
   "execution_count": 4,
   "id": "alternate-victory",
   "metadata": {
    "execution": {
     "iopub.execute_input": "2021-10-01T06:00:08.490980Z",
     "iopub.status.busy": "2021-10-01T06:00:08.489004Z",
     "iopub.status.idle": "2021-10-01T06:00:09.093927Z",
     "shell.execute_reply": "2021-10-01T06:00:09.095972Z"
    },
    "papermill": {
     "duration": 0.635989,
     "end_time": "2021-10-01T06:00:09.096416",
     "exception": false,
     "start_time": "2021-10-01T06:00:08.460427",
     "status": "completed"
    },
    "tags": []
   },
   "outputs": [],
   "source": [
    "df = pd.read_sql(\"select * from EBAY_TOP_BERLIN where record_time in (select distinct record_time from EBAY_TOP_BERLIN order by record_time desc limit 2)\", sqlite3.connect(\"UsedObjects.db\"))"
   ]
  },
  {
   "cell_type": "code",
   "execution_count": 5,
   "id": "popular-active",
   "metadata": {
    "execution": {
     "iopub.execute_input": "2021-10-01T06:00:09.168276Z",
     "iopub.status.busy": "2021-10-01T06:00:09.156745Z",
     "iopub.status.idle": "2021-10-01T06:00:09.184587Z",
     "shell.execute_reply": "2021-10-01T06:00:09.185951Z"
    },
    "papermill": {
     "duration": 0.069654,
     "end_time": "2021-10-01T06:00:09.186384",
     "exception": false,
     "start_time": "2021-10-01T06:00:09.116730",
     "status": "completed"
    },
    "tags": []
   },
   "outputs": [],
   "source": [
    "df_pivot = df.pivot_table(index=\"PRODUCT\", columns = \"RECORD_TIME\", values = \"LISTING_COUNT\")"
   ]
  },
  {
   "cell_type": "code",
   "execution_count": 6,
   "id": "union-huntington",
   "metadata": {
    "execution": {
     "iopub.execute_input": "2021-10-01T06:00:09.246207Z",
     "iopub.status.busy": "2021-10-01T06:00:09.243765Z",
     "iopub.status.idle": "2021-10-01T06:00:09.249598Z",
     "shell.execute_reply": "2021-10-01T06:00:09.250918Z"
    },
    "papermill": {
     "duration": 0.04251,
     "end_time": "2021-10-01T06:00:09.251379",
     "exception": false,
     "start_time": "2021-10-01T06:00:09.208869",
     "status": "completed"
    },
    "tags": []
   },
   "outputs": [],
   "source": [
    "df_pivot.columns = [\"stamp_1\", \"stamp_2\"]\n",
    "df_pivot_diff = df_pivot.diff(axis=1)"
   ]
  },
  {
   "cell_type": "code",
   "execution_count": 7,
   "id": "fifth-motion",
   "metadata": {
    "execution": {
     "iopub.execute_input": "2021-10-01T06:00:09.305823Z",
     "iopub.status.busy": "2021-10-01T06:00:09.303545Z",
     "iopub.status.idle": "2021-10-01T06:00:10.814719Z",
     "shell.execute_reply": "2021-10-01T06:00:10.816098Z"
    },
    "papermill": {
     "duration": 1.544447,
     "end_time": "2021-10-01T06:00:10.816518",
     "exception": false,
     "start_time": "2021-10-01T06:00:09.272071",
     "status": "completed"
    },
    "tags": []
   },
   "outputs": [
    {
     "data": {
      "text/plain": [
       "<AxesSubplot:ylabel='PRODUCT'>"
      ]
     },
     "execution_count": 7,
     "metadata": {},
     "output_type": "execute_result"
    },
    {
     "data": {
      "image/png": "[encoded data removed]",
      "text/plain": [
       "<Figure size 432x288 with 1 Axes>"
      ]
     },
     "metadata": {
      "needs_background": "light"
     },
     "output_type": "display_data"
    }
   ],
   "source": [
    "df_pivot_diff.sort_values(\"stamp_2\", ascending = False)[\"stamp_2\"].head(10).plot.barh()"
   ]
  },
  {
   "cell_type": "code",
   "execution_count": null,
   "id": "extra-executive",
   "metadata": {
    "papermill": {
     "duration": 0.022217,
     "end_time": "2021-10-01T06:00:10.863395",
     "exception": false,
     "start_time": "2021-10-01T06:00:10.841178",
     "status": "completed"
    },
    "tags": []
   },
   "outputs": [],
   "source": []
  }
 ],
 "metadata": {
  "kernelspec": {
   "display_name": "Python 3",
   "language": "python",
   "name": "python3"
  },
  "language_info": {
   "codemirror_mode": {
    "name": "ipython",
    "version": 3
   },
   "file_extension": ".py",
   "mimetype": "text/x-python",
   "name": "python",
   "nbconvert_exporter": "python",
   "pygments_lexer": "ipython3",
   "version": "3.9.5"
  },
  "papermill": {
   "default_parameters": {},
   "duration": 7.833708,
   "end_time": "2021-10-01T06:00:12.452184",
   "environment_variables": {},
   "exception": null,
   "input_path": "eBay_Overview.ipynb",
   "output_path": "eBay_Overview.ipynb",
   "parameters": {},
   "start_time": "2021-10-01T06:00:04.618476",
   "version": "2.3.3"
  }
 },
 "nbformat": 4,
 "nbformat_minor": 5
}