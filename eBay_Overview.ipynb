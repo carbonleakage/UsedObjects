{
 "cells": [
  {
   "cell_type": "code",
   "execution_count": 1,
   "id": "reverse-picking",
   "metadata": {
    "execution": {
     "iopub.execute_input": "2021-10-17T10:30:07.486574Z",
     "iopub.status.busy": "2021-10-17T10:30:07.484549Z",
     "iopub.status.idle": "2021-10-17T10:30:08.290428Z",
     "shell.execute_reply": "2021-10-17T10:30:08.291674Z"
    },
    "papermill": {
     "duration": 0.858064,
     "end_time": "2021-10-17T10:30:08.292298",
     "exception": false,
     "start_time": "2021-10-17T10:30:07.434234",
     "status": "completed"
    },
    "tags": []
   },
   "outputs": [],
   "source": [
    "import pandas as pd\n",
    "import sqlite3"
   ]
  },
  {
   "cell_type": "code",
   "execution_count": 2,
   "id": "innovative-syndrome",
   "metadata": {
    "execution": {
     "iopub.execute_input": "2021-10-17T10:30:08.342073Z",
     "iopub.status.busy": "2021-10-17T10:30:08.340079Z",
     "iopub.status.idle": "2021-10-17T10:30:08.888060Z",
     "shell.execute_reply": "2021-10-17T10:30:08.889331Z"
    },
    "papermill": {
     "duration": 0.577365,
     "end_time": "2021-10-17T10:30:08.889739",
     "exception": false,
     "start_time": "2021-10-17T10:30:08.312374",
     "status": "completed"
    },
    "tags": []
   },
   "outputs": [],
   "source": [
    "timestamps = pd.read_sql(\"select distinct record_time from EBAY_TOP_BERLIN order by record_time desc limit 2\", sqlite3.connect(\"UsedObjects.db\"))"
   ]
  },
  {
   "cell_type": "code",
   "execution_count": 3,
   "id": "periodic-identification",
   "metadata": {
    "execution": {
     "iopub.execute_input": "2021-10-17T10:30:08.964025Z",
     "iopub.status.busy": "2021-10-17T10:30:08.961985Z",
     "iopub.status.idle": "2021-10-17T10:30:08.981978Z",
     "shell.execute_reply": "2021-10-17T10:30:08.983219Z"
    },
    "papermill": {
     "duration": 0.06699,
     "end_time": "2021-10-17T10:30:08.983613",
     "exception": false,
     "start_time": "2021-10-17T10:30:08.916623",
     "status": "completed"
    },
    "tags": []
   },
   "outputs": [
    {
     "data": {
      "text/html": [
       "<div>\n",
       "<style scoped>\n",
       "    .dataframe tbody tr th:only-of-type {\n",
       "        vertical-align: middle;\n",
       "    }\n",
       "\n",
       "    .dataframe tbody tr th {\n",
       "        vertical-align: top;\n",
       "    }\n",
       "\n",
       "    .dataframe thead th {\n",
       "        text-align: right;\n",
       "    }\n",
       "</style>\n",
       "<table border=\"1\" class=\"dataframe\">\n",
       "  <thead>\n",
       "    <tr style=\"text-align: right;\">\n",
       "      <th></th>\n",
       "      <th>RECORD_TIME</th>\n",
       "    </tr>\n",
       "  </thead>\n",
       "  <tbody>\n",
       "    <tr>\n",
       "      <th>0</th>\n",
       "      <td>2021-10-17 12:30</td>\n",
       "    </tr>\n",
       "    <tr>\n",
       "      <th>1</th>\n",
       "      <td>2021-10-17 12:00</td>\n",
       "    </tr>\n",
       "  </tbody>\n",
       "</table>\n",
       "</div>"
      ],
      "text/plain": [
       "        RECORD_TIME\n",
       "0  2021-10-17 12:30\n",
       "1  2021-10-17 12:00"
      ]
     },
     "execution_count": 3,
     "metadata": {},
     "output_type": "execute_result"
    }
   ],
   "source": [
    "timestamps"
   ]
  },
  {
   "cell_type": "code",
   "execution_count": 4,
   "id": "alternate-victory",
   "metadata": {
    "execution": {
     "iopub.execute_input": "2021-10-17T10:30:09.037248Z",
     "iopub.status.busy": "2021-10-17T10:30:09.034916Z",
     "iopub.status.idle": "2021-10-17T10:30:09.863608Z",
     "shell.execute_reply": "2021-10-17T10:30:09.864977Z"
    },
    "papermill": {
     "duration": 0.859457,
     "end_time": "2021-10-17T10:30:09.865416",
     "exception": false,
     "start_time": "2021-10-17T10:30:09.005959",
     "status": "completed"
    },
    "tags": []
   },
   "outputs": [],
   "source": [
    "df = pd.read_sql(\"select * from EBAY_TOP_BERLIN where record_time in (select distinct record_time from EBAY_TOP_BERLIN order by record_time desc limit 2)\", sqlite3.connect(\"UsedObjects.db\"))"
   ]
  },
  {
   "cell_type": "code",
   "execution_count": 5,
   "id": "popular-active",
   "metadata": {
    "execution": {
     "iopub.execute_input": "2021-10-17T10:30:09.934878Z",
     "iopub.status.busy": "2021-10-17T10:30:09.924128Z",
     "iopub.status.idle": "2021-10-17T10:30:09.950648Z",
     "shell.execute_reply": "2021-10-17T10:30:09.951872Z"
    },
    "papermill": {
     "duration": 0.066225,
     "end_time": "2021-10-17T10:30:09.952268",
     "exception": false,
     "start_time": "2021-10-17T10:30:09.886043",
     "status": "completed"
    },
    "tags": []
   },
   "outputs": [],
   "source": [
    "df_pivot = df.pivot_table(index=\"PRODUCT\", columns = \"RECORD_TIME\", values = \"LISTING_COUNT\")"
   ]
  },
  {
   "cell_type": "code",
   "execution_count": 6,
   "id": "union-huntington",
   "metadata": {
    "execution": {
     "iopub.execute_input": "2021-10-17T10:30:10.008469Z",
     "iopub.status.busy": "2021-10-17T10:30:10.006183Z",
     "iopub.status.idle": "2021-10-17T10:30:10.011868Z",
     "shell.execute_reply": "2021-10-17T10:30:10.013235Z"
    },
    "papermill": {
     "duration": 0.041462,
     "end_time": "2021-10-17T10:30:10.013659",
     "exception": false,
     "start_time": "2021-10-17T10:30:09.972197",
     "status": "completed"
    },
    "tags": []
   },
   "outputs": [],
   "source": [
    "df_pivot.columns = [\"stamp_1\", \"stamp_2\"]\n",
    "df_pivot_diff = df_pivot.diff(axis=1)"
   ]
  },
  {
   "cell_type": "code",
   "execution_count": 7,
   "id": "fifth-motion",
   "metadata": {
    "execution": {
     "iopub.execute_input": "2021-10-17T10:30:10.067737Z",
     "iopub.status.busy": "2021-10-17T10:30:10.065349Z",
     "iopub.status.idle": "2021-10-17T10:30:11.578141Z",
     "shell.execute_reply": "2021-10-17T10:30:11.579513Z"
    },
    "papermill": {
     "duration": 1.546388,
     "end_time": "2021-10-17T10:30:11.579951",
     "exception": false,
     "start_time": "2021-10-17T10:30:10.033563",
     "status": "completed"
    },
    "tags": []
   },
   "outputs": [
    {
     "data": {
      "text/plain": [
       "<AxesSubplot:ylabel='PRODUCT'>"
      ]
     },
     "execution_count": 7,
     "metadata": {},
     "output_type": "execute_result"
    },
    {
     "data": {
      "image/png": "[encoded data removed]",
      "text/plain": [
       "<Figure size 432x288 with 1 Axes>"
      ]
     },
     "metadata": {
      "needs_background": "light"
     },
     "output_type": "display_data"
    }
   ],
   "source": [
    "df_pivot_diff.sort_values(\"stamp_2\", ascending = False)[\"stamp_2\"].head(10).plot.barh()"
   ]
  },
  {
   "cell_type": "code",
   "execution_count": null,
   "id": "extra-executive",
   "metadata": {
    "papermill": {
     "duration": 0.022037,
     "end_time": "2021-10-17T10:30:11.625818",
     "exception": false,
     "start_time": "2021-10-17T10:30:11.603781",
     "status": "completed"
    },
    "tags": []
   },
   "outputs": [],
   "source": []
  }
 ],
 "metadata": {
  "kernelspec": {
   "display_name": "Python 3",
   "language": "python",
   "name": "python3"
  },
  "language_info": {
   "codemirror_mode": {
    "name": "ipython",
    "version": 3
   },
   "file_extension": ".py",
   "mimetype": "text/x-python",
   "name": "python",
   "nbconvert_exporter": "python",
   "pygments_lexer": "ipython3",
   "version": "3.9.5"
  },
  "papermill": {
   "default_parameters": {},
   "duration": 7.823117,
   "end_time": "2021-10-17T10:30:12.846253",
   "environment_variables": {},
   "exception": null,
   "input_path": "eBay_Overview.ipynb",
   "output_path": "eBay_Overview.ipynb",
   "parameters": {},
   "start_time": "2021-10-17T10:30:05.023136",
   "version": "2.3.3"
  }
 },
 "nbformat": 4,
 "nbformat_minor": 5
}