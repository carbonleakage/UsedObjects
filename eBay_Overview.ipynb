{
 "cells": [
  {
   "cell_type": "code",
   "execution_count": 1,
   "id": "reverse-picking",
   "metadata": {
    "execution": {
     "iopub.execute_input": "2021-12-21T03:30:07.415174Z",
     "iopub.status.busy": "2021-12-21T03:30:07.412931Z",
     "iopub.status.idle": "2021-12-21T03:30:08.365904Z",
     "shell.execute_reply": "2021-12-21T03:30:08.368220Z"
    },
    "papermill": {
     "duration": 1.003896,
     "end_time": "2021-12-21T03:30:08.369000",
     "exception": false,
     "start_time": "2021-12-21T03:30:07.365104",
     "status": "completed"
    },
    "tags": []
   },
   "outputs": [],
   "source": [
    "import pandas as pd\n",
    "import sqlite3"
   ]
  },
  {
   "cell_type": "code",
   "execution_count": 2,
   "id": "innovative-syndrome",
   "metadata": {
    "execution": {
     "iopub.execute_input": "2021-12-21T03:30:08.434522Z",
     "iopub.status.busy": "2021-12-21T03:30:08.432195Z",
     "iopub.status.idle": "2021-12-21T03:30:09.577237Z",
     "shell.execute_reply": "2021-12-21T03:30:09.578954Z"
    },
    "papermill": {
     "duration": 1.179413,
     "end_time": "2021-12-21T03:30:09.579512",
     "exception": false,
     "start_time": "2021-12-21T03:30:08.400099",
     "status": "completed"
    },
    "tags": []
   },
   "outputs": [],
   "source": [
    "timestamps = pd.read_sql(\"select distinct record_time from EBAY_TOP_BERLIN order by record_time desc limit 2\", sqlite3.connect(\"UsedObjects.db\"))"
   ]
  },
  {
   "cell_type": "code",
   "execution_count": 3,
   "id": "periodic-identification",
   "metadata": {
    "execution": {
     "iopub.execute_input": "2021-12-21T03:30:09.646988Z",
     "iopub.status.busy": "2021-12-21T03:30:09.644971Z",
     "iopub.status.idle": "2021-12-21T03:30:09.666224Z",
     "shell.execute_reply": "2021-12-21T03:30:09.664727Z"
    },
    "papermill": {
     "duration": 0.065801,
     "end_time": "2021-12-21T03:30:09.666587",
     "exception": false,
     "start_time": "2021-12-21T03:30:09.600786",
     "status": "completed"
    },
    "tags": []
   },
   "outputs": [
    {
     "data": {
      "text/html": [
       "<div>\n",
       "<style scoped>\n",
       "    .dataframe tbody tr th:only-of-type {\n",
       "        vertical-align: middle;\n",
       "    }\n",
       "\n",
       "    .dataframe tbody tr th {\n",
       "        vertical-align: top;\n",
       "    }\n",
       "\n",
       "    .dataframe thead th {\n",
       "        text-align: right;\n",
       "    }\n",
       "</style>\n",
       "<table border=\"1\" class=\"dataframe\">\n",
       "  <thead>\n",
       "    <tr style=\"text-align: right;\">\n",
       "      <th></th>\n",
       "      <th>RECORD_TIME</th>\n",
       "    </tr>\n",
       "  </thead>\n",
       "  <tbody>\n",
       "    <tr>\n",
       "      <th>0</th>\n",
       "      <td>2021-12-21 04:30</td>\n",
       "    </tr>\n",
       "    <tr>\n",
       "      <th>1</th>\n",
       "      <td>2021-12-21 04:00</td>\n",
       "    </tr>\n",
       "  </tbody>\n",
       "</table>\n",
       "</div>"
      ],
      "text/plain": [
       "        RECORD_TIME\n",
       "0  2021-12-21 04:30\n",
       "1  2021-12-21 04:00"
      ]
     },
     "execution_count": 3,
     "metadata": {},
     "output_type": "execute_result"
    }
   ],
   "source": [
    "timestamps"
   ]
  },
  {
   "cell_type": "code",
   "execution_count": 4,
   "id": "alternate-victory",
   "metadata": {
    "execution": {
     "iopub.execute_input": "2021-12-21T03:30:09.717724Z",
     "iopub.status.busy": "2021-12-21T03:30:09.715775Z",
     "iopub.status.idle": "2021-12-21T03:30:11.423751Z",
     "shell.execute_reply": "2021-12-21T03:30:11.426036Z"
    },
    "papermill": {
     "duration": 1.739031,
     "end_time": "2021-12-21T03:30:11.426546",
     "exception": false,
     "start_time": "2021-12-21T03:30:09.687515",
     "status": "completed"
    },
    "tags": []
   },
   "outputs": [],
   "source": [
    "df = pd.read_sql(\"select * from EBAY_TOP_BERLIN where record_time in (select distinct record_time from EBAY_TOP_BERLIN order by record_time desc limit 2)\", sqlite3.connect(\"UsedObjects.db\"))"
   ]
  },
  {
   "cell_type": "code",
   "execution_count": 5,
   "id": "popular-active",
   "metadata": {
    "execution": {
     "iopub.execute_input": "2021-12-21T03:30:11.503277Z",
     "iopub.status.busy": "2021-12-21T03:30:11.490208Z",
     "iopub.status.idle": "2021-12-21T03:30:11.521483Z",
     "shell.execute_reply": "2021-12-21T03:30:11.522848Z"
    },
    "papermill": {
     "duration": 0.07409,
     "end_time": "2021-12-21T03:30:11.523320",
     "exception": false,
     "start_time": "2021-12-21T03:30:11.449230",
     "status": "completed"
    },
    "tags": []
   },
   "outputs": [],
   "source": [
    "df_pivot = df.pivot_table(index=\"PRODUCT\", columns = \"RECORD_TIME\", values = \"LISTING_COUNT\")"
   ]
  },
  {
   "cell_type": "code",
   "execution_count": 6,
   "id": "union-huntington",
   "metadata": {
    "execution": {
     "iopub.execute_input": "2021-12-21T03:30:11.582886Z",
     "iopub.status.busy": "2021-12-21T03:30:11.580231Z",
     "iopub.status.idle": "2021-12-21T03:30:11.586858Z",
     "shell.execute_reply": "2021-12-21T03:30:11.589412Z"
    },
    "papermill": {
     "duration": 0.046762,
     "end_time": "2021-12-21T03:30:11.589961",
     "exception": false,
     "start_time": "2021-12-21T03:30:11.543199",
     "status": "completed"
    },
    "tags": []
   },
   "outputs": [],
   "source": [
    "df_pivot.columns = [\"stamp_1\", \"stamp_2\"]\n",
    "df_pivot_diff = df_pivot.diff(axis=1)"
   ]
  },
  {
   "cell_type": "code",
   "execution_count": 7,
   "id": "fifth-motion",
   "metadata": {
    "execution": {
     "iopub.execute_input": "2021-12-21T03:30:11.647479Z",
     "iopub.status.busy": "2021-12-21T03:30:11.645044Z",
     "iopub.status.idle": "2021-12-21T03:30:13.657976Z",
     "shell.execute_reply": "2021-12-21T03:30:13.659269Z"
    },
    "papermill": {
     "duration": 2.048193,
     "end_time": "2021-12-21T03:30:13.659699",
     "exception": false,
     "start_time": "2021-12-21T03:30:11.611506",
     "status": "completed"
    },
    "tags": []
   },
   "outputs": [
    {
     "data": {
      "text/plain": [
       "<AxesSubplot:ylabel='PRODUCT'>"
      ]
     },
     "execution_count": 7,
     "metadata": {},
     "output_type": "execute_result"
    },
    {
     "data": {
      "image/png": "[encoded data removed]",
      "text/plain": [
       "<Figure size 432x288 with 1 Axes>"
      ]
     },
     "metadata": {
      "needs_background": "light"
     },
     "output_type": "display_data"
    }
   ],
   "source": [
    "df_pivot_diff.sort_values(\"stamp_2\", ascending = False)[\"stamp_2\"].head(10).plot.barh()"
   ]
  },
  {
   "cell_type": "code",
   "execution_count": null,
   "id": "extra-executive",
   "metadata": {
    "papermill": {
     "duration": 0.022169,
     "end_time": "2021-12-21T03:30:13.706533",
     "exception": false,
     "start_time": "2021-12-21T03:30:13.684364",
     "status": "completed"
    },
    "tags": []
   },
   "outputs": [],
   "source": []
  }
 ],
 "metadata": {
  "kernelspec": {
   "display_name": "Python 3",
   "language": "python",
   "name": "python3"
  },
  "language_info": {
   "codemirror_mode": {
    "name": "ipython",
    "version": 3
   },
   "file_extension": ".py",
   "mimetype": "text/x-python",
   "name": "python",
   "nbconvert_exporter": "python",
   "pygments_lexer": "ipython3",
   "version": "3.9.5"
  },
  "papermill": {
   "default_parameters": {},
   "duration": 9.698191,
   "end_time": "2021-12-21T03:30:14.349190",
   "environment_variables": {},
   "exception": null,
   "input_path": "eBay_Overview.ipynb",
   "output_path": "eBay_Overview.ipynb",
   "parameters": {},
   "start_time": "2021-12-21T03:30:04.650999",
   "version": "2.3.3"
  }
 },
 "nbformat": 4,
 "nbformat_minor": 5
}