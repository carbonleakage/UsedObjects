{
 "cells": [
  {
   "cell_type": "code",
   "execution_count": 1,
   "id": "reverse-picking",
   "metadata": {
    "execution": {
     "iopub.execute_input": "2021-10-24T18:30:07.679269Z",
     "iopub.status.busy": "2021-10-24T18:30:07.677340Z",
     "iopub.status.idle": "2021-10-24T18:30:08.489046Z",
     "shell.execute_reply": "2021-10-24T18:30:08.490505Z"
    },
    "papermill": {
     "duration": 0.86444,
     "end_time": "2021-10-24T18:30:08.491175",
     "exception": false,
     "start_time": "2021-10-24T18:30:07.626735",
     "status": "completed"
    },
    "tags": []
   },
   "outputs": [],
   "source": [
    "import pandas as pd\n",
    "import sqlite3"
   ]
  },
  {
   "cell_type": "code",
   "execution_count": 2,
   "id": "innovative-syndrome",
   "metadata": {
    "execution": {
     "iopub.execute_input": "2021-10-24T18:30:08.542635Z",
     "iopub.status.busy": "2021-10-24T18:30:08.540219Z",
     "iopub.status.idle": "2021-10-24T18:30:09.155292Z",
     "shell.execute_reply": "2021-10-24T18:30:09.156475Z"
    },
    "papermill": {
     "duration": 0.645158,
     "end_time": "2021-10-24T18:30:09.156920",
     "exception": false,
     "start_time": "2021-10-24T18:30:08.511762",
     "status": "completed"
    },
    "tags": []
   },
   "outputs": [],
   "source": [
    "timestamps = pd.read_sql(\"select distinct record_time from EBAY_TOP_BERLIN order by record_time desc limit 2\", sqlite3.connect(\"UsedObjects.db\"))"
   ]
  },
  {
   "cell_type": "code",
   "execution_count": 3,
   "id": "periodic-identification",
   "metadata": {
    "execution": {
     "iopub.execute_input": "2021-10-24T18:30:09.234255Z",
     "iopub.status.busy": "2021-10-24T18:30:09.232158Z",
     "iopub.status.idle": "2021-10-24T18:30:09.251955Z",
     "shell.execute_reply": "2021-10-24T18:30:09.253377Z"
    },
    "papermill": {
     "duration": 0.06935,
     "end_time": "2021-10-24T18:30:09.253790",
     "exception": false,
     "start_time": "2021-10-24T18:30:09.184440",
     "status": "completed"
    },
    "tags": []
   },
   "outputs": [
    {
     "data": {
      "text/html": [
       "<div>\n",
       "<style scoped>\n",
       "    .dataframe tbody tr th:only-of-type {\n",
       "        vertical-align: middle;\n",
       "    }\n",
       "\n",
       "    .dataframe tbody tr th {\n",
       "        vertical-align: top;\n",
       "    }\n",
       "\n",
       "    .dataframe thead th {\n",
       "        text-align: right;\n",
       "    }\n",
       "</style>\n",
       "<table border=\"1\" class=\"dataframe\">\n",
       "  <thead>\n",
       "    <tr style=\"text-align: right;\">\n",
       "      <th></th>\n",
       "      <th>RECORD_TIME</th>\n",
       "    </tr>\n",
       "  </thead>\n",
       "  <tbody>\n",
       "    <tr>\n",
       "      <th>0</th>\n",
       "      <td>2021-10-24 20:30</td>\n",
       "    </tr>\n",
       "    <tr>\n",
       "      <th>1</th>\n",
       "      <td>2021-10-24 20:00</td>\n",
       "    </tr>\n",
       "  </tbody>\n",
       "</table>\n",
       "</div>"
      ],
      "text/plain": [
       "        RECORD_TIME\n",
       "0  2021-10-24 20:30\n",
       "1  2021-10-24 20:00"
      ]
     },
     "execution_count": 3,
     "metadata": {},
     "output_type": "execute_result"
    }
   ],
   "source": [
    "timestamps"
   ]
  },
  {
   "cell_type": "code",
   "execution_count": 4,
   "id": "alternate-victory",
   "metadata": {
    "execution": {
     "iopub.execute_input": "2021-10-24T18:30:09.305886Z",
     "iopub.status.busy": "2021-10-24T18:30:09.303539Z",
     "iopub.status.idle": "2021-10-24T18:30:10.209618Z",
     "shell.execute_reply": "2021-10-24T18:30:10.210892Z"
    },
    "papermill": {
     "duration": 0.936509,
     "end_time": "2021-10-24T18:30:10.211286",
     "exception": false,
     "start_time": "2021-10-24T18:30:09.274777",
     "status": "completed"
    },
    "tags": []
   },
   "outputs": [],
   "source": [
    "df = pd.read_sql(\"select * from EBAY_TOP_BERLIN where record_time in (select distinct record_time from EBAY_TOP_BERLIN order by record_time desc limit 2)\", sqlite3.connect(\"UsedObjects.db\"))"
   ]
  },
  {
   "cell_type": "code",
   "execution_count": 5,
   "id": "popular-active",
   "metadata": {
    "execution": {
     "iopub.execute_input": "2021-10-24T18:30:10.272484Z",
     "iopub.status.busy": "2021-10-24T18:30:10.270254Z",
     "iopub.status.idle": "2021-10-24T18:30:10.297762Z",
     "shell.execute_reply": "2021-10-24T18:30:10.298967Z"
    },
    "papermill": {
     "duration": 0.067298,
     "end_time": "2021-10-24T18:30:10.299353",
     "exception": false,
     "start_time": "2021-10-24T18:30:10.232055",
     "status": "completed"
    },
    "tags": []
   },
   "outputs": [],
   "source": [
    "df_pivot = df.pivot_table(index=\"PRODUCT\", columns = \"RECORD_TIME\", values = \"LISTING_COUNT\")"
   ]
  },
  {
   "cell_type": "code",
   "execution_count": 6,
   "id": "union-huntington",
   "metadata": {
    "execution": {
     "iopub.execute_input": "2021-10-24T18:30:10.356749Z",
     "iopub.status.busy": "2021-10-24T18:30:10.354586Z",
     "iopub.status.idle": "2021-10-24T18:30:10.360109Z",
     "shell.execute_reply": "2021-10-24T18:30:10.361627Z"
    },
    "papermill": {
     "duration": 0.041081,
     "end_time": "2021-10-24T18:30:10.362075",
     "exception": false,
     "start_time": "2021-10-24T18:30:10.320994",
     "status": "completed"
    },
    "tags": []
   },
   "outputs": [],
   "source": [
    "df_pivot.columns = [\"stamp_1\", \"stamp_2\"]\n",
    "df_pivot_diff = df_pivot.diff(axis=1)"
   ]
  },
  {
   "cell_type": "code",
   "execution_count": 7,
   "id": "fifth-motion",
   "metadata": {
    "execution": {
     "iopub.execute_input": "2021-10-24T18:30:10.417707Z",
     "iopub.status.busy": "2021-10-24T18:30:10.415006Z",
     "iopub.status.idle": "2021-10-24T18:30:11.931553Z",
     "shell.execute_reply": "2021-10-24T18:30:11.933018Z"
    },
    "papermill": {
     "duration": 1.550407,
     "end_time": "2021-10-24T18:30:11.933506",
     "exception": false,
     "start_time": "2021-10-24T18:30:10.383099",
     "status": "completed"
    },
    "tags": []
   },
   "outputs": [
    {
     "data": {
      "text/plain": [
       "<AxesSubplot:ylabel='PRODUCT'>"
      ]
     },
     "execution_count": 7,
     "metadata": {},
     "output_type": "execute_result"
    },
    {
     "data": {
      "image/png": "[encoded data removed]",
      "text/plain": [
       "<Figure size 432x288 with 1 Axes>"
      ]
     },
     "metadata": {
      "needs_background": "light"
     },
     "output_type": "display_data"
    }
   ],
   "source": [
    "df_pivot_diff.sort_values(\"stamp_2\", ascending = False)[\"stamp_2\"].head(10).plot.barh()"
   ]
  },
  {
   "cell_type": "code",
   "execution_count": null,
   "id": "extra-executive",
   "metadata": {
    "papermill": {
     "duration": 0.02225,
     "end_time": "2021-10-24T18:30:11.980630",
     "exception": false,
     "start_time": "2021-10-24T18:30:11.958380",
     "status": "completed"
    },
    "tags": []
   },
   "outputs": [],
   "source": []
  }
 ],
 "metadata": {
  "kernelspec": {
   "display_name": "Python 3",
   "language": "python",
   "name": "python3"
  },
  "language_info": {
   "codemirror_mode": {
    "name": "ipython",
    "version": 3
   },
   "file_extension": ".py",
   "mimetype": "text/x-python",
   "name": "python",
   "nbconvert_exporter": "python",
   "pygments_lexer": "ipython3",
   "version": "3.9.5"
  },
  "papermill": {
   "default_parameters": {},
   "duration": 7.425486,
   "end_time": "2021-10-24T18:30:12.621328",
   "environment_variables": {},
   "exception": null,
   "input_path": "eBay_Overview.ipynb",
   "output_path": "eBay_Overview.ipynb",
   "parameters": {},
   "start_time": "2021-10-24T18:30:05.195842",
   "version": "2.3.3"
  }
 },
 "nbformat": 4,
 "nbformat_minor": 5
}