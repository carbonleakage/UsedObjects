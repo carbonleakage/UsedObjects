{
 "cells": [
  {
   "cell_type": "code",
   "execution_count": 1,
   "id": "reverse-picking",
   "metadata": {
    "execution": {
     "iopub.execute_input": "2021-10-05T11:30:07.305827Z",
     "iopub.status.busy": "2021-10-05T11:30:07.303888Z",
     "iopub.status.idle": "2021-10-05T11:30:08.109305Z",
     "shell.execute_reply": "2021-10-05T11:30:08.107659Z"
    },
    "papermill": {
     "duration": 0.854425,
     "end_time": "2021-10-05T11:30:08.109727",
     "exception": false,
     "start_time": "2021-10-05T11:30:07.255302",
     "status": "completed"
    },
    "tags": []
   },
   "outputs": [],
   "source": [
    "import pandas as pd\n",
    "import sqlite3"
   ]
  },
  {
   "cell_type": "code",
   "execution_count": 2,
   "id": "innovative-syndrome",
   "metadata": {
    "execution": {
     "iopub.execute_input": "2021-10-05T11:30:08.160415Z",
     "iopub.status.busy": "2021-10-05T11:30:08.158449Z",
     "iopub.status.idle": "2021-10-05T11:30:08.620589Z",
     "shell.execute_reply": "2021-10-05T11:30:08.621783Z"
    },
    "papermill": {
     "duration": 0.491473,
     "end_time": "2021-10-05T11:30:08.622181",
     "exception": false,
     "start_time": "2021-10-05T11:30:08.130708",
     "status": "completed"
    },
    "tags": []
   },
   "outputs": [],
   "source": [
    "timestamps = pd.read_sql(\"select distinct record_time from EBAY_TOP_BERLIN order by record_time desc limit 2\", sqlite3.connect(\"UsedObjects.db\"))"
   ]
  },
  {
   "cell_type": "code",
   "execution_count": 3,
   "id": "periodic-identification",
   "metadata": {
    "execution": {
     "iopub.execute_input": "2021-10-05T11:30:08.688164Z",
     "iopub.status.busy": "2021-10-05T11:30:08.686089Z",
     "iopub.status.idle": "2021-10-05T11:30:08.705405Z",
     "shell.execute_reply": "2021-10-05T11:30:08.706536Z"
    },
    "papermill": {
     "duration": 0.064057,
     "end_time": "2021-10-05T11:30:08.707121",
     "exception": false,
     "start_time": "2021-10-05T11:30:08.643064",
     "status": "completed"
    },
    "tags": []
   },
   "outputs": [
    {
     "data": {
      "text/html": [
       "<div>\n",
       "<style scoped>\n",
       "    .dataframe tbody tr th:only-of-type {\n",
       "        vertical-align: middle;\n",
       "    }\n",
       "\n",
       "    .dataframe tbody tr th {\n",
       "        vertical-align: top;\n",
       "    }\n",
       "\n",
       "    .dataframe thead th {\n",
       "        text-align: right;\n",
       "    }\n",
       "</style>\n",
       "<table border=\"1\" class=\"dataframe\">\n",
       "  <thead>\n",
       "    <tr style=\"text-align: right;\">\n",
       "      <th></th>\n",
       "      <th>RECORD_TIME</th>\n",
       "    </tr>\n",
       "  </thead>\n",
       "  <tbody>\n",
       "    <tr>\n",
       "      <th>0</th>\n",
       "      <td>2021-10-05 13:30</td>\n",
       "    </tr>\n",
       "    <tr>\n",
       "      <th>1</th>\n",
       "      <td>2021-10-05 13:00</td>\n",
       "    </tr>\n",
       "  </tbody>\n",
       "</table>\n",
       "</div>"
      ],
      "text/plain": [
       "        RECORD_TIME\n",
       "0  2021-10-05 13:30\n",
       "1  2021-10-05 13:00"
      ]
     },
     "execution_count": 3,
     "metadata": {},
     "output_type": "execute_result"
    }
   ],
   "source": [
    "timestamps"
   ]
  },
  {
   "cell_type": "code",
   "execution_count": 4,
   "id": "alternate-victory",
   "metadata": {
    "execution": {
     "iopub.execute_input": "2021-10-05T11:30:08.766853Z",
     "iopub.status.busy": "2021-10-05T11:30:08.764973Z",
     "iopub.status.idle": "2021-10-05T11:30:09.438323Z",
     "shell.execute_reply": "2021-10-05T11:30:09.439756Z"
    },
    "papermill": {
     "duration": 0.705818,
     "end_time": "2021-10-05T11:30:09.440177",
     "exception": false,
     "start_time": "2021-10-05T11:30:08.734359",
     "status": "completed"
    },
    "tags": []
   },
   "outputs": [],
   "source": [
    "df = pd.read_sql(\"select * from EBAY_TOP_BERLIN where record_time in (select distinct record_time from EBAY_TOP_BERLIN order by record_time desc limit 2)\", sqlite3.connect(\"UsedObjects.db\"))"
   ]
  },
  {
   "cell_type": "code",
   "execution_count": 5,
   "id": "popular-active",
   "metadata": {
    "execution": {
     "iopub.execute_input": "2021-10-05T11:30:09.512038Z",
     "iopub.status.busy": "2021-10-05T11:30:09.500471Z",
     "iopub.status.idle": "2021-10-05T11:30:09.527727Z",
     "shell.execute_reply": "2021-10-05T11:30:09.528976Z"
    },
    "papermill": {
     "duration": 0.067768,
     "end_time": "2021-10-05T11:30:09.529380",
     "exception": false,
     "start_time": "2021-10-05T11:30:09.461612",
     "status": "completed"
    },
    "tags": []
   },
   "outputs": [],
   "source": [
    "df_pivot = df.pivot_table(index=\"PRODUCT\", columns = \"RECORD_TIME\", values = \"LISTING_COUNT\")"
   ]
  },
  {
   "cell_type": "code",
   "execution_count": 6,
   "id": "union-huntington",
   "metadata": {
    "execution": {
     "iopub.execute_input": "2021-10-05T11:30:09.588418Z",
     "iopub.status.busy": "2021-10-05T11:30:09.585948Z",
     "iopub.status.idle": "2021-10-05T11:30:09.591938Z",
     "shell.execute_reply": "2021-10-05T11:30:09.593230Z"
    },
    "papermill": {
     "duration": 0.042075,
     "end_time": "2021-10-05T11:30:09.593649",
     "exception": false,
     "start_time": "2021-10-05T11:30:09.551574",
     "status": "completed"
    },
    "tags": []
   },
   "outputs": [],
   "source": [
    "df_pivot.columns = [\"stamp_1\", \"stamp_2\"]\n",
    "df_pivot_diff = df_pivot.diff(axis=1)"
   ]
  },
  {
   "cell_type": "code",
   "execution_count": 7,
   "id": "fifth-motion",
   "metadata": {
    "execution": {
     "iopub.execute_input": "2021-10-05T11:30:09.646380Z",
     "iopub.status.busy": "2021-10-05T11:30:09.644195Z",
     "iopub.status.idle": "2021-10-05T11:30:11.115816Z",
     "shell.execute_reply": "2021-10-05T11:30:11.117115Z"
    },
    "papermill": {
     "duration": 1.504094,
     "end_time": "2021-10-05T11:30:11.117538",
     "exception": false,
     "start_time": "2021-10-05T11:30:09.613444",
     "status": "completed"
    },
    "tags": []
   },
   "outputs": [
    {
     "data": {
      "text/plain": [
       "<AxesSubplot:ylabel='PRODUCT'>"
      ]
     },
     "execution_count": 7,
     "metadata": {},
     "output_type": "execute_result"
    },
    {
     "data": {
      "image/png": "[encoded data removed]",
      "text/plain": [
       "<Figure size 432x288 with 1 Axes>"
      ]
     },
     "metadata": {
      "needs_background": "light"
     },
     "output_type": "display_data"
    }
   ],
   "source": [
    "df_pivot_diff.sort_values(\"stamp_2\", ascending = False)[\"stamp_2\"].head(10).plot.barh()"
   ]
  },
  {
   "cell_type": "code",
   "execution_count": null,
   "id": "extra-executive",
   "metadata": {
    "papermill": {
     "duration": 0.02195,
     "end_time": "2021-10-05T11:30:11.164060",
     "exception": false,
     "start_time": "2021-10-05T11:30:11.142110",
     "status": "completed"
    },
    "tags": []
   },
   "outputs": [],
   "source": []
  }
 ],
 "metadata": {
  "kernelspec": {
   "display_name": "Python 3",
   "language": "python",
   "name": "python3"
  },
  "language_info": {
   "codemirror_mode": {
    "name": "ipython",
    "version": 3
   },
   "file_extension": ".py",
   "mimetype": "text/x-python",
   "name": "python",
   "nbconvert_exporter": "python",
   "pygments_lexer": "ipython3",
   "version": "3.9.5"
  },
  "papermill": {
   "default_parameters": {},
   "duration": 7.821839,
   "end_time": "2021-10-05T11:30:12.676370",
   "environment_variables": {},
   "exception": null,
   "input_path": "eBay_Overview.ipynb",
   "output_path": "eBay_Overview.ipynb",
   "parameters": {},
   "start_time": "2021-10-05T11:30:04.854531",
   "version": "2.3.3"
  }
 },
 "nbformat": 4,
 "nbformat_minor": 5
}