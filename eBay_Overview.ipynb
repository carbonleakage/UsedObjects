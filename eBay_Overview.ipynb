{
 "cells": [
  {
   "cell_type": "code",
   "execution_count": 1,
   "id": "reverse-picking",
   "metadata": {
    "execution": {
     "iopub.execute_input": "2021-12-15T09:30:07.268940Z",
     "iopub.status.busy": "2021-12-15T09:30:07.266963Z",
     "iopub.status.idle": "2021-12-15T09:30:08.181959Z",
     "shell.execute_reply": "2021-12-15T09:30:08.183573Z"
    },
    "papermill": {
     "duration": 0.964416,
     "end_time": "2021-12-15T09:30:08.184359",
     "exception": false,
     "start_time": "2021-12-15T09:30:07.219943",
     "status": "completed"
    },
    "tags": []
   },
   "outputs": [],
   "source": [
    "import pandas as pd\n",
    "import sqlite3"
   ]
  },
  {
   "cell_type": "code",
   "execution_count": 2,
   "id": "innovative-syndrome",
   "metadata": {
    "execution": {
     "iopub.execute_input": "2021-12-15T09:30:08.283837Z",
     "iopub.status.busy": "2021-12-15T09:30:08.281632Z",
     "iopub.status.idle": "2021-12-15T09:30:09.371540Z",
     "shell.execute_reply": "2021-12-15T09:30:09.372903Z"
    },
    "papermill": {
     "duration": 1.161558,
     "end_time": "2021-12-15T09:30:09.373381",
     "exception": false,
     "start_time": "2021-12-15T09:30:08.211823",
     "status": "completed"
    },
    "tags": []
   },
   "outputs": [],
   "source": [
    "timestamps = pd.read_sql(\"select distinct record_time from EBAY_TOP_BERLIN order by record_time desc limit 2\", sqlite3.connect(\"UsedObjects.db\"))"
   ]
  },
  {
   "cell_type": "code",
   "execution_count": 3,
   "id": "periodic-identification",
   "metadata": {
    "execution": {
     "iopub.execute_input": "2021-12-15T09:30:09.439491Z",
     "iopub.status.busy": "2021-12-15T09:30:09.437457Z",
     "iopub.status.idle": "2021-12-15T09:30:09.459860Z",
     "shell.execute_reply": "2021-12-15T09:30:09.461532Z"
    },
    "papermill": {
     "duration": 0.068939,
     "end_time": "2021-12-15T09:30:09.462044",
     "exception": false,
     "start_time": "2021-12-15T09:30:09.393105",
     "status": "completed"
    },
    "tags": []
   },
   "outputs": [
    {
     "data": {
      "text/html": [
       "<div>\n",
       "<style scoped>\n",
       "    .dataframe tbody tr th:only-of-type {\n",
       "        vertical-align: middle;\n",
       "    }\n",
       "\n",
       "    .dataframe tbody tr th {\n",
       "        vertical-align: top;\n",
       "    }\n",
       "\n",
       "    .dataframe thead th {\n",
       "        text-align: right;\n",
       "    }\n",
       "</style>\n",
       "<table border=\"1\" class=\"dataframe\">\n",
       "  <thead>\n",
       "    <tr style=\"text-align: right;\">\n",
       "      <th></th>\n",
       "      <th>RECORD_TIME</th>\n",
       "    </tr>\n",
       "  </thead>\n",
       "  <tbody>\n",
       "    <tr>\n",
       "      <th>0</th>\n",
       "      <td>2021-12-15 10:30</td>\n",
       "    </tr>\n",
       "    <tr>\n",
       "      <th>1</th>\n",
       "      <td>2021-12-15 10:00</td>\n",
       "    </tr>\n",
       "  </tbody>\n",
       "</table>\n",
       "</div>"
      ],
      "text/plain": [
       "        RECORD_TIME\n",
       "0  2021-12-15 10:30\n",
       "1  2021-12-15 10:00"
      ]
     },
     "execution_count": 3,
     "metadata": {},
     "output_type": "execute_result"
    }
   ],
   "source": [
    "timestamps"
   ]
  },
  {
   "cell_type": "code",
   "execution_count": 4,
   "id": "alternate-victory",
   "metadata": {
    "execution": {
     "iopub.execute_input": "2021-12-15T09:30:09.515430Z",
     "iopub.status.busy": "2021-12-15T09:30:09.513399Z",
     "iopub.status.idle": "2021-12-15T09:30:11.107731Z",
     "shell.execute_reply": "2021-12-15T09:30:11.109185Z"
    },
    "papermill": {
     "duration": 1.62728,
     "end_time": "2021-12-15T09:30:11.109671",
     "exception": false,
     "start_time": "2021-12-15T09:30:09.482391",
     "status": "completed"
    },
    "tags": []
   },
   "outputs": [],
   "source": [
    "df = pd.read_sql(\"select * from EBAY_TOP_BERLIN where record_time in (select distinct record_time from EBAY_TOP_BERLIN order by record_time desc limit 2)\", sqlite3.connect(\"UsedObjects.db\"))"
   ]
  },
  {
   "cell_type": "code",
   "execution_count": 5,
   "id": "popular-active",
   "metadata": {
    "execution": {
     "iopub.execute_input": "2021-12-15T09:30:11.173827Z",
     "iopub.status.busy": "2021-12-15T09:30:11.171168Z",
     "iopub.status.idle": "2021-12-15T09:30:11.204117Z",
     "shell.execute_reply": "2021-12-15T09:30:11.205606Z"
    },
    "papermill": {
     "duration": 0.07548,
     "end_time": "2021-12-15T09:30:11.206090",
     "exception": false,
     "start_time": "2021-12-15T09:30:11.130610",
     "status": "completed"
    },
    "tags": []
   },
   "outputs": [],
   "source": [
    "df_pivot = df.pivot_table(index=\"PRODUCT\", columns = \"RECORD_TIME\", values = \"LISTING_COUNT\")"
   ]
  },
  {
   "cell_type": "code",
   "execution_count": 6,
   "id": "union-huntington",
   "metadata": {
    "execution": {
     "iopub.execute_input": "2021-12-15T09:30:11.264355Z",
     "iopub.status.busy": "2021-12-15T09:30:11.262162Z",
     "iopub.status.idle": "2021-12-15T09:30:11.268067Z",
     "shell.execute_reply": "2021-12-15T09:30:11.269485Z"
    },
    "papermill": {
     "duration": 0.043603,
     "end_time": "2021-12-15T09:30:11.269975",
     "exception": false,
     "start_time": "2021-12-15T09:30:11.226372",
     "status": "completed"
    },
    "tags": []
   },
   "outputs": [],
   "source": [
    "df_pivot.columns = [\"stamp_1\", \"stamp_2\"]\n",
    "df_pivot_diff = df_pivot.diff(axis=1)"
   ]
  },
  {
   "cell_type": "code",
   "execution_count": 7,
   "id": "fifth-motion",
   "metadata": {
    "execution": {
     "iopub.execute_input": "2021-12-15T09:30:11.329634Z",
     "iopub.status.busy": "2021-12-15T09:30:11.326630Z",
     "iopub.status.idle": "2021-12-15T09:30:13.345704Z",
     "shell.execute_reply": "2021-12-15T09:30:13.346978Z"
    },
    "papermill": {
     "duration": 2.057262,
     "end_time": "2021-12-15T09:30:13.347445",
     "exception": false,
     "start_time": "2021-12-15T09:30:11.290183",
     "status": "completed"
    },
    "tags": []
   },
   "outputs": [
    {
     "data": {
      "text/plain": [
       "<AxesSubplot:ylabel='PRODUCT'>"
      ]
     },
     "execution_count": 7,
     "metadata": {},
     "output_type": "execute_result"
    },
    {
     "data": {
      "image/png": "[encoded data removed]",
      "text/plain": [
       "<Figure size 432x288 with 1 Axes>"
      ]
     },
     "metadata": {
      "needs_background": "light"
     },
     "output_type": "display_data"
    }
   ],
   "source": [
    "df_pivot_diff.sort_values(\"stamp_2\", ascending = False)[\"stamp_2\"].head(10).plot.barh()"
   ]
  },
  {
   "cell_type": "code",
   "execution_count": null,
   "id": "extra-executive",
   "metadata": {
    "papermill": {
     "duration": 0.030394,
     "end_time": "2021-12-15T09:30:13.467607",
     "exception": false,
     "start_time": "2021-12-15T09:30:13.437213",
     "status": "completed"
    },
    "tags": []
   },
   "outputs": [],
   "source": []
  }
 ],
 "metadata": {
  "kernelspec": {
   "display_name": "Python 3",
   "language": "python",
   "name": "python3"
  },
  "language_info": {
   "codemirror_mode": {
    "name": "ipython",
    "version": 3
   },
   "file_extension": ".py",
   "mimetype": "text/x-python",
   "name": "python",
   "nbconvert_exporter": "python",
   "pygments_lexer": "ipython3",
   "version": "3.9.5"
  },
  "papermill": {
   "default_parameters": {},
   "duration": 9.610265,
   "end_time": "2021-12-15T09:30:14.125800",
   "environment_variables": {},
   "exception": null,
   "input_path": "eBay_Overview.ipynb",
   "output_path": "eBay_Overview.ipynb",
   "parameters": {},
   "start_time": "2021-12-15T09:30:04.515535",
   "version": "2.3.3"
  }
 },
 "nbformat": 4,
 "nbformat_minor": 5
}