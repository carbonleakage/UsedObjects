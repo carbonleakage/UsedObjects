{
 "cells": [
  {
   "cell_type": "code",
   "execution_count": 1,
   "id": "reverse-picking",
   "metadata": {
    "execution": {
     "iopub.execute_input": "2021-09-24T09:30:07.097597Z",
     "iopub.status.busy": "2021-09-24T09:30:07.095672Z",
     "iopub.status.idle": "2021-09-24T09:30:07.903509Z",
     "shell.execute_reply": "2021-09-24T09:30:07.901861Z"
    },
    "papermill": {
     "duration": 0.857145,
     "end_time": "2021-09-24T09:30:07.903924",
     "exception": false,
     "start_time": "2021-09-24T09:30:07.046779",
     "status": "completed"
    },
    "tags": []
   },
   "outputs": [],
   "source": [
    "import pandas as pd\n",
    "import sqlite3"
   ]
  },
  {
   "cell_type": "code",
   "execution_count": 2,
   "id": "innovative-syndrome",
   "metadata": {
    "execution": {
     "iopub.execute_input": "2021-09-24T09:30:07.954612Z",
     "iopub.status.busy": "2021-09-24T09:30:07.952766Z",
     "iopub.status.idle": "2021-09-24T09:30:08.321763Z",
     "shell.execute_reply": "2021-09-24T09:30:08.323072Z"
    },
    "papermill": {
     "duration": 0.398572,
     "end_time": "2021-09-24T09:30:08.323532",
     "exception": false,
     "start_time": "2021-09-24T09:30:07.924960",
     "status": "completed"
    },
    "tags": []
   },
   "outputs": [],
   "source": [
    "timestamps = pd.read_sql(\"select distinct record_time from EBAY_TOP_BERLIN order by record_time desc limit 2\", sqlite3.connect(\"UsedObjects.db\"))"
   ]
  },
  {
   "cell_type": "code",
   "execution_count": 3,
   "id": "periodic-identification",
   "metadata": {
    "execution": {
     "iopub.execute_input": "2021-09-24T09:30:08.387058Z",
     "iopub.status.busy": "2021-09-24T09:30:08.384963Z",
     "iopub.status.idle": "2021-09-24T09:30:08.404707Z",
     "shell.execute_reply": "2021-09-24T09:30:08.405917Z"
    },
    "papermill": {
     "duration": 0.063164,
     "end_time": "2021-09-24T09:30:08.406312",
     "exception": false,
     "start_time": "2021-09-24T09:30:08.343148",
     "status": "completed"
    },
    "tags": []
   },
   "outputs": [
    {
     "data": {
      "text/html": [
       "<div>\n",
       "<style scoped>\n",
       "    .dataframe tbody tr th:only-of-type {\n",
       "        vertical-align: middle;\n",
       "    }\n",
       "\n",
       "    .dataframe tbody tr th {\n",
       "        vertical-align: top;\n",
       "    }\n",
       "\n",
       "    .dataframe thead th {\n",
       "        text-align: right;\n",
       "    }\n",
       "</style>\n",
       "<table border=\"1\" class=\"dataframe\">\n",
       "  <thead>\n",
       "    <tr style=\"text-align: right;\">\n",
       "      <th></th>\n",
       "      <th>RECORD_TIME</th>\n",
       "    </tr>\n",
       "  </thead>\n",
       "  <tbody>\n",
       "    <tr>\n",
       "      <th>0</th>\n",
       "      <td>2021-09-24 11:30</td>\n",
       "    </tr>\n",
       "    <tr>\n",
       "      <th>1</th>\n",
       "      <td>2021-09-24 11:00</td>\n",
       "    </tr>\n",
       "  </tbody>\n",
       "</table>\n",
       "</div>"
      ],
      "text/plain": [
       "        RECORD_TIME\n",
       "0  2021-09-24 11:30\n",
       "1  2021-09-24 11:00"
      ]
     },
     "execution_count": 3,
     "metadata": {},
     "output_type": "execute_result"
    }
   ],
   "source": [
    "timestamps"
   ]
  },
  {
   "cell_type": "code",
   "execution_count": 4,
   "id": "alternate-victory",
   "metadata": {
    "execution": {
     "iopub.execute_input": "2021-09-24T09:30:08.459640Z",
     "iopub.status.busy": "2021-09-24T09:30:08.457302Z",
     "iopub.status.idle": "2021-09-24T09:30:09.000710Z",
     "shell.execute_reply": "2021-09-24T09:30:09.001933Z"
    },
    "papermill": {
     "duration": 0.573885,
     "end_time": "2021-09-24T09:30:09.002338",
     "exception": false,
     "start_time": "2021-09-24T09:30:08.428453",
     "status": "completed"
    },
    "tags": []
   },
   "outputs": [],
   "source": [
    "df = pd.read_sql(\"select * from EBAY_TOP_BERLIN where record_time in (select distinct record_time from EBAY_TOP_BERLIN order by record_time desc limit 2)\", sqlite3.connect(\"UsedObjects.db\"))"
   ]
  },
  {
   "cell_type": "code",
   "execution_count": 5,
   "id": "popular-active",
   "metadata": {
    "execution": {
     "iopub.execute_input": "2021-09-24T09:30:09.072653Z",
     "iopub.status.busy": "2021-09-24T09:30:09.060126Z",
     "iopub.status.idle": "2021-09-24T09:30:09.089372Z",
     "shell.execute_reply": "2021-09-24T09:30:09.090576Z"
    },
    "papermill": {
     "duration": 0.068118,
     "end_time": "2021-09-24T09:30:09.091065",
     "exception": false,
     "start_time": "2021-09-24T09:30:09.022947",
     "status": "completed"
    },
    "tags": []
   },
   "outputs": [],
   "source": [
    "df_pivot = df.pivot_table(index=\"PRODUCT\", columns = \"RECORD_TIME\", values = \"LISTING_COUNT\")"
   ]
  },
  {
   "cell_type": "code",
   "execution_count": 6,
   "id": "union-huntington",
   "metadata": {
    "execution": {
     "iopub.execute_input": "2021-09-24T09:30:09.147046Z",
     "iopub.status.busy": "2021-09-24T09:30:09.144973Z",
     "iopub.status.idle": "2021-09-24T09:30:09.150311Z",
     "shell.execute_reply": "2021-09-24T09:30:09.151665Z"
    },
    "papermill": {
     "duration": 0.040829,
     "end_time": "2021-09-24T09:30:09.152098",
     "exception": false,
     "start_time": "2021-09-24T09:30:09.111269",
     "status": "completed"
    },
    "tags": []
   },
   "outputs": [],
   "source": [
    "df_pivot.columns = [\"stamp_1\", \"stamp_2\"]\n",
    "df_pivot_diff = df_pivot.diff(axis=1)"
   ]
  },
  {
   "cell_type": "code",
   "execution_count": 7,
   "id": "fifth-motion",
   "metadata": {
    "execution": {
     "iopub.execute_input": "2021-09-24T09:30:09.206311Z",
     "iopub.status.busy": "2021-09-24T09:30:09.203948Z",
     "iopub.status.idle": "2021-09-24T09:30:10.702029Z",
     "shell.execute_reply": "2021-09-24T09:30:10.703677Z"
    },
    "papermill": {
     "duration": 1.531559,
     "end_time": "2021-09-24T09:30:10.704190",
     "exception": false,
     "start_time": "2021-09-24T09:30:09.172631",
     "status": "completed"
    },
    "tags": []
   },
   "outputs": [
    {
     "data": {
      "text/plain": [
       "<AxesSubplot:ylabel='PRODUCT'>"
      ]
     },
     "execution_count": 7,
     "metadata": {},
     "output_type": "execute_result"
    },
    {
     "data": {
      "image/png": "[encoded data removed]",
      "text/plain": [
       "<Figure size 432x288 with 1 Axes>"
      ]
     },
     "metadata": {
      "needs_background": "light"
     },
     "output_type": "display_data"
    }
   ],
   "source": [
    "df_pivot_diff.sort_values(\"stamp_2\", ascending = False)[\"stamp_2\"].head(10).plot.barh()"
   ]
  },
  {
   "cell_type": "code",
   "execution_count": null,
   "id": "extra-executive",
   "metadata": {
    "papermill": {
     "duration": 0.022608,
     "end_time": "2021-09-24T09:30:10.752133",
     "exception": false,
     "start_time": "2021-09-24T09:30:10.729525",
     "status": "completed"
    },
    "tags": []
   },
   "outputs": [],
   "source": []
  }
 ],
 "metadata": {
  "kernelspec": {
   "display_name": "Python 3",
   "language": "python",
   "name": "python3"
  },
  "language_info": {
   "codemirror_mode": {
    "name": "ipython",
    "version": 3
   },
   "file_extension": ".py",
   "mimetype": "text/x-python",
   "name": "python",
   "nbconvert_exporter": "python",
   "pygments_lexer": "ipython3",
   "version": "3.9.5"
  },
  "papermill": {
   "default_parameters": {},
   "duration": 6.755202,
   "end_time": "2021-09-24T09:30:11.395670",
   "environment_variables": {},
   "exception": null,
   "input_path": "eBay_Overview.ipynb",
   "output_path": "eBay_Overview.ipynb",
   "parameters": {},
   "start_time": "2021-09-24T09:30:04.640468",
   "version": "2.3.3"
  }
 },
 "nbformat": 4,
 "nbformat_minor": 5
}