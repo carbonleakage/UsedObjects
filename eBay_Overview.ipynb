{
 "cells": [
  {
   "cell_type": "code",
   "execution_count": 1,
   "id": "reverse-picking",
   "metadata": {
    "execution": {
     "iopub.execute_input": "2021-12-20T11:00:07.406508Z",
     "iopub.status.busy": "2021-12-20T11:00:07.404108Z",
     "iopub.status.idle": "2021-12-20T11:00:08.359234Z",
     "shell.execute_reply": "2021-12-20T11:00:08.360918Z"
    },
    "papermill": {
     "duration": 1.005477,
     "end_time": "2021-12-20T11:00:08.361639",
     "exception": false,
     "start_time": "2021-12-20T11:00:07.356162",
     "status": "completed"
    },
    "tags": []
   },
   "outputs": [],
   "source": [
    "import pandas as pd\n",
    "import sqlite3"
   ]
  },
  {
   "cell_type": "code",
   "execution_count": 2,
   "id": "innovative-syndrome",
   "metadata": {
    "execution": {
     "iopub.execute_input": "2021-12-20T11:00:08.424962Z",
     "iopub.status.busy": "2021-12-20T11:00:08.422567Z",
     "iopub.status.idle": "2021-12-20T11:00:09.573129Z",
     "shell.execute_reply": "2021-12-20T11:00:09.574461Z"
    },
    "papermill": {
     "duration": 1.185064,
     "end_time": "2021-12-20T11:00:09.574926",
     "exception": false,
     "start_time": "2021-12-20T11:00:08.389862",
     "status": "completed"
    },
    "tags": []
   },
   "outputs": [],
   "source": [
    "timestamps = pd.read_sql(\"select distinct record_time from EBAY_TOP_BERLIN order by record_time desc limit 2\", sqlite3.connect(\"UsedObjects.db\"))"
   ]
  },
  {
   "cell_type": "code",
   "execution_count": 3,
   "id": "periodic-identification",
   "metadata": {
    "execution": {
     "iopub.execute_input": "2021-12-20T11:00:09.646835Z",
     "iopub.status.busy": "2021-12-20T11:00:09.641266Z",
     "iopub.status.idle": "2021-12-20T11:00:09.666592Z",
     "shell.execute_reply": "2021-12-20T11:00:09.668140Z"
    },
    "papermill": {
     "duration": 0.073687,
     "end_time": "2021-12-20T11:00:09.668655",
     "exception": false,
     "start_time": "2021-12-20T11:00:09.594968",
     "status": "completed"
    },
    "tags": []
   },
   "outputs": [
    {
     "data": {
      "text/html": [
       "<div>\n",
       "<style scoped>\n",
       "    .dataframe tbody tr th:only-of-type {\n",
       "        vertical-align: middle;\n",
       "    }\n",
       "\n",
       "    .dataframe tbody tr th {\n",
       "        vertical-align: top;\n",
       "    }\n",
       "\n",
       "    .dataframe thead th {\n",
       "        text-align: right;\n",
       "    }\n",
       "</style>\n",
       "<table border=\"1\" class=\"dataframe\">\n",
       "  <thead>\n",
       "    <tr style=\"text-align: right;\">\n",
       "      <th></th>\n",
       "      <th>RECORD_TIME</th>\n",
       "    </tr>\n",
       "  </thead>\n",
       "  <tbody>\n",
       "    <tr>\n",
       "      <th>0</th>\n",
       "      <td>2021-12-20 12:00</td>\n",
       "    </tr>\n",
       "    <tr>\n",
       "      <th>1</th>\n",
       "      <td>2021-12-20 11:30</td>\n",
       "    </tr>\n",
       "  </tbody>\n",
       "</table>\n",
       "</div>"
      ],
      "text/plain": [
       "        RECORD_TIME\n",
       "0  2021-12-20 12:00\n",
       "1  2021-12-20 11:30"
      ]
     },
     "execution_count": 3,
     "metadata": {},
     "output_type": "execute_result"
    }
   ],
   "source": [
    "timestamps"
   ]
  },
  {
   "cell_type": "code",
   "execution_count": 4,
   "id": "alternate-victory",
   "metadata": {
    "execution": {
     "iopub.execute_input": "2021-12-20T11:00:09.733290Z",
     "iopub.status.busy": "2021-12-20T11:00:09.730927Z",
     "iopub.status.idle": "2021-12-20T11:00:11.407433Z",
     "shell.execute_reply": "2021-12-20T11:00:11.409678Z"
    },
    "papermill": {
     "duration": 1.718899,
     "end_time": "2021-12-20T11:00:11.410166",
     "exception": false,
     "start_time": "2021-12-20T11:00:09.691267",
     "status": "completed"
    },
    "tags": []
   },
   "outputs": [],
   "source": [
    "df = pd.read_sql(\"select * from EBAY_TOP_BERLIN where record_time in (select distinct record_time from EBAY_TOP_BERLIN order by record_time desc limit 2)\", sqlite3.connect(\"UsedObjects.db\"))"
   ]
  },
  {
   "cell_type": "code",
   "execution_count": 5,
   "id": "popular-active",
   "metadata": {
    "execution": {
     "iopub.execute_input": "2021-12-20T11:00:11.487437Z",
     "iopub.status.busy": "2021-12-20T11:00:11.478707Z",
     "iopub.status.idle": "2021-12-20T11:00:11.506830Z",
     "shell.execute_reply": "2021-12-20T11:00:11.508729Z"
    },
    "papermill": {
     "duration": 0.07866,
     "end_time": "2021-12-20T11:00:11.509279",
     "exception": false,
     "start_time": "2021-12-20T11:00:11.430619",
     "status": "completed"
    },
    "tags": []
   },
   "outputs": [],
   "source": [
    "df_pivot = df.pivot_table(index=\"PRODUCT\", columns = \"RECORD_TIME\", values = \"LISTING_COUNT\")"
   ]
  },
  {
   "cell_type": "code",
   "execution_count": 6,
   "id": "union-huntington",
   "metadata": {
    "execution": {
     "iopub.execute_input": "2021-12-20T11:00:11.569834Z",
     "iopub.status.busy": "2021-12-20T11:00:11.567517Z",
     "iopub.status.idle": "2021-12-20T11:00:11.573565Z",
     "shell.execute_reply": "2021-12-20T11:00:11.574951Z"
    },
    "papermill": {
     "duration": 0.043963,
     "end_time": "2021-12-20T11:00:11.575436",
     "exception": false,
     "start_time": "2021-12-20T11:00:11.531473",
     "status": "completed"
    },
    "tags": []
   },
   "outputs": [],
   "source": [
    "df_pivot.columns = [\"stamp_1\", \"stamp_2\"]\n",
    "df_pivot_diff = df_pivot.diff(axis=1)"
   ]
  },
  {
   "cell_type": "code",
   "execution_count": 7,
   "id": "fifth-motion",
   "metadata": {
    "execution": {
     "iopub.execute_input": "2021-12-20T11:00:11.631264Z",
     "iopub.status.busy": "2021-12-20T11:00:11.628758Z",
     "iopub.status.idle": "2021-12-20T11:00:13.612420Z",
     "shell.execute_reply": "2021-12-20T11:00:13.613804Z"
    },
    "papermill": {
     "duration": 2.018834,
     "end_time": "2021-12-20T11:00:13.614236",
     "exception": false,
     "start_time": "2021-12-20T11:00:11.595402",
     "status": "completed"
    },
    "tags": []
   },
   "outputs": [
    {
     "data": {
      "text/plain": [
       "<AxesSubplot:ylabel='PRODUCT'>"
      ]
     },
     "execution_count": 7,
     "metadata": {},
     "output_type": "execute_result"
    },
    {
     "data": {
      "image/png": "[encoded data removed]",
      "text/plain": [
       "<Figure size 432x288 with 1 Axes>"
      ]
     },
     "metadata": {
      "needs_background": "light"
     },
     "output_type": "display_data"
    }
   ],
   "source": [
    "df_pivot_diff.sort_values(\"stamp_2\", ascending = False)[\"stamp_2\"].head(10).plot.barh()"
   ]
  },
  {
   "cell_type": "code",
   "execution_count": null,
   "id": "extra-executive",
   "metadata": {
    "papermill": {
     "duration": 0.022136,
     "end_time": "2021-12-20T11:00:13.661314",
     "exception": false,
     "start_time": "2021-12-20T11:00:13.639178",
     "status": "completed"
    },
    "tags": []
   },
   "outputs": [],
   "source": []
  }
 ],
 "metadata": {
  "kernelspec": {
   "display_name": "Python 3",
   "language": "python",
   "name": "python3"
  },
  "language_info": {
   "codemirror_mode": {
    "name": "ipython",
    "version": 3
   },
   "file_extension": ".py",
   "mimetype": "text/x-python",
   "name": "python",
   "nbconvert_exporter": "python",
   "pygments_lexer": "ipython3",
   "version": "3.9.5"
  },
  "papermill": {
   "default_parameters": {},
   "duration": 9.682225,
   "end_time": "2021-12-20T11:00:14.303912",
   "environment_variables": {},
   "exception": null,
   "input_path": "eBay_Overview.ipynb",
   "output_path": "eBay_Overview.ipynb",
   "parameters": {},
   "start_time": "2021-12-20T11:00:04.621687",
   "version": "2.3.3"
  }
 },
 "nbformat": 4,
 "nbformat_minor": 5
}