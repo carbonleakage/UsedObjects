{
 "cells": [
  {
   "cell_type": "code",
   "execution_count": 1,
   "id": "reverse-picking",
   "metadata": {
    "execution": {
     "iopub.execute_input": "2021-10-24T14:30:07.907277Z",
     "iopub.status.busy": "2021-10-24T14:30:07.905327Z",
     "iopub.status.idle": "2021-10-24T14:30:08.715600Z",
     "shell.execute_reply": "2021-10-24T14:30:08.717019Z"
    },
    "papermill": {
     "duration": 0.862483,
     "end_time": "2021-10-24T14:30:08.717660",
     "exception": false,
     "start_time": "2021-10-24T14:30:07.855177",
     "status": "completed"
    },
    "tags": []
   },
   "outputs": [],
   "source": [
    "import pandas as pd\n",
    "import sqlite3"
   ]
  },
  {
   "cell_type": "code",
   "execution_count": 2,
   "id": "innovative-syndrome",
   "metadata": {
    "execution": {
     "iopub.execute_input": "2021-10-24T14:30:08.770080Z",
     "iopub.status.busy": "2021-10-24T14:30:08.767643Z",
     "iopub.status.idle": "2021-10-24T14:30:09.400748Z",
     "shell.execute_reply": "2021-10-24T14:30:09.402296Z"
    },
    "papermill": {
     "duration": 0.663545,
     "end_time": "2021-10-24T14:30:09.402751",
     "exception": false,
     "start_time": "2021-10-24T14:30:08.739206",
     "status": "completed"
    },
    "tags": []
   },
   "outputs": [],
   "source": [
    "timestamps = pd.read_sql(\"select distinct record_time from EBAY_TOP_BERLIN order by record_time desc limit 2\", sqlite3.connect(\"UsedObjects.db\"))"
   ]
  },
  {
   "cell_type": "code",
   "execution_count": 3,
   "id": "periodic-identification",
   "metadata": {
    "execution": {
     "iopub.execute_input": "2021-10-24T14:30:09.479210Z",
     "iopub.status.busy": "2021-10-24T14:30:09.477187Z",
     "iopub.status.idle": "2021-10-24T14:30:09.497243Z",
     "shell.execute_reply": "2021-10-24T14:30:09.498453Z"
    },
    "papermill": {
     "duration": 0.071136,
     "end_time": "2021-10-24T14:30:09.498881",
     "exception": false,
     "start_time": "2021-10-24T14:30:09.427745",
     "status": "completed"
    },
    "tags": []
   },
   "outputs": [
    {
     "data": {
      "text/html": [
       "<div>\n",
       "<style scoped>\n",
       "    .dataframe tbody tr th:only-of-type {\n",
       "        vertical-align: middle;\n",
       "    }\n",
       "\n",
       "    .dataframe tbody tr th {\n",
       "        vertical-align: top;\n",
       "    }\n",
       "\n",
       "    .dataframe thead th {\n",
       "        text-align: right;\n",
       "    }\n",
       "</style>\n",
       "<table border=\"1\" class=\"dataframe\">\n",
       "  <thead>\n",
       "    <tr style=\"text-align: right;\">\n",
       "      <th></th>\n",
       "      <th>RECORD_TIME</th>\n",
       "    </tr>\n",
       "  </thead>\n",
       "  <tbody>\n",
       "    <tr>\n",
       "      <th>0</th>\n",
       "      <td>2021-10-24 16:30</td>\n",
       "    </tr>\n",
       "    <tr>\n",
       "      <th>1</th>\n",
       "      <td>2021-10-24 16:00</td>\n",
       "    </tr>\n",
       "  </tbody>\n",
       "</table>\n",
       "</div>"
      ],
      "text/plain": [
       "        RECORD_TIME\n",
       "0  2021-10-24 16:30\n",
       "1  2021-10-24 16:00"
      ]
     },
     "execution_count": 3,
     "metadata": {},
     "output_type": "execute_result"
    }
   ],
   "source": [
    "timestamps"
   ]
  },
  {
   "cell_type": "code",
   "execution_count": 4,
   "id": "alternate-victory",
   "metadata": {
    "execution": {
     "iopub.execute_input": "2021-10-24T14:30:09.552788Z",
     "iopub.status.busy": "2021-10-24T14:30:09.550463Z",
     "iopub.status.idle": "2021-10-24T14:30:10.481963Z",
     "shell.execute_reply": "2021-10-24T14:30:10.483232Z"
    },
    "papermill": {
     "duration": 0.96188,
     "end_time": "2021-10-24T14:30:10.483633",
     "exception": false,
     "start_time": "2021-10-24T14:30:09.521753",
     "status": "completed"
    },
    "tags": []
   },
   "outputs": [],
   "source": [
    "df = pd.read_sql(\"select * from EBAY_TOP_BERLIN where record_time in (select distinct record_time from EBAY_TOP_BERLIN order by record_time desc limit 2)\", sqlite3.connect(\"UsedObjects.db\"))"
   ]
  },
  {
   "cell_type": "code",
   "execution_count": 5,
   "id": "popular-active",
   "metadata": {
    "execution": {
     "iopub.execute_input": "2021-10-24T14:30:10.555274Z",
     "iopub.status.busy": "2021-10-24T14:30:10.543293Z",
     "iopub.status.idle": "2021-10-24T14:30:10.571000Z",
     "shell.execute_reply": "2021-10-24T14:30:10.572204Z"
    },
    "papermill": {
     "duration": 0.068389,
     "end_time": "2021-10-24T14:30:10.572593",
     "exception": false,
     "start_time": "2021-10-24T14:30:10.504204",
     "status": "completed"
    },
    "tags": []
   },
   "outputs": [],
   "source": [
    "df_pivot = df.pivot_table(index=\"PRODUCT\", columns = \"RECORD_TIME\", values = \"LISTING_COUNT\")"
   ]
  },
  {
   "cell_type": "code",
   "execution_count": 6,
   "id": "union-huntington",
   "metadata": {
    "execution": {
     "iopub.execute_input": "2021-10-24T14:30:10.629161Z",
     "iopub.status.busy": "2021-10-24T14:30:10.626947Z",
     "iopub.status.idle": "2021-10-24T14:30:10.632511Z",
     "shell.execute_reply": "2021-10-24T14:30:10.634016Z"
    },
    "papermill": {
     "duration": 0.040999,
     "end_time": "2021-10-24T14:30:10.634490",
     "exception": false,
     "start_time": "2021-10-24T14:30:10.593491",
     "status": "completed"
    },
    "tags": []
   },
   "outputs": [],
   "source": [
    "df_pivot.columns = [\"stamp_1\", \"stamp_2\"]\n",
    "df_pivot_diff = df_pivot.diff(axis=1)"
   ]
  },
  {
   "cell_type": "code",
   "execution_count": 7,
   "id": "fifth-motion",
   "metadata": {
    "execution": {
     "iopub.execute_input": "2021-10-24T14:30:10.690455Z",
     "iopub.status.busy": "2021-10-24T14:30:10.687978Z",
     "iopub.status.idle": "2021-10-24T14:30:12.215325Z",
     "shell.execute_reply": "2021-10-24T14:30:12.216604Z"
    },
    "papermill": {
     "duration": 1.56084,
     "end_time": "2021-10-24T14:30:12.217098",
     "exception": false,
     "start_time": "2021-10-24T14:30:10.656258",
     "status": "completed"
    },
    "tags": []
   },
   "outputs": [
    {
     "data": {
      "text/plain": [
       "<AxesSubplot:ylabel='PRODUCT'>"
      ]
     },
     "execution_count": 7,
     "metadata": {},
     "output_type": "execute_result"
    },
    {
     "data": {
      "image/png": "[encoded data removed]",
      "text/plain": [
       "<Figure size 432x288 with 1 Axes>"
      ]
     },
     "metadata": {
      "needs_background": "light"
     },
     "output_type": "display_data"
    }
   ],
   "source": [
    "df_pivot_diff.sort_values(\"stamp_2\", ascending = False)[\"stamp_2\"].head(10).plot.barh()"
   ]
  },
  {
   "cell_type": "code",
   "execution_count": null,
   "id": "extra-executive",
   "metadata": {
    "papermill": {
     "duration": 0.022958,
     "end_time": "2021-10-24T14:30:12.264323",
     "exception": false,
     "start_time": "2021-10-24T14:30:12.241365",
     "status": "completed"
    },
    "tags": []
   },
   "outputs": [],
   "source": []
  }
 ],
 "metadata": {
  "kernelspec": {
   "display_name": "Python 3",
   "language": "python",
   "name": "python3"
  },
  "language_info": {
   "codemirror_mode": {
    "name": "ipython",
    "version": 3
   },
   "file_extension": ".py",
   "mimetype": "text/x-python",
   "name": "python",
   "nbconvert_exporter": "python",
   "pygments_lexer": "ipython3",
   "version": "3.9.5"
  },
  "papermill": {
   "default_parameters": {},
   "duration": 7.472809,
   "end_time": "2021-10-24T14:30:12.904767",
   "environment_variables": {},
   "exception": null,
   "input_path": "eBay_Overview.ipynb",
   "output_path": "eBay_Overview.ipynb",
   "parameters": {},
   "start_time": "2021-10-24T14:30:05.431958",
   "version": "2.3.3"
  }
 },
 "nbformat": 4,
 "nbformat_minor": 5
}