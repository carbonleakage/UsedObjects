{
 "cells": [
  {
   "cell_type": "code",
   "execution_count": 1,
   "id": "reverse-picking",
   "metadata": {
    "execution": {
     "iopub.execute_input": "2021-09-19T00:00:07.540418Z",
     "iopub.status.busy": "2021-09-19T00:00:07.538356Z",
     "iopub.status.idle": "2021-09-19T00:00:08.347735Z",
     "shell.execute_reply": "2021-09-19T00:00:08.345981Z"
    },
    "papermill": {
     "duration": 0.858626,
     "end_time": "2021-09-19T00:00:08.348151",
     "exception": false,
     "start_time": "2021-09-19T00:00:07.489525",
     "status": "completed"
    },
    "tags": []
   },
   "outputs": [],
   "source": [
    "import pandas as pd\n",
    "import sqlite3"
   ]
  },
  {
   "cell_type": "code",
   "execution_count": 2,
   "id": "innovative-syndrome",
   "metadata": {
    "execution": {
     "iopub.execute_input": "2021-09-19T00:00:08.399563Z",
     "iopub.status.busy": "2021-09-19T00:00:08.397223Z",
     "iopub.status.idle": "2021-09-19T00:00:08.718693Z",
     "shell.execute_reply": "2021-09-19T00:00:08.720111Z"
    },
    "papermill": {
     "duration": 0.351247,
     "end_time": "2021-09-19T00:00:08.720554",
     "exception": false,
     "start_time": "2021-09-19T00:00:08.369307",
     "status": "completed"
    },
    "tags": []
   },
   "outputs": [],
   "source": [
    "timestamps = pd.read_sql(\"select distinct record_time from EBAY_TOP_BERLIN order by record_time desc limit 2\", sqlite3.connect(\"UsedObjects.db\"))"
   ]
  },
  {
   "cell_type": "code",
   "execution_count": 3,
   "id": "periodic-identification",
   "metadata": {
    "execution": {
     "iopub.execute_input": "2021-09-19T00:00:08.786032Z",
     "iopub.status.busy": "2021-09-19T00:00:08.783959Z",
     "iopub.status.idle": "2021-09-19T00:00:08.805524Z",
     "shell.execute_reply": "2021-09-19T00:00:08.807033Z"
    },
    "papermill": {
     "duration": 0.067291,
     "end_time": "2021-09-19T00:00:08.807509",
     "exception": false,
     "start_time": "2021-09-19T00:00:08.740218",
     "status": "completed"
    },
    "tags": []
   },
   "outputs": [
    {
     "data": {
      "text/html": [
       "<div>\n",
       "<style scoped>\n",
       "    .dataframe tbody tr th:only-of-type {\n",
       "        vertical-align: middle;\n",
       "    }\n",
       "\n",
       "    .dataframe tbody tr th {\n",
       "        vertical-align: top;\n",
       "    }\n",
       "\n",
       "    .dataframe thead th {\n",
       "        text-align: right;\n",
       "    }\n",
       "</style>\n",
       "<table border=\"1\" class=\"dataframe\">\n",
       "  <thead>\n",
       "    <tr style=\"text-align: right;\">\n",
       "      <th></th>\n",
       "      <th>RECORD_TIME</th>\n",
       "    </tr>\n",
       "  </thead>\n",
       "  <tbody>\n",
       "    <tr>\n",
       "      <th>0</th>\n",
       "      <td>2021-09-19 02:00</td>\n",
       "    </tr>\n",
       "    <tr>\n",
       "      <th>1</th>\n",
       "      <td>2021-09-19 01:30</td>\n",
       "    </tr>\n",
       "  </tbody>\n",
       "</table>\n",
       "</div>"
      ],
      "text/plain": [
       "        RECORD_TIME\n",
       "0  2021-09-19 02:00\n",
       "1  2021-09-19 01:30"
      ]
     },
     "execution_count": 3,
     "metadata": {},
     "output_type": "execute_result"
    }
   ],
   "source": [
    "timestamps"
   ]
  },
  {
   "cell_type": "code",
   "execution_count": 4,
   "id": "alternate-victory",
   "metadata": {
    "execution": {
     "iopub.execute_input": "2021-09-19T00:00:08.858145Z",
     "iopub.status.busy": "2021-09-19T00:00:08.856347Z",
     "iopub.status.idle": "2021-09-19T00:00:09.322385Z",
     "shell.execute_reply": "2021-09-19T00:00:09.323657Z"
    },
    "papermill": {
     "duration": 0.495731,
     "end_time": "2021-09-19T00:00:09.324060",
     "exception": false,
     "start_time": "2021-09-19T00:00:08.828329",
     "status": "completed"
    },
    "tags": []
   },
   "outputs": [],
   "source": [
    "df = pd.read_sql(\"select * from EBAY_TOP_BERLIN where record_time in (select distinct record_time from EBAY_TOP_BERLIN order by record_time desc limit 2)\", sqlite3.connect(\"UsedObjects.db\"))"
   ]
  },
  {
   "cell_type": "code",
   "execution_count": 5,
   "id": "popular-active",
   "metadata": {
    "execution": {
     "iopub.execute_input": "2021-09-19T00:00:09.411333Z",
     "iopub.status.busy": "2021-09-19T00:00:09.398623Z",
     "iopub.status.idle": "2021-09-19T00:00:09.427129Z",
     "shell.execute_reply": "2021-09-19T00:00:09.428402Z"
    },
    "papermill": {
     "duration": 0.072754,
     "end_time": "2021-09-19T00:00:09.428816",
     "exception": false,
     "start_time": "2021-09-19T00:00:09.356062",
     "status": "completed"
    },
    "tags": []
   },
   "outputs": [],
   "source": [
    "df_pivot = df.pivot_table(index=\"PRODUCT\", columns = \"RECORD_TIME\", values = \"LISTING_COUNT\")"
   ]
  },
  {
   "cell_type": "code",
   "execution_count": 6,
   "id": "union-huntington",
   "metadata": {
    "execution": {
     "iopub.execute_input": "2021-09-19T00:00:09.483981Z",
     "iopub.status.busy": "2021-09-19T00:00:09.481916Z",
     "iopub.status.idle": "2021-09-19T00:00:09.487160Z",
     "shell.execute_reply": "2021-09-19T00:00:09.488442Z"
    },
    "papermill": {
     "duration": 0.040294,
     "end_time": "2021-09-19T00:00:09.488855",
     "exception": false,
     "start_time": "2021-09-19T00:00:09.448561",
     "status": "completed"
    },
    "tags": []
   },
   "outputs": [],
   "source": [
    "df_pivot.columns = [\"stamp_1\", \"stamp_2\"]\n",
    "df_pivot_diff = df_pivot.diff(axis=1)"
   ]
  },
  {
   "cell_type": "code",
   "execution_count": 7,
   "id": "fifth-motion",
   "metadata": {
    "execution": {
     "iopub.execute_input": "2021-09-19T00:00:09.543522Z",
     "iopub.status.busy": "2021-09-19T00:00:09.540973Z",
     "iopub.status.idle": "2021-09-19T00:00:11.047386Z",
     "shell.execute_reply": "2021-09-19T00:00:11.048843Z"
    },
    "papermill": {
     "duration": 1.539313,
     "end_time": "2021-09-19T00:00:11.049288",
     "exception": false,
     "start_time": "2021-09-19T00:00:09.509975",
     "status": "completed"
    },
    "tags": []
   },
   "outputs": [
    {
     "data": {
      "text/plain": [
       "<AxesSubplot:ylabel='PRODUCT'>"
      ]
     },
     "execution_count": 7,
     "metadata": {},
     "output_type": "execute_result"
    },
    {
     "data": {
      "image/png": "[encoded data removed]",
      "text/plain": [
       "<Figure size 432x288 with 1 Axes>"
      ]
     },
     "metadata": {
      "needs_background": "light"
     },
     "output_type": "display_data"
    }
   ],
   "source": [
    "df_pivot_diff.sort_values(\"stamp_2\", ascending = False)[\"stamp_2\"].head(10).plot.barh()"
   ]
  },
  {
   "cell_type": "code",
   "execution_count": null,
   "id": "extra-executive",
   "metadata": {
    "papermill": {
     "duration": 0.021805,
     "end_time": "2021-09-19T00:00:11.094386",
     "exception": false,
     "start_time": "2021-09-19T00:00:11.072581",
     "status": "completed"
    },
    "tags": []
   },
   "outputs": [],
   "source": []
  }
 ],
 "metadata": {
  "kernelspec": {
   "display_name": "Python 3",
   "language": "python",
   "name": "python3"
  },
  "language_info": {
   "codemirror_mode": {
    "name": "ipython",
    "version": 3
   },
   "file_extension": ".py",
   "mimetype": "text/x-python",
   "name": "python",
   "nbconvert_exporter": "python",
   "pygments_lexer": "ipython3",
   "version": "3.9.5"
  },
  "papermill": {
   "default_parameters": {},
   "duration": 6.647877,
   "end_time": "2021-09-19T00:00:11.735368",
   "environment_variables": {},
   "exception": null,
   "input_path": "eBay_Overview.ipynb",
   "output_path": "eBay_Overview.ipynb",
   "parameters": {},
   "start_time": "2021-09-19T00:00:05.087491",
   "version": "2.3.3"
  }
 },
 "nbformat": 4,
 "nbformat_minor": 5
}