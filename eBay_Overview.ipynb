{
 "cells": [
  {
   "cell_type": "code",
   "execution_count": 1,
   "id": "reverse-picking",
   "metadata": {
    "execution": {
     "iopub.execute_input": "2021-11-19T06:00:07.701263Z",
     "iopub.status.busy": "2021-11-19T06:00:07.698875Z",
     "iopub.status.idle": "2021-11-19T06:00:08.646993Z",
     "shell.execute_reply": "2021-11-19T06:00:08.648627Z"
    },
    "papermill": {
     "duration": 0.996251,
     "end_time": "2021-11-19T06:00:08.649482",
     "exception": false,
     "start_time": "2021-11-19T06:00:07.653231",
     "status": "completed"
    },
    "tags": []
   },
   "outputs": [],
   "source": [
    "import pandas as pd\n",
    "import sqlite3"
   ]
  },
  {
   "cell_type": "code",
   "execution_count": 2,
   "id": "innovative-syndrome",
   "metadata": {
    "execution": {
     "iopub.execute_input": "2021-11-19T06:00:08.718038Z",
     "iopub.status.busy": "2021-11-19T06:00:08.715726Z",
     "iopub.status.idle": "2021-11-19T06:00:09.563018Z",
     "shell.execute_reply": "2021-11-19T06:00:09.564533Z"
    },
    "papermill": {
     "duration": 0.892143,
     "end_time": "2021-11-19T06:00:09.565090",
     "exception": false,
     "start_time": "2021-11-19T06:00:08.672947",
     "status": "completed"
    },
    "tags": []
   },
   "outputs": [],
   "source": [
    "timestamps = pd.read_sql(\"select distinct record_time from EBAY_TOP_BERLIN order by record_time desc limit 2\", sqlite3.connect(\"UsedObjects.db\"))"
   ]
  },
  {
   "cell_type": "code",
   "execution_count": 3,
   "id": "periodic-identification",
   "metadata": {
    "execution": {
     "iopub.execute_input": "2021-11-19T06:00:09.641277Z",
     "iopub.status.busy": "2021-11-19T06:00:09.635204Z",
     "iopub.status.idle": "2021-11-19T06:00:09.659652Z",
     "shell.execute_reply": "2021-11-19T06:00:09.661235Z"
    },
    "papermill": {
     "duration": 0.07576,
     "end_time": "2021-11-19T06:00:09.661733",
     "exception": false,
     "start_time": "2021-11-19T06:00:09.585973",
     "status": "completed"
    },
    "tags": []
   },
   "outputs": [
    {
     "data": {
      "text/html": [
       "<div>\n",
       "<style scoped>\n",
       "    .dataframe tbody tr th:only-of-type {\n",
       "        vertical-align: middle;\n",
       "    }\n",
       "\n",
       "    .dataframe tbody tr th {\n",
       "        vertical-align: top;\n",
       "    }\n",
       "\n",
       "    .dataframe thead th {\n",
       "        text-align: right;\n",
       "    }\n",
       "</style>\n",
       "<table border=\"1\" class=\"dataframe\">\n",
       "  <thead>\n",
       "    <tr style=\"text-align: right;\">\n",
       "      <th></th>\n",
       "      <th>RECORD_TIME</th>\n",
       "    </tr>\n",
       "  </thead>\n",
       "  <tbody>\n",
       "    <tr>\n",
       "      <th>0</th>\n",
       "      <td>2021-11-19 07:00</td>\n",
       "    </tr>\n",
       "    <tr>\n",
       "      <th>1</th>\n",
       "      <td>2021-11-19 06:30</td>\n",
       "    </tr>\n",
       "  </tbody>\n",
       "</table>\n",
       "</div>"
      ],
      "text/plain": [
       "        RECORD_TIME\n",
       "0  2021-11-19 07:00\n",
       "1  2021-11-19 06:30"
      ]
     },
     "execution_count": 3,
     "metadata": {},
     "output_type": "execute_result"
    }
   ],
   "source": [
    "timestamps"
   ]
  },
  {
   "cell_type": "code",
   "execution_count": 4,
   "id": "alternate-victory",
   "metadata": {
    "execution": {
     "iopub.execute_input": "2021-11-19T06:00:09.718817Z",
     "iopub.status.busy": "2021-11-19T06:00:09.716440Z",
     "iopub.status.idle": "2021-11-19T06:00:10.944020Z",
     "shell.execute_reply": "2021-11-19T06:00:10.945665Z"
    },
    "papermill": {
     "duration": 1.262594,
     "end_time": "2021-11-19T06:00:10.946153",
     "exception": false,
     "start_time": "2021-11-19T06:00:09.683559",
     "status": "completed"
    },
    "tags": []
   },
   "outputs": [],
   "source": [
    "df = pd.read_sql(\"select * from EBAY_TOP_BERLIN where record_time in (select distinct record_time from EBAY_TOP_BERLIN order by record_time desc limit 2)\", sqlite3.connect(\"UsedObjects.db\"))"
   ]
  },
  {
   "cell_type": "code",
   "execution_count": 5,
   "id": "popular-active",
   "metadata": {
    "execution": {
     "iopub.execute_input": "2021-11-19T06:00:11.004132Z",
     "iopub.status.busy": "2021-11-19T06:00:11.001829Z",
     "iopub.status.idle": "2021-11-19T06:00:11.038244Z",
     "shell.execute_reply": "2021-11-19T06:00:11.040580Z"
    },
    "papermill": {
     "duration": 0.071998,
     "end_time": "2021-11-19T06:00:11.041157",
     "exception": false,
     "start_time": "2021-11-19T06:00:10.969159",
     "status": "completed"
    },
    "tags": []
   },
   "outputs": [],
   "source": [
    "df_pivot = df.pivot_table(index=\"PRODUCT\", columns = \"RECORD_TIME\", values = \"LISTING_COUNT\")"
   ]
  },
  {
   "cell_type": "code",
   "execution_count": 6,
   "id": "union-huntington",
   "metadata": {
    "execution": {
     "iopub.execute_input": "2021-11-19T06:00:11.112016Z",
     "iopub.status.busy": "2021-11-19T06:00:11.109728Z",
     "iopub.status.idle": "2021-11-19T06:00:11.115506Z",
     "shell.execute_reply": "2021-11-19T06:00:11.117170Z"
    },
    "papermill": {
     "duration": 0.04754,
     "end_time": "2021-11-19T06:00:11.117685",
     "exception": false,
     "start_time": "2021-11-19T06:00:11.070145",
     "status": "completed"
    },
    "tags": []
   },
   "outputs": [],
   "source": [
    "df_pivot.columns = [\"stamp_1\", \"stamp_2\"]\n",
    "df_pivot_diff = df_pivot.diff(axis=1)"
   ]
  },
  {
   "cell_type": "code",
   "execution_count": 7,
   "id": "fifth-motion",
   "metadata": {
    "execution": {
     "iopub.execute_input": "2021-11-19T06:00:11.177542Z",
     "iopub.status.busy": "2021-11-19T06:00:11.175004Z",
     "iopub.status.idle": "2021-11-19T06:00:12.938609Z",
     "shell.execute_reply": "2021-11-19T06:00:12.940062Z"
    },
    "papermill": {
     "duration": 1.801216,
     "end_time": "2021-11-19T06:00:12.940522",
     "exception": false,
     "start_time": "2021-11-19T06:00:11.139306",
     "status": "completed"
    },
    "tags": []
   },
   "outputs": [
    {
     "data": {
      "text/plain": [
       "<AxesSubplot:ylabel='PRODUCT'>"
      ]
     },
     "execution_count": 7,
     "metadata": {},
     "output_type": "execute_result"
    },
    {
     "data": {
      "image/png": "[encoded data removed]",
      "text/plain": [
       "<Figure size 432x288 with 1 Axes>"
      ]
     },
     "metadata": {
      "needs_background": "light"
     },
     "output_type": "display_data"
    }
   ],
   "source": [
    "df_pivot_diff.sort_values(\"stamp_2\", ascending = False)[\"stamp_2\"].head(10).plot.barh()"
   ]
  },
  {
   "cell_type": "code",
   "execution_count": null,
   "id": "extra-executive",
   "metadata": {
    "papermill": {
     "duration": 0.023814,
     "end_time": "2021-11-19T06:00:12.988308",
     "exception": false,
     "start_time": "2021-11-19T06:00:12.964494",
     "status": "completed"
    },
    "tags": []
   },
   "outputs": [],
   "source": []
  }
 ],
 "metadata": {
  "kernelspec": {
   "display_name": "Python 3",
   "language": "python",
   "name": "python3"
  },
  "language_info": {
   "codemirror_mode": {
    "name": "ipython",
    "version": 3
   },
   "file_extension": ".py",
   "mimetype": "text/x-python",
   "name": "python",
   "nbconvert_exporter": "python",
   "pygments_lexer": "ipython3",
   "version": "3.9.5"
  },
  "papermill": {
   "default_parameters": {},
   "duration": 8.863865,
   "end_time": "2021-11-19T06:00:13.742251",
   "environment_variables": {},
   "exception": null,
   "input_path": "eBay_Overview.ipynb",
   "output_path": "eBay_Overview.ipynb",
   "parameters": {},
   "start_time": "2021-11-19T06:00:04.878386",
   "version": "2.3.3"
  }
 },
 "nbformat": 4,
 "nbformat_minor": 5
}