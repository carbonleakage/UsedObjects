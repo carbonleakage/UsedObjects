{
 "cells": [
  {
   "cell_type": "code",
   "execution_count": 1,
   "id": "reverse-picking",
   "metadata": {
    "execution": {
     "iopub.execute_input": "2021-09-01T20:00:06.920403Z",
     "iopub.status.busy": "2021-09-01T20:00:06.918409Z",
     "iopub.status.idle": "2021-09-01T20:00:07.721303Z",
     "shell.execute_reply": "2021-09-01T20:00:07.719751Z"
    },
    "papermill": {
     "duration": 0.851869,
     "end_time": "2021-09-01T20:00:07.721704",
     "exception": false,
     "start_time": "2021-09-01T20:00:06.869835",
     "status": "completed"
    },
    "tags": []
   },
   "outputs": [],
   "source": [
    "import pandas as pd\n",
    "import sqlite3"
   ]
  },
  {
   "cell_type": "code",
   "execution_count": 2,
   "id": "innovative-syndrome",
   "metadata": {
    "execution": {
     "iopub.execute_input": "2021-09-01T20:00:07.771812Z",
     "iopub.status.busy": "2021-09-01T20:00:07.769853Z",
     "iopub.status.idle": "2021-09-01T20:00:07.955027Z",
     "shell.execute_reply": "2021-09-01T20:00:07.956335Z"
    },
    "papermill": {
     "duration": 0.214522,
     "end_time": "2021-09-01T20:00:07.956752",
     "exception": false,
     "start_time": "2021-09-01T20:00:07.742230",
     "status": "completed"
    },
    "tags": []
   },
   "outputs": [],
   "source": [
    "timestamps = pd.read_sql(\"select distinct record_time from EBAY_TOP_BERLIN order by record_time desc limit 2\", sqlite3.connect(\"UsedObjects.db\"))"
   ]
  },
  {
   "cell_type": "code",
   "execution_count": 3,
   "id": "periodic-identification",
   "metadata": {
    "execution": {
     "iopub.execute_input": "2021-09-01T20:00:08.021765Z",
     "iopub.status.busy": "2021-09-01T20:00:08.019781Z",
     "iopub.status.idle": "2021-09-01T20:00:08.039957Z",
     "shell.execute_reply": "2021-09-01T20:00:08.041295Z"
    },
    "papermill": {
     "duration": 0.064493,
     "end_time": "2021-09-01T20:00:08.041712",
     "exception": false,
     "start_time": "2021-09-01T20:00:07.977219",
     "status": "completed"
    },
    "tags": []
   },
   "outputs": [
    {
     "data": {
      "text/html": [
       "<div>\n",
       "<style scoped>\n",
       "    .dataframe tbody tr th:only-of-type {\n",
       "        vertical-align: middle;\n",
       "    }\n",
       "\n",
       "    .dataframe tbody tr th {\n",
       "        vertical-align: top;\n",
       "    }\n",
       "\n",
       "    .dataframe thead th {\n",
       "        text-align: right;\n",
       "    }\n",
       "</style>\n",
       "<table border=\"1\" class=\"dataframe\">\n",
       "  <thead>\n",
       "    <tr style=\"text-align: right;\">\n",
       "      <th></th>\n",
       "      <th>RECORD_TIME</th>\n",
       "    </tr>\n",
       "  </thead>\n",
       "  <tbody>\n",
       "    <tr>\n",
       "      <th>0</th>\n",
       "      <td>2021-09-01 22:00</td>\n",
       "    </tr>\n",
       "    <tr>\n",
       "      <th>1</th>\n",
       "      <td>2021-09-01 21:30</td>\n",
       "    </tr>\n",
       "  </tbody>\n",
       "</table>\n",
       "</div>"
      ],
      "text/plain": [
       "        RECORD_TIME\n",
       "0  2021-09-01 22:00\n",
       "1  2021-09-01 21:30"
      ]
     },
     "execution_count": 3,
     "metadata": {},
     "output_type": "execute_result"
    }
   ],
   "source": [
    "timestamps"
   ]
  },
  {
   "cell_type": "code",
   "execution_count": 4,
   "id": "alternate-victory",
   "metadata": {
    "execution": {
     "iopub.execute_input": "2021-09-01T20:00:08.093040Z",
     "iopub.status.busy": "2021-09-01T20:00:08.090819Z",
     "iopub.status.idle": "2021-09-01T20:00:08.365719Z",
     "shell.execute_reply": "2021-09-01T20:00:08.367142Z"
    },
    "papermill": {
     "duration": 0.30495,
     "end_time": "2021-09-01T20:00:08.367609",
     "exception": false,
     "start_time": "2021-09-01T20:00:08.062659",
     "status": "completed"
    },
    "tags": []
   },
   "outputs": [],
   "source": [
    "df = pd.read_sql(\"select * from EBAY_TOP_BERLIN where record_time in (select distinct record_time from EBAY_TOP_BERLIN order by record_time desc limit 2)\", sqlite3.connect(\"UsedObjects.db\"))"
   ]
  },
  {
   "cell_type": "code",
   "execution_count": 5,
   "id": "popular-active",
   "metadata": {
    "execution": {
     "iopub.execute_input": "2021-09-01T20:00:08.453021Z",
     "iopub.status.busy": "2021-09-01T20:00:08.441338Z",
     "iopub.status.idle": "2021-09-01T20:00:08.468687Z",
     "shell.execute_reply": "2021-09-01T20:00:08.469893Z"
    },
    "papermill": {
     "duration": 0.07321,
     "end_time": "2021-09-01T20:00:08.470292",
     "exception": false,
     "start_time": "2021-09-01T20:00:08.397082",
     "status": "completed"
    },
    "tags": []
   },
   "outputs": [],
   "source": [
    "df_pivot = df.pivot_table(index=\"PRODUCT\", columns = \"RECORD_TIME\", values = \"LISTING_COUNT\")"
   ]
  },
  {
   "cell_type": "code",
   "execution_count": 6,
   "id": "union-huntington",
   "metadata": {
    "execution": {
     "iopub.execute_input": "2021-09-01T20:00:08.529253Z",
     "iopub.status.busy": "2021-09-01T20:00:08.526760Z",
     "iopub.status.idle": "2021-09-01T20:00:08.532956Z",
     "shell.execute_reply": "2021-09-01T20:00:08.534299Z"
    },
    "papermill": {
     "duration": 0.042377,
     "end_time": "2021-09-01T20:00:08.534779",
     "exception": false,
     "start_time": "2021-09-01T20:00:08.492402",
     "status": "completed"
    },
    "tags": []
   },
   "outputs": [],
   "source": [
    "df_pivot.columns = [\"stamp_1\", \"stamp_2\"]\n",
    "df_pivot_diff = df_pivot.diff(axis=1)"
   ]
  },
  {
   "cell_type": "code",
   "execution_count": 7,
   "id": "fifth-motion",
   "metadata": {
    "execution": {
     "iopub.execute_input": "2021-09-01T20:00:08.589847Z",
     "iopub.status.busy": "2021-09-01T20:00:08.587686Z",
     "iopub.status.idle": "2021-09-01T20:00:10.091068Z",
     "shell.execute_reply": "2021-09-01T20:00:10.092360Z"
    },
    "papermill": {
     "duration": 1.535915,
     "end_time": "2021-09-01T20:00:10.092776",
     "exception": false,
     "start_time": "2021-09-01T20:00:08.556861",
     "status": "completed"
    },
    "tags": []
   },
   "outputs": [
    {
     "data": {
      "text/plain": [
       "<AxesSubplot:ylabel='PRODUCT'>"
      ]
     },
     "execution_count": 7,
     "metadata": {},
     "output_type": "execute_result"
    },
    {
     "data": {
      "image/png": "[encoded data removed]",
      "text/plain": [
       "<Figure size 432x288 with 1 Axes>"
      ]
     },
     "metadata": {
      "needs_background": "light"
     },
     "output_type": "display_data"
    }
   ],
   "source": [
    "df_pivot_diff.sort_values(\"stamp_2\", ascending = False)[\"stamp_2\"].head(10).plot.barh()"
   ]
  },
  {
   "cell_type": "code",
   "execution_count": null,
   "id": "extra-executive",
   "metadata": {
    "papermill": {
     "duration": 0.022156,
     "end_time": "2021-09-01T20:00:10.140327",
     "exception": false,
     "start_time": "2021-09-01T20:00:10.118171",
     "status": "completed"
    },
    "tags": []
   },
   "outputs": [],
   "source": []
  }
 ],
 "metadata": {
  "kernelspec": {
   "display_name": "Python 3",
   "language": "python",
   "name": "python3"
  },
  "language_info": {
   "codemirror_mode": {
    "name": "ipython",
    "version": 3
   },
   "file_extension": ".py",
   "mimetype": "text/x-python",
   "name": "python",
   "nbconvert_exporter": "python",
   "pygments_lexer": "ipython3",
   "version": "3.9.5"
  },
  "papermill": {
   "default_parameters": {},
   "duration": 6.820224,
   "end_time": "2021-09-01T20:00:11.289579",
   "environment_variables": {},
   "exception": null,
   "input_path": "eBay_Overview.ipynb",
   "output_path": "eBay_Overview.ipynb",
   "parameters": {},
   "start_time": "2021-09-01T20:00:04.469355",
   "version": "2.3.3"
  }
 },
 "nbformat": 4,
 "nbformat_minor": 5
}