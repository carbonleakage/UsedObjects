{
 "cells": [
  {
   "cell_type": "code",
   "execution_count": 1,
   "id": "reverse-picking",
   "metadata": {
    "execution": {
     "iopub.execute_input": "2021-10-04T17:30:07.376636Z",
     "iopub.status.busy": "2021-10-04T17:30:07.374624Z",
     "iopub.status.idle": "2021-10-04T17:30:08.180011Z",
     "shell.execute_reply": "2021-10-04T17:30:08.181274Z"
    },
    "papermill": {
     "duration": 0.8581,
     "end_time": "2021-10-04T17:30:08.181890",
     "exception": false,
     "start_time": "2021-10-04T17:30:07.323790",
     "status": "completed"
    },
    "tags": []
   },
   "outputs": [],
   "source": [
    "import pandas as pd\n",
    "import sqlite3"
   ]
  },
  {
   "cell_type": "code",
   "execution_count": 2,
   "id": "innovative-syndrome",
   "metadata": {
    "execution": {
     "iopub.execute_input": "2021-10-04T17:30:08.233756Z",
     "iopub.status.busy": "2021-10-04T17:30:08.231878Z",
     "iopub.status.idle": "2021-10-04T17:30:08.682349Z",
     "shell.execute_reply": "2021-10-04T17:30:08.680979Z"
    },
    "papermill": {
     "duration": 0.478957,
     "end_time": "2021-10-04T17:30:08.682704",
     "exception": false,
     "start_time": "2021-10-04T17:30:08.203747",
     "status": "completed"
    },
    "tags": []
   },
   "outputs": [],
   "source": [
    "timestamps = pd.read_sql(\"select distinct record_time from EBAY_TOP_BERLIN order by record_time desc limit 2\", sqlite3.connect(\"UsedObjects.db\"))"
   ]
  },
  {
   "cell_type": "code",
   "execution_count": 3,
   "id": "periodic-identification",
   "metadata": {
    "execution": {
     "iopub.execute_input": "2021-10-04T17:30:08.750161Z",
     "iopub.status.busy": "2021-10-04T17:30:08.748155Z",
     "iopub.status.idle": "2021-10-04T17:30:08.767949Z",
     "shell.execute_reply": "2021-10-04T17:30:08.769164Z"
    },
    "papermill": {
     "duration": 0.067006,
     "end_time": "2021-10-04T17:30:08.769600",
     "exception": false,
     "start_time": "2021-10-04T17:30:08.702594",
     "status": "completed"
    },
    "tags": []
   },
   "outputs": [
    {
     "data": {
      "text/html": [
       "<div>\n",
       "<style scoped>\n",
       "    .dataframe tbody tr th:only-of-type {\n",
       "        vertical-align: middle;\n",
       "    }\n",
       "\n",
       "    .dataframe tbody tr th {\n",
       "        vertical-align: top;\n",
       "    }\n",
       "\n",
       "    .dataframe thead th {\n",
       "        text-align: right;\n",
       "    }\n",
       "</style>\n",
       "<table border=\"1\" class=\"dataframe\">\n",
       "  <thead>\n",
       "    <tr style=\"text-align: right;\">\n",
       "      <th></th>\n",
       "      <th>RECORD_TIME</th>\n",
       "    </tr>\n",
       "  </thead>\n",
       "  <tbody>\n",
       "    <tr>\n",
       "      <th>0</th>\n",
       "      <td>2021-10-04 19:30</td>\n",
       "    </tr>\n",
       "    <tr>\n",
       "      <th>1</th>\n",
       "      <td>2021-10-04 19:00</td>\n",
       "    </tr>\n",
       "  </tbody>\n",
       "</table>\n",
       "</div>"
      ],
      "text/plain": [
       "        RECORD_TIME\n",
       "0  2021-10-04 19:30\n",
       "1  2021-10-04 19:00"
      ]
     },
     "execution_count": 3,
     "metadata": {},
     "output_type": "execute_result"
    }
   ],
   "source": [
    "timestamps"
   ]
  },
  {
   "cell_type": "code",
   "execution_count": 4,
   "id": "alternate-victory",
   "metadata": {
    "execution": {
     "iopub.execute_input": "2021-10-04T17:30:08.843268Z",
     "iopub.status.busy": "2021-10-04T17:30:08.841258Z",
     "iopub.status.idle": "2021-10-04T17:30:09.503261Z",
     "shell.execute_reply": "2021-10-04T17:30:09.504486Z"
    },
    "papermill": {
     "duration": 0.714862,
     "end_time": "2021-10-04T17:30:09.504879",
     "exception": false,
     "start_time": "2021-10-04T17:30:08.790017",
     "status": "completed"
    },
    "tags": []
   },
   "outputs": [],
   "source": [
    "df = pd.read_sql(\"select * from EBAY_TOP_BERLIN where record_time in (select distinct record_time from EBAY_TOP_BERLIN order by record_time desc limit 2)\", sqlite3.connect(\"UsedObjects.db\"))"
   ]
  },
  {
   "cell_type": "code",
   "execution_count": 5,
   "id": "popular-active",
   "metadata": {
    "execution": {
     "iopub.execute_input": "2021-10-04T17:30:09.576676Z",
     "iopub.status.busy": "2021-10-04T17:30:09.565779Z",
     "iopub.status.idle": "2021-10-04T17:30:09.592215Z",
     "shell.execute_reply": "2021-10-04T17:30:09.593425Z"
    },
    "papermill": {
     "duration": 0.067678,
     "end_time": "2021-10-04T17:30:09.593819",
     "exception": false,
     "start_time": "2021-10-04T17:30:09.526141",
     "status": "completed"
    },
    "tags": []
   },
   "outputs": [],
   "source": [
    "df_pivot = df.pivot_table(index=\"PRODUCT\", columns = \"RECORD_TIME\", values = \"LISTING_COUNT\")"
   ]
  },
  {
   "cell_type": "code",
   "execution_count": 6,
   "id": "union-huntington",
   "metadata": {
    "execution": {
     "iopub.execute_input": "2021-10-04T17:30:09.650549Z",
     "iopub.status.busy": "2021-10-04T17:30:09.648492Z",
     "iopub.status.idle": "2021-10-04T17:30:09.653795Z",
     "shell.execute_reply": "2021-10-04T17:30:09.655205Z"
    },
    "papermill": {
     "duration": 0.040796,
     "end_time": "2021-10-04T17:30:09.655637",
     "exception": false,
     "start_time": "2021-10-04T17:30:09.614841",
     "status": "completed"
    },
    "tags": []
   },
   "outputs": [],
   "source": [
    "df_pivot.columns = [\"stamp_1\", \"stamp_2\"]\n",
    "df_pivot_diff = df_pivot.diff(axis=1)"
   ]
  },
  {
   "cell_type": "code",
   "execution_count": 7,
   "id": "fifth-motion",
   "metadata": {
    "execution": {
     "iopub.execute_input": "2021-10-04T17:30:09.709947Z",
     "iopub.status.busy": "2021-10-04T17:30:09.707669Z",
     "iopub.status.idle": "2021-10-04T17:30:11.198250Z",
     "shell.execute_reply": "2021-10-04T17:30:11.199753Z"
    },
    "papermill": {
     "duration": 1.524171,
     "end_time": "2021-10-04T17:30:11.200213",
     "exception": false,
     "start_time": "2021-10-04T17:30:09.676042",
     "status": "completed"
    },
    "tags": []
   },
   "outputs": [
    {
     "data": {
      "text/plain": [
       "<AxesSubplot:ylabel='PRODUCT'>"
      ]
     },
     "execution_count": 7,
     "metadata": {},
     "output_type": "execute_result"
    },
    {
     "data": {
      "image/png": "[encoded data removed]",
      "text/plain": [
       "<Figure size 432x288 with 1 Axes>"
      ]
     },
     "metadata": {
      "needs_background": "light"
     },
     "output_type": "display_data"
    }
   ],
   "source": [
    "df_pivot_diff.sort_values(\"stamp_2\", ascending = False)[\"stamp_2\"].head(10).plot.barh()"
   ]
  },
  {
   "cell_type": "code",
   "execution_count": null,
   "id": "extra-executive",
   "metadata": {
    "papermill": {
     "duration": 0.022512,
     "end_time": "2021-10-04T17:30:11.247058",
     "exception": false,
     "start_time": "2021-10-04T17:30:11.224546",
     "status": "completed"
    },
    "tags": []
   },
   "outputs": [],
   "source": []
  }
 ],
 "metadata": {
  "kernelspec": {
   "display_name": "Python 3",
   "language": "python",
   "name": "python3"
  },
  "language_info": {
   "codemirror_mode": {
    "name": "ipython",
    "version": 3
   },
   "file_extension": ".py",
   "mimetype": "text/x-python",
   "name": "python",
   "nbconvert_exporter": "python",
   "pygments_lexer": "ipython3",
   "version": "3.9.5"
  },
  "papermill": {
   "default_parameters": {},
   "duration": 7.820429,
   "end_time": "2021-10-04T17:30:12.745558",
   "environment_variables": {},
   "exception": null,
   "input_path": "eBay_Overview.ipynb",
   "output_path": "eBay_Overview.ipynb",
   "parameters": {},
   "start_time": "2021-10-04T17:30:04.925129",
   "version": "2.3.3"
  }
 },
 "nbformat": 4,
 "nbformat_minor": 5
}