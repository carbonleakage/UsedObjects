{
 "cells": [
  {
   "cell_type": "code",
   "execution_count": 1,
   "id": "reverse-picking",
   "metadata": {
    "execution": {
     "iopub.execute_input": "2021-08-22T23:30:07.070806Z",
     "iopub.status.busy": "2021-08-22T23:30:07.068783Z",
     "iopub.status.idle": "2021-08-22T23:30:07.872834Z",
     "shell.execute_reply": "2021-08-22T23:30:07.874245Z"
    },
    "papermill": {
     "duration": 0.855824,
     "end_time": "2021-08-22T23:30:07.874911",
     "exception": false,
     "start_time": "2021-08-22T23:30:07.019087",
     "status": "completed"
    },
    "tags": []
   },
   "outputs": [],
   "source": [
    "import pandas as pd\n",
    "import sqlite3"
   ]
  },
  {
   "cell_type": "code",
   "execution_count": 2,
   "id": "innovative-syndrome",
   "metadata": {
    "execution": {
     "iopub.execute_input": "2021-08-22T23:30:07.926048Z",
     "iopub.status.busy": "2021-08-22T23:30:07.924029Z",
     "iopub.status.idle": "2021-08-22T23:30:08.034071Z",
     "shell.execute_reply": "2021-08-22T23:30:08.035438Z"
    },
    "papermill": {
     "duration": 0.140464,
     "end_time": "2021-08-22T23:30:08.035854",
     "exception": false,
     "start_time": "2021-08-22T23:30:07.895390",
     "status": "completed"
    },
    "tags": []
   },
   "outputs": [],
   "source": [
    "timestamps = pd.read_sql(\"select distinct record_time from EBAY_TOP_BERLIN order by record_time desc limit 2\", sqlite3.connect(\"UsedObjects.db\"))"
   ]
  },
  {
   "cell_type": "code",
   "execution_count": 3,
   "id": "periodic-identification",
   "metadata": {
    "execution": {
     "iopub.execute_input": "2021-08-22T23:30:08.100403Z",
     "iopub.status.busy": "2021-08-22T23:30:08.098387Z",
     "iopub.status.idle": "2021-08-22T23:30:08.117730Z",
     "shell.execute_reply": "2021-08-22T23:30:08.119155Z"
    },
    "papermill": {
     "duration": 0.064092,
     "end_time": "2021-08-22T23:30:08.119581",
     "exception": false,
     "start_time": "2021-08-22T23:30:08.055489",
     "status": "completed"
    },
    "tags": []
   },
   "outputs": [
    {
     "data": {
      "text/html": [
       "<div>\n",
       "<style scoped>\n",
       "    .dataframe tbody tr th:only-of-type {\n",
       "        vertical-align: middle;\n",
       "    }\n",
       "\n",
       "    .dataframe tbody tr th {\n",
       "        vertical-align: top;\n",
       "    }\n",
       "\n",
       "    .dataframe thead th {\n",
       "        text-align: right;\n",
       "    }\n",
       "</style>\n",
       "<table border=\"1\" class=\"dataframe\">\n",
       "  <thead>\n",
       "    <tr style=\"text-align: right;\">\n",
       "      <th></th>\n",
       "      <th>RECORD_TIME</th>\n",
       "    </tr>\n",
       "  </thead>\n",
       "  <tbody>\n",
       "    <tr>\n",
       "      <th>0</th>\n",
       "      <td>2021-08-23 01:30</td>\n",
       "    </tr>\n",
       "    <tr>\n",
       "      <th>1</th>\n",
       "      <td>2021-08-23 01:00</td>\n",
       "    </tr>\n",
       "  </tbody>\n",
       "</table>\n",
       "</div>"
      ],
      "text/plain": [
       "        RECORD_TIME\n",
       "0  2021-08-23 01:30\n",
       "1  2021-08-23 01:00"
      ]
     },
     "execution_count": 3,
     "metadata": {},
     "output_type": "execute_result"
    }
   ],
   "source": [
    "timestamps"
   ]
  },
  {
   "cell_type": "code",
   "execution_count": 4,
   "id": "alternate-victory",
   "metadata": {
    "execution": {
     "iopub.execute_input": "2021-08-22T23:30:08.171372Z",
     "iopub.status.busy": "2021-08-22T23:30:08.169413Z",
     "iopub.status.idle": "2021-08-22T23:30:08.335479Z",
     "shell.execute_reply": "2021-08-22T23:30:08.336779Z"
    },
    "papermill": {
     "duration": 0.196305,
     "end_time": "2021-08-22T23:30:08.337197",
     "exception": false,
     "start_time": "2021-08-22T23:30:08.140892",
     "status": "completed"
    },
    "tags": []
   },
   "outputs": [],
   "source": [
    "df = pd.read_sql(\"select * from EBAY_TOP_BERLIN where record_time in (select distinct record_time from EBAY_TOP_BERLIN order by record_time desc limit 2)\", sqlite3.connect(\"UsedObjects.db\"))"
   ]
  },
  {
   "cell_type": "code",
   "execution_count": 5,
   "id": "popular-active",
   "metadata": {
    "execution": {
     "iopub.execute_input": "2021-08-22T23:30:08.411521Z",
     "iopub.status.busy": "2021-08-22T23:30:08.400261Z",
     "iopub.status.idle": "2021-08-22T23:30:08.426700Z",
     "shell.execute_reply": "2021-08-22T23:30:08.427935Z"
    },
    "papermill": {
     "duration": 0.068325,
     "end_time": "2021-08-22T23:30:08.428330",
     "exception": false,
     "start_time": "2021-08-22T23:30:08.360005",
     "status": "completed"
    },
    "tags": []
   },
   "outputs": [],
   "source": [
    "df_pivot = df.pivot_table(index=\"PRODUCT\", columns = \"RECORD_TIME\", values = \"LISTING_COUNT\")"
   ]
  },
  {
   "cell_type": "code",
   "execution_count": 6,
   "id": "union-huntington",
   "metadata": {
    "execution": {
     "iopub.execute_input": "2021-08-22T23:30:08.487852Z",
     "iopub.status.busy": "2021-08-22T23:30:08.485318Z",
     "iopub.status.idle": "2021-08-22T23:30:08.491258Z",
     "shell.execute_reply": "2021-08-22T23:30:08.492552Z"
    },
    "papermill": {
     "duration": 0.04245,
     "end_time": "2021-08-22T23:30:08.492967",
     "exception": false,
     "start_time": "2021-08-22T23:30:08.450517",
     "status": "completed"
    },
    "tags": []
   },
   "outputs": [],
   "source": [
    "df_pivot.columns = [\"stamp_1\", \"stamp_2\"]\n",
    "df_pivot_diff = df_pivot.diff(axis=1)"
   ]
  },
  {
   "cell_type": "code",
   "execution_count": 7,
   "id": "fifth-motion",
   "metadata": {
    "execution": {
     "iopub.execute_input": "2021-08-22T23:30:08.557418Z",
     "iopub.status.busy": "2021-08-22T23:30:08.555210Z",
     "iopub.status.idle": "2021-08-22T23:30:10.024942Z",
     "shell.execute_reply": "2021-08-22T23:30:10.026365Z"
    },
    "papermill": {
     "duration": 1.507331,
     "end_time": "2021-08-22T23:30:10.026825",
     "exception": false,
     "start_time": "2021-08-22T23:30:08.519494",
     "status": "completed"
    },
    "tags": []
   },
   "outputs": [
    {
     "data": {
      "text/plain": [
       "<AxesSubplot:ylabel='PRODUCT'>"
      ]
     },
     "execution_count": 7,
     "metadata": {},
     "output_type": "execute_result"
    },
    {
     "data": {
      "image/png": "[encoded data removed]",
      "text/plain": [
       "<Figure size 432x288 with 1 Axes>"
      ]
     },
     "metadata": {
      "needs_background": "light"
     },
     "output_type": "display_data"
    }
   ],
   "source": [
    "df_pivot_diff.sort_values(\"stamp_2\", ascending = False)[\"stamp_2\"].head(10).plot.barh()"
   ]
  },
  {
   "cell_type": "code",
   "execution_count": null,
   "id": "extra-executive",
   "metadata": {
    "papermill": {
     "duration": 0.02238,
     "end_time": "2021-08-22T23:30:10.074124",
     "exception": false,
     "start_time": "2021-08-22T23:30:10.051744",
     "status": "completed"
    },
    "tags": []
   },
   "outputs": [],
   "source": []
  }
 ],
 "metadata": {
  "kernelspec": {
   "display_name": "Python 3",
   "language": "python",
   "name": "python3"
  },
  "language_info": {
   "codemirror_mode": {
    "name": "ipython",
    "version": 3
   },
   "file_extension": ".py",
   "mimetype": "text/x-python",
   "name": "python",
   "nbconvert_exporter": "python",
   "pygments_lexer": "ipython3",
   "version": "3.9.5"
  },
  "papermill": {
   "default_parameters": {},
   "duration": 6.835967,
   "end_time": "2021-08-22T23:30:11.445457",
   "environment_variables": {},
   "exception": null,
   "input_path": "eBay_Overview.ipynb",
   "output_path": "eBay_Overview.ipynb",
   "parameters": {},
   "start_time": "2021-08-22T23:30:04.609490",
   "version": "2.3.3"
  }
 },
 "nbformat": 4,
 "nbformat_minor": 5
}