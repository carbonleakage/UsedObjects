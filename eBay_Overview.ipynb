{
 "cells": [
  {
   "cell_type": "code",
   "execution_count": 1,
   "id": "reverse-picking",
   "metadata": {
    "execution": {
     "iopub.execute_input": "2021-09-07T06:30:06.910183Z",
     "iopub.status.busy": "2021-09-07T06:30:06.908242Z",
     "iopub.status.idle": "2021-09-07T06:30:07.719392Z",
     "shell.execute_reply": "2021-09-07T06:30:07.717609Z"
    },
    "papermill": {
     "duration": 0.860008,
     "end_time": "2021-09-07T06:30:07.719833",
     "exception": false,
     "start_time": "2021-09-07T06:30:06.859825",
     "status": "completed"
    },
    "tags": []
   },
   "outputs": [],
   "source": [
    "import pandas as pd\n",
    "import sqlite3"
   ]
  },
  {
   "cell_type": "code",
   "execution_count": 2,
   "id": "innovative-syndrome",
   "metadata": {
    "execution": {
     "iopub.execute_input": "2021-09-07T06:30:07.772704Z",
     "iopub.status.busy": "2021-09-07T06:30:07.770297Z",
     "iopub.status.idle": "2021-09-07T06:30:07.997869Z",
     "shell.execute_reply": "2021-09-07T06:30:07.999313Z"
    },
    "papermill": {
     "duration": 0.257788,
     "end_time": "2021-09-07T06:30:07.999780",
     "exception": false,
     "start_time": "2021-09-07T06:30:07.741992",
     "status": "completed"
    },
    "tags": []
   },
   "outputs": [],
   "source": [
    "timestamps = pd.read_sql(\"select distinct record_time from EBAY_TOP_BERLIN order by record_time desc limit 2\", sqlite3.connect(\"UsedObjects.db\"))"
   ]
  },
  {
   "cell_type": "code",
   "execution_count": 3,
   "id": "periodic-identification",
   "metadata": {
    "execution": {
     "iopub.execute_input": "2021-09-07T06:30:08.065834Z",
     "iopub.status.busy": "2021-09-07T06:30:08.063787Z",
     "iopub.status.idle": "2021-09-07T06:30:08.084395Z",
     "shell.execute_reply": "2021-09-07T06:30:08.085810Z"
    },
    "papermill": {
     "duration": 0.066888,
     "end_time": "2021-09-07T06:30:08.086252",
     "exception": false,
     "start_time": "2021-09-07T06:30:08.019364",
     "status": "completed"
    },
    "tags": []
   },
   "outputs": [
    {
     "data": {
      "text/html": [
       "<div>\n",
       "<style scoped>\n",
       "    .dataframe tbody tr th:only-of-type {\n",
       "        vertical-align: middle;\n",
       "    }\n",
       "\n",
       "    .dataframe tbody tr th {\n",
       "        vertical-align: top;\n",
       "    }\n",
       "\n",
       "    .dataframe thead th {\n",
       "        text-align: right;\n",
       "    }\n",
       "</style>\n",
       "<table border=\"1\" class=\"dataframe\">\n",
       "  <thead>\n",
       "    <tr style=\"text-align: right;\">\n",
       "      <th></th>\n",
       "      <th>RECORD_TIME</th>\n",
       "    </tr>\n",
       "  </thead>\n",
       "  <tbody>\n",
       "    <tr>\n",
       "      <th>0</th>\n",
       "      <td>2021-09-07 08:30</td>\n",
       "    </tr>\n",
       "    <tr>\n",
       "      <th>1</th>\n",
       "      <td>2021-09-07 08:00</td>\n",
       "    </tr>\n",
       "  </tbody>\n",
       "</table>\n",
       "</div>"
      ],
      "text/plain": [
       "        RECORD_TIME\n",
       "0  2021-09-07 08:30\n",
       "1  2021-09-07 08:00"
      ]
     },
     "execution_count": 3,
     "metadata": {},
     "output_type": "execute_result"
    }
   ],
   "source": [
    "timestamps"
   ]
  },
  {
   "cell_type": "code",
   "execution_count": 4,
   "id": "alternate-victory",
   "metadata": {
    "execution": {
     "iopub.execute_input": "2021-09-07T06:30:08.138513Z",
     "iopub.status.busy": "2021-09-07T06:30:08.136222Z",
     "iopub.status.idle": "2021-09-07T06:30:08.473446Z",
     "shell.execute_reply": "2021-09-07T06:30:08.474735Z"
    },
    "papermill": {
     "duration": 0.367852,
     "end_time": "2021-09-07T06:30:08.475215",
     "exception": false,
     "start_time": "2021-09-07T06:30:08.107363",
     "status": "completed"
    },
    "tags": []
   },
   "outputs": [],
   "source": [
    "df = pd.read_sql(\"select * from EBAY_TOP_BERLIN where record_time in (select distinct record_time from EBAY_TOP_BERLIN order by record_time desc limit 2)\", sqlite3.connect(\"UsedObjects.db\"))"
   ]
  },
  {
   "cell_type": "code",
   "execution_count": 5,
   "id": "popular-active",
   "metadata": {
    "execution": {
     "iopub.execute_input": "2021-09-07T06:30:08.555239Z",
     "iopub.status.busy": "2021-09-07T06:30:08.543262Z",
     "iopub.status.idle": "2021-09-07T06:30:08.570993Z",
     "shell.execute_reply": "2021-09-07T06:30:08.572248Z"
    },
    "papermill": {
     "duration": 0.071658,
     "end_time": "2021-09-07T06:30:08.572646",
     "exception": false,
     "start_time": "2021-09-07T06:30:08.500988",
     "status": "completed"
    },
    "tags": []
   },
   "outputs": [],
   "source": [
    "df_pivot = df.pivot_table(index=\"PRODUCT\", columns = \"RECORD_TIME\", values = \"LISTING_COUNT\")"
   ]
  },
  {
   "cell_type": "code",
   "execution_count": 6,
   "id": "union-huntington",
   "metadata": {
    "execution": {
     "iopub.execute_input": "2021-09-07T06:30:08.629788Z",
     "iopub.status.busy": "2021-09-07T06:30:08.627604Z",
     "iopub.status.idle": "2021-09-07T06:30:08.633184Z",
     "shell.execute_reply": "2021-09-07T06:30:08.634560Z"
    },
    "papermill": {
     "duration": 0.041131,
     "end_time": "2021-09-07T06:30:08.635184",
     "exception": false,
     "start_time": "2021-09-07T06:30:08.594053",
     "status": "completed"
    },
    "tags": []
   },
   "outputs": [],
   "source": [
    "df_pivot.columns = [\"stamp_1\", \"stamp_2\"]\n",
    "df_pivot_diff = df_pivot.diff(axis=1)"
   ]
  },
  {
   "cell_type": "code",
   "execution_count": 7,
   "id": "fifth-motion",
   "metadata": {
    "execution": {
     "iopub.execute_input": "2021-09-07T06:30:08.692806Z",
     "iopub.status.busy": "2021-09-07T06:30:08.690055Z",
     "iopub.status.idle": "2021-09-07T06:30:10.184763Z",
     "shell.execute_reply": "2021-09-07T06:30:10.186071Z"
    },
    "papermill": {
     "duration": 1.528663,
     "end_time": "2021-09-07T06:30:10.186492",
     "exception": false,
     "start_time": "2021-09-07T06:30:08.657829",
     "status": "completed"
    },
    "tags": []
   },
   "outputs": [
    {
     "data": {
      "text/plain": [
       "<AxesSubplot:ylabel='PRODUCT'>"
      ]
     },
     "execution_count": 7,
     "metadata": {},
     "output_type": "execute_result"
    },
    {
     "data": {
      "image/png": "[encoded data removed]",
      "text/plain": [
       "<Figure size 432x288 with 1 Axes>"
      ]
     },
     "metadata": {
      "needs_background": "light"
     },
     "output_type": "display_data"
    }
   ],
   "source": [
    "df_pivot_diff.sort_values(\"stamp_2\", ascending = False)[\"stamp_2\"].head(10).plot.barh()"
   ]
  },
  {
   "cell_type": "code",
   "execution_count": null,
   "id": "extra-executive",
   "metadata": {
    "papermill": {
     "duration": 0.022296,
     "end_time": "2021-09-07T06:30:10.232737",
     "exception": false,
     "start_time": "2021-09-07T06:30:10.210441",
     "status": "completed"
    },
    "tags": []
   },
   "outputs": [],
   "source": []
  }
 ],
 "metadata": {
  "kernelspec": {
   "display_name": "Python 3",
   "language": "python",
   "name": "python3"
  },
  "language_info": {
   "codemirror_mode": {
    "name": "ipython",
    "version": 3
   },
   "file_extension": ".py",
   "mimetype": "text/x-python",
   "name": "python",
   "nbconvert_exporter": "python",
   "pygments_lexer": "ipython3",
   "version": "3.9.5"
  },
  "papermill": {
   "default_parameters": {},
   "duration": 6.433912,
   "end_time": "2021-09-07T06:30:10.874485",
   "environment_variables": {},
   "exception": null,
   "input_path": "eBay_Overview.ipynb",
   "output_path": "eBay_Overview.ipynb",
   "parameters": {},
   "start_time": "2021-09-07T06:30:04.440573",
   "version": "2.3.3"
  }
 },
 "nbformat": 4,
 "nbformat_minor": 5
}