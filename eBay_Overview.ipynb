{
 "cells": [
  {
   "cell_type": "code",
   "execution_count": 1,
   "id": "reverse-picking",
   "metadata": {
    "execution": {
     "iopub.execute_input": "2021-12-03T10:00:07.975407Z",
     "iopub.status.busy": "2021-12-03T10:00:07.973108Z",
     "iopub.status.idle": "2021-12-03T10:00:08.921970Z",
     "shell.execute_reply": "2021-12-03T10:00:08.923803Z"
    },
    "papermill": {
     "duration": 0.997939,
     "end_time": "2021-12-03T10:00:08.924555",
     "exception": false,
     "start_time": "2021-12-03T10:00:07.926616",
     "status": "completed"
    },
    "tags": []
   },
   "outputs": [],
   "source": [
    "import pandas as pd\n",
    "import sqlite3"
   ]
  },
  {
   "cell_type": "code",
   "execution_count": 2,
   "id": "innovative-syndrome",
   "metadata": {
    "execution": {
     "iopub.execute_input": "2021-12-03T10:00:08.984182Z",
     "iopub.status.busy": "2021-12-03T10:00:08.981884Z",
     "iopub.status.idle": "2021-12-03T10:00:09.950996Z",
     "shell.execute_reply": "2021-12-03T10:00:09.952492Z"
    },
    "papermill": {
     "duration": 1.002271,
     "end_time": "2021-12-03T10:00:09.953089",
     "exception": false,
     "start_time": "2021-12-03T10:00:08.950818",
     "status": "completed"
    },
    "tags": []
   },
   "outputs": [],
   "source": [
    "timestamps = pd.read_sql(\"select distinct record_time from EBAY_TOP_BERLIN order by record_time desc limit 2\", sqlite3.connect(\"UsedObjects.db\"))"
   ]
  },
  {
   "cell_type": "code",
   "execution_count": 3,
   "id": "periodic-identification",
   "metadata": {
    "execution": {
     "iopub.execute_input": "2021-12-03T10:00:10.023583Z",
     "iopub.status.busy": "2021-12-03T10:00:10.017122Z",
     "iopub.status.idle": "2021-12-03T10:00:10.045940Z",
     "shell.execute_reply": "2021-12-03T10:00:10.047790Z"
    },
    "papermill": {
     "duration": 0.073577,
     "end_time": "2021-12-03T10:00:10.048323",
     "exception": false,
     "start_time": "2021-12-03T10:00:09.974746",
     "status": "completed"
    },
    "tags": []
   },
   "outputs": [
    {
     "data": {
      "text/html": [
       "<div>\n",
       "<style scoped>\n",
       "    .dataframe tbody tr th:only-of-type {\n",
       "        vertical-align: middle;\n",
       "    }\n",
       "\n",
       "    .dataframe tbody tr th {\n",
       "        vertical-align: top;\n",
       "    }\n",
       "\n",
       "    .dataframe thead th {\n",
       "        text-align: right;\n",
       "    }\n",
       "</style>\n",
       "<table border=\"1\" class=\"dataframe\">\n",
       "  <thead>\n",
       "    <tr style=\"text-align: right;\">\n",
       "      <th></th>\n",
       "      <th>RECORD_TIME</th>\n",
       "    </tr>\n",
       "  </thead>\n",
       "  <tbody>\n",
       "    <tr>\n",
       "      <th>0</th>\n",
       "      <td>2021-12-03 11:00</td>\n",
       "    </tr>\n",
       "    <tr>\n",
       "      <th>1</th>\n",
       "      <td>2021-12-03 10:30</td>\n",
       "    </tr>\n",
       "  </tbody>\n",
       "</table>\n",
       "</div>"
      ],
      "text/plain": [
       "        RECORD_TIME\n",
       "0  2021-12-03 11:00\n",
       "1  2021-12-03 10:30"
      ]
     },
     "execution_count": 3,
     "metadata": {},
     "output_type": "execute_result"
    }
   ],
   "source": [
    "timestamps"
   ]
  },
  {
   "cell_type": "code",
   "execution_count": 4,
   "id": "alternate-victory",
   "metadata": {
    "execution": {
     "iopub.execute_input": "2021-12-03T10:00:10.103610Z",
     "iopub.status.busy": "2021-12-03T10:00:10.101503Z",
     "iopub.status.idle": "2021-12-03T10:00:11.521539Z",
     "shell.execute_reply": "2021-12-03T10:00:11.523092Z"
    },
    "papermill": {
     "duration": 1.453441,
     "end_time": "2021-12-03T10:00:11.523596",
     "exception": false,
     "start_time": "2021-12-03T10:00:10.070155",
     "status": "completed"
    },
    "tags": []
   },
   "outputs": [],
   "source": [
    "df = pd.read_sql(\"select * from EBAY_TOP_BERLIN where record_time in (select distinct record_time from EBAY_TOP_BERLIN order by record_time desc limit 2)\", sqlite3.connect(\"UsedObjects.db\"))"
   ]
  },
  {
   "cell_type": "code",
   "execution_count": 5,
   "id": "popular-active",
   "metadata": {
    "execution": {
     "iopub.execute_input": "2021-12-03T10:00:11.601919Z",
     "iopub.status.busy": "2021-12-03T10:00:11.586840Z",
     "iopub.status.idle": "2021-12-03T10:00:11.620359Z",
     "shell.execute_reply": "2021-12-03T10:00:11.623102Z"
    },
    "papermill": {
     "duration": 0.078252,
     "end_time": "2021-12-03T10:00:11.623609",
     "exception": false,
     "start_time": "2021-12-03T10:00:11.545357",
     "status": "completed"
    },
    "tags": []
   },
   "outputs": [],
   "source": [
    "df_pivot = df.pivot_table(index=\"PRODUCT\", columns = \"RECORD_TIME\", values = \"LISTING_COUNT\")"
   ]
  },
  {
   "cell_type": "code",
   "execution_count": 6,
   "id": "union-huntington",
   "metadata": {
    "execution": {
     "iopub.execute_input": "2021-12-03T10:00:11.683127Z",
     "iopub.status.busy": "2021-12-03T10:00:11.680921Z",
     "iopub.status.idle": "2021-12-03T10:00:11.686235Z",
     "shell.execute_reply": "2021-12-03T10:00:11.687590Z"
    },
    "papermill": {
     "duration": 0.043269,
     "end_time": "2021-12-03T10:00:11.688069",
     "exception": false,
     "start_time": "2021-12-03T10:00:11.644800",
     "status": "completed"
    },
    "tags": []
   },
   "outputs": [],
   "source": [
    "df_pivot.columns = [\"stamp_1\", \"stamp_2\"]\n",
    "df_pivot_diff = df_pivot.diff(axis=1)"
   ]
  },
  {
   "cell_type": "code",
   "execution_count": 7,
   "id": "fifth-motion",
   "metadata": {
    "execution": {
     "iopub.execute_input": "2021-12-03T10:00:11.745309Z",
     "iopub.status.busy": "2021-12-03T10:00:11.742304Z",
     "iopub.status.idle": "2021-12-03T10:00:13.675045Z",
     "shell.execute_reply": "2021-12-03T10:00:13.677220Z"
    },
    "papermill": {
     "duration": 1.969611,
     "end_time": "2021-12-03T10:00:13.677843",
     "exception": false,
     "start_time": "2021-12-03T10:00:11.708232",
     "status": "completed"
    },
    "tags": []
   },
   "outputs": [
    {
     "data": {
      "text/plain": [
       "<AxesSubplot:ylabel='PRODUCT'>"
      ]
     },
     "execution_count": 7,
     "metadata": {},
     "output_type": "execute_result"
    },
    {
     "data": {
      "image/png": "[encoded data removed]",
      "text/plain": [
       "<Figure size 432x288 with 1 Axes>"
      ]
     },
     "metadata": {
      "needs_background": "light"
     },
     "output_type": "display_data"
    }
   ],
   "source": [
    "df_pivot_diff.sort_values(\"stamp_2\", ascending = False)[\"stamp_2\"].head(10).plot.barh()"
   ]
  },
  {
   "cell_type": "code",
   "execution_count": null,
   "id": "extra-executive",
   "metadata": {
    "papermill": {
     "duration": 0.035457,
     "end_time": "2021-12-03T10:00:13.751233",
     "exception": false,
     "start_time": "2021-12-03T10:00:13.715776",
     "status": "completed"
    },
    "tags": []
   },
   "outputs": [],
   "source": []
  }
 ],
 "metadata": {
  "kernelspec": {
   "display_name": "Python 3",
   "language": "python",
   "name": "python3"
  },
  "language_info": {
   "codemirror_mode": {
    "name": "ipython",
    "version": 3
   },
   "file_extension": ".py",
   "mimetype": "text/x-python",
   "name": "python",
   "nbconvert_exporter": "python",
   "pygments_lexer": "ipython3",
   "version": "3.9.5"
  },
  "papermill": {
   "default_parameters": {},
   "duration": 9.930695,
   "end_time": "2021-12-03T10:00:15.133763",
   "environment_variables": {},
   "exception": null,
   "input_path": "eBay_Overview.ipynb",
   "output_path": "eBay_Overview.ipynb",
   "parameters": {},
   "start_time": "2021-12-03T10:00:05.203068",
   "version": "2.3.3"
  }
 },
 "nbformat": 4,
 "nbformat_minor": 5
}