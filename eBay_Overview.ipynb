{
 "cells": [
  {
   "cell_type": "code",
   "execution_count": 1,
   "id": "reverse-picking",
   "metadata": {
    "execution": {
     "iopub.execute_input": "2021-11-22T06:30:08.257841Z",
     "iopub.status.busy": "2021-11-22T06:30:08.255484Z",
     "iopub.status.idle": "2021-11-22T06:30:09.227031Z",
     "shell.execute_reply": "2021-11-22T06:30:09.229357Z"
    },
    "papermill": {
     "duration": 1.021576,
     "end_time": "2021-11-22T06:30:09.230082",
     "exception": false,
     "start_time": "2021-11-22T06:30:08.208506",
     "status": "completed"
    },
    "tags": []
   },
   "outputs": [],
   "source": [
    "import pandas as pd\n",
    "import sqlite3"
   ]
  },
  {
   "cell_type": "code",
   "execution_count": 2,
   "id": "innovative-syndrome",
   "metadata": {
    "execution": {
     "iopub.execute_input": "2021-11-22T06:30:09.327291Z",
     "iopub.status.busy": "2021-11-22T06:30:09.324625Z",
     "iopub.status.idle": "2021-11-22T06:30:10.190074Z",
     "shell.execute_reply": "2021-11-22T06:30:10.191303Z"
    },
    "papermill": {
     "duration": 0.932743,
     "end_time": "2021-11-22T06:30:10.191701",
     "exception": false,
     "start_time": "2021-11-22T06:30:09.258958",
     "status": "completed"
    },
    "tags": []
   },
   "outputs": [],
   "source": [
    "timestamps = pd.read_sql(\"select distinct record_time from EBAY_TOP_BERLIN order by record_time desc limit 2\", sqlite3.connect(\"UsedObjects.db\"))"
   ]
  },
  {
   "cell_type": "code",
   "execution_count": 3,
   "id": "periodic-identification",
   "metadata": {
    "execution": {
     "iopub.execute_input": "2021-11-22T06:30:10.267031Z",
     "iopub.status.busy": "2021-11-22T06:30:10.260778Z",
     "iopub.status.idle": "2021-11-22T06:30:10.287435Z",
     "shell.execute_reply": "2021-11-22T06:30:10.285236Z"
    },
    "papermill": {
     "duration": 0.072872,
     "end_time": "2021-11-22T06:30:10.287873",
     "exception": false,
     "start_time": "2021-11-22T06:30:10.215001",
     "status": "completed"
    },
    "tags": []
   },
   "outputs": [
    {
     "data": {
      "text/html": [
       "<div>\n",
       "<style scoped>\n",
       "    .dataframe tbody tr th:only-of-type {\n",
       "        vertical-align: middle;\n",
       "    }\n",
       "\n",
       "    .dataframe tbody tr th {\n",
       "        vertical-align: top;\n",
       "    }\n",
       "\n",
       "    .dataframe thead th {\n",
       "        text-align: right;\n",
       "    }\n",
       "</style>\n",
       "<table border=\"1\" class=\"dataframe\">\n",
       "  <thead>\n",
       "    <tr style=\"text-align: right;\">\n",
       "      <th></th>\n",
       "      <th>RECORD_TIME</th>\n",
       "    </tr>\n",
       "  </thead>\n",
       "  <tbody>\n",
       "    <tr>\n",
       "      <th>0</th>\n",
       "      <td>2021-11-22 07:30</td>\n",
       "    </tr>\n",
       "    <tr>\n",
       "      <th>1</th>\n",
       "      <td>2021-11-22 07:00</td>\n",
       "    </tr>\n",
       "  </tbody>\n",
       "</table>\n",
       "</div>"
      ],
      "text/plain": [
       "        RECORD_TIME\n",
       "0  2021-11-22 07:30\n",
       "1  2021-11-22 07:00"
      ]
     },
     "execution_count": 3,
     "metadata": {},
     "output_type": "execute_result"
    }
   ],
   "source": [
    "timestamps"
   ]
  },
  {
   "cell_type": "code",
   "execution_count": 4,
   "id": "alternate-victory",
   "metadata": {
    "execution": {
     "iopub.execute_input": "2021-11-22T06:30:10.342783Z",
     "iopub.status.busy": "2021-11-22T06:30:10.340054Z",
     "iopub.status.idle": "2021-11-22T06:30:11.654907Z",
     "shell.execute_reply": "2021-11-22T06:30:11.657121Z"
    },
    "papermill": {
     "duration": 1.347958,
     "end_time": "2021-11-22T06:30:11.657600",
     "exception": false,
     "start_time": "2021-11-22T06:30:10.309642",
     "status": "completed"
    },
    "tags": []
   },
   "outputs": [],
   "source": [
    "df = pd.read_sql(\"select * from EBAY_TOP_BERLIN where record_time in (select distinct record_time from EBAY_TOP_BERLIN order by record_time desc limit 2)\", sqlite3.connect(\"UsedObjects.db\"))"
   ]
  },
  {
   "cell_type": "code",
   "execution_count": 5,
   "id": "popular-active",
   "metadata": {
    "execution": {
     "iopub.execute_input": "2021-11-22T06:30:11.730454Z",
     "iopub.status.busy": "2021-11-22T06:30:11.716286Z",
     "iopub.status.idle": "2021-11-22T06:30:11.749512Z",
     "shell.execute_reply": "2021-11-22T06:30:11.750872Z"
    },
    "papermill": {
     "duration": 0.073266,
     "end_time": "2021-11-22T06:30:11.751338",
     "exception": false,
     "start_time": "2021-11-22T06:30:11.678072",
     "status": "completed"
    },
    "tags": []
   },
   "outputs": [],
   "source": [
    "df_pivot = df.pivot_table(index=\"PRODUCT\", columns = \"RECORD_TIME\", values = \"LISTING_COUNT\")"
   ]
  },
  {
   "cell_type": "code",
   "execution_count": 6,
   "id": "union-huntington",
   "metadata": {
    "execution": {
     "iopub.execute_input": "2021-11-22T06:30:11.808986Z",
     "iopub.status.busy": "2021-11-22T06:30:11.806612Z",
     "iopub.status.idle": "2021-11-22T06:30:11.816335Z",
     "shell.execute_reply": "2021-11-22T06:30:11.817910Z"
    },
    "papermill": {
     "duration": 0.046459,
     "end_time": "2021-11-22T06:30:11.818388",
     "exception": false,
     "start_time": "2021-11-22T06:30:11.771929",
     "status": "completed"
    },
    "tags": []
   },
   "outputs": [],
   "source": [
    "df_pivot.columns = [\"stamp_1\", \"stamp_2\"]\n",
    "df_pivot_diff = df_pivot.diff(axis=1)"
   ]
  },
  {
   "cell_type": "code",
   "execution_count": 7,
   "id": "fifth-motion",
   "metadata": {
    "execution": {
     "iopub.execute_input": "2021-11-22T06:30:11.876080Z",
     "iopub.status.busy": "2021-11-22T06:30:11.873653Z",
     "iopub.status.idle": "2021-11-22T06:30:13.895561Z",
     "shell.execute_reply": "2021-11-22T06:30:13.897132Z"
    },
    "papermill": {
     "duration": 2.057866,
     "end_time": "2021-11-22T06:30:13.897612",
     "exception": false,
     "start_time": "2021-11-22T06:30:11.839746",
     "status": "completed"
    },
    "tags": []
   },
   "outputs": [
    {
     "data": {
      "text/plain": [
       "<AxesSubplot:ylabel='PRODUCT'>"
      ]
     },
     "execution_count": 7,
     "metadata": {},
     "output_type": "execute_result"
    },
    {
     "data": {
      "image/png": "[encoded data removed]",
      "text/plain": [
       "<Figure size 432x288 with 1 Axes>"
      ]
     },
     "metadata": {
      "needs_background": "light"
     },
     "output_type": "display_data"
    }
   ],
   "source": [
    "df_pivot_diff.sort_values(\"stamp_2\", ascending = False)[\"stamp_2\"].head(10).plot.barh()"
   ]
  },
  {
   "cell_type": "code",
   "execution_count": null,
   "id": "extra-executive",
   "metadata": {
    "papermill": {
     "duration": 0.057719,
     "end_time": "2021-11-22T06:30:13.979621",
     "exception": false,
     "start_time": "2021-11-22T06:30:13.921902",
     "status": "completed"
    },
    "tags": []
   },
   "outputs": [],
   "source": []
  }
 ],
 "metadata": {
  "kernelspec": {
   "display_name": "Python 3",
   "language": "python",
   "name": "python3"
  },
  "language_info": {
   "codemirror_mode": {
    "name": "ipython",
    "version": 3
   },
   "file_extension": ".py",
   "mimetype": "text/x-python",
   "name": "python",
   "nbconvert_exporter": "python",
   "pygments_lexer": "ipython3",
   "version": "3.9.5"
  },
  "papermill": {
   "default_parameters": {},
   "duration": 9.940187,
   "end_time": "2021-11-22T06:30:15.401841",
   "environment_variables": {},
   "exception": null,
   "input_path": "eBay_Overview.ipynb",
   "output_path": "eBay_Overview.ipynb",
   "parameters": {},
   "start_time": "2021-11-22T06:30:05.461654",
   "version": "2.3.3"
  }
 },
 "nbformat": 4,
 "nbformat_minor": 5
}