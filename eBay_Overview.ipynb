{
 "cells": [
  {
   "cell_type": "code",
   "execution_count": 1,
   "id": "reverse-picking",
   "metadata": {
    "execution": {
     "iopub.execute_input": "2021-08-22T03:30:07.105295Z",
     "iopub.status.busy": "2021-08-22T03:30:07.103312Z",
     "iopub.status.idle": "2021-08-22T03:30:07.908958Z",
     "shell.execute_reply": "2021-08-22T03:30:07.907419Z"
    },
    "papermill": {
     "duration": 0.855376,
     "end_time": "2021-08-22T03:30:07.909364",
     "exception": false,
     "start_time": "2021-08-22T03:30:07.053988",
     "status": "completed"
    },
    "tags": []
   },
   "outputs": [],
   "source": [
    "import pandas as pd\n",
    "import sqlite3"
   ]
  },
  {
   "cell_type": "code",
   "execution_count": 2,
   "id": "innovative-syndrome",
   "metadata": {
    "execution": {
     "iopub.execute_input": "2021-08-22T03:30:07.960259Z",
     "iopub.status.busy": "2021-08-22T03:30:07.958407Z",
     "iopub.status.idle": "2021-08-22T03:30:08.059908Z",
     "shell.execute_reply": "2021-08-22T03:30:08.061182Z"
    },
    "papermill": {
     "duration": 0.131219,
     "end_time": "2021-08-22T03:30:08.061607",
     "exception": false,
     "start_time": "2021-08-22T03:30:07.930388",
     "status": "completed"
    },
    "tags": []
   },
   "outputs": [],
   "source": [
    "timestamps = pd.read_sql(\"select distinct record_time from EBAY_TOP_BERLIN order by record_time desc limit 2\", sqlite3.connect(\"UsedObjects.db\"))"
   ]
  },
  {
   "cell_type": "code",
   "execution_count": 3,
   "id": "periodic-identification",
   "metadata": {
    "execution": {
     "iopub.execute_input": "2021-08-22T03:30:08.128204Z",
     "iopub.status.busy": "2021-08-22T03:30:08.126188Z",
     "iopub.status.idle": "2021-08-22T03:30:08.146238Z",
     "shell.execute_reply": "2021-08-22T03:30:08.147587Z"
    },
    "papermill": {
     "duration": 0.067055,
     "end_time": "2021-08-22T03:30:08.148014",
     "exception": false,
     "start_time": "2021-08-22T03:30:08.080959",
     "status": "completed"
    },
    "tags": []
   },
   "outputs": [
    {
     "data": {
      "text/html": [
       "<div>\n",
       "<style scoped>\n",
       "    .dataframe tbody tr th:only-of-type {\n",
       "        vertical-align: middle;\n",
       "    }\n",
       "\n",
       "    .dataframe tbody tr th {\n",
       "        vertical-align: top;\n",
       "    }\n",
       "\n",
       "    .dataframe thead th {\n",
       "        text-align: right;\n",
       "    }\n",
       "</style>\n",
       "<table border=\"1\" class=\"dataframe\">\n",
       "  <thead>\n",
       "    <tr style=\"text-align: right;\">\n",
       "      <th></th>\n",
       "      <th>RECORD_TIME</th>\n",
       "    </tr>\n",
       "  </thead>\n",
       "  <tbody>\n",
       "    <tr>\n",
       "      <th>0</th>\n",
       "      <td>2021-08-22 05:30</td>\n",
       "    </tr>\n",
       "    <tr>\n",
       "      <th>1</th>\n",
       "      <td>2021-08-22 05:00</td>\n",
       "    </tr>\n",
       "  </tbody>\n",
       "</table>\n",
       "</div>"
      ],
      "text/plain": [
       "        RECORD_TIME\n",
       "0  2021-08-22 05:30\n",
       "1  2021-08-22 05:00"
      ]
     },
     "execution_count": 3,
     "metadata": {},
     "output_type": "execute_result"
    }
   ],
   "source": [
    "timestamps"
   ]
  },
  {
   "cell_type": "code",
   "execution_count": 4,
   "id": "alternate-victory",
   "metadata": {
    "execution": {
     "iopub.execute_input": "2021-08-22T03:30:08.200244Z",
     "iopub.status.busy": "2021-08-22T03:30:08.198086Z",
     "iopub.status.idle": "2021-08-22T03:30:08.348955Z",
     "shell.execute_reply": "2021-08-22T03:30:08.350465Z"
    },
    "papermill": {
     "duration": 0.181443,
     "end_time": "2021-08-22T03:30:08.350932",
     "exception": false,
     "start_time": "2021-08-22T03:30:08.169489",
     "status": "completed"
    },
    "tags": []
   },
   "outputs": [],
   "source": [
    "df = pd.read_sql(\"select * from EBAY_TOP_BERLIN where record_time in (select distinct record_time from EBAY_TOP_BERLIN order by record_time desc limit 2)\", sqlite3.connect(\"UsedObjects.db\"))"
   ]
  },
  {
   "cell_type": "code",
   "execution_count": 5,
   "id": "popular-active",
   "metadata": {
    "execution": {
     "iopub.execute_input": "2021-08-22T03:30:08.422950Z",
     "iopub.status.busy": "2021-08-22T03:30:08.410659Z",
     "iopub.status.idle": "2021-08-22T03:30:08.439857Z",
     "shell.execute_reply": "2021-08-22T03:30:08.438512Z"
    },
    "papermill": {
     "duration": 0.068811,
     "end_time": "2021-08-22T03:30:08.440202",
     "exception": false,
     "start_time": "2021-08-22T03:30:08.371391",
     "status": "completed"
    },
    "tags": []
   },
   "outputs": [],
   "source": [
    "df_pivot = df.pivot_table(index=\"PRODUCT\", columns = \"RECORD_TIME\", values = \"LISTING_COUNT\")"
   ]
  },
  {
   "cell_type": "code",
   "execution_count": 6,
   "id": "union-huntington",
   "metadata": {
    "execution": {
     "iopub.execute_input": "2021-08-22T03:30:08.499166Z",
     "iopub.status.busy": "2021-08-22T03:30:08.496695Z",
     "iopub.status.idle": "2021-08-22T03:30:08.503015Z",
     "shell.execute_reply": "2021-08-22T03:30:08.504356Z"
    },
    "papermill": {
     "duration": 0.042975,
     "end_time": "2021-08-22T03:30:08.504784",
     "exception": false,
     "start_time": "2021-08-22T03:30:08.461809",
     "status": "completed"
    },
    "tags": []
   },
   "outputs": [],
   "source": [
    "df_pivot.columns = [\"stamp_1\", \"stamp_2\"]\n",
    "df_pivot_diff = df_pivot.diff(axis=1)"
   ]
  },
  {
   "cell_type": "code",
   "execution_count": 7,
   "id": "fifth-motion",
   "metadata": {
    "execution": {
     "iopub.execute_input": "2021-08-22T03:30:08.566793Z",
     "iopub.status.busy": "2021-08-22T03:30:08.564068Z",
     "iopub.status.idle": "2021-08-22T03:30:10.041595Z",
     "shell.execute_reply": "2021-08-22T03:30:10.043104Z"
    },
    "papermill": {
     "duration": 1.514506,
     "end_time": "2021-08-22T03:30:10.043577",
     "exception": false,
     "start_time": "2021-08-22T03:30:08.529071",
     "status": "completed"
    },
    "tags": []
   },
   "outputs": [
    {
     "data": {
      "text/plain": [
       "<AxesSubplot:ylabel='PRODUCT'>"
      ]
     },
     "execution_count": 7,
     "metadata": {},
     "output_type": "execute_result"
    },
    {
     "data": {
      "image/png": "[encoded data removed]",
      "text/plain": [
       "<Figure size 432x288 with 1 Axes>"
      ]
     },
     "metadata": {
      "needs_background": "light"
     },
     "output_type": "display_data"
    }
   ],
   "source": [
    "df_pivot_diff.sort_values(\"stamp_2\", ascending = False)[\"stamp_2\"].head(10).plot.barh()"
   ]
  },
  {
   "cell_type": "code",
   "execution_count": null,
   "id": "extra-executive",
   "metadata": {
    "papermill": {
     "duration": 0.022562,
     "end_time": "2021-08-22T03:30:10.089598",
     "exception": false,
     "start_time": "2021-08-22T03:30:10.067036",
     "status": "completed"
    },
    "tags": []
   },
   "outputs": [],
   "source": []
  }
 ],
 "metadata": {
  "kernelspec": {
   "display_name": "Python 3",
   "language": "python",
   "name": "python3"
  },
  "language_info": {
   "codemirror_mode": {
    "name": "ipython",
    "version": 3
   },
   "file_extension": ".py",
   "mimetype": "text/x-python",
   "name": "python",
   "nbconvert_exporter": "python",
   "pygments_lexer": "ipython3",
   "version": "3.9.5"
  },
  "papermill": {
   "default_parameters": {},
   "duration": 6.835582,
   "end_time": "2021-08-22T03:30:11.484812",
   "environment_variables": {},
   "exception": null,
   "input_path": "eBay_Overview.ipynb",
   "output_path": "eBay_Overview.ipynb",
   "parameters": {},
   "start_time": "2021-08-22T03:30:04.649230",
   "version": "2.3.3"
  }
 },
 "nbformat": 4,
 "nbformat_minor": 5
}