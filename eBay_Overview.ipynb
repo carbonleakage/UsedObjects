{
 "cells": [
  {
   "cell_type": "code",
   "execution_count": 1,
   "id": "reverse-picking",
   "metadata": {
    "execution": {
     "iopub.execute_input": "2021-12-13T15:30:08.857113Z",
     "iopub.status.busy": "2021-12-13T15:30:08.854579Z",
     "iopub.status.idle": "2021-12-13T15:30:09.816259Z",
     "shell.execute_reply": "2021-12-13T15:30:09.817920Z"
    },
    "papermill": {
     "duration": 1.011648,
     "end_time": "2021-12-13T15:30:09.818678",
     "exception": false,
     "start_time": "2021-12-13T15:30:08.807030",
     "status": "completed"
    },
    "tags": []
   },
   "outputs": [],
   "source": [
    "import pandas as pd\n",
    "import sqlite3"
   ]
  },
  {
   "cell_type": "code",
   "execution_count": 2,
   "id": "innovative-syndrome",
   "metadata": {
    "execution": {
     "iopub.execute_input": "2021-12-13T15:30:09.880817Z",
     "iopub.status.busy": "2021-12-13T15:30:09.878776Z",
     "iopub.status.idle": "2021-12-13T15:30:10.954463Z",
     "shell.execute_reply": "2021-12-13T15:30:10.956122Z"
    },
    "papermill": {
     "duration": 1.110775,
     "end_time": "2021-12-13T15:30:10.956613",
     "exception": false,
     "start_time": "2021-12-13T15:30:09.845838",
     "status": "completed"
    },
    "tags": []
   },
   "outputs": [],
   "source": [
    "timestamps = pd.read_sql(\"select distinct record_time from EBAY_TOP_BERLIN order by record_time desc limit 2\", sqlite3.connect(\"UsedObjects.db\"))"
   ]
  },
  {
   "cell_type": "code",
   "execution_count": 3,
   "id": "periodic-identification",
   "metadata": {
    "execution": {
     "iopub.execute_input": "2021-12-13T15:30:11.032572Z",
     "iopub.status.busy": "2021-12-13T15:30:11.029197Z",
     "iopub.status.idle": "2021-12-13T15:30:11.054892Z",
     "shell.execute_reply": "2021-12-13T15:30:11.053048Z"
    },
    "papermill": {
     "duration": 0.077591,
     "end_time": "2021-12-13T15:30:11.055331",
     "exception": false,
     "start_time": "2021-12-13T15:30:10.977740",
     "status": "completed"
    },
    "tags": []
   },
   "outputs": [
    {
     "data": {
      "text/html": [
       "<div>\n",
       "<style scoped>\n",
       "    .dataframe tbody tr th:only-of-type {\n",
       "        vertical-align: middle;\n",
       "    }\n",
       "\n",
       "    .dataframe tbody tr th {\n",
       "        vertical-align: top;\n",
       "    }\n",
       "\n",
       "    .dataframe thead th {\n",
       "        text-align: right;\n",
       "    }\n",
       "</style>\n",
       "<table border=\"1\" class=\"dataframe\">\n",
       "  <thead>\n",
       "    <tr style=\"text-align: right;\">\n",
       "      <th></th>\n",
       "      <th>RECORD_TIME</th>\n",
       "    </tr>\n",
       "  </thead>\n",
       "  <tbody>\n",
       "    <tr>\n",
       "      <th>0</th>\n",
       "      <td>2021-12-13 16:30</td>\n",
       "    </tr>\n",
       "    <tr>\n",
       "      <th>1</th>\n",
       "      <td>2021-12-13 16:00</td>\n",
       "    </tr>\n",
       "  </tbody>\n",
       "</table>\n",
       "</div>"
      ],
      "text/plain": [
       "        RECORD_TIME\n",
       "0  2021-12-13 16:30\n",
       "1  2021-12-13 16:00"
      ]
     },
     "execution_count": 3,
     "metadata": {},
     "output_type": "execute_result"
    }
   ],
   "source": [
    "timestamps"
   ]
  },
  {
   "cell_type": "code",
   "execution_count": 4,
   "id": "alternate-victory",
   "metadata": {
    "execution": {
     "iopub.execute_input": "2021-12-13T15:30:11.111724Z",
     "iopub.status.busy": "2021-12-13T15:30:11.109411Z",
     "iopub.status.idle": "2021-12-13T15:30:12.688113Z",
     "shell.execute_reply": "2021-12-13T15:30:12.689583Z"
    },
    "papermill": {
     "duration": 1.613497,
     "end_time": "2021-12-13T15:30:12.690071",
     "exception": false,
     "start_time": "2021-12-13T15:30:11.076574",
     "status": "completed"
    },
    "tags": []
   },
   "outputs": [],
   "source": [
    "df = pd.read_sql(\"select * from EBAY_TOP_BERLIN where record_time in (select distinct record_time from EBAY_TOP_BERLIN order by record_time desc limit 2)\", sqlite3.connect(\"UsedObjects.db\"))"
   ]
  },
  {
   "cell_type": "code",
   "execution_count": 5,
   "id": "popular-active",
   "metadata": {
    "execution": {
     "iopub.execute_input": "2021-12-13T15:30:12.767892Z",
     "iopub.status.busy": "2021-12-13T15:30:12.754534Z",
     "iopub.status.idle": "2021-12-13T15:30:12.787335Z",
     "shell.execute_reply": "2021-12-13T15:30:12.789319Z"
    },
    "papermill": {
     "duration": 0.07873,
     "end_time": "2021-12-13T15:30:12.789833",
     "exception": false,
     "start_time": "2021-12-13T15:30:12.711103",
     "status": "completed"
    },
    "tags": []
   },
   "outputs": [],
   "source": [
    "df_pivot = df.pivot_table(index=\"PRODUCT\", columns = \"RECORD_TIME\", values = \"LISTING_COUNT\")"
   ]
  },
  {
   "cell_type": "code",
   "execution_count": 6,
   "id": "union-huntington",
   "metadata": {
    "execution": {
     "iopub.execute_input": "2021-12-13T15:30:12.851203Z",
     "iopub.status.busy": "2021-12-13T15:30:12.848983Z",
     "iopub.status.idle": "2021-12-13T15:30:12.856473Z",
     "shell.execute_reply": "2021-12-13T15:30:12.854914Z"
    },
    "papermill": {
     "duration": 0.045724,
     "end_time": "2021-12-13T15:30:12.856960",
     "exception": false,
     "start_time": "2021-12-13T15:30:12.811236",
     "status": "completed"
    },
    "tags": []
   },
   "outputs": [],
   "source": [
    "df_pivot.columns = [\"stamp_1\", \"stamp_2\"]\n",
    "df_pivot_diff = df_pivot.diff(axis=1)"
   ]
  },
  {
   "cell_type": "code",
   "execution_count": 7,
   "id": "fifth-motion",
   "metadata": {
    "execution": {
     "iopub.execute_input": "2021-12-13T15:30:12.921091Z",
     "iopub.status.busy": "2021-12-13T15:30:12.910504Z",
     "iopub.status.idle": "2021-12-13T15:30:14.846329Z",
     "shell.execute_reply": "2021-12-13T15:30:14.847690Z"
    },
    "papermill": {
     "duration": 1.97113,
     "end_time": "2021-12-13T15:30:14.848130",
     "exception": false,
     "start_time": "2021-12-13T15:30:12.877000",
     "status": "completed"
    },
    "tags": []
   },
   "outputs": [
    {
     "data": {
      "text/plain": [
       "<AxesSubplot:ylabel='PRODUCT'>"
      ]
     },
     "execution_count": 7,
     "metadata": {},
     "output_type": "execute_result"
    },
    {
     "data": {
      "image/png": "[encoded data removed]",
      "text/plain": [
       "<Figure size 432x288 with 1 Axes>"
      ]
     },
     "metadata": {
      "needs_background": "light"
     },
     "output_type": "display_data"
    }
   ],
   "source": [
    "df_pivot_diff.sort_values(\"stamp_2\", ascending = False)[\"stamp_2\"].head(10).plot.barh()"
   ]
  },
  {
   "cell_type": "code",
   "execution_count": null,
   "id": "extra-executive",
   "metadata": {
    "papermill": {
     "duration": 0.026012,
     "end_time": "2021-12-13T15:30:14.905498",
     "exception": false,
     "start_time": "2021-12-13T15:30:14.879486",
     "status": "completed"
    },
    "tags": []
   },
   "outputs": [],
   "source": []
  }
 ],
 "metadata": {
  "kernelspec": {
   "display_name": "Python 3",
   "language": "python",
   "name": "python3"
  },
  "language_info": {
   "codemirror_mode": {
    "name": "ipython",
    "version": 3
   },
   "file_extension": ".py",
   "mimetype": "text/x-python",
   "name": "python",
   "nbconvert_exporter": "python",
   "pygments_lexer": "ipython3",
   "version": "3.9.5"
  },
  "papermill": {
   "default_parameters": {},
   "duration": 9.501548,
   "end_time": "2021-12-13T15:30:15.564474",
   "environment_variables": {},
   "exception": null,
   "input_path": "eBay_Overview.ipynb",
   "output_path": "eBay_Overview.ipynb",
   "parameters": {},
   "start_time": "2021-12-13T15:30:06.062926",
   "version": "2.3.3"
  }
 },
 "nbformat": 4,
 "nbformat_minor": 5
}