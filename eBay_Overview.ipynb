{
 "cells": [
  {
   "cell_type": "code",
   "execution_count": 1,
   "id": "reverse-picking",
   "metadata": {
    "execution": {
     "iopub.execute_input": "2021-12-09T11:30:08.094380Z",
     "iopub.status.busy": "2021-12-09T11:30:08.086619Z",
     "iopub.status.idle": "2021-12-09T11:30:09.037126Z",
     "shell.execute_reply": "2021-12-09T11:30:09.035125Z"
    },
    "papermill": {
     "duration": 0.990992,
     "end_time": "2021-12-09T11:30:09.037646",
     "exception": false,
     "start_time": "2021-12-09T11:30:08.046654",
     "status": "completed"
    },
    "tags": []
   },
   "outputs": [],
   "source": [
    "import pandas as pd\n",
    "import sqlite3"
   ]
  },
  {
   "cell_type": "code",
   "execution_count": 2,
   "id": "innovative-syndrome",
   "metadata": {
    "execution": {
     "iopub.execute_input": "2021-12-09T11:30:09.093476Z",
     "iopub.status.busy": "2021-12-09T11:30:09.091118Z",
     "iopub.status.idle": "2021-12-09T11:30:10.118665Z",
     "shell.execute_reply": "2021-12-09T11:30:10.119988Z"
    },
    "papermill": {
     "duration": 1.061435,
     "end_time": "2021-12-09T11:30:10.120439",
     "exception": false,
     "start_time": "2021-12-09T11:30:09.059004",
     "status": "completed"
    },
    "tags": []
   },
   "outputs": [],
   "source": [
    "timestamps = pd.read_sql(\"select distinct record_time from EBAY_TOP_BERLIN order by record_time desc limit 2\", sqlite3.connect(\"UsedObjects.db\"))"
   ]
  },
  {
   "cell_type": "code",
   "execution_count": 3,
   "id": "periodic-identification",
   "metadata": {
    "execution": {
     "iopub.execute_input": "2021-12-09T11:30:10.194666Z",
     "iopub.status.busy": "2021-12-09T11:30:10.192166Z",
     "iopub.status.idle": "2021-12-09T11:30:10.219158Z",
     "shell.execute_reply": "2021-12-09T11:30:10.221628Z"
    },
    "papermill": {
     "duration": 0.081824,
     "end_time": "2021-12-09T11:30:10.224107",
     "exception": false,
     "start_time": "2021-12-09T11:30:10.142283",
     "status": "completed"
    },
    "tags": []
   },
   "outputs": [
    {
     "data": {
      "text/html": [
       "<div>\n",
       "<style scoped>\n",
       "    .dataframe tbody tr th:only-of-type {\n",
       "        vertical-align: middle;\n",
       "    }\n",
       "\n",
       "    .dataframe tbody tr th {\n",
       "        vertical-align: top;\n",
       "    }\n",
       "\n",
       "    .dataframe thead th {\n",
       "        text-align: right;\n",
       "    }\n",
       "</style>\n",
       "<table border=\"1\" class=\"dataframe\">\n",
       "  <thead>\n",
       "    <tr style=\"text-align: right;\">\n",
       "      <th></th>\n",
       "      <th>RECORD_TIME</th>\n",
       "    </tr>\n",
       "  </thead>\n",
       "  <tbody>\n",
       "    <tr>\n",
       "      <th>0</th>\n",
       "      <td>2021-12-09 12:30</td>\n",
       "    </tr>\n",
       "    <tr>\n",
       "      <th>1</th>\n",
       "      <td>2021-12-09 12:00</td>\n",
       "    </tr>\n",
       "  </tbody>\n",
       "</table>\n",
       "</div>"
      ],
      "text/plain": [
       "        RECORD_TIME\n",
       "0  2021-12-09 12:30\n",
       "1  2021-12-09 12:00"
      ]
     },
     "execution_count": 3,
     "metadata": {},
     "output_type": "execute_result"
    }
   ],
   "source": [
    "timestamps"
   ]
  },
  {
   "cell_type": "code",
   "execution_count": 4,
   "id": "alternate-victory",
   "metadata": {
    "execution": {
     "iopub.execute_input": "2021-12-09T11:30:10.284328Z",
     "iopub.status.busy": "2021-12-09T11:30:10.282134Z",
     "iopub.status.idle": "2021-12-09T11:30:11.764297Z",
     "shell.execute_reply": "2021-12-09T11:30:11.765583Z"
    },
    "papermill": {
     "duration": 1.517642,
     "end_time": "2021-12-09T11:30:11.765991",
     "exception": false,
     "start_time": "2021-12-09T11:30:10.248349",
     "status": "completed"
    },
    "tags": []
   },
   "outputs": [],
   "source": [
    "df = pd.read_sql(\"select * from EBAY_TOP_BERLIN where record_time in (select distinct record_time from EBAY_TOP_BERLIN order by record_time desc limit 2)\", sqlite3.connect(\"UsedObjects.db\"))"
   ]
  },
  {
   "cell_type": "code",
   "execution_count": 5,
   "id": "popular-active",
   "metadata": {
    "execution": {
     "iopub.execute_input": "2021-12-09T11:30:11.838150Z",
     "iopub.status.busy": "2021-12-09T11:30:11.827685Z",
     "iopub.status.idle": "2021-12-09T11:30:11.854681Z",
     "shell.execute_reply": "2021-12-09T11:30:11.855818Z"
    },
    "papermill": {
     "duration": 0.068121,
     "end_time": "2021-12-09T11:30:11.856227",
     "exception": false,
     "start_time": "2021-12-09T11:30:11.788106",
     "status": "completed"
    },
    "tags": []
   },
   "outputs": [],
   "source": [
    "df_pivot = df.pivot_table(index=\"PRODUCT\", columns = \"RECORD_TIME\", values = \"LISTING_COUNT\")"
   ]
  },
  {
   "cell_type": "code",
   "execution_count": 6,
   "id": "union-huntington",
   "metadata": {
    "execution": {
     "iopub.execute_input": "2021-12-09T11:30:11.913972Z",
     "iopub.status.busy": "2021-12-09T11:30:11.911733Z",
     "iopub.status.idle": "2021-12-09T11:30:11.917264Z",
     "shell.execute_reply": "2021-12-09T11:30:11.918569Z"
    },
    "papermill": {
     "duration": 0.041103,
     "end_time": "2021-12-09T11:30:11.919019",
     "exception": false,
     "start_time": "2021-12-09T11:30:11.877916",
     "status": "completed"
    },
    "tags": []
   },
   "outputs": [],
   "source": [
    "df_pivot.columns = [\"stamp_1\", \"stamp_2\"]\n",
    "df_pivot_diff = df_pivot.diff(axis=1)"
   ]
  },
  {
   "cell_type": "code",
   "execution_count": 7,
   "id": "fifth-motion",
   "metadata": {
    "execution": {
     "iopub.execute_input": "2021-12-09T11:30:11.974662Z",
     "iopub.status.busy": "2021-12-09T11:30:11.971925Z",
     "iopub.status.idle": "2021-12-09T11:30:13.484395Z",
     "shell.execute_reply": "2021-12-09T11:30:13.485750Z"
    },
    "papermill": {
     "duration": 1.546127,
     "end_time": "2021-12-09T11:30:13.486176",
     "exception": false,
     "start_time": "2021-12-09T11:30:11.940049",
     "status": "completed"
    },
    "tags": []
   },
   "outputs": [
    {
     "data": {
      "text/plain": [
       "<AxesSubplot:ylabel='PRODUCT'>"
      ]
     },
     "execution_count": 7,
     "metadata": {},
     "output_type": "execute_result"
    },
    {
     "data": {
      "image/png": "[encoded data removed]",
      "text/plain": [
       "<Figure size 432x288 with 1 Axes>"
      ]
     },
     "metadata": {
      "needs_background": "light"
     },
     "output_type": "display_data"
    }
   ],
   "source": [
    "df_pivot_diff.sort_values(\"stamp_2\", ascending = False)[\"stamp_2\"].head(10).plot.barh()"
   ]
  },
  {
   "cell_type": "code",
   "execution_count": null,
   "id": "extra-executive",
   "metadata": {
    "papermill": {
     "duration": 0.022431,
     "end_time": "2021-12-09T11:30:13.533488",
     "exception": false,
     "start_time": "2021-12-09T11:30:13.511057",
     "status": "completed"
    },
    "tags": []
   },
   "outputs": [],
   "source": []
  }
 ],
 "metadata": {
  "kernelspec": {
   "display_name": "Python 3",
   "language": "python",
   "name": "python3"
  },
  "language_info": {
   "codemirror_mode": {
    "name": "ipython",
    "version": 3
   },
   "file_extension": ".py",
   "mimetype": "text/x-python",
   "name": "python",
   "nbconvert_exporter": "python",
   "pygments_lexer": "ipython3",
   "version": "3.9.5"
  },
  "papermill": {
   "default_parameters": {},
   "duration": 8.886841,
   "end_time": "2021-12-09T11:30:14.179866",
   "environment_variables": {},
   "exception": null,
   "input_path": "eBay_Overview.ipynb",
   "output_path": "eBay_Overview.ipynb",
   "parameters": {},
   "start_time": "2021-12-09T11:30:05.293025",
   "version": "2.3.3"
  }
 },
 "nbformat": 4,
 "nbformat_minor": 5
}