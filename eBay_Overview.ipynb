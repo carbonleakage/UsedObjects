{
 "cells": [
  {
   "cell_type": "code",
   "execution_count": 1,
   "id": "reverse-picking",
   "metadata": {
    "execution": {
     "iopub.execute_input": "2021-11-09T13:30:07.866496Z",
     "iopub.status.busy": "2021-11-09T13:30:07.864107Z",
     "iopub.status.idle": "2021-11-09T13:30:08.799277Z",
     "shell.execute_reply": "2021-11-09T13:30:08.800915Z"
    },
    "papermill": {
     "duration": 0.985799,
     "end_time": "2021-11-09T13:30:08.801721",
     "exception": false,
     "start_time": "2021-11-09T13:30:07.815922",
     "status": "completed"
    },
    "tags": []
   },
   "outputs": [],
   "source": [
    "import pandas as pd\n",
    "import sqlite3"
   ]
  },
  {
   "cell_type": "code",
   "execution_count": 2,
   "id": "innovative-syndrome",
   "metadata": {
    "execution": {
     "iopub.execute_input": "2021-11-09T13:30:08.861964Z",
     "iopub.status.busy": "2021-11-09T13:30:08.859706Z",
     "iopub.status.idle": "2021-11-09T13:30:09.616835Z",
     "shell.execute_reply": "2021-11-09T13:30:09.618248Z"
    },
    "papermill": {
     "duration": 0.792171,
     "end_time": "2021-11-09T13:30:09.618695",
     "exception": false,
     "start_time": "2021-11-09T13:30:08.826524",
     "status": "completed"
    },
    "tags": []
   },
   "outputs": [],
   "source": [
    "timestamps = pd.read_sql(\"select distinct record_time from EBAY_TOP_BERLIN order by record_time desc limit 2\", sqlite3.connect(\"UsedObjects.db\"))"
   ]
  },
  {
   "cell_type": "code",
   "execution_count": 3,
   "id": "periodic-identification",
   "metadata": {
    "execution": {
     "iopub.execute_input": "2021-11-09T13:30:09.689231Z",
     "iopub.status.busy": "2021-11-09T13:30:09.686868Z",
     "iopub.status.idle": "2021-11-09T13:30:09.710066Z",
     "shell.execute_reply": "2021-11-09T13:30:09.711511Z"
    },
    "papermill": {
     "duration": 0.072538,
     "end_time": "2021-11-09T13:30:09.711999",
     "exception": false,
     "start_time": "2021-11-09T13:30:09.639461",
     "status": "completed"
    },
    "tags": []
   },
   "outputs": [
    {
     "data": {
      "text/html": [
       "<div>\n",
       "<style scoped>\n",
       "    .dataframe tbody tr th:only-of-type {\n",
       "        vertical-align: middle;\n",
       "    }\n",
       "\n",
       "    .dataframe tbody tr th {\n",
       "        vertical-align: top;\n",
       "    }\n",
       "\n",
       "    .dataframe thead th {\n",
       "        text-align: right;\n",
       "    }\n",
       "</style>\n",
       "<table border=\"1\" class=\"dataframe\">\n",
       "  <thead>\n",
       "    <tr style=\"text-align: right;\">\n",
       "      <th></th>\n",
       "      <th>RECORD_TIME</th>\n",
       "    </tr>\n",
       "  </thead>\n",
       "  <tbody>\n",
       "    <tr>\n",
       "      <th>0</th>\n",
       "      <td>2021-11-09 14:30</td>\n",
       "    </tr>\n",
       "    <tr>\n",
       "      <th>1</th>\n",
       "      <td>2021-11-09 14:00</td>\n",
       "    </tr>\n",
       "  </tbody>\n",
       "</table>\n",
       "</div>"
      ],
      "text/plain": [
       "        RECORD_TIME\n",
       "0  2021-11-09 14:30\n",
       "1  2021-11-09 14:00"
      ]
     },
     "execution_count": 3,
     "metadata": {},
     "output_type": "execute_result"
    }
   ],
   "source": [
    "timestamps"
   ]
  },
  {
   "cell_type": "code",
   "execution_count": 4,
   "id": "alternate-victory",
   "metadata": {
    "execution": {
     "iopub.execute_input": "2021-11-09T13:30:09.769703Z",
     "iopub.status.busy": "2021-11-09T13:30:09.766079Z",
     "iopub.status.idle": "2021-11-09T13:30:10.888387Z",
     "shell.execute_reply": "2021-11-09T13:30:10.890148Z"
    },
    "papermill": {
     "duration": 1.157343,
     "end_time": "2021-11-09T13:30:10.890656",
     "exception": false,
     "start_time": "2021-11-09T13:30:09.733313",
     "status": "completed"
    },
    "tags": []
   },
   "outputs": [],
   "source": [
    "df = pd.read_sql(\"select * from EBAY_TOP_BERLIN where record_time in (select distinct record_time from EBAY_TOP_BERLIN order by record_time desc limit 2)\", sqlite3.connect(\"UsedObjects.db\"))"
   ]
  },
  {
   "cell_type": "code",
   "execution_count": 5,
   "id": "popular-active",
   "metadata": {
    "execution": {
     "iopub.execute_input": "2021-11-09T13:30:10.971095Z",
     "iopub.status.busy": "2021-11-09T13:30:10.956823Z",
     "iopub.status.idle": "2021-11-09T13:30:10.993028Z",
     "shell.execute_reply": "2021-11-09T13:30:10.991185Z"
    },
    "papermill": {
     "duration": 0.079304,
     "end_time": "2021-11-09T13:30:10.993455",
     "exception": false,
     "start_time": "2021-11-09T13:30:10.914151",
     "status": "completed"
    },
    "tags": []
   },
   "outputs": [],
   "source": [
    "df_pivot = df.pivot_table(index=\"PRODUCT\", columns = \"RECORD_TIME\", values = \"LISTING_COUNT\")"
   ]
  },
  {
   "cell_type": "code",
   "execution_count": 6,
   "id": "union-huntington",
   "metadata": {
    "execution": {
     "iopub.execute_input": "2021-11-09T13:30:11.054019Z",
     "iopub.status.busy": "2021-11-09T13:30:11.051815Z",
     "iopub.status.idle": "2021-11-09T13:30:11.056779Z",
     "shell.execute_reply": "2021-11-09T13:30:11.058124Z"
    },
    "papermill": {
     "duration": 0.043422,
     "end_time": "2021-11-09T13:30:11.058583",
     "exception": false,
     "start_time": "2021-11-09T13:30:11.015161",
     "status": "completed"
    },
    "tags": []
   },
   "outputs": [],
   "source": [
    "df_pivot.columns = [\"stamp_1\", \"stamp_2\"]\n",
    "df_pivot_diff = df_pivot.diff(axis=1)"
   ]
  },
  {
   "cell_type": "code",
   "execution_count": 7,
   "id": "fifth-motion",
   "metadata": {
    "execution": {
     "iopub.execute_input": "2021-11-09T13:30:11.115379Z",
     "iopub.status.busy": "2021-11-09T13:30:11.112918Z",
     "iopub.status.idle": "2021-11-09T13:30:12.872835Z",
     "shell.execute_reply": "2021-11-09T13:30:12.875069Z"
    },
    "papermill": {
     "duration": 1.797322,
     "end_time": "2021-11-09T13:30:12.875714",
     "exception": false,
     "start_time": "2021-11-09T13:30:11.078392",
     "status": "completed"
    },
    "tags": []
   },
   "outputs": [
    {
     "data": {
      "text/plain": [
       "<AxesSubplot:ylabel='PRODUCT'>"
      ]
     },
     "execution_count": 7,
     "metadata": {},
     "output_type": "execute_result"
    },
    {
     "data": {
      "image/png": "[encoded data removed]",
      "text/plain": [
       "<Figure size 432x288 with 1 Axes>"
      ]
     },
     "metadata": {
      "needs_background": "light"
     },
     "output_type": "display_data"
    }
   ],
   "source": [
    "df_pivot_diff.sort_values(\"stamp_2\", ascending = False)[\"stamp_2\"].head(10).plot.barh()"
   ]
  },
  {
   "cell_type": "code",
   "execution_count": null,
   "id": "extra-executive",
   "metadata": {
    "papermill": {
     "duration": 0.036822,
     "end_time": "2021-11-09T13:30:12.947746",
     "exception": false,
     "start_time": "2021-11-09T13:30:12.910924",
     "status": "completed"
    },
    "tags": []
   },
   "outputs": [],
   "source": []
  }
 ],
 "metadata": {
  "kernelspec": {
   "display_name": "Python 3",
   "language": "python",
   "name": "python3"
  },
  "language_info": {
   "codemirror_mode": {
    "name": "ipython",
    "version": 3
   },
   "file_extension": ".py",
   "mimetype": "text/x-python",
   "name": "python",
   "nbconvert_exporter": "python",
   "pygments_lexer": "ipython3",
   "version": "3.9.5"
  },
  "papermill": {
   "default_parameters": {},
   "duration": 8.730228,
   "end_time": "2021-11-09T13:30:13.819992",
   "environment_variables": {},
   "exception": null,
   "input_path": "eBay_Overview.ipynb",
   "output_path": "eBay_Overview.ipynb",
   "parameters": {},
   "start_time": "2021-11-09T13:30:05.089764",
   "version": "2.3.3"
  }
 },
 "nbformat": 4,
 "nbformat_minor": 5
}