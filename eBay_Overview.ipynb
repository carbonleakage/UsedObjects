{
 "cells": [
  {
   "cell_type": "code",
   "execution_count": 1,
   "id": "reverse-picking",
   "metadata": {
    "execution": {
     "iopub.execute_input": "2021-10-19T22:30:06.880448Z",
     "iopub.status.busy": "2021-10-19T22:30:06.878480Z",
     "iopub.status.idle": "2021-10-19T22:30:07.684861Z",
     "shell.execute_reply": "2021-10-19T22:30:07.683237Z"
    },
    "papermill": {
     "duration": 0.857421,
     "end_time": "2021-10-19T22:30:07.685266",
     "exception": false,
     "start_time": "2021-10-19T22:30:06.827845",
     "status": "completed"
    },
    "tags": []
   },
   "outputs": [],
   "source": [
    "import pandas as pd\n",
    "import sqlite3"
   ]
  },
  {
   "cell_type": "code",
   "execution_count": 2,
   "id": "innovative-syndrome",
   "metadata": {
    "execution": {
     "iopub.execute_input": "2021-10-19T22:30:07.736018Z",
     "iopub.status.busy": "2021-10-19T22:30:07.734139Z",
     "iopub.status.idle": "2021-10-19T22:30:08.321530Z",
     "shell.execute_reply": "2021-10-19T22:30:08.322782Z"
    },
    "papermill": {
     "duration": 0.617043,
     "end_time": "2021-10-19T22:30:08.323176",
     "exception": false,
     "start_time": "2021-10-19T22:30:07.706133",
     "status": "completed"
    },
    "tags": []
   },
   "outputs": [],
   "source": [
    "timestamps = pd.read_sql(\"select distinct record_time from EBAY_TOP_BERLIN order by record_time desc limit 2\", sqlite3.connect(\"UsedObjects.db\"))"
   ]
  },
  {
   "cell_type": "code",
   "execution_count": 3,
   "id": "periodic-identification",
   "metadata": {
    "execution": {
     "iopub.execute_input": "2021-10-19T22:30:08.405773Z",
     "iopub.status.busy": "2021-10-19T22:30:08.403680Z",
     "iopub.status.idle": "2021-10-19T22:30:08.424189Z",
     "shell.execute_reply": "2021-10-19T22:30:08.425533Z"
    },
    "papermill": {
     "duration": 0.071458,
     "end_time": "2021-10-19T22:30:08.425945",
     "exception": false,
     "start_time": "2021-10-19T22:30:08.354487",
     "status": "completed"
    },
    "tags": []
   },
   "outputs": [
    {
     "data": {
      "text/html": [
       "<div>\n",
       "<style scoped>\n",
       "    .dataframe tbody tr th:only-of-type {\n",
       "        vertical-align: middle;\n",
       "    }\n",
       "\n",
       "    .dataframe tbody tr th {\n",
       "        vertical-align: top;\n",
       "    }\n",
       "\n",
       "    .dataframe thead th {\n",
       "        text-align: right;\n",
       "    }\n",
       "</style>\n",
       "<table border=\"1\" class=\"dataframe\">\n",
       "  <thead>\n",
       "    <tr style=\"text-align: right;\">\n",
       "      <th></th>\n",
       "      <th>RECORD_TIME</th>\n",
       "    </tr>\n",
       "  </thead>\n",
       "  <tbody>\n",
       "    <tr>\n",
       "      <th>0</th>\n",
       "      <td>2021-10-20 00:30</td>\n",
       "    </tr>\n",
       "    <tr>\n",
       "      <th>1</th>\n",
       "      <td>2021-10-20 00:00</td>\n",
       "    </tr>\n",
       "  </tbody>\n",
       "</table>\n",
       "</div>"
      ],
      "text/plain": [
       "        RECORD_TIME\n",
       "0  2021-10-20 00:30\n",
       "1  2021-10-20 00:00"
      ]
     },
     "execution_count": 3,
     "metadata": {},
     "output_type": "execute_result"
    }
   ],
   "source": [
    "timestamps"
   ]
  },
  {
   "cell_type": "code",
   "execution_count": 4,
   "id": "alternate-victory",
   "metadata": {
    "execution": {
     "iopub.execute_input": "2021-10-19T22:30:08.479166Z",
     "iopub.status.busy": "2021-10-19T22:30:08.477084Z",
     "iopub.status.idle": "2021-10-19T22:30:09.334877Z",
     "shell.execute_reply": "2021-10-19T22:30:09.336104Z"
    },
    "papermill": {
     "duration": 0.889101,
     "end_time": "2021-10-19T22:30:09.336500",
     "exception": false,
     "start_time": "2021-10-19T22:30:08.447399",
     "status": "completed"
    },
    "tags": []
   },
   "outputs": [],
   "source": [
    "df = pd.read_sql(\"select * from EBAY_TOP_BERLIN where record_time in (select distinct record_time from EBAY_TOP_BERLIN order by record_time desc limit 2)\", sqlite3.connect(\"UsedObjects.db\"))"
   ]
  },
  {
   "cell_type": "code",
   "execution_count": 5,
   "id": "popular-active",
   "metadata": {
    "execution": {
     "iopub.execute_input": "2021-10-19T22:30:09.407448Z",
     "iopub.status.busy": "2021-10-19T22:30:09.394876Z",
     "iopub.status.idle": "2021-10-19T22:30:09.423431Z",
     "shell.execute_reply": "2021-10-19T22:30:09.424787Z"
    },
    "papermill": {
     "duration": 0.067358,
     "end_time": "2021-10-19T22:30:09.425213",
     "exception": false,
     "start_time": "2021-10-19T22:30:09.357855",
     "status": "completed"
    },
    "tags": []
   },
   "outputs": [],
   "source": [
    "df_pivot = df.pivot_table(index=\"PRODUCT\", columns = \"RECORD_TIME\", values = \"LISTING_COUNT\")"
   ]
  },
  {
   "cell_type": "code",
   "execution_count": 6,
   "id": "union-huntington",
   "metadata": {
    "execution": {
     "iopub.execute_input": "2021-10-19T22:30:09.480554Z",
     "iopub.status.busy": "2021-10-19T22:30:09.478611Z",
     "iopub.status.idle": "2021-10-19T22:30:09.483700Z",
     "shell.execute_reply": "2021-10-19T22:30:09.484895Z"
    },
    "papermill": {
     "duration": 0.039691,
     "end_time": "2021-10-19T22:30:09.485305",
     "exception": false,
     "start_time": "2021-10-19T22:30:09.445614",
     "status": "completed"
    },
    "tags": []
   },
   "outputs": [],
   "source": [
    "df_pivot.columns = [\"stamp_1\", \"stamp_2\"]\n",
    "df_pivot_diff = df_pivot.diff(axis=1)"
   ]
  },
  {
   "cell_type": "code",
   "execution_count": 7,
   "id": "fifth-motion",
   "metadata": {
    "execution": {
     "iopub.execute_input": "2021-10-19T22:30:09.540318Z",
     "iopub.status.busy": "2021-10-19T22:30:09.538025Z",
     "iopub.status.idle": "2021-10-19T22:30:11.025680Z",
     "shell.execute_reply": "2021-10-19T22:30:11.027034Z"
    },
    "papermill": {
     "duration": 1.521398,
     "end_time": "2021-10-19T22:30:11.027467",
     "exception": false,
     "start_time": "2021-10-19T22:30:09.506069",
     "status": "completed"
    },
    "tags": []
   },
   "outputs": [
    {
     "data": {
      "text/plain": [
       "<AxesSubplot:ylabel='PRODUCT'>"
      ]
     },
     "execution_count": 7,
     "metadata": {},
     "output_type": "execute_result"
    },
    {
     "data": {
      "image/png": "[encoded data removed]",
      "text/plain": [
       "<Figure size 432x288 with 1 Axes>"
      ]
     },
     "metadata": {
      "needs_background": "light"
     },
     "output_type": "display_data"
    }
   ],
   "source": [
    "df_pivot_diff.sort_values(\"stamp_2\", ascending = False)[\"stamp_2\"].head(10).plot.barh()"
   ]
  },
  {
   "cell_type": "code",
   "execution_count": null,
   "id": "extra-executive",
   "metadata": {
    "papermill": {
     "duration": 0.022421,
     "end_time": "2021-10-19T22:30:11.074030",
     "exception": false,
     "start_time": "2021-10-19T22:30:11.051609",
     "status": "completed"
    },
    "tags": []
   },
   "outputs": [],
   "source": []
  }
 ],
 "metadata": {
  "kernelspec": {
   "display_name": "Python 3",
   "language": "python",
   "name": "python3"
  },
  "language_info": {
   "codemirror_mode": {
    "name": "ipython",
    "version": 3
   },
   "file_extension": ".py",
   "mimetype": "text/x-python",
   "name": "python",
   "nbconvert_exporter": "python",
   "pygments_lexer": "ipython3",
   "version": "3.9.5"
  },
  "papermill": {
   "default_parameters": {},
   "duration": 7.821001,
   "end_time": "2021-10-19T22:30:12.240837",
   "environment_variables": {},
   "exception": null,
   "input_path": "eBay_Overview.ipynb",
   "output_path": "eBay_Overview.ipynb",
   "parameters": {},
   "start_time": "2021-10-19T22:30:04.419836",
   "version": "2.3.3"
  }
 },
 "nbformat": 4,
 "nbformat_minor": 5
}