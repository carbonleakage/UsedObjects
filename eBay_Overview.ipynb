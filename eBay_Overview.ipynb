{
 "cells": [
  {
   "cell_type": "code",
   "execution_count": 1,
   "id": "reverse-picking",
   "metadata": {
    "execution": {
     "iopub.execute_input": "2021-12-21T16:00:07.746416Z",
     "iopub.status.busy": "2021-12-21T16:00:07.744263Z",
     "iopub.status.idle": "2021-12-21T16:00:08.726299Z",
     "shell.execute_reply": "2021-12-21T16:00:08.728234Z"
    },
    "papermill": {
     "duration": 1.031465,
     "end_time": "2021-12-21T16:00:08.729056",
     "exception": false,
     "start_time": "2021-12-21T16:00:07.697591",
     "status": "completed"
    },
    "tags": []
   },
   "outputs": [],
   "source": [
    "import pandas as pd\n",
    "import sqlite3"
   ]
  },
  {
   "cell_type": "code",
   "execution_count": 2,
   "id": "innovative-syndrome",
   "metadata": {
    "execution": {
     "iopub.execute_input": "2021-12-21T16:00:08.847981Z",
     "iopub.status.busy": "2021-12-21T16:00:08.845772Z",
     "iopub.status.idle": "2021-12-21T16:00:09.994404Z",
     "shell.execute_reply": "2021-12-21T16:00:09.995615Z"
    },
    "papermill": {
     "duration": 1.18246,
     "end_time": "2021-12-21T16:00:09.996010",
     "exception": false,
     "start_time": "2021-12-21T16:00:08.813550",
     "status": "completed"
    },
    "tags": []
   },
   "outputs": [],
   "source": [
    "timestamps = pd.read_sql(\"select distinct record_time from EBAY_TOP_BERLIN order by record_time desc limit 2\", sqlite3.connect(\"UsedObjects.db\"))"
   ]
  },
  {
   "cell_type": "code",
   "execution_count": 3,
   "id": "periodic-identification",
   "metadata": {
    "execution": {
     "iopub.execute_input": "2021-12-21T16:00:10.067610Z",
     "iopub.status.busy": "2021-12-21T16:00:10.065299Z",
     "iopub.status.idle": "2021-12-21T16:00:10.091070Z",
     "shell.execute_reply": "2021-12-21T16:00:10.092727Z"
    },
    "papermill": {
     "duration": 0.076661,
     "end_time": "2021-12-21T16:00:10.093235",
     "exception": false,
     "start_time": "2021-12-21T16:00:10.016574",
     "status": "completed"
    },
    "tags": []
   },
   "outputs": [
    {
     "data": {
      "text/html": [
       "<div>\n",
       "<style scoped>\n",
       "    .dataframe tbody tr th:only-of-type {\n",
       "        vertical-align: middle;\n",
       "    }\n",
       "\n",
       "    .dataframe tbody tr th {\n",
       "        vertical-align: top;\n",
       "    }\n",
       "\n",
       "    .dataframe thead th {\n",
       "        text-align: right;\n",
       "    }\n",
       "</style>\n",
       "<table border=\"1\" class=\"dataframe\">\n",
       "  <thead>\n",
       "    <tr style=\"text-align: right;\">\n",
       "      <th></th>\n",
       "      <th>RECORD_TIME</th>\n",
       "    </tr>\n",
       "  </thead>\n",
       "  <tbody>\n",
       "    <tr>\n",
       "      <th>0</th>\n",
       "      <td>2021-12-21 17:00</td>\n",
       "    </tr>\n",
       "    <tr>\n",
       "      <th>1</th>\n",
       "      <td>2021-12-21 16:30</td>\n",
       "    </tr>\n",
       "  </tbody>\n",
       "</table>\n",
       "</div>"
      ],
      "text/plain": [
       "        RECORD_TIME\n",
       "0  2021-12-21 17:00\n",
       "1  2021-12-21 16:30"
      ]
     },
     "execution_count": 3,
     "metadata": {},
     "output_type": "execute_result"
    }
   ],
   "source": [
    "timestamps"
   ]
  },
  {
   "cell_type": "code",
   "execution_count": 4,
   "id": "alternate-victory",
   "metadata": {
    "execution": {
     "iopub.execute_input": "2021-12-21T16:00:10.150207Z",
     "iopub.status.busy": "2021-12-21T16:00:10.147780Z",
     "iopub.status.idle": "2021-12-21T16:00:11.831091Z",
     "shell.execute_reply": "2021-12-21T16:00:11.833310Z"
    },
    "papermill": {
     "duration": 1.71884,
     "end_time": "2021-12-21T16:00:11.833787",
     "exception": false,
     "start_time": "2021-12-21T16:00:10.114947",
     "status": "completed"
    },
    "tags": []
   },
   "outputs": [],
   "source": [
    "df = pd.read_sql(\"select * from EBAY_TOP_BERLIN where record_time in (select distinct record_time from EBAY_TOP_BERLIN order by record_time desc limit 2)\", sqlite3.connect(\"UsedObjects.db\"))"
   ]
  },
  {
   "cell_type": "code",
   "execution_count": 5,
   "id": "popular-active",
   "metadata": {
    "execution": {
     "iopub.execute_input": "2021-12-21T16:00:11.905205Z",
     "iopub.status.busy": "2021-12-21T16:00:11.897858Z",
     "iopub.status.idle": "2021-12-21T16:00:11.931597Z",
     "shell.execute_reply": "2021-12-21T16:00:11.933148Z"
    },
    "papermill": {
     "duration": 0.079359,
     "end_time": "2021-12-21T16:00:11.933620",
     "exception": false,
     "start_time": "2021-12-21T16:00:11.854261",
     "status": "completed"
    },
    "tags": []
   },
   "outputs": [],
   "source": [
    "df_pivot = df.pivot_table(index=\"PRODUCT\", columns = \"RECORD_TIME\", values = \"LISTING_COUNT\")"
   ]
  },
  {
   "cell_type": "code",
   "execution_count": 6,
   "id": "union-huntington",
   "metadata": {
    "execution": {
     "iopub.execute_input": "2021-12-21T16:00:11.994859Z",
     "iopub.status.busy": "2021-12-21T16:00:11.992630Z",
     "iopub.status.idle": "2021-12-21T16:00:11.998599Z",
     "shell.execute_reply": "2021-12-21T16:00:11.999955Z"
    },
    "papermill": {
     "duration": 0.045467,
     "end_time": "2021-12-21T16:00:12.000433",
     "exception": false,
     "start_time": "2021-12-21T16:00:11.954966",
     "status": "completed"
    },
    "tags": []
   },
   "outputs": [],
   "source": [
    "df_pivot.columns = [\"stamp_1\", \"stamp_2\"]\n",
    "df_pivot_diff = df_pivot.diff(axis=1)"
   ]
  },
  {
   "cell_type": "code",
   "execution_count": 7,
   "id": "fifth-motion",
   "metadata": {
    "execution": {
     "iopub.execute_input": "2021-12-21T16:00:12.056806Z",
     "iopub.status.busy": "2021-12-21T16:00:12.054213Z",
     "iopub.status.idle": "2021-12-21T16:00:14.007948Z",
     "shell.execute_reply": "2021-12-21T16:00:14.009513Z"
    },
    "papermill": {
     "duration": 1.989337,
     "end_time": "2021-12-21T16:00:14.009994",
     "exception": false,
     "start_time": "2021-12-21T16:00:12.020657",
     "status": "completed"
    },
    "tags": []
   },
   "outputs": [
    {
     "data": {
      "text/plain": [
       "<AxesSubplot:ylabel='PRODUCT'>"
      ]
     },
     "execution_count": 7,
     "metadata": {},
     "output_type": "execute_result"
    },
    {
     "data": {
      "image/png": "[encoded data removed]",
      "text/plain": [
       "<Figure size 432x288 with 1 Axes>"
      ]
     },
     "metadata": {
      "needs_background": "light"
     },
     "output_type": "display_data"
    }
   ],
   "source": [
    "df_pivot_diff.sort_values(\"stamp_2\", ascending = False)[\"stamp_2\"].head(10).plot.barh()"
   ]
  },
  {
   "cell_type": "code",
   "execution_count": null,
   "id": "extra-executive",
   "metadata": {
    "papermill": {
     "duration": 0.021999,
     "end_time": "2021-12-21T16:00:14.056169",
     "exception": false,
     "start_time": "2021-12-21T16:00:14.034170",
     "status": "completed"
    },
    "tags": []
   },
   "outputs": [],
   "source": []
  }
 ],
 "metadata": {
  "kernelspec": {
   "display_name": "Python 3",
   "language": "python",
   "name": "python3"
  },
  "language_info": {
   "codemirror_mode": {
    "name": "ipython",
    "version": 3
   },
   "file_extension": ".py",
   "mimetype": "text/x-python",
   "name": "python",
   "nbconvert_exporter": "python",
   "pygments_lexer": "ipython3",
   "version": "3.9.5"
  },
  "papermill": {
   "default_parameters": {},
   "duration": 9.749129,
   "end_time": "2021-12-21T16:00:14.698087",
   "environment_variables": {},
   "exception": null,
   "input_path": "eBay_Overview.ipynb",
   "output_path": "eBay_Overview.ipynb",
   "parameters": {},
   "start_time": "2021-12-21T16:00:04.948958",
   "version": "2.3.3"
  }
 },
 "nbformat": 4,
 "nbformat_minor": 5
}