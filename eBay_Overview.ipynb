{
 "cells": [
  {
   "cell_type": "code",
   "execution_count": 1,
   "id": "reverse-picking",
   "metadata": {
    "execution": {
     "iopub.execute_input": "2021-08-10T01:30:04.079877Z",
     "iopub.status.busy": "2021-08-10T01:30:04.079099Z",
     "iopub.status.idle": "2021-08-10T01:30:04.691812Z",
     "shell.execute_reply": "2021-08-10T01:30:04.692848Z"
    },
    "papermill": {
     "duration": 0.633072,
     "end_time": "2021-08-10T01:30:04.693351",
     "exception": false,
     "start_time": "2021-08-10T01:30:04.060279",
     "status": "completed"
    },
    "tags": []
   },
   "outputs": [],
   "source": [
    "import pandas as pd\n",
    "import sqlite3"
   ]
  },
  {
   "cell_type": "code",
   "execution_count": 2,
   "id": "innovative-syndrome",
   "metadata": {
    "execution": {
     "iopub.execute_input": "2021-08-10T01:30:04.717913Z",
     "iopub.status.busy": "2021-08-10T01:30:04.717135Z",
     "iopub.status.idle": "2021-08-10T01:30:05.003378Z",
     "shell.execute_reply": "2021-08-10T01:30:05.002635Z"
    },
    "papermill": {
     "duration": 0.298228,
     "end_time": "2021-08-10T01:30:05.003540",
     "exception": false,
     "start_time": "2021-08-10T01:30:04.705312",
     "status": "completed"
    },
    "tags": []
   },
   "outputs": [],
   "source": [
    "timestamps = pd.read_sql(\"select distinct record_time from EBAY_TOP_BERLIN order by record_time desc limit 2\", sqlite3.connect(\"UsedObjects.db\"))"
   ]
  },
  {
   "cell_type": "code",
   "execution_count": 3,
   "id": "periodic-identification",
   "metadata": {
    "execution": {
     "iopub.execute_input": "2021-08-10T01:30:05.032662Z",
     "iopub.status.busy": "2021-08-10T01:30:05.031885Z",
     "iopub.status.idle": "2021-08-10T01:30:05.043301Z",
     "shell.execute_reply": "2021-08-10T01:30:05.042735Z"
    },
    "papermill": {
     "duration": 0.02944,
     "end_time": "2021-08-10T01:30:05.043450",
     "exception": false,
     "start_time": "2021-08-10T01:30:05.014010",
     "status": "completed"
    },
    "tags": []
   },
   "outputs": [
    {
     "data": {
      "text/html": [
       "<div>\n",
       "<style scoped>\n",
       "    .dataframe tbody tr th:only-of-type {\n",
       "        vertical-align: middle;\n",
       "    }\n",
       "\n",
       "    .dataframe tbody tr th {\n",
       "        vertical-align: top;\n",
       "    }\n",
       "\n",
       "    .dataframe thead th {\n",
       "        text-align: right;\n",
       "    }\n",
       "</style>\n",
       "<table border=\"1\" class=\"dataframe\">\n",
       "  <thead>\n",
       "    <tr style=\"text-align: right;\">\n",
       "      <th></th>\n",
       "      <th>RECORD_TIME</th>\n",
       "    </tr>\n",
       "  </thead>\n",
       "  <tbody>\n",
       "    <tr>\n",
       "      <th>0</th>\n",
       "      <td>2021-08-10 03:30</td>\n",
       "    </tr>\n",
       "    <tr>\n",
       "      <th>1</th>\n",
       "      <td>2021-08-10 03:00</td>\n",
       "    </tr>\n",
       "  </tbody>\n",
       "</table>\n",
       "</div>"
      ],
      "text/plain": [
       "        RECORD_TIME\n",
       "0  2021-08-10 03:30\n",
       "1  2021-08-10 03:00"
      ]
     },
     "execution_count": 3,
     "metadata": {},
     "output_type": "execute_result"
    }
   ],
   "source": [
    "timestamps"
   ]
  },
  {
   "cell_type": "code",
   "execution_count": 4,
   "id": "alternate-victory",
   "metadata": {
    "execution": {
     "iopub.execute_input": "2021-08-10T01:30:05.064515Z",
     "iopub.status.busy": "2021-08-10T01:30:05.063765Z",
     "iopub.status.idle": "2021-08-10T01:30:05.078400Z",
     "shell.execute_reply": "2021-08-10T01:30:05.078904Z"
    },
    "papermill": {
     "duration": 0.027353,
     "end_time": "2021-08-10T01:30:05.079089",
     "exception": false,
     "start_time": "2021-08-10T01:30:05.051736",
     "status": "completed"
    },
    "tags": []
   },
   "outputs": [],
   "source": [
    "df = pd.read_sql(\"select * from EBAY_TOP_BERLIN where record_time in (select distinct record_time from EBAY_TOP_BERLIN order by record_time desc limit 2)\", sqlite3.connect(\"UsedObjects.db\"))"
   ]
  },
  {
   "cell_type": "code",
   "execution_count": 5,
   "id": "popular-active",
   "metadata": {
    "execution": {
     "iopub.execute_input": "2021-08-10T01:30:05.102858Z",
     "iopub.status.busy": "2021-08-10T01:30:05.102083Z",
     "iopub.status.idle": "2021-08-10T01:30:05.120140Z",
     "shell.execute_reply": "2021-08-10T01:30:05.119413Z"
    },
    "papermill": {
     "duration": 0.032724,
     "end_time": "2021-08-10T01:30:05.120300",
     "exception": false,
     "start_time": "2021-08-10T01:30:05.087576",
     "status": "completed"
    },
    "tags": []
   },
   "outputs": [],
   "source": [
    "df_pivot = df.pivot_table(index=\"PRODUCT\", columns = \"RECORD_TIME\", values = \"LISTING_COUNT\")"
   ]
  },
  {
   "cell_type": "code",
   "execution_count": 6,
   "id": "union-huntington",
   "metadata": {
    "execution": {
     "iopub.execute_input": "2021-08-10T01:30:05.151015Z",
     "iopub.status.busy": "2021-08-10T01:30:05.150237Z",
     "iopub.status.idle": "2021-08-10T01:30:05.157415Z",
     "shell.execute_reply": "2021-08-10T01:30:05.157946Z"
    },
    "papermill": {
     "duration": 0.028795,
     "end_time": "2021-08-10T01:30:05.158127",
     "exception": false,
     "start_time": "2021-08-10T01:30:05.129332",
     "status": "completed"
    },
    "tags": []
   },
   "outputs": [],
   "source": [
    "df_pivot.columns = [\"stamp_1\", \"stamp_2\"]\n",
    "df_pivot_diff = df_pivot.diff(axis=1)"
   ]
  },
  {
   "cell_type": "code",
   "execution_count": 7,
   "id": "fifth-motion",
   "metadata": {
    "execution": {
     "iopub.execute_input": "2021-08-10T01:30:05.188452Z",
     "iopub.status.busy": "2021-08-10T01:30:05.186453Z",
     "iopub.status.idle": "2021-08-10T01:30:05.824280Z",
     "shell.execute_reply": "2021-08-10T01:30:05.824853Z"
    },
    "papermill": {
     "duration": 0.653954,
     "end_time": "2021-08-10T01:30:05.825036",
     "exception": false,
     "start_time": "2021-08-10T01:30:05.171082",
     "status": "completed"
    },
    "tags": []
   },
   "outputs": [
    {
     "data": {
      "text/plain": [
       "<AxesSubplot:ylabel='PRODUCT'>"
      ]
     },
     "execution_count": 7,
     "metadata": {},
     "output_type": "execute_result"
    },
    {
     "data": {
      "image/png": "[encoded data removed]",
      "text/plain": [
       "<Figure size 432x288 with 1 Axes>"
      ]
     },
     "metadata": {
      "needs_background": "light"
     },
     "output_type": "display_data"
    }
   ],
   "source": [
    "df_pivot_diff.sort_values(\"stamp_2\", ascending = False)[\"stamp_2\"].head(10).plot.barh()"
   ]
  },
  {
   "cell_type": "code",
   "execution_count": null,
   "id": "extra-executive",
   "metadata": {
    "papermill": {
     "duration": 0.00989,
     "end_time": "2021-08-10T01:30:05.849945",
     "exception": false,
     "start_time": "2021-08-10T01:30:05.840055",
     "status": "completed"
    },
    "tags": []
   },
   "outputs": [],
   "source": []
  }
 ],
 "metadata": {
  "kernelspec": {
   "display_name": "Python 3",
   "language": "python",
   "name": "python3"
  },
  "language_info": {
   "codemirror_mode": {
    "name": "ipython",
    "version": 3
   },
   "file_extension": ".py",
   "mimetype": "text/x-python",
   "name": "python",
   "nbconvert_exporter": "python",
   "pygments_lexer": "ipython3",
   "version": "3.8.8"
  },
  "papermill": {
   "default_parameters": {},
   "duration": 4.961746,
   "end_time": "2021-08-10T01:30:07.312660",
   "environment_variables": {},
   "exception": null,
   "input_path": "/Users/saravananshanmugam/Carbonleakage_Git/UsedObjects/eBay_Overview.ipynb",
   "output_path": "/Users/saravananshanmugam/Carbonleakage_Git/UsedObjects/eBay_Overview.ipynb",
   "parameters": {},
   "start_time": "2021-08-10T01:30:02.350914",
   "version": "2.3.3"
  }
 },
 "nbformat": 4,
 "nbformat_minor": 5
}