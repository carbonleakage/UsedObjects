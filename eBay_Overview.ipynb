{
 "cells": [
  {
   "cell_type": "code",
   "execution_count": 1,
   "id": "reverse-picking",
   "metadata": {
    "execution": {
     "iopub.execute_input": "2021-11-01T08:00:07.699437Z",
     "iopub.status.busy": "2021-11-01T08:00:07.697197Z",
     "iopub.status.idle": "2021-11-01T08:00:08.506989Z",
     "shell.execute_reply": "2021-11-01T08:00:08.505233Z"
    },
    "papermill": {
     "duration": 0.859135,
     "end_time": "2021-11-01T08:00:08.507433",
     "exception": false,
     "start_time": "2021-11-01T08:00:07.648298",
     "status": "completed"
    },
    "tags": []
   },
   "outputs": [],
   "source": [
    "import pandas as pd\n",
    "import sqlite3"
   ]
  },
  {
   "cell_type": "code",
   "execution_count": 2,
   "id": "innovative-syndrome",
   "metadata": {
    "execution": {
     "iopub.execute_input": "2021-11-01T08:00:08.558530Z",
     "iopub.status.busy": "2021-11-01T08:00:08.556058Z",
     "iopub.status.idle": "2021-11-01T08:00:09.241090Z",
     "shell.execute_reply": "2021-11-01T08:00:09.242310Z"
    },
    "papermill": {
     "duration": 0.71491,
     "end_time": "2021-11-01T08:00:09.242705",
     "exception": false,
     "start_time": "2021-11-01T08:00:08.527795",
     "status": "completed"
    },
    "tags": []
   },
   "outputs": [],
   "source": [
    "timestamps = pd.read_sql(\"select distinct record_time from EBAY_TOP_BERLIN order by record_time desc limit 2\", sqlite3.connect(\"UsedObjects.db\"))"
   ]
  },
  {
   "cell_type": "code",
   "execution_count": 3,
   "id": "periodic-identification",
   "metadata": {
    "execution": {
     "iopub.execute_input": "2021-11-01T08:00:09.322632Z",
     "iopub.status.busy": "2021-11-01T08:00:09.320348Z",
     "iopub.status.idle": "2021-11-01T08:00:09.340418Z",
     "shell.execute_reply": "2021-11-01T08:00:09.341907Z"
    },
    "papermill": {
     "duration": 0.070936,
     "end_time": "2021-11-01T08:00:09.342398",
     "exception": false,
     "start_time": "2021-11-01T08:00:09.271462",
     "status": "completed"
    },
    "tags": []
   },
   "outputs": [
    {
     "data": {
      "text/html": [
       "<div>\n",
       "<style scoped>\n",
       "    .dataframe tbody tr th:only-of-type {\n",
       "        vertical-align: middle;\n",
       "    }\n",
       "\n",
       "    .dataframe tbody tr th {\n",
       "        vertical-align: top;\n",
       "    }\n",
       "\n",
       "    .dataframe thead th {\n",
       "        text-align: right;\n",
       "    }\n",
       "</style>\n",
       "<table border=\"1\" class=\"dataframe\">\n",
       "  <thead>\n",
       "    <tr style=\"text-align: right;\">\n",
       "      <th></th>\n",
       "      <th>RECORD_TIME</th>\n",
       "    </tr>\n",
       "  </thead>\n",
       "  <tbody>\n",
       "    <tr>\n",
       "      <th>0</th>\n",
       "      <td>2021-11-01 09:00</td>\n",
       "    </tr>\n",
       "    <tr>\n",
       "      <th>1</th>\n",
       "      <td>2021-11-01 08:30</td>\n",
       "    </tr>\n",
       "  </tbody>\n",
       "</table>\n",
       "</div>"
      ],
      "text/plain": [
       "        RECORD_TIME\n",
       "0  2021-11-01 09:00\n",
       "1  2021-11-01 08:30"
      ]
     },
     "execution_count": 3,
     "metadata": {},
     "output_type": "execute_result"
    }
   ],
   "source": [
    "timestamps"
   ]
  },
  {
   "cell_type": "code",
   "execution_count": 4,
   "id": "alternate-victory",
   "metadata": {
    "execution": {
     "iopub.execute_input": "2021-11-01T08:00:09.394556Z",
     "iopub.status.busy": "2021-11-01T08:00:09.392329Z",
     "iopub.status.idle": "2021-11-01T08:00:10.398465Z",
     "shell.execute_reply": "2021-11-01T08:00:10.399810Z"
    },
    "papermill": {
     "duration": 1.036342,
     "end_time": "2021-11-01T08:00:10.400248",
     "exception": false,
     "start_time": "2021-11-01T08:00:09.363906",
     "status": "completed"
    },
    "tags": []
   },
   "outputs": [],
   "source": [
    "df = pd.read_sql(\"select * from EBAY_TOP_BERLIN where record_time in (select distinct record_time from EBAY_TOP_BERLIN order by record_time desc limit 2)\", sqlite3.connect(\"UsedObjects.db\"))"
   ]
  },
  {
   "cell_type": "code",
   "execution_count": 5,
   "id": "popular-active",
   "metadata": {
    "execution": {
     "iopub.execute_input": "2021-11-01T08:00:10.471629Z",
     "iopub.status.busy": "2021-11-01T08:00:10.459017Z",
     "iopub.status.idle": "2021-11-01T08:00:10.488026Z",
     "shell.execute_reply": "2021-11-01T08:00:10.489473Z"
    },
    "papermill": {
     "duration": 0.068688,
     "end_time": "2021-11-01T08:00:10.489884",
     "exception": false,
     "start_time": "2021-11-01T08:00:10.421196",
     "status": "completed"
    },
    "tags": []
   },
   "outputs": [],
   "source": [
    "df_pivot = df.pivot_table(index=\"PRODUCT\", columns = \"RECORD_TIME\", values = \"LISTING_COUNT\")"
   ]
  },
  {
   "cell_type": "code",
   "execution_count": 6,
   "id": "union-huntington",
   "metadata": {
    "execution": {
     "iopub.execute_input": "2021-11-01T08:00:10.547948Z",
     "iopub.status.busy": "2021-11-01T08:00:10.545513Z",
     "iopub.status.idle": "2021-11-01T08:00:10.551378Z",
     "shell.execute_reply": "2021-11-01T08:00:10.552560Z"
    },
    "papermill": {
     "duration": 0.041806,
     "end_time": "2021-11-01T08:00:10.553040",
     "exception": false,
     "start_time": "2021-11-01T08:00:10.511234",
     "status": "completed"
    },
    "tags": []
   },
   "outputs": [],
   "source": [
    "df_pivot.columns = [\"stamp_1\", \"stamp_2\"]\n",
    "df_pivot_diff = df_pivot.diff(axis=1)"
   ]
  },
  {
   "cell_type": "code",
   "execution_count": 7,
   "id": "fifth-motion",
   "metadata": {
    "execution": {
     "iopub.execute_input": "2021-11-01T08:00:10.607083Z",
     "iopub.status.busy": "2021-11-01T08:00:10.604629Z",
     "iopub.status.idle": "2021-11-01T08:00:12.057609Z",
     "shell.execute_reply": "2021-11-01T08:00:12.056160Z"
    },
    "papermill": {
     "duration": 1.484977,
     "end_time": "2021-11-01T08:00:12.058005",
     "exception": false,
     "start_time": "2021-11-01T08:00:10.573028",
     "status": "completed"
    },
    "tags": []
   },
   "outputs": [
    {
     "data": {
      "text/plain": [
       "<AxesSubplot:ylabel='PRODUCT'>"
      ]
     },
     "execution_count": 7,
     "metadata": {},
     "output_type": "execute_result"
    },
    {
     "data": {
      "image/png": "[encoded data removed]",
      "text/plain": [
       "<Figure size 432x288 with 1 Axes>"
      ]
     },
     "metadata": {
      "needs_background": "light"
     },
     "output_type": "display_data"
    }
   ],
   "source": [
    "df_pivot_diff.sort_values(\"stamp_2\", ascending = False)[\"stamp_2\"].head(10).plot.barh()"
   ]
  },
  {
   "cell_type": "code",
   "execution_count": null,
   "id": "extra-executive",
   "metadata": {
    "papermill": {
     "duration": 0.022068,
     "end_time": "2021-11-01T08:00:12.104639",
     "exception": false,
     "start_time": "2021-11-01T08:00:12.082571",
     "status": "completed"
    },
    "tags": []
   },
   "outputs": [],
   "source": []
  }
 ],
 "metadata": {
  "kernelspec": {
   "display_name": "Python 3",
   "language": "python",
   "name": "python3"
  },
  "language_info": {
   "codemirror_mode": {
    "name": "ipython",
    "version": 3
   },
   "file_extension": ".py",
   "mimetype": "text/x-python",
   "name": "python",
   "nbconvert_exporter": "python",
   "pygments_lexer": "ipython3",
   "version": "3.9.5"
  },
  "papermill": {
   "default_parameters": {},
   "duration": 7.659649,
   "end_time": "2021-11-01T08:00:12.746942",
   "environment_variables": {},
   "exception": null,
   "input_path": "eBay_Overview.ipynb",
   "output_path": "eBay_Overview.ipynb",
   "parameters": {},
   "start_time": "2021-11-01T08:00:05.087293",
   "version": "2.3.3"
  }
 },
 "nbformat": 4,
 "nbformat_minor": 5
}