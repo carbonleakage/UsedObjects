{
 "cells": [
  {
   "cell_type": "code",
   "execution_count": 1,
   "id": "reverse-picking",
   "metadata": {
    "execution": {
     "iopub.execute_input": "2021-08-19T15:30:07.452063Z",
     "iopub.status.busy": "2021-08-19T15:30:07.450111Z",
     "iopub.status.idle": "2021-08-19T15:30:08.259472Z",
     "shell.execute_reply": "2021-08-19T15:30:08.260714Z"
    },
    "papermill": {
     "duration": 0.861691,
     "end_time": "2021-08-19T15:30:08.261325",
     "exception": false,
     "start_time": "2021-08-19T15:30:07.399634",
     "status": "completed"
    },
    "tags": []
   },
   "outputs": [],
   "source": [
    "import pandas as pd\n",
    "import sqlite3"
   ]
  },
  {
   "cell_type": "code",
   "execution_count": 2,
   "id": "innovative-syndrome",
   "metadata": {
    "execution": {
     "iopub.execute_input": "2021-08-19T15:30:08.315182Z",
     "iopub.status.busy": "2021-08-19T15:30:08.312794Z",
     "iopub.status.idle": "2021-08-19T15:30:08.398011Z",
     "shell.execute_reply": "2021-08-19T15:30:08.399336Z"
    },
    "papermill": {
     "duration": 0.115493,
     "end_time": "2021-08-19T15:30:08.399761",
     "exception": false,
     "start_time": "2021-08-19T15:30:08.284268",
     "status": "completed"
    },
    "tags": []
   },
   "outputs": [],
   "source": [
    "timestamps = pd.read_sql(\"select distinct record_time from EBAY_TOP_BERLIN order by record_time desc limit 2\", sqlite3.connect(\"UsedObjects.db\"))"
   ]
  },
  {
   "cell_type": "code",
   "execution_count": 3,
   "id": "periodic-identification",
   "metadata": {
    "execution": {
     "iopub.execute_input": "2021-08-19T15:30:08.465074Z",
     "iopub.status.busy": "2021-08-19T15:30:08.463059Z",
     "iopub.status.idle": "2021-08-19T15:30:08.483070Z",
     "shell.execute_reply": "2021-08-19T15:30:08.484253Z"
    },
    "papermill": {
     "duration": 0.06439,
     "end_time": "2021-08-19T15:30:08.484688",
     "exception": false,
     "start_time": "2021-08-19T15:30:08.420298",
     "status": "completed"
    },
    "tags": []
   },
   "outputs": [
    {
     "data": {
      "text/html": [
       "<div>\n",
       "<style scoped>\n",
       "    .dataframe tbody tr th:only-of-type {\n",
       "        vertical-align: middle;\n",
       "    }\n",
       "\n",
       "    .dataframe tbody tr th {\n",
       "        vertical-align: top;\n",
       "    }\n",
       "\n",
       "    .dataframe thead th {\n",
       "        text-align: right;\n",
       "    }\n",
       "</style>\n",
       "<table border=\"1\" class=\"dataframe\">\n",
       "  <thead>\n",
       "    <tr style=\"text-align: right;\">\n",
       "      <th></th>\n",
       "      <th>RECORD_TIME</th>\n",
       "    </tr>\n",
       "  </thead>\n",
       "  <tbody>\n",
       "    <tr>\n",
       "      <th>0</th>\n",
       "      <td>2021-08-19 17:30</td>\n",
       "    </tr>\n",
       "    <tr>\n",
       "      <th>1</th>\n",
       "      <td>2021-08-19 17:00</td>\n",
       "    </tr>\n",
       "  </tbody>\n",
       "</table>\n",
       "</div>"
      ],
      "text/plain": [
       "        RECORD_TIME\n",
       "0  2021-08-19 17:30\n",
       "1  2021-08-19 17:00"
      ]
     },
     "execution_count": 3,
     "metadata": {},
     "output_type": "execute_result"
    }
   ],
   "source": [
    "timestamps"
   ]
  },
  {
   "cell_type": "code",
   "execution_count": 4,
   "id": "alternate-victory",
   "metadata": {
    "execution": {
     "iopub.execute_input": "2021-08-19T15:30:08.538612Z",
     "iopub.status.busy": "2021-08-19T15:30:08.536244Z",
     "iopub.status.idle": "2021-08-19T15:30:08.662997Z",
     "shell.execute_reply": "2021-08-19T15:30:08.664201Z"
    },
    "papermill": {
     "duration": 0.157049,
     "end_time": "2021-08-19T15:30:08.664597",
     "exception": false,
     "start_time": "2021-08-19T15:30:08.507548",
     "status": "completed"
    },
    "tags": []
   },
   "outputs": [],
   "source": [
    "df = pd.read_sql(\"select * from EBAY_TOP_BERLIN where record_time in (select distinct record_time from EBAY_TOP_BERLIN order by record_time desc limit 2)\", sqlite3.connect(\"UsedObjects.db\"))"
   ]
  },
  {
   "cell_type": "code",
   "execution_count": 5,
   "id": "popular-active",
   "metadata": {
    "execution": {
     "iopub.execute_input": "2021-08-19T15:30:08.735583Z",
     "iopub.status.busy": "2021-08-19T15:30:08.723407Z",
     "iopub.status.idle": "2021-08-19T15:30:08.750897Z",
     "shell.execute_reply": "2021-08-19T15:30:08.752106Z"
    },
    "papermill": {
     "duration": 0.067566,
     "end_time": "2021-08-19T15:30:08.752506",
     "exception": false,
     "start_time": "2021-08-19T15:30:08.684940",
     "status": "completed"
    },
    "tags": []
   },
   "outputs": [],
   "source": [
    "df_pivot = df.pivot_table(index=\"PRODUCT\", columns = \"RECORD_TIME\", values = \"LISTING_COUNT\")"
   ]
  },
  {
   "cell_type": "code",
   "execution_count": 6,
   "id": "union-huntington",
   "metadata": {
    "execution": {
     "iopub.execute_input": "2021-08-19T15:30:08.809580Z",
     "iopub.status.busy": "2021-08-19T15:30:08.807548Z",
     "iopub.status.idle": "2021-08-19T15:30:08.812746Z",
     "shell.execute_reply": "2021-08-19T15:30:08.814177Z"
    },
    "papermill": {
     "duration": 0.040666,
     "end_time": "2021-08-19T15:30:08.814634",
     "exception": false,
     "start_time": "2021-08-19T15:30:08.773968",
     "status": "completed"
    },
    "tags": []
   },
   "outputs": [],
   "source": [
    "df_pivot.columns = [\"stamp_1\", \"stamp_2\"]\n",
    "df_pivot_diff = df_pivot.diff(axis=1)"
   ]
  },
  {
   "cell_type": "code",
   "execution_count": 7,
   "id": "fifth-motion",
   "metadata": {
    "execution": {
     "iopub.execute_input": "2021-08-19T15:30:08.871012Z",
     "iopub.status.busy": "2021-08-19T15:30:08.868275Z",
     "iopub.status.idle": "2021-08-19T15:30:10.336816Z",
     "shell.execute_reply": "2021-08-19T15:30:10.338278Z"
    },
    "papermill": {
     "duration": 1.50236,
     "end_time": "2021-08-19T15:30:10.338757",
     "exception": false,
     "start_time": "2021-08-19T15:30:08.836397",
     "status": "completed"
    },
    "tags": []
   },
   "outputs": [
    {
     "data": {
      "text/plain": [
       "<AxesSubplot:ylabel='PRODUCT'>"
      ]
     },
     "execution_count": 7,
     "metadata": {},
     "output_type": "execute_result"
    },
    {
     "data": {
      "image/png": "[encoded data removed]",
      "text/plain": [
       "<Figure size 432x288 with 1 Axes>"
      ]
     },
     "metadata": {
      "needs_background": "light"
     },
     "output_type": "display_data"
    }
   ],
   "source": [
    "df_pivot_diff.sort_values(\"stamp_2\", ascending = False)[\"stamp_2\"].head(10).plot.barh()"
   ]
  },
  {
   "cell_type": "code",
   "execution_count": null,
   "id": "extra-executive",
   "metadata": {
    "papermill": {
     "duration": 0.022141,
     "end_time": "2021-08-19T15:30:10.385581",
     "exception": false,
     "start_time": "2021-08-19T15:30:10.363440",
     "status": "completed"
    },
    "tags": []
   },
   "outputs": [],
   "source": []
  }
 ],
 "metadata": {
  "kernelspec": {
   "display_name": "Python 3",
   "language": "python",
   "name": "python3"
  },
  "language_info": {
   "codemirror_mode": {
    "name": "ipython",
    "version": 3
   },
   "file_extension": ".py",
   "mimetype": "text/x-python",
   "name": "python",
   "nbconvert_exporter": "python",
   "pygments_lexer": "ipython3",
   "version": "3.9.5"
  },
  "papermill": {
   "default_parameters": {},
   "duration": 6.823191,
   "end_time": "2021-08-19T15:30:11.804201",
   "environment_variables": {},
   "exception": null,
   "input_path": "eBay_Overview.ipynb",
   "output_path": "eBay_Overview.ipynb",
   "parameters": {},
   "start_time": "2021-08-19T15:30:04.981010",
   "version": "2.3.3"
  }
 },
 "nbformat": 4,
 "nbformat_minor": 5
}