{
 "cells": [
  {
   "cell_type": "code",
   "execution_count": 1,
   "id": "reverse-picking",
   "metadata": {
    "execution": {
     "iopub.execute_input": "2021-08-15T15:00:06.835756Z",
     "iopub.status.busy": "2021-08-15T15:00:06.833698Z",
     "iopub.status.idle": "2021-08-15T15:00:07.644269Z",
     "shell.execute_reply": "2021-08-15T15:00:07.645536Z"
    },
    "papermill": {
     "duration": 0.863585,
     "end_time": "2021-08-15T15:00:07.646340",
     "exception": false,
     "start_time": "2021-08-15T15:00:06.782755",
     "status": "completed"
    },
    "tags": []
   },
   "outputs": [],
   "source": [
    "import pandas as pd\n",
    "import sqlite3"
   ]
  },
  {
   "cell_type": "code",
   "execution_count": 2,
   "id": "innovative-syndrome",
   "metadata": {
    "execution": {
     "iopub.execute_input": "2021-08-15T15:00:07.699381Z",
     "iopub.status.busy": "2021-08-15T15:00:07.696944Z",
     "iopub.status.idle": "2021-08-15T15:00:07.753198Z",
     "shell.execute_reply": "2021-08-15T15:00:07.754657Z"
    },
    "papermill": {
     "duration": 0.086526,
     "end_time": "2021-08-15T15:00:07.755076",
     "exception": false,
     "start_time": "2021-08-15T15:00:07.668550",
     "status": "completed"
    },
    "tags": []
   },
   "outputs": [],
   "source": [
    "timestamps = pd.read_sql(\"select distinct record_time from EBAY_TOP_BERLIN order by record_time desc limit 2\", sqlite3.connect(\"UsedObjects.db\"))"
   ]
  },
  {
   "cell_type": "code",
   "execution_count": 3,
   "id": "periodic-identification",
   "metadata": {
    "execution": {
     "iopub.execute_input": "2021-08-15T15:00:07.823375Z",
     "iopub.status.busy": "2021-08-15T15:00:07.818224Z",
     "iopub.status.idle": "2021-08-15T15:00:07.838503Z",
     "shell.execute_reply": "2021-08-15T15:00:07.839725Z"
    },
    "papermill": {
     "duration": 0.065902,
     "end_time": "2021-08-15T15:00:07.840151",
     "exception": false,
     "start_time": "2021-08-15T15:00:07.774249",
     "status": "completed"
    },
    "tags": []
   },
   "outputs": [
    {
     "data": {
      "text/html": [
       "<div>\n",
       "<style scoped>\n",
       "    .dataframe tbody tr th:only-of-type {\n",
       "        vertical-align: middle;\n",
       "    }\n",
       "\n",
       "    .dataframe tbody tr th {\n",
       "        vertical-align: top;\n",
       "    }\n",
       "\n",
       "    .dataframe thead th {\n",
       "        text-align: right;\n",
       "    }\n",
       "</style>\n",
       "<table border=\"1\" class=\"dataframe\">\n",
       "  <thead>\n",
       "    <tr style=\"text-align: right;\">\n",
       "      <th></th>\n",
       "      <th>RECORD_TIME</th>\n",
       "    </tr>\n",
       "  </thead>\n",
       "  <tbody>\n",
       "    <tr>\n",
       "      <th>0</th>\n",
       "      <td>2021-08-15 17:00</td>\n",
       "    </tr>\n",
       "    <tr>\n",
       "      <th>1</th>\n",
       "      <td>2021-08-15 16:30</td>\n",
       "    </tr>\n",
       "  </tbody>\n",
       "</table>\n",
       "</div>"
      ],
      "text/plain": [
       "        RECORD_TIME\n",
       "0  2021-08-15 17:00\n",
       "1  2021-08-15 16:30"
      ]
     },
     "execution_count": 3,
     "metadata": {},
     "output_type": "execute_result"
    }
   ],
   "source": [
    "timestamps"
   ]
  },
  {
   "cell_type": "code",
   "execution_count": 4,
   "id": "alternate-victory",
   "metadata": {
    "execution": {
     "iopub.execute_input": "2021-08-15T15:00:07.890802Z",
     "iopub.status.busy": "2021-08-15T15:00:07.888815Z",
     "iopub.status.idle": "2021-08-15T15:00:07.968220Z",
     "shell.execute_reply": "2021-08-15T15:00:07.969437Z"
    },
    "papermill": {
     "duration": 0.109317,
     "end_time": "2021-08-15T15:00:07.969833",
     "exception": false,
     "start_time": "2021-08-15T15:00:07.860516",
     "status": "completed"
    },
    "tags": []
   },
   "outputs": [],
   "source": [
    "df = pd.read_sql(\"select * from EBAY_TOP_BERLIN where record_time in (select distinct record_time from EBAY_TOP_BERLIN order by record_time desc limit 2)\", sqlite3.connect(\"UsedObjects.db\"))"
   ]
  },
  {
   "cell_type": "code",
   "execution_count": 5,
   "id": "popular-active",
   "metadata": {
    "execution": {
     "iopub.execute_input": "2021-08-15T15:00:08.035988Z",
     "iopub.status.busy": "2021-08-15T15:00:08.028231Z",
     "iopub.status.idle": "2021-08-15T15:00:08.056505Z",
     "shell.execute_reply": "2021-08-15T15:00:08.057801Z"
    },
    "papermill": {
     "duration": 0.067909,
     "end_time": "2021-08-15T15:00:08.058268",
     "exception": false,
     "start_time": "2021-08-15T15:00:07.990359",
     "status": "completed"
    },
    "tags": []
   },
   "outputs": [],
   "source": [
    "df_pivot = df.pivot_table(index=\"PRODUCT\", columns = \"RECORD_TIME\", values = \"LISTING_COUNT\")"
   ]
  },
  {
   "cell_type": "code",
   "execution_count": 6,
   "id": "union-huntington",
   "metadata": {
    "execution": {
     "iopub.execute_input": "2021-08-15T15:00:08.114327Z",
     "iopub.status.busy": "2021-08-15T15:00:08.112173Z",
     "iopub.status.idle": "2021-08-15T15:00:08.117509Z",
     "shell.execute_reply": "2021-08-15T15:00:08.118867Z"
    },
    "papermill": {
     "duration": 0.041009,
     "end_time": "2021-08-15T15:00:08.119283",
     "exception": false,
     "start_time": "2021-08-15T15:00:08.078274",
     "status": "completed"
    },
    "tags": []
   },
   "outputs": [],
   "source": [
    "df_pivot.columns = [\"stamp_1\", \"stamp_2\"]\n",
    "df_pivot_diff = df_pivot.diff(axis=1)"
   ]
  },
  {
   "cell_type": "code",
   "execution_count": 7,
   "id": "fifth-motion",
   "metadata": {
    "execution": {
     "iopub.execute_input": "2021-08-15T15:00:08.173433Z",
     "iopub.status.busy": "2021-08-15T15:00:08.170984Z",
     "iopub.status.idle": "2021-08-15T15:00:09.674055Z",
     "shell.execute_reply": "2021-08-15T15:00:09.675378Z"
    },
    "papermill": {
     "duration": 1.536082,
     "end_time": "2021-08-15T15:00:09.675795",
     "exception": false,
     "start_time": "2021-08-15T15:00:08.139713",
     "status": "completed"
    },
    "tags": []
   },
   "outputs": [
    {
     "data": {
      "text/plain": [
       "<AxesSubplot:ylabel='PRODUCT'>"
      ]
     },
     "execution_count": 7,
     "metadata": {},
     "output_type": "execute_result"
    },
    {
     "data": {
      "image/png": "[encoded data removed]",
      "text/plain": [
       "<Figure size 432x288 with 1 Axes>"
      ]
     },
     "metadata": {
      "needs_background": "light"
     },
     "output_type": "display_data"
    }
   ],
   "source": [
    "df_pivot_diff.sort_values(\"stamp_2\", ascending = False)[\"stamp_2\"].head(10).plot.barh()"
   ]
  },
  {
   "cell_type": "code",
   "execution_count": null,
   "id": "extra-executive",
   "metadata": {
    "papermill": {
     "duration": 0.022313,
     "end_time": "2021-08-15T15:00:09.722116",
     "exception": false,
     "start_time": "2021-08-15T15:00:09.699803",
     "status": "completed"
    },
    "tags": []
   },
   "outputs": [],
   "source": []
  }
 ],
 "metadata": {
  "kernelspec": {
   "display_name": "Python 3",
   "language": "python",
   "name": "python3"
  },
  "language_info": {
   "codemirror_mode": {
    "name": "ipython",
    "version": 3
   },
   "file_extension": ".py",
   "mimetype": "text/x-python",
   "name": "python",
   "nbconvert_exporter": "python",
   "pygments_lexer": "ipython3",
   "version": "3.9.5"
  },
  "papermill": {
   "default_parameters": {},
   "duration": 6.833229,
   "end_time": "2021-08-15T15:00:11.188134",
   "environment_variables": {},
   "exception": null,
   "input_path": "eBay_Overview.ipynb",
   "output_path": "eBay_Overview.ipynb",
   "parameters": {},
   "start_time": "2021-08-15T15:00:04.354905",
   "version": "2.3.3"
  }
 },
 "nbformat": 4,
 "nbformat_minor": 5
}