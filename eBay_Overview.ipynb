{
 "cells": [
  {
   "cell_type": "code",
   "execution_count": 1,
   "id": "reverse-picking",
   "metadata": {
    "execution": {
     "iopub.execute_input": "2021-11-25T00:00:08.007769Z",
     "iopub.status.busy": "2021-11-25T00:00:08.005560Z",
     "iopub.status.idle": "2021-11-25T00:00:08.962346Z",
     "shell.execute_reply": "2021-11-25T00:00:08.963882Z"
    },
    "papermill": {
     "duration": 1.00696,
     "end_time": "2021-11-25T00:00:08.964644",
     "exception": false,
     "start_time": "2021-11-25T00:00:07.957684",
     "status": "completed"
    },
    "tags": []
   },
   "outputs": [],
   "source": [
    "import pandas as pd\n",
    "import sqlite3"
   ]
  },
  {
   "cell_type": "code",
   "execution_count": 2,
   "id": "innovative-syndrome",
   "metadata": {
    "execution": {
     "iopub.execute_input": "2021-11-25T00:00:09.086111Z",
     "iopub.status.busy": "2021-11-25T00:00:09.083625Z",
     "iopub.status.idle": "2021-11-25T00:00:09.989239Z",
     "shell.execute_reply": "2021-11-25T00:00:09.990729Z"
    },
    "papermill": {
     "duration": 0.940273,
     "end_time": "2021-11-25T00:00:09.991183",
     "exception": false,
     "start_time": "2021-11-25T00:00:09.050910",
     "status": "completed"
    },
    "tags": []
   },
   "outputs": [],
   "source": [
    "timestamps = pd.read_sql(\"select distinct record_time from EBAY_TOP_BERLIN order by record_time desc limit 2\", sqlite3.connect(\"UsedObjects.db\"))"
   ]
  },
  {
   "cell_type": "code",
   "execution_count": 3,
   "id": "periodic-identification",
   "metadata": {
    "execution": {
     "iopub.execute_input": "2021-11-25T00:00:10.061742Z",
     "iopub.status.busy": "2021-11-25T00:00:10.059376Z",
     "iopub.status.idle": "2021-11-25T00:00:10.082002Z",
     "shell.execute_reply": "2021-11-25T00:00:10.083536Z"
    },
    "papermill": {
     "duration": 0.072045,
     "end_time": "2021-11-25T00:00:10.084040",
     "exception": false,
     "start_time": "2021-11-25T00:00:10.011995",
     "status": "completed"
    },
    "tags": []
   },
   "outputs": [
    {
     "data": {
      "text/html": [
       "<div>\n",
       "<style scoped>\n",
       "    .dataframe tbody tr th:only-of-type {\n",
       "        vertical-align: middle;\n",
       "    }\n",
       "\n",
       "    .dataframe tbody tr th {\n",
       "        vertical-align: top;\n",
       "    }\n",
       "\n",
       "    .dataframe thead th {\n",
       "        text-align: right;\n",
       "    }\n",
       "</style>\n",
       "<table border=\"1\" class=\"dataframe\">\n",
       "  <thead>\n",
       "    <tr style=\"text-align: right;\">\n",
       "      <th></th>\n",
       "      <th>RECORD_TIME</th>\n",
       "    </tr>\n",
       "  </thead>\n",
       "  <tbody>\n",
       "    <tr>\n",
       "      <th>0</th>\n",
       "      <td>2021-11-25 01:00</td>\n",
       "    </tr>\n",
       "    <tr>\n",
       "      <th>1</th>\n",
       "      <td>2021-11-25 00:30</td>\n",
       "    </tr>\n",
       "  </tbody>\n",
       "</table>\n",
       "</div>"
      ],
      "text/plain": [
       "        RECORD_TIME\n",
       "0  2021-11-25 01:00\n",
       "1  2021-11-25 00:30"
      ]
     },
     "execution_count": 3,
     "metadata": {},
     "output_type": "execute_result"
    }
   ],
   "source": [
    "timestamps"
   ]
  },
  {
   "cell_type": "code",
   "execution_count": 4,
   "id": "alternate-victory",
   "metadata": {
    "execution": {
     "iopub.execute_input": "2021-11-25T00:00:10.140282Z",
     "iopub.status.busy": "2021-11-25T00:00:10.138057Z",
     "iopub.status.idle": "2021-11-25T00:00:11.479853Z",
     "shell.execute_reply": "2021-11-25T00:00:11.482210Z"
    },
    "papermill": {
     "duration": 1.37718,
     "end_time": "2021-11-25T00:00:11.482703",
     "exception": false,
     "start_time": "2021-11-25T00:00:10.105523",
     "status": "completed"
    },
    "tags": []
   },
   "outputs": [],
   "source": [
    "df = pd.read_sql(\"select * from EBAY_TOP_BERLIN where record_time in (select distinct record_time from EBAY_TOP_BERLIN order by record_time desc limit 2)\", sqlite3.connect(\"UsedObjects.db\"))"
   ]
  },
  {
   "cell_type": "code",
   "execution_count": 5,
   "id": "popular-active",
   "metadata": {
    "execution": {
     "iopub.execute_input": "2021-11-25T00:00:11.589247Z",
     "iopub.status.busy": "2021-11-25T00:00:11.573588Z",
     "iopub.status.idle": "2021-11-25T00:00:11.609719Z",
     "shell.execute_reply": "2021-11-25T00:00:11.611236Z"
    },
    "papermill": {
     "duration": 0.103607,
     "end_time": "2021-11-25T00:00:11.611751",
     "exception": false,
     "start_time": "2021-11-25T00:00:11.508144",
     "status": "completed"
    },
    "tags": []
   },
   "outputs": [],
   "source": [
    "df_pivot = df.pivot_table(index=\"PRODUCT\", columns = \"RECORD_TIME\", values = \"LISTING_COUNT\")"
   ]
  },
  {
   "cell_type": "code",
   "execution_count": 6,
   "id": "union-huntington",
   "metadata": {
    "execution": {
     "iopub.execute_input": "2021-11-25T00:00:11.673401Z",
     "iopub.status.busy": "2021-11-25T00:00:11.671196Z",
     "iopub.status.idle": "2021-11-25T00:00:11.676658Z",
     "shell.execute_reply": "2021-11-25T00:00:11.678314Z"
    },
    "papermill": {
     "duration": 0.045181,
     "end_time": "2021-11-25T00:00:11.678867",
     "exception": false,
     "start_time": "2021-11-25T00:00:11.633686",
     "status": "completed"
    },
    "tags": []
   },
   "outputs": [],
   "source": [
    "df_pivot.columns = [\"stamp_1\", \"stamp_2\"]\n",
    "df_pivot_diff = df_pivot.diff(axis=1)"
   ]
  },
  {
   "cell_type": "code",
   "execution_count": 7,
   "id": "fifth-motion",
   "metadata": {
    "execution": {
     "iopub.execute_input": "2021-11-25T00:00:11.736653Z",
     "iopub.status.busy": "2021-11-25T00:00:11.733919Z",
     "iopub.status.idle": "2021-11-25T00:00:13.633888Z",
     "shell.execute_reply": "2021-11-25T00:00:13.631699Z"
    },
    "papermill": {
     "duration": 1.93443,
     "end_time": "2021-11-25T00:00:13.634438",
     "exception": false,
     "start_time": "2021-11-25T00:00:11.700008",
     "status": "completed"
    },
    "tags": []
   },
   "outputs": [
    {
     "data": {
      "text/plain": [
       "<AxesSubplot:ylabel='PRODUCT'>"
      ]
     },
     "execution_count": 7,
     "metadata": {},
     "output_type": "execute_result"
    },
    {
     "data": {
      "image/png": "[encoded data removed]",
      "text/plain": [
       "<Figure size 432x288 with 1 Axes>"
      ]
     },
     "metadata": {
      "needs_background": "light"
     },
     "output_type": "display_data"
    }
   ],
   "source": [
    "df_pivot_diff.sort_values(\"stamp_2\", ascending = False)[\"stamp_2\"].head(10).plot.barh()"
   ]
  },
  {
   "cell_type": "code",
   "execution_count": null,
   "id": "extra-executive",
   "metadata": {
    "papermill": {
     "duration": 0.027856,
     "end_time": "2021-11-25T00:00:13.691013",
     "exception": false,
     "start_time": "2021-11-25T00:00:13.663157",
     "status": "completed"
    },
    "tags": []
   },
   "outputs": [],
   "source": []
  }
 ],
 "metadata": {
  "kernelspec": {
   "display_name": "Python 3",
   "language": "python",
   "name": "python3"
  },
  "language_info": {
   "codemirror_mode": {
    "name": "ipython",
    "version": 3
   },
   "file_extension": ".py",
   "mimetype": "text/x-python",
   "name": "python",
   "nbconvert_exporter": "python",
   "pygments_lexer": "ipython3",
   "version": "3.9.5"
  },
  "papermill": {
   "default_parameters": {},
   "duration": 9.989627,
   "end_time": "2021-11-25T00:00:15.146769",
   "environment_variables": {},
   "exception": null,
   "input_path": "eBay_Overview.ipynb",
   "output_path": "eBay_Overview.ipynb",
   "parameters": {},
   "start_time": "2021-11-25T00:00:05.157142",
   "version": "2.3.3"
  }
 },
 "nbformat": 4,
 "nbformat_minor": 5
}