{
 "cells": [
  {
   "cell_type": "code",
   "execution_count": 1,
   "id": "reverse-picking",
   "metadata": {
    "execution": {
     "iopub.execute_input": "2021-11-06T03:30:08.125971Z",
     "iopub.status.busy": "2021-11-06T03:30:08.123685Z",
     "iopub.status.idle": "2021-11-06T03:30:09.086347Z",
     "shell.execute_reply": "2021-11-06T03:30:09.088065Z"
    },
    "papermill": {
     "duration": 1.012368,
     "end_time": "2021-11-06T03:30:09.088902",
     "exception": false,
     "start_time": "2021-11-06T03:30:08.076534",
     "status": "completed"
    },
    "tags": []
   },
   "outputs": [],
   "source": [
    "import pandas as pd\n",
    "import sqlite3"
   ]
  },
  {
   "cell_type": "code",
   "execution_count": 2,
   "id": "innovative-syndrome",
   "metadata": {
    "execution": {
     "iopub.execute_input": "2021-11-06T03:30:09.210453Z",
     "iopub.status.busy": "2021-11-06T03:30:09.207997Z",
     "iopub.status.idle": "2021-11-06T03:30:09.958803Z",
     "shell.execute_reply": "2021-11-06T03:30:09.960228Z"
    },
    "papermill": {
     "duration": 0.784873,
     "end_time": "2021-11-06T03:30:09.960733",
     "exception": false,
     "start_time": "2021-11-06T03:30:09.175860",
     "status": "completed"
    },
    "tags": []
   },
   "outputs": [],
   "source": [
    "timestamps = pd.read_sql(\"select distinct record_time from EBAY_TOP_BERLIN order by record_time desc limit 2\", sqlite3.connect(\"UsedObjects.db\"))"
   ]
  },
  {
   "cell_type": "code",
   "execution_count": 3,
   "id": "periodic-identification",
   "metadata": {
    "execution": {
     "iopub.execute_input": "2021-11-06T03:30:10.029796Z",
     "iopub.status.busy": "2021-11-06T03:30:10.027325Z",
     "iopub.status.idle": "2021-11-06T03:30:10.049860Z",
     "shell.execute_reply": "2021-11-06T03:30:10.051224Z"
    },
    "papermill": {
     "duration": 0.071226,
     "end_time": "2021-11-06T03:30:10.051699",
     "exception": false,
     "start_time": "2021-11-06T03:30:09.980473",
     "status": "completed"
    },
    "tags": []
   },
   "outputs": [
    {
     "data": {
      "text/html": [
       "<div>\n",
       "<style scoped>\n",
       "    .dataframe tbody tr th:only-of-type {\n",
       "        vertical-align: middle;\n",
       "    }\n",
       "\n",
       "    .dataframe tbody tr th {\n",
       "        vertical-align: top;\n",
       "    }\n",
       "\n",
       "    .dataframe thead th {\n",
       "        text-align: right;\n",
       "    }\n",
       "</style>\n",
       "<table border=\"1\" class=\"dataframe\">\n",
       "  <thead>\n",
       "    <tr style=\"text-align: right;\">\n",
       "      <th></th>\n",
       "      <th>RECORD_TIME</th>\n",
       "    </tr>\n",
       "  </thead>\n",
       "  <tbody>\n",
       "    <tr>\n",
       "      <th>0</th>\n",
       "      <td>2021-11-06 04:30</td>\n",
       "    </tr>\n",
       "    <tr>\n",
       "      <th>1</th>\n",
       "      <td>2021-11-06 04:00</td>\n",
       "    </tr>\n",
       "  </tbody>\n",
       "</table>\n",
       "</div>"
      ],
      "text/plain": [
       "        RECORD_TIME\n",
       "0  2021-11-06 04:30\n",
       "1  2021-11-06 04:00"
      ]
     },
     "execution_count": 3,
     "metadata": {},
     "output_type": "execute_result"
    }
   ],
   "source": [
    "timestamps"
   ]
  },
  {
   "cell_type": "code",
   "execution_count": 4,
   "id": "alternate-victory",
   "metadata": {
    "execution": {
     "iopub.execute_input": "2021-11-06T03:30:10.105445Z",
     "iopub.status.busy": "2021-11-06T03:30:10.103285Z",
     "iopub.status.idle": "2021-11-06T03:30:11.172088Z",
     "shell.execute_reply": "2021-11-06T03:30:11.173850Z"
    },
    "papermill": {
     "duration": 1.102606,
     "end_time": "2021-11-06T03:30:11.174811",
     "exception": false,
     "start_time": "2021-11-06T03:30:10.072205",
     "status": "completed"
    },
    "tags": []
   },
   "outputs": [],
   "source": [
    "df = pd.read_sql(\"select * from EBAY_TOP_BERLIN where record_time in (select distinct record_time from EBAY_TOP_BERLIN order by record_time desc limit 2)\", sqlite3.connect(\"UsedObjects.db\"))"
   ]
  },
  {
   "cell_type": "code",
   "execution_count": 5,
   "id": "popular-active",
   "metadata": {
    "execution": {
     "iopub.execute_input": "2021-11-06T03:30:11.254224Z",
     "iopub.status.busy": "2021-11-06T03:30:11.239169Z",
     "iopub.status.idle": "2021-11-06T03:30:11.274841Z",
     "shell.execute_reply": "2021-11-06T03:30:11.276310Z"
    },
    "papermill": {
     "duration": 0.080456,
     "end_time": "2021-11-06T03:30:11.276838",
     "exception": false,
     "start_time": "2021-11-06T03:30:11.196382",
     "status": "completed"
    },
    "tags": []
   },
   "outputs": [],
   "source": [
    "df_pivot = df.pivot_table(index=\"PRODUCT\", columns = \"RECORD_TIME\", values = \"LISTING_COUNT\")"
   ]
  },
  {
   "cell_type": "code",
   "execution_count": 6,
   "id": "union-huntington",
   "metadata": {
    "execution": {
     "iopub.execute_input": "2021-11-06T03:30:11.339770Z",
     "iopub.status.busy": "2021-11-06T03:30:11.337516Z",
     "iopub.status.idle": "2021-11-06T03:30:11.343422Z",
     "shell.execute_reply": "2021-11-06T03:30:11.345115Z"
    },
    "papermill": {
     "duration": 0.047199,
     "end_time": "2021-11-06T03:30:11.345624",
     "exception": false,
     "start_time": "2021-11-06T03:30:11.298425",
     "status": "completed"
    },
    "tags": []
   },
   "outputs": [],
   "source": [
    "df_pivot.columns = [\"stamp_1\", \"stamp_2\"]\n",
    "df_pivot_diff = df_pivot.diff(axis=1)"
   ]
  },
  {
   "cell_type": "code",
   "execution_count": 7,
   "id": "fifth-motion",
   "metadata": {
    "execution": {
     "iopub.execute_input": "2021-11-06T03:30:11.406844Z",
     "iopub.status.busy": "2021-11-06T03:30:11.404321Z",
     "iopub.status.idle": "2021-11-06T03:30:13.254570Z",
     "shell.execute_reply": "2021-11-06T03:30:13.256038Z"
    },
    "papermill": {
     "duration": 1.888115,
     "end_time": "2021-11-06T03:30:13.256496",
     "exception": false,
     "start_time": "2021-11-06T03:30:11.368381",
     "status": "completed"
    },
    "tags": []
   },
   "outputs": [
    {
     "data": {
      "text/plain": [
       "<AxesSubplot:ylabel='PRODUCT'>"
      ]
     },
     "execution_count": 7,
     "metadata": {},
     "output_type": "execute_result"
    },
    {
     "data": {
      "image/png": "[encoded data removed]",
      "text/plain": [
       "<Figure size 432x288 with 1 Axes>"
      ]
     },
     "metadata": {
      "needs_background": "light"
     },
     "output_type": "display_data"
    }
   ],
   "source": [
    "df_pivot_diff.sort_values(\"stamp_2\", ascending = False)[\"stamp_2\"].head(10).plot.barh()"
   ]
  },
  {
   "cell_type": "code",
   "execution_count": null,
   "id": "extra-executive",
   "metadata": {
    "papermill": {
     "duration": 0.027167,
     "end_time": "2021-11-06T03:30:13.307702",
     "exception": false,
     "start_time": "2021-11-06T03:30:13.280535",
     "status": "completed"
    },
    "tags": []
   },
   "outputs": [],
   "source": []
  }
 ],
 "metadata": {
  "kernelspec": {
   "display_name": "Python 3",
   "language": "python",
   "name": "python3"
  },
  "language_info": {
   "codemirror_mode": {
    "name": "ipython",
    "version": 3
   },
   "file_extension": ".py",
   "mimetype": "text/x-python",
   "name": "python",
   "nbconvert_exporter": "python",
   "pygments_lexer": "ipython3",
   "version": "3.9.5"
  },
  "papermill": {
   "default_parameters": {},
   "duration": 9.982577,
   "end_time": "2021-11-06T03:30:15.251931",
   "environment_variables": {},
   "exception": null,
   "input_path": "eBay_Overview.ipynb",
   "output_path": "eBay_Overview.ipynb",
   "parameters": {},
   "start_time": "2021-11-06T03:30:05.269354",
   "version": "2.3.3"
  }
 },
 "nbformat": 4,
 "nbformat_minor": 5
}