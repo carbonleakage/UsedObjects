{
 "cells": [
  {
   "cell_type": "code",
   "execution_count": 1,
   "id": "reverse-picking",
   "metadata": {
    "execution": {
     "iopub.execute_input": "2021-12-08T20:00:08.060669Z",
     "iopub.status.busy": "2021-12-08T20:00:08.058323Z",
     "iopub.status.idle": "2021-12-08T20:00:09.002836Z",
     "shell.execute_reply": "2021-12-08T20:00:09.004222Z"
    },
    "papermill": {
     "duration": 0.992969,
     "end_time": "2021-12-08T20:00:09.004973",
     "exception": false,
     "start_time": "2021-12-08T20:00:08.012004",
     "status": "completed"
    },
    "tags": []
   },
   "outputs": [],
   "source": [
    "import pandas as pd\n",
    "import sqlite3"
   ]
  },
  {
   "cell_type": "code",
   "execution_count": 2,
   "id": "innovative-syndrome",
   "metadata": {
    "execution": {
     "iopub.execute_input": "2021-12-08T20:00:09.066571Z",
     "iopub.status.busy": "2021-12-08T20:00:09.064278Z",
     "iopub.status.idle": "2021-12-08T20:00:10.092426Z",
     "shell.execute_reply": "2021-12-08T20:00:10.095078Z"
    },
    "papermill": {
     "duration": 1.064206,
     "end_time": "2021-12-08T20:00:10.095882",
     "exception": false,
     "start_time": "2021-12-08T20:00:09.031676",
     "status": "completed"
    },
    "tags": []
   },
   "outputs": [],
   "source": [
    "timestamps = pd.read_sql(\"select distinct record_time from EBAY_TOP_BERLIN order by record_time desc limit 2\", sqlite3.connect(\"UsedObjects.db\"))"
   ]
  },
  {
   "cell_type": "code",
   "execution_count": 3,
   "id": "periodic-identification",
   "metadata": {
    "execution": {
     "iopub.execute_input": "2021-12-08T20:00:10.188548Z",
     "iopub.status.busy": "2021-12-08T20:00:10.186217Z",
     "iopub.status.idle": "2021-12-08T20:00:10.208638Z",
     "shell.execute_reply": "2021-12-08T20:00:10.210259Z"
    },
    "papermill": {
     "duration": 0.083475,
     "end_time": "2021-12-08T20:00:10.210784",
     "exception": false,
     "start_time": "2021-12-08T20:00:10.127309",
     "status": "completed"
    },
    "tags": []
   },
   "outputs": [
    {
     "data": {
      "text/html": [
       "<div>\n",
       "<style scoped>\n",
       "    .dataframe tbody tr th:only-of-type {\n",
       "        vertical-align: middle;\n",
       "    }\n",
       "\n",
       "    .dataframe tbody tr th {\n",
       "        vertical-align: top;\n",
       "    }\n",
       "\n",
       "    .dataframe thead th {\n",
       "        text-align: right;\n",
       "    }\n",
       "</style>\n",
       "<table border=\"1\" class=\"dataframe\">\n",
       "  <thead>\n",
       "    <tr style=\"text-align: right;\">\n",
       "      <th></th>\n",
       "      <th>RECORD_TIME</th>\n",
       "    </tr>\n",
       "  </thead>\n",
       "  <tbody>\n",
       "    <tr>\n",
       "      <th>0</th>\n",
       "      <td>2021-12-08 21:00</td>\n",
       "    </tr>\n",
       "    <tr>\n",
       "      <th>1</th>\n",
       "      <td>2021-12-08 20:30</td>\n",
       "    </tr>\n",
       "  </tbody>\n",
       "</table>\n",
       "</div>"
      ],
      "text/plain": [
       "        RECORD_TIME\n",
       "0  2021-12-08 21:00\n",
       "1  2021-12-08 20:30"
      ]
     },
     "execution_count": 3,
     "metadata": {},
     "output_type": "execute_result"
    }
   ],
   "source": [
    "timestamps"
   ]
  },
  {
   "cell_type": "code",
   "execution_count": 4,
   "id": "alternate-victory",
   "metadata": {
    "execution": {
     "iopub.execute_input": "2021-12-08T20:00:10.267853Z",
     "iopub.status.busy": "2021-12-08T20:00:10.265335Z",
     "iopub.status.idle": "2021-12-08T20:00:11.767941Z",
     "shell.execute_reply": "2021-12-08T20:00:11.765498Z"
    },
    "papermill": {
     "duration": 1.534806,
     "end_time": "2021-12-08T20:00:11.768484",
     "exception": false,
     "start_time": "2021-12-08T20:00:10.233678",
     "status": "completed"
    },
    "tags": []
   },
   "outputs": [],
   "source": [
    "df = pd.read_sql(\"select * from EBAY_TOP_BERLIN where record_time in (select distinct record_time from EBAY_TOP_BERLIN order by record_time desc limit 2)\", sqlite3.connect(\"UsedObjects.db\"))"
   ]
  },
  {
   "cell_type": "code",
   "execution_count": 5,
   "id": "popular-active",
   "metadata": {
    "execution": {
     "iopub.execute_input": "2021-12-08T20:00:11.891652Z",
     "iopub.status.busy": "2021-12-08T20:00:11.880327Z",
     "iopub.status.idle": "2021-12-08T20:00:11.915403Z",
     "shell.execute_reply": "2021-12-08T20:00:11.917401Z"
    },
    "papermill": {
     "duration": 0.116727,
     "end_time": "2021-12-08T20:00:11.917983",
     "exception": false,
     "start_time": "2021-12-08T20:00:11.801256",
     "status": "completed"
    },
    "tags": []
   },
   "outputs": [],
   "source": [
    "df_pivot = df.pivot_table(index=\"PRODUCT\", columns = \"RECORD_TIME\", values = \"LISTING_COUNT\")"
   ]
  },
  {
   "cell_type": "code",
   "execution_count": 6,
   "id": "union-huntington",
   "metadata": {
    "execution": {
     "iopub.execute_input": "2021-12-08T20:00:12.008217Z",
     "iopub.status.busy": "2021-12-08T20:00:12.004862Z",
     "iopub.status.idle": "2021-12-08T20:00:12.013633Z",
     "shell.execute_reply": "2021-12-08T20:00:12.016343Z"
    },
    "papermill": {
     "duration": 0.071206,
     "end_time": "2021-12-08T20:00:12.017255",
     "exception": false,
     "start_time": "2021-12-08T20:00:11.946049",
     "status": "completed"
    },
    "tags": []
   },
   "outputs": [],
   "source": [
    "df_pivot.columns = [\"stamp_1\", \"stamp_2\"]\n",
    "df_pivot_diff = df_pivot.diff(axis=1)"
   ]
  },
  {
   "cell_type": "code",
   "execution_count": 7,
   "id": "fifth-motion",
   "metadata": {
    "execution": {
     "iopub.execute_input": "2021-12-08T20:00:12.094490Z",
     "iopub.status.busy": "2021-12-08T20:00:12.091253Z",
     "iopub.status.idle": "2021-12-08T20:00:13.771898Z",
     "shell.execute_reply": "2021-12-08T20:00:13.773271Z"
    },
    "papermill": {
     "duration": 1.724427,
     "end_time": "2021-12-08T20:00:13.773699",
     "exception": false,
     "start_time": "2021-12-08T20:00:12.049272",
     "status": "completed"
    },
    "tags": []
   },
   "outputs": [
    {
     "data": {
      "text/plain": [
       "<AxesSubplot:ylabel='PRODUCT'>"
      ]
     },
     "execution_count": 7,
     "metadata": {},
     "output_type": "execute_result"
    },
    {
     "data": {
      "image/png": "[encoded data removed]",
      "text/plain": [
       "<Figure size 432x288 with 1 Axes>"
      ]
     },
     "metadata": {
      "needs_background": "light"
     },
     "output_type": "display_data"
    }
   ],
   "source": [
    "df_pivot_diff.sort_values(\"stamp_2\", ascending = False)[\"stamp_2\"].head(10).plot.barh()"
   ]
  },
  {
   "cell_type": "code",
   "execution_count": null,
   "id": "extra-executive",
   "metadata": {
    "papermill": {
     "duration": 0.022116,
     "end_time": "2021-12-08T20:00:13.820567",
     "exception": false,
     "start_time": "2021-12-08T20:00:13.798451",
     "status": "completed"
    },
    "tags": []
   },
   "outputs": [],
   "source": []
  }
 ],
 "metadata": {
  "kernelspec": {
   "display_name": "Python 3",
   "language": "python",
   "name": "python3"
  },
  "language_info": {
   "codemirror_mode": {
    "name": "ipython",
    "version": 3
   },
   "file_extension": ".py",
   "mimetype": "text/x-python",
   "name": "python",
   "nbconvert_exporter": "python",
   "pygments_lexer": "ipython3",
   "version": "3.9.5"
  },
  "papermill": {
   "default_parameters": {},
   "duration": 9.949043,
   "end_time": "2021-12-08T20:00:15.237215",
   "environment_variables": {},
   "exception": null,
   "input_path": "eBay_Overview.ipynb",
   "output_path": "eBay_Overview.ipynb",
   "parameters": {},
   "start_time": "2021-12-08T20:00:05.288172",
   "version": "2.3.3"
  }
 },
 "nbformat": 4,
 "nbformat_minor": 5
}