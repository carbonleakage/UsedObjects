{
 "cells": [
  {
   "cell_type": "code",
   "execution_count": 1,
   "id": "reverse-picking",
   "metadata": {
    "execution": {
     "iopub.execute_input": "2021-12-04T21:30:08.677731Z",
     "iopub.status.busy": "2021-12-04T21:30:08.675254Z",
     "iopub.status.idle": "2021-12-04T21:30:09.646399Z",
     "shell.execute_reply": "2021-12-04T21:30:09.647996Z"
    },
    "papermill": {
     "duration": 1.021186,
     "end_time": "2021-12-04T21:30:09.648791",
     "exception": false,
     "start_time": "2021-12-04T21:30:08.627605",
     "status": "completed"
    },
    "tags": []
   },
   "outputs": [],
   "source": [
    "import pandas as pd\n",
    "import sqlite3"
   ]
  },
  {
   "cell_type": "code",
   "execution_count": 2,
   "id": "innovative-syndrome",
   "metadata": {
    "execution": {
     "iopub.execute_input": "2021-12-04T21:30:09.769570Z",
     "iopub.status.busy": "2021-12-04T21:30:09.766790Z",
     "iopub.status.idle": "2021-12-04T21:30:10.755388Z",
     "shell.execute_reply": "2021-12-04T21:30:10.757199Z"
    },
    "papermill": {
     "duration": 1.022745,
     "end_time": "2021-12-04T21:30:10.757719",
     "exception": false,
     "start_time": "2021-12-04T21:30:09.734974",
     "status": "completed"
    },
    "tags": []
   },
   "outputs": [],
   "source": [
    "timestamps = pd.read_sql(\"select distinct record_time from EBAY_TOP_BERLIN order by record_time desc limit 2\", sqlite3.connect(\"UsedObjects.db\"))"
   ]
  },
  {
   "cell_type": "code",
   "execution_count": 3,
   "id": "periodic-identification",
   "metadata": {
    "execution": {
     "iopub.execute_input": "2021-12-04T21:30:10.831106Z",
     "iopub.status.busy": "2021-12-04T21:30:10.828583Z",
     "iopub.status.idle": "2021-12-04T21:30:10.853080Z",
     "shell.execute_reply": "2021-12-04T21:30:10.854654Z"
    },
    "papermill": {
     "duration": 0.076155,
     "end_time": "2021-12-04T21:30:10.855157",
     "exception": false,
     "start_time": "2021-12-04T21:30:10.779002",
     "status": "completed"
    },
    "tags": []
   },
   "outputs": [
    {
     "data": {
      "text/html": [
       "<div>\n",
       "<style scoped>\n",
       "    .dataframe tbody tr th:only-of-type {\n",
       "        vertical-align: middle;\n",
       "    }\n",
       "\n",
       "    .dataframe tbody tr th {\n",
       "        vertical-align: top;\n",
       "    }\n",
       "\n",
       "    .dataframe thead th {\n",
       "        text-align: right;\n",
       "    }\n",
       "</style>\n",
       "<table border=\"1\" class=\"dataframe\">\n",
       "  <thead>\n",
       "    <tr style=\"text-align: right;\">\n",
       "      <th></th>\n",
       "      <th>RECORD_TIME</th>\n",
       "    </tr>\n",
       "  </thead>\n",
       "  <tbody>\n",
       "    <tr>\n",
       "      <th>0</th>\n",
       "      <td>2021-12-04 22:30</td>\n",
       "    </tr>\n",
       "    <tr>\n",
       "      <th>1</th>\n",
       "      <td>2021-12-04 22:00</td>\n",
       "    </tr>\n",
       "  </tbody>\n",
       "</table>\n",
       "</div>"
      ],
      "text/plain": [
       "        RECORD_TIME\n",
       "0  2021-12-04 22:30\n",
       "1  2021-12-04 22:00"
      ]
     },
     "execution_count": 3,
     "metadata": {},
     "output_type": "execute_result"
    }
   ],
   "source": [
    "timestamps"
   ]
  },
  {
   "cell_type": "code",
   "execution_count": 4,
   "id": "alternate-victory",
   "metadata": {
    "execution": {
     "iopub.execute_input": "2021-12-04T21:30:10.912091Z",
     "iopub.status.busy": "2021-12-04T21:30:10.909849Z",
     "iopub.status.idle": "2021-12-04T21:30:12.342728Z",
     "shell.execute_reply": "2021-12-04T21:30:12.344223Z"
    },
    "papermill": {
     "duration": 1.467476,
     "end_time": "2021-12-04T21:30:12.344810",
     "exception": false,
     "start_time": "2021-12-04T21:30:10.877334",
     "status": "completed"
    },
    "tags": []
   },
   "outputs": [],
   "source": [
    "df = pd.read_sql(\"select * from EBAY_TOP_BERLIN where record_time in (select distinct record_time from EBAY_TOP_BERLIN order by record_time desc limit 2)\", sqlite3.connect(\"UsedObjects.db\"))"
   ]
  },
  {
   "cell_type": "code",
   "execution_count": 5,
   "id": "popular-active",
   "metadata": {
    "execution": {
     "iopub.execute_input": "2021-12-04T21:30:12.418903Z",
     "iopub.status.busy": "2021-12-04T21:30:12.406066Z",
     "iopub.status.idle": "2021-12-04T21:30:12.437946Z",
     "shell.execute_reply": "2021-12-04T21:30:12.439571Z"
    },
    "papermill": {
     "duration": 0.074487,
     "end_time": "2021-12-04T21:30:12.440103",
     "exception": false,
     "start_time": "2021-12-04T21:30:12.365616",
     "status": "completed"
    },
    "tags": []
   },
   "outputs": [],
   "source": [
    "df_pivot = df.pivot_table(index=\"PRODUCT\", columns = \"RECORD_TIME\", values = \"LISTING_COUNT\")"
   ]
  },
  {
   "cell_type": "code",
   "execution_count": 6,
   "id": "union-huntington",
   "metadata": {
    "execution": {
     "iopub.execute_input": "2021-12-04T21:30:12.502548Z",
     "iopub.status.busy": "2021-12-04T21:30:12.500155Z",
     "iopub.status.idle": "2021-12-04T21:30:12.505778Z",
     "shell.execute_reply": "2021-12-04T21:30:12.507310Z"
    },
    "papermill": {
     "duration": 0.04621,
     "end_time": "2021-12-04T21:30:12.507812",
     "exception": false,
     "start_time": "2021-12-04T21:30:12.461602",
     "status": "completed"
    },
    "tags": []
   },
   "outputs": [],
   "source": [
    "df_pivot.columns = [\"stamp_1\", \"stamp_2\"]\n",
    "df_pivot_diff = df_pivot.diff(axis=1)"
   ]
  },
  {
   "cell_type": "code",
   "execution_count": 7,
   "id": "fifth-motion",
   "metadata": {
    "execution": {
     "iopub.execute_input": "2021-12-04T21:30:12.567444Z",
     "iopub.status.busy": "2021-12-04T21:30:12.564905Z",
     "iopub.status.idle": "2021-12-04T21:30:14.547076Z",
     "shell.execute_reply": "2021-12-04T21:30:14.548473Z"
    },
    "papermill": {
     "duration": 2.019475,
     "end_time": "2021-12-04T21:30:14.549002",
     "exception": false,
     "start_time": "2021-12-04T21:30:12.529527",
     "status": "completed"
    },
    "tags": []
   },
   "outputs": [
    {
     "data": {
      "text/plain": [
       "<AxesSubplot:ylabel='PRODUCT'>"
      ]
     },
     "execution_count": 7,
     "metadata": {},
     "output_type": "execute_result"
    },
    {
     "data": {
      "image/png": "[encoded data removed]",
      "text/plain": [
       "<Figure size 432x288 with 1 Axes>"
      ]
     },
     "metadata": {
      "needs_background": "light"
     },
     "output_type": "display_data"
    }
   ],
   "source": [
    "df_pivot_diff.sort_values(\"stamp_2\", ascending = False)[\"stamp_2\"].head(10).plot.barh()"
   ]
  },
  {
   "cell_type": "code",
   "execution_count": null,
   "id": "extra-executive",
   "metadata": {
    "papermill": {
     "duration": 0.022214,
     "end_time": "2021-12-04T21:30:14.595478",
     "exception": false,
     "start_time": "2021-12-04T21:30:14.573264",
     "status": "completed"
    },
    "tags": []
   },
   "outputs": [],
   "source": []
  }
 ],
 "metadata": {
  "kernelspec": {
   "display_name": "Python 3",
   "language": "python",
   "name": "python3"
  },
  "language_info": {
   "codemirror_mode": {
    "name": "ipython",
    "version": 3
   },
   "file_extension": ".py",
   "mimetype": "text/x-python",
   "name": "python",
   "nbconvert_exporter": "python",
   "pygments_lexer": "ipython3",
   "version": "3.9.5"
  },
  "papermill": {
   "default_parameters": {},
   "duration": 9.945945,
   "end_time": "2021-12-04T21:30:15.808284",
   "environment_variables": {},
   "exception": null,
   "input_path": "eBay_Overview.ipynb",
   "output_path": "eBay_Overview.ipynb",
   "parameters": {},
   "start_time": "2021-12-04T21:30:05.862339",
   "version": "2.3.3"
  }
 },
 "nbformat": 4,
 "nbformat_minor": 5
}