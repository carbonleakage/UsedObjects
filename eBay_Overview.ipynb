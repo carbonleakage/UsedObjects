{
 "cells": [
  {
   "cell_type": "code",
   "execution_count": 1,
   "id": "reverse-picking",
   "metadata": {
    "execution": {
     "iopub.execute_input": "2021-12-19T20:00:08.676986Z",
     "iopub.status.busy": "2021-12-19T20:00:08.674500Z",
     "iopub.status.idle": "2021-12-19T20:00:09.640026Z",
     "shell.execute_reply": "2021-12-19T20:00:09.641645Z"
    },
    "papermill": {
     "duration": 1.016308,
     "end_time": "2021-12-19T20:00:09.642347",
     "exception": false,
     "start_time": "2021-12-19T20:00:08.626039",
     "status": "completed"
    },
    "tags": []
   },
   "outputs": [],
   "source": [
    "import pandas as pd\n",
    "import sqlite3"
   ]
  },
  {
   "cell_type": "code",
   "execution_count": 2,
   "id": "innovative-syndrome",
   "metadata": {
    "execution": {
     "iopub.execute_input": "2021-12-19T20:00:09.705157Z",
     "iopub.status.busy": "2021-12-19T20:00:09.702581Z",
     "iopub.status.idle": "2021-12-19T20:00:10.833737Z",
     "shell.execute_reply": "2021-12-19T20:00:10.835236Z"
    },
    "papermill": {
     "duration": 1.164827,
     "end_time": "2021-12-19T20:00:10.835745",
     "exception": false,
     "start_time": "2021-12-19T20:00:09.670918",
     "status": "completed"
    },
    "tags": []
   },
   "outputs": [],
   "source": [
    "timestamps = pd.read_sql(\"select distinct record_time from EBAY_TOP_BERLIN order by record_time desc limit 2\", sqlite3.connect(\"UsedObjects.db\"))"
   ]
  },
  {
   "cell_type": "code",
   "execution_count": 3,
   "id": "periodic-identification",
   "metadata": {
    "execution": {
     "iopub.execute_input": "2021-12-19T20:00:10.909794Z",
     "iopub.status.busy": "2021-12-19T20:00:10.907197Z",
     "iopub.status.idle": "2021-12-19T20:00:10.929893Z",
     "shell.execute_reply": "2021-12-19T20:00:10.931379Z"
    },
    "papermill": {
     "duration": 0.075624,
     "end_time": "2021-12-19T20:00:10.931881",
     "exception": false,
     "start_time": "2021-12-19T20:00:10.856257",
     "status": "completed"
    },
    "tags": []
   },
   "outputs": [
    {
     "data": {
      "text/html": [
       "<div>\n",
       "<style scoped>\n",
       "    .dataframe tbody tr th:only-of-type {\n",
       "        vertical-align: middle;\n",
       "    }\n",
       "\n",
       "    .dataframe tbody tr th {\n",
       "        vertical-align: top;\n",
       "    }\n",
       "\n",
       "    .dataframe thead th {\n",
       "        text-align: right;\n",
       "    }\n",
       "</style>\n",
       "<table border=\"1\" class=\"dataframe\">\n",
       "  <thead>\n",
       "    <tr style=\"text-align: right;\">\n",
       "      <th></th>\n",
       "      <th>RECORD_TIME</th>\n",
       "    </tr>\n",
       "  </thead>\n",
       "  <tbody>\n",
       "    <tr>\n",
       "      <th>0</th>\n",
       "      <td>2021-12-19 21:00</td>\n",
       "    </tr>\n",
       "    <tr>\n",
       "      <th>1</th>\n",
       "      <td>2021-12-19 20:30</td>\n",
       "    </tr>\n",
       "  </tbody>\n",
       "</table>\n",
       "</div>"
      ],
      "text/plain": [
       "        RECORD_TIME\n",
       "0  2021-12-19 21:00\n",
       "1  2021-12-19 20:30"
      ]
     },
     "execution_count": 3,
     "metadata": {},
     "output_type": "execute_result"
    }
   ],
   "source": [
    "timestamps"
   ]
  },
  {
   "cell_type": "code",
   "execution_count": 4,
   "id": "alternate-victory",
   "metadata": {
    "execution": {
     "iopub.execute_input": "2021-12-19T20:00:10.989801Z",
     "iopub.status.busy": "2021-12-19T20:00:10.987473Z",
     "iopub.status.idle": "2021-12-19T20:00:12.683222Z",
     "shell.execute_reply": "2021-12-19T20:00:12.685375Z"
    },
    "papermill": {
     "duration": 1.730597,
     "end_time": "2021-12-19T20:00:12.685846",
     "exception": false,
     "start_time": "2021-12-19T20:00:10.955249",
     "status": "completed"
    },
    "tags": []
   },
   "outputs": [],
   "source": [
    "df = pd.read_sql(\"select * from EBAY_TOP_BERLIN where record_time in (select distinct record_time from EBAY_TOP_BERLIN order by record_time desc limit 2)\", sqlite3.connect(\"UsedObjects.db\"))"
   ]
  },
  {
   "cell_type": "code",
   "execution_count": 5,
   "id": "popular-active",
   "metadata": {
    "execution": {
     "iopub.execute_input": "2021-12-19T20:00:12.773352Z",
     "iopub.status.busy": "2021-12-19T20:00:12.767525Z",
     "iopub.status.idle": "2021-12-19T20:00:12.826969Z",
     "shell.execute_reply": "2021-12-19T20:00:12.828894Z"
    },
    "papermill": {
     "duration": 0.122187,
     "end_time": "2021-12-19T20:00:12.829503",
     "exception": false,
     "start_time": "2021-12-19T20:00:12.707316",
     "status": "completed"
    },
    "tags": []
   },
   "outputs": [],
   "source": [
    "df_pivot = df.pivot_table(index=\"PRODUCT\", columns = \"RECORD_TIME\", values = \"LISTING_COUNT\")"
   ]
  },
  {
   "cell_type": "code",
   "execution_count": 6,
   "id": "union-huntington",
   "metadata": {
    "execution": {
     "iopub.execute_input": "2021-12-19T20:00:12.923228Z",
     "iopub.status.busy": "2021-12-19T20:00:12.920069Z",
     "iopub.status.idle": "2021-12-19T20:00:12.932745Z",
     "shell.execute_reply": "2021-12-19T20:00:12.929693Z"
    },
    "papermill": {
     "duration": 0.070211,
     "end_time": "2021-12-19T20:00:12.933476",
     "exception": false,
     "start_time": "2021-12-19T20:00:12.863265",
     "status": "completed"
    },
    "tags": []
   },
   "outputs": [],
   "source": [
    "df_pivot.columns = [\"stamp_1\", \"stamp_2\"]\n",
    "df_pivot_diff = df_pivot.diff(axis=1)"
   ]
  },
  {
   "cell_type": "code",
   "execution_count": 7,
   "id": "fifth-motion",
   "metadata": {
    "execution": {
     "iopub.execute_input": "2021-12-19T20:00:13.028483Z",
     "iopub.status.busy": "2021-12-19T20:00:13.023004Z",
     "iopub.status.idle": "2021-12-19T20:00:14.788322Z",
     "shell.execute_reply": "2021-12-19T20:00:14.789609Z"
    },
    "papermill": {
     "duration": 1.822088,
     "end_time": "2021-12-19T20:00:14.790055",
     "exception": false,
     "start_time": "2021-12-19T20:00:12.967967",
     "status": "completed"
    },
    "tags": []
   },
   "outputs": [
    {
     "data": {
      "text/plain": [
       "<AxesSubplot:ylabel='PRODUCT'>"
      ]
     },
     "execution_count": 7,
     "metadata": {},
     "output_type": "execute_result"
    },
    {
     "data": {
      "image/png": "[encoded data removed]",
      "text/plain": [
       "<Figure size 432x288 with 1 Axes>"
      ]
     },
     "metadata": {
      "needs_background": "light"
     },
     "output_type": "display_data"
    }
   ],
   "source": [
    "df_pivot_diff.sort_values(\"stamp_2\", ascending = False)[\"stamp_2\"].head(10).plot.barh()"
   ]
  },
  {
   "cell_type": "code",
   "execution_count": null,
   "id": "extra-executive",
   "metadata": {
    "papermill": {
     "duration": 0.02754,
     "end_time": "2021-12-19T20:00:14.852184",
     "exception": false,
     "start_time": "2021-12-19T20:00:14.824644",
     "status": "completed"
    },
    "tags": []
   },
   "outputs": [],
   "source": []
  }
 ],
 "metadata": {
  "kernelspec": {
   "display_name": "Python 3",
   "language": "python",
   "name": "python3"
  },
  "language_info": {
   "codemirror_mode": {
    "name": "ipython",
    "version": 3
   },
   "file_extension": ".py",
   "mimetype": "text/x-python",
   "name": "python",
   "nbconvert_exporter": "python",
   "pygments_lexer": "ipython3",
   "version": "3.9.5"
  },
  "papermill": {
   "default_parameters": {},
   "duration": 9.64211,
   "end_time": "2021-12-19T20:00:15.496335",
   "environment_variables": {},
   "exception": null,
   "input_path": "eBay_Overview.ipynb",
   "output_path": "eBay_Overview.ipynb",
   "parameters": {},
   "start_time": "2021-12-19T20:00:05.854225",
   "version": "2.3.3"
  }
 },
 "nbformat": 4,
 "nbformat_minor": 5
}