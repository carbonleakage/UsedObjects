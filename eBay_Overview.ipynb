{
 "cells": [
  {
   "cell_type": "code",
   "execution_count": 1,
   "id": "reverse-picking",
   "metadata": {
    "execution": {
     "iopub.execute_input": "2021-10-22T04:00:06.862621Z",
     "iopub.status.busy": "2021-10-22T04:00:06.860564Z",
     "iopub.status.idle": "2021-10-22T04:00:07.670830Z",
     "shell.execute_reply": "2021-10-22T04:00:07.669161Z"
    },
    "papermill": {
     "duration": 0.860788,
     "end_time": "2021-10-22T04:00:07.671225",
     "exception": false,
     "start_time": "2021-10-22T04:00:06.810437",
     "status": "completed"
    },
    "tags": []
   },
   "outputs": [],
   "source": [
    "import pandas as pd\n",
    "import sqlite3"
   ]
  },
  {
   "cell_type": "code",
   "execution_count": 2,
   "id": "innovative-syndrome",
   "metadata": {
    "execution": {
     "iopub.execute_input": "2021-10-22T04:00:07.721610Z",
     "iopub.status.busy": "2021-10-22T04:00:07.719632Z",
     "iopub.status.idle": "2021-10-22T04:00:08.332956Z",
     "shell.execute_reply": "2021-10-22T04:00:08.334264Z"
    },
    "papermill": {
     "duration": 0.64321,
     "end_time": "2021-10-22T04:00:08.334722",
     "exception": false,
     "start_time": "2021-10-22T04:00:07.691512",
     "status": "completed"
    },
    "tags": []
   },
   "outputs": [],
   "source": [
    "timestamps = pd.read_sql(\"select distinct record_time from EBAY_TOP_BERLIN order by record_time desc limit 2\", sqlite3.connect(\"UsedObjects.db\"))"
   ]
  },
  {
   "cell_type": "code",
   "execution_count": 3,
   "id": "periodic-identification",
   "metadata": {
    "execution": {
     "iopub.execute_input": "2021-10-22T04:00:08.418160Z",
     "iopub.status.busy": "2021-10-22T04:00:08.412887Z",
     "iopub.status.idle": "2021-10-22T04:00:08.434867Z",
     "shell.execute_reply": "2021-10-22T04:00:08.436093Z"
    },
    "papermill": {
     "duration": 0.07292,
     "end_time": "2021-10-22T04:00:08.436498",
     "exception": false,
     "start_time": "2021-10-22T04:00:08.363578",
     "status": "completed"
    },
    "tags": []
   },
   "outputs": [
    {
     "data": {
      "text/html": [
       "<div>\n",
       "<style scoped>\n",
       "    .dataframe tbody tr th:only-of-type {\n",
       "        vertical-align: middle;\n",
       "    }\n",
       "\n",
       "    .dataframe tbody tr th {\n",
       "        vertical-align: top;\n",
       "    }\n",
       "\n",
       "    .dataframe thead th {\n",
       "        text-align: right;\n",
       "    }\n",
       "</style>\n",
       "<table border=\"1\" class=\"dataframe\">\n",
       "  <thead>\n",
       "    <tr style=\"text-align: right;\">\n",
       "      <th></th>\n",
       "      <th>RECORD_TIME</th>\n",
       "    </tr>\n",
       "  </thead>\n",
       "  <tbody>\n",
       "    <tr>\n",
       "      <th>0</th>\n",
       "      <td>2021-10-22 06:00</td>\n",
       "    </tr>\n",
       "    <tr>\n",
       "      <th>1</th>\n",
       "      <td>2021-10-22 05:30</td>\n",
       "    </tr>\n",
       "  </tbody>\n",
       "</table>\n",
       "</div>"
      ],
      "text/plain": [
       "        RECORD_TIME\n",
       "0  2021-10-22 06:00\n",
       "1  2021-10-22 05:30"
      ]
     },
     "execution_count": 3,
     "metadata": {},
     "output_type": "execute_result"
    }
   ],
   "source": [
    "timestamps"
   ]
  },
  {
   "cell_type": "code",
   "execution_count": 4,
   "id": "alternate-victory",
   "metadata": {
    "execution": {
     "iopub.execute_input": "2021-10-22T04:00:08.489679Z",
     "iopub.status.busy": "2021-10-22T04:00:08.487303Z",
     "iopub.status.idle": "2021-10-22T04:00:09.405204Z",
     "shell.execute_reply": "2021-10-22T04:00:09.406569Z"
    },
    "papermill": {
     "duration": 0.948462,
     "end_time": "2021-10-22T04:00:09.406977",
     "exception": false,
     "start_time": "2021-10-22T04:00:08.458515",
     "status": "completed"
    },
    "tags": []
   },
   "outputs": [],
   "source": [
    "df = pd.read_sql(\"select * from EBAY_TOP_BERLIN where record_time in (select distinct record_time from EBAY_TOP_BERLIN order by record_time desc limit 2)\", sqlite3.connect(\"UsedObjects.db\"))"
   ]
  },
  {
   "cell_type": "code",
   "execution_count": 5,
   "id": "popular-active",
   "metadata": {
    "execution": {
     "iopub.execute_input": "2021-10-22T04:00:09.478076Z",
     "iopub.status.busy": "2021-10-22T04:00:09.465786Z",
     "iopub.status.idle": "2021-10-22T04:00:09.493572Z",
     "shell.execute_reply": "2021-10-22T04:00:09.494812Z"
    },
    "papermill": {
     "duration": 0.067648,
     "end_time": "2021-10-22T04:00:09.495210",
     "exception": false,
     "start_time": "2021-10-22T04:00:09.427562",
     "status": "completed"
    },
    "tags": []
   },
   "outputs": [],
   "source": [
    "df_pivot = df.pivot_table(index=\"PRODUCT\", columns = \"RECORD_TIME\", values = \"LISTING_COUNT\")"
   ]
  },
  {
   "cell_type": "code",
   "execution_count": 6,
   "id": "union-huntington",
   "metadata": {
    "execution": {
     "iopub.execute_input": "2021-10-22T04:00:09.551980Z",
     "iopub.status.busy": "2021-10-22T04:00:09.549829Z",
     "iopub.status.idle": "2021-10-22T04:00:09.555396Z",
     "shell.execute_reply": "2021-10-22T04:00:09.556997Z"
    },
    "papermill": {
     "duration": 0.041303,
     "end_time": "2021-10-22T04:00:09.557466",
     "exception": false,
     "start_time": "2021-10-22T04:00:09.516163",
     "status": "completed"
    },
    "tags": []
   },
   "outputs": [],
   "source": [
    "df_pivot.columns = [\"stamp_1\", \"stamp_2\"]\n",
    "df_pivot_diff = df_pivot.diff(axis=1)"
   ]
  },
  {
   "cell_type": "code",
   "execution_count": 7,
   "id": "fifth-motion",
   "metadata": {
    "execution": {
     "iopub.execute_input": "2021-10-22T04:00:09.614543Z",
     "iopub.status.busy": "2021-10-22T04:00:09.612058Z",
     "iopub.status.idle": "2021-10-22T04:00:11.088135Z",
     "shell.execute_reply": "2021-10-22T04:00:11.089616Z"
    },
    "papermill": {
     "duration": 1.50977,
     "end_time": "2021-10-22T04:00:11.090074",
     "exception": false,
     "start_time": "2021-10-22T04:00:09.580304",
     "status": "completed"
    },
    "tags": []
   },
   "outputs": [
    {
     "data": {
      "text/plain": [
       "<AxesSubplot:ylabel='PRODUCT'>"
      ]
     },
     "execution_count": 7,
     "metadata": {},
     "output_type": "execute_result"
    },
    {
     "data": {
      "image/png": "[encoded data removed]",
      "text/plain": [
       "<Figure size 432x288 with 1 Axes>"
      ]
     },
     "metadata": {
      "needs_background": "light"
     },
     "output_type": "display_data"
    }
   ],
   "source": [
    "df_pivot_diff.sort_values(\"stamp_2\", ascending = False)[\"stamp_2\"].head(10).plot.barh()"
   ]
  },
  {
   "cell_type": "code",
   "execution_count": null,
   "id": "extra-executive",
   "metadata": {
    "papermill": {
     "duration": 0.022294,
     "end_time": "2021-10-22T04:00:11.137236",
     "exception": false,
     "start_time": "2021-10-22T04:00:11.114942",
     "status": "completed"
    },
    "tags": []
   },
   "outputs": [],
   "source": []
  }
 ],
 "metadata": {
  "kernelspec": {
   "display_name": "Python 3",
   "language": "python",
   "name": "python3"
  },
  "language_info": {
   "codemirror_mode": {
    "name": "ipython",
    "version": 3
   },
   "file_extension": ".py",
   "mimetype": "text/x-python",
   "name": "python",
   "nbconvert_exporter": "python",
   "pygments_lexer": "ipython3",
   "version": "3.9.5"
  },
  "papermill": {
   "default_parameters": {},
   "duration": 7.374341,
   "end_time": "2021-10-22T04:00:11.780320",
   "environment_variables": {},
   "exception": null,
   "input_path": "eBay_Overview.ipynb",
   "output_path": "eBay_Overview.ipynb",
   "parameters": {},
   "start_time": "2021-10-22T04:00:04.405979",
   "version": "2.3.3"
  }
 },
 "nbformat": 4,
 "nbformat_minor": 5
}