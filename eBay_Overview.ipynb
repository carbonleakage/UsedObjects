{
 "cells": [
  {
   "cell_type": "code",
   "execution_count": 1,
   "id": "reverse-picking",
   "metadata": {
    "execution": {
     "iopub.execute_input": "2021-11-24T01:30:07.579561Z",
     "iopub.status.busy": "2021-11-24T01:30:07.577268Z",
     "iopub.status.idle": "2021-11-24T01:30:08.532809Z",
     "shell.execute_reply": "2021-11-24T01:30:08.534398Z"
    },
    "papermill": {
     "duration": 1.003782,
     "end_time": "2021-11-24T01:30:08.535141",
     "exception": false,
     "start_time": "2021-11-24T01:30:07.531359",
     "status": "completed"
    },
    "tags": []
   },
   "outputs": [],
   "source": [
    "import pandas as pd\n",
    "import sqlite3"
   ]
  },
  {
   "cell_type": "code",
   "execution_count": 2,
   "id": "innovative-syndrome",
   "metadata": {
    "execution": {
     "iopub.execute_input": "2021-11-24T01:30:08.641096Z",
     "iopub.status.busy": "2021-11-24T01:30:08.638677Z",
     "iopub.status.idle": "2021-11-24T01:30:09.530816Z",
     "shell.execute_reply": "2021-11-24T01:30:09.533680Z"
    },
    "papermill": {
     "duration": 0.928564,
     "end_time": "2021-11-24T01:30:09.534305",
     "exception": false,
     "start_time": "2021-11-24T01:30:08.605741",
     "status": "completed"
    },
    "tags": []
   },
   "outputs": [],
   "source": [
    "timestamps = pd.read_sql(\"select distinct record_time from EBAY_TOP_BERLIN order by record_time desc limit 2\", sqlite3.connect(\"UsedObjects.db\"))"
   ]
  },
  {
   "cell_type": "code",
   "execution_count": 3,
   "id": "periodic-identification",
   "metadata": {
    "execution": {
     "iopub.execute_input": "2021-11-24T01:30:09.606606Z",
     "iopub.status.busy": "2021-11-24T01:30:09.604197Z",
     "iopub.status.idle": "2021-11-24T01:30:09.626585Z",
     "shell.execute_reply": "2021-11-24T01:30:09.628127Z"
    },
    "papermill": {
     "duration": 0.073606,
     "end_time": "2021-11-24T01:30:09.628628",
     "exception": false,
     "start_time": "2021-11-24T01:30:09.555022",
     "status": "completed"
    },
    "tags": []
   },
   "outputs": [
    {
     "data": {
      "text/html": [
       "<div>\n",
       "<style scoped>\n",
       "    .dataframe tbody tr th:only-of-type {\n",
       "        vertical-align: middle;\n",
       "    }\n",
       "\n",
       "    .dataframe tbody tr th {\n",
       "        vertical-align: top;\n",
       "    }\n",
       "\n",
       "    .dataframe thead th {\n",
       "        text-align: right;\n",
       "    }\n",
       "</style>\n",
       "<table border=\"1\" class=\"dataframe\">\n",
       "  <thead>\n",
       "    <tr style=\"text-align: right;\">\n",
       "      <th></th>\n",
       "      <th>RECORD_TIME</th>\n",
       "    </tr>\n",
       "  </thead>\n",
       "  <tbody>\n",
       "    <tr>\n",
       "      <th>0</th>\n",
       "      <td>2021-11-24 02:30</td>\n",
       "    </tr>\n",
       "    <tr>\n",
       "      <th>1</th>\n",
       "      <td>2021-11-24 02:00</td>\n",
       "    </tr>\n",
       "  </tbody>\n",
       "</table>\n",
       "</div>"
      ],
      "text/plain": [
       "        RECORD_TIME\n",
       "0  2021-11-24 02:30\n",
       "1  2021-11-24 02:00"
      ]
     },
     "execution_count": 3,
     "metadata": {},
     "output_type": "execute_result"
    }
   ],
   "source": [
    "timestamps"
   ]
  },
  {
   "cell_type": "code",
   "execution_count": 4,
   "id": "alternate-victory",
   "metadata": {
    "execution": {
     "iopub.execute_input": "2021-11-24T01:30:09.683513Z",
     "iopub.status.busy": "2021-11-24T01:30:09.681249Z",
     "iopub.status.idle": "2021-11-24T01:30:10.982532Z",
     "shell.execute_reply": "2021-11-24T01:30:10.984139Z"
    },
    "papermill": {
     "duration": 1.334721,
     "end_time": "2021-11-24T01:30:10.984644",
     "exception": false,
     "start_time": "2021-11-24T01:30:09.649923",
     "status": "completed"
    },
    "tags": []
   },
   "outputs": [],
   "source": [
    "df = pd.read_sql(\"select * from EBAY_TOP_BERLIN where record_time in (select distinct record_time from EBAY_TOP_BERLIN order by record_time desc limit 2)\", sqlite3.connect(\"UsedObjects.db\"))"
   ]
  },
  {
   "cell_type": "code",
   "execution_count": 5,
   "id": "popular-active",
   "metadata": {
    "execution": {
     "iopub.execute_input": "2021-11-24T01:30:11.064179Z",
     "iopub.status.busy": "2021-11-24T01:30:11.061389Z",
     "iopub.status.idle": "2021-11-24T01:30:11.081183Z",
     "shell.execute_reply": "2021-11-24T01:30:11.082505Z"
    },
    "papermill": {
     "duration": 0.075682,
     "end_time": "2021-11-24T01:30:11.082973",
     "exception": false,
     "start_time": "2021-11-24T01:30:11.007291",
     "status": "completed"
    },
    "tags": []
   },
   "outputs": [],
   "source": [
    "df_pivot = df.pivot_table(index=\"PRODUCT\", columns = \"RECORD_TIME\", values = \"LISTING_COUNT\")"
   ]
  },
  {
   "cell_type": "code",
   "execution_count": 6,
   "id": "union-huntington",
   "metadata": {
    "execution": {
     "iopub.execute_input": "2021-11-24T01:30:11.142982Z",
     "iopub.status.busy": "2021-11-24T01:30:11.140526Z",
     "iopub.status.idle": "2021-11-24T01:30:11.146395Z",
     "shell.execute_reply": "2021-11-24T01:30:11.147764Z"
    },
    "papermill": {
     "duration": 0.045345,
     "end_time": "2021-11-24T01:30:11.148277",
     "exception": false,
     "start_time": "2021-11-24T01:30:11.102932",
     "status": "completed"
    },
    "tags": []
   },
   "outputs": [],
   "source": [
    "df_pivot.columns = [\"stamp_1\", \"stamp_2\"]\n",
    "df_pivot_diff = df_pivot.diff(axis=1)"
   ]
  },
  {
   "cell_type": "code",
   "execution_count": 7,
   "id": "fifth-motion",
   "metadata": {
    "execution": {
     "iopub.execute_input": "2021-11-24T01:30:11.208152Z",
     "iopub.status.busy": "2021-11-24T01:30:11.205774Z",
     "iopub.status.idle": "2021-11-24T01:30:13.076624Z",
     "shell.execute_reply": "2021-11-24T01:30:13.074922Z"
    },
    "papermill": {
     "duration": 1.905835,
     "end_time": "2021-11-24T01:30:13.077098",
     "exception": false,
     "start_time": "2021-11-24T01:30:11.171263",
     "status": "completed"
    },
    "tags": []
   },
   "outputs": [
    {
     "data": {
      "text/plain": [
       "<AxesSubplot:ylabel='PRODUCT'>"
      ]
     },
     "execution_count": 7,
     "metadata": {},
     "output_type": "execute_result"
    },
    {
     "data": {
      "image/png": "[encoded data removed]",
      "text/plain": [
       "<Figure size 432x288 with 1 Axes>"
      ]
     },
     "metadata": {
      "needs_background": "light"
     },
     "output_type": "display_data"
    }
   ],
   "source": [
    "df_pivot_diff.sort_values(\"stamp_2\", ascending = False)[\"stamp_2\"].head(10).plot.barh()"
   ]
  },
  {
   "cell_type": "code",
   "execution_count": null,
   "id": "extra-executive",
   "metadata": {
    "papermill": {
     "duration": 0.023554,
     "end_time": "2021-11-24T01:30:13.125174",
     "exception": false,
     "start_time": "2021-11-24T01:30:13.101620",
     "status": "completed"
    },
    "tags": []
   },
   "outputs": [],
   "source": []
  }
 ],
 "metadata": {
  "kernelspec": {
   "display_name": "Python 3",
   "language": "python",
   "name": "python3"
  },
  "language_info": {
   "codemirror_mode": {
    "name": "ipython",
    "version": 3
   },
   "file_extension": ".py",
   "mimetype": "text/x-python",
   "name": "python",
   "nbconvert_exporter": "python",
   "pygments_lexer": "ipython3",
   "version": "3.9.5"
  },
  "papermill": {
   "default_parameters": {},
   "duration": 9.924905,
   "end_time": "2021-11-24T01:30:14.733829",
   "environment_variables": {},
   "exception": null,
   "input_path": "eBay_Overview.ipynb",
   "output_path": "eBay_Overview.ipynb",
   "parameters": {},
   "start_time": "2021-11-24T01:30:04.808924",
   "version": "2.3.3"
  }
 },
 "nbformat": 4,
 "nbformat_minor": 5
}