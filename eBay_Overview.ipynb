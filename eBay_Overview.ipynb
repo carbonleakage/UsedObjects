{
 "cells": [
  {
   "cell_type": "code",
   "execution_count": 1,
   "id": "reverse-picking",
   "metadata": {
    "execution": {
     "iopub.execute_input": "2021-09-26T08:30:07.460636Z",
     "iopub.status.busy": "2021-09-26T08:30:07.458616Z",
     "iopub.status.idle": "2021-09-26T08:30:08.264262Z",
     "shell.execute_reply": "2021-09-26T08:30:08.265487Z"
    },
    "papermill": {
     "duration": 0.85636,
     "end_time": "2021-09-26T08:30:08.266103",
     "exception": false,
     "start_time": "2021-09-26T08:30:07.409743",
     "status": "completed"
    },
    "tags": []
   },
   "outputs": [],
   "source": [
    "import pandas as pd\n",
    "import sqlite3"
   ]
  },
  {
   "cell_type": "code",
   "execution_count": 2,
   "id": "innovative-syndrome",
   "metadata": {
    "execution": {
     "iopub.execute_input": "2021-09-26T08:30:08.319019Z",
     "iopub.status.busy": "2021-09-26T08:30:08.316666Z",
     "iopub.status.idle": "2021-09-26T08:30:08.694968Z",
     "shell.execute_reply": "2021-09-26T08:30:08.696132Z"
    },
    "papermill": {
     "duration": 0.408203,
     "end_time": "2021-09-26T08:30:08.696548",
     "exception": false,
     "start_time": "2021-09-26T08:30:08.288345",
     "status": "completed"
    },
    "tags": []
   },
   "outputs": [],
   "source": [
    "timestamps = pd.read_sql(\"select distinct record_time from EBAY_TOP_BERLIN order by record_time desc limit 2\", sqlite3.connect(\"UsedObjects.db\"))"
   ]
  },
  {
   "cell_type": "code",
   "execution_count": 3,
   "id": "periodic-identification",
   "metadata": {
    "execution": {
     "iopub.execute_input": "2021-09-26T08:30:08.764760Z",
     "iopub.status.busy": "2021-09-26T08:30:08.762695Z",
     "iopub.status.idle": "2021-09-26T08:30:08.783080Z",
     "shell.execute_reply": "2021-09-26T08:30:08.784347Z"
    },
    "papermill": {
     "duration": 0.065781,
     "end_time": "2021-09-26T08:30:08.784802",
     "exception": false,
     "start_time": "2021-09-26T08:30:08.719021",
     "status": "completed"
    },
    "tags": []
   },
   "outputs": [
    {
     "data": {
      "text/html": [
       "<div>\n",
       "<style scoped>\n",
       "    .dataframe tbody tr th:only-of-type {\n",
       "        vertical-align: middle;\n",
       "    }\n",
       "\n",
       "    .dataframe tbody tr th {\n",
       "        vertical-align: top;\n",
       "    }\n",
       "\n",
       "    .dataframe thead th {\n",
       "        text-align: right;\n",
       "    }\n",
       "</style>\n",
       "<table border=\"1\" class=\"dataframe\">\n",
       "  <thead>\n",
       "    <tr style=\"text-align: right;\">\n",
       "      <th></th>\n",
       "      <th>RECORD_TIME</th>\n",
       "    </tr>\n",
       "  </thead>\n",
       "  <tbody>\n",
       "    <tr>\n",
       "      <th>0</th>\n",
       "      <td>2021-09-26 10:30</td>\n",
       "    </tr>\n",
       "    <tr>\n",
       "      <th>1</th>\n",
       "      <td>2021-09-26 10:00</td>\n",
       "    </tr>\n",
       "  </tbody>\n",
       "</table>\n",
       "</div>"
      ],
      "text/plain": [
       "        RECORD_TIME\n",
       "0  2021-09-26 10:30\n",
       "1  2021-09-26 10:00"
      ]
     },
     "execution_count": 3,
     "metadata": {},
     "output_type": "execute_result"
    }
   ],
   "source": [
    "timestamps"
   ]
  },
  {
   "cell_type": "code",
   "execution_count": 4,
   "id": "alternate-victory",
   "metadata": {
    "execution": {
     "iopub.execute_input": "2021-09-26T08:30:08.837215Z",
     "iopub.status.busy": "2021-09-26T08:30:08.835413Z",
     "iopub.status.idle": "2021-09-26T08:30:09.393669Z",
     "shell.execute_reply": "2021-09-26T08:30:09.394999Z"
    },
    "papermill": {
     "duration": 0.588873,
     "end_time": "2021-09-26T08:30:09.395436",
     "exception": false,
     "start_time": "2021-09-26T08:30:08.806563",
     "status": "completed"
    },
    "tags": []
   },
   "outputs": [],
   "source": [
    "df = pd.read_sql(\"select * from EBAY_TOP_BERLIN where record_time in (select distinct record_time from EBAY_TOP_BERLIN order by record_time desc limit 2)\", sqlite3.connect(\"UsedObjects.db\"))"
   ]
  },
  {
   "cell_type": "code",
   "execution_count": 5,
   "id": "popular-active",
   "metadata": {
    "execution": {
     "iopub.execute_input": "2021-09-26T08:30:09.476072Z",
     "iopub.status.busy": "2021-09-26T08:30:09.464171Z",
     "iopub.status.idle": "2021-09-26T08:30:09.493022Z",
     "shell.execute_reply": "2021-09-26T08:30:09.494469Z"
    },
    "papermill": {
     "duration": 0.073898,
     "end_time": "2021-09-26T08:30:09.495120",
     "exception": false,
     "start_time": "2021-09-26T08:30:09.421222",
     "status": "completed"
    },
    "tags": []
   },
   "outputs": [],
   "source": [
    "df_pivot = df.pivot_table(index=\"PRODUCT\", columns = \"RECORD_TIME\", values = \"LISTING_COUNT\")"
   ]
  },
  {
   "cell_type": "code",
   "execution_count": 6,
   "id": "union-huntington",
   "metadata": {
    "execution": {
     "iopub.execute_input": "2021-09-26T08:30:09.554380Z",
     "iopub.status.busy": "2021-09-26T08:30:09.551980Z",
     "iopub.status.idle": "2021-09-26T08:30:09.559387Z",
     "shell.execute_reply": "2021-09-26T08:30:09.557971Z"
    },
    "papermill": {
     "duration": 0.042387,
     "end_time": "2021-09-26T08:30:09.559747",
     "exception": false,
     "start_time": "2021-09-26T08:30:09.517360",
     "status": "completed"
    },
    "tags": []
   },
   "outputs": [],
   "source": [
    "df_pivot.columns = [\"stamp_1\", \"stamp_2\"]\n",
    "df_pivot_diff = df_pivot.diff(axis=1)"
   ]
  },
  {
   "cell_type": "code",
   "execution_count": 7,
   "id": "fifth-motion",
   "metadata": {
    "execution": {
     "iopub.execute_input": "2021-09-26T08:30:09.614086Z",
     "iopub.status.busy": "2021-09-26T08:30:09.611843Z",
     "iopub.status.idle": "2021-09-26T08:30:11.106362Z",
     "shell.execute_reply": "2021-09-26T08:30:11.107699Z"
    },
    "papermill": {
     "duration": 1.527754,
     "end_time": "2021-09-26T08:30:11.108119",
     "exception": false,
     "start_time": "2021-09-26T08:30:09.580365",
     "status": "completed"
    },
    "tags": []
   },
   "outputs": [
    {
     "data": {
      "text/plain": [
       "<AxesSubplot:ylabel='PRODUCT'>"
      ]
     },
     "execution_count": 7,
     "metadata": {},
     "output_type": "execute_result"
    },
    {
     "data": {
      "image/png": "[encoded data removed]",
      "text/plain": [
       "<Figure size 432x288 with 1 Axes>"
      ]
     },
     "metadata": {
      "needs_background": "light"
     },
     "output_type": "display_data"
    }
   ],
   "source": [
    "df_pivot_diff.sort_values(\"stamp_2\", ascending = False)[\"stamp_2\"].head(10).plot.barh()"
   ]
  },
  {
   "cell_type": "code",
   "execution_count": null,
   "id": "extra-executive",
   "metadata": {
    "papermill": {
     "duration": 0.022215,
     "end_time": "2021-09-26T08:30:11.155116",
     "exception": false,
     "start_time": "2021-09-26T08:30:11.132901",
     "status": "completed"
    },
    "tags": []
   },
   "outputs": [],
   "source": []
  }
 ],
 "metadata": {
  "kernelspec": {
   "display_name": "Python 3",
   "language": "python",
   "name": "python3"
  },
  "language_info": {
   "codemirror_mode": {
    "name": "ipython",
    "version": 3
   },
   "file_extension": ".py",
   "mimetype": "text/x-python",
   "name": "python",
   "nbconvert_exporter": "python",
   "pygments_lexer": "ipython3",
   "version": "3.9.5"
  },
  "papermill": {
   "default_parameters": {},
   "duration": 6.791862,
   "end_time": "2021-09-26T08:30:11.799052",
   "environment_variables": {},
   "exception": null,
   "input_path": "eBay_Overview.ipynb",
   "output_path": "eBay_Overview.ipynb",
   "parameters": {},
   "start_time": "2021-09-26T08:30:05.007190",
   "version": "2.3.3"
  }
 },
 "nbformat": 4,
 "nbformat_minor": 5
}