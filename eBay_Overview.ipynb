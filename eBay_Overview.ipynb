{
 "cells": [
  {
   "cell_type": "code",
   "execution_count": 1,
   "id": "reverse-picking",
   "metadata": {
    "execution": {
     "iopub.execute_input": "2021-10-26T16:30:07.210794Z",
     "iopub.status.busy": "2021-10-26T16:30:07.208863Z",
     "iopub.status.idle": "2021-10-26T16:30:08.015092Z",
     "shell.execute_reply": "2021-10-26T16:30:08.016338Z"
    },
    "papermill": {
     "duration": 0.857807,
     "end_time": "2021-10-26T16:30:08.017032",
     "exception": false,
     "start_time": "2021-10-26T16:30:07.159225",
     "status": "completed"
    },
    "tags": []
   },
   "outputs": [],
   "source": [
    "import pandas as pd\n",
    "import sqlite3"
   ]
  },
  {
   "cell_type": "code",
   "execution_count": 2,
   "id": "innovative-syndrome",
   "metadata": {
    "execution": {
     "iopub.execute_input": "2021-10-26T16:30:08.066899Z",
     "iopub.status.busy": "2021-10-26T16:30:08.065025Z",
     "iopub.status.idle": "2021-10-26T16:30:08.697448Z",
     "shell.execute_reply": "2021-10-26T16:30:08.698582Z"
    },
    "papermill": {
     "duration": 0.661783,
     "end_time": "2021-10-26T16:30:08.698986",
     "exception": false,
     "start_time": "2021-10-26T16:30:08.037203",
     "status": "completed"
    },
    "tags": []
   },
   "outputs": [],
   "source": [
    "timestamps = pd.read_sql(\"select distinct record_time from EBAY_TOP_BERLIN order by record_time desc limit 2\", sqlite3.connect(\"UsedObjects.db\"))"
   ]
  },
  {
   "cell_type": "code",
   "execution_count": 3,
   "id": "periodic-identification",
   "metadata": {
    "execution": {
     "iopub.execute_input": "2021-10-26T16:30:08.775414Z",
     "iopub.status.busy": "2021-10-26T16:30:08.773396Z",
     "iopub.status.idle": "2021-10-26T16:30:08.793449Z",
     "shell.execute_reply": "2021-10-26T16:30:08.794749Z"
    },
    "papermill": {
     "duration": 0.070403,
     "end_time": "2021-10-26T16:30:08.795158",
     "exception": false,
     "start_time": "2021-10-26T16:30:08.724755",
     "status": "completed"
    },
    "tags": []
   },
   "outputs": [
    {
     "data": {
      "text/html": [
       "<div>\n",
       "<style scoped>\n",
       "    .dataframe tbody tr th:only-of-type {\n",
       "        vertical-align: middle;\n",
       "    }\n",
       "\n",
       "    .dataframe tbody tr th {\n",
       "        vertical-align: top;\n",
       "    }\n",
       "\n",
       "    .dataframe thead th {\n",
       "        text-align: right;\n",
       "    }\n",
       "</style>\n",
       "<table border=\"1\" class=\"dataframe\">\n",
       "  <thead>\n",
       "    <tr style=\"text-align: right;\">\n",
       "      <th></th>\n",
       "      <th>RECORD_TIME</th>\n",
       "    </tr>\n",
       "  </thead>\n",
       "  <tbody>\n",
       "    <tr>\n",
       "      <th>0</th>\n",
       "      <td>2021-10-26 18:30</td>\n",
       "    </tr>\n",
       "    <tr>\n",
       "      <th>1</th>\n",
       "      <td>2021-10-26 18:00</td>\n",
       "    </tr>\n",
       "  </tbody>\n",
       "</table>\n",
       "</div>"
      ],
      "text/plain": [
       "        RECORD_TIME\n",
       "0  2021-10-26 18:30\n",
       "1  2021-10-26 18:00"
      ]
     },
     "execution_count": 3,
     "metadata": {},
     "output_type": "execute_result"
    }
   ],
   "source": [
    "timestamps"
   ]
  },
  {
   "cell_type": "code",
   "execution_count": 4,
   "id": "alternate-victory",
   "metadata": {
    "execution": {
     "iopub.execute_input": "2021-10-26T16:30:08.846177Z",
     "iopub.status.busy": "2021-10-26T16:30:08.844102Z",
     "iopub.status.idle": "2021-10-26T16:30:09.789132Z",
     "shell.execute_reply": "2021-10-26T16:30:09.790348Z"
    },
    "papermill": {
     "duration": 0.974724,
     "end_time": "2021-10-26T16:30:09.790741",
     "exception": false,
     "start_time": "2021-10-26T16:30:08.816017",
     "status": "completed"
    },
    "tags": []
   },
   "outputs": [],
   "source": [
    "df = pd.read_sql(\"select * from EBAY_TOP_BERLIN where record_time in (select distinct record_time from EBAY_TOP_BERLIN order by record_time desc limit 2)\", sqlite3.connect(\"UsedObjects.db\"))"
   ]
  },
  {
   "cell_type": "code",
   "execution_count": 5,
   "id": "popular-active",
   "metadata": {
    "execution": {
     "iopub.execute_input": "2021-10-26T16:30:09.861111Z",
     "iopub.status.busy": "2021-10-26T16:30:09.848464Z",
     "iopub.status.idle": "2021-10-26T16:30:09.878108Z",
     "shell.execute_reply": "2021-10-26T16:30:09.879400Z"
    },
    "papermill": {
     "duration": 0.068737,
     "end_time": "2021-10-26T16:30:09.879811",
     "exception": false,
     "start_time": "2021-10-26T16:30:09.811074",
     "status": "completed"
    },
    "tags": []
   },
   "outputs": [],
   "source": [
    "df_pivot = df.pivot_table(index=\"PRODUCT\", columns = \"RECORD_TIME\", values = \"LISTING_COUNT\")"
   ]
  },
  {
   "cell_type": "code",
   "execution_count": 6,
   "id": "union-huntington",
   "metadata": {
    "execution": {
     "iopub.execute_input": "2021-10-26T16:30:09.935680Z",
     "iopub.status.busy": "2021-10-26T16:30:09.933637Z",
     "iopub.status.idle": "2021-10-26T16:30:09.938859Z",
     "shell.execute_reply": "2021-10-26T16:30:09.940137Z"
    },
    "papermill": {
     "duration": 0.03981,
     "end_time": "2021-10-26T16:30:09.940553",
     "exception": false,
     "start_time": "2021-10-26T16:30:09.900743",
     "status": "completed"
    },
    "tags": []
   },
   "outputs": [],
   "source": [
    "df_pivot.columns = [\"stamp_1\", \"stamp_2\"]\n",
    "df_pivot_diff = df_pivot.diff(axis=1)"
   ]
  },
  {
   "cell_type": "code",
   "execution_count": 7,
   "id": "fifth-motion",
   "metadata": {
    "execution": {
     "iopub.execute_input": "2021-10-26T16:30:09.996772Z",
     "iopub.status.busy": "2021-10-26T16:30:09.994116Z",
     "iopub.status.idle": "2021-10-26T16:30:11.470364Z",
     "shell.execute_reply": "2021-10-26T16:30:11.472014Z"
    },
    "papermill": {
     "duration": 1.510171,
     "end_time": "2021-10-26T16:30:11.472548",
     "exception": false,
     "start_time": "2021-10-26T16:30:09.962377",
     "status": "completed"
    },
    "tags": []
   },
   "outputs": [
    {
     "data": {
      "text/plain": [
       "<AxesSubplot:ylabel='PRODUCT'>"
      ]
     },
     "execution_count": 7,
     "metadata": {},
     "output_type": "execute_result"
    },
    {
     "data": {
      "image/png": "[encoded data removed]",
      "text/plain": [
       "<Figure size 432x288 with 1 Axes>"
      ]
     },
     "metadata": {
      "needs_background": "light"
     },
     "output_type": "display_data"
    }
   ],
   "source": [
    "df_pivot_diff.sort_values(\"stamp_2\", ascending = False)[\"stamp_2\"].head(10).plot.barh()"
   ]
  },
  {
   "cell_type": "code",
   "execution_count": null,
   "id": "extra-executive",
   "metadata": {
    "papermill": {
     "duration": 0.021862,
     "end_time": "2021-10-26T16:30:11.519939",
     "exception": false,
     "start_time": "2021-10-26T16:30:11.498077",
     "status": "completed"
    },
    "tags": []
   },
   "outputs": [],
   "source": []
  }
 ],
 "metadata": {
  "kernelspec": {
   "display_name": "Python 3",
   "language": "python",
   "name": "python3"
  },
  "language_info": {
   "codemirror_mode": {
    "name": "ipython",
    "version": 3
   },
   "file_extension": ".py",
   "mimetype": "text/x-python",
   "name": "python",
   "nbconvert_exporter": "python",
   "pygments_lexer": "ipython3",
   "version": "3.9.5"
  },
  "papermill": {
   "default_parameters": {},
   "duration": 7.416906,
   "end_time": "2021-10-26T16:30:12.162522",
   "environment_variables": {},
   "exception": null,
   "input_path": "eBay_Overview.ipynb",
   "output_path": "eBay_Overview.ipynb",
   "parameters": {},
   "start_time": "2021-10-26T16:30:04.745616",
   "version": "2.3.3"
  }
 },
 "nbformat": 4,
 "nbformat_minor": 5
}