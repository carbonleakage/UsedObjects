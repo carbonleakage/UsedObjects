{
 "cells": [
  {
   "cell_type": "code",
   "execution_count": 1,
   "id": "reverse-picking",
   "metadata": {
    "execution": {
     "iopub.execute_input": "2021-08-11T05:30:03.682246Z",
     "iopub.status.busy": "2021-08-11T05:30:03.681482Z",
     "iopub.status.idle": "2021-08-11T05:30:04.290885Z",
     "shell.execute_reply": "2021-08-11T05:30:04.291468Z"
    },
    "papermill": {
     "duration": 0.628688,
     "end_time": "2021-08-11T05:30:04.291761",
     "exception": false,
     "start_time": "2021-08-11T05:30:03.663073",
     "status": "completed"
    },
    "tags": []
   },
   "outputs": [],
   "source": [
    "import pandas as pd\n",
    "import sqlite3"
   ]
  },
  {
   "cell_type": "code",
   "execution_count": 2,
   "id": "innovative-syndrome",
   "metadata": {
    "execution": {
     "iopub.execute_input": "2021-08-11T05:30:04.315495Z",
     "iopub.status.busy": "2021-08-11T05:30:04.314711Z",
     "iopub.status.idle": "2021-08-11T05:30:04.596548Z",
     "shell.execute_reply": "2021-08-11T05:30:04.595470Z"
    },
    "papermill": {
     "duration": 0.29665,
     "end_time": "2021-08-11T05:30:04.596826",
     "exception": false,
     "start_time": "2021-08-11T05:30:04.300176",
     "status": "completed"
    },
    "tags": []
   },
   "outputs": [],
   "source": [
    "timestamps = pd.read_sql(\"select distinct record_time from EBAY_TOP_BERLIN order by record_time desc limit 2\", sqlite3.connect(\"UsedObjects.db\"))"
   ]
  },
  {
   "cell_type": "code",
   "execution_count": 3,
   "id": "periodic-identification",
   "metadata": {
    "execution": {
     "iopub.execute_input": "2021-08-11T05:30:04.629842Z",
     "iopub.status.busy": "2021-08-11T05:30:04.629053Z",
     "iopub.status.idle": "2021-08-11T05:30:04.640664Z",
     "shell.execute_reply": "2021-08-11T05:30:04.641225Z"
    },
    "papermill": {
     "duration": 0.032179,
     "end_time": "2021-08-11T05:30:04.641414",
     "exception": false,
     "start_time": "2021-08-11T05:30:04.609235",
     "status": "completed"
    },
    "tags": []
   },
   "outputs": [
    {
     "data": {
      "text/html": [
       "<div>\n",
       "<style scoped>\n",
       "    .dataframe tbody tr th:only-of-type {\n",
       "        vertical-align: middle;\n",
       "    }\n",
       "\n",
       "    .dataframe tbody tr th {\n",
       "        vertical-align: top;\n",
       "    }\n",
       "\n",
       "    .dataframe thead th {\n",
       "        text-align: right;\n",
       "    }\n",
       "</style>\n",
       "<table border=\"1\" class=\"dataframe\">\n",
       "  <thead>\n",
       "    <tr style=\"text-align: right;\">\n",
       "      <th></th>\n",
       "      <th>RECORD_TIME</th>\n",
       "    </tr>\n",
       "  </thead>\n",
       "  <tbody>\n",
       "    <tr>\n",
       "      <th>0</th>\n",
       "      <td>2021-08-11 07:30</td>\n",
       "    </tr>\n",
       "    <tr>\n",
       "      <th>1</th>\n",
       "      <td>2021-08-11 07:00</td>\n",
       "    </tr>\n",
       "  </tbody>\n",
       "</table>\n",
       "</div>"
      ],
      "text/plain": [
       "        RECORD_TIME\n",
       "0  2021-08-11 07:30\n",
       "1  2021-08-11 07:00"
      ]
     },
     "execution_count": 3,
     "metadata": {},
     "output_type": "execute_result"
    }
   ],
   "source": [
    "timestamps"
   ]
  },
  {
   "cell_type": "code",
   "execution_count": 4,
   "id": "alternate-victory",
   "metadata": {
    "execution": {
     "iopub.execute_input": "2021-08-11T05:30:04.668541Z",
     "iopub.status.busy": "2021-08-11T05:30:04.667778Z",
     "iopub.status.idle": "2021-08-11T05:30:04.685181Z",
     "shell.execute_reply": "2021-08-11T05:30:04.685753Z"
    },
    "papermill": {
     "duration": 0.033521,
     "end_time": "2021-08-11T05:30:04.685945",
     "exception": false,
     "start_time": "2021-08-11T05:30:04.652424",
     "status": "completed"
    },
    "tags": []
   },
   "outputs": [],
   "source": [
    "df = pd.read_sql(\"select * from EBAY_TOP_BERLIN where record_time in (select distinct record_time from EBAY_TOP_BERLIN order by record_time desc limit 2)\", sqlite3.connect(\"UsedObjects.db\"))"
   ]
  },
  {
   "cell_type": "code",
   "execution_count": 5,
   "id": "popular-active",
   "metadata": {
    "execution": {
     "iopub.execute_input": "2021-08-11T05:30:04.711240Z",
     "iopub.status.busy": "2021-08-11T05:30:04.710462Z",
     "iopub.status.idle": "2021-08-11T05:30:04.761615Z",
     "shell.execute_reply": "2021-08-11T05:30:04.761026Z"
    },
    "papermill": {
     "duration": 0.067151,
     "end_time": "2021-08-11T05:30:04.761780",
     "exception": false,
     "start_time": "2021-08-11T05:30:04.694629",
     "status": "completed"
    },
    "tags": []
   },
   "outputs": [],
   "source": [
    "df_pivot = df.pivot_table(index=\"PRODUCT\", columns = \"RECORD_TIME\", values = \"LISTING_COUNT\")"
   ]
  },
  {
   "cell_type": "code",
   "execution_count": 6,
   "id": "union-huntington",
   "metadata": {
    "execution": {
     "iopub.execute_input": "2021-08-11T05:30:04.793746Z",
     "iopub.status.busy": "2021-08-11T05:30:04.792358Z",
     "iopub.status.idle": "2021-08-11T05:30:04.796689Z",
     "shell.execute_reply": "2021-08-11T05:30:04.797220Z"
    },
    "papermill": {
     "duration": 0.026919,
     "end_time": "2021-08-11T05:30:04.797398",
     "exception": false,
     "start_time": "2021-08-11T05:30:04.770479",
     "status": "completed"
    },
    "tags": []
   },
   "outputs": [],
   "source": [
    "df_pivot.columns = [\"stamp_1\", \"stamp_2\"]\n",
    "df_pivot_diff = df_pivot.diff(axis=1)"
   ]
  },
  {
   "cell_type": "code",
   "execution_count": 7,
   "id": "fifth-motion",
   "metadata": {
    "execution": {
     "iopub.execute_input": "2021-08-11T05:30:04.826286Z",
     "iopub.status.busy": "2021-08-11T05:30:04.825537Z",
     "iopub.status.idle": "2021-08-11T05:30:05.688178Z",
     "shell.execute_reply": "2021-08-11T05:30:05.688762Z"
    },
    "papermill": {
     "duration": 0.883104,
     "end_time": "2021-08-11T05:30:05.688940",
     "exception": false,
     "start_time": "2021-08-11T05:30:04.805836",
     "status": "completed"
    },
    "tags": []
   },
   "outputs": [
    {
     "data": {
      "text/plain": [
       "<AxesSubplot:ylabel='PRODUCT'>"
      ]
     },
     "execution_count": 7,
     "metadata": {},
     "output_type": "execute_result"
    },
    {
     "data": {
      "image/png": "[encoded data removed]",
      "text/plain": [
       "<Figure size 432x288 with 1 Axes>"
      ]
     },
     "metadata": {
      "needs_background": "light"
     },
     "output_type": "display_data"
    }
   ],
   "source": [
    "df_pivot_diff.sort_values(\"stamp_2\", ascending = False)[\"stamp_2\"].head(10).plot.barh()"
   ]
  },
  {
   "cell_type": "code",
   "execution_count": null,
   "id": "extra-executive",
   "metadata": {
    "papermill": {
     "duration": 0.011282,
     "end_time": "2021-08-11T05:30:05.717100",
     "exception": false,
     "start_time": "2021-08-11T05:30:05.705818",
     "status": "completed"
    },
    "tags": []
   },
   "outputs": [],
   "source": []
  }
 ],
 "metadata": {
  "kernelspec": {
   "display_name": "Python 3",
   "language": "python",
   "name": "python3"
  },
  "language_info": {
   "codemirror_mode": {
    "name": "ipython",
    "version": 3
   },
   "file_extension": ".py",
   "mimetype": "text/x-python",
   "name": "python",
   "nbconvert_exporter": "python",
   "pygments_lexer": "ipython3",
   "version": "3.8.8"
  },
  "papermill": {
   "default_parameters": {},
   "duration": 4.476367,
   "end_time": "2021-08-11T05:30:06.475180",
   "environment_variables": {},
   "exception": null,
   "input_path": "/Users/saravananshanmugam/Carbonleakage_Git/UsedObjects/eBay_Overview.ipynb",
   "output_path": "/Users/saravananshanmugam/Carbonleakage_Git/UsedObjects/eBay_Overview.ipynb",
   "parameters": {},
   "start_time": "2021-08-11T05:30:01.998813",
   "version": "2.3.3"
  }
 },
 "nbformat": 4,
 "nbformat_minor": 5
}