{
 "cells": [
  {
   "cell_type": "code",
   "execution_count": 1,
   "id": "reverse-picking",
   "metadata": {
    "execution": {
     "iopub.execute_input": "2021-08-12T10:30:04.888380Z",
     "iopub.status.busy": "2021-08-12T10:30:04.887623Z",
     "iopub.status.idle": "2021-08-12T10:30:05.487142Z",
     "shell.execute_reply": "2021-08-12T10:30:05.488183Z"
    },
    "papermill": {
     "duration": 0.619312,
     "end_time": "2021-08-12T10:30:05.488665",
     "exception": false,
     "start_time": "2021-08-12T10:30:04.869353",
     "status": "completed"
    },
    "tags": []
   },
   "outputs": [],
   "source": [
    "import pandas as pd\n",
    "import sqlite3"
   ]
  },
  {
   "cell_type": "code",
   "execution_count": 2,
   "id": "innovative-syndrome",
   "metadata": {
    "execution": {
     "iopub.execute_input": "2021-08-12T10:30:05.518059Z",
     "iopub.status.busy": "2021-08-12T10:30:05.517176Z",
     "iopub.status.idle": "2021-08-12T10:30:05.826267Z",
     "shell.execute_reply": "2021-08-12T10:30:05.825519Z"
    },
    "papermill": {
     "duration": 0.322849,
     "end_time": "2021-08-12T10:30:05.826426",
     "exception": false,
     "start_time": "2021-08-12T10:30:05.503577",
     "status": "completed"
    },
    "tags": []
   },
   "outputs": [],
   "source": [
    "timestamps = pd.read_sql(\"select distinct record_time from EBAY_TOP_BERLIN order by record_time desc limit 2\", sqlite3.connect(\"UsedObjects.db\"))"
   ]
  },
  {
   "cell_type": "code",
   "execution_count": 3,
   "id": "periodic-identification",
   "metadata": {
    "execution": {
     "iopub.execute_input": "2021-08-12T10:30:05.855556Z",
     "iopub.status.busy": "2021-08-12T10:30:05.854733Z",
     "iopub.status.idle": "2021-08-12T10:30:05.873017Z",
     "shell.execute_reply": "2021-08-12T10:30:05.872159Z"
    },
    "papermill": {
     "duration": 0.038616,
     "end_time": "2021-08-12T10:30:05.873238",
     "exception": false,
     "start_time": "2021-08-12T10:30:05.834622",
     "status": "completed"
    },
    "tags": []
   },
   "outputs": [
    {
     "data": {
      "text/html": [
       "<div>\n",
       "<style scoped>\n",
       "    .dataframe tbody tr th:only-of-type {\n",
       "        vertical-align: middle;\n",
       "    }\n",
       "\n",
       "    .dataframe tbody tr th {\n",
       "        vertical-align: top;\n",
       "    }\n",
       "\n",
       "    .dataframe thead th {\n",
       "        text-align: right;\n",
       "    }\n",
       "</style>\n",
       "<table border=\"1\" class=\"dataframe\">\n",
       "  <thead>\n",
       "    <tr style=\"text-align: right;\">\n",
       "      <th></th>\n",
       "      <th>RECORD_TIME</th>\n",
       "    </tr>\n",
       "  </thead>\n",
       "  <tbody>\n",
       "    <tr>\n",
       "      <th>0</th>\n",
       "      <td>2021-08-12 12:30</td>\n",
       "    </tr>\n",
       "    <tr>\n",
       "      <th>1</th>\n",
       "      <td>2021-08-12 12:00</td>\n",
       "    </tr>\n",
       "  </tbody>\n",
       "</table>\n",
       "</div>"
      ],
      "text/plain": [
       "        RECORD_TIME\n",
       "0  2021-08-12 12:30\n",
       "1  2021-08-12 12:00"
      ]
     },
     "execution_count": 3,
     "metadata": {},
     "output_type": "execute_result"
    }
   ],
   "source": [
    "timestamps"
   ]
  },
  {
   "cell_type": "code",
   "execution_count": 4,
   "id": "alternate-victory",
   "metadata": {
    "execution": {
     "iopub.execute_input": "2021-08-12T10:30:05.895508Z",
     "iopub.status.busy": "2021-08-12T10:30:05.894756Z",
     "iopub.status.idle": "2021-08-12T10:30:05.927854Z",
     "shell.execute_reply": "2021-08-12T10:30:05.928753Z"
    },
    "papermill": {
     "duration": 0.046573,
     "end_time": "2021-08-12T10:30:05.928979",
     "exception": false,
     "start_time": "2021-08-12T10:30:05.882406",
     "status": "completed"
    },
    "tags": []
   },
   "outputs": [],
   "source": [
    "df = pd.read_sql(\"select * from EBAY_TOP_BERLIN where record_time in (select distinct record_time from EBAY_TOP_BERLIN order by record_time desc limit 2)\", sqlite3.connect(\"UsedObjects.db\"))"
   ]
  },
  {
   "cell_type": "code",
   "execution_count": 5,
   "id": "popular-active",
   "metadata": {
    "execution": {
     "iopub.execute_input": "2021-08-12T10:30:05.955200Z",
     "iopub.status.busy": "2021-08-12T10:30:05.953653Z",
     "iopub.status.idle": "2021-08-12T10:30:05.974897Z",
     "shell.execute_reply": "2021-08-12T10:30:05.974150Z"
    },
    "papermill": {
     "duration": 0.03746,
     "end_time": "2021-08-12T10:30:05.975056",
     "exception": false,
     "start_time": "2021-08-12T10:30:05.937596",
     "status": "completed"
    },
    "tags": []
   },
   "outputs": [],
   "source": [
    "df_pivot = df.pivot_table(index=\"PRODUCT\", columns = \"RECORD_TIME\", values = \"LISTING_COUNT\")"
   ]
  },
  {
   "cell_type": "code",
   "execution_count": 6,
   "id": "union-huntington",
   "metadata": {
    "execution": {
     "iopub.execute_input": "2021-08-12T10:30:06.000032Z",
     "iopub.status.busy": "2021-08-12T10:30:05.999332Z",
     "iopub.status.idle": "2021-08-12T10:30:06.005880Z",
     "shell.execute_reply": "2021-08-12T10:30:06.007052Z"
    },
    "papermill": {
     "duration": 0.023766,
     "end_time": "2021-08-12T10:30:06.007340",
     "exception": false,
     "start_time": "2021-08-12T10:30:05.983574",
     "status": "completed"
    },
    "tags": []
   },
   "outputs": [],
   "source": [
    "df_pivot.columns = [\"stamp_1\", \"stamp_2\"]\n",
    "df_pivot_diff = df_pivot.diff(axis=1)"
   ]
  },
  {
   "cell_type": "code",
   "execution_count": 7,
   "id": "fifth-motion",
   "metadata": {
    "execution": {
     "iopub.execute_input": "2021-08-12T10:30:06.035698Z",
     "iopub.status.busy": "2021-08-12T10:30:06.034938Z",
     "iopub.status.idle": "2021-08-12T10:30:06.717571Z",
     "shell.execute_reply": "2021-08-12T10:30:06.716992Z"
    },
    "papermill": {
     "duration": 0.697229,
     "end_time": "2021-08-12T10:30:06.717721",
     "exception": false,
     "start_time": "2021-08-12T10:30:06.020492",
     "status": "completed"
    },
    "tags": []
   },
   "outputs": [
    {
     "data": {
      "text/plain": [
       "<AxesSubplot:ylabel='PRODUCT'>"
      ]
     },
     "execution_count": 7,
     "metadata": {},
     "output_type": "execute_result"
    },
    {
     "data": {
      "image/png": "[encoded data removed]",
      "text/plain": [
       "<Figure size 432x288 with 1 Axes>"
      ]
     },
     "metadata": {
      "needs_background": "light"
     },
     "output_type": "display_data"
    }
   ],
   "source": [
    "df_pivot_diff.sort_values(\"stamp_2\", ascending = False)[\"stamp_2\"].head(10).plot.barh()"
   ]
  },
  {
   "cell_type": "code",
   "execution_count": null,
   "id": "extra-executive",
   "metadata": {
    "papermill": {
     "duration": 0.016408,
     "end_time": "2021-08-12T10:30:06.744109",
     "exception": false,
     "start_time": "2021-08-12T10:30:06.727701",
     "status": "completed"
    },
    "tags": []
   },
   "outputs": [],
   "source": []
  }
 ],
 "metadata": {
  "kernelspec": {
   "display_name": "Python 3",
   "language": "python",
   "name": "python3"
  },
  "language_info": {
   "codemirror_mode": {
    "name": "ipython",
    "version": 3
   },
   "file_extension": ".py",
   "mimetype": "text/x-python",
   "name": "python",
   "nbconvert_exporter": "python",
   "pygments_lexer": "ipython3",
   "version": "3.8.8"
  },
  "papermill": {
   "default_parameters": {},
   "duration": 4.333948,
   "end_time": "2021-08-12T10:30:07.495805",
   "environment_variables": {},
   "exception": null,
   "input_path": "/Users/saravananshanmugam/Carbonleakage_Git/UsedObjects/eBay_Overview.ipynb",
   "output_path": "/Users/saravananshanmugam/Carbonleakage_Git/UsedObjects/eBay_Overview.ipynb",
   "parameters": {},
   "start_time": "2021-08-12T10:30:03.161857",
   "version": "2.3.3"
  }
 },
 "nbformat": 4,
 "nbformat_minor": 5
}