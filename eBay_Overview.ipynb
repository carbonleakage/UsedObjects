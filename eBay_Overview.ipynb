{
 "cells": [
  {
   "cell_type": "code",
   "execution_count": 1,
   "id": "reverse-picking",
   "metadata": {
    "execution": {
     "iopub.execute_input": "2021-11-08T22:30:07.560159Z",
     "iopub.status.busy": "2021-11-08T22:30:07.550995Z",
     "iopub.status.idle": "2021-11-08T22:30:08.495715Z",
     "shell.execute_reply": "2021-11-08T22:30:08.493700Z"
    },
    "papermill": {
     "duration": 0.991527,
     "end_time": "2021-11-08T22:30:08.496253",
     "exception": false,
     "start_time": "2021-11-08T22:30:07.504726",
     "status": "completed"
    },
    "tags": []
   },
   "outputs": [],
   "source": [
    "import pandas as pd\n",
    "import sqlite3"
   ]
  },
  {
   "cell_type": "code",
   "execution_count": 2,
   "id": "innovative-syndrome",
   "metadata": {
    "execution": {
     "iopub.execute_input": "2021-11-08T22:30:08.566273Z",
     "iopub.status.busy": "2021-11-08T22:30:08.563913Z",
     "iopub.status.idle": "2021-11-08T22:30:09.331251Z",
     "shell.execute_reply": "2021-11-08T22:30:09.332925Z"
    },
    "papermill": {
     "duration": 0.803922,
     "end_time": "2021-11-08T22:30:09.333479",
     "exception": false,
     "start_time": "2021-11-08T22:30:08.529557",
     "status": "completed"
    },
    "tags": []
   },
   "outputs": [],
   "source": [
    "timestamps = pd.read_sql(\"select distinct record_time from EBAY_TOP_BERLIN order by record_time desc limit 2\", sqlite3.connect(\"UsedObjects.db\"))"
   ]
  },
  {
   "cell_type": "code",
   "execution_count": 3,
   "id": "periodic-identification",
   "metadata": {
    "execution": {
     "iopub.execute_input": "2021-11-08T22:30:09.403901Z",
     "iopub.status.busy": "2021-11-08T22:30:09.401565Z",
     "iopub.status.idle": "2021-11-08T22:30:09.424032Z",
     "shell.execute_reply": "2021-11-08T22:30:09.425762Z"
    },
    "papermill": {
     "duration": 0.072814,
     "end_time": "2021-11-08T22:30:09.426260",
     "exception": false,
     "start_time": "2021-11-08T22:30:09.353446",
     "status": "completed"
    },
    "tags": []
   },
   "outputs": [
    {
     "data": {
      "text/html": [
       "<div>\n",
       "<style scoped>\n",
       "    .dataframe tbody tr th:only-of-type {\n",
       "        vertical-align: middle;\n",
       "    }\n",
       "\n",
       "    .dataframe tbody tr th {\n",
       "        vertical-align: top;\n",
       "    }\n",
       "\n",
       "    .dataframe thead th {\n",
       "        text-align: right;\n",
       "    }\n",
       "</style>\n",
       "<table border=\"1\" class=\"dataframe\">\n",
       "  <thead>\n",
       "    <tr style=\"text-align: right;\">\n",
       "      <th></th>\n",
       "      <th>RECORD_TIME</th>\n",
       "    </tr>\n",
       "  </thead>\n",
       "  <tbody>\n",
       "    <tr>\n",
       "      <th>0</th>\n",
       "      <td>2021-11-08 23:30</td>\n",
       "    </tr>\n",
       "    <tr>\n",
       "      <th>1</th>\n",
       "      <td>2021-11-08 23:00</td>\n",
       "    </tr>\n",
       "  </tbody>\n",
       "</table>\n",
       "</div>"
      ],
      "text/plain": [
       "        RECORD_TIME\n",
       "0  2021-11-08 23:30\n",
       "1  2021-11-08 23:00"
      ]
     },
     "execution_count": 3,
     "metadata": {},
     "output_type": "execute_result"
    }
   ],
   "source": [
    "timestamps"
   ]
  },
  {
   "cell_type": "code",
   "execution_count": 4,
   "id": "alternate-victory",
   "metadata": {
    "execution": {
     "iopub.execute_input": "2021-11-08T22:30:09.482663Z",
     "iopub.status.busy": "2021-11-08T22:30:09.480564Z",
     "iopub.status.idle": "2021-11-08T22:30:10.588406Z",
     "shell.execute_reply": "2021-11-08T22:30:10.589971Z"
    },
    "papermill": {
     "duration": 1.142647,
     "end_time": "2021-11-08T22:30:10.590445",
     "exception": false,
     "start_time": "2021-11-08T22:30:09.447798",
     "status": "completed"
    },
    "tags": []
   },
   "outputs": [],
   "source": [
    "df = pd.read_sql(\"select * from EBAY_TOP_BERLIN where record_time in (select distinct record_time from EBAY_TOP_BERLIN order by record_time desc limit 2)\", sqlite3.connect(\"UsedObjects.db\"))"
   ]
  },
  {
   "cell_type": "code",
   "execution_count": 5,
   "id": "popular-active",
   "metadata": {
    "execution": {
     "iopub.execute_input": "2021-11-08T22:30:10.667610Z",
     "iopub.status.busy": "2021-11-08T22:30:10.654038Z",
     "iopub.status.idle": "2021-11-08T22:30:10.689801Z",
     "shell.execute_reply": "2021-11-08T22:30:10.688011Z"
    },
    "papermill": {
     "duration": 0.077909,
     "end_time": "2021-11-08T22:30:10.690248",
     "exception": false,
     "start_time": "2021-11-08T22:30:10.612339",
     "status": "completed"
    },
    "tags": []
   },
   "outputs": [],
   "source": [
    "df_pivot = df.pivot_table(index=\"PRODUCT\", columns = \"RECORD_TIME\", values = \"LISTING_COUNT\")"
   ]
  },
  {
   "cell_type": "code",
   "execution_count": 6,
   "id": "union-huntington",
   "metadata": {
    "execution": {
     "iopub.execute_input": "2021-11-08T22:30:10.754141Z",
     "iopub.status.busy": "2021-11-08T22:30:10.751735Z",
     "iopub.status.idle": "2021-11-08T22:30:10.757458Z",
     "shell.execute_reply": "2021-11-08T22:30:10.759118Z"
    },
    "papermill": {
     "duration": 0.045983,
     "end_time": "2021-11-08T22:30:10.759605",
     "exception": false,
     "start_time": "2021-11-08T22:30:10.713622",
     "status": "completed"
    },
    "tags": []
   },
   "outputs": [],
   "source": [
    "df_pivot.columns = [\"stamp_1\", \"stamp_2\"]\n",
    "df_pivot_diff = df_pivot.diff(axis=1)"
   ]
  },
  {
   "cell_type": "code",
   "execution_count": 7,
   "id": "fifth-motion",
   "metadata": {
    "execution": {
     "iopub.execute_input": "2021-11-08T22:30:10.819236Z",
     "iopub.status.busy": "2021-11-08T22:30:10.816597Z",
     "iopub.status.idle": "2021-11-08T22:30:12.569638Z",
     "shell.execute_reply": "2021-11-08T22:30:12.571234Z"
    },
    "papermill": {
     "duration": 1.79088,
     "end_time": "2021-11-08T22:30:12.571719",
     "exception": false,
     "start_time": "2021-11-08T22:30:10.780839",
     "status": "completed"
    },
    "tags": []
   },
   "outputs": [
    {
     "data": {
      "text/plain": [
       "<AxesSubplot:ylabel='PRODUCT'>"
      ]
     },
     "execution_count": 7,
     "metadata": {},
     "output_type": "execute_result"
    },
    {
     "data": {
      "image/png": "[encoded data removed]",
      "text/plain": [
       "<Figure size 432x288 with 1 Axes>"
      ]
     },
     "metadata": {
      "needs_background": "light"
     },
     "output_type": "display_data"
    }
   ],
   "source": [
    "df_pivot_diff.sort_values(\"stamp_2\", ascending = False)[\"stamp_2\"].head(10).plot.barh()"
   ]
  },
  {
   "cell_type": "code",
   "execution_count": null,
   "id": "extra-executive",
   "metadata": {
    "papermill": {
     "duration": 0.024224,
     "end_time": "2021-11-08T22:30:12.619874",
     "exception": false,
     "start_time": "2021-11-08T22:30:12.595650",
     "status": "completed"
    },
    "tags": []
   },
   "outputs": [],
   "source": []
  }
 ],
 "metadata": {
  "kernelspec": {
   "display_name": "Python 3",
   "language": "python",
   "name": "python3"
  },
  "language_info": {
   "codemirror_mode": {
    "name": "ipython",
    "version": 3
   },
   "file_extension": ".py",
   "mimetype": "text/x-python",
   "name": "python",
   "nbconvert_exporter": "python",
   "pygments_lexer": "ipython3",
   "version": "3.9.5"
  },
  "papermill": {
   "default_parameters": {},
   "duration": 8.766246,
   "end_time": "2021-11-08T22:30:13.467789",
   "environment_variables": {},
   "exception": null,
   "input_path": "eBay_Overview.ipynb",
   "output_path": "eBay_Overview.ipynb",
   "parameters": {},
   "start_time": "2021-11-08T22:30:04.701543",
   "version": "2.3.3"
  }
 },
 "nbformat": 4,
 "nbformat_minor": 5
}