{
 "cells": [
  {
   "cell_type": "code",
   "execution_count": 1,
   "id": "reverse-picking",
   "metadata": {
    "execution": {
     "iopub.execute_input": "2021-09-15T14:00:07.467976Z",
     "iopub.status.busy": "2021-09-15T14:00:07.465945Z",
     "iopub.status.idle": "2021-09-15T14:00:08.278619Z",
     "shell.execute_reply": "2021-09-15T14:00:08.280089Z"
    },
    "papermill": {
     "duration": 0.862404,
     "end_time": "2021-09-15T14:00:08.280739",
     "exception": false,
     "start_time": "2021-09-15T14:00:07.418335",
     "status": "completed"
    },
    "tags": []
   },
   "outputs": [],
   "source": [
    "import pandas as pd\n",
    "import sqlite3"
   ]
  },
  {
   "cell_type": "code",
   "execution_count": 2,
   "id": "innovative-syndrome",
   "metadata": {
    "execution": {
     "iopub.execute_input": "2021-09-15T14:00:08.331999Z",
     "iopub.status.busy": "2021-09-15T14:00:08.329982Z",
     "iopub.status.idle": "2021-09-15T14:00:08.626996Z",
     "shell.execute_reply": "2021-09-15T14:00:08.628228Z"
    },
    "papermill": {
     "duration": 0.326824,
     "end_time": "2021-09-15T14:00:08.628618",
     "exception": false,
     "start_time": "2021-09-15T14:00:08.301794",
     "status": "completed"
    },
    "tags": []
   },
   "outputs": [],
   "source": [
    "timestamps = pd.read_sql(\"select distinct record_time from EBAY_TOP_BERLIN order by record_time desc limit 2\", sqlite3.connect(\"UsedObjects.db\"))"
   ]
  },
  {
   "cell_type": "code",
   "execution_count": 3,
   "id": "periodic-identification",
   "metadata": {
    "execution": {
     "iopub.execute_input": "2021-09-15T14:00:08.697911Z",
     "iopub.status.busy": "2021-09-15T14:00:08.695864Z",
     "iopub.status.idle": "2021-09-15T14:00:08.718129Z",
     "shell.execute_reply": "2021-09-15T14:00:08.719791Z"
    },
    "papermill": {
     "duration": 0.068783,
     "end_time": "2021-09-15T14:00:08.720291",
     "exception": false,
     "start_time": "2021-09-15T14:00:08.651508",
     "status": "completed"
    },
    "tags": []
   },
   "outputs": [
    {
     "data": {
      "text/html": [
       "<div>\n",
       "<style scoped>\n",
       "    .dataframe tbody tr th:only-of-type {\n",
       "        vertical-align: middle;\n",
       "    }\n",
       "\n",
       "    .dataframe tbody tr th {\n",
       "        vertical-align: top;\n",
       "    }\n",
       "\n",
       "    .dataframe thead th {\n",
       "        text-align: right;\n",
       "    }\n",
       "</style>\n",
       "<table border=\"1\" class=\"dataframe\">\n",
       "  <thead>\n",
       "    <tr style=\"text-align: right;\">\n",
       "      <th></th>\n",
       "      <th>RECORD_TIME</th>\n",
       "    </tr>\n",
       "  </thead>\n",
       "  <tbody>\n",
       "    <tr>\n",
       "      <th>0</th>\n",
       "      <td>2021-09-15 16:00</td>\n",
       "    </tr>\n",
       "    <tr>\n",
       "      <th>1</th>\n",
       "      <td>2021-09-15 15:30</td>\n",
       "    </tr>\n",
       "  </tbody>\n",
       "</table>\n",
       "</div>"
      ],
      "text/plain": [
       "        RECORD_TIME\n",
       "0  2021-09-15 16:00\n",
       "1  2021-09-15 15:30"
      ]
     },
     "execution_count": 3,
     "metadata": {},
     "output_type": "execute_result"
    }
   ],
   "source": [
    "timestamps"
   ]
  },
  {
   "cell_type": "code",
   "execution_count": 4,
   "id": "alternate-victory",
   "metadata": {
    "execution": {
     "iopub.execute_input": "2021-09-15T14:00:08.772724Z",
     "iopub.status.busy": "2021-09-15T14:00:08.770778Z",
     "iopub.status.idle": "2021-09-15T14:00:09.200867Z",
     "shell.execute_reply": "2021-09-15T14:00:09.202082Z"
    },
    "papermill": {
     "duration": 0.460268,
     "end_time": "2021-09-15T14:00:09.202475",
     "exception": false,
     "start_time": "2021-09-15T14:00:08.742207",
     "status": "completed"
    },
    "tags": []
   },
   "outputs": [],
   "source": [
    "df = pd.read_sql(\"select * from EBAY_TOP_BERLIN where record_time in (select distinct record_time from EBAY_TOP_BERLIN order by record_time desc limit 2)\", sqlite3.connect(\"UsedObjects.db\"))"
   ]
  },
  {
   "cell_type": "code",
   "execution_count": 5,
   "id": "popular-active",
   "metadata": {
    "execution": {
     "iopub.execute_input": "2021-09-15T14:00:09.282638Z",
     "iopub.status.busy": "2021-09-15T14:00:09.271612Z",
     "iopub.status.idle": "2021-09-15T14:00:09.300062Z",
     "shell.execute_reply": "2021-09-15T14:00:09.301451Z"
    },
    "papermill": {
     "duration": 0.073538,
     "end_time": "2021-09-15T14:00:09.301885",
     "exception": false,
     "start_time": "2021-09-15T14:00:09.228347",
     "status": "completed"
    },
    "tags": []
   },
   "outputs": [],
   "source": [
    "df_pivot = df.pivot_table(index=\"PRODUCT\", columns = \"RECORD_TIME\", values = \"LISTING_COUNT\")"
   ]
  },
  {
   "cell_type": "code",
   "execution_count": 6,
   "id": "union-huntington",
   "metadata": {
    "execution": {
     "iopub.execute_input": "2021-09-15T14:00:09.358852Z",
     "iopub.status.busy": "2021-09-15T14:00:09.356696Z",
     "iopub.status.idle": "2021-09-15T14:00:09.362088Z",
     "shell.execute_reply": "2021-09-15T14:00:09.363433Z"
    },
    "papermill": {
     "duration": 0.041404,
     "end_time": "2021-09-15T14:00:09.363849",
     "exception": false,
     "start_time": "2021-09-15T14:00:09.322445",
     "status": "completed"
    },
    "tags": []
   },
   "outputs": [],
   "source": [
    "df_pivot.columns = [\"stamp_1\", \"stamp_2\"]\n",
    "df_pivot_diff = df_pivot.diff(axis=1)"
   ]
  },
  {
   "cell_type": "code",
   "execution_count": 7,
   "id": "fifth-motion",
   "metadata": {
    "execution": {
     "iopub.execute_input": "2021-09-15T14:00:09.418646Z",
     "iopub.status.busy": "2021-09-15T14:00:09.416247Z",
     "iopub.status.idle": "2021-09-15T14:00:10.891771Z",
     "shell.execute_reply": "2021-09-15T14:00:10.893201Z"
    },
    "papermill": {
     "duration": 1.508881,
     "end_time": "2021-09-15T14:00:10.893641",
     "exception": false,
     "start_time": "2021-09-15T14:00:09.384760",
     "status": "completed"
    },
    "tags": []
   },
   "outputs": [
    {
     "data": {
      "text/plain": [
       "<AxesSubplot:ylabel='PRODUCT'>"
      ]
     },
     "execution_count": 7,
     "metadata": {},
     "output_type": "execute_result"
    },
    {
     "data": {
      "image/png": "[encoded data removed]",
      "text/plain": [
       "<Figure size 432x288 with 1 Axes>"
      ]
     },
     "metadata": {
      "needs_background": "light"
     },
     "output_type": "display_data"
    }
   ],
   "source": [
    "df_pivot_diff.sort_values(\"stamp_2\", ascending = False)[\"stamp_2\"].head(10).plot.barh()"
   ]
  },
  {
   "cell_type": "code",
   "execution_count": null,
   "id": "extra-executive",
   "metadata": {
    "papermill": {
     "duration": 0.022687,
     "end_time": "2021-09-15T14:00:10.941236",
     "exception": false,
     "start_time": "2021-09-15T14:00:10.918549",
     "status": "completed"
    },
    "tags": []
   },
   "outputs": [],
   "source": []
  }
 ],
 "metadata": {
  "kernelspec": {
   "display_name": "Python 3",
   "language": "python",
   "name": "python3"
  },
  "language_info": {
   "codemirror_mode": {
    "name": "ipython",
    "version": 3
   },
   "file_extension": ".py",
   "mimetype": "text/x-python",
   "name": "python",
   "nbconvert_exporter": "python",
   "pygments_lexer": "ipython3",
   "version": "3.9.5"
  },
  "papermill": {
   "default_parameters": {},
   "duration": 6.580991,
   "end_time": "2021-09-15T14:00:11.582241",
   "environment_variables": {},
   "exception": null,
   "input_path": "eBay_Overview.ipynb",
   "output_path": "eBay_Overview.ipynb",
   "parameters": {},
   "start_time": "2021-09-15T14:00:05.001250",
   "version": "2.3.3"
  }
 },
 "nbformat": 4,
 "nbformat_minor": 5
}