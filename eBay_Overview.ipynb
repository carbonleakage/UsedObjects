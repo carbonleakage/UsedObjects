{
 "cells": [
  {
   "cell_type": "code",
   "execution_count": 1,
   "id": "reverse-picking",
   "metadata": {
    "execution": {
     "iopub.execute_input": "2021-08-29T11:00:07.526823Z",
     "iopub.status.busy": "2021-08-29T11:00:07.524933Z",
     "iopub.status.idle": "2021-08-29T11:00:08.330311Z",
     "shell.execute_reply": "2021-08-29T11:00:08.331538Z"
    },
    "papermill": {
     "duration": 0.859411,
     "end_time": "2021-08-29T11:00:08.332157",
     "exception": false,
     "start_time": "2021-08-29T11:00:07.472746",
     "status": "completed"
    },
    "tags": []
   },
   "outputs": [],
   "source": [
    "import pandas as pd\n",
    "import sqlite3"
   ]
  },
  {
   "cell_type": "code",
   "execution_count": 2,
   "id": "innovative-syndrome",
   "metadata": {
    "execution": {
     "iopub.execute_input": "2021-08-29T11:00:08.383039Z",
     "iopub.status.busy": "2021-08-29T11:00:08.381191Z",
     "iopub.status.idle": "2021-08-29T11:00:08.537679Z",
     "shell.execute_reply": "2021-08-29T11:00:08.538884Z"
    },
    "papermill": {
     "duration": 0.186059,
     "end_time": "2021-08-29T11:00:08.539277",
     "exception": false,
     "start_time": "2021-08-29T11:00:08.353218",
     "status": "completed"
    },
    "tags": []
   },
   "outputs": [],
   "source": [
    "timestamps = pd.read_sql(\"select distinct record_time from EBAY_TOP_BERLIN order by record_time desc limit 2\", sqlite3.connect(\"UsedObjects.db\"))"
   ]
  },
  {
   "cell_type": "code",
   "execution_count": 3,
   "id": "periodic-identification",
   "metadata": {
    "execution": {
     "iopub.execute_input": "2021-08-29T11:00:08.603764Z",
     "iopub.status.busy": "2021-08-29T11:00:08.601778Z",
     "iopub.status.idle": "2021-08-29T11:00:08.621250Z",
     "shell.execute_reply": "2021-08-29T11:00:08.622449Z"
    },
    "papermill": {
     "duration": 0.064057,
     "end_time": "2021-08-29T11:00:08.622837",
     "exception": false,
     "start_time": "2021-08-29T11:00:08.558780",
     "status": "completed"
    },
    "tags": []
   },
   "outputs": [
    {
     "data": {
      "text/html": [
       "<div>\n",
       "<style scoped>\n",
       "    .dataframe tbody tr th:only-of-type {\n",
       "        vertical-align: middle;\n",
       "    }\n",
       "\n",
       "    .dataframe tbody tr th {\n",
       "        vertical-align: top;\n",
       "    }\n",
       "\n",
       "    .dataframe thead th {\n",
       "        text-align: right;\n",
       "    }\n",
       "</style>\n",
       "<table border=\"1\" class=\"dataframe\">\n",
       "  <thead>\n",
       "    <tr style=\"text-align: right;\">\n",
       "      <th></th>\n",
       "      <th>RECORD_TIME</th>\n",
       "    </tr>\n",
       "  </thead>\n",
       "  <tbody>\n",
       "    <tr>\n",
       "      <th>0</th>\n",
       "      <td>2021-08-29 13:00</td>\n",
       "    </tr>\n",
       "    <tr>\n",
       "      <th>1</th>\n",
       "      <td>2021-08-29 12:30</td>\n",
       "    </tr>\n",
       "  </tbody>\n",
       "</table>\n",
       "</div>"
      ],
      "text/plain": [
       "        RECORD_TIME\n",
       "0  2021-08-29 13:00\n",
       "1  2021-08-29 12:30"
      ]
     },
     "execution_count": 3,
     "metadata": {},
     "output_type": "execute_result"
    }
   ],
   "source": [
    "timestamps"
   ]
  },
  {
   "cell_type": "code",
   "execution_count": 4,
   "id": "alternate-victory",
   "metadata": {
    "execution": {
     "iopub.execute_input": "2021-08-29T11:00:08.674887Z",
     "iopub.status.busy": "2021-08-29T11:00:08.672636Z",
     "iopub.status.idle": "2021-08-29T11:00:08.912107Z",
     "shell.execute_reply": "2021-08-29T11:00:08.913531Z"
    },
    "papermill": {
     "duration": 0.269899,
     "end_time": "2021-08-29T11:00:08.913967",
     "exception": false,
     "start_time": "2021-08-29T11:00:08.644068",
     "status": "completed"
    },
    "tags": []
   },
   "outputs": [],
   "source": [
    "df = pd.read_sql(\"select * from EBAY_TOP_BERLIN where record_time in (select distinct record_time from EBAY_TOP_BERLIN order by record_time desc limit 2)\", sqlite3.connect(\"UsedObjects.db\"))"
   ]
  },
  {
   "cell_type": "code",
   "execution_count": 5,
   "id": "popular-active",
   "metadata": {
    "execution": {
     "iopub.execute_input": "2021-08-29T11:00:08.983193Z",
     "iopub.status.busy": "2021-08-29T11:00:08.981039Z",
     "iopub.status.idle": "2021-08-29T11:00:09.008467Z",
     "shell.execute_reply": "2021-08-29T11:00:09.009823Z"
    },
    "papermill": {
     "duration": 0.07527,
     "end_time": "2021-08-29T11:00:09.010234",
     "exception": false,
     "start_time": "2021-08-29T11:00:08.934964",
     "status": "completed"
    },
    "tags": []
   },
   "outputs": [],
   "source": [
    "df_pivot = df.pivot_table(index=\"PRODUCT\", columns = \"RECORD_TIME\", values = \"LISTING_COUNT\")"
   ]
  },
  {
   "cell_type": "code",
   "execution_count": 6,
   "id": "union-huntington",
   "metadata": {
    "execution": {
     "iopub.execute_input": "2021-08-29T11:00:09.066208Z",
     "iopub.status.busy": "2021-08-29T11:00:09.064139Z",
     "iopub.status.idle": "2021-08-29T11:00:09.069446Z",
     "shell.execute_reply": "2021-08-29T11:00:09.070631Z"
    },
    "papermill": {
     "duration": 0.040972,
     "end_time": "2021-08-29T11:00:09.071058",
     "exception": false,
     "start_time": "2021-08-29T11:00:09.030086",
     "status": "completed"
    },
    "tags": []
   },
   "outputs": [],
   "source": [
    "df_pivot.columns = [\"stamp_1\", \"stamp_2\"]\n",
    "df_pivot_diff = df_pivot.diff(axis=1)"
   ]
  },
  {
   "cell_type": "code",
   "execution_count": 7,
   "id": "fifth-motion",
   "metadata": {
    "execution": {
     "iopub.execute_input": "2021-08-29T11:00:09.129423Z",
     "iopub.status.busy": "2021-08-29T11:00:09.126698Z",
     "iopub.status.idle": "2021-08-29T11:00:10.591525Z",
     "shell.execute_reply": "2021-08-29T11:00:10.592969Z"
    },
    "papermill": {
     "duration": 1.498675,
     "end_time": "2021-08-29T11:00:10.593420",
     "exception": false,
     "start_time": "2021-08-29T11:00:09.094745",
     "status": "completed"
    },
    "tags": []
   },
   "outputs": [
    {
     "data": {
      "text/plain": [
       "<AxesSubplot:ylabel='PRODUCT'>"
      ]
     },
     "execution_count": 7,
     "metadata": {},
     "output_type": "execute_result"
    },
    {
     "data": {
      "image/png": "[encoded data removed]",
      "text/plain": [
       "<Figure size 432x288 with 1 Axes>"
      ]
     },
     "metadata": {
      "needs_background": "light"
     },
     "output_type": "display_data"
    }
   ],
   "source": [
    "df_pivot_diff.sort_values(\"stamp_2\", ascending = False)[\"stamp_2\"].head(10).plot.barh()"
   ]
  },
  {
   "cell_type": "code",
   "execution_count": null,
   "id": "extra-executive",
   "metadata": {
    "papermill": {
     "duration": 0.022211,
     "end_time": "2021-08-29T11:00:10.640426",
     "exception": false,
     "start_time": "2021-08-29T11:00:10.618215",
     "status": "completed"
    },
    "tags": []
   },
   "outputs": [],
   "source": []
  }
 ],
 "metadata": {
  "kernelspec": {
   "display_name": "Python 3",
   "language": "python",
   "name": "python3"
  },
  "language_info": {
   "codemirror_mode": {
    "name": "ipython",
    "version": 3
   },
   "file_extension": ".py",
   "mimetype": "text/x-python",
   "name": "python",
   "nbconvert_exporter": "python",
   "pygments_lexer": "ipython3",
   "version": "3.9.5"
  },
  "papermill": {
   "default_parameters": {},
   "duration": 6.819334,
   "end_time": "2021-08-29T11:00:11.887786",
   "environment_variables": {},
   "exception": null,
   "input_path": "eBay_Overview.ipynb",
   "output_path": "eBay_Overview.ipynb",
   "parameters": {},
   "start_time": "2021-08-29T11:00:05.068452",
   "version": "2.3.3"
  }
 },
 "nbformat": 4,
 "nbformat_minor": 5
}