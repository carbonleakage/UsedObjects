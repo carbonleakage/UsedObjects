{
 "cells": [
  {
   "cell_type": "code",
   "execution_count": 1,
   "id": "reverse-picking",
   "metadata": {
    "execution": {
     "iopub.execute_input": "2021-08-19T20:30:07.420423Z",
     "iopub.status.busy": "2021-08-19T20:30:07.418422Z",
     "iopub.status.idle": "2021-08-19T20:30:08.223438Z",
     "shell.execute_reply": "2021-08-19T20:30:08.224687Z"
    },
    "papermill": {
     "duration": 0.857509,
     "end_time": "2021-08-19T20:30:08.225293",
     "exception": false,
     "start_time": "2021-08-19T20:30:07.367784",
     "status": "completed"
    },
    "tags": []
   },
   "outputs": [],
   "source": [
    "import pandas as pd\n",
    "import sqlite3"
   ]
  },
  {
   "cell_type": "code",
   "execution_count": 2,
   "id": "innovative-syndrome",
   "metadata": {
    "execution": {
     "iopub.execute_input": "2021-08-19T20:30:08.276744Z",
     "iopub.status.busy": "2021-08-19T20:30:08.274871Z",
     "iopub.status.idle": "2021-08-19T20:30:08.359689Z",
     "shell.execute_reply": "2021-08-19T20:30:08.360887Z"
    },
    "papermill": {
     "duration": 0.114203,
     "end_time": "2021-08-19T20:30:08.361280",
     "exception": false,
     "start_time": "2021-08-19T20:30:08.247077",
     "status": "completed"
    },
    "tags": []
   },
   "outputs": [],
   "source": [
    "timestamps = pd.read_sql(\"select distinct record_time from EBAY_TOP_BERLIN order by record_time desc limit 2\", sqlite3.connect(\"UsedObjects.db\"))"
   ]
  },
  {
   "cell_type": "code",
   "execution_count": 3,
   "id": "periodic-identification",
   "metadata": {
    "execution": {
     "iopub.execute_input": "2021-08-19T20:30:08.429096Z",
     "iopub.status.busy": "2021-08-19T20:30:08.423731Z",
     "iopub.status.idle": "2021-08-19T20:30:08.445146Z",
     "shell.execute_reply": "2021-08-19T20:30:08.446893Z"
    },
    "papermill": {
     "duration": 0.06673,
     "end_time": "2021-08-19T20:30:08.447389",
     "exception": false,
     "start_time": "2021-08-19T20:30:08.380659",
     "status": "completed"
    },
    "tags": []
   },
   "outputs": [
    {
     "data": {
      "text/html": [
       "<div>\n",
       "<style scoped>\n",
       "    .dataframe tbody tr th:only-of-type {\n",
       "        vertical-align: middle;\n",
       "    }\n",
       "\n",
       "    .dataframe tbody tr th {\n",
       "        vertical-align: top;\n",
       "    }\n",
       "\n",
       "    .dataframe thead th {\n",
       "        text-align: right;\n",
       "    }\n",
       "</style>\n",
       "<table border=\"1\" class=\"dataframe\">\n",
       "  <thead>\n",
       "    <tr style=\"text-align: right;\">\n",
       "      <th></th>\n",
       "      <th>RECORD_TIME</th>\n",
       "    </tr>\n",
       "  </thead>\n",
       "  <tbody>\n",
       "    <tr>\n",
       "      <th>0</th>\n",
       "      <td>2021-08-19 22:30</td>\n",
       "    </tr>\n",
       "    <tr>\n",
       "      <th>1</th>\n",
       "      <td>2021-08-19 22:00</td>\n",
       "    </tr>\n",
       "  </tbody>\n",
       "</table>\n",
       "</div>"
      ],
      "text/plain": [
       "        RECORD_TIME\n",
       "0  2021-08-19 22:30\n",
       "1  2021-08-19 22:00"
      ]
     },
     "execution_count": 3,
     "metadata": {},
     "output_type": "execute_result"
    }
   ],
   "source": [
    "timestamps"
   ]
  },
  {
   "cell_type": "code",
   "execution_count": 4,
   "id": "alternate-victory",
   "metadata": {
    "execution": {
     "iopub.execute_input": "2021-08-19T20:30:08.500515Z",
     "iopub.status.busy": "2021-08-19T20:30:08.498491Z",
     "iopub.status.idle": "2021-08-19T20:30:08.627065Z",
     "shell.execute_reply": "2021-08-19T20:30:08.628456Z"
    },
    "papermill": {
     "duration": 0.159152,
     "end_time": "2021-08-19T20:30:08.628889",
     "exception": false,
     "start_time": "2021-08-19T20:30:08.469737",
     "status": "completed"
    },
    "tags": []
   },
   "outputs": [],
   "source": [
    "df = pd.read_sql(\"select * from EBAY_TOP_BERLIN where record_time in (select distinct record_time from EBAY_TOP_BERLIN order by record_time desc limit 2)\", sqlite3.connect(\"UsedObjects.db\"))"
   ]
  },
  {
   "cell_type": "code",
   "execution_count": 5,
   "id": "popular-active",
   "metadata": {
    "execution": {
     "iopub.execute_input": "2021-08-19T20:30:08.699602Z",
     "iopub.status.busy": "2021-08-19T20:30:08.687097Z",
     "iopub.status.idle": "2021-08-19T20:30:08.717005Z",
     "shell.execute_reply": "2021-08-19T20:30:08.718700Z"
    },
    "papermill": {
     "duration": 0.069676,
     "end_time": "2021-08-19T20:30:08.719178",
     "exception": false,
     "start_time": "2021-08-19T20:30:08.649502",
     "status": "completed"
    },
    "tags": []
   },
   "outputs": [],
   "source": [
    "df_pivot = df.pivot_table(index=\"PRODUCT\", columns = \"RECORD_TIME\", values = \"LISTING_COUNT\")"
   ]
  },
  {
   "cell_type": "code",
   "execution_count": 6,
   "id": "union-huntington",
   "metadata": {
    "execution": {
     "iopub.execute_input": "2021-08-19T20:30:08.778869Z",
     "iopub.status.busy": "2021-08-19T20:30:08.775786Z",
     "iopub.status.idle": "2021-08-19T20:30:08.781752Z",
     "shell.execute_reply": "2021-08-19T20:30:08.783203Z"
    },
    "papermill": {
     "duration": 0.042498,
     "end_time": "2021-08-19T20:30:08.783640",
     "exception": false,
     "start_time": "2021-08-19T20:30:08.741142",
     "status": "completed"
    },
    "tags": []
   },
   "outputs": [],
   "source": [
    "df_pivot.columns = [\"stamp_1\", \"stamp_2\"]\n",
    "df_pivot_diff = df_pivot.diff(axis=1)"
   ]
  },
  {
   "cell_type": "code",
   "execution_count": 7,
   "id": "fifth-motion",
   "metadata": {
    "execution": {
     "iopub.execute_input": "2021-08-19T20:30:08.837438Z",
     "iopub.status.busy": "2021-08-19T20:30:08.835173Z",
     "iopub.status.idle": "2021-08-19T20:30:10.325693Z",
     "shell.execute_reply": "2021-08-19T20:30:10.327504Z"
    },
    "papermill": {
     "duration": 1.52423,
     "end_time": "2021-08-19T20:30:10.328034",
     "exception": false,
     "start_time": "2021-08-19T20:30:08.803804",
     "status": "completed"
    },
    "tags": []
   },
   "outputs": [
    {
     "data": {
      "text/plain": [
       "<AxesSubplot:ylabel='PRODUCT'>"
      ]
     },
     "execution_count": 7,
     "metadata": {},
     "output_type": "execute_result"
    },
    {
     "data": {
      "image/png": "[encoded data removed]",
      "text/plain": [
       "<Figure size 432x288 with 1 Axes>"
      ]
     },
     "metadata": {
      "needs_background": "light"
     },
     "output_type": "display_data"
    }
   ],
   "source": [
    "df_pivot_diff.sort_values(\"stamp_2\", ascending = False)[\"stamp_2\"].head(10).plot.barh()"
   ]
  },
  {
   "cell_type": "code",
   "execution_count": null,
   "id": "extra-executive",
   "metadata": {
    "papermill": {
     "duration": 0.022193,
     "end_time": "2021-08-19T20:30:10.374716",
     "exception": false,
     "start_time": "2021-08-19T20:30:10.352523",
     "status": "completed"
    },
    "tags": []
   },
   "outputs": [],
   "source": []
  }
 ],
 "metadata": {
  "kernelspec": {
   "display_name": "Python 3",
   "language": "python",
   "name": "python3"
  },
  "language_info": {
   "codemirror_mode": {
    "name": "ipython",
    "version": 3
   },
   "file_extension": ".py",
   "mimetype": "text/x-python",
   "name": "python",
   "nbconvert_exporter": "python",
   "pygments_lexer": "ipython3",
   "version": "3.9.5"
  },
  "papermill": {
   "default_parameters": {},
   "duration": 6.826205,
   "end_time": "2021-08-19T20:30:11.781083",
   "environment_variables": {},
   "exception": null,
   "input_path": "eBay_Overview.ipynb",
   "output_path": "eBay_Overview.ipynb",
   "parameters": {},
   "start_time": "2021-08-19T20:30:04.954878",
   "version": "2.3.3"
  }
 },
 "nbformat": 4,
 "nbformat_minor": 5
}