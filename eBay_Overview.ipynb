{
 "cells": [
  {
   "cell_type": "code",
   "execution_count": 1,
   "id": "reverse-picking",
   "metadata": {
    "execution": {
     "iopub.execute_input": "2021-11-21T07:30:08.576642Z",
     "iopub.status.busy": "2021-11-21T07:30:08.574260Z",
     "iopub.status.idle": "2021-11-21T07:30:09.543122Z",
     "shell.execute_reply": "2021-11-21T07:30:09.544548Z"
    },
    "papermill": {
     "duration": 1.017982,
     "end_time": "2021-11-21T07:30:09.545534",
     "exception": false,
     "start_time": "2021-11-21T07:30:08.527552",
     "status": "completed"
    },
    "tags": []
   },
   "outputs": [],
   "source": [
    "import pandas as pd\n",
    "import sqlite3"
   ]
  },
  {
   "cell_type": "code",
   "execution_count": 2,
   "id": "innovative-syndrome",
   "metadata": {
    "execution": {
     "iopub.execute_input": "2021-11-21T07:30:09.605235Z",
     "iopub.status.busy": "2021-11-21T07:30:09.602816Z",
     "iopub.status.idle": "2021-11-21T07:30:10.477393Z",
     "shell.execute_reply": "2021-11-21T07:30:10.479267Z"
    },
    "papermill": {
     "duration": 0.907757,
     "end_time": "2021-11-21T07:30:10.479734",
     "exception": false,
     "start_time": "2021-11-21T07:30:09.571977",
     "status": "completed"
    },
    "tags": []
   },
   "outputs": [],
   "source": [
    "timestamps = pd.read_sql(\"select distinct record_time from EBAY_TOP_BERLIN order by record_time desc limit 2\", sqlite3.connect(\"UsedObjects.db\"))"
   ]
  },
  {
   "cell_type": "code",
   "execution_count": 3,
   "id": "periodic-identification",
   "metadata": {
    "execution": {
     "iopub.execute_input": "2021-11-21T07:30:10.567749Z",
     "iopub.status.busy": "2021-11-21T07:30:10.561933Z",
     "iopub.status.idle": "2021-11-21T07:30:10.585120Z",
     "shell.execute_reply": "2021-11-21T07:30:10.586639Z"
    },
    "papermill": {
     "duration": 0.073926,
     "end_time": "2021-11-21T07:30:10.587163",
     "exception": false,
     "start_time": "2021-11-21T07:30:10.513237",
     "status": "completed"
    },
    "tags": []
   },
   "outputs": [
    {
     "data": {
      "text/html": [
       "<div>\n",
       "<style scoped>\n",
       "    .dataframe tbody tr th:only-of-type {\n",
       "        vertical-align: middle;\n",
       "    }\n",
       "\n",
       "    .dataframe tbody tr th {\n",
       "        vertical-align: top;\n",
       "    }\n",
       "\n",
       "    .dataframe thead th {\n",
       "        text-align: right;\n",
       "    }\n",
       "</style>\n",
       "<table border=\"1\" class=\"dataframe\">\n",
       "  <thead>\n",
       "    <tr style=\"text-align: right;\">\n",
       "      <th></th>\n",
       "      <th>RECORD_TIME</th>\n",
       "    </tr>\n",
       "  </thead>\n",
       "  <tbody>\n",
       "    <tr>\n",
       "      <th>0</th>\n",
       "      <td>2021-11-21 08:30</td>\n",
       "    </tr>\n",
       "    <tr>\n",
       "      <th>1</th>\n",
       "      <td>2021-11-21 08:00</td>\n",
       "    </tr>\n",
       "  </tbody>\n",
       "</table>\n",
       "</div>"
      ],
      "text/plain": [
       "        RECORD_TIME\n",
       "0  2021-11-21 08:30\n",
       "1  2021-11-21 08:00"
      ]
     },
     "execution_count": 3,
     "metadata": {},
     "output_type": "execute_result"
    }
   ],
   "source": [
    "timestamps"
   ]
  },
  {
   "cell_type": "code",
   "execution_count": 4,
   "id": "alternate-victory",
   "metadata": {
    "execution": {
     "iopub.execute_input": "2021-11-21T07:30:10.642685Z",
     "iopub.status.busy": "2021-11-21T07:30:10.640526Z",
     "iopub.status.idle": "2021-11-21T07:30:11.899764Z",
     "shell.execute_reply": "2021-11-21T07:30:11.901371Z"
    },
    "papermill": {
     "duration": 1.293462,
     "end_time": "2021-11-21T07:30:11.901853",
     "exception": false,
     "start_time": "2021-11-21T07:30:10.608391",
     "status": "completed"
    },
    "tags": []
   },
   "outputs": [],
   "source": [
    "df = pd.read_sql(\"select * from EBAY_TOP_BERLIN where record_time in (select distinct record_time from EBAY_TOP_BERLIN order by record_time desc limit 2)\", sqlite3.connect(\"UsedObjects.db\"))"
   ]
  },
  {
   "cell_type": "code",
   "execution_count": 5,
   "id": "popular-active",
   "metadata": {
    "execution": {
     "iopub.execute_input": "2021-11-21T07:30:11.978519Z",
     "iopub.status.busy": "2021-11-21T07:30:11.964460Z",
     "iopub.status.idle": "2021-11-21T07:30:11.996615Z",
     "shell.execute_reply": "2021-11-21T07:30:11.998078Z"
    },
    "papermill": {
     "duration": 0.074922,
     "end_time": "2021-11-21T07:30:11.998554",
     "exception": false,
     "start_time": "2021-11-21T07:30:11.923632",
     "status": "completed"
    },
    "tags": []
   },
   "outputs": [],
   "source": [
    "df_pivot = df.pivot_table(index=\"PRODUCT\", columns = \"RECORD_TIME\", values = \"LISTING_COUNT\")"
   ]
  },
  {
   "cell_type": "code",
   "execution_count": 6,
   "id": "union-huntington",
   "metadata": {
    "execution": {
     "iopub.execute_input": "2021-11-21T07:30:12.056621Z",
     "iopub.status.busy": "2021-11-21T07:30:12.054579Z",
     "iopub.status.idle": "2021-11-21T07:30:12.060345Z",
     "shell.execute_reply": "2021-11-21T07:30:12.061980Z"
    },
    "papermill": {
     "duration": 0.04424,
     "end_time": "2021-11-21T07:30:12.062511",
     "exception": false,
     "start_time": "2021-11-21T07:30:12.018271",
     "status": "completed"
    },
    "tags": []
   },
   "outputs": [],
   "source": [
    "df_pivot.columns = [\"stamp_1\", \"stamp_2\"]\n",
    "df_pivot_diff = df_pivot.diff(axis=1)"
   ]
  },
  {
   "cell_type": "code",
   "execution_count": 7,
   "id": "fifth-motion",
   "metadata": {
    "execution": {
     "iopub.execute_input": "2021-11-21T07:30:12.121443Z",
     "iopub.status.busy": "2021-11-21T07:30:12.118931Z",
     "iopub.status.idle": "2021-11-21T07:30:14.122794Z",
     "shell.execute_reply": "2021-11-21T07:30:14.124261Z"
    },
    "papermill": {
     "duration": 2.03902,
     "end_time": "2021-11-21T07:30:14.124826",
     "exception": false,
     "start_time": "2021-11-21T07:30:12.085806",
     "status": "completed"
    },
    "tags": []
   },
   "outputs": [
    {
     "data": {
      "text/plain": [
       "<AxesSubplot:ylabel='PRODUCT'>"
      ]
     },
     "execution_count": 7,
     "metadata": {},
     "output_type": "execute_result"
    },
    {
     "data": {
      "image/png": "[encoded data removed]",
      "text/plain": [
       "<Figure size 432x288 with 1 Axes>"
      ]
     },
     "metadata": {
      "needs_background": "light"
     },
     "output_type": "display_data"
    }
   ],
   "source": [
    "df_pivot_diff.sort_values(\"stamp_2\", ascending = False)[\"stamp_2\"].head(10).plot.barh()"
   ]
  },
  {
   "cell_type": "code",
   "execution_count": null,
   "id": "extra-executive",
   "metadata": {
    "papermill": {
     "duration": 0.022026,
     "end_time": "2021-11-21T07:30:14.172795",
     "exception": false,
     "start_time": "2021-11-21T07:30:14.150769",
     "status": "completed"
    },
    "tags": []
   },
   "outputs": [],
   "source": []
  }
 ],
 "metadata": {
  "kernelspec": {
   "display_name": "Python 3",
   "language": "python",
   "name": "python3"
  },
  "language_info": {
   "codemirror_mode": {
    "name": "ipython",
    "version": 3
   },
   "file_extension": ".py",
   "mimetype": "text/x-python",
   "name": "python",
   "nbconvert_exporter": "python",
   "pygments_lexer": "ipython3",
   "version": "3.9.5"
  },
  "papermill": {
   "default_parameters": {},
   "duration": 9.967869,
   "end_time": "2021-11-21T07:30:15.707006",
   "environment_variables": {},
   "exception": null,
   "input_path": "eBay_Overview.ipynb",
   "output_path": "eBay_Overview.ipynb",
   "parameters": {},
   "start_time": "2021-11-21T07:30:05.739137",
   "version": "2.3.3"
  }
 },
 "nbformat": 4,
 "nbformat_minor": 5
}