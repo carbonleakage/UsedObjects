{
 "cells": [
  {
   "cell_type": "code",
   "execution_count": 1,
   "id": "reverse-picking",
   "metadata": {
    "execution": {
     "iopub.execute_input": "2021-12-18T07:00:07.400997Z",
     "iopub.status.busy": "2021-12-18T07:00:07.398678Z",
     "iopub.status.idle": "2021-12-18T07:00:08.359721Z",
     "shell.execute_reply": "2021-12-18T07:00:08.362218Z"
    },
    "papermill": {
     "duration": 1.013383,
     "end_time": "2021-12-18T07:00:08.362967",
     "exception": false,
     "start_time": "2021-12-18T07:00:07.349584",
     "status": "completed"
    },
    "tags": []
   },
   "outputs": [],
   "source": [
    "import pandas as pd\n",
    "import sqlite3"
   ]
  },
  {
   "cell_type": "code",
   "execution_count": 2,
   "id": "innovative-syndrome",
   "metadata": {
    "execution": {
     "iopub.execute_input": "2021-12-18T07:00:08.419361Z",
     "iopub.status.busy": "2021-12-18T07:00:08.417086Z",
     "iopub.status.idle": "2021-12-18T07:00:09.522492Z",
     "shell.execute_reply": "2021-12-18T07:00:09.523702Z"
    },
    "papermill": {
     "duration": 1.139674,
     "end_time": "2021-12-18T07:00:09.524102",
     "exception": false,
     "start_time": "2021-12-18T07:00:08.384428",
     "status": "completed"
    },
    "tags": []
   },
   "outputs": [],
   "source": [
    "timestamps = pd.read_sql(\"select distinct record_time from EBAY_TOP_BERLIN order by record_time desc limit 2\", sqlite3.connect(\"UsedObjects.db\"))"
   ]
  },
  {
   "cell_type": "code",
   "execution_count": 3,
   "id": "periodic-identification",
   "metadata": {
    "execution": {
     "iopub.execute_input": "2021-12-18T07:00:09.595416Z",
     "iopub.status.busy": "2021-12-18T07:00:09.589727Z",
     "iopub.status.idle": "2021-12-18T07:00:09.611976Z",
     "shell.execute_reply": "2021-12-18T07:00:09.613430Z"
    },
    "papermill": {
     "duration": 0.069994,
     "end_time": "2021-12-18T07:00:09.613914",
     "exception": false,
     "start_time": "2021-12-18T07:00:09.543920",
     "status": "completed"
    },
    "tags": []
   },
   "outputs": [
    {
     "data": {
      "text/html": [
       "<div>\n",
       "<style scoped>\n",
       "    .dataframe tbody tr th:only-of-type {\n",
       "        vertical-align: middle;\n",
       "    }\n",
       "\n",
       "    .dataframe tbody tr th {\n",
       "        vertical-align: top;\n",
       "    }\n",
       "\n",
       "    .dataframe thead th {\n",
       "        text-align: right;\n",
       "    }\n",
       "</style>\n",
       "<table border=\"1\" class=\"dataframe\">\n",
       "  <thead>\n",
       "    <tr style=\"text-align: right;\">\n",
       "      <th></th>\n",
       "      <th>RECORD_TIME</th>\n",
       "    </tr>\n",
       "  </thead>\n",
       "  <tbody>\n",
       "    <tr>\n",
       "      <th>0</th>\n",
       "      <td>2021-12-18 08:00</td>\n",
       "    </tr>\n",
       "    <tr>\n",
       "      <th>1</th>\n",
       "      <td>2021-12-18 07:30</td>\n",
       "    </tr>\n",
       "  </tbody>\n",
       "</table>\n",
       "</div>"
      ],
      "text/plain": [
       "        RECORD_TIME\n",
       "0  2021-12-18 08:00\n",
       "1  2021-12-18 07:30"
      ]
     },
     "execution_count": 3,
     "metadata": {},
     "output_type": "execute_result"
    }
   ],
   "source": [
    "timestamps"
   ]
  },
  {
   "cell_type": "code",
   "execution_count": 4,
   "id": "alternate-victory",
   "metadata": {
    "execution": {
     "iopub.execute_input": "2021-12-18T07:00:09.670024Z",
     "iopub.status.busy": "2021-12-18T07:00:09.667539Z",
     "iopub.status.idle": "2021-12-18T07:00:11.247414Z",
     "shell.execute_reply": "2021-12-18T07:00:11.248856Z"
    },
    "papermill": {
     "duration": 1.615056,
     "end_time": "2021-12-18T07:00:11.249342",
     "exception": false,
     "start_time": "2021-12-18T07:00:09.634286",
     "status": "completed"
    },
    "tags": []
   },
   "outputs": [],
   "source": [
    "df = pd.read_sql(\"select * from EBAY_TOP_BERLIN where record_time in (select distinct record_time from EBAY_TOP_BERLIN order by record_time desc limit 2)\", sqlite3.connect(\"UsedObjects.db\"))"
   ]
  },
  {
   "cell_type": "code",
   "execution_count": 5,
   "id": "popular-active",
   "metadata": {
    "execution": {
     "iopub.execute_input": "2021-12-18T07:00:11.313152Z",
     "iopub.status.busy": "2021-12-18T07:00:11.310775Z",
     "iopub.status.idle": "2021-12-18T07:00:11.343740Z",
     "shell.execute_reply": "2021-12-18T07:00:11.342098Z"
    },
    "papermill": {
     "duration": 0.073654,
     "end_time": "2021-12-18T07:00:11.344177",
     "exception": false,
     "start_time": "2021-12-18T07:00:11.270523",
     "status": "completed"
    },
    "tags": []
   },
   "outputs": [],
   "source": [
    "df_pivot = df.pivot_table(index=\"PRODUCT\", columns = \"RECORD_TIME\", values = \"LISTING_COUNT\")"
   ]
  },
  {
   "cell_type": "code",
   "execution_count": 6,
   "id": "union-huntington",
   "metadata": {
    "execution": {
     "iopub.execute_input": "2021-12-18T07:00:11.405147Z",
     "iopub.status.busy": "2021-12-18T07:00:11.402813Z",
     "iopub.status.idle": "2021-12-18T07:00:11.408554Z",
     "shell.execute_reply": "2021-12-18T07:00:11.409968Z"
    },
    "papermill": {
     "duration": 0.044239,
     "end_time": "2021-12-18T07:00:11.410449",
     "exception": false,
     "start_time": "2021-12-18T07:00:11.366210",
     "status": "completed"
    },
    "tags": []
   },
   "outputs": [],
   "source": [
    "df_pivot.columns = [\"stamp_1\", \"stamp_2\"]\n",
    "df_pivot_diff = df_pivot.diff(axis=1)"
   ]
  },
  {
   "cell_type": "code",
   "execution_count": 7,
   "id": "fifth-motion",
   "metadata": {
    "execution": {
     "iopub.execute_input": "2021-12-18T07:00:11.467194Z",
     "iopub.status.busy": "2021-12-18T07:00:11.464670Z",
     "iopub.status.idle": "2021-12-18T07:00:13.493219Z",
     "shell.execute_reply": "2021-12-18T07:00:13.494597Z"
    },
    "papermill": {
     "duration": 2.064073,
     "end_time": "2021-12-18T07:00:13.495039",
     "exception": false,
     "start_time": "2021-12-18T07:00:11.430966",
     "status": "completed"
    },
    "tags": []
   },
   "outputs": [
    {
     "data": {
      "text/plain": [
       "<AxesSubplot:ylabel='PRODUCT'>"
      ]
     },
     "execution_count": 7,
     "metadata": {},
     "output_type": "execute_result"
    },
    {
     "data": {
      "image/png": "[encoded data removed]",
      "text/plain": [
       "<Figure size 432x288 with 1 Axes>"
      ]
     },
     "metadata": {
      "needs_background": "light"
     },
     "output_type": "display_data"
    }
   ],
   "source": [
    "df_pivot_diff.sort_values(\"stamp_2\", ascending = False)[\"stamp_2\"].head(10).plot.barh()"
   ]
  },
  {
   "cell_type": "code",
   "execution_count": null,
   "id": "extra-executive",
   "metadata": {
    "papermill": {
     "duration": 0.026007,
     "end_time": "2021-12-18T07:00:13.553023",
     "exception": false,
     "start_time": "2021-12-18T07:00:13.527016",
     "status": "completed"
    },
    "tags": []
   },
   "outputs": [],
   "source": []
  }
 ],
 "metadata": {
  "kernelspec": {
   "display_name": "Python 3",
   "language": "python",
   "name": "python3"
  },
  "language_info": {
   "codemirror_mode": {
    "name": "ipython",
    "version": 3
   },
   "file_extension": ".py",
   "mimetype": "text/x-python",
   "name": "python",
   "nbconvert_exporter": "python",
   "pygments_lexer": "ipython3",
   "version": "3.9.5"
  },
  "papermill": {
   "default_parameters": {},
   "duration": 9.612659,
   "end_time": "2021-12-18T07:00:14.217440",
   "environment_variables": {},
   "exception": null,
   "input_path": "eBay_Overview.ipynb",
   "output_path": "eBay_Overview.ipynb",
   "parameters": {},
   "start_time": "2021-12-18T07:00:04.604781",
   "version": "2.3.3"
  }
 },
 "nbformat": 4,
 "nbformat_minor": 5
}