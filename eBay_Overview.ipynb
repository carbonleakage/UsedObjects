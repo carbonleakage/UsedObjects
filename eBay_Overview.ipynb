{
 "cells": [
  {
   "cell_type": "code",
   "execution_count": 1,
   "id": "reverse-picking",
   "metadata": {
    "execution": {
     "iopub.execute_input": "2021-10-24T03:30:06.955547Z",
     "iopub.status.busy": "2021-10-24T03:30:06.953270Z",
     "iopub.status.idle": "2021-10-24T03:30:07.757873Z",
     "shell.execute_reply": "2021-10-24T03:30:07.759131Z"
    },
    "papermill": {
     "duration": 0.85719,
     "end_time": "2021-10-24T03:30:07.759753",
     "exception": false,
     "start_time": "2021-10-24T03:30:06.902563",
     "status": "completed"
    },
    "tags": []
   },
   "outputs": [],
   "source": [
    "import pandas as pd\n",
    "import sqlite3"
   ]
  },
  {
   "cell_type": "code",
   "execution_count": 2,
   "id": "innovative-syndrome",
   "metadata": {
    "execution": {
     "iopub.execute_input": "2021-10-24T03:30:07.809744Z",
     "iopub.status.busy": "2021-10-24T03:30:07.807769Z",
     "iopub.status.idle": "2021-10-24T03:30:08.426026Z",
     "shell.execute_reply": "2021-10-24T03:30:08.427216Z"
    },
    "papermill": {
     "duration": 0.647808,
     "end_time": "2021-10-24T03:30:08.427610",
     "exception": false,
     "start_time": "2021-10-24T03:30:07.779802",
     "status": "completed"
    },
    "tags": []
   },
   "outputs": [],
   "source": [
    "timestamps = pd.read_sql(\"select distinct record_time from EBAY_TOP_BERLIN order by record_time desc limit 2\", sqlite3.connect(\"UsedObjects.db\"))"
   ]
  },
  {
   "cell_type": "code",
   "execution_count": 3,
   "id": "periodic-identification",
   "metadata": {
    "execution": {
     "iopub.execute_input": "2021-10-24T03:30:08.504380Z",
     "iopub.status.busy": "2021-10-24T03:30:08.502391Z",
     "iopub.status.idle": "2021-10-24T03:30:08.522537Z",
     "shell.execute_reply": "2021-10-24T03:30:08.523811Z"
    },
    "papermill": {
     "duration": 0.070025,
     "end_time": "2021-10-24T03:30:08.524226",
     "exception": false,
     "start_time": "2021-10-24T03:30:08.454201",
     "status": "completed"
    },
    "tags": []
   },
   "outputs": [
    {
     "data": {
      "text/html": [
       "<div>\n",
       "<style scoped>\n",
       "    .dataframe tbody tr th:only-of-type {\n",
       "        vertical-align: middle;\n",
       "    }\n",
       "\n",
       "    .dataframe tbody tr th {\n",
       "        vertical-align: top;\n",
       "    }\n",
       "\n",
       "    .dataframe thead th {\n",
       "        text-align: right;\n",
       "    }\n",
       "</style>\n",
       "<table border=\"1\" class=\"dataframe\">\n",
       "  <thead>\n",
       "    <tr style=\"text-align: right;\">\n",
       "      <th></th>\n",
       "      <th>RECORD_TIME</th>\n",
       "    </tr>\n",
       "  </thead>\n",
       "  <tbody>\n",
       "    <tr>\n",
       "      <th>0</th>\n",
       "      <td>2021-10-24 05:30</td>\n",
       "    </tr>\n",
       "    <tr>\n",
       "      <th>1</th>\n",
       "      <td>2021-10-24 05:00</td>\n",
       "    </tr>\n",
       "  </tbody>\n",
       "</table>\n",
       "</div>"
      ],
      "text/plain": [
       "        RECORD_TIME\n",
       "0  2021-10-24 05:30\n",
       "1  2021-10-24 05:00"
      ]
     },
     "execution_count": 3,
     "metadata": {},
     "output_type": "execute_result"
    }
   ],
   "source": [
    "timestamps"
   ]
  },
  {
   "cell_type": "code",
   "execution_count": 4,
   "id": "alternate-victory",
   "metadata": {
    "execution": {
     "iopub.execute_input": "2021-10-24T03:30:08.575919Z",
     "iopub.status.busy": "2021-10-24T03:30:08.573620Z",
     "iopub.status.idle": "2021-10-24T03:30:09.488635Z",
     "shell.execute_reply": "2021-10-24T03:30:09.490151Z"
    },
    "papermill": {
     "duration": 0.945448,
     "end_time": "2021-10-24T03:30:09.490597",
     "exception": false,
     "start_time": "2021-10-24T03:30:08.545149",
     "status": "completed"
    },
    "tags": []
   },
   "outputs": [],
   "source": [
    "df = pd.read_sql(\"select * from EBAY_TOP_BERLIN where record_time in (select distinct record_time from EBAY_TOP_BERLIN order by record_time desc limit 2)\", sqlite3.connect(\"UsedObjects.db\"))"
   ]
  },
  {
   "cell_type": "code",
   "execution_count": 5,
   "id": "popular-active",
   "metadata": {
    "execution": {
     "iopub.execute_input": "2021-10-24T03:30:09.558572Z",
     "iopub.status.busy": "2021-10-24T03:30:09.547702Z",
     "iopub.status.idle": "2021-10-24T03:30:09.574955Z",
     "shell.execute_reply": "2021-10-24T03:30:09.576166Z"
    },
    "papermill": {
     "duration": 0.065183,
     "end_time": "2021-10-24T03:30:09.576563",
     "exception": false,
     "start_time": "2021-10-24T03:30:09.511380",
     "status": "completed"
    },
    "tags": []
   },
   "outputs": [],
   "source": [
    "df_pivot = df.pivot_table(index=\"PRODUCT\", columns = \"RECORD_TIME\", values = \"LISTING_COUNT\")"
   ]
  },
  {
   "cell_type": "code",
   "execution_count": 6,
   "id": "union-huntington",
   "metadata": {
    "execution": {
     "iopub.execute_input": "2021-10-24T03:30:09.633852Z",
     "iopub.status.busy": "2021-10-24T03:30:09.631860Z",
     "iopub.status.idle": "2021-10-24T03:30:09.637037Z",
     "shell.execute_reply": "2021-10-24T03:30:09.638390Z"
    },
    "papermill": {
     "duration": 0.039878,
     "end_time": "2021-10-24T03:30:09.638797",
     "exception": false,
     "start_time": "2021-10-24T03:30:09.598919",
     "status": "completed"
    },
    "tags": []
   },
   "outputs": [],
   "source": [
    "df_pivot.columns = [\"stamp_1\", \"stamp_2\"]\n",
    "df_pivot_diff = df_pivot.diff(axis=1)"
   ]
  },
  {
   "cell_type": "code",
   "execution_count": 7,
   "id": "fifth-motion",
   "metadata": {
    "execution": {
     "iopub.execute_input": "2021-10-24T03:30:09.693651Z",
     "iopub.status.busy": "2021-10-24T03:30:09.691062Z",
     "iopub.status.idle": "2021-10-24T03:30:11.185123Z",
     "shell.execute_reply": "2021-10-24T03:30:11.186541Z"
    },
    "papermill": {
     "duration": 1.527061,
     "end_time": "2021-10-24T03:30:11.186986",
     "exception": false,
     "start_time": "2021-10-24T03:30:09.659925",
     "status": "completed"
    },
    "tags": []
   },
   "outputs": [
    {
     "data": {
      "text/plain": [
       "<AxesSubplot:ylabel='PRODUCT'>"
      ]
     },
     "execution_count": 7,
     "metadata": {},
     "output_type": "execute_result"
    },
    {
     "data": {
      "image/png": "[encoded data removed]",
      "text/plain": [
       "<Figure size 432x288 with 1 Axes>"
      ]
     },
     "metadata": {
      "needs_background": "light"
     },
     "output_type": "display_data"
    }
   ],
   "source": [
    "df_pivot_diff.sort_values(\"stamp_2\", ascending = False)[\"stamp_2\"].head(10).plot.barh()"
   ]
  },
  {
   "cell_type": "code",
   "execution_count": null,
   "id": "extra-executive",
   "metadata": {
    "papermill": {
     "duration": 0.022032,
     "end_time": "2021-10-24T03:30:11.232583",
     "exception": false,
     "start_time": "2021-10-24T03:30:11.210551",
     "status": "completed"
    },
    "tags": []
   },
   "outputs": [],
   "source": []
  }
 ],
 "metadata": {
  "kernelspec": {
   "display_name": "Python 3",
   "language": "python",
   "name": "python3"
  },
  "language_info": {
   "codemirror_mode": {
    "name": "ipython",
    "version": 3
   },
   "file_extension": ".py",
   "mimetype": "text/x-python",
   "name": "python",
   "nbconvert_exporter": "python",
   "pygments_lexer": "ipython3",
   "version": "3.9.5"
  },
  "papermill": {
   "default_parameters": {},
   "duration": 7.374257,
   "end_time": "2021-10-24T03:30:11.876062",
   "environment_variables": {},
   "exception": null,
   "input_path": "eBay_Overview.ipynb",
   "output_path": "eBay_Overview.ipynb",
   "parameters": {},
   "start_time": "2021-10-24T03:30:04.501805",
   "version": "2.3.3"
  }
 },
 "nbformat": 4,
 "nbformat_minor": 5
}