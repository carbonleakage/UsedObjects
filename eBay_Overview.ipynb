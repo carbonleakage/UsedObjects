{
 "cells": [
  {
   "cell_type": "code",
   "execution_count": 1,
   "id": "reverse-picking",
   "metadata": {
    "execution": {
     "iopub.execute_input": "2021-10-22T15:00:06.877831Z",
     "iopub.status.busy": "2021-10-22T15:00:06.875810Z",
     "iopub.status.idle": "2021-10-22T15:00:07.679748Z",
     "shell.execute_reply": "2021-10-22T15:00:07.681064Z"
    },
    "papermill": {
     "duration": 0.853563,
     "end_time": "2021-10-22T15:00:07.681690",
     "exception": false,
     "start_time": "2021-10-22T15:00:06.828127",
     "status": "completed"
    },
    "tags": []
   },
   "outputs": [],
   "source": [
    "import pandas as pd\n",
    "import sqlite3"
   ]
  },
  {
   "cell_type": "code",
   "execution_count": 2,
   "id": "innovative-syndrome",
   "metadata": {
    "execution": {
     "iopub.execute_input": "2021-10-22T15:00:07.732302Z",
     "iopub.status.busy": "2021-10-22T15:00:07.730457Z",
     "iopub.status.idle": "2021-10-22T15:00:08.335502Z",
     "shell.execute_reply": "2021-10-22T15:00:08.336855Z"
    },
    "papermill": {
     "duration": 0.634698,
     "end_time": "2021-10-22T15:00:08.337288",
     "exception": false,
     "start_time": "2021-10-22T15:00:07.702590",
     "status": "completed"
    },
    "tags": []
   },
   "outputs": [],
   "source": [
    "timestamps = pd.read_sql(\"select distinct record_time from EBAY_TOP_BERLIN order by record_time desc limit 2\", sqlite3.connect(\"UsedObjects.db\"))"
   ]
  },
  {
   "cell_type": "code",
   "execution_count": 3,
   "id": "periodic-identification",
   "metadata": {
    "execution": {
     "iopub.execute_input": "2021-10-22T15:00:08.413392Z",
     "iopub.status.busy": "2021-10-22T15:00:08.411284Z",
     "iopub.status.idle": "2021-10-22T15:00:08.431927Z",
     "shell.execute_reply": "2021-10-22T15:00:08.433184Z"
    },
    "papermill": {
     "duration": 0.070542,
     "end_time": "2021-10-22T15:00:08.433621",
     "exception": false,
     "start_time": "2021-10-22T15:00:08.363079",
     "status": "completed"
    },
    "tags": []
   },
   "outputs": [
    {
     "data": {
      "text/html": [
       "<div>\n",
       "<style scoped>\n",
       "    .dataframe tbody tr th:only-of-type {\n",
       "        vertical-align: middle;\n",
       "    }\n",
       "\n",
       "    .dataframe tbody tr th {\n",
       "        vertical-align: top;\n",
       "    }\n",
       "\n",
       "    .dataframe thead th {\n",
       "        text-align: right;\n",
       "    }\n",
       "</style>\n",
       "<table border=\"1\" class=\"dataframe\">\n",
       "  <thead>\n",
       "    <tr style=\"text-align: right;\">\n",
       "      <th></th>\n",
       "      <th>RECORD_TIME</th>\n",
       "    </tr>\n",
       "  </thead>\n",
       "  <tbody>\n",
       "    <tr>\n",
       "      <th>0</th>\n",
       "      <td>2021-10-22 17:00</td>\n",
       "    </tr>\n",
       "    <tr>\n",
       "      <th>1</th>\n",
       "      <td>2021-10-22 16:30</td>\n",
       "    </tr>\n",
       "  </tbody>\n",
       "</table>\n",
       "</div>"
      ],
      "text/plain": [
       "        RECORD_TIME\n",
       "0  2021-10-22 17:00\n",
       "1  2021-10-22 16:30"
      ]
     },
     "execution_count": 3,
     "metadata": {},
     "output_type": "execute_result"
    }
   ],
   "source": [
    "timestamps"
   ]
  },
  {
   "cell_type": "code",
   "execution_count": 4,
   "id": "alternate-victory",
   "metadata": {
    "execution": {
     "iopub.execute_input": "2021-10-22T15:00:08.487835Z",
     "iopub.status.busy": "2021-10-22T15:00:08.485569Z",
     "iopub.status.idle": "2021-10-22T15:00:09.396042Z",
     "shell.execute_reply": "2021-10-22T15:00:09.397479Z"
    },
    "papermill": {
     "duration": 0.941263,
     "end_time": "2021-10-22T15:00:09.397892",
     "exception": false,
     "start_time": "2021-10-22T15:00:08.456629",
     "status": "completed"
    },
    "tags": []
   },
   "outputs": [],
   "source": [
    "df = pd.read_sql(\"select * from EBAY_TOP_BERLIN where record_time in (select distinct record_time from EBAY_TOP_BERLIN order by record_time desc limit 2)\", sqlite3.connect(\"UsedObjects.db\"))"
   ]
  },
  {
   "cell_type": "code",
   "execution_count": 5,
   "id": "popular-active",
   "metadata": {
    "execution": {
     "iopub.execute_input": "2021-10-22T15:00:09.469754Z",
     "iopub.status.busy": "2021-10-22T15:00:09.457212Z",
     "iopub.status.idle": "2021-10-22T15:00:09.486588Z",
     "shell.execute_reply": "2021-10-22T15:00:09.485291Z"
    },
    "papermill": {
     "duration": 0.068353,
     "end_time": "2021-10-22T15:00:09.486916",
     "exception": false,
     "start_time": "2021-10-22T15:00:09.418563",
     "status": "completed"
    },
    "tags": []
   },
   "outputs": [],
   "source": [
    "df_pivot = df.pivot_table(index=\"PRODUCT\", columns = \"RECORD_TIME\", values = \"LISTING_COUNT\")"
   ]
  },
  {
   "cell_type": "code",
   "execution_count": 6,
   "id": "union-huntington",
   "metadata": {
    "execution": {
     "iopub.execute_input": "2021-10-22T15:00:09.545061Z",
     "iopub.status.busy": "2021-10-22T15:00:09.542770Z",
     "iopub.status.idle": "2021-10-22T15:00:09.548509Z",
     "shell.execute_reply": "2021-10-22T15:00:09.549834Z"
    },
    "papermill": {
     "duration": 0.041643,
     "end_time": "2021-10-22T15:00:09.550249",
     "exception": false,
     "start_time": "2021-10-22T15:00:09.508606",
     "status": "completed"
    },
    "tags": []
   },
   "outputs": [],
   "source": [
    "df_pivot.columns = [\"stamp_1\", \"stamp_2\"]\n",
    "df_pivot_diff = df_pivot.diff(axis=1)"
   ]
  },
  {
   "cell_type": "code",
   "execution_count": 7,
   "id": "fifth-motion",
   "metadata": {
    "execution": {
     "iopub.execute_input": "2021-10-22T15:00:09.604217Z",
     "iopub.status.busy": "2021-10-22T15:00:09.602033Z",
     "iopub.status.idle": "2021-10-22T15:00:11.070321Z",
     "shell.execute_reply": "2021-10-22T15:00:11.071573Z"
    },
    "papermill": {
     "duration": 1.500989,
     "end_time": "2021-10-22T15:00:11.071979",
     "exception": false,
     "start_time": "2021-10-22T15:00:09.570990",
     "status": "completed"
    },
    "tags": []
   },
   "outputs": [
    {
     "data": {
      "text/plain": [
       "<AxesSubplot:ylabel='PRODUCT'>"
      ]
     },
     "execution_count": 7,
     "metadata": {},
     "output_type": "execute_result"
    },
    {
     "data": {
      "image/png": "[encoded data removed]",
      "text/plain": [
       "<Figure size 432x288 with 1 Axes>"
      ]
     },
     "metadata": {
      "needs_background": "light"
     },
     "output_type": "display_data"
    }
   ],
   "source": [
    "df_pivot_diff.sort_values(\"stamp_2\", ascending = False)[\"stamp_2\"].head(10).plot.barh()"
   ]
  },
  {
   "cell_type": "code",
   "execution_count": null,
   "id": "extra-executive",
   "metadata": {
    "papermill": {
     "duration": 0.02226,
     "end_time": "2021-10-22T15:00:11.118194",
     "exception": false,
     "start_time": "2021-10-22T15:00:11.095934",
     "status": "completed"
    },
    "tags": []
   },
   "outputs": [],
   "source": []
  }
 ],
 "metadata": {
  "kernelspec": {
   "display_name": "Python 3",
   "language": "python",
   "name": "python3"
  },
  "language_info": {
   "codemirror_mode": {
    "name": "ipython",
    "version": 3
   },
   "file_extension": ".py",
   "mimetype": "text/x-python",
   "name": "python",
   "nbconvert_exporter": "python",
   "pygments_lexer": "ipython3",
   "version": "3.9.5"
  },
  "papermill": {
   "default_parameters": {},
   "duration": 7.348715,
   "end_time": "2021-10-22T15:00:11.762561",
   "environment_variables": {},
   "exception": null,
   "input_path": "eBay_Overview.ipynb",
   "output_path": "eBay_Overview.ipynb",
   "parameters": {},
   "start_time": "2021-10-22T15:00:04.413846",
   "version": "2.3.3"
  }
 },
 "nbformat": 4,
 "nbformat_minor": 5
}