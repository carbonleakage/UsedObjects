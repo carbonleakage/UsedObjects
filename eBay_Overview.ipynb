{
 "cells": [
  {
   "cell_type": "code",
   "execution_count": 1,
   "id": "reverse-picking",
   "metadata": {
    "execution": {
     "iopub.execute_input": "2021-09-02T17:00:06.840766Z",
     "iopub.status.busy": "2021-09-02T17:00:06.838786Z",
     "iopub.status.idle": "2021-09-02T17:00:07.641758Z",
     "shell.execute_reply": "2021-09-02T17:00:07.643173Z"
    },
    "papermill": {
     "duration": 0.856137,
     "end_time": "2021-09-02T17:00:07.643847",
     "exception": false,
     "start_time": "2021-09-02T17:00:06.787710",
     "status": "completed"
    },
    "tags": []
   },
   "outputs": [],
   "source": [
    "import pandas as pd\n",
    "import sqlite3"
   ]
  },
  {
   "cell_type": "code",
   "execution_count": 2,
   "id": "innovative-syndrome",
   "metadata": {
    "execution": {
     "iopub.execute_input": "2021-09-02T17:00:07.694322Z",
     "iopub.status.busy": "2021-09-02T17:00:07.692428Z",
     "iopub.status.idle": "2021-09-02T17:00:07.885916Z",
     "shell.execute_reply": "2021-09-02T17:00:07.884708Z"
    },
    "papermill": {
     "duration": 0.222221,
     "end_time": "2021-09-02T17:00:07.886258",
     "exception": false,
     "start_time": "2021-09-02T17:00:07.664037",
     "status": "completed"
    },
    "tags": []
   },
   "outputs": [],
   "source": [
    "timestamps = pd.read_sql(\"select distinct record_time from EBAY_TOP_BERLIN order by record_time desc limit 2\", sqlite3.connect(\"UsedObjects.db\"))"
   ]
  },
  {
   "cell_type": "code",
   "execution_count": 3,
   "id": "periodic-identification",
   "metadata": {
    "execution": {
     "iopub.execute_input": "2021-09-02T17:00:07.956544Z",
     "iopub.status.busy": "2021-09-02T17:00:07.951787Z",
     "iopub.status.idle": "2021-09-02T17:00:07.973422Z",
     "shell.execute_reply": "2021-09-02T17:00:07.974609Z"
    },
    "papermill": {
     "duration": 0.067191,
     "end_time": "2021-09-02T17:00:07.975080",
     "exception": false,
     "start_time": "2021-09-02T17:00:07.907889",
     "status": "completed"
    },
    "tags": []
   },
   "outputs": [
    {
     "data": {
      "text/html": [
       "<div>\n",
       "<style scoped>\n",
       "    .dataframe tbody tr th:only-of-type {\n",
       "        vertical-align: middle;\n",
       "    }\n",
       "\n",
       "    .dataframe tbody tr th {\n",
       "        vertical-align: top;\n",
       "    }\n",
       "\n",
       "    .dataframe thead th {\n",
       "        text-align: right;\n",
       "    }\n",
       "</style>\n",
       "<table border=\"1\" class=\"dataframe\">\n",
       "  <thead>\n",
       "    <tr style=\"text-align: right;\">\n",
       "      <th></th>\n",
       "      <th>RECORD_TIME</th>\n",
       "    </tr>\n",
       "  </thead>\n",
       "  <tbody>\n",
       "    <tr>\n",
       "      <th>0</th>\n",
       "      <td>2021-09-02 19:00</td>\n",
       "    </tr>\n",
       "    <tr>\n",
       "      <th>1</th>\n",
       "      <td>2021-09-02 18:30</td>\n",
       "    </tr>\n",
       "  </tbody>\n",
       "</table>\n",
       "</div>"
      ],
      "text/plain": [
       "        RECORD_TIME\n",
       "0  2021-09-02 19:00\n",
       "1  2021-09-02 18:30"
      ]
     },
     "execution_count": 3,
     "metadata": {},
     "output_type": "execute_result"
    }
   ],
   "source": [
    "timestamps"
   ]
  },
  {
   "cell_type": "code",
   "execution_count": 4,
   "id": "alternate-victory",
   "metadata": {
    "execution": {
     "iopub.execute_input": "2021-09-02T17:00:08.025938Z",
     "iopub.status.busy": "2021-09-02T17:00:08.024140Z",
     "iopub.status.idle": "2021-09-02T17:00:08.309394Z",
     "shell.execute_reply": "2021-09-02T17:00:08.310585Z"
    },
    "papermill": {
     "duration": 0.315342,
     "end_time": "2021-09-02T17:00:08.311021",
     "exception": false,
     "start_time": "2021-09-02T17:00:07.995679",
     "status": "completed"
    },
    "tags": []
   },
   "outputs": [],
   "source": [
    "df = pd.read_sql(\"select * from EBAY_TOP_BERLIN where record_time in (select distinct record_time from EBAY_TOP_BERLIN order by record_time desc limit 2)\", sqlite3.connect(\"UsedObjects.db\"))"
   ]
  },
  {
   "cell_type": "code",
   "execution_count": 5,
   "id": "popular-active",
   "metadata": {
    "execution": {
     "iopub.execute_input": "2021-09-02T17:00:08.392764Z",
     "iopub.status.busy": "2021-09-02T17:00:08.380632Z",
     "iopub.status.idle": "2021-09-02T17:00:08.408532Z",
     "shell.execute_reply": "2021-09-02T17:00:08.409799Z"
    },
    "papermill": {
     "duration": 0.071838,
     "end_time": "2021-09-02T17:00:08.410209",
     "exception": false,
     "start_time": "2021-09-02T17:00:08.338371",
     "status": "completed"
    },
    "tags": []
   },
   "outputs": [],
   "source": [
    "df_pivot = df.pivot_table(index=\"PRODUCT\", columns = \"RECORD_TIME\", values = \"LISTING_COUNT\")"
   ]
  },
  {
   "cell_type": "code",
   "execution_count": 6,
   "id": "union-huntington",
   "metadata": {
    "execution": {
     "iopub.execute_input": "2021-09-02T17:00:08.465686Z",
     "iopub.status.busy": "2021-09-02T17:00:08.463652Z",
     "iopub.status.idle": "2021-09-02T17:00:08.468832Z",
     "shell.execute_reply": "2021-09-02T17:00:08.470095Z"
    },
    "papermill": {
     "duration": 0.040061,
     "end_time": "2021-09-02T17:00:08.470510",
     "exception": false,
     "start_time": "2021-09-02T17:00:08.430449",
     "status": "completed"
    },
    "tags": []
   },
   "outputs": [],
   "source": [
    "df_pivot.columns = [\"stamp_1\", \"stamp_2\"]\n",
    "df_pivot_diff = df_pivot.diff(axis=1)"
   ]
  },
  {
   "cell_type": "code",
   "execution_count": 7,
   "id": "fifth-motion",
   "metadata": {
    "execution": {
     "iopub.execute_input": "2021-09-02T17:00:08.526709Z",
     "iopub.status.busy": "2021-09-02T17:00:08.524098Z",
     "iopub.status.idle": "2021-09-02T17:00:09.990280Z",
     "shell.execute_reply": "2021-09-02T17:00:09.991697Z"
    },
    "papermill": {
     "duration": 1.500209,
     "end_time": "2021-09-02T17:00:09.992139",
     "exception": false,
     "start_time": "2021-09-02T17:00:08.491930",
     "status": "completed"
    },
    "tags": []
   },
   "outputs": [
    {
     "data": {
      "text/plain": [
       "<AxesSubplot:ylabel='PRODUCT'>"
      ]
     },
     "execution_count": 7,
     "metadata": {},
     "output_type": "execute_result"
    },
    {
     "data": {
      "image/png": "[encoded data removed]",
      "text/plain": [
       "<Figure size 432x288 with 1 Axes>"
      ]
     },
     "metadata": {
      "needs_background": "light"
     },
     "output_type": "display_data"
    }
   ],
   "source": [
    "df_pivot_diff.sort_values(\"stamp_2\", ascending = False)[\"stamp_2\"].head(10).plot.barh()"
   ]
  },
  {
   "cell_type": "code",
   "execution_count": null,
   "id": "extra-executive",
   "metadata": {
    "papermill": {
     "duration": 0.022264,
     "end_time": "2021-09-02T17:00:10.038277",
     "exception": false,
     "start_time": "2021-09-02T17:00:10.016013",
     "status": "completed"
    },
    "tags": []
   },
   "outputs": [],
   "source": []
  }
 ],
 "metadata": {
  "kernelspec": {
   "display_name": "Python 3",
   "language": "python",
   "name": "python3"
  },
  "language_info": {
   "codemirror_mode": {
    "name": "ipython",
    "version": 3
   },
   "file_extension": ".py",
   "mimetype": "text/x-python",
   "name": "python",
   "nbconvert_exporter": "python",
   "pygments_lexer": "ipython3",
   "version": "3.9.5"
  },
  "papermill": {
   "default_parameters": {},
   "duration": 6.815124,
   "end_time": "2021-09-02T17:00:11.211022",
   "environment_variables": {},
   "exception": null,
   "input_path": "eBay_Overview.ipynb",
   "output_path": "eBay_Overview.ipynb",
   "parameters": {},
   "start_time": "2021-09-02T17:00:04.395898",
   "version": "2.3.3"
  }
 },
 "nbformat": 4,
 "nbformat_minor": 5
}