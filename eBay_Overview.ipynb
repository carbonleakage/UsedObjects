{
 "cells": [
  {
   "cell_type": "code",
   "execution_count": 1,
   "id": "reverse-picking",
   "metadata": {
    "execution": {
     "iopub.execute_input": "2021-12-16T18:30:07.991527Z",
     "iopub.status.busy": "2021-12-16T18:30:07.989363Z",
     "iopub.status.idle": "2021-12-16T18:30:08.946728Z",
     "shell.execute_reply": "2021-12-16T18:30:08.950127Z"
    },
    "papermill": {
     "duration": 1.009684,
     "end_time": "2021-12-16T18:30:08.951646",
     "exception": false,
     "start_time": "2021-12-16T18:30:07.941962",
     "status": "completed"
    },
    "tags": []
   },
   "outputs": [],
   "source": [
    "import pandas as pd\n",
    "import sqlite3"
   ]
  },
  {
   "cell_type": "code",
   "execution_count": 2,
   "id": "innovative-syndrome",
   "metadata": {
    "execution": {
     "iopub.execute_input": "2021-12-16T18:30:09.023386Z",
     "iopub.status.busy": "2021-12-16T18:30:09.021242Z",
     "iopub.status.idle": "2021-12-16T18:30:10.123720Z",
     "shell.execute_reply": "2021-12-16T18:30:10.125288Z"
    },
    "papermill": {
     "duration": 1.137035,
     "end_time": "2021-12-16T18:30:10.125970",
     "exception": false,
     "start_time": "2021-12-16T18:30:08.988935",
     "status": "completed"
    },
    "tags": []
   },
   "outputs": [],
   "source": [
    "timestamps = pd.read_sql(\"select distinct record_time from EBAY_TOP_BERLIN order by record_time desc limit 2\", sqlite3.connect(\"UsedObjects.db\"))"
   ]
  },
  {
   "cell_type": "code",
   "execution_count": 3,
   "id": "periodic-identification",
   "metadata": {
    "execution": {
     "iopub.execute_input": "2021-12-16T18:30:10.177863Z",
     "iopub.status.busy": "2021-12-16T18:30:10.175592Z",
     "iopub.status.idle": "2021-12-16T18:30:10.217609Z",
     "shell.execute_reply": "2021-12-16T18:30:10.220299Z"
    },
    "papermill": {
     "duration": 0.073531,
     "end_time": "2021-12-16T18:30:10.220945",
     "exception": false,
     "start_time": "2021-12-16T18:30:10.147414",
     "status": "completed"
    },
    "tags": []
   },
   "outputs": [
    {
     "data": {
      "text/html": [
       "<div>\n",
       "<style scoped>\n",
       "    .dataframe tbody tr th:only-of-type {\n",
       "        vertical-align: middle;\n",
       "    }\n",
       "\n",
       "    .dataframe tbody tr th {\n",
       "        vertical-align: top;\n",
       "    }\n",
       "\n",
       "    .dataframe thead th {\n",
       "        text-align: right;\n",
       "    }\n",
       "</style>\n",
       "<table border=\"1\" class=\"dataframe\">\n",
       "  <thead>\n",
       "    <tr style=\"text-align: right;\">\n",
       "      <th></th>\n",
       "      <th>RECORD_TIME</th>\n",
       "    </tr>\n",
       "  </thead>\n",
       "  <tbody>\n",
       "    <tr>\n",
       "      <th>0</th>\n",
       "      <td>2021-12-16 19:30</td>\n",
       "    </tr>\n",
       "    <tr>\n",
       "      <th>1</th>\n",
       "      <td>2021-12-16 19:00</td>\n",
       "    </tr>\n",
       "  </tbody>\n",
       "</table>\n",
       "</div>"
      ],
      "text/plain": [
       "        RECORD_TIME\n",
       "0  2021-12-16 19:30\n",
       "1  2021-12-16 19:00"
      ]
     },
     "execution_count": 3,
     "metadata": {},
     "output_type": "execute_result"
    }
   ],
   "source": [
    "timestamps"
   ]
  },
  {
   "cell_type": "code",
   "execution_count": 4,
   "id": "alternate-victory",
   "metadata": {
    "execution": {
     "iopub.execute_input": "2021-12-16T18:30:10.275640Z",
     "iopub.status.busy": "2021-12-16T18:30:10.273394Z",
     "iopub.status.idle": "2021-12-16T18:30:11.917656Z",
     "shell.execute_reply": "2021-12-16T18:30:11.919723Z"
    },
    "papermill": {
     "duration": 1.678199,
     "end_time": "2021-12-16T18:30:11.920193",
     "exception": false,
     "start_time": "2021-12-16T18:30:10.241994",
     "status": "completed"
    },
    "tags": []
   },
   "outputs": [],
   "source": [
    "df = pd.read_sql(\"select * from EBAY_TOP_BERLIN where record_time in (select distinct record_time from EBAY_TOP_BERLIN order by record_time desc limit 2)\", sqlite3.connect(\"UsedObjects.db\"))"
   ]
  },
  {
   "cell_type": "code",
   "execution_count": 5,
   "id": "popular-active",
   "metadata": {
    "execution": {
     "iopub.execute_input": "2021-12-16T18:30:11.983561Z",
     "iopub.status.busy": "2021-12-16T18:30:11.981164Z",
     "iopub.status.idle": "2021-12-16T18:30:12.015846Z",
     "shell.execute_reply": "2021-12-16T18:30:12.017568Z"
    },
    "papermill": {
     "duration": 0.077276,
     "end_time": "2021-12-16T18:30:12.018151",
     "exception": false,
     "start_time": "2021-12-16T18:30:11.940875",
     "status": "completed"
    },
    "tags": []
   },
   "outputs": [],
   "source": [
    "df_pivot = df.pivot_table(index=\"PRODUCT\", columns = \"RECORD_TIME\", values = \"LISTING_COUNT\")"
   ]
  },
  {
   "cell_type": "code",
   "execution_count": 6,
   "id": "union-huntington",
   "metadata": {
    "execution": {
     "iopub.execute_input": "2021-12-16T18:30:12.077778Z",
     "iopub.status.busy": "2021-12-16T18:30:12.075542Z",
     "iopub.status.idle": "2021-12-16T18:30:12.081403Z",
     "shell.execute_reply": "2021-12-16T18:30:12.082845Z"
    },
    "papermill": {
     "duration": 0.043526,
     "end_time": "2021-12-16T18:30:12.083298",
     "exception": false,
     "start_time": "2021-12-16T18:30:12.039772",
     "status": "completed"
    },
    "tags": []
   },
   "outputs": [],
   "source": [
    "df_pivot.columns = [\"stamp_1\", \"stamp_2\"]\n",
    "df_pivot_diff = df_pivot.diff(axis=1)"
   ]
  },
  {
   "cell_type": "code",
   "execution_count": 7,
   "id": "fifth-motion",
   "metadata": {
    "execution": {
     "iopub.execute_input": "2021-12-16T18:30:12.139473Z",
     "iopub.status.busy": "2021-12-16T18:30:12.137063Z",
     "iopub.status.idle": "2021-12-16T18:30:14.134221Z",
     "shell.execute_reply": "2021-12-16T18:30:14.135690Z"
    },
    "papermill": {
     "duration": 2.032516,
     "end_time": "2021-12-16T18:30:14.136204",
     "exception": false,
     "start_time": "2021-12-16T18:30:12.103688",
     "status": "completed"
    },
    "tags": []
   },
   "outputs": [
    {
     "data": {
      "text/plain": [
       "<AxesSubplot:ylabel='PRODUCT'>"
      ]
     },
     "execution_count": 7,
     "metadata": {},
     "output_type": "execute_result"
    },
    {
     "data": {
      "image/png": "[encoded data removed]",
      "text/plain": [
       "<Figure size 432x288 with 1 Axes>"
      ]
     },
     "metadata": {
      "needs_background": "light"
     },
     "output_type": "display_data"
    }
   ],
   "source": [
    "df_pivot_diff.sort_values(\"stamp_2\", ascending = False)[\"stamp_2\"].head(10).plot.barh()"
   ]
  },
  {
   "cell_type": "code",
   "execution_count": null,
   "id": "extra-executive",
   "metadata": {
    "papermill": {
     "duration": 0.026074,
     "end_time": "2021-12-16T18:30:14.196310",
     "exception": false,
     "start_time": "2021-12-16T18:30:14.170236",
     "status": "completed"
    },
    "tags": []
   },
   "outputs": [],
   "source": []
  }
 ],
 "metadata": {
  "kernelspec": {
   "display_name": "Python 3",
   "language": "python",
   "name": "python3"
  },
  "language_info": {
   "codemirror_mode": {
    "name": "ipython",
    "version": 3
   },
   "file_extension": ".py",
   "mimetype": "text/x-python",
   "name": "python",
   "nbconvert_exporter": "python",
   "pygments_lexer": "ipython3",
   "version": "3.9.5"
  },
  "papermill": {
   "default_parameters": {},
   "duration": 9.63932,
   "end_time": "2021-12-16T18:30:14.848129",
   "environment_variables": {},
   "exception": null,
   "input_path": "eBay_Overview.ipynb",
   "output_path": "eBay_Overview.ipynb",
   "parameters": {},
   "start_time": "2021-12-16T18:30:05.208809",
   "version": "2.3.3"
  }
 },
 "nbformat": 4,
 "nbformat_minor": 5
}