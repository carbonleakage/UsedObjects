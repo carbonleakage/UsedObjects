{
 "cells": [
  {
   "cell_type": "code",
   "execution_count": 1,
   "id": "reverse-picking",
   "metadata": {
    "execution": {
     "iopub.execute_input": "2021-10-09T02:00:06.944379Z",
     "iopub.status.busy": "2021-10-09T02:00:06.942331Z",
     "iopub.status.idle": "2021-10-09T02:00:07.776148Z",
     "shell.execute_reply": "2021-10-09T02:00:07.774346Z"
    },
    "papermill": {
     "duration": 0.881844,
     "end_time": "2021-10-09T02:00:07.776688",
     "exception": false,
     "start_time": "2021-10-09T02:00:06.894844",
     "status": "completed"
    },
    "tags": []
   },
   "outputs": [],
   "source": [
    "import pandas as pd\n",
    "import sqlite3"
   ]
  },
  {
   "cell_type": "code",
   "execution_count": 2,
   "id": "innovative-syndrome",
   "metadata": {
    "execution": {
     "iopub.execute_input": "2021-10-09T02:00:07.828847Z",
     "iopub.status.busy": "2021-10-09T02:00:07.826429Z",
     "iopub.status.idle": "2021-10-09T02:00:08.311255Z",
     "shell.execute_reply": "2021-10-09T02:00:08.312410Z"
    },
    "papermill": {
     "duration": 0.514653,
     "end_time": "2021-10-09T02:00:08.312823",
     "exception": false,
     "start_time": "2021-10-09T02:00:07.798170",
     "status": "completed"
    },
    "tags": []
   },
   "outputs": [],
   "source": [
    "timestamps = pd.read_sql(\"select distinct record_time from EBAY_TOP_BERLIN order by record_time desc limit 2\", sqlite3.connect(\"UsedObjects.db\"))"
   ]
  },
  {
   "cell_type": "code",
   "execution_count": 3,
   "id": "periodic-identification",
   "metadata": {
    "execution": {
     "iopub.execute_input": "2021-10-09T02:00:08.410113Z",
     "iopub.status.busy": "2021-10-09T02:00:08.408094Z",
     "iopub.status.idle": "2021-10-09T02:00:08.427962Z",
     "shell.execute_reply": "2021-10-09T02:00:08.429168Z"
    },
    "papermill": {
     "duration": 0.094022,
     "end_time": "2021-10-09T02:00:08.429595",
     "exception": false,
     "start_time": "2021-10-09T02:00:08.335573",
     "status": "completed"
    },
    "tags": []
   },
   "outputs": [
    {
     "data": {
      "text/html": [
       "<div>\n",
       "<style scoped>\n",
       "    .dataframe tbody tr th:only-of-type {\n",
       "        vertical-align: middle;\n",
       "    }\n",
       "\n",
       "    .dataframe tbody tr th {\n",
       "        vertical-align: top;\n",
       "    }\n",
       "\n",
       "    .dataframe thead th {\n",
       "        text-align: right;\n",
       "    }\n",
       "</style>\n",
       "<table border=\"1\" class=\"dataframe\">\n",
       "  <thead>\n",
       "    <tr style=\"text-align: right;\">\n",
       "      <th></th>\n",
       "      <th>RECORD_TIME</th>\n",
       "    </tr>\n",
       "  </thead>\n",
       "  <tbody>\n",
       "    <tr>\n",
       "      <th>0</th>\n",
       "      <td>2021-10-09 04:00</td>\n",
       "    </tr>\n",
       "    <tr>\n",
       "      <th>1</th>\n",
       "      <td>2021-10-09 03:30</td>\n",
       "    </tr>\n",
       "  </tbody>\n",
       "</table>\n",
       "</div>"
      ],
      "text/plain": [
       "        RECORD_TIME\n",
       "0  2021-10-09 04:00\n",
       "1  2021-10-09 03:30"
      ]
     },
     "execution_count": 3,
     "metadata": {},
     "output_type": "execute_result"
    }
   ],
   "source": [
    "timestamps"
   ]
  },
  {
   "cell_type": "code",
   "execution_count": 4,
   "id": "alternate-victory",
   "metadata": {
    "execution": {
     "iopub.execute_input": "2021-10-09T02:00:08.483828Z",
     "iopub.status.busy": "2021-10-09T02:00:08.481456Z",
     "iopub.status.idle": "2021-10-09T02:00:09.191167Z",
     "shell.execute_reply": "2021-10-09T02:00:09.192617Z"
    },
    "papermill": {
     "duration": 0.740367,
     "end_time": "2021-10-09T02:00:09.193046",
     "exception": false,
     "start_time": "2021-10-09T02:00:08.452679",
     "status": "completed"
    },
    "tags": []
   },
   "outputs": [],
   "source": [
    "df = pd.read_sql(\"select * from EBAY_TOP_BERLIN where record_time in (select distinct record_time from EBAY_TOP_BERLIN order by record_time desc limit 2)\", sqlite3.connect(\"UsedObjects.db\"))"
   ]
  },
  {
   "cell_type": "code",
   "execution_count": 5,
   "id": "popular-active",
   "metadata": {
    "execution": {
     "iopub.execute_input": "2021-10-09T02:00:09.263014Z",
     "iopub.status.busy": "2021-10-09T02:00:09.256026Z",
     "iopub.status.idle": "2021-10-09T02:00:09.280266Z",
     "shell.execute_reply": "2021-10-09T02:00:09.281644Z"
    },
    "papermill": {
     "duration": 0.068357,
     "end_time": "2021-10-09T02:00:09.282081",
     "exception": false,
     "start_time": "2021-10-09T02:00:09.213724",
     "status": "completed"
    },
    "tags": []
   },
   "outputs": [],
   "source": [
    "df_pivot = df.pivot_table(index=\"PRODUCT\", columns = \"RECORD_TIME\", values = \"LISTING_COUNT\")"
   ]
  },
  {
   "cell_type": "code",
   "execution_count": 6,
   "id": "union-huntington",
   "metadata": {
    "execution": {
     "iopub.execute_input": "2021-10-09T02:00:09.338950Z",
     "iopub.status.busy": "2021-10-09T02:00:09.336846Z",
     "iopub.status.idle": "2021-10-09T02:00:09.342031Z",
     "shell.execute_reply": "2021-10-09T02:00:09.343329Z"
    },
    "papermill": {
     "duration": 0.040775,
     "end_time": "2021-10-09T02:00:09.343776",
     "exception": false,
     "start_time": "2021-10-09T02:00:09.303001",
     "status": "completed"
    },
    "tags": []
   },
   "outputs": [],
   "source": [
    "df_pivot.columns = [\"stamp_1\", \"stamp_2\"]\n",
    "df_pivot_diff = df_pivot.diff(axis=1)"
   ]
  },
  {
   "cell_type": "code",
   "execution_count": 7,
   "id": "fifth-motion",
   "metadata": {
    "execution": {
     "iopub.execute_input": "2021-10-09T02:00:09.397974Z",
     "iopub.status.busy": "2021-10-09T02:00:09.395593Z",
     "iopub.status.idle": "2021-10-09T02:00:10.874038Z",
     "shell.execute_reply": "2021-10-09T02:00:10.875779Z"
    },
    "papermill": {
     "duration": 1.511889,
     "end_time": "2021-10-09T02:00:10.876228",
     "exception": false,
     "start_time": "2021-10-09T02:00:09.364339",
     "status": "completed"
    },
    "tags": []
   },
   "outputs": [
    {
     "data": {
      "text/plain": [
       "<AxesSubplot:ylabel='PRODUCT'>"
      ]
     },
     "execution_count": 7,
     "metadata": {},
     "output_type": "execute_result"
    },
    {
     "data": {
      "image/png": "[encoded data removed]",
      "text/plain": [
       "<Figure size 432x288 with 1 Axes>"
      ]
     },
     "metadata": {
      "needs_background": "light"
     },
     "output_type": "display_data"
    }
   ],
   "source": [
    "df_pivot_diff.sort_values(\"stamp_2\", ascending = False)[\"stamp_2\"].head(10).plot.barh()"
   ]
  },
  {
   "cell_type": "code",
   "execution_count": null,
   "id": "extra-executive",
   "metadata": {
    "papermill": {
     "duration": 0.022492,
     "end_time": "2021-10-09T02:00:10.924692",
     "exception": false,
     "start_time": "2021-10-09T02:00:10.902200",
     "status": "completed"
    },
    "tags": []
   },
   "outputs": [],
   "source": []
  }
 ],
 "metadata": {
  "kernelspec": {
   "display_name": "Python 3",
   "language": "python",
   "name": "python3"
  },
  "language_info": {
   "codemirror_mode": {
    "name": "ipython",
    "version": 3
   },
   "file_extension": ".py",
   "mimetype": "text/x-python",
   "name": "python",
   "nbconvert_exporter": "python",
   "pygments_lexer": "ipython3",
   "version": "3.9.5"
  },
  "papermill": {
   "default_parameters": {},
   "duration": 7.827181,
   "end_time": "2021-10-09T02:00:12.306396",
   "environment_variables": {},
   "exception": null,
   "input_path": "eBay_Overview.ipynb",
   "output_path": "eBay_Overview.ipynb",
   "parameters": {},
   "start_time": "2021-10-09T02:00:04.479215",
   "version": "2.3.3"
  }
 },
 "nbformat": 4,
 "nbformat_minor": 5
}