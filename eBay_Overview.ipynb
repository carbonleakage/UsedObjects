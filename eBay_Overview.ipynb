{
 "cells": [
  {
   "cell_type": "code",
   "execution_count": 1,
   "id": "reverse-picking",
   "metadata": {
    "execution": {
     "iopub.execute_input": "2021-11-18T20:00:07.525153Z",
     "iopub.status.busy": "2021-11-18T20:00:07.522699Z",
     "iopub.status.idle": "2021-11-18T20:00:08.462495Z",
     "shell.execute_reply": "2021-11-18T20:00:08.464123Z"
    },
    "papermill": {
     "duration": 0.988778,
     "end_time": "2021-11-18T20:00:08.464909",
     "exception": false,
     "start_time": "2021-11-18T20:00:07.476131",
     "status": "completed"
    },
    "tags": []
   },
   "outputs": [],
   "source": [
    "import pandas as pd\n",
    "import sqlite3"
   ]
  },
  {
   "cell_type": "code",
   "execution_count": 2,
   "id": "innovative-syndrome",
   "metadata": {
    "execution": {
     "iopub.execute_input": "2021-11-18T20:00:08.523203Z",
     "iopub.status.busy": "2021-11-18T20:00:08.520222Z",
     "iopub.status.idle": "2021-11-18T20:00:09.386110Z",
     "shell.execute_reply": "2021-11-18T20:00:09.387518Z"
    },
    "papermill": {
     "duration": 0.900707,
     "end_time": "2021-11-18T20:00:09.387953",
     "exception": false,
     "start_time": "2021-11-18T20:00:08.487246",
     "status": "completed"
    },
    "tags": []
   },
   "outputs": [],
   "source": [
    "timestamps = pd.read_sql(\"select distinct record_time from EBAY_TOP_BERLIN order by record_time desc limit 2\", sqlite3.connect(\"UsedObjects.db\"))"
   ]
  },
  {
   "cell_type": "code",
   "execution_count": 3,
   "id": "periodic-identification",
   "metadata": {
    "execution": {
     "iopub.execute_input": "2021-11-18T20:00:09.459534Z",
     "iopub.status.busy": "2021-11-18T20:00:09.457050Z",
     "iopub.status.idle": "2021-11-18T20:00:09.484187Z",
     "shell.execute_reply": "2021-11-18T20:00:09.485686Z"
    },
    "papermill": {
     "duration": 0.077992,
     "end_time": "2021-11-18T20:00:09.486183",
     "exception": false,
     "start_time": "2021-11-18T20:00:09.408191",
     "status": "completed"
    },
    "tags": []
   },
   "outputs": [
    {
     "data": {
      "text/html": [
       "<div>\n",
       "<style scoped>\n",
       "    .dataframe tbody tr th:only-of-type {\n",
       "        vertical-align: middle;\n",
       "    }\n",
       "\n",
       "    .dataframe tbody tr th {\n",
       "        vertical-align: top;\n",
       "    }\n",
       "\n",
       "    .dataframe thead th {\n",
       "        text-align: right;\n",
       "    }\n",
       "</style>\n",
       "<table border=\"1\" class=\"dataframe\">\n",
       "  <thead>\n",
       "    <tr style=\"text-align: right;\">\n",
       "      <th></th>\n",
       "      <th>RECORD_TIME</th>\n",
       "    </tr>\n",
       "  </thead>\n",
       "  <tbody>\n",
       "    <tr>\n",
       "      <th>0</th>\n",
       "      <td>2021-11-18 21:00</td>\n",
       "    </tr>\n",
       "    <tr>\n",
       "      <th>1</th>\n",
       "      <td>2021-11-18 20:30</td>\n",
       "    </tr>\n",
       "  </tbody>\n",
       "</table>\n",
       "</div>"
      ],
      "text/plain": [
       "        RECORD_TIME\n",
       "0  2021-11-18 21:00\n",
       "1  2021-11-18 20:30"
      ]
     },
     "execution_count": 3,
     "metadata": {},
     "output_type": "execute_result"
    }
   ],
   "source": [
    "timestamps"
   ]
  },
  {
   "cell_type": "code",
   "execution_count": 4,
   "id": "alternate-victory",
   "metadata": {
    "execution": {
     "iopub.execute_input": "2021-11-18T20:00:09.542865Z",
     "iopub.status.busy": "2021-11-18T20:00:09.540638Z",
     "iopub.status.idle": "2021-11-18T20:00:10.802179Z",
     "shell.execute_reply": "2021-11-18T20:00:10.803627Z"
    },
    "papermill": {
     "duration": 1.295625,
     "end_time": "2021-11-18T20:00:10.804091",
     "exception": false,
     "start_time": "2021-11-18T20:00:09.508466",
     "status": "completed"
    },
    "tags": []
   },
   "outputs": [],
   "source": [
    "df = pd.read_sql(\"select * from EBAY_TOP_BERLIN where record_time in (select distinct record_time from EBAY_TOP_BERLIN order by record_time desc limit 2)\", sqlite3.connect(\"UsedObjects.db\"))"
   ]
  },
  {
   "cell_type": "code",
   "execution_count": 5,
   "id": "popular-active",
   "metadata": {
    "execution": {
     "iopub.execute_input": "2021-11-18T20:00:10.873581Z",
     "iopub.status.busy": "2021-11-18T20:00:10.865139Z",
     "iopub.status.idle": "2021-11-18T20:00:10.906083Z",
     "shell.execute_reply": "2021-11-18T20:00:10.908477Z"
    },
    "papermill": {
     "duration": 0.084087,
     "end_time": "2021-11-18T20:00:10.909016",
     "exception": false,
     "start_time": "2021-11-18T20:00:10.824929",
     "status": "completed"
    },
    "tags": []
   },
   "outputs": [],
   "source": [
    "df_pivot = df.pivot_table(index=\"PRODUCT\", columns = \"RECORD_TIME\", values = \"LISTING_COUNT\")"
   ]
  },
  {
   "cell_type": "code",
   "execution_count": 6,
   "id": "union-huntington",
   "metadata": {
    "execution": {
     "iopub.execute_input": "2021-11-18T20:00:11.001203Z",
     "iopub.status.busy": "2021-11-18T20:00:10.998797Z",
     "iopub.status.idle": "2021-11-18T20:00:11.004662Z",
     "shell.execute_reply": "2021-11-18T20:00:11.006220Z"
    },
    "papermill": {
     "duration": 0.051452,
     "end_time": "2021-11-18T20:00:11.006727",
     "exception": false,
     "start_time": "2021-11-18T20:00:10.955275",
     "status": "completed"
    },
    "tags": []
   },
   "outputs": [],
   "source": [
    "df_pivot.columns = [\"stamp_1\", \"stamp_2\"]\n",
    "df_pivot_diff = df_pivot.diff(axis=1)"
   ]
  },
  {
   "cell_type": "code",
   "execution_count": 7,
   "id": "fifth-motion",
   "metadata": {
    "execution": {
     "iopub.execute_input": "2021-11-18T20:00:11.066183Z",
     "iopub.status.busy": "2021-11-18T20:00:11.063686Z",
     "iopub.status.idle": "2021-11-18T20:00:12.798572Z",
     "shell.execute_reply": "2021-11-18T20:00:12.799958Z"
    },
    "papermill": {
     "duration": 1.772234,
     "end_time": "2021-11-18T20:00:12.800471",
     "exception": false,
     "start_time": "2021-11-18T20:00:11.028237",
     "status": "completed"
    },
    "tags": []
   },
   "outputs": [
    {
     "data": {
      "text/plain": [
       "<AxesSubplot:ylabel='PRODUCT'>"
      ]
     },
     "execution_count": 7,
     "metadata": {},
     "output_type": "execute_result"
    },
    {
     "data": {
      "image/png": "[encoded data removed]",
      "text/plain": [
       "<Figure size 432x288 with 1 Axes>"
      ]
     },
     "metadata": {
      "needs_background": "light"
     },
     "output_type": "display_data"
    }
   ],
   "source": [
    "df_pivot_diff.sort_values(\"stamp_2\", ascending = False)[\"stamp_2\"].head(10).plot.barh()"
   ]
  },
  {
   "cell_type": "code",
   "execution_count": null,
   "id": "extra-executive",
   "metadata": {
    "papermill": {
     "duration": 0.0241,
     "end_time": "2021-11-18T20:00:12.849031",
     "exception": false,
     "start_time": "2021-11-18T20:00:12.824931",
     "status": "completed"
    },
    "tags": []
   },
   "outputs": [],
   "source": []
  }
 ],
 "metadata": {
  "kernelspec": {
   "display_name": "Python 3",
   "language": "python",
   "name": "python3"
  },
  "language_info": {
   "codemirror_mode": {
    "name": "ipython",
    "version": 3
   },
   "file_extension": ".py",
   "mimetype": "text/x-python",
   "name": "python",
   "nbconvert_exporter": "python",
   "pygments_lexer": "ipython3",
   "version": "3.9.5"
  },
  "papermill": {
   "default_parameters": {},
   "duration": 8.869197,
   "end_time": "2021-11-18T20:00:13.596425",
   "environment_variables": {},
   "exception": null,
   "input_path": "eBay_Overview.ipynb",
   "output_path": "eBay_Overview.ipynb",
   "parameters": {},
   "start_time": "2021-11-18T20:00:04.727228",
   "version": "2.3.3"
  }
 },
 "nbformat": 4,
 "nbformat_minor": 5
}