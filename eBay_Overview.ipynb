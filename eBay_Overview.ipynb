{
 "cells": [
  {
   "cell_type": "code",
   "execution_count": 1,
   "id": "reverse-picking",
   "metadata": {
    "execution": {
     "iopub.execute_input": "2021-09-19T21:30:06.848277Z",
     "iopub.status.busy": "2021-09-19T21:30:06.846257Z",
     "iopub.status.idle": "2021-09-19T21:30:07.648978Z",
     "shell.execute_reply": "2021-09-19T21:30:07.650235Z"
    },
    "papermill": {
     "duration": 0.853009,
     "end_time": "2021-09-19T21:30:07.650892",
     "exception": false,
     "start_time": "2021-09-19T21:30:06.797883",
     "status": "completed"
    },
    "tags": []
   },
   "outputs": [],
   "source": [
    "import pandas as pd\n",
    "import sqlite3"
   ]
  },
  {
   "cell_type": "code",
   "execution_count": 2,
   "id": "innovative-syndrome",
   "metadata": {
    "execution": {
     "iopub.execute_input": "2021-09-19T21:30:07.701267Z",
     "iopub.status.busy": "2021-09-19T21:30:07.699406Z",
     "iopub.status.idle": "2021-09-19T21:30:08.034210Z",
     "shell.execute_reply": "2021-09-19T21:30:08.035493Z"
    },
    "papermill": {
     "duration": 0.364459,
     "end_time": "2021-09-19T21:30:08.035890",
     "exception": false,
     "start_time": "2021-09-19T21:30:07.671431",
     "status": "completed"
    },
    "tags": []
   },
   "outputs": [],
   "source": [
    "timestamps = pd.read_sql(\"select distinct record_time from EBAY_TOP_BERLIN order by record_time desc limit 2\", sqlite3.connect(\"UsedObjects.db\"))"
   ]
  },
  {
   "cell_type": "code",
   "execution_count": 3,
   "id": "periodic-identification",
   "metadata": {
    "execution": {
     "iopub.execute_input": "2021-09-19T21:30:08.098913Z",
     "iopub.status.busy": "2021-09-19T21:30:08.096840Z",
     "iopub.status.idle": "2021-09-19T21:30:08.117560Z",
     "shell.execute_reply": "2021-09-19T21:30:08.118764Z"
    },
    "papermill": {
     "duration": 0.063807,
     "end_time": "2021-09-19T21:30:08.119251",
     "exception": false,
     "start_time": "2021-09-19T21:30:08.055444",
     "status": "completed"
    },
    "tags": []
   },
   "outputs": [
    {
     "data": {
      "text/html": [
       "<div>\n",
       "<style scoped>\n",
       "    .dataframe tbody tr th:only-of-type {\n",
       "        vertical-align: middle;\n",
       "    }\n",
       "\n",
       "    .dataframe tbody tr th {\n",
       "        vertical-align: top;\n",
       "    }\n",
       "\n",
       "    .dataframe thead th {\n",
       "        text-align: right;\n",
       "    }\n",
       "</style>\n",
       "<table border=\"1\" class=\"dataframe\">\n",
       "  <thead>\n",
       "    <tr style=\"text-align: right;\">\n",
       "      <th></th>\n",
       "      <th>RECORD_TIME</th>\n",
       "    </tr>\n",
       "  </thead>\n",
       "  <tbody>\n",
       "    <tr>\n",
       "      <th>0</th>\n",
       "      <td>2021-09-19 23:30</td>\n",
       "    </tr>\n",
       "    <tr>\n",
       "      <th>1</th>\n",
       "      <td>2021-09-19 23:00</td>\n",
       "    </tr>\n",
       "  </tbody>\n",
       "</table>\n",
       "</div>"
      ],
      "text/plain": [
       "        RECORD_TIME\n",
       "0  2021-09-19 23:30\n",
       "1  2021-09-19 23:00"
      ]
     },
     "execution_count": 3,
     "metadata": {},
     "output_type": "execute_result"
    }
   ],
   "source": [
    "timestamps"
   ]
  },
  {
   "cell_type": "code",
   "execution_count": 4,
   "id": "alternate-victory",
   "metadata": {
    "execution": {
     "iopub.execute_input": "2021-09-19T21:30:08.172484Z",
     "iopub.status.busy": "2021-09-19T21:30:08.170517Z",
     "iopub.status.idle": "2021-09-19T21:30:08.659996Z",
     "shell.execute_reply": "2021-09-19T21:30:08.661263Z"
    },
    "papermill": {
     "duration": 0.519524,
     "end_time": "2021-09-19T21:30:08.661659",
     "exception": false,
     "start_time": "2021-09-19T21:30:08.142135",
     "status": "completed"
    },
    "tags": []
   },
   "outputs": [],
   "source": [
    "df = pd.read_sql(\"select * from EBAY_TOP_BERLIN where record_time in (select distinct record_time from EBAY_TOP_BERLIN order by record_time desc limit 2)\", sqlite3.connect(\"UsedObjects.db\"))"
   ]
  },
  {
   "cell_type": "code",
   "execution_count": 5,
   "id": "popular-active",
   "metadata": {
    "execution": {
     "iopub.execute_input": "2021-09-19T21:30:08.735052Z",
     "iopub.status.busy": "2021-09-19T21:30:08.723046Z",
     "iopub.status.idle": "2021-09-19T21:30:08.750237Z",
     "shell.execute_reply": "2021-09-19T21:30:08.751528Z"
    },
    "papermill": {
     "duration": 0.067644,
     "end_time": "2021-09-19T21:30:08.751927",
     "exception": false,
     "start_time": "2021-09-19T21:30:08.684283",
     "status": "completed"
    },
    "tags": []
   },
   "outputs": [],
   "source": [
    "df_pivot = df.pivot_table(index=\"PRODUCT\", columns = \"RECORD_TIME\", values = \"LISTING_COUNT\")"
   ]
  },
  {
   "cell_type": "code",
   "execution_count": 6,
   "id": "union-huntington",
   "metadata": {
    "execution": {
     "iopub.execute_input": "2021-09-19T21:30:08.809374Z",
     "iopub.status.busy": "2021-09-19T21:30:08.807209Z",
     "iopub.status.idle": "2021-09-19T21:30:08.812744Z",
     "shell.execute_reply": "2021-09-19T21:30:08.814121Z"
    },
    "papermill": {
     "duration": 0.041096,
     "end_time": "2021-09-19T21:30:08.814558",
     "exception": false,
     "start_time": "2021-09-19T21:30:08.773462",
     "status": "completed"
    },
    "tags": []
   },
   "outputs": [],
   "source": [
    "df_pivot.columns = [\"stamp_1\", \"stamp_2\"]\n",
    "df_pivot_diff = df_pivot.diff(axis=1)"
   ]
  },
  {
   "cell_type": "code",
   "execution_count": 7,
   "id": "fifth-motion",
   "metadata": {
    "execution": {
     "iopub.execute_input": "2021-09-19T21:30:08.872270Z",
     "iopub.status.busy": "2021-09-19T21:30:08.869564Z",
     "iopub.status.idle": "2021-09-19T21:30:10.355394Z",
     "shell.execute_reply": "2021-09-19T21:30:10.356680Z"
    },
    "papermill": {
     "duration": 1.519522,
     "end_time": "2021-09-19T21:30:10.357097",
     "exception": false,
     "start_time": "2021-09-19T21:30:08.837575",
     "status": "completed"
    },
    "tags": []
   },
   "outputs": [
    {
     "data": {
      "text/plain": [
       "<AxesSubplot:ylabel='PRODUCT'>"
      ]
     },
     "execution_count": 7,
     "metadata": {},
     "output_type": "execute_result"
    },
    {
     "data": {
      "image/png": "[encoded data removed]",
      "text/plain": [
       "<Figure size 432x288 with 1 Axes>"
      ]
     },
     "metadata": {
      "needs_background": "light"
     },
     "output_type": "display_data"
    }
   ],
   "source": [
    "df_pivot_diff.sort_values(\"stamp_2\", ascending = False)[\"stamp_2\"].head(10).plot.barh()"
   ]
  },
  {
   "cell_type": "code",
   "execution_count": null,
   "id": "extra-executive",
   "metadata": {
    "papermill": {
     "duration": 0.022234,
     "end_time": "2021-09-19T21:30:10.403989",
     "exception": false,
     "start_time": "2021-09-19T21:30:10.381755",
     "status": "completed"
    },
    "tags": []
   },
   "outputs": [],
   "source": []
  }
 ],
 "metadata": {
  "kernelspec": {
   "display_name": "Python 3",
   "language": "python",
   "name": "python3"
  },
  "language_info": {
   "codemirror_mode": {
    "name": "ipython",
    "version": 3
   },
   "file_extension": ".py",
   "mimetype": "text/x-python",
   "name": "python",
   "nbconvert_exporter": "python",
   "pygments_lexer": "ipython3",
   "version": "3.9.5"
  },
  "papermill": {
   "default_parameters": {},
   "duration": 6.647278,
   "end_time": "2021-09-19T21:30:11.045785",
   "environment_variables": {},
   "exception": null,
   "input_path": "eBay_Overview.ipynb",
   "output_path": "eBay_Overview.ipynb",
   "parameters": {},
   "start_time": "2021-09-19T21:30:04.398507",
   "version": "2.3.3"
  }
 },
 "nbformat": 4,
 "nbformat_minor": 5
}