{
 "cells": [
  {
   "cell_type": "code",
   "execution_count": 1,
   "id": "reverse-picking",
   "metadata": {
    "execution": {
     "iopub.execute_input": "2021-09-09T18:30:07.273459Z",
     "iopub.status.busy": "2021-09-09T18:30:07.271501Z",
     "iopub.status.idle": "2021-09-09T18:30:08.084774Z",
     "shell.execute_reply": "2021-09-09T18:30:08.086178Z"
    },
    "papermill": {
     "duration": 0.866791,
     "end_time": "2021-09-09T18:30:08.086927",
     "exception": false,
     "start_time": "2021-09-09T18:30:07.220136",
     "status": "completed"
    },
    "tags": []
   },
   "outputs": [],
   "source": [
    "import pandas as pd\n",
    "import sqlite3"
   ]
  },
  {
   "cell_type": "code",
   "execution_count": 2,
   "id": "innovative-syndrome",
   "metadata": {
    "execution": {
     "iopub.execute_input": "2021-09-09T18:30:08.137219Z",
     "iopub.status.busy": "2021-09-09T18:30:08.134822Z",
     "iopub.status.idle": "2021-09-09T18:30:08.380084Z",
     "shell.execute_reply": "2021-09-09T18:30:08.381293Z"
    },
    "papermill": {
     "duration": 0.274739,
     "end_time": "2021-09-09T18:30:08.381693",
     "exception": false,
     "start_time": "2021-09-09T18:30:08.106954",
     "status": "completed"
    },
    "tags": []
   },
   "outputs": [],
   "source": [
    "timestamps = pd.read_sql(\"select distinct record_time from EBAY_TOP_BERLIN order by record_time desc limit 2\", sqlite3.connect(\"UsedObjects.db\"))"
   ]
  },
  {
   "cell_type": "code",
   "execution_count": 3,
   "id": "periodic-identification",
   "metadata": {
    "execution": {
     "iopub.execute_input": "2021-09-09T18:30:08.445126Z",
     "iopub.status.busy": "2021-09-09T18:30:08.443104Z",
     "iopub.status.idle": "2021-09-09T18:30:08.463374Z",
     "shell.execute_reply": "2021-09-09T18:30:08.465147Z"
    },
    "papermill": {
     "duration": 0.064843,
     "end_time": "2021-09-09T18:30:08.465687",
     "exception": false,
     "start_time": "2021-09-09T18:30:08.400844",
     "status": "completed"
    },
    "tags": []
   },
   "outputs": [
    {
     "data": {
      "text/html": [
       "<div>\n",
       "<style scoped>\n",
       "    .dataframe tbody tr th:only-of-type {\n",
       "        vertical-align: middle;\n",
       "    }\n",
       "\n",
       "    .dataframe tbody tr th {\n",
       "        vertical-align: top;\n",
       "    }\n",
       "\n",
       "    .dataframe thead th {\n",
       "        text-align: right;\n",
       "    }\n",
       "</style>\n",
       "<table border=\"1\" class=\"dataframe\">\n",
       "  <thead>\n",
       "    <tr style=\"text-align: right;\">\n",
       "      <th></th>\n",
       "      <th>RECORD_TIME</th>\n",
       "    </tr>\n",
       "  </thead>\n",
       "  <tbody>\n",
       "    <tr>\n",
       "      <th>0</th>\n",
       "      <td>2021-09-09 20:30</td>\n",
       "    </tr>\n",
       "    <tr>\n",
       "      <th>1</th>\n",
       "      <td>2021-09-09 20:00</td>\n",
       "    </tr>\n",
       "  </tbody>\n",
       "</table>\n",
       "</div>"
      ],
      "text/plain": [
       "        RECORD_TIME\n",
       "0  2021-09-09 20:30\n",
       "1  2021-09-09 20:00"
      ]
     },
     "execution_count": 3,
     "metadata": {},
     "output_type": "execute_result"
    }
   ],
   "source": [
    "timestamps"
   ]
  },
  {
   "cell_type": "code",
   "execution_count": 4,
   "id": "alternate-victory",
   "metadata": {
    "execution": {
     "iopub.execute_input": "2021-09-09T18:30:08.518511Z",
     "iopub.status.busy": "2021-09-09T18:30:08.516586Z",
     "iopub.status.idle": "2021-09-09T18:30:08.904057Z",
     "shell.execute_reply": "2021-09-09T18:30:08.905340Z"
    },
    "papermill": {
     "duration": 0.417668,
     "end_time": "2021-09-09T18:30:08.905740",
     "exception": false,
     "start_time": "2021-09-09T18:30:08.488072",
     "status": "completed"
    },
    "tags": []
   },
   "outputs": [],
   "source": [
    "df = pd.read_sql(\"select * from EBAY_TOP_BERLIN where record_time in (select distinct record_time from EBAY_TOP_BERLIN order by record_time desc limit 2)\", sqlite3.connect(\"UsedObjects.db\"))"
   ]
  },
  {
   "cell_type": "code",
   "execution_count": 5,
   "id": "popular-active",
   "metadata": {
    "execution": {
     "iopub.execute_input": "2021-09-09T18:30:08.979558Z",
     "iopub.status.busy": "2021-09-09T18:30:08.972117Z",
     "iopub.status.idle": "2021-09-09T18:30:09.000348Z",
     "shell.execute_reply": "2021-09-09T18:30:09.001754Z"
    },
    "papermill": {
     "duration": 0.070881,
     "end_time": "2021-09-09T18:30:09.002193",
     "exception": false,
     "start_time": "2021-09-09T18:30:08.931312",
     "status": "completed"
    },
    "tags": []
   },
   "outputs": [],
   "source": [
    "df_pivot = df.pivot_table(index=\"PRODUCT\", columns = \"RECORD_TIME\", values = \"LISTING_COUNT\")"
   ]
  },
  {
   "cell_type": "code",
   "execution_count": 6,
   "id": "union-huntington",
   "metadata": {
    "execution": {
     "iopub.execute_input": "2021-09-09T18:30:09.058709Z",
     "iopub.status.busy": "2021-09-09T18:30:09.056406Z",
     "iopub.status.idle": "2021-09-09T18:30:09.062233Z",
     "shell.execute_reply": "2021-09-09T18:30:09.063482Z"
    },
    "papermill": {
     "duration": 0.041745,
     "end_time": "2021-09-09T18:30:09.063922",
     "exception": false,
     "start_time": "2021-09-09T18:30:09.022177",
     "status": "completed"
    },
    "tags": []
   },
   "outputs": [],
   "source": [
    "df_pivot.columns = [\"stamp_1\", \"stamp_2\"]\n",
    "df_pivot_diff = df_pivot.diff(axis=1)"
   ]
  },
  {
   "cell_type": "code",
   "execution_count": 7,
   "id": "fifth-motion",
   "metadata": {
    "execution": {
     "iopub.execute_input": "2021-09-09T18:30:09.117793Z",
     "iopub.status.busy": "2021-09-09T18:30:09.115507Z",
     "iopub.status.idle": "2021-09-09T18:30:10.614678Z",
     "shell.execute_reply": "2021-09-09T18:30:10.616022Z"
    },
    "papermill": {
     "duration": 1.532271,
     "end_time": "2021-09-09T18:30:10.616442",
     "exception": false,
     "start_time": "2021-09-09T18:30:09.084171",
     "status": "completed"
    },
    "tags": []
   },
   "outputs": [
    {
     "data": {
      "text/plain": [
       "<AxesSubplot:ylabel='PRODUCT'>"
      ]
     },
     "execution_count": 7,
     "metadata": {},
     "output_type": "execute_result"
    },
    {
     "data": {
      "image/png": "[encoded data removed]",
      "text/plain": [
       "<Figure size 432x288 with 1 Axes>"
      ]
     },
     "metadata": {
      "needs_background": "light"
     },
     "output_type": "display_data"
    }
   ],
   "source": [
    "df_pivot_diff.sort_values(\"stamp_2\", ascending = False)[\"stamp_2\"].head(10).plot.barh()"
   ]
  },
  {
   "cell_type": "code",
   "execution_count": null,
   "id": "extra-executive",
   "metadata": {
    "papermill": {
     "duration": 0.021847,
     "end_time": "2021-09-09T18:30:10.661983",
     "exception": false,
     "start_time": "2021-09-09T18:30:10.640136",
     "status": "completed"
    },
    "tags": []
   },
   "outputs": [],
   "source": []
  }
 ],
 "metadata": {
  "kernelspec": {
   "display_name": "Python 3",
   "language": "python",
   "name": "python3"
  },
  "language_info": {
   "codemirror_mode": {
    "name": "ipython",
    "version": 3
   },
   "file_extension": ".py",
   "mimetype": "text/x-python",
   "name": "python",
   "nbconvert_exporter": "python",
   "pygments_lexer": "ipython3",
   "version": "3.9.5"
  },
  "papermill": {
   "default_parameters": {},
   "duration": 6.511339,
   "end_time": "2021-09-09T18:30:11.302708",
   "environment_variables": {},
   "exception": null,
   "input_path": "eBay_Overview.ipynb",
   "output_path": "eBay_Overview.ipynb",
   "parameters": {},
   "start_time": "2021-09-09T18:30:04.791369",
   "version": "2.3.3"
  }
 },
 "nbformat": 4,
 "nbformat_minor": 5
}