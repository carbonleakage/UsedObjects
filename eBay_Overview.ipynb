{
 "cells": [
  {
   "cell_type": "code",
   "execution_count": 1,
   "id": "reverse-picking",
   "metadata": {
    "execution": {
     "iopub.execute_input": "2021-12-20T03:30:07.655753Z",
     "iopub.status.busy": "2021-12-20T03:30:07.653454Z",
     "iopub.status.idle": "2021-12-20T03:30:08.612227Z",
     "shell.execute_reply": "2021-12-20T03:30:08.613817Z"
    },
    "papermill": {
     "duration": 1.010557,
     "end_time": "2021-12-20T03:30:08.614555",
     "exception": false,
     "start_time": "2021-12-20T03:30:07.603998",
     "status": "completed"
    },
    "tags": []
   },
   "outputs": [],
   "source": [
    "import pandas as pd\n",
    "import sqlite3"
   ]
  },
  {
   "cell_type": "code",
   "execution_count": 2,
   "id": "innovative-syndrome",
   "metadata": {
    "execution": {
     "iopub.execute_input": "2021-12-20T03:30:08.678966Z",
     "iopub.status.busy": "2021-12-20T03:30:08.676552Z",
     "iopub.status.idle": "2021-12-20T03:30:09.812577Z",
     "shell.execute_reply": "2021-12-20T03:30:09.813854Z"
    },
    "papermill": {
     "duration": 1.169702,
     "end_time": "2021-12-20T03:30:09.814259",
     "exception": false,
     "start_time": "2021-12-20T03:30:08.644557",
     "status": "completed"
    },
    "tags": []
   },
   "outputs": [],
   "source": [
    "timestamps = pd.read_sql(\"select distinct record_time from EBAY_TOP_BERLIN order by record_time desc limit 2\", sqlite3.connect(\"UsedObjects.db\"))"
   ]
  },
  {
   "cell_type": "code",
   "execution_count": 3,
   "id": "periodic-identification",
   "metadata": {
    "execution": {
     "iopub.execute_input": "2021-12-20T03:30:09.881629Z",
     "iopub.status.busy": "2021-12-20T03:30:09.879529Z",
     "iopub.status.idle": "2021-12-20T03:30:09.899598Z",
     "shell.execute_reply": "2021-12-20T03:30:09.901029Z"
    },
    "papermill": {
     "duration": 0.065401,
     "end_time": "2021-12-20T03:30:09.901472",
     "exception": false,
     "start_time": "2021-12-20T03:30:09.836071",
     "status": "completed"
    },
    "tags": []
   },
   "outputs": [
    {
     "data": {
      "text/html": [
       "<div>\n",
       "<style scoped>\n",
       "    .dataframe tbody tr th:only-of-type {\n",
       "        vertical-align: middle;\n",
       "    }\n",
       "\n",
       "    .dataframe tbody tr th {\n",
       "        vertical-align: top;\n",
       "    }\n",
       "\n",
       "    .dataframe thead th {\n",
       "        text-align: right;\n",
       "    }\n",
       "</style>\n",
       "<table border=\"1\" class=\"dataframe\">\n",
       "  <thead>\n",
       "    <tr style=\"text-align: right;\">\n",
       "      <th></th>\n",
       "      <th>RECORD_TIME</th>\n",
       "    </tr>\n",
       "  </thead>\n",
       "  <tbody>\n",
       "    <tr>\n",
       "      <th>0</th>\n",
       "      <td>2021-12-20 04:30</td>\n",
       "    </tr>\n",
       "    <tr>\n",
       "      <th>1</th>\n",
       "      <td>2021-12-20 04:00</td>\n",
       "    </tr>\n",
       "  </tbody>\n",
       "</table>\n",
       "</div>"
      ],
      "text/plain": [
       "        RECORD_TIME\n",
       "0  2021-12-20 04:30\n",
       "1  2021-12-20 04:00"
      ]
     },
     "execution_count": 3,
     "metadata": {},
     "output_type": "execute_result"
    }
   ],
   "source": [
    "timestamps"
   ]
  },
  {
   "cell_type": "code",
   "execution_count": 4,
   "id": "alternate-victory",
   "metadata": {
    "execution": {
     "iopub.execute_input": "2021-12-20T03:30:09.953426Z",
     "iopub.status.busy": "2021-12-20T03:30:09.951429Z",
     "iopub.status.idle": "2021-12-20T03:30:11.622515Z",
     "shell.execute_reply": "2021-12-20T03:30:11.623750Z"
    },
    "papermill": {
     "duration": 1.701313,
     "end_time": "2021-12-20T03:30:11.624156",
     "exception": false,
     "start_time": "2021-12-20T03:30:09.922843",
     "status": "completed"
    },
    "tags": []
   },
   "outputs": [],
   "source": [
    "df = pd.read_sql(\"select * from EBAY_TOP_BERLIN where record_time in (select distinct record_time from EBAY_TOP_BERLIN order by record_time desc limit 2)\", sqlite3.connect(\"UsedObjects.db\"))"
   ]
  },
  {
   "cell_type": "code",
   "execution_count": 5,
   "id": "popular-active",
   "metadata": {
    "execution": {
     "iopub.execute_input": "2021-12-20T03:30:11.699013Z",
     "iopub.status.busy": "2021-12-20T03:30:11.686548Z",
     "iopub.status.idle": "2021-12-20T03:30:11.716676Z",
     "shell.execute_reply": "2021-12-20T03:30:11.718131Z"
    },
    "papermill": {
     "duration": 0.073933,
     "end_time": "2021-12-20T03:30:11.718604",
     "exception": false,
     "start_time": "2021-12-20T03:30:11.644671",
     "status": "completed"
    },
    "tags": []
   },
   "outputs": [],
   "source": [
    "df_pivot = df.pivot_table(index=\"PRODUCT\", columns = \"RECORD_TIME\", values = \"LISTING_COUNT\")"
   ]
  },
  {
   "cell_type": "code",
   "execution_count": 6,
   "id": "union-huntington",
   "metadata": {
    "execution": {
     "iopub.execute_input": "2021-12-20T03:30:11.779323Z",
     "iopub.status.busy": "2021-12-20T03:30:11.777067Z",
     "iopub.status.idle": "2021-12-20T03:30:11.782947Z",
     "shell.execute_reply": "2021-12-20T03:30:11.784290Z"
    },
    "papermill": {
     "duration": 0.045864,
     "end_time": "2021-12-20T03:30:11.784818",
     "exception": false,
     "start_time": "2021-12-20T03:30:11.738954",
     "status": "completed"
    },
    "tags": []
   },
   "outputs": [],
   "source": [
    "df_pivot.columns = [\"stamp_1\", \"stamp_2\"]\n",
    "df_pivot_diff = df_pivot.diff(axis=1)"
   ]
  },
  {
   "cell_type": "code",
   "execution_count": 7,
   "id": "fifth-motion",
   "metadata": {
    "execution": {
     "iopub.execute_input": "2021-12-20T03:30:11.841955Z",
     "iopub.status.busy": "2021-12-20T03:30:11.839386Z",
     "iopub.status.idle": "2021-12-20T03:30:13.851634Z",
     "shell.execute_reply": "2021-12-20T03:30:13.853012Z"
    },
    "papermill": {
     "duration": 2.047383,
     "end_time": "2021-12-20T03:30:13.853490",
     "exception": false,
     "start_time": "2021-12-20T03:30:11.806107",
     "status": "completed"
    },
    "tags": []
   },
   "outputs": [
    {
     "data": {
      "text/plain": [
       "<AxesSubplot:ylabel='PRODUCT'>"
      ]
     },
     "execution_count": 7,
     "metadata": {},
     "output_type": "execute_result"
    },
    {
     "data": {
      "image/png": "[encoded data removed]",
      "text/plain": [
       "<Figure size 432x288 with 1 Axes>"
      ]
     },
     "metadata": {
      "needs_background": "light"
     },
     "output_type": "display_data"
    }
   ],
   "source": [
    "df_pivot_diff.sort_values(\"stamp_2\", ascending = False)[\"stamp_2\"].head(10).plot.barh()"
   ]
  },
  {
   "cell_type": "code",
   "execution_count": null,
   "id": "extra-executive",
   "metadata": {
    "papermill": {
     "duration": 0.022234,
     "end_time": "2021-12-20T03:30:13.901237",
     "exception": false,
     "start_time": "2021-12-20T03:30:13.879003",
     "status": "completed"
    },
    "tags": []
   },
   "outputs": [],
   "source": []
  }
 ],
 "metadata": {
  "kernelspec": {
   "display_name": "Python 3",
   "language": "python",
   "name": "python3"
  },
  "language_info": {
   "codemirror_mode": {
    "name": "ipython",
    "version": 3
   },
   "file_extension": ".py",
   "mimetype": "text/x-python",
   "name": "python",
   "nbconvert_exporter": "python",
   "pygments_lexer": "ipython3",
   "version": "3.9.5"
  },
  "papermill": {
   "default_parameters": {},
   "duration": 9.683984,
   "end_time": "2021-12-20T03:30:14.544424",
   "environment_variables": {},
   "exception": null,
   "input_path": "eBay_Overview.ipynb",
   "output_path": "eBay_Overview.ipynb",
   "parameters": {},
   "start_time": "2021-12-20T03:30:04.860440",
   "version": "2.3.3"
  }
 },
 "nbformat": 4,
 "nbformat_minor": 5
}