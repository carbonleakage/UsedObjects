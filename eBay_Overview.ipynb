{
 "cells": [
  {
   "cell_type": "code",
   "execution_count": 1,
   "id": "reverse-picking",
   "metadata": {
    "execution": {
     "iopub.execute_input": "2021-09-05T01:30:07.183273Z",
     "iopub.status.busy": "2021-09-05T01:30:07.181318Z",
     "iopub.status.idle": "2021-09-05T01:30:07.984803Z",
     "shell.execute_reply": "2021-09-05T01:30:07.986179Z"
    },
    "papermill": {
     "duration": 0.855259,
     "end_time": "2021-09-05T01:30:07.986895",
     "exception": false,
     "start_time": "2021-09-05T01:30:07.131636",
     "status": "completed"
    },
    "tags": []
   },
   "outputs": [],
   "source": [
    "import pandas as pd\n",
    "import sqlite3"
   ]
  },
  {
   "cell_type": "code",
   "execution_count": 2,
   "id": "innovative-syndrome",
   "metadata": {
    "execution": {
     "iopub.execute_input": "2021-09-05T01:30:08.038255Z",
     "iopub.status.busy": "2021-09-05T01:30:08.036352Z",
     "iopub.status.idle": "2021-09-05T01:30:08.242557Z",
     "shell.execute_reply": "2021-09-05T01:30:08.244545Z"
    },
    "papermill": {
     "duration": 0.237224,
     "end_time": "2021-09-05T01:30:08.245088",
     "exception": false,
     "start_time": "2021-09-05T01:30:08.007864",
     "status": "completed"
    },
    "tags": []
   },
   "outputs": [],
   "source": [
    "timestamps = pd.read_sql(\"select distinct record_time from EBAY_TOP_BERLIN order by record_time desc limit 2\", sqlite3.connect(\"UsedObjects.db\"))"
   ]
  },
  {
   "cell_type": "code",
   "execution_count": 3,
   "id": "periodic-identification",
   "metadata": {
    "execution": {
     "iopub.execute_input": "2021-09-05T01:30:08.310176Z",
     "iopub.status.busy": "2021-09-05T01:30:08.308181Z",
     "iopub.status.idle": "2021-09-05T01:30:08.328218Z",
     "shell.execute_reply": "2021-09-05T01:30:08.329786Z"
    },
    "papermill": {
     "duration": 0.065939,
     "end_time": "2021-09-05T01:30:08.330269",
     "exception": false,
     "start_time": "2021-09-05T01:30:08.264330",
     "status": "completed"
    },
    "tags": []
   },
   "outputs": [
    {
     "data": {
      "text/html": [
       "<div>\n",
       "<style scoped>\n",
       "    .dataframe tbody tr th:only-of-type {\n",
       "        vertical-align: middle;\n",
       "    }\n",
       "\n",
       "    .dataframe tbody tr th {\n",
       "        vertical-align: top;\n",
       "    }\n",
       "\n",
       "    .dataframe thead th {\n",
       "        text-align: right;\n",
       "    }\n",
       "</style>\n",
       "<table border=\"1\" class=\"dataframe\">\n",
       "  <thead>\n",
       "    <tr style=\"text-align: right;\">\n",
       "      <th></th>\n",
       "      <th>RECORD_TIME</th>\n",
       "    </tr>\n",
       "  </thead>\n",
       "  <tbody>\n",
       "    <tr>\n",
       "      <th>0</th>\n",
       "      <td>2021-09-05 03:30</td>\n",
       "    </tr>\n",
       "    <tr>\n",
       "      <th>1</th>\n",
       "      <td>2021-09-05 03:00</td>\n",
       "    </tr>\n",
       "  </tbody>\n",
       "</table>\n",
       "</div>"
      ],
      "text/plain": [
       "        RECORD_TIME\n",
       "0  2021-09-05 03:30\n",
       "1  2021-09-05 03:00"
      ]
     },
     "execution_count": 3,
     "metadata": {},
     "output_type": "execute_result"
    }
   ],
   "source": [
    "timestamps"
   ]
  },
  {
   "cell_type": "code",
   "execution_count": 4,
   "id": "alternate-victory",
   "metadata": {
    "execution": {
     "iopub.execute_input": "2021-09-05T01:30:08.382850Z",
     "iopub.status.busy": "2021-09-05T01:30:08.380957Z",
     "iopub.status.idle": "2021-09-05T01:30:08.689790Z",
     "shell.execute_reply": "2021-09-05T01:30:08.691141Z"
    },
    "papermill": {
     "duration": 0.339431,
     "end_time": "2021-09-05T01:30:08.691579",
     "exception": false,
     "start_time": "2021-09-05T01:30:08.352148",
     "status": "completed"
    },
    "tags": []
   },
   "outputs": [],
   "source": [
    "df = pd.read_sql(\"select * from EBAY_TOP_BERLIN where record_time in (select distinct record_time from EBAY_TOP_BERLIN order by record_time desc limit 2)\", sqlite3.connect(\"UsedObjects.db\"))"
   ]
  },
  {
   "cell_type": "code",
   "execution_count": 5,
   "id": "popular-active",
   "metadata": {
    "execution": {
     "iopub.execute_input": "2021-09-05T01:30:08.769912Z",
     "iopub.status.busy": "2021-09-05T01:30:08.767724Z",
     "iopub.status.idle": "2021-09-05T01:30:08.795082Z",
     "shell.execute_reply": "2021-09-05T01:30:08.796356Z"
    },
    "papermill": {
     "duration": 0.073321,
     "end_time": "2021-09-05T01:30:08.796766",
     "exception": false,
     "start_time": "2021-09-05T01:30:08.723445",
     "status": "completed"
    },
    "tags": []
   },
   "outputs": [],
   "source": [
    "df_pivot = df.pivot_table(index=\"PRODUCT\", columns = \"RECORD_TIME\", values = \"LISTING_COUNT\")"
   ]
  },
  {
   "cell_type": "code",
   "execution_count": 6,
   "id": "union-huntington",
   "metadata": {
    "execution": {
     "iopub.execute_input": "2021-09-05T01:30:08.853225Z",
     "iopub.status.busy": "2021-09-05T01:30:08.851206Z",
     "iopub.status.idle": "2021-09-05T01:30:08.857792Z",
     "shell.execute_reply": "2021-09-05T01:30:08.856437Z"
    },
    "papermill": {
     "duration": 0.040246,
     "end_time": "2021-09-05T01:30:08.858142",
     "exception": false,
     "start_time": "2021-09-05T01:30:08.817896",
     "status": "completed"
    },
    "tags": []
   },
   "outputs": [],
   "source": [
    "df_pivot.columns = [\"stamp_1\", \"stamp_2\"]\n",
    "df_pivot_diff = df_pivot.diff(axis=1)"
   ]
  },
  {
   "cell_type": "code",
   "execution_count": 7,
   "id": "fifth-motion",
   "metadata": {
    "execution": {
     "iopub.execute_input": "2021-09-05T01:30:08.914802Z",
     "iopub.status.busy": "2021-09-05T01:30:08.912198Z",
     "iopub.status.idle": "2021-09-05T01:30:10.424291Z",
     "shell.execute_reply": "2021-09-05T01:30:10.425559Z"
    },
    "papermill": {
     "duration": 1.547587,
     "end_time": "2021-09-05T01:30:10.425979",
     "exception": false,
     "start_time": "2021-09-05T01:30:08.878392",
     "status": "completed"
    },
    "tags": []
   },
   "outputs": [
    {
     "data": {
      "text/plain": [
       "<AxesSubplot:ylabel='PRODUCT'>"
      ]
     },
     "execution_count": 7,
     "metadata": {},
     "output_type": "execute_result"
    },
    {
     "data": {
      "image/png": "[encoded data removed]",
      "text/plain": [
       "<Figure size 432x288 with 1 Axes>"
      ]
     },
     "metadata": {
      "needs_background": "light"
     },
     "output_type": "display_data"
    }
   ],
   "source": [
    "df_pivot_diff.sort_values(\"stamp_2\", ascending = False)[\"stamp_2\"].head(10).plot.barh()"
   ]
  },
  {
   "cell_type": "code",
   "execution_count": null,
   "id": "extra-executive",
   "metadata": {
    "papermill": {
     "duration": 0.02205,
     "end_time": "2021-09-05T01:30:10.473401",
     "exception": false,
     "start_time": "2021-09-05T01:30:10.451351",
     "status": "completed"
    },
    "tags": []
   },
   "outputs": [],
   "source": []
  }
 ],
 "metadata": {
  "kernelspec": {
   "display_name": "Python 3",
   "language": "python",
   "name": "python3"
  },
  "language_info": {
   "codemirror_mode": {
    "name": "ipython",
    "version": 3
   },
   "file_extension": ".py",
   "mimetype": "text/x-python",
   "name": "python",
   "nbconvert_exporter": "python",
   "pygments_lexer": "ipython3",
   "version": "3.9.5"
  },
  "papermill": {
   "default_parameters": {},
   "duration": 6.386043,
   "end_time": "2021-09-05T01:30:11.113485",
   "environment_variables": {},
   "exception": null,
   "input_path": "eBay_Overview.ipynb",
   "output_path": "eBay_Overview.ipynb",
   "parameters": {},
   "start_time": "2021-09-05T01:30:04.727442",
   "version": "2.3.3"
  }
 },
 "nbformat": 4,
 "nbformat_minor": 5
}