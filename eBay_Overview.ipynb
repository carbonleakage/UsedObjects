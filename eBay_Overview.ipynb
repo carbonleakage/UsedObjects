{
 "cells": [
  {
   "cell_type": "code",
   "execution_count": 1,
   "id": "reverse-picking",
   "metadata": {
    "execution": {
     "iopub.execute_input": "2021-08-25T07:30:07.352068Z",
     "iopub.status.busy": "2021-08-25T07:30:07.350089Z",
     "iopub.status.idle": "2021-08-25T07:30:08.158954Z",
     "shell.execute_reply": "2021-08-25T07:30:08.160131Z"
    },
    "papermill": {
     "duration": 0.862052,
     "end_time": "2021-08-25T07:30:08.160763",
     "exception": false,
     "start_time": "2021-08-25T07:30:07.298711",
     "status": "completed"
    },
    "tags": []
   },
   "outputs": [],
   "source": [
    "import pandas as pd\n",
    "import sqlite3"
   ]
  },
  {
   "cell_type": "code",
   "execution_count": 2,
   "id": "innovative-syndrome",
   "metadata": {
    "execution": {
     "iopub.execute_input": "2021-08-25T07:30:08.214760Z",
     "iopub.status.busy": "2021-08-25T07:30:08.212361Z",
     "iopub.status.idle": "2021-08-25T07:30:08.340980Z",
     "shell.execute_reply": "2021-08-25T07:30:08.342411Z"
    },
    "papermill": {
     "duration": 0.159009,
     "end_time": "2021-08-25T07:30:08.342848",
     "exception": false,
     "start_time": "2021-08-25T07:30:08.183839",
     "status": "completed"
    },
    "tags": []
   },
   "outputs": [],
   "source": [
    "timestamps = pd.read_sql(\"select distinct record_time from EBAY_TOP_BERLIN order by record_time desc limit 2\", sqlite3.connect(\"UsedObjects.db\"))"
   ]
  },
  {
   "cell_type": "code",
   "execution_count": 3,
   "id": "periodic-identification",
   "metadata": {
    "execution": {
     "iopub.execute_input": "2021-08-25T07:30:08.410891Z",
     "iopub.status.busy": "2021-08-25T07:30:08.408788Z",
     "iopub.status.idle": "2021-08-25T07:30:08.429101Z",
     "shell.execute_reply": "2021-08-25T07:30:08.430419Z"
    },
    "papermill": {
     "duration": 0.067141,
     "end_time": "2021-08-25T07:30:08.430868",
     "exception": false,
     "start_time": "2021-08-25T07:30:08.363727",
     "status": "completed"
    },
    "tags": []
   },
   "outputs": [
    {
     "data": {
      "text/html": [
       "<div>\n",
       "<style scoped>\n",
       "    .dataframe tbody tr th:only-of-type {\n",
       "        vertical-align: middle;\n",
       "    }\n",
       "\n",
       "    .dataframe tbody tr th {\n",
       "        vertical-align: top;\n",
       "    }\n",
       "\n",
       "    .dataframe thead th {\n",
       "        text-align: right;\n",
       "    }\n",
       "</style>\n",
       "<table border=\"1\" class=\"dataframe\">\n",
       "  <thead>\n",
       "    <tr style=\"text-align: right;\">\n",
       "      <th></th>\n",
       "      <th>RECORD_TIME</th>\n",
       "    </tr>\n",
       "  </thead>\n",
       "  <tbody>\n",
       "    <tr>\n",
       "      <th>0</th>\n",
       "      <td>2021-08-25 09:30</td>\n",
       "    </tr>\n",
       "    <tr>\n",
       "      <th>1</th>\n",
       "      <td>2021-08-25 09:00</td>\n",
       "    </tr>\n",
       "  </tbody>\n",
       "</table>\n",
       "</div>"
      ],
      "text/plain": [
       "        RECORD_TIME\n",
       "0  2021-08-25 09:30\n",
       "1  2021-08-25 09:00"
      ]
     },
     "execution_count": 3,
     "metadata": {},
     "output_type": "execute_result"
    }
   ],
   "source": [
    "timestamps"
   ]
  },
  {
   "cell_type": "code",
   "execution_count": 4,
   "id": "alternate-victory",
   "metadata": {
    "execution": {
     "iopub.execute_input": "2021-08-25T07:30:08.484664Z",
     "iopub.status.busy": "2021-08-25T07:30:08.482384Z",
     "iopub.status.idle": "2021-08-25T07:30:08.671597Z",
     "shell.execute_reply": "2021-08-25T07:30:08.672802Z"
    },
    "papermill": {
     "duration": 0.219399,
     "end_time": "2021-08-25T07:30:08.673204",
     "exception": false,
     "start_time": "2021-08-25T07:30:08.453805",
     "status": "completed"
    },
    "tags": []
   },
   "outputs": [],
   "source": [
    "df = pd.read_sql(\"select * from EBAY_TOP_BERLIN where record_time in (select distinct record_time from EBAY_TOP_BERLIN order by record_time desc limit 2)\", sqlite3.connect(\"UsedObjects.db\"))"
   ]
  },
  {
   "cell_type": "code",
   "execution_count": 5,
   "id": "popular-active",
   "metadata": {
    "execution": {
     "iopub.execute_input": "2021-08-25T07:30:08.747889Z",
     "iopub.status.busy": "2021-08-25T07:30:08.735926Z",
     "iopub.status.idle": "2021-08-25T07:30:08.764441Z",
     "shell.execute_reply": "2021-08-25T07:30:08.765817Z"
    },
    "papermill": {
     "duration": 0.070339,
     "end_time": "2021-08-25T07:30:08.766463",
     "exception": false,
     "start_time": "2021-08-25T07:30:08.696124",
     "status": "completed"
    },
    "tags": []
   },
   "outputs": [],
   "source": [
    "df_pivot = df.pivot_table(index=\"PRODUCT\", columns = \"RECORD_TIME\", values = \"LISTING_COUNT\")"
   ]
  },
  {
   "cell_type": "code",
   "execution_count": 6,
   "id": "union-huntington",
   "metadata": {
    "execution": {
     "iopub.execute_input": "2021-08-25T07:30:08.833411Z",
     "iopub.status.busy": "2021-08-25T07:30:08.830921Z",
     "iopub.status.idle": "2021-08-25T07:30:08.837020Z",
     "shell.execute_reply": "2021-08-25T07:30:08.838550Z"
    },
    "papermill": {
     "duration": 0.045117,
     "end_time": "2021-08-25T07:30:08.839027",
     "exception": false,
     "start_time": "2021-08-25T07:30:08.793910",
     "status": "completed"
    },
    "tags": []
   },
   "outputs": [],
   "source": [
    "df_pivot.columns = [\"stamp_1\", \"stamp_2\"]\n",
    "df_pivot_diff = df_pivot.diff(axis=1)"
   ]
  },
  {
   "cell_type": "code",
   "execution_count": 7,
   "id": "fifth-motion",
   "metadata": {
    "execution": {
     "iopub.execute_input": "2021-08-25T07:30:08.894003Z",
     "iopub.status.busy": "2021-08-25T07:30:08.891750Z",
     "iopub.status.idle": "2021-08-25T07:30:10.409392Z",
     "shell.execute_reply": "2021-08-25T07:30:10.411516Z"
    },
    "papermill": {
     "duration": 1.551185,
     "end_time": "2021-08-25T07:30:10.412126",
     "exception": false,
     "start_time": "2021-08-25T07:30:08.860941",
     "status": "completed"
    },
    "tags": []
   },
   "outputs": [
    {
     "data": {
      "text/plain": [
       "<AxesSubplot:ylabel='PRODUCT'>"
      ]
     },
     "execution_count": 7,
     "metadata": {},
     "output_type": "execute_result"
    },
    {
     "data": {
      "image/png": "[encoded data removed]",
      "text/plain": [
       "<Figure size 432x288 with 1 Axes>"
      ]
     },
     "metadata": {
      "needs_background": "light"
     },
     "output_type": "display_data"
    }
   ],
   "source": [
    "df_pivot_diff.sort_values(\"stamp_2\", ascending = False)[\"stamp_2\"].head(10).plot.barh()"
   ]
  },
  {
   "cell_type": "code",
   "execution_count": null,
   "id": "extra-executive",
   "metadata": {
    "papermill": {
     "duration": 0.022195,
     "end_time": "2021-08-25T07:30:10.459180",
     "exception": false,
     "start_time": "2021-08-25T07:30:10.436985",
     "status": "completed"
    },
    "tags": []
   },
   "outputs": [],
   "source": []
  }
 ],
 "metadata": {
  "kernelspec": {
   "display_name": "Python 3",
   "language": "python",
   "name": "python3"
  },
  "language_info": {
   "codemirror_mode": {
    "name": "ipython",
    "version": 3
   },
   "file_extension": ".py",
   "mimetype": "text/x-python",
   "name": "python",
   "nbconvert_exporter": "python",
   "pygments_lexer": "ipython3",
   "version": "3.9.5"
  },
  "papermill": {
   "default_parameters": {},
   "duration": 6.839974,
   "end_time": "2021-08-25T07:30:11.715890",
   "environment_variables": {},
   "exception": null,
   "input_path": "eBay_Overview.ipynb",
   "output_path": "eBay_Overview.ipynb",
   "parameters": {},
   "start_time": "2021-08-25T07:30:04.875916",
   "version": "2.3.3"
  }
 },
 "nbformat": 4,
 "nbformat_minor": 5
}