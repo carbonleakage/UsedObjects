{
 "cells": [
  {
   "cell_type": "code",
   "execution_count": 1,
   "id": "reverse-picking",
   "metadata": {
    "execution": {
     "iopub.execute_input": "2021-08-28T08:30:07.093375Z",
     "iopub.status.busy": "2021-08-28T08:30:07.091339Z",
     "iopub.status.idle": "2021-08-28T08:30:07.893177Z",
     "shell.execute_reply": "2021-08-28T08:30:07.894520Z"
    },
    "papermill": {
     "duration": 0.851164,
     "end_time": "2021-08-28T08:30:07.895166",
     "exception": false,
     "start_time": "2021-08-28T08:30:07.044002",
     "status": "completed"
    },
    "tags": []
   },
   "outputs": [],
   "source": [
    "import pandas as pd\n",
    "import sqlite3"
   ]
  },
  {
   "cell_type": "code",
   "execution_count": 2,
   "id": "innovative-syndrome",
   "metadata": {
    "execution": {
     "iopub.execute_input": "2021-08-28T08:30:07.945391Z",
     "iopub.status.busy": "2021-08-28T08:30:07.943359Z",
     "iopub.status.idle": "2021-08-28T08:30:08.090914Z",
     "shell.execute_reply": "2021-08-28T08:30:08.092191Z"
    },
    "papermill": {
     "duration": 0.177195,
     "end_time": "2021-08-28T08:30:08.092732",
     "exception": false,
     "start_time": "2021-08-28T08:30:07.915537",
     "status": "completed"
    },
    "tags": []
   },
   "outputs": [],
   "source": [
    "timestamps = pd.read_sql(\"select distinct record_time from EBAY_TOP_BERLIN order by record_time desc limit 2\", sqlite3.connect(\"UsedObjects.db\"))"
   ]
  },
  {
   "cell_type": "code",
   "execution_count": 3,
   "id": "periodic-identification",
   "metadata": {
    "execution": {
     "iopub.execute_input": "2021-08-28T08:30:08.158908Z",
     "iopub.status.busy": "2021-08-28T08:30:08.156875Z",
     "iopub.status.idle": "2021-08-28T08:30:08.176739Z",
     "shell.execute_reply": "2021-08-28T08:30:08.177942Z"
    },
    "papermill": {
     "duration": 0.066662,
     "end_time": "2021-08-28T08:30:08.178380",
     "exception": false,
     "start_time": "2021-08-28T08:30:08.111718",
     "status": "completed"
    },
    "tags": []
   },
   "outputs": [
    {
     "data": {
      "text/html": [
       "<div>\n",
       "<style scoped>\n",
       "    .dataframe tbody tr th:only-of-type {\n",
       "        vertical-align: middle;\n",
       "    }\n",
       "\n",
       "    .dataframe tbody tr th {\n",
       "        vertical-align: top;\n",
       "    }\n",
       "\n",
       "    .dataframe thead th {\n",
       "        text-align: right;\n",
       "    }\n",
       "</style>\n",
       "<table border=\"1\" class=\"dataframe\">\n",
       "  <thead>\n",
       "    <tr style=\"text-align: right;\">\n",
       "      <th></th>\n",
       "      <th>RECORD_TIME</th>\n",
       "    </tr>\n",
       "  </thead>\n",
       "  <tbody>\n",
       "    <tr>\n",
       "      <th>0</th>\n",
       "      <td>2021-08-28 10:30</td>\n",
       "    </tr>\n",
       "    <tr>\n",
       "      <th>1</th>\n",
       "      <td>2021-08-28 10:00</td>\n",
       "    </tr>\n",
       "  </tbody>\n",
       "</table>\n",
       "</div>"
      ],
      "text/plain": [
       "        RECORD_TIME\n",
       "0  2021-08-28 10:30\n",
       "1  2021-08-28 10:00"
      ]
     },
     "execution_count": 3,
     "metadata": {},
     "output_type": "execute_result"
    }
   ],
   "source": [
    "timestamps"
   ]
  },
  {
   "cell_type": "code",
   "execution_count": 4,
   "id": "alternate-victory",
   "metadata": {
    "execution": {
     "iopub.execute_input": "2021-08-28T08:30:08.232003Z",
     "iopub.status.busy": "2021-08-28T08:30:08.229713Z",
     "iopub.status.idle": "2021-08-28T08:30:08.460821Z",
     "shell.execute_reply": "2021-08-28T08:30:08.459450Z"
    },
    "papermill": {
     "duration": 0.260287,
     "end_time": "2021-08-28T08:30:08.461208",
     "exception": false,
     "start_time": "2021-08-28T08:30:08.200921",
     "status": "completed"
    },
    "tags": []
   },
   "outputs": [],
   "source": [
    "df = pd.read_sql(\"select * from EBAY_TOP_BERLIN where record_time in (select distinct record_time from EBAY_TOP_BERLIN order by record_time desc limit 2)\", sqlite3.connect(\"UsedObjects.db\"))"
   ]
  },
  {
   "cell_type": "code",
   "execution_count": 5,
   "id": "popular-active",
   "metadata": {
    "execution": {
     "iopub.execute_input": "2021-08-28T08:30:08.533840Z",
     "iopub.status.busy": "2021-08-28T08:30:08.521361Z",
     "iopub.status.idle": "2021-08-28T08:30:08.549286Z",
     "shell.execute_reply": "2021-08-28T08:30:08.550418Z"
    },
    "papermill": {
     "duration": 0.067747,
     "end_time": "2021-08-28T08:30:08.550832",
     "exception": false,
     "start_time": "2021-08-28T08:30:08.483085",
     "status": "completed"
    },
    "tags": []
   },
   "outputs": [],
   "source": [
    "df_pivot = df.pivot_table(index=\"PRODUCT\", columns = \"RECORD_TIME\", values = \"LISTING_COUNT\")"
   ]
  },
  {
   "cell_type": "code",
   "execution_count": 6,
   "id": "union-huntington",
   "metadata": {
    "execution": {
     "iopub.execute_input": "2021-08-28T08:30:08.617962Z",
     "iopub.status.busy": "2021-08-28T08:30:08.615803Z",
     "iopub.status.idle": "2021-08-28T08:30:08.621101Z",
     "shell.execute_reply": "2021-08-28T08:30:08.622414Z"
    },
    "papermill": {
     "duration": 0.045604,
     "end_time": "2021-08-28T08:30:08.622834",
     "exception": false,
     "start_time": "2021-08-28T08:30:08.577230",
     "status": "completed"
    },
    "tags": []
   },
   "outputs": [],
   "source": [
    "df_pivot.columns = [\"stamp_1\", \"stamp_2\"]\n",
    "df_pivot_diff = df_pivot.diff(axis=1)"
   ]
  },
  {
   "cell_type": "code",
   "execution_count": 7,
   "id": "fifth-motion",
   "metadata": {
    "execution": {
     "iopub.execute_input": "2021-08-28T08:30:08.677961Z",
     "iopub.status.busy": "2021-08-28T08:30:08.675390Z",
     "iopub.status.idle": "2021-08-28T08:30:10.167655Z",
     "shell.execute_reply": "2021-08-28T08:30:10.169734Z"
    },
    "papermill": {
     "duration": 1.526195,
     "end_time": "2021-08-28T08:30:10.170317",
     "exception": false,
     "start_time": "2021-08-28T08:30:08.644122",
     "status": "completed"
    },
    "tags": []
   },
   "outputs": [
    {
     "data": {
      "text/plain": [
       "<AxesSubplot:ylabel='PRODUCT'>"
      ]
     },
     "execution_count": 7,
     "metadata": {},
     "output_type": "execute_result"
    },
    {
     "data": {
      "image/png": "[encoded data removed]",
      "text/plain": [
       "<Figure size 432x288 with 1 Axes>"
      ]
     },
     "metadata": {
      "needs_background": "light"
     },
     "output_type": "display_data"
    }
   ],
   "source": [
    "df_pivot_diff.sort_values(\"stamp_2\", ascending = False)[\"stamp_2\"].head(10).plot.barh()"
   ]
  },
  {
   "cell_type": "code",
   "execution_count": null,
   "id": "extra-executive",
   "metadata": {
    "papermill": {
     "duration": 0.02243,
     "end_time": "2021-08-28T08:30:10.217043",
     "exception": false,
     "start_time": "2021-08-28T08:30:10.194613",
     "status": "completed"
    },
    "tags": []
   },
   "outputs": [],
   "source": []
  }
 ],
 "metadata": {
  "kernelspec": {
   "display_name": "Python 3",
   "language": "python",
   "name": "python3"
  },
  "language_info": {
   "codemirror_mode": {
    "name": "ipython",
    "version": 3
   },
   "file_extension": ".py",
   "mimetype": "text/x-python",
   "name": "python",
   "nbconvert_exporter": "python",
   "pygments_lexer": "ipython3",
   "version": "3.9.5"
  },
  "papermill": {
   "default_parameters": {},
   "duration": 6.82869,
   "end_time": "2021-08-28T08:30:11.481169",
   "environment_variables": {},
   "exception": null,
   "input_path": "eBay_Overview.ipynb",
   "output_path": "eBay_Overview.ipynb",
   "parameters": {},
   "start_time": "2021-08-28T08:30:04.652479",
   "version": "2.3.3"
  }
 },
 "nbformat": 4,
 "nbformat_minor": 5
}