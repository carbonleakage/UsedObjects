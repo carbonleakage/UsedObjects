{
 "cells": [
  {
   "cell_type": "code",
   "execution_count": 1,
   "id": "reverse-picking",
   "metadata": {
    "execution": {
     "iopub.execute_input": "2021-12-12T05:00:08.010696Z",
     "iopub.status.busy": "2021-12-12T05:00:08.008197Z",
     "iopub.status.idle": "2021-12-12T05:00:08.946178Z",
     "shell.execute_reply": "2021-12-12T05:00:08.948355Z"
    },
    "papermill": {
     "duration": 0.989969,
     "end_time": "2021-12-12T05:00:08.949121",
     "exception": false,
     "start_time": "2021-12-12T05:00:07.959152",
     "status": "completed"
    },
    "tags": []
   },
   "outputs": [],
   "source": [
    "import pandas as pd\n",
    "import sqlite3"
   ]
  },
  {
   "cell_type": "code",
   "execution_count": 2,
   "id": "innovative-syndrome",
   "metadata": {
    "execution": {
     "iopub.execute_input": "2021-12-12T05:00:09.012440Z",
     "iopub.status.busy": "2021-12-12T05:00:09.010219Z",
     "iopub.status.idle": "2021-12-12T05:00:10.072605Z",
     "shell.execute_reply": "2021-12-12T05:00:10.074263Z"
    },
    "papermill": {
     "duration": 1.098145,
     "end_time": "2021-12-12T05:00:10.074779",
     "exception": false,
     "start_time": "2021-12-12T05:00:08.976634",
     "status": "completed"
    },
    "tags": []
   },
   "outputs": [],
   "source": [
    "timestamps = pd.read_sql(\"select distinct record_time from EBAY_TOP_BERLIN order by record_time desc limit 2\", sqlite3.connect(\"UsedObjects.db\"))"
   ]
  },
  {
   "cell_type": "code",
   "execution_count": 3,
   "id": "periodic-identification",
   "metadata": {
    "execution": {
     "iopub.execute_input": "2021-12-12T05:00:10.145877Z",
     "iopub.status.busy": "2021-12-12T05:00:10.143535Z",
     "iopub.status.idle": "2021-12-12T05:00:10.166259Z",
     "shell.execute_reply": "2021-12-12T05:00:10.168100Z"
    },
    "papermill": {
     "duration": 0.071545,
     "end_time": "2021-12-12T05:00:10.168559",
     "exception": false,
     "start_time": "2021-12-12T05:00:10.097014",
     "status": "completed"
    },
    "tags": []
   },
   "outputs": [
    {
     "data": {
      "text/html": [
       "<div>\n",
       "<style scoped>\n",
       "    .dataframe tbody tr th:only-of-type {\n",
       "        vertical-align: middle;\n",
       "    }\n",
       "\n",
       "    .dataframe tbody tr th {\n",
       "        vertical-align: top;\n",
       "    }\n",
       "\n",
       "    .dataframe thead th {\n",
       "        text-align: right;\n",
       "    }\n",
       "</style>\n",
       "<table border=\"1\" class=\"dataframe\">\n",
       "  <thead>\n",
       "    <tr style=\"text-align: right;\">\n",
       "      <th></th>\n",
       "      <th>RECORD_TIME</th>\n",
       "    </tr>\n",
       "  </thead>\n",
       "  <tbody>\n",
       "    <tr>\n",
       "      <th>0</th>\n",
       "      <td>2021-12-12 06:00</td>\n",
       "    </tr>\n",
       "    <tr>\n",
       "      <th>1</th>\n",
       "      <td>2021-12-12 05:30</td>\n",
       "    </tr>\n",
       "  </tbody>\n",
       "</table>\n",
       "</div>"
      ],
      "text/plain": [
       "        RECORD_TIME\n",
       "0  2021-12-12 06:00\n",
       "1  2021-12-12 05:30"
      ]
     },
     "execution_count": 3,
     "metadata": {},
     "output_type": "execute_result"
    }
   ],
   "source": [
    "timestamps"
   ]
  },
  {
   "cell_type": "code",
   "execution_count": 4,
   "id": "alternate-victory",
   "metadata": {
    "execution": {
     "iopub.execute_input": "2021-12-12T05:00:10.222414Z",
     "iopub.status.busy": "2021-12-12T05:00:10.219353Z",
     "iopub.status.idle": "2021-12-12T05:00:11.737296Z",
     "shell.execute_reply": "2021-12-12T05:00:11.738667Z"
    },
    "papermill": {
     "duration": 1.549845,
     "end_time": "2021-12-12T05:00:11.739145",
     "exception": false,
     "start_time": "2021-12-12T05:00:10.189300",
     "status": "completed"
    },
    "tags": []
   },
   "outputs": [],
   "source": [
    "df = pd.read_sql(\"select * from EBAY_TOP_BERLIN where record_time in (select distinct record_time from EBAY_TOP_BERLIN order by record_time desc limit 2)\", sqlite3.connect(\"UsedObjects.db\"))"
   ]
  },
  {
   "cell_type": "code",
   "execution_count": 5,
   "id": "popular-active",
   "metadata": {
    "execution": {
     "iopub.execute_input": "2021-12-12T05:00:11.807410Z",
     "iopub.status.busy": "2021-12-12T05:00:11.805061Z",
     "iopub.status.idle": "2021-12-12T05:00:11.838925Z",
     "shell.execute_reply": "2021-12-12T05:00:11.840546Z"
    },
    "papermill": {
     "duration": 0.080962,
     "end_time": "2021-12-12T05:00:11.841232",
     "exception": false,
     "start_time": "2021-12-12T05:00:11.760270",
     "status": "completed"
    },
    "tags": []
   },
   "outputs": [],
   "source": [
    "df_pivot = df.pivot_table(index=\"PRODUCT\", columns = \"RECORD_TIME\", values = \"LISTING_COUNT\")"
   ]
  },
  {
   "cell_type": "code",
   "execution_count": 6,
   "id": "union-huntington",
   "metadata": {
    "execution": {
     "iopub.execute_input": "2021-12-12T05:00:11.910103Z",
     "iopub.status.busy": "2021-12-12T05:00:11.907526Z",
     "iopub.status.idle": "2021-12-12T05:00:11.913591Z",
     "shell.execute_reply": "2021-12-12T05:00:11.915409Z"
    },
    "papermill": {
     "duration": 0.052577,
     "end_time": "2021-12-12T05:00:11.921017",
     "exception": false,
     "start_time": "2021-12-12T05:00:11.868440",
     "status": "completed"
    },
    "tags": []
   },
   "outputs": [],
   "source": [
    "df_pivot.columns = [\"stamp_1\", \"stamp_2\"]\n",
    "df_pivot_diff = df_pivot.diff(axis=1)"
   ]
  },
  {
   "cell_type": "code",
   "execution_count": 7,
   "id": "fifth-motion",
   "metadata": {
    "execution": {
     "iopub.execute_input": "2021-12-12T05:00:11.977724Z",
     "iopub.status.busy": "2021-12-12T05:00:11.975183Z",
     "iopub.status.idle": "2021-12-12T05:00:13.971083Z",
     "shell.execute_reply": "2021-12-12T05:00:13.968640Z"
    },
    "papermill": {
     "duration": 2.029683,
     "end_time": "2021-12-12T05:00:13.971662",
     "exception": false,
     "start_time": "2021-12-12T05:00:11.941979",
     "status": "completed"
    },
    "tags": []
   },
   "outputs": [
    {
     "data": {
      "text/plain": [
       "<AxesSubplot:ylabel='PRODUCT'>"
      ]
     },
     "execution_count": 7,
     "metadata": {},
     "output_type": "execute_result"
    },
    {
     "data": {
      "image/png": "[encoded data removed]",
      "text/plain": [
       "<Figure size 432x288 with 1 Axes>"
      ]
     },
     "metadata": {
      "needs_background": "light"
     },
     "output_type": "display_data"
    }
   ],
   "source": [
    "df_pivot_diff.sort_values(\"stamp_2\", ascending = False)[\"stamp_2\"].head(10).plot.barh()"
   ]
  },
  {
   "cell_type": "code",
   "execution_count": null,
   "id": "extra-executive",
   "metadata": {
    "papermill": {
     "duration": 0.027598,
     "end_time": "2021-12-12T05:00:14.033858",
     "exception": false,
     "start_time": "2021-12-12T05:00:14.006260",
     "status": "completed"
    },
    "tags": []
   },
   "outputs": [],
   "source": []
  }
 ],
 "metadata": {
  "kernelspec": {
   "display_name": "Python 3",
   "language": "python",
   "name": "python3"
  },
  "language_info": {
   "codemirror_mode": {
    "name": "ipython",
    "version": 3
   },
   "file_extension": ".py",
   "mimetype": "text/x-python",
   "name": "python",
   "nbconvert_exporter": "python",
   "pygments_lexer": "ipython3",
   "version": "3.9.5"
  },
  "papermill": {
   "default_parameters": {},
   "duration": 9.456214,
   "end_time": "2021-12-12T05:00:14.683513",
   "environment_variables": {},
   "exception": null,
   "input_path": "eBay_Overview.ipynb",
   "output_path": "eBay_Overview.ipynb",
   "parameters": {},
   "start_time": "2021-12-12T05:00:05.227299",
   "version": "2.3.3"
  }
 },
 "nbformat": 4,
 "nbformat_minor": 5
}