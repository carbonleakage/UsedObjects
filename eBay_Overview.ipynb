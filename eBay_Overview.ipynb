{
 "cells": [
  {
   "cell_type": "code",
   "execution_count": 1,
   "id": "reverse-picking",
   "metadata": {
    "execution": {
     "iopub.execute_input": "2021-11-20T13:30:07.477595Z",
     "iopub.status.busy": "2021-11-20T13:30:07.475490Z",
     "iopub.status.idle": "2021-11-20T13:30:08.443813Z",
     "shell.execute_reply": "2021-11-20T13:30:08.446477Z"
    },
    "papermill": {
     "duration": 1.019496,
     "end_time": "2021-11-20T13:30:08.447219",
     "exception": false,
     "start_time": "2021-11-20T13:30:07.427723",
     "status": "completed"
    },
    "tags": []
   },
   "outputs": [],
   "source": [
    "import pandas as pd\n",
    "import sqlite3"
   ]
  },
  {
   "cell_type": "code",
   "execution_count": 2,
   "id": "innovative-syndrome",
   "metadata": {
    "execution": {
     "iopub.execute_input": "2021-11-20T13:30:08.509435Z",
     "iopub.status.busy": "2021-11-20T13:30:08.507198Z",
     "iopub.status.idle": "2021-11-20T13:30:09.374781Z",
     "shell.execute_reply": "2021-11-20T13:30:09.376249Z"
    },
    "papermill": {
     "duration": 0.902617,
     "end_time": "2021-11-20T13:30:09.376801",
     "exception": false,
     "start_time": "2021-11-20T13:30:08.474184",
     "status": "completed"
    },
    "tags": []
   },
   "outputs": [],
   "source": [
    "timestamps = pd.read_sql(\"select distinct record_time from EBAY_TOP_BERLIN order by record_time desc limit 2\", sqlite3.connect(\"UsedObjects.db\"))"
   ]
  },
  {
   "cell_type": "code",
   "execution_count": 3,
   "id": "periodic-identification",
   "metadata": {
    "execution": {
     "iopub.execute_input": "2021-11-20T13:30:09.451212Z",
     "iopub.status.busy": "2021-11-20T13:30:09.448972Z",
     "iopub.status.idle": "2021-11-20T13:30:09.472749Z",
     "shell.execute_reply": "2021-11-20T13:30:09.474316Z"
    },
    "papermill": {
     "duration": 0.076699,
     "end_time": "2021-11-20T13:30:09.474843",
     "exception": false,
     "start_time": "2021-11-20T13:30:09.398144",
     "status": "completed"
    },
    "tags": []
   },
   "outputs": [
    {
     "data": {
      "text/html": [
       "<div>\n",
       "<style scoped>\n",
       "    .dataframe tbody tr th:only-of-type {\n",
       "        vertical-align: middle;\n",
       "    }\n",
       "\n",
       "    .dataframe tbody tr th {\n",
       "        vertical-align: top;\n",
       "    }\n",
       "\n",
       "    .dataframe thead th {\n",
       "        text-align: right;\n",
       "    }\n",
       "</style>\n",
       "<table border=\"1\" class=\"dataframe\">\n",
       "  <thead>\n",
       "    <tr style=\"text-align: right;\">\n",
       "      <th></th>\n",
       "      <th>RECORD_TIME</th>\n",
       "    </tr>\n",
       "  </thead>\n",
       "  <tbody>\n",
       "    <tr>\n",
       "      <th>0</th>\n",
       "      <td>2021-11-20 14:30</td>\n",
       "    </tr>\n",
       "    <tr>\n",
       "      <th>1</th>\n",
       "      <td>2021-11-20 14:00</td>\n",
       "    </tr>\n",
       "  </tbody>\n",
       "</table>\n",
       "</div>"
      ],
      "text/plain": [
       "        RECORD_TIME\n",
       "0  2021-11-20 14:30\n",
       "1  2021-11-20 14:00"
      ]
     },
     "execution_count": 3,
     "metadata": {},
     "output_type": "execute_result"
    }
   ],
   "source": [
    "timestamps"
   ]
  },
  {
   "cell_type": "code",
   "execution_count": 4,
   "id": "alternate-victory",
   "metadata": {
    "execution": {
     "iopub.execute_input": "2021-11-20T13:30:09.530598Z",
     "iopub.status.busy": "2021-11-20T13:30:09.528350Z",
     "iopub.status.idle": "2021-11-20T13:30:10.813044Z",
     "shell.execute_reply": "2021-11-20T13:30:10.815982Z"
    },
    "papermill": {
     "duration": 1.319868,
     "end_time": "2021-11-20T13:30:10.816839",
     "exception": false,
     "start_time": "2021-11-20T13:30:09.496971",
     "status": "completed"
    },
    "tags": []
   },
   "outputs": [],
   "source": [
    "df = pd.read_sql(\"select * from EBAY_TOP_BERLIN where record_time in (select distinct record_time from EBAY_TOP_BERLIN order by record_time desc limit 2)\", sqlite3.connect(\"UsedObjects.db\"))"
   ]
  },
  {
   "cell_type": "code",
   "execution_count": 5,
   "id": "popular-active",
   "metadata": {
    "execution": {
     "iopub.execute_input": "2021-11-20T13:30:10.903055Z",
     "iopub.status.busy": "2021-11-20T13:30:10.889264Z",
     "iopub.status.idle": "2021-11-20T13:30:10.924794Z",
     "shell.execute_reply": "2021-11-20T13:30:10.926122Z"
    },
    "papermill": {
     "duration": 0.080778,
     "end_time": "2021-11-20T13:30:10.926576",
     "exception": false,
     "start_time": "2021-11-20T13:30:10.845798",
     "status": "completed"
    },
    "tags": []
   },
   "outputs": [],
   "source": [
    "df_pivot = df.pivot_table(index=\"PRODUCT\", columns = \"RECORD_TIME\", values = \"LISTING_COUNT\")"
   ]
  },
  {
   "cell_type": "code",
   "execution_count": 6,
   "id": "union-huntington",
   "metadata": {
    "execution": {
     "iopub.execute_input": "2021-11-20T13:30:10.987276Z",
     "iopub.status.busy": "2021-11-20T13:30:10.985174Z",
     "iopub.status.idle": "2021-11-20T13:30:10.990285Z",
     "shell.execute_reply": "2021-11-20T13:30:10.991547Z"
    },
    "papermill": {
     "duration": 0.045068,
     "end_time": "2021-11-20T13:30:10.992100",
     "exception": false,
     "start_time": "2021-11-20T13:30:10.947032",
     "status": "completed"
    },
    "tags": []
   },
   "outputs": [],
   "source": [
    "df_pivot.columns = [\"stamp_1\", \"stamp_2\"]\n",
    "df_pivot_diff = df_pivot.diff(axis=1)"
   ]
  },
  {
   "cell_type": "code",
   "execution_count": 7,
   "id": "fifth-motion",
   "metadata": {
    "execution": {
     "iopub.execute_input": "2021-11-20T13:30:11.049700Z",
     "iopub.status.busy": "2021-11-20T13:30:11.047058Z",
     "iopub.status.idle": "2021-11-20T13:30:12.987194Z",
     "shell.execute_reply": "2021-11-20T13:30:12.989227Z"
    },
    "papermill": {
     "duration": 1.977592,
     "end_time": "2021-11-20T13:30:12.989813",
     "exception": false,
     "start_time": "2021-11-20T13:30:11.012221",
     "status": "completed"
    },
    "tags": []
   },
   "outputs": [
    {
     "data": {
      "text/plain": [
       "<AxesSubplot:ylabel='PRODUCT'>"
      ]
     },
     "execution_count": 7,
     "metadata": {},
     "output_type": "execute_result"
    },
    {
     "data": {
      "image/png": "[encoded data removed]",
      "text/plain": [
       "<Figure size 432x288 with 1 Axes>"
      ]
     },
     "metadata": {
      "needs_background": "light"
     },
     "output_type": "display_data"
    }
   ],
   "source": [
    "df_pivot_diff.sort_values(\"stamp_2\", ascending = False)[\"stamp_2\"].head(10).plot.barh()"
   ]
  },
  {
   "cell_type": "code",
   "execution_count": null,
   "id": "extra-executive",
   "metadata": {
    "papermill": {
     "duration": 0.023647,
     "end_time": "2021-11-20T13:30:13.039658",
     "exception": false,
     "start_time": "2021-11-20T13:30:13.016011",
     "status": "completed"
    },
    "tags": []
   },
   "outputs": [],
   "source": []
  }
 ],
 "metadata": {
  "kernelspec": {
   "display_name": "Python 3",
   "language": "python",
   "name": "python3"
  },
  "language_info": {
   "codemirror_mode": {
    "name": "ipython",
    "version": 3
   },
   "file_extension": ".py",
   "mimetype": "text/x-python",
   "name": "python",
   "nbconvert_exporter": "python",
   "pygments_lexer": "ipython3",
   "version": "3.9.5"
  },
  "papermill": {
   "default_parameters": {},
   "duration": 9.924381,
   "end_time": "2021-11-20T13:30:14.623261",
   "environment_variables": {},
   "exception": null,
   "input_path": "eBay_Overview.ipynb",
   "output_path": "eBay_Overview.ipynb",
   "parameters": {},
   "start_time": "2021-11-20T13:30:04.698880",
   "version": "2.3.3"
  }
 },
 "nbformat": 4,
 "nbformat_minor": 5
}