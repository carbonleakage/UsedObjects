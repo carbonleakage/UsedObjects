{
 "cells": [
  {
   "cell_type": "code",
   "execution_count": 1,
   "id": "reverse-picking",
   "metadata": {
    "execution": {
     "iopub.execute_input": "2021-10-09T05:30:07.568976Z",
     "iopub.status.busy": "2021-10-09T05:30:07.567034Z",
     "iopub.status.idle": "2021-10-09T05:30:08.382060Z",
     "shell.execute_reply": "2021-10-09T05:30:08.383478Z"
    },
    "papermill": {
     "duration": 0.867354,
     "end_time": "2021-10-09T05:30:08.384151",
     "exception": false,
     "start_time": "2021-10-09T05:30:07.516797",
     "status": "completed"
    },
    "tags": []
   },
   "outputs": [],
   "source": [
    "import pandas as pd\n",
    "import sqlite3"
   ]
  },
  {
   "cell_type": "code",
   "execution_count": 2,
   "id": "innovative-syndrome",
   "metadata": {
    "execution": {
     "iopub.execute_input": "2021-10-09T05:30:08.435823Z",
     "iopub.status.busy": "2021-10-09T05:30:08.433770Z",
     "iopub.status.idle": "2021-10-09T05:30:08.926405Z",
     "shell.execute_reply": "2021-10-09T05:30:08.927751Z"
    },
    "papermill": {
     "duration": 0.522956,
     "end_time": "2021-10-09T05:30:08.928184",
     "exception": false,
     "start_time": "2021-10-09T05:30:08.405228",
     "status": "completed"
    },
    "tags": []
   },
   "outputs": [],
   "source": [
    "timestamps = pd.read_sql(\"select distinct record_time from EBAY_TOP_BERLIN order by record_time desc limit 2\", sqlite3.connect(\"UsedObjects.db\"))"
   ]
  },
  {
   "cell_type": "code",
   "execution_count": 3,
   "id": "periodic-identification",
   "metadata": {
    "execution": {
     "iopub.execute_input": "2021-10-09T05:30:08.994195Z",
     "iopub.status.busy": "2021-10-09T05:30:08.992163Z",
     "iopub.status.idle": "2021-10-09T05:30:09.012475Z",
     "shell.execute_reply": "2021-10-09T05:30:09.013691Z"
    },
    "papermill": {
     "duration": 0.065195,
     "end_time": "2021-10-09T05:30:09.014092",
     "exception": false,
     "start_time": "2021-10-09T05:30:08.948897",
     "status": "completed"
    },
    "tags": []
   },
   "outputs": [
    {
     "data": {
      "text/html": [
       "<div>\n",
       "<style scoped>\n",
       "    .dataframe tbody tr th:only-of-type {\n",
       "        vertical-align: middle;\n",
       "    }\n",
       "\n",
       "    .dataframe tbody tr th {\n",
       "        vertical-align: top;\n",
       "    }\n",
       "\n",
       "    .dataframe thead th {\n",
       "        text-align: right;\n",
       "    }\n",
       "</style>\n",
       "<table border=\"1\" class=\"dataframe\">\n",
       "  <thead>\n",
       "    <tr style=\"text-align: right;\">\n",
       "      <th></th>\n",
       "      <th>RECORD_TIME</th>\n",
       "    </tr>\n",
       "  </thead>\n",
       "  <tbody>\n",
       "    <tr>\n",
       "      <th>0</th>\n",
       "      <td>2021-10-09 07:30</td>\n",
       "    </tr>\n",
       "    <tr>\n",
       "      <th>1</th>\n",
       "      <td>2021-10-09 07:00</td>\n",
       "    </tr>\n",
       "  </tbody>\n",
       "</table>\n",
       "</div>"
      ],
      "text/plain": [
       "        RECORD_TIME\n",
       "0  2021-10-09 07:30\n",
       "1  2021-10-09 07:00"
      ]
     },
     "execution_count": 3,
     "metadata": {},
     "output_type": "execute_result"
    }
   ],
   "source": [
    "timestamps"
   ]
  },
  {
   "cell_type": "code",
   "execution_count": 4,
   "id": "alternate-victory",
   "metadata": {
    "execution": {
     "iopub.execute_input": "2021-10-09T05:30:09.067355Z",
     "iopub.status.busy": "2021-10-09T05:30:09.064997Z",
     "iopub.status.idle": "2021-10-09T05:30:09.783318Z",
     "shell.execute_reply": "2021-10-09T05:30:09.784831Z"
    },
    "papermill": {
     "duration": 0.748996,
     "end_time": "2021-10-09T05:30:09.785273",
     "exception": false,
     "start_time": "2021-10-09T05:30:09.036277",
     "status": "completed"
    },
    "tags": []
   },
   "outputs": [],
   "source": [
    "df = pd.read_sql(\"select * from EBAY_TOP_BERLIN where record_time in (select distinct record_time from EBAY_TOP_BERLIN order by record_time desc limit 2)\", sqlite3.connect(\"UsedObjects.db\"))"
   ]
  },
  {
   "cell_type": "code",
   "execution_count": 5,
   "id": "popular-active",
   "metadata": {
    "execution": {
     "iopub.execute_input": "2021-10-09T05:30:09.851338Z",
     "iopub.status.busy": "2021-10-09T05:30:09.842624Z",
     "iopub.status.idle": "2021-10-09T05:30:09.872388Z",
     "shell.execute_reply": "2021-10-09T05:30:09.873771Z"
    },
    "papermill": {
     "duration": 0.068029,
     "end_time": "2021-10-09T05:30:09.874207",
     "exception": false,
     "start_time": "2021-10-09T05:30:09.806178",
     "status": "completed"
    },
    "tags": []
   },
   "outputs": [],
   "source": [
    "df_pivot = df.pivot_table(index=\"PRODUCT\", columns = \"RECORD_TIME\", values = \"LISTING_COUNT\")"
   ]
  },
  {
   "cell_type": "code",
   "execution_count": 6,
   "id": "union-huntington",
   "metadata": {
    "execution": {
     "iopub.execute_input": "2021-10-09T05:30:09.930427Z",
     "iopub.status.busy": "2021-10-09T05:30:09.928406Z",
     "iopub.status.idle": "2021-10-09T05:30:09.933837Z",
     "shell.execute_reply": "2021-10-09T05:30:09.935241Z"
    },
    "papermill": {
     "duration": 0.040941,
     "end_time": "2021-10-09T05:30:09.935696",
     "exception": false,
     "start_time": "2021-10-09T05:30:09.894755",
     "status": "completed"
    },
    "tags": []
   },
   "outputs": [],
   "source": [
    "df_pivot.columns = [\"stamp_1\", \"stamp_2\"]\n",
    "df_pivot_diff = df_pivot.diff(axis=1)"
   ]
  },
  {
   "cell_type": "code",
   "execution_count": 7,
   "id": "fifth-motion",
   "metadata": {
    "execution": {
     "iopub.execute_input": "2021-10-09T05:30:09.993475Z",
     "iopub.status.busy": "2021-10-09T05:30:09.991109Z",
     "iopub.status.idle": "2021-10-09T05:30:11.464439Z",
     "shell.execute_reply": "2021-10-09T05:30:11.465729Z"
    },
    "papermill": {
     "duration": 1.507001,
     "end_time": "2021-10-09T05:30:11.466152",
     "exception": false,
     "start_time": "2021-10-09T05:30:09.959151",
     "status": "completed"
    },
    "tags": []
   },
   "outputs": [
    {
     "data": {
      "text/plain": [
       "<AxesSubplot:ylabel='PRODUCT'>"
      ]
     },
     "execution_count": 7,
     "metadata": {},
     "output_type": "execute_result"
    },
    {
     "data": {
      "image/png": "[encoded data removed]",
      "text/plain": [
       "<Figure size 432x288 with 1 Axes>"
      ]
     },
     "metadata": {
      "needs_background": "light"
     },
     "output_type": "display_data"
    }
   ],
   "source": [
    "df_pivot_diff.sort_values(\"stamp_2\", ascending = False)[\"stamp_2\"].head(10).plot.barh()"
   ]
  },
  {
   "cell_type": "code",
   "execution_count": null,
   "id": "extra-executive",
   "metadata": {
    "papermill": {
     "duration": 0.022293,
     "end_time": "2021-10-09T05:30:11.514586",
     "exception": false,
     "start_time": "2021-10-09T05:30:11.492293",
     "status": "completed"
    },
    "tags": []
   },
   "outputs": [],
   "source": []
  }
 ],
 "metadata": {
  "kernelspec": {
   "display_name": "Python 3",
   "language": "python",
   "name": "python3"
  },
  "language_info": {
   "codemirror_mode": {
    "name": "ipython",
    "version": 3
   },
   "file_extension": ".py",
   "mimetype": "text/x-python",
   "name": "python",
   "nbconvert_exporter": "python",
   "pygments_lexer": "ipython3",
   "version": "3.9.5"
  },
  "papermill": {
   "default_parameters": {},
   "duration": 7.826591,
   "end_time": "2021-10-09T05:30:12.927348",
   "environment_variables": {},
   "exception": null,
   "input_path": "eBay_Overview.ipynb",
   "output_path": "eBay_Overview.ipynb",
   "parameters": {},
   "start_time": "2021-10-09T05:30:05.100757",
   "version": "2.3.3"
  }
 },
 "nbformat": 4,
 "nbformat_minor": 5
}