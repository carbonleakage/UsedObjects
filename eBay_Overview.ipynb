{
 "cells": [
  {
   "cell_type": "code",
   "execution_count": 1,
   "id": "reverse-picking",
   "metadata": {
    "execution": {
     "iopub.execute_input": "2021-11-22T12:00:07.194893Z",
     "iopub.status.busy": "2021-11-22T12:00:07.192605Z",
     "iopub.status.idle": "2021-11-22T12:00:08.154733Z",
     "shell.execute_reply": "2021-11-22T12:00:08.156398Z"
    },
    "papermill": {
     "duration": 1.009591,
     "end_time": "2021-11-22T12:00:08.157193",
     "exception": false,
     "start_time": "2021-11-22T12:00:07.147602",
     "status": "completed"
    },
    "tags": []
   },
   "outputs": [],
   "source": [
    "import pandas as pd\n",
    "import sqlite3"
   ]
  },
  {
   "cell_type": "code",
   "execution_count": 2,
   "id": "innovative-syndrome",
   "metadata": {
    "execution": {
     "iopub.execute_input": "2021-11-22T12:00:08.219318Z",
     "iopub.status.busy": "2021-11-22T12:00:08.216873Z",
     "iopub.status.idle": "2021-11-22T12:00:09.122088Z",
     "shell.execute_reply": "2021-11-22T12:00:09.124010Z"
    },
    "papermill": {
     "duration": 0.938968,
     "end_time": "2021-11-22T12:00:09.124492",
     "exception": false,
     "start_time": "2021-11-22T12:00:08.185524",
     "status": "completed"
    },
    "tags": []
   },
   "outputs": [],
   "source": [
    "timestamps = pd.read_sql(\"select distinct record_time from EBAY_TOP_BERLIN order by record_time desc limit 2\", sqlite3.connect(\"UsedObjects.db\"))"
   ]
  },
  {
   "cell_type": "code",
   "execution_count": 3,
   "id": "periodic-identification",
   "metadata": {
    "execution": {
     "iopub.execute_input": "2021-11-22T12:00:09.197014Z",
     "iopub.status.busy": "2021-11-22T12:00:09.190795Z",
     "iopub.status.idle": "2021-11-22T12:00:09.213963Z",
     "shell.execute_reply": "2021-11-22T12:00:09.215605Z"
    },
    "papermill": {
     "duration": 0.072815,
     "end_time": "2021-11-22T12:00:09.216126",
     "exception": false,
     "start_time": "2021-11-22T12:00:09.143311",
     "status": "completed"
    },
    "tags": []
   },
   "outputs": [
    {
     "data": {
      "text/html": [
       "<div>\n",
       "<style scoped>\n",
       "    .dataframe tbody tr th:only-of-type {\n",
       "        vertical-align: middle;\n",
       "    }\n",
       "\n",
       "    .dataframe tbody tr th {\n",
       "        vertical-align: top;\n",
       "    }\n",
       "\n",
       "    .dataframe thead th {\n",
       "        text-align: right;\n",
       "    }\n",
       "</style>\n",
       "<table border=\"1\" class=\"dataframe\">\n",
       "  <thead>\n",
       "    <tr style=\"text-align: right;\">\n",
       "      <th></th>\n",
       "      <th>RECORD_TIME</th>\n",
       "    </tr>\n",
       "  </thead>\n",
       "  <tbody>\n",
       "    <tr>\n",
       "      <th>0</th>\n",
       "      <td>2021-11-22 13:00</td>\n",
       "    </tr>\n",
       "    <tr>\n",
       "      <th>1</th>\n",
       "      <td>2021-11-22 12:30</td>\n",
       "    </tr>\n",
       "  </tbody>\n",
       "</table>\n",
       "</div>"
      ],
      "text/plain": [
       "        RECORD_TIME\n",
       "0  2021-11-22 13:00\n",
       "1  2021-11-22 12:30"
      ]
     },
     "execution_count": 3,
     "metadata": {},
     "output_type": "execute_result"
    }
   ],
   "source": [
    "timestamps"
   ]
  },
  {
   "cell_type": "code",
   "execution_count": 4,
   "id": "alternate-victory",
   "metadata": {
    "execution": {
     "iopub.execute_input": "2021-11-22T12:00:09.271008Z",
     "iopub.status.busy": "2021-11-22T12:00:09.268670Z",
     "iopub.status.idle": "2021-11-22T12:00:10.546471Z",
     "shell.execute_reply": "2021-11-22T12:00:10.547817Z"
    },
    "papermill": {
     "duration": 1.311084,
     "end_time": "2021-11-22T12:00:10.548284",
     "exception": false,
     "start_time": "2021-11-22T12:00:09.237200",
     "status": "completed"
    },
    "tags": []
   },
   "outputs": [],
   "source": [
    "df = pd.read_sql(\"select * from EBAY_TOP_BERLIN where record_time in (select distinct record_time from EBAY_TOP_BERLIN order by record_time desc limit 2)\", sqlite3.connect(\"UsedObjects.db\"))"
   ]
  },
  {
   "cell_type": "code",
   "execution_count": 5,
   "id": "popular-active",
   "metadata": {
    "execution": {
     "iopub.execute_input": "2021-11-22T12:00:10.624488Z",
     "iopub.status.busy": "2021-11-22T12:00:10.610516Z",
     "iopub.status.idle": "2021-11-22T12:00:10.645492Z",
     "shell.execute_reply": "2021-11-22T12:00:10.647494Z"
    },
    "papermill": {
     "duration": 0.07952,
     "end_time": "2021-11-22T12:00:10.648133",
     "exception": false,
     "start_time": "2021-11-22T12:00:10.568613",
     "status": "completed"
    },
    "tags": []
   },
   "outputs": [],
   "source": [
    "df_pivot = df.pivot_table(index=\"PRODUCT\", columns = \"RECORD_TIME\", values = \"LISTING_COUNT\")"
   ]
  },
  {
   "cell_type": "code",
   "execution_count": 6,
   "id": "union-huntington",
   "metadata": {
    "execution": {
     "iopub.execute_input": "2021-11-22T12:00:10.734461Z",
     "iopub.status.busy": "2021-11-22T12:00:10.732118Z",
     "iopub.status.idle": "2021-11-22T12:00:10.738418Z",
     "shell.execute_reply": "2021-11-22T12:00:10.740045Z"
    },
    "papermill": {
     "duration": 0.063104,
     "end_time": "2021-11-22T12:00:10.740542",
     "exception": false,
     "start_time": "2021-11-22T12:00:10.677438",
     "status": "completed"
    },
    "tags": []
   },
   "outputs": [],
   "source": [
    "df_pivot.columns = [\"stamp_1\", \"stamp_2\"]\n",
    "df_pivot_diff = df_pivot.diff(axis=1)"
   ]
  },
  {
   "cell_type": "code",
   "execution_count": 7,
   "id": "fifth-motion",
   "metadata": {
    "execution": {
     "iopub.execute_input": "2021-11-22T12:00:10.800414Z",
     "iopub.status.busy": "2021-11-22T12:00:10.797806Z",
     "iopub.status.idle": "2021-11-22T12:00:12.651838Z",
     "shell.execute_reply": "2021-11-22T12:00:12.654792Z"
    },
    "papermill": {
     "duration": 1.893625,
     "end_time": "2021-11-22T12:00:12.655769",
     "exception": false,
     "start_time": "2021-11-22T12:00:10.762144",
     "status": "completed"
    },
    "tags": []
   },
   "outputs": [
    {
     "data": {
      "text/plain": [
       "<AxesSubplot:ylabel='PRODUCT'>"
      ]
     },
     "execution_count": 7,
     "metadata": {},
     "output_type": "execute_result"
    },
    {
     "data": {
      "image/png": "[encoded data removed]",
      "text/plain": [
       "<Figure size 432x288 with 1 Axes>"
      ]
     },
     "metadata": {
      "needs_background": "light"
     },
     "output_type": "display_data"
    }
   ],
   "source": [
    "df_pivot_diff.sort_values(\"stamp_2\", ascending = False)[\"stamp_2\"].head(10).plot.barh()"
   ]
  },
  {
   "cell_type": "code",
   "execution_count": null,
   "id": "extra-executive",
   "metadata": {
    "papermill": {
     "duration": 0.034319,
     "end_time": "2021-11-22T12:00:12.729159",
     "exception": false,
     "start_time": "2021-11-22T12:00:12.694840",
     "status": "completed"
    },
    "tags": []
   },
   "outputs": [],
   "source": []
  }
 ],
 "metadata": {
  "kernelspec": {
   "display_name": "Python 3",
   "language": "python",
   "name": "python3"
  },
  "language_info": {
   "codemirror_mode": {
    "name": "ipython",
    "version": 3
   },
   "file_extension": ".py",
   "mimetype": "text/x-python",
   "name": "python",
   "nbconvert_exporter": "python",
   "pygments_lexer": "ipython3",
   "version": "3.9.5"
  },
  "papermill": {
   "default_parameters": {},
   "duration": 11.955832,
   "end_time": "2021-11-22T12:00:16.341646",
   "environment_variables": {},
   "exception": null,
   "input_path": "eBay_Overview.ipynb",
   "output_path": "eBay_Overview.ipynb",
   "parameters": {},
   "start_time": "2021-11-22T12:00:04.385814",
   "version": "2.3.3"
  }
 },
 "nbformat": 4,
 "nbformat_minor": 5
}