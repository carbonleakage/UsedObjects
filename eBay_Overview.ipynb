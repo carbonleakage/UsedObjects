{
 "cells": [
  {
   "cell_type": "code",
   "execution_count": 1,
   "id": "reverse-picking",
   "metadata": {
    "execution": {
     "iopub.execute_input": "2021-08-15T05:30:06.647267Z",
     "iopub.status.busy": "2021-08-15T05:30:06.645207Z",
     "iopub.status.idle": "2021-08-15T05:30:07.458701Z",
     "shell.execute_reply": "2021-08-15T05:30:07.460059Z"
    },
    "papermill": {
     "duration": 0.864202,
     "end_time": "2021-08-15T05:30:07.460710",
     "exception": false,
     "start_time": "2021-08-15T05:30:06.596508",
     "status": "completed"
    },
    "tags": []
   },
   "outputs": [],
   "source": [
    "import pandas as pd\n",
    "import sqlite3"
   ]
  },
  {
   "cell_type": "code",
   "execution_count": 2,
   "id": "innovative-syndrome",
   "metadata": {
    "execution": {
     "iopub.execute_input": "2021-08-15T05:30:07.511030Z",
     "iopub.status.busy": "2021-08-15T05:30:07.509018Z",
     "iopub.status.idle": "2021-08-15T05:30:07.562757Z",
     "shell.execute_reply": "2021-08-15T05:30:07.563972Z"
    },
    "papermill": {
     "duration": 0.082895,
     "end_time": "2021-08-15T05:30:07.564367",
     "exception": false,
     "start_time": "2021-08-15T05:30:07.481472",
     "status": "completed"
    },
    "tags": []
   },
   "outputs": [],
   "source": [
    "timestamps = pd.read_sql(\"select distinct record_time from EBAY_TOP_BERLIN order by record_time desc limit 2\", sqlite3.connect(\"UsedObjects.db\"))"
   ]
  },
  {
   "cell_type": "code",
   "execution_count": 3,
   "id": "periodic-identification",
   "metadata": {
    "execution": {
     "iopub.execute_input": "2021-08-15T05:30:07.628508Z",
     "iopub.status.busy": "2021-08-15T05:30:07.626479Z",
     "iopub.status.idle": "2021-08-15T05:30:07.646446Z",
     "shell.execute_reply": "2021-08-15T05:30:07.647760Z"
    },
    "papermill": {
     "duration": 0.063149,
     "end_time": "2021-08-15T05:30:07.648178",
     "exception": false,
     "start_time": "2021-08-15T05:30:07.585029",
     "status": "completed"
    },
    "tags": []
   },
   "outputs": [
    {
     "data": {
      "text/html": [
       "<div>\n",
       "<style scoped>\n",
       "    .dataframe tbody tr th:only-of-type {\n",
       "        vertical-align: middle;\n",
       "    }\n",
       "\n",
       "    .dataframe tbody tr th {\n",
       "        vertical-align: top;\n",
       "    }\n",
       "\n",
       "    .dataframe thead th {\n",
       "        text-align: right;\n",
       "    }\n",
       "</style>\n",
       "<table border=\"1\" class=\"dataframe\">\n",
       "  <thead>\n",
       "    <tr style=\"text-align: right;\">\n",
       "      <th></th>\n",
       "      <th>RECORD_TIME</th>\n",
       "    </tr>\n",
       "  </thead>\n",
       "  <tbody>\n",
       "    <tr>\n",
       "      <th>0</th>\n",
       "      <td>2021-08-15 07:30</td>\n",
       "    </tr>\n",
       "    <tr>\n",
       "      <th>1</th>\n",
       "      <td>2021-08-15 07:00</td>\n",
       "    </tr>\n",
       "  </tbody>\n",
       "</table>\n",
       "</div>"
      ],
      "text/plain": [
       "        RECORD_TIME\n",
       "0  2021-08-15 07:30\n",
       "1  2021-08-15 07:00"
      ]
     },
     "execution_count": 3,
     "metadata": {},
     "output_type": "execute_result"
    }
   ],
   "source": [
    "timestamps"
   ]
  },
  {
   "cell_type": "code",
   "execution_count": 4,
   "id": "alternate-victory",
   "metadata": {
    "execution": {
     "iopub.execute_input": "2021-08-15T05:30:07.699125Z",
     "iopub.status.busy": "2021-08-15T05:30:07.697160Z",
     "iopub.status.idle": "2021-08-15T05:30:07.775130Z",
     "shell.execute_reply": "2021-08-15T05:30:07.776345Z"
    },
    "papermill": {
     "duration": 0.107695,
     "end_time": "2021-08-15T05:30:07.776742",
     "exception": false,
     "start_time": "2021-08-15T05:30:07.669047",
     "status": "completed"
    },
    "tags": []
   },
   "outputs": [],
   "source": [
    "df = pd.read_sql(\"select * from EBAY_TOP_BERLIN where record_time in (select distinct record_time from EBAY_TOP_BERLIN order by record_time desc limit 2)\", sqlite3.connect(\"UsedObjects.db\"))"
   ]
  },
  {
   "cell_type": "code",
   "execution_count": 5,
   "id": "popular-active",
   "metadata": {
    "execution": {
     "iopub.execute_input": "2021-08-15T05:30:07.849040Z",
     "iopub.status.busy": "2021-08-15T05:30:07.836319Z",
     "iopub.status.idle": "2021-08-15T05:30:07.864971Z",
     "shell.execute_reply": "2021-08-15T05:30:07.866333Z"
    },
    "papermill": {
     "duration": 0.068332,
     "end_time": "2021-08-15T05:30:07.866755",
     "exception": false,
     "start_time": "2021-08-15T05:30:07.798423",
     "status": "completed"
    },
    "tags": []
   },
   "outputs": [],
   "source": [
    "df_pivot = df.pivot_table(index=\"PRODUCT\", columns = \"RECORD_TIME\", values = \"LISTING_COUNT\")"
   ]
  },
  {
   "cell_type": "code",
   "execution_count": 6,
   "id": "union-huntington",
   "metadata": {
    "execution": {
     "iopub.execute_input": "2021-08-15T05:30:07.922508Z",
     "iopub.status.busy": "2021-08-15T05:30:07.920366Z",
     "iopub.status.idle": "2021-08-15T05:30:07.925467Z",
     "shell.execute_reply": "2021-08-15T05:30:07.926804Z"
    },
    "papermill": {
     "duration": 0.039783,
     "end_time": "2021-08-15T05:30:07.927227",
     "exception": false,
     "start_time": "2021-08-15T05:30:07.887444",
     "status": "completed"
    },
    "tags": []
   },
   "outputs": [],
   "source": [
    "df_pivot.columns = [\"stamp_1\", \"stamp_2\"]\n",
    "df_pivot_diff = df_pivot.diff(axis=1)"
   ]
  },
  {
   "cell_type": "code",
   "execution_count": 7,
   "id": "fifth-motion",
   "metadata": {
    "execution": {
     "iopub.execute_input": "2021-08-15T05:30:07.982023Z",
     "iopub.status.busy": "2021-08-15T05:30:07.979578Z",
     "iopub.status.idle": "2021-08-15T05:30:09.487012Z",
     "shell.execute_reply": "2021-08-15T05:30:09.488383Z"
    },
    "papermill": {
     "duration": 1.540512,
     "end_time": "2021-08-15T05:30:09.488828",
     "exception": false,
     "start_time": "2021-08-15T05:30:07.948316",
     "status": "completed"
    },
    "tags": []
   },
   "outputs": [
    {
     "data": {
      "text/plain": [
       "<AxesSubplot:ylabel='PRODUCT'>"
      ]
     },
     "execution_count": 7,
     "metadata": {},
     "output_type": "execute_result"
    },
    {
     "data": {
      "image/png": "[encoded data removed]",
      "text/plain": [
       "<Figure size 432x288 with 1 Axes>"
      ]
     },
     "metadata": {
      "needs_background": "light"
     },
     "output_type": "display_data"
    }
   ],
   "source": [
    "df_pivot_diff.sort_values(\"stamp_2\", ascending = False)[\"stamp_2\"].head(10).plot.barh()"
   ]
  },
  {
   "cell_type": "code",
   "execution_count": null,
   "id": "extra-executive",
   "metadata": {
    "papermill": {
     "duration": 0.021932,
     "end_time": "2021-08-15T05:30:09.534968",
     "exception": false,
     "start_time": "2021-08-15T05:30:09.513036",
     "status": "completed"
    },
    "tags": []
   },
   "outputs": [],
   "source": []
  }
 ],
 "metadata": {
  "kernelspec": {
   "display_name": "Python 3",
   "language": "python",
   "name": "python3"
  },
  "language_info": {
   "codemirror_mode": {
    "name": "ipython",
    "version": 3
   },
   "file_extension": ".py",
   "mimetype": "text/x-python",
   "name": "python",
   "nbconvert_exporter": "python",
   "pygments_lexer": "ipython3",
   "version": "3.9.5"
  },
  "papermill": {
   "default_parameters": {},
   "duration": 6.831581,
   "end_time": "2021-08-15T05:30:10.998839",
   "environment_variables": {},
   "exception": null,
   "input_path": "eBay_Overview.ipynb",
   "output_path": "eBay_Overview.ipynb",
   "parameters": {},
   "start_time": "2021-08-15T05:30:04.167258",
   "version": "2.3.3"
  }
 },
 "nbformat": 4,
 "nbformat_minor": 5
}