{
 "cells": [
  {
   "cell_type": "code",
   "execution_count": 1,
   "id": "reverse-picking",
   "metadata": {
    "execution": {
     "iopub.execute_input": "2021-11-17T22:00:07.995335Z",
     "iopub.status.busy": "2021-11-17T22:00:07.984242Z",
     "iopub.status.idle": "2021-11-17T22:00:08.927815Z",
     "shell.execute_reply": "2021-11-17T22:00:08.929401Z"
    },
    "papermill": {
     "duration": 1.007463,
     "end_time": "2021-11-17T22:00:08.930113",
     "exception": false,
     "start_time": "2021-11-17T22:00:07.922650",
     "status": "completed"
    },
    "tags": []
   },
   "outputs": [],
   "source": [
    "import pandas as pd\n",
    "import sqlite3"
   ]
  },
  {
   "cell_type": "code",
   "execution_count": 2,
   "id": "innovative-syndrome",
   "metadata": {
    "execution": {
     "iopub.execute_input": "2021-11-17T22:00:08.987384Z",
     "iopub.status.busy": "2021-11-17T22:00:08.985128Z",
     "iopub.status.idle": "2021-11-17T22:00:09.836026Z",
     "shell.execute_reply": "2021-11-17T22:00:09.837434Z"
    },
    "papermill": {
     "duration": 0.886586,
     "end_time": "2021-11-17T22:00:09.837925",
     "exception": false,
     "start_time": "2021-11-17T22:00:08.951339",
     "status": "completed"
    },
    "tags": []
   },
   "outputs": [],
   "source": [
    "timestamps = pd.read_sql(\"select distinct record_time from EBAY_TOP_BERLIN order by record_time desc limit 2\", sqlite3.connect(\"UsedObjects.db\"))"
   ]
  },
  {
   "cell_type": "code",
   "execution_count": 3,
   "id": "periodic-identification",
   "metadata": {
    "execution": {
     "iopub.execute_input": "2021-11-17T22:00:09.909452Z",
     "iopub.status.busy": "2021-11-17T22:00:09.907047Z",
     "iopub.status.idle": "2021-11-17T22:00:09.931233Z",
     "shell.execute_reply": "2021-11-17T22:00:09.932640Z"
    },
    "papermill": {
     "duration": 0.074698,
     "end_time": "2021-11-17T22:00:09.933224",
     "exception": false,
     "start_time": "2021-11-17T22:00:09.858526",
     "status": "completed"
    },
    "tags": []
   },
   "outputs": [
    {
     "data": {
      "text/html": [
       "<div>\n",
       "<style scoped>\n",
       "    .dataframe tbody tr th:only-of-type {\n",
       "        vertical-align: middle;\n",
       "    }\n",
       "\n",
       "    .dataframe tbody tr th {\n",
       "        vertical-align: top;\n",
       "    }\n",
       "\n",
       "    .dataframe thead th {\n",
       "        text-align: right;\n",
       "    }\n",
       "</style>\n",
       "<table border=\"1\" class=\"dataframe\">\n",
       "  <thead>\n",
       "    <tr style=\"text-align: right;\">\n",
       "      <th></th>\n",
       "      <th>RECORD_TIME</th>\n",
       "    </tr>\n",
       "  </thead>\n",
       "  <tbody>\n",
       "    <tr>\n",
       "      <th>0</th>\n",
       "      <td>2021-11-17 23:00</td>\n",
       "    </tr>\n",
       "    <tr>\n",
       "      <th>1</th>\n",
       "      <td>2021-11-17 22:30</td>\n",
       "    </tr>\n",
       "  </tbody>\n",
       "</table>\n",
       "</div>"
      ],
      "text/plain": [
       "        RECORD_TIME\n",
       "0  2021-11-17 23:00\n",
       "1  2021-11-17 22:30"
      ]
     },
     "execution_count": 3,
     "metadata": {},
     "output_type": "execute_result"
    }
   ],
   "source": [
    "timestamps"
   ]
  },
  {
   "cell_type": "code",
   "execution_count": 4,
   "id": "alternate-victory",
   "metadata": {
    "execution": {
     "iopub.execute_input": "2021-11-17T22:00:09.988285Z",
     "iopub.status.busy": "2021-11-17T22:00:09.986143Z",
     "iopub.status.idle": "2021-11-17T22:00:11.193803Z",
     "shell.execute_reply": "2021-11-17T22:00:11.195020Z"
    },
    "papermill": {
     "duration": 1.240562,
     "end_time": "2021-11-17T22:00:11.195425",
     "exception": false,
     "start_time": "2021-11-17T22:00:09.954863",
     "status": "completed"
    },
    "tags": []
   },
   "outputs": [],
   "source": [
    "df = pd.read_sql(\"select * from EBAY_TOP_BERLIN where record_time in (select distinct record_time from EBAY_TOP_BERLIN order by record_time desc limit 2)\", sqlite3.connect(\"UsedObjects.db\"))"
   ]
  },
  {
   "cell_type": "code",
   "execution_count": 5,
   "id": "popular-active",
   "metadata": {
    "execution": {
     "iopub.execute_input": "2021-11-17T22:00:11.270188Z",
     "iopub.status.busy": "2021-11-17T22:00:11.258061Z",
     "iopub.status.idle": "2021-11-17T22:00:11.287147Z",
     "shell.execute_reply": "2021-11-17T22:00:11.285852Z"
    },
    "papermill": {
     "duration": 0.068345,
     "end_time": "2021-11-17T22:00:11.287488",
     "exception": false,
     "start_time": "2021-11-17T22:00:11.219143",
     "status": "completed"
    },
    "tags": []
   },
   "outputs": [],
   "source": [
    "df_pivot = df.pivot_table(index=\"PRODUCT\", columns = \"RECORD_TIME\", values = \"LISTING_COUNT\")"
   ]
  },
  {
   "cell_type": "code",
   "execution_count": 6,
   "id": "union-huntington",
   "metadata": {
    "execution": {
     "iopub.execute_input": "2021-11-17T22:00:11.348043Z",
     "iopub.status.busy": "2021-11-17T22:00:11.345648Z",
     "iopub.status.idle": "2021-11-17T22:00:11.351612Z",
     "shell.execute_reply": "2021-11-17T22:00:11.353014Z"
    },
    "papermill": {
     "duration": 0.04266,
     "end_time": "2021-11-17T22:00:11.353471",
     "exception": false,
     "start_time": "2021-11-17T22:00:11.310811",
     "status": "completed"
    },
    "tags": []
   },
   "outputs": [],
   "source": [
    "df_pivot.columns = [\"stamp_1\", \"stamp_2\"]\n",
    "df_pivot_diff = df_pivot.diff(axis=1)"
   ]
  },
  {
   "cell_type": "code",
   "execution_count": 7,
   "id": "fifth-motion",
   "metadata": {
    "execution": {
     "iopub.execute_input": "2021-11-17T22:00:11.412555Z",
     "iopub.status.busy": "2021-11-17T22:00:11.408447Z",
     "iopub.status.idle": "2021-11-17T22:00:13.212381Z",
     "shell.execute_reply": "2021-11-17T22:00:13.214171Z"
    },
    "papermill": {
     "duration": 1.839527,
     "end_time": "2021-11-17T22:00:13.214695",
     "exception": false,
     "start_time": "2021-11-17T22:00:11.375168",
     "status": "completed"
    },
    "tags": []
   },
   "outputs": [
    {
     "data": {
      "text/plain": [
       "<AxesSubplot:ylabel='PRODUCT'>"
      ]
     },
     "execution_count": 7,
     "metadata": {},
     "output_type": "execute_result"
    },
    {
     "data": {
      "image/png": "[encoded data removed]",
      "text/plain": [
       "<Figure size 432x288 with 1 Axes>"
      ]
     },
     "metadata": {
      "needs_background": "light"
     },
     "output_type": "display_data"
    }
   ],
   "source": [
    "df_pivot_diff.sort_values(\"stamp_2\", ascending = False)[\"stamp_2\"].head(10).plot.barh()"
   ]
  },
  {
   "cell_type": "code",
   "execution_count": null,
   "id": "extra-executive",
   "metadata": {
    "papermill": {
     "duration": 0.02376,
     "end_time": "2021-11-17T22:00:13.266868",
     "exception": false,
     "start_time": "2021-11-17T22:00:13.243108",
     "status": "completed"
    },
    "tags": []
   },
   "outputs": [],
   "source": []
  }
 ],
 "metadata": {
  "kernelspec": {
   "display_name": "Python 3",
   "language": "python",
   "name": "python3"
  },
  "language_info": {
   "codemirror_mode": {
    "name": "ipython",
    "version": 3
   },
   "file_extension": ".py",
   "mimetype": "text/x-python",
   "name": "python",
   "nbconvert_exporter": "python",
   "pygments_lexer": "ipython3",
   "version": "3.9.5"
  },
  "papermill": {
   "default_parameters": {},
   "duration": 8.832067,
   "end_time": "2021-11-17T22:00:14.011746",
   "environment_variables": {},
   "exception": null,
   "input_path": "eBay_Overview.ipynb",
   "output_path": "eBay_Overview.ipynb",
   "parameters": {},
   "start_time": "2021-11-17T22:00:05.179679",
   "version": "2.3.3"
  }
 },
 "nbformat": 4,
 "nbformat_minor": 5
}