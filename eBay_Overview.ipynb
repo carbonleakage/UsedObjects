{
 "cells": [
  {
   "cell_type": "code",
   "execution_count": 1,
   "id": "reverse-picking",
   "metadata": {
    "execution": {
     "iopub.execute_input": "2021-10-18T05:30:06.813528Z",
     "iopub.status.busy": "2021-10-18T05:30:06.811326Z",
     "iopub.status.idle": "2021-10-18T05:30:07.621018Z",
     "shell.execute_reply": "2021-10-18T05:30:07.622309Z"
    },
    "papermill": {
     "duration": 0.862269,
     "end_time": "2021-10-18T05:30:07.622920",
     "exception": false,
     "start_time": "2021-10-18T05:30:06.760651",
     "status": "completed"
    },
    "tags": []
   },
   "outputs": [],
   "source": [
    "import pandas as pd\n",
    "import sqlite3"
   ]
  },
  {
   "cell_type": "code",
   "execution_count": 2,
   "id": "innovative-syndrome",
   "metadata": {
    "execution": {
     "iopub.execute_input": "2021-10-18T05:30:07.677416Z",
     "iopub.status.busy": "2021-10-18T05:30:07.674953Z",
     "iopub.status.idle": "2021-10-18T05:30:08.232854Z",
     "shell.execute_reply": "2021-10-18T05:30:08.234100Z"
    },
    "papermill": {
     "duration": 0.588151,
     "end_time": "2021-10-18T05:30:08.234495",
     "exception": false,
     "start_time": "2021-10-18T05:30:07.646344",
     "status": "completed"
    },
    "tags": []
   },
   "outputs": [],
   "source": [
    "timestamps = pd.read_sql(\"select distinct record_time from EBAY_TOP_BERLIN order by record_time desc limit 2\", sqlite3.connect(\"UsedObjects.db\"))"
   ]
  },
  {
   "cell_type": "code",
   "execution_count": 3,
   "id": "periodic-identification",
   "metadata": {
    "execution": {
     "iopub.execute_input": "2021-10-18T05:30:08.314354Z",
     "iopub.status.busy": "2021-10-18T05:30:08.308919Z",
     "iopub.status.idle": "2021-10-18T05:30:08.328937Z",
     "shell.execute_reply": "2021-10-18T05:30:08.330350Z"
    },
    "papermill": {
     "duration": 0.067866,
     "end_time": "2021-10-18T05:30:08.330820",
     "exception": false,
     "start_time": "2021-10-18T05:30:08.262954",
     "status": "completed"
    },
    "tags": []
   },
   "outputs": [
    {
     "data": {
      "text/html": [
       "<div>\n",
       "<style scoped>\n",
       "    .dataframe tbody tr th:only-of-type {\n",
       "        vertical-align: middle;\n",
       "    }\n",
       "\n",
       "    .dataframe tbody tr th {\n",
       "        vertical-align: top;\n",
       "    }\n",
       "\n",
       "    .dataframe thead th {\n",
       "        text-align: right;\n",
       "    }\n",
       "</style>\n",
       "<table border=\"1\" class=\"dataframe\">\n",
       "  <thead>\n",
       "    <tr style=\"text-align: right;\">\n",
       "      <th></th>\n",
       "      <th>RECORD_TIME</th>\n",
       "    </tr>\n",
       "  </thead>\n",
       "  <tbody>\n",
       "    <tr>\n",
       "      <th>0</th>\n",
       "      <td>2021-10-18 07:30</td>\n",
       "    </tr>\n",
       "    <tr>\n",
       "      <th>1</th>\n",
       "      <td>2021-10-18 07:00</td>\n",
       "    </tr>\n",
       "  </tbody>\n",
       "</table>\n",
       "</div>"
      ],
      "text/plain": [
       "        RECORD_TIME\n",
       "0  2021-10-18 07:30\n",
       "1  2021-10-18 07:00"
      ]
     },
     "execution_count": 3,
     "metadata": {},
     "output_type": "execute_result"
    }
   ],
   "source": [
    "timestamps"
   ]
  },
  {
   "cell_type": "code",
   "execution_count": 4,
   "id": "alternate-victory",
   "metadata": {
    "execution": {
     "iopub.execute_input": "2021-10-18T05:30:08.412142Z",
     "iopub.status.busy": "2021-10-18T05:30:08.410117Z",
     "iopub.status.idle": "2021-10-18T05:30:09.236979Z",
     "shell.execute_reply": "2021-10-18T05:30:09.238291Z"
    },
    "papermill": {
     "duration": 0.864575,
     "end_time": "2021-10-18T05:30:09.238700",
     "exception": false,
     "start_time": "2021-10-18T05:30:08.374125",
     "status": "completed"
    },
    "tags": []
   },
   "outputs": [],
   "source": [
    "df = pd.read_sql(\"select * from EBAY_TOP_BERLIN where record_time in (select distinct record_time from EBAY_TOP_BERLIN order by record_time desc limit 2)\", sqlite3.connect(\"UsedObjects.db\"))"
   ]
  },
  {
   "cell_type": "code",
   "execution_count": 5,
   "id": "popular-active",
   "metadata": {
    "execution": {
     "iopub.execute_input": "2021-10-18T05:30:09.310367Z",
     "iopub.status.busy": "2021-10-18T05:30:09.298537Z",
     "iopub.status.idle": "2021-10-18T05:30:09.327929Z",
     "shell.execute_reply": "2021-10-18T05:30:09.329351Z"
    },
    "papermill": {
     "duration": 0.068343,
     "end_time": "2021-10-18T05:30:09.329770",
     "exception": false,
     "start_time": "2021-10-18T05:30:09.261427",
     "status": "completed"
    },
    "tags": []
   },
   "outputs": [],
   "source": [
    "df_pivot = df.pivot_table(index=\"PRODUCT\", columns = \"RECORD_TIME\", values = \"LISTING_COUNT\")"
   ]
  },
  {
   "cell_type": "code",
   "execution_count": 6,
   "id": "union-huntington",
   "metadata": {
    "execution": {
     "iopub.execute_input": "2021-10-18T05:30:09.386153Z",
     "iopub.status.busy": "2021-10-18T05:30:09.384018Z",
     "iopub.status.idle": "2021-10-18T05:30:09.389458Z",
     "shell.execute_reply": "2021-10-18T05:30:09.390667Z"
    },
    "papermill": {
     "duration": 0.041029,
     "end_time": "2021-10-18T05:30:09.391093",
     "exception": false,
     "start_time": "2021-10-18T05:30:09.350064",
     "status": "completed"
    },
    "tags": []
   },
   "outputs": [],
   "source": [
    "df_pivot.columns = [\"stamp_1\", \"stamp_2\"]\n",
    "df_pivot_diff = df_pivot.diff(axis=1)"
   ]
  },
  {
   "cell_type": "code",
   "execution_count": 7,
   "id": "fifth-motion",
   "metadata": {
    "execution": {
     "iopub.execute_input": "2021-10-18T05:30:09.445620Z",
     "iopub.status.busy": "2021-10-18T05:30:09.443053Z",
     "iopub.status.idle": "2021-10-18T05:30:10.933721Z",
     "shell.execute_reply": "2021-10-18T05:30:10.935020Z"
    },
    "papermill": {
     "duration": 1.525844,
     "end_time": "2021-10-18T05:30:10.937421",
     "exception": false,
     "start_time": "2021-10-18T05:30:09.411577",
     "status": "completed"
    },
    "tags": []
   },
   "outputs": [
    {
     "data": {
      "text/plain": [
       "<AxesSubplot:ylabel='PRODUCT'>"
      ]
     },
     "execution_count": 7,
     "metadata": {},
     "output_type": "execute_result"
    },
    {
     "data": {
      "image/png": "[encoded data removed]",
      "text/plain": [
       "<Figure size 432x288 with 1 Axes>"
      ]
     },
     "metadata": {
      "needs_background": "light"
     },
     "output_type": "display_data"
    }
   ],
   "source": [
    "df_pivot_diff.sort_values(\"stamp_2\", ascending = False)[\"stamp_2\"].head(10).plot.barh()"
   ]
  },
  {
   "cell_type": "code",
   "execution_count": null,
   "id": "extra-executive",
   "metadata": {
    "papermill": {
     "duration": 0.022155,
     "end_time": "2021-10-18T05:30:10.985859",
     "exception": false,
     "start_time": "2021-10-18T05:30:10.963704",
     "status": "completed"
    },
    "tags": []
   },
   "outputs": [],
   "source": []
  }
 ],
 "metadata": {
  "kernelspec": {
   "display_name": "Python 3",
   "language": "python",
   "name": "python3"
  },
  "language_info": {
   "codemirror_mode": {
    "name": "ipython",
    "version": 3
   },
   "file_extension": ".py",
   "mimetype": "text/x-python",
   "name": "python",
   "nbconvert_exporter": "python",
   "pygments_lexer": "ipython3",
   "version": "3.9.5"
  },
  "papermill": {
   "default_parameters": {},
   "duration": 7.822023,
   "end_time": "2021-10-18T05:30:12.175037",
   "environment_variables": {},
   "exception": null,
   "input_path": "eBay_Overview.ipynb",
   "output_path": "eBay_Overview.ipynb",
   "parameters": {},
   "start_time": "2021-10-18T05:30:04.353014",
   "version": "2.3.3"
  }
 },
 "nbformat": 4,
 "nbformat_minor": 5
}