{
 "cells": [
  {
   "cell_type": "code",
   "execution_count": 1,
   "id": "reverse-picking",
   "metadata": {
    "execution": {
     "iopub.execute_input": "2021-11-19T21:00:08.559018Z",
     "iopub.status.busy": "2021-11-19T21:00:08.556471Z",
     "iopub.status.idle": "2021-11-19T21:00:09.533226Z",
     "shell.execute_reply": "2021-11-19T21:00:09.530625Z"
    },
    "papermill": {
     "duration": 1.024395,
     "end_time": "2021-11-19T21:00:09.533758",
     "exception": false,
     "start_time": "2021-11-19T21:00:08.509363",
     "status": "completed"
    },
    "tags": []
   },
   "outputs": [],
   "source": [
    "import pandas as pd\n",
    "import sqlite3"
   ]
  },
  {
   "cell_type": "code",
   "execution_count": 2,
   "id": "innovative-syndrome",
   "metadata": {
    "execution": {
     "iopub.execute_input": "2021-11-19T21:00:09.600901Z",
     "iopub.status.busy": "2021-11-19T21:00:09.598567Z",
     "iopub.status.idle": "2021-11-19T21:00:10.463884Z",
     "shell.execute_reply": "2021-11-19T21:00:10.465327Z"
    },
    "papermill": {
     "duration": 0.899146,
     "end_time": "2021-11-19T21:00:10.465793",
     "exception": false,
     "start_time": "2021-11-19T21:00:09.566647",
     "status": "completed"
    },
    "tags": []
   },
   "outputs": [],
   "source": [
    "timestamps = pd.read_sql(\"select distinct record_time from EBAY_TOP_BERLIN order by record_time desc limit 2\", sqlite3.connect(\"UsedObjects.db\"))"
   ]
  },
  {
   "cell_type": "code",
   "execution_count": 3,
   "id": "periodic-identification",
   "metadata": {
    "execution": {
     "iopub.execute_input": "2021-11-19T21:00:10.530544Z",
     "iopub.status.busy": "2021-11-19T21:00:10.528446Z",
     "iopub.status.idle": "2021-11-19T21:00:10.550729Z",
     "shell.execute_reply": "2021-11-19T21:00:10.551936Z"
    },
    "papermill": {
     "duration": 0.066756,
     "end_time": "2021-11-19T21:00:10.552331",
     "exception": false,
     "start_time": "2021-11-19T21:00:10.485575",
     "status": "completed"
    },
    "tags": []
   },
   "outputs": [
    {
     "data": {
      "text/html": [
       "<div>\n",
       "<style scoped>\n",
       "    .dataframe tbody tr th:only-of-type {\n",
       "        vertical-align: middle;\n",
       "    }\n",
       "\n",
       "    .dataframe tbody tr th {\n",
       "        vertical-align: top;\n",
       "    }\n",
       "\n",
       "    .dataframe thead th {\n",
       "        text-align: right;\n",
       "    }\n",
       "</style>\n",
       "<table border=\"1\" class=\"dataframe\">\n",
       "  <thead>\n",
       "    <tr style=\"text-align: right;\">\n",
       "      <th></th>\n",
       "      <th>RECORD_TIME</th>\n",
       "    </tr>\n",
       "  </thead>\n",
       "  <tbody>\n",
       "    <tr>\n",
       "      <th>0</th>\n",
       "      <td>2021-11-19 22:00</td>\n",
       "    </tr>\n",
       "    <tr>\n",
       "      <th>1</th>\n",
       "      <td>2021-11-19 21:30</td>\n",
       "    </tr>\n",
       "  </tbody>\n",
       "</table>\n",
       "</div>"
      ],
      "text/plain": [
       "        RECORD_TIME\n",
       "0  2021-11-19 22:00\n",
       "1  2021-11-19 21:30"
      ]
     },
     "execution_count": 3,
     "metadata": {},
     "output_type": "execute_result"
    }
   ],
   "source": [
    "timestamps"
   ]
  },
  {
   "cell_type": "code",
   "execution_count": 4,
   "id": "alternate-victory",
   "metadata": {
    "execution": {
     "iopub.execute_input": "2021-11-19T21:00:10.606328Z",
     "iopub.status.busy": "2021-11-19T21:00:10.603908Z",
     "iopub.status.idle": "2021-11-19T21:00:11.894076Z",
     "shell.execute_reply": "2021-11-19T21:00:11.895532Z"
    },
    "papermill": {
     "duration": 1.32081,
     "end_time": "2021-11-19T21:00:11.896001",
     "exception": false,
     "start_time": "2021-11-19T21:00:10.575191",
     "status": "completed"
    },
    "tags": []
   },
   "outputs": [],
   "source": [
    "df = pd.read_sql(\"select * from EBAY_TOP_BERLIN where record_time in (select distinct record_time from EBAY_TOP_BERLIN order by record_time desc limit 2)\", sqlite3.connect(\"UsedObjects.db\"))"
   ]
  },
  {
   "cell_type": "code",
   "execution_count": 5,
   "id": "popular-active",
   "metadata": {
    "execution": {
     "iopub.execute_input": "2021-11-19T21:00:11.961659Z",
     "iopub.status.busy": "2021-11-19T21:00:11.959243Z",
     "iopub.status.idle": "2021-11-19T21:00:11.996042Z",
     "shell.execute_reply": "2021-11-19T21:00:11.994272Z"
    },
    "papermill": {
     "duration": 0.079725,
     "end_time": "2021-11-19T21:00:11.996470",
     "exception": false,
     "start_time": "2021-11-19T21:00:11.916745",
     "status": "completed"
    },
    "tags": []
   },
   "outputs": [],
   "source": [
    "df_pivot = df.pivot_table(index=\"PRODUCT\", columns = \"RECORD_TIME\", values = \"LISTING_COUNT\")"
   ]
  },
  {
   "cell_type": "code",
   "execution_count": 6,
   "id": "union-huntington",
   "metadata": {
    "execution": {
     "iopub.execute_input": "2021-11-19T21:00:12.059750Z",
     "iopub.status.busy": "2021-11-19T21:00:12.057142Z",
     "iopub.status.idle": "2021-11-19T21:00:12.067767Z",
     "shell.execute_reply": "2021-11-19T21:00:12.069299Z"
    },
    "papermill": {
     "duration": 0.051273,
     "end_time": "2021-11-19T21:00:12.069779",
     "exception": false,
     "start_time": "2021-11-19T21:00:12.018506",
     "status": "completed"
    },
    "tags": []
   },
   "outputs": [],
   "source": [
    "df_pivot.columns = [\"stamp_1\", \"stamp_2\"]\n",
    "df_pivot_diff = df_pivot.diff(axis=1)"
   ]
  },
  {
   "cell_type": "code",
   "execution_count": 7,
   "id": "fifth-motion",
   "metadata": {
    "execution": {
     "iopub.execute_input": "2021-11-19T21:00:12.128073Z",
     "iopub.status.busy": "2021-11-19T21:00:12.125642Z",
     "iopub.status.idle": "2021-11-19T21:00:14.209939Z",
     "shell.execute_reply": "2021-11-19T21:00:14.211693Z"
    },
    "papermill": {
     "duration": 2.120717,
     "end_time": "2021-11-19T21:00:14.212241",
     "exception": false,
     "start_time": "2021-11-19T21:00:12.091524",
     "status": "completed"
    },
    "tags": []
   },
   "outputs": [
    {
     "data": {
      "text/plain": [
       "<AxesSubplot:ylabel='PRODUCT'>"
      ]
     },
     "execution_count": 7,
     "metadata": {},
     "output_type": "execute_result"
    },
    {
     "data": {
      "image/png": "[encoded data removed]",
      "text/plain": [
       "<Figure size 432x288 with 1 Axes>"
      ]
     },
     "metadata": {
      "needs_background": "light"
     },
     "output_type": "display_data"
    }
   ],
   "source": [
    "df_pivot_diff.sort_values(\"stamp_2\", ascending = False)[\"stamp_2\"].head(10).plot.barh()"
   ]
  },
  {
   "cell_type": "code",
   "execution_count": null,
   "id": "extra-executive",
   "metadata": {
    "papermill": {
     "duration": 0.024892,
     "end_time": "2021-11-19T21:00:14.263250",
     "exception": false,
     "start_time": "2021-11-19T21:00:14.238358",
     "status": "completed"
    },
    "tags": []
   },
   "outputs": [],
   "source": []
  }
 ],
 "metadata": {
  "kernelspec": {
   "display_name": "Python 3",
   "language": "python",
   "name": "python3"
  },
  "language_info": {
   "codemirror_mode": {
    "name": "ipython",
    "version": 3
   },
   "file_extension": ".py",
   "mimetype": "text/x-python",
   "name": "python",
   "nbconvert_exporter": "python",
   "pygments_lexer": "ipython3",
   "version": "3.9.5"
  },
  "papermill": {
   "default_parameters": {},
   "duration": 9.931712,
   "end_time": "2021-11-19T21:00:15.701008",
   "environment_variables": {},
   "exception": null,
   "input_path": "eBay_Overview.ipynb",
   "output_path": "eBay_Overview.ipynb",
   "parameters": {},
   "start_time": "2021-11-19T21:00:05.769296",
   "version": "2.3.3"
  }
 },
 "nbformat": 4,
 "nbformat_minor": 5
}