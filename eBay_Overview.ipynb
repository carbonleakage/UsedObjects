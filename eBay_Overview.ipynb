{
 "cells": [
  {
   "cell_type": "code",
   "execution_count": 1,
   "id": "reverse-picking",
   "metadata": {
    "execution": {
     "iopub.execute_input": "2021-10-13T22:30:06.658435Z",
     "iopub.status.busy": "2021-10-13T22:30:06.656428Z",
     "iopub.status.idle": "2021-10-13T22:30:07.455542Z",
     "shell.execute_reply": "2021-10-13T22:30:07.456995Z"
    },
    "papermill": {
     "duration": 0.851838,
     "end_time": "2021-10-13T22:30:07.457641",
     "exception": false,
     "start_time": "2021-10-13T22:30:06.605803",
     "status": "completed"
    },
    "tags": []
   },
   "outputs": [],
   "source": [
    "import pandas as pd\n",
    "import sqlite3"
   ]
  },
  {
   "cell_type": "code",
   "execution_count": 2,
   "id": "innovative-syndrome",
   "metadata": {
    "execution": {
     "iopub.execute_input": "2021-10-13T22:30:07.510727Z",
     "iopub.status.busy": "2021-10-13T22:30:07.508304Z",
     "iopub.status.idle": "2021-10-13T22:30:08.035953Z",
     "shell.execute_reply": "2021-10-13T22:30:08.037449Z"
    },
    "papermill": {
     "duration": 0.557989,
     "end_time": "2021-10-13T22:30:08.037912",
     "exception": false,
     "start_time": "2021-10-13T22:30:07.479923",
     "status": "completed"
    },
    "tags": []
   },
   "outputs": [],
   "source": [
    "timestamps = pd.read_sql(\"select distinct record_time from EBAY_TOP_BERLIN order by record_time desc limit 2\", sqlite3.connect(\"UsedObjects.db\"))"
   ]
  },
  {
   "cell_type": "code",
   "execution_count": 3,
   "id": "periodic-identification",
   "metadata": {
    "execution": {
     "iopub.execute_input": "2021-10-13T22:30:08.102753Z",
     "iopub.status.busy": "2021-10-13T22:30:08.100663Z",
     "iopub.status.idle": "2021-10-13T22:30:08.120411Z",
     "shell.execute_reply": "2021-10-13T22:30:08.121846Z"
    },
    "papermill": {
     "duration": 0.064585,
     "end_time": "2021-10-13T22:30:08.122283",
     "exception": false,
     "start_time": "2021-10-13T22:30:08.057698",
     "status": "completed"
    },
    "tags": []
   },
   "outputs": [
    {
     "data": {
      "text/html": [
       "<div>\n",
       "<style scoped>\n",
       "    .dataframe tbody tr th:only-of-type {\n",
       "        vertical-align: middle;\n",
       "    }\n",
       "\n",
       "    .dataframe tbody tr th {\n",
       "        vertical-align: top;\n",
       "    }\n",
       "\n",
       "    .dataframe thead th {\n",
       "        text-align: right;\n",
       "    }\n",
       "</style>\n",
       "<table border=\"1\" class=\"dataframe\">\n",
       "  <thead>\n",
       "    <tr style=\"text-align: right;\">\n",
       "      <th></th>\n",
       "      <th>RECORD_TIME</th>\n",
       "    </tr>\n",
       "  </thead>\n",
       "  <tbody>\n",
       "    <tr>\n",
       "      <th>0</th>\n",
       "      <td>2021-10-14 00:30</td>\n",
       "    </tr>\n",
       "    <tr>\n",
       "      <th>1</th>\n",
       "      <td>2021-10-14 00:00</td>\n",
       "    </tr>\n",
       "  </tbody>\n",
       "</table>\n",
       "</div>"
      ],
      "text/plain": [
       "        RECORD_TIME\n",
       "0  2021-10-14 00:30\n",
       "1  2021-10-14 00:00"
      ]
     },
     "execution_count": 3,
     "metadata": {},
     "output_type": "execute_result"
    }
   ],
   "source": [
    "timestamps"
   ]
  },
  {
   "cell_type": "code",
   "execution_count": 4,
   "id": "alternate-victory",
   "metadata": {
    "execution": {
     "iopub.execute_input": "2021-10-13T22:30:08.187368Z",
     "iopub.status.busy": "2021-10-13T22:30:08.185519Z",
     "iopub.status.idle": "2021-10-13T22:30:08.971163Z",
     "shell.execute_reply": "2021-10-13T22:30:08.969641Z"
    },
    "papermill": {
     "duration": 0.819102,
     "end_time": "2021-10-13T22:30:08.971542",
     "exception": false,
     "start_time": "2021-10-13T22:30:08.152440",
     "status": "completed"
    },
    "tags": []
   },
   "outputs": [],
   "source": [
    "df = pd.read_sql(\"select * from EBAY_TOP_BERLIN where record_time in (select distinct record_time from EBAY_TOP_BERLIN order by record_time desc limit 2)\", sqlite3.connect(\"UsedObjects.db\"))"
   ]
  },
  {
   "cell_type": "code",
   "execution_count": 5,
   "id": "popular-active",
   "metadata": {
    "execution": {
     "iopub.execute_input": "2021-10-13T22:30:09.032789Z",
     "iopub.status.busy": "2021-10-13T22:30:09.030663Z",
     "iopub.status.idle": "2021-10-13T22:30:09.056660Z",
     "shell.execute_reply": "2021-10-13T22:30:09.057969Z"
    },
    "papermill": {
     "duration": 0.066,
     "end_time": "2021-10-13T22:30:09.058370",
     "exception": false,
     "start_time": "2021-10-13T22:30:08.992370",
     "status": "completed"
    },
    "tags": []
   },
   "outputs": [],
   "source": [
    "df_pivot = df.pivot_table(index=\"PRODUCT\", columns = \"RECORD_TIME\", values = \"LISTING_COUNT\")"
   ]
  },
  {
   "cell_type": "code",
   "execution_count": 6,
   "id": "union-huntington",
   "metadata": {
    "execution": {
     "iopub.execute_input": "2021-10-13T22:30:09.118581Z",
     "iopub.status.busy": "2021-10-13T22:30:09.116068Z",
     "iopub.status.idle": "2021-10-13T22:30:09.123313Z",
     "shell.execute_reply": "2021-10-13T22:30:09.121924Z"
    },
    "papermill": {
     "duration": 0.042089,
     "end_time": "2021-10-13T22:30:09.123671",
     "exception": false,
     "start_time": "2021-10-13T22:30:09.081582",
     "status": "completed"
    },
    "tags": []
   },
   "outputs": [],
   "source": [
    "df_pivot.columns = [\"stamp_1\", \"stamp_2\"]\n",
    "df_pivot_diff = df_pivot.diff(axis=1)"
   ]
  },
  {
   "cell_type": "code",
   "execution_count": 7,
   "id": "fifth-motion",
   "metadata": {
    "execution": {
     "iopub.execute_input": "2021-10-13T22:30:09.177506Z",
     "iopub.status.busy": "2021-10-13T22:30:09.175203Z",
     "iopub.status.idle": "2021-10-13T22:30:10.656533Z",
     "shell.execute_reply": "2021-10-13T22:30:10.657913Z"
    },
    "papermill": {
     "duration": 1.513986,
     "end_time": "2021-10-13T22:30:10.658338",
     "exception": false,
     "start_time": "2021-10-13T22:30:09.144352",
     "status": "completed"
    },
    "tags": []
   },
   "outputs": [
    {
     "data": {
      "text/plain": [
       "<AxesSubplot:ylabel='PRODUCT'>"
      ]
     },
     "execution_count": 7,
     "metadata": {},
     "output_type": "execute_result"
    },
    {
     "data": {
      "image/png": "[encoded data removed]",
      "text/plain": [
       "<Figure size 432x288 with 1 Axes>"
      ]
     },
     "metadata": {
      "needs_background": "light"
     },
     "output_type": "display_data"
    }
   ],
   "source": [
    "df_pivot_diff.sort_values(\"stamp_2\", ascending = False)[\"stamp_2\"].head(10).plot.barh()"
   ]
  },
  {
   "cell_type": "code",
   "execution_count": null,
   "id": "extra-executive",
   "metadata": {
    "papermill": {
     "duration": 0.022165,
     "end_time": "2021-10-13T22:30:10.704270",
     "exception": false,
     "start_time": "2021-10-13T22:30:10.682105",
     "status": "completed"
    },
    "tags": []
   },
   "outputs": [],
   "source": []
  }
 ],
 "metadata": {
  "kernelspec": {
   "display_name": "Python 3",
   "language": "python",
   "name": "python3"
  },
  "language_info": {
   "codemirror_mode": {
    "name": "ipython",
    "version": 3
   },
   "file_extension": ".py",
   "mimetype": "text/x-python",
   "name": "python",
   "nbconvert_exporter": "python",
   "pygments_lexer": "ipython3",
   "version": "3.9.5"
  },
  "papermill": {
   "default_parameters": {},
   "duration": 7.815223,
   "end_time": "2021-10-13T22:30:12.030306",
   "environment_variables": {},
   "exception": null,
   "input_path": "eBay_Overview.ipynb",
   "output_path": "eBay_Overview.ipynb",
   "parameters": {},
   "start_time": "2021-10-13T22:30:04.215083",
   "version": "2.3.3"
  }
 },
 "nbformat": 4,
 "nbformat_minor": 5
}