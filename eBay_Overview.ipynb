{
 "cells": [
  {
   "cell_type": "code",
   "execution_count": 1,
   "id": "reverse-picking",
   "metadata": {
    "execution": {
     "iopub.execute_input": "2021-11-07T07:30:07.720049Z",
     "iopub.status.busy": "2021-11-07T07:30:07.714771Z",
     "iopub.status.idle": "2021-11-07T07:30:08.671933Z",
     "shell.execute_reply": "2021-11-07T07:30:08.674344Z"
    },
    "papermill": {
     "duration": 1.005935,
     "end_time": "2021-11-07T07:30:08.675117",
     "exception": false,
     "start_time": "2021-11-07T07:30:07.669182",
     "status": "completed"
    },
    "tags": []
   },
   "outputs": [],
   "source": [
    "import pandas as pd\n",
    "import sqlite3"
   ]
  },
  {
   "cell_type": "code",
   "execution_count": 2,
   "id": "innovative-syndrome",
   "metadata": {
    "execution": {
     "iopub.execute_input": "2021-11-07T07:30:08.739416Z",
     "iopub.status.busy": "2021-11-07T07:30:08.737131Z",
     "iopub.status.idle": "2021-11-07T07:30:09.487707Z",
     "shell.execute_reply": "2021-11-07T07:30:09.489349Z"
    },
    "papermill": {
     "duration": 0.784709,
     "end_time": "2021-11-07T07:30:09.489815",
     "exception": false,
     "start_time": "2021-11-07T07:30:08.705106",
     "status": "completed"
    },
    "tags": []
   },
   "outputs": [],
   "source": [
    "timestamps = pd.read_sql(\"select distinct record_time from EBAY_TOP_BERLIN order by record_time desc limit 2\", sqlite3.connect(\"UsedObjects.db\"))"
   ]
  },
  {
   "cell_type": "code",
   "execution_count": 3,
   "id": "periodic-identification",
   "metadata": {
    "execution": {
     "iopub.execute_input": "2021-11-07T07:30:09.560079Z",
     "iopub.status.busy": "2021-11-07T07:30:09.557840Z",
     "iopub.status.idle": "2021-11-07T07:30:09.582291Z",
     "shell.execute_reply": "2021-11-07T07:30:09.583762Z"
    },
    "papermill": {
     "duration": 0.074281,
     "end_time": "2021-11-07T07:30:09.584217",
     "exception": false,
     "start_time": "2021-11-07T07:30:09.509936",
     "status": "completed"
    },
    "tags": []
   },
   "outputs": [
    {
     "data": {
      "text/html": [
       "<div>\n",
       "<style scoped>\n",
       "    .dataframe tbody tr th:only-of-type {\n",
       "        vertical-align: middle;\n",
       "    }\n",
       "\n",
       "    .dataframe tbody tr th {\n",
       "        vertical-align: top;\n",
       "    }\n",
       "\n",
       "    .dataframe thead th {\n",
       "        text-align: right;\n",
       "    }\n",
       "</style>\n",
       "<table border=\"1\" class=\"dataframe\">\n",
       "  <thead>\n",
       "    <tr style=\"text-align: right;\">\n",
       "      <th></th>\n",
       "      <th>RECORD_TIME</th>\n",
       "    </tr>\n",
       "  </thead>\n",
       "  <tbody>\n",
       "    <tr>\n",
       "      <th>0</th>\n",
       "      <td>2021-11-07 08:30</td>\n",
       "    </tr>\n",
       "    <tr>\n",
       "      <th>1</th>\n",
       "      <td>2021-11-07 08:00</td>\n",
       "    </tr>\n",
       "  </tbody>\n",
       "</table>\n",
       "</div>"
      ],
      "text/plain": [
       "        RECORD_TIME\n",
       "0  2021-11-07 08:30\n",
       "1  2021-11-07 08:00"
      ]
     },
     "execution_count": 3,
     "metadata": {},
     "output_type": "execute_result"
    }
   ],
   "source": [
    "timestamps"
   ]
  },
  {
   "cell_type": "code",
   "execution_count": 4,
   "id": "alternate-victory",
   "metadata": {
    "execution": {
     "iopub.execute_input": "2021-11-07T07:30:09.639468Z",
     "iopub.status.busy": "2021-11-07T07:30:09.637290Z",
     "iopub.status.idle": "2021-11-07T07:30:10.722369Z",
     "shell.execute_reply": "2021-11-07T07:30:10.724204Z"
    },
    "papermill": {
     "duration": 1.119668,
     "end_time": "2021-11-07T07:30:10.724662",
     "exception": false,
     "start_time": "2021-11-07T07:30:09.604994",
     "status": "completed"
    },
    "tags": []
   },
   "outputs": [],
   "source": [
    "df = pd.read_sql(\"select * from EBAY_TOP_BERLIN where record_time in (select distinct record_time from EBAY_TOP_BERLIN order by record_time desc limit 2)\", sqlite3.connect(\"UsedObjects.db\"))"
   ]
  },
  {
   "cell_type": "code",
   "execution_count": 5,
   "id": "popular-active",
   "metadata": {
    "execution": {
     "iopub.execute_input": "2021-11-07T07:30:10.818180Z",
     "iopub.status.busy": "2021-11-07T07:30:10.802845Z",
     "iopub.status.idle": "2021-11-07T07:30:10.836975Z",
     "shell.execute_reply": "2021-11-07T07:30:10.838488Z"
    },
    "papermill": {
     "duration": 0.078186,
     "end_time": "2021-11-07T07:30:10.838962",
     "exception": false,
     "start_time": "2021-11-07T07:30:10.760776",
     "status": "completed"
    },
    "tags": []
   },
   "outputs": [],
   "source": [
    "df_pivot = df.pivot_table(index=\"PRODUCT\", columns = \"RECORD_TIME\", values = \"LISTING_COUNT\")"
   ]
  },
  {
   "cell_type": "code",
   "execution_count": 6,
   "id": "union-huntington",
   "metadata": {
    "execution": {
     "iopub.execute_input": "2021-11-07T07:30:10.902140Z",
     "iopub.status.busy": "2021-11-07T07:30:10.899797Z",
     "iopub.status.idle": "2021-11-07T07:30:10.905360Z",
     "shell.execute_reply": "2021-11-07T07:30:10.906926Z"
    },
    "papermill": {
     "duration": 0.046326,
     "end_time": "2021-11-07T07:30:10.907456",
     "exception": false,
     "start_time": "2021-11-07T07:30:10.861130",
     "status": "completed"
    },
    "tags": []
   },
   "outputs": [],
   "source": [
    "df_pivot.columns = [\"stamp_1\", \"stamp_2\"]\n",
    "df_pivot_diff = df_pivot.diff(axis=1)"
   ]
  },
  {
   "cell_type": "code",
   "execution_count": 7,
   "id": "fifth-motion",
   "metadata": {
    "execution": {
     "iopub.execute_input": "2021-11-07T07:30:10.967513Z",
     "iopub.status.busy": "2021-11-07T07:30:10.964919Z",
     "iopub.status.idle": "2021-11-07T07:30:12.725464Z",
     "shell.execute_reply": "2021-11-07T07:30:12.726814Z"
    },
    "papermill": {
     "duration": 1.797353,
     "end_time": "2021-11-07T07:30:12.727278",
     "exception": false,
     "start_time": "2021-11-07T07:30:10.929925",
     "status": "completed"
    },
    "tags": []
   },
   "outputs": [
    {
     "data": {
      "text/plain": [
       "<AxesSubplot:ylabel='PRODUCT'>"
      ]
     },
     "execution_count": 7,
     "metadata": {},
     "output_type": "execute_result"
    },
    {
     "data": {
      "image/png": "[encoded data removed]",
      "text/plain": [
       "<Figure size 432x288 with 1 Axes>"
      ]
     },
     "metadata": {
      "needs_background": "light"
     },
     "output_type": "display_data"
    }
   ],
   "source": [
    "df_pivot_diff.sort_values(\"stamp_2\", ascending = False)[\"stamp_2\"].head(10).plot.barh()"
   ]
  },
  {
   "cell_type": "code",
   "execution_count": null,
   "id": "extra-executive",
   "metadata": {
    "papermill": {
     "duration": 0.024359,
     "end_time": "2021-11-07T07:30:12.775407",
     "exception": false,
     "start_time": "2021-11-07T07:30:12.751048",
     "status": "completed"
    },
    "tags": []
   },
   "outputs": [],
   "source": []
  }
 ],
 "metadata": {
  "kernelspec": {
   "display_name": "Python 3",
   "language": "python",
   "name": "python3"
  },
  "language_info": {
   "codemirror_mode": {
    "name": "ipython",
    "version": 3
   },
   "file_extension": ".py",
   "mimetype": "text/x-python",
   "name": "python",
   "nbconvert_exporter": "python",
   "pygments_lexer": "ipython3",
   "version": "3.9.5"
  },
  "papermill": {
   "default_parameters": {},
   "duration": 8.787167,
   "end_time": "2021-11-07T07:30:13.625047",
   "environment_variables": {},
   "exception": null,
   "input_path": "eBay_Overview.ipynb",
   "output_path": "eBay_Overview.ipynb",
   "parameters": {},
   "start_time": "2021-11-07T07:30:04.837880",
   "version": "2.3.3"
  }
 },
 "nbformat": 4,
 "nbformat_minor": 5
}