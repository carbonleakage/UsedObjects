{
 "cells": [
  {
   "cell_type": "code",
   "execution_count": 1,
   "id": "reverse-picking",
   "metadata": {
    "execution": {
     "iopub.execute_input": "2021-10-13T15:30:07.828061Z",
     "iopub.status.busy": "2021-10-13T15:30:07.826112Z",
     "iopub.status.idle": "2021-10-13T15:30:08.627143Z",
     "shell.execute_reply": "2021-10-13T15:30:08.628392Z"
    },
    "papermill": {
     "duration": 0.852936,
     "end_time": "2021-10-13T15:30:08.629182",
     "exception": false,
     "start_time": "2021-10-13T15:30:07.776246",
     "status": "completed"
    },
    "tags": []
   },
   "outputs": [],
   "source": [
    "import pandas as pd\n",
    "import sqlite3"
   ]
  },
  {
   "cell_type": "code",
   "execution_count": 2,
   "id": "innovative-syndrome",
   "metadata": {
    "execution": {
     "iopub.execute_input": "2021-10-13T15:30:08.682522Z",
     "iopub.status.busy": "2021-10-13T15:30:08.680036Z",
     "iopub.status.idle": "2021-10-13T15:30:09.214208Z",
     "shell.execute_reply": "2021-10-13T15:30:09.215430Z"
    },
    "papermill": {
     "duration": 0.564284,
     "end_time": "2021-10-13T15:30:09.215826",
     "exception": false,
     "start_time": "2021-10-13T15:30:08.651542",
     "status": "completed"
    },
    "tags": []
   },
   "outputs": [],
   "source": [
    "timestamps = pd.read_sql(\"select distinct record_time from EBAY_TOP_BERLIN order by record_time desc limit 2\", sqlite3.connect(\"UsedObjects.db\"))"
   ]
  },
  {
   "cell_type": "code",
   "execution_count": 3,
   "id": "periodic-identification",
   "metadata": {
    "execution": {
     "iopub.execute_input": "2021-10-13T15:30:09.280052Z",
     "iopub.status.busy": "2021-10-13T15:30:09.278028Z",
     "iopub.status.idle": "2021-10-13T15:30:09.298789Z",
     "shell.execute_reply": "2021-10-13T15:30:09.299999Z"
    },
    "papermill": {
     "duration": 0.06513,
     "end_time": "2021-10-13T15:30:09.300393",
     "exception": false,
     "start_time": "2021-10-13T15:30:09.235263",
     "status": "completed"
    },
    "tags": []
   },
   "outputs": [
    {
     "data": {
      "text/html": [
       "<div>\n",
       "<style scoped>\n",
       "    .dataframe tbody tr th:only-of-type {\n",
       "        vertical-align: middle;\n",
       "    }\n",
       "\n",
       "    .dataframe tbody tr th {\n",
       "        vertical-align: top;\n",
       "    }\n",
       "\n",
       "    .dataframe thead th {\n",
       "        text-align: right;\n",
       "    }\n",
       "</style>\n",
       "<table border=\"1\" class=\"dataframe\">\n",
       "  <thead>\n",
       "    <tr style=\"text-align: right;\">\n",
       "      <th></th>\n",
       "      <th>RECORD_TIME</th>\n",
       "    </tr>\n",
       "  </thead>\n",
       "  <tbody>\n",
       "    <tr>\n",
       "      <th>0</th>\n",
       "      <td>2021-10-13 17:30</td>\n",
       "    </tr>\n",
       "    <tr>\n",
       "      <th>1</th>\n",
       "      <td>2021-10-13 17:00</td>\n",
       "    </tr>\n",
       "  </tbody>\n",
       "</table>\n",
       "</div>"
      ],
      "text/plain": [
       "        RECORD_TIME\n",
       "0  2021-10-13 17:30\n",
       "1  2021-10-13 17:00"
      ]
     },
     "execution_count": 3,
     "metadata": {},
     "output_type": "execute_result"
    }
   ],
   "source": [
    "timestamps"
   ]
  },
  {
   "cell_type": "code",
   "execution_count": 4,
   "id": "alternate-victory",
   "metadata": {
    "execution": {
     "iopub.execute_input": "2021-10-13T15:30:09.353606Z",
     "iopub.status.busy": "2021-10-13T15:30:09.351226Z",
     "iopub.status.idle": "2021-10-13T15:30:10.122739Z",
     "shell.execute_reply": "2021-10-13T15:30:10.121412Z"
    },
    "papermill": {
     "duration": 0.800627,
     "end_time": "2021-10-13T15:30:10.123072",
     "exception": false,
     "start_time": "2021-10-13T15:30:09.322445",
     "status": "completed"
    },
    "tags": []
   },
   "outputs": [],
   "source": [
    "df = pd.read_sql(\"select * from EBAY_TOP_BERLIN where record_time in (select distinct record_time from EBAY_TOP_BERLIN order by record_time desc limit 2)\", sqlite3.connect(\"UsedObjects.db\"))"
   ]
  },
  {
   "cell_type": "code",
   "execution_count": 5,
   "id": "popular-active",
   "metadata": {
    "execution": {
     "iopub.execute_input": "2021-10-13T15:30:10.196096Z",
     "iopub.status.busy": "2021-10-13T15:30:10.183214Z",
     "iopub.status.idle": "2021-10-13T15:30:10.211446Z",
     "shell.execute_reply": "2021-10-13T15:30:10.212646Z"
    },
    "papermill": {
     "duration": 0.068035,
     "end_time": "2021-10-13T15:30:10.213103",
     "exception": false,
     "start_time": "2021-10-13T15:30:10.145068",
     "status": "completed"
    },
    "tags": []
   },
   "outputs": [],
   "source": [
    "df_pivot = df.pivot_table(index=\"PRODUCT\", columns = \"RECORD_TIME\", values = \"LISTING_COUNT\")"
   ]
  },
  {
   "cell_type": "code",
   "execution_count": 6,
   "id": "union-huntington",
   "metadata": {
    "execution": {
     "iopub.execute_input": "2021-10-13T15:30:10.269191Z",
     "iopub.status.busy": "2021-10-13T15:30:10.266984Z",
     "iopub.status.idle": "2021-10-13T15:30:10.272587Z",
     "shell.execute_reply": "2021-10-13T15:30:10.274215Z"
    },
    "papermill": {
     "duration": 0.041079,
     "end_time": "2021-10-13T15:30:10.274799",
     "exception": false,
     "start_time": "2021-10-13T15:30:10.233720",
     "status": "completed"
    },
    "tags": []
   },
   "outputs": [],
   "source": [
    "df_pivot.columns = [\"stamp_1\", \"stamp_2\"]\n",
    "df_pivot_diff = df_pivot.diff(axis=1)"
   ]
  },
  {
   "cell_type": "code",
   "execution_count": 7,
   "id": "fifth-motion",
   "metadata": {
    "execution": {
     "iopub.execute_input": "2021-10-13T15:30:10.330720Z",
     "iopub.status.busy": "2021-10-13T15:30:10.328266Z",
     "iopub.status.idle": "2021-10-13T15:30:11.820835Z",
     "shell.execute_reply": "2021-10-13T15:30:11.822226Z"
    },
    "papermill": {
     "duration": 1.526189,
     "end_time": "2021-10-13T15:30:11.822664",
     "exception": false,
     "start_time": "2021-10-13T15:30:10.296475",
     "status": "completed"
    },
    "tags": []
   },
   "outputs": [
    {
     "data": {
      "text/plain": [
       "<AxesSubplot:ylabel='PRODUCT'>"
      ]
     },
     "execution_count": 7,
     "metadata": {},
     "output_type": "execute_result"
    },
    {
     "data": {
      "image/png": "[encoded data removed]",
      "text/plain": [
       "<Figure size 432x288 with 1 Axes>"
      ]
     },
     "metadata": {
      "needs_background": "light"
     },
     "output_type": "display_data"
    }
   ],
   "source": [
    "df_pivot_diff.sort_values(\"stamp_2\", ascending = False)[\"stamp_2\"].head(10).plot.barh()"
   ]
  },
  {
   "cell_type": "code",
   "execution_count": null,
   "id": "extra-executive",
   "metadata": {
    "papermill": {
     "duration": 0.022468,
     "end_time": "2021-10-13T15:30:11.869843",
     "exception": false,
     "start_time": "2021-10-13T15:30:11.847375",
     "status": "completed"
    },
    "tags": []
   },
   "outputs": [],
   "source": []
  }
 ],
 "metadata": {
  "kernelspec": {
   "display_name": "Python 3",
   "language": "python",
   "name": "python3"
  },
  "language_info": {
   "codemirror_mode": {
    "name": "ipython",
    "version": 3
   },
   "file_extension": ".py",
   "mimetype": "text/x-python",
   "name": "python",
   "nbconvert_exporter": "python",
   "pygments_lexer": "ipython3",
   "version": "3.9.5"
  },
  "papermill": {
   "default_parameters": {},
   "duration": 7.816634,
   "end_time": "2021-10-13T15:30:13.207814",
   "environment_variables": {},
   "exception": null,
   "input_path": "eBay_Overview.ipynb",
   "output_path": "eBay_Overview.ipynb",
   "parameters": {},
   "start_time": "2021-10-13T15:30:05.391180",
   "version": "2.3.3"
  }
 },
 "nbformat": 4,
 "nbformat_minor": 5
}