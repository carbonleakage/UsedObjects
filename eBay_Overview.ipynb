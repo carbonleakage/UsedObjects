{
 "cells": [
  {
   "cell_type": "code",
   "execution_count": 1,
   "id": "reverse-picking",
   "metadata": {
    "execution": {
     "iopub.execute_input": "2021-10-11T04:00:07.164556Z",
     "iopub.status.busy": "2021-10-11T04:00:07.162537Z",
     "iopub.status.idle": "2021-10-11T04:00:07.968553Z",
     "shell.execute_reply": "2021-10-11T04:00:07.969777Z"
    },
    "papermill": {
     "duration": 0.856705,
     "end_time": "2021-10-11T04:00:07.970392",
     "exception": false,
     "start_time": "2021-10-11T04:00:07.113687",
     "status": "completed"
    },
    "tags": []
   },
   "outputs": [],
   "source": [
    "import pandas as pd\n",
    "import sqlite3"
   ]
  },
  {
   "cell_type": "code",
   "execution_count": 2,
   "id": "innovative-syndrome",
   "metadata": {
    "execution": {
     "iopub.execute_input": "2021-10-11T04:00:08.023620Z",
     "iopub.status.busy": "2021-10-11T04:00:08.021213Z",
     "iopub.status.idle": "2021-10-11T04:00:08.524166Z",
     "shell.execute_reply": "2021-10-11T04:00:08.525750Z"
    },
    "papermill": {
     "duration": 0.53348,
     "end_time": "2021-10-11T04:00:08.526264",
     "exception": false,
     "start_time": "2021-10-11T04:00:07.992784",
     "status": "completed"
    },
    "tags": []
   },
   "outputs": [],
   "source": [
    "timestamps = pd.read_sql(\"select distinct record_time from EBAY_TOP_BERLIN order by record_time desc limit 2\", sqlite3.connect(\"UsedObjects.db\"))"
   ]
  },
  {
   "cell_type": "code",
   "execution_count": 3,
   "id": "periodic-identification",
   "metadata": {
    "execution": {
     "iopub.execute_input": "2021-10-11T04:00:08.593564Z",
     "iopub.status.busy": "2021-10-11T04:00:08.591559Z",
     "iopub.status.idle": "2021-10-11T04:00:08.611542Z",
     "shell.execute_reply": "2021-10-11T04:00:08.612831Z"
    },
    "papermill": {
     "duration": 0.067315,
     "end_time": "2021-10-11T04:00:08.613252",
     "exception": false,
     "start_time": "2021-10-11T04:00:08.545937",
     "status": "completed"
    },
    "tags": []
   },
   "outputs": [
    {
     "data": {
      "text/html": [
       "<div>\n",
       "<style scoped>\n",
       "    .dataframe tbody tr th:only-of-type {\n",
       "        vertical-align: middle;\n",
       "    }\n",
       "\n",
       "    .dataframe tbody tr th {\n",
       "        vertical-align: top;\n",
       "    }\n",
       "\n",
       "    .dataframe thead th {\n",
       "        text-align: right;\n",
       "    }\n",
       "</style>\n",
       "<table border=\"1\" class=\"dataframe\">\n",
       "  <thead>\n",
       "    <tr style=\"text-align: right;\">\n",
       "      <th></th>\n",
       "      <th>RECORD_TIME</th>\n",
       "    </tr>\n",
       "  </thead>\n",
       "  <tbody>\n",
       "    <tr>\n",
       "      <th>0</th>\n",
       "      <td>2021-10-11 06:00</td>\n",
       "    </tr>\n",
       "    <tr>\n",
       "      <th>1</th>\n",
       "      <td>2021-10-11 05:30</td>\n",
       "    </tr>\n",
       "  </tbody>\n",
       "</table>\n",
       "</div>"
      ],
      "text/plain": [
       "        RECORD_TIME\n",
       "0  2021-10-11 06:00\n",
       "1  2021-10-11 05:30"
      ]
     },
     "execution_count": 3,
     "metadata": {},
     "output_type": "execute_result"
    }
   ],
   "source": [
    "timestamps"
   ]
  },
  {
   "cell_type": "code",
   "execution_count": 4,
   "id": "alternate-victory",
   "metadata": {
    "execution": {
     "iopub.execute_input": "2021-10-11T04:00:08.665408Z",
     "iopub.status.busy": "2021-10-11T04:00:08.663256Z",
     "iopub.status.idle": "2021-10-11T04:00:09.400889Z",
     "shell.execute_reply": "2021-10-11T04:00:09.402075Z"
    },
    "papermill": {
     "duration": 0.767758,
     "end_time": "2021-10-11T04:00:09.402467",
     "exception": false,
     "start_time": "2021-10-11T04:00:08.634709",
     "status": "completed"
    },
    "tags": []
   },
   "outputs": [],
   "source": [
    "df = pd.read_sql(\"select * from EBAY_TOP_BERLIN where record_time in (select distinct record_time from EBAY_TOP_BERLIN order by record_time desc limit 2)\", sqlite3.connect(\"UsedObjects.db\"))"
   ]
  },
  {
   "cell_type": "code",
   "execution_count": 5,
   "id": "popular-active",
   "metadata": {
    "execution": {
     "iopub.execute_input": "2021-10-11T04:00:09.474264Z",
     "iopub.status.busy": "2021-10-11T04:00:09.463671Z",
     "iopub.status.idle": "2021-10-11T04:00:09.490619Z",
     "shell.execute_reply": "2021-10-11T04:00:09.491887Z"
    },
    "papermill": {
     "duration": 0.067608,
     "end_time": "2021-10-11T04:00:09.492290",
     "exception": false,
     "start_time": "2021-10-11T04:00:09.424682",
     "status": "completed"
    },
    "tags": []
   },
   "outputs": [],
   "source": [
    "df_pivot = df.pivot_table(index=\"PRODUCT\", columns = \"RECORD_TIME\", values = \"LISTING_COUNT\")"
   ]
  },
  {
   "cell_type": "code",
   "execution_count": 6,
   "id": "union-huntington",
   "metadata": {
    "execution": {
     "iopub.execute_input": "2021-10-11T04:00:09.551653Z",
     "iopub.status.busy": "2021-10-11T04:00:09.549351Z",
     "iopub.status.idle": "2021-10-11T04:00:09.555039Z",
     "shell.execute_reply": "2021-10-11T04:00:09.556435Z"
    },
    "papermill": {
     "duration": 0.042103,
     "end_time": "2021-10-11T04:00:09.556874",
     "exception": false,
     "start_time": "2021-10-11T04:00:09.514771",
     "status": "completed"
    },
    "tags": []
   },
   "outputs": [],
   "source": [
    "df_pivot.columns = [\"stamp_1\", \"stamp_2\"]\n",
    "df_pivot_diff = df_pivot.diff(axis=1)"
   ]
  },
  {
   "cell_type": "code",
   "execution_count": 7,
   "id": "fifth-motion",
   "metadata": {
    "execution": {
     "iopub.execute_input": "2021-10-11T04:00:09.610576Z",
     "iopub.status.busy": "2021-10-11T04:00:09.608329Z",
     "iopub.status.idle": "2021-10-11T04:00:11.121456Z",
     "shell.execute_reply": "2021-10-11T04:00:11.122708Z"
    },
    "papermill": {
     "duration": 1.545795,
     "end_time": "2021-10-11T04:00:11.123184",
     "exception": false,
     "start_time": "2021-10-11T04:00:09.577389",
     "status": "completed"
    },
    "tags": []
   },
   "outputs": [
    {
     "data": {
      "text/plain": [
       "<AxesSubplot:ylabel='PRODUCT'>"
      ]
     },
     "execution_count": 7,
     "metadata": {},
     "output_type": "execute_result"
    },
    {
     "data": {
      "image/png": "[encoded data removed]",
      "text/plain": [
       "<Figure size 432x288 with 1 Axes>"
      ]
     },
     "metadata": {
      "needs_background": "light"
     },
     "output_type": "display_data"
    }
   ],
   "source": [
    "df_pivot_diff.sort_values(\"stamp_2\", ascending = False)[\"stamp_2\"].head(10).plot.barh()"
   ]
  },
  {
   "cell_type": "code",
   "execution_count": null,
   "id": "extra-executive",
   "metadata": {
    "papermill": {
     "duration": 0.022263,
     "end_time": "2021-10-11T04:00:11.169360",
     "exception": false,
     "start_time": "2021-10-11T04:00:11.147097",
     "status": "completed"
    },
    "tags": []
   },
   "outputs": [],
   "source": []
  }
 ],
 "metadata": {
  "kernelspec": {
   "display_name": "Python 3",
   "language": "python",
   "name": "python3"
  },
  "language_info": {
   "codemirror_mode": {
    "name": "ipython",
    "version": 3
   },
   "file_extension": ".py",
   "mimetype": "text/x-python",
   "name": "python",
   "nbconvert_exporter": "python",
   "pygments_lexer": "ipython3",
   "version": "3.9.5"
  },
  "papermill": {
   "default_parameters": {},
   "duration": 7.830815,
   "end_time": "2021-10-11T04:00:12.537490",
   "environment_variables": {},
   "exception": null,
   "input_path": "eBay_Overview.ipynb",
   "output_path": "eBay_Overview.ipynb",
   "parameters": {},
   "start_time": "2021-10-11T04:00:04.706675",
   "version": "2.3.3"
  }
 },
 "nbformat": 4,
 "nbformat_minor": 5
}