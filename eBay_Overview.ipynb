{
 "cells": [
  {
   "cell_type": "code",
   "execution_count": 1,
   "id": "reverse-picking",
   "metadata": {
    "execution": {
     "iopub.execute_input": "2021-12-07T23:30:07.769137Z",
     "iopub.status.busy": "2021-12-07T23:30:07.766726Z",
     "iopub.status.idle": "2021-12-07T23:30:08.715515Z",
     "shell.execute_reply": "2021-12-07T23:30:08.717302Z"
    },
    "papermill": {
     "duration": 0.998073,
     "end_time": "2021-12-07T23:30:08.718090",
     "exception": false,
     "start_time": "2021-12-07T23:30:07.720017",
     "status": "completed"
    },
    "tags": []
   },
   "outputs": [],
   "source": [
    "import pandas as pd\n",
    "import sqlite3"
   ]
  },
  {
   "cell_type": "code",
   "execution_count": 2,
   "id": "innovative-syndrome",
   "metadata": {
    "execution": {
     "iopub.execute_input": "2021-12-07T23:30:08.786149Z",
     "iopub.status.busy": "2021-12-07T23:30:08.783646Z",
     "iopub.status.idle": "2021-12-07T23:30:09.798425Z",
     "shell.execute_reply": "2021-12-07T23:30:09.800356Z"
    },
    "papermill": {
     "duration": 1.049681,
     "end_time": "2021-12-07T23:30:09.801152",
     "exception": false,
     "start_time": "2021-12-07T23:30:08.751471",
     "status": "completed"
    },
    "tags": []
   },
   "outputs": [],
   "source": [
    "timestamps = pd.read_sql(\"select distinct record_time from EBAY_TOP_BERLIN order by record_time desc limit 2\", sqlite3.connect(\"UsedObjects.db\"))"
   ]
  },
  {
   "cell_type": "code",
   "execution_count": 3,
   "id": "periodic-identification",
   "metadata": {
    "execution": {
     "iopub.execute_input": "2021-12-07T23:30:09.897598Z",
     "iopub.status.busy": "2021-12-07T23:30:09.894872Z",
     "iopub.status.idle": "2021-12-07T23:30:09.918592Z",
     "shell.execute_reply": "2021-12-07T23:30:09.920180Z"
    },
    "papermill": {
     "duration": 0.09215,
     "end_time": "2021-12-07T23:30:09.920764",
     "exception": false,
     "start_time": "2021-12-07T23:30:09.828614",
     "status": "completed"
    },
    "tags": []
   },
   "outputs": [
    {
     "data": {
      "text/html": [
       "<div>\n",
       "<style scoped>\n",
       "    .dataframe tbody tr th:only-of-type {\n",
       "        vertical-align: middle;\n",
       "    }\n",
       "\n",
       "    .dataframe tbody tr th {\n",
       "        vertical-align: top;\n",
       "    }\n",
       "\n",
       "    .dataframe thead th {\n",
       "        text-align: right;\n",
       "    }\n",
       "</style>\n",
       "<table border=\"1\" class=\"dataframe\">\n",
       "  <thead>\n",
       "    <tr style=\"text-align: right;\">\n",
       "      <th></th>\n",
       "      <th>RECORD_TIME</th>\n",
       "    </tr>\n",
       "  </thead>\n",
       "  <tbody>\n",
       "    <tr>\n",
       "      <th>0</th>\n",
       "      <td>2021-12-08 00:30</td>\n",
       "    </tr>\n",
       "    <tr>\n",
       "      <th>1</th>\n",
       "      <td>2021-12-08 00:00</td>\n",
       "    </tr>\n",
       "  </tbody>\n",
       "</table>\n",
       "</div>"
      ],
      "text/plain": [
       "        RECORD_TIME\n",
       "0  2021-12-08 00:30\n",
       "1  2021-12-08 00:00"
      ]
     },
     "execution_count": 3,
     "metadata": {},
     "output_type": "execute_result"
    }
   ],
   "source": [
    "timestamps"
   ]
  },
  {
   "cell_type": "code",
   "execution_count": 4,
   "id": "alternate-victory",
   "metadata": {
    "execution": {
     "iopub.execute_input": "2021-12-07T23:30:09.978060Z",
     "iopub.status.busy": "2021-12-07T23:30:09.975988Z",
     "iopub.status.idle": "2021-12-07T23:30:11.478932Z",
     "shell.execute_reply": "2021-12-07T23:30:11.481650Z"
    },
    "papermill": {
     "duration": 1.538315,
     "end_time": "2021-12-07T23:30:11.482305",
     "exception": false,
     "start_time": "2021-12-07T23:30:09.943990",
     "status": "completed"
    },
    "tags": []
   },
   "outputs": [],
   "source": [
    "df = pd.read_sql(\"select * from EBAY_TOP_BERLIN where record_time in (select distinct record_time from EBAY_TOP_BERLIN order by record_time desc limit 2)\", sqlite3.connect(\"UsedObjects.db\"))"
   ]
  },
  {
   "cell_type": "code",
   "execution_count": 5,
   "id": "popular-active",
   "metadata": {
    "execution": {
     "iopub.execute_input": "2021-12-07T23:30:11.605174Z",
     "iopub.status.busy": "2021-12-07T23:30:11.581513Z",
     "iopub.status.idle": "2021-12-07T23:30:11.629791Z",
     "shell.execute_reply": "2021-12-07T23:30:11.631710Z"
    },
    "papermill": {
     "duration": 0.119741,
     "end_time": "2021-12-07T23:30:11.632315",
     "exception": false,
     "start_time": "2021-12-07T23:30:11.512574",
     "status": "completed"
    },
    "tags": []
   },
   "outputs": [],
   "source": [
    "df_pivot = df.pivot_table(index=\"PRODUCT\", columns = \"RECORD_TIME\", values = \"LISTING_COUNT\")"
   ]
  },
  {
   "cell_type": "code",
   "execution_count": 6,
   "id": "union-huntington",
   "metadata": {
    "execution": {
     "iopub.execute_input": "2021-12-07T23:30:11.705588Z",
     "iopub.status.busy": "2021-12-07T23:30:11.702142Z",
     "iopub.status.idle": "2021-12-07T23:30:11.725257Z",
     "shell.execute_reply": "2021-12-07T23:30:11.727657Z"
    },
    "papermill": {
     "duration": 0.071154,
     "end_time": "2021-12-07T23:30:11.728502",
     "exception": false,
     "start_time": "2021-12-07T23:30:11.657348",
     "status": "completed"
    },
    "tags": []
   },
   "outputs": [],
   "source": [
    "df_pivot.columns = [\"stamp_1\", \"stamp_2\"]\n",
    "df_pivot_diff = df_pivot.diff(axis=1)"
   ]
  },
  {
   "cell_type": "code",
   "execution_count": 7,
   "id": "fifth-motion",
   "metadata": {
    "execution": {
     "iopub.execute_input": "2021-12-07T23:30:11.815690Z",
     "iopub.status.busy": "2021-12-07T23:30:11.803051Z",
     "iopub.status.idle": "2021-12-07T23:30:13.480371Z",
     "shell.execute_reply": "2021-12-07T23:30:13.481646Z"
    },
    "papermill": {
     "duration": 1.723749,
     "end_time": "2021-12-07T23:30:13.482092",
     "exception": false,
     "start_time": "2021-12-07T23:30:11.758343",
     "status": "completed"
    },
    "tags": []
   },
   "outputs": [
    {
     "data": {
      "text/plain": [
       "<AxesSubplot:ylabel='PRODUCT'>"
      ]
     },
     "execution_count": 7,
     "metadata": {},
     "output_type": "execute_result"
    },
    {
     "data": {
      "image/png": "[encoded data removed]",
      "text/plain": [
       "<Figure size 432x288 with 1 Axes>"
      ]
     },
     "metadata": {
      "needs_background": "light"
     },
     "output_type": "display_data"
    }
   ],
   "source": [
    "df_pivot_diff.sort_values(\"stamp_2\", ascending = False)[\"stamp_2\"].head(10).plot.barh()"
   ]
  },
  {
   "cell_type": "code",
   "execution_count": null,
   "id": "extra-executive",
   "metadata": {
    "papermill": {
     "duration": 0.022067,
     "end_time": "2021-12-07T23:30:13.530333",
     "exception": false,
     "start_time": "2021-12-07T23:30:13.508266",
     "status": "completed"
    },
    "tags": []
   },
   "outputs": [],
   "source": []
  }
 ],
 "metadata": {
  "kernelspec": {
   "display_name": "Python 3",
   "language": "python",
   "name": "python3"
  },
  "language_info": {
   "codemirror_mode": {
    "name": "ipython",
    "version": 3
   },
   "file_extension": ".py",
   "mimetype": "text/x-python",
   "name": "python",
   "nbconvert_exporter": "python",
   "pygments_lexer": "ipython3",
   "version": "3.9.5"
  },
  "papermill": {
   "default_parameters": {},
   "duration": 9.952951,
   "end_time": "2021-12-07T23:30:14.942347",
   "environment_variables": {},
   "exception": null,
   "input_path": "eBay_Overview.ipynb",
   "output_path": "eBay_Overview.ipynb",
   "parameters": {},
   "start_time": "2021-12-07T23:30:04.989396",
   "version": "2.3.3"
  }
 },
 "nbformat": 4,
 "nbformat_minor": 5
}