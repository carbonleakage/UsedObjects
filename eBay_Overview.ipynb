{
 "cells": [
  {
   "cell_type": "code",
   "execution_count": 1,
   "id": "reverse-picking",
   "metadata": {
    "execution": {
     "iopub.execute_input": "2021-10-23T03:30:07.054684Z",
     "iopub.status.busy": "2021-10-23T03:30:07.052659Z",
     "iopub.status.idle": "2021-10-23T03:30:07.862955Z",
     "shell.execute_reply": "2021-10-23T03:30:07.861374Z"
    },
    "papermill": {
     "duration": 0.860805,
     "end_time": "2021-10-23T03:30:07.863342",
     "exception": false,
     "start_time": "2021-10-23T03:30:07.002537",
     "status": "completed"
    },
    "tags": []
   },
   "outputs": [],
   "source": [
    "import pandas as pd\n",
    "import sqlite3"
   ]
  },
  {
   "cell_type": "code",
   "execution_count": 2,
   "id": "innovative-syndrome",
   "metadata": {
    "execution": {
     "iopub.execute_input": "2021-10-23T03:30:07.916976Z",
     "iopub.status.busy": "2021-10-23T03:30:07.914583Z",
     "iopub.status.idle": "2021-10-23T03:30:08.523829Z",
     "shell.execute_reply": "2021-10-23T03:30:08.525252Z"
    },
    "papermill": {
     "duration": 0.639231,
     "end_time": "2021-10-23T03:30:08.525674",
     "exception": false,
     "start_time": "2021-10-23T03:30:07.886443",
     "status": "completed"
    },
    "tags": []
   },
   "outputs": [],
   "source": [
    "timestamps = pd.read_sql(\"select distinct record_time from EBAY_TOP_BERLIN order by record_time desc limit 2\", sqlite3.connect(\"UsedObjects.db\"))"
   ]
  },
  {
   "cell_type": "code",
   "execution_count": 3,
   "id": "periodic-identification",
   "metadata": {
    "execution": {
     "iopub.execute_input": "2021-10-23T03:30:08.601468Z",
     "iopub.status.busy": "2021-10-23T03:30:08.599325Z",
     "iopub.status.idle": "2021-10-23T03:30:08.621211Z",
     "shell.execute_reply": "2021-10-23T03:30:08.622607Z"
    },
    "papermill": {
     "duration": 0.070881,
     "end_time": "2021-10-23T03:30:08.623025",
     "exception": false,
     "start_time": "2021-10-23T03:30:08.552144",
     "status": "completed"
    },
    "tags": []
   },
   "outputs": [
    {
     "data": {
      "text/html": [
       "<div>\n",
       "<style scoped>\n",
       "    .dataframe tbody tr th:only-of-type {\n",
       "        vertical-align: middle;\n",
       "    }\n",
       "\n",
       "    .dataframe tbody tr th {\n",
       "        vertical-align: top;\n",
       "    }\n",
       "\n",
       "    .dataframe thead th {\n",
       "        text-align: right;\n",
       "    }\n",
       "</style>\n",
       "<table border=\"1\" class=\"dataframe\">\n",
       "  <thead>\n",
       "    <tr style=\"text-align: right;\">\n",
       "      <th></th>\n",
       "      <th>RECORD_TIME</th>\n",
       "    </tr>\n",
       "  </thead>\n",
       "  <tbody>\n",
       "    <tr>\n",
       "      <th>0</th>\n",
       "      <td>2021-10-23 05:30</td>\n",
       "    </tr>\n",
       "    <tr>\n",
       "      <th>1</th>\n",
       "      <td>2021-10-23 05:00</td>\n",
       "    </tr>\n",
       "  </tbody>\n",
       "</table>\n",
       "</div>"
      ],
      "text/plain": [
       "        RECORD_TIME\n",
       "0  2021-10-23 05:30\n",
       "1  2021-10-23 05:00"
      ]
     },
     "execution_count": 3,
     "metadata": {},
     "output_type": "execute_result"
    }
   ],
   "source": [
    "timestamps"
   ]
  },
  {
   "cell_type": "code",
   "execution_count": 4,
   "id": "alternate-victory",
   "metadata": {
    "execution": {
     "iopub.execute_input": "2021-10-23T03:30:08.673415Z",
     "iopub.status.busy": "2021-10-23T03:30:08.671495Z",
     "iopub.status.idle": "2021-10-23T03:30:09.600538Z",
     "shell.execute_reply": "2021-10-23T03:30:09.601899Z"
    },
    "papermill": {
     "duration": 0.958993,
     "end_time": "2021-10-23T03:30:09.602322",
     "exception": false,
     "start_time": "2021-10-23T03:30:08.643329",
     "status": "completed"
    },
    "tags": []
   },
   "outputs": [],
   "source": [
    "df = pd.read_sql(\"select * from EBAY_TOP_BERLIN where record_time in (select distinct record_time from EBAY_TOP_BERLIN order by record_time desc limit 2)\", sqlite3.connect(\"UsedObjects.db\"))"
   ]
  },
  {
   "cell_type": "code",
   "execution_count": 5,
   "id": "popular-active",
   "metadata": {
    "execution": {
     "iopub.execute_input": "2021-10-23T03:30:09.672621Z",
     "iopub.status.busy": "2021-10-23T03:30:09.661405Z",
     "iopub.status.idle": "2021-10-23T03:30:09.688388Z",
     "shell.execute_reply": "2021-10-23T03:30:09.689737Z"
    },
    "papermill": {
     "duration": 0.0671,
     "end_time": "2021-10-23T03:30:09.690151",
     "exception": false,
     "start_time": "2021-10-23T03:30:09.623051",
     "status": "completed"
    },
    "tags": []
   },
   "outputs": [],
   "source": [
    "df_pivot = df.pivot_table(index=\"PRODUCT\", columns = \"RECORD_TIME\", values = \"LISTING_COUNT\")"
   ]
  },
  {
   "cell_type": "code",
   "execution_count": 6,
   "id": "union-huntington",
   "metadata": {
    "execution": {
     "iopub.execute_input": "2021-10-23T03:30:09.746770Z",
     "iopub.status.busy": "2021-10-23T03:30:09.744545Z",
     "iopub.status.idle": "2021-10-23T03:30:09.750102Z",
     "shell.execute_reply": "2021-10-23T03:30:09.751457Z"
    },
    "papermill": {
     "duration": 0.040994,
     "end_time": "2021-10-23T03:30:09.751889",
     "exception": false,
     "start_time": "2021-10-23T03:30:09.710895",
     "status": "completed"
    },
    "tags": []
   },
   "outputs": [],
   "source": [
    "df_pivot.columns = [\"stamp_1\", \"stamp_2\"]\n",
    "df_pivot_diff = df_pivot.diff(axis=1)"
   ]
  },
  {
   "cell_type": "code",
   "execution_count": 7,
   "id": "fifth-motion",
   "metadata": {
    "execution": {
     "iopub.execute_input": "2021-10-23T03:30:09.806380Z",
     "iopub.status.busy": "2021-10-23T03:30:09.803826Z",
     "iopub.status.idle": "2021-10-23T03:30:11.293194Z",
     "shell.execute_reply": "2021-10-23T03:30:11.294711Z"
    },
    "papermill": {
     "duration": 1.522741,
     "end_time": "2021-10-23T03:30:11.295156",
     "exception": false,
     "start_time": "2021-10-23T03:30:09.772415",
     "status": "completed"
    },
    "tags": []
   },
   "outputs": [
    {
     "data": {
      "text/plain": [
       "<AxesSubplot:ylabel='PRODUCT'>"
      ]
     },
     "execution_count": 7,
     "metadata": {},
     "output_type": "execute_result"
    },
    {
     "data": {
      "image/png": "[encoded data removed]",
      "text/plain": [
       "<Figure size 432x288 with 1 Axes>"
      ]
     },
     "metadata": {
      "needs_background": "light"
     },
     "output_type": "display_data"
    }
   ],
   "source": [
    "df_pivot_diff.sort_values(\"stamp_2\", ascending = False)[\"stamp_2\"].head(10).plot.barh()"
   ]
  },
  {
   "cell_type": "code",
   "execution_count": null,
   "id": "extra-executive",
   "metadata": {
    "papermill": {
     "duration": 0.021911,
     "end_time": "2021-10-23T03:30:11.342093",
     "exception": false,
     "start_time": "2021-10-23T03:30:11.320182",
     "status": "completed"
    },
    "tags": []
   },
   "outputs": [],
   "source": []
  }
 ],
 "metadata": {
  "kernelspec": {
   "display_name": "Python 3",
   "language": "python",
   "name": "python3"
  },
  "language_info": {
   "codemirror_mode": {
    "name": "ipython",
    "version": 3
   },
   "file_extension": ".py",
   "mimetype": "text/x-python",
   "name": "python",
   "nbconvert_exporter": "python",
   "pygments_lexer": "ipython3",
   "version": "3.9.5"
  },
  "papermill": {
   "default_parameters": {},
   "duration": 7.388121,
   "end_time": "2021-10-23T03:30:11.984601",
   "environment_variables": {},
   "exception": null,
   "input_path": "eBay_Overview.ipynb",
   "output_path": "eBay_Overview.ipynb",
   "parameters": {},
   "start_time": "2021-10-23T03:30:04.596480",
   "version": "2.3.3"
  }
 },
 "nbformat": 4,
 "nbformat_minor": 5
}