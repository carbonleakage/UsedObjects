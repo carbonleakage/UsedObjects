{
 "cells": [
  {
   "cell_type": "code",
   "execution_count": 1,
   "id": "reverse-picking",
   "metadata": {
    "execution": {
     "iopub.execute_input": "2021-09-19T07:30:06.913952Z",
     "iopub.status.busy": "2021-09-19T07:30:06.911992Z",
     "iopub.status.idle": "2021-09-19T07:30:07.716990Z",
     "shell.execute_reply": "2021-09-19T07:30:07.715404Z"
    },
    "papermill": {
     "duration": 0.854014,
     "end_time": "2021-09-19T07:30:07.717382",
     "exception": false,
     "start_time": "2021-09-19T07:30:06.863368",
     "status": "completed"
    },
    "tags": []
   },
   "outputs": [],
   "source": [
    "import pandas as pd\n",
    "import sqlite3"
   ]
  },
  {
   "cell_type": "code",
   "execution_count": 2,
   "id": "innovative-syndrome",
   "metadata": {
    "execution": {
     "iopub.execute_input": "2021-09-19T07:30:07.767861Z",
     "iopub.status.busy": "2021-09-19T07:30:07.765925Z",
     "iopub.status.idle": "2021-09-19T07:30:08.084745Z",
     "shell.execute_reply": "2021-09-19T07:30:08.085947Z"
    },
    "papermill": {
     "duration": 0.348279,
     "end_time": "2021-09-19T07:30:08.086341",
     "exception": false,
     "start_time": "2021-09-19T07:30:07.738062",
     "status": "completed"
    },
    "tags": []
   },
   "outputs": [],
   "source": [
    "timestamps = pd.read_sql(\"select distinct record_time from EBAY_TOP_BERLIN order by record_time desc limit 2\", sqlite3.connect(\"UsedObjects.db\"))"
   ]
  },
  {
   "cell_type": "code",
   "execution_count": 3,
   "id": "periodic-identification",
   "metadata": {
    "execution": {
     "iopub.execute_input": "2021-09-19T07:30:08.150265Z",
     "iopub.status.busy": "2021-09-19T07:30:08.148277Z",
     "iopub.status.idle": "2021-09-19T07:30:08.167750Z",
     "shell.execute_reply": "2021-09-19T07:30:08.169034Z"
    },
    "papermill": {
     "duration": 0.063403,
     "end_time": "2021-09-19T07:30:08.169431",
     "exception": false,
     "start_time": "2021-09-19T07:30:08.106028",
     "status": "completed"
    },
    "tags": []
   },
   "outputs": [
    {
     "data": {
      "text/html": [
       "<div>\n",
       "<style scoped>\n",
       "    .dataframe tbody tr th:only-of-type {\n",
       "        vertical-align: middle;\n",
       "    }\n",
       "\n",
       "    .dataframe tbody tr th {\n",
       "        vertical-align: top;\n",
       "    }\n",
       "\n",
       "    .dataframe thead th {\n",
       "        text-align: right;\n",
       "    }\n",
       "</style>\n",
       "<table border=\"1\" class=\"dataframe\">\n",
       "  <thead>\n",
       "    <tr style=\"text-align: right;\">\n",
       "      <th></th>\n",
       "      <th>RECORD_TIME</th>\n",
       "    </tr>\n",
       "  </thead>\n",
       "  <tbody>\n",
       "    <tr>\n",
       "      <th>0</th>\n",
       "      <td>2021-09-19 09:30</td>\n",
       "    </tr>\n",
       "    <tr>\n",
       "      <th>1</th>\n",
       "      <td>2021-09-19 09:00</td>\n",
       "    </tr>\n",
       "  </tbody>\n",
       "</table>\n",
       "</div>"
      ],
      "text/plain": [
       "        RECORD_TIME\n",
       "0  2021-09-19 09:30\n",
       "1  2021-09-19 09:00"
      ]
     },
     "execution_count": 3,
     "metadata": {},
     "output_type": "execute_result"
    }
   ],
   "source": [
    "timestamps"
   ]
  },
  {
   "cell_type": "code",
   "execution_count": 4,
   "id": "alternate-victory",
   "metadata": {
    "execution": {
     "iopub.execute_input": "2021-09-19T07:30:08.221754Z",
     "iopub.status.busy": "2021-09-19T07:30:08.219501Z",
     "iopub.status.idle": "2021-09-19T07:30:08.700786Z",
     "shell.execute_reply": "2021-09-19T07:30:08.702070Z"
    },
    "papermill": {
     "duration": 0.511619,
     "end_time": "2021-09-19T07:30:08.702485",
     "exception": false,
     "start_time": "2021-09-19T07:30:08.190866",
     "status": "completed"
    },
    "tags": []
   },
   "outputs": [],
   "source": [
    "df = pd.read_sql(\"select * from EBAY_TOP_BERLIN where record_time in (select distinct record_time from EBAY_TOP_BERLIN order by record_time desc limit 2)\", sqlite3.connect(\"UsedObjects.db\"))"
   ]
  },
  {
   "cell_type": "code",
   "execution_count": 5,
   "id": "popular-active",
   "metadata": {
    "execution": {
     "iopub.execute_input": "2021-09-19T07:30:08.773858Z",
     "iopub.status.busy": "2021-09-19T07:30:08.766374Z",
     "iopub.status.idle": "2021-09-19T07:30:08.791971Z",
     "shell.execute_reply": "2021-09-19T07:30:08.793362Z"
    },
    "papermill": {
     "duration": 0.070569,
     "end_time": "2021-09-19T07:30:08.793799",
     "exception": false,
     "start_time": "2021-09-19T07:30:08.723230",
     "status": "completed"
    },
    "tags": []
   },
   "outputs": [],
   "source": [
    "df_pivot = df.pivot_table(index=\"PRODUCT\", columns = \"RECORD_TIME\", values = \"LISTING_COUNT\")"
   ]
  },
  {
   "cell_type": "code",
   "execution_count": 6,
   "id": "union-huntington",
   "metadata": {
    "execution": {
     "iopub.execute_input": "2021-09-19T07:30:08.850916Z",
     "iopub.status.busy": "2021-09-19T07:30:08.848816Z",
     "iopub.status.idle": "2021-09-19T07:30:08.854217Z",
     "shell.execute_reply": "2021-09-19T07:30:08.855552Z"
    },
    "papermill": {
     "duration": 0.041608,
     "end_time": "2021-09-19T07:30:08.855974",
     "exception": false,
     "start_time": "2021-09-19T07:30:08.814366",
     "status": "completed"
    },
    "tags": []
   },
   "outputs": [],
   "source": [
    "df_pivot.columns = [\"stamp_1\", \"stamp_2\"]\n",
    "df_pivot_diff = df_pivot.diff(axis=1)"
   ]
  },
  {
   "cell_type": "code",
   "execution_count": 7,
   "id": "fifth-motion",
   "metadata": {
    "execution": {
     "iopub.execute_input": "2021-09-19T07:30:08.910465Z",
     "iopub.status.busy": "2021-09-19T07:30:08.908088Z",
     "iopub.status.idle": "2021-09-19T07:30:10.402888Z",
     "shell.execute_reply": "2021-09-19T07:30:10.404533Z"
    },
    "papermill": {
     "duration": 1.528413,
     "end_time": "2021-09-19T07:30:10.405027",
     "exception": false,
     "start_time": "2021-09-19T07:30:08.876614",
     "status": "completed"
    },
    "tags": []
   },
   "outputs": [
    {
     "data": {
      "text/plain": [
       "<AxesSubplot:ylabel='PRODUCT'>"
      ]
     },
     "execution_count": 7,
     "metadata": {},
     "output_type": "execute_result"
    },
    {
     "data": {
      "image/png": "[encoded data removed]",
      "text/plain": [
       "<Figure size 432x288 with 1 Axes>"
      ]
     },
     "metadata": {
      "needs_background": "light"
     },
     "output_type": "display_data"
    }
   ],
   "source": [
    "df_pivot_diff.sort_values(\"stamp_2\", ascending = False)[\"stamp_2\"].head(10).plot.barh()"
   ]
  },
  {
   "cell_type": "code",
   "execution_count": null,
   "id": "extra-executive",
   "metadata": {
    "papermill": {
     "duration": 0.02243,
     "end_time": "2021-09-19T07:30:10.452987",
     "exception": false,
     "start_time": "2021-09-19T07:30:10.430557",
     "status": "completed"
    },
    "tags": []
   },
   "outputs": [],
   "source": []
  }
 ],
 "metadata": {
  "kernelspec": {
   "display_name": "Python 3",
   "language": "python",
   "name": "python3"
  },
  "language_info": {
   "codemirror_mode": {
    "name": "ipython",
    "version": 3
   },
   "file_extension": ".py",
   "mimetype": "text/x-python",
   "name": "python",
   "nbconvert_exporter": "python",
   "pygments_lexer": "ipython3",
   "version": "3.9.5"
  },
  "papermill": {
   "default_parameters": {},
   "duration": 6.626905,
   "end_time": "2021-09-19T07:30:11.094718",
   "environment_variables": {},
   "exception": null,
   "input_path": "eBay_Overview.ipynb",
   "output_path": "eBay_Overview.ipynb",
   "parameters": {},
   "start_time": "2021-09-19T07:30:04.467813",
   "version": "2.3.3"
  }
 },
 "nbformat": 4,
 "nbformat_minor": 5
}