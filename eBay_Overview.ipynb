{
 "cells": [
  {
   "cell_type": "code",
   "execution_count": 1,
   "id": "reverse-picking",
   "metadata": {
    "execution": {
     "iopub.execute_input": "2021-08-18T16:00:06.940429Z",
     "iopub.status.busy": "2021-08-18T16:00:06.938511Z",
     "iopub.status.idle": "2021-08-18T16:00:07.745097Z",
     "shell.execute_reply": "2021-08-18T16:00:07.746417Z"
    },
    "papermill": {
     "duration": 0.860121,
     "end_time": "2021-08-18T16:00:07.747063",
     "exception": false,
     "start_time": "2021-08-18T16:00:06.886942",
     "status": "completed"
    },
    "tags": []
   },
   "outputs": [],
   "source": [
    "import pandas as pd\n",
    "import sqlite3"
   ]
  },
  {
   "cell_type": "code",
   "execution_count": 2,
   "id": "innovative-syndrome",
   "metadata": {
    "execution": {
     "iopub.execute_input": "2021-08-18T16:00:07.798798Z",
     "iopub.status.busy": "2021-08-18T16:00:07.796817Z",
     "iopub.status.idle": "2021-08-18T16:00:07.874497Z",
     "shell.execute_reply": "2021-08-18T16:00:07.875697Z"
    },
    "papermill": {
     "duration": 0.106965,
     "end_time": "2021-08-18T16:00:07.876098",
     "exception": false,
     "start_time": "2021-08-18T16:00:07.769133",
     "status": "completed"
    },
    "tags": []
   },
   "outputs": [],
   "source": [
    "timestamps = pd.read_sql(\"select distinct record_time from EBAY_TOP_BERLIN order by record_time desc limit 2\", sqlite3.connect(\"UsedObjects.db\"))"
   ]
  },
  {
   "cell_type": "code",
   "execution_count": 3,
   "id": "periodic-identification",
   "metadata": {
    "execution": {
     "iopub.execute_input": "2021-08-18T16:00:07.941188Z",
     "iopub.status.busy": "2021-08-18T16:00:07.939182Z",
     "iopub.status.idle": "2021-08-18T16:00:07.959104Z",
     "shell.execute_reply": "2021-08-18T16:00:07.960357Z"
    },
    "papermill": {
     "duration": 0.064233,
     "end_time": "2021-08-18T16:00:07.960760",
     "exception": false,
     "start_time": "2021-08-18T16:00:07.896527",
     "status": "completed"
    },
    "tags": []
   },
   "outputs": [
    {
     "data": {
      "text/html": [
       "<div>\n",
       "<style scoped>\n",
       "    .dataframe tbody tr th:only-of-type {\n",
       "        vertical-align: middle;\n",
       "    }\n",
       "\n",
       "    .dataframe tbody tr th {\n",
       "        vertical-align: top;\n",
       "    }\n",
       "\n",
       "    .dataframe thead th {\n",
       "        text-align: right;\n",
       "    }\n",
       "</style>\n",
       "<table border=\"1\" class=\"dataframe\">\n",
       "  <thead>\n",
       "    <tr style=\"text-align: right;\">\n",
       "      <th></th>\n",
       "      <th>RECORD_TIME</th>\n",
       "    </tr>\n",
       "  </thead>\n",
       "  <tbody>\n",
       "    <tr>\n",
       "      <th>0</th>\n",
       "      <td>2021-08-18 18:00</td>\n",
       "    </tr>\n",
       "    <tr>\n",
       "      <th>1</th>\n",
       "      <td>2021-08-18 17:30</td>\n",
       "    </tr>\n",
       "  </tbody>\n",
       "</table>\n",
       "</div>"
      ],
      "text/plain": [
       "        RECORD_TIME\n",
       "0  2021-08-18 18:00\n",
       "1  2021-08-18 17:30"
      ]
     },
     "execution_count": 3,
     "metadata": {},
     "output_type": "execute_result"
    }
   ],
   "source": [
    "timestamps"
   ]
  },
  {
   "cell_type": "code",
   "execution_count": 4,
   "id": "alternate-victory",
   "metadata": {
    "execution": {
     "iopub.execute_input": "2021-08-18T16:00:08.013054Z",
     "iopub.status.busy": "2021-08-18T16:00:08.010805Z",
     "iopub.status.idle": "2021-08-18T16:00:08.126606Z",
     "shell.execute_reply": "2021-08-18T16:00:08.127813Z"
    },
    "papermill": {
     "duration": 0.145836,
     "end_time": "2021-08-18T16:00:08.128213",
     "exception": false,
     "start_time": "2021-08-18T16:00:07.982377",
     "status": "completed"
    },
    "tags": []
   },
   "outputs": [],
   "source": [
    "df = pd.read_sql(\"select * from EBAY_TOP_BERLIN where record_time in (select distinct record_time from EBAY_TOP_BERLIN order by record_time desc limit 2)\", sqlite3.connect(\"UsedObjects.db\"))"
   ]
  },
  {
   "cell_type": "code",
   "execution_count": 5,
   "id": "popular-active",
   "metadata": {
    "execution": {
     "iopub.execute_input": "2021-08-18T16:00:08.202133Z",
     "iopub.status.busy": "2021-08-18T16:00:08.190179Z",
     "iopub.status.idle": "2021-08-18T16:00:08.217600Z",
     "shell.execute_reply": "2021-08-18T16:00:08.218884Z"
    },
    "papermill": {
     "duration": 0.067891,
     "end_time": "2021-08-18T16:00:08.219290",
     "exception": false,
     "start_time": "2021-08-18T16:00:08.151399",
     "status": "completed"
    },
    "tags": []
   },
   "outputs": [],
   "source": [
    "df_pivot = df.pivot_table(index=\"PRODUCT\", columns = \"RECORD_TIME\", values = \"LISTING_COUNT\")"
   ]
  },
  {
   "cell_type": "code",
   "execution_count": 6,
   "id": "union-huntington",
   "metadata": {
    "execution": {
     "iopub.execute_input": "2021-08-18T16:00:08.276086Z",
     "iopub.status.busy": "2021-08-18T16:00:08.273889Z",
     "iopub.status.idle": "2021-08-18T16:00:08.279609Z",
     "shell.execute_reply": "2021-08-18T16:00:08.280977Z"
    },
    "papermill": {
     "duration": 0.040914,
     "end_time": "2021-08-18T16:00:08.281418",
     "exception": false,
     "start_time": "2021-08-18T16:00:08.240504",
     "status": "completed"
    },
    "tags": []
   },
   "outputs": [],
   "source": [
    "df_pivot.columns = [\"stamp_1\", \"stamp_2\"]\n",
    "df_pivot_diff = df_pivot.diff(axis=1)"
   ]
  },
  {
   "cell_type": "code",
   "execution_count": 7,
   "id": "fifth-motion",
   "metadata": {
    "execution": {
     "iopub.execute_input": "2021-08-18T16:00:08.336259Z",
     "iopub.status.busy": "2021-08-18T16:00:08.333826Z",
     "iopub.status.idle": "2021-08-18T16:00:09.843202Z",
     "shell.execute_reply": "2021-08-18T16:00:09.844770Z"
    },
    "papermill": {
     "duration": 1.542987,
     "end_time": "2021-08-18T16:00:09.845271",
     "exception": false,
     "start_time": "2021-08-18T16:00:08.302284",
     "status": "completed"
    },
    "tags": []
   },
   "outputs": [
    {
     "data": {
      "text/plain": [
       "<AxesSubplot:ylabel='PRODUCT'>"
      ]
     },
     "execution_count": 7,
     "metadata": {},
     "output_type": "execute_result"
    },
    {
     "data": {
      "image/png": "[encoded data removed]",
      "text/plain": [
       "<Figure size 432x288 with 1 Axes>"
      ]
     },
     "metadata": {
      "needs_background": "light"
     },
     "output_type": "display_data"
    }
   ],
   "source": [
    "df_pivot_diff.sort_values(\"stamp_2\", ascending = False)[\"stamp_2\"].head(10).plot.barh()"
   ]
  },
  {
   "cell_type": "code",
   "execution_count": null,
   "id": "extra-executive",
   "metadata": {
    "papermill": {
     "duration": 0.022046,
     "end_time": "2021-08-18T16:00:09.891443",
     "exception": false,
     "start_time": "2021-08-18T16:00:09.869397",
     "status": "completed"
    },
    "tags": []
   },
   "outputs": [],
   "source": []
  }
 ],
 "metadata": {
  "kernelspec": {
   "display_name": "Python 3",
   "language": "python",
   "name": "python3"
  },
  "language_info": {
   "codemirror_mode": {
    "name": "ipython",
    "version": 3
   },
   "file_extension": ".py",
   "mimetype": "text/x-python",
   "name": "python",
   "nbconvert_exporter": "python",
   "pygments_lexer": "ipython3",
   "version": "3.9.5"
  },
  "papermill": {
   "default_parameters": {},
   "duration": 6.827098,
   "end_time": "2021-08-18T16:00:11.305425",
   "environment_variables": {},
   "exception": null,
   "input_path": "eBay_Overview.ipynb",
   "output_path": "eBay_Overview.ipynb",
   "parameters": {},
   "start_time": "2021-08-18T16:00:04.478327",
   "version": "2.3.3"
  }
 },
 "nbformat": 4,
 "nbformat_minor": 5
}