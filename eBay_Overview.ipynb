{
 "cells": [
  {
   "cell_type": "code",
   "execution_count": 1,
   "id": "reverse-picking",
   "metadata": {
    "execution": {
     "iopub.execute_input": "2021-11-20T15:30:08.285285Z",
     "iopub.status.busy": "2021-11-20T15:30:08.282873Z",
     "iopub.status.idle": "2021-11-20T15:30:09.258399Z",
     "shell.execute_reply": "2021-11-20T15:30:09.259812Z"
    },
    "papermill": {
     "duration": 1.024468,
     "end_time": "2021-11-20T15:30:09.260532",
     "exception": false,
     "start_time": "2021-11-20T15:30:08.236064",
     "status": "completed"
    },
    "tags": []
   },
   "outputs": [],
   "source": [
    "import pandas as pd\n",
    "import sqlite3"
   ]
  },
  {
   "cell_type": "code",
   "execution_count": 2,
   "id": "innovative-syndrome",
   "metadata": {
    "execution": {
     "iopub.execute_input": "2021-11-20T15:30:09.324004Z",
     "iopub.status.busy": "2021-11-20T15:30:09.321077Z",
     "iopub.status.idle": "2021-11-20T15:30:10.199283Z",
     "shell.execute_reply": "2021-11-20T15:30:10.200493Z"
    },
    "papermill": {
     "duration": 0.910844,
     "end_time": "2021-11-20T15:30:10.200976",
     "exception": false,
     "start_time": "2021-11-20T15:30:09.290132",
     "status": "completed"
    },
    "tags": []
   },
   "outputs": [],
   "source": [
    "timestamps = pd.read_sql(\"select distinct record_time from EBAY_TOP_BERLIN order by record_time desc limit 2\", sqlite3.connect(\"UsedObjects.db\"))"
   ]
  },
  {
   "cell_type": "code",
   "execution_count": 3,
   "id": "periodic-identification",
   "metadata": {
    "execution": {
     "iopub.execute_input": "2021-11-20T15:30:10.268180Z",
     "iopub.status.busy": "2021-11-20T15:30:10.265910Z",
     "iopub.status.idle": "2021-11-20T15:30:10.287865Z",
     "shell.execute_reply": "2021-11-20T15:30:10.289292Z"
    },
    "papermill": {
     "duration": 0.069385,
     "end_time": "2021-11-20T15:30:10.289777",
     "exception": false,
     "start_time": "2021-11-20T15:30:10.220392",
     "status": "completed"
    },
    "tags": []
   },
   "outputs": [
    {
     "data": {
      "text/html": [
       "<div>\n",
       "<style scoped>\n",
       "    .dataframe tbody tr th:only-of-type {\n",
       "        vertical-align: middle;\n",
       "    }\n",
       "\n",
       "    .dataframe tbody tr th {\n",
       "        vertical-align: top;\n",
       "    }\n",
       "\n",
       "    .dataframe thead th {\n",
       "        text-align: right;\n",
       "    }\n",
       "</style>\n",
       "<table border=\"1\" class=\"dataframe\">\n",
       "  <thead>\n",
       "    <tr style=\"text-align: right;\">\n",
       "      <th></th>\n",
       "      <th>RECORD_TIME</th>\n",
       "    </tr>\n",
       "  </thead>\n",
       "  <tbody>\n",
       "    <tr>\n",
       "      <th>0</th>\n",
       "      <td>2021-11-20 16:30</td>\n",
       "    </tr>\n",
       "    <tr>\n",
       "      <th>1</th>\n",
       "      <td>2021-11-20 16:00</td>\n",
       "    </tr>\n",
       "  </tbody>\n",
       "</table>\n",
       "</div>"
      ],
      "text/plain": [
       "        RECORD_TIME\n",
       "0  2021-11-20 16:30\n",
       "1  2021-11-20 16:00"
      ]
     },
     "execution_count": 3,
     "metadata": {},
     "output_type": "execute_result"
    }
   ],
   "source": [
    "timestamps"
   ]
  },
  {
   "cell_type": "code",
   "execution_count": 4,
   "id": "alternate-victory",
   "metadata": {
    "execution": {
     "iopub.execute_input": "2021-11-20T15:30:10.346916Z",
     "iopub.status.busy": "2021-11-20T15:30:10.344857Z",
     "iopub.status.idle": "2021-11-20T15:30:11.615981Z",
     "shell.execute_reply": "2021-11-20T15:30:11.617742Z"
    },
    "papermill": {
     "duration": 1.306723,
     "end_time": "2021-11-20T15:30:11.618250",
     "exception": false,
     "start_time": "2021-11-20T15:30:10.311527",
     "status": "completed"
    },
    "tags": []
   },
   "outputs": [],
   "source": [
    "df = pd.read_sql(\"select * from EBAY_TOP_BERLIN where record_time in (select distinct record_time from EBAY_TOP_BERLIN order by record_time desc limit 2)\", sqlite3.connect(\"UsedObjects.db\"))"
   ]
  },
  {
   "cell_type": "code",
   "execution_count": 5,
   "id": "popular-active",
   "metadata": {
    "execution": {
     "iopub.execute_input": "2021-11-20T15:30:11.681315Z",
     "iopub.status.busy": "2021-11-20T15:30:11.678591Z",
     "iopub.status.idle": "2021-11-20T15:30:11.718456Z",
     "shell.execute_reply": "2021-11-20T15:30:11.719804Z"
    },
    "papermill": {
     "duration": 0.080421,
     "end_time": "2021-11-20T15:30:11.720276",
     "exception": false,
     "start_time": "2021-11-20T15:30:11.639855",
     "status": "completed"
    },
    "tags": []
   },
   "outputs": [],
   "source": [
    "df_pivot = df.pivot_table(index=\"PRODUCT\", columns = \"RECORD_TIME\", values = \"LISTING_COUNT\")"
   ]
  },
  {
   "cell_type": "code",
   "execution_count": 6,
   "id": "union-huntington",
   "metadata": {
    "execution": {
     "iopub.execute_input": "2021-11-20T15:30:11.778561Z",
     "iopub.status.busy": "2021-11-20T15:30:11.776307Z",
     "iopub.status.idle": "2021-11-20T15:30:11.782325Z",
     "shell.execute_reply": "2021-11-20T15:30:11.783673Z"
    },
    "papermill": {
     "duration": 0.043497,
     "end_time": "2021-11-20T15:30:11.784137",
     "exception": false,
     "start_time": "2021-11-20T15:30:11.740640",
     "status": "completed"
    },
    "tags": []
   },
   "outputs": [],
   "source": [
    "df_pivot.columns = [\"stamp_1\", \"stamp_2\"]\n",
    "df_pivot_diff = df_pivot.diff(axis=1)"
   ]
  },
  {
   "cell_type": "code",
   "execution_count": 7,
   "id": "fifth-motion",
   "metadata": {
    "execution": {
     "iopub.execute_input": "2021-11-20T15:30:11.840919Z",
     "iopub.status.busy": "2021-11-20T15:30:11.838362Z",
     "iopub.status.idle": "2021-11-20T15:30:13.437194Z",
     "shell.execute_reply": "2021-11-20T15:30:13.438941Z"
    },
    "papermill": {
     "duration": 1.635671,
     "end_time": "2021-11-20T15:30:13.439475",
     "exception": false,
     "start_time": "2021-11-20T15:30:11.803804",
     "status": "completed"
    },
    "tags": []
   },
   "outputs": [
    {
     "data": {
      "text/plain": [
       "<AxesSubplot:ylabel='PRODUCT'>"
      ]
     },
     "execution_count": 7,
     "metadata": {},
     "output_type": "execute_result"
    },
    {
     "data": {
      "image/png": "[encoded data removed]",
      "text/plain": [
       "<Figure size 432x288 with 1 Axes>"
      ]
     },
     "metadata": {
      "needs_background": "light"
     },
     "output_type": "display_data"
    }
   ],
   "source": [
    "df_pivot_diff.sort_values(\"stamp_2\", ascending = False)[\"stamp_2\"].head(10).plot.barh()"
   ]
  },
  {
   "cell_type": "code",
   "execution_count": null,
   "id": "extra-executive",
   "metadata": {
    "papermill": {
     "duration": 0.022014,
     "end_time": "2021-11-20T15:30:13.485580",
     "exception": false,
     "start_time": "2021-11-20T15:30:13.463566",
     "status": "completed"
    },
    "tags": []
   },
   "outputs": [],
   "source": []
  }
 ],
 "metadata": {
  "kernelspec": {
   "display_name": "Python 3",
   "language": "python",
   "name": "python3"
  },
  "language_info": {
   "codemirror_mode": {
    "name": "ipython",
    "version": 3
   },
   "file_extension": ".py",
   "mimetype": "text/x-python",
   "name": "python",
   "nbconvert_exporter": "python",
   "pygments_lexer": "ipython3",
   "version": "3.9.5"
  },
  "papermill": {
   "default_parameters": {},
   "duration": 8.638913,
   "end_time": "2021-11-20T15:30:14.128267",
   "environment_variables": {},
   "exception": null,
   "input_path": "eBay_Overview.ipynb",
   "output_path": "eBay_Overview.ipynb",
   "parameters": {},
   "start_time": "2021-11-20T15:30:05.489354",
   "version": "2.3.3"
  }
 },
 "nbformat": 4,
 "nbformat_minor": 5
}