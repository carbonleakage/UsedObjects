{
 "cells": [
  {
   "cell_type": "code",
   "execution_count": 1,
   "id": "reverse-picking",
   "metadata": {
    "execution": {
     "iopub.execute_input": "2021-10-06T11:30:07.867472Z",
     "iopub.status.busy": "2021-10-06T11:30:07.865458Z",
     "iopub.status.idle": "2021-10-06T11:30:08.670730Z",
     "shell.execute_reply": "2021-10-06T11:30:08.672262Z"
    },
    "papermill": {
     "duration": 0.857309,
     "end_time": "2021-10-06T11:30:08.672946",
     "exception": false,
     "start_time": "2021-10-06T11:30:07.815637",
     "status": "completed"
    },
    "tags": []
   },
   "outputs": [],
   "source": [
    "import pandas as pd\n",
    "import sqlite3"
   ]
  },
  {
   "cell_type": "code",
   "execution_count": 2,
   "id": "innovative-syndrome",
   "metadata": {
    "execution": {
     "iopub.execute_input": "2021-10-06T11:30:08.723385Z",
     "iopub.status.busy": "2021-10-06T11:30:08.721366Z",
     "iopub.status.idle": "2021-10-06T11:30:09.186975Z",
     "shell.execute_reply": "2021-10-06T11:30:09.188267Z"
    },
    "papermill": {
     "duration": 0.495877,
     "end_time": "2021-10-06T11:30:09.188688",
     "exception": false,
     "start_time": "2021-10-06T11:30:08.692811",
     "status": "completed"
    },
    "tags": []
   },
   "outputs": [],
   "source": [
    "timestamps = pd.read_sql(\"select distinct record_time from EBAY_TOP_BERLIN order by record_time desc limit 2\", sqlite3.connect(\"UsedObjects.db\"))"
   ]
  },
  {
   "cell_type": "code",
   "execution_count": 3,
   "id": "periodic-identification",
   "metadata": {
    "execution": {
     "iopub.execute_input": "2021-10-06T11:30:09.254549Z",
     "iopub.status.busy": "2021-10-06T11:30:09.252548Z",
     "iopub.status.idle": "2021-10-06T11:30:09.272653Z",
     "shell.execute_reply": "2021-10-06T11:30:09.273843Z"
    },
    "papermill": {
     "duration": 0.064003,
     "end_time": "2021-10-06T11:30:09.274272",
     "exception": false,
     "start_time": "2021-10-06T11:30:09.210269",
     "status": "completed"
    },
    "tags": []
   },
   "outputs": [
    {
     "data": {
      "text/html": [
       "<div>\n",
       "<style scoped>\n",
       "    .dataframe tbody tr th:only-of-type {\n",
       "        vertical-align: middle;\n",
       "    }\n",
       "\n",
       "    .dataframe tbody tr th {\n",
       "        vertical-align: top;\n",
       "    }\n",
       "\n",
       "    .dataframe thead th {\n",
       "        text-align: right;\n",
       "    }\n",
       "</style>\n",
       "<table border=\"1\" class=\"dataframe\">\n",
       "  <thead>\n",
       "    <tr style=\"text-align: right;\">\n",
       "      <th></th>\n",
       "      <th>RECORD_TIME</th>\n",
       "    </tr>\n",
       "  </thead>\n",
       "  <tbody>\n",
       "    <tr>\n",
       "      <th>0</th>\n",
       "      <td>2021-10-06 13:30</td>\n",
       "    </tr>\n",
       "    <tr>\n",
       "      <th>1</th>\n",
       "      <td>2021-10-06 13:00</td>\n",
       "    </tr>\n",
       "  </tbody>\n",
       "</table>\n",
       "</div>"
      ],
      "text/plain": [
       "        RECORD_TIME\n",
       "0  2021-10-06 13:30\n",
       "1  2021-10-06 13:00"
      ]
     },
     "execution_count": 3,
     "metadata": {},
     "output_type": "execute_result"
    }
   ],
   "source": [
    "timestamps"
   ]
  },
  {
   "cell_type": "code",
   "execution_count": 4,
   "id": "alternate-victory",
   "metadata": {
    "execution": {
     "iopub.execute_input": "2021-10-06T11:30:09.336160Z",
     "iopub.status.busy": "2021-10-06T11:30:09.333771Z",
     "iopub.status.idle": "2021-10-06T11:30:10.011137Z",
     "shell.execute_reply": "2021-10-06T11:30:10.012517Z"
    },
    "papermill": {
     "duration": 0.709963,
     "end_time": "2021-10-06T11:30:10.012933",
     "exception": false,
     "start_time": "2021-10-06T11:30:09.302970",
     "status": "completed"
    },
    "tags": []
   },
   "outputs": [],
   "source": [
    "df = pd.read_sql(\"select * from EBAY_TOP_BERLIN where record_time in (select distinct record_time from EBAY_TOP_BERLIN order by record_time desc limit 2)\", sqlite3.connect(\"UsedObjects.db\"))"
   ]
  },
  {
   "cell_type": "code",
   "execution_count": 5,
   "id": "popular-active",
   "metadata": {
    "execution": {
     "iopub.execute_input": "2021-10-06T11:30:10.092430Z",
     "iopub.status.busy": "2021-10-06T11:30:10.073121Z",
     "iopub.status.idle": "2021-10-06T11:30:10.100806Z",
     "shell.execute_reply": "2021-10-06T11:30:10.102015Z"
    },
    "papermill": {
     "duration": 0.068864,
     "end_time": "2021-10-06T11:30:10.102414",
     "exception": false,
     "start_time": "2021-10-06T11:30:10.033550",
     "status": "completed"
    },
    "tags": []
   },
   "outputs": [],
   "source": [
    "df_pivot = df.pivot_table(index=\"PRODUCT\", columns = \"RECORD_TIME\", values = \"LISTING_COUNT\")"
   ]
  },
  {
   "cell_type": "code",
   "execution_count": 6,
   "id": "union-huntington",
   "metadata": {
    "execution": {
     "iopub.execute_input": "2021-10-06T11:30:10.159144Z",
     "iopub.status.busy": "2021-10-06T11:30:10.157033Z",
     "iopub.status.idle": "2021-10-06T11:30:10.162089Z",
     "shell.execute_reply": "2021-10-06T11:30:10.163703Z"
    },
    "papermill": {
     "duration": 0.040757,
     "end_time": "2021-10-06T11:30:10.164165",
     "exception": false,
     "start_time": "2021-10-06T11:30:10.123408",
     "status": "completed"
    },
    "tags": []
   },
   "outputs": [],
   "source": [
    "df_pivot.columns = [\"stamp_1\", \"stamp_2\"]\n",
    "df_pivot_diff = df_pivot.diff(axis=1)"
   ]
  },
  {
   "cell_type": "code",
   "execution_count": 7,
   "id": "fifth-motion",
   "metadata": {
    "execution": {
     "iopub.execute_input": "2021-10-06T11:30:10.219938Z",
     "iopub.status.busy": "2021-10-06T11:30:10.217219Z",
     "iopub.status.idle": "2021-10-06T11:30:11.729549Z",
     "shell.execute_reply": "2021-10-06T11:30:11.731039Z"
    },
    "papermill": {
     "duration": 1.546235,
     "end_time": "2021-10-06T11:30:11.731515",
     "exception": false,
     "start_time": "2021-10-06T11:30:10.185280",
     "status": "completed"
    },
    "tags": []
   },
   "outputs": [
    {
     "data": {
      "text/plain": [
       "<AxesSubplot:ylabel='PRODUCT'>"
      ]
     },
     "execution_count": 7,
     "metadata": {},
     "output_type": "execute_result"
    },
    {
     "data": {
      "image/png": "[encoded data removed]",
      "text/plain": [
       "<Figure size 432x288 with 1 Axes>"
      ]
     },
     "metadata": {
      "needs_background": "light"
     },
     "output_type": "display_data"
    }
   ],
   "source": [
    "df_pivot_diff.sort_values(\"stamp_2\", ascending = False)[\"stamp_2\"].head(10).plot.barh()"
   ]
  },
  {
   "cell_type": "code",
   "execution_count": null,
   "id": "extra-executive",
   "metadata": {
    "papermill": {
     "duration": 0.02231,
     "end_time": "2021-10-06T11:30:11.778476",
     "exception": false,
     "start_time": "2021-10-06T11:30:11.756166",
     "status": "completed"
    },
    "tags": []
   },
   "outputs": [],
   "source": []
  }
 ],
 "metadata": {
  "kernelspec": {
   "display_name": "Python 3",
   "language": "python",
   "name": "python3"
  },
  "language_info": {
   "codemirror_mode": {
    "name": "ipython",
    "version": 3
   },
   "file_extension": ".py",
   "mimetype": "text/x-python",
   "name": "python",
   "nbconvert_exporter": "python",
   "pygments_lexer": "ipython3",
   "version": "3.9.5"
  },
  "papermill": {
   "default_parameters": {},
   "duration": 7.823885,
   "end_time": "2021-10-06T11:30:13.232447",
   "environment_variables": {},
   "exception": null,
   "input_path": "eBay_Overview.ipynb",
   "output_path": "eBay_Overview.ipynb",
   "parameters": {},
   "start_time": "2021-10-06T11:30:05.408562",
   "version": "2.3.3"
  }
 },
 "nbformat": 4,
 "nbformat_minor": 5
}