{
 "cells": [
  {
   "cell_type": "code",
   "execution_count": 1,
   "id": "reverse-picking",
   "metadata": {
    "execution": {
     "iopub.execute_input": "2021-08-28T15:00:06.608748Z",
     "iopub.status.busy": "2021-08-28T15:00:06.606719Z",
     "iopub.status.idle": "2021-08-28T15:00:07.411290Z",
     "shell.execute_reply": "2021-08-28T15:00:07.412668Z"
    },
    "papermill": {
     "duration": 0.856055,
     "end_time": "2021-08-28T15:00:07.413323",
     "exception": false,
     "start_time": "2021-08-28T15:00:06.557268",
     "status": "completed"
    },
    "tags": []
   },
   "outputs": [],
   "source": [
    "import pandas as pd\n",
    "import sqlite3"
   ]
  },
  {
   "cell_type": "code",
   "execution_count": 2,
   "id": "innovative-syndrome",
   "metadata": {
    "execution": {
     "iopub.execute_input": "2021-08-28T15:00:07.463747Z",
     "iopub.status.busy": "2021-08-28T15:00:07.461729Z",
     "iopub.status.idle": "2021-08-28T15:00:07.612836Z",
     "shell.execute_reply": "2021-08-28T15:00:07.614270Z"
    },
    "papermill": {
     "duration": 0.181181,
     "end_time": "2021-08-28T15:00:07.614700",
     "exception": false,
     "start_time": "2021-08-28T15:00:07.433519",
     "status": "completed"
    },
    "tags": []
   },
   "outputs": [],
   "source": [
    "timestamps = pd.read_sql(\"select distinct record_time from EBAY_TOP_BERLIN order by record_time desc limit 2\", sqlite3.connect(\"UsedObjects.db\"))"
   ]
  },
  {
   "cell_type": "code",
   "execution_count": 3,
   "id": "periodic-identification",
   "metadata": {
    "execution": {
     "iopub.execute_input": "2021-08-28T15:00:07.681714Z",
     "iopub.status.busy": "2021-08-28T15:00:07.676772Z",
     "iopub.status.idle": "2021-08-28T15:00:07.697576Z",
     "shell.execute_reply": "2021-08-28T15:00:07.698850Z"
    },
    "papermill": {
     "duration": 0.065159,
     "end_time": "2021-08-28T15:00:07.699301",
     "exception": false,
     "start_time": "2021-08-28T15:00:07.634142",
     "status": "completed"
    },
    "tags": []
   },
   "outputs": [
    {
     "data": {
      "text/html": [
       "<div>\n",
       "<style scoped>\n",
       "    .dataframe tbody tr th:only-of-type {\n",
       "        vertical-align: middle;\n",
       "    }\n",
       "\n",
       "    .dataframe tbody tr th {\n",
       "        vertical-align: top;\n",
       "    }\n",
       "\n",
       "    .dataframe thead th {\n",
       "        text-align: right;\n",
       "    }\n",
       "</style>\n",
       "<table border=\"1\" class=\"dataframe\">\n",
       "  <thead>\n",
       "    <tr style=\"text-align: right;\">\n",
       "      <th></th>\n",
       "      <th>RECORD_TIME</th>\n",
       "    </tr>\n",
       "  </thead>\n",
       "  <tbody>\n",
       "    <tr>\n",
       "      <th>0</th>\n",
       "      <td>2021-08-28 17:00</td>\n",
       "    </tr>\n",
       "    <tr>\n",
       "      <th>1</th>\n",
       "      <td>2021-08-28 16:30</td>\n",
       "    </tr>\n",
       "  </tbody>\n",
       "</table>\n",
       "</div>"
      ],
      "text/plain": [
       "        RECORD_TIME\n",
       "0  2021-08-28 17:00\n",
       "1  2021-08-28 16:30"
      ]
     },
     "execution_count": 3,
     "metadata": {},
     "output_type": "execute_result"
    }
   ],
   "source": [
    "timestamps"
   ]
  },
  {
   "cell_type": "code",
   "execution_count": 4,
   "id": "alternate-victory",
   "metadata": {
    "execution": {
     "iopub.execute_input": "2021-08-28T15:00:07.751867Z",
     "iopub.status.busy": "2021-08-28T15:00:07.749598Z",
     "iopub.status.idle": "2021-08-28T15:00:07.972658Z",
     "shell.execute_reply": "2021-08-28T15:00:07.974009Z"
    },
    "papermill": {
     "duration": 0.253242,
     "end_time": "2021-08-28T15:00:07.974415",
     "exception": false,
     "start_time": "2021-08-28T15:00:07.721173",
     "status": "completed"
    },
    "tags": []
   },
   "outputs": [],
   "source": [
    "df = pd.read_sql(\"select * from EBAY_TOP_BERLIN where record_time in (select distinct record_time from EBAY_TOP_BERLIN order by record_time desc limit 2)\", sqlite3.connect(\"UsedObjects.db\"))"
   ]
  },
  {
   "cell_type": "code",
   "execution_count": 5,
   "id": "popular-active",
   "metadata": {
    "execution": {
     "iopub.execute_input": "2021-08-28T15:00:08.047995Z",
     "iopub.status.busy": "2021-08-28T15:00:08.036791Z",
     "iopub.status.idle": "2021-08-28T15:00:08.063739Z",
     "shell.execute_reply": "2021-08-28T15:00:08.065153Z"
    },
    "papermill": {
     "duration": 0.068516,
     "end_time": "2021-08-28T15:00:08.065592",
     "exception": false,
     "start_time": "2021-08-28T15:00:07.997076",
     "status": "completed"
    },
    "tags": []
   },
   "outputs": [],
   "source": [
    "df_pivot = df.pivot_table(index=\"PRODUCT\", columns = \"RECORD_TIME\", values = \"LISTING_COUNT\")"
   ]
  },
  {
   "cell_type": "code",
   "execution_count": 6,
   "id": "union-huntington",
   "metadata": {
    "execution": {
     "iopub.execute_input": "2021-08-28T15:00:08.128320Z",
     "iopub.status.busy": "2021-08-28T15:00:08.125878Z",
     "iopub.status.idle": "2021-08-28T15:00:08.131810Z",
     "shell.execute_reply": "2021-08-28T15:00:08.133375Z"
    },
    "papermill": {
     "duration": 0.04507,
     "end_time": "2021-08-28T15:00:08.133837",
     "exception": false,
     "start_time": "2021-08-28T15:00:08.088767",
     "status": "completed"
    },
    "tags": []
   },
   "outputs": [],
   "source": [
    "df_pivot.columns = [\"stamp_1\", \"stamp_2\"]\n",
    "df_pivot_diff = df_pivot.diff(axis=1)"
   ]
  },
  {
   "cell_type": "code",
   "execution_count": 7,
   "id": "fifth-motion",
   "metadata": {
    "execution": {
     "iopub.execute_input": "2021-08-28T15:00:08.190094Z",
     "iopub.status.busy": "2021-08-28T15:00:08.187529Z",
     "iopub.status.idle": "2021-08-28T15:00:09.688587Z",
     "shell.execute_reply": "2021-08-28T15:00:09.690066Z"
    },
    "papermill": {
     "duration": 1.534387,
     "end_time": "2021-08-28T15:00:09.690542",
     "exception": false,
     "start_time": "2021-08-28T15:00:08.156155",
     "status": "completed"
    },
    "tags": []
   },
   "outputs": [
    {
     "data": {
      "text/plain": [
       "<AxesSubplot:ylabel='PRODUCT'>"
      ]
     },
     "execution_count": 7,
     "metadata": {},
     "output_type": "execute_result"
    },
    {
     "data": {
      "image/png": "[encoded data removed]",
      "text/plain": [
       "<Figure size 432x288 with 1 Axes>"
      ]
     },
     "metadata": {
      "needs_background": "light"
     },
     "output_type": "display_data"
    }
   ],
   "source": [
    "df_pivot_diff.sort_values(\"stamp_2\", ascending = False)[\"stamp_2\"].head(10).plot.barh()"
   ]
  },
  {
   "cell_type": "code",
   "execution_count": null,
   "id": "extra-executive",
   "metadata": {
    "papermill": {
     "duration": 0.022043,
     "end_time": "2021-08-28T15:00:09.736587",
     "exception": false,
     "start_time": "2021-08-28T15:00:09.714544",
     "status": "completed"
    },
    "tags": []
   },
   "outputs": [],
   "source": []
  }
 ],
 "metadata": {
  "kernelspec": {
   "display_name": "Python 3",
   "language": "python",
   "name": "python3"
  },
  "language_info": {
   "codemirror_mode": {
    "name": "ipython",
    "version": 3
   },
   "file_extension": ".py",
   "mimetype": "text/x-python",
   "name": "python",
   "nbconvert_exporter": "python",
   "pygments_lexer": "ipython3",
   "version": "3.9.5"
  },
  "papermill": {
   "default_parameters": {},
   "duration": 6.815291,
   "end_time": "2021-08-28T15:00:10.973240",
   "environment_variables": {},
   "exception": null,
   "input_path": "eBay_Overview.ipynb",
   "output_path": "eBay_Overview.ipynb",
   "parameters": {},
   "start_time": "2021-08-28T15:00:04.157949",
   "version": "2.3.3"
  }
 },
 "nbformat": 4,
 "nbformat_minor": 5
}