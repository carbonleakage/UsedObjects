{
 "cells": [
  {
   "cell_type": "code",
   "execution_count": 1,
   "id": "reverse-picking",
   "metadata": {
    "execution": {
     "iopub.execute_input": "2021-11-07T21:30:07.598817Z",
     "iopub.status.busy": "2021-11-07T21:30:07.596255Z",
     "iopub.status.idle": "2021-11-07T21:30:08.549538Z",
     "shell.execute_reply": "2021-11-07T21:30:08.551044Z"
    },
    "papermill": {
     "duration": 1.003478,
     "end_time": "2021-11-07T21:30:08.551821",
     "exception": false,
     "start_time": "2021-11-07T21:30:07.548343",
     "status": "completed"
    },
    "tags": []
   },
   "outputs": [],
   "source": [
    "import pandas as pd\n",
    "import sqlite3"
   ]
  },
  {
   "cell_type": "code",
   "execution_count": 2,
   "id": "innovative-syndrome",
   "metadata": {
    "execution": {
     "iopub.execute_input": "2021-11-07T21:30:08.611750Z",
     "iopub.status.busy": "2021-11-07T21:30:08.609413Z",
     "iopub.status.idle": "2021-11-07T21:30:09.351042Z",
     "shell.execute_reply": "2021-11-07T21:30:09.352465Z"
    },
    "papermill": {
     "duration": 0.778698,
     "end_time": "2021-11-07T21:30:09.353070",
     "exception": false,
     "start_time": "2021-11-07T21:30:08.574372",
     "status": "completed"
    },
    "tags": []
   },
   "outputs": [],
   "source": [
    "timestamps = pd.read_sql(\"select distinct record_time from EBAY_TOP_BERLIN order by record_time desc limit 2\", sqlite3.connect(\"UsedObjects.db\"))"
   ]
  },
  {
   "cell_type": "code",
   "execution_count": 3,
   "id": "periodic-identification",
   "metadata": {
    "execution": {
     "iopub.execute_input": "2021-11-07T21:30:09.426622Z",
     "iopub.status.busy": "2021-11-07T21:30:09.424136Z",
     "iopub.status.idle": "2021-11-07T21:30:09.447825Z",
     "shell.execute_reply": "2021-11-07T21:30:09.449446Z"
    },
    "papermill": {
     "duration": 0.075886,
     "end_time": "2021-11-07T21:30:09.449959",
     "exception": false,
     "start_time": "2021-11-07T21:30:09.374073",
     "status": "completed"
    },
    "tags": []
   },
   "outputs": [
    {
     "data": {
      "text/html": [
       "<div>\n",
       "<style scoped>\n",
       "    .dataframe tbody tr th:only-of-type {\n",
       "        vertical-align: middle;\n",
       "    }\n",
       "\n",
       "    .dataframe tbody tr th {\n",
       "        vertical-align: top;\n",
       "    }\n",
       "\n",
       "    .dataframe thead th {\n",
       "        text-align: right;\n",
       "    }\n",
       "</style>\n",
       "<table border=\"1\" class=\"dataframe\">\n",
       "  <thead>\n",
       "    <tr style=\"text-align: right;\">\n",
       "      <th></th>\n",
       "      <th>RECORD_TIME</th>\n",
       "    </tr>\n",
       "  </thead>\n",
       "  <tbody>\n",
       "    <tr>\n",
       "      <th>0</th>\n",
       "      <td>2021-11-07 22:30</td>\n",
       "    </tr>\n",
       "    <tr>\n",
       "      <th>1</th>\n",
       "      <td>2021-11-07 22:00</td>\n",
       "    </tr>\n",
       "  </tbody>\n",
       "</table>\n",
       "</div>"
      ],
      "text/plain": [
       "        RECORD_TIME\n",
       "0  2021-11-07 22:30\n",
       "1  2021-11-07 22:00"
      ]
     },
     "execution_count": 3,
     "metadata": {},
     "output_type": "execute_result"
    }
   ],
   "source": [
    "timestamps"
   ]
  },
  {
   "cell_type": "code",
   "execution_count": 4,
   "id": "alternate-victory",
   "metadata": {
    "execution": {
     "iopub.execute_input": "2021-11-07T21:30:09.519627Z",
     "iopub.status.busy": "2021-11-07T21:30:09.515708Z",
     "iopub.status.idle": "2021-11-07T21:30:10.599904Z",
     "shell.execute_reply": "2021-11-07T21:30:10.601374Z"
    },
    "papermill": {
     "duration": 1.129519,
     "end_time": "2021-11-07T21:30:10.601848",
     "exception": false,
     "start_time": "2021-11-07T21:30:09.472329",
     "status": "completed"
    },
    "tags": []
   },
   "outputs": [],
   "source": [
    "df = pd.read_sql(\"select * from EBAY_TOP_BERLIN where record_time in (select distinct record_time from EBAY_TOP_BERLIN order by record_time desc limit 2)\", sqlite3.connect(\"UsedObjects.db\"))"
   ]
  },
  {
   "cell_type": "code",
   "execution_count": 5,
   "id": "popular-active",
   "metadata": {
    "execution": {
     "iopub.execute_input": "2021-11-07T21:30:10.678159Z",
     "iopub.status.busy": "2021-11-07T21:30:10.663809Z",
     "iopub.status.idle": "2021-11-07T21:30:10.697322Z",
     "shell.execute_reply": "2021-11-07T21:30:10.698977Z"
    },
    "papermill": {
     "duration": 0.07616,
     "end_time": "2021-11-07T21:30:10.699468",
     "exception": false,
     "start_time": "2021-11-07T21:30:10.623308",
     "status": "completed"
    },
    "tags": []
   },
   "outputs": [],
   "source": [
    "df_pivot = df.pivot_table(index=\"PRODUCT\", columns = \"RECORD_TIME\", values = \"LISTING_COUNT\")"
   ]
  },
  {
   "cell_type": "code",
   "execution_count": 6,
   "id": "union-huntington",
   "metadata": {
    "execution": {
     "iopub.execute_input": "2021-11-07T21:30:10.770665Z",
     "iopub.status.busy": "2021-11-07T21:30:10.769084Z",
     "iopub.status.idle": "2021-11-07T21:30:10.789320Z",
     "shell.execute_reply": "2021-11-07T21:30:10.787572Z"
    },
    "papermill": {
     "duration": 0.068877,
     "end_time": "2021-11-07T21:30:10.789680",
     "exception": false,
     "start_time": "2021-11-07T21:30:10.720803",
     "status": "completed"
    },
    "tags": []
   },
   "outputs": [],
   "source": [
    "df_pivot.columns = [\"stamp_1\", \"stamp_2\"]\n",
    "df_pivot_diff = df_pivot.diff(axis=1)"
   ]
  },
  {
   "cell_type": "code",
   "execution_count": 7,
   "id": "fifth-motion",
   "metadata": {
    "execution": {
     "iopub.execute_input": "2021-11-07T21:30:10.849207Z",
     "iopub.status.busy": "2021-11-07T21:30:10.846529Z",
     "iopub.status.idle": "2021-11-07T21:30:12.639255Z",
     "shell.execute_reply": "2021-11-07T21:30:12.641237Z"
    },
    "papermill": {
     "duration": 1.830946,
     "end_time": "2021-11-07T21:30:12.641756",
     "exception": false,
     "start_time": "2021-11-07T21:30:10.810810",
     "status": "completed"
    },
    "tags": []
   },
   "outputs": [
    {
     "data": {
      "text/plain": [
       "<AxesSubplot:ylabel='PRODUCT'>"
      ]
     },
     "execution_count": 7,
     "metadata": {},
     "output_type": "execute_result"
    },
    {
     "data": {
      "image/png": "[encoded data removed]",
      "text/plain": [
       "<Figure size 432x288 with 1 Axes>"
      ]
     },
     "metadata": {
      "needs_background": "light"
     },
     "output_type": "display_data"
    }
   ],
   "source": [
    "df_pivot_diff.sort_values(\"stamp_2\", ascending = False)[\"stamp_2\"].head(10).plot.barh()"
   ]
  },
  {
   "cell_type": "code",
   "execution_count": null,
   "id": "extra-executive",
   "metadata": {
    "papermill": {
     "duration": 0.02361,
     "end_time": "2021-11-07T21:30:12.691257",
     "exception": false,
     "start_time": "2021-11-07T21:30:12.667647",
     "status": "completed"
    },
    "tags": []
   },
   "outputs": [],
   "source": []
  }
 ],
 "metadata": {
  "kernelspec": {
   "display_name": "Python 3",
   "language": "python",
   "name": "python3"
  },
  "language_info": {
   "codemirror_mode": {
    "name": "ipython",
    "version": 3
   },
   "file_extension": ".py",
   "mimetype": "text/x-python",
   "name": "python",
   "nbconvert_exporter": "python",
   "pygments_lexer": "ipython3",
   "version": "3.9.5"
  },
  "papermill": {
   "default_parameters": {},
   "duration": 8.742713,
   "end_time": "2021-11-07T21:30:13.438172",
   "environment_variables": {},
   "exception": null,
   "input_path": "eBay_Overview.ipynb",
   "output_path": "eBay_Overview.ipynb",
   "parameters": {},
   "start_time": "2021-11-07T21:30:04.695459",
   "version": "2.3.3"
  }
 },
 "nbformat": 4,
 "nbformat_minor": 5
}