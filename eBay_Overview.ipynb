{
 "cells": [
  {
   "cell_type": "code",
   "execution_count": 1,
   "id": "reverse-picking",
   "metadata": {
    "execution": {
     "iopub.execute_input": "2021-10-13T01:30:07.304007Z",
     "iopub.status.busy": "2021-10-13T01:30:07.302029Z",
     "iopub.status.idle": "2021-10-13T01:30:08.105485Z",
     "shell.execute_reply": "2021-10-13T01:30:08.106708Z"
    },
    "papermill": {
     "duration": 0.853517,
     "end_time": "2021-10-13T01:30:08.107336",
     "exception": false,
     "start_time": "2021-10-13T01:30:07.253819",
     "status": "completed"
    },
    "tags": []
   },
   "outputs": [],
   "source": [
    "import pandas as pd\n",
    "import sqlite3"
   ]
  },
  {
   "cell_type": "code",
   "execution_count": 2,
   "id": "innovative-syndrome",
   "metadata": {
    "execution": {
     "iopub.execute_input": "2021-10-13T01:30:08.159452Z",
     "iopub.status.busy": "2021-10-13T01:30:08.157291Z",
     "iopub.status.idle": "2021-10-13T01:30:08.682488Z",
     "shell.execute_reply": "2021-10-13T01:30:08.683673Z"
    },
    "papermill": {
     "duration": 0.555024,
     "end_time": "2021-10-13T01:30:08.684068",
     "exception": false,
     "start_time": "2021-10-13T01:30:08.129044",
     "status": "completed"
    },
    "tags": []
   },
   "outputs": [],
   "source": [
    "timestamps = pd.read_sql(\"select distinct record_time from EBAY_TOP_BERLIN order by record_time desc limit 2\", sqlite3.connect(\"UsedObjects.db\"))"
   ]
  },
  {
   "cell_type": "code",
   "execution_count": 3,
   "id": "periodic-identification",
   "metadata": {
    "execution": {
     "iopub.execute_input": "2021-10-13T01:30:08.751905Z",
     "iopub.status.busy": "2021-10-13T01:30:08.746570Z",
     "iopub.status.idle": "2021-10-13T01:30:08.766297Z",
     "shell.execute_reply": "2021-10-13T01:30:08.767507Z"
    },
    "papermill": {
     "duration": 0.064456,
     "end_time": "2021-10-13T01:30:08.767905",
     "exception": false,
     "start_time": "2021-10-13T01:30:08.703449",
     "status": "completed"
    },
    "tags": []
   },
   "outputs": [
    {
     "data": {
      "text/html": [
       "<div>\n",
       "<style scoped>\n",
       "    .dataframe tbody tr th:only-of-type {\n",
       "        vertical-align: middle;\n",
       "    }\n",
       "\n",
       "    .dataframe tbody tr th {\n",
       "        vertical-align: top;\n",
       "    }\n",
       "\n",
       "    .dataframe thead th {\n",
       "        text-align: right;\n",
       "    }\n",
       "</style>\n",
       "<table border=\"1\" class=\"dataframe\">\n",
       "  <thead>\n",
       "    <tr style=\"text-align: right;\">\n",
       "      <th></th>\n",
       "      <th>RECORD_TIME</th>\n",
       "    </tr>\n",
       "  </thead>\n",
       "  <tbody>\n",
       "    <tr>\n",
       "      <th>0</th>\n",
       "      <td>2021-10-13 03:30</td>\n",
       "    </tr>\n",
       "    <tr>\n",
       "      <th>1</th>\n",
       "      <td>2021-10-13 03:00</td>\n",
       "    </tr>\n",
       "  </tbody>\n",
       "</table>\n",
       "</div>"
      ],
      "text/plain": [
       "        RECORD_TIME\n",
       "0  2021-10-13 03:30\n",
       "1  2021-10-13 03:00"
      ]
     },
     "execution_count": 3,
     "metadata": {},
     "output_type": "execute_result"
    }
   ],
   "source": [
    "timestamps"
   ]
  },
  {
   "cell_type": "code",
   "execution_count": 4,
   "id": "alternate-victory",
   "metadata": {
    "execution": {
     "iopub.execute_input": "2021-10-13T01:30:08.838466Z",
     "iopub.status.busy": "2021-10-13T01:30:08.836535Z",
     "iopub.status.idle": "2021-10-13T01:30:09.603669Z",
     "shell.execute_reply": "2021-10-13T01:30:09.604994Z"
    },
    "papermill": {
     "duration": 0.804031,
     "end_time": "2021-10-13T01:30:09.605428",
     "exception": false,
     "start_time": "2021-10-13T01:30:08.801397",
     "status": "completed"
    },
    "tags": []
   },
   "outputs": [],
   "source": [
    "df = pd.read_sql(\"select * from EBAY_TOP_BERLIN where record_time in (select distinct record_time from EBAY_TOP_BERLIN order by record_time desc limit 2)\", sqlite3.connect(\"UsedObjects.db\"))"
   ]
  },
  {
   "cell_type": "code",
   "execution_count": 5,
   "id": "popular-active",
   "metadata": {
    "execution": {
     "iopub.execute_input": "2021-10-13T01:30:09.678333Z",
     "iopub.status.busy": "2021-10-13T01:30:09.666050Z",
     "iopub.status.idle": "2021-10-13T01:30:09.695214Z",
     "shell.execute_reply": "2021-10-13T01:30:09.696671Z"
    },
    "papermill": {
     "duration": 0.070077,
     "end_time": "2021-10-13T01:30:09.697345",
     "exception": false,
     "start_time": "2021-10-13T01:30:09.627268",
     "status": "completed"
    },
    "tags": []
   },
   "outputs": [],
   "source": [
    "df_pivot = df.pivot_table(index=\"PRODUCT\", columns = \"RECORD_TIME\", values = \"LISTING_COUNT\")"
   ]
  },
  {
   "cell_type": "code",
   "execution_count": 6,
   "id": "union-huntington",
   "metadata": {
    "execution": {
     "iopub.execute_input": "2021-10-13T01:30:09.756450Z",
     "iopub.status.busy": "2021-10-13T01:30:09.754172Z",
     "iopub.status.idle": "2021-10-13T01:30:09.759805Z",
     "shell.execute_reply": "2021-10-13T01:30:09.761158Z"
    },
    "papermill": {
     "duration": 0.0419,
     "end_time": "2021-10-13T01:30:09.761584",
     "exception": false,
     "start_time": "2021-10-13T01:30:09.719684",
     "status": "completed"
    },
    "tags": []
   },
   "outputs": [],
   "source": [
    "df_pivot.columns = [\"stamp_1\", \"stamp_2\"]\n",
    "df_pivot_diff = df_pivot.diff(axis=1)"
   ]
  },
  {
   "cell_type": "code",
   "execution_count": 7,
   "id": "fifth-motion",
   "metadata": {
    "execution": {
     "iopub.execute_input": "2021-10-13T01:30:09.815913Z",
     "iopub.status.busy": "2021-10-13T01:30:09.813661Z",
     "iopub.status.idle": "2021-10-13T01:30:11.290373Z",
     "shell.execute_reply": "2021-10-13T01:30:11.291663Z"
    },
    "papermill": {
     "duration": 1.509927,
     "end_time": "2021-10-13T01:30:11.292081",
     "exception": false,
     "start_time": "2021-10-13T01:30:09.782154",
     "status": "completed"
    },
    "tags": []
   },
   "outputs": [
    {
     "data": {
      "text/plain": [
       "<AxesSubplot:ylabel='PRODUCT'>"
      ]
     },
     "execution_count": 7,
     "metadata": {},
     "output_type": "execute_result"
    },
    {
     "data": {
      "image/png": "[encoded data removed]",
      "text/plain": [
       "<Figure size 432x288 with 1 Axes>"
      ]
     },
     "metadata": {
      "needs_background": "light"
     },
     "output_type": "display_data"
    }
   ],
   "source": [
    "df_pivot_diff.sort_values(\"stamp_2\", ascending = False)[\"stamp_2\"].head(10).plot.barh()"
   ]
  },
  {
   "cell_type": "code",
   "execution_count": null,
   "id": "extra-executive",
   "metadata": {
    "papermill": {
     "duration": 0.02222,
     "end_time": "2021-10-13T01:30:11.337652",
     "exception": false,
     "start_time": "2021-10-13T01:30:11.315432",
     "status": "completed"
    },
    "tags": []
   },
   "outputs": [],
   "source": []
  }
 ],
 "metadata": {
  "kernelspec": {
   "display_name": "Python 3",
   "language": "python",
   "name": "python3"
  },
  "language_info": {
   "codemirror_mode": {
    "name": "ipython",
    "version": 3
   },
   "file_extension": ".py",
   "mimetype": "text/x-python",
   "name": "python",
   "nbconvert_exporter": "python",
   "pygments_lexer": "ipython3",
   "version": "3.9.5"
  },
  "papermill": {
   "default_parameters": {},
   "duration": 7.818145,
   "end_time": "2021-10-13T01:30:12.670120",
   "environment_variables": {},
   "exception": null,
   "input_path": "eBay_Overview.ipynb",
   "output_path": "eBay_Overview.ipynb",
   "parameters": {},
   "start_time": "2021-10-13T01:30:04.851975",
   "version": "2.3.3"
  }
 },
 "nbformat": 4,
 "nbformat_minor": 5
}