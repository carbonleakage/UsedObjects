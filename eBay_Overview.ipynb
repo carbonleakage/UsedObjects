{
 "cells": [
  {
   "cell_type": "code",
   "execution_count": 1,
   "id": "reverse-picking",
   "metadata": {
    "execution": {
     "iopub.execute_input": "2021-12-20T12:00:07.291402Z",
     "iopub.status.busy": "2021-12-20T12:00:07.289167Z",
     "iopub.status.idle": "2021-12-20T12:00:08.264810Z",
     "shell.execute_reply": "2021-12-20T12:00:08.262808Z"
    },
    "papermill": {
     "duration": 1.022849,
     "end_time": "2021-12-20T12:00:08.265311",
     "exception": false,
     "start_time": "2021-12-20T12:00:07.242462",
     "status": "completed"
    },
    "tags": []
   },
   "outputs": [],
   "source": [
    "import pandas as pd\n",
    "import sqlite3"
   ]
  },
  {
   "cell_type": "code",
   "execution_count": 2,
   "id": "innovative-syndrome",
   "metadata": {
    "execution": {
     "iopub.execute_input": "2021-12-20T12:00:08.327671Z",
     "iopub.status.busy": "2021-12-20T12:00:08.325533Z",
     "iopub.status.idle": "2021-12-20T12:00:09.468667Z",
     "shell.execute_reply": "2021-12-20T12:00:09.470299Z"
    },
    "papermill": {
     "duration": 1.177635,
     "end_time": "2021-12-20T12:00:09.470816",
     "exception": false,
     "start_time": "2021-12-20T12:00:08.293181",
     "status": "completed"
    },
    "tags": []
   },
   "outputs": [],
   "source": [
    "timestamps = pd.read_sql(\"select distinct record_time from EBAY_TOP_BERLIN order by record_time desc limit 2\", sqlite3.connect(\"UsedObjects.db\"))"
   ]
  },
  {
   "cell_type": "code",
   "execution_count": 3,
   "id": "periodic-identification",
   "metadata": {
    "execution": {
     "iopub.execute_input": "2021-12-20T12:00:09.542662Z",
     "iopub.status.busy": "2021-12-20T12:00:09.540261Z",
     "iopub.status.idle": "2021-12-20T12:00:09.563429Z",
     "shell.execute_reply": "2021-12-20T12:00:09.565047Z"
    },
    "papermill": {
     "duration": 0.073754,
     "end_time": "2021-12-20T12:00:09.565566",
     "exception": false,
     "start_time": "2021-12-20T12:00:09.491812",
     "status": "completed"
    },
    "tags": []
   },
   "outputs": [
    {
     "data": {
      "text/html": [
       "<div>\n",
       "<style scoped>\n",
       "    .dataframe tbody tr th:only-of-type {\n",
       "        vertical-align: middle;\n",
       "    }\n",
       "\n",
       "    .dataframe tbody tr th {\n",
       "        vertical-align: top;\n",
       "    }\n",
       "\n",
       "    .dataframe thead th {\n",
       "        text-align: right;\n",
       "    }\n",
       "</style>\n",
       "<table border=\"1\" class=\"dataframe\">\n",
       "  <thead>\n",
       "    <tr style=\"text-align: right;\">\n",
       "      <th></th>\n",
       "      <th>RECORD_TIME</th>\n",
       "    </tr>\n",
       "  </thead>\n",
       "  <tbody>\n",
       "    <tr>\n",
       "      <th>0</th>\n",
       "      <td>2021-12-20 13:00</td>\n",
       "    </tr>\n",
       "    <tr>\n",
       "      <th>1</th>\n",
       "      <td>2021-12-20 12:30</td>\n",
       "    </tr>\n",
       "  </tbody>\n",
       "</table>\n",
       "</div>"
      ],
      "text/plain": [
       "        RECORD_TIME\n",
       "0  2021-12-20 13:00\n",
       "1  2021-12-20 12:30"
      ]
     },
     "execution_count": 3,
     "metadata": {},
     "output_type": "execute_result"
    }
   ],
   "source": [
    "timestamps"
   ]
  },
  {
   "cell_type": "code",
   "execution_count": 4,
   "id": "alternate-victory",
   "metadata": {
    "execution": {
     "iopub.execute_input": "2021-12-20T12:00:09.622435Z",
     "iopub.status.busy": "2021-12-20T12:00:09.619629Z",
     "iopub.status.idle": "2021-12-20T12:00:11.238418Z",
     "shell.execute_reply": "2021-12-20T12:00:11.240553Z"
    },
    "papermill": {
     "duration": 1.654055,
     "end_time": "2021-12-20T12:00:11.241084",
     "exception": false,
     "start_time": "2021-12-20T12:00:09.587029",
     "status": "completed"
    },
    "tags": []
   },
   "outputs": [],
   "source": [
    "df = pd.read_sql(\"select * from EBAY_TOP_BERLIN where record_time in (select distinct record_time from EBAY_TOP_BERLIN order by record_time desc limit 2)\", sqlite3.connect(\"UsedObjects.db\"))"
   ]
  },
  {
   "cell_type": "code",
   "execution_count": 5,
   "id": "popular-active",
   "metadata": {
    "execution": {
     "iopub.execute_input": "2021-12-20T12:00:11.310536Z",
     "iopub.status.busy": "2021-12-20T12:00:11.302072Z",
     "iopub.status.idle": "2021-12-20T12:00:11.333951Z",
     "shell.execute_reply": "2021-12-20T12:00:11.335327Z"
    },
    "papermill": {
     "duration": 0.07403,
     "end_time": "2021-12-20T12:00:11.335816",
     "exception": false,
     "start_time": "2021-12-20T12:00:11.261786",
     "status": "completed"
    },
    "tags": []
   },
   "outputs": [],
   "source": [
    "df_pivot = df.pivot_table(index=\"PRODUCT\", columns = \"RECORD_TIME\", values = \"LISTING_COUNT\")"
   ]
  },
  {
   "cell_type": "code",
   "execution_count": 6,
   "id": "union-huntington",
   "metadata": {
    "execution": {
     "iopub.execute_input": "2021-12-20T12:00:11.399678Z",
     "iopub.status.busy": "2021-12-20T12:00:11.397424Z",
     "iopub.status.idle": "2021-12-20T12:00:11.402831Z",
     "shell.execute_reply": "2021-12-20T12:00:11.404319Z"
    },
    "papermill": {
     "duration": 0.047208,
     "end_time": "2021-12-20T12:00:11.404878",
     "exception": false,
     "start_time": "2021-12-20T12:00:11.357670",
     "status": "completed"
    },
    "tags": []
   },
   "outputs": [],
   "source": [
    "df_pivot.columns = [\"stamp_1\", \"stamp_2\"]\n",
    "df_pivot_diff = df_pivot.diff(axis=1)"
   ]
  },
  {
   "cell_type": "code",
   "execution_count": 7,
   "id": "fifth-motion",
   "metadata": {
    "execution": {
     "iopub.execute_input": "2021-12-20T12:00:11.465761Z",
     "iopub.status.busy": "2021-12-20T12:00:11.463145Z",
     "iopub.status.idle": "2021-12-20T12:00:13.416502Z",
     "shell.execute_reply": "2021-12-20T12:00:13.417874Z"
    },
    "papermill": {
     "duration": 1.991878,
     "end_time": "2021-12-20T12:00:13.418341",
     "exception": false,
     "start_time": "2021-12-20T12:00:11.426463",
     "status": "completed"
    },
    "tags": []
   },
   "outputs": [
    {
     "data": {
      "text/plain": [
       "<AxesSubplot:ylabel='PRODUCT'>"
      ]
     },
     "execution_count": 7,
     "metadata": {},
     "output_type": "execute_result"
    },
    {
     "data": {
      "image/png": "[encoded data removed]",
      "text/plain": [
       "<Figure size 432x288 with 1 Axes>"
      ]
     },
     "metadata": {
      "needs_background": "light"
     },
     "output_type": "display_data"
    }
   ],
   "source": [
    "df_pivot_diff.sort_values(\"stamp_2\", ascending = False)[\"stamp_2\"].head(10).plot.barh()"
   ]
  },
  {
   "cell_type": "code",
   "execution_count": null,
   "id": "extra-executive",
   "metadata": {
    "papermill": {
     "duration": 0.022348,
     "end_time": "2021-12-20T12:00:13.465152",
     "exception": false,
     "start_time": "2021-12-20T12:00:13.442804",
     "status": "completed"
    },
    "tags": []
   },
   "outputs": [],
   "source": []
  }
 ],
 "metadata": {
  "kernelspec": {
   "display_name": "Python 3",
   "language": "python",
   "name": "python3"
  },
  "language_info": {
   "codemirror_mode": {
    "name": "ipython",
    "version": 3
   },
   "file_extension": ".py",
   "mimetype": "text/x-python",
   "name": "python",
   "nbconvert_exporter": "python",
   "pygments_lexer": "ipython3",
   "version": "3.9.5"
  },
  "papermill": {
   "default_parameters": {},
   "duration": 9.614741,
   "end_time": "2021-12-20T12:00:14.108321",
   "environment_variables": {},
   "exception": null,
   "input_path": "eBay_Overview.ipynb",
   "output_path": "eBay_Overview.ipynb",
   "parameters": {},
   "start_time": "2021-12-20T12:00:04.493580",
   "version": "2.3.3"
  }
 },
 "nbformat": 4,
 "nbformat_minor": 5
}