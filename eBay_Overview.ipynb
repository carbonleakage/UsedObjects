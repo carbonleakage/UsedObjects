{
 "cells": [
  {
   "cell_type": "code",
   "execution_count": 1,
   "id": "reverse-picking",
   "metadata": {
    "execution": {
     "iopub.execute_input": "2021-08-29T09:00:07.340677Z",
     "iopub.status.busy": "2021-08-29T09:00:07.338645Z",
     "iopub.status.idle": "2021-08-29T09:00:08.141170Z",
     "shell.execute_reply": "2021-08-29T09:00:08.142484Z"
    },
    "papermill": {
     "duration": 0.853465,
     "end_time": "2021-08-29T09:00:08.143104",
     "exception": false,
     "start_time": "2021-08-29T09:00:07.289639",
     "status": "completed"
    },
    "tags": []
   },
   "outputs": [],
   "source": [
    "import pandas as pd\n",
    "import sqlite3"
   ]
  },
  {
   "cell_type": "code",
   "execution_count": 2,
   "id": "innovative-syndrome",
   "metadata": {
    "execution": {
     "iopub.execute_input": "2021-08-29T09:00:08.193361Z",
     "iopub.status.busy": "2021-08-29T09:00:08.191366Z",
     "iopub.status.idle": "2021-08-29T09:00:08.347198Z",
     "shell.execute_reply": "2021-08-29T09:00:08.348594Z"
    },
    "papermill": {
     "duration": 0.185184,
     "end_time": "2021-08-29T09:00:08.349023",
     "exception": false,
     "start_time": "2021-08-29T09:00:08.163839",
     "status": "completed"
    },
    "tags": []
   },
   "outputs": [],
   "source": [
    "timestamps = pd.read_sql(\"select distinct record_time from EBAY_TOP_BERLIN order by record_time desc limit 2\", sqlite3.connect(\"UsedObjects.db\"))"
   ]
  },
  {
   "cell_type": "code",
   "execution_count": 3,
   "id": "periodic-identification",
   "metadata": {
    "execution": {
     "iopub.execute_input": "2021-08-29T09:00:08.415326Z",
     "iopub.status.busy": "2021-08-29T09:00:08.413301Z",
     "iopub.status.idle": "2021-08-29T09:00:08.435544Z",
     "shell.execute_reply": "2021-08-29T09:00:08.437206Z"
    },
    "papermill": {
     "duration": 0.068077,
     "end_time": "2021-08-29T09:00:08.437711",
     "exception": false,
     "start_time": "2021-08-29T09:00:08.369634",
     "status": "completed"
    },
    "tags": []
   },
   "outputs": [
    {
     "data": {
      "text/html": [
       "<div>\n",
       "<style scoped>\n",
       "    .dataframe tbody tr th:only-of-type {\n",
       "        vertical-align: middle;\n",
       "    }\n",
       "\n",
       "    .dataframe tbody tr th {\n",
       "        vertical-align: top;\n",
       "    }\n",
       "\n",
       "    .dataframe thead th {\n",
       "        text-align: right;\n",
       "    }\n",
       "</style>\n",
       "<table border=\"1\" class=\"dataframe\">\n",
       "  <thead>\n",
       "    <tr style=\"text-align: right;\">\n",
       "      <th></th>\n",
       "      <th>RECORD_TIME</th>\n",
       "    </tr>\n",
       "  </thead>\n",
       "  <tbody>\n",
       "    <tr>\n",
       "      <th>0</th>\n",
       "      <td>2021-08-29 11:00</td>\n",
       "    </tr>\n",
       "    <tr>\n",
       "      <th>1</th>\n",
       "      <td>2021-08-29 10:30</td>\n",
       "    </tr>\n",
       "  </tbody>\n",
       "</table>\n",
       "</div>"
      ],
      "text/plain": [
       "        RECORD_TIME\n",
       "0  2021-08-29 11:00\n",
       "1  2021-08-29 10:30"
      ]
     },
     "execution_count": 3,
     "metadata": {},
     "output_type": "execute_result"
    }
   ],
   "source": [
    "timestamps"
   ]
  },
  {
   "cell_type": "code",
   "execution_count": 4,
   "id": "alternate-victory",
   "metadata": {
    "execution": {
     "iopub.execute_input": "2021-08-29T09:00:08.489660Z",
     "iopub.status.busy": "2021-08-29T09:00:08.487696Z",
     "iopub.status.idle": "2021-08-29T09:00:08.717087Z",
     "shell.execute_reply": "2021-08-29T09:00:08.718393Z"
    },
    "papermill": {
     "duration": 0.259221,
     "end_time": "2021-08-29T09:00:08.718854",
     "exception": false,
     "start_time": "2021-08-29T09:00:08.459633",
     "status": "completed"
    },
    "tags": []
   },
   "outputs": [],
   "source": [
    "df = pd.read_sql(\"select * from EBAY_TOP_BERLIN where record_time in (select distinct record_time from EBAY_TOP_BERLIN order by record_time desc limit 2)\", sqlite3.connect(\"UsedObjects.db\"))"
   ]
  },
  {
   "cell_type": "code",
   "execution_count": 5,
   "id": "popular-active",
   "metadata": {
    "execution": {
     "iopub.execute_input": "2021-08-29T09:00:08.789953Z",
     "iopub.status.busy": "2021-08-29T09:00:08.778287Z",
     "iopub.status.idle": "2021-08-29T09:00:08.805766Z",
     "shell.execute_reply": "2021-08-29T09:00:08.806978Z"
    },
    "papermill": {
     "duration": 0.067973,
     "end_time": "2021-08-29T09:00:08.807373",
     "exception": false,
     "start_time": "2021-08-29T09:00:08.739400",
     "status": "completed"
    },
    "tags": []
   },
   "outputs": [],
   "source": [
    "df_pivot = df.pivot_table(index=\"PRODUCT\", columns = \"RECORD_TIME\", values = \"LISTING_COUNT\")"
   ]
  },
  {
   "cell_type": "code",
   "execution_count": 6,
   "id": "union-huntington",
   "metadata": {
    "execution": {
     "iopub.execute_input": "2021-08-29T09:00:08.872409Z",
     "iopub.status.busy": "2021-08-29T09:00:08.870326Z",
     "iopub.status.idle": "2021-08-29T09:00:08.875796Z",
     "shell.execute_reply": "2021-08-29T09:00:08.877144Z"
    },
    "papermill": {
     "duration": 0.044807,
     "end_time": "2021-08-29T09:00:08.877563",
     "exception": false,
     "start_time": "2021-08-29T09:00:08.832756",
     "status": "completed"
    },
    "tags": []
   },
   "outputs": [],
   "source": [
    "df_pivot.columns = [\"stamp_1\", \"stamp_2\"]\n",
    "df_pivot_diff = df_pivot.diff(axis=1)"
   ]
  },
  {
   "cell_type": "code",
   "execution_count": 7,
   "id": "fifth-motion",
   "metadata": {
    "execution": {
     "iopub.execute_input": "2021-08-29T09:00:08.931698Z",
     "iopub.status.busy": "2021-08-29T09:00:08.929332Z",
     "iopub.status.idle": "2021-08-29T09:00:10.429806Z",
     "shell.execute_reply": "2021-08-29T09:00:10.431154Z"
    },
    "papermill": {
     "duration": 1.533031,
     "end_time": "2021-08-29T09:00:10.431639",
     "exception": false,
     "start_time": "2021-08-29T09:00:08.898608",
     "status": "completed"
    },
    "tags": []
   },
   "outputs": [
    {
     "data": {
      "text/plain": [
       "<AxesSubplot:ylabel='PRODUCT'>"
      ]
     },
     "execution_count": 7,
     "metadata": {},
     "output_type": "execute_result"
    },
    {
     "data": {
      "image/png": "[encoded data removed]",
      "text/plain": [
       "<Figure size 432x288 with 1 Axes>"
      ]
     },
     "metadata": {
      "needs_background": "light"
     },
     "output_type": "display_data"
    }
   ],
   "source": [
    "df_pivot_diff.sort_values(\"stamp_2\", ascending = False)[\"stamp_2\"].head(10).plot.barh()"
   ]
  },
  {
   "cell_type": "code",
   "execution_count": null,
   "id": "extra-executive",
   "metadata": {
    "papermill": {
     "duration": 0.02176,
     "end_time": "2021-08-29T09:00:10.477708",
     "exception": false,
     "start_time": "2021-08-29T09:00:10.455948",
     "status": "completed"
    },
    "tags": []
   },
   "outputs": [],
   "source": []
  }
 ],
 "metadata": {
  "kernelspec": {
   "display_name": "Python 3",
   "language": "python",
   "name": "python3"
  },
  "language_info": {
   "codemirror_mode": {
    "name": "ipython",
    "version": 3
   },
   "file_extension": ".py",
   "mimetype": "text/x-python",
   "name": "python",
   "nbconvert_exporter": "python",
   "pygments_lexer": "ipython3",
   "version": "3.9.5"
  },
  "papermill": {
   "default_parameters": {},
   "duration": 6.821094,
   "end_time": "2021-08-29T09:00:11.709438",
   "environment_variables": {},
   "exception": null,
   "input_path": "eBay_Overview.ipynb",
   "output_path": "eBay_Overview.ipynb",
   "parameters": {},
   "start_time": "2021-08-29T09:00:04.888344",
   "version": "2.3.3"
  }
 },
 "nbformat": 4,
 "nbformat_minor": 5
}