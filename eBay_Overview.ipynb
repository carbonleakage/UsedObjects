{
 "cells": [
  {
   "cell_type": "code",
   "execution_count": 1,
   "id": "reverse-picking",
   "metadata": {
    "execution": {
     "iopub.execute_input": "2021-10-13T22:00:06.768970Z",
     "iopub.status.busy": "2021-10-13T22:00:06.766957Z",
     "iopub.status.idle": "2021-10-13T22:00:07.567739Z",
     "shell.execute_reply": "2021-10-13T22:00:07.569070Z"
    },
    "papermill": {
     "duration": 0.850991,
     "end_time": "2021-10-13T22:00:07.569707",
     "exception": false,
     "start_time": "2021-10-13T22:00:06.718716",
     "status": "completed"
    },
    "tags": []
   },
   "outputs": [],
   "source": [
    "import pandas as pd\n",
    "import sqlite3"
   ]
  },
  {
   "cell_type": "code",
   "execution_count": 2,
   "id": "innovative-syndrome",
   "metadata": {
    "execution": {
     "iopub.execute_input": "2021-10-13T22:00:07.620177Z",
     "iopub.status.busy": "2021-10-13T22:00:07.618295Z",
     "iopub.status.idle": "2021-10-13T22:00:08.141442Z",
     "shell.execute_reply": "2021-10-13T22:00:08.142725Z"
    },
    "papermill": {
     "duration": 0.55253,
     "end_time": "2021-10-13T22:00:08.143127",
     "exception": false,
     "start_time": "2021-10-13T22:00:07.590597",
     "status": "completed"
    },
    "tags": []
   },
   "outputs": [],
   "source": [
    "timestamps = pd.read_sql(\"select distinct record_time from EBAY_TOP_BERLIN order by record_time desc limit 2\", sqlite3.connect(\"UsedObjects.db\"))"
   ]
  },
  {
   "cell_type": "code",
   "execution_count": 3,
   "id": "periodic-identification",
   "metadata": {
    "execution": {
     "iopub.execute_input": "2021-10-13T22:00:08.210730Z",
     "iopub.status.busy": "2021-10-13T22:00:08.205459Z",
     "iopub.status.idle": "2021-10-13T22:00:08.226276Z",
     "shell.execute_reply": "2021-10-13T22:00:08.227765Z"
    },
    "papermill": {
     "duration": 0.065618,
     "end_time": "2021-10-13T22:00:08.228227",
     "exception": false,
     "start_time": "2021-10-13T22:00:08.162609",
     "status": "completed"
    },
    "tags": []
   },
   "outputs": [
    {
     "data": {
      "text/html": [
       "<div>\n",
       "<style scoped>\n",
       "    .dataframe tbody tr th:only-of-type {\n",
       "        vertical-align: middle;\n",
       "    }\n",
       "\n",
       "    .dataframe tbody tr th {\n",
       "        vertical-align: top;\n",
       "    }\n",
       "\n",
       "    .dataframe thead th {\n",
       "        text-align: right;\n",
       "    }\n",
       "</style>\n",
       "<table border=\"1\" class=\"dataframe\">\n",
       "  <thead>\n",
       "    <tr style=\"text-align: right;\">\n",
       "      <th></th>\n",
       "      <th>RECORD_TIME</th>\n",
       "    </tr>\n",
       "  </thead>\n",
       "  <tbody>\n",
       "    <tr>\n",
       "      <th>0</th>\n",
       "      <td>2021-10-14 00:00</td>\n",
       "    </tr>\n",
       "    <tr>\n",
       "      <th>1</th>\n",
       "      <td>2021-10-13 23:30</td>\n",
       "    </tr>\n",
       "  </tbody>\n",
       "</table>\n",
       "</div>"
      ],
      "text/plain": [
       "        RECORD_TIME\n",
       "0  2021-10-14 00:00\n",
       "1  2021-10-13 23:30"
      ]
     },
     "execution_count": 3,
     "metadata": {},
     "output_type": "execute_result"
    }
   ],
   "source": [
    "timestamps"
   ]
  },
  {
   "cell_type": "code",
   "execution_count": 4,
   "id": "alternate-victory",
   "metadata": {
    "execution": {
     "iopub.execute_input": "2021-10-13T22:00:08.294945Z",
     "iopub.status.busy": "2021-10-13T22:00:08.292510Z",
     "iopub.status.idle": "2021-10-13T22:00:09.072633Z",
     "shell.execute_reply": "2021-10-13T22:00:09.074095Z"
    },
    "papermill": {
     "duration": 0.815797,
     "end_time": "2021-10-13T22:00:09.074518",
     "exception": false,
     "start_time": "2021-10-13T22:00:08.258721",
     "status": "completed"
    },
    "tags": []
   },
   "outputs": [],
   "source": [
    "df = pd.read_sql(\"select * from EBAY_TOP_BERLIN where record_time in (select distinct record_time from EBAY_TOP_BERLIN order by record_time desc limit 2)\", sqlite3.connect(\"UsedObjects.db\"))"
   ]
  },
  {
   "cell_type": "code",
   "execution_count": 5,
   "id": "popular-active",
   "metadata": {
    "execution": {
     "iopub.execute_input": "2021-10-13T22:00:09.143767Z",
     "iopub.status.busy": "2021-10-13T22:00:09.131470Z",
     "iopub.status.idle": "2021-10-13T22:00:09.160642Z",
     "shell.execute_reply": "2021-10-13T22:00:09.162094Z"
    },
    "papermill": {
     "duration": 0.06757,
     "end_time": "2021-10-13T22:00:09.162533",
     "exception": false,
     "start_time": "2021-10-13T22:00:09.094963",
     "status": "completed"
    },
    "tags": []
   },
   "outputs": [],
   "source": [
    "df_pivot = df.pivot_table(index=\"PRODUCT\", columns = \"RECORD_TIME\", values = \"LISTING_COUNT\")"
   ]
  },
  {
   "cell_type": "code",
   "execution_count": 6,
   "id": "union-huntington",
   "metadata": {
    "execution": {
     "iopub.execute_input": "2021-10-13T22:00:09.219747Z",
     "iopub.status.busy": "2021-10-13T22:00:09.217298Z",
     "iopub.status.idle": "2021-10-13T22:00:09.222910Z",
     "shell.execute_reply": "2021-10-13T22:00:09.224186Z"
    },
    "papermill": {
     "duration": 0.041718,
     "end_time": "2021-10-13T22:00:09.224599",
     "exception": false,
     "start_time": "2021-10-13T22:00:09.182881",
     "status": "completed"
    },
    "tags": []
   },
   "outputs": [],
   "source": [
    "df_pivot.columns = [\"stamp_1\", \"stamp_2\"]\n",
    "df_pivot_diff = df_pivot.diff(axis=1)"
   ]
  },
  {
   "cell_type": "code",
   "execution_count": 7,
   "id": "fifth-motion",
   "metadata": {
    "execution": {
     "iopub.execute_input": "2021-10-13T22:00:09.278521Z",
     "iopub.status.busy": "2021-10-13T22:00:09.276052Z",
     "iopub.status.idle": "2021-10-13T22:00:10.793616Z",
     "shell.execute_reply": "2021-10-13T22:00:10.794910Z"
    },
    "papermill": {
     "duration": 1.550737,
     "end_time": "2021-10-13T22:00:10.795332",
     "exception": false,
     "start_time": "2021-10-13T22:00:09.244595",
     "status": "completed"
    },
    "tags": []
   },
   "outputs": [
    {
     "data": {
      "text/plain": [
       "<AxesSubplot:ylabel='PRODUCT'>"
      ]
     },
     "execution_count": 7,
     "metadata": {},
     "output_type": "execute_result"
    },
    {
     "data": {
      "image/png": "[encoded data removed]",
      "text/plain": [
       "<Figure size 432x288 with 1 Axes>"
      ]
     },
     "metadata": {
      "needs_background": "light"
     },
     "output_type": "display_data"
    }
   ],
   "source": [
    "df_pivot_diff.sort_values(\"stamp_2\", ascending = False)[\"stamp_2\"].head(10).plot.barh()"
   ]
  },
  {
   "cell_type": "code",
   "execution_count": null,
   "id": "extra-executive",
   "metadata": {
    "papermill": {
     "duration": 0.022252,
     "end_time": "2021-10-13T22:00:10.842047",
     "exception": false,
     "start_time": "2021-10-13T22:00:10.819795",
     "status": "completed"
    },
    "tags": []
   },
   "outputs": [],
   "source": []
  }
 ],
 "metadata": {
  "kernelspec": {
   "display_name": "Python 3",
   "language": "python",
   "name": "python3"
  },
  "language_info": {
   "codemirror_mode": {
    "name": "ipython",
    "version": 3
   },
   "file_extension": ".py",
   "mimetype": "text/x-python",
   "name": "python",
   "nbconvert_exporter": "python",
   "pygments_lexer": "ipython3",
   "version": "3.9.5"
  },
  "papermill": {
   "default_parameters": {},
   "duration": 7.814988,
   "end_time": "2021-10-13T22:00:12.136660",
   "environment_variables": {},
   "exception": null,
   "input_path": "eBay_Overview.ipynb",
   "output_path": "eBay_Overview.ipynb",
   "parameters": {},
   "start_time": "2021-10-13T22:00:04.321672",
   "version": "2.3.3"
  }
 },
 "nbformat": 4,
 "nbformat_minor": 5
}