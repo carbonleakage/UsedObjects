{
 "cells": [
  {
   "cell_type": "code",
   "execution_count": 1,
   "id": "reverse-picking",
   "metadata": {
    "execution": {
     "iopub.execute_input": "2021-09-07T08:30:07.776585Z",
     "iopub.status.busy": "2021-09-07T08:30:07.774578Z",
     "iopub.status.idle": "2021-09-07T08:30:08.585062Z",
     "shell.execute_reply": "2021-09-07T08:30:08.583480Z"
    },
    "papermill": {
     "duration": 0.860927,
     "end_time": "2021-09-07T08:30:08.585459",
     "exception": false,
     "start_time": "2021-09-07T08:30:07.724532",
     "status": "completed"
    },
    "tags": []
   },
   "outputs": [],
   "source": [
    "import pandas as pd\n",
    "import sqlite3"
   ]
  },
  {
   "cell_type": "code",
   "execution_count": 2,
   "id": "innovative-syndrome",
   "metadata": {
    "execution": {
     "iopub.execute_input": "2021-09-07T08:30:08.638399Z",
     "iopub.status.busy": "2021-09-07T08:30:08.636093Z",
     "iopub.status.idle": "2021-09-07T08:30:08.867294Z",
     "shell.execute_reply": "2021-09-07T08:30:08.868640Z"
    },
    "papermill": {
     "duration": 0.260757,
     "end_time": "2021-09-07T08:30:08.869046",
     "exception": false,
     "start_time": "2021-09-07T08:30:08.608289",
     "status": "completed"
    },
    "tags": []
   },
   "outputs": [],
   "source": [
    "timestamps = pd.read_sql(\"select distinct record_time from EBAY_TOP_BERLIN order by record_time desc limit 2\", sqlite3.connect(\"UsedObjects.db\"))"
   ]
  },
  {
   "cell_type": "code",
   "execution_count": 3,
   "id": "periodic-identification",
   "metadata": {
    "execution": {
     "iopub.execute_input": "2021-09-07T08:30:08.933072Z",
     "iopub.status.busy": "2021-09-07T08:30:08.931029Z",
     "iopub.status.idle": "2021-09-07T08:30:08.950810Z",
     "shell.execute_reply": "2021-09-07T08:30:08.952102Z"
    },
    "papermill": {
     "duration": 0.064381,
     "end_time": "2021-09-07T08:30:08.952501",
     "exception": false,
     "start_time": "2021-09-07T08:30:08.888120",
     "status": "completed"
    },
    "tags": []
   },
   "outputs": [
    {
     "data": {
      "text/html": [
       "<div>\n",
       "<style scoped>\n",
       "    .dataframe tbody tr th:only-of-type {\n",
       "        vertical-align: middle;\n",
       "    }\n",
       "\n",
       "    .dataframe tbody tr th {\n",
       "        vertical-align: top;\n",
       "    }\n",
       "\n",
       "    .dataframe thead th {\n",
       "        text-align: right;\n",
       "    }\n",
       "</style>\n",
       "<table border=\"1\" class=\"dataframe\">\n",
       "  <thead>\n",
       "    <tr style=\"text-align: right;\">\n",
       "      <th></th>\n",
       "      <th>RECORD_TIME</th>\n",
       "    </tr>\n",
       "  </thead>\n",
       "  <tbody>\n",
       "    <tr>\n",
       "      <th>0</th>\n",
       "      <td>2021-09-07 10:30</td>\n",
       "    </tr>\n",
       "    <tr>\n",
       "      <th>1</th>\n",
       "      <td>2021-09-07 10:00</td>\n",
       "    </tr>\n",
       "  </tbody>\n",
       "</table>\n",
       "</div>"
      ],
      "text/plain": [
       "        RECORD_TIME\n",
       "0  2021-09-07 10:30\n",
       "1  2021-09-07 10:00"
      ]
     },
     "execution_count": 3,
     "metadata": {},
     "output_type": "execute_result"
    }
   ],
   "source": [
    "timestamps"
   ]
  },
  {
   "cell_type": "code",
   "execution_count": 4,
   "id": "alternate-victory",
   "metadata": {
    "execution": {
     "iopub.execute_input": "2021-09-07T08:30:09.003558Z",
     "iopub.status.busy": "2021-09-07T08:30:09.001572Z",
     "iopub.status.idle": "2021-09-07T08:30:09.349908Z",
     "shell.execute_reply": "2021-09-07T08:30:09.351438Z"
    },
    "papermill": {
     "duration": 0.378404,
     "end_time": "2021-09-07T08:30:09.351885",
     "exception": false,
     "start_time": "2021-09-07T08:30:08.973481",
     "status": "completed"
    },
    "tags": []
   },
   "outputs": [],
   "source": [
    "df = pd.read_sql(\"select * from EBAY_TOP_BERLIN where record_time in (select distinct record_time from EBAY_TOP_BERLIN order by record_time desc limit 2)\", sqlite3.connect(\"UsedObjects.db\"))"
   ]
  },
  {
   "cell_type": "code",
   "execution_count": 5,
   "id": "popular-active",
   "metadata": {
    "execution": {
     "iopub.execute_input": "2021-09-07T08:30:09.431004Z",
     "iopub.status.busy": "2021-09-07T08:30:09.420009Z",
     "iopub.status.idle": "2021-09-07T08:30:09.447055Z",
     "shell.execute_reply": "2021-09-07T08:30:09.448361Z"
    },
    "papermill": {
     "duration": 0.071018,
     "end_time": "2021-09-07T08:30:09.448786",
     "exception": false,
     "start_time": "2021-09-07T08:30:09.377768",
     "status": "completed"
    },
    "tags": []
   },
   "outputs": [],
   "source": [
    "df_pivot = df.pivot_table(index=\"PRODUCT\", columns = \"RECORD_TIME\", values = \"LISTING_COUNT\")"
   ]
  },
  {
   "cell_type": "code",
   "execution_count": 6,
   "id": "union-huntington",
   "metadata": {
    "execution": {
     "iopub.execute_input": "2021-09-07T08:30:09.504984Z",
     "iopub.status.busy": "2021-09-07T08:30:09.503037Z",
     "iopub.status.idle": "2021-09-07T08:30:09.508046Z",
     "shell.execute_reply": "2021-09-07T08:30:09.509315Z"
    },
    "papermill": {
     "duration": 0.03988,
     "end_time": "2021-09-07T08:30:09.509712",
     "exception": false,
     "start_time": "2021-09-07T08:30:09.469832",
     "status": "completed"
    },
    "tags": []
   },
   "outputs": [],
   "source": [
    "df_pivot.columns = [\"stamp_1\", \"stamp_2\"]\n",
    "df_pivot_diff = df_pivot.diff(axis=1)"
   ]
  },
  {
   "cell_type": "code",
   "execution_count": 7,
   "id": "fifth-motion",
   "metadata": {
    "execution": {
     "iopub.execute_input": "2021-09-07T08:30:09.564300Z",
     "iopub.status.busy": "2021-09-07T08:30:09.561754Z",
     "iopub.status.idle": "2021-09-07T08:30:11.070107Z",
     "shell.execute_reply": "2021-09-07T08:30:11.071575Z"
    },
    "papermill": {
     "duration": 1.54138,
     "end_time": "2021-09-07T08:30:11.072031",
     "exception": false,
     "start_time": "2021-09-07T08:30:09.530651",
     "status": "completed"
    },
    "tags": []
   },
   "outputs": [
    {
     "data": {
      "text/plain": [
       "<AxesSubplot:ylabel='PRODUCT'>"
      ]
     },
     "execution_count": 7,
     "metadata": {},
     "output_type": "execute_result"
    },
    {
     "data": {
      "image/png": "[encoded data removed]",
      "text/plain": [
       "<Figure size 432x288 with 1 Axes>"
      ]
     },
     "metadata": {
      "needs_background": "light"
     },
     "output_type": "display_data"
    }
   ],
   "source": [
    "df_pivot_diff.sort_values(\"stamp_2\", ascending = False)[\"stamp_2\"].head(10).plot.barh()"
   ]
  },
  {
   "cell_type": "code",
   "execution_count": null,
   "id": "extra-executive",
   "metadata": {
    "papermill": {
     "duration": 0.021918,
     "end_time": "2021-09-07T08:30:11.117597",
     "exception": false,
     "start_time": "2021-09-07T08:30:11.095679",
     "status": "completed"
    },
    "tags": []
   },
   "outputs": [],
   "source": []
  }
 ],
 "metadata": {
  "kernelspec": {
   "display_name": "Python 3",
   "language": "python",
   "name": "python3"
  },
  "language_info": {
   "codemirror_mode": {
    "name": "ipython",
    "version": 3
   },
   "file_extension": ".py",
   "mimetype": "text/x-python",
   "name": "python",
   "nbconvert_exporter": "python",
   "pygments_lexer": "ipython3",
   "version": "3.9.5"
  },
  "papermill": {
   "default_parameters": {},
   "duration": 6.446671,
   "end_time": "2021-09-07T08:30:11.757869",
   "environment_variables": {},
   "exception": null,
   "input_path": "eBay_Overview.ipynb",
   "output_path": "eBay_Overview.ipynb",
   "parameters": {},
   "start_time": "2021-09-07T08:30:05.311198",
   "version": "2.3.3"
  }
 },
 "nbformat": 4,
 "nbformat_minor": 5
}