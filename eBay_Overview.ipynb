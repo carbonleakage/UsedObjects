{
 "cells": [
  {
   "cell_type": "code",
   "execution_count": 1,
   "id": "reverse-picking",
   "metadata": {
    "execution": {
     "iopub.execute_input": "2021-08-11T02:00:03.834650Z",
     "iopub.status.busy": "2021-08-11T02:00:03.833890Z",
     "iopub.status.idle": "2021-08-11T02:00:04.621523Z",
     "shell.execute_reply": "2021-08-11T02:00:04.622102Z"
    },
    "papermill": {
     "duration": 0.806201,
     "end_time": "2021-08-11T02:00:04.622402",
     "exception": false,
     "start_time": "2021-08-11T02:00:03.816201",
     "status": "completed"
    },
    "tags": []
   },
   "outputs": [],
   "source": [
    "import pandas as pd\n",
    "import sqlite3"
   ]
  },
  {
   "cell_type": "code",
   "execution_count": 2,
   "id": "innovative-syndrome",
   "metadata": {
    "execution": {
     "iopub.execute_input": "2021-08-11T02:00:04.643652Z",
     "iopub.status.busy": "2021-08-11T02:00:04.642878Z",
     "iopub.status.idle": "2021-08-11T02:00:04.851892Z",
     "shell.execute_reply": "2021-08-11T02:00:04.852463Z"
    },
    "papermill": {
     "duration": 0.221608,
     "end_time": "2021-08-11T02:00:04.852655",
     "exception": false,
     "start_time": "2021-08-11T02:00:04.631047",
     "status": "completed"
    },
    "tags": []
   },
   "outputs": [],
   "source": [
    "timestamps = pd.read_sql(\"select distinct record_time from EBAY_TOP_BERLIN order by record_time desc limit 2\", sqlite3.connect(\"UsedObjects.db\"))"
   ]
  },
  {
   "cell_type": "code",
   "execution_count": 3,
   "id": "periodic-identification",
   "metadata": {
    "execution": {
     "iopub.execute_input": "2021-08-11T02:00:04.886775Z",
     "iopub.status.busy": "2021-08-11T02:00:04.886017Z",
     "iopub.status.idle": "2021-08-11T02:00:04.898563Z",
     "shell.execute_reply": "2021-08-11T02:00:04.897953Z"
    },
    "papermill": {
     "duration": 0.036148,
     "end_time": "2021-08-11T02:00:04.898723",
     "exception": false,
     "start_time": "2021-08-11T02:00:04.862575",
     "status": "completed"
    },
    "tags": []
   },
   "outputs": [
    {
     "data": {
      "text/html": [
       "<div>\n",
       "<style scoped>\n",
       "    .dataframe tbody tr th:only-of-type {\n",
       "        vertical-align: middle;\n",
       "    }\n",
       "\n",
       "    .dataframe tbody tr th {\n",
       "        vertical-align: top;\n",
       "    }\n",
       "\n",
       "    .dataframe thead th {\n",
       "        text-align: right;\n",
       "    }\n",
       "</style>\n",
       "<table border=\"1\" class=\"dataframe\">\n",
       "  <thead>\n",
       "    <tr style=\"text-align: right;\">\n",
       "      <th></th>\n",
       "      <th>RECORD_TIME</th>\n",
       "    </tr>\n",
       "  </thead>\n",
       "  <tbody>\n",
       "    <tr>\n",
       "      <th>0</th>\n",
       "      <td>2021-08-11 04:00</td>\n",
       "    </tr>\n",
       "    <tr>\n",
       "      <th>1</th>\n",
       "      <td>2021-08-11 03:30</td>\n",
       "    </tr>\n",
       "  </tbody>\n",
       "</table>\n",
       "</div>"
      ],
      "text/plain": [
       "        RECORD_TIME\n",
       "0  2021-08-11 04:00\n",
       "1  2021-08-11 03:30"
      ]
     },
     "execution_count": 3,
     "metadata": {},
     "output_type": "execute_result"
    }
   ],
   "source": [
    "timestamps"
   ]
  },
  {
   "cell_type": "code",
   "execution_count": 4,
   "id": "alternate-victory",
   "metadata": {
    "execution": {
     "iopub.execute_input": "2021-08-11T02:00:04.926003Z",
     "iopub.status.busy": "2021-08-11T02:00:04.925248Z",
     "iopub.status.idle": "2021-08-11T02:00:04.949271Z",
     "shell.execute_reply": "2021-08-11T02:00:04.945287Z"
    },
    "papermill": {
     "duration": 0.040689,
     "end_time": "2021-08-11T02:00:04.949850",
     "exception": false,
     "start_time": "2021-08-11T02:00:04.909161",
     "status": "completed"
    },
    "tags": []
   },
   "outputs": [],
   "source": [
    "df = pd.read_sql(\"select * from EBAY_TOP_BERLIN where record_time in (select distinct record_time from EBAY_TOP_BERLIN order by record_time desc limit 2)\", sqlite3.connect(\"UsedObjects.db\"))"
   ]
  },
  {
   "cell_type": "code",
   "execution_count": 5,
   "id": "popular-active",
   "metadata": {
    "execution": {
     "iopub.execute_input": "2021-08-11T02:00:04.979444Z",
     "iopub.status.busy": "2021-08-11T02:00:04.978680Z",
     "iopub.status.idle": "2021-08-11T02:00:05.005596Z",
     "shell.execute_reply": "2021-08-11T02:00:05.004511Z"
    },
    "papermill": {
     "duration": 0.042396,
     "end_time": "2021-08-11T02:00:05.005876",
     "exception": false,
     "start_time": "2021-08-11T02:00:04.963480",
     "status": "completed"
    },
    "tags": []
   },
   "outputs": [],
   "source": [
    "df_pivot = df.pivot_table(index=\"PRODUCT\", columns = \"RECORD_TIME\", values = \"LISTING_COUNT\")"
   ]
  },
  {
   "cell_type": "code",
   "execution_count": 6,
   "id": "union-huntington",
   "metadata": {
    "execution": {
     "iopub.execute_input": "2021-08-11T02:00:05.037836Z",
     "iopub.status.busy": "2021-08-11T02:00:05.036416Z",
     "iopub.status.idle": "2021-08-11T02:00:05.040066Z",
     "shell.execute_reply": "2021-08-11T02:00:05.040881Z"
    },
    "papermill": {
     "duration": 0.022664,
     "end_time": "2021-08-11T02:00:05.041292",
     "exception": false,
     "start_time": "2021-08-11T02:00:05.018628",
     "status": "completed"
    },
    "tags": []
   },
   "outputs": [],
   "source": [
    "df_pivot.columns = [\"stamp_1\", \"stamp_2\"]\n",
    "df_pivot_diff = df_pivot.diff(axis=1)"
   ]
  },
  {
   "cell_type": "code",
   "execution_count": 7,
   "id": "fifth-motion",
   "metadata": {
    "execution": {
     "iopub.execute_input": "2021-08-11T02:00:05.071416Z",
     "iopub.status.busy": "2021-08-11T02:00:05.070440Z",
     "iopub.status.idle": "2021-08-11T02:00:05.760147Z",
     "shell.execute_reply": "2021-08-11T02:00:05.760680Z"
    },
    "papermill": {
     "duration": 0.706857,
     "end_time": "2021-08-11T02:00:05.760862",
     "exception": false,
     "start_time": "2021-08-11T02:00:05.054005",
     "status": "completed"
    },
    "tags": []
   },
   "outputs": [
    {
     "data": {
      "text/plain": [
       "<AxesSubplot:ylabel='PRODUCT'>"
      ]
     },
     "execution_count": 7,
     "metadata": {},
     "output_type": "execute_result"
    },
    {
     "data": {
      "image/png": "[encoded data removed]",
      "text/plain": [
       "<Figure size 432x288 with 1 Axes>"
      ]
     },
     "metadata": {
      "needs_background": "light"
     },
     "output_type": "display_data"
    }
   ],
   "source": [
    "df_pivot_diff.sort_values(\"stamp_2\", ascending = False)[\"stamp_2\"].head(10).plot.barh()"
   ]
  },
  {
   "cell_type": "code",
   "execution_count": null,
   "id": "extra-executive",
   "metadata": {
    "papermill": {
     "duration": 0.00996,
     "end_time": "2021-08-11T02:00:05.785341",
     "exception": false,
     "start_time": "2021-08-11T02:00:05.775381",
     "status": "completed"
    },
    "tags": []
   },
   "outputs": [],
   "source": []
  }
 ],
 "metadata": {
  "kernelspec": {
   "display_name": "Python 3",
   "language": "python",
   "name": "python3"
  },
  "language_info": {
   "codemirror_mode": {
    "name": "ipython",
    "version": 3
   },
   "file_extension": ".py",
   "mimetype": "text/x-python",
   "name": "python",
   "nbconvert_exporter": "python",
   "pygments_lexer": "ipython3",
   "version": "3.8.8"
  },
  "papermill": {
   "default_parameters": {},
   "duration": 4.465157,
   "end_time": "2021-08-11T02:00:06.540938",
   "environment_variables": {},
   "exception": null,
   "input_path": "/Users/saravananshanmugam/Carbonleakage_Git/UsedObjects/eBay_Overview.ipynb",
   "output_path": "/Users/saravananshanmugam/Carbonleakage_Git/UsedObjects/eBay_Overview.ipynb",
   "parameters": {},
   "start_time": "2021-08-11T02:00:02.075781",
   "version": "2.3.3"
  }
 },
 "nbformat": 4,
 "nbformat_minor": 5
}