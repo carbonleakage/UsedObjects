{
 "cells": [
  {
   "cell_type": "code",
   "execution_count": 1,
   "id": "reverse-picking",
   "metadata": {
    "execution": {
     "iopub.execute_input": "2021-09-26T02:00:07.077367Z",
     "iopub.status.busy": "2021-09-26T02:00:07.075483Z",
     "iopub.status.idle": "2021-09-26T02:00:07.879957Z",
     "shell.execute_reply": "2021-09-26T02:00:07.881200Z"
    },
    "papermill": {
     "duration": 0.858066,
     "end_time": "2021-09-26T02:00:07.881815",
     "exception": false,
     "start_time": "2021-09-26T02:00:07.023749",
     "status": "completed"
    },
    "tags": []
   },
   "outputs": [],
   "source": [
    "import pandas as pd\n",
    "import sqlite3"
   ]
  },
  {
   "cell_type": "code",
   "execution_count": 2,
   "id": "innovative-syndrome",
   "metadata": {
    "execution": {
     "iopub.execute_input": "2021-09-26T02:00:07.931966Z",
     "iopub.status.busy": "2021-09-26T02:00:07.930036Z",
     "iopub.status.idle": "2021-09-26T02:00:08.313758Z",
     "shell.execute_reply": "2021-09-26T02:00:08.315134Z"
    },
    "papermill": {
     "duration": 0.41322,
     "end_time": "2021-09-26T02:00:08.315558",
     "exception": false,
     "start_time": "2021-09-26T02:00:07.902338",
     "status": "completed"
    },
    "tags": []
   },
   "outputs": [],
   "source": [
    "timestamps = pd.read_sql(\"select distinct record_time from EBAY_TOP_BERLIN order by record_time desc limit 2\", sqlite3.connect(\"UsedObjects.db\"))"
   ]
  },
  {
   "cell_type": "code",
   "execution_count": 3,
   "id": "periodic-identification",
   "metadata": {
    "execution": {
     "iopub.execute_input": "2021-09-26T02:00:08.381964Z",
     "iopub.status.busy": "2021-09-26T02:00:08.379966Z",
     "iopub.status.idle": "2021-09-26T02:00:08.401582Z",
     "shell.execute_reply": "2021-09-26T02:00:08.402906Z"
    },
    "papermill": {
     "duration": 0.067113,
     "end_time": "2021-09-26T02:00:08.403344",
     "exception": false,
     "start_time": "2021-09-26T02:00:08.336231",
     "status": "completed"
    },
    "tags": []
   },
   "outputs": [
    {
     "data": {
      "text/html": [
       "<div>\n",
       "<style scoped>\n",
       "    .dataframe tbody tr th:only-of-type {\n",
       "        vertical-align: middle;\n",
       "    }\n",
       "\n",
       "    .dataframe tbody tr th {\n",
       "        vertical-align: top;\n",
       "    }\n",
       "\n",
       "    .dataframe thead th {\n",
       "        text-align: right;\n",
       "    }\n",
       "</style>\n",
       "<table border=\"1\" class=\"dataframe\">\n",
       "  <thead>\n",
       "    <tr style=\"text-align: right;\">\n",
       "      <th></th>\n",
       "      <th>RECORD_TIME</th>\n",
       "    </tr>\n",
       "  </thead>\n",
       "  <tbody>\n",
       "    <tr>\n",
       "      <th>0</th>\n",
       "      <td>2021-09-26 04:00</td>\n",
       "    </tr>\n",
       "    <tr>\n",
       "      <th>1</th>\n",
       "      <td>2021-09-26 03:30</td>\n",
       "    </tr>\n",
       "  </tbody>\n",
       "</table>\n",
       "</div>"
      ],
      "text/plain": [
       "        RECORD_TIME\n",
       "0  2021-09-26 04:00\n",
       "1  2021-09-26 03:30"
      ]
     },
     "execution_count": 3,
     "metadata": {},
     "output_type": "execute_result"
    }
   ],
   "source": [
    "timestamps"
   ]
  },
  {
   "cell_type": "code",
   "execution_count": 4,
   "id": "alternate-victory",
   "metadata": {
    "execution": {
     "iopub.execute_input": "2021-09-26T02:00:08.453955Z",
     "iopub.status.busy": "2021-09-26T02:00:08.452151Z",
     "iopub.status.idle": "2021-09-26T02:00:09.017925Z",
     "shell.execute_reply": "2021-09-26T02:00:09.019328Z"
    },
    "papermill": {
     "duration": 0.596113,
     "end_time": "2021-09-26T02:00:09.019751",
     "exception": false,
     "start_time": "2021-09-26T02:00:08.423638",
     "status": "completed"
    },
    "tags": []
   },
   "outputs": [],
   "source": [
    "df = pd.read_sql(\"select * from EBAY_TOP_BERLIN where record_time in (select distinct record_time from EBAY_TOP_BERLIN order by record_time desc limit 2)\", sqlite3.connect(\"UsedObjects.db\"))"
   ]
  },
  {
   "cell_type": "code",
   "execution_count": 5,
   "id": "popular-active",
   "metadata": {
    "execution": {
     "iopub.execute_input": "2021-09-26T02:00:09.091634Z",
     "iopub.status.busy": "2021-09-26T02:00:09.079797Z",
     "iopub.status.idle": "2021-09-26T02:00:09.108108Z",
     "shell.execute_reply": "2021-09-26T02:00:09.109461Z"
    },
    "papermill": {
     "duration": 0.068578,
     "end_time": "2021-09-26T02:00:09.109902",
     "exception": false,
     "start_time": "2021-09-26T02:00:09.041324",
     "status": "completed"
    },
    "tags": []
   },
   "outputs": [],
   "source": [
    "df_pivot = df.pivot_table(index=\"PRODUCT\", columns = \"RECORD_TIME\", values = \"LISTING_COUNT\")"
   ]
  },
  {
   "cell_type": "code",
   "execution_count": 6,
   "id": "union-huntington",
   "metadata": {
    "execution": {
     "iopub.execute_input": "2021-09-26T02:00:09.169061Z",
     "iopub.status.busy": "2021-09-26T02:00:09.166622Z",
     "iopub.status.idle": "2021-09-26T02:00:09.172510Z",
     "shell.execute_reply": "2021-09-26T02:00:09.173683Z"
    },
    "papermill": {
     "duration": 0.04186,
     "end_time": "2021-09-26T02:00:09.174116",
     "exception": false,
     "start_time": "2021-09-26T02:00:09.132256",
     "status": "completed"
    },
    "tags": []
   },
   "outputs": [],
   "source": [
    "df_pivot.columns = [\"stamp_1\", \"stamp_2\"]\n",
    "df_pivot_diff = df_pivot.diff(axis=1)"
   ]
  },
  {
   "cell_type": "code",
   "execution_count": 7,
   "id": "fifth-motion",
   "metadata": {
    "execution": {
     "iopub.execute_input": "2021-09-26T02:00:09.228569Z",
     "iopub.status.busy": "2021-09-26T02:00:09.225984Z",
     "iopub.status.idle": "2021-09-26T02:00:10.721320Z",
     "shell.execute_reply": "2021-09-26T02:00:10.722587Z"
    },
    "papermill": {
     "duration": 1.528641,
     "end_time": "2021-09-26T02:00:10.723062",
     "exception": false,
     "start_time": "2021-09-26T02:00:09.194421",
     "status": "completed"
    },
    "tags": []
   },
   "outputs": [
    {
     "data": {
      "text/plain": [
       "<AxesSubplot:ylabel='PRODUCT'>"
      ]
     },
     "execution_count": 7,
     "metadata": {},
     "output_type": "execute_result"
    },
    {
     "data": {
      "image/png": "[encoded data removed]",
      "text/plain": [
       "<Figure size 432x288 with 1 Axes>"
      ]
     },
     "metadata": {
      "needs_background": "light"
     },
     "output_type": "display_data"
    }
   ],
   "source": [
    "df_pivot_diff.sort_values(\"stamp_2\", ascending = False)[\"stamp_2\"].head(10).plot.barh()"
   ]
  },
  {
   "cell_type": "code",
   "execution_count": null,
   "id": "extra-executive",
   "metadata": {
    "papermill": {
     "duration": 0.021956,
     "end_time": "2021-09-26T02:00:10.769553",
     "exception": false,
     "start_time": "2021-09-26T02:00:10.747597",
     "status": "completed"
    },
    "tags": []
   },
   "outputs": [],
   "source": []
  }
 ],
 "metadata": {
  "kernelspec": {
   "display_name": "Python 3",
   "language": "python",
   "name": "python3"
  },
  "language_info": {
   "codemirror_mode": {
    "name": "ipython",
    "version": 3
   },
   "file_extension": ".py",
   "mimetype": "text/x-python",
   "name": "python",
   "nbconvert_exporter": "python",
   "pygments_lexer": "ipython3",
   "version": "3.9.5"
  },
  "papermill": {
   "default_parameters": {},
   "duration": 6.796214,
   "end_time": "2021-09-26T02:00:11.412657",
   "environment_variables": {},
   "exception": null,
   "input_path": "eBay_Overview.ipynb",
   "output_path": "eBay_Overview.ipynb",
   "parameters": {},
   "start_time": "2021-09-26T02:00:04.616443",
   "version": "2.3.3"
  }
 },
 "nbformat": 4,
 "nbformat_minor": 5
}