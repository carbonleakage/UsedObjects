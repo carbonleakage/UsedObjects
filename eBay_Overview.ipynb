{
 "cells": [
  {
   "cell_type": "code",
   "execution_count": 1,
   "id": "reverse-picking",
   "metadata": {
    "execution": {
     "iopub.execute_input": "2021-08-12T10:00:04.353038Z",
     "iopub.status.busy": "2021-08-12T10:00:04.352281Z",
     "iopub.status.idle": "2021-08-12T10:00:04.952360Z",
     "shell.execute_reply": "2021-08-12T10:00:04.953179Z"
    },
    "papermill": {
     "duration": 0.619297,
     "end_time": "2021-08-12T10:00:04.953602",
     "exception": false,
     "start_time": "2021-08-12T10:00:04.334305",
     "status": "completed"
    },
    "tags": []
   },
   "outputs": [],
   "source": [
    "import pandas as pd\n",
    "import sqlite3"
   ]
  },
  {
   "cell_type": "code",
   "execution_count": 2,
   "id": "innovative-syndrome",
   "metadata": {
    "execution": {
     "iopub.execute_input": "2021-08-12T10:00:04.980968Z",
     "iopub.status.busy": "2021-08-12T10:00:04.980203Z",
     "iopub.status.idle": "2021-08-12T10:00:05.195815Z",
     "shell.execute_reply": "2021-08-12T10:00:05.195085Z"
    },
    "papermill": {
     "duration": 0.231106,
     "end_time": "2021-08-12T10:00:05.195979",
     "exception": false,
     "start_time": "2021-08-12T10:00:04.964873",
     "status": "completed"
    },
    "tags": []
   },
   "outputs": [],
   "source": [
    "timestamps = pd.read_sql(\"select distinct record_time from EBAY_TOP_BERLIN order by record_time desc limit 2\", sqlite3.connect(\"UsedObjects.db\"))"
   ]
  },
  {
   "cell_type": "code",
   "execution_count": 3,
   "id": "periodic-identification",
   "metadata": {
    "execution": {
     "iopub.execute_input": "2021-08-12T10:00:05.228262Z",
     "iopub.status.busy": "2021-08-12T10:00:05.227484Z",
     "iopub.status.idle": "2021-08-12T10:00:05.242171Z",
     "shell.execute_reply": "2021-08-12T10:00:05.241552Z"
    },
    "papermill": {
     "duration": 0.037455,
     "end_time": "2021-08-12T10:00:05.242336",
     "exception": false,
     "start_time": "2021-08-12T10:00:05.204881",
     "status": "completed"
    },
    "tags": []
   },
   "outputs": [
    {
     "data": {
      "text/html": [
       "<div>\n",
       "<style scoped>\n",
       "    .dataframe tbody tr th:only-of-type {\n",
       "        vertical-align: middle;\n",
       "    }\n",
       "\n",
       "    .dataframe tbody tr th {\n",
       "        vertical-align: top;\n",
       "    }\n",
       "\n",
       "    .dataframe thead th {\n",
       "        text-align: right;\n",
       "    }\n",
       "</style>\n",
       "<table border=\"1\" class=\"dataframe\">\n",
       "  <thead>\n",
       "    <tr style=\"text-align: right;\">\n",
       "      <th></th>\n",
       "      <th>RECORD_TIME</th>\n",
       "    </tr>\n",
       "  </thead>\n",
       "  <tbody>\n",
       "    <tr>\n",
       "      <th>0</th>\n",
       "      <td>2021-08-12 12:00</td>\n",
       "    </tr>\n",
       "    <tr>\n",
       "      <th>1</th>\n",
       "      <td>2021-08-12 11:30</td>\n",
       "    </tr>\n",
       "  </tbody>\n",
       "</table>\n",
       "</div>"
      ],
      "text/plain": [
       "        RECORD_TIME\n",
       "0  2021-08-12 12:00\n",
       "1  2021-08-12 11:30"
      ]
     },
     "execution_count": 3,
     "metadata": {},
     "output_type": "execute_result"
    }
   ],
   "source": [
    "timestamps"
   ]
  },
  {
   "cell_type": "code",
   "execution_count": 4,
   "id": "alternate-victory",
   "metadata": {
    "execution": {
     "iopub.execute_input": "2021-08-12T10:00:05.271520Z",
     "iopub.status.busy": "2021-08-12T10:00:05.270748Z",
     "iopub.status.idle": "2021-08-12T10:00:05.301027Z",
     "shell.execute_reply": "2021-08-12T10:00:05.301602Z"
    },
    "papermill": {
     "duration": 0.04661,
     "end_time": "2021-08-12T10:00:05.301796",
     "exception": false,
     "start_time": "2021-08-12T10:00:05.255186",
     "status": "completed"
    },
    "tags": []
   },
   "outputs": [],
   "source": [
    "df = pd.read_sql(\"select * from EBAY_TOP_BERLIN where record_time in (select distinct record_time from EBAY_TOP_BERLIN order by record_time desc limit 2)\", sqlite3.connect(\"UsedObjects.db\"))"
   ]
  },
  {
   "cell_type": "code",
   "execution_count": 5,
   "id": "popular-active",
   "metadata": {
    "execution": {
     "iopub.execute_input": "2021-08-12T10:00:05.331088Z",
     "iopub.status.busy": "2021-08-12T10:00:05.330307Z",
     "iopub.status.idle": "2021-08-12T10:00:05.353658Z",
     "shell.execute_reply": "2021-08-12T10:00:05.354452Z"
    },
    "papermill": {
     "duration": 0.043565,
     "end_time": "2021-08-12T10:00:05.354692",
     "exception": false,
     "start_time": "2021-08-12T10:00:05.311127",
     "status": "completed"
    },
    "tags": []
   },
   "outputs": [],
   "source": [
    "df_pivot = df.pivot_table(index=\"PRODUCT\", columns = \"RECORD_TIME\", values = \"LISTING_COUNT\")"
   ]
  },
  {
   "cell_type": "code",
   "execution_count": 6,
   "id": "union-huntington",
   "metadata": {
    "execution": {
     "iopub.execute_input": "2021-08-12T10:00:05.380328Z",
     "iopub.status.busy": "2021-08-12T10:00:05.379519Z",
     "iopub.status.idle": "2021-08-12T10:00:05.385314Z",
     "shell.execute_reply": "2021-08-12T10:00:05.383969Z"
    },
    "papermill": {
     "duration": 0.022532,
     "end_time": "2021-08-12T10:00:05.385597",
     "exception": false,
     "start_time": "2021-08-12T10:00:05.363065",
     "status": "completed"
    },
    "tags": []
   },
   "outputs": [],
   "source": [
    "df_pivot.columns = [\"stamp_1\", \"stamp_2\"]\n",
    "df_pivot_diff = df_pivot.diff(axis=1)"
   ]
  },
  {
   "cell_type": "code",
   "execution_count": 7,
   "id": "fifth-motion",
   "metadata": {
    "execution": {
     "iopub.execute_input": "2021-08-12T10:00:05.411897Z",
     "iopub.status.busy": "2021-08-12T10:00:05.411141Z",
     "iopub.status.idle": "2021-08-12T10:00:06.073136Z",
     "shell.execute_reply": "2021-08-12T10:00:06.073667Z"
    },
    "papermill": {
     "duration": 0.6777,
     "end_time": "2021-08-12T10:00:06.073848",
     "exception": false,
     "start_time": "2021-08-12T10:00:05.396148",
     "status": "completed"
    },
    "tags": []
   },
   "outputs": [
    {
     "data": {
      "text/plain": [
       "<AxesSubplot:ylabel='PRODUCT'>"
      ]
     },
     "execution_count": 7,
     "metadata": {},
     "output_type": "execute_result"
    },
    {
     "data": {
      "image/png": "[encoded data removed]",
      "text/plain": [
       "<Figure size 432x288 with 1 Axes>"
      ]
     },
     "metadata": {
      "needs_background": "light"
     },
     "output_type": "display_data"
    }
   ],
   "source": [
    "df_pivot_diff.sort_values(\"stamp_2\", ascending = False)[\"stamp_2\"].head(10).plot.barh()"
   ]
  },
  {
   "cell_type": "code",
   "execution_count": null,
   "id": "extra-executive",
   "metadata": {
    "papermill": {
     "duration": 0.012826,
     "end_time": "2021-08-12T10:00:06.098985",
     "exception": false,
     "start_time": "2021-08-12T10:00:06.086159",
     "status": "completed"
    },
    "tags": []
   },
   "outputs": [],
   "source": []
  }
 ],
 "metadata": {
  "kernelspec": {
   "display_name": "Python 3",
   "language": "python",
   "name": "python3"
  },
  "language_info": {
   "codemirror_mode": {
    "name": "ipython",
    "version": 3
   },
   "file_extension": ".py",
   "mimetype": "text/x-python",
   "name": "python",
   "nbconvert_exporter": "python",
   "pygments_lexer": "ipython3",
   "version": "3.8.8"
  },
  "papermill": {
   "default_parameters": {},
   "duration": 5.078507,
   "end_time": "2021-08-12T10:00:07.737224",
   "environment_variables": {},
   "exception": null,
   "input_path": "/Users/saravananshanmugam/Carbonleakage_Git/UsedObjects/eBay_Overview.ipynb",
   "output_path": "/Users/saravananshanmugam/Carbonleakage_Git/UsedObjects/eBay_Overview.ipynb",
   "parameters": {},
   "start_time": "2021-08-12T10:00:02.658717",
   "version": "2.3.3"
  }
 },
 "nbformat": 4,
 "nbformat_minor": 5
}