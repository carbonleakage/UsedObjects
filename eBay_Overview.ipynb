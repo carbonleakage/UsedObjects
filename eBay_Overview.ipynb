{
 "cells": [
  {
   "cell_type": "code",
   "execution_count": 1,
   "id": "reverse-picking",
   "metadata": {
    "execution": {
     "iopub.execute_input": "2021-08-18T02:00:06.951819Z",
     "iopub.status.busy": "2021-08-18T02:00:06.949791Z",
     "iopub.status.idle": "2021-08-18T02:00:07.756407Z",
     "shell.execute_reply": "2021-08-18T02:00:07.757660Z"
    },
    "papermill": {
     "duration": 0.858564,
     "end_time": "2021-08-18T02:00:07.758350",
     "exception": false,
     "start_time": "2021-08-18T02:00:06.899786",
     "status": "completed"
    },
    "tags": []
   },
   "outputs": [],
   "source": [
    "import pandas as pd\n",
    "import sqlite3"
   ]
  },
  {
   "cell_type": "code",
   "execution_count": 2,
   "id": "innovative-syndrome",
   "metadata": {
    "execution": {
     "iopub.execute_input": "2021-08-18T02:00:07.808520Z",
     "iopub.status.busy": "2021-08-18T02:00:07.806655Z",
     "iopub.status.idle": "2021-08-18T02:00:07.878908Z",
     "shell.execute_reply": "2021-08-18T02:00:07.880182Z"
    },
    "papermill": {
     "duration": 0.101773,
     "end_time": "2021-08-18T02:00:07.880579",
     "exception": false,
     "start_time": "2021-08-18T02:00:07.778806",
     "status": "completed"
    },
    "tags": []
   },
   "outputs": [],
   "source": [
    "timestamps = pd.read_sql(\"select distinct record_time from EBAY_TOP_BERLIN order by record_time desc limit 2\", sqlite3.connect(\"UsedObjects.db\"))"
   ]
  },
  {
   "cell_type": "code",
   "execution_count": 3,
   "id": "periodic-identification",
   "metadata": {
    "execution": {
     "iopub.execute_input": "2021-08-18T02:00:07.944171Z",
     "iopub.status.busy": "2021-08-18T02:00:07.942160Z",
     "iopub.status.idle": "2021-08-18T02:00:07.964472Z",
     "shell.execute_reply": "2021-08-18T02:00:07.966274Z"
    },
    "papermill": {
     "duration": 0.066917,
     "end_time": "2021-08-18T02:00:07.966779",
     "exception": false,
     "start_time": "2021-08-18T02:00:07.899862",
     "status": "completed"
    },
    "tags": []
   },
   "outputs": [
    {
     "data": {
      "text/html": [
       "<div>\n",
       "<style scoped>\n",
       "    .dataframe tbody tr th:only-of-type {\n",
       "        vertical-align: middle;\n",
       "    }\n",
       "\n",
       "    .dataframe tbody tr th {\n",
       "        vertical-align: top;\n",
       "    }\n",
       "\n",
       "    .dataframe thead th {\n",
       "        text-align: right;\n",
       "    }\n",
       "</style>\n",
       "<table border=\"1\" class=\"dataframe\">\n",
       "  <thead>\n",
       "    <tr style=\"text-align: right;\">\n",
       "      <th></th>\n",
       "      <th>RECORD_TIME</th>\n",
       "    </tr>\n",
       "  </thead>\n",
       "  <tbody>\n",
       "    <tr>\n",
       "      <th>0</th>\n",
       "      <td>2021-08-18 04:00</td>\n",
       "    </tr>\n",
       "    <tr>\n",
       "      <th>1</th>\n",
       "      <td>2021-08-18 03:30</td>\n",
       "    </tr>\n",
       "  </tbody>\n",
       "</table>\n",
       "</div>"
      ],
      "text/plain": [
       "        RECORD_TIME\n",
       "0  2021-08-18 04:00\n",
       "1  2021-08-18 03:30"
      ]
     },
     "execution_count": 3,
     "metadata": {},
     "output_type": "execute_result"
    }
   ],
   "source": [
    "timestamps"
   ]
  },
  {
   "cell_type": "code",
   "execution_count": 4,
   "id": "alternate-victory",
   "metadata": {
    "execution": {
     "iopub.execute_input": "2021-08-18T02:00:08.018929Z",
     "iopub.status.busy": "2021-08-18T02:00:08.017005Z",
     "iopub.status.idle": "2021-08-18T02:00:08.122532Z",
     "shell.execute_reply": "2021-08-18T02:00:08.121134Z"
    },
    "papermill": {
     "duration": 0.133808,
     "end_time": "2021-08-18T02:00:08.122875",
     "exception": false,
     "start_time": "2021-08-18T02:00:07.989067",
     "status": "completed"
    },
    "tags": []
   },
   "outputs": [],
   "source": [
    "df = pd.read_sql(\"select * from EBAY_TOP_BERLIN where record_time in (select distinct record_time from EBAY_TOP_BERLIN order by record_time desc limit 2)\", sqlite3.connect(\"UsedObjects.db\"))"
   ]
  },
  {
   "cell_type": "code",
   "execution_count": 5,
   "id": "popular-active",
   "metadata": {
    "execution": {
     "iopub.execute_input": "2021-08-18T02:00:08.192984Z",
     "iopub.status.busy": "2021-08-18T02:00:08.180263Z",
     "iopub.status.idle": "2021-08-18T02:00:08.208637Z",
     "shell.execute_reply": "2021-08-18T02:00:08.209849Z"
    },
    "papermill": {
     "duration": 0.066911,
     "end_time": "2021-08-18T02:00:08.210458",
     "exception": false,
     "start_time": "2021-08-18T02:00:08.143547",
     "status": "completed"
    },
    "tags": []
   },
   "outputs": [],
   "source": [
    "df_pivot = df.pivot_table(index=\"PRODUCT\", columns = \"RECORD_TIME\", values = \"LISTING_COUNT\")"
   ]
  },
  {
   "cell_type": "code",
   "execution_count": 6,
   "id": "union-huntington",
   "metadata": {
    "execution": {
     "iopub.execute_input": "2021-08-18T02:00:08.269595Z",
     "iopub.status.busy": "2021-08-18T02:00:08.267141Z",
     "iopub.status.idle": "2021-08-18T02:00:08.273024Z",
     "shell.execute_reply": "2021-08-18T02:00:08.274507Z"
    },
    "papermill": {
     "duration": 0.042489,
     "end_time": "2021-08-18T02:00:08.274976",
     "exception": false,
     "start_time": "2021-08-18T02:00:08.232487",
     "status": "completed"
    },
    "tags": []
   },
   "outputs": [],
   "source": [
    "df_pivot.columns = [\"stamp_1\", \"stamp_2\"]\n",
    "df_pivot_diff = df_pivot.diff(axis=1)"
   ]
  },
  {
   "cell_type": "code",
   "execution_count": 7,
   "id": "fifth-motion",
   "metadata": {
    "execution": {
     "iopub.execute_input": "2021-08-18T02:00:08.328942Z",
     "iopub.status.busy": "2021-08-18T02:00:08.326751Z",
     "iopub.status.idle": "2021-08-18T02:00:09.809192Z",
     "shell.execute_reply": "2021-08-18T02:00:09.810547Z"
    },
    "papermill": {
     "duration": 1.515468,
     "end_time": "2021-08-18T02:00:09.810970",
     "exception": false,
     "start_time": "2021-08-18T02:00:08.295502",
     "status": "completed"
    },
    "tags": []
   },
   "outputs": [
    {
     "data": {
      "text/plain": [
       "<AxesSubplot:ylabel='PRODUCT'>"
      ]
     },
     "execution_count": 7,
     "metadata": {},
     "output_type": "execute_result"
    },
    {
     "data": {
      "image/png": "[encoded data removed]",
      "text/plain": [
       "<Figure size 432x288 with 1 Axes>"
      ]
     },
     "metadata": {
      "needs_background": "light"
     },
     "output_type": "display_data"
    }
   ],
   "source": [
    "df_pivot_diff.sort_values(\"stamp_2\", ascending = False)[\"stamp_2\"].head(10).plot.barh()"
   ]
  },
  {
   "cell_type": "code",
   "execution_count": null,
   "id": "extra-executive",
   "metadata": {
    "papermill": {
     "duration": 0.022007,
     "end_time": "2021-08-18T02:00:09.857642",
     "exception": false,
     "start_time": "2021-08-18T02:00:09.835635",
     "status": "completed"
    },
    "tags": []
   },
   "outputs": [],
   "source": []
  }
 ],
 "metadata": {
  "kernelspec": {
   "display_name": "Python 3",
   "language": "python",
   "name": "python3"
  },
  "language_info": {
   "codemirror_mode": {
    "name": "ipython",
    "version": 3
   },
   "file_extension": ".py",
   "mimetype": "text/x-python",
   "name": "python",
   "nbconvert_exporter": "python",
   "pygments_lexer": "ipython3",
   "version": "3.9.5"
  },
  "papermill": {
   "default_parameters": {},
   "duration": 6.828155,
   "end_time": "2021-08-18T02:00:11.317846",
   "environment_variables": {},
   "exception": null,
   "input_path": "eBay_Overview.ipynb",
   "output_path": "eBay_Overview.ipynb",
   "parameters": {},
   "start_time": "2021-08-18T02:00:04.489691",
   "version": "2.3.3"
  }
 },
 "nbformat": 4,
 "nbformat_minor": 5
}