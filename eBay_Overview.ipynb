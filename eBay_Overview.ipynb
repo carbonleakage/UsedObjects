{
 "cells": [
  {
   "cell_type": "code",
   "execution_count": 1,
   "id": "reverse-picking",
   "metadata": {
    "execution": {
     "iopub.execute_input": "2021-11-09T09:00:07.941064Z",
     "iopub.status.busy": "2021-11-09T09:00:07.938720Z",
     "iopub.status.idle": "2021-11-09T09:00:08.894468Z",
     "shell.execute_reply": "2021-11-09T09:00:08.895915Z"
    },
    "papermill": {
     "duration": 1.004885,
     "end_time": "2021-11-09T09:00:08.896637",
     "exception": false,
     "start_time": "2021-11-09T09:00:07.891752",
     "status": "completed"
    },
    "tags": []
   },
   "outputs": [],
   "source": [
    "import pandas as pd\n",
    "import sqlite3"
   ]
  },
  {
   "cell_type": "code",
   "execution_count": 2,
   "id": "innovative-syndrome",
   "metadata": {
    "execution": {
     "iopub.execute_input": "2021-11-09T09:00:08.956141Z",
     "iopub.status.busy": "2021-11-09T09:00:08.953824Z",
     "iopub.status.idle": "2021-11-09T09:00:09.720997Z",
     "shell.execute_reply": "2021-11-09T09:00:09.722380Z"
    },
    "papermill": {
     "duration": 0.800956,
     "end_time": "2021-11-09T09:00:09.722806",
     "exception": false,
     "start_time": "2021-11-09T09:00:08.921850",
     "status": "completed"
    },
    "tags": []
   },
   "outputs": [],
   "source": [
    "timestamps = pd.read_sql(\"select distinct record_time from EBAY_TOP_BERLIN order by record_time desc limit 2\", sqlite3.connect(\"UsedObjects.db\"))"
   ]
  },
  {
   "cell_type": "code",
   "execution_count": 3,
   "id": "periodic-identification",
   "metadata": {
    "execution": {
     "iopub.execute_input": "2021-11-09T09:00:09.793084Z",
     "iopub.status.busy": "2021-11-09T09:00:09.790639Z",
     "iopub.status.idle": "2021-11-09T09:00:09.813487Z",
     "shell.execute_reply": "2021-11-09T09:00:09.814975Z"
    },
    "papermill": {
     "duration": 0.071986,
     "end_time": "2021-11-09T09:00:09.815461",
     "exception": false,
     "start_time": "2021-11-09T09:00:09.743475",
     "status": "completed"
    },
    "tags": []
   },
   "outputs": [
    {
     "data": {
      "text/html": [
       "<div>\n",
       "<style scoped>\n",
       "    .dataframe tbody tr th:only-of-type {\n",
       "        vertical-align: middle;\n",
       "    }\n",
       "\n",
       "    .dataframe tbody tr th {\n",
       "        vertical-align: top;\n",
       "    }\n",
       "\n",
       "    .dataframe thead th {\n",
       "        text-align: right;\n",
       "    }\n",
       "</style>\n",
       "<table border=\"1\" class=\"dataframe\">\n",
       "  <thead>\n",
       "    <tr style=\"text-align: right;\">\n",
       "      <th></th>\n",
       "      <th>RECORD_TIME</th>\n",
       "    </tr>\n",
       "  </thead>\n",
       "  <tbody>\n",
       "    <tr>\n",
       "      <th>0</th>\n",
       "      <td>2021-11-09 10:00</td>\n",
       "    </tr>\n",
       "    <tr>\n",
       "      <th>1</th>\n",
       "      <td>2021-11-09 09:30</td>\n",
       "    </tr>\n",
       "  </tbody>\n",
       "</table>\n",
       "</div>"
      ],
      "text/plain": [
       "        RECORD_TIME\n",
       "0  2021-11-09 10:00\n",
       "1  2021-11-09 09:30"
      ]
     },
     "execution_count": 3,
     "metadata": {},
     "output_type": "execute_result"
    }
   ],
   "source": [
    "timestamps"
   ]
  },
  {
   "cell_type": "code",
   "execution_count": 4,
   "id": "alternate-victory",
   "metadata": {
    "execution": {
     "iopub.execute_input": "2021-11-09T09:00:09.873047Z",
     "iopub.status.busy": "2021-11-09T09:00:09.870709Z",
     "iopub.status.idle": "2021-11-09T09:00:10.967492Z",
     "shell.execute_reply": "2021-11-09T09:00:10.969823Z"
    },
    "papermill": {
     "duration": 1.133007,
     "end_time": "2021-11-09T09:00:10.970336",
     "exception": false,
     "start_time": "2021-11-09T09:00:09.837329",
     "status": "completed"
    },
    "tags": []
   },
   "outputs": [],
   "source": [
    "df = pd.read_sql(\"select * from EBAY_TOP_BERLIN where record_time in (select distinct record_time from EBAY_TOP_BERLIN order by record_time desc limit 2)\", sqlite3.connect(\"UsedObjects.db\"))"
   ]
  },
  {
   "cell_type": "code",
   "execution_count": 5,
   "id": "popular-active",
   "metadata": {
    "execution": {
     "iopub.execute_input": "2021-11-09T09:00:11.050859Z",
     "iopub.status.busy": "2021-11-09T09:00:11.037051Z",
     "iopub.status.idle": "2021-11-09T09:00:11.070970Z",
     "shell.execute_reply": "2021-11-09T09:00:11.072852Z"
    },
    "papermill": {
     "duration": 0.079378,
     "end_time": "2021-11-09T09:00:11.073366",
     "exception": false,
     "start_time": "2021-11-09T09:00:10.993988",
     "status": "completed"
    },
    "tags": []
   },
   "outputs": [],
   "source": [
    "df_pivot = df.pivot_table(index=\"PRODUCT\", columns = \"RECORD_TIME\", values = \"LISTING_COUNT\")"
   ]
  },
  {
   "cell_type": "code",
   "execution_count": 6,
   "id": "union-huntington",
   "metadata": {
    "execution": {
     "iopub.execute_input": "2021-11-09T09:00:11.134051Z",
     "iopub.status.busy": "2021-11-09T09:00:11.131830Z",
     "iopub.status.idle": "2021-11-09T09:00:11.137677Z",
     "shell.execute_reply": "2021-11-09T09:00:11.139029Z"
    },
    "papermill": {
     "duration": 0.044299,
     "end_time": "2021-11-09T09:00:11.139506",
     "exception": false,
     "start_time": "2021-11-09T09:00:11.095207",
     "status": "completed"
    },
    "tags": []
   },
   "outputs": [],
   "source": [
    "df_pivot.columns = [\"stamp_1\", \"stamp_2\"]\n",
    "df_pivot_diff = df_pivot.diff(axis=1)"
   ]
  },
  {
   "cell_type": "code",
   "execution_count": 7,
   "id": "fifth-motion",
   "metadata": {
    "execution": {
     "iopub.execute_input": "2021-11-09T09:00:11.197257Z",
     "iopub.status.busy": "2021-11-09T09:00:11.194690Z",
     "iopub.status.idle": "2021-11-09T09:00:12.888733Z",
     "shell.execute_reply": "2021-11-09T09:00:12.890532Z"
    },
    "papermill": {
     "duration": 1.73117,
     "end_time": "2021-11-09T09:00:12.891128",
     "exception": false,
     "start_time": "2021-11-09T09:00:11.159958",
     "status": "completed"
    },
    "tags": []
   },
   "outputs": [
    {
     "data": {
      "text/plain": [
       "<AxesSubplot:ylabel='PRODUCT'>"
      ]
     },
     "execution_count": 7,
     "metadata": {},
     "output_type": "execute_result"
    },
    {
     "data": {
      "image/png": "[encoded data removed]",
      "text/plain": [
       "<Figure size 432x288 with 1 Axes>"
      ]
     },
     "metadata": {
      "needs_background": "light"
     },
     "output_type": "display_data"
    }
   ],
   "source": [
    "df_pivot_diff.sort_values(\"stamp_2\", ascending = False)[\"stamp_2\"].head(10).plot.barh()"
   ]
  },
  {
   "cell_type": "code",
   "execution_count": null,
   "id": "extra-executive",
   "metadata": {
    "papermill": {
     "duration": 0.036209,
     "end_time": "2021-11-09T09:00:12.965486",
     "exception": false,
     "start_time": "2021-11-09T09:00:12.929277",
     "status": "completed"
    },
    "tags": []
   },
   "outputs": [],
   "source": []
  }
 ],
 "metadata": {
  "kernelspec": {
   "display_name": "Python 3",
   "language": "python",
   "name": "python3"
  },
  "language_info": {
   "codemirror_mode": {
    "name": "ipython",
    "version": 3
   },
   "file_extension": ".py",
   "mimetype": "text/x-python",
   "name": "python",
   "nbconvert_exporter": "python",
   "pygments_lexer": "ipython3",
   "version": "3.9.5"
  },
  "papermill": {
   "default_parameters": {},
   "duration": 10.933016,
   "end_time": "2021-11-09T09:00:16.120059",
   "environment_variables": {},
   "exception": null,
   "input_path": "eBay_Overview.ipynb",
   "output_path": "eBay_Overview.ipynb",
   "parameters": {},
   "start_time": "2021-11-09T09:00:05.187043",
   "version": "2.3.3"
  }
 },
 "nbformat": 4,
 "nbformat_minor": 5
}