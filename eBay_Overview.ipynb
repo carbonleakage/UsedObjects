{
 "cells": [
  {
   "cell_type": "code",
   "execution_count": 1,
   "id": "reverse-picking",
   "metadata": {
    "execution": {
     "iopub.execute_input": "2021-09-23T19:30:07.469251Z",
     "iopub.status.busy": "2021-09-23T19:30:07.467307Z",
     "iopub.status.idle": "2021-09-23T19:30:08.272101Z",
     "shell.execute_reply": "2021-09-23T19:30:08.270465Z"
    },
    "papermill": {
     "duration": 0.856842,
     "end_time": "2021-09-23T19:30:08.272502",
     "exception": false,
     "start_time": "2021-09-23T19:30:07.415660",
     "status": "completed"
    },
    "tags": []
   },
   "outputs": [],
   "source": [
    "import pandas as pd\n",
    "import sqlite3"
   ]
  },
  {
   "cell_type": "code",
   "execution_count": 2,
   "id": "innovative-syndrome",
   "metadata": {
    "execution": {
     "iopub.execute_input": "2021-09-23T19:30:08.324907Z",
     "iopub.status.busy": "2021-09-23T19:30:08.322652Z",
     "iopub.status.idle": "2021-09-23T19:30:08.681835Z",
     "shell.execute_reply": "2021-09-23T19:30:08.683261Z"
    },
    "papermill": {
     "duration": 0.388854,
     "end_time": "2021-09-23T19:30:08.683713",
     "exception": false,
     "start_time": "2021-09-23T19:30:08.294859",
     "status": "completed"
    },
    "tags": []
   },
   "outputs": [],
   "source": [
    "timestamps = pd.read_sql(\"select distinct record_time from EBAY_TOP_BERLIN order by record_time desc limit 2\", sqlite3.connect(\"UsedObjects.db\"))"
   ]
  },
  {
   "cell_type": "code",
   "execution_count": 3,
   "id": "periodic-identification",
   "metadata": {
    "execution": {
     "iopub.execute_input": "2021-09-23T19:30:08.754397Z",
     "iopub.status.busy": "2021-09-23T19:30:08.749147Z",
     "iopub.status.idle": "2021-09-23T19:30:08.769574Z",
     "shell.execute_reply": "2021-09-23T19:30:08.770943Z"
    },
    "papermill": {
     "duration": 0.06672,
     "end_time": "2021-09-23T19:30:08.771376",
     "exception": false,
     "start_time": "2021-09-23T19:30:08.704656",
     "status": "completed"
    },
    "tags": []
   },
   "outputs": [
    {
     "data": {
      "text/html": [
       "<div>\n",
       "<style scoped>\n",
       "    .dataframe tbody tr th:only-of-type {\n",
       "        vertical-align: middle;\n",
       "    }\n",
       "\n",
       "    .dataframe tbody tr th {\n",
       "        vertical-align: top;\n",
       "    }\n",
       "\n",
       "    .dataframe thead th {\n",
       "        text-align: right;\n",
       "    }\n",
       "</style>\n",
       "<table border=\"1\" class=\"dataframe\">\n",
       "  <thead>\n",
       "    <tr style=\"text-align: right;\">\n",
       "      <th></th>\n",
       "      <th>RECORD_TIME</th>\n",
       "    </tr>\n",
       "  </thead>\n",
       "  <tbody>\n",
       "    <tr>\n",
       "      <th>0</th>\n",
       "      <td>2021-09-23 21:30</td>\n",
       "    </tr>\n",
       "    <tr>\n",
       "      <th>1</th>\n",
       "      <td>2021-09-23 21:00</td>\n",
       "    </tr>\n",
       "  </tbody>\n",
       "</table>\n",
       "</div>"
      ],
      "text/plain": [
       "        RECORD_TIME\n",
       "0  2021-09-23 21:30\n",
       "1  2021-09-23 21:00"
      ]
     },
     "execution_count": 3,
     "metadata": {},
     "output_type": "execute_result"
    }
   ],
   "source": [
    "timestamps"
   ]
  },
  {
   "cell_type": "code",
   "execution_count": 4,
   "id": "alternate-victory",
   "metadata": {
    "execution": {
     "iopub.execute_input": "2021-09-23T19:30:08.823035Z",
     "iopub.status.busy": "2021-09-23T19:30:08.821034Z",
     "iopub.status.idle": "2021-09-23T19:30:09.345881Z",
     "shell.execute_reply": "2021-09-23T19:30:09.347174Z"
    },
    "papermill": {
     "duration": 0.554943,
     "end_time": "2021-09-23T19:30:09.347591",
     "exception": false,
     "start_time": "2021-09-23T19:30:08.792648",
     "status": "completed"
    },
    "tags": []
   },
   "outputs": [],
   "source": [
    "df = pd.read_sql(\"select * from EBAY_TOP_BERLIN where record_time in (select distinct record_time from EBAY_TOP_BERLIN order by record_time desc limit 2)\", sqlite3.connect(\"UsedObjects.db\"))"
   ]
  },
  {
   "cell_type": "code",
   "execution_count": 5,
   "id": "popular-active",
   "metadata": {
    "execution": {
     "iopub.execute_input": "2021-09-23T19:30:09.432699Z",
     "iopub.status.busy": "2021-09-23T19:30:09.419781Z",
     "iopub.status.idle": "2021-09-23T19:30:09.448091Z",
     "shell.execute_reply": "2021-09-23T19:30:09.449299Z"
    },
    "papermill": {
     "duration": 0.071613,
     "end_time": "2021-09-23T19:30:09.449692",
     "exception": false,
     "start_time": "2021-09-23T19:30:09.378079",
     "status": "completed"
    },
    "tags": []
   },
   "outputs": [],
   "source": [
    "df_pivot = df.pivot_table(index=\"PRODUCT\", columns = \"RECORD_TIME\", values = \"LISTING_COUNT\")"
   ]
  },
  {
   "cell_type": "code",
   "execution_count": 6,
   "id": "union-huntington",
   "metadata": {
    "execution": {
     "iopub.execute_input": "2021-09-23T19:30:09.506199Z",
     "iopub.status.busy": "2021-09-23T19:30:09.504032Z",
     "iopub.status.idle": "2021-09-23T19:30:09.509508Z",
     "shell.execute_reply": "2021-09-23T19:30:09.511057Z"
    },
    "papermill": {
     "duration": 0.040999,
     "end_time": "2021-09-23T19:30:09.511543",
     "exception": false,
     "start_time": "2021-09-23T19:30:09.470544",
     "status": "completed"
    },
    "tags": []
   },
   "outputs": [],
   "source": [
    "df_pivot.columns = [\"stamp_1\", \"stamp_2\"]\n",
    "df_pivot_diff = df_pivot.diff(axis=1)"
   ]
  },
  {
   "cell_type": "code",
   "execution_count": 7,
   "id": "fifth-motion",
   "metadata": {
    "execution": {
     "iopub.execute_input": "2021-09-23T19:30:09.568055Z",
     "iopub.status.busy": "2021-09-23T19:30:09.565500Z",
     "iopub.status.idle": "2021-09-23T19:30:11.055445Z",
     "shell.execute_reply": "2021-09-23T19:30:11.056729Z"
    },
    "papermill": {
     "duration": 1.523451,
     "end_time": "2021-09-23T19:30:11.057180",
     "exception": false,
     "start_time": "2021-09-23T19:30:09.533729",
     "status": "completed"
    },
    "tags": []
   },
   "outputs": [
    {
     "data": {
      "text/plain": [
       "<AxesSubplot:ylabel='PRODUCT'>"
      ]
     },
     "execution_count": 7,
     "metadata": {},
     "output_type": "execute_result"
    },
    {
     "data": {
      "image/png": "[encoded data removed]",
      "text/plain": [
       "<Figure size 432x288 with 1 Axes>"
      ]
     },
     "metadata": {
      "needs_background": "light"
     },
     "output_type": "display_data"
    }
   ],
   "source": [
    "df_pivot_diff.sort_values(\"stamp_2\", ascending = False)[\"stamp_2\"].head(10).plot.barh()"
   ]
  },
  {
   "cell_type": "code",
   "execution_count": null,
   "id": "extra-executive",
   "metadata": {
    "papermill": {
     "duration": 0.022636,
     "end_time": "2021-09-23T19:30:11.104584",
     "exception": false,
     "start_time": "2021-09-23T19:30:11.081948",
     "status": "completed"
    },
    "tags": []
   },
   "outputs": [],
   "source": []
  }
 ],
 "metadata": {
  "kernelspec": {
   "display_name": "Python 3",
   "language": "python",
   "name": "python3"
  },
  "language_info": {
   "codemirror_mode": {
    "name": "ipython",
    "version": 3
   },
   "file_extension": ".py",
   "mimetype": "text/x-python",
   "name": "python",
   "nbconvert_exporter": "python",
   "pygments_lexer": "ipython3",
   "version": "3.9.5"
  },
  "papermill": {
   "default_parameters": {},
   "duration": 6.72892,
   "end_time": "2021-09-23T19:30:11.748139",
   "environment_variables": {},
   "exception": null,
   "input_path": "eBay_Overview.ipynb",
   "output_path": "eBay_Overview.ipynb",
   "parameters": {},
   "start_time": "2021-09-23T19:30:05.019219",
   "version": "2.3.3"
  }
 },
 "nbformat": 4,
 "nbformat_minor": 5
}