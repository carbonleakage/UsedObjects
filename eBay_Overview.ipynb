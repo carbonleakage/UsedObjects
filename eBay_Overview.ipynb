{
 "cells": [
  {
   "cell_type": "code",
   "execution_count": 1,
   "id": "reverse-picking",
   "metadata": {
    "execution": {
     "iopub.execute_input": "2021-09-25T01:30:06.740477Z",
     "iopub.status.busy": "2021-09-25T01:30:06.738449Z",
     "iopub.status.idle": "2021-09-25T01:30:07.545303Z",
     "shell.execute_reply": "2021-09-25T01:30:07.546557Z"
    },
    "papermill": {
     "duration": 0.858322,
     "end_time": "2021-09-25T01:30:07.547243",
     "exception": false,
     "start_time": "2021-09-25T01:30:06.688921",
     "status": "completed"
    },
    "tags": []
   },
   "outputs": [],
   "source": [
    "import pandas as pd\n",
    "import sqlite3"
   ]
  },
  {
   "cell_type": "code",
   "execution_count": 2,
   "id": "innovative-syndrome",
   "metadata": {
    "execution": {
     "iopub.execute_input": "2021-09-25T01:30:07.597584Z",
     "iopub.status.busy": "2021-09-25T01:30:07.595749Z",
     "iopub.status.idle": "2021-09-25T01:30:07.963853Z",
     "shell.execute_reply": "2021-09-25T01:30:07.965046Z"
    },
    "papermill": {
     "duration": 0.397513,
     "end_time": "2021-09-25T01:30:07.965438",
     "exception": false,
     "start_time": "2021-09-25T01:30:07.567925",
     "status": "completed"
    },
    "tags": []
   },
   "outputs": [],
   "source": [
    "timestamps = pd.read_sql(\"select distinct record_time from EBAY_TOP_BERLIN order by record_time desc limit 2\", sqlite3.connect(\"UsedObjects.db\"))"
   ]
  },
  {
   "cell_type": "code",
   "execution_count": 3,
   "id": "periodic-identification",
   "metadata": {
    "execution": {
     "iopub.execute_input": "2021-09-25T01:30:08.029603Z",
     "iopub.status.busy": "2021-09-25T01:30:08.027601Z",
     "iopub.status.idle": "2021-09-25T01:30:08.048956Z",
     "shell.execute_reply": "2021-09-25T01:30:08.050161Z"
    },
    "papermill": {
     "duration": 0.064672,
     "end_time": "2021-09-25T01:30:08.050560",
     "exception": false,
     "start_time": "2021-09-25T01:30:07.985888",
     "status": "completed"
    },
    "tags": []
   },
   "outputs": [
    {
     "data": {
      "text/html": [
       "<div>\n",
       "<style scoped>\n",
       "    .dataframe tbody tr th:only-of-type {\n",
       "        vertical-align: middle;\n",
       "    }\n",
       "\n",
       "    .dataframe tbody tr th {\n",
       "        vertical-align: top;\n",
       "    }\n",
       "\n",
       "    .dataframe thead th {\n",
       "        text-align: right;\n",
       "    }\n",
       "</style>\n",
       "<table border=\"1\" class=\"dataframe\">\n",
       "  <thead>\n",
       "    <tr style=\"text-align: right;\">\n",
       "      <th></th>\n",
       "      <th>RECORD_TIME</th>\n",
       "    </tr>\n",
       "  </thead>\n",
       "  <tbody>\n",
       "    <tr>\n",
       "      <th>0</th>\n",
       "      <td>2021-09-25 03:30</td>\n",
       "    </tr>\n",
       "    <tr>\n",
       "      <th>1</th>\n",
       "      <td>2021-09-25 03:00</td>\n",
       "    </tr>\n",
       "  </tbody>\n",
       "</table>\n",
       "</div>"
      ],
      "text/plain": [
       "        RECORD_TIME\n",
       "0  2021-09-25 03:30\n",
       "1  2021-09-25 03:00"
      ]
     },
     "execution_count": 3,
     "metadata": {},
     "output_type": "execute_result"
    }
   ],
   "source": [
    "timestamps"
   ]
  },
  {
   "cell_type": "code",
   "execution_count": 4,
   "id": "alternate-victory",
   "metadata": {
    "execution": {
     "iopub.execute_input": "2021-09-25T01:30:08.103902Z",
     "iopub.status.busy": "2021-09-25T01:30:08.101527Z",
     "iopub.status.idle": "2021-09-25T01:30:08.654970Z",
     "shell.execute_reply": "2021-09-25T01:30:08.656228Z"
    },
    "papermill": {
     "duration": 0.583558,
     "end_time": "2021-09-25T01:30:08.656621",
     "exception": false,
     "start_time": "2021-09-25T01:30:08.073063",
     "status": "completed"
    },
    "tags": []
   },
   "outputs": [],
   "source": [
    "df = pd.read_sql(\"select * from EBAY_TOP_BERLIN where record_time in (select distinct record_time from EBAY_TOP_BERLIN order by record_time desc limit 2)\", sqlite3.connect(\"UsedObjects.db\"))"
   ]
  },
  {
   "cell_type": "code",
   "execution_count": 5,
   "id": "popular-active",
   "metadata": {
    "execution": {
     "iopub.execute_input": "2021-09-25T01:30:08.728019Z",
     "iopub.status.busy": "2021-09-25T01:30:08.715135Z",
     "iopub.status.idle": "2021-09-25T01:30:08.745329Z",
     "shell.execute_reply": "2021-09-25T01:30:08.746609Z"
    },
    "papermill": {
     "duration": 0.068989,
     "end_time": "2021-09-25T01:30:08.747080",
     "exception": false,
     "start_time": "2021-09-25T01:30:08.678091",
     "status": "completed"
    },
    "tags": []
   },
   "outputs": [],
   "source": [
    "df_pivot = df.pivot_table(index=\"PRODUCT\", columns = \"RECORD_TIME\", values = \"LISTING_COUNT\")"
   ]
  },
  {
   "cell_type": "code",
   "execution_count": 6,
   "id": "union-huntington",
   "metadata": {
    "execution": {
     "iopub.execute_input": "2021-09-25T01:30:08.802740Z",
     "iopub.status.busy": "2021-09-25T01:30:08.800707Z",
     "iopub.status.idle": "2021-09-25T01:30:08.806104Z",
     "shell.execute_reply": "2021-09-25T01:30:08.807451Z"
    },
    "papermill": {
     "duration": 0.040864,
     "end_time": "2021-09-25T01:30:08.807870",
     "exception": false,
     "start_time": "2021-09-25T01:30:08.767006",
     "status": "completed"
    },
    "tags": []
   },
   "outputs": [],
   "source": [
    "df_pivot.columns = [\"stamp_1\", \"stamp_2\"]\n",
    "df_pivot_diff = df_pivot.diff(axis=1)"
   ]
  },
  {
   "cell_type": "code",
   "execution_count": 7,
   "id": "fifth-motion",
   "metadata": {
    "execution": {
     "iopub.execute_input": "2021-09-25T01:30:08.861316Z",
     "iopub.status.busy": "2021-09-25T01:30:08.858971Z",
     "iopub.status.idle": "2021-09-25T01:30:10.352056Z",
     "shell.execute_reply": "2021-09-25T01:30:10.353318Z"
    },
    "papermill": {
     "duration": 1.52549,
     "end_time": "2021-09-25T01:30:10.353771",
     "exception": false,
     "start_time": "2021-09-25T01:30:08.828281",
     "status": "completed"
    },
    "tags": []
   },
   "outputs": [
    {
     "data": {
      "text/plain": [
       "<AxesSubplot:ylabel='PRODUCT'>"
      ]
     },
     "execution_count": 7,
     "metadata": {},
     "output_type": "execute_result"
    },
    {
     "data": {
      "image/png": "[encoded data removed]",
      "text/plain": [
       "<Figure size 432x288 with 1 Axes>"
      ]
     },
     "metadata": {
      "needs_background": "light"
     },
     "output_type": "display_data"
    }
   ],
   "source": [
    "df_pivot_diff.sort_values(\"stamp_2\", ascending = False)[\"stamp_2\"].head(10).plot.barh()"
   ]
  },
  {
   "cell_type": "code",
   "execution_count": null,
   "id": "extra-executive",
   "metadata": {
    "papermill": {
     "duration": 0.022105,
     "end_time": "2021-09-25T01:30:10.400283",
     "exception": false,
     "start_time": "2021-09-25T01:30:10.378178",
     "status": "completed"
    },
    "tags": []
   },
   "outputs": [],
   "source": []
  }
 ],
 "metadata": {
  "kernelspec": {
   "display_name": "Python 3",
   "language": "python",
   "name": "python3"
  },
  "language_info": {
   "codemirror_mode": {
    "name": "ipython",
    "version": 3
   },
   "file_extension": ".py",
   "mimetype": "text/x-python",
   "name": "python",
   "nbconvert_exporter": "python",
   "pygments_lexer": "ipython3",
   "version": "3.9.5"
  },
  "papermill": {
   "default_parameters": {},
   "duration": 6.75148,
   "end_time": "2021-09-25T01:30:11.043540",
   "environment_variables": {},
   "exception": null,
   "input_path": "eBay_Overview.ipynb",
   "output_path": "eBay_Overview.ipynb",
   "parameters": {},
   "start_time": "2021-09-25T01:30:04.292060",
   "version": "2.3.3"
  }
 },
 "nbformat": 4,
 "nbformat_minor": 5
}