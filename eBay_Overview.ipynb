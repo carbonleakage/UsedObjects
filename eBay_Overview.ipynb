{
 "cells": [
  {
   "cell_type": "code",
   "execution_count": 1,
   "id": "reverse-picking",
   "metadata": {
    "execution": {
     "iopub.execute_input": "2021-09-19T09:30:07.339397Z",
     "iopub.status.busy": "2021-09-19T09:30:07.337364Z",
     "iopub.status.idle": "2021-09-19T09:30:08.141642Z",
     "shell.execute_reply": "2021-09-19T09:30:08.143041Z"
    },
    "papermill": {
     "duration": 0.856221,
     "end_time": "2021-09-19T09:30:08.143702",
     "exception": false,
     "start_time": "2021-09-19T09:30:07.287481",
     "status": "completed"
    },
    "tags": []
   },
   "outputs": [],
   "source": [
    "import pandas as pd\n",
    "import sqlite3"
   ]
  },
  {
   "cell_type": "code",
   "execution_count": 2,
   "id": "innovative-syndrome",
   "metadata": {
    "execution": {
     "iopub.execute_input": "2021-09-19T09:30:08.195394Z",
     "iopub.status.busy": "2021-09-19T09:30:08.193357Z",
     "iopub.status.idle": "2021-09-19T09:30:08.513884Z",
     "shell.execute_reply": "2021-09-19T09:30:08.515253Z"
    },
    "papermill": {
     "duration": 0.350731,
     "end_time": "2021-09-19T09:30:08.515687",
     "exception": false,
     "start_time": "2021-09-19T09:30:08.164956",
     "status": "completed"
    },
    "tags": []
   },
   "outputs": [],
   "source": [
    "timestamps = pd.read_sql(\"select distinct record_time from EBAY_TOP_BERLIN order by record_time desc limit 2\", sqlite3.connect(\"UsedObjects.db\"))"
   ]
  },
  {
   "cell_type": "code",
   "execution_count": 3,
   "id": "periodic-identification",
   "metadata": {
    "execution": {
     "iopub.execute_input": "2021-09-19T09:30:08.581040Z",
     "iopub.status.busy": "2021-09-19T09:30:08.578661Z",
     "iopub.status.idle": "2021-09-19T09:30:08.599088Z",
     "shell.execute_reply": "2021-09-19T09:30:08.600433Z"
    },
    "papermill": {
     "duration": 0.065429,
     "end_time": "2021-09-19T09:30:08.600834",
     "exception": false,
     "start_time": "2021-09-19T09:30:08.535405",
     "status": "completed"
    },
    "tags": []
   },
   "outputs": [
    {
     "data": {
      "text/html": [
       "<div>\n",
       "<style scoped>\n",
       "    .dataframe tbody tr th:only-of-type {\n",
       "        vertical-align: middle;\n",
       "    }\n",
       "\n",
       "    .dataframe tbody tr th {\n",
       "        vertical-align: top;\n",
       "    }\n",
       "\n",
       "    .dataframe thead th {\n",
       "        text-align: right;\n",
       "    }\n",
       "</style>\n",
       "<table border=\"1\" class=\"dataframe\">\n",
       "  <thead>\n",
       "    <tr style=\"text-align: right;\">\n",
       "      <th></th>\n",
       "      <th>RECORD_TIME</th>\n",
       "    </tr>\n",
       "  </thead>\n",
       "  <tbody>\n",
       "    <tr>\n",
       "      <th>0</th>\n",
       "      <td>2021-09-19 11:30</td>\n",
       "    </tr>\n",
       "    <tr>\n",
       "      <th>1</th>\n",
       "      <td>2021-09-19 11:00</td>\n",
       "    </tr>\n",
       "  </tbody>\n",
       "</table>\n",
       "</div>"
      ],
      "text/plain": [
       "        RECORD_TIME\n",
       "0  2021-09-19 11:30\n",
       "1  2021-09-19 11:00"
      ]
     },
     "execution_count": 3,
     "metadata": {},
     "output_type": "execute_result"
    }
   ],
   "source": [
    "timestamps"
   ]
  },
  {
   "cell_type": "code",
   "execution_count": 4,
   "id": "alternate-victory",
   "metadata": {
    "execution": {
     "iopub.execute_input": "2021-09-19T09:30:08.653834Z",
     "iopub.status.busy": "2021-09-19T09:30:08.651557Z",
     "iopub.status.idle": "2021-09-19T09:30:09.125905Z",
     "shell.execute_reply": "2021-09-19T09:30:09.127174Z"
    },
    "papermill": {
     "duration": 0.50468,
     "end_time": "2021-09-19T09:30:09.127568",
     "exception": false,
     "start_time": "2021-09-19T09:30:08.622888",
     "status": "completed"
    },
    "tags": []
   },
   "outputs": [],
   "source": [
    "df = pd.read_sql(\"select * from EBAY_TOP_BERLIN where record_time in (select distinct record_time from EBAY_TOP_BERLIN order by record_time desc limit 2)\", sqlite3.connect(\"UsedObjects.db\"))"
   ]
  },
  {
   "cell_type": "code",
   "execution_count": 5,
   "id": "popular-active",
   "metadata": {
    "execution": {
     "iopub.execute_input": "2021-09-19T09:30:09.206591Z",
     "iopub.status.busy": "2021-09-19T09:30:09.194313Z",
     "iopub.status.idle": "2021-09-19T09:30:09.222975Z",
     "shell.execute_reply": "2021-09-19T09:30:09.224375Z"
    },
    "papermill": {
     "duration": 0.071252,
     "end_time": "2021-09-19T09:30:09.224804",
     "exception": false,
     "start_time": "2021-09-19T09:30:09.153552",
     "status": "completed"
    },
    "tags": []
   },
   "outputs": [],
   "source": [
    "df_pivot = df.pivot_table(index=\"PRODUCT\", columns = \"RECORD_TIME\", values = \"LISTING_COUNT\")"
   ]
  },
  {
   "cell_type": "code",
   "execution_count": 6,
   "id": "union-huntington",
   "metadata": {
    "execution": {
     "iopub.execute_input": "2021-09-19T09:30:09.282621Z",
     "iopub.status.busy": "2021-09-19T09:30:09.280218Z",
     "iopub.status.idle": "2021-09-19T09:30:09.286015Z",
     "shell.execute_reply": "2021-09-19T09:30:09.287473Z"
    },
    "papermill": {
     "duration": 0.042527,
     "end_time": "2021-09-19T09:30:09.287912",
     "exception": false,
     "start_time": "2021-09-19T09:30:09.245385",
     "status": "completed"
    },
    "tags": []
   },
   "outputs": [],
   "source": [
    "df_pivot.columns = [\"stamp_1\", \"stamp_2\"]\n",
    "df_pivot_diff = df_pivot.diff(axis=1)"
   ]
  },
  {
   "cell_type": "code",
   "execution_count": 7,
   "id": "fifth-motion",
   "metadata": {
    "execution": {
     "iopub.execute_input": "2021-09-19T09:30:09.342676Z",
     "iopub.status.busy": "2021-09-19T09:30:09.340500Z",
     "iopub.status.idle": "2021-09-19T09:30:10.805721Z",
     "shell.execute_reply": "2021-09-19T09:30:10.807252Z"
    },
    "papermill": {
     "duration": 1.498381,
     "end_time": "2021-09-19T09:30:10.807720",
     "exception": false,
     "start_time": "2021-09-19T09:30:09.309339",
     "status": "completed"
    },
    "tags": []
   },
   "outputs": [
    {
     "data": {
      "text/plain": [
       "<AxesSubplot:ylabel='PRODUCT'>"
      ]
     },
     "execution_count": 7,
     "metadata": {},
     "output_type": "execute_result"
    },
    {
     "data": {
      "image/png": "[encoded data removed]",
      "text/plain": [
       "<Figure size 432x288 with 1 Axes>"
      ]
     },
     "metadata": {
      "needs_background": "light"
     },
     "output_type": "display_data"
    }
   ],
   "source": [
    "df_pivot_diff.sort_values(\"stamp_2\", ascending = False)[\"stamp_2\"].head(10).plot.barh()"
   ]
  },
  {
   "cell_type": "code",
   "execution_count": null,
   "id": "extra-executive",
   "metadata": {
    "papermill": {
     "duration": 0.022432,
     "end_time": "2021-09-19T09:30:10.855587",
     "exception": false,
     "start_time": "2021-09-19T09:30:10.833155",
     "status": "completed"
    },
    "tags": []
   },
   "outputs": [],
   "source": []
  }
 ],
 "metadata": {
  "kernelspec": {
   "display_name": "Python 3",
   "language": "python",
   "name": "python3"
  },
  "language_info": {
   "codemirror_mode": {
    "name": "ipython",
    "version": 3
   },
   "file_extension": ".py",
   "mimetype": "text/x-python",
   "name": "python",
   "nbconvert_exporter": "python",
   "pygments_lexer": "ipython3",
   "version": "3.9.5"
  },
  "papermill": {
   "default_parameters": {},
   "duration": 6.612102,
   "end_time": "2021-09-19T09:30:11.496394",
   "environment_variables": {},
   "exception": null,
   "input_path": "eBay_Overview.ipynb",
   "output_path": "eBay_Overview.ipynb",
   "parameters": {},
   "start_time": "2021-09-19T09:30:04.884292",
   "version": "2.3.3"
  }
 },
 "nbformat": 4,
 "nbformat_minor": 5
}