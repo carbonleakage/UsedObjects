{
 "cells": [
  {
   "cell_type": "code",
   "execution_count": 1,
   "id": "reverse-picking",
   "metadata": {
    "execution": {
     "iopub.execute_input": "2021-09-11T20:30:06.820595Z",
     "iopub.status.busy": "2021-09-11T20:30:06.818508Z",
     "iopub.status.idle": "2021-09-11T20:30:07.628392Z",
     "shell.execute_reply": "2021-09-11T20:30:07.629687Z"
    },
    "papermill": {
     "duration": 0.863033,
     "end_time": "2021-09-11T20:30:07.630334",
     "exception": false,
     "start_time": "2021-09-11T20:30:06.767301",
     "status": "completed"
    },
    "tags": []
   },
   "outputs": [],
   "source": [
    "import pandas as pd\n",
    "import sqlite3"
   ]
  },
  {
   "cell_type": "code",
   "execution_count": 2,
   "id": "innovative-syndrome",
   "metadata": {
    "execution": {
     "iopub.execute_input": "2021-09-11T20:30:07.681885Z",
     "iopub.status.busy": "2021-09-11T20:30:07.679682Z",
     "iopub.status.idle": "2021-09-11T20:30:07.940215Z",
     "shell.execute_reply": "2021-09-11T20:30:07.941477Z"
    },
    "papermill": {
     "duration": 0.290579,
     "end_time": "2021-09-11T20:30:07.941880",
     "exception": false,
     "start_time": "2021-09-11T20:30:07.651301",
     "status": "completed"
    },
    "tags": []
   },
   "outputs": [],
   "source": [
    "timestamps = pd.read_sql(\"select distinct record_time from EBAY_TOP_BERLIN order by record_time desc limit 2\", sqlite3.connect(\"UsedObjects.db\"))"
   ]
  },
  {
   "cell_type": "code",
   "execution_count": 3,
   "id": "periodic-identification",
   "metadata": {
    "execution": {
     "iopub.execute_input": "2021-09-11T20:30:08.006517Z",
     "iopub.status.busy": "2021-09-11T20:30:08.004447Z",
     "iopub.status.idle": "2021-09-11T20:30:08.024375Z",
     "shell.execute_reply": "2021-09-11T20:30:08.025629Z"
    },
    "papermill": {
     "duration": 0.064689,
     "end_time": "2021-09-11T20:30:08.026028",
     "exception": false,
     "start_time": "2021-09-11T20:30:07.961339",
     "status": "completed"
    },
    "tags": []
   },
   "outputs": [
    {
     "data": {
      "text/html": [
       "<div>\n",
       "<style scoped>\n",
       "    .dataframe tbody tr th:only-of-type {\n",
       "        vertical-align: middle;\n",
       "    }\n",
       "\n",
       "    .dataframe tbody tr th {\n",
       "        vertical-align: top;\n",
       "    }\n",
       "\n",
       "    .dataframe thead th {\n",
       "        text-align: right;\n",
       "    }\n",
       "</style>\n",
       "<table border=\"1\" class=\"dataframe\">\n",
       "  <thead>\n",
       "    <tr style=\"text-align: right;\">\n",
       "      <th></th>\n",
       "      <th>RECORD_TIME</th>\n",
       "    </tr>\n",
       "  </thead>\n",
       "  <tbody>\n",
       "    <tr>\n",
       "      <th>0</th>\n",
       "      <td>2021-09-11 22:30</td>\n",
       "    </tr>\n",
       "    <tr>\n",
       "      <th>1</th>\n",
       "      <td>2021-09-11 22:00</td>\n",
       "    </tr>\n",
       "  </tbody>\n",
       "</table>\n",
       "</div>"
      ],
      "text/plain": [
       "        RECORD_TIME\n",
       "0  2021-09-11 22:30\n",
       "1  2021-09-11 22:00"
      ]
     },
     "execution_count": 3,
     "metadata": {},
     "output_type": "execute_result"
    }
   ],
   "source": [
    "timestamps"
   ]
  },
  {
   "cell_type": "code",
   "execution_count": 4,
   "id": "alternate-victory",
   "metadata": {
    "execution": {
     "iopub.execute_input": "2021-09-11T20:30:08.079312Z",
     "iopub.status.busy": "2021-09-11T20:30:08.076933Z",
     "iopub.status.idle": "2021-09-11T20:30:08.465309Z",
     "shell.execute_reply": "2021-09-11T20:30:08.466539Z"
    },
    "papermill": {
     "duration": 0.419132,
     "end_time": "2021-09-11T20:30:08.466990",
     "exception": false,
     "start_time": "2021-09-11T20:30:08.047858",
     "status": "completed"
    },
    "tags": []
   },
   "outputs": [],
   "source": [
    "df = pd.read_sql(\"select * from EBAY_TOP_BERLIN where record_time in (select distinct record_time from EBAY_TOP_BERLIN order by record_time desc limit 2)\", sqlite3.connect(\"UsedObjects.db\"))"
   ]
  },
  {
   "cell_type": "code",
   "execution_count": 5,
   "id": "popular-active",
   "metadata": {
    "execution": {
     "iopub.execute_input": "2021-09-11T20:30:08.553937Z",
     "iopub.status.busy": "2021-09-11T20:30:08.541790Z",
     "iopub.status.idle": "2021-09-11T20:30:08.569345Z",
     "shell.execute_reply": "2021-09-11T20:30:08.570580Z"
    },
    "papermill": {
     "duration": 0.073218,
     "end_time": "2021-09-11T20:30:08.571041",
     "exception": false,
     "start_time": "2021-09-11T20:30:08.497823",
     "status": "completed"
    },
    "tags": []
   },
   "outputs": [],
   "source": [
    "df_pivot = df.pivot_table(index=\"PRODUCT\", columns = \"RECORD_TIME\", values = \"LISTING_COUNT\")"
   ]
  },
  {
   "cell_type": "code",
   "execution_count": 6,
   "id": "union-huntington",
   "metadata": {
    "execution": {
     "iopub.execute_input": "2021-09-11T20:30:08.627455Z",
     "iopub.status.busy": "2021-09-11T20:30:08.625303Z",
     "iopub.status.idle": "2021-09-11T20:30:08.630678Z",
     "shell.execute_reply": "2021-09-11T20:30:08.632010Z"
    },
    "papermill": {
     "duration": 0.040767,
     "end_time": "2021-09-11T20:30:08.632514",
     "exception": false,
     "start_time": "2021-09-11T20:30:08.591747",
     "status": "completed"
    },
    "tags": []
   },
   "outputs": [],
   "source": [
    "df_pivot.columns = [\"stamp_1\", \"stamp_2\"]\n",
    "df_pivot_diff = df_pivot.diff(axis=1)"
   ]
  },
  {
   "cell_type": "code",
   "execution_count": 7,
   "id": "fifth-motion",
   "metadata": {
    "execution": {
     "iopub.execute_input": "2021-09-11T20:30:08.688694Z",
     "iopub.status.busy": "2021-09-11T20:30:08.686045Z",
     "iopub.status.idle": "2021-09-11T20:30:10.182541Z",
     "shell.execute_reply": "2021-09-11T20:30:10.183913Z"
    },
    "papermill": {
     "duration": 1.530133,
     "end_time": "2021-09-11T20:30:10.184344",
     "exception": false,
     "start_time": "2021-09-11T20:30:08.654211",
     "status": "completed"
    },
    "tags": []
   },
   "outputs": [
    {
     "data": {
      "text/plain": [
       "<AxesSubplot:ylabel='PRODUCT'>"
      ]
     },
     "execution_count": 7,
     "metadata": {},
     "output_type": "execute_result"
    },
    {
     "data": {
      "image/png": "[encoded data removed]",
      "text/plain": [
       "<Figure size 432x288 with 1 Axes>"
      ]
     },
     "metadata": {
      "needs_background": "light"
     },
     "output_type": "display_data"
    }
   ],
   "source": [
    "df_pivot_diff.sort_values(\"stamp_2\", ascending = False)[\"stamp_2\"].head(10).plot.barh()"
   ]
  },
  {
   "cell_type": "code",
   "execution_count": null,
   "id": "extra-executive",
   "metadata": {
    "papermill": {
     "duration": 0.022305,
     "end_time": "2021-09-11T20:30:10.231261",
     "exception": false,
     "start_time": "2021-09-11T20:30:10.208956",
     "status": "completed"
    },
    "tags": []
   },
   "outputs": [],
   "source": []
  }
 ],
 "metadata": {
  "kernelspec": {
   "display_name": "Python 3",
   "language": "python",
   "name": "python3"
  },
  "language_info": {
   "codemirror_mode": {
    "name": "ipython",
    "version": 3
   },
   "file_extension": ".py",
   "mimetype": "text/x-python",
   "name": "python",
   "nbconvert_exporter": "python",
   "pygments_lexer": "ipython3",
   "version": "3.9.5"
  },
  "papermill": {
   "default_parameters": {},
   "duration": 6.530801,
   "end_time": "2021-09-11T20:30:10.872930",
   "environment_variables": {},
   "exception": null,
   "input_path": "eBay_Overview.ipynb",
   "output_path": "eBay_Overview.ipynb",
   "parameters": {},
   "start_time": "2021-09-11T20:30:04.342129",
   "version": "2.3.3"
  }
 },
 "nbformat": 4,
 "nbformat_minor": 5
}