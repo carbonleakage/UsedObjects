{
 "cells": [
  {
   "cell_type": "code",
   "execution_count": 1,
   "id": "reverse-picking",
   "metadata": {
    "execution": {
     "iopub.execute_input": "2021-12-04T03:00:07.264226Z",
     "iopub.status.busy": "2021-12-04T03:00:07.252013Z",
     "iopub.status.idle": "2021-12-04T03:00:08.216398Z",
     "shell.execute_reply": "2021-12-04T03:00:08.218410Z"
    },
    "papermill": {
     "duration": 1.012428,
     "end_time": "2021-12-04T03:00:08.219147",
     "exception": false,
     "start_time": "2021-12-04T03:00:07.206719",
     "status": "completed"
    },
    "tags": []
   },
   "outputs": [],
   "source": [
    "import pandas as pd\n",
    "import sqlite3"
   ]
  },
  {
   "cell_type": "code",
   "execution_count": 2,
   "id": "innovative-syndrome",
   "metadata": {
    "execution": {
     "iopub.execute_input": "2021-12-04T03:00:08.285497Z",
     "iopub.status.busy": "2021-12-04T03:00:08.283307Z",
     "iopub.status.idle": "2021-12-04T03:00:09.277988Z",
     "shell.execute_reply": "2021-12-04T03:00:09.275311Z"
    },
    "papermill": {
     "duration": 1.028418,
     "end_time": "2021-12-04T03:00:09.278424",
     "exception": false,
     "start_time": "2021-12-04T03:00:08.250006",
     "status": "completed"
    },
    "tags": []
   },
   "outputs": [],
   "source": [
    "timestamps = pd.read_sql(\"select distinct record_time from EBAY_TOP_BERLIN order by record_time desc limit 2\", sqlite3.connect(\"UsedObjects.db\"))"
   ]
  },
  {
   "cell_type": "code",
   "execution_count": 3,
   "id": "periodic-identification",
   "metadata": {
    "execution": {
     "iopub.execute_input": "2021-12-04T03:00:09.350179Z",
     "iopub.status.busy": "2021-12-04T03:00:09.347825Z",
     "iopub.status.idle": "2021-12-04T03:00:09.373819Z",
     "shell.execute_reply": "2021-12-04T03:00:09.372028Z"
    },
    "papermill": {
     "duration": 0.074403,
     "end_time": "2021-12-04T03:00:09.374252",
     "exception": false,
     "start_time": "2021-12-04T03:00:09.299849",
     "status": "completed"
    },
    "tags": []
   },
   "outputs": [
    {
     "data": {
      "text/html": [
       "<div>\n",
       "<style scoped>\n",
       "    .dataframe tbody tr th:only-of-type {\n",
       "        vertical-align: middle;\n",
       "    }\n",
       "\n",
       "    .dataframe tbody tr th {\n",
       "        vertical-align: top;\n",
       "    }\n",
       "\n",
       "    .dataframe thead th {\n",
       "        text-align: right;\n",
       "    }\n",
       "</style>\n",
       "<table border=\"1\" class=\"dataframe\">\n",
       "  <thead>\n",
       "    <tr style=\"text-align: right;\">\n",
       "      <th></th>\n",
       "      <th>RECORD_TIME</th>\n",
       "    </tr>\n",
       "  </thead>\n",
       "  <tbody>\n",
       "    <tr>\n",
       "      <th>0</th>\n",
       "      <td>2021-12-04 04:00</td>\n",
       "    </tr>\n",
       "    <tr>\n",
       "      <th>1</th>\n",
       "      <td>2021-12-04 03:30</td>\n",
       "    </tr>\n",
       "  </tbody>\n",
       "</table>\n",
       "</div>"
      ],
      "text/plain": [
       "        RECORD_TIME\n",
       "0  2021-12-04 04:00\n",
       "1  2021-12-04 03:30"
      ]
     },
     "execution_count": 3,
     "metadata": {},
     "output_type": "execute_result"
    }
   ],
   "source": [
    "timestamps"
   ]
  },
  {
   "cell_type": "code",
   "execution_count": 4,
   "id": "alternate-victory",
   "metadata": {
    "execution": {
     "iopub.execute_input": "2021-12-04T03:00:09.433524Z",
     "iopub.status.busy": "2021-12-04T03:00:09.431355Z",
     "iopub.status.idle": "2021-12-04T03:00:10.881883Z",
     "shell.execute_reply": "2021-12-04T03:00:10.883078Z"
    },
    "papermill": {
     "duration": 1.485517,
     "end_time": "2021-12-04T03:00:10.883553",
     "exception": false,
     "start_time": "2021-12-04T03:00:09.398036",
     "status": "completed"
    },
    "tags": []
   },
   "outputs": [],
   "source": [
    "df = pd.read_sql(\"select * from EBAY_TOP_BERLIN where record_time in (select distinct record_time from EBAY_TOP_BERLIN order by record_time desc limit 2)\", sqlite3.connect(\"UsedObjects.db\"))"
   ]
  },
  {
   "cell_type": "code",
   "execution_count": 5,
   "id": "popular-active",
   "metadata": {
    "execution": {
     "iopub.execute_input": "2021-12-04T03:00:10.957018Z",
     "iopub.status.busy": "2021-12-04T03:00:10.948252Z",
     "iopub.status.idle": "2021-12-04T03:00:10.981630Z",
     "shell.execute_reply": "2021-12-04T03:00:10.983089Z"
    },
    "papermill": {
     "duration": 0.077702,
     "end_time": "2021-12-04T03:00:10.983547",
     "exception": false,
     "start_time": "2021-12-04T03:00:10.905845",
     "status": "completed"
    },
    "tags": []
   },
   "outputs": [],
   "source": [
    "df_pivot = df.pivot_table(index=\"PRODUCT\", columns = \"RECORD_TIME\", values = \"LISTING_COUNT\")"
   ]
  },
  {
   "cell_type": "code",
   "execution_count": 6,
   "id": "union-huntington",
   "metadata": {
    "execution": {
     "iopub.execute_input": "2021-12-04T03:00:11.042427Z",
     "iopub.status.busy": "2021-12-04T03:00:11.040201Z",
     "iopub.status.idle": "2021-12-04T03:00:11.047771Z",
     "shell.execute_reply": "2021-12-04T03:00:11.046236Z"
    },
    "papermill": {
     "duration": 0.044235,
     "end_time": "2021-12-04T03:00:11.048175",
     "exception": false,
     "start_time": "2021-12-04T03:00:11.003940",
     "status": "completed"
    },
    "tags": []
   },
   "outputs": [],
   "source": [
    "df_pivot.columns = [\"stamp_1\", \"stamp_2\"]\n",
    "df_pivot_diff = df_pivot.diff(axis=1)"
   ]
  },
  {
   "cell_type": "code",
   "execution_count": 7,
   "id": "fifth-motion",
   "metadata": {
    "execution": {
     "iopub.execute_input": "2021-12-04T03:00:11.110441Z",
     "iopub.status.busy": "2021-12-04T03:00:11.108067Z",
     "iopub.status.idle": "2021-12-04T03:00:13.018880Z",
     "shell.execute_reply": "2021-12-04T03:00:13.021627Z"
    },
    "papermill": {
     "duration": 1.95349,
     "end_time": "2021-12-04T03:00:13.022448",
     "exception": false,
     "start_time": "2021-12-04T03:00:11.068958",
     "status": "completed"
    },
    "tags": []
   },
   "outputs": [
    {
     "data": {
      "text/plain": [
       "<AxesSubplot:ylabel='PRODUCT'>"
      ]
     },
     "execution_count": 7,
     "metadata": {},
     "output_type": "execute_result"
    },
    {
     "data": {
      "image/png": "[encoded data removed]",
      "text/plain": [
       "<Figure size 432x288 with 1 Axes>"
      ]
     },
     "metadata": {
      "needs_background": "light"
     },
     "output_type": "display_data"
    }
   ],
   "source": [
    "df_pivot_diff.sort_values(\"stamp_2\", ascending = False)[\"stamp_2\"].head(10).plot.barh()"
   ]
  },
  {
   "cell_type": "code",
   "execution_count": null,
   "id": "extra-executive",
   "metadata": {
    "papermill": {
     "duration": 0.037669,
     "end_time": "2021-12-04T03:00:13.095430",
     "exception": false,
     "start_time": "2021-12-04T03:00:13.057761",
     "status": "completed"
    },
    "tags": []
   },
   "outputs": [],
   "source": []
  }
 ],
 "metadata": {
  "kernelspec": {
   "display_name": "Python 3",
   "language": "python",
   "name": "python3"
  },
  "language_info": {
   "codemirror_mode": {
    "name": "ipython",
    "version": 3
   },
   "file_extension": ".py",
   "mimetype": "text/x-python",
   "name": "python",
   "nbconvert_exporter": "python",
   "pygments_lexer": "ipython3",
   "version": "3.9.5"
  },
  "papermill": {
   "default_parameters": {},
   "duration": 9.96614,
   "end_time": "2021-12-04T03:00:14.402597",
   "environment_variables": {},
   "exception": null,
   "input_path": "eBay_Overview.ipynb",
   "output_path": "eBay_Overview.ipynb",
   "parameters": {},
   "start_time": "2021-12-04T03:00:04.436457",
   "version": "2.3.3"
  }
 },
 "nbformat": 4,
 "nbformat_minor": 5
}