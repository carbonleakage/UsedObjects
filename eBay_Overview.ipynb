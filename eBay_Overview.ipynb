{
 "cells": [
  {
   "cell_type": "code",
   "execution_count": 1,
   "id": "reverse-picking",
   "metadata": {
    "execution": {
     "iopub.execute_input": "2021-09-08T08:00:07.676735Z",
     "iopub.status.busy": "2021-09-08T08:00:07.674767Z",
     "iopub.status.idle": "2021-09-08T08:00:08.480858Z",
     "shell.execute_reply": "2021-09-08T08:00:08.482072Z"
    },
    "papermill": {
     "duration": 0.858183,
     "end_time": "2021-09-08T08:00:08.482686",
     "exception": false,
     "start_time": "2021-09-08T08:00:07.624503",
     "status": "completed"
    },
    "tags": []
   },
   "outputs": [],
   "source": [
    "import pandas as pd\n",
    "import sqlite3"
   ]
  },
  {
   "cell_type": "code",
   "execution_count": 2,
   "id": "innovative-syndrome",
   "metadata": {
    "execution": {
     "iopub.execute_input": "2021-09-08T08:00:08.533812Z",
     "iopub.status.busy": "2021-09-08T08:00:08.531988Z",
     "iopub.status.idle": "2021-09-08T08:00:08.770313Z",
     "shell.execute_reply": "2021-09-08T08:00:08.771593Z"
    },
    "papermill": {
     "duration": 0.2677,
     "end_time": "2021-09-08T08:00:08.771995",
     "exception": false,
     "start_time": "2021-09-08T08:00:08.504295",
     "status": "completed"
    },
    "tags": []
   },
   "outputs": [],
   "source": [
    "timestamps = pd.read_sql(\"select distinct record_time from EBAY_TOP_BERLIN order by record_time desc limit 2\", sqlite3.connect(\"UsedObjects.db\"))"
   ]
  },
  {
   "cell_type": "code",
   "execution_count": 3,
   "id": "periodic-identification",
   "metadata": {
    "execution": {
     "iopub.execute_input": "2021-09-08T08:00:08.836188Z",
     "iopub.status.busy": "2021-09-08T08:00:08.834023Z",
     "iopub.status.idle": "2021-09-08T08:00:08.854014Z",
     "shell.execute_reply": "2021-09-08T08:00:08.855320Z"
    },
    "papermill": {
     "duration": 0.064212,
     "end_time": "2021-09-08T08:00:08.855744",
     "exception": false,
     "start_time": "2021-09-08T08:00:08.791532",
     "status": "completed"
    },
    "tags": []
   },
   "outputs": [
    {
     "data": {
      "text/html": [
       "<div>\n",
       "<style scoped>\n",
       "    .dataframe tbody tr th:only-of-type {\n",
       "        vertical-align: middle;\n",
       "    }\n",
       "\n",
       "    .dataframe tbody tr th {\n",
       "        vertical-align: top;\n",
       "    }\n",
       "\n",
       "    .dataframe thead th {\n",
       "        text-align: right;\n",
       "    }\n",
       "</style>\n",
       "<table border=\"1\" class=\"dataframe\">\n",
       "  <thead>\n",
       "    <tr style=\"text-align: right;\">\n",
       "      <th></th>\n",
       "      <th>RECORD_TIME</th>\n",
       "    </tr>\n",
       "  </thead>\n",
       "  <tbody>\n",
       "    <tr>\n",
       "      <th>0</th>\n",
       "      <td>2021-09-08 10:00</td>\n",
       "    </tr>\n",
       "    <tr>\n",
       "      <th>1</th>\n",
       "      <td>2021-09-08 09:30</td>\n",
       "    </tr>\n",
       "  </tbody>\n",
       "</table>\n",
       "</div>"
      ],
      "text/plain": [
       "        RECORD_TIME\n",
       "0  2021-09-08 10:00\n",
       "1  2021-09-08 09:30"
      ]
     },
     "execution_count": 3,
     "metadata": {},
     "output_type": "execute_result"
    }
   ],
   "source": [
    "timestamps"
   ]
  },
  {
   "cell_type": "code",
   "execution_count": 4,
   "id": "alternate-victory",
   "metadata": {
    "execution": {
     "iopub.execute_input": "2021-09-08T08:00:08.907626Z",
     "iopub.status.busy": "2021-09-08T08:00:08.905700Z",
     "iopub.status.idle": "2021-09-08T08:00:09.249501Z",
     "shell.execute_reply": "2021-09-08T08:00:09.250621Z"
    },
    "papermill": {
     "duration": 0.373532,
     "end_time": "2021-09-08T08:00:09.251094",
     "exception": false,
     "start_time": "2021-09-08T08:00:08.877562",
     "status": "completed"
    },
    "tags": []
   },
   "outputs": [],
   "source": [
    "df = pd.read_sql(\"select * from EBAY_TOP_BERLIN where record_time in (select distinct record_time from EBAY_TOP_BERLIN order by record_time desc limit 2)\", sqlite3.connect(\"UsedObjects.db\"))"
   ]
  },
  {
   "cell_type": "code",
   "execution_count": 5,
   "id": "popular-active",
   "metadata": {
    "execution": {
     "iopub.execute_input": "2021-09-08T08:00:09.332122Z",
     "iopub.status.busy": "2021-09-08T08:00:09.320422Z",
     "iopub.status.idle": "2021-09-08T08:00:09.349239Z",
     "shell.execute_reply": "2021-09-08T08:00:09.350501Z"
    },
    "papermill": {
     "duration": 0.072404,
     "end_time": "2021-09-08T08:00:09.350961",
     "exception": false,
     "start_time": "2021-09-08T08:00:09.278557",
     "status": "completed"
    },
    "tags": []
   },
   "outputs": [],
   "source": [
    "df_pivot = df.pivot_table(index=\"PRODUCT\", columns = \"RECORD_TIME\", values = \"LISTING_COUNT\")"
   ]
  },
  {
   "cell_type": "code",
   "execution_count": 6,
   "id": "union-huntington",
   "metadata": {
    "execution": {
     "iopub.execute_input": "2021-09-08T08:00:09.407054Z",
     "iopub.status.busy": "2021-09-08T08:00:09.404970Z",
     "iopub.status.idle": "2021-09-08T08:00:09.410150Z",
     "shell.execute_reply": "2021-09-08T08:00:09.411492Z"
    },
    "papermill": {
     "duration": 0.040787,
     "end_time": "2021-09-08T08:00:09.411914",
     "exception": false,
     "start_time": "2021-09-08T08:00:09.371127",
     "status": "completed"
    },
    "tags": []
   },
   "outputs": [],
   "source": [
    "df_pivot.columns = [\"stamp_1\", \"stamp_2\"]\n",
    "df_pivot_diff = df_pivot.diff(axis=1)"
   ]
  },
  {
   "cell_type": "code",
   "execution_count": 7,
   "id": "fifth-motion",
   "metadata": {
    "execution": {
     "iopub.execute_input": "2021-09-08T08:00:09.466241Z",
     "iopub.status.busy": "2021-09-08T08:00:09.463884Z",
     "iopub.status.idle": "2021-09-08T08:00:10.936228Z",
     "shell.execute_reply": "2021-09-08T08:00:10.937721Z"
    },
    "papermill": {
     "duration": 1.505803,
     "end_time": "2021-09-08T08:00:10.938180",
     "exception": false,
     "start_time": "2021-09-08T08:00:09.432377",
     "status": "completed"
    },
    "tags": []
   },
   "outputs": [
    {
     "data": {
      "text/plain": [
       "<AxesSubplot:ylabel='PRODUCT'>"
      ]
     },
     "execution_count": 7,
     "metadata": {},
     "output_type": "execute_result"
    },
    {
     "data": {
      "image/png": "[encoded data removed]",
      "text/plain": [
       "<Figure size 432x288 with 1 Axes>"
      ]
     },
     "metadata": {
      "needs_background": "light"
     },
     "output_type": "display_data"
    }
   ],
   "source": [
    "df_pivot_diff.sort_values(\"stamp_2\", ascending = False)[\"stamp_2\"].head(10).plot.barh()"
   ]
  },
  {
   "cell_type": "code",
   "execution_count": null,
   "id": "extra-executive",
   "metadata": {
    "papermill": {
     "duration": 0.022126,
     "end_time": "2021-09-08T08:00:10.984797",
     "exception": false,
     "start_time": "2021-09-08T08:00:10.962671",
     "status": "completed"
    },
    "tags": []
   },
   "outputs": [],
   "source": []
  }
 ],
 "metadata": {
  "kernelspec": {
   "display_name": "Python 3",
   "language": "python",
   "name": "python3"
  },
  "language_info": {
   "codemirror_mode": {
    "name": "ipython",
    "version": 3
   },
   "file_extension": ".py",
   "mimetype": "text/x-python",
   "name": "python",
   "nbconvert_exporter": "python",
   "pygments_lexer": "ipython3",
   "version": "3.9.5"
  },
  "papermill": {
   "default_parameters": {},
   "duration": 6.403588,
   "end_time": "2021-09-08T08:00:11.627659",
   "environment_variables": {},
   "exception": null,
   "input_path": "eBay_Overview.ipynb",
   "output_path": "eBay_Overview.ipynb",
   "parameters": {},
   "start_time": "2021-09-08T08:00:05.224071",
   "version": "2.3.3"
  }
 },
 "nbformat": 4,
 "nbformat_minor": 5
}