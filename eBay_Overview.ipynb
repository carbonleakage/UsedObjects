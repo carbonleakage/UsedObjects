{
 "cells": [
  {
   "cell_type": "code",
   "execution_count": 1,
   "id": "reverse-picking",
   "metadata": {
    "execution": {
     "iopub.execute_input": "2021-09-21T13:30:07.073153Z",
     "iopub.status.busy": "2021-09-21T13:30:07.071220Z",
     "iopub.status.idle": "2021-09-21T13:30:07.876052Z",
     "shell.execute_reply": "2021-09-21T13:30:07.877324Z"
    },
    "papermill": {
     "duration": 0.858409,
     "end_time": "2021-09-21T13:30:07.877946",
     "exception": false,
     "start_time": "2021-09-21T13:30:07.019537",
     "status": "completed"
    },
    "tags": []
   },
   "outputs": [],
   "source": [
    "import pandas as pd\n",
    "import sqlite3"
   ]
  },
  {
   "cell_type": "code",
   "execution_count": 2,
   "id": "innovative-syndrome",
   "metadata": {
    "execution": {
     "iopub.execute_input": "2021-09-21T13:30:07.929379Z",
     "iopub.status.busy": "2021-09-21T13:30:07.927526Z",
     "iopub.status.idle": "2021-09-21T13:30:08.273777Z",
     "shell.execute_reply": "2021-09-21T13:30:08.275074Z"
    },
    "papermill": {
     "duration": 0.376047,
     "end_time": "2021-09-21T13:30:08.275494",
     "exception": false,
     "start_time": "2021-09-21T13:30:07.899447",
     "status": "completed"
    },
    "tags": []
   },
   "outputs": [],
   "source": [
    "timestamps = pd.read_sql(\"select distinct record_time from EBAY_TOP_BERLIN order by record_time desc limit 2\", sqlite3.connect(\"UsedObjects.db\"))"
   ]
  },
  {
   "cell_type": "code",
   "execution_count": 3,
   "id": "periodic-identification",
   "metadata": {
    "execution": {
     "iopub.execute_input": "2021-09-21T13:30:08.338634Z",
     "iopub.status.busy": "2021-09-21T13:30:08.336609Z",
     "iopub.status.idle": "2021-09-21T13:30:08.356326Z",
     "shell.execute_reply": "2021-09-21T13:30:08.357568Z"
    },
    "papermill": {
     "duration": 0.063042,
     "end_time": "2021-09-21T13:30:08.357966",
     "exception": false,
     "start_time": "2021-09-21T13:30:08.294924",
     "status": "completed"
    },
    "tags": []
   },
   "outputs": [
    {
     "data": {
      "text/html": [
       "<div>\n",
       "<style scoped>\n",
       "    .dataframe tbody tr th:only-of-type {\n",
       "        vertical-align: middle;\n",
       "    }\n",
       "\n",
       "    .dataframe tbody tr th {\n",
       "        vertical-align: top;\n",
       "    }\n",
       "\n",
       "    .dataframe thead th {\n",
       "        text-align: right;\n",
       "    }\n",
       "</style>\n",
       "<table border=\"1\" class=\"dataframe\">\n",
       "  <thead>\n",
       "    <tr style=\"text-align: right;\">\n",
       "      <th></th>\n",
       "      <th>RECORD_TIME</th>\n",
       "    </tr>\n",
       "  </thead>\n",
       "  <tbody>\n",
       "    <tr>\n",
       "      <th>0</th>\n",
       "      <td>2021-09-21 15:30</td>\n",
       "    </tr>\n",
       "    <tr>\n",
       "      <th>1</th>\n",
       "      <td>2021-09-21 15:00</td>\n",
       "    </tr>\n",
       "  </tbody>\n",
       "</table>\n",
       "</div>"
      ],
      "text/plain": [
       "        RECORD_TIME\n",
       "0  2021-09-21 15:30\n",
       "1  2021-09-21 15:00"
      ]
     },
     "execution_count": 3,
     "metadata": {},
     "output_type": "execute_result"
    }
   ],
   "source": [
    "timestamps"
   ]
  },
  {
   "cell_type": "code",
   "execution_count": 4,
   "id": "alternate-victory",
   "metadata": {
    "execution": {
     "iopub.execute_input": "2021-09-21T13:30:08.409749Z",
     "iopub.status.busy": "2021-09-21T13:30:08.407435Z",
     "iopub.status.idle": "2021-09-21T13:30:08.920861Z",
     "shell.execute_reply": "2021-09-21T13:30:08.919532Z"
    },
    "papermill": {
     "duration": 0.542337,
     "end_time": "2021-09-21T13:30:08.921200",
     "exception": false,
     "start_time": "2021-09-21T13:30:08.378863",
     "status": "completed"
    },
    "tags": []
   },
   "outputs": [],
   "source": [
    "df = pd.read_sql(\"select * from EBAY_TOP_BERLIN where record_time in (select distinct record_time from EBAY_TOP_BERLIN order by record_time desc limit 2)\", sqlite3.connect(\"UsedObjects.db\"))"
   ]
  },
  {
   "cell_type": "code",
   "execution_count": 5,
   "id": "popular-active",
   "metadata": {
    "execution": {
     "iopub.execute_input": "2021-09-21T13:30:08.992470Z",
     "iopub.status.busy": "2021-09-21T13:30:08.981261Z",
     "iopub.status.idle": "2021-09-21T13:30:09.008995Z",
     "shell.execute_reply": "2021-09-21T13:30:09.010216Z"
    },
    "papermill": {
     "duration": 0.067482,
     "end_time": "2021-09-21T13:30:09.010616",
     "exception": false,
     "start_time": "2021-09-21T13:30:08.943134",
     "status": "completed"
    },
    "tags": []
   },
   "outputs": [],
   "source": [
    "df_pivot = df.pivot_table(index=\"PRODUCT\", columns = \"RECORD_TIME\", values = \"LISTING_COUNT\")"
   ]
  },
  {
   "cell_type": "code",
   "execution_count": 6,
   "id": "union-huntington",
   "metadata": {
    "execution": {
     "iopub.execute_input": "2021-09-21T13:30:09.067508Z",
     "iopub.status.busy": "2021-09-21T13:30:09.065285Z",
     "iopub.status.idle": "2021-09-21T13:30:09.071035Z",
     "shell.execute_reply": "2021-09-21T13:30:09.072477Z"
    },
    "papermill": {
     "duration": 0.041617,
     "end_time": "2021-09-21T13:30:09.073058",
     "exception": false,
     "start_time": "2021-09-21T13:30:09.031441",
     "status": "completed"
    },
    "tags": []
   },
   "outputs": [],
   "source": [
    "df_pivot.columns = [\"stamp_1\", \"stamp_2\"]\n",
    "df_pivot_diff = df_pivot.diff(axis=1)"
   ]
  },
  {
   "cell_type": "code",
   "execution_count": 7,
   "id": "fifth-motion",
   "metadata": {
    "execution": {
     "iopub.execute_input": "2021-09-21T13:30:09.128850Z",
     "iopub.status.busy": "2021-09-21T13:30:09.126390Z",
     "iopub.status.idle": "2021-09-21T13:30:10.591328Z",
     "shell.execute_reply": "2021-09-21T13:30:10.592715Z"
    },
    "papermill": {
     "duration": 1.49855,
     "end_time": "2021-09-21T13:30:10.593161",
     "exception": false,
     "start_time": "2021-09-21T13:30:09.094611",
     "status": "completed"
    },
    "tags": []
   },
   "outputs": [
    {
     "data": {
      "text/plain": [
       "<AxesSubplot:ylabel='PRODUCT'>"
      ]
     },
     "execution_count": 7,
     "metadata": {},
     "output_type": "execute_result"
    },
    {
     "data": {
      "image/png": "[encoded data removed]",
      "text/plain": [
       "<Figure size 432x288 with 1 Axes>"
      ]
     },
     "metadata": {
      "needs_background": "light"
     },
     "output_type": "display_data"
    }
   ],
   "source": [
    "df_pivot_diff.sort_values(\"stamp_2\", ascending = False)[\"stamp_2\"].head(10).plot.barh()"
   ]
  },
  {
   "cell_type": "code",
   "execution_count": null,
   "id": "extra-executive",
   "metadata": {
    "papermill": {
     "duration": 0.022237,
     "end_time": "2021-09-21T13:30:10.639704",
     "exception": false,
     "start_time": "2021-09-21T13:30:10.617467",
     "status": "completed"
    },
    "tags": []
   },
   "outputs": [],
   "source": []
  }
 ],
 "metadata": {
  "kernelspec": {
   "display_name": "Python 3",
   "language": "python",
   "name": "python3"
  },
  "language_info": {
   "codemirror_mode": {
    "name": "ipython",
    "version": 3
   },
   "file_extension": ".py",
   "mimetype": "text/x-python",
   "name": "python",
   "nbconvert_exporter": "python",
   "pygments_lexer": "ipython3",
   "version": "3.9.5"
  },
  "papermill": {
   "default_parameters": {},
   "duration": 6.661125,
   "end_time": "2021-09-21T13:30:11.282733",
   "environment_variables": {},
   "exception": null,
   "input_path": "eBay_Overview.ipynb",
   "output_path": "eBay_Overview.ipynb",
   "parameters": {},
   "start_time": "2021-09-21T13:30:04.621608",
   "version": "2.3.3"
  }
 },
 "nbformat": 4,
 "nbformat_minor": 5
}