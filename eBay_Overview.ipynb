{
 "cells": [
  {
   "cell_type": "code",
   "execution_count": 1,
   "id": "reverse-picking",
   "metadata": {
    "execution": {
     "iopub.execute_input": "2021-10-01T09:00:07.284984Z",
     "iopub.status.busy": "2021-10-01T09:00:07.283019Z",
     "iopub.status.idle": "2021-10-01T09:00:08.090370Z",
     "shell.execute_reply": "2021-10-01T09:00:08.091736Z"
    },
    "papermill": {
     "duration": 0.859384,
     "end_time": "2021-10-01T09:00:08.092357",
     "exception": false,
     "start_time": "2021-10-01T09:00:07.232973",
     "status": "completed"
    },
    "tags": []
   },
   "outputs": [],
   "source": [
    "import pandas as pd\n",
    "import sqlite3"
   ]
  },
  {
   "cell_type": "code",
   "execution_count": 2,
   "id": "innovative-syndrome",
   "metadata": {
    "execution": {
     "iopub.execute_input": "2021-10-01T09:00:08.144778Z",
     "iopub.status.busy": "2021-10-01T09:00:08.142461Z",
     "iopub.status.idle": "2021-10-01T09:00:08.568324Z",
     "shell.execute_reply": "2021-10-01T09:00:08.569515Z"
    },
    "papermill": {
     "duration": 0.455279,
     "end_time": "2021-10-01T09:00:08.569918",
     "exception": false,
     "start_time": "2021-10-01T09:00:08.114639",
     "status": "completed"
    },
    "tags": []
   },
   "outputs": [],
   "source": [
    "timestamps = pd.read_sql(\"select distinct record_time from EBAY_TOP_BERLIN order by record_time desc limit 2\", sqlite3.connect(\"UsedObjects.db\"))"
   ]
  },
  {
   "cell_type": "code",
   "execution_count": 3,
   "id": "periodic-identification",
   "metadata": {
    "execution": {
     "iopub.execute_input": "2021-10-01T09:00:08.635289Z",
     "iopub.status.busy": "2021-10-01T09:00:08.633190Z",
     "iopub.status.idle": "2021-10-01T09:00:08.652827Z",
     "shell.execute_reply": "2021-10-01T09:00:08.654120Z"
    },
    "papermill": {
     "duration": 0.063566,
     "end_time": "2021-10-01T09:00:08.654542",
     "exception": false,
     "start_time": "2021-10-01T09:00:08.590976",
     "status": "completed"
    },
    "tags": []
   },
   "outputs": [
    {
     "data": {
      "text/html": [
       "<div>\n",
       "<style scoped>\n",
       "    .dataframe tbody tr th:only-of-type {\n",
       "        vertical-align: middle;\n",
       "    }\n",
       "\n",
       "    .dataframe tbody tr th {\n",
       "        vertical-align: top;\n",
       "    }\n",
       "\n",
       "    .dataframe thead th {\n",
       "        text-align: right;\n",
       "    }\n",
       "</style>\n",
       "<table border=\"1\" class=\"dataframe\">\n",
       "  <thead>\n",
       "    <tr style=\"text-align: right;\">\n",
       "      <th></th>\n",
       "      <th>RECORD_TIME</th>\n",
       "    </tr>\n",
       "  </thead>\n",
       "  <tbody>\n",
       "    <tr>\n",
       "      <th>0</th>\n",
       "      <td>2021-10-01 11:00</td>\n",
       "    </tr>\n",
       "    <tr>\n",
       "      <th>1</th>\n",
       "      <td>2021-10-01 10:30</td>\n",
       "    </tr>\n",
       "  </tbody>\n",
       "</table>\n",
       "</div>"
      ],
      "text/plain": [
       "        RECORD_TIME\n",
       "0  2021-10-01 11:00\n",
       "1  2021-10-01 10:30"
      ]
     },
     "execution_count": 3,
     "metadata": {},
     "output_type": "execute_result"
    }
   ],
   "source": [
    "timestamps"
   ]
  },
  {
   "cell_type": "code",
   "execution_count": 4,
   "id": "alternate-victory",
   "metadata": {
    "execution": {
     "iopub.execute_input": "2021-10-01T09:00:08.714022Z",
     "iopub.status.busy": "2021-10-01T09:00:08.711370Z",
     "iopub.status.idle": "2021-10-01T09:00:09.347911Z",
     "shell.execute_reply": "2021-10-01T09:00:09.349193Z"
    },
    "papermill": {
     "duration": 0.674464,
     "end_time": "2021-10-01T09:00:09.349600",
     "exception": false,
     "start_time": "2021-10-01T09:00:08.675136",
     "status": "completed"
    },
    "tags": []
   },
   "outputs": [],
   "source": [
    "df = pd.read_sql(\"select * from EBAY_TOP_BERLIN where record_time in (select distinct record_time from EBAY_TOP_BERLIN order by record_time desc limit 2)\", sqlite3.connect(\"UsedObjects.db\"))"
   ]
  },
  {
   "cell_type": "code",
   "execution_count": 5,
   "id": "popular-active",
   "metadata": {
    "execution": {
     "iopub.execute_input": "2021-10-01T09:00:09.424125Z",
     "iopub.status.busy": "2021-10-01T09:00:09.408717Z",
     "iopub.status.idle": "2021-10-01T09:00:09.437555Z",
     "shell.execute_reply": "2021-10-01T09:00:09.438769Z"
    },
    "papermill": {
     "duration": 0.069031,
     "end_time": "2021-10-01T09:00:09.439229",
     "exception": false,
     "start_time": "2021-10-01T09:00:09.370198",
     "status": "completed"
    },
    "tags": []
   },
   "outputs": [],
   "source": [
    "df_pivot = df.pivot_table(index=\"PRODUCT\", columns = \"RECORD_TIME\", values = \"LISTING_COUNT\")"
   ]
  },
  {
   "cell_type": "code",
   "execution_count": 6,
   "id": "union-huntington",
   "metadata": {
    "execution": {
     "iopub.execute_input": "2021-10-01T09:00:09.495636Z",
     "iopub.status.busy": "2021-10-01T09:00:09.493528Z",
     "iopub.status.idle": "2021-10-01T09:00:09.498734Z",
     "shell.execute_reply": "2021-10-01T09:00:09.500095Z"
    },
    "papermill": {
     "duration": 0.040427,
     "end_time": "2021-10-01T09:00:09.500521",
     "exception": false,
     "start_time": "2021-10-01T09:00:09.460094",
     "status": "completed"
    },
    "tags": []
   },
   "outputs": [],
   "source": [
    "df_pivot.columns = [\"stamp_1\", \"stamp_2\"]\n",
    "df_pivot_diff = df_pivot.diff(axis=1)"
   ]
  },
  {
   "cell_type": "code",
   "execution_count": 7,
   "id": "fifth-motion",
   "metadata": {
    "execution": {
     "iopub.execute_input": "2021-10-01T09:00:09.556376Z",
     "iopub.status.busy": "2021-10-01T09:00:09.553839Z",
     "iopub.status.idle": "2021-10-01T09:00:11.056765Z",
     "shell.execute_reply": "2021-10-01T09:00:11.057958Z"
    },
    "papermill": {
     "duration": 1.536122,
     "end_time": "2021-10-01T09:00:11.058393",
     "exception": false,
     "start_time": "2021-10-01T09:00:09.522271",
     "status": "completed"
    },
    "tags": []
   },
   "outputs": [
    {
     "data": {
      "text/plain": [
       "<AxesSubplot:ylabel='PRODUCT'>"
      ]
     },
     "execution_count": 7,
     "metadata": {},
     "output_type": "execute_result"
    },
    {
     "data": {
      "image/png": "[encoded data removed]",
      "text/plain": [
       "<Figure size 432x288 with 1 Axes>"
      ]
     },
     "metadata": {
      "needs_background": "light"
     },
     "output_type": "display_data"
    }
   ],
   "source": [
    "df_pivot_diff.sort_values(\"stamp_2\", ascending = False)[\"stamp_2\"].head(10).plot.barh()"
   ]
  },
  {
   "cell_type": "code",
   "execution_count": null,
   "id": "extra-executive",
   "metadata": {
    "papermill": {
     "duration": 0.022628,
     "end_time": "2021-10-01T09:00:11.107440",
     "exception": false,
     "start_time": "2021-10-01T09:00:11.084812",
     "status": "completed"
    },
    "tags": []
   },
   "outputs": [],
   "source": []
  }
 ],
 "metadata": {
  "kernelspec": {
   "display_name": "Python 3",
   "language": "python",
   "name": "python3"
  },
  "language_info": {
   "codemirror_mode": {
    "name": "ipython",
    "version": 3
   },
   "file_extension": ".py",
   "mimetype": "text/x-python",
   "name": "python",
   "nbconvert_exporter": "python",
   "pygments_lexer": "ipython3",
   "version": "3.9.5"
  },
  "papermill": {
   "default_parameters": {},
   "duration": 7.82088,
   "end_time": "2021-10-01T09:00:12.650280",
   "environment_variables": {},
   "exception": null,
   "input_path": "eBay_Overview.ipynb",
   "output_path": "eBay_Overview.ipynb",
   "parameters": {},
   "start_time": "2021-10-01T09:00:04.829400",
   "version": "2.3.3"
  }
 },
 "nbformat": 4,
 "nbformat_minor": 5
}