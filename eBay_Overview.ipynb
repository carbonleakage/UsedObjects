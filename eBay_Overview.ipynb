{
 "cells": [
  {
   "cell_type": "code",
   "execution_count": 1,
   "id": "reverse-picking",
   "metadata": {
    "execution": {
     "iopub.execute_input": "2021-09-10T12:30:06.516057Z",
     "iopub.status.busy": "2021-09-10T12:30:06.514008Z",
     "iopub.status.idle": "2021-09-10T12:30:07.325408Z",
     "shell.execute_reply": "2021-09-10T12:30:07.326750Z"
    },
    "papermill": {
     "duration": 0.860838,
     "end_time": "2021-09-10T12:30:07.327456",
     "exception": false,
     "start_time": "2021-09-10T12:30:06.466618",
     "status": "completed"
    },
    "tags": []
   },
   "outputs": [],
   "source": [
    "import pandas as pd\n",
    "import sqlite3"
   ]
  },
  {
   "cell_type": "code",
   "execution_count": 2,
   "id": "innovative-syndrome",
   "metadata": {
    "execution": {
     "iopub.execute_input": "2021-09-10T12:30:07.378975Z",
     "iopub.status.busy": "2021-09-10T12:30:07.376936Z",
     "iopub.status.idle": "2021-09-10T12:30:07.629772Z",
     "shell.execute_reply": "2021-09-10T12:30:07.631062Z"
    },
    "papermill": {
     "duration": 0.283004,
     "end_time": "2021-09-10T12:30:07.631512",
     "exception": false,
     "start_time": "2021-09-10T12:30:07.348508",
     "status": "completed"
    },
    "tags": []
   },
   "outputs": [],
   "source": [
    "timestamps = pd.read_sql(\"select distinct record_time from EBAY_TOP_BERLIN order by record_time desc limit 2\", sqlite3.connect(\"UsedObjects.db\"))"
   ]
  },
  {
   "cell_type": "code",
   "execution_count": 3,
   "id": "periodic-identification",
   "metadata": {
    "execution": {
     "iopub.execute_input": "2021-09-10T12:30:07.696057Z",
     "iopub.status.busy": "2021-09-10T12:30:07.693960Z",
     "iopub.status.idle": "2021-09-10T12:30:07.713997Z",
     "shell.execute_reply": "2021-09-10T12:30:07.715461Z"
    },
    "papermill": {
     "duration": 0.065414,
     "end_time": "2021-09-10T12:30:07.715903",
     "exception": false,
     "start_time": "2021-09-10T12:30:07.650489",
     "status": "completed"
    },
    "tags": []
   },
   "outputs": [
    {
     "data": {
      "text/html": [
       "<div>\n",
       "<style scoped>\n",
       "    .dataframe tbody tr th:only-of-type {\n",
       "        vertical-align: middle;\n",
       "    }\n",
       "\n",
       "    .dataframe tbody tr th {\n",
       "        vertical-align: top;\n",
       "    }\n",
       "\n",
       "    .dataframe thead th {\n",
       "        text-align: right;\n",
       "    }\n",
       "</style>\n",
       "<table border=\"1\" class=\"dataframe\">\n",
       "  <thead>\n",
       "    <tr style=\"text-align: right;\">\n",
       "      <th></th>\n",
       "      <th>RECORD_TIME</th>\n",
       "    </tr>\n",
       "  </thead>\n",
       "  <tbody>\n",
       "    <tr>\n",
       "      <th>0</th>\n",
       "      <td>2021-09-10 14:30</td>\n",
       "    </tr>\n",
       "    <tr>\n",
       "      <th>1</th>\n",
       "      <td>2021-09-10 14:00</td>\n",
       "    </tr>\n",
       "  </tbody>\n",
       "</table>\n",
       "</div>"
      ],
      "text/plain": [
       "        RECORD_TIME\n",
       "0  2021-09-10 14:30\n",
       "1  2021-09-10 14:00"
      ]
     },
     "execution_count": 3,
     "metadata": {},
     "output_type": "execute_result"
    }
   ],
   "source": [
    "timestamps"
   ]
  },
  {
   "cell_type": "code",
   "execution_count": 4,
   "id": "alternate-victory",
   "metadata": {
    "execution": {
     "iopub.execute_input": "2021-09-10T12:30:07.767033Z",
     "iopub.status.busy": "2021-09-10T12:30:07.765143Z",
     "iopub.status.idle": "2021-09-10T12:30:08.139673Z",
     "shell.execute_reply": "2021-09-10T12:30:08.141087Z"
    },
    "papermill": {
     "duration": 0.40462,
     "end_time": "2021-09-10T12:30:08.141520",
     "exception": false,
     "start_time": "2021-09-10T12:30:07.736900",
     "status": "completed"
    },
    "tags": []
   },
   "outputs": [],
   "source": [
    "df = pd.read_sql(\"select * from EBAY_TOP_BERLIN where record_time in (select distinct record_time from EBAY_TOP_BERLIN order by record_time desc limit 2)\", sqlite3.connect(\"UsedObjects.db\"))"
   ]
  },
  {
   "cell_type": "code",
   "execution_count": 5,
   "id": "popular-active",
   "metadata": {
    "execution": {
     "iopub.execute_input": "2021-09-10T12:30:08.220470Z",
     "iopub.status.busy": "2021-09-10T12:30:08.208729Z",
     "iopub.status.idle": "2021-09-10T12:30:08.236640Z",
     "shell.execute_reply": "2021-09-10T12:30:08.237862Z"
    },
    "papermill": {
     "duration": 0.070718,
     "end_time": "2021-09-10T12:30:08.238251",
     "exception": false,
     "start_time": "2021-09-10T12:30:08.167533",
     "status": "completed"
    },
    "tags": []
   },
   "outputs": [],
   "source": [
    "df_pivot = df.pivot_table(index=\"PRODUCT\", columns = \"RECORD_TIME\", values = \"LISTING_COUNT\")"
   ]
  },
  {
   "cell_type": "code",
   "execution_count": 6,
   "id": "union-huntington",
   "metadata": {
    "execution": {
     "iopub.execute_input": "2021-09-10T12:30:08.294990Z",
     "iopub.status.busy": "2021-09-10T12:30:08.292886Z",
     "iopub.status.idle": "2021-09-10T12:30:08.298132Z",
     "shell.execute_reply": "2021-09-10T12:30:08.299635Z"
    },
    "papermill": {
     "duration": 0.040532,
     "end_time": "2021-09-10T12:30:08.300078",
     "exception": false,
     "start_time": "2021-09-10T12:30:08.259546",
     "status": "completed"
    },
    "tags": []
   },
   "outputs": [],
   "source": [
    "df_pivot.columns = [\"stamp_1\", \"stamp_2\"]\n",
    "df_pivot_diff = df_pivot.diff(axis=1)"
   ]
  },
  {
   "cell_type": "code",
   "execution_count": 7,
   "id": "fifth-motion",
   "metadata": {
    "execution": {
     "iopub.execute_input": "2021-09-10T12:30:08.356045Z",
     "iopub.status.busy": "2021-09-10T12:30:08.353330Z",
     "iopub.status.idle": "2021-09-10T12:30:09.845894Z",
     "shell.execute_reply": "2021-09-10T12:30:09.847325Z"
    },
    "papermill": {
     "duration": 1.526195,
     "end_time": "2021-09-10T12:30:09.847789",
     "exception": false,
     "start_time": "2021-09-10T12:30:08.321594",
     "status": "completed"
    },
    "tags": []
   },
   "outputs": [
    {
     "data": {
      "text/plain": [
       "<AxesSubplot:ylabel='PRODUCT'>"
      ]
     },
     "execution_count": 7,
     "metadata": {},
     "output_type": "execute_result"
    },
    {
     "data": {
      "image/png": "[encoded data removed]",
      "text/plain": [
       "<Figure size 432x288 with 1 Axes>"
      ]
     },
     "metadata": {
      "needs_background": "light"
     },
     "output_type": "display_data"
    }
   ],
   "source": [
    "df_pivot_diff.sort_values(\"stamp_2\", ascending = False)[\"stamp_2\"].head(10).plot.barh()"
   ]
  },
  {
   "cell_type": "code",
   "execution_count": null,
   "id": "extra-executive",
   "metadata": {
    "papermill": {
     "duration": 0.021862,
     "end_time": "2021-09-10T12:30:09.893840",
     "exception": false,
     "start_time": "2021-09-10T12:30:09.871978",
     "status": "completed"
    },
    "tags": []
   },
   "outputs": [],
   "source": []
  }
 ],
 "metadata": {
  "kernelspec": {
   "display_name": "Python 3",
   "language": "python",
   "name": "python3"
  },
  "language_info": {
   "codemirror_mode": {
    "name": "ipython",
    "version": 3
   },
   "file_extension": ".py",
   "mimetype": "text/x-python",
   "name": "python",
   "nbconvert_exporter": "python",
   "pygments_lexer": "ipython3",
   "version": "3.9.5"
  },
  "papermill": {
   "default_parameters": {},
   "duration": 6.489036,
   "end_time": "2021-09-10T12:30:10.533113",
   "environment_variables": {},
   "exception": null,
   "input_path": "eBay_Overview.ipynb",
   "output_path": "eBay_Overview.ipynb",
   "parameters": {},
   "start_time": "2021-09-10T12:30:04.044077",
   "version": "2.3.3"
  }
 },
 "nbformat": 4,
 "nbformat_minor": 5
}