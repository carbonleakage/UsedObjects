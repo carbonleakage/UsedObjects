{
 "cells": [
  {
   "cell_type": "code",
   "execution_count": 1,
   "id": "reverse-picking",
   "metadata": {
    "execution": {
     "iopub.execute_input": "2021-09-24T22:30:06.945092Z",
     "iopub.status.busy": "2021-09-24T22:30:06.943090Z",
     "iopub.status.idle": "2021-09-24T22:30:07.751280Z",
     "shell.execute_reply": "2021-09-24T22:30:07.749614Z"
    },
    "papermill": {
     "duration": 0.858837,
     "end_time": "2021-09-24T22:30:07.751697",
     "exception": false,
     "start_time": "2021-09-24T22:30:06.892860",
     "status": "completed"
    },
    "tags": []
   },
   "outputs": [],
   "source": [
    "import pandas as pd\n",
    "import sqlite3"
   ]
  },
  {
   "cell_type": "code",
   "execution_count": 2,
   "id": "innovative-syndrome",
   "metadata": {
    "execution": {
     "iopub.execute_input": "2021-09-24T22:30:07.802621Z",
     "iopub.status.busy": "2021-09-24T22:30:07.800758Z",
     "iopub.status.idle": "2021-09-24T22:30:08.167771Z",
     "shell.execute_reply": "2021-09-24T22:30:08.168989Z"
    },
    "papermill": {
     "duration": 0.396848,
     "end_time": "2021-09-24T22:30:08.169390",
     "exception": false,
     "start_time": "2021-09-24T22:30:07.772542",
     "status": "completed"
    },
    "tags": []
   },
   "outputs": [],
   "source": [
    "timestamps = pd.read_sql(\"select distinct record_time from EBAY_TOP_BERLIN order by record_time desc limit 2\", sqlite3.connect(\"UsedObjects.db\"))"
   ]
  },
  {
   "cell_type": "code",
   "execution_count": 3,
   "id": "periodic-identification",
   "metadata": {
    "execution": {
     "iopub.execute_input": "2021-09-24T22:30:08.234041Z",
     "iopub.status.busy": "2021-09-24T22:30:08.231817Z",
     "iopub.status.idle": "2021-09-24T22:30:08.251945Z",
     "shell.execute_reply": "2021-09-24T22:30:08.253217Z"
    },
    "papermill": {
     "duration": 0.064854,
     "end_time": "2021-09-24T22:30:08.253617",
     "exception": false,
     "start_time": "2021-09-24T22:30:08.188763",
     "status": "completed"
    },
    "tags": []
   },
   "outputs": [
    {
     "data": {
      "text/html": [
       "<div>\n",
       "<style scoped>\n",
       "    .dataframe tbody tr th:only-of-type {\n",
       "        vertical-align: middle;\n",
       "    }\n",
       "\n",
       "    .dataframe tbody tr th {\n",
       "        vertical-align: top;\n",
       "    }\n",
       "\n",
       "    .dataframe thead th {\n",
       "        text-align: right;\n",
       "    }\n",
       "</style>\n",
       "<table border=\"1\" class=\"dataframe\">\n",
       "  <thead>\n",
       "    <tr style=\"text-align: right;\">\n",
       "      <th></th>\n",
       "      <th>RECORD_TIME</th>\n",
       "    </tr>\n",
       "  </thead>\n",
       "  <tbody>\n",
       "    <tr>\n",
       "      <th>0</th>\n",
       "      <td>2021-09-25 00:30</td>\n",
       "    </tr>\n",
       "    <tr>\n",
       "      <th>1</th>\n",
       "      <td>2021-09-25 00:00</td>\n",
       "    </tr>\n",
       "  </tbody>\n",
       "</table>\n",
       "</div>"
      ],
      "text/plain": [
       "        RECORD_TIME\n",
       "0  2021-09-25 00:30\n",
       "1  2021-09-25 00:00"
      ]
     },
     "execution_count": 3,
     "metadata": {},
     "output_type": "execute_result"
    }
   ],
   "source": [
    "timestamps"
   ]
  },
  {
   "cell_type": "code",
   "execution_count": 4,
   "id": "alternate-victory",
   "metadata": {
    "execution": {
     "iopub.execute_input": "2021-09-24T22:30:08.306505Z",
     "iopub.status.busy": "2021-09-24T22:30:08.304201Z",
     "iopub.status.idle": "2021-09-24T22:30:08.845736Z",
     "shell.execute_reply": "2021-09-24T22:30:08.847130Z"
    },
    "papermill": {
     "duration": 0.572294,
     "end_time": "2021-09-24T22:30:08.847604",
     "exception": false,
     "start_time": "2021-09-24T22:30:08.275310",
     "status": "completed"
    },
    "tags": []
   },
   "outputs": [],
   "source": [
    "df = pd.read_sql(\"select * from EBAY_TOP_BERLIN where record_time in (select distinct record_time from EBAY_TOP_BERLIN order by record_time desc limit 2)\", sqlite3.connect(\"UsedObjects.db\"))"
   ]
  },
  {
   "cell_type": "code",
   "execution_count": 5,
   "id": "popular-active",
   "metadata": {
    "execution": {
     "iopub.execute_input": "2021-09-24T22:30:08.913015Z",
     "iopub.status.busy": "2021-09-24T22:30:08.905596Z",
     "iopub.status.idle": "2021-09-24T22:30:08.935049Z",
     "shell.execute_reply": "2021-09-24T22:30:08.936459Z"
    },
    "papermill": {
     "duration": 0.069073,
     "end_time": "2021-09-24T22:30:08.936899",
     "exception": false,
     "start_time": "2021-09-24T22:30:08.867826",
     "status": "completed"
    },
    "tags": []
   },
   "outputs": [],
   "source": [
    "df_pivot = df.pivot_table(index=\"PRODUCT\", columns = \"RECORD_TIME\", values = \"LISTING_COUNT\")"
   ]
  },
  {
   "cell_type": "code",
   "execution_count": 6,
   "id": "union-huntington",
   "metadata": {
    "execution": {
     "iopub.execute_input": "2021-09-24T22:30:08.994496Z",
     "iopub.status.busy": "2021-09-24T22:30:08.992045Z",
     "iopub.status.idle": "2021-09-24T22:30:08.998000Z",
     "shell.execute_reply": "2021-09-24T22:30:08.999346Z"
    },
    "papermill": {
     "duration": 0.04254,
     "end_time": "2021-09-24T22:30:08.999808",
     "exception": false,
     "start_time": "2021-09-24T22:30:08.957268",
     "status": "completed"
    },
    "tags": []
   },
   "outputs": [],
   "source": [
    "df_pivot.columns = [\"stamp_1\", \"stamp_2\"]\n",
    "df_pivot_diff = df_pivot.diff(axis=1)"
   ]
  },
  {
   "cell_type": "code",
   "execution_count": 7,
   "id": "fifth-motion",
   "metadata": {
    "execution": {
     "iopub.execute_input": "2021-09-24T22:30:09.054990Z",
     "iopub.status.busy": "2021-09-24T22:30:09.052647Z",
     "iopub.status.idle": "2021-09-24T22:30:10.553218Z",
     "shell.execute_reply": "2021-09-24T22:30:10.554510Z"
    },
    "papermill": {
     "duration": 1.533153,
     "end_time": "2021-09-24T22:30:10.554990",
     "exception": false,
     "start_time": "2021-09-24T22:30:09.021837",
     "status": "completed"
    },
    "tags": []
   },
   "outputs": [
    {
     "data": {
      "text/plain": [
       "<AxesSubplot:ylabel='PRODUCT'>"
      ]
     },
     "execution_count": 7,
     "metadata": {},
     "output_type": "execute_result"
    },
    {
     "data": {
      "image/png": "[encoded data removed]",
      "text/plain": [
       "<Figure size 432x288 with 1 Axes>"
      ]
     },
     "metadata": {
      "needs_background": "light"
     },
     "output_type": "display_data"
    }
   ],
   "source": [
    "df_pivot_diff.sort_values(\"stamp_2\", ascending = False)[\"stamp_2\"].head(10).plot.barh()"
   ]
  },
  {
   "cell_type": "code",
   "execution_count": null,
   "id": "extra-executive",
   "metadata": {
    "papermill": {
     "duration": 0.022157,
     "end_time": "2021-09-24T22:30:10.602072",
     "exception": false,
     "start_time": "2021-09-24T22:30:10.579915",
     "status": "completed"
    },
    "tags": []
   },
   "outputs": [],
   "source": []
  }
 ],
 "metadata": {
  "kernelspec": {
   "display_name": "Python 3",
   "language": "python",
   "name": "python3"
  },
  "language_info": {
   "codemirror_mode": {
    "name": "ipython",
    "version": 3
   },
   "file_extension": ".py",
   "mimetype": "text/x-python",
   "name": "python",
   "nbconvert_exporter": "python",
   "pygments_lexer": "ipython3",
   "version": "3.9.5"
  },
  "papermill": {
   "default_parameters": {},
   "duration": 6.765796,
   "end_time": "2021-09-24T22:30:11.245124",
   "environment_variables": {},
   "exception": null,
   "input_path": "eBay_Overview.ipynb",
   "output_path": "eBay_Overview.ipynb",
   "parameters": {},
   "start_time": "2021-09-24T22:30:04.479328",
   "version": "2.3.3"
  }
 },
 "nbformat": 4,
 "nbformat_minor": 5
}