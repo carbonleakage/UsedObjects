{
 "cells": [
  {
   "cell_type": "code",
   "execution_count": 1,
   "id": "reverse-picking",
   "metadata": {
    "execution": {
     "iopub.execute_input": "2021-09-04T21:00:07.171727Z",
     "iopub.status.busy": "2021-09-04T21:00:07.169735Z",
     "iopub.status.idle": "2021-09-04T21:00:07.974512Z",
     "shell.execute_reply": "2021-09-04T21:00:07.975845Z"
    },
    "papermill": {
     "duration": 0.856057,
     "end_time": "2021-09-04T21:00:07.976473",
     "exception": false,
     "start_time": "2021-09-04T21:00:07.120416",
     "status": "completed"
    },
    "tags": []
   },
   "outputs": [],
   "source": [
    "import pandas as pd\n",
    "import sqlite3"
   ]
  },
  {
   "cell_type": "code",
   "execution_count": 2,
   "id": "innovative-syndrome",
   "metadata": {
    "execution": {
     "iopub.execute_input": "2021-09-04T21:00:08.026840Z",
     "iopub.status.busy": "2021-09-04T21:00:08.024999Z",
     "iopub.status.idle": "2021-09-04T21:00:08.236257Z",
     "shell.execute_reply": "2021-09-04T21:00:08.237451Z"
    },
    "papermill": {
     "duration": 0.240634,
     "end_time": "2021-09-04T21:00:08.237843",
     "exception": false,
     "start_time": "2021-09-04T21:00:07.997209",
     "status": "completed"
    },
    "tags": []
   },
   "outputs": [],
   "source": [
    "timestamps = pd.read_sql(\"select distinct record_time from EBAY_TOP_BERLIN order by record_time desc limit 2\", sqlite3.connect(\"UsedObjects.db\"))"
   ]
  },
  {
   "cell_type": "code",
   "execution_count": 3,
   "id": "periodic-identification",
   "metadata": {
    "execution": {
     "iopub.execute_input": "2021-09-04T21:00:08.302424Z",
     "iopub.status.busy": "2021-09-04T21:00:08.300403Z",
     "iopub.status.idle": "2021-09-04T21:00:08.320498Z",
     "shell.execute_reply": "2021-09-04T21:00:08.321669Z"
    },
    "papermill": {
     "duration": 0.063123,
     "end_time": "2021-09-04T21:00:08.322094",
     "exception": false,
     "start_time": "2021-09-04T21:00:08.258971",
     "status": "completed"
    },
    "tags": []
   },
   "outputs": [
    {
     "data": {
      "text/html": [
       "<div>\n",
       "<style scoped>\n",
       "    .dataframe tbody tr th:only-of-type {\n",
       "        vertical-align: middle;\n",
       "    }\n",
       "\n",
       "    .dataframe tbody tr th {\n",
       "        vertical-align: top;\n",
       "    }\n",
       "\n",
       "    .dataframe thead th {\n",
       "        text-align: right;\n",
       "    }\n",
       "</style>\n",
       "<table border=\"1\" class=\"dataframe\">\n",
       "  <thead>\n",
       "    <tr style=\"text-align: right;\">\n",
       "      <th></th>\n",
       "      <th>RECORD_TIME</th>\n",
       "    </tr>\n",
       "  </thead>\n",
       "  <tbody>\n",
       "    <tr>\n",
       "      <th>0</th>\n",
       "      <td>2021-09-04 23:00</td>\n",
       "    </tr>\n",
       "    <tr>\n",
       "      <th>1</th>\n",
       "      <td>2021-09-04 22:30</td>\n",
       "    </tr>\n",
       "  </tbody>\n",
       "</table>\n",
       "</div>"
      ],
      "text/plain": [
       "        RECORD_TIME\n",
       "0  2021-09-04 23:00\n",
       "1  2021-09-04 22:30"
      ]
     },
     "execution_count": 3,
     "metadata": {},
     "output_type": "execute_result"
    }
   ],
   "source": [
    "timestamps"
   ]
  },
  {
   "cell_type": "code",
   "execution_count": 4,
   "id": "alternate-victory",
   "metadata": {
    "execution": {
     "iopub.execute_input": "2021-09-04T21:00:08.374708Z",
     "iopub.status.busy": "2021-09-04T21:00:08.372891Z",
     "iopub.status.idle": "2021-09-04T21:00:08.680765Z",
     "shell.execute_reply": "2021-09-04T21:00:08.681972Z"
    },
    "papermill": {
     "duration": 0.337945,
     "end_time": "2021-09-04T21:00:08.682367",
     "exception": false,
     "start_time": "2021-09-04T21:00:08.344422",
     "status": "completed"
    },
    "tags": []
   },
   "outputs": [],
   "source": [
    "df = pd.read_sql(\"select * from EBAY_TOP_BERLIN where record_time in (select distinct record_time from EBAY_TOP_BERLIN order by record_time desc limit 2)\", sqlite3.connect(\"UsedObjects.db\"))"
   ]
  },
  {
   "cell_type": "code",
   "execution_count": 5,
   "id": "popular-active",
   "metadata": {
    "execution": {
     "iopub.execute_input": "2021-09-04T21:00:08.775797Z",
     "iopub.status.busy": "2021-09-04T21:00:08.764710Z",
     "iopub.status.idle": "2021-09-04T21:00:08.792032Z",
     "shell.execute_reply": "2021-09-04T21:00:08.793393Z"
    },
    "papermill": {
     "duration": 0.07384,
     "end_time": "2021-09-04T21:00:08.793831",
     "exception": false,
     "start_time": "2021-09-04T21:00:08.719991",
     "status": "completed"
    },
    "tags": []
   },
   "outputs": [],
   "source": [
    "df_pivot = df.pivot_table(index=\"PRODUCT\", columns = \"RECORD_TIME\", values = \"LISTING_COUNT\")"
   ]
  },
  {
   "cell_type": "code",
   "execution_count": 6,
   "id": "union-huntington",
   "metadata": {
    "execution": {
     "iopub.execute_input": "2021-09-04T21:00:08.854463Z",
     "iopub.status.busy": "2021-09-04T21:00:08.852029Z",
     "iopub.status.idle": "2021-09-04T21:00:08.857852Z",
     "shell.execute_reply": "2021-09-04T21:00:08.859234Z"
    },
    "papermill": {
     "duration": 0.042393,
     "end_time": "2021-09-04T21:00:08.859681",
     "exception": false,
     "start_time": "2021-09-04T21:00:08.817288",
     "status": "completed"
    },
    "tags": []
   },
   "outputs": [],
   "source": [
    "df_pivot.columns = [\"stamp_1\", \"stamp_2\"]\n",
    "df_pivot_diff = df_pivot.diff(axis=1)"
   ]
  },
  {
   "cell_type": "code",
   "execution_count": 7,
   "id": "fifth-motion",
   "metadata": {
    "execution": {
     "iopub.execute_input": "2021-09-04T21:00:08.914050Z",
     "iopub.status.busy": "2021-09-04T21:00:08.911667Z",
     "iopub.status.idle": "2021-09-04T21:00:10.392704Z",
     "shell.execute_reply": "2021-09-04T21:00:10.393977Z"
    },
    "papermill": {
     "duration": 1.513919,
     "end_time": "2021-09-04T21:00:10.394390",
     "exception": false,
     "start_time": "2021-09-04T21:00:08.880471",
     "status": "completed"
    },
    "tags": []
   },
   "outputs": [
    {
     "data": {
      "text/plain": [
       "<AxesSubplot:ylabel='PRODUCT'>"
      ]
     },
     "execution_count": 7,
     "metadata": {},
     "output_type": "execute_result"
    },
    {
     "data": {
      "image/png": "[encoded data removed]",
      "text/plain": [
       "<Figure size 432x288 with 1 Axes>"
      ]
     },
     "metadata": {
      "needs_background": "light"
     },
     "output_type": "display_data"
    }
   ],
   "source": [
    "df_pivot_diff.sort_values(\"stamp_2\", ascending = False)[\"stamp_2\"].head(10).plot.barh()"
   ]
  },
  {
   "cell_type": "code",
   "execution_count": null,
   "id": "extra-executive",
   "metadata": {
    "papermill": {
     "duration": 0.022304,
     "end_time": "2021-09-04T21:00:10.441827",
     "exception": false,
     "start_time": "2021-09-04T21:00:10.419523",
     "status": "completed"
    },
    "tags": []
   },
   "outputs": [],
   "source": []
  }
 ],
 "metadata": {
  "kernelspec": {
   "display_name": "Python 3",
   "language": "python",
   "name": "python3"
  },
  "language_info": {
   "codemirror_mode": {
    "name": "ipython",
    "version": 3
   },
   "file_extension": ".py",
   "mimetype": "text/x-python",
   "name": "python",
   "nbconvert_exporter": "python",
   "pygments_lexer": "ipython3",
   "version": "3.9.5"
  },
  "papermill": {
   "default_parameters": {},
   "duration": 6.376717,
   "end_time": "2021-09-04T21:00:11.083463",
   "environment_variables": {},
   "exception": null,
   "input_path": "eBay_Overview.ipynb",
   "output_path": "eBay_Overview.ipynb",
   "parameters": {},
   "start_time": "2021-09-04T21:00:04.706746",
   "version": "2.3.3"
  }
 },
 "nbformat": 4,
 "nbformat_minor": 5
}