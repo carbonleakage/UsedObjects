{
 "cells": [
  {
   "cell_type": "code",
   "execution_count": 1,
   "id": "reverse-picking",
   "metadata": {
    "execution": {
     "iopub.execute_input": "2021-11-11T14:00:08.156122Z",
     "iopub.status.busy": "2021-11-11T14:00:08.153866Z",
     "iopub.status.idle": "2021-11-11T14:00:09.106671Z",
     "shell.execute_reply": "2021-11-11T14:00:09.108990Z"
    },
    "papermill": {
     "duration": 1.000114,
     "end_time": "2021-11-11T14:00:09.109745",
     "exception": false,
     "start_time": "2021-11-11T14:00:08.109631",
     "status": "completed"
    },
    "tags": []
   },
   "outputs": [],
   "source": [
    "import pandas as pd\n",
    "import sqlite3"
   ]
  },
  {
   "cell_type": "code",
   "execution_count": 2,
   "id": "innovative-syndrome",
   "metadata": {
    "execution": {
     "iopub.execute_input": "2021-11-11T14:00:09.170596Z",
     "iopub.status.busy": "2021-11-11T14:00:09.168402Z",
     "iopub.status.idle": "2021-11-11T14:00:09.969481Z",
     "shell.execute_reply": "2021-11-11T14:00:09.970838Z"
    },
    "papermill": {
     "duration": 0.834933,
     "end_time": "2021-11-11T14:00:09.971308",
     "exception": false,
     "start_time": "2021-11-11T14:00:09.136375",
     "status": "completed"
    },
    "tags": []
   },
   "outputs": [],
   "source": [
    "timestamps = pd.read_sql(\"select distinct record_time from EBAY_TOP_BERLIN order by record_time desc limit 2\", sqlite3.connect(\"UsedObjects.db\"))"
   ]
  },
  {
   "cell_type": "code",
   "execution_count": 3,
   "id": "periodic-identification",
   "metadata": {
    "execution": {
     "iopub.execute_input": "2021-11-11T14:00:10.039165Z",
     "iopub.status.busy": "2021-11-11T14:00:10.036874Z",
     "iopub.status.idle": "2021-11-11T14:00:10.058633Z",
     "shell.execute_reply": "2021-11-11T14:00:10.059997Z"
    },
    "papermill": {
     "duration": 0.069719,
     "end_time": "2021-11-11T14:00:10.060467",
     "exception": false,
     "start_time": "2021-11-11T14:00:09.990748",
     "status": "completed"
    },
    "tags": []
   },
   "outputs": [
    {
     "data": {
      "text/html": [
       "<div>\n",
       "<style scoped>\n",
       "    .dataframe tbody tr th:only-of-type {\n",
       "        vertical-align: middle;\n",
       "    }\n",
       "\n",
       "    .dataframe tbody tr th {\n",
       "        vertical-align: top;\n",
       "    }\n",
       "\n",
       "    .dataframe thead th {\n",
       "        text-align: right;\n",
       "    }\n",
       "</style>\n",
       "<table border=\"1\" class=\"dataframe\">\n",
       "  <thead>\n",
       "    <tr style=\"text-align: right;\">\n",
       "      <th></th>\n",
       "      <th>RECORD_TIME</th>\n",
       "    </tr>\n",
       "  </thead>\n",
       "  <tbody>\n",
       "    <tr>\n",
       "      <th>0</th>\n",
       "      <td>2021-11-11 15:00</td>\n",
       "    </tr>\n",
       "    <tr>\n",
       "      <th>1</th>\n",
       "      <td>2021-11-11 14:30</td>\n",
       "    </tr>\n",
       "  </tbody>\n",
       "</table>\n",
       "</div>"
      ],
      "text/plain": [
       "        RECORD_TIME\n",
       "0  2021-11-11 15:00\n",
       "1  2021-11-11 14:30"
      ]
     },
     "execution_count": 3,
     "metadata": {},
     "output_type": "execute_result"
    }
   ],
   "source": [
    "timestamps"
   ]
  },
  {
   "cell_type": "code",
   "execution_count": 4,
   "id": "alternate-victory",
   "metadata": {
    "execution": {
     "iopub.execute_input": "2021-11-11T14:00:10.113990Z",
     "iopub.status.busy": "2021-11-11T14:00:10.111865Z",
     "iopub.status.idle": "2021-11-11T14:00:11.250185Z",
     "shell.execute_reply": "2021-11-11T14:00:11.251768Z"
    },
    "papermill": {
     "duration": 1.171823,
     "end_time": "2021-11-11T14:00:11.252242",
     "exception": false,
     "start_time": "2021-11-11T14:00:10.080419",
     "status": "completed"
    },
    "tags": []
   },
   "outputs": [],
   "source": [
    "df = pd.read_sql(\"select * from EBAY_TOP_BERLIN where record_time in (select distinct record_time from EBAY_TOP_BERLIN order by record_time desc limit 2)\", sqlite3.connect(\"UsedObjects.db\"))"
   ]
  },
  {
   "cell_type": "code",
   "execution_count": 5,
   "id": "popular-active",
   "metadata": {
    "execution": {
     "iopub.execute_input": "2021-11-11T14:00:11.319274Z",
     "iopub.status.busy": "2021-11-11T14:00:11.316815Z",
     "iopub.status.idle": "2021-11-11T14:00:11.350673Z",
     "shell.execute_reply": "2021-11-11T14:00:11.352261Z"
    },
    "papermill": {
     "duration": 0.078582,
     "end_time": "2021-11-11T14:00:11.352804",
     "exception": false,
     "start_time": "2021-11-11T14:00:11.274222",
     "status": "completed"
    },
    "tags": []
   },
   "outputs": [],
   "source": [
    "df_pivot = df.pivot_table(index=\"PRODUCT\", columns = \"RECORD_TIME\", values = \"LISTING_COUNT\")"
   ]
  },
  {
   "cell_type": "code",
   "execution_count": 6,
   "id": "union-huntington",
   "metadata": {
    "execution": {
     "iopub.execute_input": "2021-11-11T14:00:11.414487Z",
     "iopub.status.busy": "2021-11-11T14:00:11.412053Z",
     "iopub.status.idle": "2021-11-11T14:00:11.418203Z",
     "shell.execute_reply": "2021-11-11T14:00:11.419769Z"
    },
    "papermill": {
     "duration": 0.045215,
     "end_time": "2021-11-11T14:00:11.420250",
     "exception": false,
     "start_time": "2021-11-11T14:00:11.375035",
     "status": "completed"
    },
    "tags": []
   },
   "outputs": [],
   "source": [
    "df_pivot.columns = [\"stamp_1\", \"stamp_2\"]\n",
    "df_pivot_diff = df_pivot.diff(axis=1)"
   ]
  },
  {
   "cell_type": "code",
   "execution_count": 7,
   "id": "fifth-motion",
   "metadata": {
    "execution": {
     "iopub.execute_input": "2021-11-11T14:00:11.479470Z",
     "iopub.status.busy": "2021-11-11T14:00:11.476898Z",
     "iopub.status.idle": "2021-11-11T14:00:13.251889Z",
     "shell.execute_reply": "2021-11-11T14:00:13.254344Z"
    },
    "papermill": {
     "duration": 1.814138,
     "end_time": "2021-11-11T14:00:13.255250",
     "exception": false,
     "start_time": "2021-11-11T14:00:11.441112",
     "status": "completed"
    },
    "tags": []
   },
   "outputs": [
    {
     "data": {
      "text/plain": [
       "<AxesSubplot:ylabel='PRODUCT'>"
      ]
     },
     "execution_count": 7,
     "metadata": {},
     "output_type": "execute_result"
    },
    {
     "data": {
      "image/png": "[encoded data removed]",
      "text/plain": [
       "<Figure size 432x288 with 1 Axes>"
      ]
     },
     "metadata": {
      "needs_background": "light"
     },
     "output_type": "display_data"
    }
   ],
   "source": [
    "df_pivot_diff.sort_values(\"stamp_2\", ascending = False)[\"stamp_2\"].head(10).plot.barh()"
   ]
  },
  {
   "cell_type": "code",
   "execution_count": null,
   "id": "extra-executive",
   "metadata": {
    "papermill": {
     "duration": 0.03704,
     "end_time": "2021-11-11T14:00:13.331426",
     "exception": false,
     "start_time": "2021-11-11T14:00:13.294386",
     "status": "completed"
    },
    "tags": []
   },
   "outputs": [],
   "source": []
  }
 ],
 "metadata": {
  "kernelspec": {
   "display_name": "Python 3",
   "language": "python",
   "name": "python3"
  },
  "language_info": {
   "codemirror_mode": {
    "name": "ipython",
    "version": 3
   },
   "file_extension": ".py",
   "mimetype": "text/x-python",
   "name": "python",
   "nbconvert_exporter": "python",
   "pygments_lexer": "ipython3",
   "version": "3.9.5"
  },
  "papermill": {
   "default_parameters": {},
   "duration": 8.827233,
   "end_time": "2021-11-11T14:00:14.198103",
   "environment_variables": {},
   "exception": null,
   "input_path": "eBay_Overview.ipynb",
   "output_path": "eBay_Overview.ipynb",
   "parameters": {},
   "start_time": "2021-11-11T14:00:05.370870",
   "version": "2.3.3"
  }
 },
 "nbformat": 4,
 "nbformat_minor": 5
}