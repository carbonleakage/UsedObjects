{
 "cells": [
  {
   "cell_type": "code",
   "execution_count": 1,
   "id": "reverse-picking",
   "metadata": {
    "execution": {
     "iopub.execute_input": "2021-09-20T19:00:06.619221Z",
     "iopub.status.busy": "2021-09-20T19:00:06.617200Z",
     "iopub.status.idle": "2021-09-20T19:00:07.420061Z",
     "shell.execute_reply": "2021-09-20T19:00:07.421490Z"
    },
    "papermill": {
     "duration": 0.854782,
     "end_time": "2021-09-20T19:00:07.422176",
     "exception": false,
     "start_time": "2021-09-20T19:00:06.567394",
     "status": "completed"
    },
    "tags": []
   },
   "outputs": [],
   "source": [
    "import pandas as pd\n",
    "import sqlite3"
   ]
  },
  {
   "cell_type": "code",
   "execution_count": 2,
   "id": "innovative-syndrome",
   "metadata": {
    "execution": {
     "iopub.execute_input": "2021-09-20T19:00:07.472808Z",
     "iopub.status.busy": "2021-09-20T19:00:07.470391Z",
     "iopub.status.idle": "2021-09-20T19:00:07.809008Z",
     "shell.execute_reply": "2021-09-20T19:00:07.810145Z"
    },
    "papermill": {
     "duration": 0.368115,
     "end_time": "2021-09-20T19:00:07.810560",
     "exception": false,
     "start_time": "2021-09-20T19:00:07.442445",
     "status": "completed"
    },
    "tags": []
   },
   "outputs": [],
   "source": [
    "timestamps = pd.read_sql(\"select distinct record_time from EBAY_TOP_BERLIN order by record_time desc limit 2\", sqlite3.connect(\"UsedObjects.db\"))"
   ]
  },
  {
   "cell_type": "code",
   "execution_count": 3,
   "id": "periodic-identification",
   "metadata": {
    "execution": {
     "iopub.execute_input": "2021-09-20T19:00:07.874969Z",
     "iopub.status.busy": "2021-09-20T19:00:07.872870Z",
     "iopub.status.idle": "2021-09-20T19:00:07.892767Z",
     "shell.execute_reply": "2021-09-20T19:00:07.894065Z"
    },
    "papermill": {
     "duration": 0.062979,
     "end_time": "2021-09-20T19:00:07.894482",
     "exception": false,
     "start_time": "2021-09-20T19:00:07.831503",
     "status": "completed"
    },
    "tags": []
   },
   "outputs": [
    {
     "data": {
      "text/html": [
       "<div>\n",
       "<style scoped>\n",
       "    .dataframe tbody tr th:only-of-type {\n",
       "        vertical-align: middle;\n",
       "    }\n",
       "\n",
       "    .dataframe tbody tr th {\n",
       "        vertical-align: top;\n",
       "    }\n",
       "\n",
       "    .dataframe thead th {\n",
       "        text-align: right;\n",
       "    }\n",
       "</style>\n",
       "<table border=\"1\" class=\"dataframe\">\n",
       "  <thead>\n",
       "    <tr style=\"text-align: right;\">\n",
       "      <th></th>\n",
       "      <th>RECORD_TIME</th>\n",
       "    </tr>\n",
       "  </thead>\n",
       "  <tbody>\n",
       "    <tr>\n",
       "      <th>0</th>\n",
       "      <td>2021-09-20 21:00</td>\n",
       "    </tr>\n",
       "    <tr>\n",
       "      <th>1</th>\n",
       "      <td>2021-09-20 20:30</td>\n",
       "    </tr>\n",
       "  </tbody>\n",
       "</table>\n",
       "</div>"
      ],
      "text/plain": [
       "        RECORD_TIME\n",
       "0  2021-09-20 21:00\n",
       "1  2021-09-20 20:30"
      ]
     },
     "execution_count": 3,
     "metadata": {},
     "output_type": "execute_result"
    }
   ],
   "source": [
    "timestamps"
   ]
  },
  {
   "cell_type": "code",
   "execution_count": 4,
   "id": "alternate-victory",
   "metadata": {
    "execution": {
     "iopub.execute_input": "2021-09-20T19:00:07.945547Z",
     "iopub.status.busy": "2021-09-20T19:00:07.943695Z",
     "iopub.status.idle": "2021-09-20T19:00:08.435288Z",
     "shell.execute_reply": "2021-09-20T19:00:08.436643Z"
    },
    "papermill": {
     "duration": 0.521395,
     "end_time": "2021-09-20T19:00:08.437054",
     "exception": false,
     "start_time": "2021-09-20T19:00:07.915659",
     "status": "completed"
    },
    "tags": []
   },
   "outputs": [],
   "source": [
    "df = pd.read_sql(\"select * from EBAY_TOP_BERLIN where record_time in (select distinct record_time from EBAY_TOP_BERLIN order by record_time desc limit 2)\", sqlite3.connect(\"UsedObjects.db\"))"
   ]
  },
  {
   "cell_type": "code",
   "execution_count": 5,
   "id": "popular-active",
   "metadata": {
    "execution": {
     "iopub.execute_input": "2021-09-20T19:00:08.517079Z",
     "iopub.status.busy": "2021-09-20T19:00:08.504765Z",
     "iopub.status.idle": "2021-09-20T19:00:08.532854Z",
     "shell.execute_reply": "2021-09-20T19:00:08.534156Z"
    },
    "papermill": {
     "duration": 0.071811,
     "end_time": "2021-09-20T19:00:08.534576",
     "exception": false,
     "start_time": "2021-09-20T19:00:08.462765",
     "status": "completed"
    },
    "tags": []
   },
   "outputs": [],
   "source": [
    "df_pivot = df.pivot_table(index=\"PRODUCT\", columns = \"RECORD_TIME\", values = \"LISTING_COUNT\")"
   ]
  },
  {
   "cell_type": "code",
   "execution_count": 6,
   "id": "union-huntington",
   "metadata": {
    "execution": {
     "iopub.execute_input": "2021-09-20T19:00:08.589943Z",
     "iopub.status.busy": "2021-09-20T19:00:08.587800Z",
     "iopub.status.idle": "2021-09-20T19:00:08.595090Z",
     "shell.execute_reply": "2021-09-20T19:00:08.593431Z"
    },
    "papermill": {
     "duration": 0.041025,
     "end_time": "2021-09-20T19:00:08.595501",
     "exception": false,
     "start_time": "2021-09-20T19:00:08.554476",
     "status": "completed"
    },
    "tags": []
   },
   "outputs": [],
   "source": [
    "df_pivot.columns = [\"stamp_1\", \"stamp_2\"]\n",
    "df_pivot_diff = df_pivot.diff(axis=1)"
   ]
  },
  {
   "cell_type": "code",
   "execution_count": 7,
   "id": "fifth-motion",
   "metadata": {
    "execution": {
     "iopub.execute_input": "2021-09-20T19:00:08.650159Z",
     "iopub.status.busy": "2021-09-20T19:00:08.647504Z",
     "iopub.status.idle": "2021-09-20T19:00:10.120462Z",
     "shell.execute_reply": "2021-09-20T19:00:10.121744Z"
    },
    "papermill": {
     "duration": 1.506525,
     "end_time": "2021-09-20T19:00:10.122161",
     "exception": false,
     "start_time": "2021-09-20T19:00:08.615636",
     "status": "completed"
    },
    "tags": []
   },
   "outputs": [
    {
     "data": {
      "text/plain": [
       "<AxesSubplot:ylabel='PRODUCT'>"
      ]
     },
     "execution_count": 7,
     "metadata": {},
     "output_type": "execute_result"
    },
    {
     "data": {
      "image/png": "[encoded data removed]",
      "text/plain": [
       "<Figure size 432x288 with 1 Axes>"
      ]
     },
     "metadata": {
      "needs_background": "light"
     },
     "output_type": "display_data"
    }
   ],
   "source": [
    "df_pivot_diff.sort_values(\"stamp_2\", ascending = False)[\"stamp_2\"].head(10).plot.barh()"
   ]
  },
  {
   "cell_type": "code",
   "execution_count": null,
   "id": "extra-executive",
   "metadata": {
    "papermill": {
     "duration": 0.021924,
     "end_time": "2021-09-20T19:00:10.168127",
     "exception": false,
     "start_time": "2021-09-20T19:00:10.146203",
     "status": "completed"
    },
    "tags": []
   },
   "outputs": [],
   "source": []
  }
 ],
 "metadata": {
  "kernelspec": {
   "display_name": "Python 3",
   "language": "python",
   "name": "python3"
  },
  "language_info": {
   "codemirror_mode": {
    "name": "ipython",
    "version": 3
   },
   "file_extension": ".py",
   "mimetype": "text/x-python",
   "name": "python",
   "nbconvert_exporter": "python",
   "pygments_lexer": "ipython3",
   "version": "3.9.5"
  },
  "papermill": {
   "default_parameters": {},
   "duration": 6.649201,
   "end_time": "2021-09-20T19:00:10.811251",
   "environment_variables": {},
   "exception": null,
   "input_path": "eBay_Overview.ipynb",
   "output_path": "eBay_Overview.ipynb",
   "parameters": {},
   "start_time": "2021-09-20T19:00:04.162050",
   "version": "2.3.3"
  }
 },
 "nbformat": 4,
 "nbformat_minor": 5
}