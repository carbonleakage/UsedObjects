{
 "cells": [
  {
   "cell_type": "code",
   "execution_count": 1,
   "id": "reverse-picking",
   "metadata": {
    "execution": {
     "iopub.execute_input": "2021-09-28T01:30:06.698774Z",
     "iopub.status.busy": "2021-09-28T01:30:06.696845Z",
     "iopub.status.idle": "2021-09-28T01:30:07.502291Z",
     "shell.execute_reply": "2021-09-28T01:30:07.503686Z"
    },
    "papermill": {
     "duration": 0.85795,
     "end_time": "2021-09-28T01:30:07.504339",
     "exception": false,
     "start_time": "2021-09-28T01:30:06.646389",
     "status": "completed"
    },
    "tags": []
   },
   "outputs": [],
   "source": [
    "import pandas as pd\n",
    "import sqlite3"
   ]
  },
  {
   "cell_type": "code",
   "execution_count": 2,
   "id": "innovative-syndrome",
   "metadata": {
    "execution": {
     "iopub.execute_input": "2021-09-28T01:30:07.555567Z",
     "iopub.status.busy": "2021-09-28T01:30:07.553431Z",
     "iopub.status.idle": "2021-09-28T01:30:07.946358Z",
     "shell.execute_reply": "2021-09-28T01:30:07.947620Z"
    },
    "papermill": {
     "duration": 0.423299,
     "end_time": "2021-09-28T01:30:07.948016",
     "exception": false,
     "start_time": "2021-09-28T01:30:07.524717",
     "status": "completed"
    },
    "tags": []
   },
   "outputs": [],
   "source": [
    "timestamps = pd.read_sql(\"select distinct record_time from EBAY_TOP_BERLIN order by record_time desc limit 2\", sqlite3.connect(\"UsedObjects.db\"))"
   ]
  },
  {
   "cell_type": "code",
   "execution_count": 3,
   "id": "periodic-identification",
   "metadata": {
    "execution": {
     "iopub.execute_input": "2021-09-28T01:30:08.012039Z",
     "iopub.status.busy": "2021-09-28T01:30:08.009886Z",
     "iopub.status.idle": "2021-09-28T01:30:08.031120Z",
     "shell.execute_reply": "2021-09-28T01:30:08.032456Z"
    },
    "papermill": {
     "duration": 0.065297,
     "end_time": "2021-09-28T01:30:08.032864",
     "exception": false,
     "start_time": "2021-09-28T01:30:07.967567",
     "status": "completed"
    },
    "tags": []
   },
   "outputs": [
    {
     "data": {
      "text/html": [
       "<div>\n",
       "<style scoped>\n",
       "    .dataframe tbody tr th:only-of-type {\n",
       "        vertical-align: middle;\n",
       "    }\n",
       "\n",
       "    .dataframe tbody tr th {\n",
       "        vertical-align: top;\n",
       "    }\n",
       "\n",
       "    .dataframe thead th {\n",
       "        text-align: right;\n",
       "    }\n",
       "</style>\n",
       "<table border=\"1\" class=\"dataframe\">\n",
       "  <thead>\n",
       "    <tr style=\"text-align: right;\">\n",
       "      <th></th>\n",
       "      <th>RECORD_TIME</th>\n",
       "    </tr>\n",
       "  </thead>\n",
       "  <tbody>\n",
       "    <tr>\n",
       "      <th>0</th>\n",
       "      <td>2021-09-28 03:30</td>\n",
       "    </tr>\n",
       "    <tr>\n",
       "      <th>1</th>\n",
       "      <td>2021-09-28 03:00</td>\n",
       "    </tr>\n",
       "  </tbody>\n",
       "</table>\n",
       "</div>"
      ],
      "text/plain": [
       "        RECORD_TIME\n",
       "0  2021-09-28 03:30\n",
       "1  2021-09-28 03:00"
      ]
     },
     "execution_count": 3,
     "metadata": {},
     "output_type": "execute_result"
    }
   ],
   "source": [
    "timestamps"
   ]
  },
  {
   "cell_type": "code",
   "execution_count": 4,
   "id": "alternate-victory",
   "metadata": {
    "execution": {
     "iopub.execute_input": "2021-09-28T01:30:08.086438Z",
     "iopub.status.busy": "2021-09-28T01:30:08.084195Z",
     "iopub.status.idle": "2021-09-28T01:30:08.662744Z",
     "shell.execute_reply": "2021-09-28T01:30:08.664103Z"
    },
    "papermill": {
     "duration": 0.609917,
     "end_time": "2021-09-28T01:30:08.664519",
     "exception": false,
     "start_time": "2021-09-28T01:30:08.054602",
     "status": "completed"
    },
    "tags": []
   },
   "outputs": [],
   "source": [
    "df = pd.read_sql(\"select * from EBAY_TOP_BERLIN where record_time in (select distinct record_time from EBAY_TOP_BERLIN order by record_time desc limit 2)\", sqlite3.connect(\"UsedObjects.db\"))"
   ]
  },
  {
   "cell_type": "code",
   "execution_count": 5,
   "id": "popular-active",
   "metadata": {
    "execution": {
     "iopub.execute_input": "2021-09-28T01:30:08.733745Z",
     "iopub.status.busy": "2021-09-28T01:30:08.721867Z",
     "iopub.status.idle": "2021-09-28T01:30:08.750467Z",
     "shell.execute_reply": "2021-09-28T01:30:08.749175Z"
    },
    "papermill": {
     "duration": 0.065856,
     "end_time": "2021-09-28T01:30:08.750979",
     "exception": false,
     "start_time": "2021-09-28T01:30:08.685123",
     "status": "completed"
    },
    "tags": []
   },
   "outputs": [],
   "source": [
    "df_pivot = df.pivot_table(index=\"PRODUCT\", columns = \"RECORD_TIME\", values = \"LISTING_COUNT\")"
   ]
  },
  {
   "cell_type": "code",
   "execution_count": 6,
   "id": "union-huntington",
   "metadata": {
    "execution": {
     "iopub.execute_input": "2021-09-28T01:30:08.810069Z",
     "iopub.status.busy": "2021-09-28T01:30:08.807690Z",
     "iopub.status.idle": "2021-09-28T01:30:08.815188Z",
     "shell.execute_reply": "2021-09-28T01:30:08.813655Z"
    },
    "papermill": {
     "duration": 0.042475,
     "end_time": "2021-09-28T01:30:08.815570",
     "exception": false,
     "start_time": "2021-09-28T01:30:08.773095",
     "status": "completed"
    },
    "tags": []
   },
   "outputs": [],
   "source": [
    "df_pivot.columns = [\"stamp_1\", \"stamp_2\"]\n",
    "df_pivot_diff = df_pivot.diff(axis=1)"
   ]
  },
  {
   "cell_type": "code",
   "execution_count": 7,
   "id": "fifth-motion",
   "metadata": {
    "execution": {
     "iopub.execute_input": "2021-09-28T01:30:08.869689Z",
     "iopub.status.busy": "2021-09-28T01:30:08.867496Z",
     "iopub.status.idle": "2021-09-28T01:30:10.353484Z",
     "shell.execute_reply": "2021-09-28T01:30:10.354752Z"
    },
    "papermill": {
     "duration": 1.518589,
     "end_time": "2021-09-28T01:30:10.355399",
     "exception": false,
     "start_time": "2021-09-28T01:30:08.836810",
     "status": "completed"
    },
    "tags": []
   },
   "outputs": [
    {
     "data": {
      "text/plain": [
       "<AxesSubplot:ylabel='PRODUCT'>"
      ]
     },
     "execution_count": 7,
     "metadata": {},
     "output_type": "execute_result"
    },
    {
     "data": {
      "image/png": "[encoded data removed]",
      "text/plain": [
       "<Figure size 432x288 with 1 Axes>"
      ]
     },
     "metadata": {
      "needs_background": "light"
     },
     "output_type": "display_data"
    }
   ],
   "source": [
    "df_pivot_diff.sort_values(\"stamp_2\", ascending = False)[\"stamp_2\"].head(10).plot.barh()"
   ]
  },
  {
   "cell_type": "code",
   "execution_count": null,
   "id": "extra-executive",
   "metadata": {
    "papermill": {
     "duration": 0.022443,
     "end_time": "2021-09-28T01:30:10.403256",
     "exception": false,
     "start_time": "2021-09-28T01:30:10.380813",
     "status": "completed"
    },
    "tags": []
   },
   "outputs": [],
   "source": []
  }
 ],
 "metadata": {
  "kernelspec": {
   "display_name": "Python 3",
   "language": "python",
   "name": "python3"
  },
  "language_info": {
   "codemirror_mode": {
    "name": "ipython",
    "version": 3
   },
   "file_extension": ".py",
   "mimetype": "text/x-python",
   "name": "python",
   "nbconvert_exporter": "python",
   "pygments_lexer": "ipython3",
   "version": "3.9.5"
  },
  "papermill": {
   "default_parameters": {},
   "duration": 6.808239,
   "end_time": "2021-09-28T01:30:11.044071",
   "environment_variables": {},
   "exception": null,
   "input_path": "eBay_Overview.ipynb",
   "output_path": "eBay_Overview.ipynb",
   "parameters": {},
   "start_time": "2021-09-28T01:30:04.235832",
   "version": "2.3.3"
  }
 },
 "nbformat": 4,
 "nbformat_minor": 5
}