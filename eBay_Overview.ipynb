{
 "cells": [
  {
   "cell_type": "code",
   "execution_count": 1,
   "id": "reverse-picking",
   "metadata": {
    "execution": {
     "iopub.execute_input": "2021-12-06T07:00:07.947090Z",
     "iopub.status.busy": "2021-12-06T07:00:07.945134Z",
     "iopub.status.idle": "2021-12-06T07:00:08.916415Z",
     "shell.execute_reply": "2021-12-06T07:00:08.914476Z"
    },
    "papermill": {
     "duration": 1.016986,
     "end_time": "2021-12-06T07:00:08.916973",
     "exception": false,
     "start_time": "2021-12-06T07:00:07.899987",
     "status": "completed"
    },
    "tags": []
   },
   "outputs": [],
   "source": [
    "import pandas as pd\n",
    "import sqlite3"
   ]
  },
  {
   "cell_type": "code",
   "execution_count": 2,
   "id": "innovative-syndrome",
   "metadata": {
    "execution": {
     "iopub.execute_input": "2021-12-06T07:00:08.978571Z",
     "iopub.status.busy": "2021-12-06T07:00:08.976247Z",
     "iopub.status.idle": "2021-12-06T07:00:09.996238Z",
     "shell.execute_reply": "2021-12-06T07:00:09.997966Z"
    },
    "papermill": {
     "duration": 1.054363,
     "end_time": "2021-12-06T07:00:09.998491",
     "exception": false,
     "start_time": "2021-12-06T07:00:08.944128",
     "status": "completed"
    },
    "tags": []
   },
   "outputs": [],
   "source": [
    "timestamps = pd.read_sql(\"select distinct record_time from EBAY_TOP_BERLIN order by record_time desc limit 2\", sqlite3.connect(\"UsedObjects.db\"))"
   ]
  },
  {
   "cell_type": "code",
   "execution_count": 3,
   "id": "periodic-identification",
   "metadata": {
    "execution": {
     "iopub.execute_input": "2021-12-06T07:00:10.071599Z",
     "iopub.status.busy": "2021-12-06T07:00:10.069149Z",
     "iopub.status.idle": "2021-12-06T07:00:10.092736Z",
     "shell.execute_reply": "2021-12-06T07:00:10.094443Z"
    },
    "papermill": {
     "duration": 0.075018,
     "end_time": "2021-12-06T07:00:10.094955",
     "exception": false,
     "start_time": "2021-12-06T07:00:10.019937",
     "status": "completed"
    },
    "tags": []
   },
   "outputs": [
    {
     "data": {
      "text/html": [
       "<div>\n",
       "<style scoped>\n",
       "    .dataframe tbody tr th:only-of-type {\n",
       "        vertical-align: middle;\n",
       "    }\n",
       "\n",
       "    .dataframe tbody tr th {\n",
       "        vertical-align: top;\n",
       "    }\n",
       "\n",
       "    .dataframe thead th {\n",
       "        text-align: right;\n",
       "    }\n",
       "</style>\n",
       "<table border=\"1\" class=\"dataframe\">\n",
       "  <thead>\n",
       "    <tr style=\"text-align: right;\">\n",
       "      <th></th>\n",
       "      <th>RECORD_TIME</th>\n",
       "    </tr>\n",
       "  </thead>\n",
       "  <tbody>\n",
       "    <tr>\n",
       "      <th>0</th>\n",
       "      <td>2021-12-06 08:00</td>\n",
       "    </tr>\n",
       "    <tr>\n",
       "      <th>1</th>\n",
       "      <td>2021-12-06 07:30</td>\n",
       "    </tr>\n",
       "  </tbody>\n",
       "</table>\n",
       "</div>"
      ],
      "text/plain": [
       "        RECORD_TIME\n",
       "0  2021-12-06 08:00\n",
       "1  2021-12-06 07:30"
      ]
     },
     "execution_count": 3,
     "metadata": {},
     "output_type": "execute_result"
    }
   ],
   "source": [
    "timestamps"
   ]
  },
  {
   "cell_type": "code",
   "execution_count": 4,
   "id": "alternate-victory",
   "metadata": {
    "execution": {
     "iopub.execute_input": "2021-12-06T07:00:10.153401Z",
     "iopub.status.busy": "2021-12-06T07:00:10.149818Z",
     "iopub.status.idle": "2021-12-06T07:00:11.598090Z",
     "shell.execute_reply": "2021-12-06T07:00:11.600444Z"
    },
    "papermill": {
     "duration": 1.482555,
     "end_time": "2021-12-06T07:00:11.601058",
     "exception": false,
     "start_time": "2021-12-06T07:00:10.118503",
     "status": "completed"
    },
    "tags": []
   },
   "outputs": [],
   "source": [
    "df = pd.read_sql(\"select * from EBAY_TOP_BERLIN where record_time in (select distinct record_time from EBAY_TOP_BERLIN order by record_time desc limit 2)\", sqlite3.connect(\"UsedObjects.db\"))"
   ]
  },
  {
   "cell_type": "code",
   "execution_count": 5,
   "id": "popular-active",
   "metadata": {
    "execution": {
     "iopub.execute_input": "2021-12-06T07:00:11.674140Z",
     "iopub.status.busy": "2021-12-06T07:00:11.664445Z",
     "iopub.status.idle": "2021-12-06T07:00:11.700634Z",
     "shell.execute_reply": "2021-12-06T07:00:11.699150Z"
    },
    "papermill": {
     "duration": 0.078454,
     "end_time": "2021-12-06T07:00:11.701147",
     "exception": false,
     "start_time": "2021-12-06T07:00:11.622693",
     "status": "completed"
    },
    "tags": []
   },
   "outputs": [],
   "source": [
    "df_pivot = df.pivot_table(index=\"PRODUCT\", columns = \"RECORD_TIME\", values = \"LISTING_COUNT\")"
   ]
  },
  {
   "cell_type": "code",
   "execution_count": 6,
   "id": "union-huntington",
   "metadata": {
    "execution": {
     "iopub.execute_input": "2021-12-06T07:00:11.759730Z",
     "iopub.status.busy": "2021-12-06T07:00:11.757490Z",
     "iopub.status.idle": "2021-12-06T07:00:11.763300Z",
     "shell.execute_reply": "2021-12-06T07:00:11.764654Z"
    },
    "papermill": {
     "duration": 0.043962,
     "end_time": "2021-12-06T07:00:11.765192",
     "exception": false,
     "start_time": "2021-12-06T07:00:11.721230",
     "status": "completed"
    },
    "tags": []
   },
   "outputs": [],
   "source": [
    "df_pivot.columns = [\"stamp_1\", \"stamp_2\"]\n",
    "df_pivot_diff = df_pivot.diff(axis=1)"
   ]
  },
  {
   "cell_type": "code",
   "execution_count": 7,
   "id": "fifth-motion",
   "metadata": {
    "execution": {
     "iopub.execute_input": "2021-12-06T07:00:11.827517Z",
     "iopub.status.busy": "2021-12-06T07:00:11.821793Z",
     "iopub.status.idle": "2021-12-06T07:00:13.754970Z",
     "shell.execute_reply": "2021-12-06T07:00:13.757162Z"
    },
    "papermill": {
     "duration": 1.97191,
     "end_time": "2021-12-06T07:00:13.757821",
     "exception": false,
     "start_time": "2021-12-06T07:00:11.785911",
     "status": "completed"
    },
    "tags": []
   },
   "outputs": [
    {
     "data": {
      "text/plain": [
       "<AxesSubplot:ylabel='PRODUCT'>"
      ]
     },
     "execution_count": 7,
     "metadata": {},
     "output_type": "execute_result"
    },
    {
     "data": {
      "image/png": "[encoded data removed]",
      "text/plain": [
       "<Figure size 432x288 with 1 Axes>"
      ]
     },
     "metadata": {
      "needs_background": "light"
     },
     "output_type": "display_data"
    }
   ],
   "source": [
    "df_pivot_diff.sort_values(\"stamp_2\", ascending = False)[\"stamp_2\"].head(10).plot.barh()"
   ]
  },
  {
   "cell_type": "code",
   "execution_count": null,
   "id": "extra-executive",
   "metadata": {
    "papermill": {
     "duration": 0.037078,
     "end_time": "2021-12-06T07:00:13.831238",
     "exception": false,
     "start_time": "2021-12-06T07:00:13.794160",
     "status": "completed"
    },
    "tags": []
   },
   "outputs": [],
   "source": []
  }
 ],
 "metadata": {
  "kernelspec": {
   "display_name": "Python 3",
   "language": "python",
   "name": "python3"
  },
  "language_info": {
   "codemirror_mode": {
    "name": "ipython",
    "version": 3
   },
   "file_extension": ".py",
   "mimetype": "text/x-python",
   "name": "python",
   "nbconvert_exporter": "python",
   "pygments_lexer": "ipython3",
   "version": "3.9.5"
  },
  "papermill": {
   "default_parameters": {},
   "duration": 9.945191,
   "end_time": "2021-12-06T07:00:15.085951",
   "environment_variables": {},
   "exception": null,
   "input_path": "eBay_Overview.ipynb",
   "output_path": "eBay_Overview.ipynb",
   "parameters": {},
   "start_time": "2021-12-06T07:00:05.140760",
   "version": "2.3.3"
  }
 },
 "nbformat": 4,
 "nbformat_minor": 5
}