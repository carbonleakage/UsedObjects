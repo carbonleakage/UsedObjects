{
 "cells": [
  {
   "cell_type": "code",
   "execution_count": 1,
   "id": "reverse-picking",
   "metadata": {
    "execution": {
     "iopub.execute_input": "2021-11-15T00:00:07.280424Z",
     "iopub.status.busy": "2021-11-15T00:00:07.262291Z",
     "iopub.status.idle": "2021-11-15T00:00:08.229271Z",
     "shell.execute_reply": "2021-11-15T00:00:08.230836Z"
    },
    "papermill": {
     "duration": 1.002321,
     "end_time": "2021-11-15T00:00:08.231578",
     "exception": false,
     "start_time": "2021-11-15T00:00:07.229257",
     "status": "completed"
    },
    "tags": []
   },
   "outputs": [],
   "source": [
    "import pandas as pd\n",
    "import sqlite3"
   ]
  },
  {
   "cell_type": "code",
   "execution_count": 2,
   "id": "innovative-syndrome",
   "metadata": {
    "execution": {
     "iopub.execute_input": "2021-11-15T00:00:08.299952Z",
     "iopub.status.busy": "2021-11-15T00:00:08.297379Z",
     "iopub.status.idle": "2021-11-15T00:00:09.120065Z",
     "shell.execute_reply": "2021-11-15T00:00:09.121541Z"
    },
    "papermill": {
     "duration": 0.856421,
     "end_time": "2021-11-15T00:00:09.122014",
     "exception": false,
     "start_time": "2021-11-15T00:00:08.265593",
     "status": "completed"
    },
    "tags": []
   },
   "outputs": [],
   "source": [
    "timestamps = pd.read_sql(\"select distinct record_time from EBAY_TOP_BERLIN order by record_time desc limit 2\", sqlite3.connect(\"UsedObjects.db\"))"
   ]
  },
  {
   "cell_type": "code",
   "execution_count": 3,
   "id": "periodic-identification",
   "metadata": {
    "execution": {
     "iopub.execute_input": "2021-11-15T00:00:09.194956Z",
     "iopub.status.busy": "2021-11-15T00:00:09.174947Z",
     "iopub.status.idle": "2021-11-15T00:00:09.218658Z",
     "shell.execute_reply": "2021-11-15T00:00:09.217094Z"
    },
    "papermill": {
     "duration": 0.076401,
     "end_time": "2021-11-15T00:00:09.219078",
     "exception": false,
     "start_time": "2021-11-15T00:00:09.142677",
     "status": "completed"
    },
    "tags": []
   },
   "outputs": [
    {
     "data": {
      "text/html": [
       "<div>\n",
       "<style scoped>\n",
       "    .dataframe tbody tr th:only-of-type {\n",
       "        vertical-align: middle;\n",
       "    }\n",
       "\n",
       "    .dataframe tbody tr th {\n",
       "        vertical-align: top;\n",
       "    }\n",
       "\n",
       "    .dataframe thead th {\n",
       "        text-align: right;\n",
       "    }\n",
       "</style>\n",
       "<table border=\"1\" class=\"dataframe\">\n",
       "  <thead>\n",
       "    <tr style=\"text-align: right;\">\n",
       "      <th></th>\n",
       "      <th>RECORD_TIME</th>\n",
       "    </tr>\n",
       "  </thead>\n",
       "  <tbody>\n",
       "    <tr>\n",
       "      <th>0</th>\n",
       "      <td>2021-11-15 01:00</td>\n",
       "    </tr>\n",
       "    <tr>\n",
       "      <th>1</th>\n",
       "      <td>2021-11-15 00:30</td>\n",
       "    </tr>\n",
       "  </tbody>\n",
       "</table>\n",
       "</div>"
      ],
      "text/plain": [
       "        RECORD_TIME\n",
       "0  2021-11-15 01:00\n",
       "1  2021-11-15 00:30"
      ]
     },
     "execution_count": 3,
     "metadata": {},
     "output_type": "execute_result"
    }
   ],
   "source": [
    "timestamps"
   ]
  },
  {
   "cell_type": "code",
   "execution_count": 4,
   "id": "alternate-victory",
   "metadata": {
    "execution": {
     "iopub.execute_input": "2021-11-15T00:00:09.273276Z",
     "iopub.status.busy": "2021-11-15T00:00:09.271026Z",
     "iopub.status.idle": "2021-11-15T00:00:10.455921Z",
     "shell.execute_reply": "2021-11-15T00:00:10.458228Z"
    },
    "papermill": {
     "duration": 1.218585,
     "end_time": "2021-11-15T00:00:10.458909",
     "exception": false,
     "start_time": "2021-11-15T00:00:09.240324",
     "status": "completed"
    },
    "tags": []
   },
   "outputs": [],
   "source": [
    "df = pd.read_sql(\"select * from EBAY_TOP_BERLIN where record_time in (select distinct record_time from EBAY_TOP_BERLIN order by record_time desc limit 2)\", sqlite3.connect(\"UsedObjects.db\"))"
   ]
  },
  {
   "cell_type": "code",
   "execution_count": 5,
   "id": "popular-active",
   "metadata": {
    "execution": {
     "iopub.execute_input": "2021-11-15T00:00:10.528616Z",
     "iopub.status.busy": "2021-11-15T00:00:10.526360Z",
     "iopub.status.idle": "2021-11-15T00:00:10.555875Z",
     "shell.execute_reply": "2021-11-15T00:00:10.557482Z"
    },
    "papermill": {
     "duration": 0.076186,
     "end_time": "2021-11-15T00:00:10.557988",
     "exception": false,
     "start_time": "2021-11-15T00:00:10.481802",
     "status": "completed"
    },
    "tags": []
   },
   "outputs": [],
   "source": [
    "df_pivot = df.pivot_table(index=\"PRODUCT\", columns = \"RECORD_TIME\", values = \"LISTING_COUNT\")"
   ]
  },
  {
   "cell_type": "code",
   "execution_count": 6,
   "id": "union-huntington",
   "metadata": {
    "execution": {
     "iopub.execute_input": "2021-11-15T00:00:10.616987Z",
     "iopub.status.busy": "2021-11-15T00:00:10.614611Z",
     "iopub.status.idle": "2021-11-15T00:00:10.620208Z",
     "shell.execute_reply": "2021-11-15T00:00:10.621583Z"
    },
    "papermill": {
     "duration": 0.043646,
     "end_time": "2021-11-15T00:00:10.622096",
     "exception": false,
     "start_time": "2021-11-15T00:00:10.578450",
     "status": "completed"
    },
    "tags": []
   },
   "outputs": [],
   "source": [
    "df_pivot.columns = [\"stamp_1\", \"stamp_2\"]\n",
    "df_pivot_diff = df_pivot.diff(axis=1)"
   ]
  },
  {
   "cell_type": "code",
   "execution_count": 7,
   "id": "fifth-motion",
   "metadata": {
    "execution": {
     "iopub.execute_input": "2021-11-15T00:00:10.681786Z",
     "iopub.status.busy": "2021-11-15T00:00:10.679455Z",
     "iopub.status.idle": "2021-11-15T00:00:12.557454Z",
     "shell.execute_reply": "2021-11-15T00:00:12.558858Z"
    },
    "papermill": {
     "duration": 1.91596,
     "end_time": "2021-11-15T00:00:12.559279",
     "exception": false,
     "start_time": "2021-11-15T00:00:10.643319",
     "status": "completed"
    },
    "tags": []
   },
   "outputs": [
    {
     "data": {
      "text/plain": [
       "<AxesSubplot:ylabel='PRODUCT'>"
      ]
     },
     "execution_count": 7,
     "metadata": {},
     "output_type": "execute_result"
    },
    {
     "data": {
      "image/png": "[encoded data removed]",
      "text/plain": [
       "<Figure size 432x288 with 1 Axes>"
      ]
     },
     "metadata": {
      "needs_background": "light"
     },
     "output_type": "display_data"
    }
   ],
   "source": [
    "df_pivot_diff.sort_values(\"stamp_2\", ascending = False)[\"stamp_2\"].head(10).plot.barh()"
   ]
  },
  {
   "cell_type": "code",
   "execution_count": null,
   "id": "extra-executive",
   "metadata": {
    "papermill": {
     "duration": 0.023025,
     "end_time": "2021-11-15T00:00:12.607361",
     "exception": false,
     "start_time": "2021-11-15T00:00:12.584336",
     "status": "completed"
    },
    "tags": []
   },
   "outputs": [],
   "source": []
  }
 ],
 "metadata": {
  "kernelspec": {
   "display_name": "Python 3",
   "language": "python",
   "name": "python3"
  },
  "language_info": {
   "codemirror_mode": {
    "name": "ipython",
    "version": 3
   },
   "file_extension": ".py",
   "mimetype": "text/x-python",
   "name": "python",
   "nbconvert_exporter": "python",
   "pygments_lexer": "ipython3",
   "version": "3.9.5"
  },
  "papermill": {
   "default_parameters": {},
   "duration": 8.92991,
   "end_time": "2021-11-15T00:00:13.455511",
   "environment_variables": {},
   "exception": null,
   "input_path": "eBay_Overview.ipynb",
   "output_path": "eBay_Overview.ipynb",
   "parameters": {},
   "start_time": "2021-11-15T00:00:04.525601",
   "version": "2.3.3"
  }
 },
 "nbformat": 4,
 "nbformat_minor": 5
}