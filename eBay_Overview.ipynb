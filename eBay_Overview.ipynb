{
 "cells": [
  {
   "cell_type": "code",
   "execution_count": 1,
   "id": "reverse-picking",
   "metadata": {
    "execution": {
     "iopub.execute_input": "2021-10-14T23:00:07.479873Z",
     "iopub.status.busy": "2021-10-14T23:00:07.477889Z",
     "iopub.status.idle": "2021-10-14T23:00:08.286526Z",
     "shell.execute_reply": "2021-10-14T23:00:08.287763Z"
    },
    "papermill": {
     "duration": 0.859725,
     "end_time": "2021-10-14T23:00:08.288401",
     "exception": false,
     "start_time": "2021-10-14T23:00:07.428676",
     "status": "completed"
    },
    "tags": []
   },
   "outputs": [],
   "source": [
    "import pandas as pd\n",
    "import sqlite3"
   ]
  },
  {
   "cell_type": "code",
   "execution_count": 2,
   "id": "innovative-syndrome",
   "metadata": {
    "execution": {
     "iopub.execute_input": "2021-10-14T23:00:08.341895Z",
     "iopub.status.busy": "2021-10-14T23:00:08.339497Z",
     "iopub.status.idle": "2021-10-14T23:00:08.885064Z",
     "shell.execute_reply": "2021-10-14T23:00:08.886284Z"
    },
    "papermill": {
     "duration": 0.575957,
     "end_time": "2021-10-14T23:00:08.886682",
     "exception": false,
     "start_time": "2021-10-14T23:00:08.310725",
     "status": "completed"
    },
    "tags": []
   },
   "outputs": [],
   "source": [
    "timestamps = pd.read_sql(\"select distinct record_time from EBAY_TOP_BERLIN order by record_time desc limit 2\", sqlite3.connect(\"UsedObjects.db\"))"
   ]
  },
  {
   "cell_type": "code",
   "execution_count": 3,
   "id": "periodic-identification",
   "metadata": {
    "execution": {
     "iopub.execute_input": "2021-10-14T23:00:08.979331Z",
     "iopub.status.busy": "2021-10-14T23:00:08.977284Z",
     "iopub.status.idle": "2021-10-14T23:00:09.001829Z",
     "shell.execute_reply": "2021-10-14T23:00:08.999886Z"
    },
    "papermill": {
     "duration": 0.077203,
     "end_time": "2021-10-14T23:00:09.002300",
     "exception": false,
     "start_time": "2021-10-14T23:00:08.925097",
     "status": "completed"
    },
    "tags": []
   },
   "outputs": [
    {
     "data": {
      "text/html": [
       "<div>\n",
       "<style scoped>\n",
       "    .dataframe tbody tr th:only-of-type {\n",
       "        vertical-align: middle;\n",
       "    }\n",
       "\n",
       "    .dataframe tbody tr th {\n",
       "        vertical-align: top;\n",
       "    }\n",
       "\n",
       "    .dataframe thead th {\n",
       "        text-align: right;\n",
       "    }\n",
       "</style>\n",
       "<table border=\"1\" class=\"dataframe\">\n",
       "  <thead>\n",
       "    <tr style=\"text-align: right;\">\n",
       "      <th></th>\n",
       "      <th>RECORD_TIME</th>\n",
       "    </tr>\n",
       "  </thead>\n",
       "  <tbody>\n",
       "    <tr>\n",
       "      <th>0</th>\n",
       "      <td>2021-10-15 01:00</td>\n",
       "    </tr>\n",
       "    <tr>\n",
       "      <th>1</th>\n",
       "      <td>2021-10-15 00:30</td>\n",
       "    </tr>\n",
       "  </tbody>\n",
       "</table>\n",
       "</div>"
      ],
      "text/plain": [
       "        RECORD_TIME\n",
       "0  2021-10-15 01:00\n",
       "1  2021-10-15 00:30"
      ]
     },
     "execution_count": 3,
     "metadata": {},
     "output_type": "execute_result"
    }
   ],
   "source": [
    "timestamps"
   ]
  },
  {
   "cell_type": "code",
   "execution_count": 4,
   "id": "alternate-victory",
   "metadata": {
    "execution": {
     "iopub.execute_input": "2021-10-14T23:00:09.056051Z",
     "iopub.status.busy": "2021-10-14T23:00:09.054229Z",
     "iopub.status.idle": "2021-10-14T23:00:09.843965Z",
     "shell.execute_reply": "2021-10-14T23:00:09.845237Z"
    },
    "papermill": {
     "duration": 0.820015,
     "end_time": "2021-10-14T23:00:09.845639",
     "exception": false,
     "start_time": "2021-10-14T23:00:09.025624",
     "status": "completed"
    },
    "tags": []
   },
   "outputs": [],
   "source": [
    "df = pd.read_sql(\"select * from EBAY_TOP_BERLIN where record_time in (select distinct record_time from EBAY_TOP_BERLIN order by record_time desc limit 2)\", sqlite3.connect(\"UsedObjects.db\"))"
   ]
  },
  {
   "cell_type": "code",
   "execution_count": 5,
   "id": "popular-active",
   "metadata": {
    "execution": {
     "iopub.execute_input": "2021-10-14T23:00:09.916755Z",
     "iopub.status.busy": "2021-10-14T23:00:09.905343Z",
     "iopub.status.idle": "2021-10-14T23:00:09.932247Z",
     "shell.execute_reply": "2021-10-14T23:00:09.933539Z"
    },
    "papermill": {
     "duration": 0.067457,
     "end_time": "2021-10-14T23:00:09.933941",
     "exception": false,
     "start_time": "2021-10-14T23:00:09.866484",
     "status": "completed"
    },
    "tags": []
   },
   "outputs": [],
   "source": [
    "df_pivot = df.pivot_table(index=\"PRODUCT\", columns = \"RECORD_TIME\", values = \"LISTING_COUNT\")"
   ]
  },
  {
   "cell_type": "code",
   "execution_count": 6,
   "id": "union-huntington",
   "metadata": {
    "execution": {
     "iopub.execute_input": "2021-10-14T23:00:09.990823Z",
     "iopub.status.busy": "2021-10-14T23:00:09.988625Z",
     "iopub.status.idle": "2021-10-14T23:00:09.995774Z",
     "shell.execute_reply": "2021-10-14T23:00:09.994281Z"
    },
    "papermill": {
     "duration": 0.041366,
     "end_time": "2021-10-14T23:00:09.996147",
     "exception": false,
     "start_time": "2021-10-14T23:00:09.954781",
     "status": "completed"
    },
    "tags": []
   },
   "outputs": [],
   "source": [
    "df_pivot.columns = [\"stamp_1\", \"stamp_2\"]\n",
    "df_pivot_diff = df_pivot.diff(axis=1)"
   ]
  },
  {
   "cell_type": "code",
   "execution_count": 7,
   "id": "fifth-motion",
   "metadata": {
    "execution": {
     "iopub.execute_input": "2021-10-14T23:00:10.051520Z",
     "iopub.status.busy": "2021-10-14T23:00:10.049138Z",
     "iopub.status.idle": "2021-10-14T23:00:11.538209Z",
     "shell.execute_reply": "2021-10-14T23:00:11.539492Z"
    },
    "papermill": {
     "duration": 1.522938,
     "end_time": "2021-10-14T23:00:11.539908",
     "exception": false,
     "start_time": "2021-10-14T23:00:10.016970",
     "status": "completed"
    },
    "tags": []
   },
   "outputs": [
    {
     "data": {
      "text/plain": [
       "<AxesSubplot:ylabel='PRODUCT'>"
      ]
     },
     "execution_count": 7,
     "metadata": {},
     "output_type": "execute_result"
    },
    {
     "data": {
      "image/png": "[encoded data removed]",
      "text/plain": [
       "<Figure size 432x288 with 1 Axes>"
      ]
     },
     "metadata": {
      "needs_background": "light"
     },
     "output_type": "display_data"
    }
   ],
   "source": [
    "df_pivot_diff.sort_values(\"stamp_2\", ascending = False)[\"stamp_2\"].head(10).plot.barh()"
   ]
  },
  {
   "cell_type": "code",
   "execution_count": null,
   "id": "extra-executive",
   "metadata": {
    "papermill": {
     "duration": 0.02232,
     "end_time": "2021-10-14T23:00:11.586918",
     "exception": false,
     "start_time": "2021-10-14T23:00:11.564598",
     "status": "completed"
    },
    "tags": []
   },
   "outputs": [],
   "source": []
  }
 ],
 "metadata": {
  "kernelspec": {
   "display_name": "Python 3",
   "language": "python",
   "name": "python3"
  },
  "language_info": {
   "codemirror_mode": {
    "name": "ipython",
    "version": 3
   },
   "file_extension": ".py",
   "mimetype": "text/x-python",
   "name": "python",
   "nbconvert_exporter": "python",
   "pygments_lexer": "ipython3",
   "version": "3.9.5"
  },
  "papermill": {
   "default_parameters": {},
   "duration": 7.828948,
   "end_time": "2021-10-14T23:00:12.839534",
   "environment_variables": {},
   "exception": null,
   "input_path": "eBay_Overview.ipynb",
   "output_path": "eBay_Overview.ipynb",
   "parameters": {},
   "start_time": "2021-10-14T23:00:05.010586",
   "version": "2.3.3"
  }
 },
 "nbformat": 4,
 "nbformat_minor": 5
}