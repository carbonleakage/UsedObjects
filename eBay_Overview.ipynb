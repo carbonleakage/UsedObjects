{
 "cells": [
  {
   "cell_type": "code",
   "execution_count": 1,
   "id": "reverse-picking",
   "metadata": {
    "execution": {
     "iopub.execute_input": "2021-10-14T13:00:07.475002Z",
     "iopub.status.busy": "2021-10-14T13:00:07.473030Z",
     "iopub.status.idle": "2021-10-14T13:00:08.282111Z",
     "shell.execute_reply": "2021-10-14T13:00:08.283364Z"
    },
    "papermill": {
     "duration": 0.861633,
     "end_time": "2021-10-14T13:00:08.283982",
     "exception": false,
     "start_time": "2021-10-14T13:00:07.422349",
     "status": "completed"
    },
    "tags": []
   },
   "outputs": [],
   "source": [
    "import pandas as pd\n",
    "import sqlite3"
   ]
  },
  {
   "cell_type": "code",
   "execution_count": 2,
   "id": "innovative-syndrome",
   "metadata": {
    "execution": {
     "iopub.execute_input": "2021-10-14T13:00:08.337072Z",
     "iopub.status.busy": "2021-10-14T13:00:08.334679Z",
     "iopub.status.idle": "2021-10-14T13:00:08.871823Z",
     "shell.execute_reply": "2021-10-14T13:00:08.873830Z"
    },
    "papermill": {
     "duration": 0.568045,
     "end_time": "2021-10-14T13:00:08.874273",
     "exception": false,
     "start_time": "2021-10-14T13:00:08.306228",
     "status": "completed"
    },
    "tags": []
   },
   "outputs": [],
   "source": [
    "timestamps = pd.read_sql(\"select distinct record_time from EBAY_TOP_BERLIN order by record_time desc limit 2\", sqlite3.connect(\"UsedObjects.db\"))"
   ]
  },
  {
   "cell_type": "code",
   "execution_count": 3,
   "id": "periodic-identification",
   "metadata": {
    "execution": {
     "iopub.execute_input": "2021-10-14T13:00:08.947126Z",
     "iopub.status.busy": "2021-10-14T13:00:08.945067Z",
     "iopub.status.idle": "2021-10-14T13:00:08.965030Z",
     "shell.execute_reply": "2021-10-14T13:00:08.966405Z"
    },
    "papermill": {
     "duration": 0.067645,
     "end_time": "2021-10-14T13:00:08.966808",
     "exception": false,
     "start_time": "2021-10-14T13:00:08.899163",
     "status": "completed"
    },
    "tags": []
   },
   "outputs": [
    {
     "data": {
      "text/html": [
       "<div>\n",
       "<style scoped>\n",
       "    .dataframe tbody tr th:only-of-type {\n",
       "        vertical-align: middle;\n",
       "    }\n",
       "\n",
       "    .dataframe tbody tr th {\n",
       "        vertical-align: top;\n",
       "    }\n",
       "\n",
       "    .dataframe thead th {\n",
       "        text-align: right;\n",
       "    }\n",
       "</style>\n",
       "<table border=\"1\" class=\"dataframe\">\n",
       "  <thead>\n",
       "    <tr style=\"text-align: right;\">\n",
       "      <th></th>\n",
       "      <th>RECORD_TIME</th>\n",
       "    </tr>\n",
       "  </thead>\n",
       "  <tbody>\n",
       "    <tr>\n",
       "      <th>0</th>\n",
       "      <td>2021-10-14 15:00</td>\n",
       "    </tr>\n",
       "    <tr>\n",
       "      <th>1</th>\n",
       "      <td>2021-10-14 14:30</td>\n",
       "    </tr>\n",
       "  </tbody>\n",
       "</table>\n",
       "</div>"
      ],
      "text/plain": [
       "        RECORD_TIME\n",
       "0  2021-10-14 15:00\n",
       "1  2021-10-14 14:30"
      ]
     },
     "execution_count": 3,
     "metadata": {},
     "output_type": "execute_result"
    }
   ],
   "source": [
    "timestamps"
   ]
  },
  {
   "cell_type": "code",
   "execution_count": 4,
   "id": "alternate-victory",
   "metadata": {
    "execution": {
     "iopub.execute_input": "2021-10-14T13:00:09.017936Z",
     "iopub.status.busy": "2021-10-14T13:00:09.015854Z",
     "iopub.status.idle": "2021-10-14T13:00:09.803267Z",
     "shell.execute_reply": "2021-10-14T13:00:09.804495Z"
    },
    "papermill": {
     "duration": 0.817192,
     "end_time": "2021-10-14T13:00:09.804963",
     "exception": false,
     "start_time": "2021-10-14T13:00:08.987771",
     "status": "completed"
    },
    "tags": []
   },
   "outputs": [],
   "source": [
    "df = pd.read_sql(\"select * from EBAY_TOP_BERLIN where record_time in (select distinct record_time from EBAY_TOP_BERLIN order by record_time desc limit 2)\", sqlite3.connect(\"UsedObjects.db\"))"
   ]
  },
  {
   "cell_type": "code",
   "execution_count": 5,
   "id": "popular-active",
   "metadata": {
    "execution": {
     "iopub.execute_input": "2021-10-14T13:00:09.876554Z",
     "iopub.status.busy": "2021-10-14T13:00:09.869594Z",
     "iopub.status.idle": "2021-10-14T13:00:09.891950Z",
     "shell.execute_reply": "2021-10-14T13:00:09.893263Z"
    },
    "papermill": {
     "duration": 0.068222,
     "end_time": "2021-10-14T13:00:09.893659",
     "exception": false,
     "start_time": "2021-10-14T13:00:09.825437",
     "status": "completed"
    },
    "tags": []
   },
   "outputs": [],
   "source": [
    "df_pivot = df.pivot_table(index=\"PRODUCT\", columns = \"RECORD_TIME\", values = \"LISTING_COUNT\")"
   ]
  },
  {
   "cell_type": "code",
   "execution_count": 6,
   "id": "union-huntington",
   "metadata": {
    "execution": {
     "iopub.execute_input": "2021-10-14T13:00:09.949723Z",
     "iopub.status.busy": "2021-10-14T13:00:09.947484Z",
     "iopub.status.idle": "2021-10-14T13:00:09.953138Z",
     "shell.execute_reply": "2021-10-14T13:00:09.954515Z"
    },
    "papermill": {
     "duration": 0.040713,
     "end_time": "2021-10-14T13:00:09.954948",
     "exception": false,
     "start_time": "2021-10-14T13:00:09.914235",
     "status": "completed"
    },
    "tags": []
   },
   "outputs": [],
   "source": [
    "df_pivot.columns = [\"stamp_1\", \"stamp_2\"]\n",
    "df_pivot_diff = df_pivot.diff(axis=1)"
   ]
  },
  {
   "cell_type": "code",
   "execution_count": 7,
   "id": "fifth-motion",
   "metadata": {
    "execution": {
     "iopub.execute_input": "2021-10-14T13:00:10.009337Z",
     "iopub.status.busy": "2021-10-14T13:00:10.006860Z",
     "iopub.status.idle": "2021-10-14T13:00:11.496086Z",
     "shell.execute_reply": "2021-10-14T13:00:11.497815Z"
    },
    "papermill": {
     "duration": 1.522815,
     "end_time": "2021-10-14T13:00:11.498336",
     "exception": false,
     "start_time": "2021-10-14T13:00:09.975521",
     "status": "completed"
    },
    "tags": []
   },
   "outputs": [
    {
     "data": {
      "text/plain": [
       "<AxesSubplot:ylabel='PRODUCT'>"
      ]
     },
     "execution_count": 7,
     "metadata": {},
     "output_type": "execute_result"
    },
    {
     "data": {
      "image/png": "[encoded data removed]",
      "text/plain": [
       "<Figure size 432x288 with 1 Axes>"
      ]
     },
     "metadata": {
      "needs_background": "light"
     },
     "output_type": "display_data"
    }
   ],
   "source": [
    "df_pivot_diff.sort_values(\"stamp_2\", ascending = False)[\"stamp_2\"].head(10).plot.barh()"
   ]
  },
  {
   "cell_type": "code",
   "execution_count": null,
   "id": "extra-executive",
   "metadata": {
    "papermill": {
     "duration": 0.021994,
     "end_time": "2021-10-14T13:00:11.545580",
     "exception": false,
     "start_time": "2021-10-14T13:00:11.523586",
     "status": "completed"
    },
    "tags": []
   },
   "outputs": [],
   "source": []
  }
 ],
 "metadata": {
  "kernelspec": {
   "display_name": "Python 3",
   "language": "python",
   "name": "python3"
  },
  "language_info": {
   "codemirror_mode": {
    "name": "ipython",
    "version": 3
   },
   "file_extension": ".py",
   "mimetype": "text/x-python",
   "name": "python",
   "nbconvert_exporter": "python",
   "pygments_lexer": "ipython3",
   "version": "3.9.5"
  },
  "papermill": {
   "default_parameters": {},
   "duration": 7.830958,
   "end_time": "2021-10-14T13:00:12.843427",
   "environment_variables": {},
   "exception": null,
   "input_path": "eBay_Overview.ipynb",
   "output_path": "eBay_Overview.ipynb",
   "parameters": {},
   "start_time": "2021-10-14T13:00:05.012469",
   "version": "2.3.3"
  }
 },
 "nbformat": 4,
 "nbformat_minor": 5
}