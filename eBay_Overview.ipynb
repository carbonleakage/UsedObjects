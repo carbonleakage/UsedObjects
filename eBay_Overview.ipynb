{
 "cells": [
  {
   "cell_type": "code",
   "execution_count": 1,
   "id": "reverse-picking",
   "metadata": {
    "execution": {
     "iopub.execute_input": "2021-10-26T22:30:07.298379Z",
     "iopub.status.busy": "2021-10-26T22:30:07.296335Z",
     "iopub.status.idle": "2021-10-26T22:30:08.101960Z",
     "shell.execute_reply": "2021-10-26T22:30:08.103184Z"
    },
    "papermill": {
     "duration": 0.855985,
     "end_time": "2021-10-26T22:30:08.103797",
     "exception": false,
     "start_time": "2021-10-26T22:30:07.247812",
     "status": "completed"
    },
    "tags": []
   },
   "outputs": [],
   "source": [
    "import pandas as pd\n",
    "import sqlite3"
   ]
  },
  {
   "cell_type": "code",
   "execution_count": 2,
   "id": "innovative-syndrome",
   "metadata": {
    "execution": {
     "iopub.execute_input": "2021-10-26T22:30:08.157712Z",
     "iopub.status.busy": "2021-10-26T22:30:08.155344Z",
     "iopub.status.idle": "2021-10-26T22:30:08.830481Z",
     "shell.execute_reply": "2021-10-26T22:30:08.831664Z"
    },
    "papermill": {
     "duration": 0.705187,
     "end_time": "2021-10-26T22:30:08.832063",
     "exception": false,
     "start_time": "2021-10-26T22:30:08.126876",
     "status": "completed"
    },
    "tags": []
   },
   "outputs": [],
   "source": [
    "timestamps = pd.read_sql(\"select distinct record_time from EBAY_TOP_BERLIN order by record_time desc limit 2\", sqlite3.connect(\"UsedObjects.db\"))"
   ]
  },
  {
   "cell_type": "code",
   "execution_count": 3,
   "id": "periodic-identification",
   "metadata": {
    "execution": {
     "iopub.execute_input": "2021-10-26T22:30:08.912030Z",
     "iopub.status.busy": "2021-10-26T22:30:08.910018Z",
     "iopub.status.idle": "2021-10-26T22:30:08.931762Z",
     "shell.execute_reply": "2021-10-26T22:30:08.933284Z"
    },
    "papermill": {
     "duration": 0.072224,
     "end_time": "2021-10-26T22:30:08.933816",
     "exception": false,
     "start_time": "2021-10-26T22:30:08.861592",
     "status": "completed"
    },
    "tags": []
   },
   "outputs": [
    {
     "data": {
      "text/html": [
       "<div>\n",
       "<style scoped>\n",
       "    .dataframe tbody tr th:only-of-type {\n",
       "        vertical-align: middle;\n",
       "    }\n",
       "\n",
       "    .dataframe tbody tr th {\n",
       "        vertical-align: top;\n",
       "    }\n",
       "\n",
       "    .dataframe thead th {\n",
       "        text-align: right;\n",
       "    }\n",
       "</style>\n",
       "<table border=\"1\" class=\"dataframe\">\n",
       "  <thead>\n",
       "    <tr style=\"text-align: right;\">\n",
       "      <th></th>\n",
       "      <th>RECORD_TIME</th>\n",
       "    </tr>\n",
       "  </thead>\n",
       "  <tbody>\n",
       "    <tr>\n",
       "      <th>0</th>\n",
       "      <td>2021-10-27 00:30</td>\n",
       "    </tr>\n",
       "    <tr>\n",
       "      <th>1</th>\n",
       "      <td>2021-10-27 00:00</td>\n",
       "    </tr>\n",
       "  </tbody>\n",
       "</table>\n",
       "</div>"
      ],
      "text/plain": [
       "        RECORD_TIME\n",
       "0  2021-10-27 00:30\n",
       "1  2021-10-27 00:00"
      ]
     },
     "execution_count": 3,
     "metadata": {},
     "output_type": "execute_result"
    }
   ],
   "source": [
    "timestamps"
   ]
  },
  {
   "cell_type": "code",
   "execution_count": 4,
   "id": "alternate-victory",
   "metadata": {
    "execution": {
     "iopub.execute_input": "2021-10-26T22:30:08.989484Z",
     "iopub.status.busy": "2021-10-26T22:30:08.987525Z",
     "iopub.status.idle": "2021-10-26T22:30:09.915129Z",
     "shell.execute_reply": "2021-10-26T22:30:09.916388Z"
    },
    "papermill": {
     "duration": 0.96002,
     "end_time": "2021-10-26T22:30:09.916905",
     "exception": false,
     "start_time": "2021-10-26T22:30:08.956885",
     "status": "completed"
    },
    "tags": []
   },
   "outputs": [],
   "source": [
    "df = pd.read_sql(\"select * from EBAY_TOP_BERLIN where record_time in (select distinct record_time from EBAY_TOP_BERLIN order by record_time desc limit 2)\", sqlite3.connect(\"UsedObjects.db\"))"
   ]
  },
  {
   "cell_type": "code",
   "execution_count": 5,
   "id": "popular-active",
   "metadata": {
    "execution": {
     "iopub.execute_input": "2021-10-26T22:30:09.981050Z",
     "iopub.status.busy": "2021-10-26T22:30:09.973448Z",
     "iopub.status.idle": "2021-10-26T22:30:10.003354Z",
     "shell.execute_reply": "2021-10-26T22:30:10.004549Z"
    },
    "papermill": {
     "duration": 0.068039,
     "end_time": "2021-10-26T22:30:10.005164",
     "exception": false,
     "start_time": "2021-10-26T22:30:09.937125",
     "status": "completed"
    },
    "tags": []
   },
   "outputs": [],
   "source": [
    "df_pivot = df.pivot_table(index=\"PRODUCT\", columns = \"RECORD_TIME\", values = \"LISTING_COUNT\")"
   ]
  },
  {
   "cell_type": "code",
   "execution_count": 6,
   "id": "union-huntington",
   "metadata": {
    "execution": {
     "iopub.execute_input": "2021-10-26T22:30:10.061827Z",
     "iopub.status.busy": "2021-10-26T22:30:10.059365Z",
     "iopub.status.idle": "2021-10-26T22:30:10.065343Z",
     "shell.execute_reply": "2021-10-26T22:30:10.066644Z"
    },
    "papermill": {
     "duration": 0.042049,
     "end_time": "2021-10-26T22:30:10.067069",
     "exception": false,
     "start_time": "2021-10-26T22:30:10.025020",
     "status": "completed"
    },
    "tags": []
   },
   "outputs": [],
   "source": [
    "df_pivot.columns = [\"stamp_1\", \"stamp_2\"]\n",
    "df_pivot_diff = df_pivot.diff(axis=1)"
   ]
  },
  {
   "cell_type": "code",
   "execution_count": 7,
   "id": "fifth-motion",
   "metadata": {
    "execution": {
     "iopub.execute_input": "2021-10-26T22:30:10.120576Z",
     "iopub.status.busy": "2021-10-26T22:30:10.118317Z",
     "iopub.status.idle": "2021-10-26T22:30:11.605836Z",
     "shell.execute_reply": "2021-10-26T22:30:11.607127Z"
    },
    "papermill": {
     "duration": 1.519909,
     "end_time": "2021-10-26T22:30:11.607545",
     "exception": false,
     "start_time": "2021-10-26T22:30:10.087636",
     "status": "completed"
    },
    "tags": []
   },
   "outputs": [
    {
     "data": {
      "text/plain": [
       "<AxesSubplot:ylabel='PRODUCT'>"
      ]
     },
     "execution_count": 7,
     "metadata": {},
     "output_type": "execute_result"
    },
    {
     "data": {
      "image/png": "[encoded data removed]",
      "text/plain": [
       "<Figure size 432x288 with 1 Axes>"
      ]
     },
     "metadata": {
      "needs_background": "light"
     },
     "output_type": "display_data"
    }
   ],
   "source": [
    "df_pivot_diff.sort_values(\"stamp_2\", ascending = False)[\"stamp_2\"].head(10).plot.barh()"
   ]
  },
  {
   "cell_type": "code",
   "execution_count": null,
   "id": "extra-executive",
   "metadata": {
    "papermill": {
     "duration": 0.022032,
     "end_time": "2021-10-26T22:30:11.653130",
     "exception": false,
     "start_time": "2021-10-26T22:30:11.631098",
     "status": "completed"
    },
    "tags": []
   },
   "outputs": [],
   "source": []
  }
 ],
 "metadata": {
  "kernelspec": {
   "display_name": "Python 3",
   "language": "python",
   "name": "python3"
  },
  "language_info": {
   "codemirror_mode": {
    "name": "ipython",
    "version": 3
   },
   "file_extension": ".py",
   "mimetype": "text/x-python",
   "name": "python",
   "nbconvert_exporter": "python",
   "pygments_lexer": "ipython3",
   "version": "3.9.5"
  },
  "papermill": {
   "default_parameters": {},
   "duration": 7.455599,
   "end_time": "2021-10-26T22:30:12.297487",
   "environment_variables": {},
   "exception": null,
   "input_path": "eBay_Overview.ipynb",
   "output_path": "eBay_Overview.ipynb",
   "parameters": {},
   "start_time": "2021-10-26T22:30:04.841888",
   "version": "2.3.3"
  }
 },
 "nbformat": 4,
 "nbformat_minor": 5
}