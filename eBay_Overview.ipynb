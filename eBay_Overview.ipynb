{
 "cells": [
  {
   "cell_type": "code",
   "execution_count": 1,
   "id": "reverse-picking",
   "metadata": {
    "execution": {
     "iopub.execute_input": "2021-09-14T00:00:07.265483Z",
     "iopub.status.busy": "2021-09-14T00:00:07.263561Z",
     "iopub.status.idle": "2021-09-14T00:00:08.070164Z",
     "shell.execute_reply": "2021-09-14T00:00:08.071486Z"
    },
    "papermill": {
     "duration": 0.860536,
     "end_time": "2021-09-14T00:00:08.072119",
     "exception": false,
     "start_time": "2021-09-14T00:00:07.211583",
     "status": "completed"
    },
    "tags": []
   },
   "outputs": [],
   "source": [
    "import pandas as pd\n",
    "import sqlite3"
   ]
  },
  {
   "cell_type": "code",
   "execution_count": 2,
   "id": "innovative-syndrome",
   "metadata": {
    "execution": {
     "iopub.execute_input": "2021-09-14T00:00:08.124323Z",
     "iopub.status.busy": "2021-09-14T00:00:08.122320Z",
     "iopub.status.idle": "2021-09-14T00:00:08.404237Z",
     "shell.execute_reply": "2021-09-14T00:00:08.405454Z"
    },
    "papermill": {
     "duration": 0.311531,
     "end_time": "2021-09-14T00:00:08.405848",
     "exception": false,
     "start_time": "2021-09-14T00:00:08.094317",
     "status": "completed"
    },
    "tags": []
   },
   "outputs": [],
   "source": [
    "timestamps = pd.read_sql(\"select distinct record_time from EBAY_TOP_BERLIN order by record_time desc limit 2\", sqlite3.connect(\"UsedObjects.db\"))"
   ]
  },
  {
   "cell_type": "code",
   "execution_count": 3,
   "id": "periodic-identification",
   "metadata": {
    "execution": {
     "iopub.execute_input": "2021-09-14T00:00:08.469941Z",
     "iopub.status.busy": "2021-09-14T00:00:08.467924Z",
     "iopub.status.idle": "2021-09-14T00:00:08.487836Z",
     "shell.execute_reply": "2021-09-14T00:00:08.489141Z"
    },
    "papermill": {
     "duration": 0.064356,
     "end_time": "2021-09-14T00:00:08.489558",
     "exception": false,
     "start_time": "2021-09-14T00:00:08.425202",
     "status": "completed"
    },
    "tags": []
   },
   "outputs": [
    {
     "data": {
      "text/html": [
       "<div>\n",
       "<style scoped>\n",
       "    .dataframe tbody tr th:only-of-type {\n",
       "        vertical-align: middle;\n",
       "    }\n",
       "\n",
       "    .dataframe tbody tr th {\n",
       "        vertical-align: top;\n",
       "    }\n",
       "\n",
       "    .dataframe thead th {\n",
       "        text-align: right;\n",
       "    }\n",
       "</style>\n",
       "<table border=\"1\" class=\"dataframe\">\n",
       "  <thead>\n",
       "    <tr style=\"text-align: right;\">\n",
       "      <th></th>\n",
       "      <th>RECORD_TIME</th>\n",
       "    </tr>\n",
       "  </thead>\n",
       "  <tbody>\n",
       "    <tr>\n",
       "      <th>0</th>\n",
       "      <td>2021-09-14 02:00</td>\n",
       "    </tr>\n",
       "    <tr>\n",
       "      <th>1</th>\n",
       "      <td>2021-09-14 01:30</td>\n",
       "    </tr>\n",
       "  </tbody>\n",
       "</table>\n",
       "</div>"
      ],
      "text/plain": [
       "        RECORD_TIME\n",
       "0  2021-09-14 02:00\n",
       "1  2021-09-14 01:30"
      ]
     },
     "execution_count": 3,
     "metadata": {},
     "output_type": "execute_result"
    }
   ],
   "source": [
    "timestamps"
   ]
  },
  {
   "cell_type": "code",
   "execution_count": 4,
   "id": "alternate-victory",
   "metadata": {
    "execution": {
     "iopub.execute_input": "2021-09-14T00:00:08.541540Z",
     "iopub.status.busy": "2021-09-14T00:00:08.539381Z",
     "iopub.status.idle": "2021-09-14T00:00:08.961314Z",
     "shell.execute_reply": "2021-09-14T00:00:08.962519Z"
    },
    "papermill": {
     "duration": 0.452184,
     "end_time": "2021-09-14T00:00:08.962967",
     "exception": false,
     "start_time": "2021-09-14T00:00:08.510783",
     "status": "completed"
    },
    "tags": []
   },
   "outputs": [],
   "source": [
    "df = pd.read_sql(\"select * from EBAY_TOP_BERLIN where record_time in (select distinct record_time from EBAY_TOP_BERLIN order by record_time desc limit 2)\", sqlite3.connect(\"UsedObjects.db\"))"
   ]
  },
  {
   "cell_type": "code",
   "execution_count": 5,
   "id": "popular-active",
   "metadata": {
    "execution": {
     "iopub.execute_input": "2021-09-14T00:00:09.048422Z",
     "iopub.status.busy": "2021-09-14T00:00:09.037400Z",
     "iopub.status.idle": "2021-09-14T00:00:09.064748Z",
     "shell.execute_reply": "2021-09-14T00:00:09.065973Z"
    },
    "papermill": {
     "duration": 0.071626,
     "end_time": "2021-09-14T00:00:09.066368",
     "exception": false,
     "start_time": "2021-09-14T00:00:08.994742",
     "status": "completed"
    },
    "tags": []
   },
   "outputs": [],
   "source": [
    "df_pivot = df.pivot_table(index=\"PRODUCT\", columns = \"RECORD_TIME\", values = \"LISTING_COUNT\")"
   ]
  },
  {
   "cell_type": "code",
   "execution_count": 6,
   "id": "union-huntington",
   "metadata": {
    "execution": {
     "iopub.execute_input": "2021-09-14T00:00:09.122710Z",
     "iopub.status.busy": "2021-09-14T00:00:09.120669Z",
     "iopub.status.idle": "2021-09-14T00:00:09.125971Z",
     "shell.execute_reply": "2021-09-14T00:00:09.127476Z"
    },
    "papermill": {
     "duration": 0.040654,
     "end_time": "2021-09-14T00:00:09.127910",
     "exception": false,
     "start_time": "2021-09-14T00:00:09.087256",
     "status": "completed"
    },
    "tags": []
   },
   "outputs": [],
   "source": [
    "df_pivot.columns = [\"stamp_1\", \"stamp_2\"]\n",
    "df_pivot_diff = df_pivot.diff(axis=1)"
   ]
  },
  {
   "cell_type": "code",
   "execution_count": 7,
   "id": "fifth-motion",
   "metadata": {
    "execution": {
     "iopub.execute_input": "2021-09-14T00:00:09.183660Z",
     "iopub.status.busy": "2021-09-14T00:00:09.180947Z",
     "iopub.status.idle": "2021-09-14T00:00:10.662736Z",
     "shell.execute_reply": "2021-09-14T00:00:10.664114Z"
    },
    "papermill": {
     "duration": 1.515606,
     "end_time": "2021-09-14T00:00:10.664534",
     "exception": false,
     "start_time": "2021-09-14T00:00:09.148928",
     "status": "completed"
    },
    "tags": []
   },
   "outputs": [
    {
     "data": {
      "text/plain": [
       "<AxesSubplot:ylabel='PRODUCT'>"
      ]
     },
     "execution_count": 7,
     "metadata": {},
     "output_type": "execute_result"
    },
    {
     "data": {
      "image/png": "[encoded data removed]",
      "text/plain": [
       "<Figure size 432x288 with 1 Axes>"
      ]
     },
     "metadata": {
      "needs_background": "light"
     },
     "output_type": "display_data"
    }
   ],
   "source": [
    "df_pivot_diff.sort_values(\"stamp_2\", ascending = False)[\"stamp_2\"].head(10).plot.barh()"
   ]
  },
  {
   "cell_type": "code",
   "execution_count": null,
   "id": "extra-executive",
   "metadata": {
    "papermill": {
     "duration": 0.02241,
     "end_time": "2021-09-14T00:00:10.710947",
     "exception": false,
     "start_time": "2021-09-14T00:00:10.688537",
     "status": "completed"
    },
    "tags": []
   },
   "outputs": [],
   "source": []
  }
 ],
 "metadata": {
  "kernelspec": {
   "display_name": "Python 3",
   "language": "python",
   "name": "python3"
  },
  "language_info": {
   "codemirror_mode": {
    "name": "ipython",
    "version": 3
   },
   "file_extension": ".py",
   "mimetype": "text/x-python",
   "name": "python",
   "nbconvert_exporter": "python",
   "pygments_lexer": "ipython3",
   "version": "3.9.5"
  },
  "papermill": {
   "default_parameters": {},
   "duration": 6.544781,
   "end_time": "2021-09-14T00:00:11.353906",
   "environment_variables": {},
   "exception": null,
   "input_path": "eBay_Overview.ipynb",
   "output_path": "eBay_Overview.ipynb",
   "parameters": {},
   "start_time": "2021-09-14T00:00:04.809125",
   "version": "2.3.3"
  }
 },
 "nbformat": 4,
 "nbformat_minor": 5
}