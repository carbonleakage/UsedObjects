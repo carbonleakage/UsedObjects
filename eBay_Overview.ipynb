{
 "cells": [
  {
   "cell_type": "code",
   "execution_count": 1,
   "id": "reverse-picking",
   "metadata": {
    "execution": {
     "iopub.execute_input": "2021-10-29T16:00:07.204963Z",
     "iopub.status.busy": "2021-10-29T16:00:07.202959Z",
     "iopub.status.idle": "2021-10-29T16:00:08.007075Z",
     "shell.execute_reply": "2021-10-29T16:00:08.008302Z"
    },
    "papermill": {
     "duration": 0.854576,
     "end_time": "2021-10-29T16:00:08.008974",
     "exception": false,
     "start_time": "2021-10-29T16:00:07.154398",
     "status": "completed"
    },
    "tags": []
   },
   "outputs": [],
   "source": [
    "import pandas as pd\n",
    "import sqlite3"
   ]
  },
  {
   "cell_type": "code",
   "execution_count": 2,
   "id": "innovative-syndrome",
   "metadata": {
    "execution": {
     "iopub.execute_input": "2021-10-29T16:00:08.060917Z",
     "iopub.status.busy": "2021-10-29T16:00:08.058971Z",
     "iopub.status.idle": "2021-10-29T16:00:08.740049Z",
     "shell.execute_reply": "2021-10-29T16:00:08.741292Z"
    },
    "papermill": {
     "duration": 0.710457,
     "end_time": "2021-10-29T16:00:08.741690",
     "exception": false,
     "start_time": "2021-10-29T16:00:08.031233",
     "status": "completed"
    },
    "tags": []
   },
   "outputs": [],
   "source": [
    "timestamps = pd.read_sql(\"select distinct record_time from EBAY_TOP_BERLIN order by record_time desc limit 2\", sqlite3.connect(\"UsedObjects.db\"))"
   ]
  },
  {
   "cell_type": "code",
   "execution_count": 3,
   "id": "periodic-identification",
   "metadata": {
    "execution": {
     "iopub.execute_input": "2021-10-29T16:00:08.816485Z",
     "iopub.status.busy": "2021-10-29T16:00:08.814485Z",
     "iopub.status.idle": "2021-10-29T16:00:08.834103Z",
     "shell.execute_reply": "2021-10-29T16:00:08.835216Z"
    },
    "papermill": {
     "duration": 0.066776,
     "end_time": "2021-10-29T16:00:08.835616",
     "exception": false,
     "start_time": "2021-10-29T16:00:08.768840",
     "status": "completed"
    },
    "tags": []
   },
   "outputs": [
    {
     "data": {
      "text/html": [
       "<div>\n",
       "<style scoped>\n",
       "    .dataframe tbody tr th:only-of-type {\n",
       "        vertical-align: middle;\n",
       "    }\n",
       "\n",
       "    .dataframe tbody tr th {\n",
       "        vertical-align: top;\n",
       "    }\n",
       "\n",
       "    .dataframe thead th {\n",
       "        text-align: right;\n",
       "    }\n",
       "</style>\n",
       "<table border=\"1\" class=\"dataframe\">\n",
       "  <thead>\n",
       "    <tr style=\"text-align: right;\">\n",
       "      <th></th>\n",
       "      <th>RECORD_TIME</th>\n",
       "    </tr>\n",
       "  </thead>\n",
       "  <tbody>\n",
       "    <tr>\n",
       "      <th>0</th>\n",
       "      <td>2021-10-29 18:00</td>\n",
       "    </tr>\n",
       "    <tr>\n",
       "      <th>1</th>\n",
       "      <td>2021-10-29 17:30</td>\n",
       "    </tr>\n",
       "  </tbody>\n",
       "</table>\n",
       "</div>"
      ],
      "text/plain": [
       "        RECORD_TIME\n",
       "0  2021-10-29 18:00\n",
       "1  2021-10-29 17:30"
      ]
     },
     "execution_count": 3,
     "metadata": {},
     "output_type": "execute_result"
    }
   ],
   "source": [
    "timestamps"
   ]
  },
  {
   "cell_type": "code",
   "execution_count": 4,
   "id": "alternate-victory",
   "metadata": {
    "execution": {
     "iopub.execute_input": "2021-10-29T16:00:08.889914Z",
     "iopub.status.busy": "2021-10-29T16:00:08.887578Z",
     "iopub.status.idle": "2021-10-29T16:00:09.872585Z",
     "shell.execute_reply": "2021-10-29T16:00:09.873931Z"
    },
    "papermill": {
     "duration": 1.015521,
     "end_time": "2021-10-29T16:00:09.874341",
     "exception": false,
     "start_time": "2021-10-29T16:00:08.858820",
     "status": "completed"
    },
    "tags": []
   },
   "outputs": [],
   "source": [
    "df = pd.read_sql(\"select * from EBAY_TOP_BERLIN where record_time in (select distinct record_time from EBAY_TOP_BERLIN order by record_time desc limit 2)\", sqlite3.connect(\"UsedObjects.db\"))"
   ]
  },
  {
   "cell_type": "code",
   "execution_count": 5,
   "id": "popular-active",
   "metadata": {
    "execution": {
     "iopub.execute_input": "2021-10-29T16:00:09.942268Z",
     "iopub.status.busy": "2021-10-29T16:00:09.931524Z",
     "iopub.status.idle": "2021-10-29T16:00:09.958689Z",
     "shell.execute_reply": "2021-10-29T16:00:09.959876Z"
    },
    "papermill": {
     "duration": 0.06501,
     "end_time": "2021-10-29T16:00:09.960260",
     "exception": false,
     "start_time": "2021-10-29T16:00:09.895250",
     "status": "completed"
    },
    "tags": []
   },
   "outputs": [],
   "source": [
    "df_pivot = df.pivot_table(index=\"PRODUCT\", columns = \"RECORD_TIME\", values = \"LISTING_COUNT\")"
   ]
  },
  {
   "cell_type": "code",
   "execution_count": 6,
   "id": "union-huntington",
   "metadata": {
    "execution": {
     "iopub.execute_input": "2021-10-29T16:00:10.016266Z",
     "iopub.status.busy": "2021-10-29T16:00:10.014006Z",
     "iopub.status.idle": "2021-10-29T16:00:10.019772Z",
     "shell.execute_reply": "2021-10-29T16:00:10.021377Z"
    },
    "papermill": {
     "duration": 0.041608,
     "end_time": "2021-10-29T16:00:10.021871",
     "exception": false,
     "start_time": "2021-10-29T16:00:09.980263",
     "status": "completed"
    },
    "tags": []
   },
   "outputs": [],
   "source": [
    "df_pivot.columns = [\"stamp_1\", \"stamp_2\"]\n",
    "df_pivot_diff = df_pivot.diff(axis=1)"
   ]
  },
  {
   "cell_type": "code",
   "execution_count": 7,
   "id": "fifth-motion",
   "metadata": {
    "execution": {
     "iopub.execute_input": "2021-10-29T16:00:10.076100Z",
     "iopub.status.busy": "2021-10-29T16:00:10.073743Z",
     "iopub.status.idle": "2021-10-29T16:00:11.572076Z",
     "shell.execute_reply": "2021-10-29T16:00:11.573500Z"
    },
    "papermill": {
     "duration": 1.531054,
     "end_time": "2021-10-29T16:00:11.573932",
     "exception": false,
     "start_time": "2021-10-29T16:00:10.042878",
     "status": "completed"
    },
    "tags": []
   },
   "outputs": [
    {
     "data": {
      "text/plain": [
       "<AxesSubplot:ylabel='PRODUCT'>"
      ]
     },
     "execution_count": 7,
     "metadata": {},
     "output_type": "execute_result"
    },
    {
     "data": {
      "image/png": "[encoded data removed]",
      "text/plain": [
       "<Figure size 432x288 with 1 Axes>"
      ]
     },
     "metadata": {
      "needs_background": "light"
     },
     "output_type": "display_data"
    }
   ],
   "source": [
    "df_pivot_diff.sort_values(\"stamp_2\", ascending = False)[\"stamp_2\"].head(10).plot.barh()"
   ]
  },
  {
   "cell_type": "code",
   "execution_count": null,
   "id": "extra-executive",
   "metadata": {
    "papermill": {
     "duration": 0.022194,
     "end_time": "2021-10-29T16:00:11.620830",
     "exception": false,
     "start_time": "2021-10-29T16:00:11.598636",
     "status": "completed"
    },
    "tags": []
   },
   "outputs": [],
   "source": []
  }
 ],
 "metadata": {
  "kernelspec": {
   "display_name": "Python 3",
   "language": "python",
   "name": "python3"
  },
  "language_info": {
   "codemirror_mode": {
    "name": "ipython",
    "version": 3
   },
   "file_extension": ".py",
   "mimetype": "text/x-python",
   "name": "python",
   "nbconvert_exporter": "python",
   "pygments_lexer": "ipython3",
   "version": "3.9.5"
  },
  "papermill": {
   "default_parameters": {},
   "duration": 7.505974,
   "end_time": "2021-10-29T16:00:12.263742",
   "environment_variables": {},
   "exception": null,
   "input_path": "eBay_Overview.ipynb",
   "output_path": "eBay_Overview.ipynb",
   "parameters": {},
   "start_time": "2021-10-29T16:00:04.757768",
   "version": "2.3.3"
  }
 },
 "nbformat": 4,
 "nbformat_minor": 5
}