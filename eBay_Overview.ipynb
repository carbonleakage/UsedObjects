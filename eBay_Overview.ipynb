{
 "cells": [
  {
   "cell_type": "code",
   "execution_count": 1,
   "id": "reverse-picking",
   "metadata": {
    "execution": {
     "iopub.execute_input": "2021-11-15T11:00:07.419584Z",
     "iopub.status.busy": "2021-11-15T11:00:07.417421Z",
     "iopub.status.idle": "2021-11-15T11:00:08.380462Z",
     "shell.execute_reply": "2021-11-15T11:00:08.383662Z"
    },
    "papermill": {
     "duration": 1.015101,
     "end_time": "2021-11-15T11:00:08.385152",
     "exception": false,
     "start_time": "2021-11-15T11:00:07.370051",
     "status": "completed"
    },
    "tags": []
   },
   "outputs": [],
   "source": [
    "import pandas as pd\n",
    "import sqlite3"
   ]
  },
  {
   "cell_type": "code",
   "execution_count": 2,
   "id": "innovative-syndrome",
   "metadata": {
    "execution": {
     "iopub.execute_input": "2021-11-15T11:00:08.459128Z",
     "iopub.status.busy": "2021-11-15T11:00:08.456750Z",
     "iopub.status.idle": "2021-11-15T11:00:09.275067Z",
     "shell.execute_reply": "2021-11-15T11:00:09.276440Z"
    },
    "papermill": {
     "duration": 0.852481,
     "end_time": "2021-11-15T11:00:09.277155",
     "exception": false,
     "start_time": "2021-11-15T11:00:08.424674",
     "status": "completed"
    },
    "tags": []
   },
   "outputs": [],
   "source": [
    "timestamps = pd.read_sql(\"select distinct record_time from EBAY_TOP_BERLIN order by record_time desc limit 2\", sqlite3.connect(\"UsedObjects.db\"))"
   ]
  },
  {
   "cell_type": "code",
   "execution_count": 3,
   "id": "periodic-identification",
   "metadata": {
    "execution": {
     "iopub.execute_input": "2021-11-15T11:00:09.347690Z",
     "iopub.status.busy": "2021-11-15T11:00:09.345651Z",
     "iopub.status.idle": "2021-11-15T11:00:09.366428Z",
     "shell.execute_reply": "2021-11-15T11:00:09.367702Z"
    },
    "papermill": {
     "duration": 0.068115,
     "end_time": "2021-11-15T11:00:09.368116",
     "exception": false,
     "start_time": "2021-11-15T11:00:09.300001",
     "status": "completed"
    },
    "tags": []
   },
   "outputs": [
    {
     "data": {
      "text/html": [
       "<div>\n",
       "<style scoped>\n",
       "    .dataframe tbody tr th:only-of-type {\n",
       "        vertical-align: middle;\n",
       "    }\n",
       "\n",
       "    .dataframe tbody tr th {\n",
       "        vertical-align: top;\n",
       "    }\n",
       "\n",
       "    .dataframe thead th {\n",
       "        text-align: right;\n",
       "    }\n",
       "</style>\n",
       "<table border=\"1\" class=\"dataframe\">\n",
       "  <thead>\n",
       "    <tr style=\"text-align: right;\">\n",
       "      <th></th>\n",
       "      <th>RECORD_TIME</th>\n",
       "    </tr>\n",
       "  </thead>\n",
       "  <tbody>\n",
       "    <tr>\n",
       "      <th>0</th>\n",
       "      <td>2021-11-15 12:00</td>\n",
       "    </tr>\n",
       "    <tr>\n",
       "      <th>1</th>\n",
       "      <td>2021-11-15 11:30</td>\n",
       "    </tr>\n",
       "  </tbody>\n",
       "</table>\n",
       "</div>"
      ],
      "text/plain": [
       "        RECORD_TIME\n",
       "0  2021-11-15 12:00\n",
       "1  2021-11-15 11:30"
      ]
     },
     "execution_count": 3,
     "metadata": {},
     "output_type": "execute_result"
    }
   ],
   "source": [
    "timestamps"
   ]
  },
  {
   "cell_type": "code",
   "execution_count": 4,
   "id": "alternate-victory",
   "metadata": {
    "execution": {
     "iopub.execute_input": "2021-11-15T11:00:09.418933Z",
     "iopub.status.busy": "2021-11-15T11:00:09.417076Z",
     "iopub.status.idle": "2021-11-15T11:00:10.589191Z",
     "shell.execute_reply": "2021-11-15T11:00:10.587306Z"
    },
    "papermill": {
     "duration": 1.200831,
     "end_time": "2021-11-15T11:00:10.589633",
     "exception": false,
     "start_time": "2021-11-15T11:00:09.388802",
     "status": "completed"
    },
    "tags": []
   },
   "outputs": [],
   "source": [
    "df = pd.read_sql(\"select * from EBAY_TOP_BERLIN where record_time in (select distinct record_time from EBAY_TOP_BERLIN order by record_time desc limit 2)\", sqlite3.connect(\"UsedObjects.db\"))"
   ]
  },
  {
   "cell_type": "code",
   "execution_count": 5,
   "id": "popular-active",
   "metadata": {
    "execution": {
     "iopub.execute_input": "2021-11-15T11:00:10.669467Z",
     "iopub.status.busy": "2021-11-15T11:00:10.654956Z",
     "iopub.status.idle": "2021-11-15T11:00:10.689242Z",
     "shell.execute_reply": "2021-11-15T11:00:10.690887Z"
    },
    "papermill": {
     "duration": 0.078889,
     "end_time": "2021-11-15T11:00:10.691403",
     "exception": false,
     "start_time": "2021-11-15T11:00:10.612514",
     "status": "completed"
    },
    "tags": []
   },
   "outputs": [],
   "source": [
    "df_pivot = df.pivot_table(index=\"PRODUCT\", columns = \"RECORD_TIME\", values = \"LISTING_COUNT\")"
   ]
  },
  {
   "cell_type": "code",
   "execution_count": 6,
   "id": "union-huntington",
   "metadata": {
    "execution": {
     "iopub.execute_input": "2021-11-15T11:00:10.752278Z",
     "iopub.status.busy": "2021-11-15T11:00:10.750023Z",
     "iopub.status.idle": "2021-11-15T11:00:10.755712Z",
     "shell.execute_reply": "2021-11-15T11:00:10.757223Z"
    },
    "papermill": {
     "duration": 0.044495,
     "end_time": "2021-11-15T11:00:10.757704",
     "exception": false,
     "start_time": "2021-11-15T11:00:10.713209",
     "status": "completed"
    },
    "tags": []
   },
   "outputs": [],
   "source": [
    "df_pivot.columns = [\"stamp_1\", \"stamp_2\"]\n",
    "df_pivot_diff = df_pivot.diff(axis=1)"
   ]
  },
  {
   "cell_type": "code",
   "execution_count": 7,
   "id": "fifth-motion",
   "metadata": {
    "execution": {
     "iopub.execute_input": "2021-11-15T11:00:10.813976Z",
     "iopub.status.busy": "2021-11-15T11:00:10.811397Z",
     "iopub.status.idle": "2021-11-15T11:00:12.511961Z",
     "shell.execute_reply": "2021-11-15T11:00:12.513452Z"
    },
    "papermill": {
     "duration": 1.736402,
     "end_time": "2021-11-15T11:00:12.513912",
     "exception": false,
     "start_time": "2021-11-15T11:00:10.777510",
     "status": "completed"
    },
    "tags": []
   },
   "outputs": [
    {
     "data": {
      "text/plain": [
       "<AxesSubplot:ylabel='PRODUCT'>"
      ]
     },
     "execution_count": 7,
     "metadata": {},
     "output_type": "execute_result"
    },
    {
     "data": {
      "image/png": "[encoded data removed]",
      "text/plain": [
       "<Figure size 432x288 with 1 Axes>"
      ]
     },
     "metadata": {
      "needs_background": "light"
     },
     "output_type": "display_data"
    }
   ],
   "source": [
    "df_pivot_diff.sort_values(\"stamp_2\", ascending = False)[\"stamp_2\"].head(10).plot.barh()"
   ]
  },
  {
   "cell_type": "code",
   "execution_count": null,
   "id": "extra-executive",
   "metadata": {
    "papermill": {
     "duration": 0.022389,
     "end_time": "2021-11-15T11:00:12.561477",
     "exception": false,
     "start_time": "2021-11-15T11:00:12.539088",
     "status": "completed"
    },
    "tags": []
   },
   "outputs": [],
   "source": []
  }
 ],
 "metadata": {
  "kernelspec": {
   "display_name": "Python 3",
   "language": "python",
   "name": "python3"
  },
  "language_info": {
   "codemirror_mode": {
    "name": "ipython",
    "version": 3
   },
   "file_extension": ".py",
   "mimetype": "text/x-python",
   "name": "python",
   "nbconvert_exporter": "python",
   "pygments_lexer": "ipython3",
   "version": "3.9.5"
  },
  "papermill": {
   "default_parameters": {},
   "duration": 8.568963,
   "end_time": "2021-11-15T11:00:13.202381",
   "environment_variables": {},
   "exception": null,
   "input_path": "eBay_Overview.ipynb",
   "output_path": "eBay_Overview.ipynb",
   "parameters": {},
   "start_time": "2021-11-15T11:00:04.633418",
   "version": "2.3.3"
  }
 },
 "nbformat": 4,
 "nbformat_minor": 5
}