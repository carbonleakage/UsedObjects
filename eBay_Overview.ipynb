{
 "cells": [
  {
   "cell_type": "code",
   "execution_count": 1,
   "id": "reverse-picking",
   "metadata": {
    "execution": {
     "iopub.execute_input": "2021-08-30T00:30:07.430550Z",
     "iopub.status.busy": "2021-08-30T00:30:07.428621Z",
     "iopub.status.idle": "2021-08-30T00:30:08.232786Z",
     "shell.execute_reply": "2021-08-30T00:30:08.234136Z"
    },
    "papermill": {
     "duration": 0.857103,
     "end_time": "2021-08-30T00:30:08.234780",
     "exception": false,
     "start_time": "2021-08-30T00:30:07.377677",
     "status": "completed"
    },
    "tags": []
   },
   "outputs": [],
   "source": [
    "import pandas as pd\n",
    "import sqlite3"
   ]
  },
  {
   "cell_type": "code",
   "execution_count": 2,
   "id": "innovative-syndrome",
   "metadata": {
    "execution": {
     "iopub.execute_input": "2021-08-30T00:30:08.285749Z",
     "iopub.status.busy": "2021-08-30T00:30:08.283801Z",
     "iopub.status.idle": "2021-08-30T00:30:08.443960Z",
     "shell.execute_reply": "2021-08-30T00:30:08.445298Z"
    },
    "papermill": {
     "duration": 0.18982,
     "end_time": "2021-08-30T00:30:08.445712",
     "exception": false,
     "start_time": "2021-08-30T00:30:08.255892",
     "status": "completed"
    },
    "tags": []
   },
   "outputs": [],
   "source": [
    "timestamps = pd.read_sql(\"select distinct record_time from EBAY_TOP_BERLIN order by record_time desc limit 2\", sqlite3.connect(\"UsedObjects.db\"))"
   ]
  },
  {
   "cell_type": "code",
   "execution_count": 3,
   "id": "periodic-identification",
   "metadata": {
    "execution": {
     "iopub.execute_input": "2021-08-30T00:30:08.511103Z",
     "iopub.status.busy": "2021-08-30T00:30:08.509093Z",
     "iopub.status.idle": "2021-08-30T00:30:08.528865Z",
     "shell.execute_reply": "2021-08-30T00:30:08.530103Z"
    },
    "papermill": {
     "duration": 0.06504,
     "end_time": "2021-08-30T00:30:08.530493",
     "exception": false,
     "start_time": "2021-08-30T00:30:08.465453",
     "status": "completed"
    },
    "tags": []
   },
   "outputs": [
    {
     "data": {
      "text/html": [
       "<div>\n",
       "<style scoped>\n",
       "    .dataframe tbody tr th:only-of-type {\n",
       "        vertical-align: middle;\n",
       "    }\n",
       "\n",
       "    .dataframe tbody tr th {\n",
       "        vertical-align: top;\n",
       "    }\n",
       "\n",
       "    .dataframe thead th {\n",
       "        text-align: right;\n",
       "    }\n",
       "</style>\n",
       "<table border=\"1\" class=\"dataframe\">\n",
       "  <thead>\n",
       "    <tr style=\"text-align: right;\">\n",
       "      <th></th>\n",
       "      <th>RECORD_TIME</th>\n",
       "    </tr>\n",
       "  </thead>\n",
       "  <tbody>\n",
       "    <tr>\n",
       "      <th>0</th>\n",
       "      <td>2021-08-30 02:30</td>\n",
       "    </tr>\n",
       "    <tr>\n",
       "      <th>1</th>\n",
       "      <td>2021-08-30 02:00</td>\n",
       "    </tr>\n",
       "  </tbody>\n",
       "</table>\n",
       "</div>"
      ],
      "text/plain": [
       "        RECORD_TIME\n",
       "0  2021-08-30 02:30\n",
       "1  2021-08-30 02:00"
      ]
     },
     "execution_count": 3,
     "metadata": {},
     "output_type": "execute_result"
    }
   ],
   "source": [
    "timestamps"
   ]
  },
  {
   "cell_type": "code",
   "execution_count": 4,
   "id": "alternate-victory",
   "metadata": {
    "execution": {
     "iopub.execute_input": "2021-08-30T00:30:08.583186Z",
     "iopub.status.busy": "2021-08-30T00:30:08.580915Z",
     "iopub.status.idle": "2021-08-30T00:30:08.822367Z",
     "shell.execute_reply": "2021-08-30T00:30:08.823645Z"
    },
    "papermill": {
     "duration": 0.271678,
     "end_time": "2021-08-30T00:30:08.824054",
     "exception": false,
     "start_time": "2021-08-30T00:30:08.552376",
     "status": "completed"
    },
    "tags": []
   },
   "outputs": [],
   "source": [
    "df = pd.read_sql(\"select * from EBAY_TOP_BERLIN where record_time in (select distinct record_time from EBAY_TOP_BERLIN order by record_time desc limit 2)\", sqlite3.connect(\"UsedObjects.db\"))"
   ]
  },
  {
   "cell_type": "code",
   "execution_count": 5,
   "id": "popular-active",
   "metadata": {
    "execution": {
     "iopub.execute_input": "2021-08-30T00:30:08.902407Z",
     "iopub.status.busy": "2021-08-30T00:30:08.890092Z",
     "iopub.status.idle": "2021-08-30T00:30:08.918105Z",
     "shell.execute_reply": "2021-08-30T00:30:08.919322Z"
    },
    "papermill": {
     "duration": 0.074951,
     "end_time": "2021-08-30T00:30:08.919711",
     "exception": false,
     "start_time": "2021-08-30T00:30:08.844760",
     "status": "completed"
    },
    "tags": []
   },
   "outputs": [],
   "source": [
    "df_pivot = df.pivot_table(index=\"PRODUCT\", columns = \"RECORD_TIME\", values = \"LISTING_COUNT\")"
   ]
  },
  {
   "cell_type": "code",
   "execution_count": 6,
   "id": "union-huntington",
   "metadata": {
    "execution": {
     "iopub.execute_input": "2021-08-30T00:30:08.975691Z",
     "iopub.status.busy": "2021-08-30T00:30:08.973663Z",
     "iopub.status.idle": "2021-08-30T00:30:08.978853Z",
     "shell.execute_reply": "2021-08-30T00:30:08.980139Z"
    },
    "papermill": {
     "duration": 0.040092,
     "end_time": "2021-08-30T00:30:08.980608",
     "exception": false,
     "start_time": "2021-08-30T00:30:08.940516",
     "status": "completed"
    },
    "tags": []
   },
   "outputs": [],
   "source": [
    "df_pivot.columns = [\"stamp_1\", \"stamp_2\"]\n",
    "df_pivot_diff = df_pivot.diff(axis=1)"
   ]
  },
  {
   "cell_type": "code",
   "execution_count": 7,
   "id": "fifth-motion",
   "metadata": {
    "execution": {
     "iopub.execute_input": "2021-08-30T00:30:09.035362Z",
     "iopub.status.busy": "2021-08-30T00:30:09.032982Z",
     "iopub.status.idle": "2021-08-30T00:30:10.547189Z",
     "shell.execute_reply": "2021-08-30T00:30:10.548582Z"
    },
    "papermill": {
     "duration": 1.546949,
     "end_time": "2021-08-30T00:30:10.549045",
     "exception": false,
     "start_time": "2021-08-30T00:30:09.002096",
     "status": "completed"
    },
    "tags": []
   },
   "outputs": [
    {
     "data": {
      "text/plain": [
       "<AxesSubplot:ylabel='PRODUCT'>"
      ]
     },
     "execution_count": 7,
     "metadata": {},
     "output_type": "execute_result"
    },
    {
     "data": {
      "image/png": "[encoded data removed]",
      "text/plain": [
       "<Figure size 432x288 with 1 Axes>"
      ]
     },
     "metadata": {
      "needs_background": "light"
     },
     "output_type": "display_data"
    }
   ],
   "source": [
    "df_pivot_diff.sort_values(\"stamp_2\", ascending = False)[\"stamp_2\"].head(10).plot.barh()"
   ]
  },
  {
   "cell_type": "code",
   "execution_count": null,
   "id": "extra-executive",
   "metadata": {
    "papermill": {
     "duration": 0.022081,
     "end_time": "2021-08-30T00:30:10.595825",
     "exception": false,
     "start_time": "2021-08-30T00:30:10.573744",
     "status": "completed"
    },
    "tags": []
   },
   "outputs": [],
   "source": []
  }
 ],
 "metadata": {
  "kernelspec": {
   "display_name": "Python 3",
   "language": "python",
   "name": "python3"
  },
  "language_info": {
   "codemirror_mode": {
    "name": "ipython",
    "version": 3
   },
   "file_extension": ".py",
   "mimetype": "text/x-python",
   "name": "python",
   "nbconvert_exporter": "python",
   "pygments_lexer": "ipython3",
   "version": "3.9.5"
  },
  "papermill": {
   "default_parameters": {},
   "duration": 6.82234,
   "end_time": "2021-08-30T00:30:11.798875",
   "environment_variables": {},
   "exception": null,
   "input_path": "eBay_Overview.ipynb",
   "output_path": "eBay_Overview.ipynb",
   "parameters": {},
   "start_time": "2021-08-30T00:30:04.976535",
   "version": "2.3.3"
  }
 },
 "nbformat": 4,
 "nbformat_minor": 5
}