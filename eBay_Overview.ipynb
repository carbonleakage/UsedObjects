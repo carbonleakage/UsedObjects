{
 "cells": [
  {
   "cell_type": "code",
   "execution_count": 1,
   "id": "reverse-picking",
   "metadata": {
    "execution": {
     "iopub.execute_input": "2021-12-17T00:00:07.728201Z",
     "iopub.status.busy": "2021-12-17T00:00:07.725867Z",
     "iopub.status.idle": "2021-12-17T00:00:08.679885Z",
     "shell.execute_reply": "2021-12-17T00:00:08.681929Z"
    },
    "papermill": {
     "duration": 1.005014,
     "end_time": "2021-12-17T00:00:08.682844",
     "exception": false,
     "start_time": "2021-12-17T00:00:07.677830",
     "status": "completed"
    },
    "tags": []
   },
   "outputs": [],
   "source": [
    "import pandas as pd\n",
    "import sqlite3"
   ]
  },
  {
   "cell_type": "code",
   "execution_count": 2,
   "id": "innovative-syndrome",
   "metadata": {
    "execution": {
     "iopub.execute_input": "2021-12-17T00:00:08.760633Z",
     "iopub.status.busy": "2021-12-17T00:00:08.758410Z",
     "iopub.status.idle": "2021-12-17T00:00:09.865525Z",
     "shell.execute_reply": "2021-12-17T00:00:09.866873Z"
    },
    "papermill": {
     "duration": 1.148218,
     "end_time": "2021-12-17T00:00:09.867346",
     "exception": false,
     "start_time": "2021-12-17T00:00:08.719128",
     "status": "completed"
    },
    "tags": []
   },
   "outputs": [],
   "source": [
    "timestamps = pd.read_sql(\"select distinct record_time from EBAY_TOP_BERLIN order by record_time desc limit 2\", sqlite3.connect(\"UsedObjects.db\"))"
   ]
  },
  {
   "cell_type": "code",
   "execution_count": 3,
   "id": "periodic-identification",
   "metadata": {
    "execution": {
     "iopub.execute_input": "2021-12-17T00:00:09.932400Z",
     "iopub.status.busy": "2021-12-17T00:00:09.930442Z",
     "iopub.status.idle": "2021-12-17T00:00:09.964293Z",
     "shell.execute_reply": "2021-12-17T00:00:09.966604Z"
    },
    "papermill": {
     "duration": 0.079319,
     "end_time": "2021-12-17T00:00:09.967026",
     "exception": false,
     "start_time": "2021-12-17T00:00:09.887707",
     "status": "completed"
    },
    "tags": []
   },
   "outputs": [
    {
     "data": {
      "text/html": [
       "<div>\n",
       "<style scoped>\n",
       "    .dataframe tbody tr th:only-of-type {\n",
       "        vertical-align: middle;\n",
       "    }\n",
       "\n",
       "    .dataframe tbody tr th {\n",
       "        vertical-align: top;\n",
       "    }\n",
       "\n",
       "    .dataframe thead th {\n",
       "        text-align: right;\n",
       "    }\n",
       "</style>\n",
       "<table border=\"1\" class=\"dataframe\">\n",
       "  <thead>\n",
       "    <tr style=\"text-align: right;\">\n",
       "      <th></th>\n",
       "      <th>RECORD_TIME</th>\n",
       "    </tr>\n",
       "  </thead>\n",
       "  <tbody>\n",
       "    <tr>\n",
       "      <th>0</th>\n",
       "      <td>2021-12-17 01:00</td>\n",
       "    </tr>\n",
       "    <tr>\n",
       "      <th>1</th>\n",
       "      <td>2021-12-17 00:30</td>\n",
       "    </tr>\n",
       "  </tbody>\n",
       "</table>\n",
       "</div>"
      ],
      "text/plain": [
       "        RECORD_TIME\n",
       "0  2021-12-17 01:00\n",
       "1  2021-12-17 00:30"
      ]
     },
     "execution_count": 3,
     "metadata": {},
     "output_type": "execute_result"
    }
   ],
   "source": [
    "timestamps"
   ]
  },
  {
   "cell_type": "code",
   "execution_count": 4,
   "id": "alternate-victory",
   "metadata": {
    "execution": {
     "iopub.execute_input": "2021-12-17T00:00:10.021058Z",
     "iopub.status.busy": "2021-12-17T00:00:10.018636Z",
     "iopub.status.idle": "2021-12-17T00:00:11.600947Z",
     "shell.execute_reply": "2021-12-17T00:00:11.603118Z"
    },
    "papermill": {
     "duration": 1.615682,
     "end_time": "2021-12-17T00:00:11.603647",
     "exception": false,
     "start_time": "2021-12-17T00:00:09.987965",
     "status": "completed"
    },
    "tags": []
   },
   "outputs": [],
   "source": [
    "df = pd.read_sql(\"select * from EBAY_TOP_BERLIN where record_time in (select distinct record_time from EBAY_TOP_BERLIN order by record_time desc limit 2)\", sqlite3.connect(\"UsedObjects.db\"))"
   ]
  },
  {
   "cell_type": "code",
   "execution_count": 5,
   "id": "popular-active",
   "metadata": {
    "execution": {
     "iopub.execute_input": "2021-12-17T00:00:11.670626Z",
     "iopub.status.busy": "2021-12-17T00:00:11.668419Z",
     "iopub.status.idle": "2021-12-17T00:00:11.698436Z",
     "shell.execute_reply": "2021-12-17T00:00:11.699776Z"
    },
    "papermill": {
     "duration": 0.072955,
     "end_time": "2021-12-17T00:00:11.700254",
     "exception": false,
     "start_time": "2021-12-17T00:00:11.627299",
     "status": "completed"
    },
    "tags": []
   },
   "outputs": [],
   "source": [
    "df_pivot = df.pivot_table(index=\"PRODUCT\", columns = \"RECORD_TIME\", values = \"LISTING_COUNT\")"
   ]
  },
  {
   "cell_type": "code",
   "execution_count": 6,
   "id": "union-huntington",
   "metadata": {
    "execution": {
     "iopub.execute_input": "2021-12-17T00:00:11.760277Z",
     "iopub.status.busy": "2021-12-17T00:00:11.757961Z",
     "iopub.status.idle": "2021-12-17T00:00:11.764032Z",
     "shell.execute_reply": "2021-12-17T00:00:11.765578Z"
    },
    "papermill": {
     "duration": 0.045898,
     "end_time": "2021-12-17T00:00:11.766075",
     "exception": false,
     "start_time": "2021-12-17T00:00:11.720177",
     "status": "completed"
    },
    "tags": []
   },
   "outputs": [],
   "source": [
    "df_pivot.columns = [\"stamp_1\", \"stamp_2\"]\n",
    "df_pivot_diff = df_pivot.diff(axis=1)"
   ]
  },
  {
   "cell_type": "code",
   "execution_count": 7,
   "id": "fifth-motion",
   "metadata": {
    "execution": {
     "iopub.execute_input": "2021-12-17T00:00:11.825531Z",
     "iopub.status.busy": "2021-12-17T00:00:11.822964Z",
     "iopub.status.idle": "2021-12-17T00:00:13.403914Z",
     "shell.execute_reply": "2021-12-17T00:00:13.405172Z"
    },
    "papermill": {
     "duration": 1.617108,
     "end_time": "2021-12-17T00:00:13.405611",
     "exception": false,
     "start_time": "2021-12-17T00:00:11.788503",
     "status": "completed"
    },
    "tags": []
   },
   "outputs": [
    {
     "data": {
      "text/plain": [
       "<AxesSubplot:ylabel='PRODUCT'>"
      ]
     },
     "execution_count": 7,
     "metadata": {},
     "output_type": "execute_result"
    },
    {
     "data": {
      "image/png": "[encoded data removed]",
      "text/plain": [
       "<Figure size 432x288 with 1 Axes>"
      ]
     },
     "metadata": {
      "needs_background": "light"
     },
     "output_type": "display_data"
    }
   ],
   "source": [
    "df_pivot_diff.sort_values(\"stamp_2\", ascending = False)[\"stamp_2\"].head(10).plot.barh()"
   ]
  },
  {
   "cell_type": "code",
   "execution_count": null,
   "id": "extra-executive",
   "metadata": {
    "papermill": {
     "duration": 0.022176,
     "end_time": "2021-12-17T00:00:13.451124",
     "exception": false,
     "start_time": "2021-12-17T00:00:13.428948",
     "status": "completed"
    },
    "tags": []
   },
   "outputs": [],
   "source": []
  }
 ],
 "metadata": {
  "kernelspec": {
   "display_name": "Python 3",
   "language": "python",
   "name": "python3"
  },
  "language_info": {
   "codemirror_mode": {
    "name": "ipython",
    "version": 3
   },
   "file_extension": ".py",
   "mimetype": "text/x-python",
   "name": "python",
   "nbconvert_exporter": "python",
   "pygments_lexer": "ipython3",
   "version": "3.9.5"
  },
  "papermill": {
   "default_parameters": {},
   "duration": 9.930905,
   "end_time": "2021-12-17T00:00:14.864762",
   "environment_variables": {},
   "exception": null,
   "input_path": "eBay_Overview.ipynb",
   "output_path": "eBay_Overview.ipynb",
   "parameters": {},
   "start_time": "2021-12-17T00:00:04.933857",
   "version": "2.3.3"
  }
 },
 "nbformat": 4,
 "nbformat_minor": 5
}