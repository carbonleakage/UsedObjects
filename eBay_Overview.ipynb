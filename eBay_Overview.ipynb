{
 "cells": [
  {
   "cell_type": "code",
   "execution_count": 1,
   "id": "reverse-picking",
   "metadata": {
    "execution": {
     "iopub.execute_input": "2021-10-29T01:30:07.324210Z",
     "iopub.status.busy": "2021-10-29T01:30:07.322253Z",
     "iopub.status.idle": "2021-10-29T01:30:08.130206Z",
     "shell.execute_reply": "2021-10-29T01:30:08.128314Z"
    },
    "papermill": {
     "duration": 0.856662,
     "end_time": "2021-10-29T01:30:08.130647",
     "exception": false,
     "start_time": "2021-10-29T01:30:07.273985",
     "status": "completed"
    },
    "tags": []
   },
   "outputs": [],
   "source": [
    "import pandas as pd\n",
    "import sqlite3"
   ]
  },
  {
   "cell_type": "code",
   "execution_count": 2,
   "id": "innovative-syndrome",
   "metadata": {
    "execution": {
     "iopub.execute_input": "2021-10-29T01:30:08.181815Z",
     "iopub.status.busy": "2021-10-29T01:30:08.179424Z",
     "iopub.status.idle": "2021-10-29T01:30:08.834696Z",
     "shell.execute_reply": "2021-10-29T01:30:08.835892Z"
    },
    "papermill": {
     "duration": 0.685156,
     "end_time": "2021-10-29T01:30:08.836287",
     "exception": false,
     "start_time": "2021-10-29T01:30:08.151131",
     "status": "completed"
    },
    "tags": []
   },
   "outputs": [],
   "source": [
    "timestamps = pd.read_sql(\"select distinct record_time from EBAY_TOP_BERLIN order by record_time desc limit 2\", sqlite3.connect(\"UsedObjects.db\"))"
   ]
  },
  {
   "cell_type": "code",
   "execution_count": 3,
   "id": "periodic-identification",
   "metadata": {
    "execution": {
     "iopub.execute_input": "2021-10-29T01:30:08.912656Z",
     "iopub.status.busy": "2021-10-29T01:30:08.907561Z",
     "iopub.status.idle": "2021-10-29T01:30:08.928513Z",
     "shell.execute_reply": "2021-10-29T01:30:08.930175Z"
    },
    "papermill": {
     "duration": 0.069228,
     "end_time": "2021-10-29T01:30:08.930637",
     "exception": false,
     "start_time": "2021-10-29T01:30:08.861409",
     "status": "completed"
    },
    "tags": []
   },
   "outputs": [
    {
     "data": {
      "text/html": [
       "<div>\n",
       "<style scoped>\n",
       "    .dataframe tbody tr th:only-of-type {\n",
       "        vertical-align: middle;\n",
       "    }\n",
       "\n",
       "    .dataframe tbody tr th {\n",
       "        vertical-align: top;\n",
       "    }\n",
       "\n",
       "    .dataframe thead th {\n",
       "        text-align: right;\n",
       "    }\n",
       "</style>\n",
       "<table border=\"1\" class=\"dataframe\">\n",
       "  <thead>\n",
       "    <tr style=\"text-align: right;\">\n",
       "      <th></th>\n",
       "      <th>RECORD_TIME</th>\n",
       "    </tr>\n",
       "  </thead>\n",
       "  <tbody>\n",
       "    <tr>\n",
       "      <th>0</th>\n",
       "      <td>2021-10-29 03:30</td>\n",
       "    </tr>\n",
       "    <tr>\n",
       "      <th>1</th>\n",
       "      <td>2021-10-29 03:00</td>\n",
       "    </tr>\n",
       "  </tbody>\n",
       "</table>\n",
       "</div>"
      ],
      "text/plain": [
       "        RECORD_TIME\n",
       "0  2021-10-29 03:30\n",
       "1  2021-10-29 03:00"
      ]
     },
     "execution_count": 3,
     "metadata": {},
     "output_type": "execute_result"
    }
   ],
   "source": [
    "timestamps"
   ]
  },
  {
   "cell_type": "code",
   "execution_count": 4,
   "id": "alternate-victory",
   "metadata": {
    "execution": {
     "iopub.execute_input": "2021-10-29T01:30:08.983793Z",
     "iopub.status.busy": "2021-10-29T01:30:08.981747Z",
     "iopub.status.idle": "2021-10-29T01:30:09.970041Z",
     "shell.execute_reply": "2021-10-29T01:30:09.971333Z"
    },
    "papermill": {
     "duration": 1.018803,
     "end_time": "2021-10-29T01:30:09.971747",
     "exception": false,
     "start_time": "2021-10-29T01:30:08.952944",
     "status": "completed"
    },
    "tags": []
   },
   "outputs": [],
   "source": [
    "df = pd.read_sql(\"select * from EBAY_TOP_BERLIN where record_time in (select distinct record_time from EBAY_TOP_BERLIN order by record_time desc limit 2)\", sqlite3.connect(\"UsedObjects.db\"))"
   ]
  },
  {
   "cell_type": "code",
   "execution_count": 5,
   "id": "popular-active",
   "metadata": {
    "execution": {
     "iopub.execute_input": "2021-10-29T01:30:10.043647Z",
     "iopub.status.busy": "2021-10-29T01:30:10.035349Z",
     "iopub.status.idle": "2021-10-29T01:30:10.060976Z",
     "shell.execute_reply": "2021-10-29T01:30:10.059450Z"
    },
    "papermill": {
     "duration": 0.068942,
     "end_time": "2021-10-29T01:30:10.061369",
     "exception": false,
     "start_time": "2021-10-29T01:30:09.992427",
     "status": "completed"
    },
    "tags": []
   },
   "outputs": [],
   "source": [
    "df_pivot = df.pivot_table(index=\"PRODUCT\", columns = \"RECORD_TIME\", values = \"LISTING_COUNT\")"
   ]
  },
  {
   "cell_type": "code",
   "execution_count": 6,
   "id": "union-huntington",
   "metadata": {
    "execution": {
     "iopub.execute_input": "2021-10-29T01:30:10.117543Z",
     "iopub.status.busy": "2021-10-29T01:30:10.115219Z",
     "iopub.status.idle": "2021-10-29T01:30:10.121213Z",
     "shell.execute_reply": "2021-10-29T01:30:10.122677Z"
    },
    "papermill": {
     "duration": 0.041939,
     "end_time": "2021-10-29T01:30:10.123137",
     "exception": false,
     "start_time": "2021-10-29T01:30:10.081198",
     "status": "completed"
    },
    "tags": []
   },
   "outputs": [],
   "source": [
    "df_pivot.columns = [\"stamp_1\", \"stamp_2\"]\n",
    "df_pivot_diff = df_pivot.diff(axis=1)"
   ]
  },
  {
   "cell_type": "code",
   "execution_count": 7,
   "id": "fifth-motion",
   "metadata": {
    "execution": {
     "iopub.execute_input": "2021-10-29T01:30:10.176600Z",
     "iopub.status.busy": "2021-10-29T01:30:10.174426Z",
     "iopub.status.idle": "2021-10-29T01:30:11.650580Z",
     "shell.execute_reply": "2021-10-29T01:30:11.651943Z"
    },
    "papermill": {
     "duration": 1.508598,
     "end_time": "2021-10-29T01:30:11.652387",
     "exception": false,
     "start_time": "2021-10-29T01:30:10.143789",
     "status": "completed"
    },
    "tags": []
   },
   "outputs": [
    {
     "data": {
      "text/plain": [
       "<AxesSubplot:ylabel='PRODUCT'>"
      ]
     },
     "execution_count": 7,
     "metadata": {},
     "output_type": "execute_result"
    },
    {
     "data": {
      "image/png": "[encoded data removed]",
      "text/plain": [
       "<Figure size 432x288 with 1 Axes>"
      ]
     },
     "metadata": {
      "needs_background": "light"
     },
     "output_type": "display_data"
    }
   ],
   "source": [
    "df_pivot_diff.sort_values(\"stamp_2\", ascending = False)[\"stamp_2\"].head(10).plot.barh()"
   ]
  },
  {
   "cell_type": "code",
   "execution_count": null,
   "id": "extra-executive",
   "metadata": {
    "papermill": {
     "duration": 0.022508,
     "end_time": "2021-10-29T01:30:11.699729",
     "exception": false,
     "start_time": "2021-10-29T01:30:11.677221",
     "status": "completed"
    },
    "tags": []
   },
   "outputs": [],
   "source": []
  }
 ],
 "metadata": {
  "kernelspec": {
   "display_name": "Python 3",
   "language": "python",
   "name": "python3"
  },
  "language_info": {
   "codemirror_mode": {
    "name": "ipython",
    "version": 3
   },
   "file_extension": ".py",
   "mimetype": "text/x-python",
   "name": "python",
   "nbconvert_exporter": "python",
   "pygments_lexer": "ipython3",
   "version": "3.9.5"
  },
  "papermill": {
   "default_parameters": {},
   "duration": 7.466694,
   "end_time": "2021-10-29T01:30:12.342014",
   "environment_variables": {},
   "exception": null,
   "input_path": "eBay_Overview.ipynb",
   "output_path": "eBay_Overview.ipynb",
   "parameters": {},
   "start_time": "2021-10-29T01:30:04.875320",
   "version": "2.3.3"
  }
 },
 "nbformat": 4,
 "nbformat_minor": 5
}