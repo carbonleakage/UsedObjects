{
 "cells": [
  {
   "cell_type": "code",
   "execution_count": 1,
   "id": "reverse-picking",
   "metadata": {
    "execution": {
     "iopub.execute_input": "2021-12-15T17:00:07.456345Z",
     "iopub.status.busy": "2021-12-15T17:00:07.454130Z",
     "iopub.status.idle": "2021-12-15T17:00:08.399513Z",
     "shell.execute_reply": "2021-12-15T17:00:08.401058Z"
    },
    "papermill": {
     "duration": 0.99562,
     "end_time": "2021-12-15T17:00:08.401793",
     "exception": false,
     "start_time": "2021-12-15T17:00:07.406173",
     "status": "completed"
    },
    "tags": []
   },
   "outputs": [],
   "source": [
    "import pandas as pd\n",
    "import sqlite3"
   ]
  },
  {
   "cell_type": "code",
   "execution_count": 2,
   "id": "innovative-syndrome",
   "metadata": {
    "execution": {
     "iopub.execute_input": "2021-12-15T17:00:08.478210Z",
     "iopub.status.busy": "2021-12-15T17:00:08.474565Z",
     "iopub.status.idle": "2021-12-15T17:00:09.546538Z",
     "shell.execute_reply": "2021-12-15T17:00:09.547758Z"
    },
    "papermill": {
     "duration": 1.117811,
     "end_time": "2021-12-15T17:00:09.548159",
     "exception": false,
     "start_time": "2021-12-15T17:00:08.430348",
     "status": "completed"
    },
    "tags": []
   },
   "outputs": [],
   "source": [
    "timestamps = pd.read_sql(\"select distinct record_time from EBAY_TOP_BERLIN order by record_time desc limit 2\", sqlite3.connect(\"UsedObjects.db\"))"
   ]
  },
  {
   "cell_type": "code",
   "execution_count": 3,
   "id": "periodic-identification",
   "metadata": {
    "execution": {
     "iopub.execute_input": "2021-12-15T17:00:09.621393Z",
     "iopub.status.busy": "2021-12-15T17:00:09.618912Z",
     "iopub.status.idle": "2021-12-15T17:00:09.643536Z",
     "shell.execute_reply": "2021-12-15T17:00:09.645063Z"
    },
    "papermill": {
     "duration": 0.074336,
     "end_time": "2021-12-15T17:00:09.645598",
     "exception": false,
     "start_time": "2021-12-15T17:00:09.571262",
     "status": "completed"
    },
    "tags": []
   },
   "outputs": [
    {
     "data": {
      "text/html": [
       "<div>\n",
       "<style scoped>\n",
       "    .dataframe tbody tr th:only-of-type {\n",
       "        vertical-align: middle;\n",
       "    }\n",
       "\n",
       "    .dataframe tbody tr th {\n",
       "        vertical-align: top;\n",
       "    }\n",
       "\n",
       "    .dataframe thead th {\n",
       "        text-align: right;\n",
       "    }\n",
       "</style>\n",
       "<table border=\"1\" class=\"dataframe\">\n",
       "  <thead>\n",
       "    <tr style=\"text-align: right;\">\n",
       "      <th></th>\n",
       "      <th>RECORD_TIME</th>\n",
       "    </tr>\n",
       "  </thead>\n",
       "  <tbody>\n",
       "    <tr>\n",
       "      <th>0</th>\n",
       "      <td>2021-12-15 18:00</td>\n",
       "    </tr>\n",
       "    <tr>\n",
       "      <th>1</th>\n",
       "      <td>2021-12-15 17:30</td>\n",
       "    </tr>\n",
       "  </tbody>\n",
       "</table>\n",
       "</div>"
      ],
      "text/plain": [
       "        RECORD_TIME\n",
       "0  2021-12-15 18:00\n",
       "1  2021-12-15 17:30"
      ]
     },
     "execution_count": 3,
     "metadata": {},
     "output_type": "execute_result"
    }
   ],
   "source": [
    "timestamps"
   ]
  },
  {
   "cell_type": "code",
   "execution_count": 4,
   "id": "alternate-victory",
   "metadata": {
    "execution": {
     "iopub.execute_input": "2021-12-15T17:00:09.699001Z",
     "iopub.status.busy": "2021-12-15T17:00:09.697392Z",
     "iopub.status.idle": "2021-12-15T17:00:11.243931Z",
     "shell.execute_reply": "2021-12-15T17:00:11.245508Z"
    },
    "papermill": {
     "duration": 1.578856,
     "end_time": "2021-12-15T17:00:11.245987",
     "exception": false,
     "start_time": "2021-12-15T17:00:09.667131",
     "status": "completed"
    },
    "tags": []
   },
   "outputs": [],
   "source": [
    "df = pd.read_sql(\"select * from EBAY_TOP_BERLIN where record_time in (select distinct record_time from EBAY_TOP_BERLIN order by record_time desc limit 2)\", sqlite3.connect(\"UsedObjects.db\"))"
   ]
  },
  {
   "cell_type": "code",
   "execution_count": 5,
   "id": "popular-active",
   "metadata": {
    "execution": {
     "iopub.execute_input": "2021-12-15T17:00:11.309828Z",
     "iopub.status.busy": "2021-12-15T17:00:11.307277Z",
     "iopub.status.idle": "2021-12-15T17:00:11.342267Z",
     "shell.execute_reply": "2021-12-15T17:00:11.343636Z"
    },
    "papermill": {
     "duration": 0.076973,
     "end_time": "2021-12-15T17:00:11.344116",
     "exception": false,
     "start_time": "2021-12-15T17:00:11.267143",
     "status": "completed"
    },
    "tags": []
   },
   "outputs": [],
   "source": [
    "df_pivot = df.pivot_table(index=\"PRODUCT\", columns = \"RECORD_TIME\", values = \"LISTING_COUNT\")"
   ]
  },
  {
   "cell_type": "code",
   "execution_count": 6,
   "id": "union-huntington",
   "metadata": {
    "execution": {
     "iopub.execute_input": "2021-12-15T17:00:11.403394Z",
     "iopub.status.busy": "2021-12-15T17:00:11.401209Z",
     "iopub.status.idle": "2021-12-15T17:00:11.406535Z",
     "shell.execute_reply": "2021-12-15T17:00:11.407907Z"
    },
    "papermill": {
     "duration": 0.04397,
     "end_time": "2021-12-15T17:00:11.408384",
     "exception": false,
     "start_time": "2021-12-15T17:00:11.364414",
     "status": "completed"
    },
    "tags": []
   },
   "outputs": [],
   "source": [
    "df_pivot.columns = [\"stamp_1\", \"stamp_2\"]\n",
    "df_pivot_diff = df_pivot.diff(axis=1)"
   ]
  },
  {
   "cell_type": "code",
   "execution_count": 7,
   "id": "fifth-motion",
   "metadata": {
    "execution": {
     "iopub.execute_input": "2021-12-15T17:00:11.467521Z",
     "iopub.status.busy": "2021-12-15T17:00:11.464817Z",
     "iopub.status.idle": "2021-12-15T17:00:13.438971Z",
     "shell.execute_reply": "2021-12-15T17:00:13.440182Z"
    },
    "papermill": {
     "duration": 2.011501,
     "end_time": "2021-12-15T17:00:13.440623",
     "exception": false,
     "start_time": "2021-12-15T17:00:11.429122",
     "status": "completed"
    },
    "tags": []
   },
   "outputs": [
    {
     "data": {
      "text/plain": [
       "<AxesSubplot:ylabel='PRODUCT'>"
      ]
     },
     "execution_count": 7,
     "metadata": {},
     "output_type": "execute_result"
    },
    {
     "data": {
      "image/png": "[encoded data removed]",
      "text/plain": [
       "<Figure size 432x288 with 1 Axes>"
      ]
     },
     "metadata": {
      "needs_background": "light"
     },
     "output_type": "display_data"
    }
   ],
   "source": [
    "df_pivot_diff.sort_values(\"stamp_2\", ascending = False)[\"stamp_2\"].head(10).plot.barh()"
   ]
  },
  {
   "cell_type": "code",
   "execution_count": null,
   "id": "extra-executive",
   "metadata": {
    "papermill": {
     "duration": 0.023261,
     "end_time": "2021-12-15T17:00:13.491368",
     "exception": false,
     "start_time": "2021-12-15T17:00:13.468107",
     "status": "completed"
    },
    "tags": []
   },
   "outputs": [],
   "source": []
  }
 ],
 "metadata": {
  "kernelspec": {
   "display_name": "Python 3",
   "language": "python",
   "name": "python3"
  },
  "language_info": {
   "codemirror_mode": {
    "name": "ipython",
    "version": 3
   },
   "file_extension": ".py",
   "mimetype": "text/x-python",
   "name": "python",
   "nbconvert_exporter": "python",
   "pygments_lexer": "ipython3",
   "version": "3.9.5"
  },
  "papermill": {
   "default_parameters": {},
   "duration": 9.460606,
   "end_time": "2021-12-15T17:00:14.150903",
   "environment_variables": {},
   "exception": null,
   "input_path": "eBay_Overview.ipynb",
   "output_path": "eBay_Overview.ipynb",
   "parameters": {},
   "start_time": "2021-12-15T17:00:04.690297",
   "version": "2.3.3"
  }
 },
 "nbformat": 4,
 "nbformat_minor": 5
}