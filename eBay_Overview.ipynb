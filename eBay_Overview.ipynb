{
 "cells": [
  {
   "cell_type": "code",
   "execution_count": 1,
   "id": "reverse-picking",
   "metadata": {
    "execution": {
     "iopub.execute_input": "2021-08-15T22:00:07.551977Z",
     "iopub.status.busy": "2021-08-15T22:00:07.549960Z",
     "iopub.status.idle": "2021-08-15T22:00:08.357054Z",
     "shell.execute_reply": "2021-08-15T22:00:08.358374Z"
    },
    "papermill": {
     "duration": 0.859957,
     "end_time": "2021-08-15T22:00:08.359017",
     "exception": false,
     "start_time": "2021-08-15T22:00:07.499060",
     "status": "completed"
    },
    "tags": []
   },
   "outputs": [],
   "source": [
    "import pandas as pd\n",
    "import sqlite3"
   ]
  },
  {
   "cell_type": "code",
   "execution_count": 2,
   "id": "innovative-syndrome",
   "metadata": {
    "execution": {
     "iopub.execute_input": "2021-08-15T22:00:08.411242Z",
     "iopub.status.busy": "2021-08-15T22:00:08.409229Z",
     "iopub.status.idle": "2021-08-15T22:00:08.466697Z",
     "shell.execute_reply": "2021-08-15T22:00:08.467900Z"
    },
    "papermill": {
     "duration": 0.087031,
     "end_time": "2021-08-15T22:00:08.468302",
     "exception": false,
     "start_time": "2021-08-15T22:00:08.381271",
     "status": "completed"
    },
    "tags": []
   },
   "outputs": [],
   "source": [
    "timestamps = pd.read_sql(\"select distinct record_time from EBAY_TOP_BERLIN order by record_time desc limit 2\", sqlite3.connect(\"UsedObjects.db\"))"
   ]
  },
  {
   "cell_type": "code",
   "execution_count": 3,
   "id": "periodic-identification",
   "metadata": {
    "execution": {
     "iopub.execute_input": "2021-08-15T22:00:08.540048Z",
     "iopub.status.busy": "2021-08-15T22:00:08.534798Z",
     "iopub.status.idle": "2021-08-15T22:00:08.554765Z",
     "shell.execute_reply": "2021-08-15T22:00:08.556072Z"
    },
    "papermill": {
     "duration": 0.06576,
     "end_time": "2021-08-15T22:00:08.556493",
     "exception": false,
     "start_time": "2021-08-15T22:00:08.490733",
     "status": "completed"
    },
    "tags": []
   },
   "outputs": [
    {
     "data": {
      "text/html": [
       "<div>\n",
       "<style scoped>\n",
       "    .dataframe tbody tr th:only-of-type {\n",
       "        vertical-align: middle;\n",
       "    }\n",
       "\n",
       "    .dataframe tbody tr th {\n",
       "        vertical-align: top;\n",
       "    }\n",
       "\n",
       "    .dataframe thead th {\n",
       "        text-align: right;\n",
       "    }\n",
       "</style>\n",
       "<table border=\"1\" class=\"dataframe\">\n",
       "  <thead>\n",
       "    <tr style=\"text-align: right;\">\n",
       "      <th></th>\n",
       "      <th>RECORD_TIME</th>\n",
       "    </tr>\n",
       "  </thead>\n",
       "  <tbody>\n",
       "    <tr>\n",
       "      <th>0</th>\n",
       "      <td>2021-08-16 00:00</td>\n",
       "    </tr>\n",
       "    <tr>\n",
       "      <th>1</th>\n",
       "      <td>2021-08-15 23:30</td>\n",
       "    </tr>\n",
       "  </tbody>\n",
       "</table>\n",
       "</div>"
      ],
      "text/plain": [
       "        RECORD_TIME\n",
       "0  2021-08-16 00:00\n",
       "1  2021-08-15 23:30"
      ]
     },
     "execution_count": 3,
     "metadata": {},
     "output_type": "execute_result"
    }
   ],
   "source": [
    "timestamps"
   ]
  },
  {
   "cell_type": "code",
   "execution_count": 4,
   "id": "alternate-victory",
   "metadata": {
    "execution": {
     "iopub.execute_input": "2021-08-15T22:00:08.608247Z",
     "iopub.status.busy": "2021-08-15T22:00:08.606383Z",
     "iopub.status.idle": "2021-08-15T22:00:08.689740Z",
     "shell.execute_reply": "2021-08-15T22:00:08.691099Z"
    },
    "papermill": {
     "duration": 0.113487,
     "end_time": "2021-08-15T22:00:08.691505",
     "exception": false,
     "start_time": "2021-08-15T22:00:08.578018",
     "status": "completed"
    },
    "tags": []
   },
   "outputs": [],
   "source": [
    "df = pd.read_sql(\"select * from EBAY_TOP_BERLIN where record_time in (select distinct record_time from EBAY_TOP_BERLIN order by record_time desc limit 2)\", sqlite3.connect(\"UsedObjects.db\"))"
   ]
  },
  {
   "cell_type": "code",
   "execution_count": 5,
   "id": "popular-active",
   "metadata": {
    "execution": {
     "iopub.execute_input": "2021-08-15T22:00:08.764672Z",
     "iopub.status.busy": "2021-08-15T22:00:08.752865Z",
     "iopub.status.idle": "2021-08-15T22:00:08.781472Z",
     "shell.execute_reply": "2021-08-15T22:00:08.780149Z"
    },
    "papermill": {
     "duration": 0.068576,
     "end_time": "2021-08-15T22:00:08.781811",
     "exception": false,
     "start_time": "2021-08-15T22:00:08.713235",
     "status": "completed"
    },
    "tags": []
   },
   "outputs": [],
   "source": [
    "df_pivot = df.pivot_table(index=\"PRODUCT\", columns = \"RECORD_TIME\", values = \"LISTING_COUNT\")"
   ]
  },
  {
   "cell_type": "code",
   "execution_count": 6,
   "id": "union-huntington",
   "metadata": {
    "execution": {
     "iopub.execute_input": "2021-08-15T22:00:08.839669Z",
     "iopub.status.busy": "2021-08-15T22:00:08.837419Z",
     "iopub.status.idle": "2021-08-15T22:00:08.843293Z",
     "shell.execute_reply": "2021-08-15T22:00:08.844659Z"
    },
    "papermill": {
     "duration": 0.041513,
     "end_time": "2021-08-15T22:00:08.845102",
     "exception": false,
     "start_time": "2021-08-15T22:00:08.803589",
     "status": "completed"
    },
    "tags": []
   },
   "outputs": [],
   "source": [
    "df_pivot.columns = [\"stamp_1\", \"stamp_2\"]\n",
    "df_pivot_diff = df_pivot.diff(axis=1)"
   ]
  },
  {
   "cell_type": "code",
   "execution_count": 7,
   "id": "fifth-motion",
   "metadata": {
    "execution": {
     "iopub.execute_input": "2021-08-15T22:00:08.901333Z",
     "iopub.status.busy": "2021-08-15T22:00:08.898660Z",
     "iopub.status.idle": "2021-08-15T22:00:10.378228Z",
     "shell.execute_reply": "2021-08-15T22:00:10.379593Z"
    },
    "papermill": {
     "duration": 1.513588,
     "end_time": "2021-08-15T22:00:10.380041",
     "exception": false,
     "start_time": "2021-08-15T22:00:08.866453",
     "status": "completed"
    },
    "tags": []
   },
   "outputs": [
    {
     "data": {
      "text/plain": [
       "<AxesSubplot:ylabel='PRODUCT'>"
      ]
     },
     "execution_count": 7,
     "metadata": {},
     "output_type": "execute_result"
    },
    {
     "data": {
      "image/png": "[encoded data removed]",
      "text/plain": [
       "<Figure size 432x288 with 1 Axes>"
      ]
     },
     "metadata": {
      "needs_background": "light"
     },
     "output_type": "display_data"
    }
   ],
   "source": [
    "df_pivot_diff.sort_values(\"stamp_2\", ascending = False)[\"stamp_2\"].head(10).plot.barh()"
   ]
  },
  {
   "cell_type": "code",
   "execution_count": null,
   "id": "extra-executive",
   "metadata": {
    "papermill": {
     "duration": 0.022349,
     "end_time": "2021-08-15T22:00:10.426110",
     "exception": false,
     "start_time": "2021-08-15T22:00:10.403761",
     "status": "completed"
    },
    "tags": []
   },
   "outputs": [],
   "source": []
  }
 ],
 "metadata": {
  "kernelspec": {
   "display_name": "Python 3",
   "language": "python",
   "name": "python3"
  },
  "language_info": {
   "codemirror_mode": {
    "name": "ipython",
    "version": 3
   },
   "file_extension": ".py",
   "mimetype": "text/x-python",
   "name": "python",
   "nbconvert_exporter": "python",
   "pygments_lexer": "ipython3",
   "version": "3.9.5"
  },
  "papermill": {
   "default_parameters": {},
   "duration": 6.825369,
   "end_time": "2021-08-15T22:00:11.912284",
   "environment_variables": {},
   "exception": null,
   "input_path": "eBay_Overview.ipynb",
   "output_path": "eBay_Overview.ipynb",
   "parameters": {},
   "start_time": "2021-08-15T22:00:05.086915",
   "version": "2.3.3"
  }
 },
 "nbformat": 4,
 "nbformat_minor": 5
}