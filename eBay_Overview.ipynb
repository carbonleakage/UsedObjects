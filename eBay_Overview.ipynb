{
 "cells": [
  {
   "cell_type": "code",
   "execution_count": 1,
   "id": "reverse-picking",
   "metadata": {
    "execution": {
     "iopub.execute_input": "2021-11-17T14:00:07.119666Z",
     "iopub.status.busy": "2021-11-17T14:00:07.114544Z",
     "iopub.status.idle": "2021-11-17T14:00:08.054929Z",
     "shell.execute_reply": "2021-11-17T14:00:08.056835Z"
    },
    "papermill": {
     "duration": 0.985031,
     "end_time": "2021-11-17T14:00:08.057657",
     "exception": false,
     "start_time": "2021-11-17T14:00:07.072626",
     "status": "completed"
    },
    "tags": []
   },
   "outputs": [],
   "source": [
    "import pandas as pd\n",
    "import sqlite3"
   ]
  },
  {
   "cell_type": "code",
   "execution_count": 2,
   "id": "innovative-syndrome",
   "metadata": {
    "execution": {
     "iopub.execute_input": "2021-11-17T14:00:08.115207Z",
     "iopub.status.busy": "2021-11-17T14:00:08.112886Z",
     "iopub.status.idle": "2021-11-17T14:00:08.950640Z",
     "shell.execute_reply": "2021-11-17T14:00:08.952062Z"
    },
    "papermill": {
     "duration": 0.871562,
     "end_time": "2021-11-17T14:00:08.952558",
     "exception": false,
     "start_time": "2021-11-17T14:00:08.080996",
     "status": "completed"
    },
    "tags": []
   },
   "outputs": [],
   "source": [
    "timestamps = pd.read_sql(\"select distinct record_time from EBAY_TOP_BERLIN order by record_time desc limit 2\", sqlite3.connect(\"UsedObjects.db\"))"
   ]
  },
  {
   "cell_type": "code",
   "execution_count": 3,
   "id": "periodic-identification",
   "metadata": {
    "execution": {
     "iopub.execute_input": "2021-11-17T14:00:09.025226Z",
     "iopub.status.busy": "2021-11-17T14:00:09.022841Z",
     "iopub.status.idle": "2021-11-17T14:00:09.045503Z",
     "shell.execute_reply": "2021-11-17T14:00:09.046957Z"
    },
    "papermill": {
     "duration": 0.074438,
     "end_time": "2021-11-17T14:00:09.047466",
     "exception": false,
     "start_time": "2021-11-17T14:00:08.973028",
     "status": "completed"
    },
    "tags": []
   },
   "outputs": [
    {
     "data": {
      "text/html": [
       "<div>\n",
       "<style scoped>\n",
       "    .dataframe tbody tr th:only-of-type {\n",
       "        vertical-align: middle;\n",
       "    }\n",
       "\n",
       "    .dataframe tbody tr th {\n",
       "        vertical-align: top;\n",
       "    }\n",
       "\n",
       "    .dataframe thead th {\n",
       "        text-align: right;\n",
       "    }\n",
       "</style>\n",
       "<table border=\"1\" class=\"dataframe\">\n",
       "  <thead>\n",
       "    <tr style=\"text-align: right;\">\n",
       "      <th></th>\n",
       "      <th>RECORD_TIME</th>\n",
       "    </tr>\n",
       "  </thead>\n",
       "  <tbody>\n",
       "    <tr>\n",
       "      <th>0</th>\n",
       "      <td>2021-11-17 15:00</td>\n",
       "    </tr>\n",
       "    <tr>\n",
       "      <th>1</th>\n",
       "      <td>2021-11-17 14:30</td>\n",
       "    </tr>\n",
       "  </tbody>\n",
       "</table>\n",
       "</div>"
      ],
      "text/plain": [
       "        RECORD_TIME\n",
       "0  2021-11-17 15:00\n",
       "1  2021-11-17 14:30"
      ]
     },
     "execution_count": 3,
     "metadata": {},
     "output_type": "execute_result"
    }
   ],
   "source": [
    "timestamps"
   ]
  },
  {
   "cell_type": "code",
   "execution_count": 4,
   "id": "alternate-victory",
   "metadata": {
    "execution": {
     "iopub.execute_input": "2021-11-17T14:00:09.103609Z",
     "iopub.status.busy": "2021-11-17T14:00:09.101437Z",
     "iopub.status.idle": "2021-11-17T14:00:10.292112Z",
     "shell.execute_reply": "2021-11-17T14:00:10.293683Z"
    },
    "papermill": {
     "duration": 1.225186,
     "end_time": "2021-11-17T14:00:10.294129",
     "exception": false,
     "start_time": "2021-11-17T14:00:09.068943",
     "status": "completed"
    },
    "tags": []
   },
   "outputs": [],
   "source": [
    "df = pd.read_sql(\"select * from EBAY_TOP_BERLIN where record_time in (select distinct record_time from EBAY_TOP_BERLIN order by record_time desc limit 2)\", sqlite3.connect(\"UsedObjects.db\"))"
   ]
  },
  {
   "cell_type": "code",
   "execution_count": 5,
   "id": "popular-active",
   "metadata": {
    "execution": {
     "iopub.execute_input": "2021-11-17T14:00:10.357472Z",
     "iopub.status.busy": "2021-11-17T14:00:10.355004Z",
     "iopub.status.idle": "2021-11-17T14:00:10.385801Z",
     "shell.execute_reply": "2021-11-17T14:00:10.387241Z"
    },
    "papermill": {
     "duration": 0.072274,
     "end_time": "2021-11-17T14:00:10.387697",
     "exception": false,
     "start_time": "2021-11-17T14:00:10.315423",
     "status": "completed"
    },
    "tags": []
   },
   "outputs": [],
   "source": [
    "df_pivot = df.pivot_table(index=\"PRODUCT\", columns = \"RECORD_TIME\", values = \"LISTING_COUNT\")"
   ]
  },
  {
   "cell_type": "code",
   "execution_count": 6,
   "id": "union-huntington",
   "metadata": {
    "execution": {
     "iopub.execute_input": "2021-11-17T14:00:10.447765Z",
     "iopub.status.busy": "2021-11-17T14:00:10.445455Z",
     "iopub.status.idle": "2021-11-17T14:00:10.451134Z",
     "shell.execute_reply": "2021-11-17T14:00:10.452609Z"
    },
    "papermill": {
     "duration": 0.045649,
     "end_time": "2021-11-17T14:00:10.453213",
     "exception": false,
     "start_time": "2021-11-17T14:00:10.407564",
     "status": "completed"
    },
    "tags": []
   },
   "outputs": [],
   "source": [
    "df_pivot.columns = [\"stamp_1\", \"stamp_2\"]\n",
    "df_pivot_diff = df_pivot.diff(axis=1)"
   ]
  },
  {
   "cell_type": "code",
   "execution_count": 7,
   "id": "fifth-motion",
   "metadata": {
    "execution": {
     "iopub.execute_input": "2021-11-17T14:00:10.512632Z",
     "iopub.status.busy": "2021-11-17T14:00:10.510409Z",
     "iopub.status.idle": "2021-11-17T14:00:12.228348Z",
     "shell.execute_reply": "2021-11-17T14:00:12.229781Z"
    },
    "papermill": {
     "duration": 1.75612,
     "end_time": "2021-11-17T14:00:12.230260",
     "exception": false,
     "start_time": "2021-11-17T14:00:10.474140",
     "status": "completed"
    },
    "tags": []
   },
   "outputs": [
    {
     "data": {
      "text/plain": [
       "<AxesSubplot:ylabel='PRODUCT'>"
      ]
     },
     "execution_count": 7,
     "metadata": {},
     "output_type": "execute_result"
    },
    {
     "data": {
      "image/png": "[encoded data removed]",
      "text/plain": [
       "<Figure size 432x288 with 1 Axes>"
      ]
     },
     "metadata": {
      "needs_background": "light"
     },
     "output_type": "display_data"
    }
   ],
   "source": [
    "df_pivot_diff.sort_values(\"stamp_2\", ascending = False)[\"stamp_2\"].head(10).plot.barh()"
   ]
  },
  {
   "cell_type": "code",
   "execution_count": null,
   "id": "extra-executive",
   "metadata": {
    "papermill": {
     "duration": 0.023473,
     "end_time": "2021-11-17T14:00:12.277559",
     "exception": false,
     "start_time": "2021-11-17T14:00:12.254086",
     "status": "completed"
    },
    "tags": []
   },
   "outputs": [],
   "source": []
  }
 ],
 "metadata": {
  "kernelspec": {
   "display_name": "Python 3",
   "language": "python",
   "name": "python3"
  },
  "language_info": {
   "codemirror_mode": {
    "name": "ipython",
    "version": 3
   },
   "file_extension": ".py",
   "mimetype": "text/x-python",
   "name": "python",
   "nbconvert_exporter": "python",
   "pygments_lexer": "ipython3",
   "version": "3.9.5"
  },
  "papermill": {
   "default_parameters": {},
   "duration": 8.704315,
   "end_time": "2021-11-17T14:00:13.021543",
   "environment_variables": {},
   "exception": null,
   "input_path": "eBay_Overview.ipynb",
   "output_path": "eBay_Overview.ipynb",
   "parameters": {},
   "start_time": "2021-11-17T14:00:04.317228",
   "version": "2.3.3"
  }
 },
 "nbformat": 4,
 "nbformat_minor": 5
}