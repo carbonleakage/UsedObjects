{
 "cells": [
  {
   "cell_type": "code",
   "execution_count": 1,
   "id": "reverse-picking",
   "metadata": {
    "execution": {
     "iopub.execute_input": "2021-11-05T18:00:07.826569Z",
     "iopub.status.busy": "2021-11-05T18:00:07.824145Z",
     "iopub.status.idle": "2021-11-05T18:00:08.782764Z",
     "shell.execute_reply": "2021-11-05T18:00:08.785052Z"
    },
    "papermill": {
     "duration": 1.008501,
     "end_time": "2021-11-05T18:00:08.785784",
     "exception": false,
     "start_time": "2021-11-05T18:00:07.777283",
     "status": "completed"
    },
    "tags": []
   },
   "outputs": [],
   "source": [
    "import pandas as pd\n",
    "import sqlite3"
   ]
  },
  {
   "cell_type": "code",
   "execution_count": 2,
   "id": "innovative-syndrome",
   "metadata": {
    "execution": {
     "iopub.execute_input": "2021-11-05T18:00:08.905263Z",
     "iopub.status.busy": "2021-11-05T18:00:08.902890Z",
     "iopub.status.idle": "2021-11-05T18:00:09.629271Z",
     "shell.execute_reply": "2021-11-05T18:00:09.630919Z"
    },
    "papermill": {
     "duration": 0.761567,
     "end_time": "2021-11-05T18:00:09.631408",
     "exception": false,
     "start_time": "2021-11-05T18:00:08.869841",
     "status": "completed"
    },
    "tags": []
   },
   "outputs": [],
   "source": [
    "timestamps = pd.read_sql(\"select distinct record_time from EBAY_TOP_BERLIN order by record_time desc limit 2\", sqlite3.connect(\"UsedObjects.db\"))"
   ]
  },
  {
   "cell_type": "code",
   "execution_count": 3,
   "id": "periodic-identification",
   "metadata": {
    "execution": {
     "iopub.execute_input": "2021-11-05T18:00:09.703014Z",
     "iopub.status.busy": "2021-11-05T18:00:09.700633Z",
     "iopub.status.idle": "2021-11-05T18:00:09.724476Z",
     "shell.execute_reply": "2021-11-05T18:00:09.726033Z"
    },
    "papermill": {
     "duration": 0.075119,
     "end_time": "2021-11-05T18:00:09.726531",
     "exception": false,
     "start_time": "2021-11-05T18:00:09.651412",
     "status": "completed"
    },
    "tags": []
   },
   "outputs": [
    {
     "data": {
      "text/html": [
       "<div>\n",
       "<style scoped>\n",
       "    .dataframe tbody tr th:only-of-type {\n",
       "        vertical-align: middle;\n",
       "    }\n",
       "\n",
       "    .dataframe tbody tr th {\n",
       "        vertical-align: top;\n",
       "    }\n",
       "\n",
       "    .dataframe thead th {\n",
       "        text-align: right;\n",
       "    }\n",
       "</style>\n",
       "<table border=\"1\" class=\"dataframe\">\n",
       "  <thead>\n",
       "    <tr style=\"text-align: right;\">\n",
       "      <th></th>\n",
       "      <th>RECORD_TIME</th>\n",
       "    </tr>\n",
       "  </thead>\n",
       "  <tbody>\n",
       "    <tr>\n",
       "      <th>0</th>\n",
       "      <td>2021-11-05 19:00</td>\n",
       "    </tr>\n",
       "    <tr>\n",
       "      <th>1</th>\n",
       "      <td>2021-11-05 18:30</td>\n",
       "    </tr>\n",
       "  </tbody>\n",
       "</table>\n",
       "</div>"
      ],
      "text/plain": [
       "        RECORD_TIME\n",
       "0  2021-11-05 19:00\n",
       "1  2021-11-05 18:30"
      ]
     },
     "execution_count": 3,
     "metadata": {},
     "output_type": "execute_result"
    }
   ],
   "source": [
    "timestamps"
   ]
  },
  {
   "cell_type": "code",
   "execution_count": 4,
   "id": "alternate-victory",
   "metadata": {
    "execution": {
     "iopub.execute_input": "2021-11-05T18:00:09.781681Z",
     "iopub.status.busy": "2021-11-05T18:00:09.779335Z",
     "iopub.status.idle": "2021-11-05T18:00:10.889198Z",
     "shell.execute_reply": "2021-11-05T18:00:10.890825Z"
    },
    "papermill": {
     "duration": 1.143747,
     "end_time": "2021-11-05T18:00:10.891322",
     "exception": false,
     "start_time": "2021-11-05T18:00:09.747575",
     "status": "completed"
    },
    "tags": []
   },
   "outputs": [],
   "source": [
    "df = pd.read_sql(\"select * from EBAY_TOP_BERLIN where record_time in (select distinct record_time from EBAY_TOP_BERLIN order by record_time desc limit 2)\", sqlite3.connect(\"UsedObjects.db\"))"
   ]
  },
  {
   "cell_type": "code",
   "execution_count": 5,
   "id": "popular-active",
   "metadata": {
    "execution": {
     "iopub.execute_input": "2021-11-05T18:00:10.970928Z",
     "iopub.status.busy": "2021-11-05T18:00:10.955991Z",
     "iopub.status.idle": "2021-11-05T18:00:10.989251Z",
     "shell.execute_reply": "2021-11-05T18:00:10.990743Z"
    },
    "papermill": {
     "duration": 0.07837,
     "end_time": "2021-11-05T18:00:10.991234",
     "exception": false,
     "start_time": "2021-11-05T18:00:10.912864",
     "status": "completed"
    },
    "tags": []
   },
   "outputs": [],
   "source": [
    "df_pivot = df.pivot_table(index=\"PRODUCT\", columns = \"RECORD_TIME\", values = \"LISTING_COUNT\")"
   ]
  },
  {
   "cell_type": "code",
   "execution_count": 6,
   "id": "union-huntington",
   "metadata": {
    "execution": {
     "iopub.execute_input": "2021-11-05T18:00:11.055012Z",
     "iopub.status.busy": "2021-11-05T18:00:11.052634Z",
     "iopub.status.idle": "2021-11-05T18:00:11.057741Z",
     "shell.execute_reply": "2021-11-05T18:00:11.059369Z"
    },
    "papermill": {
     "duration": 0.047091,
     "end_time": "2021-11-05T18:00:11.059987",
     "exception": false,
     "start_time": "2021-11-05T18:00:11.012896",
     "status": "completed"
    },
    "tags": []
   },
   "outputs": [],
   "source": [
    "df_pivot.columns = [\"stamp_1\", \"stamp_2\"]\n",
    "df_pivot_diff = df_pivot.diff(axis=1)"
   ]
  },
  {
   "cell_type": "code",
   "execution_count": 7,
   "id": "fifth-motion",
   "metadata": {
    "execution": {
     "iopub.execute_input": "2021-11-05T18:00:11.118567Z",
     "iopub.status.busy": "2021-11-05T18:00:11.116113Z",
     "iopub.status.idle": "2021-11-05T18:00:12.910233Z",
     "shell.execute_reply": "2021-11-05T18:00:12.911692Z"
    },
    "papermill": {
     "duration": 1.831534,
     "end_time": "2021-11-05T18:00:12.912154",
     "exception": false,
     "start_time": "2021-11-05T18:00:11.080620",
     "status": "completed"
    },
    "tags": []
   },
   "outputs": [
    {
     "data": {
      "text/plain": [
       "<AxesSubplot:ylabel='PRODUCT'>"
      ]
     },
     "execution_count": 7,
     "metadata": {},
     "output_type": "execute_result"
    },
    {
     "data": {
      "image/png": "[encoded data removed]",
      "text/plain": [
       "<Figure size 432x288 with 1 Axes>"
      ]
     },
     "metadata": {
      "needs_background": "light"
     },
     "output_type": "display_data"
    }
   ],
   "source": [
    "df_pivot_diff.sort_values(\"stamp_2\", ascending = False)[\"stamp_2\"].head(10).plot.barh()"
   ]
  },
  {
   "cell_type": "code",
   "execution_count": null,
   "id": "extra-executive",
   "metadata": {
    "papermill": {
     "duration": 0.02479,
     "end_time": "2021-11-05T18:00:12.965790",
     "exception": false,
     "start_time": "2021-11-05T18:00:12.941000",
     "status": "completed"
    },
    "tags": []
   },
   "outputs": [],
   "source": []
  }
 ],
 "metadata": {
  "kernelspec": {
   "display_name": "Python 3",
   "language": "python",
   "name": "python3"
  },
  "language_info": {
   "codemirror_mode": {
    "name": "ipython",
    "version": 3
   },
   "file_extension": ".py",
   "mimetype": "text/x-python",
   "name": "python",
   "nbconvert_exporter": "python",
   "pygments_lexer": "ipython3",
   "version": "3.9.5"
  },
  "papermill": {
   "default_parameters": {},
   "duration": 8.91259,
   "end_time": "2021-11-05T18:00:13.830093",
   "environment_variables": {},
   "exception": null,
   "input_path": "eBay_Overview.ipynb",
   "output_path": "eBay_Overview.ipynb",
   "parameters": {},
   "start_time": "2021-11-05T18:00:04.917503",
   "version": "2.3.3"
  }
 },
 "nbformat": 4,
 "nbformat_minor": 5
}