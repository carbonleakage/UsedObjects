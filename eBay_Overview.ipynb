{
 "cells": [
  {
   "cell_type": "code",
   "execution_count": 1,
   "id": "reverse-picking",
   "metadata": {
    "execution": {
     "iopub.execute_input": "2021-09-25T09:30:07.004261Z",
     "iopub.status.busy": "2021-09-25T09:30:07.002302Z",
     "iopub.status.idle": "2021-09-25T09:30:07.807791Z",
     "shell.execute_reply": "2021-09-25T09:30:07.809027Z"
    },
    "papermill": {
     "duration": 0.85749,
     "end_time": "2021-09-25T09:30:07.809638",
     "exception": false,
     "start_time": "2021-09-25T09:30:06.952148",
     "status": "completed"
    },
    "tags": []
   },
   "outputs": [],
   "source": [
    "import pandas as pd\n",
    "import sqlite3"
   ]
  },
  {
   "cell_type": "code",
   "execution_count": 2,
   "id": "innovative-syndrome",
   "metadata": {
    "execution": {
     "iopub.execute_input": "2021-09-25T09:30:07.860620Z",
     "iopub.status.busy": "2021-09-25T09:30:07.858700Z",
     "iopub.status.idle": "2021-09-25T09:30:08.245485Z",
     "shell.execute_reply": "2021-09-25T09:30:08.246669Z"
    },
    "papermill": {
     "duration": 0.416198,
     "end_time": "2021-09-25T09:30:08.247248",
     "exception": false,
     "start_time": "2021-09-25T09:30:07.831050",
     "status": "completed"
    },
    "tags": []
   },
   "outputs": [],
   "source": [
    "timestamps = pd.read_sql(\"select distinct record_time from EBAY_TOP_BERLIN order by record_time desc limit 2\", sqlite3.connect(\"UsedObjects.db\"))"
   ]
  },
  {
   "cell_type": "code",
   "execution_count": 3,
   "id": "periodic-identification",
   "metadata": {
    "execution": {
     "iopub.execute_input": "2021-09-25T09:30:08.315696Z",
     "iopub.status.busy": "2021-09-25T09:30:08.313604Z",
     "iopub.status.idle": "2021-09-25T09:30:08.333608Z",
     "shell.execute_reply": "2021-09-25T09:30:08.334949Z"
    },
    "papermill": {
     "duration": 0.066506,
     "end_time": "2021-09-25T09:30:08.335374",
     "exception": false,
     "start_time": "2021-09-25T09:30:08.268868",
     "status": "completed"
    },
    "tags": []
   },
   "outputs": [
    {
     "data": {
      "text/html": [
       "<div>\n",
       "<style scoped>\n",
       "    .dataframe tbody tr th:only-of-type {\n",
       "        vertical-align: middle;\n",
       "    }\n",
       "\n",
       "    .dataframe tbody tr th {\n",
       "        vertical-align: top;\n",
       "    }\n",
       "\n",
       "    .dataframe thead th {\n",
       "        text-align: right;\n",
       "    }\n",
       "</style>\n",
       "<table border=\"1\" class=\"dataframe\">\n",
       "  <thead>\n",
       "    <tr style=\"text-align: right;\">\n",
       "      <th></th>\n",
       "      <th>RECORD_TIME</th>\n",
       "    </tr>\n",
       "  </thead>\n",
       "  <tbody>\n",
       "    <tr>\n",
       "      <th>0</th>\n",
       "      <td>2021-09-25 11:30</td>\n",
       "    </tr>\n",
       "    <tr>\n",
       "      <th>1</th>\n",
       "      <td>2021-09-25 11:00</td>\n",
       "    </tr>\n",
       "  </tbody>\n",
       "</table>\n",
       "</div>"
      ],
      "text/plain": [
       "        RECORD_TIME\n",
       "0  2021-09-25 11:30\n",
       "1  2021-09-25 11:00"
      ]
     },
     "execution_count": 3,
     "metadata": {},
     "output_type": "execute_result"
    }
   ],
   "source": [
    "timestamps"
   ]
  },
  {
   "cell_type": "code",
   "execution_count": 4,
   "id": "alternate-victory",
   "metadata": {
    "execution": {
     "iopub.execute_input": "2021-09-25T09:30:08.387469Z",
     "iopub.status.busy": "2021-09-25T09:30:08.385425Z",
     "iopub.status.idle": "2021-09-25T09:30:08.940805Z",
     "shell.execute_reply": "2021-09-25T09:30:08.942081Z"
    },
    "papermill": {
     "duration": 0.585797,
     "end_time": "2021-09-25T09:30:08.942491",
     "exception": false,
     "start_time": "2021-09-25T09:30:08.356694",
     "status": "completed"
    },
    "tags": []
   },
   "outputs": [],
   "source": [
    "df = pd.read_sql(\"select * from EBAY_TOP_BERLIN where record_time in (select distinct record_time from EBAY_TOP_BERLIN order by record_time desc limit 2)\", sqlite3.connect(\"UsedObjects.db\"))"
   ]
  },
  {
   "cell_type": "code",
   "execution_count": 5,
   "id": "popular-active",
   "metadata": {
    "execution": {
     "iopub.execute_input": "2021-09-25T09:30:09.007661Z",
     "iopub.status.busy": "2021-09-25T09:30:09.000752Z",
     "iopub.status.idle": "2021-09-25T09:30:09.027880Z",
     "shell.execute_reply": "2021-09-25T09:30:09.029093Z"
    },
    "papermill": {
     "duration": 0.066856,
     "end_time": "2021-09-25T09:30:09.029489",
     "exception": false,
     "start_time": "2021-09-25T09:30:08.962633",
     "status": "completed"
    },
    "tags": []
   },
   "outputs": [],
   "source": [
    "df_pivot = df.pivot_table(index=\"PRODUCT\", columns = \"RECORD_TIME\", values = \"LISTING_COUNT\")"
   ]
  },
  {
   "cell_type": "code",
   "execution_count": 6,
   "id": "union-huntington",
   "metadata": {
    "execution": {
     "iopub.execute_input": "2021-09-25T09:30:09.088684Z",
     "iopub.status.busy": "2021-09-25T09:30:09.086219Z",
     "iopub.status.idle": "2021-09-25T09:30:09.092194Z",
     "shell.execute_reply": "2021-09-25T09:30:09.093494Z"
    },
    "papermill": {
     "duration": 0.042187,
     "end_time": "2021-09-25T09:30:09.093907",
     "exception": false,
     "start_time": "2021-09-25T09:30:09.051720",
     "status": "completed"
    },
    "tags": []
   },
   "outputs": [],
   "source": [
    "df_pivot.columns = [\"stamp_1\", \"stamp_2\"]\n",
    "df_pivot_diff = df_pivot.diff(axis=1)"
   ]
  },
  {
   "cell_type": "code",
   "execution_count": 7,
   "id": "fifth-motion",
   "metadata": {
    "execution": {
     "iopub.execute_input": "2021-09-25T09:30:09.146708Z",
     "iopub.status.busy": "2021-09-25T09:30:09.144427Z",
     "iopub.status.idle": "2021-09-25T09:30:10.660831Z",
     "shell.execute_reply": "2021-09-25T09:30:10.662107Z"
    },
    "papermill": {
     "duration": 1.548859,
     "end_time": "2021-09-25T09:30:10.662522",
     "exception": false,
     "start_time": "2021-09-25T09:30:09.113663",
     "status": "completed"
    },
    "tags": []
   },
   "outputs": [
    {
     "data": {
      "text/plain": [
       "<AxesSubplot:ylabel='PRODUCT'>"
      ]
     },
     "execution_count": 7,
     "metadata": {},
     "output_type": "execute_result"
    },
    {
     "data": {
      "image/png": "[encoded data removed]",
      "text/plain": [
       "<Figure size 432x288 with 1 Axes>"
      ]
     },
     "metadata": {
      "needs_background": "light"
     },
     "output_type": "display_data"
    }
   ],
   "source": [
    "df_pivot_diff.sort_values(\"stamp_2\", ascending = False)[\"stamp_2\"].head(10).plot.barh()"
   ]
  },
  {
   "cell_type": "code",
   "execution_count": null,
   "id": "extra-executive",
   "metadata": {
    "papermill": {
     "duration": 0.022329,
     "end_time": "2021-09-25T09:30:10.709651",
     "exception": false,
     "start_time": "2021-09-25T09:30:10.687322",
     "status": "completed"
    },
    "tags": []
   },
   "outputs": [],
   "source": []
  }
 ],
 "metadata": {
  "kernelspec": {
   "display_name": "Python 3",
   "language": "python",
   "name": "python3"
  },
  "language_info": {
   "codemirror_mode": {
    "name": "ipython",
    "version": 3
   },
   "file_extension": ".py",
   "mimetype": "text/x-python",
   "name": "python",
   "nbconvert_exporter": "python",
   "pygments_lexer": "ipython3",
   "version": "3.9.5"
  },
  "papermill": {
   "default_parameters": {},
   "duration": 6.799702,
   "end_time": "2021-09-25T09:30:11.352813",
   "environment_variables": {},
   "exception": null,
   "input_path": "eBay_Overview.ipynb",
   "output_path": "eBay_Overview.ipynb",
   "parameters": {},
   "start_time": "2021-09-25T09:30:04.553111",
   "version": "2.3.3"
  }
 },
 "nbformat": 4,
 "nbformat_minor": 5
}