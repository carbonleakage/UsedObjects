{
 "cells": [
  {
   "cell_type": "code",
   "execution_count": 1,
   "id": "reverse-picking",
   "metadata": {
    "execution": {
     "iopub.execute_input": "2021-11-02T18:30:07.622383Z",
     "iopub.status.busy": "2021-11-02T18:30:07.619948Z",
     "iopub.status.idle": "2021-11-02T18:30:08.564511Z",
     "shell.execute_reply": "2021-11-02T18:30:08.562612Z"
    },
    "papermill": {
     "duration": 0.992178,
     "end_time": "2021-11-02T18:30:08.565085",
     "exception": false,
     "start_time": "2021-11-02T18:30:07.572907",
     "status": "completed"
    },
    "tags": []
   },
   "outputs": [],
   "source": [
    "import pandas as pd\n",
    "import sqlite3"
   ]
  },
  {
   "cell_type": "code",
   "execution_count": 2,
   "id": "innovative-syndrome",
   "metadata": {
    "execution": {
     "iopub.execute_input": "2021-11-02T18:30:08.621994Z",
     "iopub.status.busy": "2021-11-02T18:30:08.618347Z",
     "iopub.status.idle": "2021-11-02T18:30:09.339390Z",
     "shell.execute_reply": "2021-11-02T18:30:09.341066Z"
    },
    "papermill": {
     "duration": 0.754941,
     "end_time": "2021-11-02T18:30:09.341540",
     "exception": false,
     "start_time": "2021-11-02T18:30:08.586599",
     "status": "completed"
    },
    "tags": []
   },
   "outputs": [],
   "source": [
    "timestamps = pd.read_sql(\"select distinct record_time from EBAY_TOP_BERLIN order by record_time desc limit 2\", sqlite3.connect(\"UsedObjects.db\"))"
   ]
  },
  {
   "cell_type": "code",
   "execution_count": 3,
   "id": "periodic-identification",
   "metadata": {
    "execution": {
     "iopub.execute_input": "2021-11-02T18:30:09.420560Z",
     "iopub.status.busy": "2021-11-02T18:30:09.418233Z",
     "iopub.status.idle": "2021-11-02T18:30:09.441316Z",
     "shell.execute_reply": "2021-11-02T18:30:09.442893Z"
    },
    "papermill": {
     "duration": 0.075186,
     "end_time": "2021-11-02T18:30:09.443361",
     "exception": false,
     "start_time": "2021-11-02T18:30:09.368175",
     "status": "completed"
    },
    "tags": []
   },
   "outputs": [
    {
     "data": {
      "text/html": [
       "<div>\n",
       "<style scoped>\n",
       "    .dataframe tbody tr th:only-of-type {\n",
       "        vertical-align: middle;\n",
       "    }\n",
       "\n",
       "    .dataframe tbody tr th {\n",
       "        vertical-align: top;\n",
       "    }\n",
       "\n",
       "    .dataframe thead th {\n",
       "        text-align: right;\n",
       "    }\n",
       "</style>\n",
       "<table border=\"1\" class=\"dataframe\">\n",
       "  <thead>\n",
       "    <tr style=\"text-align: right;\">\n",
       "      <th></th>\n",
       "      <th>RECORD_TIME</th>\n",
       "    </tr>\n",
       "  </thead>\n",
       "  <tbody>\n",
       "    <tr>\n",
       "      <th>0</th>\n",
       "      <td>2021-11-02 19:30</td>\n",
       "    </tr>\n",
       "    <tr>\n",
       "      <th>1</th>\n",
       "      <td>2021-11-02 19:00</td>\n",
       "    </tr>\n",
       "  </tbody>\n",
       "</table>\n",
       "</div>"
      ],
      "text/plain": [
       "        RECORD_TIME\n",
       "0  2021-11-02 19:30\n",
       "1  2021-11-02 19:00"
      ]
     },
     "execution_count": 3,
     "metadata": {},
     "output_type": "execute_result"
    }
   ],
   "source": [
    "timestamps"
   ]
  },
  {
   "cell_type": "code",
   "execution_count": 4,
   "id": "alternate-victory",
   "metadata": {
    "execution": {
     "iopub.execute_input": "2021-11-02T18:30:09.499213Z",
     "iopub.status.busy": "2021-11-02T18:30:09.497051Z",
     "iopub.status.idle": "2021-11-02T18:30:10.536330Z",
     "shell.execute_reply": "2021-11-02T18:30:10.537763Z"
    },
    "papermill": {
     "duration": 1.073166,
     "end_time": "2021-11-02T18:30:10.538240",
     "exception": false,
     "start_time": "2021-11-02T18:30:09.465074",
     "status": "completed"
    },
    "tags": []
   },
   "outputs": [],
   "source": [
    "df = pd.read_sql(\"select * from EBAY_TOP_BERLIN where record_time in (select distinct record_time from EBAY_TOP_BERLIN order by record_time desc limit 2)\", sqlite3.connect(\"UsedObjects.db\"))"
   ]
  },
  {
   "cell_type": "code",
   "execution_count": 5,
   "id": "popular-active",
   "metadata": {
    "execution": {
     "iopub.execute_input": "2021-11-02T18:30:10.618632Z",
     "iopub.status.busy": "2021-11-02T18:30:10.605303Z",
     "iopub.status.idle": "2021-11-02T18:30:10.637630Z",
     "shell.execute_reply": "2021-11-02T18:30:10.639215Z"
    },
    "papermill": {
     "duration": 0.077884,
     "end_time": "2021-11-02T18:30:10.639718",
     "exception": false,
     "start_time": "2021-11-02T18:30:10.561834",
     "status": "completed"
    },
    "tags": []
   },
   "outputs": [],
   "source": [
    "df_pivot = df.pivot_table(index=\"PRODUCT\", columns = \"RECORD_TIME\", values = \"LISTING_COUNT\")"
   ]
  },
  {
   "cell_type": "code",
   "execution_count": 6,
   "id": "union-huntington",
   "metadata": {
    "execution": {
     "iopub.execute_input": "2021-11-02T18:30:10.703175Z",
     "iopub.status.busy": "2021-11-02T18:30:10.700249Z",
     "iopub.status.idle": "2021-11-02T18:30:10.707438Z",
     "shell.execute_reply": "2021-11-02T18:30:10.709141Z"
    },
    "papermill": {
     "duration": 0.048691,
     "end_time": "2021-11-02T18:30:10.709680",
     "exception": false,
     "start_time": "2021-11-02T18:30:10.660989",
     "status": "completed"
    },
    "tags": []
   },
   "outputs": [],
   "source": [
    "df_pivot.columns = [\"stamp_1\", \"stamp_2\"]\n",
    "df_pivot_diff = df_pivot.diff(axis=1)"
   ]
  },
  {
   "cell_type": "code",
   "execution_count": 7,
   "id": "fifth-motion",
   "metadata": {
    "execution": {
     "iopub.execute_input": "2021-11-02T18:30:10.769491Z",
     "iopub.status.busy": "2021-11-02T18:30:10.766714Z",
     "iopub.status.idle": "2021-11-02T18:30:12.488631Z",
     "shell.execute_reply": "2021-11-02T18:30:12.490070Z"
    },
    "papermill": {
     "duration": 1.759453,
     "end_time": "2021-11-02T18:30:12.490541",
     "exception": false,
     "start_time": "2021-11-02T18:30:10.731088",
     "status": "completed"
    },
    "tags": []
   },
   "outputs": [
    {
     "data": {
      "text/plain": [
       "<AxesSubplot:ylabel='PRODUCT'>"
      ]
     },
     "execution_count": 7,
     "metadata": {},
     "output_type": "execute_result"
    },
    {
     "data": {
      "image/png": "[encoded data removed]",
      "text/plain": [
       "<Figure size 432x288 with 1 Axes>"
      ]
     },
     "metadata": {
      "needs_background": "light"
     },
     "output_type": "display_data"
    }
   ],
   "source": [
    "df_pivot_diff.sort_values(\"stamp_2\", ascending = False)[\"stamp_2\"].head(10).plot.barh()"
   ]
  },
  {
   "cell_type": "code",
   "execution_count": null,
   "id": "extra-executive",
   "metadata": {
    "papermill": {
     "duration": 0.02807,
     "end_time": "2021-11-02T18:30:12.542689",
     "exception": false,
     "start_time": "2021-11-02T18:30:12.514619",
     "status": "completed"
    },
    "tags": []
   },
   "outputs": [],
   "source": []
  }
 ],
 "metadata": {
  "kernelspec": {
   "display_name": "Python 3",
   "language": "python",
   "name": "python3"
  },
  "language_info": {
   "codemirror_mode": {
    "name": "ipython",
    "version": 3
   },
   "file_extension": ".py",
   "mimetype": "text/x-python",
   "name": "python",
   "nbconvert_exporter": "python",
   "pygments_lexer": "ipython3",
   "version": "3.9.5"
  },
  "papermill": {
   "default_parameters": {},
   "duration": 9.005098,
   "end_time": "2021-11-02T18:30:13.788942",
   "environment_variables": {},
   "exception": null,
   "input_path": "eBay_Overview.ipynb",
   "output_path": "eBay_Overview.ipynb",
   "parameters": {},
   "start_time": "2021-11-02T18:30:04.783844",
   "version": "2.3.3"
  }
 },
 "nbformat": 4,
 "nbformat_minor": 5
}