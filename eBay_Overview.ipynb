{
 "cells": [
  {
   "cell_type": "code",
   "execution_count": 1,
   "id": "reverse-picking",
   "metadata": {
    "execution": {
     "iopub.execute_input": "2021-11-16T13:00:07.991256Z",
     "iopub.status.busy": "2021-11-16T13:00:07.988936Z",
     "iopub.status.idle": "2021-11-16T13:00:08.959420Z",
     "shell.execute_reply": "2021-11-16T13:00:08.957520Z"
    },
    "papermill": {
     "duration": 1.018627,
     "end_time": "2021-11-16T13:00:08.959891",
     "exception": false,
     "start_time": "2021-11-16T13:00:07.941264",
     "status": "completed"
    },
    "tags": []
   },
   "outputs": [],
   "source": [
    "import pandas as pd\n",
    "import sqlite3"
   ]
  },
  {
   "cell_type": "code",
   "execution_count": 2,
   "id": "innovative-syndrome",
   "metadata": {
    "execution": {
     "iopub.execute_input": "2021-11-16T13:00:09.021273Z",
     "iopub.status.busy": "2021-11-16T13:00:09.018945Z",
     "iopub.status.idle": "2021-11-16T13:00:09.846325Z",
     "shell.execute_reply": "2021-11-16T13:00:09.847602Z"
    },
    "papermill": {
     "duration": 0.861222,
     "end_time": "2021-11-16T13:00:09.848019",
     "exception": false,
     "start_time": "2021-11-16T13:00:08.986797",
     "status": "completed"
    },
    "tags": []
   },
   "outputs": [],
   "source": [
    "timestamps = pd.read_sql(\"select distinct record_time from EBAY_TOP_BERLIN order by record_time desc limit 2\", sqlite3.connect(\"UsedObjects.db\"))"
   ]
  },
  {
   "cell_type": "code",
   "execution_count": 3,
   "id": "periodic-identification",
   "metadata": {
    "execution": {
     "iopub.execute_input": "2021-11-16T13:00:09.914760Z",
     "iopub.status.busy": "2021-11-16T13:00:09.912673Z",
     "iopub.status.idle": "2021-11-16T13:00:09.932758Z",
     "shell.execute_reply": "2021-11-16T13:00:09.934012Z"
    },
    "papermill": {
     "duration": 0.066877,
     "end_time": "2021-11-16T13:00:09.934437",
     "exception": false,
     "start_time": "2021-11-16T13:00:09.867560",
     "status": "completed"
    },
    "tags": []
   },
   "outputs": [
    {
     "data": {
      "text/html": [
       "<div>\n",
       "<style scoped>\n",
       "    .dataframe tbody tr th:only-of-type {\n",
       "        vertical-align: middle;\n",
       "    }\n",
       "\n",
       "    .dataframe tbody tr th {\n",
       "        vertical-align: top;\n",
       "    }\n",
       "\n",
       "    .dataframe thead th {\n",
       "        text-align: right;\n",
       "    }\n",
       "</style>\n",
       "<table border=\"1\" class=\"dataframe\">\n",
       "  <thead>\n",
       "    <tr style=\"text-align: right;\">\n",
       "      <th></th>\n",
       "      <th>RECORD_TIME</th>\n",
       "    </tr>\n",
       "  </thead>\n",
       "  <tbody>\n",
       "    <tr>\n",
       "      <th>0</th>\n",
       "      <td>2021-11-16 14:00</td>\n",
       "    </tr>\n",
       "    <tr>\n",
       "      <th>1</th>\n",
       "      <td>2021-11-16 13:30</td>\n",
       "    </tr>\n",
       "  </tbody>\n",
       "</table>\n",
       "</div>"
      ],
      "text/plain": [
       "        RECORD_TIME\n",
       "0  2021-11-16 14:00\n",
       "1  2021-11-16 13:30"
      ]
     },
     "execution_count": 3,
     "metadata": {},
     "output_type": "execute_result"
    }
   ],
   "source": [
    "timestamps"
   ]
  },
  {
   "cell_type": "code",
   "execution_count": 4,
   "id": "alternate-victory",
   "metadata": {
    "execution": {
     "iopub.execute_input": "2021-11-16T13:00:09.988124Z",
     "iopub.status.busy": "2021-11-16T13:00:09.985844Z",
     "iopub.status.idle": "2021-11-16T13:00:11.189452Z",
     "shell.execute_reply": "2021-11-16T13:00:11.191002Z"
    },
    "papermill": {
     "duration": 1.23414,
     "end_time": "2021-11-16T13:00:11.191484",
     "exception": false,
     "start_time": "2021-11-16T13:00:09.957344",
     "status": "completed"
    },
    "tags": []
   },
   "outputs": [],
   "source": [
    "df = pd.read_sql(\"select * from EBAY_TOP_BERLIN where record_time in (select distinct record_time from EBAY_TOP_BERLIN order by record_time desc limit 2)\", sqlite3.connect(\"UsedObjects.db\"))"
   ]
  },
  {
   "cell_type": "code",
   "execution_count": 5,
   "id": "popular-active",
   "metadata": {
    "execution": {
     "iopub.execute_input": "2021-11-16T13:00:11.268455Z",
     "iopub.status.busy": "2021-11-16T13:00:11.255039Z",
     "iopub.status.idle": "2021-11-16T13:00:11.286425Z",
     "shell.execute_reply": "2021-11-16T13:00:11.287811Z"
    },
    "papermill": {
     "duration": 0.074508,
     "end_time": "2021-11-16T13:00:11.288286",
     "exception": false,
     "start_time": "2021-11-16T13:00:11.213778",
     "status": "completed"
    },
    "tags": []
   },
   "outputs": [],
   "source": [
    "df_pivot = df.pivot_table(index=\"PRODUCT\", columns = \"RECORD_TIME\", values = \"LISTING_COUNT\")"
   ]
  },
  {
   "cell_type": "code",
   "execution_count": 6,
   "id": "union-huntington",
   "metadata": {
    "execution": {
     "iopub.execute_input": "2021-11-16T13:00:11.346600Z",
     "iopub.status.busy": "2021-11-16T13:00:11.344111Z",
     "iopub.status.idle": "2021-11-16T13:00:11.355121Z",
     "shell.execute_reply": "2021-11-16T13:00:11.350679Z"
    },
    "papermill": {
     "duration": 0.047444,
     "end_time": "2021-11-16T13:00:11.355556",
     "exception": false,
     "start_time": "2021-11-16T13:00:11.308112",
     "status": "completed"
    },
    "tags": []
   },
   "outputs": [],
   "source": [
    "df_pivot.columns = [\"stamp_1\", \"stamp_2\"]\n",
    "df_pivot_diff = df_pivot.diff(axis=1)"
   ]
  },
  {
   "cell_type": "code",
   "execution_count": 7,
   "id": "fifth-motion",
   "metadata": {
    "execution": {
     "iopub.execute_input": "2021-11-16T13:00:11.415831Z",
     "iopub.status.busy": "2021-11-16T13:00:11.413026Z",
     "iopub.status.idle": "2021-11-16T13:00:13.333784Z",
     "shell.execute_reply": "2021-11-16T13:00:13.335772Z"
    },
    "papermill": {
     "duration": 1.958331,
     "end_time": "2021-11-16T13:00:13.336394",
     "exception": false,
     "start_time": "2021-11-16T13:00:11.378063",
     "status": "completed"
    },
    "tags": []
   },
   "outputs": [
    {
     "data": {
      "text/plain": [
       "<AxesSubplot:ylabel='PRODUCT'>"
      ]
     },
     "execution_count": 7,
     "metadata": {},
     "output_type": "execute_result"
    },
    {
     "data": {
      "image/png": "[encoded data removed]",
      "text/plain": [
       "<Figure size 432x288 with 1 Axes>"
      ]
     },
     "metadata": {
      "needs_background": "light"
     },
     "output_type": "display_data"
    }
   ],
   "source": [
    "df_pivot_diff.sort_values(\"stamp_2\", ascending = False)[\"stamp_2\"].head(10).plot.barh()"
   ]
  },
  {
   "cell_type": "code",
   "execution_count": null,
   "id": "extra-executive",
   "metadata": {
    "papermill": {
     "duration": 0.026931,
     "end_time": "2021-11-16T13:00:13.394304",
     "exception": false,
     "start_time": "2021-11-16T13:00:13.367373",
     "status": "completed"
    },
    "tags": []
   },
   "outputs": [],
   "source": []
  }
 ],
 "metadata": {
  "kernelspec": {
   "display_name": "Python 3",
   "language": "python",
   "name": "python3"
  },
  "language_info": {
   "codemirror_mode": {
    "name": "ipython",
    "version": 3
   },
   "file_extension": ".py",
   "mimetype": "text/x-python",
   "name": "python",
   "nbconvert_exporter": "python",
   "pygments_lexer": "ipython3",
   "version": "3.9.5"
  },
  "papermill": {
   "default_parameters": {},
   "duration": 9.931367,
   "end_time": "2021-11-16T13:00:15.147432",
   "environment_variables": {},
   "exception": null,
   "input_path": "eBay_Overview.ipynb",
   "output_path": "eBay_Overview.ipynb",
   "parameters": {},
   "start_time": "2021-11-16T13:00:05.216065",
   "version": "2.3.3"
  }
 },
 "nbformat": 4,
 "nbformat_minor": 5
}