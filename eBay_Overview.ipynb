{
 "cells": [
  {
   "cell_type": "code",
   "execution_count": 1,
   "id": "reverse-picking",
   "metadata": {
    "execution": {
     "iopub.execute_input": "2021-09-04T09:30:06.674505Z",
     "iopub.status.busy": "2021-09-04T09:30:06.672591Z",
     "iopub.status.idle": "2021-09-04T09:30:07.475221Z",
     "shell.execute_reply": "2021-09-04T09:30:07.476662Z"
    },
    "papermill": {
     "duration": 0.854951,
     "end_time": "2021-09-04T09:30:07.477343",
     "exception": false,
     "start_time": "2021-09-04T09:30:06.622392",
     "status": "completed"
    },
    "tags": []
   },
   "outputs": [],
   "source": [
    "import pandas as pd\n",
    "import sqlite3"
   ]
  },
  {
   "cell_type": "code",
   "execution_count": 2,
   "id": "innovative-syndrome",
   "metadata": {
    "execution": {
     "iopub.execute_input": "2021-09-04T09:30:07.528107Z",
     "iopub.status.busy": "2021-09-04T09:30:07.525739Z",
     "iopub.status.idle": "2021-09-04T09:30:07.730220Z",
     "shell.execute_reply": "2021-09-04T09:30:07.731572Z"
    },
    "papermill": {
     "duration": 0.234316,
     "end_time": "2021-09-04T09:30:07.732001",
     "exception": false,
     "start_time": "2021-09-04T09:30:07.497685",
     "status": "completed"
    },
    "tags": []
   },
   "outputs": [],
   "source": [
    "timestamps = pd.read_sql(\"select distinct record_time from EBAY_TOP_BERLIN order by record_time desc limit 2\", sqlite3.connect(\"UsedObjects.db\"))"
   ]
  },
  {
   "cell_type": "code",
   "execution_count": 3,
   "id": "periodic-identification",
   "metadata": {
    "execution": {
     "iopub.execute_input": "2021-09-04T09:30:07.798331Z",
     "iopub.status.busy": "2021-09-04T09:30:07.796089Z",
     "iopub.status.idle": "2021-09-04T09:30:07.815905Z",
     "shell.execute_reply": "2021-09-04T09:30:07.817167Z"
    },
    "papermill": {
     "duration": 0.065205,
     "end_time": "2021-09-04T09:30:07.817565",
     "exception": false,
     "start_time": "2021-09-04T09:30:07.752360",
     "status": "completed"
    },
    "tags": []
   },
   "outputs": [
    {
     "data": {
      "text/html": [
       "<div>\n",
       "<style scoped>\n",
       "    .dataframe tbody tr th:only-of-type {\n",
       "        vertical-align: middle;\n",
       "    }\n",
       "\n",
       "    .dataframe tbody tr th {\n",
       "        vertical-align: top;\n",
       "    }\n",
       "\n",
       "    .dataframe thead th {\n",
       "        text-align: right;\n",
       "    }\n",
       "</style>\n",
       "<table border=\"1\" class=\"dataframe\">\n",
       "  <thead>\n",
       "    <tr style=\"text-align: right;\">\n",
       "      <th></th>\n",
       "      <th>RECORD_TIME</th>\n",
       "    </tr>\n",
       "  </thead>\n",
       "  <tbody>\n",
       "    <tr>\n",
       "      <th>0</th>\n",
       "      <td>2021-09-04 11:30</td>\n",
       "    </tr>\n",
       "    <tr>\n",
       "      <th>1</th>\n",
       "      <td>2021-09-04 11:00</td>\n",
       "    </tr>\n",
       "  </tbody>\n",
       "</table>\n",
       "</div>"
      ],
      "text/plain": [
       "        RECORD_TIME\n",
       "0  2021-09-04 11:30\n",
       "1  2021-09-04 11:00"
      ]
     },
     "execution_count": 3,
     "metadata": {},
     "output_type": "execute_result"
    }
   ],
   "source": [
    "timestamps"
   ]
  },
  {
   "cell_type": "code",
   "execution_count": 4,
   "id": "alternate-victory",
   "metadata": {
    "execution": {
     "iopub.execute_input": "2021-09-04T09:30:07.868241Z",
     "iopub.status.busy": "2021-09-04T09:30:07.866270Z",
     "iopub.status.idle": "2021-09-04T09:30:08.174912Z",
     "shell.execute_reply": "2021-09-04T09:30:08.176158Z"
    },
    "papermill": {
     "duration": 0.338401,
     "end_time": "2021-09-04T09:30:08.176557",
     "exception": false,
     "start_time": "2021-09-04T09:30:07.838156",
     "status": "completed"
    },
    "tags": []
   },
   "outputs": [],
   "source": [
    "df = pd.read_sql(\"select * from EBAY_TOP_BERLIN where record_time in (select distinct record_time from EBAY_TOP_BERLIN order by record_time desc limit 2)\", sqlite3.connect(\"UsedObjects.db\"))"
   ]
  },
  {
   "cell_type": "code",
   "execution_count": 5,
   "id": "popular-active",
   "metadata": {
    "execution": {
     "iopub.execute_input": "2021-09-04T09:30:08.251548Z",
     "iopub.status.busy": "2021-09-04T09:30:08.240175Z",
     "iopub.status.idle": "2021-09-04T09:30:08.267949Z",
     "shell.execute_reply": "2021-09-04T09:30:08.269351Z"
    },
    "papermill": {
     "duration": 0.069756,
     "end_time": "2021-09-04T09:30:08.269802",
     "exception": false,
     "start_time": "2021-09-04T09:30:08.200046",
     "status": "completed"
    },
    "tags": []
   },
   "outputs": [],
   "source": [
    "df_pivot = df.pivot_table(index=\"PRODUCT\", columns = \"RECORD_TIME\", values = \"LISTING_COUNT\")"
   ]
  },
  {
   "cell_type": "code",
   "execution_count": 6,
   "id": "union-huntington",
   "metadata": {
    "execution": {
     "iopub.execute_input": "2021-09-04T09:30:08.326811Z",
     "iopub.status.busy": "2021-09-04T09:30:08.324370Z",
     "iopub.status.idle": "2021-09-04T09:30:08.330201Z",
     "shell.execute_reply": "2021-09-04T09:30:08.331642Z"
    },
    "papermill": {
     "duration": 0.042222,
     "end_time": "2021-09-04T09:30:08.332077",
     "exception": false,
     "start_time": "2021-09-04T09:30:08.289855",
     "status": "completed"
    },
    "tags": []
   },
   "outputs": [],
   "source": [
    "df_pivot.columns = [\"stamp_1\", \"stamp_2\"]\n",
    "df_pivot_diff = df_pivot.diff(axis=1)"
   ]
  },
  {
   "cell_type": "code",
   "execution_count": 7,
   "id": "fifth-motion",
   "metadata": {
    "execution": {
     "iopub.execute_input": "2021-09-04T09:30:08.385993Z",
     "iopub.status.busy": "2021-09-04T09:30:08.383734Z",
     "iopub.status.idle": "2021-09-04T09:30:09.839872Z",
     "shell.execute_reply": "2021-09-04T09:30:09.841301Z"
    },
    "papermill": {
     "duration": 1.489334,
     "end_time": "2021-09-04T09:30:09.841746",
     "exception": false,
     "start_time": "2021-09-04T09:30:08.352412",
     "status": "completed"
    },
    "tags": []
   },
   "outputs": [
    {
     "data": {
      "text/plain": [
       "<AxesSubplot:ylabel='PRODUCT'>"
      ]
     },
     "execution_count": 7,
     "metadata": {},
     "output_type": "execute_result"
    },
    {
     "data": {
      "image/png": "[encoded data removed]",
      "text/plain": [
       "<Figure size 432x288 with 1 Axes>"
      ]
     },
     "metadata": {
      "needs_background": "light"
     },
     "output_type": "display_data"
    }
   ],
   "source": [
    "df_pivot_diff.sort_values(\"stamp_2\", ascending = False)[\"stamp_2\"].head(10).plot.barh()"
   ]
  },
  {
   "cell_type": "code",
   "execution_count": null,
   "id": "extra-executive",
   "metadata": {
    "papermill": {
     "duration": 0.022117,
     "end_time": "2021-09-04T09:30:09.888106",
     "exception": false,
     "start_time": "2021-09-04T09:30:09.865989",
     "status": "completed"
    },
    "tags": []
   },
   "outputs": [],
   "source": []
  }
 ],
 "metadata": {
  "kernelspec": {
   "display_name": "Python 3",
   "language": "python",
   "name": "python3"
  },
  "language_info": {
   "codemirror_mode": {
    "name": "ipython",
    "version": 3
   },
   "file_extension": ".py",
   "mimetype": "text/x-python",
   "name": "python",
   "nbconvert_exporter": "python",
   "pygments_lexer": "ipython3",
   "version": "3.9.5"
  },
  "papermill": {
   "default_parameters": {},
   "duration": 6.822437,
   "end_time": "2021-09-04T09:30:11.044551",
   "environment_variables": {},
   "exception": null,
   "input_path": "eBay_Overview.ipynb",
   "output_path": "eBay_Overview.ipynb",
   "parameters": {},
   "start_time": "2021-09-04T09:30:04.222114",
   "version": "2.3.3"
  }
 },
 "nbformat": 4,
 "nbformat_minor": 5
}