{
 "cells": [
  {
   "cell_type": "code",
   "execution_count": 1,
   "id": "reverse-picking",
   "metadata": {
    "execution": {
     "iopub.execute_input": "2021-08-22T14:30:06.498246Z",
     "iopub.status.busy": "2021-08-22T14:30:06.496250Z",
     "iopub.status.idle": "2021-08-22T14:30:07.301695Z",
     "shell.execute_reply": "2021-08-22T14:30:07.303035Z"
    },
    "papermill": {
     "duration": 0.855334,
     "end_time": "2021-08-22T14:30:07.303663",
     "exception": false,
     "start_time": "2021-08-22T14:30:06.448329",
     "status": "completed"
    },
    "tags": []
   },
   "outputs": [],
   "source": [
    "import pandas as pd\n",
    "import sqlite3"
   ]
  },
  {
   "cell_type": "code",
   "execution_count": 2,
   "id": "innovative-syndrome",
   "metadata": {
    "execution": {
     "iopub.execute_input": "2021-08-22T14:30:07.355034Z",
     "iopub.status.busy": "2021-08-22T14:30:07.353061Z",
     "iopub.status.idle": "2021-08-22T14:30:07.459776Z",
     "shell.execute_reply": "2021-08-22T14:30:07.460967Z"
    },
    "papermill": {
     "duration": 0.13576,
     "end_time": "2021-08-22T14:30:07.461371",
     "exception": false,
     "start_time": "2021-08-22T14:30:07.325611",
     "status": "completed"
    },
    "tags": []
   },
   "outputs": [],
   "source": [
    "timestamps = pd.read_sql(\"select distinct record_time from EBAY_TOP_BERLIN order by record_time desc limit 2\", sqlite3.connect(\"UsedObjects.db\"))"
   ]
  },
  {
   "cell_type": "code",
   "execution_count": 3,
   "id": "periodic-identification",
   "metadata": {
    "execution": {
     "iopub.execute_input": "2021-08-22T14:30:07.528422Z",
     "iopub.status.busy": "2021-08-22T14:30:07.526407Z",
     "iopub.status.idle": "2021-08-22T14:30:07.546377Z",
     "shell.execute_reply": "2021-08-22T14:30:07.547677Z"
    },
    "papermill": {
     "duration": 0.065256,
     "end_time": "2021-08-22T14:30:07.548142",
     "exception": false,
     "start_time": "2021-08-22T14:30:07.482886",
     "status": "completed"
    },
    "tags": []
   },
   "outputs": [
    {
     "data": {
      "text/html": [
       "<div>\n",
       "<style scoped>\n",
       "    .dataframe tbody tr th:only-of-type {\n",
       "        vertical-align: middle;\n",
       "    }\n",
       "\n",
       "    .dataframe tbody tr th {\n",
       "        vertical-align: top;\n",
       "    }\n",
       "\n",
       "    .dataframe thead th {\n",
       "        text-align: right;\n",
       "    }\n",
       "</style>\n",
       "<table border=\"1\" class=\"dataframe\">\n",
       "  <thead>\n",
       "    <tr style=\"text-align: right;\">\n",
       "      <th></th>\n",
       "      <th>RECORD_TIME</th>\n",
       "    </tr>\n",
       "  </thead>\n",
       "  <tbody>\n",
       "    <tr>\n",
       "      <th>0</th>\n",
       "      <td>2021-08-22 16:30</td>\n",
       "    </tr>\n",
       "    <tr>\n",
       "      <th>1</th>\n",
       "      <td>2021-08-22 16:00</td>\n",
       "    </tr>\n",
       "  </tbody>\n",
       "</table>\n",
       "</div>"
      ],
      "text/plain": [
       "        RECORD_TIME\n",
       "0  2021-08-22 16:30\n",
       "1  2021-08-22 16:00"
      ]
     },
     "execution_count": 3,
     "metadata": {},
     "output_type": "execute_result"
    }
   ],
   "source": [
    "timestamps"
   ]
  },
  {
   "cell_type": "code",
   "execution_count": 4,
   "id": "alternate-victory",
   "metadata": {
    "execution": {
     "iopub.execute_input": "2021-08-22T14:30:07.598837Z",
     "iopub.status.busy": "2021-08-22T14:30:07.596886Z",
     "iopub.status.idle": "2021-08-22T14:30:07.755960Z",
     "shell.execute_reply": "2021-08-22T14:30:07.757243Z"
    },
    "papermill": {
     "duration": 0.188724,
     "end_time": "2021-08-22T14:30:07.757664",
     "exception": false,
     "start_time": "2021-08-22T14:30:07.568940",
     "status": "completed"
    },
    "tags": []
   },
   "outputs": [],
   "source": [
    "df = pd.read_sql(\"select * from EBAY_TOP_BERLIN where record_time in (select distinct record_time from EBAY_TOP_BERLIN order by record_time desc limit 2)\", sqlite3.connect(\"UsedObjects.db\"))"
   ]
  },
  {
   "cell_type": "code",
   "execution_count": 5,
   "id": "popular-active",
   "metadata": {
    "execution": {
     "iopub.execute_input": "2021-08-22T14:30:07.827961Z",
     "iopub.status.busy": "2021-08-22T14:30:07.815680Z",
     "iopub.status.idle": "2021-08-22T14:30:07.844391Z",
     "shell.execute_reply": "2021-08-22T14:30:07.845674Z"
    },
    "papermill": {
     "duration": 0.06886,
     "end_time": "2021-08-22T14:30:07.846327",
     "exception": false,
     "start_time": "2021-08-22T14:30:07.777467",
     "status": "completed"
    },
    "tags": []
   },
   "outputs": [],
   "source": [
    "df_pivot = df.pivot_table(index=\"PRODUCT\", columns = \"RECORD_TIME\", values = \"LISTING_COUNT\")"
   ]
  },
  {
   "cell_type": "code",
   "execution_count": 6,
   "id": "union-huntington",
   "metadata": {
    "execution": {
     "iopub.execute_input": "2021-08-22T14:30:07.905754Z",
     "iopub.status.busy": "2021-08-22T14:30:07.903315Z",
     "iopub.status.idle": "2021-08-22T14:30:07.909135Z",
     "shell.execute_reply": "2021-08-22T14:30:07.910581Z"
    },
    "papermill": {
     "duration": 0.042311,
     "end_time": "2021-08-22T14:30:07.911042",
     "exception": false,
     "start_time": "2021-08-22T14:30:07.868731",
     "status": "completed"
    },
    "tags": []
   },
   "outputs": [],
   "source": [
    "df_pivot.columns = [\"stamp_1\", \"stamp_2\"]\n",
    "df_pivot_diff = df_pivot.diff(axis=1)"
   ]
  },
  {
   "cell_type": "code",
   "execution_count": 7,
   "id": "fifth-motion",
   "metadata": {
    "execution": {
     "iopub.execute_input": "2021-08-22T14:30:07.970577Z",
     "iopub.status.busy": "2021-08-22T14:30:07.968042Z",
     "iopub.status.idle": "2021-08-22T14:30:09.474017Z",
     "shell.execute_reply": "2021-08-22T14:30:09.475424Z"
    },
    "papermill": {
     "duration": 1.541202,
     "end_time": "2021-08-22T14:30:09.475875",
     "exception": false,
     "start_time": "2021-08-22T14:30:07.934673",
     "status": "completed"
    },
    "tags": []
   },
   "outputs": [
    {
     "data": {
      "text/plain": [
       "<AxesSubplot:ylabel='PRODUCT'>"
      ]
     },
     "execution_count": 7,
     "metadata": {},
     "output_type": "execute_result"
    },
    {
     "data": {
      "image/png": "[encoded data removed]",
      "text/plain": [
       "<Figure size 432x288 with 1 Axes>"
      ]
     },
     "metadata": {
      "needs_background": "light"
     },
     "output_type": "display_data"
    }
   ],
   "source": [
    "df_pivot_diff.sort_values(\"stamp_2\", ascending = False)[\"stamp_2\"].head(10).plot.barh()"
   ]
  },
  {
   "cell_type": "code",
   "execution_count": null,
   "id": "extra-executive",
   "metadata": {
    "papermill": {
     "duration": 0.022002,
     "end_time": "2021-08-22T14:30:09.522165",
     "exception": false,
     "start_time": "2021-08-22T14:30:09.500163",
     "status": "completed"
    },
    "tags": []
   },
   "outputs": [],
   "source": []
  }
 ],
 "metadata": {
  "kernelspec": {
   "display_name": "Python 3",
   "language": "python",
   "name": "python3"
  },
  "language_info": {
   "codemirror_mode": {
    "name": "ipython",
    "version": 3
   },
   "file_extension": ".py",
   "mimetype": "text/x-python",
   "name": "python",
   "nbconvert_exporter": "python",
   "pygments_lexer": "ipython3",
   "version": "3.9.5"
  },
  "papermill": {
   "default_parameters": {},
   "duration": 6.827479,
   "end_time": "2021-08-22T14:30:10.872288",
   "environment_variables": {},
   "exception": null,
   "input_path": "eBay_Overview.ipynb",
   "output_path": "eBay_Overview.ipynb",
   "parameters": {},
   "start_time": "2021-08-22T14:30:04.044809",
   "version": "2.3.3"
  }
 },
 "nbformat": 4,
 "nbformat_minor": 5
}