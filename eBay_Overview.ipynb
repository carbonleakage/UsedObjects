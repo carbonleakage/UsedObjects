{
 "cells": [
  {
   "cell_type": "code",
   "execution_count": 1,
   "id": "reverse-picking",
   "metadata": {
    "execution": {
     "iopub.execute_input": "2021-12-05T23:00:07.933759Z",
     "iopub.status.busy": "2021-12-05T23:00:07.931350Z",
     "iopub.status.idle": "2021-12-05T23:00:08.902007Z",
     "shell.execute_reply": "2021-12-05T23:00:08.903692Z"
    },
    "papermill": {
     "duration": 1.021508,
     "end_time": "2021-12-05T23:00:08.904438",
     "exception": false,
     "start_time": "2021-12-05T23:00:07.882930",
     "status": "completed"
    },
    "tags": []
   },
   "outputs": [],
   "source": [
    "import pandas as pd\n",
    "import sqlite3"
   ]
  },
  {
   "cell_type": "code",
   "execution_count": 2,
   "id": "innovative-syndrome",
   "metadata": {
    "execution": {
     "iopub.execute_input": "2021-12-05T23:00:09.026572Z",
     "iopub.status.busy": "2021-12-05T23:00:09.024249Z",
     "iopub.status.idle": "2021-12-05T23:00:10.054461Z",
     "shell.execute_reply": "2021-12-05T23:00:10.055899Z"
    },
    "papermill": {
     "duration": 1.065127,
     "end_time": "2021-12-05T23:00:10.056396",
     "exception": false,
     "start_time": "2021-12-05T23:00:08.991269",
     "status": "completed"
    },
    "tags": []
   },
   "outputs": [],
   "source": [
    "timestamps = pd.read_sql(\"select distinct record_time from EBAY_TOP_BERLIN order by record_time desc limit 2\", sqlite3.connect(\"UsedObjects.db\"))"
   ]
  },
  {
   "cell_type": "code",
   "execution_count": 3,
   "id": "periodic-identification",
   "metadata": {
    "execution": {
     "iopub.execute_input": "2021-12-05T23:00:10.124768Z",
     "iopub.status.busy": "2021-12-05T23:00:10.122675Z",
     "iopub.status.idle": "2021-12-05T23:00:10.145909Z",
     "shell.execute_reply": "2021-12-05T23:00:10.147413Z"
    },
    "papermill": {
     "duration": 0.06993,
     "end_time": "2021-12-05T23:00:10.147925",
     "exception": false,
     "start_time": "2021-12-05T23:00:10.077995",
     "status": "completed"
    },
    "tags": []
   },
   "outputs": [
    {
     "data": {
      "text/html": [
       "<div>\n",
       "<style scoped>\n",
       "    .dataframe tbody tr th:only-of-type {\n",
       "        vertical-align: middle;\n",
       "    }\n",
       "\n",
       "    .dataframe tbody tr th {\n",
       "        vertical-align: top;\n",
       "    }\n",
       "\n",
       "    .dataframe thead th {\n",
       "        text-align: right;\n",
       "    }\n",
       "</style>\n",
       "<table border=\"1\" class=\"dataframe\">\n",
       "  <thead>\n",
       "    <tr style=\"text-align: right;\">\n",
       "      <th></th>\n",
       "      <th>RECORD_TIME</th>\n",
       "    </tr>\n",
       "  </thead>\n",
       "  <tbody>\n",
       "    <tr>\n",
       "      <th>0</th>\n",
       "      <td>2021-12-06 00:00</td>\n",
       "    </tr>\n",
       "    <tr>\n",
       "      <th>1</th>\n",
       "      <td>2021-12-05 23:30</td>\n",
       "    </tr>\n",
       "  </tbody>\n",
       "</table>\n",
       "</div>"
      ],
      "text/plain": [
       "        RECORD_TIME\n",
       "0  2021-12-06 00:00\n",
       "1  2021-12-05 23:30"
      ]
     },
     "execution_count": 3,
     "metadata": {},
     "output_type": "execute_result"
    }
   ],
   "source": [
    "timestamps"
   ]
  },
  {
   "cell_type": "code",
   "execution_count": 4,
   "id": "alternate-victory",
   "metadata": {
    "execution": {
     "iopub.execute_input": "2021-12-05T23:00:10.205038Z",
     "iopub.status.busy": "2021-12-05T23:00:10.202722Z",
     "iopub.status.idle": "2021-12-05T23:00:11.672285Z",
     "shell.execute_reply": "2021-12-05T23:00:11.673848Z"
    },
    "papermill": {
     "duration": 1.503626,
     "end_time": "2021-12-05T23:00:11.674312",
     "exception": false,
     "start_time": "2021-12-05T23:00:10.170686",
     "status": "completed"
    },
    "tags": []
   },
   "outputs": [],
   "source": [
    "df = pd.read_sql(\"select * from EBAY_TOP_BERLIN where record_time in (select distinct record_time from EBAY_TOP_BERLIN order by record_time desc limit 2)\", sqlite3.connect(\"UsedObjects.db\"))"
   ]
  },
  {
   "cell_type": "code",
   "execution_count": 5,
   "id": "popular-active",
   "metadata": {
    "execution": {
     "iopub.execute_input": "2021-12-05T23:00:11.740404Z",
     "iopub.status.busy": "2021-12-05T23:00:11.737729Z",
     "iopub.status.idle": "2021-12-05T23:00:11.769783Z",
     "shell.execute_reply": "2021-12-05T23:00:11.771135Z"
    },
    "papermill": {
     "duration": 0.076672,
     "end_time": "2021-12-05T23:00:11.771612",
     "exception": false,
     "start_time": "2021-12-05T23:00:11.694940",
     "status": "completed"
    },
    "tags": []
   },
   "outputs": [],
   "source": [
    "df_pivot = df.pivot_table(index=\"PRODUCT\", columns = \"RECORD_TIME\", values = \"LISTING_COUNT\")"
   ]
  },
  {
   "cell_type": "code",
   "execution_count": 6,
   "id": "union-huntington",
   "metadata": {
    "execution": {
     "iopub.execute_input": "2021-12-05T23:00:11.830423Z",
     "iopub.status.busy": "2021-12-05T23:00:11.828185Z",
     "iopub.status.idle": "2021-12-05T23:00:11.833241Z",
     "shell.execute_reply": "2021-12-05T23:00:11.835027Z"
    },
    "papermill": {
     "duration": 0.043916,
     "end_time": "2021-12-05T23:00:11.835491",
     "exception": false,
     "start_time": "2021-12-05T23:00:11.791575",
     "status": "completed"
    },
    "tags": []
   },
   "outputs": [],
   "source": [
    "df_pivot.columns = [\"stamp_1\", \"stamp_2\"]\n",
    "df_pivot_diff = df_pivot.diff(axis=1)"
   ]
  },
  {
   "cell_type": "code",
   "execution_count": 7,
   "id": "fifth-motion",
   "metadata": {
    "execution": {
     "iopub.execute_input": "2021-12-05T23:00:11.893605Z",
     "iopub.status.busy": "2021-12-05T23:00:11.890902Z",
     "iopub.status.idle": "2021-12-05T23:00:13.907143Z",
     "shell.execute_reply": "2021-12-05T23:00:13.908420Z"
    },
    "papermill": {
     "duration": 2.053047,
     "end_time": "2021-12-05T23:00:13.909022",
     "exception": false,
     "start_time": "2021-12-05T23:00:11.855975",
     "status": "completed"
    },
    "tags": []
   },
   "outputs": [
    {
     "data": {
      "text/plain": [
       "<AxesSubplot:ylabel='PRODUCT'>"
      ]
     },
     "execution_count": 7,
     "metadata": {},
     "output_type": "execute_result"
    },
    {
     "data": {
      "image/png": "[encoded data removed]",
      "text/plain": [
       "<Figure size 432x288 with 1 Axes>"
      ]
     },
     "metadata": {
      "needs_background": "light"
     },
     "output_type": "display_data"
    }
   ],
   "source": [
    "df_pivot_diff.sort_values(\"stamp_2\", ascending = False)[\"stamp_2\"].head(10).plot.barh()"
   ]
  },
  {
   "cell_type": "code",
   "execution_count": null,
   "id": "extra-executive",
   "metadata": {
    "papermill": {
     "duration": 0.028128,
     "end_time": "2021-12-05T23:00:14.028159",
     "exception": false,
     "start_time": "2021-12-05T23:00:14.000031",
     "status": "completed"
    },
    "tags": []
   },
   "outputs": [],
   "source": []
  }
 ],
 "metadata": {
  "kernelspec": {
   "display_name": "Python 3",
   "language": "python",
   "name": "python3"
  },
  "language_info": {
   "codemirror_mode": {
    "name": "ipython",
    "version": 3
   },
   "file_extension": ".py",
   "mimetype": "text/x-python",
   "name": "python",
   "nbconvert_exporter": "python",
   "pygments_lexer": "ipython3",
   "version": "3.9.5"
  },
  "papermill": {
   "default_parameters": {},
   "duration": 9.555626,
   "end_time": "2021-12-05T23:00:14.690308",
   "environment_variables": {},
   "exception": null,
   "input_path": "eBay_Overview.ipynb",
   "output_path": "eBay_Overview.ipynb",
   "parameters": {},
   "start_time": "2021-12-05T23:00:05.134682",
   "version": "2.3.3"
  }
 },
 "nbformat": 4,
 "nbformat_minor": 5
}