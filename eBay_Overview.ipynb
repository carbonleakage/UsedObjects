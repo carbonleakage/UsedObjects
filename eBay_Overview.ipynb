{
 "cells": [
  {
   "cell_type": "code",
   "execution_count": 1,
   "id": "reverse-picking",
   "metadata": {
    "execution": {
     "iopub.execute_input": "2021-11-07T18:00:08.591561Z",
     "iopub.status.busy": "2021-11-07T18:00:08.589168Z",
     "iopub.status.idle": "2021-11-07T18:00:09.522319Z",
     "shell.execute_reply": "2021-11-07T18:00:09.524620Z"
    },
    "papermill": {
     "duration": 0.985422,
     "end_time": "2021-11-07T18:00:09.525478",
     "exception": false,
     "start_time": "2021-11-07T18:00:08.540056",
     "status": "completed"
    },
    "tags": []
   },
   "outputs": [],
   "source": [
    "import pandas as pd\n",
    "import sqlite3"
   ]
  },
  {
   "cell_type": "code",
   "execution_count": 2,
   "id": "innovative-syndrome",
   "metadata": {
    "execution": {
     "iopub.execute_input": "2021-11-07T18:00:09.590891Z",
     "iopub.status.busy": "2021-11-07T18:00:09.588275Z",
     "iopub.status.idle": "2021-11-07T18:00:10.358247Z",
     "shell.execute_reply": "2021-11-07T18:00:10.359693Z"
    },
    "papermill": {
     "duration": 0.804546,
     "end_time": "2021-11-07T18:00:10.360157",
     "exception": false,
     "start_time": "2021-11-07T18:00:09.555611",
     "status": "completed"
    },
    "tags": []
   },
   "outputs": [],
   "source": [
    "timestamps = pd.read_sql(\"select distinct record_time from EBAY_TOP_BERLIN order by record_time desc limit 2\", sqlite3.connect(\"UsedObjects.db\"))"
   ]
  },
  {
   "cell_type": "code",
   "execution_count": 3,
   "id": "periodic-identification",
   "metadata": {
    "execution": {
     "iopub.execute_input": "2021-11-07T18:00:10.431220Z",
     "iopub.status.busy": "2021-11-07T18:00:10.428757Z",
     "iopub.status.idle": "2021-11-07T18:00:10.451834Z",
     "shell.execute_reply": "2021-11-07T18:00:10.453399Z"
    },
    "papermill": {
     "duration": 0.073824,
     "end_time": "2021-11-07T18:00:10.453930",
     "exception": false,
     "start_time": "2021-11-07T18:00:10.380106",
     "status": "completed"
    },
    "tags": []
   },
   "outputs": [
    {
     "data": {
      "text/html": [
       "<div>\n",
       "<style scoped>\n",
       "    .dataframe tbody tr th:only-of-type {\n",
       "        vertical-align: middle;\n",
       "    }\n",
       "\n",
       "    .dataframe tbody tr th {\n",
       "        vertical-align: top;\n",
       "    }\n",
       "\n",
       "    .dataframe thead th {\n",
       "        text-align: right;\n",
       "    }\n",
       "</style>\n",
       "<table border=\"1\" class=\"dataframe\">\n",
       "  <thead>\n",
       "    <tr style=\"text-align: right;\">\n",
       "      <th></th>\n",
       "      <th>RECORD_TIME</th>\n",
       "    </tr>\n",
       "  </thead>\n",
       "  <tbody>\n",
       "    <tr>\n",
       "      <th>0</th>\n",
       "      <td>2021-11-07 19:00</td>\n",
       "    </tr>\n",
       "    <tr>\n",
       "      <th>1</th>\n",
       "      <td>2021-11-07 18:30</td>\n",
       "    </tr>\n",
       "  </tbody>\n",
       "</table>\n",
       "</div>"
      ],
      "text/plain": [
       "        RECORD_TIME\n",
       "0  2021-11-07 19:00\n",
       "1  2021-11-07 18:30"
      ]
     },
     "execution_count": 3,
     "metadata": {},
     "output_type": "execute_result"
    }
   ],
   "source": [
    "timestamps"
   ]
  },
  {
   "cell_type": "code",
   "execution_count": 4,
   "id": "alternate-victory",
   "metadata": {
    "execution": {
     "iopub.execute_input": "2021-11-07T18:00:10.512008Z",
     "iopub.status.busy": "2021-11-07T18:00:10.509760Z",
     "iopub.status.idle": "2021-11-07T18:00:11.614143Z",
     "shell.execute_reply": "2021-11-07T18:00:11.615597Z"
    },
    "papermill": {
     "duration": 1.140094,
     "end_time": "2021-11-07T18:00:11.616108",
     "exception": false,
     "start_time": "2021-11-07T18:00:10.476014",
     "status": "completed"
    },
    "tags": []
   },
   "outputs": [],
   "source": [
    "df = pd.read_sql(\"select * from EBAY_TOP_BERLIN where record_time in (select distinct record_time from EBAY_TOP_BERLIN order by record_time desc limit 2)\", sqlite3.connect(\"UsedObjects.db\"))"
   ]
  },
  {
   "cell_type": "code",
   "execution_count": 5,
   "id": "popular-active",
   "metadata": {
    "execution": {
     "iopub.execute_input": "2021-11-07T18:00:11.682812Z",
     "iopub.status.busy": "2021-11-07T18:00:11.680350Z",
     "iopub.status.idle": "2021-11-07T18:00:11.714296Z",
     "shell.execute_reply": "2021-11-07T18:00:11.715622Z"
    },
    "papermill": {
     "duration": 0.079017,
     "end_time": "2021-11-07T18:00:11.716100",
     "exception": false,
     "start_time": "2021-11-07T18:00:11.637083",
     "status": "completed"
    },
    "tags": []
   },
   "outputs": [],
   "source": [
    "df_pivot = df.pivot_table(index=\"PRODUCT\", columns = \"RECORD_TIME\", values = \"LISTING_COUNT\")"
   ]
  },
  {
   "cell_type": "code",
   "execution_count": 6,
   "id": "union-huntington",
   "metadata": {
    "execution": {
     "iopub.execute_input": "2021-11-07T18:00:11.776039Z",
     "iopub.status.busy": "2021-11-07T18:00:11.773862Z",
     "iopub.status.idle": "2021-11-07T18:00:11.780581Z",
     "shell.execute_reply": "2021-11-07T18:00:11.779116Z"
    },
    "papermill": {
     "duration": 0.043597,
     "end_time": "2021-11-07T18:00:11.781031",
     "exception": false,
     "start_time": "2021-11-07T18:00:11.737434",
     "status": "completed"
    },
    "tags": []
   },
   "outputs": [],
   "source": [
    "df_pivot.columns = [\"stamp_1\", \"stamp_2\"]\n",
    "df_pivot_diff = df_pivot.diff(axis=1)"
   ]
  },
  {
   "cell_type": "code",
   "execution_count": 7,
   "id": "fifth-motion",
   "metadata": {
    "execution": {
     "iopub.execute_input": "2021-11-07T18:00:11.840899Z",
     "iopub.status.busy": "2021-11-07T18:00:11.837742Z",
     "iopub.status.idle": "2021-11-07T18:00:13.622142Z",
     "shell.execute_reply": "2021-11-07T18:00:13.624874Z"
    },
    "papermill": {
     "duration": 1.824548,
     "end_time": "2021-11-07T18:00:13.625798",
     "exception": false,
     "start_time": "2021-11-07T18:00:11.801250",
     "status": "completed"
    },
    "tags": []
   },
   "outputs": [
    {
     "data": {
      "text/plain": [
       "<AxesSubplot:ylabel='PRODUCT'>"
      ]
     },
     "execution_count": 7,
     "metadata": {},
     "output_type": "execute_result"
    },
    {
     "data": {
      "image/png": "[encoded data removed]",
      "text/plain": [
       "<Figure size 432x288 with 1 Axes>"
      ]
     },
     "metadata": {
      "needs_background": "light"
     },
     "output_type": "display_data"
    }
   ],
   "source": [
    "df_pivot_diff.sort_values(\"stamp_2\", ascending = False)[\"stamp_2\"].head(10).plot.barh()"
   ]
  },
  {
   "cell_type": "code",
   "execution_count": null,
   "id": "extra-executive",
   "metadata": {
    "papermill": {
     "duration": 0.035234,
     "end_time": "2021-11-07T18:00:13.699662",
     "exception": false,
     "start_time": "2021-11-07T18:00:13.664428",
     "status": "completed"
    },
    "tags": []
   },
   "outputs": [],
   "source": []
  }
 ],
 "metadata": {
  "kernelspec": {
   "display_name": "Python 3",
   "language": "python",
   "name": "python3"
  },
  "language_info": {
   "codemirror_mode": {
    "name": "ipython",
    "version": 3
   },
   "file_extension": ".py",
   "mimetype": "text/x-python",
   "name": "python",
   "nbconvert_exporter": "python",
   "pygments_lexer": "ipython3",
   "version": "3.9.5"
  },
  "papermill": {
   "default_parameters": {},
   "duration": 8.796672,
   "end_time": "2021-11-07T18:00:14.588622",
   "environment_variables": {},
   "exception": null,
   "input_path": "eBay_Overview.ipynb",
   "output_path": "eBay_Overview.ipynb",
   "parameters": {},
   "start_time": "2021-11-07T18:00:05.791950",
   "version": "2.3.3"
  }
 },
 "nbformat": 4,
 "nbformat_minor": 5
}