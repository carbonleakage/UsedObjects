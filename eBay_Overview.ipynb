{
 "cells": [
  {
   "cell_type": "code",
   "execution_count": 1,
   "id": "reverse-picking",
   "metadata": {
    "execution": {
     "iopub.execute_input": "2021-12-17T00:30:07.788855Z",
     "iopub.status.busy": "2021-12-17T00:30:07.786707Z",
     "iopub.status.idle": "2021-12-17T00:30:08.706872Z",
     "shell.execute_reply": "2021-12-17T00:30:08.709066Z"
    },
    "papermill": {
     "duration": 0.969422,
     "end_time": "2021-12-17T00:30:08.709797",
     "exception": false,
     "start_time": "2021-12-17T00:30:07.740375",
     "status": "completed"
    },
    "tags": []
   },
   "outputs": [],
   "source": [
    "import pandas as pd\n",
    "import sqlite3"
   ]
  },
  {
   "cell_type": "code",
   "execution_count": 2,
   "id": "innovative-syndrome",
   "metadata": {
    "execution": {
     "iopub.execute_input": "2021-12-17T00:30:08.777932Z",
     "iopub.status.busy": "2021-12-17T00:30:08.775741Z",
     "iopub.status.idle": "2021-12-17T00:30:09.956740Z",
     "shell.execute_reply": "2021-12-17T00:30:09.958118Z"
    },
    "papermill": {
     "duration": 1.214519,
     "end_time": "2021-12-17T00:30:09.958590",
     "exception": false,
     "start_time": "2021-12-17T00:30:08.744071",
     "status": "completed"
    },
    "tags": []
   },
   "outputs": [],
   "source": [
    "timestamps = pd.read_sql(\"select distinct record_time from EBAY_TOP_BERLIN order by record_time desc limit 2\", sqlite3.connect(\"UsedObjects.db\"))"
   ]
  },
  {
   "cell_type": "code",
   "execution_count": 3,
   "id": "periodic-identification",
   "metadata": {
    "execution": {
     "iopub.execute_input": "2021-12-17T00:30:10.029224Z",
     "iopub.status.busy": "2021-12-17T00:30:10.026707Z",
     "iopub.status.idle": "2021-12-17T00:30:10.050394Z",
     "shell.execute_reply": "2021-12-17T00:30:10.051737Z"
    },
    "papermill": {
     "duration": 0.074117,
     "end_time": "2021-12-17T00:30:10.052142",
     "exception": false,
     "start_time": "2021-12-17T00:30:09.978025",
     "status": "completed"
    },
    "tags": []
   },
   "outputs": [
    {
     "data": {
      "text/html": [
       "<div>\n",
       "<style scoped>\n",
       "    .dataframe tbody tr th:only-of-type {\n",
       "        vertical-align: middle;\n",
       "    }\n",
       "\n",
       "    .dataframe tbody tr th {\n",
       "        vertical-align: top;\n",
       "    }\n",
       "\n",
       "    .dataframe thead th {\n",
       "        text-align: right;\n",
       "    }\n",
       "</style>\n",
       "<table border=\"1\" class=\"dataframe\">\n",
       "  <thead>\n",
       "    <tr style=\"text-align: right;\">\n",
       "      <th></th>\n",
       "      <th>RECORD_TIME</th>\n",
       "    </tr>\n",
       "  </thead>\n",
       "  <tbody>\n",
       "    <tr>\n",
       "      <th>0</th>\n",
       "      <td>2021-12-17 01:30</td>\n",
       "    </tr>\n",
       "    <tr>\n",
       "      <th>1</th>\n",
       "      <td>2021-12-17 01:00</td>\n",
       "    </tr>\n",
       "  </tbody>\n",
       "</table>\n",
       "</div>"
      ],
      "text/plain": [
       "        RECORD_TIME\n",
       "0  2021-12-17 01:30\n",
       "1  2021-12-17 01:00"
      ]
     },
     "execution_count": 3,
     "metadata": {},
     "output_type": "execute_result"
    }
   ],
   "source": [
    "timestamps"
   ]
  },
  {
   "cell_type": "code",
   "execution_count": 4,
   "id": "alternate-victory",
   "metadata": {
    "execution": {
     "iopub.execute_input": "2021-12-17T00:30:10.139672Z",
     "iopub.status.busy": "2021-12-17T00:30:10.137557Z",
     "iopub.status.idle": "2021-12-17T00:30:11.744775Z",
     "shell.execute_reply": "2021-12-17T00:30:11.746906Z"
    },
    "papermill": {
     "duration": 1.649522,
     "end_time": "2021-12-17T00:30:11.747387",
     "exception": false,
     "start_time": "2021-12-17T00:30:10.097865",
     "status": "completed"
    },
    "tags": []
   },
   "outputs": [],
   "source": [
    "df = pd.read_sql(\"select * from EBAY_TOP_BERLIN where record_time in (select distinct record_time from EBAY_TOP_BERLIN order by record_time desc limit 2)\", sqlite3.connect(\"UsedObjects.db\"))"
   ]
  },
  {
   "cell_type": "code",
   "execution_count": 5,
   "id": "popular-active",
   "metadata": {
    "execution": {
     "iopub.execute_input": "2021-12-17T00:30:11.827165Z",
     "iopub.status.busy": "2021-12-17T00:30:11.811987Z",
     "iopub.status.idle": "2021-12-17T00:30:11.847404Z",
     "shell.execute_reply": "2021-12-17T00:30:11.849052Z"
    },
    "papermill": {
     "duration": 0.081706,
     "end_time": "2021-12-17T00:30:11.849544",
     "exception": false,
     "start_time": "2021-12-17T00:30:11.767838",
     "status": "completed"
    },
    "tags": []
   },
   "outputs": [],
   "source": [
    "df_pivot = df.pivot_table(index=\"PRODUCT\", columns = \"RECORD_TIME\", values = \"LISTING_COUNT\")"
   ]
  },
  {
   "cell_type": "code",
   "execution_count": 6,
   "id": "union-huntington",
   "metadata": {
    "execution": {
     "iopub.execute_input": "2021-12-17T00:30:11.908775Z",
     "iopub.status.busy": "2021-12-17T00:30:11.906306Z",
     "iopub.status.idle": "2021-12-17T00:30:11.912204Z",
     "shell.execute_reply": "2021-12-17T00:30:11.913619Z"
    },
    "papermill": {
     "duration": 0.043708,
     "end_time": "2021-12-17T00:30:11.914108",
     "exception": false,
     "start_time": "2021-12-17T00:30:11.870400",
     "status": "completed"
    },
    "tags": []
   },
   "outputs": [],
   "source": [
    "df_pivot.columns = [\"stamp_1\", \"stamp_2\"]\n",
    "df_pivot_diff = df_pivot.diff(axis=1)"
   ]
  },
  {
   "cell_type": "code",
   "execution_count": 7,
   "id": "fifth-motion",
   "metadata": {
    "execution": {
     "iopub.execute_input": "2021-12-17T00:30:11.972184Z",
     "iopub.status.busy": "2021-12-17T00:30:11.969450Z",
     "iopub.status.idle": "2021-12-17T00:30:13.894748Z",
     "shell.execute_reply": "2021-12-17T00:30:13.896041Z"
    },
    "papermill": {
     "duration": 1.961413,
     "end_time": "2021-12-17T00:30:13.896466",
     "exception": false,
     "start_time": "2021-12-17T00:30:11.935053",
     "status": "completed"
    },
    "tags": []
   },
   "outputs": [
    {
     "data": {
      "text/plain": [
       "<AxesSubplot:ylabel='PRODUCT'>"
      ]
     },
     "execution_count": 7,
     "metadata": {},
     "output_type": "execute_result"
    },
    {
     "data": {
      "image/png": "[encoded data removed]",
      "text/plain": [
       "<Figure size 432x288 with 1 Axes>"
      ]
     },
     "metadata": {
      "needs_background": "light"
     },
     "output_type": "display_data"
    }
   ],
   "source": [
    "df_pivot_diff.sort_values(\"stamp_2\", ascending = False)[\"stamp_2\"].head(10).plot.barh()"
   ]
  },
  {
   "cell_type": "code",
   "execution_count": null,
   "id": "extra-executive",
   "metadata": {
    "papermill": {
     "duration": 0.027001,
     "end_time": "2021-12-17T00:30:13.956939",
     "exception": false,
     "start_time": "2021-12-17T00:30:13.929938",
     "status": "completed"
    },
    "tags": []
   },
   "outputs": [],
   "source": []
  }
 ],
 "metadata": {
  "kernelspec": {
   "display_name": "Python 3",
   "language": "python",
   "name": "python3"
  },
  "language_info": {
   "codemirror_mode": {
    "name": "ipython",
    "version": 3
   },
   "file_extension": ".py",
   "mimetype": "text/x-python",
   "name": "python",
   "nbconvert_exporter": "python",
   "pygments_lexer": "ipython3",
   "version": "3.9.5"
  },
  "papermill": {
   "default_parameters": {},
   "duration": 9.646366,
   "end_time": "2021-12-17T00:30:14.619952",
   "environment_variables": {},
   "exception": null,
   "input_path": "eBay_Overview.ipynb",
   "output_path": "eBay_Overview.ipynb",
   "parameters": {},
   "start_time": "2021-12-17T00:30:04.973586",
   "version": "2.3.3"
  }
 },
 "nbformat": 4,
 "nbformat_minor": 5
}