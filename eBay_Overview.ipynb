{
 "cells": [
  {
   "cell_type": "code",
   "execution_count": 1,
   "id": "reverse-picking",
   "metadata": {
    "execution": {
     "iopub.execute_input": "2021-10-07T21:00:06.756390Z",
     "iopub.status.busy": "2021-10-07T21:00:06.754339Z",
     "iopub.status.idle": "2021-10-07T21:00:07.561432Z",
     "shell.execute_reply": "2021-10-07T21:00:07.562677Z"
    },
    "papermill": {
     "duration": 0.859032,
     "end_time": "2021-10-07T21:00:07.563359",
     "exception": false,
     "start_time": "2021-10-07T21:00:06.704327",
     "status": "completed"
    },
    "tags": []
   },
   "outputs": [],
   "source": [
    "import pandas as pd\n",
    "import sqlite3"
   ]
  },
  {
   "cell_type": "code",
   "execution_count": 2,
   "id": "innovative-syndrome",
   "metadata": {
    "execution": {
     "iopub.execute_input": "2021-10-07T21:00:07.614726Z",
     "iopub.status.busy": "2021-10-07T21:00:07.612853Z",
     "iopub.status.idle": "2021-10-07T21:00:08.092875Z",
     "shell.execute_reply": "2021-10-07T21:00:08.094064Z"
    },
    "papermill": {
     "duration": 0.509055,
     "end_time": "2021-10-07T21:00:08.094462",
     "exception": false,
     "start_time": "2021-10-07T21:00:07.585407",
     "status": "completed"
    },
    "tags": []
   },
   "outputs": [],
   "source": [
    "timestamps = pd.read_sql(\"select distinct record_time from EBAY_TOP_BERLIN order by record_time desc limit 2\", sqlite3.connect(\"UsedObjects.db\"))"
   ]
  },
  {
   "cell_type": "code",
   "execution_count": 3,
   "id": "periodic-identification",
   "metadata": {
    "execution": {
     "iopub.execute_input": "2021-10-07T21:00:08.161937Z",
     "iopub.status.busy": "2021-10-07T21:00:08.159924Z",
     "iopub.status.idle": "2021-10-07T21:00:08.181583Z",
     "shell.execute_reply": "2021-10-07T21:00:08.179853Z"
    },
    "papermill": {
     "duration": 0.065391,
     "end_time": "2021-10-07T21:00:08.182005",
     "exception": false,
     "start_time": "2021-10-07T21:00:08.116614",
     "status": "completed"
    },
    "tags": []
   },
   "outputs": [
    {
     "data": {
      "text/html": [
       "<div>\n",
       "<style scoped>\n",
       "    .dataframe tbody tr th:only-of-type {\n",
       "        vertical-align: middle;\n",
       "    }\n",
       "\n",
       "    .dataframe tbody tr th {\n",
       "        vertical-align: top;\n",
       "    }\n",
       "\n",
       "    .dataframe thead th {\n",
       "        text-align: right;\n",
       "    }\n",
       "</style>\n",
       "<table border=\"1\" class=\"dataframe\">\n",
       "  <thead>\n",
       "    <tr style=\"text-align: right;\">\n",
       "      <th></th>\n",
       "      <th>RECORD_TIME</th>\n",
       "    </tr>\n",
       "  </thead>\n",
       "  <tbody>\n",
       "    <tr>\n",
       "      <th>0</th>\n",
       "      <td>2021-10-07 23:00</td>\n",
       "    </tr>\n",
       "    <tr>\n",
       "      <th>1</th>\n",
       "      <td>2021-10-07 22:30</td>\n",
       "    </tr>\n",
       "  </tbody>\n",
       "</table>\n",
       "</div>"
      ],
      "text/plain": [
       "        RECORD_TIME\n",
       "0  2021-10-07 23:00\n",
       "1  2021-10-07 22:30"
      ]
     },
     "execution_count": 3,
     "metadata": {},
     "output_type": "execute_result"
    }
   ],
   "source": [
    "timestamps"
   ]
  },
  {
   "cell_type": "code",
   "execution_count": 4,
   "id": "alternate-victory",
   "metadata": {
    "execution": {
     "iopub.execute_input": "2021-10-07T21:00:08.249650Z",
     "iopub.status.busy": "2021-10-07T21:00:08.247812Z",
     "iopub.status.idle": "2021-10-07T21:00:08.947601Z",
     "shell.execute_reply": "2021-10-07T21:00:08.948912Z"
    },
    "papermill": {
     "duration": 0.737193,
     "end_time": "2021-10-07T21:00:08.949366",
     "exception": false,
     "start_time": "2021-10-07T21:00:08.212173",
     "status": "completed"
    },
    "tags": []
   },
   "outputs": [],
   "source": [
    "df = pd.read_sql(\"select * from EBAY_TOP_BERLIN where record_time in (select distinct record_time from EBAY_TOP_BERLIN order by record_time desc limit 2)\", sqlite3.connect(\"UsedObjects.db\"))"
   ]
  },
  {
   "cell_type": "code",
   "execution_count": 5,
   "id": "popular-active",
   "metadata": {
    "execution": {
     "iopub.execute_input": "2021-10-07T21:00:09.020667Z",
     "iopub.status.busy": "2021-10-07T21:00:09.009097Z",
     "iopub.status.idle": "2021-10-07T21:00:09.037750Z",
     "shell.execute_reply": "2021-10-07T21:00:09.039444Z"
    },
    "papermill": {
     "duration": 0.070215,
     "end_time": "2021-10-07T21:00:09.039926",
     "exception": false,
     "start_time": "2021-10-07T21:00:08.969711",
     "status": "completed"
    },
    "tags": []
   },
   "outputs": [],
   "source": [
    "df_pivot = df.pivot_table(index=\"PRODUCT\", columns = \"RECORD_TIME\", values = \"LISTING_COUNT\")"
   ]
  },
  {
   "cell_type": "code",
   "execution_count": 6,
   "id": "union-huntington",
   "metadata": {
    "execution": {
     "iopub.execute_input": "2021-10-07T21:00:09.098205Z",
     "iopub.status.busy": "2021-10-07T21:00:09.095784Z",
     "iopub.status.idle": "2021-10-07T21:00:09.102956Z",
     "shell.execute_reply": "2021-10-07T21:00:09.101514Z"
    },
    "papermill": {
     "duration": 0.041708,
     "end_time": "2021-10-07T21:00:09.103317",
     "exception": false,
     "start_time": "2021-10-07T21:00:09.061609",
     "status": "completed"
    },
    "tags": []
   },
   "outputs": [],
   "source": [
    "df_pivot.columns = [\"stamp_1\", \"stamp_2\"]\n",
    "df_pivot_diff = df_pivot.diff(axis=1)"
   ]
  },
  {
   "cell_type": "code",
   "execution_count": 7,
   "id": "fifth-motion",
   "metadata": {
    "execution": {
     "iopub.execute_input": "2021-10-07T21:00:09.157371Z",
     "iopub.status.busy": "2021-10-07T21:00:09.155097Z",
     "iopub.status.idle": "2021-10-07T21:00:10.671399Z",
     "shell.execute_reply": "2021-10-07T21:00:10.672771Z"
    },
    "papermill": {
     "duration": 1.549323,
     "end_time": "2021-10-07T21:00:10.673192",
     "exception": false,
     "start_time": "2021-10-07T21:00:09.123869",
     "status": "completed"
    },
    "tags": []
   },
   "outputs": [
    {
     "data": {
      "text/plain": [
       "<AxesSubplot:ylabel='PRODUCT'>"
      ]
     },
     "execution_count": 7,
     "metadata": {},
     "output_type": "execute_result"
    },
    {
     "data": {
      "image/png": "[encoded data removed]",
      "text/plain": [
       "<Figure size 432x288 with 1 Axes>"
      ]
     },
     "metadata": {
      "needs_background": "light"
     },
     "output_type": "display_data"
    }
   ],
   "source": [
    "df_pivot_diff.sort_values(\"stamp_2\", ascending = False)[\"stamp_2\"].head(10).plot.barh()"
   ]
  },
  {
   "cell_type": "code",
   "execution_count": null,
   "id": "extra-executive",
   "metadata": {
    "papermill": {
     "duration": 0.021898,
     "end_time": "2021-10-07T21:00:10.719401",
     "exception": false,
     "start_time": "2021-10-07T21:00:10.697503",
     "status": "completed"
    },
    "tags": []
   },
   "outputs": [],
   "source": []
  }
 ],
 "metadata": {
  "kernelspec": {
   "display_name": "Python 3",
   "language": "python",
   "name": "python3"
  },
  "language_info": {
   "codemirror_mode": {
    "name": "ipython",
    "version": 3
   },
   "file_extension": ".py",
   "mimetype": "text/x-python",
   "name": "python",
   "nbconvert_exporter": "python",
   "pygments_lexer": "ipython3",
   "version": "3.9.5"
  },
  "papermill": {
   "default_parameters": {},
   "duration": 7.847078,
   "end_time": "2021-10-07T21:00:12.127142",
   "environment_variables": {},
   "exception": null,
   "input_path": "eBay_Overview.ipynb",
   "output_path": "eBay_Overview.ipynb",
   "parameters": {},
   "start_time": "2021-10-07T21:00:04.280064",
   "version": "2.3.3"
  }
 },
 "nbformat": 4,
 "nbformat_minor": 5
}