{
 "cells": [
  {
   "cell_type": "code",
   "execution_count": 1,
   "id": "reverse-picking",
   "metadata": {
    "execution": {
     "iopub.execute_input": "2021-10-07T17:00:07.344410Z",
     "iopub.status.busy": "2021-10-07T17:00:07.342373Z",
     "iopub.status.idle": "2021-10-07T17:00:08.152331Z",
     "shell.execute_reply": "2021-10-07T17:00:08.153571Z"
    },
    "papermill": {
     "duration": 0.862324,
     "end_time": "2021-10-07T17:00:08.154180",
     "exception": false,
     "start_time": "2021-10-07T17:00:07.291856",
     "status": "completed"
    },
    "tags": []
   },
   "outputs": [],
   "source": [
    "import pandas as pd\n",
    "import sqlite3"
   ]
  },
  {
   "cell_type": "code",
   "execution_count": 2,
   "id": "innovative-syndrome",
   "metadata": {
    "execution": {
     "iopub.execute_input": "2021-10-07T17:00:08.207696Z",
     "iopub.status.busy": "2021-10-07T17:00:08.205269Z",
     "iopub.status.idle": "2021-10-07T17:00:08.685402Z",
     "shell.execute_reply": "2021-10-07T17:00:08.686603Z"
    },
    "papermill": {
     "duration": 0.509964,
     "end_time": "2021-10-07T17:00:08.687095",
     "exception": false,
     "start_time": "2021-10-07T17:00:08.177131",
     "status": "completed"
    },
    "tags": []
   },
   "outputs": [],
   "source": [
    "timestamps = pd.read_sql(\"select distinct record_time from EBAY_TOP_BERLIN order by record_time desc limit 2\", sqlite3.connect(\"UsedObjects.db\"))"
   ]
  },
  {
   "cell_type": "code",
   "execution_count": 3,
   "id": "periodic-identification",
   "metadata": {
    "execution": {
     "iopub.execute_input": "2021-10-07T17:00:08.752537Z",
     "iopub.status.busy": "2021-10-07T17:00:08.750319Z",
     "iopub.status.idle": "2021-10-07T17:00:08.771107Z",
     "shell.execute_reply": "2021-10-07T17:00:08.772329Z"
    },
    "papermill": {
     "duration": 0.064689,
     "end_time": "2021-10-07T17:00:08.772724",
     "exception": false,
     "start_time": "2021-10-07T17:00:08.708035",
     "status": "completed"
    },
    "tags": []
   },
   "outputs": [
    {
     "data": {
      "text/html": [
       "<div>\n",
       "<style scoped>\n",
       "    .dataframe tbody tr th:only-of-type {\n",
       "        vertical-align: middle;\n",
       "    }\n",
       "\n",
       "    .dataframe tbody tr th {\n",
       "        vertical-align: top;\n",
       "    }\n",
       "\n",
       "    .dataframe thead th {\n",
       "        text-align: right;\n",
       "    }\n",
       "</style>\n",
       "<table border=\"1\" class=\"dataframe\">\n",
       "  <thead>\n",
       "    <tr style=\"text-align: right;\">\n",
       "      <th></th>\n",
       "      <th>RECORD_TIME</th>\n",
       "    </tr>\n",
       "  </thead>\n",
       "  <tbody>\n",
       "    <tr>\n",
       "      <th>0</th>\n",
       "      <td>2021-10-07 19:00</td>\n",
       "    </tr>\n",
       "    <tr>\n",
       "      <th>1</th>\n",
       "      <td>2021-10-07 18:30</td>\n",
       "    </tr>\n",
       "  </tbody>\n",
       "</table>\n",
       "</div>"
      ],
      "text/plain": [
       "        RECORD_TIME\n",
       "0  2021-10-07 19:00\n",
       "1  2021-10-07 18:30"
      ]
     },
     "execution_count": 3,
     "metadata": {},
     "output_type": "execute_result"
    }
   ],
   "source": [
    "timestamps"
   ]
  },
  {
   "cell_type": "code",
   "execution_count": 4,
   "id": "alternate-victory",
   "metadata": {
    "execution": {
     "iopub.execute_input": "2021-10-07T17:00:08.832887Z",
     "iopub.status.busy": "2021-10-07T17:00:08.830973Z",
     "iopub.status.idle": "2021-10-07T17:00:09.577502Z",
     "shell.execute_reply": "2021-10-07T17:00:09.578763Z"
    },
    "papermill": {
     "duration": 0.779961,
     "end_time": "2021-10-07T17:00:09.579253",
     "exception": false,
     "start_time": "2021-10-07T17:00:08.799292",
     "status": "completed"
    },
    "tags": []
   },
   "outputs": [],
   "source": [
    "df = pd.read_sql(\"select * from EBAY_TOP_BERLIN where record_time in (select distinct record_time from EBAY_TOP_BERLIN order by record_time desc limit 2)\", sqlite3.connect(\"UsedObjects.db\"))"
   ]
  },
  {
   "cell_type": "code",
   "execution_count": 5,
   "id": "popular-active",
   "metadata": {
    "execution": {
     "iopub.execute_input": "2021-10-07T17:00:09.650306Z",
     "iopub.status.busy": "2021-10-07T17:00:09.637668Z",
     "iopub.status.idle": "2021-10-07T17:00:09.666397Z",
     "shell.execute_reply": "2021-10-07T17:00:09.667857Z"
    },
    "papermill": {
     "duration": 0.068446,
     "end_time": "2021-10-07T17:00:09.668315",
     "exception": false,
     "start_time": "2021-10-07T17:00:09.599869",
     "status": "completed"
    },
    "tags": []
   },
   "outputs": [],
   "source": [
    "df_pivot = df.pivot_table(index=\"PRODUCT\", columns = \"RECORD_TIME\", values = \"LISTING_COUNT\")"
   ]
  },
  {
   "cell_type": "code",
   "execution_count": 6,
   "id": "union-huntington",
   "metadata": {
    "execution": {
     "iopub.execute_input": "2021-10-07T17:00:09.725737Z",
     "iopub.status.busy": "2021-10-07T17:00:09.723298Z",
     "iopub.status.idle": "2021-10-07T17:00:09.729304Z",
     "shell.execute_reply": "2021-10-07T17:00:09.730644Z"
    },
    "papermill": {
     "duration": 0.042442,
     "end_time": "2021-10-07T17:00:09.731187",
     "exception": false,
     "start_time": "2021-10-07T17:00:09.688745",
     "status": "completed"
    },
    "tags": []
   },
   "outputs": [],
   "source": [
    "df_pivot.columns = [\"stamp_1\", \"stamp_2\"]\n",
    "df_pivot_diff = df_pivot.diff(axis=1)"
   ]
  },
  {
   "cell_type": "code",
   "execution_count": 7,
   "id": "fifth-motion",
   "metadata": {
    "execution": {
     "iopub.execute_input": "2021-10-07T17:00:09.786011Z",
     "iopub.status.busy": "2021-10-07T17:00:09.783794Z",
     "iopub.status.idle": "2021-10-07T17:00:11.284359Z",
     "shell.execute_reply": "2021-10-07T17:00:11.285612Z"
    },
    "papermill": {
     "duration": 1.532929,
     "end_time": "2021-10-07T17:00:11.286059",
     "exception": false,
     "start_time": "2021-10-07T17:00:09.753130",
     "status": "completed"
    },
    "tags": []
   },
   "outputs": [
    {
     "data": {
      "text/plain": [
       "<AxesSubplot:ylabel='PRODUCT'>"
      ]
     },
     "execution_count": 7,
     "metadata": {},
     "output_type": "execute_result"
    },
    {
     "data": {
      "image/png": "[encoded data removed]",
      "text/plain": [
       "<Figure size 432x288 with 1 Axes>"
      ]
     },
     "metadata": {
      "needs_background": "light"
     },
     "output_type": "display_data"
    }
   ],
   "source": [
    "df_pivot_diff.sort_values(\"stamp_2\", ascending = False)[\"stamp_2\"].head(10).plot.barh()"
   ]
  },
  {
   "cell_type": "code",
   "execution_count": null,
   "id": "extra-executive",
   "metadata": {
    "papermill": {
     "duration": 0.022212,
     "end_time": "2021-10-07T17:00:11.332623",
     "exception": false,
     "start_time": "2021-10-07T17:00:11.310411",
     "status": "completed"
    },
    "tags": []
   },
   "outputs": [],
   "source": []
  }
 ],
 "metadata": {
  "kernelspec": {
   "display_name": "Python 3",
   "language": "python",
   "name": "python3"
  },
  "language_info": {
   "codemirror_mode": {
    "name": "ipython",
    "version": 3
   },
   "file_extension": ".py",
   "mimetype": "text/x-python",
   "name": "python",
   "nbconvert_exporter": "python",
   "pygments_lexer": "ipython3",
   "version": "3.9.5"
  },
  "papermill": {
   "default_parameters": {},
   "duration": 7.841566,
   "end_time": "2021-10-07T17:00:12.711168",
   "environment_variables": {},
   "exception": null,
   "input_path": "eBay_Overview.ipynb",
   "output_path": "eBay_Overview.ipynb",
   "parameters": {},
   "start_time": "2021-10-07T17:00:04.869602",
   "version": "2.3.3"
  }
 },
 "nbformat": 4,
 "nbformat_minor": 5
}