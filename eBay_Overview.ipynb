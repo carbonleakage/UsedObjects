{
 "cells": [
  {
   "cell_type": "code",
   "execution_count": 1,
   "id": "reverse-picking",
   "metadata": {
    "execution": {
     "iopub.execute_input": "2021-10-28T13:30:06.999011Z",
     "iopub.status.busy": "2021-10-28T13:30:06.997003Z",
     "iopub.status.idle": "2021-10-28T13:30:07.801622Z",
     "shell.execute_reply": "2021-10-28T13:30:07.802888Z"
    },
    "papermill": {
     "duration": 0.855361,
     "end_time": "2021-10-28T13:30:07.803510",
     "exception": false,
     "start_time": "2021-10-28T13:30:06.948149",
     "status": "completed"
    },
    "tags": []
   },
   "outputs": [],
   "source": [
    "import pandas as pd\n",
    "import sqlite3"
   ]
  },
  {
   "cell_type": "code",
   "execution_count": 2,
   "id": "innovative-syndrome",
   "metadata": {
    "execution": {
     "iopub.execute_input": "2021-10-28T13:30:07.857182Z",
     "iopub.status.busy": "2021-10-28T13:30:07.854784Z",
     "iopub.status.idle": "2021-10-28T13:30:08.500829Z",
     "shell.execute_reply": "2021-10-28T13:30:08.502221Z"
    },
    "papermill": {
     "duration": 0.67614,
     "end_time": "2021-10-28T13:30:08.502655",
     "exception": false,
     "start_time": "2021-10-28T13:30:07.826515",
     "status": "completed"
    },
    "tags": []
   },
   "outputs": [],
   "source": [
    "timestamps = pd.read_sql(\"select distinct record_time from EBAY_TOP_BERLIN order by record_time desc limit 2\", sqlite3.connect(\"UsedObjects.db\"))"
   ]
  },
  {
   "cell_type": "code",
   "execution_count": 3,
   "id": "periodic-identification",
   "metadata": {
    "execution": {
     "iopub.execute_input": "2021-10-28T13:30:08.576113Z",
     "iopub.status.busy": "2021-10-28T13:30:08.574124Z",
     "iopub.status.idle": "2021-10-28T13:30:08.593684Z",
     "shell.execute_reply": "2021-10-28T13:30:08.594963Z"
    },
    "papermill": {
     "duration": 0.067108,
     "end_time": "2021-10-28T13:30:08.595356",
     "exception": false,
     "start_time": "2021-10-28T13:30:08.528248",
     "status": "completed"
    },
    "tags": []
   },
   "outputs": [
    {
     "data": {
      "text/html": [
       "<div>\n",
       "<style scoped>\n",
       "    .dataframe tbody tr th:only-of-type {\n",
       "        vertical-align: middle;\n",
       "    }\n",
       "\n",
       "    .dataframe tbody tr th {\n",
       "        vertical-align: top;\n",
       "    }\n",
       "\n",
       "    .dataframe thead th {\n",
       "        text-align: right;\n",
       "    }\n",
       "</style>\n",
       "<table border=\"1\" class=\"dataframe\">\n",
       "  <thead>\n",
       "    <tr style=\"text-align: right;\">\n",
       "      <th></th>\n",
       "      <th>RECORD_TIME</th>\n",
       "    </tr>\n",
       "  </thead>\n",
       "  <tbody>\n",
       "    <tr>\n",
       "      <th>0</th>\n",
       "      <td>2021-10-28 15:30</td>\n",
       "    </tr>\n",
       "    <tr>\n",
       "      <th>1</th>\n",
       "      <td>2021-10-28 15:00</td>\n",
       "    </tr>\n",
       "  </tbody>\n",
       "</table>\n",
       "</div>"
      ],
      "text/plain": [
       "        RECORD_TIME\n",
       "0  2021-10-28 15:30\n",
       "1  2021-10-28 15:00"
      ]
     },
     "execution_count": 3,
     "metadata": {},
     "output_type": "execute_result"
    }
   ],
   "source": [
    "timestamps"
   ]
  },
  {
   "cell_type": "code",
   "execution_count": 4,
   "id": "alternate-victory",
   "metadata": {
    "execution": {
     "iopub.execute_input": "2021-10-28T13:30:08.646912Z",
     "iopub.status.busy": "2021-10-28T13:30:08.644763Z",
     "iopub.status.idle": "2021-10-28T13:30:09.636266Z",
     "shell.execute_reply": "2021-10-28T13:30:09.637701Z"
    },
    "papermill": {
     "duration": 1.021945,
     "end_time": "2021-10-28T13:30:09.638276",
     "exception": false,
     "start_time": "2021-10-28T13:30:08.616331",
     "status": "completed"
    },
    "tags": []
   },
   "outputs": [],
   "source": [
    "df = pd.read_sql(\"select * from EBAY_TOP_BERLIN where record_time in (select distinct record_time from EBAY_TOP_BERLIN order by record_time desc limit 2)\", sqlite3.connect(\"UsedObjects.db\"))"
   ]
  },
  {
   "cell_type": "code",
   "execution_count": 5,
   "id": "popular-active",
   "metadata": {
    "execution": {
     "iopub.execute_input": "2021-10-28T13:30:09.710645Z",
     "iopub.status.busy": "2021-10-28T13:30:09.699483Z",
     "iopub.status.idle": "2021-10-28T13:30:09.727125Z",
     "shell.execute_reply": "2021-10-28T13:30:09.728549Z"
    },
    "papermill": {
     "duration": 0.068806,
     "end_time": "2021-10-28T13:30:09.729062",
     "exception": false,
     "start_time": "2021-10-28T13:30:09.660256",
     "status": "completed"
    },
    "tags": []
   },
   "outputs": [],
   "source": [
    "df_pivot = df.pivot_table(index=\"PRODUCT\", columns = \"RECORD_TIME\", values = \"LISTING_COUNT\")"
   ]
  },
  {
   "cell_type": "code",
   "execution_count": 6,
   "id": "union-huntington",
   "metadata": {
    "execution": {
     "iopub.execute_input": "2021-10-28T13:30:09.787678Z",
     "iopub.status.busy": "2021-10-28T13:30:09.785223Z",
     "iopub.status.idle": "2021-10-28T13:30:09.791233Z",
     "shell.execute_reply": "2021-10-28T13:30:09.792428Z"
    },
    "papermill": {
     "duration": 0.042352,
     "end_time": "2021-10-28T13:30:09.792924",
     "exception": false,
     "start_time": "2021-10-28T13:30:09.750572",
     "status": "completed"
    },
    "tags": []
   },
   "outputs": [],
   "source": [
    "df_pivot.columns = [\"stamp_1\", \"stamp_2\"]\n",
    "df_pivot_diff = df_pivot.diff(axis=1)"
   ]
  },
  {
   "cell_type": "code",
   "execution_count": 7,
   "id": "fifth-motion",
   "metadata": {
    "execution": {
     "iopub.execute_input": "2021-10-28T13:30:09.847348Z",
     "iopub.status.busy": "2021-10-28T13:30:09.845100Z",
     "iopub.status.idle": "2021-10-28T13:30:11.343774Z",
     "shell.execute_reply": "2021-10-28T13:30:11.345117Z"
    },
    "papermill": {
     "duration": 1.531933,
     "end_time": "2021-10-28T13:30:11.345540",
     "exception": false,
     "start_time": "2021-10-28T13:30:09.813607",
     "status": "completed"
    },
    "tags": []
   },
   "outputs": [
    {
     "data": {
      "text/plain": [
       "<AxesSubplot:ylabel='PRODUCT'>"
      ]
     },
     "execution_count": 7,
     "metadata": {},
     "output_type": "execute_result"
    },
    {
     "data": {
      "image/png": "[encoded data removed]",
      "text/plain": [
       "<Figure size 432x288 with 1 Axes>"
      ]
     },
     "metadata": {
      "needs_background": "light"
     },
     "output_type": "display_data"
    }
   ],
   "source": [
    "df_pivot_diff.sort_values(\"stamp_2\", ascending = False)[\"stamp_2\"].head(10).plot.barh()"
   ]
  },
  {
   "cell_type": "code",
   "execution_count": null,
   "id": "extra-executive",
   "metadata": {
    "papermill": {
     "duration": 0.022132,
     "end_time": "2021-10-28T13:30:11.392958",
     "exception": false,
     "start_time": "2021-10-28T13:30:11.370826",
     "status": "completed"
    },
    "tags": []
   },
   "outputs": [],
   "source": []
  }
 ],
 "metadata": {
  "kernelspec": {
   "display_name": "Python 3",
   "language": "python",
   "name": "python3"
  },
  "language_info": {
   "codemirror_mode": {
    "name": "ipython",
    "version": 3
   },
   "file_extension": ".py",
   "mimetype": "text/x-python",
   "name": "python",
   "nbconvert_exporter": "python",
   "pygments_lexer": "ipython3",
   "version": "3.9.5"
  },
  "papermill": {
   "default_parameters": {},
   "duration": 7.486716,
   "end_time": "2021-10-28T13:30:12.036328",
   "environment_variables": {},
   "exception": null,
   "input_path": "eBay_Overview.ipynb",
   "output_path": "eBay_Overview.ipynb",
   "parameters": {},
   "start_time": "2021-10-28T13:30:04.549612",
   "version": "2.3.3"
  }
 },
 "nbformat": 4,
 "nbformat_minor": 5
}