{
 "cells": [
  {
   "cell_type": "code",
   "execution_count": 1,
   "id": "reverse-picking",
   "metadata": {
    "execution": {
     "iopub.execute_input": "2021-08-24T07:00:06.583850Z",
     "iopub.status.busy": "2021-08-24T07:00:06.581845Z",
     "iopub.status.idle": "2021-08-24T07:00:07.387588Z",
     "shell.execute_reply": "2021-08-24T07:00:07.388834Z"
    },
    "papermill": {
     "duration": 0.85819,
     "end_time": "2021-08-24T07:00:07.389451",
     "exception": false,
     "start_time": "2021-08-24T07:00:06.531261",
     "status": "completed"
    },
    "tags": []
   },
   "outputs": [],
   "source": [
    "import pandas as pd\n",
    "import sqlite3"
   ]
  },
  {
   "cell_type": "code",
   "execution_count": 2,
   "id": "innovative-syndrome",
   "metadata": {
    "execution": {
     "iopub.execute_input": "2021-08-24T07:00:07.439731Z",
     "iopub.status.busy": "2021-08-24T07:00:07.437798Z",
     "iopub.status.idle": "2021-08-24T07:00:07.557101Z",
     "shell.execute_reply": "2021-08-24T07:00:07.558386Z"
    },
    "papermill": {
     "duration": 0.149056,
     "end_time": "2021-08-24T07:00:07.558789",
     "exception": false,
     "start_time": "2021-08-24T07:00:07.409733",
     "status": "completed"
    },
    "tags": []
   },
   "outputs": [],
   "source": [
    "timestamps = pd.read_sql(\"select distinct record_time from EBAY_TOP_BERLIN order by record_time desc limit 2\", sqlite3.connect(\"UsedObjects.db\"))"
   ]
  },
  {
   "cell_type": "code",
   "execution_count": 3,
   "id": "periodic-identification",
   "metadata": {
    "execution": {
     "iopub.execute_input": "2021-08-24T07:00:07.621975Z",
     "iopub.status.busy": "2021-08-24T07:00:07.619910Z",
     "iopub.status.idle": "2021-08-24T07:00:07.639742Z",
     "shell.execute_reply": "2021-08-24T07:00:07.640963Z"
    },
    "papermill": {
     "duration": 0.062924,
     "end_time": "2021-08-24T07:00:07.641356",
     "exception": false,
     "start_time": "2021-08-24T07:00:07.578432",
     "status": "completed"
    },
    "tags": []
   },
   "outputs": [
    {
     "data": {
      "text/html": [
       "<div>\n",
       "<style scoped>\n",
       "    .dataframe tbody tr th:only-of-type {\n",
       "        vertical-align: middle;\n",
       "    }\n",
       "\n",
       "    .dataframe tbody tr th {\n",
       "        vertical-align: top;\n",
       "    }\n",
       "\n",
       "    .dataframe thead th {\n",
       "        text-align: right;\n",
       "    }\n",
       "</style>\n",
       "<table border=\"1\" class=\"dataframe\">\n",
       "  <thead>\n",
       "    <tr style=\"text-align: right;\">\n",
       "      <th></th>\n",
       "      <th>RECORD_TIME</th>\n",
       "    </tr>\n",
       "  </thead>\n",
       "  <tbody>\n",
       "    <tr>\n",
       "      <th>0</th>\n",
       "      <td>2021-08-24 09:00</td>\n",
       "    </tr>\n",
       "    <tr>\n",
       "      <th>1</th>\n",
       "      <td>2021-08-24 08:30</td>\n",
       "    </tr>\n",
       "  </tbody>\n",
       "</table>\n",
       "</div>"
      ],
      "text/plain": [
       "        RECORD_TIME\n",
       "0  2021-08-24 09:00\n",
       "1  2021-08-24 08:30"
      ]
     },
     "execution_count": 3,
     "metadata": {},
     "output_type": "execute_result"
    }
   ],
   "source": [
    "timestamps"
   ]
  },
  {
   "cell_type": "code",
   "execution_count": 4,
   "id": "alternate-victory",
   "metadata": {
    "execution": {
     "iopub.execute_input": "2021-08-24T07:00:07.694367Z",
     "iopub.status.busy": "2021-08-24T07:00:07.692038Z",
     "iopub.status.idle": "2021-08-24T07:00:07.874021Z",
     "shell.execute_reply": "2021-08-24T07:00:07.875420Z"
    },
    "papermill": {
     "duration": 0.212475,
     "end_time": "2021-08-24T07:00:07.875836",
     "exception": false,
     "start_time": "2021-08-24T07:00:07.663361",
     "status": "completed"
    },
    "tags": []
   },
   "outputs": [],
   "source": [
    "df = pd.read_sql(\"select * from EBAY_TOP_BERLIN where record_time in (select distinct record_time from EBAY_TOP_BERLIN order by record_time desc limit 2)\", sqlite3.connect(\"UsedObjects.db\"))"
   ]
  },
  {
   "cell_type": "code",
   "execution_count": 5,
   "id": "popular-active",
   "metadata": {
    "execution": {
     "iopub.execute_input": "2021-08-24T07:00:07.946317Z",
     "iopub.status.busy": "2021-08-24T07:00:07.933632Z",
     "iopub.status.idle": "2021-08-24T07:00:07.963621Z",
     "shell.execute_reply": "2021-08-24T07:00:07.964997Z"
    },
    "papermill": {
     "duration": 0.069134,
     "end_time": "2021-08-24T07:00:07.965428",
     "exception": false,
     "start_time": "2021-08-24T07:00:07.896294",
     "status": "completed"
    },
    "tags": []
   },
   "outputs": [],
   "source": [
    "df_pivot = df.pivot_table(index=\"PRODUCT\", columns = \"RECORD_TIME\", values = \"LISTING_COUNT\")"
   ]
  },
  {
   "cell_type": "code",
   "execution_count": 6,
   "id": "union-huntington",
   "metadata": {
    "execution": {
     "iopub.execute_input": "2021-08-24T07:00:08.021388Z",
     "iopub.status.busy": "2021-08-24T07:00:08.019389Z",
     "iopub.status.idle": "2021-08-24T07:00:08.024502Z",
     "shell.execute_reply": "2021-08-24T07:00:08.025710Z"
    },
    "papermill": {
     "duration": 0.040388,
     "end_time": "2021-08-24T07:00:08.026220",
     "exception": false,
     "start_time": "2021-08-24T07:00:07.985832",
     "status": "completed"
    },
    "tags": []
   },
   "outputs": [],
   "source": [
    "df_pivot.columns = [\"stamp_1\", \"stamp_2\"]\n",
    "df_pivot_diff = df_pivot.diff(axis=1)"
   ]
  },
  {
   "cell_type": "code",
   "execution_count": 7,
   "id": "fifth-motion",
   "metadata": {
    "execution": {
     "iopub.execute_input": "2021-08-24T07:00:08.083674Z",
     "iopub.status.busy": "2021-08-24T07:00:08.081132Z",
     "iopub.status.idle": "2021-08-24T07:00:09.569466Z",
     "shell.execute_reply": "2021-08-24T07:00:09.570912Z"
    },
    "papermill": {
     "duration": 1.521912,
     "end_time": "2021-08-24T07:00:09.571352",
     "exception": false,
     "start_time": "2021-08-24T07:00:08.049440",
     "status": "completed"
    },
    "tags": []
   },
   "outputs": [
    {
     "data": {
      "text/plain": [
       "<AxesSubplot:ylabel='PRODUCT'>"
      ]
     },
     "execution_count": 7,
     "metadata": {},
     "output_type": "execute_result"
    },
    {
     "data": {
      "image/png": "[encoded data removed]",
      "text/plain": [
       "<Figure size 432x288 with 1 Axes>"
      ]
     },
     "metadata": {
      "needs_background": "light"
     },
     "output_type": "display_data"
    }
   ],
   "source": [
    "df_pivot_diff.sort_values(\"stamp_2\", ascending = False)[\"stamp_2\"].head(10).plot.barh()"
   ]
  },
  {
   "cell_type": "code",
   "execution_count": null,
   "id": "extra-executive",
   "metadata": {
    "papermill": {
     "duration": 0.022494,
     "end_time": "2021-08-24T07:00:09.618819",
     "exception": false,
     "start_time": "2021-08-24T07:00:09.596325",
     "status": "completed"
    },
    "tags": []
   },
   "outputs": [],
   "source": []
  }
 ],
 "metadata": {
  "kernelspec": {
   "display_name": "Python 3",
   "language": "python",
   "name": "python3"
  },
  "language_info": {
   "codemirror_mode": {
    "name": "ipython",
    "version": 3
   },
   "file_extension": ".py",
   "mimetype": "text/x-python",
   "name": "python",
   "nbconvert_exporter": "python",
   "pygments_lexer": "ipython3",
   "version": "3.9.5"
  },
  "papermill": {
   "default_parameters": {},
   "duration": 6.825177,
   "end_time": "2021-08-24T07:00:10.943750",
   "environment_variables": {},
   "exception": null,
   "input_path": "eBay_Overview.ipynb",
   "output_path": "eBay_Overview.ipynb",
   "parameters": {},
   "start_time": "2021-08-24T07:00:04.118573",
   "version": "2.3.3"
  }
 },
 "nbformat": 4,
 "nbformat_minor": 5
}