{
 "cells": [
  {
   "cell_type": "code",
   "execution_count": 1,
   "id": "reverse-picking",
   "metadata": {
    "execution": {
     "iopub.execute_input": "2021-08-25T18:00:06.599628Z",
     "iopub.status.busy": "2021-08-25T18:00:06.597723Z",
     "iopub.status.idle": "2021-08-25T18:00:07.399874Z",
     "shell.execute_reply": "2021-08-25T18:00:07.401367Z"
    },
    "papermill": {
     "duration": 0.854314,
     "end_time": "2021-08-25T18:00:07.402156",
     "exception": false,
     "start_time": "2021-08-25T18:00:06.547842",
     "status": "completed"
    },
    "tags": []
   },
   "outputs": [],
   "source": [
    "import pandas as pd\n",
    "import sqlite3"
   ]
  },
  {
   "cell_type": "code",
   "execution_count": 2,
   "id": "innovative-syndrome",
   "metadata": {
    "execution": {
     "iopub.execute_input": "2021-08-25T18:00:07.453914Z",
     "iopub.status.busy": "2021-08-25T18:00:07.451503Z",
     "iopub.status.idle": "2021-08-25T18:00:07.582822Z",
     "shell.execute_reply": "2021-08-25T18:00:07.584080Z"
    },
    "papermill": {
     "duration": 0.161374,
     "end_time": "2021-08-25T18:00:07.584571",
     "exception": false,
     "start_time": "2021-08-25T18:00:07.423197",
     "status": "completed"
    },
    "tags": []
   },
   "outputs": [],
   "source": [
    "timestamps = pd.read_sql(\"select distinct record_time from EBAY_TOP_BERLIN order by record_time desc limit 2\", sqlite3.connect(\"UsedObjects.db\"))"
   ]
  },
  {
   "cell_type": "code",
   "execution_count": 3,
   "id": "periodic-identification",
   "metadata": {
    "execution": {
     "iopub.execute_input": "2021-08-25T18:00:07.651265Z",
     "iopub.status.busy": "2021-08-25T18:00:07.649241Z",
     "iopub.status.idle": "2021-08-25T18:00:07.669373Z",
     "shell.execute_reply": "2021-08-25T18:00:07.670701Z"
    },
    "papermill": {
     "duration": 0.067222,
     "end_time": "2021-08-25T18:00:07.671114",
     "exception": false,
     "start_time": "2021-08-25T18:00:07.603892",
     "status": "completed"
    },
    "tags": []
   },
   "outputs": [
    {
     "data": {
      "text/html": [
       "<div>\n",
       "<style scoped>\n",
       "    .dataframe tbody tr th:only-of-type {\n",
       "        vertical-align: middle;\n",
       "    }\n",
       "\n",
       "    .dataframe tbody tr th {\n",
       "        vertical-align: top;\n",
       "    }\n",
       "\n",
       "    .dataframe thead th {\n",
       "        text-align: right;\n",
       "    }\n",
       "</style>\n",
       "<table border=\"1\" class=\"dataframe\">\n",
       "  <thead>\n",
       "    <tr style=\"text-align: right;\">\n",
       "      <th></th>\n",
       "      <th>RECORD_TIME</th>\n",
       "    </tr>\n",
       "  </thead>\n",
       "  <tbody>\n",
       "    <tr>\n",
       "      <th>0</th>\n",
       "      <td>2021-08-25 20:00</td>\n",
       "    </tr>\n",
       "    <tr>\n",
       "      <th>1</th>\n",
       "      <td>2021-08-25 19:30</td>\n",
       "    </tr>\n",
       "  </tbody>\n",
       "</table>\n",
       "</div>"
      ],
      "text/plain": [
       "        RECORD_TIME\n",
       "0  2021-08-25 20:00\n",
       "1  2021-08-25 19:30"
      ]
     },
     "execution_count": 3,
     "metadata": {},
     "output_type": "execute_result"
    }
   ],
   "source": [
    "timestamps"
   ]
  },
  {
   "cell_type": "code",
   "execution_count": 4,
   "id": "alternate-victory",
   "metadata": {
    "execution": {
     "iopub.execute_input": "2021-08-25T18:00:07.722299Z",
     "iopub.status.busy": "2021-08-25T18:00:07.720058Z",
     "iopub.status.idle": "2021-08-25T18:00:07.912797Z",
     "shell.execute_reply": "2021-08-25T18:00:07.914288Z"
    },
    "papermill": {
     "duration": 0.222639,
     "end_time": "2021-08-25T18:00:07.914728",
     "exception": false,
     "start_time": "2021-08-25T18:00:07.692089",
     "status": "completed"
    },
    "tags": []
   },
   "outputs": [],
   "source": [
    "df = pd.read_sql(\"select * from EBAY_TOP_BERLIN where record_time in (select distinct record_time from EBAY_TOP_BERLIN order by record_time desc limit 2)\", sqlite3.connect(\"UsedObjects.db\"))"
   ]
  },
  {
   "cell_type": "code",
   "execution_count": 5,
   "id": "popular-active",
   "metadata": {
    "execution": {
     "iopub.execute_input": "2021-08-25T18:00:07.986022Z",
     "iopub.status.busy": "2021-08-25T18:00:07.974260Z",
     "iopub.status.idle": "2021-08-25T18:00:08.001887Z",
     "shell.execute_reply": "2021-08-25T18:00:08.003083Z"
    },
    "papermill": {
     "duration": 0.068187,
     "end_time": "2021-08-25T18:00:08.003475",
     "exception": false,
     "start_time": "2021-08-25T18:00:07.935288",
     "status": "completed"
    },
    "tags": []
   },
   "outputs": [],
   "source": [
    "df_pivot = df.pivot_table(index=\"PRODUCT\", columns = \"RECORD_TIME\", values = \"LISTING_COUNT\")"
   ]
  },
  {
   "cell_type": "code",
   "execution_count": 6,
   "id": "union-huntington",
   "metadata": {
    "execution": {
     "iopub.execute_input": "2021-08-25T18:00:08.067854Z",
     "iopub.status.busy": "2021-08-25T18:00:08.065763Z",
     "iopub.status.idle": "2021-08-25T18:00:08.071032Z",
     "shell.execute_reply": "2021-08-25T18:00:08.072474Z"
    },
    "papermill": {
     "duration": 0.043978,
     "end_time": "2021-08-25T18:00:08.072913",
     "exception": false,
     "start_time": "2021-08-25T18:00:08.028935",
     "status": "completed"
    },
    "tags": []
   },
   "outputs": [],
   "source": [
    "df_pivot.columns = [\"stamp_1\", \"stamp_2\"]\n",
    "df_pivot_diff = df_pivot.diff(axis=1)"
   ]
  },
  {
   "cell_type": "code",
   "execution_count": 7,
   "id": "fifth-motion",
   "metadata": {
    "execution": {
     "iopub.execute_input": "2021-08-25T18:00:08.129612Z",
     "iopub.status.busy": "2021-08-25T18:00:08.126901Z",
     "iopub.status.idle": "2021-08-25T18:00:09.644523Z",
     "shell.execute_reply": "2021-08-25T18:00:09.645807Z"
    },
    "papermill": {
     "duration": 1.550985,
     "end_time": "2021-08-25T18:00:09.646214",
     "exception": false,
     "start_time": "2021-08-25T18:00:08.095229",
     "status": "completed"
    },
    "tags": []
   },
   "outputs": [
    {
     "data": {
      "text/plain": [
       "<AxesSubplot:ylabel='PRODUCT'>"
      ]
     },
     "execution_count": 7,
     "metadata": {},
     "output_type": "execute_result"
    },
    {
     "data": {
      "image/png": "[encoded data removed]",
      "text/plain": [
       "<Figure size 432x288 with 1 Axes>"
      ]
     },
     "metadata": {
      "needs_background": "light"
     },
     "output_type": "display_data"
    }
   ],
   "source": [
    "df_pivot_diff.sort_values(\"stamp_2\", ascending = False)[\"stamp_2\"].head(10).plot.barh()"
   ]
  },
  {
   "cell_type": "code",
   "execution_count": null,
   "id": "extra-executive",
   "metadata": {
    "papermill": {
     "duration": 0.02199,
     "end_time": "2021-08-25T18:00:09.692047",
     "exception": false,
     "start_time": "2021-08-25T18:00:09.670057",
     "status": "completed"
    },
    "tags": []
   },
   "outputs": [],
   "source": []
  }
 ],
 "metadata": {
  "kernelspec": {
   "display_name": "Python 3",
   "language": "python",
   "name": "python3"
  },
  "language_info": {
   "codemirror_mode": {
    "name": "ipython",
    "version": 3
   },
   "file_extension": ".py",
   "mimetype": "text/x-python",
   "name": "python",
   "nbconvert_exporter": "python",
   "pygments_lexer": "ipython3",
   "version": "3.9.5"
  },
  "papermill": {
   "default_parameters": {},
   "duration": 6.818063,
   "end_time": "2021-08-25T18:00:10.960063",
   "environment_variables": {},
   "exception": null,
   "input_path": "eBay_Overview.ipynb",
   "output_path": "eBay_Overview.ipynb",
   "parameters": {},
   "start_time": "2021-08-25T18:00:04.142000",
   "version": "2.3.3"
  }
 },
 "nbformat": 4,
 "nbformat_minor": 5
}