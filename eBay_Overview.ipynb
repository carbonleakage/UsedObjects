{
 "cells": [
  {
   "cell_type": "code",
   "execution_count": 1,
   "id": "reverse-picking",
   "metadata": {
    "execution": {
     "iopub.execute_input": "2021-12-04T22:00:07.448101Z",
     "iopub.status.busy": "2021-12-04T22:00:07.444753Z",
     "iopub.status.idle": "2021-12-04T22:00:08.406303Z",
     "shell.execute_reply": "2021-12-04T22:00:08.403862Z"
    },
    "papermill": {
     "duration": 1.007316,
     "end_time": "2021-12-04T22:00:08.406772",
     "exception": false,
     "start_time": "2021-12-04T22:00:07.399456",
     "status": "completed"
    },
    "tags": []
   },
   "outputs": [],
   "source": [
    "import pandas as pd\n",
    "import sqlite3"
   ]
  },
  {
   "cell_type": "code",
   "execution_count": 2,
   "id": "innovative-syndrome",
   "metadata": {
    "execution": {
     "iopub.execute_input": "2021-12-04T22:00:08.528392Z",
     "iopub.status.busy": "2021-12-04T22:00:08.525953Z",
     "iopub.status.idle": "2021-12-04T22:00:09.526119Z",
     "shell.execute_reply": "2021-12-04T22:00:09.527599Z"
    },
    "papermill": {
     "duration": 1.035896,
     "end_time": "2021-12-04T22:00:09.528139",
     "exception": false,
     "start_time": "2021-12-04T22:00:08.492243",
     "status": "completed"
    },
    "tags": []
   },
   "outputs": [],
   "source": [
    "timestamps = pd.read_sql(\"select distinct record_time from EBAY_TOP_BERLIN order by record_time desc limit 2\", sqlite3.connect(\"UsedObjects.db\"))"
   ]
  },
  {
   "cell_type": "code",
   "execution_count": 3,
   "id": "periodic-identification",
   "metadata": {
    "execution": {
     "iopub.execute_input": "2021-12-04T22:00:09.602735Z",
     "iopub.status.busy": "2021-12-04T22:00:09.600009Z",
     "iopub.status.idle": "2021-12-04T22:00:09.624952Z",
     "shell.execute_reply": "2021-12-04T22:00:09.626379Z"
    },
    "papermill": {
     "duration": 0.078241,
     "end_time": "2021-12-04T22:00:09.626857",
     "exception": false,
     "start_time": "2021-12-04T22:00:09.548616",
     "status": "completed"
    },
    "tags": []
   },
   "outputs": [
    {
     "data": {
      "text/html": [
       "<div>\n",
       "<style scoped>\n",
       "    .dataframe tbody tr th:only-of-type {\n",
       "        vertical-align: middle;\n",
       "    }\n",
       "\n",
       "    .dataframe tbody tr th {\n",
       "        vertical-align: top;\n",
       "    }\n",
       "\n",
       "    .dataframe thead th {\n",
       "        text-align: right;\n",
       "    }\n",
       "</style>\n",
       "<table border=\"1\" class=\"dataframe\">\n",
       "  <thead>\n",
       "    <tr style=\"text-align: right;\">\n",
       "      <th></th>\n",
       "      <th>RECORD_TIME</th>\n",
       "    </tr>\n",
       "  </thead>\n",
       "  <tbody>\n",
       "    <tr>\n",
       "      <th>0</th>\n",
       "      <td>2021-12-04 23:00</td>\n",
       "    </tr>\n",
       "    <tr>\n",
       "      <th>1</th>\n",
       "      <td>2021-12-04 22:30</td>\n",
       "    </tr>\n",
       "  </tbody>\n",
       "</table>\n",
       "</div>"
      ],
      "text/plain": [
       "        RECORD_TIME\n",
       "0  2021-12-04 23:00\n",
       "1  2021-12-04 22:30"
      ]
     },
     "execution_count": 3,
     "metadata": {},
     "output_type": "execute_result"
    }
   ],
   "source": [
    "timestamps"
   ]
  },
  {
   "cell_type": "code",
   "execution_count": 4,
   "id": "alternate-victory",
   "metadata": {
    "execution": {
     "iopub.execute_input": "2021-12-04T22:00:09.681697Z",
     "iopub.status.busy": "2021-12-04T22:00:09.679432Z",
     "iopub.status.idle": "2021-12-04T22:00:11.124306Z",
     "shell.execute_reply": "2021-12-04T22:00:11.126073Z"
    },
    "papermill": {
     "duration": 1.478779,
     "end_time": "2021-12-04T22:00:11.126587",
     "exception": false,
     "start_time": "2021-12-04T22:00:09.647808",
     "status": "completed"
    },
    "tags": []
   },
   "outputs": [],
   "source": [
    "df = pd.read_sql(\"select * from EBAY_TOP_BERLIN where record_time in (select distinct record_time from EBAY_TOP_BERLIN order by record_time desc limit 2)\", sqlite3.connect(\"UsedObjects.db\"))"
   ]
  },
  {
   "cell_type": "code",
   "execution_count": 5,
   "id": "popular-active",
   "metadata": {
    "execution": {
     "iopub.execute_input": "2021-12-04T22:00:11.195550Z",
     "iopub.status.busy": "2021-12-04T22:00:11.193054Z",
     "iopub.status.idle": "2021-12-04T22:00:11.223665Z",
     "shell.execute_reply": "2021-12-04T22:00:11.225103Z"
    },
    "papermill": {
     "duration": 0.07713,
     "end_time": "2021-12-04T22:00:11.225573",
     "exception": false,
     "start_time": "2021-12-04T22:00:11.148443",
     "status": "completed"
    },
    "tags": []
   },
   "outputs": [],
   "source": [
    "df_pivot = df.pivot_table(index=\"PRODUCT\", columns = \"RECORD_TIME\", values = \"LISTING_COUNT\")"
   ]
  },
  {
   "cell_type": "code",
   "execution_count": 6,
   "id": "union-huntington",
   "metadata": {
    "execution": {
     "iopub.execute_input": "2021-12-04T22:00:11.283918Z",
     "iopub.status.busy": "2021-12-04T22:00:11.281679Z",
     "iopub.status.idle": "2021-12-04T22:00:11.287282Z",
     "shell.execute_reply": "2021-12-04T22:00:11.288976Z"
    },
    "papermill": {
     "duration": 0.043967,
     "end_time": "2021-12-04T22:00:11.289454",
     "exception": false,
     "start_time": "2021-12-04T22:00:11.245487",
     "status": "completed"
    },
    "tags": []
   },
   "outputs": [],
   "source": [
    "df_pivot.columns = [\"stamp_1\", \"stamp_2\"]\n",
    "df_pivot_diff = df_pivot.diff(axis=1)"
   ]
  },
  {
   "cell_type": "code",
   "execution_count": 7,
   "id": "fifth-motion",
   "metadata": {
    "execution": {
     "iopub.execute_input": "2021-12-04T22:00:11.353817Z",
     "iopub.status.busy": "2021-12-04T22:00:11.351039Z",
     "iopub.status.idle": "2021-12-04T22:00:13.339444Z",
     "shell.execute_reply": "2021-12-04T22:00:13.342536Z"
    },
    "papermill": {
     "duration": 2.033452,
     "end_time": "2021-12-04T22:00:13.343723",
     "exception": false,
     "start_time": "2021-12-04T22:00:11.310271",
     "status": "completed"
    },
    "tags": []
   },
   "outputs": [
    {
     "data": {
      "text/plain": [
       "<AxesSubplot:ylabel='PRODUCT'>"
      ]
     },
     "execution_count": 7,
     "metadata": {},
     "output_type": "execute_result"
    },
    {
     "data": {
      "image/png": "[encoded data removed]",
      "text/plain": [
       "<Figure size 432x288 with 1 Axes>"
      ]
     },
     "metadata": {
      "needs_background": "light"
     },
     "output_type": "display_data"
    }
   ],
   "source": [
    "df_pivot_diff.sort_values(\"stamp_2\", ascending = False)[\"stamp_2\"].head(10).plot.barh()"
   ]
  },
  {
   "cell_type": "code",
   "execution_count": null,
   "id": "extra-executive",
   "metadata": {
    "papermill": {
     "duration": 0.031383,
     "end_time": "2021-12-04T22:00:13.411917",
     "exception": false,
     "start_time": "2021-12-04T22:00:13.380534",
     "status": "completed"
    },
    "tags": []
   },
   "outputs": [],
   "source": []
  }
 ],
 "metadata": {
  "kernelspec": {
   "display_name": "Python 3",
   "language": "python",
   "name": "python3"
  },
  "language_info": {
   "codemirror_mode": {
    "name": "ipython",
    "version": 3
   },
   "file_extension": ".py",
   "mimetype": "text/x-python",
   "name": "python",
   "nbconvert_exporter": "python",
   "pygments_lexer": "ipython3",
   "version": "3.9.5"
  },
  "papermill": {
   "default_parameters": {},
   "duration": 9.530051,
   "end_time": "2021-12-04T22:00:14.178836",
   "environment_variables": {},
   "exception": null,
   "input_path": "eBay_Overview.ipynb",
   "output_path": "eBay_Overview.ipynb",
   "parameters": {},
   "start_time": "2021-12-04T22:00:04.648785",
   "version": "2.3.3"
  }
 },
 "nbformat": 4,
 "nbformat_minor": 5
}