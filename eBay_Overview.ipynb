{
 "cells": [
  {
   "cell_type": "code",
   "execution_count": 1,
   "id": "reverse-picking",
   "metadata": {
    "execution": {
     "iopub.execute_input": "2021-09-21T05:00:06.910975Z",
     "iopub.status.busy": "2021-09-21T05:00:06.908895Z",
     "iopub.status.idle": "2021-09-21T05:00:07.719235Z",
     "shell.execute_reply": "2021-09-21T05:00:07.720519Z"
    },
    "papermill": {
     "duration": 0.861548,
     "end_time": "2021-09-21T05:00:07.721137",
     "exception": false,
     "start_time": "2021-09-21T05:00:06.859589",
     "status": "completed"
    },
    "tags": []
   },
   "outputs": [],
   "source": [
    "import pandas as pd\n",
    "import sqlite3"
   ]
  },
  {
   "cell_type": "code",
   "execution_count": 2,
   "id": "innovative-syndrome",
   "metadata": {
    "execution": {
     "iopub.execute_input": "2021-09-21T05:00:07.772861Z",
     "iopub.status.busy": "2021-09-21T05:00:07.770611Z",
     "iopub.status.idle": "2021-09-21T05:00:08.108623Z",
     "shell.execute_reply": "2021-09-21T05:00:08.109866Z"
    },
    "papermill": {
     "duration": 0.367568,
     "end_time": "2021-09-21T05:00:08.110320",
     "exception": false,
     "start_time": "2021-09-21T05:00:07.742752",
     "status": "completed"
    },
    "tags": []
   },
   "outputs": [],
   "source": [
    "timestamps = pd.read_sql(\"select distinct record_time from EBAY_TOP_BERLIN order by record_time desc limit 2\", sqlite3.connect(\"UsedObjects.db\"))"
   ]
  },
  {
   "cell_type": "code",
   "execution_count": 3,
   "id": "periodic-identification",
   "metadata": {
    "execution": {
     "iopub.execute_input": "2021-09-21T05:00:08.178350Z",
     "iopub.status.busy": "2021-09-21T05:00:08.176343Z",
     "iopub.status.idle": "2021-09-21T05:00:08.197022Z",
     "shell.execute_reply": "2021-09-21T05:00:08.198194Z"
    },
    "papermill": {
     "duration": 0.068003,
     "end_time": "2021-09-21T05:00:08.198619",
     "exception": false,
     "start_time": "2021-09-21T05:00:08.130616",
     "status": "completed"
    },
    "tags": []
   },
   "outputs": [
    {
     "data": {
      "text/html": [
       "<div>\n",
       "<style scoped>\n",
       "    .dataframe tbody tr th:only-of-type {\n",
       "        vertical-align: middle;\n",
       "    }\n",
       "\n",
       "    .dataframe tbody tr th {\n",
       "        vertical-align: top;\n",
       "    }\n",
       "\n",
       "    .dataframe thead th {\n",
       "        text-align: right;\n",
       "    }\n",
       "</style>\n",
       "<table border=\"1\" class=\"dataframe\">\n",
       "  <thead>\n",
       "    <tr style=\"text-align: right;\">\n",
       "      <th></th>\n",
       "      <th>RECORD_TIME</th>\n",
       "    </tr>\n",
       "  </thead>\n",
       "  <tbody>\n",
       "    <tr>\n",
       "      <th>0</th>\n",
       "      <td>2021-09-21 07:00</td>\n",
       "    </tr>\n",
       "    <tr>\n",
       "      <th>1</th>\n",
       "      <td>2021-09-21 06:30</td>\n",
       "    </tr>\n",
       "  </tbody>\n",
       "</table>\n",
       "</div>"
      ],
      "text/plain": [
       "        RECORD_TIME\n",
       "0  2021-09-21 07:00\n",
       "1  2021-09-21 06:30"
      ]
     },
     "execution_count": 3,
     "metadata": {},
     "output_type": "execute_result"
    }
   ],
   "source": [
    "timestamps"
   ]
  },
  {
   "cell_type": "code",
   "execution_count": 4,
   "id": "alternate-victory",
   "metadata": {
    "execution": {
     "iopub.execute_input": "2021-09-21T05:00:08.251263Z",
     "iopub.status.busy": "2021-09-21T05:00:08.248897Z",
     "iopub.status.idle": "2021-09-21T05:00:08.741864Z",
     "shell.execute_reply": "2021-09-21T05:00:08.743218Z"
    },
    "papermill": {
     "duration": 0.523252,
     "end_time": "2021-09-21T05:00:08.743656",
     "exception": false,
     "start_time": "2021-09-21T05:00:08.220404",
     "status": "completed"
    },
    "tags": []
   },
   "outputs": [],
   "source": [
    "df = pd.read_sql(\"select * from EBAY_TOP_BERLIN where record_time in (select distinct record_time from EBAY_TOP_BERLIN order by record_time desc limit 2)\", sqlite3.connect(\"UsedObjects.db\"))"
   ]
  },
  {
   "cell_type": "code",
   "execution_count": 5,
   "id": "popular-active",
   "metadata": {
    "execution": {
     "iopub.execute_input": "2021-09-21T05:00:08.808819Z",
     "iopub.status.busy": "2021-09-21T05:00:08.801537Z",
     "iopub.status.idle": "2021-09-21T05:00:08.829856Z",
     "shell.execute_reply": "2021-09-21T05:00:08.831290Z"
    },
    "papermill": {
     "duration": 0.067722,
     "end_time": "2021-09-21T05:00:08.831714",
     "exception": false,
     "start_time": "2021-09-21T05:00:08.763992",
     "status": "completed"
    },
    "tags": []
   },
   "outputs": [],
   "source": [
    "df_pivot = df.pivot_table(index=\"PRODUCT\", columns = \"RECORD_TIME\", values = \"LISTING_COUNT\")"
   ]
  },
  {
   "cell_type": "code",
   "execution_count": 6,
   "id": "union-huntington",
   "metadata": {
    "execution": {
     "iopub.execute_input": "2021-09-21T05:00:08.889514Z",
     "iopub.status.busy": "2021-09-21T05:00:08.887094Z",
     "iopub.status.idle": "2021-09-21T05:00:08.892996Z",
     "shell.execute_reply": "2021-09-21T05:00:08.894271Z"
    },
    "papermill": {
     "duration": 0.041853,
     "end_time": "2021-09-21T05:00:08.894683",
     "exception": false,
     "start_time": "2021-09-21T05:00:08.852830",
     "status": "completed"
    },
    "tags": []
   },
   "outputs": [],
   "source": [
    "df_pivot.columns = [\"stamp_1\", \"stamp_2\"]\n",
    "df_pivot_diff = df_pivot.diff(axis=1)"
   ]
  },
  {
   "cell_type": "code",
   "execution_count": 7,
   "id": "fifth-motion",
   "metadata": {
    "execution": {
     "iopub.execute_input": "2021-09-21T05:00:08.948899Z",
     "iopub.status.busy": "2021-09-21T05:00:08.946418Z",
     "iopub.status.idle": "2021-09-21T05:00:10.459176Z",
     "shell.execute_reply": "2021-09-21T05:00:10.460462Z"
    },
    "papermill": {
     "duration": 1.545846,
     "end_time": "2021-09-21T05:00:10.460885",
     "exception": false,
     "start_time": "2021-09-21T05:00:08.915039",
     "status": "completed"
    },
    "tags": []
   },
   "outputs": [
    {
     "data": {
      "text/plain": [
       "<AxesSubplot:ylabel='PRODUCT'>"
      ]
     },
     "execution_count": 7,
     "metadata": {},
     "output_type": "execute_result"
    },
    {
     "data": {
      "image/png": "[encoded data removed]",
      "text/plain": [
       "<Figure size 432x288 with 1 Axes>"
      ]
     },
     "metadata": {
      "needs_background": "light"
     },
     "output_type": "display_data"
    }
   ],
   "source": [
    "df_pivot_diff.sort_values(\"stamp_2\", ascending = False)[\"stamp_2\"].head(10).plot.barh()"
   ]
  },
  {
   "cell_type": "code",
   "execution_count": null,
   "id": "extra-executive",
   "metadata": {
    "papermill": {
     "duration": 0.022065,
     "end_time": "2021-09-21T05:00:10.506748",
     "exception": false,
     "start_time": "2021-09-21T05:00:10.484683",
     "status": "completed"
    },
    "tags": []
   },
   "outputs": [],
   "source": []
  }
 ],
 "metadata": {
  "kernelspec": {
   "display_name": "Python 3",
   "language": "python",
   "name": "python3"
  },
  "language_info": {
   "codemirror_mode": {
    "name": "ipython",
    "version": 3
   },
   "file_extension": ".py",
   "mimetype": "text/x-python",
   "name": "python",
   "nbconvert_exporter": "python",
   "pygments_lexer": "ipython3",
   "version": "3.9.5"
  },
  "papermill": {
   "default_parameters": {},
   "duration": 6.689708,
   "end_time": "2021-09-21T05:00:11.149243",
   "environment_variables": {},
   "exception": null,
   "input_path": "eBay_Overview.ipynb",
   "output_path": "eBay_Overview.ipynb",
   "parameters": {},
   "start_time": "2021-09-21T05:00:04.459535",
   "version": "2.3.3"
  }
 },
 "nbformat": 4,
 "nbformat_minor": 5
}