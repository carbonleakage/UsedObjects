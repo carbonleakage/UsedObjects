{
 "cells": [
  {
   "cell_type": "code",
   "execution_count": 1,
   "id": "reverse-picking",
   "metadata": {
    "execution": {
     "iopub.execute_input": "2021-11-11T10:30:08.105892Z",
     "iopub.status.busy": "2021-11-11T10:30:08.103006Z",
     "iopub.status.idle": "2021-11-11T10:30:09.055138Z",
     "shell.execute_reply": "2021-11-11T10:30:09.056792Z"
    },
    "papermill": {
     "duration": 0.998354,
     "end_time": "2021-11-11T10:30:09.057556",
     "exception": false,
     "start_time": "2021-11-11T10:30:08.059202",
     "status": "completed"
    },
    "tags": []
   },
   "outputs": [],
   "source": [
    "import pandas as pd\n",
    "import sqlite3"
   ]
  },
  {
   "cell_type": "code",
   "execution_count": 2,
   "id": "innovative-syndrome",
   "metadata": {
    "execution": {
     "iopub.execute_input": "2021-11-11T10:30:09.122369Z",
     "iopub.status.busy": "2021-11-11T10:30:09.119571Z",
     "iopub.status.idle": "2021-11-11T10:30:09.896723Z",
     "shell.execute_reply": "2021-11-11T10:30:09.898343Z"
    },
    "papermill": {
     "duration": 0.8114,
     "end_time": "2021-11-11T10:30:09.898842",
     "exception": false,
     "start_time": "2021-11-11T10:30:09.087442",
     "status": "completed"
    },
    "tags": []
   },
   "outputs": [],
   "source": [
    "timestamps = pd.read_sql(\"select distinct record_time from EBAY_TOP_BERLIN order by record_time desc limit 2\", sqlite3.connect(\"UsedObjects.db\"))"
   ]
  },
  {
   "cell_type": "code",
   "execution_count": 3,
   "id": "periodic-identification",
   "metadata": {
    "execution": {
     "iopub.execute_input": "2021-11-11T10:30:09.975110Z",
     "iopub.status.busy": "2021-11-11T10:30:09.968907Z",
     "iopub.status.idle": "2021-11-11T10:30:09.992576Z",
     "shell.execute_reply": "2021-11-11T10:30:09.994207Z"
    },
    "papermill": {
     "duration": 0.075119,
     "end_time": "2021-11-11T10:30:09.994720",
     "exception": false,
     "start_time": "2021-11-11T10:30:09.919601",
     "status": "completed"
    },
    "tags": []
   },
   "outputs": [
    {
     "data": {
      "text/html": [
       "<div>\n",
       "<style scoped>\n",
       "    .dataframe tbody tr th:only-of-type {\n",
       "        vertical-align: middle;\n",
       "    }\n",
       "\n",
       "    .dataframe tbody tr th {\n",
       "        vertical-align: top;\n",
       "    }\n",
       "\n",
       "    .dataframe thead th {\n",
       "        text-align: right;\n",
       "    }\n",
       "</style>\n",
       "<table border=\"1\" class=\"dataframe\">\n",
       "  <thead>\n",
       "    <tr style=\"text-align: right;\">\n",
       "      <th></th>\n",
       "      <th>RECORD_TIME</th>\n",
       "    </tr>\n",
       "  </thead>\n",
       "  <tbody>\n",
       "    <tr>\n",
       "      <th>0</th>\n",
       "      <td>2021-11-11 11:30</td>\n",
       "    </tr>\n",
       "    <tr>\n",
       "      <th>1</th>\n",
       "      <td>2021-11-11 11:00</td>\n",
       "    </tr>\n",
       "  </tbody>\n",
       "</table>\n",
       "</div>"
      ],
      "text/plain": [
       "        RECORD_TIME\n",
       "0  2021-11-11 11:30\n",
       "1  2021-11-11 11:00"
      ]
     },
     "execution_count": 3,
     "metadata": {},
     "output_type": "execute_result"
    }
   ],
   "source": [
    "timestamps"
   ]
  },
  {
   "cell_type": "code",
   "execution_count": 4,
   "id": "alternate-victory",
   "metadata": {
    "execution": {
     "iopub.execute_input": "2021-11-11T10:30:10.050902Z",
     "iopub.status.busy": "2021-11-11T10:30:10.048625Z",
     "iopub.status.idle": "2021-11-11T10:30:11.209538Z",
     "shell.execute_reply": "2021-11-11T10:30:11.212246Z"
    },
    "papermill": {
     "duration": 1.196221,
     "end_time": "2021-11-11T10:30:11.213109",
     "exception": false,
     "start_time": "2021-11-11T10:30:10.016888",
     "status": "completed"
    },
    "tags": []
   },
   "outputs": [],
   "source": [
    "df = pd.read_sql(\"select * from EBAY_TOP_BERLIN where record_time in (select distinct record_time from EBAY_TOP_BERLIN order by record_time desc limit 2)\", sqlite3.connect(\"UsedObjects.db\"))"
   ]
  },
  {
   "cell_type": "code",
   "execution_count": 5,
   "id": "popular-active",
   "metadata": {
    "execution": {
     "iopub.execute_input": "2021-11-11T10:30:11.303335Z",
     "iopub.status.busy": "2021-11-11T10:30:11.287951Z",
     "iopub.status.idle": "2021-11-11T10:30:11.322310Z",
     "shell.execute_reply": "2021-11-11T10:30:11.324003Z"
    },
    "papermill": {
     "duration": 0.080223,
     "end_time": "2021-11-11T10:30:11.325008",
     "exception": false,
     "start_time": "2021-11-11T10:30:11.244785",
     "status": "completed"
    },
    "tags": []
   },
   "outputs": [],
   "source": [
    "df_pivot = df.pivot_table(index=\"PRODUCT\", columns = \"RECORD_TIME\", values = \"LISTING_COUNT\")"
   ]
  },
  {
   "cell_type": "code",
   "execution_count": 6,
   "id": "union-huntington",
   "metadata": {
    "execution": {
     "iopub.execute_input": "2021-11-11T10:30:11.385454Z",
     "iopub.status.busy": "2021-11-11T10:30:11.383255Z",
     "iopub.status.idle": "2021-11-11T10:30:11.388807Z",
     "shell.execute_reply": "2021-11-11T10:30:11.390287Z"
    },
    "papermill": {
     "duration": 0.044326,
     "end_time": "2021-11-11T10:30:11.390748",
     "exception": false,
     "start_time": "2021-11-11T10:30:11.346422",
     "status": "completed"
    },
    "tags": []
   },
   "outputs": [],
   "source": [
    "df_pivot.columns = [\"stamp_1\", \"stamp_2\"]\n",
    "df_pivot_diff = df_pivot.diff(axis=1)"
   ]
  },
  {
   "cell_type": "code",
   "execution_count": 7,
   "id": "fifth-motion",
   "metadata": {
    "execution": {
     "iopub.execute_input": "2021-11-11T10:30:11.447628Z",
     "iopub.status.busy": "2021-11-11T10:30:11.445105Z",
     "iopub.status.idle": "2021-11-11T10:30:13.376030Z",
     "shell.execute_reply": "2021-11-11T10:30:13.377425Z"
    },
    "papermill": {
     "duration": 1.967482,
     "end_time": "2021-11-11T10:30:13.377897",
     "exception": false,
     "start_time": "2021-11-11T10:30:11.410415",
     "status": "completed"
    },
    "tags": []
   },
   "outputs": [
    {
     "data": {
      "text/plain": [
       "<AxesSubplot:ylabel='PRODUCT'>"
      ]
     },
     "execution_count": 7,
     "metadata": {},
     "output_type": "execute_result"
    },
    {
     "data": {
      "image/png": "[encoded data removed]",
      "text/plain": [
       "<Figure size 432x288 with 1 Axes>"
      ]
     },
     "metadata": {
      "needs_background": "light"
     },
     "output_type": "display_data"
    }
   ],
   "source": [
    "df_pivot_diff.sort_values(\"stamp_2\", ascending = False)[\"stamp_2\"].head(10).plot.barh()"
   ]
  },
  {
   "cell_type": "code",
   "execution_count": null,
   "id": "extra-executive",
   "metadata": {
    "papermill": {
     "duration": 0.023986,
     "end_time": "2021-11-11T10:30:13.426242",
     "exception": false,
     "start_time": "2021-11-11T10:30:13.402256",
     "status": "completed"
    },
    "tags": []
   },
   "outputs": [],
   "source": []
  }
 ],
 "metadata": {
  "kernelspec": {
   "display_name": "Python 3",
   "language": "python",
   "name": "python3"
  },
  "language_info": {
   "codemirror_mode": {
    "name": "ipython",
    "version": 3
   },
   "file_extension": ".py",
   "mimetype": "text/x-python",
   "name": "python",
   "nbconvert_exporter": "python",
   "pygments_lexer": "ipython3",
   "version": "3.9.5"
  },
  "papermill": {
   "default_parameters": {},
   "duration": 8.926371,
   "end_time": "2021-11-11T10:30:14.273105",
   "environment_variables": {},
   "exception": null,
   "input_path": "eBay_Overview.ipynb",
   "output_path": "eBay_Overview.ipynb",
   "parameters": {},
   "start_time": "2021-11-11T10:30:05.346734",
   "version": "2.3.3"
  }
 },
 "nbformat": 4,
 "nbformat_minor": 5
}