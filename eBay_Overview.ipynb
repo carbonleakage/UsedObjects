{
 "cells": [
  {
   "cell_type": "code",
   "execution_count": 1,
   "id": "reverse-picking",
   "metadata": {
    "execution": {
     "iopub.execute_input": "2021-10-24T16:00:06.789832Z",
     "iopub.status.busy": "2021-10-24T16:00:06.787813Z",
     "iopub.status.idle": "2021-10-24T16:00:07.599643Z",
     "shell.execute_reply": "2021-10-24T16:00:07.600961Z"
    },
    "papermill": {
     "duration": 0.861522,
     "end_time": "2021-10-24T16:00:07.601634",
     "exception": false,
     "start_time": "2021-10-24T16:00:06.740112",
     "status": "completed"
    },
    "tags": []
   },
   "outputs": [],
   "source": [
    "import pandas as pd\n",
    "import sqlite3"
   ]
  },
  {
   "cell_type": "code",
   "execution_count": 2,
   "id": "innovative-syndrome",
   "metadata": {
    "execution": {
     "iopub.execute_input": "2021-10-24T16:00:07.653381Z",
     "iopub.status.busy": "2021-10-24T16:00:07.651229Z",
     "iopub.status.idle": "2021-10-24T16:00:08.337858Z",
     "shell.execute_reply": "2021-10-24T16:00:08.339276Z"
    },
    "papermill": {
     "duration": 0.717613,
     "end_time": "2021-10-24T16:00:08.339719",
     "exception": false,
     "start_time": "2021-10-24T16:00:07.622106",
     "status": "completed"
    },
    "tags": []
   },
   "outputs": [],
   "source": [
    "timestamps = pd.read_sql(\"select distinct record_time from EBAY_TOP_BERLIN order by record_time desc limit 2\", sqlite3.connect(\"UsedObjects.db\"))"
   ]
  },
  {
   "cell_type": "code",
   "execution_count": 3,
   "id": "periodic-identification",
   "metadata": {
    "execution": {
     "iopub.execute_input": "2021-10-24T16:00:08.415743Z",
     "iopub.status.busy": "2021-10-24T16:00:08.413701Z",
     "iopub.status.idle": "2021-10-24T16:00:08.435992Z",
     "shell.execute_reply": "2021-10-24T16:00:08.437988Z"
    },
    "papermill": {
     "duration": 0.073118,
     "end_time": "2021-10-24T16:00:08.438558",
     "exception": false,
     "start_time": "2021-10-24T16:00:08.365440",
     "status": "completed"
    },
    "tags": []
   },
   "outputs": [
    {
     "data": {
      "text/html": [
       "<div>\n",
       "<style scoped>\n",
       "    .dataframe tbody tr th:only-of-type {\n",
       "        vertical-align: middle;\n",
       "    }\n",
       "\n",
       "    .dataframe tbody tr th {\n",
       "        vertical-align: top;\n",
       "    }\n",
       "\n",
       "    .dataframe thead th {\n",
       "        text-align: right;\n",
       "    }\n",
       "</style>\n",
       "<table border=\"1\" class=\"dataframe\">\n",
       "  <thead>\n",
       "    <tr style=\"text-align: right;\">\n",
       "      <th></th>\n",
       "      <th>RECORD_TIME</th>\n",
       "    </tr>\n",
       "  </thead>\n",
       "  <tbody>\n",
       "    <tr>\n",
       "      <th>0</th>\n",
       "      <td>2021-10-24 18:00</td>\n",
       "    </tr>\n",
       "    <tr>\n",
       "      <th>1</th>\n",
       "      <td>2021-10-24 17:30</td>\n",
       "    </tr>\n",
       "  </tbody>\n",
       "</table>\n",
       "</div>"
      ],
      "text/plain": [
       "        RECORD_TIME\n",
       "0  2021-10-24 18:00\n",
       "1  2021-10-24 17:30"
      ]
     },
     "execution_count": 3,
     "metadata": {},
     "output_type": "execute_result"
    }
   ],
   "source": [
    "timestamps"
   ]
  },
  {
   "cell_type": "code",
   "execution_count": 4,
   "id": "alternate-victory",
   "metadata": {
    "execution": {
     "iopub.execute_input": "2021-10-24T16:00:08.491359Z",
     "iopub.status.busy": "2021-10-24T16:00:08.489295Z",
     "iopub.status.idle": "2021-10-24T16:00:09.398588Z",
     "shell.execute_reply": "2021-10-24T16:00:09.399881Z"
    },
    "papermill": {
     "duration": 0.940071,
     "end_time": "2021-10-24T16:00:09.400301",
     "exception": false,
     "start_time": "2021-10-24T16:00:08.460230",
     "status": "completed"
    },
    "tags": []
   },
   "outputs": [],
   "source": [
    "df = pd.read_sql(\"select * from EBAY_TOP_BERLIN where record_time in (select distinct record_time from EBAY_TOP_BERLIN order by record_time desc limit 2)\", sqlite3.connect(\"UsedObjects.db\"))"
   ]
  },
  {
   "cell_type": "code",
   "execution_count": 5,
   "id": "popular-active",
   "metadata": {
    "execution": {
     "iopub.execute_input": "2021-10-24T16:00:09.464867Z",
     "iopub.status.busy": "2021-10-24T16:00:09.456585Z",
     "iopub.status.idle": "2021-10-24T16:00:09.485691Z",
     "shell.execute_reply": "2021-10-24T16:00:09.486924Z"
    },
    "papermill": {
     "duration": 0.066558,
     "end_time": "2021-10-24T16:00:09.487323",
     "exception": false,
     "start_time": "2021-10-24T16:00:09.420765",
     "status": "completed"
    },
    "tags": []
   },
   "outputs": [],
   "source": [
    "df_pivot = df.pivot_table(index=\"PRODUCT\", columns = \"RECORD_TIME\", values = \"LISTING_COUNT\")"
   ]
  },
  {
   "cell_type": "code",
   "execution_count": 6,
   "id": "union-huntington",
   "metadata": {
    "execution": {
     "iopub.execute_input": "2021-10-24T16:00:09.547325Z",
     "iopub.status.busy": "2021-10-24T16:00:09.545198Z",
     "iopub.status.idle": "2021-10-24T16:00:09.550518Z",
     "shell.execute_reply": "2021-10-24T16:00:09.551820Z"
    },
    "papermill": {
     "duration": 0.041526,
     "end_time": "2021-10-24T16:00:09.552242",
     "exception": false,
     "start_time": "2021-10-24T16:00:09.510716",
     "status": "completed"
    },
    "tags": []
   },
   "outputs": [],
   "source": [
    "df_pivot.columns = [\"stamp_1\", \"stamp_2\"]\n",
    "df_pivot_diff = df_pivot.diff(axis=1)"
   ]
  },
  {
   "cell_type": "code",
   "execution_count": 7,
   "id": "fifth-motion",
   "metadata": {
    "execution": {
     "iopub.execute_input": "2021-10-24T16:00:09.606375Z",
     "iopub.status.busy": "2021-10-24T16:00:09.603884Z",
     "iopub.status.idle": "2021-10-24T16:00:11.082053Z",
     "shell.execute_reply": "2021-10-24T16:00:11.083354Z"
    },
    "papermill": {
     "duration": 1.510731,
     "end_time": "2021-10-24T16:00:11.083771",
     "exception": false,
     "start_time": "2021-10-24T16:00:09.573040",
     "status": "completed"
    },
    "tags": []
   },
   "outputs": [
    {
     "data": {
      "text/plain": [
       "<AxesSubplot:ylabel='PRODUCT'>"
      ]
     },
     "execution_count": 7,
     "metadata": {},
     "output_type": "execute_result"
    },
    {
     "data": {
      "image/png": "[encoded data removed]",
      "text/plain": [
       "<Figure size 432x288 with 1 Axes>"
      ]
     },
     "metadata": {
      "needs_background": "light"
     },
     "output_type": "display_data"
    }
   ],
   "source": [
    "df_pivot_diff.sort_values(\"stamp_2\", ascending = False)[\"stamp_2\"].head(10).plot.barh()"
   ]
  },
  {
   "cell_type": "code",
   "execution_count": null,
   "id": "extra-executive",
   "metadata": {
    "papermill": {
     "duration": 0.02236,
     "end_time": "2021-10-24T16:00:11.131269",
     "exception": false,
     "start_time": "2021-10-24T16:00:11.108909",
     "status": "completed"
    },
    "tags": []
   },
   "outputs": [],
   "source": []
  }
 ],
 "metadata": {
  "kernelspec": {
   "display_name": "Python 3",
   "language": "python",
   "name": "python3"
  },
  "language_info": {
   "codemirror_mode": {
    "name": "ipython",
    "version": 3
   },
   "file_extension": ".py",
   "mimetype": "text/x-python",
   "name": "python",
   "nbconvert_exporter": "python",
   "pygments_lexer": "ipython3",
   "version": "3.9.5"
  },
  "papermill": {
   "default_parameters": {},
   "duration": 7.461128,
   "end_time": "2021-10-24T16:00:11.773540",
   "environment_variables": {},
   "exception": null,
   "input_path": "eBay_Overview.ipynb",
   "output_path": "eBay_Overview.ipynb",
   "parameters": {},
   "start_time": "2021-10-24T16:00:04.312412",
   "version": "2.3.3"
  }
 },
 "nbformat": 4,
 "nbformat_minor": 5
}