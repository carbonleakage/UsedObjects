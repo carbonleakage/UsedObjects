{
 "cells": [
  {
   "cell_type": "code",
   "execution_count": 1,
   "id": "reverse-picking",
   "metadata": {
    "execution": {
     "iopub.execute_input": "2021-10-04T11:00:06.875505Z",
     "iopub.status.busy": "2021-10-04T11:00:06.873492Z",
     "iopub.status.idle": "2021-10-04T11:00:07.678829Z",
     "shell.execute_reply": "2021-10-04T11:00:07.680191Z"
    },
    "papermill": {
     "duration": 0.856784,
     "end_time": "2021-10-04T11:00:07.680836",
     "exception": false,
     "start_time": "2021-10-04T11:00:06.824052",
     "status": "completed"
    },
    "tags": []
   },
   "outputs": [],
   "source": [
    "import pandas as pd\n",
    "import sqlite3"
   ]
  },
  {
   "cell_type": "code",
   "execution_count": 2,
   "id": "innovative-syndrome",
   "metadata": {
    "execution": {
     "iopub.execute_input": "2021-10-04T11:00:07.731686Z",
     "iopub.status.busy": "2021-10-04T11:00:07.729642Z",
     "iopub.status.idle": "2021-10-04T11:00:08.169976Z",
     "shell.execute_reply": "2021-10-04T11:00:08.171312Z"
    },
    "papermill": {
     "duration": 0.470542,
     "end_time": "2021-10-04T11:00:08.171738",
     "exception": false,
     "start_time": "2021-10-04T11:00:07.701196",
     "status": "completed"
    },
    "tags": []
   },
   "outputs": [],
   "source": [
    "timestamps = pd.read_sql(\"select distinct record_time from EBAY_TOP_BERLIN order by record_time desc limit 2\", sqlite3.connect(\"UsedObjects.db\"))"
   ]
  },
  {
   "cell_type": "code",
   "execution_count": 3,
   "id": "periodic-identification",
   "metadata": {
    "execution": {
     "iopub.execute_input": "2021-10-04T11:00:08.237403Z",
     "iopub.status.busy": "2021-10-04T11:00:08.234941Z",
     "iopub.status.idle": "2021-10-04T11:00:08.255015Z",
     "shell.execute_reply": "2021-10-04T11:00:08.256246Z"
    },
    "papermill": {
     "duration": 0.065325,
     "end_time": "2021-10-04T11:00:08.256636",
     "exception": false,
     "start_time": "2021-10-04T11:00:08.191311",
     "status": "completed"
    },
    "tags": []
   },
   "outputs": [
    {
     "data": {
      "text/html": [
       "<div>\n",
       "<style scoped>\n",
       "    .dataframe tbody tr th:only-of-type {\n",
       "        vertical-align: middle;\n",
       "    }\n",
       "\n",
       "    .dataframe tbody tr th {\n",
       "        vertical-align: top;\n",
       "    }\n",
       "\n",
       "    .dataframe thead th {\n",
       "        text-align: right;\n",
       "    }\n",
       "</style>\n",
       "<table border=\"1\" class=\"dataframe\">\n",
       "  <thead>\n",
       "    <tr style=\"text-align: right;\">\n",
       "      <th></th>\n",
       "      <th>RECORD_TIME</th>\n",
       "    </tr>\n",
       "  </thead>\n",
       "  <tbody>\n",
       "    <tr>\n",
       "      <th>0</th>\n",
       "      <td>2021-10-04 13:00</td>\n",
       "    </tr>\n",
       "    <tr>\n",
       "      <th>1</th>\n",
       "      <td>2021-10-04 12:30</td>\n",
       "    </tr>\n",
       "  </tbody>\n",
       "</table>\n",
       "</div>"
      ],
      "text/plain": [
       "        RECORD_TIME\n",
       "0  2021-10-04 13:00\n",
       "1  2021-10-04 12:30"
      ]
     },
     "execution_count": 3,
     "metadata": {},
     "output_type": "execute_result"
    }
   ],
   "source": [
    "timestamps"
   ]
  },
  {
   "cell_type": "code",
   "execution_count": 4,
   "id": "alternate-victory",
   "metadata": {
    "execution": {
     "iopub.execute_input": "2021-10-04T11:00:08.309737Z",
     "iopub.status.busy": "2021-10-04T11:00:08.307448Z",
     "iopub.status.idle": "2021-10-04T11:00:08.959057Z",
     "shell.execute_reply": "2021-10-04T11:00:08.960279Z"
    },
    "papermill": {
     "duration": 0.682233,
     "end_time": "2021-10-04T11:00:08.960669",
     "exception": false,
     "start_time": "2021-10-04T11:00:08.278436",
     "status": "completed"
    },
    "tags": []
   },
   "outputs": [],
   "source": [
    "df = pd.read_sql(\"select * from EBAY_TOP_BERLIN where record_time in (select distinct record_time from EBAY_TOP_BERLIN order by record_time desc limit 2)\", sqlite3.connect(\"UsedObjects.db\"))"
   ]
  },
  {
   "cell_type": "code",
   "execution_count": 5,
   "id": "popular-active",
   "metadata": {
    "execution": {
     "iopub.execute_input": "2021-10-04T11:00:09.029319Z",
     "iopub.status.busy": "2021-10-04T11:00:09.017684Z",
     "iopub.status.idle": "2021-10-04T11:00:09.045022Z",
     "shell.execute_reply": "2021-10-04T11:00:09.046227Z"
    },
    "papermill": {
     "duration": 0.065527,
     "end_time": "2021-10-04T11:00:09.046619",
     "exception": false,
     "start_time": "2021-10-04T11:00:08.981092",
     "status": "completed"
    },
    "tags": []
   },
   "outputs": [],
   "source": [
    "df_pivot = df.pivot_table(index=\"PRODUCT\", columns = \"RECORD_TIME\", values = \"LISTING_COUNT\")"
   ]
  },
  {
   "cell_type": "code",
   "execution_count": 6,
   "id": "union-huntington",
   "metadata": {
    "execution": {
     "iopub.execute_input": "2021-10-04T11:00:09.105984Z",
     "iopub.status.busy": "2021-10-04T11:00:09.103589Z",
     "iopub.status.idle": "2021-10-04T11:00:09.109664Z",
     "shell.execute_reply": "2021-10-04T11:00:09.111086Z"
    },
    "papermill": {
     "duration": 0.042564,
     "end_time": "2021-10-04T11:00:09.111533",
     "exception": false,
     "start_time": "2021-10-04T11:00:09.068969",
     "status": "completed"
    },
    "tags": []
   },
   "outputs": [],
   "source": [
    "df_pivot.columns = [\"stamp_1\", \"stamp_2\"]\n",
    "df_pivot_diff = df_pivot.diff(axis=1)"
   ]
  },
  {
   "cell_type": "code",
   "execution_count": 7,
   "id": "fifth-motion",
   "metadata": {
    "execution": {
     "iopub.execute_input": "2021-10-04T11:00:09.166102Z",
     "iopub.status.busy": "2021-10-04T11:00:09.163917Z",
     "iopub.status.idle": "2021-10-04T11:00:10.636654Z",
     "shell.execute_reply": "2021-10-04T11:00:10.637933Z"
    },
    "papermill": {
     "duration": 1.505316,
     "end_time": "2021-10-04T11:00:10.638347",
     "exception": false,
     "start_time": "2021-10-04T11:00:09.133031",
     "status": "completed"
    },
    "tags": []
   },
   "outputs": [
    {
     "data": {
      "text/plain": [
       "<AxesSubplot:ylabel='PRODUCT'>"
      ]
     },
     "execution_count": 7,
     "metadata": {},
     "output_type": "execute_result"
    },
    {
     "data": {
      "image/png": "[encoded data removed]",
      "text/plain": [
       "<Figure size 432x288 with 1 Axes>"
      ]
     },
     "metadata": {
      "needs_background": "light"
     },
     "output_type": "display_data"
    }
   ],
   "source": [
    "df_pivot_diff.sort_values(\"stamp_2\", ascending = False)[\"stamp_2\"].head(10).plot.barh()"
   ]
  },
  {
   "cell_type": "code",
   "execution_count": null,
   "id": "extra-executive",
   "metadata": {
    "papermill": {
     "duration": 0.022172,
     "end_time": "2021-10-04T11:00:10.686670",
     "exception": false,
     "start_time": "2021-10-04T11:00:10.664498",
     "status": "completed"
    },
    "tags": []
   },
   "outputs": [],
   "source": []
  }
 ],
 "metadata": {
  "kernelspec": {
   "display_name": "Python 3",
   "language": "python",
   "name": "python3"
  },
  "language_info": {
   "codemirror_mode": {
    "name": "ipython",
    "version": 3
   },
   "file_extension": ".py",
   "mimetype": "text/x-python",
   "name": "python",
   "nbconvert_exporter": "python",
   "pygments_lexer": "ipython3",
   "version": "3.9.5"
  },
  "papermill": {
   "default_parameters": {},
   "duration": 7.823817,
   "end_time": "2021-10-04T11:00:12.242583",
   "environment_variables": {},
   "exception": null,
   "input_path": "eBay_Overview.ipynb",
   "output_path": "eBay_Overview.ipynb",
   "parameters": {},
   "start_time": "2021-10-04T11:00:04.418766",
   "version": "2.3.3"
  }
 },
 "nbformat": 4,
 "nbformat_minor": 5
}