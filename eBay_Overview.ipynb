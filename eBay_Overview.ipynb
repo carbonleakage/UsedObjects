{
 "cells": [
  {
   "cell_type": "code",
   "execution_count": 1,
   "id": "reverse-picking",
   "metadata": {
    "execution": {
     "iopub.execute_input": "2021-10-29T08:30:07.453291Z",
     "iopub.status.busy": "2021-10-29T08:30:07.451284Z",
     "iopub.status.idle": "2021-10-29T08:30:08.255173Z",
     "shell.execute_reply": "2021-10-29T08:30:08.253610Z"
    },
    "papermill": {
     "duration": 0.852676,
     "end_time": "2021-10-29T08:30:08.255566",
     "exception": false,
     "start_time": "2021-10-29T08:30:07.402890",
     "status": "completed"
    },
    "tags": []
   },
   "outputs": [],
   "source": [
    "import pandas as pd\n",
    "import sqlite3"
   ]
  },
  {
   "cell_type": "code",
   "execution_count": 2,
   "id": "innovative-syndrome",
   "metadata": {
    "execution": {
     "iopub.execute_input": "2021-10-29T08:30:08.305873Z",
     "iopub.status.busy": "2021-10-29T08:30:08.303931Z",
     "iopub.status.idle": "2021-10-29T08:30:08.961386Z",
     "shell.execute_reply": "2021-10-29T08:30:08.962509Z"
    },
    "papermill": {
     "duration": 0.686899,
     "end_time": "2021-10-29T08:30:08.962915",
     "exception": false,
     "start_time": "2021-10-29T08:30:08.276016",
     "status": "completed"
    },
    "tags": []
   },
   "outputs": [],
   "source": [
    "timestamps = pd.read_sql(\"select distinct record_time from EBAY_TOP_BERLIN order by record_time desc limit 2\", sqlite3.connect(\"UsedObjects.db\"))"
   ]
  },
  {
   "cell_type": "code",
   "execution_count": 3,
   "id": "periodic-identification",
   "metadata": {
    "execution": {
     "iopub.execute_input": "2021-10-29T08:30:09.038777Z",
     "iopub.status.busy": "2021-10-29T08:30:09.036779Z",
     "iopub.status.idle": "2021-10-29T08:30:09.056539Z",
     "shell.execute_reply": "2021-10-29T08:30:09.057924Z"
    },
    "papermill": {
     "duration": 0.067339,
     "end_time": "2021-10-29T08:30:09.058376",
     "exception": false,
     "start_time": "2021-10-29T08:30:08.991037",
     "status": "completed"
    },
    "tags": []
   },
   "outputs": [
    {
     "data": {
      "text/html": [
       "<div>\n",
       "<style scoped>\n",
       "    .dataframe tbody tr th:only-of-type {\n",
       "        vertical-align: middle;\n",
       "    }\n",
       "\n",
       "    .dataframe tbody tr th {\n",
       "        vertical-align: top;\n",
       "    }\n",
       "\n",
       "    .dataframe thead th {\n",
       "        text-align: right;\n",
       "    }\n",
       "</style>\n",
       "<table border=\"1\" class=\"dataframe\">\n",
       "  <thead>\n",
       "    <tr style=\"text-align: right;\">\n",
       "      <th></th>\n",
       "      <th>RECORD_TIME</th>\n",
       "    </tr>\n",
       "  </thead>\n",
       "  <tbody>\n",
       "    <tr>\n",
       "      <th>0</th>\n",
       "      <td>2021-10-29 10:30</td>\n",
       "    </tr>\n",
       "    <tr>\n",
       "      <th>1</th>\n",
       "      <td>2021-10-29 10:00</td>\n",
       "    </tr>\n",
       "  </tbody>\n",
       "</table>\n",
       "</div>"
      ],
      "text/plain": [
       "        RECORD_TIME\n",
       "0  2021-10-29 10:30\n",
       "1  2021-10-29 10:00"
      ]
     },
     "execution_count": 3,
     "metadata": {},
     "output_type": "execute_result"
    }
   ],
   "source": [
    "timestamps"
   ]
  },
  {
   "cell_type": "code",
   "execution_count": 4,
   "id": "alternate-victory",
   "metadata": {
    "execution": {
     "iopub.execute_input": "2021-10-29T08:30:09.110070Z",
     "iopub.status.busy": "2021-10-29T08:30:09.107721Z",
     "iopub.status.idle": "2021-10-29T08:30:10.079218Z",
     "shell.execute_reply": "2021-10-29T08:30:10.080498Z"
    },
    "papermill": {
     "duration": 1.001956,
     "end_time": "2021-10-29T08:30:10.080989",
     "exception": false,
     "start_time": "2021-10-29T08:30:09.079033",
     "status": "completed"
    },
    "tags": []
   },
   "outputs": [],
   "source": [
    "df = pd.read_sql(\"select * from EBAY_TOP_BERLIN where record_time in (select distinct record_time from EBAY_TOP_BERLIN order by record_time desc limit 2)\", sqlite3.connect(\"UsedObjects.db\"))"
   ]
  },
  {
   "cell_type": "code",
   "execution_count": 5,
   "id": "popular-active",
   "metadata": {
    "execution": {
     "iopub.execute_input": "2021-10-29T08:30:10.150619Z",
     "iopub.status.busy": "2021-10-29T08:30:10.139103Z",
     "iopub.status.idle": "2021-10-29T08:30:10.166470Z",
     "shell.execute_reply": "2021-10-29T08:30:10.167664Z"
    },
    "papermill": {
     "duration": 0.066404,
     "end_time": "2021-10-29T08:30:10.168052",
     "exception": false,
     "start_time": "2021-10-29T08:30:10.101648",
     "status": "completed"
    },
    "tags": []
   },
   "outputs": [],
   "source": [
    "df_pivot = df.pivot_table(index=\"PRODUCT\", columns = \"RECORD_TIME\", values = \"LISTING_COUNT\")"
   ]
  },
  {
   "cell_type": "code",
   "execution_count": 6,
   "id": "union-huntington",
   "metadata": {
    "execution": {
     "iopub.execute_input": "2021-10-29T08:30:10.225349Z",
     "iopub.status.busy": "2021-10-29T08:30:10.223260Z",
     "iopub.status.idle": "2021-10-29T08:30:10.228675Z",
     "shell.execute_reply": "2021-10-29T08:30:10.229930Z"
    },
    "papermill": {
     "duration": 0.040491,
     "end_time": "2021-10-29T08:30:10.230358",
     "exception": false,
     "start_time": "2021-10-29T08:30:10.189867",
     "status": "completed"
    },
    "tags": []
   },
   "outputs": [],
   "source": [
    "df_pivot.columns = [\"stamp_1\", \"stamp_2\"]\n",
    "df_pivot_diff = df_pivot.diff(axis=1)"
   ]
  },
  {
   "cell_type": "code",
   "execution_count": 7,
   "id": "fifth-motion",
   "metadata": {
    "execution": {
     "iopub.execute_input": "2021-10-29T08:30:10.287763Z",
     "iopub.status.busy": "2021-10-29T08:30:10.285127Z",
     "iopub.status.idle": "2021-10-29T08:30:11.800295Z",
     "shell.execute_reply": "2021-10-29T08:30:11.802524Z"
    },
    "papermill": {
     "duration": 1.549726,
     "end_time": "2021-10-29T08:30:11.803026",
     "exception": false,
     "start_time": "2021-10-29T08:30:10.253300",
     "status": "completed"
    },
    "tags": []
   },
   "outputs": [
    {
     "data": {
      "text/plain": [
       "<AxesSubplot:ylabel='PRODUCT'>"
      ]
     },
     "execution_count": 7,
     "metadata": {},
     "output_type": "execute_result"
    },
    {
     "data": {
      "image/png": "[encoded data removed]",
      "text/plain": [
       "<Figure size 432x288 with 1 Axes>"
      ]
     },
     "metadata": {
      "needs_background": "light"
     },
     "output_type": "display_data"
    }
   ],
   "source": [
    "df_pivot_diff.sort_values(\"stamp_2\", ascending = False)[\"stamp_2\"].head(10).plot.barh()"
   ]
  },
  {
   "cell_type": "code",
   "execution_count": null,
   "id": "extra-executive",
   "metadata": {
    "papermill": {
     "duration": 0.022246,
     "end_time": "2021-10-29T08:30:11.850561",
     "exception": false,
     "start_time": "2021-10-29T08:30:11.828315",
     "status": "completed"
    },
    "tags": []
   },
   "outputs": [],
   "source": []
  }
 ],
 "metadata": {
  "kernelspec": {
   "display_name": "Python 3",
   "language": "python",
   "name": "python3"
  },
  "language_info": {
   "codemirror_mode": {
    "name": "ipython",
    "version": 3
   },
   "file_extension": ".py",
   "mimetype": "text/x-python",
   "name": "python",
   "nbconvert_exporter": "python",
   "pygments_lexer": "ipython3",
   "version": "3.9.5"
  },
  "papermill": {
   "default_parameters": {},
   "duration": 7.492011,
   "end_time": "2021-10-29T08:30:12.493847",
   "environment_variables": {},
   "exception": null,
   "input_path": "eBay_Overview.ipynb",
   "output_path": "eBay_Overview.ipynb",
   "parameters": {},
   "start_time": "2021-10-29T08:30:05.001836",
   "version": "2.3.3"
  }
 },
 "nbformat": 4,
 "nbformat_minor": 5
}