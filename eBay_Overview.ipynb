{
 "cells": [
  {
   "cell_type": "code",
   "execution_count": 1,
   "id": "reverse-picking",
   "metadata": {
    "execution": {
     "iopub.execute_input": "2021-10-15T01:00:06.734028Z",
     "iopub.status.busy": "2021-10-15T01:00:06.732014Z",
     "iopub.status.idle": "2021-10-15T01:00:07.539051Z",
     "shell.execute_reply": "2021-10-15T01:00:07.540288Z"
    },
    "papermill": {
     "duration": 0.857214,
     "end_time": "2021-10-15T01:00:07.541102",
     "exception": false,
     "start_time": "2021-10-15T01:00:06.683888",
     "status": "completed"
    },
    "tags": []
   },
   "outputs": [],
   "source": [
    "import pandas as pd\n",
    "import sqlite3"
   ]
  },
  {
   "cell_type": "code",
   "execution_count": 2,
   "id": "innovative-syndrome",
   "metadata": {
    "execution": {
     "iopub.execute_input": "2021-10-15T01:00:07.594795Z",
     "iopub.status.busy": "2021-10-15T01:00:07.592385Z",
     "iopub.status.idle": "2021-10-15T01:00:08.152413Z",
     "shell.execute_reply": "2021-10-15T01:00:08.153857Z"
    },
    "papermill": {
     "duration": 0.590505,
     "end_time": "2021-10-15T01:00:08.154313",
     "exception": false,
     "start_time": "2021-10-15T01:00:07.563808",
     "status": "completed"
    },
    "tags": []
   },
   "outputs": [],
   "source": [
    "timestamps = pd.read_sql(\"select distinct record_time from EBAY_TOP_BERLIN order by record_time desc limit 2\", sqlite3.connect(\"UsedObjects.db\"))"
   ]
  },
  {
   "cell_type": "code",
   "execution_count": 3,
   "id": "periodic-identification",
   "metadata": {
    "execution": {
     "iopub.execute_input": "2021-10-15T01:00:08.230384Z",
     "iopub.status.busy": "2021-10-15T01:00:08.227821Z",
     "iopub.status.idle": "2021-10-15T01:00:08.248081Z",
     "shell.execute_reply": "2021-10-15T01:00:08.249627Z"
    },
    "papermill": {
     "duration": 0.069086,
     "end_time": "2021-10-15T01:00:08.250110",
     "exception": false,
     "start_time": "2021-10-15T01:00:08.181024",
     "status": "completed"
    },
    "tags": []
   },
   "outputs": [
    {
     "data": {
      "text/html": [
       "<div>\n",
       "<style scoped>\n",
       "    .dataframe tbody tr th:only-of-type {\n",
       "        vertical-align: middle;\n",
       "    }\n",
       "\n",
       "    .dataframe tbody tr th {\n",
       "        vertical-align: top;\n",
       "    }\n",
       "\n",
       "    .dataframe thead th {\n",
       "        text-align: right;\n",
       "    }\n",
       "</style>\n",
       "<table border=\"1\" class=\"dataframe\">\n",
       "  <thead>\n",
       "    <tr style=\"text-align: right;\">\n",
       "      <th></th>\n",
       "      <th>RECORD_TIME</th>\n",
       "    </tr>\n",
       "  </thead>\n",
       "  <tbody>\n",
       "    <tr>\n",
       "      <th>0</th>\n",
       "      <td>2021-10-15 03:00</td>\n",
       "    </tr>\n",
       "    <tr>\n",
       "      <th>1</th>\n",
       "      <td>2021-10-15 02:30</td>\n",
       "    </tr>\n",
       "  </tbody>\n",
       "</table>\n",
       "</div>"
      ],
      "text/plain": [
       "        RECORD_TIME\n",
       "0  2021-10-15 03:00\n",
       "1  2021-10-15 02:30"
      ]
     },
     "execution_count": 3,
     "metadata": {},
     "output_type": "execute_result"
    }
   ],
   "source": [
    "timestamps"
   ]
  },
  {
   "cell_type": "code",
   "execution_count": 4,
   "id": "alternate-victory",
   "metadata": {
    "execution": {
     "iopub.execute_input": "2021-10-15T01:00:08.302831Z",
     "iopub.status.busy": "2021-10-15T01:00:08.300970Z",
     "iopub.status.idle": "2021-10-15T01:00:09.099042Z",
     "shell.execute_reply": "2021-10-15T01:00:09.100328Z"
    },
    "papermill": {
     "duration": 0.828662,
     "end_time": "2021-10-15T01:00:09.100844",
     "exception": false,
     "start_time": "2021-10-15T01:00:08.272182",
     "status": "completed"
    },
    "tags": []
   },
   "outputs": [],
   "source": [
    "df = pd.read_sql(\"select * from EBAY_TOP_BERLIN where record_time in (select distinct record_time from EBAY_TOP_BERLIN order by record_time desc limit 2)\", sqlite3.connect(\"UsedObjects.db\"))"
   ]
  },
  {
   "cell_type": "code",
   "execution_count": 5,
   "id": "popular-active",
   "metadata": {
    "execution": {
     "iopub.execute_input": "2021-10-15T01:00:09.166693Z",
     "iopub.status.busy": "2021-10-15T01:00:09.159365Z",
     "iopub.status.idle": "2021-10-15T01:00:09.187057Z",
     "shell.execute_reply": "2021-10-15T01:00:09.188259Z"
    },
    "papermill": {
     "duration": 0.06709,
     "end_time": "2021-10-15T01:00:09.188661",
     "exception": false,
     "start_time": "2021-10-15T01:00:09.121571",
     "status": "completed"
    },
    "tags": []
   },
   "outputs": [],
   "source": [
    "df_pivot = df.pivot_table(index=\"PRODUCT\", columns = \"RECORD_TIME\", values = \"LISTING_COUNT\")"
   ]
  },
  {
   "cell_type": "code",
   "execution_count": 6,
   "id": "union-huntington",
   "metadata": {
    "execution": {
     "iopub.execute_input": "2021-10-15T01:00:09.248428Z",
     "iopub.status.busy": "2021-10-15T01:00:09.246115Z",
     "iopub.status.idle": "2021-10-15T01:00:09.252003Z",
     "shell.execute_reply": "2021-10-15T01:00:09.253448Z"
    },
    "papermill": {
     "duration": 0.042478,
     "end_time": "2021-10-15T01:00:09.253913",
     "exception": false,
     "start_time": "2021-10-15T01:00:09.211435",
     "status": "completed"
    },
    "tags": []
   },
   "outputs": [],
   "source": [
    "df_pivot.columns = [\"stamp_1\", \"stamp_2\"]\n",
    "df_pivot_diff = df_pivot.diff(axis=1)"
   ]
  },
  {
   "cell_type": "code",
   "execution_count": 7,
   "id": "fifth-motion",
   "metadata": {
    "execution": {
     "iopub.execute_input": "2021-10-15T01:00:09.309253Z",
     "iopub.status.busy": "2021-10-15T01:00:09.306848Z",
     "iopub.status.idle": "2021-10-15T01:00:10.816890Z",
     "shell.execute_reply": "2021-10-15T01:00:10.818279Z"
    },
    "papermill": {
     "duration": 1.543089,
     "end_time": "2021-10-15T01:00:10.818729",
     "exception": false,
     "start_time": "2021-10-15T01:00:09.275640",
     "status": "completed"
    },
    "tags": []
   },
   "outputs": [
    {
     "data": {
      "text/plain": [
       "<AxesSubplot:ylabel='PRODUCT'>"
      ]
     },
     "execution_count": 7,
     "metadata": {},
     "output_type": "execute_result"
    },
    {
     "data": {
      "image/png": "[encoded data removed]",
      "text/plain": [
       "<Figure size 432x288 with 1 Axes>"
      ]
     },
     "metadata": {
      "needs_background": "light"
     },
     "output_type": "display_data"
    }
   ],
   "source": [
    "df_pivot_diff.sort_values(\"stamp_2\", ascending = False)[\"stamp_2\"].head(10).plot.barh()"
   ]
  },
  {
   "cell_type": "code",
   "execution_count": null,
   "id": "extra-executive",
   "metadata": {
    "papermill": {
     "duration": 0.022545,
     "end_time": "2021-10-15T01:00:10.866279",
     "exception": false,
     "start_time": "2021-10-15T01:00:10.843734",
     "status": "completed"
    },
    "tags": []
   },
   "outputs": [],
   "source": []
  }
 ],
 "metadata": {
  "kernelspec": {
   "display_name": "Python 3",
   "language": "python",
   "name": "python3"
  },
  "language_info": {
   "codemirror_mode": {
    "name": "ipython",
    "version": 3
   },
   "file_extension": ".py",
   "mimetype": "text/x-python",
   "name": "python",
   "nbconvert_exporter": "python",
   "pygments_lexer": "ipython3",
   "version": "3.9.5"
  },
  "papermill": {
   "default_parameters": {},
   "duration": 7.823154,
   "end_time": "2021-10-15T01:00:12.096457",
   "environment_variables": {},
   "exception": null,
   "input_path": "eBay_Overview.ipynb",
   "output_path": "eBay_Overview.ipynb",
   "parameters": {},
   "start_time": "2021-10-15T01:00:04.273303",
   "version": "2.3.3"
  }
 },
 "nbformat": 4,
 "nbformat_minor": 5
}