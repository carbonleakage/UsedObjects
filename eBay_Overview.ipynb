{
 "cells": [
  {
   "cell_type": "code",
   "execution_count": 1,
   "id": "reverse-picking",
   "metadata": {
    "execution": {
     "iopub.execute_input": "2021-08-17T11:00:07.488049Z",
     "iopub.status.busy": "2021-08-17T11:00:07.486065Z",
     "iopub.status.idle": "2021-08-17T11:00:08.295479Z",
     "shell.execute_reply": "2021-08-17T11:00:08.296752Z"
    },
    "papermill": {
     "duration": 0.861982,
     "end_time": "2021-08-17T11:00:08.297368",
     "exception": false,
     "start_time": "2021-08-17T11:00:07.435386",
     "status": "completed"
    },
    "tags": []
   },
   "outputs": [],
   "source": [
    "import pandas as pd\n",
    "import sqlite3"
   ]
  },
  {
   "cell_type": "code",
   "execution_count": 2,
   "id": "innovative-syndrome",
   "metadata": {
    "execution": {
     "iopub.execute_input": "2021-08-17T11:00:08.350620Z",
     "iopub.status.busy": "2021-08-17T11:00:08.348181Z",
     "iopub.status.idle": "2021-08-17T11:00:08.417457Z",
     "shell.execute_reply": "2021-08-17T11:00:08.418882Z"
    },
    "papermill": {
     "duration": 0.099586,
     "end_time": "2021-08-17T11:00:08.419299",
     "exception": false,
     "start_time": "2021-08-17T11:00:08.319713",
     "status": "completed"
    },
    "tags": []
   },
   "outputs": [],
   "source": [
    "timestamps = pd.read_sql(\"select distinct record_time from EBAY_TOP_BERLIN order by record_time desc limit 2\", sqlite3.connect(\"UsedObjects.db\"))"
   ]
  },
  {
   "cell_type": "code",
   "execution_count": 3,
   "id": "periodic-identification",
   "metadata": {
    "execution": {
     "iopub.execute_input": "2021-08-17T11:00:08.490162Z",
     "iopub.status.busy": "2021-08-17T11:00:08.485010Z",
     "iopub.status.idle": "2021-08-17T11:00:08.505231Z",
     "shell.execute_reply": "2021-08-17T11:00:08.506528Z"
    },
    "papermill": {
     "duration": 0.0668,
     "end_time": "2021-08-17T11:00:08.506978",
     "exception": false,
     "start_time": "2021-08-17T11:00:08.440178",
     "status": "completed"
    },
    "tags": []
   },
   "outputs": [
    {
     "data": {
      "text/html": [
       "<div>\n",
       "<style scoped>\n",
       "    .dataframe tbody tr th:only-of-type {\n",
       "        vertical-align: middle;\n",
       "    }\n",
       "\n",
       "    .dataframe tbody tr th {\n",
       "        vertical-align: top;\n",
       "    }\n",
       "\n",
       "    .dataframe thead th {\n",
       "        text-align: right;\n",
       "    }\n",
       "</style>\n",
       "<table border=\"1\" class=\"dataframe\">\n",
       "  <thead>\n",
       "    <tr style=\"text-align: right;\">\n",
       "      <th></th>\n",
       "      <th>RECORD_TIME</th>\n",
       "    </tr>\n",
       "  </thead>\n",
       "  <tbody>\n",
       "    <tr>\n",
       "      <th>0</th>\n",
       "      <td>2021-08-17 13:00</td>\n",
       "    </tr>\n",
       "    <tr>\n",
       "      <th>1</th>\n",
       "      <td>2021-08-17 12:30</td>\n",
       "    </tr>\n",
       "  </tbody>\n",
       "</table>\n",
       "</div>"
      ],
      "text/plain": [
       "        RECORD_TIME\n",
       "0  2021-08-17 13:00\n",
       "1  2021-08-17 12:30"
      ]
     },
     "execution_count": 3,
     "metadata": {},
     "output_type": "execute_result"
    }
   ],
   "source": [
    "timestamps"
   ]
  },
  {
   "cell_type": "code",
   "execution_count": 4,
   "id": "alternate-victory",
   "metadata": {
    "execution": {
     "iopub.execute_input": "2021-08-17T11:00:08.561012Z",
     "iopub.status.busy": "2021-08-17T11:00:08.558721Z",
     "iopub.status.idle": "2021-08-17T11:00:08.662572Z",
     "shell.execute_reply": "2021-08-17T11:00:08.663882Z"
    },
    "papermill": {
     "duration": 0.134495,
     "end_time": "2021-08-17T11:00:08.664283",
     "exception": false,
     "start_time": "2021-08-17T11:00:08.529788",
     "status": "completed"
    },
    "tags": []
   },
   "outputs": [],
   "source": [
    "df = pd.read_sql(\"select * from EBAY_TOP_BERLIN where record_time in (select distinct record_time from EBAY_TOP_BERLIN order by record_time desc limit 2)\", sqlite3.connect(\"UsedObjects.db\"))"
   ]
  },
  {
   "cell_type": "code",
   "execution_count": 5,
   "id": "popular-active",
   "metadata": {
    "execution": {
     "iopub.execute_input": "2021-08-17T11:00:08.735364Z",
     "iopub.status.busy": "2021-08-17T11:00:08.722458Z",
     "iopub.status.idle": "2021-08-17T11:00:08.750732Z",
     "shell.execute_reply": "2021-08-17T11:00:08.751968Z"
    },
    "papermill": {
     "duration": 0.067674,
     "end_time": "2021-08-17T11:00:08.752363",
     "exception": false,
     "start_time": "2021-08-17T11:00:08.684689",
     "status": "completed"
    },
    "tags": []
   },
   "outputs": [],
   "source": [
    "df_pivot = df.pivot_table(index=\"PRODUCT\", columns = \"RECORD_TIME\", values = \"LISTING_COUNT\")"
   ]
  },
  {
   "cell_type": "code",
   "execution_count": 6,
   "id": "union-huntington",
   "metadata": {
    "execution": {
     "iopub.execute_input": "2021-08-17T11:00:08.808435Z",
     "iopub.status.busy": "2021-08-17T11:00:08.806386Z",
     "iopub.status.idle": "2021-08-17T11:00:08.811758Z",
     "shell.execute_reply": "2021-08-17T11:00:08.812943Z"
    },
    "papermill": {
     "duration": 0.040366,
     "end_time": "2021-08-17T11:00:08.813366",
     "exception": false,
     "start_time": "2021-08-17T11:00:08.773000",
     "status": "completed"
    },
    "tags": []
   },
   "outputs": [],
   "source": [
    "df_pivot.columns = [\"stamp_1\", \"stamp_2\"]\n",
    "df_pivot_diff = df_pivot.diff(axis=1)"
   ]
  },
  {
   "cell_type": "code",
   "execution_count": 7,
   "id": "fifth-motion",
   "metadata": {
    "execution": {
     "iopub.execute_input": "2021-08-17T11:00:08.871026Z",
     "iopub.status.busy": "2021-08-17T11:00:08.868754Z",
     "iopub.status.idle": "2021-08-17T11:00:10.358760Z",
     "shell.execute_reply": "2021-08-17T11:00:10.360175Z"
    },
    "papermill": {
     "duration": 1.523509,
     "end_time": "2021-08-17T11:00:10.360616",
     "exception": false,
     "start_time": "2021-08-17T11:00:08.837107",
     "status": "completed"
    },
    "tags": []
   },
   "outputs": [
    {
     "data": {
      "text/plain": [
       "<AxesSubplot:ylabel='PRODUCT'>"
      ]
     },
     "execution_count": 7,
     "metadata": {},
     "output_type": "execute_result"
    },
    {
     "data": {
      "image/png": "[encoded data removed]",
      "text/plain": [
       "<Figure size 432x288 with 1 Axes>"
      ]
     },
     "metadata": {
      "needs_background": "light"
     },
     "output_type": "display_data"
    }
   ],
   "source": [
    "df_pivot_diff.sort_values(\"stamp_2\", ascending = False)[\"stamp_2\"].head(10).plot.barh()"
   ]
  },
  {
   "cell_type": "code",
   "execution_count": null,
   "id": "extra-executive",
   "metadata": {
    "papermill": {
     "duration": 0.022313,
     "end_time": "2021-08-17T11:00:10.407458",
     "exception": false,
     "start_time": "2021-08-17T11:00:10.385145",
     "status": "completed"
    },
    "tags": []
   },
   "outputs": [],
   "source": []
  }
 ],
 "metadata": {
  "kernelspec": {
   "display_name": "Python 3",
   "language": "python",
   "name": "python3"
  },
  "language_info": {
   "codemirror_mode": {
    "name": "ipython",
    "version": 3
   },
   "file_extension": ".py",
   "mimetype": "text/x-python",
   "name": "python",
   "nbconvert_exporter": "python",
   "pygments_lexer": "ipython3",
   "version": "3.9.5"
  },
  "papermill": {
   "default_parameters": {},
   "duration": 6.833174,
   "end_time": "2021-08-17T11:00:11.846867",
   "environment_variables": {},
   "exception": null,
   "input_path": "eBay_Overview.ipynb",
   "output_path": "eBay_Overview.ipynb",
   "parameters": {},
   "start_time": "2021-08-17T11:00:05.013693",
   "version": "2.3.3"
  }
 },
 "nbformat": 4,
 "nbformat_minor": 5
}