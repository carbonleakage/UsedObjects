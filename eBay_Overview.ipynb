{
 "cells": [
  {
   "cell_type": "code",
   "execution_count": 1,
   "id": "reverse-picking",
   "metadata": {
    "execution": {
     "iopub.execute_input": "2021-11-22T22:30:08.148253Z",
     "iopub.status.busy": "2021-11-22T22:30:08.145849Z",
     "iopub.status.idle": "2021-11-22T22:30:09.099874Z",
     "shell.execute_reply": "2021-11-22T22:30:09.101544Z"
    },
    "papermill": {
     "duration": 1.005824,
     "end_time": "2021-11-22T22:30:09.102300",
     "exception": false,
     "start_time": "2021-11-22T22:30:08.096476",
     "status": "completed"
    },
    "tags": []
   },
   "outputs": [],
   "source": [
    "import pandas as pd\n",
    "import sqlite3"
   ]
  },
  {
   "cell_type": "code",
   "execution_count": 2,
   "id": "innovative-syndrome",
   "metadata": {
    "execution": {
     "iopub.execute_input": "2021-11-22T22:30:09.177229Z",
     "iopub.status.busy": "2021-11-22T22:30:09.174911Z",
     "iopub.status.idle": "2021-11-22T22:30:10.080170Z",
     "shell.execute_reply": "2021-11-22T22:30:10.081610Z"
    },
    "papermill": {
     "duration": 0.939274,
     "end_time": "2021-11-22T22:30:10.082088",
     "exception": false,
     "start_time": "2021-11-22T22:30:09.142814",
     "status": "completed"
    },
    "tags": []
   },
   "outputs": [],
   "source": [
    "timestamps = pd.read_sql(\"select distinct record_time from EBAY_TOP_BERLIN order by record_time desc limit 2\", sqlite3.connect(\"UsedObjects.db\"))"
   ]
  },
  {
   "cell_type": "code",
   "execution_count": 3,
   "id": "periodic-identification",
   "metadata": {
    "execution": {
     "iopub.execute_input": "2021-11-22T22:30:10.157256Z",
     "iopub.status.busy": "2021-11-22T22:30:10.155022Z",
     "iopub.status.idle": "2021-11-22T22:30:10.175884Z",
     "shell.execute_reply": "2021-11-22T22:30:10.177253Z"
    },
    "papermill": {
     "duration": 0.075616,
     "end_time": "2021-11-22T22:30:10.177683",
     "exception": false,
     "start_time": "2021-11-22T22:30:10.102067",
     "status": "completed"
    },
    "tags": []
   },
   "outputs": [
    {
     "data": {
      "text/html": [
       "<div>\n",
       "<style scoped>\n",
       "    .dataframe tbody tr th:only-of-type {\n",
       "        vertical-align: middle;\n",
       "    }\n",
       "\n",
       "    .dataframe tbody tr th {\n",
       "        vertical-align: top;\n",
       "    }\n",
       "\n",
       "    .dataframe thead th {\n",
       "        text-align: right;\n",
       "    }\n",
       "</style>\n",
       "<table border=\"1\" class=\"dataframe\">\n",
       "  <thead>\n",
       "    <tr style=\"text-align: right;\">\n",
       "      <th></th>\n",
       "      <th>RECORD_TIME</th>\n",
       "    </tr>\n",
       "  </thead>\n",
       "  <tbody>\n",
       "    <tr>\n",
       "      <th>0</th>\n",
       "      <td>2021-11-22 23:30</td>\n",
       "    </tr>\n",
       "    <tr>\n",
       "      <th>1</th>\n",
       "      <td>2021-11-22 23:00</td>\n",
       "    </tr>\n",
       "  </tbody>\n",
       "</table>\n",
       "</div>"
      ],
      "text/plain": [
       "        RECORD_TIME\n",
       "0  2021-11-22 23:30\n",
       "1  2021-11-22 23:00"
      ]
     },
     "execution_count": 3,
     "metadata": {},
     "output_type": "execute_result"
    }
   ],
   "source": [
    "timestamps"
   ]
  },
  {
   "cell_type": "code",
   "execution_count": 4,
   "id": "alternate-victory",
   "metadata": {
    "execution": {
     "iopub.execute_input": "2021-11-22T22:30:10.229716Z",
     "iopub.status.busy": "2021-11-22T22:30:10.227738Z",
     "iopub.status.idle": "2021-11-22T22:30:11.570526Z",
     "shell.execute_reply": "2021-11-22T22:30:11.572208Z"
    },
    "papermill": {
     "duration": 1.373583,
     "end_time": "2021-11-22T22:30:11.572736",
     "exception": false,
     "start_time": "2021-11-22T22:30:10.199153",
     "status": "completed"
    },
    "tags": []
   },
   "outputs": [],
   "source": [
    "df = pd.read_sql(\"select * from EBAY_TOP_BERLIN where record_time in (select distinct record_time from EBAY_TOP_BERLIN order by record_time desc limit 2)\", sqlite3.connect(\"UsedObjects.db\"))"
   ]
  },
  {
   "cell_type": "code",
   "execution_count": 5,
   "id": "popular-active",
   "metadata": {
    "execution": {
     "iopub.execute_input": "2021-11-22T22:30:11.649609Z",
     "iopub.status.busy": "2021-11-22T22:30:11.641241Z",
     "iopub.status.idle": "2021-11-22T22:30:11.667315Z",
     "shell.execute_reply": "2021-11-22T22:30:11.668788Z"
    },
    "papermill": {
     "duration": 0.074544,
     "end_time": "2021-11-22T22:30:11.669274",
     "exception": false,
     "start_time": "2021-11-22T22:30:11.594730",
     "status": "completed"
    },
    "tags": []
   },
   "outputs": [],
   "source": [
    "df_pivot = df.pivot_table(index=\"PRODUCT\", columns = \"RECORD_TIME\", values = \"LISTING_COUNT\")"
   ]
  },
  {
   "cell_type": "code",
   "execution_count": 6,
   "id": "union-huntington",
   "metadata": {
    "execution": {
     "iopub.execute_input": "2021-11-22T22:30:11.732039Z",
     "iopub.status.busy": "2021-11-22T22:30:11.729704Z",
     "iopub.status.idle": "2021-11-22T22:30:11.735773Z",
     "shell.execute_reply": "2021-11-22T22:30:11.737393Z"
    },
    "papermill": {
     "duration": 0.048412,
     "end_time": "2021-11-22T22:30:11.737904",
     "exception": false,
     "start_time": "2021-11-22T22:30:11.689492",
     "status": "completed"
    },
    "tags": []
   },
   "outputs": [],
   "source": [
    "df_pivot.columns = [\"stamp_1\", \"stamp_2\"]\n",
    "df_pivot_diff = df_pivot.diff(axis=1)"
   ]
  },
  {
   "cell_type": "code",
   "execution_count": 7,
   "id": "fifth-motion",
   "metadata": {
    "execution": {
     "iopub.execute_input": "2021-11-22T22:30:11.798687Z",
     "iopub.status.busy": "2021-11-22T22:30:11.795885Z",
     "iopub.status.idle": "2021-11-22T22:30:13.807230Z",
     "shell.execute_reply": "2021-11-22T22:30:13.809047Z"
    },
    "papermill": {
     "duration": 2.049362,
     "end_time": "2021-11-22T22:30:13.809626",
     "exception": false,
     "start_time": "2021-11-22T22:30:11.760264",
     "status": "completed"
    },
    "tags": []
   },
   "outputs": [
    {
     "data": {
      "text/plain": [
       "<AxesSubplot:ylabel='PRODUCT'>"
      ]
     },
     "execution_count": 7,
     "metadata": {},
     "output_type": "execute_result"
    },
    {
     "data": {
      "image/png": "[encoded data removed]",
      "text/plain": [
       "<Figure size 432x288 with 1 Axes>"
      ]
     },
     "metadata": {
      "needs_background": "light"
     },
     "output_type": "display_data"
    }
   ],
   "source": [
    "df_pivot_diff.sort_values(\"stamp_2\", ascending = False)[\"stamp_2\"].head(10).plot.barh()"
   ]
  },
  {
   "cell_type": "code",
   "execution_count": null,
   "id": "extra-executive",
   "metadata": {
    "papermill": {
     "duration": 0.034399,
     "end_time": "2021-11-22T22:30:13.878424",
     "exception": false,
     "start_time": "2021-11-22T22:30:13.844025",
     "status": "completed"
    },
    "tags": []
   },
   "outputs": [],
   "source": []
  }
 ],
 "metadata": {
  "kernelspec": {
   "display_name": "Python 3",
   "language": "python",
   "name": "python3"
  },
  "language_info": {
   "codemirror_mode": {
    "name": "ipython",
    "version": 3
   },
   "file_extension": ".py",
   "mimetype": "text/x-python",
   "name": "python",
   "nbconvert_exporter": "python",
   "pygments_lexer": "ipython3",
   "version": "3.9.5"
  },
  "papermill": {
   "default_parameters": {},
   "duration": 9.94021,
   "end_time": "2021-11-22T22:30:15.306679",
   "environment_variables": {},
   "exception": null,
   "input_path": "eBay_Overview.ipynb",
   "output_path": "eBay_Overview.ipynb",
   "parameters": {},
   "start_time": "2021-11-22T22:30:05.366469",
   "version": "2.3.3"
  }
 },
 "nbformat": 4,
 "nbformat_minor": 5
}