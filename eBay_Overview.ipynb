{
 "cells": [
  {
   "cell_type": "code",
   "execution_count": 1,
   "id": "reverse-picking",
   "metadata": {
    "execution": {
     "iopub.execute_input": "2021-11-23T11:30:08.236146Z",
     "iopub.status.busy": "2021-11-23T11:30:08.233035Z",
     "iopub.status.idle": "2021-11-23T11:30:09.192131Z",
     "shell.execute_reply": "2021-11-23T11:30:09.190300Z"
    },
    "papermill": {
     "duration": 1.006655,
     "end_time": "2021-11-23T11:30:09.192631",
     "exception": false,
     "start_time": "2021-11-23T11:30:08.185976",
     "status": "completed"
    },
    "tags": []
   },
   "outputs": [],
   "source": [
    "import pandas as pd\n",
    "import sqlite3"
   ]
  },
  {
   "cell_type": "code",
   "execution_count": 2,
   "id": "innovative-syndrome",
   "metadata": {
    "execution": {
     "iopub.execute_input": "2021-11-23T11:30:09.247921Z",
     "iopub.status.busy": "2021-11-23T11:30:09.245724Z",
     "iopub.status.idle": "2021-11-23T11:30:10.133442Z",
     "shell.execute_reply": "2021-11-23T11:30:10.134741Z"
    },
    "papermill": {
     "duration": 0.921033,
     "end_time": "2021-11-23T11:30:10.135146",
     "exception": false,
     "start_time": "2021-11-23T11:30:09.214113",
     "status": "completed"
    },
    "tags": []
   },
   "outputs": [],
   "source": [
    "timestamps = pd.read_sql(\"select distinct record_time from EBAY_TOP_BERLIN order by record_time desc limit 2\", sqlite3.connect(\"UsedObjects.db\"))"
   ]
  },
  {
   "cell_type": "code",
   "execution_count": 3,
   "id": "periodic-identification",
   "metadata": {
    "execution": {
     "iopub.execute_input": "2021-11-23T11:30:10.198795Z",
     "iopub.status.busy": "2021-11-23T11:30:10.196769Z",
     "iopub.status.idle": "2021-11-23T11:30:10.216283Z",
     "shell.execute_reply": "2021-11-23T11:30:10.217847Z"
    },
    "papermill": {
     "duration": 0.06392,
     "end_time": "2021-11-23T11:30:10.218291",
     "exception": false,
     "start_time": "2021-11-23T11:30:10.154371",
     "status": "completed"
    },
    "tags": []
   },
   "outputs": [
    {
     "data": {
      "text/html": [
       "<div>\n",
       "<style scoped>\n",
       "    .dataframe tbody tr th:only-of-type {\n",
       "        vertical-align: middle;\n",
       "    }\n",
       "\n",
       "    .dataframe tbody tr th {\n",
       "        vertical-align: top;\n",
       "    }\n",
       "\n",
       "    .dataframe thead th {\n",
       "        text-align: right;\n",
       "    }\n",
       "</style>\n",
       "<table border=\"1\" class=\"dataframe\">\n",
       "  <thead>\n",
       "    <tr style=\"text-align: right;\">\n",
       "      <th></th>\n",
       "      <th>RECORD_TIME</th>\n",
       "    </tr>\n",
       "  </thead>\n",
       "  <tbody>\n",
       "    <tr>\n",
       "      <th>0</th>\n",
       "      <td>2021-11-23 12:30</td>\n",
       "    </tr>\n",
       "    <tr>\n",
       "      <th>1</th>\n",
       "      <td>2021-11-23 12:00</td>\n",
       "    </tr>\n",
       "  </tbody>\n",
       "</table>\n",
       "</div>"
      ],
      "text/plain": [
       "        RECORD_TIME\n",
       "0  2021-11-23 12:30\n",
       "1  2021-11-23 12:00"
      ]
     },
     "execution_count": 3,
     "metadata": {},
     "output_type": "execute_result"
    }
   ],
   "source": [
    "timestamps"
   ]
  },
  {
   "cell_type": "code",
   "execution_count": 4,
   "id": "alternate-victory",
   "metadata": {
    "execution": {
     "iopub.execute_input": "2021-11-23T11:30:10.272139Z",
     "iopub.status.busy": "2021-11-23T11:30:10.270048Z",
     "iopub.status.idle": "2021-11-23T11:30:11.585903Z",
     "shell.execute_reply": "2021-11-23T11:30:11.588571Z"
    },
    "papermill": {
     "duration": 1.349923,
     "end_time": "2021-11-23T11:30:11.589216",
     "exception": false,
     "start_time": "2021-11-23T11:30:10.239293",
     "status": "completed"
    },
    "tags": []
   },
   "outputs": [],
   "source": [
    "df = pd.read_sql(\"select * from EBAY_TOP_BERLIN where record_time in (select distinct record_time from EBAY_TOP_BERLIN order by record_time desc limit 2)\", sqlite3.connect(\"UsedObjects.db\"))"
   ]
  },
  {
   "cell_type": "code",
   "execution_count": 5,
   "id": "popular-active",
   "metadata": {
    "execution": {
     "iopub.execute_input": "2021-11-23T11:30:11.656610Z",
     "iopub.status.busy": "2021-11-23T11:30:11.654155Z",
     "iopub.status.idle": "2021-11-23T11:30:11.691039Z",
     "shell.execute_reply": "2021-11-23T11:30:11.692739Z"
    },
    "papermill": {
     "duration": 0.082189,
     "end_time": "2021-11-23T11:30:11.693273",
     "exception": false,
     "start_time": "2021-11-23T11:30:11.611084",
     "status": "completed"
    },
    "tags": []
   },
   "outputs": [],
   "source": [
    "df_pivot = df.pivot_table(index=\"PRODUCT\", columns = \"RECORD_TIME\", values = \"LISTING_COUNT\")"
   ]
  },
  {
   "cell_type": "code",
   "execution_count": 6,
   "id": "union-huntington",
   "metadata": {
    "execution": {
     "iopub.execute_input": "2021-11-23T11:30:11.752414Z",
     "iopub.status.busy": "2021-11-23T11:30:11.750197Z",
     "iopub.status.idle": "2021-11-23T11:30:11.755748Z",
     "shell.execute_reply": "2021-11-23T11:30:11.757116Z"
    },
    "papermill": {
     "duration": 0.043015,
     "end_time": "2021-11-23T11:30:11.757578",
     "exception": false,
     "start_time": "2021-11-23T11:30:11.714563",
     "status": "completed"
    },
    "tags": []
   },
   "outputs": [],
   "source": [
    "df_pivot.columns = [\"stamp_1\", \"stamp_2\"]\n",
    "df_pivot_diff = df_pivot.diff(axis=1)"
   ]
  },
  {
   "cell_type": "code",
   "execution_count": 7,
   "id": "fifth-motion",
   "metadata": {
    "execution": {
     "iopub.execute_input": "2021-11-23T11:30:11.813432Z",
     "iopub.status.busy": "2021-11-23T11:30:11.810981Z",
     "iopub.status.idle": "2021-11-23T11:30:13.716025Z",
     "shell.execute_reply": "2021-11-23T11:30:13.718564Z"
    },
    "papermill": {
     "duration": 1.9418,
     "end_time": "2021-11-23T11:30:13.719449",
     "exception": false,
     "start_time": "2021-11-23T11:30:11.777649",
     "status": "completed"
    },
    "tags": []
   },
   "outputs": [
    {
     "data": {
      "text/plain": [
       "<AxesSubplot:ylabel='PRODUCT'>"
      ]
     },
     "execution_count": 7,
     "metadata": {},
     "output_type": "execute_result"
    },
    {
     "data": {
      "image/png": "[encoded data removed]",
      "text/plain": [
       "<Figure size 432x288 with 1 Axes>"
      ]
     },
     "metadata": {
      "needs_background": "light"
     },
     "output_type": "display_data"
    }
   ],
   "source": [
    "df_pivot_diff.sort_values(\"stamp_2\", ascending = False)[\"stamp_2\"].head(10).plot.barh()"
   ]
  },
  {
   "cell_type": "code",
   "execution_count": null,
   "id": "extra-executive",
   "metadata": {
    "papermill": {
     "duration": 0.027954,
     "end_time": "2021-11-23T11:30:13.783652",
     "exception": false,
     "start_time": "2021-11-23T11:30:13.755698",
     "status": "completed"
    },
    "tags": []
   },
   "outputs": [],
   "source": []
  }
 ],
 "metadata": {
  "kernelspec": {
   "display_name": "Python 3",
   "language": "python",
   "name": "python3"
  },
  "language_info": {
   "codemirror_mode": {
    "name": "ipython",
    "version": 3
   },
   "file_extension": ".py",
   "mimetype": "text/x-python",
   "name": "python",
   "nbconvert_exporter": "python",
   "pygments_lexer": "ipython3",
   "version": "3.9.5"
  },
  "papermill": {
   "default_parameters": {},
   "duration": 9.931678,
   "end_time": "2021-11-23T11:30:15.403805",
   "environment_variables": {},
   "exception": null,
   "input_path": "eBay_Overview.ipynb",
   "output_path": "eBay_Overview.ipynb",
   "parameters": {},
   "start_time": "2021-11-23T11:30:05.472127",
   "version": "2.3.3"
  }
 },
 "nbformat": 4,
 "nbformat_minor": 5
}