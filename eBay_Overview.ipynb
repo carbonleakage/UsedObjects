{
 "cells": [
  {
   "cell_type": "code",
   "execution_count": 1,
   "id": "reverse-picking",
   "metadata": {
    "execution": {
     "iopub.execute_input": "2021-12-02T14:30:07.515485Z",
     "iopub.status.busy": "2021-12-02T14:30:07.513232Z",
     "iopub.status.idle": "2021-12-02T14:30:08.440725Z",
     "shell.execute_reply": "2021-12-02T14:30:08.442236Z"
    },
    "papermill": {
     "duration": 0.978355,
     "end_time": "2021-12-02T14:30:08.442970",
     "exception": false,
     "start_time": "2021-12-02T14:30:07.464615",
     "status": "completed"
    },
    "tags": []
   },
   "outputs": [],
   "source": [
    "import pandas as pd\n",
    "import sqlite3"
   ]
  },
  {
   "cell_type": "code",
   "execution_count": 2,
   "id": "innovative-syndrome",
   "metadata": {
    "execution": {
     "iopub.execute_input": "2021-12-02T14:30:08.505849Z",
     "iopub.status.busy": "2021-12-02T14:30:08.503484Z",
     "iopub.status.idle": "2021-12-02T14:30:09.458206Z",
     "shell.execute_reply": "2021-12-02T14:30:09.459714Z"
    },
    "papermill": {
     "duration": 0.990033,
     "end_time": "2021-12-02T14:30:09.460305",
     "exception": false,
     "start_time": "2021-12-02T14:30:08.470272",
     "status": "completed"
    },
    "tags": []
   },
   "outputs": [],
   "source": [
    "timestamps = pd.read_sql(\"select distinct record_time from EBAY_TOP_BERLIN order by record_time desc limit 2\", sqlite3.connect(\"UsedObjects.db\"))"
   ]
  },
  {
   "cell_type": "code",
   "execution_count": 3,
   "id": "periodic-identification",
   "metadata": {
    "execution": {
     "iopub.execute_input": "2021-12-02T14:30:09.535395Z",
     "iopub.status.busy": "2021-12-02T14:30:09.528172Z",
     "iopub.status.idle": "2021-12-02T14:30:09.552083Z",
     "shell.execute_reply": "2021-12-02T14:30:09.553788Z"
    },
    "papermill": {
     "duration": 0.073476,
     "end_time": "2021-12-02T14:30:09.554301",
     "exception": false,
     "start_time": "2021-12-02T14:30:09.480825",
     "status": "completed"
    },
    "tags": []
   },
   "outputs": [
    {
     "data": {
      "text/html": [
       "<div>\n",
       "<style scoped>\n",
       "    .dataframe tbody tr th:only-of-type {\n",
       "        vertical-align: middle;\n",
       "    }\n",
       "\n",
       "    .dataframe tbody tr th {\n",
       "        vertical-align: top;\n",
       "    }\n",
       "\n",
       "    .dataframe thead th {\n",
       "        text-align: right;\n",
       "    }\n",
       "</style>\n",
       "<table border=\"1\" class=\"dataframe\">\n",
       "  <thead>\n",
       "    <tr style=\"text-align: right;\">\n",
       "      <th></th>\n",
       "      <th>RECORD_TIME</th>\n",
       "    </tr>\n",
       "  </thead>\n",
       "  <tbody>\n",
       "    <tr>\n",
       "      <th>0</th>\n",
       "      <td>2021-12-02 15:30</td>\n",
       "    </tr>\n",
       "    <tr>\n",
       "      <th>1</th>\n",
       "      <td>2021-12-02 15:00</td>\n",
       "    </tr>\n",
       "  </tbody>\n",
       "</table>\n",
       "</div>"
      ],
      "text/plain": [
       "        RECORD_TIME\n",
       "0  2021-12-02 15:30\n",
       "1  2021-12-02 15:00"
      ]
     },
     "execution_count": 3,
     "metadata": {},
     "output_type": "execute_result"
    }
   ],
   "source": [
    "timestamps"
   ]
  },
  {
   "cell_type": "code",
   "execution_count": 4,
   "id": "alternate-victory",
   "metadata": {
    "execution": {
     "iopub.execute_input": "2021-12-02T14:30:09.610684Z",
     "iopub.status.busy": "2021-12-02T14:30:09.608419Z",
     "iopub.status.idle": "2021-12-02T14:30:10.982067Z",
     "shell.execute_reply": "2021-12-02T14:30:10.983502Z"
    },
    "papermill": {
     "duration": 1.408148,
     "end_time": "2021-12-02T14:30:10.983952",
     "exception": false,
     "start_time": "2021-12-02T14:30:09.575804",
     "status": "completed"
    },
    "tags": []
   },
   "outputs": [],
   "source": [
    "df = pd.read_sql(\"select * from EBAY_TOP_BERLIN where record_time in (select distinct record_time from EBAY_TOP_BERLIN order by record_time desc limit 2)\", sqlite3.connect(\"UsedObjects.db\"))"
   ]
  },
  {
   "cell_type": "code",
   "execution_count": 5,
   "id": "popular-active",
   "metadata": {
    "execution": {
     "iopub.execute_input": "2021-12-02T14:30:11.062997Z",
     "iopub.status.busy": "2021-12-02T14:30:11.046773Z",
     "iopub.status.idle": "2021-12-02T14:30:11.081981Z",
     "shell.execute_reply": "2021-12-02T14:30:11.083245Z"
    },
    "papermill": {
     "duration": 0.078734,
     "end_time": "2021-12-02T14:30:11.083704",
     "exception": false,
     "start_time": "2021-12-02T14:30:11.004970",
     "status": "completed"
    },
    "tags": []
   },
   "outputs": [],
   "source": [
    "df_pivot = df.pivot_table(index=\"PRODUCT\", columns = \"RECORD_TIME\", values = \"LISTING_COUNT\")"
   ]
  },
  {
   "cell_type": "code",
   "execution_count": 6,
   "id": "union-huntington",
   "metadata": {
    "execution": {
     "iopub.execute_input": "2021-12-02T14:30:11.146364Z",
     "iopub.status.busy": "2021-12-02T14:30:11.144023Z",
     "iopub.status.idle": "2021-12-02T14:30:11.149602Z",
     "shell.execute_reply": "2021-12-02T14:30:11.151286Z"
    },
    "papermill": {
     "duration": 0.046333,
     "end_time": "2021-12-02T14:30:11.151786",
     "exception": false,
     "start_time": "2021-12-02T14:30:11.105453",
     "status": "completed"
    },
    "tags": []
   },
   "outputs": [],
   "source": [
    "df_pivot.columns = [\"stamp_1\", \"stamp_2\"]\n",
    "df_pivot_diff = df_pivot.diff(axis=1)"
   ]
  },
  {
   "cell_type": "code",
   "execution_count": 7,
   "id": "fifth-motion",
   "metadata": {
    "execution": {
     "iopub.execute_input": "2021-12-02T14:30:11.208453Z",
     "iopub.status.busy": "2021-12-02T14:30:11.205995Z",
     "iopub.status.idle": "2021-12-02T14:30:13.120079Z",
     "shell.execute_reply": "2021-12-02T14:30:13.121528Z"
    },
    "papermill": {
     "duration": 1.949091,
     "end_time": "2021-12-02T14:30:13.122009",
     "exception": false,
     "start_time": "2021-12-02T14:30:11.172918",
     "status": "completed"
    },
    "tags": []
   },
   "outputs": [
    {
     "data": {
      "text/plain": [
       "<AxesSubplot:ylabel='PRODUCT'>"
      ]
     },
     "execution_count": 7,
     "metadata": {},
     "output_type": "execute_result"
    },
    {
     "data": {
      "image/png": "[encoded data removed]",
      "text/plain": [
       "<Figure size 432x288 with 1 Axes>"
      ]
     },
     "metadata": {
      "needs_background": "light"
     },
     "output_type": "display_data"
    }
   ],
   "source": [
    "df_pivot_diff.sort_values(\"stamp_2\", ascending = False)[\"stamp_2\"].head(10).plot.barh()"
   ]
  },
  {
   "cell_type": "code",
   "execution_count": null,
   "id": "extra-executive",
   "metadata": {
    "papermill": {
     "duration": 0.025454,
     "end_time": "2021-12-02T14:30:13.171119",
     "exception": false,
     "start_time": "2021-12-02T14:30:13.145665",
     "status": "completed"
    },
    "tags": []
   },
   "outputs": [],
   "source": []
  }
 ],
 "metadata": {
  "kernelspec": {
   "display_name": "Python 3",
   "language": "python",
   "name": "python3"
  },
  "language_info": {
   "codemirror_mode": {
    "name": "ipython",
    "version": 3
   },
   "file_extension": ".py",
   "mimetype": "text/x-python",
   "name": "python",
   "nbconvert_exporter": "python",
   "pygments_lexer": "ipython3",
   "version": "3.9.5"
  },
  "papermill": {
   "default_parameters": {},
   "duration": 9.92913,
   "end_time": "2021-12-02T14:30:14.639930",
   "environment_variables": {},
   "exception": null,
   "input_path": "eBay_Overview.ipynb",
   "output_path": "eBay_Overview.ipynb",
   "parameters": {},
   "start_time": "2021-12-02T14:30:04.710800",
   "version": "2.3.3"
  }
 },
 "nbformat": 4,
 "nbformat_minor": 5
}