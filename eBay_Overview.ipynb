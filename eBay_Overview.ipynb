{
 "cells": [
  {
   "cell_type": "code",
   "execution_count": 1,
   "id": "reverse-picking",
   "metadata": {
    "execution": {
     "iopub.execute_input": "2021-11-28T04:30:07.301453Z",
     "iopub.status.busy": "2021-11-28T04:30:07.299168Z",
     "iopub.status.idle": "2021-11-28T04:30:08.253607Z",
     "shell.execute_reply": "2021-11-28T04:30:08.255065Z"
    },
    "papermill": {
     "duration": 1.004063,
     "end_time": "2021-11-28T04:30:08.255750",
     "exception": false,
     "start_time": "2021-11-28T04:30:07.251687",
     "status": "completed"
    },
    "tags": []
   },
   "outputs": [],
   "source": [
    "import pandas as pd\n",
    "import sqlite3"
   ]
  },
  {
   "cell_type": "code",
   "execution_count": 2,
   "id": "innovative-syndrome",
   "metadata": {
    "execution": {
     "iopub.execute_input": "2021-11-28T04:30:08.317782Z",
     "iopub.status.busy": "2021-11-28T04:30:08.315317Z",
     "iopub.status.idle": "2021-11-28T04:30:09.250953Z",
     "shell.execute_reply": "2021-11-28T04:30:09.252162Z"
    },
    "papermill": {
     "duration": 0.969454,
     "end_time": "2021-11-28T04:30:09.252560",
     "exception": false,
     "start_time": "2021-11-28T04:30:08.283106",
     "status": "completed"
    },
    "tags": []
   },
   "outputs": [],
   "source": [
    "timestamps = pd.read_sql(\"select distinct record_time from EBAY_TOP_BERLIN order by record_time desc limit 2\", sqlite3.connect(\"UsedObjects.db\"))"
   ]
  },
  {
   "cell_type": "code",
   "execution_count": 3,
   "id": "periodic-identification",
   "metadata": {
    "execution": {
     "iopub.execute_input": "2021-11-28T04:30:09.327785Z",
     "iopub.status.busy": "2021-11-28T04:30:09.325521Z",
     "iopub.status.idle": "2021-11-28T04:30:09.348868Z",
     "shell.execute_reply": "2021-11-28T04:30:09.350375Z"
    },
    "papermill": {
     "duration": 0.075261,
     "end_time": "2021-11-28T04:30:09.350863",
     "exception": false,
     "start_time": "2021-11-28T04:30:09.275602",
     "status": "completed"
    },
    "tags": []
   },
   "outputs": [
    {
     "data": {
      "text/html": [
       "<div>\n",
       "<style scoped>\n",
       "    .dataframe tbody tr th:only-of-type {\n",
       "        vertical-align: middle;\n",
       "    }\n",
       "\n",
       "    .dataframe tbody tr th {\n",
       "        vertical-align: top;\n",
       "    }\n",
       "\n",
       "    .dataframe thead th {\n",
       "        text-align: right;\n",
       "    }\n",
       "</style>\n",
       "<table border=\"1\" class=\"dataframe\">\n",
       "  <thead>\n",
       "    <tr style=\"text-align: right;\">\n",
       "      <th></th>\n",
       "      <th>RECORD_TIME</th>\n",
       "    </tr>\n",
       "  </thead>\n",
       "  <tbody>\n",
       "    <tr>\n",
       "      <th>0</th>\n",
       "      <td>2021-11-28 05:30</td>\n",
       "    </tr>\n",
       "    <tr>\n",
       "      <th>1</th>\n",
       "      <td>2021-11-28 05:00</td>\n",
       "    </tr>\n",
       "  </tbody>\n",
       "</table>\n",
       "</div>"
      ],
      "text/plain": [
       "        RECORD_TIME\n",
       "0  2021-11-28 05:30\n",
       "1  2021-11-28 05:00"
      ]
     },
     "execution_count": 3,
     "metadata": {},
     "output_type": "execute_result"
    }
   ],
   "source": [
    "timestamps"
   ]
  },
  {
   "cell_type": "code",
   "execution_count": 4,
   "id": "alternate-victory",
   "metadata": {
    "execution": {
     "iopub.execute_input": "2021-11-28T04:30:09.405311Z",
     "iopub.status.busy": "2021-11-28T04:30:09.403072Z",
     "iopub.status.idle": "2021-11-28T04:30:10.772511Z",
     "shell.execute_reply": "2021-11-28T04:30:10.774274Z"
    },
    "papermill": {
     "duration": 1.402772,
     "end_time": "2021-11-28T04:30:10.774756",
     "exception": false,
     "start_time": "2021-11-28T04:30:09.371984",
     "status": "completed"
    },
    "tags": []
   },
   "outputs": [],
   "source": [
    "df = pd.read_sql(\"select * from EBAY_TOP_BERLIN where record_time in (select distinct record_time from EBAY_TOP_BERLIN order by record_time desc limit 2)\", sqlite3.connect(\"UsedObjects.db\"))"
   ]
  },
  {
   "cell_type": "code",
   "execution_count": 5,
   "id": "popular-active",
   "metadata": {
    "execution": {
     "iopub.execute_input": "2021-11-28T04:30:10.841783Z",
     "iopub.status.busy": "2021-11-28T04:30:10.839073Z",
     "iopub.status.idle": "2021-11-28T04:30:10.873402Z",
     "shell.execute_reply": "2021-11-28T04:30:10.875015Z"
    },
    "papermill": {
     "duration": 0.079315,
     "end_time": "2021-11-28T04:30:10.875559",
     "exception": false,
     "start_time": "2021-11-28T04:30:10.796244",
     "status": "completed"
    },
    "tags": []
   },
   "outputs": [],
   "source": [
    "df_pivot = df.pivot_table(index=\"PRODUCT\", columns = \"RECORD_TIME\", values = \"LISTING_COUNT\")"
   ]
  },
  {
   "cell_type": "code",
   "execution_count": 6,
   "id": "union-huntington",
   "metadata": {
    "execution": {
     "iopub.execute_input": "2021-11-28T04:30:10.935752Z",
     "iopub.status.busy": "2021-11-28T04:30:10.933560Z",
     "iopub.status.idle": "2021-11-28T04:30:10.938725Z",
     "shell.execute_reply": "2021-11-28T04:30:10.940073Z"
    },
    "papermill": {
     "duration": 0.04331,
     "end_time": "2021-11-28T04:30:10.940544",
     "exception": false,
     "start_time": "2021-11-28T04:30:10.897234",
     "status": "completed"
    },
    "tags": []
   },
   "outputs": [],
   "source": [
    "df_pivot.columns = [\"stamp_1\", \"stamp_2\"]\n",
    "df_pivot_diff = df_pivot.diff(axis=1)"
   ]
  },
  {
   "cell_type": "code",
   "execution_count": 7,
   "id": "fifth-motion",
   "metadata": {
    "execution": {
     "iopub.execute_input": "2021-11-28T04:30:10.997771Z",
     "iopub.status.busy": "2021-11-28T04:30:10.994755Z",
     "iopub.status.idle": "2021-11-28T04:30:12.962507Z",
     "shell.execute_reply": "2021-11-28T04:30:12.964750Z"
    },
    "papermill": {
     "duration": 2.005068,
     "end_time": "2021-11-28T04:30:12.965596",
     "exception": false,
     "start_time": "2021-11-28T04:30:10.960528",
     "status": "completed"
    },
    "tags": []
   },
   "outputs": [
    {
     "data": {
      "text/plain": [
       "<AxesSubplot:ylabel='PRODUCT'>"
      ]
     },
     "execution_count": 7,
     "metadata": {},
     "output_type": "execute_result"
    },
    {
     "data": {
      "image/png": "[encoded data removed]",
      "text/plain": [
       "<Figure size 432x288 with 1 Axes>"
      ]
     },
     "metadata": {
      "needs_background": "light"
     },
     "output_type": "display_data"
    }
   ],
   "source": [
    "df_pivot_diff.sort_values(\"stamp_2\", ascending = False)[\"stamp_2\"].head(10).plot.barh()"
   ]
  },
  {
   "cell_type": "code",
   "execution_count": null,
   "id": "extra-executive",
   "metadata": {
    "papermill": {
     "duration": 0.035908,
     "end_time": "2021-11-28T04:30:13.040537",
     "exception": false,
     "start_time": "2021-11-28T04:30:13.004629",
     "status": "completed"
    },
    "tags": []
   },
   "outputs": [],
   "source": []
  }
 ],
 "metadata": {
  "kernelspec": {
   "display_name": "Python 3",
   "language": "python",
   "name": "python3"
  },
  "language_info": {
   "codemirror_mode": {
    "name": "ipython",
    "version": 3
   },
   "file_extension": ".py",
   "mimetype": "text/x-python",
   "name": "python",
   "nbconvert_exporter": "python",
   "pygments_lexer": "ipython3",
   "version": "3.9.5"
  },
  "papermill": {
   "default_parameters": {},
   "duration": 9.939263,
   "end_time": "2021-11-28T04:30:14.460930",
   "environment_variables": {},
   "exception": null,
   "input_path": "eBay_Overview.ipynb",
   "output_path": "eBay_Overview.ipynb",
   "parameters": {},
   "start_time": "2021-11-28T04:30:04.521667",
   "version": "2.3.3"
  }
 },
 "nbformat": 4,
 "nbformat_minor": 5
}