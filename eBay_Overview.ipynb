{
 "cells": [
  {
   "cell_type": "code",
   "execution_count": 1,
   "id": "reverse-picking",
   "metadata": {
    "execution": {
     "iopub.execute_input": "2021-10-28T10:00:07.122190Z",
     "iopub.status.busy": "2021-10-28T10:00:07.120153Z",
     "iopub.status.idle": "2021-10-28T10:00:07.922984Z",
     "shell.execute_reply": "2021-10-28T10:00:07.924252Z"
    },
    "papermill": {
     "duration": 0.854585,
     "end_time": "2021-10-28T10:00:07.924946",
     "exception": false,
     "start_time": "2021-10-28T10:00:07.070361",
     "status": "completed"
    },
    "tags": []
   },
   "outputs": [],
   "source": [
    "import pandas as pd\n",
    "import sqlite3"
   ]
  },
  {
   "cell_type": "code",
   "execution_count": 2,
   "id": "innovative-syndrome",
   "metadata": {
    "execution": {
     "iopub.execute_input": "2021-10-28T10:00:07.976000Z",
     "iopub.status.busy": "2021-10-28T10:00:07.974122Z",
     "iopub.status.idle": "2021-10-28T10:00:08.640345Z",
     "shell.execute_reply": "2021-10-28T10:00:08.641590Z"
    },
    "papermill": {
     "duration": 0.69593,
     "end_time": "2021-10-28T10:00:08.642027",
     "exception": false,
     "start_time": "2021-10-28T10:00:07.946097",
     "status": "completed"
    },
    "tags": []
   },
   "outputs": [],
   "source": [
    "timestamps = pd.read_sql(\"select distinct record_time from EBAY_TOP_BERLIN order by record_time desc limit 2\", sqlite3.connect(\"UsedObjects.db\"))"
   ]
  },
  {
   "cell_type": "code",
   "execution_count": 3,
   "id": "periodic-identification",
   "metadata": {
    "execution": {
     "iopub.execute_input": "2021-10-28T10:00:08.719358Z",
     "iopub.status.busy": "2021-10-28T10:00:08.717304Z",
     "iopub.status.idle": "2021-10-28T10:00:08.737552Z",
     "shell.execute_reply": "2021-10-28T10:00:08.738785Z"
    },
    "papermill": {
     "duration": 0.071034,
     "end_time": "2021-10-28T10:00:08.739219",
     "exception": false,
     "start_time": "2021-10-28T10:00:08.668185",
     "status": "completed"
    },
    "tags": []
   },
   "outputs": [
    {
     "data": {
      "text/html": [
       "<div>\n",
       "<style scoped>\n",
       "    .dataframe tbody tr th:only-of-type {\n",
       "        vertical-align: middle;\n",
       "    }\n",
       "\n",
       "    .dataframe tbody tr th {\n",
       "        vertical-align: top;\n",
       "    }\n",
       "\n",
       "    .dataframe thead th {\n",
       "        text-align: right;\n",
       "    }\n",
       "</style>\n",
       "<table border=\"1\" class=\"dataframe\">\n",
       "  <thead>\n",
       "    <tr style=\"text-align: right;\">\n",
       "      <th></th>\n",
       "      <th>RECORD_TIME</th>\n",
       "    </tr>\n",
       "  </thead>\n",
       "  <tbody>\n",
       "    <tr>\n",
       "      <th>0</th>\n",
       "      <td>2021-10-28 12:00</td>\n",
       "    </tr>\n",
       "    <tr>\n",
       "      <th>1</th>\n",
       "      <td>2021-10-28 11:30</td>\n",
       "    </tr>\n",
       "  </tbody>\n",
       "</table>\n",
       "</div>"
      ],
      "text/plain": [
       "        RECORD_TIME\n",
       "0  2021-10-28 12:00\n",
       "1  2021-10-28 11:30"
      ]
     },
     "execution_count": 3,
     "metadata": {},
     "output_type": "execute_result"
    }
   ],
   "source": [
    "timestamps"
   ]
  },
  {
   "cell_type": "code",
   "execution_count": 4,
   "id": "alternate-victory",
   "metadata": {
    "execution": {
     "iopub.execute_input": "2021-10-28T10:00:08.791651Z",
     "iopub.status.busy": "2021-10-28T10:00:08.789335Z",
     "iopub.status.idle": "2021-10-28T10:00:09.737568Z",
     "shell.execute_reply": "2021-10-28T10:00:09.738871Z"
    },
    "papermill": {
     "duration": 0.978625,
     "end_time": "2021-10-28T10:00:09.739296",
     "exception": false,
     "start_time": "2021-10-28T10:00:08.760671",
     "status": "completed"
    },
    "tags": []
   },
   "outputs": [],
   "source": [
    "df = pd.read_sql(\"select * from EBAY_TOP_BERLIN where record_time in (select distinct record_time from EBAY_TOP_BERLIN order by record_time desc limit 2)\", sqlite3.connect(\"UsedObjects.db\"))"
   ]
  },
  {
   "cell_type": "code",
   "execution_count": 5,
   "id": "popular-active",
   "metadata": {
    "execution": {
     "iopub.execute_input": "2021-10-28T10:00:09.809599Z",
     "iopub.status.busy": "2021-10-28T10:00:09.797060Z",
     "iopub.status.idle": "2021-10-28T10:00:09.826556Z",
     "shell.execute_reply": "2021-10-28T10:00:09.827940Z"
    },
    "papermill": {
     "duration": 0.06816,
     "end_time": "2021-10-28T10:00:09.828383",
     "exception": false,
     "start_time": "2021-10-28T10:00:09.760223",
     "status": "completed"
    },
    "tags": []
   },
   "outputs": [],
   "source": [
    "df_pivot = df.pivot_table(index=\"PRODUCT\", columns = \"RECORD_TIME\", values = \"LISTING_COUNT\")"
   ]
  },
  {
   "cell_type": "code",
   "execution_count": 6,
   "id": "union-huntington",
   "metadata": {
    "execution": {
     "iopub.execute_input": "2021-10-28T10:00:09.885128Z",
     "iopub.status.busy": "2021-10-28T10:00:09.882991Z",
     "iopub.status.idle": "2021-10-28T10:00:09.888149Z",
     "shell.execute_reply": "2021-10-28T10:00:09.889639Z"
    },
    "papermill": {
     "duration": 0.04111,
     "end_time": "2021-10-28T10:00:09.890100",
     "exception": false,
     "start_time": "2021-10-28T10:00:09.848990",
     "status": "completed"
    },
    "tags": []
   },
   "outputs": [],
   "source": [
    "df_pivot.columns = [\"stamp_1\", \"stamp_2\"]\n",
    "df_pivot_diff = df_pivot.diff(axis=1)"
   ]
  },
  {
   "cell_type": "code",
   "execution_count": 7,
   "id": "fifth-motion",
   "metadata": {
    "execution": {
     "iopub.execute_input": "2021-10-28T10:00:09.945635Z",
     "iopub.status.busy": "2021-10-28T10:00:09.943058Z",
     "iopub.status.idle": "2021-10-28T10:00:11.465595Z",
     "shell.execute_reply": "2021-10-28T10:00:11.467026Z"
    },
    "papermill": {
     "duration": 1.555808,
     "end_time": "2021-10-28T10:00:11.467480",
     "exception": false,
     "start_time": "2021-10-28T10:00:09.911672",
     "status": "completed"
    },
    "tags": []
   },
   "outputs": [
    {
     "data": {
      "text/plain": [
       "<AxesSubplot:ylabel='PRODUCT'>"
      ]
     },
     "execution_count": 7,
     "metadata": {},
     "output_type": "execute_result"
    },
    {
     "data": {
      "image/png": "[encoded data removed]",
      "text/plain": [
       "<Figure size 432x288 with 1 Axes>"
      ]
     },
     "metadata": {
      "needs_background": "light"
     },
     "output_type": "display_data"
    }
   ],
   "source": [
    "df_pivot_diff.sort_values(\"stamp_2\", ascending = False)[\"stamp_2\"].head(10).plot.barh()"
   ]
  },
  {
   "cell_type": "code",
   "execution_count": null,
   "id": "extra-executive",
   "metadata": {
    "papermill": {
     "duration": 0.02246,
     "end_time": "2021-10-28T10:00:11.515333",
     "exception": false,
     "start_time": "2021-10-28T10:00:11.492873",
     "status": "completed"
    },
    "tags": []
   },
   "outputs": [],
   "source": []
  }
 ],
 "metadata": {
  "kernelspec": {
   "display_name": "Python 3",
   "language": "python",
   "name": "python3"
  },
  "language_info": {
   "codemirror_mode": {
    "name": "ipython",
    "version": 3
   },
   "file_extension": ".py",
   "mimetype": "text/x-python",
   "name": "python",
   "nbconvert_exporter": "python",
   "pygments_lexer": "ipython3",
   "version": "3.9.5"
  },
  "papermill": {
   "default_parameters": {},
   "duration": 7.487947,
   "end_time": "2021-10-28T10:00:12.159497",
   "environment_variables": {},
   "exception": null,
   "input_path": "eBay_Overview.ipynb",
   "output_path": "eBay_Overview.ipynb",
   "parameters": {},
   "start_time": "2021-10-28T10:00:04.671550",
   "version": "2.3.3"
  }
 },
 "nbformat": 4,
 "nbformat_minor": 5
}