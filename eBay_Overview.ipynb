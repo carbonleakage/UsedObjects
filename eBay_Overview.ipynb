{
 "cells": [
  {
   "cell_type": "code",
   "execution_count": 1,
   "id": "reverse-picking",
   "metadata": {
    "execution": {
     "iopub.execute_input": "2021-09-11T21:00:06.553187Z",
     "iopub.status.busy": "2021-09-11T21:00:06.551264Z",
     "iopub.status.idle": "2021-09-11T21:00:07.362328Z",
     "shell.execute_reply": "2021-09-11T21:00:07.360777Z"
    },
    "papermill": {
     "duration": 0.86174,
     "end_time": "2021-09-11T21:00:07.362726",
     "exception": false,
     "start_time": "2021-09-11T21:00:06.500986",
     "status": "completed"
    },
    "tags": []
   },
   "outputs": [],
   "source": [
    "import pandas as pd\n",
    "import sqlite3"
   ]
  },
  {
   "cell_type": "code",
   "execution_count": 2,
   "id": "innovative-syndrome",
   "metadata": {
    "execution": {
     "iopub.execute_input": "2021-09-11T21:00:07.416272Z",
     "iopub.status.busy": "2021-09-11T21:00:07.413896Z",
     "iopub.status.idle": "2021-09-11T21:00:07.676653Z",
     "shell.execute_reply": "2021-09-11T21:00:07.677901Z"
    },
    "papermill": {
     "duration": 0.29291,
     "end_time": "2021-09-11T21:00:07.678326",
     "exception": false,
     "start_time": "2021-09-11T21:00:07.385416",
     "status": "completed"
    },
    "tags": []
   },
   "outputs": [],
   "source": [
    "timestamps = pd.read_sql(\"select distinct record_time from EBAY_TOP_BERLIN order by record_time desc limit 2\", sqlite3.connect(\"UsedObjects.db\"))"
   ]
  },
  {
   "cell_type": "code",
   "execution_count": 3,
   "id": "periodic-identification",
   "metadata": {
    "execution": {
     "iopub.execute_input": "2021-09-11T21:00:07.745519Z",
     "iopub.status.busy": "2021-09-11T21:00:07.743490Z",
     "iopub.status.idle": "2021-09-11T21:00:07.763588Z",
     "shell.execute_reply": "2021-09-11T21:00:07.764892Z"
    },
    "papermill": {
     "duration": 0.06727,
     "end_time": "2021-09-11T21:00:07.765318",
     "exception": false,
     "start_time": "2021-09-11T21:00:07.698048",
     "status": "completed"
    },
    "tags": []
   },
   "outputs": [
    {
     "data": {
      "text/html": [
       "<div>\n",
       "<style scoped>\n",
       "    .dataframe tbody tr th:only-of-type {\n",
       "        vertical-align: middle;\n",
       "    }\n",
       "\n",
       "    .dataframe tbody tr th {\n",
       "        vertical-align: top;\n",
       "    }\n",
       "\n",
       "    .dataframe thead th {\n",
       "        text-align: right;\n",
       "    }\n",
       "</style>\n",
       "<table border=\"1\" class=\"dataframe\">\n",
       "  <thead>\n",
       "    <tr style=\"text-align: right;\">\n",
       "      <th></th>\n",
       "      <th>RECORD_TIME</th>\n",
       "    </tr>\n",
       "  </thead>\n",
       "  <tbody>\n",
       "    <tr>\n",
       "      <th>0</th>\n",
       "      <td>2021-09-11 23:00</td>\n",
       "    </tr>\n",
       "    <tr>\n",
       "      <th>1</th>\n",
       "      <td>2021-09-11 22:30</td>\n",
       "    </tr>\n",
       "  </tbody>\n",
       "</table>\n",
       "</div>"
      ],
      "text/plain": [
       "        RECORD_TIME\n",
       "0  2021-09-11 23:00\n",
       "1  2021-09-11 22:30"
      ]
     },
     "execution_count": 3,
     "metadata": {},
     "output_type": "execute_result"
    }
   ],
   "source": [
    "timestamps"
   ]
  },
  {
   "cell_type": "code",
   "execution_count": 4,
   "id": "alternate-victory",
   "metadata": {
    "execution": {
     "iopub.execute_input": "2021-09-11T21:00:07.817219Z",
     "iopub.status.busy": "2021-09-11T21:00:07.815061Z",
     "iopub.status.idle": "2021-09-11T21:00:08.208618Z",
     "shell.execute_reply": "2021-09-11T21:00:08.209733Z"
    },
    "papermill": {
     "duration": 0.423583,
     "end_time": "2021-09-11T21:00:08.210151",
     "exception": false,
     "start_time": "2021-09-11T21:00:07.786568",
     "status": "completed"
    },
    "tags": []
   },
   "outputs": [],
   "source": [
    "df = pd.read_sql(\"select * from EBAY_TOP_BERLIN where record_time in (select distinct record_time from EBAY_TOP_BERLIN order by record_time desc limit 2)\", sqlite3.connect(\"UsedObjects.db\"))"
   ]
  },
  {
   "cell_type": "code",
   "execution_count": 5,
   "id": "popular-active",
   "metadata": {
    "execution": {
     "iopub.execute_input": "2021-09-11T21:00:08.291696Z",
     "iopub.status.busy": "2021-09-11T21:00:08.284310Z",
     "iopub.status.idle": "2021-09-11T21:00:08.312848Z",
     "shell.execute_reply": "2021-09-11T21:00:08.314044Z"
    },
    "papermill": {
     "duration": 0.072729,
     "end_time": "2021-09-11T21:00:08.314450",
     "exception": false,
     "start_time": "2021-09-11T21:00:08.241721",
     "status": "completed"
    },
    "tags": []
   },
   "outputs": [],
   "source": [
    "df_pivot = df.pivot_table(index=\"PRODUCT\", columns = \"RECORD_TIME\", values = \"LISTING_COUNT\")"
   ]
  },
  {
   "cell_type": "code",
   "execution_count": 6,
   "id": "union-huntington",
   "metadata": {
    "execution": {
     "iopub.execute_input": "2021-09-11T21:00:08.373755Z",
     "iopub.status.busy": "2021-09-11T21:00:08.371333Z",
     "iopub.status.idle": "2021-09-11T21:00:08.377183Z",
     "shell.execute_reply": "2021-09-11T21:00:08.378458Z"
    },
    "papermill": {
     "duration": 0.042149,
     "end_time": "2021-09-11T21:00:08.378937",
     "exception": false,
     "start_time": "2021-09-11T21:00:08.336788",
     "status": "completed"
    },
    "tags": []
   },
   "outputs": [],
   "source": [
    "df_pivot.columns = [\"stamp_1\", \"stamp_2\"]\n",
    "df_pivot_diff = df_pivot.diff(axis=1)"
   ]
  },
  {
   "cell_type": "code",
   "execution_count": 7,
   "id": "fifth-motion",
   "metadata": {
    "execution": {
     "iopub.execute_input": "2021-09-11T21:00:08.433537Z",
     "iopub.status.busy": "2021-09-11T21:00:08.431179Z",
     "iopub.status.idle": "2021-09-11T21:00:09.933845Z",
     "shell.execute_reply": "2021-09-11T21:00:09.935468Z"
    },
    "papermill": {
     "duration": 1.536839,
     "end_time": "2021-09-11T21:00:09.935981",
     "exception": false,
     "start_time": "2021-09-11T21:00:08.399142",
     "status": "completed"
    },
    "tags": []
   },
   "outputs": [
    {
     "data": {
      "text/plain": [
       "<AxesSubplot:ylabel='PRODUCT'>"
      ]
     },
     "execution_count": 7,
     "metadata": {},
     "output_type": "execute_result"
    },
    {
     "data": {
      "image/png": "[encoded data removed]",
      "text/plain": [
       "<Figure size 432x288 with 1 Axes>"
      ]
     },
     "metadata": {
      "needs_background": "light"
     },
     "output_type": "display_data"
    }
   ],
   "source": [
    "df_pivot_diff.sort_values(\"stamp_2\", ascending = False)[\"stamp_2\"].head(10).plot.barh()"
   ]
  },
  {
   "cell_type": "code",
   "execution_count": null,
   "id": "extra-executive",
   "metadata": {
    "papermill": {
     "duration": 0.02244,
     "end_time": "2021-09-11T21:00:09.985570",
     "exception": false,
     "start_time": "2021-09-11T21:00:09.963130",
     "status": "completed"
    },
    "tags": []
   },
   "outputs": [],
   "source": []
  }
 ],
 "metadata": {
  "kernelspec": {
   "display_name": "Python 3",
   "language": "python",
   "name": "python3"
  },
  "language_info": {
   "codemirror_mode": {
    "name": "ipython",
    "version": 3
   },
   "file_extension": ".py",
   "mimetype": "text/x-python",
   "name": "python",
   "nbconvert_exporter": "python",
   "pygments_lexer": "ipython3",
   "version": "3.9.5"
  },
  "papermill": {
   "default_parameters": {},
   "duration": 6.541875,
   "end_time": "2021-09-11T21:00:10.626122",
   "environment_variables": {},
   "exception": null,
   "input_path": "eBay_Overview.ipynb",
   "output_path": "eBay_Overview.ipynb",
   "parameters": {},
   "start_time": "2021-09-11T21:00:04.084247",
   "version": "2.3.3"
  }
 },
 "nbformat": 4,
 "nbformat_minor": 5
}