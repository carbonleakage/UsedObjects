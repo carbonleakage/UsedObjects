{
 "cells": [
  {
   "cell_type": "code",
   "execution_count": 1,
   "id": "reverse-picking",
   "metadata": {
    "execution": {
     "iopub.execute_input": "2021-10-01T23:00:06.928339Z",
     "iopub.status.busy": "2021-10-01T23:00:06.926274Z",
     "iopub.status.idle": "2021-10-01T23:00:07.732694Z",
     "shell.execute_reply": "2021-10-01T23:00:07.733950Z"
    },
    "papermill": {
     "duration": 0.857085,
     "end_time": "2021-10-01T23:00:07.734567",
     "exception": false,
     "start_time": "2021-10-01T23:00:06.877482",
     "status": "completed"
    },
    "tags": []
   },
   "outputs": [],
   "source": [
    "import pandas as pd\n",
    "import sqlite3"
   ]
  },
  {
   "cell_type": "code",
   "execution_count": 2,
   "id": "innovative-syndrome",
   "metadata": {
    "execution": {
     "iopub.execute_input": "2021-10-01T23:00:07.787750Z",
     "iopub.status.busy": "2021-10-01T23:00:07.785343Z",
     "iopub.status.idle": "2021-10-01T23:00:08.220780Z",
     "shell.execute_reply": "2021-10-01T23:00:08.221974Z"
    },
    "papermill": {
     "duration": 0.465379,
     "end_time": "2021-10-01T23:00:08.222371",
     "exception": false,
     "start_time": "2021-10-01T23:00:07.756992",
     "status": "completed"
    },
    "tags": []
   },
   "outputs": [],
   "source": [
    "timestamps = pd.read_sql(\"select distinct record_time from EBAY_TOP_BERLIN order by record_time desc limit 2\", sqlite3.connect(\"UsedObjects.db\"))"
   ]
  },
  {
   "cell_type": "code",
   "execution_count": 3,
   "id": "periodic-identification",
   "metadata": {
    "execution": {
     "iopub.execute_input": "2021-10-01T23:00:08.287376Z",
     "iopub.status.busy": "2021-10-01T23:00:08.285277Z",
     "iopub.status.idle": "2021-10-01T23:00:08.304930Z",
     "shell.execute_reply": "2021-10-01T23:00:08.306149Z"
    },
    "papermill": {
     "duration": 0.063272,
     "end_time": "2021-10-01T23:00:08.306540",
     "exception": false,
     "start_time": "2021-10-01T23:00:08.243268",
     "status": "completed"
    },
    "tags": []
   },
   "outputs": [
    {
     "data": {
      "text/html": [
       "<div>\n",
       "<style scoped>\n",
       "    .dataframe tbody tr th:only-of-type {\n",
       "        vertical-align: middle;\n",
       "    }\n",
       "\n",
       "    .dataframe tbody tr th {\n",
       "        vertical-align: top;\n",
       "    }\n",
       "\n",
       "    .dataframe thead th {\n",
       "        text-align: right;\n",
       "    }\n",
       "</style>\n",
       "<table border=\"1\" class=\"dataframe\">\n",
       "  <thead>\n",
       "    <tr style=\"text-align: right;\">\n",
       "      <th></th>\n",
       "      <th>RECORD_TIME</th>\n",
       "    </tr>\n",
       "  </thead>\n",
       "  <tbody>\n",
       "    <tr>\n",
       "      <th>0</th>\n",
       "      <td>2021-10-02 01:00</td>\n",
       "    </tr>\n",
       "    <tr>\n",
       "      <th>1</th>\n",
       "      <td>2021-10-02 00:30</td>\n",
       "    </tr>\n",
       "  </tbody>\n",
       "</table>\n",
       "</div>"
      ],
      "text/plain": [
       "        RECORD_TIME\n",
       "0  2021-10-02 01:00\n",
       "1  2021-10-02 00:30"
      ]
     },
     "execution_count": 3,
     "metadata": {},
     "output_type": "execute_result"
    }
   ],
   "source": [
    "timestamps"
   ]
  },
  {
   "cell_type": "code",
   "execution_count": 4,
   "id": "alternate-victory",
   "metadata": {
    "execution": {
     "iopub.execute_input": "2021-10-01T23:00:08.383079Z",
     "iopub.status.busy": "2021-10-01T23:00:08.380992Z",
     "iopub.status.idle": "2021-10-01T23:00:09.028601Z",
     "shell.execute_reply": "2021-10-01T23:00:09.029893Z"
    },
    "papermill": {
     "duration": 0.702027,
     "end_time": "2021-10-01T23:00:09.030307",
     "exception": false,
     "start_time": "2021-10-01T23:00:08.328280",
     "status": "completed"
    },
    "tags": []
   },
   "outputs": [],
   "source": [
    "df = pd.read_sql(\"select * from EBAY_TOP_BERLIN where record_time in (select distinct record_time from EBAY_TOP_BERLIN order by record_time desc limit 2)\", sqlite3.connect(\"UsedObjects.db\"))"
   ]
  },
  {
   "cell_type": "code",
   "execution_count": 5,
   "id": "popular-active",
   "metadata": {
    "execution": {
     "iopub.execute_input": "2021-10-01T23:00:09.099918Z",
     "iopub.status.busy": "2021-10-01T23:00:09.088444Z",
     "iopub.status.idle": "2021-10-01T23:00:09.115573Z",
     "shell.execute_reply": "2021-10-01T23:00:09.116802Z"
    },
    "papermill": {
     "duration": 0.066736,
     "end_time": "2021-10-01T23:00:09.117199",
     "exception": false,
     "start_time": "2021-10-01T23:00:09.050463",
     "status": "completed"
    },
    "tags": []
   },
   "outputs": [],
   "source": [
    "df_pivot = df.pivot_table(index=\"PRODUCT\", columns = \"RECORD_TIME\", values = \"LISTING_COUNT\")"
   ]
  },
  {
   "cell_type": "code",
   "execution_count": 6,
   "id": "union-huntington",
   "metadata": {
    "execution": {
     "iopub.execute_input": "2021-10-01T23:00:09.175059Z",
     "iopub.status.busy": "2021-10-01T23:00:09.172736Z",
     "iopub.status.idle": "2021-10-01T23:00:09.178687Z",
     "shell.execute_reply": "2021-10-01T23:00:09.180128Z"
    },
    "papermill": {
     "duration": 0.041982,
     "end_time": "2021-10-01T23:00:09.180606",
     "exception": false,
     "start_time": "2021-10-01T23:00:09.138624",
     "status": "completed"
    },
    "tags": []
   },
   "outputs": [],
   "source": [
    "df_pivot.columns = [\"stamp_1\", \"stamp_2\"]\n",
    "df_pivot_diff = df_pivot.diff(axis=1)"
   ]
  },
  {
   "cell_type": "code",
   "execution_count": 7,
   "id": "fifth-motion",
   "metadata": {
    "execution": {
     "iopub.execute_input": "2021-10-01T23:00:09.235577Z",
     "iopub.status.busy": "2021-10-01T23:00:09.233201Z",
     "iopub.status.idle": "2021-10-01T23:00:10.728376Z",
     "shell.execute_reply": "2021-10-01T23:00:10.729849Z"
    },
    "papermill": {
     "duration": 1.52793,
     "end_time": "2021-10-01T23:00:10.730313",
     "exception": false,
     "start_time": "2021-10-01T23:00:09.202383",
     "status": "completed"
    },
    "tags": []
   },
   "outputs": [
    {
     "data": {
      "text/plain": [
       "<AxesSubplot:ylabel='PRODUCT'>"
      ]
     },
     "execution_count": 7,
     "metadata": {},
     "output_type": "execute_result"
    },
    {
     "data": {
      "image/png": "[encoded data removed]",
      "text/plain": [
       "<Figure size 432x288 with 1 Axes>"
      ]
     },
     "metadata": {
      "needs_background": "light"
     },
     "output_type": "display_data"
    }
   ],
   "source": [
    "df_pivot_diff.sort_values(\"stamp_2\", ascending = False)[\"stamp_2\"].head(10).plot.barh()"
   ]
  },
  {
   "cell_type": "code",
   "execution_count": null,
   "id": "extra-executive",
   "metadata": {
    "papermill": {
     "duration": 0.022133,
     "end_time": "2021-10-01T23:00:10.776185",
     "exception": false,
     "start_time": "2021-10-01T23:00:10.754052",
     "status": "completed"
    },
    "tags": []
   },
   "outputs": [],
   "source": []
  }
 ],
 "metadata": {
  "kernelspec": {
   "display_name": "Python 3",
   "language": "python",
   "name": "python3"
  },
  "language_info": {
   "codemirror_mode": {
    "name": "ipython",
    "version": 3
   },
   "file_extension": ".py",
   "mimetype": "text/x-python",
   "name": "python",
   "nbconvert_exporter": "python",
   "pygments_lexer": "ipython3",
   "version": "3.9.5"
  },
  "papermill": {
   "default_parameters": {},
   "duration": 7.824473,
   "end_time": "2021-10-01T23:00:12.287634",
   "environment_variables": {},
   "exception": null,
   "input_path": "eBay_Overview.ipynb",
   "output_path": "eBay_Overview.ipynb",
   "parameters": {},
   "start_time": "2021-10-01T23:00:04.463161",
   "version": "2.3.3"
  }
 },
 "nbformat": 4,
 "nbformat_minor": 5
}