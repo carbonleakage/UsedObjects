{
 "cells": [
  {
   "cell_type": "code",
   "execution_count": 1,
   "id": "reverse-picking",
   "metadata": {
    "execution": {
     "iopub.execute_input": "2021-10-28T06:30:06.747207Z",
     "iopub.status.busy": "2021-10-28T06:30:06.745259Z",
     "iopub.status.idle": "2021-10-28T06:30:07.547626Z",
     "shell.execute_reply": "2021-10-28T06:30:07.549031Z"
    },
    "papermill": {
     "duration": 0.856573,
     "end_time": "2021-10-28T06:30:07.549693",
     "exception": false,
     "start_time": "2021-10-28T06:30:06.693120",
     "status": "completed"
    },
    "tags": []
   },
   "outputs": [],
   "source": [
    "import pandas as pd\n",
    "import sqlite3"
   ]
  },
  {
   "cell_type": "code",
   "execution_count": 2,
   "id": "innovative-syndrome",
   "metadata": {
    "execution": {
     "iopub.execute_input": "2021-10-28T06:30:07.600138Z",
     "iopub.status.busy": "2021-10-28T06:30:07.598159Z",
     "iopub.status.idle": "2021-10-28T06:30:08.260819Z",
     "shell.execute_reply": "2021-10-28T06:30:08.262051Z"
    },
    "papermill": {
     "duration": 0.692607,
     "end_time": "2021-10-28T06:30:08.262448",
     "exception": false,
     "start_time": "2021-10-28T06:30:07.569841",
     "status": "completed"
    },
    "tags": []
   },
   "outputs": [],
   "source": [
    "timestamps = pd.read_sql(\"select distinct record_time from EBAY_TOP_BERLIN order by record_time desc limit 2\", sqlite3.connect(\"UsedObjects.db\"))"
   ]
  },
  {
   "cell_type": "code",
   "execution_count": 3,
   "id": "periodic-identification",
   "metadata": {
    "execution": {
     "iopub.execute_input": "2021-10-28T06:30:08.336531Z",
     "iopub.status.busy": "2021-10-28T06:30:08.334497Z",
     "iopub.status.idle": "2021-10-28T06:30:08.354397Z",
     "shell.execute_reply": "2021-10-28T06:30:08.355625Z"
    },
    "papermill": {
     "duration": 0.068664,
     "end_time": "2021-10-28T06:30:08.356022",
     "exception": false,
     "start_time": "2021-10-28T06:30:08.287358",
     "status": "completed"
    },
    "tags": []
   },
   "outputs": [
    {
     "data": {
      "text/html": [
       "<div>\n",
       "<style scoped>\n",
       "    .dataframe tbody tr th:only-of-type {\n",
       "        vertical-align: middle;\n",
       "    }\n",
       "\n",
       "    .dataframe tbody tr th {\n",
       "        vertical-align: top;\n",
       "    }\n",
       "\n",
       "    .dataframe thead th {\n",
       "        text-align: right;\n",
       "    }\n",
       "</style>\n",
       "<table border=\"1\" class=\"dataframe\">\n",
       "  <thead>\n",
       "    <tr style=\"text-align: right;\">\n",
       "      <th></th>\n",
       "      <th>RECORD_TIME</th>\n",
       "    </tr>\n",
       "  </thead>\n",
       "  <tbody>\n",
       "    <tr>\n",
       "      <th>0</th>\n",
       "      <td>2021-10-28 08:30</td>\n",
       "    </tr>\n",
       "    <tr>\n",
       "      <th>1</th>\n",
       "      <td>2021-10-28 08:00</td>\n",
       "    </tr>\n",
       "  </tbody>\n",
       "</table>\n",
       "</div>"
      ],
      "text/plain": [
       "        RECORD_TIME\n",
       "0  2021-10-28 08:30\n",
       "1  2021-10-28 08:00"
      ]
     },
     "execution_count": 3,
     "metadata": {},
     "output_type": "execute_result"
    }
   ],
   "source": [
    "timestamps"
   ]
  },
  {
   "cell_type": "code",
   "execution_count": 4,
   "id": "alternate-victory",
   "metadata": {
    "execution": {
     "iopub.execute_input": "2021-10-28T06:30:08.409090Z",
     "iopub.status.busy": "2021-10-28T06:30:08.406727Z",
     "iopub.status.idle": "2021-10-28T06:30:09.405766Z",
     "shell.execute_reply": "2021-10-28T06:30:09.404160Z"
    },
    "papermill": {
     "duration": 1.027902,
     "end_time": "2021-10-28T06:30:09.406157",
     "exception": false,
     "start_time": "2021-10-28T06:30:08.378255",
     "status": "completed"
    },
    "tags": []
   },
   "outputs": [],
   "source": [
    "df = pd.read_sql(\"select * from EBAY_TOP_BERLIN where record_time in (select distinct record_time from EBAY_TOP_BERLIN order by record_time desc limit 2)\", sqlite3.connect(\"UsedObjects.db\"))"
   ]
  },
  {
   "cell_type": "code",
   "execution_count": 5,
   "id": "popular-active",
   "metadata": {
    "execution": {
     "iopub.execute_input": "2021-10-28T06:30:09.476060Z",
     "iopub.status.busy": "2021-10-28T06:30:09.464247Z",
     "iopub.status.idle": "2021-10-28T06:30:09.493816Z",
     "shell.execute_reply": "2021-10-28T06:30:09.495198Z"
    },
    "papermill": {
     "duration": 0.068755,
     "end_time": "2021-10-28T06:30:09.495637",
     "exception": false,
     "start_time": "2021-10-28T06:30:09.426882",
     "status": "completed"
    },
    "tags": []
   },
   "outputs": [],
   "source": [
    "df_pivot = df.pivot_table(index=\"PRODUCT\", columns = \"RECORD_TIME\", values = \"LISTING_COUNT\")"
   ]
  },
  {
   "cell_type": "code",
   "execution_count": 6,
   "id": "union-huntington",
   "metadata": {
    "execution": {
     "iopub.execute_input": "2021-10-28T06:30:09.552160Z",
     "iopub.status.busy": "2021-10-28T06:30:09.549848Z",
     "iopub.status.idle": "2021-10-28T06:30:09.555578Z",
     "shell.execute_reply": "2021-10-28T06:30:09.556978Z"
    },
    "papermill": {
     "duration": 0.041679,
     "end_time": "2021-10-28T06:30:09.557444",
     "exception": false,
     "start_time": "2021-10-28T06:30:09.515765",
     "status": "completed"
    },
    "tags": []
   },
   "outputs": [],
   "source": [
    "df_pivot.columns = [\"stamp_1\", \"stamp_2\"]\n",
    "df_pivot_diff = df_pivot.diff(axis=1)"
   ]
  },
  {
   "cell_type": "code",
   "execution_count": 7,
   "id": "fifth-motion",
   "metadata": {
    "execution": {
     "iopub.execute_input": "2021-10-28T06:30:09.611886Z",
     "iopub.status.busy": "2021-10-28T06:30:09.609593Z",
     "iopub.status.idle": "2021-10-28T06:30:11.105438Z",
     "shell.execute_reply": "2021-10-28T06:30:11.106731Z"
    },
    "papermill": {
     "duration": 1.529244,
     "end_time": "2021-10-28T06:30:11.107157",
     "exception": false,
     "start_time": "2021-10-28T06:30:09.577913",
     "status": "completed"
    },
    "tags": []
   },
   "outputs": [
    {
     "data": {
      "text/plain": [
       "<AxesSubplot:ylabel='PRODUCT'>"
      ]
     },
     "execution_count": 7,
     "metadata": {},
     "output_type": "execute_result"
    },
    {
     "data": {
      "image/png": "[encoded data removed]",
      "text/plain": [
       "<Figure size 432x288 with 1 Axes>"
      ]
     },
     "metadata": {
      "needs_background": "light"
     },
     "output_type": "display_data"
    }
   ],
   "source": [
    "df_pivot_diff.sort_values(\"stamp_2\", ascending = False)[\"stamp_2\"].head(10).plot.barh()"
   ]
  },
  {
   "cell_type": "code",
   "execution_count": null,
   "id": "extra-executive",
   "metadata": {
    "papermill": {
     "duration": 0.022076,
     "end_time": "2021-10-28T06:30:11.155656",
     "exception": false,
     "start_time": "2021-10-28T06:30:11.133580",
     "status": "completed"
    },
    "tags": []
   },
   "outputs": [],
   "source": []
  }
 ],
 "metadata": {
  "kernelspec": {
   "display_name": "Python 3",
   "language": "python",
   "name": "python3"
  },
  "language_info": {
   "codemirror_mode": {
    "name": "ipython",
    "version": 3
   },
   "file_extension": ".py",
   "mimetype": "text/x-python",
   "name": "python",
   "nbconvert_exporter": "python",
   "pygments_lexer": "ipython3",
   "version": "3.9.5"
  },
  "papermill": {
   "default_parameters": {},
   "duration": 7.502842,
   "end_time": "2021-10-28T06:30:11.799304",
   "environment_variables": {},
   "exception": null,
   "input_path": "eBay_Overview.ipynb",
   "output_path": "eBay_Overview.ipynb",
   "parameters": {},
   "start_time": "2021-10-28T06:30:04.296462",
   "version": "2.3.3"
  }
 },
 "nbformat": 4,
 "nbformat_minor": 5
}