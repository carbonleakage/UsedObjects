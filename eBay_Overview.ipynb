{
 "cells": [
  {
   "cell_type": "code",
   "execution_count": 1,
   "id": "reverse-picking",
   "metadata": {
    "execution": {
     "iopub.execute_input": "2021-10-22T03:30:06.840058Z",
     "iopub.status.busy": "2021-10-22T03:30:06.838119Z",
     "iopub.status.idle": "2021-10-22T03:30:07.645704Z",
     "shell.execute_reply": "2021-10-22T03:30:07.646971Z"
    },
    "papermill": {
     "duration": 0.859481,
     "end_time": "2021-10-22T03:30:07.647604",
     "exception": false,
     "start_time": "2021-10-22T03:30:06.788123",
     "status": "completed"
    },
    "tags": []
   },
   "outputs": [],
   "source": [
    "import pandas as pd\n",
    "import sqlite3"
   ]
  },
  {
   "cell_type": "code",
   "execution_count": 2,
   "id": "innovative-syndrome",
   "metadata": {
    "execution": {
     "iopub.execute_input": "2021-10-22T03:30:07.698302Z",
     "iopub.status.busy": "2021-10-22T03:30:07.696257Z",
     "iopub.status.idle": "2021-10-22T03:30:08.301929Z",
     "shell.execute_reply": "2021-10-22T03:30:08.303134Z"
    },
    "papermill": {
     "duration": 0.635088,
     "end_time": "2021-10-22T03:30:08.303535",
     "exception": false,
     "start_time": "2021-10-22T03:30:07.668447",
     "status": "completed"
    },
    "tags": []
   },
   "outputs": [],
   "source": [
    "timestamps = pd.read_sql(\"select distinct record_time from EBAY_TOP_BERLIN order by record_time desc limit 2\", sqlite3.connect(\"UsedObjects.db\"))"
   ]
  },
  {
   "cell_type": "code",
   "execution_count": 3,
   "id": "periodic-identification",
   "metadata": {
    "execution": {
     "iopub.execute_input": "2021-10-22T03:30:08.379479Z",
     "iopub.status.busy": "2021-10-22T03:30:08.377433Z",
     "iopub.status.idle": "2021-10-22T03:30:08.397405Z",
     "shell.execute_reply": "2021-10-22T03:30:08.398636Z"
    },
    "papermill": {
     "duration": 0.068518,
     "end_time": "2021-10-22T03:30:08.399032",
     "exception": false,
     "start_time": "2021-10-22T03:30:08.330514",
     "status": "completed"
    },
    "tags": []
   },
   "outputs": [
    {
     "data": {
      "text/html": [
       "<div>\n",
       "<style scoped>\n",
       "    .dataframe tbody tr th:only-of-type {\n",
       "        vertical-align: middle;\n",
       "    }\n",
       "\n",
       "    .dataframe tbody tr th {\n",
       "        vertical-align: top;\n",
       "    }\n",
       "\n",
       "    .dataframe thead th {\n",
       "        text-align: right;\n",
       "    }\n",
       "</style>\n",
       "<table border=\"1\" class=\"dataframe\">\n",
       "  <thead>\n",
       "    <tr style=\"text-align: right;\">\n",
       "      <th></th>\n",
       "      <th>RECORD_TIME</th>\n",
       "    </tr>\n",
       "  </thead>\n",
       "  <tbody>\n",
       "    <tr>\n",
       "      <th>0</th>\n",
       "      <td>2021-10-22 05:30</td>\n",
       "    </tr>\n",
       "    <tr>\n",
       "      <th>1</th>\n",
       "      <td>2021-10-22 05:00</td>\n",
       "    </tr>\n",
       "  </tbody>\n",
       "</table>\n",
       "</div>"
      ],
      "text/plain": [
       "        RECORD_TIME\n",
       "0  2021-10-22 05:30\n",
       "1  2021-10-22 05:00"
      ]
     },
     "execution_count": 3,
     "metadata": {},
     "output_type": "execute_result"
    }
   ],
   "source": [
    "timestamps"
   ]
  },
  {
   "cell_type": "code",
   "execution_count": 4,
   "id": "alternate-victory",
   "metadata": {
    "execution": {
     "iopub.execute_input": "2021-10-22T03:30:08.452372Z",
     "iopub.status.busy": "2021-10-22T03:30:08.450065Z",
     "iopub.status.idle": "2021-10-22T03:30:09.336377Z",
     "shell.execute_reply": "2021-10-22T03:30:09.337942Z"
    },
    "papermill": {
     "duration": 0.917344,
     "end_time": "2021-10-22T03:30:09.338490",
     "exception": false,
     "start_time": "2021-10-22T03:30:08.421146",
     "status": "completed"
    },
    "tags": []
   },
   "outputs": [],
   "source": [
    "df = pd.read_sql(\"select * from EBAY_TOP_BERLIN where record_time in (select distinct record_time from EBAY_TOP_BERLIN order by record_time desc limit 2)\", sqlite3.connect(\"UsedObjects.db\"))"
   ]
  },
  {
   "cell_type": "code",
   "execution_count": 5,
   "id": "popular-active",
   "metadata": {
    "execution": {
     "iopub.execute_input": "2021-10-22T03:30:09.410542Z",
     "iopub.status.busy": "2021-10-22T03:30:09.398983Z",
     "iopub.status.idle": "2021-10-22T03:30:09.427054Z",
     "shell.execute_reply": "2021-10-22T03:30:09.428434Z"
    },
    "papermill": {
     "duration": 0.069913,
     "end_time": "2021-10-22T03:30:09.429076",
     "exception": false,
     "start_time": "2021-10-22T03:30:09.359163",
     "status": "completed"
    },
    "tags": []
   },
   "outputs": [],
   "source": [
    "df_pivot = df.pivot_table(index=\"PRODUCT\", columns = \"RECORD_TIME\", values = \"LISTING_COUNT\")"
   ]
  },
  {
   "cell_type": "code",
   "execution_count": 6,
   "id": "union-huntington",
   "metadata": {
    "execution": {
     "iopub.execute_input": "2021-10-22T03:30:09.488398Z",
     "iopub.status.busy": "2021-10-22T03:30:09.486091Z",
     "iopub.status.idle": "2021-10-22T03:30:09.492038Z",
     "shell.execute_reply": "2021-10-22T03:30:09.493497Z"
    },
    "papermill": {
     "duration": 0.042318,
     "end_time": "2021-10-22T03:30:09.493948",
     "exception": false,
     "start_time": "2021-10-22T03:30:09.451630",
     "status": "completed"
    },
    "tags": []
   },
   "outputs": [],
   "source": [
    "df_pivot.columns = [\"stamp_1\", \"stamp_2\"]\n",
    "df_pivot_diff = df_pivot.diff(axis=1)"
   ]
  },
  {
   "cell_type": "code",
   "execution_count": 7,
   "id": "fifth-motion",
   "metadata": {
    "execution": {
     "iopub.execute_input": "2021-10-22T03:30:09.548912Z",
     "iopub.status.busy": "2021-10-22T03:30:09.546528Z",
     "iopub.status.idle": "2021-10-22T03:30:11.008944Z",
     "shell.execute_reply": "2021-10-22T03:30:11.010473Z"
    },
    "papermill": {
     "duration": 1.495419,
     "end_time": "2021-10-22T03:30:11.010939",
     "exception": false,
     "start_time": "2021-10-22T03:30:09.515520",
     "status": "completed"
    },
    "tags": []
   },
   "outputs": [
    {
     "data": {
      "text/plain": [
       "<AxesSubplot:ylabel='PRODUCT'>"
      ]
     },
     "execution_count": 7,
     "metadata": {},
     "output_type": "execute_result"
    },
    {
     "data": {
      "image/png": "[encoded data removed]",
      "text/plain": [
       "<Figure size 432x288 with 1 Axes>"
      ]
     },
     "metadata": {
      "needs_background": "light"
     },
     "output_type": "display_data"
    }
   ],
   "source": [
    "df_pivot_diff.sort_values(\"stamp_2\", ascending = False)[\"stamp_2\"].head(10).plot.barh()"
   ]
  },
  {
   "cell_type": "code",
   "execution_count": null,
   "id": "extra-executive",
   "metadata": {
    "papermill": {
     "duration": 0.022447,
     "end_time": "2021-10-22T03:30:11.058149",
     "exception": false,
     "start_time": "2021-10-22T03:30:11.035702",
     "status": "completed"
    },
    "tags": []
   },
   "outputs": [],
   "source": []
  }
 ],
 "metadata": {
  "kernelspec": {
   "display_name": "Python 3",
   "language": "python",
   "name": "python3"
  },
  "language_info": {
   "codemirror_mode": {
    "name": "ipython",
    "version": 3
   },
   "file_extension": ".py",
   "mimetype": "text/x-python",
   "name": "python",
   "nbconvert_exporter": "python",
   "pygments_lexer": "ipython3",
   "version": "3.9.5"
  },
  "papermill": {
   "default_parameters": {},
   "duration": 7.82074,
   "end_time": "2021-10-22T03:30:12.204164",
   "environment_variables": {},
   "exception": null,
   "input_path": "eBay_Overview.ipynb",
   "output_path": "eBay_Overview.ipynb",
   "parameters": {},
   "start_time": "2021-10-22T03:30:04.383424",
   "version": "2.3.3"
  }
 },
 "nbformat": 4,
 "nbformat_minor": 5
}