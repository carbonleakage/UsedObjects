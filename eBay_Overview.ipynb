{
 "cells": [
  {
   "cell_type": "code",
   "execution_count": 1,
   "id": "reverse-picking",
   "metadata": {
    "execution": {
     "iopub.execute_input": "2021-11-08T17:00:07.803305Z",
     "iopub.status.busy": "2021-11-08T17:00:07.791918Z",
     "iopub.status.idle": "2021-11-08T17:00:08.750572Z",
     "shell.execute_reply": "2021-11-08T17:00:08.752146Z"
    },
    "papermill": {
     "duration": 1.005869,
     "end_time": "2021-11-08T17:00:08.753005",
     "exception": false,
     "start_time": "2021-11-08T17:00:07.747136",
     "status": "completed"
    },
    "tags": []
   },
   "outputs": [],
   "source": [
    "import pandas as pd\n",
    "import sqlite3"
   ]
  },
  {
   "cell_type": "code",
   "execution_count": 2,
   "id": "innovative-syndrome",
   "metadata": {
    "execution": {
     "iopub.execute_input": "2021-11-08T17:00:08.815823Z",
     "iopub.status.busy": "2021-11-08T17:00:08.813590Z",
     "iopub.status.idle": "2021-11-08T17:00:09.585819Z",
     "shell.execute_reply": "2021-11-08T17:00:09.587314Z"
    },
    "papermill": {
     "duration": 0.80734,
     "end_time": "2021-11-08T17:00:09.587816",
     "exception": false,
     "start_time": "2021-11-08T17:00:08.780476",
     "status": "completed"
    },
    "tags": []
   },
   "outputs": [],
   "source": [
    "timestamps = pd.read_sql(\"select distinct record_time from EBAY_TOP_BERLIN order by record_time desc limit 2\", sqlite3.connect(\"UsedObjects.db\"))"
   ]
  },
  {
   "cell_type": "code",
   "execution_count": 3,
   "id": "periodic-identification",
   "metadata": {
    "execution": {
     "iopub.execute_input": "2021-11-08T17:00:09.660453Z",
     "iopub.status.busy": "2021-11-08T17:00:09.654662Z",
     "iopub.status.idle": "2021-11-08T17:00:09.676551Z",
     "shell.execute_reply": "2021-11-08T17:00:09.678116Z"
    },
    "papermill": {
     "duration": 0.071061,
     "end_time": "2021-11-08T17:00:09.678608",
     "exception": false,
     "start_time": "2021-11-08T17:00:09.607547",
     "status": "completed"
    },
    "tags": []
   },
   "outputs": [
    {
     "data": {
      "text/html": [
       "<div>\n",
       "<style scoped>\n",
       "    .dataframe tbody tr th:only-of-type {\n",
       "        vertical-align: middle;\n",
       "    }\n",
       "\n",
       "    .dataframe tbody tr th {\n",
       "        vertical-align: top;\n",
       "    }\n",
       "\n",
       "    .dataframe thead th {\n",
       "        text-align: right;\n",
       "    }\n",
       "</style>\n",
       "<table border=\"1\" class=\"dataframe\">\n",
       "  <thead>\n",
       "    <tr style=\"text-align: right;\">\n",
       "      <th></th>\n",
       "      <th>RECORD_TIME</th>\n",
       "    </tr>\n",
       "  </thead>\n",
       "  <tbody>\n",
       "    <tr>\n",
       "      <th>0</th>\n",
       "      <td>2021-11-08 18:00</td>\n",
       "    </tr>\n",
       "    <tr>\n",
       "      <th>1</th>\n",
       "      <td>2021-11-08 17:30</td>\n",
       "    </tr>\n",
       "  </tbody>\n",
       "</table>\n",
       "</div>"
      ],
      "text/plain": [
       "        RECORD_TIME\n",
       "0  2021-11-08 18:00\n",
       "1  2021-11-08 17:30"
      ]
     },
     "execution_count": 3,
     "metadata": {},
     "output_type": "execute_result"
    }
   ],
   "source": [
    "timestamps"
   ]
  },
  {
   "cell_type": "code",
   "execution_count": 4,
   "id": "alternate-victory",
   "metadata": {
    "execution": {
     "iopub.execute_input": "2021-11-08T17:00:09.731534Z",
     "iopub.status.busy": "2021-11-08T17:00:09.729469Z",
     "iopub.status.idle": "2021-11-08T17:00:10.812153Z",
     "shell.execute_reply": "2021-11-08T17:00:10.813718Z"
    },
    "papermill": {
     "duration": 1.115491,
     "end_time": "2021-11-08T17:00:10.814258",
     "exception": false,
     "start_time": "2021-11-08T17:00:09.698767",
     "status": "completed"
    },
    "tags": []
   },
   "outputs": [],
   "source": [
    "df = pd.read_sql(\"select * from EBAY_TOP_BERLIN where record_time in (select distinct record_time from EBAY_TOP_BERLIN order by record_time desc limit 2)\", sqlite3.connect(\"UsedObjects.db\"))"
   ]
  },
  {
   "cell_type": "code",
   "execution_count": 5,
   "id": "popular-active",
   "metadata": {
    "execution": {
     "iopub.execute_input": "2021-11-08T17:00:10.890970Z",
     "iopub.status.busy": "2021-11-08T17:00:10.878017Z",
     "iopub.status.idle": "2021-11-08T17:00:10.912546Z",
     "shell.execute_reply": "2021-11-08T17:00:10.914321Z"
    },
    "papermill": {
     "duration": 0.079116,
     "end_time": "2021-11-08T17:00:10.914851",
     "exception": false,
     "start_time": "2021-11-08T17:00:10.835735",
     "status": "completed"
    },
    "tags": []
   },
   "outputs": [],
   "source": [
    "df_pivot = df.pivot_table(index=\"PRODUCT\", columns = \"RECORD_TIME\", values = \"LISTING_COUNT\")"
   ]
  },
  {
   "cell_type": "code",
   "execution_count": 6,
   "id": "union-huntington",
   "metadata": {
    "execution": {
     "iopub.execute_input": "2021-11-08T17:00:10.979377Z",
     "iopub.status.busy": "2021-11-08T17:00:10.977013Z",
     "iopub.status.idle": "2021-11-08T17:00:10.983938Z",
     "shell.execute_reply": "2021-11-08T17:00:10.982002Z"
    },
    "papermill": {
     "duration": 0.047853,
     "end_time": "2021-11-08T17:00:10.984364",
     "exception": false,
     "start_time": "2021-11-08T17:00:10.936511",
     "status": "completed"
    },
    "tags": []
   },
   "outputs": [],
   "source": [
    "df_pivot.columns = [\"stamp_1\", \"stamp_2\"]\n",
    "df_pivot_diff = df_pivot.diff(axis=1)"
   ]
  },
  {
   "cell_type": "code",
   "execution_count": 7,
   "id": "fifth-motion",
   "metadata": {
    "execution": {
     "iopub.execute_input": "2021-11-08T17:00:11.055764Z",
     "iopub.status.busy": "2021-11-08T17:00:11.042361Z",
     "iopub.status.idle": "2021-11-08T17:00:12.795359Z",
     "shell.execute_reply": "2021-11-08T17:00:12.796893Z"
    },
    "papermill": {
     "duration": 1.791048,
     "end_time": "2021-11-08T17:00:12.797363",
     "exception": false,
     "start_time": "2021-11-08T17:00:11.006315",
     "status": "completed"
    },
    "tags": []
   },
   "outputs": [
    {
     "data": {
      "text/plain": [
       "<AxesSubplot:ylabel='PRODUCT'>"
      ]
     },
     "execution_count": 7,
     "metadata": {},
     "output_type": "execute_result"
    },
    {
     "data": {
      "image/png": "[encoded data removed]",
      "text/plain": [
       "<Figure size 432x288 with 1 Axes>"
      ]
     },
     "metadata": {
      "needs_background": "light"
     },
     "output_type": "display_data"
    }
   ],
   "source": [
    "df_pivot_diff.sort_values(\"stamp_2\", ascending = False)[\"stamp_2\"].head(10).plot.barh()"
   ]
  },
  {
   "cell_type": "code",
   "execution_count": null,
   "id": "extra-executive",
   "metadata": {
    "papermill": {
     "duration": 0.024172,
     "end_time": "2021-11-08T17:00:12.845545",
     "exception": false,
     "start_time": "2021-11-08T17:00:12.821373",
     "status": "completed"
    },
    "tags": []
   },
   "outputs": [],
   "source": []
  }
 ],
 "metadata": {
  "kernelspec": {
   "display_name": "Python 3",
   "language": "python",
   "name": "python3"
  },
  "language_info": {
   "codemirror_mode": {
    "name": "ipython",
    "version": 3
   },
   "file_extension": ".py",
   "mimetype": "text/x-python",
   "name": "python",
   "nbconvert_exporter": "python",
   "pygments_lexer": "ipython3",
   "version": "3.9.5"
  },
  "papermill": {
   "default_parameters": {},
   "duration": 8.817955,
   "end_time": "2021-11-08T17:00:13.801636",
   "environment_variables": {},
   "exception": null,
   "input_path": "eBay_Overview.ipynb",
   "output_path": "eBay_Overview.ipynb",
   "parameters": {},
   "start_time": "2021-11-08T17:00:04.983681",
   "version": "2.3.3"
  }
 },
 "nbformat": 4,
 "nbformat_minor": 5
}