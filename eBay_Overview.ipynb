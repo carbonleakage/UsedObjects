{
 "cells": [
  {
   "cell_type": "code",
   "execution_count": 1,
   "id": "reverse-picking",
   "metadata": {
    "execution": {
     "iopub.execute_input": "2021-12-14T10:30:08.078181Z",
     "iopub.status.busy": "2021-12-14T10:30:08.075855Z",
     "iopub.status.idle": "2021-12-14T10:30:09.022792Z",
     "shell.execute_reply": "2021-12-14T10:30:09.024325Z"
    },
    "papermill": {
     "duration": 0.995442,
     "end_time": "2021-12-14T10:30:09.025123",
     "exception": false,
     "start_time": "2021-12-14T10:30:08.029681",
     "status": "completed"
    },
    "tags": []
   },
   "outputs": [],
   "source": [
    "import pandas as pd\n",
    "import sqlite3"
   ]
  },
  {
   "cell_type": "code",
   "execution_count": 2,
   "id": "innovative-syndrome",
   "metadata": {
    "execution": {
     "iopub.execute_input": "2021-12-14T10:30:09.086411Z",
     "iopub.status.busy": "2021-12-14T10:30:09.084074Z",
     "iopub.status.idle": "2021-12-14T10:30:10.165718Z",
     "shell.execute_reply": "2021-12-14T10:30:10.167222Z"
    },
    "papermill": {
     "duration": 1.115738,
     "end_time": "2021-12-14T10:30:10.167685",
     "exception": false,
     "start_time": "2021-12-14T10:30:09.051947",
     "status": "completed"
    },
    "tags": []
   },
   "outputs": [],
   "source": [
    "timestamps = pd.read_sql(\"select distinct record_time from EBAY_TOP_BERLIN order by record_time desc limit 2\", sqlite3.connect(\"UsedObjects.db\"))"
   ]
  },
  {
   "cell_type": "code",
   "execution_count": 3,
   "id": "periodic-identification",
   "metadata": {
    "execution": {
     "iopub.execute_input": "2021-12-14T10:30:10.235863Z",
     "iopub.status.busy": "2021-12-14T10:30:10.233598Z",
     "iopub.status.idle": "2021-12-14T10:30:10.258289Z",
     "shell.execute_reply": "2021-12-14T10:30:10.256403Z"
    },
    "papermill": {
     "duration": 0.071332,
     "end_time": "2021-12-14T10:30:10.258718",
     "exception": false,
     "start_time": "2021-12-14T10:30:10.187386",
     "status": "completed"
    },
    "tags": []
   },
   "outputs": [
    {
     "data": {
      "text/html": [
       "<div>\n",
       "<style scoped>\n",
       "    .dataframe tbody tr th:only-of-type {\n",
       "        vertical-align: middle;\n",
       "    }\n",
       "\n",
       "    .dataframe tbody tr th {\n",
       "        vertical-align: top;\n",
       "    }\n",
       "\n",
       "    .dataframe thead th {\n",
       "        text-align: right;\n",
       "    }\n",
       "</style>\n",
       "<table border=\"1\" class=\"dataframe\">\n",
       "  <thead>\n",
       "    <tr style=\"text-align: right;\">\n",
       "      <th></th>\n",
       "      <th>RECORD_TIME</th>\n",
       "    </tr>\n",
       "  </thead>\n",
       "  <tbody>\n",
       "    <tr>\n",
       "      <th>0</th>\n",
       "      <td>2021-12-14 11:30</td>\n",
       "    </tr>\n",
       "    <tr>\n",
       "      <th>1</th>\n",
       "      <td>2021-12-14 11:00</td>\n",
       "    </tr>\n",
       "  </tbody>\n",
       "</table>\n",
       "</div>"
      ],
      "text/plain": [
       "        RECORD_TIME\n",
       "0  2021-12-14 11:30\n",
       "1  2021-12-14 11:00"
      ]
     },
     "execution_count": 3,
     "metadata": {},
     "output_type": "execute_result"
    }
   ],
   "source": [
    "timestamps"
   ]
  },
  {
   "cell_type": "code",
   "execution_count": 4,
   "id": "alternate-victory",
   "metadata": {
    "execution": {
     "iopub.execute_input": "2021-12-14T10:30:10.312677Z",
     "iopub.status.busy": "2021-12-14T10:30:10.310843Z",
     "iopub.status.idle": "2021-12-14T10:30:11.904445Z",
     "shell.execute_reply": "2021-12-14T10:30:11.906132Z"
    },
    "papermill": {
     "duration": 1.624471,
     "end_time": "2021-12-14T10:30:11.906597",
     "exception": false,
     "start_time": "2021-12-14T10:30:10.282126",
     "status": "completed"
    },
    "tags": []
   },
   "outputs": [],
   "source": [
    "df = pd.read_sql(\"select * from EBAY_TOP_BERLIN where record_time in (select distinct record_time from EBAY_TOP_BERLIN order by record_time desc limit 2)\", sqlite3.connect(\"UsedObjects.db\"))"
   ]
  },
  {
   "cell_type": "code",
   "execution_count": 5,
   "id": "popular-active",
   "metadata": {
    "execution": {
     "iopub.execute_input": "2021-12-14T10:30:11.986748Z",
     "iopub.status.busy": "2021-12-14T10:30:11.973487Z",
     "iopub.status.idle": "2021-12-14T10:30:12.003575Z",
     "shell.execute_reply": "2021-12-14T10:30:12.004998Z"
    },
    "papermill": {
     "duration": 0.07654,
     "end_time": "2021-12-14T10:30:12.005457",
     "exception": false,
     "start_time": "2021-12-14T10:30:11.928917",
     "status": "completed"
    },
    "tags": []
   },
   "outputs": [],
   "source": [
    "df_pivot = df.pivot_table(index=\"PRODUCT\", columns = \"RECORD_TIME\", values = \"LISTING_COUNT\")"
   ]
  },
  {
   "cell_type": "code",
   "execution_count": 6,
   "id": "union-huntington",
   "metadata": {
    "execution": {
     "iopub.execute_input": "2021-12-14T10:30:12.062959Z",
     "iopub.status.busy": "2021-12-14T10:30:12.060821Z",
     "iopub.status.idle": "2021-12-14T10:30:12.067147Z",
     "shell.execute_reply": "2021-12-14T10:30:12.068594Z"
    },
    "papermill": {
     "duration": 0.043752,
     "end_time": "2021-12-14T10:30:12.069123",
     "exception": false,
     "start_time": "2021-12-14T10:30:12.025371",
     "status": "completed"
    },
    "tags": []
   },
   "outputs": [],
   "source": [
    "df_pivot.columns = [\"stamp_1\", \"stamp_2\"]\n",
    "df_pivot_diff = df_pivot.diff(axis=1)"
   ]
  },
  {
   "cell_type": "code",
   "execution_count": 7,
   "id": "fifth-motion",
   "metadata": {
    "execution": {
     "iopub.execute_input": "2021-12-14T10:30:12.127544Z",
     "iopub.status.busy": "2021-12-14T10:30:12.125126Z",
     "iopub.status.idle": "2021-12-14T10:30:13.760419Z",
     "shell.execute_reply": "2021-12-14T10:30:13.761789Z"
    },
    "papermill": {
     "duration": 1.672137,
     "end_time": "2021-12-14T10:30:13.762250",
     "exception": false,
     "start_time": "2021-12-14T10:30:12.090113",
     "status": "completed"
    },
    "tags": []
   },
   "outputs": [
    {
     "data": {
      "text/plain": [
       "<AxesSubplot:ylabel='PRODUCT'>"
      ]
     },
     "execution_count": 7,
     "metadata": {},
     "output_type": "execute_result"
    },
    {
     "data": {
      "image/png": "[encoded data removed]",
      "text/plain": [
       "<Figure size 432x288 with 1 Axes>"
      ]
     },
     "metadata": {
      "needs_background": "light"
     },
     "output_type": "display_data"
    }
   ],
   "source": [
    "df_pivot_diff.sort_values(\"stamp_2\", ascending = False)[\"stamp_2\"].head(10).plot.barh()"
   ]
  },
  {
   "cell_type": "code",
   "execution_count": null,
   "id": "extra-executive",
   "metadata": {
    "papermill": {
     "duration": 0.022068,
     "end_time": "2021-12-14T10:30:13.808746",
     "exception": false,
     "start_time": "2021-12-14T10:30:13.786678",
     "status": "completed"
    },
    "tags": []
   },
   "outputs": [],
   "source": []
  }
 ],
 "metadata": {
  "kernelspec": {
   "display_name": "Python 3",
   "language": "python",
   "name": "python3"
  },
  "language_info": {
   "codemirror_mode": {
    "name": "ipython",
    "version": 3
   },
   "file_extension": ".py",
   "mimetype": "text/x-python",
   "name": "python",
   "nbconvert_exporter": "python",
   "pygments_lexer": "ipython3",
   "version": "3.9.5"
  },
  "papermill": {
   "default_parameters": {},
   "duration": 9.92526,
   "end_time": "2021-12-14T10:30:15.241896",
   "environment_variables": {},
   "exception": null,
   "input_path": "eBay_Overview.ipynb",
   "output_path": "eBay_Overview.ipynb",
   "parameters": {},
   "start_time": "2021-12-14T10:30:05.316636",
   "version": "2.3.3"
  }
 },
 "nbformat": 4,
 "nbformat_minor": 5
}