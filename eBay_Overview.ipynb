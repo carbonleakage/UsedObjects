{
 "cells": [
  {
   "cell_type": "code",
   "execution_count": 1,
   "id": "reverse-picking",
   "metadata": {
    "execution": {
     "iopub.execute_input": "2021-08-17T19:30:07.080453Z",
     "iopub.status.busy": "2021-08-17T19:30:07.078509Z",
     "iopub.status.idle": "2021-08-17T19:30:07.883009Z",
     "shell.execute_reply": "2021-08-17T19:30:07.884262Z"
    },
    "papermill": {
     "duration": 0.858443,
     "end_time": "2021-08-17T19:30:07.884879",
     "exception": false,
     "start_time": "2021-08-17T19:30:07.026436",
     "status": "completed"
    },
    "tags": []
   },
   "outputs": [],
   "source": [
    "import pandas as pd\n",
    "import sqlite3"
   ]
  },
  {
   "cell_type": "code",
   "execution_count": 2,
   "id": "innovative-syndrome",
   "metadata": {
    "execution": {
     "iopub.execute_input": "2021-08-17T19:30:07.936020Z",
     "iopub.status.busy": "2021-08-17T19:30:07.934161Z",
     "iopub.status.idle": "2021-08-17T19:30:08.011658Z",
     "shell.execute_reply": "2021-08-17T19:30:08.013099Z"
    },
    "papermill": {
     "duration": 0.107108,
     "end_time": "2021-08-17T19:30:08.013569",
     "exception": false,
     "start_time": "2021-08-17T19:30:07.906461",
     "status": "completed"
    },
    "tags": []
   },
   "outputs": [],
   "source": [
    "timestamps = pd.read_sql(\"select distinct record_time from EBAY_TOP_BERLIN order by record_time desc limit 2\", sqlite3.connect(\"UsedObjects.db\"))"
   ]
  },
  {
   "cell_type": "code",
   "execution_count": 3,
   "id": "periodic-identification",
   "metadata": {
    "execution": {
     "iopub.execute_input": "2021-08-17T19:30:08.081185Z",
     "iopub.status.busy": "2021-08-17T19:30:08.079156Z",
     "iopub.status.idle": "2021-08-17T19:30:08.098931Z",
     "shell.execute_reply": "2021-08-17T19:30:08.100282Z"
    },
    "papermill": {
     "duration": 0.06694,
     "end_time": "2021-08-17T19:30:08.100700",
     "exception": false,
     "start_time": "2021-08-17T19:30:08.033760",
     "status": "completed"
    },
    "tags": []
   },
   "outputs": [
    {
     "data": {
      "text/html": [
       "<div>\n",
       "<style scoped>\n",
       "    .dataframe tbody tr th:only-of-type {\n",
       "        vertical-align: middle;\n",
       "    }\n",
       "\n",
       "    .dataframe tbody tr th {\n",
       "        vertical-align: top;\n",
       "    }\n",
       "\n",
       "    .dataframe thead th {\n",
       "        text-align: right;\n",
       "    }\n",
       "</style>\n",
       "<table border=\"1\" class=\"dataframe\">\n",
       "  <thead>\n",
       "    <tr style=\"text-align: right;\">\n",
       "      <th></th>\n",
       "      <th>RECORD_TIME</th>\n",
       "    </tr>\n",
       "  </thead>\n",
       "  <tbody>\n",
       "    <tr>\n",
       "      <th>0</th>\n",
       "      <td>2021-08-17 21:30</td>\n",
       "    </tr>\n",
       "    <tr>\n",
       "      <th>1</th>\n",
       "      <td>2021-08-17 21:00</td>\n",
       "    </tr>\n",
       "  </tbody>\n",
       "</table>\n",
       "</div>"
      ],
      "text/plain": [
       "        RECORD_TIME\n",
       "0  2021-08-17 21:30\n",
       "1  2021-08-17 21:00"
      ]
     },
     "execution_count": 3,
     "metadata": {},
     "output_type": "execute_result"
    }
   ],
   "source": [
    "timestamps"
   ]
  },
  {
   "cell_type": "code",
   "execution_count": 4,
   "id": "alternate-victory",
   "metadata": {
    "execution": {
     "iopub.execute_input": "2021-08-17T19:30:08.152371Z",
     "iopub.status.busy": "2021-08-17T19:30:08.150243Z",
     "iopub.status.idle": "2021-08-17T19:30:08.255832Z",
     "shell.execute_reply": "2021-08-17T19:30:08.257034Z"
    },
    "papermill": {
     "duration": 0.135617,
     "end_time": "2021-08-17T19:30:08.257434",
     "exception": false,
     "start_time": "2021-08-17T19:30:08.121817",
     "status": "completed"
    },
    "tags": []
   },
   "outputs": [],
   "source": [
    "df = pd.read_sql(\"select * from EBAY_TOP_BERLIN where record_time in (select distinct record_time from EBAY_TOP_BERLIN order by record_time desc limit 2)\", sqlite3.connect(\"UsedObjects.db\"))"
   ]
  },
  {
   "cell_type": "code",
   "execution_count": 5,
   "id": "popular-active",
   "metadata": {
    "execution": {
     "iopub.execute_input": "2021-08-17T19:30:08.318399Z",
     "iopub.status.busy": "2021-08-17T19:30:08.316116Z",
     "iopub.status.idle": "2021-08-17T19:30:08.343279Z",
     "shell.execute_reply": "2021-08-17T19:30:08.344482Z"
    },
    "papermill": {
     "duration": 0.067323,
     "end_time": "2021-08-17T19:30:08.344883",
     "exception": false,
     "start_time": "2021-08-17T19:30:08.277560",
     "status": "completed"
    },
    "tags": []
   },
   "outputs": [],
   "source": [
    "df_pivot = df.pivot_table(index=\"PRODUCT\", columns = \"RECORD_TIME\", values = \"LISTING_COUNT\")"
   ]
  },
  {
   "cell_type": "code",
   "execution_count": 6,
   "id": "union-huntington",
   "metadata": {
    "execution": {
     "iopub.execute_input": "2021-08-17T19:30:08.402222Z",
     "iopub.status.busy": "2021-08-17T19:30:08.399996Z",
     "iopub.status.idle": "2021-08-17T19:30:08.405630Z",
     "shell.execute_reply": "2021-08-17T19:30:08.407145Z"
    },
    "papermill": {
     "duration": 0.0412,
     "end_time": "2021-08-17T19:30:08.407600",
     "exception": false,
     "start_time": "2021-08-17T19:30:08.366400",
     "status": "completed"
    },
    "tags": []
   },
   "outputs": [],
   "source": [
    "df_pivot.columns = [\"stamp_1\", \"stamp_2\"]\n",
    "df_pivot_diff = df_pivot.diff(axis=1)"
   ]
  },
  {
   "cell_type": "code",
   "execution_count": 7,
   "id": "fifth-motion",
   "metadata": {
    "execution": {
     "iopub.execute_input": "2021-08-17T19:30:08.462116Z",
     "iopub.status.busy": "2021-08-17T19:30:08.459724Z",
     "iopub.status.idle": "2021-08-17T19:30:09.947443Z",
     "shell.execute_reply": "2021-08-17T19:30:09.948735Z"
    },
    "papermill": {
     "duration": 1.520577,
     "end_time": "2021-08-17T19:30:09.949160",
     "exception": false,
     "start_time": "2021-08-17T19:30:08.428583",
     "status": "completed"
    },
    "tags": []
   },
   "outputs": [
    {
     "data": {
      "text/plain": [
       "<AxesSubplot:ylabel='PRODUCT'>"
      ]
     },
     "execution_count": 7,
     "metadata": {},
     "output_type": "execute_result"
    },
    {
     "data": {
      "image/png": "[encoded data removed]",
      "text/plain": [
       "<Figure size 432x288 with 1 Axes>"
      ]
     },
     "metadata": {
      "needs_background": "light"
     },
     "output_type": "display_data"
    }
   ],
   "source": [
    "df_pivot_diff.sort_values(\"stamp_2\", ascending = False)[\"stamp_2\"].head(10).plot.barh()"
   ]
  },
  {
   "cell_type": "code",
   "execution_count": null,
   "id": "extra-executive",
   "metadata": {
    "papermill": {
     "duration": 0.022145,
     "end_time": "2021-08-17T19:30:09.996655",
     "exception": false,
     "start_time": "2021-08-17T19:30:09.974510",
     "status": "completed"
    },
    "tags": []
   },
   "outputs": [],
   "source": []
  }
 ],
 "metadata": {
  "kernelspec": {
   "display_name": "Python 3",
   "language": "python",
   "name": "python3"
  },
  "language_info": {
   "codemirror_mode": {
    "name": "ipython",
    "version": 3
   },
   "file_extension": ".py",
   "mimetype": "text/x-python",
   "name": "python",
   "nbconvert_exporter": "python",
   "pygments_lexer": "ipython3",
   "version": "3.9.5"
  },
  "papermill": {
   "default_parameters": {},
   "duration": 6.831869,
   "end_time": "2021-08-17T19:30:11.451009",
   "environment_variables": {},
   "exception": null,
   "input_path": "eBay_Overview.ipynb",
   "output_path": "eBay_Overview.ipynb",
   "parameters": {},
   "start_time": "2021-08-17T19:30:04.619140",
   "version": "2.3.3"
  }
 },
 "nbformat": 4,
 "nbformat_minor": 5
}