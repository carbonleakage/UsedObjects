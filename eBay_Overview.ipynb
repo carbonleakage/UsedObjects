{
 "cells": [
  {
   "cell_type": "code",
   "execution_count": 1,
   "id": "reverse-picking",
   "metadata": {
    "execution": {
     "iopub.execute_input": "2021-11-18T12:30:07.351584Z",
     "iopub.status.busy": "2021-11-18T12:30:07.349541Z",
     "iopub.status.idle": "2021-11-18T12:30:08.293698Z",
     "shell.execute_reply": "2021-11-18T12:30:08.295276Z"
    },
    "papermill": {
     "duration": 0.992468,
     "end_time": "2021-11-18T12:30:08.296027",
     "exception": false,
     "start_time": "2021-11-18T12:30:07.303559",
     "status": "completed"
    },
    "tags": []
   },
   "outputs": [],
   "source": [
    "import pandas as pd\n",
    "import sqlite3"
   ]
  },
  {
   "cell_type": "code",
   "execution_count": 2,
   "id": "innovative-syndrome",
   "metadata": {
    "execution": {
     "iopub.execute_input": "2021-11-18T12:30:08.359325Z",
     "iopub.status.busy": "2021-11-18T12:30:08.357049Z",
     "iopub.status.idle": "2021-11-18T12:30:09.193219Z",
     "shell.execute_reply": "2021-11-18T12:30:09.194621Z"
    },
    "papermill": {
     "duration": 0.870255,
     "end_time": "2021-11-18T12:30:09.195111",
     "exception": false,
     "start_time": "2021-11-18T12:30:08.324856",
     "status": "completed"
    },
    "tags": []
   },
   "outputs": [],
   "source": [
    "timestamps = pd.read_sql(\"select distinct record_time from EBAY_TOP_BERLIN order by record_time desc limit 2\", sqlite3.connect(\"UsedObjects.db\"))"
   ]
  },
  {
   "cell_type": "code",
   "execution_count": 3,
   "id": "periodic-identification",
   "metadata": {
    "execution": {
     "iopub.execute_input": "2021-11-18T12:30:09.284787Z",
     "iopub.status.busy": "2021-11-18T12:30:09.278405Z",
     "iopub.status.idle": "2021-11-18T12:30:09.301421Z",
     "shell.execute_reply": "2021-11-18T12:30:09.303032Z"
    },
    "papermill": {
     "duration": 0.086616,
     "end_time": "2021-11-18T12:30:09.303554",
     "exception": false,
     "start_time": "2021-11-18T12:30:09.216938",
     "status": "completed"
    },
    "tags": []
   },
   "outputs": [
    {
     "data": {
      "text/html": [
       "<div>\n",
       "<style scoped>\n",
       "    .dataframe tbody tr th:only-of-type {\n",
       "        vertical-align: middle;\n",
       "    }\n",
       "\n",
       "    .dataframe tbody tr th {\n",
       "        vertical-align: top;\n",
       "    }\n",
       "\n",
       "    .dataframe thead th {\n",
       "        text-align: right;\n",
       "    }\n",
       "</style>\n",
       "<table border=\"1\" class=\"dataframe\">\n",
       "  <thead>\n",
       "    <tr style=\"text-align: right;\">\n",
       "      <th></th>\n",
       "      <th>RECORD_TIME</th>\n",
       "    </tr>\n",
       "  </thead>\n",
       "  <tbody>\n",
       "    <tr>\n",
       "      <th>0</th>\n",
       "      <td>2021-11-18 13:30</td>\n",
       "    </tr>\n",
       "    <tr>\n",
       "      <th>1</th>\n",
       "      <td>2021-11-18 13:00</td>\n",
       "    </tr>\n",
       "  </tbody>\n",
       "</table>\n",
       "</div>"
      ],
      "text/plain": [
       "        RECORD_TIME\n",
       "0  2021-11-18 13:30\n",
       "1  2021-11-18 13:00"
      ]
     },
     "execution_count": 3,
     "metadata": {},
     "output_type": "execute_result"
    }
   ],
   "source": [
    "timestamps"
   ]
  },
  {
   "cell_type": "code",
   "execution_count": 4,
   "id": "alternate-victory",
   "metadata": {
    "execution": {
     "iopub.execute_input": "2021-11-18T12:30:09.362027Z",
     "iopub.status.busy": "2021-11-18T12:30:09.359887Z",
     "iopub.status.idle": "2021-11-18T12:30:10.567591Z",
     "shell.execute_reply": "2021-11-18T12:30:10.569371Z"
    },
    "papermill": {
     "duration": 1.243391,
     "end_time": "2021-11-18T12:30:10.569855",
     "exception": false,
     "start_time": "2021-11-18T12:30:09.326464",
     "status": "completed"
    },
    "tags": []
   },
   "outputs": [],
   "source": [
    "df = pd.read_sql(\"select * from EBAY_TOP_BERLIN where record_time in (select distinct record_time from EBAY_TOP_BERLIN order by record_time desc limit 2)\", sqlite3.connect(\"UsedObjects.db\"))"
   ]
  },
  {
   "cell_type": "code",
   "execution_count": 5,
   "id": "popular-active",
   "metadata": {
    "execution": {
     "iopub.execute_input": "2021-11-18T12:30:10.649888Z",
     "iopub.status.busy": "2021-11-18T12:30:10.637091Z",
     "iopub.status.idle": "2021-11-18T12:30:10.670322Z",
     "shell.execute_reply": "2021-11-18T12:30:10.671795Z"
    },
    "papermill": {
     "duration": 0.080066,
     "end_time": "2021-11-18T12:30:10.672318",
     "exception": false,
     "start_time": "2021-11-18T12:30:10.592252",
     "status": "completed"
    },
    "tags": []
   },
   "outputs": [],
   "source": [
    "df_pivot = df.pivot_table(index=\"PRODUCT\", columns = \"RECORD_TIME\", values = \"LISTING_COUNT\")"
   ]
  },
  {
   "cell_type": "code",
   "execution_count": 6,
   "id": "union-huntington",
   "metadata": {
    "execution": {
     "iopub.execute_input": "2021-11-18T12:30:10.736154Z",
     "iopub.status.busy": "2021-11-18T12:30:10.733890Z",
     "iopub.status.idle": "2021-11-18T12:30:10.739865Z",
     "shell.execute_reply": "2021-11-18T12:30:10.741370Z"
    },
    "papermill": {
     "duration": 0.046965,
     "end_time": "2021-11-18T12:30:10.741854",
     "exception": false,
     "start_time": "2021-11-18T12:30:10.694889",
     "status": "completed"
    },
    "tags": []
   },
   "outputs": [],
   "source": [
    "df_pivot.columns = [\"stamp_1\", \"stamp_2\"]\n",
    "df_pivot_diff = df_pivot.diff(axis=1)"
   ]
  },
  {
   "cell_type": "code",
   "execution_count": 7,
   "id": "fifth-motion",
   "metadata": {
    "execution": {
     "iopub.execute_input": "2021-11-18T12:30:10.803736Z",
     "iopub.status.busy": "2021-11-18T12:30:10.801288Z",
     "iopub.status.idle": "2021-11-18T12:30:12.582291Z",
     "shell.execute_reply": "2021-11-18T12:30:12.583745Z"
    },
    "papermill": {
     "duration": 1.818888,
     "end_time": "2021-11-18T12:30:12.584208",
     "exception": false,
     "start_time": "2021-11-18T12:30:10.765320",
     "status": "completed"
    },
    "tags": []
   },
   "outputs": [
    {
     "data": {
      "text/plain": [
       "<AxesSubplot:ylabel='PRODUCT'>"
      ]
     },
     "execution_count": 7,
     "metadata": {},
     "output_type": "execute_result"
    },
    {
     "data": {
      "image/png": "[encoded data removed]",
      "text/plain": [
       "<Figure size 432x288 with 1 Axes>"
      ]
     },
     "metadata": {
      "needs_background": "light"
     },
     "output_type": "display_data"
    }
   ],
   "source": [
    "df_pivot_diff.sort_values(\"stamp_2\", ascending = False)[\"stamp_2\"].head(10).plot.barh()"
   ]
  },
  {
   "cell_type": "code",
   "execution_count": null,
   "id": "extra-executive",
   "metadata": {
    "papermill": {
     "duration": 0.031437,
     "end_time": "2021-11-18T12:30:12.641647",
     "exception": false,
     "start_time": "2021-11-18T12:30:12.610210",
     "status": "completed"
    },
    "tags": []
   },
   "outputs": [],
   "source": []
  }
 ],
 "metadata": {
  "kernelspec": {
   "display_name": "Python 3",
   "language": "python",
   "name": "python3"
  },
  "language_info": {
   "codemirror_mode": {
    "name": "ipython",
    "version": 3
   },
   "file_extension": ".py",
   "mimetype": "text/x-python",
   "name": "python",
   "nbconvert_exporter": "python",
   "pygments_lexer": "ipython3",
   "version": "3.9.5"
  },
  "papermill": {
   "default_parameters": {},
   "duration": 10.010961,
   "end_time": "2021-11-18T12:30:14.506324",
   "environment_variables": {},
   "exception": null,
   "input_path": "eBay_Overview.ipynb",
   "output_path": "eBay_Overview.ipynb",
   "parameters": {},
   "start_time": "2021-11-18T12:30:04.495363",
   "version": "2.3.3"
  }
 },
 "nbformat": 4,
 "nbformat_minor": 5
}