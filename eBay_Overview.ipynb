{
 "cells": [
  {
   "cell_type": "code",
   "execution_count": 1,
   "id": "reverse-picking",
   "metadata": {
    "execution": {
     "iopub.execute_input": "2021-12-04T05:30:07.945572Z",
     "iopub.status.busy": "2021-12-04T05:30:07.943328Z",
     "iopub.status.idle": "2021-12-04T05:30:08.906263Z",
     "shell.execute_reply": "2021-12-04T05:30:08.907752Z"
    },
    "papermill": {
     "duration": 1.009803,
     "end_time": "2021-12-04T05:30:08.908489",
     "exception": false,
     "start_time": "2021-12-04T05:30:07.898686",
     "status": "completed"
    },
    "tags": []
   },
   "outputs": [],
   "source": [
    "import pandas as pd\n",
    "import sqlite3"
   ]
  },
  {
   "cell_type": "code",
   "execution_count": 2,
   "id": "innovative-syndrome",
   "metadata": {
    "execution": {
     "iopub.execute_input": "2021-12-04T05:30:09.007096Z",
     "iopub.status.busy": "2021-12-04T05:30:09.004903Z",
     "iopub.status.idle": "2021-12-04T05:30:09.977011Z",
     "shell.execute_reply": "2021-12-04T05:30:09.978655Z"
    },
    "papermill": {
     "duration": 1.042518,
     "end_time": "2021-12-04T05:30:09.979231",
     "exception": false,
     "start_time": "2021-12-04T05:30:08.936713",
     "status": "completed"
    },
    "tags": []
   },
   "outputs": [],
   "source": [
    "timestamps = pd.read_sql(\"select distinct record_time from EBAY_TOP_BERLIN order by record_time desc limit 2\", sqlite3.connect(\"UsedObjects.db\"))"
   ]
  },
  {
   "cell_type": "code",
   "execution_count": 3,
   "id": "periodic-identification",
   "metadata": {
    "execution": {
     "iopub.execute_input": "2021-12-04T05:30:10.054235Z",
     "iopub.status.busy": "2021-12-04T05:30:10.051656Z",
     "iopub.status.idle": "2021-12-04T05:30:10.075150Z",
     "shell.execute_reply": "2021-12-04T05:30:10.076677Z"
    },
    "papermill": {
     "duration": 0.075525,
     "end_time": "2021-12-04T05:30:10.077229",
     "exception": false,
     "start_time": "2021-12-04T05:30:10.001704",
     "status": "completed"
    },
    "tags": []
   },
   "outputs": [
    {
     "data": {
      "text/html": [
       "<div>\n",
       "<style scoped>\n",
       "    .dataframe tbody tr th:only-of-type {\n",
       "        vertical-align: middle;\n",
       "    }\n",
       "\n",
       "    .dataframe tbody tr th {\n",
       "        vertical-align: top;\n",
       "    }\n",
       "\n",
       "    .dataframe thead th {\n",
       "        text-align: right;\n",
       "    }\n",
       "</style>\n",
       "<table border=\"1\" class=\"dataframe\">\n",
       "  <thead>\n",
       "    <tr style=\"text-align: right;\">\n",
       "      <th></th>\n",
       "      <th>RECORD_TIME</th>\n",
       "    </tr>\n",
       "  </thead>\n",
       "  <tbody>\n",
       "    <tr>\n",
       "      <th>0</th>\n",
       "      <td>2021-12-04 06:30</td>\n",
       "    </tr>\n",
       "    <tr>\n",
       "      <th>1</th>\n",
       "      <td>2021-12-04 06:00</td>\n",
       "    </tr>\n",
       "  </tbody>\n",
       "</table>\n",
       "</div>"
      ],
      "text/plain": [
       "        RECORD_TIME\n",
       "0  2021-12-04 06:30\n",
       "1  2021-12-04 06:00"
      ]
     },
     "execution_count": 3,
     "metadata": {},
     "output_type": "execute_result"
    }
   ],
   "source": [
    "timestamps"
   ]
  },
  {
   "cell_type": "code",
   "execution_count": 4,
   "id": "alternate-victory",
   "metadata": {
    "execution": {
     "iopub.execute_input": "2021-12-04T05:30:10.133110Z",
     "iopub.status.busy": "2021-12-04T05:30:10.130953Z",
     "iopub.status.idle": "2021-12-04T05:30:11.564617Z",
     "shell.execute_reply": "2021-12-04T05:30:11.566201Z"
    },
    "papermill": {
     "duration": 1.468663,
     "end_time": "2021-12-04T05:30:11.566649",
     "exception": false,
     "start_time": "2021-12-04T05:30:10.097986",
     "status": "completed"
    },
    "tags": []
   },
   "outputs": [],
   "source": [
    "df = pd.read_sql(\"select * from EBAY_TOP_BERLIN where record_time in (select distinct record_time from EBAY_TOP_BERLIN order by record_time desc limit 2)\", sqlite3.connect(\"UsedObjects.db\"))"
   ]
  },
  {
   "cell_type": "code",
   "execution_count": 5,
   "id": "popular-active",
   "metadata": {
    "execution": {
     "iopub.execute_input": "2021-12-04T05:30:11.632632Z",
     "iopub.status.busy": "2021-12-04T05:30:11.630293Z",
     "iopub.status.idle": "2021-12-04T05:30:11.664333Z",
     "shell.execute_reply": "2021-12-04T05:30:11.666022Z"
    },
    "papermill": {
     "duration": 0.078019,
     "end_time": "2021-12-04T05:30:11.666533",
     "exception": false,
     "start_time": "2021-12-04T05:30:11.588514",
     "status": "completed"
    },
    "tags": []
   },
   "outputs": [],
   "source": [
    "df_pivot = df.pivot_table(index=\"PRODUCT\", columns = \"RECORD_TIME\", values = \"LISTING_COUNT\")"
   ]
  },
  {
   "cell_type": "code",
   "execution_count": 6,
   "id": "union-huntington",
   "metadata": {
    "execution": {
     "iopub.execute_input": "2021-12-04T05:30:11.729024Z",
     "iopub.status.busy": "2021-12-04T05:30:11.725941Z",
     "iopub.status.idle": "2021-12-04T05:30:11.733574Z",
     "shell.execute_reply": "2021-12-04T05:30:11.731422Z"
    },
    "papermill": {
     "duration": 0.046244,
     "end_time": "2021-12-04T05:30:11.734018",
     "exception": false,
     "start_time": "2021-12-04T05:30:11.687774",
     "status": "completed"
    },
    "tags": []
   },
   "outputs": [],
   "source": [
    "df_pivot.columns = [\"stamp_1\", \"stamp_2\"]\n",
    "df_pivot_diff = df_pivot.diff(axis=1)"
   ]
  },
  {
   "cell_type": "code",
   "execution_count": 7,
   "id": "fifth-motion",
   "metadata": {
    "execution": {
     "iopub.execute_input": "2021-12-04T05:30:11.790599Z",
     "iopub.status.busy": "2021-12-04T05:30:11.788091Z",
     "iopub.status.idle": "2021-12-04T05:30:13.713002Z",
     "shell.execute_reply": "2021-12-04T05:30:13.716087Z"
    },
    "papermill": {
     "duration": 1.962248,
     "end_time": "2021-12-04T05:30:13.716961",
     "exception": false,
     "start_time": "2021-12-04T05:30:11.754713",
     "status": "completed"
    },
    "tags": []
   },
   "outputs": [
    {
     "data": {
      "text/plain": [
       "<AxesSubplot:ylabel='PRODUCT'>"
      ]
     },
     "execution_count": 7,
     "metadata": {},
     "output_type": "execute_result"
    },
    {
     "data": {
      "image/png": "[encoded data removed]",
      "text/plain": [
       "<Figure size 432x288 with 1 Axes>"
      ]
     },
     "metadata": {
      "needs_background": "light"
     },
     "output_type": "display_data"
    }
   ],
   "source": [
    "df_pivot_diff.sort_values(\"stamp_2\", ascending = False)[\"stamp_2\"].head(10).plot.barh()"
   ]
  },
  {
   "cell_type": "code",
   "execution_count": null,
   "id": "extra-executive",
   "metadata": {
    "papermill": {
     "duration": 0.058343,
     "end_time": "2021-12-04T05:30:13.812454",
     "exception": false,
     "start_time": "2021-12-04T05:30:13.754111",
     "status": "completed"
    },
    "tags": []
   },
   "outputs": [],
   "source": []
  }
 ],
 "metadata": {
  "kernelspec": {
   "display_name": "Python 3",
   "language": "python",
   "name": "python3"
  },
  "language_info": {
   "codemirror_mode": {
    "name": "ipython",
    "version": 3
   },
   "file_extension": ".py",
   "mimetype": "text/x-python",
   "name": "python",
   "nbconvert_exporter": "python",
   "pygments_lexer": "ipython3",
   "version": "3.9.5"
  },
  "papermill": {
   "default_parameters": {},
   "duration": 9.94513,
   "end_time": "2021-12-04T05:30:15.064519",
   "environment_variables": {},
   "exception": null,
   "input_path": "eBay_Overview.ipynb",
   "output_path": "eBay_Overview.ipynb",
   "parameters": {},
   "start_time": "2021-12-04T05:30:05.119389",
   "version": "2.3.3"
  }
 },
 "nbformat": 4,
 "nbformat_minor": 5
}