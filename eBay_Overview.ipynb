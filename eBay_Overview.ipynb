{
 "cells": [
  {
   "cell_type": "code",
   "execution_count": 1,
   "id": "reverse-picking",
   "metadata": {
    "execution": {
     "iopub.execute_input": "2021-10-14T05:30:07.334504Z",
     "iopub.status.busy": "2021-10-14T05:30:07.332491Z",
     "iopub.status.idle": "2021-10-14T05:30:08.135719Z",
     "shell.execute_reply": "2021-10-14T05:30:08.137038Z"
    },
    "papermill": {
     "duration": 0.856493,
     "end_time": "2021-10-14T05:30:08.137709",
     "exception": false,
     "start_time": "2021-10-14T05:30:07.281216",
     "status": "completed"
    },
    "tags": []
   },
   "outputs": [],
   "source": [
    "import pandas as pd\n",
    "import sqlite3"
   ]
  },
  {
   "cell_type": "code",
   "execution_count": 2,
   "id": "innovative-syndrome",
   "metadata": {
    "execution": {
     "iopub.execute_input": "2021-10-14T05:30:08.188393Z",
     "iopub.status.busy": "2021-10-14T05:30:08.186439Z",
     "iopub.status.idle": "2021-10-14T05:30:08.721086Z",
     "shell.execute_reply": "2021-10-14T05:30:08.722475Z"
    },
    "papermill": {
     "duration": 0.564807,
     "end_time": "2021-10-14T05:30:08.722916",
     "exception": false,
     "start_time": "2021-10-14T05:30:08.158109",
     "status": "completed"
    },
    "tags": []
   },
   "outputs": [],
   "source": [
    "timestamps = pd.read_sql(\"select distinct record_time from EBAY_TOP_BERLIN order by record_time desc limit 2\", sqlite3.connect(\"UsedObjects.db\"))"
   ]
  },
  {
   "cell_type": "code",
   "execution_count": 3,
   "id": "periodic-identification",
   "metadata": {
    "execution": {
     "iopub.execute_input": "2021-10-14T05:30:08.789895Z",
     "iopub.status.busy": "2021-10-14T05:30:08.787813Z",
     "iopub.status.idle": "2021-10-14T05:30:08.809193Z",
     "shell.execute_reply": "2021-10-14T05:30:08.810493Z"
    },
    "papermill": {
     "duration": 0.067946,
     "end_time": "2021-10-14T05:30:08.810905",
     "exception": false,
     "start_time": "2021-10-14T05:30:08.742959",
     "status": "completed"
    },
    "tags": []
   },
   "outputs": [
    {
     "data": {
      "text/html": [
       "<div>\n",
       "<style scoped>\n",
       "    .dataframe tbody tr th:only-of-type {\n",
       "        vertical-align: middle;\n",
       "    }\n",
       "\n",
       "    .dataframe tbody tr th {\n",
       "        vertical-align: top;\n",
       "    }\n",
       "\n",
       "    .dataframe thead th {\n",
       "        text-align: right;\n",
       "    }\n",
       "</style>\n",
       "<table border=\"1\" class=\"dataframe\">\n",
       "  <thead>\n",
       "    <tr style=\"text-align: right;\">\n",
       "      <th></th>\n",
       "      <th>RECORD_TIME</th>\n",
       "    </tr>\n",
       "  </thead>\n",
       "  <tbody>\n",
       "    <tr>\n",
       "      <th>0</th>\n",
       "      <td>2021-10-14 07:30</td>\n",
       "    </tr>\n",
       "    <tr>\n",
       "      <th>1</th>\n",
       "      <td>2021-10-14 07:00</td>\n",
       "    </tr>\n",
       "  </tbody>\n",
       "</table>\n",
       "</div>"
      ],
      "text/plain": [
       "        RECORD_TIME\n",
       "0  2021-10-14 07:30\n",
       "1  2021-10-14 07:00"
      ]
     },
     "execution_count": 3,
     "metadata": {},
     "output_type": "execute_result"
    }
   ],
   "source": [
    "timestamps"
   ]
  },
  {
   "cell_type": "code",
   "execution_count": 4,
   "id": "alternate-victory",
   "metadata": {
    "execution": {
     "iopub.execute_input": "2021-10-14T05:30:08.871559Z",
     "iopub.status.busy": "2021-10-14T05:30:08.869505Z",
     "iopub.status.idle": "2021-10-14T05:30:09.641473Z",
     "shell.execute_reply": "2021-10-14T05:30:09.642745Z"
    },
    "papermill": {
     "duration": 0.805443,
     "end_time": "2021-10-14T05:30:09.643148",
     "exception": false,
     "start_time": "2021-10-14T05:30:08.837705",
     "status": "completed"
    },
    "tags": []
   },
   "outputs": [],
   "source": [
    "df = pd.read_sql(\"select * from EBAY_TOP_BERLIN where record_time in (select distinct record_time from EBAY_TOP_BERLIN order by record_time desc limit 2)\", sqlite3.connect(\"UsedObjects.db\"))"
   ]
  },
  {
   "cell_type": "code",
   "execution_count": 5,
   "id": "popular-active",
   "metadata": {
    "execution": {
     "iopub.execute_input": "2021-10-14T05:30:09.713983Z",
     "iopub.status.busy": "2021-10-14T05:30:09.700760Z",
     "iopub.status.idle": "2021-10-14T05:30:09.730822Z",
     "shell.execute_reply": "2021-10-14T05:30:09.732168Z"
    },
    "papermill": {
     "duration": 0.068994,
     "end_time": "2021-10-14T05:30:09.732608",
     "exception": false,
     "start_time": "2021-10-14T05:30:09.663614",
     "status": "completed"
    },
    "tags": []
   },
   "outputs": [],
   "source": [
    "df_pivot = df.pivot_table(index=\"PRODUCT\", columns = \"RECORD_TIME\", values = \"LISTING_COUNT\")"
   ]
  },
  {
   "cell_type": "code",
   "execution_count": 6,
   "id": "union-huntington",
   "metadata": {
    "execution": {
     "iopub.execute_input": "2021-10-14T05:30:09.788762Z",
     "iopub.status.busy": "2021-10-14T05:30:09.786696Z",
     "iopub.status.idle": "2021-10-14T05:30:09.792032Z",
     "shell.execute_reply": "2021-10-14T05:30:09.793376Z"
    },
    "papermill": {
     "duration": 0.040878,
     "end_time": "2021-10-14T05:30:09.793798",
     "exception": false,
     "start_time": "2021-10-14T05:30:09.752920",
     "status": "completed"
    },
    "tags": []
   },
   "outputs": [],
   "source": [
    "df_pivot.columns = [\"stamp_1\", \"stamp_2\"]\n",
    "df_pivot_diff = df_pivot.diff(axis=1)"
   ]
  },
  {
   "cell_type": "code",
   "execution_count": 7,
   "id": "fifth-motion",
   "metadata": {
    "execution": {
     "iopub.execute_input": "2021-10-14T05:30:09.849424Z",
     "iopub.status.busy": "2021-10-14T05:30:09.846887Z",
     "iopub.status.idle": "2021-10-14T05:30:11.375378Z",
     "shell.execute_reply": "2021-10-14T05:30:11.376561Z"
    },
    "papermill": {
     "duration": 1.561831,
     "end_time": "2021-10-14T05:30:11.377191",
     "exception": false,
     "start_time": "2021-10-14T05:30:09.815360",
     "status": "completed"
    },
    "tags": []
   },
   "outputs": [
    {
     "data": {
      "text/plain": [
       "<AxesSubplot:ylabel='PRODUCT'>"
      ]
     },
     "execution_count": 7,
     "metadata": {},
     "output_type": "execute_result"
    },
    {
     "data": {
      "image/png": "[encoded data removed]",
      "text/plain": [
       "<Figure size 432x288 with 1 Axes>"
      ]
     },
     "metadata": {
      "needs_background": "light"
     },
     "output_type": "display_data"
    }
   ],
   "source": [
    "df_pivot_diff.sort_values(\"stamp_2\", ascending = False)[\"stamp_2\"].head(10).plot.barh()"
   ]
  },
  {
   "cell_type": "code",
   "execution_count": null,
   "id": "extra-executive",
   "metadata": {
    "papermill": {
     "duration": 0.022531,
     "end_time": "2021-10-14T05:30:11.425919",
     "exception": false,
     "start_time": "2021-10-14T05:30:11.403388",
     "status": "completed"
    },
    "tags": []
   },
   "outputs": [],
   "source": []
  }
 ],
 "metadata": {
  "kernelspec": {
   "display_name": "Python 3",
   "language": "python",
   "name": "python3"
  },
  "language_info": {
   "codemirror_mode": {
    "name": "ipython",
    "version": 3
   },
   "file_extension": ".py",
   "mimetype": "text/x-python",
   "name": "python",
   "nbconvert_exporter": "python",
   "pygments_lexer": "ipython3",
   "version": "3.9.5"
  },
  "papermill": {
   "default_parameters": {},
   "duration": 7.818123,
   "end_time": "2021-10-14T05:30:12.705981",
   "environment_variables": {},
   "exception": null,
   "input_path": "eBay_Overview.ipynb",
   "output_path": "eBay_Overview.ipynb",
   "parameters": {},
   "start_time": "2021-10-14T05:30:04.887858",
   "version": "2.3.3"
  }
 },
 "nbformat": 4,
 "nbformat_minor": 5
}