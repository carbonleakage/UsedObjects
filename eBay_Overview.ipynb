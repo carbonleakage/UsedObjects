{
 "cells": [
  {
   "cell_type": "code",
   "execution_count": 1,
   "id": "reverse-picking",
   "metadata": {
    "execution": {
     "iopub.execute_input": "2021-10-16T17:30:06.662879Z",
     "iopub.status.busy": "2021-10-16T17:30:06.660922Z",
     "iopub.status.idle": "2021-10-16T17:30:07.467618Z",
     "shell.execute_reply": "2021-10-16T17:30:07.468992Z"
    },
    "papermill": {
     "duration": 0.859713,
     "end_time": "2021-10-16T17:30:07.469681",
     "exception": false,
     "start_time": "2021-10-16T17:30:06.609968",
     "status": "completed"
    },
    "tags": []
   },
   "outputs": [],
   "source": [
    "import pandas as pd\n",
    "import sqlite3"
   ]
  },
  {
   "cell_type": "code",
   "execution_count": 2,
   "id": "innovative-syndrome",
   "metadata": {
    "execution": {
     "iopub.execute_input": "2021-10-16T17:30:07.519811Z",
     "iopub.status.busy": "2021-10-16T17:30:07.517946Z",
     "iopub.status.idle": "2021-10-16T17:30:08.074771Z",
     "shell.execute_reply": "2021-10-16T17:30:08.076054Z"
    },
    "papermill": {
     "duration": 0.586548,
     "end_time": "2021-10-16T17:30:08.076465",
     "exception": false,
     "start_time": "2021-10-16T17:30:07.489917",
     "status": "completed"
    },
    "tags": []
   },
   "outputs": [],
   "source": [
    "timestamps = pd.read_sql(\"select distinct record_time from EBAY_TOP_BERLIN order by record_time desc limit 2\", sqlite3.connect(\"UsedObjects.db\"))"
   ]
  },
  {
   "cell_type": "code",
   "execution_count": 3,
   "id": "periodic-identification",
   "metadata": {
    "execution": {
     "iopub.execute_input": "2021-10-16T17:30:08.151610Z",
     "iopub.status.busy": "2021-10-16T17:30:08.149544Z",
     "iopub.status.idle": "2021-10-16T17:30:08.172265Z",
     "shell.execute_reply": "2021-10-16T17:30:08.173765Z"
    },
    "papermill": {
     "duration": 0.072525,
     "end_time": "2021-10-16T17:30:08.174213",
     "exception": false,
     "start_time": "2021-10-16T17:30:08.101688",
     "status": "completed"
    },
    "tags": []
   },
   "outputs": [
    {
     "data": {
      "text/html": [
       "<div>\n",
       "<style scoped>\n",
       "    .dataframe tbody tr th:only-of-type {\n",
       "        vertical-align: middle;\n",
       "    }\n",
       "\n",
       "    .dataframe tbody tr th {\n",
       "        vertical-align: top;\n",
       "    }\n",
       "\n",
       "    .dataframe thead th {\n",
       "        text-align: right;\n",
       "    }\n",
       "</style>\n",
       "<table border=\"1\" class=\"dataframe\">\n",
       "  <thead>\n",
       "    <tr style=\"text-align: right;\">\n",
       "      <th></th>\n",
       "      <th>RECORD_TIME</th>\n",
       "    </tr>\n",
       "  </thead>\n",
       "  <tbody>\n",
       "    <tr>\n",
       "      <th>0</th>\n",
       "      <td>2021-10-16 19:30</td>\n",
       "    </tr>\n",
       "    <tr>\n",
       "      <th>1</th>\n",
       "      <td>2021-10-16 19:00</td>\n",
       "    </tr>\n",
       "  </tbody>\n",
       "</table>\n",
       "</div>"
      ],
      "text/plain": [
       "        RECORD_TIME\n",
       "0  2021-10-16 19:30\n",
       "1  2021-10-16 19:00"
      ]
     },
     "execution_count": 3,
     "metadata": {},
     "output_type": "execute_result"
    }
   ],
   "source": [
    "timestamps"
   ]
  },
  {
   "cell_type": "code",
   "execution_count": 4,
   "id": "alternate-victory",
   "metadata": {
    "execution": {
     "iopub.execute_input": "2021-10-16T17:30:08.225590Z",
     "iopub.status.busy": "2021-10-16T17:30:08.223486Z",
     "iopub.status.idle": "2021-10-16T17:30:09.041657Z",
     "shell.execute_reply": "2021-10-16T17:30:09.043049Z"
    },
    "papermill": {
     "duration": 0.848134,
     "end_time": "2021-10-16T17:30:09.043486",
     "exception": false,
     "start_time": "2021-10-16T17:30:08.195352",
     "status": "completed"
    },
    "tags": []
   },
   "outputs": [],
   "source": [
    "df = pd.read_sql(\"select * from EBAY_TOP_BERLIN where record_time in (select distinct record_time from EBAY_TOP_BERLIN order by record_time desc limit 2)\", sqlite3.connect(\"UsedObjects.db\"))"
   ]
  },
  {
   "cell_type": "code",
   "execution_count": 5,
   "id": "popular-active",
   "metadata": {
    "execution": {
     "iopub.execute_input": "2021-10-16T17:30:09.115321Z",
     "iopub.status.busy": "2021-10-16T17:30:09.102713Z",
     "iopub.status.idle": "2021-10-16T17:30:09.133348Z",
     "shell.execute_reply": "2021-10-16T17:30:09.134763Z"
    },
    "papermill": {
     "duration": 0.070102,
     "end_time": "2021-10-16T17:30:09.135202",
     "exception": false,
     "start_time": "2021-10-16T17:30:09.065100",
     "status": "completed"
    },
    "tags": []
   },
   "outputs": [],
   "source": [
    "df_pivot = df.pivot_table(index=\"PRODUCT\", columns = \"RECORD_TIME\", values = \"LISTING_COUNT\")"
   ]
  },
  {
   "cell_type": "code",
   "execution_count": 6,
   "id": "union-huntington",
   "metadata": {
    "execution": {
     "iopub.execute_input": "2021-10-16T17:30:09.192234Z",
     "iopub.status.busy": "2021-10-16T17:30:09.189920Z",
     "iopub.status.idle": "2021-10-16T17:30:09.195671Z",
     "shell.execute_reply": "2021-10-16T17:30:09.197089Z"
    },
    "papermill": {
     "duration": 0.041944,
     "end_time": "2021-10-16T17:30:09.197553",
     "exception": false,
     "start_time": "2021-10-16T17:30:09.155609",
     "status": "completed"
    },
    "tags": []
   },
   "outputs": [],
   "source": [
    "df_pivot.columns = [\"stamp_1\", \"stamp_2\"]\n",
    "df_pivot_diff = df_pivot.diff(axis=1)"
   ]
  },
  {
   "cell_type": "code",
   "execution_count": 7,
   "id": "fifth-motion",
   "metadata": {
    "execution": {
     "iopub.execute_input": "2021-10-16T17:30:09.252310Z",
     "iopub.status.busy": "2021-10-16T17:30:09.249998Z",
     "iopub.status.idle": "2021-10-16T17:30:10.750084Z",
     "shell.execute_reply": "2021-10-16T17:30:10.751533Z"
    },
    "papermill": {
     "duration": 1.53387,
     "end_time": "2021-10-16T17:30:10.751974",
     "exception": false,
     "start_time": "2021-10-16T17:30:09.218104",
     "status": "completed"
    },
    "tags": []
   },
   "outputs": [
    {
     "data": {
      "text/plain": [
       "<AxesSubplot:ylabel='PRODUCT'>"
      ]
     },
     "execution_count": 7,
     "metadata": {},
     "output_type": "execute_result"
    },
    {
     "data": {
      "image/png": "[encoded data removed]",
      "text/plain": [
       "<Figure size 432x288 with 1 Axes>"
      ]
     },
     "metadata": {
      "needs_background": "light"
     },
     "output_type": "display_data"
    }
   ],
   "source": [
    "df_pivot_diff.sort_values(\"stamp_2\", ascending = False)[\"stamp_2\"].head(10).plot.barh()"
   ]
  },
  {
   "cell_type": "code",
   "execution_count": null,
   "id": "extra-executive",
   "metadata": {
    "papermill": {
     "duration": 0.02217,
     "end_time": "2021-10-16T17:30:10.798500",
     "exception": false,
     "start_time": "2021-10-16T17:30:10.776330",
     "status": "completed"
    },
    "tags": []
   },
   "outputs": [],
   "source": []
  }
 ],
 "metadata": {
  "kernelspec": {
   "display_name": "Python 3",
   "language": "python",
   "name": "python3"
  },
  "language_info": {
   "codemirror_mode": {
    "name": "ipython",
    "version": 3
   },
   "file_extension": ".py",
   "mimetype": "text/x-python",
   "name": "python",
   "nbconvert_exporter": "python",
   "pygments_lexer": "ipython3",
   "version": "3.9.5"
  },
  "papermill": {
   "default_parameters": {},
   "duration": 7.821528,
   "end_time": "2021-10-16T17:30:12.015922",
   "environment_variables": {},
   "exception": null,
   "input_path": "eBay_Overview.ipynb",
   "output_path": "eBay_Overview.ipynb",
   "parameters": {},
   "start_time": "2021-10-16T17:30:04.194394",
   "version": "2.3.3"
  }
 },
 "nbformat": 4,
 "nbformat_minor": 5
}