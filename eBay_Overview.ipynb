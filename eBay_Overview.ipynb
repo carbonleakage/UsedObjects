{
 "cells": [
  {
   "cell_type": "code",
   "execution_count": 1,
   "id": "reverse-picking",
   "metadata": {
    "execution": {
     "iopub.execute_input": "2021-10-20T12:30:06.930960Z",
     "iopub.status.busy": "2021-10-20T12:30:06.928989Z",
     "iopub.status.idle": "2021-10-20T12:30:07.738853Z",
     "shell.execute_reply": "2021-10-20T12:30:07.737291Z"
    },
    "papermill": {
     "duration": 0.860275,
     "end_time": "2021-10-20T12:30:07.739247",
     "exception": false,
     "start_time": "2021-10-20T12:30:06.878972",
     "status": "completed"
    },
    "tags": []
   },
   "outputs": [],
   "source": [
    "import pandas as pd\n",
    "import sqlite3"
   ]
  },
  {
   "cell_type": "code",
   "execution_count": 2,
   "id": "innovative-syndrome",
   "metadata": {
    "execution": {
     "iopub.execute_input": "2021-10-20T12:30:07.793136Z",
     "iopub.status.busy": "2021-10-20T12:30:07.790753Z",
     "iopub.status.idle": "2021-10-20T12:30:08.389191Z",
     "shell.execute_reply": "2021-10-20T12:30:08.390568Z"
    },
    "papermill": {
     "duration": 0.628604,
     "end_time": "2021-10-20T12:30:08.391000",
     "exception": false,
     "start_time": "2021-10-20T12:30:07.762396",
     "status": "completed"
    },
    "tags": []
   },
   "outputs": [],
   "source": [
    "timestamps = pd.read_sql(\"select distinct record_time from EBAY_TOP_BERLIN order by record_time desc limit 2\", sqlite3.connect(\"UsedObjects.db\"))"
   ]
  },
  {
   "cell_type": "code",
   "execution_count": 3,
   "id": "periodic-identification",
   "metadata": {
    "execution": {
     "iopub.execute_input": "2021-10-20T12:30:08.465079Z",
     "iopub.status.busy": "2021-10-20T12:30:08.462990Z",
     "iopub.status.idle": "2021-10-20T12:30:08.483635Z",
     "shell.execute_reply": "2021-10-20T12:30:08.485207Z"
    },
    "papermill": {
     "duration": 0.069142,
     "end_time": "2021-10-20T12:30:08.485707",
     "exception": false,
     "start_time": "2021-10-20T12:30:08.416565",
     "status": "completed"
    },
    "tags": []
   },
   "outputs": [
    {
     "data": {
      "text/html": [
       "<div>\n",
       "<style scoped>\n",
       "    .dataframe tbody tr th:only-of-type {\n",
       "        vertical-align: middle;\n",
       "    }\n",
       "\n",
       "    .dataframe tbody tr th {\n",
       "        vertical-align: top;\n",
       "    }\n",
       "\n",
       "    .dataframe thead th {\n",
       "        text-align: right;\n",
       "    }\n",
       "</style>\n",
       "<table border=\"1\" class=\"dataframe\">\n",
       "  <thead>\n",
       "    <tr style=\"text-align: right;\">\n",
       "      <th></th>\n",
       "      <th>RECORD_TIME</th>\n",
       "    </tr>\n",
       "  </thead>\n",
       "  <tbody>\n",
       "    <tr>\n",
       "      <th>0</th>\n",
       "      <td>2021-10-20 14:30</td>\n",
       "    </tr>\n",
       "    <tr>\n",
       "      <th>1</th>\n",
       "      <td>2021-10-20 14:00</td>\n",
       "    </tr>\n",
       "  </tbody>\n",
       "</table>\n",
       "</div>"
      ],
      "text/plain": [
       "        RECORD_TIME\n",
       "0  2021-10-20 14:30\n",
       "1  2021-10-20 14:00"
      ]
     },
     "execution_count": 3,
     "metadata": {},
     "output_type": "execute_result"
    }
   ],
   "source": [
    "timestamps"
   ]
  },
  {
   "cell_type": "code",
   "execution_count": 4,
   "id": "alternate-victory",
   "metadata": {
    "execution": {
     "iopub.execute_input": "2021-10-20T12:30:08.537558Z",
     "iopub.status.busy": "2021-10-20T12:30:08.535610Z",
     "iopub.status.idle": "2021-10-20T12:30:09.408383Z",
     "shell.execute_reply": "2021-10-20T12:30:09.409662Z"
    },
    "papermill": {
     "duration": 0.902774,
     "end_time": "2021-10-20T12:30:09.410061",
     "exception": false,
     "start_time": "2021-10-20T12:30:08.507287",
     "status": "completed"
    },
    "tags": []
   },
   "outputs": [],
   "source": [
    "df = pd.read_sql(\"select * from EBAY_TOP_BERLIN where record_time in (select distinct record_time from EBAY_TOP_BERLIN order by record_time desc limit 2)\", sqlite3.connect(\"UsedObjects.db\"))"
   ]
  },
  {
   "cell_type": "code",
   "execution_count": 5,
   "id": "popular-active",
   "metadata": {
    "execution": {
     "iopub.execute_input": "2021-10-20T12:30:09.484036Z",
     "iopub.status.busy": "2021-10-20T12:30:09.470882Z",
     "iopub.status.idle": "2021-10-20T12:30:09.499644Z",
     "shell.execute_reply": "2021-10-20T12:30:09.500987Z"
    },
    "papermill": {
     "duration": 0.068503,
     "end_time": "2021-10-20T12:30:09.501404",
     "exception": false,
     "start_time": "2021-10-20T12:30:09.432901",
     "status": "completed"
    },
    "tags": []
   },
   "outputs": [],
   "source": [
    "df_pivot = df.pivot_table(index=\"PRODUCT\", columns = \"RECORD_TIME\", values = \"LISTING_COUNT\")"
   ]
  },
  {
   "cell_type": "code",
   "execution_count": 6,
   "id": "union-huntington",
   "metadata": {
    "execution": {
     "iopub.execute_input": "2021-10-20T12:30:09.560388Z",
     "iopub.status.busy": "2021-10-20T12:30:09.558100Z",
     "iopub.status.idle": "2021-10-20T12:30:09.563892Z",
     "shell.execute_reply": "2021-10-20T12:30:09.565261Z"
    },
    "papermill": {
     "duration": 0.041663,
     "end_time": "2021-10-20T12:30:09.565681",
     "exception": false,
     "start_time": "2021-10-20T12:30:09.524018",
     "status": "completed"
    },
    "tags": []
   },
   "outputs": [],
   "source": [
    "df_pivot.columns = [\"stamp_1\", \"stamp_2\"]\n",
    "df_pivot_diff = df_pivot.diff(axis=1)"
   ]
  },
  {
   "cell_type": "code",
   "execution_count": 7,
   "id": "fifth-motion",
   "metadata": {
    "execution": {
     "iopub.execute_input": "2021-10-20T12:30:09.619633Z",
     "iopub.status.busy": "2021-10-20T12:30:09.617310Z",
     "iopub.status.idle": "2021-10-20T12:30:11.114704Z",
     "shell.execute_reply": "2021-10-20T12:30:11.115970Z"
    },
    "papermill": {
     "duration": 1.530698,
     "end_time": "2021-10-20T12:30:11.116396",
     "exception": false,
     "start_time": "2021-10-20T12:30:09.585698",
     "status": "completed"
    },
    "tags": []
   },
   "outputs": [
    {
     "data": {
      "text/plain": [
       "<AxesSubplot:ylabel='PRODUCT'>"
      ]
     },
     "execution_count": 7,
     "metadata": {},
     "output_type": "execute_result"
    },
    {
     "data": {
      "image/png": "[encoded data removed]",
      "text/plain": [
       "<Figure size 432x288 with 1 Axes>"
      ]
     },
     "metadata": {
      "needs_background": "light"
     },
     "output_type": "display_data"
    }
   ],
   "source": [
    "df_pivot_diff.sort_values(\"stamp_2\", ascending = False)[\"stamp_2\"].head(10).plot.barh()"
   ]
  },
  {
   "cell_type": "code",
   "execution_count": null,
   "id": "extra-executive",
   "metadata": {
    "papermill": {
     "duration": 0.022117,
     "end_time": "2021-10-20T12:30:11.163150",
     "exception": false,
     "start_time": "2021-10-20T12:30:11.141033",
     "status": "completed"
    },
    "tags": []
   },
   "outputs": [],
   "source": []
  }
 ],
 "metadata": {
  "kernelspec": {
   "display_name": "Python 3",
   "language": "python",
   "name": "python3"
  },
  "language_info": {
   "codemirror_mode": {
    "name": "ipython",
    "version": 3
   },
   "file_extension": ".py",
   "mimetype": "text/x-python",
   "name": "python",
   "nbconvert_exporter": "python",
   "pygments_lexer": "ipython3",
   "version": "3.9.5"
  },
  "papermill": {
   "default_parameters": {},
   "duration": 7.343484,
   "end_time": "2021-10-20T12:30:11.803160",
   "environment_variables": {},
   "exception": null,
   "input_path": "eBay_Overview.ipynb",
   "output_path": "eBay_Overview.ipynb",
   "parameters": {},
   "start_time": "2021-10-20T12:30:04.459676",
   "version": "2.3.3"
  }
 },
 "nbformat": 4,
 "nbformat_minor": 5
}