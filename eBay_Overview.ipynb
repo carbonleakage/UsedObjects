{
 "cells": [
  {
   "cell_type": "code",
   "execution_count": 1,
   "id": "reverse-picking",
   "metadata": {
    "execution": {
     "iopub.execute_input": "2021-12-14T03:00:08.818888Z",
     "iopub.status.busy": "2021-12-14T03:00:08.815519Z",
     "iopub.status.idle": "2021-12-14T03:00:09.779179Z",
     "shell.execute_reply": "2021-12-14T03:00:09.780964Z"
    },
    "papermill": {
     "duration": 1.01268,
     "end_time": "2021-12-14T03:00:09.781710",
     "exception": false,
     "start_time": "2021-12-14T03:00:08.769030",
     "status": "completed"
    },
    "tags": []
   },
   "outputs": [],
   "source": [
    "import pandas as pd\n",
    "import sqlite3"
   ]
  },
  {
   "cell_type": "code",
   "execution_count": 2,
   "id": "innovative-syndrome",
   "metadata": {
    "execution": {
     "iopub.execute_input": "2021-12-14T03:00:09.845021Z",
     "iopub.status.busy": "2021-12-14T03:00:09.842666Z",
     "iopub.status.idle": "2021-12-14T03:00:10.895047Z",
     "shell.execute_reply": "2021-12-14T03:00:10.896830Z"
    },
    "papermill": {
     "duration": 1.085805,
     "end_time": "2021-12-14T03:00:10.897354",
     "exception": false,
     "start_time": "2021-12-14T03:00:09.811549",
     "status": "completed"
    },
    "tags": []
   },
   "outputs": [],
   "source": [
    "timestamps = pd.read_sql(\"select distinct record_time from EBAY_TOP_BERLIN order by record_time desc limit 2\", sqlite3.connect(\"UsedObjects.db\"))"
   ]
  },
  {
   "cell_type": "code",
   "execution_count": 3,
   "id": "periodic-identification",
   "metadata": {
    "execution": {
     "iopub.execute_input": "2021-12-14T03:00:10.970262Z",
     "iopub.status.busy": "2021-12-14T03:00:10.967767Z",
     "iopub.status.idle": "2021-12-14T03:00:10.990754Z",
     "shell.execute_reply": "2021-12-14T03:00:10.992222Z"
    },
    "papermill": {
     "duration": 0.073447,
     "end_time": "2021-12-14T03:00:10.992799",
     "exception": false,
     "start_time": "2021-12-14T03:00:10.919352",
     "status": "completed"
    },
    "tags": []
   },
   "outputs": [
    {
     "data": {
      "text/html": [
       "<div>\n",
       "<style scoped>\n",
       "    .dataframe tbody tr th:only-of-type {\n",
       "        vertical-align: middle;\n",
       "    }\n",
       "\n",
       "    .dataframe tbody tr th {\n",
       "        vertical-align: top;\n",
       "    }\n",
       "\n",
       "    .dataframe thead th {\n",
       "        text-align: right;\n",
       "    }\n",
       "</style>\n",
       "<table border=\"1\" class=\"dataframe\">\n",
       "  <thead>\n",
       "    <tr style=\"text-align: right;\">\n",
       "      <th></th>\n",
       "      <th>RECORD_TIME</th>\n",
       "    </tr>\n",
       "  </thead>\n",
       "  <tbody>\n",
       "    <tr>\n",
       "      <th>0</th>\n",
       "      <td>2021-12-14 04:00</td>\n",
       "    </tr>\n",
       "    <tr>\n",
       "      <th>1</th>\n",
       "      <td>2021-12-14 03:30</td>\n",
       "    </tr>\n",
       "  </tbody>\n",
       "</table>\n",
       "</div>"
      ],
      "text/plain": [
       "        RECORD_TIME\n",
       "0  2021-12-14 04:00\n",
       "1  2021-12-14 03:30"
      ]
     },
     "execution_count": 3,
     "metadata": {},
     "output_type": "execute_result"
    }
   ],
   "source": [
    "timestamps"
   ]
  },
  {
   "cell_type": "code",
   "execution_count": 4,
   "id": "alternate-victory",
   "metadata": {
    "execution": {
     "iopub.execute_input": "2021-12-14T03:00:11.049887Z",
     "iopub.status.busy": "2021-12-14T03:00:11.046992Z",
     "iopub.status.idle": "2021-12-14T03:00:12.665315Z",
     "shell.execute_reply": "2021-12-14T03:00:12.667502Z"
    },
    "papermill": {
     "duration": 1.653012,
     "end_time": "2021-12-14T03:00:12.668000",
     "exception": false,
     "start_time": "2021-12-14T03:00:11.014988",
     "status": "completed"
    },
    "tags": []
   },
   "outputs": [],
   "source": [
    "df = pd.read_sql(\"select * from EBAY_TOP_BERLIN where record_time in (select distinct record_time from EBAY_TOP_BERLIN order by record_time desc limit 2)\", sqlite3.connect(\"UsedObjects.db\"))"
   ]
  },
  {
   "cell_type": "code",
   "execution_count": 5,
   "id": "popular-active",
   "metadata": {
    "execution": {
     "iopub.execute_input": "2021-12-14T03:00:12.735636Z",
     "iopub.status.busy": "2021-12-14T03:00:12.733335Z",
     "iopub.status.idle": "2021-12-14T03:00:12.764095Z",
     "shell.execute_reply": "2021-12-14T03:00:12.765662Z"
    },
    "papermill": {
     "duration": 0.075161,
     "end_time": "2021-12-14T03:00:12.766136",
     "exception": false,
     "start_time": "2021-12-14T03:00:12.690975",
     "status": "completed"
    },
    "tags": []
   },
   "outputs": [],
   "source": [
    "df_pivot = df.pivot_table(index=\"PRODUCT\", columns = \"RECORD_TIME\", values = \"LISTING_COUNT\")"
   ]
  },
  {
   "cell_type": "code",
   "execution_count": 6,
   "id": "union-huntington",
   "metadata": {
    "execution": {
     "iopub.execute_input": "2021-12-14T03:00:12.824784Z",
     "iopub.status.busy": "2021-12-14T03:00:12.822493Z",
     "iopub.status.idle": "2021-12-14T03:00:12.828402Z",
     "shell.execute_reply": "2021-12-14T03:00:12.829881Z"
    },
    "papermill": {
     "duration": 0.043765,
     "end_time": "2021-12-14T03:00:12.830370",
     "exception": false,
     "start_time": "2021-12-14T03:00:12.786605",
     "status": "completed"
    },
    "tags": []
   },
   "outputs": [],
   "source": [
    "df_pivot.columns = [\"stamp_1\", \"stamp_2\"]\n",
    "df_pivot_diff = df_pivot.diff(axis=1)"
   ]
  },
  {
   "cell_type": "code",
   "execution_count": 7,
   "id": "fifth-motion",
   "metadata": {
    "execution": {
     "iopub.execute_input": "2021-12-14T03:00:12.886014Z",
     "iopub.status.busy": "2021-12-14T03:00:12.883822Z",
     "iopub.status.idle": "2021-12-14T03:00:14.839583Z",
     "shell.execute_reply": "2021-12-14T03:00:14.840988Z"
    },
    "papermill": {
     "duration": 1.990624,
     "end_time": "2021-12-14T03:00:14.841460",
     "exception": false,
     "start_time": "2021-12-14T03:00:12.850836",
     "status": "completed"
    },
    "tags": []
   },
   "outputs": [
    {
     "data": {
      "text/plain": [
       "<AxesSubplot:ylabel='PRODUCT'>"
      ]
     },
     "execution_count": 7,
     "metadata": {},
     "output_type": "execute_result"
    },
    {
     "data": {
      "image/png": "[encoded data removed]",
      "text/plain": [
       "<Figure size 432x288 with 1 Axes>"
      ]
     },
     "metadata": {
      "needs_background": "light"
     },
     "output_type": "display_data"
    }
   ],
   "source": [
    "df_pivot_diff.sort_values(\"stamp_2\", ascending = False)[\"stamp_2\"].head(10).plot.barh()"
   ]
  },
  {
   "cell_type": "code",
   "execution_count": null,
   "id": "extra-executive",
   "metadata": {
    "papermill": {
     "duration": 0.027141,
     "end_time": "2021-12-14T03:00:14.900901",
     "exception": false,
     "start_time": "2021-12-14T03:00:14.873760",
     "status": "completed"
    },
    "tags": []
   },
   "outputs": [],
   "source": []
  }
 ],
 "metadata": {
  "kernelspec": {
   "display_name": "Python 3",
   "language": "python",
   "name": "python3"
  },
  "language_info": {
   "codemirror_mode": {
    "name": "ipython",
    "version": 3
   },
   "file_extension": ".py",
   "mimetype": "text/x-python",
   "name": "python",
   "nbconvert_exporter": "python",
   "pygments_lexer": "ipython3",
   "version": "3.9.5"
  },
  "papermill": {
   "default_parameters": {},
   "duration": 9.535844,
   "end_time": "2021-12-14T03:00:15.546111",
   "environment_variables": {},
   "exception": null,
   "input_path": "eBay_Overview.ipynb",
   "output_path": "eBay_Overview.ipynb",
   "parameters": {},
   "start_time": "2021-12-14T03:00:06.010267",
   "version": "2.3.3"
  }
 },
 "nbformat": 4,
 "nbformat_minor": 5
}