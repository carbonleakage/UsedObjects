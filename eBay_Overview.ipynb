{
 "cells": [
  {
   "cell_type": "code",
   "execution_count": 1,
   "id": "reverse-picking",
   "metadata": {
    "execution": {
     "iopub.execute_input": "2021-10-24T14:00:07.430104Z",
     "iopub.status.busy": "2021-10-24T14:00:07.428106Z",
     "iopub.status.idle": "2021-10-24T14:00:08.240029Z",
     "shell.execute_reply": "2021-10-24T14:00:08.241430Z"
    },
    "papermill": {
     "duration": 0.862562,
     "end_time": "2021-10-24T14:00:08.242084",
     "exception": false,
     "start_time": "2021-10-24T14:00:07.379522",
     "status": "completed"
    },
    "tags": []
   },
   "outputs": [],
   "source": [
    "import pandas as pd\n",
    "import sqlite3"
   ]
  },
  {
   "cell_type": "code",
   "execution_count": 2,
   "id": "innovative-syndrome",
   "metadata": {
    "execution": {
     "iopub.execute_input": "2021-10-24T14:00:08.292788Z",
     "iopub.status.busy": "2021-10-24T14:00:08.290623Z",
     "iopub.status.idle": "2021-10-24T14:00:08.928411Z",
     "shell.execute_reply": "2021-10-24T14:00:08.929691Z"
    },
    "papermill": {
     "duration": 0.667819,
     "end_time": "2021-10-24T14:00:08.930089",
     "exception": false,
     "start_time": "2021-10-24T14:00:08.262270",
     "status": "completed"
    },
    "tags": []
   },
   "outputs": [],
   "source": [
    "timestamps = pd.read_sql(\"select distinct record_time from EBAY_TOP_BERLIN order by record_time desc limit 2\", sqlite3.connect(\"UsedObjects.db\"))"
   ]
  },
  {
   "cell_type": "code",
   "execution_count": 3,
   "id": "periodic-identification",
   "metadata": {
    "execution": {
     "iopub.execute_input": "2021-10-24T14:00:09.003804Z",
     "iopub.status.busy": "2021-10-24T14:00:09.001775Z",
     "iopub.status.idle": "2021-10-24T14:00:09.022007Z",
     "shell.execute_reply": "2021-10-24T14:00:09.023288Z"
    },
    "papermill": {
     "duration": 0.068551,
     "end_time": "2021-10-24T14:00:09.023701",
     "exception": false,
     "start_time": "2021-10-24T14:00:08.955150",
     "status": "completed"
    },
    "tags": []
   },
   "outputs": [
    {
     "data": {
      "text/html": [
       "<div>\n",
       "<style scoped>\n",
       "    .dataframe tbody tr th:only-of-type {\n",
       "        vertical-align: middle;\n",
       "    }\n",
       "\n",
       "    .dataframe tbody tr th {\n",
       "        vertical-align: top;\n",
       "    }\n",
       "\n",
       "    .dataframe thead th {\n",
       "        text-align: right;\n",
       "    }\n",
       "</style>\n",
       "<table border=\"1\" class=\"dataframe\">\n",
       "  <thead>\n",
       "    <tr style=\"text-align: right;\">\n",
       "      <th></th>\n",
       "      <th>RECORD_TIME</th>\n",
       "    </tr>\n",
       "  </thead>\n",
       "  <tbody>\n",
       "    <tr>\n",
       "      <th>0</th>\n",
       "      <td>2021-10-24 16:00</td>\n",
       "    </tr>\n",
       "    <tr>\n",
       "      <th>1</th>\n",
       "      <td>2021-10-24 15:30</td>\n",
       "    </tr>\n",
       "  </tbody>\n",
       "</table>\n",
       "</div>"
      ],
      "text/plain": [
       "        RECORD_TIME\n",
       "0  2021-10-24 16:00\n",
       "1  2021-10-24 15:30"
      ]
     },
     "execution_count": 3,
     "metadata": {},
     "output_type": "execute_result"
    }
   ],
   "source": [
    "timestamps"
   ]
  },
  {
   "cell_type": "code",
   "execution_count": 4,
   "id": "alternate-victory",
   "metadata": {
    "execution": {
     "iopub.execute_input": "2021-10-24T14:00:09.075519Z",
     "iopub.status.busy": "2021-10-24T14:00:09.073244Z",
     "iopub.status.idle": "2021-10-24T14:00:09.995178Z",
     "shell.execute_reply": "2021-10-24T14:00:09.996381Z"
    },
    "papermill": {
     "duration": 0.952174,
     "end_time": "2021-10-24T14:00:09.996965",
     "exception": false,
     "start_time": "2021-10-24T14:00:09.044791",
     "status": "completed"
    },
    "tags": []
   },
   "outputs": [],
   "source": [
    "df = pd.read_sql(\"select * from EBAY_TOP_BERLIN where record_time in (select distinct record_time from EBAY_TOP_BERLIN order by record_time desc limit 2)\", sqlite3.connect(\"UsedObjects.db\"))"
   ]
  },
  {
   "cell_type": "code",
   "execution_count": 5,
   "id": "popular-active",
   "metadata": {
    "execution": {
     "iopub.execute_input": "2021-10-24T14:00:10.057931Z",
     "iopub.status.busy": "2021-10-24T14:00:10.055692Z",
     "iopub.status.idle": "2021-10-24T14:00:10.083031Z",
     "shell.execute_reply": "2021-10-24T14:00:10.084225Z"
    },
    "papermill": {
     "duration": 0.067026,
     "end_time": "2021-10-24T14:00:10.084615",
     "exception": false,
     "start_time": "2021-10-24T14:00:10.017589",
     "status": "completed"
    },
    "tags": []
   },
   "outputs": [],
   "source": [
    "df_pivot = df.pivot_table(index=\"PRODUCT\", columns = \"RECORD_TIME\", values = \"LISTING_COUNT\")"
   ]
  },
  {
   "cell_type": "code",
   "execution_count": 6,
   "id": "union-huntington",
   "metadata": {
    "execution": {
     "iopub.execute_input": "2021-10-24T14:00:10.141204Z",
     "iopub.status.busy": "2021-10-24T14:00:10.139004Z",
     "iopub.status.idle": "2021-10-24T14:00:10.144358Z",
     "shell.execute_reply": "2021-10-24T14:00:10.145747Z"
    },
    "papermill": {
     "duration": 0.0401,
     "end_time": "2021-10-24T14:00:10.146175",
     "exception": false,
     "start_time": "2021-10-24T14:00:10.106075",
     "status": "completed"
    },
    "tags": []
   },
   "outputs": [],
   "source": [
    "df_pivot.columns = [\"stamp_1\", \"stamp_2\"]\n",
    "df_pivot_diff = df_pivot.diff(axis=1)"
   ]
  },
  {
   "cell_type": "code",
   "execution_count": 7,
   "id": "fifth-motion",
   "metadata": {
    "execution": {
     "iopub.execute_input": "2021-10-24T14:00:10.201631Z",
     "iopub.status.busy": "2021-10-24T14:00:10.199037Z",
     "iopub.status.idle": "2021-10-24T14:00:11.692089Z",
     "shell.execute_reply": "2021-10-24T14:00:11.693535Z"
    },
    "papermill": {
     "duration": 1.526403,
     "end_time": "2021-10-24T14:00:11.693981",
     "exception": false,
     "start_time": "2021-10-24T14:00:10.167578",
     "status": "completed"
    },
    "tags": []
   },
   "outputs": [
    {
     "data": {
      "text/plain": [
       "<AxesSubplot:ylabel='PRODUCT'>"
      ]
     },
     "execution_count": 7,
     "metadata": {},
     "output_type": "execute_result"
    },
    {
     "data": {
      "image/png": "[encoded data removed]",
      "text/plain": [
       "<Figure size 432x288 with 1 Axes>"
      ]
     },
     "metadata": {
      "needs_background": "light"
     },
     "output_type": "display_data"
    }
   ],
   "source": [
    "df_pivot_diff.sort_values(\"stamp_2\", ascending = False)[\"stamp_2\"].head(10).plot.barh()"
   ]
  },
  {
   "cell_type": "code",
   "execution_count": null,
   "id": "extra-executive",
   "metadata": {
    "papermill": {
     "duration": 0.022119,
     "end_time": "2021-10-24T14:00:11.740129",
     "exception": false,
     "start_time": "2021-10-24T14:00:11.718010",
     "status": "completed"
    },
    "tags": []
   },
   "outputs": [],
   "source": []
  }
 ],
 "metadata": {
  "kernelspec": {
   "display_name": "Python 3",
   "language": "python",
   "name": "python3"
  },
  "language_info": {
   "codemirror_mode": {
    "name": "ipython",
    "version": 3
   },
   "file_extension": ".py",
   "mimetype": "text/x-python",
   "name": "python",
   "nbconvert_exporter": "python",
   "pygments_lexer": "ipython3",
   "version": "3.9.5"
  },
  "papermill": {
   "default_parameters": {},
   "duration": 7.420145,
   "end_time": "2021-10-24T14:00:12.380782",
   "environment_variables": {},
   "exception": null,
   "input_path": "eBay_Overview.ipynb",
   "output_path": "eBay_Overview.ipynb",
   "parameters": {},
   "start_time": "2021-10-24T14:00:04.960637",
   "version": "2.3.3"
  }
 },
 "nbformat": 4,
 "nbformat_minor": 5
}