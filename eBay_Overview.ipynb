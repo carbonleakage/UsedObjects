{
 "cells": [
  {
   "cell_type": "code",
   "execution_count": 1,
   "id": "reverse-picking",
   "metadata": {
    "execution": {
     "iopub.execute_input": "2021-12-04T20:30:07.512056Z",
     "iopub.status.busy": "2021-12-04T20:30:07.509177Z",
     "iopub.status.idle": "2021-12-04T20:30:08.471459Z",
     "shell.execute_reply": "2021-12-04T20:30:08.473119Z"
    },
    "papermill": {
     "duration": 1.008917,
     "end_time": "2021-12-04T20:30:08.473899",
     "exception": false,
     "start_time": "2021-12-04T20:30:07.464982",
     "status": "completed"
    },
    "tags": []
   },
   "outputs": [],
   "source": [
    "import pandas as pd\n",
    "import sqlite3"
   ]
  },
  {
   "cell_type": "code",
   "execution_count": 2,
   "id": "innovative-syndrome",
   "metadata": {
    "execution": {
     "iopub.execute_input": "2021-12-04T20:30:08.666839Z",
     "iopub.status.busy": "2021-12-04T20:30:08.664443Z",
     "iopub.status.idle": "2021-12-04T20:30:09.634682Z",
     "shell.execute_reply": "2021-12-04T20:30:09.637386Z"
    },
    "papermill": {
     "duration": 1.011952,
     "end_time": "2021-12-04T20:30:09.637925",
     "exception": false,
     "start_time": "2021-12-04T20:30:08.625973",
     "status": "completed"
    },
    "tags": []
   },
   "outputs": [],
   "source": [
    "timestamps = pd.read_sql(\"select distinct record_time from EBAY_TOP_BERLIN order by record_time desc limit 2\", sqlite3.connect(\"UsedObjects.db\"))"
   ]
  },
  {
   "cell_type": "code",
   "execution_count": 3,
   "id": "periodic-identification",
   "metadata": {
    "execution": {
     "iopub.execute_input": "2021-12-04T20:30:09.711207Z",
     "iopub.status.busy": "2021-12-04T20:30:09.708112Z",
     "iopub.status.idle": "2021-12-04T20:30:09.731131Z",
     "shell.execute_reply": "2021-12-04T20:30:09.732611Z"
    },
    "papermill": {
     "duration": 0.074483,
     "end_time": "2021-12-04T20:30:09.733184",
     "exception": false,
     "start_time": "2021-12-04T20:30:09.658701",
     "status": "completed"
    },
    "tags": []
   },
   "outputs": [
    {
     "data": {
      "text/html": [
       "<div>\n",
       "<style scoped>\n",
       "    .dataframe tbody tr th:only-of-type {\n",
       "        vertical-align: middle;\n",
       "    }\n",
       "\n",
       "    .dataframe tbody tr th {\n",
       "        vertical-align: top;\n",
       "    }\n",
       "\n",
       "    .dataframe thead th {\n",
       "        text-align: right;\n",
       "    }\n",
       "</style>\n",
       "<table border=\"1\" class=\"dataframe\">\n",
       "  <thead>\n",
       "    <tr style=\"text-align: right;\">\n",
       "      <th></th>\n",
       "      <th>RECORD_TIME</th>\n",
       "    </tr>\n",
       "  </thead>\n",
       "  <tbody>\n",
       "    <tr>\n",
       "      <th>0</th>\n",
       "      <td>2021-12-04 21:30</td>\n",
       "    </tr>\n",
       "    <tr>\n",
       "      <th>1</th>\n",
       "      <td>2021-12-04 21:00</td>\n",
       "    </tr>\n",
       "  </tbody>\n",
       "</table>\n",
       "</div>"
      ],
      "text/plain": [
       "        RECORD_TIME\n",
       "0  2021-12-04 21:30\n",
       "1  2021-12-04 21:00"
      ]
     },
     "execution_count": 3,
     "metadata": {},
     "output_type": "execute_result"
    }
   ],
   "source": [
    "timestamps"
   ]
  },
  {
   "cell_type": "code",
   "execution_count": 4,
   "id": "alternate-victory",
   "metadata": {
    "execution": {
     "iopub.execute_input": "2021-12-04T20:30:09.789322Z",
     "iopub.status.busy": "2021-12-04T20:30:09.786971Z",
     "iopub.status.idle": "2021-12-04T20:30:11.193615Z",
     "shell.execute_reply": "2021-12-04T20:30:11.191897Z"
    },
    "papermill": {
     "duration": 1.440069,
     "end_time": "2021-12-04T20:30:11.194068",
     "exception": false,
     "start_time": "2021-12-04T20:30:09.753999",
     "status": "completed"
    },
    "tags": []
   },
   "outputs": [],
   "source": [
    "df = pd.read_sql(\"select * from EBAY_TOP_BERLIN where record_time in (select distinct record_time from EBAY_TOP_BERLIN order by record_time desc limit 2)\", sqlite3.connect(\"UsedObjects.db\"))"
   ]
  },
  {
   "cell_type": "code",
   "execution_count": 5,
   "id": "popular-active",
   "metadata": {
    "execution": {
     "iopub.execute_input": "2021-12-04T20:30:11.270509Z",
     "iopub.status.busy": "2021-12-04T20:30:11.256894Z",
     "iopub.status.idle": "2021-12-04T20:30:11.291309Z",
     "shell.execute_reply": "2021-12-04T20:30:11.289633Z"
    },
    "papermill": {
     "duration": 0.077084,
     "end_time": "2021-12-04T20:30:11.291730",
     "exception": false,
     "start_time": "2021-12-04T20:30:11.214646",
     "status": "completed"
    },
    "tags": []
   },
   "outputs": [],
   "source": [
    "df_pivot = df.pivot_table(index=\"PRODUCT\", columns = \"RECORD_TIME\", values = \"LISTING_COUNT\")"
   ]
  },
  {
   "cell_type": "code",
   "execution_count": 6,
   "id": "union-huntington",
   "metadata": {
    "execution": {
     "iopub.execute_input": "2021-12-04T20:30:11.354132Z",
     "iopub.status.busy": "2021-12-04T20:30:11.351765Z",
     "iopub.status.idle": "2021-12-04T20:30:11.358454Z",
     "shell.execute_reply": "2021-12-04T20:30:11.360136Z"
    },
    "papermill": {
     "duration": 0.046859,
     "end_time": "2021-12-04T20:30:11.360793",
     "exception": false,
     "start_time": "2021-12-04T20:30:11.313934",
     "status": "completed"
    },
    "tags": []
   },
   "outputs": [],
   "source": [
    "df_pivot.columns = [\"stamp_1\", \"stamp_2\"]\n",
    "df_pivot_diff = df_pivot.diff(axis=1)"
   ]
  },
  {
   "cell_type": "code",
   "execution_count": 7,
   "id": "fifth-motion",
   "metadata": {
    "execution": {
     "iopub.execute_input": "2021-12-04T20:30:11.418326Z",
     "iopub.status.busy": "2021-12-04T20:30:11.415862Z",
     "iopub.status.idle": "2021-12-04T20:30:13.329364Z",
     "shell.execute_reply": "2021-12-04T20:30:13.330832Z"
    },
    "papermill": {
     "duration": 1.94899,
     "end_time": "2021-12-04T20:30:13.331308",
     "exception": false,
     "start_time": "2021-12-04T20:30:11.382318",
     "status": "completed"
    },
    "tags": []
   },
   "outputs": [
    {
     "data": {
      "text/plain": [
       "<AxesSubplot:ylabel='PRODUCT'>"
      ]
     },
     "execution_count": 7,
     "metadata": {},
     "output_type": "execute_result"
    },
    {
     "data": {
      "image/png": "[encoded data removed]",
      "text/plain": [
       "<Figure size 432x288 with 1 Axes>"
      ]
     },
     "metadata": {
      "needs_background": "light"
     },
     "output_type": "display_data"
    }
   ],
   "source": [
    "df_pivot_diff.sort_values(\"stamp_2\", ascending = False)[\"stamp_2\"].head(10).plot.barh()"
   ]
  },
  {
   "cell_type": "code",
   "execution_count": null,
   "id": "extra-executive",
   "metadata": {
    "papermill": {
     "duration": 0.027331,
     "end_time": "2021-12-04T20:30:13.382614",
     "exception": false,
     "start_time": "2021-12-04T20:30:13.355283",
     "status": "completed"
    },
    "tags": []
   },
   "outputs": [],
   "source": []
  }
 ],
 "metadata": {
  "kernelspec": {
   "display_name": "Python 3",
   "language": "python",
   "name": "python3"
  },
  "language_info": {
   "codemirror_mode": {
    "name": "ipython",
    "version": 3
   },
   "file_extension": ".py",
   "mimetype": "text/x-python",
   "name": "python",
   "nbconvert_exporter": "python",
   "pygments_lexer": "ipython3",
   "version": "3.9.5"
  },
  "papermill": {
   "default_parameters": {},
   "duration": 9.957382,
   "end_time": "2021-12-04T20:30:14.624523",
   "environment_variables": {},
   "exception": null,
   "input_path": "eBay_Overview.ipynb",
   "output_path": "eBay_Overview.ipynb",
   "parameters": {},
   "start_time": "2021-12-04T20:30:04.667141",
   "version": "2.3.3"
  }
 },
 "nbformat": 4,
 "nbformat_minor": 5
}