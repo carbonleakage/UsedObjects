{
 "cells": [
  {
   "cell_type": "code",
   "execution_count": 1,
   "id": "reverse-picking",
   "metadata": {
    "execution": {
     "iopub.execute_input": "2021-11-16T18:00:07.727871Z",
     "iopub.status.busy": "2021-11-16T18:00:07.725513Z",
     "iopub.status.idle": "2021-11-16T18:00:08.677923Z",
     "shell.execute_reply": "2021-11-16T18:00:08.679491Z"
    },
    "papermill": {
     "duration": 1.001751,
     "end_time": "2021-11-16T18:00:08.680228",
     "exception": false,
     "start_time": "2021-11-16T18:00:07.678477",
     "status": "completed"
    },
    "tags": []
   },
   "outputs": [],
   "source": [
    "import pandas as pd\n",
    "import sqlite3"
   ]
  },
  {
   "cell_type": "code",
   "execution_count": 2,
   "id": "innovative-syndrome",
   "metadata": {
    "execution": {
     "iopub.execute_input": "2021-11-16T18:00:08.741430Z",
     "iopub.status.busy": "2021-11-16T18:00:08.739059Z",
     "iopub.status.idle": "2021-11-16T18:00:09.582632Z",
     "shell.execute_reply": "2021-11-16T18:00:09.583853Z"
    },
    "papermill": {
     "duration": 0.877635,
     "end_time": "2021-11-16T18:00:09.584254",
     "exception": false,
     "start_time": "2021-11-16T18:00:08.706619",
     "status": "completed"
    },
    "tags": []
   },
   "outputs": [],
   "source": [
    "timestamps = pd.read_sql(\"select distinct record_time from EBAY_TOP_BERLIN order by record_time desc limit 2\", sqlite3.connect(\"UsedObjects.db\"))"
   ]
  },
  {
   "cell_type": "code",
   "execution_count": 3,
   "id": "periodic-identification",
   "metadata": {
    "execution": {
     "iopub.execute_input": "2021-11-16T18:00:09.649232Z",
     "iopub.status.busy": "2021-11-16T18:00:09.647113Z",
     "iopub.status.idle": "2021-11-16T18:00:09.671117Z",
     "shell.execute_reply": "2021-11-16T18:00:09.669590Z"
    },
    "papermill": {
     "duration": 0.067769,
     "end_time": "2021-11-16T18:00:09.671491",
     "exception": false,
     "start_time": "2021-11-16T18:00:09.603722",
     "status": "completed"
    },
    "tags": []
   },
   "outputs": [
    {
     "data": {
      "text/html": [
       "<div>\n",
       "<style scoped>\n",
       "    .dataframe tbody tr th:only-of-type {\n",
       "        vertical-align: middle;\n",
       "    }\n",
       "\n",
       "    .dataframe tbody tr th {\n",
       "        vertical-align: top;\n",
       "    }\n",
       "\n",
       "    .dataframe thead th {\n",
       "        text-align: right;\n",
       "    }\n",
       "</style>\n",
       "<table border=\"1\" class=\"dataframe\">\n",
       "  <thead>\n",
       "    <tr style=\"text-align: right;\">\n",
       "      <th></th>\n",
       "      <th>RECORD_TIME</th>\n",
       "    </tr>\n",
       "  </thead>\n",
       "  <tbody>\n",
       "    <tr>\n",
       "      <th>0</th>\n",
       "      <td>2021-11-16 19:00</td>\n",
       "    </tr>\n",
       "    <tr>\n",
       "      <th>1</th>\n",
       "      <td>2021-11-16 18:30</td>\n",
       "    </tr>\n",
       "  </tbody>\n",
       "</table>\n",
       "</div>"
      ],
      "text/plain": [
       "        RECORD_TIME\n",
       "0  2021-11-16 19:00\n",
       "1  2021-11-16 18:30"
      ]
     },
     "execution_count": 3,
     "metadata": {},
     "output_type": "execute_result"
    }
   ],
   "source": [
    "timestamps"
   ]
  },
  {
   "cell_type": "code",
   "execution_count": 4,
   "id": "alternate-victory",
   "metadata": {
    "execution": {
     "iopub.execute_input": "2021-11-16T18:00:09.722667Z",
     "iopub.status.busy": "2021-11-16T18:00:09.720603Z",
     "iopub.status.idle": "2021-11-16T18:00:10.977428Z",
     "shell.execute_reply": "2021-11-16T18:00:10.979247Z"
    },
    "papermill": {
     "duration": 1.287241,
     "end_time": "2021-11-16T18:00:10.979720",
     "exception": false,
     "start_time": "2021-11-16T18:00:09.692479",
     "status": "completed"
    },
    "tags": []
   },
   "outputs": [],
   "source": [
    "df = pd.read_sql(\"select * from EBAY_TOP_BERLIN where record_time in (select distinct record_time from EBAY_TOP_BERLIN order by record_time desc limit 2)\", sqlite3.connect(\"UsedObjects.db\"))"
   ]
  },
  {
   "cell_type": "code",
   "execution_count": 5,
   "id": "popular-active",
   "metadata": {
    "execution": {
     "iopub.execute_input": "2021-11-16T18:00:11.043564Z",
     "iopub.status.busy": "2021-11-16T18:00:11.041324Z",
     "iopub.status.idle": "2021-11-16T18:00:11.072636Z",
     "shell.execute_reply": "2021-11-16T18:00:11.074239Z"
    },
    "papermill": {
     "duration": 0.074429,
     "end_time": "2021-11-16T18:00:11.074772",
     "exception": false,
     "start_time": "2021-11-16T18:00:11.000343",
     "status": "completed"
    },
    "tags": []
   },
   "outputs": [],
   "source": [
    "df_pivot = df.pivot_table(index=\"PRODUCT\", columns = \"RECORD_TIME\", values = \"LISTING_COUNT\")"
   ]
  },
  {
   "cell_type": "code",
   "execution_count": 6,
   "id": "union-huntington",
   "metadata": {
    "execution": {
     "iopub.execute_input": "2021-11-16T18:00:11.138648Z",
     "iopub.status.busy": "2021-11-16T18:00:11.135753Z",
     "iopub.status.idle": "2021-11-16T18:00:11.142158Z",
     "shell.execute_reply": "2021-11-16T18:00:11.145035Z"
    },
    "papermill": {
     "duration": 0.048768,
     "end_time": "2021-11-16T18:00:11.145716",
     "exception": false,
     "start_time": "2021-11-16T18:00:11.096948",
     "status": "completed"
    },
    "tags": []
   },
   "outputs": [],
   "source": [
    "df_pivot.columns = [\"stamp_1\", \"stamp_2\"]\n",
    "df_pivot_diff = df_pivot.diff(axis=1)"
   ]
  },
  {
   "cell_type": "code",
   "execution_count": 7,
   "id": "fifth-motion",
   "metadata": {
    "execution": {
     "iopub.execute_input": "2021-11-16T18:00:11.208812Z",
     "iopub.status.busy": "2021-11-16T18:00:11.206158Z",
     "iopub.status.idle": "2021-11-16T18:00:13.171959Z",
     "shell.execute_reply": "2021-11-16T18:00:13.174931Z"
    },
    "papermill": {
     "duration": 2.00692,
     "end_time": "2021-11-16T18:00:13.175888",
     "exception": false,
     "start_time": "2021-11-16T18:00:11.168968",
     "status": "completed"
    },
    "tags": []
   },
   "outputs": [
    {
     "data": {
      "text/plain": [
       "<AxesSubplot:ylabel='PRODUCT'>"
      ]
     },
     "execution_count": 7,
     "metadata": {},
     "output_type": "execute_result"
    },
    {
     "data": {
      "image/png": "[encoded data removed]",
      "text/plain": [
       "<Figure size 432x288 with 1 Axes>"
      ]
     },
     "metadata": {
      "needs_background": "light"
     },
     "output_type": "display_data"
    }
   ],
   "source": [
    "df_pivot_diff.sort_values(\"stamp_2\", ascending = False)[\"stamp_2\"].head(10).plot.barh()"
   ]
  },
  {
   "cell_type": "code",
   "execution_count": null,
   "id": "extra-executive",
   "metadata": {
    "papermill": {
     "duration": 0.035501,
     "end_time": "2021-11-16T18:00:13.245046",
     "exception": false,
     "start_time": "2021-11-16T18:00:13.209545",
     "status": "completed"
    },
    "tags": []
   },
   "outputs": [],
   "source": []
  }
 ],
 "metadata": {
  "kernelspec": {
   "display_name": "Python 3",
   "language": "python",
   "name": "python3"
  },
  "language_info": {
   "codemirror_mode": {
    "name": "ipython",
    "version": 3
   },
   "file_extension": ".py",
   "mimetype": "text/x-python",
   "name": "python",
   "nbconvert_exporter": "python",
   "pygments_lexer": "ipython3",
   "version": "3.9.5"
  },
  "papermill": {
   "default_parameters": {},
   "duration": 9.930077,
   "end_time": "2021-11-16T18:00:14.891830",
   "environment_variables": {},
   "exception": null,
   "input_path": "eBay_Overview.ipynb",
   "output_path": "eBay_Overview.ipynb",
   "parameters": {},
   "start_time": "2021-11-16T18:00:04.961753",
   "version": "2.3.3"
  }
 },
 "nbformat": 4,
 "nbformat_minor": 5
}