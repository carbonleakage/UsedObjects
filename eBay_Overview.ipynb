{
 "cells": [
  {
   "cell_type": "code",
   "execution_count": 1,
   "id": "reverse-picking",
   "metadata": {
    "execution": {
     "iopub.execute_input": "2021-10-05T14:30:06.541010Z",
     "iopub.status.busy": "2021-10-05T14:30:06.539053Z",
     "iopub.status.idle": "2021-10-05T14:30:07.344886Z",
     "shell.execute_reply": "2021-10-05T14:30:07.346139Z"
    },
    "papermill": {
     "duration": 0.859484,
     "end_time": "2021-10-05T14:30:07.346762",
     "exception": false,
     "start_time": "2021-10-05T14:30:06.487278",
     "status": "completed"
    },
    "tags": []
   },
   "outputs": [],
   "source": [
    "import pandas as pd\n",
    "import sqlite3"
   ]
  },
  {
   "cell_type": "code",
   "execution_count": 2,
   "id": "innovative-syndrome",
   "metadata": {
    "execution": {
     "iopub.execute_input": "2021-10-05T14:30:07.398096Z",
     "iopub.status.busy": "2021-10-05T14:30:07.396220Z",
     "iopub.status.idle": "2021-10-05T14:30:07.849999Z",
     "shell.execute_reply": "2021-10-05T14:30:07.851255Z"
    },
    "papermill": {
     "duration": 0.483261,
     "end_time": "2021-10-05T14:30:07.851660",
     "exception": false,
     "start_time": "2021-10-05T14:30:07.368399",
     "status": "completed"
    },
    "tags": []
   },
   "outputs": [],
   "source": [
    "timestamps = pd.read_sql(\"select distinct record_time from EBAY_TOP_BERLIN order by record_time desc limit 2\", sqlite3.connect(\"UsedObjects.db\"))"
   ]
  },
  {
   "cell_type": "code",
   "execution_count": 3,
   "id": "periodic-identification",
   "metadata": {
    "execution": {
     "iopub.execute_input": "2021-10-05T14:30:07.919335Z",
     "iopub.status.busy": "2021-10-05T14:30:07.917233Z",
     "iopub.status.idle": "2021-10-05T14:30:07.937566Z",
     "shell.execute_reply": "2021-10-05T14:30:07.939115Z"
    },
    "papermill": {
     "duration": 0.066092,
     "end_time": "2021-10-05T14:30:07.939605",
     "exception": false,
     "start_time": "2021-10-05T14:30:07.873513",
     "status": "completed"
    },
    "tags": []
   },
   "outputs": [
    {
     "data": {
      "text/html": [
       "<div>\n",
       "<style scoped>\n",
       "    .dataframe tbody tr th:only-of-type {\n",
       "        vertical-align: middle;\n",
       "    }\n",
       "\n",
       "    .dataframe tbody tr th {\n",
       "        vertical-align: top;\n",
       "    }\n",
       "\n",
       "    .dataframe thead th {\n",
       "        text-align: right;\n",
       "    }\n",
       "</style>\n",
       "<table border=\"1\" class=\"dataframe\">\n",
       "  <thead>\n",
       "    <tr style=\"text-align: right;\">\n",
       "      <th></th>\n",
       "      <th>RECORD_TIME</th>\n",
       "    </tr>\n",
       "  </thead>\n",
       "  <tbody>\n",
       "    <tr>\n",
       "      <th>0</th>\n",
       "      <td>2021-10-05 16:30</td>\n",
       "    </tr>\n",
       "    <tr>\n",
       "      <th>1</th>\n",
       "      <td>2021-10-05 16:00</td>\n",
       "    </tr>\n",
       "  </tbody>\n",
       "</table>\n",
       "</div>"
      ],
      "text/plain": [
       "        RECORD_TIME\n",
       "0  2021-10-05 16:30\n",
       "1  2021-10-05 16:00"
      ]
     },
     "execution_count": 3,
     "metadata": {},
     "output_type": "execute_result"
    }
   ],
   "source": [
    "timestamps"
   ]
  },
  {
   "cell_type": "code",
   "execution_count": 4,
   "id": "alternate-victory",
   "metadata": {
    "execution": {
     "iopub.execute_input": "2021-10-05T14:30:07.999925Z",
     "iopub.status.busy": "2021-10-05T14:30:07.998003Z",
     "iopub.status.idle": "2021-10-05T14:30:08.681280Z",
     "shell.execute_reply": "2021-10-05T14:30:08.682497Z"
    },
    "papermill": {
     "duration": 0.717569,
     "end_time": "2021-10-05T14:30:08.683092",
     "exception": false,
     "start_time": "2021-10-05T14:30:07.965523",
     "status": "completed"
    },
    "tags": []
   },
   "outputs": [],
   "source": [
    "df = pd.read_sql(\"select * from EBAY_TOP_BERLIN where record_time in (select distinct record_time from EBAY_TOP_BERLIN order by record_time desc limit 2)\", sqlite3.connect(\"UsedObjects.db\"))"
   ]
  },
  {
   "cell_type": "code",
   "execution_count": 5,
   "id": "popular-active",
   "metadata": {
    "execution": {
     "iopub.execute_input": "2021-10-05T14:30:08.754939Z",
     "iopub.status.busy": "2021-10-05T14:30:08.742600Z",
     "iopub.status.idle": "2021-10-05T14:30:08.771145Z",
     "shell.execute_reply": "2021-10-05T14:30:08.772539Z"
    },
    "papermill": {
     "duration": 0.069278,
     "end_time": "2021-10-05T14:30:08.772975",
     "exception": false,
     "start_time": "2021-10-05T14:30:08.703697",
     "status": "completed"
    },
    "tags": []
   },
   "outputs": [],
   "source": [
    "df_pivot = df.pivot_table(index=\"PRODUCT\", columns = \"RECORD_TIME\", values = \"LISTING_COUNT\")"
   ]
  },
  {
   "cell_type": "code",
   "execution_count": 6,
   "id": "union-huntington",
   "metadata": {
    "execution": {
     "iopub.execute_input": "2021-10-05T14:30:08.832311Z",
     "iopub.status.busy": "2021-10-05T14:30:08.829857Z",
     "iopub.status.idle": "2021-10-05T14:30:08.835699Z",
     "shell.execute_reply": "2021-10-05T14:30:08.837019Z"
    },
    "papermill": {
     "duration": 0.042295,
     "end_time": "2021-10-05T14:30:08.837434",
     "exception": false,
     "start_time": "2021-10-05T14:30:08.795139",
     "status": "completed"
    },
    "tags": []
   },
   "outputs": [],
   "source": [
    "df_pivot.columns = [\"stamp_1\", \"stamp_2\"]\n",
    "df_pivot_diff = df_pivot.diff(axis=1)"
   ]
  },
  {
   "cell_type": "code",
   "execution_count": 7,
   "id": "fifth-motion",
   "metadata": {
    "execution": {
     "iopub.execute_input": "2021-10-05T14:30:08.891636Z",
     "iopub.status.busy": "2021-10-05T14:30:08.889278Z",
     "iopub.status.idle": "2021-10-05T14:30:10.392300Z",
     "shell.execute_reply": "2021-10-05T14:30:10.393587Z"
    },
    "papermill": {
     "duration": 1.535826,
     "end_time": "2021-10-05T14:30:10.394010",
     "exception": false,
     "start_time": "2021-10-05T14:30:08.858184",
     "status": "completed"
    },
    "tags": []
   },
   "outputs": [
    {
     "data": {
      "text/plain": [
       "<AxesSubplot:ylabel='PRODUCT'>"
      ]
     },
     "execution_count": 7,
     "metadata": {},
     "output_type": "execute_result"
    },
    {
     "data": {
      "image/png": "[encoded data removed]",
      "text/plain": [
       "<Figure size 432x288 with 1 Axes>"
      ]
     },
     "metadata": {
      "needs_background": "light"
     },
     "output_type": "display_data"
    }
   ],
   "source": [
    "df_pivot_diff.sort_values(\"stamp_2\", ascending = False)[\"stamp_2\"].head(10).plot.barh()"
   ]
  },
  {
   "cell_type": "code",
   "execution_count": null,
   "id": "extra-executive",
   "metadata": {
    "papermill": {
     "duration": 0.022494,
     "end_time": "2021-10-05T14:30:10.443045",
     "exception": false,
     "start_time": "2021-10-05T14:30:10.420551",
     "status": "completed"
    },
    "tags": []
   },
   "outputs": [],
   "source": []
  }
 ],
 "metadata": {
  "kernelspec": {
   "display_name": "Python 3",
   "language": "python",
   "name": "python3"
  },
  "language_info": {
   "codemirror_mode": {
    "name": "ipython",
    "version": 3
   },
   "file_extension": ".py",
   "mimetype": "text/x-python",
   "name": "python",
   "nbconvert_exporter": "python",
   "pygments_lexer": "ipython3",
   "version": "3.9.5"
  },
  "papermill": {
   "default_parameters": {},
   "duration": 7.827255,
   "end_time": "2021-10-05T14:30:11.898695",
   "environment_variables": {},
   "exception": null,
   "input_path": "eBay_Overview.ipynb",
   "output_path": "eBay_Overview.ipynb",
   "parameters": {},
   "start_time": "2021-10-05T14:30:04.071440",
   "version": "2.3.3"
  }
 },
 "nbformat": 4,
 "nbformat_minor": 5
}