{
 "cells": [
  {
   "cell_type": "code",
   "execution_count": 1,
   "id": "reverse-picking",
   "metadata": {
    "execution": {
     "iopub.execute_input": "2021-11-05T16:00:08.218133Z",
     "iopub.status.busy": "2021-11-05T16:00:08.207241Z",
     "iopub.status.idle": "2021-11-05T16:00:09.174620Z",
     "shell.execute_reply": "2021-11-05T16:00:09.177160Z"
    },
    "papermill": {
     "duration": 1.007387,
     "end_time": "2021-11-05T16:00:09.177881",
     "exception": false,
     "start_time": "2021-11-05T16:00:08.170494",
     "status": "completed"
    },
    "tags": []
   },
   "outputs": [],
   "source": [
    "import pandas as pd\n",
    "import sqlite3"
   ]
  },
  {
   "cell_type": "code",
   "execution_count": 2,
   "id": "innovative-syndrome",
   "metadata": {
    "execution": {
     "iopub.execute_input": "2021-11-05T16:00:09.242818Z",
     "iopub.status.busy": "2021-11-05T16:00:09.240457Z",
     "iopub.status.idle": "2021-11-05T16:00:09.962533Z",
     "shell.execute_reply": "2021-11-05T16:00:09.964048Z"
    },
    "papermill": {
     "duration": 0.759185,
     "end_time": "2021-11-05T16:00:09.964564",
     "exception": false,
     "start_time": "2021-11-05T16:00:09.205379",
     "status": "completed"
    },
    "tags": []
   },
   "outputs": [],
   "source": [
    "timestamps = pd.read_sql(\"select distinct record_time from EBAY_TOP_BERLIN order by record_time desc limit 2\", sqlite3.connect(\"UsedObjects.db\"))"
   ]
  },
  {
   "cell_type": "code",
   "execution_count": 3,
   "id": "periodic-identification",
   "metadata": {
    "execution": {
     "iopub.execute_input": "2021-11-05T16:00:10.052359Z",
     "iopub.status.busy": "2021-11-05T16:00:10.049942Z",
     "iopub.status.idle": "2021-11-05T16:00:10.073065Z",
     "shell.execute_reply": "2021-11-05T16:00:10.074618Z"
    },
    "papermill": {
     "duration": 0.08415,
     "end_time": "2021-11-05T16:00:10.075129",
     "exception": false,
     "start_time": "2021-11-05T16:00:09.990979",
     "status": "completed"
    },
    "tags": []
   },
   "outputs": [
    {
     "data": {
      "text/html": [
       "<div>\n",
       "<style scoped>\n",
       "    .dataframe tbody tr th:only-of-type {\n",
       "        vertical-align: middle;\n",
       "    }\n",
       "\n",
       "    .dataframe tbody tr th {\n",
       "        vertical-align: top;\n",
       "    }\n",
       "\n",
       "    .dataframe thead th {\n",
       "        text-align: right;\n",
       "    }\n",
       "</style>\n",
       "<table border=\"1\" class=\"dataframe\">\n",
       "  <thead>\n",
       "    <tr style=\"text-align: right;\">\n",
       "      <th></th>\n",
       "      <th>RECORD_TIME</th>\n",
       "    </tr>\n",
       "  </thead>\n",
       "  <tbody>\n",
       "    <tr>\n",
       "      <th>0</th>\n",
       "      <td>2021-11-05 17:00</td>\n",
       "    </tr>\n",
       "    <tr>\n",
       "      <th>1</th>\n",
       "      <td>2021-11-05 16:30</td>\n",
       "    </tr>\n",
       "  </tbody>\n",
       "</table>\n",
       "</div>"
      ],
      "text/plain": [
       "        RECORD_TIME\n",
       "0  2021-11-05 17:00\n",
       "1  2021-11-05 16:30"
      ]
     },
     "execution_count": 3,
     "metadata": {},
     "output_type": "execute_result"
    }
   ],
   "source": [
    "timestamps"
   ]
  },
  {
   "cell_type": "code",
   "execution_count": 4,
   "id": "alternate-victory",
   "metadata": {
    "execution": {
     "iopub.execute_input": "2021-11-05T16:00:10.131782Z",
     "iopub.status.busy": "2021-11-05T16:00:10.129564Z",
     "iopub.status.idle": "2021-11-05T16:00:11.210402Z",
     "shell.execute_reply": "2021-11-05T16:00:11.212809Z"
    },
    "papermill": {
     "duration": 1.11596,
     "end_time": "2021-11-05T16:00:11.213277",
     "exception": false,
     "start_time": "2021-11-05T16:00:10.097317",
     "status": "completed"
    },
    "tags": []
   },
   "outputs": [],
   "source": [
    "df = pd.read_sql(\"select * from EBAY_TOP_BERLIN where record_time in (select distinct record_time from EBAY_TOP_BERLIN order by record_time desc limit 2)\", sqlite3.connect(\"UsedObjects.db\"))"
   ]
  },
  {
   "cell_type": "code",
   "execution_count": 5,
   "id": "popular-active",
   "metadata": {
    "execution": {
     "iopub.execute_input": "2021-11-05T16:00:11.314956Z",
     "iopub.status.busy": "2021-11-05T16:00:11.307694Z",
     "iopub.status.idle": "2021-11-05T16:00:11.340898Z",
     "shell.execute_reply": "2021-11-05T16:00:11.342587Z"
    },
    "papermill": {
     "duration": 0.091026,
     "end_time": "2021-11-05T16:00:11.343190",
     "exception": false,
     "start_time": "2021-11-05T16:00:11.252164",
     "status": "completed"
    },
    "tags": []
   },
   "outputs": [],
   "source": [
    "df_pivot = df.pivot_table(index=\"PRODUCT\", columns = \"RECORD_TIME\", values = \"LISTING_COUNT\")"
   ]
  },
  {
   "cell_type": "code",
   "execution_count": 6,
   "id": "union-huntington",
   "metadata": {
    "execution": {
     "iopub.execute_input": "2021-11-05T16:00:11.406794Z",
     "iopub.status.busy": "2021-11-05T16:00:11.404249Z",
     "iopub.status.idle": "2021-11-05T16:00:11.410918Z",
     "shell.execute_reply": "2021-11-05T16:00:11.412516Z"
    },
    "papermill": {
     "duration": 0.046823,
     "end_time": "2021-11-05T16:00:11.413160",
     "exception": false,
     "start_time": "2021-11-05T16:00:11.366337",
     "status": "completed"
    },
    "tags": []
   },
   "outputs": [],
   "source": [
    "df_pivot.columns = [\"stamp_1\", \"stamp_2\"]\n",
    "df_pivot_diff = df_pivot.diff(axis=1)"
   ]
  },
  {
   "cell_type": "code",
   "execution_count": 7,
   "id": "fifth-motion",
   "metadata": {
    "execution": {
     "iopub.execute_input": "2021-11-05T16:00:11.474997Z",
     "iopub.status.busy": "2021-11-05T16:00:11.472362Z",
     "iopub.status.idle": "2021-11-05T16:00:13.267088Z",
     "shell.execute_reply": "2021-11-05T16:00:13.268463Z"
    },
    "papermill": {
     "duration": 1.834549,
     "end_time": "2021-11-05T16:00:13.269017",
     "exception": false,
     "start_time": "2021-11-05T16:00:11.434468",
     "status": "completed"
    },
    "tags": []
   },
   "outputs": [
    {
     "data": {
      "text/plain": [
       "<AxesSubplot:ylabel='PRODUCT'>"
      ]
     },
     "execution_count": 7,
     "metadata": {},
     "output_type": "execute_result"
    },
    {
     "data": {
      "image/png": "[encoded data removed]",
      "text/plain": [
       "<Figure size 432x288 with 1 Axes>"
      ]
     },
     "metadata": {
      "needs_background": "light"
     },
     "output_type": "display_data"
    }
   ],
   "source": [
    "df_pivot_diff.sort_values(\"stamp_2\", ascending = False)[\"stamp_2\"].head(10).plot.barh()"
   ]
  },
  {
   "cell_type": "code",
   "execution_count": null,
   "id": "extra-executive",
   "metadata": {
    "papermill": {
     "duration": 0.023747,
     "end_time": "2021-11-05T16:00:13.318096",
     "exception": false,
     "start_time": "2021-11-05T16:00:13.294349",
     "status": "completed"
    },
    "tags": []
   },
   "outputs": [],
   "source": []
  }
 ],
 "metadata": {
  "kernelspec": {
   "display_name": "Python 3",
   "language": "python",
   "name": "python3"
  },
  "language_info": {
   "codemirror_mode": {
    "name": "ipython",
    "version": 3
   },
   "file_extension": ".py",
   "mimetype": "text/x-python",
   "name": "python",
   "nbconvert_exporter": "python",
   "pygments_lexer": "ipython3",
   "version": "3.9.5"
  },
  "papermill": {
   "default_parameters": {},
   "duration": 8.884915,
   "end_time": "2021-11-05T16:00:14.178616",
   "environment_variables": {},
   "exception": null,
   "input_path": "eBay_Overview.ipynb",
   "output_path": "eBay_Overview.ipynb",
   "parameters": {},
   "start_time": "2021-11-05T16:00:05.293701",
   "version": "2.3.3"
  }
 },
 "nbformat": 4,
 "nbformat_minor": 5
}