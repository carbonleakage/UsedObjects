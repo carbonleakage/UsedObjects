{
 "cells": [
  {
   "cell_type": "code",
   "execution_count": 1,
   "id": "reverse-picking",
   "metadata": {
    "execution": {
     "iopub.execute_input": "2021-08-22T17:30:06.943177Z",
     "iopub.status.busy": "2021-08-22T17:30:06.941158Z",
     "iopub.status.idle": "2021-08-22T17:30:07.747808Z",
     "shell.execute_reply": "2021-08-22T17:30:07.749072Z"
    },
    "papermill": {
     "duration": 0.855586,
     "end_time": "2021-08-22T17:30:07.749683",
     "exception": false,
     "start_time": "2021-08-22T17:30:06.894097",
     "status": "completed"
    },
    "tags": []
   },
   "outputs": [],
   "source": [
    "import pandas as pd\n",
    "import sqlite3"
   ]
  },
  {
   "cell_type": "code",
   "execution_count": 2,
   "id": "innovative-syndrome",
   "metadata": {
    "execution": {
     "iopub.execute_input": "2021-08-22T17:30:07.803004Z",
     "iopub.status.busy": "2021-08-22T17:30:07.800605Z",
     "iopub.status.idle": "2021-08-22T17:30:07.908306Z",
     "shell.execute_reply": "2021-08-22T17:30:07.909592Z"
    },
    "papermill": {
     "duration": 0.137906,
     "end_time": "2021-08-22T17:30:07.910064",
     "exception": false,
     "start_time": "2021-08-22T17:30:07.772158",
     "status": "completed"
    },
    "tags": []
   },
   "outputs": [],
   "source": [
    "timestamps = pd.read_sql(\"select distinct record_time from EBAY_TOP_BERLIN order by record_time desc limit 2\", sqlite3.connect(\"UsedObjects.db\"))"
   ]
  },
  {
   "cell_type": "code",
   "execution_count": 3,
   "id": "periodic-identification",
   "metadata": {
    "execution": {
     "iopub.execute_input": "2021-08-22T17:30:07.978190Z",
     "iopub.status.busy": "2021-08-22T17:30:07.973028Z",
     "iopub.status.idle": "2021-08-22T17:30:07.994452Z",
     "shell.execute_reply": "2021-08-22T17:30:07.996012Z"
    },
    "papermill": {
     "duration": 0.066011,
     "end_time": "2021-08-22T17:30:07.996540",
     "exception": false,
     "start_time": "2021-08-22T17:30:07.930529",
     "status": "completed"
    },
    "tags": []
   },
   "outputs": [
    {
     "data": {
      "text/html": [
       "<div>\n",
       "<style scoped>\n",
       "    .dataframe tbody tr th:only-of-type {\n",
       "        vertical-align: middle;\n",
       "    }\n",
       "\n",
       "    .dataframe tbody tr th {\n",
       "        vertical-align: top;\n",
       "    }\n",
       "\n",
       "    .dataframe thead th {\n",
       "        text-align: right;\n",
       "    }\n",
       "</style>\n",
       "<table border=\"1\" class=\"dataframe\">\n",
       "  <thead>\n",
       "    <tr style=\"text-align: right;\">\n",
       "      <th></th>\n",
       "      <th>RECORD_TIME</th>\n",
       "    </tr>\n",
       "  </thead>\n",
       "  <tbody>\n",
       "    <tr>\n",
       "      <th>0</th>\n",
       "      <td>2021-08-22 19:30</td>\n",
       "    </tr>\n",
       "    <tr>\n",
       "      <th>1</th>\n",
       "      <td>2021-08-22 19:00</td>\n",
       "    </tr>\n",
       "  </tbody>\n",
       "</table>\n",
       "</div>"
      ],
      "text/plain": [
       "        RECORD_TIME\n",
       "0  2021-08-22 19:30\n",
       "1  2021-08-22 19:00"
      ]
     },
     "execution_count": 3,
     "metadata": {},
     "output_type": "execute_result"
    }
   ],
   "source": [
    "timestamps"
   ]
  },
  {
   "cell_type": "code",
   "execution_count": 4,
   "id": "alternate-victory",
   "metadata": {
    "execution": {
     "iopub.execute_input": "2021-08-22T17:30:08.049129Z",
     "iopub.status.busy": "2021-08-22T17:30:08.047210Z",
     "iopub.status.idle": "2021-08-22T17:30:08.205377Z",
     "shell.execute_reply": "2021-08-22T17:30:08.206688Z"
    },
    "papermill": {
     "duration": 0.188421,
     "end_time": "2021-08-22T17:30:08.207096",
     "exception": false,
     "start_time": "2021-08-22T17:30:08.018675",
     "status": "completed"
    },
    "tags": []
   },
   "outputs": [],
   "source": [
    "df = pd.read_sql(\"select * from EBAY_TOP_BERLIN where record_time in (select distinct record_time from EBAY_TOP_BERLIN order by record_time desc limit 2)\", sqlite3.connect(\"UsedObjects.db\"))"
   ]
  },
  {
   "cell_type": "code",
   "execution_count": 5,
   "id": "popular-active",
   "metadata": {
    "execution": {
     "iopub.execute_input": "2021-08-22T17:30:08.276032Z",
     "iopub.status.busy": "2021-08-22T17:30:08.264668Z",
     "iopub.status.idle": "2021-08-22T17:30:08.292226Z",
     "shell.execute_reply": "2021-08-22T17:30:08.293448Z"
    },
    "papermill": {
     "duration": 0.066269,
     "end_time": "2021-08-22T17:30:08.293843",
     "exception": false,
     "start_time": "2021-08-22T17:30:08.227574",
     "status": "completed"
    },
    "tags": []
   },
   "outputs": [],
   "source": [
    "df_pivot = df.pivot_table(index=\"PRODUCT\", columns = \"RECORD_TIME\", values = \"LISTING_COUNT\")"
   ]
  },
  {
   "cell_type": "code",
   "execution_count": 6,
   "id": "union-huntington",
   "metadata": {
    "execution": {
     "iopub.execute_input": "2021-08-22T17:30:08.352161Z",
     "iopub.status.busy": "2021-08-22T17:30:08.350109Z",
     "iopub.status.idle": "2021-08-22T17:30:08.355261Z",
     "shell.execute_reply": "2021-08-22T17:30:08.356460Z"
    },
    "papermill": {
     "duration": 0.040304,
     "end_time": "2021-08-22T17:30:08.356897",
     "exception": false,
     "start_time": "2021-08-22T17:30:08.316593",
     "status": "completed"
    },
    "tags": []
   },
   "outputs": [],
   "source": [
    "df_pivot.columns = [\"stamp_1\", \"stamp_2\"]\n",
    "df_pivot_diff = df_pivot.diff(axis=1)"
   ]
  },
  {
   "cell_type": "code",
   "execution_count": 7,
   "id": "fifth-motion",
   "metadata": {
    "execution": {
     "iopub.execute_input": "2021-08-22T17:30:08.418335Z",
     "iopub.status.busy": "2021-08-22T17:30:08.415772Z",
     "iopub.status.idle": "2021-08-22T17:30:09.889651Z",
     "shell.execute_reply": "2021-08-22T17:30:09.891102Z"
    },
    "papermill": {
     "duration": 1.50981,
     "end_time": "2021-08-22T17:30:09.891549",
     "exception": false,
     "start_time": "2021-08-22T17:30:08.381739",
     "status": "completed"
    },
    "tags": []
   },
   "outputs": [
    {
     "data": {
      "text/plain": [
       "<AxesSubplot:ylabel='PRODUCT'>"
      ]
     },
     "execution_count": 7,
     "metadata": {},
     "output_type": "execute_result"
    },
    {
     "data": {
      "image/png": "[encoded data removed]",
      "text/plain": [
       "<Figure size 432x288 with 1 Axes>"
      ]
     },
     "metadata": {
      "needs_background": "light"
     },
     "output_type": "display_data"
    }
   ],
   "source": [
    "df_pivot_diff.sort_values(\"stamp_2\", ascending = False)[\"stamp_2\"].head(10).plot.barh()"
   ]
  },
  {
   "cell_type": "code",
   "execution_count": null,
   "id": "extra-executive",
   "metadata": {
    "papermill": {
     "duration": 0.022175,
     "end_time": "2021-08-22T17:30:09.938468",
     "exception": false,
     "start_time": "2021-08-22T17:30:09.916293",
     "status": "completed"
    },
    "tags": []
   },
   "outputs": [],
   "source": []
  }
 ],
 "metadata": {
  "kernelspec": {
   "display_name": "Python 3",
   "language": "python",
   "name": "python3"
  },
  "language_info": {
   "codemirror_mode": {
    "name": "ipython",
    "version": 3
   },
   "file_extension": ".py",
   "mimetype": "text/x-python",
   "name": "python",
   "nbconvert_exporter": "python",
   "pygments_lexer": "ipython3",
   "version": "3.9.5"
  },
  "papermill": {
   "default_parameters": {},
   "duration": 6.832027,
   "end_time": "2021-08-22T17:30:11.314740",
   "environment_variables": {},
   "exception": null,
   "input_path": "eBay_Overview.ipynb",
   "output_path": "eBay_Overview.ipynb",
   "parameters": {},
   "start_time": "2021-08-22T17:30:04.482713",
   "version": "2.3.3"
  }
 },
 "nbformat": 4,
 "nbformat_minor": 5
}