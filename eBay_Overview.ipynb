{
 "cells": [
  {
   "cell_type": "code",
   "execution_count": 1,
   "id": "reverse-picking",
   "metadata": {
    "execution": {
     "iopub.execute_input": "2021-10-27T01:00:06.746848Z",
     "iopub.status.busy": "2021-10-27T01:00:06.744920Z",
     "iopub.status.idle": "2021-10-27T01:00:07.545150Z",
     "shell.execute_reply": "2021-10-27T01:00:07.546696Z"
    },
    "papermill": {
     "duration": 0.853242,
     "end_time": "2021-10-27T01:00:07.547375",
     "exception": false,
     "start_time": "2021-10-27T01:00:06.694133",
     "status": "completed"
    },
    "tags": []
   },
   "outputs": [],
   "source": [
    "import pandas as pd\n",
    "import sqlite3"
   ]
  },
  {
   "cell_type": "code",
   "execution_count": 2,
   "id": "innovative-syndrome",
   "metadata": {
    "execution": {
     "iopub.execute_input": "2021-10-27T01:00:07.599084Z",
     "iopub.status.busy": "2021-10-27T01:00:07.596674Z",
     "iopub.status.idle": "2021-10-27T01:00:08.248341Z",
     "shell.execute_reply": "2021-10-27T01:00:08.249642Z"
    },
    "papermill": {
     "duration": 0.681913,
     "end_time": "2021-10-27T01:00:08.250042",
     "exception": false,
     "start_time": "2021-10-27T01:00:07.568129",
     "status": "completed"
    },
    "tags": []
   },
   "outputs": [],
   "source": [
    "timestamps = pd.read_sql(\"select distinct record_time from EBAY_TOP_BERLIN order by record_time desc limit 2\", sqlite3.connect(\"UsedObjects.db\"))"
   ]
  },
  {
   "cell_type": "code",
   "execution_count": 3,
   "id": "periodic-identification",
   "metadata": {
    "execution": {
     "iopub.execute_input": "2021-10-27T01:00:08.329358Z",
     "iopub.status.busy": "2021-10-27T01:00:08.327238Z",
     "iopub.status.idle": "2021-10-27T01:00:08.347332Z",
     "shell.execute_reply": "2021-10-27T01:00:08.348792Z"
    },
    "papermill": {
     "duration": 0.070155,
     "end_time": "2021-10-27T01:00:08.349236",
     "exception": false,
     "start_time": "2021-10-27T01:00:08.279081",
     "status": "completed"
    },
    "tags": []
   },
   "outputs": [
    {
     "data": {
      "text/html": [
       "<div>\n",
       "<style scoped>\n",
       "    .dataframe tbody tr th:only-of-type {\n",
       "        vertical-align: middle;\n",
       "    }\n",
       "\n",
       "    .dataframe tbody tr th {\n",
       "        vertical-align: top;\n",
       "    }\n",
       "\n",
       "    .dataframe thead th {\n",
       "        text-align: right;\n",
       "    }\n",
       "</style>\n",
       "<table border=\"1\" class=\"dataframe\">\n",
       "  <thead>\n",
       "    <tr style=\"text-align: right;\">\n",
       "      <th></th>\n",
       "      <th>RECORD_TIME</th>\n",
       "    </tr>\n",
       "  </thead>\n",
       "  <tbody>\n",
       "    <tr>\n",
       "      <th>0</th>\n",
       "      <td>2021-10-27 03:00</td>\n",
       "    </tr>\n",
       "    <tr>\n",
       "      <th>1</th>\n",
       "      <td>2021-10-27 02:30</td>\n",
       "    </tr>\n",
       "  </tbody>\n",
       "</table>\n",
       "</div>"
      ],
      "text/plain": [
       "        RECORD_TIME\n",
       "0  2021-10-27 03:00\n",
       "1  2021-10-27 02:30"
      ]
     },
     "execution_count": 3,
     "metadata": {},
     "output_type": "execute_result"
    }
   ],
   "source": [
    "timestamps"
   ]
  },
  {
   "cell_type": "code",
   "execution_count": 4,
   "id": "alternate-victory",
   "metadata": {
    "execution": {
     "iopub.execute_input": "2021-10-27T01:00:08.401248Z",
     "iopub.status.busy": "2021-10-27T01:00:08.399306Z",
     "iopub.status.idle": "2021-10-27T01:00:09.347416Z",
     "shell.execute_reply": "2021-10-27T01:00:09.348636Z"
    },
    "papermill": {
     "duration": 0.978425,
     "end_time": "2021-10-27T01:00:09.349234",
     "exception": false,
     "start_time": "2021-10-27T01:00:08.370809",
     "status": "completed"
    },
    "tags": []
   },
   "outputs": [],
   "source": [
    "df = pd.read_sql(\"select * from EBAY_TOP_BERLIN where record_time in (select distinct record_time from EBAY_TOP_BERLIN order by record_time desc limit 2)\", sqlite3.connect(\"UsedObjects.db\"))"
   ]
  },
  {
   "cell_type": "code",
   "execution_count": 5,
   "id": "popular-active",
   "metadata": {
    "execution": {
     "iopub.execute_input": "2021-10-27T01:00:09.421024Z",
     "iopub.status.busy": "2021-10-27T01:00:09.410468Z",
     "iopub.status.idle": "2021-10-27T01:00:09.437505Z",
     "shell.execute_reply": "2021-10-27T01:00:09.438745Z"
    },
    "papermill": {
     "duration": 0.066761,
     "end_time": "2021-10-27T01:00:09.439137",
     "exception": false,
     "start_time": "2021-10-27T01:00:09.372376",
     "status": "completed"
    },
    "tags": []
   },
   "outputs": [],
   "source": [
    "df_pivot = df.pivot_table(index=\"PRODUCT\", columns = \"RECORD_TIME\", values = \"LISTING_COUNT\")"
   ]
  },
  {
   "cell_type": "code",
   "execution_count": 6,
   "id": "union-huntington",
   "metadata": {
    "execution": {
     "iopub.execute_input": "2021-10-27T01:00:09.498885Z",
     "iopub.status.busy": "2021-10-27T01:00:09.496350Z",
     "iopub.status.idle": "2021-10-27T01:00:09.502691Z",
     "shell.execute_reply": "2021-10-27T01:00:09.504062Z"
    },
    "papermill": {
     "duration": 0.042851,
     "end_time": "2021-10-27T01:00:09.504532",
     "exception": false,
     "start_time": "2021-10-27T01:00:09.461681",
     "status": "completed"
    },
    "tags": []
   },
   "outputs": [],
   "source": [
    "df_pivot.columns = [\"stamp_1\", \"stamp_2\"]\n",
    "df_pivot_diff = df_pivot.diff(axis=1)"
   ]
  },
  {
   "cell_type": "code",
   "execution_count": 7,
   "id": "fifth-motion",
   "metadata": {
    "execution": {
     "iopub.execute_input": "2021-10-27T01:00:09.559846Z",
     "iopub.status.busy": "2021-10-27T01:00:09.557450Z",
     "iopub.status.idle": "2021-10-27T01:00:11.071754Z",
     "shell.execute_reply": "2021-10-27T01:00:11.073256Z"
    },
    "papermill": {
     "duration": 1.547617,
     "end_time": "2021-10-27T01:00:11.073725",
     "exception": false,
     "start_time": "2021-10-27T01:00:09.526108",
     "status": "completed"
    },
    "tags": []
   },
   "outputs": [
    {
     "data": {
      "text/plain": [
       "<AxesSubplot:ylabel='PRODUCT'>"
      ]
     },
     "execution_count": 7,
     "metadata": {},
     "output_type": "execute_result"
    },
    {
     "data": {
      "image/png": "[encoded data removed]",
      "text/plain": [
       "<Figure size 432x288 with 1 Axes>"
      ]
     },
     "metadata": {
      "needs_background": "light"
     },
     "output_type": "display_data"
    }
   ],
   "source": [
    "df_pivot_diff.sort_values(\"stamp_2\", ascending = False)[\"stamp_2\"].head(10).plot.barh()"
   ]
  },
  {
   "cell_type": "code",
   "execution_count": null,
   "id": "extra-executive",
   "metadata": {
    "papermill": {
     "duration": 0.022814,
     "end_time": "2021-10-27T01:00:11.121489",
     "exception": false,
     "start_time": "2021-10-27T01:00:11.098675",
     "status": "completed"
    },
    "tags": []
   },
   "outputs": [],
   "source": []
  }
 ],
 "metadata": {
  "kernelspec": {
   "display_name": "Python 3",
   "language": "python",
   "name": "python3"
  },
  "language_info": {
   "codemirror_mode": {
    "name": "ipython",
    "version": 3
   },
   "file_extension": ".py",
   "mimetype": "text/x-python",
   "name": "python",
   "nbconvert_exporter": "python",
   "pygments_lexer": "ipython3",
   "version": "3.9.5"
  },
  "papermill": {
   "default_parameters": {},
   "duration": 7.468935,
   "end_time": "2021-10-27T01:00:11.765814",
   "environment_variables": {},
   "exception": null,
   "input_path": "eBay_Overview.ipynb",
   "output_path": "eBay_Overview.ipynb",
   "parameters": {},
   "start_time": "2021-10-27T01:00:04.296879",
   "version": "2.3.3"
  }
 },
 "nbformat": 4,
 "nbformat_minor": 5
}