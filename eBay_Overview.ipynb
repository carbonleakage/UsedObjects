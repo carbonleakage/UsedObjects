{
 "cells": [
  {
   "cell_type": "code",
   "execution_count": 1,
   "id": "reverse-picking",
   "metadata": {
    "execution": {
     "iopub.execute_input": "2021-09-11T15:00:06.681500Z",
     "iopub.status.busy": "2021-09-11T15:00:06.679541Z",
     "iopub.status.idle": "2021-09-11T15:00:07.493365Z",
     "shell.execute_reply": "2021-09-11T15:00:07.494628Z"
    },
    "papermill": {
     "duration": 0.868109,
     "end_time": "2021-09-11T15:00:07.495337",
     "exception": false,
     "start_time": "2021-09-11T15:00:06.627228",
     "status": "completed"
    },
    "tags": []
   },
   "outputs": [],
   "source": [
    "import pandas as pd\n",
    "import sqlite3"
   ]
  },
  {
   "cell_type": "code",
   "execution_count": 2,
   "id": "innovative-syndrome",
   "metadata": {
    "execution": {
     "iopub.execute_input": "2021-09-11T15:00:07.545419Z",
     "iopub.status.busy": "2021-09-11T15:00:07.543554Z",
     "iopub.status.idle": "2021-09-11T15:00:07.808207Z",
     "shell.execute_reply": "2021-09-11T15:00:07.809448Z"
    },
    "papermill": {
     "duration": 0.294264,
     "end_time": "2021-09-11T15:00:07.809847",
     "exception": false,
     "start_time": "2021-09-11T15:00:07.515583",
     "status": "completed"
    },
    "tags": []
   },
   "outputs": [],
   "source": [
    "timestamps = pd.read_sql(\"select distinct record_time from EBAY_TOP_BERLIN order by record_time desc limit 2\", sqlite3.connect(\"UsedObjects.db\"))"
   ]
  },
  {
   "cell_type": "code",
   "execution_count": 3,
   "id": "periodic-identification",
   "metadata": {
    "execution": {
     "iopub.execute_input": "2021-09-11T15:00:07.874534Z",
     "iopub.status.busy": "2021-09-11T15:00:07.872508Z",
     "iopub.status.idle": "2021-09-11T15:00:07.893022Z",
     "shell.execute_reply": "2021-09-11T15:00:07.894223Z"
    },
    "papermill": {
     "duration": 0.065366,
     "end_time": "2021-09-11T15:00:07.894618",
     "exception": false,
     "start_time": "2021-09-11T15:00:07.829252",
     "status": "completed"
    },
    "tags": []
   },
   "outputs": [
    {
     "data": {
      "text/html": [
       "<div>\n",
       "<style scoped>\n",
       "    .dataframe tbody tr th:only-of-type {\n",
       "        vertical-align: middle;\n",
       "    }\n",
       "\n",
       "    .dataframe tbody tr th {\n",
       "        vertical-align: top;\n",
       "    }\n",
       "\n",
       "    .dataframe thead th {\n",
       "        text-align: right;\n",
       "    }\n",
       "</style>\n",
       "<table border=\"1\" class=\"dataframe\">\n",
       "  <thead>\n",
       "    <tr style=\"text-align: right;\">\n",
       "      <th></th>\n",
       "      <th>RECORD_TIME</th>\n",
       "    </tr>\n",
       "  </thead>\n",
       "  <tbody>\n",
       "    <tr>\n",
       "      <th>0</th>\n",
       "      <td>2021-09-11 17:00</td>\n",
       "    </tr>\n",
       "    <tr>\n",
       "      <th>1</th>\n",
       "      <td>2021-09-11 16:30</td>\n",
       "    </tr>\n",
       "  </tbody>\n",
       "</table>\n",
       "</div>"
      ],
      "text/plain": [
       "        RECORD_TIME\n",
       "0  2021-09-11 17:00\n",
       "1  2021-09-11 16:30"
      ]
     },
     "execution_count": 3,
     "metadata": {},
     "output_type": "execute_result"
    }
   ],
   "source": [
    "timestamps"
   ]
  },
  {
   "cell_type": "code",
   "execution_count": 4,
   "id": "alternate-victory",
   "metadata": {
    "execution": {
     "iopub.execute_input": "2021-09-11T15:00:07.947514Z",
     "iopub.status.busy": "2021-09-11T15:00:07.945176Z",
     "iopub.status.idle": "2021-09-11T15:00:08.333848Z",
     "shell.execute_reply": "2021-09-11T15:00:08.335165Z"
    },
    "papermill": {
     "duration": 0.419197,
     "end_time": "2021-09-11T15:00:08.335632",
     "exception": false,
     "start_time": "2021-09-11T15:00:07.916435",
     "status": "completed"
    },
    "tags": []
   },
   "outputs": [],
   "source": [
    "df = pd.read_sql(\"select * from EBAY_TOP_BERLIN where record_time in (select distinct record_time from EBAY_TOP_BERLIN order by record_time desc limit 2)\", sqlite3.connect(\"UsedObjects.db\"))"
   ]
  },
  {
   "cell_type": "code",
   "execution_count": 5,
   "id": "popular-active",
   "metadata": {
    "execution": {
     "iopub.execute_input": "2021-09-11T15:00:08.404685Z",
     "iopub.status.busy": "2021-09-11T15:00:08.402516Z",
     "iopub.status.idle": "2021-09-11T15:00:08.432360Z",
     "shell.execute_reply": "2021-09-11T15:00:08.433660Z"
    },
    "papermill": {
     "duration": 0.072682,
     "end_time": "2021-09-11T15:00:08.434076",
     "exception": false,
     "start_time": "2021-09-11T15:00:08.361394",
     "status": "completed"
    },
    "tags": []
   },
   "outputs": [],
   "source": [
    "df_pivot = df.pivot_table(index=\"PRODUCT\", columns = \"RECORD_TIME\", values = \"LISTING_COUNT\")"
   ]
  },
  {
   "cell_type": "code",
   "execution_count": 6,
   "id": "union-huntington",
   "metadata": {
    "execution": {
     "iopub.execute_input": "2021-09-11T15:00:08.491045Z",
     "iopub.status.busy": "2021-09-11T15:00:08.488683Z",
     "iopub.status.idle": "2021-09-11T15:00:08.494494Z",
     "shell.execute_reply": "2021-09-11T15:00:08.495939Z"
    },
    "papermill": {
     "duration": 0.042305,
     "end_time": "2021-09-11T15:00:08.496382",
     "exception": false,
     "start_time": "2021-09-11T15:00:08.454077",
     "status": "completed"
    },
    "tags": []
   },
   "outputs": [],
   "source": [
    "df_pivot.columns = [\"stamp_1\", \"stamp_2\"]\n",
    "df_pivot_diff = df_pivot.diff(axis=1)"
   ]
  },
  {
   "cell_type": "code",
   "execution_count": 7,
   "id": "fifth-motion",
   "metadata": {
    "execution": {
     "iopub.execute_input": "2021-09-11T15:00:08.550721Z",
     "iopub.status.busy": "2021-09-11T15:00:08.548433Z",
     "iopub.status.idle": "2021-09-11T15:00:10.052567Z",
     "shell.execute_reply": "2021-09-11T15:00:10.053847Z"
    },
    "papermill": {
     "duration": 1.53667,
     "end_time": "2021-09-11T15:00:10.054268",
     "exception": false,
     "start_time": "2021-09-11T15:00:08.517598",
     "status": "completed"
    },
    "tags": []
   },
   "outputs": [
    {
     "data": {
      "text/plain": [
       "<AxesSubplot:ylabel='PRODUCT'>"
      ]
     },
     "execution_count": 7,
     "metadata": {},
     "output_type": "execute_result"
    },
    {
     "data": {
      "image/png": "[encoded data removed]",
      "text/plain": [
       "<Figure size 432x288 with 1 Axes>"
      ]
     },
     "metadata": {
      "needs_background": "light"
     },
     "output_type": "display_data"
    }
   ],
   "source": [
    "df_pivot_diff.sort_values(\"stamp_2\", ascending = False)[\"stamp_2\"].head(10).plot.barh()"
   ]
  },
  {
   "cell_type": "code",
   "execution_count": null,
   "id": "extra-executive",
   "metadata": {
    "papermill": {
     "duration": 0.021982,
     "end_time": "2021-09-11T15:00:10.102351",
     "exception": false,
     "start_time": "2021-09-11T15:00:10.080369",
     "status": "completed"
    },
    "tags": []
   },
   "outputs": [],
   "source": []
  }
 ],
 "metadata": {
  "kernelspec": {
   "display_name": "Python 3",
   "language": "python",
   "name": "python3"
  },
  "language_info": {
   "codemirror_mode": {
    "name": "ipython",
    "version": 3
   },
   "file_extension": ".py",
   "mimetype": "text/x-python",
   "name": "python",
   "nbconvert_exporter": "python",
   "pygments_lexer": "ipython3",
   "version": "3.9.5"
  },
  "papermill": {
   "default_parameters": {},
   "duration": 6.537783,
   "end_time": "2021-09-11T15:00:10.741568",
   "environment_variables": {},
   "exception": null,
   "input_path": "eBay_Overview.ipynb",
   "output_path": "eBay_Overview.ipynb",
   "parameters": {},
   "start_time": "2021-09-11T15:00:04.203785",
   "version": "2.3.3"
  }
 },
 "nbformat": 4,
 "nbformat_minor": 5
}