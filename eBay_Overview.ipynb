{
 "cells": [
  {
   "cell_type": "code",
   "execution_count": 1,
   "id": "reverse-picking",
   "metadata": {
    "execution": {
     "iopub.execute_input": "2021-08-18T00:00:06.667517Z",
     "iopub.status.busy": "2021-08-18T00:00:06.665540Z",
     "iopub.status.idle": "2021-08-18T00:00:07.470617Z",
     "shell.execute_reply": "2021-08-18T00:00:07.471861Z"
    },
    "papermill": {
     "duration": 0.856599,
     "end_time": "2021-08-18T00:00:07.472489",
     "exception": false,
     "start_time": "2021-08-18T00:00:06.615890",
     "status": "completed"
    },
    "tags": []
   },
   "outputs": [],
   "source": [
    "import pandas as pd\n",
    "import sqlite3"
   ]
  },
  {
   "cell_type": "code",
   "execution_count": 2,
   "id": "innovative-syndrome",
   "metadata": {
    "execution": {
     "iopub.execute_input": "2021-08-18T00:00:07.523068Z",
     "iopub.status.busy": "2021-08-18T00:00:07.521138Z",
     "iopub.status.idle": "2021-08-18T00:00:07.592023Z",
     "shell.execute_reply": "2021-08-18T00:00:07.593208Z"
    },
    "papermill": {
     "duration": 0.100481,
     "end_time": "2021-08-18T00:00:07.593602",
     "exception": false,
     "start_time": "2021-08-18T00:00:07.493121",
     "status": "completed"
    },
    "tags": []
   },
   "outputs": [],
   "source": [
    "timestamps = pd.read_sql(\"select distinct record_time from EBAY_TOP_BERLIN order by record_time desc limit 2\", sqlite3.connect(\"UsedObjects.db\"))"
   ]
  },
  {
   "cell_type": "code",
   "execution_count": 3,
   "id": "periodic-identification",
   "metadata": {
    "execution": {
     "iopub.execute_input": "2021-08-18T00:00:07.661914Z",
     "iopub.status.busy": "2021-08-18T00:00:07.656583Z",
     "iopub.status.idle": "2021-08-18T00:00:07.676743Z",
     "shell.execute_reply": "2021-08-18T00:00:07.677912Z"
    },
    "papermill": {
     "duration": 0.065219,
     "end_time": "2021-08-18T00:00:07.678407",
     "exception": false,
     "start_time": "2021-08-18T00:00:07.613188",
     "status": "completed"
    },
    "tags": []
   },
   "outputs": [
    {
     "data": {
      "text/html": [
       "<div>\n",
       "<style scoped>\n",
       "    .dataframe tbody tr th:only-of-type {\n",
       "        vertical-align: middle;\n",
       "    }\n",
       "\n",
       "    .dataframe tbody tr th {\n",
       "        vertical-align: top;\n",
       "    }\n",
       "\n",
       "    .dataframe thead th {\n",
       "        text-align: right;\n",
       "    }\n",
       "</style>\n",
       "<table border=\"1\" class=\"dataframe\">\n",
       "  <thead>\n",
       "    <tr style=\"text-align: right;\">\n",
       "      <th></th>\n",
       "      <th>RECORD_TIME</th>\n",
       "    </tr>\n",
       "  </thead>\n",
       "  <tbody>\n",
       "    <tr>\n",
       "      <th>0</th>\n",
       "      <td>2021-08-18 02:00</td>\n",
       "    </tr>\n",
       "    <tr>\n",
       "      <th>1</th>\n",
       "      <td>2021-08-18 01:30</td>\n",
       "    </tr>\n",
       "  </tbody>\n",
       "</table>\n",
       "</div>"
      ],
      "text/plain": [
       "        RECORD_TIME\n",
       "0  2021-08-18 02:00\n",
       "1  2021-08-18 01:30"
      ]
     },
     "execution_count": 3,
     "metadata": {},
     "output_type": "execute_result"
    }
   ],
   "source": [
    "timestamps"
   ]
  },
  {
   "cell_type": "code",
   "execution_count": 4,
   "id": "alternate-victory",
   "metadata": {
    "execution": {
     "iopub.execute_input": "2021-08-18T00:00:07.729753Z",
     "iopub.status.busy": "2021-08-18T00:00:07.727867Z",
     "iopub.status.idle": "2021-08-18T00:00:07.831592Z",
     "shell.execute_reply": "2021-08-18T00:00:07.832854Z"
    },
    "papermill": {
     "duration": 0.134266,
     "end_time": "2021-08-18T00:00:07.833264",
     "exception": false,
     "start_time": "2021-08-18T00:00:07.698998",
     "status": "completed"
    },
    "tags": []
   },
   "outputs": [],
   "source": [
    "df = pd.read_sql(\"select * from EBAY_TOP_BERLIN where record_time in (select distinct record_time from EBAY_TOP_BERLIN order by record_time desc limit 2)\", sqlite3.connect(\"UsedObjects.db\"))"
   ]
  },
  {
   "cell_type": "code",
   "execution_count": 5,
   "id": "popular-active",
   "metadata": {
    "execution": {
     "iopub.execute_input": "2021-08-18T00:00:07.901970Z",
     "iopub.status.busy": "2021-08-18T00:00:07.891290Z",
     "iopub.status.idle": "2021-08-18T00:00:07.918404Z",
     "shell.execute_reply": "2021-08-18T00:00:07.919613Z"
    },
    "papermill": {
     "duration": 0.066491,
     "end_time": "2021-08-18T00:00:07.920006",
     "exception": false,
     "start_time": "2021-08-18T00:00:07.853515",
     "status": "completed"
    },
    "tags": []
   },
   "outputs": [],
   "source": [
    "df_pivot = df.pivot_table(index=\"PRODUCT\", columns = \"RECORD_TIME\", values = \"LISTING_COUNT\")"
   ]
  },
  {
   "cell_type": "code",
   "execution_count": 6,
   "id": "union-huntington",
   "metadata": {
    "execution": {
     "iopub.execute_input": "2021-08-18T00:00:07.978134Z",
     "iopub.status.busy": "2021-08-18T00:00:07.975864Z",
     "iopub.status.idle": "2021-08-18T00:00:07.981581Z",
     "shell.execute_reply": "2021-08-18T00:00:07.982916Z"
    },
    "papermill": {
     "duration": 0.041782,
     "end_time": "2021-08-18T00:00:07.983329",
     "exception": false,
     "start_time": "2021-08-18T00:00:07.941547",
     "status": "completed"
    },
    "tags": []
   },
   "outputs": [],
   "source": [
    "df_pivot.columns = [\"stamp_1\", \"stamp_2\"]\n",
    "df_pivot_diff = df_pivot.diff(axis=1)"
   ]
  },
  {
   "cell_type": "code",
   "execution_count": 7,
   "id": "fifth-motion",
   "metadata": {
    "execution": {
     "iopub.execute_input": "2021-08-18T00:00:08.037212Z",
     "iopub.status.busy": "2021-08-18T00:00:08.034990Z",
     "iopub.status.idle": "2021-08-18T00:00:09.506604Z",
     "shell.execute_reply": "2021-08-18T00:00:09.507870Z"
    },
    "papermill": {
     "duration": 1.504982,
     "end_time": "2021-08-18T00:00:09.508280",
     "exception": false,
     "start_time": "2021-08-18T00:00:08.003298",
     "status": "completed"
    },
    "tags": []
   },
   "outputs": [
    {
     "data": {
      "text/plain": [
       "<AxesSubplot:ylabel='PRODUCT'>"
      ]
     },
     "execution_count": 7,
     "metadata": {},
     "output_type": "execute_result"
    },
    {
     "data": {
      "image/png": "[encoded data removed]",
      "text/plain": [
       "<Figure size 432x288 with 1 Axes>"
      ]
     },
     "metadata": {
      "needs_background": "light"
     },
     "output_type": "display_data"
    }
   ],
   "source": [
    "df_pivot_diff.sort_values(\"stamp_2\", ascending = False)[\"stamp_2\"].head(10).plot.barh()"
   ]
  },
  {
   "cell_type": "code",
   "execution_count": null,
   "id": "extra-executive",
   "metadata": {
    "papermill": {
     "duration": 0.022427,
     "end_time": "2021-08-18T00:00:09.555474",
     "exception": false,
     "start_time": "2021-08-18T00:00:09.533047",
     "status": "completed"
    },
    "tags": []
   },
   "outputs": [],
   "source": []
  }
 ],
 "metadata": {
  "kernelspec": {
   "display_name": "Python 3",
   "language": "python",
   "name": "python3"
  },
  "language_info": {
   "codemirror_mode": {
    "name": "ipython",
    "version": 3
   },
   "file_extension": ".py",
   "mimetype": "text/x-python",
   "name": "python",
   "nbconvert_exporter": "python",
   "pygments_lexer": "ipython3",
   "version": "3.9.5"
  },
  "papermill": {
   "default_parameters": {},
   "duration": 6.825765,
   "end_time": "2021-08-18T00:00:11.031591",
   "environment_variables": {},
   "exception": null,
   "input_path": "eBay_Overview.ipynb",
   "output_path": "eBay_Overview.ipynb",
   "parameters": {},
   "start_time": "2021-08-18T00:00:04.205826",
   "version": "2.3.3"
  }
 },
 "nbformat": 4,
 "nbformat_minor": 5
}