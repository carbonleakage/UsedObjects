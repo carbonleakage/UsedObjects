{
 "cells": [
  {
   "cell_type": "code",
   "execution_count": 1,
   "id": "reverse-picking",
   "metadata": {
    "execution": {
     "iopub.execute_input": "2021-09-26T05:30:07.008710Z",
     "iopub.status.busy": "2021-09-26T05:30:07.006600Z",
     "iopub.status.idle": "2021-09-26T05:30:07.812206Z",
     "shell.execute_reply": "2021-09-26T05:30:07.813465Z"
    },
    "papermill": {
     "duration": 0.856329,
     "end_time": "2021-09-26T05:30:07.814083",
     "exception": false,
     "start_time": "2021-09-26T05:30:06.957754",
     "status": "completed"
    },
    "tags": []
   },
   "outputs": [],
   "source": [
    "import pandas as pd\n",
    "import sqlite3"
   ]
  },
  {
   "cell_type": "code",
   "execution_count": 2,
   "id": "innovative-syndrome",
   "metadata": {
    "execution": {
     "iopub.execute_input": "2021-09-26T05:30:07.866456Z",
     "iopub.status.busy": "2021-09-26T05:30:07.864133Z",
     "iopub.status.idle": "2021-09-26T05:30:08.249175Z",
     "shell.execute_reply": "2021-09-26T05:30:08.250457Z"
    },
    "papermill": {
     "duration": 0.414787,
     "end_time": "2021-09-26T05:30:08.250932",
     "exception": false,
     "start_time": "2021-09-26T05:30:07.836145",
     "status": "completed"
    },
    "tags": []
   },
   "outputs": [],
   "source": [
    "timestamps = pd.read_sql(\"select distinct record_time from EBAY_TOP_BERLIN order by record_time desc limit 2\", sqlite3.connect(\"UsedObjects.db\"))"
   ]
  },
  {
   "cell_type": "code",
   "execution_count": 3,
   "id": "periodic-identification",
   "metadata": {
    "execution": {
     "iopub.execute_input": "2021-09-26T05:30:08.317507Z",
     "iopub.status.busy": "2021-09-26T05:30:08.315484Z",
     "iopub.status.idle": "2021-09-26T05:30:08.335349Z",
     "shell.execute_reply": "2021-09-26T05:30:08.336581Z"
    },
    "papermill": {
     "duration": 0.066622,
     "end_time": "2021-09-26T05:30:08.337008",
     "exception": false,
     "start_time": "2021-09-26T05:30:08.270386",
     "status": "completed"
    },
    "tags": []
   },
   "outputs": [
    {
     "data": {
      "text/html": [
       "<div>\n",
       "<style scoped>\n",
       "    .dataframe tbody tr th:only-of-type {\n",
       "        vertical-align: middle;\n",
       "    }\n",
       "\n",
       "    .dataframe tbody tr th {\n",
       "        vertical-align: top;\n",
       "    }\n",
       "\n",
       "    .dataframe thead th {\n",
       "        text-align: right;\n",
       "    }\n",
       "</style>\n",
       "<table border=\"1\" class=\"dataframe\">\n",
       "  <thead>\n",
       "    <tr style=\"text-align: right;\">\n",
       "      <th></th>\n",
       "      <th>RECORD_TIME</th>\n",
       "    </tr>\n",
       "  </thead>\n",
       "  <tbody>\n",
       "    <tr>\n",
       "      <th>0</th>\n",
       "      <td>2021-09-26 07:30</td>\n",
       "    </tr>\n",
       "    <tr>\n",
       "      <th>1</th>\n",
       "      <td>2021-09-26 07:00</td>\n",
       "    </tr>\n",
       "  </tbody>\n",
       "</table>\n",
       "</div>"
      ],
      "text/plain": [
       "        RECORD_TIME\n",
       "0  2021-09-26 07:30\n",
       "1  2021-09-26 07:00"
      ]
     },
     "execution_count": 3,
     "metadata": {},
     "output_type": "execute_result"
    }
   ],
   "source": [
    "timestamps"
   ]
  },
  {
   "cell_type": "code",
   "execution_count": 4,
   "id": "alternate-victory",
   "metadata": {
    "execution": {
     "iopub.execute_input": "2021-09-26T05:30:08.388961Z",
     "iopub.status.busy": "2021-09-26T05:30:08.386726Z",
     "iopub.status.idle": "2021-09-26T05:30:08.951757Z",
     "shell.execute_reply": "2021-09-26T05:30:08.953052Z"
    },
    "papermill": {
     "duration": 0.59533,
     "end_time": "2021-09-26T05:30:08.953443",
     "exception": false,
     "start_time": "2021-09-26T05:30:08.358113",
     "status": "completed"
    },
    "tags": []
   },
   "outputs": [],
   "source": [
    "df = pd.read_sql(\"select * from EBAY_TOP_BERLIN where record_time in (select distinct record_time from EBAY_TOP_BERLIN order by record_time desc limit 2)\", sqlite3.connect(\"UsedObjects.db\"))"
   ]
  },
  {
   "cell_type": "code",
   "execution_count": 5,
   "id": "popular-active",
   "metadata": {
    "execution": {
     "iopub.execute_input": "2021-09-26T05:30:09.023178Z",
     "iopub.status.busy": "2021-09-26T05:30:09.011340Z",
     "iopub.status.idle": "2021-09-26T05:30:09.040724Z",
     "shell.execute_reply": "2021-09-26T05:30:09.042024Z"
    },
    "papermill": {
     "duration": 0.068781,
     "end_time": "2021-09-26T05:30:09.042431",
     "exception": false,
     "start_time": "2021-09-26T05:30:08.973650",
     "status": "completed"
    },
    "tags": []
   },
   "outputs": [],
   "source": [
    "df_pivot = df.pivot_table(index=\"PRODUCT\", columns = \"RECORD_TIME\", values = \"LISTING_COUNT\")"
   ]
  },
  {
   "cell_type": "code",
   "execution_count": 6,
   "id": "union-huntington",
   "metadata": {
    "execution": {
     "iopub.execute_input": "2021-09-26T05:30:09.098500Z",
     "iopub.status.busy": "2021-09-26T05:30:09.096397Z",
     "iopub.status.idle": "2021-09-26T05:30:09.101715Z",
     "shell.execute_reply": "2021-09-26T05:30:09.103093Z"
    },
    "papermill": {
     "duration": 0.041131,
     "end_time": "2021-09-26T05:30:09.103522",
     "exception": false,
     "start_time": "2021-09-26T05:30:09.062391",
     "status": "completed"
    },
    "tags": []
   },
   "outputs": [],
   "source": [
    "df_pivot.columns = [\"stamp_1\", \"stamp_2\"]\n",
    "df_pivot_diff = df_pivot.diff(axis=1)"
   ]
  },
  {
   "cell_type": "code",
   "execution_count": 7,
   "id": "fifth-motion",
   "metadata": {
    "execution": {
     "iopub.execute_input": "2021-09-26T05:30:09.157212Z",
     "iopub.status.busy": "2021-09-26T05:30:09.154831Z",
     "iopub.status.idle": "2021-09-26T05:30:10.663037Z",
     "shell.execute_reply": "2021-09-26T05:30:10.664284Z"
    },
    "papermill": {
     "duration": 1.54082,
     "end_time": "2021-09-26T05:30:10.664712",
     "exception": false,
     "start_time": "2021-09-26T05:30:09.123892",
     "status": "completed"
    },
    "tags": []
   },
   "outputs": [
    {
     "data": {
      "text/plain": [
       "<AxesSubplot:ylabel='PRODUCT'>"
      ]
     },
     "execution_count": 7,
     "metadata": {},
     "output_type": "execute_result"
    },
    {
     "data": {
      "image/png": "[encoded data removed]",
      "text/plain": [
       "<Figure size 432x288 with 1 Axes>"
      ]
     },
     "metadata": {
      "needs_background": "light"
     },
     "output_type": "display_data"
    }
   ],
   "source": [
    "df_pivot_diff.sort_values(\"stamp_2\", ascending = False)[\"stamp_2\"].head(10).plot.barh()"
   ]
  },
  {
   "cell_type": "code",
   "execution_count": null,
   "id": "extra-executive",
   "metadata": {
    "papermill": {
     "duration": 0.0219,
     "end_time": "2021-09-26T05:30:10.710315",
     "exception": false,
     "start_time": "2021-09-26T05:30:10.688415",
     "status": "completed"
    },
    "tags": []
   },
   "outputs": [],
   "source": []
  }
 ],
 "metadata": {
  "kernelspec": {
   "display_name": "Python 3",
   "language": "python",
   "name": "python3"
  },
  "language_info": {
   "codemirror_mode": {
    "name": "ipython",
    "version": 3
   },
   "file_extension": ".py",
   "mimetype": "text/x-python",
   "name": "python",
   "nbconvert_exporter": "python",
   "pygments_lexer": "ipython3",
   "version": "3.9.5"
  },
  "papermill": {
   "default_parameters": {},
   "duration": 6.801031,
   "end_time": "2021-09-26T05:30:11.353333",
   "environment_variables": {},
   "exception": null,
   "input_path": "eBay_Overview.ipynb",
   "output_path": "eBay_Overview.ipynb",
   "parameters": {},
   "start_time": "2021-09-26T05:30:04.552302",
   "version": "2.3.3"
  }
 },
 "nbformat": 4,
 "nbformat_minor": 5
}