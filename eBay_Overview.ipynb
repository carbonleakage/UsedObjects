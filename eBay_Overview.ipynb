{
 "cells": [
  {
   "cell_type": "code",
   "execution_count": 1,
   "id": "reverse-picking",
   "metadata": {
    "execution": {
     "iopub.execute_input": "2021-12-04T06:00:07.909987Z",
     "iopub.status.busy": "2021-12-04T06:00:07.907656Z",
     "iopub.status.idle": "2021-12-04T06:00:08.862219Z",
     "shell.execute_reply": "2021-12-04T06:00:08.863737Z"
    },
    "papermill": {
     "duration": 1.004536,
     "end_time": "2021-12-04T06:00:08.864483",
     "exception": false,
     "start_time": "2021-12-04T06:00:07.859947",
     "status": "completed"
    },
    "tags": []
   },
   "outputs": [],
   "source": [
    "import pandas as pd\n",
    "import sqlite3"
   ]
  },
  {
   "cell_type": "code",
   "execution_count": 2,
   "id": "innovative-syndrome",
   "metadata": {
    "execution": {
     "iopub.execute_input": "2021-12-04T06:00:08.980481Z",
     "iopub.status.busy": "2021-12-04T06:00:08.978401Z",
     "iopub.status.idle": "2021-12-04T06:00:10.046359Z",
     "shell.execute_reply": "2021-12-04T06:00:10.048423Z"
    },
    "papermill": {
     "duration": 1.103418,
     "end_time": "2021-12-04T06:00:10.048950",
     "exception": false,
     "start_time": "2021-12-04T06:00:08.945532",
     "status": "completed"
    },
    "tags": []
   },
   "outputs": [],
   "source": [
    "timestamps = pd.read_sql(\"select distinct record_time from EBAY_TOP_BERLIN order by record_time desc limit 2\", sqlite3.connect(\"UsedObjects.db\"))"
   ]
  },
  {
   "cell_type": "code",
   "execution_count": 3,
   "id": "periodic-identification",
   "metadata": {
    "execution": {
     "iopub.execute_input": "2021-12-04T06:00:10.119949Z",
     "iopub.status.busy": "2021-12-04T06:00:10.117659Z",
     "iopub.status.idle": "2021-12-04T06:00:10.140025Z",
     "shell.execute_reply": "2021-12-04T06:00:10.141688Z"
    },
    "papermill": {
     "duration": 0.072994,
     "end_time": "2021-12-04T06:00:10.142104",
     "exception": false,
     "start_time": "2021-12-04T06:00:10.069110",
     "status": "completed"
    },
    "tags": []
   },
   "outputs": [
    {
     "data": {
      "text/html": [
       "<div>\n",
       "<style scoped>\n",
       "    .dataframe tbody tr th:only-of-type {\n",
       "        vertical-align: middle;\n",
       "    }\n",
       "\n",
       "    .dataframe tbody tr th {\n",
       "        vertical-align: top;\n",
       "    }\n",
       "\n",
       "    .dataframe thead th {\n",
       "        text-align: right;\n",
       "    }\n",
       "</style>\n",
       "<table border=\"1\" class=\"dataframe\">\n",
       "  <thead>\n",
       "    <tr style=\"text-align: right;\">\n",
       "      <th></th>\n",
       "      <th>RECORD_TIME</th>\n",
       "    </tr>\n",
       "  </thead>\n",
       "  <tbody>\n",
       "    <tr>\n",
       "      <th>0</th>\n",
       "      <td>2021-12-04 07:00</td>\n",
       "    </tr>\n",
       "    <tr>\n",
       "      <th>1</th>\n",
       "      <td>2021-12-04 06:30</td>\n",
       "    </tr>\n",
       "  </tbody>\n",
       "</table>\n",
       "</div>"
      ],
      "text/plain": [
       "        RECORD_TIME\n",
       "0  2021-12-04 07:00\n",
       "1  2021-12-04 06:30"
      ]
     },
     "execution_count": 3,
     "metadata": {},
     "output_type": "execute_result"
    }
   ],
   "source": [
    "timestamps"
   ]
  },
  {
   "cell_type": "code",
   "execution_count": 4,
   "id": "alternate-victory",
   "metadata": {
    "execution": {
     "iopub.execute_input": "2021-12-04T06:00:10.228056Z",
     "iopub.status.busy": "2021-12-04T06:00:10.225832Z",
     "iopub.status.idle": "2021-12-04T06:00:11.655553Z",
     "shell.execute_reply": "2021-12-04T06:00:11.656994Z"
    },
    "papermill": {
     "duration": 1.470546,
     "end_time": "2021-12-04T06:00:11.657477",
     "exception": false,
     "start_time": "2021-12-04T06:00:10.186931",
     "status": "completed"
    },
    "tags": []
   },
   "outputs": [],
   "source": [
    "df = pd.read_sql(\"select * from EBAY_TOP_BERLIN where record_time in (select distinct record_time from EBAY_TOP_BERLIN order by record_time desc limit 2)\", sqlite3.connect(\"UsedObjects.db\"))"
   ]
  },
  {
   "cell_type": "code",
   "execution_count": 5,
   "id": "popular-active",
   "metadata": {
    "execution": {
     "iopub.execute_input": "2021-12-04T06:00:11.731498Z",
     "iopub.status.busy": "2021-12-04T06:00:11.717495Z",
     "iopub.status.idle": "2021-12-04T06:00:11.749810Z",
     "shell.execute_reply": "2021-12-04T06:00:11.751255Z"
    },
    "papermill": {
     "duration": 0.073913,
     "end_time": "2021-12-04T06:00:11.751687",
     "exception": false,
     "start_time": "2021-12-04T06:00:11.677774",
     "status": "completed"
    },
    "tags": []
   },
   "outputs": [],
   "source": [
    "df_pivot = df.pivot_table(index=\"PRODUCT\", columns = \"RECORD_TIME\", values = \"LISTING_COUNT\")"
   ]
  },
  {
   "cell_type": "code",
   "execution_count": 6,
   "id": "union-huntington",
   "metadata": {
    "execution": {
     "iopub.execute_input": "2021-12-04T06:00:11.813167Z",
     "iopub.status.busy": "2021-12-04T06:00:11.810828Z",
     "iopub.status.idle": "2021-12-04T06:00:11.818231Z",
     "shell.execute_reply": "2021-12-04T06:00:11.816569Z"
    },
    "papermill": {
     "duration": 0.045897,
     "end_time": "2021-12-04T06:00:11.818631",
     "exception": false,
     "start_time": "2021-12-04T06:00:11.772734",
     "status": "completed"
    },
    "tags": []
   },
   "outputs": [],
   "source": [
    "df_pivot.columns = [\"stamp_1\", \"stamp_2\"]\n",
    "df_pivot_diff = df_pivot.diff(axis=1)"
   ]
  },
  {
   "cell_type": "code",
   "execution_count": 7,
   "id": "fifth-motion",
   "metadata": {
    "execution": {
     "iopub.execute_input": "2021-12-04T06:00:11.875250Z",
     "iopub.status.busy": "2021-12-04T06:00:11.872767Z",
     "iopub.status.idle": "2021-12-04T06:00:13.951364Z",
     "shell.execute_reply": "2021-12-04T06:00:13.952669Z"
    },
    "papermill": {
     "duration": 2.114357,
     "end_time": "2021-12-04T06:00:13.953191",
     "exception": false,
     "start_time": "2021-12-04T06:00:11.838834",
     "status": "completed"
    },
    "tags": []
   },
   "outputs": [
    {
     "data": {
      "text/plain": [
       "<AxesSubplot:ylabel='PRODUCT'>"
      ]
     },
     "execution_count": 7,
     "metadata": {},
     "output_type": "execute_result"
    },
    {
     "data": {
      "image/png": "[encoded data removed]",
      "text/plain": [
       "<Figure size 432x288 with 1 Axes>"
      ]
     },
     "metadata": {
      "needs_background": "light"
     },
     "output_type": "display_data"
    }
   ],
   "source": [
    "df_pivot_diff.sort_values(\"stamp_2\", ascending = False)[\"stamp_2\"].head(10).plot.barh()"
   ]
  },
  {
   "cell_type": "code",
   "execution_count": null,
   "id": "extra-executive",
   "metadata": {
    "papermill": {
     "duration": 0.029995,
     "end_time": "2021-12-04T06:00:14.081288",
     "exception": false,
     "start_time": "2021-12-04T06:00:14.051293",
     "status": "completed"
    },
    "tags": []
   },
   "outputs": [],
   "source": []
  }
 ],
 "metadata": {
  "kernelspec": {
   "display_name": "Python 3",
   "language": "python",
   "name": "python3"
  },
  "language_info": {
   "codemirror_mode": {
    "name": "ipython",
    "version": 3
   },
   "file_extension": ".py",
   "mimetype": "text/x-python",
   "name": "python",
   "nbconvert_exporter": "python",
   "pygments_lexer": "ipython3",
   "version": "3.9.5"
  },
  "papermill": {
   "default_parameters": {},
   "duration": 9.598964,
   "end_time": "2021-12-04T06:00:14.724836",
   "environment_variables": {},
   "exception": null,
   "input_path": "eBay_Overview.ipynb",
   "output_path": "eBay_Overview.ipynb",
   "parameters": {},
   "start_time": "2021-12-04T06:00:05.125872",
   "version": "2.3.3"
  }
 },
 "nbformat": 4,
 "nbformat_minor": 5
}