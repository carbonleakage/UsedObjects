{
 "cells": [
  {
   "cell_type": "code",
   "execution_count": 1,
   "id": "reverse-picking",
   "metadata": {
    "execution": {
     "iopub.execute_input": "2021-09-10T17:30:06.708626Z",
     "iopub.status.busy": "2021-09-10T17:30:06.706615Z",
     "iopub.status.idle": "2021-09-10T17:30:07.516139Z",
     "shell.execute_reply": "2021-09-10T17:30:07.517385Z"
    },
    "papermill": {
     "duration": 0.861968,
     "end_time": "2021-09-10T17:30:07.518000",
     "exception": false,
     "start_time": "2021-09-10T17:30:06.656032",
     "status": "completed"
    },
    "tags": []
   },
   "outputs": [],
   "source": [
    "import pandas as pd\n",
    "import sqlite3"
   ]
  },
  {
   "cell_type": "code",
   "execution_count": 2,
   "id": "innovative-syndrome",
   "metadata": {
    "execution": {
     "iopub.execute_input": "2021-09-10T17:30:07.570594Z",
     "iopub.status.busy": "2021-09-10T17:30:07.568291Z",
     "iopub.status.idle": "2021-09-10T17:30:07.820659Z",
     "shell.execute_reply": "2021-09-10T17:30:07.821837Z"
    },
    "papermill": {
     "duration": 0.282026,
     "end_time": "2021-09-10T17:30:07.822262",
     "exception": false,
     "start_time": "2021-09-10T17:30:07.540236",
     "status": "completed"
    },
    "tags": []
   },
   "outputs": [],
   "source": [
    "timestamps = pd.read_sql(\"select distinct record_time from EBAY_TOP_BERLIN order by record_time desc limit 2\", sqlite3.connect(\"UsedObjects.db\"))"
   ]
  },
  {
   "cell_type": "code",
   "execution_count": 3,
   "id": "periodic-identification",
   "metadata": {
    "execution": {
     "iopub.execute_input": "2021-09-10T17:30:07.885224Z",
     "iopub.status.busy": "2021-09-10T17:30:07.883195Z",
     "iopub.status.idle": "2021-09-10T17:30:07.905207Z",
     "shell.execute_reply": "2021-09-10T17:30:07.906390Z"
    },
    "papermill": {
     "duration": 0.065143,
     "end_time": "2021-09-10T17:30:07.906816",
     "exception": false,
     "start_time": "2021-09-10T17:30:07.841673",
     "status": "completed"
    },
    "tags": []
   },
   "outputs": [
    {
     "data": {
      "text/html": [
       "<div>\n",
       "<style scoped>\n",
       "    .dataframe tbody tr th:only-of-type {\n",
       "        vertical-align: middle;\n",
       "    }\n",
       "\n",
       "    .dataframe tbody tr th {\n",
       "        vertical-align: top;\n",
       "    }\n",
       "\n",
       "    .dataframe thead th {\n",
       "        text-align: right;\n",
       "    }\n",
       "</style>\n",
       "<table border=\"1\" class=\"dataframe\">\n",
       "  <thead>\n",
       "    <tr style=\"text-align: right;\">\n",
       "      <th></th>\n",
       "      <th>RECORD_TIME</th>\n",
       "    </tr>\n",
       "  </thead>\n",
       "  <tbody>\n",
       "    <tr>\n",
       "      <th>0</th>\n",
       "      <td>2021-09-10 19:30</td>\n",
       "    </tr>\n",
       "    <tr>\n",
       "      <th>1</th>\n",
       "      <td>2021-09-10 19:00</td>\n",
       "    </tr>\n",
       "  </tbody>\n",
       "</table>\n",
       "</div>"
      ],
      "text/plain": [
       "        RECORD_TIME\n",
       "0  2021-09-10 19:30\n",
       "1  2021-09-10 19:00"
      ]
     },
     "execution_count": 3,
     "metadata": {},
     "output_type": "execute_result"
    }
   ],
   "source": [
    "timestamps"
   ]
  },
  {
   "cell_type": "code",
   "execution_count": 4,
   "id": "alternate-victory",
   "metadata": {
    "execution": {
     "iopub.execute_input": "2021-09-10T17:30:07.960961Z",
     "iopub.status.busy": "2021-09-10T17:30:07.958753Z",
     "iopub.status.idle": "2021-09-10T17:30:08.335482Z",
     "shell.execute_reply": "2021-09-10T17:30:08.336696Z"
    },
    "papermill": {
     "duration": 0.406918,
     "end_time": "2021-09-10T17:30:08.337086",
     "exception": false,
     "start_time": "2021-09-10T17:30:07.930168",
     "status": "completed"
    },
    "tags": []
   },
   "outputs": [],
   "source": [
    "df = pd.read_sql(\"select * from EBAY_TOP_BERLIN where record_time in (select distinct record_time from EBAY_TOP_BERLIN order by record_time desc limit 2)\", sqlite3.connect(\"UsedObjects.db\"))"
   ]
  },
  {
   "cell_type": "code",
   "execution_count": 5,
   "id": "popular-active",
   "metadata": {
    "execution": {
     "iopub.execute_input": "2021-09-10T17:30:08.419519Z",
     "iopub.status.busy": "2021-09-10T17:30:08.406588Z",
     "iopub.status.idle": "2021-09-10T17:30:08.435027Z",
     "shell.execute_reply": "2021-09-10T17:30:08.436357Z"
    },
    "papermill": {
     "duration": 0.070754,
     "end_time": "2021-09-10T17:30:08.436747",
     "exception": false,
     "start_time": "2021-09-10T17:30:08.365993",
     "status": "completed"
    },
    "tags": []
   },
   "outputs": [],
   "source": [
    "df_pivot = df.pivot_table(index=\"PRODUCT\", columns = \"RECORD_TIME\", values = \"LISTING_COUNT\")"
   ]
  },
  {
   "cell_type": "code",
   "execution_count": 6,
   "id": "union-huntington",
   "metadata": {
    "execution": {
     "iopub.execute_input": "2021-09-10T17:30:08.493237Z",
     "iopub.status.busy": "2021-09-10T17:30:08.491197Z",
     "iopub.status.idle": "2021-09-10T17:30:08.496440Z",
     "shell.execute_reply": "2021-09-10T17:30:08.497629Z"
    },
    "papermill": {
     "duration": 0.040014,
     "end_time": "2021-09-10T17:30:08.498055",
     "exception": false,
     "start_time": "2021-09-10T17:30:08.458041",
     "status": "completed"
    },
    "tags": []
   },
   "outputs": [],
   "source": [
    "df_pivot.columns = [\"stamp_1\", \"stamp_2\"]\n",
    "df_pivot_diff = df_pivot.diff(axis=1)"
   ]
  },
  {
   "cell_type": "code",
   "execution_count": 7,
   "id": "fifth-motion",
   "metadata": {
    "execution": {
     "iopub.execute_input": "2021-09-10T17:30:08.551281Z",
     "iopub.status.busy": "2021-09-10T17:30:08.548817Z",
     "iopub.status.idle": "2021-09-10T17:30:10.070055Z",
     "shell.execute_reply": "2021-09-10T17:30:10.071531Z"
    },
    "papermill": {
     "duration": 1.553967,
     "end_time": "2021-09-10T17:30:10.071987",
     "exception": false,
     "start_time": "2021-09-10T17:30:08.518020",
     "status": "completed"
    },
    "tags": []
   },
   "outputs": [
    {
     "data": {
      "text/plain": [
       "<AxesSubplot:ylabel='PRODUCT'>"
      ]
     },
     "execution_count": 7,
     "metadata": {},
     "output_type": "execute_result"
    },
    {
     "data": {
      "image/png": "[encoded data removed]",
      "text/plain": [
       "<Figure size 432x288 with 1 Axes>"
      ]
     },
     "metadata": {
      "needs_background": "light"
     },
     "output_type": "display_data"
    }
   ],
   "source": [
    "df_pivot_diff.sort_values(\"stamp_2\", ascending = False)[\"stamp_2\"].head(10).plot.barh()"
   ]
  },
  {
   "cell_type": "code",
   "execution_count": null,
   "id": "extra-executive",
   "metadata": {
    "papermill": {
     "duration": 0.022002,
     "end_time": "2021-09-10T17:30:10.117541",
     "exception": false,
     "start_time": "2021-09-10T17:30:10.095539",
     "status": "completed"
    },
    "tags": []
   },
   "outputs": [],
   "source": []
  }
 ],
 "metadata": {
  "kernelspec": {
   "display_name": "Python 3",
   "language": "python",
   "name": "python3"
  },
  "language_info": {
   "codemirror_mode": {
    "name": "ipython",
    "version": 3
   },
   "file_extension": ".py",
   "mimetype": "text/x-python",
   "name": "python",
   "nbconvert_exporter": "python",
   "pygments_lexer": "ipython3",
   "version": "3.9.5"
  },
  "papermill": {
   "default_parameters": {},
   "duration": 6.524442,
   "end_time": "2021-09-10T17:30:10.759129",
   "environment_variables": {},
   "exception": null,
   "input_path": "eBay_Overview.ipynb",
   "output_path": "eBay_Overview.ipynb",
   "parameters": {},
   "start_time": "2021-09-10T17:30:04.234687",
   "version": "2.3.3"
  }
 },
 "nbformat": 4,
 "nbformat_minor": 5
}