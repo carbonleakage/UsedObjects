{
 "cells": [
  {
   "cell_type": "code",
   "execution_count": 1,
   "id": "reverse-picking",
   "metadata": {
    "execution": {
     "iopub.execute_input": "2021-10-08T14:30:06.768460Z",
     "iopub.status.busy": "2021-10-08T14:30:06.766454Z",
     "iopub.status.idle": "2021-10-08T14:30:07.580112Z",
     "shell.execute_reply": "2021-10-08T14:30:07.581335Z"
    },
    "papermill": {
     "duration": 0.864473,
     "end_time": "2021-10-08T14:30:07.581938",
     "exception": false,
     "start_time": "2021-10-08T14:30:06.717465",
     "status": "completed"
    },
    "tags": []
   },
   "outputs": [],
   "source": [
    "import pandas as pd\n",
    "import sqlite3"
   ]
  },
  {
   "cell_type": "code",
   "execution_count": 2,
   "id": "innovative-syndrome",
   "metadata": {
    "execution": {
     "iopub.execute_input": "2021-10-08T14:30:07.633070Z",
     "iopub.status.busy": "2021-10-08T14:30:07.631219Z",
     "iopub.status.idle": "2021-10-08T14:30:08.113152Z",
     "shell.execute_reply": "2021-10-08T14:30:08.114360Z"
    },
    "papermill": {
     "duration": 0.511723,
     "end_time": "2021-10-08T14:30:08.114756",
     "exception": false,
     "start_time": "2021-10-08T14:30:07.603033",
     "status": "completed"
    },
    "tags": []
   },
   "outputs": [],
   "source": [
    "timestamps = pd.read_sql(\"select distinct record_time from EBAY_TOP_BERLIN order by record_time desc limit 2\", sqlite3.connect(\"UsedObjects.db\"))"
   ]
  },
  {
   "cell_type": "code",
   "execution_count": 3,
   "id": "periodic-identification",
   "metadata": {
    "execution": {
     "iopub.execute_input": "2021-10-08T14:30:08.183899Z",
     "iopub.status.busy": "2021-10-08T14:30:08.181838Z",
     "iopub.status.idle": "2021-10-08T14:30:08.202677Z",
     "shell.execute_reply": "2021-10-08T14:30:08.204062Z"
    },
    "papermill": {
     "duration": 0.066377,
     "end_time": "2021-10-08T14:30:08.204516",
     "exception": false,
     "start_time": "2021-10-08T14:30:08.138139",
     "status": "completed"
    },
    "tags": []
   },
   "outputs": [
    {
     "data": {
      "text/html": [
       "<div>\n",
       "<style scoped>\n",
       "    .dataframe tbody tr th:only-of-type {\n",
       "        vertical-align: middle;\n",
       "    }\n",
       "\n",
       "    .dataframe tbody tr th {\n",
       "        vertical-align: top;\n",
       "    }\n",
       "\n",
       "    .dataframe thead th {\n",
       "        text-align: right;\n",
       "    }\n",
       "</style>\n",
       "<table border=\"1\" class=\"dataframe\">\n",
       "  <thead>\n",
       "    <tr style=\"text-align: right;\">\n",
       "      <th></th>\n",
       "      <th>RECORD_TIME</th>\n",
       "    </tr>\n",
       "  </thead>\n",
       "  <tbody>\n",
       "    <tr>\n",
       "      <th>0</th>\n",
       "      <td>2021-10-08 16:30</td>\n",
       "    </tr>\n",
       "    <tr>\n",
       "      <th>1</th>\n",
       "      <td>2021-10-08 16:00</td>\n",
       "    </tr>\n",
       "  </tbody>\n",
       "</table>\n",
       "</div>"
      ],
      "text/plain": [
       "        RECORD_TIME\n",
       "0  2021-10-08 16:30\n",
       "1  2021-10-08 16:00"
      ]
     },
     "execution_count": 3,
     "metadata": {},
     "output_type": "execute_result"
    }
   ],
   "source": [
    "timestamps"
   ]
  },
  {
   "cell_type": "code",
   "execution_count": 4,
   "id": "alternate-victory",
   "metadata": {
    "execution": {
     "iopub.execute_input": "2021-10-08T14:30:08.285242Z",
     "iopub.status.busy": "2021-10-08T14:30:08.283104Z",
     "iopub.status.idle": "2021-10-08T14:30:08.998649Z",
     "shell.execute_reply": "2021-10-08T14:30:08.999995Z"
    },
    "papermill": {
     "duration": 0.753671,
     "end_time": "2021-10-08T14:30:09.000405",
     "exception": false,
     "start_time": "2021-10-08T14:30:08.246734",
     "status": "completed"
    },
    "tags": []
   },
   "outputs": [],
   "source": [
    "df = pd.read_sql(\"select * from EBAY_TOP_BERLIN where record_time in (select distinct record_time from EBAY_TOP_BERLIN order by record_time desc limit 2)\", sqlite3.connect(\"UsedObjects.db\"))"
   ]
  },
  {
   "cell_type": "code",
   "execution_count": 5,
   "id": "popular-active",
   "metadata": {
    "execution": {
     "iopub.execute_input": "2021-10-08T14:30:09.065265Z",
     "iopub.status.busy": "2021-10-08T14:30:09.057452Z",
     "iopub.status.idle": "2021-10-08T14:30:09.087896Z",
     "shell.execute_reply": "2021-10-08T14:30:09.089318Z"
    },
    "papermill": {
     "duration": 0.068527,
     "end_time": "2021-10-08T14:30:09.089754",
     "exception": false,
     "start_time": "2021-10-08T14:30:09.021227",
     "status": "completed"
    },
    "tags": []
   },
   "outputs": [],
   "source": [
    "df_pivot = df.pivot_table(index=\"PRODUCT\", columns = \"RECORD_TIME\", values = \"LISTING_COUNT\")"
   ]
  },
  {
   "cell_type": "code",
   "execution_count": 6,
   "id": "union-huntington",
   "metadata": {
    "execution": {
     "iopub.execute_input": "2021-10-08T14:30:09.147214Z",
     "iopub.status.busy": "2021-10-08T14:30:09.145135Z",
     "iopub.status.idle": "2021-10-08T14:30:09.150404Z",
     "shell.execute_reply": "2021-10-08T14:30:09.151877Z"
    },
    "papermill": {
     "duration": 0.041891,
     "end_time": "2021-10-08T14:30:09.152324",
     "exception": false,
     "start_time": "2021-10-08T14:30:09.110433",
     "status": "completed"
    },
    "tags": []
   },
   "outputs": [],
   "source": [
    "df_pivot.columns = [\"stamp_1\", \"stamp_2\"]\n",
    "df_pivot_diff = df_pivot.diff(axis=1)"
   ]
  },
  {
   "cell_type": "code",
   "execution_count": 7,
   "id": "fifth-motion",
   "metadata": {
    "execution": {
     "iopub.execute_input": "2021-10-08T14:30:09.209755Z",
     "iopub.status.busy": "2021-10-08T14:30:09.207095Z",
     "iopub.status.idle": "2021-10-08T14:30:10.712885Z",
     "shell.execute_reply": "2021-10-08T14:30:10.714122Z"
    },
    "papermill": {
     "duration": 1.540224,
     "end_time": "2021-10-08T14:30:10.714569",
     "exception": false,
     "start_time": "2021-10-08T14:30:09.174345",
     "status": "completed"
    },
    "tags": []
   },
   "outputs": [
    {
     "data": {
      "text/plain": [
       "<AxesSubplot:ylabel='PRODUCT'>"
      ]
     },
     "execution_count": 7,
     "metadata": {},
     "output_type": "execute_result"
    },
    {
     "data": {
      "image/png": "[encoded data removed]",
      "text/plain": [
       "<Figure size 432x288 with 1 Axes>"
      ]
     },
     "metadata": {
      "needs_background": "light"
     },
     "output_type": "display_data"
    }
   ],
   "source": [
    "df_pivot_diff.sort_values(\"stamp_2\", ascending = False)[\"stamp_2\"].head(10).plot.barh()"
   ]
  },
  {
   "cell_type": "code",
   "execution_count": null,
   "id": "extra-executive",
   "metadata": {
    "papermill": {
     "duration": 0.022354,
     "end_time": "2021-10-08T14:30:10.761987",
     "exception": false,
     "start_time": "2021-10-08T14:30:10.739633",
     "status": "completed"
    },
    "tags": []
   },
   "outputs": [],
   "source": []
  }
 ],
 "metadata": {
  "kernelspec": {
   "display_name": "Python 3",
   "language": "python",
   "name": "python3"
  },
  "language_info": {
   "codemirror_mode": {
    "name": "ipython",
    "version": 3
   },
   "file_extension": ".py",
   "mimetype": "text/x-python",
   "name": "python",
   "nbconvert_exporter": "python",
   "pygments_lexer": "ipython3",
   "version": "3.9.5"
  },
  "papermill": {
   "default_parameters": {},
   "duration": 7.834624,
   "end_time": "2021-10-08T14:30:12.134670",
   "environment_variables": {},
   "exception": null,
   "input_path": "eBay_Overview.ipynb",
   "output_path": "eBay_Overview.ipynb",
   "parameters": {},
   "start_time": "2021-10-08T14:30:04.300046",
   "version": "2.3.3"
  }
 },
 "nbformat": 4,
 "nbformat_minor": 5
}