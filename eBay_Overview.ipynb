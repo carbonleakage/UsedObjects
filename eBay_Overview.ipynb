{
 "cells": [
  {
   "cell_type": "code",
   "execution_count": 1,
   "id": "reverse-picking",
   "metadata": {
    "execution": {
     "iopub.execute_input": "2021-09-08T00:30:07.405451Z",
     "iopub.status.busy": "2021-09-08T00:30:07.403424Z",
     "iopub.status.idle": "2021-09-08T00:30:08.216197Z",
     "shell.execute_reply": "2021-09-08T00:30:08.217448Z"
    },
    "papermill": {
     "duration": 0.864256,
     "end_time": "2021-09-08T00:30:08.218077",
     "exception": false,
     "start_time": "2021-09-08T00:30:07.353821",
     "status": "completed"
    },
    "tags": []
   },
   "outputs": [],
   "source": [
    "import pandas as pd\n",
    "import sqlite3"
   ]
  },
  {
   "cell_type": "code",
   "execution_count": 2,
   "id": "innovative-syndrome",
   "metadata": {
    "execution": {
     "iopub.execute_input": "2021-09-08T00:30:08.271506Z",
     "iopub.status.busy": "2021-09-08T00:30:08.269128Z",
     "iopub.status.idle": "2021-09-08T00:30:08.504820Z",
     "shell.execute_reply": "2021-09-08T00:30:08.506021Z"
    },
    "papermill": {
     "duration": 0.265991,
     "end_time": "2021-09-08T00:30:08.506415",
     "exception": false,
     "start_time": "2021-09-08T00:30:08.240424",
     "status": "completed"
    },
    "tags": []
   },
   "outputs": [],
   "source": [
    "timestamps = pd.read_sql(\"select distinct record_time from EBAY_TOP_BERLIN order by record_time desc limit 2\", sqlite3.connect(\"UsedObjects.db\"))"
   ]
  },
  {
   "cell_type": "code",
   "execution_count": 3,
   "id": "periodic-identification",
   "metadata": {
    "execution": {
     "iopub.execute_input": "2021-09-08T00:30:08.571776Z",
     "iopub.status.busy": "2021-09-08T00:30:08.569636Z",
     "iopub.status.idle": "2021-09-08T00:30:08.590324Z",
     "shell.execute_reply": "2021-09-08T00:30:08.592003Z"
    },
    "papermill": {
     "duration": 0.066389,
     "end_time": "2021-09-08T00:30:08.592497",
     "exception": false,
     "start_time": "2021-09-08T00:30:08.526108",
     "status": "completed"
    },
    "tags": []
   },
   "outputs": [
    {
     "data": {
      "text/html": [
       "<div>\n",
       "<style scoped>\n",
       "    .dataframe tbody tr th:only-of-type {\n",
       "        vertical-align: middle;\n",
       "    }\n",
       "\n",
       "    .dataframe tbody tr th {\n",
       "        vertical-align: top;\n",
       "    }\n",
       "\n",
       "    .dataframe thead th {\n",
       "        text-align: right;\n",
       "    }\n",
       "</style>\n",
       "<table border=\"1\" class=\"dataframe\">\n",
       "  <thead>\n",
       "    <tr style=\"text-align: right;\">\n",
       "      <th></th>\n",
       "      <th>RECORD_TIME</th>\n",
       "    </tr>\n",
       "  </thead>\n",
       "  <tbody>\n",
       "    <tr>\n",
       "      <th>0</th>\n",
       "      <td>2021-09-08 02:30</td>\n",
       "    </tr>\n",
       "    <tr>\n",
       "      <th>1</th>\n",
       "      <td>2021-09-08 02:00</td>\n",
       "    </tr>\n",
       "  </tbody>\n",
       "</table>\n",
       "</div>"
      ],
      "text/plain": [
       "        RECORD_TIME\n",
       "0  2021-09-08 02:30\n",
       "1  2021-09-08 02:00"
      ]
     },
     "execution_count": 3,
     "metadata": {},
     "output_type": "execute_result"
    }
   ],
   "source": [
    "timestamps"
   ]
  },
  {
   "cell_type": "code",
   "execution_count": 4,
   "id": "alternate-victory",
   "metadata": {
    "execution": {
     "iopub.execute_input": "2021-09-08T00:30:08.644919Z",
     "iopub.status.busy": "2021-09-08T00:30:08.643030Z",
     "iopub.status.idle": "2021-09-08T00:30:08.985363Z",
     "shell.execute_reply": "2021-09-08T00:30:08.986635Z"
    },
    "papermill": {
     "duration": 0.372705,
     "end_time": "2021-09-08T00:30:08.987131",
     "exception": false,
     "start_time": "2021-09-08T00:30:08.614426",
     "status": "completed"
    },
    "tags": []
   },
   "outputs": [],
   "source": [
    "df = pd.read_sql(\"select * from EBAY_TOP_BERLIN where record_time in (select distinct record_time from EBAY_TOP_BERLIN order by record_time desc limit 2)\", sqlite3.connect(\"UsedObjects.db\"))"
   ]
  },
  {
   "cell_type": "code",
   "execution_count": 5,
   "id": "popular-active",
   "metadata": {
    "execution": {
     "iopub.execute_input": "2021-09-08T00:30:09.068460Z",
     "iopub.status.busy": "2021-09-08T00:30:09.056367Z",
     "iopub.status.idle": "2021-09-08T00:30:09.085019Z",
     "shell.execute_reply": "2021-09-08T00:30:09.086388Z"
    },
    "papermill": {
     "duration": 0.073534,
     "end_time": "2021-09-08T00:30:09.086823",
     "exception": false,
     "start_time": "2021-09-08T00:30:09.013289",
     "status": "completed"
    },
    "tags": []
   },
   "outputs": [],
   "source": [
    "df_pivot = df.pivot_table(index=\"PRODUCT\", columns = \"RECORD_TIME\", values = \"LISTING_COUNT\")"
   ]
  },
  {
   "cell_type": "code",
   "execution_count": 6,
   "id": "union-huntington",
   "metadata": {
    "execution": {
     "iopub.execute_input": "2021-09-08T00:30:09.146738Z",
     "iopub.status.busy": "2021-09-08T00:30:09.144432Z",
     "iopub.status.idle": "2021-09-08T00:30:09.150176Z",
     "shell.execute_reply": "2021-09-08T00:30:09.151521Z"
    },
    "papermill": {
     "duration": 0.042357,
     "end_time": "2021-09-08T00:30:09.151940",
     "exception": false,
     "start_time": "2021-09-08T00:30:09.109583",
     "status": "completed"
    },
    "tags": []
   },
   "outputs": [],
   "source": [
    "df_pivot.columns = [\"stamp_1\", \"stamp_2\"]\n",
    "df_pivot_diff = df_pivot.diff(axis=1)"
   ]
  },
  {
   "cell_type": "code",
   "execution_count": 7,
   "id": "fifth-motion",
   "metadata": {
    "execution": {
     "iopub.execute_input": "2021-09-08T00:30:09.206054Z",
     "iopub.status.busy": "2021-09-08T00:30:09.203838Z",
     "iopub.status.idle": "2021-09-08T00:30:10.700573Z",
     "shell.execute_reply": "2021-09-08T00:30:10.701839Z"
    },
    "papermill": {
     "duration": 1.529488,
     "end_time": "2021-09-08T00:30:10.702254",
     "exception": false,
     "start_time": "2021-09-08T00:30:09.172766",
     "status": "completed"
    },
    "tags": []
   },
   "outputs": [
    {
     "data": {
      "text/plain": [
       "<AxesSubplot:ylabel='PRODUCT'>"
      ]
     },
     "execution_count": 7,
     "metadata": {},
     "output_type": "execute_result"
    },
    {
     "data": {
      "image/png": "[encoded data removed]",
      "text/plain": [
       "<Figure size 432x288 with 1 Axes>"
      ]
     },
     "metadata": {
      "needs_background": "light"
     },
     "output_type": "display_data"
    }
   ],
   "source": [
    "df_pivot_diff.sort_values(\"stamp_2\", ascending = False)[\"stamp_2\"].head(10).plot.barh()"
   ]
  },
  {
   "cell_type": "code",
   "execution_count": null,
   "id": "extra-executive",
   "metadata": {
    "papermill": {
     "duration": 0.02243,
     "end_time": "2021-09-08T00:30:10.749611",
     "exception": false,
     "start_time": "2021-09-08T00:30:10.727181",
     "status": "completed"
    },
    "tags": []
   },
   "outputs": [],
   "source": []
  }
 ],
 "metadata": {
  "kernelspec": {
   "display_name": "Python 3",
   "language": "python",
   "name": "python3"
  },
  "language_info": {
   "codemirror_mode": {
    "name": "ipython",
    "version": 3
   },
   "file_extension": ".py",
   "mimetype": "text/x-python",
   "name": "python",
   "nbconvert_exporter": "python",
   "pygments_lexer": "ipython3",
   "version": "3.9.5"
  },
  "papermill": {
   "default_parameters": {},
   "duration": 6.452891,
   "end_time": "2021-09-08T00:30:11.390719",
   "environment_variables": {},
   "exception": null,
   "input_path": "eBay_Overview.ipynb",
   "output_path": "eBay_Overview.ipynb",
   "parameters": {},
   "start_time": "2021-09-08T00:30:04.937828",
   "version": "2.3.3"
  }
 },
 "nbformat": 4,
 "nbformat_minor": 5
}