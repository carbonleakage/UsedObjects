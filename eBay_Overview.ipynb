{
 "cells": [
  {
   "cell_type": "code",
   "execution_count": 1,
   "id": "reverse-picking",
   "metadata": {
    "execution": {
     "iopub.execute_input": "2021-11-17T06:30:07.433194Z",
     "iopub.status.busy": "2021-11-17T06:30:07.430543Z",
     "iopub.status.idle": "2021-11-17T06:30:08.388901Z",
     "shell.execute_reply": "2021-11-17T06:30:08.391701Z"
    },
    "papermill": {
     "duration": 1.010385,
     "end_time": "2021-11-17T06:30:08.392942",
     "exception": false,
     "start_time": "2021-11-17T06:30:07.382557",
     "status": "completed"
    },
    "tags": []
   },
   "outputs": [],
   "source": [
    "import pandas as pd\n",
    "import sqlite3"
   ]
  },
  {
   "cell_type": "code",
   "execution_count": 2,
   "id": "innovative-syndrome",
   "metadata": {
    "execution": {
     "iopub.execute_input": "2021-11-17T06:30:08.457860Z",
     "iopub.status.busy": "2021-11-17T06:30:08.455563Z",
     "iopub.status.idle": "2021-11-17T06:30:09.287127Z",
     "shell.execute_reply": "2021-11-17T06:30:09.288573Z"
    },
    "papermill": {
     "duration": 0.865944,
     "end_time": "2021-11-17T06:30:09.289152",
     "exception": false,
     "start_time": "2021-11-17T06:30:08.423208",
     "status": "completed"
    },
    "tags": []
   },
   "outputs": [],
   "source": [
    "timestamps = pd.read_sql(\"select distinct record_time from EBAY_TOP_BERLIN order by record_time desc limit 2\", sqlite3.connect(\"UsedObjects.db\"))"
   ]
  },
  {
   "cell_type": "code",
   "execution_count": 3,
   "id": "periodic-identification",
   "metadata": {
    "execution": {
     "iopub.execute_input": "2021-11-17T06:30:09.365832Z",
     "iopub.status.busy": "2021-11-17T06:30:09.359844Z",
     "iopub.status.idle": "2021-11-17T06:30:09.386202Z",
     "shell.execute_reply": "2021-11-17T06:30:09.384475Z"
    },
    "papermill": {
     "duration": 0.077161,
     "end_time": "2021-11-17T06:30:09.386605",
     "exception": false,
     "start_time": "2021-11-17T06:30:09.309444",
     "status": "completed"
    },
    "tags": []
   },
   "outputs": [
    {
     "data": {
      "text/html": [
       "<div>\n",
       "<style scoped>\n",
       "    .dataframe tbody tr th:only-of-type {\n",
       "        vertical-align: middle;\n",
       "    }\n",
       "\n",
       "    .dataframe tbody tr th {\n",
       "        vertical-align: top;\n",
       "    }\n",
       "\n",
       "    .dataframe thead th {\n",
       "        text-align: right;\n",
       "    }\n",
       "</style>\n",
       "<table border=\"1\" class=\"dataframe\">\n",
       "  <thead>\n",
       "    <tr style=\"text-align: right;\">\n",
       "      <th></th>\n",
       "      <th>RECORD_TIME</th>\n",
       "    </tr>\n",
       "  </thead>\n",
       "  <tbody>\n",
       "    <tr>\n",
       "      <th>0</th>\n",
       "      <td>2021-11-17 07:30</td>\n",
       "    </tr>\n",
       "    <tr>\n",
       "      <th>1</th>\n",
       "      <td>2021-11-17 07:00</td>\n",
       "    </tr>\n",
       "  </tbody>\n",
       "</table>\n",
       "</div>"
      ],
      "text/plain": [
       "        RECORD_TIME\n",
       "0  2021-11-17 07:30\n",
       "1  2021-11-17 07:00"
      ]
     },
     "execution_count": 3,
     "metadata": {},
     "output_type": "execute_result"
    }
   ],
   "source": [
    "timestamps"
   ]
  },
  {
   "cell_type": "code",
   "execution_count": 4,
   "id": "alternate-victory",
   "metadata": {
    "execution": {
     "iopub.execute_input": "2021-11-17T06:30:09.441625Z",
     "iopub.status.busy": "2021-11-17T06:30:09.439405Z",
     "iopub.status.idle": "2021-11-17T06:30:10.648240Z",
     "shell.execute_reply": "2021-11-17T06:30:10.650792Z"
    },
    "papermill": {
     "duration": 1.243827,
     "end_time": "2021-11-17T06:30:10.651339",
     "exception": false,
     "start_time": "2021-11-17T06:30:09.407512",
     "status": "completed"
    },
    "tags": []
   },
   "outputs": [],
   "source": [
    "df = pd.read_sql(\"select * from EBAY_TOP_BERLIN where record_time in (select distinct record_time from EBAY_TOP_BERLIN order by record_time desc limit 2)\", sqlite3.connect(\"UsedObjects.db\"))"
   ]
  },
  {
   "cell_type": "code",
   "execution_count": 5,
   "id": "popular-active",
   "metadata": {
    "execution": {
     "iopub.execute_input": "2021-11-17T06:30:10.719323Z",
     "iopub.status.busy": "2021-11-17T06:30:10.717040Z",
     "iopub.status.idle": "2021-11-17T06:30:10.747528Z",
     "shell.execute_reply": "2021-11-17T06:30:10.749214Z"
    },
    "papermill": {
     "duration": 0.076522,
     "end_time": "2021-11-17T06:30:10.749734",
     "exception": false,
     "start_time": "2021-11-17T06:30:10.673212",
     "status": "completed"
    },
    "tags": []
   },
   "outputs": [],
   "source": [
    "df_pivot = df.pivot_table(index=\"PRODUCT\", columns = \"RECORD_TIME\", values = \"LISTING_COUNT\")"
   ]
  },
  {
   "cell_type": "code",
   "execution_count": 6,
   "id": "union-huntington",
   "metadata": {
    "execution": {
     "iopub.execute_input": "2021-11-17T06:30:10.809401Z",
     "iopub.status.busy": "2021-11-17T06:30:10.807179Z",
     "iopub.status.idle": "2021-11-17T06:30:10.814608Z",
     "shell.execute_reply": "2021-11-17T06:30:10.813147Z"
    },
    "papermill": {
     "duration": 0.044718,
     "end_time": "2021-11-17T06:30:10.814999",
     "exception": false,
     "start_time": "2021-11-17T06:30:10.770281",
     "status": "completed"
    },
    "tags": []
   },
   "outputs": [],
   "source": [
    "df_pivot.columns = [\"stamp_1\", \"stamp_2\"]\n",
    "df_pivot_diff = df_pivot.diff(axis=1)"
   ]
  },
  {
   "cell_type": "code",
   "execution_count": 7,
   "id": "fifth-motion",
   "metadata": {
    "execution": {
     "iopub.execute_input": "2021-11-17T06:30:10.875227Z",
     "iopub.status.busy": "2021-11-17T06:30:10.872639Z",
     "iopub.status.idle": "2021-11-17T06:30:12.789170Z",
     "shell.execute_reply": "2021-11-17T06:30:12.790545Z"
    },
    "papermill": {
     "duration": 1.954518,
     "end_time": "2021-11-17T06:30:12.791017",
     "exception": false,
     "start_time": "2021-11-17T06:30:10.836499",
     "status": "completed"
    },
    "tags": []
   },
   "outputs": [
    {
     "data": {
      "text/plain": [
       "<AxesSubplot:ylabel='PRODUCT'>"
      ]
     },
     "execution_count": 7,
     "metadata": {},
     "output_type": "execute_result"
    },
    {
     "data": {
      "image/png": "[encoded data removed]",
      "text/plain": [
       "<Figure size 432x288 with 1 Axes>"
      ]
     },
     "metadata": {
      "needs_background": "light"
     },
     "output_type": "display_data"
    }
   ],
   "source": [
    "df_pivot_diff.sort_values(\"stamp_2\", ascending = False)[\"stamp_2\"].head(10).plot.barh()"
   ]
  },
  {
   "cell_type": "code",
   "execution_count": null,
   "id": "extra-executive",
   "metadata": {
    "papermill": {
     "duration": 0.023456,
     "end_time": "2021-11-17T06:30:12.838108",
     "exception": false,
     "start_time": "2021-11-17T06:30:12.814652",
     "status": "completed"
    },
    "tags": []
   },
   "outputs": [],
   "source": []
  }
 ],
 "metadata": {
  "kernelspec": {
   "display_name": "Python 3",
   "language": "python",
   "name": "python3"
  },
  "language_info": {
   "codemirror_mode": {
    "name": "ipython",
    "version": 3
   },
   "file_extension": ".py",
   "mimetype": "text/x-python",
   "name": "python",
   "nbconvert_exporter": "python",
   "pygments_lexer": "ipython3",
   "version": "3.9.5"
  },
  "papermill": {
   "default_parameters": {},
   "duration": 9.929939,
   "end_time": "2021-11-17T06:30:14.603365",
   "environment_variables": {},
   "exception": null,
   "input_path": "eBay_Overview.ipynb",
   "output_path": "eBay_Overview.ipynb",
   "parameters": {},
   "start_time": "2021-11-17T06:30:04.673426",
   "version": "2.3.3"
  }
 },
 "nbformat": 4,
 "nbformat_minor": 5
}