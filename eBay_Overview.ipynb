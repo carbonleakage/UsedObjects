{
 "cells": [
  {
   "cell_type": "code",
   "execution_count": 1,
   "id": "reverse-picking",
   "metadata": {
    "execution": {
     "iopub.execute_input": "2021-09-05T00:30:07.332837Z",
     "iopub.status.busy": "2021-09-05T00:30:07.330935Z",
     "iopub.status.idle": "2021-09-05T00:30:08.135683Z",
     "shell.execute_reply": "2021-09-05T00:30:08.137026Z"
    },
    "papermill": {
     "duration": 0.857493,
     "end_time": "2021-09-05T00:30:08.137677",
     "exception": false,
     "start_time": "2021-09-05T00:30:07.280184",
     "status": "completed"
    },
    "tags": []
   },
   "outputs": [],
   "source": [
    "import pandas as pd\n",
    "import sqlite3"
   ]
  },
  {
   "cell_type": "code",
   "execution_count": 2,
   "id": "innovative-syndrome",
   "metadata": {
    "execution": {
     "iopub.execute_input": "2021-09-05T00:30:08.188884Z",
     "iopub.status.busy": "2021-09-05T00:30:08.187030Z",
     "iopub.status.idle": "2021-09-05T00:30:08.391182Z",
     "shell.execute_reply": "2021-09-05T00:30:08.392311Z"
    },
    "papermill": {
     "duration": 0.233793,
     "end_time": "2021-09-05T00:30:08.392727",
     "exception": false,
     "start_time": "2021-09-05T00:30:08.158934",
     "status": "completed"
    },
    "tags": []
   },
   "outputs": [],
   "source": [
    "timestamps = pd.read_sql(\"select distinct record_time from EBAY_TOP_BERLIN order by record_time desc limit 2\", sqlite3.connect(\"UsedObjects.db\"))"
   ]
  },
  {
   "cell_type": "code",
   "execution_count": 3,
   "id": "periodic-identification",
   "metadata": {
    "execution": {
     "iopub.execute_input": "2021-09-05T00:30:08.461435Z",
     "iopub.status.busy": "2021-09-05T00:30:08.459406Z",
     "iopub.status.idle": "2021-09-05T00:30:08.480153Z",
     "shell.execute_reply": "2021-09-05T00:30:08.481432Z"
    },
    "papermill": {
     "duration": 0.066628,
     "end_time": "2021-09-05T00:30:08.481850",
     "exception": false,
     "start_time": "2021-09-05T00:30:08.415222",
     "status": "completed"
    },
    "tags": []
   },
   "outputs": [
    {
     "data": {
      "text/html": [
       "<div>\n",
       "<style scoped>\n",
       "    .dataframe tbody tr th:only-of-type {\n",
       "        vertical-align: middle;\n",
       "    }\n",
       "\n",
       "    .dataframe tbody tr th {\n",
       "        vertical-align: top;\n",
       "    }\n",
       "\n",
       "    .dataframe thead th {\n",
       "        text-align: right;\n",
       "    }\n",
       "</style>\n",
       "<table border=\"1\" class=\"dataframe\">\n",
       "  <thead>\n",
       "    <tr style=\"text-align: right;\">\n",
       "      <th></th>\n",
       "      <th>RECORD_TIME</th>\n",
       "    </tr>\n",
       "  </thead>\n",
       "  <tbody>\n",
       "    <tr>\n",
       "      <th>0</th>\n",
       "      <td>2021-09-05 02:30</td>\n",
       "    </tr>\n",
       "    <tr>\n",
       "      <th>1</th>\n",
       "      <td>2021-09-05 02:00</td>\n",
       "    </tr>\n",
       "  </tbody>\n",
       "</table>\n",
       "</div>"
      ],
      "text/plain": [
       "        RECORD_TIME\n",
       "0  2021-09-05 02:30\n",
       "1  2021-09-05 02:00"
      ]
     },
     "execution_count": 3,
     "metadata": {},
     "output_type": "execute_result"
    }
   ],
   "source": [
    "timestamps"
   ]
  },
  {
   "cell_type": "code",
   "execution_count": 4,
   "id": "alternate-victory",
   "metadata": {
    "execution": {
     "iopub.execute_input": "2021-09-05T00:30:08.532777Z",
     "iopub.status.busy": "2021-09-05T00:30:08.530845Z",
     "iopub.status.idle": "2021-09-05T00:30:08.834389Z",
     "shell.execute_reply": "2021-09-05T00:30:08.835798Z"
    },
    "papermill": {
     "duration": 0.333713,
     "end_time": "2021-09-05T00:30:08.836222",
     "exception": false,
     "start_time": "2021-09-05T00:30:08.502509",
     "status": "completed"
    },
    "tags": []
   },
   "outputs": [],
   "source": [
    "df = pd.read_sql(\"select * from EBAY_TOP_BERLIN where record_time in (select distinct record_time from EBAY_TOP_BERLIN order by record_time desc limit 2)\", sqlite3.connect(\"UsedObjects.db\"))"
   ]
  },
  {
   "cell_type": "code",
   "execution_count": 5,
   "id": "popular-active",
   "metadata": {
    "execution": {
     "iopub.execute_input": "2021-09-05T00:30:08.927366Z",
     "iopub.status.busy": "2021-09-05T00:30:08.915550Z",
     "iopub.status.idle": "2021-09-05T00:30:08.942759Z",
     "shell.execute_reply": "2021-09-05T00:30:08.944032Z"
    },
    "papermill": {
     "duration": 0.075116,
     "end_time": "2021-09-05T00:30:08.944435",
     "exception": false,
     "start_time": "2021-09-05T00:30:08.869319",
     "status": "completed"
    },
    "tags": []
   },
   "outputs": [],
   "source": [
    "df_pivot = df.pivot_table(index=\"PRODUCT\", columns = \"RECORD_TIME\", values = \"LISTING_COUNT\")"
   ]
  },
  {
   "cell_type": "code",
   "execution_count": 6,
   "id": "union-huntington",
   "metadata": {
    "execution": {
     "iopub.execute_input": "2021-09-05T00:30:09.002264Z",
     "iopub.status.busy": "2021-09-05T00:30:09.000013Z",
     "iopub.status.idle": "2021-09-05T00:30:09.005864Z",
     "shell.execute_reply": "2021-09-05T00:30:09.007118Z"
    },
    "papermill": {
     "duration": 0.041581,
     "end_time": "2021-09-05T00:30:09.007571",
     "exception": false,
     "start_time": "2021-09-05T00:30:08.965990",
     "status": "completed"
    },
    "tags": []
   },
   "outputs": [],
   "source": [
    "df_pivot.columns = [\"stamp_1\", \"stamp_2\"]\n",
    "df_pivot_diff = df_pivot.diff(axis=1)"
   ]
  },
  {
   "cell_type": "code",
   "execution_count": 7,
   "id": "fifth-motion",
   "metadata": {
    "execution": {
     "iopub.execute_input": "2021-09-05T00:30:09.061438Z",
     "iopub.status.busy": "2021-09-05T00:30:09.059152Z",
     "iopub.status.idle": "2021-09-05T00:30:10.566119Z",
     "shell.execute_reply": "2021-09-05T00:30:10.567562Z"
    },
    "papermill": {
     "duration": 1.540335,
     "end_time": "2021-09-05T00:30:10.568027",
     "exception": false,
     "start_time": "2021-09-05T00:30:09.027692",
     "status": "completed"
    },
    "tags": []
   },
   "outputs": [
    {
     "data": {
      "text/plain": [
       "<AxesSubplot:ylabel='PRODUCT'>"
      ]
     },
     "execution_count": 7,
     "metadata": {},
     "output_type": "execute_result"
    },
    {
     "data": {
      "image/png": "[encoded data removed]",
      "text/plain": [
       "<Figure size 432x288 with 1 Axes>"
      ]
     },
     "metadata": {
      "needs_background": "light"
     },
     "output_type": "display_data"
    }
   ],
   "source": [
    "df_pivot_diff.sort_values(\"stamp_2\", ascending = False)[\"stamp_2\"].head(10).plot.barh()"
   ]
  },
  {
   "cell_type": "code",
   "execution_count": null,
   "id": "extra-executive",
   "metadata": {
    "papermill": {
     "duration": 0.022376,
     "end_time": "2021-09-05T00:30:10.613909",
     "exception": false,
     "start_time": "2021-09-05T00:30:10.591533",
     "status": "completed"
    },
    "tags": []
   },
   "outputs": [],
   "source": []
  }
 ],
 "metadata": {
  "kernelspec": {
   "display_name": "Python 3",
   "language": "python",
   "name": "python3"
  },
  "language_info": {
   "codemirror_mode": {
    "name": "ipython",
    "version": 3
   },
   "file_extension": ".py",
   "mimetype": "text/x-python",
   "name": "python",
   "nbconvert_exporter": "python",
   "pygments_lexer": "ipython3",
   "version": "3.9.5"
  },
  "papermill": {
   "default_parameters": {},
   "duration": 6.369042,
   "end_time": "2021-09-05T00:30:11.254416",
   "environment_variables": {},
   "exception": null,
   "input_path": "eBay_Overview.ipynb",
   "output_path": "eBay_Overview.ipynb",
   "parameters": {},
   "start_time": "2021-09-05T00:30:04.885374",
   "version": "2.3.3"
  }
 },
 "nbformat": 4,
 "nbformat_minor": 5
}