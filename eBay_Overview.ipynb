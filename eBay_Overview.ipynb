{
 "cells": [
  {
   "cell_type": "code",
   "execution_count": 1,
   "id": "reverse-picking",
   "metadata": {
    "execution": {
     "iopub.execute_input": "2021-11-26T16:30:07.977147Z",
     "iopub.status.busy": "2021-11-26T16:30:07.974783Z",
     "iopub.status.idle": "2021-11-26T16:30:08.938683Z",
     "shell.execute_reply": "2021-11-26T16:30:08.940444Z"
    },
    "papermill": {
     "duration": 1.013631,
     "end_time": "2021-11-26T16:30:08.941242",
     "exception": false,
     "start_time": "2021-11-26T16:30:07.927611",
     "status": "completed"
    },
    "tags": []
   },
   "outputs": [],
   "source": [
    "import pandas as pd\n",
    "import sqlite3"
   ]
  },
  {
   "cell_type": "code",
   "execution_count": 2,
   "id": "innovative-syndrome",
   "metadata": {
    "execution": {
     "iopub.execute_input": "2021-11-26T16:30:09.004531Z",
     "iopub.status.busy": "2021-11-26T16:30:09.002345Z",
     "iopub.status.idle": "2021-11-26T16:30:09.927671Z",
     "shell.execute_reply": "2021-11-26T16:30:09.929525Z"
    },
    "papermill": {
     "duration": 0.961236,
     "end_time": "2021-11-26T16:30:09.930025",
     "exception": false,
     "start_time": "2021-11-26T16:30:08.968789",
     "status": "completed"
    },
    "tags": []
   },
   "outputs": [],
   "source": [
    "timestamps = pd.read_sql(\"select distinct record_time from EBAY_TOP_BERLIN order by record_time desc limit 2\", sqlite3.connect(\"UsedObjects.db\"))"
   ]
  },
  {
   "cell_type": "code",
   "execution_count": 3,
   "id": "periodic-identification",
   "metadata": {
    "execution": {
     "iopub.execute_input": "2021-11-26T16:30:09.987618Z",
     "iopub.status.busy": "2021-11-26T16:30:09.985750Z",
     "iopub.status.idle": "2021-11-26T16:30:10.022587Z",
     "shell.execute_reply": "2021-11-26T16:30:10.024949Z"
    },
    "papermill": {
     "duration": 0.075821,
     "end_time": "2021-11-26T16:30:10.025723",
     "exception": false,
     "start_time": "2021-11-26T16:30:09.949902",
     "status": "completed"
    },
    "tags": []
   },
   "outputs": [
    {
     "data": {
      "text/html": [
       "<div>\n",
       "<style scoped>\n",
       "    .dataframe tbody tr th:only-of-type {\n",
       "        vertical-align: middle;\n",
       "    }\n",
       "\n",
       "    .dataframe tbody tr th {\n",
       "        vertical-align: top;\n",
       "    }\n",
       "\n",
       "    .dataframe thead th {\n",
       "        text-align: right;\n",
       "    }\n",
       "</style>\n",
       "<table border=\"1\" class=\"dataframe\">\n",
       "  <thead>\n",
       "    <tr style=\"text-align: right;\">\n",
       "      <th></th>\n",
       "      <th>RECORD_TIME</th>\n",
       "    </tr>\n",
       "  </thead>\n",
       "  <tbody>\n",
       "    <tr>\n",
       "      <th>0</th>\n",
       "      <td>2021-11-26 17:30</td>\n",
       "    </tr>\n",
       "    <tr>\n",
       "      <th>1</th>\n",
       "      <td>2021-11-26 17:00</td>\n",
       "    </tr>\n",
       "  </tbody>\n",
       "</table>\n",
       "</div>"
      ],
      "text/plain": [
       "        RECORD_TIME\n",
       "0  2021-11-26 17:30\n",
       "1  2021-11-26 17:00"
      ]
     },
     "execution_count": 3,
     "metadata": {},
     "output_type": "execute_result"
    }
   ],
   "source": [
    "timestamps"
   ]
  },
  {
   "cell_type": "code",
   "execution_count": 4,
   "id": "alternate-victory",
   "metadata": {
    "execution": {
     "iopub.execute_input": "2021-11-26T16:30:10.081531Z",
     "iopub.status.busy": "2021-11-26T16:30:10.079172Z",
     "iopub.status.idle": "2021-11-26T16:30:11.428595Z",
     "shell.execute_reply": "2021-11-26T16:30:11.430231Z"
    },
    "papermill": {
     "duration": 1.383364,
     "end_time": "2021-11-26T16:30:11.430753",
     "exception": false,
     "start_time": "2021-11-26T16:30:10.047389",
     "status": "completed"
    },
    "tags": []
   },
   "outputs": [],
   "source": [
    "df = pd.read_sql(\"select * from EBAY_TOP_BERLIN where record_time in (select distinct record_time from EBAY_TOP_BERLIN order by record_time desc limit 2)\", sqlite3.connect(\"UsedObjects.db\"))"
   ]
  },
  {
   "cell_type": "code",
   "execution_count": 5,
   "id": "popular-active",
   "metadata": {
    "execution": {
     "iopub.execute_input": "2021-11-26T16:30:11.495627Z",
     "iopub.status.busy": "2021-11-26T16:30:11.493353Z",
     "iopub.status.idle": "2021-11-26T16:30:11.525230Z",
     "shell.execute_reply": "2021-11-26T16:30:11.526596Z"
    },
    "papermill": {
     "duration": 0.074704,
     "end_time": "2021-11-26T16:30:11.527073",
     "exception": false,
     "start_time": "2021-11-26T16:30:11.452369",
     "status": "completed"
    },
    "tags": []
   },
   "outputs": [],
   "source": [
    "df_pivot = df.pivot_table(index=\"PRODUCT\", columns = \"RECORD_TIME\", values = \"LISTING_COUNT\")"
   ]
  },
  {
   "cell_type": "code",
   "execution_count": 6,
   "id": "union-huntington",
   "metadata": {
    "execution": {
     "iopub.execute_input": "2021-11-26T16:30:11.585477Z",
     "iopub.status.busy": "2021-11-26T16:30:11.583268Z",
     "iopub.status.idle": "2021-11-26T16:30:11.588963Z",
     "shell.execute_reply": "2021-11-26T16:30:11.590595Z"
    },
    "papermill": {
     "duration": 0.04395,
     "end_time": "2021-11-26T16:30:11.591088",
     "exception": false,
     "start_time": "2021-11-26T16:30:11.547138",
     "status": "completed"
    },
    "tags": []
   },
   "outputs": [],
   "source": [
    "df_pivot.columns = [\"stamp_1\", \"stamp_2\"]\n",
    "df_pivot_diff = df_pivot.diff(axis=1)"
   ]
  },
  {
   "cell_type": "code",
   "execution_count": 7,
   "id": "fifth-motion",
   "metadata": {
    "execution": {
     "iopub.execute_input": "2021-11-26T16:30:11.649631Z",
     "iopub.status.busy": "2021-11-26T16:30:11.647111Z",
     "iopub.status.idle": "2021-11-26T16:30:13.705250Z",
     "shell.execute_reply": "2021-11-26T16:30:13.706459Z"
    },
    "papermill": {
     "duration": 2.093569,
     "end_time": "2021-11-26T16:30:13.706891",
     "exception": false,
     "start_time": "2021-11-26T16:30:11.613322",
     "status": "completed"
    },
    "tags": []
   },
   "outputs": [
    {
     "data": {
      "text/plain": [
       "<AxesSubplot:ylabel='PRODUCT'>"
      ]
     },
     "execution_count": 7,
     "metadata": {},
     "output_type": "execute_result"
    },
    {
     "data": {
      "image/png": "[encoded data removed]",
      "text/plain": [
       "<Figure size 432x288 with 1 Axes>"
      ]
     },
     "metadata": {
      "needs_background": "light"
     },
     "output_type": "display_data"
    }
   ],
   "source": [
    "df_pivot_diff.sort_values(\"stamp_2\", ascending = False)[\"stamp_2\"].head(10).plot.barh()"
   ]
  },
  {
   "cell_type": "code",
   "execution_count": null,
   "id": "extra-executive",
   "metadata": {
    "papermill": {
     "duration": 0.022274,
     "end_time": "2021-11-26T16:30:13.753245",
     "exception": false,
     "start_time": "2021-11-26T16:30:13.730971",
     "status": "completed"
    },
    "tags": []
   },
   "outputs": [],
   "source": []
  }
 ],
 "metadata": {
  "kernelspec": {
   "display_name": "Python 3",
   "language": "python",
   "name": "python3"
  },
  "language_info": {
   "codemirror_mode": {
    "name": "ipython",
    "version": 3
   },
   "file_extension": ".py",
   "mimetype": "text/x-python",
   "name": "python",
   "nbconvert_exporter": "python",
   "pygments_lexer": "ipython3",
   "version": "3.9.5"
  },
  "papermill": {
   "default_parameters": {},
   "duration": 9.934934,
   "end_time": "2021-11-26T16:30:15.115871",
   "environment_variables": {},
   "exception": null,
   "input_path": "eBay_Overview.ipynb",
   "output_path": "eBay_Overview.ipynb",
   "parameters": {},
   "start_time": "2021-11-26T16:30:05.180937",
   "version": "2.3.3"
  }
 },
 "nbformat": 4,
 "nbformat_minor": 5
}