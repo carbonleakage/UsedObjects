{
 "cells": [
  {
   "cell_type": "code",
   "execution_count": 1,
   "id": "reverse-picking",
   "metadata": {
    "execution": {
     "iopub.execute_input": "2021-12-21T10:30:07.920647Z",
     "iopub.status.busy": "2021-12-21T10:30:07.918257Z",
     "iopub.status.idle": "2021-12-21T10:30:08.880275Z",
     "shell.execute_reply": "2021-12-21T10:30:08.882053Z"
    },
    "papermill": {
     "duration": 1.01269,
     "end_time": "2021-12-21T10:30:08.882806",
     "exception": false,
     "start_time": "2021-12-21T10:30:07.870116",
     "status": "completed"
    },
    "tags": []
   },
   "outputs": [],
   "source": [
    "import pandas as pd\n",
    "import sqlite3"
   ]
  },
  {
   "cell_type": "code",
   "execution_count": 2,
   "id": "innovative-syndrome",
   "metadata": {
    "execution": {
     "iopub.execute_input": "2021-12-21T10:30:08.950907Z",
     "iopub.status.busy": "2021-12-21T10:30:08.947010Z",
     "iopub.status.idle": "2021-12-21T10:30:10.086571Z",
     "shell.execute_reply": "2021-12-21T10:30:10.087936Z"
    },
    "papermill": {
     "duration": 1.183829,
     "end_time": "2021-12-21T10:30:10.088403",
     "exception": false,
     "start_time": "2021-12-21T10:30:08.904574",
     "status": "completed"
    },
    "tags": []
   },
   "outputs": [],
   "source": [
    "timestamps = pd.read_sql(\"select distinct record_time from EBAY_TOP_BERLIN order by record_time desc limit 2\", sqlite3.connect(\"UsedObjects.db\"))"
   ]
  },
  {
   "cell_type": "code",
   "execution_count": 3,
   "id": "periodic-identification",
   "metadata": {
    "execution": {
     "iopub.execute_input": "2021-12-21T10:30:10.150545Z",
     "iopub.status.busy": "2021-12-21T10:30:10.148399Z",
     "iopub.status.idle": "2021-12-21T10:30:10.186764Z",
     "shell.execute_reply": "2021-12-21T10:30:10.189286Z"
    },
    "papermill": {
     "duration": 0.079823,
     "end_time": "2021-12-21T10:30:10.189710",
     "exception": false,
     "start_time": "2021-12-21T10:30:10.109887",
     "status": "completed"
    },
    "tags": []
   },
   "outputs": [
    {
     "data": {
      "text/html": [
       "<div>\n",
       "<style scoped>\n",
       "    .dataframe tbody tr th:only-of-type {\n",
       "        vertical-align: middle;\n",
       "    }\n",
       "\n",
       "    .dataframe tbody tr th {\n",
       "        vertical-align: top;\n",
       "    }\n",
       "\n",
       "    .dataframe thead th {\n",
       "        text-align: right;\n",
       "    }\n",
       "</style>\n",
       "<table border=\"1\" class=\"dataframe\">\n",
       "  <thead>\n",
       "    <tr style=\"text-align: right;\">\n",
       "      <th></th>\n",
       "      <th>RECORD_TIME</th>\n",
       "    </tr>\n",
       "  </thead>\n",
       "  <tbody>\n",
       "    <tr>\n",
       "      <th>0</th>\n",
       "      <td>2021-12-21 11:30</td>\n",
       "    </tr>\n",
       "    <tr>\n",
       "      <th>1</th>\n",
       "      <td>2021-12-21 11:00</td>\n",
       "    </tr>\n",
       "  </tbody>\n",
       "</table>\n",
       "</div>"
      ],
      "text/plain": [
       "        RECORD_TIME\n",
       "0  2021-12-21 11:30\n",
       "1  2021-12-21 11:00"
      ]
     },
     "execution_count": 3,
     "metadata": {},
     "output_type": "execute_result"
    }
   ],
   "source": [
    "timestamps"
   ]
  },
  {
   "cell_type": "code",
   "execution_count": 4,
   "id": "alternate-victory",
   "metadata": {
    "execution": {
     "iopub.execute_input": "2021-12-21T10:30:10.256829Z",
     "iopub.status.busy": "2021-12-21T10:30:10.254456Z",
     "iopub.status.idle": "2021-12-21T10:30:11.910578Z",
     "shell.execute_reply": "2021-12-21T10:30:11.912812Z"
    },
    "papermill": {
     "duration": 1.69086,
     "end_time": "2021-12-21T10:30:11.913286",
     "exception": false,
     "start_time": "2021-12-21T10:30:10.222426",
     "status": "completed"
    },
    "tags": []
   },
   "outputs": [],
   "source": [
    "df = pd.read_sql(\"select * from EBAY_TOP_BERLIN where record_time in (select distinct record_time from EBAY_TOP_BERLIN order by record_time desc limit 2)\", sqlite3.connect(\"UsedObjects.db\"))"
   ]
  },
  {
   "cell_type": "code",
   "execution_count": 5,
   "id": "popular-active",
   "metadata": {
    "execution": {
     "iopub.execute_input": "2021-12-21T10:30:11.986943Z",
     "iopub.status.busy": "2021-12-21T10:30:11.974631Z",
     "iopub.status.idle": "2021-12-21T10:30:12.012801Z",
     "shell.execute_reply": "2021-12-21T10:30:12.010755Z"
    },
    "papermill": {
     "duration": 0.079542,
     "end_time": "2021-12-21T10:30:12.013264",
     "exception": false,
     "start_time": "2021-12-21T10:30:11.933722",
     "status": "completed"
    },
    "tags": []
   },
   "outputs": [],
   "source": [
    "df_pivot = df.pivot_table(index=\"PRODUCT\", columns = \"RECORD_TIME\", values = \"LISTING_COUNT\")"
   ]
  },
  {
   "cell_type": "code",
   "execution_count": 6,
   "id": "union-huntington",
   "metadata": {
    "execution": {
     "iopub.execute_input": "2021-12-21T10:30:12.075021Z",
     "iopub.status.busy": "2021-12-21T10:30:12.072818Z",
     "iopub.status.idle": "2021-12-21T10:30:12.077826Z",
     "shell.execute_reply": "2021-12-21T10:30:12.079643Z"
    },
    "papermill": {
     "duration": 0.044492,
     "end_time": "2021-12-21T10:30:12.080107",
     "exception": false,
     "start_time": "2021-12-21T10:30:12.035615",
     "status": "completed"
    },
    "tags": []
   },
   "outputs": [],
   "source": [
    "df_pivot.columns = [\"stamp_1\", \"stamp_2\"]\n",
    "df_pivot_diff = df_pivot.diff(axis=1)"
   ]
  },
  {
   "cell_type": "code",
   "execution_count": 7,
   "id": "fifth-motion",
   "metadata": {
    "execution": {
     "iopub.execute_input": "2021-12-21T10:30:12.136145Z",
     "iopub.status.busy": "2021-12-21T10:30:12.133635Z",
     "iopub.status.idle": "2021-12-21T10:30:14.155865Z",
     "shell.execute_reply": "2021-12-21T10:30:14.157554Z"
    },
    "papermill": {
     "duration": 2.05803,
     "end_time": "2021-12-21T10:30:14.158069",
     "exception": false,
     "start_time": "2021-12-21T10:30:12.100039",
     "status": "completed"
    },
    "tags": []
   },
   "outputs": [
    {
     "data": {
      "text/plain": [
       "<AxesSubplot:ylabel='PRODUCT'>"
      ]
     },
     "execution_count": 7,
     "metadata": {},
     "output_type": "execute_result"
    },
    {
     "data": {
      "image/png": "[encoded data removed]",
      "text/plain": [
       "<Figure size 432x288 with 1 Axes>"
      ]
     },
     "metadata": {
      "needs_background": "light"
     },
     "output_type": "display_data"
    }
   ],
   "source": [
    "df_pivot_diff.sort_values(\"stamp_2\", ascending = False)[\"stamp_2\"].head(10).plot.barh()"
   ]
  },
  {
   "cell_type": "code",
   "execution_count": null,
   "id": "extra-executive",
   "metadata": {
    "papermill": {
     "duration": 0.026067,
     "end_time": "2021-12-21T10:30:14.215986",
     "exception": false,
     "start_time": "2021-12-21T10:30:14.189919",
     "status": "completed"
    },
    "tags": []
   },
   "outputs": [],
   "source": []
  }
 ],
 "metadata": {
  "kernelspec": {
   "display_name": "Python 3",
   "language": "python",
   "name": "python3"
  },
  "language_info": {
   "codemirror_mode": {
    "name": "ipython",
    "version": 3
   },
   "file_extension": ".py",
   "mimetype": "text/x-python",
   "name": "python",
   "nbconvert_exporter": "python",
   "pygments_lexer": "ipython3",
   "version": "3.9.5"
  },
  "papermill": {
   "default_parameters": {},
   "duration": 9.751813,
   "end_time": "2021-12-21T10:30:14.865884",
   "environment_variables": {},
   "exception": null,
   "input_path": "eBay_Overview.ipynb",
   "output_path": "eBay_Overview.ipynb",
   "parameters": {},
   "start_time": "2021-12-21T10:30:05.114071",
   "version": "2.3.3"
  }
 },
 "nbformat": 4,
 "nbformat_minor": 5
}