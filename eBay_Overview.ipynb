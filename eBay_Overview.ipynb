{
 "cells": [
  {
   "cell_type": "code",
   "execution_count": 1,
   "id": "reverse-picking",
   "metadata": {
    "execution": {
     "iopub.execute_input": "2021-09-10T17:00:07.036756Z",
     "iopub.status.busy": "2021-09-10T17:00:07.034786Z",
     "iopub.status.idle": "2021-09-10T17:00:07.846304Z",
     "shell.execute_reply": "2021-09-10T17:00:07.844778Z"
    },
    "papermill": {
     "duration": 0.862061,
     "end_time": "2021-09-10T17:00:07.846694",
     "exception": false,
     "start_time": "2021-09-10T17:00:06.984633",
     "status": "completed"
    },
    "tags": []
   },
   "outputs": [],
   "source": [
    "import pandas as pd\n",
    "import sqlite3"
   ]
  },
  {
   "cell_type": "code",
   "execution_count": 2,
   "id": "innovative-syndrome",
   "metadata": {
    "execution": {
     "iopub.execute_input": "2021-09-10T17:00:07.899718Z",
     "iopub.status.busy": "2021-09-10T17:00:07.897352Z",
     "iopub.status.idle": "2021-09-10T17:00:08.160946Z",
     "shell.execute_reply": "2021-09-10T17:00:08.162199Z"
    },
    "papermill": {
     "duration": 0.293516,
     "end_time": "2021-09-10T17:00:08.162601",
     "exception": false,
     "start_time": "2021-09-10T17:00:07.869085",
     "status": "completed"
    },
    "tags": []
   },
   "outputs": [],
   "source": [
    "timestamps = pd.read_sql(\"select distinct record_time from EBAY_TOP_BERLIN order by record_time desc limit 2\", sqlite3.connect(\"UsedObjects.db\"))"
   ]
  },
  {
   "cell_type": "code",
   "execution_count": 3,
   "id": "periodic-identification",
   "metadata": {
    "execution": {
     "iopub.execute_input": "2021-09-10T17:00:08.229461Z",
     "iopub.status.busy": "2021-09-10T17:00:08.227457Z",
     "iopub.status.idle": "2021-09-10T17:00:08.247547Z",
     "shell.execute_reply": "2021-09-10T17:00:08.248755Z"
    },
    "papermill": {
     "duration": 0.066965,
     "end_time": "2021-09-10T17:00:08.249189",
     "exception": false,
     "start_time": "2021-09-10T17:00:08.182224",
     "status": "completed"
    },
    "tags": []
   },
   "outputs": [
    {
     "data": {
      "text/html": [
       "<div>\n",
       "<style scoped>\n",
       "    .dataframe tbody tr th:only-of-type {\n",
       "        vertical-align: middle;\n",
       "    }\n",
       "\n",
       "    .dataframe tbody tr th {\n",
       "        vertical-align: top;\n",
       "    }\n",
       "\n",
       "    .dataframe thead th {\n",
       "        text-align: right;\n",
       "    }\n",
       "</style>\n",
       "<table border=\"1\" class=\"dataframe\">\n",
       "  <thead>\n",
       "    <tr style=\"text-align: right;\">\n",
       "      <th></th>\n",
       "      <th>RECORD_TIME</th>\n",
       "    </tr>\n",
       "  </thead>\n",
       "  <tbody>\n",
       "    <tr>\n",
       "      <th>0</th>\n",
       "      <td>2021-09-10 19:00</td>\n",
       "    </tr>\n",
       "    <tr>\n",
       "      <th>1</th>\n",
       "      <td>2021-09-10 18:30</td>\n",
       "    </tr>\n",
       "  </tbody>\n",
       "</table>\n",
       "</div>"
      ],
      "text/plain": [
       "        RECORD_TIME\n",
       "0  2021-09-10 19:00\n",
       "1  2021-09-10 18:30"
      ]
     },
     "execution_count": 3,
     "metadata": {},
     "output_type": "execute_result"
    }
   ],
   "source": [
    "timestamps"
   ]
  },
  {
   "cell_type": "code",
   "execution_count": 4,
   "id": "alternate-victory",
   "metadata": {
    "execution": {
     "iopub.execute_input": "2021-09-10T17:00:08.301794Z",
     "iopub.status.busy": "2021-09-10T17:00:08.299549Z",
     "iopub.status.idle": "2021-09-10T17:00:08.681477Z",
     "shell.execute_reply": "2021-09-10T17:00:08.682673Z"
    },
    "papermill": {
     "duration": 0.411952,
     "end_time": "2021-09-10T17:00:08.683195",
     "exception": false,
     "start_time": "2021-09-10T17:00:08.271243",
     "status": "completed"
    },
    "tags": []
   },
   "outputs": [],
   "source": [
    "df = pd.read_sql(\"select * from EBAY_TOP_BERLIN where record_time in (select distinct record_time from EBAY_TOP_BERLIN order by record_time desc limit 2)\", sqlite3.connect(\"UsedObjects.db\"))"
   ]
  },
  {
   "cell_type": "code",
   "execution_count": 5,
   "id": "popular-active",
   "metadata": {
    "execution": {
     "iopub.execute_input": "2021-09-10T17:00:08.762067Z",
     "iopub.status.busy": "2021-09-10T17:00:08.749775Z",
     "iopub.status.idle": "2021-09-10T17:00:08.778032Z",
     "shell.execute_reply": "2021-09-10T17:00:08.779361Z"
    },
    "papermill": {
     "duration": 0.070794,
     "end_time": "2021-09-10T17:00:08.779782",
     "exception": false,
     "start_time": "2021-09-10T17:00:08.708988",
     "status": "completed"
    },
    "tags": []
   },
   "outputs": [],
   "source": [
    "df_pivot = df.pivot_table(index=\"PRODUCT\", columns = \"RECORD_TIME\", values = \"LISTING_COUNT\")"
   ]
  },
  {
   "cell_type": "code",
   "execution_count": 6,
   "id": "union-huntington",
   "metadata": {
    "execution": {
     "iopub.execute_input": "2021-09-10T17:00:08.836252Z",
     "iopub.status.busy": "2021-09-10T17:00:08.834068Z",
     "iopub.status.idle": "2021-09-10T17:00:08.839842Z",
     "shell.execute_reply": "2021-09-10T17:00:08.841262Z"
    },
    "papermill": {
     "duration": 0.041101,
     "end_time": "2021-09-10T17:00:08.841696",
     "exception": false,
     "start_time": "2021-09-10T17:00:08.800595",
     "status": "completed"
    },
    "tags": []
   },
   "outputs": [],
   "source": [
    "df_pivot.columns = [\"stamp_1\", \"stamp_2\"]\n",
    "df_pivot_diff = df_pivot.diff(axis=1)"
   ]
  },
  {
   "cell_type": "code",
   "execution_count": 7,
   "id": "fifth-motion",
   "metadata": {
    "execution": {
     "iopub.execute_input": "2021-09-10T17:00:08.898731Z",
     "iopub.status.busy": "2021-09-10T17:00:08.896108Z",
     "iopub.status.idle": "2021-09-10T17:00:10.369362Z",
     "shell.execute_reply": "2021-09-10T17:00:10.370626Z"
    },
    "papermill": {
     "duration": 1.507083,
     "end_time": "2021-09-10T17:00:10.371094",
     "exception": false,
     "start_time": "2021-09-10T17:00:08.864011",
     "status": "completed"
    },
    "tags": []
   },
   "outputs": [
    {
     "data": {
      "text/plain": [
       "<AxesSubplot:ylabel='PRODUCT'>"
      ]
     },
     "execution_count": 7,
     "metadata": {},
     "output_type": "execute_result"
    },
    {
     "data": {
      "image/png": "[encoded data removed]",
      "text/plain": [
       "<Figure size 432x288 with 1 Axes>"
      ]
     },
     "metadata": {
      "needs_background": "light"
     },
     "output_type": "display_data"
    }
   ],
   "source": [
    "df_pivot_diff.sort_values(\"stamp_2\", ascending = False)[\"stamp_2\"].head(10).plot.barh()"
   ]
  },
  {
   "cell_type": "code",
   "execution_count": null,
   "id": "extra-executive",
   "metadata": {
    "papermill": {
     "duration": 0.021994,
     "end_time": "2021-09-10T17:00:10.417825",
     "exception": false,
     "start_time": "2021-09-10T17:00:10.395831",
     "status": "completed"
    },
    "tags": []
   },
   "outputs": [],
   "source": []
  }
 ],
 "metadata": {
  "kernelspec": {
   "display_name": "Python 3",
   "language": "python",
   "name": "python3"
  },
  "language_info": {
   "codemirror_mode": {
    "name": "ipython",
    "version": 3
   },
   "file_extension": ".py",
   "mimetype": "text/x-python",
   "name": "python",
   "nbconvert_exporter": "python",
   "pygments_lexer": "ipython3",
   "version": "3.9.5"
  },
  "papermill": {
   "default_parameters": {},
   "duration": 6.493278,
   "end_time": "2021-09-10T17:00:11.059285",
   "environment_variables": {},
   "exception": null,
   "input_path": "eBay_Overview.ipynb",
   "output_path": "eBay_Overview.ipynb",
   "parameters": {},
   "start_time": "2021-09-10T17:00:04.566007",
   "version": "2.3.3"
  }
 },
 "nbformat": 4,
 "nbformat_minor": 5
}