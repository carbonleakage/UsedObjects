{
 "cells": [
  {
   "cell_type": "code",
   "execution_count": 1,
   "id": "reverse-picking",
   "metadata": {
    "execution": {
     "iopub.execute_input": "2021-10-25T17:30:06.802946Z",
     "iopub.status.busy": "2021-10-25T17:30:06.800934Z",
     "iopub.status.idle": "2021-10-25T17:30:07.611200Z",
     "shell.execute_reply": "2021-10-25T17:30:07.612510Z"
    },
    "papermill": {
     "duration": 0.861104,
     "end_time": "2021-10-25T17:30:07.613205",
     "exception": false,
     "start_time": "2021-10-25T17:30:06.752101",
     "status": "completed"
    },
    "tags": []
   },
   "outputs": [],
   "source": [
    "import pandas as pd\n",
    "import sqlite3"
   ]
  },
  {
   "cell_type": "code",
   "execution_count": 2,
   "id": "innovative-syndrome",
   "metadata": {
    "execution": {
     "iopub.execute_input": "2021-10-25T17:30:07.663915Z",
     "iopub.status.busy": "2021-10-25T17:30:07.661956Z",
     "iopub.status.idle": "2021-10-25T17:30:08.302391Z",
     "shell.execute_reply": "2021-10-25T17:30:08.303679Z"
    },
    "papermill": {
     "duration": 0.670475,
     "end_time": "2021-10-25T17:30:08.304091",
     "exception": false,
     "start_time": "2021-10-25T17:30:07.633616",
     "status": "completed"
    },
    "tags": []
   },
   "outputs": [],
   "source": [
    "timestamps = pd.read_sql(\"select distinct record_time from EBAY_TOP_BERLIN order by record_time desc limit 2\", sqlite3.connect(\"UsedObjects.db\"))"
   ]
  },
  {
   "cell_type": "code",
   "execution_count": 3,
   "id": "periodic-identification",
   "metadata": {
    "execution": {
     "iopub.execute_input": "2021-10-25T17:30:08.381868Z",
     "iopub.status.busy": "2021-10-25T17:30:08.376632Z",
     "iopub.status.idle": "2021-10-25T17:30:08.396210Z",
     "shell.execute_reply": "2021-10-25T17:30:08.397640Z"
    },
    "papermill": {
     "duration": 0.069011,
     "end_time": "2021-10-25T17:30:08.398073",
     "exception": false,
     "start_time": "2021-10-25T17:30:08.329062",
     "status": "completed"
    },
    "tags": []
   },
   "outputs": [
    {
     "data": {
      "text/html": [
       "<div>\n",
       "<style scoped>\n",
       "    .dataframe tbody tr th:only-of-type {\n",
       "        vertical-align: middle;\n",
       "    }\n",
       "\n",
       "    .dataframe tbody tr th {\n",
       "        vertical-align: top;\n",
       "    }\n",
       "\n",
       "    .dataframe thead th {\n",
       "        text-align: right;\n",
       "    }\n",
       "</style>\n",
       "<table border=\"1\" class=\"dataframe\">\n",
       "  <thead>\n",
       "    <tr style=\"text-align: right;\">\n",
       "      <th></th>\n",
       "      <th>RECORD_TIME</th>\n",
       "    </tr>\n",
       "  </thead>\n",
       "  <tbody>\n",
       "    <tr>\n",
       "      <th>0</th>\n",
       "      <td>2021-10-25 19:30</td>\n",
       "    </tr>\n",
       "    <tr>\n",
       "      <th>1</th>\n",
       "      <td>2021-10-25 19:00</td>\n",
       "    </tr>\n",
       "  </tbody>\n",
       "</table>\n",
       "</div>"
      ],
      "text/plain": [
       "        RECORD_TIME\n",
       "0  2021-10-25 19:30\n",
       "1  2021-10-25 19:00"
      ]
     },
     "execution_count": 3,
     "metadata": {},
     "output_type": "execute_result"
    }
   ],
   "source": [
    "timestamps"
   ]
  },
  {
   "cell_type": "code",
   "execution_count": 4,
   "id": "alternate-victory",
   "metadata": {
    "execution": {
     "iopub.execute_input": "2021-10-25T17:30:08.450899Z",
     "iopub.status.busy": "2021-10-25T17:30:08.448509Z",
     "iopub.status.idle": "2021-10-25T17:30:09.385479Z",
     "shell.execute_reply": "2021-10-25T17:30:09.386716Z"
    },
    "papermill": {
     "duration": 0.967423,
     "end_time": "2021-10-25T17:30:09.387111",
     "exception": false,
     "start_time": "2021-10-25T17:30:08.419688",
     "status": "completed"
    },
    "tags": []
   },
   "outputs": [],
   "source": [
    "df = pd.read_sql(\"select * from EBAY_TOP_BERLIN where record_time in (select distinct record_time from EBAY_TOP_BERLIN order by record_time desc limit 2)\", sqlite3.connect(\"UsedObjects.db\"))"
   ]
  },
  {
   "cell_type": "code",
   "execution_count": 5,
   "id": "popular-active",
   "metadata": {
    "execution": {
     "iopub.execute_input": "2021-10-25T17:30:09.456647Z",
     "iopub.status.busy": "2021-10-25T17:30:09.445023Z",
     "iopub.status.idle": "2021-10-25T17:30:09.474158Z",
     "shell.execute_reply": "2021-10-25T17:30:09.475538Z"
    },
    "papermill": {
     "duration": 0.068359,
     "end_time": "2021-10-25T17:30:09.475973",
     "exception": false,
     "start_time": "2021-10-25T17:30:09.407614",
     "status": "completed"
    },
    "tags": []
   },
   "outputs": [],
   "source": [
    "df_pivot = df.pivot_table(index=\"PRODUCT\", columns = \"RECORD_TIME\", values = \"LISTING_COUNT\")"
   ]
  },
  {
   "cell_type": "code",
   "execution_count": 6,
   "id": "union-huntington",
   "metadata": {
    "execution": {
     "iopub.execute_input": "2021-10-25T17:30:09.532405Z",
     "iopub.status.busy": "2021-10-25T17:30:09.530349Z",
     "iopub.status.idle": "2021-10-25T17:30:09.535964Z",
     "shell.execute_reply": "2021-10-25T17:30:09.537317Z"
    },
    "papermill": {
     "duration": 0.041388,
     "end_time": "2021-10-25T17:30:09.537728",
     "exception": false,
     "start_time": "2021-10-25T17:30:09.496340",
     "status": "completed"
    },
    "tags": []
   },
   "outputs": [],
   "source": [
    "df_pivot.columns = [\"stamp_1\", \"stamp_2\"]\n",
    "df_pivot_diff = df_pivot.diff(axis=1)"
   ]
  },
  {
   "cell_type": "code",
   "execution_count": 7,
   "id": "fifth-motion",
   "metadata": {
    "execution": {
     "iopub.execute_input": "2021-10-25T17:30:09.594703Z",
     "iopub.status.busy": "2021-10-25T17:30:09.592134Z",
     "iopub.status.idle": "2021-10-25T17:30:11.092078Z",
     "shell.execute_reply": "2021-10-25T17:30:11.093602Z"
    },
    "papermill": {
     "duration": 1.533315,
     "end_time": "2021-10-25T17:30:11.094064",
     "exception": false,
     "start_time": "2021-10-25T17:30:09.560749",
     "status": "completed"
    },
    "tags": []
   },
   "outputs": [
    {
     "data": {
      "text/plain": [
       "<AxesSubplot:ylabel='PRODUCT'>"
      ]
     },
     "execution_count": 7,
     "metadata": {},
     "output_type": "execute_result"
    },
    {
     "data": {
      "image/png": "[encoded data removed]",
      "text/plain": [
       "<Figure size 432x288 with 1 Axes>"
      ]
     },
     "metadata": {
      "needs_background": "light"
     },
     "output_type": "display_data"
    }
   ],
   "source": [
    "df_pivot_diff.sort_values(\"stamp_2\", ascending = False)[\"stamp_2\"].head(10).plot.barh()"
   ]
  },
  {
   "cell_type": "code",
   "execution_count": null,
   "id": "extra-executive",
   "metadata": {
    "papermill": {
     "duration": 0.022197,
     "end_time": "2021-10-25T17:30:11.140901",
     "exception": false,
     "start_time": "2021-10-25T17:30:11.118704",
     "status": "completed"
    },
    "tags": []
   },
   "outputs": [],
   "source": []
  }
 ],
 "metadata": {
  "kernelspec": {
   "display_name": "Python 3",
   "language": "python",
   "name": "python3"
  },
  "language_info": {
   "codemirror_mode": {
    "name": "ipython",
    "version": 3
   },
   "file_extension": ".py",
   "mimetype": "text/x-python",
   "name": "python",
   "nbconvert_exporter": "python",
   "pygments_lexer": "ipython3",
   "version": "3.9.5"
  },
  "papermill": {
   "default_parameters": {},
   "duration": 7.438076,
   "end_time": "2021-10-25T17:30:11.783617",
   "environment_variables": {},
   "exception": null,
   "input_path": "eBay_Overview.ipynb",
   "output_path": "eBay_Overview.ipynb",
   "parameters": {},
   "start_time": "2021-10-25T17:30:04.345541",
   "version": "2.3.3"
  }
 },
 "nbformat": 4,
 "nbformat_minor": 5
}