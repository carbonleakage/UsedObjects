{
 "cells": [
  {
   "cell_type": "code",
   "execution_count": 1,
   "id": "reverse-picking",
   "metadata": {
    "execution": {
     "iopub.execute_input": "2021-10-13T10:30:06.763432Z",
     "iopub.status.busy": "2021-10-13T10:30:06.760308Z",
     "iopub.status.idle": "2021-10-13T10:30:07.561628Z",
     "shell.execute_reply": "2021-10-13T10:30:07.563054Z"
    },
    "papermill": {
     "duration": 0.853569,
     "end_time": "2021-10-13T10:30:07.563738",
     "exception": false,
     "start_time": "2021-10-13T10:30:06.710169",
     "status": "completed"
    },
    "tags": []
   },
   "outputs": [],
   "source": [
    "import pandas as pd\n",
    "import sqlite3"
   ]
  },
  {
   "cell_type": "code",
   "execution_count": 2,
   "id": "innovative-syndrome",
   "metadata": {
    "execution": {
     "iopub.execute_input": "2021-10-13T10:30:07.615444Z",
     "iopub.status.busy": "2021-10-13T10:30:07.613385Z",
     "iopub.status.idle": "2021-10-13T10:30:08.149942Z",
     "shell.execute_reply": "2021-10-13T10:30:08.151375Z"
    },
    "papermill": {
     "duration": 0.56679,
     "end_time": "2021-10-13T10:30:08.151821",
     "exception": false,
     "start_time": "2021-10-13T10:30:07.585031",
     "status": "completed"
    },
    "tags": []
   },
   "outputs": [],
   "source": [
    "timestamps = pd.read_sql(\"select distinct record_time from EBAY_TOP_BERLIN order by record_time desc limit 2\", sqlite3.connect(\"UsedObjects.db\"))"
   ]
  },
  {
   "cell_type": "code",
   "execution_count": 3,
   "id": "periodic-identification",
   "metadata": {
    "execution": {
     "iopub.execute_input": "2021-10-13T10:30:08.218453Z",
     "iopub.status.busy": "2021-10-13T10:30:08.216335Z",
     "iopub.status.idle": "2021-10-13T10:30:08.236892Z",
     "shell.execute_reply": "2021-10-13T10:30:08.238213Z"
    },
    "papermill": {
     "duration": 0.067014,
     "end_time": "2021-10-13T10:30:08.238633",
     "exception": false,
     "start_time": "2021-10-13T10:30:08.171619",
     "status": "completed"
    },
    "tags": []
   },
   "outputs": [
    {
     "data": {
      "text/html": [
       "<div>\n",
       "<style scoped>\n",
       "    .dataframe tbody tr th:only-of-type {\n",
       "        vertical-align: middle;\n",
       "    }\n",
       "\n",
       "    .dataframe tbody tr th {\n",
       "        vertical-align: top;\n",
       "    }\n",
       "\n",
       "    .dataframe thead th {\n",
       "        text-align: right;\n",
       "    }\n",
       "</style>\n",
       "<table border=\"1\" class=\"dataframe\">\n",
       "  <thead>\n",
       "    <tr style=\"text-align: right;\">\n",
       "      <th></th>\n",
       "      <th>RECORD_TIME</th>\n",
       "    </tr>\n",
       "  </thead>\n",
       "  <tbody>\n",
       "    <tr>\n",
       "      <th>0</th>\n",
       "      <td>2021-10-13 12:30</td>\n",
       "    </tr>\n",
       "    <tr>\n",
       "      <th>1</th>\n",
       "      <td>2021-10-13 12:00</td>\n",
       "    </tr>\n",
       "  </tbody>\n",
       "</table>\n",
       "</div>"
      ],
      "text/plain": [
       "        RECORD_TIME\n",
       "0  2021-10-13 12:30\n",
       "1  2021-10-13 12:00"
      ]
     },
     "execution_count": 3,
     "metadata": {},
     "output_type": "execute_result"
    }
   ],
   "source": [
    "timestamps"
   ]
  },
  {
   "cell_type": "code",
   "execution_count": 4,
   "id": "alternate-victory",
   "metadata": {
    "execution": {
     "iopub.execute_input": "2021-10-13T10:30:08.299334Z",
     "iopub.status.busy": "2021-10-13T10:30:08.297291Z",
     "iopub.status.idle": "2021-10-13T10:30:09.088352Z",
     "shell.execute_reply": "2021-10-13T10:30:09.090521Z"
    },
    "papermill": {
     "duration": 0.82565,
     "end_time": "2021-10-13T10:30:09.090990",
     "exception": false,
     "start_time": "2021-10-13T10:30:08.265340",
     "status": "completed"
    },
    "tags": []
   },
   "outputs": [],
   "source": [
    "df = pd.read_sql(\"select * from EBAY_TOP_BERLIN where record_time in (select distinct record_time from EBAY_TOP_BERLIN order by record_time desc limit 2)\", sqlite3.connect(\"UsedObjects.db\"))"
   ]
  },
  {
   "cell_type": "code",
   "execution_count": 5,
   "id": "popular-active",
   "metadata": {
    "execution": {
     "iopub.execute_input": "2021-10-13T10:30:09.156731Z",
     "iopub.status.busy": "2021-10-13T10:30:09.148043Z",
     "iopub.status.idle": "2021-10-13T10:30:09.176760Z",
     "shell.execute_reply": "2021-10-13T10:30:09.177920Z"
    },
    "papermill": {
     "duration": 0.067189,
     "end_time": "2021-10-13T10:30:09.178333",
     "exception": false,
     "start_time": "2021-10-13T10:30:09.111144",
     "status": "completed"
    },
    "tags": []
   },
   "outputs": [],
   "source": [
    "df_pivot = df.pivot_table(index=\"PRODUCT\", columns = \"RECORD_TIME\", values = \"LISTING_COUNT\")"
   ]
  },
  {
   "cell_type": "code",
   "execution_count": 6,
   "id": "union-huntington",
   "metadata": {
    "execution": {
     "iopub.execute_input": "2021-10-13T10:30:09.238335Z",
     "iopub.status.busy": "2021-10-13T10:30:09.235771Z",
     "iopub.status.idle": "2021-10-13T10:30:09.241754Z",
     "shell.execute_reply": "2021-10-13T10:30:09.243050Z"
    },
    "papermill": {
     "duration": 0.042096,
     "end_time": "2021-10-13T10:30:09.243466",
     "exception": false,
     "start_time": "2021-10-13T10:30:09.201370",
     "status": "completed"
    },
    "tags": []
   },
   "outputs": [],
   "source": [
    "df_pivot.columns = [\"stamp_1\", \"stamp_2\"]\n",
    "df_pivot_diff = df_pivot.diff(axis=1)"
   ]
  },
  {
   "cell_type": "code",
   "execution_count": 7,
   "id": "fifth-motion",
   "metadata": {
    "execution": {
     "iopub.execute_input": "2021-10-13T10:30:09.298913Z",
     "iopub.status.busy": "2021-10-13T10:30:09.294837Z",
     "iopub.status.idle": "2021-10-13T10:30:10.753997Z",
     "shell.execute_reply": "2021-10-13T10:30:10.755298Z"
    },
    "papermill": {
     "duration": 1.491623,
     "end_time": "2021-10-13T10:30:10.755717",
     "exception": false,
     "start_time": "2021-10-13T10:30:09.264094",
     "status": "completed"
    },
    "tags": []
   },
   "outputs": [
    {
     "data": {
      "text/plain": [
       "<AxesSubplot:ylabel='PRODUCT'>"
      ]
     },
     "execution_count": 7,
     "metadata": {},
     "output_type": "execute_result"
    },
    {
     "data": {
      "image/png": "[encoded data removed]",
      "text/plain": [
       "<Figure size 432x288 with 1 Axes>"
      ]
     },
     "metadata": {
      "needs_background": "light"
     },
     "output_type": "display_data"
    }
   ],
   "source": [
    "df_pivot_diff.sort_values(\"stamp_2\", ascending = False)[\"stamp_2\"].head(10).plot.barh()"
   ]
  },
  {
   "cell_type": "code",
   "execution_count": null,
   "id": "extra-executive",
   "metadata": {
    "papermill": {
     "duration": 0.022167,
     "end_time": "2021-10-13T10:30:10.802357",
     "exception": false,
     "start_time": "2021-10-13T10:30:10.780190",
     "status": "completed"
    },
    "tags": []
   },
   "outputs": [],
   "source": []
  }
 ],
 "metadata": {
  "kernelspec": {
   "display_name": "Python 3",
   "language": "python",
   "name": "python3"
  },
  "language_info": {
   "codemirror_mode": {
    "name": "ipython",
    "version": 3
   },
   "file_extension": ".py",
   "mimetype": "text/x-python",
   "name": "python",
   "nbconvert_exporter": "python",
   "pygments_lexer": "ipython3",
   "version": "3.9.5"
  },
  "papermill": {
   "default_parameters": {},
   "duration": 7.815056,
   "end_time": "2021-10-13T10:30:12.138231",
   "environment_variables": {},
   "exception": null,
   "input_path": "eBay_Overview.ipynb",
   "output_path": "eBay_Overview.ipynb",
   "parameters": {},
   "start_time": "2021-10-13T10:30:04.323175",
   "version": "2.3.3"
  }
 },
 "nbformat": 4,
 "nbformat_minor": 5
}