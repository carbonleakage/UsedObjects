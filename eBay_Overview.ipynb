{
 "cells": [
  {
   "cell_type": "code",
   "execution_count": 1,
   "id": "reverse-picking",
   "metadata": {
    "execution": {
     "iopub.execute_input": "2021-10-18T16:30:07.130361Z",
     "iopub.status.busy": "2021-10-18T16:30:07.128286Z",
     "iopub.status.idle": "2021-10-18T16:30:07.933412Z",
     "shell.execute_reply": "2021-10-18T16:30:07.934710Z"
    },
    "papermill": {
     "duration": 0.85582,
     "end_time": "2021-10-18T16:30:07.935316",
     "exception": false,
     "start_time": "2021-10-18T16:30:07.079496",
     "status": "completed"
    },
    "tags": []
   },
   "outputs": [],
   "source": [
    "import pandas as pd\n",
    "import sqlite3"
   ]
  },
  {
   "cell_type": "code",
   "execution_count": 2,
   "id": "innovative-syndrome",
   "metadata": {
    "execution": {
     "iopub.execute_input": "2021-10-18T16:30:07.989019Z",
     "iopub.status.busy": "2021-10-18T16:30:07.986643Z",
     "iopub.status.idle": "2021-10-18T16:30:08.564439Z",
     "shell.execute_reply": "2021-10-18T16:30:08.565877Z"
    },
    "papermill": {
     "duration": 0.607764,
     "end_time": "2021-10-18T16:30:08.566298",
     "exception": false,
     "start_time": "2021-10-18T16:30:07.958534",
     "status": "completed"
    },
    "tags": []
   },
   "outputs": [],
   "source": [
    "timestamps = pd.read_sql(\"select distinct record_time from EBAY_TOP_BERLIN order by record_time desc limit 2\", sqlite3.connect(\"UsedObjects.db\"))"
   ]
  },
  {
   "cell_type": "code",
   "execution_count": 3,
   "id": "periodic-identification",
   "metadata": {
    "execution": {
     "iopub.execute_input": "2021-10-18T16:30:08.641490Z",
     "iopub.status.busy": "2021-10-18T16:30:08.639308Z",
     "iopub.status.idle": "2021-10-18T16:30:08.659337Z",
     "shell.execute_reply": "2021-10-18T16:30:08.660618Z"
    },
    "papermill": {
     "duration": 0.069765,
     "end_time": "2021-10-18T16:30:08.661105",
     "exception": false,
     "start_time": "2021-10-18T16:30:08.591340",
     "status": "completed"
    },
    "tags": []
   },
   "outputs": [
    {
     "data": {
      "text/html": [
       "<div>\n",
       "<style scoped>\n",
       "    .dataframe tbody tr th:only-of-type {\n",
       "        vertical-align: middle;\n",
       "    }\n",
       "\n",
       "    .dataframe tbody tr th {\n",
       "        vertical-align: top;\n",
       "    }\n",
       "\n",
       "    .dataframe thead th {\n",
       "        text-align: right;\n",
       "    }\n",
       "</style>\n",
       "<table border=\"1\" class=\"dataframe\">\n",
       "  <thead>\n",
       "    <tr style=\"text-align: right;\">\n",
       "      <th></th>\n",
       "      <th>RECORD_TIME</th>\n",
       "    </tr>\n",
       "  </thead>\n",
       "  <tbody>\n",
       "    <tr>\n",
       "      <th>0</th>\n",
       "      <td>2021-10-18 18:30</td>\n",
       "    </tr>\n",
       "    <tr>\n",
       "      <th>1</th>\n",
       "      <td>2021-10-18 18:00</td>\n",
       "    </tr>\n",
       "  </tbody>\n",
       "</table>\n",
       "</div>"
      ],
      "text/plain": [
       "        RECORD_TIME\n",
       "0  2021-10-18 18:30\n",
       "1  2021-10-18 18:00"
      ]
     },
     "execution_count": 3,
     "metadata": {},
     "output_type": "execute_result"
    }
   ],
   "source": [
    "timestamps"
   ]
  },
  {
   "cell_type": "code",
   "execution_count": 4,
   "id": "alternate-victory",
   "metadata": {
    "execution": {
     "iopub.execute_input": "2021-10-18T16:30:08.712578Z",
     "iopub.status.busy": "2021-10-18T16:30:08.710751Z",
     "iopub.status.idle": "2021-10-18T16:30:09.563457Z",
     "shell.execute_reply": "2021-10-18T16:30:09.564669Z"
    },
    "papermill": {
     "duration": 0.882744,
     "end_time": "2021-10-18T16:30:09.565271",
     "exception": false,
     "start_time": "2021-10-18T16:30:08.682527",
     "status": "completed"
    },
    "tags": []
   },
   "outputs": [],
   "source": [
    "df = pd.read_sql(\"select * from EBAY_TOP_BERLIN where record_time in (select distinct record_time from EBAY_TOP_BERLIN order by record_time desc limit 2)\", sqlite3.connect(\"UsedObjects.db\"))"
   ]
  },
  {
   "cell_type": "code",
   "execution_count": 5,
   "id": "popular-active",
   "metadata": {
    "execution": {
     "iopub.execute_input": "2021-10-18T16:30:09.638241Z",
     "iopub.status.busy": "2021-10-18T16:30:09.626013Z",
     "iopub.status.idle": "2021-10-18T16:30:09.653946Z",
     "shell.execute_reply": "2021-10-18T16:30:09.655181Z"
    },
    "papermill": {
     "duration": 0.068348,
     "end_time": "2021-10-18T16:30:09.655564",
     "exception": false,
     "start_time": "2021-10-18T16:30:09.587216",
     "status": "completed"
    },
    "tags": []
   },
   "outputs": [],
   "source": [
    "df_pivot = df.pivot_table(index=\"PRODUCT\", columns = \"RECORD_TIME\", values = \"LISTING_COUNT\")"
   ]
  },
  {
   "cell_type": "code",
   "execution_count": 6,
   "id": "union-huntington",
   "metadata": {
    "execution": {
     "iopub.execute_input": "2021-10-18T16:30:09.714824Z",
     "iopub.status.busy": "2021-10-18T16:30:09.712329Z",
     "iopub.status.idle": "2021-10-18T16:30:09.718310Z",
     "shell.execute_reply": "2021-10-18T16:30:09.719584Z"
    },
    "papermill": {
     "duration": 0.042094,
     "end_time": "2021-10-18T16:30:09.719987",
     "exception": false,
     "start_time": "2021-10-18T16:30:09.677893",
     "status": "completed"
    },
    "tags": []
   },
   "outputs": [],
   "source": [
    "df_pivot.columns = [\"stamp_1\", \"stamp_2\"]\n",
    "df_pivot_diff = df_pivot.diff(axis=1)"
   ]
  },
  {
   "cell_type": "code",
   "execution_count": 7,
   "id": "fifth-motion",
   "metadata": {
    "execution": {
     "iopub.execute_input": "2021-10-18T16:30:09.772826Z",
     "iopub.status.busy": "2021-10-18T16:30:09.770511Z",
     "iopub.status.idle": "2021-10-18T16:30:11.258268Z",
     "shell.execute_reply": "2021-10-18T16:30:11.259545Z"
    },
    "papermill": {
     "duration": 1.520217,
     "end_time": "2021-10-18T16:30:11.259946",
     "exception": false,
     "start_time": "2021-10-18T16:30:09.739729",
     "status": "completed"
    },
    "tags": []
   },
   "outputs": [
    {
     "data": {
      "text/plain": [
       "<AxesSubplot:ylabel='PRODUCT'>"
      ]
     },
     "execution_count": 7,
     "metadata": {},
     "output_type": "execute_result"
    },
    {
     "data": {
      "image/png": "[encoded data removed]",
      "text/plain": [
       "<Figure size 432x288 with 1 Axes>"
      ]
     },
     "metadata": {
      "needs_background": "light"
     },
     "output_type": "display_data"
    }
   ],
   "source": [
    "df_pivot_diff.sort_values(\"stamp_2\", ascending = False)[\"stamp_2\"].head(10).plot.barh()"
   ]
  },
  {
   "cell_type": "code",
   "execution_count": null,
   "id": "extra-executive",
   "metadata": {
    "papermill": {
     "duration": 0.022086,
     "end_time": "2021-10-18T16:30:11.306596",
     "exception": false,
     "start_time": "2021-10-18T16:30:11.284510",
     "status": "completed"
    },
    "tags": []
   },
   "outputs": [],
   "source": []
  }
 ],
 "metadata": {
  "kernelspec": {
   "display_name": "Python 3",
   "language": "python",
   "name": "python3"
  },
  "language_info": {
   "codemirror_mode": {
    "name": "ipython",
    "version": 3
   },
   "file_extension": ".py",
   "mimetype": "text/x-python",
   "name": "python",
   "nbconvert_exporter": "python",
   "pygments_lexer": "ipython3",
   "version": "3.9.5"
  },
  "papermill": {
   "default_parameters": {},
   "duration": 7.819887,
   "end_time": "2021-10-18T16:30:12.501294",
   "environment_variables": {},
   "exception": null,
   "input_path": "eBay_Overview.ipynb",
   "output_path": "eBay_Overview.ipynb",
   "parameters": {},
   "start_time": "2021-10-18T16:30:04.681407",
   "version": "2.3.3"
  }
 },
 "nbformat": 4,
 "nbformat_minor": 5
}