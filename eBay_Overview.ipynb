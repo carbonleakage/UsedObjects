{
 "cells": [
  {
   "cell_type": "code",
   "execution_count": 1,
   "id": "reverse-picking",
   "metadata": {
    "execution": {
     "iopub.execute_input": "2021-10-25T11:30:06.662697Z",
     "iopub.status.busy": "2021-10-25T11:30:06.660749Z",
     "iopub.status.idle": "2021-10-25T11:30:07.470285Z",
     "shell.execute_reply": "2021-10-25T11:30:07.471542Z"
    },
    "papermill": {
     "duration": 0.862271,
     "end_time": "2021-10-25T11:30:07.472156",
     "exception": false,
     "start_time": "2021-10-25T11:30:06.609885",
     "status": "completed"
    },
    "tags": []
   },
   "outputs": [],
   "source": [
    "import pandas as pd\n",
    "import sqlite3"
   ]
  },
  {
   "cell_type": "code",
   "execution_count": 2,
   "id": "innovative-syndrome",
   "metadata": {
    "execution": {
     "iopub.execute_input": "2021-10-25T11:30:07.525680Z",
     "iopub.status.busy": "2021-10-25T11:30:07.523302Z",
     "iopub.status.idle": "2021-10-25T11:30:08.153165Z",
     "shell.execute_reply": "2021-10-25T11:30:08.154402Z"
    },
    "papermill": {
     "duration": 0.660352,
     "end_time": "2021-10-25T11:30:08.154804",
     "exception": false,
     "start_time": "2021-10-25T11:30:07.494452",
     "status": "completed"
    },
    "tags": []
   },
   "outputs": [],
   "source": [
    "timestamps = pd.read_sql(\"select distinct record_time from EBAY_TOP_BERLIN order by record_time desc limit 2\", sqlite3.connect(\"UsedObjects.db\"))"
   ]
  },
  {
   "cell_type": "code",
   "execution_count": 3,
   "id": "periodic-identification",
   "metadata": {
    "execution": {
     "iopub.execute_input": "2021-10-25T11:30:08.231282Z",
     "iopub.status.busy": "2021-10-25T11:30:08.229261Z",
     "iopub.status.idle": "2021-10-25T11:30:08.249244Z",
     "shell.execute_reply": "2021-10-25T11:30:08.251075Z"
    },
    "papermill": {
     "duration": 0.068894,
     "end_time": "2021-10-25T11:30:08.251615",
     "exception": false,
     "start_time": "2021-10-25T11:30:08.182721",
     "status": "completed"
    },
    "tags": []
   },
   "outputs": [
    {
     "data": {
      "text/html": [
       "<div>\n",
       "<style scoped>\n",
       "    .dataframe tbody tr th:only-of-type {\n",
       "        vertical-align: middle;\n",
       "    }\n",
       "\n",
       "    .dataframe tbody tr th {\n",
       "        vertical-align: top;\n",
       "    }\n",
       "\n",
       "    .dataframe thead th {\n",
       "        text-align: right;\n",
       "    }\n",
       "</style>\n",
       "<table border=\"1\" class=\"dataframe\">\n",
       "  <thead>\n",
       "    <tr style=\"text-align: right;\">\n",
       "      <th></th>\n",
       "      <th>RECORD_TIME</th>\n",
       "    </tr>\n",
       "  </thead>\n",
       "  <tbody>\n",
       "    <tr>\n",
       "      <th>0</th>\n",
       "      <td>2021-10-25 13:30</td>\n",
       "    </tr>\n",
       "    <tr>\n",
       "      <th>1</th>\n",
       "      <td>2021-10-25 13:00</td>\n",
       "    </tr>\n",
       "  </tbody>\n",
       "</table>\n",
       "</div>"
      ],
      "text/plain": [
       "        RECORD_TIME\n",
       "0  2021-10-25 13:30\n",
       "1  2021-10-25 13:00"
      ]
     },
     "execution_count": 3,
     "metadata": {},
     "output_type": "execute_result"
    }
   ],
   "source": [
    "timestamps"
   ]
  },
  {
   "cell_type": "code",
   "execution_count": 4,
   "id": "alternate-victory",
   "metadata": {
    "execution": {
     "iopub.execute_input": "2021-10-25T11:30:08.304621Z",
     "iopub.status.busy": "2021-10-25T11:30:08.302764Z",
     "iopub.status.idle": "2021-10-25T11:30:09.242232Z",
     "shell.execute_reply": "2021-10-25T11:30:09.243355Z"
    },
    "papermill": {
     "duration": 0.969325,
     "end_time": "2021-10-25T11:30:09.243770",
     "exception": false,
     "start_time": "2021-10-25T11:30:08.274445",
     "status": "completed"
    },
    "tags": []
   },
   "outputs": [],
   "source": [
    "df = pd.read_sql(\"select * from EBAY_TOP_BERLIN where record_time in (select distinct record_time from EBAY_TOP_BERLIN order by record_time desc limit 2)\", sqlite3.connect(\"UsedObjects.db\"))"
   ]
  },
  {
   "cell_type": "code",
   "execution_count": 5,
   "id": "popular-active",
   "metadata": {
    "execution": {
     "iopub.execute_input": "2021-10-25T11:30:09.312659Z",
     "iopub.status.busy": "2021-10-25T11:30:09.306194Z",
     "iopub.status.idle": "2021-10-25T11:30:09.335500Z",
     "shell.execute_reply": "2021-10-25T11:30:09.334185Z"
    },
    "papermill": {
     "duration": 0.068442,
     "end_time": "2021-10-25T11:30:09.335842",
     "exception": false,
     "start_time": "2021-10-25T11:30:09.267400",
     "status": "completed"
    },
    "tags": []
   },
   "outputs": [],
   "source": [
    "df_pivot = df.pivot_table(index=\"PRODUCT\", columns = \"RECORD_TIME\", values = \"LISTING_COUNT\")"
   ]
  },
  {
   "cell_type": "code",
   "execution_count": 6,
   "id": "union-huntington",
   "metadata": {
    "execution": {
     "iopub.execute_input": "2021-10-25T11:30:09.391925Z",
     "iopub.status.busy": "2021-10-25T11:30:09.389866Z",
     "iopub.status.idle": "2021-10-25T11:30:09.395078Z",
     "shell.execute_reply": "2021-10-25T11:30:09.396361Z"
    },
    "papermill": {
     "duration": 0.040397,
     "end_time": "2021-10-25T11:30:09.396952",
     "exception": false,
     "start_time": "2021-10-25T11:30:09.356555",
     "status": "completed"
    },
    "tags": []
   },
   "outputs": [],
   "source": [
    "df_pivot.columns = [\"stamp_1\", \"stamp_2\"]\n",
    "df_pivot_diff = df_pivot.diff(axis=1)"
   ]
  },
  {
   "cell_type": "code",
   "execution_count": 7,
   "id": "fifth-motion",
   "metadata": {
    "execution": {
     "iopub.execute_input": "2021-10-25T11:30:09.453142Z",
     "iopub.status.busy": "2021-10-25T11:30:09.450390Z",
     "iopub.status.idle": "2021-10-25T11:30:10.927017Z",
     "shell.execute_reply": "2021-10-25T11:30:10.928317Z"
    },
    "papermill": {
     "duration": 1.510716,
     "end_time": "2021-10-25T11:30:10.928810",
     "exception": false,
     "start_time": "2021-10-25T11:30:09.418094",
     "status": "completed"
    },
    "tags": []
   },
   "outputs": [
    {
     "data": {
      "text/plain": [
       "<AxesSubplot:ylabel='PRODUCT'>"
      ]
     },
     "execution_count": 7,
     "metadata": {},
     "output_type": "execute_result"
    },
    {
     "data": {
      "image/png": "[encoded data removed]",
      "text/plain": [
       "<Figure size 432x288 with 1 Axes>"
      ]
     },
     "metadata": {
      "needs_background": "light"
     },
     "output_type": "display_data"
    }
   ],
   "source": [
    "df_pivot_diff.sort_values(\"stamp_2\", ascending = False)[\"stamp_2\"].head(10).plot.barh()"
   ]
  },
  {
   "cell_type": "code",
   "execution_count": null,
   "id": "extra-executive",
   "metadata": {
    "papermill": {
     "duration": 0.022317,
     "end_time": "2021-10-25T11:30:10.976044",
     "exception": false,
     "start_time": "2021-10-25T11:30:10.953727",
     "status": "completed"
    },
    "tags": []
   },
   "outputs": [],
   "source": []
  }
 ],
 "metadata": {
  "kernelspec": {
   "display_name": "Python 3",
   "language": "python",
   "name": "python3"
  },
  "language_info": {
   "codemirror_mode": {
    "name": "ipython",
    "version": 3
   },
   "file_extension": ".py",
   "mimetype": "text/x-python",
   "name": "python",
   "nbconvert_exporter": "python",
   "pygments_lexer": "ipython3",
   "version": "3.9.5"
  },
  "papermill": {
   "default_parameters": {},
   "duration": 7.424768,
   "end_time": "2021-10-25T11:30:11.617099",
   "environment_variables": {},
   "exception": null,
   "input_path": "eBay_Overview.ipynb",
   "output_path": "eBay_Overview.ipynb",
   "parameters": {},
   "start_time": "2021-10-25T11:30:04.192331",
   "version": "2.3.3"
  }
 },
 "nbformat": 4,
 "nbformat_minor": 5
}