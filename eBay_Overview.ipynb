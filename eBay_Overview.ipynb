{
 "cells": [
  {
   "cell_type": "code",
   "execution_count": 1,
   "id": "reverse-picking",
   "metadata": {
    "execution": {
     "iopub.execute_input": "2021-08-23T12:30:06.723796Z",
     "iopub.status.busy": "2021-08-23T12:30:06.721748Z",
     "iopub.status.idle": "2021-08-23T12:30:07.527687Z",
     "shell.execute_reply": "2021-08-23T12:30:07.528925Z"
    },
    "papermill": {
     "duration": 0.856343,
     "end_time": "2021-08-23T12:30:07.529541",
     "exception": false,
     "start_time": "2021-08-23T12:30:06.673198",
     "status": "completed"
    },
    "tags": []
   },
   "outputs": [],
   "source": [
    "import pandas as pd\n",
    "import sqlite3"
   ]
  },
  {
   "cell_type": "code",
   "execution_count": 2,
   "id": "innovative-syndrome",
   "metadata": {
    "execution": {
     "iopub.execute_input": "2021-08-23T12:30:07.579660Z",
     "iopub.status.busy": "2021-08-23T12:30:07.577398Z",
     "iopub.status.idle": "2021-08-23T12:30:07.688337Z",
     "shell.execute_reply": "2021-08-23T12:30:07.689526Z"
    },
    "papermill": {
     "duration": 0.140304,
     "end_time": "2021-08-23T12:30:07.689986",
     "exception": false,
     "start_time": "2021-08-23T12:30:07.549682",
     "status": "completed"
    },
    "tags": []
   },
   "outputs": [],
   "source": [
    "timestamps = pd.read_sql(\"select distinct record_time from EBAY_TOP_BERLIN order by record_time desc limit 2\", sqlite3.connect(\"UsedObjects.db\"))"
   ]
  },
  {
   "cell_type": "code",
   "execution_count": 3,
   "id": "periodic-identification",
   "metadata": {
    "execution": {
     "iopub.execute_input": "2021-08-23T12:30:07.758627Z",
     "iopub.status.busy": "2021-08-23T12:30:07.753274Z",
     "iopub.status.idle": "2021-08-23T12:30:07.774661Z",
     "shell.execute_reply": "2021-08-23T12:30:07.773228Z"
    },
    "papermill": {
     "duration": 0.064179,
     "end_time": "2021-08-23T12:30:07.775012",
     "exception": false,
     "start_time": "2021-08-23T12:30:07.710833",
     "status": "completed"
    },
    "tags": []
   },
   "outputs": [
    {
     "data": {
      "text/html": [
       "<div>\n",
       "<style scoped>\n",
       "    .dataframe tbody tr th:only-of-type {\n",
       "        vertical-align: middle;\n",
       "    }\n",
       "\n",
       "    .dataframe tbody tr th {\n",
       "        vertical-align: top;\n",
       "    }\n",
       "\n",
       "    .dataframe thead th {\n",
       "        text-align: right;\n",
       "    }\n",
       "</style>\n",
       "<table border=\"1\" class=\"dataframe\">\n",
       "  <thead>\n",
       "    <tr style=\"text-align: right;\">\n",
       "      <th></th>\n",
       "      <th>RECORD_TIME</th>\n",
       "    </tr>\n",
       "  </thead>\n",
       "  <tbody>\n",
       "    <tr>\n",
       "      <th>0</th>\n",
       "      <td>2021-08-23 14:30</td>\n",
       "    </tr>\n",
       "    <tr>\n",
       "      <th>1</th>\n",
       "      <td>2021-08-23 14:00</td>\n",
       "    </tr>\n",
       "  </tbody>\n",
       "</table>\n",
       "</div>"
      ],
      "text/plain": [
       "        RECORD_TIME\n",
       "0  2021-08-23 14:30\n",
       "1  2021-08-23 14:00"
      ]
     },
     "execution_count": 3,
     "metadata": {},
     "output_type": "execute_result"
    }
   ],
   "source": [
    "timestamps"
   ]
  },
  {
   "cell_type": "code",
   "execution_count": 4,
   "id": "alternate-victory",
   "metadata": {
    "execution": {
     "iopub.execute_input": "2021-08-23T12:30:07.826095Z",
     "iopub.status.busy": "2021-08-23T12:30:07.824105Z",
     "iopub.status.idle": "2021-08-23T12:30:07.992586Z",
     "shell.execute_reply": "2021-08-23T12:30:07.993783Z"
    },
    "papermill": {
     "duration": 0.19862,
     "end_time": "2021-08-23T12:30:07.994373",
     "exception": false,
     "start_time": "2021-08-23T12:30:07.795753",
     "status": "completed"
    },
    "tags": []
   },
   "outputs": [],
   "source": [
    "df = pd.read_sql(\"select * from EBAY_TOP_BERLIN where record_time in (select distinct record_time from EBAY_TOP_BERLIN order by record_time desc limit 2)\", sqlite3.connect(\"UsedObjects.db\"))"
   ]
  },
  {
   "cell_type": "code",
   "execution_count": 5,
   "id": "popular-active",
   "metadata": {
    "execution": {
     "iopub.execute_input": "2021-08-23T12:30:08.067554Z",
     "iopub.status.busy": "2021-08-23T12:30:08.055539Z",
     "iopub.status.idle": "2021-08-23T12:30:08.082908Z",
     "shell.execute_reply": "2021-08-23T12:30:08.084114Z"
    },
    "papermill": {
     "duration": 0.067484,
     "end_time": "2021-08-23T12:30:08.084514",
     "exception": false,
     "start_time": "2021-08-23T12:30:08.017030",
     "status": "completed"
    },
    "tags": []
   },
   "outputs": [],
   "source": [
    "df_pivot = df.pivot_table(index=\"PRODUCT\", columns = \"RECORD_TIME\", values = \"LISTING_COUNT\")"
   ]
  },
  {
   "cell_type": "code",
   "execution_count": 6,
   "id": "union-huntington",
   "metadata": {
    "execution": {
     "iopub.execute_input": "2021-08-23T12:30:08.144652Z",
     "iopub.status.busy": "2021-08-23T12:30:08.142215Z",
     "iopub.status.idle": "2021-08-23T12:30:08.148308Z",
     "shell.execute_reply": "2021-08-23T12:30:08.149561Z"
    },
    "papermill": {
     "duration": 0.042462,
     "end_time": "2021-08-23T12:30:08.150056",
     "exception": false,
     "start_time": "2021-08-23T12:30:08.107594",
     "status": "completed"
    },
    "tags": []
   },
   "outputs": [],
   "source": [
    "df_pivot.columns = [\"stamp_1\", \"stamp_2\"]\n",
    "df_pivot_diff = df_pivot.diff(axis=1)"
   ]
  },
  {
   "cell_type": "code",
   "execution_count": 7,
   "id": "fifth-motion",
   "metadata": {
    "execution": {
     "iopub.execute_input": "2021-08-23T12:30:08.207390Z",
     "iopub.status.busy": "2021-08-23T12:30:08.204966Z",
     "iopub.status.idle": "2021-08-23T12:30:09.705628Z",
     "shell.execute_reply": "2021-08-23T12:30:09.707127Z"
    },
    "papermill": {
     "duration": 1.533551,
     "end_time": "2021-08-23T12:30:09.707588",
     "exception": false,
     "start_time": "2021-08-23T12:30:08.174037",
     "status": "completed"
    },
    "tags": []
   },
   "outputs": [
    {
     "data": {
      "text/plain": [
       "<AxesSubplot:ylabel='PRODUCT'>"
      ]
     },
     "execution_count": 7,
     "metadata": {},
     "output_type": "execute_result"
    },
    {
     "data": {
      "image/png": "[encoded data removed]",
      "text/plain": [
       "<Figure size 432x288 with 1 Axes>"
      ]
     },
     "metadata": {
      "needs_background": "light"
     },
     "output_type": "display_data"
    }
   ],
   "source": [
    "df_pivot_diff.sort_values(\"stamp_2\", ascending = False)[\"stamp_2\"].head(10).plot.barh()"
   ]
  },
  {
   "cell_type": "code",
   "execution_count": null,
   "id": "extra-executive",
   "metadata": {
    "papermill": {
     "duration": 0.022316,
     "end_time": "2021-08-23T12:30:09.754709",
     "exception": false,
     "start_time": "2021-08-23T12:30:09.732393",
     "status": "completed"
    },
    "tags": []
   },
   "outputs": [],
   "source": []
  }
 ],
 "metadata": {
  "kernelspec": {
   "display_name": "Python 3",
   "language": "python",
   "name": "python3"
  },
  "language_info": {
   "codemirror_mode": {
    "name": "ipython",
    "version": 3
   },
   "file_extension": ".py",
   "mimetype": "text/x-python",
   "name": "python",
   "nbconvert_exporter": "python",
   "pygments_lexer": "ipython3",
   "version": "3.9.5"
  },
  "papermill": {
   "default_parameters": {},
   "duration": 6.826081,
   "end_time": "2021-08-23T12:30:11.082084",
   "environment_variables": {},
   "exception": null,
   "input_path": "eBay_Overview.ipynb",
   "output_path": "eBay_Overview.ipynb",
   "parameters": {},
   "start_time": "2021-08-23T12:30:04.256003",
   "version": "2.3.3"
  }
 },
 "nbformat": 4,
 "nbformat_minor": 5
}