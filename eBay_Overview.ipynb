{
 "cells": [
  {
   "cell_type": "code",
   "execution_count": 1,
   "id": "reverse-picking",
   "metadata": {
    "execution": {
     "iopub.execute_input": "2021-12-13T02:30:07.911402Z",
     "iopub.status.busy": "2021-12-13T02:30:07.909034Z",
     "iopub.status.idle": "2021-12-13T02:30:08.867127Z",
     "shell.execute_reply": "2021-12-13T02:30:08.868819Z"
    },
    "papermill": {
     "duration": 1.008038,
     "end_time": "2021-12-13T02:30:08.869559",
     "exception": false,
     "start_time": "2021-12-13T02:30:07.861521",
     "status": "completed"
    },
    "tags": []
   },
   "outputs": [],
   "source": [
    "import pandas as pd\n",
    "import sqlite3"
   ]
  },
  {
   "cell_type": "code",
   "execution_count": 2,
   "id": "innovative-syndrome",
   "metadata": {
    "execution": {
     "iopub.execute_input": "2021-12-13T02:30:08.938025Z",
     "iopub.status.busy": "2021-12-13T02:30:08.935683Z",
     "iopub.status.idle": "2021-12-13T02:30:10.009983Z",
     "shell.execute_reply": "2021-12-13T02:30:10.011984Z"
    },
    "papermill": {
     "duration": 1.108632,
     "end_time": "2021-12-13T02:30:10.012444",
     "exception": false,
     "start_time": "2021-12-13T02:30:08.903812",
     "status": "completed"
    },
    "tags": []
   },
   "outputs": [],
   "source": [
    "timestamps = pd.read_sql(\"select distinct record_time from EBAY_TOP_BERLIN order by record_time desc limit 2\", sqlite3.connect(\"UsedObjects.db\"))"
   ]
  },
  {
   "cell_type": "code",
   "execution_count": 3,
   "id": "periodic-identification",
   "metadata": {
    "execution": {
     "iopub.execute_input": "2021-12-13T02:30:10.084993Z",
     "iopub.status.busy": "2021-12-13T02:30:10.082625Z",
     "iopub.status.idle": "2021-12-13T02:30:10.105697Z",
     "shell.execute_reply": "2021-12-13T02:30:10.107461Z"
    },
    "papermill": {
     "duration": 0.076083,
     "end_time": "2021-12-13T02:30:10.107959",
     "exception": false,
     "start_time": "2021-12-13T02:30:10.031876",
     "status": "completed"
    },
    "tags": []
   },
   "outputs": [
    {
     "data": {
      "text/html": [
       "<div>\n",
       "<style scoped>\n",
       "    .dataframe tbody tr th:only-of-type {\n",
       "        vertical-align: middle;\n",
       "    }\n",
       "\n",
       "    .dataframe tbody tr th {\n",
       "        vertical-align: top;\n",
       "    }\n",
       "\n",
       "    .dataframe thead th {\n",
       "        text-align: right;\n",
       "    }\n",
       "</style>\n",
       "<table border=\"1\" class=\"dataframe\">\n",
       "  <thead>\n",
       "    <tr style=\"text-align: right;\">\n",
       "      <th></th>\n",
       "      <th>RECORD_TIME</th>\n",
       "    </tr>\n",
       "  </thead>\n",
       "  <tbody>\n",
       "    <tr>\n",
       "      <th>0</th>\n",
       "      <td>2021-12-13 03:30</td>\n",
       "    </tr>\n",
       "    <tr>\n",
       "      <th>1</th>\n",
       "      <td>2021-12-13 03:00</td>\n",
       "    </tr>\n",
       "  </tbody>\n",
       "</table>\n",
       "</div>"
      ],
      "text/plain": [
       "        RECORD_TIME\n",
       "0  2021-12-13 03:30\n",
       "1  2021-12-13 03:00"
      ]
     },
     "execution_count": 3,
     "metadata": {},
     "output_type": "execute_result"
    }
   ],
   "source": [
    "timestamps"
   ]
  },
  {
   "cell_type": "code",
   "execution_count": 4,
   "id": "alternate-victory",
   "metadata": {
    "execution": {
     "iopub.execute_input": "2021-12-13T02:30:10.164658Z",
     "iopub.status.busy": "2021-12-13T02:30:10.162520Z",
     "iopub.status.idle": "2021-12-13T02:30:11.690220Z",
     "shell.execute_reply": "2021-12-13T02:30:11.691885Z"
    },
    "papermill": {
     "duration": 1.563172,
     "end_time": "2021-12-13T02:30:11.692361",
     "exception": false,
     "start_time": "2021-12-13T02:30:10.129189",
     "status": "completed"
    },
    "tags": []
   },
   "outputs": [],
   "source": [
    "df = pd.read_sql(\"select * from EBAY_TOP_BERLIN where record_time in (select distinct record_time from EBAY_TOP_BERLIN order by record_time desc limit 2)\", sqlite3.connect(\"UsedObjects.db\"))"
   ]
  },
  {
   "cell_type": "code",
   "execution_count": 5,
   "id": "popular-active",
   "metadata": {
    "execution": {
     "iopub.execute_input": "2021-12-13T02:30:11.770802Z",
     "iopub.status.busy": "2021-12-13T02:30:11.756200Z",
     "iopub.status.idle": "2021-12-13T02:30:11.790504Z",
     "shell.execute_reply": "2021-12-13T02:30:11.792095Z"
    },
    "papermill": {
     "duration": 0.079999,
     "end_time": "2021-12-13T02:30:11.792613",
     "exception": false,
     "start_time": "2021-12-13T02:30:11.712614",
     "status": "completed"
    },
    "tags": []
   },
   "outputs": [],
   "source": [
    "df_pivot = df.pivot_table(index=\"PRODUCT\", columns = \"RECORD_TIME\", values = \"LISTING_COUNT\")"
   ]
  },
  {
   "cell_type": "code",
   "execution_count": 6,
   "id": "union-huntington",
   "metadata": {
    "execution": {
     "iopub.execute_input": "2021-12-13T02:30:11.854548Z",
     "iopub.status.busy": "2021-12-13T02:30:11.852260Z",
     "iopub.status.idle": "2021-12-13T02:30:11.858674Z",
     "shell.execute_reply": "2021-12-13T02:30:11.860265Z"
    },
    "papermill": {
     "duration": 0.046898,
     "end_time": "2021-12-13T02:30:11.860812",
     "exception": false,
     "start_time": "2021-12-13T02:30:11.813914",
     "status": "completed"
    },
    "tags": []
   },
   "outputs": [],
   "source": [
    "df_pivot.columns = [\"stamp_1\", \"stamp_2\"]\n",
    "df_pivot_diff = df_pivot.diff(axis=1)"
   ]
  },
  {
   "cell_type": "code",
   "execution_count": 7,
   "id": "fifth-motion",
   "metadata": {
    "execution": {
     "iopub.execute_input": "2021-12-13T02:30:11.918594Z",
     "iopub.status.busy": "2021-12-13T02:30:11.915984Z",
     "iopub.status.idle": "2021-12-13T02:30:13.899629Z",
     "shell.execute_reply": "2021-12-13T02:30:13.896575Z"
    },
    "papermill": {
     "duration": 2.018059,
     "end_time": "2021-12-13T02:30:13.900332",
     "exception": false,
     "start_time": "2021-12-13T02:30:11.882273",
     "status": "completed"
    },
    "tags": []
   },
   "outputs": [
    {
     "data": {
      "text/plain": [
       "<AxesSubplot:ylabel='PRODUCT'>"
      ]
     },
     "execution_count": 7,
     "metadata": {},
     "output_type": "execute_result"
    },
    {
     "data": {
      "image/png": "[encoded data removed]",
      "text/plain": [
       "<Figure size 432x288 with 1 Axes>"
      ]
     },
     "metadata": {
      "needs_background": "light"
     },
     "output_type": "display_data"
    }
   ],
   "source": [
    "df_pivot_diff.sort_values(\"stamp_2\", ascending = False)[\"stamp_2\"].head(10).plot.barh()"
   ]
  },
  {
   "cell_type": "code",
   "execution_count": null,
   "id": "extra-executive",
   "metadata": {
    "papermill": {
     "duration": 0.033862,
     "end_time": "2021-12-13T02:30:13.977454",
     "exception": false,
     "start_time": "2021-12-13T02:30:13.943592",
     "status": "completed"
    },
    "tags": []
   },
   "outputs": [],
   "source": []
  }
 ],
 "metadata": {
  "kernelspec": {
   "display_name": "Python 3",
   "language": "python",
   "name": "python3"
  },
  "language_info": {
   "codemirror_mode": {
    "name": "ipython",
    "version": 3
   },
   "file_extension": ".py",
   "mimetype": "text/x-python",
   "name": "python",
   "nbconvert_exporter": "python",
   "pygments_lexer": "ipython3",
   "version": "3.9.5"
  },
  "papermill": {
   "default_parameters": {},
   "duration": 9.798172,
   "end_time": "2021-12-13T02:30:14.812379",
   "environment_variables": {},
   "exception": null,
   "input_path": "eBay_Overview.ipynb",
   "output_path": "eBay_Overview.ipynb",
   "parameters": {},
   "start_time": "2021-12-13T02:30:05.014207",
   "version": "2.3.3"
  }
 },
 "nbformat": 4,
 "nbformat_minor": 5
}