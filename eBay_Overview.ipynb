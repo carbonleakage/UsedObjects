{
 "cells": [
  {
   "cell_type": "code",
   "execution_count": 1,
   "id": "reverse-picking",
   "metadata": {
    "execution": {
     "iopub.execute_input": "2021-09-29T06:30:08.492285Z",
     "iopub.status.busy": "2021-09-29T06:30:08.490217Z",
     "iopub.status.idle": "2021-09-29T06:30:09.297492Z",
     "shell.execute_reply": "2021-09-29T06:30:09.298744Z"
    },
    "papermill": {
     "duration": 0.859351,
     "end_time": "2021-09-29T06:30:09.299471",
     "exception": false,
     "start_time": "2021-09-29T06:30:08.440120",
     "status": "completed"
    },
    "tags": []
   },
   "outputs": [],
   "source": [
    "import pandas as pd\n",
    "import sqlite3"
   ]
  },
  {
   "cell_type": "code",
   "execution_count": 2,
   "id": "innovative-syndrome",
   "metadata": {
    "execution": {
     "iopub.execute_input": "2021-09-29T06:30:09.349788Z",
     "iopub.status.busy": "2021-09-29T06:30:09.347906Z",
     "iopub.status.idle": "2021-09-29T06:30:09.747782Z",
     "shell.execute_reply": "2021-09-29T06:30:09.749176Z"
    },
    "papermill": {
     "duration": 0.429835,
     "end_time": "2021-09-29T06:30:09.749611",
     "exception": false,
     "start_time": "2021-09-29T06:30:09.319776",
     "status": "completed"
    },
    "tags": []
   },
   "outputs": [],
   "source": [
    "timestamps = pd.read_sql(\"select distinct record_time from EBAY_TOP_BERLIN order by record_time desc limit 2\", sqlite3.connect(\"UsedObjects.db\"))"
   ]
  },
  {
   "cell_type": "code",
   "execution_count": 3,
   "id": "periodic-identification",
   "metadata": {
    "execution": {
     "iopub.execute_input": "2021-09-29T06:30:09.819574Z",
     "iopub.status.busy": "2021-09-29T06:30:09.814373Z",
     "iopub.status.idle": "2021-09-29T06:30:09.834593Z",
     "shell.execute_reply": "2021-09-29T06:30:09.835914Z"
    },
    "papermill": {
     "duration": 0.066836,
     "end_time": "2021-09-29T06:30:09.836347",
     "exception": false,
     "start_time": "2021-09-29T06:30:09.769511",
     "status": "completed"
    },
    "tags": []
   },
   "outputs": [
    {
     "data": {
      "text/html": [
       "<div>\n",
       "<style scoped>\n",
       "    .dataframe tbody tr th:only-of-type {\n",
       "        vertical-align: middle;\n",
       "    }\n",
       "\n",
       "    .dataframe tbody tr th {\n",
       "        vertical-align: top;\n",
       "    }\n",
       "\n",
       "    .dataframe thead th {\n",
       "        text-align: right;\n",
       "    }\n",
       "</style>\n",
       "<table border=\"1\" class=\"dataframe\">\n",
       "  <thead>\n",
       "    <tr style=\"text-align: right;\">\n",
       "      <th></th>\n",
       "      <th>RECORD_TIME</th>\n",
       "    </tr>\n",
       "  </thead>\n",
       "  <tbody>\n",
       "    <tr>\n",
       "      <th>0</th>\n",
       "      <td>2021-09-29 08:30</td>\n",
       "    </tr>\n",
       "    <tr>\n",
       "      <th>1</th>\n",
       "      <td>2021-09-29 08:00</td>\n",
       "    </tr>\n",
       "  </tbody>\n",
       "</table>\n",
       "</div>"
      ],
      "text/plain": [
       "        RECORD_TIME\n",
       "0  2021-09-29 08:30\n",
       "1  2021-09-29 08:00"
      ]
     },
     "execution_count": 3,
     "metadata": {},
     "output_type": "execute_result"
    }
   ],
   "source": [
    "timestamps"
   ]
  },
  {
   "cell_type": "code",
   "execution_count": 4,
   "id": "alternate-victory",
   "metadata": {
    "execution": {
     "iopub.execute_input": "2021-09-29T06:30:09.890564Z",
     "iopub.status.busy": "2021-09-29T06:30:09.888251Z",
     "iopub.status.idle": "2021-09-29T06:30:10.480768Z",
     "shell.execute_reply": "2021-09-29T06:30:10.482005Z"
    },
    "papermill": {
     "duration": 0.622926,
     "end_time": "2021-09-29T06:30:10.482400",
     "exception": false,
     "start_time": "2021-09-29T06:30:09.859474",
     "status": "completed"
    },
    "tags": []
   },
   "outputs": [],
   "source": [
    "df = pd.read_sql(\"select * from EBAY_TOP_BERLIN where record_time in (select distinct record_time from EBAY_TOP_BERLIN order by record_time desc limit 2)\", sqlite3.connect(\"UsedObjects.db\"))"
   ]
  },
  {
   "cell_type": "code",
   "execution_count": 5,
   "id": "popular-active",
   "metadata": {
    "execution": {
     "iopub.execute_input": "2021-09-29T06:30:10.562704Z",
     "iopub.status.busy": "2021-09-29T06:30:10.551573Z",
     "iopub.status.idle": "2021-09-29T06:30:10.578358Z",
     "shell.execute_reply": "2021-09-29T06:30:10.579875Z"
    },
    "papermill": {
     "duration": 0.071627,
     "end_time": "2021-09-29T06:30:10.580350",
     "exception": false,
     "start_time": "2021-09-29T06:30:10.508723",
     "status": "completed"
    },
    "tags": []
   },
   "outputs": [],
   "source": [
    "df_pivot = df.pivot_table(index=\"PRODUCT\", columns = \"RECORD_TIME\", values = \"LISTING_COUNT\")"
   ]
  },
  {
   "cell_type": "code",
   "execution_count": 6,
   "id": "union-huntington",
   "metadata": {
    "execution": {
     "iopub.execute_input": "2021-09-29T06:30:10.639038Z",
     "iopub.status.busy": "2021-09-29T06:30:10.636536Z",
     "iopub.status.idle": "2021-09-29T06:30:10.642401Z",
     "shell.execute_reply": "2021-09-29T06:30:10.643753Z"
    },
    "papermill": {
     "duration": 0.042494,
     "end_time": "2021-09-29T06:30:10.644169",
     "exception": false,
     "start_time": "2021-09-29T06:30:10.601675",
     "status": "completed"
    },
    "tags": []
   },
   "outputs": [],
   "source": [
    "df_pivot.columns = [\"stamp_1\", \"stamp_2\"]\n",
    "df_pivot_diff = df_pivot.diff(axis=1)"
   ]
  },
  {
   "cell_type": "code",
   "execution_count": 7,
   "id": "fifth-motion",
   "metadata": {
    "execution": {
     "iopub.execute_input": "2021-09-29T06:30:10.699017Z",
     "iopub.status.busy": "2021-09-29T06:30:10.696751Z",
     "iopub.status.idle": "2021-09-29T06:30:12.189276Z",
     "shell.execute_reply": "2021-09-29T06:30:12.190577Z"
    },
    "papermill": {
     "duration": 1.525218,
     "end_time": "2021-09-29T06:30:12.191061",
     "exception": false,
     "start_time": "2021-09-29T06:30:10.665843",
     "status": "completed"
    },
    "tags": []
   },
   "outputs": [
    {
     "data": {
      "text/plain": [
       "<AxesSubplot:ylabel='PRODUCT'>"
      ]
     },
     "execution_count": 7,
     "metadata": {},
     "output_type": "execute_result"
    },
    {
     "data": {
      "image/png": "[encoded data removed]",
      "text/plain": [
       "<Figure size 432x288 with 1 Axes>"
      ]
     },
     "metadata": {
      "needs_background": "light"
     },
     "output_type": "display_data"
    }
   ],
   "source": [
    "df_pivot_diff.sort_values(\"stamp_2\", ascending = False)[\"stamp_2\"].head(10).plot.barh()"
   ]
  },
  {
   "cell_type": "code",
   "execution_count": null,
   "id": "extra-executive",
   "metadata": {
    "papermill": {
     "duration": 0.022227,
     "end_time": "2021-09-29T06:30:12.237765",
     "exception": false,
     "start_time": "2021-09-29T06:30:12.215538",
     "status": "completed"
    },
    "tags": []
   },
   "outputs": [],
   "source": []
  }
 ],
 "metadata": {
  "kernelspec": {
   "display_name": "Python 3",
   "language": "python",
   "name": "python3"
  },
  "language_info": {
   "codemirror_mode": {
    "name": "ipython",
    "version": 3
   },
   "file_extension": ".py",
   "mimetype": "text/x-python",
   "name": "python",
   "nbconvert_exporter": "python",
   "pygments_lexer": "ipython3",
   "version": "3.9.5"
  },
  "papermill": {
   "default_parameters": {},
   "duration": 7.833433,
   "end_time": "2021-09-29T06:30:13.863244",
   "environment_variables": {},
   "exception": null,
   "input_path": "eBay_Overview.ipynb",
   "output_path": "eBay_Overview.ipynb",
   "parameters": {},
   "start_time": "2021-09-29T06:30:06.029811",
   "version": "2.3.3"
  }
 },
 "nbformat": 4,
 "nbformat_minor": 5
}