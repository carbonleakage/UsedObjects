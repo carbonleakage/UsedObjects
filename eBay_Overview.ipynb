{
 "cells": [
  {
   "cell_type": "code",
   "execution_count": 1,
   "id": "reverse-picking",
   "metadata": {
    "execution": {
     "iopub.execute_input": "2021-09-02T04:00:07.331231Z",
     "iopub.status.busy": "2021-09-02T04:00:07.329237Z",
     "iopub.status.idle": "2021-09-02T04:00:08.135994Z",
     "shell.execute_reply": "2021-09-02T04:00:08.134352Z"
    },
    "papermill": {
     "duration": 0.855637,
     "end_time": "2021-09-02T04:00:08.136412",
     "exception": false,
     "start_time": "2021-09-02T04:00:07.280775",
     "status": "completed"
    },
    "tags": []
   },
   "outputs": [],
   "source": [
    "import pandas as pd\n",
    "import sqlite3"
   ]
  },
  {
   "cell_type": "code",
   "execution_count": 2,
   "id": "innovative-syndrome",
   "metadata": {
    "execution": {
     "iopub.execute_input": "2021-09-02T04:00:08.189050Z",
     "iopub.status.busy": "2021-09-02T04:00:08.186789Z",
     "iopub.status.idle": "2021-09-02T04:00:08.371603Z",
     "shell.execute_reply": "2021-09-02T04:00:08.372815Z"
    },
    "papermill": {
     "duration": 0.214408,
     "end_time": "2021-09-02T04:00:08.373216",
     "exception": false,
     "start_time": "2021-09-02T04:00:08.158808",
     "status": "completed"
    },
    "tags": []
   },
   "outputs": [],
   "source": [
    "timestamps = pd.read_sql(\"select distinct record_time from EBAY_TOP_BERLIN order by record_time desc limit 2\", sqlite3.connect(\"UsedObjects.db\"))"
   ]
  },
  {
   "cell_type": "code",
   "execution_count": 3,
   "id": "periodic-identification",
   "metadata": {
    "execution": {
     "iopub.execute_input": "2021-09-02T04:00:08.437814Z",
     "iopub.status.busy": "2021-09-02T04:00:08.435682Z",
     "iopub.status.idle": "2021-09-02T04:00:08.456079Z",
     "shell.execute_reply": "2021-09-02T04:00:08.457301Z"
    },
    "papermill": {
     "duration": 0.065045,
     "end_time": "2021-09-02T04:00:08.457702",
     "exception": false,
     "start_time": "2021-09-02T04:00:08.392657",
     "status": "completed"
    },
    "tags": []
   },
   "outputs": [
    {
     "data": {
      "text/html": [
       "<div>\n",
       "<style scoped>\n",
       "    .dataframe tbody tr th:only-of-type {\n",
       "        vertical-align: middle;\n",
       "    }\n",
       "\n",
       "    .dataframe tbody tr th {\n",
       "        vertical-align: top;\n",
       "    }\n",
       "\n",
       "    .dataframe thead th {\n",
       "        text-align: right;\n",
       "    }\n",
       "</style>\n",
       "<table border=\"1\" class=\"dataframe\">\n",
       "  <thead>\n",
       "    <tr style=\"text-align: right;\">\n",
       "      <th></th>\n",
       "      <th>RECORD_TIME</th>\n",
       "    </tr>\n",
       "  </thead>\n",
       "  <tbody>\n",
       "    <tr>\n",
       "      <th>0</th>\n",
       "      <td>2021-09-02 06:00</td>\n",
       "    </tr>\n",
       "    <tr>\n",
       "      <th>1</th>\n",
       "      <td>2021-09-02 05:30</td>\n",
       "    </tr>\n",
       "  </tbody>\n",
       "</table>\n",
       "</div>"
      ],
      "text/plain": [
       "        RECORD_TIME\n",
       "0  2021-09-02 06:00\n",
       "1  2021-09-02 05:30"
      ]
     },
     "execution_count": 3,
     "metadata": {},
     "output_type": "execute_result"
    }
   ],
   "source": [
    "timestamps"
   ]
  },
  {
   "cell_type": "code",
   "execution_count": 4,
   "id": "alternate-victory",
   "metadata": {
    "execution": {
     "iopub.execute_input": "2021-09-02T04:00:08.509909Z",
     "iopub.status.busy": "2021-09-02T04:00:08.507641Z",
     "iopub.status.idle": "2021-09-02T04:00:08.780096Z",
     "shell.execute_reply": "2021-09-02T04:00:08.781535Z"
    },
    "papermill": {
     "duration": 0.303155,
     "end_time": "2021-09-02T04:00:08.781984",
     "exception": false,
     "start_time": "2021-09-02T04:00:08.478829",
     "status": "completed"
    },
    "tags": []
   },
   "outputs": [],
   "source": [
    "df = pd.read_sql(\"select * from EBAY_TOP_BERLIN where record_time in (select distinct record_time from EBAY_TOP_BERLIN order by record_time desc limit 2)\", sqlite3.connect(\"UsedObjects.db\"))"
   ]
  },
  {
   "cell_type": "code",
   "execution_count": 5,
   "id": "popular-active",
   "metadata": {
    "execution": {
     "iopub.execute_input": "2021-09-02T04:00:08.862972Z",
     "iopub.status.busy": "2021-09-02T04:00:08.850576Z",
     "iopub.status.idle": "2021-09-02T04:00:08.878989Z",
     "shell.execute_reply": "2021-09-02T04:00:08.880223Z"
    },
    "papermill": {
     "duration": 0.072419,
     "end_time": "2021-09-02T04:00:08.880627",
     "exception": false,
     "start_time": "2021-09-02T04:00:08.808208",
     "status": "completed"
    },
    "tags": []
   },
   "outputs": [],
   "source": [
    "df_pivot = df.pivot_table(index=\"PRODUCT\", columns = \"RECORD_TIME\", values = \"LISTING_COUNT\")"
   ]
  },
  {
   "cell_type": "code",
   "execution_count": 6,
   "id": "union-huntington",
   "metadata": {
    "execution": {
     "iopub.execute_input": "2021-09-02T04:00:08.940861Z",
     "iopub.status.busy": "2021-09-02T04:00:08.938383Z",
     "iopub.status.idle": "2021-09-02T04:00:08.944786Z",
     "shell.execute_reply": "2021-09-02T04:00:08.946149Z"
    },
    "papermill": {
     "duration": 0.042788,
     "end_time": "2021-09-02T04:00:08.946593",
     "exception": false,
     "start_time": "2021-09-02T04:00:08.903805",
     "status": "completed"
    },
    "tags": []
   },
   "outputs": [],
   "source": [
    "df_pivot.columns = [\"stamp_1\", \"stamp_2\"]\n",
    "df_pivot_diff = df_pivot.diff(axis=1)"
   ]
  },
  {
   "cell_type": "code",
   "execution_count": 7,
   "id": "fifth-motion",
   "metadata": {
    "execution": {
     "iopub.execute_input": "2021-09-02T04:00:09.001575Z",
     "iopub.status.busy": "2021-09-02T04:00:08.999206Z",
     "iopub.status.idle": "2021-09-02T04:00:10.499489Z",
     "shell.execute_reply": "2021-09-02T04:00:10.500765Z"
    },
    "papermill": {
     "duration": 1.533338,
     "end_time": "2021-09-02T04:00:10.501185",
     "exception": false,
     "start_time": "2021-09-02T04:00:08.967847",
     "status": "completed"
    },
    "tags": []
   },
   "outputs": [
    {
     "data": {
      "text/plain": [
       "<AxesSubplot:ylabel='PRODUCT'>"
      ]
     },
     "execution_count": 7,
     "metadata": {},
     "output_type": "execute_result"
    },
    {
     "data": {
      "image/png": "[encoded data removed]",
      "text/plain": [
       "<Figure size 432x288 with 1 Axes>"
      ]
     },
     "metadata": {
      "needs_background": "light"
     },
     "output_type": "display_data"
    }
   ],
   "source": [
    "df_pivot_diff.sort_values(\"stamp_2\", ascending = False)[\"stamp_2\"].head(10).plot.barh()"
   ]
  },
  {
   "cell_type": "code",
   "execution_count": null,
   "id": "extra-executive",
   "metadata": {
    "papermill": {
     "duration": 0.022294,
     "end_time": "2021-09-02T04:00:10.548365",
     "exception": false,
     "start_time": "2021-09-02T04:00:10.526071",
     "status": "completed"
    },
    "tags": []
   },
   "outputs": [],
   "source": []
  }
 ],
 "metadata": {
  "kernelspec": {
   "display_name": "Python 3",
   "language": "python",
   "name": "python3"
  },
  "language_info": {
   "codemirror_mode": {
    "name": "ipython",
    "version": 3
   },
   "file_extension": ".py",
   "mimetype": "text/x-python",
   "name": "python",
   "nbconvert_exporter": "python",
   "pygments_lexer": "ipython3",
   "version": "3.9.5"
  },
  "papermill": {
   "default_parameters": {},
   "duration": 6.818071,
   "end_time": "2021-09-02T04:00:11.698362",
   "environment_variables": {},
   "exception": null,
   "input_path": "eBay_Overview.ipynb",
   "output_path": "eBay_Overview.ipynb",
   "parameters": {},
   "start_time": "2021-09-02T04:00:04.880291",
   "version": "2.3.3"
  }
 },
 "nbformat": 4,
 "nbformat_minor": 5
}