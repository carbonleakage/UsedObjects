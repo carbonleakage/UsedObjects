{
 "cells": [
  {
   "cell_type": "code",
   "execution_count": 1,
   "id": "reverse-picking",
   "metadata": {
    "execution": {
     "iopub.execute_input": "2021-10-26T07:30:07.414570Z",
     "iopub.status.busy": "2021-10-26T07:30:07.412560Z",
     "iopub.status.idle": "2021-10-26T07:30:08.224046Z",
     "shell.execute_reply": "2021-10-26T07:30:08.225559Z"
    },
    "papermill": {
     "duration": 0.864186,
     "end_time": "2021-10-26T07:30:08.226190",
     "exception": false,
     "start_time": "2021-10-26T07:30:07.362004",
     "status": "completed"
    },
    "tags": []
   },
   "outputs": [],
   "source": [
    "import pandas as pd\n",
    "import sqlite3"
   ]
  },
  {
   "cell_type": "code",
   "execution_count": 2,
   "id": "innovative-syndrome",
   "metadata": {
    "execution": {
     "iopub.execute_input": "2021-10-26T07:30:08.278726Z",
     "iopub.status.busy": "2021-10-26T07:30:08.276268Z",
     "iopub.status.idle": "2021-10-26T07:30:08.919417Z",
     "shell.execute_reply": "2021-10-26T07:30:08.920632Z"
    },
    "papermill": {
     "duration": 0.673452,
     "end_time": "2021-10-26T07:30:08.921207",
     "exception": false,
     "start_time": "2021-10-26T07:30:08.247755",
     "status": "completed"
    },
    "tags": []
   },
   "outputs": [],
   "source": [
    "timestamps = pd.read_sql(\"select distinct record_time from EBAY_TOP_BERLIN order by record_time desc limit 2\", sqlite3.connect(\"UsedObjects.db\"))"
   ]
  },
  {
   "cell_type": "code",
   "execution_count": 3,
   "id": "periodic-identification",
   "metadata": {
    "execution": {
     "iopub.execute_input": "2021-10-26T07:30:08.994845Z",
     "iopub.status.busy": "2021-10-26T07:30:08.992803Z",
     "iopub.status.idle": "2021-10-26T07:30:09.012491Z",
     "shell.execute_reply": "2021-10-26T07:30:09.013804Z"
    },
    "papermill": {
     "duration": 0.06744,
     "end_time": "2021-10-26T07:30:09.014202",
     "exception": false,
     "start_time": "2021-10-26T07:30:08.946762",
     "status": "completed"
    },
    "tags": []
   },
   "outputs": [
    {
     "data": {
      "text/html": [
       "<div>\n",
       "<style scoped>\n",
       "    .dataframe tbody tr th:only-of-type {\n",
       "        vertical-align: middle;\n",
       "    }\n",
       "\n",
       "    .dataframe tbody tr th {\n",
       "        vertical-align: top;\n",
       "    }\n",
       "\n",
       "    .dataframe thead th {\n",
       "        text-align: right;\n",
       "    }\n",
       "</style>\n",
       "<table border=\"1\" class=\"dataframe\">\n",
       "  <thead>\n",
       "    <tr style=\"text-align: right;\">\n",
       "      <th></th>\n",
       "      <th>RECORD_TIME</th>\n",
       "    </tr>\n",
       "  </thead>\n",
       "  <tbody>\n",
       "    <tr>\n",
       "      <th>0</th>\n",
       "      <td>2021-10-26 09:30</td>\n",
       "    </tr>\n",
       "    <tr>\n",
       "      <th>1</th>\n",
       "      <td>2021-10-26 09:00</td>\n",
       "    </tr>\n",
       "  </tbody>\n",
       "</table>\n",
       "</div>"
      ],
      "text/plain": [
       "        RECORD_TIME\n",
       "0  2021-10-26 09:30\n",
       "1  2021-10-26 09:00"
      ]
     },
     "execution_count": 3,
     "metadata": {},
     "output_type": "execute_result"
    }
   ],
   "source": [
    "timestamps"
   ]
  },
  {
   "cell_type": "code",
   "execution_count": 4,
   "id": "alternate-victory",
   "metadata": {
    "execution": {
     "iopub.execute_input": "2021-10-26T07:30:09.066022Z",
     "iopub.status.busy": "2021-10-26T07:30:09.064063Z",
     "iopub.status.idle": "2021-10-26T07:30:10.025053Z",
     "shell.execute_reply": "2021-10-26T07:30:10.026481Z"
    },
    "papermill": {
     "duration": 0.991032,
     "end_time": "2021-10-26T07:30:10.026914",
     "exception": false,
     "start_time": "2021-10-26T07:30:09.035882",
     "status": "completed"
    },
    "tags": []
   },
   "outputs": [],
   "source": [
    "df = pd.read_sql(\"select * from EBAY_TOP_BERLIN where record_time in (select distinct record_time from EBAY_TOP_BERLIN order by record_time desc limit 2)\", sqlite3.connect(\"UsedObjects.db\"))"
   ]
  },
  {
   "cell_type": "code",
   "execution_count": 5,
   "id": "popular-active",
   "metadata": {
    "execution": {
     "iopub.execute_input": "2021-10-26T07:30:10.098596Z",
     "iopub.status.busy": "2021-10-26T07:30:10.086401Z",
     "iopub.status.idle": "2021-10-26T07:30:10.114215Z",
     "shell.execute_reply": "2021-10-26T07:30:10.115447Z"
    },
    "papermill": {
     "duration": 0.067922,
     "end_time": "2021-10-26T07:30:10.115831",
     "exception": false,
     "start_time": "2021-10-26T07:30:10.047909",
     "status": "completed"
    },
    "tags": []
   },
   "outputs": [],
   "source": [
    "df_pivot = df.pivot_table(index=\"PRODUCT\", columns = \"RECORD_TIME\", values = \"LISTING_COUNT\")"
   ]
  },
  {
   "cell_type": "code",
   "execution_count": 6,
   "id": "union-huntington",
   "metadata": {
    "execution": {
     "iopub.execute_input": "2021-10-26T07:30:10.175289Z",
     "iopub.status.busy": "2021-10-26T07:30:10.172803Z",
     "iopub.status.idle": "2021-10-26T07:30:10.178671Z",
     "shell.execute_reply": "2021-10-26T07:30:10.179962Z"
    },
    "papermill": {
     "duration": 0.042267,
     "end_time": "2021-10-26T07:30:10.180372",
     "exception": false,
     "start_time": "2021-10-26T07:30:10.138105",
     "status": "completed"
    },
    "tags": []
   },
   "outputs": [],
   "source": [
    "df_pivot.columns = [\"stamp_1\", \"stamp_2\"]\n",
    "df_pivot_diff = df_pivot.diff(axis=1)"
   ]
  },
  {
   "cell_type": "code",
   "execution_count": 7,
   "id": "fifth-motion",
   "metadata": {
    "execution": {
     "iopub.execute_input": "2021-10-26T07:30:10.234700Z",
     "iopub.status.busy": "2021-10-26T07:30:10.232181Z",
     "iopub.status.idle": "2021-10-26T07:30:11.731364Z",
     "shell.execute_reply": "2021-10-26T07:30:11.732653Z"
    },
    "papermill": {
     "duration": 1.532171,
     "end_time": "2021-10-26T07:30:11.733121",
     "exception": false,
     "start_time": "2021-10-26T07:30:10.200950",
     "status": "completed"
    },
    "tags": []
   },
   "outputs": [
    {
     "data": {
      "text/plain": [
       "<AxesSubplot:ylabel='PRODUCT'>"
      ]
     },
     "execution_count": 7,
     "metadata": {},
     "output_type": "execute_result"
    },
    {
     "data": {
      "image/png": "[encoded data removed]",
      "text/plain": [
       "<Figure size 432x288 with 1 Axes>"
      ]
     },
     "metadata": {
      "needs_background": "light"
     },
     "output_type": "display_data"
    }
   ],
   "source": [
    "df_pivot_diff.sort_values(\"stamp_2\", ascending = False)[\"stamp_2\"].head(10).plot.barh()"
   ]
  },
  {
   "cell_type": "code",
   "execution_count": null,
   "id": "extra-executive",
   "metadata": {
    "papermill": {
     "duration": 0.022433,
     "end_time": "2021-10-26T07:30:11.780346",
     "exception": false,
     "start_time": "2021-10-26T07:30:11.757913",
     "status": "completed"
    },
    "tags": []
   },
   "outputs": [],
   "source": []
  }
 ],
 "metadata": {
  "kernelspec": {
   "display_name": "Python 3",
   "language": "python",
   "name": "python3"
  },
  "language_info": {
   "codemirror_mode": {
    "name": "ipython",
    "version": 3
   },
   "file_extension": ".py",
   "mimetype": "text/x-python",
   "name": "python",
   "nbconvert_exporter": "python",
   "pygments_lexer": "ipython3",
   "version": "3.9.5"
  },
  "papermill": {
   "default_parameters": {},
   "duration": 7.470309,
   "end_time": "2021-10-26T07:30:12.425266",
   "environment_variables": {},
   "exception": null,
   "input_path": "eBay_Overview.ipynb",
   "output_path": "eBay_Overview.ipynb",
   "parameters": {},
   "start_time": "2021-10-26T07:30:04.954957",
   "version": "2.3.3"
  }
 },
 "nbformat": 4,
 "nbformat_minor": 5
}