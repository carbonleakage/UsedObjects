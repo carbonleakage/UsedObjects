{
 "cells": [
  {
   "cell_type": "code",
   "execution_count": 1,
   "id": "reverse-picking",
   "metadata": {
    "execution": {
     "iopub.execute_input": "2021-12-17T03:30:07.266064Z",
     "iopub.status.busy": "2021-12-17T03:30:07.263580Z",
     "iopub.status.idle": "2021-12-17T03:30:08.225938Z",
     "shell.execute_reply": "2021-12-17T03:30:08.229746Z"
    },
    "papermill": {
     "duration": 1.014212,
     "end_time": "2021-12-17T03:30:08.231005",
     "exception": false,
     "start_time": "2021-12-17T03:30:07.216793",
     "status": "completed"
    },
    "tags": []
   },
   "outputs": [],
   "source": [
    "import pandas as pd\n",
    "import sqlite3"
   ]
  },
  {
   "cell_type": "code",
   "execution_count": 2,
   "id": "innovative-syndrome",
   "metadata": {
    "execution": {
     "iopub.execute_input": "2021-12-17T03:30:08.335591Z",
     "iopub.status.busy": "2021-12-17T03:30:08.333313Z",
     "iopub.status.idle": "2021-12-17T03:30:09.441547Z",
     "shell.execute_reply": "2021-12-17T03:30:09.444322Z"
    },
    "papermill": {
     "duration": 1.143853,
     "end_time": "2021-12-17T03:30:09.444873",
     "exception": false,
     "start_time": "2021-12-17T03:30:08.301020",
     "status": "completed"
    },
    "tags": []
   },
   "outputs": [],
   "source": [
    "timestamps = pd.read_sql(\"select distinct record_time from EBAY_TOP_BERLIN order by record_time desc limit 2\", sqlite3.connect(\"UsedObjects.db\"))"
   ]
  },
  {
   "cell_type": "code",
   "execution_count": 3,
   "id": "periodic-identification",
   "metadata": {
    "execution": {
     "iopub.execute_input": "2021-12-17T03:30:09.500456Z",
     "iopub.status.busy": "2021-12-17T03:30:09.490696Z",
     "iopub.status.idle": "2021-12-17T03:30:09.536812Z",
     "shell.execute_reply": "2021-12-17T03:30:09.538329Z"
    },
    "papermill": {
     "duration": 0.073845,
     "end_time": "2021-12-17T03:30:09.538836",
     "exception": false,
     "start_time": "2021-12-17T03:30:09.464991",
     "status": "completed"
    },
    "tags": []
   },
   "outputs": [
    {
     "data": {
      "text/html": [
       "<div>\n",
       "<style scoped>\n",
       "    .dataframe tbody tr th:only-of-type {\n",
       "        vertical-align: middle;\n",
       "    }\n",
       "\n",
       "    .dataframe tbody tr th {\n",
       "        vertical-align: top;\n",
       "    }\n",
       "\n",
       "    .dataframe thead th {\n",
       "        text-align: right;\n",
       "    }\n",
       "</style>\n",
       "<table border=\"1\" class=\"dataframe\">\n",
       "  <thead>\n",
       "    <tr style=\"text-align: right;\">\n",
       "      <th></th>\n",
       "      <th>RECORD_TIME</th>\n",
       "    </tr>\n",
       "  </thead>\n",
       "  <tbody>\n",
       "    <tr>\n",
       "      <th>0</th>\n",
       "      <td>2021-12-17 04:30</td>\n",
       "    </tr>\n",
       "    <tr>\n",
       "      <th>1</th>\n",
       "      <td>2021-12-17 04:00</td>\n",
       "    </tr>\n",
       "  </tbody>\n",
       "</table>\n",
       "</div>"
      ],
      "text/plain": [
       "        RECORD_TIME\n",
       "0  2021-12-17 04:30\n",
       "1  2021-12-17 04:00"
      ]
     },
     "execution_count": 3,
     "metadata": {},
     "output_type": "execute_result"
    }
   ],
   "source": [
    "timestamps"
   ]
  },
  {
   "cell_type": "code",
   "execution_count": 4,
   "id": "alternate-victory",
   "metadata": {
    "execution": {
     "iopub.execute_input": "2021-12-17T03:30:09.594318Z",
     "iopub.status.busy": "2021-12-17T03:30:09.592095Z",
     "iopub.status.idle": "2021-12-17T03:30:11.185260Z",
     "shell.execute_reply": "2021-12-17T03:30:11.186751Z"
    },
    "papermill": {
     "duration": 1.627058,
     "end_time": "2021-12-17T03:30:11.187218",
     "exception": false,
     "start_time": "2021-12-17T03:30:09.560160",
     "status": "completed"
    },
    "tags": []
   },
   "outputs": [],
   "source": [
    "df = pd.read_sql(\"select * from EBAY_TOP_BERLIN where record_time in (select distinct record_time from EBAY_TOP_BERLIN order by record_time desc limit 2)\", sqlite3.connect(\"UsedObjects.db\"))"
   ]
  },
  {
   "cell_type": "code",
   "execution_count": 5,
   "id": "popular-active",
   "metadata": {
    "execution": {
     "iopub.execute_input": "2021-12-17T03:30:11.251265Z",
     "iopub.status.busy": "2021-12-17T03:30:11.248874Z",
     "iopub.status.idle": "2021-12-17T03:30:11.286165Z",
     "shell.execute_reply": "2021-12-17T03:30:11.287991Z"
    },
    "papermill": {
     "duration": 0.080358,
     "end_time": "2021-12-17T03:30:11.288558",
     "exception": false,
     "start_time": "2021-12-17T03:30:11.208200",
     "status": "completed"
    },
    "tags": []
   },
   "outputs": [],
   "source": [
    "df_pivot = df.pivot_table(index=\"PRODUCT\", columns = \"RECORD_TIME\", values = \"LISTING_COUNT\")"
   ]
  },
  {
   "cell_type": "code",
   "execution_count": 6,
   "id": "union-huntington",
   "metadata": {
    "execution": {
     "iopub.execute_input": "2021-12-17T03:30:11.349332Z",
     "iopub.status.busy": "2021-12-17T03:30:11.347051Z",
     "iopub.status.idle": "2021-12-17T03:30:11.353648Z",
     "shell.execute_reply": "2021-12-17T03:30:11.352135Z"
    },
    "papermill": {
     "duration": 0.043511,
     "end_time": "2021-12-17T03:30:11.354065",
     "exception": false,
     "start_time": "2021-12-17T03:30:11.310554",
     "status": "completed"
    },
    "tags": []
   },
   "outputs": [],
   "source": [
    "df_pivot.columns = [\"stamp_1\", \"stamp_2\"]\n",
    "df_pivot_diff = df_pivot.diff(axis=1)"
   ]
  },
  {
   "cell_type": "code",
   "execution_count": 7,
   "id": "fifth-motion",
   "metadata": {
    "execution": {
     "iopub.execute_input": "2021-12-17T03:30:11.409629Z",
     "iopub.status.busy": "2021-12-17T03:30:11.407136Z",
     "iopub.status.idle": "2021-12-17T03:30:13.391636Z",
     "shell.execute_reply": "2021-12-17T03:30:13.393071Z"
    },
    "papermill": {
     "duration": 2.0194,
     "end_time": "2021-12-17T03:30:13.393532",
     "exception": false,
     "start_time": "2021-12-17T03:30:11.374132",
     "status": "completed"
    },
    "tags": []
   },
   "outputs": [
    {
     "data": {
      "text/plain": [
       "<AxesSubplot:ylabel='PRODUCT'>"
      ]
     },
     "execution_count": 7,
     "metadata": {},
     "output_type": "execute_result"
    },
    {
     "data": {
      "image/png": "[encoded data removed]",
      "text/plain": [
       "<Figure size 432x288 with 1 Axes>"
      ]
     },
     "metadata": {
      "needs_background": "light"
     },
     "output_type": "display_data"
    }
   ],
   "source": [
    "df_pivot_diff.sort_values(\"stamp_2\", ascending = False)[\"stamp_2\"].head(10).plot.barh()"
   ]
  },
  {
   "cell_type": "code",
   "execution_count": null,
   "id": "extra-executive",
   "metadata": {
    "papermill": {
     "duration": 0.025552,
     "end_time": "2021-12-17T03:30:13.449844",
     "exception": false,
     "start_time": "2021-12-17T03:30:13.424292",
     "status": "completed"
    },
    "tags": []
   },
   "outputs": [],
   "source": []
  }
 ],
 "metadata": {
  "kernelspec": {
   "display_name": "Python 3",
   "language": "python",
   "name": "python3"
  },
  "language_info": {
   "codemirror_mode": {
    "name": "ipython",
    "version": 3
   },
   "file_extension": ".py",
   "mimetype": "text/x-python",
   "name": "python",
   "nbconvert_exporter": "python",
   "pygments_lexer": "ipython3",
   "version": "3.9.5"
  },
  "papermill": {
   "default_parameters": {},
   "duration": 9.60509,
   "end_time": "2021-12-17T03:30:14.094268",
   "environment_variables": {},
   "exception": null,
   "input_path": "eBay_Overview.ipynb",
   "output_path": "eBay_Overview.ipynb",
   "parameters": {},
   "start_time": "2021-12-17T03:30:04.489178",
   "version": "2.3.3"
  }
 },
 "nbformat": 4,
 "nbformat_minor": 5
}