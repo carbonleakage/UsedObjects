{
 "cells": [
  {
   "cell_type": "code",
   "execution_count": 1,
   "id": "reverse-picking",
   "metadata": {
    "execution": {
     "iopub.execute_input": "2021-10-24T06:00:07.641331Z",
     "iopub.status.busy": "2021-10-24T06:00:07.639311Z",
     "iopub.status.idle": "2021-10-24T06:00:08.445869Z",
     "shell.execute_reply": "2021-10-24T06:00:08.447134Z"
    },
    "papermill": {
     "duration": 0.856968,
     "end_time": "2021-10-24T06:00:08.447756",
     "exception": false,
     "start_time": "2021-10-24T06:00:07.590788",
     "status": "completed"
    },
    "tags": []
   },
   "outputs": [],
   "source": [
    "import pandas as pd\n",
    "import sqlite3"
   ]
  },
  {
   "cell_type": "code",
   "execution_count": 2,
   "id": "innovative-syndrome",
   "metadata": {
    "execution": {
     "iopub.execute_input": "2021-10-24T06:00:08.500957Z",
     "iopub.status.busy": "2021-10-24T06:00:08.498575Z",
     "iopub.status.idle": "2021-10-24T06:00:09.121154Z",
     "shell.execute_reply": "2021-10-24T06:00:09.122637Z"
    },
    "papermill": {
     "duration": 0.653046,
     "end_time": "2021-10-24T06:00:09.123078",
     "exception": false,
     "start_time": "2021-10-24T06:00:08.470032",
     "status": "completed"
    },
    "tags": []
   },
   "outputs": [],
   "source": [
    "timestamps = pd.read_sql(\"select distinct record_time from EBAY_TOP_BERLIN order by record_time desc limit 2\", sqlite3.connect(\"UsedObjects.db\"))"
   ]
  },
  {
   "cell_type": "code",
   "execution_count": 3,
   "id": "periodic-identification",
   "metadata": {
    "execution": {
     "iopub.execute_input": "2021-10-24T06:00:09.200385Z",
     "iopub.status.busy": "2021-10-24T06:00:09.195104Z",
     "iopub.status.idle": "2021-10-24T06:00:09.217346Z",
     "shell.execute_reply": "2021-10-24T06:00:09.215878Z"
    },
    "papermill": {
     "duration": 0.068831,
     "end_time": "2021-10-24T06:00:09.217699",
     "exception": false,
     "start_time": "2021-10-24T06:00:09.148868",
     "status": "completed"
    },
    "tags": []
   },
   "outputs": [
    {
     "data": {
      "text/html": [
       "<div>\n",
       "<style scoped>\n",
       "    .dataframe tbody tr th:only-of-type {\n",
       "        vertical-align: middle;\n",
       "    }\n",
       "\n",
       "    .dataframe tbody tr th {\n",
       "        vertical-align: top;\n",
       "    }\n",
       "\n",
       "    .dataframe thead th {\n",
       "        text-align: right;\n",
       "    }\n",
       "</style>\n",
       "<table border=\"1\" class=\"dataframe\">\n",
       "  <thead>\n",
       "    <tr style=\"text-align: right;\">\n",
       "      <th></th>\n",
       "      <th>RECORD_TIME</th>\n",
       "    </tr>\n",
       "  </thead>\n",
       "  <tbody>\n",
       "    <tr>\n",
       "      <th>0</th>\n",
       "      <td>2021-10-24 08:00</td>\n",
       "    </tr>\n",
       "    <tr>\n",
       "      <th>1</th>\n",
       "      <td>2021-10-24 07:30</td>\n",
       "    </tr>\n",
       "  </tbody>\n",
       "</table>\n",
       "</div>"
      ],
      "text/plain": [
       "        RECORD_TIME\n",
       "0  2021-10-24 08:00\n",
       "1  2021-10-24 07:30"
      ]
     },
     "execution_count": 3,
     "metadata": {},
     "output_type": "execute_result"
    }
   ],
   "source": [
    "timestamps"
   ]
  },
  {
   "cell_type": "code",
   "execution_count": 4,
   "id": "alternate-victory",
   "metadata": {
    "execution": {
     "iopub.execute_input": "2021-10-24T06:00:09.268393Z",
     "iopub.status.busy": "2021-10-24T06:00:09.266554Z",
     "iopub.status.idle": "2021-10-24T06:00:10.192281Z",
     "shell.execute_reply": "2021-10-24T06:00:10.193739Z"
    },
    "papermill": {
     "duration": 0.955923,
     "end_time": "2021-10-24T06:00:10.194184",
     "exception": false,
     "start_time": "2021-10-24T06:00:09.238261",
     "status": "completed"
    },
    "tags": []
   },
   "outputs": [],
   "source": [
    "df = pd.read_sql(\"select * from EBAY_TOP_BERLIN where record_time in (select distinct record_time from EBAY_TOP_BERLIN order by record_time desc limit 2)\", sqlite3.connect(\"UsedObjects.db\"))"
   ]
  },
  {
   "cell_type": "code",
   "execution_count": 5,
   "id": "popular-active",
   "metadata": {
    "execution": {
     "iopub.execute_input": "2021-10-24T06:00:10.266370Z",
     "iopub.status.busy": "2021-10-24T06:00:10.255222Z",
     "iopub.status.idle": "2021-10-24T06:00:10.281959Z",
     "shell.execute_reply": "2021-10-24T06:00:10.283155Z"
    },
    "papermill": {
     "duration": 0.068167,
     "end_time": "2021-10-24T06:00:10.283546",
     "exception": false,
     "start_time": "2021-10-24T06:00:10.215379",
     "status": "completed"
    },
    "tags": []
   },
   "outputs": [],
   "source": [
    "df_pivot = df.pivot_table(index=\"PRODUCT\", columns = \"RECORD_TIME\", values = \"LISTING_COUNT\")"
   ]
  },
  {
   "cell_type": "code",
   "execution_count": 6,
   "id": "union-huntington",
   "metadata": {
    "execution": {
     "iopub.execute_input": "2021-10-24T06:00:10.343531Z",
     "iopub.status.busy": "2021-10-24T06:00:10.341116Z",
     "iopub.status.idle": "2021-10-24T06:00:10.348414Z",
     "shell.execute_reply": "2021-10-24T06:00:10.347029Z"
    },
    "papermill": {
     "duration": 0.042118,
     "end_time": "2021-10-24T06:00:10.348817",
     "exception": false,
     "start_time": "2021-10-24T06:00:10.306699",
     "status": "completed"
    },
    "tags": []
   },
   "outputs": [],
   "source": [
    "df_pivot.columns = [\"stamp_1\", \"stamp_2\"]\n",
    "df_pivot_diff = df_pivot.diff(axis=1)"
   ]
  },
  {
   "cell_type": "code",
   "execution_count": 7,
   "id": "fifth-motion",
   "metadata": {
    "execution": {
     "iopub.execute_input": "2021-10-24T06:00:10.402881Z",
     "iopub.status.busy": "2021-10-24T06:00:10.400465Z",
     "iopub.status.idle": "2021-10-24T06:00:11.909362Z",
     "shell.execute_reply": "2021-10-24T06:00:11.910720Z"
    },
    "papermill": {
     "duration": 1.541728,
     "end_time": "2021-10-24T06:00:11.911135",
     "exception": false,
     "start_time": "2021-10-24T06:00:10.369407",
     "status": "completed"
    },
    "tags": []
   },
   "outputs": [
    {
     "data": {
      "text/plain": [
       "<AxesSubplot:ylabel='PRODUCT'>"
      ]
     },
     "execution_count": 7,
     "metadata": {},
     "output_type": "execute_result"
    },
    {
     "data": {
      "image/png": "[encoded data removed]",
      "text/plain": [
       "<Figure size 432x288 with 1 Axes>"
      ]
     },
     "metadata": {
      "needs_background": "light"
     },
     "output_type": "display_data"
    }
   ],
   "source": [
    "df_pivot_diff.sort_values(\"stamp_2\", ascending = False)[\"stamp_2\"].head(10).plot.barh()"
   ]
  },
  {
   "cell_type": "code",
   "execution_count": null,
   "id": "extra-executive",
   "metadata": {
    "papermill": {
     "duration": 0.022218,
     "end_time": "2021-10-24T06:00:11.957351",
     "exception": false,
     "start_time": "2021-10-24T06:00:11.935133",
     "status": "completed"
    },
    "tags": []
   },
   "outputs": [],
   "source": []
  }
 ],
 "metadata": {
  "kernelspec": {
   "display_name": "Python 3",
   "language": "python",
   "name": "python3"
  },
  "language_info": {
   "codemirror_mode": {
    "name": "ipython",
    "version": 3
   },
   "file_extension": ".py",
   "mimetype": "text/x-python",
   "name": "python",
   "nbconvert_exporter": "python",
   "pygments_lexer": "ipython3",
   "version": "3.9.5"
  },
  "papermill": {
   "default_parameters": {},
   "duration": 7.413148,
   "end_time": "2021-10-24T06:00:12.600141",
   "environment_variables": {},
   "exception": null,
   "input_path": "eBay_Overview.ipynb",
   "output_path": "eBay_Overview.ipynb",
   "parameters": {},
   "start_time": "2021-10-24T06:00:05.186993",
   "version": "2.3.3"
  }
 },
 "nbformat": 4,
 "nbformat_minor": 5
}