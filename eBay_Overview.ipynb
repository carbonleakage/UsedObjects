{
 "cells": [
  {
   "cell_type": "code",
   "execution_count": 1,
   "id": "reverse-picking",
   "metadata": {
    "execution": {
     "iopub.execute_input": "2021-09-09T22:00:07.396643Z",
     "iopub.status.busy": "2021-09-09T22:00:07.394617Z",
     "iopub.status.idle": "2021-09-09T22:00:08.204974Z",
     "shell.execute_reply": "2021-09-09T22:00:08.206225Z"
    },
    "papermill": {
     "duration": 0.863017,
     "end_time": "2021-09-09T22:00:08.206848",
     "exception": false,
     "start_time": "2021-09-09T22:00:07.343831",
     "status": "completed"
    },
    "tags": []
   },
   "outputs": [],
   "source": [
    "import pandas as pd\n",
    "import sqlite3"
   ]
  },
  {
   "cell_type": "code",
   "execution_count": 2,
   "id": "innovative-syndrome",
   "metadata": {
    "execution": {
     "iopub.execute_input": "2021-09-09T22:00:08.258245Z",
     "iopub.status.busy": "2021-09-09T22:00:08.255945Z",
     "iopub.status.idle": "2021-09-09T22:00:08.501812Z",
     "shell.execute_reply": "2021-09-09T22:00:08.503088Z"
    },
    "papermill": {
     "duration": 0.275626,
     "end_time": "2021-09-09T22:00:08.503538",
     "exception": false,
     "start_time": "2021-09-09T22:00:08.227912",
     "status": "completed"
    },
    "tags": []
   },
   "outputs": [],
   "source": [
    "timestamps = pd.read_sql(\"select distinct record_time from EBAY_TOP_BERLIN order by record_time desc limit 2\", sqlite3.connect(\"UsedObjects.db\"))"
   ]
  },
  {
   "cell_type": "code",
   "execution_count": 3,
   "id": "periodic-identification",
   "metadata": {
    "execution": {
     "iopub.execute_input": "2021-09-09T22:00:08.566968Z",
     "iopub.status.busy": "2021-09-09T22:00:08.564862Z",
     "iopub.status.idle": "2021-09-09T22:00:08.584561Z",
     "shell.execute_reply": "2021-09-09T22:00:08.585736Z"
    },
    "papermill": {
     "duration": 0.063127,
     "end_time": "2021-09-09T22:00:08.586162",
     "exception": false,
     "start_time": "2021-09-09T22:00:08.523035",
     "status": "completed"
    },
    "tags": []
   },
   "outputs": [
    {
     "data": {
      "text/html": [
       "<div>\n",
       "<style scoped>\n",
       "    .dataframe tbody tr th:only-of-type {\n",
       "        vertical-align: middle;\n",
       "    }\n",
       "\n",
       "    .dataframe tbody tr th {\n",
       "        vertical-align: top;\n",
       "    }\n",
       "\n",
       "    .dataframe thead th {\n",
       "        text-align: right;\n",
       "    }\n",
       "</style>\n",
       "<table border=\"1\" class=\"dataframe\">\n",
       "  <thead>\n",
       "    <tr style=\"text-align: right;\">\n",
       "      <th></th>\n",
       "      <th>RECORD_TIME</th>\n",
       "    </tr>\n",
       "  </thead>\n",
       "  <tbody>\n",
       "    <tr>\n",
       "      <th>0</th>\n",
       "      <td>2021-09-10 00:00</td>\n",
       "    </tr>\n",
       "    <tr>\n",
       "      <th>1</th>\n",
       "      <td>2021-09-09 23:30</td>\n",
       "    </tr>\n",
       "  </tbody>\n",
       "</table>\n",
       "</div>"
      ],
      "text/plain": [
       "        RECORD_TIME\n",
       "0  2021-09-10 00:00\n",
       "1  2021-09-09 23:30"
      ]
     },
     "execution_count": 3,
     "metadata": {},
     "output_type": "execute_result"
    }
   ],
   "source": [
    "timestamps"
   ]
  },
  {
   "cell_type": "code",
   "execution_count": 4,
   "id": "alternate-victory",
   "metadata": {
    "execution": {
     "iopub.execute_input": "2021-09-09T22:00:08.638224Z",
     "iopub.status.busy": "2021-09-09T22:00:08.636392Z",
     "iopub.status.idle": "2021-09-09T22:00:09.015869Z",
     "shell.execute_reply": "2021-09-09T22:00:09.017087Z"
    },
    "papermill": {
     "duration": 0.409234,
     "end_time": "2021-09-09T22:00:09.017484",
     "exception": false,
     "start_time": "2021-09-09T22:00:08.608250",
     "status": "completed"
    },
    "tags": []
   },
   "outputs": [],
   "source": [
    "df = pd.read_sql(\"select * from EBAY_TOP_BERLIN where record_time in (select distinct record_time from EBAY_TOP_BERLIN order by record_time desc limit 2)\", sqlite3.connect(\"UsedObjects.db\"))"
   ]
  },
  {
   "cell_type": "code",
   "execution_count": 5,
   "id": "popular-active",
   "metadata": {
    "execution": {
     "iopub.execute_input": "2021-09-09T22:00:09.118302Z",
     "iopub.status.busy": "2021-09-09T22:00:09.106308Z",
     "iopub.status.idle": "2021-09-09T22:00:09.134326Z",
     "shell.execute_reply": "2021-09-09T22:00:09.135691Z"
    },
    "papermill": {
     "duration": 0.075858,
     "end_time": "2021-09-09T22:00:09.136118",
     "exception": false,
     "start_time": "2021-09-09T22:00:09.060260",
     "status": "completed"
    },
    "tags": []
   },
   "outputs": [],
   "source": [
    "df_pivot = df.pivot_table(index=\"PRODUCT\", columns = \"RECORD_TIME\", values = \"LISTING_COUNT\")"
   ]
  },
  {
   "cell_type": "code",
   "execution_count": 6,
   "id": "union-huntington",
   "metadata": {
    "execution": {
     "iopub.execute_input": "2021-09-09T22:00:09.191864Z",
     "iopub.status.busy": "2021-09-09T22:00:09.189781Z",
     "iopub.status.idle": "2021-09-09T22:00:09.195174Z",
     "shell.execute_reply": "2021-09-09T22:00:09.196472Z"
    },
    "papermill": {
     "duration": 0.040768,
     "end_time": "2021-09-09T22:00:09.196889",
     "exception": false,
     "start_time": "2021-09-09T22:00:09.156121",
     "status": "completed"
    },
    "tags": []
   },
   "outputs": [],
   "source": [
    "df_pivot.columns = [\"stamp_1\", \"stamp_2\"]\n",
    "df_pivot_diff = df_pivot.diff(axis=1)"
   ]
  },
  {
   "cell_type": "code",
   "execution_count": 7,
   "id": "fifth-motion",
   "metadata": {
    "execution": {
     "iopub.execute_input": "2021-09-09T22:00:09.251820Z",
     "iopub.status.busy": "2021-09-09T22:00:09.249211Z",
     "iopub.status.idle": "2021-09-09T22:00:10.730101Z",
     "shell.execute_reply": "2021-09-09T22:00:10.732187Z"
    },
    "papermill": {
     "duration": 1.514621,
     "end_time": "2021-09-09T22:00:10.732780",
     "exception": false,
     "start_time": "2021-09-09T22:00:09.218159",
     "status": "completed"
    },
    "tags": []
   },
   "outputs": [
    {
     "data": {
      "text/plain": [
       "<AxesSubplot:ylabel='PRODUCT'>"
      ]
     },
     "execution_count": 7,
     "metadata": {},
     "output_type": "execute_result"
    },
    {
     "data": {
      "image/png": "[encoded data removed]",
      "text/plain": [
       "<Figure size 432x288 with 1 Axes>"
      ]
     },
     "metadata": {
      "needs_background": "light"
     },
     "output_type": "display_data"
    }
   ],
   "source": [
    "df_pivot_diff.sort_values(\"stamp_2\", ascending = False)[\"stamp_2\"].head(10).plot.barh()"
   ]
  },
  {
   "cell_type": "code",
   "execution_count": null,
   "id": "extra-executive",
   "metadata": {
    "papermill": {
     "duration": 0.021995,
     "end_time": "2021-09-09T22:00:10.780262",
     "exception": false,
     "start_time": "2021-09-09T22:00:10.758267",
     "status": "completed"
    },
    "tags": []
   },
   "outputs": [],
   "source": []
  }
 ],
 "metadata": {
  "kernelspec": {
   "display_name": "Python 3",
   "language": "python",
   "name": "python3"
  },
  "language_info": {
   "codemirror_mode": {
    "name": "ipython",
    "version": 3
   },
   "file_extension": ".py",
   "mimetype": "text/x-python",
   "name": "python",
   "nbconvert_exporter": "python",
   "pygments_lexer": "ipython3",
   "version": "3.9.5"
  },
  "papermill": {
   "default_parameters": {},
   "duration": 6.498421,
   "end_time": "2021-09-09T22:00:11.420569",
   "environment_variables": {},
   "exception": null,
   "input_path": "eBay_Overview.ipynb",
   "output_path": "eBay_Overview.ipynb",
   "parameters": {},
   "start_time": "2021-09-09T22:00:04.922148",
   "version": "2.3.3"
  }
 },
 "nbformat": 4,
 "nbformat_minor": 5
}