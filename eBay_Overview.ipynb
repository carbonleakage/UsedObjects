{
 "cells": [
  {
   "cell_type": "code",
   "execution_count": 1,
   "id": "reverse-picking",
   "metadata": {
    "execution": {
     "iopub.execute_input": "2021-08-31T05:30:07.037916Z",
     "iopub.status.busy": "2021-08-31T05:30:07.035937Z",
     "iopub.status.idle": "2021-08-31T05:30:07.836538Z",
     "shell.execute_reply": "2021-08-31T05:30:07.837981Z"
    },
    "papermill": {
     "duration": 0.853197,
     "end_time": "2021-08-31T05:30:07.838669",
     "exception": false,
     "start_time": "2021-08-31T05:30:06.985472",
     "status": "completed"
    },
    "tags": []
   },
   "outputs": [],
   "source": [
    "import pandas as pd\n",
    "import sqlite3"
   ]
  },
  {
   "cell_type": "code",
   "execution_count": 2,
   "id": "innovative-syndrome",
   "metadata": {
    "execution": {
     "iopub.execute_input": "2021-08-31T05:30:07.890119Z",
     "iopub.status.busy": "2021-08-31T05:30:07.887725Z",
     "iopub.status.idle": "2021-08-31T05:30:08.058576Z",
     "shell.execute_reply": "2021-08-31T05:30:08.059706Z"
    },
    "papermill": {
     "duration": 0.200876,
     "end_time": "2021-08-31T05:30:08.060118",
     "exception": false,
     "start_time": "2021-08-31T05:30:07.859242",
     "status": "completed"
    },
    "tags": []
   },
   "outputs": [],
   "source": [
    "timestamps = pd.read_sql(\"select distinct record_time from EBAY_TOP_BERLIN order by record_time desc limit 2\", sqlite3.connect(\"UsedObjects.db\"))"
   ]
  },
  {
   "cell_type": "code",
   "execution_count": 3,
   "id": "periodic-identification",
   "metadata": {
    "execution": {
     "iopub.execute_input": "2021-08-31T05:30:08.125706Z",
     "iopub.status.busy": "2021-08-31T05:30:08.123532Z",
     "iopub.status.idle": "2021-08-31T05:30:08.143473Z",
     "shell.execute_reply": "2021-08-31T05:30:08.145375Z"
    },
    "papermill": {
     "duration": 0.064685,
     "end_time": "2021-08-31T05:30:08.145813",
     "exception": false,
     "start_time": "2021-08-31T05:30:08.081128",
     "status": "completed"
    },
    "tags": []
   },
   "outputs": [
    {
     "data": {
      "text/html": [
       "<div>\n",
       "<style scoped>\n",
       "    .dataframe tbody tr th:only-of-type {\n",
       "        vertical-align: middle;\n",
       "    }\n",
       "\n",
       "    .dataframe tbody tr th {\n",
       "        vertical-align: top;\n",
       "    }\n",
       "\n",
       "    .dataframe thead th {\n",
       "        text-align: right;\n",
       "    }\n",
       "</style>\n",
       "<table border=\"1\" class=\"dataframe\">\n",
       "  <thead>\n",
       "    <tr style=\"text-align: right;\">\n",
       "      <th></th>\n",
       "      <th>RECORD_TIME</th>\n",
       "    </tr>\n",
       "  </thead>\n",
       "  <tbody>\n",
       "    <tr>\n",
       "      <th>0</th>\n",
       "      <td>2021-08-31 07:30</td>\n",
       "    </tr>\n",
       "    <tr>\n",
       "      <th>1</th>\n",
       "      <td>2021-08-31 07:00</td>\n",
       "    </tr>\n",
       "  </tbody>\n",
       "</table>\n",
       "</div>"
      ],
      "text/plain": [
       "        RECORD_TIME\n",
       "0  2021-08-31 07:30\n",
       "1  2021-08-31 07:00"
      ]
     },
     "execution_count": 3,
     "metadata": {},
     "output_type": "execute_result"
    }
   ],
   "source": [
    "timestamps"
   ]
  },
  {
   "cell_type": "code",
   "execution_count": 4,
   "id": "alternate-victory",
   "metadata": {
    "execution": {
     "iopub.execute_input": "2021-08-31T05:30:08.199270Z",
     "iopub.status.busy": "2021-08-31T05:30:08.196982Z",
     "iopub.status.idle": "2021-08-31T05:30:08.456601Z",
     "shell.execute_reply": "2021-08-31T05:30:08.457835Z"
    },
    "papermill": {
     "duration": 0.289845,
     "end_time": "2021-08-31T05:30:08.458237",
     "exception": false,
     "start_time": "2021-08-31T05:30:08.168392",
     "status": "completed"
    },
    "tags": []
   },
   "outputs": [],
   "source": [
    "df = pd.read_sql(\"select * from EBAY_TOP_BERLIN where record_time in (select distinct record_time from EBAY_TOP_BERLIN order by record_time desc limit 2)\", sqlite3.connect(\"UsedObjects.db\"))"
   ]
  },
  {
   "cell_type": "code",
   "execution_count": 5,
   "id": "popular-active",
   "metadata": {
    "execution": {
     "iopub.execute_input": "2021-08-31T05:30:08.540791Z",
     "iopub.status.busy": "2021-08-31T05:30:08.533764Z",
     "iopub.status.idle": "2021-08-31T05:30:08.556209Z",
     "shell.execute_reply": "2021-08-31T05:30:08.557585Z"
    },
    "papermill": {
     "duration": 0.070843,
     "end_time": "2021-08-31T05:30:08.558003",
     "exception": false,
     "start_time": "2021-08-31T05:30:08.487160",
     "status": "completed"
    },
    "tags": []
   },
   "outputs": [],
   "source": [
    "df_pivot = df.pivot_table(index=\"PRODUCT\", columns = \"RECORD_TIME\", values = \"LISTING_COUNT\")"
   ]
  },
  {
   "cell_type": "code",
   "execution_count": 6,
   "id": "union-huntington",
   "metadata": {
    "execution": {
     "iopub.execute_input": "2021-08-31T05:30:08.613049Z",
     "iopub.status.busy": "2021-08-31T05:30:08.611031Z",
     "iopub.status.idle": "2021-08-31T05:30:08.616019Z",
     "shell.execute_reply": "2021-08-31T05:30:08.617250Z"
    },
    "papermill": {
     "duration": 0.039495,
     "end_time": "2021-08-31T05:30:08.617668",
     "exception": false,
     "start_time": "2021-08-31T05:30:08.578173",
     "status": "completed"
    },
    "tags": []
   },
   "outputs": [],
   "source": [
    "df_pivot.columns = [\"stamp_1\", \"stamp_2\"]\n",
    "df_pivot_diff = df_pivot.diff(axis=1)"
   ]
  },
  {
   "cell_type": "code",
   "execution_count": 7,
   "id": "fifth-motion",
   "metadata": {
    "execution": {
     "iopub.execute_input": "2021-08-31T05:30:08.671135Z",
     "iopub.status.busy": "2021-08-31T05:30:08.668784Z",
     "iopub.status.idle": "2021-08-31T05:30:10.148190Z",
     "shell.execute_reply": "2021-08-31T05:30:10.149883Z"
    },
    "papermill": {
     "duration": 1.512544,
     "end_time": "2021-08-31T05:30:10.150379",
     "exception": false,
     "start_time": "2021-08-31T05:30:08.637835",
     "status": "completed"
    },
    "tags": []
   },
   "outputs": [
    {
     "data": {
      "text/plain": [
       "<AxesSubplot:ylabel='PRODUCT'>"
      ]
     },
     "execution_count": 7,
     "metadata": {},
     "output_type": "execute_result"
    },
    {
     "data": {
      "image/png": "[encoded data removed]",
      "text/plain": [
       "<Figure size 432x288 with 1 Axes>"
      ]
     },
     "metadata": {
      "needs_background": "light"
     },
     "output_type": "display_data"
    }
   ],
   "source": [
    "df_pivot_diff.sort_values(\"stamp_2\", ascending = False)[\"stamp_2\"].head(10).plot.barh()"
   ]
  },
  {
   "cell_type": "code",
   "execution_count": null,
   "id": "extra-executive",
   "metadata": {
    "papermill": {
     "duration": 0.022336,
     "end_time": "2021-08-31T05:30:10.196750",
     "exception": false,
     "start_time": "2021-08-31T05:30:10.174414",
     "status": "completed"
    },
    "tags": []
   },
   "outputs": [],
   "source": []
  }
 ],
 "metadata": {
  "kernelspec": {
   "display_name": "Python 3",
   "language": "python",
   "name": "python3"
  },
  "language_info": {
   "codemirror_mode": {
    "name": "ipython",
    "version": 3
   },
   "file_extension": ".py",
   "mimetype": "text/x-python",
   "name": "python",
   "nbconvert_exporter": "python",
   "pygments_lexer": "ipython3",
   "version": "3.9.5"
  },
  "papermill": {
   "default_parameters": {},
   "duration": 6.819284,
   "end_time": "2021-08-31T05:30:11.406768",
   "environment_variables": {},
   "exception": null,
   "input_path": "eBay_Overview.ipynb",
   "output_path": "eBay_Overview.ipynb",
   "parameters": {},
   "start_time": "2021-08-31T05:30:04.587484",
   "version": "2.3.3"
  }
 },
 "nbformat": 4,
 "nbformat_minor": 5
}