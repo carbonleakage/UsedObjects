{
 "cells": [
  {
   "cell_type": "code",
   "execution_count": 1,
   "id": "reverse-picking",
   "metadata": {
    "execution": {
     "iopub.execute_input": "2021-12-08T21:30:07.677812Z",
     "iopub.status.busy": "2021-12-08T21:30:07.675408Z",
     "iopub.status.idle": "2021-12-08T21:30:08.620503Z",
     "shell.execute_reply": "2021-12-08T21:30:08.622021Z"
    },
    "papermill": {
     "duration": 0.993581,
     "end_time": "2021-12-08T21:30:08.622889",
     "exception": false,
     "start_time": "2021-12-08T21:30:07.629308",
     "status": "completed"
    },
    "tags": []
   },
   "outputs": [],
   "source": [
    "import pandas as pd\n",
    "import sqlite3"
   ]
  },
  {
   "cell_type": "code",
   "execution_count": 2,
   "id": "innovative-syndrome",
   "metadata": {
    "execution": {
     "iopub.execute_input": "2021-12-08T21:30:08.695036Z",
     "iopub.status.busy": "2021-12-08T21:30:08.692875Z",
     "iopub.status.idle": "2021-12-08T21:30:09.730314Z",
     "shell.execute_reply": "2021-12-08T21:30:09.727363Z"
    },
    "papermill": {
     "duration": 1.071607,
     "end_time": "2021-12-08T21:30:09.731033",
     "exception": false,
     "start_time": "2021-12-08T21:30:08.659426",
     "status": "completed"
    },
    "tags": []
   },
   "outputs": [],
   "source": [
    "timestamps = pd.read_sql(\"select distinct record_time from EBAY_TOP_BERLIN order by record_time desc limit 2\", sqlite3.connect(\"UsedObjects.db\"))"
   ]
  },
  {
   "cell_type": "code",
   "execution_count": 3,
   "id": "periodic-identification",
   "metadata": {
    "execution": {
     "iopub.execute_input": "2021-12-08T21:30:09.816750Z",
     "iopub.status.busy": "2021-12-08T21:30:09.814297Z",
     "iopub.status.idle": "2021-12-08T21:30:09.837654Z",
     "shell.execute_reply": "2021-12-08T21:30:09.839105Z"
    },
    "papermill": {
     "duration": 0.078593,
     "end_time": "2021-12-08T21:30:09.839597",
     "exception": false,
     "start_time": "2021-12-08T21:30:09.761004",
     "status": "completed"
    },
    "tags": []
   },
   "outputs": [
    {
     "data": {
      "text/html": [
       "<div>\n",
       "<style scoped>\n",
       "    .dataframe tbody tr th:only-of-type {\n",
       "        vertical-align: middle;\n",
       "    }\n",
       "\n",
       "    .dataframe tbody tr th {\n",
       "        vertical-align: top;\n",
       "    }\n",
       "\n",
       "    .dataframe thead th {\n",
       "        text-align: right;\n",
       "    }\n",
       "</style>\n",
       "<table border=\"1\" class=\"dataframe\">\n",
       "  <thead>\n",
       "    <tr style=\"text-align: right;\">\n",
       "      <th></th>\n",
       "      <th>RECORD_TIME</th>\n",
       "    </tr>\n",
       "  </thead>\n",
       "  <tbody>\n",
       "    <tr>\n",
       "      <th>0</th>\n",
       "      <td>2021-12-08 22:30</td>\n",
       "    </tr>\n",
       "    <tr>\n",
       "      <th>1</th>\n",
       "      <td>2021-12-08 22:00</td>\n",
       "    </tr>\n",
       "  </tbody>\n",
       "</table>\n",
       "</div>"
      ],
      "text/plain": [
       "        RECORD_TIME\n",
       "0  2021-12-08 22:30\n",
       "1  2021-12-08 22:00"
      ]
     },
     "execution_count": 3,
     "metadata": {},
     "output_type": "execute_result"
    }
   ],
   "source": [
    "timestamps"
   ]
  },
  {
   "cell_type": "code",
   "execution_count": 4,
   "id": "alternate-victory",
   "metadata": {
    "execution": {
     "iopub.execute_input": "2021-12-08T21:30:09.896851Z",
     "iopub.status.busy": "2021-12-08T21:30:09.894710Z",
     "iopub.status.idle": "2021-12-08T21:30:11.408668Z",
     "shell.execute_reply": "2021-12-08T21:30:11.411723Z"
    },
    "papermill": {
     "duration": 1.549124,
     "end_time": "2021-12-08T21:30:11.412666",
     "exception": false,
     "start_time": "2021-12-08T21:30:09.863542",
     "status": "completed"
    },
    "tags": []
   },
   "outputs": [],
   "source": [
    "df = pd.read_sql(\"select * from EBAY_TOP_BERLIN where record_time in (select distinct record_time from EBAY_TOP_BERLIN order by record_time desc limit 2)\", sqlite3.connect(\"UsedObjects.db\"))"
   ]
  },
  {
   "cell_type": "code",
   "execution_count": 5,
   "id": "popular-active",
   "metadata": {
    "execution": {
     "iopub.execute_input": "2021-12-08T21:30:11.532101Z",
     "iopub.status.busy": "2021-12-08T21:30:11.510931Z",
     "iopub.status.idle": "2021-12-08T21:30:11.558241Z",
     "shell.execute_reply": "2021-12-08T21:30:11.561016Z"
    },
    "papermill": {
     "duration": 0.116023,
     "end_time": "2021-12-08T21:30:11.561931",
     "exception": false,
     "start_time": "2021-12-08T21:30:11.445908",
     "status": "completed"
    },
    "tags": []
   },
   "outputs": [],
   "source": [
    "df_pivot = df.pivot_table(index=\"PRODUCT\", columns = \"RECORD_TIME\", values = \"LISTING_COUNT\")"
   ]
  },
  {
   "cell_type": "code",
   "execution_count": 6,
   "id": "union-huntington",
   "metadata": {
    "execution": {
     "iopub.execute_input": "2021-12-08T21:30:11.653471Z",
     "iopub.status.busy": "2021-12-08T21:30:11.650005Z",
     "iopub.status.idle": "2021-12-08T21:30:11.659714Z",
     "shell.execute_reply": "2021-12-08T21:30:11.662473Z"
    },
    "papermill": {
     "duration": 0.068284,
     "end_time": "2021-12-08T21:30:11.663326",
     "exception": false,
     "start_time": "2021-12-08T21:30:11.595042",
     "status": "completed"
    },
    "tags": []
   },
   "outputs": [],
   "source": [
    "df_pivot.columns = [\"stamp_1\", \"stamp_2\"]\n",
    "df_pivot_diff = df_pivot.diff(axis=1)"
   ]
  },
  {
   "cell_type": "code",
   "execution_count": 7,
   "id": "fifth-motion",
   "metadata": {
    "execution": {
     "iopub.execute_input": "2021-12-08T21:30:11.737896Z",
     "iopub.status.busy": "2021-12-08T21:30:11.734894Z",
     "iopub.status.idle": "2021-12-08T21:30:13.432496Z",
     "shell.execute_reply": "2021-12-08T21:30:13.434098Z"
    },
    "papermill": {
     "duration": 1.741807,
     "end_time": "2021-12-08T21:30:13.434576",
     "exception": false,
     "start_time": "2021-12-08T21:30:11.692769",
     "status": "completed"
    },
    "tags": []
   },
   "outputs": [
    {
     "data": {
      "text/plain": [
       "<AxesSubplot:ylabel='PRODUCT'>"
      ]
     },
     "execution_count": 7,
     "metadata": {},
     "output_type": "execute_result"
    },
    {
     "data": {
      "image/png": "[encoded data removed]",
      "text/plain": [
       "<Figure size 432x288 with 1 Axes>"
      ]
     },
     "metadata": {
      "needs_background": "light"
     },
     "output_type": "display_data"
    }
   ],
   "source": [
    "df_pivot_diff.sort_values(\"stamp_2\", ascending = False)[\"stamp_2\"].head(10).plot.barh()"
   ]
  },
  {
   "cell_type": "code",
   "execution_count": null,
   "id": "extra-executive",
   "metadata": {
    "papermill": {
     "duration": 0.022082,
     "end_time": "2021-12-08T21:30:13.481240",
     "exception": false,
     "start_time": "2021-12-08T21:30:13.459158",
     "status": "completed"
    },
    "tags": []
   },
   "outputs": [],
   "source": []
  }
 ],
 "metadata": {
  "kernelspec": {
   "display_name": "Python 3",
   "language": "python",
   "name": "python3"
  },
  "language_info": {
   "codemirror_mode": {
    "name": "ipython",
    "version": 3
   },
   "file_extension": ".py",
   "mimetype": "text/x-python",
   "name": "python",
   "nbconvert_exporter": "python",
   "pygments_lexer": "ipython3",
   "version": "3.9.5"
  },
  "papermill": {
   "default_parameters": {},
   "duration": 9.951245,
   "end_time": "2021-12-08T21:30:14.858242",
   "environment_variables": {},
   "exception": null,
   "input_path": "eBay_Overview.ipynb",
   "output_path": "eBay_Overview.ipynb",
   "parameters": {},
   "start_time": "2021-12-08T21:30:04.906997",
   "version": "2.3.3"
  }
 },
 "nbformat": 4,
 "nbformat_minor": 5
}