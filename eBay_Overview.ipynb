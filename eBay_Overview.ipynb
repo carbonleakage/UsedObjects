{
 "cells": [
  {
   "cell_type": "code",
   "execution_count": 1,
   "id": "reverse-picking",
   "metadata": {
    "execution": {
     "iopub.execute_input": "2021-10-16T01:00:07.352217Z",
     "iopub.status.busy": "2021-10-16T01:00:07.350261Z",
     "iopub.status.idle": "2021-10-16T01:00:08.158557Z",
     "shell.execute_reply": "2021-10-16T01:00:08.159805Z"
    },
    "papermill": {
     "duration": 0.859961,
     "end_time": "2021-10-16T01:00:08.160418",
     "exception": false,
     "start_time": "2021-10-16T01:00:07.300457",
     "status": "completed"
    },
    "tags": []
   },
   "outputs": [],
   "source": [
    "import pandas as pd\n",
    "import sqlite3"
   ]
  },
  {
   "cell_type": "code",
   "execution_count": 2,
   "id": "innovative-syndrome",
   "metadata": {
    "execution": {
     "iopub.execute_input": "2021-10-16T01:00:08.212012Z",
     "iopub.status.busy": "2021-10-16T01:00:08.210145Z",
     "iopub.status.idle": "2021-10-16T01:00:08.768096Z",
     "shell.execute_reply": "2021-10-16T01:00:08.769440Z"
    },
    "papermill": {
     "duration": 0.58774,
     "end_time": "2021-10-16T01:00:08.769866",
     "exception": false,
     "start_time": "2021-10-16T01:00:08.182126",
     "status": "completed"
    },
    "tags": []
   },
   "outputs": [],
   "source": [
    "timestamps = pd.read_sql(\"select distinct record_time from EBAY_TOP_BERLIN order by record_time desc limit 2\", sqlite3.connect(\"UsedObjects.db\"))"
   ]
  },
  {
   "cell_type": "code",
   "execution_count": 3,
   "id": "periodic-identification",
   "metadata": {
    "execution": {
     "iopub.execute_input": "2021-10-16T01:00:08.847388Z",
     "iopub.status.busy": "2021-10-16T01:00:08.845380Z",
     "iopub.status.idle": "2021-10-16T01:00:08.865275Z",
     "shell.execute_reply": "2021-10-16T01:00:08.866481Z"
    },
    "papermill": {
     "duration": 0.071168,
     "end_time": "2021-10-16T01:00:08.866905",
     "exception": false,
     "start_time": "2021-10-16T01:00:08.795737",
     "status": "completed"
    },
    "tags": []
   },
   "outputs": [
    {
     "data": {
      "text/html": [
       "<div>\n",
       "<style scoped>\n",
       "    .dataframe tbody tr th:only-of-type {\n",
       "        vertical-align: middle;\n",
       "    }\n",
       "\n",
       "    .dataframe tbody tr th {\n",
       "        vertical-align: top;\n",
       "    }\n",
       "\n",
       "    .dataframe thead th {\n",
       "        text-align: right;\n",
       "    }\n",
       "</style>\n",
       "<table border=\"1\" class=\"dataframe\">\n",
       "  <thead>\n",
       "    <tr style=\"text-align: right;\">\n",
       "      <th></th>\n",
       "      <th>RECORD_TIME</th>\n",
       "    </tr>\n",
       "  </thead>\n",
       "  <tbody>\n",
       "    <tr>\n",
       "      <th>0</th>\n",
       "      <td>2021-10-16 03:00</td>\n",
       "    </tr>\n",
       "    <tr>\n",
       "      <th>1</th>\n",
       "      <td>2021-10-16 02:30</td>\n",
       "    </tr>\n",
       "  </tbody>\n",
       "</table>\n",
       "</div>"
      ],
      "text/plain": [
       "        RECORD_TIME\n",
       "0  2021-10-16 03:00\n",
       "1  2021-10-16 02:30"
      ]
     },
     "execution_count": 3,
     "metadata": {},
     "output_type": "execute_result"
    }
   ],
   "source": [
    "timestamps"
   ]
  },
  {
   "cell_type": "code",
   "execution_count": 4,
   "id": "alternate-victory",
   "metadata": {
    "execution": {
     "iopub.execute_input": "2021-10-16T01:00:08.920594Z",
     "iopub.status.busy": "2021-10-16T01:00:08.918339Z",
     "iopub.status.idle": "2021-10-16T01:00:09.727817Z",
     "shell.execute_reply": "2021-10-16T01:00:09.729083Z"
    },
    "papermill": {
     "duration": 0.839715,
     "end_time": "2021-10-16T01:00:09.729491",
     "exception": false,
     "start_time": "2021-10-16T01:00:08.889776",
     "status": "completed"
    },
    "tags": []
   },
   "outputs": [],
   "source": [
    "df = pd.read_sql(\"select * from EBAY_TOP_BERLIN where record_time in (select distinct record_time from EBAY_TOP_BERLIN order by record_time desc limit 2)\", sqlite3.connect(\"UsedObjects.db\"))"
   ]
  },
  {
   "cell_type": "code",
   "execution_count": 5,
   "id": "popular-active",
   "metadata": {
    "execution": {
     "iopub.execute_input": "2021-10-16T01:00:09.802291Z",
     "iopub.status.busy": "2021-10-16T01:00:09.786892Z",
     "iopub.status.idle": "2021-10-16T01:00:09.818006Z",
     "shell.execute_reply": "2021-10-16T01:00:09.819270Z"
    },
    "papermill": {
     "duration": 0.069435,
     "end_time": "2021-10-16T01:00:09.819683",
     "exception": false,
     "start_time": "2021-10-16T01:00:09.750248",
     "status": "completed"
    },
    "tags": []
   },
   "outputs": [],
   "source": [
    "df_pivot = df.pivot_table(index=\"PRODUCT\", columns = \"RECORD_TIME\", values = \"LISTING_COUNT\")"
   ]
  },
  {
   "cell_type": "code",
   "execution_count": 6,
   "id": "union-huntington",
   "metadata": {
    "execution": {
     "iopub.execute_input": "2021-10-16T01:00:09.876725Z",
     "iopub.status.busy": "2021-10-16T01:00:09.874547Z",
     "iopub.status.idle": "2021-10-16T01:00:09.879900Z",
     "shell.execute_reply": "2021-10-16T01:00:09.881477Z"
    },
    "papermill": {
     "duration": 0.040887,
     "end_time": "2021-10-16T01:00:09.881933",
     "exception": false,
     "start_time": "2021-10-16T01:00:09.841046",
     "status": "completed"
    },
    "tags": []
   },
   "outputs": [],
   "source": [
    "df_pivot.columns = [\"stamp_1\", \"stamp_2\"]\n",
    "df_pivot_diff = df_pivot.diff(axis=1)"
   ]
  },
  {
   "cell_type": "code",
   "execution_count": 7,
   "id": "fifth-motion",
   "metadata": {
    "execution": {
     "iopub.execute_input": "2021-10-16T01:00:09.936584Z",
     "iopub.status.busy": "2021-10-16T01:00:09.933972Z",
     "iopub.status.idle": "2021-10-16T01:00:11.431604Z",
     "shell.execute_reply": "2021-10-16T01:00:11.432986Z"
    },
    "papermill": {
     "duration": 1.531307,
     "end_time": "2021-10-16T01:00:11.433441",
     "exception": false,
     "start_time": "2021-10-16T01:00:09.902134",
     "status": "completed"
    },
    "tags": []
   },
   "outputs": [
    {
     "data": {
      "text/plain": [
       "<AxesSubplot:ylabel='PRODUCT'>"
      ]
     },
     "execution_count": 7,
     "metadata": {},
     "output_type": "execute_result"
    },
    {
     "data": {
      "image/png": "[encoded data removed]",
      "text/plain": [
       "<Figure size 432x288 with 1 Axes>"
      ]
     },
     "metadata": {
      "needs_background": "light"
     },
     "output_type": "display_data"
    }
   ],
   "source": [
    "df_pivot_diff.sort_values(\"stamp_2\", ascending = False)[\"stamp_2\"].head(10).plot.barh()"
   ]
  },
  {
   "cell_type": "code",
   "execution_count": null,
   "id": "extra-executive",
   "metadata": {
    "papermill": {
     "duration": 0.022105,
     "end_time": "2021-10-16T01:00:11.480130",
     "exception": false,
     "start_time": "2021-10-16T01:00:11.458025",
     "status": "completed"
    },
    "tags": []
   },
   "outputs": [],
   "source": []
  }
 ],
 "metadata": {
  "kernelspec": {
   "display_name": "Python 3",
   "language": "python",
   "name": "python3"
  },
  "language_info": {
   "codemirror_mode": {
    "name": "ipython",
    "version": 3
   },
   "file_extension": ".py",
   "mimetype": "text/x-python",
   "name": "python",
   "nbconvert_exporter": "python",
   "pygments_lexer": "ipython3",
   "version": "3.9.5"
  },
  "papermill": {
   "default_parameters": {},
   "duration": 7.822234,
   "end_time": "2021-10-16T01:00:12.704678",
   "environment_variables": {},
   "exception": null,
   "input_path": "eBay_Overview.ipynb",
   "output_path": "eBay_Overview.ipynb",
   "parameters": {},
   "start_time": "2021-10-16T01:00:04.882444",
   "version": "2.3.3"
  }
 },
 "nbformat": 4,
 "nbformat_minor": 5
}