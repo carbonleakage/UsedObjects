{
 "cells": [
  {
   "cell_type": "code",
   "execution_count": 1,
   "id": "reverse-picking",
   "metadata": {
    "execution": {
     "iopub.execute_input": "2021-11-21T05:30:07.408790Z",
     "iopub.status.busy": "2021-11-21T05:30:07.406473Z",
     "iopub.status.idle": "2021-11-21T05:30:08.356511Z",
     "shell.execute_reply": "2021-11-21T05:30:08.358098Z"
    },
    "papermill": {
     "duration": 0.998335,
     "end_time": "2021-11-21T05:30:08.358826",
     "exception": false,
     "start_time": "2021-11-21T05:30:07.360491",
     "status": "completed"
    },
    "tags": []
   },
   "outputs": [],
   "source": [
    "import pandas as pd\n",
    "import sqlite3"
   ]
  },
  {
   "cell_type": "code",
   "execution_count": 2,
   "id": "innovative-syndrome",
   "metadata": {
    "execution": {
     "iopub.execute_input": "2021-11-21T05:30:08.422472Z",
     "iopub.status.busy": "2021-11-21T05:30:08.419926Z",
     "iopub.status.idle": "2021-11-21T05:30:09.296635Z",
     "shell.execute_reply": "2021-11-21T05:30:09.298341Z"
    },
    "papermill": {
     "duration": 0.913168,
     "end_time": "2021-11-21T05:30:09.298964",
     "exception": false,
     "start_time": "2021-11-21T05:30:08.385796",
     "status": "completed"
    },
    "tags": []
   },
   "outputs": [],
   "source": [
    "timestamps = pd.read_sql(\"select distinct record_time from EBAY_TOP_BERLIN order by record_time desc limit 2\", sqlite3.connect(\"UsedObjects.db\"))"
   ]
  },
  {
   "cell_type": "code",
   "execution_count": 3,
   "id": "periodic-identification",
   "metadata": {
    "execution": {
     "iopub.execute_input": "2021-11-21T05:30:09.370596Z",
     "iopub.status.busy": "2021-11-21T05:30:09.368241Z",
     "iopub.status.idle": "2021-11-21T05:30:09.392331Z",
     "shell.execute_reply": "2021-11-21T05:30:09.390863Z"
    },
    "papermill": {
     "duration": 0.072155,
     "end_time": "2021-11-21T05:30:09.392786",
     "exception": false,
     "start_time": "2021-11-21T05:30:09.320631",
     "status": "completed"
    },
    "tags": []
   },
   "outputs": [
    {
     "data": {
      "text/html": [
       "<div>\n",
       "<style scoped>\n",
       "    .dataframe tbody tr th:only-of-type {\n",
       "        vertical-align: middle;\n",
       "    }\n",
       "\n",
       "    .dataframe tbody tr th {\n",
       "        vertical-align: top;\n",
       "    }\n",
       "\n",
       "    .dataframe thead th {\n",
       "        text-align: right;\n",
       "    }\n",
       "</style>\n",
       "<table border=\"1\" class=\"dataframe\">\n",
       "  <thead>\n",
       "    <tr style=\"text-align: right;\">\n",
       "      <th></th>\n",
       "      <th>RECORD_TIME</th>\n",
       "    </tr>\n",
       "  </thead>\n",
       "  <tbody>\n",
       "    <tr>\n",
       "      <th>0</th>\n",
       "      <td>2021-11-21 06:30</td>\n",
       "    </tr>\n",
       "    <tr>\n",
       "      <th>1</th>\n",
       "      <td>2021-11-21 06:00</td>\n",
       "    </tr>\n",
       "  </tbody>\n",
       "</table>\n",
       "</div>"
      ],
      "text/plain": [
       "        RECORD_TIME\n",
       "0  2021-11-21 06:30\n",
       "1  2021-11-21 06:00"
      ]
     },
     "execution_count": 3,
     "metadata": {},
     "output_type": "execute_result"
    }
   ],
   "source": [
    "timestamps"
   ]
  },
  {
   "cell_type": "code",
   "execution_count": 4,
   "id": "alternate-victory",
   "metadata": {
    "execution": {
     "iopub.execute_input": "2021-11-21T05:30:09.445919Z",
     "iopub.status.busy": "2021-11-21T05:30:09.443684Z",
     "iopub.status.idle": "2021-11-21T05:30:10.725786Z",
     "shell.execute_reply": "2021-11-21T05:30:10.727419Z"
    },
    "papermill": {
     "duration": 1.314564,
     "end_time": "2021-11-21T05:30:10.727918",
     "exception": false,
     "start_time": "2021-11-21T05:30:09.413354",
     "status": "completed"
    },
    "tags": []
   },
   "outputs": [],
   "source": [
    "df = pd.read_sql(\"select * from EBAY_TOP_BERLIN where record_time in (select distinct record_time from EBAY_TOP_BERLIN order by record_time desc limit 2)\", sqlite3.connect(\"UsedObjects.db\"))"
   ]
  },
  {
   "cell_type": "code",
   "execution_count": 5,
   "id": "popular-active",
   "metadata": {
    "execution": {
     "iopub.execute_input": "2021-11-21T05:30:10.795180Z",
     "iopub.status.busy": "2021-11-21T05:30:10.792113Z",
     "iopub.status.idle": "2021-11-21T05:30:10.825919Z",
     "shell.execute_reply": "2021-11-21T05:30:10.827199Z"
    },
    "papermill": {
     "duration": 0.077798,
     "end_time": "2021-11-21T05:30:10.827691",
     "exception": false,
     "start_time": "2021-11-21T05:30:10.749893",
     "status": "completed"
    },
    "tags": []
   },
   "outputs": [],
   "source": [
    "df_pivot = df.pivot_table(index=\"PRODUCT\", columns = \"RECORD_TIME\", values = \"LISTING_COUNT\")"
   ]
  },
  {
   "cell_type": "code",
   "execution_count": 6,
   "id": "union-huntington",
   "metadata": {
    "execution": {
     "iopub.execute_input": "2021-11-21T05:30:10.889575Z",
     "iopub.status.busy": "2021-11-21T05:30:10.887330Z",
     "iopub.status.idle": "2021-11-21T05:30:10.895340Z",
     "shell.execute_reply": "2021-11-21T05:30:10.893679Z"
    },
    "papermill": {
     "duration": 0.047444,
     "end_time": "2021-11-21T05:30:10.895769",
     "exception": false,
     "start_time": "2021-11-21T05:30:10.848325",
     "status": "completed"
    },
    "tags": []
   },
   "outputs": [],
   "source": [
    "df_pivot.columns = [\"stamp_1\", \"stamp_2\"]\n",
    "df_pivot_diff = df_pivot.diff(axis=1)"
   ]
  },
  {
   "cell_type": "code",
   "execution_count": 7,
   "id": "fifth-motion",
   "metadata": {
    "execution": {
     "iopub.execute_input": "2021-11-21T05:30:10.960122Z",
     "iopub.status.busy": "2021-11-21T05:30:10.949968Z",
     "iopub.status.idle": "2021-11-21T05:30:12.738797Z",
     "shell.execute_reply": "2021-11-21T05:30:12.741560Z"
    },
    "papermill": {
     "duration": 1.825671,
     "end_time": "2021-11-21T05:30:12.742416",
     "exception": false,
     "start_time": "2021-11-21T05:30:10.916745",
     "status": "completed"
    },
    "tags": []
   },
   "outputs": [
    {
     "data": {
      "text/plain": [
       "<AxesSubplot:ylabel='PRODUCT'>"
      ]
     },
     "execution_count": 7,
     "metadata": {},
     "output_type": "execute_result"
    },
    {
     "data": {
      "image/png": "[encoded data removed]",
      "text/plain": [
       "<Figure size 432x288 with 1 Axes>"
      ]
     },
     "metadata": {
      "needs_background": "light"
     },
     "output_type": "display_data"
    }
   ],
   "source": [
    "df_pivot_diff.sort_values(\"stamp_2\", ascending = False)[\"stamp_2\"].head(10).plot.barh()"
   ]
  },
  {
   "cell_type": "code",
   "execution_count": null,
   "id": "extra-executive",
   "metadata": {
    "papermill": {
     "duration": 0.036643,
     "end_time": "2021-11-21T05:30:12.812820",
     "exception": false,
     "start_time": "2021-11-21T05:30:12.776177",
     "status": "completed"
    },
    "tags": []
   },
   "outputs": [],
   "source": []
  }
 ],
 "metadata": {
  "kernelspec": {
   "display_name": "Python 3",
   "language": "python",
   "name": "python3"
  },
  "language_info": {
   "codemirror_mode": {
    "name": "ipython",
    "version": 3
   },
   "file_extension": ".py",
   "mimetype": "text/x-python",
   "name": "python",
   "nbconvert_exporter": "python",
   "pygments_lexer": "ipython3",
   "version": "3.9.5"
  },
  "papermill": {
   "default_parameters": {},
   "duration": 10.003629,
   "end_time": "2021-11-21T05:30:14.560025",
   "environment_variables": {},
   "exception": null,
   "input_path": "eBay_Overview.ipynb",
   "output_path": "eBay_Overview.ipynb",
   "parameters": {},
   "start_time": "2021-11-21T05:30:04.556396",
   "version": "2.3.3"
  }
 },
 "nbformat": 4,
 "nbformat_minor": 5
}