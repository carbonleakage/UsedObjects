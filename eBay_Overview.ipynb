{
 "cells": [
  {
   "cell_type": "code",
   "execution_count": 1,
   "id": "reverse-picking",
   "metadata": {
    "execution": {
     "iopub.execute_input": "2021-11-04T15:30:07.417696Z",
     "iopub.status.busy": "2021-11-04T15:30:07.415312Z",
     "iopub.status.idle": "2021-11-04T15:30:08.384416Z",
     "shell.execute_reply": "2021-11-04T15:30:08.386098Z"
    },
    "papermill": {
     "duration": 1.018992,
     "end_time": "2021-11-04T15:30:08.386819",
     "exception": false,
     "start_time": "2021-11-04T15:30:07.367827",
     "status": "completed"
    },
    "tags": []
   },
   "outputs": [],
   "source": [
    "import pandas as pd\n",
    "import sqlite3"
   ]
  },
  {
   "cell_type": "code",
   "execution_count": 2,
   "id": "innovative-syndrome",
   "metadata": {
    "execution": {
     "iopub.execute_input": "2021-11-04T15:30:08.448790Z",
     "iopub.status.busy": "2021-11-04T15:30:08.446379Z",
     "iopub.status.idle": "2021-11-04T15:30:09.174937Z",
     "shell.execute_reply": "2021-11-04T15:30:09.176410Z"
    },
    "papermill": {
     "duration": 0.762997,
     "end_time": "2021-11-04T15:30:09.176929",
     "exception": false,
     "start_time": "2021-11-04T15:30:08.413932",
     "status": "completed"
    },
    "tags": []
   },
   "outputs": [],
   "source": [
    "timestamps = pd.read_sql(\"select distinct record_time from EBAY_TOP_BERLIN order by record_time desc limit 2\", sqlite3.connect(\"UsedObjects.db\"))"
   ]
  },
  {
   "cell_type": "code",
   "execution_count": 3,
   "id": "periodic-identification",
   "metadata": {
    "execution": {
     "iopub.execute_input": "2021-11-04T15:30:09.245231Z",
     "iopub.status.busy": "2021-11-04T15:30:09.242894Z",
     "iopub.status.idle": "2021-11-04T15:30:09.265154Z",
     "shell.execute_reply": "2021-11-04T15:30:09.266631Z"
    },
    "papermill": {
     "duration": 0.070735,
     "end_time": "2021-11-04T15:30:09.267121",
     "exception": false,
     "start_time": "2021-11-04T15:30:09.196386",
     "status": "completed"
    },
    "tags": []
   },
   "outputs": [
    {
     "data": {
      "text/html": [
       "<div>\n",
       "<style scoped>\n",
       "    .dataframe tbody tr th:only-of-type {\n",
       "        vertical-align: middle;\n",
       "    }\n",
       "\n",
       "    .dataframe tbody tr th {\n",
       "        vertical-align: top;\n",
       "    }\n",
       "\n",
       "    .dataframe thead th {\n",
       "        text-align: right;\n",
       "    }\n",
       "</style>\n",
       "<table border=\"1\" class=\"dataframe\">\n",
       "  <thead>\n",
       "    <tr style=\"text-align: right;\">\n",
       "      <th></th>\n",
       "      <th>RECORD_TIME</th>\n",
       "    </tr>\n",
       "  </thead>\n",
       "  <tbody>\n",
       "    <tr>\n",
       "      <th>0</th>\n",
       "      <td>2021-11-04 16:30</td>\n",
       "    </tr>\n",
       "    <tr>\n",
       "      <th>1</th>\n",
       "      <td>2021-11-04 16:00</td>\n",
       "    </tr>\n",
       "  </tbody>\n",
       "</table>\n",
       "</div>"
      ],
      "text/plain": [
       "        RECORD_TIME\n",
       "0  2021-11-04 16:30\n",
       "1  2021-11-04 16:00"
      ]
     },
     "execution_count": 3,
     "metadata": {},
     "output_type": "execute_result"
    }
   ],
   "source": [
    "timestamps"
   ]
  },
  {
   "cell_type": "code",
   "execution_count": 4,
   "id": "alternate-victory",
   "metadata": {
    "execution": {
     "iopub.execute_input": "2021-11-04T15:30:09.322380Z",
     "iopub.status.busy": "2021-11-04T15:30:09.319990Z",
     "iopub.status.idle": "2021-11-04T15:30:10.384602Z",
     "shell.execute_reply": "2021-11-04T15:30:10.386270Z"
    },
    "papermill": {
     "duration": 1.098779,
     "end_time": "2021-11-04T15:30:10.386765",
     "exception": false,
     "start_time": "2021-11-04T15:30:09.287986",
     "status": "completed"
    },
    "tags": []
   },
   "outputs": [],
   "source": [
    "df = pd.read_sql(\"select * from EBAY_TOP_BERLIN where record_time in (select distinct record_time from EBAY_TOP_BERLIN order by record_time desc limit 2)\", sqlite3.connect(\"UsedObjects.db\"))"
   ]
  },
  {
   "cell_type": "code",
   "execution_count": 5,
   "id": "popular-active",
   "metadata": {
    "execution": {
     "iopub.execute_input": "2021-11-04T15:30:10.455670Z",
     "iopub.status.busy": "2021-11-04T15:30:10.452538Z",
     "iopub.status.idle": "2021-11-04T15:30:10.485623Z",
     "shell.execute_reply": "2021-11-04T15:30:10.487108Z"
    },
    "papermill": {
     "duration": 0.078605,
     "end_time": "2021-11-04T15:30:10.487579",
     "exception": false,
     "start_time": "2021-11-04T15:30:10.408974",
     "status": "completed"
    },
    "tags": []
   },
   "outputs": [],
   "source": [
    "df_pivot = df.pivot_table(index=\"PRODUCT\", columns = \"RECORD_TIME\", values = \"LISTING_COUNT\")"
   ]
  },
  {
   "cell_type": "code",
   "execution_count": 6,
   "id": "union-huntington",
   "metadata": {
    "execution": {
     "iopub.execute_input": "2021-11-04T15:30:10.549817Z",
     "iopub.status.busy": "2021-11-04T15:30:10.547397Z",
     "iopub.status.idle": "2021-11-04T15:30:10.553659Z",
     "shell.execute_reply": "2021-11-04T15:30:10.555150Z"
    },
    "papermill": {
     "duration": 0.045804,
     "end_time": "2021-11-04T15:30:10.555654",
     "exception": false,
     "start_time": "2021-11-04T15:30:10.509850",
     "status": "completed"
    },
    "tags": []
   },
   "outputs": [],
   "source": [
    "df_pivot.columns = [\"stamp_1\", \"stamp_2\"]\n",
    "df_pivot_diff = df_pivot.diff(axis=1)"
   ]
  },
  {
   "cell_type": "code",
   "execution_count": 7,
   "id": "fifth-motion",
   "metadata": {
    "execution": {
     "iopub.execute_input": "2021-11-04T15:30:10.623735Z",
     "iopub.status.busy": "2021-11-04T15:30:10.612672Z",
     "iopub.status.idle": "2021-11-04T15:30:12.432015Z",
     "shell.execute_reply": "2021-11-04T15:30:12.433518Z"
    },
    "papermill": {
     "duration": 1.857414,
     "end_time": "2021-11-04T15:30:12.433991",
     "exception": false,
     "start_time": "2021-11-04T15:30:10.576577",
     "status": "completed"
    },
    "tags": []
   },
   "outputs": [
    {
     "data": {
      "text/plain": [
       "<AxesSubplot:ylabel='PRODUCT'>"
      ]
     },
     "execution_count": 7,
     "metadata": {},
     "output_type": "execute_result"
    },
    {
     "data": {
      "image/png": "[encoded data removed]",
      "text/plain": [
       "<Figure size 432x288 with 1 Axes>"
      ]
     },
     "metadata": {
      "needs_background": "light"
     },
     "output_type": "display_data"
    }
   ],
   "source": [
    "df_pivot_diff.sort_values(\"stamp_2\", ascending = False)[\"stamp_2\"].head(10).plot.barh()"
   ]
  },
  {
   "cell_type": "code",
   "execution_count": null,
   "id": "extra-executive",
   "metadata": {
    "papermill": {
     "duration": 0.027231,
     "end_time": "2021-11-04T15:30:12.489459",
     "exception": false,
     "start_time": "2021-11-04T15:30:12.462228",
     "status": "completed"
    },
    "tags": []
   },
   "outputs": [],
   "source": []
  }
 ],
 "metadata": {
  "kernelspec": {
   "display_name": "Python 3",
   "language": "python",
   "name": "python3"
  },
  "language_info": {
   "codemirror_mode": {
    "name": "ipython",
    "version": 3
   },
   "file_extension": ".py",
   "mimetype": "text/x-python",
   "name": "python",
   "nbconvert_exporter": "python",
   "pygments_lexer": "ipython3",
   "version": "3.9.5"
  },
  "papermill": {
   "default_parameters": {},
   "duration": 10.930842,
   "end_time": "2021-11-04T15:30:15.557135",
   "environment_variables": {},
   "exception": null,
   "input_path": "eBay_Overview.ipynb",
   "output_path": "eBay_Overview.ipynb",
   "parameters": {},
   "start_time": "2021-11-04T15:30:04.626293",
   "version": "2.3.3"
  }
 },
 "nbformat": 4,
 "nbformat_minor": 5
}