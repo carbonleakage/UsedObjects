{
 "cells": [
  {
   "cell_type": "code",
   "execution_count": 1,
   "id": "reverse-picking",
   "metadata": {
    "execution": {
     "iopub.execute_input": "2021-11-19T20:00:07.378115Z",
     "iopub.status.busy": "2021-11-19T20:00:07.375863Z",
     "iopub.status.idle": "2021-11-19T20:00:08.327909Z",
     "shell.execute_reply": "2021-11-19T20:00:08.329568Z"
    },
    "papermill": {
     "duration": 0.999221,
     "end_time": "2021-11-19T20:00:08.330414",
     "exception": false,
     "start_time": "2021-11-19T20:00:07.331193",
     "status": "completed"
    },
    "tags": []
   },
   "outputs": [],
   "source": [
    "import pandas as pd\n",
    "import sqlite3"
   ]
  },
  {
   "cell_type": "code",
   "execution_count": 2,
   "id": "innovative-syndrome",
   "metadata": {
    "execution": {
     "iopub.execute_input": "2021-11-19T20:00:08.396755Z",
     "iopub.status.busy": "2021-11-19T20:00:08.394448Z",
     "iopub.status.idle": "2021-11-19T20:00:09.242365Z",
     "shell.execute_reply": "2021-11-19T20:00:09.243780Z"
    },
    "papermill": {
     "duration": 0.893897,
     "end_time": "2021-11-19T20:00:09.244276",
     "exception": false,
     "start_time": "2021-11-19T20:00:08.350379",
     "status": "completed"
    },
    "tags": []
   },
   "outputs": [],
   "source": [
    "timestamps = pd.read_sql(\"select distinct record_time from EBAY_TOP_BERLIN order by record_time desc limit 2\", sqlite3.connect(\"UsedObjects.db\"))"
   ]
  },
  {
   "cell_type": "code",
   "execution_count": 3,
   "id": "periodic-identification",
   "metadata": {
    "execution": {
     "iopub.execute_input": "2021-11-19T20:00:09.312303Z",
     "iopub.status.busy": "2021-11-19T20:00:09.310170Z",
     "iopub.status.idle": "2021-11-19T20:00:09.332669Z",
     "shell.execute_reply": "2021-11-19T20:00:09.334239Z"
    },
    "papermill": {
     "duration": 0.071095,
     "end_time": "2021-11-19T20:00:09.334691",
     "exception": false,
     "start_time": "2021-11-19T20:00:09.263596",
     "status": "completed"
    },
    "tags": []
   },
   "outputs": [
    {
     "data": {
      "text/html": [
       "<div>\n",
       "<style scoped>\n",
       "    .dataframe tbody tr th:only-of-type {\n",
       "        vertical-align: middle;\n",
       "    }\n",
       "\n",
       "    .dataframe tbody tr th {\n",
       "        vertical-align: top;\n",
       "    }\n",
       "\n",
       "    .dataframe thead th {\n",
       "        text-align: right;\n",
       "    }\n",
       "</style>\n",
       "<table border=\"1\" class=\"dataframe\">\n",
       "  <thead>\n",
       "    <tr style=\"text-align: right;\">\n",
       "      <th></th>\n",
       "      <th>RECORD_TIME</th>\n",
       "    </tr>\n",
       "  </thead>\n",
       "  <tbody>\n",
       "    <tr>\n",
       "      <th>0</th>\n",
       "      <td>2021-11-19 21:00</td>\n",
       "    </tr>\n",
       "    <tr>\n",
       "      <th>1</th>\n",
       "      <td>2021-11-19 20:30</td>\n",
       "    </tr>\n",
       "  </tbody>\n",
       "</table>\n",
       "</div>"
      ],
      "text/plain": [
       "        RECORD_TIME\n",
       "0  2021-11-19 21:00\n",
       "1  2021-11-19 20:30"
      ]
     },
     "execution_count": 3,
     "metadata": {},
     "output_type": "execute_result"
    }
   ],
   "source": [
    "timestamps"
   ]
  },
  {
   "cell_type": "code",
   "execution_count": 4,
   "id": "alternate-victory",
   "metadata": {
    "execution": {
     "iopub.execute_input": "2021-11-19T20:00:09.389275Z",
     "iopub.status.busy": "2021-11-19T20:00:09.386644Z",
     "iopub.status.idle": "2021-11-19T20:00:10.616217Z",
     "shell.execute_reply": "2021-11-19T20:00:10.617674Z"
    },
    "papermill": {
     "duration": 1.263103,
     "end_time": "2021-11-19T20:00:10.618121",
     "exception": false,
     "start_time": "2021-11-19T20:00:09.355018",
     "status": "completed"
    },
    "tags": []
   },
   "outputs": [],
   "source": [
    "df = pd.read_sql(\"select * from EBAY_TOP_BERLIN where record_time in (select distinct record_time from EBAY_TOP_BERLIN order by record_time desc limit 2)\", sqlite3.connect(\"UsedObjects.db\"))"
   ]
  },
  {
   "cell_type": "code",
   "execution_count": 5,
   "id": "popular-active",
   "metadata": {
    "execution": {
     "iopub.execute_input": "2021-11-19T20:00:10.698684Z",
     "iopub.status.busy": "2021-11-19T20:00:10.683600Z",
     "iopub.status.idle": "2021-11-19T20:00:10.716227Z",
     "shell.execute_reply": "2021-11-19T20:00:10.717873Z"
    },
    "papermill": {
     "duration": 0.078391,
     "end_time": "2021-11-19T20:00:10.718347",
     "exception": false,
     "start_time": "2021-11-19T20:00:10.639956",
     "status": "completed"
    },
    "tags": []
   },
   "outputs": [],
   "source": [
    "df_pivot = df.pivot_table(index=\"PRODUCT\", columns = \"RECORD_TIME\", values = \"LISTING_COUNT\")"
   ]
  },
  {
   "cell_type": "code",
   "execution_count": 6,
   "id": "union-huntington",
   "metadata": {
    "execution": {
     "iopub.execute_input": "2021-11-19T20:00:10.776122Z",
     "iopub.status.busy": "2021-11-19T20:00:10.773969Z",
     "iopub.status.idle": "2021-11-19T20:00:10.779989Z",
     "shell.execute_reply": "2021-11-19T20:00:10.781525Z"
    },
    "papermill": {
     "duration": 0.043568,
     "end_time": "2021-11-19T20:00:10.781986",
     "exception": false,
     "start_time": "2021-11-19T20:00:10.738418",
     "status": "completed"
    },
    "tags": []
   },
   "outputs": [],
   "source": [
    "df_pivot.columns = [\"stamp_1\", \"stamp_2\"]\n",
    "df_pivot_diff = df_pivot.diff(axis=1)"
   ]
  },
  {
   "cell_type": "code",
   "execution_count": 7,
   "id": "fifth-motion",
   "metadata": {
    "execution": {
     "iopub.execute_input": "2021-11-19T20:00:10.843368Z",
     "iopub.status.busy": "2021-11-19T20:00:10.840199Z",
     "iopub.status.idle": "2021-11-19T20:00:12.563363Z",
     "shell.execute_reply": "2021-11-19T20:00:12.565555Z"
    },
    "papermill": {
     "duration": 1.763732,
     "end_time": "2021-11-19T20:00:12.566198",
     "exception": false,
     "start_time": "2021-11-19T20:00:10.802466",
     "status": "completed"
    },
    "tags": []
   },
   "outputs": [
    {
     "data": {
      "text/plain": [
       "<AxesSubplot:ylabel='PRODUCT'>"
      ]
     },
     "execution_count": 7,
     "metadata": {},
     "output_type": "execute_result"
    },
    {
     "data": {
      "image/png": "[encoded data removed]",
      "text/plain": [
       "<Figure size 432x288 with 1 Axes>"
      ]
     },
     "metadata": {
      "needs_background": "light"
     },
     "output_type": "display_data"
    }
   ],
   "source": [
    "df_pivot_diff.sort_values(\"stamp_2\", ascending = False)[\"stamp_2\"].head(10).plot.barh()"
   ]
  },
  {
   "cell_type": "code",
   "execution_count": null,
   "id": "extra-executive",
   "metadata": {
    "papermill": {
     "duration": 0.03707,
     "end_time": "2021-11-19T20:00:12.637472",
     "exception": false,
     "start_time": "2021-11-19T20:00:12.600402",
     "status": "completed"
    },
    "tags": []
   },
   "outputs": [],
   "source": []
  }
 ],
 "metadata": {
  "kernelspec": {
   "display_name": "Python 3",
   "language": "python",
   "name": "python3"
  },
  "language_info": {
   "codemirror_mode": {
    "name": "ipython",
    "version": 3
   },
   "file_extension": ".py",
   "mimetype": "text/x-python",
   "name": "python",
   "nbconvert_exporter": "python",
   "pygments_lexer": "ipython3",
   "version": "3.9.5"
  },
  "papermill": {
   "default_parameters": {},
   "duration": 8.921051,
   "end_time": "2021-11-19T20:00:13.509351",
   "environment_variables": {},
   "exception": null,
   "input_path": "eBay_Overview.ipynb",
   "output_path": "eBay_Overview.ipynb",
   "parameters": {},
   "start_time": "2021-11-19T20:00:04.588300",
   "version": "2.3.3"
  }
 },
 "nbformat": 4,
 "nbformat_minor": 5
}