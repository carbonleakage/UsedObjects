{
 "cells": [
  {
   "cell_type": "code",
   "execution_count": 1,
   "id": "reverse-picking",
   "metadata": {
    "execution": {
     "iopub.execute_input": "2021-09-23T11:30:07.213386Z",
     "iopub.status.busy": "2021-09-23T11:30:07.211325Z",
     "iopub.status.idle": "2021-09-23T11:30:08.016556Z",
     "shell.execute_reply": "2021-09-23T11:30:08.017805Z"
    },
    "papermill": {
     "duration": 0.856695,
     "end_time": "2021-09-23T11:30:08.018415",
     "exception": false,
     "start_time": "2021-09-23T11:30:07.161720",
     "status": "completed"
    },
    "tags": []
   },
   "outputs": [],
   "source": [
    "import pandas as pd\n",
    "import sqlite3"
   ]
  },
  {
   "cell_type": "code",
   "execution_count": 2,
   "id": "innovative-syndrome",
   "metadata": {
    "execution": {
     "iopub.execute_input": "2021-09-23T11:30:08.071913Z",
     "iopub.status.busy": "2021-09-23T11:30:08.069503Z",
     "iopub.status.idle": "2021-09-23T11:30:08.427292Z",
     "shell.execute_reply": "2021-09-23T11:30:08.428772Z"
    },
    "papermill": {
     "duration": 0.388163,
     "end_time": "2021-09-23T11:30:08.429214",
     "exception": false,
     "start_time": "2021-09-23T11:30:08.041051",
     "status": "completed"
    },
    "tags": []
   },
   "outputs": [],
   "source": [
    "timestamps = pd.read_sql(\"select distinct record_time from EBAY_TOP_BERLIN order by record_time desc limit 2\", sqlite3.connect(\"UsedObjects.db\"))"
   ]
  },
  {
   "cell_type": "code",
   "execution_count": 3,
   "id": "periodic-identification",
   "metadata": {
    "execution": {
     "iopub.execute_input": "2021-09-23T11:30:08.496523Z",
     "iopub.status.busy": "2021-09-23T11:30:08.494416Z",
     "iopub.status.idle": "2021-09-23T11:30:08.514302Z",
     "shell.execute_reply": "2021-09-23T11:30:08.515604Z"
    },
    "papermill": {
     "duration": 0.066779,
     "end_time": "2021-09-23T11:30:08.516043",
     "exception": false,
     "start_time": "2021-09-23T11:30:08.449264",
     "status": "completed"
    },
    "tags": []
   },
   "outputs": [
    {
     "data": {
      "text/html": [
       "<div>\n",
       "<style scoped>\n",
       "    .dataframe tbody tr th:only-of-type {\n",
       "        vertical-align: middle;\n",
       "    }\n",
       "\n",
       "    .dataframe tbody tr th {\n",
       "        vertical-align: top;\n",
       "    }\n",
       "\n",
       "    .dataframe thead th {\n",
       "        text-align: right;\n",
       "    }\n",
       "</style>\n",
       "<table border=\"1\" class=\"dataframe\">\n",
       "  <thead>\n",
       "    <tr style=\"text-align: right;\">\n",
       "      <th></th>\n",
       "      <th>RECORD_TIME</th>\n",
       "    </tr>\n",
       "  </thead>\n",
       "  <tbody>\n",
       "    <tr>\n",
       "      <th>0</th>\n",
       "      <td>2021-09-23 13:30</td>\n",
       "    </tr>\n",
       "    <tr>\n",
       "      <th>1</th>\n",
       "      <td>2021-09-23 13:00</td>\n",
       "    </tr>\n",
       "  </tbody>\n",
       "</table>\n",
       "</div>"
      ],
      "text/plain": [
       "        RECORD_TIME\n",
       "0  2021-09-23 13:30\n",
       "1  2021-09-23 13:00"
      ]
     },
     "execution_count": 3,
     "metadata": {},
     "output_type": "execute_result"
    }
   ],
   "source": [
    "timestamps"
   ]
  },
  {
   "cell_type": "code",
   "execution_count": 4,
   "id": "alternate-victory",
   "metadata": {
    "execution": {
     "iopub.execute_input": "2021-09-23T11:30:08.566680Z",
     "iopub.status.busy": "2021-09-23T11:30:08.564846Z",
     "iopub.status.idle": "2021-09-23T11:30:09.092763Z",
     "shell.execute_reply": "2021-09-23T11:30:09.093984Z"
    },
    "papermill": {
     "duration": 0.557836,
     "end_time": "2021-09-23T11:30:09.094381",
     "exception": false,
     "start_time": "2021-09-23T11:30:08.536545",
     "status": "completed"
    },
    "tags": []
   },
   "outputs": [],
   "source": [
    "df = pd.read_sql(\"select * from EBAY_TOP_BERLIN where record_time in (select distinct record_time from EBAY_TOP_BERLIN order by record_time desc limit 2)\", sqlite3.connect(\"UsedObjects.db\"))"
   ]
  },
  {
   "cell_type": "code",
   "execution_count": 5,
   "id": "popular-active",
   "metadata": {
    "execution": {
     "iopub.execute_input": "2021-09-23T11:30:09.173699Z",
     "iopub.status.busy": "2021-09-23T11:30:09.161630Z",
     "iopub.status.idle": "2021-09-23T11:30:09.189876Z",
     "shell.execute_reply": "2021-09-23T11:30:09.191240Z"
    },
    "papermill": {
     "duration": 0.071261,
     "end_time": "2021-09-23T11:30:09.191664",
     "exception": false,
     "start_time": "2021-09-23T11:30:09.120403",
     "status": "completed"
    },
    "tags": []
   },
   "outputs": [],
   "source": [
    "df_pivot = df.pivot_table(index=\"PRODUCT\", columns = \"RECORD_TIME\", values = \"LISTING_COUNT\")"
   ]
  },
  {
   "cell_type": "code",
   "execution_count": 6,
   "id": "union-huntington",
   "metadata": {
    "execution": {
     "iopub.execute_input": "2021-09-23T11:30:09.248390Z",
     "iopub.status.busy": "2021-09-23T11:30:09.246162Z",
     "iopub.status.idle": "2021-09-23T11:30:09.251858Z",
     "shell.execute_reply": "2021-09-23T11:30:09.253259Z"
    },
    "papermill": {
     "duration": 0.040995,
     "end_time": "2021-09-23T11:30:09.253697",
     "exception": false,
     "start_time": "2021-09-23T11:30:09.212702",
     "status": "completed"
    },
    "tags": []
   },
   "outputs": [],
   "source": [
    "df_pivot.columns = [\"stamp_1\", \"stamp_2\"]\n",
    "df_pivot_diff = df_pivot.diff(axis=1)"
   ]
  },
  {
   "cell_type": "code",
   "execution_count": 7,
   "id": "fifth-motion",
   "metadata": {
    "execution": {
     "iopub.execute_input": "2021-09-23T11:30:09.310634Z",
     "iopub.status.busy": "2021-09-23T11:30:09.307990Z",
     "iopub.status.idle": "2021-09-23T11:30:10.773792Z",
     "shell.execute_reply": "2021-09-23T11:30:10.775317Z"
    },
    "papermill": {
     "duration": 1.4999,
     "end_time": "2021-09-23T11:30:10.775775",
     "exception": false,
     "start_time": "2021-09-23T11:30:09.275875",
     "status": "completed"
    },
    "tags": []
   },
   "outputs": [
    {
     "data": {
      "text/plain": [
       "<AxesSubplot:ylabel='PRODUCT'>"
      ]
     },
     "execution_count": 7,
     "metadata": {},
     "output_type": "execute_result"
    },
    {
     "data": {
      "image/png": "[encoded data removed]",
      "text/plain": [
       "<Figure size 432x288 with 1 Axes>"
      ]
     },
     "metadata": {
      "needs_background": "light"
     },
     "output_type": "display_data"
    }
   ],
   "source": [
    "df_pivot_diff.sort_values(\"stamp_2\", ascending = False)[\"stamp_2\"].head(10).plot.barh()"
   ]
  },
  {
   "cell_type": "code",
   "execution_count": null,
   "id": "extra-executive",
   "metadata": {
    "papermill": {
     "duration": 0.022378,
     "end_time": "2021-09-23T11:30:10.823993",
     "exception": false,
     "start_time": "2021-09-23T11:30:10.801615",
     "status": "completed"
    },
    "tags": []
   },
   "outputs": [],
   "source": []
  }
 ],
 "metadata": {
  "kernelspec": {
   "display_name": "Python 3",
   "language": "python",
   "name": "python3"
  },
  "language_info": {
   "codemirror_mode": {
    "name": "ipython",
    "version": 3
   },
   "file_extension": ".py",
   "mimetype": "text/x-python",
   "name": "python",
   "nbconvert_exporter": "python",
   "pygments_lexer": "ipython3",
   "version": "3.9.5"
  },
  "papermill": {
   "default_parameters": {},
   "duration": 6.709232,
   "end_time": "2021-09-23T11:30:11.466897",
   "environment_variables": {},
   "exception": null,
   "input_path": "eBay_Overview.ipynb",
   "output_path": "eBay_Overview.ipynb",
   "parameters": {},
   "start_time": "2021-09-23T11:30:04.757665",
   "version": "2.3.3"
  }
 },
 "nbformat": 4,
 "nbformat_minor": 5
}