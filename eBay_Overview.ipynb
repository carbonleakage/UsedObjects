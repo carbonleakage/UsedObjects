{
 "cells": [
  {
   "cell_type": "code",
   "execution_count": 1,
   "id": "reverse-picking",
   "metadata": {
    "execution": {
     "iopub.execute_input": "2021-11-16T17:30:08.313605Z",
     "iopub.status.busy": "2021-11-16T17:30:08.311258Z",
     "iopub.status.idle": "2021-11-16T17:30:09.269281Z",
     "shell.execute_reply": "2021-11-16T17:30:09.267313Z"
    },
    "papermill": {
     "duration": 1.005318,
     "end_time": "2021-11-16T17:30:09.269753",
     "exception": false,
     "start_time": "2021-11-16T17:30:08.264435",
     "status": "completed"
    },
    "tags": []
   },
   "outputs": [],
   "source": [
    "import pandas as pd\n",
    "import sqlite3"
   ]
  },
  {
   "cell_type": "code",
   "execution_count": 2,
   "id": "innovative-syndrome",
   "metadata": {
    "execution": {
     "iopub.execute_input": "2021-11-16T17:30:09.333680Z",
     "iopub.status.busy": "2021-11-16T17:30:09.331286Z",
     "iopub.status.idle": "2021-11-16T17:30:10.165274Z",
     "shell.execute_reply": "2021-11-16T17:30:10.166749Z"
    },
    "papermill": {
     "duration": 0.869898,
     "end_time": "2021-11-16T17:30:10.167189",
     "exception": false,
     "start_time": "2021-11-16T17:30:09.297291",
     "status": "completed"
    },
    "tags": []
   },
   "outputs": [],
   "source": [
    "timestamps = pd.read_sql(\"select distinct record_time from EBAY_TOP_BERLIN order by record_time desc limit 2\", sqlite3.connect(\"UsedObjects.db\"))"
   ]
  },
  {
   "cell_type": "code",
   "execution_count": 3,
   "id": "periodic-identification",
   "metadata": {
    "execution": {
     "iopub.execute_input": "2021-11-16T17:30:10.236498Z",
     "iopub.status.busy": "2021-11-16T17:30:10.234347Z",
     "iopub.status.idle": "2021-11-16T17:30:10.257814Z",
     "shell.execute_reply": "2021-11-16T17:30:10.259267Z"
    },
    "papermill": {
     "duration": 0.072005,
     "end_time": "2021-11-16T17:30:10.259808",
     "exception": false,
     "start_time": "2021-11-16T17:30:10.187803",
     "status": "completed"
    },
    "tags": []
   },
   "outputs": [
    {
     "data": {
      "text/html": [
       "<div>\n",
       "<style scoped>\n",
       "    .dataframe tbody tr th:only-of-type {\n",
       "        vertical-align: middle;\n",
       "    }\n",
       "\n",
       "    .dataframe tbody tr th {\n",
       "        vertical-align: top;\n",
       "    }\n",
       "\n",
       "    .dataframe thead th {\n",
       "        text-align: right;\n",
       "    }\n",
       "</style>\n",
       "<table border=\"1\" class=\"dataframe\">\n",
       "  <thead>\n",
       "    <tr style=\"text-align: right;\">\n",
       "      <th></th>\n",
       "      <th>RECORD_TIME</th>\n",
       "    </tr>\n",
       "  </thead>\n",
       "  <tbody>\n",
       "    <tr>\n",
       "      <th>0</th>\n",
       "      <td>2021-11-16 18:30</td>\n",
       "    </tr>\n",
       "    <tr>\n",
       "      <th>1</th>\n",
       "      <td>2021-11-16 18:00</td>\n",
       "    </tr>\n",
       "  </tbody>\n",
       "</table>\n",
       "</div>"
      ],
      "text/plain": [
       "        RECORD_TIME\n",
       "0  2021-11-16 18:30\n",
       "1  2021-11-16 18:00"
      ]
     },
     "execution_count": 3,
     "metadata": {},
     "output_type": "execute_result"
    }
   ],
   "source": [
    "timestamps"
   ]
  },
  {
   "cell_type": "code",
   "execution_count": 4,
   "id": "alternate-victory",
   "metadata": {
    "execution": {
     "iopub.execute_input": "2021-11-16T17:30:10.318611Z",
     "iopub.status.busy": "2021-11-16T17:30:10.316773Z",
     "iopub.status.idle": "2021-11-16T17:30:11.541569Z",
     "shell.execute_reply": "2021-11-16T17:30:11.543539Z"
    },
    "papermill": {
     "duration": 1.261409,
     "end_time": "2021-11-16T17:30:11.544019",
     "exception": false,
     "start_time": "2021-11-16T17:30:10.282610",
     "status": "completed"
    },
    "tags": []
   },
   "outputs": [],
   "source": [
    "df = pd.read_sql(\"select * from EBAY_TOP_BERLIN where record_time in (select distinct record_time from EBAY_TOP_BERLIN order by record_time desc limit 2)\", sqlite3.connect(\"UsedObjects.db\"))"
   ]
  },
  {
   "cell_type": "code",
   "execution_count": 5,
   "id": "popular-active",
   "metadata": {
    "execution": {
     "iopub.execute_input": "2021-11-16T17:30:11.618908Z",
     "iopub.status.busy": "2021-11-16T17:30:11.610216Z",
     "iopub.status.idle": "2021-11-16T17:30:11.644314Z",
     "shell.execute_reply": "2021-11-16T17:30:11.645753Z"
    },
    "papermill": {
     "duration": 0.078731,
     "end_time": "2021-11-16T17:30:11.646235",
     "exception": false,
     "start_time": "2021-11-16T17:30:11.567504",
     "status": "completed"
    },
    "tags": []
   },
   "outputs": [],
   "source": [
    "df_pivot = df.pivot_table(index=\"PRODUCT\", columns = \"RECORD_TIME\", values = \"LISTING_COUNT\")"
   ]
  },
  {
   "cell_type": "code",
   "execution_count": 6,
   "id": "union-huntington",
   "metadata": {
    "execution": {
     "iopub.execute_input": "2021-11-16T17:30:11.705266Z",
     "iopub.status.busy": "2021-11-16T17:30:11.702991Z",
     "iopub.status.idle": "2021-11-16T17:30:11.708052Z",
     "shell.execute_reply": "2021-11-16T17:30:11.709599Z"
    },
    "papermill": {
     "duration": 0.04376,
     "end_time": "2021-11-16T17:30:11.710074",
     "exception": false,
     "start_time": "2021-11-16T17:30:11.666314",
     "status": "completed"
    },
    "tags": []
   },
   "outputs": [],
   "source": [
    "df_pivot.columns = [\"stamp_1\", \"stamp_2\"]\n",
    "df_pivot_diff = df_pivot.diff(axis=1)"
   ]
  },
  {
   "cell_type": "code",
   "execution_count": 7,
   "id": "fifth-motion",
   "metadata": {
    "execution": {
     "iopub.execute_input": "2021-11-16T17:30:11.768049Z",
     "iopub.status.busy": "2021-11-16T17:30:11.765544Z",
     "iopub.status.idle": "2021-11-16T17:30:13.794901Z",
     "shell.execute_reply": "2021-11-16T17:30:13.796667Z"
    },
    "papermill": {
     "duration": 2.066636,
     "end_time": "2021-11-16T17:30:13.797243",
     "exception": false,
     "start_time": "2021-11-16T17:30:11.730607",
     "status": "completed"
    },
    "tags": []
   },
   "outputs": [
    {
     "data": {
      "text/plain": [
       "<AxesSubplot:ylabel='PRODUCT'>"
      ]
     },
     "execution_count": 7,
     "metadata": {},
     "output_type": "execute_result"
    },
    {
     "data": {
      "image/png": "[encoded data removed]",
      "text/plain": [
       "<Figure size 432x288 with 1 Axes>"
      ]
     },
     "metadata": {
      "needs_background": "light"
     },
     "output_type": "display_data"
    }
   ],
   "source": [
    "df_pivot_diff.sort_values(\"stamp_2\", ascending = False)[\"stamp_2\"].head(10).plot.barh()"
   ]
  },
  {
   "cell_type": "code",
   "execution_count": null,
   "id": "extra-executive",
   "metadata": {
    "papermill": {
     "duration": 0.022421,
     "end_time": "2021-11-16T17:30:13.845994",
     "exception": false,
     "start_time": "2021-11-16T17:30:13.823573",
     "status": "completed"
    },
    "tags": []
   },
   "outputs": [],
   "source": []
  }
 ],
 "metadata": {
  "kernelspec": {
   "display_name": "Python 3",
   "language": "python",
   "name": "python3"
  },
  "language_info": {
   "codemirror_mode": {
    "name": "ipython",
    "version": 3
   },
   "file_extension": ".py",
   "mimetype": "text/x-python",
   "name": "python",
   "nbconvert_exporter": "python",
   "pygments_lexer": "ipython3",
   "version": "3.9.5"
  },
  "papermill": {
   "default_parameters": {},
   "duration": 9.933395,
   "end_time": "2021-11-16T17:30:15.476991",
   "environment_variables": {},
   "exception": null,
   "input_path": "eBay_Overview.ipynb",
   "output_path": "eBay_Overview.ipynb",
   "parameters": {},
   "start_time": "2021-11-16T17:30:05.543596",
   "version": "2.3.3"
  }
 },
 "nbformat": 4,
 "nbformat_minor": 5
}