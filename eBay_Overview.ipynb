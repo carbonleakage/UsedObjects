{
 "cells": [
  {
   "cell_type": "code",
   "execution_count": 1,
   "id": "reverse-picking",
   "metadata": {
    "execution": {
     "iopub.execute_input": "2021-10-24T23:00:07.011286Z",
     "iopub.status.busy": "2021-10-24T23:00:07.009320Z",
     "iopub.status.idle": "2021-10-24T23:00:07.823796Z",
     "shell.execute_reply": "2021-10-24T23:00:07.822021Z"
    },
    "papermill": {
     "duration": 0.867032,
     "end_time": "2021-10-24T23:00:07.824232",
     "exception": false,
     "start_time": "2021-10-24T23:00:06.957200",
     "status": "completed"
    },
    "tags": []
   },
   "outputs": [],
   "source": [
    "import pandas as pd\n",
    "import sqlite3"
   ]
  },
  {
   "cell_type": "code",
   "execution_count": 2,
   "id": "innovative-syndrome",
   "metadata": {
    "execution": {
     "iopub.execute_input": "2021-10-24T23:00:07.875195Z",
     "iopub.status.busy": "2021-10-24T23:00:07.872867Z",
     "iopub.status.idle": "2021-10-24T23:00:08.510136Z",
     "shell.execute_reply": "2021-10-24T23:00:08.511334Z"
    },
    "papermill": {
     "duration": 0.667317,
     "end_time": "2021-10-24T23:00:08.511730",
     "exception": false,
     "start_time": "2021-10-24T23:00:07.844413",
     "status": "completed"
    },
    "tags": []
   },
   "outputs": [],
   "source": [
    "timestamps = pd.read_sql(\"select distinct record_time from EBAY_TOP_BERLIN order by record_time desc limit 2\", sqlite3.connect(\"UsedObjects.db\"))"
   ]
  },
  {
   "cell_type": "code",
   "execution_count": 3,
   "id": "periodic-identification",
   "metadata": {
    "execution": {
     "iopub.execute_input": "2021-10-24T23:00:08.596278Z",
     "iopub.status.busy": "2021-10-24T23:00:08.594254Z",
     "iopub.status.idle": "2021-10-24T23:00:08.616341Z",
     "shell.execute_reply": "2021-10-24T23:00:08.617963Z"
    },
    "papermill": {
     "duration": 0.075297,
     "end_time": "2021-10-24T23:00:08.618453",
     "exception": false,
     "start_time": "2021-10-24T23:00:08.543156",
     "status": "completed"
    },
    "tags": []
   },
   "outputs": [
    {
     "data": {
      "text/html": [
       "<div>\n",
       "<style scoped>\n",
       "    .dataframe tbody tr th:only-of-type {\n",
       "        vertical-align: middle;\n",
       "    }\n",
       "\n",
       "    .dataframe tbody tr th {\n",
       "        vertical-align: top;\n",
       "    }\n",
       "\n",
       "    .dataframe thead th {\n",
       "        text-align: right;\n",
       "    }\n",
       "</style>\n",
       "<table border=\"1\" class=\"dataframe\">\n",
       "  <thead>\n",
       "    <tr style=\"text-align: right;\">\n",
       "      <th></th>\n",
       "      <th>RECORD_TIME</th>\n",
       "    </tr>\n",
       "  </thead>\n",
       "  <tbody>\n",
       "    <tr>\n",
       "      <th>0</th>\n",
       "      <td>2021-10-25 01:00</td>\n",
       "    </tr>\n",
       "    <tr>\n",
       "      <th>1</th>\n",
       "      <td>2021-10-25 00:30</td>\n",
       "    </tr>\n",
       "  </tbody>\n",
       "</table>\n",
       "</div>"
      ],
      "text/plain": [
       "        RECORD_TIME\n",
       "0  2021-10-25 01:00\n",
       "1  2021-10-25 00:30"
      ]
     },
     "execution_count": 3,
     "metadata": {},
     "output_type": "execute_result"
    }
   ],
   "source": [
    "timestamps"
   ]
  },
  {
   "cell_type": "code",
   "execution_count": 4,
   "id": "alternate-victory",
   "metadata": {
    "execution": {
     "iopub.execute_input": "2021-10-24T23:00:08.671026Z",
     "iopub.status.busy": "2021-10-24T23:00:08.668949Z",
     "iopub.status.idle": "2021-10-24T23:00:09.603013Z",
     "shell.execute_reply": "2021-10-24T23:00:09.604219Z"
    },
    "papermill": {
     "duration": 0.964453,
     "end_time": "2021-10-24T23:00:09.604621",
     "exception": false,
     "start_time": "2021-10-24T23:00:08.640168",
     "status": "completed"
    },
    "tags": []
   },
   "outputs": [],
   "source": [
    "df = pd.read_sql(\"select * from EBAY_TOP_BERLIN where record_time in (select distinct record_time from EBAY_TOP_BERLIN order by record_time desc limit 2)\", sqlite3.connect(\"UsedObjects.db\"))"
   ]
  },
  {
   "cell_type": "code",
   "execution_count": 5,
   "id": "popular-active",
   "metadata": {
    "execution": {
     "iopub.execute_input": "2021-10-24T23:00:09.678618Z",
     "iopub.status.busy": "2021-10-24T23:00:09.667423Z",
     "iopub.status.idle": "2021-10-24T23:00:09.694239Z",
     "shell.execute_reply": "2021-10-24T23:00:09.695457Z"
    },
    "papermill": {
     "duration": 0.068259,
     "end_time": "2021-10-24T23:00:09.695855",
     "exception": false,
     "start_time": "2021-10-24T23:00:09.627596",
     "status": "completed"
    },
    "tags": []
   },
   "outputs": [],
   "source": [
    "df_pivot = df.pivot_table(index=\"PRODUCT\", columns = \"RECORD_TIME\", values = \"LISTING_COUNT\")"
   ]
  },
  {
   "cell_type": "code",
   "execution_count": 6,
   "id": "union-huntington",
   "metadata": {
    "execution": {
     "iopub.execute_input": "2021-10-24T23:00:09.755431Z",
     "iopub.status.busy": "2021-10-24T23:00:09.753001Z",
     "iopub.status.idle": "2021-10-24T23:00:09.759170Z",
     "shell.execute_reply": "2021-10-24T23:00:09.760633Z"
    },
    "papermill": {
     "duration": 0.042896,
     "end_time": "2021-10-24T23:00:09.761158",
     "exception": false,
     "start_time": "2021-10-24T23:00:09.718262",
     "status": "completed"
    },
    "tags": []
   },
   "outputs": [],
   "source": [
    "df_pivot.columns = [\"stamp_1\", \"stamp_2\"]\n",
    "df_pivot_diff = df_pivot.diff(axis=1)"
   ]
  },
  {
   "cell_type": "code",
   "execution_count": 7,
   "id": "fifth-motion",
   "metadata": {
    "execution": {
     "iopub.execute_input": "2021-10-24T23:00:09.816464Z",
     "iopub.status.busy": "2021-10-24T23:00:09.814268Z",
     "iopub.status.idle": "2021-10-24T23:00:11.305950Z",
     "shell.execute_reply": "2021-10-24T23:00:11.307411Z"
    },
    "papermill": {
     "duration": 1.524786,
     "end_time": "2021-10-24T23:00:11.307879",
     "exception": false,
     "start_time": "2021-10-24T23:00:09.783093",
     "status": "completed"
    },
    "tags": []
   },
   "outputs": [
    {
     "data": {
      "text/plain": [
       "<AxesSubplot:ylabel='PRODUCT'>"
      ]
     },
     "execution_count": 7,
     "metadata": {},
     "output_type": "execute_result"
    },
    {
     "data": {
      "image/png": "[encoded data removed]",
      "text/plain": [
       "<Figure size 432x288 with 1 Axes>"
      ]
     },
     "metadata": {
      "needs_background": "light"
     },
     "output_type": "display_data"
    }
   ],
   "source": [
    "df_pivot_diff.sort_values(\"stamp_2\", ascending = False)[\"stamp_2\"].head(10).plot.barh()"
   ]
  },
  {
   "cell_type": "code",
   "execution_count": null,
   "id": "extra-executive",
   "metadata": {
    "papermill": {
     "duration": 0.022306,
     "end_time": "2021-10-24T23:00:11.354338",
     "exception": false,
     "start_time": "2021-10-24T23:00:11.332032",
     "status": "completed"
    },
    "tags": []
   },
   "outputs": [],
   "source": []
  }
 ],
 "metadata": {
  "kernelspec": {
   "display_name": "Python 3",
   "language": "python",
   "name": "python3"
  },
  "language_info": {
   "codemirror_mode": {
    "name": "ipython",
    "version": 3
   },
   "file_extension": ".py",
   "mimetype": "text/x-python",
   "name": "python",
   "nbconvert_exporter": "python",
   "pygments_lexer": "ipython3",
   "version": "3.9.5"
  },
  "papermill": {
   "default_parameters": {},
   "duration": 7.464697,
   "end_time": "2021-10-24T23:00:11.995294",
   "environment_variables": {},
   "exception": null,
   "input_path": "eBay_Overview.ipynb",
   "output_path": "eBay_Overview.ipynb",
   "parameters": {},
   "start_time": "2021-10-24T23:00:04.530597",
   "version": "2.3.3"
  }
 },
 "nbformat": 4,
 "nbformat_minor": 5
}