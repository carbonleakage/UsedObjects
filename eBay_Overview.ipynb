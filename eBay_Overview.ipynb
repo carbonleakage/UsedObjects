{
 "cells": [
  {
   "cell_type": "code",
   "execution_count": 1,
   "id": "reverse-picking",
   "metadata": {
    "execution": {
     "iopub.execute_input": "2021-08-15T14:30:07.379629Z",
     "iopub.status.busy": "2021-08-15T14:30:07.377537Z",
     "iopub.status.idle": "2021-08-15T14:30:08.187664Z",
     "shell.execute_reply": "2021-08-15T14:30:08.188937Z"
    },
    "papermill": {
     "duration": 0.861664,
     "end_time": "2021-08-15T14:30:08.189564",
     "exception": false,
     "start_time": "2021-08-15T14:30:07.327900",
     "status": "completed"
    },
    "tags": []
   },
   "outputs": [],
   "source": [
    "import pandas as pd\n",
    "import sqlite3"
   ]
  },
  {
   "cell_type": "code",
   "execution_count": 2,
   "id": "innovative-syndrome",
   "metadata": {
    "execution": {
     "iopub.execute_input": "2021-08-15T14:30:08.242992Z",
     "iopub.status.busy": "2021-08-15T14:30:08.240580Z",
     "iopub.status.idle": "2021-08-15T14:30:08.298269Z",
     "shell.execute_reply": "2021-08-15T14:30:08.299783Z"
    },
    "papermill": {
     "duration": 0.088186,
     "end_time": "2021-08-15T14:30:08.300234",
     "exception": false,
     "start_time": "2021-08-15T14:30:08.212048",
     "status": "completed"
    },
    "tags": []
   },
   "outputs": [],
   "source": [
    "timestamps = pd.read_sql(\"select distinct record_time from EBAY_TOP_BERLIN order by record_time desc limit 2\", sqlite3.connect(\"UsedObjects.db\"))"
   ]
  },
  {
   "cell_type": "code",
   "execution_count": 3,
   "id": "periodic-identification",
   "metadata": {
    "execution": {
     "iopub.execute_input": "2021-08-15T14:30:08.367559Z",
     "iopub.status.busy": "2021-08-15T14:30:08.365424Z",
     "iopub.status.idle": "2021-08-15T14:30:08.385327Z",
     "shell.execute_reply": "2021-08-15T14:30:08.386628Z"
    },
    "papermill": {
     "duration": 0.06674,
     "end_time": "2021-08-15T14:30:08.387074",
     "exception": false,
     "start_time": "2021-08-15T14:30:08.320334",
     "status": "completed"
    },
    "tags": []
   },
   "outputs": [
    {
     "data": {
      "text/html": [
       "<div>\n",
       "<style scoped>\n",
       "    .dataframe tbody tr th:only-of-type {\n",
       "        vertical-align: middle;\n",
       "    }\n",
       "\n",
       "    .dataframe tbody tr th {\n",
       "        vertical-align: top;\n",
       "    }\n",
       "\n",
       "    .dataframe thead th {\n",
       "        text-align: right;\n",
       "    }\n",
       "</style>\n",
       "<table border=\"1\" class=\"dataframe\">\n",
       "  <thead>\n",
       "    <tr style=\"text-align: right;\">\n",
       "      <th></th>\n",
       "      <th>RECORD_TIME</th>\n",
       "    </tr>\n",
       "  </thead>\n",
       "  <tbody>\n",
       "    <tr>\n",
       "      <th>0</th>\n",
       "      <td>2021-08-15 16:30</td>\n",
       "    </tr>\n",
       "    <tr>\n",
       "      <th>1</th>\n",
       "      <td>2021-08-15 16:00</td>\n",
       "    </tr>\n",
       "  </tbody>\n",
       "</table>\n",
       "</div>"
      ],
      "text/plain": [
       "        RECORD_TIME\n",
       "0  2021-08-15 16:30\n",
       "1  2021-08-15 16:00"
      ]
     },
     "execution_count": 3,
     "metadata": {},
     "output_type": "execute_result"
    }
   ],
   "source": [
    "timestamps"
   ]
  },
  {
   "cell_type": "code",
   "execution_count": 4,
   "id": "alternate-victory",
   "metadata": {
    "execution": {
     "iopub.execute_input": "2021-08-15T14:30:08.441320Z",
     "iopub.status.busy": "2021-08-15T14:30:08.438994Z",
     "iopub.status.idle": "2021-08-15T14:30:08.521255Z",
     "shell.execute_reply": "2021-08-15T14:30:08.523269Z"
    },
    "papermill": {
     "duration": 0.11395,
     "end_time": "2021-08-15T14:30:08.523902",
     "exception": false,
     "start_time": "2021-08-15T14:30:08.409952",
     "status": "completed"
    },
    "tags": []
   },
   "outputs": [],
   "source": [
    "df = pd.read_sql(\"select * from EBAY_TOP_BERLIN where record_time in (select distinct record_time from EBAY_TOP_BERLIN order by record_time desc limit 2)\", sqlite3.connect(\"UsedObjects.db\"))"
   ]
  },
  {
   "cell_type": "code",
   "execution_count": 5,
   "id": "popular-active",
   "metadata": {
    "execution": {
     "iopub.execute_input": "2021-08-15T14:30:08.596292Z",
     "iopub.status.busy": "2021-08-15T14:30:08.589369Z",
     "iopub.status.idle": "2021-08-15T14:30:08.611599Z",
     "shell.execute_reply": "2021-08-15T14:30:08.612820Z"
    },
    "papermill": {
     "duration": 0.06688,
     "end_time": "2021-08-15T14:30:08.613219",
     "exception": false,
     "start_time": "2021-08-15T14:30:08.546339",
     "status": "completed"
    },
    "tags": []
   },
   "outputs": [],
   "source": [
    "df_pivot = df.pivot_table(index=\"PRODUCT\", columns = \"RECORD_TIME\", values = \"LISTING_COUNT\")"
   ]
  },
  {
   "cell_type": "code",
   "execution_count": 6,
   "id": "union-huntington",
   "metadata": {
    "execution": {
     "iopub.execute_input": "2021-08-15T14:30:08.673211Z",
     "iopub.status.busy": "2021-08-15T14:30:08.670724Z",
     "iopub.status.idle": "2021-08-15T14:30:08.676566Z",
     "shell.execute_reply": "2021-08-15T14:30:08.677842Z"
    },
    "papermill": {
     "duration": 0.042551,
     "end_time": "2021-08-15T14:30:08.678321",
     "exception": false,
     "start_time": "2021-08-15T14:30:08.635770",
     "status": "completed"
    },
    "tags": []
   },
   "outputs": [],
   "source": [
    "df_pivot.columns = [\"stamp_1\", \"stamp_2\"]\n",
    "df_pivot_diff = df_pivot.diff(axis=1)"
   ]
  },
  {
   "cell_type": "code",
   "execution_count": 7,
   "id": "fifth-motion",
   "metadata": {
    "execution": {
     "iopub.execute_input": "2021-08-15T14:30:08.733015Z",
     "iopub.status.busy": "2021-08-15T14:30:08.730691Z",
     "iopub.status.idle": "2021-08-15T14:30:10.205549Z",
     "shell.execute_reply": "2021-08-15T14:30:10.207218Z"
    },
    "papermill": {
     "duration": 1.509059,
     "end_time": "2021-08-15T14:30:10.207795",
     "exception": false,
     "start_time": "2021-08-15T14:30:08.698736",
     "status": "completed"
    },
    "tags": []
   },
   "outputs": [
    {
     "data": {
      "text/plain": [
       "<AxesSubplot:ylabel='PRODUCT'>"
      ]
     },
     "execution_count": 7,
     "metadata": {},
     "output_type": "execute_result"
    },
    {
     "data": {
      "image/png": "[encoded data removed]",
      "text/plain": [
       "<Figure size 432x288 with 1 Axes>"
      ]
     },
     "metadata": {
      "needs_background": "light"
     },
     "output_type": "display_data"
    }
   ],
   "source": [
    "df_pivot_diff.sort_values(\"stamp_2\", ascending = False)[\"stamp_2\"].head(10).plot.barh()"
   ]
  },
  {
   "cell_type": "code",
   "execution_count": null,
   "id": "extra-executive",
   "metadata": {
    "papermill": {
     "duration": 0.022541,
     "end_time": "2021-08-15T14:30:10.254868",
     "exception": false,
     "start_time": "2021-08-15T14:30:10.232327",
     "status": "completed"
    },
    "tags": []
   },
   "outputs": [],
   "source": []
  }
 ],
 "metadata": {
  "kernelspec": {
   "display_name": "Python 3",
   "language": "python",
   "name": "python3"
  },
  "language_info": {
   "codemirror_mode": {
    "name": "ipython",
    "version": 3
   },
   "file_extension": ".py",
   "mimetype": "text/x-python",
   "name": "python",
   "nbconvert_exporter": "python",
   "pygments_lexer": "ipython3",
   "version": "3.9.5"
  },
  "papermill": {
   "default_parameters": {},
   "duration": 6.828038,
   "end_time": "2021-08-15T14:30:11.742013",
   "environment_variables": {},
   "exception": null,
   "input_path": "eBay_Overview.ipynb",
   "output_path": "eBay_Overview.ipynb",
   "parameters": {},
   "start_time": "2021-08-15T14:30:04.913975",
   "version": "2.3.3"
  }
 },
 "nbformat": 4,
 "nbformat_minor": 5
}