{
 "cells": [
  {
   "cell_type": "code",
   "execution_count": 1,
   "id": "reverse-picking",
   "metadata": {
    "execution": {
     "iopub.execute_input": "2021-12-17T20:30:07.793011Z",
     "iopub.status.busy": "2021-12-17T20:30:07.790647Z",
     "iopub.status.idle": "2021-12-17T20:30:08.711774Z",
     "shell.execute_reply": "2021-12-17T20:30:08.714145Z"
    },
    "papermill": {
     "duration": 0.973223,
     "end_time": "2021-12-17T20:30:08.714958",
     "exception": false,
     "start_time": "2021-12-17T20:30:07.741735",
     "status": "completed"
    },
    "tags": []
   },
   "outputs": [],
   "source": [
    "import pandas as pd\n",
    "import sqlite3"
   ]
  },
  {
   "cell_type": "code",
   "execution_count": 2,
   "id": "innovative-syndrome",
   "metadata": {
    "execution": {
     "iopub.execute_input": "2021-12-17T20:30:08.778892Z",
     "iopub.status.busy": "2021-12-17T20:30:08.776437Z",
     "iopub.status.idle": "2021-12-17T20:30:09.902321Z",
     "shell.execute_reply": "2021-12-17T20:30:09.903460Z"
    },
    "papermill": {
     "duration": 1.159247,
     "end_time": "2021-12-17T20:30:09.903872",
     "exception": false,
     "start_time": "2021-12-17T20:30:08.744625",
     "status": "completed"
    },
    "tags": []
   },
   "outputs": [],
   "source": [
    "timestamps = pd.read_sql(\"select distinct record_time from EBAY_TOP_BERLIN order by record_time desc limit 2\", sqlite3.connect(\"UsedObjects.db\"))"
   ]
  },
  {
   "cell_type": "code",
   "execution_count": 3,
   "id": "periodic-identification",
   "metadata": {
    "execution": {
     "iopub.execute_input": "2021-12-17T20:30:09.975286Z",
     "iopub.status.busy": "2021-12-17T20:30:09.970240Z",
     "iopub.status.idle": "2021-12-17T20:30:09.991117Z",
     "shell.execute_reply": "2021-12-17T20:30:09.992475Z"
    },
    "papermill": {
     "duration": 0.066805,
     "end_time": "2021-12-17T20:30:09.993029",
     "exception": false,
     "start_time": "2021-12-17T20:30:09.926224",
     "status": "completed"
    },
    "tags": []
   },
   "outputs": [
    {
     "data": {
      "text/html": [
       "<div>\n",
       "<style scoped>\n",
       "    .dataframe tbody tr th:only-of-type {\n",
       "        vertical-align: middle;\n",
       "    }\n",
       "\n",
       "    .dataframe tbody tr th {\n",
       "        vertical-align: top;\n",
       "    }\n",
       "\n",
       "    .dataframe thead th {\n",
       "        text-align: right;\n",
       "    }\n",
       "</style>\n",
       "<table border=\"1\" class=\"dataframe\">\n",
       "  <thead>\n",
       "    <tr style=\"text-align: right;\">\n",
       "      <th></th>\n",
       "      <th>RECORD_TIME</th>\n",
       "    </tr>\n",
       "  </thead>\n",
       "  <tbody>\n",
       "    <tr>\n",
       "      <th>0</th>\n",
       "      <td>2021-12-17 21:30</td>\n",
       "    </tr>\n",
       "    <tr>\n",
       "      <th>1</th>\n",
       "      <td>2021-12-17 21:00</td>\n",
       "    </tr>\n",
       "  </tbody>\n",
       "</table>\n",
       "</div>"
      ],
      "text/plain": [
       "        RECORD_TIME\n",
       "0  2021-12-17 21:30\n",
       "1  2021-12-17 21:00"
      ]
     },
     "execution_count": 3,
     "metadata": {},
     "output_type": "execute_result"
    }
   ],
   "source": [
    "timestamps"
   ]
  },
  {
   "cell_type": "code",
   "execution_count": 4,
   "id": "alternate-victory",
   "metadata": {
    "execution": {
     "iopub.execute_input": "2021-12-17T20:30:10.044309Z",
     "iopub.status.busy": "2021-12-17T20:30:10.042369Z",
     "iopub.status.idle": "2021-12-17T20:30:11.674125Z",
     "shell.execute_reply": "2021-12-17T20:30:11.676068Z"
    },
    "papermill": {
     "duration": 1.662785,
     "end_time": "2021-12-17T20:30:11.676546",
     "exception": false,
     "start_time": "2021-12-17T20:30:10.013761",
     "status": "completed"
    },
    "tags": []
   },
   "outputs": [],
   "source": [
    "df = pd.read_sql(\"select * from EBAY_TOP_BERLIN where record_time in (select distinct record_time from EBAY_TOP_BERLIN order by record_time desc limit 2)\", sqlite3.connect(\"UsedObjects.db\"))"
   ]
  },
  {
   "cell_type": "code",
   "execution_count": 5,
   "id": "popular-active",
   "metadata": {
    "execution": {
     "iopub.execute_input": "2021-12-17T20:30:11.753493Z",
     "iopub.status.busy": "2021-12-17T20:30:11.739510Z",
     "iopub.status.idle": "2021-12-17T20:30:11.771423Z",
     "shell.execute_reply": "2021-12-17T20:30:11.772880Z"
    },
    "papermill": {
     "duration": 0.074333,
     "end_time": "2021-12-17T20:30:11.773361",
     "exception": false,
     "start_time": "2021-12-17T20:30:11.699028",
     "status": "completed"
    },
    "tags": []
   },
   "outputs": [],
   "source": [
    "df_pivot = df.pivot_table(index=\"PRODUCT\", columns = \"RECORD_TIME\", values = \"LISTING_COUNT\")"
   ]
  },
  {
   "cell_type": "code",
   "execution_count": 6,
   "id": "union-huntington",
   "metadata": {
    "execution": {
     "iopub.execute_input": "2021-12-17T20:30:11.832955Z",
     "iopub.status.busy": "2021-12-17T20:30:11.830726Z",
     "iopub.status.idle": "2021-12-17T20:30:11.841577Z",
     "shell.execute_reply": "2021-12-17T20:30:11.839822Z"
    },
    "papermill": {
     "duration": 0.04897,
     "end_time": "2021-12-17T20:30:11.842010",
     "exception": false,
     "start_time": "2021-12-17T20:30:11.793040",
     "status": "completed"
    },
    "tags": []
   },
   "outputs": [],
   "source": [
    "df_pivot.columns = [\"stamp_1\", \"stamp_2\"]\n",
    "df_pivot_diff = df_pivot.diff(axis=1)"
   ]
  },
  {
   "cell_type": "code",
   "execution_count": 7,
   "id": "fifth-motion",
   "metadata": {
    "execution": {
     "iopub.execute_input": "2021-12-17T20:30:11.898105Z",
     "iopub.status.busy": "2021-12-17T20:30:11.895649Z",
     "iopub.status.idle": "2021-12-17T20:30:13.929325Z",
     "shell.execute_reply": "2021-12-17T20:30:13.930619Z"
    },
    "papermill": {
     "duration": 2.068883,
     "end_time": "2021-12-17T20:30:13.931079",
     "exception": false,
     "start_time": "2021-12-17T20:30:11.862196",
     "status": "completed"
    },
    "tags": []
   },
   "outputs": [
    {
     "data": {
      "text/plain": [
       "<AxesSubplot:ylabel='PRODUCT'>"
      ]
     },
     "execution_count": 7,
     "metadata": {},
     "output_type": "execute_result"
    },
    {
     "data": {
      "image/png": "[encoded data removed]",
      "text/plain": [
       "<Figure size 432x288 with 1 Axes>"
      ]
     },
     "metadata": {
      "needs_background": "light"
     },
     "output_type": "display_data"
    }
   ],
   "source": [
    "df_pivot_diff.sort_values(\"stamp_2\", ascending = False)[\"stamp_2\"].head(10).plot.barh()"
   ]
  },
  {
   "cell_type": "code",
   "execution_count": null,
   "id": "extra-executive",
   "metadata": {
    "papermill": {
     "duration": 0.021851,
     "end_time": "2021-12-17T20:30:13.978673",
     "exception": false,
     "start_time": "2021-12-17T20:30:13.956822",
     "status": "completed"
    },
    "tags": []
   },
   "outputs": [],
   "source": []
  }
 ],
 "metadata": {
  "kernelspec": {
   "display_name": "Python 3",
   "language": "python",
   "name": "python3"
  },
  "language_info": {
   "codemirror_mode": {
    "name": "ipython",
    "version": 3
   },
   "file_extension": ".py",
   "mimetype": "text/x-python",
   "name": "python",
   "nbconvert_exporter": "python",
   "pygments_lexer": "ipython3",
   "version": "3.9.5"
  },
  "papermill": {
   "default_parameters": {},
   "duration": 9.615326,
   "end_time": "2021-12-17T20:30:14.622387",
   "environment_variables": {},
   "exception": null,
   "input_path": "eBay_Overview.ipynb",
   "output_path": "eBay_Overview.ipynb",
   "parameters": {},
   "start_time": "2021-12-17T20:30:05.007061",
   "version": "2.3.3"
  }
 },
 "nbformat": 4,
 "nbformat_minor": 5
}