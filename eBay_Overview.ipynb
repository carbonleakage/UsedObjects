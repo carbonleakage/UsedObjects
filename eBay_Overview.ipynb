{
 "cells": [
  {
   "cell_type": "code",
   "execution_count": 1,
   "id": "reverse-picking",
   "metadata": {
    "execution": {
     "iopub.execute_input": "2021-09-12T18:30:07.688970Z",
     "iopub.status.busy": "2021-09-12T18:30:07.687016Z",
     "iopub.status.idle": "2021-09-12T18:30:08.491983Z",
     "shell.execute_reply": "2021-09-12T18:30:08.493227Z"
    },
    "papermill": {
     "duration": 0.856844,
     "end_time": "2021-09-12T18:30:08.493839",
     "exception": false,
     "start_time": "2021-09-12T18:30:07.636995",
     "status": "completed"
    },
    "tags": []
   },
   "outputs": [],
   "source": [
    "import pandas as pd\n",
    "import sqlite3"
   ]
  },
  {
   "cell_type": "code",
   "execution_count": 2,
   "id": "innovative-syndrome",
   "metadata": {
    "execution": {
     "iopub.execute_input": "2021-09-12T18:30:08.544856Z",
     "iopub.status.busy": "2021-09-12T18:30:08.542956Z",
     "iopub.status.idle": "2021-09-12T18:30:08.817822Z",
     "shell.execute_reply": "2021-09-12T18:30:08.819099Z"
    },
    "papermill": {
     "duration": 0.304171,
     "end_time": "2021-09-12T18:30:08.819513",
     "exception": false,
     "start_time": "2021-09-12T18:30:08.515342",
     "status": "completed"
    },
    "tags": []
   },
   "outputs": [],
   "source": [
    "timestamps = pd.read_sql(\"select distinct record_time from EBAY_TOP_BERLIN order by record_time desc limit 2\", sqlite3.connect(\"UsedObjects.db\"))"
   ]
  },
  {
   "cell_type": "code",
   "execution_count": 3,
   "id": "periodic-identification",
   "metadata": {
    "execution": {
     "iopub.execute_input": "2021-09-12T18:30:08.885237Z",
     "iopub.status.busy": "2021-09-12T18:30:08.883213Z",
     "iopub.status.idle": "2021-09-12T18:30:08.903346Z",
     "shell.execute_reply": "2021-09-12T18:30:08.904716Z"
    },
    "papermill": {
     "duration": 0.064165,
     "end_time": "2021-09-12T18:30:08.905193",
     "exception": false,
     "start_time": "2021-09-12T18:30:08.841028",
     "status": "completed"
    },
    "tags": []
   },
   "outputs": [
    {
     "data": {
      "text/html": [
       "<div>\n",
       "<style scoped>\n",
       "    .dataframe tbody tr th:only-of-type {\n",
       "        vertical-align: middle;\n",
       "    }\n",
       "\n",
       "    .dataframe tbody tr th {\n",
       "        vertical-align: top;\n",
       "    }\n",
       "\n",
       "    .dataframe thead th {\n",
       "        text-align: right;\n",
       "    }\n",
       "</style>\n",
       "<table border=\"1\" class=\"dataframe\">\n",
       "  <thead>\n",
       "    <tr style=\"text-align: right;\">\n",
       "      <th></th>\n",
       "      <th>RECORD_TIME</th>\n",
       "    </tr>\n",
       "  </thead>\n",
       "  <tbody>\n",
       "    <tr>\n",
       "      <th>0</th>\n",
       "      <td>2021-09-12 20:30</td>\n",
       "    </tr>\n",
       "    <tr>\n",
       "      <th>1</th>\n",
       "      <td>2021-09-12 20:00</td>\n",
       "    </tr>\n",
       "  </tbody>\n",
       "</table>\n",
       "</div>"
      ],
      "text/plain": [
       "        RECORD_TIME\n",
       "0  2021-09-12 20:30\n",
       "1  2021-09-12 20:00"
      ]
     },
     "execution_count": 3,
     "metadata": {},
     "output_type": "execute_result"
    }
   ],
   "source": [
    "timestamps"
   ]
  },
  {
   "cell_type": "code",
   "execution_count": 4,
   "id": "alternate-victory",
   "metadata": {
    "execution": {
     "iopub.execute_input": "2021-09-12T18:30:08.955581Z",
     "iopub.status.busy": "2021-09-12T18:30:08.953557Z",
     "iopub.status.idle": "2021-09-12T18:30:09.359576Z",
     "shell.execute_reply": "2021-09-12T18:30:09.360780Z"
    },
    "papermill": {
     "duration": 0.43574,
     "end_time": "2021-09-12T18:30:09.361174",
     "exception": false,
     "start_time": "2021-09-12T18:30:08.925434",
     "status": "completed"
    },
    "tags": []
   },
   "outputs": [],
   "source": [
    "df = pd.read_sql(\"select * from EBAY_TOP_BERLIN where record_time in (select distinct record_time from EBAY_TOP_BERLIN order by record_time desc limit 2)\", sqlite3.connect(\"UsedObjects.db\"))"
   ]
  },
  {
   "cell_type": "code",
   "execution_count": 5,
   "id": "popular-active",
   "metadata": {
    "execution": {
     "iopub.execute_input": "2021-09-12T18:30:09.440942Z",
     "iopub.status.busy": "2021-09-12T18:30:09.427215Z",
     "iopub.status.idle": "2021-09-12T18:30:09.456910Z",
     "shell.execute_reply": "2021-09-12T18:30:09.458180Z"
    },
    "papermill": {
     "duration": 0.07181,
     "end_time": "2021-09-12T18:30:09.458596",
     "exception": false,
     "start_time": "2021-09-12T18:30:09.386786",
     "status": "completed"
    },
    "tags": []
   },
   "outputs": [],
   "source": [
    "df_pivot = df.pivot_table(index=\"PRODUCT\", columns = \"RECORD_TIME\", values = \"LISTING_COUNT\")"
   ]
  },
  {
   "cell_type": "code",
   "execution_count": 6,
   "id": "union-huntington",
   "metadata": {
    "execution": {
     "iopub.execute_input": "2021-09-12T18:30:09.514632Z",
     "iopub.status.busy": "2021-09-12T18:30:09.512501Z",
     "iopub.status.idle": "2021-09-12T18:30:09.518041Z",
     "shell.execute_reply": "2021-09-12T18:30:09.519629Z"
    },
    "papermill": {
     "duration": 0.040644,
     "end_time": "2021-09-12T18:30:09.520086",
     "exception": false,
     "start_time": "2021-09-12T18:30:09.479442",
     "status": "completed"
    },
    "tags": []
   },
   "outputs": [],
   "source": [
    "df_pivot.columns = [\"stamp_1\", \"stamp_2\"]\n",
    "df_pivot_diff = df_pivot.diff(axis=1)"
   ]
  },
  {
   "cell_type": "code",
   "execution_count": 7,
   "id": "fifth-motion",
   "metadata": {
    "execution": {
     "iopub.execute_input": "2021-09-12T18:30:09.575868Z",
     "iopub.status.busy": "2021-09-12T18:30:09.573170Z",
     "iopub.status.idle": "2021-09-12T18:30:11.069532Z",
     "shell.execute_reply": "2021-09-12T18:30:11.070946Z"
    },
    "papermill": {
     "duration": 1.529785,
     "end_time": "2021-09-12T18:30:11.071431",
     "exception": false,
     "start_time": "2021-09-12T18:30:09.541646",
     "status": "completed"
    },
    "tags": []
   },
   "outputs": [
    {
     "data": {
      "text/plain": [
       "<AxesSubplot:ylabel='PRODUCT'>"
      ]
     },
     "execution_count": 7,
     "metadata": {},
     "output_type": "execute_result"
    },
    {
     "data": {
      "image/png": "[encoded data removed]",
      "text/plain": [
       "<Figure size 432x288 with 1 Axes>"
      ]
     },
     "metadata": {
      "needs_background": "light"
     },
     "output_type": "display_data"
    }
   ],
   "source": [
    "df_pivot_diff.sort_values(\"stamp_2\", ascending = False)[\"stamp_2\"].head(10).plot.barh()"
   ]
  },
  {
   "cell_type": "code",
   "execution_count": null,
   "id": "extra-executive",
   "metadata": {
    "papermill": {
     "duration": 0.022015,
     "end_time": "2021-09-12T18:30:11.117992",
     "exception": false,
     "start_time": "2021-09-12T18:30:11.095977",
     "status": "completed"
    },
    "tags": []
   },
   "outputs": [],
   "source": []
  }
 ],
 "metadata": {
  "kernelspec": {
   "display_name": "Python 3",
   "language": "python",
   "name": "python3"
  },
  "language_info": {
   "codemirror_mode": {
    "name": "ipython",
    "version": 3
   },
   "file_extension": ".py",
   "mimetype": "text/x-python",
   "name": "python",
   "nbconvert_exporter": "python",
   "pygments_lexer": "ipython3",
   "version": "3.9.5"
  },
  "papermill": {
   "default_parameters": {},
   "duration": 6.540324,
   "end_time": "2021-09-12T18:30:11.761859",
   "environment_variables": {},
   "exception": null,
   "input_path": "eBay_Overview.ipynb",
   "output_path": "eBay_Overview.ipynb",
   "parameters": {},
   "start_time": "2021-09-12T18:30:05.221535",
   "version": "2.3.3"
  }
 },
 "nbformat": 4,
 "nbformat_minor": 5
}