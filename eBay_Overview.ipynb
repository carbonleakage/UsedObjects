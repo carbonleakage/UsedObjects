{
 "cells": [
  {
   "cell_type": "code",
   "execution_count": 1,
   "id": "reverse-picking",
   "metadata": {
    "execution": {
     "iopub.execute_input": "2021-10-28T00:30:07.514380Z",
     "iopub.status.busy": "2021-10-28T00:30:07.512388Z",
     "iopub.status.idle": "2021-10-28T00:30:08.316960Z",
     "shell.execute_reply": "2021-10-28T00:30:08.318323Z"
    },
    "papermill": {
     "duration": 0.856346,
     "end_time": "2021-10-28T00:30:08.318971",
     "exception": false,
     "start_time": "2021-10-28T00:30:07.462625",
     "status": "completed"
    },
    "tags": []
   },
   "outputs": [],
   "source": [
    "import pandas as pd\n",
    "import sqlite3"
   ]
  },
  {
   "cell_type": "code",
   "execution_count": 2,
   "id": "innovative-syndrome",
   "metadata": {
    "execution": {
     "iopub.execute_input": "2021-10-28T00:30:08.369340Z",
     "iopub.status.busy": "2021-10-28T00:30:08.367349Z",
     "iopub.status.idle": "2021-10-28T00:30:09.018716Z",
     "shell.execute_reply": "2021-10-28T00:30:09.019982Z"
    },
    "papermill": {
     "duration": 0.681163,
     "end_time": "2021-10-28T00:30:09.020400",
     "exception": false,
     "start_time": "2021-10-28T00:30:08.339237",
     "status": "completed"
    },
    "tags": []
   },
   "outputs": [],
   "source": [
    "timestamps = pd.read_sql(\"select distinct record_time from EBAY_TOP_BERLIN order by record_time desc limit 2\", sqlite3.connect(\"UsedObjects.db\"))"
   ]
  },
  {
   "cell_type": "code",
   "execution_count": 3,
   "id": "periodic-identification",
   "metadata": {
    "execution": {
     "iopub.execute_input": "2021-10-28T00:30:09.104405Z",
     "iopub.status.busy": "2021-10-28T00:30:09.102394Z",
     "iopub.status.idle": "2021-10-28T00:30:09.122330Z",
     "shell.execute_reply": "2021-10-28T00:30:09.123821Z"
    },
    "papermill": {
     "duration": 0.072805,
     "end_time": "2021-10-28T00:30:09.124286",
     "exception": false,
     "start_time": "2021-10-28T00:30:09.051481",
     "status": "completed"
    },
    "tags": []
   },
   "outputs": [
    {
     "data": {
      "text/html": [
       "<div>\n",
       "<style scoped>\n",
       "    .dataframe tbody tr th:only-of-type {\n",
       "        vertical-align: middle;\n",
       "    }\n",
       "\n",
       "    .dataframe tbody tr th {\n",
       "        vertical-align: top;\n",
       "    }\n",
       "\n",
       "    .dataframe thead th {\n",
       "        text-align: right;\n",
       "    }\n",
       "</style>\n",
       "<table border=\"1\" class=\"dataframe\">\n",
       "  <thead>\n",
       "    <tr style=\"text-align: right;\">\n",
       "      <th></th>\n",
       "      <th>RECORD_TIME</th>\n",
       "    </tr>\n",
       "  </thead>\n",
       "  <tbody>\n",
       "    <tr>\n",
       "      <th>0</th>\n",
       "      <td>2021-10-28 02:30</td>\n",
       "    </tr>\n",
       "    <tr>\n",
       "      <th>1</th>\n",
       "      <td>2021-10-28 02:00</td>\n",
       "    </tr>\n",
       "  </tbody>\n",
       "</table>\n",
       "</div>"
      ],
      "text/plain": [
       "        RECORD_TIME\n",
       "0  2021-10-28 02:30\n",
       "1  2021-10-28 02:00"
      ]
     },
     "execution_count": 3,
     "metadata": {},
     "output_type": "execute_result"
    }
   ],
   "source": [
    "timestamps"
   ]
  },
  {
   "cell_type": "code",
   "execution_count": 4,
   "id": "alternate-victory",
   "metadata": {
    "execution": {
     "iopub.execute_input": "2021-10-28T00:30:09.176533Z",
     "iopub.status.busy": "2021-10-28T00:30:09.174632Z",
     "iopub.status.idle": "2021-10-28T00:30:10.151878Z",
     "shell.execute_reply": "2021-10-28T00:30:10.153286Z"
    },
    "papermill": {
     "duration": 1.008017,
     "end_time": "2021-10-28T00:30:10.153707",
     "exception": false,
     "start_time": "2021-10-28T00:30:09.145690",
     "status": "completed"
    },
    "tags": []
   },
   "outputs": [],
   "source": [
    "df = pd.read_sql(\"select * from EBAY_TOP_BERLIN where record_time in (select distinct record_time from EBAY_TOP_BERLIN order by record_time desc limit 2)\", sqlite3.connect(\"UsedObjects.db\"))"
   ]
  },
  {
   "cell_type": "code",
   "execution_count": 5,
   "id": "popular-active",
   "metadata": {
    "execution": {
     "iopub.execute_input": "2021-10-28T00:30:10.225650Z",
     "iopub.status.busy": "2021-10-28T00:30:10.213992Z",
     "iopub.status.idle": "2021-10-28T00:30:10.241323Z",
     "shell.execute_reply": "2021-10-28T00:30:10.242607Z"
    },
    "papermill": {
     "duration": 0.067263,
     "end_time": "2021-10-28T00:30:10.243017",
     "exception": false,
     "start_time": "2021-10-28T00:30:10.175754",
     "status": "completed"
    },
    "tags": []
   },
   "outputs": [],
   "source": [
    "df_pivot = df.pivot_table(index=\"PRODUCT\", columns = \"RECORD_TIME\", values = \"LISTING_COUNT\")"
   ]
  },
  {
   "cell_type": "code",
   "execution_count": 6,
   "id": "union-huntington",
   "metadata": {
    "execution": {
     "iopub.execute_input": "2021-10-28T00:30:10.301572Z",
     "iopub.status.busy": "2021-10-28T00:30:10.299091Z",
     "iopub.status.idle": "2021-10-28T00:30:10.305028Z",
     "shell.execute_reply": "2021-10-28T00:30:10.306328Z"
    },
    "papermill": {
     "duration": 0.042149,
     "end_time": "2021-10-28T00:30:10.306742",
     "exception": false,
     "start_time": "2021-10-28T00:30:10.264593",
     "status": "completed"
    },
    "tags": []
   },
   "outputs": [],
   "source": [
    "df_pivot.columns = [\"stamp_1\", \"stamp_2\"]\n",
    "df_pivot_diff = df_pivot.diff(axis=1)"
   ]
  },
  {
   "cell_type": "code",
   "execution_count": 7,
   "id": "fifth-motion",
   "metadata": {
    "execution": {
     "iopub.execute_input": "2021-10-28T00:30:10.359919Z",
     "iopub.status.busy": "2021-10-28T00:30:10.357753Z",
     "iopub.status.idle": "2021-10-28T00:30:11.842751Z",
     "shell.execute_reply": "2021-10-28T00:30:11.844025Z"
    },
    "papermill": {
     "duration": 1.517752,
     "end_time": "2021-10-28T00:30:11.844441",
     "exception": false,
     "start_time": "2021-10-28T00:30:10.326689",
     "status": "completed"
    },
    "tags": []
   },
   "outputs": [
    {
     "data": {
      "text/plain": [
       "<AxesSubplot:ylabel='PRODUCT'>"
      ]
     },
     "execution_count": 7,
     "metadata": {},
     "output_type": "execute_result"
    },
    {
     "data": {
      "image/png": "[encoded data removed]",
      "text/plain": [
       "<Figure size 432x288 with 1 Axes>"
      ]
     },
     "metadata": {
      "needs_background": "light"
     },
     "output_type": "display_data"
    }
   ],
   "source": [
    "df_pivot_diff.sort_values(\"stamp_2\", ascending = False)[\"stamp_2\"].head(10).plot.barh()"
   ]
  },
  {
   "cell_type": "code",
   "execution_count": null,
   "id": "extra-executive",
   "metadata": {
    "papermill": {
     "duration": 0.022865,
     "end_time": "2021-10-28T00:30:11.892582",
     "exception": false,
     "start_time": "2021-10-28T00:30:11.869717",
     "status": "completed"
    },
    "tags": []
   },
   "outputs": [],
   "source": []
  }
 ],
 "metadata": {
  "kernelspec": {
   "display_name": "Python 3",
   "language": "python",
   "name": "python3"
  },
  "language_info": {
   "codemirror_mode": {
    "name": "ipython",
    "version": 3
   },
   "file_extension": ".py",
   "mimetype": "text/x-python",
   "name": "python",
   "nbconvert_exporter": "python",
   "pygments_lexer": "ipython3",
   "version": "3.9.5"
  },
  "papermill": {
   "default_parameters": {},
   "duration": 7.478799,
   "end_time": "2021-10-28T00:30:12.535148",
   "environment_variables": {},
   "exception": null,
   "input_path": "eBay_Overview.ipynb",
   "output_path": "eBay_Overview.ipynb",
   "parameters": {},
   "start_time": "2021-10-28T00:30:05.056349",
   "version": "2.3.3"
  }
 },
 "nbformat": 4,
 "nbformat_minor": 5
}