{
 "cells": [
  {
   "cell_type": "code",
   "execution_count": 1,
   "id": "reverse-picking",
   "metadata": {
    "execution": {
     "iopub.execute_input": "2021-11-28T09:00:08.117116Z",
     "iopub.status.busy": "2021-11-28T09:00:08.114611Z",
     "iopub.status.idle": "2021-11-28T09:00:09.069533Z",
     "shell.execute_reply": "2021-11-28T09:00:09.071706Z"
    },
    "papermill": {
     "duration": 1.006025,
     "end_time": "2021-11-28T09:00:09.072433",
     "exception": false,
     "start_time": "2021-11-28T09:00:08.066408",
     "status": "completed"
    },
    "tags": []
   },
   "outputs": [],
   "source": [
    "import pandas as pd\n",
    "import sqlite3"
   ]
  },
  {
   "cell_type": "code",
   "execution_count": 2,
   "id": "innovative-syndrome",
   "metadata": {
    "execution": {
     "iopub.execute_input": "2021-11-28T09:00:09.136095Z",
     "iopub.status.busy": "2021-11-28T09:00:09.133352Z",
     "iopub.status.idle": "2021-11-28T09:00:10.046826Z",
     "shell.execute_reply": "2021-11-28T09:00:10.044509Z"
    },
    "papermill": {
     "duration": 0.94705,
     "end_time": "2021-11-28T09:00:10.047241",
     "exception": false,
     "start_time": "2021-11-28T09:00:09.100191",
     "status": "completed"
    },
    "tags": []
   },
   "outputs": [],
   "source": [
    "timestamps = pd.read_sql(\"select distinct record_time from EBAY_TOP_BERLIN order by record_time desc limit 2\", sqlite3.connect(\"UsedObjects.db\"))"
   ]
  },
  {
   "cell_type": "code",
   "execution_count": 3,
   "id": "periodic-identification",
   "metadata": {
    "execution": {
     "iopub.execute_input": "2021-11-28T09:00:10.121176Z",
     "iopub.status.busy": "2021-11-28T09:00:10.117008Z",
     "iopub.status.idle": "2021-11-28T09:00:10.141601Z",
     "shell.execute_reply": "2021-11-28T09:00:10.142887Z"
    },
    "papermill": {
     "duration": 0.076132,
     "end_time": "2021-11-28T09:00:10.143337",
     "exception": false,
     "start_time": "2021-11-28T09:00:10.067205",
     "status": "completed"
    },
    "tags": []
   },
   "outputs": [
    {
     "data": {
      "text/html": [
       "<div>\n",
       "<style scoped>\n",
       "    .dataframe tbody tr th:only-of-type {\n",
       "        vertical-align: middle;\n",
       "    }\n",
       "\n",
       "    .dataframe tbody tr th {\n",
       "        vertical-align: top;\n",
       "    }\n",
       "\n",
       "    .dataframe thead th {\n",
       "        text-align: right;\n",
       "    }\n",
       "</style>\n",
       "<table border=\"1\" class=\"dataframe\">\n",
       "  <thead>\n",
       "    <tr style=\"text-align: right;\">\n",
       "      <th></th>\n",
       "      <th>RECORD_TIME</th>\n",
       "    </tr>\n",
       "  </thead>\n",
       "  <tbody>\n",
       "    <tr>\n",
       "      <th>0</th>\n",
       "      <td>2021-11-28 10:00</td>\n",
       "    </tr>\n",
       "    <tr>\n",
       "      <th>1</th>\n",
       "      <td>2021-11-28 09:30</td>\n",
       "    </tr>\n",
       "  </tbody>\n",
       "</table>\n",
       "</div>"
      ],
      "text/plain": [
       "        RECORD_TIME\n",
       "0  2021-11-28 10:00\n",
       "1  2021-11-28 09:30"
      ]
     },
     "execution_count": 3,
     "metadata": {},
     "output_type": "execute_result"
    }
   ],
   "source": [
    "timestamps"
   ]
  },
  {
   "cell_type": "code",
   "execution_count": 4,
   "id": "alternate-victory",
   "metadata": {
    "execution": {
     "iopub.execute_input": "2021-11-28T09:00:10.194213Z",
     "iopub.status.busy": "2021-11-28T09:00:10.192221Z",
     "iopub.status.idle": "2021-11-28T09:00:11.533420Z",
     "shell.execute_reply": "2021-11-28T09:00:11.534908Z"
    },
    "papermill": {
     "duration": 1.371407,
     "end_time": "2021-11-28T09:00:11.535518",
     "exception": false,
     "start_time": "2021-11-28T09:00:10.164111",
     "status": "completed"
    },
    "tags": []
   },
   "outputs": [],
   "source": [
    "df = pd.read_sql(\"select * from EBAY_TOP_BERLIN where record_time in (select distinct record_time from EBAY_TOP_BERLIN order by record_time desc limit 2)\", sqlite3.connect(\"UsedObjects.db\"))"
   ]
  },
  {
   "cell_type": "code",
   "execution_count": 5,
   "id": "popular-active",
   "metadata": {
    "execution": {
     "iopub.execute_input": "2021-11-28T09:00:11.599204Z",
     "iopub.status.busy": "2021-11-28T09:00:11.596925Z",
     "iopub.status.idle": "2021-11-28T09:00:11.627664Z",
     "shell.execute_reply": "2021-11-28T09:00:11.629234Z"
    },
    "papermill": {
     "duration": 0.072619,
     "end_time": "2021-11-28T09:00:11.629708",
     "exception": false,
     "start_time": "2021-11-28T09:00:11.557089",
     "status": "completed"
    },
    "tags": []
   },
   "outputs": [],
   "source": [
    "df_pivot = df.pivot_table(index=\"PRODUCT\", columns = \"RECORD_TIME\", values = \"LISTING_COUNT\")"
   ]
  },
  {
   "cell_type": "code",
   "execution_count": 6,
   "id": "union-huntington",
   "metadata": {
    "execution": {
     "iopub.execute_input": "2021-11-28T09:00:11.690165Z",
     "iopub.status.busy": "2021-11-28T09:00:11.687820Z",
     "iopub.status.idle": "2021-11-28T09:00:11.696441Z",
     "shell.execute_reply": "2021-11-28T09:00:11.698106Z"
    },
    "papermill": {
     "duration": 0.049167,
     "end_time": "2021-11-28T09:00:11.698598",
     "exception": false,
     "start_time": "2021-11-28T09:00:11.649431",
     "status": "completed"
    },
    "tags": []
   },
   "outputs": [],
   "source": [
    "df_pivot.columns = [\"stamp_1\", \"stamp_2\"]\n",
    "df_pivot_diff = df_pivot.diff(axis=1)"
   ]
  },
  {
   "cell_type": "code",
   "execution_count": 7,
   "id": "fifth-motion",
   "metadata": {
    "execution": {
     "iopub.execute_input": "2021-11-28T09:00:11.762466Z",
     "iopub.status.busy": "2021-11-28T09:00:11.759384Z",
     "iopub.status.idle": "2021-11-28T09:00:13.713407Z",
     "shell.execute_reply": "2021-11-28T09:00:13.715920Z"
    },
    "papermill": {
     "duration": 1.995554,
     "end_time": "2021-11-28T09:00:13.716785",
     "exception": false,
     "start_time": "2021-11-28T09:00:11.721231",
     "status": "completed"
    },
    "tags": []
   },
   "outputs": [
    {
     "data": {
      "text/plain": [
       "<AxesSubplot:ylabel='PRODUCT'>"
      ]
     },
     "execution_count": 7,
     "metadata": {},
     "output_type": "execute_result"
    },
    {
     "data": {
      "image/png": "[encoded data removed]",
      "text/plain": [
       "<Figure size 432x288 with 1 Axes>"
      ]
     },
     "metadata": {
      "needs_background": "light"
     },
     "output_type": "display_data"
    }
   ],
   "source": [
    "df_pivot_diff.sort_values(\"stamp_2\", ascending = False)[\"stamp_2\"].head(10).plot.barh()"
   ]
  },
  {
   "cell_type": "code",
   "execution_count": null,
   "id": "extra-executive",
   "metadata": {
    "papermill": {
     "duration": 0.026676,
     "end_time": "2021-11-28T09:00:13.775500",
     "exception": false,
     "start_time": "2021-11-28T09:00:13.748824",
     "status": "completed"
    },
    "tags": []
   },
   "outputs": [],
   "source": []
  }
 ],
 "metadata": {
  "kernelspec": {
   "display_name": "Python 3",
   "language": "python",
   "name": "python3"
  },
  "language_info": {
   "codemirror_mode": {
    "name": "ipython",
    "version": 3
   },
   "file_extension": ".py",
   "mimetype": "text/x-python",
   "name": "python",
   "nbconvert_exporter": "python",
   "pygments_lexer": "ipython3",
   "version": "3.9.5"
  },
  "papermill": {
   "default_parameters": {},
   "duration": 9.939525,
   "end_time": "2021-11-28T09:00:15.276017",
   "environment_variables": {},
   "exception": null,
   "input_path": "eBay_Overview.ipynb",
   "output_path": "eBay_Overview.ipynb",
   "parameters": {},
   "start_time": "2021-11-28T09:00:05.336492",
   "version": "2.3.3"
  }
 },
 "nbformat": 4,
 "nbformat_minor": 5
}