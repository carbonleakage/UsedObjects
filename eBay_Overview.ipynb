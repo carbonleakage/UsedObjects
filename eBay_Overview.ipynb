{
 "cells": [
  {
   "cell_type": "code",
   "execution_count": 1,
   "id": "reverse-picking",
   "metadata": {
    "execution": {
     "iopub.execute_input": "2021-08-29T03:00:06.509500Z",
     "iopub.status.busy": "2021-08-29T03:00:06.507392Z",
     "iopub.status.idle": "2021-08-29T03:00:07.308717Z",
     "shell.execute_reply": "2021-08-29T03:00:07.310067Z"
    },
    "papermill": {
     "duration": 0.852213,
     "end_time": "2021-08-29T03:00:07.310709",
     "exception": false,
     "start_time": "2021-08-29T03:00:06.458496",
     "status": "completed"
    },
    "tags": []
   },
   "outputs": [],
   "source": [
    "import pandas as pd\n",
    "import sqlite3"
   ]
  },
  {
   "cell_type": "code",
   "execution_count": 2,
   "id": "innovative-syndrome",
   "metadata": {
    "execution": {
     "iopub.execute_input": "2021-08-29T03:00:07.362944Z",
     "iopub.status.busy": "2021-08-29T03:00:07.361081Z",
     "iopub.status.idle": "2021-08-29T03:00:07.517179Z",
     "shell.execute_reply": "2021-08-29T03:00:07.518309Z"
    },
    "papermill": {
     "duration": 0.18574,
     "end_time": "2021-08-29T03:00:07.518727",
     "exception": false,
     "start_time": "2021-08-29T03:00:07.332987",
     "status": "completed"
    },
    "tags": []
   },
   "outputs": [],
   "source": [
    "timestamps = pd.read_sql(\"select distinct record_time from EBAY_TOP_BERLIN order by record_time desc limit 2\", sqlite3.connect(\"UsedObjects.db\"))"
   ]
  },
  {
   "cell_type": "code",
   "execution_count": 3,
   "id": "periodic-identification",
   "metadata": {
    "execution": {
     "iopub.execute_input": "2021-08-29T03:00:07.591091Z",
     "iopub.status.busy": "2021-08-29T03:00:07.585882Z",
     "iopub.status.idle": "2021-08-29T03:00:07.607961Z",
     "shell.execute_reply": "2021-08-29T03:00:07.609460Z"
    },
    "papermill": {
     "duration": 0.0686,
     "end_time": "2021-08-29T03:00:07.609914",
     "exception": false,
     "start_time": "2021-08-29T03:00:07.541314",
     "status": "completed"
    },
    "tags": []
   },
   "outputs": [
    {
     "data": {
      "text/html": [
       "<div>\n",
       "<style scoped>\n",
       "    .dataframe tbody tr th:only-of-type {\n",
       "        vertical-align: middle;\n",
       "    }\n",
       "\n",
       "    .dataframe tbody tr th {\n",
       "        vertical-align: top;\n",
       "    }\n",
       "\n",
       "    .dataframe thead th {\n",
       "        text-align: right;\n",
       "    }\n",
       "</style>\n",
       "<table border=\"1\" class=\"dataframe\">\n",
       "  <thead>\n",
       "    <tr style=\"text-align: right;\">\n",
       "      <th></th>\n",
       "      <th>RECORD_TIME</th>\n",
       "    </tr>\n",
       "  </thead>\n",
       "  <tbody>\n",
       "    <tr>\n",
       "      <th>0</th>\n",
       "      <td>2021-08-29 05:00</td>\n",
       "    </tr>\n",
       "    <tr>\n",
       "      <th>1</th>\n",
       "      <td>2021-08-29 04:30</td>\n",
       "    </tr>\n",
       "  </tbody>\n",
       "</table>\n",
       "</div>"
      ],
      "text/plain": [
       "        RECORD_TIME\n",
       "0  2021-08-29 05:00\n",
       "1  2021-08-29 04:30"
      ]
     },
     "execution_count": 3,
     "metadata": {},
     "output_type": "execute_result"
    }
   ],
   "source": [
    "timestamps"
   ]
  },
  {
   "cell_type": "code",
   "execution_count": 4,
   "id": "alternate-victory",
   "metadata": {
    "execution": {
     "iopub.execute_input": "2021-08-29T03:00:07.662217Z",
     "iopub.status.busy": "2021-08-29T03:00:07.659994Z",
     "iopub.status.idle": "2021-08-29T03:00:07.897936Z",
     "shell.execute_reply": "2021-08-29T03:00:07.899224Z"
    },
    "papermill": {
     "duration": 0.268176,
     "end_time": "2021-08-29T03:00:07.899647",
     "exception": false,
     "start_time": "2021-08-29T03:00:07.631471",
     "status": "completed"
    },
    "tags": []
   },
   "outputs": [],
   "source": [
    "df = pd.read_sql(\"select * from EBAY_TOP_BERLIN where record_time in (select distinct record_time from EBAY_TOP_BERLIN order by record_time desc limit 2)\", sqlite3.connect(\"UsedObjects.db\"))"
   ]
  },
  {
   "cell_type": "code",
   "execution_count": 5,
   "id": "popular-active",
   "metadata": {
    "execution": {
     "iopub.execute_input": "2021-08-29T03:00:07.968651Z",
     "iopub.status.busy": "2021-08-29T03:00:07.966397Z",
     "iopub.status.idle": "2021-08-29T03:00:07.993882Z",
     "shell.execute_reply": "2021-08-29T03:00:07.995088Z"
    },
    "papermill": {
     "duration": 0.074852,
     "end_time": "2021-08-29T03:00:07.995487",
     "exception": false,
     "start_time": "2021-08-29T03:00:07.920635",
     "status": "completed"
    },
    "tags": []
   },
   "outputs": [],
   "source": [
    "df_pivot = df.pivot_table(index=\"PRODUCT\", columns = \"RECORD_TIME\", values = \"LISTING_COUNT\")"
   ]
  },
  {
   "cell_type": "code",
   "execution_count": 6,
   "id": "union-huntington",
   "metadata": {
    "execution": {
     "iopub.execute_input": "2021-08-29T03:00:08.052750Z",
     "iopub.status.busy": "2021-08-29T03:00:08.050617Z",
     "iopub.status.idle": "2021-08-29T03:00:08.055782Z",
     "shell.execute_reply": "2021-08-29T03:00:08.057202Z"
    },
    "papermill": {
     "duration": 0.040396,
     "end_time": "2021-08-29T03:00:08.057653",
     "exception": false,
     "start_time": "2021-08-29T03:00:08.017257",
     "status": "completed"
    },
    "tags": []
   },
   "outputs": [],
   "source": [
    "df_pivot.columns = [\"stamp_1\", \"stamp_2\"]\n",
    "df_pivot_diff = df_pivot.diff(axis=1)"
   ]
  },
  {
   "cell_type": "code",
   "execution_count": 7,
   "id": "fifth-motion",
   "metadata": {
    "execution": {
     "iopub.execute_input": "2021-08-29T03:00:08.112634Z",
     "iopub.status.busy": "2021-08-29T03:00:08.110233Z",
     "iopub.status.idle": "2021-08-29T03:00:09.614822Z",
     "shell.execute_reply": "2021-08-29T03:00:09.616112Z"
    },
    "papermill": {
     "duration": 1.537891,
     "end_time": "2021-08-29T03:00:09.616769",
     "exception": false,
     "start_time": "2021-08-29T03:00:08.078878",
     "status": "completed"
    },
    "tags": []
   },
   "outputs": [
    {
     "data": {
      "text/plain": [
       "<AxesSubplot:ylabel='PRODUCT'>"
      ]
     },
     "execution_count": 7,
     "metadata": {},
     "output_type": "execute_result"
    },
    {
     "data": {
      "image/png": "[encoded data removed]",
      "text/plain": [
       "<Figure size 432x288 with 1 Axes>"
      ]
     },
     "metadata": {
      "needs_background": "light"
     },
     "output_type": "display_data"
    }
   ],
   "source": [
    "df_pivot_diff.sort_values(\"stamp_2\", ascending = False)[\"stamp_2\"].head(10).plot.barh()"
   ]
  },
  {
   "cell_type": "code",
   "execution_count": null,
   "id": "extra-executive",
   "metadata": {
    "papermill": {
     "duration": 0.022526,
     "end_time": "2021-08-29T03:00:09.664074",
     "exception": false,
     "start_time": "2021-08-29T03:00:09.641548",
     "status": "completed"
    },
    "tags": []
   },
   "outputs": [],
   "source": []
  }
 ],
 "metadata": {
  "kernelspec": {
   "display_name": "Python 3",
   "language": "python",
   "name": "python3"
  },
  "language_info": {
   "codemirror_mode": {
    "name": "ipython",
    "version": 3
   },
   "file_extension": ".py",
   "mimetype": "text/x-python",
   "name": "python",
   "nbconvert_exporter": "python",
   "pygments_lexer": "ipython3",
   "version": "3.9.5"
  },
  "papermill": {
   "default_parameters": {},
   "duration": 6.822596,
   "end_time": "2021-08-29T03:00:10.876721",
   "environment_variables": {},
   "exception": null,
   "input_path": "eBay_Overview.ipynb",
   "output_path": "eBay_Overview.ipynb",
   "parameters": {},
   "start_time": "2021-08-29T03:00:04.054125",
   "version": "2.3.3"
  }
 },
 "nbformat": 4,
 "nbformat_minor": 5
}