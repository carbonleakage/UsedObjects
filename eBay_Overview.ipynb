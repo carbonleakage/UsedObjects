{
 "cells": [
  {
   "cell_type": "code",
   "execution_count": 1,
   "id": "reverse-picking",
   "metadata": {
    "execution": {
     "iopub.execute_input": "2021-11-19T11:30:07.329076Z",
     "iopub.status.busy": "2021-11-19T11:30:07.326688Z",
     "iopub.status.idle": "2021-11-19T11:30:08.289262Z",
     "shell.execute_reply": "2021-11-19T11:30:08.287268Z"
    },
    "papermill": {
     "duration": 1.008113,
     "end_time": "2021-11-19T11:30:08.289806",
     "exception": false,
     "start_time": "2021-11-19T11:30:07.281693",
     "status": "completed"
    },
    "tags": []
   },
   "outputs": [],
   "source": [
    "import pandas as pd\n",
    "import sqlite3"
   ]
  },
  {
   "cell_type": "code",
   "execution_count": 2,
   "id": "innovative-syndrome",
   "metadata": {
    "execution": {
     "iopub.execute_input": "2021-11-19T11:30:08.355848Z",
     "iopub.status.busy": "2021-11-19T11:30:08.353410Z",
     "iopub.status.idle": "2021-11-19T11:30:09.248873Z",
     "shell.execute_reply": "2021-11-19T11:30:09.250264Z"
    },
    "papermill": {
     "duration": 0.929624,
     "end_time": "2021-11-19T11:30:09.250735",
     "exception": false,
     "start_time": "2021-11-19T11:30:08.321111",
     "status": "completed"
    },
    "tags": []
   },
   "outputs": [],
   "source": [
    "timestamps = pd.read_sql(\"select distinct record_time from EBAY_TOP_BERLIN order by record_time desc limit 2\", sqlite3.connect(\"UsedObjects.db\"))"
   ]
  },
  {
   "cell_type": "code",
   "execution_count": 3,
   "id": "periodic-identification",
   "metadata": {
    "execution": {
     "iopub.execute_input": "2021-11-19T11:30:09.319868Z",
     "iopub.status.busy": "2021-11-19T11:30:09.317656Z",
     "iopub.status.idle": "2021-11-19T11:30:09.340103Z",
     "shell.execute_reply": "2021-11-19T11:30:09.341855Z"
    },
    "papermill": {
     "duration": 0.072107,
     "end_time": "2021-11-19T11:30:09.342414",
     "exception": false,
     "start_time": "2021-11-19T11:30:09.270307",
     "status": "completed"
    },
    "tags": []
   },
   "outputs": [
    {
     "data": {
      "text/html": [
       "<div>\n",
       "<style scoped>\n",
       "    .dataframe tbody tr th:only-of-type {\n",
       "        vertical-align: middle;\n",
       "    }\n",
       "\n",
       "    .dataframe tbody tr th {\n",
       "        vertical-align: top;\n",
       "    }\n",
       "\n",
       "    .dataframe thead th {\n",
       "        text-align: right;\n",
       "    }\n",
       "</style>\n",
       "<table border=\"1\" class=\"dataframe\">\n",
       "  <thead>\n",
       "    <tr style=\"text-align: right;\">\n",
       "      <th></th>\n",
       "      <th>RECORD_TIME</th>\n",
       "    </tr>\n",
       "  </thead>\n",
       "  <tbody>\n",
       "    <tr>\n",
       "      <th>0</th>\n",
       "      <td>2021-11-19 12:30</td>\n",
       "    </tr>\n",
       "    <tr>\n",
       "      <th>1</th>\n",
       "      <td>2021-11-19 12:00</td>\n",
       "    </tr>\n",
       "  </tbody>\n",
       "</table>\n",
       "</div>"
      ],
      "text/plain": [
       "        RECORD_TIME\n",
       "0  2021-11-19 12:30\n",
       "1  2021-11-19 12:00"
      ]
     },
     "execution_count": 3,
     "metadata": {},
     "output_type": "execute_result"
    }
   ],
   "source": [
    "timestamps"
   ]
  },
  {
   "cell_type": "code",
   "execution_count": 4,
   "id": "alternate-victory",
   "metadata": {
    "execution": {
     "iopub.execute_input": "2021-11-19T11:30:09.398113Z",
     "iopub.status.busy": "2021-11-19T11:30:09.395907Z",
     "iopub.status.idle": "2021-11-19T11:30:10.633618Z",
     "shell.execute_reply": "2021-11-19T11:30:10.635430Z"
    },
    "papermill": {
     "duration": 1.272209,
     "end_time": "2021-11-19T11:30:10.635972",
     "exception": false,
     "start_time": "2021-11-19T11:30:09.363763",
     "status": "completed"
    },
    "tags": []
   },
   "outputs": [],
   "source": [
    "df = pd.read_sql(\"select * from EBAY_TOP_BERLIN where record_time in (select distinct record_time from EBAY_TOP_BERLIN order by record_time desc limit 2)\", sqlite3.connect(\"UsedObjects.db\"))"
   ]
  },
  {
   "cell_type": "code",
   "execution_count": 5,
   "id": "popular-active",
   "metadata": {
    "execution": {
     "iopub.execute_input": "2021-11-19T11:30:10.706186Z",
     "iopub.status.busy": "2021-11-19T11:30:10.699137Z",
     "iopub.status.idle": "2021-11-19T11:30:10.730072Z",
     "shell.execute_reply": "2021-11-19T11:30:10.731400Z"
    },
    "papermill": {
     "duration": 0.07341,
     "end_time": "2021-11-19T11:30:10.731859",
     "exception": false,
     "start_time": "2021-11-19T11:30:10.658449",
     "status": "completed"
    },
    "tags": []
   },
   "outputs": [],
   "source": [
    "df_pivot = df.pivot_table(index=\"PRODUCT\", columns = \"RECORD_TIME\", values = \"LISTING_COUNT\")"
   ]
  },
  {
   "cell_type": "code",
   "execution_count": 6,
   "id": "union-huntington",
   "metadata": {
    "execution": {
     "iopub.execute_input": "2021-11-19T11:30:10.790649Z",
     "iopub.status.busy": "2021-11-19T11:30:10.788230Z",
     "iopub.status.idle": "2021-11-19T11:30:10.794439Z",
     "shell.execute_reply": "2021-11-19T11:30:10.795949Z"
    },
    "papermill": {
     "duration": 0.044536,
     "end_time": "2021-11-19T11:30:10.796491",
     "exception": false,
     "start_time": "2021-11-19T11:30:10.751955",
     "status": "completed"
    },
    "tags": []
   },
   "outputs": [],
   "source": [
    "df_pivot.columns = [\"stamp_1\", \"stamp_2\"]\n",
    "df_pivot_diff = df_pivot.diff(axis=1)"
   ]
  },
  {
   "cell_type": "code",
   "execution_count": 7,
   "id": "fifth-motion",
   "metadata": {
    "execution": {
     "iopub.execute_input": "2021-11-19T11:30:10.874670Z",
     "iopub.status.busy": "2021-11-19T11:30:10.870623Z",
     "iopub.status.idle": "2021-11-19T11:30:12.701220Z",
     "shell.execute_reply": "2021-11-19T11:30:12.703678Z"
    },
    "papermill": {
     "duration": 1.88469,
     "end_time": "2021-11-19T11:30:12.704561",
     "exception": false,
     "start_time": "2021-11-19T11:30:10.819871",
     "status": "completed"
    },
    "tags": []
   },
   "outputs": [
    {
     "data": {
      "text/plain": [
       "<AxesSubplot:ylabel='PRODUCT'>"
      ]
     },
     "execution_count": 7,
     "metadata": {},
     "output_type": "execute_result"
    },
    {
     "data": {
      "image/png": "[encoded data removed]",
      "text/plain": [
       "<Figure size 432x288 with 1 Axes>"
      ]
     },
     "metadata": {
      "needs_background": "light"
     },
     "output_type": "display_data"
    }
   ],
   "source": [
    "df_pivot_diff.sort_values(\"stamp_2\", ascending = False)[\"stamp_2\"].head(10).plot.barh()"
   ]
  },
  {
   "cell_type": "code",
   "execution_count": null,
   "id": "extra-executive",
   "metadata": {
    "papermill": {
     "duration": 0.033974,
     "end_time": "2021-11-19T11:30:12.777170",
     "exception": false,
     "start_time": "2021-11-19T11:30:12.743196",
     "status": "completed"
    },
    "tags": []
   },
   "outputs": [],
   "source": []
  }
 ],
 "metadata": {
  "kernelspec": {
   "display_name": "Python 3",
   "language": "python",
   "name": "python3"
  },
  "language_info": {
   "codemirror_mode": {
    "name": "ipython",
    "version": 3
   },
   "file_extension": ".py",
   "mimetype": "text/x-python",
   "name": "python",
   "nbconvert_exporter": "python",
   "pygments_lexer": "ipython3",
   "version": "3.9.5"
  },
  "papermill": {
   "default_parameters": {},
   "duration": 9.955917,
   "end_time": "2021-11-19T11:30:14.481608",
   "environment_variables": {},
   "exception": null,
   "input_path": "eBay_Overview.ipynb",
   "output_path": "eBay_Overview.ipynb",
   "parameters": {},
   "start_time": "2021-11-19T11:30:04.525691",
   "version": "2.3.3"
  }
 },
 "nbformat": 4,
 "nbformat_minor": 5
}