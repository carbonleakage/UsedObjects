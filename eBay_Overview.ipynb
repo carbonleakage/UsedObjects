{
 "cells": [
  {
   "cell_type": "code",
   "execution_count": 1,
   "id": "reverse-picking",
   "metadata": {
    "execution": {
     "iopub.execute_input": "2021-09-17T17:30:06.672969Z",
     "iopub.status.busy": "2021-09-17T17:30:06.670984Z",
     "iopub.status.idle": "2021-09-17T17:30:07.473043Z",
     "shell.execute_reply": "2021-09-17T17:30:07.474358Z"
    },
    "papermill": {
     "duration": 0.855172,
     "end_time": "2021-09-17T17:30:07.475072",
     "exception": false,
     "start_time": "2021-09-17T17:30:06.619900",
     "status": "completed"
    },
    "tags": []
   },
   "outputs": [],
   "source": [
    "import pandas as pd\n",
    "import sqlite3"
   ]
  },
  {
   "cell_type": "code",
   "execution_count": 2,
   "id": "innovative-syndrome",
   "metadata": {
    "execution": {
     "iopub.execute_input": "2021-09-17T17:30:07.526251Z",
     "iopub.status.busy": "2021-09-17T17:30:07.524194Z",
     "iopub.status.idle": "2021-09-17T17:30:07.828701Z",
     "shell.execute_reply": "2021-09-17T17:30:07.829905Z"
    },
    "papermill": {
     "duration": 0.334703,
     "end_time": "2021-09-17T17:30:07.830302",
     "exception": false,
     "start_time": "2021-09-17T17:30:07.495599",
     "status": "completed"
    },
    "tags": []
   },
   "outputs": [],
   "source": [
    "timestamps = pd.read_sql(\"select distinct record_time from EBAY_TOP_BERLIN order by record_time desc limit 2\", sqlite3.connect(\"UsedObjects.db\"))"
   ]
  },
  {
   "cell_type": "code",
   "execution_count": 3,
   "id": "periodic-identification",
   "metadata": {
    "execution": {
     "iopub.execute_input": "2021-09-17T17:30:07.894070Z",
     "iopub.status.busy": "2021-09-17T17:30:07.892062Z",
     "iopub.status.idle": "2021-09-17T17:30:07.911711Z",
     "shell.execute_reply": "2021-09-17T17:30:07.912839Z"
    },
    "papermill": {
     "duration": 0.063739,
     "end_time": "2021-09-17T17:30:07.913257",
     "exception": false,
     "start_time": "2021-09-17T17:30:07.849518",
     "status": "completed"
    },
    "tags": []
   },
   "outputs": [
    {
     "data": {
      "text/html": [
       "<div>\n",
       "<style scoped>\n",
       "    .dataframe tbody tr th:only-of-type {\n",
       "        vertical-align: middle;\n",
       "    }\n",
       "\n",
       "    .dataframe tbody tr th {\n",
       "        vertical-align: top;\n",
       "    }\n",
       "\n",
       "    .dataframe thead th {\n",
       "        text-align: right;\n",
       "    }\n",
       "</style>\n",
       "<table border=\"1\" class=\"dataframe\">\n",
       "  <thead>\n",
       "    <tr style=\"text-align: right;\">\n",
       "      <th></th>\n",
       "      <th>RECORD_TIME</th>\n",
       "    </tr>\n",
       "  </thead>\n",
       "  <tbody>\n",
       "    <tr>\n",
       "      <th>0</th>\n",
       "      <td>2021-09-17 19:30</td>\n",
       "    </tr>\n",
       "    <tr>\n",
       "      <th>1</th>\n",
       "      <td>2021-09-17 19:00</td>\n",
       "    </tr>\n",
       "  </tbody>\n",
       "</table>\n",
       "</div>"
      ],
      "text/plain": [
       "        RECORD_TIME\n",
       "0  2021-09-17 19:30\n",
       "1  2021-09-17 19:00"
      ]
     },
     "execution_count": 3,
     "metadata": {},
     "output_type": "execute_result"
    }
   ],
   "source": [
    "timestamps"
   ]
  },
  {
   "cell_type": "code",
   "execution_count": 4,
   "id": "alternate-victory",
   "metadata": {
    "execution": {
     "iopub.execute_input": "2021-09-17T17:30:07.967247Z",
     "iopub.status.busy": "2021-09-17T17:30:07.964914Z",
     "iopub.status.idle": "2021-09-17T17:30:08.421576Z",
     "shell.execute_reply": "2021-09-17T17:30:08.422929Z"
    },
    "papermill": {
     "duration": 0.487446,
     "end_time": "2021-09-17T17:30:08.423401",
     "exception": false,
     "start_time": "2021-09-17T17:30:07.935955",
     "status": "completed"
    },
    "tags": []
   },
   "outputs": [],
   "source": [
    "df = pd.read_sql(\"select * from EBAY_TOP_BERLIN where record_time in (select distinct record_time from EBAY_TOP_BERLIN order by record_time desc limit 2)\", sqlite3.connect(\"UsedObjects.db\"))"
   ]
  },
  {
   "cell_type": "code",
   "execution_count": 5,
   "id": "popular-active",
   "metadata": {
    "execution": {
     "iopub.execute_input": "2021-09-17T17:30:08.503435Z",
     "iopub.status.busy": "2021-09-17T17:30:08.491635Z",
     "iopub.status.idle": "2021-09-17T17:30:08.518867Z",
     "shell.execute_reply": "2021-09-17T17:30:08.520101Z"
    },
    "papermill": {
     "duration": 0.071673,
     "end_time": "2021-09-17T17:30:08.520499",
     "exception": false,
     "start_time": "2021-09-17T17:30:08.448826",
     "status": "completed"
    },
    "tags": []
   },
   "outputs": [],
   "source": [
    "df_pivot = df.pivot_table(index=\"PRODUCT\", columns = \"RECORD_TIME\", values = \"LISTING_COUNT\")"
   ]
  },
  {
   "cell_type": "code",
   "execution_count": 6,
   "id": "union-huntington",
   "metadata": {
    "execution": {
     "iopub.execute_input": "2021-09-17T17:30:08.578484Z",
     "iopub.status.busy": "2021-09-17T17:30:08.576220Z",
     "iopub.status.idle": "2021-09-17T17:30:08.581963Z",
     "shell.execute_reply": "2021-09-17T17:30:08.583314Z"
    },
    "papermill": {
     "duration": 0.041692,
     "end_time": "2021-09-17T17:30:08.583734",
     "exception": false,
     "start_time": "2021-09-17T17:30:08.542042",
     "status": "completed"
    },
    "tags": []
   },
   "outputs": [],
   "source": [
    "df_pivot.columns = [\"stamp_1\", \"stamp_2\"]\n",
    "df_pivot_diff = df_pivot.diff(axis=1)"
   ]
  },
  {
   "cell_type": "code",
   "execution_count": 7,
   "id": "fifth-motion",
   "metadata": {
    "execution": {
     "iopub.execute_input": "2021-09-17T17:30:08.638029Z",
     "iopub.status.busy": "2021-09-17T17:30:08.635727Z",
     "iopub.status.idle": "2021-09-17T17:30:10.137395Z",
     "shell.execute_reply": "2021-09-17T17:30:10.138668Z"
    },
    "papermill": {
     "duration": 1.535385,
     "end_time": "2021-09-17T17:30:10.139280",
     "exception": false,
     "start_time": "2021-09-17T17:30:08.603895",
     "status": "completed"
    },
    "tags": []
   },
   "outputs": [
    {
     "data": {
      "text/plain": [
       "<AxesSubplot:ylabel='PRODUCT'>"
      ]
     },
     "execution_count": 7,
     "metadata": {},
     "output_type": "execute_result"
    },
    {
     "data": {
      "image/png": "[encoded data removed]",
      "text/plain": [
       "<Figure size 432x288 with 1 Axes>"
      ]
     },
     "metadata": {
      "needs_background": "light"
     },
     "output_type": "display_data"
    }
   ],
   "source": [
    "df_pivot_diff.sort_values(\"stamp_2\", ascending = False)[\"stamp_2\"].head(10).plot.barh()"
   ]
  },
  {
   "cell_type": "code",
   "execution_count": null,
   "id": "extra-executive",
   "metadata": {
    "papermill": {
     "duration": 0.022487,
     "end_time": "2021-09-17T17:30:10.187806",
     "exception": false,
     "start_time": "2021-09-17T17:30:10.165319",
     "status": "completed"
    },
    "tags": []
   },
   "outputs": [],
   "source": []
  }
 ],
 "metadata": {
  "kernelspec": {
   "display_name": "Python 3",
   "language": "python",
   "name": "python3"
  },
  "language_info": {
   "codemirror_mode": {
    "name": "ipython",
    "version": 3
   },
   "file_extension": ".py",
   "mimetype": "text/x-python",
   "name": "python",
   "nbconvert_exporter": "python",
   "pygments_lexer": "ipython3",
   "version": "3.9.5"
  },
  "papermill": {
   "default_parameters": {},
   "duration": 6.593957,
   "end_time": "2021-09-17T17:30:10.828593",
   "environment_variables": {},
   "exception": null,
   "input_path": "eBay_Overview.ipynb",
   "output_path": "eBay_Overview.ipynb",
   "parameters": {},
   "start_time": "2021-09-17T17:30:04.234636",
   "version": "2.3.3"
  }
 },
 "nbformat": 4,
 "nbformat_minor": 5
}