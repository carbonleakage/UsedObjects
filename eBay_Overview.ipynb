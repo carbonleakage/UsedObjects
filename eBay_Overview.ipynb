{
 "cells": [
  {
   "cell_type": "code",
   "execution_count": 1,
   "id": "reverse-picking",
   "metadata": {
    "execution": {
     "iopub.execute_input": "2021-12-03T17:30:07.449102Z",
     "iopub.status.busy": "2021-12-03T17:30:07.447116Z",
     "iopub.status.idle": "2021-12-03T17:30:08.406661Z",
     "shell.execute_reply": "2021-12-03T17:30:08.404123Z"
    },
    "papermill": {
     "duration": 1.004417,
     "end_time": "2021-12-03T17:30:08.407226",
     "exception": false,
     "start_time": "2021-12-03T17:30:07.402809",
     "status": "completed"
    },
    "tags": []
   },
   "outputs": [],
   "source": [
    "import pandas as pd\n",
    "import sqlite3"
   ]
  },
  {
   "cell_type": "code",
   "execution_count": 2,
   "id": "innovative-syndrome",
   "metadata": {
    "execution": {
     "iopub.execute_input": "2021-12-03T17:30:08.470301Z",
     "iopub.status.busy": "2021-12-03T17:30:08.468224Z",
     "iopub.status.idle": "2021-12-03T17:30:09.477168Z",
     "shell.execute_reply": "2021-12-03T17:30:09.475223Z"
    },
    "papermill": {
     "duration": 1.04201,
     "end_time": "2021-12-03T17:30:09.477601",
     "exception": false,
     "start_time": "2021-12-03T17:30:08.435591",
     "status": "completed"
    },
    "tags": []
   },
   "outputs": [],
   "source": [
    "timestamps = pd.read_sql(\"select distinct record_time from EBAY_TOP_BERLIN order by record_time desc limit 2\", sqlite3.connect(\"UsedObjects.db\"))"
   ]
  },
  {
   "cell_type": "code",
   "execution_count": 3,
   "id": "periodic-identification",
   "metadata": {
    "execution": {
     "iopub.execute_input": "2021-12-03T17:30:09.550367Z",
     "iopub.status.busy": "2021-12-03T17:30:09.547773Z",
     "iopub.status.idle": "2021-12-03T17:30:09.573118Z",
     "shell.execute_reply": "2021-12-03T17:30:09.574564Z"
    },
    "papermill": {
     "duration": 0.076749,
     "end_time": "2021-12-03T17:30:09.575058",
     "exception": false,
     "start_time": "2021-12-03T17:30:09.498309",
     "status": "completed"
    },
    "tags": []
   },
   "outputs": [
    {
     "data": {
      "text/html": [
       "<div>\n",
       "<style scoped>\n",
       "    .dataframe tbody tr th:only-of-type {\n",
       "        vertical-align: middle;\n",
       "    }\n",
       "\n",
       "    .dataframe tbody tr th {\n",
       "        vertical-align: top;\n",
       "    }\n",
       "\n",
       "    .dataframe thead th {\n",
       "        text-align: right;\n",
       "    }\n",
       "</style>\n",
       "<table border=\"1\" class=\"dataframe\">\n",
       "  <thead>\n",
       "    <tr style=\"text-align: right;\">\n",
       "      <th></th>\n",
       "      <th>RECORD_TIME</th>\n",
       "    </tr>\n",
       "  </thead>\n",
       "  <tbody>\n",
       "    <tr>\n",
       "      <th>0</th>\n",
       "      <td>2021-12-03 18:30</td>\n",
       "    </tr>\n",
       "    <tr>\n",
       "      <th>1</th>\n",
       "      <td>2021-12-03 18:00</td>\n",
       "    </tr>\n",
       "  </tbody>\n",
       "</table>\n",
       "</div>"
      ],
      "text/plain": [
       "        RECORD_TIME\n",
       "0  2021-12-03 18:30\n",
       "1  2021-12-03 18:00"
      ]
     },
     "execution_count": 3,
     "metadata": {},
     "output_type": "execute_result"
    }
   ],
   "source": [
    "timestamps"
   ]
  },
  {
   "cell_type": "code",
   "execution_count": 4,
   "id": "alternate-victory",
   "metadata": {
    "execution": {
     "iopub.execute_input": "2021-12-03T17:30:09.632416Z",
     "iopub.status.busy": "2021-12-03T17:30:09.630243Z",
     "iopub.status.idle": "2021-12-03T17:30:11.073629Z",
     "shell.execute_reply": "2021-12-03T17:30:11.074884Z"
    },
    "papermill": {
     "duration": 1.478296,
     "end_time": "2021-12-03T17:30:11.075326",
     "exception": false,
     "start_time": "2021-12-03T17:30:09.597030",
     "status": "completed"
    },
    "tags": []
   },
   "outputs": [],
   "source": [
    "df = pd.read_sql(\"select * from EBAY_TOP_BERLIN where record_time in (select distinct record_time from EBAY_TOP_BERLIN order by record_time desc limit 2)\", sqlite3.connect(\"UsedObjects.db\"))"
   ]
  },
  {
   "cell_type": "code",
   "execution_count": 5,
   "id": "popular-active",
   "metadata": {
    "execution": {
     "iopub.execute_input": "2021-12-03T17:30:11.139647Z",
     "iopub.status.busy": "2021-12-03T17:30:11.137594Z",
     "iopub.status.idle": "2021-12-03T17:30:11.167256Z",
     "shell.execute_reply": "2021-12-03T17:30:11.168784Z"
    },
    "papermill": {
     "duration": 0.07318,
     "end_time": "2021-12-03T17:30:11.169266",
     "exception": false,
     "start_time": "2021-12-03T17:30:11.096086",
     "status": "completed"
    },
    "tags": []
   },
   "outputs": [],
   "source": [
    "df_pivot = df.pivot_table(index=\"PRODUCT\", columns = \"RECORD_TIME\", values = \"LISTING_COUNT\")"
   ]
  },
  {
   "cell_type": "code",
   "execution_count": 6,
   "id": "union-huntington",
   "metadata": {
    "execution": {
     "iopub.execute_input": "2021-12-03T17:30:11.231856Z",
     "iopub.status.busy": "2021-12-03T17:30:11.229540Z",
     "iopub.status.idle": "2021-12-03T17:30:11.235368Z",
     "shell.execute_reply": "2021-12-03T17:30:11.237089Z"
    },
    "papermill": {
     "duration": 0.046943,
     "end_time": "2021-12-03T17:30:11.237582",
     "exception": false,
     "start_time": "2021-12-03T17:30:11.190639",
     "status": "completed"
    },
    "tags": []
   },
   "outputs": [],
   "source": [
    "df_pivot.columns = [\"stamp_1\", \"stamp_2\"]\n",
    "df_pivot_diff = df_pivot.diff(axis=1)"
   ]
  },
  {
   "cell_type": "code",
   "execution_count": 7,
   "id": "fifth-motion",
   "metadata": {
    "execution": {
     "iopub.execute_input": "2021-12-03T17:30:11.296818Z",
     "iopub.status.busy": "2021-12-03T17:30:11.294203Z",
     "iopub.status.idle": "2021-12-03T17:30:13.171948Z",
     "shell.execute_reply": "2021-12-03T17:30:13.173403Z"
    },
    "papermill": {
     "duration": 1.915064,
     "end_time": "2021-12-03T17:30:13.173885",
     "exception": false,
     "start_time": "2021-12-03T17:30:11.258821",
     "status": "completed"
    },
    "tags": []
   },
   "outputs": [
    {
     "data": {
      "text/plain": [
       "<AxesSubplot:ylabel='PRODUCT'>"
      ]
     },
     "execution_count": 7,
     "metadata": {},
     "output_type": "execute_result"
    },
    {
     "data": {
      "image/png": "[encoded data removed]",
      "text/plain": [
       "<Figure size 432x288 with 1 Axes>"
      ]
     },
     "metadata": {
      "needs_background": "light"
     },
     "output_type": "display_data"
    }
   ],
   "source": [
    "df_pivot_diff.sort_values(\"stamp_2\", ascending = False)[\"stamp_2\"].head(10).plot.barh()"
   ]
  },
  {
   "cell_type": "code",
   "execution_count": null,
   "id": "extra-executive",
   "metadata": {
    "papermill": {
     "duration": 0.023667,
     "end_time": "2021-12-03T17:30:13.221440",
     "exception": false,
     "start_time": "2021-12-03T17:30:13.197773",
     "status": "completed"
    },
    "tags": []
   },
   "outputs": [],
   "source": []
  }
 ],
 "metadata": {
  "kernelspec": {
   "display_name": "Python 3",
   "language": "python",
   "name": "python3"
  },
  "language_info": {
   "codemirror_mode": {
    "name": "ipython",
    "version": 3
   },
   "file_extension": ".py",
   "mimetype": "text/x-python",
   "name": "python",
   "nbconvert_exporter": "python",
   "pygments_lexer": "ipython3",
   "version": "3.9.5"
  },
  "papermill": {
   "default_parameters": {},
   "duration": 9.953287,
   "end_time": "2021-12-03T17:30:14.622871",
   "environment_variables": {},
   "exception": null,
   "input_path": "eBay_Overview.ipynb",
   "output_path": "eBay_Overview.ipynb",
   "parameters": {},
   "start_time": "2021-12-03T17:30:04.669584",
   "version": "2.3.3"
  }
 },
 "nbformat": 4,
 "nbformat_minor": 5
}