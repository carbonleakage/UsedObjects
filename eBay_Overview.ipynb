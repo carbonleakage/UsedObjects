{
 "cells": [
  {
   "cell_type": "code",
   "execution_count": 1,
   "id": "reverse-picking",
   "metadata": {
    "execution": {
     "iopub.execute_input": "2021-10-07T04:00:06.970548Z",
     "iopub.status.busy": "2021-10-07T04:00:06.968622Z",
     "iopub.status.idle": "2021-10-07T04:00:07.772444Z",
     "shell.execute_reply": "2021-10-07T04:00:07.773856Z"
    },
    "papermill": {
     "duration": 0.855501,
     "end_time": "2021-10-07T04:00:07.774525",
     "exception": false,
     "start_time": "2021-10-07T04:00:06.919024",
     "status": "completed"
    },
    "tags": []
   },
   "outputs": [],
   "source": [
    "import pandas as pd\n",
    "import sqlite3"
   ]
  },
  {
   "cell_type": "code",
   "execution_count": 2,
   "id": "innovative-syndrome",
   "metadata": {
    "execution": {
     "iopub.execute_input": "2021-10-07T04:00:07.825367Z",
     "iopub.status.busy": "2021-10-07T04:00:07.823049Z",
     "iopub.status.idle": "2021-10-07T04:00:08.296020Z",
     "shell.execute_reply": "2021-10-07T04:00:08.297276Z"
    },
    "papermill": {
     "duration": 0.502831,
     "end_time": "2021-10-07T04:00:08.297669",
     "exception": false,
     "start_time": "2021-10-07T04:00:07.794838",
     "status": "completed"
    },
    "tags": []
   },
   "outputs": [],
   "source": [
    "timestamps = pd.read_sql(\"select distinct record_time from EBAY_TOP_BERLIN order by record_time desc limit 2\", sqlite3.connect(\"UsedObjects.db\"))"
   ]
  },
  {
   "cell_type": "code",
   "execution_count": 3,
   "id": "periodic-identification",
   "metadata": {
    "execution": {
     "iopub.execute_input": "2021-10-07T04:00:08.363630Z",
     "iopub.status.busy": "2021-10-07T04:00:08.361529Z",
     "iopub.status.idle": "2021-10-07T04:00:08.383348Z",
     "shell.execute_reply": "2021-10-07T04:00:08.381779Z"
    },
    "papermill": {
     "duration": 0.066777,
     "end_time": "2021-10-07T04:00:08.383728",
     "exception": false,
     "start_time": "2021-10-07T04:00:08.316951",
     "status": "completed"
    },
    "tags": []
   },
   "outputs": [
    {
     "data": {
      "text/html": [
       "<div>\n",
       "<style scoped>\n",
       "    .dataframe tbody tr th:only-of-type {\n",
       "        vertical-align: middle;\n",
       "    }\n",
       "\n",
       "    .dataframe tbody tr th {\n",
       "        vertical-align: top;\n",
       "    }\n",
       "\n",
       "    .dataframe thead th {\n",
       "        text-align: right;\n",
       "    }\n",
       "</style>\n",
       "<table border=\"1\" class=\"dataframe\">\n",
       "  <thead>\n",
       "    <tr style=\"text-align: right;\">\n",
       "      <th></th>\n",
       "      <th>RECORD_TIME</th>\n",
       "    </tr>\n",
       "  </thead>\n",
       "  <tbody>\n",
       "    <tr>\n",
       "      <th>0</th>\n",
       "      <td>2021-10-07 06:00</td>\n",
       "    </tr>\n",
       "    <tr>\n",
       "      <th>1</th>\n",
       "      <td>2021-10-07 05:30</td>\n",
       "    </tr>\n",
       "  </tbody>\n",
       "</table>\n",
       "</div>"
      ],
      "text/plain": [
       "        RECORD_TIME\n",
       "0  2021-10-07 06:00\n",
       "1  2021-10-07 05:30"
      ]
     },
     "execution_count": 3,
     "metadata": {},
     "output_type": "execute_result"
    }
   ],
   "source": [
    "timestamps"
   ]
  },
  {
   "cell_type": "code",
   "execution_count": 4,
   "id": "alternate-victory",
   "metadata": {
    "execution": {
     "iopub.execute_input": "2021-10-07T04:00:08.444725Z",
     "iopub.status.busy": "2021-10-07T04:00:08.442334Z",
     "iopub.status.idle": "2021-10-07T04:00:09.156352Z",
     "shell.execute_reply": "2021-10-07T04:00:09.157563Z"
    },
    "papermill": {
     "duration": 0.747752,
     "end_time": "2021-10-07T04:00:09.157952",
     "exception": false,
     "start_time": "2021-10-07T04:00:08.410200",
     "status": "completed"
    },
    "tags": []
   },
   "outputs": [],
   "source": [
    "df = pd.read_sql(\"select * from EBAY_TOP_BERLIN where record_time in (select distinct record_time from EBAY_TOP_BERLIN order by record_time desc limit 2)\", sqlite3.connect(\"UsedObjects.db\"))"
   ]
  },
  {
   "cell_type": "code",
   "execution_count": 5,
   "id": "popular-active",
   "metadata": {
    "execution": {
     "iopub.execute_input": "2021-10-07T04:00:09.218598Z",
     "iopub.status.busy": "2021-10-07T04:00:09.216371Z",
     "iopub.status.idle": "2021-10-07T04:00:09.243779Z",
     "shell.execute_reply": "2021-10-07T04:00:09.244998Z"
    },
    "papermill": {
     "duration": 0.067176,
     "end_time": "2021-10-07T04:00:09.245390",
     "exception": false,
     "start_time": "2021-10-07T04:00:09.178214",
     "status": "completed"
    },
    "tags": []
   },
   "outputs": [],
   "source": [
    "df_pivot = df.pivot_table(index=\"PRODUCT\", columns = \"RECORD_TIME\", values = \"LISTING_COUNT\")"
   ]
  },
  {
   "cell_type": "code",
   "execution_count": 6,
   "id": "union-huntington",
   "metadata": {
    "execution": {
     "iopub.execute_input": "2021-10-07T04:00:09.301679Z",
     "iopub.status.busy": "2021-10-07T04:00:09.299629Z",
     "iopub.status.idle": "2021-10-07T04:00:09.306128Z",
     "shell.execute_reply": "2021-10-07T04:00:09.304762Z"
    },
    "papermill": {
     "duration": 0.039799,
     "end_time": "2021-10-07T04:00:09.306474",
     "exception": false,
     "start_time": "2021-10-07T04:00:09.266675",
     "status": "completed"
    },
    "tags": []
   },
   "outputs": [],
   "source": [
    "df_pivot.columns = [\"stamp_1\", \"stamp_2\"]\n",
    "df_pivot_diff = df_pivot.diff(axis=1)"
   ]
  },
  {
   "cell_type": "code",
   "execution_count": 7,
   "id": "fifth-motion",
   "metadata": {
    "execution": {
     "iopub.execute_input": "2021-10-07T04:00:09.362560Z",
     "iopub.status.busy": "2021-10-07T04:00:09.359941Z",
     "iopub.status.idle": "2021-10-07T04:00:10.831735Z",
     "shell.execute_reply": "2021-10-07T04:00:10.833022Z"
    },
    "papermill": {
     "duration": 1.505867,
     "end_time": "2021-10-07T04:00:10.833473",
     "exception": false,
     "start_time": "2021-10-07T04:00:09.327606",
     "status": "completed"
    },
    "tags": []
   },
   "outputs": [
    {
     "data": {
      "text/plain": [
       "<AxesSubplot:ylabel='PRODUCT'>"
      ]
     },
     "execution_count": 7,
     "metadata": {},
     "output_type": "execute_result"
    },
    {
     "data": {
      "image/png": "[encoded data removed]",
      "text/plain": [
       "<Figure size 432x288 with 1 Axes>"
      ]
     },
     "metadata": {
      "needs_background": "light"
     },
     "output_type": "display_data"
    }
   ],
   "source": [
    "df_pivot_diff.sort_values(\"stamp_2\", ascending = False)[\"stamp_2\"].head(10).plot.barh()"
   ]
  },
  {
   "cell_type": "code",
   "execution_count": null,
   "id": "extra-executive",
   "metadata": {
    "papermill": {
     "duration": 0.02191,
     "end_time": "2021-10-07T04:00:10.879654",
     "exception": false,
     "start_time": "2021-10-07T04:00:10.857744",
     "status": "completed"
    },
    "tags": []
   },
   "outputs": [],
   "source": []
  }
 ],
 "metadata": {
  "kernelspec": {
   "display_name": "Python 3",
   "language": "python",
   "name": "python3"
  },
  "language_info": {
   "codemirror_mode": {
    "name": "ipython",
    "version": 3
   },
   "file_extension": ".py",
   "mimetype": "text/x-python",
   "name": "python",
   "nbconvert_exporter": "python",
   "pygments_lexer": "ipython3",
   "version": "3.9.5"
  },
  "papermill": {
   "default_parameters": {},
   "duration": 7.837012,
   "end_time": "2021-10-07T04:00:12.348743",
   "environment_variables": {},
   "exception": null,
   "input_path": "eBay_Overview.ipynb",
   "output_path": "eBay_Overview.ipynb",
   "parameters": {},
   "start_time": "2021-10-07T04:00:04.511731",
   "version": "2.3.3"
  }
 },
 "nbformat": 4,
 "nbformat_minor": 5
}