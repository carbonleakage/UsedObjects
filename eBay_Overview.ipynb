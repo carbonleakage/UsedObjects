{
 "cells": [
  {
   "cell_type": "code",
   "execution_count": 1,
   "id": "reverse-picking",
   "metadata": {
    "execution": {
     "iopub.execute_input": "2021-10-12T13:00:07.458315Z",
     "iopub.status.busy": "2021-10-12T13:00:07.456305Z",
     "iopub.status.idle": "2021-10-12T13:00:08.256806Z",
     "shell.execute_reply": "2021-10-12T13:00:08.258270Z"
    },
    "papermill": {
     "duration": 0.853392,
     "end_time": "2021-10-12T13:00:08.258956",
     "exception": false,
     "start_time": "2021-10-12T13:00:07.405564",
     "status": "completed"
    },
    "tags": []
   },
   "outputs": [],
   "source": [
    "import pandas as pd\n",
    "import sqlite3"
   ]
  },
  {
   "cell_type": "code",
   "execution_count": 2,
   "id": "innovative-syndrome",
   "metadata": {
    "execution": {
     "iopub.execute_input": "2021-10-12T13:00:08.309991Z",
     "iopub.status.busy": "2021-10-12T13:00:08.307603Z",
     "iopub.status.idle": "2021-10-12T13:00:08.826906Z",
     "shell.execute_reply": "2021-10-12T13:00:08.828114Z"
    },
    "papermill": {
     "duration": 0.54909,
     "end_time": "2021-10-12T13:00:08.828513",
     "exception": false,
     "start_time": "2021-10-12T13:00:08.279423",
     "status": "completed"
    },
    "tags": []
   },
   "outputs": [],
   "source": [
    "timestamps = pd.read_sql(\"select distinct record_time from EBAY_TOP_BERLIN order by record_time desc limit 2\", sqlite3.connect(\"UsedObjects.db\"))"
   ]
  },
  {
   "cell_type": "code",
   "execution_count": 3,
   "id": "periodic-identification",
   "metadata": {
    "execution": {
     "iopub.execute_input": "2021-10-12T13:00:08.891741Z",
     "iopub.status.busy": "2021-10-12T13:00:08.889726Z",
     "iopub.status.idle": "2021-10-12T13:00:08.909375Z",
     "shell.execute_reply": "2021-10-12T13:00:08.910609Z"
    },
    "papermill": {
     "duration": 0.063005,
     "end_time": "2021-10-12T13:00:08.911003",
     "exception": false,
     "start_time": "2021-10-12T13:00:08.847998",
     "status": "completed"
    },
    "tags": []
   },
   "outputs": [
    {
     "data": {
      "text/html": [
       "<div>\n",
       "<style scoped>\n",
       "    .dataframe tbody tr th:only-of-type {\n",
       "        vertical-align: middle;\n",
       "    }\n",
       "\n",
       "    .dataframe tbody tr th {\n",
       "        vertical-align: top;\n",
       "    }\n",
       "\n",
       "    .dataframe thead th {\n",
       "        text-align: right;\n",
       "    }\n",
       "</style>\n",
       "<table border=\"1\" class=\"dataframe\">\n",
       "  <thead>\n",
       "    <tr style=\"text-align: right;\">\n",
       "      <th></th>\n",
       "      <th>RECORD_TIME</th>\n",
       "    </tr>\n",
       "  </thead>\n",
       "  <tbody>\n",
       "    <tr>\n",
       "      <th>0</th>\n",
       "      <td>2021-10-12 15:00</td>\n",
       "    </tr>\n",
       "    <tr>\n",
       "      <th>1</th>\n",
       "      <td>2021-10-12 14:30</td>\n",
       "    </tr>\n",
       "  </tbody>\n",
       "</table>\n",
       "</div>"
      ],
      "text/plain": [
       "        RECORD_TIME\n",
       "0  2021-10-12 15:00\n",
       "1  2021-10-12 14:30"
      ]
     },
     "execution_count": 3,
     "metadata": {},
     "output_type": "execute_result"
    }
   ],
   "source": [
    "timestamps"
   ]
  },
  {
   "cell_type": "code",
   "execution_count": 4,
   "id": "alternate-victory",
   "metadata": {
    "execution": {
     "iopub.execute_input": "2021-10-12T13:00:08.971601Z",
     "iopub.status.busy": "2021-10-12T13:00:08.969554Z",
     "iopub.status.idle": "2021-10-12T13:00:09.710358Z",
     "shell.execute_reply": "2021-10-12T13:00:09.711575Z"
    },
    "papermill": {
     "duration": 0.773754,
     "end_time": "2021-10-12T13:00:09.711971",
     "exception": false,
     "start_time": "2021-10-12T13:00:08.938217",
     "status": "completed"
    },
    "tags": []
   },
   "outputs": [],
   "source": [
    "df = pd.read_sql(\"select * from EBAY_TOP_BERLIN where record_time in (select distinct record_time from EBAY_TOP_BERLIN order by record_time desc limit 2)\", sqlite3.connect(\"UsedObjects.db\"))"
   ]
  },
  {
   "cell_type": "code",
   "execution_count": 5,
   "id": "popular-active",
   "metadata": {
    "execution": {
     "iopub.execute_input": "2021-10-12T13:00:09.783495Z",
     "iopub.status.busy": "2021-10-12T13:00:09.769610Z",
     "iopub.status.idle": "2021-10-12T13:00:09.799029Z",
     "shell.execute_reply": "2021-10-12T13:00:09.800251Z"
    },
    "papermill": {
     "duration": 0.068209,
     "end_time": "2021-10-12T13:00:09.800647",
     "exception": false,
     "start_time": "2021-10-12T13:00:09.732438",
     "status": "completed"
    },
    "tags": []
   },
   "outputs": [],
   "source": [
    "df_pivot = df.pivot_table(index=\"PRODUCT\", columns = \"RECORD_TIME\", values = \"LISTING_COUNT\")"
   ]
  },
  {
   "cell_type": "code",
   "execution_count": 6,
   "id": "union-huntington",
   "metadata": {
    "execution": {
     "iopub.execute_input": "2021-10-12T13:00:09.858446Z",
     "iopub.status.busy": "2021-10-12T13:00:09.856104Z",
     "iopub.status.idle": "2021-10-12T13:00:09.862045Z",
     "shell.execute_reply": "2021-10-12T13:00:09.863410Z"
    },
    "papermill": {
     "duration": 0.042541,
     "end_time": "2021-10-12T13:00:09.863890",
     "exception": false,
     "start_time": "2021-10-12T13:00:09.821349",
     "status": "completed"
    },
    "tags": []
   },
   "outputs": [],
   "source": [
    "df_pivot.columns = [\"stamp_1\", \"stamp_2\"]\n",
    "df_pivot_diff = df_pivot.diff(axis=1)"
   ]
  },
  {
   "cell_type": "code",
   "execution_count": 7,
   "id": "fifth-motion",
   "metadata": {
    "execution": {
     "iopub.execute_input": "2021-10-12T13:00:09.919606Z",
     "iopub.status.busy": "2021-10-12T13:00:09.917234Z",
     "iopub.status.idle": "2021-10-12T13:00:11.421941Z",
     "shell.execute_reply": "2021-10-12T13:00:11.423239Z"
    },
    "papermill": {
     "duration": 1.538336,
     "end_time": "2021-10-12T13:00:11.423658",
     "exception": false,
     "start_time": "2021-10-12T13:00:09.885322",
     "status": "completed"
    },
    "tags": []
   },
   "outputs": [
    {
     "data": {
      "text/plain": [
       "<AxesSubplot:ylabel='PRODUCT'>"
      ]
     },
     "execution_count": 7,
     "metadata": {},
     "output_type": "execute_result"
    },
    {
     "data": {
      "image/png": "[encoded data removed]",
      "text/plain": [
       "<Figure size 432x288 with 1 Axes>"
      ]
     },
     "metadata": {
      "needs_background": "light"
     },
     "output_type": "display_data"
    }
   ],
   "source": [
    "df_pivot_diff.sort_values(\"stamp_2\", ascending = False)[\"stamp_2\"].head(10).plot.barh()"
   ]
  },
  {
   "cell_type": "code",
   "execution_count": null,
   "id": "extra-executive",
   "metadata": {
    "papermill": {
     "duration": 0.022201,
     "end_time": "2021-10-12T13:00:11.469754",
     "exception": false,
     "start_time": "2021-10-12T13:00:11.447553",
     "status": "completed"
    },
    "tags": []
   },
   "outputs": [],
   "source": []
  }
 ],
 "metadata": {
  "kernelspec": {
   "display_name": "Python 3",
   "language": "python",
   "name": "python3"
  },
  "language_info": {
   "codemirror_mode": {
    "name": "ipython",
    "version": 3
   },
   "file_extension": ".py",
   "mimetype": "text/x-python",
   "name": "python",
   "nbconvert_exporter": "python",
   "pygments_lexer": "ipython3",
   "version": "3.9.5"
  },
  "papermill": {
   "default_parameters": {},
   "duration": 7.829277,
   "end_time": "2021-10-12T13:00:12.838432",
   "environment_variables": {},
   "exception": null,
   "input_path": "eBay_Overview.ipynb",
   "output_path": "eBay_Overview.ipynb",
   "parameters": {},
   "start_time": "2021-10-12T13:00:05.009155",
   "version": "2.3.3"
  }
 },
 "nbformat": 4,
 "nbformat_minor": 5
}