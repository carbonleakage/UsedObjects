{
 "cells": [
  {
   "cell_type": "code",
   "execution_count": 1,
   "id": "reverse-picking",
   "metadata": {
    "execution": {
     "iopub.execute_input": "2021-08-15T17:30:06.620733Z",
     "iopub.status.busy": "2021-08-15T17:30:06.618460Z",
     "iopub.status.idle": "2021-08-15T17:30:07.434519Z",
     "shell.execute_reply": "2021-08-15T17:30:07.435871Z"
    },
    "papermill": {
     "duration": 0.869264,
     "end_time": "2021-08-15T17:30:07.436516",
     "exception": false,
     "start_time": "2021-08-15T17:30:06.567252",
     "status": "completed"
    },
    "tags": []
   },
   "outputs": [],
   "source": [
    "import pandas as pd\n",
    "import sqlite3"
   ]
  },
  {
   "cell_type": "code",
   "execution_count": 2,
   "id": "innovative-syndrome",
   "metadata": {
    "execution": {
     "iopub.execute_input": "2021-08-15T17:30:07.486690Z",
     "iopub.status.busy": "2021-08-15T17:30:07.484712Z",
     "iopub.status.idle": "2021-08-15T17:30:07.539332Z",
     "shell.execute_reply": "2021-08-15T17:30:07.540515Z"
    },
    "papermill": {
     "duration": 0.084132,
     "end_time": "2021-08-15T17:30:07.540907",
     "exception": false,
     "start_time": "2021-08-15T17:30:07.456775",
     "status": "completed"
    },
    "tags": []
   },
   "outputs": [],
   "source": [
    "timestamps = pd.read_sql(\"select distinct record_time from EBAY_TOP_BERLIN order by record_time desc limit 2\", sqlite3.connect(\"UsedObjects.db\"))"
   ]
  },
  {
   "cell_type": "code",
   "execution_count": 3,
   "id": "periodic-identification",
   "metadata": {
    "execution": {
     "iopub.execute_input": "2021-08-15T17:30:07.608501Z",
     "iopub.status.busy": "2021-08-15T17:30:07.603476Z",
     "iopub.status.idle": "2021-08-15T17:30:07.623886Z",
     "shell.execute_reply": "2021-08-15T17:30:07.625251Z"
    },
    "papermill": {
     "duration": 0.064,
     "end_time": "2021-08-15T17:30:07.625686",
     "exception": false,
     "start_time": "2021-08-15T17:30:07.561686",
     "status": "completed"
    },
    "tags": []
   },
   "outputs": [
    {
     "data": {
      "text/html": [
       "<div>\n",
       "<style scoped>\n",
       "    .dataframe tbody tr th:only-of-type {\n",
       "        vertical-align: middle;\n",
       "    }\n",
       "\n",
       "    .dataframe tbody tr th {\n",
       "        vertical-align: top;\n",
       "    }\n",
       "\n",
       "    .dataframe thead th {\n",
       "        text-align: right;\n",
       "    }\n",
       "</style>\n",
       "<table border=\"1\" class=\"dataframe\">\n",
       "  <thead>\n",
       "    <tr style=\"text-align: right;\">\n",
       "      <th></th>\n",
       "      <th>RECORD_TIME</th>\n",
       "    </tr>\n",
       "  </thead>\n",
       "  <tbody>\n",
       "    <tr>\n",
       "      <th>0</th>\n",
       "      <td>2021-08-15 19:30</td>\n",
       "    </tr>\n",
       "    <tr>\n",
       "      <th>1</th>\n",
       "      <td>2021-08-15 19:00</td>\n",
       "    </tr>\n",
       "  </tbody>\n",
       "</table>\n",
       "</div>"
      ],
      "text/plain": [
       "        RECORD_TIME\n",
       "0  2021-08-15 19:30\n",
       "1  2021-08-15 19:00"
      ]
     },
     "execution_count": 3,
     "metadata": {},
     "output_type": "execute_result"
    }
   ],
   "source": [
    "timestamps"
   ]
  },
  {
   "cell_type": "code",
   "execution_count": 4,
   "id": "alternate-victory",
   "metadata": {
    "execution": {
     "iopub.execute_input": "2021-08-15T17:30:07.679170Z",
     "iopub.status.busy": "2021-08-15T17:30:07.676797Z",
     "iopub.status.idle": "2021-08-15T17:30:07.762097Z",
     "shell.execute_reply": "2021-08-15T17:30:07.763491Z"
    },
    "papermill": {
     "duration": 0.116028,
     "end_time": "2021-08-15T17:30:07.763904",
     "exception": false,
     "start_time": "2021-08-15T17:30:07.647876",
     "status": "completed"
    },
    "tags": []
   },
   "outputs": [],
   "source": [
    "df = pd.read_sql(\"select * from EBAY_TOP_BERLIN where record_time in (select distinct record_time from EBAY_TOP_BERLIN order by record_time desc limit 2)\", sqlite3.connect(\"UsedObjects.db\"))"
   ]
  },
  {
   "cell_type": "code",
   "execution_count": 5,
   "id": "popular-active",
   "metadata": {
    "execution": {
     "iopub.execute_input": "2021-08-15T17:30:07.836179Z",
     "iopub.status.busy": "2021-08-15T17:30:07.829198Z",
     "iopub.status.idle": "2021-08-15T17:30:07.851543Z",
     "shell.execute_reply": "2021-08-15T17:30:07.852754Z"
    },
    "papermill": {
     "duration": 0.068178,
     "end_time": "2021-08-15T17:30:07.853148",
     "exception": false,
     "start_time": "2021-08-15T17:30:07.784970",
     "status": "completed"
    },
    "tags": []
   },
   "outputs": [],
   "source": [
    "df_pivot = df.pivot_table(index=\"PRODUCT\", columns = \"RECORD_TIME\", values = \"LISTING_COUNT\")"
   ]
  },
  {
   "cell_type": "code",
   "execution_count": 6,
   "id": "union-huntington",
   "metadata": {
    "execution": {
     "iopub.execute_input": "2021-08-15T17:30:07.909479Z",
     "iopub.status.busy": "2021-08-15T17:30:07.907390Z",
     "iopub.status.idle": "2021-08-15T17:30:07.912518Z",
     "shell.execute_reply": "2021-08-15T17:30:07.913788Z"
    },
    "papermill": {
     "duration": 0.040199,
     "end_time": "2021-08-15T17:30:07.914256",
     "exception": false,
     "start_time": "2021-08-15T17:30:07.874057",
     "status": "completed"
    },
    "tags": []
   },
   "outputs": [],
   "source": [
    "df_pivot.columns = [\"stamp_1\", \"stamp_2\"]\n",
    "df_pivot_diff = df_pivot.diff(axis=1)"
   ]
  },
  {
   "cell_type": "code",
   "execution_count": 7,
   "id": "fifth-motion",
   "metadata": {
    "execution": {
     "iopub.execute_input": "2021-08-15T17:30:07.969591Z",
     "iopub.status.busy": "2021-08-15T17:30:07.967137Z",
     "iopub.status.idle": "2021-08-15T17:30:09.438450Z",
     "shell.execute_reply": "2021-08-15T17:30:09.439853Z"
    },
    "papermill": {
     "duration": 1.504418,
     "end_time": "2021-08-15T17:30:09.440292",
     "exception": false,
     "start_time": "2021-08-15T17:30:07.935874",
     "status": "completed"
    },
    "tags": []
   },
   "outputs": [
    {
     "data": {
      "text/plain": [
       "<AxesSubplot:ylabel='PRODUCT'>"
      ]
     },
     "execution_count": 7,
     "metadata": {},
     "output_type": "execute_result"
    },
    {
     "data": {
      "image/png": "[encoded data removed]",
      "text/plain": [
       "<Figure size 432x288 with 1 Axes>"
      ]
     },
     "metadata": {
      "needs_background": "light"
     },
     "output_type": "display_data"
    }
   ],
   "source": [
    "df_pivot_diff.sort_values(\"stamp_2\", ascending = False)[\"stamp_2\"].head(10).plot.barh()"
   ]
  },
  {
   "cell_type": "code",
   "execution_count": null,
   "id": "extra-executive",
   "metadata": {
    "papermill": {
     "duration": 0.022291,
     "end_time": "2021-08-15T17:30:09.487195",
     "exception": false,
     "start_time": "2021-08-15T17:30:09.464904",
     "status": "completed"
    },
    "tags": []
   },
   "outputs": [],
   "source": []
  }
 ],
 "metadata": {
  "kernelspec": {
   "display_name": "Python 3",
   "language": "python",
   "name": "python3"
  },
  "language_info": {
   "codemirror_mode": {
    "name": "ipython",
    "version": 3
   },
   "file_extension": ".py",
   "mimetype": "text/x-python",
   "name": "python",
   "nbconvert_exporter": "python",
   "pygments_lexer": "ipython3",
   "version": "3.9.5"
  },
  "papermill": {
   "default_parameters": {},
   "duration": 6.834389,
   "end_time": "2021-08-15T17:30:10.974767",
   "environment_variables": {},
   "exception": null,
   "input_path": "eBay_Overview.ipynb",
   "output_path": "eBay_Overview.ipynb",
   "parameters": {},
   "start_time": "2021-08-15T17:30:04.140378",
   "version": "2.3.3"
  }
 },
 "nbformat": 4,
 "nbformat_minor": 5
}