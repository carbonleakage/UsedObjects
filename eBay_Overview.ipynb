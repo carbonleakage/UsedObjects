{
 "cells": [
  {
   "cell_type": "code",
   "execution_count": 1,
   "id": "reverse-picking",
   "metadata": {
    "execution": {
     "iopub.execute_input": "2021-10-18T01:00:07.257089Z",
     "iopub.status.busy": "2021-10-18T01:00:07.255087Z",
     "iopub.status.idle": "2021-10-18T01:00:08.062724Z",
     "shell.execute_reply": "2021-10-18T01:00:08.063970Z"
    },
    "papermill": {
     "duration": 0.85968,
     "end_time": "2021-10-18T01:00:08.064586",
     "exception": false,
     "start_time": "2021-10-18T01:00:07.204906",
     "status": "completed"
    },
    "tags": []
   },
   "outputs": [],
   "source": [
    "import pandas as pd\n",
    "import sqlite3"
   ]
  },
  {
   "cell_type": "code",
   "execution_count": 2,
   "id": "innovative-syndrome",
   "metadata": {
    "execution": {
     "iopub.execute_input": "2021-10-18T01:00:08.116147Z",
     "iopub.status.busy": "2021-10-18T01:00:08.114297Z",
     "iopub.status.idle": "2021-10-18T01:00:08.671440Z",
     "shell.execute_reply": "2021-10-18T01:00:08.672743Z"
    },
    "papermill": {
     "duration": 0.586972,
     "end_time": "2021-10-18T01:00:08.673177",
     "exception": false,
     "start_time": "2021-10-18T01:00:08.086205",
     "status": "completed"
    },
    "tags": []
   },
   "outputs": [],
   "source": [
    "timestamps = pd.read_sql(\"select distinct record_time from EBAY_TOP_BERLIN order by record_time desc limit 2\", sqlite3.connect(\"UsedObjects.db\"))"
   ]
  },
  {
   "cell_type": "code",
   "execution_count": 3,
   "id": "periodic-identification",
   "metadata": {
    "execution": {
     "iopub.execute_input": "2021-10-18T01:00:08.752249Z",
     "iopub.status.busy": "2021-10-18T01:00:08.750231Z",
     "iopub.status.idle": "2021-10-18T01:00:08.770693Z",
     "shell.execute_reply": "2021-10-18T01:00:08.772093Z"
    },
    "papermill": {
     "duration": 0.071191,
     "end_time": "2021-10-18T01:00:08.772531",
     "exception": false,
     "start_time": "2021-10-18T01:00:08.701340",
     "status": "completed"
    },
    "tags": []
   },
   "outputs": [
    {
     "data": {
      "text/html": [
       "<div>\n",
       "<style scoped>\n",
       "    .dataframe tbody tr th:only-of-type {\n",
       "        vertical-align: middle;\n",
       "    }\n",
       "\n",
       "    .dataframe tbody tr th {\n",
       "        vertical-align: top;\n",
       "    }\n",
       "\n",
       "    .dataframe thead th {\n",
       "        text-align: right;\n",
       "    }\n",
       "</style>\n",
       "<table border=\"1\" class=\"dataframe\">\n",
       "  <thead>\n",
       "    <tr style=\"text-align: right;\">\n",
       "      <th></th>\n",
       "      <th>RECORD_TIME</th>\n",
       "    </tr>\n",
       "  </thead>\n",
       "  <tbody>\n",
       "    <tr>\n",
       "      <th>0</th>\n",
       "      <td>2021-10-18 03:00</td>\n",
       "    </tr>\n",
       "    <tr>\n",
       "      <th>1</th>\n",
       "      <td>2021-10-18 02:30</td>\n",
       "    </tr>\n",
       "  </tbody>\n",
       "</table>\n",
       "</div>"
      ],
      "text/plain": [
       "        RECORD_TIME\n",
       "0  2021-10-18 03:00\n",
       "1  2021-10-18 02:30"
      ]
     },
     "execution_count": 3,
     "metadata": {},
     "output_type": "execute_result"
    }
   ],
   "source": [
    "timestamps"
   ]
  },
  {
   "cell_type": "code",
   "execution_count": 4,
   "id": "alternate-victory",
   "metadata": {
    "execution": {
     "iopub.execute_input": "2021-10-18T01:00:08.823705Z",
     "iopub.status.busy": "2021-10-18T01:00:08.821688Z",
     "iopub.status.idle": "2021-10-18T01:00:09.641239Z",
     "shell.execute_reply": "2021-10-18T01:00:09.642378Z"
    },
    "papermill": {
     "duration": 0.84979,
     "end_time": "2021-10-18T01:00:09.642790",
     "exception": false,
     "start_time": "2021-10-18T01:00:08.793000",
     "status": "completed"
    },
    "tags": []
   },
   "outputs": [],
   "source": [
    "df = pd.read_sql(\"select * from EBAY_TOP_BERLIN where record_time in (select distinct record_time from EBAY_TOP_BERLIN order by record_time desc limit 2)\", sqlite3.connect(\"UsedObjects.db\"))"
   ]
  },
  {
   "cell_type": "code",
   "execution_count": 5,
   "id": "popular-active",
   "metadata": {
    "execution": {
     "iopub.execute_input": "2021-10-18T01:00:09.715761Z",
     "iopub.status.busy": "2021-10-18T01:00:09.704943Z",
     "iopub.status.idle": "2021-10-18T01:00:09.732195Z",
     "shell.execute_reply": "2021-10-18T01:00:09.733485Z"
    },
    "papermill": {
     "duration": 0.067644,
     "end_time": "2021-10-18T01:00:09.733889",
     "exception": false,
     "start_time": "2021-10-18T01:00:09.666245",
     "status": "completed"
    },
    "tags": []
   },
   "outputs": [],
   "source": [
    "df_pivot = df.pivot_table(index=\"PRODUCT\", columns = \"RECORD_TIME\", values = \"LISTING_COUNT\")"
   ]
  },
  {
   "cell_type": "code",
   "execution_count": 6,
   "id": "union-huntington",
   "metadata": {
    "execution": {
     "iopub.execute_input": "2021-10-18T01:00:09.792219Z",
     "iopub.status.busy": "2021-10-18T01:00:09.789959Z",
     "iopub.status.idle": "2021-10-18T01:00:09.795783Z",
     "shell.execute_reply": "2021-10-18T01:00:09.797197Z"
    },
    "papermill": {
     "duration": 0.041497,
     "end_time": "2021-10-18T01:00:09.797676",
     "exception": false,
     "start_time": "2021-10-18T01:00:09.756179",
     "status": "completed"
    },
    "tags": []
   },
   "outputs": [],
   "source": [
    "df_pivot.columns = [\"stamp_1\", \"stamp_2\"]\n",
    "df_pivot_diff = df_pivot.diff(axis=1)"
   ]
  },
  {
   "cell_type": "code",
   "execution_count": 7,
   "id": "fifth-motion",
   "metadata": {
    "execution": {
     "iopub.execute_input": "2021-10-18T01:00:09.851830Z",
     "iopub.status.busy": "2021-10-18T01:00:09.849493Z",
     "iopub.status.idle": "2021-10-18T01:00:11.342626Z",
     "shell.execute_reply": "2021-10-18T01:00:11.343896Z"
    },
    "papermill": {
     "duration": 1.525674,
     "end_time": "2021-10-18T01:00:11.344310",
     "exception": false,
     "start_time": "2021-10-18T01:00:09.818636",
     "status": "completed"
    },
    "tags": []
   },
   "outputs": [
    {
     "data": {
      "text/plain": [
       "<AxesSubplot:ylabel='PRODUCT'>"
      ]
     },
     "execution_count": 7,
     "metadata": {},
     "output_type": "execute_result"
    },
    {
     "data": {
      "image/png": "[encoded data removed]",
      "text/plain": [
       "<Figure size 432x288 with 1 Axes>"
      ]
     },
     "metadata": {
      "needs_background": "light"
     },
     "output_type": "display_data"
    }
   ],
   "source": [
    "df_pivot_diff.sort_values(\"stamp_2\", ascending = False)[\"stamp_2\"].head(10).plot.barh()"
   ]
  },
  {
   "cell_type": "code",
   "execution_count": null,
   "id": "extra-executive",
   "metadata": {
    "papermill": {
     "duration": 0.022082,
     "end_time": "2021-10-18T01:00:11.390170",
     "exception": false,
     "start_time": "2021-10-18T01:00:11.368088",
     "status": "completed"
    },
    "tags": []
   },
   "outputs": [],
   "source": []
  }
 ],
 "metadata": {
  "kernelspec": {
   "display_name": "Python 3",
   "language": "python",
   "name": "python3"
  },
  "language_info": {
   "codemirror_mode": {
    "name": "ipython",
    "version": 3
   },
   "file_extension": ".py",
   "mimetype": "text/x-python",
   "name": "python",
   "nbconvert_exporter": "python",
   "pygments_lexer": "ipython3",
   "version": "3.9.5"
  },
  "papermill": {
   "default_parameters": {},
   "duration": 7.822636,
   "end_time": "2021-10-18T01:00:12.616281",
   "environment_variables": {},
   "exception": null,
   "input_path": "eBay_Overview.ipynb",
   "output_path": "eBay_Overview.ipynb",
   "parameters": {},
   "start_time": "2021-10-18T01:00:04.793645",
   "version": "2.3.3"
  }
 },
 "nbformat": 4,
 "nbformat_minor": 5
}