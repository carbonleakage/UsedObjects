{
 "cells": [
  {
   "cell_type": "code",
   "execution_count": 1,
   "id": "reverse-picking",
   "metadata": {
    "execution": {
     "iopub.execute_input": "2021-12-11T20:30:07.948414Z",
     "iopub.status.busy": "2021-12-11T20:30:07.946219Z",
     "iopub.status.idle": "2021-12-11T20:30:08.892070Z",
     "shell.execute_reply": "2021-12-11T20:30:08.893721Z"
    },
    "papermill": {
     "duration": 0.995871,
     "end_time": "2021-12-11T20:30:08.894479",
     "exception": false,
     "start_time": "2021-12-11T20:30:07.898608",
     "status": "completed"
    },
    "tags": []
   },
   "outputs": [],
   "source": [
    "import pandas as pd\n",
    "import sqlite3"
   ]
  },
  {
   "cell_type": "code",
   "execution_count": 2,
   "id": "innovative-syndrome",
   "metadata": {
    "execution": {
     "iopub.execute_input": "2021-12-11T20:30:09.009954Z",
     "iopub.status.busy": "2021-12-11T20:30:09.007711Z",
     "iopub.status.idle": "2021-12-11T20:30:10.071387Z",
     "shell.execute_reply": "2021-12-11T20:30:10.072947Z"
    },
    "papermill": {
     "duration": 1.097517,
     "end_time": "2021-12-11T20:30:10.073431",
     "exception": false,
     "start_time": "2021-12-11T20:30:08.975914",
     "status": "completed"
    },
    "tags": []
   },
   "outputs": [],
   "source": [
    "timestamps = pd.read_sql(\"select distinct record_time from EBAY_TOP_BERLIN order by record_time desc limit 2\", sqlite3.connect(\"UsedObjects.db\"))"
   ]
  },
  {
   "cell_type": "code",
   "execution_count": 3,
   "id": "periodic-identification",
   "metadata": {
    "execution": {
     "iopub.execute_input": "2021-12-11T20:30:10.123477Z",
     "iopub.status.busy": "2021-12-11T20:30:10.121037Z",
     "iopub.status.idle": "2021-12-11T20:30:10.163766Z",
     "shell.execute_reply": "2021-12-11T20:30:10.165529Z"
    },
    "papermill": {
     "duration": 0.073203,
     "end_time": "2021-12-11T20:30:10.165996",
     "exception": false,
     "start_time": "2021-12-11T20:30:10.092793",
     "status": "completed"
    },
    "tags": []
   },
   "outputs": [
    {
     "data": {
      "text/html": [
       "<div>\n",
       "<style scoped>\n",
       "    .dataframe tbody tr th:only-of-type {\n",
       "        vertical-align: middle;\n",
       "    }\n",
       "\n",
       "    .dataframe tbody tr th {\n",
       "        vertical-align: top;\n",
       "    }\n",
       "\n",
       "    .dataframe thead th {\n",
       "        text-align: right;\n",
       "    }\n",
       "</style>\n",
       "<table border=\"1\" class=\"dataframe\">\n",
       "  <thead>\n",
       "    <tr style=\"text-align: right;\">\n",
       "      <th></th>\n",
       "      <th>RECORD_TIME</th>\n",
       "    </tr>\n",
       "  </thead>\n",
       "  <tbody>\n",
       "    <tr>\n",
       "      <th>0</th>\n",
       "      <td>2021-12-11 21:30</td>\n",
       "    </tr>\n",
       "    <tr>\n",
       "      <th>1</th>\n",
       "      <td>2021-12-11 21:00</td>\n",
       "    </tr>\n",
       "  </tbody>\n",
       "</table>\n",
       "</div>"
      ],
      "text/plain": [
       "        RECORD_TIME\n",
       "0  2021-12-11 21:30\n",
       "1  2021-12-11 21:00"
      ]
     },
     "execution_count": 3,
     "metadata": {},
     "output_type": "execute_result"
    }
   ],
   "source": [
    "timestamps"
   ]
  },
  {
   "cell_type": "code",
   "execution_count": 4,
   "id": "alternate-victory",
   "metadata": {
    "execution": {
     "iopub.execute_input": "2021-12-11T20:30:10.245669Z",
     "iopub.status.busy": "2021-12-11T20:30:10.243382Z",
     "iopub.status.idle": "2021-12-11T20:30:11.826863Z",
     "shell.execute_reply": "2021-12-11T20:30:11.828991Z"
    },
    "papermill": {
     "duration": 1.617622,
     "end_time": "2021-12-11T20:30:11.829469",
     "exception": false,
     "start_time": "2021-12-11T20:30:10.211847",
     "status": "completed"
    },
    "tags": []
   },
   "outputs": [],
   "source": [
    "df = pd.read_sql(\"select * from EBAY_TOP_BERLIN where record_time in (select distinct record_time from EBAY_TOP_BERLIN order by record_time desc limit 2)\", sqlite3.connect(\"UsedObjects.db\"))"
   ]
  },
  {
   "cell_type": "code",
   "execution_count": 5,
   "id": "popular-active",
   "metadata": {
    "execution": {
     "iopub.execute_input": "2021-12-11T20:30:11.904946Z",
     "iopub.status.busy": "2021-12-11T20:30:11.890004Z",
     "iopub.status.idle": "2021-12-11T20:30:11.925780Z",
     "shell.execute_reply": "2021-12-11T20:30:11.924173Z"
    },
    "papermill": {
     "duration": 0.075909,
     "end_time": "2021-12-11T20:30:11.926202",
     "exception": false,
     "start_time": "2021-12-11T20:30:11.850293",
     "status": "completed"
    },
    "tags": []
   },
   "outputs": [],
   "source": [
    "df_pivot = df.pivot_table(index=\"PRODUCT\", columns = \"RECORD_TIME\", values = \"LISTING_COUNT\")"
   ]
  },
  {
   "cell_type": "code",
   "execution_count": 6,
   "id": "union-huntington",
   "metadata": {
    "execution": {
     "iopub.execute_input": "2021-12-11T20:30:11.991237Z",
     "iopub.status.busy": "2021-12-11T20:30:11.989066Z",
     "iopub.status.idle": "2021-12-11T20:30:11.994085Z",
     "shell.execute_reply": "2021-12-11T20:30:11.995459Z"
    },
    "papermill": {
     "duration": 0.045086,
     "end_time": "2021-12-11T20:30:11.995934",
     "exception": false,
     "start_time": "2021-12-11T20:30:11.950848",
     "status": "completed"
    },
    "tags": []
   },
   "outputs": [],
   "source": [
    "df_pivot.columns = [\"stamp_1\", \"stamp_2\"]\n",
    "df_pivot_diff = df_pivot.diff(axis=1)"
   ]
  },
  {
   "cell_type": "code",
   "execution_count": 7,
   "id": "fifth-motion",
   "metadata": {
    "execution": {
     "iopub.execute_input": "2021-12-11T20:30:12.051676Z",
     "iopub.status.busy": "2021-12-11T20:30:12.049286Z",
     "iopub.status.idle": "2021-12-11T20:30:14.008740Z",
     "shell.execute_reply": "2021-12-11T20:30:14.010208Z"
    },
    "papermill": {
     "duration": 1.99488,
     "end_time": "2021-12-11T20:30:14.010650",
     "exception": false,
     "start_time": "2021-12-11T20:30:12.015770",
     "status": "completed"
    },
    "tags": []
   },
   "outputs": [
    {
     "data": {
      "text/plain": [
       "<AxesSubplot:ylabel='PRODUCT'>"
      ]
     },
     "execution_count": 7,
     "metadata": {},
     "output_type": "execute_result"
    },
    {
     "data": {
      "image/png": "[encoded data removed]",
      "text/plain": [
       "<Figure size 432x288 with 1 Axes>"
      ]
     },
     "metadata": {
      "needs_background": "light"
     },
     "output_type": "display_data"
    }
   ],
   "source": [
    "df_pivot_diff.sort_values(\"stamp_2\", ascending = False)[\"stamp_2\"].head(10).plot.barh()"
   ]
  },
  {
   "cell_type": "code",
   "execution_count": null,
   "id": "extra-executive",
   "metadata": {
    "papermill": {
     "duration": 0.029247,
     "end_time": "2021-12-11T20:30:14.063736",
     "exception": false,
     "start_time": "2021-12-11T20:30:14.034489",
     "status": "completed"
    },
    "tags": []
   },
   "outputs": [],
   "source": []
  }
 ],
 "metadata": {
  "kernelspec": {
   "display_name": "Python 3",
   "language": "python",
   "name": "python3"
  },
  "language_info": {
   "codemirror_mode": {
    "name": "ipython",
    "version": 3
   },
   "file_extension": ".py",
   "mimetype": "text/x-python",
   "name": "python",
   "nbconvert_exporter": "python",
   "pygments_lexer": "ipython3",
   "version": "3.9.5"
  },
  "papermill": {
   "default_parameters": {},
   "duration": 9.526974,
   "end_time": "2021-12-11T20:30:14.709069",
   "environment_variables": {},
   "exception": null,
   "input_path": "eBay_Overview.ipynb",
   "output_path": "eBay_Overview.ipynb",
   "parameters": {},
   "start_time": "2021-12-11T20:30:05.182095",
   "version": "2.3.3"
  }
 },
 "nbformat": 4,
 "nbformat_minor": 5
}