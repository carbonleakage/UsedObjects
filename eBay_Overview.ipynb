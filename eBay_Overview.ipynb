{
 "cells": [
  {
   "cell_type": "code",
   "execution_count": 1,
   "id": "reverse-picking",
   "metadata": {
    "execution": {
     "iopub.execute_input": "2021-10-01T22:30:07.436759Z",
     "iopub.status.busy": "2021-10-01T22:30:07.434730Z",
     "iopub.status.idle": "2021-10-01T22:30:08.239516Z",
     "shell.execute_reply": "2021-10-01T22:30:08.237775Z"
    },
    "papermill": {
     "duration": 0.853433,
     "end_time": "2021-10-01T22:30:08.239946",
     "exception": false,
     "start_time": "2021-10-01T22:30:07.386513",
     "status": "completed"
    },
    "tags": []
   },
   "outputs": [],
   "source": [
    "import pandas as pd\n",
    "import sqlite3"
   ]
  },
  {
   "cell_type": "code",
   "execution_count": 2,
   "id": "innovative-syndrome",
   "metadata": {
    "execution": {
     "iopub.execute_input": "2021-10-01T22:30:08.290038Z",
     "iopub.status.busy": "2021-10-01T22:30:08.288155Z",
     "iopub.status.idle": "2021-10-01T22:30:08.710115Z",
     "shell.execute_reply": "2021-10-01T22:30:08.711671Z"
    },
    "papermill": {
     "duration": 0.451894,
     "end_time": "2021-10-01T22:30:08.712110",
     "exception": false,
     "start_time": "2021-10-01T22:30:08.260216",
     "status": "completed"
    },
    "tags": []
   },
   "outputs": [],
   "source": [
    "timestamps = pd.read_sql(\"select distinct record_time from EBAY_TOP_BERLIN order by record_time desc limit 2\", sqlite3.connect(\"UsedObjects.db\"))"
   ]
  },
  {
   "cell_type": "code",
   "execution_count": 3,
   "id": "periodic-identification",
   "metadata": {
    "execution": {
     "iopub.execute_input": "2021-10-01T22:30:08.777686Z",
     "iopub.status.busy": "2021-10-01T22:30:08.775637Z",
     "iopub.status.idle": "2021-10-01T22:30:08.798450Z",
     "shell.execute_reply": "2021-10-01T22:30:08.799852Z"
    },
    "papermill": {
     "duration": 0.068677,
     "end_time": "2021-10-01T22:30:08.800278",
     "exception": false,
     "start_time": "2021-10-01T22:30:08.731601",
     "status": "completed"
    },
    "tags": []
   },
   "outputs": [
    {
     "data": {
      "text/html": [
       "<div>\n",
       "<style scoped>\n",
       "    .dataframe tbody tr th:only-of-type {\n",
       "        vertical-align: middle;\n",
       "    }\n",
       "\n",
       "    .dataframe tbody tr th {\n",
       "        vertical-align: top;\n",
       "    }\n",
       "\n",
       "    .dataframe thead th {\n",
       "        text-align: right;\n",
       "    }\n",
       "</style>\n",
       "<table border=\"1\" class=\"dataframe\">\n",
       "  <thead>\n",
       "    <tr style=\"text-align: right;\">\n",
       "      <th></th>\n",
       "      <th>RECORD_TIME</th>\n",
       "    </tr>\n",
       "  </thead>\n",
       "  <tbody>\n",
       "    <tr>\n",
       "      <th>0</th>\n",
       "      <td>2021-10-02 00:30</td>\n",
       "    </tr>\n",
       "    <tr>\n",
       "      <th>1</th>\n",
       "      <td>2021-10-02 00:00</td>\n",
       "    </tr>\n",
       "  </tbody>\n",
       "</table>\n",
       "</div>"
      ],
      "text/plain": [
       "        RECORD_TIME\n",
       "0  2021-10-02 00:30\n",
       "1  2021-10-02 00:00"
      ]
     },
     "execution_count": 3,
     "metadata": {},
     "output_type": "execute_result"
    }
   ],
   "source": [
    "timestamps"
   ]
  },
  {
   "cell_type": "code",
   "execution_count": 4,
   "id": "alternate-victory",
   "metadata": {
    "execution": {
     "iopub.execute_input": "2021-10-01T22:30:08.852106Z",
     "iopub.status.busy": "2021-10-01T22:30:08.850163Z",
     "iopub.status.idle": "2021-10-01T22:30:09.482444Z",
     "shell.execute_reply": "2021-10-01T22:30:09.483885Z"
    },
    "papermill": {
     "duration": 0.662592,
     "end_time": "2021-10-01T22:30:09.484317",
     "exception": false,
     "start_time": "2021-10-01T22:30:08.821725",
     "status": "completed"
    },
    "tags": []
   },
   "outputs": [],
   "source": [
    "df = pd.read_sql(\"select * from EBAY_TOP_BERLIN where record_time in (select distinct record_time from EBAY_TOP_BERLIN order by record_time desc limit 2)\", sqlite3.connect(\"UsedObjects.db\"))"
   ]
  },
  {
   "cell_type": "code",
   "execution_count": 5,
   "id": "popular-active",
   "metadata": {
    "execution": {
     "iopub.execute_input": "2021-10-01T22:30:09.579291Z",
     "iopub.status.busy": "2021-10-01T22:30:09.566539Z",
     "iopub.status.idle": "2021-10-01T22:30:09.596340Z",
     "shell.execute_reply": "2021-10-01T22:30:09.597721Z"
    },
    "papermill": {
     "duration": 0.075252,
     "end_time": "2021-10-01T22:30:09.598150",
     "exception": false,
     "start_time": "2021-10-01T22:30:09.522898",
     "status": "completed"
    },
    "tags": []
   },
   "outputs": [],
   "source": [
    "df_pivot = df.pivot_table(index=\"PRODUCT\", columns = \"RECORD_TIME\", values = \"LISTING_COUNT\")"
   ]
  },
  {
   "cell_type": "code",
   "execution_count": 6,
   "id": "union-huntington",
   "metadata": {
    "execution": {
     "iopub.execute_input": "2021-10-01T22:30:09.655339Z",
     "iopub.status.busy": "2021-10-01T22:30:09.653165Z",
     "iopub.status.idle": "2021-10-01T22:30:09.658591Z",
     "shell.execute_reply": "2021-10-01T22:30:09.659951Z"
    },
    "papermill": {
     "duration": 0.041685,
     "end_time": "2021-10-01T22:30:09.660362",
     "exception": false,
     "start_time": "2021-10-01T22:30:09.618677",
     "status": "completed"
    },
    "tags": []
   },
   "outputs": [],
   "source": [
    "df_pivot.columns = [\"stamp_1\", \"stamp_2\"]\n",
    "df_pivot_diff = df_pivot.diff(axis=1)"
   ]
  },
  {
   "cell_type": "code",
   "execution_count": 7,
   "id": "fifth-motion",
   "metadata": {
    "execution": {
     "iopub.execute_input": "2021-10-01T22:30:09.716012Z",
     "iopub.status.busy": "2021-10-01T22:30:09.713418Z",
     "iopub.status.idle": "2021-10-01T22:30:11.201246Z",
     "shell.execute_reply": "2021-10-01T22:30:11.202545Z"
    },
    "papermill": {
     "duration": 1.521084,
     "end_time": "2021-10-01T22:30:11.203019",
     "exception": false,
     "start_time": "2021-10-01T22:30:09.681935",
     "status": "completed"
    },
    "tags": []
   },
   "outputs": [
    {
     "data": {
      "text/plain": [
       "<AxesSubplot:ylabel='PRODUCT'>"
      ]
     },
     "execution_count": 7,
     "metadata": {},
     "output_type": "execute_result"
    },
    {
     "data": {
      "image/png": "[encoded data removed]",
      "text/plain": [
       "<Figure size 432x288 with 1 Axes>"
      ]
     },
     "metadata": {
      "needs_background": "light"
     },
     "output_type": "display_data"
    }
   ],
   "source": [
    "df_pivot_diff.sort_values(\"stamp_2\", ascending = False)[\"stamp_2\"].head(10).plot.barh()"
   ]
  },
  {
   "cell_type": "code",
   "execution_count": null,
   "id": "extra-executive",
   "metadata": {
    "papermill": {
     "duration": 0.022476,
     "end_time": "2021-10-01T22:30:11.249660",
     "exception": false,
     "start_time": "2021-10-01T22:30:11.227184",
     "status": "completed"
    },
    "tags": []
   },
   "outputs": [],
   "source": []
  }
 ],
 "metadata": {
  "kernelspec": {
   "display_name": "Python 3",
   "language": "python",
   "name": "python3"
  },
  "language_info": {
   "codemirror_mode": {
    "name": "ipython",
    "version": 3
   },
   "file_extension": ".py",
   "mimetype": "text/x-python",
   "name": "python",
   "nbconvert_exporter": "python",
   "pygments_lexer": "ipython3",
   "version": "3.9.5"
  },
  "papermill": {
   "default_parameters": {},
   "duration": 7.84077,
   "end_time": "2021-10-01T22:30:12.817588",
   "environment_variables": {},
   "exception": null,
   "input_path": "eBay_Overview.ipynb",
   "output_path": "eBay_Overview.ipynb",
   "parameters": {},
   "start_time": "2021-10-01T22:30:04.976818",
   "version": "2.3.3"
  }
 },
 "nbformat": 4,
 "nbformat_minor": 5
}