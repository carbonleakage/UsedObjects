{
 "cells": [
  {
   "cell_type": "code",
   "execution_count": 1,
   "id": "reverse-picking",
   "metadata": {
    "execution": {
     "iopub.execute_input": "2021-09-21T11:00:07.005221Z",
     "iopub.status.busy": "2021-09-21T11:00:07.003284Z",
     "iopub.status.idle": "2021-09-21T11:00:07.806624Z",
     "shell.execute_reply": "2021-09-21T11:00:07.808075Z"
    },
    "papermill": {
     "duration": 0.855412,
     "end_time": "2021-09-21T11:00:07.808730",
     "exception": false,
     "start_time": "2021-09-21T11:00:06.953318",
     "status": "completed"
    },
    "tags": []
   },
   "outputs": [],
   "source": [
    "import pandas as pd\n",
    "import sqlite3"
   ]
  },
  {
   "cell_type": "code",
   "execution_count": 2,
   "id": "innovative-syndrome",
   "metadata": {
    "execution": {
     "iopub.execute_input": "2021-09-21T11:00:07.859456Z",
     "iopub.status.busy": "2021-09-21T11:00:07.857400Z",
     "iopub.status.idle": "2021-09-21T11:00:08.202320Z",
     "shell.execute_reply": "2021-09-21T11:00:08.203507Z"
    },
    "papermill": {
     "duration": 0.374653,
     "end_time": "2021-09-21T11:00:08.203926",
     "exception": false,
     "start_time": "2021-09-21T11:00:07.829273",
     "status": "completed"
    },
    "tags": []
   },
   "outputs": [],
   "source": [
    "timestamps = pd.read_sql(\"select distinct record_time from EBAY_TOP_BERLIN order by record_time desc limit 2\", sqlite3.connect(\"UsedObjects.db\"))"
   ]
  },
  {
   "cell_type": "code",
   "execution_count": 3,
   "id": "periodic-identification",
   "metadata": {
    "execution": {
     "iopub.execute_input": "2021-09-21T11:00:08.274351Z",
     "iopub.status.busy": "2021-09-21T11:00:08.269173Z",
     "iopub.status.idle": "2021-09-21T11:00:08.291160Z",
     "shell.execute_reply": "2021-09-21T11:00:08.289451Z"
    },
    "papermill": {
     "duration": 0.065634,
     "end_time": "2021-09-21T11:00:08.291596",
     "exception": false,
     "start_time": "2021-09-21T11:00:08.225962",
     "status": "completed"
    },
    "tags": []
   },
   "outputs": [
    {
     "data": {
      "text/html": [
       "<div>\n",
       "<style scoped>\n",
       "    .dataframe tbody tr th:only-of-type {\n",
       "        vertical-align: middle;\n",
       "    }\n",
       "\n",
       "    .dataframe tbody tr th {\n",
       "        vertical-align: top;\n",
       "    }\n",
       "\n",
       "    .dataframe thead th {\n",
       "        text-align: right;\n",
       "    }\n",
       "</style>\n",
       "<table border=\"1\" class=\"dataframe\">\n",
       "  <thead>\n",
       "    <tr style=\"text-align: right;\">\n",
       "      <th></th>\n",
       "      <th>RECORD_TIME</th>\n",
       "    </tr>\n",
       "  </thead>\n",
       "  <tbody>\n",
       "    <tr>\n",
       "      <th>0</th>\n",
       "      <td>2021-09-21 13:00</td>\n",
       "    </tr>\n",
       "    <tr>\n",
       "      <th>1</th>\n",
       "      <td>2021-09-21 12:30</td>\n",
       "    </tr>\n",
       "  </tbody>\n",
       "</table>\n",
       "</div>"
      ],
      "text/plain": [
       "        RECORD_TIME\n",
       "0  2021-09-21 13:00\n",
       "1  2021-09-21 12:30"
      ]
     },
     "execution_count": 3,
     "metadata": {},
     "output_type": "execute_result"
    }
   ],
   "source": [
    "timestamps"
   ]
  },
  {
   "cell_type": "code",
   "execution_count": 4,
   "id": "alternate-victory",
   "metadata": {
    "execution": {
     "iopub.execute_input": "2021-09-21T11:00:08.344185Z",
     "iopub.status.busy": "2021-09-21T11:00:08.342243Z",
     "iopub.status.idle": "2021-09-21T11:00:08.848185Z",
     "shell.execute_reply": "2021-09-21T11:00:08.849560Z"
    },
    "papermill": {
     "duration": 0.536179,
     "end_time": "2021-09-21T11:00:08.849993",
     "exception": false,
     "start_time": "2021-09-21T11:00:08.313814",
     "status": "completed"
    },
    "tags": []
   },
   "outputs": [],
   "source": [
    "df = pd.read_sql(\"select * from EBAY_TOP_BERLIN where record_time in (select distinct record_time from EBAY_TOP_BERLIN order by record_time desc limit 2)\", sqlite3.connect(\"UsedObjects.db\"))"
   ]
  },
  {
   "cell_type": "code",
   "execution_count": 5,
   "id": "popular-active",
   "metadata": {
    "execution": {
     "iopub.execute_input": "2021-09-21T11:00:08.916125Z",
     "iopub.status.busy": "2021-09-21T11:00:08.909920Z",
     "iopub.status.idle": "2021-09-21T11:00:08.937043Z",
     "shell.execute_reply": "2021-09-21T11:00:08.938251Z"
    },
    "papermill": {
     "duration": 0.067549,
     "end_time": "2021-09-21T11:00:08.938645",
     "exception": false,
     "start_time": "2021-09-21T11:00:08.871096",
     "status": "completed"
    },
    "tags": []
   },
   "outputs": [],
   "source": [
    "df_pivot = df.pivot_table(index=\"PRODUCT\", columns = \"RECORD_TIME\", values = \"LISTING_COUNT\")"
   ]
  },
  {
   "cell_type": "code",
   "execution_count": 6,
   "id": "union-huntington",
   "metadata": {
    "execution": {
     "iopub.execute_input": "2021-09-21T11:00:08.998560Z",
     "iopub.status.busy": "2021-09-21T11:00:08.996132Z",
     "iopub.status.idle": "2021-09-21T11:00:09.002028Z",
     "shell.execute_reply": "2021-09-21T11:00:09.003367Z"
    },
    "papermill": {
     "duration": 0.042663,
     "end_time": "2021-09-21T11:00:09.003825",
     "exception": false,
     "start_time": "2021-09-21T11:00:08.961162",
     "status": "completed"
    },
    "tags": []
   },
   "outputs": [],
   "source": [
    "df_pivot.columns = [\"stamp_1\", \"stamp_2\"]\n",
    "df_pivot_diff = df_pivot.diff(axis=1)"
   ]
  },
  {
   "cell_type": "code",
   "execution_count": 7,
   "id": "fifth-motion",
   "metadata": {
    "execution": {
     "iopub.execute_input": "2021-09-21T11:00:09.058962Z",
     "iopub.status.busy": "2021-09-21T11:00:09.056606Z",
     "iopub.status.idle": "2021-09-21T11:00:10.531133Z",
     "shell.execute_reply": "2021-09-21T11:00:10.532438Z"
    },
    "papermill": {
     "duration": 1.507342,
     "end_time": "2021-09-21T11:00:10.532853",
     "exception": false,
     "start_time": "2021-09-21T11:00:09.025511",
     "status": "completed"
    },
    "tags": []
   },
   "outputs": [
    {
     "data": {
      "text/plain": [
       "<AxesSubplot:ylabel='PRODUCT'>"
      ]
     },
     "execution_count": 7,
     "metadata": {},
     "output_type": "execute_result"
    },
    {
     "data": {
      "image/png": "[encoded data removed]",
      "text/plain": [
       "<Figure size 432x288 with 1 Axes>"
      ]
     },
     "metadata": {
      "needs_background": "light"
     },
     "output_type": "display_data"
    }
   ],
   "source": [
    "df_pivot_diff.sort_values(\"stamp_2\", ascending = False)[\"stamp_2\"].head(10).plot.barh()"
   ]
  },
  {
   "cell_type": "code",
   "execution_count": null,
   "id": "extra-executive",
   "metadata": {
    "papermill": {
     "duration": 0.022725,
     "end_time": "2021-09-21T11:00:10.580045",
     "exception": false,
     "start_time": "2021-09-21T11:00:10.557320",
     "status": "completed"
    },
    "tags": []
   },
   "outputs": [],
   "source": []
  }
 ],
 "metadata": {
  "kernelspec": {
   "display_name": "Python 3",
   "language": "python",
   "name": "python3"
  },
  "language_info": {
   "codemirror_mode": {
    "name": "ipython",
    "version": 3
   },
   "file_extension": ".py",
   "mimetype": "text/x-python",
   "name": "python",
   "nbconvert_exporter": "python",
   "pygments_lexer": "ipython3",
   "version": "3.9.5"
  },
  "papermill": {
   "default_parameters": {},
   "duration": 6.671177,
   "end_time": "2021-09-21T11:00:11.223620",
   "environment_variables": {},
   "exception": null,
   "input_path": "eBay_Overview.ipynb",
   "output_path": "eBay_Overview.ipynb",
   "parameters": {},
   "start_time": "2021-09-21T11:00:04.552443",
   "version": "2.3.3"
  }
 },
 "nbformat": 4,
 "nbformat_minor": 5
}