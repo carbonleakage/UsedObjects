{
 "cells": [
  {
   "cell_type": "code",
   "execution_count": 1,
   "id": "reverse-picking",
   "metadata": {
    "execution": {
     "iopub.execute_input": "2021-08-14T01:00:06.695773Z",
     "iopub.status.busy": "2021-08-14T01:00:06.693756Z",
     "iopub.status.idle": "2021-08-14T01:00:07.507454Z",
     "shell.execute_reply": "2021-08-14T01:00:07.505706Z"
    },
    "papermill": {
     "duration": 0.863049,
     "end_time": "2021-08-14T01:00:07.507879",
     "exception": false,
     "start_time": "2021-08-14T01:00:06.644830",
     "status": "completed"
    },
    "tags": []
   },
   "outputs": [],
   "source": [
    "import pandas as pd\n",
    "import sqlite3"
   ]
  },
  {
   "cell_type": "code",
   "execution_count": 2,
   "id": "innovative-syndrome",
   "metadata": {
    "execution": {
     "iopub.execute_input": "2021-08-14T01:00:07.558981Z",
     "iopub.status.busy": "2021-08-14T01:00:07.556882Z",
     "iopub.status.idle": "2021-08-14T01:00:07.601011Z",
     "shell.execute_reply": "2021-08-14T01:00:07.602273Z"
    },
    "papermill": {
     "duration": 0.074353,
     "end_time": "2021-08-14T01:00:07.602671",
     "exception": false,
     "start_time": "2021-08-14T01:00:07.528318",
     "status": "completed"
    },
    "tags": []
   },
   "outputs": [],
   "source": [
    "timestamps = pd.read_sql(\"select distinct record_time from EBAY_TOP_BERLIN order by record_time desc limit 2\", sqlite3.connect(\"UsedObjects.db\"))"
   ]
  },
  {
   "cell_type": "code",
   "execution_count": 3,
   "id": "periodic-identification",
   "metadata": {
    "execution": {
     "iopub.execute_input": "2021-08-14T01:00:07.665632Z",
     "iopub.status.busy": "2021-08-14T01:00:07.663603Z",
     "iopub.status.idle": "2021-08-14T01:00:07.683935Z",
     "shell.execute_reply": "2021-08-14T01:00:07.685215Z"
    },
    "papermill": {
     "duration": 0.063838,
     "end_time": "2021-08-14T01:00:07.685624",
     "exception": false,
     "start_time": "2021-08-14T01:00:07.621786",
     "status": "completed"
    },
    "tags": []
   },
   "outputs": [
    {
     "data": {
      "text/html": [
       "<div>\n",
       "<style scoped>\n",
       "    .dataframe tbody tr th:only-of-type {\n",
       "        vertical-align: middle;\n",
       "    }\n",
       "\n",
       "    .dataframe tbody tr th {\n",
       "        vertical-align: top;\n",
       "    }\n",
       "\n",
       "    .dataframe thead th {\n",
       "        text-align: right;\n",
       "    }\n",
       "</style>\n",
       "<table border=\"1\" class=\"dataframe\">\n",
       "  <thead>\n",
       "    <tr style=\"text-align: right;\">\n",
       "      <th></th>\n",
       "      <th>RECORD_TIME</th>\n",
       "    </tr>\n",
       "  </thead>\n",
       "  <tbody>\n",
       "    <tr>\n",
       "      <th>0</th>\n",
       "      <td>2021-08-14 03:00</td>\n",
       "    </tr>\n",
       "    <tr>\n",
       "      <th>1</th>\n",
       "      <td>2021-08-14 02:30</td>\n",
       "    </tr>\n",
       "  </tbody>\n",
       "</table>\n",
       "</div>"
      ],
      "text/plain": [
       "        RECORD_TIME\n",
       "0  2021-08-14 03:00\n",
       "1  2021-08-14 02:30"
      ]
     },
     "execution_count": 3,
     "metadata": {},
     "output_type": "execute_result"
    }
   ],
   "source": [
    "timestamps"
   ]
  },
  {
   "cell_type": "code",
   "execution_count": 4,
   "id": "alternate-victory",
   "metadata": {
    "execution": {
     "iopub.execute_input": "2021-08-14T01:00:07.738295Z",
     "iopub.status.busy": "2021-08-14T01:00:07.735905Z",
     "iopub.status.idle": "2021-08-14T01:00:07.802063Z",
     "shell.execute_reply": "2021-08-14T01:00:07.803288Z"
    },
    "papermill": {
     "duration": 0.096537,
     "end_time": "2021-08-14T01:00:07.803684",
     "exception": false,
     "start_time": "2021-08-14T01:00:07.707147",
     "status": "completed"
    },
    "tags": []
   },
   "outputs": [],
   "source": [
    "df = pd.read_sql(\"select * from EBAY_TOP_BERLIN where record_time in (select distinct record_time from EBAY_TOP_BERLIN order by record_time desc limit 2)\", sqlite3.connect(\"UsedObjects.db\"))"
   ]
  },
  {
   "cell_type": "code",
   "execution_count": 5,
   "id": "popular-active",
   "metadata": {
    "execution": {
     "iopub.execute_input": "2021-08-14T01:00:07.874853Z",
     "iopub.status.busy": "2021-08-14T01:00:07.867410Z",
     "iopub.status.idle": "2021-08-14T01:00:07.890005Z",
     "shell.execute_reply": "2021-08-14T01:00:07.891309Z"
    },
    "papermill": {
     "duration": 0.067813,
     "end_time": "2021-08-14T01:00:07.891722",
     "exception": false,
     "start_time": "2021-08-14T01:00:07.823909",
     "status": "completed"
    },
    "tags": []
   },
   "outputs": [],
   "source": [
    "df_pivot = df.pivot_table(index=\"PRODUCT\", columns = \"RECORD_TIME\", values = \"LISTING_COUNT\")"
   ]
  },
  {
   "cell_type": "code",
   "execution_count": 6,
   "id": "union-huntington",
   "metadata": {
    "execution": {
     "iopub.execute_input": "2021-08-14T01:00:07.947296Z",
     "iopub.status.busy": "2021-08-14T01:00:07.945180Z",
     "iopub.status.idle": "2021-08-14T01:00:07.950536Z",
     "shell.execute_reply": "2021-08-14T01:00:07.951817Z"
    },
    "papermill": {
     "duration": 0.04044,
     "end_time": "2021-08-14T01:00:07.952235",
     "exception": false,
     "start_time": "2021-08-14T01:00:07.911795",
     "status": "completed"
    },
    "tags": []
   },
   "outputs": [],
   "source": [
    "df_pivot.columns = [\"stamp_1\", \"stamp_2\"]\n",
    "df_pivot_diff = df_pivot.diff(axis=1)"
   ]
  },
  {
   "cell_type": "code",
   "execution_count": 7,
   "id": "fifth-motion",
   "metadata": {
    "execution": {
     "iopub.execute_input": "2021-08-14T01:00:08.007766Z",
     "iopub.status.busy": "2021-08-14T01:00:08.005175Z",
     "iopub.status.idle": "2021-08-14T01:00:09.533446Z",
     "shell.execute_reply": "2021-08-14T01:00:09.535089Z"
    },
    "papermill": {
     "duration": 1.562016,
     "end_time": "2021-08-14T01:00:09.535555",
     "exception": false,
     "start_time": "2021-08-14T01:00:07.973539",
     "status": "completed"
    },
    "tags": []
   },
   "outputs": [
    {
     "data": {
      "text/plain": [
       "<AxesSubplot:ylabel='PRODUCT'>"
      ]
     },
     "execution_count": 7,
     "metadata": {},
     "output_type": "execute_result"
    },
    {
     "data": {
      "image/png": "[encoded data removed]",
      "text/plain": [
       "<Figure size 432x288 with 1 Axes>"
      ]
     },
     "metadata": {
      "needs_background": "light"
     },
     "output_type": "display_data"
    }
   ],
   "source": [
    "df_pivot_diff.sort_values(\"stamp_2\", ascending = False)[\"stamp_2\"].head(10).plot.barh()"
   ]
  },
  {
   "cell_type": "code",
   "execution_count": null,
   "id": "extra-executive",
   "metadata": {
    "papermill": {
     "duration": 0.022594,
     "end_time": "2021-08-14T01:00:09.582651",
     "exception": false,
     "start_time": "2021-08-14T01:00:09.560057",
     "status": "completed"
    },
    "tags": []
   },
   "outputs": [],
   "source": []
  }
 ],
 "metadata": {
  "kernelspec": {
   "display_name": "Python 3",
   "language": "python",
   "name": "python3"
  },
  "language_info": {
   "codemirror_mode": {
    "name": "ipython",
    "version": 3
   },
   "file_extension": ".py",
   "mimetype": "text/x-python",
   "name": "python",
   "nbconvert_exporter": "python",
   "pygments_lexer": "ipython3",
   "version": "3.9.5"
  },
  "papermill": {
   "default_parameters": {},
   "duration": 6.830439,
   "end_time": "2021-08-14T01:00:11.052762",
   "environment_variables": {},
   "exception": null,
   "input_path": "eBay_Overview.ipynb",
   "output_path": "eBay_Overview.ipynb",
   "parameters": {},
   "start_time": "2021-08-14T01:00:04.222323",
   "version": "2.3.3"
  }
 },
 "nbformat": 4,
 "nbformat_minor": 5
}