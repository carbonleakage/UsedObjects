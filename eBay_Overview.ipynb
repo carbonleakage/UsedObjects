{
 "cells": [
  {
   "cell_type": "code",
   "execution_count": 1,
   "id": "reverse-picking",
   "metadata": {
    "execution": {
     "iopub.execute_input": "2021-10-24T04:30:07.349655Z",
     "iopub.status.busy": "2021-10-24T04:30:07.347554Z",
     "iopub.status.idle": "2021-10-24T04:30:08.156597Z",
     "shell.execute_reply": "2021-10-24T04:30:08.154987Z"
    },
    "papermill": {
     "duration": 0.857964,
     "end_time": "2021-10-24T04:30:08.157071",
     "exception": false,
     "start_time": "2021-10-24T04:30:07.299107",
     "status": "completed"
    },
    "tags": []
   },
   "outputs": [],
   "source": [
    "import pandas as pd\n",
    "import sqlite3"
   ]
  },
  {
   "cell_type": "code",
   "execution_count": 2,
   "id": "innovative-syndrome",
   "metadata": {
    "execution": {
     "iopub.execute_input": "2021-10-24T04:30:08.207501Z",
     "iopub.status.busy": "2021-10-24T04:30:08.205626Z",
     "iopub.status.idle": "2021-10-24T04:30:08.831820Z",
     "shell.execute_reply": "2021-10-24T04:30:08.833842Z"
    },
    "papermill": {
     "duration": 0.656352,
     "end_time": "2021-10-24T04:30:08.834284",
     "exception": false,
     "start_time": "2021-10-24T04:30:08.177932",
     "status": "completed"
    },
    "tags": []
   },
   "outputs": [],
   "source": [
    "timestamps = pd.read_sql(\"select distinct record_time from EBAY_TOP_BERLIN order by record_time desc limit 2\", sqlite3.connect(\"UsedObjects.db\"))"
   ]
  },
  {
   "cell_type": "code",
   "execution_count": 3,
   "id": "periodic-identification",
   "metadata": {
    "execution": {
     "iopub.execute_input": "2021-10-24T04:30:08.908366Z",
     "iopub.status.busy": "2021-10-24T04:30:08.906260Z",
     "iopub.status.idle": "2021-10-24T04:30:08.926979Z",
     "shell.execute_reply": "2021-10-24T04:30:08.928269Z"
    },
    "papermill": {
     "duration": 0.068903,
     "end_time": "2021-10-24T04:30:08.928738",
     "exception": false,
     "start_time": "2021-10-24T04:30:08.859835",
     "status": "completed"
    },
    "tags": []
   },
   "outputs": [
    {
     "data": {
      "text/html": [
       "<div>\n",
       "<style scoped>\n",
       "    .dataframe tbody tr th:only-of-type {\n",
       "        vertical-align: middle;\n",
       "    }\n",
       "\n",
       "    .dataframe tbody tr th {\n",
       "        vertical-align: top;\n",
       "    }\n",
       "\n",
       "    .dataframe thead th {\n",
       "        text-align: right;\n",
       "    }\n",
       "</style>\n",
       "<table border=\"1\" class=\"dataframe\">\n",
       "  <thead>\n",
       "    <tr style=\"text-align: right;\">\n",
       "      <th></th>\n",
       "      <th>RECORD_TIME</th>\n",
       "    </tr>\n",
       "  </thead>\n",
       "  <tbody>\n",
       "    <tr>\n",
       "      <th>0</th>\n",
       "      <td>2021-10-24 06:30</td>\n",
       "    </tr>\n",
       "    <tr>\n",
       "      <th>1</th>\n",
       "      <td>2021-10-24 06:00</td>\n",
       "    </tr>\n",
       "  </tbody>\n",
       "</table>\n",
       "</div>"
      ],
      "text/plain": [
       "        RECORD_TIME\n",
       "0  2021-10-24 06:30\n",
       "1  2021-10-24 06:00"
      ]
     },
     "execution_count": 3,
     "metadata": {},
     "output_type": "execute_result"
    }
   ],
   "source": [
    "timestamps"
   ]
  },
  {
   "cell_type": "code",
   "execution_count": 4,
   "id": "alternate-victory",
   "metadata": {
    "execution": {
     "iopub.execute_input": "2021-10-24T04:30:08.979966Z",
     "iopub.status.busy": "2021-10-24T04:30:08.977943Z",
     "iopub.status.idle": "2021-10-24T04:30:09.898946Z",
     "shell.execute_reply": "2021-10-24T04:30:09.900219Z"
    },
    "papermill": {
     "duration": 0.951672,
     "end_time": "2021-10-24T04:30:09.900640",
     "exception": false,
     "start_time": "2021-10-24T04:30:08.948968",
     "status": "completed"
    },
    "tags": []
   },
   "outputs": [],
   "source": [
    "df = pd.read_sql(\"select * from EBAY_TOP_BERLIN where record_time in (select distinct record_time from EBAY_TOP_BERLIN order by record_time desc limit 2)\", sqlite3.connect(\"UsedObjects.db\"))"
   ]
  },
  {
   "cell_type": "code",
   "execution_count": 5,
   "id": "popular-active",
   "metadata": {
    "execution": {
     "iopub.execute_input": "2021-10-24T04:30:09.966465Z",
     "iopub.status.busy": "2021-10-24T04:30:09.959248Z",
     "iopub.status.idle": "2021-10-24T04:30:09.986523Z",
     "shell.execute_reply": "2021-10-24T04:30:09.987735Z"
    },
    "papermill": {
     "duration": 0.066734,
     "end_time": "2021-10-24T04:30:09.988134",
     "exception": false,
     "start_time": "2021-10-24T04:30:09.921400",
     "status": "completed"
    },
    "tags": []
   },
   "outputs": [],
   "source": [
    "df_pivot = df.pivot_table(index=\"PRODUCT\", columns = \"RECORD_TIME\", values = \"LISTING_COUNT\")"
   ]
  },
  {
   "cell_type": "code",
   "execution_count": 6,
   "id": "union-huntington",
   "metadata": {
    "execution": {
     "iopub.execute_input": "2021-10-24T04:30:10.047430Z",
     "iopub.status.busy": "2021-10-24T04:30:10.044996Z",
     "iopub.status.idle": "2021-10-24T04:30:10.050675Z",
     "shell.execute_reply": "2021-10-24T04:30:10.051947Z"
    },
    "papermill": {
     "duration": 0.042005,
     "end_time": "2021-10-24T04:30:10.052363",
     "exception": false,
     "start_time": "2021-10-24T04:30:10.010358",
     "status": "completed"
    },
    "tags": []
   },
   "outputs": [],
   "source": [
    "df_pivot.columns = [\"stamp_1\", \"stamp_2\"]\n",
    "df_pivot_diff = df_pivot.diff(axis=1)"
   ]
  },
  {
   "cell_type": "code",
   "execution_count": 7,
   "id": "fifth-motion",
   "metadata": {
    "execution": {
     "iopub.execute_input": "2021-10-24T04:30:10.106328Z",
     "iopub.status.busy": "2021-10-24T04:30:10.103885Z",
     "iopub.status.idle": "2021-10-24T04:30:11.593098Z",
     "shell.execute_reply": "2021-10-24T04:30:11.594706Z"
    },
    "papermill": {
     "duration": 1.522865,
     "end_time": "2021-10-24T04:30:11.595191",
     "exception": false,
     "start_time": "2021-10-24T04:30:10.072326",
     "status": "completed"
    },
    "tags": []
   },
   "outputs": [
    {
     "data": {
      "text/plain": [
       "<AxesSubplot:ylabel='PRODUCT'>"
      ]
     },
     "execution_count": 7,
     "metadata": {},
     "output_type": "execute_result"
    },
    {
     "data": {
      "image/png": "[encoded data removed]",
      "text/plain": [
       "<Figure size 432x288 with 1 Axes>"
      ]
     },
     "metadata": {
      "needs_background": "light"
     },
     "output_type": "display_data"
    }
   ],
   "source": [
    "df_pivot_diff.sort_values(\"stamp_2\", ascending = False)[\"stamp_2\"].head(10).plot.barh()"
   ]
  },
  {
   "cell_type": "code",
   "execution_count": null,
   "id": "extra-executive",
   "metadata": {
    "papermill": {
     "duration": 0.021988,
     "end_time": "2021-10-24T04:30:11.641028",
     "exception": false,
     "start_time": "2021-10-24T04:30:11.619040",
     "status": "completed"
    },
    "tags": []
   },
   "outputs": [],
   "source": []
  }
 ],
 "metadata": {
  "kernelspec": {
   "display_name": "Python 3",
   "language": "python",
   "name": "python3"
  },
  "language_info": {
   "codemirror_mode": {
    "name": "ipython",
    "version": 3
   },
   "file_extension": ".py",
   "mimetype": "text/x-python",
   "name": "python",
   "nbconvert_exporter": "python",
   "pygments_lexer": "ipython3",
   "version": "3.9.5"
  },
  "papermill": {
   "default_parameters": {},
   "duration": 7.387366,
   "end_time": "2021-10-24T04:30:12.283296",
   "environment_variables": {},
   "exception": null,
   "input_path": "eBay_Overview.ipynb",
   "output_path": "eBay_Overview.ipynb",
   "parameters": {},
   "start_time": "2021-10-24T04:30:04.895930",
   "version": "2.3.3"
  }
 },
 "nbformat": 4,
 "nbformat_minor": 5
}