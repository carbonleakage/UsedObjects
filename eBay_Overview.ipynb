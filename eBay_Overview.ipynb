{
 "cells": [
  {
   "cell_type": "code",
   "execution_count": 1,
   "id": "reverse-picking",
   "metadata": {
    "execution": {
     "iopub.execute_input": "2021-11-24T05:30:07.453787Z",
     "iopub.status.busy": "2021-11-24T05:30:07.451370Z",
     "iopub.status.idle": "2021-11-24T05:30:08.396118Z",
     "shell.execute_reply": "2021-11-24T05:30:08.397809Z"
    },
    "papermill": {
     "duration": 0.995099,
     "end_time": "2021-11-24T05:30:08.398558",
     "exception": false,
     "start_time": "2021-11-24T05:30:07.403459",
     "status": "completed"
    },
    "tags": []
   },
   "outputs": [],
   "source": [
    "import pandas as pd\n",
    "import sqlite3"
   ]
  },
  {
   "cell_type": "code",
   "execution_count": 2,
   "id": "innovative-syndrome",
   "metadata": {
    "execution": {
     "iopub.execute_input": "2021-11-24T05:30:08.460344Z",
     "iopub.status.busy": "2021-11-24T05:30:08.457828Z",
     "iopub.status.idle": "2021-11-24T05:30:09.369303Z",
     "shell.execute_reply": "2021-11-24T05:30:09.370720Z"
    },
    "papermill": {
     "duration": 0.945583,
     "end_time": "2021-11-24T05:30:09.371215",
     "exception": false,
     "start_time": "2021-11-24T05:30:08.425632",
     "status": "completed"
    },
    "tags": []
   },
   "outputs": [],
   "source": [
    "timestamps = pd.read_sql(\"select distinct record_time from EBAY_TOP_BERLIN order by record_time desc limit 2\", sqlite3.connect(\"UsedObjects.db\"))"
   ]
  },
  {
   "cell_type": "code",
   "execution_count": 3,
   "id": "periodic-identification",
   "metadata": {
    "execution": {
     "iopub.execute_input": "2021-11-24T05:30:09.443276Z",
     "iopub.status.busy": "2021-11-24T05:30:09.440893Z",
     "iopub.status.idle": "2021-11-24T05:30:09.463335Z",
     "shell.execute_reply": "2021-11-24T05:30:09.464985Z"
    },
    "papermill": {
     "duration": 0.073598,
     "end_time": "2021-11-24T05:30:09.465521",
     "exception": false,
     "start_time": "2021-11-24T05:30:09.391923",
     "status": "completed"
    },
    "tags": []
   },
   "outputs": [
    {
     "data": {
      "text/html": [
       "<div>\n",
       "<style scoped>\n",
       "    .dataframe tbody tr th:only-of-type {\n",
       "        vertical-align: middle;\n",
       "    }\n",
       "\n",
       "    .dataframe tbody tr th {\n",
       "        vertical-align: top;\n",
       "    }\n",
       "\n",
       "    .dataframe thead th {\n",
       "        text-align: right;\n",
       "    }\n",
       "</style>\n",
       "<table border=\"1\" class=\"dataframe\">\n",
       "  <thead>\n",
       "    <tr style=\"text-align: right;\">\n",
       "      <th></th>\n",
       "      <th>RECORD_TIME</th>\n",
       "    </tr>\n",
       "  </thead>\n",
       "  <tbody>\n",
       "    <tr>\n",
       "      <th>0</th>\n",
       "      <td>2021-11-24 06:30</td>\n",
       "    </tr>\n",
       "    <tr>\n",
       "      <th>1</th>\n",
       "      <td>2021-11-24 06:00</td>\n",
       "    </tr>\n",
       "  </tbody>\n",
       "</table>\n",
       "</div>"
      ],
      "text/plain": [
       "        RECORD_TIME\n",
       "0  2021-11-24 06:30\n",
       "1  2021-11-24 06:00"
      ]
     },
     "execution_count": 3,
     "metadata": {},
     "output_type": "execute_result"
    }
   ],
   "source": [
    "timestamps"
   ]
  },
  {
   "cell_type": "code",
   "execution_count": 4,
   "id": "alternate-victory",
   "metadata": {
    "execution": {
     "iopub.execute_input": "2021-11-24T05:30:09.520287Z",
     "iopub.status.busy": "2021-11-24T05:30:09.518433Z",
     "iopub.status.idle": "2021-11-24T05:30:10.820495Z",
     "shell.execute_reply": "2021-11-24T05:30:10.822438Z"
    },
    "papermill": {
     "duration": 1.336187,
     "end_time": "2021-11-24T05:30:10.822963",
     "exception": false,
     "start_time": "2021-11-24T05:30:09.486776",
     "status": "completed"
    },
    "tags": []
   },
   "outputs": [],
   "source": [
    "df = pd.read_sql(\"select * from EBAY_TOP_BERLIN where record_time in (select distinct record_time from EBAY_TOP_BERLIN order by record_time desc limit 2)\", sqlite3.connect(\"UsedObjects.db\"))"
   ]
  },
  {
   "cell_type": "code",
   "execution_count": 5,
   "id": "popular-active",
   "metadata": {
    "execution": {
     "iopub.execute_input": "2021-11-24T05:30:10.900202Z",
     "iopub.status.busy": "2021-11-24T05:30:10.887475Z",
     "iopub.status.idle": "2021-11-24T05:30:10.919098Z",
     "shell.execute_reply": "2021-11-24T05:30:10.920564Z"
    },
    "papermill": {
     "duration": 0.076715,
     "end_time": "2021-11-24T05:30:10.921142",
     "exception": false,
     "start_time": "2021-11-24T05:30:10.844427",
     "status": "completed"
    },
    "tags": []
   },
   "outputs": [],
   "source": [
    "df_pivot = df.pivot_table(index=\"PRODUCT\", columns = \"RECORD_TIME\", values = \"LISTING_COUNT\")"
   ]
  },
  {
   "cell_type": "code",
   "execution_count": 6,
   "id": "union-huntington",
   "metadata": {
    "execution": {
     "iopub.execute_input": "2021-11-24T05:30:10.980433Z",
     "iopub.status.busy": "2021-11-24T05:30:10.978238Z",
     "iopub.status.idle": "2021-11-24T05:30:10.983017Z",
     "shell.execute_reply": "2021-11-24T05:30:10.984442Z"
    },
    "papermill": {
     "duration": 0.043722,
     "end_time": "2021-11-24T05:30:10.984967",
     "exception": false,
     "start_time": "2021-11-24T05:30:10.941245",
     "status": "completed"
    },
    "tags": []
   },
   "outputs": [],
   "source": [
    "df_pivot.columns = [\"stamp_1\", \"stamp_2\"]\n",
    "df_pivot_diff = df_pivot.diff(axis=1)"
   ]
  },
  {
   "cell_type": "code",
   "execution_count": 7,
   "id": "fifth-motion",
   "metadata": {
    "execution": {
     "iopub.execute_input": "2021-11-24T05:30:11.045092Z",
     "iopub.status.busy": "2021-11-24T05:30:11.042358Z",
     "iopub.status.idle": "2021-11-24T05:30:12.928894Z",
     "shell.execute_reply": "2021-11-24T05:30:12.930127Z"
    },
    "papermill": {
     "duration": 1.924238,
     "end_time": "2021-11-24T05:30:12.930565",
     "exception": false,
     "start_time": "2021-11-24T05:30:11.006327",
     "status": "completed"
    },
    "tags": []
   },
   "outputs": [
    {
     "data": {
      "text/plain": [
       "<AxesSubplot:ylabel='PRODUCT'>"
      ]
     },
     "execution_count": 7,
     "metadata": {},
     "output_type": "execute_result"
    },
    {
     "data": {
      "image/png": "[encoded data removed]",
      "text/plain": [
       "<Figure size 432x288 with 1 Axes>"
      ]
     },
     "metadata": {
      "needs_background": "light"
     },
     "output_type": "display_data"
    }
   ],
   "source": [
    "df_pivot_diff.sort_values(\"stamp_2\", ascending = False)[\"stamp_2\"].head(10).plot.barh()"
   ]
  },
  {
   "cell_type": "code",
   "execution_count": null,
   "id": "extra-executive",
   "metadata": {
    "papermill": {
     "duration": 0.023181,
     "end_time": "2021-11-24T05:30:12.978193",
     "exception": false,
     "start_time": "2021-11-24T05:30:12.955012",
     "status": "completed"
    },
    "tags": []
   },
   "outputs": [],
   "source": []
  }
 ],
 "metadata": {
  "kernelspec": {
   "display_name": "Python 3",
   "language": "python",
   "name": "python3"
  },
  "language_info": {
   "codemirror_mode": {
    "name": "ipython",
    "version": 3
   },
   "file_extension": ".py",
   "mimetype": "text/x-python",
   "name": "python",
   "nbconvert_exporter": "python",
   "pygments_lexer": "ipython3",
   "version": "3.9.5"
  },
  "papermill": {
   "default_parameters": {},
   "duration": 9.930059,
   "end_time": "2021-11-24T05:30:14.606538",
   "environment_variables": {},
   "exception": null,
   "input_path": "eBay_Overview.ipynb",
   "output_path": "eBay_Overview.ipynb",
   "parameters": {},
   "start_time": "2021-11-24T05:30:04.676479",
   "version": "2.3.3"
  }
 },
 "nbformat": 4,
 "nbformat_minor": 5
}