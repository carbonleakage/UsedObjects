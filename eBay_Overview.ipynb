{
 "cells": [
  {
   "cell_type": "code",
   "execution_count": 1,
   "id": "reverse-picking",
   "metadata": {
    "execution": {
     "iopub.execute_input": "2021-11-06T23:30:07.931613Z",
     "iopub.status.busy": "2021-11-06T23:30:07.929176Z",
     "iopub.status.idle": "2021-11-06T23:30:08.869759Z",
     "shell.execute_reply": "2021-11-06T23:30:08.871966Z"
    },
    "papermill": {
     "duration": 0.990903,
     "end_time": "2021-11-06T23:30:08.872820",
     "exception": false,
     "start_time": "2021-11-06T23:30:07.881917",
     "status": "completed"
    },
    "tags": []
   },
   "outputs": [],
   "source": [
    "import pandas as pd\n",
    "import sqlite3"
   ]
  },
  {
   "cell_type": "code",
   "execution_count": 2,
   "id": "innovative-syndrome",
   "metadata": {
    "execution": {
     "iopub.execute_input": "2021-11-06T23:30:08.974559Z",
     "iopub.status.busy": "2021-11-06T23:30:08.972256Z",
     "iopub.status.idle": "2021-11-06T23:30:09.729226Z",
     "shell.execute_reply": "2021-11-06T23:30:09.727399Z"
    },
    "papermill": {
     "duration": 0.835785,
     "end_time": "2021-11-06T23:30:09.729682",
     "exception": false,
     "start_time": "2021-11-06T23:30:08.893897",
     "status": "completed"
    },
    "tags": []
   },
   "outputs": [],
   "source": [
    "timestamps = pd.read_sql(\"select distinct record_time from EBAY_TOP_BERLIN order by record_time desc limit 2\", sqlite3.connect(\"UsedObjects.db\"))"
   ]
  },
  {
   "cell_type": "code",
   "execution_count": 3,
   "id": "periodic-identification",
   "metadata": {
    "execution": {
     "iopub.execute_input": "2021-11-06T23:30:09.808045Z",
     "iopub.status.busy": "2021-11-06T23:30:09.804085Z",
     "iopub.status.idle": "2021-11-06T23:30:09.840634Z",
     "shell.execute_reply": "2021-11-06T23:30:09.842341Z"
    },
    "papermill": {
     "duration": 0.092082,
     "end_time": "2021-11-06T23:30:09.842829",
     "exception": false,
     "start_time": "2021-11-06T23:30:09.750747",
     "status": "completed"
    },
    "tags": []
   },
   "outputs": [
    {
     "data": {
      "text/html": [
       "<div>\n",
       "<style scoped>\n",
       "    .dataframe tbody tr th:only-of-type {\n",
       "        vertical-align: middle;\n",
       "    }\n",
       "\n",
       "    .dataframe tbody tr th {\n",
       "        vertical-align: top;\n",
       "    }\n",
       "\n",
       "    .dataframe thead th {\n",
       "        text-align: right;\n",
       "    }\n",
       "</style>\n",
       "<table border=\"1\" class=\"dataframe\">\n",
       "  <thead>\n",
       "    <tr style=\"text-align: right;\">\n",
       "      <th></th>\n",
       "      <th>RECORD_TIME</th>\n",
       "    </tr>\n",
       "  </thead>\n",
       "  <tbody>\n",
       "    <tr>\n",
       "      <th>0</th>\n",
       "      <td>2021-11-07 00:30</td>\n",
       "    </tr>\n",
       "    <tr>\n",
       "      <th>1</th>\n",
       "      <td>2021-11-07 00:00</td>\n",
       "    </tr>\n",
       "  </tbody>\n",
       "</table>\n",
       "</div>"
      ],
      "text/plain": [
       "        RECORD_TIME\n",
       "0  2021-11-07 00:30\n",
       "1  2021-11-07 00:00"
      ]
     },
     "execution_count": 3,
     "metadata": {},
     "output_type": "execute_result"
    }
   ],
   "source": [
    "timestamps"
   ]
  },
  {
   "cell_type": "code",
   "execution_count": 4,
   "id": "alternate-victory",
   "metadata": {
    "execution": {
     "iopub.execute_input": "2021-11-06T23:30:09.898513Z",
     "iopub.status.busy": "2021-11-06T23:30:09.896207Z",
     "iopub.status.idle": "2021-11-06T23:30:10.985342Z",
     "shell.execute_reply": "2021-11-06T23:30:10.987118Z"
    },
    "papermill": {
     "duration": 1.12302,
     "end_time": "2021-11-06T23:30:10.987632",
     "exception": false,
     "start_time": "2021-11-06T23:30:09.864612",
     "status": "completed"
    },
    "tags": []
   },
   "outputs": [],
   "source": [
    "df = pd.read_sql(\"select * from EBAY_TOP_BERLIN where record_time in (select distinct record_time from EBAY_TOP_BERLIN order by record_time desc limit 2)\", sqlite3.connect(\"UsedObjects.db\"))"
   ]
  },
  {
   "cell_type": "code",
   "execution_count": 5,
   "id": "popular-active",
   "metadata": {
    "execution": {
     "iopub.execute_input": "2021-11-06T23:30:11.051404Z",
     "iopub.status.busy": "2021-11-06T23:30:11.047357Z",
     "iopub.status.idle": "2021-11-06T23:30:11.095919Z",
     "shell.execute_reply": "2021-11-06T23:30:11.097623Z"
    },
    "papermill": {
     "duration": 0.089048,
     "end_time": "2021-11-06T23:30:11.098112",
     "exception": false,
     "start_time": "2021-11-06T23:30:11.009064",
     "status": "completed"
    },
    "tags": []
   },
   "outputs": [],
   "source": [
    "df_pivot = df.pivot_table(index=\"PRODUCT\", columns = \"RECORD_TIME\", values = \"LISTING_COUNT\")"
   ]
  },
  {
   "cell_type": "code",
   "execution_count": 6,
   "id": "union-huntington",
   "metadata": {
    "execution": {
     "iopub.execute_input": "2021-11-06T23:30:11.159756Z",
     "iopub.status.busy": "2021-11-06T23:30:11.157285Z",
     "iopub.status.idle": "2021-11-06T23:30:11.164775Z",
     "shell.execute_reply": "2021-11-06T23:30:11.163093Z"
    },
    "papermill": {
     "duration": 0.045157,
     "end_time": "2021-11-06T23:30:11.165201",
     "exception": false,
     "start_time": "2021-11-06T23:30:11.120044",
     "status": "completed"
    },
    "tags": []
   },
   "outputs": [],
   "source": [
    "df_pivot.columns = [\"stamp_1\", \"stamp_2\"]\n",
    "df_pivot_diff = df_pivot.diff(axis=1)"
   ]
  },
  {
   "cell_type": "code",
   "execution_count": 7,
   "id": "fifth-motion",
   "metadata": {
    "execution": {
     "iopub.execute_input": "2021-11-06T23:30:11.223371Z",
     "iopub.status.busy": "2021-11-06T23:30:11.220874Z",
     "iopub.status.idle": "2021-11-06T23:30:12.974321Z",
     "shell.execute_reply": "2021-11-06T23:30:12.975682Z"
    },
    "papermill": {
     "duration": 1.790104,
     "end_time": "2021-11-06T23:30:12.976162",
     "exception": false,
     "start_time": "2021-11-06T23:30:11.186058",
     "status": "completed"
    },
    "tags": []
   },
   "outputs": [
    {
     "data": {
      "text/plain": [
       "<AxesSubplot:ylabel='PRODUCT'>"
      ]
     },
     "execution_count": 7,
     "metadata": {},
     "output_type": "execute_result"
    },
    {
     "data": {
      "image/png": "[encoded data removed]",
      "text/plain": [
       "<Figure size 432x288 with 1 Axes>"
      ]
     },
     "metadata": {
      "needs_background": "light"
     },
     "output_type": "display_data"
    }
   ],
   "source": [
    "df_pivot_diff.sort_values(\"stamp_2\", ascending = False)[\"stamp_2\"].head(10).plot.barh()"
   ]
  },
  {
   "cell_type": "code",
   "execution_count": null,
   "id": "extra-executive",
   "metadata": {
    "papermill": {
     "duration": 0.023103,
     "end_time": "2021-11-06T23:30:13.022924",
     "exception": false,
     "start_time": "2021-11-06T23:30:12.999821",
     "status": "completed"
    },
    "tags": []
   },
   "outputs": [],
   "source": []
  }
 ],
 "metadata": {
  "kernelspec": {
   "display_name": "Python 3",
   "language": "python",
   "name": "python3"
  },
  "language_info": {
   "codemirror_mode": {
    "name": "ipython",
    "version": 3
   },
   "file_extension": ".py",
   "mimetype": "text/x-python",
   "name": "python",
   "nbconvert_exporter": "python",
   "pygments_lexer": "ipython3",
   "version": "3.9.5"
  },
  "papermill": {
   "default_parameters": {},
   "duration": 8.69095,
   "end_time": "2021-11-06T23:30:13.768516",
   "environment_variables": {},
   "exception": null,
   "input_path": "eBay_Overview.ipynb",
   "output_path": "eBay_Overview.ipynb",
   "parameters": {},
   "start_time": "2021-11-06T23:30:05.077566",
   "version": "2.3.3"
  }
 },
 "nbformat": 4,
 "nbformat_minor": 5
}