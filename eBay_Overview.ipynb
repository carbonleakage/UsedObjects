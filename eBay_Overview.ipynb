{
 "cells": [
  {
   "cell_type": "code",
   "execution_count": 1,
   "id": "reverse-picking",
   "metadata": {
    "execution": {
     "iopub.execute_input": "2021-11-11T04:00:07.421462Z",
     "iopub.status.busy": "2021-11-11T04:00:07.419174Z",
     "iopub.status.idle": "2021-11-11T04:00:08.348630Z",
     "shell.execute_reply": "2021-11-11T04:00:08.350322Z"
    },
    "papermill": {
     "duration": 0.98001,
     "end_time": "2021-11-11T04:00:08.351068",
     "exception": false,
     "start_time": "2021-11-11T04:00:07.371058",
     "status": "completed"
    },
    "tags": []
   },
   "outputs": [],
   "source": [
    "import pandas as pd\n",
    "import sqlite3"
   ]
  },
  {
   "cell_type": "code",
   "execution_count": 2,
   "id": "innovative-syndrome",
   "metadata": {
    "execution": {
     "iopub.execute_input": "2021-11-11T04:00:08.416845Z",
     "iopub.status.busy": "2021-11-11T04:00:08.414539Z",
     "iopub.status.idle": "2021-11-11T04:00:09.199626Z",
     "shell.execute_reply": "2021-11-11T04:00:09.201149Z"
    },
    "papermill": {
     "duration": 0.820539,
     "end_time": "2021-11-11T04:00:09.201648",
     "exception": false,
     "start_time": "2021-11-11T04:00:08.381109",
     "status": "completed"
    },
    "tags": []
   },
   "outputs": [],
   "source": [
    "timestamps = pd.read_sql(\"select distinct record_time from EBAY_TOP_BERLIN order by record_time desc limit 2\", sqlite3.connect(\"UsedObjects.db\"))"
   ]
  },
  {
   "cell_type": "code",
   "execution_count": 3,
   "id": "periodic-identification",
   "metadata": {
    "execution": {
     "iopub.execute_input": "2021-11-11T04:00:09.273883Z",
     "iopub.status.busy": "2021-11-11T04:00:09.271419Z",
     "iopub.status.idle": "2021-11-11T04:00:09.294852Z",
     "shell.execute_reply": "2021-11-11T04:00:09.296447Z"
    },
    "papermill": {
     "duration": 0.074889,
     "end_time": "2021-11-11T04:00:09.297077",
     "exception": false,
     "start_time": "2021-11-11T04:00:09.222188",
     "status": "completed"
    },
    "tags": []
   },
   "outputs": [
    {
     "data": {
      "text/html": [
       "<div>\n",
       "<style scoped>\n",
       "    .dataframe tbody tr th:only-of-type {\n",
       "        vertical-align: middle;\n",
       "    }\n",
       "\n",
       "    .dataframe tbody tr th {\n",
       "        vertical-align: top;\n",
       "    }\n",
       "\n",
       "    .dataframe thead th {\n",
       "        text-align: right;\n",
       "    }\n",
       "</style>\n",
       "<table border=\"1\" class=\"dataframe\">\n",
       "  <thead>\n",
       "    <tr style=\"text-align: right;\">\n",
       "      <th></th>\n",
       "      <th>RECORD_TIME</th>\n",
       "    </tr>\n",
       "  </thead>\n",
       "  <tbody>\n",
       "    <tr>\n",
       "      <th>0</th>\n",
       "      <td>2021-11-11 05:00</td>\n",
       "    </tr>\n",
       "    <tr>\n",
       "      <th>1</th>\n",
       "      <td>2021-11-11 04:30</td>\n",
       "    </tr>\n",
       "  </tbody>\n",
       "</table>\n",
       "</div>"
      ],
      "text/plain": [
       "        RECORD_TIME\n",
       "0  2021-11-11 05:00\n",
       "1  2021-11-11 04:30"
      ]
     },
     "execution_count": 3,
     "metadata": {},
     "output_type": "execute_result"
    }
   ],
   "source": [
    "timestamps"
   ]
  },
  {
   "cell_type": "code",
   "execution_count": 4,
   "id": "alternate-victory",
   "metadata": {
    "execution": {
     "iopub.execute_input": "2021-11-11T04:00:09.354542Z",
     "iopub.status.busy": "2021-11-11T04:00:09.352248Z",
     "iopub.status.idle": "2021-11-11T04:00:10.502770Z",
     "shell.execute_reply": "2021-11-11T04:00:10.504424Z"
    },
    "papermill": {
     "duration": 1.185094,
     "end_time": "2021-11-11T04:00:10.505085",
     "exception": false,
     "start_time": "2021-11-11T04:00:09.319991",
     "status": "completed"
    },
    "tags": []
   },
   "outputs": [],
   "source": [
    "df = pd.read_sql(\"select * from EBAY_TOP_BERLIN where record_time in (select distinct record_time from EBAY_TOP_BERLIN order by record_time desc limit 2)\", sqlite3.connect(\"UsedObjects.db\"))"
   ]
  },
  {
   "cell_type": "code",
   "execution_count": 5,
   "id": "popular-active",
   "metadata": {
    "execution": {
     "iopub.execute_input": "2021-11-11T04:00:10.580529Z",
     "iopub.status.busy": "2021-11-11T04:00:10.567287Z",
     "iopub.status.idle": "2021-11-11T04:00:10.598559Z",
     "shell.execute_reply": "2021-11-11T04:00:10.600046Z"
    },
    "papermill": {
     "duration": 0.073429,
     "end_time": "2021-11-11T04:00:10.600512",
     "exception": false,
     "start_time": "2021-11-11T04:00:10.527083",
     "status": "completed"
    },
    "tags": []
   },
   "outputs": [],
   "source": [
    "df_pivot = df.pivot_table(index=\"PRODUCT\", columns = \"RECORD_TIME\", values = \"LISTING_COUNT\")"
   ]
  },
  {
   "cell_type": "code",
   "execution_count": 6,
   "id": "union-huntington",
   "metadata": {
    "execution": {
     "iopub.execute_input": "2021-11-11T04:00:10.664664Z",
     "iopub.status.busy": "2021-11-11T04:00:10.662093Z",
     "iopub.status.idle": "2021-11-11T04:00:10.667755Z",
     "shell.execute_reply": "2021-11-11T04:00:10.670774Z"
    },
    "papermill": {
     "duration": 0.050988,
     "end_time": "2021-11-11T04:00:10.671813",
     "exception": false,
     "start_time": "2021-11-11T04:00:10.620825",
     "status": "completed"
    },
    "tags": []
   },
   "outputs": [],
   "source": [
    "df_pivot.columns = [\"stamp_1\", \"stamp_2\"]\n",
    "df_pivot_diff = df_pivot.diff(axis=1)"
   ]
  },
  {
   "cell_type": "code",
   "execution_count": 7,
   "id": "fifth-motion",
   "metadata": {
    "execution": {
     "iopub.execute_input": "2021-11-11T04:00:10.753612Z",
     "iopub.status.busy": "2021-11-11T04:00:10.750897Z",
     "iopub.status.idle": "2021-11-11T04:00:12.609449Z",
     "shell.execute_reply": "2021-11-11T04:00:12.612108Z"
    },
    "papermill": {
     "duration": 1.908134,
     "end_time": "2021-11-11T04:00:12.612991",
     "exception": false,
     "start_time": "2021-11-11T04:00:10.704857",
     "status": "completed"
    },
    "tags": []
   },
   "outputs": [
    {
     "data": {
      "text/plain": [
       "<AxesSubplot:ylabel='PRODUCT'>"
      ]
     },
     "execution_count": 7,
     "metadata": {},
     "output_type": "execute_result"
    },
    {
     "data": {
      "image/png": "[encoded data removed]",
      "text/plain": [
       "<Figure size 432x288 with 1 Axes>"
      ]
     },
     "metadata": {
      "needs_background": "light"
     },
     "output_type": "display_data"
    }
   ],
   "source": [
    "df_pivot_diff.sort_values(\"stamp_2\", ascending = False)[\"stamp_2\"].head(10).plot.barh()"
   ]
  },
  {
   "cell_type": "code",
   "execution_count": null,
   "id": "extra-executive",
   "metadata": {
    "papermill": {
     "duration": 0.030806,
     "end_time": "2021-11-11T04:00:12.674526",
     "exception": false,
     "start_time": "2021-11-11T04:00:12.643720",
     "status": "completed"
    },
    "tags": []
   },
   "outputs": [],
   "source": []
  }
 ],
 "metadata": {
  "kernelspec": {
   "display_name": "Python 3",
   "language": "python",
   "name": "python3"
  },
  "language_info": {
   "codemirror_mode": {
    "name": "ipython",
    "version": 3
   },
   "file_extension": ".py",
   "mimetype": "text/x-python",
   "name": "python",
   "nbconvert_exporter": "python",
   "pygments_lexer": "ipython3",
   "version": "3.9.5"
  },
  "papermill": {
   "default_parameters": {},
   "duration": 9.931465,
   "end_time": "2021-11-11T04:00:14.563315",
   "environment_variables": {},
   "exception": null,
   "input_path": "eBay_Overview.ipynb",
   "output_path": "eBay_Overview.ipynb",
   "parameters": {},
   "start_time": "2021-11-11T04:00:04.631850",
   "version": "2.3.3"
  }
 },
 "nbformat": 4,
 "nbformat_minor": 5
}