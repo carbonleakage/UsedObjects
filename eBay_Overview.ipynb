{
 "cells": [
  {
   "cell_type": "code",
   "execution_count": 1,
   "id": "reverse-picking",
   "metadata": {
    "execution": {
     "iopub.execute_input": "2021-12-01T08:30:08.366218Z",
     "iopub.status.busy": "2021-12-01T08:30:08.363790Z",
     "iopub.status.idle": "2021-12-01T08:30:09.319088Z",
     "shell.execute_reply": "2021-12-01T08:30:09.320586Z"
    },
    "papermill": {
     "duration": 1.004058,
     "end_time": "2021-12-01T08:30:09.321433",
     "exception": false,
     "start_time": "2021-12-01T08:30:08.317375",
     "status": "completed"
    },
    "tags": []
   },
   "outputs": [],
   "source": [
    "import pandas as pd\n",
    "import sqlite3"
   ]
  },
  {
   "cell_type": "code",
   "execution_count": 2,
   "id": "innovative-syndrome",
   "metadata": {
    "execution": {
     "iopub.execute_input": "2021-12-01T08:30:09.383068Z",
     "iopub.status.busy": "2021-12-01T08:30:09.380646Z",
     "iopub.status.idle": "2021-12-01T08:30:10.348566Z",
     "shell.execute_reply": "2021-12-01T08:30:10.350220Z"
    },
    "papermill": {
     "duration": 1.002211,
     "end_time": "2021-12-01T08:30:10.350692",
     "exception": false,
     "start_time": "2021-12-01T08:30:09.348481",
     "status": "completed"
    },
    "tags": []
   },
   "outputs": [],
   "source": [
    "timestamps = pd.read_sql(\"select distinct record_time from EBAY_TOP_BERLIN order by record_time desc limit 2\", sqlite3.connect(\"UsedObjects.db\"))"
   ]
  },
  {
   "cell_type": "code",
   "execution_count": 3,
   "id": "periodic-identification",
   "metadata": {
    "execution": {
     "iopub.execute_input": "2021-12-01T08:30:10.453875Z",
     "iopub.status.busy": "2021-12-01T08:30:10.451485Z",
     "iopub.status.idle": "2021-12-01T08:30:10.474225Z",
     "shell.execute_reply": "2021-12-01T08:30:10.475641Z"
    },
    "papermill": {
     "duration": 0.080757,
     "end_time": "2021-12-01T08:30:10.476139",
     "exception": false,
     "start_time": "2021-12-01T08:30:10.395382",
     "status": "completed"
    },
    "tags": []
   },
   "outputs": [
    {
     "data": {
      "text/html": [
       "<div>\n",
       "<style scoped>\n",
       "    .dataframe tbody tr th:only-of-type {\n",
       "        vertical-align: middle;\n",
       "    }\n",
       "\n",
       "    .dataframe tbody tr th {\n",
       "        vertical-align: top;\n",
       "    }\n",
       "\n",
       "    .dataframe thead th {\n",
       "        text-align: right;\n",
       "    }\n",
       "</style>\n",
       "<table border=\"1\" class=\"dataframe\">\n",
       "  <thead>\n",
       "    <tr style=\"text-align: right;\">\n",
       "      <th></th>\n",
       "      <th>RECORD_TIME</th>\n",
       "    </tr>\n",
       "  </thead>\n",
       "  <tbody>\n",
       "    <tr>\n",
       "      <th>0</th>\n",
       "      <td>2021-12-01 09:30</td>\n",
       "    </tr>\n",
       "    <tr>\n",
       "      <th>1</th>\n",
       "      <td>2021-12-01 09:00</td>\n",
       "    </tr>\n",
       "  </tbody>\n",
       "</table>\n",
       "</div>"
      ],
      "text/plain": [
       "        RECORD_TIME\n",
       "0  2021-12-01 09:30\n",
       "1  2021-12-01 09:00"
      ]
     },
     "execution_count": 3,
     "metadata": {},
     "output_type": "execute_result"
    }
   ],
   "source": [
    "timestamps"
   ]
  },
  {
   "cell_type": "code",
   "execution_count": 4,
   "id": "alternate-victory",
   "metadata": {
    "execution": {
     "iopub.execute_input": "2021-12-01T08:30:10.533323Z",
     "iopub.status.busy": "2021-12-01T08:30:10.530955Z",
     "iopub.status.idle": "2021-12-01T08:30:11.926106Z",
     "shell.execute_reply": "2021-12-01T08:30:11.927571Z"
    },
    "papermill": {
     "duration": 1.430176,
     "end_time": "2021-12-01T08:30:11.928047",
     "exception": false,
     "start_time": "2021-12-01T08:30:10.497871",
     "status": "completed"
    },
    "tags": []
   },
   "outputs": [],
   "source": [
    "df = pd.read_sql(\"select * from EBAY_TOP_BERLIN where record_time in (select distinct record_time from EBAY_TOP_BERLIN order by record_time desc limit 2)\", sqlite3.connect(\"UsedObjects.db\"))"
   ]
  },
  {
   "cell_type": "code",
   "execution_count": 5,
   "id": "popular-active",
   "metadata": {
    "execution": {
     "iopub.execute_input": "2021-12-01T08:30:12.006609Z",
     "iopub.status.busy": "2021-12-01T08:30:11.999663Z",
     "iopub.status.idle": "2021-12-01T08:30:12.024793Z",
     "shell.execute_reply": "2021-12-01T08:30:12.026142Z"
    },
    "papermill": {
     "duration": 0.076955,
     "end_time": "2021-12-01T08:30:12.026620",
     "exception": false,
     "start_time": "2021-12-01T08:30:11.949665",
     "status": "completed"
    },
    "tags": []
   },
   "outputs": [],
   "source": [
    "df_pivot = df.pivot_table(index=\"PRODUCT\", columns = \"RECORD_TIME\", values = \"LISTING_COUNT\")"
   ]
  },
  {
   "cell_type": "code",
   "execution_count": 6,
   "id": "union-huntington",
   "metadata": {
    "execution": {
     "iopub.execute_input": "2021-12-01T08:30:12.085298Z",
     "iopub.status.busy": "2021-12-01T08:30:12.082816Z",
     "iopub.status.idle": "2021-12-01T08:30:12.090574Z",
     "shell.execute_reply": "2021-12-01T08:30:12.092313Z"
    },
    "papermill": {
     "duration": 0.046269,
     "end_time": "2021-12-01T08:30:12.092888",
     "exception": false,
     "start_time": "2021-12-01T08:30:12.046619",
     "status": "completed"
    },
    "tags": []
   },
   "outputs": [],
   "source": [
    "df_pivot.columns = [\"stamp_1\", \"stamp_2\"]\n",
    "df_pivot_diff = df_pivot.diff(axis=1)"
   ]
  },
  {
   "cell_type": "code",
   "execution_count": 7,
   "id": "fifth-motion",
   "metadata": {
    "execution": {
     "iopub.execute_input": "2021-12-01T08:30:12.155410Z",
     "iopub.status.busy": "2021-12-01T08:30:12.150993Z",
     "iopub.status.idle": "2021-12-01T08:30:14.154219Z",
     "shell.execute_reply": "2021-12-01T08:30:14.155518Z"
    },
    "papermill": {
     "duration": 2.041043,
     "end_time": "2021-12-01T08:30:14.155938",
     "exception": false,
     "start_time": "2021-12-01T08:30:12.114895",
     "status": "completed"
    },
    "tags": []
   },
   "outputs": [
    {
     "data": {
      "text/plain": [
       "<AxesSubplot:ylabel='PRODUCT'>"
      ]
     },
     "execution_count": 7,
     "metadata": {},
     "output_type": "execute_result"
    },
    {
     "data": {
      "image/png": "[encoded data removed]",
      "text/plain": [
       "<Figure size 432x288 with 1 Axes>"
      ]
     },
     "metadata": {
      "needs_background": "light"
     },
     "output_type": "display_data"
    }
   ],
   "source": [
    "df_pivot_diff.sort_values(\"stamp_2\", ascending = False)[\"stamp_2\"].head(10).plot.barh()"
   ]
  },
  {
   "cell_type": "code",
   "execution_count": null,
   "id": "extra-executive",
   "metadata": {
    "papermill": {
     "duration": 0.022358,
     "end_time": "2021-12-01T08:30:14.202180",
     "exception": false,
     "start_time": "2021-12-01T08:30:14.179822",
     "status": "completed"
    },
    "tags": []
   },
   "outputs": [],
   "source": []
  }
 ],
 "metadata": {
  "kernelspec": {
   "display_name": "Python 3",
   "language": "python",
   "name": "python3"
  },
  "language_info": {
   "codemirror_mode": {
    "name": "ipython",
    "version": 3
   },
   "file_extension": ".py",
   "mimetype": "text/x-python",
   "name": "python",
   "nbconvert_exporter": "python",
   "pygments_lexer": "ipython3",
   "version": "3.9.5"
  },
  "papermill": {
   "default_parameters": {},
   "duration": 9.941508,
   "end_time": "2021-12-01T08:30:15.523333",
   "environment_variables": {},
   "exception": null,
   "input_path": "eBay_Overview.ipynb",
   "output_path": "eBay_Overview.ipynb",
   "parameters": {},
   "start_time": "2021-12-01T08:30:05.581825",
   "version": "2.3.3"
  }
 },
 "nbformat": 4,
 "nbformat_minor": 5
}