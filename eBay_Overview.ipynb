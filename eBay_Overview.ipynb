{
 "cells": [
  {
   "cell_type": "code",
   "execution_count": 1,
   "id": "reverse-picking",
   "metadata": {
    "execution": {
     "iopub.execute_input": "2021-12-15T05:30:07.906524Z",
     "iopub.status.busy": "2021-12-15T05:30:07.903992Z",
     "iopub.status.idle": "2021-12-15T05:30:08.857776Z",
     "shell.execute_reply": "2021-12-15T05:30:08.859182Z"
    },
    "papermill": {
     "duration": 1.004345,
     "end_time": "2021-12-15T05:30:08.859897",
     "exception": false,
     "start_time": "2021-12-15T05:30:07.855552",
     "status": "completed"
    },
    "tags": []
   },
   "outputs": [],
   "source": [
    "import pandas as pd\n",
    "import sqlite3"
   ]
  },
  {
   "cell_type": "code",
   "execution_count": 2,
   "id": "innovative-syndrome",
   "metadata": {
    "execution": {
     "iopub.execute_input": "2021-12-15T05:30:08.980365Z",
     "iopub.status.busy": "2021-12-15T05:30:08.978002Z",
     "iopub.status.idle": "2021-12-15T05:30:10.066435Z",
     "shell.execute_reply": "2021-12-15T05:30:10.067809Z"
    },
    "papermill": {
     "duration": 1.12293,
     "end_time": "2021-12-15T05:30:10.068241",
     "exception": false,
     "start_time": "2021-12-15T05:30:08.945311",
     "status": "completed"
    },
    "tags": []
   },
   "outputs": [],
   "source": [
    "timestamps = pd.read_sql(\"select distinct record_time from EBAY_TOP_BERLIN order by record_time desc limit 2\", sqlite3.connect(\"UsedObjects.db\"))"
   ]
  },
  {
   "cell_type": "code",
   "execution_count": 3,
   "id": "periodic-identification",
   "metadata": {
    "execution": {
     "iopub.execute_input": "2021-12-15T05:30:10.132935Z",
     "iopub.status.busy": "2021-12-15T05:30:10.130824Z",
     "iopub.status.idle": "2021-12-15T05:30:10.151275Z",
     "shell.execute_reply": "2021-12-15T05:30:10.152460Z"
    },
    "papermill": {
     "duration": 0.064128,
     "end_time": "2021-12-15T05:30:10.152939",
     "exception": false,
     "start_time": "2021-12-15T05:30:10.088811",
     "status": "completed"
    },
    "tags": []
   },
   "outputs": [
    {
     "data": {
      "text/html": [
       "<div>\n",
       "<style scoped>\n",
       "    .dataframe tbody tr th:only-of-type {\n",
       "        vertical-align: middle;\n",
       "    }\n",
       "\n",
       "    .dataframe tbody tr th {\n",
       "        vertical-align: top;\n",
       "    }\n",
       "\n",
       "    .dataframe thead th {\n",
       "        text-align: right;\n",
       "    }\n",
       "</style>\n",
       "<table border=\"1\" class=\"dataframe\">\n",
       "  <thead>\n",
       "    <tr style=\"text-align: right;\">\n",
       "      <th></th>\n",
       "      <th>RECORD_TIME</th>\n",
       "    </tr>\n",
       "  </thead>\n",
       "  <tbody>\n",
       "    <tr>\n",
       "      <th>0</th>\n",
       "      <td>2021-12-15 06:30</td>\n",
       "    </tr>\n",
       "    <tr>\n",
       "      <th>1</th>\n",
       "      <td>2021-12-15 06:00</td>\n",
       "    </tr>\n",
       "  </tbody>\n",
       "</table>\n",
       "</div>"
      ],
      "text/plain": [
       "        RECORD_TIME\n",
       "0  2021-12-15 06:30\n",
       "1  2021-12-15 06:00"
      ]
     },
     "execution_count": 3,
     "metadata": {},
     "output_type": "execute_result"
    }
   ],
   "source": [
    "timestamps"
   ]
  },
  {
   "cell_type": "code",
   "execution_count": 4,
   "id": "alternate-victory",
   "metadata": {
    "execution": {
     "iopub.execute_input": "2021-12-15T05:30:10.207220Z",
     "iopub.status.busy": "2021-12-15T05:30:10.205065Z",
     "iopub.status.idle": "2021-12-15T05:30:11.824038Z",
     "shell.execute_reply": "2021-12-15T05:30:11.825658Z"
    },
    "papermill": {
     "duration": 1.649978,
     "end_time": "2021-12-15T05:30:11.826151",
     "exception": false,
     "start_time": "2021-12-15T05:30:10.176173",
     "status": "completed"
    },
    "tags": []
   },
   "outputs": [],
   "source": [
    "df = pd.read_sql(\"select * from EBAY_TOP_BERLIN where record_time in (select distinct record_time from EBAY_TOP_BERLIN order by record_time desc limit 2)\", sqlite3.connect(\"UsedObjects.db\"))"
   ]
  },
  {
   "cell_type": "code",
   "execution_count": 5,
   "id": "popular-active",
   "metadata": {
    "execution": {
     "iopub.execute_input": "2021-12-15T05:30:12.025719Z",
     "iopub.status.busy": "2021-12-15T05:30:12.011580Z",
     "iopub.status.idle": "2021-12-15T05:30:12.043428Z",
     "shell.execute_reply": "2021-12-15T05:30:12.044831Z"
    },
    "papermill": {
     "duration": 0.19696,
     "end_time": "2021-12-15T05:30:12.045304",
     "exception": false,
     "start_time": "2021-12-15T05:30:11.848344",
     "status": "completed"
    },
    "tags": []
   },
   "outputs": [],
   "source": [
    "df_pivot = df.pivot_table(index=\"PRODUCT\", columns = \"RECORD_TIME\", values = \"LISTING_COUNT\")"
   ]
  },
  {
   "cell_type": "code",
   "execution_count": 6,
   "id": "union-huntington",
   "metadata": {
    "execution": {
     "iopub.execute_input": "2021-12-15T05:30:12.135880Z",
     "iopub.status.busy": "2021-12-15T05:30:12.133694Z",
     "iopub.status.idle": "2021-12-15T05:30:12.139277Z",
     "shell.execute_reply": "2021-12-15T05:30:12.140613Z"
    },
    "papermill": {
     "duration": 0.052316,
     "end_time": "2021-12-15T05:30:12.141132",
     "exception": false,
     "start_time": "2021-12-15T05:30:12.088816",
     "status": "completed"
    },
    "tags": []
   },
   "outputs": [],
   "source": [
    "df_pivot.columns = [\"stamp_1\", \"stamp_2\"]\n",
    "df_pivot_diff = df_pivot.diff(axis=1)"
   ]
  },
  {
   "cell_type": "code",
   "execution_count": 7,
   "id": "fifth-motion",
   "metadata": {
    "execution": {
     "iopub.execute_input": "2021-12-15T05:30:12.197447Z",
     "iopub.status.busy": "2021-12-15T05:30:12.194926Z",
     "iopub.status.idle": "2021-12-15T05:30:14.200032Z",
     "shell.execute_reply": "2021-12-15T05:30:14.201580Z"
    },
    "papermill": {
     "duration": 2.040435,
     "end_time": "2021-12-15T05:30:14.202044",
     "exception": false,
     "start_time": "2021-12-15T05:30:12.161609",
     "status": "completed"
    },
    "tags": []
   },
   "outputs": [
    {
     "data": {
      "text/plain": [
       "<AxesSubplot:ylabel='PRODUCT'>"
      ]
     },
     "execution_count": 7,
     "metadata": {},
     "output_type": "execute_result"
    },
    {
     "data": {
      "image/png": "[encoded data removed]",
      "text/plain": [
       "<Figure size 432x288 with 1 Axes>"
      ]
     },
     "metadata": {
      "needs_background": "light"
     },
     "output_type": "display_data"
    }
   ],
   "source": [
    "df_pivot_diff.sort_values(\"stamp_2\", ascending = False)[\"stamp_2\"].head(10).plot.barh()"
   ]
  },
  {
   "cell_type": "code",
   "execution_count": null,
   "id": "extra-executive",
   "metadata": {
    "papermill": {
     "duration": 0.022493,
     "end_time": "2021-12-15T05:30:14.250037",
     "exception": false,
     "start_time": "2021-12-15T05:30:14.227544",
     "status": "completed"
    },
    "tags": []
   },
   "outputs": [],
   "source": []
  }
 ],
 "metadata": {
  "kernelspec": {
   "display_name": "Python 3",
   "language": "python",
   "name": "python3"
  },
  "language_info": {
   "codemirror_mode": {
    "name": "ipython",
    "version": 3
   },
   "file_extension": ".py",
   "mimetype": "text/x-python",
   "name": "python",
   "nbconvert_exporter": "python",
   "pygments_lexer": "ipython3",
   "version": "3.9.5"
  },
  "papermill": {
   "default_parameters": {},
   "duration": 9.752287,
   "end_time": "2021-12-15T05:30:14.893558",
   "environment_variables": {},
   "exception": null,
   "input_path": "eBay_Overview.ipynb",
   "output_path": "eBay_Overview.ipynb",
   "parameters": {},
   "start_time": "2021-12-15T05:30:05.141271",
   "version": "2.3.3"
  }
 },
 "nbformat": 4,
 "nbformat_minor": 5
}