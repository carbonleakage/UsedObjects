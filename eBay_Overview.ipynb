{
 "cells": [
  {
   "cell_type": "code",
   "execution_count": 1,
   "id": "reverse-picking",
   "metadata": {
    "execution": {
     "iopub.execute_input": "2021-11-07T20:30:08.179583Z",
     "iopub.status.busy": "2021-11-07T20:30:08.177266Z",
     "iopub.status.idle": "2021-11-07T20:30:09.129346Z",
     "shell.execute_reply": "2021-11-07T20:30:09.126681Z"
    },
    "papermill": {
     "duration": 1.000159,
     "end_time": "2021-11-07T20:30:09.129817",
     "exception": false,
     "start_time": "2021-11-07T20:30:08.129658",
     "status": "completed"
    },
    "tags": []
   },
   "outputs": [],
   "source": [
    "import pandas as pd\n",
    "import sqlite3"
   ]
  },
  {
   "cell_type": "code",
   "execution_count": 2,
   "id": "innovative-syndrome",
   "metadata": {
    "execution": {
     "iopub.execute_input": "2021-11-07T20:30:09.208239Z",
     "iopub.status.busy": "2021-11-07T20:30:09.206049Z",
     "iopub.status.idle": "2021-11-07T20:30:09.966548Z",
     "shell.execute_reply": "2021-11-07T20:30:09.968249Z"
    },
    "papermill": {
     "duration": 0.7961,
     "end_time": "2021-11-07T20:30:09.968848",
     "exception": false,
     "start_time": "2021-11-07T20:30:09.172748",
     "status": "completed"
    },
    "tags": []
   },
   "outputs": [],
   "source": [
    "timestamps = pd.read_sql(\"select distinct record_time from EBAY_TOP_BERLIN order by record_time desc limit 2\", sqlite3.connect(\"UsedObjects.db\"))"
   ]
  },
  {
   "cell_type": "code",
   "execution_count": 3,
   "id": "periodic-identification",
   "metadata": {
    "execution": {
     "iopub.execute_input": "2021-11-07T20:30:10.055186Z",
     "iopub.status.busy": "2021-11-07T20:30:10.045048Z",
     "iopub.status.idle": "2021-11-07T20:30:10.082033Z",
     "shell.execute_reply": "2021-11-07T20:30:10.083623Z"
    },
    "papermill": {
     "duration": 0.093895,
     "end_time": "2021-11-07T20:30:10.084133",
     "exception": false,
     "start_time": "2021-11-07T20:30:09.990238",
     "status": "completed"
    },
    "tags": []
   },
   "outputs": [
    {
     "data": {
      "text/html": [
       "<div>\n",
       "<style scoped>\n",
       "    .dataframe tbody tr th:only-of-type {\n",
       "        vertical-align: middle;\n",
       "    }\n",
       "\n",
       "    .dataframe tbody tr th {\n",
       "        vertical-align: top;\n",
       "    }\n",
       "\n",
       "    .dataframe thead th {\n",
       "        text-align: right;\n",
       "    }\n",
       "</style>\n",
       "<table border=\"1\" class=\"dataframe\">\n",
       "  <thead>\n",
       "    <tr style=\"text-align: right;\">\n",
       "      <th></th>\n",
       "      <th>RECORD_TIME</th>\n",
       "    </tr>\n",
       "  </thead>\n",
       "  <tbody>\n",
       "    <tr>\n",
       "      <th>0</th>\n",
       "      <td>2021-11-07 21:30</td>\n",
       "    </tr>\n",
       "    <tr>\n",
       "      <th>1</th>\n",
       "      <td>2021-11-07 21:00</td>\n",
       "    </tr>\n",
       "  </tbody>\n",
       "</table>\n",
       "</div>"
      ],
      "text/plain": [
       "        RECORD_TIME\n",
       "0  2021-11-07 21:30\n",
       "1  2021-11-07 21:00"
      ]
     },
     "execution_count": 3,
     "metadata": {},
     "output_type": "execute_result"
    }
   ],
   "source": [
    "timestamps"
   ]
  },
  {
   "cell_type": "code",
   "execution_count": 4,
   "id": "alternate-victory",
   "metadata": {
    "execution": {
     "iopub.execute_input": "2021-11-07T20:30:10.141236Z",
     "iopub.status.busy": "2021-11-07T20:30:10.139000Z",
     "iopub.status.idle": "2021-11-07T20:30:11.227833Z",
     "shell.execute_reply": "2021-11-07T20:30:11.229468Z"
    },
    "papermill": {
     "duration": 1.123401,
     "end_time": "2021-11-07T20:30:11.229961",
     "exception": false,
     "start_time": "2021-11-07T20:30:10.106560",
     "status": "completed"
    },
    "tags": []
   },
   "outputs": [],
   "source": [
    "df = pd.read_sql(\"select * from EBAY_TOP_BERLIN where record_time in (select distinct record_time from EBAY_TOP_BERLIN order by record_time desc limit 2)\", sqlite3.connect(\"UsedObjects.db\"))"
   ]
  },
  {
   "cell_type": "code",
   "execution_count": 5,
   "id": "popular-active",
   "metadata": {
    "execution": {
     "iopub.execute_input": "2021-11-07T20:30:11.288011Z",
     "iopub.status.busy": "2021-11-07T20:30:11.286014Z",
     "iopub.status.idle": "2021-11-07T20:30:11.342414Z",
     "shell.execute_reply": "2021-11-07T20:30:11.345301Z"
    },
    "papermill": {
     "duration": 0.09366,
     "end_time": "2021-11-07T20:30:11.345810",
     "exception": false,
     "start_time": "2021-11-07T20:30:11.252150",
     "status": "completed"
    },
    "tags": []
   },
   "outputs": [],
   "source": [
    "df_pivot = df.pivot_table(index=\"PRODUCT\", columns = \"RECORD_TIME\", values = \"LISTING_COUNT\")"
   ]
  },
  {
   "cell_type": "code",
   "execution_count": 6,
   "id": "union-huntington",
   "metadata": {
    "execution": {
     "iopub.execute_input": "2021-11-07T20:30:11.408438Z",
     "iopub.status.busy": "2021-11-07T20:30:11.406129Z",
     "iopub.status.idle": "2021-11-07T20:30:11.412304Z",
     "shell.execute_reply": "2021-11-07T20:30:11.413824Z"
    },
    "papermill": {
     "duration": 0.046611,
     "end_time": "2021-11-07T20:30:11.414319",
     "exception": false,
     "start_time": "2021-11-07T20:30:11.367708",
     "status": "completed"
    },
    "tags": []
   },
   "outputs": [],
   "source": [
    "df_pivot.columns = [\"stamp_1\", \"stamp_2\"]\n",
    "df_pivot_diff = df_pivot.diff(axis=1)"
   ]
  },
  {
   "cell_type": "code",
   "execution_count": 7,
   "id": "fifth-motion",
   "metadata": {
    "execution": {
     "iopub.execute_input": "2021-11-07T20:30:11.474557Z",
     "iopub.status.busy": "2021-11-07T20:30:11.471892Z",
     "iopub.status.idle": "2021-11-07T20:30:13.268411Z",
     "shell.execute_reply": "2021-11-07T20:30:13.269883Z"
    },
    "papermill": {
     "duration": 1.834595,
     "end_time": "2021-11-07T20:30:13.270357",
     "exception": false,
     "start_time": "2021-11-07T20:30:11.435762",
     "status": "completed"
    },
    "tags": []
   },
   "outputs": [
    {
     "data": {
      "text/plain": [
       "<AxesSubplot:ylabel='PRODUCT'>"
      ]
     },
     "execution_count": 7,
     "metadata": {},
     "output_type": "execute_result"
    },
    {
     "data": {
      "image/png": "[encoded data removed]",
      "text/plain": [
       "<Figure size 432x288 with 1 Axes>"
      ]
     },
     "metadata": {
      "needs_background": "light"
     },
     "output_type": "display_data"
    }
   ],
   "source": [
    "df_pivot_diff.sort_values(\"stamp_2\", ascending = False)[\"stamp_2\"].head(10).plot.barh()"
   ]
  },
  {
   "cell_type": "code",
   "execution_count": null,
   "id": "extra-executive",
   "metadata": {
    "papermill": {
     "duration": 0.023938,
     "end_time": "2021-11-07T20:30:13.318855",
     "exception": false,
     "start_time": "2021-11-07T20:30:13.294917",
     "status": "completed"
    },
    "tags": []
   },
   "outputs": [],
   "source": []
  }
 ],
 "metadata": {
  "kernelspec": {
   "display_name": "Python 3",
   "language": "python",
   "name": "python3"
  },
  "language_info": {
   "codemirror_mode": {
    "name": "ipython",
    "version": 3
   },
   "file_extension": ".py",
   "mimetype": "text/x-python",
   "name": "python",
   "nbconvert_exporter": "python",
   "pygments_lexer": "ipython3",
   "version": "3.9.5"
  },
  "papermill": {
   "default_parameters": {},
   "duration": 8.895885,
   "end_time": "2021-11-07T20:30:14.174672",
   "environment_variables": {},
   "exception": null,
   "input_path": "eBay_Overview.ipynb",
   "output_path": "eBay_Overview.ipynb",
   "parameters": {},
   "start_time": "2021-11-07T20:30:05.278787",
   "version": "2.3.3"
  }
 },
 "nbformat": 4,
 "nbformat_minor": 5
}