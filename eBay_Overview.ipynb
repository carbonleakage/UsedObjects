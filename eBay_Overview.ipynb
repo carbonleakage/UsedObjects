{
 "cells": [
  {
   "cell_type": "code",
   "execution_count": 1,
   "id": "reverse-picking",
   "metadata": {
    "execution": {
     "iopub.execute_input": "2021-11-04T05:00:07.693826Z",
     "iopub.status.busy": "2021-11-04T05:00:07.690887Z",
     "iopub.status.idle": "2021-11-04T05:00:08.649160Z",
     "shell.execute_reply": "2021-11-04T05:00:08.650655Z"
    },
    "papermill": {
     "duration": 1.009549,
     "end_time": "2021-11-04T05:00:08.651388",
     "exception": false,
     "start_time": "2021-11-04T05:00:07.641839",
     "status": "completed"
    },
    "tags": []
   },
   "outputs": [],
   "source": [
    "import pandas as pd\n",
    "import sqlite3"
   ]
  },
  {
   "cell_type": "code",
   "execution_count": 2,
   "id": "innovative-syndrome",
   "metadata": {
    "execution": {
     "iopub.execute_input": "2021-11-04T05:00:08.717647Z",
     "iopub.status.busy": "2021-11-04T05:00:08.715309Z",
     "iopub.status.idle": "2021-11-04T05:00:09.441930Z",
     "shell.execute_reply": "2021-11-04T05:00:09.443396Z"
    },
    "papermill": {
     "duration": 0.762363,
     "end_time": "2021-11-04T05:00:09.443883",
     "exception": false,
     "start_time": "2021-11-04T05:00:08.681520",
     "status": "completed"
    },
    "tags": []
   },
   "outputs": [],
   "source": [
    "timestamps = pd.read_sql(\"select distinct record_time from EBAY_TOP_BERLIN order by record_time desc limit 2\", sqlite3.connect(\"UsedObjects.db\"))"
   ]
  },
  {
   "cell_type": "code",
   "execution_count": 3,
   "id": "periodic-identification",
   "metadata": {
    "execution": {
     "iopub.execute_input": "2021-11-04T05:00:09.517915Z",
     "iopub.status.busy": "2021-11-04T05:00:09.515338Z",
     "iopub.status.idle": "2021-11-04T05:00:09.539473Z",
     "shell.execute_reply": "2021-11-04T05:00:09.541225Z"
    },
    "papermill": {
     "duration": 0.077503,
     "end_time": "2021-11-04T05:00:09.541754",
     "exception": false,
     "start_time": "2021-11-04T05:00:09.464251",
     "status": "completed"
    },
    "tags": []
   },
   "outputs": [
    {
     "data": {
      "text/html": [
       "<div>\n",
       "<style scoped>\n",
       "    .dataframe tbody tr th:only-of-type {\n",
       "        vertical-align: middle;\n",
       "    }\n",
       "\n",
       "    .dataframe tbody tr th {\n",
       "        vertical-align: top;\n",
       "    }\n",
       "\n",
       "    .dataframe thead th {\n",
       "        text-align: right;\n",
       "    }\n",
       "</style>\n",
       "<table border=\"1\" class=\"dataframe\">\n",
       "  <thead>\n",
       "    <tr style=\"text-align: right;\">\n",
       "      <th></th>\n",
       "      <th>RECORD_TIME</th>\n",
       "    </tr>\n",
       "  </thead>\n",
       "  <tbody>\n",
       "    <tr>\n",
       "      <th>0</th>\n",
       "      <td>2021-11-04 06:00</td>\n",
       "    </tr>\n",
       "    <tr>\n",
       "      <th>1</th>\n",
       "      <td>2021-11-04 05:30</td>\n",
       "    </tr>\n",
       "  </tbody>\n",
       "</table>\n",
       "</div>"
      ],
      "text/plain": [
       "        RECORD_TIME\n",
       "0  2021-11-04 06:00\n",
       "1  2021-11-04 05:30"
      ]
     },
     "execution_count": 3,
     "metadata": {},
     "output_type": "execute_result"
    }
   ],
   "source": [
    "timestamps"
   ]
  },
  {
   "cell_type": "code",
   "execution_count": 4,
   "id": "alternate-victory",
   "metadata": {
    "execution": {
     "iopub.execute_input": "2021-11-04T05:00:09.598963Z",
     "iopub.status.busy": "2021-11-04T05:00:09.596761Z",
     "iopub.status.idle": "2021-11-04T05:00:10.668219Z",
     "shell.execute_reply": "2021-11-04T05:00:10.669798Z"
    },
    "papermill": {
     "duration": 1.106984,
     "end_time": "2021-11-04T05:00:10.670302",
     "exception": false,
     "start_time": "2021-11-04T05:00:09.563318",
     "status": "completed"
    },
    "tags": []
   },
   "outputs": [],
   "source": [
    "df = pd.read_sql(\"select * from EBAY_TOP_BERLIN where record_time in (select distinct record_time from EBAY_TOP_BERLIN order by record_time desc limit 2)\", sqlite3.connect(\"UsedObjects.db\"))"
   ]
  },
  {
   "cell_type": "code",
   "execution_count": 5,
   "id": "popular-active",
   "metadata": {
    "execution": {
     "iopub.execute_input": "2021-11-04T05:00:10.749725Z",
     "iopub.status.busy": "2021-11-04T05:00:10.736918Z",
     "iopub.status.idle": "2021-11-04T05:00:10.767382Z",
     "shell.execute_reply": "2021-11-04T05:00:10.768767Z"
    },
    "papermill": {
     "duration": 0.076388,
     "end_time": "2021-11-04T05:00:10.769234",
     "exception": false,
     "start_time": "2021-11-04T05:00:10.692846",
     "status": "completed"
    },
    "tags": []
   },
   "outputs": [],
   "source": [
    "df_pivot = df.pivot_table(index=\"PRODUCT\", columns = \"RECORD_TIME\", values = \"LISTING_COUNT\")"
   ]
  },
  {
   "cell_type": "code",
   "execution_count": 6,
   "id": "union-huntington",
   "metadata": {
    "execution": {
     "iopub.execute_input": "2021-11-04T05:00:10.828434Z",
     "iopub.status.busy": "2021-11-04T05:00:10.826070Z",
     "iopub.status.idle": "2021-11-04T05:00:10.831975Z",
     "shell.execute_reply": "2021-11-04T05:00:10.833466Z"
    },
    "papermill": {
     "duration": 0.04431,
     "end_time": "2021-11-04T05:00:10.833950",
     "exception": false,
     "start_time": "2021-11-04T05:00:10.789640",
     "status": "completed"
    },
    "tags": []
   },
   "outputs": [],
   "source": [
    "df_pivot.columns = [\"stamp_1\", \"stamp_2\"]\n",
    "df_pivot_diff = df_pivot.diff(axis=1)"
   ]
  },
  {
   "cell_type": "code",
   "execution_count": 7,
   "id": "fifth-motion",
   "metadata": {
    "execution": {
     "iopub.execute_input": "2021-11-04T05:00:10.912888Z",
     "iopub.status.busy": "2021-11-04T05:00:10.908814Z",
     "iopub.status.idle": "2021-11-04T05:00:12.894892Z",
     "shell.execute_reply": "2021-11-04T05:00:12.896314Z"
    },
    "papermill": {
     "duration": 2.039094,
     "end_time": "2021-11-04T05:00:12.896865",
     "exception": false,
     "start_time": "2021-11-04T05:00:10.857771",
     "status": "completed"
    },
    "tags": []
   },
   "outputs": [
    {
     "data": {
      "text/plain": [
       "<AxesSubplot:ylabel='PRODUCT'>"
      ]
     },
     "execution_count": 7,
     "metadata": {},
     "output_type": "execute_result"
    },
    {
     "data": {
      "image/png": "[encoded data removed]",
      "text/plain": [
       "<Figure size 432x288 with 1 Axes>"
      ]
     },
     "metadata": {
      "needs_background": "light"
     },
     "output_type": "display_data"
    }
   ],
   "source": [
    "df_pivot_diff.sort_values(\"stamp_2\", ascending = False)[\"stamp_2\"].head(10).plot.barh()"
   ]
  },
  {
   "cell_type": "code",
   "execution_count": null,
   "id": "extra-executive",
   "metadata": {
    "papermill": {
     "duration": 0.023631,
     "end_time": "2021-11-04T05:00:12.944813",
     "exception": false,
     "start_time": "2021-11-04T05:00:12.921182",
     "status": "completed"
    },
    "tags": []
   },
   "outputs": [],
   "source": []
  }
 ],
 "metadata": {
  "kernelspec": {
   "display_name": "Python 3",
   "language": "python",
   "name": "python3"
  },
  "language_info": {
   "codemirror_mode": {
    "name": "ipython",
    "version": 3
   },
   "file_extension": ".py",
   "mimetype": "text/x-python",
   "name": "python",
   "nbconvert_exporter": "python",
   "pygments_lexer": "ipython3",
   "version": "3.9.5"
  },
  "papermill": {
   "default_parameters": {},
   "duration": 8.906775,
   "end_time": "2021-11-04T05:00:13.805381",
   "environment_variables": {},
   "exception": null,
   "input_path": "eBay_Overview.ipynb",
   "output_path": "eBay_Overview.ipynb",
   "parameters": {},
   "start_time": "2021-11-04T05:00:04.898606",
   "version": "2.3.3"
  }
 },
 "nbformat": 4,
 "nbformat_minor": 5
}