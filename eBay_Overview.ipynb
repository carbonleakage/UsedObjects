{
 "cells": [
  {
   "cell_type": "code",
   "execution_count": 1,
   "id": "reverse-picking",
   "metadata": {
    "execution": {
     "iopub.execute_input": "2021-11-21T13:00:07.820372Z",
     "iopub.status.busy": "2021-11-21T13:00:07.812928Z",
     "iopub.status.idle": "2021-11-21T13:00:08.777594Z",
     "shell.execute_reply": "2021-11-21T13:00:08.775562Z"
    },
    "papermill": {
     "duration": 1.012144,
     "end_time": "2021-11-21T13:00:08.778090",
     "exception": false,
     "start_time": "2021-11-21T13:00:07.765946",
     "status": "completed"
    },
    "tags": []
   },
   "outputs": [],
   "source": [
    "import pandas as pd\n",
    "import sqlite3"
   ]
  },
  {
   "cell_type": "code",
   "execution_count": 2,
   "id": "innovative-syndrome",
   "metadata": {
    "execution": {
     "iopub.execute_input": "2021-11-21T13:00:08.841170Z",
     "iopub.status.busy": "2021-11-21T13:00:08.838896Z",
     "iopub.status.idle": "2021-11-21T13:00:09.734684Z",
     "shell.execute_reply": "2021-11-21T13:00:09.736403Z"
    },
    "papermill": {
     "duration": 0.930769,
     "end_time": "2021-11-21T13:00:09.737016",
     "exception": false,
     "start_time": "2021-11-21T13:00:08.806247",
     "status": "completed"
    },
    "tags": []
   },
   "outputs": [],
   "source": [
    "timestamps = pd.read_sql(\"select distinct record_time from EBAY_TOP_BERLIN order by record_time desc limit 2\", sqlite3.connect(\"UsedObjects.db\"))"
   ]
  },
  {
   "cell_type": "code",
   "execution_count": 3,
   "id": "periodic-identification",
   "metadata": {
    "execution": {
     "iopub.execute_input": "2021-11-21T13:00:09.810383Z",
     "iopub.status.busy": "2021-11-21T13:00:09.807934Z",
     "iopub.status.idle": "2021-11-21T13:00:09.831733Z",
     "shell.execute_reply": "2021-11-21T13:00:09.833264Z"
    },
    "papermill": {
     "duration": 0.075158,
     "end_time": "2021-11-21T13:00:09.833764",
     "exception": false,
     "start_time": "2021-11-21T13:00:09.758606",
     "status": "completed"
    },
    "tags": []
   },
   "outputs": [
    {
     "data": {
      "text/html": [
       "<div>\n",
       "<style scoped>\n",
       "    .dataframe tbody tr th:only-of-type {\n",
       "        vertical-align: middle;\n",
       "    }\n",
       "\n",
       "    .dataframe tbody tr th {\n",
       "        vertical-align: top;\n",
       "    }\n",
       "\n",
       "    .dataframe thead th {\n",
       "        text-align: right;\n",
       "    }\n",
       "</style>\n",
       "<table border=\"1\" class=\"dataframe\">\n",
       "  <thead>\n",
       "    <tr style=\"text-align: right;\">\n",
       "      <th></th>\n",
       "      <th>RECORD_TIME</th>\n",
       "    </tr>\n",
       "  </thead>\n",
       "  <tbody>\n",
       "    <tr>\n",
       "      <th>0</th>\n",
       "      <td>2021-11-21 14:00</td>\n",
       "    </tr>\n",
       "    <tr>\n",
       "      <th>1</th>\n",
       "      <td>2021-11-21 13:30</td>\n",
       "    </tr>\n",
       "  </tbody>\n",
       "</table>\n",
       "</div>"
      ],
      "text/plain": [
       "        RECORD_TIME\n",
       "0  2021-11-21 14:00\n",
       "1  2021-11-21 13:30"
      ]
     },
     "execution_count": 3,
     "metadata": {},
     "output_type": "execute_result"
    }
   ],
   "source": [
    "timestamps"
   ]
  },
  {
   "cell_type": "code",
   "execution_count": 4,
   "id": "alternate-victory",
   "metadata": {
    "execution": {
     "iopub.execute_input": "2021-11-21T13:00:09.888623Z",
     "iopub.status.busy": "2021-11-21T13:00:09.886551Z",
     "iopub.status.idle": "2021-11-21T13:00:11.182632Z",
     "shell.execute_reply": "2021-11-21T13:00:11.180291Z"
    },
    "papermill": {
     "duration": 1.328711,
     "end_time": "2021-11-21T13:00:11.183072",
     "exception": false,
     "start_time": "2021-11-21T13:00:09.854361",
     "status": "completed"
    },
    "tags": []
   },
   "outputs": [],
   "source": [
    "df = pd.read_sql(\"select * from EBAY_TOP_BERLIN where record_time in (select distinct record_time from EBAY_TOP_BERLIN order by record_time desc limit 2)\", sqlite3.connect(\"UsedObjects.db\"))"
   ]
  },
  {
   "cell_type": "code",
   "execution_count": 5,
   "id": "popular-active",
   "metadata": {
    "execution": {
     "iopub.execute_input": "2021-11-21T13:00:11.260054Z",
     "iopub.status.busy": "2021-11-21T13:00:11.246760Z",
     "iopub.status.idle": "2021-11-21T13:00:11.280971Z",
     "shell.execute_reply": "2021-11-21T13:00:11.282272Z"
    },
    "papermill": {
     "duration": 0.077849,
     "end_time": "2021-11-21T13:00:11.282731",
     "exception": false,
     "start_time": "2021-11-21T13:00:11.204882",
     "status": "completed"
    },
    "tags": []
   },
   "outputs": [],
   "source": [
    "df_pivot = df.pivot_table(index=\"PRODUCT\", columns = \"RECORD_TIME\", values = \"LISTING_COUNT\")"
   ]
  },
  {
   "cell_type": "code",
   "execution_count": 6,
   "id": "union-huntington",
   "metadata": {
    "execution": {
     "iopub.execute_input": "2021-11-21T13:00:11.340332Z",
     "iopub.status.busy": "2021-11-21T13:00:11.338342Z",
     "iopub.status.idle": "2021-11-21T13:00:11.343915Z",
     "shell.execute_reply": "2021-11-21T13:00:11.345185Z"
    },
    "papermill": {
     "duration": 0.042515,
     "end_time": "2021-11-21T13:00:11.345658",
     "exception": false,
     "start_time": "2021-11-21T13:00:11.303143",
     "status": "completed"
    },
    "tags": []
   },
   "outputs": [],
   "source": [
    "df_pivot.columns = [\"stamp_1\", \"stamp_2\"]\n",
    "df_pivot_diff = df_pivot.diff(axis=1)"
   ]
  },
  {
   "cell_type": "code",
   "execution_count": 7,
   "id": "fifth-motion",
   "metadata": {
    "execution": {
     "iopub.execute_input": "2021-11-21T13:00:11.405771Z",
     "iopub.status.busy": "2021-11-21T13:00:11.403209Z",
     "iopub.status.idle": "2021-11-21T13:00:13.316772Z",
     "shell.execute_reply": "2021-11-21T13:00:13.318483Z"
    },
    "papermill": {
     "duration": 1.952284,
     "end_time": "2021-11-21T13:00:13.319098",
     "exception": false,
     "start_time": "2021-11-21T13:00:11.366814",
     "status": "completed"
    },
    "tags": []
   },
   "outputs": [
    {
     "data": {
      "text/plain": [
       "<AxesSubplot:ylabel='PRODUCT'>"
      ]
     },
     "execution_count": 7,
     "metadata": {},
     "output_type": "execute_result"
    },
    {
     "data": {
      "image/png": "[encoded data removed]",
      "text/plain": [
       "<Figure size 432x288 with 1 Axes>"
      ]
     },
     "metadata": {
      "needs_background": "light"
     },
     "output_type": "display_data"
    }
   ],
   "source": [
    "df_pivot_diff.sort_values(\"stamp_2\", ascending = False)[\"stamp_2\"].head(10).plot.barh()"
   ]
  },
  {
   "cell_type": "code",
   "execution_count": null,
   "id": "extra-executive",
   "metadata": {
    "papermill": {
     "duration": 0.02322,
     "end_time": "2021-11-21T13:00:13.367646",
     "exception": false,
     "start_time": "2021-11-21T13:00:13.344426",
     "status": "completed"
    },
    "tags": []
   },
   "outputs": [],
   "source": []
  }
 ],
 "metadata": {
  "kernelspec": {
   "display_name": "Python 3",
   "language": "python",
   "name": "python3"
  },
  "language_info": {
   "codemirror_mode": {
    "name": "ipython",
    "version": 3
   },
   "file_extension": ".py",
   "mimetype": "text/x-python",
   "name": "python",
   "nbconvert_exporter": "python",
   "pygments_lexer": "ipython3",
   "version": "3.9.5"
  },
  "papermill": {
   "default_parameters": {},
   "duration": 9.926611,
   "end_time": "2021-11-21T13:00:14.976267",
   "environment_variables": {},
   "exception": null,
   "input_path": "eBay_Overview.ipynb",
   "output_path": "eBay_Overview.ipynb",
   "parameters": {},
   "start_time": "2021-11-21T13:00:05.049656",
   "version": "2.3.3"
  }
 },
 "nbformat": 4,
 "nbformat_minor": 5
}