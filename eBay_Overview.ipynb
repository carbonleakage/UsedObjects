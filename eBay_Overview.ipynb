{
 "cells": [
  {
   "cell_type": "code",
   "execution_count": 1,
   "id": "reverse-picking",
   "metadata": {
    "execution": {
     "iopub.execute_input": "2021-10-03T17:00:06.610899Z",
     "iopub.status.busy": "2021-10-03T17:00:06.608929Z",
     "iopub.status.idle": "2021-10-03T17:00:07.415773Z",
     "shell.execute_reply": "2021-10-03T17:00:07.417082Z"
    },
    "papermill": {
     "duration": 0.857507,
     "end_time": "2021-10-03T17:00:07.417712",
     "exception": false,
     "start_time": "2021-10-03T17:00:06.560205",
     "status": "completed"
    },
    "tags": []
   },
   "outputs": [],
   "source": [
    "import pandas as pd\n",
    "import sqlite3"
   ]
  },
  {
   "cell_type": "code",
   "execution_count": 2,
   "id": "innovative-syndrome",
   "metadata": {
    "execution": {
     "iopub.execute_input": "2021-10-03T17:00:07.467248Z",
     "iopub.status.busy": "2021-10-03T17:00:07.465268Z",
     "iopub.status.idle": "2021-10-03T17:00:07.912380Z",
     "shell.execute_reply": "2021-10-03T17:00:07.913653Z"
    },
    "papermill": {
     "duration": 0.47648,
     "end_time": "2021-10-03T17:00:07.914072",
     "exception": false,
     "start_time": "2021-10-03T17:00:07.437592",
     "status": "completed"
    },
    "tags": []
   },
   "outputs": [],
   "source": [
    "timestamps = pd.read_sql(\"select distinct record_time from EBAY_TOP_BERLIN order by record_time desc limit 2\", sqlite3.connect(\"UsedObjects.db\"))"
   ]
  },
  {
   "cell_type": "code",
   "execution_count": 3,
   "id": "periodic-identification",
   "metadata": {
    "execution": {
     "iopub.execute_input": "2021-10-03T17:00:07.980212Z",
     "iopub.status.busy": "2021-10-03T17:00:07.978132Z",
     "iopub.status.idle": "2021-10-03T17:00:08.002530Z",
     "shell.execute_reply": "2021-10-03T17:00:08.001129Z"
    },
    "papermill": {
     "duration": 0.069869,
     "end_time": "2021-10-03T17:00:08.002958",
     "exception": false,
     "start_time": "2021-10-03T17:00:07.933089",
     "status": "completed"
    },
    "tags": []
   },
   "outputs": [
    {
     "data": {
      "text/html": [
       "<div>\n",
       "<style scoped>\n",
       "    .dataframe tbody tr th:only-of-type {\n",
       "        vertical-align: middle;\n",
       "    }\n",
       "\n",
       "    .dataframe tbody tr th {\n",
       "        vertical-align: top;\n",
       "    }\n",
       "\n",
       "    .dataframe thead th {\n",
       "        text-align: right;\n",
       "    }\n",
       "</style>\n",
       "<table border=\"1\" class=\"dataframe\">\n",
       "  <thead>\n",
       "    <tr style=\"text-align: right;\">\n",
       "      <th></th>\n",
       "      <th>RECORD_TIME</th>\n",
       "    </tr>\n",
       "  </thead>\n",
       "  <tbody>\n",
       "    <tr>\n",
       "      <th>0</th>\n",
       "      <td>2021-10-03 19:00</td>\n",
       "    </tr>\n",
       "    <tr>\n",
       "      <th>1</th>\n",
       "      <td>2021-10-03 18:30</td>\n",
       "    </tr>\n",
       "  </tbody>\n",
       "</table>\n",
       "</div>"
      ],
      "text/plain": [
       "        RECORD_TIME\n",
       "0  2021-10-03 19:00\n",
       "1  2021-10-03 18:30"
      ]
     },
     "execution_count": 3,
     "metadata": {},
     "output_type": "execute_result"
    }
   ],
   "source": [
    "timestamps"
   ]
  },
  {
   "cell_type": "code",
   "execution_count": 4,
   "id": "alternate-victory",
   "metadata": {
    "execution": {
     "iopub.execute_input": "2021-10-03T17:00:08.060616Z",
     "iopub.status.busy": "2021-10-03T17:00:08.058421Z",
     "iopub.status.idle": "2021-10-03T17:00:08.716335Z",
     "shell.execute_reply": "2021-10-03T17:00:08.717548Z"
    },
    "papermill": {
     "duration": 0.692497,
     "end_time": "2021-10-03T17:00:08.717950",
     "exception": false,
     "start_time": "2021-10-03T17:00:08.025453",
     "status": "completed"
    },
    "tags": []
   },
   "outputs": [],
   "source": [
    "df = pd.read_sql(\"select * from EBAY_TOP_BERLIN where record_time in (select distinct record_time from EBAY_TOP_BERLIN order by record_time desc limit 2)\", sqlite3.connect(\"UsedObjects.db\"))"
   ]
  },
  {
   "cell_type": "code",
   "execution_count": 5,
   "id": "popular-active",
   "metadata": {
    "execution": {
     "iopub.execute_input": "2021-10-03T17:00:08.787495Z",
     "iopub.status.busy": "2021-10-03T17:00:08.775259Z",
     "iopub.status.idle": "2021-10-03T17:00:08.804185Z",
     "shell.execute_reply": "2021-10-03T17:00:08.805542Z"
    },
    "papermill": {
     "duration": 0.067719,
     "end_time": "2021-10-03T17:00:08.805984",
     "exception": false,
     "start_time": "2021-10-03T17:00:08.738265",
     "status": "completed"
    },
    "tags": []
   },
   "outputs": [],
   "source": [
    "df_pivot = df.pivot_table(index=\"PRODUCT\", columns = \"RECORD_TIME\", values = \"LISTING_COUNT\")"
   ]
  },
  {
   "cell_type": "code",
   "execution_count": 6,
   "id": "union-huntington",
   "metadata": {
    "execution": {
     "iopub.execute_input": "2021-10-03T17:00:08.862893Z",
     "iopub.status.busy": "2021-10-03T17:00:08.860818Z",
     "iopub.status.idle": "2021-10-03T17:00:08.867540Z",
     "shell.execute_reply": "2021-10-03T17:00:08.866079Z"
    },
    "papermill": {
     "duration": 0.040941,
     "end_time": "2021-10-03T17:00:08.867903",
     "exception": false,
     "start_time": "2021-10-03T17:00:08.826962",
     "status": "completed"
    },
    "tags": []
   },
   "outputs": [],
   "source": [
    "df_pivot.columns = [\"stamp_1\", \"stamp_2\"]\n",
    "df_pivot_diff = df_pivot.diff(axis=1)"
   ]
  },
  {
   "cell_type": "code",
   "execution_count": 7,
   "id": "fifth-motion",
   "metadata": {
    "execution": {
     "iopub.execute_input": "2021-10-03T17:00:08.921679Z",
     "iopub.status.busy": "2021-10-03T17:00:08.919313Z",
     "iopub.status.idle": "2021-10-03T17:00:10.399593Z",
     "shell.execute_reply": "2021-10-03T17:00:10.400980Z"
    },
    "papermill": {
     "duration": 1.513126,
     "end_time": "2021-10-03T17:00:10.401428",
     "exception": false,
     "start_time": "2021-10-03T17:00:08.888302",
     "status": "completed"
    },
    "tags": []
   },
   "outputs": [
    {
     "data": {
      "text/plain": [
       "<AxesSubplot:ylabel='PRODUCT'>"
      ]
     },
     "execution_count": 7,
     "metadata": {},
     "output_type": "execute_result"
    },
    {
     "data": {
      "image/png": "[encoded data removed]",
      "text/plain": [
       "<Figure size 432x288 with 1 Axes>"
      ]
     },
     "metadata": {
      "needs_background": "light"
     },
     "output_type": "display_data"
    }
   ],
   "source": [
    "df_pivot_diff.sort_values(\"stamp_2\", ascending = False)[\"stamp_2\"].head(10).plot.barh()"
   ]
  },
  {
   "cell_type": "code",
   "execution_count": null,
   "id": "extra-executive",
   "metadata": {
    "papermill": {
     "duration": 0.02221,
     "end_time": "2021-10-03T17:00:10.447491",
     "exception": false,
     "start_time": "2021-10-03T17:00:10.425281",
     "status": "completed"
    },
    "tags": []
   },
   "outputs": [],
   "source": []
  }
 ],
 "metadata": {
  "kernelspec": {
   "display_name": "Python 3",
   "language": "python",
   "name": "python3"
  },
  "language_info": {
   "codemirror_mode": {
    "name": "ipython",
    "version": 3
   },
   "file_extension": ".py",
   "mimetype": "text/x-python",
   "name": "python",
   "nbconvert_exporter": "python",
   "pygments_lexer": "ipython3",
   "version": "3.9.5"
  },
  "papermill": {
   "default_parameters": {},
   "duration": 7.821119,
   "end_time": "2021-10-03T17:00:11.979036",
   "environment_variables": {},
   "exception": null,
   "input_path": "eBay_Overview.ipynb",
   "output_path": "eBay_Overview.ipynb",
   "parameters": {},
   "start_time": "2021-10-03T17:00:04.157917",
   "version": "2.3.3"
  }
 },
 "nbformat": 4,
 "nbformat_minor": 5
}