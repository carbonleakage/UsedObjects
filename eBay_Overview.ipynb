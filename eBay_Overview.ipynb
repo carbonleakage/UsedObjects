{
 "cells": [
  {
   "cell_type": "code",
   "execution_count": 1,
   "id": "reverse-picking",
   "metadata": {
    "execution": {
     "iopub.execute_input": "2021-10-24T11:00:07.413604Z",
     "iopub.status.busy": "2021-10-24T11:00:07.411585Z",
     "iopub.status.idle": "2021-10-24T11:00:08.221842Z",
     "shell.execute_reply": "2021-10-24T11:00:08.223106Z"
    },
    "papermill": {
     "duration": 0.861796,
     "end_time": "2021-10-24T11:00:08.223724",
     "exception": false,
     "start_time": "2021-10-24T11:00:07.361928",
     "status": "completed"
    },
    "tags": []
   },
   "outputs": [],
   "source": [
    "import pandas as pd\n",
    "import sqlite3"
   ]
  },
  {
   "cell_type": "code",
   "execution_count": 2,
   "id": "innovative-syndrome",
   "metadata": {
    "execution": {
     "iopub.execute_input": "2021-10-24T11:00:08.277387Z",
     "iopub.status.busy": "2021-10-24T11:00:08.274964Z",
     "iopub.status.idle": "2021-10-24T11:00:08.903429Z",
     "shell.execute_reply": "2021-10-24T11:00:08.904529Z"
    },
    "papermill": {
     "duration": 0.658261,
     "end_time": "2021-10-24T11:00:08.905001",
     "exception": false,
     "start_time": "2021-10-24T11:00:08.246740",
     "status": "completed"
    },
    "tags": []
   },
   "outputs": [],
   "source": [
    "timestamps = pd.read_sql(\"select distinct record_time from EBAY_TOP_BERLIN order by record_time desc limit 2\", sqlite3.connect(\"UsedObjects.db\"))"
   ]
  },
  {
   "cell_type": "code",
   "execution_count": 3,
   "id": "periodic-identification",
   "metadata": {
    "execution": {
     "iopub.execute_input": "2021-10-24T11:00:08.984615Z",
     "iopub.status.busy": "2021-10-24T11:00:08.979295Z",
     "iopub.status.idle": "2021-10-24T11:00:09.000384Z",
     "shell.execute_reply": "2021-10-24T11:00:09.001991Z"
    },
    "papermill": {
     "duration": 0.069927,
     "end_time": "2021-10-24T11:00:09.002464",
     "exception": false,
     "start_time": "2021-10-24T11:00:08.932537",
     "status": "completed"
    },
    "tags": []
   },
   "outputs": [
    {
     "data": {
      "text/html": [
       "<div>\n",
       "<style scoped>\n",
       "    .dataframe tbody tr th:only-of-type {\n",
       "        vertical-align: middle;\n",
       "    }\n",
       "\n",
       "    .dataframe tbody tr th {\n",
       "        vertical-align: top;\n",
       "    }\n",
       "\n",
       "    .dataframe thead th {\n",
       "        text-align: right;\n",
       "    }\n",
       "</style>\n",
       "<table border=\"1\" class=\"dataframe\">\n",
       "  <thead>\n",
       "    <tr style=\"text-align: right;\">\n",
       "      <th></th>\n",
       "      <th>RECORD_TIME</th>\n",
       "    </tr>\n",
       "  </thead>\n",
       "  <tbody>\n",
       "    <tr>\n",
       "      <th>0</th>\n",
       "      <td>2021-10-24 13:00</td>\n",
       "    </tr>\n",
       "    <tr>\n",
       "      <th>1</th>\n",
       "      <td>2021-10-24 12:30</td>\n",
       "    </tr>\n",
       "  </tbody>\n",
       "</table>\n",
       "</div>"
      ],
      "text/plain": [
       "        RECORD_TIME\n",
       "0  2021-10-24 13:00\n",
       "1  2021-10-24 12:30"
      ]
     },
     "execution_count": 3,
     "metadata": {},
     "output_type": "execute_result"
    }
   ],
   "source": [
    "timestamps"
   ]
  },
  {
   "cell_type": "code",
   "execution_count": 4,
   "id": "alternate-victory",
   "metadata": {
    "execution": {
     "iopub.execute_input": "2021-10-24T11:00:09.054969Z",
     "iopub.status.busy": "2021-10-24T11:00:09.052924Z",
     "iopub.status.idle": "2021-10-24T11:00:09.985635Z",
     "shell.execute_reply": "2021-10-24T11:00:09.986866Z"
    },
    "papermill": {
     "duration": 0.963208,
     "end_time": "2021-10-24T11:00:09.987261",
     "exception": false,
     "start_time": "2021-10-24T11:00:09.024053",
     "status": "completed"
    },
    "tags": []
   },
   "outputs": [],
   "source": [
    "df = pd.read_sql(\"select * from EBAY_TOP_BERLIN where record_time in (select distinct record_time from EBAY_TOP_BERLIN order by record_time desc limit 2)\", sqlite3.connect(\"UsedObjects.db\"))"
   ]
  },
  {
   "cell_type": "code",
   "execution_count": 5,
   "id": "popular-active",
   "metadata": {
    "execution": {
     "iopub.execute_input": "2021-10-24T11:00:10.050748Z",
     "iopub.status.busy": "2021-10-24T11:00:10.044309Z",
     "iopub.status.idle": "2021-10-24T11:00:10.072212Z",
     "shell.execute_reply": "2021-10-24T11:00:10.073647Z"
    },
    "papermill": {
     "duration": 0.066235,
     "end_time": "2021-10-24T11:00:10.074064",
     "exception": false,
     "start_time": "2021-10-24T11:00:10.007829",
     "status": "completed"
    },
    "tags": []
   },
   "outputs": [],
   "source": [
    "df_pivot = df.pivot_table(index=\"PRODUCT\", columns = \"RECORD_TIME\", values = \"LISTING_COUNT\")"
   ]
  },
  {
   "cell_type": "code",
   "execution_count": 6,
   "id": "union-huntington",
   "metadata": {
    "execution": {
     "iopub.execute_input": "2021-10-24T11:00:10.132520Z",
     "iopub.status.busy": "2021-10-24T11:00:10.130095Z",
     "iopub.status.idle": "2021-10-24T11:00:10.135880Z",
     "shell.execute_reply": "2021-10-24T11:00:10.137345Z"
    },
    "papermill": {
     "duration": 0.042339,
     "end_time": "2021-10-24T11:00:10.137804",
     "exception": false,
     "start_time": "2021-10-24T11:00:10.095465",
     "status": "completed"
    },
    "tags": []
   },
   "outputs": [],
   "source": [
    "df_pivot.columns = [\"stamp_1\", \"stamp_2\"]\n",
    "df_pivot_diff = df_pivot.diff(axis=1)"
   ]
  },
  {
   "cell_type": "code",
   "execution_count": 7,
   "id": "fifth-motion",
   "metadata": {
    "execution": {
     "iopub.execute_input": "2021-10-24T11:00:10.192141Z",
     "iopub.status.busy": "2021-10-24T11:00:10.189717Z",
     "iopub.status.idle": "2021-10-24T11:00:11.663959Z",
     "shell.execute_reply": "2021-10-24T11:00:11.665605Z"
    },
    "papermill": {
     "duration": 1.507551,
     "end_time": "2021-10-24T11:00:11.666110",
     "exception": false,
     "start_time": "2021-10-24T11:00:10.158559",
     "status": "completed"
    },
    "tags": []
   },
   "outputs": [
    {
     "data": {
      "text/plain": [
       "<AxesSubplot:ylabel='PRODUCT'>"
      ]
     },
     "execution_count": 7,
     "metadata": {},
     "output_type": "execute_result"
    },
    {
     "data": {
      "image/png": "[encoded data removed]",
      "text/plain": [
       "<Figure size 432x288 with 1 Axes>"
      ]
     },
     "metadata": {
      "needs_background": "light"
     },
     "output_type": "display_data"
    }
   ],
   "source": [
    "df_pivot_diff.sort_values(\"stamp_2\", ascending = False)[\"stamp_2\"].head(10).plot.barh()"
   ]
  },
  {
   "cell_type": "code",
   "execution_count": null,
   "id": "extra-executive",
   "metadata": {
    "papermill": {
     "duration": 0.022282,
     "end_time": "2021-10-24T11:00:11.713555",
     "exception": false,
     "start_time": "2021-10-24T11:00:11.691273",
     "status": "completed"
    },
    "tags": []
   },
   "outputs": [],
   "source": []
  }
 ],
 "metadata": {
  "kernelspec": {
   "display_name": "Python 3",
   "language": "python",
   "name": "python3"
  },
  "language_info": {
   "codemirror_mode": {
    "name": "ipython",
    "version": 3
   },
   "file_extension": ".py",
   "mimetype": "text/x-python",
   "name": "python",
   "nbconvert_exporter": "python",
   "pygments_lexer": "ipython3",
   "version": "3.9.5"
  },
  "papermill": {
   "default_parameters": {},
   "duration": 7.396278,
   "end_time": "2021-10-24T11:00:12.355319",
   "environment_variables": {},
   "exception": null,
   "input_path": "eBay_Overview.ipynb",
   "output_path": "eBay_Overview.ipynb",
   "parameters": {},
   "start_time": "2021-10-24T11:00:04.959041",
   "version": "2.3.3"
  }
 },
 "nbformat": 4,
 "nbformat_minor": 5
}