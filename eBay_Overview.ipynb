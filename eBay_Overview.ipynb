{
 "cells": [
  {
   "cell_type": "code",
   "execution_count": 1,
   "id": "reverse-picking",
   "metadata": {
    "execution": {
     "iopub.execute_input": "2021-10-19T21:00:07.059077Z",
     "iopub.status.busy": "2021-10-19T21:00:07.057041Z",
     "iopub.status.idle": "2021-10-19T21:00:07.864855Z",
     "shell.execute_reply": "2021-10-19T21:00:07.866418Z"
    },
    "papermill": {
     "duration": 0.857962,
     "end_time": "2021-10-19T21:00:07.867126",
     "exception": false,
     "start_time": "2021-10-19T21:00:07.009164",
     "status": "completed"
    },
    "tags": []
   },
   "outputs": [],
   "source": [
    "import pandas as pd\n",
    "import sqlite3"
   ]
  },
  {
   "cell_type": "code",
   "execution_count": 2,
   "id": "innovative-syndrome",
   "metadata": {
    "execution": {
     "iopub.execute_input": "2021-10-19T21:00:07.918559Z",
     "iopub.status.busy": "2021-10-19T21:00:07.916157Z",
     "iopub.status.idle": "2021-10-19T21:00:08.487636Z",
     "shell.execute_reply": "2021-10-19T21:00:08.489112Z"
    },
    "papermill": {
     "duration": 0.601769,
     "end_time": "2021-10-19T21:00:08.489572",
     "exception": false,
     "start_time": "2021-10-19T21:00:07.887803",
     "status": "completed"
    },
    "tags": []
   },
   "outputs": [],
   "source": [
    "timestamps = pd.read_sql(\"select distinct record_time from EBAY_TOP_BERLIN order by record_time desc limit 2\", sqlite3.connect(\"UsedObjects.db\"))"
   ]
  },
  {
   "cell_type": "code",
   "execution_count": 3,
   "id": "periodic-identification",
   "metadata": {
    "execution": {
     "iopub.execute_input": "2021-10-19T21:00:08.562994Z",
     "iopub.status.busy": "2021-10-19T21:00:08.560955Z",
     "iopub.status.idle": "2021-10-19T21:00:08.580546Z",
     "shell.execute_reply": "2021-10-19T21:00:08.581892Z"
    },
    "papermill": {
     "duration": 0.066959,
     "end_time": "2021-10-19T21:00:08.582298",
     "exception": false,
     "start_time": "2021-10-19T21:00:08.515339",
     "status": "completed"
    },
    "tags": []
   },
   "outputs": [
    {
     "data": {
      "text/html": [
       "<div>\n",
       "<style scoped>\n",
       "    .dataframe tbody tr th:only-of-type {\n",
       "        vertical-align: middle;\n",
       "    }\n",
       "\n",
       "    .dataframe tbody tr th {\n",
       "        vertical-align: top;\n",
       "    }\n",
       "\n",
       "    .dataframe thead th {\n",
       "        text-align: right;\n",
       "    }\n",
       "</style>\n",
       "<table border=\"1\" class=\"dataframe\">\n",
       "  <thead>\n",
       "    <tr style=\"text-align: right;\">\n",
       "      <th></th>\n",
       "      <th>RECORD_TIME</th>\n",
       "    </tr>\n",
       "  </thead>\n",
       "  <tbody>\n",
       "    <tr>\n",
       "      <th>0</th>\n",
       "      <td>2021-10-19 23:00</td>\n",
       "    </tr>\n",
       "    <tr>\n",
       "      <th>1</th>\n",
       "      <td>2021-10-19 22:30</td>\n",
       "    </tr>\n",
       "  </tbody>\n",
       "</table>\n",
       "</div>"
      ],
      "text/plain": [
       "        RECORD_TIME\n",
       "0  2021-10-19 23:00\n",
       "1  2021-10-19 22:30"
      ]
     },
     "execution_count": 3,
     "metadata": {},
     "output_type": "execute_result"
    }
   ],
   "source": [
    "timestamps"
   ]
  },
  {
   "cell_type": "code",
   "execution_count": 4,
   "id": "alternate-victory",
   "metadata": {
    "execution": {
     "iopub.execute_input": "2021-10-19T21:00:08.634376Z",
     "iopub.status.busy": "2021-10-19T21:00:08.632409Z",
     "iopub.status.idle": "2021-10-19T21:00:09.481417Z",
     "shell.execute_reply": "2021-10-19T21:00:09.482721Z"
    },
    "papermill": {
     "duration": 0.879009,
     "end_time": "2021-10-19T21:00:09.483129",
     "exception": false,
     "start_time": "2021-10-19T21:00:08.604120",
     "status": "completed"
    },
    "tags": []
   },
   "outputs": [],
   "source": [
    "df = pd.read_sql(\"select * from EBAY_TOP_BERLIN where record_time in (select distinct record_time from EBAY_TOP_BERLIN order by record_time desc limit 2)\", sqlite3.connect(\"UsedObjects.db\"))"
   ]
  },
  {
   "cell_type": "code",
   "execution_count": 5,
   "id": "popular-active",
   "metadata": {
    "execution": {
     "iopub.execute_input": "2021-10-19T21:00:09.553743Z",
     "iopub.status.busy": "2021-10-19T21:00:09.542101Z",
     "iopub.status.idle": "2021-10-19T21:00:09.570388Z",
     "shell.execute_reply": "2021-10-19T21:00:09.571614Z"
    },
    "papermill": {
     "duration": 0.0682,
     "end_time": "2021-10-19T21:00:09.572015",
     "exception": false,
     "start_time": "2021-10-19T21:00:09.503815",
     "status": "completed"
    },
    "tags": []
   },
   "outputs": [],
   "source": [
    "df_pivot = df.pivot_table(index=\"PRODUCT\", columns = \"RECORD_TIME\", values = \"LISTING_COUNT\")"
   ]
  },
  {
   "cell_type": "code",
   "execution_count": 6,
   "id": "union-huntington",
   "metadata": {
    "execution": {
     "iopub.execute_input": "2021-10-19T21:00:09.628388Z",
     "iopub.status.busy": "2021-10-19T21:00:09.626345Z",
     "iopub.status.idle": "2021-10-19T21:00:09.631570Z",
     "shell.execute_reply": "2021-10-19T21:00:09.632940Z"
    },
    "papermill": {
     "duration": 0.04037,
     "end_time": "2021-10-19T21:00:09.633370",
     "exception": false,
     "start_time": "2021-10-19T21:00:09.593000",
     "status": "completed"
    },
    "tags": []
   },
   "outputs": [],
   "source": [
    "df_pivot.columns = [\"stamp_1\", \"stamp_2\"]\n",
    "df_pivot_diff = df_pivot.diff(axis=1)"
   ]
  },
  {
   "cell_type": "code",
   "execution_count": 7,
   "id": "fifth-motion",
   "metadata": {
    "execution": {
     "iopub.execute_input": "2021-10-19T21:00:09.688612Z",
     "iopub.status.busy": "2021-10-19T21:00:09.686242Z",
     "iopub.status.idle": "2021-10-19T21:00:11.200143Z",
     "shell.execute_reply": "2021-10-19T21:00:11.201928Z"
    },
    "papermill": {
     "duration": 1.547472,
     "end_time": "2021-10-19T21:00:11.202469",
     "exception": false,
     "start_time": "2021-10-19T21:00:09.654997",
     "status": "completed"
    },
    "tags": []
   },
   "outputs": [
    {
     "data": {
      "text/plain": [
       "<AxesSubplot:ylabel='PRODUCT'>"
      ]
     },
     "execution_count": 7,
     "metadata": {},
     "output_type": "execute_result"
    },
    {
     "data": {
      "image/png": "[encoded data removed]",
      "text/plain": [
       "<Figure size 432x288 with 1 Axes>"
      ]
     },
     "metadata": {
      "needs_background": "light"
     },
     "output_type": "display_data"
    }
   ],
   "source": [
    "df_pivot_diff.sort_values(\"stamp_2\", ascending = False)[\"stamp_2\"].head(10).plot.barh()"
   ]
  },
  {
   "cell_type": "code",
   "execution_count": null,
   "id": "extra-executive",
   "metadata": {
    "papermill": {
     "duration": 0.02224,
     "end_time": "2021-10-19T21:00:11.249413",
     "exception": false,
     "start_time": "2021-10-19T21:00:11.227173",
     "status": "completed"
    },
    "tags": []
   },
   "outputs": [],
   "source": []
  }
 ],
 "metadata": {
  "kernelspec": {
   "display_name": "Python 3",
   "language": "python",
   "name": "python3"
  },
  "language_info": {
   "codemirror_mode": {
    "name": "ipython",
    "version": 3
   },
   "file_extension": ".py",
   "mimetype": "text/x-python",
   "name": "python",
   "nbconvert_exporter": "python",
   "pygments_lexer": "ipython3",
   "version": "3.9.5"
  },
  "papermill": {
   "default_parameters": {},
   "duration": 7.819577,
   "end_time": "2021-10-19T21:00:12.425348",
   "environment_variables": {},
   "exception": null,
   "input_path": "eBay_Overview.ipynb",
   "output_path": "eBay_Overview.ipynb",
   "parameters": {},
   "start_time": "2021-10-19T21:00:04.605771",
   "version": "2.3.3"
  }
 },
 "nbformat": 4,
 "nbformat_minor": 5
}