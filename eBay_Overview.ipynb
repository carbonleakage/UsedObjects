{
 "cells": [
  {
   "cell_type": "code",
   "execution_count": 1,
   "id": "reverse-picking",
   "metadata": {
    "execution": {
     "iopub.execute_input": "2021-12-19T06:30:07.899322Z",
     "iopub.status.busy": "2021-12-19T06:30:07.896885Z",
     "iopub.status.idle": "2021-12-19T06:30:08.857671Z",
     "shell.execute_reply": "2021-12-19T06:30:08.859390Z"
    },
    "papermill": {
     "duration": 1.012823,
     "end_time": "2021-12-19T06:30:08.860141",
     "exception": false,
     "start_time": "2021-12-19T06:30:07.847318",
     "status": "completed"
    },
    "tags": []
   },
   "outputs": [],
   "source": [
    "import pandas as pd\n",
    "import sqlite3"
   ]
  },
  {
   "cell_type": "code",
   "execution_count": 2,
   "id": "innovative-syndrome",
   "metadata": {
    "execution": {
     "iopub.execute_input": "2021-12-19T06:30:08.923962Z",
     "iopub.status.busy": "2021-12-19T06:30:08.921612Z",
     "iopub.status.idle": "2021-12-19T06:30:10.049093Z",
     "shell.execute_reply": "2021-12-19T06:30:10.050457Z"
    },
    "papermill": {
     "duration": 1.161096,
     "end_time": "2021-12-19T06:30:10.050866",
     "exception": false,
     "start_time": "2021-12-19T06:30:08.889770",
     "status": "completed"
    },
    "tags": []
   },
   "outputs": [],
   "source": [
    "timestamps = pd.read_sql(\"select distinct record_time from EBAY_TOP_BERLIN order by record_time desc limit 2\", sqlite3.connect(\"UsedObjects.db\"))"
   ]
  },
  {
   "cell_type": "code",
   "execution_count": 3,
   "id": "periodic-identification",
   "metadata": {
    "execution": {
     "iopub.execute_input": "2021-12-19T06:30:10.118527Z",
     "iopub.status.busy": "2021-12-19T06:30:10.116420Z",
     "iopub.status.idle": "2021-12-19T06:30:10.137183Z",
     "shell.execute_reply": "2021-12-19T06:30:10.138417Z"
    },
    "papermill": {
     "duration": 0.067283,
     "end_time": "2021-12-19T06:30:10.138855",
     "exception": false,
     "start_time": "2021-12-19T06:30:10.071572",
     "status": "completed"
    },
    "tags": []
   },
   "outputs": [
    {
     "data": {
      "text/html": [
       "<div>\n",
       "<style scoped>\n",
       "    .dataframe tbody tr th:only-of-type {\n",
       "        vertical-align: middle;\n",
       "    }\n",
       "\n",
       "    .dataframe tbody tr th {\n",
       "        vertical-align: top;\n",
       "    }\n",
       "\n",
       "    .dataframe thead th {\n",
       "        text-align: right;\n",
       "    }\n",
       "</style>\n",
       "<table border=\"1\" class=\"dataframe\">\n",
       "  <thead>\n",
       "    <tr style=\"text-align: right;\">\n",
       "      <th></th>\n",
       "      <th>RECORD_TIME</th>\n",
       "    </tr>\n",
       "  </thead>\n",
       "  <tbody>\n",
       "    <tr>\n",
       "      <th>0</th>\n",
       "      <td>2021-12-19 07:30</td>\n",
       "    </tr>\n",
       "    <tr>\n",
       "      <th>1</th>\n",
       "      <td>2021-12-19 07:00</td>\n",
       "    </tr>\n",
       "  </tbody>\n",
       "</table>\n",
       "</div>"
      ],
      "text/plain": [
       "        RECORD_TIME\n",
       "0  2021-12-19 07:30\n",
       "1  2021-12-19 07:00"
      ]
     },
     "execution_count": 3,
     "metadata": {},
     "output_type": "execute_result"
    }
   ],
   "source": [
    "timestamps"
   ]
  },
  {
   "cell_type": "code",
   "execution_count": 4,
   "id": "alternate-victory",
   "metadata": {
    "execution": {
     "iopub.execute_input": "2021-12-19T06:30:10.194202Z",
     "iopub.status.busy": "2021-12-19T06:30:10.191778Z",
     "iopub.status.idle": "2021-12-19T06:30:11.836601Z",
     "shell.execute_reply": "2021-12-19T06:30:11.838171Z"
    },
    "papermill": {
     "duration": 1.677051,
     "end_time": "2021-12-19T06:30:11.838644",
     "exception": false,
     "start_time": "2021-12-19T06:30:10.161593",
     "status": "completed"
    },
    "tags": []
   },
   "outputs": [],
   "source": [
    "df = pd.read_sql(\"select * from EBAY_TOP_BERLIN where record_time in (select distinct record_time from EBAY_TOP_BERLIN order by record_time desc limit 2)\", sqlite3.connect(\"UsedObjects.db\"))"
   ]
  },
  {
   "cell_type": "code",
   "execution_count": 5,
   "id": "popular-active",
   "metadata": {
    "execution": {
     "iopub.execute_input": "2021-12-19T06:30:11.906211Z",
     "iopub.status.busy": "2021-12-19T06:30:11.899183Z",
     "iopub.status.idle": "2021-12-19T06:30:11.930523Z",
     "shell.execute_reply": "2021-12-19T06:30:11.931921Z"
    },
    "papermill": {
     "duration": 0.073168,
     "end_time": "2021-12-19T06:30:11.932406",
     "exception": false,
     "start_time": "2021-12-19T06:30:11.859238",
     "status": "completed"
    },
    "tags": []
   },
   "outputs": [],
   "source": [
    "df_pivot = df.pivot_table(index=\"PRODUCT\", columns = \"RECORD_TIME\", values = \"LISTING_COUNT\")"
   ]
  },
  {
   "cell_type": "code",
   "execution_count": 6,
   "id": "union-huntington",
   "metadata": {
    "execution": {
     "iopub.execute_input": "2021-12-19T06:30:11.994462Z",
     "iopub.status.busy": "2021-12-19T06:30:11.992186Z",
     "iopub.status.idle": "2021-12-19T06:30:11.997266Z",
     "shell.execute_reply": "2021-12-19T06:30:11.998740Z"
    },
    "papermill": {
     "duration": 0.045865,
     "end_time": "2021-12-19T06:30:11.999218",
     "exception": false,
     "start_time": "2021-12-19T06:30:11.953353",
     "status": "completed"
    },
    "tags": []
   },
   "outputs": [],
   "source": [
    "df_pivot.columns = [\"stamp_1\", \"stamp_2\"]\n",
    "df_pivot_diff = df_pivot.diff(axis=1)"
   ]
  },
  {
   "cell_type": "code",
   "execution_count": 7,
   "id": "fifth-motion",
   "metadata": {
    "execution": {
     "iopub.execute_input": "2021-12-19T06:30:12.055669Z",
     "iopub.status.busy": "2021-12-19T06:30:12.053195Z",
     "iopub.status.idle": "2021-12-19T06:30:14.073524Z",
     "shell.execute_reply": "2021-12-19T06:30:14.075029Z"
    },
    "papermill": {
     "duration": 2.055895,
     "end_time": "2021-12-19T06:30:14.075480",
     "exception": false,
     "start_time": "2021-12-19T06:30:12.019585",
     "status": "completed"
    },
    "tags": []
   },
   "outputs": [
    {
     "data": {
      "text/plain": [
       "<AxesSubplot:ylabel='PRODUCT'>"
      ]
     },
     "execution_count": 7,
     "metadata": {},
     "output_type": "execute_result"
    },
    {
     "data": {
      "image/png": "[encoded data removed]",
      "text/plain": [
       "<Figure size 432x288 with 1 Axes>"
      ]
     },
     "metadata": {
      "needs_background": "light"
     },
     "output_type": "display_data"
    }
   ],
   "source": [
    "df_pivot_diff.sort_values(\"stamp_2\", ascending = False)[\"stamp_2\"].head(10).plot.barh()"
   ]
  },
  {
   "cell_type": "code",
   "execution_count": null,
   "id": "extra-executive",
   "metadata": {
    "papermill": {
     "duration": 0.026949,
     "end_time": "2021-12-19T06:30:14.135619",
     "exception": false,
     "start_time": "2021-12-19T06:30:14.108670",
     "status": "completed"
    },
    "tags": []
   },
   "outputs": [],
   "source": []
  }
 ],
 "metadata": {
  "kernelspec": {
   "display_name": "Python 3",
   "language": "python",
   "name": "python3"
  },
  "language_info": {
   "codemirror_mode": {
    "name": "ipython",
    "version": 3
   },
   "file_extension": ".py",
   "mimetype": "text/x-python",
   "name": "python",
   "nbconvert_exporter": "python",
   "pygments_lexer": "ipython3",
   "version": "3.9.5"
  },
  "papermill": {
   "default_parameters": {},
   "duration": 9.670229,
   "end_time": "2021-12-19T06:30:14.783381",
   "environment_variables": {},
   "exception": null,
   "input_path": "eBay_Overview.ipynb",
   "output_path": "eBay_Overview.ipynb",
   "parameters": {},
   "start_time": "2021-12-19T06:30:05.113152",
   "version": "2.3.3"
  }
 },
 "nbformat": 4,
 "nbformat_minor": 5
}