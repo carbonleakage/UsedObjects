{
 "cells": [
  {
   "cell_type": "code",
   "execution_count": 1,
   "id": "reverse-picking",
   "metadata": {
    "execution": {
     "iopub.execute_input": "2021-10-17T06:30:07.381441Z",
     "iopub.status.busy": "2021-10-17T06:30:07.379314Z",
     "iopub.status.idle": "2021-10-17T06:30:08.188660Z",
     "shell.execute_reply": "2021-10-17T06:30:08.190051Z"
    },
    "papermill": {
     "duration": 0.861547,
     "end_time": "2021-10-17T06:30:08.190680",
     "exception": false,
     "start_time": "2021-10-17T06:30:07.329133",
     "status": "completed"
    },
    "tags": []
   },
   "outputs": [],
   "source": [
    "import pandas as pd\n",
    "import sqlite3"
   ]
  },
  {
   "cell_type": "code",
   "execution_count": 2,
   "id": "innovative-syndrome",
   "metadata": {
    "execution": {
     "iopub.execute_input": "2021-10-17T06:30:08.244297Z",
     "iopub.status.busy": "2021-10-17T06:30:08.241966Z",
     "iopub.status.idle": "2021-10-17T06:30:08.803603Z",
     "shell.execute_reply": "2021-10-17T06:30:08.805055Z"
    },
    "papermill": {
     "duration": 0.59169,
     "end_time": "2021-10-17T06:30:08.805512",
     "exception": false,
     "start_time": "2021-10-17T06:30:08.213822",
     "status": "completed"
    },
    "tags": []
   },
   "outputs": [],
   "source": [
    "timestamps = pd.read_sql(\"select distinct record_time from EBAY_TOP_BERLIN order by record_time desc limit 2\", sqlite3.connect(\"UsedObjects.db\"))"
   ]
  },
  {
   "cell_type": "code",
   "execution_count": 3,
   "id": "periodic-identification",
   "metadata": {
    "execution": {
     "iopub.execute_input": "2021-10-17T06:30:08.881104Z",
     "iopub.status.busy": "2021-10-17T06:30:08.878958Z",
     "iopub.status.idle": "2021-10-17T06:30:08.899082Z",
     "shell.execute_reply": "2021-10-17T06:30:08.900348Z"
    },
    "papermill": {
     "duration": 0.069642,
     "end_time": "2021-10-17T06:30:08.900852",
     "exception": false,
     "start_time": "2021-10-17T06:30:08.831210",
     "status": "completed"
    },
    "tags": []
   },
   "outputs": [
    {
     "data": {
      "text/html": [
       "<div>\n",
       "<style scoped>\n",
       "    .dataframe tbody tr th:only-of-type {\n",
       "        vertical-align: middle;\n",
       "    }\n",
       "\n",
       "    .dataframe tbody tr th {\n",
       "        vertical-align: top;\n",
       "    }\n",
       "\n",
       "    .dataframe thead th {\n",
       "        text-align: right;\n",
       "    }\n",
       "</style>\n",
       "<table border=\"1\" class=\"dataframe\">\n",
       "  <thead>\n",
       "    <tr style=\"text-align: right;\">\n",
       "      <th></th>\n",
       "      <th>RECORD_TIME</th>\n",
       "    </tr>\n",
       "  </thead>\n",
       "  <tbody>\n",
       "    <tr>\n",
       "      <th>0</th>\n",
       "      <td>2021-10-17 08:30</td>\n",
       "    </tr>\n",
       "    <tr>\n",
       "      <th>1</th>\n",
       "      <td>2021-10-17 08:00</td>\n",
       "    </tr>\n",
       "  </tbody>\n",
       "</table>\n",
       "</div>"
      ],
      "text/plain": [
       "        RECORD_TIME\n",
       "0  2021-10-17 08:30\n",
       "1  2021-10-17 08:00"
      ]
     },
     "execution_count": 3,
     "metadata": {},
     "output_type": "execute_result"
    }
   ],
   "source": [
    "timestamps"
   ]
  },
  {
   "cell_type": "code",
   "execution_count": 4,
   "id": "alternate-victory",
   "metadata": {
    "execution": {
     "iopub.execute_input": "2021-10-17T06:30:08.952996Z",
     "iopub.status.busy": "2021-10-17T06:30:08.950941Z",
     "iopub.status.idle": "2021-10-17T06:30:09.767226Z",
     "shell.execute_reply": "2021-10-17T06:30:09.768446Z"
    },
    "papermill": {
     "duration": 0.84675,
     "end_time": "2021-10-17T06:30:09.768891",
     "exception": false,
     "start_time": "2021-10-17T06:30:08.922141",
     "status": "completed"
    },
    "tags": []
   },
   "outputs": [],
   "source": [
    "df = pd.read_sql(\"select * from EBAY_TOP_BERLIN where record_time in (select distinct record_time from EBAY_TOP_BERLIN order by record_time desc limit 2)\", sqlite3.connect(\"UsedObjects.db\"))"
   ]
  },
  {
   "cell_type": "code",
   "execution_count": 5,
   "id": "popular-active",
   "metadata": {
    "execution": {
     "iopub.execute_input": "2021-10-17T06:30:09.839453Z",
     "iopub.status.busy": "2021-10-17T06:30:09.827078Z",
     "iopub.status.idle": "2021-10-17T06:30:09.859491Z",
     "shell.execute_reply": "2021-10-17T06:30:09.860868Z"
    },
    "papermill": {
     "duration": 0.071298,
     "end_time": "2021-10-17T06:30:09.861298",
     "exception": false,
     "start_time": "2021-10-17T06:30:09.790000",
     "status": "completed"
    },
    "tags": []
   },
   "outputs": [],
   "source": [
    "df_pivot = df.pivot_table(index=\"PRODUCT\", columns = \"RECORD_TIME\", values = \"LISTING_COUNT\")"
   ]
  },
  {
   "cell_type": "code",
   "execution_count": 6,
   "id": "union-huntington",
   "metadata": {
    "execution": {
     "iopub.execute_input": "2021-10-17T06:30:09.917605Z",
     "iopub.status.busy": "2021-10-17T06:30:09.915518Z",
     "iopub.status.idle": "2021-10-17T06:30:09.920990Z",
     "shell.execute_reply": "2021-10-17T06:30:09.922188Z"
    },
    "papermill": {
     "duration": 0.040988,
     "end_time": "2021-10-17T06:30:09.922612",
     "exception": false,
     "start_time": "2021-10-17T06:30:09.881624",
     "status": "completed"
    },
    "tags": []
   },
   "outputs": [],
   "source": [
    "df_pivot.columns = [\"stamp_1\", \"stamp_2\"]\n",
    "df_pivot_diff = df_pivot.diff(axis=1)"
   ]
  },
  {
   "cell_type": "code",
   "execution_count": 7,
   "id": "fifth-motion",
   "metadata": {
    "execution": {
     "iopub.execute_input": "2021-10-17T06:30:09.976490Z",
     "iopub.status.busy": "2021-10-17T06:30:09.974081Z",
     "iopub.status.idle": "2021-10-17T06:30:11.479307Z",
     "shell.execute_reply": "2021-10-17T06:30:11.480745Z"
    },
    "papermill": {
     "duration": 1.538345,
     "end_time": "2021-10-17T06:30:11.481228",
     "exception": false,
     "start_time": "2021-10-17T06:30:09.942883",
     "status": "completed"
    },
    "tags": []
   },
   "outputs": [
    {
     "data": {
      "text/plain": [
       "<AxesSubplot:ylabel='PRODUCT'>"
      ]
     },
     "execution_count": 7,
     "metadata": {},
     "output_type": "execute_result"
    },
    {
     "data": {
      "image/png": "[encoded data removed]",
      "text/plain": [
       "<Figure size 432x288 with 1 Axes>"
      ]
     },
     "metadata": {
      "needs_background": "light"
     },
     "output_type": "display_data"
    }
   ],
   "source": [
    "df_pivot_diff.sort_values(\"stamp_2\", ascending = False)[\"stamp_2\"].head(10).plot.barh()"
   ]
  },
  {
   "cell_type": "code",
   "execution_count": null,
   "id": "extra-executive",
   "metadata": {
    "papermill": {
     "duration": 0.022248,
     "end_time": "2021-10-17T06:30:11.528370",
     "exception": false,
     "start_time": "2021-10-17T06:30:11.506122",
     "status": "completed"
    },
    "tags": []
   },
   "outputs": [],
   "source": []
  }
 ],
 "metadata": {
  "kernelspec": {
   "display_name": "Python 3",
   "language": "python",
   "name": "python3"
  },
  "language_info": {
   "codemirror_mode": {
    "name": "ipython",
    "version": 3
   },
   "file_extension": ".py",
   "mimetype": "text/x-python",
   "name": "python",
   "nbconvert_exporter": "python",
   "pygments_lexer": "ipython3",
   "version": "3.9.5"
  },
  "papermill": {
   "default_parameters": {},
   "duration": 7.819432,
   "end_time": "2021-10-17T06:30:12.744909",
   "environment_variables": {},
   "exception": null,
   "input_path": "eBay_Overview.ipynb",
   "output_path": "eBay_Overview.ipynb",
   "parameters": {},
   "start_time": "2021-10-17T06:30:04.925477",
   "version": "2.3.3"
  }
 },
 "nbformat": 4,
 "nbformat_minor": 5
}