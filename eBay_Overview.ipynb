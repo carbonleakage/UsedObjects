{
 "cells": [
  {
   "cell_type": "code",
   "execution_count": 1,
   "id": "reverse-picking",
   "metadata": {
    "execution": {
     "iopub.execute_input": "2021-09-27T12:00:07.304453Z",
     "iopub.status.busy": "2021-09-27T12:00:07.302432Z",
     "iopub.status.idle": "2021-09-27T12:00:08.109679Z",
     "shell.execute_reply": "2021-09-27T12:00:08.110991Z"
    },
    "papermill": {
     "duration": 0.858808,
     "end_time": "2021-09-27T12:00:08.111667",
     "exception": false,
     "start_time": "2021-09-27T12:00:07.252859",
     "status": "completed"
    },
    "tags": []
   },
   "outputs": [],
   "source": [
    "import pandas as pd\n",
    "import sqlite3"
   ]
  },
  {
   "cell_type": "code",
   "execution_count": 2,
   "id": "innovative-syndrome",
   "metadata": {
    "execution": {
     "iopub.execute_input": "2021-09-27T12:00:08.161707Z",
     "iopub.status.busy": "2021-09-27T12:00:08.159842Z",
     "iopub.status.idle": "2021-09-27T12:00:08.559282Z",
     "shell.execute_reply": "2021-09-27T12:00:08.560779Z"
    },
    "papermill": {
     "duration": 0.429366,
     "end_time": "2021-09-27T12:00:08.561227",
     "exception": false,
     "start_time": "2021-09-27T12:00:08.131861",
     "status": "completed"
    },
    "tags": []
   },
   "outputs": [],
   "source": [
    "timestamps = pd.read_sql(\"select distinct record_time from EBAY_TOP_BERLIN order by record_time desc limit 2\", sqlite3.connect(\"UsedObjects.db\"))"
   ]
  },
  {
   "cell_type": "code",
   "execution_count": 3,
   "id": "periodic-identification",
   "metadata": {
    "execution": {
     "iopub.execute_input": "2021-09-27T12:00:08.628420Z",
     "iopub.status.busy": "2021-09-27T12:00:08.626307Z",
     "iopub.status.idle": "2021-09-27T12:00:08.646286Z",
     "shell.execute_reply": "2021-09-27T12:00:08.647753Z"
    },
    "papermill": {
     "duration": 0.067102,
     "end_time": "2021-09-27T12:00:08.648206",
     "exception": false,
     "start_time": "2021-09-27T12:00:08.581104",
     "status": "completed"
    },
    "tags": []
   },
   "outputs": [
    {
     "data": {
      "text/html": [
       "<div>\n",
       "<style scoped>\n",
       "    .dataframe tbody tr th:only-of-type {\n",
       "        vertical-align: middle;\n",
       "    }\n",
       "\n",
       "    .dataframe tbody tr th {\n",
       "        vertical-align: top;\n",
       "    }\n",
       "\n",
       "    .dataframe thead th {\n",
       "        text-align: right;\n",
       "    }\n",
       "</style>\n",
       "<table border=\"1\" class=\"dataframe\">\n",
       "  <thead>\n",
       "    <tr style=\"text-align: right;\">\n",
       "      <th></th>\n",
       "      <th>RECORD_TIME</th>\n",
       "    </tr>\n",
       "  </thead>\n",
       "  <tbody>\n",
       "    <tr>\n",
       "      <th>0</th>\n",
       "      <td>2021-09-27 14:00</td>\n",
       "    </tr>\n",
       "    <tr>\n",
       "      <th>1</th>\n",
       "      <td>2021-09-27 13:30</td>\n",
       "    </tr>\n",
       "  </tbody>\n",
       "</table>\n",
       "</div>"
      ],
      "text/plain": [
       "        RECORD_TIME\n",
       "0  2021-09-27 14:00\n",
       "1  2021-09-27 13:30"
      ]
     },
     "execution_count": 3,
     "metadata": {},
     "output_type": "execute_result"
    }
   ],
   "source": [
    "timestamps"
   ]
  },
  {
   "cell_type": "code",
   "execution_count": 4,
   "id": "alternate-victory",
   "metadata": {
    "execution": {
     "iopub.execute_input": "2021-09-27T12:00:08.699716Z",
     "iopub.status.busy": "2021-09-27T12:00:08.697761Z",
     "iopub.status.idle": "2021-09-27T12:00:09.294269Z",
     "shell.execute_reply": "2021-09-27T12:00:09.295538Z"
    },
    "papermill": {
     "duration": 0.626273,
     "end_time": "2021-09-27T12:00:09.295941",
     "exception": false,
     "start_time": "2021-09-27T12:00:08.669668",
     "status": "completed"
    },
    "tags": []
   },
   "outputs": [],
   "source": [
    "df = pd.read_sql(\"select * from EBAY_TOP_BERLIN where record_time in (select distinct record_time from EBAY_TOP_BERLIN order by record_time desc limit 2)\", sqlite3.connect(\"UsedObjects.db\"))"
   ]
  },
  {
   "cell_type": "code",
   "execution_count": 5,
   "id": "popular-active",
   "metadata": {
    "execution": {
     "iopub.execute_input": "2021-09-27T12:00:09.366196Z",
     "iopub.status.busy": "2021-09-27T12:00:09.364544Z",
     "iopub.status.idle": "2021-09-27T12:00:09.394325Z",
     "shell.execute_reply": "2021-09-27T12:00:09.395694Z"
    },
    "papermill": {
     "duration": 0.072256,
     "end_time": "2021-09-27T12:00:09.396117",
     "exception": false,
     "start_time": "2021-09-27T12:00:09.323861",
     "status": "completed"
    },
    "tags": []
   },
   "outputs": [],
   "source": [
    "df_pivot = df.pivot_table(index=\"PRODUCT\", columns = \"RECORD_TIME\", values = \"LISTING_COUNT\")"
   ]
  },
  {
   "cell_type": "code",
   "execution_count": 6,
   "id": "union-huntington",
   "metadata": {
    "execution": {
     "iopub.execute_input": "2021-09-27T12:00:09.452074Z",
     "iopub.status.busy": "2021-09-27T12:00:09.449975Z",
     "iopub.status.idle": "2021-09-27T12:00:09.455347Z",
     "shell.execute_reply": "2021-09-27T12:00:09.456536Z"
    },
    "papermill": {
     "duration": 0.040848,
     "end_time": "2021-09-27T12:00:09.456965",
     "exception": false,
     "start_time": "2021-09-27T12:00:09.416117",
     "status": "completed"
    },
    "tags": []
   },
   "outputs": [],
   "source": [
    "df_pivot.columns = [\"stamp_1\", \"stamp_2\"]\n",
    "df_pivot_diff = df_pivot.diff(axis=1)"
   ]
  },
  {
   "cell_type": "code",
   "execution_count": 7,
   "id": "fifth-motion",
   "metadata": {
    "execution": {
     "iopub.execute_input": "2021-09-27T12:00:09.510479Z",
     "iopub.status.busy": "2021-09-27T12:00:09.508099Z",
     "iopub.status.idle": "2021-09-27T12:00:11.026220Z",
     "shell.execute_reply": "2021-09-27T12:00:11.028358Z"
    },
    "papermill": {
     "duration": 1.551756,
     "end_time": "2021-09-27T12:00:11.028979",
     "exception": false,
     "start_time": "2021-09-27T12:00:09.477223",
     "status": "completed"
    },
    "tags": []
   },
   "outputs": [
    {
     "data": {
      "text/plain": [
       "<AxesSubplot:ylabel='PRODUCT'>"
      ]
     },
     "execution_count": 7,
     "metadata": {},
     "output_type": "execute_result"
    },
    {
     "data": {
      "image/png": "[encoded data removed]",
      "text/plain": [
       "<Figure size 432x288 with 1 Axes>"
      ]
     },
     "metadata": {
      "needs_background": "light"
     },
     "output_type": "display_data"
    }
   ],
   "source": [
    "df_pivot_diff.sort_values(\"stamp_2\", ascending = False)[\"stamp_2\"].head(10).plot.barh()"
   ]
  },
  {
   "cell_type": "code",
   "execution_count": null,
   "id": "extra-executive",
   "metadata": {
    "papermill": {
     "duration": 0.022326,
     "end_time": "2021-09-27T12:00:11.076319",
     "exception": false,
     "start_time": "2021-09-27T12:00:11.053993",
     "status": "completed"
    },
    "tags": []
   },
   "outputs": [],
   "source": []
  }
 ],
 "metadata": {
  "kernelspec": {
   "display_name": "Python 3",
   "language": "python",
   "name": "python3"
  },
  "language_info": {
   "codemirror_mode": {
    "name": "ipython",
    "version": 3
   },
   "file_extension": ".py",
   "mimetype": "text/x-python",
   "name": "python",
   "nbconvert_exporter": "python",
   "pygments_lexer": "ipython3",
   "version": "3.9.5"
  },
  "papermill": {
   "default_parameters": {},
   "duration": 7.824785,
   "end_time": "2021-09-27T12:00:12.673912",
   "environment_variables": {},
   "exception": null,
   "input_path": "eBay_Overview.ipynb",
   "output_path": "eBay_Overview.ipynb",
   "parameters": {},
   "start_time": "2021-09-27T12:00:04.849127",
   "version": "2.3.3"
  }
 },
 "nbformat": 4,
 "nbformat_minor": 5
}