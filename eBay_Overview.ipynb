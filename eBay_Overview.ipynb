{
 "cells": [
  {
   "cell_type": "code",
   "execution_count": 1,
   "id": "reverse-picking",
   "metadata": {
    "execution": {
     "iopub.execute_input": "2021-11-03T03:30:07.883983Z",
     "iopub.status.busy": "2021-11-03T03:30:07.881712Z",
     "iopub.status.idle": "2021-11-03T03:30:08.826817Z",
     "shell.execute_reply": "2021-11-03T03:30:08.829266Z"
    },
    "papermill": {
     "duration": 0.994816,
     "end_time": "2021-11-03T03:30:08.830012",
     "exception": false,
     "start_time": "2021-11-03T03:30:07.835196",
     "status": "completed"
    },
    "tags": []
   },
   "outputs": [],
   "source": [
    "import pandas as pd\n",
    "import sqlite3"
   ]
  },
  {
   "cell_type": "code",
   "execution_count": 2,
   "id": "innovative-syndrome",
   "metadata": {
    "execution": {
     "iopub.execute_input": "2021-11-03T03:30:08.895643Z",
     "iopub.status.busy": "2021-11-03T03:30:08.893477Z",
     "iopub.status.idle": "2021-11-03T03:30:09.607289Z",
     "shell.execute_reply": "2021-11-03T03:30:09.608807Z"
    },
    "papermill": {
     "duration": 0.757983,
     "end_time": "2021-11-03T03:30:09.609310",
     "exception": false,
     "start_time": "2021-11-03T03:30:08.851327",
     "status": "completed"
    },
    "tags": []
   },
   "outputs": [],
   "source": [
    "timestamps = pd.read_sql(\"select distinct record_time from EBAY_TOP_BERLIN order by record_time desc limit 2\", sqlite3.connect(\"UsedObjects.db\"))"
   ]
  },
  {
   "cell_type": "code",
   "execution_count": 3,
   "id": "periodic-identification",
   "metadata": {
    "execution": {
     "iopub.execute_input": "2021-11-03T03:30:09.680368Z",
     "iopub.status.busy": "2021-11-03T03:30:09.678100Z",
     "iopub.status.idle": "2021-11-03T03:30:09.703254Z",
     "shell.execute_reply": "2021-11-03T03:30:09.701683Z"
    },
    "papermill": {
     "duration": 0.073924,
     "end_time": "2021-11-03T03:30:09.703656",
     "exception": false,
     "start_time": "2021-11-03T03:30:09.629732",
     "status": "completed"
    },
    "tags": []
   },
   "outputs": [
    {
     "data": {
      "text/html": [
       "<div>\n",
       "<style scoped>\n",
       "    .dataframe tbody tr th:only-of-type {\n",
       "        vertical-align: middle;\n",
       "    }\n",
       "\n",
       "    .dataframe tbody tr th {\n",
       "        vertical-align: top;\n",
       "    }\n",
       "\n",
       "    .dataframe thead th {\n",
       "        text-align: right;\n",
       "    }\n",
       "</style>\n",
       "<table border=\"1\" class=\"dataframe\">\n",
       "  <thead>\n",
       "    <tr style=\"text-align: right;\">\n",
       "      <th></th>\n",
       "      <th>RECORD_TIME</th>\n",
       "    </tr>\n",
       "  </thead>\n",
       "  <tbody>\n",
       "    <tr>\n",
       "      <th>0</th>\n",
       "      <td>2021-11-03 04:30</td>\n",
       "    </tr>\n",
       "    <tr>\n",
       "      <th>1</th>\n",
       "      <td>2021-11-03 04:00</td>\n",
       "    </tr>\n",
       "  </tbody>\n",
       "</table>\n",
       "</div>"
      ],
      "text/plain": [
       "        RECORD_TIME\n",
       "0  2021-11-03 04:30\n",
       "1  2021-11-03 04:00"
      ]
     },
     "execution_count": 3,
     "metadata": {},
     "output_type": "execute_result"
    }
   ],
   "source": [
    "timestamps"
   ]
  },
  {
   "cell_type": "code",
   "execution_count": 4,
   "id": "alternate-victory",
   "metadata": {
    "execution": {
     "iopub.execute_input": "2021-11-03T03:30:09.758139Z",
     "iopub.status.busy": "2021-11-03T03:30:09.755902Z",
     "iopub.status.idle": "2021-11-03T03:30:10.799017Z",
     "shell.execute_reply": "2021-11-03T03:30:10.800545Z"
    },
    "papermill": {
     "duration": 1.077196,
     "end_time": "2021-11-03T03:30:10.801115",
     "exception": false,
     "start_time": "2021-11-03T03:30:09.723919",
     "status": "completed"
    },
    "tags": []
   },
   "outputs": [],
   "source": [
    "df = pd.read_sql(\"select * from EBAY_TOP_BERLIN where record_time in (select distinct record_time from EBAY_TOP_BERLIN order by record_time desc limit 2)\", sqlite3.connect(\"UsedObjects.db\"))"
   ]
  },
  {
   "cell_type": "code",
   "execution_count": 5,
   "id": "popular-active",
   "metadata": {
    "execution": {
     "iopub.execute_input": "2021-11-03T03:30:10.869865Z",
     "iopub.status.busy": "2021-11-03T03:30:10.867514Z",
     "iopub.status.idle": "2021-11-03T03:30:10.900517Z",
     "shell.execute_reply": "2021-11-03T03:30:10.898855Z"
    },
    "papermill": {
     "duration": 0.077878,
     "end_time": "2021-11-03T03:30:10.900990",
     "exception": false,
     "start_time": "2021-11-03T03:30:10.823112",
     "status": "completed"
    },
    "tags": []
   },
   "outputs": [],
   "source": [
    "df_pivot = df.pivot_table(index=\"PRODUCT\", columns = \"RECORD_TIME\", values = \"LISTING_COUNT\")"
   ]
  },
  {
   "cell_type": "code",
   "execution_count": 6,
   "id": "union-huntington",
   "metadata": {
    "execution": {
     "iopub.execute_input": "2021-11-03T03:30:10.963014Z",
     "iopub.status.busy": "2021-11-03T03:30:10.960733Z",
     "iopub.status.idle": "2021-11-03T03:30:10.968443Z",
     "shell.execute_reply": "2021-11-03T03:30:10.966022Z"
    },
    "papermill": {
     "duration": 0.047022,
     "end_time": "2021-11-03T03:30:10.969250",
     "exception": false,
     "start_time": "2021-11-03T03:30:10.922228",
     "status": "completed"
    },
    "tags": []
   },
   "outputs": [],
   "source": [
    "df_pivot.columns = [\"stamp_1\", \"stamp_2\"]\n",
    "df_pivot_diff = df_pivot.diff(axis=1)"
   ]
  },
  {
   "cell_type": "code",
   "execution_count": 7,
   "id": "fifth-motion",
   "metadata": {
    "execution": {
     "iopub.execute_input": "2021-11-03T03:30:11.029472Z",
     "iopub.status.busy": "2021-11-03T03:30:11.026757Z",
     "iopub.status.idle": "2021-11-03T03:30:12.816970Z",
     "shell.execute_reply": "2021-11-03T03:30:12.819544Z"
    },
    "papermill": {
     "duration": 1.829192,
     "end_time": "2021-11-03T03:30:12.820332",
     "exception": false,
     "start_time": "2021-11-03T03:30:10.991140",
     "status": "completed"
    },
    "tags": []
   },
   "outputs": [
    {
     "data": {
      "text/plain": [
       "<AxesSubplot:ylabel='PRODUCT'>"
      ]
     },
     "execution_count": 7,
     "metadata": {},
     "output_type": "execute_result"
    },
    {
     "data": {
      "image/png": "[encoded data removed]",
      "text/plain": [
       "<Figure size 432x288 with 1 Axes>"
      ]
     },
     "metadata": {
      "needs_background": "light"
     },
     "output_type": "display_data"
    }
   ],
   "source": [
    "df_pivot_diff.sort_values(\"stamp_2\", ascending = False)[\"stamp_2\"].head(10).plot.barh()"
   ]
  },
  {
   "cell_type": "code",
   "execution_count": null,
   "id": "extra-executive",
   "metadata": {
    "papermill": {
     "duration": 0.03445,
     "end_time": "2021-11-03T03:30:12.890840",
     "exception": false,
     "start_time": "2021-11-03T03:30:12.856390",
     "status": "completed"
    },
    "tags": []
   },
   "outputs": [],
   "source": []
  }
 ],
 "metadata": {
  "kernelspec": {
   "display_name": "Python 3",
   "language": "python",
   "name": "python3"
  },
  "language_info": {
   "codemirror_mode": {
    "name": "ipython",
    "version": 3
   },
   "file_extension": ".py",
   "mimetype": "text/x-python",
   "name": "python",
   "nbconvert_exporter": "python",
   "pygments_lexer": "ipython3",
   "version": "3.9.5"
  },
  "papermill": {
   "default_parameters": {},
   "duration": 8.716614,
   "end_time": "2021-11-03T03:30:13.762604",
   "environment_variables": {},
   "exception": null,
   "input_path": "eBay_Overview.ipynb",
   "output_path": "eBay_Overview.ipynb",
   "parameters": {},
   "start_time": "2021-11-03T03:30:05.045990",
   "version": "2.3.3"
  }
 },
 "nbformat": 4,
 "nbformat_minor": 5
}