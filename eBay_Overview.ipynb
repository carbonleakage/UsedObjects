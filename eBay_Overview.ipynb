{
 "cells": [
  {
   "cell_type": "code",
   "execution_count": 1,
   "id": "reverse-picking",
   "metadata": {
    "execution": {
     "iopub.execute_input": "2021-11-16T20:00:07.833702Z",
     "iopub.status.busy": "2021-11-16T20:00:07.831159Z",
     "iopub.status.idle": "2021-11-16T20:00:08.796036Z",
     "shell.execute_reply": "2021-11-16T20:00:08.797876Z"
    },
    "papermill": {
     "duration": 1.014461,
     "end_time": "2021-11-16T20:00:08.798596",
     "exception": false,
     "start_time": "2021-11-16T20:00:07.784135",
     "status": "completed"
    },
    "tags": []
   },
   "outputs": [],
   "source": [
    "import pandas as pd\n",
    "import sqlite3"
   ]
  },
  {
   "cell_type": "code",
   "execution_count": 2,
   "id": "innovative-syndrome",
   "metadata": {
    "execution": {
     "iopub.execute_input": "2021-11-16T20:00:08.874859Z",
     "iopub.status.busy": "2021-11-16T20:00:08.872549Z",
     "iopub.status.idle": "2021-11-16T20:00:09.726028Z",
     "shell.execute_reply": "2021-11-16T20:00:09.727307Z"
    },
    "papermill": {
     "duration": 0.888692,
     "end_time": "2021-11-16T20:00:09.727712",
     "exception": false,
     "start_time": "2021-11-16T20:00:08.839020",
     "status": "completed"
    },
    "tags": []
   },
   "outputs": [],
   "source": [
    "timestamps = pd.read_sql(\"select distinct record_time from EBAY_TOP_BERLIN order by record_time desc limit 2\", sqlite3.connect(\"UsedObjects.db\"))"
   ]
  },
  {
   "cell_type": "code",
   "execution_count": 3,
   "id": "periodic-identification",
   "metadata": {
    "execution": {
     "iopub.execute_input": "2021-11-16T20:00:09.793316Z",
     "iopub.status.busy": "2021-11-16T20:00:09.791180Z",
     "iopub.status.idle": "2021-11-16T20:00:09.812191Z",
     "shell.execute_reply": "2021-11-16T20:00:09.813802Z"
    },
    "papermill": {
     "duration": 0.066855,
     "end_time": "2021-11-16T20:00:09.814297",
     "exception": false,
     "start_time": "2021-11-16T20:00:09.747442",
     "status": "completed"
    },
    "tags": []
   },
   "outputs": [
    {
     "data": {
      "text/html": [
       "<div>\n",
       "<style scoped>\n",
       "    .dataframe tbody tr th:only-of-type {\n",
       "        vertical-align: middle;\n",
       "    }\n",
       "\n",
       "    .dataframe tbody tr th {\n",
       "        vertical-align: top;\n",
       "    }\n",
       "\n",
       "    .dataframe thead th {\n",
       "        text-align: right;\n",
       "    }\n",
       "</style>\n",
       "<table border=\"1\" class=\"dataframe\">\n",
       "  <thead>\n",
       "    <tr style=\"text-align: right;\">\n",
       "      <th></th>\n",
       "      <th>RECORD_TIME</th>\n",
       "    </tr>\n",
       "  </thead>\n",
       "  <tbody>\n",
       "    <tr>\n",
       "      <th>0</th>\n",
       "      <td>2021-11-16 21:00</td>\n",
       "    </tr>\n",
       "    <tr>\n",
       "      <th>1</th>\n",
       "      <td>2021-11-16 20:30</td>\n",
       "    </tr>\n",
       "  </tbody>\n",
       "</table>\n",
       "</div>"
      ],
      "text/plain": [
       "        RECORD_TIME\n",
       "0  2021-11-16 21:00\n",
       "1  2021-11-16 20:30"
      ]
     },
     "execution_count": 3,
     "metadata": {},
     "output_type": "execute_result"
    }
   ],
   "source": [
    "timestamps"
   ]
  },
  {
   "cell_type": "code",
   "execution_count": 4,
   "id": "alternate-victory",
   "metadata": {
    "execution": {
     "iopub.execute_input": "2021-11-16T20:00:09.870402Z",
     "iopub.status.busy": "2021-11-16T20:00:09.868136Z",
     "iopub.status.idle": "2021-11-16T20:00:11.091503Z",
     "shell.execute_reply": "2021-11-16T20:00:11.093270Z"
    },
    "papermill": {
     "duration": 1.257874,
     "end_time": "2021-11-16T20:00:11.093769",
     "exception": false,
     "start_time": "2021-11-16T20:00:09.835895",
     "status": "completed"
    },
    "tags": []
   },
   "outputs": [],
   "source": [
    "df = pd.read_sql(\"select * from EBAY_TOP_BERLIN where record_time in (select distinct record_time from EBAY_TOP_BERLIN order by record_time desc limit 2)\", sqlite3.connect(\"UsedObjects.db\"))"
   ]
  },
  {
   "cell_type": "code",
   "execution_count": 5,
   "id": "popular-active",
   "metadata": {
    "execution": {
     "iopub.execute_input": "2021-11-16T20:00:11.145733Z",
     "iopub.status.busy": "2021-11-16T20:00:11.142933Z",
     "iopub.status.idle": "2021-11-16T20:00:11.190913Z",
     "shell.execute_reply": "2021-11-16T20:00:11.192580Z"
    },
    "papermill": {
     "duration": 0.078631,
     "end_time": "2021-11-16T20:00:11.193150",
     "exception": false,
     "start_time": "2021-11-16T20:00:11.114519",
     "status": "completed"
    },
    "tags": []
   },
   "outputs": [],
   "source": [
    "df_pivot = df.pivot_table(index=\"PRODUCT\", columns = \"RECORD_TIME\", values = \"LISTING_COUNT\")"
   ]
  },
  {
   "cell_type": "code",
   "execution_count": 6,
   "id": "union-huntington",
   "metadata": {
    "execution": {
     "iopub.execute_input": "2021-11-16T20:00:11.260534Z",
     "iopub.status.busy": "2021-11-16T20:00:11.258276Z",
     "iopub.status.idle": "2021-11-16T20:00:11.263273Z",
     "shell.execute_reply": "2021-11-16T20:00:11.265179Z"
    },
    "papermill": {
     "duration": 0.050742,
     "end_time": "2021-11-16T20:00:11.265709",
     "exception": false,
     "start_time": "2021-11-16T20:00:11.214967",
     "status": "completed"
    },
    "tags": []
   },
   "outputs": [],
   "source": [
    "df_pivot.columns = [\"stamp_1\", \"stamp_2\"]\n",
    "df_pivot_diff = df_pivot.diff(axis=1)"
   ]
  },
  {
   "cell_type": "code",
   "execution_count": 7,
   "id": "fifth-motion",
   "metadata": {
    "execution": {
     "iopub.execute_input": "2021-11-16T20:00:11.322946Z",
     "iopub.status.busy": "2021-11-16T20:00:11.320447Z",
     "iopub.status.idle": "2021-11-16T20:00:13.262944Z",
     "shell.execute_reply": "2021-11-16T20:00:13.266116Z"
    },
    "papermill": {
     "duration": 1.979461,
     "end_time": "2021-11-16T20:00:13.266893",
     "exception": false,
     "start_time": "2021-11-16T20:00:11.287432",
     "status": "completed"
    },
    "tags": []
   },
   "outputs": [
    {
     "data": {
      "text/plain": [
       "<AxesSubplot:ylabel='PRODUCT'>"
      ]
     },
     "execution_count": 7,
     "metadata": {},
     "output_type": "execute_result"
    },
    {
     "data": {
      "image/png": "[encoded data removed]",
      "text/plain": [
       "<Figure size 432x288 with 1 Axes>"
      ]
     },
     "metadata": {
      "needs_background": "light"
     },
     "output_type": "display_data"
    }
   ],
   "source": [
    "df_pivot_diff.sort_values(\"stamp_2\", ascending = False)[\"stamp_2\"].head(10).plot.barh()"
   ]
  },
  {
   "cell_type": "code",
   "execution_count": null,
   "id": "extra-executive",
   "metadata": {
    "papermill": {
     "duration": 0.032473,
     "end_time": "2021-11-16T20:00:13.335030",
     "exception": false,
     "start_time": "2021-11-16T20:00:13.302557",
     "status": "completed"
    },
    "tags": []
   },
   "outputs": [],
   "source": []
  }
 ],
 "metadata": {
  "kernelspec": {
   "display_name": "Python 3",
   "language": "python",
   "name": "python3"
  },
  "language_info": {
   "codemirror_mode": {
    "name": "ipython",
    "version": 3
   },
   "file_extension": ".py",
   "mimetype": "text/x-python",
   "name": "python",
   "nbconvert_exporter": "python",
   "pygments_lexer": "ipython3",
   "version": "3.9.5"
  },
  "papermill": {
   "default_parameters": {},
   "duration": 8.922892,
   "end_time": "2021-11-16T20:00:13.985591",
   "environment_variables": {},
   "exception": null,
   "input_path": "eBay_Overview.ipynb",
   "output_path": "eBay_Overview.ipynb",
   "parameters": {},
   "start_time": "2021-11-16T20:00:05.062699",
   "version": "2.3.3"
  }
 },
 "nbformat": 4,
 "nbformat_minor": 5
}