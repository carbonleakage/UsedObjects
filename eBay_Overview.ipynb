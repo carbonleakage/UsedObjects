{
 "cells": [
  {
   "cell_type": "code",
   "execution_count": 1,
   "id": "reverse-picking",
   "metadata": {
    "execution": {
     "iopub.execute_input": "2021-08-24T01:00:07.079842Z",
     "iopub.status.busy": "2021-08-24T01:00:07.077831Z",
     "iopub.status.idle": "2021-08-24T01:00:07.886721Z",
     "shell.execute_reply": "2021-08-24T01:00:07.888000Z"
    },
    "papermill": {
     "duration": 0.862173,
     "end_time": "2021-08-24T01:00:07.888611",
     "exception": false,
     "start_time": "2021-08-24T01:00:07.026438",
     "status": "completed"
    },
    "tags": []
   },
   "outputs": [],
   "source": [
    "import pandas as pd\n",
    "import sqlite3"
   ]
  },
  {
   "cell_type": "code",
   "execution_count": 2,
   "id": "innovative-syndrome",
   "metadata": {
    "execution": {
     "iopub.execute_input": "2021-08-24T01:00:07.943506Z",
     "iopub.status.busy": "2021-08-24T01:00:07.941117Z",
     "iopub.status.idle": "2021-08-24T01:00:08.057625Z",
     "shell.execute_reply": "2021-08-24T01:00:08.059099Z"
    },
    "papermill": {
     "duration": 0.147409,
     "end_time": "2021-08-24T01:00:08.059543",
     "exception": false,
     "start_time": "2021-08-24T01:00:07.912134",
     "status": "completed"
    },
    "tags": []
   },
   "outputs": [],
   "source": [
    "timestamps = pd.read_sql(\"select distinct record_time from EBAY_TOP_BERLIN order by record_time desc limit 2\", sqlite3.connect(\"UsedObjects.db\"))"
   ]
  },
  {
   "cell_type": "code",
   "execution_count": 3,
   "id": "periodic-identification",
   "metadata": {
    "execution": {
     "iopub.execute_input": "2021-08-24T01:00:08.126963Z",
     "iopub.status.busy": "2021-08-24T01:00:08.125126Z",
     "iopub.status.idle": "2021-08-24T01:00:08.150387Z",
     "shell.execute_reply": "2021-08-24T01:00:08.148850Z"
    },
    "papermill": {
     "duration": 0.070905,
     "end_time": "2021-08-24T01:00:08.150773",
     "exception": false,
     "start_time": "2021-08-24T01:00:08.079868",
     "status": "completed"
    },
    "tags": []
   },
   "outputs": [
    {
     "data": {
      "text/html": [
       "<div>\n",
       "<style scoped>\n",
       "    .dataframe tbody tr th:only-of-type {\n",
       "        vertical-align: middle;\n",
       "    }\n",
       "\n",
       "    .dataframe tbody tr th {\n",
       "        vertical-align: top;\n",
       "    }\n",
       "\n",
       "    .dataframe thead th {\n",
       "        text-align: right;\n",
       "    }\n",
       "</style>\n",
       "<table border=\"1\" class=\"dataframe\">\n",
       "  <thead>\n",
       "    <tr style=\"text-align: right;\">\n",
       "      <th></th>\n",
       "      <th>RECORD_TIME</th>\n",
       "    </tr>\n",
       "  </thead>\n",
       "  <tbody>\n",
       "    <tr>\n",
       "      <th>0</th>\n",
       "      <td>2021-08-24 03:00</td>\n",
       "    </tr>\n",
       "    <tr>\n",
       "      <th>1</th>\n",
       "      <td>2021-08-24 02:30</td>\n",
       "    </tr>\n",
       "  </tbody>\n",
       "</table>\n",
       "</div>"
      ],
      "text/plain": [
       "        RECORD_TIME\n",
       "0  2021-08-24 03:00\n",
       "1  2021-08-24 02:30"
      ]
     },
     "execution_count": 3,
     "metadata": {},
     "output_type": "execute_result"
    }
   ],
   "source": [
    "timestamps"
   ]
  },
  {
   "cell_type": "code",
   "execution_count": 4,
   "id": "alternate-victory",
   "metadata": {
    "execution": {
     "iopub.execute_input": "2021-08-24T01:00:08.202631Z",
     "iopub.status.busy": "2021-08-24T01:00:08.200673Z",
     "iopub.status.idle": "2021-08-24T01:00:08.371621Z",
     "shell.execute_reply": "2021-08-24T01:00:08.372898Z"
    },
    "papermill": {
     "duration": 0.201169,
     "end_time": "2021-08-24T01:00:08.373348",
     "exception": false,
     "start_time": "2021-08-24T01:00:08.172179",
     "status": "completed"
    },
    "tags": []
   },
   "outputs": [],
   "source": [
    "df = pd.read_sql(\"select * from EBAY_TOP_BERLIN where record_time in (select distinct record_time from EBAY_TOP_BERLIN order by record_time desc limit 2)\", sqlite3.connect(\"UsedObjects.db\"))"
   ]
  },
  {
   "cell_type": "code",
   "execution_count": 5,
   "id": "popular-active",
   "metadata": {
    "execution": {
     "iopub.execute_input": "2021-08-24T01:00:08.443314Z",
     "iopub.status.busy": "2021-08-24T01:00:08.432058Z",
     "iopub.status.idle": "2021-08-24T01:00:08.459728Z",
     "shell.execute_reply": "2021-08-24T01:00:08.460936Z"
    },
    "papermill": {
     "duration": 0.066179,
     "end_time": "2021-08-24T01:00:08.461325",
     "exception": false,
     "start_time": "2021-08-24T01:00:08.395146",
     "status": "completed"
    },
    "tags": []
   },
   "outputs": [],
   "source": [
    "df_pivot = df.pivot_table(index=\"PRODUCT\", columns = \"RECORD_TIME\", values = \"LISTING_COUNT\")"
   ]
  },
  {
   "cell_type": "code",
   "execution_count": 6,
   "id": "union-huntington",
   "metadata": {
    "execution": {
     "iopub.execute_input": "2021-08-24T01:00:08.518919Z",
     "iopub.status.busy": "2021-08-24T01:00:08.516592Z",
     "iopub.status.idle": "2021-08-24T01:00:08.523957Z",
     "shell.execute_reply": "2021-08-24T01:00:08.522528Z"
    },
    "papermill": {
     "duration": 0.042693,
     "end_time": "2021-08-24T01:00:08.524307",
     "exception": false,
     "start_time": "2021-08-24T01:00:08.481614",
     "status": "completed"
    },
    "tags": []
   },
   "outputs": [],
   "source": [
    "df_pivot.columns = [\"stamp_1\", \"stamp_2\"]\n",
    "df_pivot_diff = df_pivot.diff(axis=1)"
   ]
  },
  {
   "cell_type": "code",
   "execution_count": 7,
   "id": "fifth-motion",
   "metadata": {
    "execution": {
     "iopub.execute_input": "2021-08-24T01:00:08.579346Z",
     "iopub.status.busy": "2021-08-24T01:00:08.576863Z",
     "iopub.status.idle": "2021-08-24T01:00:10.074473Z",
     "shell.execute_reply": "2021-08-24T01:00:10.075779Z"
    },
    "papermill": {
     "duration": 1.530688,
     "end_time": "2021-08-24T01:00:10.076189",
     "exception": false,
     "start_time": "2021-08-24T01:00:08.545501",
     "status": "completed"
    },
    "tags": []
   },
   "outputs": [
    {
     "data": {
      "text/plain": [
       "<AxesSubplot:ylabel='PRODUCT'>"
      ]
     },
     "execution_count": 7,
     "metadata": {},
     "output_type": "execute_result"
    },
    {
     "data": {
      "image/png": "[encoded data removed]",
      "text/plain": [
       "<Figure size 432x288 with 1 Axes>"
      ]
     },
     "metadata": {
      "needs_background": "light"
     },
     "output_type": "display_data"
    }
   ],
   "source": [
    "df_pivot_diff.sort_values(\"stamp_2\", ascending = False)[\"stamp_2\"].head(10).plot.barh()"
   ]
  },
  {
   "cell_type": "code",
   "execution_count": null,
   "id": "extra-executive",
   "metadata": {
    "papermill": {
     "duration": 0.02278,
     "end_time": "2021-08-24T01:00:10.123578",
     "exception": false,
     "start_time": "2021-08-24T01:00:10.100798",
     "status": "completed"
    },
    "tags": []
   },
   "outputs": [],
   "source": []
  }
 ],
 "metadata": {
  "kernelspec": {
   "display_name": "Python 3",
   "language": "python",
   "name": "python3"
  },
  "language_info": {
   "codemirror_mode": {
    "name": "ipython",
    "version": 3
   },
   "file_extension": ".py",
   "mimetype": "text/x-python",
   "name": "python",
   "nbconvert_exporter": "python",
   "pygments_lexer": "ipython3",
   "version": "3.9.5"
  },
  "papermill": {
   "default_parameters": {},
   "duration": 6.825005,
   "end_time": "2021-08-24T01:00:11.437328",
   "environment_variables": {},
   "exception": null,
   "input_path": "eBay_Overview.ipynb",
   "output_path": "eBay_Overview.ipynb",
   "parameters": {},
   "start_time": "2021-08-24T01:00:04.612323",
   "version": "2.3.3"
  }
 },
 "nbformat": 4,
 "nbformat_minor": 5
}