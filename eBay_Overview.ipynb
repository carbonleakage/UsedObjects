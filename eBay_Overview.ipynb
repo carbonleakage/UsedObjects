{
 "cells": [
  {
   "cell_type": "code",
   "execution_count": 1,
   "id": "reverse-picking",
   "metadata": {
    "execution": {
     "iopub.execute_input": "2021-12-10T14:30:08.024211Z",
     "iopub.status.busy": "2021-12-10T14:30:08.021872Z",
     "iopub.status.idle": "2021-12-10T14:30:08.960824Z",
     "shell.execute_reply": "2021-12-10T14:30:08.962532Z"
    },
    "papermill": {
     "duration": 0.9875,
     "end_time": "2021-12-10T14:30:08.963337",
     "exception": false,
     "start_time": "2021-12-10T14:30:07.975837",
     "status": "completed"
    },
    "tags": []
   },
   "outputs": [],
   "source": [
    "import pandas as pd\n",
    "import sqlite3"
   ]
  },
  {
   "cell_type": "code",
   "execution_count": 2,
   "id": "innovative-syndrome",
   "metadata": {
    "execution": {
     "iopub.execute_input": "2021-12-10T14:30:09.029200Z",
     "iopub.status.busy": "2021-12-10T14:30:09.026976Z",
     "iopub.status.idle": "2021-12-10T14:30:10.076964Z",
     "shell.execute_reply": "2021-12-10T14:30:10.078301Z"
    },
    "papermill": {
     "duration": 1.092678,
     "end_time": "2021-12-10T14:30:10.078763",
     "exception": false,
     "start_time": "2021-12-10T14:30:08.986085",
     "status": "completed"
    },
    "tags": []
   },
   "outputs": [],
   "source": [
    "timestamps = pd.read_sql(\"select distinct record_time from EBAY_TOP_BERLIN order by record_time desc limit 2\", sqlite3.connect(\"UsedObjects.db\"))"
   ]
  },
  {
   "cell_type": "code",
   "execution_count": 3,
   "id": "periodic-identification",
   "metadata": {
    "execution": {
     "iopub.execute_input": "2021-12-10T14:30:10.146366Z",
     "iopub.status.busy": "2021-12-10T14:30:10.143943Z",
     "iopub.status.idle": "2021-12-10T14:30:10.166857Z",
     "shell.execute_reply": "2021-12-10T14:30:10.168244Z"
    },
    "papermill": {
     "duration": 0.070099,
     "end_time": "2021-12-10T14:30:10.168806",
     "exception": false,
     "start_time": "2021-12-10T14:30:10.098707",
     "status": "completed"
    },
    "tags": []
   },
   "outputs": [
    {
     "data": {
      "text/html": [
       "<div>\n",
       "<style scoped>\n",
       "    .dataframe tbody tr th:only-of-type {\n",
       "        vertical-align: middle;\n",
       "    }\n",
       "\n",
       "    .dataframe tbody tr th {\n",
       "        vertical-align: top;\n",
       "    }\n",
       "\n",
       "    .dataframe thead th {\n",
       "        text-align: right;\n",
       "    }\n",
       "</style>\n",
       "<table border=\"1\" class=\"dataframe\">\n",
       "  <thead>\n",
       "    <tr style=\"text-align: right;\">\n",
       "      <th></th>\n",
       "      <th>RECORD_TIME</th>\n",
       "    </tr>\n",
       "  </thead>\n",
       "  <tbody>\n",
       "    <tr>\n",
       "      <th>0</th>\n",
       "      <td>2021-12-10 15:30</td>\n",
       "    </tr>\n",
       "    <tr>\n",
       "      <th>1</th>\n",
       "      <td>2021-12-10 15:00</td>\n",
       "    </tr>\n",
       "  </tbody>\n",
       "</table>\n",
       "</div>"
      ],
      "text/plain": [
       "        RECORD_TIME\n",
       "0  2021-12-10 15:30\n",
       "1  2021-12-10 15:00"
      ]
     },
     "execution_count": 3,
     "metadata": {},
     "output_type": "execute_result"
    }
   ],
   "source": [
    "timestamps"
   ]
  },
  {
   "cell_type": "code",
   "execution_count": 4,
   "id": "alternate-victory",
   "metadata": {
    "execution": {
     "iopub.execute_input": "2021-12-10T14:30:10.223765Z",
     "iopub.status.busy": "2021-12-10T14:30:10.221676Z",
     "iopub.status.idle": "2021-12-10T14:30:11.744420Z",
     "shell.execute_reply": "2021-12-10T14:30:11.746405Z"
    },
    "papermill": {
     "duration": 1.557437,
     "end_time": "2021-12-10T14:30:11.746970",
     "exception": false,
     "start_time": "2021-12-10T14:30:10.189533",
     "status": "completed"
    },
    "tags": []
   },
   "outputs": [],
   "source": [
    "df = pd.read_sql(\"select * from EBAY_TOP_BERLIN where record_time in (select distinct record_time from EBAY_TOP_BERLIN order by record_time desc limit 2)\", sqlite3.connect(\"UsedObjects.db\"))"
   ]
  },
  {
   "cell_type": "code",
   "execution_count": 5,
   "id": "popular-active",
   "metadata": {
    "execution": {
     "iopub.execute_input": "2021-12-10T14:30:11.826038Z",
     "iopub.status.busy": "2021-12-10T14:30:11.812641Z",
     "iopub.status.idle": "2021-12-10T14:30:11.844764Z",
     "shell.execute_reply": "2021-12-10T14:30:11.846455Z"
    },
    "papermill": {
     "duration": 0.077332,
     "end_time": "2021-12-10T14:30:11.846967",
     "exception": false,
     "start_time": "2021-12-10T14:30:11.769635",
     "status": "completed"
    },
    "tags": []
   },
   "outputs": [],
   "source": [
    "df_pivot = df.pivot_table(index=\"PRODUCT\", columns = \"RECORD_TIME\", values = \"LISTING_COUNT\")"
   ]
  },
  {
   "cell_type": "code",
   "execution_count": 6,
   "id": "union-huntington",
   "metadata": {
    "execution": {
     "iopub.execute_input": "2021-12-10T14:30:11.907005Z",
     "iopub.status.busy": "2021-12-10T14:30:11.904530Z",
     "iopub.status.idle": "2021-12-10T14:30:11.909804Z",
     "shell.execute_reply": "2021-12-10T14:30:11.911192Z"
    },
    "papermill": {
     "duration": 0.044094,
     "end_time": "2021-12-10T14:30:11.911628",
     "exception": false,
     "start_time": "2021-12-10T14:30:11.867534",
     "status": "completed"
    },
    "tags": []
   },
   "outputs": [],
   "source": [
    "df_pivot.columns = [\"stamp_1\", \"stamp_2\"]\n",
    "df_pivot_diff = df_pivot.diff(axis=1)"
   ]
  },
  {
   "cell_type": "code",
   "execution_count": 7,
   "id": "fifth-motion",
   "metadata": {
    "execution": {
     "iopub.execute_input": "2021-12-10T14:30:11.971859Z",
     "iopub.status.busy": "2021-12-10T14:30:11.969396Z",
     "iopub.status.idle": "2021-12-10T14:30:13.847287Z",
     "shell.execute_reply": "2021-12-10T14:30:13.848938Z"
    },
    "papermill": {
     "duration": 1.916491,
     "end_time": "2021-12-10T14:30:13.849446",
     "exception": false,
     "start_time": "2021-12-10T14:30:11.932955",
     "status": "completed"
    },
    "tags": []
   },
   "outputs": [
    {
     "data": {
      "text/plain": [
       "<AxesSubplot:ylabel='PRODUCT'>"
      ]
     },
     "execution_count": 7,
     "metadata": {},
     "output_type": "execute_result"
    },
    {
     "data": {
      "image/png": "[encoded data removed]",
      "text/plain": [
       "<Figure size 432x288 with 1 Axes>"
      ]
     },
     "metadata": {
      "needs_background": "light"
     },
     "output_type": "display_data"
    }
   ],
   "source": [
    "df_pivot_diff.sort_values(\"stamp_2\", ascending = False)[\"stamp_2\"].head(10).plot.barh()"
   ]
  },
  {
   "cell_type": "code",
   "execution_count": null,
   "id": "extra-executive",
   "metadata": {
    "papermill": {
     "duration": 0.023514,
     "end_time": "2021-12-10T14:30:13.898605",
     "exception": false,
     "start_time": "2021-12-10T14:30:13.875091",
     "status": "completed"
    },
    "tags": []
   },
   "outputs": [],
   "source": []
  }
 ],
 "metadata": {
  "kernelspec": {
   "display_name": "Python 3",
   "language": "python",
   "name": "python3"
  },
  "language_info": {
   "codemirror_mode": {
    "name": "ipython",
    "version": 3
   },
   "file_extension": ".py",
   "mimetype": "text/x-python",
   "name": "python",
   "nbconvert_exporter": "python",
   "pygments_lexer": "ipython3",
   "version": "3.9.5"
  },
  "papermill": {
   "default_parameters": {},
   "duration": 10.017515,
   "end_time": "2021-12-10T14:30:15.193892",
   "environment_variables": {},
   "exception": null,
   "input_path": "eBay_Overview.ipynb",
   "output_path": "eBay_Overview.ipynb",
   "parameters": {},
   "start_time": "2021-12-10T14:30:05.176377",
   "version": "2.3.3"
  }
 },
 "nbformat": 4,
 "nbformat_minor": 5
}