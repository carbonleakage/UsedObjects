{
 "cells": [
  {
   "cell_type": "code",
   "execution_count": 1,
   "id": "reverse-picking",
   "metadata": {
    "execution": {
     "iopub.execute_input": "2021-10-30T11:00:06.736178Z",
     "iopub.status.busy": "2021-10-30T11:00:06.734140Z",
     "iopub.status.idle": "2021-10-30T11:00:07.540318Z",
     "shell.execute_reply": "2021-10-30T11:00:07.541677Z"
    },
    "papermill": {
     "duration": 0.856924,
     "end_time": "2021-10-30T11:00:07.542314",
     "exception": false,
     "start_time": "2021-10-30T11:00:06.685390",
     "status": "completed"
    },
    "tags": []
   },
   "outputs": [],
   "source": [
    "import pandas as pd\n",
    "import sqlite3"
   ]
  },
  {
   "cell_type": "code",
   "execution_count": 2,
   "id": "innovative-syndrome",
   "metadata": {
    "execution": {
     "iopub.execute_input": "2021-10-30T11:00:07.593587Z",
     "iopub.status.busy": "2021-10-30T11:00:07.591614Z",
     "iopub.status.idle": "2021-10-30T11:00:08.277227Z",
     "shell.execute_reply": "2021-10-30T11:00:08.278625Z"
    },
    "papermill": {
     "duration": 0.715389,
     "end_time": "2021-10-30T11:00:08.279067",
     "exception": false,
     "start_time": "2021-10-30T11:00:07.563678",
     "status": "completed"
    },
    "tags": []
   },
   "outputs": [],
   "source": [
    "timestamps = pd.read_sql(\"select distinct record_time from EBAY_TOP_BERLIN order by record_time desc limit 2\", sqlite3.connect(\"UsedObjects.db\"))"
   ]
  },
  {
   "cell_type": "code",
   "execution_count": 3,
   "id": "periodic-identification",
   "metadata": {
    "execution": {
     "iopub.execute_input": "2021-10-30T11:00:08.351851Z",
     "iopub.status.busy": "2021-10-30T11:00:08.349831Z",
     "iopub.status.idle": "2021-10-30T11:00:08.373433Z",
     "shell.execute_reply": "2021-10-30T11:00:08.375164Z"
    },
    "papermill": {
     "duration": 0.071288,
     "end_time": "2021-10-30T11:00:08.375699",
     "exception": false,
     "start_time": "2021-10-30T11:00:08.304411",
     "status": "completed"
    },
    "tags": []
   },
   "outputs": [
    {
     "data": {
      "text/html": [
       "<div>\n",
       "<style scoped>\n",
       "    .dataframe tbody tr th:only-of-type {\n",
       "        vertical-align: middle;\n",
       "    }\n",
       "\n",
       "    .dataframe tbody tr th {\n",
       "        vertical-align: top;\n",
       "    }\n",
       "\n",
       "    .dataframe thead th {\n",
       "        text-align: right;\n",
       "    }\n",
       "</style>\n",
       "<table border=\"1\" class=\"dataframe\">\n",
       "  <thead>\n",
       "    <tr style=\"text-align: right;\">\n",
       "      <th></th>\n",
       "      <th>RECORD_TIME</th>\n",
       "    </tr>\n",
       "  </thead>\n",
       "  <tbody>\n",
       "    <tr>\n",
       "      <th>0</th>\n",
       "      <td>2021-10-30 13:00</td>\n",
       "    </tr>\n",
       "    <tr>\n",
       "      <th>1</th>\n",
       "      <td>2021-10-30 12:30</td>\n",
       "    </tr>\n",
       "  </tbody>\n",
       "</table>\n",
       "</div>"
      ],
      "text/plain": [
       "        RECORD_TIME\n",
       "0  2021-10-30 13:00\n",
       "1  2021-10-30 12:30"
      ]
     },
     "execution_count": 3,
     "metadata": {},
     "output_type": "execute_result"
    }
   ],
   "source": [
    "timestamps"
   ]
  },
  {
   "cell_type": "code",
   "execution_count": 4,
   "id": "alternate-victory",
   "metadata": {
    "execution": {
     "iopub.execute_input": "2021-10-30T11:00:08.428752Z",
     "iopub.status.busy": "2021-10-30T11:00:08.426860Z",
     "iopub.status.idle": "2021-10-30T11:00:09.418741Z",
     "shell.execute_reply": "2021-10-30T11:00:09.419882Z"
    },
    "papermill": {
     "duration": 1.021634,
     "end_time": "2021-10-30T11:00:09.420297",
     "exception": false,
     "start_time": "2021-10-30T11:00:08.398663",
     "status": "completed"
    },
    "tags": []
   },
   "outputs": [],
   "source": [
    "df = pd.read_sql(\"select * from EBAY_TOP_BERLIN where record_time in (select distinct record_time from EBAY_TOP_BERLIN order by record_time desc limit 2)\", sqlite3.connect(\"UsedObjects.db\"))"
   ]
  },
  {
   "cell_type": "code",
   "execution_count": 5,
   "id": "popular-active",
   "metadata": {
    "execution": {
     "iopub.execute_input": "2021-10-30T11:00:09.492031Z",
     "iopub.status.busy": "2021-10-30T11:00:09.479160Z",
     "iopub.status.idle": "2021-10-30T11:00:09.509855Z",
     "shell.execute_reply": "2021-10-30T11:00:09.511245Z"
    },
    "papermill": {
     "duration": 0.069342,
     "end_time": "2021-10-30T11:00:09.511685",
     "exception": false,
     "start_time": "2021-10-30T11:00:09.442343",
     "status": "completed"
    },
    "tags": []
   },
   "outputs": [],
   "source": [
    "df_pivot = df.pivot_table(index=\"PRODUCT\", columns = \"RECORD_TIME\", values = \"LISTING_COUNT\")"
   ]
  },
  {
   "cell_type": "code",
   "execution_count": 6,
   "id": "union-huntington",
   "metadata": {
    "execution": {
     "iopub.execute_input": "2021-10-30T11:00:09.568546Z",
     "iopub.status.busy": "2021-10-30T11:00:09.566234Z",
     "iopub.status.idle": "2021-10-30T11:00:09.571956Z",
     "shell.execute_reply": "2021-10-30T11:00:09.573314Z"
    },
    "papermill": {
     "duration": 0.041701,
     "end_time": "2021-10-30T11:00:09.573742",
     "exception": false,
     "start_time": "2021-10-30T11:00:09.532041",
     "status": "completed"
    },
    "tags": []
   },
   "outputs": [],
   "source": [
    "df_pivot.columns = [\"stamp_1\", \"stamp_2\"]\n",
    "df_pivot_diff = df_pivot.diff(axis=1)"
   ]
  },
  {
   "cell_type": "code",
   "execution_count": 7,
   "id": "fifth-motion",
   "metadata": {
    "execution": {
     "iopub.execute_input": "2021-10-30T11:00:09.627869Z",
     "iopub.status.busy": "2021-10-30T11:00:09.625587Z",
     "iopub.status.idle": "2021-10-30T11:00:11.120055Z",
     "shell.execute_reply": "2021-10-30T11:00:11.121723Z"
    },
    "papermill": {
     "duration": 1.527769,
     "end_time": "2021-10-30T11:00:11.122231",
     "exception": false,
     "start_time": "2021-10-30T11:00:09.594462",
     "status": "completed"
    },
    "tags": []
   },
   "outputs": [
    {
     "data": {
      "text/plain": [
       "<AxesSubplot:ylabel='PRODUCT'>"
      ]
     },
     "execution_count": 7,
     "metadata": {},
     "output_type": "execute_result"
    },
    {
     "data": {
      "image/png": "[encoded data removed]",
      "text/plain": [
       "<Figure size 432x288 with 1 Axes>"
      ]
     },
     "metadata": {
      "needs_background": "light"
     },
     "output_type": "display_data"
    }
   ],
   "source": [
    "df_pivot_diff.sort_values(\"stamp_2\", ascending = False)[\"stamp_2\"].head(10).plot.barh()"
   ]
  },
  {
   "cell_type": "code",
   "execution_count": null,
   "id": "extra-executive",
   "metadata": {
    "papermill": {
     "duration": 0.022099,
     "end_time": "2021-10-30T11:00:11.170016",
     "exception": false,
     "start_time": "2021-10-30T11:00:11.147917",
     "status": "completed"
    },
    "tags": []
   },
   "outputs": [],
   "source": []
  }
 ],
 "metadata": {
  "kernelspec": {
   "display_name": "Python 3",
   "language": "python",
   "name": "python3"
  },
  "language_info": {
   "codemirror_mode": {
    "name": "ipython",
    "version": 3
   },
   "file_extension": ".py",
   "mimetype": "text/x-python",
   "name": "python",
   "nbconvert_exporter": "python",
   "pygments_lexer": "ipython3",
   "version": "3.9.5"
  },
  "papermill": {
   "default_parameters": {},
   "duration": 7.530226,
   "end_time": "2021-10-30T11:00:11.814436",
   "environment_variables": {},
   "exception": null,
   "input_path": "eBay_Overview.ipynb",
   "output_path": "eBay_Overview.ipynb",
   "parameters": {},
   "start_time": "2021-10-30T11:00:04.284210",
   "version": "2.3.3"
  }
 },
 "nbformat": 4,
 "nbformat_minor": 5
}