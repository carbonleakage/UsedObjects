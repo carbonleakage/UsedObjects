{
 "cells": [
  {
   "cell_type": "code",
   "execution_count": 1,
   "id": "reverse-picking",
   "metadata": {
    "execution": {
     "iopub.execute_input": "2021-08-23T11:30:06.644145Z",
     "iopub.status.busy": "2021-08-23T11:30:06.642174Z",
     "iopub.status.idle": "2021-08-23T11:30:07.448845Z",
     "shell.execute_reply": "2021-08-23T11:30:07.450151Z"
    },
    "papermill": {
     "duration": 0.858427,
     "end_time": "2021-08-23T11:30:07.450795",
     "exception": false,
     "start_time": "2021-08-23T11:30:06.592368",
     "status": "completed"
    },
    "tags": []
   },
   "outputs": [],
   "source": [
    "import pandas as pd\n",
    "import sqlite3"
   ]
  },
  {
   "cell_type": "code",
   "execution_count": 2,
   "id": "innovative-syndrome",
   "metadata": {
    "execution": {
     "iopub.execute_input": "2021-08-23T11:30:07.501013Z",
     "iopub.status.busy": "2021-08-23T11:30:07.499157Z",
     "iopub.status.idle": "2021-08-23T11:30:07.614697Z",
     "shell.execute_reply": "2021-08-23T11:30:07.615903Z"
    },
    "papermill": {
     "duration": 0.144841,
     "end_time": "2021-08-23T11:30:07.616300",
     "exception": false,
     "start_time": "2021-08-23T11:30:07.471459",
     "status": "completed"
    },
    "tags": []
   },
   "outputs": [],
   "source": [
    "timestamps = pd.read_sql(\"select distinct record_time from EBAY_TOP_BERLIN order by record_time desc limit 2\", sqlite3.connect(\"UsedObjects.db\"))"
   ]
  },
  {
   "cell_type": "code",
   "execution_count": 3,
   "id": "periodic-identification",
   "metadata": {
    "execution": {
     "iopub.execute_input": "2021-08-23T11:30:07.681348Z",
     "iopub.status.busy": "2021-08-23T11:30:07.679333Z",
     "iopub.status.idle": "2021-08-23T11:30:07.699484Z",
     "shell.execute_reply": "2021-08-23T11:30:07.700759Z"
    },
    "papermill": {
     "duration": 0.064484,
     "end_time": "2021-08-23T11:30:07.701169",
     "exception": false,
     "start_time": "2021-08-23T11:30:07.636685",
     "status": "completed"
    },
    "tags": []
   },
   "outputs": [
    {
     "data": {
      "text/html": [
       "<div>\n",
       "<style scoped>\n",
       "    .dataframe tbody tr th:only-of-type {\n",
       "        vertical-align: middle;\n",
       "    }\n",
       "\n",
       "    .dataframe tbody tr th {\n",
       "        vertical-align: top;\n",
       "    }\n",
       "\n",
       "    .dataframe thead th {\n",
       "        text-align: right;\n",
       "    }\n",
       "</style>\n",
       "<table border=\"1\" class=\"dataframe\">\n",
       "  <thead>\n",
       "    <tr style=\"text-align: right;\">\n",
       "      <th></th>\n",
       "      <th>RECORD_TIME</th>\n",
       "    </tr>\n",
       "  </thead>\n",
       "  <tbody>\n",
       "    <tr>\n",
       "      <th>0</th>\n",
       "      <td>2021-08-23 13:30</td>\n",
       "    </tr>\n",
       "    <tr>\n",
       "      <th>1</th>\n",
       "      <td>2021-08-23 13:00</td>\n",
       "    </tr>\n",
       "  </tbody>\n",
       "</table>\n",
       "</div>"
      ],
      "text/plain": [
       "        RECORD_TIME\n",
       "0  2021-08-23 13:30\n",
       "1  2021-08-23 13:00"
      ]
     },
     "execution_count": 3,
     "metadata": {},
     "output_type": "execute_result"
    }
   ],
   "source": [
    "timestamps"
   ]
  },
  {
   "cell_type": "code",
   "execution_count": 4,
   "id": "alternate-victory",
   "metadata": {
    "execution": {
     "iopub.execute_input": "2021-08-23T11:30:07.752019Z",
     "iopub.status.busy": "2021-08-23T11:30:07.749799Z",
     "iopub.status.idle": "2021-08-23T11:30:07.921517Z",
     "shell.execute_reply": "2021-08-23T11:30:07.922938Z"
    },
    "papermill": {
     "duration": 0.20151,
     "end_time": "2021-08-23T11:30:07.923364",
     "exception": false,
     "start_time": "2021-08-23T11:30:07.721854",
     "status": "completed"
    },
    "tags": []
   },
   "outputs": [],
   "source": [
    "df = pd.read_sql(\"select * from EBAY_TOP_BERLIN where record_time in (select distinct record_time from EBAY_TOP_BERLIN order by record_time desc limit 2)\", sqlite3.connect(\"UsedObjects.db\"))"
   ]
  },
  {
   "cell_type": "code",
   "execution_count": 5,
   "id": "popular-active",
   "metadata": {
    "execution": {
     "iopub.execute_input": "2021-08-23T11:30:07.993087Z",
     "iopub.status.busy": "2021-08-23T11:30:07.981874Z",
     "iopub.status.idle": "2021-08-23T11:30:08.009097Z",
     "shell.execute_reply": "2021-08-23T11:30:08.010519Z"
    },
    "papermill": {
     "duration": 0.066471,
     "end_time": "2021-08-23T11:30:08.010961",
     "exception": false,
     "start_time": "2021-08-23T11:30:07.944490",
     "status": "completed"
    },
    "tags": []
   },
   "outputs": [],
   "source": [
    "df_pivot = df.pivot_table(index=\"PRODUCT\", columns = \"RECORD_TIME\", values = \"LISTING_COUNT\")"
   ]
  },
  {
   "cell_type": "code",
   "execution_count": 6,
   "id": "union-huntington",
   "metadata": {
    "execution": {
     "iopub.execute_input": "2021-08-23T11:30:08.074028Z",
     "iopub.status.busy": "2021-08-23T11:30:08.071856Z",
     "iopub.status.idle": "2021-08-23T11:30:08.077689Z",
     "shell.execute_reply": "2021-08-23T11:30:08.079112Z"
    },
    "papermill": {
     "duration": 0.048835,
     "end_time": "2021-08-23T11:30:08.079594",
     "exception": false,
     "start_time": "2021-08-23T11:30:08.030759",
     "status": "completed"
    },
    "tags": []
   },
   "outputs": [],
   "source": [
    "df_pivot.columns = [\"stamp_1\", \"stamp_2\"]\n",
    "df_pivot_diff = df_pivot.diff(axis=1)"
   ]
  },
  {
   "cell_type": "code",
   "execution_count": 7,
   "id": "fifth-motion",
   "metadata": {
    "execution": {
     "iopub.execute_input": "2021-08-23T11:30:08.134266Z",
     "iopub.status.busy": "2021-08-23T11:30:08.131885Z",
     "iopub.status.idle": "2021-08-23T11:30:09.598503Z",
     "shell.execute_reply": "2021-08-23T11:30:09.599808Z"
    },
    "papermill": {
     "duration": 1.498846,
     "end_time": "2021-08-23T11:30:09.600225",
     "exception": false,
     "start_time": "2021-08-23T11:30:08.101379",
     "status": "completed"
    },
    "tags": []
   },
   "outputs": [
    {
     "data": {
      "text/plain": [
       "<AxesSubplot:ylabel='PRODUCT'>"
      ]
     },
     "execution_count": 7,
     "metadata": {},
     "output_type": "execute_result"
    },
    {
     "data": {
      "image/png": "[encoded data removed]",
      "text/plain": [
       "<Figure size 432x288 with 1 Axes>"
      ]
     },
     "metadata": {
      "needs_background": "light"
     },
     "output_type": "display_data"
    }
   ],
   "source": [
    "df_pivot_diff.sort_values(\"stamp_2\", ascending = False)[\"stamp_2\"].head(10).plot.barh()"
   ]
  },
  {
   "cell_type": "code",
   "execution_count": null,
   "id": "extra-executive",
   "metadata": {
    "papermill": {
     "duration": 0.02186,
     "end_time": "2021-08-23T11:30:09.646400",
     "exception": false,
     "start_time": "2021-08-23T11:30:09.624540",
     "status": "completed"
    },
    "tags": []
   },
   "outputs": [],
   "source": []
  }
 ],
 "metadata": {
  "kernelspec": {
   "display_name": "Python 3",
   "language": "python",
   "name": "python3"
  },
  "language_info": {
   "codemirror_mode": {
    "name": "ipython",
    "version": 3
   },
   "file_extension": ".py",
   "mimetype": "text/x-python",
   "name": "python",
   "nbconvert_exporter": "python",
   "pygments_lexer": "ipython3",
   "version": "3.9.5"
  },
  "papermill": {
   "default_parameters": {},
   "duration": 6.828557,
   "end_time": "2021-08-23T11:30:11.000166",
   "environment_variables": {},
   "exception": null,
   "input_path": "eBay_Overview.ipynb",
   "output_path": "eBay_Overview.ipynb",
   "parameters": {},
   "start_time": "2021-08-23T11:30:04.171609",
   "version": "2.3.3"
  }
 },
 "nbformat": 4,
 "nbformat_minor": 5
}