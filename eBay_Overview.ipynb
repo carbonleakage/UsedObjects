{
 "cells": [
  {
   "cell_type": "code",
   "execution_count": 1,
   "id": "reverse-picking",
   "metadata": {
    "execution": {
     "iopub.execute_input": "2021-10-14T07:30:07.167110Z",
     "iopub.status.busy": "2021-10-14T07:30:07.165172Z",
     "iopub.status.idle": "2021-10-14T07:30:07.970598Z",
     "shell.execute_reply": "2021-10-14T07:30:07.971850Z"
    },
    "papermill": {
     "duration": 0.858254,
     "end_time": "2021-10-14T07:30:07.972479",
     "exception": false,
     "start_time": "2021-10-14T07:30:07.114225",
     "status": "completed"
    },
    "tags": []
   },
   "outputs": [],
   "source": [
    "import pandas as pd\n",
    "import sqlite3"
   ]
  },
  {
   "cell_type": "code",
   "execution_count": 2,
   "id": "innovative-syndrome",
   "metadata": {
    "execution": {
     "iopub.execute_input": "2021-10-14T07:30:08.023310Z",
     "iopub.status.busy": "2021-10-14T07:30:08.021462Z",
     "iopub.status.idle": "2021-10-14T07:30:08.559562Z",
     "shell.execute_reply": "2021-10-14T07:30:08.560823Z"
    },
    "papermill": {
     "duration": 0.567827,
     "end_time": "2021-10-14T07:30:08.561242",
     "exception": false,
     "start_time": "2021-10-14T07:30:07.993415",
     "status": "completed"
    },
    "tags": []
   },
   "outputs": [],
   "source": [
    "timestamps = pd.read_sql(\"select distinct record_time from EBAY_TOP_BERLIN order by record_time desc limit 2\", sqlite3.connect(\"UsedObjects.db\"))"
   ]
  },
  {
   "cell_type": "code",
   "execution_count": 3,
   "id": "periodic-identification",
   "metadata": {
    "execution": {
     "iopub.execute_input": "2021-10-14T07:30:08.624610Z",
     "iopub.status.busy": "2021-10-14T07:30:08.622611Z",
     "iopub.status.idle": "2021-10-14T07:30:08.642763Z",
     "shell.execute_reply": "2021-10-14T07:30:08.643950Z"
    },
    "papermill": {
     "duration": 0.063634,
     "end_time": "2021-10-14T07:30:08.644369",
     "exception": false,
     "start_time": "2021-10-14T07:30:08.580735",
     "status": "completed"
    },
    "tags": []
   },
   "outputs": [
    {
     "data": {
      "text/html": [
       "<div>\n",
       "<style scoped>\n",
       "    .dataframe tbody tr th:only-of-type {\n",
       "        vertical-align: middle;\n",
       "    }\n",
       "\n",
       "    .dataframe tbody tr th {\n",
       "        vertical-align: top;\n",
       "    }\n",
       "\n",
       "    .dataframe thead th {\n",
       "        text-align: right;\n",
       "    }\n",
       "</style>\n",
       "<table border=\"1\" class=\"dataframe\">\n",
       "  <thead>\n",
       "    <tr style=\"text-align: right;\">\n",
       "      <th></th>\n",
       "      <th>RECORD_TIME</th>\n",
       "    </tr>\n",
       "  </thead>\n",
       "  <tbody>\n",
       "    <tr>\n",
       "      <th>0</th>\n",
       "      <td>2021-10-14 09:30</td>\n",
       "    </tr>\n",
       "    <tr>\n",
       "      <th>1</th>\n",
       "      <td>2021-10-14 09:00</td>\n",
       "    </tr>\n",
       "  </tbody>\n",
       "</table>\n",
       "</div>"
      ],
      "text/plain": [
       "        RECORD_TIME\n",
       "0  2021-10-14 09:30\n",
       "1  2021-10-14 09:00"
      ]
     },
     "execution_count": 3,
     "metadata": {},
     "output_type": "execute_result"
    }
   ],
   "source": [
    "timestamps"
   ]
  },
  {
   "cell_type": "code",
   "execution_count": 4,
   "id": "alternate-victory",
   "metadata": {
    "execution": {
     "iopub.execute_input": "2021-10-14T07:30:08.706183Z",
     "iopub.status.busy": "2021-10-14T07:30:08.704050Z",
     "iopub.status.idle": "2021-10-14T07:30:09.499934Z",
     "shell.execute_reply": "2021-10-14T07:30:09.501375Z"
    },
    "papermill": {
     "duration": 0.830987,
     "end_time": "2021-10-14T07:30:09.501828",
     "exception": false,
     "start_time": "2021-10-14T07:30:08.670841",
     "status": "completed"
    },
    "tags": []
   },
   "outputs": [],
   "source": [
    "df = pd.read_sql(\"select * from EBAY_TOP_BERLIN where record_time in (select distinct record_time from EBAY_TOP_BERLIN order by record_time desc limit 2)\", sqlite3.connect(\"UsedObjects.db\"))"
   ]
  },
  {
   "cell_type": "code",
   "execution_count": 5,
   "id": "popular-active",
   "metadata": {
    "execution": {
     "iopub.execute_input": "2021-10-14T07:30:09.573229Z",
     "iopub.status.busy": "2021-10-14T07:30:09.560580Z",
     "iopub.status.idle": "2021-10-14T07:30:09.589187Z",
     "shell.execute_reply": "2021-10-14T07:30:09.590565Z"
    },
    "papermill": {
     "duration": 0.068235,
     "end_time": "2021-10-14T07:30:09.590997",
     "exception": false,
     "start_time": "2021-10-14T07:30:09.522762",
     "status": "completed"
    },
    "tags": []
   },
   "outputs": [],
   "source": [
    "df_pivot = df.pivot_table(index=\"PRODUCT\", columns = \"RECORD_TIME\", values = \"LISTING_COUNT\")"
   ]
  },
  {
   "cell_type": "code",
   "execution_count": 6,
   "id": "union-huntington",
   "metadata": {
    "execution": {
     "iopub.execute_input": "2021-10-14T07:30:09.648138Z",
     "iopub.status.busy": "2021-10-14T07:30:09.645858Z",
     "iopub.status.idle": "2021-10-14T07:30:09.651519Z",
     "shell.execute_reply": "2021-10-14T07:30:09.652853Z"
    },
    "papermill": {
     "duration": 0.041698,
     "end_time": "2021-10-14T07:30:09.653273",
     "exception": false,
     "start_time": "2021-10-14T07:30:09.611575",
     "status": "completed"
    },
    "tags": []
   },
   "outputs": [],
   "source": [
    "df_pivot.columns = [\"stamp_1\", \"stamp_2\"]\n",
    "df_pivot_diff = df_pivot.diff(axis=1)"
   ]
  },
  {
   "cell_type": "code",
   "execution_count": 7,
   "id": "fifth-motion",
   "metadata": {
    "execution": {
     "iopub.execute_input": "2021-10-14T07:30:09.707877Z",
     "iopub.status.busy": "2021-10-14T07:30:09.705612Z",
     "iopub.status.idle": "2021-10-14T07:30:11.185358Z",
     "shell.execute_reply": "2021-10-14T07:30:11.186722Z"
    },
    "papermill": {
     "duration": 1.513154,
     "end_time": "2021-10-14T07:30:11.187161",
     "exception": false,
     "start_time": "2021-10-14T07:30:09.674007",
     "status": "completed"
    },
    "tags": []
   },
   "outputs": [
    {
     "data": {
      "text/plain": [
       "<AxesSubplot:ylabel='PRODUCT'>"
      ]
     },
     "execution_count": 7,
     "metadata": {},
     "output_type": "execute_result"
    },
    {
     "data": {
      "image/png": "[encoded data removed]",
      "text/plain": [
       "<Figure size 432x288 with 1 Axes>"
      ]
     },
     "metadata": {
      "needs_background": "light"
     },
     "output_type": "display_data"
    }
   ],
   "source": [
    "df_pivot_diff.sort_values(\"stamp_2\", ascending = False)[\"stamp_2\"].head(10).plot.barh()"
   ]
  },
  {
   "cell_type": "code",
   "execution_count": null,
   "id": "extra-executive",
   "metadata": {
    "papermill": {
     "duration": 0.022328,
     "end_time": "2021-10-14T07:30:11.234218",
     "exception": false,
     "start_time": "2021-10-14T07:30:11.211890",
     "status": "completed"
    },
    "tags": []
   },
   "outputs": [],
   "source": []
  }
 ],
 "metadata": {
  "kernelspec": {
   "display_name": "Python 3",
   "language": "python",
   "name": "python3"
  },
  "language_info": {
   "codemirror_mode": {
    "name": "ipython",
    "version": 3
   },
   "file_extension": ".py",
   "mimetype": "text/x-python",
   "name": "python",
   "nbconvert_exporter": "python",
   "pygments_lexer": "ipython3",
   "version": "3.9.5"
  },
  "papermill": {
   "default_parameters": {},
   "duration": 7.825457,
   "end_time": "2021-10-14T07:30:12.545100",
   "environment_variables": {},
   "exception": null,
   "input_path": "eBay_Overview.ipynb",
   "output_path": "eBay_Overview.ipynb",
   "parameters": {},
   "start_time": "2021-10-14T07:30:04.719643",
   "version": "2.3.3"
  }
 },
 "nbformat": 4,
 "nbformat_minor": 5
}