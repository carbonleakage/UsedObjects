{
 "cells": [
  {
   "cell_type": "code",
   "execution_count": 1,
   "id": "reverse-picking",
   "metadata": {
    "execution": {
     "iopub.execute_input": "2021-10-30T07:00:07.562613Z",
     "iopub.status.busy": "2021-10-30T07:00:07.560617Z",
     "iopub.status.idle": "2021-10-30T07:00:08.365855Z",
     "shell.execute_reply": "2021-10-30T07:00:08.367107Z"
    },
    "papermill": {
     "duration": 0.856035,
     "end_time": "2021-10-30T07:00:08.367720",
     "exception": false,
     "start_time": "2021-10-30T07:00:07.511685",
     "status": "completed"
    },
    "tags": []
   },
   "outputs": [],
   "source": [
    "import pandas as pd\n",
    "import sqlite3"
   ]
  },
  {
   "cell_type": "code",
   "execution_count": 2,
   "id": "innovative-syndrome",
   "metadata": {
    "execution": {
     "iopub.execute_input": "2021-10-30T07:00:08.422444Z",
     "iopub.status.busy": "2021-10-30T07:00:08.419976Z",
     "iopub.status.idle": "2021-10-30T07:00:09.092927Z",
     "shell.execute_reply": "2021-10-30T07:00:09.094223Z"
    },
    "papermill": {
     "duration": 0.703222,
     "end_time": "2021-10-30T07:00:09.094635",
     "exception": false,
     "start_time": "2021-10-30T07:00:08.391413",
     "status": "completed"
    },
    "tags": []
   },
   "outputs": [],
   "source": [
    "timestamps = pd.read_sql(\"select distinct record_time from EBAY_TOP_BERLIN order by record_time desc limit 2\", sqlite3.connect(\"UsedObjects.db\"))"
   ]
  },
  {
   "cell_type": "code",
   "execution_count": 3,
   "id": "periodic-identification",
   "metadata": {
    "execution": {
     "iopub.execute_input": "2021-10-30T07:00:09.173332Z",
     "iopub.status.busy": "2021-10-30T07:00:09.171229Z",
     "iopub.status.idle": "2021-10-30T07:00:09.191024Z",
     "shell.execute_reply": "2021-10-30T07:00:09.192221Z"
    },
    "papermill": {
     "duration": 0.069449,
     "end_time": "2021-10-30T07:00:09.192610",
     "exception": false,
     "start_time": "2021-10-30T07:00:09.123161",
     "status": "completed"
    },
    "tags": []
   },
   "outputs": [
    {
     "data": {
      "text/html": [
       "<div>\n",
       "<style scoped>\n",
       "    .dataframe tbody tr th:only-of-type {\n",
       "        vertical-align: middle;\n",
       "    }\n",
       "\n",
       "    .dataframe tbody tr th {\n",
       "        vertical-align: top;\n",
       "    }\n",
       "\n",
       "    .dataframe thead th {\n",
       "        text-align: right;\n",
       "    }\n",
       "</style>\n",
       "<table border=\"1\" class=\"dataframe\">\n",
       "  <thead>\n",
       "    <tr style=\"text-align: right;\">\n",
       "      <th></th>\n",
       "      <th>RECORD_TIME</th>\n",
       "    </tr>\n",
       "  </thead>\n",
       "  <tbody>\n",
       "    <tr>\n",
       "      <th>0</th>\n",
       "      <td>2021-10-30 09:00</td>\n",
       "    </tr>\n",
       "    <tr>\n",
       "      <th>1</th>\n",
       "      <td>2021-10-30 08:30</td>\n",
       "    </tr>\n",
       "  </tbody>\n",
       "</table>\n",
       "</div>"
      ],
      "text/plain": [
       "        RECORD_TIME\n",
       "0  2021-10-30 09:00\n",
       "1  2021-10-30 08:30"
      ]
     },
     "execution_count": 3,
     "metadata": {},
     "output_type": "execute_result"
    }
   ],
   "source": [
    "timestamps"
   ]
  },
  {
   "cell_type": "code",
   "execution_count": 4,
   "id": "alternate-victory",
   "metadata": {
    "execution": {
     "iopub.execute_input": "2021-10-30T07:00:09.247410Z",
     "iopub.status.busy": "2021-10-30T07:00:09.245410Z",
     "iopub.status.idle": "2021-10-30T07:00:10.282797Z",
     "shell.execute_reply": "2021-10-30T07:00:10.284009Z"
    },
    "papermill": {
     "duration": 1.068138,
     "end_time": "2021-10-30T07:00:10.284406",
     "exception": false,
     "start_time": "2021-10-30T07:00:09.216268",
     "status": "completed"
    },
    "tags": []
   },
   "outputs": [],
   "source": [
    "df = pd.read_sql(\"select * from EBAY_TOP_BERLIN where record_time in (select distinct record_time from EBAY_TOP_BERLIN order by record_time desc limit 2)\", sqlite3.connect(\"UsedObjects.db\"))"
   ]
  },
  {
   "cell_type": "code",
   "execution_count": 5,
   "id": "popular-active",
   "metadata": {
    "execution": {
     "iopub.execute_input": "2021-10-30T07:00:10.345742Z",
     "iopub.status.busy": "2021-10-30T07:00:10.343482Z",
     "iopub.status.idle": "2021-10-30T07:00:10.371163Z",
     "shell.execute_reply": "2021-10-30T07:00:10.372369Z"
    },
    "papermill": {
     "duration": 0.06756,
     "end_time": "2021-10-30T07:00:10.372815",
     "exception": false,
     "start_time": "2021-10-30T07:00:10.305255",
     "status": "completed"
    },
    "tags": []
   },
   "outputs": [],
   "source": [
    "df_pivot = df.pivot_table(index=\"PRODUCT\", columns = \"RECORD_TIME\", values = \"LISTING_COUNT\")"
   ]
  },
  {
   "cell_type": "code",
   "execution_count": 6,
   "id": "union-huntington",
   "metadata": {
    "execution": {
     "iopub.execute_input": "2021-10-30T07:00:10.430151Z",
     "iopub.status.busy": "2021-10-30T07:00:10.427956Z",
     "iopub.status.idle": "2021-10-30T07:00:10.433733Z",
     "shell.execute_reply": "2021-10-30T07:00:10.435022Z"
    },
    "papermill": {
     "duration": 0.041046,
     "end_time": "2021-10-30T07:00:10.435466",
     "exception": false,
     "start_time": "2021-10-30T07:00:10.394420",
     "status": "completed"
    },
    "tags": []
   },
   "outputs": [],
   "source": [
    "df_pivot.columns = [\"stamp_1\", \"stamp_2\"]\n",
    "df_pivot_diff = df_pivot.diff(axis=1)"
   ]
  },
  {
   "cell_type": "code",
   "execution_count": 7,
   "id": "fifth-motion",
   "metadata": {
    "execution": {
     "iopub.execute_input": "2021-10-30T07:00:10.493798Z",
     "iopub.status.busy": "2021-10-30T07:00:10.491312Z",
     "iopub.status.idle": "2021-10-30T07:00:11.971911Z",
     "shell.execute_reply": "2021-10-30T07:00:11.973347Z"
    },
    "papermill": {
     "duration": 1.514274,
     "end_time": "2021-10-30T07:00:11.973806",
     "exception": false,
     "start_time": "2021-10-30T07:00:10.459532",
     "status": "completed"
    },
    "tags": []
   },
   "outputs": [
    {
     "data": {
      "text/plain": [
       "<AxesSubplot:ylabel='PRODUCT'>"
      ]
     },
     "execution_count": 7,
     "metadata": {},
     "output_type": "execute_result"
    },
    {
     "data": {
      "image/png": "[encoded data removed]",
      "text/plain": [
       "<Figure size 432x288 with 1 Axes>"
      ]
     },
     "metadata": {
      "needs_background": "light"
     },
     "output_type": "display_data"
    }
   ],
   "source": [
    "df_pivot_diff.sort_values(\"stamp_2\", ascending = False)[\"stamp_2\"].head(10).plot.barh()"
   ]
  },
  {
   "cell_type": "code",
   "execution_count": null,
   "id": "extra-executive",
   "metadata": {
    "papermill": {
     "duration": 0.022316,
     "end_time": "2021-10-30T07:00:12.020985",
     "exception": false,
     "start_time": "2021-10-30T07:00:11.998669",
     "status": "completed"
    },
    "tags": []
   },
   "outputs": [],
   "source": []
  }
 ],
 "metadata": {
  "kernelspec": {
   "display_name": "Python 3",
   "language": "python",
   "name": "python3"
  },
  "language_info": {
   "codemirror_mode": {
    "name": "ipython",
    "version": 3
   },
   "file_extension": ".py",
   "mimetype": "text/x-python",
   "name": "python",
   "nbconvert_exporter": "python",
   "pygments_lexer": "ipython3",
   "version": "3.9.5"
  },
  "papermill": {
   "default_parameters": {},
   "duration": 7.552774,
   "end_time": "2021-10-30T07:00:12.664490",
   "environment_variables": {},
   "exception": null,
   "input_path": "eBay_Overview.ipynb",
   "output_path": "eBay_Overview.ipynb",
   "parameters": {},
   "start_time": "2021-10-30T07:00:05.111716",
   "version": "2.3.3"
  }
 },
 "nbformat": 4,
 "nbformat_minor": 5
}