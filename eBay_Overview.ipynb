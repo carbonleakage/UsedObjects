{
 "cells": [
  {
   "cell_type": "code",
   "execution_count": 1,
   "id": "reverse-picking",
   "metadata": {
    "execution": {
     "iopub.execute_input": "2021-11-03T23:30:08.162260Z",
     "iopub.status.busy": "2021-11-03T23:30:08.159726Z",
     "iopub.status.idle": "2021-11-03T23:30:09.122482Z",
     "shell.execute_reply": "2021-11-03T23:30:09.123961Z"
    },
    "papermill": {
     "duration": 1.012129,
     "end_time": "2021-11-03T23:30:09.124670",
     "exception": false,
     "start_time": "2021-11-03T23:30:08.112541",
     "status": "completed"
    },
    "tags": []
   },
   "outputs": [],
   "source": [
    "import pandas as pd\n",
    "import sqlite3"
   ]
  },
  {
   "cell_type": "code",
   "execution_count": 2,
   "id": "innovative-syndrome",
   "metadata": {
    "execution": {
     "iopub.execute_input": "2021-11-03T23:30:09.192555Z",
     "iopub.status.busy": "2021-11-03T23:30:09.190613Z",
     "iopub.status.idle": "2021-11-03T23:30:09.903347Z",
     "shell.execute_reply": "2021-11-03T23:30:09.904619Z"
    },
    "papermill": {
     "duration": 0.745863,
     "end_time": "2021-11-03T23:30:09.905149",
     "exception": false,
     "start_time": "2021-11-03T23:30:09.159286",
     "status": "completed"
    },
    "tags": []
   },
   "outputs": [],
   "source": [
    "timestamps = pd.read_sql(\"select distinct record_time from EBAY_TOP_BERLIN order by record_time desc limit 2\", sqlite3.connect(\"UsedObjects.db\"))"
   ]
  },
  {
   "cell_type": "code",
   "execution_count": 3,
   "id": "periodic-identification",
   "metadata": {
    "execution": {
     "iopub.execute_input": "2021-11-03T23:30:09.972950Z",
     "iopub.status.busy": "2021-11-03T23:30:09.970727Z",
     "iopub.status.idle": "2021-11-03T23:30:09.992791Z",
     "shell.execute_reply": "2021-11-03T23:30:09.994182Z"
    },
    "papermill": {
     "duration": 0.070181,
     "end_time": "2021-11-03T23:30:09.994647",
     "exception": false,
     "start_time": "2021-11-03T23:30:09.924466",
     "status": "completed"
    },
    "tags": []
   },
   "outputs": [
    {
     "data": {
      "text/html": [
       "<div>\n",
       "<style scoped>\n",
       "    .dataframe tbody tr th:only-of-type {\n",
       "        vertical-align: middle;\n",
       "    }\n",
       "\n",
       "    .dataframe tbody tr th {\n",
       "        vertical-align: top;\n",
       "    }\n",
       "\n",
       "    .dataframe thead th {\n",
       "        text-align: right;\n",
       "    }\n",
       "</style>\n",
       "<table border=\"1\" class=\"dataframe\">\n",
       "  <thead>\n",
       "    <tr style=\"text-align: right;\">\n",
       "      <th></th>\n",
       "      <th>RECORD_TIME</th>\n",
       "    </tr>\n",
       "  </thead>\n",
       "  <tbody>\n",
       "    <tr>\n",
       "      <th>0</th>\n",
       "      <td>2021-11-04 00:30</td>\n",
       "    </tr>\n",
       "    <tr>\n",
       "      <th>1</th>\n",
       "      <td>2021-11-04 00:00</td>\n",
       "    </tr>\n",
       "  </tbody>\n",
       "</table>\n",
       "</div>"
      ],
      "text/plain": [
       "        RECORD_TIME\n",
       "0  2021-11-04 00:30\n",
       "1  2021-11-04 00:00"
      ]
     },
     "execution_count": 3,
     "metadata": {},
     "output_type": "execute_result"
    }
   ],
   "source": [
    "timestamps"
   ]
  },
  {
   "cell_type": "code",
   "execution_count": 4,
   "id": "alternate-victory",
   "metadata": {
    "execution": {
     "iopub.execute_input": "2021-11-03T23:30:10.049591Z",
     "iopub.status.busy": "2021-11-03T23:30:10.047306Z",
     "iopub.status.idle": "2021-11-03T23:30:11.066676Z",
     "shell.execute_reply": "2021-11-03T23:30:11.068183Z"
    },
    "papermill": {
     "duration": 1.053575,
     "end_time": "2021-11-03T23:30:11.068671",
     "exception": false,
     "start_time": "2021-11-03T23:30:10.015096",
     "status": "completed"
    },
    "tags": []
   },
   "outputs": [],
   "source": [
    "df = pd.read_sql(\"select * from EBAY_TOP_BERLIN where record_time in (select distinct record_time from EBAY_TOP_BERLIN order by record_time desc limit 2)\", sqlite3.connect(\"UsedObjects.db\"))"
   ]
  },
  {
   "cell_type": "code",
   "execution_count": 5,
   "id": "popular-active",
   "metadata": {
    "execution": {
     "iopub.execute_input": "2021-11-03T23:30:11.149027Z",
     "iopub.status.busy": "2021-11-03T23:30:11.134902Z",
     "iopub.status.idle": "2021-11-03T23:30:11.170523Z",
     "shell.execute_reply": "2021-11-03T23:30:11.168810Z"
    },
    "papermill": {
     "duration": 0.080168,
     "end_time": "2021-11-03T23:30:11.170949",
     "exception": false,
     "start_time": "2021-11-03T23:30:11.090781",
     "status": "completed"
    },
    "tags": []
   },
   "outputs": [],
   "source": [
    "df_pivot = df.pivot_table(index=\"PRODUCT\", columns = \"RECORD_TIME\", values = \"LISTING_COUNT\")"
   ]
  },
  {
   "cell_type": "code",
   "execution_count": 6,
   "id": "union-huntington",
   "metadata": {
    "execution": {
     "iopub.execute_input": "2021-11-03T23:30:11.233649Z",
     "iopub.status.busy": "2021-11-03T23:30:11.231285Z",
     "iopub.status.idle": "2021-11-03T23:30:11.237235Z",
     "shell.execute_reply": "2021-11-03T23:30:11.238750Z"
    },
    "papermill": {
     "duration": 0.045633,
     "end_time": "2021-11-03T23:30:11.239254",
     "exception": false,
     "start_time": "2021-11-03T23:30:11.193621",
     "status": "completed"
    },
    "tags": []
   },
   "outputs": [],
   "source": [
    "df_pivot.columns = [\"stamp_1\", \"stamp_2\"]\n",
    "df_pivot_diff = df_pivot.diff(axis=1)"
   ]
  },
  {
   "cell_type": "code",
   "execution_count": 7,
   "id": "fifth-motion",
   "metadata": {
    "execution": {
     "iopub.execute_input": "2021-11-03T23:30:11.299810Z",
     "iopub.status.busy": "2021-11-03T23:30:11.297376Z",
     "iopub.status.idle": "2021-11-03T23:30:13.089200Z",
     "shell.execute_reply": "2021-11-03T23:30:13.090633Z"
    },
    "papermill": {
     "duration": 1.829144,
     "end_time": "2021-11-03T23:30:13.091085",
     "exception": false,
     "start_time": "2021-11-03T23:30:11.261941",
     "status": "completed"
    },
    "tags": []
   },
   "outputs": [
    {
     "data": {
      "text/plain": [
       "<AxesSubplot:ylabel='PRODUCT'>"
      ]
     },
     "execution_count": 7,
     "metadata": {},
     "output_type": "execute_result"
    },
    {
     "data": {
      "image/png": "[encoded data removed]",
      "text/plain": [
       "<Figure size 432x288 with 1 Axes>"
      ]
     },
     "metadata": {
      "needs_background": "light"
     },
     "output_type": "display_data"
    }
   ],
   "source": [
    "df_pivot_diff.sort_values(\"stamp_2\", ascending = False)[\"stamp_2\"].head(10).plot.barh()"
   ]
  },
  {
   "cell_type": "code",
   "execution_count": null,
   "id": "extra-executive",
   "metadata": {
    "papermill": {
     "duration": 0.022185,
     "end_time": "2021-11-03T23:30:13.137785",
     "exception": false,
     "start_time": "2021-11-03T23:30:13.115600",
     "status": "completed"
    },
    "tags": []
   },
   "outputs": [],
   "source": []
  }
 ],
 "metadata": {
  "kernelspec": {
   "display_name": "Python 3",
   "language": "python",
   "name": "python3"
  },
  "language_info": {
   "codemirror_mode": {
    "name": "ipython",
    "version": 3
   },
   "file_extension": ".py",
   "mimetype": "text/x-python",
   "name": "python",
   "nbconvert_exporter": "python",
   "pygments_lexer": "ipython3",
   "version": "3.9.5"
  },
  "papermill": {
   "default_parameters": {},
   "duration": 8.930635,
   "end_time": "2021-11-03T23:30:14.296067",
   "environment_variables": {},
   "exception": null,
   "input_path": "eBay_Overview.ipynb",
   "output_path": "eBay_Overview.ipynb",
   "parameters": {},
   "start_time": "2021-11-03T23:30:05.365432",
   "version": "2.3.3"
  }
 },
 "nbformat": 4,
 "nbformat_minor": 5
}