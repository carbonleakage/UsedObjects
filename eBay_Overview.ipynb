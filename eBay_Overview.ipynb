{
 "cells": [
  {
   "cell_type": "code",
   "execution_count": 1,
   "id": "reverse-picking",
   "metadata": {
    "execution": {
     "iopub.execute_input": "2021-09-04T15:30:07.228368Z",
     "iopub.status.busy": "2021-09-04T15:30:07.226345Z",
     "iopub.status.idle": "2021-09-04T15:30:08.029289Z",
     "shell.execute_reply": "2021-09-04T15:30:08.030522Z"
    },
    "papermill": {
     "duration": 0.853319,
     "end_time": "2021-09-04T15:30:08.031216",
     "exception": false,
     "start_time": "2021-09-04T15:30:07.177897",
     "status": "completed"
    },
    "tags": []
   },
   "outputs": [],
   "source": [
    "import pandas as pd\n",
    "import sqlite3"
   ]
  },
  {
   "cell_type": "code",
   "execution_count": 2,
   "id": "innovative-syndrome",
   "metadata": {
    "execution": {
     "iopub.execute_input": "2021-09-04T15:30:08.081852Z",
     "iopub.status.busy": "2021-09-04T15:30:08.080012Z",
     "iopub.status.idle": "2021-09-04T15:30:08.287118Z",
     "shell.execute_reply": "2021-09-04T15:30:08.288598Z"
    },
    "papermill": {
     "duration": 0.236898,
     "end_time": "2021-09-04T15:30:08.289048",
     "exception": false,
     "start_time": "2021-09-04T15:30:08.052150",
     "status": "completed"
    },
    "tags": []
   },
   "outputs": [],
   "source": [
    "timestamps = pd.read_sql(\"select distinct record_time from EBAY_TOP_BERLIN order by record_time desc limit 2\", sqlite3.connect(\"UsedObjects.db\"))"
   ]
  },
  {
   "cell_type": "code",
   "execution_count": 3,
   "id": "periodic-identification",
   "metadata": {
    "execution": {
     "iopub.execute_input": "2021-09-04T15:30:08.356072Z",
     "iopub.status.busy": "2021-09-04T15:30:08.354012Z",
     "iopub.status.idle": "2021-09-04T15:30:08.373971Z",
     "shell.execute_reply": "2021-09-04T15:30:08.375361Z"
    },
    "papermill": {
     "duration": 0.066788,
     "end_time": "2021-09-04T15:30:08.375823",
     "exception": false,
     "start_time": "2021-09-04T15:30:08.309035",
     "status": "completed"
    },
    "tags": []
   },
   "outputs": [
    {
     "data": {
      "text/html": [
       "<div>\n",
       "<style scoped>\n",
       "    .dataframe tbody tr th:only-of-type {\n",
       "        vertical-align: middle;\n",
       "    }\n",
       "\n",
       "    .dataframe tbody tr th {\n",
       "        vertical-align: top;\n",
       "    }\n",
       "\n",
       "    .dataframe thead th {\n",
       "        text-align: right;\n",
       "    }\n",
       "</style>\n",
       "<table border=\"1\" class=\"dataframe\">\n",
       "  <thead>\n",
       "    <tr style=\"text-align: right;\">\n",
       "      <th></th>\n",
       "      <th>RECORD_TIME</th>\n",
       "    </tr>\n",
       "  </thead>\n",
       "  <tbody>\n",
       "    <tr>\n",
       "      <th>0</th>\n",
       "      <td>2021-09-04 17:30</td>\n",
       "    </tr>\n",
       "    <tr>\n",
       "      <th>1</th>\n",
       "      <td>2021-09-04 17:00</td>\n",
       "    </tr>\n",
       "  </tbody>\n",
       "</table>\n",
       "</div>"
      ],
      "text/plain": [
       "        RECORD_TIME\n",
       "0  2021-09-04 17:30\n",
       "1  2021-09-04 17:00"
      ]
     },
     "execution_count": 3,
     "metadata": {},
     "output_type": "execute_result"
    }
   ],
   "source": [
    "timestamps"
   ]
  },
  {
   "cell_type": "code",
   "execution_count": 4,
   "id": "alternate-victory",
   "metadata": {
    "execution": {
     "iopub.execute_input": "2021-09-04T15:30:08.427044Z",
     "iopub.status.busy": "2021-09-04T15:30:08.425174Z",
     "iopub.status.idle": "2021-09-04T15:30:08.732661Z",
     "shell.execute_reply": "2021-09-04T15:30:08.733859Z"
    },
    "papermill": {
     "duration": 0.337296,
     "end_time": "2021-09-04T15:30:08.734262",
     "exception": false,
     "start_time": "2021-09-04T15:30:08.396966",
     "status": "completed"
    },
    "tags": []
   },
   "outputs": [],
   "source": [
    "df = pd.read_sql(\"select * from EBAY_TOP_BERLIN where record_time in (select distinct record_time from EBAY_TOP_BERLIN order by record_time desc limit 2)\", sqlite3.connect(\"UsedObjects.db\"))"
   ]
  },
  {
   "cell_type": "code",
   "execution_count": 5,
   "id": "popular-active",
   "metadata": {
    "execution": {
     "iopub.execute_input": "2021-09-04T15:30:08.810459Z",
     "iopub.status.busy": "2021-09-04T15:30:08.798908Z",
     "iopub.status.idle": "2021-09-04T15:30:08.826205Z",
     "shell.execute_reply": "2021-09-04T15:30:08.827456Z"
    },
    "papermill": {
     "duration": 0.069799,
     "end_time": "2021-09-04T15:30:08.827862",
     "exception": false,
     "start_time": "2021-09-04T15:30:08.758063",
     "status": "completed"
    },
    "tags": []
   },
   "outputs": [],
   "source": [
    "df_pivot = df.pivot_table(index=\"PRODUCT\", columns = \"RECORD_TIME\", values = \"LISTING_COUNT\")"
   ]
  },
  {
   "cell_type": "code",
   "execution_count": 6,
   "id": "union-huntington",
   "metadata": {
    "execution": {
     "iopub.execute_input": "2021-09-04T15:30:08.886366Z",
     "iopub.status.busy": "2021-09-04T15:30:08.884133Z",
     "iopub.status.idle": "2021-09-04T15:30:08.889996Z",
     "shell.execute_reply": "2021-09-04T15:30:08.891487Z"
    },
    "papermill": {
     "duration": 0.041753,
     "end_time": "2021-09-04T15:30:08.891960",
     "exception": false,
     "start_time": "2021-09-04T15:30:08.850207",
     "status": "completed"
    },
    "tags": []
   },
   "outputs": [],
   "source": [
    "df_pivot.columns = [\"stamp_1\", \"stamp_2\"]\n",
    "df_pivot_diff = df_pivot.diff(axis=1)"
   ]
  },
  {
   "cell_type": "code",
   "execution_count": 7,
   "id": "fifth-motion",
   "metadata": {
    "execution": {
     "iopub.execute_input": "2021-09-04T15:30:08.946757Z",
     "iopub.status.busy": "2021-09-04T15:30:08.944592Z",
     "iopub.status.idle": "2021-09-04T15:30:10.407717Z",
     "shell.execute_reply": "2021-09-04T15:30:10.409157Z"
    },
    "papermill": {
     "duration": 1.495785,
     "end_time": "2021-09-04T15:30:10.409630",
     "exception": false,
     "start_time": "2021-09-04T15:30:08.913845",
     "status": "completed"
    },
    "tags": []
   },
   "outputs": [
    {
     "data": {
      "text/plain": [
       "<AxesSubplot:ylabel='PRODUCT'>"
      ]
     },
     "execution_count": 7,
     "metadata": {},
     "output_type": "execute_result"
    },
    {
     "data": {
      "image/png": "[encoded data removed]",
      "text/plain": [
       "<Figure size 432x288 with 1 Axes>"
      ]
     },
     "metadata": {
      "needs_background": "light"
     },
     "output_type": "display_data"
    }
   ],
   "source": [
    "df_pivot_diff.sort_values(\"stamp_2\", ascending = False)[\"stamp_2\"].head(10).plot.barh()"
   ]
  },
  {
   "cell_type": "code",
   "execution_count": null,
   "id": "extra-executive",
   "metadata": {
    "papermill": {
     "duration": 0.022179,
     "end_time": "2021-09-04T15:30:10.455865",
     "exception": false,
     "start_time": "2021-09-04T15:30:10.433686",
     "status": "completed"
    },
    "tags": []
   },
   "outputs": [],
   "source": []
  }
 ],
 "metadata": {
  "kernelspec": {
   "display_name": "Python 3",
   "language": "python",
   "name": "python3"
  },
  "language_info": {
   "codemirror_mode": {
    "name": "ipython",
    "version": 3
   },
   "file_extension": ".py",
   "mimetype": "text/x-python",
   "name": "python",
   "nbconvert_exporter": "python",
   "pygments_lexer": "ipython3",
   "version": "3.9.5"
  },
  "papermill": {
   "default_parameters": {},
   "duration": 6.823497,
   "end_time": "2021-09-04T15:30:11.603283",
   "environment_variables": {},
   "exception": null,
   "input_path": "eBay_Overview.ipynb",
   "output_path": "eBay_Overview.ipynb",
   "parameters": {},
   "start_time": "2021-09-04T15:30:04.779786",
   "version": "2.3.3"
  }
 },
 "nbformat": 4,
 "nbformat_minor": 5
}