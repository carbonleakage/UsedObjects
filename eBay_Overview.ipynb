{
 "cells": [
  {
   "cell_type": "code",
   "execution_count": 1,
   "id": "reverse-picking",
   "metadata": {
    "execution": {
     "iopub.execute_input": "2021-10-19T11:00:07.886826Z",
     "iopub.status.busy": "2021-10-19T11:00:07.884888Z",
     "iopub.status.idle": "2021-10-19T11:00:08.690911Z",
     "shell.execute_reply": "2021-10-19T11:00:08.692079Z"
    },
    "papermill": {
     "duration": 0.85823,
     "end_time": "2021-10-19T11:00:08.692751",
     "exception": false,
     "start_time": "2021-10-19T11:00:07.834521",
     "status": "completed"
    },
    "tags": []
   },
   "outputs": [],
   "source": [
    "import pandas as pd\n",
    "import sqlite3"
   ]
  },
  {
   "cell_type": "code",
   "execution_count": 2,
   "id": "innovative-syndrome",
   "metadata": {
    "execution": {
     "iopub.execute_input": "2021-10-19T11:00:08.744224Z",
     "iopub.status.busy": "2021-10-19T11:00:08.742362Z",
     "iopub.status.idle": "2021-10-19T11:00:09.325879Z",
     "shell.execute_reply": "2021-10-19T11:00:09.327070Z"
    },
    "papermill": {
     "duration": 0.613039,
     "end_time": "2021-10-19T11:00:09.327462",
     "exception": false,
     "start_time": "2021-10-19T11:00:08.714423",
     "status": "completed"
    },
    "tags": []
   },
   "outputs": [],
   "source": [
    "timestamps = pd.read_sql(\"select distinct record_time from EBAY_TOP_BERLIN order by record_time desc limit 2\", sqlite3.connect(\"UsedObjects.db\"))"
   ]
  },
  {
   "cell_type": "code",
   "execution_count": 3,
   "id": "periodic-identification",
   "metadata": {
    "execution": {
     "iopub.execute_input": "2021-10-19T11:00:09.403453Z",
     "iopub.status.busy": "2021-10-19T11:00:09.401437Z",
     "iopub.status.idle": "2021-10-19T11:00:09.422121Z",
     "shell.execute_reply": "2021-10-19T11:00:09.423413Z"
    },
    "papermill": {
     "duration": 0.069841,
     "end_time": "2021-10-19T11:00:09.423817",
     "exception": false,
     "start_time": "2021-10-19T11:00:09.353976",
     "status": "completed"
    },
    "tags": []
   },
   "outputs": [
    {
     "data": {
      "text/html": [
       "<div>\n",
       "<style scoped>\n",
       "    .dataframe tbody tr th:only-of-type {\n",
       "        vertical-align: middle;\n",
       "    }\n",
       "\n",
       "    .dataframe tbody tr th {\n",
       "        vertical-align: top;\n",
       "    }\n",
       "\n",
       "    .dataframe thead th {\n",
       "        text-align: right;\n",
       "    }\n",
       "</style>\n",
       "<table border=\"1\" class=\"dataframe\">\n",
       "  <thead>\n",
       "    <tr style=\"text-align: right;\">\n",
       "      <th></th>\n",
       "      <th>RECORD_TIME</th>\n",
       "    </tr>\n",
       "  </thead>\n",
       "  <tbody>\n",
       "    <tr>\n",
       "      <th>0</th>\n",
       "      <td>2021-10-19 13:00</td>\n",
       "    </tr>\n",
       "    <tr>\n",
       "      <th>1</th>\n",
       "      <td>2021-10-19 12:30</td>\n",
       "    </tr>\n",
       "  </tbody>\n",
       "</table>\n",
       "</div>"
      ],
      "text/plain": [
       "        RECORD_TIME\n",
       "0  2021-10-19 13:00\n",
       "1  2021-10-19 12:30"
      ]
     },
     "execution_count": 3,
     "metadata": {},
     "output_type": "execute_result"
    }
   ],
   "source": [
    "timestamps"
   ]
  },
  {
   "cell_type": "code",
   "execution_count": 4,
   "id": "alternate-victory",
   "metadata": {
    "execution": {
     "iopub.execute_input": "2021-10-19T11:00:09.476454Z",
     "iopub.status.busy": "2021-10-19T11:00:09.474375Z",
     "iopub.status.idle": "2021-10-19T11:00:10.317091Z",
     "shell.execute_reply": "2021-10-19T11:00:10.318222Z"
    },
    "papermill": {
     "duration": 0.873791,
     "end_time": "2021-10-19T11:00:10.318624",
     "exception": false,
     "start_time": "2021-10-19T11:00:09.444833",
     "status": "completed"
    },
    "tags": []
   },
   "outputs": [],
   "source": [
    "df = pd.read_sql(\"select * from EBAY_TOP_BERLIN where record_time in (select distinct record_time from EBAY_TOP_BERLIN order by record_time desc limit 2)\", sqlite3.connect(\"UsedObjects.db\"))"
   ]
  },
  {
   "cell_type": "code",
   "execution_count": 5,
   "id": "popular-active",
   "metadata": {
    "execution": {
     "iopub.execute_input": "2021-10-19T11:00:10.390067Z",
     "iopub.status.busy": "2021-10-19T11:00:10.377463Z",
     "iopub.status.idle": "2021-10-19T11:00:10.407236Z",
     "shell.execute_reply": "2021-10-19T11:00:10.408510Z"
    },
    "papermill": {
     "duration": 0.068491,
     "end_time": "2021-10-19T11:00:10.408986",
     "exception": false,
     "start_time": "2021-10-19T11:00:10.340495",
     "status": "completed"
    },
    "tags": []
   },
   "outputs": [],
   "source": [
    "df_pivot = df.pivot_table(index=\"PRODUCT\", columns = \"RECORD_TIME\", values = \"LISTING_COUNT\")"
   ]
  },
  {
   "cell_type": "code",
   "execution_count": 6,
   "id": "union-huntington",
   "metadata": {
    "execution": {
     "iopub.execute_input": "2021-10-19T11:00:10.465184Z",
     "iopub.status.busy": "2021-10-19T11:00:10.463084Z",
     "iopub.status.idle": "2021-10-19T11:00:10.468434Z",
     "shell.execute_reply": "2021-10-19T11:00:10.469681Z"
    },
    "papermill": {
     "duration": 0.040825,
     "end_time": "2021-10-19T11:00:10.470109",
     "exception": false,
     "start_time": "2021-10-19T11:00:10.429284",
     "status": "completed"
    },
    "tags": []
   },
   "outputs": [],
   "source": [
    "df_pivot.columns = [\"stamp_1\", \"stamp_2\"]\n",
    "df_pivot_diff = df_pivot.diff(axis=1)"
   ]
  },
  {
   "cell_type": "code",
   "execution_count": 7,
   "id": "fifth-motion",
   "metadata": {
    "execution": {
     "iopub.execute_input": "2021-10-19T11:00:10.525149Z",
     "iopub.status.busy": "2021-10-19T11:00:10.522875Z",
     "iopub.status.idle": "2021-10-19T11:00:11.994136Z",
     "shell.execute_reply": "2021-10-19T11:00:11.995748Z"
    },
    "papermill": {
     "duration": 1.505688,
     "end_time": "2021-10-19T11:00:11.996235",
     "exception": false,
     "start_time": "2021-10-19T11:00:10.490547",
     "status": "completed"
    },
    "tags": []
   },
   "outputs": [
    {
     "data": {
      "text/plain": [
       "<AxesSubplot:ylabel='PRODUCT'>"
      ]
     },
     "execution_count": 7,
     "metadata": {},
     "output_type": "execute_result"
    },
    {
     "data": {
      "image/png": "[encoded data removed]",
      "text/plain": [
       "<Figure size 432x288 with 1 Axes>"
      ]
     },
     "metadata": {
      "needs_background": "light"
     },
     "output_type": "display_data"
    }
   ],
   "source": [
    "df_pivot_diff.sort_values(\"stamp_2\", ascending = False)[\"stamp_2\"].head(10).plot.barh()"
   ]
  },
  {
   "cell_type": "code",
   "execution_count": null,
   "id": "extra-executive",
   "metadata": {
    "papermill": {
     "duration": 0.022072,
     "end_time": "2021-10-19T11:00:12.043750",
     "exception": false,
     "start_time": "2021-10-19T11:00:12.021678",
     "status": "completed"
    },
    "tags": []
   },
   "outputs": [],
   "source": []
  }
 ],
 "metadata": {
  "kernelspec": {
   "display_name": "Python 3",
   "language": "python",
   "name": "python3"
  },
  "language_info": {
   "codemirror_mode": {
    "name": "ipython",
    "version": 3
   },
   "file_extension": ".py",
   "mimetype": "text/x-python",
   "name": "python",
   "nbconvert_exporter": "python",
   "pygments_lexer": "ipython3",
   "version": "3.9.5"
  },
  "papermill": {
   "default_parameters": {},
   "duration": 7.818224,
   "end_time": "2021-10-19T11:00:13.247592",
   "environment_variables": {},
   "exception": null,
   "input_path": "eBay_Overview.ipynb",
   "output_path": "eBay_Overview.ipynb",
   "parameters": {},
   "start_time": "2021-10-19T11:00:05.429368",
   "version": "2.3.3"
  }
 },
 "nbformat": 4,
 "nbformat_minor": 5
}