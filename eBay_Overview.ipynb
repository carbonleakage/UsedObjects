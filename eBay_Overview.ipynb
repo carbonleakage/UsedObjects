{
 "cells": [
  {
   "cell_type": "code",
   "execution_count": 1,
   "id": "reverse-picking",
   "metadata": {
    "execution": {
     "iopub.execute_input": "2021-09-19T14:30:06.559246Z",
     "iopub.status.busy": "2021-09-19T14:30:06.557248Z",
     "iopub.status.idle": "2021-09-19T14:30:07.360144Z",
     "shell.execute_reply": "2021-09-19T14:30:07.361560Z"
    },
    "papermill": {
     "duration": 0.854763,
     "end_time": "2021-09-19T14:30:07.362240",
     "exception": false,
     "start_time": "2021-09-19T14:30:06.507477",
     "status": "completed"
    },
    "tags": []
   },
   "outputs": [],
   "source": [
    "import pandas as pd\n",
    "import sqlite3"
   ]
  },
  {
   "cell_type": "code",
   "execution_count": 2,
   "id": "innovative-syndrome",
   "metadata": {
    "execution": {
     "iopub.execute_input": "2021-09-19T14:30:07.413355Z",
     "iopub.status.busy": "2021-09-19T14:30:07.411042Z",
     "iopub.status.idle": "2021-09-19T14:30:07.735294Z",
     "shell.execute_reply": "2021-09-19T14:30:07.736588Z"
    },
    "papermill": {
     "duration": 0.354352,
     "end_time": "2021-09-19T14:30:07.737010",
     "exception": false,
     "start_time": "2021-09-19T14:30:07.382658",
     "status": "completed"
    },
    "tags": []
   },
   "outputs": [],
   "source": [
    "timestamps = pd.read_sql(\"select distinct record_time from EBAY_TOP_BERLIN order by record_time desc limit 2\", sqlite3.connect(\"UsedObjects.db\"))"
   ]
  },
  {
   "cell_type": "code",
   "execution_count": 3,
   "id": "periodic-identification",
   "metadata": {
    "execution": {
     "iopub.execute_input": "2021-09-19T14:30:07.801586Z",
     "iopub.status.busy": "2021-09-19T14:30:07.799574Z",
     "iopub.status.idle": "2021-09-19T14:30:07.821975Z",
     "shell.execute_reply": "2021-09-19T14:30:07.820558Z"
    },
    "papermill": {
     "duration": 0.064202,
     "end_time": "2021-09-19T14:30:07.822333",
     "exception": false,
     "start_time": "2021-09-19T14:30:07.758131",
     "status": "completed"
    },
    "tags": []
   },
   "outputs": [
    {
     "data": {
      "text/html": [
       "<div>\n",
       "<style scoped>\n",
       "    .dataframe tbody tr th:only-of-type {\n",
       "        vertical-align: middle;\n",
       "    }\n",
       "\n",
       "    .dataframe tbody tr th {\n",
       "        vertical-align: top;\n",
       "    }\n",
       "\n",
       "    .dataframe thead th {\n",
       "        text-align: right;\n",
       "    }\n",
       "</style>\n",
       "<table border=\"1\" class=\"dataframe\">\n",
       "  <thead>\n",
       "    <tr style=\"text-align: right;\">\n",
       "      <th></th>\n",
       "      <th>RECORD_TIME</th>\n",
       "    </tr>\n",
       "  </thead>\n",
       "  <tbody>\n",
       "    <tr>\n",
       "      <th>0</th>\n",
       "      <td>2021-09-19 16:30</td>\n",
       "    </tr>\n",
       "    <tr>\n",
       "      <th>1</th>\n",
       "      <td>2021-09-19 16:00</td>\n",
       "    </tr>\n",
       "  </tbody>\n",
       "</table>\n",
       "</div>"
      ],
      "text/plain": [
       "        RECORD_TIME\n",
       "0  2021-09-19 16:30\n",
       "1  2021-09-19 16:00"
      ]
     },
     "execution_count": 3,
     "metadata": {},
     "output_type": "execute_result"
    }
   ],
   "source": [
    "timestamps"
   ]
  },
  {
   "cell_type": "code",
   "execution_count": 4,
   "id": "alternate-victory",
   "metadata": {
    "execution": {
     "iopub.execute_input": "2021-09-19T14:30:07.875219Z",
     "iopub.status.busy": "2021-09-19T14:30:07.872888Z",
     "iopub.status.idle": "2021-09-19T14:30:08.347697Z",
     "shell.execute_reply": "2021-09-19T14:30:08.348999Z"
    },
    "papermill": {
     "duration": 0.505176,
     "end_time": "2021-09-19T14:30:08.349399",
     "exception": false,
     "start_time": "2021-09-19T14:30:07.844223",
     "status": "completed"
    },
    "tags": []
   },
   "outputs": [],
   "source": [
    "df = pd.read_sql(\"select * from EBAY_TOP_BERLIN where record_time in (select distinct record_time from EBAY_TOP_BERLIN order by record_time desc limit 2)\", sqlite3.connect(\"UsedObjects.db\"))"
   ]
  },
  {
   "cell_type": "code",
   "execution_count": 5,
   "id": "popular-active",
   "metadata": {
    "execution": {
     "iopub.execute_input": "2021-09-19T14:30:08.428499Z",
     "iopub.status.busy": "2021-09-19T14:30:08.416395Z",
     "iopub.status.idle": "2021-09-19T14:30:08.444976Z",
     "shell.execute_reply": "2021-09-19T14:30:08.446341Z"
    },
    "papermill": {
     "duration": 0.071482,
     "end_time": "2021-09-19T14:30:08.446779",
     "exception": false,
     "start_time": "2021-09-19T14:30:08.375297",
     "status": "completed"
    },
    "tags": []
   },
   "outputs": [],
   "source": [
    "df_pivot = df.pivot_table(index=\"PRODUCT\", columns = \"RECORD_TIME\", values = \"LISTING_COUNT\")"
   ]
  },
  {
   "cell_type": "code",
   "execution_count": 6,
   "id": "union-huntington",
   "metadata": {
    "execution": {
     "iopub.execute_input": "2021-09-19T14:30:08.503261Z",
     "iopub.status.busy": "2021-09-19T14:30:08.501131Z",
     "iopub.status.idle": "2021-09-19T14:30:08.508078Z",
     "shell.execute_reply": "2021-09-19T14:30:08.506611Z"
    },
    "papermill": {
     "duration": 0.041399,
     "end_time": "2021-09-19T14:30:08.508439",
     "exception": false,
     "start_time": "2021-09-19T14:30:08.467040",
     "status": "completed"
    },
    "tags": []
   },
   "outputs": [],
   "source": [
    "df_pivot.columns = [\"stamp_1\", \"stamp_2\"]\n",
    "df_pivot_diff = df_pivot.diff(axis=1)"
   ]
  },
  {
   "cell_type": "code",
   "execution_count": 7,
   "id": "fifth-motion",
   "metadata": {
    "execution": {
     "iopub.execute_input": "2021-09-19T14:30:08.562379Z",
     "iopub.status.busy": "2021-09-19T14:30:08.560003Z",
     "iopub.status.idle": "2021-09-19T14:30:10.028626Z",
     "shell.execute_reply": "2021-09-19T14:30:10.029917Z"
    },
    "papermill": {
     "duration": 1.50142,
     "end_time": "2021-09-19T14:30:10.030344",
     "exception": false,
     "start_time": "2021-09-19T14:30:08.528924",
     "status": "completed"
    },
    "tags": []
   },
   "outputs": [
    {
     "data": {
      "text/plain": [
       "<AxesSubplot:ylabel='PRODUCT'>"
      ]
     },
     "execution_count": 7,
     "metadata": {},
     "output_type": "execute_result"
    },
    {
     "data": {
      "image/png": "[encoded data removed]",
      "text/plain": [
       "<Figure size 432x288 with 1 Axes>"
      ]
     },
     "metadata": {
      "needs_background": "light"
     },
     "output_type": "display_data"
    }
   ],
   "source": [
    "df_pivot_diff.sort_values(\"stamp_2\", ascending = False)[\"stamp_2\"].head(10).plot.barh()"
   ]
  },
  {
   "cell_type": "code",
   "execution_count": null,
   "id": "extra-executive",
   "metadata": {
    "papermill": {
     "duration": 0.022308,
     "end_time": "2021-09-19T14:30:10.078905",
     "exception": false,
     "start_time": "2021-09-19T14:30:10.056597",
     "status": "completed"
    },
    "tags": []
   },
   "outputs": [],
   "source": []
  }
 ],
 "metadata": {
  "kernelspec": {
   "display_name": "Python 3",
   "language": "python",
   "name": "python3"
  },
  "language_info": {
   "codemirror_mode": {
    "name": "ipython",
    "version": 3
   },
   "file_extension": ".py",
   "mimetype": "text/x-python",
   "name": "python",
   "nbconvert_exporter": "python",
   "pygments_lexer": "ipython3",
   "version": "3.9.5"
  },
  "papermill": {
   "default_parameters": {},
   "duration": 6.617944,
   "end_time": "2021-09-19T14:30:10.719298",
   "environment_variables": {},
   "exception": null,
   "input_path": "eBay_Overview.ipynb",
   "output_path": "eBay_Overview.ipynb",
   "parameters": {},
   "start_time": "2021-09-19T14:30:04.101354",
   "version": "2.3.3"
  }
 },
 "nbformat": 4,
 "nbformat_minor": 5
}