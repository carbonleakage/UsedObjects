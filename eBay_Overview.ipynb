{
 "cells": [
  {
   "cell_type": "code",
   "execution_count": 1,
   "id": "reverse-picking",
   "metadata": {
    "execution": {
     "iopub.execute_input": "2021-10-07T08:00:06.851784Z",
     "iopub.status.busy": "2021-10-07T08:00:06.849747Z",
     "iopub.status.idle": "2021-10-07T08:00:07.655611Z",
     "shell.execute_reply": "2021-10-07T08:00:07.656904Z"
    },
    "papermill": {
     "duration": 0.854799,
     "end_time": "2021-10-07T08:00:07.657522",
     "exception": false,
     "start_time": "2021-10-07T08:00:06.802723",
     "status": "completed"
    },
    "tags": []
   },
   "outputs": [],
   "source": [
    "import pandas as pd\n",
    "import sqlite3"
   ]
  },
  {
   "cell_type": "code",
   "execution_count": 2,
   "id": "innovative-syndrome",
   "metadata": {
    "execution": {
     "iopub.execute_input": "2021-10-07T08:00:07.711589Z",
     "iopub.status.busy": "2021-10-07T08:00:07.709130Z",
     "iopub.status.idle": "2021-10-07T08:00:08.179298Z",
     "shell.execute_reply": "2021-10-07T08:00:08.180617Z"
    },
    "papermill": {
     "duration": 0.500387,
     "end_time": "2021-10-07T08:00:08.181039",
     "exception": false,
     "start_time": "2021-10-07T08:00:07.680652",
     "status": "completed"
    },
    "tags": []
   },
   "outputs": [],
   "source": [
    "timestamps = pd.read_sql(\"select distinct record_time from EBAY_TOP_BERLIN order by record_time desc limit 2\", sqlite3.connect(\"UsedObjects.db\"))"
   ]
  },
  {
   "cell_type": "code",
   "execution_count": 3,
   "id": "periodic-identification",
   "metadata": {
    "execution": {
     "iopub.execute_input": "2021-10-07T08:00:08.245928Z",
     "iopub.status.busy": "2021-10-07T08:00:08.243900Z",
     "iopub.status.idle": "2021-10-07T08:00:08.263758Z",
     "shell.execute_reply": "2021-10-07T08:00:08.264988Z"
    },
    "papermill": {
     "duration": 0.064021,
     "end_time": "2021-10-07T08:00:08.265427",
     "exception": false,
     "start_time": "2021-10-07T08:00:08.201406",
     "status": "completed"
    },
    "tags": []
   },
   "outputs": [
    {
     "data": {
      "text/html": [
       "<div>\n",
       "<style scoped>\n",
       "    .dataframe tbody tr th:only-of-type {\n",
       "        vertical-align: middle;\n",
       "    }\n",
       "\n",
       "    .dataframe tbody tr th {\n",
       "        vertical-align: top;\n",
       "    }\n",
       "\n",
       "    .dataframe thead th {\n",
       "        text-align: right;\n",
       "    }\n",
       "</style>\n",
       "<table border=\"1\" class=\"dataframe\">\n",
       "  <thead>\n",
       "    <tr style=\"text-align: right;\">\n",
       "      <th></th>\n",
       "      <th>RECORD_TIME</th>\n",
       "    </tr>\n",
       "  </thead>\n",
       "  <tbody>\n",
       "    <tr>\n",
       "      <th>0</th>\n",
       "      <td>2021-10-07 10:00</td>\n",
       "    </tr>\n",
       "    <tr>\n",
       "      <th>1</th>\n",
       "      <td>2021-10-07 09:30</td>\n",
       "    </tr>\n",
       "  </tbody>\n",
       "</table>\n",
       "</div>"
      ],
      "text/plain": [
       "        RECORD_TIME\n",
       "0  2021-10-07 10:00\n",
       "1  2021-10-07 09:30"
      ]
     },
     "execution_count": 3,
     "metadata": {},
     "output_type": "execute_result"
    }
   ],
   "source": [
    "timestamps"
   ]
  },
  {
   "cell_type": "code",
   "execution_count": 4,
   "id": "alternate-victory",
   "metadata": {
    "execution": {
     "iopub.execute_input": "2021-10-07T08:00:08.326645Z",
     "iopub.status.busy": "2021-10-07T08:00:08.324766Z",
     "iopub.status.idle": "2021-10-07T08:00:09.013378Z",
     "shell.execute_reply": "2021-10-07T08:00:09.014666Z"
    },
    "papermill": {
     "duration": 0.721464,
     "end_time": "2021-10-07T08:00:09.015174",
     "exception": false,
     "start_time": "2021-10-07T08:00:08.293710",
     "status": "completed"
    },
    "tags": []
   },
   "outputs": [],
   "source": [
    "df = pd.read_sql(\"select * from EBAY_TOP_BERLIN where record_time in (select distinct record_time from EBAY_TOP_BERLIN order by record_time desc limit 2)\", sqlite3.connect(\"UsedObjects.db\"))"
   ]
  },
  {
   "cell_type": "code",
   "execution_count": 5,
   "id": "popular-active",
   "metadata": {
    "execution": {
     "iopub.execute_input": "2021-10-07T08:00:09.086145Z",
     "iopub.status.busy": "2021-10-07T08:00:09.074742Z",
     "iopub.status.idle": "2021-10-07T08:00:09.103646Z",
     "shell.execute_reply": "2021-10-07T08:00:09.105077Z"
    },
    "papermill": {
     "duration": 0.070065,
     "end_time": "2021-10-07T08:00:09.105521",
     "exception": false,
     "start_time": "2021-10-07T08:00:09.035456",
     "status": "completed"
    },
    "tags": []
   },
   "outputs": [],
   "source": [
    "df_pivot = df.pivot_table(index=\"PRODUCT\", columns = \"RECORD_TIME\", values = \"LISTING_COUNT\")"
   ]
  },
  {
   "cell_type": "code",
   "execution_count": 6,
   "id": "union-huntington",
   "metadata": {
    "execution": {
     "iopub.execute_input": "2021-10-07T08:00:09.163085Z",
     "iopub.status.busy": "2021-10-07T08:00:09.160591Z",
     "iopub.status.idle": "2021-10-07T08:00:09.166608Z",
     "shell.execute_reply": "2021-10-07T08:00:09.168081Z"
    },
    "papermill": {
     "duration": 0.042744,
     "end_time": "2021-10-07T08:00:09.168531",
     "exception": false,
     "start_time": "2021-10-07T08:00:09.125787",
     "status": "completed"
    },
    "tags": []
   },
   "outputs": [],
   "source": [
    "df_pivot.columns = [\"stamp_1\", \"stamp_2\"]\n",
    "df_pivot_diff = df_pivot.diff(axis=1)"
   ]
  },
  {
   "cell_type": "code",
   "execution_count": 7,
   "id": "fifth-motion",
   "metadata": {
    "execution": {
     "iopub.execute_input": "2021-10-07T08:00:09.223865Z",
     "iopub.status.busy": "2021-10-07T08:00:09.221033Z",
     "iopub.status.idle": "2021-10-07T08:00:10.729875Z",
     "shell.execute_reply": "2021-10-07T08:00:10.731422Z"
    },
    "papermill": {
     "duration": 1.542119,
     "end_time": "2021-10-07T08:00:10.731912",
     "exception": false,
     "start_time": "2021-10-07T08:00:09.189793",
     "status": "completed"
    },
    "tags": []
   },
   "outputs": [
    {
     "data": {
      "text/plain": [
       "<AxesSubplot:ylabel='PRODUCT'>"
      ]
     },
     "execution_count": 7,
     "metadata": {},
     "output_type": "execute_result"
    },
    {
     "data": {
      "image/png": "[encoded data removed]",
      "text/plain": [
       "<Figure size 432x288 with 1 Axes>"
      ]
     },
     "metadata": {
      "needs_background": "light"
     },
     "output_type": "display_data"
    }
   ],
   "source": [
    "df_pivot_diff.sort_values(\"stamp_2\", ascending = False)[\"stamp_2\"].head(10).plot.barh()"
   ]
  },
  {
   "cell_type": "code",
   "execution_count": null,
   "id": "extra-executive",
   "metadata": {
    "papermill": {
     "duration": 0.022524,
     "end_time": "2021-10-07T08:00:10.779458",
     "exception": false,
     "start_time": "2021-10-07T08:00:10.756934",
     "status": "completed"
    },
    "tags": []
   },
   "outputs": [],
   "source": []
  }
 ],
 "metadata": {
  "kernelspec": {
   "display_name": "Python 3",
   "language": "python",
   "name": "python3"
  },
  "language_info": {
   "codemirror_mode": {
    "name": "ipython",
    "version": 3
   },
   "file_extension": ".py",
   "mimetype": "text/x-python",
   "name": "python",
   "nbconvert_exporter": "python",
   "pygments_lexer": "ipython3",
   "version": "3.9.5"
  },
  "papermill": {
   "default_parameters": {},
   "duration": 7.829393,
   "end_time": "2021-10-07T08:00:12.226105",
   "environment_variables": {},
   "exception": null,
   "input_path": "eBay_Overview.ipynb",
   "output_path": "eBay_Overview.ipynb",
   "parameters": {},
   "start_time": "2021-10-07T08:00:04.396712",
   "version": "2.3.3"
  }
 },
 "nbformat": 4,
 "nbformat_minor": 5
}