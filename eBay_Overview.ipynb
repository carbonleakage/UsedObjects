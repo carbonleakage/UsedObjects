{
 "cells": [
  {
   "cell_type": "code",
   "execution_count": 1,
   "id": "reverse-picking",
   "metadata": {
    "execution": {
     "iopub.execute_input": "2021-08-14T17:30:07.456125Z",
     "iopub.status.busy": "2021-08-14T17:30:07.454129Z",
     "iopub.status.idle": "2021-08-14T17:30:08.268268Z",
     "shell.execute_reply": "2021-08-14T17:30:08.269517Z"
    },
    "papermill": {
     "duration": 0.86821,
     "end_time": "2021-08-14T17:30:08.270229",
     "exception": false,
     "start_time": "2021-08-14T17:30:07.402019",
     "status": "completed"
    },
    "tags": []
   },
   "outputs": [],
   "source": [
    "import pandas as pd\n",
    "import sqlite3"
   ]
  },
  {
   "cell_type": "code",
   "execution_count": 2,
   "id": "innovative-syndrome",
   "metadata": {
    "execution": {
     "iopub.execute_input": "2021-08-14T17:30:08.321156Z",
     "iopub.status.busy": "2021-08-14T17:30:08.319067Z",
     "iopub.status.idle": "2021-08-14T17:30:08.367638Z",
     "shell.execute_reply": "2021-08-14T17:30:08.368853Z"
    },
    "papermill": {
     "duration": 0.078931,
     "end_time": "2021-08-14T17:30:08.369250",
     "exception": false,
     "start_time": "2021-08-14T17:30:08.290319",
     "status": "completed"
    },
    "tags": []
   },
   "outputs": [],
   "source": [
    "timestamps = pd.read_sql(\"select distinct record_time from EBAY_TOP_BERLIN order by record_time desc limit 2\", sqlite3.connect(\"UsedObjects.db\"))"
   ]
  },
  {
   "cell_type": "code",
   "execution_count": 3,
   "id": "periodic-identification",
   "metadata": {
    "execution": {
     "iopub.execute_input": "2021-08-14T17:30:08.436612Z",
     "iopub.status.busy": "2021-08-14T17:30:08.434557Z",
     "iopub.status.idle": "2021-08-14T17:30:08.454458Z",
     "shell.execute_reply": "2021-08-14T17:30:08.455680Z"
    },
    "papermill": {
     "duration": 0.065374,
     "end_time": "2021-08-14T17:30:08.456113",
     "exception": false,
     "start_time": "2021-08-14T17:30:08.390739",
     "status": "completed"
    },
    "tags": []
   },
   "outputs": [
    {
     "data": {
      "text/html": [
       "<div>\n",
       "<style scoped>\n",
       "    .dataframe tbody tr th:only-of-type {\n",
       "        vertical-align: middle;\n",
       "    }\n",
       "\n",
       "    .dataframe tbody tr th {\n",
       "        vertical-align: top;\n",
       "    }\n",
       "\n",
       "    .dataframe thead th {\n",
       "        text-align: right;\n",
       "    }\n",
       "</style>\n",
       "<table border=\"1\" class=\"dataframe\">\n",
       "  <thead>\n",
       "    <tr style=\"text-align: right;\">\n",
       "      <th></th>\n",
       "      <th>RECORD_TIME</th>\n",
       "    </tr>\n",
       "  </thead>\n",
       "  <tbody>\n",
       "    <tr>\n",
       "      <th>0</th>\n",
       "      <td>2021-08-14 19:30</td>\n",
       "    </tr>\n",
       "    <tr>\n",
       "      <th>1</th>\n",
       "      <td>2021-08-14 19:00</td>\n",
       "    </tr>\n",
       "  </tbody>\n",
       "</table>\n",
       "</div>"
      ],
      "text/plain": [
       "        RECORD_TIME\n",
       "0  2021-08-14 19:30\n",
       "1  2021-08-14 19:00"
      ]
     },
     "execution_count": 3,
     "metadata": {},
     "output_type": "execute_result"
    }
   ],
   "source": [
    "timestamps"
   ]
  },
  {
   "cell_type": "code",
   "execution_count": 4,
   "id": "alternate-victory",
   "metadata": {
    "execution": {
     "iopub.execute_input": "2021-08-14T17:30:08.509219Z",
     "iopub.status.busy": "2021-08-14T17:30:08.506906Z",
     "iopub.status.idle": "2021-08-14T17:30:08.581648Z",
     "shell.execute_reply": "2021-08-14T17:30:08.583006Z"
    },
    "papermill": {
     "duration": 0.104855,
     "end_time": "2021-08-14T17:30:08.583427",
     "exception": false,
     "start_time": "2021-08-14T17:30:08.478572",
     "status": "completed"
    },
    "tags": []
   },
   "outputs": [],
   "source": [
    "df = pd.read_sql(\"select * from EBAY_TOP_BERLIN where record_time in (select distinct record_time from EBAY_TOP_BERLIN order by record_time desc limit 2)\", sqlite3.connect(\"UsedObjects.db\"))"
   ]
  },
  {
   "cell_type": "code",
   "execution_count": 5,
   "id": "popular-active",
   "metadata": {
    "execution": {
     "iopub.execute_input": "2021-08-14T17:30:08.655068Z",
     "iopub.status.busy": "2021-08-14T17:30:08.643601Z",
     "iopub.status.idle": "2021-08-14T17:30:08.672050Z",
     "shell.execute_reply": "2021-08-14T17:30:08.673358Z"
    },
    "papermill": {
     "duration": 0.068391,
     "end_time": "2021-08-14T17:30:08.673780",
     "exception": false,
     "start_time": "2021-08-14T17:30:08.605389",
     "status": "completed"
    },
    "tags": []
   },
   "outputs": [],
   "source": [
    "df_pivot = df.pivot_table(index=\"PRODUCT\", columns = \"RECORD_TIME\", values = \"LISTING_COUNT\")"
   ]
  },
  {
   "cell_type": "code",
   "execution_count": 6,
   "id": "union-huntington",
   "metadata": {
    "execution": {
     "iopub.execute_input": "2021-08-14T17:30:08.728900Z",
     "iopub.status.busy": "2021-08-14T17:30:08.726814Z",
     "iopub.status.idle": "2021-08-14T17:30:08.732163Z",
     "shell.execute_reply": "2021-08-14T17:30:08.733457Z"
    },
    "papermill": {
     "duration": 0.040422,
     "end_time": "2021-08-14T17:30:08.734039",
     "exception": false,
     "start_time": "2021-08-14T17:30:08.693617",
     "status": "completed"
    },
    "tags": []
   },
   "outputs": [],
   "source": [
    "df_pivot.columns = [\"stamp_1\", \"stamp_2\"]\n",
    "df_pivot_diff = df_pivot.diff(axis=1)"
   ]
  },
  {
   "cell_type": "code",
   "execution_count": 7,
   "id": "fifth-motion",
   "metadata": {
    "execution": {
     "iopub.execute_input": "2021-08-14T17:30:08.790029Z",
     "iopub.status.busy": "2021-08-14T17:30:08.787256Z",
     "iopub.status.idle": "2021-08-14T17:30:10.312645Z",
     "shell.execute_reply": "2021-08-14T17:30:10.314130Z"
    },
    "papermill": {
     "duration": 1.558875,
     "end_time": "2021-08-14T17:30:10.314574",
     "exception": false,
     "start_time": "2021-08-14T17:30:08.755699",
     "status": "completed"
    },
    "tags": []
   },
   "outputs": [
    {
     "data": {
      "text/plain": [
       "<AxesSubplot:ylabel='PRODUCT'>"
      ]
     },
     "execution_count": 7,
     "metadata": {},
     "output_type": "execute_result"
    },
    {
     "data": {
      "image/png": "[encoded data removed]",
      "text/plain": [
       "<Figure size 432x288 with 1 Axes>"
      ]
     },
     "metadata": {
      "needs_background": "light"
     },
     "output_type": "display_data"
    }
   ],
   "source": [
    "df_pivot_diff.sort_values(\"stamp_2\", ascending = False)[\"stamp_2\"].head(10).plot.barh()"
   ]
  },
  {
   "cell_type": "code",
   "execution_count": null,
   "id": "extra-executive",
   "metadata": {
    "papermill": {
     "duration": 0.022192,
     "end_time": "2021-08-14T17:30:10.361759",
     "exception": false,
     "start_time": "2021-08-14T17:30:10.339567",
     "status": "completed"
    },
    "tags": []
   },
   "outputs": [],
   "source": []
  }
 ],
 "metadata": {
  "kernelspec": {
   "display_name": "Python 3",
   "language": "python",
   "name": "python3"
  },
  "language_info": {
   "codemirror_mode": {
    "name": "ipython",
    "version": 3
   },
   "file_extension": ".py",
   "mimetype": "text/x-python",
   "name": "python",
   "nbconvert_exporter": "python",
   "pygments_lexer": "ipython3",
   "version": "3.9.5"
  },
  "papermill": {
   "default_parameters": {},
   "duration": 6.832136,
   "end_time": "2021-08-14T17:30:11.811129",
   "environment_variables": {},
   "exception": null,
   "input_path": "eBay_Overview.ipynb",
   "output_path": "eBay_Overview.ipynb",
   "parameters": {},
   "start_time": "2021-08-14T17:30:04.978993",
   "version": "2.3.3"
  }
 },
 "nbformat": 4,
 "nbformat_minor": 5
}