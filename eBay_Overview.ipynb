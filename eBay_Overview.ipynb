{
 "cells": [
  {
   "cell_type": "code",
   "execution_count": 1,
   "id": "reverse-picking",
   "metadata": {
    "execution": {
     "iopub.execute_input": "2021-10-13T01:00:07.390461Z",
     "iopub.status.busy": "2021-10-13T01:00:07.388458Z",
     "iopub.status.idle": "2021-10-13T01:00:08.189048Z",
     "shell.execute_reply": "2021-10-13T01:00:08.190397Z"
    },
    "papermill": {
     "duration": 0.851499,
     "end_time": "2021-10-13T01:00:08.191025",
     "exception": false,
     "start_time": "2021-10-13T01:00:07.339526",
     "status": "completed"
    },
    "tags": []
   },
   "outputs": [],
   "source": [
    "import pandas as pd\n",
    "import sqlite3"
   ]
  },
  {
   "cell_type": "code",
   "execution_count": 2,
   "id": "innovative-syndrome",
   "metadata": {
    "execution": {
     "iopub.execute_input": "2021-10-13T01:00:08.242565Z",
     "iopub.status.busy": "2021-10-13T01:00:08.240612Z",
     "iopub.status.idle": "2021-10-13T01:00:08.766052Z",
     "shell.execute_reply": "2021-10-13T01:00:08.767251Z"
    },
    "papermill": {
     "duration": 0.555054,
     "end_time": "2021-10-13T01:00:08.767636",
     "exception": false,
     "start_time": "2021-10-13T01:00:08.212582",
     "status": "completed"
    },
    "tags": []
   },
   "outputs": [],
   "source": [
    "timestamps = pd.read_sql(\"select distinct record_time from EBAY_TOP_BERLIN order by record_time desc limit 2\", sqlite3.connect(\"UsedObjects.db\"))"
   ]
  },
  {
   "cell_type": "code",
   "execution_count": 3,
   "id": "periodic-identification",
   "metadata": {
    "execution": {
     "iopub.execute_input": "2021-10-13T01:00:08.832631Z",
     "iopub.status.busy": "2021-10-13T01:00:08.830587Z",
     "iopub.status.idle": "2021-10-13T01:00:08.850889Z",
     "shell.execute_reply": "2021-10-13T01:00:08.852090Z"
    },
    "papermill": {
     "duration": 0.06362,
     "end_time": "2021-10-13T01:00:08.852513",
     "exception": false,
     "start_time": "2021-10-13T01:00:08.788893",
     "status": "completed"
    },
    "tags": []
   },
   "outputs": [
    {
     "data": {
      "text/html": [
       "<div>\n",
       "<style scoped>\n",
       "    .dataframe tbody tr th:only-of-type {\n",
       "        vertical-align: middle;\n",
       "    }\n",
       "\n",
       "    .dataframe tbody tr th {\n",
       "        vertical-align: top;\n",
       "    }\n",
       "\n",
       "    .dataframe thead th {\n",
       "        text-align: right;\n",
       "    }\n",
       "</style>\n",
       "<table border=\"1\" class=\"dataframe\">\n",
       "  <thead>\n",
       "    <tr style=\"text-align: right;\">\n",
       "      <th></th>\n",
       "      <th>RECORD_TIME</th>\n",
       "    </tr>\n",
       "  </thead>\n",
       "  <tbody>\n",
       "    <tr>\n",
       "      <th>0</th>\n",
       "      <td>2021-10-13 03:00</td>\n",
       "    </tr>\n",
       "    <tr>\n",
       "      <th>1</th>\n",
       "      <td>2021-10-13 02:30</td>\n",
       "    </tr>\n",
       "  </tbody>\n",
       "</table>\n",
       "</div>"
      ],
      "text/plain": [
       "        RECORD_TIME\n",
       "0  2021-10-13 03:00\n",
       "1  2021-10-13 02:30"
      ]
     },
     "execution_count": 3,
     "metadata": {},
     "output_type": "execute_result"
    }
   ],
   "source": [
    "timestamps"
   ]
  },
  {
   "cell_type": "code",
   "execution_count": 4,
   "id": "alternate-victory",
   "metadata": {
    "execution": {
     "iopub.execute_input": "2021-10-13T01:00:08.915906Z",
     "iopub.status.busy": "2021-10-13T01:00:08.914069Z",
     "iopub.status.idle": "2021-10-13T01:00:09.689035Z",
     "shell.execute_reply": "2021-10-13T01:00:09.690406Z"
    },
    "papermill": {
     "duration": 0.809775,
     "end_time": "2021-10-13T01:00:09.690810",
     "exception": false,
     "start_time": "2021-10-13T01:00:08.881035",
     "status": "completed"
    },
    "tags": []
   },
   "outputs": [],
   "source": [
    "df = pd.read_sql(\"select * from EBAY_TOP_BERLIN where record_time in (select distinct record_time from EBAY_TOP_BERLIN order by record_time desc limit 2)\", sqlite3.connect(\"UsedObjects.db\"))"
   ]
  },
  {
   "cell_type": "code",
   "execution_count": 5,
   "id": "popular-active",
   "metadata": {
    "execution": {
     "iopub.execute_input": "2021-10-13T01:00:09.755899Z",
     "iopub.status.busy": "2021-10-13T01:00:09.748533Z",
     "iopub.status.idle": "2021-10-13T01:00:09.776962Z",
     "shell.execute_reply": "2021-10-13T01:00:09.778387Z"
    },
    "papermill": {
     "duration": 0.067375,
     "end_time": "2021-10-13T01:00:09.778821",
     "exception": false,
     "start_time": "2021-10-13T01:00:09.711446",
     "status": "completed"
    },
    "tags": []
   },
   "outputs": [],
   "source": [
    "df_pivot = df.pivot_table(index=\"PRODUCT\", columns = \"RECORD_TIME\", values = \"LISTING_COUNT\")"
   ]
  },
  {
   "cell_type": "code",
   "execution_count": 6,
   "id": "union-huntington",
   "metadata": {
    "execution": {
     "iopub.execute_input": "2021-10-13T01:00:09.836949Z",
     "iopub.status.busy": "2021-10-13T01:00:09.834451Z",
     "iopub.status.idle": "2021-10-13T01:00:09.840421Z",
     "shell.execute_reply": "2021-10-13T01:00:09.841848Z"
    },
    "papermill": {
     "duration": 0.042766,
     "end_time": "2021-10-13T01:00:09.842287",
     "exception": false,
     "start_time": "2021-10-13T01:00:09.799521",
     "status": "completed"
    },
    "tags": []
   },
   "outputs": [],
   "source": [
    "df_pivot.columns = [\"stamp_1\", \"stamp_2\"]\n",
    "df_pivot_diff = df_pivot.diff(axis=1)"
   ]
  },
  {
   "cell_type": "code",
   "execution_count": 7,
   "id": "fifth-motion",
   "metadata": {
    "execution": {
     "iopub.execute_input": "2021-10-13T01:00:09.897163Z",
     "iopub.status.busy": "2021-10-13T01:00:09.894809Z",
     "iopub.status.idle": "2021-10-13T01:00:11.381536Z",
     "shell.execute_reply": "2021-10-13T01:00:11.382748Z"
    },
    "papermill": {
     "duration": 1.519285,
     "end_time": "2021-10-13T01:00:11.383174",
     "exception": false,
     "start_time": "2021-10-13T01:00:09.863889",
     "status": "completed"
    },
    "tags": []
   },
   "outputs": [
    {
     "data": {
      "text/plain": [
       "<AxesSubplot:ylabel='PRODUCT'>"
      ]
     },
     "execution_count": 7,
     "metadata": {},
     "output_type": "execute_result"
    },
    {
     "data": {
      "image/png": "[encoded data removed]",
      "text/plain": [
       "<Figure size 432x288 with 1 Axes>"
      ]
     },
     "metadata": {
      "needs_background": "light"
     },
     "output_type": "display_data"
    }
   ],
   "source": [
    "df_pivot_diff.sort_values(\"stamp_2\", ascending = False)[\"stamp_2\"].head(10).plot.barh()"
   ]
  },
  {
   "cell_type": "code",
   "execution_count": null,
   "id": "extra-executive",
   "metadata": {
    "papermill": {
     "duration": 0.02244,
     "end_time": "2021-10-13T01:00:11.429515",
     "exception": false,
     "start_time": "2021-10-13T01:00:11.407075",
     "status": "completed"
    },
    "tags": []
   },
   "outputs": [],
   "source": []
  }
 ],
 "metadata": {
  "kernelspec": {
   "display_name": "Python 3",
   "language": "python",
   "name": "python3"
  },
  "language_info": {
   "codemirror_mode": {
    "name": "ipython",
    "version": 3
   },
   "file_extension": ".py",
   "mimetype": "text/x-python",
   "name": "python",
   "nbconvert_exporter": "python",
   "pygments_lexer": "ipython3",
   "version": "3.9.5"
  },
  "papermill": {
   "default_parameters": {},
   "duration": 7.818097,
   "end_time": "2021-10-13T01:00:12.761021",
   "environment_variables": {},
   "exception": null,
   "input_path": "eBay_Overview.ipynb",
   "output_path": "eBay_Overview.ipynb",
   "parameters": {},
   "start_time": "2021-10-13T01:00:04.942924",
   "version": "2.3.3"
  }
 },
 "nbformat": 4,
 "nbformat_minor": 5
}