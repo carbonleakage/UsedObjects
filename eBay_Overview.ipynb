{
 "cells": [
  {
   "cell_type": "code",
   "execution_count": 1,
   "id": "reverse-picking",
   "metadata": {
    "execution": {
     "iopub.execute_input": "2021-08-31T00:00:07.421846Z",
     "iopub.status.busy": "2021-08-31T00:00:07.419851Z",
     "iopub.status.idle": "2021-08-31T00:00:08.227546Z",
     "shell.execute_reply": "2021-08-31T00:00:08.228897Z"
    },
    "papermill": {
     "duration": 0.859436,
     "end_time": "2021-08-31T00:00:08.229540",
     "exception": false,
     "start_time": "2021-08-31T00:00:07.370104",
     "status": "completed"
    },
    "tags": []
   },
   "outputs": [],
   "source": [
    "import pandas as pd\n",
    "import sqlite3"
   ]
  },
  {
   "cell_type": "code",
   "execution_count": 2,
   "id": "innovative-syndrome",
   "metadata": {
    "execution": {
     "iopub.execute_input": "2021-08-31T00:00:08.279948Z",
     "iopub.status.busy": "2021-08-31T00:00:08.278079Z",
     "iopub.status.idle": "2021-08-31T00:00:08.445820Z",
     "shell.execute_reply": "2021-08-31T00:00:08.447021Z"
    },
    "papermill": {
     "duration": 0.197232,
     "end_time": "2021-08-31T00:00:08.447425",
     "exception": false,
     "start_time": "2021-08-31T00:00:08.250193",
     "status": "completed"
    },
    "tags": []
   },
   "outputs": [],
   "source": [
    "timestamps = pd.read_sql(\"select distinct record_time from EBAY_TOP_BERLIN order by record_time desc limit 2\", sqlite3.connect(\"UsedObjects.db\"))"
   ]
  },
  {
   "cell_type": "code",
   "execution_count": 3,
   "id": "periodic-identification",
   "metadata": {
    "execution": {
     "iopub.execute_input": "2021-08-31T00:00:08.511794Z",
     "iopub.status.busy": "2021-08-31T00:00:08.509782Z",
     "iopub.status.idle": "2021-08-31T00:00:08.529540Z",
     "shell.execute_reply": "2021-08-31T00:00:08.530805Z"
    },
    "papermill": {
     "duration": 0.064314,
     "end_time": "2021-08-31T00:00:08.531216",
     "exception": false,
     "start_time": "2021-08-31T00:00:08.466902",
     "status": "completed"
    },
    "tags": []
   },
   "outputs": [
    {
     "data": {
      "text/html": [
       "<div>\n",
       "<style scoped>\n",
       "    .dataframe tbody tr th:only-of-type {\n",
       "        vertical-align: middle;\n",
       "    }\n",
       "\n",
       "    .dataframe tbody tr th {\n",
       "        vertical-align: top;\n",
       "    }\n",
       "\n",
       "    .dataframe thead th {\n",
       "        text-align: right;\n",
       "    }\n",
       "</style>\n",
       "<table border=\"1\" class=\"dataframe\">\n",
       "  <thead>\n",
       "    <tr style=\"text-align: right;\">\n",
       "      <th></th>\n",
       "      <th>RECORD_TIME</th>\n",
       "    </tr>\n",
       "  </thead>\n",
       "  <tbody>\n",
       "    <tr>\n",
       "      <th>0</th>\n",
       "      <td>2021-08-31 02:00</td>\n",
       "    </tr>\n",
       "    <tr>\n",
       "      <th>1</th>\n",
       "      <td>2021-08-31 01:30</td>\n",
       "    </tr>\n",
       "  </tbody>\n",
       "</table>\n",
       "</div>"
      ],
      "text/plain": [
       "        RECORD_TIME\n",
       "0  2021-08-31 02:00\n",
       "1  2021-08-31 01:30"
      ]
     },
     "execution_count": 3,
     "metadata": {},
     "output_type": "execute_result"
    }
   ],
   "source": [
    "timestamps"
   ]
  },
  {
   "cell_type": "code",
   "execution_count": 4,
   "id": "alternate-victory",
   "metadata": {
    "execution": {
     "iopub.execute_input": "2021-08-31T00:00:08.584208Z",
     "iopub.status.busy": "2021-08-31T00:00:08.581940Z",
     "iopub.status.idle": "2021-08-31T00:00:08.835760Z",
     "shell.execute_reply": "2021-08-31T00:00:08.837128Z"
    },
    "papermill": {
     "duration": 0.284579,
     "end_time": "2021-08-31T00:00:08.837559",
     "exception": false,
     "start_time": "2021-08-31T00:00:08.552980",
     "status": "completed"
    },
    "tags": []
   },
   "outputs": [],
   "source": [
    "df = pd.read_sql(\"select * from EBAY_TOP_BERLIN where record_time in (select distinct record_time from EBAY_TOP_BERLIN order by record_time desc limit 2)\", sqlite3.connect(\"UsedObjects.db\"))"
   ]
  },
  {
   "cell_type": "code",
   "execution_count": 5,
   "id": "popular-active",
   "metadata": {
    "execution": {
     "iopub.execute_input": "2021-08-31T00:00:08.928763Z",
     "iopub.status.busy": "2021-08-31T00:00:08.917105Z",
     "iopub.status.idle": "2021-08-31T00:00:08.944435Z",
     "shell.execute_reply": "2021-08-31T00:00:08.945677Z"
    },
    "papermill": {
     "duration": 0.073337,
     "end_time": "2021-08-31T00:00:08.946085",
     "exception": false,
     "start_time": "2021-08-31T00:00:08.872748",
     "status": "completed"
    },
    "tags": []
   },
   "outputs": [],
   "source": [
    "df_pivot = df.pivot_table(index=\"PRODUCT\", columns = \"RECORD_TIME\", values = \"LISTING_COUNT\")"
   ]
  },
  {
   "cell_type": "code",
   "execution_count": 6,
   "id": "union-huntington",
   "metadata": {
    "execution": {
     "iopub.execute_input": "2021-08-31T00:00:09.003555Z",
     "iopub.status.busy": "2021-08-31T00:00:09.001275Z",
     "iopub.status.idle": "2021-08-31T00:00:09.007135Z",
     "shell.execute_reply": "2021-08-31T00:00:09.008628Z"
    },
    "papermill": {
     "duration": 0.041736,
     "end_time": "2021-08-31T00:00:09.009129",
     "exception": false,
     "start_time": "2021-08-31T00:00:08.967393",
     "status": "completed"
    },
    "tags": []
   },
   "outputs": [],
   "source": [
    "df_pivot.columns = [\"stamp_1\", \"stamp_2\"]\n",
    "df_pivot_diff = df_pivot.diff(axis=1)"
   ]
  },
  {
   "cell_type": "code",
   "execution_count": 7,
   "id": "fifth-motion",
   "metadata": {
    "execution": {
     "iopub.execute_input": "2021-08-31T00:00:09.063838Z",
     "iopub.status.busy": "2021-08-31T00:00:09.061640Z",
     "iopub.status.idle": "2021-08-31T00:00:10.561364Z",
     "shell.execute_reply": "2021-08-31T00:00:10.562742Z"
    },
    "papermill": {
     "duration": 1.532331,
     "end_time": "2021-08-31T00:00:10.563192",
     "exception": false,
     "start_time": "2021-08-31T00:00:09.030861",
     "status": "completed"
    },
    "tags": []
   },
   "outputs": [
    {
     "data": {
      "text/plain": [
       "<AxesSubplot:ylabel='PRODUCT'>"
      ]
     },
     "execution_count": 7,
     "metadata": {},
     "output_type": "execute_result"
    },
    {
     "data": {
      "image/png": "[encoded data removed]",
      "text/plain": [
       "<Figure size 432x288 with 1 Axes>"
      ]
     },
     "metadata": {
      "needs_background": "light"
     },
     "output_type": "display_data"
    }
   ],
   "source": [
    "df_pivot_diff.sort_values(\"stamp_2\", ascending = False)[\"stamp_2\"].head(10).plot.barh()"
   ]
  },
  {
   "cell_type": "code",
   "execution_count": null,
   "id": "extra-executive",
   "metadata": {
    "papermill": {
     "duration": 0.022134,
     "end_time": "2021-08-31T00:00:10.609715",
     "exception": false,
     "start_time": "2021-08-31T00:00:10.587581",
     "status": "completed"
    },
    "tags": []
   },
   "outputs": [],
   "source": []
  }
 ],
 "metadata": {
  "kernelspec": {
   "display_name": "Python 3",
   "language": "python",
   "name": "python3"
  },
  "language_info": {
   "codemirror_mode": {
    "name": "ipython",
    "version": 3
   },
   "file_extension": ".py",
   "mimetype": "text/x-python",
   "name": "python",
   "nbconvert_exporter": "python",
   "pygments_lexer": "ipython3",
   "version": "3.9.5"
  },
  "papermill": {
   "default_parameters": {},
   "duration": 6.826327,
   "end_time": "2021-08-31T00:00:11.784919",
   "environment_variables": {},
   "exception": null,
   "input_path": "eBay_Overview.ipynb",
   "output_path": "eBay_Overview.ipynb",
   "parameters": {},
   "start_time": "2021-08-31T00:00:04.958592",
   "version": "2.3.3"
  }
 },
 "nbformat": 4,
 "nbformat_minor": 5
}