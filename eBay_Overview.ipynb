{
 "cells": [
  {
   "cell_type": "code",
   "execution_count": 1,
   "id": "reverse-picking",
   "metadata": {
    "execution": {
     "iopub.execute_input": "2021-08-23T03:00:07.284585Z",
     "iopub.status.busy": "2021-08-23T03:00:07.282303Z",
     "iopub.status.idle": "2021-08-23T03:00:08.093013Z",
     "shell.execute_reply": "2021-08-23T03:00:08.094449Z"
    },
    "papermill": {
     "duration": 0.863511,
     "end_time": "2021-08-23T03:00:08.095132",
     "exception": false,
     "start_time": "2021-08-23T03:00:07.231621",
     "status": "completed"
    },
    "tags": []
   },
   "outputs": [],
   "source": [
    "import pandas as pd\n",
    "import sqlite3"
   ]
  },
  {
   "cell_type": "code",
   "execution_count": 2,
   "id": "innovative-syndrome",
   "metadata": {
    "execution": {
     "iopub.execute_input": "2021-08-23T03:00:08.146466Z",
     "iopub.status.busy": "2021-08-23T03:00:08.144521Z",
     "iopub.status.idle": "2021-08-23T03:00:08.252219Z",
     "shell.execute_reply": "2021-08-23T03:00:08.253429Z"
    },
    "papermill": {
     "duration": 0.137258,
     "end_time": "2021-08-23T03:00:08.253839",
     "exception": false,
     "start_time": "2021-08-23T03:00:08.116581",
     "status": "completed"
    },
    "tags": []
   },
   "outputs": [],
   "source": [
    "timestamps = pd.read_sql(\"select distinct record_time from EBAY_TOP_BERLIN order by record_time desc limit 2\", sqlite3.connect(\"UsedObjects.db\"))"
   ]
  },
  {
   "cell_type": "code",
   "execution_count": 3,
   "id": "periodic-identification",
   "metadata": {
    "execution": {
     "iopub.execute_input": "2021-08-23T03:00:08.318720Z",
     "iopub.status.busy": "2021-08-23T03:00:08.316606Z",
     "iopub.status.idle": "2021-08-23T03:00:08.338915Z",
     "shell.execute_reply": "2021-08-23T03:00:08.340214Z"
    },
    "papermill": {
     "duration": 0.06746,
     "end_time": "2021-08-23T03:00:08.340683",
     "exception": false,
     "start_time": "2021-08-23T03:00:08.273223",
     "status": "completed"
    },
    "tags": []
   },
   "outputs": [
    {
     "data": {
      "text/html": [
       "<div>\n",
       "<style scoped>\n",
       "    .dataframe tbody tr th:only-of-type {\n",
       "        vertical-align: middle;\n",
       "    }\n",
       "\n",
       "    .dataframe tbody tr th {\n",
       "        vertical-align: top;\n",
       "    }\n",
       "\n",
       "    .dataframe thead th {\n",
       "        text-align: right;\n",
       "    }\n",
       "</style>\n",
       "<table border=\"1\" class=\"dataframe\">\n",
       "  <thead>\n",
       "    <tr style=\"text-align: right;\">\n",
       "      <th></th>\n",
       "      <th>RECORD_TIME</th>\n",
       "    </tr>\n",
       "  </thead>\n",
       "  <tbody>\n",
       "    <tr>\n",
       "      <th>0</th>\n",
       "      <td>2021-08-23 05:00</td>\n",
       "    </tr>\n",
       "    <tr>\n",
       "      <th>1</th>\n",
       "      <td>2021-08-23 04:30</td>\n",
       "    </tr>\n",
       "  </tbody>\n",
       "</table>\n",
       "</div>"
      ],
      "text/plain": [
       "        RECORD_TIME\n",
       "0  2021-08-23 05:00\n",
       "1  2021-08-23 04:30"
      ]
     },
     "execution_count": 3,
     "metadata": {},
     "output_type": "execute_result"
    }
   ],
   "source": [
    "timestamps"
   ]
  },
  {
   "cell_type": "code",
   "execution_count": 4,
   "id": "alternate-victory",
   "metadata": {
    "execution": {
     "iopub.execute_input": "2021-08-23T03:00:08.393292Z",
     "iopub.status.busy": "2021-08-23T03:00:08.391459Z",
     "iopub.status.idle": "2021-08-23T03:00:08.553152Z",
     "shell.execute_reply": "2021-08-23T03:00:08.554629Z"
    },
    "papermill": {
     "duration": 0.192013,
     "end_time": "2021-08-23T03:00:08.555107",
     "exception": false,
     "start_time": "2021-08-23T03:00:08.363094",
     "status": "completed"
    },
    "tags": []
   },
   "outputs": [],
   "source": [
    "df = pd.read_sql(\"select * from EBAY_TOP_BERLIN where record_time in (select distinct record_time from EBAY_TOP_BERLIN order by record_time desc limit 2)\", sqlite3.connect(\"UsedObjects.db\"))"
   ]
  },
  {
   "cell_type": "code",
   "execution_count": 5,
   "id": "popular-active",
   "metadata": {
    "execution": {
     "iopub.execute_input": "2021-08-23T03:00:08.624200Z",
     "iopub.status.busy": "2021-08-23T03:00:08.612566Z",
     "iopub.status.idle": "2021-08-23T03:00:08.640713Z",
     "shell.execute_reply": "2021-08-23T03:00:08.642165Z"
    },
    "papermill": {
     "duration": 0.066818,
     "end_time": "2021-08-23T03:00:08.642622",
     "exception": false,
     "start_time": "2021-08-23T03:00:08.575804",
     "status": "completed"
    },
    "tags": []
   },
   "outputs": [],
   "source": [
    "df_pivot = df.pivot_table(index=\"PRODUCT\", columns = \"RECORD_TIME\", values = \"LISTING_COUNT\")"
   ]
  },
  {
   "cell_type": "code",
   "execution_count": 6,
   "id": "union-huntington",
   "metadata": {
    "execution": {
     "iopub.execute_input": "2021-08-23T03:00:08.703638Z",
     "iopub.status.busy": "2021-08-23T03:00:08.701419Z",
     "iopub.status.idle": "2021-08-23T03:00:08.707443Z",
     "shell.execute_reply": "2021-08-23T03:00:08.709010Z"
    },
    "papermill": {
     "duration": 0.046723,
     "end_time": "2021-08-23T03:00:08.709505",
     "exception": false,
     "start_time": "2021-08-23T03:00:08.662782",
     "status": "completed"
    },
    "tags": []
   },
   "outputs": [],
   "source": [
    "df_pivot.columns = [\"stamp_1\", \"stamp_2\"]\n",
    "df_pivot_diff = df_pivot.diff(axis=1)"
   ]
  },
  {
   "cell_type": "code",
   "execution_count": 7,
   "id": "fifth-motion",
   "metadata": {
    "execution": {
     "iopub.execute_input": "2021-08-23T03:00:08.764617Z",
     "iopub.status.busy": "2021-08-23T03:00:08.762343Z",
     "iopub.status.idle": "2021-08-23T03:00:10.254438Z",
     "shell.execute_reply": "2021-08-23T03:00:10.255969Z"
    },
    "papermill": {
     "duration": 1.525522,
     "end_time": "2021-08-23T03:00:10.256451",
     "exception": false,
     "start_time": "2021-08-23T03:00:08.730929",
     "status": "completed"
    },
    "tags": []
   },
   "outputs": [
    {
     "data": {
      "text/plain": [
       "<AxesSubplot:ylabel='PRODUCT'>"
      ]
     },
     "execution_count": 7,
     "metadata": {},
     "output_type": "execute_result"
    },
    {
     "data": {
      "image/png": "[encoded data removed]",
      "text/plain": [
       "<Figure size 432x288 with 1 Axes>"
      ]
     },
     "metadata": {
      "needs_background": "light"
     },
     "output_type": "display_data"
    }
   ],
   "source": [
    "df_pivot_diff.sort_values(\"stamp_2\", ascending = False)[\"stamp_2\"].head(10).plot.barh()"
   ]
  },
  {
   "cell_type": "code",
   "execution_count": null,
   "id": "extra-executive",
   "metadata": {
    "papermill": {
     "duration": 0.022184,
     "end_time": "2021-08-23T03:00:10.302623",
     "exception": false,
     "start_time": "2021-08-23T03:00:10.280439",
     "status": "completed"
    },
    "tags": []
   },
   "outputs": [],
   "source": []
  }
 ],
 "metadata": {
  "kernelspec": {
   "display_name": "Python 3",
   "language": "python",
   "name": "python3"
  },
  "language_info": {
   "codemirror_mode": {
    "name": "ipython",
    "version": 3
   },
   "file_extension": ".py",
   "mimetype": "text/x-python",
   "name": "python",
   "nbconvert_exporter": "python",
   "pygments_lexer": "ipython3",
   "version": "3.9.5"
  },
  "papermill": {
   "default_parameters": {},
   "duration": 6.829762,
   "end_time": "2021-08-23T03:00:11.641575",
   "environment_variables": {},
   "exception": null,
   "input_path": "eBay_Overview.ipynb",
   "output_path": "eBay_Overview.ipynb",
   "parameters": {},
   "start_time": "2021-08-23T03:00:04.811813",
   "version": "2.3.3"
  }
 },
 "nbformat": 4,
 "nbformat_minor": 5
}