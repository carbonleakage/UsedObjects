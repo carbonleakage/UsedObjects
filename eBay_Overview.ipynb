{
 "cells": [
  {
   "cell_type": "code",
   "execution_count": 1,
   "id": "reverse-picking",
   "metadata": {
    "execution": {
     "iopub.execute_input": "2021-11-14T18:00:07.384900Z",
     "iopub.status.busy": "2021-11-14T18:00:07.382556Z",
     "iopub.status.idle": "2021-11-14T18:00:08.336537Z",
     "shell.execute_reply": "2021-11-14T18:00:08.338810Z"
    },
    "papermill": {
     "duration": 1.005095,
     "end_time": "2021-11-14T18:00:08.339556",
     "exception": false,
     "start_time": "2021-11-14T18:00:07.334461",
     "status": "completed"
    },
    "tags": []
   },
   "outputs": [],
   "source": [
    "import pandas as pd\n",
    "import sqlite3"
   ]
  },
  {
   "cell_type": "code",
   "execution_count": 2,
   "id": "innovative-syndrome",
   "metadata": {
    "execution": {
     "iopub.execute_input": "2021-11-14T18:00:08.402471Z",
     "iopub.status.busy": "2021-11-14T18:00:08.400067Z",
     "iopub.status.idle": "2021-11-14T18:00:09.215014Z",
     "shell.execute_reply": "2021-11-14T18:00:09.216584Z"
    },
    "papermill": {
     "duration": 0.850293,
     "end_time": "2021-11-14T18:00:09.217140",
     "exception": false,
     "start_time": "2021-11-14T18:00:08.366847",
     "status": "completed"
    },
    "tags": []
   },
   "outputs": [],
   "source": [
    "timestamps = pd.read_sql(\"select distinct record_time from EBAY_TOP_BERLIN order by record_time desc limit 2\", sqlite3.connect(\"UsedObjects.db\"))"
   ]
  },
  {
   "cell_type": "code",
   "execution_count": 3,
   "id": "periodic-identification",
   "metadata": {
    "execution": {
     "iopub.execute_input": "2021-11-14T18:00:09.294103Z",
     "iopub.status.busy": "2021-11-14T18:00:09.286772Z",
     "iopub.status.idle": "2021-11-14T18:00:09.312401Z",
     "shell.execute_reply": "2021-11-14T18:00:09.313978Z"
    },
    "papermill": {
     "duration": 0.076284,
     "end_time": "2021-11-14T18:00:09.314514",
     "exception": false,
     "start_time": "2021-11-14T18:00:09.238230",
     "status": "completed"
    },
    "tags": []
   },
   "outputs": [
    {
     "data": {
      "text/html": [
       "<div>\n",
       "<style scoped>\n",
       "    .dataframe tbody tr th:only-of-type {\n",
       "        vertical-align: middle;\n",
       "    }\n",
       "\n",
       "    .dataframe tbody tr th {\n",
       "        vertical-align: top;\n",
       "    }\n",
       "\n",
       "    .dataframe thead th {\n",
       "        text-align: right;\n",
       "    }\n",
       "</style>\n",
       "<table border=\"1\" class=\"dataframe\">\n",
       "  <thead>\n",
       "    <tr style=\"text-align: right;\">\n",
       "      <th></th>\n",
       "      <th>RECORD_TIME</th>\n",
       "    </tr>\n",
       "  </thead>\n",
       "  <tbody>\n",
       "    <tr>\n",
       "      <th>0</th>\n",
       "      <td>2021-11-14 19:00</td>\n",
       "    </tr>\n",
       "    <tr>\n",
       "      <th>1</th>\n",
       "      <td>2021-11-14 18:30</td>\n",
       "    </tr>\n",
       "  </tbody>\n",
       "</table>\n",
       "</div>"
      ],
      "text/plain": [
       "        RECORD_TIME\n",
       "0  2021-11-14 19:00\n",
       "1  2021-11-14 18:30"
      ]
     },
     "execution_count": 3,
     "metadata": {},
     "output_type": "execute_result"
    }
   ],
   "source": [
    "timestamps"
   ]
  },
  {
   "cell_type": "code",
   "execution_count": 4,
   "id": "alternate-victory",
   "metadata": {
    "execution": {
     "iopub.execute_input": "2021-11-14T18:00:09.373038Z",
     "iopub.status.busy": "2021-11-14T18:00:09.370581Z",
     "iopub.status.idle": "2021-11-14T18:00:10.554797Z",
     "shell.execute_reply": "2021-11-14T18:00:10.556245Z"
    },
    "papermill": {
     "duration": 1.220028,
     "end_time": "2021-11-14T18:00:10.556744",
     "exception": false,
     "start_time": "2021-11-14T18:00:09.336716",
     "status": "completed"
    },
    "tags": []
   },
   "outputs": [],
   "source": [
    "df = pd.read_sql(\"select * from EBAY_TOP_BERLIN where record_time in (select distinct record_time from EBAY_TOP_BERLIN order by record_time desc limit 2)\", sqlite3.connect(\"UsedObjects.db\"))"
   ]
  },
  {
   "cell_type": "code",
   "execution_count": 5,
   "id": "popular-active",
   "metadata": {
    "execution": {
     "iopub.execute_input": "2021-11-14T18:00:10.620379Z",
     "iopub.status.busy": "2021-11-14T18:00:10.618173Z",
     "iopub.status.idle": "2021-11-14T18:00:10.649957Z",
     "shell.execute_reply": "2021-11-14T18:00:10.651238Z"
    },
    "papermill": {
     "duration": 0.07396,
     "end_time": "2021-11-14T18:00:10.651753",
     "exception": false,
     "start_time": "2021-11-14T18:00:10.577793",
     "status": "completed"
    },
    "tags": []
   },
   "outputs": [],
   "source": [
    "df_pivot = df.pivot_table(index=\"PRODUCT\", columns = \"RECORD_TIME\", values = \"LISTING_COUNT\")"
   ]
  },
  {
   "cell_type": "code",
   "execution_count": 6,
   "id": "union-huntington",
   "metadata": {
    "execution": {
     "iopub.execute_input": "2021-11-14T18:00:10.740992Z",
     "iopub.status.busy": "2021-11-14T18:00:10.737411Z",
     "iopub.status.idle": "2021-11-14T18:00:10.746467Z",
     "shell.execute_reply": "2021-11-14T18:00:10.748547Z"
    },
    "papermill": {
     "duration": 0.073066,
     "end_time": "2021-11-14T18:00:10.749240",
     "exception": false,
     "start_time": "2021-11-14T18:00:10.676174",
     "status": "completed"
    },
    "tags": []
   },
   "outputs": [],
   "source": [
    "df_pivot.columns = [\"stamp_1\", \"stamp_2\"]\n",
    "df_pivot_diff = df_pivot.diff(axis=1)"
   ]
  },
  {
   "cell_type": "code",
   "execution_count": 7,
   "id": "fifth-motion",
   "metadata": {
    "execution": {
     "iopub.execute_input": "2021-11-14T18:00:10.811951Z",
     "iopub.status.busy": "2021-11-14T18:00:10.809406Z",
     "iopub.status.idle": "2021-11-14T18:00:12.658750Z",
     "shell.execute_reply": "2021-11-14T18:00:12.661708Z"
    },
    "papermill": {
     "duration": 1.88985,
     "end_time": "2021-11-14T18:00:12.662490",
     "exception": false,
     "start_time": "2021-11-14T18:00:10.772640",
     "status": "completed"
    },
    "tags": []
   },
   "outputs": [
    {
     "data": {
      "text/plain": [
       "<AxesSubplot:ylabel='PRODUCT'>"
      ]
     },
     "execution_count": 7,
     "metadata": {},
     "output_type": "execute_result"
    },
    {
     "data": {
      "image/png": "[encoded data removed]",
      "text/plain": [
       "<Figure size 432x288 with 1 Axes>"
      ]
     },
     "metadata": {
      "needs_background": "light"
     },
     "output_type": "display_data"
    }
   ],
   "source": [
    "df_pivot_diff.sort_values(\"stamp_2\", ascending = False)[\"stamp_2\"].head(10).plot.barh()"
   ]
  },
  {
   "cell_type": "code",
   "execution_count": null,
   "id": "extra-executive",
   "metadata": {
    "papermill": {
     "duration": 0.03526,
     "end_time": "2021-11-14T18:00:12.738278",
     "exception": false,
     "start_time": "2021-11-14T18:00:12.703018",
     "status": "completed"
    },
    "tags": []
   },
   "outputs": [],
   "source": []
  }
 ],
 "metadata": {
  "kernelspec": {
   "display_name": "Python 3",
   "language": "python",
   "name": "python3"
  },
  "language_info": {
   "codemirror_mode": {
    "name": "ipython",
    "version": 3
   },
   "file_extension": ".py",
   "mimetype": "text/x-python",
   "name": "python",
   "nbconvert_exporter": "python",
   "pygments_lexer": "ipython3",
   "version": "3.9.5"
  },
  "papermill": {
   "default_parameters": {},
   "duration": 9.923897,
   "end_time": "2021-11-14T18:00:14.526864",
   "environment_variables": {},
   "exception": null,
   "input_path": "eBay_Overview.ipynb",
   "output_path": "eBay_Overview.ipynb",
   "parameters": {},
   "start_time": "2021-11-14T18:00:04.602967",
   "version": "2.3.3"
  }
 },
 "nbformat": 4,
 "nbformat_minor": 5
}