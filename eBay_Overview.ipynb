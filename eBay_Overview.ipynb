{
 "cells": [
  {
   "cell_type": "code",
   "execution_count": 1,
   "id": "reverse-picking",
   "metadata": {
    "execution": {
     "iopub.execute_input": "2021-11-06T07:30:07.822848Z",
     "iopub.status.busy": "2021-11-06T07:30:07.820423Z",
     "iopub.status.idle": "2021-11-06T07:30:08.784468Z",
     "shell.execute_reply": "2021-11-06T07:30:08.786135Z"
    },
    "papermill": {
     "duration": 1.010567,
     "end_time": "2021-11-06T07:30:08.786891",
     "exception": false,
     "start_time": "2021-11-06T07:30:07.776324",
     "status": "completed"
    },
    "tags": []
   },
   "outputs": [],
   "source": [
    "import pandas as pd\n",
    "import sqlite3"
   ]
  },
  {
   "cell_type": "code",
   "execution_count": 2,
   "id": "innovative-syndrome",
   "metadata": {
    "execution": {
     "iopub.execute_input": "2021-11-06T07:30:08.853786Z",
     "iopub.status.busy": "2021-11-06T07:30:08.851428Z",
     "iopub.status.idle": "2021-11-06T07:30:09.589409Z",
     "shell.execute_reply": "2021-11-06T07:30:09.590710Z"
    },
    "papermill": {
     "duration": 0.772077,
     "end_time": "2021-11-06T07:30:09.591169",
     "exception": false,
     "start_time": "2021-11-06T07:30:08.819092",
     "status": "completed"
    },
    "tags": []
   },
   "outputs": [],
   "source": [
    "timestamps = pd.read_sql(\"select distinct record_time from EBAY_TOP_BERLIN order by record_time desc limit 2\", sqlite3.connect(\"UsedObjects.db\"))"
   ]
  },
  {
   "cell_type": "code",
   "execution_count": 3,
   "id": "periodic-identification",
   "metadata": {
    "execution": {
     "iopub.execute_input": "2021-11-06T07:30:09.659313Z",
     "iopub.status.busy": "2021-11-06T07:30:09.656799Z",
     "iopub.status.idle": "2021-11-06T07:30:09.678574Z",
     "shell.execute_reply": "2021-11-06T07:30:09.679948Z"
    },
    "papermill": {
     "duration": 0.069267,
     "end_time": "2021-11-06T07:30:09.680412",
     "exception": false,
     "start_time": "2021-11-06T07:30:09.611145",
     "status": "completed"
    },
    "tags": []
   },
   "outputs": [
    {
     "data": {
      "text/html": [
       "<div>\n",
       "<style scoped>\n",
       "    .dataframe tbody tr th:only-of-type {\n",
       "        vertical-align: middle;\n",
       "    }\n",
       "\n",
       "    .dataframe tbody tr th {\n",
       "        vertical-align: top;\n",
       "    }\n",
       "\n",
       "    .dataframe thead th {\n",
       "        text-align: right;\n",
       "    }\n",
       "</style>\n",
       "<table border=\"1\" class=\"dataframe\">\n",
       "  <thead>\n",
       "    <tr style=\"text-align: right;\">\n",
       "      <th></th>\n",
       "      <th>RECORD_TIME</th>\n",
       "    </tr>\n",
       "  </thead>\n",
       "  <tbody>\n",
       "    <tr>\n",
       "      <th>0</th>\n",
       "      <td>2021-11-06 08:30</td>\n",
       "    </tr>\n",
       "    <tr>\n",
       "      <th>1</th>\n",
       "      <td>2021-11-06 08:00</td>\n",
       "    </tr>\n",
       "  </tbody>\n",
       "</table>\n",
       "</div>"
      ],
      "text/plain": [
       "        RECORD_TIME\n",
       "0  2021-11-06 08:30\n",
       "1  2021-11-06 08:00"
      ]
     },
     "execution_count": 3,
     "metadata": {},
     "output_type": "execute_result"
    }
   ],
   "source": [
    "timestamps"
   ]
  },
  {
   "cell_type": "code",
   "execution_count": 4,
   "id": "alternate-victory",
   "metadata": {
    "execution": {
     "iopub.execute_input": "2021-11-06T07:30:09.734298Z",
     "iopub.status.busy": "2021-11-06T07:30:09.732115Z",
     "iopub.status.idle": "2021-11-06T07:30:10.836619Z",
     "shell.execute_reply": "2021-11-06T07:30:10.838217Z"
    },
    "papermill": {
     "duration": 1.138329,
     "end_time": "2021-11-06T07:30:10.838775",
     "exception": false,
     "start_time": "2021-11-06T07:30:09.700446",
     "status": "completed"
    },
    "tags": []
   },
   "outputs": [],
   "source": [
    "df = pd.read_sql(\"select * from EBAY_TOP_BERLIN where record_time in (select distinct record_time from EBAY_TOP_BERLIN order by record_time desc limit 2)\", sqlite3.connect(\"UsedObjects.db\"))"
   ]
  },
  {
   "cell_type": "code",
   "execution_count": 5,
   "id": "popular-active",
   "metadata": {
    "execution": {
     "iopub.execute_input": "2021-11-06T07:30:10.905768Z",
     "iopub.status.busy": "2021-11-06T07:30:10.903305Z",
     "iopub.status.idle": "2021-11-06T07:30:10.937490Z",
     "shell.execute_reply": "2021-11-06T07:30:10.939142Z"
    },
    "papermill": {
     "duration": 0.078806,
     "end_time": "2021-11-06T07:30:10.939637",
     "exception": false,
     "start_time": "2021-11-06T07:30:10.860831",
     "status": "completed"
    },
    "tags": []
   },
   "outputs": [],
   "source": [
    "df_pivot = df.pivot_table(index=\"PRODUCT\", columns = \"RECORD_TIME\", values = \"LISTING_COUNT\")"
   ]
  },
  {
   "cell_type": "code",
   "execution_count": 6,
   "id": "union-huntington",
   "metadata": {
    "execution": {
     "iopub.execute_input": "2021-11-06T07:30:11.003071Z",
     "iopub.status.busy": "2021-11-06T07:30:11.000793Z",
     "iopub.status.idle": "2021-11-06T07:30:11.006700Z",
     "shell.execute_reply": "2021-11-06T07:30:11.008432Z"
    },
    "papermill": {
     "duration": 0.047204,
     "end_time": "2021-11-06T07:30:11.008993",
     "exception": false,
     "start_time": "2021-11-06T07:30:10.961789",
     "status": "completed"
    },
    "tags": []
   },
   "outputs": [],
   "source": [
    "df_pivot.columns = [\"stamp_1\", \"stamp_2\"]\n",
    "df_pivot_diff = df_pivot.diff(axis=1)"
   ]
  },
  {
   "cell_type": "code",
   "execution_count": 7,
   "id": "fifth-motion",
   "metadata": {
    "execution": {
     "iopub.execute_input": "2021-11-06T07:30:11.070058Z",
     "iopub.status.busy": "2021-11-06T07:30:11.067129Z",
     "iopub.status.idle": "2021-11-06T07:30:12.898469Z",
     "shell.execute_reply": "2021-11-06T07:30:12.899874Z"
    },
    "papermill": {
     "duration": 1.870065,
     "end_time": "2021-11-06T07:30:12.900347",
     "exception": false,
     "start_time": "2021-11-06T07:30:11.030282",
     "status": "completed"
    },
    "tags": []
   },
   "outputs": [
    {
     "data": {
      "text/plain": [
       "<AxesSubplot:ylabel='PRODUCT'>"
      ]
     },
     "execution_count": 7,
     "metadata": {},
     "output_type": "execute_result"
    },
    {
     "data": {
      "image/png": "[encoded data removed]",
      "text/plain": [
       "<Figure size 432x288 with 1 Axes>"
      ]
     },
     "metadata": {
      "needs_background": "light"
     },
     "output_type": "display_data"
    }
   ],
   "source": [
    "df_pivot_diff.sort_values(\"stamp_2\", ascending = False)[\"stamp_2\"].head(10).plot.barh()"
   ]
  },
  {
   "cell_type": "code",
   "execution_count": null,
   "id": "extra-executive",
   "metadata": {
    "papermill": {
     "duration": 0.034299,
     "end_time": "2021-11-06T07:30:12.958844",
     "exception": false,
     "start_time": "2021-11-06T07:30:12.924545",
     "status": "completed"
    },
    "tags": []
   },
   "outputs": [],
   "source": []
  }
 ],
 "metadata": {
  "kernelspec": {
   "display_name": "Python 3",
   "language": "python",
   "name": "python3"
  },
  "language_info": {
   "codemirror_mode": {
    "name": "ipython",
    "version": 3
   },
   "file_extension": ".py",
   "mimetype": "text/x-python",
   "name": "python",
   "nbconvert_exporter": "python",
   "pygments_lexer": "ipython3",
   "version": "3.9.5"
  },
  "papermill": {
   "default_parameters": {},
   "duration": 8.982478,
   "end_time": "2021-11-06T07:30:13.966130",
   "environment_variables": {},
   "exception": null,
   "input_path": "eBay_Overview.ipynb",
   "output_path": "eBay_Overview.ipynb",
   "parameters": {},
   "start_time": "2021-11-06T07:30:04.983652",
   "version": "2.3.3"
  }
 },
 "nbformat": 4,
 "nbformat_minor": 5
}