{
 "cells": [
  {
   "cell_type": "code",
   "execution_count": 1,
   "id": "reverse-picking",
   "metadata": {
    "execution": {
     "iopub.execute_input": "2021-10-10T09:30:07.023998Z",
     "iopub.status.busy": "2021-10-10T09:30:07.021923Z",
     "iopub.status.idle": "2021-10-10T09:30:07.835596Z",
     "shell.execute_reply": "2021-10-10T09:30:07.833846Z"
    },
    "papermill": {
     "duration": 0.861769,
     "end_time": "2021-10-10T09:30:07.836028",
     "exception": false,
     "start_time": "2021-10-10T09:30:06.974259",
     "status": "completed"
    },
    "tags": []
   },
   "outputs": [],
   "source": [
    "import pandas as pd\n",
    "import sqlite3"
   ]
  },
  {
   "cell_type": "code",
   "execution_count": 2,
   "id": "innovative-syndrome",
   "metadata": {
    "execution": {
     "iopub.execute_input": "2021-10-10T09:30:07.887289Z",
     "iopub.status.busy": "2021-10-10T09:30:07.885221Z",
     "iopub.status.idle": "2021-10-10T09:30:08.385024Z",
     "shell.execute_reply": "2021-10-10T09:30:08.386243Z"
    },
    "papermill": {
     "duration": 0.530081,
     "end_time": "2021-10-10T09:30:08.386642",
     "exception": false,
     "start_time": "2021-10-10T09:30:07.856561",
     "status": "completed"
    },
    "tags": []
   },
   "outputs": [],
   "source": [
    "timestamps = pd.read_sql(\"select distinct record_time from EBAY_TOP_BERLIN order by record_time desc limit 2\", sqlite3.connect(\"UsedObjects.db\"))"
   ]
  },
  {
   "cell_type": "code",
   "execution_count": 3,
   "id": "periodic-identification",
   "metadata": {
    "execution": {
     "iopub.execute_input": "2021-10-10T09:30:08.452629Z",
     "iopub.status.busy": "2021-10-10T09:30:08.450431Z",
     "iopub.status.idle": "2021-10-10T09:30:08.472830Z",
     "shell.execute_reply": "2021-10-10T09:30:08.474062Z"
    },
    "papermill": {
     "duration": 0.066723,
     "end_time": "2021-10-10T09:30:08.474459",
     "exception": false,
     "start_time": "2021-10-10T09:30:08.407736",
     "status": "completed"
    },
    "tags": []
   },
   "outputs": [
    {
     "data": {
      "text/html": [
       "<div>\n",
       "<style scoped>\n",
       "    .dataframe tbody tr th:only-of-type {\n",
       "        vertical-align: middle;\n",
       "    }\n",
       "\n",
       "    .dataframe tbody tr th {\n",
       "        vertical-align: top;\n",
       "    }\n",
       "\n",
       "    .dataframe thead th {\n",
       "        text-align: right;\n",
       "    }\n",
       "</style>\n",
       "<table border=\"1\" class=\"dataframe\">\n",
       "  <thead>\n",
       "    <tr style=\"text-align: right;\">\n",
       "      <th></th>\n",
       "      <th>RECORD_TIME</th>\n",
       "    </tr>\n",
       "  </thead>\n",
       "  <tbody>\n",
       "    <tr>\n",
       "      <th>0</th>\n",
       "      <td>2021-10-10 11:30</td>\n",
       "    </tr>\n",
       "    <tr>\n",
       "      <th>1</th>\n",
       "      <td>2021-10-10 11:00</td>\n",
       "    </tr>\n",
       "  </tbody>\n",
       "</table>\n",
       "</div>"
      ],
      "text/plain": [
       "        RECORD_TIME\n",
       "0  2021-10-10 11:30\n",
       "1  2021-10-10 11:00"
      ]
     },
     "execution_count": 3,
     "metadata": {},
     "output_type": "execute_result"
    }
   ],
   "source": [
    "timestamps"
   ]
  },
  {
   "cell_type": "code",
   "execution_count": 4,
   "id": "alternate-victory",
   "metadata": {
    "execution": {
     "iopub.execute_input": "2021-10-10T09:30:08.535566Z",
     "iopub.status.busy": "2021-10-10T09:30:08.533547Z",
     "iopub.status.idle": "2021-10-10T09:30:09.255430Z",
     "shell.execute_reply": "2021-10-10T09:30:09.256764Z"
    },
    "papermill": {
     "duration": 0.754529,
     "end_time": "2021-10-10T09:30:09.257220",
     "exception": false,
     "start_time": "2021-10-10T09:30:08.502691",
     "status": "completed"
    },
    "tags": []
   },
   "outputs": [],
   "source": [
    "df = pd.read_sql(\"select * from EBAY_TOP_BERLIN where record_time in (select distinct record_time from EBAY_TOP_BERLIN order by record_time desc limit 2)\", sqlite3.connect(\"UsedObjects.db\"))"
   ]
  },
  {
   "cell_type": "code",
   "execution_count": 5,
   "id": "popular-active",
   "metadata": {
    "execution": {
     "iopub.execute_input": "2021-10-10T09:30:09.328750Z",
     "iopub.status.busy": "2021-10-10T09:30:09.322867Z",
     "iopub.status.idle": "2021-10-10T09:30:09.344197Z",
     "shell.execute_reply": "2021-10-10T09:30:09.345425Z"
    },
    "papermill": {
     "duration": 0.067611,
     "end_time": "2021-10-10T09:30:09.345823",
     "exception": false,
     "start_time": "2021-10-10T09:30:09.278212",
     "status": "completed"
    },
    "tags": []
   },
   "outputs": [],
   "source": [
    "df_pivot = df.pivot_table(index=\"PRODUCT\", columns = \"RECORD_TIME\", values = \"LISTING_COUNT\")"
   ]
  },
  {
   "cell_type": "code",
   "execution_count": 6,
   "id": "union-huntington",
   "metadata": {
    "execution": {
     "iopub.execute_input": "2021-10-10T09:30:09.405423Z",
     "iopub.status.busy": "2021-10-10T09:30:09.403352Z",
     "iopub.status.idle": "2021-10-10T09:30:09.408636Z",
     "shell.execute_reply": "2021-10-10T09:30:09.409848Z"
    },
    "papermill": {
     "duration": 0.042007,
     "end_time": "2021-10-10T09:30:09.410280",
     "exception": false,
     "start_time": "2021-10-10T09:30:09.368273",
     "status": "completed"
    },
    "tags": []
   },
   "outputs": [],
   "source": [
    "df_pivot.columns = [\"stamp_1\", \"stamp_2\"]\n",
    "df_pivot_diff = df_pivot.diff(axis=1)"
   ]
  },
  {
   "cell_type": "code",
   "execution_count": 7,
   "id": "fifth-motion",
   "metadata": {
    "execution": {
     "iopub.execute_input": "2021-10-10T09:30:09.464482Z",
     "iopub.status.busy": "2021-10-10T09:30:09.461984Z",
     "iopub.status.idle": "2021-10-10T09:30:10.933458Z",
     "shell.execute_reply": "2021-10-10T09:30:10.934768Z"
    },
    "papermill": {
     "duration": 1.504158,
     "end_time": "2021-10-10T09:30:10.935284",
     "exception": false,
     "start_time": "2021-10-10T09:30:09.431126",
     "status": "completed"
    },
    "tags": []
   },
   "outputs": [
    {
     "data": {
      "text/plain": [
       "<AxesSubplot:ylabel='PRODUCT'>"
      ]
     },
     "execution_count": 7,
     "metadata": {},
     "output_type": "execute_result"
    },
    {
     "data": {
      "image/png": "[encoded data removed]",
      "text/plain": [
       "<Figure size 432x288 with 1 Axes>"
      ]
     },
     "metadata": {
      "needs_background": "light"
     },
     "output_type": "display_data"
    }
   ],
   "source": [
    "df_pivot_diff.sort_values(\"stamp_2\", ascending = False)[\"stamp_2\"].head(10).plot.barh()"
   ]
  },
  {
   "cell_type": "code",
   "execution_count": null,
   "id": "extra-executive",
   "metadata": {
    "papermill": {
     "duration": 0.022405,
     "end_time": "2021-10-10T09:30:10.983456",
     "exception": false,
     "start_time": "2021-10-10T09:30:10.961051",
     "status": "completed"
    },
    "tags": []
   },
   "outputs": [],
   "source": []
  }
 ],
 "metadata": {
  "kernelspec": {
   "display_name": "Python 3",
   "language": "python",
   "name": "python3"
  },
  "language_info": {
   "codemirror_mode": {
    "name": "ipython",
    "version": 3
   },
   "file_extension": ".py",
   "mimetype": "text/x-python",
   "name": "python",
   "nbconvert_exporter": "python",
   "pygments_lexer": "ipython3",
   "version": "3.9.5"
  },
  "papermill": {
   "default_parameters": {},
   "duration": 7.829651,
   "end_time": "2021-10-10T09:30:12.391056",
   "environment_variables": {},
   "exception": null,
   "input_path": "eBay_Overview.ipynb",
   "output_path": "eBay_Overview.ipynb",
   "parameters": {},
   "start_time": "2021-10-10T09:30:04.561405",
   "version": "2.3.3"
  }
 },
 "nbformat": 4,
 "nbformat_minor": 5
}