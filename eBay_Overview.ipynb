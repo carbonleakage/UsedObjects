{
 "cells": [
  {
   "cell_type": "code",
   "execution_count": 1,
   "id": "reverse-picking",
   "metadata": {
    "execution": {
     "iopub.execute_input": "2021-11-15T10:00:08.154311Z",
     "iopub.status.busy": "2021-11-15T10:00:08.151920Z",
     "iopub.status.idle": "2021-11-15T10:00:09.118227Z",
     "shell.execute_reply": "2021-11-15T10:00:09.119704Z"
    },
    "papermill": {
     "duration": 1.015088,
     "end_time": "2021-11-15T10:00:09.120417",
     "exception": false,
     "start_time": "2021-11-15T10:00:08.105329",
     "status": "completed"
    },
    "tags": []
   },
   "outputs": [],
   "source": [
    "import pandas as pd\n",
    "import sqlite3"
   ]
  },
  {
   "cell_type": "code",
   "execution_count": 2,
   "id": "innovative-syndrome",
   "metadata": {
    "execution": {
     "iopub.execute_input": "2021-11-15T10:00:09.178875Z",
     "iopub.status.busy": "2021-11-15T10:00:09.176566Z",
     "iopub.status.idle": "2021-11-15T10:00:10.014308Z",
     "shell.execute_reply": "2021-11-15T10:00:10.015637Z"
    },
    "papermill": {
     "duration": 0.869382,
     "end_time": "2021-11-15T10:00:10.016036",
     "exception": false,
     "start_time": "2021-11-15T10:00:09.146654",
     "status": "completed"
    },
    "tags": []
   },
   "outputs": [],
   "source": [
    "timestamps = pd.read_sql(\"select distinct record_time from EBAY_TOP_BERLIN order by record_time desc limit 2\", sqlite3.connect(\"UsedObjects.db\"))"
   ]
  },
  {
   "cell_type": "code",
   "execution_count": 3,
   "id": "periodic-identification",
   "metadata": {
    "execution": {
     "iopub.execute_input": "2021-11-15T10:00:10.109218Z",
     "iopub.status.busy": "2021-11-15T10:00:10.106765Z",
     "iopub.status.idle": "2021-11-15T10:00:10.131398Z",
     "shell.execute_reply": "2021-11-15T10:00:10.129750Z"
    },
    "papermill": {
     "duration": 0.07447,
     "end_time": "2021-11-15T10:00:10.131824",
     "exception": false,
     "start_time": "2021-11-15T10:00:10.057354",
     "status": "completed"
    },
    "tags": []
   },
   "outputs": [
    {
     "data": {
      "text/html": [
       "<div>\n",
       "<style scoped>\n",
       "    .dataframe tbody tr th:only-of-type {\n",
       "        vertical-align: middle;\n",
       "    }\n",
       "\n",
       "    .dataframe tbody tr th {\n",
       "        vertical-align: top;\n",
       "    }\n",
       "\n",
       "    .dataframe thead th {\n",
       "        text-align: right;\n",
       "    }\n",
       "</style>\n",
       "<table border=\"1\" class=\"dataframe\">\n",
       "  <thead>\n",
       "    <tr style=\"text-align: right;\">\n",
       "      <th></th>\n",
       "      <th>RECORD_TIME</th>\n",
       "    </tr>\n",
       "  </thead>\n",
       "  <tbody>\n",
       "    <tr>\n",
       "      <th>0</th>\n",
       "      <td>2021-11-15 11:00</td>\n",
       "    </tr>\n",
       "    <tr>\n",
       "      <th>1</th>\n",
       "      <td>2021-11-15 10:30</td>\n",
       "    </tr>\n",
       "  </tbody>\n",
       "</table>\n",
       "</div>"
      ],
      "text/plain": [
       "        RECORD_TIME\n",
       "0  2021-11-15 11:00\n",
       "1  2021-11-15 10:30"
      ]
     },
     "execution_count": 3,
     "metadata": {},
     "output_type": "execute_result"
    }
   ],
   "source": [
    "timestamps"
   ]
  },
  {
   "cell_type": "code",
   "execution_count": 4,
   "id": "alternate-victory",
   "metadata": {
    "execution": {
     "iopub.execute_input": "2021-11-15T10:00:10.187387Z",
     "iopub.status.busy": "2021-11-15T10:00:10.185191Z",
     "iopub.status.idle": "2021-11-15T10:00:11.395745Z",
     "shell.execute_reply": "2021-11-15T10:00:11.397339Z"
    },
    "papermill": {
     "duration": 1.244618,
     "end_time": "2021-11-15T10:00:11.397813",
     "exception": false,
     "start_time": "2021-11-15T10:00:10.153195",
     "status": "completed"
    },
    "tags": []
   },
   "outputs": [],
   "source": [
    "df = pd.read_sql(\"select * from EBAY_TOP_BERLIN where record_time in (select distinct record_time from EBAY_TOP_BERLIN order by record_time desc limit 2)\", sqlite3.connect(\"UsedObjects.db\"))"
   ]
  },
  {
   "cell_type": "code",
   "execution_count": 5,
   "id": "popular-active",
   "metadata": {
    "execution": {
     "iopub.execute_input": "2021-11-15T10:00:11.457637Z",
     "iopub.status.busy": "2021-11-15T10:00:11.455301Z",
     "iopub.status.idle": "2021-11-15T10:00:11.489214Z",
     "shell.execute_reply": "2021-11-15T10:00:11.490636Z"
    },
    "papermill": {
     "duration": 0.072864,
     "end_time": "2021-11-15T10:00:11.491229",
     "exception": false,
     "start_time": "2021-11-15T10:00:11.418365",
     "status": "completed"
    },
    "tags": []
   },
   "outputs": [],
   "source": [
    "df_pivot = df.pivot_table(index=\"PRODUCT\", columns = \"RECORD_TIME\", values = \"LISTING_COUNT\")"
   ]
  },
  {
   "cell_type": "code",
   "execution_count": 6,
   "id": "union-huntington",
   "metadata": {
    "execution": {
     "iopub.execute_input": "2021-11-15T10:00:11.551439Z",
     "iopub.status.busy": "2021-11-15T10:00:11.549230Z",
     "iopub.status.idle": "2021-11-15T10:00:11.556368Z",
     "shell.execute_reply": "2021-11-15T10:00:11.554942Z"
    },
    "papermill": {
     "duration": 0.044644,
     "end_time": "2021-11-15T10:00:11.556878",
     "exception": false,
     "start_time": "2021-11-15T10:00:11.512234",
     "status": "completed"
    },
    "tags": []
   },
   "outputs": [],
   "source": [
    "df_pivot.columns = [\"stamp_1\", \"stamp_2\"]\n",
    "df_pivot_diff = df_pivot.diff(axis=1)"
   ]
  },
  {
   "cell_type": "code",
   "execution_count": 7,
   "id": "fifth-motion",
   "metadata": {
    "execution": {
     "iopub.execute_input": "2021-11-15T10:00:11.613020Z",
     "iopub.status.busy": "2021-11-15T10:00:11.610477Z",
     "iopub.status.idle": "2021-11-15T10:00:13.628911Z",
     "shell.execute_reply": "2021-11-15T10:00:13.630557Z"
    },
    "papermill": {
     "duration": 2.053974,
     "end_time": "2021-11-15T10:00:13.631060",
     "exception": false,
     "start_time": "2021-11-15T10:00:11.577086",
     "status": "completed"
    },
    "tags": []
   },
   "outputs": [
    {
     "data": {
      "text/plain": [
       "<AxesSubplot:ylabel='PRODUCT'>"
      ]
     },
     "execution_count": 7,
     "metadata": {},
     "output_type": "execute_result"
    },
    {
     "data": {
      "image/png": "[encoded data removed]",
      "text/plain": [
       "<Figure size 432x288 with 1 Axes>"
      ]
     },
     "metadata": {
      "needs_background": "light"
     },
     "output_type": "display_data"
    }
   ],
   "source": [
    "df_pivot_diff.sort_values(\"stamp_2\", ascending = False)[\"stamp_2\"].head(10).plot.barh()"
   ]
  },
  {
   "cell_type": "code",
   "execution_count": null,
   "id": "extra-executive",
   "metadata": {
    "papermill": {
     "duration": 0.021998,
     "end_time": "2021-11-15T10:00:13.677321",
     "exception": false,
     "start_time": "2021-11-15T10:00:13.655323",
     "status": "completed"
    },
    "tags": []
   },
   "outputs": [],
   "source": []
  }
 ],
 "metadata": {
  "kernelspec": {
   "display_name": "Python 3",
   "language": "python",
   "name": "python3"
  },
  "language_info": {
   "codemirror_mode": {
    "name": "ipython",
    "version": 3
   },
   "file_extension": ".py",
   "mimetype": "text/x-python",
   "name": "python",
   "nbconvert_exporter": "python",
   "pygments_lexer": "ipython3",
   "version": "3.9.5"
  },
  "papermill": {
   "default_parameters": {},
   "duration": 9.964134,
   "end_time": "2021-11-15T10:00:15.291931",
   "environment_variables": {},
   "exception": null,
   "input_path": "eBay_Overview.ipynb",
   "output_path": "eBay_Overview.ipynb",
   "parameters": {},
   "start_time": "2021-11-15T10:00:05.327797",
   "version": "2.3.3"
  }
 },
 "nbformat": 4,
 "nbformat_minor": 5
}