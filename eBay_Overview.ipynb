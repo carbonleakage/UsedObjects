{
 "cells": [
  {
   "cell_type": "code",
   "execution_count": 1,
   "id": "reverse-picking",
   "metadata": {
    "execution": {
     "iopub.execute_input": "2021-12-06T18:30:07.753118Z",
     "iopub.status.busy": "2021-12-06T18:30:07.750752Z",
     "iopub.status.idle": "2021-12-06T18:30:08.708546Z",
     "shell.execute_reply": "2021-12-06T18:30:08.710177Z"
    },
    "papermill": {
     "duration": 1.008211,
     "end_time": "2021-12-06T18:30:08.710942",
     "exception": false,
     "start_time": "2021-12-06T18:30:07.702731",
     "status": "completed"
    },
    "tags": []
   },
   "outputs": [],
   "source": [
    "import pandas as pd\n",
    "import sqlite3"
   ]
  },
  {
   "cell_type": "code",
   "execution_count": 2,
   "id": "innovative-syndrome",
   "metadata": {
    "execution": {
     "iopub.execute_input": "2021-12-06T18:30:08.833192Z",
     "iopub.status.busy": "2021-12-06T18:30:08.830730Z",
     "iopub.status.idle": "2021-12-06T18:30:09.831016Z",
     "shell.execute_reply": "2021-12-06T18:30:09.834014Z"
    },
    "papermill": {
     "duration": 1.038311,
     "end_time": "2021-12-06T18:30:09.834672",
     "exception": false,
     "start_time": "2021-12-06T18:30:08.796361",
     "status": "completed"
    },
    "tags": []
   },
   "outputs": [],
   "source": [
    "timestamps = pd.read_sql(\"select distinct record_time from EBAY_TOP_BERLIN order by record_time desc limit 2\", sqlite3.connect(\"UsedObjects.db\"))"
   ]
  },
  {
   "cell_type": "code",
   "execution_count": 3,
   "id": "periodic-identification",
   "metadata": {
    "execution": {
     "iopub.execute_input": "2021-12-06T18:30:09.908341Z",
     "iopub.status.busy": "2021-12-06T18:30:09.906049Z",
     "iopub.status.idle": "2021-12-06T18:30:09.930426Z",
     "shell.execute_reply": "2021-12-06T18:30:09.931800Z"
    },
    "papermill": {
     "duration": 0.075645,
     "end_time": "2021-12-06T18:30:09.932234",
     "exception": false,
     "start_time": "2021-12-06T18:30:09.856589",
     "status": "completed"
    },
    "tags": []
   },
   "outputs": [
    {
     "data": {
      "text/html": [
       "<div>\n",
       "<style scoped>\n",
       "    .dataframe tbody tr th:only-of-type {\n",
       "        vertical-align: middle;\n",
       "    }\n",
       "\n",
       "    .dataframe tbody tr th {\n",
       "        vertical-align: top;\n",
       "    }\n",
       "\n",
       "    .dataframe thead th {\n",
       "        text-align: right;\n",
       "    }\n",
       "</style>\n",
       "<table border=\"1\" class=\"dataframe\">\n",
       "  <thead>\n",
       "    <tr style=\"text-align: right;\">\n",
       "      <th></th>\n",
       "      <th>RECORD_TIME</th>\n",
       "    </tr>\n",
       "  </thead>\n",
       "  <tbody>\n",
       "    <tr>\n",
       "      <th>0</th>\n",
       "      <td>2021-12-06 19:30</td>\n",
       "    </tr>\n",
       "    <tr>\n",
       "      <th>1</th>\n",
       "      <td>2021-12-06 19:00</td>\n",
       "    </tr>\n",
       "  </tbody>\n",
       "</table>\n",
       "</div>"
      ],
      "text/plain": [
       "        RECORD_TIME\n",
       "0  2021-12-06 19:30\n",
       "1  2021-12-06 19:00"
      ]
     },
     "execution_count": 3,
     "metadata": {},
     "output_type": "execute_result"
    }
   ],
   "source": [
    "timestamps"
   ]
  },
  {
   "cell_type": "code",
   "execution_count": 4,
   "id": "alternate-victory",
   "metadata": {
    "execution": {
     "iopub.execute_input": "2021-12-06T18:30:09.985995Z",
     "iopub.status.busy": "2021-12-06T18:30:09.983904Z",
     "iopub.status.idle": "2021-12-06T18:30:11.422382Z",
     "shell.execute_reply": "2021-12-06T18:30:11.425484Z"
    },
    "papermill": {
     "duration": 1.473311,
     "end_time": "2021-12-06T18:30:11.426366",
     "exception": false,
     "start_time": "2021-12-06T18:30:09.953055",
     "status": "completed"
    },
    "tags": []
   },
   "outputs": [],
   "source": [
    "df = pd.read_sql(\"select * from EBAY_TOP_BERLIN where record_time in (select distinct record_time from EBAY_TOP_BERLIN order by record_time desc limit 2)\", sqlite3.connect(\"UsedObjects.db\"))"
   ]
  },
  {
   "cell_type": "code",
   "execution_count": 5,
   "id": "popular-active",
   "metadata": {
    "execution": {
     "iopub.execute_input": "2021-12-06T18:30:11.530424Z",
     "iopub.status.busy": "2021-12-06T18:30:11.526627Z",
     "iopub.status.idle": "2021-12-06T18:30:11.588899Z",
     "shell.execute_reply": "2021-12-06T18:30:11.591700Z"
    },
    "papermill": {
     "duration": 0.132668,
     "end_time": "2021-12-06T18:30:11.592521",
     "exception": false,
     "start_time": "2021-12-06T18:30:11.459853",
     "status": "completed"
    },
    "tags": []
   },
   "outputs": [],
   "source": [
    "df_pivot = df.pivot_table(index=\"PRODUCT\", columns = \"RECORD_TIME\", values = \"LISTING_COUNT\")"
   ]
  },
  {
   "cell_type": "code",
   "execution_count": 6,
   "id": "union-huntington",
   "metadata": {
    "execution": {
     "iopub.execute_input": "2021-12-06T18:30:11.679552Z",
     "iopub.status.busy": "2021-12-06T18:30:11.675523Z",
     "iopub.status.idle": "2021-12-06T18:30:11.690511Z",
     "shell.execute_reply": "2021-12-06T18:30:11.687369Z"
    },
    "papermill": {
     "duration": 0.070049,
     "end_time": "2021-12-06T18:30:11.691285",
     "exception": false,
     "start_time": "2021-12-06T18:30:11.621236",
     "status": "completed"
    },
    "tags": []
   },
   "outputs": [],
   "source": [
    "df_pivot.columns = [\"stamp_1\", \"stamp_2\"]\n",
    "df_pivot_diff = df_pivot.diff(axis=1)"
   ]
  },
  {
   "cell_type": "code",
   "execution_count": 7,
   "id": "fifth-motion",
   "metadata": {
    "execution": {
     "iopub.execute_input": "2021-12-06T18:30:11.778631Z",
     "iopub.status.busy": "2021-12-06T18:30:11.774430Z",
     "iopub.status.idle": "2021-12-06T18:30:13.481548Z",
     "shell.execute_reply": "2021-12-06T18:30:13.482857Z"
    },
    "papermill": {
     "duration": 1.759987,
     "end_time": "2021-12-06T18:30:13.483281",
     "exception": false,
     "start_time": "2021-12-06T18:30:11.723294",
     "status": "completed"
    },
    "tags": []
   },
   "outputs": [
    {
     "data": {
      "text/plain": [
       "<AxesSubplot:ylabel='PRODUCT'>"
      ]
     },
     "execution_count": 7,
     "metadata": {},
     "output_type": "execute_result"
    },
    {
     "data": {
      "image/png": "[encoded data removed]",
      "text/plain": [
       "<Figure size 432x288 with 1 Axes>"
      ]
     },
     "metadata": {
      "needs_background": "light"
     },
     "output_type": "display_data"
    }
   ],
   "source": [
    "df_pivot_diff.sort_values(\"stamp_2\", ascending = False)[\"stamp_2\"].head(10).plot.barh()"
   ]
  },
  {
   "cell_type": "code",
   "execution_count": null,
   "id": "extra-executive",
   "metadata": {
    "papermill": {
     "duration": 0.022197,
     "end_time": "2021-12-06T18:30:13.530492",
     "exception": false,
     "start_time": "2021-12-06T18:30:13.508295",
     "status": "completed"
    },
    "tags": []
   },
   "outputs": [],
   "source": []
  }
 ],
 "metadata": {
  "kernelspec": {
   "display_name": "Python 3",
   "language": "python",
   "name": "python3"
  },
  "language_info": {
   "codemirror_mode": {
    "name": "ipython",
    "version": 3
   },
   "file_extension": ".py",
   "mimetype": "text/x-python",
   "name": "python",
   "nbconvert_exporter": "python",
   "pygments_lexer": "ipython3",
   "version": "3.9.5"
  },
  "papermill": {
   "default_parameters": {},
   "duration": 9.948693,
   "end_time": "2021-12-06T18:30:14.903020",
   "environment_variables": {},
   "exception": null,
   "input_path": "eBay_Overview.ipynb",
   "output_path": "eBay_Overview.ipynb",
   "parameters": {},
   "start_time": "2021-12-06T18:30:04.954327",
   "version": "2.3.3"
  }
 },
 "nbformat": 4,
 "nbformat_minor": 5
}