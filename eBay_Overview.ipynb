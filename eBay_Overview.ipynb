{
 "cells": [
  {
   "cell_type": "code",
   "execution_count": 1,
   "id": "reverse-picking",
   "metadata": {
    "execution": {
     "iopub.execute_input": "2021-08-23T13:30:07.568023Z",
     "iopub.status.busy": "2021-08-23T13:30:07.566085Z",
     "iopub.status.idle": "2021-08-23T13:30:08.376108Z",
     "shell.execute_reply": "2021-08-23T13:30:08.374520Z"
    },
    "papermill": {
     "duration": 0.860004,
     "end_time": "2021-08-23T13:30:08.376501",
     "exception": false,
     "start_time": "2021-08-23T13:30:07.516497",
     "status": "completed"
    },
    "tags": []
   },
   "outputs": [],
   "source": [
    "import pandas as pd\n",
    "import sqlite3"
   ]
  },
  {
   "cell_type": "code",
   "execution_count": 2,
   "id": "innovative-syndrome",
   "metadata": {
    "execution": {
     "iopub.execute_input": "2021-08-23T13:30:08.427094Z",
     "iopub.status.busy": "2021-08-23T13:30:08.425160Z",
     "iopub.status.idle": "2021-08-23T13:30:08.537006Z",
     "shell.execute_reply": "2021-08-23T13:30:08.538407Z"
    },
    "papermill": {
     "duration": 0.141228,
     "end_time": "2021-08-23T13:30:08.538853",
     "exception": false,
     "start_time": "2021-08-23T13:30:08.397625",
     "status": "completed"
    },
    "tags": []
   },
   "outputs": [],
   "source": [
    "timestamps = pd.read_sql(\"select distinct record_time from EBAY_TOP_BERLIN order by record_time desc limit 2\", sqlite3.connect(\"UsedObjects.db\"))"
   ]
  },
  {
   "cell_type": "code",
   "execution_count": 3,
   "id": "periodic-identification",
   "metadata": {
    "execution": {
     "iopub.execute_input": "2021-08-23T13:30:08.601313Z",
     "iopub.status.busy": "2021-08-23T13:30:08.599302Z",
     "iopub.status.idle": "2021-08-23T13:30:08.620198Z",
     "shell.execute_reply": "2021-08-23T13:30:08.621488Z"
    },
    "papermill": {
     "duration": 0.063834,
     "end_time": "2021-08-23T13:30:08.621903",
     "exception": false,
     "start_time": "2021-08-23T13:30:08.558069",
     "status": "completed"
    },
    "tags": []
   },
   "outputs": [
    {
     "data": {
      "text/html": [
       "<div>\n",
       "<style scoped>\n",
       "    .dataframe tbody tr th:only-of-type {\n",
       "        vertical-align: middle;\n",
       "    }\n",
       "\n",
       "    .dataframe tbody tr th {\n",
       "        vertical-align: top;\n",
       "    }\n",
       "\n",
       "    .dataframe thead th {\n",
       "        text-align: right;\n",
       "    }\n",
       "</style>\n",
       "<table border=\"1\" class=\"dataframe\">\n",
       "  <thead>\n",
       "    <tr style=\"text-align: right;\">\n",
       "      <th></th>\n",
       "      <th>RECORD_TIME</th>\n",
       "    </tr>\n",
       "  </thead>\n",
       "  <tbody>\n",
       "    <tr>\n",
       "      <th>0</th>\n",
       "      <td>2021-08-23 15:30</td>\n",
       "    </tr>\n",
       "    <tr>\n",
       "      <th>1</th>\n",
       "      <td>2021-08-23 15:00</td>\n",
       "    </tr>\n",
       "  </tbody>\n",
       "</table>\n",
       "</div>"
      ],
      "text/plain": [
       "        RECORD_TIME\n",
       "0  2021-08-23 15:30\n",
       "1  2021-08-23 15:00"
      ]
     },
     "execution_count": 3,
     "metadata": {},
     "output_type": "execute_result"
    }
   ],
   "source": [
    "timestamps"
   ]
  },
  {
   "cell_type": "code",
   "execution_count": 4,
   "id": "alternate-victory",
   "metadata": {
    "execution": {
     "iopub.execute_input": "2021-08-23T13:30:08.673856Z",
     "iopub.status.busy": "2021-08-23T13:30:08.671615Z",
     "iopub.status.idle": "2021-08-23T13:30:08.843526Z",
     "shell.execute_reply": "2021-08-23T13:30:08.844741Z"
    },
    "papermill": {
     "duration": 0.201797,
     "end_time": "2021-08-23T13:30:08.845138",
     "exception": false,
     "start_time": "2021-08-23T13:30:08.643341",
     "status": "completed"
    },
    "tags": []
   },
   "outputs": [],
   "source": [
    "df = pd.read_sql(\"select * from EBAY_TOP_BERLIN where record_time in (select distinct record_time from EBAY_TOP_BERLIN order by record_time desc limit 2)\", sqlite3.connect(\"UsedObjects.db\"))"
   ]
  },
  {
   "cell_type": "code",
   "execution_count": 5,
   "id": "popular-active",
   "metadata": {
    "execution": {
     "iopub.execute_input": "2021-08-23T13:30:08.913206Z",
     "iopub.status.busy": "2021-08-23T13:30:08.901281Z",
     "iopub.status.idle": "2021-08-23T13:30:08.928839Z",
     "shell.execute_reply": "2021-08-23T13:30:08.930265Z"
    },
    "papermill": {
     "duration": 0.065772,
     "end_time": "2021-08-23T13:30:08.930677",
     "exception": false,
     "start_time": "2021-08-23T13:30:08.864905",
     "status": "completed"
    },
    "tags": []
   },
   "outputs": [],
   "source": [
    "df_pivot = df.pivot_table(index=\"PRODUCT\", columns = \"RECORD_TIME\", values = \"LISTING_COUNT\")"
   ]
  },
  {
   "cell_type": "code",
   "execution_count": 6,
   "id": "union-huntington",
   "metadata": {
    "execution": {
     "iopub.execute_input": "2021-08-23T13:30:08.988252Z",
     "iopub.status.busy": "2021-08-23T13:30:08.985794Z",
     "iopub.status.idle": "2021-08-23T13:30:08.991875Z",
     "shell.execute_reply": "2021-08-23T13:30:08.993053Z"
    },
    "papermill": {
     "duration": 0.04194,
     "end_time": "2021-08-23T13:30:08.993477",
     "exception": false,
     "start_time": "2021-08-23T13:30:08.951537",
     "status": "completed"
    },
    "tags": []
   },
   "outputs": [],
   "source": [
    "df_pivot.columns = [\"stamp_1\", \"stamp_2\"]\n",
    "df_pivot_diff = df_pivot.diff(axis=1)"
   ]
  },
  {
   "cell_type": "code",
   "execution_count": 7,
   "id": "fifth-motion",
   "metadata": {
    "execution": {
     "iopub.execute_input": "2021-08-23T13:30:09.051111Z",
     "iopub.status.busy": "2021-08-23T13:30:09.048783Z",
     "iopub.status.idle": "2021-08-23T13:30:10.516773Z",
     "shell.execute_reply": "2021-08-23T13:30:10.518292Z"
    },
    "papermill": {
     "duration": 1.501718,
     "end_time": "2021-08-23T13:30:10.518751",
     "exception": false,
     "start_time": "2021-08-23T13:30:09.017033",
     "status": "completed"
    },
    "tags": []
   },
   "outputs": [
    {
     "data": {
      "text/plain": [
       "<AxesSubplot:ylabel='PRODUCT'>"
      ]
     },
     "execution_count": 7,
     "metadata": {},
     "output_type": "execute_result"
    },
    {
     "data": {
      "image/png": "[encoded data removed]",
      "text/plain": [
       "<Figure size 432x288 with 1 Axes>"
      ]
     },
     "metadata": {
      "needs_background": "light"
     },
     "output_type": "display_data"
    }
   ],
   "source": [
    "df_pivot_diff.sort_values(\"stamp_2\", ascending = False)[\"stamp_2\"].head(10).plot.barh()"
   ]
  },
  {
   "cell_type": "code",
   "execution_count": null,
   "id": "extra-executive",
   "metadata": {
    "papermill": {
     "duration": 0.021792,
     "end_time": "2021-08-23T13:30:10.565993",
     "exception": false,
     "start_time": "2021-08-23T13:30:10.544201",
     "status": "completed"
    },
    "tags": []
   },
   "outputs": [],
   "source": []
  }
 ],
 "metadata": {
  "kernelspec": {
   "display_name": "Python 3",
   "language": "python",
   "name": "python3"
  },
  "language_info": {
   "codemirror_mode": {
    "name": "ipython",
    "version": 3
   },
   "file_extension": ".py",
   "mimetype": "text/x-python",
   "name": "python",
   "nbconvert_exporter": "python",
   "pygments_lexer": "ipython3",
   "version": "3.9.5"
  },
  "papermill": {
   "default_parameters": {},
   "duration": 6.821853,
   "end_time": "2021-08-23T13:30:11.925159",
   "environment_variables": {},
   "exception": null,
   "input_path": "eBay_Overview.ipynb",
   "output_path": "eBay_Overview.ipynb",
   "parameters": {},
   "start_time": "2021-08-23T13:30:05.103306",
   "version": "2.3.3"
  }
 },
 "nbformat": 4,
 "nbformat_minor": 5
}