{
 "cells": [
  {
   "cell_type": "code",
   "execution_count": 1,
   "id": "reverse-picking",
   "metadata": {
    "execution": {
     "iopub.execute_input": "2021-09-26T21:30:07.476358Z",
     "iopub.status.busy": "2021-09-26T21:30:07.474329Z",
     "iopub.status.idle": "2021-09-26T21:30:08.283547Z",
     "shell.execute_reply": "2021-09-26T21:30:08.281919Z"
    },
    "papermill": {
     "duration": 0.860049,
     "end_time": "2021-09-26T21:30:08.283958",
     "exception": false,
     "start_time": "2021-09-26T21:30:07.423909",
     "status": "completed"
    },
    "tags": []
   },
   "outputs": [],
   "source": [
    "import pandas as pd\n",
    "import sqlite3"
   ]
  },
  {
   "cell_type": "code",
   "execution_count": 2,
   "id": "innovative-syndrome",
   "metadata": {
    "execution": {
     "iopub.execute_input": "2021-09-26T21:30:08.334646Z",
     "iopub.status.busy": "2021-09-26T21:30:08.332776Z",
     "iopub.status.idle": "2021-09-26T21:30:08.718706Z",
     "shell.execute_reply": "2021-09-26T21:30:08.720171Z"
    },
    "papermill": {
     "duration": 0.415865,
     "end_time": "2021-09-26T21:30:08.720618",
     "exception": false,
     "start_time": "2021-09-26T21:30:08.304753",
     "status": "completed"
    },
    "tags": []
   },
   "outputs": [],
   "source": [
    "timestamps = pd.read_sql(\"select distinct record_time from EBAY_TOP_BERLIN order by record_time desc limit 2\", sqlite3.connect(\"UsedObjects.db\"))"
   ]
  },
  {
   "cell_type": "code",
   "execution_count": 3,
   "id": "periodic-identification",
   "metadata": {
    "execution": {
     "iopub.execute_input": "2021-09-26T21:30:08.787765Z",
     "iopub.status.busy": "2021-09-26T21:30:08.785671Z",
     "iopub.status.idle": "2021-09-26T21:30:08.805934Z",
     "shell.execute_reply": "2021-09-26T21:30:08.807317Z"
    },
    "papermill": {
     "duration": 0.067013,
     "end_time": "2021-09-26T21:30:08.807794",
     "exception": false,
     "start_time": "2021-09-26T21:30:08.740781",
     "status": "completed"
    },
    "tags": []
   },
   "outputs": [
    {
     "data": {
      "text/html": [
       "<div>\n",
       "<style scoped>\n",
       "    .dataframe tbody tr th:only-of-type {\n",
       "        vertical-align: middle;\n",
       "    }\n",
       "\n",
       "    .dataframe tbody tr th {\n",
       "        vertical-align: top;\n",
       "    }\n",
       "\n",
       "    .dataframe thead th {\n",
       "        text-align: right;\n",
       "    }\n",
       "</style>\n",
       "<table border=\"1\" class=\"dataframe\">\n",
       "  <thead>\n",
       "    <tr style=\"text-align: right;\">\n",
       "      <th></th>\n",
       "      <th>RECORD_TIME</th>\n",
       "    </tr>\n",
       "  </thead>\n",
       "  <tbody>\n",
       "    <tr>\n",
       "      <th>0</th>\n",
       "      <td>2021-09-26 23:30</td>\n",
       "    </tr>\n",
       "    <tr>\n",
       "      <th>1</th>\n",
       "      <td>2021-09-26 23:00</td>\n",
       "    </tr>\n",
       "  </tbody>\n",
       "</table>\n",
       "</div>"
      ],
      "text/plain": [
       "        RECORD_TIME\n",
       "0  2021-09-26 23:30\n",
       "1  2021-09-26 23:00"
      ]
     },
     "execution_count": 3,
     "metadata": {},
     "output_type": "execute_result"
    }
   ],
   "source": [
    "timestamps"
   ]
  },
  {
   "cell_type": "code",
   "execution_count": 4,
   "id": "alternate-victory",
   "metadata": {
    "execution": {
     "iopub.execute_input": "2021-09-26T21:30:08.860033Z",
     "iopub.status.busy": "2021-09-26T21:30:08.858082Z",
     "iopub.status.idle": "2021-09-26T21:30:09.438584Z",
     "shell.execute_reply": "2021-09-26T21:30:09.439957Z"
    },
    "papermill": {
     "duration": 0.610677,
     "end_time": "2021-09-26T21:30:09.440378",
     "exception": false,
     "start_time": "2021-09-26T21:30:08.829701",
     "status": "completed"
    },
    "tags": []
   },
   "outputs": [],
   "source": [
    "df = pd.read_sql(\"select * from EBAY_TOP_BERLIN where record_time in (select distinct record_time from EBAY_TOP_BERLIN order by record_time desc limit 2)\", sqlite3.connect(\"UsedObjects.db\"))"
   ]
  },
  {
   "cell_type": "code",
   "execution_count": 5,
   "id": "popular-active",
   "metadata": {
    "execution": {
     "iopub.execute_input": "2021-09-26T21:30:09.530516Z",
     "iopub.status.busy": "2021-09-26T21:30:09.518435Z",
     "iopub.status.idle": "2021-09-26T21:30:09.546277Z",
     "shell.execute_reply": "2021-09-26T21:30:09.547574Z"
    },
    "papermill": {
     "duration": 0.074587,
     "end_time": "2021-09-26T21:30:09.547977",
     "exception": false,
     "start_time": "2021-09-26T21:30:09.473390",
     "status": "completed"
    },
    "tags": []
   },
   "outputs": [],
   "source": [
    "df_pivot = df.pivot_table(index=\"PRODUCT\", columns = \"RECORD_TIME\", values = \"LISTING_COUNT\")"
   ]
  },
  {
   "cell_type": "code",
   "execution_count": 6,
   "id": "union-huntington",
   "metadata": {
    "execution": {
     "iopub.execute_input": "2021-09-26T21:30:09.607353Z",
     "iopub.status.busy": "2021-09-26T21:30:09.605060Z",
     "iopub.status.idle": "2021-09-26T21:30:09.611118Z",
     "shell.execute_reply": "2021-09-26T21:30:09.612592Z"
    },
    "papermill": {
     "duration": 0.042557,
     "end_time": "2021-09-26T21:30:09.613058",
     "exception": false,
     "start_time": "2021-09-26T21:30:09.570501",
     "status": "completed"
    },
    "tags": []
   },
   "outputs": [],
   "source": [
    "df_pivot.columns = [\"stamp_1\", \"stamp_2\"]\n",
    "df_pivot_diff = df_pivot.diff(axis=1)"
   ]
  },
  {
   "cell_type": "code",
   "execution_count": 7,
   "id": "fifth-motion",
   "metadata": {
    "execution": {
     "iopub.execute_input": "2021-09-26T21:30:09.668942Z",
     "iopub.status.busy": "2021-09-26T21:30:09.666448Z",
     "iopub.status.idle": "2021-09-26T21:30:11.160240Z",
     "shell.execute_reply": "2021-09-26T21:30:11.161683Z"
    },
    "papermill": {
     "duration": 1.527005,
     "end_time": "2021-09-26T21:30:11.162125",
     "exception": false,
     "start_time": "2021-09-26T21:30:09.635120",
     "status": "completed"
    },
    "tags": []
   },
   "outputs": [
    {
     "data": {
      "text/plain": [
       "<AxesSubplot:ylabel='PRODUCT'>"
      ]
     },
     "execution_count": 7,
     "metadata": {},
     "output_type": "execute_result"
    },
    {
     "data": {
      "image/png": "[encoded data removed]",
      "text/plain": [
       "<Figure size 432x288 with 1 Axes>"
      ]
     },
     "metadata": {
      "needs_background": "light"
     },
     "output_type": "display_data"
    }
   ],
   "source": [
    "df_pivot_diff.sort_values(\"stamp_2\", ascending = False)[\"stamp_2\"].head(10).plot.barh()"
   ]
  },
  {
   "cell_type": "code",
   "execution_count": null,
   "id": "extra-executive",
   "metadata": {
    "papermill": {
     "duration": 0.022489,
     "end_time": "2021-09-26T21:30:11.208433",
     "exception": false,
     "start_time": "2021-09-26T21:30:11.185944",
     "status": "completed"
    },
    "tags": []
   },
   "outputs": [],
   "source": []
  }
 ],
 "metadata": {
  "kernelspec": {
   "display_name": "Python 3",
   "language": "python",
   "name": "python3"
  },
  "language_info": {
   "codemirror_mode": {
    "name": "ipython",
    "version": 3
   },
   "file_extension": ".py",
   "mimetype": "text/x-python",
   "name": "python",
   "nbconvert_exporter": "python",
   "pygments_lexer": "ipython3",
   "version": "3.9.5"
  },
  "papermill": {
   "default_parameters": {},
   "duration": 7.821974,
   "end_time": "2021-09-26T21:30:12.833696",
   "environment_variables": {},
   "exception": null,
   "input_path": "eBay_Overview.ipynb",
   "output_path": "eBay_Overview.ipynb",
   "parameters": {},
   "start_time": "2021-09-26T21:30:05.011722",
   "version": "2.3.3"
  }
 },
 "nbformat": 4,
 "nbformat_minor": 5
}