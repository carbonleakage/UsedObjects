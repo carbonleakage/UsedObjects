{
 "cells": [
  {
   "cell_type": "code",
   "execution_count": 1,
   "id": "reverse-picking",
   "metadata": {
    "execution": {
     "iopub.execute_input": "2021-09-11T03:00:06.816841Z",
     "iopub.status.busy": "2021-09-11T03:00:06.814909Z",
     "iopub.status.idle": "2021-09-11T03:00:07.626852Z",
     "shell.execute_reply": "2021-09-11T03:00:07.625214Z"
    },
    "papermill": {
     "duration": 0.861101,
     "end_time": "2021-09-11T03:00:07.627331",
     "exception": false,
     "start_time": "2021-09-11T03:00:06.766230",
     "status": "completed"
    },
    "tags": []
   },
   "outputs": [],
   "source": [
    "import pandas as pd\n",
    "import sqlite3"
   ]
  },
  {
   "cell_type": "code",
   "execution_count": 2,
   "id": "innovative-syndrome",
   "metadata": {
    "execution": {
     "iopub.execute_input": "2021-09-11T03:00:07.678543Z",
     "iopub.status.busy": "2021-09-11T03:00:07.676504Z",
     "iopub.status.idle": "2021-09-11T03:00:07.930276Z",
     "shell.execute_reply": "2021-09-11T03:00:07.931550Z"
    },
    "papermill": {
     "duration": 0.28422,
     "end_time": "2021-09-11T03:00:07.931965",
     "exception": false,
     "start_time": "2021-09-11T03:00:07.647745",
     "status": "completed"
    },
    "tags": []
   },
   "outputs": [],
   "source": [
    "timestamps = pd.read_sql(\"select distinct record_time from EBAY_TOP_BERLIN order by record_time desc limit 2\", sqlite3.connect(\"UsedObjects.db\"))"
   ]
  },
  {
   "cell_type": "code",
   "execution_count": 3,
   "id": "periodic-identification",
   "metadata": {
    "execution": {
     "iopub.execute_input": "2021-09-11T03:00:07.999429Z",
     "iopub.status.busy": "2021-09-11T03:00:07.997320Z",
     "iopub.status.idle": "2021-09-11T03:00:08.017009Z",
     "shell.execute_reply": "2021-09-11T03:00:08.018222Z"
    },
    "papermill": {
     "duration": 0.064986,
     "end_time": "2021-09-11T03:00:08.018624",
     "exception": false,
     "start_time": "2021-09-11T03:00:07.953638",
     "status": "completed"
    },
    "tags": []
   },
   "outputs": [
    {
     "data": {
      "text/html": [
       "<div>\n",
       "<style scoped>\n",
       "    .dataframe tbody tr th:only-of-type {\n",
       "        vertical-align: middle;\n",
       "    }\n",
       "\n",
       "    .dataframe tbody tr th {\n",
       "        vertical-align: top;\n",
       "    }\n",
       "\n",
       "    .dataframe thead th {\n",
       "        text-align: right;\n",
       "    }\n",
       "</style>\n",
       "<table border=\"1\" class=\"dataframe\">\n",
       "  <thead>\n",
       "    <tr style=\"text-align: right;\">\n",
       "      <th></th>\n",
       "      <th>RECORD_TIME</th>\n",
       "    </tr>\n",
       "  </thead>\n",
       "  <tbody>\n",
       "    <tr>\n",
       "      <th>0</th>\n",
       "      <td>2021-09-11 05:00</td>\n",
       "    </tr>\n",
       "    <tr>\n",
       "      <th>1</th>\n",
       "      <td>2021-09-11 04:30</td>\n",
       "    </tr>\n",
       "  </tbody>\n",
       "</table>\n",
       "</div>"
      ],
      "text/plain": [
       "        RECORD_TIME\n",
       "0  2021-09-11 05:00\n",
       "1  2021-09-11 04:30"
      ]
     },
     "execution_count": 3,
     "metadata": {},
     "output_type": "execute_result"
    }
   ],
   "source": [
    "timestamps"
   ]
  },
  {
   "cell_type": "code",
   "execution_count": 4,
   "id": "alternate-victory",
   "metadata": {
    "execution": {
     "iopub.execute_input": "2021-09-11T03:00:08.072442Z",
     "iopub.status.busy": "2021-09-11T03:00:08.070075Z",
     "iopub.status.idle": "2021-09-11T03:00:08.451477Z",
     "shell.execute_reply": "2021-09-11T03:00:08.452975Z"
    },
    "papermill": {
     "duration": 0.412028,
     "end_time": "2021-09-11T03:00:08.453423",
     "exception": false,
     "start_time": "2021-09-11T03:00:08.041395",
     "status": "completed"
    },
    "tags": []
   },
   "outputs": [],
   "source": [
    "df = pd.read_sql(\"select * from EBAY_TOP_BERLIN where record_time in (select distinct record_time from EBAY_TOP_BERLIN order by record_time desc limit 2)\", sqlite3.connect(\"UsedObjects.db\"))"
   ]
  },
  {
   "cell_type": "code",
   "execution_count": 5,
   "id": "popular-active",
   "metadata": {
    "execution": {
     "iopub.execute_input": "2021-09-11T03:00:08.530114Z",
     "iopub.status.busy": "2021-09-11T03:00:08.522270Z",
     "iopub.status.idle": "2021-09-11T03:00:08.550360Z",
     "shell.execute_reply": "2021-09-11T03:00:08.551654Z"
    },
    "papermill": {
     "duration": 0.072342,
     "end_time": "2021-09-11T03:00:08.552061",
     "exception": false,
     "start_time": "2021-09-11T03:00:08.479719",
     "status": "completed"
    },
    "tags": []
   },
   "outputs": [],
   "source": [
    "df_pivot = df.pivot_table(index=\"PRODUCT\", columns = \"RECORD_TIME\", values = \"LISTING_COUNT\")"
   ]
  },
  {
   "cell_type": "code",
   "execution_count": 6,
   "id": "union-huntington",
   "metadata": {
    "execution": {
     "iopub.execute_input": "2021-09-11T03:00:08.609363Z",
     "iopub.status.busy": "2021-09-11T03:00:08.607212Z",
     "iopub.status.idle": "2021-09-11T03:00:08.612781Z",
     "shell.execute_reply": "2021-09-11T03:00:08.614148Z"
    },
    "papermill": {
     "duration": 0.041119,
     "end_time": "2021-09-11T03:00:08.614591",
     "exception": false,
     "start_time": "2021-09-11T03:00:08.573472",
     "status": "completed"
    },
    "tags": []
   },
   "outputs": [],
   "source": [
    "df_pivot.columns = [\"stamp_1\", \"stamp_2\"]\n",
    "df_pivot_diff = df_pivot.diff(axis=1)"
   ]
  },
  {
   "cell_type": "code",
   "execution_count": 7,
   "id": "fifth-motion",
   "metadata": {
    "execution": {
     "iopub.execute_input": "2021-09-11T03:00:08.672387Z",
     "iopub.status.busy": "2021-09-11T03:00:08.669690Z",
     "iopub.status.idle": "2021-09-11T03:00:10.160521Z",
     "shell.execute_reply": "2021-09-11T03:00:10.161820Z"
    },
    "papermill": {
     "duration": 1.524688,
     "end_time": "2021-09-11T03:00:10.162247",
     "exception": false,
     "start_time": "2021-09-11T03:00:08.637559",
     "status": "completed"
    },
    "tags": []
   },
   "outputs": [
    {
     "data": {
      "text/plain": [
       "<AxesSubplot:ylabel='PRODUCT'>"
      ]
     },
     "execution_count": 7,
     "metadata": {},
     "output_type": "execute_result"
    },
    {
     "data": {
      "image/png": "[encoded data removed]",
      "text/plain": [
       "<Figure size 432x288 with 1 Axes>"
      ]
     },
     "metadata": {
      "needs_background": "light"
     },
     "output_type": "display_data"
    }
   ],
   "source": [
    "df_pivot_diff.sort_values(\"stamp_2\", ascending = False)[\"stamp_2\"].head(10).plot.barh()"
   ]
  },
  {
   "cell_type": "code",
   "execution_count": null,
   "id": "extra-executive",
   "metadata": {
    "papermill": {
     "duration": 0.022025,
     "end_time": "2021-09-11T03:00:10.208942",
     "exception": false,
     "start_time": "2021-09-11T03:00:10.186917",
     "status": "completed"
    },
    "tags": []
   },
   "outputs": [],
   "source": []
  }
 ],
 "metadata": {
  "kernelspec": {
   "display_name": "Python 3",
   "language": "python",
   "name": "python3"
  },
  "language_info": {
   "codemirror_mode": {
    "name": "ipython",
    "version": 3
   },
   "file_extension": ".py",
   "mimetype": "text/x-python",
   "name": "python",
   "nbconvert_exporter": "python",
   "pygments_lexer": "ipython3",
   "version": "3.9.5"
  },
  "papermill": {
   "default_parameters": {},
   "duration": 6.499613,
   "end_time": "2021-09-11T03:00:10.850851",
   "environment_variables": {},
   "exception": null,
   "input_path": "eBay_Overview.ipynb",
   "output_path": "eBay_Overview.ipynb",
   "parameters": {},
   "start_time": "2021-09-11T03:00:04.351238",
   "version": "2.3.3"
  }
 },
 "nbformat": 4,
 "nbformat_minor": 5
}