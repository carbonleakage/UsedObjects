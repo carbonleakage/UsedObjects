{
 "cells": [
  {
   "cell_type": "code",
   "execution_count": 1,
   "id": "reverse-picking",
   "metadata": {
    "execution": {
     "iopub.execute_input": "2021-10-24T19:00:07.414650Z",
     "iopub.status.busy": "2021-10-24T19:00:07.412599Z",
     "iopub.status.idle": "2021-10-24T19:00:08.227139Z",
     "shell.execute_reply": "2021-10-24T19:00:08.228457Z"
    },
    "papermill": {
     "duration": 0.86732,
     "end_time": "2021-10-24T19:00:08.229181",
     "exception": false,
     "start_time": "2021-10-24T19:00:07.361861",
     "status": "completed"
    },
    "tags": []
   },
   "outputs": [],
   "source": [
    "import pandas as pd\n",
    "import sqlite3"
   ]
  },
  {
   "cell_type": "code",
   "execution_count": 2,
   "id": "innovative-syndrome",
   "metadata": {
    "execution": {
     "iopub.execute_input": "2021-10-24T19:00:08.279729Z",
     "iopub.status.busy": "2021-10-24T19:00:08.277615Z",
     "iopub.status.idle": "2021-10-24T19:00:08.912674Z",
     "shell.execute_reply": "2021-10-24T19:00:08.914105Z"
    },
    "papermill": {
     "duration": 0.66525,
     "end_time": "2021-10-24T19:00:08.914532",
     "exception": false,
     "start_time": "2021-10-24T19:00:08.249282",
     "status": "completed"
    },
    "tags": []
   },
   "outputs": [],
   "source": [
    "timestamps = pd.read_sql(\"select distinct record_time from EBAY_TOP_BERLIN order by record_time desc limit 2\", sqlite3.connect(\"UsedObjects.db\"))"
   ]
  },
  {
   "cell_type": "code",
   "execution_count": 3,
   "id": "periodic-identification",
   "metadata": {
    "execution": {
     "iopub.execute_input": "2021-10-24T19:00:08.987813Z",
     "iopub.status.busy": "2021-10-24T19:00:08.985786Z",
     "iopub.status.idle": "2021-10-24T19:00:09.005958Z",
     "shell.execute_reply": "2021-10-24T19:00:09.007297Z"
    },
    "papermill": {
     "duration": 0.068357,
     "end_time": "2021-10-24T19:00:09.007715",
     "exception": false,
     "start_time": "2021-10-24T19:00:08.939358",
     "status": "completed"
    },
    "tags": []
   },
   "outputs": [
    {
     "data": {
      "text/html": [
       "<div>\n",
       "<style scoped>\n",
       "    .dataframe tbody tr th:only-of-type {\n",
       "        vertical-align: middle;\n",
       "    }\n",
       "\n",
       "    .dataframe tbody tr th {\n",
       "        vertical-align: top;\n",
       "    }\n",
       "\n",
       "    .dataframe thead th {\n",
       "        text-align: right;\n",
       "    }\n",
       "</style>\n",
       "<table border=\"1\" class=\"dataframe\">\n",
       "  <thead>\n",
       "    <tr style=\"text-align: right;\">\n",
       "      <th></th>\n",
       "      <th>RECORD_TIME</th>\n",
       "    </tr>\n",
       "  </thead>\n",
       "  <tbody>\n",
       "    <tr>\n",
       "      <th>0</th>\n",
       "      <td>2021-10-24 21:00</td>\n",
       "    </tr>\n",
       "    <tr>\n",
       "      <th>1</th>\n",
       "      <td>2021-10-24 20:30</td>\n",
       "    </tr>\n",
       "  </tbody>\n",
       "</table>\n",
       "</div>"
      ],
      "text/plain": [
       "        RECORD_TIME\n",
       "0  2021-10-24 21:00\n",
       "1  2021-10-24 20:30"
      ]
     },
     "execution_count": 3,
     "metadata": {},
     "output_type": "execute_result"
    }
   ],
   "source": [
    "timestamps"
   ]
  },
  {
   "cell_type": "code",
   "execution_count": 4,
   "id": "alternate-victory",
   "metadata": {
    "execution": {
     "iopub.execute_input": "2021-10-24T19:00:09.059249Z",
     "iopub.status.busy": "2021-10-24T19:00:09.057111Z",
     "iopub.status.idle": "2021-10-24T19:00:09.977548Z",
     "shell.execute_reply": "2021-10-24T19:00:09.978765Z"
    },
    "papermill": {
     "duration": 0.950598,
     "end_time": "2021-10-24T19:00:09.979166",
     "exception": false,
     "start_time": "2021-10-24T19:00:09.028568",
     "status": "completed"
    },
    "tags": []
   },
   "outputs": [],
   "source": [
    "df = pd.read_sql(\"select * from EBAY_TOP_BERLIN where record_time in (select distinct record_time from EBAY_TOP_BERLIN order by record_time desc limit 2)\", sqlite3.connect(\"UsedObjects.db\"))"
   ]
  },
  {
   "cell_type": "code",
   "execution_count": 5,
   "id": "popular-active",
   "metadata": {
    "execution": {
     "iopub.execute_input": "2021-10-24T19:00:10.050015Z",
     "iopub.status.busy": "2021-10-24T19:00:10.038183Z",
     "iopub.status.idle": "2021-10-24T19:00:10.065825Z",
     "shell.execute_reply": "2021-10-24T19:00:10.067111Z"
    },
    "papermill": {
     "duration": 0.06795,
     "end_time": "2021-10-24T19:00:10.067531",
     "exception": false,
     "start_time": "2021-10-24T19:00:09.999581",
     "status": "completed"
    },
    "tags": []
   },
   "outputs": [],
   "source": [
    "df_pivot = df.pivot_table(index=\"PRODUCT\", columns = \"RECORD_TIME\", values = \"LISTING_COUNT\")"
   ]
  },
  {
   "cell_type": "code",
   "execution_count": 6,
   "id": "union-huntington",
   "metadata": {
    "execution": {
     "iopub.execute_input": "2021-10-24T19:00:10.125043Z",
     "iopub.status.busy": "2021-10-24T19:00:10.122842Z",
     "iopub.status.idle": "2021-10-24T19:00:10.128363Z",
     "shell.execute_reply": "2021-10-24T19:00:10.129881Z"
    },
    "papermill": {
     "duration": 0.040973,
     "end_time": "2021-10-24T19:00:10.130373",
     "exception": false,
     "start_time": "2021-10-24T19:00:10.089400",
     "status": "completed"
    },
    "tags": []
   },
   "outputs": [],
   "source": [
    "df_pivot.columns = [\"stamp_1\", \"stamp_2\"]\n",
    "df_pivot_diff = df_pivot.diff(axis=1)"
   ]
  },
  {
   "cell_type": "code",
   "execution_count": 7,
   "id": "fifth-motion",
   "metadata": {
    "execution": {
     "iopub.execute_input": "2021-10-24T19:00:10.186427Z",
     "iopub.status.busy": "2021-10-24T19:00:10.183728Z",
     "iopub.status.idle": "2021-10-24T19:00:11.669394Z",
     "shell.execute_reply": "2021-10-24T19:00:11.670776Z"
    },
    "papermill": {
     "duration": 1.519392,
     "end_time": "2021-10-24T19:00:11.671223",
     "exception": false,
     "start_time": "2021-10-24T19:00:10.151831",
     "status": "completed"
    },
    "tags": []
   },
   "outputs": [
    {
     "data": {
      "text/plain": [
       "<AxesSubplot:ylabel='PRODUCT'>"
      ]
     },
     "execution_count": 7,
     "metadata": {},
     "output_type": "execute_result"
    },
    {
     "data": {
      "image/png": "[encoded data removed]",
      "text/plain": [
       "<Figure size 432x288 with 1 Axes>"
      ]
     },
     "metadata": {
      "needs_background": "light"
     },
     "output_type": "display_data"
    }
   ],
   "source": [
    "df_pivot_diff.sort_values(\"stamp_2\", ascending = False)[\"stamp_2\"].head(10).plot.barh()"
   ]
  },
  {
   "cell_type": "code",
   "execution_count": null,
   "id": "extra-executive",
   "metadata": {
    "papermill": {
     "duration": 0.022001,
     "end_time": "2021-10-24T19:00:11.717576",
     "exception": false,
     "start_time": "2021-10-24T19:00:11.695575",
     "status": "completed"
    },
    "tags": []
   },
   "outputs": [],
   "source": []
  }
 ],
 "metadata": {
  "kernelspec": {
   "display_name": "Python 3",
   "language": "python",
   "name": "python3"
  },
  "language_info": {
   "codemirror_mode": {
    "name": "ipython",
    "version": 3
   },
   "file_extension": ".py",
   "mimetype": "text/x-python",
   "name": "python",
   "nbconvert_exporter": "python",
   "pygments_lexer": "ipython3",
   "version": "3.9.5"
  },
  "papermill": {
   "default_parameters": {},
   "duration": 7.423326,
   "end_time": "2021-10-24T19:00:12.358668",
   "environment_variables": {},
   "exception": null,
   "input_path": "eBay_Overview.ipynb",
   "output_path": "eBay_Overview.ipynb",
   "parameters": {},
   "start_time": "2021-10-24T19:00:04.935342",
   "version": "2.3.3"
  }
 },
 "nbformat": 4,
 "nbformat_minor": 5
}