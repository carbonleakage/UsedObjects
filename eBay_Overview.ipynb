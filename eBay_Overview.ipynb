{
 "cells": [
  {
   "cell_type": "code",
   "execution_count": 1,
   "id": "reverse-picking",
   "metadata": {
    "execution": {
     "iopub.execute_input": "2021-09-05T14:30:07.608959Z",
     "iopub.status.busy": "2021-09-05T14:30:07.606986Z",
     "iopub.status.idle": "2021-09-05T14:30:08.411163Z",
     "shell.execute_reply": "2021-09-05T14:30:08.412517Z"
    },
    "papermill": {
     "duration": 0.85814,
     "end_time": "2021-09-05T14:30:08.413161",
     "exception": false,
     "start_time": "2021-09-05T14:30:07.555021",
     "status": "completed"
    },
    "tags": []
   },
   "outputs": [],
   "source": [
    "import pandas as pd\n",
    "import sqlite3"
   ]
  },
  {
   "cell_type": "code",
   "execution_count": 2,
   "id": "innovative-syndrome",
   "metadata": {
    "execution": {
     "iopub.execute_input": "2021-09-05T14:30:08.463941Z",
     "iopub.status.busy": "2021-09-05T14:30:08.461924Z",
     "iopub.status.idle": "2021-09-05T14:30:08.679552Z",
     "shell.execute_reply": "2021-09-05T14:30:08.680986Z"
    },
    "papermill": {
     "duration": 0.248014,
     "end_time": "2021-09-05T14:30:08.681428",
     "exception": false,
     "start_time": "2021-09-05T14:30:08.433414",
     "status": "completed"
    },
    "tags": []
   },
   "outputs": [],
   "source": [
    "timestamps = pd.read_sql(\"select distinct record_time from EBAY_TOP_BERLIN order by record_time desc limit 2\", sqlite3.connect(\"UsedObjects.db\"))"
   ]
  },
  {
   "cell_type": "code",
   "execution_count": 3,
   "id": "periodic-identification",
   "metadata": {
    "execution": {
     "iopub.execute_input": "2021-09-05T14:30:08.747819Z",
     "iopub.status.busy": "2021-09-05T14:30:08.745738Z",
     "iopub.status.idle": "2021-09-05T14:30:08.765978Z",
     "shell.execute_reply": "2021-09-05T14:30:08.767407Z"
    },
    "papermill": {
     "duration": 0.06662,
     "end_time": "2021-09-05T14:30:08.767860",
     "exception": false,
     "start_time": "2021-09-05T14:30:08.701240",
     "status": "completed"
    },
    "tags": []
   },
   "outputs": [
    {
     "data": {
      "text/html": [
       "<div>\n",
       "<style scoped>\n",
       "    .dataframe tbody tr th:only-of-type {\n",
       "        vertical-align: middle;\n",
       "    }\n",
       "\n",
       "    .dataframe tbody tr th {\n",
       "        vertical-align: top;\n",
       "    }\n",
       "\n",
       "    .dataframe thead th {\n",
       "        text-align: right;\n",
       "    }\n",
       "</style>\n",
       "<table border=\"1\" class=\"dataframe\">\n",
       "  <thead>\n",
       "    <tr style=\"text-align: right;\">\n",
       "      <th></th>\n",
       "      <th>RECORD_TIME</th>\n",
       "    </tr>\n",
       "  </thead>\n",
       "  <tbody>\n",
       "    <tr>\n",
       "      <th>0</th>\n",
       "      <td>2021-09-05 16:30</td>\n",
       "    </tr>\n",
       "    <tr>\n",
       "      <th>1</th>\n",
       "      <td>2021-09-05 16:00</td>\n",
       "    </tr>\n",
       "  </tbody>\n",
       "</table>\n",
       "</div>"
      ],
      "text/plain": [
       "        RECORD_TIME\n",
       "0  2021-09-05 16:30\n",
       "1  2021-09-05 16:00"
      ]
     },
     "execution_count": 3,
     "metadata": {},
     "output_type": "execute_result"
    }
   ],
   "source": [
    "timestamps"
   ]
  },
  {
   "cell_type": "code",
   "execution_count": 4,
   "id": "alternate-victory",
   "metadata": {
    "execution": {
     "iopub.execute_input": "2021-09-05T14:30:08.818812Z",
     "iopub.status.busy": "2021-09-05T14:30:08.816990Z",
     "iopub.status.idle": "2021-09-05T14:30:09.160998Z",
     "shell.execute_reply": "2021-09-05T14:30:09.162264Z"
    },
    "papermill": {
     "duration": 0.373825,
     "end_time": "2021-09-05T14:30:09.162684",
     "exception": false,
     "start_time": "2021-09-05T14:30:08.788859",
     "status": "completed"
    },
    "tags": []
   },
   "outputs": [],
   "source": [
    "df = pd.read_sql(\"select * from EBAY_TOP_BERLIN where record_time in (select distinct record_time from EBAY_TOP_BERLIN order by record_time desc limit 2)\", sqlite3.connect(\"UsedObjects.db\"))"
   ]
  },
  {
   "cell_type": "code",
   "execution_count": 5,
   "id": "popular-active",
   "metadata": {
    "execution": {
     "iopub.execute_input": "2021-09-05T14:30:09.243675Z",
     "iopub.status.busy": "2021-09-05T14:30:09.230936Z",
     "iopub.status.idle": "2021-09-05T14:30:09.259118Z",
     "shell.execute_reply": "2021-09-05T14:30:09.260352Z"
    },
    "papermill": {
     "duration": 0.072149,
     "end_time": "2021-09-05T14:30:09.260747",
     "exception": false,
     "start_time": "2021-09-05T14:30:09.188598",
     "status": "completed"
    },
    "tags": []
   },
   "outputs": [],
   "source": [
    "df_pivot = df.pivot_table(index=\"PRODUCT\", columns = \"RECORD_TIME\", values = \"LISTING_COUNT\")"
   ]
  },
  {
   "cell_type": "code",
   "execution_count": 6,
   "id": "union-huntington",
   "metadata": {
    "execution": {
     "iopub.execute_input": "2021-09-05T14:30:09.318342Z",
     "iopub.status.busy": "2021-09-05T14:30:09.316072Z",
     "iopub.status.idle": "2021-09-05T14:30:09.321962Z",
     "shell.execute_reply": "2021-09-05T14:30:09.323239Z"
    },
    "papermill": {
     "duration": 0.04154,
     "end_time": "2021-09-05T14:30:09.323685",
     "exception": false,
     "start_time": "2021-09-05T14:30:09.282145",
     "status": "completed"
    },
    "tags": []
   },
   "outputs": [],
   "source": [
    "df_pivot.columns = [\"stamp_1\", \"stamp_2\"]\n",
    "df_pivot_diff = df_pivot.diff(axis=1)"
   ]
  },
  {
   "cell_type": "code",
   "execution_count": 7,
   "id": "fifth-motion",
   "metadata": {
    "execution": {
     "iopub.execute_input": "2021-09-05T14:30:09.377260Z",
     "iopub.status.busy": "2021-09-05T14:30:09.374979Z",
     "iopub.status.idle": "2021-09-05T14:30:10.871162Z",
     "shell.execute_reply": "2021-09-05T14:30:10.872351Z"
    },
    "papermill": {
     "duration": 1.529122,
     "end_time": "2021-09-05T14:30:10.872788",
     "exception": false,
     "start_time": "2021-09-05T14:30:09.343666",
     "status": "completed"
    },
    "tags": []
   },
   "outputs": [
    {
     "data": {
      "text/plain": [
       "<AxesSubplot:ylabel='PRODUCT'>"
      ]
     },
     "execution_count": 7,
     "metadata": {},
     "output_type": "execute_result"
    },
    {
     "data": {
      "image/png": "[encoded data removed]",
      "text/plain": [
       "<Figure size 432x288 with 1 Axes>"
      ]
     },
     "metadata": {
      "needs_background": "light"
     },
     "output_type": "display_data"
    }
   ],
   "source": [
    "df_pivot_diff.sort_values(\"stamp_2\", ascending = False)[\"stamp_2\"].head(10).plot.barh()"
   ]
  },
  {
   "cell_type": "code",
   "execution_count": null,
   "id": "extra-executive",
   "metadata": {
    "papermill": {
     "duration": 0.021988,
     "end_time": "2021-09-05T14:30:10.920947",
     "exception": false,
     "start_time": "2021-09-05T14:30:10.898959",
     "status": "completed"
    },
    "tags": []
   },
   "outputs": [],
   "source": []
  }
 ],
 "metadata": {
  "kernelspec": {
   "display_name": "Python 3",
   "language": "python",
   "name": "python3"
  },
  "language_info": {
   "codemirror_mode": {
    "name": "ipython",
    "version": 3
   },
   "file_extension": ".py",
   "mimetype": "text/x-python",
   "name": "python",
   "nbconvert_exporter": "python",
   "pygments_lexer": "ipython3",
   "version": "3.9.5"
  },
  "papermill": {
   "default_parameters": {},
   "duration": 6.411833,
   "end_time": "2021-09-05T14:30:11.560942",
   "environment_variables": {},
   "exception": null,
   "input_path": "eBay_Overview.ipynb",
   "output_path": "eBay_Overview.ipynb",
   "parameters": {},
   "start_time": "2021-09-05T14:30:05.149109",
   "version": "2.3.3"
  }
 },
 "nbformat": 4,
 "nbformat_minor": 5
}