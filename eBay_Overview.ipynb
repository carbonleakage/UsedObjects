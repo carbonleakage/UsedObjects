{
 "cells": [
  {
   "cell_type": "code",
   "execution_count": 1,
   "id": "reverse-picking",
   "metadata": {
    "execution": {
     "iopub.execute_input": "2021-11-30T16:30:08.508006Z",
     "iopub.status.busy": "2021-11-30T16:30:08.505755Z",
     "iopub.status.idle": "2021-11-30T16:30:09.461545Z",
     "shell.execute_reply": "2021-11-30T16:30:09.462841Z"
    },
    "papermill": {
     "duration": 1.004971,
     "end_time": "2021-11-30T16:30:09.463506",
     "exception": false,
     "start_time": "2021-11-30T16:30:08.458535",
     "status": "completed"
    },
    "tags": []
   },
   "outputs": [],
   "source": [
    "import pandas as pd\n",
    "import sqlite3"
   ]
  },
  {
   "cell_type": "code",
   "execution_count": 2,
   "id": "innovative-syndrome",
   "metadata": {
    "execution": {
     "iopub.execute_input": "2021-11-30T16:30:09.521830Z",
     "iopub.status.busy": "2021-11-30T16:30:09.519519Z",
     "iopub.status.idle": "2021-11-30T16:30:10.474855Z",
     "shell.execute_reply": "2021-11-30T16:30:10.476074Z"
    },
    "papermill": {
     "duration": 0.987706,
     "end_time": "2021-11-30T16:30:10.476477",
     "exception": false,
     "start_time": "2021-11-30T16:30:09.488771",
     "status": "completed"
    },
    "tags": []
   },
   "outputs": [],
   "source": [
    "timestamps = pd.read_sql(\"select distinct record_time from EBAY_TOP_BERLIN order by record_time desc limit 2\", sqlite3.connect(\"UsedObjects.db\"))"
   ]
  },
  {
   "cell_type": "code",
   "execution_count": 3,
   "id": "periodic-identification",
   "metadata": {
    "execution": {
     "iopub.execute_input": "2021-11-30T16:30:10.550596Z",
     "iopub.status.busy": "2021-11-30T16:30:10.544652Z",
     "iopub.status.idle": "2021-11-30T16:30:10.567314Z",
     "shell.execute_reply": "2021-11-30T16:30:10.568868Z"
    },
    "papermill": {
     "duration": 0.072571,
     "end_time": "2021-11-30T16:30:10.569398",
     "exception": false,
     "start_time": "2021-11-30T16:30:10.496827",
     "status": "completed"
    },
    "tags": []
   },
   "outputs": [
    {
     "data": {
      "text/html": [
       "<div>\n",
       "<style scoped>\n",
       "    .dataframe tbody tr th:only-of-type {\n",
       "        vertical-align: middle;\n",
       "    }\n",
       "\n",
       "    .dataframe tbody tr th {\n",
       "        vertical-align: top;\n",
       "    }\n",
       "\n",
       "    .dataframe thead th {\n",
       "        text-align: right;\n",
       "    }\n",
       "</style>\n",
       "<table border=\"1\" class=\"dataframe\">\n",
       "  <thead>\n",
       "    <tr style=\"text-align: right;\">\n",
       "      <th></th>\n",
       "      <th>RECORD_TIME</th>\n",
       "    </tr>\n",
       "  </thead>\n",
       "  <tbody>\n",
       "    <tr>\n",
       "      <th>0</th>\n",
       "      <td>2021-11-30 17:30</td>\n",
       "    </tr>\n",
       "    <tr>\n",
       "      <th>1</th>\n",
       "      <td>2021-11-30 17:00</td>\n",
       "    </tr>\n",
       "  </tbody>\n",
       "</table>\n",
       "</div>"
      ],
      "text/plain": [
       "        RECORD_TIME\n",
       "0  2021-11-30 17:30\n",
       "1  2021-11-30 17:00"
      ]
     },
     "execution_count": 3,
     "metadata": {},
     "output_type": "execute_result"
    }
   ],
   "source": [
    "timestamps"
   ]
  },
  {
   "cell_type": "code",
   "execution_count": 4,
   "id": "alternate-victory",
   "metadata": {
    "execution": {
     "iopub.execute_input": "2021-11-30T16:30:10.635488Z",
     "iopub.status.busy": "2021-11-30T16:30:10.622636Z",
     "iopub.status.idle": "2021-11-30T16:30:12.032828Z",
     "shell.execute_reply": "2021-11-30T16:30:12.034317Z"
    },
    "papermill": {
     "duration": 1.444086,
     "end_time": "2021-11-30T16:30:12.034783",
     "exception": false,
     "start_time": "2021-11-30T16:30:10.590697",
     "status": "completed"
    },
    "tags": []
   },
   "outputs": [],
   "source": [
    "df = pd.read_sql(\"select * from EBAY_TOP_BERLIN where record_time in (select distinct record_time from EBAY_TOP_BERLIN order by record_time desc limit 2)\", sqlite3.connect(\"UsedObjects.db\"))"
   ]
  },
  {
   "cell_type": "code",
   "execution_count": 5,
   "id": "popular-active",
   "metadata": {
    "execution": {
     "iopub.execute_input": "2021-11-30T16:30:12.109636Z",
     "iopub.status.busy": "2021-11-30T16:30:12.096664Z",
     "iopub.status.idle": "2021-11-30T16:30:12.127176Z",
     "shell.execute_reply": "2021-11-30T16:30:12.128531Z"
    },
    "papermill": {
     "duration": 0.07339,
     "end_time": "2021-11-30T16:30:12.129061",
     "exception": false,
     "start_time": "2021-11-30T16:30:12.055671",
     "status": "completed"
    },
    "tags": []
   },
   "outputs": [],
   "source": [
    "df_pivot = df.pivot_table(index=\"PRODUCT\", columns = \"RECORD_TIME\", values = \"LISTING_COUNT\")"
   ]
  },
  {
   "cell_type": "code",
   "execution_count": 6,
   "id": "union-huntington",
   "metadata": {
    "execution": {
     "iopub.execute_input": "2021-11-30T16:30:12.190588Z",
     "iopub.status.busy": "2021-11-30T16:30:12.188031Z",
     "iopub.status.idle": "2021-11-30T16:30:12.195626Z",
     "shell.execute_reply": "2021-11-30T16:30:12.197156Z"
    },
    "papermill": {
     "duration": 0.048011,
     "end_time": "2021-11-30T16:30:12.197644",
     "exception": false,
     "start_time": "2021-11-30T16:30:12.149633",
     "status": "completed"
    },
    "tags": []
   },
   "outputs": [],
   "source": [
    "df_pivot.columns = [\"stamp_1\", \"stamp_2\"]\n",
    "df_pivot_diff = df_pivot.diff(axis=1)"
   ]
  },
  {
   "cell_type": "code",
   "execution_count": 7,
   "id": "fifth-motion",
   "metadata": {
    "execution": {
     "iopub.execute_input": "2021-11-30T16:30:12.254919Z",
     "iopub.status.busy": "2021-11-30T16:30:12.252420Z",
     "iopub.status.idle": "2021-11-30T16:30:14.181234Z",
     "shell.execute_reply": "2021-11-30T16:30:14.182702Z"
    },
    "papermill": {
     "duration": 1.963702,
     "end_time": "2021-11-30T16:30:14.183172",
     "exception": false,
     "start_time": "2021-11-30T16:30:12.219470",
     "status": "completed"
    },
    "tags": []
   },
   "outputs": [
    {
     "data": {
      "text/plain": [
       "<AxesSubplot:ylabel='PRODUCT'>"
      ]
     },
     "execution_count": 7,
     "metadata": {},
     "output_type": "execute_result"
    },
    {
     "data": {
      "image/png": "[encoded data removed]",
      "text/plain": [
       "<Figure size 432x288 with 1 Axes>"
      ]
     },
     "metadata": {
      "needs_background": "light"
     },
     "output_type": "display_data"
    }
   ],
   "source": [
    "df_pivot_diff.sort_values(\"stamp_2\", ascending = False)[\"stamp_2\"].head(10).plot.barh()"
   ]
  },
  {
   "cell_type": "code",
   "execution_count": null,
   "id": "extra-executive",
   "metadata": {
    "papermill": {
     "duration": 0.021944,
     "end_time": "2021-11-30T16:30:14.229903",
     "exception": false,
     "start_time": "2021-11-30T16:30:14.207959",
     "status": "completed"
    },
    "tags": []
   },
   "outputs": [],
   "source": []
  }
 ],
 "metadata": {
  "kernelspec": {
   "display_name": "Python 3",
   "language": "python",
   "name": "python3"
  },
  "language_info": {
   "codemirror_mode": {
    "name": "ipython",
    "version": 3
   },
   "file_extension": ".py",
   "mimetype": "text/x-python",
   "name": "python",
   "nbconvert_exporter": "python",
   "pygments_lexer": "ipython3",
   "version": "3.9.5"
  },
  "papermill": {
   "default_parameters": {},
   "duration": 9.928349,
   "end_time": "2021-11-30T16:30:15.667346",
   "environment_variables": {},
   "exception": null,
   "input_path": "eBay_Overview.ipynb",
   "output_path": "eBay_Overview.ipynb",
   "parameters": {},
   "start_time": "2021-11-30T16:30:05.738997",
   "version": "2.3.3"
  }
 },
 "nbformat": 4,
 "nbformat_minor": 5
}