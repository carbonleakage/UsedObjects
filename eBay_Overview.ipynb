{
 "cells": [
  {
   "cell_type": "code",
   "execution_count": 1,
   "id": "reverse-picking",
   "metadata": {
    "execution": {
     "iopub.execute_input": "2021-12-06T13:30:08.025364Z",
     "iopub.status.busy": "2021-12-06T13:30:08.023019Z",
     "iopub.status.idle": "2021-12-06T13:30:09.005523Z",
     "shell.execute_reply": "2021-12-06T13:30:09.006978Z"
    },
    "papermill": {
     "duration": 1.030863,
     "end_time": "2021-12-06T13:30:09.007713",
     "exception": false,
     "start_time": "2021-12-06T13:30:07.976850",
     "status": "completed"
    },
    "tags": []
   },
   "outputs": [],
   "source": [
    "import pandas as pd\n",
    "import sqlite3"
   ]
  },
  {
   "cell_type": "code",
   "execution_count": 2,
   "id": "innovative-syndrome",
   "metadata": {
    "execution": {
     "iopub.execute_input": "2021-12-06T13:30:09.063599Z",
     "iopub.status.busy": "2021-12-06T13:30:09.061364Z",
     "iopub.status.idle": "2021-12-06T13:30:10.086530Z",
     "shell.execute_reply": "2021-12-06T13:30:10.088119Z"
    },
    "papermill": {
     "duration": 1.059713,
     "end_time": "2021-12-06T13:30:10.088632",
     "exception": false,
     "start_time": "2021-12-06T13:30:09.028919",
     "status": "completed"
    },
    "tags": []
   },
   "outputs": [],
   "source": [
    "timestamps = pd.read_sql(\"select distinct record_time from EBAY_TOP_BERLIN order by record_time desc limit 2\", sqlite3.connect(\"UsedObjects.db\"))"
   ]
  },
  {
   "cell_type": "code",
   "execution_count": 3,
   "id": "periodic-identification",
   "metadata": {
    "execution": {
     "iopub.execute_input": "2021-12-06T13:30:10.142651Z",
     "iopub.status.busy": "2021-12-06T13:30:10.140468Z",
     "iopub.status.idle": "2021-12-06T13:30:10.196051Z",
     "shell.execute_reply": "2021-12-06T13:30:10.197681Z"
    },
    "papermill": {
     "duration": 0.089153,
     "end_time": "2021-12-06T13:30:10.198188",
     "exception": false,
     "start_time": "2021-12-06T13:30:10.109035",
     "status": "completed"
    },
    "tags": []
   },
   "outputs": [
    {
     "data": {
      "text/html": [
       "<div>\n",
       "<style scoped>\n",
       "    .dataframe tbody tr th:only-of-type {\n",
       "        vertical-align: middle;\n",
       "    }\n",
       "\n",
       "    .dataframe tbody tr th {\n",
       "        vertical-align: top;\n",
       "    }\n",
       "\n",
       "    .dataframe thead th {\n",
       "        text-align: right;\n",
       "    }\n",
       "</style>\n",
       "<table border=\"1\" class=\"dataframe\">\n",
       "  <thead>\n",
       "    <tr style=\"text-align: right;\">\n",
       "      <th></th>\n",
       "      <th>RECORD_TIME</th>\n",
       "    </tr>\n",
       "  </thead>\n",
       "  <tbody>\n",
       "    <tr>\n",
       "      <th>0</th>\n",
       "      <td>2021-12-06 14:30</td>\n",
       "    </tr>\n",
       "    <tr>\n",
       "      <th>1</th>\n",
       "      <td>2021-12-06 14:00</td>\n",
       "    </tr>\n",
       "  </tbody>\n",
       "</table>\n",
       "</div>"
      ],
      "text/plain": [
       "        RECORD_TIME\n",
       "0  2021-12-06 14:30\n",
       "1  2021-12-06 14:00"
      ]
     },
     "execution_count": 3,
     "metadata": {},
     "output_type": "execute_result"
    }
   ],
   "source": [
    "timestamps"
   ]
  },
  {
   "cell_type": "code",
   "execution_count": 4,
   "id": "alternate-victory",
   "metadata": {
    "execution": {
     "iopub.execute_input": "2021-12-06T13:30:10.254244Z",
     "iopub.status.busy": "2021-12-06T13:30:10.251943Z",
     "iopub.status.idle": "2021-12-06T13:30:11.705205Z",
     "shell.execute_reply": "2021-12-06T13:30:11.706556Z"
    },
    "papermill": {
     "duration": 1.487019,
     "end_time": "2021-12-06T13:30:11.707027",
     "exception": false,
     "start_time": "2021-12-06T13:30:10.220008",
     "status": "completed"
    },
    "tags": []
   },
   "outputs": [],
   "source": [
    "df = pd.read_sql(\"select * from EBAY_TOP_BERLIN where record_time in (select distinct record_time from EBAY_TOP_BERLIN order by record_time desc limit 2)\", sqlite3.connect(\"UsedObjects.db\"))"
   ]
  },
  {
   "cell_type": "code",
   "execution_count": 5,
   "id": "popular-active",
   "metadata": {
    "execution": {
     "iopub.execute_input": "2021-12-06T13:30:11.775252Z",
     "iopub.status.busy": "2021-12-06T13:30:11.772952Z",
     "iopub.status.idle": "2021-12-06T13:30:11.803308Z",
     "shell.execute_reply": "2021-12-06T13:30:11.804605Z"
    },
    "papermill": {
     "duration": 0.075982,
     "end_time": "2021-12-06T13:30:11.805163",
     "exception": false,
     "start_time": "2021-12-06T13:30:11.729181",
     "status": "completed"
    },
    "tags": []
   },
   "outputs": [],
   "source": [
    "df_pivot = df.pivot_table(index=\"PRODUCT\", columns = \"RECORD_TIME\", values = \"LISTING_COUNT\")"
   ]
  },
  {
   "cell_type": "code",
   "execution_count": 6,
   "id": "union-huntington",
   "metadata": {
    "execution": {
     "iopub.execute_input": "2021-12-06T13:30:11.863657Z",
     "iopub.status.busy": "2021-12-06T13:30:11.861532Z",
     "iopub.status.idle": "2021-12-06T13:30:11.866629Z",
     "shell.execute_reply": "2021-12-06T13:30:11.868530Z"
    },
    "papermill": {
     "duration": 0.043628,
     "end_time": "2021-12-06T13:30:11.869081",
     "exception": false,
     "start_time": "2021-12-06T13:30:11.825453",
     "status": "completed"
    },
    "tags": []
   },
   "outputs": [],
   "source": [
    "df_pivot.columns = [\"stamp_1\", \"stamp_2\"]\n",
    "df_pivot_diff = df_pivot.diff(axis=1)"
   ]
  },
  {
   "cell_type": "code",
   "execution_count": 7,
   "id": "fifth-motion",
   "metadata": {
    "execution": {
     "iopub.execute_input": "2021-12-06T13:30:11.930209Z",
     "iopub.status.busy": "2021-12-06T13:30:11.927512Z",
     "iopub.status.idle": "2021-12-06T13:30:13.919348Z",
     "shell.execute_reply": "2021-12-06T13:30:13.920623Z"
    },
    "papermill": {
     "duration": 2.030359,
     "end_time": "2021-12-06T13:30:13.921283",
     "exception": false,
     "start_time": "2021-12-06T13:30:11.890924",
     "status": "completed"
    },
    "tags": []
   },
   "outputs": [
    {
     "data": {
      "text/plain": [
       "<AxesSubplot:ylabel='PRODUCT'>"
      ]
     },
     "execution_count": 7,
     "metadata": {},
     "output_type": "execute_result"
    },
    {
     "data": {
      "image/png": "[encoded data removed]",
      "text/plain": [
       "<Figure size 432x288 with 1 Axes>"
      ]
     },
     "metadata": {
      "needs_background": "light"
     },
     "output_type": "display_data"
    }
   ],
   "source": [
    "df_pivot_diff.sort_values(\"stamp_2\", ascending = False)[\"stamp_2\"].head(10).plot.barh()"
   ]
  },
  {
   "cell_type": "code",
   "execution_count": null,
   "id": "extra-executive",
   "metadata": {
    "papermill": {
     "duration": 0.030889,
     "end_time": "2021-12-06T13:30:13.978929",
     "exception": false,
     "start_time": "2021-12-06T13:30:13.948040",
     "status": "completed"
    },
    "tags": []
   },
   "outputs": [],
   "source": []
  }
 ],
 "metadata": {
  "kernelspec": {
   "display_name": "Python 3",
   "language": "python",
   "name": "python3"
  },
  "language_info": {
   "codemirror_mode": {
    "name": "ipython",
    "version": 3
   },
   "file_extension": ".py",
   "mimetype": "text/x-python",
   "name": "python",
   "nbconvert_exporter": "python",
   "pygments_lexer": "ipython3",
   "version": "3.9.5"
  },
  "papermill": {
   "default_parameters": {},
   "duration": 9.937054,
   "end_time": "2021-12-06T13:30:15.174880",
   "environment_variables": {},
   "exception": null,
   "input_path": "eBay_Overview.ipynb",
   "output_path": "eBay_Overview.ipynb",
   "parameters": {},
   "start_time": "2021-12-06T13:30:05.237826",
   "version": "2.3.3"
  }
 },
 "nbformat": 4,
 "nbformat_minor": 5
}