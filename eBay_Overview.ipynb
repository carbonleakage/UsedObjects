{
 "cells": [
  {
   "cell_type": "code",
   "execution_count": 1,
   "id": "reverse-picking",
   "metadata": {
    "execution": {
     "iopub.execute_input": "2021-09-14T08:30:07.256884Z",
     "iopub.status.busy": "2021-09-14T08:30:07.254969Z",
     "iopub.status.idle": "2021-09-14T08:30:08.062290Z",
     "shell.execute_reply": "2021-09-14T08:30:08.063618Z"
    },
    "papermill": {
     "duration": 0.859959,
     "end_time": "2021-09-14T08:30:08.064265",
     "exception": false,
     "start_time": "2021-09-14T08:30:07.204306",
     "status": "completed"
    },
    "tags": []
   },
   "outputs": [],
   "source": [
    "import pandas as pd\n",
    "import sqlite3"
   ]
  },
  {
   "cell_type": "code",
   "execution_count": 2,
   "id": "innovative-syndrome",
   "metadata": {
    "execution": {
     "iopub.execute_input": "2021-09-14T08:30:08.115075Z",
     "iopub.status.busy": "2021-09-14T08:30:08.113070Z",
     "iopub.status.idle": "2021-09-14T08:30:08.393256Z",
     "shell.execute_reply": "2021-09-14T08:30:08.394506Z"
    },
    "papermill": {
     "duration": 0.309762,
     "end_time": "2021-09-14T08:30:08.394974",
     "exception": false,
     "start_time": "2021-09-14T08:30:08.085212",
     "status": "completed"
    },
    "tags": []
   },
   "outputs": [],
   "source": [
    "timestamps = pd.read_sql(\"select distinct record_time from EBAY_TOP_BERLIN order by record_time desc limit 2\", sqlite3.connect(\"UsedObjects.db\"))"
   ]
  },
  {
   "cell_type": "code",
   "execution_count": 3,
   "id": "periodic-identification",
   "metadata": {
    "execution": {
     "iopub.execute_input": "2021-09-14T08:30:08.461730Z",
     "iopub.status.busy": "2021-09-14T08:30:08.459741Z",
     "iopub.status.idle": "2021-09-14T08:30:08.479875Z",
     "shell.execute_reply": "2021-09-14T08:30:08.481079Z"
    },
    "papermill": {
     "duration": 0.066965,
     "end_time": "2021-09-14T08:30:08.481510",
     "exception": false,
     "start_time": "2021-09-14T08:30:08.414545",
     "status": "completed"
    },
    "tags": []
   },
   "outputs": [
    {
     "data": {
      "text/html": [
       "<div>\n",
       "<style scoped>\n",
       "    .dataframe tbody tr th:only-of-type {\n",
       "        vertical-align: middle;\n",
       "    }\n",
       "\n",
       "    .dataframe tbody tr th {\n",
       "        vertical-align: top;\n",
       "    }\n",
       "\n",
       "    .dataframe thead th {\n",
       "        text-align: right;\n",
       "    }\n",
       "</style>\n",
       "<table border=\"1\" class=\"dataframe\">\n",
       "  <thead>\n",
       "    <tr style=\"text-align: right;\">\n",
       "      <th></th>\n",
       "      <th>RECORD_TIME</th>\n",
       "    </tr>\n",
       "  </thead>\n",
       "  <tbody>\n",
       "    <tr>\n",
       "      <th>0</th>\n",
       "      <td>2021-09-14 10:30</td>\n",
       "    </tr>\n",
       "    <tr>\n",
       "      <th>1</th>\n",
       "      <td>2021-09-14 10:00</td>\n",
       "    </tr>\n",
       "  </tbody>\n",
       "</table>\n",
       "</div>"
      ],
      "text/plain": [
       "        RECORD_TIME\n",
       "0  2021-09-14 10:30\n",
       "1  2021-09-14 10:00"
      ]
     },
     "execution_count": 3,
     "metadata": {},
     "output_type": "execute_result"
    }
   ],
   "source": [
    "timestamps"
   ]
  },
  {
   "cell_type": "code",
   "execution_count": 4,
   "id": "alternate-victory",
   "metadata": {
    "execution": {
     "iopub.execute_input": "2021-09-14T08:30:08.536161Z",
     "iopub.status.busy": "2021-09-14T08:30:08.533843Z",
     "iopub.status.idle": "2021-09-14T08:30:08.956584Z",
     "shell.execute_reply": "2021-09-14T08:30:08.957780Z"
    },
    "papermill": {
     "duration": 0.453033,
     "end_time": "2021-09-14T08:30:08.958171",
     "exception": false,
     "start_time": "2021-09-14T08:30:08.505138",
     "status": "completed"
    },
    "tags": []
   },
   "outputs": [],
   "source": [
    "df = pd.read_sql(\"select * from EBAY_TOP_BERLIN where record_time in (select distinct record_time from EBAY_TOP_BERLIN order by record_time desc limit 2)\", sqlite3.connect(\"UsedObjects.db\"))"
   ]
  },
  {
   "cell_type": "code",
   "execution_count": 5,
   "id": "popular-active",
   "metadata": {
    "execution": {
     "iopub.execute_input": "2021-09-14T08:30:09.038782Z",
     "iopub.status.busy": "2021-09-14T08:30:09.027346Z",
     "iopub.status.idle": "2021-09-14T08:30:09.054709Z",
     "shell.execute_reply": "2021-09-14T08:30:09.056179Z"
    },
    "papermill": {
     "duration": 0.070995,
     "end_time": "2021-09-14T08:30:09.056621",
     "exception": false,
     "start_time": "2021-09-14T08:30:08.985626",
     "status": "completed"
    },
    "tags": []
   },
   "outputs": [],
   "source": [
    "df_pivot = df.pivot_table(index=\"PRODUCT\", columns = \"RECORD_TIME\", values = \"LISTING_COUNT\")"
   ]
  },
  {
   "cell_type": "code",
   "execution_count": 6,
   "id": "union-huntington",
   "metadata": {
    "execution": {
     "iopub.execute_input": "2021-09-14T08:30:09.114438Z",
     "iopub.status.busy": "2021-09-14T08:30:09.112043Z",
     "iopub.status.idle": "2021-09-14T08:30:09.117864Z",
     "shell.execute_reply": "2021-09-14T08:30:09.119246Z"
    },
    "papermill": {
     "duration": 0.04247,
     "end_time": "2021-09-14T08:30:09.119702",
     "exception": false,
     "start_time": "2021-09-14T08:30:09.077232",
     "status": "completed"
    },
    "tags": []
   },
   "outputs": [],
   "source": [
    "df_pivot.columns = [\"stamp_1\", \"stamp_2\"]\n",
    "df_pivot_diff = df_pivot.diff(axis=1)"
   ]
  },
  {
   "cell_type": "code",
   "execution_count": 7,
   "id": "fifth-motion",
   "metadata": {
    "execution": {
     "iopub.execute_input": "2021-09-14T08:30:09.174163Z",
     "iopub.status.busy": "2021-09-14T08:30:09.171910Z",
     "iopub.status.idle": "2021-09-14T08:30:10.687833Z",
     "shell.execute_reply": "2021-09-14T08:30:10.689109Z"
    },
    "papermill": {
     "duration": 1.549118,
     "end_time": "2021-09-14T08:30:10.689557",
     "exception": false,
     "start_time": "2021-09-14T08:30:09.140439",
     "status": "completed"
    },
    "tags": []
   },
   "outputs": [
    {
     "data": {
      "text/plain": [
       "<AxesSubplot:ylabel='PRODUCT'>"
      ]
     },
     "execution_count": 7,
     "metadata": {},
     "output_type": "execute_result"
    },
    {
     "data": {
      "image/png": "[encoded data removed]",
      "text/plain": [
       "<Figure size 432x288 with 1 Axes>"
      ]
     },
     "metadata": {
      "needs_background": "light"
     },
     "output_type": "display_data"
    }
   ],
   "source": [
    "df_pivot_diff.sort_values(\"stamp_2\", ascending = False)[\"stamp_2\"].head(10).plot.barh()"
   ]
  },
  {
   "cell_type": "code",
   "execution_count": null,
   "id": "extra-executive",
   "metadata": {
    "papermill": {
     "duration": 0.022394,
     "end_time": "2021-09-14T08:30:10.738191",
     "exception": false,
     "start_time": "2021-09-14T08:30:10.715797",
     "status": "completed"
    },
    "tags": []
   },
   "outputs": [],
   "source": []
  }
 ],
 "metadata": {
  "kernelspec": {
   "display_name": "Python 3",
   "language": "python",
   "name": "python3"
  },
  "language_info": {
   "codemirror_mode": {
    "name": "ipython",
    "version": 3
   },
   "file_extension": ".py",
   "mimetype": "text/x-python",
   "name": "python",
   "nbconvert_exporter": "python",
   "pygments_lexer": "ipython3",
   "version": "3.9.5"
  },
  "papermill": {
   "default_parameters": {},
   "duration": 6.582314,
   "end_time": "2021-09-14T08:30:11.381642",
   "environment_variables": {},
   "exception": null,
   "input_path": "eBay_Overview.ipynb",
   "output_path": "eBay_Overview.ipynb",
   "parameters": {},
   "start_time": "2021-09-14T08:30:04.799328",
   "version": "2.3.3"
  }
 },
 "nbformat": 4,
 "nbformat_minor": 5
}