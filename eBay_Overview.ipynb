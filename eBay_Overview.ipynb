{
 "cells": [
  {
   "cell_type": "code",
   "execution_count": 1,
   "id": "reverse-picking",
   "metadata": {
    "execution": {
     "iopub.execute_input": "2021-08-19T08:00:07.491944Z",
     "iopub.status.busy": "2021-08-19T08:00:07.489916Z",
     "iopub.status.idle": "2021-08-19T08:00:08.295752Z",
     "shell.execute_reply": "2021-08-19T08:00:08.297021Z"
    },
    "papermill": {
     "duration": 0.859402,
     "end_time": "2021-08-19T08:00:08.297647",
     "exception": false,
     "start_time": "2021-08-19T08:00:07.438245",
     "status": "completed"
    },
    "tags": []
   },
   "outputs": [],
   "source": [
    "import pandas as pd\n",
    "import sqlite3"
   ]
  },
  {
   "cell_type": "code",
   "execution_count": 2,
   "id": "innovative-syndrome",
   "metadata": {
    "execution": {
     "iopub.execute_input": "2021-08-19T08:00:08.348911Z",
     "iopub.status.busy": "2021-08-19T08:00:08.347041Z",
     "iopub.status.idle": "2021-08-19T08:00:08.426702Z",
     "shell.execute_reply": "2021-08-19T08:00:08.427996Z"
    },
    "papermill": {
     "duration": 0.109373,
     "end_time": "2021-08-19T08:00:08.428412",
     "exception": false,
     "start_time": "2021-08-19T08:00:08.319039",
     "status": "completed"
    },
    "tags": []
   },
   "outputs": [],
   "source": [
    "timestamps = pd.read_sql(\"select distinct record_time from EBAY_TOP_BERLIN order by record_time desc limit 2\", sqlite3.connect(\"UsedObjects.db\"))"
   ]
  },
  {
   "cell_type": "code",
   "execution_count": 3,
   "id": "periodic-identification",
   "metadata": {
    "execution": {
     "iopub.execute_input": "2021-08-19T08:00:08.493289Z",
     "iopub.status.busy": "2021-08-19T08:00:08.491043Z",
     "iopub.status.idle": "2021-08-19T08:00:08.512803Z",
     "shell.execute_reply": "2021-08-19T08:00:08.511445Z"
    },
    "papermill": {
     "duration": 0.065582,
     "end_time": "2021-08-19T08:00:08.513139",
     "exception": false,
     "start_time": "2021-08-19T08:00:08.447557",
     "status": "completed"
    },
    "tags": []
   },
   "outputs": [
    {
     "data": {
      "text/html": [
       "<div>\n",
       "<style scoped>\n",
       "    .dataframe tbody tr th:only-of-type {\n",
       "        vertical-align: middle;\n",
       "    }\n",
       "\n",
       "    .dataframe tbody tr th {\n",
       "        vertical-align: top;\n",
       "    }\n",
       "\n",
       "    .dataframe thead th {\n",
       "        text-align: right;\n",
       "    }\n",
       "</style>\n",
       "<table border=\"1\" class=\"dataframe\">\n",
       "  <thead>\n",
       "    <tr style=\"text-align: right;\">\n",
       "      <th></th>\n",
       "      <th>RECORD_TIME</th>\n",
       "    </tr>\n",
       "  </thead>\n",
       "  <tbody>\n",
       "    <tr>\n",
       "      <th>0</th>\n",
       "      <td>2021-08-19 10:00</td>\n",
       "    </tr>\n",
       "    <tr>\n",
       "      <th>1</th>\n",
       "      <td>2021-08-19 09:30</td>\n",
       "    </tr>\n",
       "  </tbody>\n",
       "</table>\n",
       "</div>"
      ],
      "text/plain": [
       "        RECORD_TIME\n",
       "0  2021-08-19 10:00\n",
       "1  2021-08-19 09:30"
      ]
     },
     "execution_count": 3,
     "metadata": {},
     "output_type": "execute_result"
    }
   ],
   "source": [
    "timestamps"
   ]
  },
  {
   "cell_type": "code",
   "execution_count": 4,
   "id": "alternate-victory",
   "metadata": {
    "execution": {
     "iopub.execute_input": "2021-08-19T08:00:08.565709Z",
     "iopub.status.busy": "2021-08-19T08:00:08.563410Z",
     "iopub.status.idle": "2021-08-19T08:00:08.684549Z",
     "shell.execute_reply": "2021-08-19T08:00:08.685860Z"
    },
    "papermill": {
     "duration": 0.151669,
     "end_time": "2021-08-19T08:00:08.686354",
     "exception": false,
     "start_time": "2021-08-19T08:00:08.534685",
     "status": "completed"
    },
    "tags": []
   },
   "outputs": [],
   "source": [
    "df = pd.read_sql(\"select * from EBAY_TOP_BERLIN where record_time in (select distinct record_time from EBAY_TOP_BERLIN order by record_time desc limit 2)\", sqlite3.connect(\"UsedObjects.db\"))"
   ]
  },
  {
   "cell_type": "code",
   "execution_count": 5,
   "id": "popular-active",
   "metadata": {
    "execution": {
     "iopub.execute_input": "2021-08-19T08:00:08.755717Z",
     "iopub.status.busy": "2021-08-19T08:00:08.743751Z",
     "iopub.status.idle": "2021-08-19T08:00:08.772992Z",
     "shell.execute_reply": "2021-08-19T08:00:08.774383Z"
    },
    "papermill": {
     "duration": 0.068075,
     "end_time": "2021-08-19T08:00:08.774819",
     "exception": false,
     "start_time": "2021-08-19T08:00:08.706744",
     "status": "completed"
    },
    "tags": []
   },
   "outputs": [],
   "source": [
    "df_pivot = df.pivot_table(index=\"PRODUCT\", columns = \"RECORD_TIME\", values = \"LISTING_COUNT\")"
   ]
  },
  {
   "cell_type": "code",
   "execution_count": 6,
   "id": "union-huntington",
   "metadata": {
    "execution": {
     "iopub.execute_input": "2021-08-19T08:00:08.830672Z",
     "iopub.status.busy": "2021-08-19T08:00:08.828548Z",
     "iopub.status.idle": "2021-08-19T08:00:08.835318Z",
     "shell.execute_reply": "2021-08-19T08:00:08.833903Z"
    },
    "papermill": {
     "duration": 0.040893,
     "end_time": "2021-08-19T08:00:08.835694",
     "exception": false,
     "start_time": "2021-08-19T08:00:08.794801",
     "status": "completed"
    },
    "tags": []
   },
   "outputs": [],
   "source": [
    "df_pivot.columns = [\"stamp_1\", \"stamp_2\"]\n",
    "df_pivot_diff = df_pivot.diff(axis=1)"
   ]
  },
  {
   "cell_type": "code",
   "execution_count": 7,
   "id": "fifth-motion",
   "metadata": {
    "execution": {
     "iopub.execute_input": "2021-08-19T08:00:08.893361Z",
     "iopub.status.busy": "2021-08-19T08:00:08.890699Z",
     "iopub.status.idle": "2021-08-19T08:00:10.353454Z",
     "shell.execute_reply": "2021-08-19T08:00:10.354844Z"
    },
    "papermill": {
     "duration": 1.4963,
     "end_time": "2021-08-19T08:00:10.355282",
     "exception": false,
     "start_time": "2021-08-19T08:00:08.858982",
     "status": "completed"
    },
    "tags": []
   },
   "outputs": [
    {
     "data": {
      "text/plain": [
       "<AxesSubplot:ylabel='PRODUCT'>"
      ]
     },
     "execution_count": 7,
     "metadata": {},
     "output_type": "execute_result"
    },
    {
     "data": {
      "image/png": "[encoded data removed]",
      "text/plain": [
       "<Figure size 432x288 with 1 Axes>"
      ]
     },
     "metadata": {
      "needs_background": "light"
     },
     "output_type": "display_data"
    }
   ],
   "source": [
    "df_pivot_diff.sort_values(\"stamp_2\", ascending = False)[\"stamp_2\"].head(10).plot.barh()"
   ]
  },
  {
   "cell_type": "code",
   "execution_count": null,
   "id": "extra-executive",
   "metadata": {
    "papermill": {
     "duration": 0.022001,
     "end_time": "2021-08-19T08:00:10.400469",
     "exception": false,
     "start_time": "2021-08-19T08:00:10.378468",
     "status": "completed"
    },
    "tags": []
   },
   "outputs": [],
   "source": []
  }
 ],
 "metadata": {
  "kernelspec": {
   "display_name": "Python 3",
   "language": "python",
   "name": "python3"
  },
  "language_info": {
   "codemirror_mode": {
    "name": "ipython",
    "version": 3
   },
   "file_extension": ".py",
   "mimetype": "text/x-python",
   "name": "python",
   "nbconvert_exporter": "python",
   "pygments_lexer": "ipython3",
   "version": "3.9.5"
  },
  "papermill": {
   "default_parameters": {},
   "duration": 6.83277,
   "end_time": "2021-08-19T08:00:11.862139",
   "environment_variables": {},
   "exception": null,
   "input_path": "eBay_Overview.ipynb",
   "output_path": "eBay_Overview.ipynb",
   "parameters": {},
   "start_time": "2021-08-19T08:00:05.029369",
   "version": "2.3.3"
  }
 },
 "nbformat": 4,
 "nbformat_minor": 5
}