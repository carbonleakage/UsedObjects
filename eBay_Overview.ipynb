{
 "cells": [
  {
   "cell_type": "code",
   "execution_count": 1,
   "id": "reverse-picking",
   "metadata": {
    "execution": {
     "iopub.execute_input": "2021-09-09T03:30:07.061710Z",
     "iopub.status.busy": "2021-09-09T03:30:07.059767Z",
     "iopub.status.idle": "2021-09-09T03:30:07.872473Z",
     "shell.execute_reply": "2021-09-09T03:30:07.873712Z"
    },
    "papermill": {
     "duration": 0.865053,
     "end_time": "2021-09-09T03:30:07.874325",
     "exception": false,
     "start_time": "2021-09-09T03:30:07.009272",
     "status": "completed"
    },
    "tags": []
   },
   "outputs": [],
   "source": [
    "import pandas as pd\n",
    "import sqlite3"
   ]
  },
  {
   "cell_type": "code",
   "execution_count": 2,
   "id": "innovative-syndrome",
   "metadata": {
    "execution": {
     "iopub.execute_input": "2021-09-09T03:30:07.925344Z",
     "iopub.status.busy": "2021-09-09T03:30:07.923455Z",
     "iopub.status.idle": "2021-09-09T03:30:08.166384Z",
     "shell.execute_reply": "2021-09-09T03:30:08.167814Z"
    },
    "papermill": {
     "duration": 0.272922,
     "end_time": "2021-09-09T03:30:08.168236",
     "exception": false,
     "start_time": "2021-09-09T03:30:07.895314",
     "status": "completed"
    },
    "tags": []
   },
   "outputs": [],
   "source": [
    "timestamps = pd.read_sql(\"select distinct record_time from EBAY_TOP_BERLIN order by record_time desc limit 2\", sqlite3.connect(\"UsedObjects.db\"))"
   ]
  },
  {
   "cell_type": "code",
   "execution_count": 3,
   "id": "periodic-identification",
   "metadata": {
    "execution": {
     "iopub.execute_input": "2021-09-09T03:30:08.236081Z",
     "iopub.status.busy": "2021-09-09T03:30:08.233985Z",
     "iopub.status.idle": "2021-09-09T03:30:08.256417Z",
     "shell.execute_reply": "2021-09-09T03:30:08.254918Z"
    },
    "papermill": {
     "duration": 0.067699,
     "end_time": "2021-09-09T03:30:08.256780",
     "exception": false,
     "start_time": "2021-09-09T03:30:08.189081",
     "status": "completed"
    },
    "tags": []
   },
   "outputs": [
    {
     "data": {
      "text/html": [
       "<div>\n",
       "<style scoped>\n",
       "    .dataframe tbody tr th:only-of-type {\n",
       "        vertical-align: middle;\n",
       "    }\n",
       "\n",
       "    .dataframe tbody tr th {\n",
       "        vertical-align: top;\n",
       "    }\n",
       "\n",
       "    .dataframe thead th {\n",
       "        text-align: right;\n",
       "    }\n",
       "</style>\n",
       "<table border=\"1\" class=\"dataframe\">\n",
       "  <thead>\n",
       "    <tr style=\"text-align: right;\">\n",
       "      <th></th>\n",
       "      <th>RECORD_TIME</th>\n",
       "    </tr>\n",
       "  </thead>\n",
       "  <tbody>\n",
       "    <tr>\n",
       "      <th>0</th>\n",
       "      <td>2021-09-09 05:30</td>\n",
       "    </tr>\n",
       "    <tr>\n",
       "      <th>1</th>\n",
       "      <td>2021-09-09 05:00</td>\n",
       "    </tr>\n",
       "  </tbody>\n",
       "</table>\n",
       "</div>"
      ],
      "text/plain": [
       "        RECORD_TIME\n",
       "0  2021-09-09 05:30\n",
       "1  2021-09-09 05:00"
      ]
     },
     "execution_count": 3,
     "metadata": {},
     "output_type": "execute_result"
    }
   ],
   "source": [
    "timestamps"
   ]
  },
  {
   "cell_type": "code",
   "execution_count": 4,
   "id": "alternate-victory",
   "metadata": {
    "execution": {
     "iopub.execute_input": "2021-09-09T03:30:08.307944Z",
     "iopub.status.busy": "2021-09-09T03:30:08.305997Z",
     "iopub.status.idle": "2021-09-09T03:30:08.668854Z",
     "shell.execute_reply": "2021-09-09T03:30:08.670209Z"
    },
    "papermill": {
     "duration": 0.392831,
     "end_time": "2021-09-09T03:30:08.670648",
     "exception": false,
     "start_time": "2021-09-09T03:30:08.277817",
     "status": "completed"
    },
    "tags": []
   },
   "outputs": [],
   "source": [
    "df = pd.read_sql(\"select * from EBAY_TOP_BERLIN where record_time in (select distinct record_time from EBAY_TOP_BERLIN order by record_time desc limit 2)\", sqlite3.connect(\"UsedObjects.db\"))"
   ]
  },
  {
   "cell_type": "code",
   "execution_count": 5,
   "id": "popular-active",
   "metadata": {
    "execution": {
     "iopub.execute_input": "2021-09-09T03:30:08.752547Z",
     "iopub.status.busy": "2021-09-09T03:30:08.740949Z",
     "iopub.status.idle": "2021-09-09T03:30:08.768094Z",
     "shell.execute_reply": "2021-09-09T03:30:08.769367Z"
    },
    "papermill": {
     "duration": 0.072841,
     "end_time": "2021-09-09T03:30:08.769766",
     "exception": false,
     "start_time": "2021-09-09T03:30:08.696925",
     "status": "completed"
    },
    "tags": []
   },
   "outputs": [],
   "source": [
    "df_pivot = df.pivot_table(index=\"PRODUCT\", columns = \"RECORD_TIME\", values = \"LISTING_COUNT\")"
   ]
  },
  {
   "cell_type": "code",
   "execution_count": 6,
   "id": "union-huntington",
   "metadata": {
    "execution": {
     "iopub.execute_input": "2021-09-09T03:30:08.826375Z",
     "iopub.status.busy": "2021-09-09T03:30:08.824096Z",
     "iopub.status.idle": "2021-09-09T03:30:08.831305Z",
     "shell.execute_reply": "2021-09-09T03:30:08.829837Z"
    },
    "papermill": {
     "duration": 0.041904,
     "end_time": "2021-09-09T03:30:08.831681",
     "exception": false,
     "start_time": "2021-09-09T03:30:08.789777",
     "status": "completed"
    },
    "tags": []
   },
   "outputs": [],
   "source": [
    "df_pivot.columns = [\"stamp_1\", \"stamp_2\"]\n",
    "df_pivot_diff = df_pivot.diff(axis=1)"
   ]
  },
  {
   "cell_type": "code",
   "execution_count": 7,
   "id": "fifth-motion",
   "metadata": {
    "execution": {
     "iopub.execute_input": "2021-09-09T03:30:08.885563Z",
     "iopub.status.busy": "2021-09-09T03:30:08.883261Z",
     "iopub.status.idle": "2021-09-09T03:30:10.371232Z",
     "shell.execute_reply": "2021-09-09T03:30:10.372591Z"
    },
    "papermill": {
     "duration": 1.521403,
     "end_time": "2021-09-09T03:30:10.373073",
     "exception": false,
     "start_time": "2021-09-09T03:30:08.851670",
     "status": "completed"
    },
    "tags": []
   },
   "outputs": [
    {
     "data": {
      "text/plain": [
       "<AxesSubplot:ylabel='PRODUCT'>"
      ]
     },
     "execution_count": 7,
     "metadata": {},
     "output_type": "execute_result"
    },
    {
     "data": {
      "image/png": "[encoded data removed]",
      "text/plain": [
       "<Figure size 432x288 with 1 Axes>"
      ]
     },
     "metadata": {
      "needs_background": "light"
     },
     "output_type": "display_data"
    }
   ],
   "source": [
    "df_pivot_diff.sort_values(\"stamp_2\", ascending = False)[\"stamp_2\"].head(10).plot.barh()"
   ]
  },
  {
   "cell_type": "code",
   "execution_count": null,
   "id": "extra-executive",
   "metadata": {
    "papermill": {
     "duration": 0.022585,
     "end_time": "2021-09-09T03:30:10.420541",
     "exception": false,
     "start_time": "2021-09-09T03:30:10.397956",
     "status": "completed"
    },
    "tags": []
   },
   "outputs": [],
   "source": []
  }
 ],
 "metadata": {
  "kernelspec": {
   "display_name": "Python 3",
   "language": "python",
   "name": "python3"
  },
  "language_info": {
   "codemirror_mode": {
    "name": "ipython",
    "version": 3
   },
   "file_extension": ".py",
   "mimetype": "text/x-python",
   "name": "python",
   "nbconvert_exporter": "python",
   "pygments_lexer": "ipython3",
   "version": "3.9.5"
  },
  "papermill": {
   "default_parameters": {},
   "duration": 6.473349,
   "end_time": "2021-09-09T03:30:11.061552",
   "environment_variables": {},
   "exception": null,
   "input_path": "eBay_Overview.ipynb",
   "output_path": "eBay_Overview.ipynb",
   "parameters": {},
   "start_time": "2021-09-09T03:30:04.588203",
   "version": "2.3.3"
  }
 },
 "nbformat": 4,
 "nbformat_minor": 5
}