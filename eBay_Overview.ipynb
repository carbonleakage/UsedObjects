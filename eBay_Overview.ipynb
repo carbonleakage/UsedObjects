{
 "cells": [
  {
   "cell_type": "code",
   "execution_count": 1,
   "id": "reverse-picking",
   "metadata": {
    "execution": {
     "iopub.execute_input": "2021-10-06T16:30:07.153640Z",
     "iopub.status.busy": "2021-10-06T16:30:07.151702Z",
     "iopub.status.idle": "2021-10-06T16:30:07.959695Z",
     "shell.execute_reply": "2021-10-06T16:30:07.958066Z"
    },
    "papermill": {
     "duration": 0.856439,
     "end_time": "2021-10-06T16:30:07.960099",
     "exception": false,
     "start_time": "2021-10-06T16:30:07.103660",
     "status": "completed"
    },
    "tags": []
   },
   "outputs": [],
   "source": [
    "import pandas as pd\n",
    "import sqlite3"
   ]
  },
  {
   "cell_type": "code",
   "execution_count": 2,
   "id": "innovative-syndrome",
   "metadata": {
    "execution": {
     "iopub.execute_input": "2021-10-06T16:30:08.011726Z",
     "iopub.status.busy": "2021-10-06T16:30:08.009779Z",
     "iopub.status.idle": "2021-10-06T16:30:08.504708Z",
     "shell.execute_reply": "2021-10-06T16:30:08.505970Z"
    },
    "papermill": {
     "duration": 0.524141,
     "end_time": "2021-10-06T16:30:08.506385",
     "exception": false,
     "start_time": "2021-10-06T16:30:07.982244",
     "status": "completed"
    },
    "tags": []
   },
   "outputs": [],
   "source": [
    "timestamps = pd.read_sql(\"select distinct record_time from EBAY_TOP_BERLIN order by record_time desc limit 2\", sqlite3.connect(\"UsedObjects.db\"))"
   ]
  },
  {
   "cell_type": "code",
   "execution_count": 3,
   "id": "periodic-identification",
   "metadata": {
    "execution": {
     "iopub.execute_input": "2021-10-06T16:30:08.572734Z",
     "iopub.status.busy": "2021-10-06T16:30:08.570679Z",
     "iopub.status.idle": "2021-10-06T16:30:08.590641Z",
     "shell.execute_reply": "2021-10-06T16:30:08.591914Z"
    },
    "papermill": {
     "duration": 0.066512,
     "end_time": "2021-10-06T16:30:08.592346",
     "exception": false,
     "start_time": "2021-10-06T16:30:08.525834",
     "status": "completed"
    },
    "tags": []
   },
   "outputs": [
    {
     "data": {
      "text/html": [
       "<div>\n",
       "<style scoped>\n",
       "    .dataframe tbody tr th:only-of-type {\n",
       "        vertical-align: middle;\n",
       "    }\n",
       "\n",
       "    .dataframe tbody tr th {\n",
       "        vertical-align: top;\n",
       "    }\n",
       "\n",
       "    .dataframe thead th {\n",
       "        text-align: right;\n",
       "    }\n",
       "</style>\n",
       "<table border=\"1\" class=\"dataframe\">\n",
       "  <thead>\n",
       "    <tr style=\"text-align: right;\">\n",
       "      <th></th>\n",
       "      <th>RECORD_TIME</th>\n",
       "    </tr>\n",
       "  </thead>\n",
       "  <tbody>\n",
       "    <tr>\n",
       "      <th>0</th>\n",
       "      <td>2021-10-06 18:30</td>\n",
       "    </tr>\n",
       "    <tr>\n",
       "      <th>1</th>\n",
       "      <td>2021-10-06 18:00</td>\n",
       "    </tr>\n",
       "  </tbody>\n",
       "</table>\n",
       "</div>"
      ],
      "text/plain": [
       "        RECORD_TIME\n",
       "0  2021-10-06 18:30\n",
       "1  2021-10-06 18:00"
      ]
     },
     "execution_count": 3,
     "metadata": {},
     "output_type": "execute_result"
    }
   ],
   "source": [
    "timestamps"
   ]
  },
  {
   "cell_type": "code",
   "execution_count": 4,
   "id": "alternate-victory",
   "metadata": {
    "execution": {
     "iopub.execute_input": "2021-10-06T16:30:08.651686Z",
     "iopub.status.busy": "2021-10-06T16:30:08.649697Z",
     "iopub.status.idle": "2021-10-06T16:30:09.360877Z",
     "shell.execute_reply": "2021-10-06T16:30:09.362138Z"
    },
    "papermill": {
     "duration": 0.745008,
     "end_time": "2021-10-06T16:30:09.362550",
     "exception": false,
     "start_time": "2021-10-06T16:30:08.617542",
     "status": "completed"
    },
    "tags": []
   },
   "outputs": [],
   "source": [
    "df = pd.read_sql(\"select * from EBAY_TOP_BERLIN where record_time in (select distinct record_time from EBAY_TOP_BERLIN order by record_time desc limit 2)\", sqlite3.connect(\"UsedObjects.db\"))"
   ]
  },
  {
   "cell_type": "code",
   "execution_count": 5,
   "id": "popular-active",
   "metadata": {
    "execution": {
     "iopub.execute_input": "2021-10-06T16:30:09.433128Z",
     "iopub.status.busy": "2021-10-06T16:30:09.420545Z",
     "iopub.status.idle": "2021-10-06T16:30:09.448888Z",
     "shell.execute_reply": "2021-10-06T16:30:09.450091Z"
    },
    "papermill": {
     "duration": 0.06747,
     "end_time": "2021-10-06T16:30:09.450481",
     "exception": false,
     "start_time": "2021-10-06T16:30:09.383011",
     "status": "completed"
    },
    "tags": []
   },
   "outputs": [],
   "source": [
    "df_pivot = df.pivot_table(index=\"PRODUCT\", columns = \"RECORD_TIME\", values = \"LISTING_COUNT\")"
   ]
  },
  {
   "cell_type": "code",
   "execution_count": 6,
   "id": "union-huntington",
   "metadata": {
    "execution": {
     "iopub.execute_input": "2021-10-06T16:30:09.509300Z",
     "iopub.status.busy": "2021-10-06T16:30:09.506898Z",
     "iopub.status.idle": "2021-10-06T16:30:09.512809Z",
     "shell.execute_reply": "2021-10-06T16:30:09.514065Z"
    },
    "papermill": {
     "duration": 0.041904,
     "end_time": "2021-10-06T16:30:09.514478",
     "exception": false,
     "start_time": "2021-10-06T16:30:09.472574",
     "status": "completed"
    },
    "tags": []
   },
   "outputs": [],
   "source": [
    "df_pivot.columns = [\"stamp_1\", \"stamp_2\"]\n",
    "df_pivot_diff = df_pivot.diff(axis=1)"
   ]
  },
  {
   "cell_type": "code",
   "execution_count": 7,
   "id": "fifth-motion",
   "metadata": {
    "execution": {
     "iopub.execute_input": "2021-10-06T16:30:09.568666Z",
     "iopub.status.busy": "2021-10-06T16:30:09.566149Z",
     "iopub.status.idle": "2021-10-06T16:30:11.056892Z",
     "shell.execute_reply": "2021-10-06T16:30:11.058157Z"
    },
    "papermill": {
     "duration": 1.523973,
     "end_time": "2021-10-06T16:30:11.058576",
     "exception": false,
     "start_time": "2021-10-06T16:30:09.534603",
     "status": "completed"
    },
    "tags": []
   },
   "outputs": [
    {
     "data": {
      "text/plain": [
       "<AxesSubplot:ylabel='PRODUCT'>"
      ]
     },
     "execution_count": 7,
     "metadata": {},
     "output_type": "execute_result"
    },
    {
     "data": {
      "image/png": "[encoded data removed]",
      "text/plain": [
       "<Figure size 432x288 with 1 Axes>"
      ]
     },
     "metadata": {
      "needs_background": "light"
     },
     "output_type": "display_data"
    }
   ],
   "source": [
    "df_pivot_diff.sort_values(\"stamp_2\", ascending = False)[\"stamp_2\"].head(10).plot.barh()"
   ]
  },
  {
   "cell_type": "code",
   "execution_count": null,
   "id": "extra-executive",
   "metadata": {
    "papermill": {
     "duration": 0.021799,
     "end_time": "2021-10-06T16:30:11.104710",
     "exception": false,
     "start_time": "2021-10-06T16:30:11.082911",
     "status": "completed"
    },
    "tags": []
   },
   "outputs": [],
   "source": []
  }
 ],
 "metadata": {
  "kernelspec": {
   "display_name": "Python 3",
   "language": "python",
   "name": "python3"
  },
  "language_info": {
   "codemirror_mode": {
    "name": "ipython",
    "version": 3
   },
   "file_extension": ".py",
   "mimetype": "text/x-python",
   "name": "python",
   "nbconvert_exporter": "python",
   "pygments_lexer": "ipython3",
   "version": "3.9.5"
  },
  "papermill": {
   "default_parameters": {},
   "duration": 7.836691,
   "end_time": "2021-10-06T16:30:12.537832",
   "environment_variables": {},
   "exception": null,
   "input_path": "eBay_Overview.ipynb",
   "output_path": "eBay_Overview.ipynb",
   "parameters": {},
   "start_time": "2021-10-06T16:30:04.701141",
   "version": "2.3.3"
  }
 },
 "nbformat": 4,
 "nbformat_minor": 5
}