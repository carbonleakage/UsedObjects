{
 "cells": [
  {
   "cell_type": "code",
   "execution_count": 1,
   "id": "reverse-picking",
   "metadata": {
    "execution": {
     "iopub.execute_input": "2021-10-29T22:30:06.966691Z",
     "iopub.status.busy": "2021-10-29T22:30:06.964750Z",
     "iopub.status.idle": "2021-10-29T22:30:07.769865Z",
     "shell.execute_reply": "2021-10-29T22:30:07.771124Z"
    },
    "papermill": {
     "duration": 0.857541,
     "end_time": "2021-10-29T22:30:07.771736",
     "exception": false,
     "start_time": "2021-10-29T22:30:06.914195",
     "status": "completed"
    },
    "tags": []
   },
   "outputs": [],
   "source": [
    "import pandas as pd\n",
    "import sqlite3"
   ]
  },
  {
   "cell_type": "code",
   "execution_count": 2,
   "id": "innovative-syndrome",
   "metadata": {
    "execution": {
     "iopub.execute_input": "2021-10-29T22:30:07.823238Z",
     "iopub.status.busy": "2021-10-29T22:30:07.821392Z",
     "iopub.status.idle": "2021-10-29T22:30:08.478133Z",
     "shell.execute_reply": "2021-10-29T22:30:08.479319Z"
    },
    "papermill": {
     "duration": 0.686255,
     "end_time": "2021-10-29T22:30:08.479706",
     "exception": false,
     "start_time": "2021-10-29T22:30:07.793451",
     "status": "completed"
    },
    "tags": []
   },
   "outputs": [],
   "source": [
    "timestamps = pd.read_sql(\"select distinct record_time from EBAY_TOP_BERLIN order by record_time desc limit 2\", sqlite3.connect(\"UsedObjects.db\"))"
   ]
  },
  {
   "cell_type": "code",
   "execution_count": 3,
   "id": "periodic-identification",
   "metadata": {
    "execution": {
     "iopub.execute_input": "2021-10-29T22:30:08.619650Z",
     "iopub.status.busy": "2021-10-29T22:30:08.617663Z",
     "iopub.status.idle": "2021-10-29T22:30:08.638129Z",
     "shell.execute_reply": "2021-10-29T22:30:08.639396Z"
    },
    "papermill": {
     "duration": 0.073226,
     "end_time": "2021-10-29T22:30:08.639803",
     "exception": false,
     "start_time": "2021-10-29T22:30:08.566577",
     "status": "completed"
    },
    "tags": []
   },
   "outputs": [
    {
     "data": {
      "text/html": [
       "<div>\n",
       "<style scoped>\n",
       "    .dataframe tbody tr th:only-of-type {\n",
       "        vertical-align: middle;\n",
       "    }\n",
       "\n",
       "    .dataframe tbody tr th {\n",
       "        vertical-align: top;\n",
       "    }\n",
       "\n",
       "    .dataframe thead th {\n",
       "        text-align: right;\n",
       "    }\n",
       "</style>\n",
       "<table border=\"1\" class=\"dataframe\">\n",
       "  <thead>\n",
       "    <tr style=\"text-align: right;\">\n",
       "      <th></th>\n",
       "      <th>RECORD_TIME</th>\n",
       "    </tr>\n",
       "  </thead>\n",
       "  <tbody>\n",
       "    <tr>\n",
       "      <th>0</th>\n",
       "      <td>2021-10-30 00:30</td>\n",
       "    </tr>\n",
       "    <tr>\n",
       "      <th>1</th>\n",
       "      <td>2021-10-30 00:00</td>\n",
       "    </tr>\n",
       "  </tbody>\n",
       "</table>\n",
       "</div>"
      ],
      "text/plain": [
       "        RECORD_TIME\n",
       "0  2021-10-30 00:30\n",
       "1  2021-10-30 00:00"
      ]
     },
     "execution_count": 3,
     "metadata": {},
     "output_type": "execute_result"
    }
   ],
   "source": [
    "timestamps"
   ]
  },
  {
   "cell_type": "code",
   "execution_count": 4,
   "id": "alternate-victory",
   "metadata": {
    "execution": {
     "iopub.execute_input": "2021-10-29T22:30:08.690531Z",
     "iopub.status.busy": "2021-10-29T22:30:08.688606Z",
     "iopub.status.idle": "2021-10-29T22:30:09.676907Z",
     "shell.execute_reply": "2021-10-29T22:30:09.678118Z"
    },
    "papermill": {
     "duration": 1.018261,
     "end_time": "2021-10-29T22:30:09.678543",
     "exception": false,
     "start_time": "2021-10-29T22:30:08.660282",
     "status": "completed"
    },
    "tags": []
   },
   "outputs": [],
   "source": [
    "df = pd.read_sql(\"select * from EBAY_TOP_BERLIN where record_time in (select distinct record_time from EBAY_TOP_BERLIN order by record_time desc limit 2)\", sqlite3.connect(\"UsedObjects.db\"))"
   ]
  },
  {
   "cell_type": "code",
   "execution_count": 5,
   "id": "popular-active",
   "metadata": {
    "execution": {
     "iopub.execute_input": "2021-10-29T22:30:09.749613Z",
     "iopub.status.busy": "2021-10-29T22:30:09.736540Z",
     "iopub.status.idle": "2021-10-29T22:30:09.766298Z",
     "shell.execute_reply": "2021-10-29T22:30:09.767578Z"
    },
    "papermill": {
     "duration": 0.067945,
     "end_time": "2021-10-29T22:30:09.767988",
     "exception": false,
     "start_time": "2021-10-29T22:30:09.700043",
     "status": "completed"
    },
    "tags": []
   },
   "outputs": [],
   "source": [
    "df_pivot = df.pivot_table(index=\"PRODUCT\", columns = \"RECORD_TIME\", values = \"LISTING_COUNT\")"
   ]
  },
  {
   "cell_type": "code",
   "execution_count": 6,
   "id": "union-huntington",
   "metadata": {
    "execution": {
     "iopub.execute_input": "2021-10-29T22:30:09.824185Z",
     "iopub.status.busy": "2021-10-29T22:30:09.821913Z",
     "iopub.status.idle": "2021-10-29T22:30:09.827562Z",
     "shell.execute_reply": "2021-10-29T22:30:09.828889Z"
    },
    "papermill": {
     "duration": 0.041577,
     "end_time": "2021-10-29T22:30:09.829303",
     "exception": false,
     "start_time": "2021-10-29T22:30:09.787726",
     "status": "completed"
    },
    "tags": []
   },
   "outputs": [],
   "source": [
    "df_pivot.columns = [\"stamp_1\", \"stamp_2\"]\n",
    "df_pivot_diff = df_pivot.diff(axis=1)"
   ]
  },
  {
   "cell_type": "code",
   "execution_count": 7,
   "id": "fifth-motion",
   "metadata": {
    "execution": {
     "iopub.execute_input": "2021-10-29T22:30:09.883859Z",
     "iopub.status.busy": "2021-10-29T22:30:09.881639Z",
     "iopub.status.idle": "2021-10-29T22:30:11.346722Z",
     "shell.execute_reply": "2021-10-29T22:30:11.347986Z"
    },
    "papermill": {
     "duration": 1.49838,
     "end_time": "2021-10-29T22:30:11.348396",
     "exception": false,
     "start_time": "2021-10-29T22:30:09.850016",
     "status": "completed"
    },
    "tags": []
   },
   "outputs": [
    {
     "data": {
      "text/plain": [
       "<AxesSubplot:ylabel='PRODUCT'>"
      ]
     },
     "execution_count": 7,
     "metadata": {},
     "output_type": "execute_result"
    },
    {
     "data": {
      "image/png": "[encoded data removed]",
      "text/plain": [
       "<Figure size 432x288 with 1 Axes>"
      ]
     },
     "metadata": {
      "needs_background": "light"
     },
     "output_type": "display_data"
    }
   ],
   "source": [
    "df_pivot_diff.sort_values(\"stamp_2\", ascending = False)[\"stamp_2\"].head(10).plot.barh()"
   ]
  },
  {
   "cell_type": "code",
   "execution_count": null,
   "id": "extra-executive",
   "metadata": {
    "papermill": {
     "duration": 0.022291,
     "end_time": "2021-10-29T22:30:11.394138",
     "exception": false,
     "start_time": "2021-10-29T22:30:11.371847",
     "status": "completed"
    },
    "tags": []
   },
   "outputs": [],
   "source": []
  }
 ],
 "metadata": {
  "kernelspec": {
   "display_name": "Python 3",
   "language": "python",
   "name": "python3"
  },
  "language_info": {
   "codemirror_mode": {
    "name": "ipython",
    "version": 3
   },
   "file_extension": ".py",
   "mimetype": "text/x-python",
   "name": "python",
   "nbconvert_exporter": "python",
   "pygments_lexer": "ipython3",
   "version": "3.9.5"
  },
  "papermill": {
   "default_parameters": {},
   "duration": 7.533987,
   "end_time": "2021-10-29T22:30:12.037068",
   "environment_variables": {},
   "exception": null,
   "input_path": "eBay_Overview.ipynb",
   "output_path": "eBay_Overview.ipynb",
   "parameters": {},
   "start_time": "2021-10-29T22:30:04.503081",
   "version": "2.3.3"
  }
 },
 "nbformat": 4,
 "nbformat_minor": 5
}