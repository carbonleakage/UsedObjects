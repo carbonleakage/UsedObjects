{
 "cells": [
  {
   "cell_type": "code",
   "execution_count": 1,
   "id": "reverse-picking",
   "metadata": {
    "execution": {
     "iopub.execute_input": "2021-08-21T02:00:07.471844Z",
     "iopub.status.busy": "2021-08-21T02:00:07.469819Z",
     "iopub.status.idle": "2021-08-21T02:00:08.276847Z",
     "shell.execute_reply": "2021-08-21T02:00:08.275270Z"
    },
    "papermill": {
     "duration": 0.857211,
     "end_time": "2021-08-21T02:00:08.277245",
     "exception": false,
     "start_time": "2021-08-21T02:00:07.420034",
     "status": "completed"
    },
    "tags": []
   },
   "outputs": [],
   "source": [
    "import pandas as pd\n",
    "import sqlite3"
   ]
  },
  {
   "cell_type": "code",
   "execution_count": 2,
   "id": "innovative-syndrome",
   "metadata": {
    "execution": {
     "iopub.execute_input": "2021-08-21T02:00:08.328582Z",
     "iopub.status.busy": "2021-08-21T02:00:08.326734Z",
     "iopub.status.idle": "2021-08-21T02:00:08.421439Z",
     "shell.execute_reply": "2021-08-21T02:00:08.422710Z"
    },
    "papermill": {
     "duration": 0.124266,
     "end_time": "2021-08-21T02:00:08.423118",
     "exception": false,
     "start_time": "2021-08-21T02:00:08.298852",
     "status": "completed"
    },
    "tags": []
   },
   "outputs": [],
   "source": [
    "timestamps = pd.read_sql(\"select distinct record_time from EBAY_TOP_BERLIN order by record_time desc limit 2\", sqlite3.connect(\"UsedObjects.db\"))"
   ]
  },
  {
   "cell_type": "code",
   "execution_count": 3,
   "id": "periodic-identification",
   "metadata": {
    "execution": {
     "iopub.execute_input": "2021-08-21T02:00:08.485820Z",
     "iopub.status.busy": "2021-08-21T02:00:08.483820Z",
     "iopub.status.idle": "2021-08-21T02:00:08.503916Z",
     "shell.execute_reply": "2021-08-21T02:00:08.505215Z"
    },
    "papermill": {
     "duration": 0.063189,
     "end_time": "2021-08-21T02:00:08.505636",
     "exception": false,
     "start_time": "2021-08-21T02:00:08.442447",
     "status": "completed"
    },
    "tags": []
   },
   "outputs": [
    {
     "data": {
      "text/html": [
       "<div>\n",
       "<style scoped>\n",
       "    .dataframe tbody tr th:only-of-type {\n",
       "        vertical-align: middle;\n",
       "    }\n",
       "\n",
       "    .dataframe tbody tr th {\n",
       "        vertical-align: top;\n",
       "    }\n",
       "\n",
       "    .dataframe thead th {\n",
       "        text-align: right;\n",
       "    }\n",
       "</style>\n",
       "<table border=\"1\" class=\"dataframe\">\n",
       "  <thead>\n",
       "    <tr style=\"text-align: right;\">\n",
       "      <th></th>\n",
       "      <th>RECORD_TIME</th>\n",
       "    </tr>\n",
       "  </thead>\n",
       "  <tbody>\n",
       "    <tr>\n",
       "      <th>0</th>\n",
       "      <td>2021-08-21 04:00</td>\n",
       "    </tr>\n",
       "    <tr>\n",
       "      <th>1</th>\n",
       "      <td>2021-08-21 03:30</td>\n",
       "    </tr>\n",
       "  </tbody>\n",
       "</table>\n",
       "</div>"
      ],
      "text/plain": [
       "        RECORD_TIME\n",
       "0  2021-08-21 04:00\n",
       "1  2021-08-21 03:30"
      ]
     },
     "execution_count": 3,
     "metadata": {},
     "output_type": "execute_result"
    }
   ],
   "source": [
    "timestamps"
   ]
  },
  {
   "cell_type": "code",
   "execution_count": 4,
   "id": "alternate-victory",
   "metadata": {
    "execution": {
     "iopub.execute_input": "2021-08-21T02:00:08.556757Z",
     "iopub.status.busy": "2021-08-21T02:00:08.554938Z",
     "iopub.status.idle": "2021-08-21T02:00:08.697357Z",
     "shell.execute_reply": "2021-08-21T02:00:08.698653Z"
    },
    "papermill": {
     "duration": 0.172261,
     "end_time": "2021-08-21T02:00:08.699064",
     "exception": false,
     "start_time": "2021-08-21T02:00:08.526803",
     "status": "completed"
    },
    "tags": []
   },
   "outputs": [],
   "source": [
    "df = pd.read_sql(\"select * from EBAY_TOP_BERLIN where record_time in (select distinct record_time from EBAY_TOP_BERLIN order by record_time desc limit 2)\", sqlite3.connect(\"UsedObjects.db\"))"
   ]
  },
  {
   "cell_type": "code",
   "execution_count": 5,
   "id": "popular-active",
   "metadata": {
    "execution": {
     "iopub.execute_input": "2021-08-21T02:00:08.767958Z",
     "iopub.status.busy": "2021-08-21T02:00:08.756413Z",
     "iopub.status.idle": "2021-08-21T02:00:08.784995Z",
     "shell.execute_reply": "2021-08-21T02:00:08.786497Z"
    },
    "papermill": {
     "duration": 0.067533,
     "end_time": "2021-08-21T02:00:08.786951",
     "exception": false,
     "start_time": "2021-08-21T02:00:08.719418",
     "status": "completed"
    },
    "tags": []
   },
   "outputs": [],
   "source": [
    "df_pivot = df.pivot_table(index=\"PRODUCT\", columns = \"RECORD_TIME\", values = \"LISTING_COUNT\")"
   ]
  },
  {
   "cell_type": "code",
   "execution_count": 6,
   "id": "union-huntington",
   "metadata": {
    "execution": {
     "iopub.execute_input": "2021-08-21T02:00:08.844017Z",
     "iopub.status.busy": "2021-08-21T02:00:08.841481Z",
     "iopub.status.idle": "2021-08-21T02:00:08.847557Z",
     "shell.execute_reply": "2021-08-21T02:00:08.849058Z"
    },
    "papermill": {
     "duration": 0.042807,
     "end_time": "2021-08-21T02:00:08.849526",
     "exception": false,
     "start_time": "2021-08-21T02:00:08.806719",
     "status": "completed"
    },
    "tags": []
   },
   "outputs": [],
   "source": [
    "df_pivot.columns = [\"stamp_1\", \"stamp_2\"]\n",
    "df_pivot_diff = df_pivot.diff(axis=1)"
   ]
  },
  {
   "cell_type": "code",
   "execution_count": 7,
   "id": "fifth-motion",
   "metadata": {
    "execution": {
     "iopub.execute_input": "2021-08-21T02:00:08.908027Z",
     "iopub.status.busy": "2021-08-21T02:00:08.905305Z",
     "iopub.status.idle": "2021-08-21T02:00:10.416880Z",
     "shell.execute_reply": "2021-08-21T02:00:10.418456Z"
    },
    "papermill": {
     "duration": 1.548926,
     "end_time": "2021-08-21T02:00:10.418935",
     "exception": false,
     "start_time": "2021-08-21T02:00:08.870009",
     "status": "completed"
    },
    "tags": []
   },
   "outputs": [
    {
     "data": {
      "text/plain": [
       "<AxesSubplot:ylabel='PRODUCT'>"
      ]
     },
     "execution_count": 7,
     "metadata": {},
     "output_type": "execute_result"
    },
    {
     "data": {
      "image/png": "[encoded data removed]",
      "text/plain": [
       "<Figure size 432x288 with 1 Axes>"
      ]
     },
     "metadata": {
      "needs_background": "light"
     },
     "output_type": "display_data"
    }
   ],
   "source": [
    "df_pivot_diff.sort_values(\"stamp_2\", ascending = False)[\"stamp_2\"].head(10).plot.barh()"
   ]
  },
  {
   "cell_type": "code",
   "execution_count": null,
   "id": "extra-executive",
   "metadata": {
    "papermill": {
     "duration": 0.022177,
     "end_time": "2021-08-21T02:00:10.465545",
     "exception": false,
     "start_time": "2021-08-21T02:00:10.443368",
     "status": "completed"
    },
    "tags": []
   },
   "outputs": [],
   "source": []
  }
 ],
 "metadata": {
  "kernelspec": {
   "display_name": "Python 3",
   "language": "python",
   "name": "python3"
  },
  "language_info": {
   "codemirror_mode": {
    "name": "ipython",
    "version": 3
   },
   "file_extension": ".py",
   "mimetype": "text/x-python",
   "name": "python",
   "nbconvert_exporter": "python",
   "pygments_lexer": "ipython3",
   "version": "3.9.5"
  },
  "papermill": {
   "default_parameters": {},
   "duration": 6.824379,
   "end_time": "2021-08-21T02:00:11.832475",
   "environment_variables": {},
   "exception": null,
   "input_path": "eBay_Overview.ipynb",
   "output_path": "eBay_Overview.ipynb",
   "parameters": {},
   "start_time": "2021-08-21T02:00:05.008096",
   "version": "2.3.3"
  }
 },
 "nbformat": 4,
 "nbformat_minor": 5
}