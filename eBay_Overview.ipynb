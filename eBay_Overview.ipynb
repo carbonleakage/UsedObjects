{
 "cells": [
  {
   "cell_type": "code",
   "execution_count": 1,
   "id": "reverse-picking",
   "metadata": {
    "execution": {
     "iopub.execute_input": "2021-11-15T16:30:07.905568Z",
     "iopub.status.busy": "2021-11-15T16:30:07.903248Z",
     "iopub.status.idle": "2021-11-15T16:30:08.855243Z",
     "shell.execute_reply": "2021-11-15T16:30:08.856886Z"
    },
    "papermill": {
     "duration": 1.002688,
     "end_time": "2021-11-15T16:30:08.857685",
     "exception": false,
     "start_time": "2021-11-15T16:30:07.854997",
     "status": "completed"
    },
    "tags": []
   },
   "outputs": [],
   "source": [
    "import pandas as pd\n",
    "import sqlite3"
   ]
  },
  {
   "cell_type": "code",
   "execution_count": 2,
   "id": "innovative-syndrome",
   "metadata": {
    "execution": {
     "iopub.execute_input": "2021-11-15T16:30:08.932185Z",
     "iopub.status.busy": "2021-11-15T16:30:08.928903Z",
     "iopub.status.idle": "2021-11-15T16:30:09.769272Z",
     "shell.execute_reply": "2021-11-15T16:30:09.770883Z"
    },
    "papermill": {
     "duration": 0.885826,
     "end_time": "2021-11-15T16:30:09.771434",
     "exception": false,
     "start_time": "2021-11-15T16:30:08.885608",
     "status": "completed"
    },
    "tags": []
   },
   "outputs": [],
   "source": [
    "timestamps = pd.read_sql(\"select distinct record_time from EBAY_TOP_BERLIN order by record_time desc limit 2\", sqlite3.connect(\"UsedObjects.db\"))"
   ]
  },
  {
   "cell_type": "code",
   "execution_count": 3,
   "id": "periodic-identification",
   "metadata": {
    "execution": {
     "iopub.execute_input": "2021-11-15T16:30:09.843559Z",
     "iopub.status.busy": "2021-11-15T16:30:09.841559Z",
     "iopub.status.idle": "2021-11-15T16:30:09.862109Z",
     "shell.execute_reply": "2021-11-15T16:30:09.863393Z"
    },
    "papermill": {
     "duration": 0.071033,
     "end_time": "2021-11-15T16:30:09.863808",
     "exception": false,
     "start_time": "2021-11-15T16:30:09.792775",
     "status": "completed"
    },
    "tags": []
   },
   "outputs": [
    {
     "data": {
      "text/html": [
       "<div>\n",
       "<style scoped>\n",
       "    .dataframe tbody tr th:only-of-type {\n",
       "        vertical-align: middle;\n",
       "    }\n",
       "\n",
       "    .dataframe tbody tr th {\n",
       "        vertical-align: top;\n",
       "    }\n",
       "\n",
       "    .dataframe thead th {\n",
       "        text-align: right;\n",
       "    }\n",
       "</style>\n",
       "<table border=\"1\" class=\"dataframe\">\n",
       "  <thead>\n",
       "    <tr style=\"text-align: right;\">\n",
       "      <th></th>\n",
       "      <th>RECORD_TIME</th>\n",
       "    </tr>\n",
       "  </thead>\n",
       "  <tbody>\n",
       "    <tr>\n",
       "      <th>0</th>\n",
       "      <td>2021-11-15 17:30</td>\n",
       "    </tr>\n",
       "    <tr>\n",
       "      <th>1</th>\n",
       "      <td>2021-11-15 17:00</td>\n",
       "    </tr>\n",
       "  </tbody>\n",
       "</table>\n",
       "</div>"
      ],
      "text/plain": [
       "        RECORD_TIME\n",
       "0  2021-11-15 17:30\n",
       "1  2021-11-15 17:00"
      ]
     },
     "execution_count": 3,
     "metadata": {},
     "output_type": "execute_result"
    }
   ],
   "source": [
    "timestamps"
   ]
  },
  {
   "cell_type": "code",
   "execution_count": 4,
   "id": "alternate-victory",
   "metadata": {
    "execution": {
     "iopub.execute_input": "2021-11-15T16:30:09.914304Z",
     "iopub.status.busy": "2021-11-15T16:30:09.912361Z",
     "iopub.status.idle": "2021-11-15T16:30:11.127514Z",
     "shell.execute_reply": "2021-11-15T16:30:11.129096Z"
    },
    "papermill": {
     "duration": 1.245357,
     "end_time": "2021-11-15T16:30:11.129586",
     "exception": false,
     "start_time": "2021-11-15T16:30:09.884229",
     "status": "completed"
    },
    "tags": []
   },
   "outputs": [],
   "source": [
    "df = pd.read_sql(\"select * from EBAY_TOP_BERLIN where record_time in (select distinct record_time from EBAY_TOP_BERLIN order by record_time desc limit 2)\", sqlite3.connect(\"UsedObjects.db\"))"
   ]
  },
  {
   "cell_type": "code",
   "execution_count": 5,
   "id": "popular-active",
   "metadata": {
    "execution": {
     "iopub.execute_input": "2021-11-15T16:30:11.209007Z",
     "iopub.status.busy": "2021-11-15T16:30:11.194928Z",
     "iopub.status.idle": "2021-11-15T16:30:11.229341Z",
     "shell.execute_reply": "2021-11-15T16:30:11.230835Z"
    },
    "papermill": {
     "duration": 0.078745,
     "end_time": "2021-11-15T16:30:11.231320",
     "exception": false,
     "start_time": "2021-11-15T16:30:11.152575",
     "status": "completed"
    },
    "tags": []
   },
   "outputs": [],
   "source": [
    "df_pivot = df.pivot_table(index=\"PRODUCT\", columns = \"RECORD_TIME\", values = \"LISTING_COUNT\")"
   ]
  },
  {
   "cell_type": "code",
   "execution_count": 6,
   "id": "union-huntington",
   "metadata": {
    "execution": {
     "iopub.execute_input": "2021-11-15T16:30:11.291501Z",
     "iopub.status.busy": "2021-11-15T16:30:11.289379Z",
     "iopub.status.idle": "2021-11-15T16:30:11.295200Z",
     "shell.execute_reply": "2021-11-15T16:30:11.296675Z"
    },
    "papermill": {
     "duration": 0.043433,
     "end_time": "2021-11-15T16:30:11.297199",
     "exception": false,
     "start_time": "2021-11-15T16:30:11.253766",
     "status": "completed"
    },
    "tags": []
   },
   "outputs": [],
   "source": [
    "df_pivot.columns = [\"stamp_1\", \"stamp_2\"]\n",
    "df_pivot_diff = df_pivot.diff(axis=1)"
   ]
  },
  {
   "cell_type": "code",
   "execution_count": 7,
   "id": "fifth-motion",
   "metadata": {
    "execution": {
     "iopub.execute_input": "2021-11-15T16:30:11.354021Z",
     "iopub.status.busy": "2021-11-15T16:30:11.351404Z",
     "iopub.status.idle": "2021-11-15T16:30:13.317242Z",
     "shell.execute_reply": "2021-11-15T16:30:13.319960Z"
    },
    "papermill": {
     "duration": 2.003578,
     "end_time": "2021-11-15T16:30:13.320855",
     "exception": false,
     "start_time": "2021-11-15T16:30:11.317277",
     "status": "completed"
    },
    "tags": []
   },
   "outputs": [
    {
     "data": {
      "text/plain": [
       "<AxesSubplot:ylabel='PRODUCT'>"
      ]
     },
     "execution_count": 7,
     "metadata": {},
     "output_type": "execute_result"
    },
    {
     "data": {
      "image/png": "[encoded data removed]",
      "text/plain": [
       "<Figure size 432x288 with 1 Axes>"
      ]
     },
     "metadata": {
      "needs_background": "light"
     },
     "output_type": "display_data"
    }
   ],
   "source": [
    "df_pivot_diff.sort_values(\"stamp_2\", ascending = False)[\"stamp_2\"].head(10).plot.barh()"
   ]
  },
  {
   "cell_type": "code",
   "execution_count": null,
   "id": "extra-executive",
   "metadata": {
    "papermill": {
     "duration": 0.033466,
     "end_time": "2021-11-15T16:30:13.391600",
     "exception": false,
     "start_time": "2021-11-15T16:30:13.358134",
     "status": "completed"
    },
    "tags": []
   },
   "outputs": [],
   "source": []
  }
 ],
 "metadata": {
  "kernelspec": {
   "display_name": "Python 3",
   "language": "python",
   "name": "python3"
  },
  "language_info": {
   "codemirror_mode": {
    "name": "ipython",
    "version": 3
   },
   "file_extension": ".py",
   "mimetype": "text/x-python",
   "name": "python",
   "nbconvert_exporter": "python",
   "pygments_lexer": "ipython3",
   "version": "3.9.5"
  },
  "papermill": {
   "default_parameters": {},
   "duration": 9.931845,
   "end_time": "2021-11-15T16:30:15.056406",
   "environment_variables": {},
   "exception": null,
   "input_path": "eBay_Overview.ipynb",
   "output_path": "eBay_Overview.ipynb",
   "parameters": {},
   "start_time": "2021-11-15T16:30:05.124561",
   "version": "2.3.3"
  }
 },
 "nbformat": 4,
 "nbformat_minor": 5
}