{
 "cells": [
  {
   "cell_type": "code",
   "execution_count": 1,
   "id": "reverse-picking",
   "metadata": {
    "execution": {
     "iopub.execute_input": "2021-11-26T11:00:07.631626Z",
     "iopub.status.busy": "2021-11-26T11:00:07.629410Z",
     "iopub.status.idle": "2021-11-26T11:00:08.584943Z",
     "shell.execute_reply": "2021-11-26T11:00:08.586565Z"
    },
    "papermill": {
     "duration": 1.007077,
     "end_time": "2021-11-26T11:00:08.587300",
     "exception": false,
     "start_time": "2021-11-26T11:00:07.580223",
     "status": "completed"
    },
    "tags": []
   },
   "outputs": [],
   "source": [
    "import pandas as pd\n",
    "import sqlite3"
   ]
  },
  {
   "cell_type": "code",
   "execution_count": 2,
   "id": "innovative-syndrome",
   "metadata": {
    "execution": {
     "iopub.execute_input": "2021-11-26T11:00:08.646253Z",
     "iopub.status.busy": "2021-11-26T11:00:08.643939Z",
     "iopub.status.idle": "2021-11-26T11:00:09.572485Z",
     "shell.execute_reply": "2021-11-26T11:00:09.573918Z"
    },
    "papermill": {
     "duration": 0.962806,
     "end_time": "2021-11-26T11:00:09.574421",
     "exception": false,
     "start_time": "2021-11-26T11:00:08.611615",
     "status": "completed"
    },
    "tags": []
   },
   "outputs": [],
   "source": [
    "timestamps = pd.read_sql(\"select distinct record_time from EBAY_TOP_BERLIN order by record_time desc limit 2\", sqlite3.connect(\"UsedObjects.db\"))"
   ]
  },
  {
   "cell_type": "code",
   "execution_count": 3,
   "id": "periodic-identification",
   "metadata": {
    "execution": {
     "iopub.execute_input": "2021-11-26T11:00:09.647874Z",
     "iopub.status.busy": "2021-11-26T11:00:09.645513Z",
     "iopub.status.idle": "2021-11-26T11:00:09.667782Z",
     "shell.execute_reply": "2021-11-26T11:00:09.669324Z"
    },
    "papermill": {
     "duration": 0.074369,
     "end_time": "2021-11-26T11:00:09.669817",
     "exception": false,
     "start_time": "2021-11-26T11:00:09.595448",
     "status": "completed"
    },
    "tags": []
   },
   "outputs": [
    {
     "data": {
      "text/html": [
       "<div>\n",
       "<style scoped>\n",
       "    .dataframe tbody tr th:only-of-type {\n",
       "        vertical-align: middle;\n",
       "    }\n",
       "\n",
       "    .dataframe tbody tr th {\n",
       "        vertical-align: top;\n",
       "    }\n",
       "\n",
       "    .dataframe thead th {\n",
       "        text-align: right;\n",
       "    }\n",
       "</style>\n",
       "<table border=\"1\" class=\"dataframe\">\n",
       "  <thead>\n",
       "    <tr style=\"text-align: right;\">\n",
       "      <th></th>\n",
       "      <th>RECORD_TIME</th>\n",
       "    </tr>\n",
       "  </thead>\n",
       "  <tbody>\n",
       "    <tr>\n",
       "      <th>0</th>\n",
       "      <td>2021-11-26 12:00</td>\n",
       "    </tr>\n",
       "    <tr>\n",
       "      <th>1</th>\n",
       "      <td>2021-11-26 11:30</td>\n",
       "    </tr>\n",
       "  </tbody>\n",
       "</table>\n",
       "</div>"
      ],
      "text/plain": [
       "        RECORD_TIME\n",
       "0  2021-11-26 12:00\n",
       "1  2021-11-26 11:30"
      ]
     },
     "execution_count": 3,
     "metadata": {},
     "output_type": "execute_result"
    }
   ],
   "source": [
    "timestamps"
   ]
  },
  {
   "cell_type": "code",
   "execution_count": 4,
   "id": "alternate-victory",
   "metadata": {
    "execution": {
     "iopub.execute_input": "2021-11-26T11:00:09.725438Z",
     "iopub.status.busy": "2021-11-26T11:00:09.722930Z",
     "iopub.status.idle": "2021-11-26T11:00:11.066795Z",
     "shell.execute_reply": "2021-11-26T11:00:11.068211Z"
    },
    "papermill": {
     "duration": 1.377053,
     "end_time": "2021-11-26T11:00:11.068642",
     "exception": false,
     "start_time": "2021-11-26T11:00:09.691589",
     "status": "completed"
    },
    "tags": []
   },
   "outputs": [],
   "source": [
    "df = pd.read_sql(\"select * from EBAY_TOP_BERLIN where record_time in (select distinct record_time from EBAY_TOP_BERLIN order by record_time desc limit 2)\", sqlite3.connect(\"UsedObjects.db\"))"
   ]
  },
  {
   "cell_type": "code",
   "execution_count": 5,
   "id": "popular-active",
   "metadata": {
    "execution": {
     "iopub.execute_input": "2021-11-26T11:00:11.146913Z",
     "iopub.status.busy": "2021-11-26T11:00:11.133806Z",
     "iopub.status.idle": "2021-11-26T11:00:11.167142Z",
     "shell.execute_reply": "2021-11-26T11:00:11.168760Z"
    },
    "papermill": {
     "duration": 0.078618,
     "end_time": "2021-11-26T11:00:11.169286",
     "exception": false,
     "start_time": "2021-11-26T11:00:11.090668",
     "status": "completed"
    },
    "tags": []
   },
   "outputs": [],
   "source": [
    "df_pivot = df.pivot_table(index=\"PRODUCT\", columns = \"RECORD_TIME\", values = \"LISTING_COUNT\")"
   ]
  },
  {
   "cell_type": "code",
   "execution_count": 6,
   "id": "union-huntington",
   "metadata": {
    "execution": {
     "iopub.execute_input": "2021-11-26T11:00:11.231210Z",
     "iopub.status.busy": "2021-11-26T11:00:11.228981Z",
     "iopub.status.idle": "2021-11-26T11:00:11.234654Z",
     "shell.execute_reply": "2021-11-26T11:00:11.236021Z"
    },
    "papermill": {
     "duration": 0.045077,
     "end_time": "2021-11-26T11:00:11.236498",
     "exception": false,
     "start_time": "2021-11-26T11:00:11.191421",
     "status": "completed"
    },
    "tags": []
   },
   "outputs": [],
   "source": [
    "df_pivot.columns = [\"stamp_1\", \"stamp_2\"]\n",
    "df_pivot_diff = df_pivot.diff(axis=1)"
   ]
  },
  {
   "cell_type": "code",
   "execution_count": 7,
   "id": "fifth-motion",
   "metadata": {
    "execution": {
     "iopub.execute_input": "2021-11-26T11:00:11.293335Z",
     "iopub.status.busy": "2021-11-26T11:00:11.290778Z",
     "iopub.status.idle": "2021-11-26T11:00:13.192999Z",
     "shell.execute_reply": "2021-11-26T11:00:13.195716Z"
    },
    "papermill": {
     "duration": 1.940176,
     "end_time": "2021-11-26T11:00:13.196748",
     "exception": false,
     "start_time": "2021-11-26T11:00:11.256572",
     "status": "completed"
    },
    "tags": []
   },
   "outputs": [
    {
     "data": {
      "text/plain": [
       "<AxesSubplot:ylabel='PRODUCT'>"
      ]
     },
     "execution_count": 7,
     "metadata": {},
     "output_type": "execute_result"
    },
    {
     "data": {
      "image/png": "[encoded data removed]",
      "text/plain": [
       "<Figure size 432x288 with 1 Axes>"
      ]
     },
     "metadata": {
      "needs_background": "light"
     },
     "output_type": "display_data"
    }
   ],
   "source": [
    "df_pivot_diff.sort_values(\"stamp_2\", ascending = False)[\"stamp_2\"].head(10).plot.barh()"
   ]
  },
  {
   "cell_type": "code",
   "execution_count": null,
   "id": "extra-executive",
   "metadata": {
    "papermill": {
     "duration": 0.034084,
     "end_time": "2021-11-26T11:00:13.268397",
     "exception": false,
     "start_time": "2021-11-26T11:00:13.234313",
     "status": "completed"
    },
    "tags": []
   },
   "outputs": [],
   "source": []
  }
 ],
 "metadata": {
  "kernelspec": {
   "display_name": "Python 3",
   "language": "python",
   "name": "python3"
  },
  "language_info": {
   "codemirror_mode": {
    "name": "ipython",
    "version": 3
   },
   "file_extension": ".py",
   "mimetype": "text/x-python",
   "name": "python",
   "nbconvert_exporter": "python",
   "pygments_lexer": "ipython3",
   "version": "3.9.5"
  },
  "papermill": {
   "default_parameters": {},
   "duration": 9.934868,
   "end_time": "2021-11-26T11:00:14.788335",
   "environment_variables": {},
   "exception": null,
   "input_path": "eBay_Overview.ipynb",
   "output_path": "eBay_Overview.ipynb",
   "parameters": {},
   "start_time": "2021-11-26T11:00:04.853467",
   "version": "2.3.3"
  }
 },
 "nbformat": 4,
 "nbformat_minor": 5
}