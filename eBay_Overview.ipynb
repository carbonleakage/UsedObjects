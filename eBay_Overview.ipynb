{
 "cells": [
  {
   "cell_type": "code",
   "execution_count": 1,
   "id": "reverse-picking",
   "metadata": {
    "execution": {
     "iopub.execute_input": "2021-11-10T00:30:07.357677Z",
     "iopub.status.busy": "2021-11-10T00:30:07.350152Z",
     "iopub.status.idle": "2021-11-10T00:30:08.313606Z",
     "shell.execute_reply": "2021-11-10T00:30:08.315090Z"
    },
    "papermill": {
     "duration": 1.007011,
     "end_time": "2021-11-10T00:30:08.315813",
     "exception": false,
     "start_time": "2021-11-10T00:30:07.308802",
     "status": "completed"
    },
    "tags": []
   },
   "outputs": [],
   "source": [
    "import pandas as pd\n",
    "import sqlite3"
   ]
  },
  {
   "cell_type": "code",
   "execution_count": 2,
   "id": "innovative-syndrome",
   "metadata": {
    "execution": {
     "iopub.execute_input": "2021-11-10T00:30:08.385423Z",
     "iopub.status.busy": "2021-11-10T00:30:08.381816Z",
     "iopub.status.idle": "2021-11-10T00:30:09.185742Z",
     "shell.execute_reply": "2021-11-10T00:30:09.187719Z"
    },
    "papermill": {
     "duration": 0.838711,
     "end_time": "2021-11-10T00:30:09.188233",
     "exception": false,
     "start_time": "2021-11-10T00:30:08.349522",
     "status": "completed"
    },
    "tags": []
   },
   "outputs": [],
   "source": [
    "timestamps = pd.read_sql(\"select distinct record_time from EBAY_TOP_BERLIN order by record_time desc limit 2\", sqlite3.connect(\"UsedObjects.db\"))"
   ]
  },
  {
   "cell_type": "code",
   "execution_count": 3,
   "id": "periodic-identification",
   "metadata": {
    "execution": {
     "iopub.execute_input": "2021-11-10T00:30:09.261250Z",
     "iopub.status.busy": "2021-11-10T00:30:09.258711Z",
     "iopub.status.idle": "2021-11-10T00:30:09.281938Z",
     "shell.execute_reply": "2021-11-10T00:30:09.283514Z"
    },
    "papermill": {
     "duration": 0.075117,
     "end_time": "2021-11-10T00:30:09.284001",
     "exception": false,
     "start_time": "2021-11-10T00:30:09.208884",
     "status": "completed"
    },
    "tags": []
   },
   "outputs": [
    {
     "data": {
      "text/html": [
       "<div>\n",
       "<style scoped>\n",
       "    .dataframe tbody tr th:only-of-type {\n",
       "        vertical-align: middle;\n",
       "    }\n",
       "\n",
       "    .dataframe tbody tr th {\n",
       "        vertical-align: top;\n",
       "    }\n",
       "\n",
       "    .dataframe thead th {\n",
       "        text-align: right;\n",
       "    }\n",
       "</style>\n",
       "<table border=\"1\" class=\"dataframe\">\n",
       "  <thead>\n",
       "    <tr style=\"text-align: right;\">\n",
       "      <th></th>\n",
       "      <th>RECORD_TIME</th>\n",
       "    </tr>\n",
       "  </thead>\n",
       "  <tbody>\n",
       "    <tr>\n",
       "      <th>0</th>\n",
       "      <td>2021-11-10 01:30</td>\n",
       "    </tr>\n",
       "    <tr>\n",
       "      <th>1</th>\n",
       "      <td>2021-11-10 01:00</td>\n",
       "    </tr>\n",
       "  </tbody>\n",
       "</table>\n",
       "</div>"
      ],
      "text/plain": [
       "        RECORD_TIME\n",
       "0  2021-11-10 01:30\n",
       "1  2021-11-10 01:00"
      ]
     },
     "execution_count": 3,
     "metadata": {},
     "output_type": "execute_result"
    }
   ],
   "source": [
    "timestamps"
   ]
  },
  {
   "cell_type": "code",
   "execution_count": 4,
   "id": "alternate-victory",
   "metadata": {
    "execution": {
     "iopub.execute_input": "2021-11-10T00:30:09.340358Z",
     "iopub.status.busy": "2021-11-10T00:30:09.337736Z",
     "iopub.status.idle": "2021-11-10T00:30:10.486131Z",
     "shell.execute_reply": "2021-11-10T00:30:10.487600Z"
    },
    "papermill": {
     "duration": 1.18317,
     "end_time": "2021-11-10T00:30:10.488062",
     "exception": false,
     "start_time": "2021-11-10T00:30:09.304892",
     "status": "completed"
    },
    "tags": []
   },
   "outputs": [],
   "source": [
    "df = pd.read_sql(\"select * from EBAY_TOP_BERLIN where record_time in (select distinct record_time from EBAY_TOP_BERLIN order by record_time desc limit 2)\", sqlite3.connect(\"UsedObjects.db\"))"
   ]
  },
  {
   "cell_type": "code",
   "execution_count": 5,
   "id": "popular-active",
   "metadata": {
    "execution": {
     "iopub.execute_input": "2021-11-10T00:30:10.575423Z",
     "iopub.status.busy": "2021-11-10T00:30:10.558430Z",
     "iopub.status.idle": "2021-11-10T00:30:10.621129Z",
     "shell.execute_reply": "2021-11-10T00:30:10.623146Z"
    },
    "papermill": {
     "duration": 0.114151,
     "end_time": "2021-11-10T00:30:10.623802",
     "exception": false,
     "start_time": "2021-11-10T00:30:10.509651",
     "status": "completed"
    },
    "tags": []
   },
   "outputs": [],
   "source": [
    "df_pivot = df.pivot_table(index=\"PRODUCT\", columns = \"RECORD_TIME\", values = \"LISTING_COUNT\")"
   ]
  },
  {
   "cell_type": "code",
   "execution_count": 6,
   "id": "union-huntington",
   "metadata": {
    "execution": {
     "iopub.execute_input": "2021-11-10T00:30:10.687127Z",
     "iopub.status.busy": "2021-11-10T00:30:10.684742Z",
     "iopub.status.idle": "2021-11-10T00:30:10.690935Z",
     "shell.execute_reply": "2021-11-10T00:30:10.692536Z"
    },
    "papermill": {
     "duration": 0.046661,
     "end_time": "2021-11-10T00:30:10.693083",
     "exception": false,
     "start_time": "2021-11-10T00:30:10.646422",
     "status": "completed"
    },
    "tags": []
   },
   "outputs": [],
   "source": [
    "df_pivot.columns = [\"stamp_1\", \"stamp_2\"]\n",
    "df_pivot_diff = df_pivot.diff(axis=1)"
   ]
  },
  {
   "cell_type": "code",
   "execution_count": 7,
   "id": "fifth-motion",
   "metadata": {
    "execution": {
     "iopub.execute_input": "2021-11-10T00:30:10.751740Z",
     "iopub.status.busy": "2021-11-10T00:30:10.749216Z",
     "iopub.status.idle": "2021-11-10T00:30:12.699900Z",
     "shell.execute_reply": "2021-11-10T00:30:12.697887Z"
    },
    "papermill": {
     "duration": 1.985349,
     "end_time": "2021-11-10T00:30:12.700481",
     "exception": false,
     "start_time": "2021-11-10T00:30:10.715132",
     "status": "completed"
    },
    "tags": []
   },
   "outputs": [
    {
     "data": {
      "text/plain": [
       "<AxesSubplot:ylabel='PRODUCT'>"
      ]
     },
     "execution_count": 7,
     "metadata": {},
     "output_type": "execute_result"
    },
    {
     "data": {
      "image/png": "[encoded data removed]",
      "text/plain": [
       "<Figure size 432x288 with 1 Axes>"
      ]
     },
     "metadata": {
      "needs_background": "light"
     },
     "output_type": "display_data"
    }
   ],
   "source": [
    "df_pivot_diff.sort_values(\"stamp_2\", ascending = False)[\"stamp_2\"].head(10).plot.barh()"
   ]
  },
  {
   "cell_type": "code",
   "execution_count": null,
   "id": "extra-executive",
   "metadata": {
    "papermill": {
     "duration": 0.028708,
     "end_time": "2021-11-10T00:30:12.758018",
     "exception": false,
     "start_time": "2021-11-10T00:30:12.729310",
     "status": "completed"
    },
    "tags": []
   },
   "outputs": [],
   "source": []
  }
 ],
 "metadata": {
  "kernelspec": {
   "display_name": "Python 3",
   "language": "python",
   "name": "python3"
  },
  "language_info": {
   "codemirror_mode": {
    "name": "ipython",
    "version": 3
   },
   "file_extension": ".py",
   "mimetype": "text/x-python",
   "name": "python",
   "nbconvert_exporter": "python",
   "pygments_lexer": "ipython3",
   "version": "3.9.5"
  },
  "papermill": {
   "default_parameters": {},
   "duration": 9.942942,
   "end_time": "2021-11-10T00:30:14.535697",
   "environment_variables": {},
   "exception": null,
   "input_path": "eBay_Overview.ipynb",
   "output_path": "eBay_Overview.ipynb",
   "parameters": {},
   "start_time": "2021-11-10T00:30:04.592755",
   "version": "2.3.3"
  }
 },
 "nbformat": 4,
 "nbformat_minor": 5
}