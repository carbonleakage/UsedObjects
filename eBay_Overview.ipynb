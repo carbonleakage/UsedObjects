{
 "cells": [
  {
   "cell_type": "code",
   "execution_count": 1,
   "id": "reverse-picking",
   "metadata": {
    "execution": {
     "iopub.execute_input": "2021-11-03T13:00:07.738175Z",
     "iopub.status.busy": "2021-11-03T13:00:07.735688Z",
     "iopub.status.idle": "2021-11-03T13:00:08.697145Z",
     "shell.execute_reply": "2021-11-03T13:00:08.698637Z"
    },
    "papermill": {
     "duration": 1.011228,
     "end_time": "2021-11-03T13:00:08.699352",
     "exception": false,
     "start_time": "2021-11-03T13:00:07.688124",
     "status": "completed"
    },
    "tags": []
   },
   "outputs": [],
   "source": [
    "import pandas as pd\n",
    "import sqlite3"
   ]
  },
  {
   "cell_type": "code",
   "execution_count": 2,
   "id": "innovative-syndrome",
   "metadata": {
    "execution": {
     "iopub.execute_input": "2021-11-03T13:00:08.760530Z",
     "iopub.status.busy": "2021-11-03T13:00:08.758287Z",
     "iopub.status.idle": "2021-11-03T13:00:09.470261Z",
     "shell.execute_reply": "2021-11-03T13:00:09.471888Z"
    },
    "papermill": {
     "duration": 0.745227,
     "end_time": "2021-11-03T13:00:09.472367",
     "exception": false,
     "start_time": "2021-11-03T13:00:08.727140",
     "status": "completed"
    },
    "tags": []
   },
   "outputs": [],
   "source": [
    "timestamps = pd.read_sql(\"select distinct record_time from EBAY_TOP_BERLIN order by record_time desc limit 2\", sqlite3.connect(\"UsedObjects.db\"))"
   ]
  },
  {
   "cell_type": "code",
   "execution_count": 3,
   "id": "periodic-identification",
   "metadata": {
    "execution": {
     "iopub.execute_input": "2021-11-03T13:00:09.539562Z",
     "iopub.status.busy": "2021-11-03T13:00:09.537458Z",
     "iopub.status.idle": "2021-11-03T13:00:09.560059Z",
     "shell.execute_reply": "2021-11-03T13:00:09.561515Z"
    },
    "papermill": {
     "duration": 0.07039,
     "end_time": "2021-11-03T13:00:09.562048",
     "exception": false,
     "start_time": "2021-11-03T13:00:09.491658",
     "status": "completed"
    },
    "tags": []
   },
   "outputs": [
    {
     "data": {
      "text/html": [
       "<div>\n",
       "<style scoped>\n",
       "    .dataframe tbody tr th:only-of-type {\n",
       "        vertical-align: middle;\n",
       "    }\n",
       "\n",
       "    .dataframe tbody tr th {\n",
       "        vertical-align: top;\n",
       "    }\n",
       "\n",
       "    .dataframe thead th {\n",
       "        text-align: right;\n",
       "    }\n",
       "</style>\n",
       "<table border=\"1\" class=\"dataframe\">\n",
       "  <thead>\n",
       "    <tr style=\"text-align: right;\">\n",
       "      <th></th>\n",
       "      <th>RECORD_TIME</th>\n",
       "    </tr>\n",
       "  </thead>\n",
       "  <tbody>\n",
       "    <tr>\n",
       "      <th>0</th>\n",
       "      <td>2021-11-03 14:00</td>\n",
       "    </tr>\n",
       "    <tr>\n",
       "      <th>1</th>\n",
       "      <td>2021-11-03 13:30</td>\n",
       "    </tr>\n",
       "  </tbody>\n",
       "</table>\n",
       "</div>"
      ],
      "text/plain": [
       "        RECORD_TIME\n",
       "0  2021-11-03 14:00\n",
       "1  2021-11-03 13:30"
      ]
     },
     "execution_count": 3,
     "metadata": {},
     "output_type": "execute_result"
    }
   ],
   "source": [
    "timestamps"
   ]
  },
  {
   "cell_type": "code",
   "execution_count": 4,
   "id": "alternate-victory",
   "metadata": {
    "execution": {
     "iopub.execute_input": "2021-11-03T13:00:09.616828Z",
     "iopub.status.busy": "2021-11-03T13:00:09.614567Z",
     "iopub.status.idle": "2021-11-03T13:00:10.654146Z",
     "shell.execute_reply": "2021-11-03T13:00:10.655739Z"
    },
    "papermill": {
     "duration": 1.074064,
     "end_time": "2021-11-03T13:00:10.656235",
     "exception": false,
     "start_time": "2021-11-03T13:00:09.582171",
     "status": "completed"
    },
    "tags": []
   },
   "outputs": [],
   "source": [
    "df = pd.read_sql(\"select * from EBAY_TOP_BERLIN where record_time in (select distinct record_time from EBAY_TOP_BERLIN order by record_time desc limit 2)\", sqlite3.connect(\"UsedObjects.db\"))"
   ]
  },
  {
   "cell_type": "code",
   "execution_count": 5,
   "id": "popular-active",
   "metadata": {
    "execution": {
     "iopub.execute_input": "2021-11-03T13:00:10.729428Z",
     "iopub.status.busy": "2021-11-03T13:00:10.720227Z",
     "iopub.status.idle": "2021-11-03T13:00:10.756501Z",
     "shell.execute_reply": "2021-11-03T13:00:10.758054Z"
    },
    "papermill": {
     "duration": 0.079415,
     "end_time": "2021-11-03T13:00:10.758518",
     "exception": false,
     "start_time": "2021-11-03T13:00:10.679103",
     "status": "completed"
    },
    "tags": []
   },
   "outputs": [],
   "source": [
    "df_pivot = df.pivot_table(index=\"PRODUCT\", columns = \"RECORD_TIME\", values = \"LISTING_COUNT\")"
   ]
  },
  {
   "cell_type": "code",
   "execution_count": 6,
   "id": "union-huntington",
   "metadata": {
    "execution": {
     "iopub.execute_input": "2021-11-03T13:00:10.821574Z",
     "iopub.status.busy": "2021-11-03T13:00:10.818460Z",
     "iopub.status.idle": "2021-11-03T13:00:10.826957Z",
     "shell.execute_reply": "2021-11-03T13:00:10.828601Z"
    },
    "papermill": {
     "duration": 0.048369,
     "end_time": "2021-11-03T13:00:10.829190",
     "exception": false,
     "start_time": "2021-11-03T13:00:10.780821",
     "status": "completed"
    },
    "tags": []
   },
   "outputs": [],
   "source": [
    "df_pivot.columns = [\"stamp_1\", \"stamp_2\"]\n",
    "df_pivot_diff = df_pivot.diff(axis=1)"
   ]
  },
  {
   "cell_type": "code",
   "execution_count": 7,
   "id": "fifth-motion",
   "metadata": {
    "execution": {
     "iopub.execute_input": "2021-11-03T13:00:10.888943Z",
     "iopub.status.busy": "2021-11-03T13:00:10.886180Z",
     "iopub.status.idle": "2021-11-03T13:00:12.660132Z",
     "shell.execute_reply": "2021-11-03T13:00:12.661596Z"
    },
    "papermill": {
     "duration": 1.812028,
     "end_time": "2021-11-03T13:00:12.662061",
     "exception": false,
     "start_time": "2021-11-03T13:00:10.850033",
     "status": "completed"
    },
    "tags": []
   },
   "outputs": [
    {
     "data": {
      "text/plain": [
       "<AxesSubplot:ylabel='PRODUCT'>"
      ]
     },
     "execution_count": 7,
     "metadata": {},
     "output_type": "execute_result"
    },
    {
     "data": {
      "image/png": "[encoded data removed]",
      "text/plain": [
       "<Figure size 432x288 with 1 Axes>"
      ]
     },
     "metadata": {
      "needs_background": "light"
     },
     "output_type": "display_data"
    }
   ],
   "source": [
    "df_pivot_diff.sort_values(\"stamp_2\", ascending = False)[\"stamp_2\"].head(10).plot.barh()"
   ]
  },
  {
   "cell_type": "code",
   "execution_count": null,
   "id": "extra-executive",
   "metadata": {
    "papermill": {
     "duration": 0.022083,
     "end_time": "2021-11-03T13:00:12.707947",
     "exception": false,
     "start_time": "2021-11-03T13:00:12.685864",
     "status": "completed"
    },
    "tags": []
   },
   "outputs": [],
   "source": []
  }
 ],
 "metadata": {
  "kernelspec": {
   "display_name": "Python 3",
   "language": "python",
   "name": "python3"
  },
  "language_info": {
   "codemirror_mode": {
    "name": "ipython",
    "version": 3
   },
   "file_extension": ".py",
   "mimetype": "text/x-python",
   "name": "python",
   "nbconvert_exporter": "python",
   "pygments_lexer": "ipython3",
   "version": "3.9.5"
  },
  "papermill": {
   "default_parameters": {},
   "duration": 8.957142,
   "end_time": "2021-11-03T13:00:13.890970",
   "environment_variables": {},
   "exception": null,
   "input_path": "eBay_Overview.ipynb",
   "output_path": "eBay_Overview.ipynb",
   "parameters": {},
   "start_time": "2021-11-03T13:00:04.933828",
   "version": "2.3.3"
  }
 },
 "nbformat": 4,
 "nbformat_minor": 5
}