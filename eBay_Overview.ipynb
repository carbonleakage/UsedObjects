{
 "cells": [
  {
   "cell_type": "code",
   "execution_count": 1,
   "id": "reverse-picking",
   "metadata": {
    "execution": {
     "iopub.execute_input": "2021-10-06T04:30:07.040501Z",
     "iopub.status.busy": "2021-10-06T04:30:07.038472Z",
     "iopub.status.idle": "2021-10-06T04:30:07.844115Z",
     "shell.execute_reply": "2021-10-06T04:30:07.845413Z"
    },
    "papermill": {
     "duration": 0.857696,
     "end_time": "2021-10-06T04:30:07.846031",
     "exception": false,
     "start_time": "2021-10-06T04:30:06.988335",
     "status": "completed"
    },
    "tags": []
   },
   "outputs": [],
   "source": [
    "import pandas as pd\n",
    "import sqlite3"
   ]
  },
  {
   "cell_type": "code",
   "execution_count": 2,
   "id": "innovative-syndrome",
   "metadata": {
    "execution": {
     "iopub.execute_input": "2021-10-06T04:30:07.896152Z",
     "iopub.status.busy": "2021-10-06T04:30:07.894159Z",
     "iopub.status.idle": "2021-10-06T04:30:08.348547Z",
     "shell.execute_reply": "2021-10-06T04:30:08.349766Z"
    },
    "papermill": {
     "duration": 0.483945,
     "end_time": "2021-10-06T04:30:08.350159",
     "exception": false,
     "start_time": "2021-10-06T04:30:07.866214",
     "status": "completed"
    },
    "tags": []
   },
   "outputs": [],
   "source": [
    "timestamps = pd.read_sql(\"select distinct record_time from EBAY_TOP_BERLIN order by record_time desc limit 2\", sqlite3.connect(\"UsedObjects.db\"))"
   ]
  },
  {
   "cell_type": "code",
   "execution_count": 3,
   "id": "periodic-identification",
   "metadata": {
    "execution": {
     "iopub.execute_input": "2021-10-06T04:30:08.415751Z",
     "iopub.status.busy": "2021-10-06T04:30:08.413644Z",
     "iopub.status.idle": "2021-10-06T04:30:08.434266Z",
     "shell.execute_reply": "2021-10-06T04:30:08.435732Z"
    },
    "papermill": {
     "duration": 0.066496,
     "end_time": "2021-10-06T04:30:08.436218",
     "exception": false,
     "start_time": "2021-10-06T04:30:08.369722",
     "status": "completed"
    },
    "tags": []
   },
   "outputs": [
    {
     "data": {
      "text/html": [
       "<div>\n",
       "<style scoped>\n",
       "    .dataframe tbody tr th:only-of-type {\n",
       "        vertical-align: middle;\n",
       "    }\n",
       "\n",
       "    .dataframe tbody tr th {\n",
       "        vertical-align: top;\n",
       "    }\n",
       "\n",
       "    .dataframe thead th {\n",
       "        text-align: right;\n",
       "    }\n",
       "</style>\n",
       "<table border=\"1\" class=\"dataframe\">\n",
       "  <thead>\n",
       "    <tr style=\"text-align: right;\">\n",
       "      <th></th>\n",
       "      <th>RECORD_TIME</th>\n",
       "    </tr>\n",
       "  </thead>\n",
       "  <tbody>\n",
       "    <tr>\n",
       "      <th>0</th>\n",
       "      <td>2021-10-06 06:30</td>\n",
       "    </tr>\n",
       "    <tr>\n",
       "      <th>1</th>\n",
       "      <td>2021-10-06 06:00</td>\n",
       "    </tr>\n",
       "  </tbody>\n",
       "</table>\n",
       "</div>"
      ],
      "text/plain": [
       "        RECORD_TIME\n",
       "0  2021-10-06 06:30\n",
       "1  2021-10-06 06:00"
      ]
     },
     "execution_count": 3,
     "metadata": {},
     "output_type": "execute_result"
    }
   ],
   "source": [
    "timestamps"
   ]
  },
  {
   "cell_type": "code",
   "execution_count": 4,
   "id": "alternate-victory",
   "metadata": {
    "execution": {
     "iopub.execute_input": "2021-10-06T04:30:08.500026Z",
     "iopub.status.busy": "2021-10-06T04:30:08.498048Z",
     "iopub.status.idle": "2021-10-06T04:30:09.176960Z",
     "shell.execute_reply": "2021-10-06T04:30:09.178199Z"
    },
    "papermill": {
     "duration": 0.71428,
     "end_time": "2021-10-06T04:30:09.178602",
     "exception": false,
     "start_time": "2021-10-06T04:30:08.464322",
     "status": "completed"
    },
    "tags": []
   },
   "outputs": [],
   "source": [
    "df = pd.read_sql(\"select * from EBAY_TOP_BERLIN where record_time in (select distinct record_time from EBAY_TOP_BERLIN order by record_time desc limit 2)\", sqlite3.connect(\"UsedObjects.db\"))"
   ]
  },
  {
   "cell_type": "code",
   "execution_count": 5,
   "id": "popular-active",
   "metadata": {
    "execution": {
     "iopub.execute_input": "2021-10-06T04:30:09.247755Z",
     "iopub.status.busy": "2021-10-06T04:30:09.236715Z",
     "iopub.status.idle": "2021-10-06T04:30:09.264466Z",
     "shell.execute_reply": "2021-10-06T04:30:09.265773Z"
    },
    "papermill": {
     "duration": 0.066848,
     "end_time": "2021-10-06T04:30:09.266191",
     "exception": false,
     "start_time": "2021-10-06T04:30:09.199343",
     "status": "completed"
    },
    "tags": []
   },
   "outputs": [],
   "source": [
    "df_pivot = df.pivot_table(index=\"PRODUCT\", columns = \"RECORD_TIME\", values = \"LISTING_COUNT\")"
   ]
  },
  {
   "cell_type": "code",
   "execution_count": 6,
   "id": "union-huntington",
   "metadata": {
    "execution": {
     "iopub.execute_input": "2021-10-06T04:30:09.323249Z",
     "iopub.status.busy": "2021-10-06T04:30:09.321061Z",
     "iopub.status.idle": "2021-10-06T04:30:09.326619Z",
     "shell.execute_reply": "2021-10-06T04:30:09.327914Z"
    },
    "papermill": {
     "duration": 0.04189,
     "end_time": "2021-10-06T04:30:09.328354",
     "exception": false,
     "start_time": "2021-10-06T04:30:09.286464",
     "status": "completed"
    },
    "tags": []
   },
   "outputs": [],
   "source": [
    "df_pivot.columns = [\"stamp_1\", \"stamp_2\"]\n",
    "df_pivot_diff = df_pivot.diff(axis=1)"
   ]
  },
  {
   "cell_type": "code",
   "execution_count": 7,
   "id": "fifth-motion",
   "metadata": {
    "execution": {
     "iopub.execute_input": "2021-10-06T04:30:09.386320Z",
     "iopub.status.busy": "2021-10-06T04:30:09.383658Z",
     "iopub.status.idle": "2021-10-06T04:30:10.868350Z",
     "shell.execute_reply": "2021-10-06T04:30:10.869553Z"
    },
    "papermill": {
     "duration": 1.518475,
     "end_time": "2021-10-06T04:30:10.869988",
     "exception": false,
     "start_time": "2021-10-06T04:30:09.351513",
     "status": "completed"
    },
    "tags": []
   },
   "outputs": [
    {
     "data": {
      "text/plain": [
       "<AxesSubplot:ylabel='PRODUCT'>"
      ]
     },
     "execution_count": 7,
     "metadata": {},
     "output_type": "execute_result"
    },
    {
     "data": {
      "image/png": "[encoded data removed]",
      "text/plain": [
       "<Figure size 432x288 with 1 Axes>"
      ]
     },
     "metadata": {
      "needs_background": "light"
     },
     "output_type": "display_data"
    }
   ],
   "source": [
    "df_pivot_diff.sort_values(\"stamp_2\", ascending = False)[\"stamp_2\"].head(10).plot.barh()"
   ]
  },
  {
   "cell_type": "code",
   "execution_count": null,
   "id": "extra-executive",
   "metadata": {
    "papermill": {
     "duration": 0.022286,
     "end_time": "2021-10-06T04:30:10.918078",
     "exception": false,
     "start_time": "2021-10-06T04:30:10.895792",
     "status": "completed"
    },
    "tags": []
   },
   "outputs": [],
   "source": []
  }
 ],
 "metadata": {
  "kernelspec": {
   "display_name": "Python 3",
   "language": "python",
   "name": "python3"
  },
  "language_info": {
   "codemirror_mode": {
    "name": "ipython",
    "version": 3
   },
   "file_extension": ".py",
   "mimetype": "text/x-python",
   "name": "python",
   "nbconvert_exporter": "python",
   "pygments_lexer": "ipython3",
   "version": "3.9.5"
  },
  "papermill": {
   "default_parameters": {},
   "duration": 7.822219,
   "end_time": "2021-10-06T04:30:12.401227",
   "environment_variables": {},
   "exception": null,
   "input_path": "eBay_Overview.ipynb",
   "output_path": "eBay_Overview.ipynb",
   "parameters": {},
   "start_time": "2021-10-06T04:30:04.579008",
   "version": "2.3.3"
  }
 },
 "nbformat": 4,
 "nbformat_minor": 5
}