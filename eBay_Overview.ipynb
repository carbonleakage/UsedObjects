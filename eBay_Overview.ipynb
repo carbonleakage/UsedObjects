{
 "cells": [
  {
   "cell_type": "code",
   "execution_count": 1,
   "id": "reverse-picking",
   "metadata": {
    "execution": {
     "iopub.execute_input": "2021-12-17T07:00:07.085596Z",
     "iopub.status.busy": "2021-12-17T07:00:07.082860Z",
     "iopub.status.idle": "2021-12-17T07:00:08.041272Z",
     "shell.execute_reply": "2021-12-17T07:00:08.042811Z"
    },
    "papermill": {
     "duration": 1.009692,
     "end_time": "2021-12-17T07:00:08.043550",
     "exception": false,
     "start_time": "2021-12-17T07:00:07.033858",
     "status": "completed"
    },
    "tags": []
   },
   "outputs": [],
   "source": [
    "import pandas as pd\n",
    "import sqlite3"
   ]
  },
  {
   "cell_type": "code",
   "execution_count": 2,
   "id": "innovative-syndrome",
   "metadata": {
    "execution": {
     "iopub.execute_input": "2021-12-17T07:00:08.104799Z",
     "iopub.status.busy": "2021-12-17T07:00:08.102477Z",
     "iopub.status.idle": "2021-12-17T07:00:09.214322Z",
     "shell.execute_reply": "2021-12-17T07:00:09.215553Z"
    },
    "papermill": {
     "duration": 1.1455,
     "end_time": "2021-12-17T07:00:09.215957",
     "exception": false,
     "start_time": "2021-12-17T07:00:08.070457",
     "status": "completed"
    },
    "tags": []
   },
   "outputs": [],
   "source": [
    "timestamps = pd.read_sql(\"select distinct record_time from EBAY_TOP_BERLIN order by record_time desc limit 2\", sqlite3.connect(\"UsedObjects.db\"))"
   ]
  },
  {
   "cell_type": "code",
   "execution_count": 3,
   "id": "periodic-identification",
   "metadata": {
    "execution": {
     "iopub.execute_input": "2021-12-17T07:00:09.281576Z",
     "iopub.status.busy": "2021-12-17T07:00:09.279479Z",
     "iopub.status.idle": "2021-12-17T07:00:09.300606Z",
     "shell.execute_reply": "2021-12-17T07:00:09.301984Z"
    },
    "papermill": {
     "duration": 0.066928,
     "end_time": "2021-12-17T07:00:09.302443",
     "exception": false,
     "start_time": "2021-12-17T07:00:09.235515",
     "status": "completed"
    },
    "tags": []
   },
   "outputs": [
    {
     "data": {
      "text/html": [
       "<div>\n",
       "<style scoped>\n",
       "    .dataframe tbody tr th:only-of-type {\n",
       "        vertical-align: middle;\n",
       "    }\n",
       "\n",
       "    .dataframe tbody tr th {\n",
       "        vertical-align: top;\n",
       "    }\n",
       "\n",
       "    .dataframe thead th {\n",
       "        text-align: right;\n",
       "    }\n",
       "</style>\n",
       "<table border=\"1\" class=\"dataframe\">\n",
       "  <thead>\n",
       "    <tr style=\"text-align: right;\">\n",
       "      <th></th>\n",
       "      <th>RECORD_TIME</th>\n",
       "    </tr>\n",
       "  </thead>\n",
       "  <tbody>\n",
       "    <tr>\n",
       "      <th>0</th>\n",
       "      <td>2021-12-17 08:00</td>\n",
       "    </tr>\n",
       "    <tr>\n",
       "      <th>1</th>\n",
       "      <td>2021-12-17 07:30</td>\n",
       "    </tr>\n",
       "  </tbody>\n",
       "</table>\n",
       "</div>"
      ],
      "text/plain": [
       "        RECORD_TIME\n",
       "0  2021-12-17 08:00\n",
       "1  2021-12-17 07:30"
      ]
     },
     "execution_count": 3,
     "metadata": {},
     "output_type": "execute_result"
    }
   ],
   "source": [
    "timestamps"
   ]
  },
  {
   "cell_type": "code",
   "execution_count": 4,
   "id": "alternate-victory",
   "metadata": {
    "execution": {
     "iopub.execute_input": "2021-12-17T07:00:09.354217Z",
     "iopub.status.busy": "2021-12-17T07:00:09.352238Z",
     "iopub.status.idle": "2021-12-17T07:00:10.967972Z",
     "shell.execute_reply": "2021-12-17T07:00:10.969886Z"
    },
    "papermill": {
     "duration": 1.64624,
     "end_time": "2021-12-17T07:00:10.970368",
     "exception": false,
     "start_time": "2021-12-17T07:00:09.324128",
     "status": "completed"
    },
    "tags": []
   },
   "outputs": [],
   "source": [
    "df = pd.read_sql(\"select * from EBAY_TOP_BERLIN where record_time in (select distinct record_time from EBAY_TOP_BERLIN order by record_time desc limit 2)\", sqlite3.connect(\"UsedObjects.db\"))"
   ]
  },
  {
   "cell_type": "code",
   "execution_count": 5,
   "id": "popular-active",
   "metadata": {
    "execution": {
     "iopub.execute_input": "2021-12-17T07:00:11.046463Z",
     "iopub.status.busy": "2021-12-17T07:00:11.033011Z",
     "iopub.status.idle": "2021-12-17T07:00:11.065876Z",
     "shell.execute_reply": "2021-12-17T07:00:11.064246Z"
    },
    "papermill": {
     "duration": 0.073532,
     "end_time": "2021-12-17T07:00:11.066275",
     "exception": false,
     "start_time": "2021-12-17T07:00:10.992743",
     "status": "completed"
    },
    "tags": []
   },
   "outputs": [],
   "source": [
    "df_pivot = df.pivot_table(index=\"PRODUCT\", columns = \"RECORD_TIME\", values = \"LISTING_COUNT\")"
   ]
  },
  {
   "cell_type": "code",
   "execution_count": 6,
   "id": "union-huntington",
   "metadata": {
    "execution": {
     "iopub.execute_input": "2021-12-17T07:00:11.122402Z",
     "iopub.status.busy": "2021-12-17T07:00:11.119652Z",
     "iopub.status.idle": "2021-12-17T07:00:11.129886Z",
     "shell.execute_reply": "2021-12-17T07:00:11.131507Z"
    },
    "papermill": {
     "duration": 0.046054,
     "end_time": "2021-12-17T07:00:11.132054",
     "exception": false,
     "start_time": "2021-12-17T07:00:11.086000",
     "status": "completed"
    },
    "tags": []
   },
   "outputs": [],
   "source": [
    "df_pivot.columns = [\"stamp_1\", \"stamp_2\"]\n",
    "df_pivot_diff = df_pivot.diff(axis=1)"
   ]
  },
  {
   "cell_type": "code",
   "execution_count": 7,
   "id": "fifth-motion",
   "metadata": {
    "execution": {
     "iopub.execute_input": "2021-12-17T07:00:11.191171Z",
     "iopub.status.busy": "2021-12-17T07:00:11.188670Z",
     "iopub.status.idle": "2021-12-17T07:00:13.175556Z",
     "shell.execute_reply": "2021-12-17T07:00:13.177058Z"
    },
    "papermill": {
     "duration": 2.022248,
     "end_time": "2021-12-17T07:00:13.177543",
     "exception": false,
     "start_time": "2021-12-17T07:00:11.155295",
     "status": "completed"
    },
    "tags": []
   },
   "outputs": [
    {
     "data": {
      "text/plain": [
       "<AxesSubplot:ylabel='PRODUCT'>"
      ]
     },
     "execution_count": 7,
     "metadata": {},
     "output_type": "execute_result"
    },
    {
     "data": {
      "image/png": "[encoded data removed]",
      "text/plain": [
       "<Figure size 432x288 with 1 Axes>"
      ]
     },
     "metadata": {
      "needs_background": "light"
     },
     "output_type": "display_data"
    }
   ],
   "source": [
    "df_pivot_diff.sort_values(\"stamp_2\", ascending = False)[\"stamp_2\"].head(10).plot.barh()"
   ]
  },
  {
   "cell_type": "code",
   "execution_count": null,
   "id": "extra-executive",
   "metadata": {
    "papermill": {
     "duration": 0.028502,
     "end_time": "2021-12-17T07:00:13.240537",
     "exception": false,
     "start_time": "2021-12-17T07:00:13.212035",
     "status": "completed"
    },
    "tags": []
   },
   "outputs": [],
   "source": []
  }
 ],
 "metadata": {
  "kernelspec": {
   "display_name": "Python 3",
   "language": "python",
   "name": "python3"
  },
  "language_info": {
   "codemirror_mode": {
    "name": "ipython",
    "version": 3
   },
   "file_extension": ".py",
   "mimetype": "text/x-python",
   "name": "python",
   "nbconvert_exporter": "python",
   "pygments_lexer": "ipython3",
   "version": "3.9.5"
  },
  "papermill": {
   "default_parameters": {},
   "duration": 9.571676,
   "end_time": "2021-12-17T07:00:13.887054",
   "environment_variables": {},
   "exception": null,
   "input_path": "eBay_Overview.ipynb",
   "output_path": "eBay_Overview.ipynb",
   "parameters": {},
   "start_time": "2021-12-17T07:00:04.315378",
   "version": "2.3.3"
  }
 },
 "nbformat": 4,
 "nbformat_minor": 5
}