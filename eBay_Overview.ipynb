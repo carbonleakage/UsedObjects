{
 "cells": [
  {
   "cell_type": "code",
   "execution_count": 1,
   "id": "reverse-picking",
   "metadata": {
    "execution": {
     "iopub.execute_input": "2021-09-14T19:30:07.276485Z",
     "iopub.status.busy": "2021-09-14T19:30:07.274382Z",
     "iopub.status.idle": "2021-09-14T19:30:08.080461Z",
     "shell.execute_reply": "2021-09-14T19:30:08.081883Z"
    },
    "papermill": {
     "duration": 0.856874,
     "end_time": "2021-09-14T19:30:08.082551",
     "exception": false,
     "start_time": "2021-09-14T19:30:07.225677",
     "status": "completed"
    },
    "tags": []
   },
   "outputs": [],
   "source": [
    "import pandas as pd\n",
    "import sqlite3"
   ]
  },
  {
   "cell_type": "code",
   "execution_count": 2,
   "id": "innovative-syndrome",
   "metadata": {
    "execution": {
     "iopub.execute_input": "2021-09-14T19:30:08.133556Z",
     "iopub.status.busy": "2021-09-14T19:30:08.131376Z",
     "iopub.status.idle": "2021-09-14T19:30:08.418537Z",
     "shell.execute_reply": "2021-09-14T19:30:08.416855Z"
    },
    "papermill": {
     "duration": 0.316017,
     "end_time": "2021-09-14T19:30:08.418938",
     "exception": false,
     "start_time": "2021-09-14T19:30:08.102921",
     "status": "completed"
    },
    "tags": []
   },
   "outputs": [],
   "source": [
    "timestamps = pd.read_sql(\"select distinct record_time from EBAY_TOP_BERLIN order by record_time desc limit 2\", sqlite3.connect(\"UsedObjects.db\"))"
   ]
  },
  {
   "cell_type": "code",
   "execution_count": 3,
   "id": "periodic-identification",
   "metadata": {
    "execution": {
     "iopub.execute_input": "2021-09-14T19:30:08.488810Z",
     "iopub.status.busy": "2021-09-14T19:30:08.483687Z",
     "iopub.status.idle": "2021-09-14T19:30:08.503659Z",
     "shell.execute_reply": "2021-09-14T19:30:08.504956Z"
    },
    "papermill": {
     "duration": 0.066975,
     "end_time": "2021-09-14T19:30:08.505361",
     "exception": false,
     "start_time": "2021-09-14T19:30:08.438386",
     "status": "completed"
    },
    "tags": []
   },
   "outputs": [
    {
     "data": {
      "text/html": [
       "<div>\n",
       "<style scoped>\n",
       "    .dataframe tbody tr th:only-of-type {\n",
       "        vertical-align: middle;\n",
       "    }\n",
       "\n",
       "    .dataframe tbody tr th {\n",
       "        vertical-align: top;\n",
       "    }\n",
       "\n",
       "    .dataframe thead th {\n",
       "        text-align: right;\n",
       "    }\n",
       "</style>\n",
       "<table border=\"1\" class=\"dataframe\">\n",
       "  <thead>\n",
       "    <tr style=\"text-align: right;\">\n",
       "      <th></th>\n",
       "      <th>RECORD_TIME</th>\n",
       "    </tr>\n",
       "  </thead>\n",
       "  <tbody>\n",
       "    <tr>\n",
       "      <th>0</th>\n",
       "      <td>2021-09-14 21:30</td>\n",
       "    </tr>\n",
       "    <tr>\n",
       "      <th>1</th>\n",
       "      <td>2021-09-14 21:00</td>\n",
       "    </tr>\n",
       "  </tbody>\n",
       "</table>\n",
       "</div>"
      ],
      "text/plain": [
       "        RECORD_TIME\n",
       "0  2021-09-14 21:30\n",
       "1  2021-09-14 21:00"
      ]
     },
     "execution_count": 3,
     "metadata": {},
     "output_type": "execute_result"
    }
   ],
   "source": [
    "timestamps"
   ]
  },
  {
   "cell_type": "code",
   "execution_count": 4,
   "id": "alternate-victory",
   "metadata": {
    "execution": {
     "iopub.execute_input": "2021-09-14T19:30:08.557157Z",
     "iopub.status.busy": "2021-09-14T19:30:08.554992Z",
     "iopub.status.idle": "2021-09-14T19:30:08.977511Z",
     "shell.execute_reply": "2021-09-14T19:30:08.978787Z"
    },
    "papermill": {
     "duration": 0.452523,
     "end_time": "2021-09-14T19:30:08.979280",
     "exception": false,
     "start_time": "2021-09-14T19:30:08.526757",
     "status": "completed"
    },
    "tags": []
   },
   "outputs": [],
   "source": [
    "df = pd.read_sql(\"select * from EBAY_TOP_BERLIN where record_time in (select distinct record_time from EBAY_TOP_BERLIN order by record_time desc limit 2)\", sqlite3.connect(\"UsedObjects.db\"))"
   ]
  },
  {
   "cell_type": "code",
   "execution_count": 5,
   "id": "popular-active",
   "metadata": {
    "execution": {
     "iopub.execute_input": "2021-09-14T19:30:09.059167Z",
     "iopub.status.busy": "2021-09-14T19:30:09.046835Z",
     "iopub.status.idle": "2021-09-14T19:30:09.076640Z",
     "shell.execute_reply": "2021-09-14T19:30:09.077932Z"
    },
    "papermill": {
     "duration": 0.072834,
     "end_time": "2021-09-14T19:30:09.078346",
     "exception": false,
     "start_time": "2021-09-14T19:30:09.005512",
     "status": "completed"
    },
    "tags": []
   },
   "outputs": [],
   "source": [
    "df_pivot = df.pivot_table(index=\"PRODUCT\", columns = \"RECORD_TIME\", values = \"LISTING_COUNT\")"
   ]
  },
  {
   "cell_type": "code",
   "execution_count": 6,
   "id": "union-huntington",
   "metadata": {
    "execution": {
     "iopub.execute_input": "2021-09-14T19:30:09.134719Z",
     "iopub.status.busy": "2021-09-14T19:30:09.132648Z",
     "iopub.status.idle": "2021-09-14T19:30:09.138126Z",
     "shell.execute_reply": "2021-09-14T19:30:09.139488Z"
    },
    "papermill": {
     "duration": 0.04152,
     "end_time": "2021-09-14T19:30:09.139913",
     "exception": false,
     "start_time": "2021-09-14T19:30:09.098393",
     "status": "completed"
    },
    "tags": []
   },
   "outputs": [],
   "source": [
    "df_pivot.columns = [\"stamp_1\", \"stamp_2\"]\n",
    "df_pivot_diff = df_pivot.diff(axis=1)"
   ]
  },
  {
   "cell_type": "code",
   "execution_count": 7,
   "id": "fifth-motion",
   "metadata": {
    "execution": {
     "iopub.execute_input": "2021-09-14T19:30:09.194776Z",
     "iopub.status.busy": "2021-09-14T19:30:09.192408Z",
     "iopub.status.idle": "2021-09-14T19:30:10.695454Z",
     "shell.execute_reply": "2021-09-14T19:30:10.696841Z"
    },
    "papermill": {
     "duration": 1.535894,
     "end_time": "2021-09-14T19:30:10.697258",
     "exception": false,
     "start_time": "2021-09-14T19:30:09.161364",
     "status": "completed"
    },
    "tags": []
   },
   "outputs": [
    {
     "data": {
      "text/plain": [
       "<AxesSubplot:ylabel='PRODUCT'>"
      ]
     },
     "execution_count": 7,
     "metadata": {},
     "output_type": "execute_result"
    },
    {
     "data": {
      "image/png": "[encoded data removed]",
      "text/plain": [
       "<Figure size 432x288 with 1 Axes>"
      ]
     },
     "metadata": {
      "needs_background": "light"
     },
     "output_type": "display_data"
    }
   ],
   "source": [
    "df_pivot_diff.sort_values(\"stamp_2\", ascending = False)[\"stamp_2\"].head(10).plot.barh()"
   ]
  },
  {
   "cell_type": "code",
   "execution_count": null,
   "id": "extra-executive",
   "metadata": {
    "papermill": {
     "duration": 0.022111,
     "end_time": "2021-09-14T19:30:10.743872",
     "exception": false,
     "start_time": "2021-09-14T19:30:10.721761",
     "status": "completed"
    },
    "tags": []
   },
   "outputs": [],
   "source": []
  }
 ],
 "metadata": {
  "kernelspec": {
   "display_name": "Python 3",
   "language": "python",
   "name": "python3"
  },
  "language_info": {
   "codemirror_mode": {
    "name": "ipython",
    "version": 3
   },
   "file_extension": ".py",
   "mimetype": "text/x-python",
   "name": "python",
   "nbconvert_exporter": "python",
   "pygments_lexer": "ipython3",
   "version": "3.9.5"
  },
  "papermill": {
   "default_parameters": {},
   "duration": 6.568267,
   "end_time": "2021-09-14T19:30:11.387342",
   "environment_variables": {},
   "exception": null,
   "input_path": "eBay_Overview.ipynb",
   "output_path": "eBay_Overview.ipynb",
   "parameters": {},
   "start_time": "2021-09-14T19:30:04.819075",
   "version": "2.3.3"
  }
 },
 "nbformat": 4,
 "nbformat_minor": 5
}