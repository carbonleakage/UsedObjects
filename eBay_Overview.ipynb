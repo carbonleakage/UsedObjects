{
 "cells": [
  {
   "cell_type": "code",
   "execution_count": 1,
   "id": "reverse-picking",
   "metadata": {
    "execution": {
     "iopub.execute_input": "2021-10-29T00:00:07.122785Z",
     "iopub.status.busy": "2021-10-29T00:00:07.120731Z",
     "iopub.status.idle": "2021-10-29T00:00:07.924583Z",
     "shell.execute_reply": "2021-10-29T00:00:07.925962Z"
    },
    "papermill": {
     "duration": 0.854926,
     "end_time": "2021-10-29T00:00:07.926578",
     "exception": false,
     "start_time": "2021-10-29T00:00:07.071652",
     "status": "completed"
    },
    "tags": []
   },
   "outputs": [],
   "source": [
    "import pandas as pd\n",
    "import sqlite3"
   ]
  },
  {
   "cell_type": "code",
   "execution_count": 2,
   "id": "innovative-syndrome",
   "metadata": {
    "execution": {
     "iopub.execute_input": "2021-10-29T00:00:07.977894Z",
     "iopub.status.busy": "2021-10-29T00:00:07.975890Z",
     "iopub.status.idle": "2021-10-29T00:00:08.644086Z",
     "shell.execute_reply": "2021-10-29T00:00:08.645337Z"
    },
    "papermill": {
     "duration": 0.697774,
     "end_time": "2021-10-29T00:00:08.645766",
     "exception": false,
     "start_time": "2021-10-29T00:00:07.947992",
     "status": "completed"
    },
    "tags": []
   },
   "outputs": [],
   "source": [
    "timestamps = pd.read_sql(\"select distinct record_time from EBAY_TOP_BERLIN order by record_time desc limit 2\", sqlite3.connect(\"UsedObjects.db\"))"
   ]
  },
  {
   "cell_type": "code",
   "execution_count": 3,
   "id": "periodic-identification",
   "metadata": {
    "execution": {
     "iopub.execute_input": "2021-10-29T00:00:08.730730Z",
     "iopub.status.busy": "2021-10-29T00:00:08.728609Z",
     "iopub.status.idle": "2021-10-29T00:00:08.749937Z",
     "shell.execute_reply": "2021-10-29T00:00:08.751245Z"
    },
    "papermill": {
     "duration": 0.072078,
     "end_time": "2021-10-29T00:00:08.751662",
     "exception": false,
     "start_time": "2021-10-29T00:00:08.679584",
     "status": "completed"
    },
    "tags": []
   },
   "outputs": [
    {
     "data": {
      "text/html": [
       "<div>\n",
       "<style scoped>\n",
       "    .dataframe tbody tr th:only-of-type {\n",
       "        vertical-align: middle;\n",
       "    }\n",
       "\n",
       "    .dataframe tbody tr th {\n",
       "        vertical-align: top;\n",
       "    }\n",
       "\n",
       "    .dataframe thead th {\n",
       "        text-align: right;\n",
       "    }\n",
       "</style>\n",
       "<table border=\"1\" class=\"dataframe\">\n",
       "  <thead>\n",
       "    <tr style=\"text-align: right;\">\n",
       "      <th></th>\n",
       "      <th>RECORD_TIME</th>\n",
       "    </tr>\n",
       "  </thead>\n",
       "  <tbody>\n",
       "    <tr>\n",
       "      <th>0</th>\n",
       "      <td>2021-10-29 02:00</td>\n",
       "    </tr>\n",
       "    <tr>\n",
       "      <th>1</th>\n",
       "      <td>2021-10-29 01:30</td>\n",
       "    </tr>\n",
       "  </tbody>\n",
       "</table>\n",
       "</div>"
      ],
      "text/plain": [
       "        RECORD_TIME\n",
       "0  2021-10-29 02:00\n",
       "1  2021-10-29 01:30"
      ]
     },
     "execution_count": 3,
     "metadata": {},
     "output_type": "execute_result"
    }
   ],
   "source": [
    "timestamps"
   ]
  },
  {
   "cell_type": "code",
   "execution_count": 4,
   "id": "alternate-victory",
   "metadata": {
    "execution": {
     "iopub.execute_input": "2021-10-29T00:00:08.802299Z",
     "iopub.status.busy": "2021-10-29T00:00:08.800341Z",
     "iopub.status.idle": "2021-10-29T00:00:09.787154Z",
     "shell.execute_reply": "2021-10-29T00:00:09.785649Z"
    },
    "papermill": {
     "duration": 1.01539,
     "end_time": "2021-10-29T00:00:09.787531",
     "exception": false,
     "start_time": "2021-10-29T00:00:08.772141",
     "status": "completed"
    },
    "tags": []
   },
   "outputs": [],
   "source": [
    "df = pd.read_sql(\"select * from EBAY_TOP_BERLIN where record_time in (select distinct record_time from EBAY_TOP_BERLIN order by record_time desc limit 2)\", sqlite3.connect(\"UsedObjects.db\"))"
   ]
  },
  {
   "cell_type": "code",
   "execution_count": 5,
   "id": "popular-active",
   "metadata": {
    "execution": {
     "iopub.execute_input": "2021-10-29T00:00:09.856674Z",
     "iopub.status.busy": "2021-10-29T00:00:09.846025Z",
     "iopub.status.idle": "2021-10-29T00:00:09.873308Z",
     "shell.execute_reply": "2021-10-29T00:00:09.874536Z"
    },
    "papermill": {
     "duration": 0.066418,
     "end_time": "2021-10-29T00:00:09.874935",
     "exception": false,
     "start_time": "2021-10-29T00:00:09.808517",
     "status": "completed"
    },
    "tags": []
   },
   "outputs": [],
   "source": [
    "df_pivot = df.pivot_table(index=\"PRODUCT\", columns = \"RECORD_TIME\", values = \"LISTING_COUNT\")"
   ]
  },
  {
   "cell_type": "code",
   "execution_count": 6,
   "id": "union-huntington",
   "metadata": {
    "execution": {
     "iopub.execute_input": "2021-10-29T00:00:09.934957Z",
     "iopub.status.busy": "2021-10-29T00:00:09.932469Z",
     "iopub.status.idle": "2021-10-29T00:00:09.938440Z",
     "shell.execute_reply": "2021-10-29T00:00:09.939718Z"
    },
    "papermill": {
     "duration": 0.042088,
     "end_time": "2021-10-29T00:00:09.940136",
     "exception": false,
     "start_time": "2021-10-29T00:00:09.898048",
     "status": "completed"
    },
    "tags": []
   },
   "outputs": [],
   "source": [
    "df_pivot.columns = [\"stamp_1\", \"stamp_2\"]\n",
    "df_pivot_diff = df_pivot.diff(axis=1)"
   ]
  },
  {
   "cell_type": "code",
   "execution_count": 7,
   "id": "fifth-motion",
   "metadata": {
    "execution": {
     "iopub.execute_input": "2021-10-29T00:00:09.995102Z",
     "iopub.status.busy": "2021-10-29T00:00:09.992648Z",
     "iopub.status.idle": "2021-10-29T00:00:11.501427Z",
     "shell.execute_reply": "2021-10-29T00:00:11.502811Z"
    },
    "papermill": {
     "duration": 1.542396,
     "end_time": "2021-10-29T00:00:11.503254",
     "exception": false,
     "start_time": "2021-10-29T00:00:09.960858",
     "status": "completed"
    },
    "tags": []
   },
   "outputs": [
    {
     "data": {
      "text/plain": [
       "<AxesSubplot:ylabel='PRODUCT'>"
      ]
     },
     "execution_count": 7,
     "metadata": {},
     "output_type": "execute_result"
    },
    {
     "data": {
      "image/png": "[encoded data removed]",
      "text/plain": [
       "<Figure size 432x288 with 1 Axes>"
      ]
     },
     "metadata": {
      "needs_background": "light"
     },
     "output_type": "display_data"
    }
   ],
   "source": [
    "df_pivot_diff.sort_values(\"stamp_2\", ascending = False)[\"stamp_2\"].head(10).plot.barh()"
   ]
  },
  {
   "cell_type": "code",
   "execution_count": null,
   "id": "extra-executive",
   "metadata": {
    "papermill": {
     "duration": 0.022158,
     "end_time": "2021-10-29T00:00:11.549960",
     "exception": false,
     "start_time": "2021-10-29T00:00:11.527802",
     "status": "completed"
    },
    "tags": []
   },
   "outputs": [],
   "source": []
  }
 ],
 "metadata": {
  "kernelspec": {
   "display_name": "Python 3",
   "language": "python",
   "name": "python3"
  },
  "language_info": {
   "codemirror_mode": {
    "name": "ipython",
    "version": 3
   },
   "file_extension": ".py",
   "mimetype": "text/x-python",
   "name": "python",
   "nbconvert_exporter": "python",
   "pygments_lexer": "ipython3",
   "version": "3.9.5"
  },
  "papermill": {
   "default_parameters": {},
   "duration": 7.530879,
   "end_time": "2021-10-29T00:00:12.193765",
   "environment_variables": {},
   "exception": null,
   "input_path": "eBay_Overview.ipynb",
   "output_path": "eBay_Overview.ipynb",
   "parameters": {},
   "start_time": "2021-10-29T00:00:04.662886",
   "version": "2.3.3"
  }
 },
 "nbformat": 4,
 "nbformat_minor": 5
}