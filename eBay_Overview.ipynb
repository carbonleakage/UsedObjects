{
 "cells": [
  {
   "cell_type": "code",
   "execution_count": 1,
   "id": "reverse-picking",
   "metadata": {
    "execution": {
     "iopub.execute_input": "2021-11-11T06:30:07.469341Z",
     "iopub.status.busy": "2021-11-11T06:30:07.466970Z",
     "iopub.status.idle": "2021-11-11T06:30:08.418058Z",
     "shell.execute_reply": "2021-11-11T06:30:08.419621Z"
    },
    "papermill": {
     "duration": 1.00272,
     "end_time": "2021-11-11T06:30:08.420353",
     "exception": false,
     "start_time": "2021-11-11T06:30:07.417633",
     "status": "completed"
    },
    "tags": []
   },
   "outputs": [],
   "source": [
    "import pandas as pd\n",
    "import sqlite3"
   ]
  },
  {
   "cell_type": "code",
   "execution_count": 2,
   "id": "innovative-syndrome",
   "metadata": {
    "execution": {
     "iopub.execute_input": "2021-11-11T06:30:08.483391Z",
     "iopub.status.busy": "2021-11-11T06:30:08.481032Z",
     "iopub.status.idle": "2021-11-11T06:30:09.286358Z",
     "shell.execute_reply": "2021-11-11T06:30:09.287874Z"
    },
    "papermill": {
     "duration": 0.840508,
     "end_time": "2021-11-11T06:30:09.288394",
     "exception": false,
     "start_time": "2021-11-11T06:30:08.447886",
     "status": "completed"
    },
    "tags": []
   },
   "outputs": [],
   "source": [
    "timestamps = pd.read_sql(\"select distinct record_time from EBAY_TOP_BERLIN order by record_time desc limit 2\", sqlite3.connect(\"UsedObjects.db\"))"
   ]
  },
  {
   "cell_type": "code",
   "execution_count": 3,
   "id": "periodic-identification",
   "metadata": {
    "execution": {
     "iopub.execute_input": "2021-11-11T06:30:09.365088Z",
     "iopub.status.busy": "2021-11-11T06:30:09.358352Z",
     "iopub.status.idle": "2021-11-11T06:30:09.383420Z",
     "shell.execute_reply": "2021-11-11T06:30:09.385058Z"
    },
    "papermill": {
     "duration": 0.076648,
     "end_time": "2021-11-11T06:30:09.385573",
     "exception": false,
     "start_time": "2021-11-11T06:30:09.308925",
     "status": "completed"
    },
    "tags": []
   },
   "outputs": [
    {
     "data": {
      "text/html": [
       "<div>\n",
       "<style scoped>\n",
       "    .dataframe tbody tr th:only-of-type {\n",
       "        vertical-align: middle;\n",
       "    }\n",
       "\n",
       "    .dataframe tbody tr th {\n",
       "        vertical-align: top;\n",
       "    }\n",
       "\n",
       "    .dataframe thead th {\n",
       "        text-align: right;\n",
       "    }\n",
       "</style>\n",
       "<table border=\"1\" class=\"dataframe\">\n",
       "  <thead>\n",
       "    <tr style=\"text-align: right;\">\n",
       "      <th></th>\n",
       "      <th>RECORD_TIME</th>\n",
       "    </tr>\n",
       "  </thead>\n",
       "  <tbody>\n",
       "    <tr>\n",
       "      <th>0</th>\n",
       "      <td>2021-11-11 07:30</td>\n",
       "    </tr>\n",
       "    <tr>\n",
       "      <th>1</th>\n",
       "      <td>2021-11-11 07:00</td>\n",
       "    </tr>\n",
       "  </tbody>\n",
       "</table>\n",
       "</div>"
      ],
      "text/plain": [
       "        RECORD_TIME\n",
       "0  2021-11-11 07:30\n",
       "1  2021-11-11 07:00"
      ]
     },
     "execution_count": 3,
     "metadata": {},
     "output_type": "execute_result"
    }
   ],
   "source": [
    "timestamps"
   ]
  },
  {
   "cell_type": "code",
   "execution_count": 4,
   "id": "alternate-victory",
   "metadata": {
    "execution": {
     "iopub.execute_input": "2021-11-11T06:30:09.442767Z",
     "iopub.status.busy": "2021-11-11T06:30:09.440209Z",
     "iopub.status.idle": "2021-11-11T06:30:10.581428Z",
     "shell.execute_reply": "2021-11-11T06:30:10.582912Z"
    },
    "papermill": {
     "duration": 1.175848,
     "end_time": "2021-11-11T06:30:10.583376",
     "exception": false,
     "start_time": "2021-11-11T06:30:09.407528",
     "status": "completed"
    },
    "tags": []
   },
   "outputs": [],
   "source": [
    "df = pd.read_sql(\"select * from EBAY_TOP_BERLIN where record_time in (select distinct record_time from EBAY_TOP_BERLIN order by record_time desc limit 2)\", sqlite3.connect(\"UsedObjects.db\"))"
   ]
  },
  {
   "cell_type": "code",
   "execution_count": 5,
   "id": "popular-active",
   "metadata": {
    "execution": {
     "iopub.execute_input": "2021-11-11T06:30:10.657691Z",
     "iopub.status.busy": "2021-11-11T06:30:10.644972Z",
     "iopub.status.idle": "2021-11-11T06:30:10.676917Z",
     "shell.execute_reply": "2021-11-11T06:30:10.678527Z"
    },
    "papermill": {
     "duration": 0.074883,
     "end_time": "2021-11-11T06:30:10.679009",
     "exception": false,
     "start_time": "2021-11-11T06:30:10.604126",
     "status": "completed"
    },
    "tags": []
   },
   "outputs": [],
   "source": [
    "df_pivot = df.pivot_table(index=\"PRODUCT\", columns = \"RECORD_TIME\", values = \"LISTING_COUNT\")"
   ]
  },
  {
   "cell_type": "code",
   "execution_count": 6,
   "id": "union-huntington",
   "metadata": {
    "execution": {
     "iopub.execute_input": "2021-11-11T06:30:10.757094Z",
     "iopub.status.busy": "2021-11-11T06:30:10.753317Z",
     "iopub.status.idle": "2021-11-11T06:30:10.763895Z",
     "shell.execute_reply": "2021-11-11T06:30:10.766472Z"
    },
    "papermill": {
     "duration": 0.067063,
     "end_time": "2021-11-11T06:30:10.767303",
     "exception": false,
     "start_time": "2021-11-11T06:30:10.700240",
     "status": "completed"
    },
    "tags": []
   },
   "outputs": [],
   "source": [
    "df_pivot.columns = [\"stamp_1\", \"stamp_2\"]\n",
    "df_pivot_diff = df_pivot.diff(axis=1)"
   ]
  },
  {
   "cell_type": "code",
   "execution_count": 7,
   "id": "fifth-motion",
   "metadata": {
    "execution": {
     "iopub.execute_input": "2021-11-11T06:30:10.837164Z",
     "iopub.status.busy": "2021-11-11T06:30:10.834473Z",
     "iopub.status.idle": "2021-11-11T06:30:12.588673Z",
     "shell.execute_reply": "2021-11-11T06:30:12.589953Z"
    },
    "papermill": {
     "duration": 1.792296,
     "end_time": "2021-11-11T06:30:12.590396",
     "exception": false,
     "start_time": "2021-11-11T06:30:10.798100",
     "status": "completed"
    },
    "tags": []
   },
   "outputs": [
    {
     "data": {
      "text/plain": [
       "<AxesSubplot:ylabel='PRODUCT'>"
      ]
     },
     "execution_count": 7,
     "metadata": {},
     "output_type": "execute_result"
    },
    {
     "data": {
      "image/png": "[encoded data removed]",
      "text/plain": [
       "<Figure size 432x288 with 1 Axes>"
      ]
     },
     "metadata": {
      "needs_background": "light"
     },
     "output_type": "display_data"
    }
   ],
   "source": [
    "df_pivot_diff.sort_values(\"stamp_2\", ascending = False)[\"stamp_2\"].head(10).plot.barh()"
   ]
  },
  {
   "cell_type": "code",
   "execution_count": null,
   "id": "extra-executive",
   "metadata": {
    "papermill": {
     "duration": 0.022965,
     "end_time": "2021-11-11T06:30:12.640007",
     "exception": false,
     "start_time": "2021-11-11T06:30:12.617042",
     "status": "completed"
    },
    "tags": []
   },
   "outputs": [],
   "source": []
  }
 ],
 "metadata": {
  "kernelspec": {
   "display_name": "Python 3",
   "language": "python",
   "name": "python3"
  },
  "language_info": {
   "codemirror_mode": {
    "name": "ipython",
    "version": 3
   },
   "file_extension": ".py",
   "mimetype": "text/x-python",
   "name": "python",
   "nbconvert_exporter": "python",
   "pygments_lexer": "ipython3",
   "version": "3.9.5"
  },
  "papermill": {
   "default_parameters": {},
   "duration": 8.598013,
   "end_time": "2021-11-11T06:30:13.284595",
   "environment_variables": {},
   "exception": null,
   "input_path": "eBay_Overview.ipynb",
   "output_path": "eBay_Overview.ipynb",
   "parameters": {},
   "start_time": "2021-11-11T06:30:04.686582",
   "version": "2.3.3"
  }
 },
 "nbformat": 4,
 "nbformat_minor": 5
}