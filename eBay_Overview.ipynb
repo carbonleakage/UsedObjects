{
 "cells": [
  {
   "cell_type": "code",
   "execution_count": 1,
   "id": "reverse-picking",
   "metadata": {
    "execution": {
     "iopub.execute_input": "2021-08-16T01:30:07.444345Z",
     "iopub.status.busy": "2021-08-16T01:30:07.442384Z",
     "iopub.status.idle": "2021-08-16T01:30:08.251737Z",
     "shell.execute_reply": "2021-08-16T01:30:08.250147Z"
    },
    "papermill": {
     "duration": 0.859722,
     "end_time": "2021-08-16T01:30:08.252130",
     "exception": false,
     "start_time": "2021-08-16T01:30:07.392408",
     "status": "completed"
    },
    "tags": []
   },
   "outputs": [],
   "source": [
    "import pandas as pd\n",
    "import sqlite3"
   ]
  },
  {
   "cell_type": "code",
   "execution_count": 2,
   "id": "innovative-syndrome",
   "metadata": {
    "execution": {
     "iopub.execute_input": "2021-08-16T01:30:08.303631Z",
     "iopub.status.busy": "2021-08-16T01:30:08.301386Z",
     "iopub.status.idle": "2021-08-16T01:30:08.361343Z",
     "shell.execute_reply": "2021-08-16T01:30:08.362778Z"
    },
    "papermill": {
     "duration": 0.089685,
     "end_time": "2021-08-16T01:30:08.363196",
     "exception": false,
     "start_time": "2021-08-16T01:30:08.273511",
     "status": "completed"
    },
    "tags": []
   },
   "outputs": [],
   "source": [
    "timestamps = pd.read_sql(\"select distinct record_time from EBAY_TOP_BERLIN order by record_time desc limit 2\", sqlite3.connect(\"UsedObjects.db\"))"
   ]
  },
  {
   "cell_type": "code",
   "execution_count": 3,
   "id": "periodic-identification",
   "metadata": {
    "execution": {
     "iopub.execute_input": "2021-08-16T01:30:08.428312Z",
     "iopub.status.busy": "2021-08-16T01:30:08.426314Z",
     "iopub.status.idle": "2021-08-16T01:30:08.447195Z",
     "shell.execute_reply": "2021-08-16T01:30:08.448379Z"
    },
    "papermill": {
     "duration": 0.06644,
     "end_time": "2021-08-16T01:30:08.448816",
     "exception": false,
     "start_time": "2021-08-16T01:30:08.382376",
     "status": "completed"
    },
    "tags": []
   },
   "outputs": [
    {
     "data": {
      "text/html": [
       "<div>\n",
       "<style scoped>\n",
       "    .dataframe tbody tr th:only-of-type {\n",
       "        vertical-align: middle;\n",
       "    }\n",
       "\n",
       "    .dataframe tbody tr th {\n",
       "        vertical-align: top;\n",
       "    }\n",
       "\n",
       "    .dataframe thead th {\n",
       "        text-align: right;\n",
       "    }\n",
       "</style>\n",
       "<table border=\"1\" class=\"dataframe\">\n",
       "  <thead>\n",
       "    <tr style=\"text-align: right;\">\n",
       "      <th></th>\n",
       "      <th>RECORD_TIME</th>\n",
       "    </tr>\n",
       "  </thead>\n",
       "  <tbody>\n",
       "    <tr>\n",
       "      <th>0</th>\n",
       "      <td>2021-08-16 03:30</td>\n",
       "    </tr>\n",
       "    <tr>\n",
       "      <th>1</th>\n",
       "      <td>2021-08-16 03:00</td>\n",
       "    </tr>\n",
       "  </tbody>\n",
       "</table>\n",
       "</div>"
      ],
      "text/plain": [
       "        RECORD_TIME\n",
       "0  2021-08-16 03:30\n",
       "1  2021-08-16 03:00"
      ]
     },
     "execution_count": 3,
     "metadata": {},
     "output_type": "execute_result"
    }
   ],
   "source": [
    "timestamps"
   ]
  },
  {
   "cell_type": "code",
   "execution_count": 4,
   "id": "alternate-victory",
   "metadata": {
    "execution": {
     "iopub.execute_input": "2021-08-16T01:30:08.499258Z",
     "iopub.status.busy": "2021-08-16T01:30:08.497307Z",
     "iopub.status.idle": "2021-08-16T01:30:08.584471Z",
     "shell.execute_reply": "2021-08-16T01:30:08.585752Z"
    },
    "papermill": {
     "duration": 0.117092,
     "end_time": "2021-08-16T01:30:08.586248",
     "exception": false,
     "start_time": "2021-08-16T01:30:08.469156",
     "status": "completed"
    },
    "tags": []
   },
   "outputs": [],
   "source": [
    "df = pd.read_sql(\"select * from EBAY_TOP_BERLIN where record_time in (select distinct record_time from EBAY_TOP_BERLIN order by record_time desc limit 2)\", sqlite3.connect(\"UsedObjects.db\"))"
   ]
  },
  {
   "cell_type": "code",
   "execution_count": 5,
   "id": "popular-active",
   "metadata": {
    "execution": {
     "iopub.execute_input": "2021-08-16T01:30:08.655039Z",
     "iopub.status.busy": "2021-08-16T01:30:08.643838Z",
     "iopub.status.idle": "2021-08-16T01:30:08.672421Z",
     "shell.execute_reply": "2021-08-16T01:30:08.673633Z"
    },
    "papermill": {
     "duration": 0.067947,
     "end_time": "2021-08-16T01:30:08.674219",
     "exception": false,
     "start_time": "2021-08-16T01:30:08.606272",
     "status": "completed"
    },
    "tags": []
   },
   "outputs": [],
   "source": [
    "df_pivot = df.pivot_table(index=\"PRODUCT\", columns = \"RECORD_TIME\", values = \"LISTING_COUNT\")"
   ]
  },
  {
   "cell_type": "code",
   "execution_count": 6,
   "id": "union-huntington",
   "metadata": {
    "execution": {
     "iopub.execute_input": "2021-08-16T01:30:08.730545Z",
     "iopub.status.busy": "2021-08-16T01:30:08.728204Z",
     "iopub.status.idle": "2021-08-16T01:30:08.734145Z",
     "shell.execute_reply": "2021-08-16T01:30:08.735448Z"
    },
    "papermill": {
     "duration": 0.041925,
     "end_time": "2021-08-16T01:30:08.735864",
     "exception": false,
     "start_time": "2021-08-16T01:30:08.693939",
     "status": "completed"
    },
    "tags": []
   },
   "outputs": [],
   "source": [
    "df_pivot.columns = [\"stamp_1\", \"stamp_2\"]\n",
    "df_pivot_diff = df_pivot.diff(axis=1)"
   ]
  },
  {
   "cell_type": "code",
   "execution_count": 7,
   "id": "fifth-motion",
   "metadata": {
    "execution": {
     "iopub.execute_input": "2021-08-16T01:30:08.789386Z",
     "iopub.status.busy": "2021-08-16T01:30:08.787086Z",
     "iopub.status.idle": "2021-08-16T01:30:10.297395Z",
     "shell.execute_reply": "2021-08-16T01:30:10.298667Z"
    },
    "papermill": {
     "duration": 1.543482,
     "end_time": "2021-08-16T01:30:10.299108",
     "exception": false,
     "start_time": "2021-08-16T01:30:08.755626",
     "status": "completed"
    },
    "tags": []
   },
   "outputs": [
    {
     "data": {
      "text/plain": [
       "<AxesSubplot:ylabel='PRODUCT'>"
      ]
     },
     "execution_count": 7,
     "metadata": {},
     "output_type": "execute_result"
    },
    {
     "data": {
      "image/png": "[encoded data removed]",
      "text/plain": [
       "<Figure size 432x288 with 1 Axes>"
      ]
     },
     "metadata": {
      "needs_background": "light"
     },
     "output_type": "display_data"
    }
   ],
   "source": [
    "df_pivot_diff.sort_values(\"stamp_2\", ascending = False)[\"stamp_2\"].head(10).plot.barh()"
   ]
  },
  {
   "cell_type": "code",
   "execution_count": null,
   "id": "extra-executive",
   "metadata": {
    "papermill": {
     "duration": 0.021997,
     "end_time": "2021-08-16T01:30:10.344205",
     "exception": false,
     "start_time": "2021-08-16T01:30:10.322208",
     "status": "completed"
    },
    "tags": []
   },
   "outputs": [],
   "source": []
  }
 ],
 "metadata": {
  "kernelspec": {
   "display_name": "Python 3",
   "language": "python",
   "name": "python3"
  },
  "language_info": {
   "codemirror_mode": {
    "name": "ipython",
    "version": 3
   },
   "file_extension": ".py",
   "mimetype": "text/x-python",
   "name": "python",
   "nbconvert_exporter": "python",
   "pygments_lexer": "ipython3",
   "version": "3.9.5"
  },
  "papermill": {
   "default_parameters": {},
   "duration": 6.827331,
   "end_time": "2021-08-16T01:30:11.803467",
   "environment_variables": {},
   "exception": null,
   "input_path": "eBay_Overview.ipynb",
   "output_path": "eBay_Overview.ipynb",
   "parameters": {},
   "start_time": "2021-08-16T01:30:04.976136",
   "version": "2.3.3"
  }
 },
 "nbformat": 4,
 "nbformat_minor": 5
}