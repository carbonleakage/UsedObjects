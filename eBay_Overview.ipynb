{
 "cells": [
  {
   "cell_type": "code",
   "execution_count": 1,
   "id": "reverse-picking",
   "metadata": {
    "execution": {
     "iopub.execute_input": "2021-10-07T03:30:07.284726Z",
     "iopub.status.busy": "2021-10-07T03:30:07.282699Z",
     "iopub.status.idle": "2021-10-07T03:30:08.088986Z",
     "shell.execute_reply": "2021-10-07T03:30:08.090263Z"
    },
    "papermill": {
     "duration": 0.858452,
     "end_time": "2021-10-07T03:30:08.090943",
     "exception": false,
     "start_time": "2021-10-07T03:30:07.232491",
     "status": "completed"
    },
    "tags": []
   },
   "outputs": [],
   "source": [
    "import pandas as pd\n",
    "import sqlite3"
   ]
  },
  {
   "cell_type": "code",
   "execution_count": 2,
   "id": "innovative-syndrome",
   "metadata": {
    "execution": {
     "iopub.execute_input": "2021-10-07T03:30:08.141538Z",
     "iopub.status.busy": "2021-10-07T03:30:08.139653Z",
     "iopub.status.idle": "2021-10-07T03:30:08.627387Z",
     "shell.execute_reply": "2021-10-07T03:30:08.628540Z"
    },
    "papermill": {
     "duration": 0.517316,
     "end_time": "2021-10-07T03:30:08.628953",
     "exception": false,
     "start_time": "2021-10-07T03:30:08.111637",
     "status": "completed"
    },
    "tags": []
   },
   "outputs": [],
   "source": [
    "timestamps = pd.read_sql(\"select distinct record_time from EBAY_TOP_BERLIN order by record_time desc limit 2\", sqlite3.connect(\"UsedObjects.db\"))"
   ]
  },
  {
   "cell_type": "code",
   "execution_count": 3,
   "id": "periodic-identification",
   "metadata": {
    "execution": {
     "iopub.execute_input": "2021-10-07T03:30:08.697093Z",
     "iopub.status.busy": "2021-10-07T03:30:08.695044Z",
     "iopub.status.idle": "2021-10-07T03:30:08.715318Z",
     "shell.execute_reply": "2021-10-07T03:30:08.716718Z"
    },
    "papermill": {
     "duration": 0.06589,
     "end_time": "2021-10-07T03:30:08.717162",
     "exception": false,
     "start_time": "2021-10-07T03:30:08.651272",
     "status": "completed"
    },
    "tags": []
   },
   "outputs": [
    {
     "data": {
      "text/html": [
       "<div>\n",
       "<style scoped>\n",
       "    .dataframe tbody tr th:only-of-type {\n",
       "        vertical-align: middle;\n",
       "    }\n",
       "\n",
       "    .dataframe tbody tr th {\n",
       "        vertical-align: top;\n",
       "    }\n",
       "\n",
       "    .dataframe thead th {\n",
       "        text-align: right;\n",
       "    }\n",
       "</style>\n",
       "<table border=\"1\" class=\"dataframe\">\n",
       "  <thead>\n",
       "    <tr style=\"text-align: right;\">\n",
       "      <th></th>\n",
       "      <th>RECORD_TIME</th>\n",
       "    </tr>\n",
       "  </thead>\n",
       "  <tbody>\n",
       "    <tr>\n",
       "      <th>0</th>\n",
       "      <td>2021-10-07 05:30</td>\n",
       "    </tr>\n",
       "    <tr>\n",
       "      <th>1</th>\n",
       "      <td>2021-10-07 05:00</td>\n",
       "    </tr>\n",
       "  </tbody>\n",
       "</table>\n",
       "</div>"
      ],
      "text/plain": [
       "        RECORD_TIME\n",
       "0  2021-10-07 05:30\n",
       "1  2021-10-07 05:00"
      ]
     },
     "execution_count": 3,
     "metadata": {},
     "output_type": "execute_result"
    }
   ],
   "source": [
    "timestamps"
   ]
  },
  {
   "cell_type": "code",
   "execution_count": 4,
   "id": "alternate-victory",
   "metadata": {
    "execution": {
     "iopub.execute_input": "2021-10-07T03:30:08.778632Z",
     "iopub.status.busy": "2021-10-07T03:30:08.777032Z",
     "iopub.status.idle": "2021-10-07T03:30:09.475491Z",
     "shell.execute_reply": "2021-10-07T03:30:09.476821Z"
    },
    "papermill": {
     "duration": 0.733032,
     "end_time": "2021-10-07T03:30:09.477231",
     "exception": false,
     "start_time": "2021-10-07T03:30:08.744199",
     "status": "completed"
    },
    "tags": []
   },
   "outputs": [],
   "source": [
    "df = pd.read_sql(\"select * from EBAY_TOP_BERLIN where record_time in (select distinct record_time from EBAY_TOP_BERLIN order by record_time desc limit 2)\", sqlite3.connect(\"UsedObjects.db\"))"
   ]
  },
  {
   "cell_type": "code",
   "execution_count": 5,
   "id": "popular-active",
   "metadata": {
    "execution": {
     "iopub.execute_input": "2021-10-07T03:30:09.547410Z",
     "iopub.status.busy": "2021-10-07T03:30:09.535474Z",
     "iopub.status.idle": "2021-10-07T03:30:09.563165Z",
     "shell.execute_reply": "2021-10-07T03:30:09.564486Z"
    },
    "papermill": {
     "duration": 0.067293,
     "end_time": "2021-10-07T03:30:09.564910",
     "exception": false,
     "start_time": "2021-10-07T03:30:09.497617",
     "status": "completed"
    },
    "tags": []
   },
   "outputs": [],
   "source": [
    "df_pivot = df.pivot_table(index=\"PRODUCT\", columns = \"RECORD_TIME\", values = \"LISTING_COUNT\")"
   ]
  },
  {
   "cell_type": "code",
   "execution_count": 6,
   "id": "union-huntington",
   "metadata": {
    "execution": {
     "iopub.execute_input": "2021-10-07T03:30:09.620381Z",
     "iopub.status.busy": "2021-10-07T03:30:09.618232Z",
     "iopub.status.idle": "2021-10-07T03:30:09.623659Z",
     "shell.execute_reply": "2021-10-07T03:30:09.624972Z"
    },
    "papermill": {
     "duration": 0.040366,
     "end_time": "2021-10-07T03:30:09.625395",
     "exception": false,
     "start_time": "2021-10-07T03:30:09.585029",
     "status": "completed"
    },
    "tags": []
   },
   "outputs": [],
   "source": [
    "df_pivot.columns = [\"stamp_1\", \"stamp_2\"]\n",
    "df_pivot_diff = df_pivot.diff(axis=1)"
   ]
  },
  {
   "cell_type": "code",
   "execution_count": 7,
   "id": "fifth-motion",
   "metadata": {
    "execution": {
     "iopub.execute_input": "2021-10-07T03:30:09.682337Z",
     "iopub.status.busy": "2021-10-07T03:30:09.679913Z",
     "iopub.status.idle": "2021-10-07T03:30:11.133691Z",
     "shell.execute_reply": "2021-10-07T03:30:11.135165Z"
    },
    "papermill": {
     "duration": 1.488099,
     "end_time": "2021-10-07T03:30:11.135622",
     "exception": false,
     "start_time": "2021-10-07T03:30:09.647523",
     "status": "completed"
    },
    "tags": []
   },
   "outputs": [
    {
     "data": {
      "text/plain": [
       "<AxesSubplot:ylabel='PRODUCT'>"
      ]
     },
     "execution_count": 7,
     "metadata": {},
     "output_type": "execute_result"
    },
    {
     "data": {
      "image/png": "[encoded data removed]",
      "text/plain": [
       "<Figure size 432x288 with 1 Axes>"
      ]
     },
     "metadata": {
      "needs_background": "light"
     },
     "output_type": "display_data"
    }
   ],
   "source": [
    "df_pivot_diff.sort_values(\"stamp_2\", ascending = False)[\"stamp_2\"].head(10).plot.barh()"
   ]
  },
  {
   "cell_type": "code",
   "execution_count": null,
   "id": "extra-executive",
   "metadata": {
    "papermill": {
     "duration": 0.022237,
     "end_time": "2021-10-07T03:30:11.182480",
     "exception": false,
     "start_time": "2021-10-07T03:30:11.160243",
     "status": "completed"
    },
    "tags": []
   },
   "outputs": [],
   "source": []
  }
 ],
 "metadata": {
  "kernelspec": {
   "display_name": "Python 3",
   "language": "python",
   "name": "python3"
  },
  "language_info": {
   "codemirror_mode": {
    "name": "ipython",
    "version": 3
   },
   "file_extension": ".py",
   "mimetype": "text/x-python",
   "name": "python",
   "nbconvert_exporter": "python",
   "pygments_lexer": "ipython3",
   "version": "3.9.5"
  },
  "papermill": {
   "default_parameters": {},
   "duration": 7.837975,
   "end_time": "2021-10-07T03:30:12.665023",
   "environment_variables": {},
   "exception": null,
   "input_path": "eBay_Overview.ipynb",
   "output_path": "eBay_Overview.ipynb",
   "parameters": {},
   "start_time": "2021-10-07T03:30:04.827048",
   "version": "2.3.3"
  }
 },
 "nbformat": 4,
 "nbformat_minor": 5
}