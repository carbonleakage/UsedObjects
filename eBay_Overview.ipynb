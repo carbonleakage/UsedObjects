{
 "cells": [
  {
   "cell_type": "code",
   "execution_count": 1,
   "id": "reverse-picking",
   "metadata": {
    "execution": {
     "iopub.execute_input": "2021-09-25T10:00:07.385853Z",
     "iopub.status.busy": "2021-09-25T10:00:07.383901Z",
     "iopub.status.idle": "2021-09-25T10:00:08.188607Z",
     "shell.execute_reply": "2021-09-25T10:00:08.189840Z"
    },
    "papermill": {
     "duration": 0.854493,
     "end_time": "2021-09-25T10:00:08.190455",
     "exception": false,
     "start_time": "2021-09-25T10:00:07.335962",
     "status": "completed"
    },
    "tags": []
   },
   "outputs": [],
   "source": [
    "import pandas as pd\n",
    "import sqlite3"
   ]
  },
  {
   "cell_type": "code",
   "execution_count": 2,
   "id": "innovative-syndrome",
   "metadata": {
    "execution": {
     "iopub.execute_input": "2021-09-25T10:00:08.240866Z",
     "iopub.status.busy": "2021-09-25T10:00:08.239000Z",
     "iopub.status.idle": "2021-09-25T10:00:08.607606Z",
     "shell.execute_reply": "2021-09-25T10:00:08.608809Z"
    },
    "papermill": {
     "duration": 0.397915,
     "end_time": "2021-09-25T10:00:08.609210",
     "exception": false,
     "start_time": "2021-09-25T10:00:08.211295",
     "status": "completed"
    },
    "tags": []
   },
   "outputs": [],
   "source": [
    "timestamps = pd.read_sql(\"select distinct record_time from EBAY_TOP_BERLIN order by record_time desc limit 2\", sqlite3.connect(\"UsedObjects.db\"))"
   ]
  },
  {
   "cell_type": "code",
   "execution_count": 3,
   "id": "periodic-identification",
   "metadata": {
    "execution": {
     "iopub.execute_input": "2021-09-25T10:00:08.673968Z",
     "iopub.status.busy": "2021-09-25T10:00:08.671957Z",
     "iopub.status.idle": "2021-09-25T10:00:08.692080Z",
     "shell.execute_reply": "2021-09-25T10:00:08.693419Z"
    },
    "papermill": {
     "duration": 0.063776,
     "end_time": "2021-09-25T10:00:08.693842",
     "exception": false,
     "start_time": "2021-09-25T10:00:08.630066",
     "status": "completed"
    },
    "tags": []
   },
   "outputs": [
    {
     "data": {
      "text/html": [
       "<div>\n",
       "<style scoped>\n",
       "    .dataframe tbody tr th:only-of-type {\n",
       "        vertical-align: middle;\n",
       "    }\n",
       "\n",
       "    .dataframe tbody tr th {\n",
       "        vertical-align: top;\n",
       "    }\n",
       "\n",
       "    .dataframe thead th {\n",
       "        text-align: right;\n",
       "    }\n",
       "</style>\n",
       "<table border=\"1\" class=\"dataframe\">\n",
       "  <thead>\n",
       "    <tr style=\"text-align: right;\">\n",
       "      <th></th>\n",
       "      <th>RECORD_TIME</th>\n",
       "    </tr>\n",
       "  </thead>\n",
       "  <tbody>\n",
       "    <tr>\n",
       "      <th>0</th>\n",
       "      <td>2021-09-25 12:00</td>\n",
       "    </tr>\n",
       "    <tr>\n",
       "      <th>1</th>\n",
       "      <td>2021-09-25 11:30</td>\n",
       "    </tr>\n",
       "  </tbody>\n",
       "</table>\n",
       "</div>"
      ],
      "text/plain": [
       "        RECORD_TIME\n",
       "0  2021-09-25 12:00\n",
       "1  2021-09-25 11:30"
      ]
     },
     "execution_count": 3,
     "metadata": {},
     "output_type": "execute_result"
    }
   ],
   "source": [
    "timestamps"
   ]
  },
  {
   "cell_type": "code",
   "execution_count": 4,
   "id": "alternate-victory",
   "metadata": {
    "execution": {
     "iopub.execute_input": "2021-09-25T10:00:08.745179Z",
     "iopub.status.busy": "2021-09-25T10:00:08.743019Z",
     "iopub.status.idle": "2021-09-25T10:00:09.286837Z",
     "shell.execute_reply": "2021-09-25T10:00:09.288084Z"
    },
    "papermill": {
     "duration": 0.573608,
     "end_time": "2021-09-25T10:00:09.288489",
     "exception": false,
     "start_time": "2021-09-25T10:00:08.714881",
     "status": "completed"
    },
    "tags": []
   },
   "outputs": [],
   "source": [
    "df = pd.read_sql(\"select * from EBAY_TOP_BERLIN where record_time in (select distinct record_time from EBAY_TOP_BERLIN order by record_time desc limit 2)\", sqlite3.connect(\"UsedObjects.db\"))"
   ]
  },
  {
   "cell_type": "code",
   "execution_count": 5,
   "id": "popular-active",
   "metadata": {
    "execution": {
     "iopub.execute_input": "2021-09-25T10:00:09.370760Z",
     "iopub.status.busy": "2021-09-25T10:00:09.358386Z",
     "iopub.status.idle": "2021-09-25T10:00:09.386388Z",
     "shell.execute_reply": "2021-09-25T10:00:09.387726Z"
    },
    "papermill": {
     "duration": 0.070534,
     "end_time": "2021-09-25T10:00:09.388153",
     "exception": false,
     "start_time": "2021-09-25T10:00:09.317619",
     "status": "completed"
    },
    "tags": []
   },
   "outputs": [],
   "source": [
    "df_pivot = df.pivot_table(index=\"PRODUCT\", columns = \"RECORD_TIME\", values = \"LISTING_COUNT\")"
   ]
  },
  {
   "cell_type": "code",
   "execution_count": 6,
   "id": "union-huntington",
   "metadata": {
    "execution": {
     "iopub.execute_input": "2021-09-25T10:00:09.443800Z",
     "iopub.status.busy": "2021-09-25T10:00:09.441777Z",
     "iopub.status.idle": "2021-09-25T10:00:09.446765Z",
     "shell.execute_reply": "2021-09-25T10:00:09.447968Z"
    },
    "papermill": {
     "duration": 0.039261,
     "end_time": "2021-09-25T10:00:09.448387",
     "exception": false,
     "start_time": "2021-09-25T10:00:09.409126",
     "status": "completed"
    },
    "tags": []
   },
   "outputs": [],
   "source": [
    "df_pivot.columns = [\"stamp_1\", \"stamp_2\"]\n",
    "df_pivot_diff = df_pivot.diff(axis=1)"
   ]
  },
  {
   "cell_type": "code",
   "execution_count": 7,
   "id": "fifth-motion",
   "metadata": {
    "execution": {
     "iopub.execute_input": "2021-09-25T10:00:09.505536Z",
     "iopub.status.busy": "2021-09-25T10:00:09.502894Z",
     "iopub.status.idle": "2021-09-25T10:00:10.969974Z",
     "shell.execute_reply": "2021-09-25T10:00:10.971523Z"
    },
    "papermill": {
     "duration": 1.500937,
     "end_time": "2021-09-25T10:00:10.972008",
     "exception": false,
     "start_time": "2021-09-25T10:00:09.471071",
     "status": "completed"
    },
    "tags": []
   },
   "outputs": [
    {
     "data": {
      "text/plain": [
       "<AxesSubplot:ylabel='PRODUCT'>"
      ]
     },
     "execution_count": 7,
     "metadata": {},
     "output_type": "execute_result"
    },
    {
     "data": {
      "image/png": "[encoded data removed]",
      "text/plain": [
       "<Figure size 432x288 with 1 Axes>"
      ]
     },
     "metadata": {
      "needs_background": "light"
     },
     "output_type": "display_data"
    }
   ],
   "source": [
    "df_pivot_diff.sort_values(\"stamp_2\", ascending = False)[\"stamp_2\"].head(10).plot.barh()"
   ]
  },
  {
   "cell_type": "code",
   "execution_count": null,
   "id": "extra-executive",
   "metadata": {
    "papermill": {
     "duration": 0.022059,
     "end_time": "2021-09-25T10:00:11.018588",
     "exception": false,
     "start_time": "2021-09-25T10:00:10.996529",
     "status": "completed"
    },
    "tags": []
   },
   "outputs": [],
   "source": []
  }
 ],
 "metadata": {
  "kernelspec": {
   "display_name": "Python 3",
   "language": "python",
   "name": "python3"
  },
  "language_info": {
   "codemirror_mode": {
    "name": "ipython",
    "version": 3
   },
   "file_extension": ".py",
   "mimetype": "text/x-python",
   "name": "python",
   "nbconvert_exporter": "python",
   "pygments_lexer": "ipython3",
   "version": "3.9.5"
  },
  "papermill": {
   "default_parameters": {},
   "duration": 6.722705,
   "end_time": "2021-09-25T10:00:11.661357",
   "environment_variables": {},
   "exception": null,
   "input_path": "eBay_Overview.ipynb",
   "output_path": "eBay_Overview.ipynb",
   "parameters": {},
   "start_time": "2021-09-25T10:00:04.938652",
   "version": "2.3.3"
  }
 },
 "nbformat": 4,
 "nbformat_minor": 5
}