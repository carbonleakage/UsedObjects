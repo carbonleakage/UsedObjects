{
 "cells": [
  {
   "cell_type": "code",
   "execution_count": 1,
   "id": "reverse-picking",
   "metadata": {
    "execution": {
     "iopub.execute_input": "2021-12-21T00:30:07.657983Z",
     "iopub.status.busy": "2021-12-21T00:30:07.655519Z",
     "iopub.status.idle": "2021-12-21T00:30:08.629590Z",
     "shell.execute_reply": "2021-12-21T00:30:08.631261Z"
    },
    "papermill": {
     "duration": 1.024673,
     "end_time": "2021-12-21T00:30:08.631964",
     "exception": false,
     "start_time": "2021-12-21T00:30:07.607291",
     "status": "completed"
    },
    "tags": []
   },
   "outputs": [],
   "source": [
    "import pandas as pd\n",
    "import sqlite3"
   ]
  },
  {
   "cell_type": "code",
   "execution_count": 2,
   "id": "innovative-syndrome",
   "metadata": {
    "execution": {
     "iopub.execute_input": "2021-12-21T00:30:08.753177Z",
     "iopub.status.busy": "2021-12-21T00:30:08.750473Z",
     "iopub.status.idle": "2021-12-21T00:30:09.877775Z",
     "shell.execute_reply": "2021-12-21T00:30:09.879708Z"
    },
    "papermill": {
     "duration": 1.16166,
     "end_time": "2021-12-21T00:30:09.880199",
     "exception": false,
     "start_time": "2021-12-21T00:30:08.718539",
     "status": "completed"
    },
    "tags": []
   },
   "outputs": [],
   "source": [
    "timestamps = pd.read_sql(\"select distinct record_time from EBAY_TOP_BERLIN order by record_time desc limit 2\", sqlite3.connect(\"UsedObjects.db\"))"
   ]
  },
  {
   "cell_type": "code",
   "execution_count": 3,
   "id": "periodic-identification",
   "metadata": {
    "execution": {
     "iopub.execute_input": "2021-12-21T00:30:09.950779Z",
     "iopub.status.busy": "2021-12-21T00:30:09.948380Z",
     "iopub.status.idle": "2021-12-21T00:30:09.971836Z",
     "shell.execute_reply": "2021-12-21T00:30:09.973516Z"
    },
    "papermill": {
     "duration": 0.073573,
     "end_time": "2021-12-21T00:30:09.974025",
     "exception": false,
     "start_time": "2021-12-21T00:30:09.900452",
     "status": "completed"
    },
    "tags": []
   },
   "outputs": [
    {
     "data": {
      "text/html": [
       "<div>\n",
       "<style scoped>\n",
       "    .dataframe tbody tr th:only-of-type {\n",
       "        vertical-align: middle;\n",
       "    }\n",
       "\n",
       "    .dataframe tbody tr th {\n",
       "        vertical-align: top;\n",
       "    }\n",
       "\n",
       "    .dataframe thead th {\n",
       "        text-align: right;\n",
       "    }\n",
       "</style>\n",
       "<table border=\"1\" class=\"dataframe\">\n",
       "  <thead>\n",
       "    <tr style=\"text-align: right;\">\n",
       "      <th></th>\n",
       "      <th>RECORD_TIME</th>\n",
       "    </tr>\n",
       "  </thead>\n",
       "  <tbody>\n",
       "    <tr>\n",
       "      <th>0</th>\n",
       "      <td>2021-12-21 01:30</td>\n",
       "    </tr>\n",
       "    <tr>\n",
       "      <th>1</th>\n",
       "      <td>2021-12-21 01:00</td>\n",
       "    </tr>\n",
       "  </tbody>\n",
       "</table>\n",
       "</div>"
      ],
      "text/plain": [
       "        RECORD_TIME\n",
       "0  2021-12-21 01:30\n",
       "1  2021-12-21 01:00"
      ]
     },
     "execution_count": 3,
     "metadata": {},
     "output_type": "execute_result"
    }
   ],
   "source": [
    "timestamps"
   ]
  },
  {
   "cell_type": "code",
   "execution_count": 4,
   "id": "alternate-victory",
   "metadata": {
    "execution": {
     "iopub.execute_input": "2021-12-21T00:30:10.031281Z",
     "iopub.status.busy": "2021-12-21T00:30:10.028125Z",
     "iopub.status.idle": "2021-12-21T00:30:11.652535Z",
     "shell.execute_reply": "2021-12-21T00:30:11.654142Z"
    },
    "papermill": {
     "duration": 1.659466,
     "end_time": "2021-12-21T00:30:11.654609",
     "exception": false,
     "start_time": "2021-12-21T00:30:09.995143",
     "status": "completed"
    },
    "tags": []
   },
   "outputs": [],
   "source": [
    "df = pd.read_sql(\"select * from EBAY_TOP_BERLIN where record_time in (select distinct record_time from EBAY_TOP_BERLIN order by record_time desc limit 2)\", sqlite3.connect(\"UsedObjects.db\"))"
   ]
  },
  {
   "cell_type": "code",
   "execution_count": 5,
   "id": "popular-active",
   "metadata": {
    "execution": {
     "iopub.execute_input": "2021-12-21T00:30:11.717388Z",
     "iopub.status.busy": "2021-12-21T00:30:11.715026Z",
     "iopub.status.idle": "2021-12-21T00:30:11.746507Z",
     "shell.execute_reply": "2021-12-21T00:30:11.748171Z"
    },
    "papermill": {
     "duration": 0.073631,
     "end_time": "2021-12-21T00:30:11.748668",
     "exception": false,
     "start_time": "2021-12-21T00:30:11.675037",
     "status": "completed"
    },
    "tags": []
   },
   "outputs": [],
   "source": [
    "df_pivot = df.pivot_table(index=\"PRODUCT\", columns = \"RECORD_TIME\", values = \"LISTING_COUNT\")"
   ]
  },
  {
   "cell_type": "code",
   "execution_count": 6,
   "id": "union-huntington",
   "metadata": {
    "execution": {
     "iopub.execute_input": "2021-12-21T00:30:11.810956Z",
     "iopub.status.busy": "2021-12-21T00:30:11.808611Z",
     "iopub.status.idle": "2021-12-21T00:30:11.814464Z",
     "shell.execute_reply": "2021-12-21T00:30:11.815945Z"
    },
    "papermill": {
     "duration": 0.046295,
     "end_time": "2021-12-21T00:30:11.816410",
     "exception": false,
     "start_time": "2021-12-21T00:30:11.770115",
     "status": "completed"
    },
    "tags": []
   },
   "outputs": [],
   "source": [
    "df_pivot.columns = [\"stamp_1\", \"stamp_2\"]\n",
    "df_pivot_diff = df_pivot.diff(axis=1)"
   ]
  },
  {
   "cell_type": "code",
   "execution_count": 7,
   "id": "fifth-motion",
   "metadata": {
    "execution": {
     "iopub.execute_input": "2021-12-21T00:30:11.874495Z",
     "iopub.status.busy": "2021-12-21T00:30:11.871932Z",
     "iopub.status.idle": "2021-12-21T00:30:13.829772Z",
     "shell.execute_reply": "2021-12-21T00:30:13.831062Z"
    },
    "papermill": {
     "duration": 1.993289,
     "end_time": "2021-12-21T00:30:13.831469",
     "exception": false,
     "start_time": "2021-12-21T00:30:11.838180",
     "status": "completed"
    },
    "tags": []
   },
   "outputs": [
    {
     "data": {
      "text/plain": [
       "<AxesSubplot:ylabel='PRODUCT'>"
      ]
     },
     "execution_count": 7,
     "metadata": {},
     "output_type": "execute_result"
    },
    {
     "data": {
      "image/png": "[encoded data removed]",
      "text/plain": [
       "<Figure size 432x288 with 1 Axes>"
      ]
     },
     "metadata": {
      "needs_background": "light"
     },
     "output_type": "display_data"
    }
   ],
   "source": [
    "df_pivot_diff.sort_values(\"stamp_2\", ascending = False)[\"stamp_2\"].head(10).plot.barh()"
   ]
  },
  {
   "cell_type": "code",
   "execution_count": null,
   "id": "extra-executive",
   "metadata": {
    "papermill": {
     "duration": 0.022129,
     "end_time": "2021-12-21T00:30:13.878138",
     "exception": false,
     "start_time": "2021-12-21T00:30:13.856009",
     "status": "completed"
    },
    "tags": []
   },
   "outputs": [],
   "source": []
  }
 ],
 "metadata": {
  "kernelspec": {
   "display_name": "Python 3",
   "language": "python",
   "name": "python3"
  },
  "language_info": {
   "codemirror_mode": {
    "name": "ipython",
    "version": 3
   },
   "file_extension": ".py",
   "mimetype": "text/x-python",
   "name": "python",
   "nbconvert_exporter": "python",
   "pygments_lexer": "ipython3",
   "version": "3.9.5"
  },
  "papermill": {
   "default_parameters": {},
   "duration": 9.657371,
   "end_time": "2021-12-21T00:30:14.519262",
   "environment_variables": {},
   "exception": null,
   "input_path": "eBay_Overview.ipynb",
   "output_path": "eBay_Overview.ipynb",
   "parameters": {},
   "start_time": "2021-12-21T00:30:04.861891",
   "version": "2.3.3"
  }
 },
 "nbformat": 4,
 "nbformat_minor": 5
}