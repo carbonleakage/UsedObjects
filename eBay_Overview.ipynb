{
 "cells": [
  {
   "cell_type": "code",
   "execution_count": 1,
   "id": "reverse-picking",
   "metadata": {
    "execution": {
     "iopub.execute_input": "2021-12-07T15:00:07.864777Z",
     "iopub.status.busy": "2021-12-07T15:00:07.862484Z",
     "iopub.status.idle": "2021-12-07T15:00:08.798884Z",
     "shell.execute_reply": "2021-12-07T15:00:08.800122Z"
    },
    "papermill": {
     "duration": 0.994453,
     "end_time": "2021-12-07T15:00:08.800788",
     "exception": false,
     "start_time": "2021-12-07T15:00:07.806335",
     "status": "completed"
    },
    "tags": []
   },
   "outputs": [],
   "source": [
    "import pandas as pd\n",
    "import sqlite3"
   ]
  },
  {
   "cell_type": "code",
   "execution_count": 2,
   "id": "innovative-syndrome",
   "metadata": {
    "execution": {
     "iopub.execute_input": "2021-12-07T15:00:08.861360Z",
     "iopub.status.busy": "2021-12-07T15:00:08.858541Z",
     "iopub.status.idle": "2021-12-07T15:00:09.893362Z",
     "shell.execute_reply": "2021-12-07T15:00:09.894951Z"
    },
    "papermill": {
     "duration": 1.07253,
     "end_time": "2021-12-07T15:00:09.895480",
     "exception": false,
     "start_time": "2021-12-07T15:00:08.822950",
     "status": "completed"
    },
    "tags": []
   },
   "outputs": [],
   "source": [
    "timestamps = pd.read_sql(\"select distinct record_time from EBAY_TOP_BERLIN order by record_time desc limit 2\", sqlite3.connect(\"UsedObjects.db\"))"
   ]
  },
  {
   "cell_type": "code",
   "execution_count": 3,
   "id": "periodic-identification",
   "metadata": {
    "execution": {
     "iopub.execute_input": "2021-12-07T15:00:09.969672Z",
     "iopub.status.busy": "2021-12-07T15:00:09.963654Z",
     "iopub.status.idle": "2021-12-07T15:00:09.986314Z",
     "shell.execute_reply": "2021-12-07T15:00:09.987679Z"
    },
    "papermill": {
     "duration": 0.071871,
     "end_time": "2021-12-07T15:00:09.988192",
     "exception": false,
     "start_time": "2021-12-07T15:00:09.916321",
     "status": "completed"
    },
    "tags": []
   },
   "outputs": [
    {
     "data": {
      "text/html": [
       "<div>\n",
       "<style scoped>\n",
       "    .dataframe tbody tr th:only-of-type {\n",
       "        vertical-align: middle;\n",
       "    }\n",
       "\n",
       "    .dataframe tbody tr th {\n",
       "        vertical-align: top;\n",
       "    }\n",
       "\n",
       "    .dataframe thead th {\n",
       "        text-align: right;\n",
       "    }\n",
       "</style>\n",
       "<table border=\"1\" class=\"dataframe\">\n",
       "  <thead>\n",
       "    <tr style=\"text-align: right;\">\n",
       "      <th></th>\n",
       "      <th>RECORD_TIME</th>\n",
       "    </tr>\n",
       "  </thead>\n",
       "  <tbody>\n",
       "    <tr>\n",
       "      <th>0</th>\n",
       "      <td>2021-12-07 16:00</td>\n",
       "    </tr>\n",
       "    <tr>\n",
       "      <th>1</th>\n",
       "      <td>2021-12-07 15:30</td>\n",
       "    </tr>\n",
       "  </tbody>\n",
       "</table>\n",
       "</div>"
      ],
      "text/plain": [
       "        RECORD_TIME\n",
       "0  2021-12-07 16:00\n",
       "1  2021-12-07 15:30"
      ]
     },
     "execution_count": 3,
     "metadata": {},
     "output_type": "execute_result"
    }
   ],
   "source": [
    "timestamps"
   ]
  },
  {
   "cell_type": "code",
   "execution_count": 4,
   "id": "alternate-victory",
   "metadata": {
    "execution": {
     "iopub.execute_input": "2021-12-07T15:00:10.041572Z",
     "iopub.status.busy": "2021-12-07T15:00:10.039474Z",
     "iopub.status.idle": "2021-12-07T15:00:11.553328Z",
     "shell.execute_reply": "2021-12-07T15:00:11.556477Z"
    },
    "papermill": {
     "duration": 1.548703,
     "end_time": "2021-12-07T15:00:11.557199",
     "exception": false,
     "start_time": "2021-12-07T15:00:10.008496",
     "status": "completed"
    },
    "tags": []
   },
   "outputs": [],
   "source": [
    "df = pd.read_sql(\"select * from EBAY_TOP_BERLIN where record_time in (select distinct record_time from EBAY_TOP_BERLIN order by record_time desc limit 2)\", sqlite3.connect(\"UsedObjects.db\"))"
   ]
  },
  {
   "cell_type": "code",
   "execution_count": 5,
   "id": "popular-active",
   "metadata": {
    "execution": {
     "iopub.execute_input": "2021-12-07T15:00:11.673869Z",
     "iopub.status.busy": "2021-12-07T15:00:11.642135Z",
     "iopub.status.idle": "2021-12-07T15:00:11.705348Z",
     "shell.execute_reply": "2021-12-07T15:00:11.707285Z"
    },
    "papermill": {
     "duration": 0.12046,
     "end_time": "2021-12-07T15:00:11.707988",
     "exception": false,
     "start_time": "2021-12-07T15:00:11.587528",
     "status": "completed"
    },
    "tags": []
   },
   "outputs": [],
   "source": [
    "df_pivot = df.pivot_table(index=\"PRODUCT\", columns = \"RECORD_TIME\", values = \"LISTING_COUNT\")"
   ]
  },
  {
   "cell_type": "code",
   "execution_count": 6,
   "id": "union-huntington",
   "metadata": {
    "execution": {
     "iopub.execute_input": "2021-12-07T15:00:11.788113Z",
     "iopub.status.busy": "2021-12-07T15:00:11.785422Z",
     "iopub.status.idle": "2021-12-07T15:00:11.792800Z",
     "shell.execute_reply": "2021-12-07T15:00:11.795283Z"
    },
    "papermill": {
     "duration": 0.056714,
     "end_time": "2021-12-07T15:00:11.796044",
     "exception": false,
     "start_time": "2021-12-07T15:00:11.739330",
     "status": "completed"
    },
    "tags": []
   },
   "outputs": [],
   "source": [
    "df_pivot.columns = [\"stamp_1\", \"stamp_2\"]\n",
    "df_pivot_diff = df_pivot.diff(axis=1)"
   ]
  },
  {
   "cell_type": "code",
   "execution_count": 7,
   "id": "fifth-motion",
   "metadata": {
    "execution": {
     "iopub.execute_input": "2021-12-07T15:00:11.856106Z",
     "iopub.status.busy": "2021-12-07T15:00:11.853841Z",
     "iopub.status.idle": "2021-12-07T15:00:13.545057Z",
     "shell.execute_reply": "2021-12-07T15:00:13.546439Z"
    },
    "papermill": {
     "duration": 1.726835,
     "end_time": "2021-12-07T15:00:13.546884",
     "exception": false,
     "start_time": "2021-12-07T15:00:11.820049",
     "status": "completed"
    },
    "tags": []
   },
   "outputs": [
    {
     "data": {
      "text/plain": [
       "<AxesSubplot:ylabel='PRODUCT'>"
      ]
     },
     "execution_count": 7,
     "metadata": {},
     "output_type": "execute_result"
    },
    {
     "data": {
      "image/png": "[encoded data removed]",
      "text/plain": [
       "<Figure size 432x288 with 1 Axes>"
      ]
     },
     "metadata": {
      "needs_background": "light"
     },
     "output_type": "display_data"
    }
   ],
   "source": [
    "df_pivot_diff.sort_values(\"stamp_2\", ascending = False)[\"stamp_2\"].head(10).plot.barh()"
   ]
  },
  {
   "cell_type": "code",
   "execution_count": null,
   "id": "extra-executive",
   "metadata": {
    "papermill": {
     "duration": 0.02196,
     "end_time": "2021-12-07T15:00:13.593868",
     "exception": false,
     "start_time": "2021-12-07T15:00:13.571908",
     "status": "completed"
    },
    "tags": []
   },
   "outputs": [],
   "source": []
  }
 ],
 "metadata": {
  "kernelspec": {
   "display_name": "Python 3",
   "language": "python",
   "name": "python3"
  },
  "language_info": {
   "codemirror_mode": {
    "name": "ipython",
    "version": 3
   },
   "file_extension": ".py",
   "mimetype": "text/x-python",
   "name": "python",
   "nbconvert_exporter": "python",
   "pygments_lexer": "ipython3",
   "version": "3.9.5"
  },
  "papermill": {
   "default_parameters": {},
   "duration": 9.937438,
   "end_time": "2021-12-07T15:00:15.033169",
   "environment_variables": {},
   "exception": null,
   "input_path": "eBay_Overview.ipynb",
   "output_path": "eBay_Overview.ipynb",
   "parameters": {},
   "start_time": "2021-12-07T15:00:05.095731",
   "version": "2.3.3"
  }
 },
 "nbformat": 4,
 "nbformat_minor": 5
}