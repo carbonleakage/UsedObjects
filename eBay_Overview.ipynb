{
 "cells": [
  {
   "cell_type": "code",
   "execution_count": 1,
   "id": "reverse-picking",
   "metadata": {
    "execution": {
     "iopub.execute_input": "2021-11-01T15:30:07.845650Z",
     "iopub.status.busy": "2021-11-01T15:30:07.843499Z",
     "iopub.status.idle": "2021-11-01T15:30:08.649026Z",
     "shell.execute_reply": "2021-11-01T15:30:08.650484Z"
    },
    "papermill": {
     "duration": 0.856001,
     "end_time": "2021-11-01T15:30:08.651171",
     "exception": false,
     "start_time": "2021-11-01T15:30:07.795170",
     "status": "completed"
    },
    "tags": []
   },
   "outputs": [],
   "source": [
    "import pandas as pd\n",
    "import sqlite3"
   ]
  },
  {
   "cell_type": "code",
   "execution_count": 2,
   "id": "innovative-syndrome",
   "metadata": {
    "execution": {
     "iopub.execute_input": "2021-11-01T15:30:08.701946Z",
     "iopub.status.busy": "2021-11-01T15:30:08.699531Z",
     "iopub.status.idle": "2021-11-01T15:30:09.394449Z",
     "shell.execute_reply": "2021-11-01T15:30:09.395715Z"
    },
    "papermill": {
     "duration": 0.724587,
     "end_time": "2021-11-01T15:30:09.396141",
     "exception": false,
     "start_time": "2021-11-01T15:30:08.671554",
     "status": "completed"
    },
    "tags": []
   },
   "outputs": [],
   "source": [
    "timestamps = pd.read_sql(\"select distinct record_time from EBAY_TOP_BERLIN order by record_time desc limit 2\", sqlite3.connect(\"UsedObjects.db\"))"
   ]
  },
  {
   "cell_type": "code",
   "execution_count": 3,
   "id": "periodic-identification",
   "metadata": {
    "execution": {
     "iopub.execute_input": "2021-11-01T15:30:09.462862Z",
     "iopub.status.busy": "2021-11-01T15:30:09.460869Z",
     "iopub.status.idle": "2021-11-01T15:30:09.480723Z",
     "shell.execute_reply": "2021-11-01T15:30:09.481938Z"
    },
    "papermill": {
     "duration": 0.066783,
     "end_time": "2021-11-01T15:30:09.482385",
     "exception": false,
     "start_time": "2021-11-01T15:30:09.415602",
     "status": "completed"
    },
    "tags": []
   },
   "outputs": [
    {
     "data": {
      "text/html": [
       "<div>\n",
       "<style scoped>\n",
       "    .dataframe tbody tr th:only-of-type {\n",
       "        vertical-align: middle;\n",
       "    }\n",
       "\n",
       "    .dataframe tbody tr th {\n",
       "        vertical-align: top;\n",
       "    }\n",
       "\n",
       "    .dataframe thead th {\n",
       "        text-align: right;\n",
       "    }\n",
       "</style>\n",
       "<table border=\"1\" class=\"dataframe\">\n",
       "  <thead>\n",
       "    <tr style=\"text-align: right;\">\n",
       "      <th></th>\n",
       "      <th>RECORD_TIME</th>\n",
       "    </tr>\n",
       "  </thead>\n",
       "  <tbody>\n",
       "    <tr>\n",
       "      <th>0</th>\n",
       "      <td>2021-11-01 16:30</td>\n",
       "    </tr>\n",
       "    <tr>\n",
       "      <th>1</th>\n",
       "      <td>2021-11-01 16:00</td>\n",
       "    </tr>\n",
       "  </tbody>\n",
       "</table>\n",
       "</div>"
      ],
      "text/plain": [
       "        RECORD_TIME\n",
       "0  2021-11-01 16:30\n",
       "1  2021-11-01 16:00"
      ]
     },
     "execution_count": 3,
     "metadata": {},
     "output_type": "execute_result"
    }
   ],
   "source": [
    "timestamps"
   ]
  },
  {
   "cell_type": "code",
   "execution_count": 4,
   "id": "alternate-victory",
   "metadata": {
    "execution": {
     "iopub.execute_input": "2021-11-01T15:30:09.535620Z",
     "iopub.status.busy": "2021-11-01T15:30:09.533335Z",
     "iopub.status.idle": "2021-11-01T15:30:10.524206Z",
     "shell.execute_reply": "2021-11-01T15:30:10.525474Z"
    },
    "papermill": {
     "duration": 1.020826,
     "end_time": "2021-11-01T15:30:10.525890",
     "exception": false,
     "start_time": "2021-11-01T15:30:09.505064",
     "status": "completed"
    },
    "tags": []
   },
   "outputs": [],
   "source": [
    "df = pd.read_sql(\"select * from EBAY_TOP_BERLIN where record_time in (select distinct record_time from EBAY_TOP_BERLIN order by record_time desc limit 2)\", sqlite3.connect(\"UsedObjects.db\"))"
   ]
  },
  {
   "cell_type": "code",
   "execution_count": 5,
   "id": "popular-active",
   "metadata": {
    "execution": {
     "iopub.execute_input": "2021-11-01T15:30:10.599029Z",
     "iopub.status.busy": "2021-11-01T15:30:10.586226Z",
     "iopub.status.idle": "2021-11-01T15:30:10.614698Z",
     "shell.execute_reply": "2021-11-01T15:30:10.615982Z"
    },
    "papermill": {
     "duration": 0.067925,
     "end_time": "2021-11-01T15:30:10.616411",
     "exception": false,
     "start_time": "2021-11-01T15:30:10.548486",
     "status": "completed"
    },
    "tags": []
   },
   "outputs": [],
   "source": [
    "df_pivot = df.pivot_table(index=\"PRODUCT\", columns = \"RECORD_TIME\", values = \"LISTING_COUNT\")"
   ]
  },
  {
   "cell_type": "code",
   "execution_count": 6,
   "id": "union-huntington",
   "metadata": {
    "execution": {
     "iopub.execute_input": "2021-11-01T15:30:10.673627Z",
     "iopub.status.busy": "2021-11-01T15:30:10.671415Z",
     "iopub.status.idle": "2021-11-01T15:30:10.677322Z",
     "shell.execute_reply": "2021-11-01T15:30:10.678975Z"
    },
    "papermill": {
     "duration": 0.041127,
     "end_time": "2021-11-01T15:30:10.679462",
     "exception": false,
     "start_time": "2021-11-01T15:30:10.638335",
     "status": "completed"
    },
    "tags": []
   },
   "outputs": [],
   "source": [
    "df_pivot.columns = [\"stamp_1\", \"stamp_2\"]\n",
    "df_pivot_diff = df_pivot.diff(axis=1)"
   ]
  },
  {
   "cell_type": "code",
   "execution_count": 7,
   "id": "fifth-motion",
   "metadata": {
    "execution": {
     "iopub.execute_input": "2021-11-01T15:30:10.735084Z",
     "iopub.status.busy": "2021-11-01T15:30:10.732543Z",
     "iopub.status.idle": "2021-11-01T15:30:12.219830Z",
     "shell.execute_reply": "2021-11-01T15:30:12.221428Z"
    },
    "papermill": {
     "duration": 1.521078,
     "end_time": "2021-11-01T15:30:12.221905",
     "exception": false,
     "start_time": "2021-11-01T15:30:10.700827",
     "status": "completed"
    },
    "tags": []
   },
   "outputs": [
    {
     "data": {
      "text/plain": [
       "<AxesSubplot:ylabel='PRODUCT'>"
      ]
     },
     "execution_count": 7,
     "metadata": {},
     "output_type": "execute_result"
    },
    {
     "data": {
      "image/png": "[encoded data removed]",
      "text/plain": [
       "<Figure size 432x288 with 1 Axes>"
      ]
     },
     "metadata": {
      "needs_background": "light"
     },
     "output_type": "display_data"
    }
   ],
   "source": [
    "df_pivot_diff.sort_values(\"stamp_2\", ascending = False)[\"stamp_2\"].head(10).plot.barh()"
   ]
  },
  {
   "cell_type": "code",
   "execution_count": null,
   "id": "extra-executive",
   "metadata": {
    "papermill": {
     "duration": 0.022191,
     "end_time": "2021-11-01T15:30:12.268398",
     "exception": false,
     "start_time": "2021-11-01T15:30:12.246207",
     "status": "completed"
    },
    "tags": []
   },
   "outputs": [],
   "source": []
  }
 ],
 "metadata": {
  "kernelspec": {
   "display_name": "Python 3",
   "language": "python",
   "name": "python3"
  },
  "language_info": {
   "codemirror_mode": {
    "name": "ipython",
    "version": 3
   },
   "file_extension": ".py",
   "mimetype": "text/x-python",
   "name": "python",
   "nbconvert_exporter": "python",
   "pygments_lexer": "ipython3",
   "version": "3.9.5"
  },
  "papermill": {
   "default_parameters": {},
   "duration": 7.520075,
   "end_time": "2021-11-01T15:30:12.911130",
   "environment_variables": {},
   "exception": null,
   "input_path": "eBay_Overview.ipynb",
   "output_path": "eBay_Overview.ipynb",
   "parameters": {},
   "start_time": "2021-11-01T15:30:05.391055",
   "version": "2.3.3"
  }
 },
 "nbformat": 4,
 "nbformat_minor": 5
}