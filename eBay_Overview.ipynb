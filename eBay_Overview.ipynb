{
 "cells": [
  {
   "cell_type": "code",
   "execution_count": 1,
   "id": "reverse-picking",
   "metadata": {
    "execution": {
     "iopub.execute_input": "2021-11-03T19:30:07.375009Z",
     "iopub.status.busy": "2021-11-03T19:30:07.372437Z",
     "iopub.status.idle": "2021-11-03T19:30:08.309747Z",
     "shell.execute_reply": "2021-11-03T19:30:08.311300Z"
    },
    "papermill": {
     "duration": 0.988512,
     "end_time": "2021-11-03T19:30:08.312002",
     "exception": false,
     "start_time": "2021-11-03T19:30:07.323490",
     "status": "completed"
    },
    "tags": []
   },
   "outputs": [],
   "source": [
    "import pandas as pd\n",
    "import sqlite3"
   ]
  },
  {
   "cell_type": "code",
   "execution_count": 2,
   "id": "innovative-syndrome",
   "metadata": {
    "execution": {
     "iopub.execute_input": "2021-11-03T19:30:08.375833Z",
     "iopub.status.busy": "2021-11-03T19:30:08.373510Z",
     "iopub.status.idle": "2021-11-03T19:30:09.120417Z",
     "shell.execute_reply": "2021-11-03T19:30:09.121850Z"
    },
    "papermill": {
     "duration": 0.780876,
     "end_time": "2021-11-03T19:30:09.122327",
     "exception": false,
     "start_time": "2021-11-03T19:30:08.341451",
     "status": "completed"
    },
    "tags": []
   },
   "outputs": [],
   "source": [
    "timestamps = pd.read_sql(\"select distinct record_time from EBAY_TOP_BERLIN order by record_time desc limit 2\", sqlite3.connect(\"UsedObjects.db\"))"
   ]
  },
  {
   "cell_type": "code",
   "execution_count": 3,
   "id": "periodic-identification",
   "metadata": {
    "execution": {
     "iopub.execute_input": "2021-11-03T19:30:09.193979Z",
     "iopub.status.busy": "2021-11-03T19:30:09.191534Z",
     "iopub.status.idle": "2021-11-03T19:30:09.214315Z",
     "shell.execute_reply": "2021-11-03T19:30:09.215750Z"
    },
    "papermill": {
     "duration": 0.07425,
     "end_time": "2021-11-03T19:30:09.216229",
     "exception": false,
     "start_time": "2021-11-03T19:30:09.141979",
     "status": "completed"
    },
    "tags": []
   },
   "outputs": [
    {
     "data": {
      "text/html": [
       "<div>\n",
       "<style scoped>\n",
       "    .dataframe tbody tr th:only-of-type {\n",
       "        vertical-align: middle;\n",
       "    }\n",
       "\n",
       "    .dataframe tbody tr th {\n",
       "        vertical-align: top;\n",
       "    }\n",
       "\n",
       "    .dataframe thead th {\n",
       "        text-align: right;\n",
       "    }\n",
       "</style>\n",
       "<table border=\"1\" class=\"dataframe\">\n",
       "  <thead>\n",
       "    <tr style=\"text-align: right;\">\n",
       "      <th></th>\n",
       "      <th>RECORD_TIME</th>\n",
       "    </tr>\n",
       "  </thead>\n",
       "  <tbody>\n",
       "    <tr>\n",
       "      <th>0</th>\n",
       "      <td>2021-11-03 20:30</td>\n",
       "    </tr>\n",
       "    <tr>\n",
       "      <th>1</th>\n",
       "      <td>2021-11-03 20:00</td>\n",
       "    </tr>\n",
       "  </tbody>\n",
       "</table>\n",
       "</div>"
      ],
      "text/plain": [
       "        RECORD_TIME\n",
       "0  2021-11-03 20:30\n",
       "1  2021-11-03 20:00"
      ]
     },
     "execution_count": 3,
     "metadata": {},
     "output_type": "execute_result"
    }
   ],
   "source": [
    "timestamps"
   ]
  },
  {
   "cell_type": "code",
   "execution_count": 4,
   "id": "alternate-victory",
   "metadata": {
    "execution": {
     "iopub.execute_input": "2021-11-03T19:30:09.273849Z",
     "iopub.status.busy": "2021-11-03T19:30:09.271609Z",
     "iopub.status.idle": "2021-11-03T19:30:10.312662Z",
     "shell.execute_reply": "2021-11-03T19:30:10.314794Z"
    },
    "papermill": {
     "duration": 1.077239,
     "end_time": "2021-11-03T19:30:10.315348",
     "exception": false,
     "start_time": "2021-11-03T19:30:09.238109",
     "status": "completed"
    },
    "tags": []
   },
   "outputs": [],
   "source": [
    "df = pd.read_sql(\"select * from EBAY_TOP_BERLIN where record_time in (select distinct record_time from EBAY_TOP_BERLIN order by record_time desc limit 2)\", sqlite3.connect(\"UsedObjects.db\"))"
   ]
  },
  {
   "cell_type": "code",
   "execution_count": 5,
   "id": "popular-active",
   "metadata": {
    "execution": {
     "iopub.execute_input": "2021-11-03T19:30:10.396154Z",
     "iopub.status.busy": "2021-11-03T19:30:10.380530Z",
     "iopub.status.idle": "2021-11-03T19:30:10.416565Z",
     "shell.execute_reply": "2021-11-03T19:30:10.418003Z"
    },
    "papermill": {
     "duration": 0.080607,
     "end_time": "2021-11-03T19:30:10.418479",
     "exception": false,
     "start_time": "2021-11-03T19:30:10.337872",
     "status": "completed"
    },
    "tags": []
   },
   "outputs": [],
   "source": [
    "df_pivot = df.pivot_table(index=\"PRODUCT\", columns = \"RECORD_TIME\", values = \"LISTING_COUNT\")"
   ]
  },
  {
   "cell_type": "code",
   "execution_count": 6,
   "id": "union-huntington",
   "metadata": {
    "execution": {
     "iopub.execute_input": "2021-11-03T19:30:10.482346Z",
     "iopub.status.busy": "2021-11-03T19:30:10.479865Z",
     "iopub.status.idle": "2021-11-03T19:30:10.487753Z",
     "shell.execute_reply": "2021-11-03T19:30:10.486109Z"
    },
    "papermill": {
     "duration": 0.048005,
     "end_time": "2021-11-03T19:30:10.488218",
     "exception": false,
     "start_time": "2021-11-03T19:30:10.440213",
     "status": "completed"
    },
    "tags": []
   },
   "outputs": [],
   "source": [
    "df_pivot.columns = [\"stamp_1\", \"stamp_2\"]\n",
    "df_pivot_diff = df_pivot.diff(axis=1)"
   ]
  },
  {
   "cell_type": "code",
   "execution_count": 7,
   "id": "fifth-motion",
   "metadata": {
    "execution": {
     "iopub.execute_input": "2021-11-03T19:30:10.545543Z",
     "iopub.status.busy": "2021-11-03T19:30:10.543036Z",
     "iopub.status.idle": "2021-11-03T19:30:12.456135Z",
     "shell.execute_reply": "2021-11-03T19:30:12.458988Z"
    },
    "papermill": {
     "duration": 1.950518,
     "end_time": "2021-11-03T19:30:12.460064",
     "exception": false,
     "start_time": "2021-11-03T19:30:10.509546",
     "status": "completed"
    },
    "tags": []
   },
   "outputs": [
    {
     "data": {
      "text/plain": [
       "<AxesSubplot:ylabel='PRODUCT'>"
      ]
     },
     "execution_count": 7,
     "metadata": {},
     "output_type": "execute_result"
    },
    {
     "data": {
      "image/png": "[encoded data removed]",
      "text/plain": [
       "<Figure size 432x288 with 1 Axes>"
      ]
     },
     "metadata": {
      "needs_background": "light"
     },
     "output_type": "display_data"
    }
   ],
   "source": [
    "df_pivot_diff.sort_values(\"stamp_2\", ascending = False)[\"stamp_2\"].head(10).plot.barh()"
   ]
  },
  {
   "cell_type": "code",
   "execution_count": null,
   "id": "extra-executive",
   "metadata": {
    "papermill": {
     "duration": 0.029472,
     "end_time": "2021-11-03T19:30:12.524547",
     "exception": false,
     "start_time": "2021-11-03T19:30:12.495075",
     "status": "completed"
    },
    "tags": []
   },
   "outputs": [],
   "source": []
  }
 ],
 "metadata": {
  "kernelspec": {
   "display_name": "Python 3",
   "language": "python",
   "name": "python3"
  },
  "language_info": {
   "codemirror_mode": {
    "name": "ipython",
    "version": 3
   },
   "file_extension": ".py",
   "mimetype": "text/x-python",
   "name": "python",
   "nbconvert_exporter": "python",
   "pygments_lexer": "ipython3",
   "version": "3.9.5"
  },
  "papermill": {
   "default_parameters": {},
   "duration": 8.810015,
   "end_time": "2021-11-03T19:30:13.384438",
   "environment_variables": {},
   "exception": null,
   "input_path": "eBay_Overview.ipynb",
   "output_path": "eBay_Overview.ipynb",
   "parameters": {},
   "start_time": "2021-11-03T19:30:04.574423",
   "version": "2.3.3"
  }
 },
 "nbformat": 4,
 "nbformat_minor": 5
}