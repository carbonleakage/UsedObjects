{
 "cells": [
  {
   "cell_type": "code",
   "execution_count": 1,
   "id": "reverse-picking",
   "metadata": {
    "execution": {
     "iopub.execute_input": "2021-11-04T19:00:07.954902Z",
     "iopub.status.busy": "2021-11-04T19:00:07.952471Z",
     "iopub.status.idle": "2021-11-04T19:00:08.909669Z",
     "shell.execute_reply": "2021-11-04T19:00:08.911211Z"
    },
    "papermill": {
     "duration": 1.006509,
     "end_time": "2021-11-04T19:00:08.911986",
     "exception": false,
     "start_time": "2021-11-04T19:00:07.905477",
     "status": "completed"
    },
    "tags": []
   },
   "outputs": [],
   "source": [
    "import pandas as pd\n",
    "import sqlite3"
   ]
  },
  {
   "cell_type": "code",
   "execution_count": 2,
   "id": "innovative-syndrome",
   "metadata": {
    "execution": {
     "iopub.execute_input": "2021-11-04T19:00:08.966433Z",
     "iopub.status.busy": "2021-11-04T19:00:08.964129Z",
     "iopub.status.idle": "2021-11-04T19:00:09.707178Z",
     "shell.execute_reply": "2021-11-04T19:00:09.708866Z"
    },
    "papermill": {
     "duration": 0.775948,
     "end_time": "2021-11-04T19:00:09.709361",
     "exception": false,
     "start_time": "2021-11-04T19:00:08.933413",
     "status": "completed"
    },
    "tags": []
   },
   "outputs": [],
   "source": [
    "timestamps = pd.read_sql(\"select distinct record_time from EBAY_TOP_BERLIN order by record_time desc limit 2\", sqlite3.connect(\"UsedObjects.db\"))"
   ]
  },
  {
   "cell_type": "code",
   "execution_count": 3,
   "id": "periodic-identification",
   "metadata": {
    "execution": {
     "iopub.execute_input": "2021-11-04T19:00:09.780358Z",
     "iopub.status.busy": "2021-11-04T19:00:09.778319Z",
     "iopub.status.idle": "2021-11-04T19:00:09.798170Z",
     "shell.execute_reply": "2021-11-04T19:00:09.799769Z"
    },
    "papermill": {
     "duration": 0.068325,
     "end_time": "2021-11-04T19:00:09.800255",
     "exception": false,
     "start_time": "2021-11-04T19:00:09.731930",
     "status": "completed"
    },
    "tags": []
   },
   "outputs": [
    {
     "data": {
      "text/html": [
       "<div>\n",
       "<style scoped>\n",
       "    .dataframe tbody tr th:only-of-type {\n",
       "        vertical-align: middle;\n",
       "    }\n",
       "\n",
       "    .dataframe tbody tr th {\n",
       "        vertical-align: top;\n",
       "    }\n",
       "\n",
       "    .dataframe thead th {\n",
       "        text-align: right;\n",
       "    }\n",
       "</style>\n",
       "<table border=\"1\" class=\"dataframe\">\n",
       "  <thead>\n",
       "    <tr style=\"text-align: right;\">\n",
       "      <th></th>\n",
       "      <th>RECORD_TIME</th>\n",
       "    </tr>\n",
       "  </thead>\n",
       "  <tbody>\n",
       "    <tr>\n",
       "      <th>0</th>\n",
       "      <td>2021-11-04 20:00</td>\n",
       "    </tr>\n",
       "    <tr>\n",
       "      <th>1</th>\n",
       "      <td>2021-11-04 19:30</td>\n",
       "    </tr>\n",
       "  </tbody>\n",
       "</table>\n",
       "</div>"
      ],
      "text/plain": [
       "        RECORD_TIME\n",
       "0  2021-11-04 20:00\n",
       "1  2021-11-04 19:30"
      ]
     },
     "execution_count": 3,
     "metadata": {},
     "output_type": "execute_result"
    }
   ],
   "source": [
    "timestamps"
   ]
  },
  {
   "cell_type": "code",
   "execution_count": 4,
   "id": "alternate-victory",
   "metadata": {
    "execution": {
     "iopub.execute_input": "2021-11-04T19:00:09.852574Z",
     "iopub.status.busy": "2021-11-04T19:00:09.850642Z",
     "iopub.status.idle": "2021-11-04T19:00:10.930239Z",
     "shell.execute_reply": "2021-11-04T19:00:10.931576Z"
    },
    "papermill": {
     "duration": 1.109994,
     "end_time": "2021-11-04T19:00:10.932029",
     "exception": false,
     "start_time": "2021-11-04T19:00:09.822035",
     "status": "completed"
    },
    "tags": []
   },
   "outputs": [],
   "source": [
    "df = pd.read_sql(\"select * from EBAY_TOP_BERLIN where record_time in (select distinct record_time from EBAY_TOP_BERLIN order by record_time desc limit 2)\", sqlite3.connect(\"UsedObjects.db\"))"
   ]
  },
  {
   "cell_type": "code",
   "execution_count": 5,
   "id": "popular-active",
   "metadata": {
    "execution": {
     "iopub.execute_input": "2021-11-04T19:00:11.005828Z",
     "iopub.status.busy": "2021-11-04T19:00:10.994003Z",
     "iopub.status.idle": "2021-11-04T19:00:11.024798Z",
     "shell.execute_reply": "2021-11-04T19:00:11.026088Z"
    },
    "papermill": {
     "duration": 0.074067,
     "end_time": "2021-11-04T19:00:11.026550",
     "exception": false,
     "start_time": "2021-11-04T19:00:10.952483",
     "status": "completed"
    },
    "tags": []
   },
   "outputs": [],
   "source": [
    "df_pivot = df.pivot_table(index=\"PRODUCT\", columns = \"RECORD_TIME\", values = \"LISTING_COUNT\")"
   ]
  },
  {
   "cell_type": "code",
   "execution_count": 6,
   "id": "union-huntington",
   "metadata": {
    "execution": {
     "iopub.execute_input": "2021-11-04T19:00:11.088645Z",
     "iopub.status.busy": "2021-11-04T19:00:11.086333Z",
     "iopub.status.idle": "2021-11-04T19:00:11.092221Z",
     "shell.execute_reply": "2021-11-04T19:00:11.094050Z"
    },
    "papermill": {
     "duration": 0.046769,
     "end_time": "2021-11-04T19:00:11.094640",
     "exception": false,
     "start_time": "2021-11-04T19:00:11.047871",
     "status": "completed"
    },
    "tags": []
   },
   "outputs": [],
   "source": [
    "df_pivot.columns = [\"stamp_1\", \"stamp_2\"]\n",
    "df_pivot_diff = df_pivot.diff(axis=1)"
   ]
  },
  {
   "cell_type": "code",
   "execution_count": 7,
   "id": "fifth-motion",
   "metadata": {
    "execution": {
     "iopub.execute_input": "2021-11-04T19:00:11.154699Z",
     "iopub.status.busy": "2021-11-04T19:00:11.152151Z",
     "iopub.status.idle": "2021-11-04T19:00:13.111785Z",
     "shell.execute_reply": "2021-11-04T19:00:13.113372Z"
    },
    "papermill": {
     "duration": 1.997159,
     "end_time": "2021-11-04T19:00:13.113941",
     "exception": false,
     "start_time": "2021-11-04T19:00:11.116782",
     "status": "completed"
    },
    "tags": []
   },
   "outputs": [
    {
     "data": {
      "text/plain": [
       "<AxesSubplot:ylabel='PRODUCT'>"
      ]
     },
     "execution_count": 7,
     "metadata": {},
     "output_type": "execute_result"
    },
    {
     "data": {
      "image/png": "[encoded data removed]",
      "text/plain": [
       "<Figure size 432x288 with 1 Axes>"
      ]
     },
     "metadata": {
      "needs_background": "light"
     },
     "output_type": "display_data"
    }
   ],
   "source": [
    "df_pivot_diff.sort_values(\"stamp_2\", ascending = False)[\"stamp_2\"].head(10).plot.barh()"
   ]
  },
  {
   "cell_type": "code",
   "execution_count": null,
   "id": "extra-executive",
   "metadata": {
    "papermill": {
     "duration": 0.023121,
     "end_time": "2021-11-04T19:00:13.163455",
     "exception": false,
     "start_time": "2021-11-04T19:00:13.140334",
     "status": "completed"
    },
    "tags": []
   },
   "outputs": [],
   "source": []
  }
 ],
 "metadata": {
  "kernelspec": {
   "display_name": "Python 3",
   "language": "python",
   "name": "python3"
  },
  "language_info": {
   "codemirror_mode": {
    "name": "ipython",
    "version": 3
   },
   "file_extension": ".py",
   "mimetype": "text/x-python",
   "name": "python",
   "nbconvert_exporter": "python",
   "pygments_lexer": "ipython3",
   "version": "3.9.5"
  },
  "papermill": {
   "default_parameters": {},
   "duration": 8.85127,
   "end_time": "2021-11-04T19:00:14.016451",
   "environment_variables": {},
   "exception": null,
   "input_path": "eBay_Overview.ipynb",
   "output_path": "eBay_Overview.ipynb",
   "parameters": {},
   "start_time": "2021-11-04T19:00:05.165181",
   "version": "2.3.3"
  }
 },
 "nbformat": 4,
 "nbformat_minor": 5
}