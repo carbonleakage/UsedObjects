{
 "cells": [
  {
   "cell_type": "code",
   "execution_count": 1,
   "id": "reverse-picking",
   "metadata": {
    "execution": {
     "iopub.execute_input": "2021-08-18T06:00:07.219608Z",
     "iopub.status.busy": "2021-08-18T06:00:07.216569Z",
     "iopub.status.idle": "2021-08-18T06:00:08.021465Z",
     "shell.execute_reply": "2021-08-18T06:00:08.022770Z"
    },
    "papermill": {
     "duration": 0.856107,
     "end_time": "2021-08-18T06:00:08.023407",
     "exception": false,
     "start_time": "2021-08-18T06:00:07.167300",
     "status": "completed"
    },
    "tags": []
   },
   "outputs": [],
   "source": [
    "import pandas as pd\n",
    "import sqlite3"
   ]
  },
  {
   "cell_type": "code",
   "execution_count": 2,
   "id": "innovative-syndrome",
   "metadata": {
    "execution": {
     "iopub.execute_input": "2021-08-18T06:00:08.073712Z",
     "iopub.status.busy": "2021-08-18T06:00:08.071868Z",
     "iopub.status.idle": "2021-08-18T06:00:08.145094Z",
     "shell.execute_reply": "2021-08-18T06:00:08.146400Z"
    },
    "papermill": {
     "duration": 0.10284,
     "end_time": "2021-08-18T06:00:08.146851",
     "exception": false,
     "start_time": "2021-08-18T06:00:08.044011",
     "status": "completed"
    },
    "tags": []
   },
   "outputs": [],
   "source": [
    "timestamps = pd.read_sql(\"select distinct record_time from EBAY_TOP_BERLIN order by record_time desc limit 2\", sqlite3.connect(\"UsedObjects.db\"))"
   ]
  },
  {
   "cell_type": "code",
   "execution_count": 3,
   "id": "periodic-identification",
   "metadata": {
    "execution": {
     "iopub.execute_input": "2021-08-18T06:00:08.211093Z",
     "iopub.status.busy": "2021-08-18T06:00:08.209019Z",
     "iopub.status.idle": "2021-08-18T06:00:08.230639Z",
     "shell.execute_reply": "2021-08-18T06:00:08.232010Z"
    },
    "papermill": {
     "duration": 0.066328,
     "end_time": "2021-08-18T06:00:08.232445",
     "exception": false,
     "start_time": "2021-08-18T06:00:08.166117",
     "status": "completed"
    },
    "tags": []
   },
   "outputs": [
    {
     "data": {
      "text/html": [
       "<div>\n",
       "<style scoped>\n",
       "    .dataframe tbody tr th:only-of-type {\n",
       "        vertical-align: middle;\n",
       "    }\n",
       "\n",
       "    .dataframe tbody tr th {\n",
       "        vertical-align: top;\n",
       "    }\n",
       "\n",
       "    .dataframe thead th {\n",
       "        text-align: right;\n",
       "    }\n",
       "</style>\n",
       "<table border=\"1\" class=\"dataframe\">\n",
       "  <thead>\n",
       "    <tr style=\"text-align: right;\">\n",
       "      <th></th>\n",
       "      <th>RECORD_TIME</th>\n",
       "    </tr>\n",
       "  </thead>\n",
       "  <tbody>\n",
       "    <tr>\n",
       "      <th>0</th>\n",
       "      <td>2021-08-18 08:00</td>\n",
       "    </tr>\n",
       "    <tr>\n",
       "      <th>1</th>\n",
       "      <td>2021-08-18 07:30</td>\n",
       "    </tr>\n",
       "  </tbody>\n",
       "</table>\n",
       "</div>"
      ],
      "text/plain": [
       "        RECORD_TIME\n",
       "0  2021-08-18 08:00\n",
       "1  2021-08-18 07:30"
      ]
     },
     "execution_count": 3,
     "metadata": {},
     "output_type": "execute_result"
    }
   ],
   "source": [
    "timestamps"
   ]
  },
  {
   "cell_type": "code",
   "execution_count": 4,
   "id": "alternate-victory",
   "metadata": {
    "execution": {
     "iopub.execute_input": "2021-08-18T06:00:08.283430Z",
     "iopub.status.busy": "2021-08-18T06:00:08.281538Z",
     "iopub.status.idle": "2021-08-18T06:00:08.387913Z",
     "shell.execute_reply": "2021-08-18T06:00:08.389113Z"
    },
    "papermill": {
     "duration": 0.136154,
     "end_time": "2021-08-18T06:00:08.389512",
     "exception": false,
     "start_time": "2021-08-18T06:00:08.253358",
     "status": "completed"
    },
    "tags": []
   },
   "outputs": [],
   "source": [
    "df = pd.read_sql(\"select * from EBAY_TOP_BERLIN where record_time in (select distinct record_time from EBAY_TOP_BERLIN order by record_time desc limit 2)\", sqlite3.connect(\"UsedObjects.db\"))"
   ]
  },
  {
   "cell_type": "code",
   "execution_count": 5,
   "id": "popular-active",
   "metadata": {
    "execution": {
     "iopub.execute_input": "2021-08-18T06:00:08.460409Z",
     "iopub.status.busy": "2021-08-18T06:00:08.448108Z",
     "iopub.status.idle": "2021-08-18T06:00:08.476253Z",
     "shell.execute_reply": "2021-08-18T06:00:08.477439Z"
    },
    "papermill": {
     "duration": 0.068125,
     "end_time": "2021-08-18T06:00:08.477832",
     "exception": false,
     "start_time": "2021-08-18T06:00:08.409707",
     "status": "completed"
    },
    "tags": []
   },
   "outputs": [],
   "source": [
    "df_pivot = df.pivot_table(index=\"PRODUCT\", columns = \"RECORD_TIME\", values = \"LISTING_COUNT\")"
   ]
  },
  {
   "cell_type": "code",
   "execution_count": 6,
   "id": "union-huntington",
   "metadata": {
    "execution": {
     "iopub.execute_input": "2021-08-18T06:00:08.534612Z",
     "iopub.status.busy": "2021-08-18T06:00:08.532503Z",
     "iopub.status.idle": "2021-08-18T06:00:08.537688Z",
     "shell.execute_reply": "2021-08-18T06:00:08.539226Z"
    },
    "papermill": {
     "duration": 0.040505,
     "end_time": "2021-08-18T06:00:08.539763",
     "exception": false,
     "start_time": "2021-08-18T06:00:08.499258",
     "status": "completed"
    },
    "tags": []
   },
   "outputs": [],
   "source": [
    "df_pivot.columns = [\"stamp_1\", \"stamp_2\"]\n",
    "df_pivot_diff = df_pivot.diff(axis=1)"
   ]
  },
  {
   "cell_type": "code",
   "execution_count": 7,
   "id": "fifth-motion",
   "metadata": {
    "execution": {
     "iopub.execute_input": "2021-08-18T06:00:08.595373Z",
     "iopub.status.busy": "2021-08-18T06:00:08.592681Z",
     "iopub.status.idle": "2021-08-18T06:00:10.084293Z",
     "shell.execute_reply": "2021-08-18T06:00:10.085572Z"
    },
    "papermill": {
     "duration": 1.525499,
     "end_time": "2021-08-18T06:00:10.086035",
     "exception": false,
     "start_time": "2021-08-18T06:00:08.560536",
     "status": "completed"
    },
    "tags": []
   },
   "outputs": [
    {
     "data": {
      "text/plain": [
       "<AxesSubplot:ylabel='PRODUCT'>"
      ]
     },
     "execution_count": 7,
     "metadata": {},
     "output_type": "execute_result"
    },
    {
     "data": {
      "image/png": "[encoded data removed]",
      "text/plain": [
       "<Figure size 432x288 with 1 Axes>"
      ]
     },
     "metadata": {
      "needs_background": "light"
     },
     "output_type": "display_data"
    }
   ],
   "source": [
    "df_pivot_diff.sort_values(\"stamp_2\", ascending = False)[\"stamp_2\"].head(10).plot.barh()"
   ]
  },
  {
   "cell_type": "code",
   "execution_count": null,
   "id": "extra-executive",
   "metadata": {
    "papermill": {
     "duration": 0.022361,
     "end_time": "2021-08-18T06:00:10.132244",
     "exception": false,
     "start_time": "2021-08-18T06:00:10.109883",
     "status": "completed"
    },
    "tags": []
   },
   "outputs": [],
   "source": []
  }
 ],
 "metadata": {
  "kernelspec": {
   "display_name": "Python 3",
   "language": "python",
   "name": "python3"
  },
  "language_info": {
   "codemirror_mode": {
    "name": "ipython",
    "version": 3
   },
   "file_extension": ".py",
   "mimetype": "text/x-python",
   "name": "python",
   "nbconvert_exporter": "python",
   "pygments_lexer": "ipython3",
   "version": "3.9.5"
  },
  "papermill": {
   "default_parameters": {},
   "duration": 6.821723,
   "end_time": "2021-08-18T06:00:11.582924",
   "environment_variables": {},
   "exception": null,
   "input_path": "eBay_Overview.ipynb",
   "output_path": "eBay_Overview.ipynb",
   "parameters": {},
   "start_time": "2021-08-18T06:00:04.761201",
   "version": "2.3.3"
  }
 },
 "nbformat": 4,
 "nbformat_minor": 5
}