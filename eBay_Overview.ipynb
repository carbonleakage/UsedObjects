{
 "cells": [
  {
   "cell_type": "code",
   "execution_count": 1,
   "id": "reverse-picking",
   "metadata": {
    "execution": {
     "iopub.execute_input": "2021-12-11T07:00:07.372429Z",
     "iopub.status.busy": "2021-12-11T07:00:07.370052Z",
     "iopub.status.idle": "2021-12-11T07:00:08.313984Z",
     "shell.execute_reply": "2021-12-11T07:00:08.315647Z"
    },
    "papermill": {
     "duration": 0.993698,
     "end_time": "2021-12-11T07:00:08.316445",
     "exception": false,
     "start_time": "2021-12-11T07:00:07.322747",
     "status": "completed"
    },
    "tags": []
   },
   "outputs": [],
   "source": [
    "import pandas as pd\n",
    "import sqlite3"
   ]
  },
  {
   "cell_type": "code",
   "execution_count": 2,
   "id": "innovative-syndrome",
   "metadata": {
    "execution": {
     "iopub.execute_input": "2021-12-11T07:00:08.379658Z",
     "iopub.status.busy": "2021-12-11T07:00:08.377494Z",
     "iopub.status.idle": "2021-12-11T07:00:09.432195Z",
     "shell.execute_reply": "2021-12-11T07:00:09.434105Z"
    },
    "papermill": {
     "duration": 1.09099,
     "end_time": "2021-12-11T07:00:09.434615",
     "exception": false,
     "start_time": "2021-12-11T07:00:08.343625",
     "status": "completed"
    },
    "tags": []
   },
   "outputs": [],
   "source": [
    "timestamps = pd.read_sql(\"select distinct record_time from EBAY_TOP_BERLIN order by record_time desc limit 2\", sqlite3.connect(\"UsedObjects.db\"))"
   ]
  },
  {
   "cell_type": "code",
   "execution_count": 3,
   "id": "periodic-identification",
   "metadata": {
    "execution": {
     "iopub.execute_input": "2021-12-11T07:00:09.503593Z",
     "iopub.status.busy": "2021-12-11T07:00:09.501305Z",
     "iopub.status.idle": "2021-12-11T07:00:09.522765Z",
     "shell.execute_reply": "2021-12-11T07:00:09.524238Z"
    },
    "papermill": {
     "duration": 0.069763,
     "end_time": "2021-12-11T07:00:09.524819",
     "exception": false,
     "start_time": "2021-12-11T07:00:09.455056",
     "status": "completed"
    },
    "tags": []
   },
   "outputs": [
    {
     "data": {
      "text/html": [
       "<div>\n",
       "<style scoped>\n",
       "    .dataframe tbody tr th:only-of-type {\n",
       "        vertical-align: middle;\n",
       "    }\n",
       "\n",
       "    .dataframe tbody tr th {\n",
       "        vertical-align: top;\n",
       "    }\n",
       "\n",
       "    .dataframe thead th {\n",
       "        text-align: right;\n",
       "    }\n",
       "</style>\n",
       "<table border=\"1\" class=\"dataframe\">\n",
       "  <thead>\n",
       "    <tr style=\"text-align: right;\">\n",
       "      <th></th>\n",
       "      <th>RECORD_TIME</th>\n",
       "    </tr>\n",
       "  </thead>\n",
       "  <tbody>\n",
       "    <tr>\n",
       "      <th>0</th>\n",
       "      <td>2021-12-11 08:00</td>\n",
       "    </tr>\n",
       "    <tr>\n",
       "      <th>1</th>\n",
       "      <td>2021-12-11 07:30</td>\n",
       "    </tr>\n",
       "  </tbody>\n",
       "</table>\n",
       "</div>"
      ],
      "text/plain": [
       "        RECORD_TIME\n",
       "0  2021-12-11 08:00\n",
       "1  2021-12-11 07:30"
      ]
     },
     "execution_count": 3,
     "metadata": {},
     "output_type": "execute_result"
    }
   ],
   "source": [
    "timestamps"
   ]
  },
  {
   "cell_type": "code",
   "execution_count": 4,
   "id": "alternate-victory",
   "metadata": {
    "execution": {
     "iopub.execute_input": "2021-12-11T07:00:09.579127Z",
     "iopub.status.busy": "2021-12-11T07:00:09.577043Z",
     "iopub.status.idle": "2021-12-11T07:00:11.110416Z",
     "shell.execute_reply": "2021-12-11T07:00:11.113373Z"
    },
    "papermill": {
     "duration": 1.567632,
     "end_time": "2021-12-11T07:00:11.114051",
     "exception": false,
     "start_time": "2021-12-11T07:00:09.546419",
     "status": "completed"
    },
    "tags": []
   },
   "outputs": [],
   "source": [
    "df = pd.read_sql(\"select * from EBAY_TOP_BERLIN where record_time in (select distinct record_time from EBAY_TOP_BERLIN order by record_time desc limit 2)\", sqlite3.connect(\"UsedObjects.db\"))"
   ]
  },
  {
   "cell_type": "code",
   "execution_count": 5,
   "id": "popular-active",
   "metadata": {
    "execution": {
     "iopub.execute_input": "2021-12-11T07:00:11.189625Z",
     "iopub.status.busy": "2021-12-11T07:00:11.180819Z",
     "iopub.status.idle": "2021-12-11T07:00:11.214841Z",
     "shell.execute_reply": "2021-12-11T07:00:11.216094Z"
    },
    "papermill": {
     "duration": 0.078492,
     "end_time": "2021-12-11T07:00:11.216544",
     "exception": false,
     "start_time": "2021-12-11T07:00:11.138052",
     "status": "completed"
    },
    "tags": []
   },
   "outputs": [],
   "source": [
    "df_pivot = df.pivot_table(index=\"PRODUCT\", columns = \"RECORD_TIME\", values = \"LISTING_COUNT\")"
   ]
  },
  {
   "cell_type": "code",
   "execution_count": 6,
   "id": "union-huntington",
   "metadata": {
    "execution": {
     "iopub.execute_input": "2021-12-11T07:00:11.275162Z",
     "iopub.status.busy": "2021-12-11T07:00:11.273099Z",
     "iopub.status.idle": "2021-12-11T07:00:11.279850Z",
     "shell.execute_reply": "2021-12-11T07:00:11.278532Z"
    },
    "papermill": {
     "duration": 0.043136,
     "end_time": "2021-12-11T07:00:11.280227",
     "exception": false,
     "start_time": "2021-12-11T07:00:11.237091",
     "status": "completed"
    },
    "tags": []
   },
   "outputs": [],
   "source": [
    "df_pivot.columns = [\"stamp_1\", \"stamp_2\"]\n",
    "df_pivot_diff = df_pivot.diff(axis=1)"
   ]
  },
  {
   "cell_type": "code",
   "execution_count": 7,
   "id": "fifth-motion",
   "metadata": {
    "execution": {
     "iopub.execute_input": "2021-12-11T07:00:11.341770Z",
     "iopub.status.busy": "2021-12-11T07:00:11.339152Z",
     "iopub.status.idle": "2021-12-11T07:00:13.231095Z",
     "shell.execute_reply": "2021-12-11T07:00:13.232953Z"
    },
    "papermill": {
     "duration": 1.931418,
     "end_time": "2021-12-11T07:00:13.233545",
     "exception": false,
     "start_time": "2021-12-11T07:00:11.302127",
     "status": "completed"
    },
    "tags": []
   },
   "outputs": [
    {
     "data": {
      "text/plain": [
       "<AxesSubplot:ylabel='PRODUCT'>"
      ]
     },
     "execution_count": 7,
     "metadata": {},
     "output_type": "execute_result"
    },
    {
     "data": {
      "image/png": "[encoded data removed]",
      "text/plain": [
       "<Figure size 432x288 with 1 Axes>"
      ]
     },
     "metadata": {
      "needs_background": "light"
     },
     "output_type": "display_data"
    }
   ],
   "source": [
    "df_pivot_diff.sort_values(\"stamp_2\", ascending = False)[\"stamp_2\"].head(10).plot.barh()"
   ]
  },
  {
   "cell_type": "code",
   "execution_count": null,
   "id": "extra-executive",
   "metadata": {
    "papermill": {
     "duration": 0.022321,
     "end_time": "2021-12-11T07:00:13.279870",
     "exception": false,
     "start_time": "2021-12-11T07:00:13.257549",
     "status": "completed"
    },
    "tags": []
   },
   "outputs": [],
   "source": []
  }
 ],
 "metadata": {
  "kernelspec": {
   "display_name": "Python 3",
   "language": "python",
   "name": "python3"
  },
  "language_info": {
   "codemirror_mode": {
    "name": "ipython",
    "version": 3
   },
   "file_extension": ".py",
   "mimetype": "text/x-python",
   "name": "python",
   "nbconvert_exporter": "python",
   "pygments_lexer": "ipython3",
   "version": "3.9.5"
  },
  "papermill": {
   "default_parameters": {},
   "duration": 10.024317,
   "end_time": "2021-12-11T07:00:14.540865",
   "environment_variables": {},
   "exception": null,
   "input_path": "eBay_Overview.ipynb",
   "output_path": "eBay_Overview.ipynb",
   "parameters": {},
   "start_time": "2021-12-11T07:00:04.516548",
   "version": "2.3.3"
  }
 },
 "nbformat": 4,
 "nbformat_minor": 5
}