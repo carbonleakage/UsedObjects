{
 "cells": [
  {
   "cell_type": "code",
   "execution_count": 1,
   "id": "reverse-picking",
   "metadata": {
    "execution": {
     "iopub.execute_input": "2021-08-30T22:30:07.082034Z",
     "iopub.status.busy": "2021-08-30T22:30:07.080044Z",
     "iopub.status.idle": "2021-08-30T22:30:07.886592Z",
     "shell.execute_reply": "2021-08-30T22:30:07.887850Z"
    },
    "papermill": {
     "duration": 0.859099,
     "end_time": "2021-08-30T22:30:07.888523",
     "exception": false,
     "start_time": "2021-08-30T22:30:07.029424",
     "status": "completed"
    },
    "tags": []
   },
   "outputs": [],
   "source": [
    "import pandas as pd\n",
    "import sqlite3"
   ]
  },
  {
   "cell_type": "code",
   "execution_count": 2,
   "id": "innovative-syndrome",
   "metadata": {
    "execution": {
     "iopub.execute_input": "2021-08-30T22:30:07.939452Z",
     "iopub.status.busy": "2021-08-30T22:30:07.937589Z",
     "iopub.status.idle": "2021-08-30T22:30:08.109809Z",
     "shell.execute_reply": "2021-08-30T22:30:08.111081Z"
    },
    "papermill": {
     "duration": 0.201841,
     "end_time": "2021-08-30T22:30:08.111496",
     "exception": false,
     "start_time": "2021-08-30T22:30:07.909655",
     "status": "completed"
    },
    "tags": []
   },
   "outputs": [],
   "source": [
    "timestamps = pd.read_sql(\"select distinct record_time from EBAY_TOP_BERLIN order by record_time desc limit 2\", sqlite3.connect(\"UsedObjects.db\"))"
   ]
  },
  {
   "cell_type": "code",
   "execution_count": 3,
   "id": "periodic-identification",
   "metadata": {
    "execution": {
     "iopub.execute_input": "2021-08-30T22:30:08.178348Z",
     "iopub.status.busy": "2021-08-30T22:30:08.176353Z",
     "iopub.status.idle": "2021-08-30T22:30:08.196388Z",
     "shell.execute_reply": "2021-08-30T22:30:08.197815Z"
    },
    "papermill": {
     "duration": 0.067275,
     "end_time": "2021-08-30T22:30:08.198248",
     "exception": false,
     "start_time": "2021-08-30T22:30:08.130973",
     "status": "completed"
    },
    "tags": []
   },
   "outputs": [
    {
     "data": {
      "text/html": [
       "<div>\n",
       "<style scoped>\n",
       "    .dataframe tbody tr th:only-of-type {\n",
       "        vertical-align: middle;\n",
       "    }\n",
       "\n",
       "    .dataframe tbody tr th {\n",
       "        vertical-align: top;\n",
       "    }\n",
       "\n",
       "    .dataframe thead th {\n",
       "        text-align: right;\n",
       "    }\n",
       "</style>\n",
       "<table border=\"1\" class=\"dataframe\">\n",
       "  <thead>\n",
       "    <tr style=\"text-align: right;\">\n",
       "      <th></th>\n",
       "      <th>RECORD_TIME</th>\n",
       "    </tr>\n",
       "  </thead>\n",
       "  <tbody>\n",
       "    <tr>\n",
       "      <th>0</th>\n",
       "      <td>2021-08-31 00:30</td>\n",
       "    </tr>\n",
       "    <tr>\n",
       "      <th>1</th>\n",
       "      <td>2021-08-31 00:00</td>\n",
       "    </tr>\n",
       "  </tbody>\n",
       "</table>\n",
       "</div>"
      ],
      "text/plain": [
       "        RECORD_TIME\n",
       "0  2021-08-31 00:30\n",
       "1  2021-08-31 00:00"
      ]
     },
     "execution_count": 3,
     "metadata": {},
     "output_type": "execute_result"
    }
   ],
   "source": [
    "timestamps"
   ]
  },
  {
   "cell_type": "code",
   "execution_count": 4,
   "id": "alternate-victory",
   "metadata": {
    "execution": {
     "iopub.execute_input": "2021-08-30T22:30:08.250515Z",
     "iopub.status.busy": "2021-08-30T22:30:08.248346Z",
     "iopub.status.idle": "2021-08-30T22:30:08.503972Z",
     "shell.execute_reply": "2021-08-30T22:30:08.505335Z"
    },
    "papermill": {
     "duration": 0.286021,
     "end_time": "2021-08-30T22:30:08.505752",
     "exception": false,
     "start_time": "2021-08-30T22:30:08.219731",
     "status": "completed"
    },
    "tags": []
   },
   "outputs": [],
   "source": [
    "df = pd.read_sql(\"select * from EBAY_TOP_BERLIN where record_time in (select distinct record_time from EBAY_TOP_BERLIN order by record_time desc limit 2)\", sqlite3.connect(\"UsedObjects.db\"))"
   ]
  },
  {
   "cell_type": "code",
   "execution_count": 5,
   "id": "popular-active",
   "metadata": {
    "execution": {
     "iopub.execute_input": "2021-08-30T22:30:08.593082Z",
     "iopub.status.busy": "2021-08-30T22:30:08.581579Z",
     "iopub.status.idle": "2021-08-30T22:30:08.609879Z",
     "shell.execute_reply": "2021-08-30T22:30:08.611099Z"
    },
    "papermill": {
     "duration": 0.075982,
     "end_time": "2021-08-30T22:30:08.611493",
     "exception": false,
     "start_time": "2021-08-30T22:30:08.535511",
     "status": "completed"
    },
    "tags": []
   },
   "outputs": [],
   "source": [
    "df_pivot = df.pivot_table(index=\"PRODUCT\", columns = \"RECORD_TIME\", values = \"LISTING_COUNT\")"
   ]
  },
  {
   "cell_type": "code",
   "execution_count": 6,
   "id": "union-huntington",
   "metadata": {
    "execution": {
     "iopub.execute_input": "2021-08-30T22:30:08.671116Z",
     "iopub.status.busy": "2021-08-30T22:30:08.668687Z",
     "iopub.status.idle": "2021-08-30T22:30:08.674775Z",
     "shell.execute_reply": "2021-08-30T22:30:08.676288Z"
    },
    "papermill": {
     "duration": 0.042798,
     "end_time": "2021-08-30T22:30:08.676768",
     "exception": false,
     "start_time": "2021-08-30T22:30:08.633970",
     "status": "completed"
    },
    "tags": []
   },
   "outputs": [],
   "source": [
    "df_pivot.columns = [\"stamp_1\", \"stamp_2\"]\n",
    "df_pivot_diff = df_pivot.diff(axis=1)"
   ]
  },
  {
   "cell_type": "code",
   "execution_count": 7,
   "id": "fifth-motion",
   "metadata": {
    "execution": {
     "iopub.execute_input": "2021-08-30T22:30:08.732153Z",
     "iopub.status.busy": "2021-08-30T22:30:08.729831Z",
     "iopub.status.idle": "2021-08-30T22:30:10.234073Z",
     "shell.execute_reply": "2021-08-30T22:30:10.235347Z"
    },
    "papermill": {
     "duration": 1.536888,
     "end_time": "2021-08-30T22:30:10.235762",
     "exception": false,
     "start_time": "2021-08-30T22:30:08.698874",
     "status": "completed"
    },
    "tags": []
   },
   "outputs": [
    {
     "data": {
      "text/plain": [
       "<AxesSubplot:ylabel='PRODUCT'>"
      ]
     },
     "execution_count": 7,
     "metadata": {},
     "output_type": "execute_result"
    },
    {
     "data": {
      "image/png": "[encoded data removed]",
      "text/plain": [
       "<Figure size 432x288 with 1 Axes>"
      ]
     },
     "metadata": {
      "needs_background": "light"
     },
     "output_type": "display_data"
    }
   ],
   "source": [
    "df_pivot_diff.sort_values(\"stamp_2\", ascending = False)[\"stamp_2\"].head(10).plot.barh()"
   ]
  },
  {
   "cell_type": "code",
   "execution_count": null,
   "id": "extra-executive",
   "metadata": {
    "papermill": {
     "duration": 0.022439,
     "end_time": "2021-08-30T22:30:10.283067",
     "exception": false,
     "start_time": "2021-08-30T22:30:10.260628",
     "status": "completed"
    },
    "tags": []
   },
   "outputs": [],
   "source": []
  }
 ],
 "metadata": {
  "kernelspec": {
   "display_name": "Python 3",
   "language": "python",
   "name": "python3"
  },
  "language_info": {
   "codemirror_mode": {
    "name": "ipython",
    "version": 3
   },
   "file_extension": ".py",
   "mimetype": "text/x-python",
   "name": "python",
   "nbconvert_exporter": "python",
   "pygments_lexer": "ipython3",
   "version": "3.9.5"
  },
  "papermill": {
   "default_parameters": {},
   "duration": 6.819569,
   "end_time": "2021-08-30T22:30:11.444540",
   "environment_variables": {},
   "exception": null,
   "input_path": "eBay_Overview.ipynb",
   "output_path": "eBay_Overview.ipynb",
   "parameters": {},
   "start_time": "2021-08-30T22:30:04.624971",
   "version": "2.3.3"
  }
 },
 "nbformat": 4,
 "nbformat_minor": 5
}