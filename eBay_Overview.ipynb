{
 "cells": [
  {
   "cell_type": "code",
   "execution_count": 1,
   "id": "reverse-picking",
   "metadata": {
    "execution": {
     "iopub.execute_input": "2021-12-16T07:30:08.227835Z",
     "iopub.status.busy": "2021-12-16T07:30:08.225436Z",
     "iopub.status.idle": "2021-12-16T07:30:09.193250Z",
     "shell.execute_reply": "2021-12-16T07:30:09.194788Z"
    },
    "papermill": {
     "duration": 1.018434,
     "end_time": "2021-12-16T07:30:09.195534",
     "exception": false,
     "start_time": "2021-12-16T07:30:08.177100",
     "status": "completed"
    },
    "tags": []
   },
   "outputs": [],
   "source": [
    "import pandas as pd\n",
    "import sqlite3"
   ]
  },
  {
   "cell_type": "code",
   "execution_count": 2,
   "id": "innovative-syndrome",
   "metadata": {
    "execution": {
     "iopub.execute_input": "2021-12-16T07:30:09.255976Z",
     "iopub.status.busy": "2021-12-16T07:30:09.253701Z",
     "iopub.status.idle": "2021-12-16T07:30:10.349797Z",
     "shell.execute_reply": "2021-12-16T07:30:10.351348Z"
    },
    "papermill": {
     "duration": 1.130091,
     "end_time": "2021-12-16T07:30:10.351847",
     "exception": false,
     "start_time": "2021-12-16T07:30:09.221756",
     "status": "completed"
    },
    "tags": []
   },
   "outputs": [],
   "source": [
    "timestamps = pd.read_sql(\"select distinct record_time from EBAY_TOP_BERLIN order by record_time desc limit 2\", sqlite3.connect(\"UsedObjects.db\"))"
   ]
  },
  {
   "cell_type": "code",
   "execution_count": 3,
   "id": "periodic-identification",
   "metadata": {
    "execution": {
     "iopub.execute_input": "2021-12-16T07:30:10.426803Z",
     "iopub.status.busy": "2021-12-16T07:30:10.424305Z",
     "iopub.status.idle": "2021-12-16T07:30:10.447541Z",
     "shell.execute_reply": "2021-12-16T07:30:10.449159Z"
    },
    "papermill": {
     "duration": 0.074621,
     "end_time": "2021-12-16T07:30:10.449646",
     "exception": false,
     "start_time": "2021-12-16T07:30:10.375025",
     "status": "completed"
    },
    "tags": []
   },
   "outputs": [
    {
     "data": {
      "text/html": [
       "<div>\n",
       "<style scoped>\n",
       "    .dataframe tbody tr th:only-of-type {\n",
       "        vertical-align: middle;\n",
       "    }\n",
       "\n",
       "    .dataframe tbody tr th {\n",
       "        vertical-align: top;\n",
       "    }\n",
       "\n",
       "    .dataframe thead th {\n",
       "        text-align: right;\n",
       "    }\n",
       "</style>\n",
       "<table border=\"1\" class=\"dataframe\">\n",
       "  <thead>\n",
       "    <tr style=\"text-align: right;\">\n",
       "      <th></th>\n",
       "      <th>RECORD_TIME</th>\n",
       "    </tr>\n",
       "  </thead>\n",
       "  <tbody>\n",
       "    <tr>\n",
       "      <th>0</th>\n",
       "      <td>2021-12-16 08:30</td>\n",
       "    </tr>\n",
       "    <tr>\n",
       "      <th>1</th>\n",
       "      <td>2021-12-16 08:00</td>\n",
       "    </tr>\n",
       "  </tbody>\n",
       "</table>\n",
       "</div>"
      ],
      "text/plain": [
       "        RECORD_TIME\n",
       "0  2021-12-16 08:30\n",
       "1  2021-12-16 08:00"
      ]
     },
     "execution_count": 3,
     "metadata": {},
     "output_type": "execute_result"
    }
   ],
   "source": [
    "timestamps"
   ]
  },
  {
   "cell_type": "code",
   "execution_count": 4,
   "id": "alternate-victory",
   "metadata": {
    "execution": {
     "iopub.execute_input": "2021-12-16T07:30:10.507826Z",
     "iopub.status.busy": "2021-12-16T07:30:10.505600Z",
     "iopub.status.idle": "2021-12-16T07:30:12.075490Z",
     "shell.execute_reply": "2021-12-16T07:30:12.077376Z"
    },
    "papermill": {
     "duration": 1.605541,
     "end_time": "2021-12-16T07:30:12.077865",
     "exception": false,
     "start_time": "2021-12-16T07:30:10.472324",
     "status": "completed"
    },
    "tags": []
   },
   "outputs": [],
   "source": [
    "df = pd.read_sql(\"select * from EBAY_TOP_BERLIN where record_time in (select distinct record_time from EBAY_TOP_BERLIN order by record_time desc limit 2)\", sqlite3.connect(\"UsedObjects.db\"))"
   ]
  },
  {
   "cell_type": "code",
   "execution_count": 5,
   "id": "popular-active",
   "metadata": {
    "execution": {
     "iopub.execute_input": "2021-12-16T07:30:12.145894Z",
     "iopub.status.busy": "2021-12-16T07:30:12.141699Z",
     "iopub.status.idle": "2021-12-16T07:30:12.174988Z",
     "shell.execute_reply": "2021-12-16T07:30:12.176483Z"
    },
    "papermill": {
     "duration": 0.076816,
     "end_time": "2021-12-16T07:30:12.177047",
     "exception": false,
     "start_time": "2021-12-16T07:30:12.100231",
     "status": "completed"
    },
    "tags": []
   },
   "outputs": [],
   "source": [
    "df_pivot = df.pivot_table(index=\"PRODUCT\", columns = \"RECORD_TIME\", values = \"LISTING_COUNT\")"
   ]
  },
  {
   "cell_type": "code",
   "execution_count": 6,
   "id": "union-huntington",
   "metadata": {
    "execution": {
     "iopub.execute_input": "2021-12-16T07:30:12.236882Z",
     "iopub.status.busy": "2021-12-16T07:30:12.234645Z",
     "iopub.status.idle": "2021-12-16T07:30:12.240416Z",
     "shell.execute_reply": "2021-12-16T07:30:12.242001Z"
    },
    "papermill": {
     "duration": 0.043715,
     "end_time": "2021-12-16T07:30:12.242469",
     "exception": false,
     "start_time": "2021-12-16T07:30:12.198754",
     "status": "completed"
    },
    "tags": []
   },
   "outputs": [],
   "source": [
    "df_pivot.columns = [\"stamp_1\", \"stamp_2\"]\n",
    "df_pivot_diff = df_pivot.diff(axis=1)"
   ]
  },
  {
   "cell_type": "code",
   "execution_count": 7,
   "id": "fifth-motion",
   "metadata": {
    "execution": {
     "iopub.execute_input": "2021-12-16T07:30:12.299634Z",
     "iopub.status.busy": "2021-12-16T07:30:12.297186Z",
     "iopub.status.idle": "2021-12-16T07:30:14.256372Z",
     "shell.execute_reply": "2021-12-16T07:30:14.257828Z"
    },
    "papermill": {
     "duration": 1.99485,
     "end_time": "2021-12-16T07:30:14.258282",
     "exception": false,
     "start_time": "2021-12-16T07:30:12.263432",
     "status": "completed"
    },
    "tags": []
   },
   "outputs": [
    {
     "data": {
      "text/plain": [
       "<AxesSubplot:ylabel='PRODUCT'>"
      ]
     },
     "execution_count": 7,
     "metadata": {},
     "output_type": "execute_result"
    },
    {
     "data": {
      "image/png": "[encoded data removed]",
      "text/plain": [
       "<Figure size 432x288 with 1 Axes>"
      ]
     },
     "metadata": {
      "needs_background": "light"
     },
     "output_type": "display_data"
    }
   ],
   "source": [
    "df_pivot_diff.sort_values(\"stamp_2\", ascending = False)[\"stamp_2\"].head(10).plot.barh()"
   ]
  },
  {
   "cell_type": "code",
   "execution_count": null,
   "id": "extra-executive",
   "metadata": {
    "papermill": {
     "duration": 0.027651,
     "end_time": "2021-12-16T07:30:14.320455",
     "exception": false,
     "start_time": "2021-12-16T07:30:14.292804",
     "status": "completed"
    },
    "tags": []
   },
   "outputs": [],
   "source": []
  }
 ],
 "metadata": {
  "kernelspec": {
   "display_name": "Python 3",
   "language": "python",
   "name": "python3"
  },
  "language_info": {
   "codemirror_mode": {
    "name": "ipython",
    "version": 3
   },
   "file_extension": ".py",
   "mimetype": "text/x-python",
   "name": "python",
   "nbconvert_exporter": "python",
   "pygments_lexer": "ipython3",
   "version": "3.9.5"
  },
  "papermill": {
   "default_parameters": {},
   "duration": 9.562484,
   "end_time": "2021-12-16T07:30:14.988287",
   "environment_variables": {},
   "exception": null,
   "input_path": "eBay_Overview.ipynb",
   "output_path": "eBay_Overview.ipynb",
   "parameters": {},
   "start_time": "2021-12-16T07:30:05.425803",
   "version": "2.3.3"
  }
 },
 "nbformat": 4,
 "nbformat_minor": 5
}