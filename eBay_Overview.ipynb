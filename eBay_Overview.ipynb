{
 "cells": [
  {
   "cell_type": "code",
   "execution_count": 1,
   "id": "reverse-picking",
   "metadata": {
    "execution": {
     "iopub.execute_input": "2021-09-18T20:30:07.200567Z",
     "iopub.status.busy": "2021-09-18T20:30:07.198565Z",
     "iopub.status.idle": "2021-09-18T20:30:08.001546Z",
     "shell.execute_reply": "2021-09-18T20:30:08.002903Z"
    },
    "papermill": {
     "duration": 0.855217,
     "end_time": "2021-09-18T20:30:08.003560",
     "exception": false,
     "start_time": "2021-09-18T20:30:07.148343",
     "status": "completed"
    },
    "tags": []
   },
   "outputs": [],
   "source": [
    "import pandas as pd\n",
    "import sqlite3"
   ]
  },
  {
   "cell_type": "code",
   "execution_count": 2,
   "id": "innovative-syndrome",
   "metadata": {
    "execution": {
     "iopub.execute_input": "2021-09-18T20:30:08.054346Z",
     "iopub.status.busy": "2021-09-18T20:30:08.052330Z",
     "iopub.status.idle": "2021-09-18T20:30:08.367588Z",
     "shell.execute_reply": "2021-09-18T20:30:08.368781Z"
    },
    "papermill": {
     "duration": 0.345378,
     "end_time": "2021-09-18T20:30:08.369176",
     "exception": false,
     "start_time": "2021-09-18T20:30:08.023798",
     "status": "completed"
    },
    "tags": []
   },
   "outputs": [],
   "source": [
    "timestamps = pd.read_sql(\"select distinct record_time from EBAY_TOP_BERLIN order by record_time desc limit 2\", sqlite3.connect(\"UsedObjects.db\"))"
   ]
  },
  {
   "cell_type": "code",
   "execution_count": 3,
   "id": "periodic-identification",
   "metadata": {
    "execution": {
     "iopub.execute_input": "2021-09-18T20:30:08.437729Z",
     "iopub.status.busy": "2021-09-18T20:30:08.435742Z",
     "iopub.status.idle": "2021-09-18T20:30:08.455871Z",
     "shell.execute_reply": "2021-09-18T20:30:08.457470Z"
    },
    "papermill": {
     "duration": 0.06618,
     "end_time": "2021-09-18T20:30:08.458018",
     "exception": false,
     "start_time": "2021-09-18T20:30:08.391838",
     "status": "completed"
    },
    "tags": []
   },
   "outputs": [
    {
     "data": {
      "text/html": [
       "<div>\n",
       "<style scoped>\n",
       "    .dataframe tbody tr th:only-of-type {\n",
       "        vertical-align: middle;\n",
       "    }\n",
       "\n",
       "    .dataframe tbody tr th {\n",
       "        vertical-align: top;\n",
       "    }\n",
       "\n",
       "    .dataframe thead th {\n",
       "        text-align: right;\n",
       "    }\n",
       "</style>\n",
       "<table border=\"1\" class=\"dataframe\">\n",
       "  <thead>\n",
       "    <tr style=\"text-align: right;\">\n",
       "      <th></th>\n",
       "      <th>RECORD_TIME</th>\n",
       "    </tr>\n",
       "  </thead>\n",
       "  <tbody>\n",
       "    <tr>\n",
       "      <th>0</th>\n",
       "      <td>2021-09-18 22:30</td>\n",
       "    </tr>\n",
       "    <tr>\n",
       "      <th>1</th>\n",
       "      <td>2021-09-18 22:00</td>\n",
       "    </tr>\n",
       "  </tbody>\n",
       "</table>\n",
       "</div>"
      ],
      "text/plain": [
       "        RECORD_TIME\n",
       "0  2021-09-18 22:30\n",
       "1  2021-09-18 22:00"
      ]
     },
     "execution_count": 3,
     "metadata": {},
     "output_type": "execute_result"
    }
   ],
   "source": [
    "timestamps"
   ]
  },
  {
   "cell_type": "code",
   "execution_count": 4,
   "id": "alternate-victory",
   "metadata": {
    "execution": {
     "iopub.execute_input": "2021-09-18T20:30:08.510716Z",
     "iopub.status.busy": "2021-09-18T20:30:08.508892Z",
     "iopub.status.idle": "2021-09-18T20:30:08.973289Z",
     "shell.execute_reply": "2021-09-18T20:30:08.974550Z"
    },
    "papermill": {
     "duration": 0.494349,
     "end_time": "2021-09-18T20:30:08.975044",
     "exception": false,
     "start_time": "2021-09-18T20:30:08.480695",
     "status": "completed"
    },
    "tags": []
   },
   "outputs": [],
   "source": [
    "df = pd.read_sql(\"select * from EBAY_TOP_BERLIN where record_time in (select distinct record_time from EBAY_TOP_BERLIN order by record_time desc limit 2)\", sqlite3.connect(\"UsedObjects.db\"))"
   ]
  },
  {
   "cell_type": "code",
   "execution_count": 5,
   "id": "popular-active",
   "metadata": {
    "execution": {
     "iopub.execute_input": "2021-09-18T20:30:09.054091Z",
     "iopub.status.busy": "2021-09-18T20:30:09.047773Z",
     "iopub.status.idle": "2021-09-18T20:30:09.075489Z",
     "shell.execute_reply": "2021-09-18T20:30:09.076704Z"
    },
    "papermill": {
     "duration": 0.073075,
     "end_time": "2021-09-18T20:30:09.077099",
     "exception": false,
     "start_time": "2021-09-18T20:30:09.004024",
     "status": "completed"
    },
    "tags": []
   },
   "outputs": [],
   "source": [
    "df_pivot = df.pivot_table(index=\"PRODUCT\", columns = \"RECORD_TIME\", values = \"LISTING_COUNT\")"
   ]
  },
  {
   "cell_type": "code",
   "execution_count": 6,
   "id": "union-huntington",
   "metadata": {
    "execution": {
     "iopub.execute_input": "2021-09-18T20:30:09.134189Z",
     "iopub.status.busy": "2021-09-18T20:30:09.132067Z",
     "iopub.status.idle": "2021-09-18T20:30:09.137669Z",
     "shell.execute_reply": "2021-09-18T20:30:09.139124Z"
    },
    "papermill": {
     "duration": 0.041009,
     "end_time": "2021-09-18T20:30:09.139599",
     "exception": false,
     "start_time": "2021-09-18T20:30:09.098590",
     "status": "completed"
    },
    "tags": []
   },
   "outputs": [],
   "source": [
    "df_pivot.columns = [\"stamp_1\", \"stamp_2\"]\n",
    "df_pivot_diff = df_pivot.diff(axis=1)"
   ]
  },
  {
   "cell_type": "code",
   "execution_count": 7,
   "id": "fifth-motion",
   "metadata": {
    "execution": {
     "iopub.execute_input": "2021-09-18T20:30:09.196640Z",
     "iopub.status.busy": "2021-09-18T20:30:09.194296Z",
     "iopub.status.idle": "2021-09-18T20:30:10.654350Z",
     "shell.execute_reply": "2021-09-18T20:30:10.655879Z"
    },
    "papermill": {
     "duration": 1.49321,
     "end_time": "2021-09-18T20:30:10.656340",
     "exception": false,
     "start_time": "2021-09-18T20:30:09.163130",
     "status": "completed"
    },
    "tags": []
   },
   "outputs": [
    {
     "data": {
      "text/plain": [
       "<AxesSubplot:ylabel='PRODUCT'>"
      ]
     },
     "execution_count": 7,
     "metadata": {},
     "output_type": "execute_result"
    },
    {
     "data": {
      "image/png": "[encoded data removed]",
      "text/plain": [
       "<Figure size 432x288 with 1 Axes>"
      ]
     },
     "metadata": {
      "needs_background": "light"
     },
     "output_type": "display_data"
    }
   ],
   "source": [
    "df_pivot_diff.sort_values(\"stamp_2\", ascending = False)[\"stamp_2\"].head(10).plot.barh()"
   ]
  },
  {
   "cell_type": "code",
   "execution_count": null,
   "id": "extra-executive",
   "metadata": {
    "papermill": {
     "duration": 0.022206,
     "end_time": "2021-09-18T20:30:10.701744",
     "exception": false,
     "start_time": "2021-09-18T20:30:10.679538",
     "status": "completed"
    },
    "tags": []
   },
   "outputs": [],
   "source": []
  }
 ],
 "metadata": {
  "kernelspec": {
   "display_name": "Python 3",
   "language": "python",
   "name": "python3"
  },
  "language_info": {
   "codemirror_mode": {
    "name": "ipython",
    "version": 3
   },
   "file_extension": ".py",
   "mimetype": "text/x-python",
   "name": "python",
   "nbconvert_exporter": "python",
   "pygments_lexer": "ipython3",
   "version": "3.9.5"
  },
  "papermill": {
   "default_parameters": {},
   "duration": 6.593929,
   "end_time": "2021-09-18T20:30:11.343375",
   "environment_variables": {},
   "exception": null,
   "input_path": "eBay_Overview.ipynb",
   "output_path": "eBay_Overview.ipynb",
   "parameters": {},
   "start_time": "2021-09-18T20:30:04.749446",
   "version": "2.3.3"
  }
 },
 "nbformat": 4,
 "nbformat_minor": 5
}