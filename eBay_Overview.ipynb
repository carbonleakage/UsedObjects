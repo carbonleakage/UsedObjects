{
 "cells": [
  {
   "cell_type": "code",
   "execution_count": 1,
   "id": "reverse-picking",
   "metadata": {
    "execution": {
     "iopub.execute_input": "2021-09-21T08:30:06.821456Z",
     "iopub.status.busy": "2021-09-21T08:30:06.819446Z",
     "iopub.status.idle": "2021-09-21T08:30:07.624225Z",
     "shell.execute_reply": "2021-09-21T08:30:07.625476Z"
    },
    "papermill": {
     "duration": 0.85575,
     "end_time": "2021-09-21T08:30:07.626103",
     "exception": false,
     "start_time": "2021-09-21T08:30:06.770353",
     "status": "completed"
    },
    "tags": []
   },
   "outputs": [],
   "source": [
    "import pandas as pd\n",
    "import sqlite3"
   ]
  },
  {
   "cell_type": "code",
   "execution_count": 2,
   "id": "innovative-syndrome",
   "metadata": {
    "execution": {
     "iopub.execute_input": "2021-09-21T08:30:07.679659Z",
     "iopub.status.busy": "2021-09-21T08:30:07.677283Z",
     "iopub.status.idle": "2021-09-21T08:30:08.018452Z",
     "shell.execute_reply": "2021-09-21T08:30:08.019706Z"
    },
    "papermill": {
     "duration": 0.370932,
     "end_time": "2021-09-21T08:30:08.020103",
     "exception": false,
     "start_time": "2021-09-21T08:30:07.649171",
     "status": "completed"
    },
    "tags": []
   },
   "outputs": [],
   "source": [
    "timestamps = pd.read_sql(\"select distinct record_time from EBAY_TOP_BERLIN order by record_time desc limit 2\", sqlite3.connect(\"UsedObjects.db\"))"
   ]
  },
  {
   "cell_type": "code",
   "execution_count": 3,
   "id": "periodic-identification",
   "metadata": {
    "execution": {
     "iopub.execute_input": "2021-09-21T08:30:08.085248Z",
     "iopub.status.busy": "2021-09-21T08:30:08.083235Z",
     "iopub.status.idle": "2021-09-21T08:30:08.102946Z",
     "shell.execute_reply": "2021-09-21T08:30:08.104192Z"
    },
    "papermill": {
     "duration": 0.063806,
     "end_time": "2021-09-21T08:30:08.104584",
     "exception": false,
     "start_time": "2021-09-21T08:30:08.040778",
     "status": "completed"
    },
    "tags": []
   },
   "outputs": [
    {
     "data": {
      "text/html": [
       "<div>\n",
       "<style scoped>\n",
       "    .dataframe tbody tr th:only-of-type {\n",
       "        vertical-align: middle;\n",
       "    }\n",
       "\n",
       "    .dataframe tbody tr th {\n",
       "        vertical-align: top;\n",
       "    }\n",
       "\n",
       "    .dataframe thead th {\n",
       "        text-align: right;\n",
       "    }\n",
       "</style>\n",
       "<table border=\"1\" class=\"dataframe\">\n",
       "  <thead>\n",
       "    <tr style=\"text-align: right;\">\n",
       "      <th></th>\n",
       "      <th>RECORD_TIME</th>\n",
       "    </tr>\n",
       "  </thead>\n",
       "  <tbody>\n",
       "    <tr>\n",
       "      <th>0</th>\n",
       "      <td>2021-09-21 10:30</td>\n",
       "    </tr>\n",
       "    <tr>\n",
       "      <th>1</th>\n",
       "      <td>2021-09-21 10:00</td>\n",
       "    </tr>\n",
       "  </tbody>\n",
       "</table>\n",
       "</div>"
      ],
      "text/plain": [
       "        RECORD_TIME\n",
       "0  2021-09-21 10:30\n",
       "1  2021-09-21 10:00"
      ]
     },
     "execution_count": 3,
     "metadata": {},
     "output_type": "execute_result"
    }
   ],
   "source": [
    "timestamps"
   ]
  },
  {
   "cell_type": "code",
   "execution_count": 4,
   "id": "alternate-victory",
   "metadata": {
    "execution": {
     "iopub.execute_input": "2021-09-21T08:30:08.156093Z",
     "iopub.status.busy": "2021-09-21T08:30:08.154174Z",
     "iopub.status.idle": "2021-09-21T08:30:08.666740Z",
     "shell.execute_reply": "2021-09-21T08:30:08.668035Z"
    },
    "papermill": {
     "duration": 0.542371,
     "end_time": "2021-09-21T08:30:08.668432",
     "exception": false,
     "start_time": "2021-09-21T08:30:08.126061",
     "status": "completed"
    },
    "tags": []
   },
   "outputs": [],
   "source": [
    "df = pd.read_sql(\"select * from EBAY_TOP_BERLIN where record_time in (select distinct record_time from EBAY_TOP_BERLIN order by record_time desc limit 2)\", sqlite3.connect(\"UsedObjects.db\"))"
   ]
  },
  {
   "cell_type": "code",
   "execution_count": 5,
   "id": "popular-active",
   "metadata": {
    "execution": {
     "iopub.execute_input": "2021-09-21T08:30:08.748608Z",
     "iopub.status.busy": "2021-09-21T08:30:08.736455Z",
     "iopub.status.idle": "2021-09-21T08:30:08.764841Z",
     "shell.execute_reply": "2021-09-21T08:30:08.766115Z"
    },
    "papermill": {
     "duration": 0.072191,
     "end_time": "2021-09-21T08:30:08.766525",
     "exception": false,
     "start_time": "2021-09-21T08:30:08.694334",
     "status": "completed"
    },
    "tags": []
   },
   "outputs": [],
   "source": [
    "df_pivot = df.pivot_table(index=\"PRODUCT\", columns = \"RECORD_TIME\", values = \"LISTING_COUNT\")"
   ]
  },
  {
   "cell_type": "code",
   "execution_count": 6,
   "id": "union-huntington",
   "metadata": {
    "execution": {
     "iopub.execute_input": "2021-09-21T08:30:08.821757Z",
     "iopub.status.busy": "2021-09-21T08:30:08.819731Z",
     "iopub.status.idle": "2021-09-21T08:30:08.825168Z",
     "shell.execute_reply": "2021-09-21T08:30:08.826347Z"
    },
    "papermill": {
     "duration": 0.040238,
     "end_time": "2021-09-21T08:30:08.826771",
     "exception": false,
     "start_time": "2021-09-21T08:30:08.786533",
     "status": "completed"
    },
    "tags": []
   },
   "outputs": [],
   "source": [
    "df_pivot.columns = [\"stamp_1\", \"stamp_2\"]\n",
    "df_pivot_diff = df_pivot.diff(axis=1)"
   ]
  },
  {
   "cell_type": "code",
   "execution_count": 7,
   "id": "fifth-motion",
   "metadata": {
    "execution": {
     "iopub.execute_input": "2021-09-21T08:30:08.880900Z",
     "iopub.status.busy": "2021-09-21T08:30:08.878424Z",
     "iopub.status.idle": "2021-09-21T08:30:10.379208Z",
     "shell.execute_reply": "2021-09-21T08:30:10.380581Z"
    },
    "papermill": {
     "duration": 1.533751,
     "end_time": "2021-09-21T08:30:10.381025",
     "exception": false,
     "start_time": "2021-09-21T08:30:08.847274",
     "status": "completed"
    },
    "tags": []
   },
   "outputs": [
    {
     "data": {
      "text/plain": [
       "<AxesSubplot:ylabel='PRODUCT'>"
      ]
     },
     "execution_count": 7,
     "metadata": {},
     "output_type": "execute_result"
    },
    {
     "data": {
      "image/png": "[encoded data removed]",
      "text/plain": [
       "<Figure size 432x288 with 1 Axes>"
      ]
     },
     "metadata": {
      "needs_background": "light"
     },
     "output_type": "display_data"
    }
   ],
   "source": [
    "df_pivot_diff.sort_values(\"stamp_2\", ascending = False)[\"stamp_2\"].head(10).plot.barh()"
   ]
  },
  {
   "cell_type": "code",
   "execution_count": null,
   "id": "extra-executive",
   "metadata": {
    "papermill": {
     "duration": 0.022436,
     "end_time": "2021-09-21T08:30:10.428764",
     "exception": false,
     "start_time": "2021-09-21T08:30:10.406328",
     "status": "completed"
    },
    "tags": []
   },
   "outputs": [],
   "source": []
  }
 ],
 "metadata": {
  "kernelspec": {
   "display_name": "Python 3",
   "language": "python",
   "name": "python3"
  },
  "language_info": {
   "codemirror_mode": {
    "name": "ipython",
    "version": 3
   },
   "file_extension": ".py",
   "mimetype": "text/x-python",
   "name": "python",
   "nbconvert_exporter": "python",
   "pygments_lexer": "ipython3",
   "version": "3.9.5"
  },
  "papermill": {
   "default_parameters": {},
   "duration": 6.704152,
   "end_time": "2021-09-21T08:30:11.072207",
   "environment_variables": {},
   "exception": null,
   "input_path": "eBay_Overview.ipynb",
   "output_path": "eBay_Overview.ipynb",
   "parameters": {},
   "start_time": "2021-09-21T08:30:04.368055",
   "version": "2.3.3"
  }
 },
 "nbformat": 4,
 "nbformat_minor": 5
}