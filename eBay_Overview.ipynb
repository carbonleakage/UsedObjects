{
 "cells": [
  {
   "cell_type": "code",
   "execution_count": 1,
   "id": "reverse-picking",
   "metadata": {
    "execution": {
     "iopub.execute_input": "2021-08-25T15:00:07.347751Z",
     "iopub.status.busy": "2021-08-25T15:00:07.345775Z",
     "iopub.status.idle": "2021-08-25T15:00:08.150883Z",
     "shell.execute_reply": "2021-08-25T15:00:08.152140Z"
    },
    "papermill": {
     "duration": 0.857834,
     "end_time": "2021-08-25T15:00:08.152864",
     "exception": false,
     "start_time": "2021-08-25T15:00:07.295030",
     "status": "completed"
    },
    "tags": []
   },
   "outputs": [],
   "source": [
    "import pandas as pd\n",
    "import sqlite3"
   ]
  },
  {
   "cell_type": "code",
   "execution_count": 2,
   "id": "innovative-syndrome",
   "metadata": {
    "execution": {
     "iopub.execute_input": "2021-08-25T15:00:08.203933Z",
     "iopub.status.busy": "2021-08-25T15:00:08.201861Z",
     "iopub.status.idle": "2021-08-25T15:00:08.329249Z",
     "shell.execute_reply": "2021-08-25T15:00:08.330472Z"
    },
    "papermill": {
     "duration": 0.157662,
     "end_time": "2021-08-25T15:00:08.330867",
     "exception": false,
     "start_time": "2021-08-25T15:00:08.173205",
     "status": "completed"
    },
    "tags": []
   },
   "outputs": [],
   "source": [
    "timestamps = pd.read_sql(\"select distinct record_time from EBAY_TOP_BERLIN order by record_time desc limit 2\", sqlite3.connect(\"UsedObjects.db\"))"
   ]
  },
  {
   "cell_type": "code",
   "execution_count": 3,
   "id": "periodic-identification",
   "metadata": {
    "execution": {
     "iopub.execute_input": "2021-08-25T15:00:08.398683Z",
     "iopub.status.busy": "2021-08-25T15:00:08.393681Z",
     "iopub.status.idle": "2021-08-25T15:00:08.413500Z",
     "shell.execute_reply": "2021-08-25T15:00:08.414745Z"
    },
    "papermill": {
     "duration": 0.063382,
     "end_time": "2021-08-25T15:00:08.415147",
     "exception": false,
     "start_time": "2021-08-25T15:00:08.351765",
     "status": "completed"
    },
    "tags": []
   },
   "outputs": [
    {
     "data": {
      "text/html": [
       "<div>\n",
       "<style scoped>\n",
       "    .dataframe tbody tr th:only-of-type {\n",
       "        vertical-align: middle;\n",
       "    }\n",
       "\n",
       "    .dataframe tbody tr th {\n",
       "        vertical-align: top;\n",
       "    }\n",
       "\n",
       "    .dataframe thead th {\n",
       "        text-align: right;\n",
       "    }\n",
       "</style>\n",
       "<table border=\"1\" class=\"dataframe\">\n",
       "  <thead>\n",
       "    <tr style=\"text-align: right;\">\n",
       "      <th></th>\n",
       "      <th>RECORD_TIME</th>\n",
       "    </tr>\n",
       "  </thead>\n",
       "  <tbody>\n",
       "    <tr>\n",
       "      <th>0</th>\n",
       "      <td>2021-08-25 17:00</td>\n",
       "    </tr>\n",
       "    <tr>\n",
       "      <th>1</th>\n",
       "      <td>2021-08-25 16:30</td>\n",
       "    </tr>\n",
       "  </tbody>\n",
       "</table>\n",
       "</div>"
      ],
      "text/plain": [
       "        RECORD_TIME\n",
       "0  2021-08-25 17:00\n",
       "1  2021-08-25 16:30"
      ]
     },
     "execution_count": 3,
     "metadata": {},
     "output_type": "execute_result"
    }
   ],
   "source": [
    "timestamps"
   ]
  },
  {
   "cell_type": "code",
   "execution_count": 4,
   "id": "alternate-victory",
   "metadata": {
    "execution": {
     "iopub.execute_input": "2021-08-25T15:00:08.468002Z",
     "iopub.status.busy": "2021-08-25T15:00:08.465699Z",
     "iopub.status.idle": "2021-08-25T15:00:08.656569Z",
     "shell.execute_reply": "2021-08-25T15:00:08.657989Z"
    },
    "papermill": {
     "duration": 0.221528,
     "end_time": "2021-08-25T15:00:08.658431",
     "exception": false,
     "start_time": "2021-08-25T15:00:08.436903",
     "status": "completed"
    },
    "tags": []
   },
   "outputs": [],
   "source": [
    "df = pd.read_sql(\"select * from EBAY_TOP_BERLIN where record_time in (select distinct record_time from EBAY_TOP_BERLIN order by record_time desc limit 2)\", sqlite3.connect(\"UsedObjects.db\"))"
   ]
  },
  {
   "cell_type": "code",
   "execution_count": 5,
   "id": "popular-active",
   "metadata": {
    "execution": {
     "iopub.execute_input": "2021-08-25T15:00:08.729526Z",
     "iopub.status.busy": "2021-08-25T15:00:08.717441Z",
     "iopub.status.idle": "2021-08-25T15:00:08.745094Z",
     "shell.execute_reply": "2021-08-25T15:00:08.746335Z"
    },
    "papermill": {
     "duration": 0.067531,
     "end_time": "2021-08-25T15:00:08.746734",
     "exception": false,
     "start_time": "2021-08-25T15:00:08.679203",
     "status": "completed"
    },
    "tags": []
   },
   "outputs": [],
   "source": [
    "df_pivot = df.pivot_table(index=\"PRODUCT\", columns = \"RECORD_TIME\", values = \"LISTING_COUNT\")"
   ]
  },
  {
   "cell_type": "code",
   "execution_count": 6,
   "id": "union-huntington",
   "metadata": {
    "execution": {
     "iopub.execute_input": "2021-08-25T15:00:08.813574Z",
     "iopub.status.busy": "2021-08-25T15:00:08.811350Z",
     "iopub.status.idle": "2021-08-25T15:00:08.816911Z",
     "shell.execute_reply": "2021-08-25T15:00:08.818416Z"
    },
    "papermill": {
     "duration": 0.044771,
     "end_time": "2021-08-25T15:00:08.818849",
     "exception": false,
     "start_time": "2021-08-25T15:00:08.774078",
     "status": "completed"
    },
    "tags": []
   },
   "outputs": [],
   "source": [
    "df_pivot.columns = [\"stamp_1\", \"stamp_2\"]\n",
    "df_pivot_diff = df_pivot.diff(axis=1)"
   ]
  },
  {
   "cell_type": "code",
   "execution_count": 7,
   "id": "fifth-motion",
   "metadata": {
    "execution": {
     "iopub.execute_input": "2021-08-25T15:00:08.873642Z",
     "iopub.status.busy": "2021-08-25T15:00:08.870923Z",
     "iopub.status.idle": "2021-08-25T15:00:10.371564Z",
     "shell.execute_reply": "2021-08-25T15:00:10.373076Z"
    },
    "papermill": {
     "duration": 1.534563,
     "end_time": "2021-08-25T15:00:10.373529",
     "exception": false,
     "start_time": "2021-08-25T15:00:08.838966",
     "status": "completed"
    },
    "tags": []
   },
   "outputs": [
    {
     "data": {
      "text/plain": [
       "<AxesSubplot:ylabel='PRODUCT'>"
      ]
     },
     "execution_count": 7,
     "metadata": {},
     "output_type": "execute_result"
    },
    {
     "data": {
      "image/png": "[encoded data removed]",
      "text/plain": [
       "<Figure size 432x288 with 1 Axes>"
      ]
     },
     "metadata": {
      "needs_background": "light"
     },
     "output_type": "display_data"
    }
   ],
   "source": [
    "df_pivot_diff.sort_values(\"stamp_2\", ascending = False)[\"stamp_2\"].head(10).plot.barh()"
   ]
  },
  {
   "cell_type": "code",
   "execution_count": null,
   "id": "extra-executive",
   "metadata": {
    "papermill": {
     "duration": 0.022101,
     "end_time": "2021-08-25T15:00:10.419294",
     "exception": false,
     "start_time": "2021-08-25T15:00:10.397193",
     "status": "completed"
    },
    "tags": []
   },
   "outputs": [],
   "source": []
  }
 ],
 "metadata": {
  "kernelspec": {
   "display_name": "Python 3",
   "language": "python",
   "name": "python3"
  },
  "language_info": {
   "codemirror_mode": {
    "name": "ipython",
    "version": 3
   },
   "file_extension": ".py",
   "mimetype": "text/x-python",
   "name": "python",
   "nbconvert_exporter": "python",
   "pygments_lexer": "ipython3",
   "version": "3.9.5"
  },
  "papermill": {
   "default_parameters": {},
   "duration": 6.825421,
   "end_time": "2021-08-25T15:00:11.707149",
   "environment_variables": {},
   "exception": null,
   "input_path": "eBay_Overview.ipynb",
   "output_path": "eBay_Overview.ipynb",
   "parameters": {},
   "start_time": "2021-08-25T15:00:04.881728",
   "version": "2.3.3"
  }
 },
 "nbformat": 4,
 "nbformat_minor": 5
}