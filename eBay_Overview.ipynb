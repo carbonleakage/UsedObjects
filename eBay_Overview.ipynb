{
 "cells": [
  {
   "cell_type": "code",
   "execution_count": 1,
   "id": "reverse-picking",
   "metadata": {
    "execution": {
     "iopub.execute_input": "2021-09-09T10:00:07.464915Z",
     "iopub.status.busy": "2021-09-09T10:00:07.462956Z",
     "iopub.status.idle": "2021-09-09T10:00:08.274045Z",
     "shell.execute_reply": "2021-09-09T10:00:08.275531Z"
    },
    "papermill": {
     "duration": 0.863503,
     "end_time": "2021-09-09T10:00:08.276168",
     "exception": false,
     "start_time": "2021-09-09T10:00:07.412665",
     "status": "completed"
    },
    "tags": []
   },
   "outputs": [],
   "source": [
    "import pandas as pd\n",
    "import sqlite3"
   ]
  },
  {
   "cell_type": "code",
   "execution_count": 2,
   "id": "innovative-syndrome",
   "metadata": {
    "execution": {
     "iopub.execute_input": "2021-09-09T10:00:08.328134Z",
     "iopub.status.busy": "2021-09-09T10:00:08.325745Z",
     "iopub.status.idle": "2021-09-09T10:00:08.573566Z",
     "shell.execute_reply": "2021-09-09T10:00:08.574775Z"
    },
    "papermill": {
     "duration": 0.277849,
     "end_time": "2021-09-09T10:00:08.575368",
     "exception": false,
     "start_time": "2021-09-09T10:00:08.297519",
     "status": "completed"
    },
    "tags": []
   },
   "outputs": [],
   "source": [
    "timestamps = pd.read_sql(\"select distinct record_time from EBAY_TOP_BERLIN order by record_time desc limit 2\", sqlite3.connect(\"UsedObjects.db\"))"
   ]
  },
  {
   "cell_type": "code",
   "execution_count": 3,
   "id": "periodic-identification",
   "metadata": {
    "execution": {
     "iopub.execute_input": "2021-09-09T10:00:08.640649Z",
     "iopub.status.busy": "2021-09-09T10:00:08.638467Z",
     "iopub.status.idle": "2021-09-09T10:00:08.663164Z",
     "shell.execute_reply": "2021-09-09T10:00:08.661683Z"
    },
    "papermill": {
     "duration": 0.068867,
     "end_time": "2021-09-09T10:00:08.663533",
     "exception": false,
     "start_time": "2021-09-09T10:00:08.594666",
     "status": "completed"
    },
    "tags": []
   },
   "outputs": [
    {
     "data": {
      "text/html": [
       "<div>\n",
       "<style scoped>\n",
       "    .dataframe tbody tr th:only-of-type {\n",
       "        vertical-align: middle;\n",
       "    }\n",
       "\n",
       "    .dataframe tbody tr th {\n",
       "        vertical-align: top;\n",
       "    }\n",
       "\n",
       "    .dataframe thead th {\n",
       "        text-align: right;\n",
       "    }\n",
       "</style>\n",
       "<table border=\"1\" class=\"dataframe\">\n",
       "  <thead>\n",
       "    <tr style=\"text-align: right;\">\n",
       "      <th></th>\n",
       "      <th>RECORD_TIME</th>\n",
       "    </tr>\n",
       "  </thead>\n",
       "  <tbody>\n",
       "    <tr>\n",
       "      <th>0</th>\n",
       "      <td>2021-09-09 12:00</td>\n",
       "    </tr>\n",
       "    <tr>\n",
       "      <th>1</th>\n",
       "      <td>2021-09-09 11:30</td>\n",
       "    </tr>\n",
       "  </tbody>\n",
       "</table>\n",
       "</div>"
      ],
      "text/plain": [
       "        RECORD_TIME\n",
       "0  2021-09-09 12:00\n",
       "1  2021-09-09 11:30"
      ]
     },
     "execution_count": 3,
     "metadata": {},
     "output_type": "execute_result"
    }
   ],
   "source": [
    "timestamps"
   ]
  },
  {
   "cell_type": "code",
   "execution_count": 4,
   "id": "alternate-victory",
   "metadata": {
    "execution": {
     "iopub.execute_input": "2021-09-09T10:00:08.715206Z",
     "iopub.status.busy": "2021-09-09T10:00:08.713172Z",
     "iopub.status.idle": "2021-09-09T10:00:09.081738Z",
     "shell.execute_reply": "2021-09-09T10:00:09.083034Z"
    },
    "papermill": {
     "duration": 0.398664,
     "end_time": "2021-09-09T10:00:09.083483",
     "exception": false,
     "start_time": "2021-09-09T10:00:08.684819",
     "status": "completed"
    },
    "tags": []
   },
   "outputs": [],
   "source": [
    "df = pd.read_sql(\"select * from EBAY_TOP_BERLIN where record_time in (select distinct record_time from EBAY_TOP_BERLIN order by record_time desc limit 2)\", sqlite3.connect(\"UsedObjects.db\"))"
   ]
  },
  {
   "cell_type": "code",
   "execution_count": 5,
   "id": "popular-active",
   "metadata": {
    "execution": {
     "iopub.execute_input": "2021-09-09T10:00:09.163638Z",
     "iopub.status.busy": "2021-09-09T10:00:09.151125Z",
     "iopub.status.idle": "2021-09-09T10:00:09.180691Z",
     "shell.execute_reply": "2021-09-09T10:00:09.182056Z"
    },
    "papermill": {
     "duration": 0.073202,
     "end_time": "2021-09-09T10:00:09.182483",
     "exception": false,
     "start_time": "2021-09-09T10:00:09.109281",
     "status": "completed"
    },
    "tags": []
   },
   "outputs": [],
   "source": [
    "df_pivot = df.pivot_table(index=\"PRODUCT\", columns = \"RECORD_TIME\", values = \"LISTING_COUNT\")"
   ]
  },
  {
   "cell_type": "code",
   "execution_count": 6,
   "id": "union-huntington",
   "metadata": {
    "execution": {
     "iopub.execute_input": "2021-09-09T10:00:09.237534Z",
     "iopub.status.busy": "2021-09-09T10:00:09.235468Z",
     "iopub.status.idle": "2021-09-09T10:00:09.241979Z",
     "shell.execute_reply": "2021-09-09T10:00:09.240602Z"
    },
    "papermill": {
     "duration": 0.040996,
     "end_time": "2021-09-09T10:00:09.243097",
     "exception": false,
     "start_time": "2021-09-09T10:00:09.202101",
     "status": "completed"
    },
    "tags": []
   },
   "outputs": [],
   "source": [
    "df_pivot.columns = [\"stamp_1\", \"stamp_2\"]\n",
    "df_pivot_diff = df_pivot.diff(axis=1)"
   ]
  },
  {
   "cell_type": "code",
   "execution_count": 7,
   "id": "fifth-motion",
   "metadata": {
    "execution": {
     "iopub.execute_input": "2021-09-09T10:00:09.298968Z",
     "iopub.status.busy": "2021-09-09T10:00:09.296242Z",
     "iopub.status.idle": "2021-09-09T10:00:10.764116Z",
     "shell.execute_reply": "2021-09-09T10:00:10.765534Z"
    },
    "papermill": {
     "duration": 1.501797,
     "end_time": "2021-09-09T10:00:10.765976",
     "exception": false,
     "start_time": "2021-09-09T10:00:09.264179",
     "status": "completed"
    },
    "tags": []
   },
   "outputs": [
    {
     "data": {
      "text/plain": [
       "<AxesSubplot:ylabel='PRODUCT'>"
      ]
     },
     "execution_count": 7,
     "metadata": {},
     "output_type": "execute_result"
    },
    {
     "data": {
      "image/png": "[encoded data removed]",
      "text/plain": [
       "<Figure size 432x288 with 1 Axes>"
      ]
     },
     "metadata": {
      "needs_background": "light"
     },
     "output_type": "display_data"
    }
   ],
   "source": [
    "df_pivot_diff.sort_values(\"stamp_2\", ascending = False)[\"stamp_2\"].head(10).plot.barh()"
   ]
  },
  {
   "cell_type": "code",
   "execution_count": null,
   "id": "extra-executive",
   "metadata": {
    "papermill": {
     "duration": 0.022118,
     "end_time": "2021-09-09T10:00:10.812025",
     "exception": false,
     "start_time": "2021-09-09T10:00:10.789907",
     "status": "completed"
    },
    "tags": []
   },
   "outputs": [],
   "source": []
  }
 ],
 "metadata": {
  "kernelspec": {
   "display_name": "Python 3",
   "language": "python",
   "name": "python3"
  },
  "language_info": {
   "codemirror_mode": {
    "name": "ipython",
    "version": 3
   },
   "file_extension": ".py",
   "mimetype": "text/x-python",
   "name": "python",
   "nbconvert_exporter": "python",
   "pygments_lexer": "ipython3",
   "version": "3.9.5"
  },
  "papermill": {
   "default_parameters": {},
   "duration": 6.458113,
   "end_time": "2021-09-09T10:00:11.453075",
   "environment_variables": {},
   "exception": null,
   "input_path": "eBay_Overview.ipynb",
   "output_path": "eBay_Overview.ipynb",
   "parameters": {},
   "start_time": "2021-09-09T10:00:04.994962",
   "version": "2.3.3"
  }
 },
 "nbformat": 4,
 "nbformat_minor": 5
}