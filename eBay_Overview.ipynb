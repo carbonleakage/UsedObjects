{
 "cells": [
  {
   "cell_type": "code",
   "execution_count": 1,
   "id": "reverse-picking",
   "metadata": {
    "execution": {
     "iopub.execute_input": "2021-11-07T14:00:07.931489Z",
     "iopub.status.busy": "2021-11-07T14:00:07.922466Z",
     "iopub.status.idle": "2021-11-07T14:00:08.878406Z",
     "shell.execute_reply": "2021-11-07T14:00:08.880286Z"
    },
    "papermill": {
     "duration": 1.004823,
     "end_time": "2021-11-07T14:00:08.881164",
     "exception": false,
     "start_time": "2021-11-07T14:00:07.876341",
     "status": "completed"
    },
    "tags": []
   },
   "outputs": [],
   "source": [
    "import pandas as pd\n",
    "import sqlite3"
   ]
  },
  {
   "cell_type": "code",
   "execution_count": 2,
   "id": "innovative-syndrome",
   "metadata": {
    "execution": {
     "iopub.execute_input": "2021-11-07T14:00:08.945377Z",
     "iopub.status.busy": "2021-11-07T14:00:08.942951Z",
     "iopub.status.idle": "2021-11-07T14:00:09.703067Z",
     "shell.execute_reply": "2021-11-07T14:00:09.704651Z"
    },
    "papermill": {
     "duration": 0.794852,
     "end_time": "2021-11-07T14:00:09.705217",
     "exception": false,
     "start_time": "2021-11-07T14:00:08.910365",
     "status": "completed"
    },
    "tags": []
   },
   "outputs": [],
   "source": [
    "timestamps = pd.read_sql(\"select distinct record_time from EBAY_TOP_BERLIN order by record_time desc limit 2\", sqlite3.connect(\"UsedObjects.db\"))"
   ]
  },
  {
   "cell_type": "code",
   "execution_count": 3,
   "id": "periodic-identification",
   "metadata": {
    "execution": {
     "iopub.execute_input": "2021-11-07T14:00:09.776884Z",
     "iopub.status.busy": "2021-11-07T14:00:09.768832Z",
     "iopub.status.idle": "2021-11-07T14:00:09.800004Z",
     "shell.execute_reply": "2021-11-07T14:00:09.801814Z"
    },
    "papermill": {
     "duration": 0.077193,
     "end_time": "2021-11-07T14:00:09.802320",
     "exception": false,
     "start_time": "2021-11-07T14:00:09.725127",
     "status": "completed"
    },
    "tags": []
   },
   "outputs": [
    {
     "data": {
      "text/html": [
       "<div>\n",
       "<style scoped>\n",
       "    .dataframe tbody tr th:only-of-type {\n",
       "        vertical-align: middle;\n",
       "    }\n",
       "\n",
       "    .dataframe tbody tr th {\n",
       "        vertical-align: top;\n",
       "    }\n",
       "\n",
       "    .dataframe thead th {\n",
       "        text-align: right;\n",
       "    }\n",
       "</style>\n",
       "<table border=\"1\" class=\"dataframe\">\n",
       "  <thead>\n",
       "    <tr style=\"text-align: right;\">\n",
       "      <th></th>\n",
       "      <th>RECORD_TIME</th>\n",
       "    </tr>\n",
       "  </thead>\n",
       "  <tbody>\n",
       "    <tr>\n",
       "      <th>0</th>\n",
       "      <td>2021-11-07 15:00</td>\n",
       "    </tr>\n",
       "    <tr>\n",
       "      <th>1</th>\n",
       "      <td>2021-11-07 14:30</td>\n",
       "    </tr>\n",
       "  </tbody>\n",
       "</table>\n",
       "</div>"
      ],
      "text/plain": [
       "        RECORD_TIME\n",
       "0  2021-11-07 15:00\n",
       "1  2021-11-07 14:30"
      ]
     },
     "execution_count": 3,
     "metadata": {},
     "output_type": "execute_result"
    }
   ],
   "source": [
    "timestamps"
   ]
  },
  {
   "cell_type": "code",
   "execution_count": 4,
   "id": "alternate-victory",
   "metadata": {
    "execution": {
     "iopub.execute_input": "2021-11-07T14:00:09.857868Z",
     "iopub.status.busy": "2021-11-07T14:00:09.855336Z",
     "iopub.status.idle": "2021-11-07T14:00:10.979163Z",
     "shell.execute_reply": "2021-11-07T14:00:10.980392Z"
    },
    "papermill": {
     "duration": 1.157243,
     "end_time": "2021-11-07T14:00:10.980840",
     "exception": false,
     "start_time": "2021-11-07T14:00:09.823597",
     "status": "completed"
    },
    "tags": []
   },
   "outputs": [],
   "source": [
    "df = pd.read_sql(\"select * from EBAY_TOP_BERLIN where record_time in (select distinct record_time from EBAY_TOP_BERLIN order by record_time desc limit 2)\", sqlite3.connect(\"UsedObjects.db\"))"
   ]
  },
  {
   "cell_type": "code",
   "execution_count": 5,
   "id": "popular-active",
   "metadata": {
    "execution": {
     "iopub.execute_input": "2021-11-07T14:00:11.051375Z",
     "iopub.status.busy": "2021-11-07T14:00:11.039901Z",
     "iopub.status.idle": "2021-11-07T14:00:11.067850Z",
     "shell.execute_reply": "2021-11-07T14:00:11.069235Z"
    },
    "papermill": {
     "duration": 0.067871,
     "end_time": "2021-11-07T14:00:11.069666",
     "exception": false,
     "start_time": "2021-11-07T14:00:11.001795",
     "status": "completed"
    },
    "tags": []
   },
   "outputs": [],
   "source": [
    "df_pivot = df.pivot_table(index=\"PRODUCT\", columns = \"RECORD_TIME\", values = \"LISTING_COUNT\")"
   ]
  },
  {
   "cell_type": "code",
   "execution_count": 6,
   "id": "union-huntington",
   "metadata": {
    "execution": {
     "iopub.execute_input": "2021-11-07T14:00:11.129138Z",
     "iopub.status.busy": "2021-11-07T14:00:11.126820Z",
     "iopub.status.idle": "2021-11-07T14:00:11.132303Z",
     "shell.execute_reply": "2021-11-07T14:00:11.133986Z"
    },
    "papermill": {
     "duration": 0.043571,
     "end_time": "2021-11-07T14:00:11.134470",
     "exception": false,
     "start_time": "2021-11-07T14:00:11.090899",
     "status": "completed"
    },
    "tags": []
   },
   "outputs": [],
   "source": [
    "df_pivot.columns = [\"stamp_1\", \"stamp_2\"]\n",
    "df_pivot_diff = df_pivot.diff(axis=1)"
   ]
  },
  {
   "cell_type": "code",
   "execution_count": 7,
   "id": "fifth-motion",
   "metadata": {
    "execution": {
     "iopub.execute_input": "2021-11-07T14:00:11.193756Z",
     "iopub.status.busy": "2021-11-07T14:00:11.190794Z",
     "iopub.status.idle": "2021-11-07T14:00:12.978684Z",
     "shell.execute_reply": "2021-11-07T14:00:12.980144Z"
    },
    "papermill": {
     "duration": 1.825107,
     "end_time": "2021-11-07T14:00:12.980644",
     "exception": false,
     "start_time": "2021-11-07T14:00:11.155537",
     "status": "completed"
    },
    "tags": []
   },
   "outputs": [
    {
     "data": {
      "text/plain": [
       "<AxesSubplot:ylabel='PRODUCT'>"
      ]
     },
     "execution_count": 7,
     "metadata": {},
     "output_type": "execute_result"
    },
    {
     "data": {
      "image/png": "[encoded data removed]",
      "text/plain": [
       "<Figure size 432x288 with 1 Axes>"
      ]
     },
     "metadata": {
      "needs_background": "light"
     },
     "output_type": "display_data"
    }
   ],
   "source": [
    "df_pivot_diff.sort_values(\"stamp_2\", ascending = False)[\"stamp_2\"].head(10).plot.barh()"
   ]
  },
  {
   "cell_type": "code",
   "execution_count": null,
   "id": "extra-executive",
   "metadata": {
    "papermill": {
     "duration": 0.023348,
     "end_time": "2021-11-07T14:00:13.028355",
     "exception": false,
     "start_time": "2021-11-07T14:00:13.005007",
     "status": "completed"
    },
    "tags": []
   },
   "outputs": [],
   "source": []
  }
 ],
 "metadata": {
  "kernelspec": {
   "display_name": "Python 3",
   "language": "python",
   "name": "python3"
  },
  "language_info": {
   "codemirror_mode": {
    "name": "ipython",
    "version": 3
   },
   "file_extension": ".py",
   "mimetype": "text/x-python",
   "name": "python",
   "nbconvert_exporter": "python",
   "pygments_lexer": "ipython3",
   "version": "3.9.5"
  },
  "papermill": {
   "default_parameters": {},
   "duration": 8.713892,
   "end_time": "2021-11-07T14:00:13.772606",
   "environment_variables": {},
   "exception": null,
   "input_path": "eBay_Overview.ipynb",
   "output_path": "eBay_Overview.ipynb",
   "parameters": {},
   "start_time": "2021-11-07T14:00:05.058714",
   "version": "2.3.3"
  }
 },
 "nbformat": 4,
 "nbformat_minor": 5
}