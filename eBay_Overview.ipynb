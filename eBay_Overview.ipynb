{
 "cells": [
  {
   "cell_type": "code",
   "execution_count": 1,
   "id": "reverse-picking",
   "metadata": {
    "execution": {
     "iopub.execute_input": "2021-08-22T11:00:07.035505Z",
     "iopub.status.busy": "2021-08-22T11:00:07.033502Z",
     "iopub.status.idle": "2021-08-22T11:00:07.841055Z",
     "shell.execute_reply": "2021-08-22T11:00:07.842538Z"
    },
    "papermill": {
     "duration": 0.858296,
     "end_time": "2021-08-22T11:00:07.843202",
     "exception": false,
     "start_time": "2021-08-22T11:00:06.984906",
     "status": "completed"
    },
    "tags": []
   },
   "outputs": [],
   "source": [
    "import pandas as pd\n",
    "import sqlite3"
   ]
  },
  {
   "cell_type": "code",
   "execution_count": 2,
   "id": "innovative-syndrome",
   "metadata": {
    "execution": {
     "iopub.execute_input": "2021-08-22T11:00:07.895326Z",
     "iopub.status.busy": "2021-08-22T11:00:07.892933Z",
     "iopub.status.idle": "2021-08-22T11:00:07.998935Z",
     "shell.execute_reply": "2021-08-22T11:00:08.000328Z"
    },
    "papermill": {
     "duration": 0.13616,
     "end_time": "2021-08-22T11:00:08.000771",
     "exception": false,
     "start_time": "2021-08-22T11:00:07.864611",
     "status": "completed"
    },
    "tags": []
   },
   "outputs": [],
   "source": [
    "timestamps = pd.read_sql(\"select distinct record_time from EBAY_TOP_BERLIN order by record_time desc limit 2\", sqlite3.connect(\"UsedObjects.db\"))"
   ]
  },
  {
   "cell_type": "code",
   "execution_count": 3,
   "id": "periodic-identification",
   "metadata": {
    "execution": {
     "iopub.execute_input": "2021-08-22T11:00:08.067740Z",
     "iopub.status.busy": "2021-08-22T11:00:08.065681Z",
     "iopub.status.idle": "2021-08-22T11:00:08.085526Z",
     "shell.execute_reply": "2021-08-22T11:00:08.086997Z"
    },
    "papermill": {
     "duration": 0.066813,
     "end_time": "2021-08-22T11:00:08.087446",
     "exception": false,
     "start_time": "2021-08-22T11:00:08.020633",
     "status": "completed"
    },
    "tags": []
   },
   "outputs": [
    {
     "data": {
      "text/html": [
       "<div>\n",
       "<style scoped>\n",
       "    .dataframe tbody tr th:only-of-type {\n",
       "        vertical-align: middle;\n",
       "    }\n",
       "\n",
       "    .dataframe tbody tr th {\n",
       "        vertical-align: top;\n",
       "    }\n",
       "\n",
       "    .dataframe thead th {\n",
       "        text-align: right;\n",
       "    }\n",
       "</style>\n",
       "<table border=\"1\" class=\"dataframe\">\n",
       "  <thead>\n",
       "    <tr style=\"text-align: right;\">\n",
       "      <th></th>\n",
       "      <th>RECORD_TIME</th>\n",
       "    </tr>\n",
       "  </thead>\n",
       "  <tbody>\n",
       "    <tr>\n",
       "      <th>0</th>\n",
       "      <td>2021-08-22 13:00</td>\n",
       "    </tr>\n",
       "    <tr>\n",
       "      <th>1</th>\n",
       "      <td>2021-08-22 12:30</td>\n",
       "    </tr>\n",
       "  </tbody>\n",
       "</table>\n",
       "</div>"
      ],
      "text/plain": [
       "        RECORD_TIME\n",
       "0  2021-08-22 13:00\n",
       "1  2021-08-22 12:30"
      ]
     },
     "execution_count": 3,
     "metadata": {},
     "output_type": "execute_result"
    }
   ],
   "source": [
    "timestamps"
   ]
  },
  {
   "cell_type": "code",
   "execution_count": 4,
   "id": "alternate-victory",
   "metadata": {
    "execution": {
     "iopub.execute_input": "2021-08-22T11:00:08.138897Z",
     "iopub.status.busy": "2021-08-22T11:00:08.136966Z",
     "iopub.status.idle": "2021-08-22T11:00:08.293005Z",
     "shell.execute_reply": "2021-08-22T11:00:08.295061Z"
    },
    "papermill": {
     "duration": 0.186708,
     "end_time": "2021-08-22T11:00:08.295505",
     "exception": false,
     "start_time": "2021-08-22T11:00:08.108797",
     "status": "completed"
    },
    "tags": []
   },
   "outputs": [],
   "source": [
    "df = pd.read_sql(\"select * from EBAY_TOP_BERLIN where record_time in (select distinct record_time from EBAY_TOP_BERLIN order by record_time desc limit 2)\", sqlite3.connect(\"UsedObjects.db\"))"
   ]
  },
  {
   "cell_type": "code",
   "execution_count": 5,
   "id": "popular-active",
   "metadata": {
    "execution": {
     "iopub.execute_input": "2021-08-22T11:00:08.366747Z",
     "iopub.status.busy": "2021-08-22T11:00:08.354605Z",
     "iopub.status.idle": "2021-08-22T11:00:08.382090Z",
     "shell.execute_reply": "2021-08-22T11:00:08.383366Z"
    },
    "papermill": {
     "duration": 0.067759,
     "end_time": "2021-08-22T11:00:08.383765",
     "exception": false,
     "start_time": "2021-08-22T11:00:08.316006",
     "status": "completed"
    },
    "tags": []
   },
   "outputs": [],
   "source": [
    "df_pivot = df.pivot_table(index=\"PRODUCT\", columns = \"RECORD_TIME\", values = \"LISTING_COUNT\")"
   ]
  },
  {
   "cell_type": "code",
   "execution_count": 6,
   "id": "union-huntington",
   "metadata": {
    "execution": {
     "iopub.execute_input": "2021-08-22T11:00:08.442586Z",
     "iopub.status.busy": "2021-08-22T11:00:08.440266Z",
     "iopub.status.idle": "2021-08-22T11:00:08.446148Z",
     "shell.execute_reply": "2021-08-22T11:00:08.447360Z"
    },
    "papermill": {
     "duration": 0.041999,
     "end_time": "2021-08-22T11:00:08.447791",
     "exception": false,
     "start_time": "2021-08-22T11:00:08.405792",
     "status": "completed"
    },
    "tags": []
   },
   "outputs": [],
   "source": [
    "df_pivot.columns = [\"stamp_1\", \"stamp_2\"]\n",
    "df_pivot_diff = df_pivot.diff(axis=1)"
   ]
  },
  {
   "cell_type": "code",
   "execution_count": 7,
   "id": "fifth-motion",
   "metadata": {
    "execution": {
     "iopub.execute_input": "2021-08-22T11:00:08.509112Z",
     "iopub.status.busy": "2021-08-22T11:00:08.506454Z",
     "iopub.status.idle": "2021-08-22T11:00:10.020392Z",
     "shell.execute_reply": "2021-08-22T11:00:10.021676Z"
    },
    "papermill": {
     "duration": 1.550428,
     "end_time": "2021-08-22T11:00:10.022298",
     "exception": false,
     "start_time": "2021-08-22T11:00:08.471870",
     "status": "completed"
    },
    "tags": []
   },
   "outputs": [
    {
     "data": {
      "text/plain": [
       "<AxesSubplot:ylabel='PRODUCT'>"
      ]
     },
     "execution_count": 7,
     "metadata": {},
     "output_type": "execute_result"
    },
    {
     "data": {
      "image/png": "[encoded data removed]",
      "text/plain": [
       "<Figure size 432x288 with 1 Axes>"
      ]
     },
     "metadata": {
      "needs_background": "light"
     },
     "output_type": "display_data"
    }
   ],
   "source": [
    "df_pivot_diff.sort_values(\"stamp_2\", ascending = False)[\"stamp_2\"].head(10).plot.barh()"
   ]
  },
  {
   "cell_type": "code",
   "execution_count": null,
   "id": "extra-executive",
   "metadata": {
    "papermill": {
     "duration": 0.022445,
     "end_time": "2021-08-22T11:00:10.070844",
     "exception": false,
     "start_time": "2021-08-22T11:00:10.048399",
     "status": "completed"
    },
    "tags": []
   },
   "outputs": [],
   "source": []
  }
 ],
 "metadata": {
  "kernelspec": {
   "display_name": "Python 3",
   "language": "python",
   "name": "python3"
  },
  "language_info": {
   "codemirror_mode": {
    "name": "ipython",
    "version": 3
   },
   "file_extension": ".py",
   "mimetype": "text/x-python",
   "name": "python",
   "nbconvert_exporter": "python",
   "pygments_lexer": "ipython3",
   "version": "3.9.5"
  },
  "papermill": {
   "default_parameters": {},
   "duration": 6.833745,
   "end_time": "2021-08-22T11:00:11.407607",
   "environment_variables": {},
   "exception": null,
   "input_path": "eBay_Overview.ipynb",
   "output_path": "eBay_Overview.ipynb",
   "parameters": {},
   "start_time": "2021-08-22T11:00:04.573862",
   "version": "2.3.3"
  }
 },
 "nbformat": 4,
 "nbformat_minor": 5
}