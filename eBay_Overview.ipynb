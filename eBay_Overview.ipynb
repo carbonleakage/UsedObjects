{
 "cells": [
  {
   "cell_type": "code",
   "execution_count": 1,
   "id": "reverse-picking",
   "metadata": {
    "execution": {
     "iopub.execute_input": "2021-11-13T19:00:07.427207Z",
     "iopub.status.busy": "2021-11-13T19:00:07.424993Z",
     "iopub.status.idle": "2021-11-13T19:00:08.374424Z",
     "shell.execute_reply": "2021-11-13T19:00:08.375949Z"
    },
    "papermill": {
     "duration": 0.996282,
     "end_time": "2021-11-13T19:00:08.376723",
     "exception": false,
     "start_time": "2021-11-13T19:00:07.380441",
     "status": "completed"
    },
    "tags": []
   },
   "outputs": [],
   "source": [
    "import pandas as pd\n",
    "import sqlite3"
   ]
  },
  {
   "cell_type": "code",
   "execution_count": 2,
   "id": "innovative-syndrome",
   "metadata": {
    "execution": {
     "iopub.execute_input": "2021-11-13T19:00:08.440123Z",
     "iopub.status.busy": "2021-11-13T19:00:08.437841Z",
     "iopub.status.idle": "2021-11-13T19:00:09.227048Z",
     "shell.execute_reply": "2021-11-13T19:00:09.228589Z"
    },
    "papermill": {
     "duration": 0.824298,
     "end_time": "2021-11-13T19:00:09.229101",
     "exception": false,
     "start_time": "2021-11-13T19:00:08.404803",
     "status": "completed"
    },
    "tags": []
   },
   "outputs": [],
   "source": [
    "timestamps = pd.read_sql(\"select distinct record_time from EBAY_TOP_BERLIN order by record_time desc limit 2\", sqlite3.connect(\"UsedObjects.db\"))"
   ]
  },
  {
   "cell_type": "code",
   "execution_count": 3,
   "id": "periodic-identification",
   "metadata": {
    "execution": {
     "iopub.execute_input": "2021-11-13T19:00:09.301223Z",
     "iopub.status.busy": "2021-11-13T19:00:09.295226Z",
     "iopub.status.idle": "2021-11-13T19:00:09.317215Z",
     "shell.execute_reply": "2021-11-13T19:00:09.318592Z"
    },
    "papermill": {
     "duration": 0.070402,
     "end_time": "2021-11-13T19:00:09.319052",
     "exception": false,
     "start_time": "2021-11-13T19:00:09.248650",
     "status": "completed"
    },
    "tags": []
   },
   "outputs": [
    {
     "data": {
      "text/html": [
       "<div>\n",
       "<style scoped>\n",
       "    .dataframe tbody tr th:only-of-type {\n",
       "        vertical-align: middle;\n",
       "    }\n",
       "\n",
       "    .dataframe tbody tr th {\n",
       "        vertical-align: top;\n",
       "    }\n",
       "\n",
       "    .dataframe thead th {\n",
       "        text-align: right;\n",
       "    }\n",
       "</style>\n",
       "<table border=\"1\" class=\"dataframe\">\n",
       "  <thead>\n",
       "    <tr style=\"text-align: right;\">\n",
       "      <th></th>\n",
       "      <th>RECORD_TIME</th>\n",
       "    </tr>\n",
       "  </thead>\n",
       "  <tbody>\n",
       "    <tr>\n",
       "      <th>0</th>\n",
       "      <td>2021-11-13 20:00</td>\n",
       "    </tr>\n",
       "    <tr>\n",
       "      <th>1</th>\n",
       "      <td>2021-11-13 19:30</td>\n",
       "    </tr>\n",
       "  </tbody>\n",
       "</table>\n",
       "</div>"
      ],
      "text/plain": [
       "        RECORD_TIME\n",
       "0  2021-11-13 20:00\n",
       "1  2021-11-13 19:30"
      ]
     },
     "execution_count": 3,
     "metadata": {},
     "output_type": "execute_result"
    }
   ],
   "source": [
    "timestamps"
   ]
  },
  {
   "cell_type": "code",
   "execution_count": 4,
   "id": "alternate-victory",
   "metadata": {
    "execution": {
     "iopub.execute_input": "2021-11-13T19:00:09.374126Z",
     "iopub.status.busy": "2021-11-13T19:00:09.371862Z",
     "iopub.status.idle": "2021-11-13T19:00:10.529937Z",
     "shell.execute_reply": "2021-11-13T19:00:10.531465Z"
    },
    "papermill": {
     "duration": 1.192258,
     "end_time": "2021-11-13T19:00:10.531978",
     "exception": false,
     "start_time": "2021-11-13T19:00:09.339720",
     "status": "completed"
    },
    "tags": []
   },
   "outputs": [],
   "source": [
    "df = pd.read_sql(\"select * from EBAY_TOP_BERLIN where record_time in (select distinct record_time from EBAY_TOP_BERLIN order by record_time desc limit 2)\", sqlite3.connect(\"UsedObjects.db\"))"
   ]
  },
  {
   "cell_type": "code",
   "execution_count": 5,
   "id": "popular-active",
   "metadata": {
    "execution": {
     "iopub.execute_input": "2021-11-13T19:00:10.611356Z",
     "iopub.status.busy": "2021-11-13T19:00:10.598206Z",
     "iopub.status.idle": "2021-11-13T19:00:10.632635Z",
     "shell.execute_reply": "2021-11-13T19:00:10.634211Z"
    },
    "papermill": {
     "duration": 0.079286,
     "end_time": "2021-11-13T19:00:10.634715",
     "exception": false,
     "start_time": "2021-11-13T19:00:10.555429",
     "status": "completed"
    },
    "tags": []
   },
   "outputs": [],
   "source": [
    "df_pivot = df.pivot_table(index=\"PRODUCT\", columns = \"RECORD_TIME\", values = \"LISTING_COUNT\")"
   ]
  },
  {
   "cell_type": "code",
   "execution_count": 6,
   "id": "union-huntington",
   "metadata": {
    "execution": {
     "iopub.execute_input": "2021-11-13T19:00:10.693684Z",
     "iopub.status.busy": "2021-11-13T19:00:10.691478Z",
     "iopub.status.idle": "2021-11-13T19:00:10.697054Z",
     "shell.execute_reply": "2021-11-13T19:00:10.698532Z"
    },
    "papermill": {
     "duration": 0.043135,
     "end_time": "2021-11-13T19:00:10.698980",
     "exception": false,
     "start_time": "2021-11-13T19:00:10.655845",
     "status": "completed"
    },
    "tags": []
   },
   "outputs": [],
   "source": [
    "df_pivot.columns = [\"stamp_1\", \"stamp_2\"]\n",
    "df_pivot_diff = df_pivot.diff(axis=1)"
   ]
  },
  {
   "cell_type": "code",
   "execution_count": 7,
   "id": "fifth-motion",
   "metadata": {
    "execution": {
     "iopub.execute_input": "2021-11-13T19:00:10.756594Z",
     "iopub.status.busy": "2021-11-13T19:00:10.754011Z",
     "iopub.status.idle": "2021-11-13T19:00:12.514608Z",
     "shell.execute_reply": "2021-11-13T19:00:12.517735Z"
    },
    "papermill": {
     "duration": 1.799494,
     "end_time": "2021-11-13T19:00:12.518604",
     "exception": false,
     "start_time": "2021-11-13T19:00:10.719110",
     "status": "completed"
    },
    "tags": []
   },
   "outputs": [
    {
     "data": {
      "text/plain": [
       "<AxesSubplot:ylabel='PRODUCT'>"
      ]
     },
     "execution_count": 7,
     "metadata": {},
     "output_type": "execute_result"
    },
    {
     "data": {
      "image/png": "[encoded data removed]",
      "text/plain": [
       "<Figure size 432x288 with 1 Axes>"
      ]
     },
     "metadata": {
      "needs_background": "light"
     },
     "output_type": "display_data"
    }
   ],
   "source": [
    "df_pivot_diff.sort_values(\"stamp_2\", ascending = False)[\"stamp_2\"].head(10).plot.barh()"
   ]
  },
  {
   "cell_type": "code",
   "execution_count": null,
   "id": "extra-executive",
   "metadata": {
    "papermill": {
     "duration": 0.037558,
     "end_time": "2021-11-13T19:00:12.591467",
     "exception": false,
     "start_time": "2021-11-13T19:00:12.553909",
     "status": "completed"
    },
    "tags": []
   },
   "outputs": [],
   "source": []
  }
 ],
 "metadata": {
  "kernelspec": {
   "display_name": "Python 3",
   "language": "python",
   "name": "python3"
  },
  "language_info": {
   "codemirror_mode": {
    "name": "ipython",
    "version": 3
   },
   "file_extension": ".py",
   "mimetype": "text/x-python",
   "name": "python",
   "nbconvert_exporter": "python",
   "pygments_lexer": "ipython3",
   "version": "3.9.5"
  },
  "papermill": {
   "default_parameters": {},
   "duration": 8.819732,
   "end_time": "2021-11-13T19:00:13.466959",
   "environment_variables": {},
   "exception": null,
   "input_path": "eBay_Overview.ipynb",
   "output_path": "eBay_Overview.ipynb",
   "parameters": {},
   "start_time": "2021-11-13T19:00:04.647227",
   "version": "2.3.3"
  }
 },
 "nbformat": 4,
 "nbformat_minor": 5
}