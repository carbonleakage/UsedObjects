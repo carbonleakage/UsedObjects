{
 "cells": [
  {
   "cell_type": "code",
   "execution_count": 1,
   "id": "reverse-picking",
   "metadata": {
    "execution": {
     "iopub.execute_input": "2021-08-09T02:30:04.351880Z",
     "iopub.status.busy": "2021-08-09T02:30:04.351111Z",
     "iopub.status.idle": "2021-08-09T02:30:04.955144Z",
     "shell.execute_reply": "2021-08-09T02:30:04.955691Z"
    },
    "papermill": {
     "duration": 0.623769,
     "end_time": "2021-08-09T02:30:04.955970",
     "exception": false,
     "start_time": "2021-08-09T02:30:04.332201",
     "status": "completed"
    },
    "tags": []
   },
   "outputs": [],
   "source": [
    "import pandas as pd\n",
    "import sqlite3"
   ]
  },
  {
   "cell_type": "code",
   "execution_count": 2,
   "id": "innovative-syndrome",
   "metadata": {
    "execution": {
     "iopub.execute_input": "2021-08-09T02:30:04.982826Z",
     "iopub.status.busy": "2021-08-09T02:30:04.982056Z",
     "iopub.status.idle": "2021-08-09T02:30:05.189902Z",
     "shell.execute_reply": "2021-08-09T02:30:05.189172Z"
    },
    "papermill": {
     "duration": 0.225294,
     "end_time": "2021-08-09T02:30:05.190074",
     "exception": false,
     "start_time": "2021-08-09T02:30:04.964780",
     "status": "completed"
    },
    "tags": []
   },
   "outputs": [],
   "source": [
    "timestamps = pd.read_sql(\"select distinct record_time from EBAY_TOP_BERLIN order by record_time desc limit 2\", sqlite3.connect(\"UsedObjects.db\"))"
   ]
  },
  {
   "cell_type": "code",
   "execution_count": 3,
   "id": "periodic-identification",
   "metadata": {
    "execution": {
     "iopub.execute_input": "2021-08-09T02:30:05.225428Z",
     "iopub.status.busy": "2021-08-09T02:30:05.224576Z",
     "iopub.status.idle": "2021-08-09T02:30:05.239216Z",
     "shell.execute_reply": "2021-08-09T02:30:05.239787Z"
    },
    "papermill": {
     "duration": 0.03935,
     "end_time": "2021-08-09T02:30:05.239982",
     "exception": false,
     "start_time": "2021-08-09T02:30:05.200632",
     "status": "completed"
    },
    "tags": []
   },
   "outputs": [
    {
     "data": {
      "text/html": [
       "<div>\n",
       "<style scoped>\n",
       "    .dataframe tbody tr th:only-of-type {\n",
       "        vertical-align: middle;\n",
       "    }\n",
       "\n",
       "    .dataframe tbody tr th {\n",
       "        vertical-align: top;\n",
       "    }\n",
       "\n",
       "    .dataframe thead th {\n",
       "        text-align: right;\n",
       "    }\n",
       "</style>\n",
       "<table border=\"1\" class=\"dataframe\">\n",
       "  <thead>\n",
       "    <tr style=\"text-align: right;\">\n",
       "      <th></th>\n",
       "      <th>RECORD_TIME</th>\n",
       "    </tr>\n",
       "  </thead>\n",
       "  <tbody>\n",
       "    <tr>\n",
       "      <th>0</th>\n",
       "      <td>2021-08-09 04:30</td>\n",
       "    </tr>\n",
       "    <tr>\n",
       "      <th>1</th>\n",
       "      <td>2021-08-09 04:00</td>\n",
       "    </tr>\n",
       "  </tbody>\n",
       "</table>\n",
       "</div>"
      ],
      "text/plain": [
       "        RECORD_TIME\n",
       "0  2021-08-09 04:30\n",
       "1  2021-08-09 04:00"
      ]
     },
     "execution_count": 3,
     "metadata": {},
     "output_type": "execute_result"
    }
   ],
   "source": [
    "timestamps"
   ]
  },
  {
   "cell_type": "code",
   "execution_count": 4,
   "id": "alternate-victory",
   "metadata": {
    "execution": {
     "iopub.execute_input": "2021-08-09T02:30:05.270750Z",
     "iopub.status.busy": "2021-08-09T02:30:05.269374Z",
     "iopub.status.idle": "2021-08-09T02:30:05.284870Z",
     "shell.execute_reply": "2021-08-09T02:30:05.285401Z"
    },
    "papermill": {
     "duration": 0.03629,
     "end_time": "2021-08-09T02:30:05.285584",
     "exception": false,
     "start_time": "2021-08-09T02:30:05.249294",
     "status": "completed"
    },
    "tags": []
   },
   "outputs": [],
   "source": [
    "df = pd.read_sql(\"select * from EBAY_TOP_BERLIN where record_time in (select distinct record_time from EBAY_TOP_BERLIN order by record_time desc limit 2)\", sqlite3.connect(\"UsedObjects.db\"))"
   ]
  },
  {
   "cell_type": "code",
   "execution_count": 5,
   "id": "popular-active",
   "metadata": {
    "execution": {
     "iopub.execute_input": "2021-08-09T02:30:05.313860Z",
     "iopub.status.busy": "2021-08-09T02:30:05.313090Z",
     "iopub.status.idle": "2021-08-09T02:30:05.331969Z",
     "shell.execute_reply": "2021-08-09T02:30:05.332501Z"
    },
    "papermill": {
     "duration": 0.039026,
     "end_time": "2021-08-09T02:30:05.332684",
     "exception": false,
     "start_time": "2021-08-09T02:30:05.293658",
     "status": "completed"
    },
    "tags": []
   },
   "outputs": [],
   "source": [
    "df_pivot = df.pivot_table(index=\"PRODUCT\", columns = \"RECORD_TIME\", values = \"LISTING_COUNT\")"
   ]
  },
  {
   "cell_type": "code",
   "execution_count": 6,
   "id": "union-huntington",
   "metadata": {
    "execution": {
     "iopub.execute_input": "2021-08-09T02:30:05.367199Z",
     "iopub.status.busy": "2021-08-09T02:30:05.366469Z",
     "iopub.status.idle": "2021-08-09T02:30:05.374441Z",
     "shell.execute_reply": "2021-08-09T02:30:05.373468Z"
    },
    "papermill": {
     "duration": 0.032655,
     "end_time": "2021-08-09T02:30:05.374648",
     "exception": false,
     "start_time": "2021-08-09T02:30:05.341993",
     "status": "completed"
    },
    "tags": []
   },
   "outputs": [],
   "source": [
    "df_pivot.columns = [\"stamp_1\", \"stamp_2\"]\n",
    "df_pivot_diff = df_pivot.diff(axis=1)"
   ]
  },
  {
   "cell_type": "code",
   "execution_count": 7,
   "id": "fifth-motion",
   "metadata": {
    "execution": {
     "iopub.execute_input": "2021-08-09T02:30:05.404495Z",
     "iopub.status.busy": "2021-08-09T02:30:05.403249Z",
     "iopub.status.idle": "2021-08-09T02:30:06.076854Z",
     "shell.execute_reply": "2021-08-09T02:30:06.077383Z"
    },
    "papermill": {
     "duration": 0.689882,
     "end_time": "2021-08-09T02:30:06.077562",
     "exception": false,
     "start_time": "2021-08-09T02:30:05.387680",
     "status": "completed"
    },
    "tags": []
   },
   "outputs": [
    {
     "data": {
      "text/plain": [
       "<AxesSubplot:ylabel='PRODUCT'>"
      ]
     },
     "execution_count": 7,
     "metadata": {},
     "output_type": "execute_result"
    },
    {
     "data": {
      "image/png": "[encoded data removed]",
      "text/plain": [
       "<Figure size 432x288 with 1 Axes>"
      ]
     },
     "metadata": {
      "needs_background": "light"
     },
     "output_type": "display_data"
    }
   ],
   "source": [
    "df_pivot_diff.sort_values(\"stamp_2\", ascending = False)[\"stamp_2\"].head(10).plot.barh()"
   ]
  },
  {
   "cell_type": "code",
   "execution_count": null,
   "id": "extra-executive",
   "metadata": {
    "papermill": {
     "duration": 0.011655,
     "end_time": "2021-08-09T02:30:06.102577",
     "exception": false,
     "start_time": "2021-08-09T02:30:06.090922",
     "status": "completed"
    },
    "tags": []
   },
   "outputs": [],
   "source": []
  }
 ],
 "metadata": {
  "kernelspec": {
   "display_name": "Python 3",
   "language": "python",
   "name": "python3"
  },
  "language_info": {
   "codemirror_mode": {
    "name": "ipython",
    "version": 3
   },
   "file_extension": ".py",
   "mimetype": "text/x-python",
   "name": "python",
   "nbconvert_exporter": "python",
   "pygments_lexer": "ipython3",
   "version": "3.8.8"
  },
  "papermill": {
   "default_parameters": {},
   "duration": 5.088428,
   "end_time": "2021-08-09T02:30:07.758065",
   "environment_variables": {},
   "exception": null,
   "input_path": "/Users/saravananshanmugam/Carbonleakage_Git/UsedObjects/eBay_Overview.ipynb",
   "output_path": "/Users/saravananshanmugam/Carbonleakage_Git/UsedObjects/eBay_Overview.ipynb",
   "parameters": {},
   "start_time": "2021-08-09T02:30:02.669637",
   "version": "2.3.3"
  }
 },
 "nbformat": 4,
 "nbformat_minor": 5
}