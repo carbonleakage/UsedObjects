{
 "cells": [
  {
   "cell_type": "code",
   "execution_count": 1,
   "id": "reverse-picking",
   "metadata": {
    "execution": {
     "iopub.execute_input": "2021-12-13T01:00:07.915684Z",
     "iopub.status.busy": "2021-12-13T01:00:07.904894Z",
     "iopub.status.idle": "2021-12-13T01:00:08.868153Z",
     "shell.execute_reply": "2021-12-13T01:00:08.869840Z"
    },
    "papermill": {
     "duration": 1.0018,
     "end_time": "2021-12-13T01:00:08.870592",
     "exception": false,
     "start_time": "2021-12-13T01:00:07.868792",
     "status": "completed"
    },
    "tags": []
   },
   "outputs": [],
   "source": [
    "import pandas as pd\n",
    "import sqlite3"
   ]
  },
  {
   "cell_type": "code",
   "execution_count": 2,
   "id": "innovative-syndrome",
   "metadata": {
    "execution": {
     "iopub.execute_input": "2021-12-13T01:00:08.993504Z",
     "iopub.status.busy": "2021-12-13T01:00:08.991156Z",
     "iopub.status.idle": "2021-12-13T01:00:10.054638Z",
     "shell.execute_reply": "2021-12-13T01:00:10.056025Z"
    },
    "papermill": {
     "duration": 1.097806,
     "end_time": "2021-12-13T01:00:10.056490",
     "exception": false,
     "start_time": "2021-12-13T01:00:08.958684",
     "status": "completed"
    },
    "tags": []
   },
   "outputs": [],
   "source": [
    "timestamps = pd.read_sql(\"select distinct record_time from EBAY_TOP_BERLIN order by record_time desc limit 2\", sqlite3.connect(\"UsedObjects.db\"))"
   ]
  },
  {
   "cell_type": "code",
   "execution_count": 3,
   "id": "periodic-identification",
   "metadata": {
    "execution": {
     "iopub.execute_input": "2021-12-13T01:00:10.123747Z",
     "iopub.status.busy": "2021-12-13T01:00:10.121491Z",
     "iopub.status.idle": "2021-12-13T01:00:10.144897Z",
     "shell.execute_reply": "2021-12-13T01:00:10.146376Z"
    },
    "papermill": {
     "duration": 0.071299,
     "end_time": "2021-12-13T01:00:10.146904",
     "exception": false,
     "start_time": "2021-12-13T01:00:10.075605",
     "status": "completed"
    },
    "tags": []
   },
   "outputs": [
    {
     "data": {
      "text/html": [
       "<div>\n",
       "<style scoped>\n",
       "    .dataframe tbody tr th:only-of-type {\n",
       "        vertical-align: middle;\n",
       "    }\n",
       "\n",
       "    .dataframe tbody tr th {\n",
       "        vertical-align: top;\n",
       "    }\n",
       "\n",
       "    .dataframe thead th {\n",
       "        text-align: right;\n",
       "    }\n",
       "</style>\n",
       "<table border=\"1\" class=\"dataframe\">\n",
       "  <thead>\n",
       "    <tr style=\"text-align: right;\">\n",
       "      <th></th>\n",
       "      <th>RECORD_TIME</th>\n",
       "    </tr>\n",
       "  </thead>\n",
       "  <tbody>\n",
       "    <tr>\n",
       "      <th>0</th>\n",
       "      <td>2021-12-13 02:00</td>\n",
       "    </tr>\n",
       "    <tr>\n",
       "      <th>1</th>\n",
       "      <td>2021-12-13 01:30</td>\n",
       "    </tr>\n",
       "  </tbody>\n",
       "</table>\n",
       "</div>"
      ],
      "text/plain": [
       "        RECORD_TIME\n",
       "0  2021-12-13 02:00\n",
       "1  2021-12-13 01:30"
      ]
     },
     "execution_count": 3,
     "metadata": {},
     "output_type": "execute_result"
    }
   ],
   "source": [
    "timestamps"
   ]
  },
  {
   "cell_type": "code",
   "execution_count": 4,
   "id": "alternate-victory",
   "metadata": {
    "execution": {
     "iopub.execute_input": "2021-12-13T01:00:10.201521Z",
     "iopub.status.busy": "2021-12-13T01:00:10.199165Z",
     "iopub.status.idle": "2021-12-13T01:00:11.759281Z",
     "shell.execute_reply": "2021-12-13T01:00:11.760998Z"
    },
    "papermill": {
     "duration": 1.594269,
     "end_time": "2021-12-13T01:00:11.761488",
     "exception": false,
     "start_time": "2021-12-13T01:00:10.167219",
     "status": "completed"
    },
    "tags": []
   },
   "outputs": [],
   "source": [
    "df = pd.read_sql(\"select * from EBAY_TOP_BERLIN where record_time in (select distinct record_time from EBAY_TOP_BERLIN order by record_time desc limit 2)\", sqlite3.connect(\"UsedObjects.db\"))"
   ]
  },
  {
   "cell_type": "code",
   "execution_count": 5,
   "id": "popular-active",
   "metadata": {
    "execution": {
     "iopub.execute_input": "2021-12-13T01:00:11.838644Z",
     "iopub.status.busy": "2021-12-13T01:00:11.826494Z",
     "iopub.status.idle": "2021-12-13T01:00:11.856873Z",
     "shell.execute_reply": "2021-12-13T01:00:11.858405Z"
    },
    "papermill": {
     "duration": 0.07459,
     "end_time": "2021-12-13T01:00:11.858930",
     "exception": false,
     "start_time": "2021-12-13T01:00:11.784340",
     "status": "completed"
    },
    "tags": []
   },
   "outputs": [],
   "source": [
    "df_pivot = df.pivot_table(index=\"PRODUCT\", columns = \"RECORD_TIME\", values = \"LISTING_COUNT\")"
   ]
  },
  {
   "cell_type": "code",
   "execution_count": 6,
   "id": "union-huntington",
   "metadata": {
    "execution": {
     "iopub.execute_input": "2021-12-13T01:00:11.922474Z",
     "iopub.status.busy": "2021-12-13T01:00:11.920071Z",
     "iopub.status.idle": "2021-12-13T01:00:11.925116Z",
     "shell.execute_reply": "2021-12-13T01:00:11.926721Z"
    },
    "papermill": {
     "duration": 0.047956,
     "end_time": "2021-12-13T01:00:11.927179",
     "exception": false,
     "start_time": "2021-12-13T01:00:11.879223",
     "status": "completed"
    },
    "tags": []
   },
   "outputs": [],
   "source": [
    "df_pivot.columns = [\"stamp_1\", \"stamp_2\"]\n",
    "df_pivot_diff = df_pivot.diff(axis=1)"
   ]
  },
  {
   "cell_type": "code",
   "execution_count": 7,
   "id": "fifth-motion",
   "metadata": {
    "execution": {
     "iopub.execute_input": "2021-12-13T01:00:11.994815Z",
     "iopub.status.busy": "2021-12-13T01:00:11.984014Z",
     "iopub.status.idle": "2021-12-13T01:00:13.926112Z",
     "shell.execute_reply": "2021-12-13T01:00:13.927485Z"
    },
    "papermill": {
     "duration": 1.979657,
     "end_time": "2021-12-13T01:00:13.927960",
     "exception": false,
     "start_time": "2021-12-13T01:00:11.948303",
     "status": "completed"
    },
    "tags": []
   },
   "outputs": [
    {
     "data": {
      "text/plain": [
       "<AxesSubplot:ylabel='PRODUCT'>"
      ]
     },
     "execution_count": 7,
     "metadata": {},
     "output_type": "execute_result"
    },
    {
     "data": {
      "image/png": "[encoded data removed]",
      "text/plain": [
       "<Figure size 432x288 with 1 Axes>"
      ]
     },
     "metadata": {
      "needs_background": "light"
     },
     "output_type": "display_data"
    }
   ],
   "source": [
    "df_pivot_diff.sort_values(\"stamp_2\", ascending = False)[\"stamp_2\"].head(10).plot.barh()"
   ]
  },
  {
   "cell_type": "code",
   "execution_count": null,
   "id": "extra-executive",
   "metadata": {
    "papermill": {
     "duration": 0.024616,
     "end_time": "2021-12-13T01:00:13.982165",
     "exception": false,
     "start_time": "2021-12-13T01:00:13.957549",
     "status": "completed"
    },
    "tags": []
   },
   "outputs": [],
   "source": []
  }
 ],
 "metadata": {
  "kernelspec": {
   "display_name": "Python 3",
   "language": "python",
   "name": "python3"
  },
  "language_info": {
   "codemirror_mode": {
    "name": "ipython",
    "version": 3
   },
   "file_extension": ".py",
   "mimetype": "text/x-python",
   "name": "python",
   "nbconvert_exporter": "python",
   "pygments_lexer": "ipython3",
   "version": "3.9.5"
  },
  "papermill": {
   "default_parameters": {},
   "duration": 9.909834,
   "end_time": "2021-12-13T01:00:14.930569",
   "environment_variables": {},
   "exception": null,
   "input_path": "eBay_Overview.ipynb",
   "output_path": "eBay_Overview.ipynb",
   "parameters": {},
   "start_time": "2021-12-13T01:00:05.020735",
   "version": "2.3.3"
  }
 },
 "nbformat": 4,
 "nbformat_minor": 5
}