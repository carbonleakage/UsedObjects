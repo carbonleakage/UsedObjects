{
 "cells": [
  {
   "cell_type": "code",
   "execution_count": 1,
   "id": "reverse-picking",
   "metadata": {
    "execution": {
     "iopub.execute_input": "2021-12-22T07:00:07.643370Z",
     "iopub.status.busy": "2021-12-22T07:00:07.640962Z",
     "iopub.status.idle": "2021-12-22T07:00:08.612755Z",
     "shell.execute_reply": "2021-12-22T07:00:08.614477Z"
    },
    "papermill": {
     "duration": 1.022269,
     "end_time": "2021-12-22T07:00:08.615230",
     "exception": false,
     "start_time": "2021-12-22T07:00:07.592961",
     "status": "completed"
    },
    "tags": []
   },
   "outputs": [],
   "source": [
    "import pandas as pd\n",
    "import sqlite3"
   ]
  },
  {
   "cell_type": "code",
   "execution_count": 2,
   "id": "innovative-syndrome",
   "metadata": {
    "execution": {
     "iopub.execute_input": "2021-12-22T07:00:08.678071Z",
     "iopub.status.busy": "2021-12-22T07:00:08.675700Z",
     "iopub.status.idle": "2021-12-22T07:00:09.987226Z",
     "shell.execute_reply": "2021-12-22T07:00:09.989589Z"
    },
    "papermill": {
     "duration": 1.344788,
     "end_time": "2021-12-22T07:00:09.990112",
     "exception": false,
     "start_time": "2021-12-22T07:00:08.645324",
     "status": "completed"
    },
    "tags": []
   },
   "outputs": [],
   "source": [
    "timestamps = pd.read_sql(\"select distinct record_time from EBAY_TOP_BERLIN order by record_time desc limit 2\", sqlite3.connect(\"UsedObjects.db\"))"
   ]
  },
  {
   "cell_type": "code",
   "execution_count": 3,
   "id": "periodic-identification",
   "metadata": {
    "execution": {
     "iopub.execute_input": "2021-12-22T07:00:10.065583Z",
     "iopub.status.busy": "2021-12-22T07:00:10.063005Z",
     "iopub.status.idle": "2021-12-22T07:00:10.086347Z",
     "shell.execute_reply": "2021-12-22T07:00:10.087693Z"
    },
    "papermill": {
     "duration": 0.076585,
     "end_time": "2021-12-22T07:00:10.088159",
     "exception": false,
     "start_time": "2021-12-22T07:00:10.011574",
     "status": "completed"
    },
    "tags": []
   },
   "outputs": [
    {
     "data": {
      "text/html": [
       "<div>\n",
       "<style scoped>\n",
       "    .dataframe tbody tr th:only-of-type {\n",
       "        vertical-align: middle;\n",
       "    }\n",
       "\n",
       "    .dataframe tbody tr th {\n",
       "        vertical-align: top;\n",
       "    }\n",
       "\n",
       "    .dataframe thead th {\n",
       "        text-align: right;\n",
       "    }\n",
       "</style>\n",
       "<table border=\"1\" class=\"dataframe\">\n",
       "  <thead>\n",
       "    <tr style=\"text-align: right;\">\n",
       "      <th></th>\n",
       "      <th>RECORD_TIME</th>\n",
       "    </tr>\n",
       "  </thead>\n",
       "  <tbody>\n",
       "    <tr>\n",
       "      <th>0</th>\n",
       "      <td>2021-12-22 08:00</td>\n",
       "    </tr>\n",
       "    <tr>\n",
       "      <th>1</th>\n",
       "      <td>2021-12-22 07:30</td>\n",
       "    </tr>\n",
       "  </tbody>\n",
       "</table>\n",
       "</div>"
      ],
      "text/plain": [
       "        RECORD_TIME\n",
       "0  2021-12-22 08:00\n",
       "1  2021-12-22 07:30"
      ]
     },
     "execution_count": 3,
     "metadata": {},
     "output_type": "execute_result"
    }
   ],
   "source": [
    "timestamps"
   ]
  },
  {
   "cell_type": "code",
   "execution_count": 4,
   "id": "alternate-victory",
   "metadata": {
    "execution": {
     "iopub.execute_input": "2021-12-22T07:00:10.146219Z",
     "iopub.status.busy": "2021-12-22T07:00:10.143926Z",
     "iopub.status.idle": "2021-12-22T07:00:11.818323Z",
     "shell.execute_reply": "2021-12-22T07:00:11.820522Z"
    },
    "papermill": {
     "duration": 1.711282,
     "end_time": "2021-12-22T07:00:11.821103",
     "exception": false,
     "start_time": "2021-12-22T07:00:10.109821",
     "status": "completed"
    },
    "tags": []
   },
   "outputs": [],
   "source": [
    "df = pd.read_sql(\"select * from EBAY_TOP_BERLIN where record_time in (select distinct record_time from EBAY_TOP_BERLIN order by record_time desc limit 2)\", sqlite3.connect(\"UsedObjects.db\"))"
   ]
  },
  {
   "cell_type": "code",
   "execution_count": 5,
   "id": "popular-active",
   "metadata": {
    "execution": {
     "iopub.execute_input": "2021-12-22T07:00:11.945356Z",
     "iopub.status.busy": "2021-12-22T07:00:11.924128Z",
     "iopub.status.idle": "2021-12-22T07:00:11.982278Z",
     "shell.execute_reply": "2021-12-22T07:00:11.984990Z"
    },
    "papermill": {
     "duration": 0.131576,
     "end_time": "2021-12-22T07:00:11.985812",
     "exception": false,
     "start_time": "2021-12-22T07:00:11.854236",
     "status": "completed"
    },
    "tags": []
   },
   "outputs": [],
   "source": [
    "df_pivot = df.pivot_table(index=\"PRODUCT\", columns = \"RECORD_TIME\", values = \"LISTING_COUNT\")"
   ]
  },
  {
   "cell_type": "code",
   "execution_count": 6,
   "id": "union-huntington",
   "metadata": {
    "execution": {
     "iopub.execute_input": "2021-12-22T07:00:12.080877Z",
     "iopub.status.busy": "2021-12-22T07:00:12.077035Z",
     "iopub.status.idle": "2021-12-22T07:00:12.087189Z",
     "shell.execute_reply": "2021-12-22T07:00:12.090995Z"
    },
    "papermill": {
     "duration": 0.073387,
     "end_time": "2021-12-22T07:00:12.091927",
     "exception": false,
     "start_time": "2021-12-22T07:00:12.018540",
     "status": "completed"
    },
    "tags": []
   },
   "outputs": [],
   "source": [
    "df_pivot.columns = [\"stamp_1\", \"stamp_2\"]\n",
    "df_pivot_diff = df_pivot.diff(axis=1)"
   ]
  },
  {
   "cell_type": "code",
   "execution_count": 7,
   "id": "fifth-motion",
   "metadata": {
    "execution": {
     "iopub.execute_input": "2021-12-22T07:00:12.177523Z",
     "iopub.status.busy": "2021-12-22T07:00:12.174104Z",
     "iopub.status.idle": "2021-12-22T07:00:13.958407Z",
     "shell.execute_reply": "2021-12-22T07:00:13.959775Z"
    },
    "papermill": {
     "duration": 1.834711,
     "end_time": "2021-12-22T07:00:13.960260",
     "exception": false,
     "start_time": "2021-12-22T07:00:12.125549",
     "status": "completed"
    },
    "tags": []
   },
   "outputs": [
    {
     "data": {
      "text/plain": [
       "<AxesSubplot:ylabel='PRODUCT'>"
      ]
     },
     "execution_count": 7,
     "metadata": {},
     "output_type": "execute_result"
    },
    {
     "data": {
      "image/png": "[encoded data removed]",
      "text/plain": [
       "<Figure size 432x288 with 1 Axes>"
      ]
     },
     "metadata": {
      "needs_background": "light"
     },
     "output_type": "display_data"
    }
   ],
   "source": [
    "df_pivot_diff.sort_values(\"stamp_2\", ascending = False)[\"stamp_2\"].head(10).plot.barh()"
   ]
  },
  {
   "cell_type": "code",
   "execution_count": null,
   "id": "extra-executive",
   "metadata": {
    "papermill": {
     "duration": 0.029701,
     "end_time": "2021-12-22T07:00:14.035002",
     "exception": false,
     "start_time": "2021-12-22T07:00:14.005301",
     "status": "completed"
    },
    "tags": []
   },
   "outputs": [],
   "source": []
  }
 ],
 "metadata": {
  "kernelspec": {
   "display_name": "Python 3",
   "language": "python",
   "name": "python3"
  },
  "language_info": {
   "codemirror_mode": {
    "name": "ipython",
    "version": 3
   },
   "file_extension": ".py",
   "mimetype": "text/x-python",
   "name": "python",
   "nbconvert_exporter": "python",
   "pygments_lexer": "ipython3",
   "version": "3.9.5"
  },
  "papermill": {
   "default_parameters": {},
   "duration": 9.85433,
   "end_time": "2021-12-22T07:00:14.678311",
   "environment_variables": {},
   "exception": null,
   "input_path": "eBay_Overview.ipynb",
   "output_path": "eBay_Overview.ipynb",
   "parameters": {},
   "start_time": "2021-12-22T07:00:04.823981",
   "version": "2.3.3"
  }
 },
 "nbformat": 4,
 "nbformat_minor": 5
}