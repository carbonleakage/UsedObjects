{
 "cells": [
  {
   "cell_type": "code",
   "execution_count": 1,
   "id": "reverse-picking",
   "metadata": {
    "execution": {
     "iopub.execute_input": "2021-12-15T14:30:07.576441Z",
     "iopub.status.busy": "2021-12-15T14:30:07.573501Z",
     "iopub.status.idle": "2021-12-15T14:30:08.536945Z",
     "shell.execute_reply": "2021-12-15T14:30:08.538503Z"
    },
    "papermill": {
     "duration": 1.010725,
     "end_time": "2021-12-15T14:30:08.539272",
     "exception": false,
     "start_time": "2021-12-15T14:30:07.528547",
     "status": "completed"
    },
    "tags": []
   },
   "outputs": [],
   "source": [
    "import pandas as pd\n",
    "import sqlite3"
   ]
  },
  {
   "cell_type": "code",
   "execution_count": 2,
   "id": "innovative-syndrome",
   "metadata": {
    "execution": {
     "iopub.execute_input": "2021-12-15T14:30:08.603013Z",
     "iopub.status.busy": "2021-12-15T14:30:08.600790Z",
     "iopub.status.idle": "2021-12-15T14:30:09.682858Z",
     "shell.execute_reply": "2021-12-15T14:30:09.684307Z"
    },
    "papermill": {
     "duration": 1.115616,
     "end_time": "2021-12-15T14:30:09.684898",
     "exception": false,
     "start_time": "2021-12-15T14:30:08.569282",
     "status": "completed"
    },
    "tags": []
   },
   "outputs": [],
   "source": [
    "timestamps = pd.read_sql(\"select distinct record_time from EBAY_TOP_BERLIN order by record_time desc limit 2\", sqlite3.connect(\"UsedObjects.db\"))"
   ]
  },
  {
   "cell_type": "code",
   "execution_count": 3,
   "id": "periodic-identification",
   "metadata": {
    "execution": {
     "iopub.execute_input": "2021-12-15T14:30:09.757600Z",
     "iopub.status.busy": "2021-12-15T14:30:09.755262Z",
     "iopub.status.idle": "2021-12-15T14:30:09.776851Z",
     "shell.execute_reply": "2021-12-15T14:30:09.778268Z"
    },
    "papermill": {
     "duration": 0.072085,
     "end_time": "2021-12-15T14:30:09.778760",
     "exception": false,
     "start_time": "2021-12-15T14:30:09.706675",
     "status": "completed"
    },
    "tags": []
   },
   "outputs": [
    {
     "data": {
      "text/html": [
       "<div>\n",
       "<style scoped>\n",
       "    .dataframe tbody tr th:only-of-type {\n",
       "        vertical-align: middle;\n",
       "    }\n",
       "\n",
       "    .dataframe tbody tr th {\n",
       "        vertical-align: top;\n",
       "    }\n",
       "\n",
       "    .dataframe thead th {\n",
       "        text-align: right;\n",
       "    }\n",
       "</style>\n",
       "<table border=\"1\" class=\"dataframe\">\n",
       "  <thead>\n",
       "    <tr style=\"text-align: right;\">\n",
       "      <th></th>\n",
       "      <th>RECORD_TIME</th>\n",
       "    </tr>\n",
       "  </thead>\n",
       "  <tbody>\n",
       "    <tr>\n",
       "      <th>0</th>\n",
       "      <td>2021-12-15 15:30</td>\n",
       "    </tr>\n",
       "    <tr>\n",
       "      <th>1</th>\n",
       "      <td>2021-12-15 15:00</td>\n",
       "    </tr>\n",
       "  </tbody>\n",
       "</table>\n",
       "</div>"
      ],
      "text/plain": [
       "        RECORD_TIME\n",
       "0  2021-12-15 15:30\n",
       "1  2021-12-15 15:00"
      ]
     },
     "execution_count": 3,
     "metadata": {},
     "output_type": "execute_result"
    }
   ],
   "source": [
    "timestamps"
   ]
  },
  {
   "cell_type": "code",
   "execution_count": 4,
   "id": "alternate-victory",
   "metadata": {
    "execution": {
     "iopub.execute_input": "2021-12-15T14:30:09.833320Z",
     "iopub.status.busy": "2021-12-15T14:30:09.830964Z",
     "iopub.status.idle": "2021-12-15T14:30:11.438173Z",
     "shell.execute_reply": "2021-12-15T14:30:11.439786Z"
    },
    "papermill": {
     "duration": 1.640326,
     "end_time": "2021-12-15T14:30:11.440268",
     "exception": false,
     "start_time": "2021-12-15T14:30:09.799942",
     "status": "completed"
    },
    "tags": []
   },
   "outputs": [],
   "source": [
    "df = pd.read_sql(\"select * from EBAY_TOP_BERLIN where record_time in (select distinct record_time from EBAY_TOP_BERLIN order by record_time desc limit 2)\", sqlite3.connect(\"UsedObjects.db\"))"
   ]
  },
  {
   "cell_type": "code",
   "execution_count": 5,
   "id": "popular-active",
   "metadata": {
    "execution": {
     "iopub.execute_input": "2021-12-15T14:30:11.497426Z",
     "iopub.status.busy": "2021-12-15T14:30:11.494726Z",
     "iopub.status.idle": "2021-12-15T14:30:11.542870Z",
     "shell.execute_reply": "2021-12-15T14:30:11.544486Z"
    },
    "papermill": {
     "duration": 0.083293,
     "end_time": "2021-12-15T14:30:11.545077",
     "exception": false,
     "start_time": "2021-12-15T14:30:11.461784",
     "status": "completed"
    },
    "tags": []
   },
   "outputs": [],
   "source": [
    "df_pivot = df.pivot_table(index=\"PRODUCT\", columns = \"RECORD_TIME\", values = \"LISTING_COUNT\")"
   ]
  },
  {
   "cell_type": "code",
   "execution_count": 6,
   "id": "union-huntington",
   "metadata": {
    "execution": {
     "iopub.execute_input": "2021-12-15T14:30:11.603653Z",
     "iopub.status.busy": "2021-12-15T14:30:11.601697Z",
     "iopub.status.idle": "2021-12-15T14:30:11.606974Z",
     "shell.execute_reply": "2021-12-15T14:30:11.608324Z"
    },
    "papermill": {
     "duration": 0.042457,
     "end_time": "2021-12-15T14:30:11.608912",
     "exception": false,
     "start_time": "2021-12-15T14:30:11.566455",
     "status": "completed"
    },
    "tags": []
   },
   "outputs": [],
   "source": [
    "df_pivot.columns = [\"stamp_1\", \"stamp_2\"]\n",
    "df_pivot_diff = df_pivot.diff(axis=1)"
   ]
  },
  {
   "cell_type": "code",
   "execution_count": 7,
   "id": "fifth-motion",
   "metadata": {
    "execution": {
     "iopub.execute_input": "2021-12-15T14:30:11.665151Z",
     "iopub.status.busy": "2021-12-15T14:30:11.662700Z",
     "iopub.status.idle": "2021-12-15T14:30:13.682860Z",
     "shell.execute_reply": "2021-12-15T14:30:13.684857Z"
    },
    "papermill": {
     "duration": 2.056362,
     "end_time": "2021-12-15T14:30:13.685473",
     "exception": false,
     "start_time": "2021-12-15T14:30:11.629111",
     "status": "completed"
    },
    "tags": []
   },
   "outputs": [
    {
     "data": {
      "text/plain": [
       "<AxesSubplot:ylabel='PRODUCT'>"
      ]
     },
     "execution_count": 7,
     "metadata": {},
     "output_type": "execute_result"
    },
    {
     "data": {
      "image/png": "[encoded data removed]",
      "text/plain": [
       "<Figure size 432x288 with 1 Axes>"
      ]
     },
     "metadata": {
      "needs_background": "light"
     },
     "output_type": "display_data"
    }
   ],
   "source": [
    "df_pivot_diff.sort_values(\"stamp_2\", ascending = False)[\"stamp_2\"].head(10).plot.barh()"
   ]
  },
  {
   "cell_type": "code",
   "execution_count": null,
   "id": "extra-executive",
   "metadata": {
    "papermill": {
     "duration": 0.028196,
     "end_time": "2021-12-15T14:30:13.746850",
     "exception": false,
     "start_time": "2021-12-15T14:30:13.718654",
     "status": "completed"
    },
    "tags": []
   },
   "outputs": [],
   "source": []
  }
 ],
 "metadata": {
  "kernelspec": {
   "display_name": "Python 3",
   "language": "python",
   "name": "python3"
  },
  "language_info": {
   "codemirror_mode": {
    "name": "ipython",
    "version": 3
   },
   "file_extension": ".py",
   "mimetype": "text/x-python",
   "name": "python",
   "nbconvert_exporter": "python",
   "pygments_lexer": "ipython3",
   "version": "3.9.5"
  },
  "papermill": {
   "default_parameters": {},
   "duration": 9.614018,
   "end_time": "2021-12-15T14:30:14.394632",
   "environment_variables": {},
   "exception": null,
   "input_path": "eBay_Overview.ipynb",
   "output_path": "eBay_Overview.ipynb",
   "parameters": {},
   "start_time": "2021-12-15T14:30:04.780614",
   "version": "2.3.3"
  }
 },
 "nbformat": 4,
 "nbformat_minor": 5
}