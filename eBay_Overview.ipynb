{
 "cells": [
  {
   "cell_type": "code",
   "execution_count": 1,
   "id": "reverse-picking",
   "metadata": {
    "execution": {
     "iopub.execute_input": "2021-12-22T08:00:07.874044Z",
     "iopub.status.busy": "2021-12-22T08:00:07.871507Z",
     "iopub.status.idle": "2021-12-22T08:00:08.826673Z",
     "shell.execute_reply": "2021-12-22T08:00:08.828213Z"
    },
    "papermill": {
     "duration": 1.006262,
     "end_time": "2021-12-22T08:00:08.829046",
     "exception": false,
     "start_time": "2021-12-22T08:00:07.822784",
     "status": "completed"
    },
    "tags": []
   },
   "outputs": [],
   "source": [
    "import pandas as pd\n",
    "import sqlite3"
   ]
  },
  {
   "cell_type": "code",
   "execution_count": 2,
   "id": "innovative-syndrome",
   "metadata": {
    "execution": {
     "iopub.execute_input": "2021-12-22T08:00:08.906541Z",
     "iopub.status.busy": "2021-12-22T08:00:08.903452Z",
     "iopub.status.idle": "2021-12-22T08:00:10.076415Z",
     "shell.execute_reply": "2021-12-22T08:00:10.077796Z"
    },
    "papermill": {
     "duration": 1.221803,
     "end_time": "2021-12-22T08:00:10.078296",
     "exception": false,
     "start_time": "2021-12-22T08:00:08.856493",
     "status": "completed"
    },
    "tags": []
   },
   "outputs": [],
   "source": [
    "timestamps = pd.read_sql(\"select distinct record_time from EBAY_TOP_BERLIN order by record_time desc limit 2\", sqlite3.connect(\"UsedObjects.db\"))"
   ]
  },
  {
   "cell_type": "code",
   "execution_count": 3,
   "id": "periodic-identification",
   "metadata": {
    "execution": {
     "iopub.execute_input": "2021-12-22T08:00:10.164020Z",
     "iopub.status.busy": "2021-12-22T08:00:10.161978Z",
     "iopub.status.idle": "2021-12-22T08:00:10.204095Z",
     "shell.execute_reply": "2021-12-22T08:00:10.205652Z"
    },
    "papermill": {
     "duration": 0.099071,
     "end_time": "2021-12-22T08:00:10.206148",
     "exception": false,
     "start_time": "2021-12-22T08:00:10.107077",
     "status": "completed"
    },
    "tags": []
   },
   "outputs": [
    {
     "data": {
      "text/html": [
       "<div>\n",
       "<style scoped>\n",
       "    .dataframe tbody tr th:only-of-type {\n",
       "        vertical-align: middle;\n",
       "    }\n",
       "\n",
       "    .dataframe tbody tr th {\n",
       "        vertical-align: top;\n",
       "    }\n",
       "\n",
       "    .dataframe thead th {\n",
       "        text-align: right;\n",
       "    }\n",
       "</style>\n",
       "<table border=\"1\" class=\"dataframe\">\n",
       "  <thead>\n",
       "    <tr style=\"text-align: right;\">\n",
       "      <th></th>\n",
       "      <th>RECORD_TIME</th>\n",
       "    </tr>\n",
       "  </thead>\n",
       "  <tbody>\n",
       "    <tr>\n",
       "      <th>0</th>\n",
       "      <td>2021-12-22 09:00</td>\n",
       "    </tr>\n",
       "    <tr>\n",
       "      <th>1</th>\n",
       "      <td>2021-12-22 08:30</td>\n",
       "    </tr>\n",
       "  </tbody>\n",
       "</table>\n",
       "</div>"
      ],
      "text/plain": [
       "        RECORD_TIME\n",
       "0  2021-12-22 09:00\n",
       "1  2021-12-22 08:30"
      ]
     },
     "execution_count": 3,
     "metadata": {},
     "output_type": "execute_result"
    }
   ],
   "source": [
    "timestamps"
   ]
  },
  {
   "cell_type": "code",
   "execution_count": 4,
   "id": "alternate-victory",
   "metadata": {
    "execution": {
     "iopub.execute_input": "2021-12-22T08:00:10.262909Z",
     "iopub.status.busy": "2021-12-22T08:00:10.260616Z",
     "iopub.status.idle": "2021-12-22T08:00:11.922187Z",
     "shell.execute_reply": "2021-12-22T08:00:11.923993Z"
    },
    "papermill": {
     "duration": 1.696296,
     "end_time": "2021-12-22T08:00:11.924469",
     "exception": false,
     "start_time": "2021-12-22T08:00:10.228173",
     "status": "completed"
    },
    "tags": []
   },
   "outputs": [],
   "source": [
    "df = pd.read_sql(\"select * from EBAY_TOP_BERLIN where record_time in (select distinct record_time from EBAY_TOP_BERLIN order by record_time desc limit 2)\", sqlite3.connect(\"UsedObjects.db\"))"
   ]
  },
  {
   "cell_type": "code",
   "execution_count": 5,
   "id": "popular-active",
   "metadata": {
    "execution": {
     "iopub.execute_input": "2021-12-22T08:00:11.993303Z",
     "iopub.status.busy": "2021-12-22T08:00:11.986400Z",
     "iopub.status.idle": "2021-12-22T08:00:12.018188Z",
     "shell.execute_reply": "2021-12-22T08:00:12.019565Z"
    },
    "papermill": {
     "duration": 0.074781,
     "end_time": "2021-12-22T08:00:12.020055",
     "exception": false,
     "start_time": "2021-12-22T08:00:11.945274",
     "status": "completed"
    },
    "tags": []
   },
   "outputs": [],
   "source": [
    "df_pivot = df.pivot_table(index=\"PRODUCT\", columns = \"RECORD_TIME\", values = \"LISTING_COUNT\")"
   ]
  },
  {
   "cell_type": "code",
   "execution_count": 6,
   "id": "union-huntington",
   "metadata": {
    "execution": {
     "iopub.execute_input": "2021-12-22T08:00:12.080928Z",
     "iopub.status.busy": "2021-12-22T08:00:12.078609Z",
     "iopub.status.idle": "2021-12-22T08:00:12.084326Z",
     "shell.execute_reply": "2021-12-22T08:00:12.086103Z"
    },
    "papermill": {
     "duration": 0.04659,
     "end_time": "2021-12-22T08:00:12.086634",
     "exception": false,
     "start_time": "2021-12-22T08:00:12.040044",
     "status": "completed"
    },
    "tags": []
   },
   "outputs": [],
   "source": [
    "df_pivot.columns = [\"stamp_1\", \"stamp_2\"]\n",
    "df_pivot_diff = df_pivot.diff(axis=1)"
   ]
  },
  {
   "cell_type": "code",
   "execution_count": 7,
   "id": "fifth-motion",
   "metadata": {
    "execution": {
     "iopub.execute_input": "2021-12-22T08:00:12.143024Z",
     "iopub.status.busy": "2021-12-22T08:00:12.140743Z",
     "iopub.status.idle": "2021-12-22T08:00:14.147743Z",
     "shell.execute_reply": "2021-12-22T08:00:14.149186Z"
    },
    "papermill": {
     "duration": 2.041045,
     "end_time": "2021-12-22T08:00:14.149658",
     "exception": false,
     "start_time": "2021-12-22T08:00:12.108613",
     "status": "completed"
    },
    "tags": []
   },
   "outputs": [
    {
     "data": {
      "text/plain": [
       "<AxesSubplot:ylabel='PRODUCT'>"
      ]
     },
     "execution_count": 7,
     "metadata": {},
     "output_type": "execute_result"
    },
    {
     "data": {
      "image/png": "[encoded data removed]",
      "text/plain": [
       "<Figure size 432x288 with 1 Axes>"
      ]
     },
     "metadata": {
      "needs_background": "light"
     },
     "output_type": "display_data"
    }
   ],
   "source": [
    "df_pivot_diff.sort_values(\"stamp_2\", ascending = False)[\"stamp_2\"].head(10).plot.barh()"
   ]
  },
  {
   "cell_type": "code",
   "execution_count": null,
   "id": "extra-executive",
   "metadata": {
    "papermill": {
     "duration": 0.022086,
     "end_time": "2021-12-22T08:00:14.195972",
     "exception": false,
     "start_time": "2021-12-22T08:00:14.173886",
     "status": "completed"
    },
    "tags": []
   },
   "outputs": [],
   "source": []
  }
 ],
 "metadata": {
  "kernelspec": {
   "display_name": "Python 3",
   "language": "python",
   "name": "python3"
  },
  "language_info": {
   "codemirror_mode": {
    "name": "ipython",
    "version": 3
   },
   "file_extension": ".py",
   "mimetype": "text/x-python",
   "name": "python",
   "nbconvert_exporter": "python",
   "pygments_lexer": "ipython3",
   "version": "3.9.5"
  },
  "papermill": {
   "default_parameters": {},
   "duration": 9.779988,
   "end_time": "2021-12-22T08:00:14.839837",
   "environment_variables": {},
   "exception": null,
   "input_path": "eBay_Overview.ipynb",
   "output_path": "eBay_Overview.ipynb",
   "parameters": {},
   "start_time": "2021-12-22T08:00:05.059849",
   "version": "2.3.3"
  }
 },
 "nbformat": 4,
 "nbformat_minor": 5
}