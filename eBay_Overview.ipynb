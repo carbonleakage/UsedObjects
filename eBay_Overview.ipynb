{
 "cells": [
  {
   "cell_type": "code",
   "execution_count": 1,
   "id": "reverse-picking",
   "metadata": {
    "execution": {
     "iopub.execute_input": "2021-08-22T09:30:07.138220Z",
     "iopub.status.busy": "2021-08-22T09:30:07.136154Z",
     "iopub.status.idle": "2021-08-22T09:30:07.942070Z",
     "shell.execute_reply": "2021-08-22T09:30:07.943371Z"
    },
    "papermill": {
     "duration": 0.856622,
     "end_time": "2021-08-22T09:30:07.944000",
     "exception": false,
     "start_time": "2021-08-22T09:30:07.087378",
     "status": "completed"
    },
    "tags": []
   },
   "outputs": [],
   "source": [
    "import pandas as pd\n",
    "import sqlite3"
   ]
  },
  {
   "cell_type": "code",
   "execution_count": 2,
   "id": "innovative-syndrome",
   "metadata": {
    "execution": {
     "iopub.execute_input": "2021-08-22T09:30:07.995000Z",
     "iopub.status.busy": "2021-08-22T09:30:07.993035Z",
     "iopub.status.idle": "2021-08-22T09:30:08.096013Z",
     "shell.execute_reply": "2021-08-22T09:30:08.097206Z"
    },
    "papermill": {
     "duration": 0.132119,
     "end_time": "2021-08-22T09:30:08.097603",
     "exception": false,
     "start_time": "2021-08-22T09:30:07.965484",
     "status": "completed"
    },
    "tags": []
   },
   "outputs": [],
   "source": [
    "timestamps = pd.read_sql(\"select distinct record_time from EBAY_TOP_BERLIN order by record_time desc limit 2\", sqlite3.connect(\"UsedObjects.db\"))"
   ]
  },
  {
   "cell_type": "code",
   "execution_count": 3,
   "id": "periodic-identification",
   "metadata": {
    "execution": {
     "iopub.execute_input": "2021-08-22T09:30:08.161808Z",
     "iopub.status.busy": "2021-08-22T09:30:08.159785Z",
     "iopub.status.idle": "2021-08-22T09:30:08.179917Z",
     "shell.execute_reply": "2021-08-22T09:30:08.181198Z"
    },
    "papermill": {
     "duration": 0.063168,
     "end_time": "2021-08-22T09:30:08.181613",
     "exception": false,
     "start_time": "2021-08-22T09:30:08.118445",
     "status": "completed"
    },
    "tags": []
   },
   "outputs": [
    {
     "data": {
      "text/html": [
       "<div>\n",
       "<style scoped>\n",
       "    .dataframe tbody tr th:only-of-type {\n",
       "        vertical-align: middle;\n",
       "    }\n",
       "\n",
       "    .dataframe tbody tr th {\n",
       "        vertical-align: top;\n",
       "    }\n",
       "\n",
       "    .dataframe thead th {\n",
       "        text-align: right;\n",
       "    }\n",
       "</style>\n",
       "<table border=\"1\" class=\"dataframe\">\n",
       "  <thead>\n",
       "    <tr style=\"text-align: right;\">\n",
       "      <th></th>\n",
       "      <th>RECORD_TIME</th>\n",
       "    </tr>\n",
       "  </thead>\n",
       "  <tbody>\n",
       "    <tr>\n",
       "      <th>0</th>\n",
       "      <td>2021-08-22 11:30</td>\n",
       "    </tr>\n",
       "    <tr>\n",
       "      <th>1</th>\n",
       "      <td>2021-08-22 11:00</td>\n",
       "    </tr>\n",
       "  </tbody>\n",
       "</table>\n",
       "</div>"
      ],
      "text/plain": [
       "        RECORD_TIME\n",
       "0  2021-08-22 11:30\n",
       "1  2021-08-22 11:00"
      ]
     },
     "execution_count": 3,
     "metadata": {},
     "output_type": "execute_result"
    }
   ],
   "source": [
    "timestamps"
   ]
  },
  {
   "cell_type": "code",
   "execution_count": 4,
   "id": "alternate-victory",
   "metadata": {
    "execution": {
     "iopub.execute_input": "2021-08-22T09:30:08.233018Z",
     "iopub.status.busy": "2021-08-22T09:30:08.230755Z",
     "iopub.status.idle": "2021-08-22T09:30:08.387930Z",
     "shell.execute_reply": "2021-08-22T09:30:08.389217Z"
    },
    "papermill": {
     "duration": 0.18724,
     "end_time": "2021-08-22T09:30:08.389633",
     "exception": false,
     "start_time": "2021-08-22T09:30:08.202393",
     "status": "completed"
    },
    "tags": []
   },
   "outputs": [],
   "source": [
    "df = pd.read_sql(\"select * from EBAY_TOP_BERLIN where record_time in (select distinct record_time from EBAY_TOP_BERLIN order by record_time desc limit 2)\", sqlite3.connect(\"UsedObjects.db\"))"
   ]
  },
  {
   "cell_type": "code",
   "execution_count": 5,
   "id": "popular-active",
   "metadata": {
    "execution": {
     "iopub.execute_input": "2021-08-22T09:30:08.450055Z",
     "iopub.status.busy": "2021-08-22T09:30:08.447827Z",
     "iopub.status.idle": "2021-08-22T09:30:08.474876Z",
     "shell.execute_reply": "2021-08-22T09:30:08.476099Z"
    },
    "papermill": {
     "duration": 0.066392,
     "end_time": "2021-08-22T09:30:08.476496",
     "exception": false,
     "start_time": "2021-08-22T09:30:08.410104",
     "status": "completed"
    },
    "tags": []
   },
   "outputs": [],
   "source": [
    "df_pivot = df.pivot_table(index=\"PRODUCT\", columns = \"RECORD_TIME\", values = \"LISTING_COUNT\")"
   ]
  },
  {
   "cell_type": "code",
   "execution_count": 6,
   "id": "union-huntington",
   "metadata": {
    "execution": {
     "iopub.execute_input": "2021-08-22T09:30:08.537708Z",
     "iopub.status.busy": "2021-08-22T09:30:08.535235Z",
     "iopub.status.idle": "2021-08-22T09:30:08.541224Z",
     "shell.execute_reply": "2021-08-22T09:30:08.542641Z"
    },
    "papermill": {
     "duration": 0.043535,
     "end_time": "2021-08-22T09:30:08.543091",
     "exception": false,
     "start_time": "2021-08-22T09:30:08.499556",
     "status": "completed"
    },
    "tags": []
   },
   "outputs": [],
   "source": [
    "df_pivot.columns = [\"stamp_1\", \"stamp_2\"]\n",
    "df_pivot_diff = df_pivot.diff(axis=1)"
   ]
  },
  {
   "cell_type": "code",
   "execution_count": 7,
   "id": "fifth-motion",
   "metadata": {
    "execution": {
     "iopub.execute_input": "2021-08-22T09:30:08.605218Z",
     "iopub.status.busy": "2021-08-22T09:30:08.602511Z",
     "iopub.status.idle": "2021-08-22T09:30:10.085075Z",
     "shell.execute_reply": "2021-08-22T09:30:10.086629Z"
    },
    "papermill": {
     "duration": 1.518731,
     "end_time": "2021-08-22T09:30:10.087115",
     "exception": false,
     "start_time": "2021-08-22T09:30:08.568384",
     "status": "completed"
    },
    "tags": []
   },
   "outputs": [
    {
     "data": {
      "text/plain": [
       "<AxesSubplot:ylabel='PRODUCT'>"
      ]
     },
     "execution_count": 7,
     "metadata": {},
     "output_type": "execute_result"
    },
    {
     "data": {
      "image/png": "[encoded data removed]",
      "text/plain": [
       "<Figure size 432x288 with 1 Axes>"
      ]
     },
     "metadata": {
      "needs_background": "light"
     },
     "output_type": "display_data"
    }
   ],
   "source": [
    "df_pivot_diff.sort_values(\"stamp_2\", ascending = False)[\"stamp_2\"].head(10).plot.barh()"
   ]
  },
  {
   "cell_type": "code",
   "execution_count": null,
   "id": "extra-executive",
   "metadata": {
    "papermill": {
     "duration": 0.022363,
     "end_time": "2021-08-22T09:30:10.134208",
     "exception": false,
     "start_time": "2021-08-22T09:30:10.111845",
     "status": "completed"
    },
    "tags": []
   },
   "outputs": [],
   "source": []
  }
 ],
 "metadata": {
  "kernelspec": {
   "display_name": "Python 3",
   "language": "python",
   "name": "python3"
  },
  "language_info": {
   "codemirror_mode": {
    "name": "ipython",
    "version": 3
   },
   "file_extension": ".py",
   "mimetype": "text/x-python",
   "name": "python",
   "nbconvert_exporter": "python",
   "pygments_lexer": "ipython3",
   "version": "3.9.5"
  },
  "papermill": {
   "default_parameters": {},
   "duration": 6.831055,
   "end_time": "2021-08-22T09:30:11.517844",
   "environment_variables": {},
   "exception": null,
   "input_path": "eBay_Overview.ipynb",
   "output_path": "eBay_Overview.ipynb",
   "parameters": {},
   "start_time": "2021-08-22T09:30:04.686789",
   "version": "2.3.3"
  }
 },
 "nbformat": 4,
 "nbformat_minor": 5
}