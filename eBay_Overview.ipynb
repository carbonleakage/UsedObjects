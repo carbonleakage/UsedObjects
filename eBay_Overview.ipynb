{
 "cells": [
  {
   "cell_type": "code",
   "execution_count": 1,
   "id": "reverse-picking",
   "metadata": {
    "execution": {
     "iopub.execute_input": "2021-11-17T20:30:07.537744Z",
     "iopub.status.busy": "2021-11-17T20:30:07.527183Z",
     "iopub.status.idle": "2021-11-17T20:30:08.484800Z",
     "shell.execute_reply": "2021-11-17T20:30:08.486429Z"
    },
    "papermill": {
     "duration": 0.997608,
     "end_time": "2021-11-17T20:30:08.487156",
     "exception": false,
     "start_time": "2021-11-17T20:30:07.489548",
     "status": "completed"
    },
    "tags": []
   },
   "outputs": [],
   "source": [
    "import pandas as pd\n",
    "import sqlite3"
   ]
  },
  {
   "cell_type": "code",
   "execution_count": 2,
   "id": "innovative-syndrome",
   "metadata": {
    "execution": {
     "iopub.execute_input": "2021-11-17T20:30:08.551926Z",
     "iopub.status.busy": "2021-11-17T20:30:08.549628Z",
     "iopub.status.idle": "2021-11-17T20:30:09.390607Z",
     "shell.execute_reply": "2021-11-17T20:30:09.392133Z"
    },
    "papermill": {
     "duration": 0.88375,
     "end_time": "2021-11-17T20:30:09.392637",
     "exception": false,
     "start_time": "2021-11-17T20:30:08.508887",
     "status": "completed"
    },
    "tags": []
   },
   "outputs": [],
   "source": [
    "timestamps = pd.read_sql(\"select distinct record_time from EBAY_TOP_BERLIN order by record_time desc limit 2\", sqlite3.connect(\"UsedObjects.db\"))"
   ]
  },
  {
   "cell_type": "code",
   "execution_count": 3,
   "id": "periodic-identification",
   "metadata": {
    "execution": {
     "iopub.execute_input": "2021-11-17T20:30:09.480197Z",
     "iopub.status.busy": "2021-11-17T20:30:09.477803Z",
     "iopub.status.idle": "2021-11-17T20:30:09.500357Z",
     "shell.execute_reply": "2021-11-17T20:30:09.501846Z"
    },
    "papermill": {
     "duration": 0.087683,
     "end_time": "2021-11-17T20:30:09.502329",
     "exception": false,
     "start_time": "2021-11-17T20:30:09.414646",
     "status": "completed"
    },
    "tags": []
   },
   "outputs": [
    {
     "data": {
      "text/html": [
       "<div>\n",
       "<style scoped>\n",
       "    .dataframe tbody tr th:only-of-type {\n",
       "        vertical-align: middle;\n",
       "    }\n",
       "\n",
       "    .dataframe tbody tr th {\n",
       "        vertical-align: top;\n",
       "    }\n",
       "\n",
       "    .dataframe thead th {\n",
       "        text-align: right;\n",
       "    }\n",
       "</style>\n",
       "<table border=\"1\" class=\"dataframe\">\n",
       "  <thead>\n",
       "    <tr style=\"text-align: right;\">\n",
       "      <th></th>\n",
       "      <th>RECORD_TIME</th>\n",
       "    </tr>\n",
       "  </thead>\n",
       "  <tbody>\n",
       "    <tr>\n",
       "      <th>0</th>\n",
       "      <td>2021-11-17 21:30</td>\n",
       "    </tr>\n",
       "    <tr>\n",
       "      <th>1</th>\n",
       "      <td>2021-11-17 21:00</td>\n",
       "    </tr>\n",
       "  </tbody>\n",
       "</table>\n",
       "</div>"
      ],
      "text/plain": [
       "        RECORD_TIME\n",
       "0  2021-11-17 21:30\n",
       "1  2021-11-17 21:00"
      ]
     },
     "execution_count": 3,
     "metadata": {},
     "output_type": "execute_result"
    }
   ],
   "source": [
    "timestamps"
   ]
  },
  {
   "cell_type": "code",
   "execution_count": 4,
   "id": "alternate-victory",
   "metadata": {
    "execution": {
     "iopub.execute_input": "2021-11-17T20:30:09.558954Z",
     "iopub.status.busy": "2021-11-17T20:30:09.556619Z",
     "iopub.status.idle": "2021-11-17T20:30:10.798716Z",
     "shell.execute_reply": "2021-11-17T20:30:10.800291Z"
    },
    "papermill": {
     "duration": 1.276398,
     "end_time": "2021-11-17T20:30:10.800856",
     "exception": false,
     "start_time": "2021-11-17T20:30:09.524458",
     "status": "completed"
    },
    "tags": []
   },
   "outputs": [],
   "source": [
    "df = pd.read_sql(\"select * from EBAY_TOP_BERLIN where record_time in (select distinct record_time from EBAY_TOP_BERLIN order by record_time desc limit 2)\", sqlite3.connect(\"UsedObjects.db\"))"
   ]
  },
  {
   "cell_type": "code",
   "execution_count": 5,
   "id": "popular-active",
   "metadata": {
    "execution": {
     "iopub.execute_input": "2021-11-17T20:30:10.866957Z",
     "iopub.status.busy": "2021-11-17T20:30:10.864415Z",
     "iopub.status.idle": "2021-11-17T20:30:10.896318Z",
     "shell.execute_reply": "2021-11-17T20:30:10.897935Z"
    },
    "papermill": {
     "duration": 0.076055,
     "end_time": "2021-11-17T20:30:10.898432",
     "exception": false,
     "start_time": "2021-11-17T20:30:10.822377",
     "status": "completed"
    },
    "tags": []
   },
   "outputs": [],
   "source": [
    "df_pivot = df.pivot_table(index=\"PRODUCT\", columns = \"RECORD_TIME\", values = \"LISTING_COUNT\")"
   ]
  },
  {
   "cell_type": "code",
   "execution_count": 6,
   "id": "union-huntington",
   "metadata": {
    "execution": {
     "iopub.execute_input": "2021-11-17T20:30:10.960622Z",
     "iopub.status.busy": "2021-11-17T20:30:10.958313Z",
     "iopub.status.idle": "2021-11-17T20:30:10.964858Z",
     "shell.execute_reply": "2021-11-17T20:30:10.967086Z"
    },
    "papermill": {
     "duration": 0.048007,
     "end_time": "2021-11-17T20:30:10.967629",
     "exception": false,
     "start_time": "2021-11-17T20:30:10.919622",
     "status": "completed"
    },
    "tags": []
   },
   "outputs": [],
   "source": [
    "df_pivot.columns = [\"stamp_1\", \"stamp_2\"]\n",
    "df_pivot_diff = df_pivot.diff(axis=1)"
   ]
  },
  {
   "cell_type": "code",
   "execution_count": 7,
   "id": "fifth-motion",
   "metadata": {
    "execution": {
     "iopub.execute_input": "2021-11-17T20:30:11.026813Z",
     "iopub.status.busy": "2021-11-17T20:30:11.024133Z",
     "iopub.status.idle": "2021-11-17T20:30:12.769125Z",
     "shell.execute_reply": "2021-11-17T20:30:12.770614Z"
    },
    "papermill": {
     "duration": 1.782129,
     "end_time": "2021-11-17T20:30:12.771108",
     "exception": false,
     "start_time": "2021-11-17T20:30:10.988979",
     "status": "completed"
    },
    "tags": []
   },
   "outputs": [
    {
     "data": {
      "text/plain": [
       "<AxesSubplot:ylabel='PRODUCT'>"
      ]
     },
     "execution_count": 7,
     "metadata": {},
     "output_type": "execute_result"
    },
    {
     "data": {
      "image/png": "[encoded data removed]",
      "text/plain": [
       "<Figure size 432x288 with 1 Axes>"
      ]
     },
     "metadata": {
      "needs_background": "light"
     },
     "output_type": "display_data"
    }
   ],
   "source": [
    "df_pivot_diff.sort_values(\"stamp_2\", ascending = False)[\"stamp_2\"].head(10).plot.barh()"
   ]
  },
  {
   "cell_type": "code",
   "execution_count": null,
   "id": "extra-executive",
   "metadata": {
    "papermill": {
     "duration": 0.024947,
     "end_time": "2021-11-17T20:30:12.821017",
     "exception": false,
     "start_time": "2021-11-17T20:30:12.796070",
     "status": "completed"
    },
    "tags": []
   },
   "outputs": [],
   "source": []
  }
 ],
 "metadata": {
  "kernelspec": {
   "display_name": "Python 3",
   "language": "python",
   "name": "python3"
  },
  "language_info": {
   "codemirror_mode": {
    "name": "ipython",
    "version": 3
   },
   "file_extension": ".py",
   "mimetype": "text/x-python",
   "name": "python",
   "nbconvert_exporter": "python",
   "pygments_lexer": "ipython3",
   "version": "3.9.5"
  },
  "papermill": {
   "default_parameters": {},
   "duration": 8.98302,
   "end_time": "2021-11-17T20:30:13.676488",
   "environment_variables": {},
   "exception": null,
   "input_path": "eBay_Overview.ipynb",
   "output_path": "eBay_Overview.ipynb",
   "parameters": {},
   "start_time": "2021-11-17T20:30:04.693468",
   "version": "2.3.3"
  }
 },
 "nbformat": 4,
 "nbformat_minor": 5
}