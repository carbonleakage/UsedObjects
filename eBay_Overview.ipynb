{
 "cells": [
  {
   "cell_type": "code",
   "execution_count": 1,
   "id": "reverse-picking",
   "metadata": {
    "execution": {
     "iopub.execute_input": "2021-10-05T07:30:07.391307Z",
     "iopub.status.busy": "2021-10-05T07:30:07.389304Z",
     "iopub.status.idle": "2021-10-05T07:30:08.194316Z",
     "shell.execute_reply": "2021-10-05T07:30:08.195851Z"
    },
    "papermill": {
     "duration": 0.856452,
     "end_time": "2021-10-05T07:30:08.196545",
     "exception": false,
     "start_time": "2021-10-05T07:30:07.340093",
     "status": "completed"
    },
    "tags": []
   },
   "outputs": [],
   "source": [
    "import pandas as pd\n",
    "import sqlite3"
   ]
  },
  {
   "cell_type": "code",
   "execution_count": 2,
   "id": "innovative-syndrome",
   "metadata": {
    "execution": {
     "iopub.execute_input": "2021-10-05T07:30:08.247270Z",
     "iopub.status.busy": "2021-10-05T07:30:08.245201Z",
     "iopub.status.idle": "2021-10-05T07:30:08.710319Z",
     "shell.execute_reply": "2021-10-05T07:30:08.711720Z"
    },
    "papermill": {
     "duration": 0.495279,
     "end_time": "2021-10-05T07:30:08.712153",
     "exception": false,
     "start_time": "2021-10-05T07:30:08.216874",
     "status": "completed"
    },
    "tags": []
   },
   "outputs": [],
   "source": [
    "timestamps = pd.read_sql(\"select distinct record_time from EBAY_TOP_BERLIN order by record_time desc limit 2\", sqlite3.connect(\"UsedObjects.db\"))"
   ]
  },
  {
   "cell_type": "code",
   "execution_count": 3,
   "id": "periodic-identification",
   "metadata": {
    "execution": {
     "iopub.execute_input": "2021-10-05T07:30:08.776110Z",
     "iopub.status.busy": "2021-10-05T07:30:08.773786Z",
     "iopub.status.idle": "2021-10-05T07:30:08.793305Z",
     "shell.execute_reply": "2021-10-05T07:30:08.794518Z"
    },
    "papermill": {
     "duration": 0.063429,
     "end_time": "2021-10-05T07:30:08.794983",
     "exception": false,
     "start_time": "2021-10-05T07:30:08.731554",
     "status": "completed"
    },
    "tags": []
   },
   "outputs": [
    {
     "data": {
      "text/html": [
       "<div>\n",
       "<style scoped>\n",
       "    .dataframe tbody tr th:only-of-type {\n",
       "        vertical-align: middle;\n",
       "    }\n",
       "\n",
       "    .dataframe tbody tr th {\n",
       "        vertical-align: top;\n",
       "    }\n",
       "\n",
       "    .dataframe thead th {\n",
       "        text-align: right;\n",
       "    }\n",
       "</style>\n",
       "<table border=\"1\" class=\"dataframe\">\n",
       "  <thead>\n",
       "    <tr style=\"text-align: right;\">\n",
       "      <th></th>\n",
       "      <th>RECORD_TIME</th>\n",
       "    </tr>\n",
       "  </thead>\n",
       "  <tbody>\n",
       "    <tr>\n",
       "      <th>0</th>\n",
       "      <td>2021-10-05 09:30</td>\n",
       "    </tr>\n",
       "    <tr>\n",
       "      <th>1</th>\n",
       "      <td>2021-10-05 09:00</td>\n",
       "    </tr>\n",
       "  </tbody>\n",
       "</table>\n",
       "</div>"
      ],
      "text/plain": [
       "        RECORD_TIME\n",
       "0  2021-10-05 09:30\n",
       "1  2021-10-05 09:00"
      ]
     },
     "execution_count": 3,
     "metadata": {},
     "output_type": "execute_result"
    }
   ],
   "source": [
    "timestamps"
   ]
  },
  {
   "cell_type": "code",
   "execution_count": 4,
   "id": "alternate-victory",
   "metadata": {
    "execution": {
     "iopub.execute_input": "2021-10-05T07:30:08.856345Z",
     "iopub.status.busy": "2021-10-05T07:30:08.854348Z",
     "iopub.status.idle": "2021-10-05T07:30:09.517985Z",
     "shell.execute_reply": "2021-10-05T07:30:09.519345Z"
    },
    "papermill": {
     "duration": 0.698504,
     "end_time": "2021-10-05T07:30:09.519779",
     "exception": false,
     "start_time": "2021-10-05T07:30:08.821275",
     "status": "completed"
    },
    "tags": []
   },
   "outputs": [],
   "source": [
    "df = pd.read_sql(\"select * from EBAY_TOP_BERLIN where record_time in (select distinct record_time from EBAY_TOP_BERLIN order by record_time desc limit 2)\", sqlite3.connect(\"UsedObjects.db\"))"
   ]
  },
  {
   "cell_type": "code",
   "execution_count": 5,
   "id": "popular-active",
   "metadata": {
    "execution": {
     "iopub.execute_input": "2021-10-05T07:30:09.585394Z",
     "iopub.status.busy": "2021-10-05T07:30:09.578888Z",
     "iopub.status.idle": "2021-10-05T07:30:09.607861Z",
     "shell.execute_reply": "2021-10-05T07:30:09.609177Z"
    },
    "papermill": {
     "duration": 0.069305,
     "end_time": "2021-10-05T07:30:09.609591",
     "exception": false,
     "start_time": "2021-10-05T07:30:09.540286",
     "status": "completed"
    },
    "tags": []
   },
   "outputs": [],
   "source": [
    "df_pivot = df.pivot_table(index=\"PRODUCT\", columns = \"RECORD_TIME\", values = \"LISTING_COUNT\")"
   ]
  },
  {
   "cell_type": "code",
   "execution_count": 6,
   "id": "union-huntington",
   "metadata": {
    "execution": {
     "iopub.execute_input": "2021-10-05T07:30:09.666639Z",
     "iopub.status.busy": "2021-10-05T07:30:09.664186Z",
     "iopub.status.idle": "2021-10-05T07:30:09.670199Z",
     "shell.execute_reply": "2021-10-05T07:30:09.671561Z"
    },
    "papermill": {
     "duration": 0.042705,
     "end_time": "2021-10-05T07:30:09.672026",
     "exception": false,
     "start_time": "2021-10-05T07:30:09.629321",
     "status": "completed"
    },
    "tags": []
   },
   "outputs": [],
   "source": [
    "df_pivot.columns = [\"stamp_1\", \"stamp_2\"]\n",
    "df_pivot_diff = df_pivot.diff(axis=1)"
   ]
  },
  {
   "cell_type": "code",
   "execution_count": 7,
   "id": "fifth-motion",
   "metadata": {
    "execution": {
     "iopub.execute_input": "2021-10-05T07:30:09.727017Z",
     "iopub.status.busy": "2021-10-05T07:30:09.724665Z",
     "iopub.status.idle": "2021-10-05T07:30:11.241381Z",
     "shell.execute_reply": "2021-10-05T07:30:11.242664Z"
    },
    "papermill": {
     "duration": 1.549291,
     "end_time": "2021-10-05T07:30:11.243290",
     "exception": false,
     "start_time": "2021-10-05T07:30:09.693999",
     "status": "completed"
    },
    "tags": []
   },
   "outputs": [
    {
     "data": {
      "text/plain": [
       "<AxesSubplot:ylabel='PRODUCT'>"
      ]
     },
     "execution_count": 7,
     "metadata": {},
     "output_type": "execute_result"
    },
    {
     "data": {
      "image/png": "[encoded data removed]",
      "text/plain": [
       "<Figure size 432x288 with 1 Axes>"
      ]
     },
     "metadata": {
      "needs_background": "light"
     },
     "output_type": "display_data"
    }
   ],
   "source": [
    "df_pivot_diff.sort_values(\"stamp_2\", ascending = False)[\"stamp_2\"].head(10).plot.barh()"
   ]
  },
  {
   "cell_type": "code",
   "execution_count": null,
   "id": "extra-executive",
   "metadata": {
    "papermill": {
     "duration": 0.022329,
     "end_time": "2021-10-05T07:30:11.291602",
     "exception": false,
     "start_time": "2021-10-05T07:30:11.269273",
     "status": "completed"
    },
    "tags": []
   },
   "outputs": [],
   "source": []
  }
 ],
 "metadata": {
  "kernelspec": {
   "display_name": "Python 3",
   "language": "python",
   "name": "python3"
  },
  "language_info": {
   "codemirror_mode": {
    "name": "ipython",
    "version": 3
   },
   "file_extension": ".py",
   "mimetype": "text/x-python",
   "name": "python",
   "nbconvert_exporter": "python",
   "pygments_lexer": "ipython3",
   "version": "3.9.5"
  },
  "papermill": {
   "default_parameters": {},
   "duration": 7.823044,
   "end_time": "2021-10-05T07:30:12.755407",
   "environment_variables": {},
   "exception": null,
   "input_path": "eBay_Overview.ipynb",
   "output_path": "eBay_Overview.ipynb",
   "parameters": {},
   "start_time": "2021-10-05T07:30:04.932363",
   "version": "2.3.3"
  }
 },
 "nbformat": 4,
 "nbformat_minor": 5
}