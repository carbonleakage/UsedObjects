{
 "cells": [
  {
   "cell_type": "code",
   "execution_count": 1,
   "id": "reverse-picking",
   "metadata": {
    "execution": {
     "iopub.execute_input": "2021-10-26T04:30:07.226395Z",
     "iopub.status.busy": "2021-10-26T04:30:07.224381Z",
     "iopub.status.idle": "2021-10-26T04:30:08.026334Z",
     "shell.execute_reply": "2021-10-26T04:30:08.027568Z"
    },
    "papermill": {
     "duration": 0.852606,
     "end_time": "2021-10-26T04:30:08.028193",
     "exception": false,
     "start_time": "2021-10-26T04:30:07.175587",
     "status": "completed"
    },
    "tags": []
   },
   "outputs": [],
   "source": [
    "import pandas as pd\n",
    "import sqlite3"
   ]
  },
  {
   "cell_type": "code",
   "execution_count": 2,
   "id": "innovative-syndrome",
   "metadata": {
    "execution": {
     "iopub.execute_input": "2021-10-26T04:30:08.079802Z",
     "iopub.status.busy": "2021-10-26T04:30:08.077938Z",
     "iopub.status.idle": "2021-10-26T04:30:08.720610Z",
     "shell.execute_reply": "2021-10-26T04:30:08.721974Z"
    },
    "papermill": {
     "duration": 0.672539,
     "end_time": "2021-10-26T04:30:08.722391",
     "exception": false,
     "start_time": "2021-10-26T04:30:08.049852",
     "status": "completed"
    },
    "tags": []
   },
   "outputs": [],
   "source": [
    "timestamps = pd.read_sql(\"select distinct record_time from EBAY_TOP_BERLIN order by record_time desc limit 2\", sqlite3.connect(\"UsedObjects.db\"))"
   ]
  },
  {
   "cell_type": "code",
   "execution_count": 3,
   "id": "periodic-identification",
   "metadata": {
    "execution": {
     "iopub.execute_input": "2021-10-26T04:30:08.796003Z",
     "iopub.status.busy": "2021-10-26T04:30:08.794005Z",
     "iopub.status.idle": "2021-10-26T04:30:08.813855Z",
     "shell.execute_reply": "2021-10-26T04:30:08.815149Z"
    },
    "papermill": {
     "duration": 0.067958,
     "end_time": "2021-10-26T04:30:08.815559",
     "exception": false,
     "start_time": "2021-10-26T04:30:08.747601",
     "status": "completed"
    },
    "tags": []
   },
   "outputs": [
    {
     "data": {
      "text/html": [
       "<div>\n",
       "<style scoped>\n",
       "    .dataframe tbody tr th:only-of-type {\n",
       "        vertical-align: middle;\n",
       "    }\n",
       "\n",
       "    .dataframe tbody tr th {\n",
       "        vertical-align: top;\n",
       "    }\n",
       "\n",
       "    .dataframe thead th {\n",
       "        text-align: right;\n",
       "    }\n",
       "</style>\n",
       "<table border=\"1\" class=\"dataframe\">\n",
       "  <thead>\n",
       "    <tr style=\"text-align: right;\">\n",
       "      <th></th>\n",
       "      <th>RECORD_TIME</th>\n",
       "    </tr>\n",
       "  </thead>\n",
       "  <tbody>\n",
       "    <tr>\n",
       "      <th>0</th>\n",
       "      <td>2021-10-26 06:30</td>\n",
       "    </tr>\n",
       "    <tr>\n",
       "      <th>1</th>\n",
       "      <td>2021-10-26 06:00</td>\n",
       "    </tr>\n",
       "  </tbody>\n",
       "</table>\n",
       "</div>"
      ],
      "text/plain": [
       "        RECORD_TIME\n",
       "0  2021-10-26 06:30\n",
       "1  2021-10-26 06:00"
      ]
     },
     "execution_count": 3,
     "metadata": {},
     "output_type": "execute_result"
    }
   ],
   "source": [
    "timestamps"
   ]
  },
  {
   "cell_type": "code",
   "execution_count": 4,
   "id": "alternate-victory",
   "metadata": {
    "execution": {
     "iopub.execute_input": "2021-10-26T04:30:08.868494Z",
     "iopub.status.busy": "2021-10-26T04:30:08.866238Z",
     "iopub.status.idle": "2021-10-26T04:30:09.802611Z",
     "shell.execute_reply": "2021-10-26T04:30:09.804069Z"
    },
    "papermill": {
     "duration": 0.967307,
     "end_time": "2021-10-26T04:30:09.804527",
     "exception": false,
     "start_time": "2021-10-26T04:30:08.837220",
     "status": "completed"
    },
    "tags": []
   },
   "outputs": [],
   "source": [
    "df = pd.read_sql(\"select * from EBAY_TOP_BERLIN where record_time in (select distinct record_time from EBAY_TOP_BERLIN order by record_time desc limit 2)\", sqlite3.connect(\"UsedObjects.db\"))"
   ]
  },
  {
   "cell_type": "code",
   "execution_count": 5,
   "id": "popular-active",
   "metadata": {
    "execution": {
     "iopub.execute_input": "2021-10-26T04:30:09.870642Z",
     "iopub.status.busy": "2021-10-26T04:30:09.863509Z",
     "iopub.status.idle": "2021-10-26T04:30:09.891218Z",
     "shell.execute_reply": "2021-10-26T04:30:09.892429Z"
    },
    "papermill": {
     "duration": 0.066908,
     "end_time": "2021-10-26T04:30:09.893013",
     "exception": false,
     "start_time": "2021-10-26T04:30:09.826105",
     "status": "completed"
    },
    "tags": []
   },
   "outputs": [],
   "source": [
    "df_pivot = df.pivot_table(index=\"PRODUCT\", columns = \"RECORD_TIME\", values = \"LISTING_COUNT\")"
   ]
  },
  {
   "cell_type": "code",
   "execution_count": 6,
   "id": "union-huntington",
   "metadata": {
    "execution": {
     "iopub.execute_input": "2021-10-26T04:30:09.952306Z",
     "iopub.status.busy": "2021-10-26T04:30:09.949881Z",
     "iopub.status.idle": "2021-10-26T04:30:09.957345Z",
     "shell.execute_reply": "2021-10-26T04:30:09.955893Z"
    },
    "papermill": {
     "duration": 0.042319,
     "end_time": "2021-10-26T04:30:09.957701",
     "exception": false,
     "start_time": "2021-10-26T04:30:09.915382",
     "status": "completed"
    },
    "tags": []
   },
   "outputs": [],
   "source": [
    "df_pivot.columns = [\"stamp_1\", \"stamp_2\"]\n",
    "df_pivot_diff = df_pivot.diff(axis=1)"
   ]
  },
  {
   "cell_type": "code",
   "execution_count": 7,
   "id": "fifth-motion",
   "metadata": {
    "execution": {
     "iopub.execute_input": "2021-10-26T04:30:10.011737Z",
     "iopub.status.busy": "2021-10-26T04:30:10.009543Z",
     "iopub.status.idle": "2021-10-26T04:30:11.504183Z",
     "shell.execute_reply": "2021-10-26T04:30:11.505800Z"
    },
    "papermill": {
     "duration": 1.527811,
     "end_time": "2021-10-26T04:30:11.506259",
     "exception": false,
     "start_time": "2021-10-26T04:30:09.978448",
     "status": "completed"
    },
    "tags": []
   },
   "outputs": [
    {
     "data": {
      "text/plain": [
       "<AxesSubplot:ylabel='PRODUCT'>"
      ]
     },
     "execution_count": 7,
     "metadata": {},
     "output_type": "execute_result"
    },
    {
     "data": {
      "image/png": "[encoded data removed]",
      "text/plain": [
       "<Figure size 432x288 with 1 Axes>"
      ]
     },
     "metadata": {
      "needs_background": "light"
     },
     "output_type": "display_data"
    }
   ],
   "source": [
    "df_pivot_diff.sort_values(\"stamp_2\", ascending = False)[\"stamp_2\"].head(10).plot.barh()"
   ]
  },
  {
   "cell_type": "code",
   "execution_count": null,
   "id": "extra-executive",
   "metadata": {
    "papermill": {
     "duration": 0.022147,
     "end_time": "2021-10-26T04:30:11.552774",
     "exception": false,
     "start_time": "2021-10-26T04:30:11.530627",
     "status": "completed"
    },
    "tags": []
   },
   "outputs": [],
   "source": []
  }
 ],
 "metadata": {
  "kernelspec": {
   "display_name": "Python 3",
   "language": "python",
   "name": "python3"
  },
  "language_info": {
   "codemirror_mode": {
    "name": "ipython",
    "version": 3
   },
   "file_extension": ".py",
   "mimetype": "text/x-python",
   "name": "python",
   "nbconvert_exporter": "python",
   "pygments_lexer": "ipython3",
   "version": "3.9.5"
  },
  "papermill": {
   "default_parameters": {},
   "duration": 7.417272,
   "end_time": "2021-10-26T04:30:12.195281",
   "environment_variables": {},
   "exception": null,
   "input_path": "eBay_Overview.ipynb",
   "output_path": "eBay_Overview.ipynb",
   "parameters": {},
   "start_time": "2021-10-26T04:30:04.778009",
   "version": "2.3.3"
  }
 },
 "nbformat": 4,
 "nbformat_minor": 5
}