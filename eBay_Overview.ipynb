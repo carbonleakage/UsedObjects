{
 "cells": [
  {
   "cell_type": "code",
   "execution_count": 1,
   "id": "reverse-picking",
   "metadata": {
    "execution": {
     "iopub.execute_input": "2021-10-23T20:00:06.956762Z",
     "iopub.status.busy": "2021-10-23T20:00:06.954790Z",
     "iopub.status.idle": "2021-10-23T20:00:07.761153Z",
     "shell.execute_reply": "2021-10-23T20:00:07.762492Z"
    },
    "papermill": {
     "duration": 0.859457,
     "end_time": "2021-10-23T20:00:07.763141",
     "exception": false,
     "start_time": "2021-10-23T20:00:06.903684",
     "status": "completed"
    },
    "tags": []
   },
   "outputs": [],
   "source": [
    "import pandas as pd\n",
    "import sqlite3"
   ]
  },
  {
   "cell_type": "code",
   "execution_count": 2,
   "id": "innovative-syndrome",
   "metadata": {
    "execution": {
     "iopub.execute_input": "2021-10-23T20:00:07.813475Z",
     "iopub.status.busy": "2021-10-23T20:00:07.811528Z",
     "iopub.status.idle": "2021-10-23T20:00:08.429908Z",
     "shell.execute_reply": "2021-10-23T20:00:08.431110Z"
    },
    "papermill": {
     "duration": 0.647968,
     "end_time": "2021-10-23T20:00:08.431509",
     "exception": false,
     "start_time": "2021-10-23T20:00:07.783541",
     "status": "completed"
    },
    "tags": []
   },
   "outputs": [],
   "source": [
    "timestamps = pd.read_sql(\"select distinct record_time from EBAY_TOP_BERLIN order by record_time desc limit 2\", sqlite3.connect(\"UsedObjects.db\"))"
   ]
  },
  {
   "cell_type": "code",
   "execution_count": 3,
   "id": "periodic-identification",
   "metadata": {
    "execution": {
     "iopub.execute_input": "2021-10-23T20:00:08.511888Z",
     "iopub.status.busy": "2021-10-23T20:00:08.506553Z",
     "iopub.status.idle": "2021-10-23T20:00:08.527881Z",
     "shell.execute_reply": "2021-10-23T20:00:08.529457Z"
    },
    "papermill": {
     "duration": 0.071959,
     "end_time": "2021-10-23T20:00:08.529948",
     "exception": false,
     "start_time": "2021-10-23T20:00:08.457989",
     "status": "completed"
    },
    "tags": []
   },
   "outputs": [
    {
     "data": {
      "text/html": [
       "<div>\n",
       "<style scoped>\n",
       "    .dataframe tbody tr th:only-of-type {\n",
       "        vertical-align: middle;\n",
       "    }\n",
       "\n",
       "    .dataframe tbody tr th {\n",
       "        vertical-align: top;\n",
       "    }\n",
       "\n",
       "    .dataframe thead th {\n",
       "        text-align: right;\n",
       "    }\n",
       "</style>\n",
       "<table border=\"1\" class=\"dataframe\">\n",
       "  <thead>\n",
       "    <tr style=\"text-align: right;\">\n",
       "      <th></th>\n",
       "      <th>RECORD_TIME</th>\n",
       "    </tr>\n",
       "  </thead>\n",
       "  <tbody>\n",
       "    <tr>\n",
       "      <th>0</th>\n",
       "      <td>2021-10-23 22:00</td>\n",
       "    </tr>\n",
       "    <tr>\n",
       "      <th>1</th>\n",
       "      <td>2021-10-23 21:30</td>\n",
       "    </tr>\n",
       "  </tbody>\n",
       "</table>\n",
       "</div>"
      ],
      "text/plain": [
       "        RECORD_TIME\n",
       "0  2021-10-23 22:00\n",
       "1  2021-10-23 21:30"
      ]
     },
     "execution_count": 3,
     "metadata": {},
     "output_type": "execute_result"
    }
   ],
   "source": [
    "timestamps"
   ]
  },
  {
   "cell_type": "code",
   "execution_count": 4,
   "id": "alternate-victory",
   "metadata": {
    "execution": {
     "iopub.execute_input": "2021-10-23T20:00:08.583516Z",
     "iopub.status.busy": "2021-10-23T20:00:08.581482Z",
     "iopub.status.idle": "2021-10-23T20:00:09.493739Z",
     "shell.execute_reply": "2021-10-23T20:00:09.495026Z"
    },
    "papermill": {
     "duration": 0.942913,
     "end_time": "2021-10-23T20:00:09.495430",
     "exception": false,
     "start_time": "2021-10-23T20:00:08.552517",
     "status": "completed"
    },
    "tags": []
   },
   "outputs": [],
   "source": [
    "df = pd.read_sql(\"select * from EBAY_TOP_BERLIN where record_time in (select distinct record_time from EBAY_TOP_BERLIN order by record_time desc limit 2)\", sqlite3.connect(\"UsedObjects.db\"))"
   ]
  },
  {
   "cell_type": "code",
   "execution_count": 5,
   "id": "popular-active",
   "metadata": {
    "execution": {
     "iopub.execute_input": "2021-10-23T20:00:09.565211Z",
     "iopub.status.busy": "2021-10-23T20:00:09.558271Z",
     "iopub.status.idle": "2021-10-23T20:00:09.580462Z",
     "shell.execute_reply": "2021-10-23T20:00:09.581931Z"
    },
    "papermill": {
     "duration": 0.066315,
     "end_time": "2021-10-23T20:00:09.582380",
     "exception": false,
     "start_time": "2021-10-23T20:00:09.516065",
     "status": "completed"
    },
    "tags": []
   },
   "outputs": [],
   "source": [
    "df_pivot = df.pivot_table(index=\"PRODUCT\", columns = \"RECORD_TIME\", values = \"LISTING_COUNT\")"
   ]
  },
  {
   "cell_type": "code",
   "execution_count": 6,
   "id": "union-huntington",
   "metadata": {
    "execution": {
     "iopub.execute_input": "2021-10-23T20:00:09.640539Z",
     "iopub.status.busy": "2021-10-23T20:00:09.638068Z",
     "iopub.status.idle": "2021-10-23T20:00:09.643660Z",
     "shell.execute_reply": "2021-10-23T20:00:09.645002Z"
    },
    "papermill": {
     "duration": 0.042302,
     "end_time": "2021-10-23T20:00:09.645426",
     "exception": false,
     "start_time": "2021-10-23T20:00:09.603124",
     "status": "completed"
    },
    "tags": []
   },
   "outputs": [],
   "source": [
    "df_pivot.columns = [\"stamp_1\", \"stamp_2\"]\n",
    "df_pivot_diff = df_pivot.diff(axis=1)"
   ]
  },
  {
   "cell_type": "code",
   "execution_count": 7,
   "id": "fifth-motion",
   "metadata": {
    "execution": {
     "iopub.execute_input": "2021-10-23T20:00:09.699596Z",
     "iopub.status.busy": "2021-10-23T20:00:09.697329Z",
     "iopub.status.idle": "2021-10-23T20:00:11.187796Z",
     "shell.execute_reply": "2021-10-23T20:00:11.189142Z"
    },
    "papermill": {
     "duration": 1.523996,
     "end_time": "2021-10-23T20:00:11.189606",
     "exception": false,
     "start_time": "2021-10-23T20:00:09.665610",
     "status": "completed"
    },
    "tags": []
   },
   "outputs": [
    {
     "data": {
      "text/plain": [
       "<AxesSubplot:ylabel='PRODUCT'>"
      ]
     },
     "execution_count": 7,
     "metadata": {},
     "output_type": "execute_result"
    },
    {
     "data": {
      "image/png": "[encoded data removed]",
      "text/plain": [
       "<Figure size 432x288 with 1 Axes>"
      ]
     },
     "metadata": {
      "needs_background": "light"
     },
     "output_type": "display_data"
    }
   ],
   "source": [
    "df_pivot_diff.sort_values(\"stamp_2\", ascending = False)[\"stamp_2\"].head(10).plot.barh()"
   ]
  },
  {
   "cell_type": "code",
   "execution_count": null,
   "id": "extra-executive",
   "metadata": {
    "papermill": {
     "duration": 0.022287,
     "end_time": "2021-10-23T20:00:11.236771",
     "exception": false,
     "start_time": "2021-10-23T20:00:11.214484",
     "status": "completed"
    },
    "tags": []
   },
   "outputs": [],
   "source": []
  }
 ],
 "metadata": {
  "kernelspec": {
   "display_name": "Python 3",
   "language": "python",
   "name": "python3"
  },
  "language_info": {
   "codemirror_mode": {
    "name": "ipython",
    "version": 3
   },
   "file_extension": ".py",
   "mimetype": "text/x-python",
   "name": "python",
   "nbconvert_exporter": "python",
   "pygments_lexer": "ipython3",
   "version": "3.9.5"
  },
  "papermill": {
   "default_parameters": {},
   "duration": 7.379804,
   "end_time": "2021-10-23T20:00:11.878863",
   "environment_variables": {},
   "exception": null,
   "input_path": "eBay_Overview.ipynb",
   "output_path": "eBay_Overview.ipynb",
   "parameters": {},
   "start_time": "2021-10-23T20:00:04.499059",
   "version": "2.3.3"
  }
 },
 "nbformat": 4,
 "nbformat_minor": 5
}