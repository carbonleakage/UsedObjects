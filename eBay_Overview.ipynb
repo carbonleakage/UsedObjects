{
 "cells": [
  {
   "cell_type": "code",
   "execution_count": 1,
   "id": "reverse-picking",
   "metadata": {
    "execution": {
     "iopub.execute_input": "2021-10-11T05:30:09.134799Z",
     "iopub.status.busy": "2021-10-11T05:30:09.132865Z",
     "iopub.status.idle": "2021-10-11T05:30:11.163236Z",
     "shell.execute_reply": "2021-10-11T05:30:11.164945Z"
    },
    "papermill": {
     "duration": 2.084059,
     "end_time": "2021-10-11T05:30:11.165781",
     "exception": false,
     "start_time": "2021-10-11T05:30:09.081722",
     "status": "completed"
    },
    "tags": []
   },
   "outputs": [],
   "source": [
    "import pandas as pd\n",
    "import sqlite3"
   ]
  },
  {
   "cell_type": "code",
   "execution_count": 2,
   "id": "innovative-syndrome",
   "metadata": {
    "execution": {
     "iopub.execute_input": "2021-10-11T05:30:11.217380Z",
     "iopub.status.busy": "2021-10-11T05:30:11.215357Z",
     "iopub.status.idle": "2021-10-11T05:30:11.928416Z",
     "shell.execute_reply": "2021-10-11T05:30:11.931121Z"
    },
    "papermill": {
     "duration": 0.744579,
     "end_time": "2021-10-11T05:30:11.931713",
     "exception": false,
     "start_time": "2021-10-11T05:30:11.187134",
     "status": "completed"
    },
    "tags": []
   },
   "outputs": [],
   "source": [
    "timestamps = pd.read_sql(\"select distinct record_time from EBAY_TOP_BERLIN order by record_time desc limit 2\", sqlite3.connect(\"UsedObjects.db\"))"
   ]
  },
  {
   "cell_type": "code",
   "execution_count": 3,
   "id": "periodic-identification",
   "metadata": {
    "execution": {
     "iopub.execute_input": "2021-10-11T05:30:12.002235Z",
     "iopub.status.busy": "2021-10-11T05:30:12.000071Z",
     "iopub.status.idle": "2021-10-11T05:30:12.023038Z",
     "shell.execute_reply": "2021-10-11T05:30:12.024256Z"
    },
    "papermill": {
     "duration": 0.069432,
     "end_time": "2021-10-11T05:30:12.024653",
     "exception": false,
     "start_time": "2021-10-11T05:30:11.955221",
     "status": "completed"
    },
    "tags": []
   },
   "outputs": [
    {
     "data": {
      "text/html": [
       "<div>\n",
       "<style scoped>\n",
       "    .dataframe tbody tr th:only-of-type {\n",
       "        vertical-align: middle;\n",
       "    }\n",
       "\n",
       "    .dataframe tbody tr th {\n",
       "        vertical-align: top;\n",
       "    }\n",
       "\n",
       "    .dataframe thead th {\n",
       "        text-align: right;\n",
       "    }\n",
       "</style>\n",
       "<table border=\"1\" class=\"dataframe\">\n",
       "  <thead>\n",
       "    <tr style=\"text-align: right;\">\n",
       "      <th></th>\n",
       "      <th>RECORD_TIME</th>\n",
       "    </tr>\n",
       "  </thead>\n",
       "  <tbody>\n",
       "    <tr>\n",
       "      <th>0</th>\n",
       "      <td>2021-10-11 07:30</td>\n",
       "    </tr>\n",
       "    <tr>\n",
       "      <th>1</th>\n",
       "      <td>2021-10-11 07:00</td>\n",
       "    </tr>\n",
       "  </tbody>\n",
       "</table>\n",
       "</div>"
      ],
      "text/plain": [
       "        RECORD_TIME\n",
       "0  2021-10-11 07:30\n",
       "1  2021-10-11 07:00"
      ]
     },
     "execution_count": 3,
     "metadata": {},
     "output_type": "execute_result"
    }
   ],
   "source": [
    "timestamps"
   ]
  },
  {
   "cell_type": "code",
   "execution_count": 4,
   "id": "alternate-victory",
   "metadata": {
    "execution": {
     "iopub.execute_input": "2021-10-11T05:30:12.078863Z",
     "iopub.status.busy": "2021-10-11T05:30:12.076451Z",
     "iopub.status.idle": "2021-10-11T05:30:12.851564Z",
     "shell.execute_reply": "2021-10-11T05:30:12.852924Z"
    },
    "papermill": {
     "duration": 0.805977,
     "end_time": "2021-10-11T05:30:12.853361",
     "exception": false,
     "start_time": "2021-10-11T05:30:12.047384",
     "status": "completed"
    },
    "tags": []
   },
   "outputs": [],
   "source": [
    "df = pd.read_sql(\"select * from EBAY_TOP_BERLIN where record_time in (select distinct record_time from EBAY_TOP_BERLIN order by record_time desc limit 2)\", sqlite3.connect(\"UsedObjects.db\"))"
   ]
  },
  {
   "cell_type": "code",
   "execution_count": 5,
   "id": "popular-active",
   "metadata": {
    "execution": {
     "iopub.execute_input": "2021-10-11T05:30:12.946133Z",
     "iopub.status.busy": "2021-10-11T05:30:12.925327Z",
     "iopub.status.idle": "2021-10-11T05:30:12.990139Z",
     "shell.execute_reply": "2021-10-11T05:30:12.991418Z"
    },
    "papermill": {
     "duration": 0.117382,
     "end_time": "2021-10-11T05:30:12.991840",
     "exception": false,
     "start_time": "2021-10-11T05:30:12.874458",
     "status": "completed"
    },
    "tags": []
   },
   "outputs": [],
   "source": [
    "df_pivot = df.pivot_table(index=\"PRODUCT\", columns = \"RECORD_TIME\", values = \"LISTING_COUNT\")"
   ]
  },
  {
   "cell_type": "code",
   "execution_count": 6,
   "id": "union-huntington",
   "metadata": {
    "execution": {
     "iopub.execute_input": "2021-10-11T05:30:13.050588Z",
     "iopub.status.busy": "2021-10-11T05:30:13.048319Z",
     "iopub.status.idle": "2021-10-11T05:30:13.053564Z",
     "shell.execute_reply": "2021-10-11T05:30:13.054871Z"
    },
    "papermill": {
     "duration": 0.040912,
     "end_time": "2021-10-11T05:30:13.055331",
     "exception": false,
     "start_time": "2021-10-11T05:30:13.014419",
     "status": "completed"
    },
    "tags": []
   },
   "outputs": [],
   "source": [
    "df_pivot.columns = [\"stamp_1\", \"stamp_2\"]\n",
    "df_pivot_diff = df_pivot.diff(axis=1)"
   ]
  },
  {
   "cell_type": "code",
   "execution_count": 7,
   "id": "fifth-motion",
   "metadata": {
    "execution": {
     "iopub.execute_input": "2021-10-11T05:30:13.109613Z",
     "iopub.status.busy": "2021-10-11T05:30:13.107528Z",
     "iopub.status.idle": "2021-10-11T05:30:15.092230Z",
     "shell.execute_reply": "2021-10-11T05:30:15.093771Z"
    },
    "papermill": {
     "duration": 2.018378,
     "end_time": "2021-10-11T05:30:15.094240",
     "exception": false,
     "start_time": "2021-10-11T05:30:13.075862",
     "status": "completed"
    },
    "tags": []
   },
   "outputs": [
    {
     "data": {
      "text/plain": [
       "<AxesSubplot:ylabel='PRODUCT'>"
      ]
     },
     "execution_count": 7,
     "metadata": {},
     "output_type": "execute_result"
    },
    {
     "data": {
      "image/png": "[encoded data removed]",
      "text/plain": [
       "<Figure size 432x288 with 1 Axes>"
      ]
     },
     "metadata": {
      "needs_background": "light"
     },
     "output_type": "display_data"
    }
   ],
   "source": [
    "df_pivot_diff.sort_values(\"stamp_2\", ascending = False)[\"stamp_2\"].head(10).plot.barh()"
   ]
  },
  {
   "cell_type": "code",
   "execution_count": null,
   "id": "extra-executive",
   "metadata": {
    "papermill": {
     "duration": 0.025908,
     "end_time": "2021-10-11T05:30:15.153711",
     "exception": false,
     "start_time": "2021-10-11T05:30:15.127803",
     "status": "completed"
    },
    "tags": []
   },
   "outputs": [],
   "source": []
  }
 ],
 "metadata": {
  "kernelspec": {
   "display_name": "Python 3",
   "language": "python",
   "name": "python3"
  },
  "language_info": {
   "codemirror_mode": {
    "name": "ipython",
    "version": 3
   },
   "file_extension": ".py",
   "mimetype": "text/x-python",
   "name": "python",
   "nbconvert_exporter": "python",
   "pygments_lexer": "ipython3",
   "version": "3.9.5"
  },
  "papermill": {
   "default_parameters": {},
   "duration": 10.293735,
   "end_time": "2021-10-11T05:30:16.481161",
   "environment_variables": {},
   "exception": null,
   "input_path": "eBay_Overview.ipynb",
   "output_path": "eBay_Overview.ipynb",
   "parameters": {},
   "start_time": "2021-10-11T05:30:06.187426",
   "version": "2.3.3"
  }
 },
 "nbformat": 4,
 "nbformat_minor": 5
}