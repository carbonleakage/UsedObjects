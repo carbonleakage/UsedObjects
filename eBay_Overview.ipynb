{
 "cells": [
  {
   "cell_type": "code",
   "execution_count": 1,
   "id": "reverse-picking",
   "metadata": {
    "execution": {
     "iopub.execute_input": "2021-10-25T14:00:07.357303Z",
     "iopub.status.busy": "2021-10-25T14:00:07.355246Z",
     "iopub.status.idle": "2021-10-25T14:00:08.161645Z",
     "shell.execute_reply": "2021-10-25T14:00:08.162905Z"
    },
    "papermill": {
     "duration": 0.856858,
     "end_time": "2021-10-25T14:00:08.163522",
     "exception": false,
     "start_time": "2021-10-25T14:00:07.306664",
     "status": "completed"
    },
    "tags": []
   },
   "outputs": [],
   "source": [
    "import pandas as pd\n",
    "import sqlite3"
   ]
  },
  {
   "cell_type": "code",
   "execution_count": 2,
   "id": "innovative-syndrome",
   "metadata": {
    "execution": {
     "iopub.execute_input": "2021-10-25T14:00:08.216046Z",
     "iopub.status.busy": "2021-10-25T14:00:08.213860Z",
     "iopub.status.idle": "2021-10-25T14:00:08.844874Z",
     "shell.execute_reply": "2021-10-25T14:00:08.846113Z"
    },
    "papermill": {
     "duration": 0.660606,
     "end_time": "2021-10-25T14:00:08.846503",
     "exception": false,
     "start_time": "2021-10-25T14:00:08.185897",
     "status": "completed"
    },
    "tags": []
   },
   "outputs": [],
   "source": [
    "timestamps = pd.read_sql(\"select distinct record_time from EBAY_TOP_BERLIN order by record_time desc limit 2\", sqlite3.connect(\"UsedObjects.db\"))"
   ]
  },
  {
   "cell_type": "code",
   "execution_count": 3,
   "id": "periodic-identification",
   "metadata": {
    "execution": {
     "iopub.execute_input": "2021-10-25T14:00:08.921927Z",
     "iopub.status.busy": "2021-10-25T14:00:08.919865Z",
     "iopub.status.idle": "2021-10-25T14:00:08.942255Z",
     "shell.execute_reply": "2021-10-25T14:00:08.943731Z"
    },
    "papermill": {
     "duration": 0.069834,
     "end_time": "2021-10-25T14:00:08.944203",
     "exception": false,
     "start_time": "2021-10-25T14:00:08.874369",
     "status": "completed"
    },
    "tags": []
   },
   "outputs": [
    {
     "data": {
      "text/html": [
       "<div>\n",
       "<style scoped>\n",
       "    .dataframe tbody tr th:only-of-type {\n",
       "        vertical-align: middle;\n",
       "    }\n",
       "\n",
       "    .dataframe tbody tr th {\n",
       "        vertical-align: top;\n",
       "    }\n",
       "\n",
       "    .dataframe thead th {\n",
       "        text-align: right;\n",
       "    }\n",
       "</style>\n",
       "<table border=\"1\" class=\"dataframe\">\n",
       "  <thead>\n",
       "    <tr style=\"text-align: right;\">\n",
       "      <th></th>\n",
       "      <th>RECORD_TIME</th>\n",
       "    </tr>\n",
       "  </thead>\n",
       "  <tbody>\n",
       "    <tr>\n",
       "      <th>0</th>\n",
       "      <td>2021-10-25 16:00</td>\n",
       "    </tr>\n",
       "    <tr>\n",
       "      <th>1</th>\n",
       "      <td>2021-10-25 15:30</td>\n",
       "    </tr>\n",
       "  </tbody>\n",
       "</table>\n",
       "</div>"
      ],
      "text/plain": [
       "        RECORD_TIME\n",
       "0  2021-10-25 16:00\n",
       "1  2021-10-25 15:30"
      ]
     },
     "execution_count": 3,
     "metadata": {},
     "output_type": "execute_result"
    }
   ],
   "source": [
    "timestamps"
   ]
  },
  {
   "cell_type": "code",
   "execution_count": 4,
   "id": "alternate-victory",
   "metadata": {
    "execution": {
     "iopub.execute_input": "2021-10-25T14:00:08.995774Z",
     "iopub.status.busy": "2021-10-25T14:00:08.993833Z",
     "iopub.status.idle": "2021-10-25T14:00:09.923782Z",
     "shell.execute_reply": "2021-10-25T14:00:09.925285Z"
    },
    "papermill": {
     "duration": 0.960437,
     "end_time": "2021-10-25T14:00:09.925722",
     "exception": false,
     "start_time": "2021-10-25T14:00:08.965285",
     "status": "completed"
    },
    "tags": []
   },
   "outputs": [],
   "source": [
    "df = pd.read_sql(\"select * from EBAY_TOP_BERLIN where record_time in (select distinct record_time from EBAY_TOP_BERLIN order by record_time desc limit 2)\", sqlite3.connect(\"UsedObjects.db\"))"
   ]
  },
  {
   "cell_type": "code",
   "execution_count": 5,
   "id": "popular-active",
   "metadata": {
    "execution": {
     "iopub.execute_input": "2021-10-25T14:00:09.996513Z",
     "iopub.status.busy": "2021-10-25T14:00:09.985693Z",
     "iopub.status.idle": "2021-10-25T14:00:10.014712Z",
     "shell.execute_reply": "2021-10-25T14:00:10.016071Z"
    },
    "papermill": {
     "duration": 0.070269,
     "end_time": "2021-10-25T14:00:10.016501",
     "exception": false,
     "start_time": "2021-10-25T14:00:09.946232",
     "status": "completed"
    },
    "tags": []
   },
   "outputs": [],
   "source": [
    "df_pivot = df.pivot_table(index=\"PRODUCT\", columns = \"RECORD_TIME\", values = \"LISTING_COUNT\")"
   ]
  },
  {
   "cell_type": "code",
   "execution_count": 6,
   "id": "union-huntington",
   "metadata": {
    "execution": {
     "iopub.execute_input": "2021-10-25T14:00:10.075879Z",
     "iopub.status.busy": "2021-10-25T14:00:10.073418Z",
     "iopub.status.idle": "2021-10-25T14:00:10.080475Z",
     "shell.execute_reply": "2021-10-25T14:00:10.079099Z"
    },
    "papermill": {
     "duration": 0.04182,
     "end_time": "2021-10-25T14:00:10.080882",
     "exception": false,
     "start_time": "2021-10-25T14:00:10.039062",
     "status": "completed"
    },
    "tags": []
   },
   "outputs": [],
   "source": [
    "df_pivot.columns = [\"stamp_1\", \"stamp_2\"]\n",
    "df_pivot_diff = df_pivot.diff(axis=1)"
   ]
  },
  {
   "cell_type": "code",
   "execution_count": 7,
   "id": "fifth-motion",
   "metadata": {
    "execution": {
     "iopub.execute_input": "2021-10-25T14:00:10.134465Z",
     "iopub.status.busy": "2021-10-25T14:00:10.131991Z",
     "iopub.status.idle": "2021-10-25T14:00:11.611960Z",
     "shell.execute_reply": "2021-10-25T14:00:11.613209Z"
    },
    "papermill": {
     "duration": 1.51239,
     "end_time": "2021-10-25T14:00:11.613638",
     "exception": false,
     "start_time": "2021-10-25T14:00:10.101248",
     "status": "completed"
    },
    "tags": []
   },
   "outputs": [
    {
     "data": {
      "text/plain": [
       "<AxesSubplot:ylabel='PRODUCT'>"
      ]
     },
     "execution_count": 7,
     "metadata": {},
     "output_type": "execute_result"
    },
    {
     "data": {
      "image/png": "[encoded data removed]",
      "text/plain": [
       "<Figure size 432x288 with 1 Axes>"
      ]
     },
     "metadata": {
      "needs_background": "light"
     },
     "output_type": "display_data"
    }
   ],
   "source": [
    "df_pivot_diff.sort_values(\"stamp_2\", ascending = False)[\"stamp_2\"].head(10).plot.barh()"
   ]
  },
  {
   "cell_type": "code",
   "execution_count": null,
   "id": "extra-executive",
   "metadata": {
    "papermill": {
     "duration": 0.021901,
     "end_time": "2021-10-25T14:00:11.660439",
     "exception": false,
     "start_time": "2021-10-25T14:00:11.638538",
     "status": "completed"
    },
    "tags": []
   },
   "outputs": [],
   "source": []
  }
 ],
 "metadata": {
  "kernelspec": {
   "display_name": "Python 3",
   "language": "python",
   "name": "python3"
  },
  "language_info": {
   "codemirror_mode": {
    "name": "ipython",
    "version": 3
   },
   "file_extension": ".py",
   "mimetype": "text/x-python",
   "name": "python",
   "nbconvert_exporter": "python",
   "pygments_lexer": "ipython3",
   "version": "3.9.5"
  },
  "papermill": {
   "default_parameters": {},
   "duration": 7.407644,
   "end_time": "2021-10-25T14:00:12.303236",
   "environment_variables": {},
   "exception": null,
   "input_path": "eBay_Overview.ipynb",
   "output_path": "eBay_Overview.ipynb",
   "parameters": {},
   "start_time": "2021-10-25T14:00:04.895592",
   "version": "2.3.3"
  }
 },
 "nbformat": 4,
 "nbformat_minor": 5
}