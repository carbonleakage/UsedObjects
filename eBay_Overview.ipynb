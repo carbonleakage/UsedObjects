{
 "cells": [
  {
   "cell_type": "code",
   "execution_count": 1,
   "id": "reverse-picking",
   "metadata": {
    "execution": {
     "iopub.execute_input": "2021-09-22T03:30:07.126296Z",
     "iopub.status.busy": "2021-09-22T03:30:07.124333Z",
     "iopub.status.idle": "2021-09-22T03:30:07.927470Z",
     "shell.execute_reply": "2021-09-22T03:30:07.928739Z"
    },
    "papermill": {
     "duration": 0.853347,
     "end_time": "2021-09-22T03:30:07.929353",
     "exception": false,
     "start_time": "2021-09-22T03:30:07.076006",
     "status": "completed"
    },
    "tags": []
   },
   "outputs": [],
   "source": [
    "import pandas as pd\n",
    "import sqlite3"
   ]
  },
  {
   "cell_type": "code",
   "execution_count": 2,
   "id": "innovative-syndrome",
   "metadata": {
    "execution": {
     "iopub.execute_input": "2021-09-22T03:30:07.980206Z",
     "iopub.status.busy": "2021-09-22T03:30:07.978227Z",
     "iopub.status.idle": "2021-09-22T03:30:08.332346Z",
     "shell.execute_reply": "2021-09-22T03:30:08.333463Z"
    },
    "papermill": {
     "duration": 0.383662,
     "end_time": "2021-09-22T03:30:08.333865",
     "exception": false,
     "start_time": "2021-09-22T03:30:07.950203",
     "status": "completed"
    },
    "tags": []
   },
   "outputs": [],
   "source": [
    "timestamps = pd.read_sql(\"select distinct record_time from EBAY_TOP_BERLIN order by record_time desc limit 2\", sqlite3.connect(\"UsedObjects.db\"))"
   ]
  },
  {
   "cell_type": "code",
   "execution_count": 3,
   "id": "periodic-identification",
   "metadata": {
    "execution": {
     "iopub.execute_input": "2021-09-22T03:30:08.399154Z",
     "iopub.status.busy": "2021-09-22T03:30:08.397059Z",
     "iopub.status.idle": "2021-09-22T03:30:08.417193Z",
     "shell.execute_reply": "2021-09-22T03:30:08.418471Z"
    },
    "papermill": {
     "duration": 0.063753,
     "end_time": "2021-09-22T03:30:08.418937",
     "exception": false,
     "start_time": "2021-09-22T03:30:08.355184",
     "status": "completed"
    },
    "tags": []
   },
   "outputs": [
    {
     "data": {
      "text/html": [
       "<div>\n",
       "<style scoped>\n",
       "    .dataframe tbody tr th:only-of-type {\n",
       "        vertical-align: middle;\n",
       "    }\n",
       "\n",
       "    .dataframe tbody tr th {\n",
       "        vertical-align: top;\n",
       "    }\n",
       "\n",
       "    .dataframe thead th {\n",
       "        text-align: right;\n",
       "    }\n",
       "</style>\n",
       "<table border=\"1\" class=\"dataframe\">\n",
       "  <thead>\n",
       "    <tr style=\"text-align: right;\">\n",
       "      <th></th>\n",
       "      <th>RECORD_TIME</th>\n",
       "    </tr>\n",
       "  </thead>\n",
       "  <tbody>\n",
       "    <tr>\n",
       "      <th>0</th>\n",
       "      <td>2021-09-22 05:30</td>\n",
       "    </tr>\n",
       "    <tr>\n",
       "      <th>1</th>\n",
       "      <td>2021-09-22 05:00</td>\n",
       "    </tr>\n",
       "  </tbody>\n",
       "</table>\n",
       "</div>"
      ],
      "text/plain": [
       "        RECORD_TIME\n",
       "0  2021-09-22 05:30\n",
       "1  2021-09-22 05:00"
      ]
     },
     "execution_count": 3,
     "metadata": {},
     "output_type": "execute_result"
    }
   ],
   "source": [
    "timestamps"
   ]
  },
  {
   "cell_type": "code",
   "execution_count": 4,
   "id": "alternate-victory",
   "metadata": {
    "execution": {
     "iopub.execute_input": "2021-09-22T03:30:08.470639Z",
     "iopub.status.busy": "2021-09-22T03:30:08.468777Z",
     "iopub.status.idle": "2021-09-22T03:30:08.978533Z",
     "shell.execute_reply": "2021-09-22T03:30:08.979882Z"
    },
    "papermill": {
     "duration": 0.539947,
     "end_time": "2021-09-22T03:30:08.980304",
     "exception": false,
     "start_time": "2021-09-22T03:30:08.440357",
     "status": "completed"
    },
    "tags": []
   },
   "outputs": [],
   "source": [
    "df = pd.read_sql(\"select * from EBAY_TOP_BERLIN where record_time in (select distinct record_time from EBAY_TOP_BERLIN order by record_time desc limit 2)\", sqlite3.connect(\"UsedObjects.db\"))"
   ]
  },
  {
   "cell_type": "code",
   "execution_count": 5,
   "id": "popular-active",
   "metadata": {
    "execution": {
     "iopub.execute_input": "2021-09-22T03:30:09.052439Z",
     "iopub.status.busy": "2021-09-22T03:30:09.039460Z",
     "iopub.status.idle": "2021-09-22T03:30:09.069492Z",
     "shell.execute_reply": "2021-09-22T03:30:09.070779Z"
    },
    "papermill": {
     "duration": 0.069264,
     "end_time": "2021-09-22T03:30:09.071258",
     "exception": false,
     "start_time": "2021-09-22T03:30:09.001994",
     "status": "completed"
    },
    "tags": []
   },
   "outputs": [],
   "source": [
    "df_pivot = df.pivot_table(index=\"PRODUCT\", columns = \"RECORD_TIME\", values = \"LISTING_COUNT\")"
   ]
  },
  {
   "cell_type": "code",
   "execution_count": 6,
   "id": "union-huntington",
   "metadata": {
    "execution": {
     "iopub.execute_input": "2021-09-22T03:30:09.127504Z",
     "iopub.status.busy": "2021-09-22T03:30:09.125407Z",
     "iopub.status.idle": "2021-09-22T03:30:09.130743Z",
     "shell.execute_reply": "2021-09-22T03:30:09.132113Z"
    },
    "papermill": {
     "duration": 0.041005,
     "end_time": "2021-09-22T03:30:09.132529",
     "exception": false,
     "start_time": "2021-09-22T03:30:09.091524",
     "status": "completed"
    },
    "tags": []
   },
   "outputs": [],
   "source": [
    "df_pivot.columns = [\"stamp_1\", \"stamp_2\"]\n",
    "df_pivot_diff = df_pivot.diff(axis=1)"
   ]
  },
  {
   "cell_type": "code",
   "execution_count": 7,
   "id": "fifth-motion",
   "metadata": {
    "execution": {
     "iopub.execute_input": "2021-09-22T03:30:09.187716Z",
     "iopub.status.busy": "2021-09-22T03:30:09.185107Z",
     "iopub.status.idle": "2021-09-22T03:30:10.698976Z",
     "shell.execute_reply": "2021-09-22T03:30:10.700436Z"
    },
    "papermill": {
     "duration": 1.546895,
     "end_time": "2021-09-22T03:30:10.700876",
     "exception": false,
     "start_time": "2021-09-22T03:30:09.153981",
     "status": "completed"
    },
    "tags": []
   },
   "outputs": [
    {
     "data": {
      "text/plain": [
       "<AxesSubplot:ylabel='PRODUCT'>"
      ]
     },
     "execution_count": 7,
     "metadata": {},
     "output_type": "execute_result"
    },
    {
     "data": {
      "image/png": "[encoded data removed]",
      "text/plain": [
       "<Figure size 432x288 with 1 Axes>"
      ]
     },
     "metadata": {
      "needs_background": "light"
     },
     "output_type": "display_data"
    }
   ],
   "source": [
    "df_pivot_diff.sort_values(\"stamp_2\", ascending = False)[\"stamp_2\"].head(10).plot.barh()"
   ]
  },
  {
   "cell_type": "code",
   "execution_count": null,
   "id": "extra-executive",
   "metadata": {
    "papermill": {
     "duration": 0.022317,
     "end_time": "2021-09-22T03:30:10.748018",
     "exception": false,
     "start_time": "2021-09-22T03:30:10.725701",
     "status": "completed"
    },
    "tags": []
   },
   "outputs": [],
   "source": []
  }
 ],
 "metadata": {
  "kernelspec": {
   "display_name": "Python 3",
   "language": "python",
   "name": "python3"
  },
  "language_info": {
   "codemirror_mode": {
    "name": "ipython",
    "version": 3
   },
   "file_extension": ".py",
   "mimetype": "text/x-python",
   "name": "python",
   "nbconvert_exporter": "python",
   "pygments_lexer": "ipython3",
   "version": "3.9.5"
  },
  "papermill": {
   "default_parameters": {},
   "duration": 6.717809,
   "end_time": "2021-09-22T03:30:11.391340",
   "environment_variables": {},
   "exception": null,
   "input_path": "eBay_Overview.ipynb",
   "output_path": "eBay_Overview.ipynb",
   "parameters": {},
   "start_time": "2021-09-22T03:30:04.673531",
   "version": "2.3.3"
  }
 },
 "nbformat": 4,
 "nbformat_minor": 5
}