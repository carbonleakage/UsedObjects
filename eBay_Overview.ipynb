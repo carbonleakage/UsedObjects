{
 "cells": [
  {
   "cell_type": "code",
   "execution_count": 1,
   "id": "reverse-picking",
   "metadata": {
    "execution": {
     "iopub.execute_input": "2021-12-17T01:00:07.628744Z",
     "iopub.status.busy": "2021-12-17T01:00:07.626434Z",
     "iopub.status.idle": "2021-12-17T01:00:08.595006Z",
     "shell.execute_reply": "2021-12-17T01:00:08.596631Z"
    },
    "papermill": {
     "duration": 1.017405,
     "end_time": "2021-12-17T01:00:08.597430",
     "exception": false,
     "start_time": "2021-12-17T01:00:07.580025",
     "status": "completed"
    },
    "tags": []
   },
   "outputs": [],
   "source": [
    "import pandas as pd\n",
    "import sqlite3"
   ]
  },
  {
   "cell_type": "code",
   "execution_count": 2,
   "id": "innovative-syndrome",
   "metadata": {
    "execution": {
     "iopub.execute_input": "2021-12-17T01:00:08.663901Z",
     "iopub.status.busy": "2021-12-17T01:00:08.661743Z",
     "iopub.status.idle": "2021-12-17T01:00:09.762350Z",
     "shell.execute_reply": "2021-12-17T01:00:09.764230Z"
    },
    "papermill": {
     "duration": 1.134567,
     "end_time": "2021-12-17T01:00:09.764798",
     "exception": false,
     "start_time": "2021-12-17T01:00:08.630231",
     "status": "completed"
    },
    "tags": []
   },
   "outputs": [],
   "source": [
    "timestamps = pd.read_sql(\"select distinct record_time from EBAY_TOP_BERLIN order by record_time desc limit 2\", sqlite3.connect(\"UsedObjects.db\"))"
   ]
  },
  {
   "cell_type": "code",
   "execution_count": 3,
   "id": "periodic-identification",
   "metadata": {
    "execution": {
     "iopub.execute_input": "2021-12-17T01:00:09.856255Z",
     "iopub.status.busy": "2021-12-17T01:00:09.850205Z",
     "iopub.status.idle": "2021-12-17T01:00:09.874475Z",
     "shell.execute_reply": "2021-12-17T01:00:09.872910Z"
    },
    "papermill": {
     "duration": 0.072782,
     "end_time": "2021-12-17T01:00:09.874903",
     "exception": false,
     "start_time": "2021-12-17T01:00:09.802121",
     "status": "completed"
    },
    "tags": []
   },
   "outputs": [
    {
     "data": {
      "text/html": [
       "<div>\n",
       "<style scoped>\n",
       "    .dataframe tbody tr th:only-of-type {\n",
       "        vertical-align: middle;\n",
       "    }\n",
       "\n",
       "    .dataframe tbody tr th {\n",
       "        vertical-align: top;\n",
       "    }\n",
       "\n",
       "    .dataframe thead th {\n",
       "        text-align: right;\n",
       "    }\n",
       "</style>\n",
       "<table border=\"1\" class=\"dataframe\">\n",
       "  <thead>\n",
       "    <tr style=\"text-align: right;\">\n",
       "      <th></th>\n",
       "      <th>RECORD_TIME</th>\n",
       "    </tr>\n",
       "  </thead>\n",
       "  <tbody>\n",
       "    <tr>\n",
       "      <th>0</th>\n",
       "      <td>2021-12-17 02:00</td>\n",
       "    </tr>\n",
       "    <tr>\n",
       "      <th>1</th>\n",
       "      <td>2021-12-17 01:30</td>\n",
       "    </tr>\n",
       "  </tbody>\n",
       "</table>\n",
       "</div>"
      ],
      "text/plain": [
       "        RECORD_TIME\n",
       "0  2021-12-17 02:00\n",
       "1  2021-12-17 01:30"
      ]
     },
     "execution_count": 3,
     "metadata": {},
     "output_type": "execute_result"
    }
   ],
   "source": [
    "timestamps"
   ]
  },
  {
   "cell_type": "code",
   "execution_count": 4,
   "id": "alternate-victory",
   "metadata": {
    "execution": {
     "iopub.execute_input": "2021-12-17T01:00:09.930534Z",
     "iopub.status.busy": "2021-12-17T01:00:09.928118Z",
     "iopub.status.idle": "2021-12-17T01:00:11.521830Z",
     "shell.execute_reply": "2021-12-17T01:00:11.523362Z"
    },
    "papermill": {
     "duration": 1.628157,
     "end_time": "2021-12-17T01:00:11.523899",
     "exception": false,
     "start_time": "2021-12-17T01:00:09.895742",
     "status": "completed"
    },
    "tags": []
   },
   "outputs": [],
   "source": [
    "df = pd.read_sql(\"select * from EBAY_TOP_BERLIN where record_time in (select distinct record_time from EBAY_TOP_BERLIN order by record_time desc limit 2)\", sqlite3.connect(\"UsedObjects.db\"))"
   ]
  },
  {
   "cell_type": "code",
   "execution_count": 5,
   "id": "popular-active",
   "metadata": {
    "execution": {
     "iopub.execute_input": "2021-12-17T01:00:11.600894Z",
     "iopub.status.busy": "2021-12-17T01:00:11.587488Z",
     "iopub.status.idle": "2021-12-17T01:00:11.618421Z",
     "shell.execute_reply": "2021-12-17T01:00:11.619786Z"
    },
    "papermill": {
     "duration": 0.074989,
     "end_time": "2021-12-17T01:00:11.620247",
     "exception": false,
     "start_time": "2021-12-17T01:00:11.545258",
     "status": "completed"
    },
    "tags": []
   },
   "outputs": [],
   "source": [
    "df_pivot = df.pivot_table(index=\"PRODUCT\", columns = \"RECORD_TIME\", values = \"LISTING_COUNT\")"
   ]
  },
  {
   "cell_type": "code",
   "execution_count": 6,
   "id": "union-huntington",
   "metadata": {
    "execution": {
     "iopub.execute_input": "2021-12-17T01:00:11.678147Z",
     "iopub.status.busy": "2021-12-17T01:00:11.675874Z",
     "iopub.status.idle": "2021-12-17T01:00:11.682625Z",
     "shell.execute_reply": "2021-12-17T01:00:11.681161Z"
    },
    "papermill": {
     "duration": 0.043062,
     "end_time": "2021-12-17T01:00:11.683032",
     "exception": false,
     "start_time": "2021-12-17T01:00:11.639970",
     "status": "completed"
    },
    "tags": []
   },
   "outputs": [],
   "source": [
    "df_pivot.columns = [\"stamp_1\", \"stamp_2\"]\n",
    "df_pivot_diff = df_pivot.diff(axis=1)"
   ]
  },
  {
   "cell_type": "code",
   "execution_count": 7,
   "id": "fifth-motion",
   "metadata": {
    "execution": {
     "iopub.execute_input": "2021-12-17T01:00:11.742271Z",
     "iopub.status.busy": "2021-12-17T01:00:11.739416Z",
     "iopub.status.idle": "2021-12-17T01:00:13.703885Z",
     "shell.execute_reply": "2021-12-17T01:00:13.705536Z"
    },
    "papermill": {
     "duration": 2.002124,
     "end_time": "2021-12-17T01:00:13.706002",
     "exception": false,
     "start_time": "2021-12-17T01:00:11.703878",
     "status": "completed"
    },
    "tags": []
   },
   "outputs": [
    {
     "data": {
      "text/plain": [
       "<AxesSubplot:ylabel='PRODUCT'>"
      ]
     },
     "execution_count": 7,
     "metadata": {},
     "output_type": "execute_result"
    },
    {
     "data": {
      "image/png": "[encoded data removed]",
      "text/plain": [
       "<Figure size 432x288 with 1 Axes>"
      ]
     },
     "metadata": {
      "needs_background": "light"
     },
     "output_type": "display_data"
    }
   ],
   "source": [
    "df_pivot_diff.sort_values(\"stamp_2\", ascending = False)[\"stamp_2\"].head(10).plot.barh()"
   ]
  },
  {
   "cell_type": "code",
   "execution_count": null,
   "id": "extra-executive",
   "metadata": {
    "papermill": {
     "duration": 0.030985,
     "end_time": "2021-12-17T01:00:13.761534",
     "exception": false,
     "start_time": "2021-12-17T01:00:13.730549",
     "status": "completed"
    },
    "tags": []
   },
   "outputs": [],
   "source": []
  }
 ],
 "metadata": {
  "kernelspec": {
   "display_name": "Python 3",
   "language": "python",
   "name": "python3"
  },
  "language_info": {
   "codemirror_mode": {
    "name": "ipython",
    "version": 3
   },
   "file_extension": ".py",
   "mimetype": "text/x-python",
   "name": "python",
   "nbconvert_exporter": "python",
   "pygments_lexer": "ipython3",
   "version": "3.9.5"
  },
  "papermill": {
   "default_parameters": {},
   "duration": 9.56818,
   "end_time": "2021-12-17T01:00:14.410358",
   "environment_variables": {},
   "exception": null,
   "input_path": "eBay_Overview.ipynb",
   "output_path": "eBay_Overview.ipynb",
   "parameters": {},
   "start_time": "2021-12-17T01:00:04.842178",
   "version": "2.3.3"
  }
 },
 "nbformat": 4,
 "nbformat_minor": 5
}