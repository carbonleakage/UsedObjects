{
 "cells": [
  {
   "cell_type": "code",
   "execution_count": 1,
   "id": "reverse-picking",
   "metadata": {
    "execution": {
     "iopub.execute_input": "2021-10-09T22:30:06.689929Z",
     "iopub.status.busy": "2021-10-09T22:30:06.687934Z",
     "iopub.status.idle": "2021-10-09T22:30:07.496797Z",
     "shell.execute_reply": "2021-10-09T22:30:07.495195Z"
    },
    "papermill": {
     "duration": 0.857465,
     "end_time": "2021-10-09T22:30:07.497196",
     "exception": false,
     "start_time": "2021-10-09T22:30:06.639731",
     "status": "completed"
    },
    "tags": []
   },
   "outputs": [],
   "source": [
    "import pandas as pd\n",
    "import sqlite3"
   ]
  },
  {
   "cell_type": "code",
   "execution_count": 2,
   "id": "innovative-syndrome",
   "metadata": {
    "execution": {
     "iopub.execute_input": "2021-10-09T22:30:07.551161Z",
     "iopub.status.busy": "2021-10-09T22:30:07.548767Z",
     "iopub.status.idle": "2021-10-09T22:30:08.059699Z",
     "shell.execute_reply": "2021-10-09T22:30:08.060968Z"
    },
    "papermill": {
     "duration": 0.540991,
     "end_time": "2021-10-09T22:30:08.061374",
     "exception": false,
     "start_time": "2021-10-09T22:30:07.520383",
     "status": "completed"
    },
    "tags": []
   },
   "outputs": [],
   "source": [
    "timestamps = pd.read_sql(\"select distinct record_time from EBAY_TOP_BERLIN order by record_time desc limit 2\", sqlite3.connect(\"UsedObjects.db\"))"
   ]
  },
  {
   "cell_type": "code",
   "execution_count": 3,
   "id": "periodic-identification",
   "metadata": {
    "execution": {
     "iopub.execute_input": "2021-10-09T22:30:08.128725Z",
     "iopub.status.busy": "2021-10-09T22:30:08.123457Z",
     "iopub.status.idle": "2021-10-09T22:30:08.145313Z",
     "shell.execute_reply": "2021-10-09T22:30:08.146866Z"
    },
    "papermill": {
     "duration": 0.066719,
     "end_time": "2021-10-09T22:30:08.147371",
     "exception": false,
     "start_time": "2021-10-09T22:30:08.080652",
     "status": "completed"
    },
    "tags": []
   },
   "outputs": [
    {
     "data": {
      "text/html": [
       "<div>\n",
       "<style scoped>\n",
       "    .dataframe tbody tr th:only-of-type {\n",
       "        vertical-align: middle;\n",
       "    }\n",
       "\n",
       "    .dataframe tbody tr th {\n",
       "        vertical-align: top;\n",
       "    }\n",
       "\n",
       "    .dataframe thead th {\n",
       "        text-align: right;\n",
       "    }\n",
       "</style>\n",
       "<table border=\"1\" class=\"dataframe\">\n",
       "  <thead>\n",
       "    <tr style=\"text-align: right;\">\n",
       "      <th></th>\n",
       "      <th>RECORD_TIME</th>\n",
       "    </tr>\n",
       "  </thead>\n",
       "  <tbody>\n",
       "    <tr>\n",
       "      <th>0</th>\n",
       "      <td>2021-10-10 00:30</td>\n",
       "    </tr>\n",
       "    <tr>\n",
       "      <th>1</th>\n",
       "      <td>2021-10-10 00:00</td>\n",
       "    </tr>\n",
       "  </tbody>\n",
       "</table>\n",
       "</div>"
      ],
      "text/plain": [
       "        RECORD_TIME\n",
       "0  2021-10-10 00:30\n",
       "1  2021-10-10 00:00"
      ]
     },
     "execution_count": 3,
     "metadata": {},
     "output_type": "execute_result"
    }
   ],
   "source": [
    "timestamps"
   ]
  },
  {
   "cell_type": "code",
   "execution_count": 4,
   "id": "alternate-victory",
   "metadata": {
    "execution": {
     "iopub.execute_input": "2021-10-09T22:30:08.200037Z",
     "iopub.status.busy": "2021-10-09T22:30:08.197668Z",
     "iopub.status.idle": "2021-10-09T22:30:08.919239Z",
     "shell.execute_reply": "2021-10-09T22:30:08.920405Z"
    },
    "papermill": {
     "duration": 0.751761,
     "end_time": "2021-10-09T22:30:08.920824",
     "exception": false,
     "start_time": "2021-10-09T22:30:08.169063",
     "status": "completed"
    },
    "tags": []
   },
   "outputs": [],
   "source": [
    "df = pd.read_sql(\"select * from EBAY_TOP_BERLIN where record_time in (select distinct record_time from EBAY_TOP_BERLIN order by record_time desc limit 2)\", sqlite3.connect(\"UsedObjects.db\"))"
   ]
  },
  {
   "cell_type": "code",
   "execution_count": 5,
   "id": "popular-active",
   "metadata": {
    "execution": {
     "iopub.execute_input": "2021-10-09T22:30:08.991381Z",
     "iopub.status.busy": "2021-10-09T22:30:08.979038Z",
     "iopub.status.idle": "2021-10-09T22:30:09.007375Z",
     "shell.execute_reply": "2021-10-09T22:30:09.008868Z"
    },
    "papermill": {
     "duration": 0.066946,
     "end_time": "2021-10-09T22:30:09.009319",
     "exception": false,
     "start_time": "2021-10-09T22:30:08.942373",
     "status": "completed"
    },
    "tags": []
   },
   "outputs": [],
   "source": [
    "df_pivot = df.pivot_table(index=\"PRODUCT\", columns = \"RECORD_TIME\", values = \"LISTING_COUNT\")"
   ]
  },
  {
   "cell_type": "code",
   "execution_count": 6,
   "id": "union-huntington",
   "metadata": {
    "execution": {
     "iopub.execute_input": "2021-10-09T22:30:09.066195Z",
     "iopub.status.busy": "2021-10-09T22:30:09.064049Z",
     "iopub.status.idle": "2021-10-09T22:30:09.069468Z",
     "shell.execute_reply": "2021-10-09T22:30:09.070746Z"
    },
    "papermill": {
     "duration": 0.041709,
     "end_time": "2021-10-09T22:30:09.071249",
     "exception": false,
     "start_time": "2021-10-09T22:30:09.029540",
     "status": "completed"
    },
    "tags": []
   },
   "outputs": [],
   "source": [
    "df_pivot.columns = [\"stamp_1\", \"stamp_2\"]\n",
    "df_pivot_diff = df_pivot.diff(axis=1)"
   ]
  },
  {
   "cell_type": "code",
   "execution_count": 7,
   "id": "fifth-motion",
   "metadata": {
    "execution": {
     "iopub.execute_input": "2021-10-09T22:30:09.124945Z",
     "iopub.status.busy": "2021-10-09T22:30:09.122468Z",
     "iopub.status.idle": "2021-10-09T22:30:10.598347Z",
     "shell.execute_reply": "2021-10-09T22:30:10.599725Z"
    },
    "papermill": {
     "duration": 1.508431,
     "end_time": "2021-10-09T22:30:10.600156",
     "exception": false,
     "start_time": "2021-10-09T22:30:09.091725",
     "status": "completed"
    },
    "tags": []
   },
   "outputs": [
    {
     "data": {
      "text/plain": [
       "<AxesSubplot:ylabel='PRODUCT'>"
      ]
     },
     "execution_count": 7,
     "metadata": {},
     "output_type": "execute_result"
    },
    {
     "data": {
      "image/png": "[encoded data removed]",
      "text/plain": [
       "<Figure size 432x288 with 1 Axes>"
      ]
     },
     "metadata": {
      "needs_background": "light"
     },
     "output_type": "display_data"
    }
   ],
   "source": [
    "df_pivot_diff.sort_values(\"stamp_2\", ascending = False)[\"stamp_2\"].head(10).plot.barh()"
   ]
  },
  {
   "cell_type": "code",
   "execution_count": null,
   "id": "extra-executive",
   "metadata": {
    "papermill": {
     "duration": 0.022073,
     "end_time": "2021-10-09T22:30:10.646763",
     "exception": false,
     "start_time": "2021-10-09T22:30:10.624690",
     "status": "completed"
    },
    "tags": []
   },
   "outputs": [],
   "source": []
  }
 ],
 "metadata": {
  "kernelspec": {
   "display_name": "Python 3",
   "language": "python",
   "name": "python3"
  },
  "language_info": {
   "codemirror_mode": {
    "name": "ipython",
    "version": 3
   },
   "file_extension": ".py",
   "mimetype": "text/x-python",
   "name": "python",
   "nbconvert_exporter": "python",
   "pygments_lexer": "ipython3",
   "version": "3.9.5"
  },
  "papermill": {
   "default_parameters": {},
   "duration": 7.829558,
   "end_time": "2021-10-09T22:30:12.057846",
   "environment_variables": {},
   "exception": null,
   "input_path": "eBay_Overview.ipynb",
   "output_path": "eBay_Overview.ipynb",
   "parameters": {},
   "start_time": "2021-10-09T22:30:04.228288",
   "version": "2.3.3"
  }
 },
 "nbformat": 4,
 "nbformat_minor": 5
}