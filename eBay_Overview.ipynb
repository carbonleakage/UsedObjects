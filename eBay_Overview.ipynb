{
 "cells": [
  {
   "cell_type": "code",
   "execution_count": 1,
   "id": "reverse-picking",
   "metadata": {
    "execution": {
     "iopub.execute_input": "2021-11-12T00:30:07.815848Z",
     "iopub.status.busy": "2021-11-12T00:30:07.813640Z",
     "iopub.status.idle": "2021-11-12T00:30:08.767759Z",
     "shell.execute_reply": "2021-11-12T00:30:08.769838Z"
    },
    "papermill": {
     "duration": 1.004751,
     "end_time": "2021-11-12T00:30:08.770577",
     "exception": false,
     "start_time": "2021-11-12T00:30:07.765826",
     "status": "completed"
    },
    "tags": []
   },
   "outputs": [],
   "source": [
    "import pandas as pd\n",
    "import sqlite3"
   ]
  },
  {
   "cell_type": "code",
   "execution_count": 2,
   "id": "innovative-syndrome",
   "metadata": {
    "execution": {
     "iopub.execute_input": "2021-11-12T00:30:08.841012Z",
     "iopub.status.busy": "2021-11-12T00:30:08.838324Z",
     "iopub.status.idle": "2021-11-12T00:30:09.640407Z",
     "shell.execute_reply": "2021-11-12T00:30:09.641859Z"
    },
    "papermill": {
     "duration": 0.837631,
     "end_time": "2021-11-12T00:30:09.642361",
     "exception": false,
     "start_time": "2021-11-12T00:30:08.804730",
     "status": "completed"
    },
    "tags": []
   },
   "outputs": [],
   "source": [
    "timestamps = pd.read_sql(\"select distinct record_time from EBAY_TOP_BERLIN order by record_time desc limit 2\", sqlite3.connect(\"UsedObjects.db\"))"
   ]
  },
  {
   "cell_type": "code",
   "execution_count": 3,
   "id": "periodic-identification",
   "metadata": {
    "execution": {
     "iopub.execute_input": "2021-11-12T00:30:09.717503Z",
     "iopub.status.busy": "2021-11-12T00:30:09.711143Z",
     "iopub.status.idle": "2021-11-12T00:30:09.734736Z",
     "shell.execute_reply": "2021-11-12T00:30:09.736242Z"
    },
    "papermill": {
     "duration": 0.074076,
     "end_time": "2021-11-12T00:30:09.736749",
     "exception": false,
     "start_time": "2021-11-12T00:30:09.662673",
     "status": "completed"
    },
    "tags": []
   },
   "outputs": [
    {
     "data": {
      "text/html": [
       "<div>\n",
       "<style scoped>\n",
       "    .dataframe tbody tr th:only-of-type {\n",
       "        vertical-align: middle;\n",
       "    }\n",
       "\n",
       "    .dataframe tbody tr th {\n",
       "        vertical-align: top;\n",
       "    }\n",
       "\n",
       "    .dataframe thead th {\n",
       "        text-align: right;\n",
       "    }\n",
       "</style>\n",
       "<table border=\"1\" class=\"dataframe\">\n",
       "  <thead>\n",
       "    <tr style=\"text-align: right;\">\n",
       "      <th></th>\n",
       "      <th>RECORD_TIME</th>\n",
       "    </tr>\n",
       "  </thead>\n",
       "  <tbody>\n",
       "    <tr>\n",
       "      <th>0</th>\n",
       "      <td>2021-11-12 01:30</td>\n",
       "    </tr>\n",
       "    <tr>\n",
       "      <th>1</th>\n",
       "      <td>2021-11-12 01:00</td>\n",
       "    </tr>\n",
       "  </tbody>\n",
       "</table>\n",
       "</div>"
      ],
      "text/plain": [
       "        RECORD_TIME\n",
       "0  2021-11-12 01:30\n",
       "1  2021-11-12 01:00"
      ]
     },
     "execution_count": 3,
     "metadata": {},
     "output_type": "execute_result"
    }
   ],
   "source": [
    "timestamps"
   ]
  },
  {
   "cell_type": "code",
   "execution_count": 4,
   "id": "alternate-victory",
   "metadata": {
    "execution": {
     "iopub.execute_input": "2021-11-12T00:30:09.792041Z",
     "iopub.status.busy": "2021-11-12T00:30:09.789960Z",
     "iopub.status.idle": "2021-11-12T00:30:10.954588Z",
     "shell.execute_reply": "2021-11-12T00:30:10.956860Z"
    },
    "papermill": {
     "duration": 1.197886,
     "end_time": "2021-11-12T00:30:10.957338",
     "exception": false,
     "start_time": "2021-11-12T00:30:09.759452",
     "status": "completed"
    },
    "tags": []
   },
   "outputs": [],
   "source": [
    "df = pd.read_sql(\"select * from EBAY_TOP_BERLIN where record_time in (select distinct record_time from EBAY_TOP_BERLIN order by record_time desc limit 2)\", sqlite3.connect(\"UsedObjects.db\"))"
   ]
  },
  {
   "cell_type": "code",
   "execution_count": 5,
   "id": "popular-active",
   "metadata": {
    "execution": {
     "iopub.execute_input": "2021-11-12T00:30:11.037864Z",
     "iopub.status.busy": "2021-11-12T00:30:11.023049Z",
     "iopub.status.idle": "2021-11-12T00:30:11.057349Z",
     "shell.execute_reply": "2021-11-12T00:30:11.058856Z"
    },
    "papermill": {
     "duration": 0.079145,
     "end_time": "2021-11-12T00:30:11.059351",
     "exception": false,
     "start_time": "2021-11-12T00:30:10.980206",
     "status": "completed"
    },
    "tags": []
   },
   "outputs": [],
   "source": [
    "df_pivot = df.pivot_table(index=\"PRODUCT\", columns = \"RECORD_TIME\", values = \"LISTING_COUNT\")"
   ]
  },
  {
   "cell_type": "code",
   "execution_count": 6,
   "id": "union-huntington",
   "metadata": {
    "execution": {
     "iopub.execute_input": "2021-11-12T00:30:11.122421Z",
     "iopub.status.busy": "2021-11-12T00:30:11.120008Z",
     "iopub.status.idle": "2021-11-12T00:30:11.125797Z",
     "shell.execute_reply": "2021-11-12T00:30:11.127824Z"
    },
    "papermill": {
     "duration": 0.047632,
     "end_time": "2021-11-12T00:30:11.128554",
     "exception": false,
     "start_time": "2021-11-12T00:30:11.080922",
     "status": "completed"
    },
    "tags": []
   },
   "outputs": [],
   "source": [
    "df_pivot.columns = [\"stamp_1\", \"stamp_2\"]\n",
    "df_pivot_diff = df_pivot.diff(axis=1)"
   ]
  },
  {
   "cell_type": "code",
   "execution_count": 7,
   "id": "fifth-motion",
   "metadata": {
    "execution": {
     "iopub.execute_input": "2021-11-12T00:30:11.190311Z",
     "iopub.status.busy": "2021-11-12T00:30:11.187059Z",
     "iopub.status.idle": "2021-11-12T00:30:12.935691Z",
     "shell.execute_reply": "2021-11-12T00:30:12.937367Z"
    },
    "papermill": {
     "duration": 1.788091,
     "end_time": "2021-11-12T00:30:12.937863",
     "exception": false,
     "start_time": "2021-11-12T00:30:11.149772",
     "status": "completed"
    },
    "tags": []
   },
   "outputs": [
    {
     "data": {
      "text/plain": [
       "<AxesSubplot:ylabel='PRODUCT'>"
      ]
     },
     "execution_count": 7,
     "metadata": {},
     "output_type": "execute_result"
    },
    {
     "data": {
      "image/png": "[encoded data removed]",
      "text/plain": [
       "<Figure size 432x288 with 1 Axes>"
      ]
     },
     "metadata": {
      "needs_background": "light"
     },
     "output_type": "display_data"
    }
   ],
   "source": [
    "df_pivot_diff.sort_values(\"stamp_2\", ascending = False)[\"stamp_2\"].head(10).plot.barh()"
   ]
  },
  {
   "cell_type": "code",
   "execution_count": null,
   "id": "extra-executive",
   "metadata": {
    "papermill": {
     "duration": 0.024854,
     "end_time": "2021-11-12T00:30:12.988941",
     "exception": false,
     "start_time": "2021-11-12T00:30:12.964087",
     "status": "completed"
    },
    "tags": []
   },
   "outputs": [],
   "source": []
  }
 ],
 "metadata": {
  "kernelspec": {
   "display_name": "Python 3",
   "language": "python",
   "name": "python3"
  },
  "language_info": {
   "codemirror_mode": {
    "name": "ipython",
    "version": 3
   },
   "file_extension": ".py",
   "mimetype": "text/x-python",
   "name": "python",
   "nbconvert_exporter": "python",
   "pygments_lexer": "ipython3",
   "version": "3.9.5"
  },
  "papermill": {
   "default_parameters": {},
   "duration": 8.885539,
   "end_time": "2021-11-12T00:30:13.844035",
   "environment_variables": {},
   "exception": null,
   "input_path": "eBay_Overview.ipynb",
   "output_path": "eBay_Overview.ipynb",
   "parameters": {},
   "start_time": "2021-11-12T00:30:04.958496",
   "version": "2.3.3"
  }
 },
 "nbformat": 4,
 "nbformat_minor": 5
}