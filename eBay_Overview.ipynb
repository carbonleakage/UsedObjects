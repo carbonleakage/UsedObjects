{
 "cells": [
  {
   "cell_type": "code",
   "execution_count": 1,
   "id": "reverse-picking",
   "metadata": {
    "execution": {
     "iopub.execute_input": "2021-09-22T10:00:07.789551Z",
     "iopub.status.busy": "2021-09-22T10:00:07.787556Z",
     "iopub.status.idle": "2021-09-22T10:00:08.589966Z",
     "shell.execute_reply": "2021-09-22T10:00:08.591311Z"
    },
    "papermill": {
     "duration": 0.854196,
     "end_time": "2021-09-22T10:00:08.591953",
     "exception": false,
     "start_time": "2021-09-22T10:00:07.737757",
     "status": "completed"
    },
    "tags": []
   },
   "outputs": [],
   "source": [
    "import pandas as pd\n",
    "import sqlite3"
   ]
  },
  {
   "cell_type": "code",
   "execution_count": 2,
   "id": "innovative-syndrome",
   "metadata": {
    "execution": {
     "iopub.execute_input": "2021-09-22T10:00:08.644852Z",
     "iopub.status.busy": "2021-09-22T10:00:08.642559Z",
     "iopub.status.idle": "2021-09-22T10:00:08.992152Z",
     "shell.execute_reply": "2021-09-22T10:00:08.993512Z"
    },
    "papermill": {
     "duration": 0.379345,
     "end_time": "2021-09-22T10:00:08.993945",
     "exception": false,
     "start_time": "2021-09-22T10:00:08.614600",
     "status": "completed"
    },
    "tags": []
   },
   "outputs": [],
   "source": [
    "timestamps = pd.read_sql(\"select distinct record_time from EBAY_TOP_BERLIN order by record_time desc limit 2\", sqlite3.connect(\"UsedObjects.db\"))"
   ]
  },
  {
   "cell_type": "code",
   "execution_count": 3,
   "id": "periodic-identification",
   "metadata": {
    "execution": {
     "iopub.execute_input": "2021-09-22T10:00:09.061549Z",
     "iopub.status.busy": "2021-09-22T10:00:09.059552Z",
     "iopub.status.idle": "2021-09-22T10:00:09.079309Z",
     "shell.execute_reply": "2021-09-22T10:00:09.080632Z"
    },
    "papermill": {
     "duration": 0.066399,
     "end_time": "2021-09-22T10:00:09.081048",
     "exception": false,
     "start_time": "2021-09-22T10:00:09.014649",
     "status": "completed"
    },
    "tags": []
   },
   "outputs": [
    {
     "data": {
      "text/html": [
       "<div>\n",
       "<style scoped>\n",
       "    .dataframe tbody tr th:only-of-type {\n",
       "        vertical-align: middle;\n",
       "    }\n",
       "\n",
       "    .dataframe tbody tr th {\n",
       "        vertical-align: top;\n",
       "    }\n",
       "\n",
       "    .dataframe thead th {\n",
       "        text-align: right;\n",
       "    }\n",
       "</style>\n",
       "<table border=\"1\" class=\"dataframe\">\n",
       "  <thead>\n",
       "    <tr style=\"text-align: right;\">\n",
       "      <th></th>\n",
       "      <th>RECORD_TIME</th>\n",
       "    </tr>\n",
       "  </thead>\n",
       "  <tbody>\n",
       "    <tr>\n",
       "      <th>0</th>\n",
       "      <td>2021-09-22 12:00</td>\n",
       "    </tr>\n",
       "    <tr>\n",
       "      <th>1</th>\n",
       "      <td>2021-09-22 11:30</td>\n",
       "    </tr>\n",
       "  </tbody>\n",
       "</table>\n",
       "</div>"
      ],
      "text/plain": [
       "        RECORD_TIME\n",
       "0  2021-09-22 12:00\n",
       "1  2021-09-22 11:30"
      ]
     },
     "execution_count": 3,
     "metadata": {},
     "output_type": "execute_result"
    }
   ],
   "source": [
    "timestamps"
   ]
  },
  {
   "cell_type": "code",
   "execution_count": 4,
   "id": "alternate-victory",
   "metadata": {
    "execution": {
     "iopub.execute_input": "2021-09-22T10:00:09.133637Z",
     "iopub.status.busy": "2021-09-22T10:00:09.131351Z",
     "iopub.status.idle": "2021-09-22T10:00:09.644062Z",
     "shell.execute_reply": "2021-09-22T10:00:09.645333Z"
    },
    "papermill": {
     "duration": 0.543228,
     "end_time": "2021-09-22T10:00:09.645731",
     "exception": false,
     "start_time": "2021-09-22T10:00:09.102503",
     "status": "completed"
    },
    "tags": []
   },
   "outputs": [],
   "source": [
    "df = pd.read_sql(\"select * from EBAY_TOP_BERLIN where record_time in (select distinct record_time from EBAY_TOP_BERLIN order by record_time desc limit 2)\", sqlite3.connect(\"UsedObjects.db\"))"
   ]
  },
  {
   "cell_type": "code",
   "execution_count": 5,
   "id": "popular-active",
   "metadata": {
    "execution": {
     "iopub.execute_input": "2021-09-22T10:00:09.725155Z",
     "iopub.status.busy": "2021-09-22T10:00:09.712832Z",
     "iopub.status.idle": "2021-09-22T10:00:09.741331Z",
     "shell.execute_reply": "2021-09-22T10:00:09.742623Z"
    },
    "papermill": {
     "duration": 0.071312,
     "end_time": "2021-09-22T10:00:09.743098",
     "exception": false,
     "start_time": "2021-09-22T10:00:09.671786",
     "status": "completed"
    },
    "tags": []
   },
   "outputs": [],
   "source": [
    "df_pivot = df.pivot_table(index=\"PRODUCT\", columns = \"RECORD_TIME\", values = \"LISTING_COUNT\")"
   ]
  },
  {
   "cell_type": "code",
   "execution_count": 6,
   "id": "union-huntington",
   "metadata": {
    "execution": {
     "iopub.execute_input": "2021-09-22T10:00:09.799731Z",
     "iopub.status.busy": "2021-09-22T10:00:09.797628Z",
     "iopub.status.idle": "2021-09-22T10:00:09.802868Z",
     "shell.execute_reply": "2021-09-22T10:00:09.804097Z"
    },
    "papermill": {
     "duration": 0.041045,
     "end_time": "2021-09-22T10:00:09.804532",
     "exception": false,
     "start_time": "2021-09-22T10:00:09.763487",
     "status": "completed"
    },
    "tags": []
   },
   "outputs": [],
   "source": [
    "df_pivot.columns = [\"stamp_1\", \"stamp_2\"]\n",
    "df_pivot_diff = df_pivot.diff(axis=1)"
   ]
  },
  {
   "cell_type": "code",
   "execution_count": 7,
   "id": "fifth-motion",
   "metadata": {
    "execution": {
     "iopub.execute_input": "2021-09-22T10:00:09.858761Z",
     "iopub.status.busy": "2021-09-22T10:00:09.856416Z",
     "iopub.status.idle": "2021-09-22T10:00:11.363972Z",
     "shell.execute_reply": "2021-09-22T10:00:11.365271Z"
    },
    "papermill": {
     "duration": 1.54041,
     "end_time": "2021-09-22T10:00:11.365694",
     "exception": false,
     "start_time": "2021-09-22T10:00:09.825284",
     "status": "completed"
    },
    "tags": []
   },
   "outputs": [
    {
     "data": {
      "text/plain": [
       "<AxesSubplot:ylabel='PRODUCT'>"
      ]
     },
     "execution_count": 7,
     "metadata": {},
     "output_type": "execute_result"
    },
    {
     "data": {
      "image/png": "[encoded data removed]",
      "text/plain": [
       "<Figure size 432x288 with 1 Axes>"
      ]
     },
     "metadata": {
      "needs_background": "light"
     },
     "output_type": "display_data"
    }
   ],
   "source": [
    "df_pivot_diff.sort_values(\"stamp_2\", ascending = False)[\"stamp_2\"].head(10).plot.barh()"
   ]
  },
  {
   "cell_type": "code",
   "execution_count": null,
   "id": "extra-executive",
   "metadata": {
    "papermill": {
     "duration": 0.02241,
     "end_time": "2021-09-22T10:00:11.412874",
     "exception": false,
     "start_time": "2021-09-22T10:00:11.390464",
     "status": "completed"
    },
    "tags": []
   },
   "outputs": [],
   "source": []
  }
 ],
 "metadata": {
  "kernelspec": {
   "display_name": "Python 3",
   "language": "python",
   "name": "python3"
  },
  "language_info": {
   "codemirror_mode": {
    "name": "ipython",
    "version": 3
   },
   "file_extension": ".py",
   "mimetype": "text/x-python",
   "name": "python",
   "nbconvert_exporter": "python",
   "pygments_lexer": "ipython3",
   "version": "3.9.5"
  },
  "papermill": {
   "default_parameters": {},
   "duration": 6.719986,
   "end_time": "2021-09-22T10:00:12.055883",
   "environment_variables": {},
   "exception": null,
   "input_path": "eBay_Overview.ipynb",
   "output_path": "eBay_Overview.ipynb",
   "parameters": {},
   "start_time": "2021-09-22T10:00:05.335897",
   "version": "2.3.3"
  }
 },
 "nbformat": 4,
 "nbformat_minor": 5
}