{
 "cells": [
  {
   "cell_type": "code",
   "execution_count": 1,
   "id": "reverse-picking",
   "metadata": {
    "execution": {
     "iopub.execute_input": "2021-10-13T13:00:06.854784Z",
     "iopub.status.busy": "2021-10-13T13:00:06.852862Z",
     "iopub.status.idle": "2021-10-13T13:00:07.648139Z",
     "shell.execute_reply": "2021-10-13T13:00:07.649470Z"
    },
    "papermill": {
     "duration": 0.849273,
     "end_time": "2021-10-13T13:00:07.650105",
     "exception": false,
     "start_time": "2021-10-13T13:00:06.800832",
     "status": "completed"
    },
    "tags": []
   },
   "outputs": [],
   "source": [
    "import pandas as pd\n",
    "import sqlite3"
   ]
  },
  {
   "cell_type": "code",
   "execution_count": 2,
   "id": "innovative-syndrome",
   "metadata": {
    "execution": {
     "iopub.execute_input": "2021-10-13T13:00:07.700963Z",
     "iopub.status.busy": "2021-10-13T13:00:07.699020Z",
     "iopub.status.idle": "2021-10-13T13:00:08.223088Z",
     "shell.execute_reply": "2021-10-13T13:00:08.224863Z"
    },
    "papermill": {
     "duration": 0.554227,
     "end_time": "2021-10-13T13:00:08.225364",
     "exception": false,
     "start_time": "2021-10-13T13:00:07.671137",
     "status": "completed"
    },
    "tags": []
   },
   "outputs": [],
   "source": [
    "timestamps = pd.read_sql(\"select distinct record_time from EBAY_TOP_BERLIN order by record_time desc limit 2\", sqlite3.connect(\"UsedObjects.db\"))"
   ]
  },
  {
   "cell_type": "code",
   "execution_count": 3,
   "id": "periodic-identification",
   "metadata": {
    "execution": {
     "iopub.execute_input": "2021-10-13T13:00:08.293758Z",
     "iopub.status.busy": "2021-10-13T13:00:08.291705Z",
     "iopub.status.idle": "2021-10-13T13:00:08.314664Z",
     "shell.execute_reply": "2021-10-13T13:00:08.316126Z"
    },
    "papermill": {
     "duration": 0.068079,
     "end_time": "2021-10-13T13:00:08.316586",
     "exception": false,
     "start_time": "2021-10-13T13:00:08.248507",
     "status": "completed"
    },
    "tags": []
   },
   "outputs": [
    {
     "data": {
      "text/html": [
       "<div>\n",
       "<style scoped>\n",
       "    .dataframe tbody tr th:only-of-type {\n",
       "        vertical-align: middle;\n",
       "    }\n",
       "\n",
       "    .dataframe tbody tr th {\n",
       "        vertical-align: top;\n",
       "    }\n",
       "\n",
       "    .dataframe thead th {\n",
       "        text-align: right;\n",
       "    }\n",
       "</style>\n",
       "<table border=\"1\" class=\"dataframe\">\n",
       "  <thead>\n",
       "    <tr style=\"text-align: right;\">\n",
       "      <th></th>\n",
       "      <th>RECORD_TIME</th>\n",
       "    </tr>\n",
       "  </thead>\n",
       "  <tbody>\n",
       "    <tr>\n",
       "      <th>0</th>\n",
       "      <td>2021-10-13 15:00</td>\n",
       "    </tr>\n",
       "    <tr>\n",
       "      <th>1</th>\n",
       "      <td>2021-10-13 14:30</td>\n",
       "    </tr>\n",
       "  </tbody>\n",
       "</table>\n",
       "</div>"
      ],
      "text/plain": [
       "        RECORD_TIME\n",
       "0  2021-10-13 15:00\n",
       "1  2021-10-13 14:30"
      ]
     },
     "execution_count": 3,
     "metadata": {},
     "output_type": "execute_result"
    }
   ],
   "source": [
    "timestamps"
   ]
  },
  {
   "cell_type": "code",
   "execution_count": 4,
   "id": "alternate-victory",
   "metadata": {
    "execution": {
     "iopub.execute_input": "2021-10-13T13:00:08.377690Z",
     "iopub.status.busy": "2021-10-13T13:00:08.375750Z",
     "iopub.status.idle": "2021-10-13T13:00:09.453603Z",
     "shell.execute_reply": "2021-10-13T13:00:09.454752Z"
    },
    "papermill": {
     "duration": 1.111967,
     "end_time": "2021-10-13T13:00:09.455160",
     "exception": false,
     "start_time": "2021-10-13T13:00:08.343193",
     "status": "completed"
    },
    "tags": []
   },
   "outputs": [],
   "source": [
    "df = pd.read_sql(\"select * from EBAY_TOP_BERLIN where record_time in (select distinct record_time from EBAY_TOP_BERLIN order by record_time desc limit 2)\", sqlite3.connect(\"UsedObjects.db\"))"
   ]
  },
  {
   "cell_type": "code",
   "execution_count": 5,
   "id": "popular-active",
   "metadata": {
    "execution": {
     "iopub.execute_input": "2021-10-13T13:00:09.529495Z",
     "iopub.status.busy": "2021-10-13T13:00:09.517315Z",
     "iopub.status.idle": "2021-10-13T13:00:09.547027Z",
     "shell.execute_reply": "2021-10-13T13:00:09.545540Z"
    },
    "papermill": {
     "duration": 0.068611,
     "end_time": "2021-10-13T13:00:09.547400",
     "exception": false,
     "start_time": "2021-10-13T13:00:09.478789",
     "status": "completed"
    },
    "tags": []
   },
   "outputs": [],
   "source": [
    "df_pivot = df.pivot_table(index=\"PRODUCT\", columns = \"RECORD_TIME\", values = \"LISTING_COUNT\")"
   ]
  },
  {
   "cell_type": "code",
   "execution_count": 6,
   "id": "union-huntington",
   "metadata": {
    "execution": {
     "iopub.execute_input": "2021-10-13T13:00:09.606544Z",
     "iopub.status.busy": "2021-10-13T13:00:09.604048Z",
     "iopub.status.idle": "2021-10-13T13:00:09.611422Z",
     "shell.execute_reply": "2021-10-13T13:00:09.610040Z"
    },
    "papermill": {
     "duration": 0.042388,
     "end_time": "2021-10-13T13:00:09.611773",
     "exception": false,
     "start_time": "2021-10-13T13:00:09.569385",
     "status": "completed"
    },
    "tags": []
   },
   "outputs": [],
   "source": [
    "df_pivot.columns = [\"stamp_1\", \"stamp_2\"]\n",
    "df_pivot_diff = df_pivot.diff(axis=1)"
   ]
  },
  {
   "cell_type": "code",
   "execution_count": 7,
   "id": "fifth-motion",
   "metadata": {
    "execution": {
     "iopub.execute_input": "2021-10-13T13:00:09.666289Z",
     "iopub.status.busy": "2021-10-13T13:00:09.663838Z",
     "iopub.status.idle": "2021-10-13T13:00:11.148840Z",
     "shell.execute_reply": "2021-10-13T13:00:11.150214Z"
    },
    "papermill": {
     "duration": 1.518057,
     "end_time": "2021-10-13T13:00:11.150658",
     "exception": false,
     "start_time": "2021-10-13T13:00:09.632601",
     "status": "completed"
    },
    "tags": []
   },
   "outputs": [
    {
     "data": {
      "text/plain": [
       "<AxesSubplot:ylabel='PRODUCT'>"
      ]
     },
     "execution_count": 7,
     "metadata": {},
     "output_type": "execute_result"
    },
    {
     "data": {
      "image/png": "[encoded data removed]",
      "text/plain": [
       "<Figure size 432x288 with 1 Axes>"
      ]
     },
     "metadata": {
      "needs_background": "light"
     },
     "output_type": "display_data"
    }
   ],
   "source": [
    "df_pivot_diff.sort_values(\"stamp_2\", ascending = False)[\"stamp_2\"].head(10).plot.barh()"
   ]
  },
  {
   "cell_type": "code",
   "execution_count": null,
   "id": "extra-executive",
   "metadata": {
    "papermill": {
     "duration": 0.022291,
     "end_time": "2021-10-13T13:00:11.197813",
     "exception": false,
     "start_time": "2021-10-13T13:00:11.175522",
     "status": "completed"
    },
    "tags": []
   },
   "outputs": [],
   "source": []
  }
 ],
 "metadata": {
  "kernelspec": {
   "display_name": "Python 3",
   "language": "python",
   "name": "python3"
  },
  "language_info": {
   "codemirror_mode": {
    "name": "ipython",
    "version": 3
   },
   "file_extension": ".py",
   "mimetype": "text/x-python",
   "name": "python",
   "nbconvert_exporter": "python",
   "pygments_lexer": "ipython3",
   "version": "3.9.5"
  },
  "papermill": {
   "default_parameters": {},
   "duration": 7.431329,
   "end_time": "2021-10-13T13:00:11.841283",
   "environment_variables": {},
   "exception": null,
   "input_path": "eBay_Overview.ipynb",
   "output_path": "eBay_Overview.ipynb",
   "parameters": {},
   "start_time": "2021-10-13T13:00:04.409954",
   "version": "2.3.3"
  }
 },
 "nbformat": 4,
 "nbformat_minor": 5
}