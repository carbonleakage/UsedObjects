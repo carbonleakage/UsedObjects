{
 "cells": [
  {
   "cell_type": "code",
   "execution_count": 1,
   "id": "reverse-picking",
   "metadata": {
    "execution": {
     "iopub.execute_input": "2021-10-23T01:30:07.209070Z",
     "iopub.status.busy": "2021-10-23T01:30:07.207060Z",
     "iopub.status.idle": "2021-10-23T01:30:08.011708Z",
     "shell.execute_reply": "2021-10-23T01:30:08.013116Z"
    },
    "papermill": {
     "duration": 0.856764,
     "end_time": "2021-10-23T01:30:08.013786",
     "exception": false,
     "start_time": "2021-10-23T01:30:07.157022",
     "status": "completed"
    },
    "tags": []
   },
   "outputs": [],
   "source": [
    "import pandas as pd\n",
    "import sqlite3"
   ]
  },
  {
   "cell_type": "code",
   "execution_count": 2,
   "id": "innovative-syndrome",
   "metadata": {
    "execution": {
     "iopub.execute_input": "2021-10-23T01:30:08.064472Z",
     "iopub.status.busy": "2021-10-23T01:30:08.062523Z",
     "iopub.status.idle": "2021-10-23T01:30:08.683006Z",
     "shell.execute_reply": "2021-10-23T01:30:08.684281Z"
    },
    "papermill": {
     "duration": 0.65061,
     "end_time": "2021-10-23T01:30:08.684768",
     "exception": false,
     "start_time": "2021-10-23T01:30:08.034158",
     "status": "completed"
    },
    "tags": []
   },
   "outputs": [],
   "source": [
    "timestamps = pd.read_sql(\"select distinct record_time from EBAY_TOP_BERLIN order by record_time desc limit 2\", sqlite3.connect(\"UsedObjects.db\"))"
   ]
  },
  {
   "cell_type": "code",
   "execution_count": 3,
   "id": "periodic-identification",
   "metadata": {
    "execution": {
     "iopub.execute_input": "2021-10-23T01:30:08.763039Z",
     "iopub.status.busy": "2021-10-23T01:30:08.757980Z",
     "iopub.status.idle": "2021-10-23T01:30:08.778112Z",
     "shell.execute_reply": "2021-10-23T01:30:08.779301Z"
    },
    "papermill": {
     "duration": 0.069496,
     "end_time": "2021-10-23T01:30:08.779735",
     "exception": false,
     "start_time": "2021-10-23T01:30:08.710239",
     "status": "completed"
    },
    "tags": []
   },
   "outputs": [
    {
     "data": {
      "text/html": [
       "<div>\n",
       "<style scoped>\n",
       "    .dataframe tbody tr th:only-of-type {\n",
       "        vertical-align: middle;\n",
       "    }\n",
       "\n",
       "    .dataframe tbody tr th {\n",
       "        vertical-align: top;\n",
       "    }\n",
       "\n",
       "    .dataframe thead th {\n",
       "        text-align: right;\n",
       "    }\n",
       "</style>\n",
       "<table border=\"1\" class=\"dataframe\">\n",
       "  <thead>\n",
       "    <tr style=\"text-align: right;\">\n",
       "      <th></th>\n",
       "      <th>RECORD_TIME</th>\n",
       "    </tr>\n",
       "  </thead>\n",
       "  <tbody>\n",
       "    <tr>\n",
       "      <th>0</th>\n",
       "      <td>2021-10-23 03:30</td>\n",
       "    </tr>\n",
       "    <tr>\n",
       "      <th>1</th>\n",
       "      <td>2021-10-23 03:00</td>\n",
       "    </tr>\n",
       "  </tbody>\n",
       "</table>\n",
       "</div>"
      ],
      "text/plain": [
       "        RECORD_TIME\n",
       "0  2021-10-23 03:30\n",
       "1  2021-10-23 03:00"
      ]
     },
     "execution_count": 3,
     "metadata": {},
     "output_type": "execute_result"
    }
   ],
   "source": [
    "timestamps"
   ]
  },
  {
   "cell_type": "code",
   "execution_count": 4,
   "id": "alternate-victory",
   "metadata": {
    "execution": {
     "iopub.execute_input": "2021-10-23T01:30:08.831249Z",
     "iopub.status.busy": "2021-10-23T01:30:08.829408Z",
     "iopub.status.idle": "2021-10-23T01:30:09.747219Z",
     "shell.execute_reply": "2021-10-23T01:30:09.748486Z"
    },
    "papermill": {
     "duration": 0.947883,
     "end_time": "2021-10-23T01:30:09.749002",
     "exception": false,
     "start_time": "2021-10-23T01:30:08.801119",
     "status": "completed"
    },
    "tags": []
   },
   "outputs": [],
   "source": [
    "df = pd.read_sql(\"select * from EBAY_TOP_BERLIN where record_time in (select distinct record_time from EBAY_TOP_BERLIN order by record_time desc limit 2)\", sqlite3.connect(\"UsedObjects.db\"))"
   ]
  },
  {
   "cell_type": "code",
   "execution_count": 5,
   "id": "popular-active",
   "metadata": {
    "execution": {
     "iopub.execute_input": "2021-10-23T01:30:09.820084Z",
     "iopub.status.busy": "2021-10-23T01:30:09.807712Z",
     "iopub.status.idle": "2021-10-23T01:30:09.836522Z",
     "shell.execute_reply": "2021-10-23T01:30:09.838017Z"
    },
    "papermill": {
     "duration": 0.069014,
     "end_time": "2021-10-23T01:30:09.838471",
     "exception": false,
     "start_time": "2021-10-23T01:30:09.769457",
     "status": "completed"
    },
    "tags": []
   },
   "outputs": [],
   "source": [
    "df_pivot = df.pivot_table(index=\"PRODUCT\", columns = \"RECORD_TIME\", values = \"LISTING_COUNT\")"
   ]
  },
  {
   "cell_type": "code",
   "execution_count": 6,
   "id": "union-huntington",
   "metadata": {
    "execution": {
     "iopub.execute_input": "2021-10-23T01:30:09.896386Z",
     "iopub.status.busy": "2021-10-23T01:30:09.893966Z",
     "iopub.status.idle": "2021-10-23T01:30:09.899840Z",
     "shell.execute_reply": "2021-10-23T01:30:09.901260Z"
    },
    "papermill": {
     "duration": 0.042543,
     "end_time": "2021-10-23T01:30:09.901706",
     "exception": false,
     "start_time": "2021-10-23T01:30:09.859163",
     "status": "completed"
    },
    "tags": []
   },
   "outputs": [],
   "source": [
    "df_pivot.columns = [\"stamp_1\", \"stamp_2\"]\n",
    "df_pivot_diff = df_pivot.diff(axis=1)"
   ]
  },
  {
   "cell_type": "code",
   "execution_count": 7,
   "id": "fifth-motion",
   "metadata": {
    "execution": {
     "iopub.execute_input": "2021-10-23T01:30:09.956307Z",
     "iopub.status.busy": "2021-10-23T01:30:09.954164Z",
     "iopub.status.idle": "2021-10-23T01:30:11.433694Z",
     "shell.execute_reply": "2021-10-23T01:30:11.434983Z"
    },
    "papermill": {
     "duration": 1.512135,
     "end_time": "2021-10-23T01:30:11.435400",
     "exception": false,
     "start_time": "2021-10-23T01:30:09.923265",
     "status": "completed"
    },
    "tags": []
   },
   "outputs": [
    {
     "data": {
      "text/plain": [
       "<AxesSubplot:ylabel='PRODUCT'>"
      ]
     },
     "execution_count": 7,
     "metadata": {},
     "output_type": "execute_result"
    },
    {
     "data": {
      "image/png": "[encoded data removed]",
      "text/plain": [
       "<Figure size 432x288 with 1 Axes>"
      ]
     },
     "metadata": {
      "needs_background": "light"
     },
     "output_type": "display_data"
    }
   ],
   "source": [
    "df_pivot_diff.sort_values(\"stamp_2\", ascending = False)[\"stamp_2\"].head(10).plot.barh()"
   ]
  },
  {
   "cell_type": "code",
   "execution_count": null,
   "id": "extra-executive",
   "metadata": {
    "papermill": {
     "duration": 0.02247,
     "end_time": "2021-10-23T01:30:11.482029",
     "exception": false,
     "start_time": "2021-10-23T01:30:11.459559",
     "status": "completed"
    },
    "tags": []
   },
   "outputs": [],
   "source": []
  }
 ],
 "metadata": {
  "kernelspec": {
   "display_name": "Python 3",
   "language": "python",
   "name": "python3"
  },
  "language_info": {
   "codemirror_mode": {
    "name": "ipython",
    "version": 3
   },
   "file_extension": ".py",
   "mimetype": "text/x-python",
   "name": "python",
   "nbconvert_exporter": "python",
   "pygments_lexer": "ipython3",
   "version": "3.9.5"
  },
  "papermill": {
   "default_parameters": {},
   "duration": 7.372593,
   "end_time": "2021-10-23T01:30:12.125414",
   "environment_variables": {},
   "exception": null,
   "input_path": "eBay_Overview.ipynb",
   "output_path": "eBay_Overview.ipynb",
   "parameters": {},
   "start_time": "2021-10-23T01:30:04.752821",
   "version": "2.3.3"
  }
 },
 "nbformat": 4,
 "nbformat_minor": 5
}