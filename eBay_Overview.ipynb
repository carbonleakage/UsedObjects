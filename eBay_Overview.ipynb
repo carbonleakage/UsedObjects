{
 "cells": [
  {
   "cell_type": "code",
   "execution_count": 1,
   "id": "reverse-picking",
   "metadata": {
    "execution": {
     "iopub.execute_input": "2021-08-28T08:00:07.338650Z",
     "iopub.status.busy": "2021-08-28T08:00:07.336702Z",
     "iopub.status.idle": "2021-08-28T08:00:08.141081Z",
     "shell.execute_reply": "2021-08-28T08:00:08.142359Z"
    },
    "papermill": {
     "duration": 0.857181,
     "end_time": "2021-08-28T08:00:08.142986",
     "exception": false,
     "start_time": "2021-08-28T08:00:07.285805",
     "status": "completed"
    },
    "tags": []
   },
   "outputs": [],
   "source": [
    "import pandas as pd\n",
    "import sqlite3"
   ]
  },
  {
   "cell_type": "code",
   "execution_count": 2,
   "id": "innovative-syndrome",
   "metadata": {
    "execution": {
     "iopub.execute_input": "2021-08-28T08:00:08.194025Z",
     "iopub.status.busy": "2021-08-28T08:00:08.192039Z",
     "iopub.status.idle": "2021-08-28T08:00:08.342035Z",
     "shell.execute_reply": "2021-08-28T08:00:08.343413Z"
    },
    "papermill": {
     "duration": 0.17934,
     "end_time": "2021-08-28T08:00:08.343857",
     "exception": false,
     "start_time": "2021-08-28T08:00:08.164517",
     "status": "completed"
    },
    "tags": []
   },
   "outputs": [],
   "source": [
    "timestamps = pd.read_sql(\"select distinct record_time from EBAY_TOP_BERLIN order by record_time desc limit 2\", sqlite3.connect(\"UsedObjects.db\"))"
   ]
  },
  {
   "cell_type": "code",
   "execution_count": 3,
   "id": "periodic-identification",
   "metadata": {
    "execution": {
     "iopub.execute_input": "2021-08-28T08:00:08.410155Z",
     "iopub.status.busy": "2021-08-28T08:00:08.408055Z",
     "iopub.status.idle": "2021-08-28T08:00:08.428192Z",
     "shell.execute_reply": "2021-08-28T08:00:08.429573Z"
    },
    "papermill": {
     "duration": 0.066578,
     "end_time": "2021-08-28T08:00:08.429996",
     "exception": false,
     "start_time": "2021-08-28T08:00:08.363418",
     "status": "completed"
    },
    "tags": []
   },
   "outputs": [
    {
     "data": {
      "text/html": [
       "<div>\n",
       "<style scoped>\n",
       "    .dataframe tbody tr th:only-of-type {\n",
       "        vertical-align: middle;\n",
       "    }\n",
       "\n",
       "    .dataframe tbody tr th {\n",
       "        vertical-align: top;\n",
       "    }\n",
       "\n",
       "    .dataframe thead th {\n",
       "        text-align: right;\n",
       "    }\n",
       "</style>\n",
       "<table border=\"1\" class=\"dataframe\">\n",
       "  <thead>\n",
       "    <tr style=\"text-align: right;\">\n",
       "      <th></th>\n",
       "      <th>RECORD_TIME</th>\n",
       "    </tr>\n",
       "  </thead>\n",
       "  <tbody>\n",
       "    <tr>\n",
       "      <th>0</th>\n",
       "      <td>2021-08-28 10:00</td>\n",
       "    </tr>\n",
       "    <tr>\n",
       "      <th>1</th>\n",
       "      <td>2021-08-28 09:30</td>\n",
       "    </tr>\n",
       "  </tbody>\n",
       "</table>\n",
       "</div>"
      ],
      "text/plain": [
       "        RECORD_TIME\n",
       "0  2021-08-28 10:00\n",
       "1  2021-08-28 09:30"
      ]
     },
     "execution_count": 3,
     "metadata": {},
     "output_type": "execute_result"
    }
   ],
   "source": [
    "timestamps"
   ]
  },
  {
   "cell_type": "code",
   "execution_count": 4,
   "id": "alternate-victory",
   "metadata": {
    "execution": {
     "iopub.execute_input": "2021-08-28T08:00:08.480989Z",
     "iopub.status.busy": "2021-08-28T08:00:08.478978Z",
     "iopub.status.idle": "2021-08-28T08:00:08.713195Z",
     "shell.execute_reply": "2021-08-28T08:00:08.711710Z"
    },
    "papermill": {
     "duration": 0.26265,
     "end_time": "2021-08-28T08:00:08.713559",
     "exception": false,
     "start_time": "2021-08-28T08:00:08.450909",
     "status": "completed"
    },
    "tags": []
   },
   "outputs": [],
   "source": [
    "df = pd.read_sql(\"select * from EBAY_TOP_BERLIN where record_time in (select distinct record_time from EBAY_TOP_BERLIN order by record_time desc limit 2)\", sqlite3.connect(\"UsedObjects.db\"))"
   ]
  },
  {
   "cell_type": "code",
   "execution_count": 5,
   "id": "popular-active",
   "metadata": {
    "execution": {
     "iopub.execute_input": "2021-08-28T08:00:08.778104Z",
     "iopub.status.busy": "2021-08-28T08:00:08.771012Z",
     "iopub.status.idle": "2021-08-28T08:00:08.799089Z",
     "shell.execute_reply": "2021-08-28T08:00:08.800545Z"
    },
    "papermill": {
     "duration": 0.067234,
     "end_time": "2021-08-28T08:00:08.800971",
     "exception": false,
     "start_time": "2021-08-28T08:00:08.733737",
     "status": "completed"
    },
    "tags": []
   },
   "outputs": [],
   "source": [
    "df_pivot = df.pivot_table(index=\"PRODUCT\", columns = \"RECORD_TIME\", values = \"LISTING_COUNT\")"
   ]
  },
  {
   "cell_type": "code",
   "execution_count": 6,
   "id": "union-huntington",
   "metadata": {
    "execution": {
     "iopub.execute_input": "2021-08-28T08:00:08.867230Z",
     "iopub.status.busy": "2021-08-28T08:00:08.864778Z",
     "iopub.status.idle": "2021-08-28T08:00:08.872856Z",
     "shell.execute_reply": "2021-08-28T08:00:08.870782Z"
    },
    "papermill": {
     "duration": 0.045401,
     "end_time": "2021-08-28T08:00:08.873277",
     "exception": false,
     "start_time": "2021-08-28T08:00:08.827876",
     "status": "completed"
    },
    "tags": []
   },
   "outputs": [],
   "source": [
    "df_pivot.columns = [\"stamp_1\", \"stamp_2\"]\n",
    "df_pivot_diff = df_pivot.diff(axis=1)"
   ]
  },
  {
   "cell_type": "code",
   "execution_count": 7,
   "id": "fifth-motion",
   "metadata": {
    "execution": {
     "iopub.execute_input": "2021-08-28T08:00:08.927385Z",
     "iopub.status.busy": "2021-08-28T08:00:08.925081Z",
     "iopub.status.idle": "2021-08-28T08:00:10.415538Z",
     "shell.execute_reply": "2021-08-28T08:00:10.417085Z"
    },
    "papermill": {
     "duration": 1.523686,
     "end_time": "2021-08-28T08:00:10.417528",
     "exception": false,
     "start_time": "2021-08-28T08:00:08.893842",
     "status": "completed"
    },
    "tags": []
   },
   "outputs": [
    {
     "data": {
      "text/plain": [
       "<AxesSubplot:ylabel='PRODUCT'>"
      ]
     },
     "execution_count": 7,
     "metadata": {},
     "output_type": "execute_result"
    },
    {
     "data": {
      "image/png": "[encoded data removed]",
      "text/plain": [
       "<Figure size 432x288 with 1 Axes>"
      ]
     },
     "metadata": {
      "needs_background": "light"
     },
     "output_type": "display_data"
    }
   ],
   "source": [
    "df_pivot_diff.sort_values(\"stamp_2\", ascending = False)[\"stamp_2\"].head(10).plot.barh()"
   ]
  },
  {
   "cell_type": "code",
   "execution_count": null,
   "id": "extra-executive",
   "metadata": {
    "papermill": {
     "duration": 0.021909,
     "end_time": "2021-08-28T08:00:10.464878",
     "exception": false,
     "start_time": "2021-08-28T08:00:10.442969",
     "status": "completed"
    },
    "tags": []
   },
   "outputs": [],
   "source": []
  }
 ],
 "metadata": {
  "kernelspec": {
   "display_name": "Python 3",
   "language": "python",
   "name": "python3"
  },
  "language_info": {
   "codemirror_mode": {
    "name": "ipython",
    "version": 3
   },
   "file_extension": ".py",
   "mimetype": "text/x-python",
   "name": "python",
   "nbconvert_exporter": "python",
   "pygments_lexer": "ipython3",
   "version": "3.9.5"
  },
  "papermill": {
   "default_parameters": {},
   "duration": 6.819302,
   "end_time": "2021-08-28T08:00:11.706552",
   "environment_variables": {},
   "exception": null,
   "input_path": "eBay_Overview.ipynb",
   "output_path": "eBay_Overview.ipynb",
   "parameters": {},
   "start_time": "2021-08-28T08:00:04.887250",
   "version": "2.3.3"
  }
 },
 "nbformat": 4,
 "nbformat_minor": 5
}