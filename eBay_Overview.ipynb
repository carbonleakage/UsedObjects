{
 "cells": [
  {
   "cell_type": "code",
   "execution_count": 1,
   "id": "reverse-picking",
   "metadata": {
    "execution": {
     "iopub.execute_input": "2021-08-25T20:00:07.378068Z",
     "iopub.status.busy": "2021-08-25T20:00:07.376070Z",
     "iopub.status.idle": "2021-08-25T20:00:08.182717Z",
     "shell.execute_reply": "2021-08-25T20:00:08.181136Z"
    },
    "papermill": {
     "duration": 0.858254,
     "end_time": "2021-08-25T20:00:08.183117",
     "exception": false,
     "start_time": "2021-08-25T20:00:07.324863",
     "status": "completed"
    },
    "tags": []
   },
   "outputs": [],
   "source": [
    "import pandas as pd\n",
    "import sqlite3"
   ]
  },
  {
   "cell_type": "code",
   "execution_count": 2,
   "id": "innovative-syndrome",
   "metadata": {
    "execution": {
     "iopub.execute_input": "2021-08-25T20:00:08.233302Z",
     "iopub.status.busy": "2021-08-25T20:00:08.231358Z",
     "iopub.status.idle": "2021-08-25T20:00:08.358132Z",
     "shell.execute_reply": "2021-08-25T20:00:08.359320Z"
    },
    "papermill": {
     "duration": 0.156073,
     "end_time": "2021-08-25T20:00:08.359724",
     "exception": false,
     "start_time": "2021-08-25T20:00:08.203651",
     "status": "completed"
    },
    "tags": []
   },
   "outputs": [],
   "source": [
    "timestamps = pd.read_sql(\"select distinct record_time from EBAY_TOP_BERLIN order by record_time desc limit 2\", sqlite3.connect(\"UsedObjects.db\"))"
   ]
  },
  {
   "cell_type": "code",
   "execution_count": 3,
   "id": "periodic-identification",
   "metadata": {
    "execution": {
     "iopub.execute_input": "2021-08-25T20:00:08.425329Z",
     "iopub.status.busy": "2021-08-25T20:00:08.423246Z",
     "iopub.status.idle": "2021-08-25T20:00:08.443434Z",
     "shell.execute_reply": "2021-08-25T20:00:08.444889Z"
    },
    "papermill": {
     "duration": 0.064565,
     "end_time": "2021-08-25T20:00:08.445311",
     "exception": false,
     "start_time": "2021-08-25T20:00:08.380746",
     "status": "completed"
    },
    "tags": []
   },
   "outputs": [
    {
     "data": {
      "text/html": [
       "<div>\n",
       "<style scoped>\n",
       "    .dataframe tbody tr th:only-of-type {\n",
       "        vertical-align: middle;\n",
       "    }\n",
       "\n",
       "    .dataframe tbody tr th {\n",
       "        vertical-align: top;\n",
       "    }\n",
       "\n",
       "    .dataframe thead th {\n",
       "        text-align: right;\n",
       "    }\n",
       "</style>\n",
       "<table border=\"1\" class=\"dataframe\">\n",
       "  <thead>\n",
       "    <tr style=\"text-align: right;\">\n",
       "      <th></th>\n",
       "      <th>RECORD_TIME</th>\n",
       "    </tr>\n",
       "  </thead>\n",
       "  <tbody>\n",
       "    <tr>\n",
       "      <th>0</th>\n",
       "      <td>2021-08-25 22:00</td>\n",
       "    </tr>\n",
       "    <tr>\n",
       "      <th>1</th>\n",
       "      <td>2021-08-25 21:30</td>\n",
       "    </tr>\n",
       "  </tbody>\n",
       "</table>\n",
       "</div>"
      ],
      "text/plain": [
       "        RECORD_TIME\n",
       "0  2021-08-25 22:00\n",
       "1  2021-08-25 21:30"
      ]
     },
     "execution_count": 3,
     "metadata": {},
     "output_type": "execute_result"
    }
   ],
   "source": [
    "timestamps"
   ]
  },
  {
   "cell_type": "code",
   "execution_count": 4,
   "id": "alternate-victory",
   "metadata": {
    "execution": {
     "iopub.execute_input": "2021-08-25T20:00:08.497279Z",
     "iopub.status.busy": "2021-08-25T20:00:08.494906Z",
     "iopub.status.idle": "2021-08-25T20:00:08.694632Z",
     "shell.execute_reply": "2021-08-25T20:00:08.695834Z"
    },
    "papermill": {
     "duration": 0.230194,
     "end_time": "2021-08-25T20:00:08.696282",
     "exception": false,
     "start_time": "2021-08-25T20:00:08.466088",
     "status": "completed"
    },
    "tags": []
   },
   "outputs": [],
   "source": [
    "df = pd.read_sql(\"select * from EBAY_TOP_BERLIN where record_time in (select distinct record_time from EBAY_TOP_BERLIN order by record_time desc limit 2)\", sqlite3.connect(\"UsedObjects.db\"))"
   ]
  },
  {
   "cell_type": "code",
   "execution_count": 5,
   "id": "popular-active",
   "metadata": {
    "execution": {
     "iopub.execute_input": "2021-08-25T20:00:08.766067Z",
     "iopub.status.busy": "2021-08-25T20:00:08.756383Z",
     "iopub.status.idle": "2021-08-25T20:00:08.782560Z",
     "shell.execute_reply": "2021-08-25T20:00:08.783754Z"
    },
    "papermill": {
     "duration": 0.067601,
     "end_time": "2021-08-25T20:00:08.784150",
     "exception": false,
     "start_time": "2021-08-25T20:00:08.716549",
     "status": "completed"
    },
    "tags": []
   },
   "outputs": [],
   "source": [
    "df_pivot = df.pivot_table(index=\"PRODUCT\", columns = \"RECORD_TIME\", values = \"LISTING_COUNT\")"
   ]
  },
  {
   "cell_type": "code",
   "execution_count": 6,
   "id": "union-huntington",
   "metadata": {
    "execution": {
     "iopub.execute_input": "2021-08-25T20:00:08.857481Z",
     "iopub.status.busy": "2021-08-25T20:00:08.855289Z",
     "iopub.status.idle": "2021-08-25T20:00:08.860908Z",
     "shell.execute_reply": "2021-08-25T20:00:08.862271Z"
    },
    "papermill": {
     "duration": 0.046699,
     "end_time": "2021-08-25T20:00:08.862710",
     "exception": false,
     "start_time": "2021-08-25T20:00:08.816011",
     "status": "completed"
    },
    "tags": []
   },
   "outputs": [],
   "source": [
    "df_pivot.columns = [\"stamp_1\", \"stamp_2\"]\n",
    "df_pivot_diff = df_pivot.diff(axis=1)"
   ]
  },
  {
   "cell_type": "code",
   "execution_count": 7,
   "id": "fifth-motion",
   "metadata": {
    "execution": {
     "iopub.execute_input": "2021-08-25T20:00:08.917906Z",
     "iopub.status.busy": "2021-08-25T20:00:08.915300Z",
     "iopub.status.idle": "2021-08-25T20:00:10.415334Z",
     "shell.execute_reply": "2021-08-25T20:00:10.416694Z"
    },
    "papermill": {
     "duration": 1.53359,
     "end_time": "2021-08-25T20:00:10.417123",
     "exception": false,
     "start_time": "2021-08-25T20:00:08.883533",
     "status": "completed"
    },
    "tags": []
   },
   "outputs": [
    {
     "data": {
      "text/plain": [
       "<AxesSubplot:ylabel='PRODUCT'>"
      ]
     },
     "execution_count": 7,
     "metadata": {},
     "output_type": "execute_result"
    },
    {
     "data": {
      "image/png": "[encoded data removed]",
      "text/plain": [
       "<Figure size 432x288 with 1 Axes>"
      ]
     },
     "metadata": {
      "needs_background": "light"
     },
     "output_type": "display_data"
    }
   ],
   "source": [
    "df_pivot_diff.sort_values(\"stamp_2\", ascending = False)[\"stamp_2\"].head(10).plot.barh()"
   ]
  },
  {
   "cell_type": "code",
   "execution_count": null,
   "id": "extra-executive",
   "metadata": {
    "papermill": {
     "duration": 0.02199,
     "end_time": "2021-08-25T20:00:10.462773",
     "exception": false,
     "start_time": "2021-08-25T20:00:10.440783",
     "status": "completed"
    },
    "tags": []
   },
   "outputs": [],
   "source": []
  }
 ],
 "metadata": {
  "kernelspec": {
   "display_name": "Python 3",
   "language": "python",
   "name": "python3"
  },
  "language_info": {
   "codemirror_mode": {
    "name": "ipython",
    "version": 3
   },
   "file_extension": ".py",
   "mimetype": "text/x-python",
   "name": "python",
   "nbconvert_exporter": "python",
   "pygments_lexer": "ipython3",
   "version": "3.9.5"
  },
  "papermill": {
   "default_parameters": {},
   "duration": 6.825392,
   "end_time": "2021-08-25T20:00:11.739292",
   "environment_variables": {},
   "exception": null,
   "input_path": "eBay_Overview.ipynb",
   "output_path": "eBay_Overview.ipynb",
   "parameters": {},
   "start_time": "2021-08-25T20:00:04.913900",
   "version": "2.3.3"
  }
 },
 "nbformat": 4,
 "nbformat_minor": 5
}