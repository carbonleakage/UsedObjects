{
 "cells": [
  {
   "cell_type": "code",
   "execution_count": 1,
   "id": "reverse-picking",
   "metadata": {
    "execution": {
     "iopub.execute_input": "2021-10-29T17:30:06.870346Z",
     "iopub.status.busy": "2021-10-29T17:30:06.868356Z",
     "iopub.status.idle": "2021-10-29T17:30:07.670485Z",
     "shell.execute_reply": "2021-10-29T17:30:07.671723Z"
    },
    "papermill": {
     "duration": 0.852511,
     "end_time": "2021-10-29T17:30:07.672336",
     "exception": false,
     "start_time": "2021-10-29T17:30:06.819825",
     "status": "completed"
    },
    "tags": []
   },
   "outputs": [],
   "source": [
    "import pandas as pd\n",
    "import sqlite3"
   ]
  },
  {
   "cell_type": "code",
   "execution_count": 2,
   "id": "innovative-syndrome",
   "metadata": {
    "execution": {
     "iopub.execute_input": "2021-10-29T17:30:07.722864Z",
     "iopub.status.busy": "2021-10-29T17:30:07.721011Z",
     "iopub.status.idle": "2021-10-29T17:30:08.370959Z",
     "shell.execute_reply": "2021-10-29T17:30:08.372160Z"
    },
    "papermill": {
     "duration": 0.679289,
     "end_time": "2021-10-29T17:30:08.372556",
     "exception": false,
     "start_time": "2021-10-29T17:30:07.693267",
     "status": "completed"
    },
    "tags": []
   },
   "outputs": [],
   "source": [
    "timestamps = pd.read_sql(\"select distinct record_time from EBAY_TOP_BERLIN order by record_time desc limit 2\", sqlite3.connect(\"UsedObjects.db\"))"
   ]
  },
  {
   "cell_type": "code",
   "execution_count": 3,
   "id": "periodic-identification",
   "metadata": {
    "execution": {
     "iopub.execute_input": "2021-10-29T17:30:08.446265Z",
     "iopub.status.busy": "2021-10-29T17:30:08.444195Z",
     "iopub.status.idle": "2021-10-29T17:30:08.464213Z",
     "shell.execute_reply": "2021-10-29T17:30:08.465729Z"
    },
    "papermill": {
     "duration": 0.06834,
     "end_time": "2021-10-29T17:30:08.466165",
     "exception": false,
     "start_time": "2021-10-29T17:30:08.397825",
     "status": "completed"
    },
    "tags": []
   },
   "outputs": [
    {
     "data": {
      "text/html": [
       "<div>\n",
       "<style scoped>\n",
       "    .dataframe tbody tr th:only-of-type {\n",
       "        vertical-align: middle;\n",
       "    }\n",
       "\n",
       "    .dataframe tbody tr th {\n",
       "        vertical-align: top;\n",
       "    }\n",
       "\n",
       "    .dataframe thead th {\n",
       "        text-align: right;\n",
       "    }\n",
       "</style>\n",
       "<table border=\"1\" class=\"dataframe\">\n",
       "  <thead>\n",
       "    <tr style=\"text-align: right;\">\n",
       "      <th></th>\n",
       "      <th>RECORD_TIME</th>\n",
       "    </tr>\n",
       "  </thead>\n",
       "  <tbody>\n",
       "    <tr>\n",
       "      <th>0</th>\n",
       "      <td>2021-10-29 19:30</td>\n",
       "    </tr>\n",
       "    <tr>\n",
       "      <th>1</th>\n",
       "      <td>2021-10-29 19:00</td>\n",
       "    </tr>\n",
       "  </tbody>\n",
       "</table>\n",
       "</div>"
      ],
      "text/plain": [
       "        RECORD_TIME\n",
       "0  2021-10-29 19:30\n",
       "1  2021-10-29 19:00"
      ]
     },
     "execution_count": 3,
     "metadata": {},
     "output_type": "execute_result"
    }
   ],
   "source": [
    "timestamps"
   ]
  },
  {
   "cell_type": "code",
   "execution_count": 4,
   "id": "alternate-victory",
   "metadata": {
    "execution": {
     "iopub.execute_input": "2021-10-29T17:30:08.519561Z",
     "iopub.status.busy": "2021-10-29T17:30:08.517547Z",
     "iopub.status.idle": "2021-10-29T17:30:09.470629Z",
     "shell.execute_reply": "2021-10-29T17:30:09.471912Z"
    },
    "papermill": {
     "duration": 0.983594,
     "end_time": "2021-10-29T17:30:09.472332",
     "exception": false,
     "start_time": "2021-10-29T17:30:08.488738",
     "status": "completed"
    },
    "tags": []
   },
   "outputs": [],
   "source": [
    "df = pd.read_sql(\"select * from EBAY_TOP_BERLIN where record_time in (select distinct record_time from EBAY_TOP_BERLIN order by record_time desc limit 2)\", sqlite3.connect(\"UsedObjects.db\"))"
   ]
  },
  {
   "cell_type": "code",
   "execution_count": 5,
   "id": "popular-active",
   "metadata": {
    "execution": {
     "iopub.execute_input": "2021-10-29T17:30:09.541675Z",
     "iopub.status.busy": "2021-10-29T17:30:09.530750Z",
     "iopub.status.idle": "2021-10-29T17:30:09.557978Z",
     "shell.execute_reply": "2021-10-29T17:30:09.559189Z"
    },
    "papermill": {
     "duration": 0.066815,
     "end_time": "2021-10-29T17:30:09.559582",
     "exception": false,
     "start_time": "2021-10-29T17:30:09.492767",
     "status": "completed"
    },
    "tags": []
   },
   "outputs": [],
   "source": [
    "df_pivot = df.pivot_table(index=\"PRODUCT\", columns = \"RECORD_TIME\", values = \"LISTING_COUNT\")"
   ]
  },
  {
   "cell_type": "code",
   "execution_count": 6,
   "id": "union-huntington",
   "metadata": {
    "execution": {
     "iopub.execute_input": "2021-10-29T17:30:09.619041Z",
     "iopub.status.busy": "2021-10-29T17:30:09.616557Z",
     "iopub.status.idle": "2021-10-29T17:30:09.622507Z",
     "shell.execute_reply": "2021-10-29T17:30:09.623775Z"
    },
    "papermill": {
     "duration": 0.042137,
     "end_time": "2021-10-29T17:30:09.624188",
     "exception": false,
     "start_time": "2021-10-29T17:30:09.582051",
     "status": "completed"
    },
    "tags": []
   },
   "outputs": [],
   "source": [
    "df_pivot.columns = [\"stamp_1\", \"stamp_2\"]\n",
    "df_pivot_diff = df_pivot.diff(axis=1)"
   ]
  },
  {
   "cell_type": "code",
   "execution_count": 7,
   "id": "fifth-motion",
   "metadata": {
    "execution": {
     "iopub.execute_input": "2021-10-29T17:30:09.678400Z",
     "iopub.status.busy": "2021-10-29T17:30:09.675947Z",
     "iopub.status.idle": "2021-10-29T17:30:11.182559Z",
     "shell.execute_reply": "2021-10-29T17:30:11.183944Z"
    },
    "papermill": {
     "duration": 1.539456,
     "end_time": "2021-10-29T17:30:11.184374",
     "exception": false,
     "start_time": "2021-10-29T17:30:09.644918",
     "status": "completed"
    },
    "tags": []
   },
   "outputs": [
    {
     "data": {
      "text/plain": [
       "<AxesSubplot:ylabel='PRODUCT'>"
      ]
     },
     "execution_count": 7,
     "metadata": {},
     "output_type": "execute_result"
    },
    {
     "data": {
      "image/png": "[encoded data removed]",
      "text/plain": [
       "<Figure size 432x288 with 1 Axes>"
      ]
     },
     "metadata": {
      "needs_background": "light"
     },
     "output_type": "display_data"
    }
   ],
   "source": [
    "df_pivot_diff.sort_values(\"stamp_2\", ascending = False)[\"stamp_2\"].head(10).plot.barh()"
   ]
  },
  {
   "cell_type": "code",
   "execution_count": null,
   "id": "extra-executive",
   "metadata": {
    "papermill": {
     "duration": 0.022132,
     "end_time": "2021-10-29T17:30:11.230516",
     "exception": false,
     "start_time": "2021-10-29T17:30:11.208384",
     "status": "completed"
    },
    "tags": []
   },
   "outputs": [],
   "source": []
  }
 ],
 "metadata": {
  "kernelspec": {
   "display_name": "Python 3",
   "language": "python",
   "name": "python3"
  },
  "language_info": {
   "codemirror_mode": {
    "name": "ipython",
    "version": 3
   },
   "file_extension": ".py",
   "mimetype": "text/x-python",
   "name": "python",
   "nbconvert_exporter": "python",
   "pygments_lexer": "ipython3",
   "version": "3.9.5"
  },
  "papermill": {
   "default_parameters": {},
   "duration": 7.449506,
   "end_time": "2021-10-29T17:30:11.874924",
   "environment_variables": {},
   "exception": null,
   "input_path": "eBay_Overview.ipynb",
   "output_path": "eBay_Overview.ipynb",
   "parameters": {},
   "start_time": "2021-10-29T17:30:04.425418",
   "version": "2.3.3"
  }
 },
 "nbformat": 4,
 "nbformat_minor": 5
}