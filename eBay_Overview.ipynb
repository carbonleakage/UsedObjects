{
 "cells": [
  {
   "cell_type": "code",
   "execution_count": 1,
   "id": "reverse-picking",
   "metadata": {
    "execution": {
     "iopub.execute_input": "2021-12-14T20:30:07.832376Z",
     "iopub.status.busy": "2021-12-14T20:30:07.802471Z",
     "iopub.status.idle": "2021-12-14T20:30:08.751594Z",
     "shell.execute_reply": "2021-12-14T20:30:08.753307Z"
    },
    "papermill": {
     "duration": 0.998179,
     "end_time": "2021-12-14T20:30:08.754052",
     "exception": false,
     "start_time": "2021-12-14T20:30:07.755873",
     "status": "completed"
    },
    "tags": []
   },
   "outputs": [],
   "source": [
    "import pandas as pd\n",
    "import sqlite3"
   ]
  },
  {
   "cell_type": "code",
   "execution_count": 2,
   "id": "innovative-syndrome",
   "metadata": {
    "execution": {
     "iopub.execute_input": "2021-12-14T20:30:08.816469Z",
     "iopub.status.busy": "2021-12-14T20:30:08.814262Z",
     "iopub.status.idle": "2021-12-14T20:30:09.902089Z",
     "shell.execute_reply": "2021-12-14T20:30:09.903594Z"
    },
    "papermill": {
     "duration": 1.121317,
     "end_time": "2021-12-14T20:30:09.904089",
     "exception": false,
     "start_time": "2021-12-14T20:30:08.782772",
     "status": "completed"
    },
    "tags": []
   },
   "outputs": [],
   "source": [
    "timestamps = pd.read_sql(\"select distinct record_time from EBAY_TOP_BERLIN order by record_time desc limit 2\", sqlite3.connect(\"UsedObjects.db\"))"
   ]
  },
  {
   "cell_type": "code",
   "execution_count": 3,
   "id": "periodic-identification",
   "metadata": {
    "execution": {
     "iopub.execute_input": "2021-12-14T20:30:09.976274Z",
     "iopub.status.busy": "2021-12-14T20:30:09.974010Z",
     "iopub.status.idle": "2021-12-14T20:30:09.998609Z",
     "shell.execute_reply": "2021-12-14T20:30:10.000276Z"
    },
    "papermill": {
     "duration": 0.076537,
     "end_time": "2021-12-14T20:30:10.000883",
     "exception": false,
     "start_time": "2021-12-14T20:30:09.924346",
     "status": "completed"
    },
    "tags": []
   },
   "outputs": [
    {
     "data": {
      "text/html": [
       "<div>\n",
       "<style scoped>\n",
       "    .dataframe tbody tr th:only-of-type {\n",
       "        vertical-align: middle;\n",
       "    }\n",
       "\n",
       "    .dataframe tbody tr th {\n",
       "        vertical-align: top;\n",
       "    }\n",
       "\n",
       "    .dataframe thead th {\n",
       "        text-align: right;\n",
       "    }\n",
       "</style>\n",
       "<table border=\"1\" class=\"dataframe\">\n",
       "  <thead>\n",
       "    <tr style=\"text-align: right;\">\n",
       "      <th></th>\n",
       "      <th>RECORD_TIME</th>\n",
       "    </tr>\n",
       "  </thead>\n",
       "  <tbody>\n",
       "    <tr>\n",
       "      <th>0</th>\n",
       "      <td>2021-12-14 21:30</td>\n",
       "    </tr>\n",
       "    <tr>\n",
       "      <th>1</th>\n",
       "      <td>2021-12-14 21:00</td>\n",
       "    </tr>\n",
       "  </tbody>\n",
       "</table>\n",
       "</div>"
      ],
      "text/plain": [
       "        RECORD_TIME\n",
       "0  2021-12-14 21:30\n",
       "1  2021-12-14 21:00"
      ]
     },
     "execution_count": 3,
     "metadata": {},
     "output_type": "execute_result"
    }
   ],
   "source": [
    "timestamps"
   ]
  },
  {
   "cell_type": "code",
   "execution_count": 4,
   "id": "alternate-victory",
   "metadata": {
    "execution": {
     "iopub.execute_input": "2021-12-14T20:30:10.056150Z",
     "iopub.status.busy": "2021-12-14T20:30:10.053983Z",
     "iopub.status.idle": "2021-12-14T20:30:11.640566Z",
     "shell.execute_reply": "2021-12-14T20:30:11.642261Z"
    },
    "papermill": {
     "duration": 1.620033,
     "end_time": "2021-12-14T20:30:11.642751",
     "exception": false,
     "start_time": "2021-12-14T20:30:10.022718",
     "status": "completed"
    },
    "tags": []
   },
   "outputs": [],
   "source": [
    "df = pd.read_sql(\"select * from EBAY_TOP_BERLIN where record_time in (select distinct record_time from EBAY_TOP_BERLIN order by record_time desc limit 2)\", sqlite3.connect(\"UsedObjects.db\"))"
   ]
  },
  {
   "cell_type": "code",
   "execution_count": 5,
   "id": "popular-active",
   "metadata": {
    "execution": {
     "iopub.execute_input": "2021-12-14T20:30:11.722978Z",
     "iopub.status.busy": "2021-12-14T20:30:11.705912Z",
     "iopub.status.idle": "2021-12-14T20:30:11.738749Z",
     "shell.execute_reply": "2021-12-14T20:30:11.740126Z"
    },
    "papermill": {
     "duration": 0.076613,
     "end_time": "2021-12-14T20:30:11.740589",
     "exception": false,
     "start_time": "2021-12-14T20:30:11.663976",
     "status": "completed"
    },
    "tags": []
   },
   "outputs": [],
   "source": [
    "df_pivot = df.pivot_table(index=\"PRODUCT\", columns = \"RECORD_TIME\", values = \"LISTING_COUNT\")"
   ]
  },
  {
   "cell_type": "code",
   "execution_count": 6,
   "id": "union-huntington",
   "metadata": {
    "execution": {
     "iopub.execute_input": "2021-12-14T20:30:11.798475Z",
     "iopub.status.busy": "2021-12-14T20:30:11.796187Z",
     "iopub.status.idle": "2021-12-14T20:30:11.801103Z",
     "shell.execute_reply": "2021-12-14T20:30:11.802569Z"
    },
    "papermill": {
     "duration": 0.042988,
     "end_time": "2021-12-14T20:30:11.803022",
     "exception": false,
     "start_time": "2021-12-14T20:30:11.760034",
     "status": "completed"
    },
    "tags": []
   },
   "outputs": [],
   "source": [
    "df_pivot.columns = [\"stamp_1\", \"stamp_2\"]\n",
    "df_pivot_diff = df_pivot.diff(axis=1)"
   ]
  },
  {
   "cell_type": "code",
   "execution_count": 7,
   "id": "fifth-motion",
   "metadata": {
    "execution": {
     "iopub.execute_input": "2021-12-14T20:30:11.862978Z",
     "iopub.status.busy": "2021-12-14T20:30:11.860352Z",
     "iopub.status.idle": "2021-12-14T20:30:13.793834Z",
     "shell.execute_reply": "2021-12-14T20:30:13.795778Z"
    },
    "papermill": {
     "duration": 1.973503,
     "end_time": "2021-12-14T20:30:13.796343",
     "exception": false,
     "start_time": "2021-12-14T20:30:11.822840",
     "status": "completed"
    },
    "tags": []
   },
   "outputs": [
    {
     "data": {
      "text/plain": [
       "<AxesSubplot:ylabel='PRODUCT'>"
      ]
     },
     "execution_count": 7,
     "metadata": {},
     "output_type": "execute_result"
    },
    {
     "data": {
      "image/png": "[encoded data removed]",
      "text/plain": [
       "<Figure size 432x288 with 1 Axes>"
      ]
     },
     "metadata": {
      "needs_background": "light"
     },
     "output_type": "display_data"
    }
   ],
   "source": [
    "df_pivot_diff.sort_values(\"stamp_2\", ascending = False)[\"stamp_2\"].head(10).plot.barh()"
   ]
  },
  {
   "cell_type": "code",
   "execution_count": null,
   "id": "extra-executive",
   "metadata": {
    "papermill": {
     "duration": 0.035273,
     "end_time": "2021-12-14T20:30:13.876030",
     "exception": false,
     "start_time": "2021-12-14T20:30:13.840757",
     "status": "completed"
    },
    "tags": []
   },
   "outputs": [],
   "source": []
  }
 ],
 "metadata": {
  "kernelspec": {
   "display_name": "Python 3",
   "language": "python",
   "name": "python3"
  },
  "language_info": {
   "codemirror_mode": {
    "name": "ipython",
    "version": 3
   },
   "file_extension": ".py",
   "mimetype": "text/x-python",
   "name": "python",
   "nbconvert_exporter": "python",
   "pygments_lexer": "ipython3",
   "version": "3.9.5"
  },
  "papermill": {
   "default_parameters": {},
   "duration": 9.650374,
   "end_time": "2021-12-14T20:30:14.632435",
   "environment_variables": {},
   "exception": null,
   "input_path": "eBay_Overview.ipynb",
   "output_path": "eBay_Overview.ipynb",
   "parameters": {},
   "start_time": "2021-12-14T20:30:04.982061",
   "version": "2.3.3"
  }
 },
 "nbformat": 4,
 "nbformat_minor": 5
}