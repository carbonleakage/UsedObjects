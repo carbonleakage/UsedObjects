{
 "cells": [
  {
   "cell_type": "code",
   "execution_count": 1,
   "id": "reverse-picking",
   "metadata": {
    "execution": {
     "iopub.execute_input": "2021-09-13T23:00:07.560638Z",
     "iopub.status.busy": "2021-09-13T23:00:07.558625Z",
     "iopub.status.idle": "2021-09-13T23:00:08.364809Z",
     "shell.execute_reply": "2021-09-13T23:00:08.366063Z"
    },
    "papermill": {
     "duration": 0.856152,
     "end_time": "2021-09-13T23:00:08.366676",
     "exception": false,
     "start_time": "2021-09-13T23:00:07.510524",
     "status": "completed"
    },
    "tags": []
   },
   "outputs": [],
   "source": [
    "import pandas as pd\n",
    "import sqlite3"
   ]
  },
  {
   "cell_type": "code",
   "execution_count": 2,
   "id": "innovative-syndrome",
   "metadata": {
    "execution": {
     "iopub.execute_input": "2021-09-13T23:00:08.419508Z",
     "iopub.status.busy": "2021-09-13T23:00:08.417083Z",
     "iopub.status.idle": "2021-09-13T23:00:08.703475Z",
     "shell.execute_reply": "2021-09-13T23:00:08.704948Z"
    },
    "papermill": {
     "duration": 0.316403,
     "end_time": "2021-09-13T23:00:08.705394",
     "exception": false,
     "start_time": "2021-09-13T23:00:08.388991",
     "status": "completed"
    },
    "tags": []
   },
   "outputs": [],
   "source": [
    "timestamps = pd.read_sql(\"select distinct record_time from EBAY_TOP_BERLIN order by record_time desc limit 2\", sqlite3.connect(\"UsedObjects.db\"))"
   ]
  },
  {
   "cell_type": "code",
   "execution_count": 3,
   "id": "periodic-identification",
   "metadata": {
    "execution": {
     "iopub.execute_input": "2021-09-13T23:00:08.772334Z",
     "iopub.status.busy": "2021-09-13T23:00:08.770256Z",
     "iopub.status.idle": "2021-09-13T23:00:08.789915Z",
     "shell.execute_reply": "2021-09-13T23:00:08.791346Z"
    },
    "papermill": {
     "duration": 0.066544,
     "end_time": "2021-09-13T23:00:08.791804",
     "exception": false,
     "start_time": "2021-09-13T23:00:08.725260",
     "status": "completed"
    },
    "tags": []
   },
   "outputs": [
    {
     "data": {
      "text/html": [
       "<div>\n",
       "<style scoped>\n",
       "    .dataframe tbody tr th:only-of-type {\n",
       "        vertical-align: middle;\n",
       "    }\n",
       "\n",
       "    .dataframe tbody tr th {\n",
       "        vertical-align: top;\n",
       "    }\n",
       "\n",
       "    .dataframe thead th {\n",
       "        text-align: right;\n",
       "    }\n",
       "</style>\n",
       "<table border=\"1\" class=\"dataframe\">\n",
       "  <thead>\n",
       "    <tr style=\"text-align: right;\">\n",
       "      <th></th>\n",
       "      <th>RECORD_TIME</th>\n",
       "    </tr>\n",
       "  </thead>\n",
       "  <tbody>\n",
       "    <tr>\n",
       "      <th>0</th>\n",
       "      <td>2021-09-14 01:00</td>\n",
       "    </tr>\n",
       "    <tr>\n",
       "      <th>1</th>\n",
       "      <td>2021-09-14 00:30</td>\n",
       "    </tr>\n",
       "  </tbody>\n",
       "</table>\n",
       "</div>"
      ],
      "text/plain": [
       "        RECORD_TIME\n",
       "0  2021-09-14 01:00\n",
       "1  2021-09-14 00:30"
      ]
     },
     "execution_count": 3,
     "metadata": {},
     "output_type": "execute_result"
    }
   ],
   "source": [
    "timestamps"
   ]
  },
  {
   "cell_type": "code",
   "execution_count": 4,
   "id": "alternate-victory",
   "metadata": {
    "execution": {
     "iopub.execute_input": "2021-09-13T23:00:08.843205Z",
     "iopub.status.busy": "2021-09-13T23:00:08.841247Z",
     "iopub.status.idle": "2021-09-13T23:00:09.265344Z",
     "shell.execute_reply": "2021-09-13T23:00:09.266628Z"
    },
    "papermill": {
     "duration": 0.453947,
     "end_time": "2021-09-13T23:00:09.267102",
     "exception": false,
     "start_time": "2021-09-13T23:00:08.813155",
     "status": "completed"
    },
    "tags": []
   },
   "outputs": [],
   "source": [
    "df = pd.read_sql(\"select * from EBAY_TOP_BERLIN where record_time in (select distinct record_time from EBAY_TOP_BERLIN order by record_time desc limit 2)\", sqlite3.connect(\"UsedObjects.db\"))"
   ]
  },
  {
   "cell_type": "code",
   "execution_count": 5,
   "id": "popular-active",
   "metadata": {
    "execution": {
     "iopub.execute_input": "2021-09-13T23:00:09.362053Z",
     "iopub.status.busy": "2021-09-13T23:00:09.350380Z",
     "iopub.status.idle": "2021-09-13T23:00:09.377662Z",
     "shell.execute_reply": "2021-09-13T23:00:09.378931Z"
    },
    "papermill": {
     "duration": 0.074675,
     "end_time": "2021-09-13T23:00:09.379360",
     "exception": false,
     "start_time": "2021-09-13T23:00:09.304685",
     "status": "completed"
    },
    "tags": []
   },
   "outputs": [],
   "source": [
    "df_pivot = df.pivot_table(index=\"PRODUCT\", columns = \"RECORD_TIME\", values = \"LISTING_COUNT\")"
   ]
  },
  {
   "cell_type": "code",
   "execution_count": 6,
   "id": "union-huntington",
   "metadata": {
    "execution": {
     "iopub.execute_input": "2021-09-13T23:00:09.434950Z",
     "iopub.status.busy": "2021-09-13T23:00:09.432799Z",
     "iopub.status.idle": "2021-09-13T23:00:09.437958Z",
     "shell.execute_reply": "2021-09-13T23:00:09.439337Z"
    },
    "papermill": {
     "duration": 0.040373,
     "end_time": "2021-09-13T23:00:09.439765",
     "exception": false,
     "start_time": "2021-09-13T23:00:09.399392",
     "status": "completed"
    },
    "tags": []
   },
   "outputs": [],
   "source": [
    "df_pivot.columns = [\"stamp_1\", \"stamp_2\"]\n",
    "df_pivot_diff = df_pivot.diff(axis=1)"
   ]
  },
  {
   "cell_type": "code",
   "execution_count": 7,
   "id": "fifth-motion",
   "metadata": {
    "execution": {
     "iopub.execute_input": "2021-09-13T23:00:09.494530Z",
     "iopub.status.busy": "2021-09-13T23:00:09.492182Z",
     "iopub.status.idle": "2021-09-13T23:00:10.982188Z",
     "shell.execute_reply": "2021-09-13T23:00:10.983543Z"
    },
    "papermill": {
     "duration": 1.522893,
     "end_time": "2021-09-13T23:00:10.983965",
     "exception": false,
     "start_time": "2021-09-13T23:00:09.461072",
     "status": "completed"
    },
    "tags": []
   },
   "outputs": [
    {
     "data": {
      "text/plain": [
       "<AxesSubplot:ylabel='PRODUCT'>"
      ]
     },
     "execution_count": 7,
     "metadata": {},
     "output_type": "execute_result"
    },
    {
     "data": {
      "image/png": "[encoded data removed]",
      "text/plain": [
       "<Figure size 432x288 with 1 Axes>"
      ]
     },
     "metadata": {
      "needs_background": "light"
     },
     "output_type": "display_data"
    }
   ],
   "source": [
    "df_pivot_diff.sort_values(\"stamp_2\", ascending = False)[\"stamp_2\"].head(10).plot.barh()"
   ]
  },
  {
   "cell_type": "code",
   "execution_count": null,
   "id": "extra-executive",
   "metadata": {
    "papermill": {
     "duration": 0.022205,
     "end_time": "2021-09-13T23:00:11.030912",
     "exception": false,
     "start_time": "2021-09-13T23:00:11.008707",
     "status": "completed"
    },
    "tags": []
   },
   "outputs": [],
   "source": []
  }
 ],
 "metadata": {
  "kernelspec": {
   "display_name": "Python 3",
   "language": "python",
   "name": "python3"
  },
  "language_info": {
   "codemirror_mode": {
    "name": "ipython",
    "version": 3
   },
   "file_extension": ".py",
   "mimetype": "text/x-python",
   "name": "python",
   "nbconvert_exporter": "python",
   "pygments_lexer": "ipython3",
   "version": "3.9.5"
  },
  "papermill": {
   "default_parameters": {},
   "duration": 6.565788,
   "end_time": "2021-09-13T23:00:11.675055",
   "environment_variables": {},
   "exception": null,
   "input_path": "eBay_Overview.ipynb",
   "output_path": "eBay_Overview.ipynb",
   "parameters": {},
   "start_time": "2021-09-13T23:00:05.109267",
   "version": "2.3.3"
  }
 },
 "nbformat": 4,
 "nbformat_minor": 5
}