{
 "cells": [
  {
   "cell_type": "code",
   "execution_count": 1,
   "id": "reverse-picking",
   "metadata": {
    "execution": {
     "iopub.execute_input": "2021-10-21T23:30:06.674569Z",
     "iopub.status.busy": "2021-10-21T23:30:06.672551Z",
     "iopub.status.idle": "2021-10-21T23:30:07.478116Z",
     "shell.execute_reply": "2021-10-21T23:30:07.479367Z"
    },
    "papermill": {
     "duration": 0.857861,
     "end_time": "2021-10-21T23:30:07.479980",
     "exception": false,
     "start_time": "2021-10-21T23:30:06.622119",
     "status": "completed"
    },
    "tags": []
   },
   "outputs": [],
   "source": [
    "import pandas as pd\n",
    "import sqlite3"
   ]
  },
  {
   "cell_type": "code",
   "execution_count": 2,
   "id": "innovative-syndrome",
   "metadata": {
    "execution": {
     "iopub.execute_input": "2021-10-21T23:30:07.530655Z",
     "iopub.status.busy": "2021-10-21T23:30:07.528676Z",
     "iopub.status.idle": "2021-10-21T23:30:08.140193Z",
     "shell.execute_reply": "2021-10-21T23:30:08.141463Z"
    },
    "papermill": {
     "duration": 0.641213,
     "end_time": "2021-10-21T23:30:08.141870",
     "exception": false,
     "start_time": "2021-10-21T23:30:07.500657",
     "status": "completed"
    },
    "tags": []
   },
   "outputs": [],
   "source": [
    "timestamps = pd.read_sql(\"select distinct record_time from EBAY_TOP_BERLIN order by record_time desc limit 2\", sqlite3.connect(\"UsedObjects.db\"))"
   ]
  },
  {
   "cell_type": "code",
   "execution_count": 3,
   "id": "periodic-identification",
   "metadata": {
    "execution": {
     "iopub.execute_input": "2021-10-21T23:30:08.232279Z",
     "iopub.status.busy": "2021-10-21T23:30:08.230239Z",
     "iopub.status.idle": "2021-10-21T23:30:08.250284Z",
     "shell.execute_reply": "2021-10-21T23:30:08.251480Z"
    },
    "papermill": {
     "duration": 0.070699,
     "end_time": "2021-10-21T23:30:08.251911",
     "exception": false,
     "start_time": "2021-10-21T23:30:08.181212",
     "status": "completed"
    },
    "tags": []
   },
   "outputs": [
    {
     "data": {
      "text/html": [
       "<div>\n",
       "<style scoped>\n",
       "    .dataframe tbody tr th:only-of-type {\n",
       "        vertical-align: middle;\n",
       "    }\n",
       "\n",
       "    .dataframe tbody tr th {\n",
       "        vertical-align: top;\n",
       "    }\n",
       "\n",
       "    .dataframe thead th {\n",
       "        text-align: right;\n",
       "    }\n",
       "</style>\n",
       "<table border=\"1\" class=\"dataframe\">\n",
       "  <thead>\n",
       "    <tr style=\"text-align: right;\">\n",
       "      <th></th>\n",
       "      <th>RECORD_TIME</th>\n",
       "    </tr>\n",
       "  </thead>\n",
       "  <tbody>\n",
       "    <tr>\n",
       "      <th>0</th>\n",
       "      <td>2021-10-22 01:30</td>\n",
       "    </tr>\n",
       "    <tr>\n",
       "      <th>1</th>\n",
       "      <td>2021-10-22 01:00</td>\n",
       "    </tr>\n",
       "  </tbody>\n",
       "</table>\n",
       "</div>"
      ],
      "text/plain": [
       "        RECORD_TIME\n",
       "0  2021-10-22 01:30\n",
       "1  2021-10-22 01:00"
      ]
     },
     "execution_count": 3,
     "metadata": {},
     "output_type": "execute_result"
    }
   ],
   "source": [
    "timestamps"
   ]
  },
  {
   "cell_type": "code",
   "execution_count": 4,
   "id": "alternate-victory",
   "metadata": {
    "execution": {
     "iopub.execute_input": "2021-10-21T23:30:08.303961Z",
     "iopub.status.busy": "2021-10-21T23:30:08.302129Z",
     "iopub.status.idle": "2021-10-21T23:30:09.200360Z",
     "shell.execute_reply": "2021-10-21T23:30:09.201669Z"
    },
    "papermill": {
     "duration": 0.928029,
     "end_time": "2021-10-21T23:30:09.202077",
     "exception": false,
     "start_time": "2021-10-21T23:30:08.274048",
     "status": "completed"
    },
    "tags": []
   },
   "outputs": [],
   "source": [
    "df = pd.read_sql(\"select * from EBAY_TOP_BERLIN where record_time in (select distinct record_time from EBAY_TOP_BERLIN order by record_time desc limit 2)\", sqlite3.connect(\"UsedObjects.db\"))"
   ]
  },
  {
   "cell_type": "code",
   "execution_count": 5,
   "id": "popular-active",
   "metadata": {
    "execution": {
     "iopub.execute_input": "2021-10-21T23:30:09.272609Z",
     "iopub.status.busy": "2021-10-21T23:30:09.265753Z",
     "iopub.status.idle": "2021-10-21T23:30:09.288030Z",
     "shell.execute_reply": "2021-10-21T23:30:09.289319Z"
    },
    "papermill": {
     "duration": 0.067111,
     "end_time": "2021-10-21T23:30:09.289727",
     "exception": false,
     "start_time": "2021-10-21T23:30:09.222616",
     "status": "completed"
    },
    "tags": []
   },
   "outputs": [],
   "source": [
    "df_pivot = df.pivot_table(index=\"PRODUCT\", columns = \"RECORD_TIME\", values = \"LISTING_COUNT\")"
   ]
  },
  {
   "cell_type": "code",
   "execution_count": 6,
   "id": "union-huntington",
   "metadata": {
    "execution": {
     "iopub.execute_input": "2021-10-21T23:30:09.348261Z",
     "iopub.status.busy": "2021-10-21T23:30:09.345985Z",
     "iopub.status.idle": "2021-10-21T23:30:09.351752Z",
     "shell.execute_reply": "2021-10-21T23:30:09.353298Z"
    },
    "papermill": {
     "duration": 0.041747,
     "end_time": "2021-10-21T23:30:09.353775",
     "exception": false,
     "start_time": "2021-10-21T23:30:09.312028",
     "status": "completed"
    },
    "tags": []
   },
   "outputs": [],
   "source": [
    "df_pivot.columns = [\"stamp_1\", \"stamp_2\"]\n",
    "df_pivot_diff = df_pivot.diff(axis=1)"
   ]
  },
  {
   "cell_type": "code",
   "execution_count": 7,
   "id": "fifth-motion",
   "metadata": {
    "execution": {
     "iopub.execute_input": "2021-10-21T23:30:09.407972Z",
     "iopub.status.busy": "2021-10-21T23:30:09.405633Z",
     "iopub.status.idle": "2021-10-21T23:30:10.906075Z",
     "shell.execute_reply": "2021-10-21T23:30:10.907359Z"
    },
    "papermill": {
     "duration": 1.533037,
     "end_time": "2021-10-21T23:30:10.907778",
     "exception": false,
     "start_time": "2021-10-21T23:30:09.374741",
     "status": "completed"
    },
    "tags": []
   },
   "outputs": [
    {
     "data": {
      "text/plain": [
       "<AxesSubplot:ylabel='PRODUCT'>"
      ]
     },
     "execution_count": 7,
     "metadata": {},
     "output_type": "execute_result"
    },
    {
     "data": {
      "image/png": "[encoded data removed]",
      "text/plain": [
       "<Figure size 432x288 with 1 Axes>"
      ]
     },
     "metadata": {
      "needs_background": "light"
     },
     "output_type": "display_data"
    }
   ],
   "source": [
    "df_pivot_diff.sort_values(\"stamp_2\", ascending = False)[\"stamp_2\"].head(10).plot.barh()"
   ]
  },
  {
   "cell_type": "code",
   "execution_count": null,
   "id": "extra-executive",
   "metadata": {
    "papermill": {
     "duration": 0.022081,
     "end_time": "2021-10-21T23:30:10.953921",
     "exception": false,
     "start_time": "2021-10-21T23:30:10.931840",
     "status": "completed"
    },
    "tags": []
   },
   "outputs": [],
   "source": []
  }
 ],
 "metadata": {
  "kernelspec": {
   "display_name": "Python 3",
   "language": "python",
   "name": "python3"
  },
  "language_info": {
   "codemirror_mode": {
    "name": "ipython",
    "version": 3
   },
   "file_extension": ".py",
   "mimetype": "text/x-python",
   "name": "python",
   "nbconvert_exporter": "python",
   "pygments_lexer": "ipython3",
   "version": "3.9.5"
  },
  "papermill": {
   "default_parameters": {},
   "duration": 7.392821,
   "end_time": "2021-10-21T23:30:11.597197",
   "environment_variables": {},
   "exception": null,
   "input_path": "eBay_Overview.ipynb",
   "output_path": "eBay_Overview.ipynb",
   "parameters": {},
   "start_time": "2021-10-21T23:30:04.204376",
   "version": "2.3.3"
  }
 },
 "nbformat": 4,
 "nbformat_minor": 5
}