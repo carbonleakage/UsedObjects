{
 "cells": [
  {
   "cell_type": "code",
   "execution_count": 1,
   "id": "reverse-picking",
   "metadata": {
    "execution": {
     "iopub.execute_input": "2021-10-06T23:30:06.828814Z",
     "iopub.status.busy": "2021-10-06T23:30:06.826777Z",
     "iopub.status.idle": "2021-10-06T23:30:07.634312Z",
     "shell.execute_reply": "2021-10-06T23:30:07.632773Z"
    },
    "papermill": {
     "duration": 0.856634,
     "end_time": "2021-10-06T23:30:07.634714",
     "exception": false,
     "start_time": "2021-10-06T23:30:06.778080",
     "status": "completed"
    },
    "tags": []
   },
   "outputs": [],
   "source": [
    "import pandas as pd\n",
    "import sqlite3"
   ]
  },
  {
   "cell_type": "code",
   "execution_count": 2,
   "id": "innovative-syndrome",
   "metadata": {
    "execution": {
     "iopub.execute_input": "2021-10-06T23:30:07.688320Z",
     "iopub.status.busy": "2021-10-06T23:30:07.685979Z",
     "iopub.status.idle": "2021-10-06T23:30:08.154268Z",
     "shell.execute_reply": "2021-10-06T23:30:08.155502Z"
    },
    "papermill": {
     "duration": 0.498494,
     "end_time": "2021-10-06T23:30:08.155932",
     "exception": false,
     "start_time": "2021-10-06T23:30:07.657438",
     "status": "completed"
    },
    "tags": []
   },
   "outputs": [],
   "source": [
    "timestamps = pd.read_sql(\"select distinct record_time from EBAY_TOP_BERLIN order by record_time desc limit 2\", sqlite3.connect(\"UsedObjects.db\"))"
   ]
  },
  {
   "cell_type": "code",
   "execution_count": 3,
   "id": "periodic-identification",
   "metadata": {
    "execution": {
     "iopub.execute_input": "2021-10-06T23:30:08.221781Z",
     "iopub.status.busy": "2021-10-06T23:30:08.219705Z",
     "iopub.status.idle": "2021-10-06T23:30:08.240936Z",
     "shell.execute_reply": "2021-10-06T23:30:08.242050Z"
    },
    "papermill": {
     "duration": 0.066609,
     "end_time": "2021-10-06T23:30:08.242451",
     "exception": false,
     "start_time": "2021-10-06T23:30:08.175842",
     "status": "completed"
    },
    "tags": []
   },
   "outputs": [
    {
     "data": {
      "text/html": [
       "<div>\n",
       "<style scoped>\n",
       "    .dataframe tbody tr th:only-of-type {\n",
       "        vertical-align: middle;\n",
       "    }\n",
       "\n",
       "    .dataframe tbody tr th {\n",
       "        vertical-align: top;\n",
       "    }\n",
       "\n",
       "    .dataframe thead th {\n",
       "        text-align: right;\n",
       "    }\n",
       "</style>\n",
       "<table border=\"1\" class=\"dataframe\">\n",
       "  <thead>\n",
       "    <tr style=\"text-align: right;\">\n",
       "      <th></th>\n",
       "      <th>RECORD_TIME</th>\n",
       "    </tr>\n",
       "  </thead>\n",
       "  <tbody>\n",
       "    <tr>\n",
       "      <th>0</th>\n",
       "      <td>2021-10-07 01:30</td>\n",
       "    </tr>\n",
       "    <tr>\n",
       "      <th>1</th>\n",
       "      <td>2021-10-07 01:00</td>\n",
       "    </tr>\n",
       "  </tbody>\n",
       "</table>\n",
       "</div>"
      ],
      "text/plain": [
       "        RECORD_TIME\n",
       "0  2021-10-07 01:30\n",
       "1  2021-10-07 01:00"
      ]
     },
     "execution_count": 3,
     "metadata": {},
     "output_type": "execute_result"
    }
   ],
   "source": [
    "timestamps"
   ]
  },
  {
   "cell_type": "code",
   "execution_count": 4,
   "id": "alternate-victory",
   "metadata": {
    "execution": {
     "iopub.execute_input": "2021-10-06T23:30:08.316949Z",
     "iopub.status.busy": "2021-10-06T23:30:08.314742Z",
     "iopub.status.idle": "2021-10-06T23:30:09.011548Z",
     "shell.execute_reply": "2021-10-06T23:30:09.012679Z"
    },
    "papermill": {
     "duration": 0.73469,
     "end_time": "2021-10-06T23:30:09.013083",
     "exception": false,
     "start_time": "2021-10-06T23:30:08.278393",
     "status": "completed"
    },
    "tags": []
   },
   "outputs": [],
   "source": [
    "df = pd.read_sql(\"select * from EBAY_TOP_BERLIN where record_time in (select distinct record_time from EBAY_TOP_BERLIN order by record_time desc limit 2)\", sqlite3.connect(\"UsedObjects.db\"))"
   ]
  },
  {
   "cell_type": "code",
   "execution_count": 5,
   "id": "popular-active",
   "metadata": {
    "execution": {
     "iopub.execute_input": "2021-10-06T23:30:09.084467Z",
     "iopub.status.busy": "2021-10-06T23:30:09.072537Z",
     "iopub.status.idle": "2021-10-06T23:30:09.100497Z",
     "shell.execute_reply": "2021-10-06T23:30:09.101841Z"
    },
    "papermill": {
     "duration": 0.067074,
     "end_time": "2021-10-06T23:30:09.102271",
     "exception": false,
     "start_time": "2021-10-06T23:30:09.035197",
     "status": "completed"
    },
    "tags": []
   },
   "outputs": [],
   "source": [
    "df_pivot = df.pivot_table(index=\"PRODUCT\", columns = \"RECORD_TIME\", values = \"LISTING_COUNT\")"
   ]
  },
  {
   "cell_type": "code",
   "execution_count": 6,
   "id": "union-huntington",
   "metadata": {
    "execution": {
     "iopub.execute_input": "2021-10-06T23:30:09.159506Z",
     "iopub.status.busy": "2021-10-06T23:30:09.157436Z",
     "iopub.status.idle": "2021-10-06T23:30:09.162670Z",
     "shell.execute_reply": "2021-10-06T23:30:09.164023Z"
    },
    "papermill": {
     "duration": 0.041657,
     "end_time": "2021-10-06T23:30:09.164436",
     "exception": false,
     "start_time": "2021-10-06T23:30:09.122779",
     "status": "completed"
    },
    "tags": []
   },
   "outputs": [],
   "source": [
    "df_pivot.columns = [\"stamp_1\", \"stamp_2\"]\n",
    "df_pivot_diff = df_pivot.diff(axis=1)"
   ]
  },
  {
   "cell_type": "code",
   "execution_count": 7,
   "id": "fifth-motion",
   "metadata": {
    "execution": {
     "iopub.execute_input": "2021-10-06T23:30:09.222016Z",
     "iopub.status.busy": "2021-10-06T23:30:09.219586Z",
     "iopub.status.idle": "2021-10-06T23:30:10.678217Z",
     "shell.execute_reply": "2021-10-06T23:30:10.679894Z"
    },
    "papermill": {
     "duration": 1.49423,
     "end_time": "2021-10-06T23:30:10.680394",
     "exception": false,
     "start_time": "2021-10-06T23:30:09.186164",
     "status": "completed"
    },
    "tags": []
   },
   "outputs": [
    {
     "data": {
      "text/plain": [
       "<AxesSubplot:ylabel='PRODUCT'>"
      ]
     },
     "execution_count": 7,
     "metadata": {},
     "output_type": "execute_result"
    },
    {
     "data": {
      "image/png": "[encoded data removed]",
      "text/plain": [
       "<Figure size 432x288 with 1 Axes>"
      ]
     },
     "metadata": {
      "needs_background": "light"
     },
     "output_type": "display_data"
    }
   ],
   "source": [
    "df_pivot_diff.sort_values(\"stamp_2\", ascending = False)[\"stamp_2\"].head(10).plot.barh()"
   ]
  },
  {
   "cell_type": "code",
   "execution_count": null,
   "id": "extra-executive",
   "metadata": {
    "papermill": {
     "duration": 0.022495,
     "end_time": "2021-10-06T23:30:10.728260",
     "exception": false,
     "start_time": "2021-10-06T23:30:10.705765",
     "status": "completed"
    },
    "tags": []
   },
   "outputs": [],
   "source": []
  }
 ],
 "metadata": {
  "kernelspec": {
   "display_name": "Python 3",
   "language": "python",
   "name": "python3"
  },
  "language_info": {
   "codemirror_mode": {
    "name": "ipython",
    "version": 3
   },
   "file_extension": ".py",
   "mimetype": "text/x-python",
   "name": "python",
   "nbconvert_exporter": "python",
   "pygments_lexer": "ipython3",
   "version": "3.9.5"
  },
  "papermill": {
   "default_parameters": {},
   "duration": 7.82989,
   "end_time": "2021-10-06T23:30:12.208117",
   "environment_variables": {},
   "exception": null,
   "input_path": "eBay_Overview.ipynb",
   "output_path": "eBay_Overview.ipynb",
   "parameters": {},
   "start_time": "2021-10-06T23:30:04.378227",
   "version": "2.3.3"
  }
 },
 "nbformat": 4,
 "nbformat_minor": 5
}