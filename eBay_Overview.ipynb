{
 "cells": [
  {
   "cell_type": "code",
   "execution_count": 1,
   "id": "reverse-picking",
   "metadata": {
    "execution": {
     "iopub.execute_input": "2021-11-19T21:30:07.885854Z",
     "iopub.status.busy": "2021-11-19T21:30:07.883567Z",
     "iopub.status.idle": "2021-11-19T21:30:08.844487Z",
     "shell.execute_reply": "2021-11-19T21:30:08.846056Z"
    },
    "papermill": {
     "duration": 1.010557,
     "end_time": "2021-11-19T21:30:08.846823",
     "exception": false,
     "start_time": "2021-11-19T21:30:07.836266",
     "status": "completed"
    },
    "tags": []
   },
   "outputs": [],
   "source": [
    "import pandas as pd\n",
    "import sqlite3"
   ]
  },
  {
   "cell_type": "code",
   "execution_count": 2,
   "id": "innovative-syndrome",
   "metadata": {
    "execution": {
     "iopub.execute_input": "2021-11-19T21:30:08.912173Z",
     "iopub.status.busy": "2021-11-19T21:30:08.909191Z",
     "iopub.status.idle": "2021-11-19T21:30:09.790841Z",
     "shell.execute_reply": "2021-11-19T21:30:09.792750Z"
    },
    "papermill": {
     "duration": 0.915286,
     "end_time": "2021-11-19T21:30:09.793248",
     "exception": false,
     "start_time": "2021-11-19T21:30:08.877962",
     "status": "completed"
    },
    "tags": []
   },
   "outputs": [],
   "source": [
    "timestamps = pd.read_sql(\"select distinct record_time from EBAY_TOP_BERLIN order by record_time desc limit 2\", sqlite3.connect(\"UsedObjects.db\"))"
   ]
  },
  {
   "cell_type": "code",
   "execution_count": 3,
   "id": "periodic-identification",
   "metadata": {
    "execution": {
     "iopub.execute_input": "2021-11-19T21:30:09.870639Z",
     "iopub.status.busy": "2021-11-19T21:30:09.864349Z",
     "iopub.status.idle": "2021-11-19T21:30:09.891498Z",
     "shell.execute_reply": "2021-11-19T21:30:09.893297Z"
    },
    "papermill": {
     "duration": 0.079908,
     "end_time": "2021-11-19T21:30:09.893838",
     "exception": false,
     "start_time": "2021-11-19T21:30:09.813930",
     "status": "completed"
    },
    "tags": []
   },
   "outputs": [
    {
     "data": {
      "text/html": [
       "<div>\n",
       "<style scoped>\n",
       "    .dataframe tbody tr th:only-of-type {\n",
       "        vertical-align: middle;\n",
       "    }\n",
       "\n",
       "    .dataframe tbody tr th {\n",
       "        vertical-align: top;\n",
       "    }\n",
       "\n",
       "    .dataframe thead th {\n",
       "        text-align: right;\n",
       "    }\n",
       "</style>\n",
       "<table border=\"1\" class=\"dataframe\">\n",
       "  <thead>\n",
       "    <tr style=\"text-align: right;\">\n",
       "      <th></th>\n",
       "      <th>RECORD_TIME</th>\n",
       "    </tr>\n",
       "  </thead>\n",
       "  <tbody>\n",
       "    <tr>\n",
       "      <th>0</th>\n",
       "      <td>2021-11-19 22:30</td>\n",
       "    </tr>\n",
       "    <tr>\n",
       "      <th>1</th>\n",
       "      <td>2021-11-19 22:00</td>\n",
       "    </tr>\n",
       "  </tbody>\n",
       "</table>\n",
       "</div>"
      ],
      "text/plain": [
       "        RECORD_TIME\n",
       "0  2021-11-19 22:30\n",
       "1  2021-11-19 22:00"
      ]
     },
     "execution_count": 3,
     "metadata": {},
     "output_type": "execute_result"
    }
   ],
   "source": [
    "timestamps"
   ]
  },
  {
   "cell_type": "code",
   "execution_count": 4,
   "id": "alternate-victory",
   "metadata": {
    "execution": {
     "iopub.execute_input": "2021-11-19T21:30:09.950545Z",
     "iopub.status.busy": "2021-11-19T21:30:09.948168Z",
     "iopub.status.idle": "2021-11-19T21:30:11.215699Z",
     "shell.execute_reply": "2021-11-19T21:30:11.219472Z"
    },
    "papermill": {
     "duration": 1.303644,
     "end_time": "2021-11-19T21:30:11.220275",
     "exception": false,
     "start_time": "2021-11-19T21:30:09.916631",
     "status": "completed"
    },
    "tags": []
   },
   "outputs": [],
   "source": [
    "df = pd.read_sql(\"select * from EBAY_TOP_BERLIN where record_time in (select distinct record_time from EBAY_TOP_BERLIN order by record_time desc limit 2)\", sqlite3.connect(\"UsedObjects.db\"))"
   ]
  },
  {
   "cell_type": "code",
   "execution_count": 5,
   "id": "popular-active",
   "metadata": {
    "execution": {
     "iopub.execute_input": "2021-11-19T21:30:11.295462Z",
     "iopub.status.busy": "2021-11-19T21:30:11.293048Z",
     "iopub.status.idle": "2021-11-19T21:30:11.327567Z",
     "shell.execute_reply": "2021-11-19T21:30:11.326000Z"
    },
    "papermill": {
     "duration": 0.077478,
     "end_time": "2021-11-19T21:30:11.328004",
     "exception": false,
     "start_time": "2021-11-19T21:30:11.250526",
     "status": "completed"
    },
    "tags": []
   },
   "outputs": [],
   "source": [
    "df_pivot = df.pivot_table(index=\"PRODUCT\", columns = \"RECORD_TIME\", values = \"LISTING_COUNT\")"
   ]
  },
  {
   "cell_type": "code",
   "execution_count": 6,
   "id": "union-huntington",
   "metadata": {
    "execution": {
     "iopub.execute_input": "2021-11-19T21:30:11.388924Z",
     "iopub.status.busy": "2021-11-19T21:30:11.386435Z",
     "iopub.status.idle": "2021-11-19T21:30:11.391767Z",
     "shell.execute_reply": "2021-11-19T21:30:11.393357Z"
    },
    "papermill": {
     "duration": 0.044397,
     "end_time": "2021-11-19T21:30:11.393836",
     "exception": false,
     "start_time": "2021-11-19T21:30:11.349439",
     "status": "completed"
    },
    "tags": []
   },
   "outputs": [],
   "source": [
    "df_pivot.columns = [\"stamp_1\", \"stamp_2\"]\n",
    "df_pivot_diff = df_pivot.diff(axis=1)"
   ]
  },
  {
   "cell_type": "code",
   "execution_count": 7,
   "id": "fifth-motion",
   "metadata": {
    "execution": {
     "iopub.execute_input": "2021-11-19T21:30:11.459587Z",
     "iopub.status.busy": "2021-11-19T21:30:11.448676Z",
     "iopub.status.idle": "2021-11-19T21:30:13.160664Z",
     "shell.execute_reply": "2021-11-19T21:30:13.161945Z"
    },
    "papermill": {
     "duration": 1.748614,
     "end_time": "2021-11-19T21:30:13.162385",
     "exception": false,
     "start_time": "2021-11-19T21:30:11.413771",
     "status": "completed"
    },
    "tags": []
   },
   "outputs": [
    {
     "data": {
      "text/plain": [
       "<AxesSubplot:ylabel='PRODUCT'>"
      ]
     },
     "execution_count": 7,
     "metadata": {},
     "output_type": "execute_result"
    },
    {
     "data": {
      "image/png": "[encoded data removed]",
      "text/plain": [
       "<Figure size 432x288 with 1 Axes>"
      ]
     },
     "metadata": {
      "needs_background": "light"
     },
     "output_type": "display_data"
    }
   ],
   "source": [
    "df_pivot_diff.sort_values(\"stamp_2\", ascending = False)[\"stamp_2\"].head(10).plot.barh()"
   ]
  },
  {
   "cell_type": "code",
   "execution_count": null,
   "id": "extra-executive",
   "metadata": {
    "papermill": {
     "duration": 0.022015,
     "end_time": "2021-11-19T21:30:13.208137",
     "exception": false,
     "start_time": "2021-11-19T21:30:13.186122",
     "status": "completed"
    },
    "tags": []
   },
   "outputs": [],
   "source": []
  }
 ],
 "metadata": {
  "kernelspec": {
   "display_name": "Python 3",
   "language": "python",
   "name": "python3"
  },
  "language_info": {
   "codemirror_mode": {
    "name": "ipython",
    "version": 3
   },
   "file_extension": ".py",
   "mimetype": "text/x-python",
   "name": "python",
   "nbconvert_exporter": "python",
   "pygments_lexer": "ipython3",
   "version": "3.9.5"
  },
  "papermill": {
   "default_parameters": {},
   "duration": 8.745523,
   "end_time": "2021-11-19T21:30:13.848384",
   "environment_variables": {},
   "exception": null,
   "input_path": "eBay_Overview.ipynb",
   "output_path": "eBay_Overview.ipynb",
   "parameters": {},
   "start_time": "2021-11-19T21:30:05.102861",
   "version": "2.3.3"
  }
 },
 "nbformat": 4,
 "nbformat_minor": 5
}