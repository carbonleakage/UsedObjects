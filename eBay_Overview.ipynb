{
 "cells": [
  {
   "cell_type": "code",
   "execution_count": 1,
   "id": "reverse-picking",
   "metadata": {
    "execution": {
     "iopub.execute_input": "2021-09-02T00:00:07.053660Z",
     "iopub.status.busy": "2021-09-02T00:00:07.051740Z",
     "iopub.status.idle": "2021-09-02T00:00:07.857118Z",
     "shell.execute_reply": "2021-09-02T00:00:07.858359Z"
    },
    "papermill": {
     "duration": 0.855021,
     "end_time": "2021-09-02T00:00:07.859038",
     "exception": false,
     "start_time": "2021-09-02T00:00:07.004017",
     "status": "completed"
    },
    "tags": []
   },
   "outputs": [],
   "source": [
    "import pandas as pd\n",
    "import sqlite3"
   ]
  },
  {
   "cell_type": "code",
   "execution_count": 2,
   "id": "innovative-syndrome",
   "metadata": {
    "execution": {
     "iopub.execute_input": "2021-09-02T00:00:07.910459Z",
     "iopub.status.busy": "2021-09-02T00:00:07.908612Z",
     "iopub.status.idle": "2021-09-02T00:00:08.095030Z",
     "shell.execute_reply": "2021-09-02T00:00:08.096256Z"
    },
    "papermill": {
     "duration": 0.215455,
     "end_time": "2021-09-02T00:00:08.096654",
     "exception": false,
     "start_time": "2021-09-02T00:00:07.881199",
     "status": "completed"
    },
    "tags": []
   },
   "outputs": [],
   "source": [
    "timestamps = pd.read_sql(\"select distinct record_time from EBAY_TOP_BERLIN order by record_time desc limit 2\", sqlite3.connect(\"UsedObjects.db\"))"
   ]
  },
  {
   "cell_type": "code",
   "execution_count": 3,
   "id": "periodic-identification",
   "metadata": {
    "execution": {
     "iopub.execute_input": "2021-09-02T00:00:08.161573Z",
     "iopub.status.busy": "2021-09-02T00:00:08.159584Z",
     "iopub.status.idle": "2021-09-02T00:00:08.178962Z",
     "shell.execute_reply": "2021-09-02T00:00:08.180323Z"
    },
    "papermill": {
     "duration": 0.063653,
     "end_time": "2021-09-02T00:00:08.180740",
     "exception": false,
     "start_time": "2021-09-02T00:00:08.117087",
     "status": "completed"
    },
    "tags": []
   },
   "outputs": [
    {
     "data": {
      "text/html": [
       "<div>\n",
       "<style scoped>\n",
       "    .dataframe tbody tr th:only-of-type {\n",
       "        vertical-align: middle;\n",
       "    }\n",
       "\n",
       "    .dataframe tbody tr th {\n",
       "        vertical-align: top;\n",
       "    }\n",
       "\n",
       "    .dataframe thead th {\n",
       "        text-align: right;\n",
       "    }\n",
       "</style>\n",
       "<table border=\"1\" class=\"dataframe\">\n",
       "  <thead>\n",
       "    <tr style=\"text-align: right;\">\n",
       "      <th></th>\n",
       "      <th>RECORD_TIME</th>\n",
       "    </tr>\n",
       "  </thead>\n",
       "  <tbody>\n",
       "    <tr>\n",
       "      <th>0</th>\n",
       "      <td>2021-09-02 02:00</td>\n",
       "    </tr>\n",
       "    <tr>\n",
       "      <th>1</th>\n",
       "      <td>2021-09-02 01:30</td>\n",
       "    </tr>\n",
       "  </tbody>\n",
       "</table>\n",
       "</div>"
      ],
      "text/plain": [
       "        RECORD_TIME\n",
       "0  2021-09-02 02:00\n",
       "1  2021-09-02 01:30"
      ]
     },
     "execution_count": 3,
     "metadata": {},
     "output_type": "execute_result"
    }
   ],
   "source": [
    "timestamps"
   ]
  },
  {
   "cell_type": "code",
   "execution_count": 4,
   "id": "alternate-victory",
   "metadata": {
    "execution": {
     "iopub.execute_input": "2021-09-02T00:00:08.232491Z",
     "iopub.status.busy": "2021-09-02T00:00:08.230443Z",
     "iopub.status.idle": "2021-09-02T00:00:08.506002Z",
     "shell.execute_reply": "2021-09-02T00:00:08.504712Z"
    },
    "papermill": {
     "duration": 0.303974,
     "end_time": "2021-09-02T00:00:08.506338",
     "exception": false,
     "start_time": "2021-09-02T00:00:08.202364",
     "status": "completed"
    },
    "tags": []
   },
   "outputs": [],
   "source": [
    "df = pd.read_sql(\"select * from EBAY_TOP_BERLIN where record_time in (select distinct record_time from EBAY_TOP_BERLIN order by record_time desc limit 2)\", sqlite3.connect(\"UsedObjects.db\"))"
   ]
  },
  {
   "cell_type": "code",
   "execution_count": 5,
   "id": "popular-active",
   "metadata": {
    "execution": {
     "iopub.execute_input": "2021-09-02T00:00:08.595868Z",
     "iopub.status.busy": "2021-09-02T00:00:08.584360Z",
     "iopub.status.idle": "2021-09-02T00:00:08.612842Z",
     "shell.execute_reply": "2021-09-02T00:00:08.614123Z"
    },
    "papermill": {
     "duration": 0.074304,
     "end_time": "2021-09-02T00:00:08.614539",
     "exception": false,
     "start_time": "2021-09-02T00:00:08.540235",
     "status": "completed"
    },
    "tags": []
   },
   "outputs": [],
   "source": [
    "df_pivot = df.pivot_table(index=\"PRODUCT\", columns = \"RECORD_TIME\", values = \"LISTING_COUNT\")"
   ]
  },
  {
   "cell_type": "code",
   "execution_count": 6,
   "id": "union-huntington",
   "metadata": {
    "execution": {
     "iopub.execute_input": "2021-09-02T00:00:08.670439Z",
     "iopub.status.busy": "2021-09-02T00:00:08.668405Z",
     "iopub.status.idle": "2021-09-02T00:00:08.674044Z",
     "shell.execute_reply": "2021-09-02T00:00:08.675288Z"
    },
    "papermill": {
     "duration": 0.041278,
     "end_time": "2021-09-02T00:00:08.675725",
     "exception": false,
     "start_time": "2021-09-02T00:00:08.634447",
     "status": "completed"
    },
    "tags": []
   },
   "outputs": [],
   "source": [
    "df_pivot.columns = [\"stamp_1\", \"stamp_2\"]\n",
    "df_pivot_diff = df_pivot.diff(axis=1)"
   ]
  },
  {
   "cell_type": "code",
   "execution_count": 7,
   "id": "fifth-motion",
   "metadata": {
    "execution": {
     "iopub.execute_input": "2021-09-02T00:00:08.729000Z",
     "iopub.status.busy": "2021-09-02T00:00:08.726585Z",
     "iopub.status.idle": "2021-09-02T00:00:10.219971Z",
     "shell.execute_reply": "2021-09-02T00:00:10.221358Z"
    },
    "papermill": {
     "duration": 1.525877,
     "end_time": "2021-09-02T00:00:10.221804",
     "exception": false,
     "start_time": "2021-09-02T00:00:08.695927",
     "status": "completed"
    },
    "tags": []
   },
   "outputs": [
    {
     "data": {
      "text/plain": [
       "<AxesSubplot:ylabel='PRODUCT'>"
      ]
     },
     "execution_count": 7,
     "metadata": {},
     "output_type": "execute_result"
    },
    {
     "data": {
      "image/png": "[encoded data removed]",
      "text/plain": [
       "<Figure size 432x288 with 1 Axes>"
      ]
     },
     "metadata": {
      "needs_background": "light"
     },
     "output_type": "display_data"
    }
   ],
   "source": [
    "df_pivot_diff.sort_values(\"stamp_2\", ascending = False)[\"stamp_2\"].head(10).plot.barh()"
   ]
  },
  {
   "cell_type": "code",
   "execution_count": null,
   "id": "extra-executive",
   "metadata": {
    "papermill": {
     "duration": 0.021889,
     "end_time": "2021-09-02T00:00:10.266772",
     "exception": false,
     "start_time": "2021-09-02T00:00:10.244883",
     "status": "completed"
    },
    "tags": []
   },
   "outputs": [],
   "source": []
  }
 ],
 "metadata": {
  "kernelspec": {
   "display_name": "Python 3",
   "language": "python",
   "name": "python3"
  },
  "language_info": {
   "codemirror_mode": {
    "name": "ipython",
    "version": 3
   },
   "file_extension": ".py",
   "mimetype": "text/x-python",
   "name": "python",
   "nbconvert_exporter": "python",
   "pygments_lexer": "ipython3",
   "version": "3.9.5"
  },
  "papermill": {
   "default_parameters": {},
   "duration": 6.818907,
   "end_time": "2021-09-02T00:00:11.424400",
   "environment_variables": {},
   "exception": null,
   "input_path": "eBay_Overview.ipynb",
   "output_path": "eBay_Overview.ipynb",
   "parameters": {},
   "start_time": "2021-09-02T00:00:04.605493",
   "version": "2.3.3"
  }
 },
 "nbformat": 4,
 "nbformat_minor": 5
}