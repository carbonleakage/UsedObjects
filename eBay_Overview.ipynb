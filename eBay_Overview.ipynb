{
 "cells": [
  {
   "cell_type": "code",
   "execution_count": 1,
   "id": "reverse-picking",
   "metadata": {
    "execution": {
     "iopub.execute_input": "2021-10-12T21:00:07.353048Z",
     "iopub.status.busy": "2021-10-12T21:00:07.351007Z",
     "iopub.status.idle": "2021-10-12T21:00:08.151686Z",
     "shell.execute_reply": "2021-10-12T21:00:08.153028Z"
    },
    "papermill": {
     "duration": 0.851373,
     "end_time": "2021-10-12T21:00:08.153696",
     "exception": false,
     "start_time": "2021-10-12T21:00:07.302323",
     "status": "completed"
    },
    "tags": []
   },
   "outputs": [],
   "source": [
    "import pandas as pd\n",
    "import sqlite3"
   ]
  },
  {
   "cell_type": "code",
   "execution_count": 2,
   "id": "innovative-syndrome",
   "metadata": {
    "execution": {
     "iopub.execute_input": "2021-10-12T21:00:08.205058Z",
     "iopub.status.busy": "2021-10-12T21:00:08.203011Z",
     "iopub.status.idle": "2021-10-12T21:00:08.725353Z",
     "shell.execute_reply": "2021-10-12T21:00:08.726819Z"
    },
    "papermill": {
     "duration": 0.552971,
     "end_time": "2021-10-12T21:00:08.727265",
     "exception": false,
     "start_time": "2021-10-12T21:00:08.174294",
     "status": "completed"
    },
    "tags": []
   },
   "outputs": [],
   "source": [
    "timestamps = pd.read_sql(\"select distinct record_time from EBAY_TOP_BERLIN order by record_time desc limit 2\", sqlite3.connect(\"UsedObjects.db\"))"
   ]
  },
  {
   "cell_type": "code",
   "execution_count": 3,
   "id": "periodic-identification",
   "metadata": {
    "execution": {
     "iopub.execute_input": "2021-10-12T21:00:08.795007Z",
     "iopub.status.busy": "2021-10-12T21:00:08.792875Z",
     "iopub.status.idle": "2021-10-12T21:00:08.812974Z",
     "shell.execute_reply": "2021-10-12T21:00:08.814203Z"
    },
    "papermill": {
     "duration": 0.067285,
     "end_time": "2021-10-12T21:00:08.814635",
     "exception": false,
     "start_time": "2021-10-12T21:00:08.747350",
     "status": "completed"
    },
    "tags": []
   },
   "outputs": [
    {
     "data": {
      "text/html": [
       "<div>\n",
       "<style scoped>\n",
       "    .dataframe tbody tr th:only-of-type {\n",
       "        vertical-align: middle;\n",
       "    }\n",
       "\n",
       "    .dataframe tbody tr th {\n",
       "        vertical-align: top;\n",
       "    }\n",
       "\n",
       "    .dataframe thead th {\n",
       "        text-align: right;\n",
       "    }\n",
       "</style>\n",
       "<table border=\"1\" class=\"dataframe\">\n",
       "  <thead>\n",
       "    <tr style=\"text-align: right;\">\n",
       "      <th></th>\n",
       "      <th>RECORD_TIME</th>\n",
       "    </tr>\n",
       "  </thead>\n",
       "  <tbody>\n",
       "    <tr>\n",
       "      <th>0</th>\n",
       "      <td>2021-10-12 23:00</td>\n",
       "    </tr>\n",
       "    <tr>\n",
       "      <th>1</th>\n",
       "      <td>2021-10-12 22:30</td>\n",
       "    </tr>\n",
       "  </tbody>\n",
       "</table>\n",
       "</div>"
      ],
      "text/plain": [
       "        RECORD_TIME\n",
       "0  2021-10-12 23:00\n",
       "1  2021-10-12 22:30"
      ]
     },
     "execution_count": 3,
     "metadata": {},
     "output_type": "execute_result"
    }
   ],
   "source": [
    "timestamps"
   ]
  },
  {
   "cell_type": "code",
   "execution_count": 4,
   "id": "alternate-victory",
   "metadata": {
    "execution": {
     "iopub.execute_input": "2021-10-12T21:00:08.881247Z",
     "iopub.status.busy": "2021-10-12T21:00:08.878805Z",
     "iopub.status.idle": "2021-10-12T21:00:09.661091Z",
     "shell.execute_reply": "2021-10-12T21:00:09.662454Z"
    },
    "papermill": {
     "duration": 0.817337,
     "end_time": "2021-10-12T21:00:09.662862",
     "exception": false,
     "start_time": "2021-10-12T21:00:08.845525",
     "status": "completed"
    },
    "tags": []
   },
   "outputs": [],
   "source": [
    "df = pd.read_sql(\"select * from EBAY_TOP_BERLIN where record_time in (select distinct record_time from EBAY_TOP_BERLIN order by record_time desc limit 2)\", sqlite3.connect(\"UsedObjects.db\"))"
   ]
  },
  {
   "cell_type": "code",
   "execution_count": 5,
   "id": "popular-active",
   "metadata": {
    "execution": {
     "iopub.execute_input": "2021-10-12T21:00:09.731722Z",
     "iopub.status.busy": "2021-10-12T21:00:09.720447Z",
     "iopub.status.idle": "2021-10-12T21:00:09.748064Z",
     "shell.execute_reply": "2021-10-12T21:00:09.749515Z"
    },
    "papermill": {
     "duration": 0.066595,
     "end_time": "2021-10-12T21:00:09.749963",
     "exception": false,
     "start_time": "2021-10-12T21:00:09.683368",
     "status": "completed"
    },
    "tags": []
   },
   "outputs": [],
   "source": [
    "df_pivot = df.pivot_table(index=\"PRODUCT\", columns = \"RECORD_TIME\", values = \"LISTING_COUNT\")"
   ]
  },
  {
   "cell_type": "code",
   "execution_count": 6,
   "id": "union-huntington",
   "metadata": {
    "execution": {
     "iopub.execute_input": "2021-10-12T21:00:09.806696Z",
     "iopub.status.busy": "2021-10-12T21:00:09.804551Z",
     "iopub.status.idle": "2021-10-12T21:00:09.809757Z",
     "shell.execute_reply": "2021-10-12T21:00:09.811044Z"
    },
    "papermill": {
     "duration": 0.040309,
     "end_time": "2021-10-12T21:00:09.811459",
     "exception": false,
     "start_time": "2021-10-12T21:00:09.771150",
     "status": "completed"
    },
    "tags": []
   },
   "outputs": [],
   "source": [
    "df_pivot.columns = [\"stamp_1\", \"stamp_2\"]\n",
    "df_pivot_diff = df_pivot.diff(axis=1)"
   ]
  },
  {
   "cell_type": "code",
   "execution_count": 7,
   "id": "fifth-motion",
   "metadata": {
    "execution": {
     "iopub.execute_input": "2021-10-12T21:00:09.867664Z",
     "iopub.status.busy": "2021-10-12T21:00:09.865054Z",
     "iopub.status.idle": "2021-10-12T21:00:11.326179Z",
     "shell.execute_reply": "2021-10-12T21:00:11.327511Z"
    },
    "papermill": {
     "duration": 1.494886,
     "end_time": "2021-10-12T21:00:11.327926",
     "exception": false,
     "start_time": "2021-10-12T21:00:09.833040",
     "status": "completed"
    },
    "tags": []
   },
   "outputs": [
    {
     "data": {
      "text/plain": [
       "<AxesSubplot:ylabel='PRODUCT'>"
      ]
     },
     "execution_count": 7,
     "metadata": {},
     "output_type": "execute_result"
    },
    {
     "data": {
      "image/png": "[encoded data removed]",
      "text/plain": [
       "<Figure size 432x288 with 1 Axes>"
      ]
     },
     "metadata": {
      "needs_background": "light"
     },
     "output_type": "display_data"
    }
   ],
   "source": [
    "df_pivot_diff.sort_values(\"stamp_2\", ascending = False)[\"stamp_2\"].head(10).plot.barh()"
   ]
  },
  {
   "cell_type": "code",
   "execution_count": null,
   "id": "extra-executive",
   "metadata": {
    "papermill": {
     "duration": 0.022485,
     "end_time": "2021-10-12T21:00:11.375043",
     "exception": false,
     "start_time": "2021-10-12T21:00:11.352558",
     "status": "completed"
    },
    "tags": []
   },
   "outputs": [],
   "source": []
  }
 ],
 "metadata": {
  "kernelspec": {
   "display_name": "Python 3",
   "language": "python",
   "name": "python3"
  },
  "language_info": {
   "codemirror_mode": {
    "name": "ipython",
    "version": 3
   },
   "file_extension": ".py",
   "mimetype": "text/x-python",
   "name": "python",
   "nbconvert_exporter": "python",
   "pygments_lexer": "ipython3",
   "version": "3.9.5"
  },
  "papermill": {
   "default_parameters": {},
   "duration": 7.821581,
   "end_time": "2021-10-12T21:00:12.720803",
   "environment_variables": {},
   "exception": null,
   "input_path": "eBay_Overview.ipynb",
   "output_path": "eBay_Overview.ipynb",
   "parameters": {},
   "start_time": "2021-10-12T21:00:04.899222",
   "version": "2.3.3"
  }
 },
 "nbformat": 4,
 "nbformat_minor": 5
}