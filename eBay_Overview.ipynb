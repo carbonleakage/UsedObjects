{
 "cells": [
  {
   "cell_type": "code",
   "execution_count": 1,
   "id": "reverse-picking",
   "metadata": {
    "execution": {
     "iopub.execute_input": "2021-10-26T12:30:06.530520Z",
     "iopub.status.busy": "2021-10-26T12:30:06.528468Z",
     "iopub.status.idle": "2021-10-26T12:30:07.333821Z",
     "shell.execute_reply": "2021-10-26T12:30:07.335109Z"
    },
    "papermill": {
     "duration": 0.856436,
     "end_time": "2021-10-26T12:30:07.335729",
     "exception": false,
     "start_time": "2021-10-26T12:30:06.479293",
     "status": "completed"
    },
    "tags": []
   },
   "outputs": [],
   "source": [
    "import pandas as pd\n",
    "import sqlite3"
   ]
  },
  {
   "cell_type": "code",
   "execution_count": 2,
   "id": "innovative-syndrome",
   "metadata": {
    "execution": {
     "iopub.execute_input": "2021-10-26T12:30:07.390082Z",
     "iopub.status.busy": "2021-10-26T12:30:07.387671Z",
     "iopub.status.idle": "2021-10-26T12:30:08.017009Z",
     "shell.execute_reply": "2021-10-26T12:30:08.018247Z"
    },
    "papermill": {
     "duration": 0.659608,
     "end_time": "2021-10-26T12:30:08.018640",
     "exception": false,
     "start_time": "2021-10-26T12:30:07.359032",
     "status": "completed"
    },
    "tags": []
   },
   "outputs": [],
   "source": [
    "timestamps = pd.read_sql(\"select distinct record_time from EBAY_TOP_BERLIN order by record_time desc limit 2\", sqlite3.connect(\"UsedObjects.db\"))"
   ]
  },
  {
   "cell_type": "code",
   "execution_count": 3,
   "id": "periodic-identification",
   "metadata": {
    "execution": {
     "iopub.execute_input": "2021-10-26T12:30:08.095330Z",
     "iopub.status.busy": "2021-10-26T12:30:08.093301Z",
     "iopub.status.idle": "2021-10-26T12:30:08.113145Z",
     "shell.execute_reply": "2021-10-26T12:30:08.114908Z"
    },
    "papermill": {
     "duration": 0.068443,
     "end_time": "2021-10-26T12:30:08.115436",
     "exception": false,
     "start_time": "2021-10-26T12:30:08.046993",
     "status": "completed"
    },
    "tags": []
   },
   "outputs": [
    {
     "data": {
      "text/html": [
       "<div>\n",
       "<style scoped>\n",
       "    .dataframe tbody tr th:only-of-type {\n",
       "        vertical-align: middle;\n",
       "    }\n",
       "\n",
       "    .dataframe tbody tr th {\n",
       "        vertical-align: top;\n",
       "    }\n",
       "\n",
       "    .dataframe thead th {\n",
       "        text-align: right;\n",
       "    }\n",
       "</style>\n",
       "<table border=\"1\" class=\"dataframe\">\n",
       "  <thead>\n",
       "    <tr style=\"text-align: right;\">\n",
       "      <th></th>\n",
       "      <th>RECORD_TIME</th>\n",
       "    </tr>\n",
       "  </thead>\n",
       "  <tbody>\n",
       "    <tr>\n",
       "      <th>0</th>\n",
       "      <td>2021-10-26 14:30</td>\n",
       "    </tr>\n",
       "    <tr>\n",
       "      <th>1</th>\n",
       "      <td>2021-10-26 14:00</td>\n",
       "    </tr>\n",
       "  </tbody>\n",
       "</table>\n",
       "</div>"
      ],
      "text/plain": [
       "        RECORD_TIME\n",
       "0  2021-10-26 14:30\n",
       "1  2021-10-26 14:00"
      ]
     },
     "execution_count": 3,
     "metadata": {},
     "output_type": "execute_result"
    }
   ],
   "source": [
    "timestamps"
   ]
  },
  {
   "cell_type": "code",
   "execution_count": 4,
   "id": "alternate-victory",
   "metadata": {
    "execution": {
     "iopub.execute_input": "2021-10-26T12:30:08.169079Z",
     "iopub.status.busy": "2021-10-26T12:30:08.167043Z",
     "iopub.status.idle": "2021-10-26T12:30:09.084409Z",
     "shell.execute_reply": "2021-10-26T12:30:09.086018Z"
    },
    "papermill": {
     "duration": 0.948263,
     "end_time": "2021-10-26T12:30:09.086559",
     "exception": false,
     "start_time": "2021-10-26T12:30:08.138296",
     "status": "completed"
    },
    "tags": []
   },
   "outputs": [],
   "source": [
    "df = pd.read_sql(\"select * from EBAY_TOP_BERLIN where record_time in (select distinct record_time from EBAY_TOP_BERLIN order by record_time desc limit 2)\", sqlite3.connect(\"UsedObjects.db\"))"
   ]
  },
  {
   "cell_type": "code",
   "execution_count": 5,
   "id": "popular-active",
   "metadata": {
    "execution": {
     "iopub.execute_input": "2021-10-26T12:30:09.158198Z",
     "iopub.status.busy": "2021-10-26T12:30:09.145984Z",
     "iopub.status.idle": "2021-10-26T12:30:09.173926Z",
     "shell.execute_reply": "2021-10-26T12:30:09.175154Z"
    },
    "papermill": {
     "duration": 0.068435,
     "end_time": "2021-10-26T12:30:09.175551",
     "exception": false,
     "start_time": "2021-10-26T12:30:09.107116",
     "status": "completed"
    },
    "tags": []
   },
   "outputs": [],
   "source": [
    "df_pivot = df.pivot_table(index=\"PRODUCT\", columns = \"RECORD_TIME\", values = \"LISTING_COUNT\")"
   ]
  },
  {
   "cell_type": "code",
   "execution_count": 6,
   "id": "union-huntington",
   "metadata": {
    "execution": {
     "iopub.execute_input": "2021-10-26T12:30:09.235991Z",
     "iopub.status.busy": "2021-10-26T12:30:09.233507Z",
     "iopub.status.idle": "2021-10-26T12:30:09.239626Z",
     "shell.execute_reply": "2021-10-26T12:30:09.241074Z"
    },
    "papermill": {
     "duration": 0.042837,
     "end_time": "2021-10-26T12:30:09.241557",
     "exception": false,
     "start_time": "2021-10-26T12:30:09.198720",
     "status": "completed"
    },
    "tags": []
   },
   "outputs": [],
   "source": [
    "df_pivot.columns = [\"stamp_1\", \"stamp_2\"]\n",
    "df_pivot_diff = df_pivot.diff(axis=1)"
   ]
  },
  {
   "cell_type": "code",
   "execution_count": 7,
   "id": "fifth-motion",
   "metadata": {
    "execution": {
     "iopub.execute_input": "2021-10-26T12:30:09.296531Z",
     "iopub.status.busy": "2021-10-26T12:30:09.294337Z",
     "iopub.status.idle": "2021-10-26T12:30:10.770691Z",
     "shell.execute_reply": "2021-10-26T12:30:10.772069Z"
    },
    "papermill": {
     "duration": 1.509091,
     "end_time": "2021-10-26T12:30:10.772497",
     "exception": false,
     "start_time": "2021-10-26T12:30:09.263406",
     "status": "completed"
    },
    "tags": []
   },
   "outputs": [
    {
     "data": {
      "text/plain": [
       "<AxesSubplot:ylabel='PRODUCT'>"
      ]
     },
     "execution_count": 7,
     "metadata": {},
     "output_type": "execute_result"
    },
    {
     "data": {
      "image/png": "[encoded data removed]",
      "text/plain": [
       "<Figure size 432x288 with 1 Axes>"
      ]
     },
     "metadata": {
      "needs_background": "light"
     },
     "output_type": "display_data"
    }
   ],
   "source": [
    "df_pivot_diff.sort_values(\"stamp_2\", ascending = False)[\"stamp_2\"].head(10).plot.barh()"
   ]
  },
  {
   "cell_type": "code",
   "execution_count": null,
   "id": "extra-executive",
   "metadata": {
    "papermill": {
     "duration": 0.022241,
     "end_time": "2021-10-26T12:30:10.819848",
     "exception": false,
     "start_time": "2021-10-26T12:30:10.797607",
     "status": "completed"
    },
    "tags": []
   },
   "outputs": [],
   "source": []
  }
 ],
 "metadata": {
  "kernelspec": {
   "display_name": "Python 3",
   "language": "python",
   "name": "python3"
  },
  "language_info": {
   "codemirror_mode": {
    "name": "ipython",
    "version": 3
   },
   "file_extension": ".py",
   "mimetype": "text/x-python",
   "name": "python",
   "nbconvert_exporter": "python",
   "pygments_lexer": "ipython3",
   "version": "3.9.5"
  },
  "papermill": {
   "default_parameters": {},
   "duration": 7.393972,
   "end_time": "2021-10-26T12:30:11.462555",
   "environment_variables": {},
   "exception": null,
   "input_path": "eBay_Overview.ipynb",
   "output_path": "eBay_Overview.ipynb",
   "parameters": {},
   "start_time": "2021-10-26T12:30:04.068583",
   "version": "2.3.3"
  }
 },
 "nbformat": 4,
 "nbformat_minor": 5
}