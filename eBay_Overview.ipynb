{
 "cells": [
  {
   "cell_type": "code",
   "execution_count": 1,
   "id": "reverse-picking",
   "metadata": {
    "execution": {
     "iopub.execute_input": "2021-09-29T07:30:25.652731Z",
     "iopub.status.busy": "2021-09-29T07:30:25.650708Z",
     "iopub.status.idle": "2021-09-29T07:30:26.456019Z",
     "shell.execute_reply": "2021-09-29T07:30:26.457320Z"
    },
    "papermill": {
     "duration": 0.857331,
     "end_time": "2021-09-29T07:30:26.457940",
     "exception": false,
     "start_time": "2021-09-29T07:30:25.600609",
     "status": "completed"
    },
    "tags": []
   },
   "outputs": [],
   "source": [
    "import pandas as pd\n",
    "import sqlite3"
   ]
  },
  {
   "cell_type": "code",
   "execution_count": 2,
   "id": "innovative-syndrome",
   "metadata": {
    "execution": {
     "iopub.execute_input": "2021-09-29T07:30:26.507508Z",
     "iopub.status.busy": "2021-09-29T07:30:26.505559Z",
     "iopub.status.idle": "2021-09-29T07:30:26.904874Z",
     "shell.execute_reply": "2021-09-29T07:30:26.906140Z"
    },
    "papermill": {
     "duration": 0.428632,
     "end_time": "2021-09-29T07:30:26.906549",
     "exception": false,
     "start_time": "2021-09-29T07:30:26.477917",
     "status": "completed"
    },
    "tags": []
   },
   "outputs": [],
   "source": [
    "timestamps = pd.read_sql(\"select distinct record_time from EBAY_TOP_BERLIN order by record_time desc limit 2\", sqlite3.connect(\"UsedObjects.db\"))"
   ]
  },
  {
   "cell_type": "code",
   "execution_count": 3,
   "id": "periodic-identification",
   "metadata": {
    "execution": {
     "iopub.execute_input": "2021-09-29T07:30:26.973185Z",
     "iopub.status.busy": "2021-09-29T07:30:26.971173Z",
     "iopub.status.idle": "2021-09-29T07:30:26.990985Z",
     "shell.execute_reply": "2021-09-29T07:30:26.992419Z"
    },
    "papermill": {
     "duration": 0.066887,
     "end_time": "2021-09-29T07:30:26.992851",
     "exception": false,
     "start_time": "2021-09-29T07:30:26.925964",
     "status": "completed"
    },
    "tags": []
   },
   "outputs": [
    {
     "data": {
      "text/html": [
       "<div>\n",
       "<style scoped>\n",
       "    .dataframe tbody tr th:only-of-type {\n",
       "        vertical-align: middle;\n",
       "    }\n",
       "\n",
       "    .dataframe tbody tr th {\n",
       "        vertical-align: top;\n",
       "    }\n",
       "\n",
       "    .dataframe thead th {\n",
       "        text-align: right;\n",
       "    }\n",
       "</style>\n",
       "<table border=\"1\" class=\"dataframe\">\n",
       "  <thead>\n",
       "    <tr style=\"text-align: right;\">\n",
       "      <th></th>\n",
       "      <th>RECORD_TIME</th>\n",
       "    </tr>\n",
       "  </thead>\n",
       "  <tbody>\n",
       "    <tr>\n",
       "      <th>0</th>\n",
       "      <td>2021-09-29 09:30</td>\n",
       "    </tr>\n",
       "    <tr>\n",
       "      <th>1</th>\n",
       "      <td>2021-09-29 09:00</td>\n",
       "    </tr>\n",
       "  </tbody>\n",
       "</table>\n",
       "</div>"
      ],
      "text/plain": [
       "        RECORD_TIME\n",
       "0  2021-09-29 09:30\n",
       "1  2021-09-29 09:00"
      ]
     },
     "execution_count": 3,
     "metadata": {},
     "output_type": "execute_result"
    }
   ],
   "source": [
    "timestamps"
   ]
  },
  {
   "cell_type": "code",
   "execution_count": 4,
   "id": "alternate-victory",
   "metadata": {
    "execution": {
     "iopub.execute_input": "2021-09-29T07:30:27.044995Z",
     "iopub.status.busy": "2021-09-29T07:30:27.042838Z",
     "iopub.status.idle": "2021-09-29T07:30:27.641293Z",
     "shell.execute_reply": "2021-09-29T07:30:27.642492Z"
    },
    "papermill": {
     "duration": 0.628323,
     "end_time": "2021-09-29T07:30:27.642939",
     "exception": false,
     "start_time": "2021-09-29T07:30:27.014616",
     "status": "completed"
    },
    "tags": []
   },
   "outputs": [],
   "source": [
    "df = pd.read_sql(\"select * from EBAY_TOP_BERLIN where record_time in (select distinct record_time from EBAY_TOP_BERLIN order by record_time desc limit 2)\", sqlite3.connect(\"UsedObjects.db\"))"
   ]
  },
  {
   "cell_type": "code",
   "execution_count": 5,
   "id": "popular-active",
   "metadata": {
    "execution": {
     "iopub.execute_input": "2021-09-29T07:30:27.726410Z",
     "iopub.status.busy": "2021-09-29T07:30:27.714668Z",
     "iopub.status.idle": "2021-09-29T07:30:27.742156Z",
     "shell.execute_reply": "2021-09-29T07:30:27.743529Z"
    },
    "papermill": {
     "duration": 0.072574,
     "end_time": "2021-09-29T07:30:27.743950",
     "exception": false,
     "start_time": "2021-09-29T07:30:27.671376",
     "status": "completed"
    },
    "tags": []
   },
   "outputs": [],
   "source": [
    "df_pivot = df.pivot_table(index=\"PRODUCT\", columns = \"RECORD_TIME\", values = \"LISTING_COUNT\")"
   ]
  },
  {
   "cell_type": "code",
   "execution_count": 6,
   "id": "union-huntington",
   "metadata": {
    "execution": {
     "iopub.execute_input": "2021-09-29T07:30:27.799900Z",
     "iopub.status.busy": "2021-09-29T07:30:27.797791Z",
     "iopub.status.idle": "2021-09-29T07:30:27.802965Z",
     "shell.execute_reply": "2021-09-29T07:30:27.804380Z"
    },
    "papermill": {
     "duration": 0.040092,
     "end_time": "2021-09-29T07:30:27.804811",
     "exception": false,
     "start_time": "2021-09-29T07:30:27.764719",
     "status": "completed"
    },
    "tags": []
   },
   "outputs": [],
   "source": [
    "df_pivot.columns = [\"stamp_1\", \"stamp_2\"]\n",
    "df_pivot_diff = df_pivot.diff(axis=1)"
   ]
  },
  {
   "cell_type": "code",
   "execution_count": 7,
   "id": "fifth-motion",
   "metadata": {
    "execution": {
     "iopub.execute_input": "2021-09-29T07:30:27.860105Z",
     "iopub.status.busy": "2021-09-29T07:30:27.857516Z",
     "iopub.status.idle": "2021-09-29T07:30:29.344680Z",
     "shell.execute_reply": "2021-09-29T07:30:29.345962Z"
    },
    "papermill": {
     "duration": 1.520284,
     "end_time": "2021-09-29T07:30:29.346384",
     "exception": false,
     "start_time": "2021-09-29T07:30:27.826100",
     "status": "completed"
    },
    "tags": []
   },
   "outputs": [
    {
     "data": {
      "text/plain": [
       "<AxesSubplot:ylabel='PRODUCT'>"
      ]
     },
     "execution_count": 7,
     "metadata": {},
     "output_type": "execute_result"
    },
    {
     "data": {
      "image/png": "[encoded data removed]",
      "text/plain": [
       "<Figure size 432x288 with 1 Axes>"
      ]
     },
     "metadata": {
      "needs_background": "light"
     },
     "output_type": "display_data"
    }
   ],
   "source": [
    "df_pivot_diff.sort_values(\"stamp_2\", ascending = False)[\"stamp_2\"].head(10).plot.barh()"
   ]
  },
  {
   "cell_type": "code",
   "execution_count": null,
   "id": "extra-executive",
   "metadata": {
    "papermill": {
     "duration": 0.02215,
     "end_time": "2021-09-29T07:30:29.393040",
     "exception": false,
     "start_time": "2021-09-29T07:30:29.370890",
     "status": "completed"
    },
    "tags": []
   },
   "outputs": [],
   "source": []
  }
 ],
 "metadata": {
  "kernelspec": {
   "display_name": "Python 3",
   "language": "python",
   "name": "python3"
  },
  "language_info": {
   "codemirror_mode": {
    "name": "ipython",
    "version": 3
   },
   "file_extension": ".py",
   "mimetype": "text/x-python",
   "name": "python",
   "nbconvert_exporter": "python",
   "pygments_lexer": "ipython3",
   "version": "3.9.5"
  },
  "papermill": {
   "default_parameters": {},
   "duration": 7.827976,
   "end_time": "2021-09-29T07:30:31.018379",
   "environment_variables": {},
   "exception": null,
   "input_path": "eBay_Overview.ipynb",
   "output_path": "eBay_Overview.ipynb",
   "parameters": {},
   "start_time": "2021-09-29T07:30:23.190403",
   "version": "2.3.3"
  }
 },
 "nbformat": 4,
 "nbformat_minor": 5
}