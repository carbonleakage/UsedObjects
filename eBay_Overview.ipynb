{
 "cells": [
  {
   "cell_type": "code",
   "execution_count": 1,
   "id": "reverse-picking",
   "metadata": {
    "execution": {
     "iopub.execute_input": "2021-12-11T16:30:07.632655Z",
     "iopub.status.busy": "2021-12-11T16:30:07.629272Z",
     "iopub.status.idle": "2021-12-11T16:30:08.589471Z",
     "shell.execute_reply": "2021-12-11T16:30:08.590986Z"
    },
    "papermill": {
     "duration": 1.007189,
     "end_time": "2021-12-11T16:30:08.591720",
     "exception": false,
     "start_time": "2021-12-11T16:30:07.584531",
     "status": "completed"
    },
    "tags": []
   },
   "outputs": [],
   "source": [
    "import pandas as pd\n",
    "import sqlite3"
   ]
  },
  {
   "cell_type": "code",
   "execution_count": 2,
   "id": "innovative-syndrome",
   "metadata": {
    "execution": {
     "iopub.execute_input": "2021-12-11T16:30:08.655671Z",
     "iopub.status.busy": "2021-12-11T16:30:08.653327Z",
     "iopub.status.idle": "2021-12-11T16:30:09.723461Z",
     "shell.execute_reply": "2021-12-11T16:30:09.725337Z"
    },
    "papermill": {
     "duration": 1.104862,
     "end_time": "2021-12-11T16:30:09.725844",
     "exception": false,
     "start_time": "2021-12-11T16:30:08.620982",
     "status": "completed"
    },
    "tags": []
   },
   "outputs": [],
   "source": [
    "timestamps = pd.read_sql(\"select distinct record_time from EBAY_TOP_BERLIN order by record_time desc limit 2\", sqlite3.connect(\"UsedObjects.db\"))"
   ]
  },
  {
   "cell_type": "code",
   "execution_count": 3,
   "id": "periodic-identification",
   "metadata": {
    "execution": {
     "iopub.execute_input": "2021-12-11T16:30:09.802147Z",
     "iopub.status.busy": "2021-12-11T16:30:09.799680Z",
     "iopub.status.idle": "2021-12-11T16:30:09.823229Z",
     "shell.execute_reply": "2021-12-11T16:30:09.821696Z"
    },
    "papermill": {
     "duration": 0.076969,
     "end_time": "2021-12-11T16:30:09.823658",
     "exception": false,
     "start_time": "2021-12-11T16:30:09.746689",
     "status": "completed"
    },
    "tags": []
   },
   "outputs": [
    {
     "data": {
      "text/html": [
       "<div>\n",
       "<style scoped>\n",
       "    .dataframe tbody tr th:only-of-type {\n",
       "        vertical-align: middle;\n",
       "    }\n",
       "\n",
       "    .dataframe tbody tr th {\n",
       "        vertical-align: top;\n",
       "    }\n",
       "\n",
       "    .dataframe thead th {\n",
       "        text-align: right;\n",
       "    }\n",
       "</style>\n",
       "<table border=\"1\" class=\"dataframe\">\n",
       "  <thead>\n",
       "    <tr style=\"text-align: right;\">\n",
       "      <th></th>\n",
       "      <th>RECORD_TIME</th>\n",
       "    </tr>\n",
       "  </thead>\n",
       "  <tbody>\n",
       "    <tr>\n",
       "      <th>0</th>\n",
       "      <td>2021-12-11 17:30</td>\n",
       "    </tr>\n",
       "    <tr>\n",
       "      <th>1</th>\n",
       "      <td>2021-12-11 17:00</td>\n",
       "    </tr>\n",
       "  </tbody>\n",
       "</table>\n",
       "</div>"
      ],
      "text/plain": [
       "        RECORD_TIME\n",
       "0  2021-12-11 17:30\n",
       "1  2021-12-11 17:00"
      ]
     },
     "execution_count": 3,
     "metadata": {},
     "output_type": "execute_result"
    }
   ],
   "source": [
    "timestamps"
   ]
  },
  {
   "cell_type": "code",
   "execution_count": 4,
   "id": "alternate-victory",
   "metadata": {
    "execution": {
     "iopub.execute_input": "2021-12-11T16:30:09.880065Z",
     "iopub.status.busy": "2021-12-11T16:30:09.877815Z",
     "iopub.status.idle": "2021-12-11T16:30:11.414373Z",
     "shell.execute_reply": "2021-12-11T16:30:11.416039Z"
    },
    "papermill": {
     "duration": 1.571393,
     "end_time": "2021-12-11T16:30:11.416522",
     "exception": false,
     "start_time": "2021-12-11T16:30:09.845129",
     "status": "completed"
    },
    "tags": []
   },
   "outputs": [],
   "source": [
    "df = pd.read_sql(\"select * from EBAY_TOP_BERLIN where record_time in (select distinct record_time from EBAY_TOP_BERLIN order by record_time desc limit 2)\", sqlite3.connect(\"UsedObjects.db\"))"
   ]
  },
  {
   "cell_type": "code",
   "execution_count": 5,
   "id": "popular-active",
   "metadata": {
    "execution": {
     "iopub.execute_input": "2021-12-11T16:30:11.494076Z",
     "iopub.status.busy": "2021-12-11T16:30:11.480108Z",
     "iopub.status.idle": "2021-12-11T16:30:11.511882Z",
     "shell.execute_reply": "2021-12-11T16:30:11.513473Z"
    },
    "papermill": {
     "duration": 0.074868,
     "end_time": "2021-12-11T16:30:11.513943",
     "exception": false,
     "start_time": "2021-12-11T16:30:11.439075",
     "status": "completed"
    },
    "tags": []
   },
   "outputs": [],
   "source": [
    "df_pivot = df.pivot_table(index=\"PRODUCT\", columns = \"RECORD_TIME\", values = \"LISTING_COUNT\")"
   ]
  },
  {
   "cell_type": "code",
   "execution_count": 6,
   "id": "union-huntington",
   "metadata": {
    "execution": {
     "iopub.execute_input": "2021-12-11T16:30:11.573492Z",
     "iopub.status.busy": "2021-12-11T16:30:11.570884Z",
     "iopub.status.idle": "2021-12-11T16:30:11.581033Z",
     "shell.execute_reply": "2021-12-11T16:30:11.582688Z"
    },
    "papermill": {
     "duration": 0.049259,
     "end_time": "2021-12-11T16:30:11.583227",
     "exception": false,
     "start_time": "2021-12-11T16:30:11.533968",
     "status": "completed"
    },
    "tags": []
   },
   "outputs": [],
   "source": [
    "df_pivot.columns = [\"stamp_1\", \"stamp_2\"]\n",
    "df_pivot_diff = df_pivot.diff(axis=1)"
   ]
  },
  {
   "cell_type": "code",
   "execution_count": 7,
   "id": "fifth-motion",
   "metadata": {
    "execution": {
     "iopub.execute_input": "2021-12-11T16:30:11.652557Z",
     "iopub.status.busy": "2021-12-11T16:30:11.650120Z",
     "iopub.status.idle": "2021-12-11T16:30:13.632224Z",
     "shell.execute_reply": "2021-12-11T16:30:13.634118Z"
    },
    "papermill": {
     "duration": 2.027982,
     "end_time": "2021-12-11T16:30:13.634677",
     "exception": false,
     "start_time": "2021-12-11T16:30:11.606695",
     "status": "completed"
    },
    "tags": []
   },
   "outputs": [
    {
     "data": {
      "text/plain": [
       "<AxesSubplot:ylabel='PRODUCT'>"
      ]
     },
     "execution_count": 7,
     "metadata": {},
     "output_type": "execute_result"
    },
    {
     "data": {
      "image/png": "[encoded data removed]",
      "text/plain": [
       "<Figure size 432x288 with 1 Axes>"
      ]
     },
     "metadata": {
      "needs_background": "light"
     },
     "output_type": "display_data"
    }
   ],
   "source": [
    "df_pivot_diff.sort_values(\"stamp_2\", ascending = False)[\"stamp_2\"].head(10).plot.barh()"
   ]
  },
  {
   "cell_type": "code",
   "execution_count": null,
   "id": "extra-executive",
   "metadata": {
    "papermill": {
     "duration": 0.031275,
     "end_time": "2021-12-11T16:30:13.699510",
     "exception": false,
     "start_time": "2021-12-11T16:30:13.668235",
     "status": "completed"
    },
    "tags": []
   },
   "outputs": [],
   "source": []
  }
 ],
 "metadata": {
  "kernelspec": {
   "display_name": "Python 3",
   "language": "python",
   "name": "python3"
  },
  "language_info": {
   "codemirror_mode": {
    "name": "ipython",
    "version": 3
   },
   "file_extension": ".py",
   "mimetype": "text/x-python",
   "name": "python",
   "nbconvert_exporter": "python",
   "pygments_lexer": "ipython3",
   "version": "3.9.5"
  },
  "papermill": {
   "default_parameters": {},
   "duration": 9.633165,
   "end_time": "2021-12-11T16:30:14.470023",
   "environment_variables": {},
   "exception": null,
   "input_path": "eBay_Overview.ipynb",
   "output_path": "eBay_Overview.ipynb",
   "parameters": {},
   "start_time": "2021-12-11T16:30:04.836858",
   "version": "2.3.3"
  }
 },
 "nbformat": 4,
 "nbformat_minor": 5
}