{
 "cells": [
  {
   "cell_type": "code",
   "execution_count": 1,
   "id": "reverse-picking",
   "metadata": {
    "execution": {
     "iopub.execute_input": "2021-12-13T22:00:07.445726Z",
     "iopub.status.busy": "2021-12-13T22:00:07.443462Z",
     "iopub.status.idle": "2021-12-13T22:00:08.408224Z",
     "shell.execute_reply": "2021-12-13T22:00:08.410358Z"
    },
    "papermill": {
     "duration": 1.012141,
     "end_time": "2021-12-13T22:00:08.411157",
     "exception": false,
     "start_time": "2021-12-13T22:00:07.399016",
     "status": "completed"
    },
    "tags": []
   },
   "outputs": [],
   "source": [
    "import pandas as pd\n",
    "import sqlite3"
   ]
  },
  {
   "cell_type": "code",
   "execution_count": 2,
   "id": "innovative-syndrome",
   "metadata": {
    "execution": {
     "iopub.execute_input": "2021-12-13T22:00:08.473894Z",
     "iopub.status.busy": "2021-12-13T22:00:08.471309Z",
     "iopub.status.idle": "2021-12-13T22:00:09.535203Z",
     "shell.execute_reply": "2021-12-13T22:00:09.536828Z"
    },
    "papermill": {
     "duration": 1.097938,
     "end_time": "2021-12-13T22:00:09.537336",
     "exception": false,
     "start_time": "2021-12-13T22:00:08.439398",
     "status": "completed"
    },
    "tags": []
   },
   "outputs": [],
   "source": [
    "timestamps = pd.read_sql(\"select distinct record_time from EBAY_TOP_BERLIN order by record_time desc limit 2\", sqlite3.connect(\"UsedObjects.db\"))"
   ]
  },
  {
   "cell_type": "code",
   "execution_count": 3,
   "id": "periodic-identification",
   "metadata": {
    "execution": {
     "iopub.execute_input": "2021-12-13T22:00:09.614328Z",
     "iopub.status.busy": "2021-12-13T22:00:09.609798Z",
     "iopub.status.idle": "2021-12-13T22:00:09.634374Z",
     "shell.execute_reply": "2021-12-13T22:00:09.635760Z"
    },
    "papermill": {
     "duration": 0.078902,
     "end_time": "2021-12-13T22:00:09.636239",
     "exception": false,
     "start_time": "2021-12-13T22:00:09.557337",
     "status": "completed"
    },
    "tags": []
   },
   "outputs": [
    {
     "data": {
      "text/html": [
       "<div>\n",
       "<style scoped>\n",
       "    .dataframe tbody tr th:only-of-type {\n",
       "        vertical-align: middle;\n",
       "    }\n",
       "\n",
       "    .dataframe tbody tr th {\n",
       "        vertical-align: top;\n",
       "    }\n",
       "\n",
       "    .dataframe thead th {\n",
       "        text-align: right;\n",
       "    }\n",
       "</style>\n",
       "<table border=\"1\" class=\"dataframe\">\n",
       "  <thead>\n",
       "    <tr style=\"text-align: right;\">\n",
       "      <th></th>\n",
       "      <th>RECORD_TIME</th>\n",
       "    </tr>\n",
       "  </thead>\n",
       "  <tbody>\n",
       "    <tr>\n",
       "      <th>0</th>\n",
       "      <td>2021-12-13 23:00</td>\n",
       "    </tr>\n",
       "    <tr>\n",
       "      <th>1</th>\n",
       "      <td>2021-12-13 22:30</td>\n",
       "    </tr>\n",
       "  </tbody>\n",
       "</table>\n",
       "</div>"
      ],
      "text/plain": [
       "        RECORD_TIME\n",
       "0  2021-12-13 23:00\n",
       "1  2021-12-13 22:30"
      ]
     },
     "execution_count": 3,
     "metadata": {},
     "output_type": "execute_result"
    }
   ],
   "source": [
    "timestamps"
   ]
  },
  {
   "cell_type": "code",
   "execution_count": 4,
   "id": "alternate-victory",
   "metadata": {
    "execution": {
     "iopub.execute_input": "2021-12-13T22:00:09.691195Z",
     "iopub.status.busy": "2021-12-13T22:00:09.689162Z",
     "iopub.status.idle": "2021-12-13T22:00:11.234173Z",
     "shell.execute_reply": "2021-12-13T22:00:11.235639Z"
    },
    "papermill": {
     "duration": 1.578668,
     "end_time": "2021-12-13T22:00:11.236103",
     "exception": false,
     "start_time": "2021-12-13T22:00:09.657435",
     "status": "completed"
    },
    "tags": []
   },
   "outputs": [],
   "source": [
    "df = pd.read_sql(\"select * from EBAY_TOP_BERLIN where record_time in (select distinct record_time from EBAY_TOP_BERLIN order by record_time desc limit 2)\", sqlite3.connect(\"UsedObjects.db\"))"
   ]
  },
  {
   "cell_type": "code",
   "execution_count": 5,
   "id": "popular-active",
   "metadata": {
    "execution": {
     "iopub.execute_input": "2021-12-13T22:00:11.306717Z",
     "iopub.status.busy": "2021-12-13T22:00:11.298748Z",
     "iopub.status.idle": "2021-12-13T22:00:11.333968Z",
     "shell.execute_reply": "2021-12-13T22:00:11.335481Z"
    },
    "papermill": {
     "duration": 0.079092,
     "end_time": "2021-12-13T22:00:11.335989",
     "exception": false,
     "start_time": "2021-12-13T22:00:11.256897",
     "status": "completed"
    },
    "tags": []
   },
   "outputs": [],
   "source": [
    "df_pivot = df.pivot_table(index=\"PRODUCT\", columns = \"RECORD_TIME\", values = \"LISTING_COUNT\")"
   ]
  },
  {
   "cell_type": "code",
   "execution_count": 6,
   "id": "union-huntington",
   "metadata": {
    "execution": {
     "iopub.execute_input": "2021-12-13T22:00:11.390131Z",
     "iopub.status.busy": "2021-12-13T22:00:11.387111Z",
     "iopub.status.idle": "2021-12-13T22:00:11.407235Z",
     "shell.execute_reply": "2021-12-13T22:00:11.408968Z"
    },
    "papermill": {
     "duration": 0.051763,
     "end_time": "2021-12-13T22:00:11.409562",
     "exception": false,
     "start_time": "2021-12-13T22:00:11.357799",
     "status": "completed"
    },
    "tags": []
   },
   "outputs": [],
   "source": [
    "df_pivot.columns = [\"stamp_1\", \"stamp_2\"]\n",
    "df_pivot_diff = df_pivot.diff(axis=1)"
   ]
  },
  {
   "cell_type": "code",
   "execution_count": 7,
   "id": "fifth-motion",
   "metadata": {
    "execution": {
     "iopub.execute_input": "2021-12-13T22:00:11.471686Z",
     "iopub.status.busy": "2021-12-13T22:00:11.469174Z",
     "iopub.status.idle": "2021-12-13T22:00:13.491357Z",
     "shell.execute_reply": "2021-12-13T22:00:13.493697Z"
    },
    "papermill": {
     "duration": 2.061699,
     "end_time": "2021-12-13T22:00:13.494445",
     "exception": false,
     "start_time": "2021-12-13T22:00:11.432746",
     "status": "completed"
    },
    "tags": []
   },
   "outputs": [
    {
     "data": {
      "text/plain": [
       "<AxesSubplot:ylabel='PRODUCT'>"
      ]
     },
     "execution_count": 7,
     "metadata": {},
     "output_type": "execute_result"
    },
    {
     "data": {
      "image/png": "[encoded data removed]",
      "text/plain": [
       "<Figure size 432x288 with 1 Axes>"
      ]
     },
     "metadata": {
      "needs_background": "light"
     },
     "output_type": "display_data"
    }
   ],
   "source": [
    "df_pivot_diff.sort_values(\"stamp_2\", ascending = False)[\"stamp_2\"].head(10).plot.barh()"
   ]
  },
  {
   "cell_type": "code",
   "execution_count": null,
   "id": "extra-executive",
   "metadata": {
    "papermill": {
     "duration": 0.058531,
     "end_time": "2021-12-13T22:00:13.595190",
     "exception": false,
     "start_time": "2021-12-13T22:00:13.536659",
     "status": "completed"
    },
    "tags": []
   },
   "outputs": [],
   "source": []
  }
 ],
 "metadata": {
  "kernelspec": {
   "display_name": "Python 3",
   "language": "python",
   "name": "python3"
  },
  "language_info": {
   "codemirror_mode": {
    "name": "ipython",
    "version": 3
   },
   "file_extension": ".py",
   "mimetype": "text/x-python",
   "name": "python",
   "nbconvert_exporter": "python",
   "pygments_lexer": "ipython3",
   "version": "3.9.5"
  },
  "papermill": {
   "default_parameters": {},
   "duration": 9.628569,
   "end_time": "2021-12-13T22:00:14.250566",
   "environment_variables": {},
   "exception": null,
   "input_path": "eBay_Overview.ipynb",
   "output_path": "eBay_Overview.ipynb",
   "parameters": {},
   "start_time": "2021-12-13T22:00:04.621997",
   "version": "2.3.3"
  }
 },
 "nbformat": 4,
 "nbformat_minor": 5
}