{
 "cells": [
  {
   "cell_type": "code",
   "execution_count": 1,
   "id": "reverse-picking",
   "metadata": {
    "execution": {
     "iopub.execute_input": "2021-08-24T21:00:07.678953Z",
     "iopub.status.busy": "2021-08-24T21:00:07.676823Z",
     "iopub.status.idle": "2021-08-24T21:00:08.486183Z",
     "shell.execute_reply": "2021-08-24T21:00:08.487641Z"
    },
    "papermill": {
     "duration": 0.860292,
     "end_time": "2021-08-24T21:00:08.488312",
     "exception": false,
     "start_time": "2021-08-24T21:00:07.628020",
     "status": "completed"
    },
    "tags": []
   },
   "outputs": [],
   "source": [
    "import pandas as pd\n",
    "import sqlite3"
   ]
  },
  {
   "cell_type": "code",
   "execution_count": 2,
   "id": "innovative-syndrome",
   "metadata": {
    "execution": {
     "iopub.execute_input": "2021-08-24T21:00:08.539820Z",
     "iopub.status.busy": "2021-08-24T21:00:08.537408Z",
     "iopub.status.idle": "2021-08-24T21:00:08.660883Z",
     "shell.execute_reply": "2021-08-24T21:00:08.662180Z"
    },
    "papermill": {
     "duration": 0.153698,
     "end_time": "2021-08-24T21:00:08.662626",
     "exception": false,
     "start_time": "2021-08-24T21:00:08.508928",
     "status": "completed"
    },
    "tags": []
   },
   "outputs": [],
   "source": [
    "timestamps = pd.read_sql(\"select distinct record_time from EBAY_TOP_BERLIN order by record_time desc limit 2\", sqlite3.connect(\"UsedObjects.db\"))"
   ]
  },
  {
   "cell_type": "code",
   "execution_count": 3,
   "id": "periodic-identification",
   "metadata": {
    "execution": {
     "iopub.execute_input": "2021-08-24T21:00:08.726203Z",
     "iopub.status.busy": "2021-08-24T21:00:08.724101Z",
     "iopub.status.idle": "2021-08-24T21:00:08.744122Z",
     "shell.execute_reply": "2021-08-24T21:00:08.745350Z"
    },
    "papermill": {
     "duration": 0.063592,
     "end_time": "2021-08-24T21:00:08.745745",
     "exception": false,
     "start_time": "2021-08-24T21:00:08.682153",
     "status": "completed"
    },
    "tags": []
   },
   "outputs": [
    {
     "data": {
      "text/html": [
       "<div>\n",
       "<style scoped>\n",
       "    .dataframe tbody tr th:only-of-type {\n",
       "        vertical-align: middle;\n",
       "    }\n",
       "\n",
       "    .dataframe tbody tr th {\n",
       "        vertical-align: top;\n",
       "    }\n",
       "\n",
       "    .dataframe thead th {\n",
       "        text-align: right;\n",
       "    }\n",
       "</style>\n",
       "<table border=\"1\" class=\"dataframe\">\n",
       "  <thead>\n",
       "    <tr style=\"text-align: right;\">\n",
       "      <th></th>\n",
       "      <th>RECORD_TIME</th>\n",
       "    </tr>\n",
       "  </thead>\n",
       "  <tbody>\n",
       "    <tr>\n",
       "      <th>0</th>\n",
       "      <td>2021-08-24 23:00</td>\n",
       "    </tr>\n",
       "    <tr>\n",
       "      <th>1</th>\n",
       "      <td>2021-08-24 22:30</td>\n",
       "    </tr>\n",
       "  </tbody>\n",
       "</table>\n",
       "</div>"
      ],
      "text/plain": [
       "        RECORD_TIME\n",
       "0  2021-08-24 23:00\n",
       "1  2021-08-24 22:30"
      ]
     },
     "execution_count": 3,
     "metadata": {},
     "output_type": "execute_result"
    }
   ],
   "source": [
    "timestamps"
   ]
  },
  {
   "cell_type": "code",
   "execution_count": 4,
   "id": "alternate-victory",
   "metadata": {
    "execution": {
     "iopub.execute_input": "2021-08-24T21:00:08.798648Z",
     "iopub.status.busy": "2021-08-24T21:00:08.796285Z",
     "iopub.status.idle": "2021-08-24T21:00:08.978433Z",
     "shell.execute_reply": "2021-08-24T21:00:08.979788Z"
    },
    "papermill": {
     "duration": 0.212609,
     "end_time": "2021-08-24T21:00:08.980189",
     "exception": false,
     "start_time": "2021-08-24T21:00:08.767580",
     "status": "completed"
    },
    "tags": []
   },
   "outputs": [],
   "source": [
    "df = pd.read_sql(\"select * from EBAY_TOP_BERLIN where record_time in (select distinct record_time from EBAY_TOP_BERLIN order by record_time desc limit 2)\", sqlite3.connect(\"UsedObjects.db\"))"
   ]
  },
  {
   "cell_type": "code",
   "execution_count": 5,
   "id": "popular-active",
   "metadata": {
    "execution": {
     "iopub.execute_input": "2021-08-24T21:00:09.050618Z",
     "iopub.status.busy": "2021-08-24T21:00:09.039315Z",
     "iopub.status.idle": "2021-08-24T21:00:09.066601Z",
     "shell.execute_reply": "2021-08-24T21:00:09.068028Z"
    },
    "papermill": {
     "duration": 0.067947,
     "end_time": "2021-08-24T21:00:09.068464",
     "exception": false,
     "start_time": "2021-08-24T21:00:09.000517",
     "status": "completed"
    },
    "tags": []
   },
   "outputs": [],
   "source": [
    "df_pivot = df.pivot_table(index=\"PRODUCT\", columns = \"RECORD_TIME\", values = \"LISTING_COUNT\")"
   ]
  },
  {
   "cell_type": "code",
   "execution_count": 6,
   "id": "union-huntington",
   "metadata": {
    "execution": {
     "iopub.execute_input": "2021-08-24T21:00:09.151266Z",
     "iopub.status.busy": "2021-08-24T21:00:09.148761Z",
     "iopub.status.idle": "2021-08-24T21:00:09.154451Z",
     "shell.execute_reply": "2021-08-24T21:00:09.155754Z"
    },
    "papermill": {
     "duration": 0.049336,
     "end_time": "2021-08-24T21:00:09.156167",
     "exception": false,
     "start_time": "2021-08-24T21:00:09.106831",
     "status": "completed"
    },
    "tags": []
   },
   "outputs": [],
   "source": [
    "df_pivot.columns = [\"stamp_1\", \"stamp_2\"]\n",
    "df_pivot_diff = df_pivot.diff(axis=1)"
   ]
  },
  {
   "cell_type": "code",
   "execution_count": 7,
   "id": "fifth-motion",
   "metadata": {
    "execution": {
     "iopub.execute_input": "2021-08-24T21:00:09.209146Z",
     "iopub.status.busy": "2021-08-24T21:00:09.206969Z",
     "iopub.status.idle": "2021-08-24T21:00:10.683916Z",
     "shell.execute_reply": "2021-08-24T21:00:10.685303Z"
    },
    "papermill": {
     "duration": 1.509474,
     "end_time": "2021-08-24T21:00:10.685739",
     "exception": false,
     "start_time": "2021-08-24T21:00:09.176265",
     "status": "completed"
    },
    "tags": []
   },
   "outputs": [
    {
     "data": {
      "text/plain": [
       "<AxesSubplot:ylabel='PRODUCT'>"
      ]
     },
     "execution_count": 7,
     "metadata": {},
     "output_type": "execute_result"
    },
    {
     "data": {
      "image/png": "[encoded data removed]",
      "text/plain": [
       "<Figure size 432x288 with 1 Axes>"
      ]
     },
     "metadata": {
      "needs_background": "light"
     },
     "output_type": "display_data"
    }
   ],
   "source": [
    "df_pivot_diff.sort_values(\"stamp_2\", ascending = False)[\"stamp_2\"].head(10).plot.barh()"
   ]
  },
  {
   "cell_type": "code",
   "execution_count": null,
   "id": "extra-executive",
   "metadata": {
    "papermill": {
     "duration": 0.022098,
     "end_time": "2021-08-24T21:00:10.731854",
     "exception": false,
     "start_time": "2021-08-24T21:00:10.709756",
     "status": "completed"
    },
    "tags": []
   },
   "outputs": [],
   "source": []
  }
 ],
 "metadata": {
  "kernelspec": {
   "display_name": "Python 3",
   "language": "python",
   "name": "python3"
  },
  "language_info": {
   "codemirror_mode": {
    "name": "ipython",
    "version": 3
   },
   "file_extension": ".py",
   "mimetype": "text/x-python",
   "name": "python",
   "nbconvert_exporter": "python",
   "pygments_lexer": "ipython3",
   "version": "3.9.5"
  },
  "papermill": {
   "default_parameters": {},
   "duration": 6.827782,
   "end_time": "2021-08-24T21:00:12.039711",
   "environment_variables": {},
   "exception": null,
   "input_path": "eBay_Overview.ipynb",
   "output_path": "eBay_Overview.ipynb",
   "parameters": {},
   "start_time": "2021-08-24T21:00:05.211929",
   "version": "2.3.3"
  }
 },
 "nbformat": 4,
 "nbformat_minor": 5
}