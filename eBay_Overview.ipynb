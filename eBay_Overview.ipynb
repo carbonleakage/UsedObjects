{
 "cells": [
  {
   "cell_type": "code",
   "execution_count": 1,
   "id": "reverse-picking",
   "metadata": {
    "execution": {
     "iopub.execute_input": "2021-09-27T22:00:06.660796Z",
     "iopub.status.busy": "2021-09-27T22:00:06.658721Z",
     "iopub.status.idle": "2021-09-27T22:00:07.465426Z",
     "shell.execute_reply": "2021-09-27T22:00:07.466680Z"
    },
    "papermill": {
     "duration": 0.85856,
     "end_time": "2021-09-27T22:00:07.467350",
     "exception": false,
     "start_time": "2021-09-27T22:00:06.608790",
     "status": "completed"
    },
    "tags": []
   },
   "outputs": [],
   "source": [
    "import pandas as pd\n",
    "import sqlite3"
   ]
  },
  {
   "cell_type": "code",
   "execution_count": 2,
   "id": "innovative-syndrome",
   "metadata": {
    "execution": {
     "iopub.execute_input": "2021-09-27T22:00:07.518533Z",
     "iopub.status.busy": "2021-09-27T22:00:07.516661Z",
     "iopub.status.idle": "2021-09-27T22:00:07.915303Z",
     "shell.execute_reply": "2021-09-27T22:00:07.916788Z"
    },
    "papermill": {
     "duration": 0.428876,
     "end_time": "2021-09-27T22:00:07.917230",
     "exception": false,
     "start_time": "2021-09-27T22:00:07.488354",
     "status": "completed"
    },
    "tags": []
   },
   "outputs": [],
   "source": [
    "timestamps = pd.read_sql(\"select distinct record_time from EBAY_TOP_BERLIN order by record_time desc limit 2\", sqlite3.connect(\"UsedObjects.db\"))"
   ]
  },
  {
   "cell_type": "code",
   "execution_count": 3,
   "id": "periodic-identification",
   "metadata": {
    "execution": {
     "iopub.execute_input": "2021-09-27T22:00:07.984450Z",
     "iopub.status.busy": "2021-09-27T22:00:07.982337Z",
     "iopub.status.idle": "2021-09-27T22:00:08.002922Z",
     "shell.execute_reply": "2021-09-27T22:00:08.004299Z"
    },
    "papermill": {
     "duration": 0.067585,
     "end_time": "2021-09-27T22:00:08.004723",
     "exception": false,
     "start_time": "2021-09-27T22:00:07.937138",
     "status": "completed"
    },
    "tags": []
   },
   "outputs": [
    {
     "data": {
      "text/html": [
       "<div>\n",
       "<style scoped>\n",
       "    .dataframe tbody tr th:only-of-type {\n",
       "        vertical-align: middle;\n",
       "    }\n",
       "\n",
       "    .dataframe tbody tr th {\n",
       "        vertical-align: top;\n",
       "    }\n",
       "\n",
       "    .dataframe thead th {\n",
       "        text-align: right;\n",
       "    }\n",
       "</style>\n",
       "<table border=\"1\" class=\"dataframe\">\n",
       "  <thead>\n",
       "    <tr style=\"text-align: right;\">\n",
       "      <th></th>\n",
       "      <th>RECORD_TIME</th>\n",
       "    </tr>\n",
       "  </thead>\n",
       "  <tbody>\n",
       "    <tr>\n",
       "      <th>0</th>\n",
       "      <td>2021-09-28 00:00</td>\n",
       "    </tr>\n",
       "    <tr>\n",
       "      <th>1</th>\n",
       "      <td>2021-09-27 23:30</td>\n",
       "    </tr>\n",
       "  </tbody>\n",
       "</table>\n",
       "</div>"
      ],
      "text/plain": [
       "        RECORD_TIME\n",
       "0  2021-09-28 00:00\n",
       "1  2021-09-27 23:30"
      ]
     },
     "execution_count": 3,
     "metadata": {},
     "output_type": "execute_result"
    }
   ],
   "source": [
    "timestamps"
   ]
  },
  {
   "cell_type": "code",
   "execution_count": 4,
   "id": "alternate-victory",
   "metadata": {
    "execution": {
     "iopub.execute_input": "2021-09-27T22:00:08.057167Z",
     "iopub.status.busy": "2021-09-27T22:00:08.055110Z",
     "iopub.status.idle": "2021-09-27T22:00:08.632195Z",
     "shell.execute_reply": "2021-09-27T22:00:08.633463Z"
    },
    "papermill": {
     "duration": 0.607788,
     "end_time": "2021-09-27T22:00:08.633860",
     "exception": false,
     "start_time": "2021-09-27T22:00:08.026072",
     "status": "completed"
    },
    "tags": []
   },
   "outputs": [],
   "source": [
    "df = pd.read_sql(\"select * from EBAY_TOP_BERLIN where record_time in (select distinct record_time from EBAY_TOP_BERLIN order by record_time desc limit 2)\", sqlite3.connect(\"UsedObjects.db\"))"
   ]
  },
  {
   "cell_type": "code",
   "execution_count": 5,
   "id": "popular-active",
   "metadata": {
    "execution": {
     "iopub.execute_input": "2021-09-27T22:00:08.724223Z",
     "iopub.status.busy": "2021-09-27T22:00:08.711353Z",
     "iopub.status.idle": "2021-09-27T22:00:08.740821Z",
     "shell.execute_reply": "2021-09-27T22:00:08.742098Z"
    },
    "papermill": {
     "duration": 0.075872,
     "end_time": "2021-09-27T22:00:08.742547",
     "exception": false,
     "start_time": "2021-09-27T22:00:08.666675",
     "status": "completed"
    },
    "tags": []
   },
   "outputs": [],
   "source": [
    "df_pivot = df.pivot_table(index=\"PRODUCT\", columns = \"RECORD_TIME\", values = \"LISTING_COUNT\")"
   ]
  },
  {
   "cell_type": "code",
   "execution_count": 6,
   "id": "union-huntington",
   "metadata": {
    "execution": {
     "iopub.execute_input": "2021-09-27T22:00:08.802047Z",
     "iopub.status.busy": "2021-09-27T22:00:08.799598Z",
     "iopub.status.idle": "2021-09-27T22:00:08.805678Z",
     "shell.execute_reply": "2021-09-27T22:00:08.807131Z"
    },
    "papermill": {
     "duration": 0.042481,
     "end_time": "2021-09-27T22:00:08.807575",
     "exception": false,
     "start_time": "2021-09-27T22:00:08.765094",
     "status": "completed"
    },
    "tags": []
   },
   "outputs": [],
   "source": [
    "df_pivot.columns = [\"stamp_1\", \"stamp_2\"]\n",
    "df_pivot_diff = df_pivot.diff(axis=1)"
   ]
  },
  {
   "cell_type": "code",
   "execution_count": 7,
   "id": "fifth-motion",
   "metadata": {
    "execution": {
     "iopub.execute_input": "2021-09-27T22:00:08.863746Z",
     "iopub.status.busy": "2021-09-27T22:00:08.859454Z",
     "iopub.status.idle": "2021-09-27T22:00:10.371027Z",
     "shell.execute_reply": "2021-09-27T22:00:10.372317Z"
    },
    "papermill": {
     "duration": 1.544312,
     "end_time": "2021-09-27T22:00:10.372734",
     "exception": false,
     "start_time": "2021-09-27T22:00:08.828422",
     "status": "completed"
    },
    "tags": []
   },
   "outputs": [
    {
     "data": {
      "text/plain": [
       "<AxesSubplot:ylabel='PRODUCT'>"
      ]
     },
     "execution_count": 7,
     "metadata": {},
     "output_type": "execute_result"
    },
    {
     "data": {
      "image/png": "[encoded data removed]",
      "text/plain": [
       "<Figure size 432x288 with 1 Axes>"
      ]
     },
     "metadata": {
      "needs_background": "light"
     },
     "output_type": "display_data"
    }
   ],
   "source": [
    "df_pivot_diff.sort_values(\"stamp_2\", ascending = False)[\"stamp_2\"].head(10).plot.barh()"
   ]
  },
  {
   "cell_type": "code",
   "execution_count": null,
   "id": "extra-executive",
   "metadata": {
    "papermill": {
     "duration": 0.022237,
     "end_time": "2021-09-27T22:00:10.420053",
     "exception": false,
     "start_time": "2021-09-27T22:00:10.397816",
     "status": "completed"
    },
    "tags": []
   },
   "outputs": [],
   "source": []
  }
 ],
 "metadata": {
  "kernelspec": {
   "display_name": "Python 3",
   "language": "python",
   "name": "python3"
  },
  "language_info": {
   "codemirror_mode": {
    "name": "ipython",
    "version": 3
   },
   "file_extension": ".py",
   "mimetype": "text/x-python",
   "name": "python",
   "nbconvert_exporter": "python",
   "pygments_lexer": "ipython3",
   "version": "3.9.5"
  },
  "papermill": {
   "default_parameters": {},
   "duration": 7.836214,
   "end_time": "2021-09-27T22:00:12.030173",
   "environment_variables": {},
   "exception": null,
   "input_path": "eBay_Overview.ipynb",
   "output_path": "eBay_Overview.ipynb",
   "parameters": {},
   "start_time": "2021-09-27T22:00:04.193959",
   "version": "2.3.3"
  }
 },
 "nbformat": 4,
 "nbformat_minor": 5
}