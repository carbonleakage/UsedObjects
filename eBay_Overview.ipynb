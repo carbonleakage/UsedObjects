{
 "cells": [
  {
   "cell_type": "code",
   "execution_count": 1,
   "id": "reverse-picking",
   "metadata": {
    "execution": {
     "iopub.execute_input": "2021-11-14T05:30:08.192570Z",
     "iopub.status.busy": "2021-11-14T05:30:08.190190Z",
     "iopub.status.idle": "2021-11-14T05:30:09.169158Z",
     "shell.execute_reply": "2021-11-14T05:30:09.171392Z"
    },
    "papermill": {
     "duration": 1.032792,
     "end_time": "2021-11-14T05:30:09.172141",
     "exception": false,
     "start_time": "2021-11-14T05:30:08.139349",
     "status": "completed"
    },
    "tags": []
   },
   "outputs": [],
   "source": [
    "import pandas as pd\n",
    "import sqlite3"
   ]
  },
  {
   "cell_type": "code",
   "execution_count": 2,
   "id": "innovative-syndrome",
   "metadata": {
    "execution": {
     "iopub.execute_input": "2021-11-14T05:30:09.227984Z",
     "iopub.status.busy": "2021-11-14T05:30:09.225798Z",
     "iopub.status.idle": "2021-11-14T05:30:10.030891Z",
     "shell.execute_reply": "2021-11-14T05:30:10.032109Z"
    },
    "papermill": {
     "duration": 0.838791,
     "end_time": "2021-11-14T05:30:10.032509",
     "exception": false,
     "start_time": "2021-11-14T05:30:09.193718",
     "status": "completed"
    },
    "tags": []
   },
   "outputs": [],
   "source": [
    "timestamps = pd.read_sql(\"select distinct record_time from EBAY_TOP_BERLIN order by record_time desc limit 2\", sqlite3.connect(\"UsedObjects.db\"))"
   ]
  },
  {
   "cell_type": "code",
   "execution_count": 3,
   "id": "periodic-identification",
   "metadata": {
    "execution": {
     "iopub.execute_input": "2021-11-14T05:30:10.109680Z",
     "iopub.status.busy": "2021-11-14T05:30:10.102553Z",
     "iopub.status.idle": "2021-11-14T05:30:10.126221Z",
     "shell.execute_reply": "2021-11-14T05:30:10.127849Z"
    },
    "papermill": {
     "duration": 0.074319,
     "end_time": "2021-11-14T05:30:10.128343",
     "exception": false,
     "start_time": "2021-11-14T05:30:10.054024",
     "status": "completed"
    },
    "tags": []
   },
   "outputs": [
    {
     "data": {
      "text/html": [
       "<div>\n",
       "<style scoped>\n",
       "    .dataframe tbody tr th:only-of-type {\n",
       "        vertical-align: middle;\n",
       "    }\n",
       "\n",
       "    .dataframe tbody tr th {\n",
       "        vertical-align: top;\n",
       "    }\n",
       "\n",
       "    .dataframe thead th {\n",
       "        text-align: right;\n",
       "    }\n",
       "</style>\n",
       "<table border=\"1\" class=\"dataframe\">\n",
       "  <thead>\n",
       "    <tr style=\"text-align: right;\">\n",
       "      <th></th>\n",
       "      <th>RECORD_TIME</th>\n",
       "    </tr>\n",
       "  </thead>\n",
       "  <tbody>\n",
       "    <tr>\n",
       "      <th>0</th>\n",
       "      <td>2021-11-14 06:30</td>\n",
       "    </tr>\n",
       "    <tr>\n",
       "      <th>1</th>\n",
       "      <td>2021-11-14 06:00</td>\n",
       "    </tr>\n",
       "  </tbody>\n",
       "</table>\n",
       "</div>"
      ],
      "text/plain": [
       "        RECORD_TIME\n",
       "0  2021-11-14 06:30\n",
       "1  2021-11-14 06:00"
      ]
     },
     "execution_count": 3,
     "metadata": {},
     "output_type": "execute_result"
    }
   ],
   "source": [
    "timestamps"
   ]
  },
  {
   "cell_type": "code",
   "execution_count": 4,
   "id": "alternate-victory",
   "metadata": {
    "execution": {
     "iopub.execute_input": "2021-11-14T05:30:10.185719Z",
     "iopub.status.busy": "2021-11-14T05:30:10.183523Z",
     "iopub.status.idle": "2021-11-14T05:30:11.373004Z",
     "shell.execute_reply": "2021-11-14T05:30:11.375844Z"
    },
    "papermill": {
     "duration": 1.225952,
     "end_time": "2021-11-14T05:30:11.376792",
     "exception": false,
     "start_time": "2021-11-14T05:30:10.150840",
     "status": "completed"
    },
    "tags": []
   },
   "outputs": [],
   "source": [
    "df = pd.read_sql(\"select * from EBAY_TOP_BERLIN where record_time in (select distinct record_time from EBAY_TOP_BERLIN order by record_time desc limit 2)\", sqlite3.connect(\"UsedObjects.db\"))"
   ]
  },
  {
   "cell_type": "code",
   "execution_count": 5,
   "id": "popular-active",
   "metadata": {
    "execution": {
     "iopub.execute_input": "2021-11-14T05:30:11.453636Z",
     "iopub.status.busy": "2021-11-14T05:30:11.451149Z",
     "iopub.status.idle": "2021-11-14T05:30:11.486735Z",
     "shell.execute_reply": "2021-11-14T05:30:11.484426Z"
    },
    "papermill": {
     "duration": 0.080169,
     "end_time": "2021-11-14T05:30:11.487174",
     "exception": false,
     "start_time": "2021-11-14T05:30:11.407005",
     "status": "completed"
    },
    "tags": []
   },
   "outputs": [],
   "source": [
    "df_pivot = df.pivot_table(index=\"PRODUCT\", columns = \"RECORD_TIME\", values = \"LISTING_COUNT\")"
   ]
  },
  {
   "cell_type": "code",
   "execution_count": 6,
   "id": "union-huntington",
   "metadata": {
    "execution": {
     "iopub.execute_input": "2021-11-14T05:30:11.548219Z",
     "iopub.status.busy": "2021-11-14T05:30:11.546139Z",
     "iopub.status.idle": "2021-11-14T05:30:11.550861Z",
     "shell.execute_reply": "2021-11-14T05:30:11.552524Z"
    },
    "papermill": {
     "duration": 0.045185,
     "end_time": "2021-11-14T05:30:11.553055",
     "exception": false,
     "start_time": "2021-11-14T05:30:11.507870",
     "status": "completed"
    },
    "tags": []
   },
   "outputs": [],
   "source": [
    "df_pivot.columns = [\"stamp_1\", \"stamp_2\"]\n",
    "df_pivot_diff = df_pivot.diff(axis=1)"
   ]
  },
  {
   "cell_type": "code",
   "execution_count": 7,
   "id": "fifth-motion",
   "metadata": {
    "execution": {
     "iopub.execute_input": "2021-11-14T05:30:11.610949Z",
     "iopub.status.busy": "2021-11-14T05:30:11.608400Z",
     "iopub.status.idle": "2021-11-14T05:30:13.535722Z",
     "shell.execute_reply": "2021-11-14T05:30:13.537498Z"
    },
    "papermill": {
     "duration": 1.964608,
     "end_time": "2021-11-14T05:30:13.537945",
     "exception": false,
     "start_time": "2021-11-14T05:30:11.573337",
     "status": "completed"
    },
    "tags": []
   },
   "outputs": [
    {
     "data": {
      "text/plain": [
       "<AxesSubplot:ylabel='PRODUCT'>"
      ]
     },
     "execution_count": 7,
     "metadata": {},
     "output_type": "execute_result"
    },
    {
     "data": {
      "image/png": "[encoded data removed]",
      "text/plain": [
       "<Figure size 432x288 with 1 Axes>"
      ]
     },
     "metadata": {
      "needs_background": "light"
     },
     "output_type": "display_data"
    }
   ],
   "source": [
    "df_pivot_diff.sort_values(\"stamp_2\", ascending = False)[\"stamp_2\"].head(10).plot.barh()"
   ]
  },
  {
   "cell_type": "code",
   "execution_count": null,
   "id": "extra-executive",
   "metadata": {
    "papermill": {
     "duration": 0.023738,
     "end_time": "2021-11-14T05:30:13.588911",
     "exception": false,
     "start_time": "2021-11-14T05:30:13.565173",
     "status": "completed"
    },
    "tags": []
   },
   "outputs": [],
   "source": []
  }
 ],
 "metadata": {
  "kernelspec": {
   "display_name": "Python 3",
   "language": "python",
   "name": "python3"
  },
  "language_info": {
   "codemirror_mode": {
    "name": "ipython",
    "version": 3
   },
   "file_extension": ".py",
   "mimetype": "text/x-python",
   "name": "python",
   "nbconvert_exporter": "python",
   "pygments_lexer": "ipython3",
   "version": "3.9.5"
  },
  "papermill": {
   "default_parameters": {},
   "duration": 9.937574,
   "end_time": "2021-11-14T05:30:15.344786",
   "environment_variables": {},
   "exception": null,
   "input_path": "eBay_Overview.ipynb",
   "output_path": "eBay_Overview.ipynb",
   "parameters": {},
   "start_time": "2021-11-14T05:30:05.407212",
   "version": "2.3.3"
  }
 },
 "nbformat": 4,
 "nbformat_minor": 5
}