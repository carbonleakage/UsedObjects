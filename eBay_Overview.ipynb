{
 "cells": [
  {
   "cell_type": "code",
   "execution_count": 1,
   "id": "reverse-picking",
   "metadata": {
    "execution": {
     "iopub.execute_input": "2021-08-29T20:30:06.950323Z",
     "iopub.status.busy": "2021-08-29T20:30:06.948299Z",
     "iopub.status.idle": "2021-08-29T20:30:07.752639Z",
     "shell.execute_reply": "2021-08-29T20:30:07.751044Z"
    },
    "papermill": {
     "duration": 0.853557,
     "end_time": "2021-08-29T20:30:07.753040",
     "exception": false,
     "start_time": "2021-08-29T20:30:06.899483",
     "status": "completed"
    },
    "tags": []
   },
   "outputs": [],
   "source": [
    "import pandas as pd\n",
    "import sqlite3"
   ]
  },
  {
   "cell_type": "code",
   "execution_count": 2,
   "id": "innovative-syndrome",
   "metadata": {
    "execution": {
     "iopub.execute_input": "2021-08-29T20:30:07.802902Z",
     "iopub.status.busy": "2021-08-29T20:30:07.801053Z",
     "iopub.status.idle": "2021-08-29T20:30:07.962417Z",
     "shell.execute_reply": "2021-08-29T20:30:07.963687Z"
    },
    "papermill": {
     "duration": 0.190538,
     "end_time": "2021-08-29T20:30:07.964096",
     "exception": false,
     "start_time": "2021-08-29T20:30:07.773558",
     "status": "completed"
    },
    "tags": []
   },
   "outputs": [],
   "source": [
    "timestamps = pd.read_sql(\"select distinct record_time from EBAY_TOP_BERLIN order by record_time desc limit 2\", sqlite3.connect(\"UsedObjects.db\"))"
   ]
  },
  {
   "cell_type": "code",
   "execution_count": 3,
   "id": "periodic-identification",
   "metadata": {
    "execution": {
     "iopub.execute_input": "2021-08-29T20:30:08.029914Z",
     "iopub.status.busy": "2021-08-29T20:30:08.027830Z",
     "iopub.status.idle": "2021-08-29T20:30:08.052019Z",
     "shell.execute_reply": "2021-08-29T20:30:08.050630Z"
    },
    "papermill": {
     "duration": 0.069537,
     "end_time": "2021-08-29T20:30:08.052561",
     "exception": false,
     "start_time": "2021-08-29T20:30:07.983024",
     "status": "completed"
    },
    "tags": []
   },
   "outputs": [
    {
     "data": {
      "text/html": [
       "<div>\n",
       "<style scoped>\n",
       "    .dataframe tbody tr th:only-of-type {\n",
       "        vertical-align: middle;\n",
       "    }\n",
       "\n",
       "    .dataframe tbody tr th {\n",
       "        vertical-align: top;\n",
       "    }\n",
       "\n",
       "    .dataframe thead th {\n",
       "        text-align: right;\n",
       "    }\n",
       "</style>\n",
       "<table border=\"1\" class=\"dataframe\">\n",
       "  <thead>\n",
       "    <tr style=\"text-align: right;\">\n",
       "      <th></th>\n",
       "      <th>RECORD_TIME</th>\n",
       "    </tr>\n",
       "  </thead>\n",
       "  <tbody>\n",
       "    <tr>\n",
       "      <th>0</th>\n",
       "      <td>2021-08-29 22:30</td>\n",
       "    </tr>\n",
       "    <tr>\n",
       "      <th>1</th>\n",
       "      <td>2021-08-29 22:00</td>\n",
       "    </tr>\n",
       "  </tbody>\n",
       "</table>\n",
       "</div>"
      ],
      "text/plain": [
       "        RECORD_TIME\n",
       "0  2021-08-29 22:30\n",
       "1  2021-08-29 22:00"
      ]
     },
     "execution_count": 3,
     "metadata": {},
     "output_type": "execute_result"
    }
   ],
   "source": [
    "timestamps"
   ]
  },
  {
   "cell_type": "code",
   "execution_count": 4,
   "id": "alternate-victory",
   "metadata": {
    "execution": {
     "iopub.execute_input": "2021-08-29T20:30:08.104309Z",
     "iopub.status.busy": "2021-08-29T20:30:08.101989Z",
     "iopub.status.idle": "2021-08-29T20:30:08.343958Z",
     "shell.execute_reply": "2021-08-29T20:30:08.345223Z"
    },
    "papermill": {
     "duration": 0.272354,
     "end_time": "2021-08-29T20:30:08.345616",
     "exception": false,
     "start_time": "2021-08-29T20:30:08.073262",
     "status": "completed"
    },
    "tags": []
   },
   "outputs": [],
   "source": [
    "df = pd.read_sql(\"select * from EBAY_TOP_BERLIN where record_time in (select distinct record_time from EBAY_TOP_BERLIN order by record_time desc limit 2)\", sqlite3.connect(\"UsedObjects.db\"))"
   ]
  },
  {
   "cell_type": "code",
   "execution_count": 5,
   "id": "popular-active",
   "metadata": {
    "execution": {
     "iopub.execute_input": "2021-08-29T20:30:08.417207Z",
     "iopub.status.busy": "2021-08-29T20:30:08.415001Z",
     "iopub.status.idle": "2021-08-29T20:30:08.442459Z",
     "shell.execute_reply": "2021-08-29T20:30:08.443660Z"
    },
    "papermill": {
     "duration": 0.07846,
     "end_time": "2021-08-29T20:30:08.444052",
     "exception": false,
     "start_time": "2021-08-29T20:30:08.365592",
     "status": "completed"
    },
    "tags": []
   },
   "outputs": [],
   "source": [
    "df_pivot = df.pivot_table(index=\"PRODUCT\", columns = \"RECORD_TIME\", values = \"LISTING_COUNT\")"
   ]
  },
  {
   "cell_type": "code",
   "execution_count": 6,
   "id": "union-huntington",
   "metadata": {
    "execution": {
     "iopub.execute_input": "2021-08-29T20:30:08.499995Z",
     "iopub.status.busy": "2021-08-29T20:30:08.497962Z",
     "iopub.status.idle": "2021-08-29T20:30:08.503270Z",
     "shell.execute_reply": "2021-08-29T20:30:08.504822Z"
    },
    "papermill": {
     "duration": 0.04012,
     "end_time": "2021-08-29T20:30:08.505281",
     "exception": false,
     "start_time": "2021-08-29T20:30:08.465161",
     "status": "completed"
    },
    "tags": []
   },
   "outputs": [],
   "source": [
    "df_pivot.columns = [\"stamp_1\", \"stamp_2\"]\n",
    "df_pivot_diff = df_pivot.diff(axis=1)"
   ]
  },
  {
   "cell_type": "code",
   "execution_count": 7,
   "id": "fifth-motion",
   "metadata": {
    "execution": {
     "iopub.execute_input": "2021-08-29T20:30:08.561827Z",
     "iopub.status.busy": "2021-08-29T20:30:08.559139Z",
     "iopub.status.idle": "2021-08-29T20:30:10.046370Z",
     "shell.execute_reply": "2021-08-29T20:30:10.047563Z"
    },
    "papermill": {
     "duration": 1.520392,
     "end_time": "2021-08-29T20:30:10.047989",
     "exception": false,
     "start_time": "2021-08-29T20:30:08.527597",
     "status": "completed"
    },
    "tags": []
   },
   "outputs": [
    {
     "data": {
      "text/plain": [
       "<AxesSubplot:ylabel='PRODUCT'>"
      ]
     },
     "execution_count": 7,
     "metadata": {},
     "output_type": "execute_result"
    },
    {
     "data": {
      "image/png": "[encoded data removed]",
      "text/plain": [
       "<Figure size 432x288 with 1 Axes>"
      ]
     },
     "metadata": {
      "needs_background": "light"
     },
     "output_type": "display_data"
    }
   ],
   "source": [
    "df_pivot_diff.sort_values(\"stamp_2\", ascending = False)[\"stamp_2\"].head(10).plot.barh()"
   ]
  },
  {
   "cell_type": "code",
   "execution_count": null,
   "id": "extra-executive",
   "metadata": {
    "papermill": {
     "duration": 0.022039,
     "end_time": "2021-08-29T20:30:10.093870",
     "exception": false,
     "start_time": "2021-08-29T20:30:10.071831",
     "status": "completed"
    },
    "tags": []
   },
   "outputs": [],
   "source": []
  }
 ],
 "metadata": {
  "kernelspec": {
   "display_name": "Python 3",
   "language": "python",
   "name": "python3"
  },
  "language_info": {
   "codemirror_mode": {
    "name": "ipython",
    "version": 3
   },
   "file_extension": ".py",
   "mimetype": "text/x-python",
   "name": "python",
   "nbconvert_exporter": "python",
   "pygments_lexer": "ipython3",
   "version": "3.9.5"
  },
  "papermill": {
   "default_parameters": {},
   "duration": 6.820623,
   "end_time": "2021-08-29T20:30:11.318645",
   "environment_variables": {},
   "exception": null,
   "input_path": "eBay_Overview.ipynb",
   "output_path": "eBay_Overview.ipynb",
   "parameters": {},
   "start_time": "2021-08-29T20:30:04.498022",
   "version": "2.3.3"
  }
 },
 "nbformat": 4,
 "nbformat_minor": 5
}