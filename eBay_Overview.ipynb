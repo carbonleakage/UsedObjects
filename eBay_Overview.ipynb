{
 "cells": [
  {
   "cell_type": "code",
   "execution_count": 1,
   "id": "reverse-picking",
   "metadata": {
    "execution": {
     "iopub.execute_input": "2021-09-29T18:30:07.498123Z",
     "iopub.status.busy": "2021-09-29T18:30:07.496163Z",
     "iopub.status.idle": "2021-09-29T18:30:08.301322Z",
     "shell.execute_reply": "2021-09-29T18:30:08.302582Z"
    },
    "papermill": {
     "duration": 0.855439,
     "end_time": "2021-09-29T18:30:08.303257",
     "exception": false,
     "start_time": "2021-09-29T18:30:07.447818",
     "status": "completed"
    },
    "tags": []
   },
   "outputs": [],
   "source": [
    "import pandas as pd\n",
    "import sqlite3"
   ]
  },
  {
   "cell_type": "code",
   "execution_count": 2,
   "id": "innovative-syndrome",
   "metadata": {
    "execution": {
     "iopub.execute_input": "2021-09-29T18:30:08.355733Z",
     "iopub.status.busy": "2021-09-29T18:30:08.353744Z",
     "iopub.status.idle": "2021-09-29T18:30:08.762215Z",
     "shell.execute_reply": "2021-09-29T18:30:08.763552Z"
    },
    "papermill": {
     "duration": 0.438282,
     "end_time": "2021-09-29T18:30:08.763986",
     "exception": false,
     "start_time": "2021-09-29T18:30:08.325704",
     "status": "completed"
    },
    "tags": []
   },
   "outputs": [],
   "source": [
    "timestamps = pd.read_sql(\"select distinct record_time from EBAY_TOP_BERLIN order by record_time desc limit 2\", sqlite3.connect(\"UsedObjects.db\"))"
   ]
  },
  {
   "cell_type": "code",
   "execution_count": 3,
   "id": "periodic-identification",
   "metadata": {
    "execution": {
     "iopub.execute_input": "2021-09-29T18:30:08.832220Z",
     "iopub.status.busy": "2021-09-29T18:30:08.830136Z",
     "iopub.status.idle": "2021-09-29T18:30:08.850044Z",
     "shell.execute_reply": "2021-09-29T18:30:08.851343Z"
    },
    "papermill": {
     "duration": 0.066878,
     "end_time": "2021-09-29T18:30:08.851794",
     "exception": false,
     "start_time": "2021-09-29T18:30:08.784916",
     "status": "completed"
    },
    "tags": []
   },
   "outputs": [
    {
     "data": {
      "text/html": [
       "<div>\n",
       "<style scoped>\n",
       "    .dataframe tbody tr th:only-of-type {\n",
       "        vertical-align: middle;\n",
       "    }\n",
       "\n",
       "    .dataframe tbody tr th {\n",
       "        vertical-align: top;\n",
       "    }\n",
       "\n",
       "    .dataframe thead th {\n",
       "        text-align: right;\n",
       "    }\n",
       "</style>\n",
       "<table border=\"1\" class=\"dataframe\">\n",
       "  <thead>\n",
       "    <tr style=\"text-align: right;\">\n",
       "      <th></th>\n",
       "      <th>RECORD_TIME</th>\n",
       "    </tr>\n",
       "  </thead>\n",
       "  <tbody>\n",
       "    <tr>\n",
       "      <th>0</th>\n",
       "      <td>2021-09-29 20:30</td>\n",
       "    </tr>\n",
       "    <tr>\n",
       "      <th>1</th>\n",
       "      <td>2021-09-29 20:00</td>\n",
       "    </tr>\n",
       "  </tbody>\n",
       "</table>\n",
       "</div>"
      ],
      "text/plain": [
       "        RECORD_TIME\n",
       "0  2021-09-29 20:30\n",
       "1  2021-09-29 20:00"
      ]
     },
     "execution_count": 3,
     "metadata": {},
     "output_type": "execute_result"
    }
   ],
   "source": [
    "timestamps"
   ]
  },
  {
   "cell_type": "code",
   "execution_count": 4,
   "id": "alternate-victory",
   "metadata": {
    "execution": {
     "iopub.execute_input": "2021-09-29T18:30:08.906038Z",
     "iopub.status.busy": "2021-09-29T18:30:08.904024Z",
     "iopub.status.idle": "2021-09-29T18:30:09.513408Z",
     "shell.execute_reply": "2021-09-29T18:30:09.514705Z"
    },
    "papermill": {
     "duration": 0.640271,
     "end_time": "2021-09-29T18:30:09.515205",
     "exception": false,
     "start_time": "2021-09-29T18:30:08.874934",
     "status": "completed"
    },
    "tags": []
   },
   "outputs": [],
   "source": [
    "df = pd.read_sql(\"select * from EBAY_TOP_BERLIN where record_time in (select distinct record_time from EBAY_TOP_BERLIN order by record_time desc limit 2)\", sqlite3.connect(\"UsedObjects.db\"))"
   ]
  },
  {
   "cell_type": "code",
   "execution_count": 5,
   "id": "popular-active",
   "metadata": {
    "execution": {
     "iopub.execute_input": "2021-09-29T18:30:09.596808Z",
     "iopub.status.busy": "2021-09-29T18:30:09.585057Z",
     "iopub.status.idle": "2021-09-29T18:30:09.612270Z",
     "shell.execute_reply": "2021-09-29T18:30:09.613480Z"
    },
    "papermill": {
     "duration": 0.073046,
     "end_time": "2021-09-29T18:30:09.613878",
     "exception": false,
     "start_time": "2021-09-29T18:30:09.540832",
     "status": "completed"
    },
    "tags": []
   },
   "outputs": [],
   "source": [
    "df_pivot = df.pivot_table(index=\"PRODUCT\", columns = \"RECORD_TIME\", values = \"LISTING_COUNT\")"
   ]
  },
  {
   "cell_type": "code",
   "execution_count": 6,
   "id": "union-huntington",
   "metadata": {
    "execution": {
     "iopub.execute_input": "2021-09-29T18:30:09.673193Z",
     "iopub.status.busy": "2021-09-29T18:30:09.670725Z",
     "iopub.status.idle": "2021-09-29T18:30:09.676960Z",
     "shell.execute_reply": "2021-09-29T18:30:09.678436Z"
    },
    "papermill": {
     "duration": 0.042698,
     "end_time": "2021-09-29T18:30:09.678956",
     "exception": false,
     "start_time": "2021-09-29T18:30:09.636258",
     "status": "completed"
    },
    "tags": []
   },
   "outputs": [],
   "source": [
    "df_pivot.columns = [\"stamp_1\", \"stamp_2\"]\n",
    "df_pivot_diff = df_pivot.diff(axis=1)"
   ]
  },
  {
   "cell_type": "code",
   "execution_count": 7,
   "id": "fifth-motion",
   "metadata": {
    "execution": {
     "iopub.execute_input": "2021-09-29T18:30:09.734318Z",
     "iopub.status.busy": "2021-09-29T18:30:09.732037Z",
     "iopub.status.idle": "2021-09-29T18:30:11.249416Z",
     "shell.execute_reply": "2021-09-29T18:30:11.250703Z"
    },
    "papermill": {
     "duration": 1.551002,
     "end_time": "2021-09-29T18:30:11.251356",
     "exception": false,
     "start_time": "2021-09-29T18:30:09.700354",
     "status": "completed"
    },
    "tags": []
   },
   "outputs": [
    {
     "data": {
      "text/plain": [
       "<AxesSubplot:ylabel='PRODUCT'>"
      ]
     },
     "execution_count": 7,
     "metadata": {},
     "output_type": "execute_result"
    },
    {
     "data": {
      "image/png": "[encoded data removed]",
      "text/plain": [
       "<Figure size 432x288 with 1 Axes>"
      ]
     },
     "metadata": {
      "needs_background": "light"
     },
     "output_type": "display_data"
    }
   ],
   "source": [
    "df_pivot_diff.sort_values(\"stamp_2\", ascending = False)[\"stamp_2\"].head(10).plot.barh()"
   ]
  },
  {
   "cell_type": "code",
   "execution_count": null,
   "id": "extra-executive",
   "metadata": {
    "papermill": {
     "duration": 0.022314,
     "end_time": "2021-09-29T18:30:11.299017",
     "exception": false,
     "start_time": "2021-09-29T18:30:11.276703",
     "status": "completed"
    },
    "tags": []
   },
   "outputs": [],
   "source": []
  }
 ],
 "metadata": {
  "kernelspec": {
   "display_name": "Python 3",
   "language": "python",
   "name": "python3"
  },
  "language_info": {
   "codemirror_mode": {
    "name": "ipython",
    "version": 3
   },
   "file_extension": ".py",
   "mimetype": "text/x-python",
   "name": "python",
   "nbconvert_exporter": "python",
   "pygments_lexer": "ipython3",
   "version": "3.9.5"
  },
  "papermill": {
   "default_parameters": {},
   "duration": 7.83114,
   "end_time": "2021-09-29T18:30:12.875339",
   "environment_variables": {},
   "exception": null,
   "input_path": "eBay_Overview.ipynb",
   "output_path": "eBay_Overview.ipynb",
   "parameters": {},
   "start_time": "2021-09-29T18:30:05.044199",
   "version": "2.3.3"
  }
 },
 "nbformat": 4,
 "nbformat_minor": 5
}