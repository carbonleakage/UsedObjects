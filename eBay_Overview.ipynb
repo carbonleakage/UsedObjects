{
 "cells": [
  {
   "cell_type": "code",
   "execution_count": 1,
   "id": "reverse-picking",
   "metadata": {
    "execution": {
     "iopub.execute_input": "2021-09-20T00:00:06.624451Z",
     "iopub.status.busy": "2021-09-20T00:00:06.622470Z",
     "iopub.status.idle": "2021-09-20T00:00:07.427066Z",
     "shell.execute_reply": "2021-09-20T00:00:07.425364Z"
    },
    "papermill": {
     "duration": 0.855095,
     "end_time": "2021-09-20T00:00:07.427503",
     "exception": false,
     "start_time": "2021-09-20T00:00:06.572408",
     "status": "completed"
    },
    "tags": []
   },
   "outputs": [],
   "source": [
    "import pandas as pd\n",
    "import sqlite3"
   ]
  },
  {
   "cell_type": "code",
   "execution_count": 2,
   "id": "innovative-syndrome",
   "metadata": {
    "execution": {
     "iopub.execute_input": "2021-09-20T00:00:07.478010Z",
     "iopub.status.busy": "2021-09-20T00:00:07.476003Z",
     "iopub.status.idle": "2021-09-20T00:00:07.798555Z",
     "shell.execute_reply": "2021-09-20T00:00:07.799819Z"
    },
    "papermill": {
     "duration": 0.35259,
     "end_time": "2021-09-20T00:00:07.800221",
     "exception": false,
     "start_time": "2021-09-20T00:00:07.447631",
     "status": "completed"
    },
    "tags": []
   },
   "outputs": [],
   "source": [
    "timestamps = pd.read_sql(\"select distinct record_time from EBAY_TOP_BERLIN order by record_time desc limit 2\", sqlite3.connect(\"UsedObjects.db\"))"
   ]
  },
  {
   "cell_type": "code",
   "execution_count": 3,
   "id": "periodic-identification",
   "metadata": {
    "execution": {
     "iopub.execute_input": "2021-09-20T00:00:07.863139Z",
     "iopub.status.busy": "2021-09-20T00:00:07.861104Z",
     "iopub.status.idle": "2021-09-20T00:00:07.881335Z",
     "shell.execute_reply": "2021-09-20T00:00:07.882529Z"
    },
    "papermill": {
     "duration": 0.063642,
     "end_time": "2021-09-20T00:00:07.883014",
     "exception": false,
     "start_time": "2021-09-20T00:00:07.819372",
     "status": "completed"
    },
    "tags": []
   },
   "outputs": [
    {
     "data": {
      "text/html": [
       "<div>\n",
       "<style scoped>\n",
       "    .dataframe tbody tr th:only-of-type {\n",
       "        vertical-align: middle;\n",
       "    }\n",
       "\n",
       "    .dataframe tbody tr th {\n",
       "        vertical-align: top;\n",
       "    }\n",
       "\n",
       "    .dataframe thead th {\n",
       "        text-align: right;\n",
       "    }\n",
       "</style>\n",
       "<table border=\"1\" class=\"dataframe\">\n",
       "  <thead>\n",
       "    <tr style=\"text-align: right;\">\n",
       "      <th></th>\n",
       "      <th>RECORD_TIME</th>\n",
       "    </tr>\n",
       "  </thead>\n",
       "  <tbody>\n",
       "    <tr>\n",
       "      <th>0</th>\n",
       "      <td>2021-09-20 02:00</td>\n",
       "    </tr>\n",
       "    <tr>\n",
       "      <th>1</th>\n",
       "      <td>2021-09-20 01:30</td>\n",
       "    </tr>\n",
       "  </tbody>\n",
       "</table>\n",
       "</div>"
      ],
      "text/plain": [
       "        RECORD_TIME\n",
       "0  2021-09-20 02:00\n",
       "1  2021-09-20 01:30"
      ]
     },
     "execution_count": 3,
     "metadata": {},
     "output_type": "execute_result"
    }
   ],
   "source": [
    "timestamps"
   ]
  },
  {
   "cell_type": "code",
   "execution_count": 4,
   "id": "alternate-victory",
   "metadata": {
    "execution": {
     "iopub.execute_input": "2021-09-20T00:00:07.935652Z",
     "iopub.status.busy": "2021-09-20T00:00:07.933752Z",
     "iopub.status.idle": "2021-09-20T00:00:08.438009Z",
     "shell.execute_reply": "2021-09-20T00:00:08.439430Z"
    },
    "papermill": {
     "duration": 0.534127,
     "end_time": "2021-09-20T00:00:08.439846",
     "exception": false,
     "start_time": "2021-09-20T00:00:07.905719",
     "status": "completed"
    },
    "tags": []
   },
   "outputs": [],
   "source": [
    "df = pd.read_sql(\"select * from EBAY_TOP_BERLIN where record_time in (select distinct record_time from EBAY_TOP_BERLIN order by record_time desc limit 2)\", sqlite3.connect(\"UsedObjects.db\"))"
   ]
  },
  {
   "cell_type": "code",
   "execution_count": 5,
   "id": "popular-active",
   "metadata": {
    "execution": {
     "iopub.execute_input": "2021-09-20T00:00:08.522758Z",
     "iopub.status.busy": "2021-09-20T00:00:08.510951Z",
     "iopub.status.idle": "2021-09-20T00:00:08.540728Z",
     "shell.execute_reply": "2021-09-20T00:00:08.542077Z"
    },
    "papermill": {
     "duration": 0.074062,
     "end_time": "2021-09-20T00:00:08.542519",
     "exception": false,
     "start_time": "2021-09-20T00:00:08.468457",
     "status": "completed"
    },
    "tags": []
   },
   "outputs": [],
   "source": [
    "df_pivot = df.pivot_table(index=\"PRODUCT\", columns = \"RECORD_TIME\", values = \"LISTING_COUNT\")"
   ]
  },
  {
   "cell_type": "code",
   "execution_count": 6,
   "id": "union-huntington",
   "metadata": {
    "execution": {
     "iopub.execute_input": "2021-09-20T00:00:08.601419Z",
     "iopub.status.busy": "2021-09-20T00:00:08.599035Z",
     "iopub.status.idle": "2021-09-20T00:00:08.605266Z",
     "shell.execute_reply": "2021-09-20T00:00:08.606718Z"
    },
    "papermill": {
     "duration": 0.042383,
     "end_time": "2021-09-20T00:00:08.607262",
     "exception": false,
     "start_time": "2021-09-20T00:00:08.564879",
     "status": "completed"
    },
    "tags": []
   },
   "outputs": [],
   "source": [
    "df_pivot.columns = [\"stamp_1\", \"stamp_2\"]\n",
    "df_pivot_diff = df_pivot.diff(axis=1)"
   ]
  },
  {
   "cell_type": "code",
   "execution_count": 7,
   "id": "fifth-motion",
   "metadata": {
    "execution": {
     "iopub.execute_input": "2021-09-20T00:00:08.661949Z",
     "iopub.status.busy": "2021-09-20T00:00:08.659788Z",
     "iopub.status.idle": "2021-09-20T00:00:10.165332Z",
     "shell.execute_reply": "2021-09-20T00:00:10.166590Z"
    },
    "papermill": {
     "duration": 1.538117,
     "end_time": "2021-09-20T00:00:10.167092",
     "exception": false,
     "start_time": "2021-09-20T00:00:08.628975",
     "status": "completed"
    },
    "tags": []
   },
   "outputs": [
    {
     "data": {
      "text/plain": [
       "<AxesSubplot:ylabel='PRODUCT'>"
      ]
     },
     "execution_count": 7,
     "metadata": {},
     "output_type": "execute_result"
    },
    {
     "data": {
      "image/png": "[encoded data removed]",
      "text/plain": [
       "<Figure size 432x288 with 1 Axes>"
      ]
     },
     "metadata": {
      "needs_background": "light"
     },
     "output_type": "display_data"
    }
   ],
   "source": [
    "df_pivot_diff.sort_values(\"stamp_2\", ascending = False)[\"stamp_2\"].head(10).plot.barh()"
   ]
  },
  {
   "cell_type": "code",
   "execution_count": null,
   "id": "extra-executive",
   "metadata": {
    "papermill": {
     "duration": 0.022048,
     "end_time": "2021-09-20T00:00:10.213833",
     "exception": false,
     "start_time": "2021-09-20T00:00:10.191785",
     "status": "completed"
    },
    "tags": []
   },
   "outputs": [],
   "source": []
  }
 ],
 "metadata": {
  "kernelspec": {
   "display_name": "Python 3",
   "language": "python",
   "name": "python3"
  },
  "language_info": {
   "codemirror_mode": {
    "name": "ipython",
    "version": 3
   },
   "file_extension": ".py",
   "mimetype": "text/x-python",
   "name": "python",
   "nbconvert_exporter": "python",
   "pygments_lexer": "ipython3",
   "version": "3.9.5"
  },
  "papermill": {
   "default_parameters": {},
   "duration": 6.672285,
   "end_time": "2021-09-20T00:00:10.854912",
   "environment_variables": {},
   "exception": null,
   "input_path": "eBay_Overview.ipynb",
   "output_path": "eBay_Overview.ipynb",
   "parameters": {},
   "start_time": "2021-09-20T00:00:04.182627",
   "version": "2.3.3"
  }
 },
 "nbformat": 4,
 "nbformat_minor": 5
}