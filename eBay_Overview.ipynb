{
 "cells": [
  {
   "cell_type": "code",
   "execution_count": 1,
   "id": "reverse-picking",
   "metadata": {
    "execution": {
     "iopub.execute_input": "2021-10-28T11:00:07.410457Z",
     "iopub.status.busy": "2021-10-28T11:00:07.408439Z",
     "iopub.status.idle": "2021-10-28T11:00:08.213183Z",
     "shell.execute_reply": "2021-10-28T11:00:08.214546Z"
    },
    "papermill": {
     "duration": 0.85543,
     "end_time": "2021-10-28T11:00:08.215165",
     "exception": false,
     "start_time": "2021-10-28T11:00:07.359735",
     "status": "completed"
    },
    "tags": []
   },
   "outputs": [],
   "source": [
    "import pandas as pd\n",
    "import sqlite3"
   ]
  },
  {
   "cell_type": "code",
   "execution_count": 2,
   "id": "innovative-syndrome",
   "metadata": {
    "execution": {
     "iopub.execute_input": "2021-10-28T11:00:08.265028Z",
     "iopub.status.busy": "2021-10-28T11:00:08.263049Z",
     "iopub.status.idle": "2021-10-28T11:00:08.909558Z",
     "shell.execute_reply": "2021-10-28T11:00:08.910686Z"
    },
    "papermill": {
     "duration": 0.675925,
     "end_time": "2021-10-28T11:00:08.911096",
     "exception": false,
     "start_time": "2021-10-28T11:00:08.235171",
     "status": "completed"
    },
    "tags": []
   },
   "outputs": [],
   "source": [
    "timestamps = pd.read_sql(\"select distinct record_time from EBAY_TOP_BERLIN order by record_time desc limit 2\", sqlite3.connect(\"UsedObjects.db\"))"
   ]
  },
  {
   "cell_type": "code",
   "execution_count": 3,
   "id": "periodic-identification",
   "metadata": {
    "execution": {
     "iopub.execute_input": "2021-10-28T11:00:08.988212Z",
     "iopub.status.busy": "2021-10-28T11:00:08.986212Z",
     "iopub.status.idle": "2021-10-28T11:00:09.005808Z",
     "shell.execute_reply": "2021-10-28T11:00:09.007199Z"
    },
    "papermill": {
     "duration": 0.068336,
     "end_time": "2021-10-28T11:00:09.007633",
     "exception": false,
     "start_time": "2021-10-28T11:00:08.939297",
     "status": "completed"
    },
    "tags": []
   },
   "outputs": [
    {
     "data": {
      "text/html": [
       "<div>\n",
       "<style scoped>\n",
       "    .dataframe tbody tr th:only-of-type {\n",
       "        vertical-align: middle;\n",
       "    }\n",
       "\n",
       "    .dataframe tbody tr th {\n",
       "        vertical-align: top;\n",
       "    }\n",
       "\n",
       "    .dataframe thead th {\n",
       "        text-align: right;\n",
       "    }\n",
       "</style>\n",
       "<table border=\"1\" class=\"dataframe\">\n",
       "  <thead>\n",
       "    <tr style=\"text-align: right;\">\n",
       "      <th></th>\n",
       "      <th>RECORD_TIME</th>\n",
       "    </tr>\n",
       "  </thead>\n",
       "  <tbody>\n",
       "    <tr>\n",
       "      <th>0</th>\n",
       "      <td>2021-10-28 13:00</td>\n",
       "    </tr>\n",
       "    <tr>\n",
       "      <th>1</th>\n",
       "      <td>2021-10-28 12:30</td>\n",
       "    </tr>\n",
       "  </tbody>\n",
       "</table>\n",
       "</div>"
      ],
      "text/plain": [
       "        RECORD_TIME\n",
       "0  2021-10-28 13:00\n",
       "1  2021-10-28 12:30"
      ]
     },
     "execution_count": 3,
     "metadata": {},
     "output_type": "execute_result"
    }
   ],
   "source": [
    "timestamps"
   ]
  },
  {
   "cell_type": "code",
   "execution_count": 4,
   "id": "alternate-victory",
   "metadata": {
    "execution": {
     "iopub.execute_input": "2021-10-28T11:00:09.059203Z",
     "iopub.status.busy": "2021-10-28T11:00:09.057168Z",
     "iopub.status.idle": "2021-10-28T11:00:10.013023Z",
     "shell.execute_reply": "2021-10-28T11:00:10.014549Z"
    },
    "papermill": {
     "duration": 0.986789,
     "end_time": "2021-10-28T11:00:10.014998",
     "exception": false,
     "start_time": "2021-10-28T11:00:09.028209",
     "status": "completed"
    },
    "tags": []
   },
   "outputs": [],
   "source": [
    "df = pd.read_sql(\"select * from EBAY_TOP_BERLIN where record_time in (select distinct record_time from EBAY_TOP_BERLIN order by record_time desc limit 2)\", sqlite3.connect(\"UsedObjects.db\"))"
   ]
  },
  {
   "cell_type": "code",
   "execution_count": 5,
   "id": "popular-active",
   "metadata": {
    "execution": {
     "iopub.execute_input": "2021-10-28T11:00:10.085569Z",
     "iopub.status.busy": "2021-10-28T11:00:10.074620Z",
     "iopub.status.idle": "2021-10-28T11:00:10.102018Z",
     "shell.execute_reply": "2021-10-28T11:00:10.103228Z"
    },
    "papermill": {
     "duration": 0.067632,
     "end_time": "2021-10-28T11:00:10.103621",
     "exception": false,
     "start_time": "2021-10-28T11:00:10.035989",
     "status": "completed"
    },
    "tags": []
   },
   "outputs": [],
   "source": [
    "df_pivot = df.pivot_table(index=\"PRODUCT\", columns = \"RECORD_TIME\", values = \"LISTING_COUNT\")"
   ]
  },
  {
   "cell_type": "code",
   "execution_count": 6,
   "id": "union-huntington",
   "metadata": {
    "execution": {
     "iopub.execute_input": "2021-10-28T11:00:10.162801Z",
     "iopub.status.busy": "2021-10-28T11:00:10.160272Z",
     "iopub.status.idle": "2021-10-28T11:00:10.166259Z",
     "shell.execute_reply": "2021-10-28T11:00:10.167536Z"
    },
    "papermill": {
     "duration": 0.042075,
     "end_time": "2021-10-28T11:00:10.167945",
     "exception": false,
     "start_time": "2021-10-28T11:00:10.125870",
     "status": "completed"
    },
    "tags": []
   },
   "outputs": [],
   "source": [
    "df_pivot.columns = [\"stamp_1\", \"stamp_2\"]\n",
    "df_pivot_diff = df_pivot.diff(axis=1)"
   ]
  },
  {
   "cell_type": "code",
   "execution_count": 7,
   "id": "fifth-motion",
   "metadata": {
    "execution": {
     "iopub.execute_input": "2021-10-28T11:00:10.220546Z",
     "iopub.status.busy": "2021-10-28T11:00:10.218255Z",
     "iopub.status.idle": "2021-10-28T11:00:11.707691Z",
     "shell.execute_reply": "2021-10-28T11:00:11.709106Z"
    },
    "papermill": {
     "duration": 1.521933,
     "end_time": "2021-10-28T11:00:11.709561",
     "exception": false,
     "start_time": "2021-10-28T11:00:10.187628",
     "status": "completed"
    },
    "tags": []
   },
   "outputs": [
    {
     "data": {
      "text/plain": [
       "<AxesSubplot:ylabel='PRODUCT'>"
      ]
     },
     "execution_count": 7,
     "metadata": {},
     "output_type": "execute_result"
    },
    {
     "data": {
      "image/png": "[encoded data removed]",
      "text/plain": [
       "<Figure size 432x288 with 1 Axes>"
      ]
     },
     "metadata": {
      "needs_background": "light"
     },
     "output_type": "display_data"
    }
   ],
   "source": [
    "df_pivot_diff.sort_values(\"stamp_2\", ascending = False)[\"stamp_2\"].head(10).plot.barh()"
   ]
  },
  {
   "cell_type": "code",
   "execution_count": null,
   "id": "extra-executive",
   "metadata": {
    "papermill": {
     "duration": 0.021901,
     "end_time": "2021-10-28T11:00:11.755080",
     "exception": false,
     "start_time": "2021-10-28T11:00:11.733179",
     "status": "completed"
    },
    "tags": []
   },
   "outputs": [],
   "source": []
  }
 ],
 "metadata": {
  "kernelspec": {
   "display_name": "Python 3",
   "language": "python",
   "name": "python3"
  },
  "language_info": {
   "codemirror_mode": {
    "name": "ipython",
    "version": 3
   },
   "file_extension": ".py",
   "mimetype": "text/x-python",
   "name": "python",
   "nbconvert_exporter": "python",
   "pygments_lexer": "ipython3",
   "version": "3.9.5"
  },
  "papermill": {
   "default_parameters": {},
   "duration": 7.441591,
   "end_time": "2021-10-28T11:00:12.398258",
   "environment_variables": {},
   "exception": null,
   "input_path": "eBay_Overview.ipynb",
   "output_path": "eBay_Overview.ipynb",
   "parameters": {},
   "start_time": "2021-10-28T11:00:04.956667",
   "version": "2.3.3"
  }
 },
 "nbformat": 4,
 "nbformat_minor": 5
}