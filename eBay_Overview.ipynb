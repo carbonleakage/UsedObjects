{
 "cells": [
  {
   "cell_type": "code",
   "execution_count": 1,
   "id": "reverse-picking",
   "metadata": {
    "execution": {
     "iopub.execute_input": "2021-11-20T11:30:07.411663Z",
     "iopub.status.busy": "2021-11-20T11:30:07.409317Z",
     "iopub.status.idle": "2021-11-20T11:30:08.376535Z",
     "shell.execute_reply": "2021-11-20T11:30:08.378086Z"
    },
    "papermill": {
     "duration": 1.016161,
     "end_time": "2021-11-20T11:30:08.378812",
     "exception": false,
     "start_time": "2021-11-20T11:30:07.362651",
     "status": "completed"
    },
    "tags": []
   },
   "outputs": [],
   "source": [
    "import pandas as pd\n",
    "import sqlite3"
   ]
  },
  {
   "cell_type": "code",
   "execution_count": 2,
   "id": "innovative-syndrome",
   "metadata": {
    "execution": {
     "iopub.execute_input": "2021-11-20T11:30:08.435718Z",
     "iopub.status.busy": "2021-11-20T11:30:08.433337Z",
     "iopub.status.idle": "2021-11-20T11:30:09.306983Z",
     "shell.execute_reply": "2021-11-20T11:30:09.308412Z"
    },
    "papermill": {
     "duration": 0.908915,
     "end_time": "2021-11-20T11:30:09.309018",
     "exception": false,
     "start_time": "2021-11-20T11:30:08.400103",
     "status": "completed"
    },
    "tags": []
   },
   "outputs": [],
   "source": [
    "timestamps = pd.read_sql(\"select distinct record_time from EBAY_TOP_BERLIN order by record_time desc limit 2\", sqlite3.connect(\"UsedObjects.db\"))"
   ]
  },
  {
   "cell_type": "code",
   "execution_count": 3,
   "id": "periodic-identification",
   "metadata": {
    "execution": {
     "iopub.execute_input": "2021-11-20T11:30:09.381809Z",
     "iopub.status.busy": "2021-11-20T11:30:09.379442Z",
     "iopub.status.idle": "2021-11-20T11:30:09.401960Z",
     "shell.execute_reply": "2021-11-20T11:30:09.403320Z"
    },
    "papermill": {
     "duration": 0.07293,
     "end_time": "2021-11-20T11:30:09.403805",
     "exception": false,
     "start_time": "2021-11-20T11:30:09.330875",
     "status": "completed"
    },
    "tags": []
   },
   "outputs": [
    {
     "data": {
      "text/html": [
       "<div>\n",
       "<style scoped>\n",
       "    .dataframe tbody tr th:only-of-type {\n",
       "        vertical-align: middle;\n",
       "    }\n",
       "\n",
       "    .dataframe tbody tr th {\n",
       "        vertical-align: top;\n",
       "    }\n",
       "\n",
       "    .dataframe thead th {\n",
       "        text-align: right;\n",
       "    }\n",
       "</style>\n",
       "<table border=\"1\" class=\"dataframe\">\n",
       "  <thead>\n",
       "    <tr style=\"text-align: right;\">\n",
       "      <th></th>\n",
       "      <th>RECORD_TIME</th>\n",
       "    </tr>\n",
       "  </thead>\n",
       "  <tbody>\n",
       "    <tr>\n",
       "      <th>0</th>\n",
       "      <td>2021-11-20 12:30</td>\n",
       "    </tr>\n",
       "    <tr>\n",
       "      <th>1</th>\n",
       "      <td>2021-11-20 12:00</td>\n",
       "    </tr>\n",
       "  </tbody>\n",
       "</table>\n",
       "</div>"
      ],
      "text/plain": [
       "        RECORD_TIME\n",
       "0  2021-11-20 12:30\n",
       "1  2021-11-20 12:00"
      ]
     },
     "execution_count": 3,
     "metadata": {},
     "output_type": "execute_result"
    }
   ],
   "source": [
    "timestamps"
   ]
  },
  {
   "cell_type": "code",
   "execution_count": 4,
   "id": "alternate-victory",
   "metadata": {
    "execution": {
     "iopub.execute_input": "2021-11-20T11:30:09.458485Z",
     "iopub.status.busy": "2021-11-20T11:30:09.456322Z",
     "iopub.status.idle": "2021-11-20T11:30:10.707078Z",
     "shell.execute_reply": "2021-11-20T11:30:10.708920Z"
    },
    "papermill": {
     "duration": 1.284532,
     "end_time": "2021-11-20T11:30:10.709435",
     "exception": false,
     "start_time": "2021-11-20T11:30:09.424903",
     "status": "completed"
    },
    "tags": []
   },
   "outputs": [],
   "source": [
    "df = pd.read_sql(\"select * from EBAY_TOP_BERLIN where record_time in (select distinct record_time from EBAY_TOP_BERLIN order by record_time desc limit 2)\", sqlite3.connect(\"UsedObjects.db\"))"
   ]
  },
  {
   "cell_type": "code",
   "execution_count": 5,
   "id": "popular-active",
   "metadata": {
    "execution": {
     "iopub.execute_input": "2021-11-20T11:30:10.787729Z",
     "iopub.status.busy": "2021-11-20T11:30:10.775015Z",
     "iopub.status.idle": "2021-11-20T11:30:10.808370Z",
     "shell.execute_reply": "2021-11-20T11:30:10.810058Z"
    },
    "papermill": {
     "duration": 0.07938,
     "end_time": "2021-11-20T11:30:10.810559",
     "exception": false,
     "start_time": "2021-11-20T11:30:10.731179",
     "status": "completed"
    },
    "tags": []
   },
   "outputs": [],
   "source": [
    "df_pivot = df.pivot_table(index=\"PRODUCT\", columns = \"RECORD_TIME\", values = \"LISTING_COUNT\")"
   ]
  },
  {
   "cell_type": "code",
   "execution_count": 6,
   "id": "union-huntington",
   "metadata": {
    "execution": {
     "iopub.execute_input": "2021-11-20T11:30:10.873102Z",
     "iopub.status.busy": "2021-11-20T11:30:10.870887Z",
     "iopub.status.idle": "2021-11-20T11:30:10.876995Z",
     "shell.execute_reply": "2021-11-20T11:30:10.878485Z"
    },
    "papermill": {
     "duration": 0.046293,
     "end_time": "2021-11-20T11:30:10.878954",
     "exception": false,
     "start_time": "2021-11-20T11:30:10.832661",
     "status": "completed"
    },
    "tags": []
   },
   "outputs": [],
   "source": [
    "df_pivot.columns = [\"stamp_1\", \"stamp_2\"]\n",
    "df_pivot_diff = df_pivot.diff(axis=1)"
   ]
  },
  {
   "cell_type": "code",
   "execution_count": 7,
   "id": "fifth-motion",
   "metadata": {
    "execution": {
     "iopub.execute_input": "2021-11-20T11:30:10.943146Z",
     "iopub.status.busy": "2021-11-20T11:30:10.932336Z",
     "iopub.status.idle": "2021-11-20T11:30:12.656350Z",
     "shell.execute_reply": "2021-11-20T11:30:12.659406Z"
    },
    "papermill": {
     "duration": 1.761518,
     "end_time": "2021-11-20T11:30:12.660324",
     "exception": false,
     "start_time": "2021-11-20T11:30:10.898806",
     "status": "completed"
    },
    "tags": []
   },
   "outputs": [
    {
     "data": {
      "text/plain": [
       "<AxesSubplot:ylabel='PRODUCT'>"
      ]
     },
     "execution_count": 7,
     "metadata": {},
     "output_type": "execute_result"
    },
    {
     "data": {
      "image/png": "[encoded data removed]",
      "text/plain": [
       "<Figure size 432x288 with 1 Axes>"
      ]
     },
     "metadata": {
      "needs_background": "light"
     },
     "output_type": "display_data"
    }
   ],
   "source": [
    "df_pivot_diff.sort_values(\"stamp_2\", ascending = False)[\"stamp_2\"].head(10).plot.barh()"
   ]
  },
  {
   "cell_type": "code",
   "execution_count": null,
   "id": "extra-executive",
   "metadata": {
    "papermill": {
     "duration": 0.034594,
     "end_time": "2021-11-20T11:30:12.732314",
     "exception": false,
     "start_time": "2021-11-20T11:30:12.697720",
     "status": "completed"
    },
    "tags": []
   },
   "outputs": [],
   "source": []
  }
 ],
 "metadata": {
  "kernelspec": {
   "display_name": "Python 3",
   "language": "python",
   "name": "python3"
  },
  "language_info": {
   "codemirror_mode": {
    "name": "ipython",
    "version": 3
   },
   "file_extension": ".py",
   "mimetype": "text/x-python",
   "name": "python",
   "nbconvert_exporter": "python",
   "pygments_lexer": "ipython3",
   "version": "3.9.5"
  },
  "papermill": {
   "default_parameters": {},
   "duration": 10.010714,
   "end_time": "2021-11-20T11:30:14.551069",
   "environment_variables": {},
   "exception": null,
   "input_path": "eBay_Overview.ipynb",
   "output_path": "eBay_Overview.ipynb",
   "parameters": {},
   "start_time": "2021-11-20T11:30:04.540355",
   "version": "2.3.3"
  }
 },
 "nbformat": 4,
 "nbformat_minor": 5
}