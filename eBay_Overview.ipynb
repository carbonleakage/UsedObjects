{
 "cells": [
  {
   "cell_type": "code",
   "execution_count": 1,
   "id": "reverse-picking",
   "metadata": {
    "execution": {
     "iopub.execute_input": "2021-09-06T00:30:06.729044Z",
     "iopub.status.busy": "2021-09-06T00:30:06.727132Z",
     "iopub.status.idle": "2021-09-06T00:30:07.532175Z",
     "shell.execute_reply": "2021-09-06T00:30:07.533421Z"
    },
    "papermill": {
     "duration": 0.850741,
     "end_time": "2021-09-06T00:30:07.534048",
     "exception": false,
     "start_time": "2021-09-06T00:30:06.683307",
     "status": "completed"
    },
    "tags": []
   },
   "outputs": [],
   "source": [
    "import pandas as pd\n",
    "import sqlite3"
   ]
  },
  {
   "cell_type": "code",
   "execution_count": 2,
   "id": "innovative-syndrome",
   "metadata": {
    "execution": {
     "iopub.execute_input": "2021-09-06T00:30:07.586250Z",
     "iopub.status.busy": "2021-09-06T00:30:07.583923Z",
     "iopub.status.idle": "2021-09-06T00:30:07.798480Z",
     "shell.execute_reply": "2021-09-06T00:30:07.800018Z"
    },
    "papermill": {
     "duration": 0.244278,
     "end_time": "2021-09-06T00:30:07.800455",
     "exception": false,
     "start_time": "2021-09-06T00:30:07.556177",
     "status": "completed"
    },
    "tags": []
   },
   "outputs": [],
   "source": [
    "timestamps = pd.read_sql(\"select distinct record_time from EBAY_TOP_BERLIN order by record_time desc limit 2\", sqlite3.connect(\"UsedObjects.db\"))"
   ]
  },
  {
   "cell_type": "code",
   "execution_count": 3,
   "id": "periodic-identification",
   "metadata": {
    "execution": {
     "iopub.execute_input": "2021-09-06T00:30:07.865933Z",
     "iopub.status.busy": "2021-09-06T00:30:07.863934Z",
     "iopub.status.idle": "2021-09-06T00:30:07.883751Z",
     "shell.execute_reply": "2021-09-06T00:30:07.885130Z"
    },
    "papermill": {
     "duration": 0.065965,
     "end_time": "2021-09-06T00:30:07.885609",
     "exception": false,
     "start_time": "2021-09-06T00:30:07.819644",
     "status": "completed"
    },
    "tags": []
   },
   "outputs": [
    {
     "data": {
      "text/html": [
       "<div>\n",
       "<style scoped>\n",
       "    .dataframe tbody tr th:only-of-type {\n",
       "        vertical-align: middle;\n",
       "    }\n",
       "\n",
       "    .dataframe tbody tr th {\n",
       "        vertical-align: top;\n",
       "    }\n",
       "\n",
       "    .dataframe thead th {\n",
       "        text-align: right;\n",
       "    }\n",
       "</style>\n",
       "<table border=\"1\" class=\"dataframe\">\n",
       "  <thead>\n",
       "    <tr style=\"text-align: right;\">\n",
       "      <th></th>\n",
       "      <th>RECORD_TIME</th>\n",
       "    </tr>\n",
       "  </thead>\n",
       "  <tbody>\n",
       "    <tr>\n",
       "      <th>0</th>\n",
       "      <td>2021-09-06 02:30</td>\n",
       "    </tr>\n",
       "    <tr>\n",
       "      <th>1</th>\n",
       "      <td>2021-09-06 02:00</td>\n",
       "    </tr>\n",
       "  </tbody>\n",
       "</table>\n",
       "</div>"
      ],
      "text/plain": [
       "        RECORD_TIME\n",
       "0  2021-09-06 02:30\n",
       "1  2021-09-06 02:00"
      ]
     },
     "execution_count": 3,
     "metadata": {},
     "output_type": "execute_result"
    }
   ],
   "source": [
    "timestamps"
   ]
  },
  {
   "cell_type": "code",
   "execution_count": 4,
   "id": "alternate-victory",
   "metadata": {
    "execution": {
     "iopub.execute_input": "2021-09-06T00:30:07.937525Z",
     "iopub.status.busy": "2021-09-06T00:30:07.935520Z",
     "iopub.status.idle": "2021-09-06T00:30:08.253425Z",
     "shell.execute_reply": "2021-09-06T00:30:08.254644Z"
    },
    "papermill": {
     "duration": 0.348432,
     "end_time": "2021-09-06T00:30:08.255235",
     "exception": false,
     "start_time": "2021-09-06T00:30:07.906803",
     "status": "completed"
    },
    "tags": []
   },
   "outputs": [],
   "source": [
    "df = pd.read_sql(\"select * from EBAY_TOP_BERLIN where record_time in (select distinct record_time from EBAY_TOP_BERLIN order by record_time desc limit 2)\", sqlite3.connect(\"UsedObjects.db\"))"
   ]
  },
  {
   "cell_type": "code",
   "execution_count": 5,
   "id": "popular-active",
   "metadata": {
    "execution": {
     "iopub.execute_input": "2021-09-06T00:30:08.334533Z",
     "iopub.status.busy": "2021-09-06T00:30:08.322952Z",
     "iopub.status.idle": "2021-09-06T00:30:08.350315Z",
     "shell.execute_reply": "2021-09-06T00:30:08.351669Z"
    },
    "papermill": {
     "duration": 0.070698,
     "end_time": "2021-09-06T00:30:08.352087",
     "exception": false,
     "start_time": "2021-09-06T00:30:08.281389",
     "status": "completed"
    },
    "tags": []
   },
   "outputs": [],
   "source": [
    "df_pivot = df.pivot_table(index=\"PRODUCT\", columns = \"RECORD_TIME\", values = \"LISTING_COUNT\")"
   ]
  },
  {
   "cell_type": "code",
   "execution_count": 6,
   "id": "union-huntington",
   "metadata": {
    "execution": {
     "iopub.execute_input": "2021-09-06T00:30:08.408015Z",
     "iopub.status.busy": "2021-09-06T00:30:08.405928Z",
     "iopub.status.idle": "2021-09-06T00:30:08.411318Z",
     "shell.execute_reply": "2021-09-06T00:30:08.412610Z"
    },
    "papermill": {
     "duration": 0.039954,
     "end_time": "2021-09-06T00:30:08.413025",
     "exception": false,
     "start_time": "2021-09-06T00:30:08.373071",
     "status": "completed"
    },
    "tags": []
   },
   "outputs": [],
   "source": [
    "df_pivot.columns = [\"stamp_1\", \"stamp_2\"]\n",
    "df_pivot_diff = df_pivot.diff(axis=1)"
   ]
  },
  {
   "cell_type": "code",
   "execution_count": 7,
   "id": "fifth-motion",
   "metadata": {
    "execution": {
     "iopub.execute_input": "2021-09-06T00:30:08.466440Z",
     "iopub.status.busy": "2021-09-06T00:30:08.464090Z",
     "iopub.status.idle": "2021-09-06T00:30:09.937891Z",
     "shell.execute_reply": "2021-09-06T00:30:09.939238Z"
    },
    "papermill": {
     "duration": 1.506429,
     "end_time": "2021-09-06T00:30:09.939658",
     "exception": false,
     "start_time": "2021-09-06T00:30:08.433229",
     "status": "completed"
    },
    "tags": []
   },
   "outputs": [
    {
     "data": {
      "text/plain": [
       "<AxesSubplot:ylabel='PRODUCT'>"
      ]
     },
     "execution_count": 7,
     "metadata": {},
     "output_type": "execute_result"
    },
    {
     "data": {
      "image/png": "[encoded data removed]",
      "text/plain": [
       "<Figure size 432x288 with 1 Axes>"
      ]
     },
     "metadata": {
      "needs_background": "light"
     },
     "output_type": "display_data"
    }
   ],
   "source": [
    "df_pivot_diff.sort_values(\"stamp_2\", ascending = False)[\"stamp_2\"].head(10).plot.barh()"
   ]
  },
  {
   "cell_type": "code",
   "execution_count": null,
   "id": "extra-executive",
   "metadata": {
    "papermill": {
     "duration": 0.021844,
     "end_time": "2021-09-06T00:30:09.985045",
     "exception": false,
     "start_time": "2021-09-06T00:30:09.963201",
     "status": "completed"
    },
    "tags": []
   },
   "outputs": [],
   "source": []
  }
 ],
 "metadata": {
  "kernelspec": {
   "display_name": "Python 3",
   "language": "python",
   "name": "python3"
  },
  "language_info": {
   "codemirror_mode": {
    "name": "ipython",
    "version": 3
   },
   "file_extension": ".py",
   "mimetype": "text/x-python",
   "name": "python",
   "nbconvert_exporter": "python",
   "pygments_lexer": "ipython3",
   "version": "3.9.5"
  },
  "papermill": {
   "default_parameters": {},
   "duration": 6.348292,
   "end_time": "2021-09-06T00:30:10.627242",
   "environment_variables": {},
   "exception": null,
   "input_path": "eBay_Overview.ipynb",
   "output_path": "eBay_Overview.ipynb",
   "parameters": {},
   "start_time": "2021-09-06T00:30:04.278950",
   "version": "2.3.3"
  }
 },
 "nbformat": 4,
 "nbformat_minor": 5
}