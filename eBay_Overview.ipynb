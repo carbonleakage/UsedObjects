{
 "cells": [
  {
   "cell_type": "code",
   "execution_count": 1,
   "id": "reverse-picking",
   "metadata": {
    "execution": {
     "iopub.execute_input": "2021-08-16T13:30:06.632310Z",
     "iopub.status.busy": "2021-08-16T13:30:06.630323Z",
     "iopub.status.idle": "2021-08-16T13:30:07.444510Z",
     "shell.execute_reply": "2021-08-16T13:30:07.445760Z"
    },
    "papermill": {
     "duration": 0.866013,
     "end_time": "2021-08-16T13:30:07.446569",
     "exception": false,
     "start_time": "2021-08-16T13:30:06.580556",
     "status": "completed"
    },
    "tags": []
   },
   "outputs": [],
   "source": [
    "import pandas as pd\n",
    "import sqlite3"
   ]
  },
  {
   "cell_type": "code",
   "execution_count": 2,
   "id": "innovative-syndrome",
   "metadata": {
    "execution": {
     "iopub.execute_input": "2021-08-16T13:30:07.500161Z",
     "iopub.status.busy": "2021-08-16T13:30:07.497762Z",
     "iopub.status.idle": "2021-08-16T13:30:07.560160Z",
     "shell.execute_reply": "2021-08-16T13:30:07.561363Z"
    },
    "papermill": {
     "duration": 0.09272,
     "end_time": "2021-08-16T13:30:07.561754",
     "exception": false,
     "start_time": "2021-08-16T13:30:07.469034",
     "status": "completed"
    },
    "tags": []
   },
   "outputs": [],
   "source": [
    "timestamps = pd.read_sql(\"select distinct record_time from EBAY_TOP_BERLIN order by record_time desc limit 2\", sqlite3.connect(\"UsedObjects.db\"))"
   ]
  },
  {
   "cell_type": "code",
   "execution_count": 3,
   "id": "periodic-identification",
   "metadata": {
    "execution": {
     "iopub.execute_input": "2021-08-16T13:30:07.625605Z",
     "iopub.status.busy": "2021-08-16T13:30:07.623580Z",
     "iopub.status.idle": "2021-08-16T13:30:07.643495Z",
     "shell.execute_reply": "2021-08-16T13:30:07.644687Z"
    },
    "papermill": {
     "duration": 0.063643,
     "end_time": "2021-08-16T13:30:07.645114",
     "exception": false,
     "start_time": "2021-08-16T13:30:07.581471",
     "status": "completed"
    },
    "tags": []
   },
   "outputs": [
    {
     "data": {
      "text/html": [
       "<div>\n",
       "<style scoped>\n",
       "    .dataframe tbody tr th:only-of-type {\n",
       "        vertical-align: middle;\n",
       "    }\n",
       "\n",
       "    .dataframe tbody tr th {\n",
       "        vertical-align: top;\n",
       "    }\n",
       "\n",
       "    .dataframe thead th {\n",
       "        text-align: right;\n",
       "    }\n",
       "</style>\n",
       "<table border=\"1\" class=\"dataframe\">\n",
       "  <thead>\n",
       "    <tr style=\"text-align: right;\">\n",
       "      <th></th>\n",
       "      <th>RECORD_TIME</th>\n",
       "    </tr>\n",
       "  </thead>\n",
       "  <tbody>\n",
       "    <tr>\n",
       "      <th>0</th>\n",
       "      <td>2021-08-16 15:30</td>\n",
       "    </tr>\n",
       "    <tr>\n",
       "      <th>1</th>\n",
       "      <td>2021-08-16 15:00</td>\n",
       "    </tr>\n",
       "  </tbody>\n",
       "</table>\n",
       "</div>"
      ],
      "text/plain": [
       "        RECORD_TIME\n",
       "0  2021-08-16 15:30\n",
       "1  2021-08-16 15:00"
      ]
     },
     "execution_count": 3,
     "metadata": {},
     "output_type": "execute_result"
    }
   ],
   "source": [
    "timestamps"
   ]
  },
  {
   "cell_type": "code",
   "execution_count": 4,
   "id": "alternate-victory",
   "metadata": {
    "execution": {
     "iopub.execute_input": "2021-08-16T13:30:07.697752Z",
     "iopub.status.busy": "2021-08-16T13:30:07.695908Z",
     "iopub.status.idle": "2021-08-16T13:30:07.787578Z",
     "shell.execute_reply": "2021-08-16T13:30:07.788790Z"
    },
    "papermill": {
     "duration": 0.121907,
     "end_time": "2021-08-16T13:30:07.789187",
     "exception": false,
     "start_time": "2021-08-16T13:30:07.667280",
     "status": "completed"
    },
    "tags": []
   },
   "outputs": [],
   "source": [
    "df = pd.read_sql(\"select * from EBAY_TOP_BERLIN where record_time in (select distinct record_time from EBAY_TOP_BERLIN order by record_time desc limit 2)\", sqlite3.connect(\"UsedObjects.db\"))"
   ]
  },
  {
   "cell_type": "code",
   "execution_count": 5,
   "id": "popular-active",
   "metadata": {
    "execution": {
     "iopub.execute_input": "2021-08-16T13:30:07.859834Z",
     "iopub.status.busy": "2021-08-16T13:30:07.848729Z",
     "iopub.status.idle": "2021-08-16T13:30:07.875551Z",
     "shell.execute_reply": "2021-08-16T13:30:07.876814Z"
    },
    "papermill": {
     "duration": 0.067321,
     "end_time": "2021-08-16T13:30:07.877228",
     "exception": false,
     "start_time": "2021-08-16T13:30:07.809907",
     "status": "completed"
    },
    "tags": []
   },
   "outputs": [],
   "source": [
    "df_pivot = df.pivot_table(index=\"PRODUCT\", columns = \"RECORD_TIME\", values = \"LISTING_COUNT\")"
   ]
  },
  {
   "cell_type": "code",
   "execution_count": 6,
   "id": "union-huntington",
   "metadata": {
    "execution": {
     "iopub.execute_input": "2021-08-16T13:30:07.934003Z",
     "iopub.status.busy": "2021-08-16T13:30:07.931912Z",
     "iopub.status.idle": "2021-08-16T13:30:07.937257Z",
     "shell.execute_reply": "2021-08-16T13:30:07.938750Z"
    },
    "papermill": {
     "duration": 0.040659,
     "end_time": "2021-08-16T13:30:07.939184",
     "exception": false,
     "start_time": "2021-08-16T13:30:07.898525",
     "status": "completed"
    },
    "tags": []
   },
   "outputs": [],
   "source": [
    "df_pivot.columns = [\"stamp_1\", \"stamp_2\"]\n",
    "df_pivot_diff = df_pivot.diff(axis=1)"
   ]
  },
  {
   "cell_type": "code",
   "execution_count": 7,
   "id": "fifth-motion",
   "metadata": {
    "execution": {
     "iopub.execute_input": "2021-08-16T13:30:07.995713Z",
     "iopub.status.busy": "2021-08-16T13:30:07.992986Z",
     "iopub.status.idle": "2021-08-16T13:30:09.514356Z",
     "shell.execute_reply": "2021-08-16T13:30:09.515658Z"
    },
    "papermill": {
     "duration": 1.555622,
     "end_time": "2021-08-16T13:30:09.516078",
     "exception": false,
     "start_time": "2021-08-16T13:30:07.960456",
     "status": "completed"
    },
    "tags": []
   },
   "outputs": [
    {
     "data": {
      "text/plain": [
       "<AxesSubplot:ylabel='PRODUCT'>"
      ]
     },
     "execution_count": 7,
     "metadata": {},
     "output_type": "execute_result"
    },
    {
     "data": {
      "image/png": "[encoded data removed]",
      "text/plain": [
       "<Figure size 432x288 with 1 Axes>"
      ]
     },
     "metadata": {
      "needs_background": "light"
     },
     "output_type": "display_data"
    }
   ],
   "source": [
    "df_pivot_diff.sort_values(\"stamp_2\", ascending = False)[\"stamp_2\"].head(10).plot.barh()"
   ]
  },
  {
   "cell_type": "code",
   "execution_count": null,
   "id": "extra-executive",
   "metadata": {
    "papermill": {
     "duration": 0.022439,
     "end_time": "2021-08-16T13:30:09.563537",
     "exception": false,
     "start_time": "2021-08-16T13:30:09.541098",
     "status": "completed"
    },
    "tags": []
   },
   "outputs": [],
   "source": []
  }
 ],
 "metadata": {
  "kernelspec": {
   "display_name": "Python 3",
   "language": "python",
   "name": "python3"
  },
  "language_info": {
   "codemirror_mode": {
    "name": "ipython",
    "version": 3
   },
   "file_extension": ".py",
   "mimetype": "text/x-python",
   "name": "python",
   "nbconvert_exporter": "python",
   "pygments_lexer": "ipython3",
   "version": "3.9.5"
  },
  "papermill": {
   "default_parameters": {},
   "duration": 6.831534,
   "end_time": "2021-08-16T13:30:10.984821",
   "environment_variables": {},
   "exception": null,
   "input_path": "eBay_Overview.ipynb",
   "output_path": "eBay_Overview.ipynb",
   "parameters": {},
   "start_time": "2021-08-16T13:30:04.153287",
   "version": "2.3.3"
  }
 },
 "nbformat": 4,
 "nbformat_minor": 5
}