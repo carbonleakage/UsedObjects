{
 "cells": [
  {
   "cell_type": "code",
   "execution_count": 1,
   "id": "reverse-picking",
   "metadata": {
    "execution": {
     "iopub.execute_input": "2021-09-30T04:00:07.032490Z",
     "iopub.status.busy": "2021-09-30T04:00:07.030470Z",
     "iopub.status.idle": "2021-09-30T04:00:07.839340Z",
     "shell.execute_reply": "2021-09-30T04:00:07.840617Z"
    },
    "papermill": {
     "duration": 0.861194,
     "end_time": "2021-09-30T04:00:07.841230",
     "exception": false,
     "start_time": "2021-09-30T04:00:06.980036",
     "status": "completed"
    },
    "tags": []
   },
   "outputs": [],
   "source": [
    "import pandas as pd\n",
    "import sqlite3"
   ]
  },
  {
   "cell_type": "code",
   "execution_count": 2,
   "id": "innovative-syndrome",
   "metadata": {
    "execution": {
     "iopub.execute_input": "2021-09-30T04:00:07.894871Z",
     "iopub.status.busy": "2021-09-30T04:00:07.892515Z",
     "iopub.status.idle": "2021-09-30T04:00:08.307112Z",
     "shell.execute_reply": "2021-09-30T04:00:08.308450Z"
    },
    "papermill": {
     "duration": 0.444463,
     "end_time": "2021-09-30T04:00:08.308859",
     "exception": false,
     "start_time": "2021-09-30T04:00:07.864396",
     "status": "completed"
    },
    "tags": []
   },
   "outputs": [],
   "source": [
    "timestamps = pd.read_sql(\"select distinct record_time from EBAY_TOP_BERLIN order by record_time desc limit 2\", sqlite3.connect(\"UsedObjects.db\"))"
   ]
  },
  {
   "cell_type": "code",
   "execution_count": 3,
   "id": "periodic-identification",
   "metadata": {
    "execution": {
     "iopub.execute_input": "2021-09-30T04:00:08.372728Z",
     "iopub.status.busy": "2021-09-30T04:00:08.370653Z",
     "iopub.status.idle": "2021-09-30T04:00:08.390734Z",
     "shell.execute_reply": "2021-09-30T04:00:08.392036Z"
    },
    "papermill": {
     "duration": 0.064266,
     "end_time": "2021-09-30T04:00:08.392437",
     "exception": false,
     "start_time": "2021-09-30T04:00:08.328171",
     "status": "completed"
    },
    "tags": []
   },
   "outputs": [
    {
     "data": {
      "text/html": [
       "<div>\n",
       "<style scoped>\n",
       "    .dataframe tbody tr th:only-of-type {\n",
       "        vertical-align: middle;\n",
       "    }\n",
       "\n",
       "    .dataframe tbody tr th {\n",
       "        vertical-align: top;\n",
       "    }\n",
       "\n",
       "    .dataframe thead th {\n",
       "        text-align: right;\n",
       "    }\n",
       "</style>\n",
       "<table border=\"1\" class=\"dataframe\">\n",
       "  <thead>\n",
       "    <tr style=\"text-align: right;\">\n",
       "      <th></th>\n",
       "      <th>RECORD_TIME</th>\n",
       "    </tr>\n",
       "  </thead>\n",
       "  <tbody>\n",
       "    <tr>\n",
       "      <th>0</th>\n",
       "      <td>2021-09-30 06:00</td>\n",
       "    </tr>\n",
       "    <tr>\n",
       "      <th>1</th>\n",
       "      <td>2021-09-30 05:30</td>\n",
       "    </tr>\n",
       "  </tbody>\n",
       "</table>\n",
       "</div>"
      ],
      "text/plain": [
       "        RECORD_TIME\n",
       "0  2021-09-30 06:00\n",
       "1  2021-09-30 05:30"
      ]
     },
     "execution_count": 3,
     "metadata": {},
     "output_type": "execute_result"
    }
   ],
   "source": [
    "timestamps"
   ]
  },
  {
   "cell_type": "code",
   "execution_count": 4,
   "id": "alternate-victory",
   "metadata": {
    "execution": {
     "iopub.execute_input": "2021-09-30T04:00:08.443446Z",
     "iopub.status.busy": "2021-09-30T04:00:08.441362Z",
     "iopub.status.idle": "2021-09-30T04:00:09.051607Z",
     "shell.execute_reply": "2021-09-30T04:00:09.052908Z"
    },
    "papermill": {
     "duration": 0.640161,
     "end_time": "2021-09-30T04:00:09.053309",
     "exception": false,
     "start_time": "2021-09-30T04:00:08.413148",
     "status": "completed"
    },
    "tags": []
   },
   "outputs": [],
   "source": [
    "df = pd.read_sql(\"select * from EBAY_TOP_BERLIN where record_time in (select distinct record_time from EBAY_TOP_BERLIN order by record_time desc limit 2)\", sqlite3.connect(\"UsedObjects.db\"))"
   ]
  },
  {
   "cell_type": "code",
   "execution_count": 5,
   "id": "popular-active",
   "metadata": {
    "execution": {
     "iopub.execute_input": "2021-09-30T04:00:09.122754Z",
     "iopub.status.busy": "2021-09-30T04:00:09.111374Z",
     "iopub.status.idle": "2021-09-30T04:00:09.139308Z",
     "shell.execute_reply": "2021-09-30T04:00:09.140530Z"
    },
    "papermill": {
     "duration": 0.067303,
     "end_time": "2021-09-30T04:00:09.140929",
     "exception": false,
     "start_time": "2021-09-30T04:00:09.073626",
     "status": "completed"
    },
    "tags": []
   },
   "outputs": [],
   "source": [
    "df_pivot = df.pivot_table(index=\"PRODUCT\", columns = \"RECORD_TIME\", values = \"LISTING_COUNT\")"
   ]
  },
  {
   "cell_type": "code",
   "execution_count": 6,
   "id": "union-huntington",
   "metadata": {
    "execution": {
     "iopub.execute_input": "2021-09-30T04:00:09.200014Z",
     "iopub.status.busy": "2021-09-30T04:00:09.197571Z",
     "iopub.status.idle": "2021-09-30T04:00:09.203874Z",
     "shell.execute_reply": "2021-09-30T04:00:09.205332Z"
    },
    "papermill": {
     "duration": 0.042649,
     "end_time": "2021-09-30T04:00:09.205798",
     "exception": false,
     "start_time": "2021-09-30T04:00:09.163149",
     "status": "completed"
    },
    "tags": []
   },
   "outputs": [],
   "source": [
    "df_pivot.columns = [\"stamp_1\", \"stamp_2\"]\n",
    "df_pivot_diff = df_pivot.diff(axis=1)"
   ]
  },
  {
   "cell_type": "code",
   "execution_count": 7,
   "id": "fifth-motion",
   "metadata": {
    "execution": {
     "iopub.execute_input": "2021-09-30T04:00:09.260712Z",
     "iopub.status.busy": "2021-09-30T04:00:09.258268Z",
     "iopub.status.idle": "2021-09-30T04:00:10.770390Z",
     "shell.execute_reply": "2021-09-30T04:00:10.771655Z"
    },
    "papermill": {
     "duration": 1.54469,
     "end_time": "2021-09-30T04:00:10.772089",
     "exception": false,
     "start_time": "2021-09-30T04:00:09.227399",
     "status": "completed"
    },
    "tags": []
   },
   "outputs": [
    {
     "data": {
      "text/plain": [
       "<AxesSubplot:ylabel='PRODUCT'>"
      ]
     },
     "execution_count": 7,
     "metadata": {},
     "output_type": "execute_result"
    },
    {
     "data": {
      "image/png": "[encoded data removed]",
      "text/plain": [
       "<Figure size 432x288 with 1 Axes>"
      ]
     },
     "metadata": {
      "needs_background": "light"
     },
     "output_type": "display_data"
    }
   ],
   "source": [
    "df_pivot_diff.sort_values(\"stamp_2\", ascending = False)[\"stamp_2\"].head(10).plot.barh()"
   ]
  },
  {
   "cell_type": "code",
   "execution_count": null,
   "id": "extra-executive",
   "metadata": {
    "papermill": {
     "duration": 0.022308,
     "end_time": "2021-09-30T04:00:10.821613",
     "exception": false,
     "start_time": "2021-09-30T04:00:10.799305",
     "status": "completed"
    },
    "tags": []
   },
   "outputs": [],
   "source": []
  }
 ],
 "metadata": {
  "kernelspec": {
   "display_name": "Python 3",
   "language": "python",
   "name": "python3"
  },
  "language_info": {
   "codemirror_mode": {
    "name": "ipython",
    "version": 3
   },
   "file_extension": ".py",
   "mimetype": "text/x-python",
   "name": "python",
   "nbconvert_exporter": "python",
   "pygments_lexer": "ipython3",
   "version": "3.9.5"
  },
  "papermill": {
   "default_parameters": {},
   "duration": 7.818224,
   "end_time": "2021-09-30T04:00:12.386398",
   "environment_variables": {},
   "exception": null,
   "input_path": "eBay_Overview.ipynb",
   "output_path": "eBay_Overview.ipynb",
   "parameters": {},
   "start_time": "2021-09-30T04:00:04.568174",
   "version": "2.3.3"
  }
 },
 "nbformat": 4,
 "nbformat_minor": 5
}