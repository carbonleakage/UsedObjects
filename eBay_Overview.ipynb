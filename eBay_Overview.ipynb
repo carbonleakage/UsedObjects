{
 "cells": [
  {
   "cell_type": "code",
   "execution_count": 1,
   "id": "reverse-picking",
   "metadata": {
    "execution": {
     "iopub.execute_input": "2021-08-14T10:30:06.731729Z",
     "iopub.status.busy": "2021-08-14T10:30:06.729666Z",
     "iopub.status.idle": "2021-08-14T10:30:07.540093Z",
     "shell.execute_reply": "2021-08-14T10:30:07.541342Z"
    },
    "papermill": {
     "duration": 0.862213,
     "end_time": "2021-08-14T10:30:07.542198",
     "exception": false,
     "start_time": "2021-08-14T10:30:06.679985",
     "status": "completed"
    },
    "tags": []
   },
   "outputs": [],
   "source": [
    "import pandas as pd\n",
    "import sqlite3"
   ]
  },
  {
   "cell_type": "code",
   "execution_count": 2,
   "id": "innovative-syndrome",
   "metadata": {
    "execution": {
     "iopub.execute_input": "2021-08-14T10:30:07.592572Z",
     "iopub.status.busy": "2021-08-14T10:30:07.590416Z",
     "iopub.status.idle": "2021-08-14T10:30:07.637968Z",
     "shell.execute_reply": "2021-08-14T10:30:07.639244Z"
    },
    "papermill": {
     "duration": 0.077492,
     "end_time": "2021-08-14T10:30:07.639659",
     "exception": false,
     "start_time": "2021-08-14T10:30:07.562167",
     "status": "completed"
    },
    "tags": []
   },
   "outputs": [],
   "source": [
    "timestamps = pd.read_sql(\"select distinct record_time from EBAY_TOP_BERLIN order by record_time desc limit 2\", sqlite3.connect(\"UsedObjects.db\"))"
   ]
  },
  {
   "cell_type": "code",
   "execution_count": 3,
   "id": "periodic-identification",
   "metadata": {
    "execution": {
     "iopub.execute_input": "2021-08-14T10:30:07.705068Z",
     "iopub.status.busy": "2021-08-14T10:30:07.703048Z",
     "iopub.status.idle": "2021-08-14T10:30:07.723039Z",
     "shell.execute_reply": "2021-08-14T10:30:07.724247Z"
    },
    "papermill": {
     "duration": 0.064931,
     "end_time": "2021-08-14T10:30:07.724674",
     "exception": false,
     "start_time": "2021-08-14T10:30:07.659743",
     "status": "completed"
    },
    "tags": []
   },
   "outputs": [
    {
     "data": {
      "text/html": [
       "<div>\n",
       "<style scoped>\n",
       "    .dataframe tbody tr th:only-of-type {\n",
       "        vertical-align: middle;\n",
       "    }\n",
       "\n",
       "    .dataframe tbody tr th {\n",
       "        vertical-align: top;\n",
       "    }\n",
       "\n",
       "    .dataframe thead th {\n",
       "        text-align: right;\n",
       "    }\n",
       "</style>\n",
       "<table border=\"1\" class=\"dataframe\">\n",
       "  <thead>\n",
       "    <tr style=\"text-align: right;\">\n",
       "      <th></th>\n",
       "      <th>RECORD_TIME</th>\n",
       "    </tr>\n",
       "  </thead>\n",
       "  <tbody>\n",
       "    <tr>\n",
       "      <th>0</th>\n",
       "      <td>2021-08-14 12:30</td>\n",
       "    </tr>\n",
       "    <tr>\n",
       "      <th>1</th>\n",
       "      <td>2021-08-14 12:00</td>\n",
       "    </tr>\n",
       "  </tbody>\n",
       "</table>\n",
       "</div>"
      ],
      "text/plain": [
       "        RECORD_TIME\n",
       "0  2021-08-14 12:30\n",
       "1  2021-08-14 12:00"
      ]
     },
     "execution_count": 3,
     "metadata": {},
     "output_type": "execute_result"
    }
   ],
   "source": [
    "timestamps"
   ]
  },
  {
   "cell_type": "code",
   "execution_count": 4,
   "id": "alternate-victory",
   "metadata": {
    "execution": {
     "iopub.execute_input": "2021-08-14T10:30:07.775493Z",
     "iopub.status.busy": "2021-08-14T10:30:07.773474Z",
     "iopub.status.idle": "2021-08-14T10:30:07.843173Z",
     "shell.execute_reply": "2021-08-14T10:30:07.844304Z"
    },
    "papermill": {
     "duration": 0.099604,
     "end_time": "2021-08-14T10:30:07.844709",
     "exception": false,
     "start_time": "2021-08-14T10:30:07.745105",
     "status": "completed"
    },
    "tags": []
   },
   "outputs": [],
   "source": [
    "df = pd.read_sql(\"select * from EBAY_TOP_BERLIN where record_time in (select distinct record_time from EBAY_TOP_BERLIN order by record_time desc limit 2)\", sqlite3.connect(\"UsedObjects.db\"))"
   ]
  },
  {
   "cell_type": "code",
   "execution_count": 5,
   "id": "popular-active",
   "metadata": {
    "execution": {
     "iopub.execute_input": "2021-08-14T10:30:07.914649Z",
     "iopub.status.busy": "2021-08-14T10:30:07.907006Z",
     "iopub.status.idle": "2021-08-14T10:30:07.935039Z",
     "shell.execute_reply": "2021-08-14T10:30:07.936245Z"
    },
    "papermill": {
     "duration": 0.068598,
     "end_time": "2021-08-14T10:30:07.936641",
     "exception": false,
     "start_time": "2021-08-14T10:30:07.868043",
     "status": "completed"
    },
    "tags": []
   },
   "outputs": [],
   "source": [
    "df_pivot = df.pivot_table(index=\"PRODUCT\", columns = \"RECORD_TIME\", values = \"LISTING_COUNT\")"
   ]
  },
  {
   "cell_type": "code",
   "execution_count": 6,
   "id": "union-huntington",
   "metadata": {
    "execution": {
     "iopub.execute_input": "2021-08-14T10:30:07.996662Z",
     "iopub.status.busy": "2021-08-14T10:30:07.994202Z",
     "iopub.status.idle": "2021-08-14T10:30:08.000245Z",
     "shell.execute_reply": "2021-08-14T10:30:08.001695Z"
    },
    "papermill": {
     "duration": 0.042623,
     "end_time": "2021-08-14T10:30:08.002216",
     "exception": false,
     "start_time": "2021-08-14T10:30:07.959593",
     "status": "completed"
    },
    "tags": []
   },
   "outputs": [],
   "source": [
    "df_pivot.columns = [\"stamp_1\", \"stamp_2\"]\n",
    "df_pivot_diff = df_pivot.diff(axis=1)"
   ]
  },
  {
   "cell_type": "code",
   "execution_count": 7,
   "id": "fifth-motion",
   "metadata": {
    "execution": {
     "iopub.execute_input": "2021-08-14T10:30:08.056867Z",
     "iopub.status.busy": "2021-08-14T10:30:08.054551Z",
     "iopub.status.idle": "2021-08-14T10:30:09.557743Z",
     "shell.execute_reply": "2021-08-14T10:30:09.559195Z"
    },
    "papermill": {
     "duration": 1.536569,
     "end_time": "2021-08-14T10:30:09.559637",
     "exception": false,
     "start_time": "2021-08-14T10:30:08.023068",
     "status": "completed"
    },
    "tags": []
   },
   "outputs": [
    {
     "data": {
      "text/plain": [
       "<AxesSubplot:ylabel='PRODUCT'>"
      ]
     },
     "execution_count": 7,
     "metadata": {},
     "output_type": "execute_result"
    },
    {
     "data": {
      "image/png": "[encoded data removed]",
      "text/plain": [
       "<Figure size 432x288 with 1 Axes>"
      ]
     },
     "metadata": {
      "needs_background": "light"
     },
     "output_type": "display_data"
    }
   ],
   "source": [
    "df_pivot_diff.sort_values(\"stamp_2\", ascending = False)[\"stamp_2\"].head(10).plot.barh()"
   ]
  },
  {
   "cell_type": "code",
   "execution_count": null,
   "id": "extra-executive",
   "metadata": {
    "papermill": {
     "duration": 0.022358,
     "end_time": "2021-08-14T10:30:09.606619",
     "exception": false,
     "start_time": "2021-08-14T10:30:09.584261",
     "status": "completed"
    },
    "tags": []
   },
   "outputs": [],
   "source": []
  }
 ],
 "metadata": {
  "kernelspec": {
   "display_name": "Python 3",
   "language": "python",
   "name": "python3"
  },
  "language_info": {
   "codemirror_mode": {
    "name": "ipython",
    "version": 3
   },
   "file_extension": ".py",
   "mimetype": "text/x-python",
   "name": "python",
   "nbconvert_exporter": "python",
   "pygments_lexer": "ipython3",
   "version": "3.9.5"
  },
  "papermill": {
   "default_parameters": {},
   "duration": 6.826182,
   "end_time": "2021-08-14T10:30:11.094252",
   "environment_variables": {},
   "exception": null,
   "input_path": "eBay_Overview.ipynb",
   "output_path": "eBay_Overview.ipynb",
   "parameters": {},
   "start_time": "2021-08-14T10:30:04.268070",
   "version": "2.3.3"
  }
 },
 "nbformat": 4,
 "nbformat_minor": 5
}