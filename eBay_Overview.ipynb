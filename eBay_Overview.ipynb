{
 "cells": [
  {
   "cell_type": "code",
   "execution_count": 1,
   "id": "reverse-picking",
   "metadata": {
    "execution": {
     "iopub.execute_input": "2021-12-06T13:00:07.991393Z",
     "iopub.status.busy": "2021-12-06T13:00:07.989364Z",
     "iopub.status.idle": "2021-12-06T13:00:08.965090Z",
     "shell.execute_reply": "2021-12-06T13:00:08.966532Z"
    },
    "papermill": {
     "duration": 1.025215,
     "end_time": "2021-12-06T13:00:08.967218",
     "exception": false,
     "start_time": "2021-12-06T13:00:07.942003",
     "status": "completed"
    },
    "tags": []
   },
   "outputs": [],
   "source": [
    "import pandas as pd\n",
    "import sqlite3"
   ]
  },
  {
   "cell_type": "code",
   "execution_count": 2,
   "id": "innovative-syndrome",
   "metadata": {
    "execution": {
     "iopub.execute_input": "2021-12-06T13:00:09.091393Z",
     "iopub.status.busy": "2021-12-06T13:00:09.089227Z",
     "iopub.status.idle": "2021-12-06T13:00:10.094681Z",
     "shell.execute_reply": "2021-12-06T13:00:10.096281Z"
    },
    "papermill": {
     "duration": 1.040497,
     "end_time": "2021-12-06T13:00:10.096722",
     "exception": false,
     "start_time": "2021-12-06T13:00:09.056225",
     "status": "completed"
    },
    "tags": []
   },
   "outputs": [],
   "source": [
    "timestamps = pd.read_sql(\"select distinct record_time from EBAY_TOP_BERLIN order by record_time desc limit 2\", sqlite3.connect(\"UsedObjects.db\"))"
   ]
  },
  {
   "cell_type": "code",
   "execution_count": 3,
   "id": "periodic-identification",
   "metadata": {
    "execution": {
     "iopub.execute_input": "2021-12-06T13:00:10.171443Z",
     "iopub.status.busy": "2021-12-06T13:00:10.169062Z",
     "iopub.status.idle": "2021-12-06T13:00:10.191863Z",
     "shell.execute_reply": "2021-12-06T13:00:10.193422Z"
    },
    "papermill": {
     "duration": 0.075241,
     "end_time": "2021-12-06T13:00:10.193930",
     "exception": false,
     "start_time": "2021-12-06T13:00:10.118689",
     "status": "completed"
    },
    "tags": []
   },
   "outputs": [
    {
     "data": {
      "text/html": [
       "<div>\n",
       "<style scoped>\n",
       "    .dataframe tbody tr th:only-of-type {\n",
       "        vertical-align: middle;\n",
       "    }\n",
       "\n",
       "    .dataframe tbody tr th {\n",
       "        vertical-align: top;\n",
       "    }\n",
       "\n",
       "    .dataframe thead th {\n",
       "        text-align: right;\n",
       "    }\n",
       "</style>\n",
       "<table border=\"1\" class=\"dataframe\">\n",
       "  <thead>\n",
       "    <tr style=\"text-align: right;\">\n",
       "      <th></th>\n",
       "      <th>RECORD_TIME</th>\n",
       "    </tr>\n",
       "  </thead>\n",
       "  <tbody>\n",
       "    <tr>\n",
       "      <th>0</th>\n",
       "      <td>2021-12-06 14:00</td>\n",
       "    </tr>\n",
       "    <tr>\n",
       "      <th>1</th>\n",
       "      <td>2021-12-06 13:30</td>\n",
       "    </tr>\n",
       "  </tbody>\n",
       "</table>\n",
       "</div>"
      ],
      "text/plain": [
       "        RECORD_TIME\n",
       "0  2021-12-06 14:00\n",
       "1  2021-12-06 13:30"
      ]
     },
     "execution_count": 3,
     "metadata": {},
     "output_type": "execute_result"
    }
   ],
   "source": [
    "timestamps"
   ]
  },
  {
   "cell_type": "code",
   "execution_count": 4,
   "id": "alternate-victory",
   "metadata": {
    "execution": {
     "iopub.execute_input": "2021-12-06T13:00:10.250990Z",
     "iopub.status.busy": "2021-12-06T13:00:10.248880Z",
     "iopub.status.idle": "2021-12-06T13:00:11.717944Z",
     "shell.execute_reply": "2021-12-06T13:00:11.715652Z"
    },
    "papermill": {
     "duration": 1.502659,
     "end_time": "2021-12-06T13:00:11.718355",
     "exception": false,
     "start_time": "2021-12-06T13:00:10.215696",
     "status": "completed"
    },
    "tags": []
   },
   "outputs": [],
   "source": [
    "df = pd.read_sql(\"select * from EBAY_TOP_BERLIN where record_time in (select distinct record_time from EBAY_TOP_BERLIN order by record_time desc limit 2)\", sqlite3.connect(\"UsedObjects.db\"))"
   ]
  },
  {
   "cell_type": "code",
   "execution_count": 5,
   "id": "popular-active",
   "metadata": {
    "execution": {
     "iopub.execute_input": "2021-12-06T13:00:11.782427Z",
     "iopub.status.busy": "2021-12-06T13:00:11.780034Z",
     "iopub.status.idle": "2021-12-06T13:00:11.811047Z",
     "shell.execute_reply": "2021-12-06T13:00:11.812646Z"
    },
    "papermill": {
     "duration": 0.07393,
     "end_time": "2021-12-06T13:00:11.813188",
     "exception": false,
     "start_time": "2021-12-06T13:00:11.739258",
     "status": "completed"
    },
    "tags": []
   },
   "outputs": [],
   "source": [
    "df_pivot = df.pivot_table(index=\"PRODUCT\", columns = \"RECORD_TIME\", values = \"LISTING_COUNT\")"
   ]
  },
  {
   "cell_type": "code",
   "execution_count": 6,
   "id": "union-huntington",
   "metadata": {
    "execution": {
     "iopub.execute_input": "2021-12-06T13:00:11.878653Z",
     "iopub.status.busy": "2021-12-06T13:00:11.876232Z",
     "iopub.status.idle": "2021-12-06T13:00:11.882155Z",
     "shell.execute_reply": "2021-12-06T13:00:11.883562Z"
    },
    "papermill": {
     "duration": 0.049321,
     "end_time": "2021-12-06T13:00:11.884061",
     "exception": false,
     "start_time": "2021-12-06T13:00:11.834740",
     "status": "completed"
    },
    "tags": []
   },
   "outputs": [],
   "source": [
    "df_pivot.columns = [\"stamp_1\", \"stamp_2\"]\n",
    "df_pivot_diff = df_pivot.diff(axis=1)"
   ]
  },
  {
   "cell_type": "code",
   "execution_count": 7,
   "id": "fifth-motion",
   "metadata": {
    "execution": {
     "iopub.execute_input": "2021-12-06T13:00:11.940945Z",
     "iopub.status.busy": "2021-12-06T13:00:11.938393Z",
     "iopub.status.idle": "2021-12-06T13:00:13.910080Z",
     "shell.execute_reply": "2021-12-06T13:00:13.911381Z"
    },
    "papermill": {
     "duration": 2.007132,
     "end_time": "2021-12-06T13:00:13.911802",
     "exception": false,
     "start_time": "2021-12-06T13:00:11.904670",
     "status": "completed"
    },
    "tags": []
   },
   "outputs": [
    {
     "data": {
      "text/plain": [
       "<AxesSubplot:ylabel='PRODUCT'>"
      ]
     },
     "execution_count": 7,
     "metadata": {},
     "output_type": "execute_result"
    },
    {
     "data": {
      "image/png": "[encoded data removed]",
      "text/plain": [
       "<Figure size 432x288 with 1 Axes>"
      ]
     },
     "metadata": {
      "needs_background": "light"
     },
     "output_type": "display_data"
    }
   ],
   "source": [
    "df_pivot_diff.sort_values(\"stamp_2\", ascending = False)[\"stamp_2\"].head(10).plot.barh()"
   ]
  },
  {
   "cell_type": "code",
   "execution_count": null,
   "id": "extra-executive",
   "metadata": {
    "papermill": {
     "duration": 0.022333,
     "end_time": "2021-12-06T13:00:13.959905",
     "exception": false,
     "start_time": "2021-12-06T13:00:13.937572",
     "status": "completed"
    },
    "tags": []
   },
   "outputs": [],
   "source": []
  }
 ],
 "metadata": {
  "kernelspec": {
   "display_name": "Python 3",
   "language": "python",
   "name": "python3"
  },
  "language_info": {
   "codemirror_mode": {
    "name": "ipython",
    "version": 3
   },
   "file_extension": ".py",
   "mimetype": "text/x-python",
   "name": "python",
   "nbconvert_exporter": "python",
   "pygments_lexer": "ipython3",
   "version": "3.9.5"
  },
  "papermill": {
   "default_parameters": {},
   "duration": 9.956254,
   "end_time": "2021-12-06T13:00:15.142314",
   "environment_variables": {},
   "exception": null,
   "input_path": "eBay_Overview.ipynb",
   "output_path": "eBay_Overview.ipynb",
   "parameters": {},
   "start_time": "2021-12-06T13:00:05.186060",
   "version": "2.3.3"
  }
 },
 "nbformat": 4,
 "nbformat_minor": 5
}