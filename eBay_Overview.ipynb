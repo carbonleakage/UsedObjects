{
 "cells": [
  {
   "cell_type": "code",
   "execution_count": 1,
   "id": "reverse-picking",
   "metadata": {
    "execution": {
     "iopub.execute_input": "2021-09-24T15:30:07.320723Z",
     "iopub.status.busy": "2021-09-24T15:30:07.318637Z",
     "iopub.status.idle": "2021-09-24T15:30:08.124991Z",
     "shell.execute_reply": "2021-09-24T15:30:08.126243Z"
    },
    "papermill": {
     "duration": 0.85737,
     "end_time": "2021-09-24T15:30:08.127035",
     "exception": false,
     "start_time": "2021-09-24T15:30:07.269665",
     "status": "completed"
    },
    "tags": []
   },
   "outputs": [],
   "source": [
    "import pandas as pd\n",
    "import sqlite3"
   ]
  },
  {
   "cell_type": "code",
   "execution_count": 2,
   "id": "innovative-syndrome",
   "metadata": {
    "execution": {
     "iopub.execute_input": "2021-09-24T15:30:08.180390Z",
     "iopub.status.busy": "2021-09-24T15:30:08.177977Z",
     "iopub.status.idle": "2021-09-24T15:30:08.543898Z",
     "shell.execute_reply": "2021-09-24T15:30:08.545117Z"
    },
    "papermill": {
     "duration": 0.396086,
     "end_time": "2021-09-24T15:30:08.545515",
     "exception": false,
     "start_time": "2021-09-24T15:30:08.149429",
     "status": "completed"
    },
    "tags": []
   },
   "outputs": [],
   "source": [
    "timestamps = pd.read_sql(\"select distinct record_time from EBAY_TOP_BERLIN order by record_time desc limit 2\", sqlite3.connect(\"UsedObjects.db\"))"
   ]
  },
  {
   "cell_type": "code",
   "execution_count": 3,
   "id": "periodic-identification",
   "metadata": {
    "execution": {
     "iopub.execute_input": "2021-09-24T15:30:08.614226Z",
     "iopub.status.busy": "2021-09-24T15:30:08.612204Z",
     "iopub.status.idle": "2021-09-24T15:30:08.632239Z",
     "shell.execute_reply": "2021-09-24T15:30:08.633731Z"
    },
    "papermill": {
     "duration": 0.06633,
     "end_time": "2021-09-24T15:30:08.634247",
     "exception": false,
     "start_time": "2021-09-24T15:30:08.567917",
     "status": "completed"
    },
    "tags": []
   },
   "outputs": [
    {
     "data": {
      "text/html": [
       "<div>\n",
       "<style scoped>\n",
       "    .dataframe tbody tr th:only-of-type {\n",
       "        vertical-align: middle;\n",
       "    }\n",
       "\n",
       "    .dataframe tbody tr th {\n",
       "        vertical-align: top;\n",
       "    }\n",
       "\n",
       "    .dataframe thead th {\n",
       "        text-align: right;\n",
       "    }\n",
       "</style>\n",
       "<table border=\"1\" class=\"dataframe\">\n",
       "  <thead>\n",
       "    <tr style=\"text-align: right;\">\n",
       "      <th></th>\n",
       "      <th>RECORD_TIME</th>\n",
       "    </tr>\n",
       "  </thead>\n",
       "  <tbody>\n",
       "    <tr>\n",
       "      <th>0</th>\n",
       "      <td>2021-09-24 17:30</td>\n",
       "    </tr>\n",
       "    <tr>\n",
       "      <th>1</th>\n",
       "      <td>2021-09-24 17:00</td>\n",
       "    </tr>\n",
       "  </tbody>\n",
       "</table>\n",
       "</div>"
      ],
      "text/plain": [
       "        RECORD_TIME\n",
       "0  2021-09-24 17:30\n",
       "1  2021-09-24 17:00"
      ]
     },
     "execution_count": 3,
     "metadata": {},
     "output_type": "execute_result"
    }
   ],
   "source": [
    "timestamps"
   ]
  },
  {
   "cell_type": "code",
   "execution_count": 4,
   "id": "alternate-victory",
   "metadata": {
    "execution": {
     "iopub.execute_input": "2021-09-24T15:30:08.687485Z",
     "iopub.status.busy": "2021-09-24T15:30:08.685477Z",
     "iopub.status.idle": "2021-09-24T15:30:09.225566Z",
     "shell.execute_reply": "2021-09-24T15:30:09.226840Z"
    },
    "papermill": {
     "duration": 0.571043,
     "end_time": "2021-09-24T15:30:09.227286",
     "exception": false,
     "start_time": "2021-09-24T15:30:08.656243",
     "status": "completed"
    },
    "tags": []
   },
   "outputs": [],
   "source": [
    "df = pd.read_sql(\"select * from EBAY_TOP_BERLIN where record_time in (select distinct record_time from EBAY_TOP_BERLIN order by record_time desc limit 2)\", sqlite3.connect(\"UsedObjects.db\"))"
   ]
  },
  {
   "cell_type": "code",
   "execution_count": 5,
   "id": "popular-active",
   "metadata": {
    "execution": {
     "iopub.execute_input": "2021-09-24T15:30:09.307139Z",
     "iopub.status.busy": "2021-09-24T15:30:09.301279Z",
     "iopub.status.idle": "2021-09-24T15:30:09.324424Z",
     "shell.execute_reply": "2021-09-24T15:30:09.325810Z"
    },
    "papermill": {
     "duration": 0.073096,
     "end_time": "2021-09-24T15:30:09.326250",
     "exception": false,
     "start_time": "2021-09-24T15:30:09.253154",
     "status": "completed"
    },
    "tags": []
   },
   "outputs": [],
   "source": [
    "df_pivot = df.pivot_table(index=\"PRODUCT\", columns = \"RECORD_TIME\", values = \"LISTING_COUNT\")"
   ]
  },
  {
   "cell_type": "code",
   "execution_count": 6,
   "id": "union-huntington",
   "metadata": {
    "execution": {
     "iopub.execute_input": "2021-09-24T15:30:09.382588Z",
     "iopub.status.busy": "2021-09-24T15:30:09.380513Z",
     "iopub.status.idle": "2021-09-24T15:30:09.385679Z",
     "shell.execute_reply": "2021-09-24T15:30:09.387051Z"
    },
    "papermill": {
     "duration": 0.041023,
     "end_time": "2021-09-24T15:30:09.387475",
     "exception": false,
     "start_time": "2021-09-24T15:30:09.346452",
     "status": "completed"
    },
    "tags": []
   },
   "outputs": [],
   "source": [
    "df_pivot.columns = [\"stamp_1\", \"stamp_2\"]\n",
    "df_pivot_diff = df_pivot.diff(axis=1)"
   ]
  },
  {
   "cell_type": "code",
   "execution_count": 7,
   "id": "fifth-motion",
   "metadata": {
    "execution": {
     "iopub.execute_input": "2021-09-24T15:30:09.441122Z",
     "iopub.status.busy": "2021-09-24T15:30:09.438667Z",
     "iopub.status.idle": "2021-09-24T15:30:10.931073Z",
     "shell.execute_reply": "2021-09-24T15:30:10.932555Z"
    },
    "papermill": {
     "duration": 1.525165,
     "end_time": "2021-09-24T15:30:10.933026",
     "exception": false,
     "start_time": "2021-09-24T15:30:09.407861",
     "status": "completed"
    },
    "tags": []
   },
   "outputs": [
    {
     "data": {
      "text/plain": [
       "<AxesSubplot:ylabel='PRODUCT'>"
      ]
     },
     "execution_count": 7,
     "metadata": {},
     "output_type": "execute_result"
    },
    {
     "data": {
      "image/png": "[encoded data removed]",
      "text/plain": [
       "<Figure size 432x288 with 1 Axes>"
      ]
     },
     "metadata": {
      "needs_background": "light"
     },
     "output_type": "display_data"
    }
   ],
   "source": [
    "df_pivot_diff.sort_values(\"stamp_2\", ascending = False)[\"stamp_2\"].head(10).plot.barh()"
   ]
  },
  {
   "cell_type": "code",
   "execution_count": null,
   "id": "extra-executive",
   "metadata": {
    "papermill": {
     "duration": 0.022148,
     "end_time": "2021-09-24T15:30:10.979333",
     "exception": false,
     "start_time": "2021-09-24T15:30:10.957185",
     "status": "completed"
    },
    "tags": []
   },
   "outputs": [],
   "source": []
  }
 ],
 "metadata": {
  "kernelspec": {
   "display_name": "Python 3",
   "language": "python",
   "name": "python3"
  },
  "language_info": {
   "codemirror_mode": {
    "name": "ipython",
    "version": 3
   },
   "file_extension": ".py",
   "mimetype": "text/x-python",
   "name": "python",
   "nbconvert_exporter": "python",
   "pygments_lexer": "ipython3",
   "version": "3.9.5"
  },
  "papermill": {
   "default_parameters": {},
   "duration": 6.756315,
   "end_time": "2021-09-24T15:30:11.622458",
   "environment_variables": {},
   "exception": null,
   "input_path": "eBay_Overview.ipynb",
   "output_path": "eBay_Overview.ipynb",
   "parameters": {},
   "start_time": "2021-09-24T15:30:04.866143",
   "version": "2.3.3"
  }
 },
 "nbformat": 4,
 "nbformat_minor": 5
}