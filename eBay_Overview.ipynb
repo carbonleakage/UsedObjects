{
 "cells": [
  {
   "cell_type": "code",
   "execution_count": 1,
   "id": "reverse-picking",
   "metadata": {
    "execution": {
     "iopub.execute_input": "2021-08-31T00:30:07.146782Z",
     "iopub.status.busy": "2021-08-31T00:30:07.144858Z",
     "iopub.status.idle": "2021-08-31T00:30:07.949271Z",
     "shell.execute_reply": "2021-08-31T00:30:07.947082Z"
    },
    "papermill": {
     "duration": 0.853085,
     "end_time": "2021-08-31T00:30:07.949702",
     "exception": false,
     "start_time": "2021-08-31T00:30:07.096617",
     "status": "completed"
    },
    "tags": []
   },
   "outputs": [],
   "source": [
    "import pandas as pd\n",
    "import sqlite3"
   ]
  },
  {
   "cell_type": "code",
   "execution_count": 2,
   "id": "innovative-syndrome",
   "metadata": {
    "execution": {
     "iopub.execute_input": "2021-08-31T00:30:08.000853Z",
     "iopub.status.busy": "2021-08-31T00:30:07.998904Z",
     "iopub.status.idle": "2021-08-31T00:30:08.168499Z",
     "shell.execute_reply": "2021-08-31T00:30:08.169873Z"
    },
    "papermill": {
     "duration": 0.198845,
     "end_time": "2021-08-31T00:30:08.170303",
     "exception": false,
     "start_time": "2021-08-31T00:30:07.971458",
     "status": "completed"
    },
    "tags": []
   },
   "outputs": [],
   "source": [
    "timestamps = pd.read_sql(\"select distinct record_time from EBAY_TOP_BERLIN order by record_time desc limit 2\", sqlite3.connect(\"UsedObjects.db\"))"
   ]
  },
  {
   "cell_type": "code",
   "execution_count": 3,
   "id": "periodic-identification",
   "metadata": {
    "execution": {
     "iopub.execute_input": "2021-08-31T00:30:08.235329Z",
     "iopub.status.busy": "2021-08-31T00:30:08.233342Z",
     "iopub.status.idle": "2021-08-31T00:30:08.253114Z",
     "shell.execute_reply": "2021-08-31T00:30:08.254395Z"
    },
    "papermill": {
     "duration": 0.064958,
     "end_time": "2021-08-31T00:30:08.254847",
     "exception": false,
     "start_time": "2021-08-31T00:30:08.189889",
     "status": "completed"
    },
    "tags": []
   },
   "outputs": [
    {
     "data": {
      "text/html": [
       "<div>\n",
       "<style scoped>\n",
       "    .dataframe tbody tr th:only-of-type {\n",
       "        vertical-align: middle;\n",
       "    }\n",
       "\n",
       "    .dataframe tbody tr th {\n",
       "        vertical-align: top;\n",
       "    }\n",
       "\n",
       "    .dataframe thead th {\n",
       "        text-align: right;\n",
       "    }\n",
       "</style>\n",
       "<table border=\"1\" class=\"dataframe\">\n",
       "  <thead>\n",
       "    <tr style=\"text-align: right;\">\n",
       "      <th></th>\n",
       "      <th>RECORD_TIME</th>\n",
       "    </tr>\n",
       "  </thead>\n",
       "  <tbody>\n",
       "    <tr>\n",
       "      <th>0</th>\n",
       "      <td>2021-08-31 02:30</td>\n",
       "    </tr>\n",
       "    <tr>\n",
       "      <th>1</th>\n",
       "      <td>2021-08-31 02:00</td>\n",
       "    </tr>\n",
       "  </tbody>\n",
       "</table>\n",
       "</div>"
      ],
      "text/plain": [
       "        RECORD_TIME\n",
       "0  2021-08-31 02:30\n",
       "1  2021-08-31 02:00"
      ]
     },
     "execution_count": 3,
     "metadata": {},
     "output_type": "execute_result"
    }
   ],
   "source": [
    "timestamps"
   ]
  },
  {
   "cell_type": "code",
   "execution_count": 4,
   "id": "alternate-victory",
   "metadata": {
    "execution": {
     "iopub.execute_input": "2021-08-31T00:30:08.306220Z",
     "iopub.status.busy": "2021-08-31T00:30:08.303822Z",
     "iopub.status.idle": "2021-08-31T00:30:08.557146Z",
     "shell.execute_reply": "2021-08-31T00:30:08.558410Z"
    },
    "papermill": {
     "duration": 0.283518,
     "end_time": "2021-08-31T00:30:08.558800",
     "exception": false,
     "start_time": "2021-08-31T00:30:08.275282",
     "status": "completed"
    },
    "tags": []
   },
   "outputs": [],
   "source": [
    "df = pd.read_sql(\"select * from EBAY_TOP_BERLIN where record_time in (select distinct record_time from EBAY_TOP_BERLIN order by record_time desc limit 2)\", sqlite3.connect(\"UsedObjects.db\"))"
   ]
  },
  {
   "cell_type": "code",
   "execution_count": 5,
   "id": "popular-active",
   "metadata": {
    "execution": {
     "iopub.execute_input": "2021-08-31T00:30:08.638200Z",
     "iopub.status.busy": "2021-08-31T00:30:08.636146Z",
     "iopub.status.idle": "2021-08-31T00:30:08.653511Z",
     "shell.execute_reply": "2021-08-31T00:30:08.654723Z"
    },
    "papermill": {
     "duration": 0.07092,
     "end_time": "2021-08-31T00:30:08.655111",
     "exception": false,
     "start_time": "2021-08-31T00:30:08.584191",
     "status": "completed"
    },
    "tags": []
   },
   "outputs": [],
   "source": [
    "df_pivot = df.pivot_table(index=\"PRODUCT\", columns = \"RECORD_TIME\", values = \"LISTING_COUNT\")"
   ]
  },
  {
   "cell_type": "code",
   "execution_count": 6,
   "id": "union-huntington",
   "metadata": {
    "execution": {
     "iopub.execute_input": "2021-08-31T00:30:08.713647Z",
     "iopub.status.busy": "2021-08-31T00:30:08.711203Z",
     "iopub.status.idle": "2021-08-31T00:30:08.717237Z",
     "shell.execute_reply": "2021-08-31T00:30:08.718433Z"
    },
    "papermill": {
     "duration": 0.041859,
     "end_time": "2021-08-31T00:30:08.718851",
     "exception": false,
     "start_time": "2021-08-31T00:30:08.676992",
     "status": "completed"
    },
    "tags": []
   },
   "outputs": [],
   "source": [
    "df_pivot.columns = [\"stamp_1\", \"stamp_2\"]\n",
    "df_pivot_diff = df_pivot.diff(axis=1)"
   ]
  },
  {
   "cell_type": "code",
   "execution_count": 7,
   "id": "fifth-motion",
   "metadata": {
    "execution": {
     "iopub.execute_input": "2021-08-31T00:30:08.771891Z",
     "iopub.status.busy": "2021-08-31T00:30:08.769720Z",
     "iopub.status.idle": "2021-08-31T00:30:10.268555Z",
     "shell.execute_reply": "2021-08-31T00:30:10.269920Z"
    },
    "papermill": {
     "duration": 1.531197,
     "end_time": "2021-08-31T00:30:10.270339",
     "exception": false,
     "start_time": "2021-08-31T00:30:08.739142",
     "status": "completed"
    },
    "tags": []
   },
   "outputs": [
    {
     "data": {
      "text/plain": [
       "<AxesSubplot:ylabel='PRODUCT'>"
      ]
     },
     "execution_count": 7,
     "metadata": {},
     "output_type": "execute_result"
    },
    {
     "data": {
      "image/png": "[encoded data removed]",
      "text/plain": [
       "<Figure size 432x288 with 1 Axes>"
      ]
     },
     "metadata": {
      "needs_background": "light"
     },
     "output_type": "display_data"
    }
   ],
   "source": [
    "df_pivot_diff.sort_values(\"stamp_2\", ascending = False)[\"stamp_2\"].head(10).plot.barh()"
   ]
  },
  {
   "cell_type": "code",
   "execution_count": null,
   "id": "extra-executive",
   "metadata": {
    "papermill": {
     "duration": 0.02204,
     "end_time": "2021-08-31T00:30:10.316658",
     "exception": false,
     "start_time": "2021-08-31T00:30:10.294618",
     "status": "completed"
    },
    "tags": []
   },
   "outputs": [],
   "source": []
  }
 ],
 "metadata": {
  "kernelspec": {
   "display_name": "Python 3",
   "language": "python",
   "name": "python3"
  },
  "language_info": {
   "codemirror_mode": {
    "name": "ipython",
    "version": 3
   },
   "file_extension": ".py",
   "mimetype": "text/x-python",
   "name": "python",
   "nbconvert_exporter": "python",
   "pygments_lexer": "ipython3",
   "version": "3.9.5"
  },
  "papermill": {
   "default_parameters": {},
   "duration": 6.819219,
   "end_time": "2021-08-31T00:30:11.516097",
   "environment_variables": {},
   "exception": null,
   "input_path": "eBay_Overview.ipynb",
   "output_path": "eBay_Overview.ipynb",
   "parameters": {},
   "start_time": "2021-08-31T00:30:04.696878",
   "version": "2.3.3"
  }
 },
 "nbformat": 4,
 "nbformat_minor": 5
}