{
 "cells": [
  {
   "cell_type": "code",
   "execution_count": 1,
   "id": "reverse-picking",
   "metadata": {
    "execution": {
     "iopub.execute_input": "2021-12-20T04:00:07.646935Z",
     "iopub.status.busy": "2021-12-20T04:00:07.641475Z",
     "iopub.status.idle": "2021-12-20T04:00:08.608335Z",
     "shell.execute_reply": "2021-12-20T04:00:08.609944Z"
    },
    "papermill": {
     "duration": 1.017032,
     "end_time": "2021-12-20T04:00:08.610702",
     "exception": false,
     "start_time": "2021-12-20T04:00:07.593670",
     "status": "completed"
    },
    "tags": []
   },
   "outputs": [],
   "source": [
    "import pandas as pd\n",
    "import sqlite3"
   ]
  },
  {
   "cell_type": "code",
   "execution_count": 2,
   "id": "innovative-syndrome",
   "metadata": {
    "execution": {
     "iopub.execute_input": "2021-12-20T04:00:08.676523Z",
     "iopub.status.busy": "2021-12-20T04:00:08.674023Z",
     "iopub.status.idle": "2021-12-20T04:00:09.846957Z",
     "shell.execute_reply": "2021-12-20T04:00:09.848251Z"
    },
    "papermill": {
     "duration": 1.207826,
     "end_time": "2021-12-20T04:00:09.848672",
     "exception": false,
     "start_time": "2021-12-20T04:00:08.640846",
     "status": "completed"
    },
    "tags": []
   },
   "outputs": [],
   "source": [
    "timestamps = pd.read_sql(\"select distinct record_time from EBAY_TOP_BERLIN order by record_time desc limit 2\", sqlite3.connect(\"UsedObjects.db\"))"
   ]
  },
  {
   "cell_type": "code",
   "execution_count": 3,
   "id": "periodic-identification",
   "metadata": {
    "execution": {
     "iopub.execute_input": "2021-12-20T04:00:09.917263Z",
     "iopub.status.busy": "2021-12-20T04:00:09.914934Z",
     "iopub.status.idle": "2021-12-20T04:00:09.937112Z",
     "shell.execute_reply": "2021-12-20T04:00:09.938915Z"
    },
    "papermill": {
     "duration": 0.070924,
     "end_time": "2021-12-20T04:00:09.939446",
     "exception": false,
     "start_time": "2021-12-20T04:00:09.868522",
     "status": "completed"
    },
    "tags": []
   },
   "outputs": [
    {
     "data": {
      "text/html": [
       "<div>\n",
       "<style scoped>\n",
       "    .dataframe tbody tr th:only-of-type {\n",
       "        vertical-align: middle;\n",
       "    }\n",
       "\n",
       "    .dataframe tbody tr th {\n",
       "        vertical-align: top;\n",
       "    }\n",
       "\n",
       "    .dataframe thead th {\n",
       "        text-align: right;\n",
       "    }\n",
       "</style>\n",
       "<table border=\"1\" class=\"dataframe\">\n",
       "  <thead>\n",
       "    <tr style=\"text-align: right;\">\n",
       "      <th></th>\n",
       "      <th>RECORD_TIME</th>\n",
       "    </tr>\n",
       "  </thead>\n",
       "  <tbody>\n",
       "    <tr>\n",
       "      <th>0</th>\n",
       "      <td>2021-12-20 05:00</td>\n",
       "    </tr>\n",
       "    <tr>\n",
       "      <th>1</th>\n",
       "      <td>2021-12-20 04:30</td>\n",
       "    </tr>\n",
       "  </tbody>\n",
       "</table>\n",
       "</div>"
      ],
      "text/plain": [
       "        RECORD_TIME\n",
       "0  2021-12-20 05:00\n",
       "1  2021-12-20 04:30"
      ]
     },
     "execution_count": 3,
     "metadata": {},
     "output_type": "execute_result"
    }
   ],
   "source": [
    "timestamps"
   ]
  },
  {
   "cell_type": "code",
   "execution_count": 4,
   "id": "alternate-victory",
   "metadata": {
    "execution": {
     "iopub.execute_input": "2021-12-20T04:00:09.997884Z",
     "iopub.status.busy": "2021-12-20T04:00:09.996203Z",
     "iopub.status.idle": "2021-12-20T04:00:11.639218Z",
     "shell.execute_reply": "2021-12-20T04:00:11.641006Z"
    },
    "papermill": {
     "duration": 1.680665,
     "end_time": "2021-12-20T04:00:11.641575",
     "exception": false,
     "start_time": "2021-12-20T04:00:09.960910",
     "status": "completed"
    },
    "tags": []
   },
   "outputs": [],
   "source": [
    "df = pd.read_sql(\"select * from EBAY_TOP_BERLIN where record_time in (select distinct record_time from EBAY_TOP_BERLIN order by record_time desc limit 2)\", sqlite3.connect(\"UsedObjects.db\"))"
   ]
  },
  {
   "cell_type": "code",
   "execution_count": 5,
   "id": "popular-active",
   "metadata": {
    "execution": {
     "iopub.execute_input": "2021-12-20T04:00:11.717293Z",
     "iopub.status.busy": "2021-12-20T04:00:11.704360Z",
     "iopub.status.idle": "2021-12-20T04:00:11.736166Z",
     "shell.execute_reply": "2021-12-20T04:00:11.737720Z"
    },
    "papermill": {
     "duration": 0.074244,
     "end_time": "2021-12-20T04:00:11.738188",
     "exception": false,
     "start_time": "2021-12-20T04:00:11.663944",
     "status": "completed"
    },
    "tags": []
   },
   "outputs": [],
   "source": [
    "df_pivot = df.pivot_table(index=\"PRODUCT\", columns = \"RECORD_TIME\", values = \"LISTING_COUNT\")"
   ]
  },
  {
   "cell_type": "code",
   "execution_count": 6,
   "id": "union-huntington",
   "metadata": {
    "execution": {
     "iopub.execute_input": "2021-12-20T04:00:11.798415Z",
     "iopub.status.busy": "2021-12-20T04:00:11.795783Z",
     "iopub.status.idle": "2021-12-20T04:00:11.804114Z",
     "shell.execute_reply": "2021-12-20T04:00:11.802389Z"
    },
    "papermill": {
     "duration": 0.046402,
     "end_time": "2021-12-20T04:00:11.804559",
     "exception": false,
     "start_time": "2021-12-20T04:00:11.758157",
     "status": "completed"
    },
    "tags": []
   },
   "outputs": [],
   "source": [
    "df_pivot.columns = [\"stamp_1\", \"stamp_2\"]\n",
    "df_pivot_diff = df_pivot.diff(axis=1)"
   ]
  },
  {
   "cell_type": "code",
   "execution_count": 7,
   "id": "fifth-motion",
   "metadata": {
    "execution": {
     "iopub.execute_input": "2021-12-20T04:00:11.864139Z",
     "iopub.status.busy": "2021-12-20T04:00:11.861646Z",
     "iopub.status.idle": "2021-12-20T04:00:13.838049Z",
     "shell.execute_reply": "2021-12-20T04:00:13.839642Z"
    },
    "papermill": {
     "duration": 2.012282,
     "end_time": "2021-12-20T04:00:13.840149",
     "exception": false,
     "start_time": "2021-12-20T04:00:11.827867",
     "status": "completed"
    },
    "tags": []
   },
   "outputs": [
    {
     "data": {
      "text/plain": [
       "<AxesSubplot:ylabel='PRODUCT'>"
      ]
     },
     "execution_count": 7,
     "metadata": {},
     "output_type": "execute_result"
    },
    {
     "data": {
      "image/png": "[encoded data removed]",
      "text/plain": [
       "<Figure size 432x288 with 1 Axes>"
      ]
     },
     "metadata": {
      "needs_background": "light"
     },
     "output_type": "display_data"
    }
   ],
   "source": [
    "df_pivot_diff.sort_values(\"stamp_2\", ascending = False)[\"stamp_2\"].head(10).plot.barh()"
   ]
  },
  {
   "cell_type": "code",
   "execution_count": null,
   "id": "extra-executive",
   "metadata": {
    "papermill": {
     "duration": 0.027278,
     "end_time": "2021-12-20T04:00:13.902068",
     "exception": false,
     "start_time": "2021-12-20T04:00:13.874790",
     "status": "completed"
    },
    "tags": []
   },
   "outputs": [],
   "source": []
  }
 ],
 "metadata": {
  "kernelspec": {
   "display_name": "Python 3",
   "language": "python",
   "name": "python3"
  },
  "language_info": {
   "codemirror_mode": {
    "name": "ipython",
    "version": 3
   },
   "file_extension": ".py",
   "mimetype": "text/x-python",
   "name": "python",
   "nbconvert_exporter": "python",
   "pygments_lexer": "ipython3",
   "version": "3.9.5"
  },
  "papermill": {
   "default_parameters": {},
   "duration": 9.687988,
   "end_time": "2021-12-20T04:00:14.548782",
   "environment_variables": {},
   "exception": null,
   "input_path": "eBay_Overview.ipynb",
   "output_path": "eBay_Overview.ipynb",
   "parameters": {},
   "start_time": "2021-12-20T04:00:04.860794",
   "version": "2.3.3"
  }
 },
 "nbformat": 4,
 "nbformat_minor": 5
}