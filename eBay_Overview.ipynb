{
 "cells": [
  {
   "cell_type": "code",
   "execution_count": 1,
   "id": "reverse-picking",
   "metadata": {
    "execution": {
     "iopub.execute_input": "2021-09-01T07:00:07.131947Z",
     "iopub.status.busy": "2021-09-01T07:00:07.129943Z",
     "iopub.status.idle": "2021-09-01T07:00:07.929432Z",
     "shell.execute_reply": "2021-09-01T07:00:07.930754Z"
    },
    "papermill": {
     "duration": 0.848796,
     "end_time": "2021-09-01T07:00:07.931466",
     "exception": false,
     "start_time": "2021-09-01T07:00:07.082670",
     "status": "completed"
    },
    "tags": []
   },
   "outputs": [],
   "source": [
    "import pandas as pd\n",
    "import sqlite3"
   ]
  },
  {
   "cell_type": "code",
   "execution_count": 2,
   "id": "innovative-syndrome",
   "metadata": {
    "execution": {
     "iopub.execute_input": "2021-09-01T07:00:07.982429Z",
     "iopub.status.busy": "2021-09-01T07:00:07.980401Z",
     "iopub.status.idle": "2021-09-01T07:00:08.161249Z",
     "shell.execute_reply": "2021-09-01T07:00:08.162459Z"
    },
    "papermill": {
     "duration": 0.211201,
     "end_time": "2021-09-01T07:00:08.162898",
     "exception": false,
     "start_time": "2021-09-01T07:00:07.951697",
     "status": "completed"
    },
    "tags": []
   },
   "outputs": [],
   "source": [
    "timestamps = pd.read_sql(\"select distinct record_time from EBAY_TOP_BERLIN order by record_time desc limit 2\", sqlite3.connect(\"UsedObjects.db\"))"
   ]
  },
  {
   "cell_type": "code",
   "execution_count": 3,
   "id": "periodic-identification",
   "metadata": {
    "execution": {
     "iopub.execute_input": "2021-09-01T07:00:08.229242Z",
     "iopub.status.busy": "2021-09-01T07:00:08.223990Z",
     "iopub.status.idle": "2021-09-01T07:00:08.243687Z",
     "shell.execute_reply": "2021-09-01T07:00:08.244819Z"
    },
    "papermill": {
     "duration": 0.062823,
     "end_time": "2021-09-01T07:00:08.245227",
     "exception": false,
     "start_time": "2021-09-01T07:00:08.182404",
     "status": "completed"
    },
    "tags": []
   },
   "outputs": [
    {
     "data": {
      "text/html": [
       "<div>\n",
       "<style scoped>\n",
       "    .dataframe tbody tr th:only-of-type {\n",
       "        vertical-align: middle;\n",
       "    }\n",
       "\n",
       "    .dataframe tbody tr th {\n",
       "        vertical-align: top;\n",
       "    }\n",
       "\n",
       "    .dataframe thead th {\n",
       "        text-align: right;\n",
       "    }\n",
       "</style>\n",
       "<table border=\"1\" class=\"dataframe\">\n",
       "  <thead>\n",
       "    <tr style=\"text-align: right;\">\n",
       "      <th></th>\n",
       "      <th>RECORD_TIME</th>\n",
       "    </tr>\n",
       "  </thead>\n",
       "  <tbody>\n",
       "    <tr>\n",
       "      <th>0</th>\n",
       "      <td>2021-09-01 09:00</td>\n",
       "    </tr>\n",
       "    <tr>\n",
       "      <th>1</th>\n",
       "      <td>2021-09-01 08:30</td>\n",
       "    </tr>\n",
       "  </tbody>\n",
       "</table>\n",
       "</div>"
      ],
      "text/plain": [
       "        RECORD_TIME\n",
       "0  2021-09-01 09:00\n",
       "1  2021-09-01 08:30"
      ]
     },
     "execution_count": 3,
     "metadata": {},
     "output_type": "execute_result"
    }
   ],
   "source": [
    "timestamps"
   ]
  },
  {
   "cell_type": "code",
   "execution_count": 4,
   "id": "alternate-victory",
   "metadata": {
    "execution": {
     "iopub.execute_input": "2021-09-01T07:00:08.296519Z",
     "iopub.status.busy": "2021-09-01T07:00:08.294570Z",
     "iopub.status.idle": "2021-09-01T07:00:08.557334Z",
     "shell.execute_reply": "2021-09-01T07:00:08.558534Z"
    },
    "papermill": {
     "duration": 0.292842,
     "end_time": "2021-09-01T07:00:08.559088",
     "exception": false,
     "start_time": "2021-09-01T07:00:08.266246",
     "status": "completed"
    },
    "tags": []
   },
   "outputs": [],
   "source": [
    "df = pd.read_sql(\"select * from EBAY_TOP_BERLIN where record_time in (select distinct record_time from EBAY_TOP_BERLIN order by record_time desc limit 2)\", sqlite3.connect(\"UsedObjects.db\"))"
   ]
  },
  {
   "cell_type": "code",
   "execution_count": 5,
   "id": "popular-active",
   "metadata": {
    "execution": {
     "iopub.execute_input": "2021-09-01T07:00:08.638069Z",
     "iopub.status.busy": "2021-09-01T07:00:08.626488Z",
     "iopub.status.idle": "2021-09-01T07:00:08.655376Z",
     "shell.execute_reply": "2021-09-01T07:00:08.656776Z"
    },
    "papermill": {
     "duration": 0.072342,
     "end_time": "2021-09-01T07:00:08.657210",
     "exception": false,
     "start_time": "2021-09-01T07:00:08.584868",
     "status": "completed"
    },
    "tags": []
   },
   "outputs": [],
   "source": [
    "df_pivot = df.pivot_table(index=\"PRODUCT\", columns = \"RECORD_TIME\", values = \"LISTING_COUNT\")"
   ]
  },
  {
   "cell_type": "code",
   "execution_count": 6,
   "id": "union-huntington",
   "metadata": {
    "execution": {
     "iopub.execute_input": "2021-09-01T07:00:08.714281Z",
     "iopub.status.busy": "2021-09-01T07:00:08.712013Z",
     "iopub.status.idle": "2021-09-01T07:00:08.717787Z",
     "shell.execute_reply": "2021-09-01T07:00:08.719135Z"
    },
    "papermill": {
     "duration": 0.041817,
     "end_time": "2021-09-01T07:00:08.719554",
     "exception": false,
     "start_time": "2021-09-01T07:00:08.677737",
     "status": "completed"
    },
    "tags": []
   },
   "outputs": [],
   "source": [
    "df_pivot.columns = [\"stamp_1\", \"stamp_2\"]\n",
    "df_pivot_diff = df_pivot.diff(axis=1)"
   ]
  },
  {
   "cell_type": "code",
   "execution_count": 7,
   "id": "fifth-motion",
   "metadata": {
    "execution": {
     "iopub.execute_input": "2021-09-01T07:00:08.774004Z",
     "iopub.status.busy": "2021-09-01T07:00:08.771739Z",
     "iopub.status.idle": "2021-09-01T07:00:10.264871Z",
     "shell.execute_reply": "2021-09-01T07:00:10.266152Z"
    },
    "papermill": {
     "duration": 1.526324,
     "end_time": "2021-09-01T07:00:10.266565",
     "exception": false,
     "start_time": "2021-09-01T07:00:08.740241",
     "status": "completed"
    },
    "tags": []
   },
   "outputs": [
    {
     "data": {
      "text/plain": [
       "<AxesSubplot:ylabel='PRODUCT'>"
      ]
     },
     "execution_count": 7,
     "metadata": {},
     "output_type": "execute_result"
    },
    {
     "data": {
      "image/png": "[encoded data removed]",
      "text/plain": [
       "<Figure size 432x288 with 1 Axes>"
      ]
     },
     "metadata": {
      "needs_background": "light"
     },
     "output_type": "display_data"
    }
   ],
   "source": [
    "df_pivot_diff.sort_values(\"stamp_2\", ascending = False)[\"stamp_2\"].head(10).plot.barh()"
   ]
  },
  {
   "cell_type": "code",
   "execution_count": null,
   "id": "extra-executive",
   "metadata": {
    "papermill": {
     "duration": 0.022239,
     "end_time": "2021-09-01T07:00:10.314184",
     "exception": false,
     "start_time": "2021-09-01T07:00:10.291945",
     "status": "completed"
    },
    "tags": []
   },
   "outputs": [],
   "source": []
  }
 ],
 "metadata": {
  "kernelspec": {
   "display_name": "Python 3",
   "language": "python",
   "name": "python3"
  },
  "language_info": {
   "codemirror_mode": {
    "name": "ipython",
    "version": 3
   },
   "file_extension": ".py",
   "mimetype": "text/x-python",
   "name": "python",
   "nbconvert_exporter": "python",
   "pygments_lexer": "ipython3",
   "version": "3.9.5"
  },
  "papermill": {
   "default_parameters": {},
   "duration": 6.82138,
   "end_time": "2021-09-01T07:00:11.509199",
   "environment_variables": {},
   "exception": null,
   "input_path": "eBay_Overview.ipynb",
   "output_path": "eBay_Overview.ipynb",
   "parameters": {},
   "start_time": "2021-09-01T07:00:04.687819",
   "version": "2.3.3"
  }
 },
 "nbformat": 4,
 "nbformat_minor": 5
}