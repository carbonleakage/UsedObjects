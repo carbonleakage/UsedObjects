{
 "cells": [
  {
   "cell_type": "code",
   "execution_count": 1,
   "id": "reverse-picking",
   "metadata": {
    "execution": {
     "iopub.execute_input": "2021-12-17T14:00:07.805591Z",
     "iopub.status.busy": "2021-12-17T14:00:07.789276Z",
     "iopub.status.idle": "2021-12-17T14:00:08.775573Z",
     "shell.execute_reply": "2021-12-17T14:00:08.777114Z"
    },
    "papermill": {
     "duration": 1.02038,
     "end_time": "2021-12-17T14:00:08.777800",
     "exception": false,
     "start_time": "2021-12-17T14:00:07.757420",
     "status": "completed"
    },
    "tags": []
   },
   "outputs": [],
   "source": [
    "import pandas as pd\n",
    "import sqlite3"
   ]
  },
  {
   "cell_type": "code",
   "execution_count": 2,
   "id": "innovative-syndrome",
   "metadata": {
    "execution": {
     "iopub.execute_input": "2021-12-17T14:00:08.844809Z",
     "iopub.status.busy": "2021-12-17T14:00:08.842341Z",
     "iopub.status.idle": "2021-12-17T14:00:09.960302Z",
     "shell.execute_reply": "2021-12-17T14:00:09.961923Z"
    },
    "papermill": {
     "duration": 1.15255,
     "end_time": "2021-12-17T14:00:09.962438",
     "exception": false,
     "start_time": "2021-12-17T14:00:08.809888",
     "status": "completed"
    },
    "tags": []
   },
   "outputs": [],
   "source": [
    "timestamps = pd.read_sql(\"select distinct record_time from EBAY_TOP_BERLIN order by record_time desc limit 2\", sqlite3.connect(\"UsedObjects.db\"))"
   ]
  },
  {
   "cell_type": "code",
   "execution_count": 3,
   "id": "periodic-identification",
   "metadata": {
    "execution": {
     "iopub.execute_input": "2021-12-17T14:00:10.034765Z",
     "iopub.status.busy": "2021-12-17T14:00:10.032400Z",
     "iopub.status.idle": "2021-12-17T14:00:10.055467Z",
     "shell.execute_reply": "2021-12-17T14:00:10.057090Z"
    },
    "papermill": {
     "duration": 0.074184,
     "end_time": "2021-12-17T14:00:10.057598",
     "exception": false,
     "start_time": "2021-12-17T14:00:09.983414",
     "status": "completed"
    },
    "tags": []
   },
   "outputs": [
    {
     "data": {
      "text/html": [
       "<div>\n",
       "<style scoped>\n",
       "    .dataframe tbody tr th:only-of-type {\n",
       "        vertical-align: middle;\n",
       "    }\n",
       "\n",
       "    .dataframe tbody tr th {\n",
       "        vertical-align: top;\n",
       "    }\n",
       "\n",
       "    .dataframe thead th {\n",
       "        text-align: right;\n",
       "    }\n",
       "</style>\n",
       "<table border=\"1\" class=\"dataframe\">\n",
       "  <thead>\n",
       "    <tr style=\"text-align: right;\">\n",
       "      <th></th>\n",
       "      <th>RECORD_TIME</th>\n",
       "    </tr>\n",
       "  </thead>\n",
       "  <tbody>\n",
       "    <tr>\n",
       "      <th>0</th>\n",
       "      <td>2021-12-17 15:00</td>\n",
       "    </tr>\n",
       "    <tr>\n",
       "      <th>1</th>\n",
       "      <td>2021-12-17 14:30</td>\n",
       "    </tr>\n",
       "  </tbody>\n",
       "</table>\n",
       "</div>"
      ],
      "text/plain": [
       "        RECORD_TIME\n",
       "0  2021-12-17 15:00\n",
       "1  2021-12-17 14:30"
      ]
     },
     "execution_count": 3,
     "metadata": {},
     "output_type": "execute_result"
    }
   ],
   "source": [
    "timestamps"
   ]
  },
  {
   "cell_type": "code",
   "execution_count": 4,
   "id": "alternate-victory",
   "metadata": {
    "execution": {
     "iopub.execute_input": "2021-12-17T14:00:10.116033Z",
     "iopub.status.busy": "2021-12-17T14:00:10.112477Z",
     "iopub.status.idle": "2021-12-17T14:00:11.730003Z",
     "shell.execute_reply": "2021-12-17T14:00:11.731800Z"
    },
    "papermill": {
     "duration": 1.653071,
     "end_time": "2021-12-17T14:00:11.732273",
     "exception": false,
     "start_time": "2021-12-17T14:00:10.079202",
     "status": "completed"
    },
    "tags": []
   },
   "outputs": [],
   "source": [
    "df = pd.read_sql(\"select * from EBAY_TOP_BERLIN where record_time in (select distinct record_time from EBAY_TOP_BERLIN order by record_time desc limit 2)\", sqlite3.connect(\"UsedObjects.db\"))"
   ]
  },
  {
   "cell_type": "code",
   "execution_count": 5,
   "id": "popular-active",
   "metadata": {
    "execution": {
     "iopub.execute_input": "2021-12-17T14:00:11.808300Z",
     "iopub.status.busy": "2021-12-17T14:00:11.799903Z",
     "iopub.status.idle": "2021-12-17T14:00:11.825989Z",
     "shell.execute_reply": "2021-12-17T14:00:11.827301Z"
    },
    "papermill": {
     "duration": 0.074592,
     "end_time": "2021-12-17T14:00:11.827798",
     "exception": false,
     "start_time": "2021-12-17T14:00:11.753206",
     "status": "completed"
    },
    "tags": []
   },
   "outputs": [],
   "source": [
    "df_pivot = df.pivot_table(index=\"PRODUCT\", columns = \"RECORD_TIME\", values = \"LISTING_COUNT\")"
   ]
  },
  {
   "cell_type": "code",
   "execution_count": 6,
   "id": "union-huntington",
   "metadata": {
    "execution": {
     "iopub.execute_input": "2021-12-17T14:00:11.890755Z",
     "iopub.status.busy": "2021-12-17T14:00:11.888275Z",
     "iopub.status.idle": "2021-12-17T14:00:11.894657Z",
     "shell.execute_reply": "2021-12-17T14:00:11.896044Z"
    },
    "papermill": {
     "duration": 0.047119,
     "end_time": "2021-12-17T14:00:11.896538",
     "exception": false,
     "start_time": "2021-12-17T14:00:11.849419",
     "status": "completed"
    },
    "tags": []
   },
   "outputs": [],
   "source": [
    "df_pivot.columns = [\"stamp_1\", \"stamp_2\"]\n",
    "df_pivot_diff = df_pivot.diff(axis=1)"
   ]
  },
  {
   "cell_type": "code",
   "execution_count": 7,
   "id": "fifth-motion",
   "metadata": {
    "execution": {
     "iopub.execute_input": "2021-12-17T14:00:11.956527Z",
     "iopub.status.busy": "2021-12-17T14:00:11.954045Z",
     "iopub.status.idle": "2021-12-17T14:00:13.924850Z",
     "shell.execute_reply": "2021-12-17T14:00:13.923265Z"
    },
    "papermill": {
     "duration": 2.006986,
     "end_time": "2021-12-17T14:00:13.925234",
     "exception": false,
     "start_time": "2021-12-17T14:00:11.918248",
     "status": "completed"
    },
    "tags": []
   },
   "outputs": [
    {
     "data": {
      "text/plain": [
       "<AxesSubplot:ylabel='PRODUCT'>"
      ]
     },
     "execution_count": 7,
     "metadata": {},
     "output_type": "execute_result"
    },
    {
     "data": {
      "image/png": "[encoded data removed]",
      "text/plain": [
       "<Figure size 432x288 with 1 Axes>"
      ]
     },
     "metadata": {
      "needs_background": "light"
     },
     "output_type": "display_data"
    }
   ],
   "source": [
    "df_pivot_diff.sort_values(\"stamp_2\", ascending = False)[\"stamp_2\"].head(10).plot.barh()"
   ]
  },
  {
   "cell_type": "code",
   "execution_count": null,
   "id": "extra-executive",
   "metadata": {
    "papermill": {
     "duration": 0.026271,
     "end_time": "2021-12-17T14:00:13.985052",
     "exception": false,
     "start_time": "2021-12-17T14:00:13.958781",
     "status": "completed"
    },
    "tags": []
   },
   "outputs": [],
   "source": []
  }
 ],
 "metadata": {
  "kernelspec": {
   "display_name": "Python 3",
   "language": "python",
   "name": "python3"
  },
  "language_info": {
   "codemirror_mode": {
    "name": "ipython",
    "version": 3
   },
   "file_extension": ".py",
   "mimetype": "text/x-python",
   "name": "python",
   "nbconvert_exporter": "python",
   "pygments_lexer": "ipython3",
   "version": "3.9.5"
  },
  "papermill": {
   "default_parameters": {},
   "duration": 9.613188,
   "end_time": "2021-12-17T14:00:14.627511",
   "environment_variables": {},
   "exception": null,
   "input_path": "eBay_Overview.ipynb",
   "output_path": "eBay_Overview.ipynb",
   "parameters": {},
   "start_time": "2021-12-17T14:00:05.014323",
   "version": "2.3.3"
  }
 },
 "nbformat": 4,
 "nbformat_minor": 5
}