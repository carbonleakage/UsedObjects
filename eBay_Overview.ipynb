{
 "cells": [
  {
   "cell_type": "code",
   "execution_count": 1,
   "id": "reverse-picking",
   "metadata": {
    "execution": {
     "iopub.execute_input": "2021-11-13T17:30:07.639243Z",
     "iopub.status.busy": "2021-11-13T17:30:07.637152Z",
     "iopub.status.idle": "2021-11-13T17:30:08.593209Z",
     "shell.execute_reply": "2021-11-13T17:30:08.591195Z"
    },
    "papermill": {
     "duration": 1.003882,
     "end_time": "2021-11-13T17:30:08.593723",
     "exception": false,
     "start_time": "2021-11-13T17:30:07.589841",
     "status": "completed"
    },
    "tags": []
   },
   "outputs": [],
   "source": [
    "import pandas as pd\n",
    "import sqlite3"
   ]
  },
  {
   "cell_type": "code",
   "execution_count": 2,
   "id": "innovative-syndrome",
   "metadata": {
    "execution": {
     "iopub.execute_input": "2021-11-13T17:30:08.655443Z",
     "iopub.status.busy": "2021-11-13T17:30:08.653140Z",
     "iopub.status.idle": "2021-11-13T17:30:09.438436Z",
     "shell.execute_reply": "2021-11-13T17:30:09.439786Z"
    },
    "papermill": {
     "duration": 0.81873,
     "end_time": "2021-11-13T17:30:09.440225",
     "exception": false,
     "start_time": "2021-11-13T17:30:08.621495",
     "status": "completed"
    },
    "tags": []
   },
   "outputs": [],
   "source": [
    "timestamps = pd.read_sql(\"select distinct record_time from EBAY_TOP_BERLIN order by record_time desc limit 2\", sqlite3.connect(\"UsedObjects.db\"))"
   ]
  },
  {
   "cell_type": "code",
   "execution_count": 3,
   "id": "periodic-identification",
   "metadata": {
    "execution": {
     "iopub.execute_input": "2021-11-13T17:30:09.506855Z",
     "iopub.status.busy": "2021-11-13T17:30:09.504839Z",
     "iopub.status.idle": "2021-11-13T17:30:09.527248Z",
     "shell.execute_reply": "2021-11-13T17:30:09.528634Z"
    },
    "papermill": {
     "duration": 0.069324,
     "end_time": "2021-11-13T17:30:09.529221",
     "exception": false,
     "start_time": "2021-11-13T17:30:09.459897",
     "status": "completed"
    },
    "tags": []
   },
   "outputs": [
    {
     "data": {
      "text/html": [
       "<div>\n",
       "<style scoped>\n",
       "    .dataframe tbody tr th:only-of-type {\n",
       "        vertical-align: middle;\n",
       "    }\n",
       "\n",
       "    .dataframe tbody tr th {\n",
       "        vertical-align: top;\n",
       "    }\n",
       "\n",
       "    .dataframe thead th {\n",
       "        text-align: right;\n",
       "    }\n",
       "</style>\n",
       "<table border=\"1\" class=\"dataframe\">\n",
       "  <thead>\n",
       "    <tr style=\"text-align: right;\">\n",
       "      <th></th>\n",
       "      <th>RECORD_TIME</th>\n",
       "    </tr>\n",
       "  </thead>\n",
       "  <tbody>\n",
       "    <tr>\n",
       "      <th>0</th>\n",
       "      <td>2021-11-13 18:30</td>\n",
       "    </tr>\n",
       "    <tr>\n",
       "      <th>1</th>\n",
       "      <td>2021-11-13 18:00</td>\n",
       "    </tr>\n",
       "  </tbody>\n",
       "</table>\n",
       "</div>"
      ],
      "text/plain": [
       "        RECORD_TIME\n",
       "0  2021-11-13 18:30\n",
       "1  2021-11-13 18:00"
      ]
     },
     "execution_count": 3,
     "metadata": {},
     "output_type": "execute_result"
    }
   ],
   "source": [
    "timestamps"
   ]
  },
  {
   "cell_type": "code",
   "execution_count": 4,
   "id": "alternate-victory",
   "metadata": {
    "execution": {
     "iopub.execute_input": "2021-11-13T17:30:09.583520Z",
     "iopub.status.busy": "2021-11-13T17:30:09.581198Z",
     "iopub.status.idle": "2021-11-13T17:30:10.786990Z",
     "shell.execute_reply": "2021-11-13T17:30:10.788338Z"
    },
    "papermill": {
     "duration": 1.239394,
     "end_time": "2021-11-13T17:30:10.788893",
     "exception": false,
     "start_time": "2021-11-13T17:30:09.549499",
     "status": "completed"
    },
    "tags": []
   },
   "outputs": [],
   "source": [
    "df = pd.read_sql(\"select * from EBAY_TOP_BERLIN where record_time in (select distinct record_time from EBAY_TOP_BERLIN order by record_time desc limit 2)\", sqlite3.connect(\"UsedObjects.db\"))"
   ]
  },
  {
   "cell_type": "code",
   "execution_count": 5,
   "id": "popular-active",
   "metadata": {
    "execution": {
     "iopub.execute_input": "2021-11-13T17:30:10.847551Z",
     "iopub.status.busy": "2021-11-13T17:30:10.845027Z",
     "iopub.status.idle": "2021-11-13T17:30:10.886150Z",
     "shell.execute_reply": "2021-11-13T17:30:10.887579Z"
    },
    "papermill": {
     "duration": 0.077597,
     "end_time": "2021-11-13T17:30:10.888063",
     "exception": false,
     "start_time": "2021-11-13T17:30:10.810466",
     "status": "completed"
    },
    "tags": []
   },
   "outputs": [],
   "source": [
    "df_pivot = df.pivot_table(index=\"PRODUCT\", columns = \"RECORD_TIME\", values = \"LISTING_COUNT\")"
   ]
  },
  {
   "cell_type": "code",
   "execution_count": 6,
   "id": "union-huntington",
   "metadata": {
    "execution": {
     "iopub.execute_input": "2021-11-13T17:30:10.952302Z",
     "iopub.status.busy": "2021-11-13T17:30:10.950072Z",
     "iopub.status.idle": "2021-11-13T17:30:10.956281Z",
     "shell.execute_reply": "2021-11-13T17:30:10.958379Z"
    },
    "papermill": {
     "duration": 0.049944,
     "end_time": "2021-11-13T17:30:10.958909",
     "exception": false,
     "start_time": "2021-11-13T17:30:10.908965",
     "status": "completed"
    },
    "tags": []
   },
   "outputs": [],
   "source": [
    "df_pivot.columns = [\"stamp_1\", \"stamp_2\"]\n",
    "df_pivot_diff = df_pivot.diff(axis=1)"
   ]
  },
  {
   "cell_type": "code",
   "execution_count": 7,
   "id": "fifth-motion",
   "metadata": {
    "execution": {
     "iopub.execute_input": "2021-11-13T17:30:11.016551Z",
     "iopub.status.busy": "2021-11-13T17:30:11.014088Z",
     "iopub.status.idle": "2021-11-13T17:30:12.656932Z",
     "shell.execute_reply": "2021-11-13T17:30:12.658376Z"
    },
    "papermill": {
     "duration": 1.677876,
     "end_time": "2021-11-13T17:30:12.658822",
     "exception": false,
     "start_time": "2021-11-13T17:30:10.980946",
     "status": "completed"
    },
    "tags": []
   },
   "outputs": [
    {
     "data": {
      "text/plain": [
       "<AxesSubplot:ylabel='PRODUCT'>"
      ]
     },
     "execution_count": 7,
     "metadata": {},
     "output_type": "execute_result"
    },
    {
     "data": {
      "image/png": "[encoded data removed]",
      "text/plain": [
       "<Figure size 432x288 with 1 Axes>"
      ]
     },
     "metadata": {
      "needs_background": "light"
     },
     "output_type": "display_data"
    }
   ],
   "source": [
    "df_pivot_diff.sort_values(\"stamp_2\", ascending = False)[\"stamp_2\"].head(10).plot.barh()"
   ]
  },
  {
   "cell_type": "code",
   "execution_count": null,
   "id": "extra-executive",
   "metadata": {
    "papermill": {
     "duration": 0.022291,
     "end_time": "2021-11-13T17:30:12.705023",
     "exception": false,
     "start_time": "2021-11-13T17:30:12.682732",
     "status": "completed"
    },
    "tags": []
   },
   "outputs": [],
   "source": []
  }
 ],
 "metadata": {
  "kernelspec": {
   "display_name": "Python 3",
   "language": "python",
   "name": "python3"
  },
  "language_info": {
   "codemirror_mode": {
    "name": "ipython",
    "version": 3
   },
   "file_extension": ".py",
   "mimetype": "text/x-python",
   "name": "python",
   "nbconvert_exporter": "python",
   "pygments_lexer": "ipython3",
   "version": "3.9.5"
  },
  "papermill": {
   "default_parameters": {},
   "duration": 8.483674,
   "end_time": "2021-11-13T17:30:13.348216",
   "environment_variables": {},
   "exception": null,
   "input_path": "eBay_Overview.ipynb",
   "output_path": "eBay_Overview.ipynb",
   "parameters": {},
   "start_time": "2021-11-13T17:30:04.864542",
   "version": "2.3.3"
  }
 },
 "nbformat": 4,
 "nbformat_minor": 5
}