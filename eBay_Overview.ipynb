{
 "cells": [
  {
   "cell_type": "code",
   "execution_count": 1,
   "id": "reverse-picking",
   "metadata": {
    "execution": {
     "iopub.execute_input": "2021-11-11T07:00:07.327431Z",
     "iopub.status.busy": "2021-11-11T07:00:07.323866Z",
     "iopub.status.idle": "2021-11-11T07:00:08.292432Z",
     "shell.execute_reply": "2021-11-11T07:00:08.294410Z"
    },
    "papermill": {
     "duration": 1.019748,
     "end_time": "2021-11-11T07:00:08.295180",
     "exception": false,
     "start_time": "2021-11-11T07:00:07.275432",
     "status": "completed"
    },
    "tags": []
   },
   "outputs": [],
   "source": [
    "import pandas as pd\n",
    "import sqlite3"
   ]
  },
  {
   "cell_type": "code",
   "execution_count": 2,
   "id": "innovative-syndrome",
   "metadata": {
    "execution": {
     "iopub.execute_input": "2021-11-11T07:00:08.357177Z",
     "iopub.status.busy": "2021-11-11T07:00:08.354350Z",
     "iopub.status.idle": "2021-11-11T07:00:09.133250Z",
     "shell.execute_reply": "2021-11-11T07:00:09.134627Z"
    },
    "papermill": {
     "duration": 0.812695,
     "end_time": "2021-11-11T07:00:09.135099",
     "exception": false,
     "start_time": "2021-11-11T07:00:08.322404",
     "status": "completed"
    },
    "tags": []
   },
   "outputs": [],
   "source": [
    "timestamps = pd.read_sql(\"select distinct record_time from EBAY_TOP_BERLIN order by record_time desc limit 2\", sqlite3.connect(\"UsedObjects.db\"))"
   ]
  },
  {
   "cell_type": "code",
   "execution_count": 3,
   "id": "periodic-identification",
   "metadata": {
    "execution": {
     "iopub.execute_input": "2021-11-11T07:00:09.205832Z",
     "iopub.status.busy": "2021-11-11T07:00:09.203394Z",
     "iopub.status.idle": "2021-11-11T07:00:09.226211Z",
     "shell.execute_reply": "2021-11-11T07:00:09.227773Z"
    },
    "papermill": {
     "duration": 0.073527,
     "end_time": "2021-11-11T07:00:09.228248",
     "exception": false,
     "start_time": "2021-11-11T07:00:09.154721",
     "status": "completed"
    },
    "tags": []
   },
   "outputs": [
    {
     "data": {
      "text/html": [
       "<div>\n",
       "<style scoped>\n",
       "    .dataframe tbody tr th:only-of-type {\n",
       "        vertical-align: middle;\n",
       "    }\n",
       "\n",
       "    .dataframe tbody tr th {\n",
       "        vertical-align: top;\n",
       "    }\n",
       "\n",
       "    .dataframe thead th {\n",
       "        text-align: right;\n",
       "    }\n",
       "</style>\n",
       "<table border=\"1\" class=\"dataframe\">\n",
       "  <thead>\n",
       "    <tr style=\"text-align: right;\">\n",
       "      <th></th>\n",
       "      <th>RECORD_TIME</th>\n",
       "    </tr>\n",
       "  </thead>\n",
       "  <tbody>\n",
       "    <tr>\n",
       "      <th>0</th>\n",
       "      <td>2021-11-11 08:00</td>\n",
       "    </tr>\n",
       "    <tr>\n",
       "      <th>1</th>\n",
       "      <td>2021-11-11 07:30</td>\n",
       "    </tr>\n",
       "  </tbody>\n",
       "</table>\n",
       "</div>"
      ],
      "text/plain": [
       "        RECORD_TIME\n",
       "0  2021-11-11 08:00\n",
       "1  2021-11-11 07:30"
      ]
     },
     "execution_count": 3,
     "metadata": {},
     "output_type": "execute_result"
    }
   ],
   "source": [
    "timestamps"
   ]
  },
  {
   "cell_type": "code",
   "execution_count": 4,
   "id": "alternate-victory",
   "metadata": {
    "execution": {
     "iopub.execute_input": "2021-11-11T07:00:09.287381Z",
     "iopub.status.busy": "2021-11-11T07:00:09.285169Z",
     "iopub.status.idle": "2021-11-11T07:00:10.404290Z",
     "shell.execute_reply": "2021-11-11T07:00:10.405873Z"
    },
    "papermill": {
     "duration": 1.156256,
     "end_time": "2021-11-11T07:00:10.406324",
     "exception": false,
     "start_time": "2021-11-11T07:00:09.250068",
     "status": "completed"
    },
    "tags": []
   },
   "outputs": [],
   "source": [
    "df = pd.read_sql(\"select * from EBAY_TOP_BERLIN where record_time in (select distinct record_time from EBAY_TOP_BERLIN order by record_time desc limit 2)\", sqlite3.connect(\"UsedObjects.db\"))"
   ]
  },
  {
   "cell_type": "code",
   "execution_count": 5,
   "id": "popular-active",
   "metadata": {
    "execution": {
     "iopub.execute_input": "2021-11-11T07:00:10.480422Z",
     "iopub.status.busy": "2021-11-11T07:00:10.470305Z",
     "iopub.status.idle": "2021-11-11T07:00:10.504321Z",
     "shell.execute_reply": "2021-11-11T07:00:10.505754Z"
    },
    "papermill": {
     "duration": 0.078599,
     "end_time": "2021-11-11T07:00:10.506230",
     "exception": false,
     "start_time": "2021-11-11T07:00:10.427631",
     "status": "completed"
    },
    "tags": []
   },
   "outputs": [],
   "source": [
    "df_pivot = df.pivot_table(index=\"PRODUCT\", columns = \"RECORD_TIME\", values = \"LISTING_COUNT\")"
   ]
  },
  {
   "cell_type": "code",
   "execution_count": 6,
   "id": "union-huntington",
   "metadata": {
    "execution": {
     "iopub.execute_input": "2021-11-11T07:00:10.565251Z",
     "iopub.status.busy": "2021-11-11T07:00:10.562958Z",
     "iopub.status.idle": "2021-11-11T07:00:10.568322Z",
     "shell.execute_reply": "2021-11-11T07:00:10.569775Z"
    },
    "papermill": {
     "duration": 0.043956,
     "end_time": "2021-11-11T07:00:10.570277",
     "exception": false,
     "start_time": "2021-11-11T07:00:10.526321",
     "status": "completed"
    },
    "tags": []
   },
   "outputs": [],
   "source": [
    "df_pivot.columns = [\"stamp_1\", \"stamp_2\"]\n",
    "df_pivot_diff = df_pivot.diff(axis=1)"
   ]
  },
  {
   "cell_type": "code",
   "execution_count": 7,
   "id": "fifth-motion",
   "metadata": {
    "execution": {
     "iopub.execute_input": "2021-11-11T07:00:10.632260Z",
     "iopub.status.busy": "2021-11-11T07:00:10.629363Z",
     "iopub.status.idle": "2021-11-11T07:00:12.464503Z",
     "shell.execute_reply": "2021-11-11T07:00:12.466875Z"
    },
    "papermill": {
     "duration": 1.876881,
     "end_time": "2021-11-11T07:00:12.467806",
     "exception": false,
     "start_time": "2021-11-11T07:00:10.590925",
     "status": "completed"
    },
    "tags": []
   },
   "outputs": [
    {
     "data": {
      "text/plain": [
       "<AxesSubplot:ylabel='PRODUCT'>"
      ]
     },
     "execution_count": 7,
     "metadata": {},
     "output_type": "execute_result"
    },
    {
     "data": {
      "image/png": "[encoded data removed]",
      "text/plain": [
       "<Figure size 432x288 with 1 Axes>"
      ]
     },
     "metadata": {
      "needs_background": "light"
     },
     "output_type": "display_data"
    }
   ],
   "source": [
    "df_pivot_diff.sort_values(\"stamp_2\", ascending = False)[\"stamp_2\"].head(10).plot.barh()"
   ]
  },
  {
   "cell_type": "code",
   "execution_count": null,
   "id": "extra-executive",
   "metadata": {
    "papermill": {
     "duration": 0.036291,
     "end_time": "2021-11-11T07:00:12.544208",
     "exception": false,
     "start_time": "2021-11-11T07:00:12.507917",
     "status": "completed"
    },
    "tags": []
   },
   "outputs": [],
   "source": []
  }
 ],
 "metadata": {
  "kernelspec": {
   "display_name": "Python 3",
   "language": "python",
   "name": "python3"
  },
  "language_info": {
   "codemirror_mode": {
    "name": "ipython",
    "version": 3
   },
   "file_extension": ".py",
   "mimetype": "text/x-python",
   "name": "python",
   "nbconvert_exporter": "python",
   "pygments_lexer": "ipython3",
   "version": "3.9.5"
  },
  "papermill": {
   "default_parameters": {},
   "duration": 8.864085,
   "end_time": "2021-11-11T07:00:13.414449",
   "environment_variables": {},
   "exception": null,
   "input_path": "eBay_Overview.ipynb",
   "output_path": "eBay_Overview.ipynb",
   "parameters": {},
   "start_time": "2021-11-11T07:00:04.550364",
   "version": "2.3.3"
  }
 },
 "nbformat": 4,
 "nbformat_minor": 5
}