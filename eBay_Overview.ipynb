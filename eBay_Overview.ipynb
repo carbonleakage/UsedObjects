{
 "cells": [
  {
   "cell_type": "code",
   "execution_count": 1,
   "id": "reverse-picking",
   "metadata": {
    "execution": {
     "iopub.execute_input": "2021-08-20T04:30:06.743546Z",
     "iopub.status.busy": "2021-08-20T04:30:06.741533Z",
     "iopub.status.idle": "2021-08-20T04:30:07.544338Z",
     "shell.execute_reply": "2021-08-20T04:30:07.545575Z"
    },
    "papermill": {
     "duration": 0.856124,
     "end_time": "2021-08-20T04:30:07.546249",
     "exception": false,
     "start_time": "2021-08-20T04:30:06.690125",
     "status": "completed"
    },
    "tags": []
   },
   "outputs": [],
   "source": [
    "import pandas as pd\n",
    "import sqlite3"
   ]
  },
  {
   "cell_type": "code",
   "execution_count": 2,
   "id": "innovative-syndrome",
   "metadata": {
    "execution": {
     "iopub.execute_input": "2021-08-20T04:30:07.597860Z",
     "iopub.status.busy": "2021-08-20T04:30:07.596029Z",
     "iopub.status.idle": "2021-08-20T04:30:07.685667Z",
     "shell.execute_reply": "2021-08-20T04:30:07.687003Z"
    },
    "papermill": {
     "duration": 0.118905,
     "end_time": "2021-08-20T04:30:07.687425",
     "exception": false,
     "start_time": "2021-08-20T04:30:07.568520",
     "status": "completed"
    },
    "tags": []
   },
   "outputs": [],
   "source": [
    "timestamps = pd.read_sql(\"select distinct record_time from EBAY_TOP_BERLIN order by record_time desc limit 2\", sqlite3.connect(\"UsedObjects.db\"))"
   ]
  },
  {
   "cell_type": "code",
   "execution_count": 3,
   "id": "periodic-identification",
   "metadata": {
    "execution": {
     "iopub.execute_input": "2021-08-20T04:30:07.753797Z",
     "iopub.status.busy": "2021-08-20T04:30:07.751723Z",
     "iopub.status.idle": "2021-08-20T04:30:07.772075Z",
     "shell.execute_reply": "2021-08-20T04:30:07.773339Z"
    },
    "papermill": {
     "duration": 0.065865,
     "end_time": "2021-08-20T04:30:07.773748",
     "exception": false,
     "start_time": "2021-08-20T04:30:07.707883",
     "status": "completed"
    },
    "tags": []
   },
   "outputs": [
    {
     "data": {
      "text/html": [
       "<div>\n",
       "<style scoped>\n",
       "    .dataframe tbody tr th:only-of-type {\n",
       "        vertical-align: middle;\n",
       "    }\n",
       "\n",
       "    .dataframe tbody tr th {\n",
       "        vertical-align: top;\n",
       "    }\n",
       "\n",
       "    .dataframe thead th {\n",
       "        text-align: right;\n",
       "    }\n",
       "</style>\n",
       "<table border=\"1\" class=\"dataframe\">\n",
       "  <thead>\n",
       "    <tr style=\"text-align: right;\">\n",
       "      <th></th>\n",
       "      <th>RECORD_TIME</th>\n",
       "    </tr>\n",
       "  </thead>\n",
       "  <tbody>\n",
       "    <tr>\n",
       "      <th>0</th>\n",
       "      <td>2021-08-20 06:30</td>\n",
       "    </tr>\n",
       "    <tr>\n",
       "      <th>1</th>\n",
       "      <td>2021-08-20 06:00</td>\n",
       "    </tr>\n",
       "  </tbody>\n",
       "</table>\n",
       "</div>"
      ],
      "text/plain": [
       "        RECORD_TIME\n",
       "0  2021-08-20 06:30\n",
       "1  2021-08-20 06:00"
      ]
     },
     "execution_count": 3,
     "metadata": {},
     "output_type": "execute_result"
    }
   ],
   "source": [
    "timestamps"
   ]
  },
  {
   "cell_type": "code",
   "execution_count": 4,
   "id": "alternate-victory",
   "metadata": {
    "execution": {
     "iopub.execute_input": "2021-08-20T04:30:07.825489Z",
     "iopub.status.busy": "2021-08-20T04:30:07.823239Z",
     "iopub.status.idle": "2021-08-20T04:30:07.954057Z",
     "shell.execute_reply": "2021-08-20T04:30:07.955466Z"
    },
    "papermill": {
     "duration": 0.161307,
     "end_time": "2021-08-20T04:30:07.955907",
     "exception": false,
     "start_time": "2021-08-20T04:30:07.794600",
     "status": "completed"
    },
    "tags": []
   },
   "outputs": [],
   "source": [
    "df = pd.read_sql(\"select * from EBAY_TOP_BERLIN where record_time in (select distinct record_time from EBAY_TOP_BERLIN order by record_time desc limit 2)\", sqlite3.connect(\"UsedObjects.db\"))"
   ]
  },
  {
   "cell_type": "code",
   "execution_count": 5,
   "id": "popular-active",
   "metadata": {
    "execution": {
     "iopub.execute_input": "2021-08-20T04:30:08.026394Z",
     "iopub.status.busy": "2021-08-20T04:30:08.015376Z",
     "iopub.status.idle": "2021-08-20T04:30:08.042766Z",
     "shell.execute_reply": "2021-08-20T04:30:08.043978Z"
    },
    "papermill": {
     "duration": 0.067721,
     "end_time": "2021-08-20T04:30:08.044378",
     "exception": false,
     "start_time": "2021-08-20T04:30:07.976657",
     "status": "completed"
    },
    "tags": []
   },
   "outputs": [],
   "source": [
    "df_pivot = df.pivot_table(index=\"PRODUCT\", columns = \"RECORD_TIME\", values = \"LISTING_COUNT\")"
   ]
  },
  {
   "cell_type": "code",
   "execution_count": 6,
   "id": "union-huntington",
   "metadata": {
    "execution": {
     "iopub.execute_input": "2021-08-20T04:30:08.104170Z",
     "iopub.status.busy": "2021-08-20T04:30:08.101717Z",
     "iopub.status.idle": "2021-08-20T04:30:08.108027Z",
     "shell.execute_reply": "2021-08-20T04:30:08.109461Z"
    },
    "papermill": {
     "duration": 0.042654,
     "end_time": "2021-08-20T04:30:08.109973",
     "exception": false,
     "start_time": "2021-08-20T04:30:08.067319",
     "status": "completed"
    },
    "tags": []
   },
   "outputs": [],
   "source": [
    "df_pivot.columns = [\"stamp_1\", \"stamp_2\"]\n",
    "df_pivot_diff = df_pivot.diff(axis=1)"
   ]
  },
  {
   "cell_type": "code",
   "execution_count": 7,
   "id": "fifth-motion",
   "metadata": {
    "execution": {
     "iopub.execute_input": "2021-08-20T04:30:08.165064Z",
     "iopub.status.busy": "2021-08-20T04:30:08.162672Z",
     "iopub.status.idle": "2021-08-20T04:30:09.636958Z",
     "shell.execute_reply": "2021-08-20T04:30:09.638443Z"
    },
    "papermill": {
     "duration": 1.507192,
     "end_time": "2021-08-20T04:30:09.638913",
     "exception": false,
     "start_time": "2021-08-20T04:30:08.131721",
     "status": "completed"
    },
    "tags": []
   },
   "outputs": [
    {
     "data": {
      "text/plain": [
       "<AxesSubplot:ylabel='PRODUCT'>"
      ]
     },
     "execution_count": 7,
     "metadata": {},
     "output_type": "execute_result"
    },
    {
     "data": {
      "image/png": "[encoded data removed]",
      "text/plain": [
       "<Figure size 432x288 with 1 Axes>"
      ]
     },
     "metadata": {
      "needs_background": "light"
     },
     "output_type": "display_data"
    }
   ],
   "source": [
    "df_pivot_diff.sort_values(\"stamp_2\", ascending = False)[\"stamp_2\"].head(10).plot.barh()"
   ]
  },
  {
   "cell_type": "code",
   "execution_count": null,
   "id": "extra-executive",
   "metadata": {
    "papermill": {
     "duration": 0.022149,
     "end_time": "2021-08-20T04:30:09.685601",
     "exception": false,
     "start_time": "2021-08-20T04:30:09.663452",
     "status": "completed"
    },
    "tags": []
   },
   "outputs": [],
   "source": []
  }
 ],
 "metadata": {
  "kernelspec": {
   "display_name": "Python 3",
   "language": "python",
   "name": "python3"
  },
  "language_info": {
   "codemirror_mode": {
    "name": "ipython",
    "version": 3
   },
   "file_extension": ".py",
   "mimetype": "text/x-python",
   "name": "python",
   "nbconvert_exporter": "python",
   "pygments_lexer": "ipython3",
   "version": "3.9.5"
  },
  "papermill": {
   "default_parameters": {},
   "duration": 6.836609,
   "end_time": "2021-08-20T04:30:11.125236",
   "environment_variables": {},
   "exception": null,
   "input_path": "eBay_Overview.ipynb",
   "output_path": "eBay_Overview.ipynb",
   "parameters": {},
   "start_time": "2021-08-20T04:30:04.288627",
   "version": "2.3.3"
  }
 },
 "nbformat": 4,
 "nbformat_minor": 5
}