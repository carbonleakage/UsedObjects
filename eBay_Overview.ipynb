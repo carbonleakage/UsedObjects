{
 "cells": [
  {
   "cell_type": "code",
   "execution_count": 1,
   "id": "reverse-picking",
   "metadata": {
    "execution": {
     "iopub.execute_input": "2021-08-28T02:00:07.053231Z",
     "iopub.status.busy": "2021-08-28T02:00:07.051283Z",
     "iopub.status.idle": "2021-08-28T02:00:07.852503Z",
     "shell.execute_reply": "2021-08-28T02:00:07.853933Z"
    },
    "papermill": {
     "duration": 0.850981,
     "end_time": "2021-08-28T02:00:07.854602",
     "exception": false,
     "start_time": "2021-08-28T02:00:07.003621",
     "status": "completed"
    },
    "tags": []
   },
   "outputs": [],
   "source": [
    "import pandas as pd\n",
    "import sqlite3"
   ]
  },
  {
   "cell_type": "code",
   "execution_count": 2,
   "id": "innovative-syndrome",
   "metadata": {
    "execution": {
     "iopub.execute_input": "2021-08-28T02:00:07.904953Z",
     "iopub.status.busy": "2021-08-28T02:00:07.903037Z",
     "iopub.status.idle": "2021-08-28T02:00:08.047689Z",
     "shell.execute_reply": "2021-08-28T02:00:08.049144Z"
    },
    "papermill": {
     "duration": 0.174538,
     "end_time": "2021-08-28T02:00:08.049590",
     "exception": false,
     "start_time": "2021-08-28T02:00:07.875052",
     "status": "completed"
    },
    "tags": []
   },
   "outputs": [],
   "source": [
    "timestamps = pd.read_sql(\"select distinct record_time from EBAY_TOP_BERLIN order by record_time desc limit 2\", sqlite3.connect(\"UsedObjects.db\"))"
   ]
  },
  {
   "cell_type": "code",
   "execution_count": 3,
   "id": "periodic-identification",
   "metadata": {
    "execution": {
     "iopub.execute_input": "2021-08-28T02:00:08.115882Z",
     "iopub.status.busy": "2021-08-28T02:00:08.113874Z",
     "iopub.status.idle": "2021-08-28T02:00:08.133901Z",
     "shell.execute_reply": "2021-08-28T02:00:08.135158Z"
    },
    "papermill": {
     "duration": 0.065893,
     "end_time": "2021-08-28T02:00:08.135604",
     "exception": false,
     "start_time": "2021-08-28T02:00:08.069711",
     "status": "completed"
    },
    "tags": []
   },
   "outputs": [
    {
     "data": {
      "text/html": [
       "<div>\n",
       "<style scoped>\n",
       "    .dataframe tbody tr th:only-of-type {\n",
       "        vertical-align: middle;\n",
       "    }\n",
       "\n",
       "    .dataframe tbody tr th {\n",
       "        vertical-align: top;\n",
       "    }\n",
       "\n",
       "    .dataframe thead th {\n",
       "        text-align: right;\n",
       "    }\n",
       "</style>\n",
       "<table border=\"1\" class=\"dataframe\">\n",
       "  <thead>\n",
       "    <tr style=\"text-align: right;\">\n",
       "      <th></th>\n",
       "      <th>RECORD_TIME</th>\n",
       "    </tr>\n",
       "  </thead>\n",
       "  <tbody>\n",
       "    <tr>\n",
       "      <th>0</th>\n",
       "      <td>2021-08-28 04:00</td>\n",
       "    </tr>\n",
       "    <tr>\n",
       "      <th>1</th>\n",
       "      <td>2021-08-28 03:30</td>\n",
       "    </tr>\n",
       "  </tbody>\n",
       "</table>\n",
       "</div>"
      ],
      "text/plain": [
       "        RECORD_TIME\n",
       "0  2021-08-28 04:00\n",
       "1  2021-08-28 03:30"
      ]
     },
     "execution_count": 3,
     "metadata": {},
     "output_type": "execute_result"
    }
   ],
   "source": [
    "timestamps"
   ]
  },
  {
   "cell_type": "code",
   "execution_count": 4,
   "id": "alternate-victory",
   "metadata": {
    "execution": {
     "iopub.execute_input": "2021-08-28T02:00:08.187898Z",
     "iopub.status.busy": "2021-08-28T02:00:08.186002Z",
     "iopub.status.idle": "2021-08-28T02:00:08.407538Z",
     "shell.execute_reply": "2021-08-28T02:00:08.406243Z"
    },
    "papermill": {
     "duration": 0.250856,
     "end_time": "2021-08-28T02:00:08.407863",
     "exception": false,
     "start_time": "2021-08-28T02:00:08.157007",
     "status": "completed"
    },
    "tags": []
   },
   "outputs": [],
   "source": [
    "df = pd.read_sql(\"select * from EBAY_TOP_BERLIN where record_time in (select distinct record_time from EBAY_TOP_BERLIN order by record_time desc limit 2)\", sqlite3.connect(\"UsedObjects.db\"))"
   ]
  },
  {
   "cell_type": "code",
   "execution_count": 5,
   "id": "popular-active",
   "metadata": {
    "execution": {
     "iopub.execute_input": "2021-08-28T02:00:08.481072Z",
     "iopub.status.busy": "2021-08-28T02:00:08.469098Z",
     "iopub.status.idle": "2021-08-28T02:00:08.496625Z",
     "shell.execute_reply": "2021-08-28T02:00:08.497823Z"
    },
    "papermill": {
     "duration": 0.067012,
     "end_time": "2021-08-28T02:00:08.498215",
     "exception": false,
     "start_time": "2021-08-28T02:00:08.431203",
     "status": "completed"
    },
    "tags": []
   },
   "outputs": [],
   "source": [
    "df_pivot = df.pivot_table(index=\"PRODUCT\", columns = \"RECORD_TIME\", values = \"LISTING_COUNT\")"
   ]
  },
  {
   "cell_type": "code",
   "execution_count": 6,
   "id": "union-huntington",
   "metadata": {
    "execution": {
     "iopub.execute_input": "2021-08-28T02:00:08.566262Z",
     "iopub.status.busy": "2021-08-28T02:00:08.563891Z",
     "iopub.status.idle": "2021-08-28T02:00:08.569805Z",
     "shell.execute_reply": "2021-08-28T02:00:08.571063Z"
    },
    "papermill": {
     "duration": 0.044937,
     "end_time": "2021-08-28T02:00:08.571509",
     "exception": false,
     "start_time": "2021-08-28T02:00:08.526572",
     "status": "completed"
    },
    "tags": []
   },
   "outputs": [],
   "source": [
    "df_pivot.columns = [\"stamp_1\", \"stamp_2\"]\n",
    "df_pivot_diff = df_pivot.diff(axis=1)"
   ]
  },
  {
   "cell_type": "code",
   "execution_count": 7,
   "id": "fifth-motion",
   "metadata": {
    "execution": {
     "iopub.execute_input": "2021-08-28T02:00:08.629310Z",
     "iopub.status.busy": "2021-08-28T02:00:08.626649Z",
     "iopub.status.idle": "2021-08-28T02:00:10.112130Z",
     "shell.execute_reply": "2021-08-28T02:00:10.113687Z"
    },
    "papermill": {
     "duration": 1.51956,
     "end_time": "2021-08-28T02:00:10.114134",
     "exception": false,
     "start_time": "2021-08-28T02:00:08.594574",
     "status": "completed"
    },
    "tags": []
   },
   "outputs": [
    {
     "data": {
      "text/plain": [
       "<AxesSubplot:ylabel='PRODUCT'>"
      ]
     },
     "execution_count": 7,
     "metadata": {},
     "output_type": "execute_result"
    },
    {
     "data": {
      "image/png": "[encoded data removed]",
      "text/plain": [
       "<Figure size 432x288 with 1 Axes>"
      ]
     },
     "metadata": {
      "needs_background": "light"
     },
     "output_type": "display_data"
    }
   ],
   "source": [
    "df_pivot_diff.sort_values(\"stamp_2\", ascending = False)[\"stamp_2\"].head(10).plot.barh()"
   ]
  },
  {
   "cell_type": "code",
   "execution_count": null,
   "id": "extra-executive",
   "metadata": {
    "papermill": {
     "duration": 0.022522,
     "end_time": "2021-08-28T02:00:10.161516",
     "exception": false,
     "start_time": "2021-08-28T02:00:10.138994",
     "status": "completed"
    },
    "tags": []
   },
   "outputs": [],
   "source": []
  }
 ],
 "metadata": {
  "kernelspec": {
   "display_name": "Python 3",
   "language": "python",
   "name": "python3"
  },
  "language_info": {
   "codemirror_mode": {
    "name": "ipython",
    "version": 3
   },
   "file_extension": ".py",
   "mimetype": "text/x-python",
   "name": "python",
   "nbconvert_exporter": "python",
   "pygments_lexer": "ipython3",
   "version": "3.9.5"
  },
  "papermill": {
   "default_parameters": {},
   "duration": 6.821949,
   "end_time": "2021-08-28T02:00:11.434328",
   "environment_variables": {},
   "exception": null,
   "input_path": "eBay_Overview.ipynb",
   "output_path": "eBay_Overview.ipynb",
   "parameters": {},
   "start_time": "2021-08-28T02:00:04.612379",
   "version": "2.3.3"
  }
 },
 "nbformat": 4,
 "nbformat_minor": 5
}