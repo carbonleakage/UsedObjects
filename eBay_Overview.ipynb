{
 "cells": [
  {
   "cell_type": "code",
   "execution_count": 1,
   "id": "reverse-picking",
   "metadata": {
    "execution": {
     "iopub.execute_input": "2021-09-25T04:00:07.136514Z",
     "iopub.status.busy": "2021-09-25T04:00:07.134467Z",
     "iopub.status.idle": "2021-09-25T04:00:07.940498Z",
     "shell.execute_reply": "2021-09-25T04:00:07.941644Z"
    },
    "papermill": {
     "duration": 0.858497,
     "end_time": "2021-09-25T04:00:07.942268",
     "exception": false,
     "start_time": "2021-09-25T04:00:07.083771",
     "status": "completed"
    },
    "tags": []
   },
   "outputs": [],
   "source": [
    "import pandas as pd\n",
    "import sqlite3"
   ]
  },
  {
   "cell_type": "code",
   "execution_count": 2,
   "id": "innovative-syndrome",
   "metadata": {
    "execution": {
     "iopub.execute_input": "2021-09-25T04:00:07.993822Z",
     "iopub.status.busy": "2021-09-25T04:00:07.991980Z",
     "iopub.status.idle": "2021-09-25T04:00:08.374309Z",
     "shell.execute_reply": "2021-09-25T04:00:08.373022Z"
    },
    "papermill": {
     "duration": 0.410645,
     "end_time": "2021-09-25T04:00:08.374644",
     "exception": false,
     "start_time": "2021-09-25T04:00:07.963999",
     "status": "completed"
    },
    "tags": []
   },
   "outputs": [],
   "source": [
    "timestamps = pd.read_sql(\"select distinct record_time from EBAY_TOP_BERLIN order by record_time desc limit 2\", sqlite3.connect(\"UsedObjects.db\"))"
   ]
  },
  {
   "cell_type": "code",
   "execution_count": 3,
   "id": "periodic-identification",
   "metadata": {
    "execution": {
     "iopub.execute_input": "2021-09-25T04:00:08.437933Z",
     "iopub.status.busy": "2021-09-25T04:00:08.435932Z",
     "iopub.status.idle": "2021-09-25T04:00:08.455791Z",
     "shell.execute_reply": "2021-09-25T04:00:08.456988Z"
    },
    "papermill": {
     "duration": 0.063223,
     "end_time": "2021-09-25T04:00:08.457421",
     "exception": false,
     "start_time": "2021-09-25T04:00:08.394198",
     "status": "completed"
    },
    "tags": []
   },
   "outputs": [
    {
     "data": {
      "text/html": [
       "<div>\n",
       "<style scoped>\n",
       "    .dataframe tbody tr th:only-of-type {\n",
       "        vertical-align: middle;\n",
       "    }\n",
       "\n",
       "    .dataframe tbody tr th {\n",
       "        vertical-align: top;\n",
       "    }\n",
       "\n",
       "    .dataframe thead th {\n",
       "        text-align: right;\n",
       "    }\n",
       "</style>\n",
       "<table border=\"1\" class=\"dataframe\">\n",
       "  <thead>\n",
       "    <tr style=\"text-align: right;\">\n",
       "      <th></th>\n",
       "      <th>RECORD_TIME</th>\n",
       "    </tr>\n",
       "  </thead>\n",
       "  <tbody>\n",
       "    <tr>\n",
       "      <th>0</th>\n",
       "      <td>2021-09-25 06:00</td>\n",
       "    </tr>\n",
       "    <tr>\n",
       "      <th>1</th>\n",
       "      <td>2021-09-25 05:30</td>\n",
       "    </tr>\n",
       "  </tbody>\n",
       "</table>\n",
       "</div>"
      ],
      "text/plain": [
       "        RECORD_TIME\n",
       "0  2021-09-25 06:00\n",
       "1  2021-09-25 05:30"
      ]
     },
     "execution_count": 3,
     "metadata": {},
     "output_type": "execute_result"
    }
   ],
   "source": [
    "timestamps"
   ]
  },
  {
   "cell_type": "code",
   "execution_count": 4,
   "id": "alternate-victory",
   "metadata": {
    "execution": {
     "iopub.execute_input": "2021-09-25T04:00:08.511249Z",
     "iopub.status.busy": "2021-09-25T04:00:08.508935Z",
     "iopub.status.idle": "2021-09-25T04:00:09.112699Z",
     "shell.execute_reply": "2021-09-25T04:00:09.113903Z"
    },
    "papermill": {
     "duration": 0.6342,
     "end_time": "2021-09-25T04:00:09.114299",
     "exception": false,
     "start_time": "2021-09-25T04:00:08.480099",
     "status": "completed"
    },
    "tags": []
   },
   "outputs": [],
   "source": [
    "df = pd.read_sql(\"select * from EBAY_TOP_BERLIN where record_time in (select distinct record_time from EBAY_TOP_BERLIN order by record_time desc limit 2)\", sqlite3.connect(\"UsedObjects.db\"))"
   ]
  },
  {
   "cell_type": "code",
   "execution_count": 5,
   "id": "popular-active",
   "metadata": {
    "execution": {
     "iopub.execute_input": "2021-09-25T04:00:09.184190Z",
     "iopub.status.busy": "2021-09-25T04:00:09.171780Z",
     "iopub.status.idle": "2021-09-25T04:00:09.200398Z",
     "shell.execute_reply": "2021-09-25T04:00:09.201754Z"
    },
    "papermill": {
     "duration": 0.067474,
     "end_time": "2021-09-25T04:00:09.202189",
     "exception": false,
     "start_time": "2021-09-25T04:00:09.134715",
     "status": "completed"
    },
    "tags": []
   },
   "outputs": [],
   "source": [
    "df_pivot = df.pivot_table(index=\"PRODUCT\", columns = \"RECORD_TIME\", values = \"LISTING_COUNT\")"
   ]
  },
  {
   "cell_type": "code",
   "execution_count": 6,
   "id": "union-huntington",
   "metadata": {
    "execution": {
     "iopub.execute_input": "2021-09-25T04:00:09.258713Z",
     "iopub.status.busy": "2021-09-25T04:00:09.256457Z",
     "iopub.status.idle": "2021-09-25T04:00:09.262321Z",
     "shell.execute_reply": "2021-09-25T04:00:09.263660Z"
    },
    "papermill": {
     "duration": 0.04185,
     "end_time": "2021-09-25T04:00:09.264119",
     "exception": false,
     "start_time": "2021-09-25T04:00:09.222269",
     "status": "completed"
    },
    "tags": []
   },
   "outputs": [],
   "source": [
    "df_pivot.columns = [\"stamp_1\", \"stamp_2\"]\n",
    "df_pivot_diff = df_pivot.diff(axis=1)"
   ]
  },
  {
   "cell_type": "code",
   "execution_count": 7,
   "id": "fifth-motion",
   "metadata": {
    "execution": {
     "iopub.execute_input": "2021-09-25T04:00:09.319127Z",
     "iopub.status.busy": "2021-09-25T04:00:09.316718Z",
     "iopub.status.idle": "2021-09-25T04:00:10.829545Z",
     "shell.execute_reply": "2021-09-25T04:00:10.828173Z"
    },
    "papermill": {
     "duration": 1.543962,
     "end_time": "2021-09-25T04:00:10.829906",
     "exception": false,
     "start_time": "2021-09-25T04:00:09.285944",
     "status": "completed"
    },
    "tags": []
   },
   "outputs": [
    {
     "data": {
      "text/plain": [
       "<AxesSubplot:ylabel='PRODUCT'>"
      ]
     },
     "execution_count": 7,
     "metadata": {},
     "output_type": "execute_result"
    },
    {
     "data": {
      "image/png": "[encoded data removed]",
      "text/plain": [
       "<Figure size 432x288 with 1 Axes>"
      ]
     },
     "metadata": {
      "needs_background": "light"
     },
     "output_type": "display_data"
    }
   ],
   "source": [
    "df_pivot_diff.sort_values(\"stamp_2\", ascending = False)[\"stamp_2\"].head(10).plot.barh()"
   ]
  },
  {
   "cell_type": "code",
   "execution_count": null,
   "id": "extra-executive",
   "metadata": {
    "papermill": {
     "duration": 0.022166,
     "end_time": "2021-09-25T04:00:10.876666",
     "exception": false,
     "start_time": "2021-09-25T04:00:10.854500",
     "status": "completed"
    },
    "tags": []
   },
   "outputs": [],
   "source": []
  }
 ],
 "metadata": {
  "kernelspec": {
   "display_name": "Python 3",
   "language": "python",
   "name": "python3"
  },
  "language_info": {
   "codemirror_mode": {
    "name": "ipython",
    "version": 3
   },
   "file_extension": ".py",
   "mimetype": "text/x-python",
   "name": "python",
   "nbconvert_exporter": "python",
   "pygments_lexer": "ipython3",
   "version": "3.9.5"
  },
  "papermill": {
   "default_parameters": {},
   "duration": 7.820173,
   "end_time": "2021-09-25T04:00:12.508253",
   "environment_variables": {},
   "exception": null,
   "input_path": "eBay_Overview.ipynb",
   "output_path": "eBay_Overview.ipynb",
   "parameters": {},
   "start_time": "2021-09-25T04:00:04.688080",
   "version": "2.3.3"
  }
 },
 "nbformat": 4,
 "nbformat_minor": 5
}