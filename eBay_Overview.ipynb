{
 "cells": [
  {
   "cell_type": "code",
   "execution_count": 1,
   "id": "reverse-picking",
   "metadata": {
    "execution": {
     "iopub.execute_input": "2021-09-02T13:00:07.064501Z",
     "iopub.status.busy": "2021-09-02T13:00:07.062448Z",
     "iopub.status.idle": "2021-09-02T13:00:07.865900Z",
     "shell.execute_reply": "2021-09-02T13:00:07.867328Z"
    },
    "papermill": {
     "duration": 0.855379,
     "end_time": "2021-09-02T13:00:07.867986",
     "exception": false,
     "start_time": "2021-09-02T13:00:07.012607",
     "status": "completed"
    },
    "tags": []
   },
   "outputs": [],
   "source": [
    "import pandas as pd\n",
    "import sqlite3"
   ]
  },
  {
   "cell_type": "code",
   "execution_count": 2,
   "id": "innovative-syndrome",
   "metadata": {
    "execution": {
     "iopub.execute_input": "2021-09-02T13:00:07.918505Z",
     "iopub.status.busy": "2021-09-02T13:00:07.916481Z",
     "iopub.status.idle": "2021-09-02T13:00:08.106322Z",
     "shell.execute_reply": "2021-09-02T13:00:08.107791Z"
    },
    "papermill": {
     "duration": 0.220224,
     "end_time": "2021-09-02T13:00:08.108240",
     "exception": false,
     "start_time": "2021-09-02T13:00:07.888016",
     "status": "completed"
    },
    "tags": []
   },
   "outputs": [],
   "source": [
    "timestamps = pd.read_sql(\"select distinct record_time from EBAY_TOP_BERLIN order by record_time desc limit 2\", sqlite3.connect(\"UsedObjects.db\"))"
   ]
  },
  {
   "cell_type": "code",
   "execution_count": 3,
   "id": "periodic-identification",
   "metadata": {
    "execution": {
     "iopub.execute_input": "2021-09-02T13:00:08.174000Z",
     "iopub.status.busy": "2021-09-02T13:00:08.171983Z",
     "iopub.status.idle": "2021-09-02T13:00:08.192071Z",
     "shell.execute_reply": "2021-09-02T13:00:08.193403Z"
    },
    "papermill": {
     "duration": 0.066254,
     "end_time": "2021-09-02T13:00:08.193810",
     "exception": false,
     "start_time": "2021-09-02T13:00:08.127556",
     "status": "completed"
    },
    "tags": []
   },
   "outputs": [
    {
     "data": {
      "text/html": [
       "<div>\n",
       "<style scoped>\n",
       "    .dataframe tbody tr th:only-of-type {\n",
       "        vertical-align: middle;\n",
       "    }\n",
       "\n",
       "    .dataframe tbody tr th {\n",
       "        vertical-align: top;\n",
       "    }\n",
       "\n",
       "    .dataframe thead th {\n",
       "        text-align: right;\n",
       "    }\n",
       "</style>\n",
       "<table border=\"1\" class=\"dataframe\">\n",
       "  <thead>\n",
       "    <tr style=\"text-align: right;\">\n",
       "      <th></th>\n",
       "      <th>RECORD_TIME</th>\n",
       "    </tr>\n",
       "  </thead>\n",
       "  <tbody>\n",
       "    <tr>\n",
       "      <th>0</th>\n",
       "      <td>2021-09-02 15:00</td>\n",
       "    </tr>\n",
       "    <tr>\n",
       "      <th>1</th>\n",
       "      <td>2021-09-02 14:30</td>\n",
       "    </tr>\n",
       "  </tbody>\n",
       "</table>\n",
       "</div>"
      ],
      "text/plain": [
       "        RECORD_TIME\n",
       "0  2021-09-02 15:00\n",
       "1  2021-09-02 14:30"
      ]
     },
     "execution_count": 3,
     "metadata": {},
     "output_type": "execute_result"
    }
   ],
   "source": [
    "timestamps"
   ]
  },
  {
   "cell_type": "code",
   "execution_count": 4,
   "id": "alternate-victory",
   "metadata": {
    "execution": {
     "iopub.execute_input": "2021-09-02T13:00:08.245158Z",
     "iopub.status.busy": "2021-09-02T13:00:08.242985Z",
     "iopub.status.idle": "2021-09-02T13:00:08.525953Z",
     "shell.execute_reply": "2021-09-02T13:00:08.527236Z"
    },
    "papermill": {
     "duration": 0.312888,
     "end_time": "2021-09-02T13:00:08.527632",
     "exception": false,
     "start_time": "2021-09-02T13:00:08.214744",
     "status": "completed"
    },
    "tags": []
   },
   "outputs": [],
   "source": [
    "df = pd.read_sql(\"select * from EBAY_TOP_BERLIN where record_time in (select distinct record_time from EBAY_TOP_BERLIN order by record_time desc limit 2)\", sqlite3.connect(\"UsedObjects.db\"))"
   ]
  },
  {
   "cell_type": "code",
   "execution_count": 5,
   "id": "popular-active",
   "metadata": {
    "execution": {
     "iopub.execute_input": "2021-09-02T13:00:08.607222Z",
     "iopub.status.busy": "2021-09-02T13:00:08.595682Z",
     "iopub.status.idle": "2021-09-02T13:00:08.622054Z",
     "shell.execute_reply": "2021-09-02T13:00:08.623498Z"
    },
    "papermill": {
     "duration": 0.070616,
     "end_time": "2021-09-02T13:00:08.623909",
     "exception": false,
     "start_time": "2021-09-02T13:00:08.553293",
     "status": "completed"
    },
    "tags": []
   },
   "outputs": [],
   "source": [
    "df_pivot = df.pivot_table(index=\"PRODUCT\", columns = \"RECORD_TIME\", values = \"LISTING_COUNT\")"
   ]
  },
  {
   "cell_type": "code",
   "execution_count": 6,
   "id": "union-huntington",
   "metadata": {
    "execution": {
     "iopub.execute_input": "2021-09-02T13:00:08.681581Z",
     "iopub.status.busy": "2021-09-02T13:00:08.679121Z",
     "iopub.status.idle": "2021-09-02T13:00:08.685092Z",
     "shell.execute_reply": "2021-09-02T13:00:08.686541Z"
    },
    "papermill": {
     "duration": 0.042171,
     "end_time": "2021-09-02T13:00:08.687039",
     "exception": false,
     "start_time": "2021-09-02T13:00:08.644868",
     "status": "completed"
    },
    "tags": []
   },
   "outputs": [],
   "source": [
    "df_pivot.columns = [\"stamp_1\", \"stamp_2\"]\n",
    "df_pivot_diff = df_pivot.diff(axis=1)"
   ]
  },
  {
   "cell_type": "code",
   "execution_count": 7,
   "id": "fifth-motion",
   "metadata": {
    "execution": {
     "iopub.execute_input": "2021-09-02T13:00:08.741086Z",
     "iopub.status.busy": "2021-09-02T13:00:08.738660Z",
     "iopub.status.idle": "2021-09-02T13:00:10.215195Z",
     "shell.execute_reply": "2021-09-02T13:00:10.216574Z"
    },
    "papermill": {
     "duration": 1.509008,
     "end_time": "2021-09-02T13:00:10.217008",
     "exception": false,
     "start_time": "2021-09-02T13:00:08.708000",
     "status": "completed"
    },
    "tags": []
   },
   "outputs": [
    {
     "data": {
      "text/plain": [
       "<AxesSubplot:ylabel='PRODUCT'>"
      ]
     },
     "execution_count": 7,
     "metadata": {},
     "output_type": "execute_result"
    },
    {
     "data": {
      "image/png": "[encoded data removed]",
      "text/plain": [
       "<Figure size 432x288 with 1 Axes>"
      ]
     },
     "metadata": {
      "needs_background": "light"
     },
     "output_type": "display_data"
    }
   ],
   "source": [
    "df_pivot_diff.sort_values(\"stamp_2\", ascending = False)[\"stamp_2\"].head(10).plot.barh()"
   ]
  },
  {
   "cell_type": "code",
   "execution_count": null,
   "id": "extra-executive",
   "metadata": {
    "papermill": {
     "duration": 0.021807,
     "end_time": "2021-09-02T13:00:10.262934",
     "exception": false,
     "start_time": "2021-09-02T13:00:10.241127",
     "status": "completed"
    },
    "tags": []
   },
   "outputs": [],
   "source": []
  }
 ],
 "metadata": {
  "kernelspec": {
   "display_name": "Python 3",
   "language": "python",
   "name": "python3"
  },
  "language_info": {
   "codemirror_mode": {
    "name": "ipython",
    "version": 3
   },
   "file_extension": ".py",
   "mimetype": "text/x-python",
   "name": "python",
   "nbconvert_exporter": "python",
   "pygments_lexer": "ipython3",
   "version": "3.9.5"
  },
  "papermill": {
   "default_parameters": {},
   "duration": 6.820241,
   "end_time": "2021-09-02T13:00:11.428505",
   "environment_variables": {},
   "exception": null,
   "input_path": "eBay_Overview.ipynb",
   "output_path": "eBay_Overview.ipynb",
   "parameters": {},
   "start_time": "2021-09-02T13:00:04.608264",
   "version": "2.3.3"
  }
 },
 "nbformat": 4,
 "nbformat_minor": 5
}