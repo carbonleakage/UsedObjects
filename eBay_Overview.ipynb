{
 "cells": [
  {
   "cell_type": "code",
   "execution_count": 1,
   "id": "reverse-picking",
   "metadata": {
    "execution": {
     "iopub.execute_input": "2021-10-19T10:30:07.339118Z",
     "iopub.status.busy": "2021-10-19T10:30:07.337162Z",
     "iopub.status.idle": "2021-10-19T10:30:08.145658Z",
     "shell.execute_reply": "2021-10-19T10:30:08.144009Z"
    },
    "papermill": {
     "duration": 0.858736,
     "end_time": "2021-10-19T10:30:08.146060",
     "exception": false,
     "start_time": "2021-10-19T10:30:07.287324",
     "status": "completed"
    },
    "tags": []
   },
   "outputs": [],
   "source": [
    "import pandas as pd\n",
    "import sqlite3"
   ]
  },
  {
   "cell_type": "code",
   "execution_count": 2,
   "id": "innovative-syndrome",
   "metadata": {
    "execution": {
     "iopub.execute_input": "2021-10-19T10:30:08.198538Z",
     "iopub.status.busy": "2021-10-19T10:30:08.196268Z",
     "iopub.status.idle": "2021-10-19T10:30:08.776141Z",
     "shell.execute_reply": "2021-10-19T10:30:08.777609Z"
    },
    "papermill": {
     "duration": 0.609737,
     "end_time": "2021-10-19T10:30:08.778060",
     "exception": false,
     "start_time": "2021-10-19T10:30:08.168323",
     "status": "completed"
    },
    "tags": []
   },
   "outputs": [],
   "source": [
    "timestamps = pd.read_sql(\"select distinct record_time from EBAY_TOP_BERLIN order by record_time desc limit 2\", sqlite3.connect(\"UsedObjects.db\"))"
   ]
  },
  {
   "cell_type": "code",
   "execution_count": 3,
   "id": "periodic-identification",
   "metadata": {
    "execution": {
     "iopub.execute_input": "2021-10-19T10:30:08.854423Z",
     "iopub.status.busy": "2021-10-19T10:30:08.852295Z",
     "iopub.status.idle": "2021-10-19T10:30:08.874695Z",
     "shell.execute_reply": "2021-10-19T10:30:08.875837Z"
    },
    "papermill": {
     "duration": 0.072976,
     "end_time": "2021-10-19T10:30:08.876242",
     "exception": false,
     "start_time": "2021-10-19T10:30:08.803266",
     "status": "completed"
    },
    "tags": []
   },
   "outputs": [
    {
     "data": {
      "text/html": [
       "<div>\n",
       "<style scoped>\n",
       "    .dataframe tbody tr th:only-of-type {\n",
       "        vertical-align: middle;\n",
       "    }\n",
       "\n",
       "    .dataframe tbody tr th {\n",
       "        vertical-align: top;\n",
       "    }\n",
       "\n",
       "    .dataframe thead th {\n",
       "        text-align: right;\n",
       "    }\n",
       "</style>\n",
       "<table border=\"1\" class=\"dataframe\">\n",
       "  <thead>\n",
       "    <tr style=\"text-align: right;\">\n",
       "      <th></th>\n",
       "      <th>RECORD_TIME</th>\n",
       "    </tr>\n",
       "  </thead>\n",
       "  <tbody>\n",
       "    <tr>\n",
       "      <th>0</th>\n",
       "      <td>2021-10-19 12:30</td>\n",
       "    </tr>\n",
       "    <tr>\n",
       "      <th>1</th>\n",
       "      <td>2021-10-19 12:00</td>\n",
       "    </tr>\n",
       "  </tbody>\n",
       "</table>\n",
       "</div>"
      ],
      "text/plain": [
       "        RECORD_TIME\n",
       "0  2021-10-19 12:30\n",
       "1  2021-10-19 12:00"
      ]
     },
     "execution_count": 3,
     "metadata": {},
     "output_type": "execute_result"
    }
   ],
   "source": [
    "timestamps"
   ]
  },
  {
   "cell_type": "code",
   "execution_count": 4,
   "id": "alternate-victory",
   "metadata": {
    "execution": {
     "iopub.execute_input": "2021-10-19T10:30:08.929385Z",
     "iopub.status.busy": "2021-10-19T10:30:08.926773Z",
     "iopub.status.idle": "2021-10-19T10:30:09.779805Z",
     "shell.execute_reply": "2021-10-19T10:30:09.781213Z"
    },
    "papermill": {
     "duration": 0.883598,
     "end_time": "2021-10-19T10:30:09.781644",
     "exception": false,
     "start_time": "2021-10-19T10:30:08.898046",
     "status": "completed"
    },
    "tags": []
   },
   "outputs": [],
   "source": [
    "df = pd.read_sql(\"select * from EBAY_TOP_BERLIN where record_time in (select distinct record_time from EBAY_TOP_BERLIN order by record_time desc limit 2)\", sqlite3.connect(\"UsedObjects.db\"))"
   ]
  },
  {
   "cell_type": "code",
   "execution_count": 5,
   "id": "popular-active",
   "metadata": {
    "execution": {
     "iopub.execute_input": "2021-10-19T10:30:09.850008Z",
     "iopub.status.busy": "2021-10-19T10:30:09.839071Z",
     "iopub.status.idle": "2021-10-19T10:30:09.866595Z",
     "shell.execute_reply": "2021-10-19T10:30:09.867822Z"
    },
    "papermill": {
     "duration": 0.065707,
     "end_time": "2021-10-19T10:30:09.868211",
     "exception": false,
     "start_time": "2021-10-19T10:30:09.802504",
     "status": "completed"
    },
    "tags": []
   },
   "outputs": [],
   "source": [
    "df_pivot = df.pivot_table(index=\"PRODUCT\", columns = \"RECORD_TIME\", values = \"LISTING_COUNT\")"
   ]
  },
  {
   "cell_type": "code",
   "execution_count": 6,
   "id": "union-huntington",
   "metadata": {
    "execution": {
     "iopub.execute_input": "2021-10-19T10:30:09.927751Z",
     "iopub.status.busy": "2021-10-19T10:30:09.925297Z",
     "iopub.status.idle": "2021-10-19T10:30:09.930998Z",
     "shell.execute_reply": "2021-10-19T10:30:09.932290Z"
    },
    "papermill": {
     "duration": 0.042015,
     "end_time": "2021-10-19T10:30:09.932748",
     "exception": false,
     "start_time": "2021-10-19T10:30:09.890733",
     "status": "completed"
    },
    "tags": []
   },
   "outputs": [],
   "source": [
    "df_pivot.columns = [\"stamp_1\", \"stamp_2\"]\n",
    "df_pivot_diff = df_pivot.diff(axis=1)"
   ]
  },
  {
   "cell_type": "code",
   "execution_count": 7,
   "id": "fifth-motion",
   "metadata": {
    "execution": {
     "iopub.execute_input": "2021-10-19T10:30:09.988468Z",
     "iopub.status.busy": "2021-10-19T10:30:09.986023Z",
     "iopub.status.idle": "2021-10-19T10:30:11.466115Z",
     "shell.execute_reply": "2021-10-19T10:30:11.467319Z"
    },
    "papermill": {
     "duration": 1.514254,
     "end_time": "2021-10-19T10:30:11.467757",
     "exception": false,
     "start_time": "2021-10-19T10:30:09.953503",
     "status": "completed"
    },
    "tags": []
   },
   "outputs": [
    {
     "data": {
      "text/plain": [
       "<AxesSubplot:ylabel='PRODUCT'>"
      ]
     },
     "execution_count": 7,
     "metadata": {},
     "output_type": "execute_result"
    },
    {
     "data": {
      "image/png": "[encoded data removed]",
      "text/plain": [
       "<Figure size 432x288 with 1 Axes>"
      ]
     },
     "metadata": {
      "needs_background": "light"
     },
     "output_type": "display_data"
    }
   ],
   "source": [
    "df_pivot_diff.sort_values(\"stamp_2\", ascending = False)[\"stamp_2\"].head(10).plot.barh()"
   ]
  },
  {
   "cell_type": "code",
   "execution_count": null,
   "id": "extra-executive",
   "metadata": {
    "papermill": {
     "duration": 0.022255,
     "end_time": "2021-10-19T10:30:11.515870",
     "exception": false,
     "start_time": "2021-10-19T10:30:11.493615",
     "status": "completed"
    },
    "tags": []
   },
   "outputs": [],
   "source": []
  }
 ],
 "metadata": {
  "kernelspec": {
   "display_name": "Python 3",
   "language": "python",
   "name": "python3"
  },
  "language_info": {
   "codemirror_mode": {
    "name": "ipython",
    "version": 3
   },
   "file_extension": ".py",
   "mimetype": "text/x-python",
   "name": "python",
   "nbconvert_exporter": "python",
   "pygments_lexer": "ipython3",
   "version": "3.9.5"
  },
  "papermill": {
   "default_parameters": {},
   "duration": 7.817398,
   "end_time": "2021-10-19T10:30:12.700331",
   "environment_variables": {},
   "exception": null,
   "input_path": "eBay_Overview.ipynb",
   "output_path": "eBay_Overview.ipynb",
   "parameters": {},
   "start_time": "2021-10-19T10:30:04.882933",
   "version": "2.3.3"
  }
 },
 "nbformat": 4,
 "nbformat_minor": 5
}