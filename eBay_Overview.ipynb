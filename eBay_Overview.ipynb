{
 "cells": [
  {
   "cell_type": "code",
   "execution_count": 1,
   "id": "reverse-picking",
   "metadata": {
    "execution": {
     "iopub.execute_input": "2021-10-03T08:00:06.862926Z",
     "iopub.status.busy": "2021-10-03T08:00:06.860979Z",
     "iopub.status.idle": "2021-10-03T08:00:07.667155Z",
     "shell.execute_reply": "2021-10-03T08:00:07.668403Z"
    },
    "papermill": {
     "duration": 0.858004,
     "end_time": "2021-10-03T08:00:07.669028",
     "exception": false,
     "start_time": "2021-10-03T08:00:06.811024",
     "status": "completed"
    },
    "tags": []
   },
   "outputs": [],
   "source": [
    "import pandas as pd\n",
    "import sqlite3"
   ]
  },
  {
   "cell_type": "code",
   "execution_count": 2,
   "id": "innovative-syndrome",
   "metadata": {
    "execution": {
     "iopub.execute_input": "2021-10-03T08:00:07.719983Z",
     "iopub.status.busy": "2021-10-03T08:00:07.718031Z",
     "iopub.status.idle": "2021-10-03T08:00:08.158865Z",
     "shell.execute_reply": "2021-10-03T08:00:08.160074Z"
    },
    "papermill": {
     "duration": 0.46999,
     "end_time": "2021-10-03T08:00:08.160463",
     "exception": false,
     "start_time": "2021-10-03T08:00:07.690473",
     "status": "completed"
    },
    "tags": []
   },
   "outputs": [],
   "source": [
    "timestamps = pd.read_sql(\"select distinct record_time from EBAY_TOP_BERLIN order by record_time desc limit 2\", sqlite3.connect(\"UsedObjects.db\"))"
   ]
  },
  {
   "cell_type": "code",
   "execution_count": 3,
   "id": "periodic-identification",
   "metadata": {
    "execution": {
     "iopub.execute_input": "2021-10-03T08:00:08.228040Z",
     "iopub.status.busy": "2021-10-03T08:00:08.225987Z",
     "iopub.status.idle": "2021-10-03T08:00:08.247637Z",
     "shell.execute_reply": "2021-10-03T08:00:08.249041Z"
    },
    "papermill": {
     "duration": 0.066558,
     "end_time": "2021-10-03T08:00:08.249474",
     "exception": false,
     "start_time": "2021-10-03T08:00:08.182916",
     "status": "completed"
    },
    "tags": []
   },
   "outputs": [
    {
     "data": {
      "text/html": [
       "<div>\n",
       "<style scoped>\n",
       "    .dataframe tbody tr th:only-of-type {\n",
       "        vertical-align: middle;\n",
       "    }\n",
       "\n",
       "    .dataframe tbody tr th {\n",
       "        vertical-align: top;\n",
       "    }\n",
       "\n",
       "    .dataframe thead th {\n",
       "        text-align: right;\n",
       "    }\n",
       "</style>\n",
       "<table border=\"1\" class=\"dataframe\">\n",
       "  <thead>\n",
       "    <tr style=\"text-align: right;\">\n",
       "      <th></th>\n",
       "      <th>RECORD_TIME</th>\n",
       "    </tr>\n",
       "  </thead>\n",
       "  <tbody>\n",
       "    <tr>\n",
       "      <th>0</th>\n",
       "      <td>2021-10-03 10:00</td>\n",
       "    </tr>\n",
       "    <tr>\n",
       "      <th>1</th>\n",
       "      <td>2021-10-03 09:30</td>\n",
       "    </tr>\n",
       "  </tbody>\n",
       "</table>\n",
       "</div>"
      ],
      "text/plain": [
       "        RECORD_TIME\n",
       "0  2021-10-03 10:00\n",
       "1  2021-10-03 09:30"
      ]
     },
     "execution_count": 3,
     "metadata": {},
     "output_type": "execute_result"
    }
   ],
   "source": [
    "timestamps"
   ]
  },
  {
   "cell_type": "code",
   "execution_count": 4,
   "id": "alternate-victory",
   "metadata": {
    "execution": {
     "iopub.execute_input": "2021-10-03T08:00:08.305083Z",
     "iopub.status.busy": "2021-10-03T08:00:08.303066Z",
     "iopub.status.idle": "2021-10-03T08:00:08.958083Z",
     "shell.execute_reply": "2021-10-03T08:00:08.959346Z"
    },
    "papermill": {
     "duration": 0.689252,
     "end_time": "2021-10-03T08:00:08.959741",
     "exception": false,
     "start_time": "2021-10-03T08:00:08.270489",
     "status": "completed"
    },
    "tags": []
   },
   "outputs": [],
   "source": [
    "df = pd.read_sql(\"select * from EBAY_TOP_BERLIN where record_time in (select distinct record_time from EBAY_TOP_BERLIN order by record_time desc limit 2)\", sqlite3.connect(\"UsedObjects.db\"))"
   ]
  },
  {
   "cell_type": "code",
   "execution_count": 5,
   "id": "popular-active",
   "metadata": {
    "execution": {
     "iopub.execute_input": "2021-10-03T08:00:09.023211Z",
     "iopub.status.busy": "2021-10-03T08:00:09.017007Z",
     "iopub.status.idle": "2021-10-03T08:00:09.043853Z",
     "shell.execute_reply": "2021-10-03T08:00:09.045064Z"
    },
    "papermill": {
     "duration": 0.065441,
     "end_time": "2021-10-03T08:00:09.045451",
     "exception": false,
     "start_time": "2021-10-03T08:00:08.980010",
     "status": "completed"
    },
    "tags": []
   },
   "outputs": [],
   "source": [
    "df_pivot = df.pivot_table(index=\"PRODUCT\", columns = \"RECORD_TIME\", values = \"LISTING_COUNT\")"
   ]
  },
  {
   "cell_type": "code",
   "execution_count": 6,
   "id": "union-huntington",
   "metadata": {
    "execution": {
     "iopub.execute_input": "2021-10-03T08:00:09.104466Z",
     "iopub.status.busy": "2021-10-03T08:00:09.102016Z",
     "iopub.status.idle": "2021-10-03T08:00:09.107910Z",
     "shell.execute_reply": "2021-10-03T08:00:09.109179Z"
    },
    "papermill": {
     "duration": 0.041985,
     "end_time": "2021-10-03T08:00:09.109589",
     "exception": false,
     "start_time": "2021-10-03T08:00:09.067604",
     "status": "completed"
    },
    "tags": []
   },
   "outputs": [],
   "source": [
    "df_pivot.columns = [\"stamp_1\", \"stamp_2\"]\n",
    "df_pivot_diff = df_pivot.diff(axis=1)"
   ]
  },
  {
   "cell_type": "code",
   "execution_count": 7,
   "id": "fifth-motion",
   "metadata": {
    "execution": {
     "iopub.execute_input": "2021-10-03T08:00:09.162196Z",
     "iopub.status.busy": "2021-10-03T08:00:09.160057Z",
     "iopub.status.idle": "2021-10-03T08:00:10.626359Z",
     "shell.execute_reply": "2021-10-03T08:00:10.627877Z"
    },
    "papermill": {
     "duration": 1.499014,
     "end_time": "2021-10-03T08:00:10.628331",
     "exception": false,
     "start_time": "2021-10-03T08:00:09.129317",
     "status": "completed"
    },
    "tags": []
   },
   "outputs": [
    {
     "data": {
      "text/plain": [
       "<AxesSubplot:ylabel='PRODUCT'>"
      ]
     },
     "execution_count": 7,
     "metadata": {},
     "output_type": "execute_result"
    },
    {
     "data": {
      "image/png": "[encoded data removed]",
      "text/plain": [
       "<Figure size 432x288 with 1 Axes>"
      ]
     },
     "metadata": {
      "needs_background": "light"
     },
     "output_type": "display_data"
    }
   ],
   "source": [
    "df_pivot_diff.sort_values(\"stamp_2\", ascending = False)[\"stamp_2\"].head(10).plot.barh()"
   ]
  },
  {
   "cell_type": "code",
   "execution_count": null,
   "id": "extra-executive",
   "metadata": {
    "papermill": {
     "duration": 0.021937,
     "end_time": "2021-10-03T08:00:10.673431",
     "exception": false,
     "start_time": "2021-10-03T08:00:10.651494",
     "status": "completed"
    },
    "tags": []
   },
   "outputs": [],
   "source": []
  }
 ],
 "metadata": {
  "kernelspec": {
   "display_name": "Python 3",
   "language": "python",
   "name": "python3"
  },
  "language_info": {
   "codemirror_mode": {
    "name": "ipython",
    "version": 3
   },
   "file_extension": ".py",
   "mimetype": "text/x-python",
   "name": "python",
   "nbconvert_exporter": "python",
   "pygments_lexer": "ipython3",
   "version": "3.9.5"
  },
  "papermill": {
   "default_parameters": {},
   "duration": 7.825782,
   "end_time": "2021-10-03T08:00:12.225772",
   "environment_variables": {},
   "exception": null,
   "input_path": "eBay_Overview.ipynb",
   "output_path": "eBay_Overview.ipynb",
   "parameters": {},
   "start_time": "2021-10-03T08:00:04.399990",
   "version": "2.3.3"
  }
 },
 "nbformat": 4,
 "nbformat_minor": 5
}