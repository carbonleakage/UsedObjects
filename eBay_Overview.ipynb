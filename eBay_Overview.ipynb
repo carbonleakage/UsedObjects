{
 "cells": [
  {
   "cell_type": "code",
   "execution_count": 1,
   "id": "reverse-picking",
   "metadata": {
    "execution": {
     "iopub.execute_input": "2021-09-24T23:30:07.542451Z",
     "iopub.status.busy": "2021-09-24T23:30:07.540540Z",
     "iopub.status.idle": "2021-09-24T23:30:08.344686Z",
     "shell.execute_reply": "2021-09-24T23:30:08.346001Z"
    },
    "papermill": {
     "duration": 0.856503,
     "end_time": "2021-09-24T23:30:08.346650",
     "exception": false,
     "start_time": "2021-09-24T23:30:07.490147",
     "status": "completed"
    },
    "tags": []
   },
   "outputs": [],
   "source": [
    "import pandas as pd\n",
    "import sqlite3"
   ]
  },
  {
   "cell_type": "code",
   "execution_count": 2,
   "id": "innovative-syndrome",
   "metadata": {
    "execution": {
     "iopub.execute_input": "2021-09-24T23:30:08.397911Z",
     "iopub.status.busy": "2021-09-24T23:30:08.395850Z",
     "iopub.status.idle": "2021-09-24T23:30:08.760215Z",
     "shell.execute_reply": "2021-09-24T23:30:08.761518Z"
    },
    "papermill": {
     "duration": 0.394943,
     "end_time": "2021-09-24T23:30:08.761939",
     "exception": false,
     "start_time": "2021-09-24T23:30:08.366996",
     "status": "completed"
    },
    "tags": []
   },
   "outputs": [],
   "source": [
    "timestamps = pd.read_sql(\"select distinct record_time from EBAY_TOP_BERLIN order by record_time desc limit 2\", sqlite3.connect(\"UsedObjects.db\"))"
   ]
  },
  {
   "cell_type": "code",
   "execution_count": 3,
   "id": "periodic-identification",
   "metadata": {
    "execution": {
     "iopub.execute_input": "2021-09-24T23:30:08.828336Z",
     "iopub.status.busy": "2021-09-24T23:30:08.826214Z",
     "iopub.status.idle": "2021-09-24T23:30:08.846041Z",
     "shell.execute_reply": "2021-09-24T23:30:08.847329Z"
    },
    "papermill": {
     "duration": 0.06658,
     "end_time": "2021-09-24T23:30:08.847777",
     "exception": false,
     "start_time": "2021-09-24T23:30:08.781197",
     "status": "completed"
    },
    "tags": []
   },
   "outputs": [
    {
     "data": {
      "text/html": [
       "<div>\n",
       "<style scoped>\n",
       "    .dataframe tbody tr th:only-of-type {\n",
       "        vertical-align: middle;\n",
       "    }\n",
       "\n",
       "    .dataframe tbody tr th {\n",
       "        vertical-align: top;\n",
       "    }\n",
       "\n",
       "    .dataframe thead th {\n",
       "        text-align: right;\n",
       "    }\n",
       "</style>\n",
       "<table border=\"1\" class=\"dataframe\">\n",
       "  <thead>\n",
       "    <tr style=\"text-align: right;\">\n",
       "      <th></th>\n",
       "      <th>RECORD_TIME</th>\n",
       "    </tr>\n",
       "  </thead>\n",
       "  <tbody>\n",
       "    <tr>\n",
       "      <th>0</th>\n",
       "      <td>2021-09-25 01:30</td>\n",
       "    </tr>\n",
       "    <tr>\n",
       "      <th>1</th>\n",
       "      <td>2021-09-25 01:00</td>\n",
       "    </tr>\n",
       "  </tbody>\n",
       "</table>\n",
       "</div>"
      ],
      "text/plain": [
       "        RECORD_TIME\n",
       "0  2021-09-25 01:30\n",
       "1  2021-09-25 01:00"
      ]
     },
     "execution_count": 3,
     "metadata": {},
     "output_type": "execute_result"
    }
   ],
   "source": [
    "timestamps"
   ]
  },
  {
   "cell_type": "code",
   "execution_count": 4,
   "id": "alternate-victory",
   "metadata": {
    "execution": {
     "iopub.execute_input": "2021-09-24T23:30:08.901418Z",
     "iopub.status.busy": "2021-09-24T23:30:08.899107Z",
     "iopub.status.idle": "2021-09-24T23:30:09.441411Z",
     "shell.execute_reply": "2021-09-24T23:30:09.439917Z"
    },
    "papermill": {
     "duration": 0.571068,
     "end_time": "2021-09-24T23:30:09.441793",
     "exception": false,
     "start_time": "2021-09-24T23:30:08.870725",
     "status": "completed"
    },
    "tags": []
   },
   "outputs": [],
   "source": [
    "df = pd.read_sql(\"select * from EBAY_TOP_BERLIN where record_time in (select distinct record_time from EBAY_TOP_BERLIN order by record_time desc limit 2)\", sqlite3.connect(\"UsedObjects.db\"))"
   ]
  },
  {
   "cell_type": "code",
   "execution_count": 5,
   "id": "popular-active",
   "metadata": {
    "execution": {
     "iopub.execute_input": "2021-09-24T23:30:09.526221Z",
     "iopub.status.busy": "2021-09-24T23:30:09.513991Z",
     "iopub.status.idle": "2021-09-24T23:30:09.543584Z",
     "shell.execute_reply": "2021-09-24T23:30:09.544826Z"
    },
    "papermill": {
     "duration": 0.074745,
     "end_time": "2021-09-24T23:30:09.545228",
     "exception": false,
     "start_time": "2021-09-24T23:30:09.470483",
     "status": "completed"
    },
    "tags": []
   },
   "outputs": [],
   "source": [
    "df_pivot = df.pivot_table(index=\"PRODUCT\", columns = \"RECORD_TIME\", values = \"LISTING_COUNT\")"
   ]
  },
  {
   "cell_type": "code",
   "execution_count": 6,
   "id": "union-huntington",
   "metadata": {
    "execution": {
     "iopub.execute_input": "2021-09-24T23:30:09.601334Z",
     "iopub.status.busy": "2021-09-24T23:30:09.599280Z",
     "iopub.status.idle": "2021-09-24T23:30:09.604492Z",
     "shell.execute_reply": "2021-09-24T23:30:09.605774Z"
    },
    "papermill": {
     "duration": 0.040191,
     "end_time": "2021-09-24T23:30:09.606195",
     "exception": false,
     "start_time": "2021-09-24T23:30:09.566004",
     "status": "completed"
    },
    "tags": []
   },
   "outputs": [],
   "source": [
    "df_pivot.columns = [\"stamp_1\", \"stamp_2\"]\n",
    "df_pivot_diff = df_pivot.diff(axis=1)"
   ]
  },
  {
   "cell_type": "code",
   "execution_count": 7,
   "id": "fifth-motion",
   "metadata": {
    "execution": {
     "iopub.execute_input": "2021-09-24T23:30:09.663093Z",
     "iopub.status.busy": "2021-09-24T23:30:09.660398Z",
     "iopub.status.idle": "2021-09-24T23:30:11.150029Z",
     "shell.execute_reply": "2021-09-24T23:30:11.151406Z"
    },
    "papermill": {
     "duration": 1.523511,
     "end_time": "2021-09-24T23:30:11.151879",
     "exception": false,
     "start_time": "2021-09-24T23:30:09.628368",
     "status": "completed"
    },
    "tags": []
   },
   "outputs": [
    {
     "data": {
      "text/plain": [
       "<AxesSubplot:ylabel='PRODUCT'>"
      ]
     },
     "execution_count": 7,
     "metadata": {},
     "output_type": "execute_result"
    },
    {
     "data": {
      "image/png": "[encoded data removed]",
      "text/plain": [
       "<Figure size 432x288 with 1 Axes>"
      ]
     },
     "metadata": {
      "needs_background": "light"
     },
     "output_type": "display_data"
    }
   ],
   "source": [
    "df_pivot_diff.sort_values(\"stamp_2\", ascending = False)[\"stamp_2\"].head(10).plot.barh()"
   ]
  },
  {
   "cell_type": "code",
   "execution_count": null,
   "id": "extra-executive",
   "metadata": {
    "papermill": {
     "duration": 0.022297,
     "end_time": "2021-09-24T23:30:11.197932",
     "exception": false,
     "start_time": "2021-09-24T23:30:11.175635",
     "status": "completed"
    },
    "tags": []
   },
   "outputs": [],
   "source": []
  }
 ],
 "metadata": {
  "kernelspec": {
   "display_name": "Python 3",
   "language": "python",
   "name": "python3"
  },
  "language_info": {
   "codemirror_mode": {
    "name": "ipython",
    "version": 3
   },
   "file_extension": ".py",
   "mimetype": "text/x-python",
   "name": "python",
   "nbconvert_exporter": "python",
   "pygments_lexer": "ipython3",
   "version": "3.9.5"
  },
  "papermill": {
   "default_parameters": {},
   "duration": 6.750815,
   "end_time": "2021-09-24T23:30:11.840991",
   "environment_variables": {},
   "exception": null,
   "input_path": "eBay_Overview.ipynb",
   "output_path": "eBay_Overview.ipynb",
   "parameters": {},
   "start_time": "2021-09-24T23:30:05.090176",
   "version": "2.3.3"
  }
 },
 "nbformat": 4,
 "nbformat_minor": 5
}