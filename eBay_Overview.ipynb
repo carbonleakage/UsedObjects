{
 "cells": [
  {
   "cell_type": "code",
   "execution_count": 1,
   "id": "reverse-picking",
   "metadata": {
    "execution": {
     "iopub.execute_input": "2021-12-18T15:00:08.247432Z",
     "iopub.status.busy": "2021-12-18T15:00:08.237984Z",
     "iopub.status.idle": "2021-12-18T15:00:09.207038Z",
     "shell.execute_reply": "2021-12-18T15:00:09.208422Z"
    },
    "papermill": {
     "duration": 1.019984,
     "end_time": "2021-12-18T15:00:09.209191",
     "exception": false,
     "start_time": "2021-12-18T15:00:08.189207",
     "status": "completed"
    },
    "tags": []
   },
   "outputs": [],
   "source": [
    "import pandas as pd\n",
    "import sqlite3"
   ]
  },
  {
   "cell_type": "code",
   "execution_count": 2,
   "id": "innovative-syndrome",
   "metadata": {
    "execution": {
     "iopub.execute_input": "2021-12-18T15:00:09.273345Z",
     "iopub.status.busy": "2021-12-18T15:00:09.270979Z",
     "iopub.status.idle": "2021-12-18T15:00:10.387885Z",
     "shell.execute_reply": "2021-12-18T15:00:10.389674Z"
    },
    "papermill": {
     "duration": 1.151442,
     "end_time": "2021-12-18T15:00:10.390171",
     "exception": false,
     "start_time": "2021-12-18T15:00:09.238729",
     "status": "completed"
    },
    "tags": []
   },
   "outputs": [],
   "source": [
    "timestamps = pd.read_sql(\"select distinct record_time from EBAY_TOP_BERLIN order by record_time desc limit 2\", sqlite3.connect(\"UsedObjects.db\"))"
   ]
  },
  {
   "cell_type": "code",
   "execution_count": 3,
   "id": "periodic-identification",
   "metadata": {
    "execution": {
     "iopub.execute_input": "2021-12-18T15:00:10.466735Z",
     "iopub.status.busy": "2021-12-18T15:00:10.460477Z",
     "iopub.status.idle": "2021-12-18T15:00:10.483492Z",
     "shell.execute_reply": "2021-12-18T15:00:10.485026Z"
    },
    "papermill": {
     "duration": 0.074307,
     "end_time": "2021-12-18T15:00:10.485532",
     "exception": false,
     "start_time": "2021-12-18T15:00:10.411225",
     "status": "completed"
    },
    "tags": []
   },
   "outputs": [
    {
     "data": {
      "text/html": [
       "<div>\n",
       "<style scoped>\n",
       "    .dataframe tbody tr th:only-of-type {\n",
       "        vertical-align: middle;\n",
       "    }\n",
       "\n",
       "    .dataframe tbody tr th {\n",
       "        vertical-align: top;\n",
       "    }\n",
       "\n",
       "    .dataframe thead th {\n",
       "        text-align: right;\n",
       "    }\n",
       "</style>\n",
       "<table border=\"1\" class=\"dataframe\">\n",
       "  <thead>\n",
       "    <tr style=\"text-align: right;\">\n",
       "      <th></th>\n",
       "      <th>RECORD_TIME</th>\n",
       "    </tr>\n",
       "  </thead>\n",
       "  <tbody>\n",
       "    <tr>\n",
       "      <th>0</th>\n",
       "      <td>2021-12-18 16:00</td>\n",
       "    </tr>\n",
       "    <tr>\n",
       "      <th>1</th>\n",
       "      <td>2021-12-18 15:30</td>\n",
       "    </tr>\n",
       "  </tbody>\n",
       "</table>\n",
       "</div>"
      ],
      "text/plain": [
       "        RECORD_TIME\n",
       "0  2021-12-18 16:00\n",
       "1  2021-12-18 15:30"
      ]
     },
     "execution_count": 3,
     "metadata": {},
     "output_type": "execute_result"
    }
   ],
   "source": [
    "timestamps"
   ]
  },
  {
   "cell_type": "code",
   "execution_count": 4,
   "id": "alternate-victory",
   "metadata": {
    "execution": {
     "iopub.execute_input": "2021-12-18T15:00:10.543124Z",
     "iopub.status.busy": "2021-12-18T15:00:10.541014Z",
     "iopub.status.idle": "2021-12-18T15:00:12.121103Z",
     "shell.execute_reply": "2021-12-18T15:00:12.123154Z"
    },
    "papermill": {
     "duration": 1.616234,
     "end_time": "2021-12-18T15:00:12.123647",
     "exception": false,
     "start_time": "2021-12-18T15:00:10.507413",
     "status": "completed"
    },
    "tags": []
   },
   "outputs": [],
   "source": [
    "df = pd.read_sql(\"select * from EBAY_TOP_BERLIN where record_time in (select distinct record_time from EBAY_TOP_BERLIN order by record_time desc limit 2)\", sqlite3.connect(\"UsedObjects.db\"))"
   ]
  },
  {
   "cell_type": "code",
   "execution_count": 5,
   "id": "popular-active",
   "metadata": {
    "execution": {
     "iopub.execute_input": "2021-12-18T15:00:12.204006Z",
     "iopub.status.busy": "2021-12-18T15:00:12.185717Z",
     "iopub.status.idle": "2021-12-18T15:00:12.238888Z",
     "shell.execute_reply": "2021-12-18T15:00:12.241899Z"
    },
    "papermill": {
     "duration": 0.098551,
     "end_time": "2021-12-18T15:00:12.242757",
     "exception": false,
     "start_time": "2021-12-18T15:00:12.144206",
     "status": "completed"
    },
    "tags": []
   },
   "outputs": [],
   "source": [
    "df_pivot = df.pivot_table(index=\"PRODUCT\", columns = \"RECORD_TIME\", values = \"LISTING_COUNT\")"
   ]
  },
  {
   "cell_type": "code",
   "execution_count": 6,
   "id": "union-huntington",
   "metadata": {
    "execution": {
     "iopub.execute_input": "2021-12-18T15:00:12.319735Z",
     "iopub.status.busy": "2021-12-18T15:00:12.314952Z",
     "iopub.status.idle": "2021-12-18T15:00:12.342581Z",
     "shell.execute_reply": "2021-12-18T15:00:12.345565Z"
    },
    "papermill": {
     "duration": 0.070915,
     "end_time": "2021-12-18T15:00:12.346426",
     "exception": false,
     "start_time": "2021-12-18T15:00:12.275511",
     "status": "completed"
    },
    "tags": []
   },
   "outputs": [],
   "source": [
    "df_pivot.columns = [\"stamp_1\", \"stamp_2\"]\n",
    "df_pivot_diff = df_pivot.diff(axis=1)"
   ]
  },
  {
   "cell_type": "code",
   "execution_count": 7,
   "id": "fifth-motion",
   "metadata": {
    "execution": {
     "iopub.execute_input": "2021-12-18T15:00:12.441033Z",
     "iopub.status.busy": "2021-12-18T15:00:12.436638Z",
     "iopub.status.idle": "2021-12-18T15:00:14.257493Z",
     "shell.execute_reply": "2021-12-18T15:00:14.258946Z"
    },
    "papermill": {
     "duration": 1.880624,
     "end_time": "2021-12-18T15:00:14.259392",
     "exception": false,
     "start_time": "2021-12-18T15:00:12.378768",
     "status": "completed"
    },
    "tags": []
   },
   "outputs": [
    {
     "data": {
      "text/plain": [
       "<AxesSubplot:ylabel='PRODUCT'>"
      ]
     },
     "execution_count": 7,
     "metadata": {},
     "output_type": "execute_result"
    },
    {
     "data": {
      "image/png": "[encoded data removed]",
      "text/plain": [
       "<Figure size 432x288 with 1 Axes>"
      ]
     },
     "metadata": {
      "needs_background": "light"
     },
     "output_type": "display_data"
    }
   ],
   "source": [
    "df_pivot_diff.sort_values(\"stamp_2\", ascending = False)[\"stamp_2\"].head(10).plot.barh()"
   ]
  },
  {
   "cell_type": "code",
   "execution_count": null,
   "id": "extra-executive",
   "metadata": {
    "papermill": {
     "duration": 0.026023,
     "end_time": "2021-12-18T15:00:14.317073",
     "exception": false,
     "start_time": "2021-12-18T15:00:14.291050",
     "status": "completed"
    },
    "tags": []
   },
   "outputs": [],
   "source": []
  }
 ],
 "metadata": {
  "kernelspec": {
   "display_name": "Python 3",
   "language": "python",
   "name": "python3"
  },
  "language_info": {
   "codemirror_mode": {
    "name": "ipython",
    "version": 3
   },
   "file_extension": ".py",
   "mimetype": "text/x-python",
   "name": "python",
   "nbconvert_exporter": "python",
   "pygments_lexer": "ipython3",
   "version": "3.9.5"
  },
  "papermill": {
   "default_parameters": {},
   "duration": 9.534568,
   "end_time": "2021-12-18T15:00:14.969437",
   "environment_variables": {},
   "exception": null,
   "input_path": "eBay_Overview.ipynb",
   "output_path": "eBay_Overview.ipynb",
   "parameters": {},
   "start_time": "2021-12-18T15:00:05.434869",
   "version": "2.3.3"
  }
 },
 "nbformat": 4,
 "nbformat_minor": 5
}