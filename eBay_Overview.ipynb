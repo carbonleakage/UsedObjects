{
 "cells": [
  {
   "cell_type": "code",
   "execution_count": 1,
   "id": "reverse-picking",
   "metadata": {
    "execution": {
     "iopub.execute_input": "2021-09-27T06:00:07.052860Z",
     "iopub.status.busy": "2021-09-27T06:00:07.050883Z",
     "iopub.status.idle": "2021-09-27T06:00:07.858553Z",
     "shell.execute_reply": "2021-09-27T06:00:07.860030Z"
    },
    "papermill": {
     "duration": 0.859475,
     "end_time": "2021-09-27T06:00:07.860764",
     "exception": false,
     "start_time": "2021-09-27T06:00:07.001289",
     "status": "completed"
    },
    "tags": []
   },
   "outputs": [],
   "source": [
    "import pandas as pd\n",
    "import sqlite3"
   ]
  },
  {
   "cell_type": "code",
   "execution_count": 2,
   "id": "innovative-syndrome",
   "metadata": {
    "execution": {
     "iopub.execute_input": "2021-09-27T06:00:07.913090Z",
     "iopub.status.busy": "2021-09-27T06:00:07.910736Z",
     "iopub.status.idle": "2021-09-27T06:00:08.301439Z",
     "shell.execute_reply": "2021-09-27T06:00:08.302556Z"
    },
    "papermill": {
     "duration": 0.42083,
     "end_time": "2021-09-27T06:00:08.303143",
     "exception": false,
     "start_time": "2021-09-27T06:00:07.882313",
     "status": "completed"
    },
    "tags": []
   },
   "outputs": [],
   "source": [
    "timestamps = pd.read_sql(\"select distinct record_time from EBAY_TOP_BERLIN order by record_time desc limit 2\", sqlite3.connect(\"UsedObjects.db\"))"
   ]
  },
  {
   "cell_type": "code",
   "execution_count": 3,
   "id": "periodic-identification",
   "metadata": {
    "execution": {
     "iopub.execute_input": "2021-09-27T06:00:08.372481Z",
     "iopub.status.busy": "2021-09-27T06:00:08.370406Z",
     "iopub.status.idle": "2021-09-27T06:00:08.390636Z",
     "shell.execute_reply": "2021-09-27T06:00:08.392115Z"
    },
    "papermill": {
     "duration": 0.067525,
     "end_time": "2021-09-27T06:00:08.392554",
     "exception": false,
     "start_time": "2021-09-27T06:00:08.325029",
     "status": "completed"
    },
    "tags": []
   },
   "outputs": [
    {
     "data": {
      "text/html": [
       "<div>\n",
       "<style scoped>\n",
       "    .dataframe tbody tr th:only-of-type {\n",
       "        vertical-align: middle;\n",
       "    }\n",
       "\n",
       "    .dataframe tbody tr th {\n",
       "        vertical-align: top;\n",
       "    }\n",
       "\n",
       "    .dataframe thead th {\n",
       "        text-align: right;\n",
       "    }\n",
       "</style>\n",
       "<table border=\"1\" class=\"dataframe\">\n",
       "  <thead>\n",
       "    <tr style=\"text-align: right;\">\n",
       "      <th></th>\n",
       "      <th>RECORD_TIME</th>\n",
       "    </tr>\n",
       "  </thead>\n",
       "  <tbody>\n",
       "    <tr>\n",
       "      <th>0</th>\n",
       "      <td>2021-09-27 08:00</td>\n",
       "    </tr>\n",
       "    <tr>\n",
       "      <th>1</th>\n",
       "      <td>2021-09-27 07:30</td>\n",
       "    </tr>\n",
       "  </tbody>\n",
       "</table>\n",
       "</div>"
      ],
      "text/plain": [
       "        RECORD_TIME\n",
       "0  2021-09-27 08:00\n",
       "1  2021-09-27 07:30"
      ]
     },
     "execution_count": 3,
     "metadata": {},
     "output_type": "execute_result"
    }
   ],
   "source": [
    "timestamps"
   ]
  },
  {
   "cell_type": "code",
   "execution_count": 4,
   "id": "alternate-victory",
   "metadata": {
    "execution": {
     "iopub.execute_input": "2021-09-27T06:00:08.445835Z",
     "iopub.status.busy": "2021-09-27T06:00:08.443806Z",
     "iopub.status.idle": "2021-09-27T06:00:09.022275Z",
     "shell.execute_reply": "2021-09-27T06:00:09.023545Z"
    },
    "papermill": {
     "duration": 0.609413,
     "end_time": "2021-09-27T06:00:09.023943",
     "exception": false,
     "start_time": "2021-09-27T06:00:08.414530",
     "status": "completed"
    },
    "tags": []
   },
   "outputs": [],
   "source": [
    "df = pd.read_sql(\"select * from EBAY_TOP_BERLIN where record_time in (select distinct record_time from EBAY_TOP_BERLIN order by record_time desc limit 2)\", sqlite3.connect(\"UsedObjects.db\"))"
   ]
  },
  {
   "cell_type": "code",
   "execution_count": 5,
   "id": "popular-active",
   "metadata": {
    "execution": {
     "iopub.execute_input": "2021-09-27T06:00:09.097698Z",
     "iopub.status.busy": "2021-09-27T06:00:09.084949Z",
     "iopub.status.idle": "2021-09-27T06:00:09.113244Z",
     "shell.execute_reply": "2021-09-27T06:00:09.114447Z"
    },
    "papermill": {
     "duration": 0.068349,
     "end_time": "2021-09-27T06:00:09.114890",
     "exception": false,
     "start_time": "2021-09-27T06:00:09.046541",
     "status": "completed"
    },
    "tags": []
   },
   "outputs": [],
   "source": [
    "df_pivot = df.pivot_table(index=\"PRODUCT\", columns = \"RECORD_TIME\", values = \"LISTING_COUNT\")"
   ]
  },
  {
   "cell_type": "code",
   "execution_count": 6,
   "id": "union-huntington",
   "metadata": {
    "execution": {
     "iopub.execute_input": "2021-09-27T06:00:09.171902Z",
     "iopub.status.busy": "2021-09-27T06:00:09.169701Z",
     "iopub.status.idle": "2021-09-27T06:00:09.175460Z",
     "shell.execute_reply": "2021-09-27T06:00:09.177006Z"
    },
    "papermill": {
     "duration": 0.041625,
     "end_time": "2021-09-27T06:00:09.177478",
     "exception": false,
     "start_time": "2021-09-27T06:00:09.135853",
     "status": "completed"
    },
    "tags": []
   },
   "outputs": [],
   "source": [
    "df_pivot.columns = [\"stamp_1\", \"stamp_2\"]\n",
    "df_pivot_diff = df_pivot.diff(axis=1)"
   ]
  },
  {
   "cell_type": "code",
   "execution_count": 7,
   "id": "fifth-motion",
   "metadata": {
    "execution": {
     "iopub.execute_input": "2021-09-27T06:00:09.233749Z",
     "iopub.status.busy": "2021-09-27T06:00:09.231381Z",
     "iopub.status.idle": "2021-09-27T06:00:10.755136Z",
     "shell.execute_reply": "2021-09-27T06:00:10.756413Z"
    },
    "papermill": {
     "duration": 1.557604,
     "end_time": "2021-09-27T06:00:10.756823",
     "exception": false,
     "start_time": "2021-09-27T06:00:09.199219",
     "status": "completed"
    },
    "tags": []
   },
   "outputs": [
    {
     "data": {
      "text/plain": [
       "<AxesSubplot:ylabel='PRODUCT'>"
      ]
     },
     "execution_count": 7,
     "metadata": {},
     "output_type": "execute_result"
    },
    {
     "data": {
      "image/png": "[encoded data removed]",
      "text/plain": [
       "<Figure size 432x288 with 1 Axes>"
      ]
     },
     "metadata": {
      "needs_background": "light"
     },
     "output_type": "display_data"
    }
   ],
   "source": [
    "df_pivot_diff.sort_values(\"stamp_2\", ascending = False)[\"stamp_2\"].head(10).plot.barh()"
   ]
  },
  {
   "cell_type": "code",
   "execution_count": null,
   "id": "extra-executive",
   "metadata": {
    "papermill": {
     "duration": 0.022594,
     "end_time": "2021-09-27T06:00:10.804506",
     "exception": false,
     "start_time": "2021-09-27T06:00:10.781912",
     "status": "completed"
    },
    "tags": []
   },
   "outputs": [],
   "source": []
  }
 ],
 "metadata": {
  "kernelspec": {
   "display_name": "Python 3",
   "language": "python",
   "name": "python3"
  },
  "language_info": {
   "codemirror_mode": {
    "name": "ipython",
    "version": 3
   },
   "file_extension": ".py",
   "mimetype": "text/x-python",
   "name": "python",
   "nbconvert_exporter": "python",
   "pygments_lexer": "ipython3",
   "version": "3.9.5"
  },
  "papermill": {
   "default_parameters": {},
   "duration": 7.833062,
   "end_time": "2021-09-27T06:00:12.415967",
   "environment_variables": {},
   "exception": null,
   "input_path": "eBay_Overview.ipynb",
   "output_path": "eBay_Overview.ipynb",
   "parameters": {},
   "start_time": "2021-09-27T06:00:04.582905",
   "version": "2.3.3"
  }
 },
 "nbformat": 4,
 "nbformat_minor": 5
}