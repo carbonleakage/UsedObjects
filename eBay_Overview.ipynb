{
 "cells": [
  {
   "cell_type": "code",
   "execution_count": 1,
   "id": "reverse-picking",
   "metadata": {
    "execution": {
     "iopub.execute_input": "2021-11-28T03:00:07.892422Z",
     "iopub.status.busy": "2021-11-28T03:00:07.886185Z",
     "iopub.status.idle": "2021-11-28T03:00:08.850770Z",
     "shell.execute_reply": "2021-11-28T03:00:08.852255Z"
    },
    "papermill": {
     "duration": 1.012614,
     "end_time": "2021-11-28T03:00:08.853050",
     "exception": false,
     "start_time": "2021-11-28T03:00:07.840436",
     "status": "completed"
    },
    "tags": []
   },
   "outputs": [],
   "source": [
    "import pandas as pd\n",
    "import sqlite3"
   ]
  },
  {
   "cell_type": "code",
   "execution_count": 2,
   "id": "innovative-syndrome",
   "metadata": {
    "execution": {
     "iopub.execute_input": "2021-11-28T03:00:08.920147Z",
     "iopub.status.busy": "2021-11-28T03:00:08.917871Z",
     "iopub.status.idle": "2021-11-28T03:00:09.834724Z",
     "shell.execute_reply": "2021-11-28T03:00:09.837277Z"
    },
    "papermill": {
     "duration": 0.952401,
     "end_time": "2021-11-28T03:00:09.838103",
     "exception": false,
     "start_time": "2021-11-28T03:00:08.885702",
     "status": "completed"
    },
    "tags": []
   },
   "outputs": [],
   "source": [
    "timestamps = pd.read_sql(\"select distinct record_time from EBAY_TOP_BERLIN order by record_time desc limit 2\", sqlite3.connect(\"UsedObjects.db\"))"
   ]
  },
  {
   "cell_type": "code",
   "execution_count": 3,
   "id": "periodic-identification",
   "metadata": {
    "execution": {
     "iopub.execute_input": "2021-11-28T03:00:09.908630Z",
     "iopub.status.busy": "2021-11-28T03:00:09.906140Z",
     "iopub.status.idle": "2021-11-28T03:00:09.928575Z",
     "shell.execute_reply": "2021-11-28T03:00:09.930111Z"
    },
    "papermill": {
     "duration": 0.071437,
     "end_time": "2021-11-28T03:00:09.930605",
     "exception": false,
     "start_time": "2021-11-28T03:00:09.859168",
     "status": "completed"
    },
    "tags": []
   },
   "outputs": [
    {
     "data": {
      "text/html": [
       "<div>\n",
       "<style scoped>\n",
       "    .dataframe tbody tr th:only-of-type {\n",
       "        vertical-align: middle;\n",
       "    }\n",
       "\n",
       "    .dataframe tbody tr th {\n",
       "        vertical-align: top;\n",
       "    }\n",
       "\n",
       "    .dataframe thead th {\n",
       "        text-align: right;\n",
       "    }\n",
       "</style>\n",
       "<table border=\"1\" class=\"dataframe\">\n",
       "  <thead>\n",
       "    <tr style=\"text-align: right;\">\n",
       "      <th></th>\n",
       "      <th>RECORD_TIME</th>\n",
       "    </tr>\n",
       "  </thead>\n",
       "  <tbody>\n",
       "    <tr>\n",
       "      <th>0</th>\n",
       "      <td>2021-11-28 04:00</td>\n",
       "    </tr>\n",
       "    <tr>\n",
       "      <th>1</th>\n",
       "      <td>2021-11-28 03:30</td>\n",
       "    </tr>\n",
       "  </tbody>\n",
       "</table>\n",
       "</div>"
      ],
      "text/plain": [
       "        RECORD_TIME\n",
       "0  2021-11-28 04:00\n",
       "1  2021-11-28 03:30"
      ]
     },
     "execution_count": 3,
     "metadata": {},
     "output_type": "execute_result"
    }
   ],
   "source": [
    "timestamps"
   ]
  },
  {
   "cell_type": "code",
   "execution_count": 4,
   "id": "alternate-victory",
   "metadata": {
    "execution": {
     "iopub.execute_input": "2021-11-28T03:00:09.989770Z",
     "iopub.status.busy": "2021-11-28T03:00:09.987654Z",
     "iopub.status.idle": "2021-11-28T03:00:11.340890Z",
     "shell.execute_reply": "2021-11-28T03:00:11.342535Z"
    },
    "papermill": {
     "duration": 1.388858,
     "end_time": "2021-11-28T03:00:11.343033",
     "exception": false,
     "start_time": "2021-11-28T03:00:09.954175",
     "status": "completed"
    },
    "tags": []
   },
   "outputs": [],
   "source": [
    "df = pd.read_sql(\"select * from EBAY_TOP_BERLIN where record_time in (select distinct record_time from EBAY_TOP_BERLIN order by record_time desc limit 2)\", sqlite3.connect(\"UsedObjects.db\"))"
   ]
  },
  {
   "cell_type": "code",
   "execution_count": 5,
   "id": "popular-active",
   "metadata": {
    "execution": {
     "iopub.execute_input": "2021-11-28T03:00:11.417683Z",
     "iopub.status.busy": "2021-11-28T03:00:11.407772Z",
     "iopub.status.idle": "2021-11-28T03:00:11.440877Z",
     "shell.execute_reply": "2021-11-28T03:00:11.442247Z"
    },
    "papermill": {
     "duration": 0.077883,
     "end_time": "2021-11-28T03:00:11.442724",
     "exception": false,
     "start_time": "2021-11-28T03:00:11.364841",
     "status": "completed"
    },
    "tags": []
   },
   "outputs": [],
   "source": [
    "df_pivot = df.pivot_table(index=\"PRODUCT\", columns = \"RECORD_TIME\", values = \"LISTING_COUNT\")"
   ]
  },
  {
   "cell_type": "code",
   "execution_count": 6,
   "id": "union-huntington",
   "metadata": {
    "execution": {
     "iopub.execute_input": "2021-11-28T03:00:11.501321Z",
     "iopub.status.busy": "2021-11-28T03:00:11.499036Z",
     "iopub.status.idle": "2021-11-28T03:00:11.504797Z",
     "shell.execute_reply": "2021-11-28T03:00:11.506169Z"
    },
    "papermill": {
     "duration": 0.043949,
     "end_time": "2021-11-28T03:00:11.506638",
     "exception": false,
     "start_time": "2021-11-28T03:00:11.462689",
     "status": "completed"
    },
    "tags": []
   },
   "outputs": [],
   "source": [
    "df_pivot.columns = [\"stamp_1\", \"stamp_2\"]\n",
    "df_pivot_diff = df_pivot.diff(axis=1)"
   ]
  },
  {
   "cell_type": "code",
   "execution_count": 7,
   "id": "fifth-motion",
   "metadata": {
    "execution": {
     "iopub.execute_input": "2021-11-28T03:00:11.567990Z",
     "iopub.status.busy": "2021-11-28T03:00:11.565344Z",
     "iopub.status.idle": "2021-11-28T03:00:13.520519Z",
     "shell.execute_reply": "2021-11-28T03:00:13.523786Z"
    },
    "papermill": {
     "duration": 1.996834,
     "end_time": "2021-11-28T03:00:13.524666",
     "exception": false,
     "start_time": "2021-11-28T03:00:11.527832",
     "status": "completed"
    },
    "tags": []
   },
   "outputs": [
    {
     "data": {
      "text/plain": [
       "<AxesSubplot:ylabel='PRODUCT'>"
      ]
     },
     "execution_count": 7,
     "metadata": {},
     "output_type": "execute_result"
    },
    {
     "data": {
      "image/png": "[encoded data removed]",
      "text/plain": [
       "<Figure size 432x288 with 1 Axes>"
      ]
     },
     "metadata": {
      "needs_background": "light"
     },
     "output_type": "display_data"
    }
   ],
   "source": [
    "df_pivot_diff.sort_values(\"stamp_2\", ascending = False)[\"stamp_2\"].head(10).plot.barh()"
   ]
  },
  {
   "cell_type": "code",
   "execution_count": null,
   "id": "extra-executive",
   "metadata": {
    "papermill": {
     "duration": 0.031043,
     "end_time": "2021-11-28T03:00:13.592192",
     "exception": false,
     "start_time": "2021-11-28T03:00:13.561149",
     "status": "completed"
    },
    "tags": []
   },
   "outputs": [],
   "source": []
  }
 ],
 "metadata": {
  "kernelspec": {
   "display_name": "Python 3",
   "language": "python",
   "name": "python3"
  },
  "language_info": {
   "codemirror_mode": {
    "name": "ipython",
    "version": 3
   },
   "file_extension": ".py",
   "mimetype": "text/x-python",
   "name": "python",
   "nbconvert_exporter": "python",
   "pygments_lexer": "ipython3",
   "version": "3.9.5"
  },
  "papermill": {
   "default_parameters": {},
   "duration": 9.9421,
   "end_time": "2021-11-28T03:00:15.046754",
   "environment_variables": {},
   "exception": null,
   "input_path": "eBay_Overview.ipynb",
   "output_path": "eBay_Overview.ipynb",
   "parameters": {},
   "start_time": "2021-11-28T03:00:05.104654",
   "version": "2.3.3"
  }
 },
 "nbformat": 4,
 "nbformat_minor": 5
}