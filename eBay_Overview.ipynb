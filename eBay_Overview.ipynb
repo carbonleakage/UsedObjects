{
 "cells": [
  {
   "cell_type": "code",
   "execution_count": 1,
   "id": "reverse-picking",
   "metadata": {
    "execution": {
     "iopub.execute_input": "2021-11-18T20:30:07.800967Z",
     "iopub.status.busy": "2021-11-18T20:30:07.798475Z",
     "iopub.status.idle": "2021-11-18T20:30:08.737675Z",
     "shell.execute_reply": "2021-11-18T20:30:08.739235Z"
    },
    "papermill": {
     "duration": 0.987112,
     "end_time": "2021-11-18T20:30:08.739981",
     "exception": false,
     "start_time": "2021-11-18T20:30:07.752869",
     "status": "completed"
    },
    "tags": []
   },
   "outputs": [],
   "source": [
    "import pandas as pd\n",
    "import sqlite3"
   ]
  },
  {
   "cell_type": "code",
   "execution_count": 2,
   "id": "innovative-syndrome",
   "metadata": {
    "execution": {
     "iopub.execute_input": "2021-11-18T20:30:08.796011Z",
     "iopub.status.busy": "2021-11-18T20:30:08.793459Z",
     "iopub.status.idle": "2021-11-18T20:30:09.646427Z",
     "shell.execute_reply": "2021-11-18T20:30:09.647985Z"
    },
    "papermill": {
     "duration": 0.887677,
     "end_time": "2021-11-18T20:30:09.648468",
     "exception": false,
     "start_time": "2021-11-18T20:30:08.760791",
     "status": "completed"
    },
    "tags": []
   },
   "outputs": [],
   "source": [
    "timestamps = pd.read_sql(\"select distinct record_time from EBAY_TOP_BERLIN order by record_time desc limit 2\", sqlite3.connect(\"UsedObjects.db\"))"
   ]
  },
  {
   "cell_type": "code",
   "execution_count": 3,
   "id": "periodic-identification",
   "metadata": {
    "execution": {
     "iopub.execute_input": "2021-11-18T20:30:09.723086Z",
     "iopub.status.busy": "2021-11-18T20:30:09.717008Z",
     "iopub.status.idle": "2021-11-18T20:30:09.742558Z",
     "shell.execute_reply": "2021-11-18T20:30:09.744037Z"
    },
    "papermill": {
     "duration": 0.075514,
     "end_time": "2021-11-18T20:30:09.744507",
     "exception": false,
     "start_time": "2021-11-18T20:30:09.668993",
     "status": "completed"
    },
    "tags": []
   },
   "outputs": [
    {
     "data": {
      "text/html": [
       "<div>\n",
       "<style scoped>\n",
       "    .dataframe tbody tr th:only-of-type {\n",
       "        vertical-align: middle;\n",
       "    }\n",
       "\n",
       "    .dataframe tbody tr th {\n",
       "        vertical-align: top;\n",
       "    }\n",
       "\n",
       "    .dataframe thead th {\n",
       "        text-align: right;\n",
       "    }\n",
       "</style>\n",
       "<table border=\"1\" class=\"dataframe\">\n",
       "  <thead>\n",
       "    <tr style=\"text-align: right;\">\n",
       "      <th></th>\n",
       "      <th>RECORD_TIME</th>\n",
       "    </tr>\n",
       "  </thead>\n",
       "  <tbody>\n",
       "    <tr>\n",
       "      <th>0</th>\n",
       "      <td>2021-11-18 21:30</td>\n",
       "    </tr>\n",
       "    <tr>\n",
       "      <th>1</th>\n",
       "      <td>2021-11-18 21:00</td>\n",
       "    </tr>\n",
       "  </tbody>\n",
       "</table>\n",
       "</div>"
      ],
      "text/plain": [
       "        RECORD_TIME\n",
       "0  2021-11-18 21:30\n",
       "1  2021-11-18 21:00"
      ]
     },
     "execution_count": 3,
     "metadata": {},
     "output_type": "execute_result"
    }
   ],
   "source": [
    "timestamps"
   ]
  },
  {
   "cell_type": "code",
   "execution_count": 4,
   "id": "alternate-victory",
   "metadata": {
    "execution": {
     "iopub.execute_input": "2021-11-18T20:30:09.800323Z",
     "iopub.status.busy": "2021-11-18T20:30:09.798117Z",
     "iopub.status.idle": "2021-11-18T20:30:11.001005Z",
     "shell.execute_reply": "2021-11-18T20:30:11.002525Z"
    },
    "papermill": {
     "duration": 1.237023,
     "end_time": "2021-11-18T20:30:11.002974",
     "exception": false,
     "start_time": "2021-11-18T20:30:09.765951",
     "status": "completed"
    },
    "tags": []
   },
   "outputs": [],
   "source": [
    "df = pd.read_sql(\"select * from EBAY_TOP_BERLIN where record_time in (select distinct record_time from EBAY_TOP_BERLIN order by record_time desc limit 2)\", sqlite3.connect(\"UsedObjects.db\"))"
   ]
  },
  {
   "cell_type": "code",
   "execution_count": 5,
   "id": "popular-active",
   "metadata": {
    "execution": {
     "iopub.execute_input": "2021-11-18T20:30:11.074610Z",
     "iopub.status.busy": "2021-11-18T20:30:11.062263Z",
     "iopub.status.idle": "2021-11-18T20:30:11.093314Z",
     "shell.execute_reply": "2021-11-18T20:30:11.094665Z"
    },
    "papermill": {
     "duration": 0.071296,
     "end_time": "2021-11-18T20:30:11.095137",
     "exception": false,
     "start_time": "2021-11-18T20:30:11.023841",
     "status": "completed"
    },
    "tags": []
   },
   "outputs": [],
   "source": [
    "df_pivot = df.pivot_table(index=\"PRODUCT\", columns = \"RECORD_TIME\", values = \"LISTING_COUNT\")"
   ]
  },
  {
   "cell_type": "code",
   "execution_count": 6,
   "id": "union-huntington",
   "metadata": {
    "execution": {
     "iopub.execute_input": "2021-11-18T20:30:11.154274Z",
     "iopub.status.busy": "2021-11-18T20:30:11.151996Z",
     "iopub.status.idle": "2021-11-18T20:30:11.157659Z",
     "shell.execute_reply": "2021-11-18T20:30:11.159113Z"
    },
    "papermill": {
     "duration": 0.044853,
     "end_time": "2021-11-18T20:30:11.159591",
     "exception": false,
     "start_time": "2021-11-18T20:30:11.114738",
     "status": "completed"
    },
    "tags": []
   },
   "outputs": [],
   "source": [
    "df_pivot.columns = [\"stamp_1\", \"stamp_2\"]\n",
    "df_pivot_diff = df_pivot.diff(axis=1)"
   ]
  },
  {
   "cell_type": "code",
   "execution_count": 7,
   "id": "fifth-motion",
   "metadata": {
    "execution": {
     "iopub.execute_input": "2021-11-18T20:30:11.214285Z",
     "iopub.status.busy": "2021-11-18T20:30:11.211350Z",
     "iopub.status.idle": "2021-11-18T20:30:12.994547Z",
     "shell.execute_reply": "2021-11-18T20:30:12.995906Z"
    },
    "papermill": {
     "duration": 1.815566,
     "end_time": "2021-11-18T20:30:12.996376",
     "exception": false,
     "start_time": "2021-11-18T20:30:11.180810",
     "status": "completed"
    },
    "tags": []
   },
   "outputs": [
    {
     "data": {
      "text/plain": [
       "<AxesSubplot:ylabel='PRODUCT'>"
      ]
     },
     "execution_count": 7,
     "metadata": {},
     "output_type": "execute_result"
    },
    {
     "data": {
      "image/png": "[encoded data removed]",
      "text/plain": [
       "<Figure size 432x288 with 1 Axes>"
      ]
     },
     "metadata": {
      "needs_background": "light"
     },
     "output_type": "display_data"
    }
   ],
   "source": [
    "df_pivot_diff.sort_values(\"stamp_2\", ascending = False)[\"stamp_2\"].head(10).plot.barh()"
   ]
  },
  {
   "cell_type": "code",
   "execution_count": null,
   "id": "extra-executive",
   "metadata": {
    "papermill": {
     "duration": 0.023896,
     "end_time": "2021-11-18T20:30:13.043759",
     "exception": false,
     "start_time": "2021-11-18T20:30:13.019863",
     "status": "completed"
    },
    "tags": []
   },
   "outputs": [],
   "source": []
  }
 ],
 "metadata": {
  "kernelspec": {
   "display_name": "Python 3",
   "language": "python",
   "name": "python3"
  },
  "language_info": {
   "codemirror_mode": {
    "name": "ipython",
    "version": 3
   },
   "file_extension": ".py",
   "mimetype": "text/x-python",
   "name": "python",
   "nbconvert_exporter": "python",
   "pygments_lexer": "ipython3",
   "version": "3.9.5"
  },
  "papermill": {
   "default_parameters": {},
   "duration": 8.791628,
   "end_time": "2021-11-18T20:30:13.792729",
   "environment_variables": {},
   "exception": null,
   "input_path": "eBay_Overview.ipynb",
   "output_path": "eBay_Overview.ipynb",
   "parameters": {},
   "start_time": "2021-11-18T20:30:05.001101",
   "version": "2.3.3"
  }
 },
 "nbformat": 4,
 "nbformat_minor": 5
}