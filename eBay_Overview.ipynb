{
 "cells": [
  {
   "cell_type": "code",
   "execution_count": 1,
   "id": "reverse-picking",
   "metadata": {
    "execution": {
     "iopub.execute_input": "2021-08-22T04:00:06.561164Z",
     "iopub.status.busy": "2021-08-22T04:00:06.559259Z",
     "iopub.status.idle": "2021-08-22T04:00:07.364614Z",
     "shell.execute_reply": "2021-08-22T04:00:07.365852Z"
    },
    "papermill": {
     "duration": 0.857764,
     "end_time": "2021-08-22T04:00:07.366544",
     "exception": false,
     "start_time": "2021-08-22T04:00:06.508780",
     "status": "completed"
    },
    "tags": []
   },
   "outputs": [],
   "source": [
    "import pandas as pd\n",
    "import sqlite3"
   ]
  },
  {
   "cell_type": "code",
   "execution_count": 2,
   "id": "innovative-syndrome",
   "metadata": {
    "execution": {
     "iopub.execute_input": "2021-08-22T04:00:07.416983Z",
     "iopub.status.busy": "2021-08-22T04:00:07.415124Z",
     "iopub.status.idle": "2021-08-22T04:00:07.516984Z",
     "shell.execute_reply": "2021-08-22T04:00:07.518328Z"
    },
    "papermill": {
     "duration": 0.131444,
     "end_time": "2021-08-22T04:00:07.518764",
     "exception": false,
     "start_time": "2021-08-22T04:00:07.387320",
     "status": "completed"
    },
    "tags": []
   },
   "outputs": [],
   "source": [
    "timestamps = pd.read_sql(\"select distinct record_time from EBAY_TOP_BERLIN order by record_time desc limit 2\", sqlite3.connect(\"UsedObjects.db\"))"
   ]
  },
  {
   "cell_type": "code",
   "execution_count": 3,
   "id": "periodic-identification",
   "metadata": {
    "execution": {
     "iopub.execute_input": "2021-08-22T04:00:07.584425Z",
     "iopub.status.busy": "2021-08-22T04:00:07.582406Z",
     "iopub.status.idle": "2021-08-22T04:00:07.602426Z",
     "shell.execute_reply": "2021-08-22T04:00:07.603633Z"
    },
    "papermill": {
     "duration": 0.06597,
     "end_time": "2021-08-22T04:00:07.604066",
     "exception": false,
     "start_time": "2021-08-22T04:00:07.538096",
     "status": "completed"
    },
    "tags": []
   },
   "outputs": [
    {
     "data": {
      "text/html": [
       "<div>\n",
       "<style scoped>\n",
       "    .dataframe tbody tr th:only-of-type {\n",
       "        vertical-align: middle;\n",
       "    }\n",
       "\n",
       "    .dataframe tbody tr th {\n",
       "        vertical-align: top;\n",
       "    }\n",
       "\n",
       "    .dataframe thead th {\n",
       "        text-align: right;\n",
       "    }\n",
       "</style>\n",
       "<table border=\"1\" class=\"dataframe\">\n",
       "  <thead>\n",
       "    <tr style=\"text-align: right;\">\n",
       "      <th></th>\n",
       "      <th>RECORD_TIME</th>\n",
       "    </tr>\n",
       "  </thead>\n",
       "  <tbody>\n",
       "    <tr>\n",
       "      <th>0</th>\n",
       "      <td>2021-08-22 06:00</td>\n",
       "    </tr>\n",
       "    <tr>\n",
       "      <th>1</th>\n",
       "      <td>2021-08-22 05:30</td>\n",
       "    </tr>\n",
       "  </tbody>\n",
       "</table>\n",
       "</div>"
      ],
      "text/plain": [
       "        RECORD_TIME\n",
       "0  2021-08-22 06:00\n",
       "1  2021-08-22 05:30"
      ]
     },
     "execution_count": 3,
     "metadata": {},
     "output_type": "execute_result"
    }
   ],
   "source": [
    "timestamps"
   ]
  },
  {
   "cell_type": "code",
   "execution_count": 4,
   "id": "alternate-victory",
   "metadata": {
    "execution": {
     "iopub.execute_input": "2021-08-22T04:00:07.654199Z",
     "iopub.status.busy": "2021-08-22T04:00:07.652277Z",
     "iopub.status.idle": "2021-08-22T04:00:07.804709Z",
     "shell.execute_reply": "2021-08-22T04:00:07.805914Z"
    },
    "papermill": {
     "duration": 0.18228,
     "end_time": "2021-08-22T04:00:07.806409",
     "exception": false,
     "start_time": "2021-08-22T04:00:07.624129",
     "status": "completed"
    },
    "tags": []
   },
   "outputs": [],
   "source": [
    "df = pd.read_sql(\"select * from EBAY_TOP_BERLIN where record_time in (select distinct record_time from EBAY_TOP_BERLIN order by record_time desc limit 2)\", sqlite3.connect(\"UsedObjects.db\"))"
   ]
  },
  {
   "cell_type": "code",
   "execution_count": 5,
   "id": "popular-active",
   "metadata": {
    "execution": {
     "iopub.execute_input": "2021-08-22T04:00:07.871733Z",
     "iopub.status.busy": "2021-08-22T04:00:07.864065Z",
     "iopub.status.idle": "2021-08-22T04:00:07.891755Z",
     "shell.execute_reply": "2021-08-22T04:00:07.893026Z"
    },
    "papermill": {
     "duration": 0.066666,
     "end_time": "2021-08-22T04:00:07.893440",
     "exception": false,
     "start_time": "2021-08-22T04:00:07.826774",
     "status": "completed"
    },
    "tags": []
   },
   "outputs": [],
   "source": [
    "df_pivot = df.pivot_table(index=\"PRODUCT\", columns = \"RECORD_TIME\", values = \"LISTING_COUNT\")"
   ]
  },
  {
   "cell_type": "code",
   "execution_count": 6,
   "id": "union-huntington",
   "metadata": {
    "execution": {
     "iopub.execute_input": "2021-08-22T04:00:07.950424Z",
     "iopub.status.busy": "2021-08-22T04:00:07.948299Z",
     "iopub.status.idle": "2021-08-22T04:00:07.953668Z",
     "shell.execute_reply": "2021-08-22T04:00:07.955019Z"
    },
    "papermill": {
     "duration": 0.042104,
     "end_time": "2021-08-22T04:00:07.955440",
     "exception": false,
     "start_time": "2021-08-22T04:00:07.913336",
     "status": "completed"
    },
    "tags": []
   },
   "outputs": [],
   "source": [
    "df_pivot.columns = [\"stamp_1\", \"stamp_2\"]\n",
    "df_pivot_diff = df_pivot.diff(axis=1)"
   ]
  },
  {
   "cell_type": "code",
   "execution_count": 7,
   "id": "fifth-motion",
   "metadata": {
    "execution": {
     "iopub.execute_input": "2021-08-22T04:00:08.018245Z",
     "iopub.status.busy": "2021-08-22T04:00:08.015875Z",
     "iopub.status.idle": "2021-08-22T04:00:09.514837Z",
     "shell.execute_reply": "2021-08-22T04:00:09.516200Z"
    },
    "papermill": {
     "duration": 1.534955,
     "end_time": "2021-08-22T04:00:09.516647",
     "exception": false,
     "start_time": "2021-08-22T04:00:07.981692",
     "status": "completed"
    },
    "tags": []
   },
   "outputs": [
    {
     "data": {
      "text/plain": [
       "<AxesSubplot:ylabel='PRODUCT'>"
      ]
     },
     "execution_count": 7,
     "metadata": {},
     "output_type": "execute_result"
    },
    {
     "data": {
      "image/png": "[encoded data removed]",
      "text/plain": [
       "<Figure size 432x288 with 1 Axes>"
      ]
     },
     "metadata": {
      "needs_background": "light"
     },
     "output_type": "display_data"
    }
   ],
   "source": [
    "df_pivot_diff.sort_values(\"stamp_2\", ascending = False)[\"stamp_2\"].head(10).plot.barh()"
   ]
  },
  {
   "cell_type": "code",
   "execution_count": null,
   "id": "extra-executive",
   "metadata": {
    "papermill": {
     "duration": 0.021998,
     "end_time": "2021-08-22T04:00:09.563572",
     "exception": false,
     "start_time": "2021-08-22T04:00:09.541574",
     "status": "completed"
    },
    "tags": []
   },
   "outputs": [],
   "source": []
  }
 ],
 "metadata": {
  "kernelspec": {
   "display_name": "Python 3",
   "language": "python",
   "name": "python3"
  },
  "language_info": {
   "codemirror_mode": {
    "name": "ipython",
    "version": 3
   },
   "file_extension": ".py",
   "mimetype": "text/x-python",
   "name": "python",
   "nbconvert_exporter": "python",
   "pygments_lexer": "ipython3",
   "version": "3.9.5"
  },
  "papermill": {
   "default_parameters": {},
   "duration": 6.83381,
   "end_time": "2021-08-22T04:00:10.931647",
   "environment_variables": {},
   "exception": null,
   "input_path": "eBay_Overview.ipynb",
   "output_path": "eBay_Overview.ipynb",
   "parameters": {},
   "start_time": "2021-08-22T04:00:04.097837",
   "version": "2.3.3"
  }
 },
 "nbformat": 4,
 "nbformat_minor": 5
}