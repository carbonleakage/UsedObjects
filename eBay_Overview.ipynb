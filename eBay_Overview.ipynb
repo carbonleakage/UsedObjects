{
 "cells": [
  {
   "cell_type": "code",
   "execution_count": 1,
   "id": "reverse-picking",
   "metadata": {
    "execution": {
     "iopub.execute_input": "2021-12-19T21:30:07.381168Z",
     "iopub.status.busy": "2021-12-19T21:30:07.377837Z",
     "iopub.status.idle": "2021-12-19T21:30:08.313856Z",
     "shell.execute_reply": "2021-12-19T21:30:08.316033Z"
    },
    "papermill": {
     "duration": 0.987024,
     "end_time": "2021-12-19T21:30:08.316869",
     "exception": false,
     "start_time": "2021-12-19T21:30:07.329845",
     "status": "completed"
    },
    "tags": []
   },
   "outputs": [],
   "source": [
    "import pandas as pd\n",
    "import sqlite3"
   ]
  },
  {
   "cell_type": "code",
   "execution_count": 2,
   "id": "innovative-syndrome",
   "metadata": {
    "execution": {
     "iopub.execute_input": "2021-12-19T21:30:08.382023Z",
     "iopub.status.busy": "2021-12-19T21:30:08.379584Z",
     "iopub.status.idle": "2021-12-19T21:30:09.515027Z",
     "shell.execute_reply": "2021-12-19T21:30:09.517365Z"
    },
    "papermill": {
     "duration": 1.169978,
     "end_time": "2021-12-19T21:30:09.517866",
     "exception": false,
     "start_time": "2021-12-19T21:30:08.347888",
     "status": "completed"
    },
    "tags": []
   },
   "outputs": [],
   "source": [
    "timestamps = pd.read_sql(\"select distinct record_time from EBAY_TOP_BERLIN order by record_time desc limit 2\", sqlite3.connect(\"UsedObjects.db\"))"
   ]
  },
  {
   "cell_type": "code",
   "execution_count": 3,
   "id": "periodic-identification",
   "metadata": {
    "execution": {
     "iopub.execute_input": "2021-12-19T21:30:09.590234Z",
     "iopub.status.busy": "2021-12-19T21:30:09.576659Z",
     "iopub.status.idle": "2021-12-19T21:30:09.609883Z",
     "shell.execute_reply": "2021-12-19T21:30:09.611213Z"
    },
    "papermill": {
     "duration": 0.07155,
     "end_time": "2021-12-19T21:30:09.611631",
     "exception": false,
     "start_time": "2021-12-19T21:30:09.540081",
     "status": "completed"
    },
    "tags": []
   },
   "outputs": [
    {
     "data": {
      "text/html": [
       "<div>\n",
       "<style scoped>\n",
       "    .dataframe tbody tr th:only-of-type {\n",
       "        vertical-align: middle;\n",
       "    }\n",
       "\n",
       "    .dataframe tbody tr th {\n",
       "        vertical-align: top;\n",
       "    }\n",
       "\n",
       "    .dataframe thead th {\n",
       "        text-align: right;\n",
       "    }\n",
       "</style>\n",
       "<table border=\"1\" class=\"dataframe\">\n",
       "  <thead>\n",
       "    <tr style=\"text-align: right;\">\n",
       "      <th></th>\n",
       "      <th>RECORD_TIME</th>\n",
       "    </tr>\n",
       "  </thead>\n",
       "  <tbody>\n",
       "    <tr>\n",
       "      <th>0</th>\n",
       "      <td>2021-12-19 22:30</td>\n",
       "    </tr>\n",
       "    <tr>\n",
       "      <th>1</th>\n",
       "      <td>2021-12-19 22:00</td>\n",
       "    </tr>\n",
       "  </tbody>\n",
       "</table>\n",
       "</div>"
      ],
      "text/plain": [
       "        RECORD_TIME\n",
       "0  2021-12-19 22:30\n",
       "1  2021-12-19 22:00"
      ]
     },
     "execution_count": 3,
     "metadata": {},
     "output_type": "execute_result"
    }
   ],
   "source": [
    "timestamps"
   ]
  },
  {
   "cell_type": "code",
   "execution_count": 4,
   "id": "alternate-victory",
   "metadata": {
    "execution": {
     "iopub.execute_input": "2021-12-19T21:30:09.662218Z",
     "iopub.status.busy": "2021-12-19T21:30:09.660237Z",
     "iopub.status.idle": "2021-12-19T21:30:11.273299Z",
     "shell.execute_reply": "2021-12-19T21:30:11.274841Z"
    },
    "papermill": {
     "duration": 1.643441,
     "end_time": "2021-12-19T21:30:11.275365",
     "exception": false,
     "start_time": "2021-12-19T21:30:09.631924",
     "status": "completed"
    },
    "tags": []
   },
   "outputs": [],
   "source": [
    "df = pd.read_sql(\"select * from EBAY_TOP_BERLIN where record_time in (select distinct record_time from EBAY_TOP_BERLIN order by record_time desc limit 2)\", sqlite3.connect(\"UsedObjects.db\"))"
   ]
  },
  {
   "cell_type": "code",
   "execution_count": 5,
   "id": "popular-active",
   "metadata": {
    "execution": {
     "iopub.execute_input": "2021-12-19T21:30:11.351814Z",
     "iopub.status.busy": "2021-12-19T21:30:11.338688Z",
     "iopub.status.idle": "2021-12-19T21:30:11.369581Z",
     "shell.execute_reply": "2021-12-19T21:30:11.370937Z"
    },
    "papermill": {
     "duration": 0.074344,
     "end_time": "2021-12-19T21:30:11.371405",
     "exception": false,
     "start_time": "2021-12-19T21:30:11.297061",
     "status": "completed"
    },
    "tags": []
   },
   "outputs": [],
   "source": [
    "df_pivot = df.pivot_table(index=\"PRODUCT\", columns = \"RECORD_TIME\", values = \"LISTING_COUNT\")"
   ]
  },
  {
   "cell_type": "code",
   "execution_count": 6,
   "id": "union-huntington",
   "metadata": {
    "execution": {
     "iopub.execute_input": "2021-12-19T21:30:11.434541Z",
     "iopub.status.busy": "2021-12-19T21:30:11.432077Z",
     "iopub.status.idle": "2021-12-19T21:30:11.438981Z",
     "shell.execute_reply": "2021-12-19T21:30:11.440360Z"
    },
    "papermill": {
     "duration": 0.04845,
     "end_time": "2021-12-19T21:30:11.440897",
     "exception": false,
     "start_time": "2021-12-19T21:30:11.392447",
     "status": "completed"
    },
    "tags": []
   },
   "outputs": [],
   "source": [
    "df_pivot.columns = [\"stamp_1\", \"stamp_2\"]\n",
    "df_pivot_diff = df_pivot.diff(axis=1)"
   ]
  },
  {
   "cell_type": "code",
   "execution_count": 7,
   "id": "fifth-motion",
   "metadata": {
    "execution": {
     "iopub.execute_input": "2021-12-19T21:30:11.498289Z",
     "iopub.status.busy": "2021-12-19T21:30:11.495819Z",
     "iopub.status.idle": "2021-12-19T21:30:13.510646Z",
     "shell.execute_reply": "2021-12-19T21:30:13.512336Z"
    },
    "papermill": {
     "duration": 2.050689,
     "end_time": "2021-12-19T21:30:13.512857",
     "exception": false,
     "start_time": "2021-12-19T21:30:11.462168",
     "status": "completed"
    },
    "tags": []
   },
   "outputs": [
    {
     "data": {
      "text/plain": [
       "<AxesSubplot:ylabel='PRODUCT'>"
      ]
     },
     "execution_count": 7,
     "metadata": {},
     "output_type": "execute_result"
    },
    {
     "data": {
      "image/png": "[encoded data removed]",
      "text/plain": [
       "<Figure size 432x288 with 1 Axes>"
      ]
     },
     "metadata": {
      "needs_background": "light"
     },
     "output_type": "display_data"
    }
   ],
   "source": [
    "df_pivot_diff.sort_values(\"stamp_2\", ascending = False)[\"stamp_2\"].head(10).plot.barh()"
   ]
  },
  {
   "cell_type": "code",
   "execution_count": null,
   "id": "extra-executive",
   "metadata": {
    "papermill": {
     "duration": 0.022193,
     "end_time": "2021-12-19T21:30:13.559303",
     "exception": false,
     "start_time": "2021-12-19T21:30:13.537110",
     "status": "completed"
    },
    "tags": []
   },
   "outputs": [],
   "source": []
  }
 ],
 "metadata": {
  "kernelspec": {
   "display_name": "Python 3",
   "language": "python",
   "name": "python3"
  },
  "language_info": {
   "codemirror_mode": {
    "name": "ipython",
    "version": 3
   },
   "file_extension": ".py",
   "mimetype": "text/x-python",
   "name": "python",
   "nbconvert_exporter": "python",
   "pygments_lexer": "ipython3",
   "version": "3.9.5"
  },
  "papermill": {
   "default_parameters": {},
   "duration": 9.611362,
   "end_time": "2021-12-19T21:30:14.202413",
   "environment_variables": {},
   "exception": null,
   "input_path": "eBay_Overview.ipynb",
   "output_path": "eBay_Overview.ipynb",
   "parameters": {},
   "start_time": "2021-12-19T21:30:04.591051",
   "version": "2.3.3"
  }
 },
 "nbformat": 4,
 "nbformat_minor": 5
}