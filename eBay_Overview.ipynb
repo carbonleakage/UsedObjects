{
 "cells": [
  {
   "cell_type": "code",
   "execution_count": 1,
   "id": "reverse-picking",
   "metadata": {
    "execution": {
     "iopub.execute_input": "2021-11-08T05:30:07.353901Z",
     "iopub.status.busy": "2021-11-08T05:30:07.351587Z",
     "iopub.status.idle": "2021-11-08T05:30:08.302607Z",
     "shell.execute_reply": "2021-11-08T05:30:08.304948Z"
    },
    "papermill": {
     "duration": 1.002529,
     "end_time": "2021-11-08T05:30:08.305681",
     "exception": false,
     "start_time": "2021-11-08T05:30:07.303152",
     "status": "completed"
    },
    "tags": []
   },
   "outputs": [],
   "source": [
    "import pandas as pd\n",
    "import sqlite3"
   ]
  },
  {
   "cell_type": "code",
   "execution_count": 2,
   "id": "innovative-syndrome",
   "metadata": {
    "execution": {
     "iopub.execute_input": "2021-11-08T05:30:08.386256Z",
     "iopub.status.busy": "2021-11-08T05:30:08.384006Z",
     "iopub.status.idle": "2021-11-08T05:30:09.139140Z",
     "shell.execute_reply": "2021-11-08T05:30:09.141435Z"
    },
    "papermill": {
     "duration": 0.791205,
     "end_time": "2021-11-08T05:30:09.141956",
     "exception": false,
     "start_time": "2021-11-08T05:30:08.350751",
     "status": "completed"
    },
    "tags": []
   },
   "outputs": [],
   "source": [
    "timestamps = pd.read_sql(\"select distinct record_time from EBAY_TOP_BERLIN order by record_time desc limit 2\", sqlite3.connect(\"UsedObjects.db\"))"
   ]
  },
  {
   "cell_type": "code",
   "execution_count": 3,
   "id": "periodic-identification",
   "metadata": {
    "execution": {
     "iopub.execute_input": "2021-11-08T05:30:09.214587Z",
     "iopub.status.busy": "2021-11-08T05:30:09.212096Z",
     "iopub.status.idle": "2021-11-08T05:30:09.236218Z",
     "shell.execute_reply": "2021-11-08T05:30:09.234660Z"
    },
    "papermill": {
     "duration": 0.07427,
     "end_time": "2021-11-08T05:30:09.236733",
     "exception": false,
     "start_time": "2021-11-08T05:30:09.162463",
     "status": "completed"
    },
    "tags": []
   },
   "outputs": [
    {
     "data": {
      "text/html": [
       "<div>\n",
       "<style scoped>\n",
       "    .dataframe tbody tr th:only-of-type {\n",
       "        vertical-align: middle;\n",
       "    }\n",
       "\n",
       "    .dataframe tbody tr th {\n",
       "        vertical-align: top;\n",
       "    }\n",
       "\n",
       "    .dataframe thead th {\n",
       "        text-align: right;\n",
       "    }\n",
       "</style>\n",
       "<table border=\"1\" class=\"dataframe\">\n",
       "  <thead>\n",
       "    <tr style=\"text-align: right;\">\n",
       "      <th></th>\n",
       "      <th>RECORD_TIME</th>\n",
       "    </tr>\n",
       "  </thead>\n",
       "  <tbody>\n",
       "    <tr>\n",
       "      <th>0</th>\n",
       "      <td>2021-11-08 06:30</td>\n",
       "    </tr>\n",
       "    <tr>\n",
       "      <th>1</th>\n",
       "      <td>2021-11-08 06:00</td>\n",
       "    </tr>\n",
       "  </tbody>\n",
       "</table>\n",
       "</div>"
      ],
      "text/plain": [
       "        RECORD_TIME\n",
       "0  2021-11-08 06:30\n",
       "1  2021-11-08 06:00"
      ]
     },
     "execution_count": 3,
     "metadata": {},
     "output_type": "execute_result"
    }
   ],
   "source": [
    "timestamps"
   ]
  },
  {
   "cell_type": "code",
   "execution_count": 4,
   "id": "alternate-victory",
   "metadata": {
    "execution": {
     "iopub.execute_input": "2021-11-08T05:30:09.294045Z",
     "iopub.status.busy": "2021-11-08T05:30:09.291769Z",
     "iopub.status.idle": "2021-11-08T05:30:10.373140Z",
     "shell.execute_reply": "2021-11-08T05:30:10.374499Z"
    },
    "papermill": {
     "duration": 1.115425,
     "end_time": "2021-11-08T05:30:10.374910",
     "exception": false,
     "start_time": "2021-11-08T05:30:09.259485",
     "status": "completed"
    },
    "tags": []
   },
   "outputs": [],
   "source": [
    "df = pd.read_sql(\"select * from EBAY_TOP_BERLIN where record_time in (select distinct record_time from EBAY_TOP_BERLIN order by record_time desc limit 2)\", sqlite3.connect(\"UsedObjects.db\"))"
   ]
  },
  {
   "cell_type": "code",
   "execution_count": 5,
   "id": "popular-active",
   "metadata": {
    "execution": {
     "iopub.execute_input": "2021-11-08T05:30:10.438330Z",
     "iopub.status.busy": "2021-11-08T05:30:10.433355Z",
     "iopub.status.idle": "2021-11-08T05:30:10.460443Z",
     "shell.execute_reply": "2021-11-08T05:30:10.461909Z"
    },
    "papermill": {
     "duration": 0.066955,
     "end_time": "2021-11-08T05:30:10.462384",
     "exception": false,
     "start_time": "2021-11-08T05:30:10.395429",
     "status": "completed"
    },
    "tags": []
   },
   "outputs": [],
   "source": [
    "df_pivot = df.pivot_table(index=\"PRODUCT\", columns = \"RECORD_TIME\", values = \"LISTING_COUNT\")"
   ]
  },
  {
   "cell_type": "code",
   "execution_count": 6,
   "id": "union-huntington",
   "metadata": {
    "execution": {
     "iopub.execute_input": "2021-11-08T05:30:10.525473Z",
     "iopub.status.busy": "2021-11-08T05:30:10.520256Z",
     "iopub.status.idle": "2021-11-08T05:30:10.527739Z",
     "shell.execute_reply": "2021-11-08T05:30:10.529402Z"
    },
    "papermill": {
     "duration": 0.045578,
     "end_time": "2021-11-08T05:30:10.529906",
     "exception": false,
     "start_time": "2021-11-08T05:30:10.484328",
     "status": "completed"
    },
    "tags": []
   },
   "outputs": [],
   "source": [
    "df_pivot.columns = [\"stamp_1\", \"stamp_2\"]\n",
    "df_pivot_diff = df_pivot.diff(axis=1)"
   ]
  },
  {
   "cell_type": "code",
   "execution_count": 7,
   "id": "fifth-motion",
   "metadata": {
    "execution": {
     "iopub.execute_input": "2021-11-08T05:30:10.588804Z",
     "iopub.status.busy": "2021-11-08T05:30:10.586781Z",
     "iopub.status.idle": "2021-11-08T05:30:12.354162Z",
     "shell.execute_reply": "2021-11-08T05:30:12.355509Z"
    },
    "papermill": {
     "duration": 1.804785,
     "end_time": "2021-11-08T05:30:12.355990",
     "exception": false,
     "start_time": "2021-11-08T05:30:10.551205",
     "status": "completed"
    },
    "tags": []
   },
   "outputs": [
    {
     "data": {
      "text/plain": [
       "<AxesSubplot:ylabel='PRODUCT'>"
      ]
     },
     "execution_count": 7,
     "metadata": {},
     "output_type": "execute_result"
    },
    {
     "data": {
      "image/png": "[encoded data removed]",
      "text/plain": [
       "<Figure size 432x288 with 1 Axes>"
      ]
     },
     "metadata": {
      "needs_background": "light"
     },
     "output_type": "display_data"
    }
   ],
   "source": [
    "df_pivot_diff.sort_values(\"stamp_2\", ascending = False)[\"stamp_2\"].head(10).plot.barh()"
   ]
  },
  {
   "cell_type": "code",
   "execution_count": null,
   "id": "extra-executive",
   "metadata": {
    "papermill": {
     "duration": 0.022951,
     "end_time": "2021-11-08T05:30:12.402692",
     "exception": false,
     "start_time": "2021-11-08T05:30:12.379741",
     "status": "completed"
    },
    "tags": []
   },
   "outputs": [],
   "source": []
  }
 ],
 "metadata": {
  "kernelspec": {
   "display_name": "Python 3",
   "language": "python",
   "name": "python3"
  },
  "language_info": {
   "codemirror_mode": {
    "name": "ipython",
    "version": 3
   },
   "file_extension": ".py",
   "mimetype": "text/x-python",
   "name": "python",
   "nbconvert_exporter": "python",
   "pygments_lexer": "ipython3",
   "version": "3.9.5"
  },
  "papermill": {
   "default_parameters": {},
   "duration": 8.638408,
   "end_time": "2021-11-08T05:30:13.146151",
   "environment_variables": {},
   "exception": null,
   "input_path": "eBay_Overview.ipynb",
   "output_path": "eBay_Overview.ipynb",
   "parameters": {},
   "start_time": "2021-11-08T05:30:04.507743",
   "version": "2.3.3"
  }
 },
 "nbformat": 4,
 "nbformat_minor": 5
}