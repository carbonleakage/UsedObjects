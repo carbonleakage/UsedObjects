{
 "cells": [
  {
   "cell_type": "code",
   "execution_count": 1,
   "id": "reverse-picking",
   "metadata": {
    "execution": {
     "iopub.execute_input": "2021-12-22T05:30:07.770298Z",
     "iopub.status.busy": "2021-12-22T05:30:07.768194Z",
     "iopub.status.idle": "2021-12-22T05:30:08.745751Z",
     "shell.execute_reply": "2021-12-22T05:30:08.747508Z"
    },
    "papermill": {
     "duration": 1.028051,
     "end_time": "2021-12-22T05:30:08.748383",
     "exception": false,
     "start_time": "2021-12-22T05:30:07.720332",
     "status": "completed"
    },
    "tags": []
   },
   "outputs": [],
   "source": [
    "import pandas as pd\n",
    "import sqlite3"
   ]
  },
  {
   "cell_type": "code",
   "execution_count": 2,
   "id": "innovative-syndrome",
   "metadata": {
    "execution": {
     "iopub.execute_input": "2021-12-22T05:30:08.815788Z",
     "iopub.status.busy": "2021-12-22T05:30:08.813529Z",
     "iopub.status.idle": "2021-12-22T05:30:09.965137Z",
     "shell.execute_reply": "2021-12-22T05:30:09.962954Z"
    },
    "papermill": {
     "duration": 1.184146,
     "end_time": "2021-12-22T05:30:09.965578",
     "exception": false,
     "start_time": "2021-12-22T05:30:08.781432",
     "status": "completed"
    },
    "tags": []
   },
   "outputs": [],
   "source": [
    "timestamps = pd.read_sql(\"select distinct record_time from EBAY_TOP_BERLIN order by record_time desc limit 2\", sqlite3.connect(\"UsedObjects.db\"))"
   ]
  },
  {
   "cell_type": "code",
   "execution_count": 3,
   "id": "periodic-identification",
   "metadata": {
    "execution": {
     "iopub.execute_input": "2021-12-22T05:30:10.039509Z",
     "iopub.status.busy": "2021-12-22T05:30:10.037099Z",
     "iopub.status.idle": "2021-12-22T05:30:10.060032Z",
     "shell.execute_reply": "2021-12-22T05:30:10.061561Z"
    },
    "papermill": {
     "duration": 0.074696,
     "end_time": "2021-12-22T05:30:10.062047",
     "exception": false,
     "start_time": "2021-12-22T05:30:09.987351",
     "status": "completed"
    },
    "tags": []
   },
   "outputs": [
    {
     "data": {
      "text/html": [
       "<div>\n",
       "<style scoped>\n",
       "    .dataframe tbody tr th:only-of-type {\n",
       "        vertical-align: middle;\n",
       "    }\n",
       "\n",
       "    .dataframe tbody tr th {\n",
       "        vertical-align: top;\n",
       "    }\n",
       "\n",
       "    .dataframe thead th {\n",
       "        text-align: right;\n",
       "    }\n",
       "</style>\n",
       "<table border=\"1\" class=\"dataframe\">\n",
       "  <thead>\n",
       "    <tr style=\"text-align: right;\">\n",
       "      <th></th>\n",
       "      <th>RECORD_TIME</th>\n",
       "    </tr>\n",
       "  </thead>\n",
       "  <tbody>\n",
       "    <tr>\n",
       "      <th>0</th>\n",
       "      <td>2021-12-22 06:30</td>\n",
       "    </tr>\n",
       "    <tr>\n",
       "      <th>1</th>\n",
       "      <td>2021-12-22 06:00</td>\n",
       "    </tr>\n",
       "  </tbody>\n",
       "</table>\n",
       "</div>"
      ],
      "text/plain": [
       "        RECORD_TIME\n",
       "0  2021-12-22 06:30\n",
       "1  2021-12-22 06:00"
      ]
     },
     "execution_count": 3,
     "metadata": {},
     "output_type": "execute_result"
    }
   ],
   "source": [
    "timestamps"
   ]
  },
  {
   "cell_type": "code",
   "execution_count": 4,
   "id": "alternate-victory",
   "metadata": {
    "execution": {
     "iopub.execute_input": "2021-12-22T05:30:10.118884Z",
     "iopub.status.busy": "2021-12-22T05:30:10.116415Z",
     "iopub.status.idle": "2021-12-22T05:30:11.817281Z",
     "shell.execute_reply": "2021-12-22T05:30:11.819364Z"
    },
    "papermill": {
     "duration": 1.736222,
     "end_time": "2021-12-22T05:30:11.819837",
     "exception": false,
     "start_time": "2021-12-22T05:30:10.083615",
     "status": "completed"
    },
    "tags": []
   },
   "outputs": [],
   "source": [
    "df = pd.read_sql(\"select * from EBAY_TOP_BERLIN where record_time in (select distinct record_time from EBAY_TOP_BERLIN order by record_time desc limit 2)\", sqlite3.connect(\"UsedObjects.db\"))"
   ]
  },
  {
   "cell_type": "code",
   "execution_count": 5,
   "id": "popular-active",
   "metadata": {
    "execution": {
     "iopub.execute_input": "2021-12-22T05:30:11.898463Z",
     "iopub.status.busy": "2021-12-22T05:30:11.884228Z",
     "iopub.status.idle": "2021-12-22T05:30:11.918512Z",
     "shell.execute_reply": "2021-12-22T05:30:11.920009Z"
    },
    "papermill": {
     "duration": 0.079844,
     "end_time": "2021-12-22T05:30:11.920517",
     "exception": false,
     "start_time": "2021-12-22T05:30:11.840673",
     "status": "completed"
    },
    "tags": []
   },
   "outputs": [],
   "source": [
    "df_pivot = df.pivot_table(index=\"PRODUCT\", columns = \"RECORD_TIME\", values = \"LISTING_COUNT\")"
   ]
  },
  {
   "cell_type": "code",
   "execution_count": 6,
   "id": "union-huntington",
   "metadata": {
    "execution": {
     "iopub.execute_input": "2021-12-22T05:30:11.982972Z",
     "iopub.status.busy": "2021-12-22T05:30:11.980626Z",
     "iopub.status.idle": "2021-12-22T05:30:11.986596Z",
     "shell.execute_reply": "2021-12-22T05:30:11.987963Z"
    },
    "papermill": {
     "duration": 0.046231,
     "end_time": "2021-12-22T05:30:11.988440",
     "exception": false,
     "start_time": "2021-12-22T05:30:11.942209",
     "status": "completed"
    },
    "tags": []
   },
   "outputs": [],
   "source": [
    "df_pivot.columns = [\"stamp_1\", \"stamp_2\"]\n",
    "df_pivot_diff = df_pivot.diff(axis=1)"
   ]
  },
  {
   "cell_type": "code",
   "execution_count": 7,
   "id": "fifth-motion",
   "metadata": {
    "execution": {
     "iopub.execute_input": "2021-12-22T05:30:12.045331Z",
     "iopub.status.busy": "2021-12-22T05:30:12.042732Z",
     "iopub.status.idle": "2021-12-22T05:30:13.995249Z",
     "shell.execute_reply": "2021-12-22T05:30:13.996543Z"
    },
    "papermill": {
     "duration": 1.988619,
     "end_time": "2021-12-22T05:30:13.997198",
     "exception": false,
     "start_time": "2021-12-22T05:30:12.008579",
     "status": "completed"
    },
    "tags": []
   },
   "outputs": [
    {
     "data": {
      "text/plain": [
       "<AxesSubplot:ylabel='PRODUCT'>"
      ]
     },
     "execution_count": 7,
     "metadata": {},
     "output_type": "execute_result"
    },
    {
     "data": {
      "image/png": "[encoded data removed]",
      "text/plain": [
       "<Figure size 432x288 with 1 Axes>"
      ]
     },
     "metadata": {
      "needs_background": "light"
     },
     "output_type": "display_data"
    }
   ],
   "source": [
    "df_pivot_diff.sort_values(\"stamp_2\", ascending = False)[\"stamp_2\"].head(10).plot.barh()"
   ]
  },
  {
   "cell_type": "code",
   "execution_count": null,
   "id": "extra-executive",
   "metadata": {
    "papermill": {
     "duration": 0.026625,
     "end_time": "2021-12-22T05:30:14.055582",
     "exception": false,
     "start_time": "2021-12-22T05:30:14.028957",
     "status": "completed"
    },
    "tags": []
   },
   "outputs": [],
   "source": []
  }
 ],
 "metadata": {
  "kernelspec": {
   "display_name": "Python 3",
   "language": "python",
   "name": "python3"
  },
  "language_info": {
   "codemirror_mode": {
    "name": "ipython",
    "version": 3
   },
   "file_extension": ".py",
   "mimetype": "text/x-python",
   "name": "python",
   "nbconvert_exporter": "python",
   "pygments_lexer": "ipython3",
   "version": "3.9.5"
  },
  "papermill": {
   "default_parameters": {},
   "duration": 9.74414,
   "end_time": "2021-12-22T05:30:14.703078",
   "environment_variables": {},
   "exception": null,
   "input_path": "eBay_Overview.ipynb",
   "output_path": "eBay_Overview.ipynb",
   "parameters": {},
   "start_time": "2021-12-22T05:30:04.958938",
   "version": "2.3.3"
  }
 },
 "nbformat": 4,
 "nbformat_minor": 5
}