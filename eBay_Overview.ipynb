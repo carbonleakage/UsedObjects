{
 "cells": [
  {
   "cell_type": "code",
   "execution_count": 1,
   "id": "reverse-picking",
   "metadata": {
    "execution": {
     "iopub.execute_input": "2021-12-18T14:00:07.567194Z",
     "iopub.status.busy": "2021-12-18T14:00:07.564655Z",
     "iopub.status.idle": "2021-12-18T14:00:08.531624Z",
     "shell.execute_reply": "2021-12-18T14:00:08.533432Z"
    },
    "papermill": {
     "duration": 1.016496,
     "end_time": "2021-12-18T14:00:08.534193",
     "exception": false,
     "start_time": "2021-12-18T14:00:07.517697",
     "status": "completed"
    },
    "tags": []
   },
   "outputs": [],
   "source": [
    "import pandas as pd\n",
    "import sqlite3"
   ]
  },
  {
   "cell_type": "code",
   "execution_count": 2,
   "id": "innovative-syndrome",
   "metadata": {
    "execution": {
     "iopub.execute_input": "2021-12-18T14:00:08.598711Z",
     "iopub.status.busy": "2021-12-18T14:00:08.596358Z",
     "iopub.status.idle": "2021-12-18T14:00:09.713264Z",
     "shell.execute_reply": "2021-12-18T14:00:09.714581Z"
    },
    "papermill": {
     "duration": 1.153702,
     "end_time": "2021-12-18T14:00:09.714990",
     "exception": false,
     "start_time": "2021-12-18T14:00:08.561288",
     "status": "completed"
    },
    "tags": []
   },
   "outputs": [],
   "source": [
    "timestamps = pd.read_sql(\"select distinct record_time from EBAY_TOP_BERLIN order by record_time desc limit 2\", sqlite3.connect(\"UsedObjects.db\"))"
   ]
  },
  {
   "cell_type": "code",
   "execution_count": 3,
   "id": "periodic-identification",
   "metadata": {
    "execution": {
     "iopub.execute_input": "2021-12-18T14:00:09.785429Z",
     "iopub.status.busy": "2021-12-18T14:00:09.782780Z",
     "iopub.status.idle": "2021-12-18T14:00:09.806282Z",
     "shell.execute_reply": "2021-12-18T14:00:09.807902Z"
    },
    "papermill": {
     "duration": 0.072172,
     "end_time": "2021-12-18T14:00:09.808374",
     "exception": false,
     "start_time": "2021-12-18T14:00:09.736202",
     "status": "completed"
    },
    "tags": []
   },
   "outputs": [
    {
     "data": {
      "text/html": [
       "<div>\n",
       "<style scoped>\n",
       "    .dataframe tbody tr th:only-of-type {\n",
       "        vertical-align: middle;\n",
       "    }\n",
       "\n",
       "    .dataframe tbody tr th {\n",
       "        vertical-align: top;\n",
       "    }\n",
       "\n",
       "    .dataframe thead th {\n",
       "        text-align: right;\n",
       "    }\n",
       "</style>\n",
       "<table border=\"1\" class=\"dataframe\">\n",
       "  <thead>\n",
       "    <tr style=\"text-align: right;\">\n",
       "      <th></th>\n",
       "      <th>RECORD_TIME</th>\n",
       "    </tr>\n",
       "  </thead>\n",
       "  <tbody>\n",
       "    <tr>\n",
       "      <th>0</th>\n",
       "      <td>2021-12-18 15:00</td>\n",
       "    </tr>\n",
       "    <tr>\n",
       "      <th>1</th>\n",
       "      <td>2021-12-18 14:30</td>\n",
       "    </tr>\n",
       "  </tbody>\n",
       "</table>\n",
       "</div>"
      ],
      "text/plain": [
       "        RECORD_TIME\n",
       "0  2021-12-18 15:00\n",
       "1  2021-12-18 14:30"
      ]
     },
     "execution_count": 3,
     "metadata": {},
     "output_type": "execute_result"
    }
   ],
   "source": [
    "timestamps"
   ]
  },
  {
   "cell_type": "code",
   "execution_count": 4,
   "id": "alternate-victory",
   "metadata": {
    "execution": {
     "iopub.execute_input": "2021-12-18T14:00:09.862403Z",
     "iopub.status.busy": "2021-12-18T14:00:09.860072Z",
     "iopub.status.idle": "2021-12-18T14:00:11.515555Z",
     "shell.execute_reply": "2021-12-18T14:00:11.517509Z"
    },
    "papermill": {
     "duration": 1.688374,
     "end_time": "2021-12-18T14:00:11.517995",
     "exception": false,
     "start_time": "2021-12-18T14:00:09.829621",
     "status": "completed"
    },
    "tags": []
   },
   "outputs": [],
   "source": [
    "df = pd.read_sql(\"select * from EBAY_TOP_BERLIN where record_time in (select distinct record_time from EBAY_TOP_BERLIN order by record_time desc limit 2)\", sqlite3.connect(\"UsedObjects.db\"))"
   ]
  },
  {
   "cell_type": "code",
   "execution_count": 5,
   "id": "popular-active",
   "metadata": {
    "execution": {
     "iopub.execute_input": "2021-12-18T14:00:11.588274Z",
     "iopub.status.busy": "2021-12-18T14:00:11.586014Z",
     "iopub.status.idle": "2021-12-18T14:00:11.611039Z",
     "shell.execute_reply": "2021-12-18T14:00:11.612499Z"
    },
    "papermill": {
     "duration": 0.07455,
     "end_time": "2021-12-18T14:00:11.613049",
     "exception": false,
     "start_time": "2021-12-18T14:00:11.538499",
     "status": "completed"
    },
    "tags": []
   },
   "outputs": [],
   "source": [
    "df_pivot = df.pivot_table(index=\"PRODUCT\", columns = \"RECORD_TIME\", values = \"LISTING_COUNT\")"
   ]
  },
  {
   "cell_type": "code",
   "execution_count": 6,
   "id": "union-huntington",
   "metadata": {
    "execution": {
     "iopub.execute_input": "2021-12-18T14:00:11.675756Z",
     "iopub.status.busy": "2021-12-18T14:00:11.673531Z",
     "iopub.status.idle": "2021-12-18T14:00:11.679200Z",
     "shell.execute_reply": "2021-12-18T14:00:11.680568Z"
    },
    "papermill": {
     "duration": 0.046945,
     "end_time": "2021-12-18T14:00:11.681094",
     "exception": false,
     "start_time": "2021-12-18T14:00:11.634149",
     "status": "completed"
    },
    "tags": []
   },
   "outputs": [],
   "source": [
    "df_pivot.columns = [\"stamp_1\", \"stamp_2\"]\n",
    "df_pivot_diff = df_pivot.diff(axis=1)"
   ]
  },
  {
   "cell_type": "code",
   "execution_count": 7,
   "id": "fifth-motion",
   "metadata": {
    "execution": {
     "iopub.execute_input": "2021-12-18T14:00:11.737986Z",
     "iopub.status.busy": "2021-12-18T14:00:11.735483Z",
     "iopub.status.idle": "2021-12-18T14:00:13.707439Z",
     "shell.execute_reply": "2021-12-18T14:00:13.708798Z"
    },
    "papermill": {
     "duration": 2.007884,
     "end_time": "2021-12-18T14:00:13.709395",
     "exception": false,
     "start_time": "2021-12-18T14:00:11.701511",
     "status": "completed"
    },
    "tags": []
   },
   "outputs": [
    {
     "data": {
      "text/plain": [
       "<AxesSubplot:ylabel='PRODUCT'>"
      ]
     },
     "execution_count": 7,
     "metadata": {},
     "output_type": "execute_result"
    },
    {
     "data": {
      "image/png": "[encoded data removed]",
      "text/plain": [
       "<Figure size 432x288 with 1 Axes>"
      ]
     },
     "metadata": {
      "needs_background": "light"
     },
     "output_type": "display_data"
    }
   ],
   "source": [
    "df_pivot_diff.sort_values(\"stamp_2\", ascending = False)[\"stamp_2\"].head(10).plot.barh()"
   ]
  },
  {
   "cell_type": "code",
   "execution_count": null,
   "id": "extra-executive",
   "metadata": {
    "papermill": {
     "duration": 0.022179,
     "end_time": "2021-12-18T14:00:13.757095",
     "exception": false,
     "start_time": "2021-12-18T14:00:13.734916",
     "status": "completed"
    },
    "tags": []
   },
   "outputs": [],
   "source": []
  }
 ],
 "metadata": {
  "kernelspec": {
   "display_name": "Python 3",
   "language": "python",
   "name": "python3"
  },
  "language_info": {
   "codemirror_mode": {
    "name": "ipython",
    "version": 3
   },
   "file_extension": ".py",
   "mimetype": "text/x-python",
   "name": "python",
   "nbconvert_exporter": "python",
   "pygments_lexer": "ipython3",
   "version": "3.9.5"
  },
  "papermill": {
   "default_parameters": {},
   "duration": 9.610971,
   "end_time": "2021-12-18T14:00:14.399547",
   "environment_variables": {},
   "exception": null,
   "input_path": "eBay_Overview.ipynb",
   "output_path": "eBay_Overview.ipynb",
   "parameters": {},
   "start_time": "2021-12-18T14:00:04.788576",
   "version": "2.3.3"
  }
 },
 "nbformat": 4,
 "nbformat_minor": 5
}