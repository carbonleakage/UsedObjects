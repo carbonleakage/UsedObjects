{
 "cells": [
  {
   "cell_type": "code",
   "execution_count": 1,
   "id": "reverse-picking",
   "metadata": {
    "execution": {
     "iopub.execute_input": "2021-10-03T19:30:06.760419Z",
     "iopub.status.busy": "2021-10-03T19:30:06.758427Z",
     "iopub.status.idle": "2021-10-03T19:30:07.565646Z",
     "shell.execute_reply": "2021-10-03T19:30:07.567071Z"
    },
    "papermill": {
     "duration": 0.858164,
     "end_time": "2021-10-03T19:30:07.567727",
     "exception": false,
     "start_time": "2021-10-03T19:30:06.709563",
     "status": "completed"
    },
    "tags": []
   },
   "outputs": [],
   "source": [
    "import pandas as pd\n",
    "import sqlite3"
   ]
  },
  {
   "cell_type": "code",
   "execution_count": 2,
   "id": "innovative-syndrome",
   "metadata": {
    "execution": {
     "iopub.execute_input": "2021-10-03T19:30:07.620752Z",
     "iopub.status.busy": "2021-10-03T19:30:07.618298Z",
     "iopub.status.idle": "2021-10-03T19:30:08.057171Z",
     "shell.execute_reply": "2021-10-03T19:30:08.058378Z"
    },
    "papermill": {
     "duration": 0.468847,
     "end_time": "2021-10-03T19:30:08.058770",
     "exception": false,
     "start_time": "2021-10-03T19:30:07.589923",
     "status": "completed"
    },
    "tags": []
   },
   "outputs": [],
   "source": [
    "timestamps = pd.read_sql(\"select distinct record_time from EBAY_TOP_BERLIN order by record_time desc limit 2\", sqlite3.connect(\"UsedObjects.db\"))"
   ]
  },
  {
   "cell_type": "code",
   "execution_count": 3,
   "id": "periodic-identification",
   "metadata": {
    "execution": {
     "iopub.execute_input": "2021-10-03T19:30:08.123674Z",
     "iopub.status.busy": "2021-10-03T19:30:08.121590Z",
     "iopub.status.idle": "2021-10-03T19:30:08.144342Z",
     "shell.execute_reply": "2021-10-03T19:30:08.145634Z"
    },
    "papermill": {
     "duration": 0.067745,
     "end_time": "2021-10-03T19:30:08.146045",
     "exception": false,
     "start_time": "2021-10-03T19:30:08.078300",
     "status": "completed"
    },
    "tags": []
   },
   "outputs": [
    {
     "data": {
      "text/html": [
       "<div>\n",
       "<style scoped>\n",
       "    .dataframe tbody tr th:only-of-type {\n",
       "        vertical-align: middle;\n",
       "    }\n",
       "\n",
       "    .dataframe tbody tr th {\n",
       "        vertical-align: top;\n",
       "    }\n",
       "\n",
       "    .dataframe thead th {\n",
       "        text-align: right;\n",
       "    }\n",
       "</style>\n",
       "<table border=\"1\" class=\"dataframe\">\n",
       "  <thead>\n",
       "    <tr style=\"text-align: right;\">\n",
       "      <th></th>\n",
       "      <th>RECORD_TIME</th>\n",
       "    </tr>\n",
       "  </thead>\n",
       "  <tbody>\n",
       "    <tr>\n",
       "      <th>0</th>\n",
       "      <td>2021-10-03 21:30</td>\n",
       "    </tr>\n",
       "    <tr>\n",
       "      <th>1</th>\n",
       "      <td>2021-10-03 21:00</td>\n",
       "    </tr>\n",
       "  </tbody>\n",
       "</table>\n",
       "</div>"
      ],
      "text/plain": [
       "        RECORD_TIME\n",
       "0  2021-10-03 21:30\n",
       "1  2021-10-03 21:00"
      ]
     },
     "execution_count": 3,
     "metadata": {},
     "output_type": "execute_result"
    }
   ],
   "source": [
    "timestamps"
   ]
  },
  {
   "cell_type": "code",
   "execution_count": 4,
   "id": "alternate-victory",
   "metadata": {
    "execution": {
     "iopub.execute_input": "2021-10-03T19:30:08.196686Z",
     "iopub.status.busy": "2021-10-03T19:30:08.194746Z",
     "iopub.status.idle": "2021-10-03T19:30:08.850372Z",
     "shell.execute_reply": "2021-10-03T19:30:08.851712Z"
    },
    "papermill": {
     "duration": 0.685477,
     "end_time": "2021-10-03T19:30:08.852130",
     "exception": false,
     "start_time": "2021-10-03T19:30:08.166653",
     "status": "completed"
    },
    "tags": []
   },
   "outputs": [],
   "source": [
    "df = pd.read_sql(\"select * from EBAY_TOP_BERLIN where record_time in (select distinct record_time from EBAY_TOP_BERLIN order by record_time desc limit 2)\", sqlite3.connect(\"UsedObjects.db\"))"
   ]
  },
  {
   "cell_type": "code",
   "execution_count": 5,
   "id": "popular-active",
   "metadata": {
    "execution": {
     "iopub.execute_input": "2021-10-03T19:30:08.916884Z",
     "iopub.status.busy": "2021-10-03T19:30:08.910832Z",
     "iopub.status.idle": "2021-10-03T19:30:08.937989Z",
     "shell.execute_reply": "2021-10-03T19:30:08.939404Z"
    },
    "papermill": {
     "duration": 0.067602,
     "end_time": "2021-10-03T19:30:08.939827",
     "exception": false,
     "start_time": "2021-10-03T19:30:08.872225",
     "status": "completed"
    },
    "tags": []
   },
   "outputs": [],
   "source": [
    "df_pivot = df.pivot_table(index=\"PRODUCT\", columns = \"RECORD_TIME\", values = \"LISTING_COUNT\")"
   ]
  },
  {
   "cell_type": "code",
   "execution_count": 6,
   "id": "union-huntington",
   "metadata": {
    "execution": {
     "iopub.execute_input": "2021-10-03T19:30:08.998323Z",
     "iopub.status.busy": "2021-10-03T19:30:08.995905Z",
     "iopub.status.idle": "2021-10-03T19:30:09.001807Z",
     "shell.execute_reply": "2021-10-03T19:30:09.003234Z"
    },
    "papermill": {
     "duration": 0.042497,
     "end_time": "2021-10-03T19:30:09.003675",
     "exception": false,
     "start_time": "2021-10-03T19:30:08.961178",
     "status": "completed"
    },
    "tags": []
   },
   "outputs": [],
   "source": [
    "df_pivot.columns = [\"stamp_1\", \"stamp_2\"]\n",
    "df_pivot_diff = df_pivot.diff(axis=1)"
   ]
  },
  {
   "cell_type": "code",
   "execution_count": 7,
   "id": "fifth-motion",
   "metadata": {
    "execution": {
     "iopub.execute_input": "2021-10-03T19:30:09.057951Z",
     "iopub.status.busy": "2021-10-03T19:30:09.055785Z",
     "iopub.status.idle": "2021-10-03T19:30:10.548208Z",
     "shell.execute_reply": "2021-10-03T19:30:10.549493Z"
    },
    "papermill": {
     "duration": 1.524848,
     "end_time": "2021-10-03T19:30:10.549910",
     "exception": false,
     "start_time": "2021-10-03T19:30:09.025062",
     "status": "completed"
    },
    "tags": []
   },
   "outputs": [
    {
     "data": {
      "text/plain": [
       "<AxesSubplot:ylabel='PRODUCT'>"
      ]
     },
     "execution_count": 7,
     "metadata": {},
     "output_type": "execute_result"
    },
    {
     "data": {
      "image/png": "[encoded data removed]",
      "text/plain": [
       "<Figure size 432x288 with 1 Axes>"
      ]
     },
     "metadata": {
      "needs_background": "light"
     },
     "output_type": "display_data"
    }
   ],
   "source": [
    "df_pivot_diff.sort_values(\"stamp_2\", ascending = False)[\"stamp_2\"].head(10).plot.barh()"
   ]
  },
  {
   "cell_type": "code",
   "execution_count": null,
   "id": "extra-executive",
   "metadata": {
    "papermill": {
     "duration": 0.021995,
     "end_time": "2021-10-03T19:30:10.597234",
     "exception": false,
     "start_time": "2021-10-03T19:30:10.575239",
     "status": "completed"
    },
    "tags": []
   },
   "outputs": [],
   "source": []
  }
 ],
 "metadata": {
  "kernelspec": {
   "display_name": "Python 3",
   "language": "python",
   "name": "python3"
  },
  "language_info": {
   "codemirror_mode": {
    "name": "ipython",
    "version": 3
   },
   "file_extension": ".py",
   "mimetype": "text/x-python",
   "name": "python",
   "nbconvert_exporter": "python",
   "pygments_lexer": "ipython3",
   "version": "3.9.5"
  },
  "papermill": {
   "default_parameters": {},
   "duration": 7.819618,
   "end_time": "2021-10-03T19:30:12.129898",
   "environment_variables": {},
   "exception": null,
   "input_path": "eBay_Overview.ipynb",
   "output_path": "eBay_Overview.ipynb",
   "parameters": {},
   "start_time": "2021-10-03T19:30:04.310280",
   "version": "2.3.3"
  }
 },
 "nbformat": 4,
 "nbformat_minor": 5
}