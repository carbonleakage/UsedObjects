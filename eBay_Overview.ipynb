{
 "cells": [
  {
   "cell_type": "code",
   "execution_count": 1,
   "id": "reverse-picking",
   "metadata": {
    "execution": {
     "iopub.execute_input": "2021-10-09T05:00:06.712837Z",
     "iopub.status.busy": "2021-10-09T05:00:06.710881Z",
     "iopub.status.idle": "2021-10-09T05:00:07.523948Z",
     "shell.execute_reply": "2021-10-09T05:00:07.525383Z"
    },
    "papermill": {
     "duration": 0.865738,
     "end_time": "2021-10-09T05:00:07.526057",
     "exception": false,
     "start_time": "2021-10-09T05:00:06.660319",
     "status": "completed"
    },
    "tags": []
   },
   "outputs": [],
   "source": [
    "import pandas as pd\n",
    "import sqlite3"
   ]
  },
  {
   "cell_type": "code",
   "execution_count": 2,
   "id": "innovative-syndrome",
   "metadata": {
    "execution": {
     "iopub.execute_input": "2021-10-09T05:00:07.576970Z",
     "iopub.status.busy": "2021-10-09T05:00:07.574900Z",
     "iopub.status.idle": "2021-10-09T05:00:08.060690Z",
     "shell.execute_reply": "2021-10-09T05:00:08.062048Z"
    },
    "papermill": {
     "duration": 0.516098,
     "end_time": "2021-10-09T05:00:08.062486",
     "exception": false,
     "start_time": "2021-10-09T05:00:07.546388",
     "status": "completed"
    },
    "tags": []
   },
   "outputs": [],
   "source": [
    "timestamps = pd.read_sql(\"select distinct record_time from EBAY_TOP_BERLIN order by record_time desc limit 2\", sqlite3.connect(\"UsedObjects.db\"))"
   ]
  },
  {
   "cell_type": "code",
   "execution_count": 3,
   "id": "periodic-identification",
   "metadata": {
    "execution": {
     "iopub.execute_input": "2021-10-09T05:00:08.129848Z",
     "iopub.status.busy": "2021-10-09T05:00:08.127851Z",
     "iopub.status.idle": "2021-10-09T05:00:08.147932Z",
     "shell.execute_reply": "2021-10-09T05:00:08.149277Z"
    },
    "papermill": {
     "duration": 0.067469,
     "end_time": "2021-10-09T05:00:08.149695",
     "exception": false,
     "start_time": "2021-10-09T05:00:08.082226",
     "status": "completed"
    },
    "tags": []
   },
   "outputs": [
    {
     "data": {
      "text/html": [
       "<div>\n",
       "<style scoped>\n",
       "    .dataframe tbody tr th:only-of-type {\n",
       "        vertical-align: middle;\n",
       "    }\n",
       "\n",
       "    .dataframe tbody tr th {\n",
       "        vertical-align: top;\n",
       "    }\n",
       "\n",
       "    .dataframe thead th {\n",
       "        text-align: right;\n",
       "    }\n",
       "</style>\n",
       "<table border=\"1\" class=\"dataframe\">\n",
       "  <thead>\n",
       "    <tr style=\"text-align: right;\">\n",
       "      <th></th>\n",
       "      <th>RECORD_TIME</th>\n",
       "    </tr>\n",
       "  </thead>\n",
       "  <tbody>\n",
       "    <tr>\n",
       "      <th>0</th>\n",
       "      <td>2021-10-09 07:00</td>\n",
       "    </tr>\n",
       "    <tr>\n",
       "      <th>1</th>\n",
       "      <td>2021-10-09 06:30</td>\n",
       "    </tr>\n",
       "  </tbody>\n",
       "</table>\n",
       "</div>"
      ],
      "text/plain": [
       "        RECORD_TIME\n",
       "0  2021-10-09 07:00\n",
       "1  2021-10-09 06:30"
      ]
     },
     "execution_count": 3,
     "metadata": {},
     "output_type": "execute_result"
    }
   ],
   "source": [
    "timestamps"
   ]
  },
  {
   "cell_type": "code",
   "execution_count": 4,
   "id": "alternate-victory",
   "metadata": {
    "execution": {
     "iopub.execute_input": "2021-10-09T05:00:08.209581Z",
     "iopub.status.busy": "2021-10-09T05:00:08.207724Z",
     "iopub.status.idle": "2021-10-09T05:00:08.916835Z",
     "shell.execute_reply": "2021-10-09T05:00:08.918048Z"
    },
    "papermill": {
     "duration": 0.742225,
     "end_time": "2021-10-09T05:00:08.918444",
     "exception": false,
     "start_time": "2021-10-09T05:00:08.176219",
     "status": "completed"
    },
    "tags": []
   },
   "outputs": [],
   "source": [
    "df = pd.read_sql(\"select * from EBAY_TOP_BERLIN where record_time in (select distinct record_time from EBAY_TOP_BERLIN order by record_time desc limit 2)\", sqlite3.connect(\"UsedObjects.db\"))"
   ]
  },
  {
   "cell_type": "code",
   "execution_count": 5,
   "id": "popular-active",
   "metadata": {
    "execution": {
     "iopub.execute_input": "2021-10-09T05:00:08.992032Z",
     "iopub.status.busy": "2021-10-09T05:00:08.980720Z",
     "iopub.status.idle": "2021-10-09T05:00:09.008200Z",
     "shell.execute_reply": "2021-10-09T05:00:09.009579Z"
    },
    "papermill": {
     "duration": 0.068925,
     "end_time": "2021-10-09T05:00:09.010019",
     "exception": false,
     "start_time": "2021-10-09T05:00:08.941094",
     "status": "completed"
    },
    "tags": []
   },
   "outputs": [],
   "source": [
    "df_pivot = df.pivot_table(index=\"PRODUCT\", columns = \"RECORD_TIME\", values = \"LISTING_COUNT\")"
   ]
  },
  {
   "cell_type": "code",
   "execution_count": 6,
   "id": "union-huntington",
   "metadata": {
    "execution": {
     "iopub.execute_input": "2021-10-09T05:00:09.070145Z",
     "iopub.status.busy": "2021-10-09T05:00:09.067721Z",
     "iopub.status.idle": "2021-10-09T05:00:09.073535Z",
     "shell.execute_reply": "2021-10-09T05:00:09.074868Z"
    },
    "papermill": {
     "duration": 0.042718,
     "end_time": "2021-10-09T05:00:09.075296",
     "exception": false,
     "start_time": "2021-10-09T05:00:09.032578",
     "status": "completed"
    },
    "tags": []
   },
   "outputs": [],
   "source": [
    "df_pivot.columns = [\"stamp_1\", \"stamp_2\"]\n",
    "df_pivot_diff = df_pivot.diff(axis=1)"
   ]
  },
  {
   "cell_type": "code",
   "execution_count": 7,
   "id": "fifth-motion",
   "metadata": {
    "execution": {
     "iopub.execute_input": "2021-10-09T05:00:09.130159Z",
     "iopub.status.busy": "2021-10-09T05:00:09.127659Z",
     "iopub.status.idle": "2021-10-09T05:00:10.624020Z",
     "shell.execute_reply": "2021-10-09T05:00:10.625349Z"
    },
    "papermill": {
     "duration": 1.529726,
     "end_time": "2021-10-09T05:00:10.625774",
     "exception": false,
     "start_time": "2021-10-09T05:00:09.096048",
     "status": "completed"
    },
    "tags": []
   },
   "outputs": [
    {
     "data": {
      "text/plain": [
       "<AxesSubplot:ylabel='PRODUCT'>"
      ]
     },
     "execution_count": 7,
     "metadata": {},
     "output_type": "execute_result"
    },
    {
     "data": {
      "image/png": "[encoded data removed]",
      "text/plain": [
       "<Figure size 432x288 with 1 Axes>"
      ]
     },
     "metadata": {
      "needs_background": "light"
     },
     "output_type": "display_data"
    }
   ],
   "source": [
    "df_pivot_diff.sort_values(\"stamp_2\", ascending = False)[\"stamp_2\"].head(10).plot.barh()"
   ]
  },
  {
   "cell_type": "code",
   "execution_count": null,
   "id": "extra-executive",
   "metadata": {
    "papermill": {
     "duration": 0.022173,
     "end_time": "2021-10-09T05:00:10.672392",
     "exception": false,
     "start_time": "2021-10-09T05:00:10.650219",
     "status": "completed"
    },
    "tags": []
   },
   "outputs": [],
   "source": []
  }
 ],
 "metadata": {
  "kernelspec": {
   "display_name": "Python 3",
   "language": "python",
   "name": "python3"
  },
  "language_info": {
   "codemirror_mode": {
    "name": "ipython",
    "version": 3
   },
   "file_extension": ".py",
   "mimetype": "text/x-python",
   "name": "python",
   "nbconvert_exporter": "python",
   "pygments_lexer": "ipython3",
   "version": "3.9.5"
  },
  "papermill": {
   "default_parameters": {},
   "duration": 7.826267,
   "end_time": "2021-10-09T05:00:12.063401",
   "environment_variables": {},
   "exception": null,
   "input_path": "eBay_Overview.ipynb",
   "output_path": "eBay_Overview.ipynb",
   "parameters": {},
   "start_time": "2021-10-09T05:00:04.237134",
   "version": "2.3.3"
  }
 },
 "nbformat": 4,
 "nbformat_minor": 5
}