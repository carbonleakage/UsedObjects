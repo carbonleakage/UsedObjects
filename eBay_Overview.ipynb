{
 "cells": [
  {
   "cell_type": "code",
   "execution_count": 1,
   "id": "reverse-picking",
   "metadata": {
    "execution": {
     "iopub.execute_input": "2021-08-26T00:30:07.220456Z",
     "iopub.status.busy": "2021-08-26T00:30:07.218450Z",
     "iopub.status.idle": "2021-08-26T00:30:08.022340Z",
     "shell.execute_reply": "2021-08-26T00:30:08.020715Z"
    },
    "papermill": {
     "duration": 0.852696,
     "end_time": "2021-08-26T00:30:08.022756",
     "exception": false,
     "start_time": "2021-08-26T00:30:07.170060",
     "status": "completed"
    },
    "tags": []
   },
   "outputs": [],
   "source": [
    "import pandas as pd\n",
    "import sqlite3"
   ]
  },
  {
   "cell_type": "code",
   "execution_count": 2,
   "id": "innovative-syndrome",
   "metadata": {
    "execution": {
     "iopub.execute_input": "2021-08-26T00:30:08.074022Z",
     "iopub.status.busy": "2021-08-26T00:30:08.072040Z",
     "iopub.status.idle": "2021-08-26T00:30:08.201552Z",
     "shell.execute_reply": "2021-08-26T00:30:08.202779Z"
    },
    "papermill": {
     "duration": 0.158658,
     "end_time": "2021-08-26T00:30:08.203170",
     "exception": false,
     "start_time": "2021-08-26T00:30:08.044512",
     "status": "completed"
    },
    "tags": []
   },
   "outputs": [],
   "source": [
    "timestamps = pd.read_sql(\"select distinct record_time from EBAY_TOP_BERLIN order by record_time desc limit 2\", sqlite3.connect(\"UsedObjects.db\"))"
   ]
  },
  {
   "cell_type": "code",
   "execution_count": 3,
   "id": "periodic-identification",
   "metadata": {
    "execution": {
     "iopub.execute_input": "2021-08-26T00:30:08.267105Z",
     "iopub.status.busy": "2021-08-26T00:30:08.265039Z",
     "iopub.status.idle": "2021-08-26T00:30:08.286469Z",
     "shell.execute_reply": "2021-08-26T00:30:08.287585Z"
    },
    "papermill": {
     "duration": 0.065562,
     "end_time": "2021-08-26T00:30:08.287982",
     "exception": false,
     "start_time": "2021-08-26T00:30:08.222420",
     "status": "completed"
    },
    "tags": []
   },
   "outputs": [
    {
     "data": {
      "text/html": [
       "<div>\n",
       "<style scoped>\n",
       "    .dataframe tbody tr th:only-of-type {\n",
       "        vertical-align: middle;\n",
       "    }\n",
       "\n",
       "    .dataframe tbody tr th {\n",
       "        vertical-align: top;\n",
       "    }\n",
       "\n",
       "    .dataframe thead th {\n",
       "        text-align: right;\n",
       "    }\n",
       "</style>\n",
       "<table border=\"1\" class=\"dataframe\">\n",
       "  <thead>\n",
       "    <tr style=\"text-align: right;\">\n",
       "      <th></th>\n",
       "      <th>RECORD_TIME</th>\n",
       "    </tr>\n",
       "  </thead>\n",
       "  <tbody>\n",
       "    <tr>\n",
       "      <th>0</th>\n",
       "      <td>2021-08-26 02:30</td>\n",
       "    </tr>\n",
       "    <tr>\n",
       "      <th>1</th>\n",
       "      <td>2021-08-26 02:00</td>\n",
       "    </tr>\n",
       "  </tbody>\n",
       "</table>\n",
       "</div>"
      ],
      "text/plain": [
       "        RECORD_TIME\n",
       "0  2021-08-26 02:30\n",
       "1  2021-08-26 02:00"
      ]
     },
     "execution_count": 3,
     "metadata": {},
     "output_type": "execute_result"
    }
   ],
   "source": [
    "timestamps"
   ]
  },
  {
   "cell_type": "code",
   "execution_count": 4,
   "id": "alternate-victory",
   "metadata": {
    "execution": {
     "iopub.execute_input": "2021-08-26T00:30:08.342461Z",
     "iopub.status.busy": "2021-08-26T00:30:08.340419Z",
     "iopub.status.idle": "2021-08-26T00:30:08.532666Z",
     "shell.execute_reply": "2021-08-26T00:30:08.533793Z"
    },
    "papermill": {
     "duration": 0.222812,
     "end_time": "2021-08-26T00:30:08.534192",
     "exception": false,
     "start_time": "2021-08-26T00:30:08.311380",
     "status": "completed"
    },
    "tags": []
   },
   "outputs": [],
   "source": [
    "df = pd.read_sql(\"select * from EBAY_TOP_BERLIN where record_time in (select distinct record_time from EBAY_TOP_BERLIN order by record_time desc limit 2)\", sqlite3.connect(\"UsedObjects.db\"))"
   ]
  },
  {
   "cell_type": "code",
   "execution_count": 5,
   "id": "popular-active",
   "metadata": {
    "execution": {
     "iopub.execute_input": "2021-08-26T00:30:08.608500Z",
     "iopub.status.busy": "2021-08-26T00:30:08.596663Z",
     "iopub.status.idle": "2021-08-26T00:30:08.624812Z",
     "shell.execute_reply": "2021-08-26T00:30:08.626178Z"
    },
    "papermill": {
     "duration": 0.069009,
     "end_time": "2021-08-26T00:30:08.626608",
     "exception": false,
     "start_time": "2021-08-26T00:30:08.557599",
     "status": "completed"
    },
    "tags": []
   },
   "outputs": [],
   "source": [
    "df_pivot = df.pivot_table(index=\"PRODUCT\", columns = \"RECORD_TIME\", values = \"LISTING_COUNT\")"
   ]
  },
  {
   "cell_type": "code",
   "execution_count": 6,
   "id": "union-huntington",
   "metadata": {
    "execution": {
     "iopub.execute_input": "2021-08-26T00:30:08.692862Z",
     "iopub.status.busy": "2021-08-26T00:30:08.690680Z",
     "iopub.status.idle": "2021-08-26T00:30:08.696062Z",
     "shell.execute_reply": "2021-08-26T00:30:08.697651Z"
    },
    "papermill": {
     "duration": 0.049817,
     "end_time": "2021-08-26T00:30:08.698212",
     "exception": false,
     "start_time": "2021-08-26T00:30:08.648395",
     "status": "completed"
    },
    "tags": []
   },
   "outputs": [],
   "source": [
    "df_pivot.columns = [\"stamp_1\", \"stamp_2\"]\n",
    "df_pivot_diff = df_pivot.diff(axis=1)"
   ]
  },
  {
   "cell_type": "code",
   "execution_count": 7,
   "id": "fifth-motion",
   "metadata": {
    "execution": {
     "iopub.execute_input": "2021-08-26T00:30:08.753848Z",
     "iopub.status.busy": "2021-08-26T00:30:08.751166Z",
     "iopub.status.idle": "2021-08-26T00:30:10.209968Z",
     "shell.execute_reply": "2021-08-26T00:30:10.211244Z"
    },
    "papermill": {
     "duration": 1.492388,
     "end_time": "2021-08-26T00:30:10.211654",
     "exception": false,
     "start_time": "2021-08-26T00:30:08.719266",
     "status": "completed"
    },
    "tags": []
   },
   "outputs": [
    {
     "data": {
      "text/plain": [
       "<AxesSubplot:ylabel='PRODUCT'>"
      ]
     },
     "execution_count": 7,
     "metadata": {},
     "output_type": "execute_result"
    },
    {
     "data": {
      "image/png": "[encoded data removed]",
      "text/plain": [
       "<Figure size 432x288 with 1 Axes>"
      ]
     },
     "metadata": {
      "needs_background": "light"
     },
     "output_type": "display_data"
    }
   ],
   "source": [
    "df_pivot_diff.sort_values(\"stamp_2\", ascending = False)[\"stamp_2\"].head(10).plot.barh()"
   ]
  },
  {
   "cell_type": "code",
   "execution_count": null,
   "id": "extra-executive",
   "metadata": {
    "papermill": {
     "duration": 0.022194,
     "end_time": "2021-08-26T00:30:10.257699",
     "exception": false,
     "start_time": "2021-08-26T00:30:10.235505",
     "status": "completed"
    },
    "tags": []
   },
   "outputs": [],
   "source": []
  }
 ],
 "metadata": {
  "kernelspec": {
   "display_name": "Python 3",
   "language": "python",
   "name": "python3"
  },
  "language_info": {
   "codemirror_mode": {
    "name": "ipython",
    "version": 3
   },
   "file_extension": ".py",
   "mimetype": "text/x-python",
   "name": "python",
   "nbconvert_exporter": "python",
   "pygments_lexer": "ipython3",
   "version": "3.9.5"
  },
  "papermill": {
   "default_parameters": {},
   "duration": 6.815961,
   "end_time": "2021-08-26T00:30:11.587053",
   "environment_variables": {},
   "exception": null,
   "input_path": "eBay_Overview.ipynb",
   "output_path": "eBay_Overview.ipynb",
   "parameters": {},
   "start_time": "2021-08-26T00:30:04.771092",
   "version": "2.3.3"
  }
 },
 "nbformat": 4,
 "nbformat_minor": 5
}