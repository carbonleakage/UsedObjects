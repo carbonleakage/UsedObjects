{
 "cells": [
  {
   "cell_type": "code",
   "execution_count": 1,
   "id": "reverse-picking",
   "metadata": {
    "execution": {
     "iopub.execute_input": "2021-08-22T11:30:06.646506Z",
     "iopub.status.busy": "2021-08-22T11:30:06.644459Z",
     "iopub.status.idle": "2021-08-22T11:30:07.450058Z",
     "shell.execute_reply": "2021-08-22T11:30:07.451472Z"
    },
    "papermill": {
     "duration": 0.855607,
     "end_time": "2021-08-22T11:30:07.452105",
     "exception": false,
     "start_time": "2021-08-22T11:30:06.596498",
     "status": "completed"
    },
    "tags": []
   },
   "outputs": [],
   "source": [
    "import pandas as pd\n",
    "import sqlite3"
   ]
  },
  {
   "cell_type": "code",
   "execution_count": 2,
   "id": "innovative-syndrome",
   "metadata": {
    "execution": {
     "iopub.execute_input": "2021-08-22T11:30:07.501527Z",
     "iopub.status.busy": "2021-08-22T11:30:07.499643Z",
     "iopub.status.idle": "2021-08-22T11:30:07.606570Z",
     "shell.execute_reply": "2021-08-22T11:30:07.607716Z"
    },
    "papermill": {
     "duration": 0.136103,
     "end_time": "2021-08-22T11:30:07.608124",
     "exception": false,
     "start_time": "2021-08-22T11:30:07.472021",
     "status": "completed"
    },
    "tags": []
   },
   "outputs": [],
   "source": [
    "timestamps = pd.read_sql(\"select distinct record_time from EBAY_TOP_BERLIN order by record_time desc limit 2\", sqlite3.connect(\"UsedObjects.db\"))"
   ]
  },
  {
   "cell_type": "code",
   "execution_count": 3,
   "id": "periodic-identification",
   "metadata": {
    "execution": {
     "iopub.execute_input": "2021-08-22T11:30:07.676035Z",
     "iopub.status.busy": "2021-08-22T11:30:07.674008Z",
     "iopub.status.idle": "2021-08-22T11:30:07.694526Z",
     "shell.execute_reply": "2021-08-22T11:30:07.695917Z"
    },
    "papermill": {
     "duration": 0.066059,
     "end_time": "2021-08-22T11:30:07.696400",
     "exception": false,
     "start_time": "2021-08-22T11:30:07.630341",
     "status": "completed"
    },
    "tags": []
   },
   "outputs": [
    {
     "data": {
      "text/html": [
       "<div>\n",
       "<style scoped>\n",
       "    .dataframe tbody tr th:only-of-type {\n",
       "        vertical-align: middle;\n",
       "    }\n",
       "\n",
       "    .dataframe tbody tr th {\n",
       "        vertical-align: top;\n",
       "    }\n",
       "\n",
       "    .dataframe thead th {\n",
       "        text-align: right;\n",
       "    }\n",
       "</style>\n",
       "<table border=\"1\" class=\"dataframe\">\n",
       "  <thead>\n",
       "    <tr style=\"text-align: right;\">\n",
       "      <th></th>\n",
       "      <th>RECORD_TIME</th>\n",
       "    </tr>\n",
       "  </thead>\n",
       "  <tbody>\n",
       "    <tr>\n",
       "      <th>0</th>\n",
       "      <td>2021-08-22 13:30</td>\n",
       "    </tr>\n",
       "    <tr>\n",
       "      <th>1</th>\n",
       "      <td>2021-08-22 13:00</td>\n",
       "    </tr>\n",
       "  </tbody>\n",
       "</table>\n",
       "</div>"
      ],
      "text/plain": [
       "        RECORD_TIME\n",
       "0  2021-08-22 13:30\n",
       "1  2021-08-22 13:00"
      ]
     },
     "execution_count": 3,
     "metadata": {},
     "output_type": "execute_result"
    }
   ],
   "source": [
    "timestamps"
   ]
  },
  {
   "cell_type": "code",
   "execution_count": 4,
   "id": "alternate-victory",
   "metadata": {
    "execution": {
     "iopub.execute_input": "2021-08-22T11:30:07.748422Z",
     "iopub.status.busy": "2021-08-22T11:30:07.746584Z",
     "iopub.status.idle": "2021-08-22T11:30:07.907526Z",
     "shell.execute_reply": "2021-08-22T11:30:07.908911Z"
    },
    "papermill": {
     "duration": 0.190797,
     "end_time": "2021-08-22T11:30:07.909351",
     "exception": false,
     "start_time": "2021-08-22T11:30:07.718554",
     "status": "completed"
    },
    "tags": []
   },
   "outputs": [],
   "source": [
    "df = pd.read_sql(\"select * from EBAY_TOP_BERLIN where record_time in (select distinct record_time from EBAY_TOP_BERLIN order by record_time desc limit 2)\", sqlite3.connect(\"UsedObjects.db\"))"
   ]
  },
  {
   "cell_type": "code",
   "execution_count": 5,
   "id": "popular-active",
   "metadata": {
    "execution": {
     "iopub.execute_input": "2021-08-22T11:30:07.980003Z",
     "iopub.status.busy": "2021-08-22T11:30:07.967795Z",
     "iopub.status.idle": "2021-08-22T11:30:07.996165Z",
     "shell.execute_reply": "2021-08-22T11:30:07.997397Z"
    },
    "papermill": {
     "duration": 0.067826,
     "end_time": "2021-08-22T11:30:07.997791",
     "exception": false,
     "start_time": "2021-08-22T11:30:07.929965",
     "status": "completed"
    },
    "tags": []
   },
   "outputs": [],
   "source": [
    "df_pivot = df.pivot_table(index=\"PRODUCT\", columns = \"RECORD_TIME\", values = \"LISTING_COUNT\")"
   ]
  },
  {
   "cell_type": "code",
   "execution_count": 6,
   "id": "union-huntington",
   "metadata": {
    "execution": {
     "iopub.execute_input": "2021-08-22T11:30:08.055089Z",
     "iopub.status.busy": "2021-08-22T11:30:08.052955Z",
     "iopub.status.idle": "2021-08-22T11:30:08.058314Z",
     "shell.execute_reply": "2021-08-22T11:30:08.059637Z"
    },
    "papermill": {
     "duration": 0.040013,
     "end_time": "2021-08-22T11:30:08.060053",
     "exception": false,
     "start_time": "2021-08-22T11:30:08.020040",
     "status": "completed"
    },
    "tags": []
   },
   "outputs": [],
   "source": [
    "df_pivot.columns = [\"stamp_1\", \"stamp_2\"]\n",
    "df_pivot_diff = df_pivot.diff(axis=1)"
   ]
  },
  {
   "cell_type": "code",
   "execution_count": 7,
   "id": "fifth-motion",
   "metadata": {
    "execution": {
     "iopub.execute_input": "2021-08-22T11:30:08.121402Z",
     "iopub.status.busy": "2021-08-22T11:30:08.119109Z",
     "iopub.status.idle": "2021-08-22T11:30:09.617285Z",
     "shell.execute_reply": "2021-08-22T11:30:09.618575Z"
    },
    "papermill": {
     "duration": 1.53433,
     "end_time": "2021-08-22T11:30:09.619022",
     "exception": false,
     "start_time": "2021-08-22T11:30:08.084692",
     "status": "completed"
    },
    "tags": []
   },
   "outputs": [
    {
     "data": {
      "text/plain": [
       "<AxesSubplot:ylabel='PRODUCT'>"
      ]
     },
     "execution_count": 7,
     "metadata": {},
     "output_type": "execute_result"
    },
    {
     "data": {
      "image/png": "[encoded data removed]",
      "text/plain": [
       "<Figure size 432x288 with 1 Axes>"
      ]
     },
     "metadata": {
      "needs_background": "light"
     },
     "output_type": "display_data"
    }
   ],
   "source": [
    "df_pivot_diff.sort_values(\"stamp_2\", ascending = False)[\"stamp_2\"].head(10).plot.barh()"
   ]
  },
  {
   "cell_type": "code",
   "execution_count": null,
   "id": "extra-executive",
   "metadata": {
    "papermill": {
     "duration": 0.022198,
     "end_time": "2021-08-22T11:30:09.667434",
     "exception": false,
     "start_time": "2021-08-22T11:30:09.645236",
     "status": "completed"
    },
    "tags": []
   },
   "outputs": [],
   "source": []
  }
 ],
 "metadata": {
  "kernelspec": {
   "display_name": "Python 3",
   "language": "python",
   "name": "python3"
  },
  "language_info": {
   "codemirror_mode": {
    "name": "ipython",
    "version": 3
   },
   "file_extension": ".py",
   "mimetype": "text/x-python",
   "name": "python",
   "nbconvert_exporter": "python",
   "pygments_lexer": "ipython3",
   "version": "3.9.5"
  },
  "papermill": {
   "default_parameters": {},
   "duration": 6.83177,
   "end_time": "2021-08-22T11:30:11.022787",
   "environment_variables": {},
   "exception": null,
   "input_path": "eBay_Overview.ipynb",
   "output_path": "eBay_Overview.ipynb",
   "parameters": {},
   "start_time": "2021-08-22T11:30:04.191017",
   "version": "2.3.3"
  }
 },
 "nbformat": 4,
 "nbformat_minor": 5
}