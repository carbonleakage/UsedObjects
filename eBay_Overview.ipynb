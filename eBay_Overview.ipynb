{
 "cells": [
  {
   "cell_type": "code",
   "execution_count": 1,
   "id": "reverse-picking",
   "metadata": {
    "execution": {
     "iopub.execute_input": "2021-09-21T18:30:06.614109Z",
     "iopub.status.busy": "2021-09-21T18:30:06.612143Z",
     "iopub.status.idle": "2021-09-21T18:30:07.417649Z",
     "shell.execute_reply": "2021-09-21T18:30:07.418981Z"
    },
    "papermill": {
     "duration": 0.855749,
     "end_time": "2021-09-21T18:30:07.419613",
     "exception": false,
     "start_time": "2021-09-21T18:30:06.563864",
     "status": "completed"
    },
    "tags": []
   },
   "outputs": [],
   "source": [
    "import pandas as pd\n",
    "import sqlite3"
   ]
  },
  {
   "cell_type": "code",
   "execution_count": 2,
   "id": "innovative-syndrome",
   "metadata": {
    "execution": {
     "iopub.execute_input": "2021-09-21T18:30:07.470172Z",
     "iopub.status.busy": "2021-09-21T18:30:07.468291Z",
     "iopub.status.idle": "2021-09-21T18:30:07.808837Z",
     "shell.execute_reply": "2021-09-21T18:30:07.810114Z"
    },
    "papermill": {
     "duration": 0.370168,
     "end_time": "2021-09-21T18:30:07.810525",
     "exception": false,
     "start_time": "2021-09-21T18:30:07.440357",
     "status": "completed"
    },
    "tags": []
   },
   "outputs": [],
   "source": [
    "timestamps = pd.read_sql(\"select distinct record_time from EBAY_TOP_BERLIN order by record_time desc limit 2\", sqlite3.connect(\"UsedObjects.db\"))"
   ]
  },
  {
   "cell_type": "code",
   "execution_count": 3,
   "id": "periodic-identification",
   "metadata": {
    "execution": {
     "iopub.execute_input": "2021-09-21T18:30:07.876824Z",
     "iopub.status.busy": "2021-09-21T18:30:07.874738Z",
     "iopub.status.idle": "2021-09-21T18:30:07.894764Z",
     "shell.execute_reply": "2021-09-21T18:30:07.896256Z"
    },
    "papermill": {
     "duration": 0.066975,
     "end_time": "2021-09-21T18:30:07.896692",
     "exception": false,
     "start_time": "2021-09-21T18:30:07.829717",
     "status": "completed"
    },
    "tags": []
   },
   "outputs": [
    {
     "data": {
      "text/html": [
       "<div>\n",
       "<style scoped>\n",
       "    .dataframe tbody tr th:only-of-type {\n",
       "        vertical-align: middle;\n",
       "    }\n",
       "\n",
       "    .dataframe tbody tr th {\n",
       "        vertical-align: top;\n",
       "    }\n",
       "\n",
       "    .dataframe thead th {\n",
       "        text-align: right;\n",
       "    }\n",
       "</style>\n",
       "<table border=\"1\" class=\"dataframe\">\n",
       "  <thead>\n",
       "    <tr style=\"text-align: right;\">\n",
       "      <th></th>\n",
       "      <th>RECORD_TIME</th>\n",
       "    </tr>\n",
       "  </thead>\n",
       "  <tbody>\n",
       "    <tr>\n",
       "      <th>0</th>\n",
       "      <td>2021-09-21 20:30</td>\n",
       "    </tr>\n",
       "    <tr>\n",
       "      <th>1</th>\n",
       "      <td>2021-09-21 20:00</td>\n",
       "    </tr>\n",
       "  </tbody>\n",
       "</table>\n",
       "</div>"
      ],
      "text/plain": [
       "        RECORD_TIME\n",
       "0  2021-09-21 20:30\n",
       "1  2021-09-21 20:00"
      ]
     },
     "execution_count": 3,
     "metadata": {},
     "output_type": "execute_result"
    }
   ],
   "source": [
    "timestamps"
   ]
  },
  {
   "cell_type": "code",
   "execution_count": 4,
   "id": "alternate-victory",
   "metadata": {
    "execution": {
     "iopub.execute_input": "2021-09-21T18:30:07.948357Z",
     "iopub.status.busy": "2021-09-21T18:30:07.946398Z",
     "iopub.status.idle": "2021-09-21T18:30:08.455940Z",
     "shell.execute_reply": "2021-09-21T18:30:08.457226Z"
    },
    "papermill": {
     "duration": 0.539638,
     "end_time": "2021-09-21T18:30:08.457626",
     "exception": false,
     "start_time": "2021-09-21T18:30:07.917988",
     "status": "completed"
    },
    "tags": []
   },
   "outputs": [],
   "source": [
    "df = pd.read_sql(\"select * from EBAY_TOP_BERLIN where record_time in (select distinct record_time from EBAY_TOP_BERLIN order by record_time desc limit 2)\", sqlite3.connect(\"UsedObjects.db\"))"
   ]
  },
  {
   "cell_type": "code",
   "execution_count": 5,
   "id": "popular-active",
   "metadata": {
    "execution": {
     "iopub.execute_input": "2021-09-21T18:30:08.537093Z",
     "iopub.status.busy": "2021-09-21T18:30:08.525799Z",
     "iopub.status.idle": "2021-09-21T18:30:08.553352Z",
     "shell.execute_reply": "2021-09-21T18:30:08.554581Z"
    },
    "papermill": {
     "duration": 0.071752,
     "end_time": "2021-09-21T18:30:08.555151",
     "exception": false,
     "start_time": "2021-09-21T18:30:08.483399",
     "status": "completed"
    },
    "tags": []
   },
   "outputs": [],
   "source": [
    "df_pivot = df.pivot_table(index=\"PRODUCT\", columns = \"RECORD_TIME\", values = \"LISTING_COUNT\")"
   ]
  },
  {
   "cell_type": "code",
   "execution_count": 6,
   "id": "union-huntington",
   "metadata": {
    "execution": {
     "iopub.execute_input": "2021-09-21T18:30:08.614749Z",
     "iopub.status.busy": "2021-09-21T18:30:08.612277Z",
     "iopub.status.idle": "2021-09-21T18:30:08.618175Z",
     "shell.execute_reply": "2021-09-21T18:30:08.619559Z"
    },
    "papermill": {
     "duration": 0.042637,
     "end_time": "2021-09-21T18:30:08.619989",
     "exception": false,
     "start_time": "2021-09-21T18:30:08.577352",
     "status": "completed"
    },
    "tags": []
   },
   "outputs": [],
   "source": [
    "df_pivot.columns = [\"stamp_1\", \"stamp_2\"]\n",
    "df_pivot_diff = df_pivot.diff(axis=1)"
   ]
  },
  {
   "cell_type": "code",
   "execution_count": 7,
   "id": "fifth-motion",
   "metadata": {
    "execution": {
     "iopub.execute_input": "2021-09-21T18:30:08.674331Z",
     "iopub.status.busy": "2021-09-21T18:30:08.672067Z",
     "iopub.status.idle": "2021-09-21T18:30:10.169715Z",
     "shell.execute_reply": "2021-09-21T18:30:10.171132Z"
    },
    "papermill": {
     "duration": 1.531052,
     "end_time": "2021-09-21T18:30:10.171603",
     "exception": false,
     "start_time": "2021-09-21T18:30:08.640551",
     "status": "completed"
    },
    "tags": []
   },
   "outputs": [
    {
     "data": {
      "text/plain": [
       "<AxesSubplot:ylabel='PRODUCT'>"
      ]
     },
     "execution_count": 7,
     "metadata": {},
     "output_type": "execute_result"
    },
    {
     "data": {
      "image/png": "[encoded data removed]",
      "text/plain": [
       "<Figure size 432x288 with 1 Axes>"
      ]
     },
     "metadata": {
      "needs_background": "light"
     },
     "output_type": "display_data"
    }
   ],
   "source": [
    "df_pivot_diff.sort_values(\"stamp_2\", ascending = False)[\"stamp_2\"].head(10).plot.barh()"
   ]
  },
  {
   "cell_type": "code",
   "execution_count": null,
   "id": "extra-executive",
   "metadata": {
    "papermill": {
     "duration": 0.022189,
     "end_time": "2021-09-21T18:30:10.217816",
     "exception": false,
     "start_time": "2021-09-21T18:30:10.195627",
     "status": "completed"
    },
    "tags": []
   },
   "outputs": [],
   "source": []
  }
 ],
 "metadata": {
  "kernelspec": {
   "display_name": "Python 3",
   "language": "python",
   "name": "python3"
  },
  "language_info": {
   "codemirror_mode": {
    "name": "ipython",
    "version": 3
   },
   "file_extension": ".py",
   "mimetype": "text/x-python",
   "name": "python",
   "nbconvert_exporter": "python",
   "pygments_lexer": "ipython3",
   "version": "3.9.5"
  },
  "papermill": {
   "default_parameters": {},
   "duration": 6.701883,
   "end_time": "2021-09-21T18:30:10.861178",
   "environment_variables": {},
   "exception": null,
   "input_path": "eBay_Overview.ipynb",
   "output_path": "eBay_Overview.ipynb",
   "parameters": {},
   "start_time": "2021-09-21T18:30:04.159295",
   "version": "2.3.3"
  }
 },
 "nbformat": 4,
 "nbformat_minor": 5
}