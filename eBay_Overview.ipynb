{
 "cells": [
  {
   "cell_type": "code",
   "execution_count": 1,
   "id": "reverse-picking",
   "metadata": {
    "execution": {
     "iopub.execute_input": "2021-11-19T12:00:07.445103Z",
     "iopub.status.busy": "2021-11-19T12:00:07.442852Z",
     "iopub.status.idle": "2021-11-19T12:00:08.395024Z",
     "shell.execute_reply": "2021-11-19T12:00:08.396597Z"
    },
    "papermill": {
     "duration": 1.001207,
     "end_time": "2021-11-19T12:00:08.397379",
     "exception": false,
     "start_time": "2021-11-19T12:00:07.396172",
     "status": "completed"
    },
    "tags": []
   },
   "outputs": [],
   "source": [
    "import pandas as pd\n",
    "import sqlite3"
   ]
  },
  {
   "cell_type": "code",
   "execution_count": 2,
   "id": "innovative-syndrome",
   "metadata": {
    "execution": {
     "iopub.execute_input": "2021-11-19T12:00:08.461940Z",
     "iopub.status.busy": "2021-11-19T12:00:08.459693Z",
     "iopub.status.idle": "2021-11-19T12:00:09.321240Z",
     "shell.execute_reply": "2021-11-19T12:00:09.322691Z"
    },
    "papermill": {
     "duration": 0.895639,
     "end_time": "2021-11-19T12:00:09.323186",
     "exception": false,
     "start_time": "2021-11-19T12:00:08.427547",
     "status": "completed"
    },
    "tags": []
   },
   "outputs": [],
   "source": [
    "timestamps = pd.read_sql(\"select distinct record_time from EBAY_TOP_BERLIN order by record_time desc limit 2\", sqlite3.connect(\"UsedObjects.db\"))"
   ]
  },
  {
   "cell_type": "code",
   "execution_count": 3,
   "id": "periodic-identification",
   "metadata": {
    "execution": {
     "iopub.execute_input": "2021-11-19T12:00:09.394885Z",
     "iopub.status.busy": "2021-11-19T12:00:09.392497Z",
     "iopub.status.idle": "2021-11-19T12:00:09.415076Z",
     "shell.execute_reply": "2021-11-19T12:00:09.416757Z"
    },
    "papermill": {
     "duration": 0.073885,
     "end_time": "2021-11-19T12:00:09.417275",
     "exception": false,
     "start_time": "2021-11-19T12:00:09.343390",
     "status": "completed"
    },
    "tags": []
   },
   "outputs": [
    {
     "data": {
      "text/html": [
       "<div>\n",
       "<style scoped>\n",
       "    .dataframe tbody tr th:only-of-type {\n",
       "        vertical-align: middle;\n",
       "    }\n",
       "\n",
       "    .dataframe tbody tr th {\n",
       "        vertical-align: top;\n",
       "    }\n",
       "\n",
       "    .dataframe thead th {\n",
       "        text-align: right;\n",
       "    }\n",
       "</style>\n",
       "<table border=\"1\" class=\"dataframe\">\n",
       "  <thead>\n",
       "    <tr style=\"text-align: right;\">\n",
       "      <th></th>\n",
       "      <th>RECORD_TIME</th>\n",
       "    </tr>\n",
       "  </thead>\n",
       "  <tbody>\n",
       "    <tr>\n",
       "      <th>0</th>\n",
       "      <td>2021-11-19 13:00</td>\n",
       "    </tr>\n",
       "    <tr>\n",
       "      <th>1</th>\n",
       "      <td>2021-11-19 12:30</td>\n",
       "    </tr>\n",
       "  </tbody>\n",
       "</table>\n",
       "</div>"
      ],
      "text/plain": [
       "        RECORD_TIME\n",
       "0  2021-11-19 13:00\n",
       "1  2021-11-19 12:30"
      ]
     },
     "execution_count": 3,
     "metadata": {},
     "output_type": "execute_result"
    }
   ],
   "source": [
    "timestamps"
   ]
  },
  {
   "cell_type": "code",
   "execution_count": 4,
   "id": "alternate-victory",
   "metadata": {
    "execution": {
     "iopub.execute_input": "2021-11-19T12:00:09.472589Z",
     "iopub.status.busy": "2021-11-19T12:00:09.470251Z",
     "iopub.status.idle": "2021-11-19T12:00:10.718918Z",
     "shell.execute_reply": "2021-11-19T12:00:10.720470Z"
    },
    "papermill": {
     "duration": 1.282327,
     "end_time": "2021-11-19T12:00:10.721009",
     "exception": false,
     "start_time": "2021-11-19T12:00:09.438682",
     "status": "completed"
    },
    "tags": []
   },
   "outputs": [],
   "source": [
    "df = pd.read_sql(\"select * from EBAY_TOP_BERLIN where record_time in (select distinct record_time from EBAY_TOP_BERLIN order by record_time desc limit 2)\", sqlite3.connect(\"UsedObjects.db\"))"
   ]
  },
  {
   "cell_type": "code",
   "execution_count": 5,
   "id": "popular-active",
   "metadata": {
    "execution": {
     "iopub.execute_input": "2021-11-19T12:00:10.801407Z",
     "iopub.status.busy": "2021-11-19T12:00:10.786508Z",
     "iopub.status.idle": "2021-11-19T12:00:10.820316Z",
     "shell.execute_reply": "2021-11-19T12:00:10.821967Z"
    },
    "papermill": {
     "duration": 0.077786,
     "end_time": "2021-11-19T12:00:10.822438",
     "exception": false,
     "start_time": "2021-11-19T12:00:10.744652",
     "status": "completed"
    },
    "tags": []
   },
   "outputs": [],
   "source": [
    "df_pivot = df.pivot_table(index=\"PRODUCT\", columns = \"RECORD_TIME\", values = \"LISTING_COUNT\")"
   ]
  },
  {
   "cell_type": "code",
   "execution_count": 6,
   "id": "union-huntington",
   "metadata": {
    "execution": {
     "iopub.execute_input": "2021-11-19T12:00:10.886263Z",
     "iopub.status.busy": "2021-11-19T12:00:10.883890Z",
     "iopub.status.idle": "2021-11-19T12:00:10.890074Z",
     "shell.execute_reply": "2021-11-19T12:00:10.891680Z"
    },
    "papermill": {
     "duration": 0.046798,
     "end_time": "2021-11-19T12:00:10.892175",
     "exception": false,
     "start_time": "2021-11-19T12:00:10.845377",
     "status": "completed"
    },
    "tags": []
   },
   "outputs": [],
   "source": [
    "df_pivot.columns = [\"stamp_1\", \"stamp_2\"]\n",
    "df_pivot_diff = df_pivot.diff(axis=1)"
   ]
  },
  {
   "cell_type": "code",
   "execution_count": 7,
   "id": "fifth-motion",
   "metadata": {
    "execution": {
     "iopub.execute_input": "2021-11-19T12:00:10.952812Z",
     "iopub.status.busy": "2021-11-19T12:00:10.950194Z",
     "iopub.status.idle": "2021-11-19T12:00:12.750314Z",
     "shell.execute_reply": "2021-11-19T12:00:12.751765Z"
    },
    "papermill": {
     "duration": 1.838449,
     "end_time": "2021-11-19T12:00:12.752227",
     "exception": false,
     "start_time": "2021-11-19T12:00:10.913778",
     "status": "completed"
    },
    "tags": []
   },
   "outputs": [
    {
     "data": {
      "text/plain": [
       "<AxesSubplot:ylabel='PRODUCT'>"
      ]
     },
     "execution_count": 7,
     "metadata": {},
     "output_type": "execute_result"
    },
    {
     "data": {
      "image/png": "[encoded data removed]",
      "text/plain": [
       "<Figure size 432x288 with 1 Axes>"
      ]
     },
     "metadata": {
      "needs_background": "light"
     },
     "output_type": "display_data"
    }
   ],
   "source": [
    "df_pivot_diff.sort_values(\"stamp_2\", ascending = False)[\"stamp_2\"].head(10).plot.barh()"
   ]
  },
  {
   "cell_type": "code",
   "execution_count": null,
   "id": "extra-executive",
   "metadata": {
    "papermill": {
     "duration": 0.023615,
     "end_time": "2021-11-19T12:00:12.800390",
     "exception": false,
     "start_time": "2021-11-19T12:00:12.776775",
     "status": "completed"
    },
    "tags": []
   },
   "outputs": [],
   "source": []
  }
 ],
 "metadata": {
  "kernelspec": {
   "display_name": "Python 3",
   "language": "python",
   "name": "python3"
  },
  "language_info": {
   "codemirror_mode": {
    "name": "ipython",
    "version": 3
   },
   "file_extension": ".py",
   "mimetype": "text/x-python",
   "name": "python",
   "nbconvert_exporter": "python",
   "pygments_lexer": "ipython3",
   "version": "3.9.5"
  },
  "papermill": {
   "default_parameters": {},
   "duration": 10.010394,
   "end_time": "2021-11-19T12:00:14.601803",
   "environment_variables": {},
   "exception": null,
   "input_path": "eBay_Overview.ipynb",
   "output_path": "eBay_Overview.ipynb",
   "parameters": {},
   "start_time": "2021-11-19T12:00:04.591409",
   "version": "2.3.3"
  }
 },
 "nbformat": 4,
 "nbformat_minor": 5
}