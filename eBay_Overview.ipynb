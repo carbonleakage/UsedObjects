{
 "cells": [
  {
   "cell_type": "code",
   "execution_count": 1,
   "id": "reverse-picking",
   "metadata": {
    "execution": {
     "iopub.execute_input": "2021-12-01T10:00:07.452250Z",
     "iopub.status.busy": "2021-12-01T10:00:07.449849Z",
     "iopub.status.idle": "2021-12-01T10:00:08.399754Z",
     "shell.execute_reply": "2021-12-01T10:00:08.401317Z"
    },
    "papermill": {
     "duration": 1.000318,
     "end_time": "2021-12-01T10:00:08.402064",
     "exception": false,
     "start_time": "2021-12-01T10:00:07.401746",
     "status": "completed"
    },
    "tags": []
   },
   "outputs": [],
   "source": [
    "import pandas as pd\n",
    "import sqlite3"
   ]
  },
  {
   "cell_type": "code",
   "execution_count": 2,
   "id": "innovative-syndrome",
   "metadata": {
    "execution": {
     "iopub.execute_input": "2021-12-01T10:00:08.464608Z",
     "iopub.status.busy": "2021-12-01T10:00:08.462355Z",
     "iopub.status.idle": "2021-12-01T10:00:09.401246Z",
     "shell.execute_reply": "2021-12-01T10:00:09.402892Z"
    },
    "papermill": {
     "duration": 0.973548,
     "end_time": "2021-12-01T10:00:09.403395",
     "exception": false,
     "start_time": "2021-12-01T10:00:08.429847",
     "status": "completed"
    },
    "tags": []
   },
   "outputs": [],
   "source": [
    "timestamps = pd.read_sql(\"select distinct record_time from EBAY_TOP_BERLIN order by record_time desc limit 2\", sqlite3.connect(\"UsedObjects.db\"))"
   ]
  },
  {
   "cell_type": "code",
   "execution_count": 3,
   "id": "periodic-identification",
   "metadata": {
    "execution": {
     "iopub.execute_input": "2021-12-01T10:00:09.474524Z",
     "iopub.status.busy": "2021-12-01T10:00:09.472289Z",
     "iopub.status.idle": "2021-12-01T10:00:09.494417Z",
     "shell.execute_reply": "2021-12-01T10:00:09.495938Z"
    },
    "papermill": {
     "duration": 0.070894,
     "end_time": "2021-12-01T10:00:09.496401",
     "exception": false,
     "start_time": "2021-12-01T10:00:09.425507",
     "status": "completed"
    },
    "tags": []
   },
   "outputs": [
    {
     "data": {
      "text/html": [
       "<div>\n",
       "<style scoped>\n",
       "    .dataframe tbody tr th:only-of-type {\n",
       "        vertical-align: middle;\n",
       "    }\n",
       "\n",
       "    .dataframe tbody tr th {\n",
       "        vertical-align: top;\n",
       "    }\n",
       "\n",
       "    .dataframe thead th {\n",
       "        text-align: right;\n",
       "    }\n",
       "</style>\n",
       "<table border=\"1\" class=\"dataframe\">\n",
       "  <thead>\n",
       "    <tr style=\"text-align: right;\">\n",
       "      <th></th>\n",
       "      <th>RECORD_TIME</th>\n",
       "    </tr>\n",
       "  </thead>\n",
       "  <tbody>\n",
       "    <tr>\n",
       "      <th>0</th>\n",
       "      <td>2021-12-01 11:00</td>\n",
       "    </tr>\n",
       "    <tr>\n",
       "      <th>1</th>\n",
       "      <td>2021-12-01 10:30</td>\n",
       "    </tr>\n",
       "  </tbody>\n",
       "</table>\n",
       "</div>"
      ],
      "text/plain": [
       "        RECORD_TIME\n",
       "0  2021-12-01 11:00\n",
       "1  2021-12-01 10:30"
      ]
     },
     "execution_count": 3,
     "metadata": {},
     "output_type": "execute_result"
    }
   ],
   "source": [
    "timestamps"
   ]
  },
  {
   "cell_type": "code",
   "execution_count": 4,
   "id": "alternate-victory",
   "metadata": {
    "execution": {
     "iopub.execute_input": "2021-12-01T10:00:09.552900Z",
     "iopub.status.busy": "2021-12-01T10:00:09.551013Z",
     "iopub.status.idle": "2021-12-01T10:00:10.909064Z",
     "shell.execute_reply": "2021-12-01T10:00:10.910530Z"
    },
    "papermill": {
     "duration": 1.393703,
     "end_time": "2021-12-01T10:00:10.911076",
     "exception": false,
     "start_time": "2021-12-01T10:00:09.517373",
     "status": "completed"
    },
    "tags": []
   },
   "outputs": [],
   "source": [
    "df = pd.read_sql(\"select * from EBAY_TOP_BERLIN where record_time in (select distinct record_time from EBAY_TOP_BERLIN order by record_time desc limit 2)\", sqlite3.connect(\"UsedObjects.db\"))"
   ]
  },
  {
   "cell_type": "code",
   "execution_count": 5,
   "id": "popular-active",
   "metadata": {
    "execution": {
     "iopub.execute_input": "2021-12-01T10:00:10.984345Z",
     "iopub.status.busy": "2021-12-01T10:00:10.974124Z",
     "iopub.status.idle": "2021-12-01T10:00:11.007550Z",
     "shell.execute_reply": "2021-12-01T10:00:11.008996Z"
    },
    "papermill": {
     "duration": 0.075993,
     "end_time": "2021-12-01T10:00:11.009478",
     "exception": false,
     "start_time": "2021-12-01T10:00:10.933485",
     "status": "completed"
    },
    "tags": []
   },
   "outputs": [],
   "source": [
    "df_pivot = df.pivot_table(index=\"PRODUCT\", columns = \"RECORD_TIME\", values = \"LISTING_COUNT\")"
   ]
  },
  {
   "cell_type": "code",
   "execution_count": 6,
   "id": "union-huntington",
   "metadata": {
    "execution": {
     "iopub.execute_input": "2021-12-01T10:00:11.067964Z",
     "iopub.status.busy": "2021-12-01T10:00:11.065826Z",
     "iopub.status.idle": "2021-12-01T10:00:11.074064Z",
     "shell.execute_reply": "2021-12-01T10:00:11.071525Z"
    },
    "papermill": {
     "duration": 0.04457,
     "end_time": "2021-12-01T10:00:11.074504",
     "exception": false,
     "start_time": "2021-12-01T10:00:11.029934",
     "status": "completed"
    },
    "tags": []
   },
   "outputs": [],
   "source": [
    "df_pivot.columns = [\"stamp_1\", \"stamp_2\"]\n",
    "df_pivot_diff = df_pivot.diff(axis=1)"
   ]
  },
  {
   "cell_type": "code",
   "execution_count": 7,
   "id": "fifth-motion",
   "metadata": {
    "execution": {
     "iopub.execute_input": "2021-12-01T10:00:11.137977Z",
     "iopub.status.busy": "2021-12-01T10:00:11.135548Z",
     "iopub.status.idle": "2021-12-01T10:00:13.076247Z",
     "shell.execute_reply": "2021-12-01T10:00:13.079015Z"
    },
    "papermill": {
     "duration": 1.980163,
     "end_time": "2021-12-01T10:00:13.079844",
     "exception": false,
     "start_time": "2021-12-01T10:00:11.099681",
     "status": "completed"
    },
    "tags": []
   },
   "outputs": [
    {
     "data": {
      "text/plain": [
       "<AxesSubplot:ylabel='PRODUCT'>"
      ]
     },
     "execution_count": 7,
     "metadata": {},
     "output_type": "execute_result"
    },
    {
     "data": {
      "image/png": "[encoded data removed]",
      "text/plain": [
       "<Figure size 432x288 with 1 Axes>"
      ]
     },
     "metadata": {
      "needs_background": "light"
     },
     "output_type": "display_data"
    }
   ],
   "source": [
    "df_pivot_diff.sort_values(\"stamp_2\", ascending = False)[\"stamp_2\"].head(10).plot.barh()"
   ]
  },
  {
   "cell_type": "code",
   "execution_count": null,
   "id": "extra-executive",
   "metadata": {
    "papermill": {
     "duration": 0.028095,
     "end_time": "2021-12-01T10:00:13.142477",
     "exception": false,
     "start_time": "2021-12-01T10:00:13.114382",
     "status": "completed"
    },
    "tags": []
   },
   "outputs": [],
   "source": []
  }
 ],
 "metadata": {
  "kernelspec": {
   "display_name": "Python 3",
   "language": "python",
   "name": "python3"
  },
  "language_info": {
   "codemirror_mode": {
    "name": "ipython",
    "version": 3
   },
   "file_extension": ".py",
   "mimetype": "text/x-python",
   "name": "python",
   "nbconvert_exporter": "python",
   "pygments_lexer": "ipython3",
   "version": "3.9.5"
  },
  "papermill": {
   "default_parameters": {},
   "duration": 9.939406,
   "end_time": "2021-12-01T10:00:14.616541",
   "environment_variables": {},
   "exception": null,
   "input_path": "eBay_Overview.ipynb",
   "output_path": "eBay_Overview.ipynb",
   "parameters": {},
   "start_time": "2021-12-01T10:00:04.677135",
   "version": "2.3.3"
  }
 },
 "nbformat": 4,
 "nbformat_minor": 5
}