{
 "cells": [
  {
   "cell_type": "code",
   "execution_count": 1,
   "id": "reverse-picking",
   "metadata": {
    "execution": {
     "iopub.execute_input": "2021-09-01T11:00:06.746269Z",
     "iopub.status.busy": "2021-09-01T11:00:06.744329Z",
     "iopub.status.idle": "2021-09-01T11:00:07.545722Z",
     "shell.execute_reply": "2021-09-01T11:00:07.547089Z"
    },
    "papermill": {
     "duration": 0.852625,
     "end_time": "2021-09-01T11:00:07.547755",
     "exception": false,
     "start_time": "2021-09-01T11:00:06.695130",
     "status": "completed"
    },
    "tags": []
   },
   "outputs": [],
   "source": [
    "import pandas as pd\n",
    "import sqlite3"
   ]
  },
  {
   "cell_type": "code",
   "execution_count": 2,
   "id": "innovative-syndrome",
   "metadata": {
    "execution": {
     "iopub.execute_input": "2021-09-01T11:00:07.599322Z",
     "iopub.status.busy": "2021-09-01T11:00:07.597292Z",
     "iopub.status.idle": "2021-09-01T11:00:07.775094Z",
     "shell.execute_reply": "2021-09-01T11:00:07.776515Z"
    },
    "papermill": {
     "duration": 0.207892,
     "end_time": "2021-09-01T11:00:07.776948",
     "exception": false,
     "start_time": "2021-09-01T11:00:07.569056",
     "status": "completed"
    },
    "tags": []
   },
   "outputs": [],
   "source": [
    "timestamps = pd.read_sql(\"select distinct record_time from EBAY_TOP_BERLIN order by record_time desc limit 2\", sqlite3.connect(\"UsedObjects.db\"))"
   ]
  },
  {
   "cell_type": "code",
   "execution_count": 3,
   "id": "periodic-identification",
   "metadata": {
    "execution": {
     "iopub.execute_input": "2021-09-01T11:00:07.844718Z",
     "iopub.status.busy": "2021-09-01T11:00:07.839710Z",
     "iopub.status.idle": "2021-09-01T11:00:07.860946Z",
     "shell.execute_reply": "2021-09-01T11:00:07.862296Z"
    },
    "papermill": {
     "duration": 0.066137,
     "end_time": "2021-09-01T11:00:07.862777",
     "exception": false,
     "start_time": "2021-09-01T11:00:07.796640",
     "status": "completed"
    },
    "tags": []
   },
   "outputs": [
    {
     "data": {
      "text/html": [
       "<div>\n",
       "<style scoped>\n",
       "    .dataframe tbody tr th:only-of-type {\n",
       "        vertical-align: middle;\n",
       "    }\n",
       "\n",
       "    .dataframe tbody tr th {\n",
       "        vertical-align: top;\n",
       "    }\n",
       "\n",
       "    .dataframe thead th {\n",
       "        text-align: right;\n",
       "    }\n",
       "</style>\n",
       "<table border=\"1\" class=\"dataframe\">\n",
       "  <thead>\n",
       "    <tr style=\"text-align: right;\">\n",
       "      <th></th>\n",
       "      <th>RECORD_TIME</th>\n",
       "    </tr>\n",
       "  </thead>\n",
       "  <tbody>\n",
       "    <tr>\n",
       "      <th>0</th>\n",
       "      <td>2021-09-01 13:00</td>\n",
       "    </tr>\n",
       "    <tr>\n",
       "      <th>1</th>\n",
       "      <td>2021-09-01 12:30</td>\n",
       "    </tr>\n",
       "  </tbody>\n",
       "</table>\n",
       "</div>"
      ],
      "text/plain": [
       "        RECORD_TIME\n",
       "0  2021-09-01 13:00\n",
       "1  2021-09-01 12:30"
      ]
     },
     "execution_count": 3,
     "metadata": {},
     "output_type": "execute_result"
    }
   ],
   "source": [
    "timestamps"
   ]
  },
  {
   "cell_type": "code",
   "execution_count": 4,
   "id": "alternate-victory",
   "metadata": {
    "execution": {
     "iopub.execute_input": "2021-09-01T11:00:07.915857Z",
     "iopub.status.busy": "2021-09-01T11:00:07.913491Z",
     "iopub.status.idle": "2021-09-01T11:00:08.185760Z",
     "shell.execute_reply": "2021-09-01T11:00:08.187152Z"
    },
    "papermill": {
     "duration": 0.302717,
     "end_time": "2021-09-01T11:00:08.187582",
     "exception": false,
     "start_time": "2021-09-01T11:00:07.884865",
     "status": "completed"
    },
    "tags": []
   },
   "outputs": [],
   "source": [
    "df = pd.read_sql(\"select * from EBAY_TOP_BERLIN where record_time in (select distinct record_time from EBAY_TOP_BERLIN order by record_time desc limit 2)\", sqlite3.connect(\"UsedObjects.db\"))"
   ]
  },
  {
   "cell_type": "code",
   "execution_count": 5,
   "id": "popular-active",
   "metadata": {
    "execution": {
     "iopub.execute_input": "2021-09-01T11:00:08.268226Z",
     "iopub.status.busy": "2021-09-01T11:00:08.254600Z",
     "iopub.status.idle": "2021-09-01T11:00:08.283996Z",
     "shell.execute_reply": "2021-09-01T11:00:08.285220Z"
    },
    "papermill": {
     "duration": 0.072184,
     "end_time": "2021-09-01T11:00:08.285618",
     "exception": false,
     "start_time": "2021-09-01T11:00:08.213434",
     "status": "completed"
    },
    "tags": []
   },
   "outputs": [],
   "source": [
    "df_pivot = df.pivot_table(index=\"PRODUCT\", columns = \"RECORD_TIME\", values = \"LISTING_COUNT\")"
   ]
  },
  {
   "cell_type": "code",
   "execution_count": 6,
   "id": "union-huntington",
   "metadata": {
    "execution": {
     "iopub.execute_input": "2021-09-01T11:00:08.341683Z",
     "iopub.status.busy": "2021-09-01T11:00:08.339566Z",
     "iopub.status.idle": "2021-09-01T11:00:08.344749Z",
     "shell.execute_reply": "2021-09-01T11:00:08.346010Z"
    },
    "papermill": {
     "duration": 0.040134,
     "end_time": "2021-09-01T11:00:08.346429",
     "exception": false,
     "start_time": "2021-09-01T11:00:08.306295",
     "status": "completed"
    },
    "tags": []
   },
   "outputs": [],
   "source": [
    "df_pivot.columns = [\"stamp_1\", \"stamp_2\"]\n",
    "df_pivot_diff = df_pivot.diff(axis=1)"
   ]
  },
  {
   "cell_type": "code",
   "execution_count": 7,
   "id": "fifth-motion",
   "metadata": {
    "execution": {
     "iopub.execute_input": "2021-09-01T11:00:08.400471Z",
     "iopub.status.busy": "2021-09-01T11:00:08.397991Z",
     "iopub.status.idle": "2021-09-01T11:00:09.880840Z",
     "shell.execute_reply": "2021-09-01T11:00:09.882111Z"
    },
    "papermill": {
     "duration": 1.515477,
     "end_time": "2021-09-01T11:00:09.882532",
     "exception": false,
     "start_time": "2021-09-01T11:00:08.367055",
     "status": "completed"
    },
    "tags": []
   },
   "outputs": [
    {
     "data": {
      "text/plain": [
       "<AxesSubplot:ylabel='PRODUCT'>"
      ]
     },
     "execution_count": 7,
     "metadata": {},
     "output_type": "execute_result"
    },
    {
     "data": {
      "image/png": "[encoded data removed]",
      "text/plain": [
       "<Figure size 432x288 with 1 Axes>"
      ]
     },
     "metadata": {
      "needs_background": "light"
     },
     "output_type": "display_data"
    }
   ],
   "source": [
    "df_pivot_diff.sort_values(\"stamp_2\", ascending = False)[\"stamp_2\"].head(10).plot.barh()"
   ]
  },
  {
   "cell_type": "code",
   "execution_count": null,
   "id": "extra-executive",
   "metadata": {
    "papermill": {
     "duration": 0.022282,
     "end_time": "2021-09-01T11:00:09.928919",
     "exception": false,
     "start_time": "2021-09-01T11:00:09.906637",
     "status": "completed"
    },
    "tags": []
   },
   "outputs": [],
   "source": []
  }
 ],
 "metadata": {
  "kernelspec": {
   "display_name": "Python 3",
   "language": "python",
   "name": "python3"
  },
  "language_info": {
   "codemirror_mode": {
    "name": "ipython",
    "version": 3
   },
   "file_extension": ".py",
   "mimetype": "text/x-python",
   "name": "python",
   "nbconvert_exporter": "python",
   "pygments_lexer": "ipython3",
   "version": "3.9.5"
  },
  "papermill": {
   "default_parameters": {},
   "duration": 6.825232,
   "end_time": "2021-09-01T11:00:11.115950",
   "environment_variables": {},
   "exception": null,
   "input_path": "eBay_Overview.ipynb",
   "output_path": "eBay_Overview.ipynb",
   "parameters": {},
   "start_time": "2021-09-01T11:00:04.290718",
   "version": "2.3.3"
  }
 },
 "nbformat": 4,
 "nbformat_minor": 5
}