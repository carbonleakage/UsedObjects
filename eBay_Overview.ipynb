{
 "cells": [
  {
   "cell_type": "code",
   "execution_count": 1,
   "id": "reverse-picking",
   "metadata": {
    "execution": {
     "iopub.execute_input": "2021-11-10T14:00:07.705566Z",
     "iopub.status.busy": "2021-11-10T14:00:07.703134Z",
     "iopub.status.idle": "2021-11-10T14:00:08.664835Z",
     "shell.execute_reply": "2021-11-10T14:00:08.666485Z"
    },
    "papermill": {
     "duration": 1.011318,
     "end_time": "2021-11-10T14:00:08.667216",
     "exception": false,
     "start_time": "2021-11-10T14:00:07.655898",
     "status": "completed"
    },
    "tags": []
   },
   "outputs": [],
   "source": [
    "import pandas as pd\n",
    "import sqlite3"
   ]
  },
  {
   "cell_type": "code",
   "execution_count": 2,
   "id": "innovative-syndrome",
   "metadata": {
    "execution": {
     "iopub.execute_input": "2021-11-10T14:00:08.727377Z",
     "iopub.status.busy": "2021-11-10T14:00:08.725132Z",
     "iopub.status.idle": "2021-11-10T14:00:09.489253Z",
     "shell.execute_reply": "2021-11-10T14:00:09.490659Z"
    },
    "papermill": {
     "duration": 0.79832,
     "end_time": "2021-11-10T14:00:09.491128",
     "exception": false,
     "start_time": "2021-11-10T14:00:08.692808",
     "status": "completed"
    },
    "tags": []
   },
   "outputs": [],
   "source": [
    "timestamps = pd.read_sql(\"select distinct record_time from EBAY_TOP_BERLIN order by record_time desc limit 2\", sqlite3.connect(\"UsedObjects.db\"))"
   ]
  },
  {
   "cell_type": "code",
   "execution_count": 3,
   "id": "periodic-identification",
   "metadata": {
    "execution": {
     "iopub.execute_input": "2021-11-10T14:00:09.560460Z",
     "iopub.status.busy": "2021-11-10T14:00:09.558192Z",
     "iopub.status.idle": "2021-11-10T14:00:09.580934Z",
     "shell.execute_reply": "2021-11-10T14:00:09.582375Z"
    },
    "papermill": {
     "duration": 0.072526,
     "end_time": "2021-11-10T14:00:09.582867",
     "exception": false,
     "start_time": "2021-11-10T14:00:09.510341",
     "status": "completed"
    },
    "tags": []
   },
   "outputs": [
    {
     "data": {
      "text/html": [
       "<div>\n",
       "<style scoped>\n",
       "    .dataframe tbody tr th:only-of-type {\n",
       "        vertical-align: middle;\n",
       "    }\n",
       "\n",
       "    .dataframe tbody tr th {\n",
       "        vertical-align: top;\n",
       "    }\n",
       "\n",
       "    .dataframe thead th {\n",
       "        text-align: right;\n",
       "    }\n",
       "</style>\n",
       "<table border=\"1\" class=\"dataframe\">\n",
       "  <thead>\n",
       "    <tr style=\"text-align: right;\">\n",
       "      <th></th>\n",
       "      <th>RECORD_TIME</th>\n",
       "    </tr>\n",
       "  </thead>\n",
       "  <tbody>\n",
       "    <tr>\n",
       "      <th>0</th>\n",
       "      <td>2021-11-10 15:00</td>\n",
       "    </tr>\n",
       "    <tr>\n",
       "      <th>1</th>\n",
       "      <td>2021-11-10 14:30</td>\n",
       "    </tr>\n",
       "  </tbody>\n",
       "</table>\n",
       "</div>"
      ],
      "text/plain": [
       "        RECORD_TIME\n",
       "0  2021-11-10 15:00\n",
       "1  2021-11-10 14:30"
      ]
     },
     "execution_count": 3,
     "metadata": {},
     "output_type": "execute_result"
    }
   ],
   "source": [
    "timestamps"
   ]
  },
  {
   "cell_type": "code",
   "execution_count": 4,
   "id": "alternate-victory",
   "metadata": {
    "execution": {
     "iopub.execute_input": "2021-11-10T14:00:09.639237Z",
     "iopub.status.busy": "2021-11-10T14:00:09.637028Z",
     "iopub.status.idle": "2021-11-10T14:00:10.740879Z",
     "shell.execute_reply": "2021-11-10T14:00:10.742396Z"
    },
    "papermill": {
     "duration": 1.13805,
     "end_time": "2021-11-10T14:00:10.742883",
     "exception": false,
     "start_time": "2021-11-10T14:00:09.604833",
     "status": "completed"
    },
    "tags": []
   },
   "outputs": [],
   "source": [
    "df = pd.read_sql(\"select * from EBAY_TOP_BERLIN where record_time in (select distinct record_time from EBAY_TOP_BERLIN order by record_time desc limit 2)\", sqlite3.connect(\"UsedObjects.db\"))"
   ]
  },
  {
   "cell_type": "code",
   "execution_count": 5,
   "id": "popular-active",
   "metadata": {
    "execution": {
     "iopub.execute_input": "2021-11-10T14:00:10.823206Z",
     "iopub.status.busy": "2021-11-10T14:00:10.815509Z",
     "iopub.status.idle": "2021-11-10T14:00:10.841984Z",
     "shell.execute_reply": "2021-11-10T14:00:10.843570Z"
    },
    "papermill": {
     "duration": 0.079588,
     "end_time": "2021-11-10T14:00:10.844253",
     "exception": false,
     "start_time": "2021-11-10T14:00:10.764665",
     "status": "completed"
    },
    "tags": []
   },
   "outputs": [],
   "source": [
    "df_pivot = df.pivot_table(index=\"PRODUCT\", columns = \"RECORD_TIME\", values = \"LISTING_COUNT\")"
   ]
  },
  {
   "cell_type": "code",
   "execution_count": 6,
   "id": "union-huntington",
   "metadata": {
    "execution": {
     "iopub.execute_input": "2021-11-10T14:00:10.907615Z",
     "iopub.status.busy": "2021-11-10T14:00:10.905381Z",
     "iopub.status.idle": "2021-11-10T14:00:10.911430Z",
     "shell.execute_reply": "2021-11-10T14:00:10.912924Z"
    },
    "papermill": {
     "duration": 0.045293,
     "end_time": "2021-11-10T14:00:10.913390",
     "exception": false,
     "start_time": "2021-11-10T14:00:10.868097",
     "status": "completed"
    },
    "tags": []
   },
   "outputs": [],
   "source": [
    "df_pivot.columns = [\"stamp_1\", \"stamp_2\"]\n",
    "df_pivot_diff = df_pivot.diff(axis=1)"
   ]
  },
  {
   "cell_type": "code",
   "execution_count": 7,
   "id": "fifth-motion",
   "metadata": {
    "execution": {
     "iopub.execute_input": "2021-11-10T14:00:10.979299Z",
     "iopub.status.busy": "2021-11-10T14:00:10.966874Z",
     "iopub.status.idle": "2021-11-10T14:00:12.699740Z",
     "shell.execute_reply": "2021-11-10T14:00:12.702499Z"
    },
    "papermill": {
     "duration": 1.769798,
     "end_time": "2021-11-10T14:00:12.703349",
     "exception": false,
     "start_time": "2021-11-10T14:00:10.933551",
     "status": "completed"
    },
    "tags": []
   },
   "outputs": [
    {
     "data": {
      "text/plain": [
       "<AxesSubplot:ylabel='PRODUCT'>"
      ]
     },
     "execution_count": 7,
     "metadata": {},
     "output_type": "execute_result"
    },
    {
     "data": {
      "image/png": "[encoded data removed]",
      "text/plain": [
       "<Figure size 432x288 with 1 Axes>"
      ]
     },
     "metadata": {
      "needs_background": "light"
     },
     "output_type": "display_data"
    }
   ],
   "source": [
    "df_pivot_diff.sort_values(\"stamp_2\", ascending = False)[\"stamp_2\"].head(10).plot.barh()"
   ]
  },
  {
   "cell_type": "code",
   "execution_count": null,
   "id": "extra-executive",
   "metadata": {
    "papermill": {
     "duration": 0.033686,
     "end_time": "2021-11-10T14:00:12.774781",
     "exception": false,
     "start_time": "2021-11-10T14:00:12.741095",
     "status": "completed"
    },
    "tags": []
   },
   "outputs": [],
   "source": []
  }
 ],
 "metadata": {
  "kernelspec": {
   "display_name": "Python 3",
   "language": "python",
   "name": "python3"
  },
  "language_info": {
   "codemirror_mode": {
    "name": "ipython",
    "version": 3
   },
   "file_extension": ".py",
   "mimetype": "text/x-python",
   "name": "python",
   "nbconvert_exporter": "python",
   "pygments_lexer": "ipython3",
   "version": "3.9.5"
  },
  "papermill": {
   "default_parameters": {},
   "duration": 8.726535,
   "end_time": "2021-11-10T14:00:13.644596",
   "environment_variables": {},
   "exception": null,
   "input_path": "eBay_Overview.ipynb",
   "output_path": "eBay_Overview.ipynb",
   "parameters": {},
   "start_time": "2021-11-10T14:00:04.918061",
   "version": "2.3.3"
  }
 },
 "nbformat": 4,
 "nbformat_minor": 5
}