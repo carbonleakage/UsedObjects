{
 "cells": [
  {
   "cell_type": "code",
   "execution_count": 1,
   "id": "reverse-picking",
   "metadata": {
    "execution": {
     "iopub.execute_input": "2021-10-27T16:30:07.374937Z",
     "iopub.status.busy": "2021-10-27T16:30:07.372875Z",
     "iopub.status.idle": "2021-10-27T16:30:08.177568Z",
     "shell.execute_reply": "2021-10-27T16:30:08.178839Z"
    },
    "papermill": {
     "duration": 0.85537,
     "end_time": "2021-10-27T16:30:08.179456",
     "exception": false,
     "start_time": "2021-10-27T16:30:07.324086",
     "status": "completed"
    },
    "tags": []
   },
   "outputs": [],
   "source": [
    "import pandas as pd\n",
    "import sqlite3"
   ]
  },
  {
   "cell_type": "code",
   "execution_count": 2,
   "id": "innovative-syndrome",
   "metadata": {
    "execution": {
     "iopub.execute_input": "2021-10-27T16:30:08.231546Z",
     "iopub.status.busy": "2021-10-27T16:30:08.229220Z",
     "iopub.status.idle": "2021-10-27T16:30:08.881279Z",
     "shell.execute_reply": "2021-10-27T16:30:08.882508Z"
    },
    "papermill": {
     "duration": 0.681855,
     "end_time": "2021-10-27T16:30:08.882909",
     "exception": false,
     "start_time": "2021-10-27T16:30:08.201054",
     "status": "completed"
    },
    "tags": []
   },
   "outputs": [],
   "source": [
    "timestamps = pd.read_sql(\"select distinct record_time from EBAY_TOP_BERLIN order by record_time desc limit 2\", sqlite3.connect(\"UsedObjects.db\"))"
   ]
  },
  {
   "cell_type": "code",
   "execution_count": 3,
   "id": "periodic-identification",
   "metadata": {
    "execution": {
     "iopub.execute_input": "2021-10-27T16:30:08.959637Z",
     "iopub.status.busy": "2021-10-27T16:30:08.957622Z",
     "iopub.status.idle": "2021-10-27T16:30:08.977452Z",
     "shell.execute_reply": "2021-10-27T16:30:08.978775Z"
    },
    "papermill": {
     "duration": 0.070051,
     "end_time": "2021-10-27T16:30:08.979194",
     "exception": false,
     "start_time": "2021-10-27T16:30:08.909143",
     "status": "completed"
    },
    "tags": []
   },
   "outputs": [
    {
     "data": {
      "text/html": [
       "<div>\n",
       "<style scoped>\n",
       "    .dataframe tbody tr th:only-of-type {\n",
       "        vertical-align: middle;\n",
       "    }\n",
       "\n",
       "    .dataframe tbody tr th {\n",
       "        vertical-align: top;\n",
       "    }\n",
       "\n",
       "    .dataframe thead th {\n",
       "        text-align: right;\n",
       "    }\n",
       "</style>\n",
       "<table border=\"1\" class=\"dataframe\">\n",
       "  <thead>\n",
       "    <tr style=\"text-align: right;\">\n",
       "      <th></th>\n",
       "      <th>RECORD_TIME</th>\n",
       "    </tr>\n",
       "  </thead>\n",
       "  <tbody>\n",
       "    <tr>\n",
       "      <th>0</th>\n",
       "      <td>2021-10-27 18:30</td>\n",
       "    </tr>\n",
       "    <tr>\n",
       "      <th>1</th>\n",
       "      <td>2021-10-27 18:00</td>\n",
       "    </tr>\n",
       "  </tbody>\n",
       "</table>\n",
       "</div>"
      ],
      "text/plain": [
       "        RECORD_TIME\n",
       "0  2021-10-27 18:30\n",
       "1  2021-10-27 18:00"
      ]
     },
     "execution_count": 3,
     "metadata": {},
     "output_type": "execute_result"
    }
   ],
   "source": [
    "timestamps"
   ]
  },
  {
   "cell_type": "code",
   "execution_count": 4,
   "id": "alternate-victory",
   "metadata": {
    "execution": {
     "iopub.execute_input": "2021-10-27T16:30:09.030894Z",
     "iopub.status.busy": "2021-10-27T16:30:09.028659Z",
     "iopub.status.idle": "2021-10-27T16:30:09.974180Z",
     "shell.execute_reply": "2021-10-27T16:30:09.975540Z"
    },
    "papermill": {
     "duration": 0.975632,
     "end_time": "2021-10-27T16:30:09.975958",
     "exception": false,
     "start_time": "2021-10-27T16:30:09.000326",
     "status": "completed"
    },
    "tags": []
   },
   "outputs": [],
   "source": [
    "df = pd.read_sql(\"select * from EBAY_TOP_BERLIN where record_time in (select distinct record_time from EBAY_TOP_BERLIN order by record_time desc limit 2)\", sqlite3.connect(\"UsedObjects.db\"))"
   ]
  },
  {
   "cell_type": "code",
   "execution_count": 5,
   "id": "popular-active",
   "metadata": {
    "execution": {
     "iopub.execute_input": "2021-10-27T16:30:10.046479Z",
     "iopub.status.busy": "2021-10-27T16:30:10.035418Z",
     "iopub.status.idle": "2021-10-27T16:30:10.063023Z",
     "shell.execute_reply": "2021-10-27T16:30:10.064402Z"
    },
    "papermill": {
     "duration": 0.068841,
     "end_time": "2021-10-27T16:30:10.065029",
     "exception": false,
     "start_time": "2021-10-27T16:30:09.996188",
     "status": "completed"
    },
    "tags": []
   },
   "outputs": [],
   "source": [
    "df_pivot = df.pivot_table(index=\"PRODUCT\", columns = \"RECORD_TIME\", values = \"LISTING_COUNT\")"
   ]
  },
  {
   "cell_type": "code",
   "execution_count": 6,
   "id": "union-huntington",
   "metadata": {
    "execution": {
     "iopub.execute_input": "2021-10-27T16:30:10.124671Z",
     "iopub.status.busy": "2021-10-27T16:30:10.122238Z",
     "iopub.status.idle": "2021-10-27T16:30:10.128102Z",
     "shell.execute_reply": "2021-10-27T16:30:10.129470Z"
    },
    "papermill": {
     "duration": 0.042465,
     "end_time": "2021-10-27T16:30:10.129901",
     "exception": false,
     "start_time": "2021-10-27T16:30:10.087436",
     "status": "completed"
    },
    "tags": []
   },
   "outputs": [],
   "source": [
    "df_pivot.columns = [\"stamp_1\", \"stamp_2\"]\n",
    "df_pivot_diff = df_pivot.diff(axis=1)"
   ]
  },
  {
   "cell_type": "code",
   "execution_count": 7,
   "id": "fifth-motion",
   "metadata": {
    "execution": {
     "iopub.execute_input": "2021-10-27T16:30:10.183853Z",
     "iopub.status.busy": "2021-10-27T16:30:10.181668Z",
     "iopub.status.idle": "2021-10-27T16:30:11.666960Z",
     "shell.execute_reply": "2021-10-27T16:30:11.668245Z"
    },
    "papermill": {
     "duration": 1.518125,
     "end_time": "2021-10-27T16:30:11.668662",
     "exception": false,
     "start_time": "2021-10-27T16:30:10.150537",
     "status": "completed"
    },
    "tags": []
   },
   "outputs": [
    {
     "data": {
      "text/plain": [
       "<AxesSubplot:ylabel='PRODUCT'>"
      ]
     },
     "execution_count": 7,
     "metadata": {},
     "output_type": "execute_result"
    },
    {
     "data": {
      "image/png": "[encoded data removed]",
      "text/plain": [
       "<Figure size 432x288 with 1 Axes>"
      ]
     },
     "metadata": {
      "needs_background": "light"
     },
     "output_type": "display_data"
    }
   ],
   "source": [
    "df_pivot_diff.sort_values(\"stamp_2\", ascending = False)[\"stamp_2\"].head(10).plot.barh()"
   ]
  },
  {
   "cell_type": "code",
   "execution_count": null,
   "id": "extra-executive",
   "metadata": {
    "papermill": {
     "duration": 0.022225,
     "end_time": "2021-10-27T16:30:11.715565",
     "exception": false,
     "start_time": "2021-10-27T16:30:11.693340",
     "status": "completed"
    },
    "tags": []
   },
   "outputs": [],
   "source": []
  }
 ],
 "metadata": {
  "kernelspec": {
   "display_name": "Python 3",
   "language": "python",
   "name": "python3"
  },
  "language_info": {
   "codemirror_mode": {
    "name": "ipython",
    "version": 3
   },
   "file_extension": ".py",
   "mimetype": "text/x-python",
   "name": "python",
   "nbconvert_exporter": "python",
   "pygments_lexer": "ipython3",
   "version": "3.9.5"
  },
  "papermill": {
   "default_parameters": {},
   "duration": 7.435434,
   "end_time": "2021-10-27T16:30:12.358093",
   "environment_variables": {},
   "exception": null,
   "input_path": "eBay_Overview.ipynb",
   "output_path": "eBay_Overview.ipynb",
   "parameters": {},
   "start_time": "2021-10-27T16:30:04.922659",
   "version": "2.3.3"
  }
 },
 "nbformat": 4,
 "nbformat_minor": 5
}