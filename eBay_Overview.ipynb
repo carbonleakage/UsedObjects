{
 "cells": [
  {
   "cell_type": "code",
   "execution_count": 1,
   "id": "reverse-picking",
   "metadata": {
    "execution": {
     "iopub.execute_input": "2021-09-20T17:00:07.444814Z",
     "iopub.status.busy": "2021-09-20T17:00:07.442875Z",
     "iopub.status.idle": "2021-09-20T17:00:08.244760Z",
     "shell.execute_reply": "2021-09-20T17:00:08.246143Z"
    },
    "papermill": {
     "duration": 0.853644,
     "end_time": "2021-09-20T17:00:08.246851",
     "exception": false,
     "start_time": "2021-09-20T17:00:07.393207",
     "status": "completed"
    },
    "tags": []
   },
   "outputs": [],
   "source": [
    "import pandas as pd\n",
    "import sqlite3"
   ]
  },
  {
   "cell_type": "code",
   "execution_count": 2,
   "id": "innovative-syndrome",
   "metadata": {
    "execution": {
     "iopub.execute_input": "2021-09-20T17:00:08.297924Z",
     "iopub.status.busy": "2021-09-20T17:00:08.295908Z",
     "iopub.status.idle": "2021-09-20T17:00:08.626504Z",
     "shell.execute_reply": "2021-09-20T17:00:08.627952Z"
    },
    "papermill": {
     "duration": 0.360788,
     "end_time": "2021-09-20T17:00:08.628392",
     "exception": false,
     "start_time": "2021-09-20T17:00:08.267604",
     "status": "completed"
    },
    "tags": []
   },
   "outputs": [],
   "source": [
    "timestamps = pd.read_sql(\"select distinct record_time from EBAY_TOP_BERLIN order by record_time desc limit 2\", sqlite3.connect(\"UsedObjects.db\"))"
   ]
  },
  {
   "cell_type": "code",
   "execution_count": 3,
   "id": "periodic-identification",
   "metadata": {
    "execution": {
     "iopub.execute_input": "2021-09-20T17:00:08.694012Z",
     "iopub.status.busy": "2021-09-20T17:00:08.692015Z",
     "iopub.status.idle": "2021-09-20T17:00:08.711782Z",
     "shell.execute_reply": "2021-09-20T17:00:08.713386Z"
    },
    "papermill": {
     "duration": 0.065759,
     "end_time": "2021-09-20T17:00:08.713933",
     "exception": false,
     "start_time": "2021-09-20T17:00:08.648174",
     "status": "completed"
    },
    "tags": []
   },
   "outputs": [
    {
     "data": {
      "text/html": [
       "<div>\n",
       "<style scoped>\n",
       "    .dataframe tbody tr th:only-of-type {\n",
       "        vertical-align: middle;\n",
       "    }\n",
       "\n",
       "    .dataframe tbody tr th {\n",
       "        vertical-align: top;\n",
       "    }\n",
       "\n",
       "    .dataframe thead th {\n",
       "        text-align: right;\n",
       "    }\n",
       "</style>\n",
       "<table border=\"1\" class=\"dataframe\">\n",
       "  <thead>\n",
       "    <tr style=\"text-align: right;\">\n",
       "      <th></th>\n",
       "      <th>RECORD_TIME</th>\n",
       "    </tr>\n",
       "  </thead>\n",
       "  <tbody>\n",
       "    <tr>\n",
       "      <th>0</th>\n",
       "      <td>2021-09-20 19:00</td>\n",
       "    </tr>\n",
       "    <tr>\n",
       "      <th>1</th>\n",
       "      <td>2021-09-20 18:30</td>\n",
       "    </tr>\n",
       "  </tbody>\n",
       "</table>\n",
       "</div>"
      ],
      "text/plain": [
       "        RECORD_TIME\n",
       "0  2021-09-20 19:00\n",
       "1  2021-09-20 18:30"
      ]
     },
     "execution_count": 3,
     "metadata": {},
     "output_type": "execute_result"
    }
   ],
   "source": [
    "timestamps"
   ]
  },
  {
   "cell_type": "code",
   "execution_count": 4,
   "id": "alternate-victory",
   "metadata": {
    "execution": {
     "iopub.execute_input": "2021-09-20T17:00:08.766715Z",
     "iopub.status.busy": "2021-09-20T17:00:08.764805Z",
     "iopub.status.idle": "2021-09-20T17:00:09.266620Z",
     "shell.execute_reply": "2021-09-20T17:00:09.267897Z"
    },
    "papermill": {
     "duration": 0.531917,
     "end_time": "2021-09-20T17:00:09.268297",
     "exception": false,
     "start_time": "2021-09-20T17:00:08.736380",
     "status": "completed"
    },
    "tags": []
   },
   "outputs": [],
   "source": [
    "df = pd.read_sql(\"select * from EBAY_TOP_BERLIN where record_time in (select distinct record_time from EBAY_TOP_BERLIN order by record_time desc limit 2)\", sqlite3.connect(\"UsedObjects.db\"))"
   ]
  },
  {
   "cell_type": "code",
   "execution_count": 5,
   "id": "popular-active",
   "metadata": {
    "execution": {
     "iopub.execute_input": "2021-09-20T17:00:09.348331Z",
     "iopub.status.busy": "2021-09-20T17:00:09.336027Z",
     "iopub.status.idle": "2021-09-20T17:00:09.364921Z",
     "shell.execute_reply": "2021-09-20T17:00:09.366200Z"
    },
    "papermill": {
     "duration": 0.072273,
     "end_time": "2021-09-20T17:00:09.366617",
     "exception": false,
     "start_time": "2021-09-20T17:00:09.294344",
     "status": "completed"
    },
    "tags": []
   },
   "outputs": [],
   "source": [
    "df_pivot = df.pivot_table(index=\"PRODUCT\", columns = \"RECORD_TIME\", values = \"LISTING_COUNT\")"
   ]
  },
  {
   "cell_type": "code",
   "execution_count": 6,
   "id": "union-huntington",
   "metadata": {
    "execution": {
     "iopub.execute_input": "2021-09-20T17:00:09.422637Z",
     "iopub.status.busy": "2021-09-20T17:00:09.420503Z",
     "iopub.status.idle": "2021-09-20T17:00:09.426078Z",
     "shell.execute_reply": "2021-09-20T17:00:09.427405Z"
    },
    "papermill": {
     "duration": 0.041303,
     "end_time": "2021-09-20T17:00:09.427860",
     "exception": false,
     "start_time": "2021-09-20T17:00:09.386557",
     "status": "completed"
    },
    "tags": []
   },
   "outputs": [],
   "source": [
    "df_pivot.columns = [\"stamp_1\", \"stamp_2\"]\n",
    "df_pivot_diff = df_pivot.diff(axis=1)"
   ]
  },
  {
   "cell_type": "code",
   "execution_count": 7,
   "id": "fifth-motion",
   "metadata": {
    "execution": {
     "iopub.execute_input": "2021-09-20T17:00:09.481603Z",
     "iopub.status.busy": "2021-09-20T17:00:09.479256Z",
     "iopub.status.idle": "2021-09-20T17:00:10.937064Z",
     "shell.execute_reply": "2021-09-20T17:00:10.938853Z"
    },
    "papermill": {
     "duration": 1.490917,
     "end_time": "2021-09-20T17:00:10.939399",
     "exception": false,
     "start_time": "2021-09-20T17:00:09.448482",
     "status": "completed"
    },
    "tags": []
   },
   "outputs": [
    {
     "data": {
      "text/plain": [
       "<AxesSubplot:ylabel='PRODUCT'>"
      ]
     },
     "execution_count": 7,
     "metadata": {},
     "output_type": "execute_result"
    },
    {
     "data": {
      "image/png": "[encoded data removed]",
      "text/plain": [
       "<Figure size 432x288 with 1 Axes>"
      ]
     },
     "metadata": {
      "needs_background": "light"
     },
     "output_type": "display_data"
    }
   ],
   "source": [
    "df_pivot_diff.sort_values(\"stamp_2\", ascending = False)[\"stamp_2\"].head(10).plot.barh()"
   ]
  },
  {
   "cell_type": "code",
   "execution_count": null,
   "id": "extra-executive",
   "metadata": {
    "papermill": {
     "duration": 0.021861,
     "end_time": "2021-09-20T17:00:10.986453",
     "exception": false,
     "start_time": "2021-09-20T17:00:10.964592",
     "status": "completed"
    },
    "tags": []
   },
   "outputs": [],
   "source": []
  }
 ],
 "metadata": {
  "kernelspec": {
   "display_name": "Python 3",
   "language": "python",
   "name": "python3"
  },
  "language_info": {
   "codemirror_mode": {
    "name": "ipython",
    "version": 3
   },
   "file_extension": ".py",
   "mimetype": "text/x-python",
   "name": "python",
   "nbconvert_exporter": "python",
   "pygments_lexer": "ipython3",
   "version": "3.9.5"
  },
  "papermill": {
   "default_parameters": {},
   "duration": 8.816869,
   "end_time": "2021-09-20T17:00:13.817925",
   "environment_variables": {},
   "exception": null,
   "input_path": "eBay_Overview.ipynb",
   "output_path": "eBay_Overview.ipynb",
   "parameters": {},
   "start_time": "2021-09-20T17:00:05.001056",
   "version": "2.3.3"
  }
 },
 "nbformat": 4,
 "nbformat_minor": 5
}