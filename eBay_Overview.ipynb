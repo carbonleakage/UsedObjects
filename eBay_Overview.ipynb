{
 "cells": [
  {
   "cell_type": "code",
   "execution_count": 1,
   "id": "reverse-picking",
   "metadata": {
    "execution": {
     "iopub.execute_input": "2021-11-19T14:30:08.024874Z",
     "iopub.status.busy": "2021-11-19T14:30:08.022623Z",
     "iopub.status.idle": "2021-11-19T14:30:08.982763Z",
     "shell.execute_reply": "2021-11-19T14:30:08.984400Z"
    },
    "papermill": {
     "duration": 1.007978,
     "end_time": "2021-11-19T14:30:08.985214",
     "exception": false,
     "start_time": "2021-11-19T14:30:07.977236",
     "status": "completed"
    },
    "tags": []
   },
   "outputs": [],
   "source": [
    "import pandas as pd\n",
    "import sqlite3"
   ]
  },
  {
   "cell_type": "code",
   "execution_count": 2,
   "id": "innovative-syndrome",
   "metadata": {
    "execution": {
     "iopub.execute_input": "2021-11-19T14:30:09.048918Z",
     "iopub.status.busy": "2021-11-19T14:30:09.046545Z",
     "iopub.status.idle": "2021-11-19T14:30:09.918784Z",
     "shell.execute_reply": "2021-11-19T14:30:09.920044Z"
    },
    "papermill": {
     "duration": 0.907913,
     "end_time": "2021-11-19T14:30:09.920516",
     "exception": false,
     "start_time": "2021-11-19T14:30:09.012603",
     "status": "completed"
    },
    "tags": []
   },
   "outputs": [],
   "source": [
    "timestamps = pd.read_sql(\"select distinct record_time from EBAY_TOP_BERLIN order by record_time desc limit 2\", sqlite3.connect(\"UsedObjects.db\"))"
   ]
  },
  {
   "cell_type": "code",
   "execution_count": 3,
   "id": "periodic-identification",
   "metadata": {
    "execution": {
     "iopub.execute_input": "2021-11-19T14:30:09.993242Z",
     "iopub.status.busy": "2021-11-19T14:30:09.987488Z",
     "iopub.status.idle": "2021-11-19T14:30:10.009557Z",
     "shell.execute_reply": "2021-11-19T14:30:10.011641Z"
    },
    "papermill": {
     "duration": 0.071439,
     "end_time": "2021-11-19T14:30:10.012148",
     "exception": false,
     "start_time": "2021-11-19T14:30:09.940709",
     "status": "completed"
    },
    "tags": []
   },
   "outputs": [
    {
     "data": {
      "text/html": [
       "<div>\n",
       "<style scoped>\n",
       "    .dataframe tbody tr th:only-of-type {\n",
       "        vertical-align: middle;\n",
       "    }\n",
       "\n",
       "    .dataframe tbody tr th {\n",
       "        vertical-align: top;\n",
       "    }\n",
       "\n",
       "    .dataframe thead th {\n",
       "        text-align: right;\n",
       "    }\n",
       "</style>\n",
       "<table border=\"1\" class=\"dataframe\">\n",
       "  <thead>\n",
       "    <tr style=\"text-align: right;\">\n",
       "      <th></th>\n",
       "      <th>RECORD_TIME</th>\n",
       "    </tr>\n",
       "  </thead>\n",
       "  <tbody>\n",
       "    <tr>\n",
       "      <th>0</th>\n",
       "      <td>2021-11-19 15:30</td>\n",
       "    </tr>\n",
       "    <tr>\n",
       "      <th>1</th>\n",
       "      <td>2021-11-19 15:00</td>\n",
       "    </tr>\n",
       "  </tbody>\n",
       "</table>\n",
       "</div>"
      ],
      "text/plain": [
       "        RECORD_TIME\n",
       "0  2021-11-19 15:30\n",
       "1  2021-11-19 15:00"
      ]
     },
     "execution_count": 3,
     "metadata": {},
     "output_type": "execute_result"
    }
   ],
   "source": [
    "timestamps"
   ]
  },
  {
   "cell_type": "code",
   "execution_count": 4,
   "id": "alternate-victory",
   "metadata": {
    "execution": {
     "iopub.execute_input": "2021-11-19T14:30:10.066284Z",
     "iopub.status.busy": "2021-11-19T14:30:10.064063Z",
     "iopub.status.idle": "2021-11-19T14:30:11.302724Z",
     "shell.execute_reply": "2021-11-19T14:30:11.305036Z"
    },
    "papermill": {
     "duration": 1.272763,
     "end_time": "2021-11-19T14:30:11.305512",
     "exception": false,
     "start_time": "2021-11-19T14:30:10.032749",
     "status": "completed"
    },
    "tags": []
   },
   "outputs": [],
   "source": [
    "df = pd.read_sql(\"select * from EBAY_TOP_BERLIN where record_time in (select distinct record_time from EBAY_TOP_BERLIN order by record_time desc limit 2)\", sqlite3.connect(\"UsedObjects.db\"))"
   ]
  },
  {
   "cell_type": "code",
   "execution_count": 5,
   "id": "popular-active",
   "metadata": {
    "execution": {
     "iopub.execute_input": "2021-11-19T14:30:11.385550Z",
     "iopub.status.busy": "2021-11-19T14:30:11.371435Z",
     "iopub.status.idle": "2021-11-19T14:30:11.403339Z",
     "shell.execute_reply": "2021-11-19T14:30:11.404750Z"
    },
    "papermill": {
     "duration": 0.077508,
     "end_time": "2021-11-19T14:30:11.405227",
     "exception": false,
     "start_time": "2021-11-19T14:30:11.327719",
     "status": "completed"
    },
    "tags": []
   },
   "outputs": [],
   "source": [
    "df_pivot = df.pivot_table(index=\"PRODUCT\", columns = \"RECORD_TIME\", values = \"LISTING_COUNT\")"
   ]
  },
  {
   "cell_type": "code",
   "execution_count": 6,
   "id": "union-huntington",
   "metadata": {
    "execution": {
     "iopub.execute_input": "2021-11-19T14:30:11.464176Z",
     "iopub.status.busy": "2021-11-19T14:30:11.461994Z",
     "iopub.status.idle": "2021-11-19T14:30:11.467011Z",
     "shell.execute_reply": "2021-11-19T14:30:11.468937Z"
    },
    "papermill": {
     "duration": 0.044086,
     "end_time": "2021-11-19T14:30:11.469425",
     "exception": false,
     "start_time": "2021-11-19T14:30:11.425339",
     "status": "completed"
    },
    "tags": []
   },
   "outputs": [],
   "source": [
    "df_pivot.columns = [\"stamp_1\", \"stamp_2\"]\n",
    "df_pivot_diff = df_pivot.diff(axis=1)"
   ]
  },
  {
   "cell_type": "code",
   "execution_count": 7,
   "id": "fifth-motion",
   "metadata": {
    "execution": {
     "iopub.execute_input": "2021-11-19T14:30:11.542748Z",
     "iopub.status.busy": "2021-11-19T14:30:11.538402Z",
     "iopub.status.idle": "2021-11-19T14:30:13.313257Z",
     "shell.execute_reply": "2021-11-19T14:30:13.315484Z"
    },
    "papermill": {
     "duration": 1.824937,
     "end_time": "2021-11-19T14:30:13.316113",
     "exception": false,
     "start_time": "2021-11-19T14:30:11.491176",
     "status": "completed"
    },
    "tags": []
   },
   "outputs": [
    {
     "data": {
      "text/plain": [
       "<AxesSubplot:ylabel='PRODUCT'>"
      ]
     },
     "execution_count": 7,
     "metadata": {},
     "output_type": "execute_result"
    },
    {
     "data": {
      "image/png": "[encoded data removed]",
      "text/plain": [
       "<Figure size 432x288 with 1 Axes>"
      ]
     },
     "metadata": {
      "needs_background": "light"
     },
     "output_type": "display_data"
    }
   ],
   "source": [
    "df_pivot_diff.sort_values(\"stamp_2\", ascending = False)[\"stamp_2\"].head(10).plot.barh()"
   ]
  },
  {
   "cell_type": "code",
   "execution_count": null,
   "id": "extra-executive",
   "metadata": {
    "papermill": {
     "duration": 0.037144,
     "end_time": "2021-11-19T14:30:13.389351",
     "exception": false,
     "start_time": "2021-11-19T14:30:13.352207",
     "status": "completed"
    },
    "tags": []
   },
   "outputs": [],
   "source": []
  }
 ],
 "metadata": {
  "kernelspec": {
   "display_name": "Python 3",
   "language": "python",
   "name": "python3"
  },
  "language_info": {
   "codemirror_mode": {
    "name": "ipython",
    "version": 3
   },
   "file_extension": ".py",
   "mimetype": "text/x-python",
   "name": "python",
   "nbconvert_exporter": "python",
   "pygments_lexer": "ipython3",
   "version": "3.9.5"
  },
  "papermill": {
   "default_parameters": {},
   "duration": 9.971749,
   "end_time": "2021-11-19T14:30:15.174283",
   "environment_variables": {},
   "exception": null,
   "input_path": "eBay_Overview.ipynb",
   "output_path": "eBay_Overview.ipynb",
   "parameters": {},
   "start_time": "2021-11-19T14:30:05.202534",
   "version": "2.3.3"
  }
 },
 "nbformat": 4,
 "nbformat_minor": 5
}