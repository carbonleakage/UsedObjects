{
 "cells": [
  {
   "cell_type": "code",
   "execution_count": 1,
   "id": "reverse-picking",
   "metadata": {
    "execution": {
     "iopub.execute_input": "2021-10-23T21:00:07.486729Z",
     "iopub.status.busy": "2021-10-23T21:00:07.484743Z",
     "iopub.status.idle": "2021-10-23T21:00:08.290216Z",
     "shell.execute_reply": "2021-10-23T21:00:08.291460Z"
    },
    "papermill": {
     "duration": 0.859131,
     "end_time": "2021-10-23T21:00:08.292077",
     "exception": false,
     "start_time": "2021-10-23T21:00:07.432946",
     "status": "completed"
    },
    "tags": []
   },
   "outputs": [],
   "source": [
    "import pandas as pd\n",
    "import sqlite3"
   ]
  },
  {
   "cell_type": "code",
   "execution_count": 2,
   "id": "innovative-syndrome",
   "metadata": {
    "execution": {
     "iopub.execute_input": "2021-10-23T21:00:08.341936Z",
     "iopub.status.busy": "2021-10-23T21:00:08.339965Z",
     "iopub.status.idle": "2021-10-23T21:00:08.963317Z",
     "shell.execute_reply": "2021-10-23T21:00:08.964531Z"
    },
    "papermill": {
     "duration": 0.652917,
     "end_time": "2021-10-23T21:00:08.965133",
     "exception": false,
     "start_time": "2021-10-23T21:00:08.312216",
     "status": "completed"
    },
    "tags": []
   },
   "outputs": [],
   "source": [
    "timestamps = pd.read_sql(\"select distinct record_time from EBAY_TOP_BERLIN order by record_time desc limit 2\", sqlite3.connect(\"UsedObjects.db\"))"
   ]
  },
  {
   "cell_type": "code",
   "execution_count": 3,
   "id": "periodic-identification",
   "metadata": {
    "execution": {
     "iopub.execute_input": "2021-10-23T21:00:09.041590Z",
     "iopub.status.busy": "2021-10-23T21:00:09.039484Z",
     "iopub.status.idle": "2021-10-23T21:00:09.059576Z",
     "shell.execute_reply": "2021-10-23T21:00:09.060941Z"
    },
    "papermill": {
     "duration": 0.068289,
     "end_time": "2021-10-23T21:00:09.061371",
     "exception": false,
     "start_time": "2021-10-23T21:00:08.993082",
     "status": "completed"
    },
    "tags": []
   },
   "outputs": [
    {
     "data": {
      "text/html": [
       "<div>\n",
       "<style scoped>\n",
       "    .dataframe tbody tr th:only-of-type {\n",
       "        vertical-align: middle;\n",
       "    }\n",
       "\n",
       "    .dataframe tbody tr th {\n",
       "        vertical-align: top;\n",
       "    }\n",
       "\n",
       "    .dataframe thead th {\n",
       "        text-align: right;\n",
       "    }\n",
       "</style>\n",
       "<table border=\"1\" class=\"dataframe\">\n",
       "  <thead>\n",
       "    <tr style=\"text-align: right;\">\n",
       "      <th></th>\n",
       "      <th>RECORD_TIME</th>\n",
       "    </tr>\n",
       "  </thead>\n",
       "  <tbody>\n",
       "    <tr>\n",
       "      <th>0</th>\n",
       "      <td>2021-10-23 23:00</td>\n",
       "    </tr>\n",
       "    <tr>\n",
       "      <th>1</th>\n",
       "      <td>2021-10-23 22:30</td>\n",
       "    </tr>\n",
       "  </tbody>\n",
       "</table>\n",
       "</div>"
      ],
      "text/plain": [
       "        RECORD_TIME\n",
       "0  2021-10-23 23:00\n",
       "1  2021-10-23 22:30"
      ]
     },
     "execution_count": 3,
     "metadata": {},
     "output_type": "execute_result"
    }
   ],
   "source": [
    "timestamps"
   ]
  },
  {
   "cell_type": "code",
   "execution_count": 4,
   "id": "alternate-victory",
   "metadata": {
    "execution": {
     "iopub.execute_input": "2021-10-23T21:00:09.113519Z",
     "iopub.status.busy": "2021-10-23T21:00:09.111582Z",
     "iopub.status.idle": "2021-10-23T21:00:10.019142Z",
     "shell.execute_reply": "2021-10-23T21:00:10.017813Z"
    },
    "papermill": {
     "duration": 0.936147,
     "end_time": "2021-10-23T21:00:10.019489",
     "exception": false,
     "start_time": "2021-10-23T21:00:09.083342",
     "status": "completed"
    },
    "tags": []
   },
   "outputs": [],
   "source": [
    "df = pd.read_sql(\"select * from EBAY_TOP_BERLIN where record_time in (select distinct record_time from EBAY_TOP_BERLIN order by record_time desc limit 2)\", sqlite3.connect(\"UsedObjects.db\"))"
   ]
  },
  {
   "cell_type": "code",
   "execution_count": 5,
   "id": "popular-active",
   "metadata": {
    "execution": {
     "iopub.execute_input": "2021-10-23T21:00:10.091590Z",
     "iopub.status.busy": "2021-10-23T21:00:10.078617Z",
     "iopub.status.idle": "2021-10-23T21:00:10.108146Z",
     "shell.execute_reply": "2021-10-23T21:00:10.109504Z"
    },
    "papermill": {
     "duration": 0.068255,
     "end_time": "2021-10-23T21:00:10.109925",
     "exception": false,
     "start_time": "2021-10-23T21:00:10.041670",
     "status": "completed"
    },
    "tags": []
   },
   "outputs": [],
   "source": [
    "df_pivot = df.pivot_table(index=\"PRODUCT\", columns = \"RECORD_TIME\", values = \"LISTING_COUNT\")"
   ]
  },
  {
   "cell_type": "code",
   "execution_count": 6,
   "id": "union-huntington",
   "metadata": {
    "execution": {
     "iopub.execute_input": "2021-10-23T21:00:10.166011Z",
     "iopub.status.busy": "2021-10-23T21:00:10.163896Z",
     "iopub.status.idle": "2021-10-23T21:00:10.169213Z",
     "shell.execute_reply": "2021-10-23T21:00:10.170520Z"
    },
    "papermill": {
     "duration": 0.04083,
     "end_time": "2021-10-23T21:00:10.170941",
     "exception": false,
     "start_time": "2021-10-23T21:00:10.130111",
     "status": "completed"
    },
    "tags": []
   },
   "outputs": [],
   "source": [
    "df_pivot.columns = [\"stamp_1\", \"stamp_2\"]\n",
    "df_pivot_diff = df_pivot.diff(axis=1)"
   ]
  },
  {
   "cell_type": "code",
   "execution_count": 7,
   "id": "fifth-motion",
   "metadata": {
    "execution": {
     "iopub.execute_input": "2021-10-23T21:00:10.226300Z",
     "iopub.status.busy": "2021-10-23T21:00:10.223733Z",
     "iopub.status.idle": "2021-10-23T21:00:11.731395Z",
     "shell.execute_reply": "2021-10-23T21:00:11.732668Z"
    },
    "papermill": {
     "duration": 1.540913,
     "end_time": "2021-10-23T21:00:11.733185",
     "exception": false,
     "start_time": "2021-10-23T21:00:10.192272",
     "status": "completed"
    },
    "tags": []
   },
   "outputs": [
    {
     "data": {
      "text/plain": [
       "<AxesSubplot:ylabel='PRODUCT'>"
      ]
     },
     "execution_count": 7,
     "metadata": {},
     "output_type": "execute_result"
    },
    {
     "data": {
      "image/png": "[encoded data removed]",
      "text/plain": [
       "<Figure size 432x288 with 1 Axes>"
      ]
     },
     "metadata": {
      "needs_background": "light"
     },
     "output_type": "display_data"
    }
   ],
   "source": [
    "df_pivot_diff.sort_values(\"stamp_2\", ascending = False)[\"stamp_2\"].head(10).plot.barh()"
   ]
  },
  {
   "cell_type": "code",
   "execution_count": null,
   "id": "extra-executive",
   "metadata": {
    "papermill": {
     "duration": 0.022111,
     "end_time": "2021-10-23T21:00:11.780007",
     "exception": false,
     "start_time": "2021-10-23T21:00:11.757896",
     "status": "completed"
    },
    "tags": []
   },
   "outputs": [],
   "source": []
  }
 ],
 "metadata": {
  "kernelspec": {
   "display_name": "Python 3",
   "language": "python",
   "name": "python3"
  },
  "language_info": {
   "codemirror_mode": {
    "name": "ipython",
    "version": 3
   },
   "file_extension": ".py",
   "mimetype": "text/x-python",
   "name": "python",
   "nbconvert_exporter": "python",
   "pygments_lexer": "ipython3",
   "version": "3.9.5"
  },
  "papermill": {
   "default_parameters": {},
   "duration": 7.39747,
   "end_time": "2021-10-23T21:00:12.423322",
   "environment_variables": {},
   "exception": null,
   "input_path": "eBay_Overview.ipynb",
   "output_path": "eBay_Overview.ipynb",
   "parameters": {},
   "start_time": "2021-10-23T21:00:05.025852",
   "version": "2.3.3"
  }
 },
 "nbformat": 4,
 "nbformat_minor": 5
}