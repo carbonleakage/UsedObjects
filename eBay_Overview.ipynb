{
 "cells": [
  {
   "cell_type": "code",
   "execution_count": 1,
   "id": "reverse-picking",
   "metadata": {
    "execution": {
     "iopub.execute_input": "2021-10-24T12:00:07.074762Z",
     "iopub.status.busy": "2021-10-24T12:00:07.072806Z",
     "iopub.status.idle": "2021-10-24T12:00:07.885746Z",
     "shell.execute_reply": "2021-10-24T12:00:07.887175Z"
    },
    "papermill": {
     "duration": 0.864572,
     "end_time": "2021-10-24T12:00:07.887868",
     "exception": false,
     "start_time": "2021-10-24T12:00:07.023296",
     "status": "completed"
    },
    "tags": []
   },
   "outputs": [],
   "source": [
    "import pandas as pd\n",
    "import sqlite3"
   ]
  },
  {
   "cell_type": "code",
   "execution_count": 2,
   "id": "innovative-syndrome",
   "metadata": {
    "execution": {
     "iopub.execute_input": "2021-10-24T12:00:07.939872Z",
     "iopub.status.busy": "2021-10-24T12:00:07.937760Z",
     "iopub.status.idle": "2021-10-24T12:00:08.551687Z",
     "shell.execute_reply": "2021-10-24T12:00:08.552956Z"
    },
    "papermill": {
     "duration": 0.644157,
     "end_time": "2021-10-24T12:00:08.553371",
     "exception": false,
     "start_time": "2021-10-24T12:00:07.909214",
     "status": "completed"
    },
    "tags": []
   },
   "outputs": [],
   "source": [
    "timestamps = pd.read_sql(\"select distinct record_time from EBAY_TOP_BERLIN order by record_time desc limit 2\", sqlite3.connect(\"UsedObjects.db\"))"
   ]
  },
  {
   "cell_type": "code",
   "execution_count": 3,
   "id": "periodic-identification",
   "metadata": {
    "execution": {
     "iopub.execute_input": "2021-10-24T12:00:08.628568Z",
     "iopub.status.busy": "2021-10-24T12:00:08.626555Z",
     "iopub.status.idle": "2021-10-24T12:00:08.646511Z",
     "shell.execute_reply": "2021-10-24T12:00:08.647635Z"
    },
    "papermill": {
     "duration": 0.068673,
     "end_time": "2021-10-24T12:00:08.648041",
     "exception": false,
     "start_time": "2021-10-24T12:00:08.579368",
     "status": "completed"
    },
    "tags": []
   },
   "outputs": [
    {
     "data": {
      "text/html": [
       "<div>\n",
       "<style scoped>\n",
       "    .dataframe tbody tr th:only-of-type {\n",
       "        vertical-align: middle;\n",
       "    }\n",
       "\n",
       "    .dataframe tbody tr th {\n",
       "        vertical-align: top;\n",
       "    }\n",
       "\n",
       "    .dataframe thead th {\n",
       "        text-align: right;\n",
       "    }\n",
       "</style>\n",
       "<table border=\"1\" class=\"dataframe\">\n",
       "  <thead>\n",
       "    <tr style=\"text-align: right;\">\n",
       "      <th></th>\n",
       "      <th>RECORD_TIME</th>\n",
       "    </tr>\n",
       "  </thead>\n",
       "  <tbody>\n",
       "    <tr>\n",
       "      <th>0</th>\n",
       "      <td>2021-10-24 14:00</td>\n",
       "    </tr>\n",
       "    <tr>\n",
       "      <th>1</th>\n",
       "      <td>2021-10-24 13:30</td>\n",
       "    </tr>\n",
       "  </tbody>\n",
       "</table>\n",
       "</div>"
      ],
      "text/plain": [
       "        RECORD_TIME\n",
       "0  2021-10-24 14:00\n",
       "1  2021-10-24 13:30"
      ]
     },
     "execution_count": 3,
     "metadata": {},
     "output_type": "execute_result"
    }
   ],
   "source": [
    "timestamps"
   ]
  },
  {
   "cell_type": "code",
   "execution_count": 4,
   "id": "alternate-victory",
   "metadata": {
    "execution": {
     "iopub.execute_input": "2021-10-24T12:00:08.702737Z",
     "iopub.status.busy": "2021-10-24T12:00:08.700332Z",
     "iopub.status.idle": "2021-10-24T12:00:09.616442Z",
     "shell.execute_reply": "2021-10-24T12:00:09.615146Z"
    },
    "papermill": {
     "duration": 0.945275,
     "end_time": "2021-10-24T12:00:09.616829",
     "exception": false,
     "start_time": "2021-10-24T12:00:08.671554",
     "status": "completed"
    },
    "tags": []
   },
   "outputs": [],
   "source": [
    "df = pd.read_sql(\"select * from EBAY_TOP_BERLIN where record_time in (select distinct record_time from EBAY_TOP_BERLIN order by record_time desc limit 2)\", sqlite3.connect(\"UsedObjects.db\"))"
   ]
  },
  {
   "cell_type": "code",
   "execution_count": 5,
   "id": "popular-active",
   "metadata": {
    "execution": {
     "iopub.execute_input": "2021-10-24T12:00:09.688092Z",
     "iopub.status.busy": "2021-10-24T12:00:09.675344Z",
     "iopub.status.idle": "2021-10-24T12:00:09.704912Z",
     "shell.execute_reply": "2021-10-24T12:00:09.706304Z"
    },
    "papermill": {
     "duration": 0.068412,
     "end_time": "2021-10-24T12:00:09.706741",
     "exception": false,
     "start_time": "2021-10-24T12:00:09.638329",
     "status": "completed"
    },
    "tags": []
   },
   "outputs": [],
   "source": [
    "df_pivot = df.pivot_table(index=\"PRODUCT\", columns = \"RECORD_TIME\", values = \"LISTING_COUNT\")"
   ]
  },
  {
   "cell_type": "code",
   "execution_count": 6,
   "id": "union-huntington",
   "metadata": {
    "execution": {
     "iopub.execute_input": "2021-10-24T12:00:09.764913Z",
     "iopub.status.busy": "2021-10-24T12:00:09.762444Z",
     "iopub.status.idle": "2021-10-24T12:00:09.768280Z",
     "shell.execute_reply": "2021-10-24T12:00:09.769619Z"
    },
    "papermill": {
     "duration": 0.04264,
     "end_time": "2021-10-24T12:00:09.770038",
     "exception": false,
     "start_time": "2021-10-24T12:00:09.727398",
     "status": "completed"
    },
    "tags": []
   },
   "outputs": [],
   "source": [
    "df_pivot.columns = [\"stamp_1\", \"stamp_2\"]\n",
    "df_pivot_diff = df_pivot.diff(axis=1)"
   ]
  },
  {
   "cell_type": "code",
   "execution_count": 7,
   "id": "fifth-motion",
   "metadata": {
    "execution": {
     "iopub.execute_input": "2021-10-24T12:00:09.824105Z",
     "iopub.status.busy": "2021-10-24T12:00:09.821920Z",
     "iopub.status.idle": "2021-10-24T12:00:11.320745Z",
     "shell.execute_reply": "2021-10-24T12:00:11.322178Z"
    },
    "papermill": {
     "duration": 1.531692,
     "end_time": "2021-10-24T12:00:11.322615",
     "exception": false,
     "start_time": "2021-10-24T12:00:09.790923",
     "status": "completed"
    },
    "tags": []
   },
   "outputs": [
    {
     "data": {
      "text/plain": [
       "<AxesSubplot:ylabel='PRODUCT'>"
      ]
     },
     "execution_count": 7,
     "metadata": {},
     "output_type": "execute_result"
    },
    {
     "data": {
      "image/png": "[encoded data removed]",
      "text/plain": [
       "<Figure size 432x288 with 1 Axes>"
      ]
     },
     "metadata": {
      "needs_background": "light"
     },
     "output_type": "display_data"
    }
   ],
   "source": [
    "df_pivot_diff.sort_values(\"stamp_2\", ascending = False)[\"stamp_2\"].head(10).plot.barh()"
   ]
  },
  {
   "cell_type": "code",
   "execution_count": null,
   "id": "extra-executive",
   "metadata": {
    "papermill": {
     "duration": 0.022368,
     "end_time": "2021-10-24T12:00:11.368810",
     "exception": false,
     "start_time": "2021-10-24T12:00:11.346442",
     "status": "completed"
    },
    "tags": []
   },
   "outputs": [],
   "source": []
  }
 ],
 "metadata": {
  "kernelspec": {
   "display_name": "Python 3",
   "language": "python",
   "name": "python3"
  },
  "language_info": {
   "codemirror_mode": {
    "name": "ipython",
    "version": 3
   },
   "file_extension": ".py",
   "mimetype": "text/x-python",
   "name": "python",
   "nbconvert_exporter": "python",
   "pygments_lexer": "ipython3",
   "version": "3.9.5"
  },
  "papermill": {
   "default_parameters": {},
   "duration": 7.391066,
   "end_time": "2021-10-24T12:00:12.010407",
   "environment_variables": {},
   "exception": null,
   "input_path": "eBay_Overview.ipynb",
   "output_path": "eBay_Overview.ipynb",
   "parameters": {},
   "start_time": "2021-10-24T12:00:04.619341",
   "version": "2.3.3"
  }
 },
 "nbformat": 4,
 "nbformat_minor": 5
}