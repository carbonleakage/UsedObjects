{
 "cells": [
  {
   "cell_type": "code",
   "execution_count": 1,
   "id": "reverse-picking",
   "metadata": {
    "execution": {
     "iopub.execute_input": "2021-12-11T22:00:07.689950Z",
     "iopub.status.busy": "2021-12-11T22:00:07.687567Z",
     "iopub.status.idle": "2021-12-11T22:00:08.639376Z",
     "shell.execute_reply": "2021-12-11T22:00:08.640941Z"
    },
    "papermill": {
     "duration": 1.000645,
     "end_time": "2021-12-11T22:00:08.641780",
     "exception": false,
     "start_time": "2021-12-11T22:00:07.641135",
     "status": "completed"
    },
    "tags": []
   },
   "outputs": [],
   "source": [
    "import pandas as pd\n",
    "import sqlite3"
   ]
  },
  {
   "cell_type": "code",
   "execution_count": 2,
   "id": "innovative-syndrome",
   "metadata": {
    "execution": {
     "iopub.execute_input": "2021-12-11T22:00:08.705018Z",
     "iopub.status.busy": "2021-12-11T22:00:08.702707Z",
     "iopub.status.idle": "2021-12-11T22:00:09.741899Z",
     "shell.execute_reply": "2021-12-11T22:00:09.743185Z"
    },
    "papermill": {
     "duration": 1.073212,
     "end_time": "2021-12-11T22:00:09.743673",
     "exception": false,
     "start_time": "2021-12-11T22:00:08.670461",
     "status": "completed"
    },
    "tags": []
   },
   "outputs": [],
   "source": [
    "timestamps = pd.read_sql(\"select distinct record_time from EBAY_TOP_BERLIN order by record_time desc limit 2\", sqlite3.connect(\"UsedObjects.db\"))"
   ]
  },
  {
   "cell_type": "code",
   "execution_count": 3,
   "id": "periodic-identification",
   "metadata": {
    "execution": {
     "iopub.execute_input": "2021-12-11T22:00:09.812473Z",
     "iopub.status.busy": "2021-12-11T22:00:09.810223Z",
     "iopub.status.idle": "2021-12-11T22:00:09.832487Z",
     "shell.execute_reply": "2021-12-11T22:00:09.834007Z"
    },
    "papermill": {
     "duration": 0.071314,
     "end_time": "2021-12-11T22:00:09.834527",
     "exception": false,
     "start_time": "2021-12-11T22:00:09.763213",
     "status": "completed"
    },
    "tags": []
   },
   "outputs": [
    {
     "data": {
      "text/html": [
       "<div>\n",
       "<style scoped>\n",
       "    .dataframe tbody tr th:only-of-type {\n",
       "        vertical-align: middle;\n",
       "    }\n",
       "\n",
       "    .dataframe tbody tr th {\n",
       "        vertical-align: top;\n",
       "    }\n",
       "\n",
       "    .dataframe thead th {\n",
       "        text-align: right;\n",
       "    }\n",
       "</style>\n",
       "<table border=\"1\" class=\"dataframe\">\n",
       "  <thead>\n",
       "    <tr style=\"text-align: right;\">\n",
       "      <th></th>\n",
       "      <th>RECORD_TIME</th>\n",
       "    </tr>\n",
       "  </thead>\n",
       "  <tbody>\n",
       "    <tr>\n",
       "      <th>0</th>\n",
       "      <td>2021-12-11 23:00</td>\n",
       "    </tr>\n",
       "    <tr>\n",
       "      <th>1</th>\n",
       "      <td>2021-12-11 22:30</td>\n",
       "    </tr>\n",
       "  </tbody>\n",
       "</table>\n",
       "</div>"
      ],
      "text/plain": [
       "        RECORD_TIME\n",
       "0  2021-12-11 23:00\n",
       "1  2021-12-11 22:30"
      ]
     },
     "execution_count": 3,
     "metadata": {},
     "output_type": "execute_result"
    }
   ],
   "source": [
    "timestamps"
   ]
  },
  {
   "cell_type": "code",
   "execution_count": 4,
   "id": "alternate-victory",
   "metadata": {
    "execution": {
     "iopub.execute_input": "2021-12-11T22:00:09.891629Z",
     "iopub.status.busy": "2021-12-11T22:00:09.889430Z",
     "iopub.status.idle": "2021-12-11T22:00:11.430135Z",
     "shell.execute_reply": "2021-12-11T22:00:11.431449Z"
    },
    "papermill": {
     "duration": 1.574649,
     "end_time": "2021-12-11T22:00:11.431875",
     "exception": false,
     "start_time": "2021-12-11T22:00:09.857226",
     "status": "completed"
    },
    "tags": []
   },
   "outputs": [],
   "source": [
    "df = pd.read_sql(\"select * from EBAY_TOP_BERLIN where record_time in (select distinct record_time from EBAY_TOP_BERLIN order by record_time desc limit 2)\", sqlite3.connect(\"UsedObjects.db\"))"
   ]
  },
  {
   "cell_type": "code",
   "execution_count": 5,
   "id": "popular-active",
   "metadata": {
    "execution": {
     "iopub.execute_input": "2021-12-11T22:00:11.508996Z",
     "iopub.status.busy": "2021-12-11T22:00:11.503020Z",
     "iopub.status.idle": "2021-12-11T22:00:11.529732Z",
     "shell.execute_reply": "2021-12-11T22:00:11.531173Z"
    },
    "papermill": {
     "duration": 0.078425,
     "end_time": "2021-12-11T22:00:11.531656",
     "exception": false,
     "start_time": "2021-12-11T22:00:11.453231",
     "status": "completed"
    },
    "tags": []
   },
   "outputs": [],
   "source": [
    "df_pivot = df.pivot_table(index=\"PRODUCT\", columns = \"RECORD_TIME\", values = \"LISTING_COUNT\")"
   ]
  },
  {
   "cell_type": "code",
   "execution_count": 6,
   "id": "union-huntington",
   "metadata": {
    "execution": {
     "iopub.execute_input": "2021-12-11T22:00:11.594218Z",
     "iopub.status.busy": "2021-12-11T22:00:11.591827Z",
     "iopub.status.idle": "2021-12-11T22:00:11.597381Z",
     "shell.execute_reply": "2021-12-11T22:00:11.599181Z"
    },
    "papermill": {
     "duration": 0.046317,
     "end_time": "2021-12-11T22:00:11.599697",
     "exception": false,
     "start_time": "2021-12-11T22:00:11.553380",
     "status": "completed"
    },
    "tags": []
   },
   "outputs": [],
   "source": [
    "df_pivot.columns = [\"stamp_1\", \"stamp_2\"]\n",
    "df_pivot_diff = df_pivot.diff(axis=1)"
   ]
  },
  {
   "cell_type": "code",
   "execution_count": 7,
   "id": "fifth-motion",
   "metadata": {
    "execution": {
     "iopub.execute_input": "2021-12-11T22:00:11.657083Z",
     "iopub.status.busy": "2021-12-11T22:00:11.654745Z",
     "iopub.status.idle": "2021-12-11T22:00:13.603306Z",
     "shell.execute_reply": "2021-12-11T22:00:13.605271Z"
    },
    "papermill": {
     "duration": 1.984889,
     "end_time": "2021-12-11T22:00:13.605882",
     "exception": false,
     "start_time": "2021-12-11T22:00:11.620993",
     "status": "completed"
    },
    "tags": []
   },
   "outputs": [
    {
     "data": {
      "text/plain": [
       "<AxesSubplot:ylabel='PRODUCT'>"
      ]
     },
     "execution_count": 7,
     "metadata": {},
     "output_type": "execute_result"
    },
    {
     "data": {
      "image/png": "[encoded data removed]",
      "text/plain": [
       "<Figure size 432x288 with 1 Axes>"
      ]
     },
     "metadata": {
      "needs_background": "light"
     },
     "output_type": "display_data"
    }
   ],
   "source": [
    "df_pivot_diff.sort_values(\"stamp_2\", ascending = False)[\"stamp_2\"].head(10).plot.barh()"
   ]
  },
  {
   "cell_type": "code",
   "execution_count": null,
   "id": "extra-executive",
   "metadata": {
    "papermill": {
     "duration": 0.041846,
     "end_time": "2021-12-11T22:00:13.679786",
     "exception": false,
     "start_time": "2021-12-11T22:00:13.637940",
     "status": "completed"
    },
    "tags": []
   },
   "outputs": [],
   "source": []
  }
 ],
 "metadata": {
  "kernelspec": {
   "display_name": "Python 3",
   "language": "python",
   "name": "python3"
  },
  "language_info": {
   "codemirror_mode": {
    "name": "ipython",
    "version": 3
   },
   "file_extension": ".py",
   "mimetype": "text/x-python",
   "name": "python",
   "nbconvert_exporter": "python",
   "pygments_lexer": "ipython3",
   "version": "3.9.5"
  },
  "papermill": {
   "default_parameters": {},
   "duration": 9.601231,
   "end_time": "2021-12-11T22:00:14.443465",
   "environment_variables": {},
   "exception": null,
   "input_path": "eBay_Overview.ipynb",
   "output_path": "eBay_Overview.ipynb",
   "parameters": {},
   "start_time": "2021-12-11T22:00:04.842234",
   "version": "2.3.3"
  }
 },
 "nbformat": 4,
 "nbformat_minor": 5
}