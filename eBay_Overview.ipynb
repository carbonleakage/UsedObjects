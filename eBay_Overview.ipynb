{
 "cells": [
  {
   "cell_type": "code",
   "execution_count": 1,
   "id": "reverse-picking",
   "metadata": {
    "execution": {
     "iopub.execute_input": "2021-08-23T07:30:07.055919Z",
     "iopub.status.busy": "2021-08-23T07:30:07.053868Z",
     "iopub.status.idle": "2021-08-23T07:30:07.859957Z",
     "shell.execute_reply": "2021-08-23T07:30:07.861204Z"
    },
    "papermill": {
     "duration": 0.856692,
     "end_time": "2021-08-23T07:30:07.861822",
     "exception": false,
     "start_time": "2021-08-23T07:30:07.005130",
     "status": "completed"
    },
    "tags": []
   },
   "outputs": [],
   "source": [
    "import pandas as pd\n",
    "import sqlite3"
   ]
  },
  {
   "cell_type": "code",
   "execution_count": 2,
   "id": "innovative-syndrome",
   "metadata": {
    "execution": {
     "iopub.execute_input": "2021-08-23T07:30:07.914160Z",
     "iopub.status.busy": "2021-08-23T07:30:07.911827Z",
     "iopub.status.idle": "2021-08-23T07:30:08.024179Z",
     "shell.execute_reply": "2021-08-23T07:30:08.025370Z"
    },
    "papermill": {
     "duration": 0.141896,
     "end_time": "2021-08-23T07:30:08.025770",
     "exception": false,
     "start_time": "2021-08-23T07:30:07.883874",
     "status": "completed"
    },
    "tags": []
   },
   "outputs": [],
   "source": [
    "timestamps = pd.read_sql(\"select distinct record_time from EBAY_TOP_BERLIN order by record_time desc limit 2\", sqlite3.connect(\"UsedObjects.db\"))"
   ]
  },
  {
   "cell_type": "code",
   "execution_count": 3,
   "id": "periodic-identification",
   "metadata": {
    "execution": {
     "iopub.execute_input": "2021-08-23T07:30:08.088322Z",
     "iopub.status.busy": "2021-08-23T07:30:08.086289Z",
     "iopub.status.idle": "2021-08-23T07:30:08.107632Z",
     "shell.execute_reply": "2021-08-23T07:30:08.106239Z"
    },
    "papermill": {
     "duration": 0.06299,
     "end_time": "2021-08-23T07:30:08.107969",
     "exception": false,
     "start_time": "2021-08-23T07:30:08.044979",
     "status": "completed"
    },
    "tags": []
   },
   "outputs": [
    {
     "data": {
      "text/html": [
       "<div>\n",
       "<style scoped>\n",
       "    .dataframe tbody tr th:only-of-type {\n",
       "        vertical-align: middle;\n",
       "    }\n",
       "\n",
       "    .dataframe tbody tr th {\n",
       "        vertical-align: top;\n",
       "    }\n",
       "\n",
       "    .dataframe thead th {\n",
       "        text-align: right;\n",
       "    }\n",
       "</style>\n",
       "<table border=\"1\" class=\"dataframe\">\n",
       "  <thead>\n",
       "    <tr style=\"text-align: right;\">\n",
       "      <th></th>\n",
       "      <th>RECORD_TIME</th>\n",
       "    </tr>\n",
       "  </thead>\n",
       "  <tbody>\n",
       "    <tr>\n",
       "      <th>0</th>\n",
       "      <td>2021-08-23 09:30</td>\n",
       "    </tr>\n",
       "    <tr>\n",
       "      <th>1</th>\n",
       "      <td>2021-08-23 09:00</td>\n",
       "    </tr>\n",
       "  </tbody>\n",
       "</table>\n",
       "</div>"
      ],
      "text/plain": [
       "        RECORD_TIME\n",
       "0  2021-08-23 09:30\n",
       "1  2021-08-23 09:00"
      ]
     },
     "execution_count": 3,
     "metadata": {},
     "output_type": "execute_result"
    }
   ],
   "source": [
    "timestamps"
   ]
  },
  {
   "cell_type": "code",
   "execution_count": 4,
   "id": "alternate-victory",
   "metadata": {
    "execution": {
     "iopub.execute_input": "2021-08-23T07:30:08.158134Z",
     "iopub.status.busy": "2021-08-23T07:30:08.156239Z",
     "iopub.status.idle": "2021-08-23T07:30:08.320240Z",
     "shell.execute_reply": "2021-08-23T07:30:08.321436Z"
    },
    "papermill": {
     "duration": 0.193404,
     "end_time": "2021-08-23T07:30:08.321830",
     "exception": false,
     "start_time": "2021-08-23T07:30:08.128426",
     "status": "completed"
    },
    "tags": []
   },
   "outputs": [],
   "source": [
    "df = pd.read_sql(\"select * from EBAY_TOP_BERLIN where record_time in (select distinct record_time from EBAY_TOP_BERLIN order by record_time desc limit 2)\", sqlite3.connect(\"UsedObjects.db\"))"
   ]
  },
  {
   "cell_type": "code",
   "execution_count": 5,
   "id": "popular-active",
   "metadata": {
    "execution": {
     "iopub.execute_input": "2021-08-23T07:30:08.392653Z",
     "iopub.status.busy": "2021-08-23T07:30:08.378905Z",
     "iopub.status.idle": "2021-08-23T07:30:08.408807Z",
     "shell.execute_reply": "2021-08-23T07:30:08.410143Z"
    },
    "papermill": {
     "duration": 0.068416,
     "end_time": "2021-08-23T07:30:08.410571",
     "exception": false,
     "start_time": "2021-08-23T07:30:08.342155",
     "status": "completed"
    },
    "tags": []
   },
   "outputs": [],
   "source": [
    "df_pivot = df.pivot_table(index=\"PRODUCT\", columns = \"RECORD_TIME\", values = \"LISTING_COUNT\")"
   ]
  },
  {
   "cell_type": "code",
   "execution_count": 6,
   "id": "union-huntington",
   "metadata": {
    "execution": {
     "iopub.execute_input": "2021-08-23T07:30:08.467576Z",
     "iopub.status.busy": "2021-08-23T07:30:08.465369Z",
     "iopub.status.idle": "2021-08-23T07:30:08.471045Z",
     "shell.execute_reply": "2021-08-23T07:30:08.472404Z"
    },
    "papermill": {
     "duration": 0.040757,
     "end_time": "2021-08-23T07:30:08.472845",
     "exception": false,
     "start_time": "2021-08-23T07:30:08.432088",
     "status": "completed"
    },
    "tags": []
   },
   "outputs": [],
   "source": [
    "df_pivot.columns = [\"stamp_1\", \"stamp_2\"]\n",
    "df_pivot_diff = df_pivot.diff(axis=1)"
   ]
  },
  {
   "cell_type": "code",
   "execution_count": 7,
   "id": "fifth-motion",
   "metadata": {
    "execution": {
     "iopub.execute_input": "2021-08-23T07:30:08.531312Z",
     "iopub.status.busy": "2021-08-23T07:30:08.528969Z",
     "iopub.status.idle": "2021-08-23T07:30:10.004549Z",
     "shell.execute_reply": "2021-08-23T07:30:10.005914Z"
    },
    "papermill": {
     "duration": 1.509909,
     "end_time": "2021-08-23T07:30:10.006461",
     "exception": false,
     "start_time": "2021-08-23T07:30:08.496552",
     "status": "completed"
    },
    "tags": []
   },
   "outputs": [
    {
     "data": {
      "text/plain": [
       "<AxesSubplot:ylabel='PRODUCT'>"
      ]
     },
     "execution_count": 7,
     "metadata": {},
     "output_type": "execute_result"
    },
    {
     "data": {
      "image/png": "[encoded data removed]",
      "text/plain": [
       "<Figure size 432x288 with 1 Axes>"
      ]
     },
     "metadata": {
      "needs_background": "light"
     },
     "output_type": "display_data"
    }
   ],
   "source": [
    "df_pivot_diff.sort_values(\"stamp_2\", ascending = False)[\"stamp_2\"].head(10).plot.barh()"
   ]
  },
  {
   "cell_type": "code",
   "execution_count": null,
   "id": "extra-executive",
   "metadata": {
    "papermill": {
     "duration": 0.021763,
     "end_time": "2021-08-23T07:30:10.052566",
     "exception": false,
     "start_time": "2021-08-23T07:30:10.030803",
     "status": "completed"
    },
    "tags": []
   },
   "outputs": [],
   "source": []
  }
 ],
 "metadata": {
  "kernelspec": {
   "display_name": "Python 3",
   "language": "python",
   "name": "python3"
  },
  "language_info": {
   "codemirror_mode": {
    "name": "ipython",
    "version": 3
   },
   "file_extension": ".py",
   "mimetype": "text/x-python",
   "name": "python",
   "nbconvert_exporter": "python",
   "pygments_lexer": "ipython3",
   "version": "3.9.5"
  },
  "papermill": {
   "default_parameters": {},
   "duration": 6.834531,
   "end_time": "2021-08-23T07:30:11.432763",
   "environment_variables": {},
   "exception": null,
   "input_path": "eBay_Overview.ipynb",
   "output_path": "eBay_Overview.ipynb",
   "parameters": {},
   "start_time": "2021-08-23T07:30:04.598232",
   "version": "2.3.3"
  }
 },
 "nbformat": 4,
 "nbformat_minor": 5
}