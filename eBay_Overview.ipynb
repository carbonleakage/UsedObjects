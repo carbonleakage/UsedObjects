{
 "cells": [
  {
   "cell_type": "code",
   "execution_count": 1,
   "id": "reverse-picking",
   "metadata": {
    "execution": {
     "iopub.execute_input": "2021-12-15T15:30:08.135808Z",
     "iopub.status.busy": "2021-12-15T15:30:08.133486Z",
     "iopub.status.idle": "2021-12-15T15:30:09.081671Z",
     "shell.execute_reply": "2021-12-15T15:30:09.083143Z"
    },
    "papermill": {
     "duration": 0.998146,
     "end_time": "2021-12-15T15:30:09.083860",
     "exception": false,
     "start_time": "2021-12-15T15:30:08.085714",
     "status": "completed"
    },
    "tags": []
   },
   "outputs": [],
   "source": [
    "import pandas as pd\n",
    "import sqlite3"
   ]
  },
  {
   "cell_type": "code",
   "execution_count": 2,
   "id": "innovative-syndrome",
   "metadata": {
    "execution": {
     "iopub.execute_input": "2021-12-15T15:30:09.151829Z",
     "iopub.status.busy": "2021-12-15T15:30:09.148104Z",
     "iopub.status.idle": "2021-12-15T15:30:10.252326Z",
     "shell.execute_reply": "2021-12-15T15:30:10.250862Z"
    },
    "papermill": {
     "duration": 1.146811,
     "end_time": "2021-12-15T15:30:10.252850",
     "exception": false,
     "start_time": "2021-12-15T15:30:09.106039",
     "status": "completed"
    },
    "tags": []
   },
   "outputs": [],
   "source": [
    "timestamps = pd.read_sql(\"select distinct record_time from EBAY_TOP_BERLIN order by record_time desc limit 2\", sqlite3.connect(\"UsedObjects.db\"))"
   ]
  },
  {
   "cell_type": "code",
   "execution_count": 3,
   "id": "periodic-identification",
   "metadata": {
    "execution": {
     "iopub.execute_input": "2021-12-15T15:30:10.327493Z",
     "iopub.status.busy": "2021-12-15T15:30:10.319070Z",
     "iopub.status.idle": "2021-12-15T15:30:10.344006Z",
     "shell.execute_reply": "2021-12-15T15:30:10.345571Z"
    },
    "papermill": {
     "duration": 0.074065,
     "end_time": "2021-12-15T15:30:10.346084",
     "exception": false,
     "start_time": "2021-12-15T15:30:10.272019",
     "status": "completed"
    },
    "tags": []
   },
   "outputs": [
    {
     "data": {
      "text/html": [
       "<div>\n",
       "<style scoped>\n",
       "    .dataframe tbody tr th:only-of-type {\n",
       "        vertical-align: middle;\n",
       "    }\n",
       "\n",
       "    .dataframe tbody tr th {\n",
       "        vertical-align: top;\n",
       "    }\n",
       "\n",
       "    .dataframe thead th {\n",
       "        text-align: right;\n",
       "    }\n",
       "</style>\n",
       "<table border=\"1\" class=\"dataframe\">\n",
       "  <thead>\n",
       "    <tr style=\"text-align: right;\">\n",
       "      <th></th>\n",
       "      <th>RECORD_TIME</th>\n",
       "    </tr>\n",
       "  </thead>\n",
       "  <tbody>\n",
       "    <tr>\n",
       "      <th>0</th>\n",
       "      <td>2021-12-15 16:30</td>\n",
       "    </tr>\n",
       "    <tr>\n",
       "      <th>1</th>\n",
       "      <td>2021-12-15 16:00</td>\n",
       "    </tr>\n",
       "  </tbody>\n",
       "</table>\n",
       "</div>"
      ],
      "text/plain": [
       "        RECORD_TIME\n",
       "0  2021-12-15 16:30\n",
       "1  2021-12-15 16:00"
      ]
     },
     "execution_count": 3,
     "metadata": {},
     "output_type": "execute_result"
    }
   ],
   "source": [
    "timestamps"
   ]
  },
  {
   "cell_type": "code",
   "execution_count": 4,
   "id": "alternate-victory",
   "metadata": {
    "execution": {
     "iopub.execute_input": "2021-12-15T15:30:10.410709Z",
     "iopub.status.busy": "2021-12-15T15:30:10.396647Z",
     "iopub.status.idle": "2021-12-15T15:30:12.055975Z",
     "shell.execute_reply": "2021-12-15T15:30:12.058137Z"
    },
    "papermill": {
     "duration": 1.691732,
     "end_time": "2021-12-15T15:30:12.058619",
     "exception": false,
     "start_time": "2021-12-15T15:30:10.366887",
     "status": "completed"
    },
    "tags": []
   },
   "outputs": [],
   "source": [
    "df = pd.read_sql(\"select * from EBAY_TOP_BERLIN where record_time in (select distinct record_time from EBAY_TOP_BERLIN order by record_time desc limit 2)\", sqlite3.connect(\"UsedObjects.db\"))"
   ]
  },
  {
   "cell_type": "code",
   "execution_count": 5,
   "id": "popular-active",
   "metadata": {
    "execution": {
     "iopub.execute_input": "2021-12-15T15:30:12.120399Z",
     "iopub.status.busy": "2021-12-15T15:30:12.118196Z",
     "iopub.status.idle": "2021-12-15T15:30:12.151164Z",
     "shell.execute_reply": "2021-12-15T15:30:12.153048Z"
    },
    "papermill": {
     "duration": 0.074548,
     "end_time": "2021-12-15T15:30:12.153586",
     "exception": false,
     "start_time": "2021-12-15T15:30:12.079038",
     "status": "completed"
    },
    "tags": []
   },
   "outputs": [],
   "source": [
    "df_pivot = df.pivot_table(index=\"PRODUCT\", columns = \"RECORD_TIME\", values = \"LISTING_COUNT\")"
   ]
  },
  {
   "cell_type": "code",
   "execution_count": 6,
   "id": "union-huntington",
   "metadata": {
    "execution": {
     "iopub.execute_input": "2021-12-15T15:30:12.214574Z",
     "iopub.status.busy": "2021-12-15T15:30:12.212292Z",
     "iopub.status.idle": "2021-12-15T15:30:12.218215Z",
     "shell.execute_reply": "2021-12-15T15:30:12.219648Z"
    },
    "papermill": {
     "duration": 0.04511,
     "end_time": "2021-12-15T15:30:12.220099",
     "exception": false,
     "start_time": "2021-12-15T15:30:12.174989",
     "status": "completed"
    },
    "tags": []
   },
   "outputs": [],
   "source": [
    "df_pivot.columns = [\"stamp_1\", \"stamp_2\"]\n",
    "df_pivot_diff = df_pivot.diff(axis=1)"
   ]
  },
  {
   "cell_type": "code",
   "execution_count": 7,
   "id": "fifth-motion",
   "metadata": {
    "execution": {
     "iopub.execute_input": "2021-12-15T15:30:12.276569Z",
     "iopub.status.busy": "2021-12-15T15:30:12.274079Z",
     "iopub.status.idle": "2021-12-15T15:30:14.247576Z",
     "shell.execute_reply": "2021-12-15T15:30:14.249088Z"
    },
    "papermill": {
     "duration": 2.009328,
     "end_time": "2021-12-15T15:30:14.249547",
     "exception": false,
     "start_time": "2021-12-15T15:30:12.240219",
     "status": "completed"
    },
    "tags": []
   },
   "outputs": [
    {
     "data": {
      "text/plain": [
       "<AxesSubplot:ylabel='PRODUCT'>"
      ]
     },
     "execution_count": 7,
     "metadata": {},
     "output_type": "execute_result"
    },
    {
     "data": {
      "image/png": "[encoded data removed]",
      "text/plain": [
       "<Figure size 432x288 with 1 Axes>"
      ]
     },
     "metadata": {
      "needs_background": "light"
     },
     "output_type": "display_data"
    }
   ],
   "source": [
    "df_pivot_diff.sort_values(\"stamp_2\", ascending = False)[\"stamp_2\"].head(10).plot.barh()"
   ]
  },
  {
   "cell_type": "code",
   "execution_count": null,
   "id": "extra-executive",
   "metadata": {
    "papermill": {
     "duration": 0.021775,
     "end_time": "2021-12-15T15:30:14.294896",
     "exception": false,
     "start_time": "2021-12-15T15:30:14.273121",
     "status": "completed"
    },
    "tags": []
   },
   "outputs": [],
   "source": []
  }
 ],
 "metadata": {
  "kernelspec": {
   "display_name": "Python 3",
   "language": "python",
   "name": "python3"
  },
  "language_info": {
   "codemirror_mode": {
    "name": "ipython",
    "version": 3
   },
   "file_extension": ".py",
   "mimetype": "text/x-python",
   "name": "python",
   "nbconvert_exporter": "python",
   "pygments_lexer": "ipython3",
   "version": "3.9.5"
  },
  "papermill": {
   "default_parameters": {},
   "duration": 9.561307,
   "end_time": "2021-12-15T15:30:14.937234",
   "environment_variables": {},
   "exception": null,
   "input_path": "eBay_Overview.ipynb",
   "output_path": "eBay_Overview.ipynb",
   "parameters": {},
   "start_time": "2021-12-15T15:30:05.375927",
   "version": "2.3.3"
  }
 },
 "nbformat": 4,
 "nbformat_minor": 5
}