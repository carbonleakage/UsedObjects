{
 "cells": [
  {
   "cell_type": "code",
   "execution_count": 1,
   "id": "reverse-picking",
   "metadata": {
    "execution": {
     "iopub.execute_input": "2021-12-20T00:00:07.992290Z",
     "iopub.status.busy": "2021-12-20T00:00:07.990032Z",
     "iopub.status.idle": "2021-12-20T00:00:08.950980Z",
     "shell.execute_reply": "2021-12-20T00:00:08.952420Z"
    },
    "papermill": {
     "duration": 1.010766,
     "end_time": "2021-12-20T00:00:08.953230",
     "exception": false,
     "start_time": "2021-12-20T00:00:07.942464",
     "status": "completed"
    },
    "tags": []
   },
   "outputs": [],
   "source": [
    "import pandas as pd\n",
    "import sqlite3"
   ]
  },
  {
   "cell_type": "code",
   "execution_count": 2,
   "id": "innovative-syndrome",
   "metadata": {
    "execution": {
     "iopub.execute_input": "2021-12-20T00:00:09.092090Z",
     "iopub.status.busy": "2021-12-20T00:00:09.088831Z",
     "iopub.status.idle": "2021-12-20T00:00:10.196135Z",
     "shell.execute_reply": "2021-12-20T00:00:10.197793Z"
    },
    "papermill": {
     "duration": 1.15367,
     "end_time": "2021-12-20T00:00:10.198279",
     "exception": false,
     "start_time": "2021-12-20T00:00:09.044609",
     "status": "completed"
    },
    "tags": []
   },
   "outputs": [],
   "source": [
    "timestamps = pd.read_sql(\"select distinct record_time from EBAY_TOP_BERLIN order by record_time desc limit 2\", sqlite3.connect(\"UsedObjects.db\"))"
   ]
  },
  {
   "cell_type": "code",
   "execution_count": 3,
   "id": "periodic-identification",
   "metadata": {
    "execution": {
     "iopub.execute_input": "2021-12-20T00:00:10.271602Z",
     "iopub.status.busy": "2021-12-20T00:00:10.264928Z",
     "iopub.status.idle": "2021-12-20T00:00:10.288972Z",
     "shell.execute_reply": "2021-12-20T00:00:10.290431Z"
    },
    "papermill": {
     "duration": 0.073118,
     "end_time": "2021-12-20T00:00:10.290945",
     "exception": false,
     "start_time": "2021-12-20T00:00:10.217827",
     "status": "completed"
    },
    "tags": []
   },
   "outputs": [
    {
     "data": {
      "text/html": [
       "<div>\n",
       "<style scoped>\n",
       "    .dataframe tbody tr th:only-of-type {\n",
       "        vertical-align: middle;\n",
       "    }\n",
       "\n",
       "    .dataframe tbody tr th {\n",
       "        vertical-align: top;\n",
       "    }\n",
       "\n",
       "    .dataframe thead th {\n",
       "        text-align: right;\n",
       "    }\n",
       "</style>\n",
       "<table border=\"1\" class=\"dataframe\">\n",
       "  <thead>\n",
       "    <tr style=\"text-align: right;\">\n",
       "      <th></th>\n",
       "      <th>RECORD_TIME</th>\n",
       "    </tr>\n",
       "  </thead>\n",
       "  <tbody>\n",
       "    <tr>\n",
       "      <th>0</th>\n",
       "      <td>2021-12-20 01:00</td>\n",
       "    </tr>\n",
       "    <tr>\n",
       "      <th>1</th>\n",
       "      <td>2021-12-20 00:30</td>\n",
       "    </tr>\n",
       "  </tbody>\n",
       "</table>\n",
       "</div>"
      ],
      "text/plain": [
       "        RECORD_TIME\n",
       "0  2021-12-20 01:00\n",
       "1  2021-12-20 00:30"
      ]
     },
     "execution_count": 3,
     "metadata": {},
     "output_type": "execute_result"
    }
   ],
   "source": [
    "timestamps"
   ]
  },
  {
   "cell_type": "code",
   "execution_count": 4,
   "id": "alternate-victory",
   "metadata": {
    "execution": {
     "iopub.execute_input": "2021-12-20T00:00:10.353091Z",
     "iopub.status.busy": "2021-12-20T00:00:10.350863Z",
     "iopub.status.idle": "2021-12-20T00:00:11.966490Z",
     "shell.execute_reply": "2021-12-20T00:00:11.967976Z"
    },
    "papermill": {
     "duration": 1.657492,
     "end_time": "2021-12-20T00:00:11.968448",
     "exception": false,
     "start_time": "2021-12-20T00:00:10.310956",
     "status": "completed"
    },
    "tags": []
   },
   "outputs": [],
   "source": [
    "df = pd.read_sql(\"select * from EBAY_TOP_BERLIN where record_time in (select distinct record_time from EBAY_TOP_BERLIN order by record_time desc limit 2)\", sqlite3.connect(\"UsedObjects.db\"))"
   ]
  },
  {
   "cell_type": "code",
   "execution_count": 5,
   "id": "popular-active",
   "metadata": {
    "execution": {
     "iopub.execute_input": "2021-12-20T00:00:12.037382Z",
     "iopub.status.busy": "2021-12-20T00:00:12.030190Z",
     "iopub.status.idle": "2021-12-20T00:00:12.061874Z",
     "shell.execute_reply": "2021-12-20T00:00:12.063221Z"
    },
    "papermill": {
     "duration": 0.074009,
     "end_time": "2021-12-20T00:00:12.063701",
     "exception": false,
     "start_time": "2021-12-20T00:00:11.989692",
     "status": "completed"
    },
    "tags": []
   },
   "outputs": [],
   "source": [
    "df_pivot = df.pivot_table(index=\"PRODUCT\", columns = \"RECORD_TIME\", values = \"LISTING_COUNT\")"
   ]
  },
  {
   "cell_type": "code",
   "execution_count": 6,
   "id": "union-huntington",
   "metadata": {
    "execution": {
     "iopub.execute_input": "2021-12-20T00:00:12.124960Z",
     "iopub.status.busy": "2021-12-20T00:00:12.122185Z",
     "iopub.status.idle": "2021-12-20T00:00:12.129724Z",
     "shell.execute_reply": "2021-12-20T00:00:12.131252Z"
    },
    "papermill": {
     "duration": 0.047774,
     "end_time": "2021-12-20T00:00:12.131731",
     "exception": false,
     "start_time": "2021-12-20T00:00:12.083957",
     "status": "completed"
    },
    "tags": []
   },
   "outputs": [],
   "source": [
    "df_pivot.columns = [\"stamp_1\", \"stamp_2\"]\n",
    "df_pivot_diff = df_pivot.diff(axis=1)"
   ]
  },
  {
   "cell_type": "code",
   "execution_count": 7,
   "id": "fifth-motion",
   "metadata": {
    "execution": {
     "iopub.execute_input": "2021-12-20T00:00:12.191438Z",
     "iopub.status.busy": "2021-12-20T00:00:12.188981Z",
     "iopub.status.idle": "2021-12-20T00:00:14.198012Z",
     "shell.execute_reply": "2021-12-20T00:00:14.199613Z"
    },
    "papermill": {
     "duration": 2.044849,
     "end_time": "2021-12-20T00:00:14.200112",
     "exception": false,
     "start_time": "2021-12-20T00:00:12.155263",
     "status": "completed"
    },
    "tags": []
   },
   "outputs": [
    {
     "data": {
      "text/plain": [
       "<AxesSubplot:ylabel='PRODUCT'>"
      ]
     },
     "execution_count": 7,
     "metadata": {},
     "output_type": "execute_result"
    },
    {
     "data": {
      "image/png": "[encoded data removed]",
      "text/plain": [
       "<Figure size 432x288 with 1 Axes>"
      ]
     },
     "metadata": {
      "needs_background": "light"
     },
     "output_type": "display_data"
    }
   ],
   "source": [
    "df_pivot_diff.sort_values(\"stamp_2\", ascending = False)[\"stamp_2\"].head(10).plot.barh()"
   ]
  },
  {
   "cell_type": "code",
   "execution_count": null,
   "id": "extra-executive",
   "metadata": {
    "papermill": {
     "duration": 0.026817,
     "end_time": "2021-12-20T00:00:14.260429",
     "exception": false,
     "start_time": "2021-12-20T00:00:14.233612",
     "status": "completed"
    },
    "tags": []
   },
   "outputs": [],
   "source": []
  }
 ],
 "metadata": {
  "kernelspec": {
   "display_name": "Python 3",
   "language": "python",
   "name": "python3"
  },
  "language_info": {
   "codemirror_mode": {
    "name": "ipython",
    "version": 3
   },
   "file_extension": ".py",
   "mimetype": "text/x-python",
   "name": "python",
   "nbconvert_exporter": "python",
   "pygments_lexer": "ipython3",
   "version": "3.9.5"
  },
  "papermill": {
   "default_parameters": {},
   "duration": 9.746172,
   "end_time": "2021-12-20T00:00:14.956320",
   "environment_variables": {},
   "exception": null,
   "input_path": "eBay_Overview.ipynb",
   "output_path": "eBay_Overview.ipynb",
   "parameters": {},
   "start_time": "2021-12-20T00:00:05.210148",
   "version": "2.3.3"
  }
 },
 "nbformat": 4,
 "nbformat_minor": 5
}