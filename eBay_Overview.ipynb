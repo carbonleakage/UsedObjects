{
 "cells": [
  {
   "cell_type": "code",
   "execution_count": 1,
   "id": "reverse-picking",
   "metadata": {
    "execution": {
     "iopub.execute_input": "2021-09-19T05:00:07.368787Z",
     "iopub.status.busy": "2021-09-19T05:00:07.366777Z",
     "iopub.status.idle": "2021-09-19T05:00:08.167899Z",
     "shell.execute_reply": "2021-09-19T05:00:08.169315Z"
    },
    "papermill": {
     "duration": 0.853702,
     "end_time": "2021-09-19T05:00:08.169999",
     "exception": false,
     "start_time": "2021-09-19T05:00:07.316297",
     "status": "completed"
    },
    "tags": []
   },
   "outputs": [],
   "source": [
    "import pandas as pd\n",
    "import sqlite3"
   ]
  },
  {
   "cell_type": "code",
   "execution_count": 2,
   "id": "innovative-syndrome",
   "metadata": {
    "execution": {
     "iopub.execute_input": "2021-09-19T05:00:08.221276Z",
     "iopub.status.busy": "2021-09-19T05:00:08.218967Z",
     "iopub.status.idle": "2021-09-19T05:00:08.552048Z",
     "shell.execute_reply": "2021-09-19T05:00:08.553318Z"
    },
    "papermill": {
     "duration": 0.363065,
     "end_time": "2021-09-19T05:00:08.553726",
     "exception": false,
     "start_time": "2021-09-19T05:00:08.190661",
     "status": "completed"
    },
    "tags": []
   },
   "outputs": [],
   "source": [
    "timestamps = pd.read_sql(\"select distinct record_time from EBAY_TOP_BERLIN order by record_time desc limit 2\", sqlite3.connect(\"UsedObjects.db\"))"
   ]
  },
  {
   "cell_type": "code",
   "execution_count": 3,
   "id": "periodic-identification",
   "metadata": {
    "execution": {
     "iopub.execute_input": "2021-09-19T05:00:08.620461Z",
     "iopub.status.busy": "2021-09-19T05:00:08.618326Z",
     "iopub.status.idle": "2021-09-19T05:00:08.638175Z",
     "shell.execute_reply": "2021-09-19T05:00:08.639521Z"
    },
    "papermill": {
     "duration": 0.06674,
     "end_time": "2021-09-19T05:00:08.639945",
     "exception": false,
     "start_time": "2021-09-19T05:00:08.573205",
     "status": "completed"
    },
    "tags": []
   },
   "outputs": [
    {
     "data": {
      "text/html": [
       "<div>\n",
       "<style scoped>\n",
       "    .dataframe tbody tr th:only-of-type {\n",
       "        vertical-align: middle;\n",
       "    }\n",
       "\n",
       "    .dataframe tbody tr th {\n",
       "        vertical-align: top;\n",
       "    }\n",
       "\n",
       "    .dataframe thead th {\n",
       "        text-align: right;\n",
       "    }\n",
       "</style>\n",
       "<table border=\"1\" class=\"dataframe\">\n",
       "  <thead>\n",
       "    <tr style=\"text-align: right;\">\n",
       "      <th></th>\n",
       "      <th>RECORD_TIME</th>\n",
       "    </tr>\n",
       "  </thead>\n",
       "  <tbody>\n",
       "    <tr>\n",
       "      <th>0</th>\n",
       "      <td>2021-09-19 07:00</td>\n",
       "    </tr>\n",
       "    <tr>\n",
       "      <th>1</th>\n",
       "      <td>2021-09-19 06:30</td>\n",
       "    </tr>\n",
       "  </tbody>\n",
       "</table>\n",
       "</div>"
      ],
      "text/plain": [
       "        RECORD_TIME\n",
       "0  2021-09-19 07:00\n",
       "1  2021-09-19 06:30"
      ]
     },
     "execution_count": 3,
     "metadata": {},
     "output_type": "execute_result"
    }
   ],
   "source": [
    "timestamps"
   ]
  },
  {
   "cell_type": "code",
   "execution_count": 4,
   "id": "alternate-victory",
   "metadata": {
    "execution": {
     "iopub.execute_input": "2021-09-19T05:00:08.691395Z",
     "iopub.status.busy": "2021-09-19T05:00:08.689445Z",
     "iopub.status.idle": "2021-09-19T05:00:09.174179Z",
     "shell.execute_reply": "2021-09-19T05:00:09.175519Z"
    },
    "papermill": {
     "duration": 0.514794,
     "end_time": "2021-09-19T05:00:09.175944",
     "exception": false,
     "start_time": "2021-09-19T05:00:08.661150",
     "status": "completed"
    },
    "tags": []
   },
   "outputs": [],
   "source": [
    "df = pd.read_sql(\"select * from EBAY_TOP_BERLIN where record_time in (select distinct record_time from EBAY_TOP_BERLIN order by record_time desc limit 2)\", sqlite3.connect(\"UsedObjects.db\"))"
   ]
  },
  {
   "cell_type": "code",
   "execution_count": 5,
   "id": "popular-active",
   "metadata": {
    "execution": {
     "iopub.execute_input": "2021-09-19T05:00:09.256697Z",
     "iopub.status.busy": "2021-09-19T05:00:09.245502Z",
     "iopub.status.idle": "2021-09-19T05:00:09.273058Z",
     "shell.execute_reply": "2021-09-19T05:00:09.274410Z"
    },
    "papermill": {
     "duration": 0.073189,
     "end_time": "2021-09-19T05:00:09.275019",
     "exception": false,
     "start_time": "2021-09-19T05:00:09.201830",
     "status": "completed"
    },
    "tags": []
   },
   "outputs": [],
   "source": [
    "df_pivot = df.pivot_table(index=\"PRODUCT\", columns = \"RECORD_TIME\", values = \"LISTING_COUNT\")"
   ]
  },
  {
   "cell_type": "code",
   "execution_count": 6,
   "id": "union-huntington",
   "metadata": {
    "execution": {
     "iopub.execute_input": "2021-09-19T05:00:09.334316Z",
     "iopub.status.busy": "2021-09-19T05:00:09.331934Z",
     "iopub.status.idle": "2021-09-19T05:00:09.337933Z",
     "shell.execute_reply": "2021-09-19T05:00:09.339244Z"
    },
    "papermill": {
     "duration": 0.04236,
     "end_time": "2021-09-19T05:00:09.339702",
     "exception": false,
     "start_time": "2021-09-19T05:00:09.297342",
     "status": "completed"
    },
    "tags": []
   },
   "outputs": [],
   "source": [
    "df_pivot.columns = [\"stamp_1\", \"stamp_2\"]\n",
    "df_pivot_diff = df_pivot.diff(axis=1)"
   ]
  },
  {
   "cell_type": "code",
   "execution_count": 7,
   "id": "fifth-motion",
   "metadata": {
    "execution": {
     "iopub.execute_input": "2021-09-19T05:00:09.393925Z",
     "iopub.status.busy": "2021-09-19T05:00:09.391749Z",
     "iopub.status.idle": "2021-09-19T05:00:10.888705Z",
     "shell.execute_reply": "2021-09-19T05:00:10.889964Z"
    },
    "papermill": {
     "duration": 1.529318,
     "end_time": "2021-09-19T05:00:10.890380",
     "exception": false,
     "start_time": "2021-09-19T05:00:09.361062",
     "status": "completed"
    },
    "tags": []
   },
   "outputs": [
    {
     "data": {
      "text/plain": [
       "<AxesSubplot:ylabel='PRODUCT'>"
      ]
     },
     "execution_count": 7,
     "metadata": {},
     "output_type": "execute_result"
    },
    {
     "data": {
      "image/png": "[encoded data removed]",
      "text/plain": [
       "<Figure size 432x288 with 1 Axes>"
      ]
     },
     "metadata": {
      "needs_background": "light"
     },
     "output_type": "display_data"
    }
   ],
   "source": [
    "df_pivot_diff.sort_values(\"stamp_2\", ascending = False)[\"stamp_2\"].head(10).plot.barh()"
   ]
  },
  {
   "cell_type": "code",
   "execution_count": null,
   "id": "extra-executive",
   "metadata": {
    "papermill": {
     "duration": 0.022248,
     "end_time": "2021-09-19T05:00:10.938911",
     "exception": false,
     "start_time": "2021-09-19T05:00:10.916663",
     "status": "completed"
    },
    "tags": []
   },
   "outputs": [],
   "source": []
  }
 ],
 "metadata": {
  "kernelspec": {
   "display_name": "Python 3",
   "language": "python",
   "name": "python3"
  },
  "language_info": {
   "codemirror_mode": {
    "name": "ipython",
    "version": 3
   },
   "file_extension": ".py",
   "mimetype": "text/x-python",
   "name": "python",
   "nbconvert_exporter": "python",
   "pygments_lexer": "ipython3",
   "version": "3.9.5"
  },
  "papermill": {
   "default_parameters": {},
   "duration": 6.658231,
   "end_time": "2021-09-19T05:00:11.579560",
   "environment_variables": {},
   "exception": null,
   "input_path": "eBay_Overview.ipynb",
   "output_path": "eBay_Overview.ipynb",
   "parameters": {},
   "start_time": "2021-09-19T05:00:04.921329",
   "version": "2.3.3"
  }
 },
 "nbformat": 4,
 "nbformat_minor": 5
}