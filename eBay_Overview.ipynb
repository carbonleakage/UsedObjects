{
 "cells": [
  {
   "cell_type": "code",
   "execution_count": 1,
   "id": "reverse-picking",
   "metadata": {
    "execution": {
     "iopub.execute_input": "2021-09-20T14:30:07.074917Z",
     "iopub.status.busy": "2021-09-20T14:30:07.072957Z",
     "iopub.status.idle": "2021-09-20T14:30:07.872649Z",
     "shell.execute_reply": "2021-09-20T14:30:07.873965Z"
    },
    "papermill": {
     "duration": 0.849867,
     "end_time": "2021-09-20T14:30:07.874602",
     "exception": false,
     "start_time": "2021-09-20T14:30:07.024735",
     "status": "completed"
    },
    "tags": []
   },
   "outputs": [],
   "source": [
    "import pandas as pd\n",
    "import sqlite3"
   ]
  },
  {
   "cell_type": "code",
   "execution_count": 2,
   "id": "innovative-syndrome",
   "metadata": {
    "execution": {
     "iopub.execute_input": "2021-09-20T14:30:07.925323Z",
     "iopub.status.busy": "2021-09-20T14:30:07.923003Z",
     "iopub.status.idle": "2021-09-20T14:30:08.265805Z",
     "shell.execute_reply": "2021-09-20T14:30:08.267162Z"
    },
    "papermill": {
     "duration": 0.373163,
     "end_time": "2021-09-20T14:30:08.267658",
     "exception": false,
     "start_time": "2021-09-20T14:30:07.894495",
     "status": "completed"
    },
    "tags": []
   },
   "outputs": [],
   "source": [
    "timestamps = pd.read_sql(\"select distinct record_time from EBAY_TOP_BERLIN order by record_time desc limit 2\", sqlite3.connect(\"UsedObjects.db\"))"
   ]
  },
  {
   "cell_type": "code",
   "execution_count": 3,
   "id": "periodic-identification",
   "metadata": {
    "execution": {
     "iopub.execute_input": "2021-09-20T14:30:08.335323Z",
     "iopub.status.busy": "2021-09-20T14:30:08.333235Z",
     "iopub.status.idle": "2021-09-20T14:30:08.353192Z",
     "shell.execute_reply": "2021-09-20T14:30:08.354560Z"
    },
    "papermill": {
     "duration": 0.066503,
     "end_time": "2021-09-20T14:30:08.355056",
     "exception": false,
     "start_time": "2021-09-20T14:30:08.288553",
     "status": "completed"
    },
    "tags": []
   },
   "outputs": [
    {
     "data": {
      "text/html": [
       "<div>\n",
       "<style scoped>\n",
       "    .dataframe tbody tr th:only-of-type {\n",
       "        vertical-align: middle;\n",
       "    }\n",
       "\n",
       "    .dataframe tbody tr th {\n",
       "        vertical-align: top;\n",
       "    }\n",
       "\n",
       "    .dataframe thead th {\n",
       "        text-align: right;\n",
       "    }\n",
       "</style>\n",
       "<table border=\"1\" class=\"dataframe\">\n",
       "  <thead>\n",
       "    <tr style=\"text-align: right;\">\n",
       "      <th></th>\n",
       "      <th>RECORD_TIME</th>\n",
       "    </tr>\n",
       "  </thead>\n",
       "  <tbody>\n",
       "    <tr>\n",
       "      <th>0</th>\n",
       "      <td>2021-09-20 16:30</td>\n",
       "    </tr>\n",
       "    <tr>\n",
       "      <th>1</th>\n",
       "      <td>2021-09-20 16:00</td>\n",
       "    </tr>\n",
       "  </tbody>\n",
       "</table>\n",
       "</div>"
      ],
      "text/plain": [
       "        RECORD_TIME\n",
       "0  2021-09-20 16:30\n",
       "1  2021-09-20 16:00"
      ]
     },
     "execution_count": 3,
     "metadata": {},
     "output_type": "execute_result"
    }
   ],
   "source": [
    "timestamps"
   ]
  },
  {
   "cell_type": "code",
   "execution_count": 4,
   "id": "alternate-victory",
   "metadata": {
    "execution": {
     "iopub.execute_input": "2021-09-20T14:30:08.406193Z",
     "iopub.status.busy": "2021-09-20T14:30:08.404282Z",
     "iopub.status.idle": "2021-09-20T14:30:08.909651Z",
     "shell.execute_reply": "2021-09-20T14:30:08.910930Z"
    },
    "papermill": {
     "duration": 0.535719,
     "end_time": "2021-09-20T14:30:08.911348",
     "exception": false,
     "start_time": "2021-09-20T14:30:08.375629",
     "status": "completed"
    },
    "tags": []
   },
   "outputs": [],
   "source": [
    "df = pd.read_sql(\"select * from EBAY_TOP_BERLIN where record_time in (select distinct record_time from EBAY_TOP_BERLIN order by record_time desc limit 2)\", sqlite3.connect(\"UsedObjects.db\"))"
   ]
  },
  {
   "cell_type": "code",
   "execution_count": 5,
   "id": "popular-active",
   "metadata": {
    "execution": {
     "iopub.execute_input": "2021-09-20T14:30:08.980922Z",
     "iopub.status.busy": "2021-09-20T14:30:08.968800Z",
     "iopub.status.idle": "2021-09-20T14:30:08.997106Z",
     "shell.execute_reply": "2021-09-20T14:30:08.998383Z"
    },
    "papermill": {
     "duration": 0.067041,
     "end_time": "2021-09-20T14:30:08.998851",
     "exception": false,
     "start_time": "2021-09-20T14:30:08.931810",
     "status": "completed"
    },
    "tags": []
   },
   "outputs": [],
   "source": [
    "df_pivot = df.pivot_table(index=\"PRODUCT\", columns = \"RECORD_TIME\", values = \"LISTING_COUNT\")"
   ]
  },
  {
   "cell_type": "code",
   "execution_count": 6,
   "id": "union-huntington",
   "metadata": {
    "execution": {
     "iopub.execute_input": "2021-09-20T14:30:09.054830Z",
     "iopub.status.busy": "2021-09-20T14:30:09.052762Z",
     "iopub.status.idle": "2021-09-20T14:30:09.058179Z",
     "shell.execute_reply": "2021-09-20T14:30:09.059432Z"
    },
    "papermill": {
     "duration": 0.040839,
     "end_time": "2021-09-20T14:30:09.059865",
     "exception": false,
     "start_time": "2021-09-20T14:30:09.019026",
     "status": "completed"
    },
    "tags": []
   },
   "outputs": [],
   "source": [
    "df_pivot.columns = [\"stamp_1\", \"stamp_2\"]\n",
    "df_pivot_diff = df_pivot.diff(axis=1)"
   ]
  },
  {
   "cell_type": "code",
   "execution_count": 7,
   "id": "fifth-motion",
   "metadata": {
    "execution": {
     "iopub.execute_input": "2021-09-20T14:30:09.114110Z",
     "iopub.status.busy": "2021-09-20T14:30:09.111731Z",
     "iopub.status.idle": "2021-09-20T14:30:10.580023Z",
     "shell.execute_reply": "2021-09-20T14:30:10.581404Z"
    },
    "papermill": {
     "duration": 1.501542,
     "end_time": "2021-09-20T14:30:10.581846",
     "exception": false,
     "start_time": "2021-09-20T14:30:09.080304",
     "status": "completed"
    },
    "tags": []
   },
   "outputs": [
    {
     "data": {
      "text/plain": [
       "<AxesSubplot:ylabel='PRODUCT'>"
      ]
     },
     "execution_count": 7,
     "metadata": {},
     "output_type": "execute_result"
    },
    {
     "data": {
      "image/png": "[encoded data removed]",
      "text/plain": [
       "<Figure size 432x288 with 1 Axes>"
      ]
     },
     "metadata": {
      "needs_background": "light"
     },
     "output_type": "display_data"
    }
   ],
   "source": [
    "df_pivot_diff.sort_values(\"stamp_2\", ascending = False)[\"stamp_2\"].head(10).plot.barh()"
   ]
  },
  {
   "cell_type": "code",
   "execution_count": null,
   "id": "extra-executive",
   "metadata": {
    "papermill": {
     "duration": 0.022466,
     "end_time": "2021-09-20T14:30:10.628983",
     "exception": false,
     "start_time": "2021-09-20T14:30:10.606517",
     "status": "completed"
    },
    "tags": []
   },
   "outputs": [],
   "source": []
  }
 ],
 "metadata": {
  "kernelspec": {
   "display_name": "Python 3",
   "language": "python",
   "name": "python3"
  },
  "language_info": {
   "codemirror_mode": {
    "name": "ipython",
    "version": 3
   },
   "file_extension": ".py",
   "mimetype": "text/x-python",
   "name": "python",
   "nbconvert_exporter": "python",
   "pygments_lexer": "ipython3",
   "version": "3.9.5"
  },
  "papermill": {
   "default_parameters": {},
   "duration": 6.650137,
   "end_time": "2021-09-20T14:30:11.271103",
   "environment_variables": {},
   "exception": null,
   "input_path": "eBay_Overview.ipynb",
   "output_path": "eBay_Overview.ipynb",
   "parameters": {},
   "start_time": "2021-09-20T14:30:04.620966",
   "version": "2.3.3"
  }
 },
 "nbformat": 4,
 "nbformat_minor": 5
}