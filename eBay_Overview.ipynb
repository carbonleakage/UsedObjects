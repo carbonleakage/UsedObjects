{
 "cells": [
  {
   "cell_type": "code",
   "execution_count": 1,
   "id": "reverse-picking",
   "metadata": {
    "execution": {
     "iopub.execute_input": "2021-10-28T08:30:07.514478Z",
     "iopub.status.busy": "2021-10-28T08:30:07.512480Z",
     "iopub.status.idle": "2021-10-28T08:30:08.315588Z",
     "shell.execute_reply": "2021-10-28T08:30:08.317040Z"
    },
    "papermill": {
     "duration": 0.854429,
     "end_time": "2021-10-28T08:30:08.317705",
     "exception": false,
     "start_time": "2021-10-28T08:30:07.463276",
     "status": "completed"
    },
    "tags": []
   },
   "outputs": [],
   "source": [
    "import pandas as pd\n",
    "import sqlite3"
   ]
  },
  {
   "cell_type": "code",
   "execution_count": 2,
   "id": "innovative-syndrome",
   "metadata": {
    "execution": {
     "iopub.execute_input": "2021-10-28T08:30:08.368776Z",
     "iopub.status.busy": "2021-10-28T08:30:08.366667Z",
     "iopub.status.idle": "2021-10-28T08:30:09.031246Z",
     "shell.execute_reply": "2021-10-28T08:30:09.032505Z"
    },
    "papermill": {
     "duration": 0.694959,
     "end_time": "2021-10-28T08:30:09.032970",
     "exception": false,
     "start_time": "2021-10-28T08:30:08.338011",
     "status": "completed"
    },
    "tags": []
   },
   "outputs": [],
   "source": [
    "timestamps = pd.read_sql(\"select distinct record_time from EBAY_TOP_BERLIN order by record_time desc limit 2\", sqlite3.connect(\"UsedObjects.db\"))"
   ]
  },
  {
   "cell_type": "code",
   "execution_count": 3,
   "id": "periodic-identification",
   "metadata": {
    "execution": {
     "iopub.execute_input": "2021-10-28T08:30:09.107619Z",
     "iopub.status.busy": "2021-10-28T08:30:09.105593Z",
     "iopub.status.idle": "2021-10-28T08:30:09.126786Z",
     "shell.execute_reply": "2021-10-28T08:30:09.125389Z"
    },
    "papermill": {
     "duration": 0.069202,
     "end_time": "2021-10-28T08:30:09.127136",
     "exception": false,
     "start_time": "2021-10-28T08:30:09.057934",
     "status": "completed"
    },
    "tags": []
   },
   "outputs": [
    {
     "data": {
      "text/html": [
       "<div>\n",
       "<style scoped>\n",
       "    .dataframe tbody tr th:only-of-type {\n",
       "        vertical-align: middle;\n",
       "    }\n",
       "\n",
       "    .dataframe tbody tr th {\n",
       "        vertical-align: top;\n",
       "    }\n",
       "\n",
       "    .dataframe thead th {\n",
       "        text-align: right;\n",
       "    }\n",
       "</style>\n",
       "<table border=\"1\" class=\"dataframe\">\n",
       "  <thead>\n",
       "    <tr style=\"text-align: right;\">\n",
       "      <th></th>\n",
       "      <th>RECORD_TIME</th>\n",
       "    </tr>\n",
       "  </thead>\n",
       "  <tbody>\n",
       "    <tr>\n",
       "      <th>0</th>\n",
       "      <td>2021-10-28 10:30</td>\n",
       "    </tr>\n",
       "    <tr>\n",
       "      <th>1</th>\n",
       "      <td>2021-10-28 10:00</td>\n",
       "    </tr>\n",
       "  </tbody>\n",
       "</table>\n",
       "</div>"
      ],
      "text/plain": [
       "        RECORD_TIME\n",
       "0  2021-10-28 10:30\n",
       "1  2021-10-28 10:00"
      ]
     },
     "execution_count": 3,
     "metadata": {},
     "output_type": "execute_result"
    }
   ],
   "source": [
    "timestamps"
   ]
  },
  {
   "cell_type": "code",
   "execution_count": 4,
   "id": "alternate-victory",
   "metadata": {
    "execution": {
     "iopub.execute_input": "2021-10-28T08:30:09.177821Z",
     "iopub.status.busy": "2021-10-28T08:30:09.175758Z",
     "iopub.status.idle": "2021-10-28T08:30:10.133418Z",
     "shell.execute_reply": "2021-10-28T08:30:10.134632Z"
    },
    "papermill": {
     "duration": 0.987683,
     "end_time": "2021-10-28T08:30:10.135025",
     "exception": false,
     "start_time": "2021-10-28T08:30:09.147342",
     "status": "completed"
    },
    "tags": []
   },
   "outputs": [],
   "source": [
    "df = pd.read_sql(\"select * from EBAY_TOP_BERLIN where record_time in (select distinct record_time from EBAY_TOP_BERLIN order by record_time desc limit 2)\", sqlite3.connect(\"UsedObjects.db\"))"
   ]
  },
  {
   "cell_type": "code",
   "execution_count": 5,
   "id": "popular-active",
   "metadata": {
    "execution": {
     "iopub.execute_input": "2021-10-28T08:30:10.205689Z",
     "iopub.status.busy": "2021-10-28T08:30:10.194219Z",
     "iopub.status.idle": "2021-10-28T08:30:10.221429Z",
     "shell.execute_reply": "2021-10-28T08:30:10.222650Z"
    },
    "papermill": {
     "duration": 0.067415,
     "end_time": "2021-10-28T08:30:10.223046",
     "exception": false,
     "start_time": "2021-10-28T08:30:10.155631",
     "status": "completed"
    },
    "tags": []
   },
   "outputs": [],
   "source": [
    "df_pivot = df.pivot_table(index=\"PRODUCT\", columns = \"RECORD_TIME\", values = \"LISTING_COUNT\")"
   ]
  },
  {
   "cell_type": "code",
   "execution_count": 6,
   "id": "union-huntington",
   "metadata": {
    "execution": {
     "iopub.execute_input": "2021-10-28T08:30:10.279519Z",
     "iopub.status.busy": "2021-10-28T08:30:10.277467Z",
     "iopub.status.idle": "2021-10-28T08:30:10.284114Z",
     "shell.execute_reply": "2021-10-28T08:30:10.282753Z"
    },
    "papermill": {
     "duration": 0.040469,
     "end_time": "2021-10-28T08:30:10.284465",
     "exception": false,
     "start_time": "2021-10-28T08:30:10.243996",
     "status": "completed"
    },
    "tags": []
   },
   "outputs": [],
   "source": [
    "df_pivot.columns = [\"stamp_1\", \"stamp_2\"]\n",
    "df_pivot_diff = df_pivot.diff(axis=1)"
   ]
  },
  {
   "cell_type": "code",
   "execution_count": 7,
   "id": "fifth-motion",
   "metadata": {
    "execution": {
     "iopub.execute_input": "2021-10-28T08:30:10.339984Z",
     "iopub.status.busy": "2021-10-28T08:30:10.337370Z",
     "iopub.status.idle": "2021-10-28T08:30:11.811037Z",
     "shell.execute_reply": "2021-10-28T08:30:11.812310Z"
    },
    "papermill": {
     "duration": 1.507766,
     "end_time": "2021-10-28T08:30:11.812782",
     "exception": false,
     "start_time": "2021-10-28T08:30:10.305016",
     "status": "completed"
    },
    "tags": []
   },
   "outputs": [
    {
     "data": {
      "text/plain": [
       "<AxesSubplot:ylabel='PRODUCT'>"
      ]
     },
     "execution_count": 7,
     "metadata": {},
     "output_type": "execute_result"
    },
    {
     "data": {
      "image/png": "[encoded data removed]",
      "text/plain": [
       "<Figure size 432x288 with 1 Axes>"
      ]
     },
     "metadata": {
      "needs_background": "light"
     },
     "output_type": "display_data"
    }
   ],
   "source": [
    "df_pivot_diff.sort_values(\"stamp_2\", ascending = False)[\"stamp_2\"].head(10).plot.barh()"
   ]
  },
  {
   "cell_type": "code",
   "execution_count": null,
   "id": "extra-executive",
   "metadata": {
    "papermill": {
     "duration": 0.022184,
     "end_time": "2021-10-28T08:30:11.859413",
     "exception": false,
     "start_time": "2021-10-28T08:30:11.837229",
     "status": "completed"
    },
    "tags": []
   },
   "outputs": [],
   "source": []
  }
 ],
 "metadata": {
  "kernelspec": {
   "display_name": "Python 3",
   "language": "python",
   "name": "python3"
  },
  "language_info": {
   "codemirror_mode": {
    "name": "ipython",
    "version": 3
   },
   "file_extension": ".py",
   "mimetype": "text/x-python",
   "name": "python",
   "nbconvert_exporter": "python",
   "pygments_lexer": "ipython3",
   "version": "3.9.5"
  },
  "papermill": {
   "default_parameters": {},
   "duration": 7.442367,
   "end_time": "2021-10-28T08:30:12.503154",
   "environment_variables": {},
   "exception": null,
   "input_path": "eBay_Overview.ipynb",
   "output_path": "eBay_Overview.ipynb",
   "parameters": {},
   "start_time": "2021-10-28T08:30:05.060787",
   "version": "2.3.3"
  }
 },
 "nbformat": 4,
 "nbformat_minor": 5
}