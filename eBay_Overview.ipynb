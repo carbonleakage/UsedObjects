{
 "cells": [
  {
   "cell_type": "code",
   "execution_count": 1,
   "id": "reverse-picking",
   "metadata": {
    "execution": {
     "iopub.execute_input": "2021-12-08T13:00:08.088976Z",
     "iopub.status.busy": "2021-12-08T13:00:08.086249Z",
     "iopub.status.idle": "2021-12-08T13:00:09.008363Z",
     "shell.execute_reply": "2021-12-08T13:00:09.009806Z"
    },
    "papermill": {
     "duration": 0.971647,
     "end_time": "2021-12-08T13:00:09.010496",
     "exception": false,
     "start_time": "2021-12-08T13:00:08.038849",
     "status": "completed"
    },
    "tags": []
   },
   "outputs": [],
   "source": [
    "import pandas as pd\n",
    "import sqlite3"
   ]
  },
  {
   "cell_type": "code",
   "execution_count": 2,
   "id": "innovative-syndrome",
   "metadata": {
    "execution": {
     "iopub.execute_input": "2021-12-08T13:00:09.091398Z",
     "iopub.status.busy": "2021-12-08T13:00:09.089435Z",
     "iopub.status.idle": "2021-12-08T13:00:10.146674Z",
     "shell.execute_reply": "2021-12-08T13:00:10.147912Z"
    },
    "papermill": {
     "duration": 1.114549,
     "end_time": "2021-12-08T13:00:10.148306",
     "exception": false,
     "start_time": "2021-12-08T13:00:09.033757",
     "status": "completed"
    },
    "tags": []
   },
   "outputs": [],
   "source": [
    "timestamps = pd.read_sql(\"select distinct record_time from EBAY_TOP_BERLIN order by record_time desc limit 2\", sqlite3.connect(\"UsedObjects.db\"))"
   ]
  },
  {
   "cell_type": "code",
   "execution_count": 3,
   "id": "periodic-identification",
   "metadata": {
    "execution": {
     "iopub.execute_input": "2021-12-08T13:00:10.219161Z",
     "iopub.status.busy": "2021-12-08T13:00:10.213360Z",
     "iopub.status.idle": "2021-12-08T13:00:10.235341Z",
     "shell.execute_reply": "2021-12-08T13:00:10.236754Z"
    },
    "papermill": {
     "duration": 0.06959,
     "end_time": "2021-12-08T13:00:10.237233",
     "exception": false,
     "start_time": "2021-12-08T13:00:10.167643",
     "status": "completed"
    },
    "tags": []
   },
   "outputs": [
    {
     "data": {
      "text/html": [
       "<div>\n",
       "<style scoped>\n",
       "    .dataframe tbody tr th:only-of-type {\n",
       "        vertical-align: middle;\n",
       "    }\n",
       "\n",
       "    .dataframe tbody tr th {\n",
       "        vertical-align: top;\n",
       "    }\n",
       "\n",
       "    .dataframe thead th {\n",
       "        text-align: right;\n",
       "    }\n",
       "</style>\n",
       "<table border=\"1\" class=\"dataframe\">\n",
       "  <thead>\n",
       "    <tr style=\"text-align: right;\">\n",
       "      <th></th>\n",
       "      <th>RECORD_TIME</th>\n",
       "    </tr>\n",
       "  </thead>\n",
       "  <tbody>\n",
       "    <tr>\n",
       "      <th>0</th>\n",
       "      <td>2021-12-08 14:00</td>\n",
       "    </tr>\n",
       "    <tr>\n",
       "      <th>1</th>\n",
       "      <td>2021-12-08 13:30</td>\n",
       "    </tr>\n",
       "  </tbody>\n",
       "</table>\n",
       "</div>"
      ],
      "text/plain": [
       "        RECORD_TIME\n",
       "0  2021-12-08 14:00\n",
       "1  2021-12-08 13:30"
      ]
     },
     "execution_count": 3,
     "metadata": {},
     "output_type": "execute_result"
    }
   ],
   "source": [
    "timestamps"
   ]
  },
  {
   "cell_type": "code",
   "execution_count": 4,
   "id": "alternate-victory",
   "metadata": {
    "execution": {
     "iopub.execute_input": "2021-12-08T13:00:10.294308Z",
     "iopub.status.busy": "2021-12-08T13:00:10.291931Z",
     "iopub.status.idle": "2021-12-08T13:00:11.804123Z",
     "shell.execute_reply": "2021-12-08T13:00:11.805458Z"
    },
    "papermill": {
     "duration": 1.548304,
     "end_time": "2021-12-08T13:00:11.805897",
     "exception": false,
     "start_time": "2021-12-08T13:00:10.257593",
     "status": "completed"
    },
    "tags": []
   },
   "outputs": [],
   "source": [
    "df = pd.read_sql(\"select * from EBAY_TOP_BERLIN where record_time in (select distinct record_time from EBAY_TOP_BERLIN order by record_time desc limit 2)\", sqlite3.connect(\"UsedObjects.db\"))"
   ]
  },
  {
   "cell_type": "code",
   "execution_count": 5,
   "id": "popular-active",
   "metadata": {
    "execution": {
     "iopub.execute_input": "2021-12-08T13:00:11.867565Z",
     "iopub.status.busy": "2021-12-08T13:00:11.865069Z",
     "iopub.status.idle": "2021-12-08T13:00:11.896113Z",
     "shell.execute_reply": "2021-12-08T13:00:11.897649Z"
    },
    "papermill": {
     "duration": 0.070662,
     "end_time": "2021-12-08T13:00:11.898129",
     "exception": false,
     "start_time": "2021-12-08T13:00:11.827467",
     "status": "completed"
    },
    "tags": []
   },
   "outputs": [],
   "source": [
    "df_pivot = df.pivot_table(index=\"PRODUCT\", columns = \"RECORD_TIME\", values = \"LISTING_COUNT\")"
   ]
  },
  {
   "cell_type": "code",
   "execution_count": 6,
   "id": "union-huntington",
   "metadata": {
    "execution": {
     "iopub.execute_input": "2021-12-08T13:00:11.956726Z",
     "iopub.status.busy": "2021-12-08T13:00:11.954429Z",
     "iopub.status.idle": "2021-12-08T13:00:11.961900Z",
     "shell.execute_reply": "2021-12-08T13:00:11.960226Z"
    },
    "papermill": {
     "duration": 0.043752,
     "end_time": "2021-12-08T13:00:11.962307",
     "exception": false,
     "start_time": "2021-12-08T13:00:11.918555",
     "status": "completed"
    },
    "tags": []
   },
   "outputs": [],
   "source": [
    "df_pivot.columns = [\"stamp_1\", \"stamp_2\"]\n",
    "df_pivot_diff = df_pivot.diff(axis=1)"
   ]
  },
  {
   "cell_type": "code",
   "execution_count": 7,
   "id": "fifth-motion",
   "metadata": {
    "execution": {
     "iopub.execute_input": "2021-12-08T13:00:12.021840Z",
     "iopub.status.busy": "2021-12-08T13:00:12.018912Z",
     "iopub.status.idle": "2021-12-08T13:00:13.679989Z",
     "shell.execute_reply": "2021-12-08T13:00:13.681460Z"
    },
    "papermill": {
     "duration": 1.69914,
     "end_time": "2021-12-08T13:00:13.681903",
     "exception": false,
     "start_time": "2021-12-08T13:00:11.982763",
     "status": "completed"
    },
    "tags": []
   },
   "outputs": [
    {
     "data": {
      "text/plain": [
       "<AxesSubplot:ylabel='PRODUCT'>"
      ]
     },
     "execution_count": 7,
     "metadata": {},
     "output_type": "execute_result"
    },
    {
     "data": {
      "image/png": "[encoded data removed]",
      "text/plain": [
       "<Figure size 432x288 with 1 Axes>"
      ]
     },
     "metadata": {
      "needs_background": "light"
     },
     "output_type": "display_data"
    }
   ],
   "source": [
    "df_pivot_diff.sort_values(\"stamp_2\", ascending = False)[\"stamp_2\"].head(10).plot.barh()"
   ]
  },
  {
   "cell_type": "code",
   "execution_count": null,
   "id": "extra-executive",
   "metadata": {
    "papermill": {
     "duration": 0.022287,
     "end_time": "2021-12-08T13:00:13.728204",
     "exception": false,
     "start_time": "2021-12-08T13:00:13.705917",
     "status": "completed"
    },
    "tags": []
   },
   "outputs": [],
   "source": []
  }
 ],
 "metadata": {
  "kernelspec": {
   "display_name": "Python 3",
   "language": "python",
   "name": "python3"
  },
  "language_info": {
   "codemirror_mode": {
    "name": "ipython",
    "version": 3
   },
   "file_extension": ".py",
   "mimetype": "text/x-python",
   "name": "python",
   "nbconvert_exporter": "python",
   "pygments_lexer": "ipython3",
   "version": "3.9.5"
  },
  "papermill": {
   "default_parameters": {},
   "duration": 9.949454,
   "end_time": "2021-12-08T13:00:15.227627",
   "environment_variables": {},
   "exception": null,
   "input_path": "eBay_Overview.ipynb",
   "output_path": "eBay_Overview.ipynb",
   "parameters": {},
   "start_time": "2021-12-08T13:00:05.278173",
   "version": "2.3.3"
  }
 },
 "nbformat": 4,
 "nbformat_minor": 5
}