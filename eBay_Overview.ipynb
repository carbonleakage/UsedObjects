{
 "cells": [
  {
   "cell_type": "code",
   "execution_count": 1,
   "id": "reverse-picking",
   "metadata": {
    "execution": {
     "iopub.execute_input": "2021-11-16T23:30:07.629555Z",
     "iopub.status.busy": "2021-11-16T23:30:07.627143Z",
     "iopub.status.idle": "2021-11-16T23:30:08.578751Z",
     "shell.execute_reply": "2021-11-16T23:30:08.580297Z"
    },
    "papermill": {
     "duration": 1.001585,
     "end_time": "2021-11-16T23:30:08.581383",
     "exception": false,
     "start_time": "2021-11-16T23:30:07.579798",
     "status": "completed"
    },
    "tags": []
   },
   "outputs": [],
   "source": [
    "import pandas as pd\n",
    "import sqlite3"
   ]
  },
  {
   "cell_type": "code",
   "execution_count": 2,
   "id": "innovative-syndrome",
   "metadata": {
    "execution": {
     "iopub.execute_input": "2021-11-16T23:30:08.652274Z",
     "iopub.status.busy": "2021-11-16T23:30:08.650020Z",
     "iopub.status.idle": "2021-11-16T23:30:09.478245Z",
     "shell.execute_reply": "2021-11-16T23:30:09.480338Z"
    },
    "papermill": {
     "duration": 0.862741,
     "end_time": "2021-11-16T23:30:09.480878",
     "exception": false,
     "start_time": "2021-11-16T23:30:08.618137",
     "status": "completed"
    },
    "tags": []
   },
   "outputs": [],
   "source": [
    "timestamps = pd.read_sql(\"select distinct record_time from EBAY_TOP_BERLIN order by record_time desc limit 2\", sqlite3.connect(\"UsedObjects.db\"))"
   ]
  },
  {
   "cell_type": "code",
   "execution_count": 3,
   "id": "periodic-identification",
   "metadata": {
    "execution": {
     "iopub.execute_input": "2021-11-16T23:30:09.550610Z",
     "iopub.status.busy": "2021-11-16T23:30:09.548266Z",
     "iopub.status.idle": "2021-11-16T23:30:09.572993Z",
     "shell.execute_reply": "2021-11-16T23:30:09.574455Z"
    },
    "papermill": {
     "duration": 0.074028,
     "end_time": "2021-11-16T23:30:09.574939",
     "exception": false,
     "start_time": "2021-11-16T23:30:09.500911",
     "status": "completed"
    },
    "tags": []
   },
   "outputs": [
    {
     "data": {
      "text/html": [
       "<div>\n",
       "<style scoped>\n",
       "    .dataframe tbody tr th:only-of-type {\n",
       "        vertical-align: middle;\n",
       "    }\n",
       "\n",
       "    .dataframe tbody tr th {\n",
       "        vertical-align: top;\n",
       "    }\n",
       "\n",
       "    .dataframe thead th {\n",
       "        text-align: right;\n",
       "    }\n",
       "</style>\n",
       "<table border=\"1\" class=\"dataframe\">\n",
       "  <thead>\n",
       "    <tr style=\"text-align: right;\">\n",
       "      <th></th>\n",
       "      <th>RECORD_TIME</th>\n",
       "    </tr>\n",
       "  </thead>\n",
       "  <tbody>\n",
       "    <tr>\n",
       "      <th>0</th>\n",
       "      <td>2021-11-17 00:30</td>\n",
       "    </tr>\n",
       "    <tr>\n",
       "      <th>1</th>\n",
       "      <td>2021-11-17 00:00</td>\n",
       "    </tr>\n",
       "  </tbody>\n",
       "</table>\n",
       "</div>"
      ],
      "text/plain": [
       "        RECORD_TIME\n",
       "0  2021-11-17 00:30\n",
       "1  2021-11-17 00:00"
      ]
     },
     "execution_count": 3,
     "metadata": {},
     "output_type": "execute_result"
    }
   ],
   "source": [
    "timestamps"
   ]
  },
  {
   "cell_type": "code",
   "execution_count": 4,
   "id": "alternate-victory",
   "metadata": {
    "execution": {
     "iopub.execute_input": "2021-11-16T23:30:09.631759Z",
     "iopub.status.busy": "2021-11-16T23:30:09.629469Z",
     "iopub.status.idle": "2021-11-16T23:30:10.844047Z",
     "shell.execute_reply": "2021-11-16T23:30:10.845559Z"
    },
    "papermill": {
     "duration": 1.248743,
     "end_time": "2021-11-16T23:30:10.846092",
     "exception": false,
     "start_time": "2021-11-16T23:30:09.597349",
     "status": "completed"
    },
    "tags": []
   },
   "outputs": [],
   "source": [
    "df = pd.read_sql(\"select * from EBAY_TOP_BERLIN where record_time in (select distinct record_time from EBAY_TOP_BERLIN order by record_time desc limit 2)\", sqlite3.connect(\"UsedObjects.db\"))"
   ]
  },
  {
   "cell_type": "code",
   "execution_count": 5,
   "id": "popular-active",
   "metadata": {
    "execution": {
     "iopub.execute_input": "2021-11-16T23:30:10.922357Z",
     "iopub.status.busy": "2021-11-16T23:30:10.907222Z",
     "iopub.status.idle": "2021-11-16T23:30:10.944578Z",
     "shell.execute_reply": "2021-11-16T23:30:10.942907Z"
    },
    "papermill": {
     "duration": 0.078154,
     "end_time": "2021-11-16T23:30:10.945075",
     "exception": false,
     "start_time": "2021-11-16T23:30:10.866921",
     "status": "completed"
    },
    "tags": []
   },
   "outputs": [],
   "source": [
    "df_pivot = df.pivot_table(index=\"PRODUCT\", columns = \"RECORD_TIME\", values = \"LISTING_COUNT\")"
   ]
  },
  {
   "cell_type": "code",
   "execution_count": 6,
   "id": "union-huntington",
   "metadata": {
    "execution": {
     "iopub.execute_input": "2021-11-16T23:30:11.006268Z",
     "iopub.status.busy": "2021-11-16T23:30:11.003926Z",
     "iopub.status.idle": "2021-11-16T23:30:11.010016Z",
     "shell.execute_reply": "2021-11-16T23:30:11.011587Z"
    },
    "papermill": {
     "duration": 0.046236,
     "end_time": "2021-11-16T23:30:11.012131",
     "exception": false,
     "start_time": "2021-11-16T23:30:10.965895",
     "status": "completed"
    },
    "tags": []
   },
   "outputs": [],
   "source": [
    "df_pivot.columns = [\"stamp_1\", \"stamp_2\"]\n",
    "df_pivot_diff = df_pivot.diff(axis=1)"
   ]
  },
  {
   "cell_type": "code",
   "execution_count": 7,
   "id": "fifth-motion",
   "metadata": {
    "execution": {
     "iopub.execute_input": "2021-11-16T23:30:11.070522Z",
     "iopub.status.busy": "2021-11-16T23:30:11.068000Z",
     "iopub.status.idle": "2021-11-16T23:30:13.010847Z",
     "shell.execute_reply": "2021-11-16T23:30:13.012486Z"
    },
    "papermill": {
     "duration": 1.979243,
     "end_time": "2021-11-16T23:30:13.013107",
     "exception": false,
     "start_time": "2021-11-16T23:30:11.033864",
     "status": "completed"
    },
    "tags": []
   },
   "outputs": [
    {
     "data": {
      "text/plain": [
       "<AxesSubplot:ylabel='PRODUCT'>"
      ]
     },
     "execution_count": 7,
     "metadata": {},
     "output_type": "execute_result"
    },
    {
     "data": {
      "image/png": "[encoded data removed]",
      "text/plain": [
       "<Figure size 432x288 with 1 Axes>"
      ]
     },
     "metadata": {
      "needs_background": "light"
     },
     "output_type": "display_data"
    }
   ],
   "source": [
    "df_pivot_diff.sort_values(\"stamp_2\", ascending = False)[\"stamp_2\"].head(10).plot.barh()"
   ]
  },
  {
   "cell_type": "code",
   "execution_count": null,
   "id": "extra-executive",
   "metadata": {
    "papermill": {
     "duration": 0.03529,
     "end_time": "2021-11-16T23:30:13.082228",
     "exception": false,
     "start_time": "2021-11-16T23:30:13.046938",
     "status": "completed"
    },
    "tags": []
   },
   "outputs": [],
   "source": []
  }
 ],
 "metadata": {
  "kernelspec": {
   "display_name": "Python 3",
   "language": "python",
   "name": "python3"
  },
  "language_info": {
   "codemirror_mode": {
    "name": "ipython",
    "version": 3
   },
   "file_extension": ".py",
   "mimetype": "text/x-python",
   "name": "python",
   "nbconvert_exporter": "python",
   "pygments_lexer": "ipython3",
   "version": "3.9.5"
  },
  "papermill": {
   "default_parameters": {},
   "duration": 9.930993,
   "end_time": "2021-11-16T23:30:14.801424",
   "environment_variables": {},
   "exception": null,
   "input_path": "eBay_Overview.ipynb",
   "output_path": "eBay_Overview.ipynb",
   "parameters": {},
   "start_time": "2021-11-16T23:30:04.870431",
   "version": "2.3.3"
  }
 },
 "nbformat": 4,
 "nbformat_minor": 5
}