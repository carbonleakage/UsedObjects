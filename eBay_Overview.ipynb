{
 "cells": [
  {
   "cell_type": "code",
   "execution_count": 1,
   "id": "reverse-picking",
   "metadata": {
    "execution": {
     "iopub.execute_input": "2021-10-05T08:30:06.817212Z",
     "iopub.status.busy": "2021-10-05T08:30:06.815247Z",
     "iopub.status.idle": "2021-10-05T08:30:07.625079Z",
     "shell.execute_reply": "2021-10-05T08:30:07.626314Z"
    },
    "papermill": {
     "duration": 0.861844,
     "end_time": "2021-10-05T08:30:07.627141",
     "exception": false,
     "start_time": "2021-10-05T08:30:06.765297",
     "status": "completed"
    },
    "tags": []
   },
   "outputs": [],
   "source": [
    "import pandas as pd\n",
    "import sqlite3"
   ]
  },
  {
   "cell_type": "code",
   "execution_count": 2,
   "id": "innovative-syndrome",
   "metadata": {
    "execution": {
     "iopub.execute_input": "2021-10-05T08:30:07.679672Z",
     "iopub.status.busy": "2021-10-05T08:30:07.677276Z",
     "iopub.status.idle": "2021-10-05T08:30:08.137761Z",
     "shell.execute_reply": "2021-10-05T08:30:08.139052Z"
    },
    "papermill": {
     "duration": 0.490371,
     "end_time": "2021-10-05T08:30:08.139467",
     "exception": false,
     "start_time": "2021-10-05T08:30:07.649096",
     "status": "completed"
    },
    "tags": []
   },
   "outputs": [],
   "source": [
    "timestamps = pd.read_sql(\"select distinct record_time from EBAY_TOP_BERLIN order by record_time desc limit 2\", sqlite3.connect(\"UsedObjects.db\"))"
   ]
  },
  {
   "cell_type": "code",
   "execution_count": 3,
   "id": "periodic-identification",
   "metadata": {
    "execution": {
     "iopub.execute_input": "2021-10-05T08:30:08.208379Z",
     "iopub.status.busy": "2021-10-05T08:30:08.206178Z",
     "iopub.status.idle": "2021-10-05T08:30:08.226684Z",
     "shell.execute_reply": "2021-10-05T08:30:08.228183Z"
    },
    "papermill": {
     "duration": 0.067647,
     "end_time": "2021-10-05T08:30:08.228627",
     "exception": false,
     "start_time": "2021-10-05T08:30:08.160980",
     "status": "completed"
    },
    "tags": []
   },
   "outputs": [
    {
     "data": {
      "text/html": [
       "<div>\n",
       "<style scoped>\n",
       "    .dataframe tbody tr th:only-of-type {\n",
       "        vertical-align: middle;\n",
       "    }\n",
       "\n",
       "    .dataframe tbody tr th {\n",
       "        vertical-align: top;\n",
       "    }\n",
       "\n",
       "    .dataframe thead th {\n",
       "        text-align: right;\n",
       "    }\n",
       "</style>\n",
       "<table border=\"1\" class=\"dataframe\">\n",
       "  <thead>\n",
       "    <tr style=\"text-align: right;\">\n",
       "      <th></th>\n",
       "      <th>RECORD_TIME</th>\n",
       "    </tr>\n",
       "  </thead>\n",
       "  <tbody>\n",
       "    <tr>\n",
       "      <th>0</th>\n",
       "      <td>2021-10-05 10:30</td>\n",
       "    </tr>\n",
       "    <tr>\n",
       "      <th>1</th>\n",
       "      <td>2021-10-05 10:00</td>\n",
       "    </tr>\n",
       "  </tbody>\n",
       "</table>\n",
       "</div>"
      ],
      "text/plain": [
       "        RECORD_TIME\n",
       "0  2021-10-05 10:30\n",
       "1  2021-10-05 10:00"
      ]
     },
     "execution_count": 3,
     "metadata": {},
     "output_type": "execute_result"
    }
   ],
   "source": [
    "timestamps"
   ]
  },
  {
   "cell_type": "code",
   "execution_count": 4,
   "id": "alternate-victory",
   "metadata": {
    "execution": {
     "iopub.execute_input": "2021-10-05T08:30:08.288609Z",
     "iopub.status.busy": "2021-10-05T08:30:08.286448Z",
     "iopub.status.idle": "2021-10-05T08:30:08.951617Z",
     "shell.execute_reply": "2021-10-05T08:30:08.952898Z"
    },
    "papermill": {
     "duration": 0.69872,
     "end_time": "2021-10-05T08:30:08.953296",
     "exception": false,
     "start_time": "2021-10-05T08:30:08.254576",
     "status": "completed"
    },
    "tags": []
   },
   "outputs": [],
   "source": [
    "df = pd.read_sql(\"select * from EBAY_TOP_BERLIN where record_time in (select distinct record_time from EBAY_TOP_BERLIN order by record_time desc limit 2)\", sqlite3.connect(\"UsedObjects.db\"))"
   ]
  },
  {
   "cell_type": "code",
   "execution_count": 5,
   "id": "popular-active",
   "metadata": {
    "execution": {
     "iopub.execute_input": "2021-10-05T08:30:09.022747Z",
     "iopub.status.busy": "2021-10-05T08:30:09.010352Z",
     "iopub.status.idle": "2021-10-05T08:30:09.040472Z",
     "shell.execute_reply": "2021-10-05T08:30:09.041835Z"
    },
    "papermill": {
     "duration": 0.068663,
     "end_time": "2021-10-05T08:30:09.042270",
     "exception": false,
     "start_time": "2021-10-05T08:30:08.973607",
     "status": "completed"
    },
    "tags": []
   },
   "outputs": [],
   "source": [
    "df_pivot = df.pivot_table(index=\"PRODUCT\", columns = \"RECORD_TIME\", values = \"LISTING_COUNT\")"
   ]
  },
  {
   "cell_type": "code",
   "execution_count": 6,
   "id": "union-huntington",
   "metadata": {
    "execution": {
     "iopub.execute_input": "2021-10-05T08:30:09.098511Z",
     "iopub.status.busy": "2021-10-05T08:30:09.096437Z",
     "iopub.status.idle": "2021-10-05T08:30:09.101982Z",
     "shell.execute_reply": "2021-10-05T08:30:09.103299Z"
    },
    "papermill": {
     "duration": 0.041308,
     "end_time": "2021-10-05T08:30:09.103722",
     "exception": false,
     "start_time": "2021-10-05T08:30:09.062414",
     "status": "completed"
    },
    "tags": []
   },
   "outputs": [],
   "source": [
    "df_pivot.columns = [\"stamp_1\", \"stamp_2\"]\n",
    "df_pivot_diff = df_pivot.diff(axis=1)"
   ]
  },
  {
   "cell_type": "code",
   "execution_count": 7,
   "id": "fifth-motion",
   "metadata": {
    "execution": {
     "iopub.execute_input": "2021-10-05T08:30:09.160961Z",
     "iopub.status.busy": "2021-10-05T08:30:09.158383Z",
     "iopub.status.idle": "2021-10-05T08:30:10.648858Z",
     "shell.execute_reply": "2021-10-05T08:30:10.650142Z"
    },
    "papermill": {
     "duration": 1.523847,
     "end_time": "2021-10-05T08:30:10.650561",
     "exception": false,
     "start_time": "2021-10-05T08:30:09.126714",
     "status": "completed"
    },
    "tags": []
   },
   "outputs": [
    {
     "data": {
      "text/plain": [
       "<AxesSubplot:ylabel='PRODUCT'>"
      ]
     },
     "execution_count": 7,
     "metadata": {},
     "output_type": "execute_result"
    },
    {
     "data": {
      "image/png": "[encoded data removed]",
      "text/plain": [
       "<Figure size 432x288 with 1 Axes>"
      ]
     },
     "metadata": {
      "needs_background": "light"
     },
     "output_type": "display_data"
    }
   ],
   "source": [
    "df_pivot_diff.sort_values(\"stamp_2\", ascending = False)[\"stamp_2\"].head(10).plot.barh()"
   ]
  },
  {
   "cell_type": "code",
   "execution_count": null,
   "id": "extra-executive",
   "metadata": {
    "papermill": {
     "duration": 0.022088,
     "end_time": "2021-10-05T08:30:10.697057",
     "exception": false,
     "start_time": "2021-10-05T08:30:10.674969",
     "status": "completed"
    },
    "tags": []
   },
   "outputs": [],
   "source": []
  }
 ],
 "metadata": {
  "kernelspec": {
   "display_name": "Python 3",
   "language": "python",
   "name": "python3"
  },
  "language_info": {
   "codemirror_mode": {
    "name": "ipython",
    "version": 3
   },
   "file_extension": ".py",
   "mimetype": "text/x-python",
   "name": "python",
   "nbconvert_exporter": "python",
   "pygments_lexer": "ipython3",
   "version": "3.9.5"
  },
  "papermill": {
   "default_parameters": {},
   "duration": 7.830625,
   "end_time": "2021-10-05T08:30:12.181207",
   "environment_variables": {},
   "exception": null,
   "input_path": "eBay_Overview.ipynb",
   "output_path": "eBay_Overview.ipynb",
   "parameters": {},
   "start_time": "2021-10-05T08:30:04.350582",
   "version": "2.3.3"
  }
 },
 "nbformat": 4,
 "nbformat_minor": 5
}