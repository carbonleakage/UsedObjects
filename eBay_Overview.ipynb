{
 "cells": [
  {
   "cell_type": "code",
   "execution_count": 1,
   "id": "reverse-picking",
   "metadata": {
    "execution": {
     "iopub.execute_input": "2021-11-20T10:30:07.412209Z",
     "iopub.status.busy": "2021-11-20T10:30:07.409886Z",
     "iopub.status.idle": "2021-11-20T10:30:08.369560Z",
     "shell.execute_reply": "2021-11-20T10:30:08.371092Z"
    },
    "papermill": {
     "duration": 1.00888,
     "end_time": "2021-11-20T10:30:08.371813",
     "exception": false,
     "start_time": "2021-11-20T10:30:07.362933",
     "status": "completed"
    },
    "tags": []
   },
   "outputs": [],
   "source": [
    "import pandas as pd\n",
    "import sqlite3"
   ]
  },
  {
   "cell_type": "code",
   "execution_count": 2,
   "id": "innovative-syndrome",
   "metadata": {
    "execution": {
     "iopub.execute_input": "2021-11-20T10:30:08.436075Z",
     "iopub.status.busy": "2021-11-20T10:30:08.433288Z",
     "iopub.status.idle": "2021-11-20T10:30:09.309949Z",
     "shell.execute_reply": "2021-11-20T10:30:09.311580Z"
    },
    "papermill": {
     "duration": 0.912937,
     "end_time": "2021-11-20T10:30:09.312099",
     "exception": false,
     "start_time": "2021-11-20T10:30:08.399162",
     "status": "completed"
    },
    "tags": []
   },
   "outputs": [],
   "source": [
    "timestamps = pd.read_sql(\"select distinct record_time from EBAY_TOP_BERLIN order by record_time desc limit 2\", sqlite3.connect(\"UsedObjects.db\"))"
   ]
  },
  {
   "cell_type": "code",
   "execution_count": 3,
   "id": "periodic-identification",
   "metadata": {
    "execution": {
     "iopub.execute_input": "2021-11-20T10:30:09.384128Z",
     "iopub.status.busy": "2021-11-20T10:30:09.381886Z",
     "iopub.status.idle": "2021-11-20T10:30:09.403993Z",
     "shell.execute_reply": "2021-11-20T10:30:09.405497Z"
    },
    "papermill": {
     "duration": 0.071859,
     "end_time": "2021-11-20T10:30:09.405975",
     "exception": false,
     "start_time": "2021-11-20T10:30:09.334116",
     "status": "completed"
    },
    "tags": []
   },
   "outputs": [
    {
     "data": {
      "text/html": [
       "<div>\n",
       "<style scoped>\n",
       "    .dataframe tbody tr th:only-of-type {\n",
       "        vertical-align: middle;\n",
       "    }\n",
       "\n",
       "    .dataframe tbody tr th {\n",
       "        vertical-align: top;\n",
       "    }\n",
       "\n",
       "    .dataframe thead th {\n",
       "        text-align: right;\n",
       "    }\n",
       "</style>\n",
       "<table border=\"1\" class=\"dataframe\">\n",
       "  <thead>\n",
       "    <tr style=\"text-align: right;\">\n",
       "      <th></th>\n",
       "      <th>RECORD_TIME</th>\n",
       "    </tr>\n",
       "  </thead>\n",
       "  <tbody>\n",
       "    <tr>\n",
       "      <th>0</th>\n",
       "      <td>2021-11-20 11:30</td>\n",
       "    </tr>\n",
       "    <tr>\n",
       "      <th>1</th>\n",
       "      <td>2021-11-20 11:00</td>\n",
       "    </tr>\n",
       "  </tbody>\n",
       "</table>\n",
       "</div>"
      ],
      "text/plain": [
       "        RECORD_TIME\n",
       "0  2021-11-20 11:30\n",
       "1  2021-11-20 11:00"
      ]
     },
     "execution_count": 3,
     "metadata": {},
     "output_type": "execute_result"
    }
   ],
   "source": [
    "timestamps"
   ]
  },
  {
   "cell_type": "code",
   "execution_count": 4,
   "id": "alternate-victory",
   "metadata": {
    "execution": {
     "iopub.execute_input": "2021-11-20T10:30:09.459191Z",
     "iopub.status.busy": "2021-11-20T10:30:09.457218Z",
     "iopub.status.idle": "2021-11-20T10:30:10.741634Z",
     "shell.execute_reply": "2021-11-20T10:30:10.743400Z"
    },
    "papermill": {
     "duration": 1.317656,
     "end_time": "2021-11-20T10:30:10.744277",
     "exception": false,
     "start_time": "2021-11-20T10:30:09.426621",
     "status": "completed"
    },
    "tags": []
   },
   "outputs": [],
   "source": [
    "df = pd.read_sql(\"select * from EBAY_TOP_BERLIN where record_time in (select distinct record_time from EBAY_TOP_BERLIN order by record_time desc limit 2)\", sqlite3.connect(\"UsedObjects.db\"))"
   ]
  },
  {
   "cell_type": "code",
   "execution_count": 5,
   "id": "popular-active",
   "metadata": {
    "execution": {
     "iopub.execute_input": "2021-11-20T10:30:10.812982Z",
     "iopub.status.busy": "2021-11-20T10:30:10.810658Z",
     "iopub.status.idle": "2021-11-20T10:30:10.842735Z",
     "shell.execute_reply": "2021-11-20T10:30:10.844237Z"
    },
    "papermill": {
     "duration": 0.078275,
     "end_time": "2021-11-20T10:30:10.844751",
     "exception": false,
     "start_time": "2021-11-20T10:30:10.766476",
     "status": "completed"
    },
    "tags": []
   },
   "outputs": [],
   "source": [
    "df_pivot = df.pivot_table(index=\"PRODUCT\", columns = \"RECORD_TIME\", values = \"LISTING_COUNT\")"
   ]
  },
  {
   "cell_type": "code",
   "execution_count": 6,
   "id": "union-huntington",
   "metadata": {
    "execution": {
     "iopub.execute_input": "2021-11-20T10:30:10.908609Z",
     "iopub.status.busy": "2021-11-20T10:30:10.906447Z",
     "iopub.status.idle": "2021-11-20T10:30:10.912113Z",
     "shell.execute_reply": "2021-11-20T10:30:10.913542Z"
    },
    "papermill": {
     "duration": 0.047298,
     "end_time": "2021-11-20T10:30:10.914000",
     "exception": false,
     "start_time": "2021-11-20T10:30:10.866702",
     "status": "completed"
    },
    "tags": []
   },
   "outputs": [],
   "source": [
    "df_pivot.columns = [\"stamp_1\", \"stamp_2\"]\n",
    "df_pivot_diff = df_pivot.diff(axis=1)"
   ]
  },
  {
   "cell_type": "code",
   "execution_count": 7,
   "id": "fifth-motion",
   "metadata": {
    "execution": {
     "iopub.execute_input": "2021-11-20T10:30:10.970348Z",
     "iopub.status.busy": "2021-11-20T10:30:10.967840Z",
     "iopub.status.idle": "2021-11-20T10:30:12.696721Z",
     "shell.execute_reply": "2021-11-20T10:30:12.693149Z"
    },
    "papermill": {
     "duration": 1.763443,
     "end_time": "2021-11-20T10:30:12.697511",
     "exception": false,
     "start_time": "2021-11-20T10:30:10.934068",
     "status": "completed"
    },
    "tags": []
   },
   "outputs": [
    {
     "data": {
      "text/plain": [
       "<AxesSubplot:ylabel='PRODUCT'>"
      ]
     },
     "execution_count": 7,
     "metadata": {},
     "output_type": "execute_result"
    },
    {
     "data": {
      "image/png": "[encoded data removed]",
      "text/plain": [
       "<Figure size 432x288 with 1 Axes>"
      ]
     },
     "metadata": {
      "needs_background": "light"
     },
     "output_type": "display_data"
    }
   ],
   "source": [
    "df_pivot_diff.sort_values(\"stamp_2\", ascending = False)[\"stamp_2\"].head(10).plot.barh()"
   ]
  },
  {
   "cell_type": "code",
   "execution_count": null,
   "id": "extra-executive",
   "metadata": {
    "papermill": {
     "duration": 0.035451,
     "end_time": "2021-11-20T10:30:12.770549",
     "exception": false,
     "start_time": "2021-11-20T10:30:12.735098",
     "status": "completed"
    },
    "tags": []
   },
   "outputs": [],
   "source": []
  }
 ],
 "metadata": {
  "kernelspec": {
   "display_name": "Python 3",
   "language": "python",
   "name": "python3"
  },
  "language_info": {
   "codemirror_mode": {
    "name": "ipython",
    "version": 3
   },
   "file_extension": ".py",
   "mimetype": "text/x-python",
   "name": "python",
   "nbconvert_exporter": "python",
   "pygments_lexer": "ipython3",
   "version": "3.9.5"
  },
  "papermill": {
   "default_parameters": {},
   "duration": 10.003642,
   "end_time": "2021-11-20T10:30:14.547593",
   "environment_variables": {},
   "exception": null,
   "input_path": "eBay_Overview.ipynb",
   "output_path": "eBay_Overview.ipynb",
   "parameters": {},
   "start_time": "2021-11-20T10:30:04.543951",
   "version": "2.3.3"
  }
 },
 "nbformat": 4,
 "nbformat_minor": 5
}