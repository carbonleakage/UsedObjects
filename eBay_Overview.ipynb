{
 "cells": [
  {
   "cell_type": "code",
   "execution_count": 1,
   "id": "reverse-picking",
   "metadata": {
    "execution": {
     "iopub.execute_input": "2021-10-24T02:00:06.630839Z",
     "iopub.status.busy": "2021-10-24T02:00:06.628897Z",
     "iopub.status.idle": "2021-10-24T02:00:07.435124Z",
     "shell.execute_reply": "2021-10-24T02:00:07.433505Z"
    },
    "papermill": {
     "duration": 0.857535,
     "end_time": "2021-10-24T02:00:07.435524",
     "exception": false,
     "start_time": "2021-10-24T02:00:06.577989",
     "status": "completed"
    },
    "tags": []
   },
   "outputs": [],
   "source": [
    "import pandas as pd\n",
    "import sqlite3"
   ]
  },
  {
   "cell_type": "code",
   "execution_count": 2,
   "id": "innovative-syndrome",
   "metadata": {
    "execution": {
     "iopub.execute_input": "2021-10-24T02:00:07.485704Z",
     "iopub.status.busy": "2021-10-24T02:00:07.483718Z",
     "iopub.status.idle": "2021-10-24T02:00:08.092616Z",
     "shell.execute_reply": "2021-10-24T02:00:08.093910Z"
    },
    "papermill": {
     "duration": 0.638585,
     "end_time": "2021-10-24T02:00:08.094321",
     "exception": false,
     "start_time": "2021-10-24T02:00:07.455736",
     "status": "completed"
    },
    "tags": []
   },
   "outputs": [],
   "source": [
    "timestamps = pd.read_sql(\"select distinct record_time from EBAY_TOP_BERLIN order by record_time desc limit 2\", sqlite3.connect(\"UsedObjects.db\"))"
   ]
  },
  {
   "cell_type": "code",
   "execution_count": 3,
   "id": "periodic-identification",
   "metadata": {
    "execution": {
     "iopub.execute_input": "2021-10-24T02:00:08.171677Z",
     "iopub.status.busy": "2021-10-24T02:00:08.169629Z",
     "iopub.status.idle": "2021-10-24T02:00:08.189811Z",
     "shell.execute_reply": "2021-10-24T02:00:08.191031Z"
    },
    "papermill": {
     "duration": 0.068469,
     "end_time": "2021-10-24T02:00:08.191471",
     "exception": false,
     "start_time": "2021-10-24T02:00:08.123002",
     "status": "completed"
    },
    "tags": []
   },
   "outputs": [
    {
     "data": {
      "text/html": [
       "<div>\n",
       "<style scoped>\n",
       "    .dataframe tbody tr th:only-of-type {\n",
       "        vertical-align: middle;\n",
       "    }\n",
       "\n",
       "    .dataframe tbody tr th {\n",
       "        vertical-align: top;\n",
       "    }\n",
       "\n",
       "    .dataframe thead th {\n",
       "        text-align: right;\n",
       "    }\n",
       "</style>\n",
       "<table border=\"1\" class=\"dataframe\">\n",
       "  <thead>\n",
       "    <tr style=\"text-align: right;\">\n",
       "      <th></th>\n",
       "      <th>RECORD_TIME</th>\n",
       "    </tr>\n",
       "  </thead>\n",
       "  <tbody>\n",
       "    <tr>\n",
       "      <th>0</th>\n",
       "      <td>2021-10-24 04:00</td>\n",
       "    </tr>\n",
       "    <tr>\n",
       "      <th>1</th>\n",
       "      <td>2021-10-24 03:30</td>\n",
       "    </tr>\n",
       "  </tbody>\n",
       "</table>\n",
       "</div>"
      ],
      "text/plain": [
       "        RECORD_TIME\n",
       "0  2021-10-24 04:00\n",
       "1  2021-10-24 03:30"
      ]
     },
     "execution_count": 3,
     "metadata": {},
     "output_type": "execute_result"
    }
   ],
   "source": [
    "timestamps"
   ]
  },
  {
   "cell_type": "code",
   "execution_count": 4,
   "id": "alternate-victory",
   "metadata": {
    "execution": {
     "iopub.execute_input": "2021-10-24T02:00:08.245521Z",
     "iopub.status.busy": "2021-10-24T02:00:08.243161Z",
     "iopub.status.idle": "2021-10-24T02:00:09.171981Z",
     "shell.execute_reply": "2021-10-24T02:00:09.173279Z"
    },
    "papermill": {
     "duration": 0.959281,
     "end_time": "2021-10-24T02:00:09.173694",
     "exception": false,
     "start_time": "2021-10-24T02:00:08.214413",
     "status": "completed"
    },
    "tags": []
   },
   "outputs": [],
   "source": [
    "df = pd.read_sql(\"select * from EBAY_TOP_BERLIN where record_time in (select distinct record_time from EBAY_TOP_BERLIN order by record_time desc limit 2)\", sqlite3.connect(\"UsedObjects.db\"))"
   ]
  },
  {
   "cell_type": "code",
   "execution_count": 5,
   "id": "popular-active",
   "metadata": {
    "execution": {
     "iopub.execute_input": "2021-10-24T02:00:09.238817Z",
     "iopub.status.busy": "2021-10-24T02:00:09.231288Z",
     "iopub.status.idle": "2021-10-24T02:00:09.259442Z",
     "shell.execute_reply": "2021-10-24T02:00:09.260651Z"
    },
    "papermill": {
     "duration": 0.066859,
     "end_time": "2021-10-24T02:00:09.261240",
     "exception": false,
     "start_time": "2021-10-24T02:00:09.194381",
     "status": "completed"
    },
    "tags": []
   },
   "outputs": [],
   "source": [
    "df_pivot = df.pivot_table(index=\"PRODUCT\", columns = \"RECORD_TIME\", values = \"LISTING_COUNT\")"
   ]
  },
  {
   "cell_type": "code",
   "execution_count": 6,
   "id": "union-huntington",
   "metadata": {
    "execution": {
     "iopub.execute_input": "2021-10-24T02:00:09.320756Z",
     "iopub.status.busy": "2021-10-24T02:00:09.318291Z",
     "iopub.status.idle": "2021-10-24T02:00:09.324116Z",
     "shell.execute_reply": "2021-10-24T02:00:09.325481Z"
    },
    "papermill": {
     "duration": 0.042311,
     "end_time": "2021-10-24T02:00:09.325911",
     "exception": false,
     "start_time": "2021-10-24T02:00:09.283600",
     "status": "completed"
    },
    "tags": []
   },
   "outputs": [],
   "source": [
    "df_pivot.columns = [\"stamp_1\", \"stamp_2\"]\n",
    "df_pivot_diff = df_pivot.diff(axis=1)"
   ]
  },
  {
   "cell_type": "code",
   "execution_count": 7,
   "id": "fifth-motion",
   "metadata": {
    "execution": {
     "iopub.execute_input": "2021-10-24T02:00:09.379928Z",
     "iopub.status.busy": "2021-10-24T02:00:09.377737Z",
     "iopub.status.idle": "2021-10-24T02:00:10.847631Z",
     "shell.execute_reply": "2021-10-24T02:00:10.848980Z"
    },
    "papermill": {
     "duration": 1.502665,
     "end_time": "2021-10-24T02:00:10.849409",
     "exception": false,
     "start_time": "2021-10-24T02:00:09.346744",
     "status": "completed"
    },
    "tags": []
   },
   "outputs": [
    {
     "data": {
      "text/plain": [
       "<AxesSubplot:ylabel='PRODUCT'>"
      ]
     },
     "execution_count": 7,
     "metadata": {},
     "output_type": "execute_result"
    },
    {
     "data": {
      "image/png": "[encoded data removed]",
      "text/plain": [
       "<Figure size 432x288 with 1 Axes>"
      ]
     },
     "metadata": {
      "needs_background": "light"
     },
     "output_type": "display_data"
    }
   ],
   "source": [
    "df_pivot_diff.sort_values(\"stamp_2\", ascending = False)[\"stamp_2\"].head(10).plot.barh()"
   ]
  },
  {
   "cell_type": "code",
   "execution_count": null,
   "id": "extra-executive",
   "metadata": {
    "papermill": {
     "duration": 0.022218,
     "end_time": "2021-10-24T02:00:10.896439",
     "exception": false,
     "start_time": "2021-10-24T02:00:10.874221",
     "status": "completed"
    },
    "tags": []
   },
   "outputs": [],
   "source": []
  }
 ],
 "metadata": {
  "kernelspec": {
   "display_name": "Python 3",
   "language": "python",
   "name": "python3"
  },
  "language_info": {
   "codemirror_mode": {
    "name": "ipython",
    "version": 3
   },
   "file_extension": ".py",
   "mimetype": "text/x-python",
   "name": "python",
   "nbconvert_exporter": "python",
   "pygments_lexer": "ipython3",
   "version": "3.9.5"
  },
  "papermill": {
   "default_parameters": {},
   "duration": 7.369996,
   "end_time": "2021-10-24T02:00:11.539951",
   "environment_variables": {},
   "exception": null,
   "input_path": "eBay_Overview.ipynb",
   "output_path": "eBay_Overview.ipynb",
   "parameters": {},
   "start_time": "2021-10-24T02:00:04.169955",
   "version": "2.3.3"
  }
 },
 "nbformat": 4,
 "nbformat_minor": 5
}