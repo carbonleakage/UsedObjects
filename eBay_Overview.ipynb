{
 "cells": [
  {
   "cell_type": "code",
   "execution_count": 1,
   "id": "reverse-picking",
   "metadata": {
    "execution": {
     "iopub.execute_input": "2021-08-12T03:00:03.613038Z",
     "iopub.status.busy": "2021-08-12T03:00:03.612265Z",
     "iopub.status.idle": "2021-08-12T03:00:04.213207Z",
     "shell.execute_reply": "2021-08-12T03:00:04.213747Z"
    },
    "papermill": {
     "duration": 0.620324,
     "end_time": "2021-08-12T03:00:04.214046",
     "exception": false,
     "start_time": "2021-08-12T03:00:03.593722",
     "status": "completed"
    },
    "tags": []
   },
   "outputs": [],
   "source": [
    "import pandas as pd\n",
    "import sqlite3"
   ]
  },
  {
   "cell_type": "code",
   "execution_count": 2,
   "id": "innovative-syndrome",
   "metadata": {
    "execution": {
     "iopub.execute_input": "2021-08-12T03:00:04.235152Z",
     "iopub.status.busy": "2021-08-12T03:00:04.234353Z",
     "iopub.status.idle": "2021-08-12T03:00:04.450157Z",
     "shell.execute_reply": "2021-08-12T03:00:04.449093Z"
    },
    "papermill": {
     "duration": 0.227913,
     "end_time": "2021-08-12T03:00:04.450383",
     "exception": false,
     "start_time": "2021-08-12T03:00:04.222470",
     "status": "completed"
    },
    "tags": []
   },
   "outputs": [],
   "source": [
    "timestamps = pd.read_sql(\"select distinct record_time from EBAY_TOP_BERLIN order by record_time desc limit 2\", sqlite3.connect(\"UsedObjects.db\"))"
   ]
  },
  {
   "cell_type": "code",
   "execution_count": 3,
   "id": "periodic-identification",
   "metadata": {
    "execution": {
     "iopub.execute_input": "2021-08-12T03:00:04.483904Z",
     "iopub.status.busy": "2021-08-12T03:00:04.482815Z",
     "iopub.status.idle": "2021-08-12T03:00:04.494599Z",
     "shell.execute_reply": "2021-08-12T03:00:04.495223Z"
    },
    "papermill": {
     "duration": 0.035298,
     "end_time": "2021-08-12T03:00:04.495419",
     "exception": false,
     "start_time": "2021-08-12T03:00:04.460121",
     "status": "completed"
    },
    "tags": []
   },
   "outputs": [
    {
     "data": {
      "text/html": [
       "<div>\n",
       "<style scoped>\n",
       "    .dataframe tbody tr th:only-of-type {\n",
       "        vertical-align: middle;\n",
       "    }\n",
       "\n",
       "    .dataframe tbody tr th {\n",
       "        vertical-align: top;\n",
       "    }\n",
       "\n",
       "    .dataframe thead th {\n",
       "        text-align: right;\n",
       "    }\n",
       "</style>\n",
       "<table border=\"1\" class=\"dataframe\">\n",
       "  <thead>\n",
       "    <tr style=\"text-align: right;\">\n",
       "      <th></th>\n",
       "      <th>RECORD_TIME</th>\n",
       "    </tr>\n",
       "  </thead>\n",
       "  <tbody>\n",
       "    <tr>\n",
       "      <th>0</th>\n",
       "      <td>2021-08-12 05:00</td>\n",
       "    </tr>\n",
       "    <tr>\n",
       "      <th>1</th>\n",
       "      <td>2021-08-12 04:30</td>\n",
       "    </tr>\n",
       "  </tbody>\n",
       "</table>\n",
       "</div>"
      ],
      "text/plain": [
       "        RECORD_TIME\n",
       "0  2021-08-12 05:00\n",
       "1  2021-08-12 04:30"
      ]
     },
     "execution_count": 3,
     "metadata": {},
     "output_type": "execute_result"
    }
   ],
   "source": [
    "timestamps"
   ]
  },
  {
   "cell_type": "code",
   "execution_count": 4,
   "id": "alternate-victory",
   "metadata": {
    "execution": {
     "iopub.execute_input": "2021-08-12T03:00:04.516828Z",
     "iopub.status.busy": "2021-08-12T03:00:04.516065Z",
     "iopub.status.idle": "2021-08-12T03:00:04.542018Z",
     "shell.execute_reply": "2021-08-12T03:00:04.542562Z"
    },
    "papermill": {
     "duration": 0.038771,
     "end_time": "2021-08-12T03:00:04.542750",
     "exception": false,
     "start_time": "2021-08-12T03:00:04.503979",
     "status": "completed"
    },
    "tags": []
   },
   "outputs": [],
   "source": [
    "df = pd.read_sql(\"select * from EBAY_TOP_BERLIN where record_time in (select distinct record_time from EBAY_TOP_BERLIN order by record_time desc limit 2)\", sqlite3.connect(\"UsedObjects.db\"))"
   ]
  },
  {
   "cell_type": "code",
   "execution_count": 5,
   "id": "popular-active",
   "metadata": {
    "execution": {
     "iopub.execute_input": "2021-08-12T03:00:04.568873Z",
     "iopub.status.busy": "2021-08-12T03:00:04.568102Z",
     "iopub.status.idle": "2021-08-12T03:00:04.588144Z",
     "shell.execute_reply": "2021-08-12T03:00:04.587276Z"
    },
    "papermill": {
     "duration": 0.037233,
     "end_time": "2021-08-12T03:00:04.588370",
     "exception": false,
     "start_time": "2021-08-12T03:00:04.551137",
     "status": "completed"
    },
    "tags": []
   },
   "outputs": [],
   "source": [
    "df_pivot = df.pivot_table(index=\"PRODUCT\", columns = \"RECORD_TIME\", values = \"LISTING_COUNT\")"
   ]
  },
  {
   "cell_type": "code",
   "execution_count": 6,
   "id": "union-huntington",
   "metadata": {
    "execution": {
     "iopub.execute_input": "2021-08-12T03:00:04.617731Z",
     "iopub.status.busy": "2021-08-12T03:00:04.616221Z",
     "iopub.status.idle": "2021-08-12T03:00:04.619606Z",
     "shell.execute_reply": "2021-08-12T03:00:04.620311Z"
    },
    "papermill": {
     "duration": 0.021257,
     "end_time": "2021-08-12T03:00:04.620650",
     "exception": false,
     "start_time": "2021-08-12T03:00:04.599393",
     "status": "completed"
    },
    "tags": []
   },
   "outputs": [],
   "source": [
    "df_pivot.columns = [\"stamp_1\", \"stamp_2\"]\n",
    "df_pivot_diff = df_pivot.diff(axis=1)"
   ]
  },
  {
   "cell_type": "code",
   "execution_count": 7,
   "id": "fifth-motion",
   "metadata": {
    "execution": {
     "iopub.execute_input": "2021-08-12T03:00:04.649753Z",
     "iopub.status.busy": "2021-08-12T03:00:04.648914Z",
     "iopub.status.idle": "2021-08-12T03:00:05.316726Z",
     "shell.execute_reply": "2021-08-12T03:00:05.317316Z"
    },
    "papermill": {
     "duration": 0.688504,
     "end_time": "2021-08-12T03:00:05.317498",
     "exception": false,
     "start_time": "2021-08-12T03:00:04.628994",
     "status": "completed"
    },
    "tags": []
   },
   "outputs": [
    {
     "data": {
      "text/plain": [
       "<AxesSubplot:ylabel='PRODUCT'>"
      ]
     },
     "execution_count": 7,
     "metadata": {},
     "output_type": "execute_result"
    },
    {
     "data": {
      "image/png": "[encoded data removed]",
      "text/plain": [
       "<Figure size 432x288 with 1 Axes>"
      ]
     },
     "metadata": {
      "needs_background": "light"
     },
     "output_type": "display_data"
    }
   ],
   "source": [
    "df_pivot_diff.sort_values(\"stamp_2\", ascending = False)[\"stamp_2\"].head(10).plot.barh()"
   ]
  },
  {
   "cell_type": "code",
   "execution_count": null,
   "id": "extra-executive",
   "metadata": {
    "papermill": {
     "duration": 0.013008,
     "end_time": "2021-08-12T03:00:05.342262",
     "exception": false,
     "start_time": "2021-08-12T03:00:05.329254",
     "status": "completed"
    },
    "tags": []
   },
   "outputs": [],
   "source": []
  }
 ],
 "metadata": {
  "kernelspec": {
   "display_name": "Python 3",
   "language": "python",
   "name": "python3"
  },
  "language_info": {
   "codemirror_mode": {
    "name": "ipython",
    "version": 3
   },
   "file_extension": ".py",
   "mimetype": "text/x-python",
   "name": "python",
   "nbconvert_exporter": "python",
   "pygments_lexer": "ipython3",
   "version": "3.8.8"
  },
  "papermill": {
   "default_parameters": {},
   "duration": 4.854594,
   "end_time": "2021-08-12T03:00:06.763950",
   "environment_variables": {},
   "exception": null,
   "input_path": "/Users/saravananshanmugam/Carbonleakage_Git/UsedObjects/eBay_Overview.ipynb",
   "output_path": "/Users/saravananshanmugam/Carbonleakage_Git/UsedObjects/eBay_Overview.ipynb",
   "parameters": {},
   "start_time": "2021-08-12T03:00:01.909356",
   "version": "2.3.3"
  }
 },
 "nbformat": 4,
 "nbformat_minor": 5
}