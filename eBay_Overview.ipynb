{
 "cells": [
  {
   "cell_type": "code",
   "execution_count": 1,
   "id": "reverse-picking",
   "metadata": {
    "execution": {
     "iopub.execute_input": "2021-09-05T02:30:06.946582Z",
     "iopub.status.busy": "2021-09-05T02:30:06.944657Z",
     "iopub.status.idle": "2021-09-05T02:30:07.750670Z",
     "shell.execute_reply": "2021-09-05T02:30:07.752095Z"
    },
    "papermill": {
     "duration": 0.858943,
     "end_time": "2021-09-05T02:30:07.752742",
     "exception": false,
     "start_time": "2021-09-05T02:30:06.893799",
     "status": "completed"
    },
    "tags": []
   },
   "outputs": [],
   "source": [
    "import pandas as pd\n",
    "import sqlite3"
   ]
  },
  {
   "cell_type": "code",
   "execution_count": 2,
   "id": "innovative-syndrome",
   "metadata": {
    "execution": {
     "iopub.execute_input": "2021-09-05T02:30:07.803967Z",
     "iopub.status.busy": "2021-09-05T02:30:07.801975Z",
     "iopub.status.idle": "2021-09-05T02:30:08.009707Z",
     "shell.execute_reply": "2021-09-05T02:30:08.011063Z"
    },
    "papermill": {
     "duration": 0.237407,
     "end_time": "2021-09-05T02:30:08.011542",
     "exception": false,
     "start_time": "2021-09-05T02:30:07.774135",
     "status": "completed"
    },
    "tags": []
   },
   "outputs": [],
   "source": [
    "timestamps = pd.read_sql(\"select distinct record_time from EBAY_TOP_BERLIN order by record_time desc limit 2\", sqlite3.connect(\"UsedObjects.db\"))"
   ]
  },
  {
   "cell_type": "code",
   "execution_count": 3,
   "id": "periodic-identification",
   "metadata": {
    "execution": {
     "iopub.execute_input": "2021-09-05T02:30:08.076749Z",
     "iopub.status.busy": "2021-09-05T02:30:08.074652Z",
     "iopub.status.idle": "2021-09-05T02:30:08.094562Z",
     "shell.execute_reply": "2021-09-05T02:30:08.095776Z"
    },
    "papermill": {
     "duration": 0.06489,
     "end_time": "2021-09-05T02:30:08.096197",
     "exception": false,
     "start_time": "2021-09-05T02:30:08.031307",
     "status": "completed"
    },
    "tags": []
   },
   "outputs": [
    {
     "data": {
      "text/html": [
       "<div>\n",
       "<style scoped>\n",
       "    .dataframe tbody tr th:only-of-type {\n",
       "        vertical-align: middle;\n",
       "    }\n",
       "\n",
       "    .dataframe tbody tr th {\n",
       "        vertical-align: top;\n",
       "    }\n",
       "\n",
       "    .dataframe thead th {\n",
       "        text-align: right;\n",
       "    }\n",
       "</style>\n",
       "<table border=\"1\" class=\"dataframe\">\n",
       "  <thead>\n",
       "    <tr style=\"text-align: right;\">\n",
       "      <th></th>\n",
       "      <th>RECORD_TIME</th>\n",
       "    </tr>\n",
       "  </thead>\n",
       "  <tbody>\n",
       "    <tr>\n",
       "      <th>0</th>\n",
       "      <td>2021-09-05 04:30</td>\n",
       "    </tr>\n",
       "    <tr>\n",
       "      <th>1</th>\n",
       "      <td>2021-09-05 04:00</td>\n",
       "    </tr>\n",
       "  </tbody>\n",
       "</table>\n",
       "</div>"
      ],
      "text/plain": [
       "        RECORD_TIME\n",
       "0  2021-09-05 04:30\n",
       "1  2021-09-05 04:00"
      ]
     },
     "execution_count": 3,
     "metadata": {},
     "output_type": "execute_result"
    }
   ],
   "source": [
    "timestamps"
   ]
  },
  {
   "cell_type": "code",
   "execution_count": 4,
   "id": "alternate-victory",
   "metadata": {
    "execution": {
     "iopub.execute_input": "2021-09-05T02:30:08.151088Z",
     "iopub.status.busy": "2021-09-05T02:30:08.148761Z",
     "iopub.status.idle": "2021-09-05T02:30:08.454286Z",
     "shell.execute_reply": "2021-09-05T02:30:08.455564Z"
    },
    "papermill": {
     "duration": 0.336324,
     "end_time": "2021-09-05T02:30:08.455969",
     "exception": false,
     "start_time": "2021-09-05T02:30:08.119645",
     "status": "completed"
    },
    "tags": []
   },
   "outputs": [],
   "source": [
    "df = pd.read_sql(\"select * from EBAY_TOP_BERLIN where record_time in (select distinct record_time from EBAY_TOP_BERLIN order by record_time desc limit 2)\", sqlite3.connect(\"UsedObjects.db\"))"
   ]
  },
  {
   "cell_type": "code",
   "execution_count": 5,
   "id": "popular-active",
   "metadata": {
    "execution": {
     "iopub.execute_input": "2021-09-05T02:30:08.538614Z",
     "iopub.status.busy": "2021-09-05T02:30:08.527073Z",
     "iopub.status.idle": "2021-09-05T02:30:08.555570Z",
     "shell.execute_reply": "2021-09-05T02:30:08.556801Z"
    },
    "papermill": {
     "duration": 0.072469,
     "end_time": "2021-09-05T02:30:08.557200",
     "exception": false,
     "start_time": "2021-09-05T02:30:08.484731",
     "status": "completed"
    },
    "tags": []
   },
   "outputs": [],
   "source": [
    "df_pivot = df.pivot_table(index=\"PRODUCT\", columns = \"RECORD_TIME\", values = \"LISTING_COUNT\")"
   ]
  },
  {
   "cell_type": "code",
   "execution_count": 6,
   "id": "union-huntington",
   "metadata": {
    "execution": {
     "iopub.execute_input": "2021-09-05T02:30:08.613436Z",
     "iopub.status.busy": "2021-09-05T02:30:08.611384Z",
     "iopub.status.idle": "2021-09-05T02:30:08.616523Z",
     "shell.execute_reply": "2021-09-05T02:30:08.617797Z"
    },
    "papermill": {
     "duration": 0.040309,
     "end_time": "2021-09-05T02:30:08.618211",
     "exception": false,
     "start_time": "2021-09-05T02:30:08.577902",
     "status": "completed"
    },
    "tags": []
   },
   "outputs": [],
   "source": [
    "df_pivot.columns = [\"stamp_1\", \"stamp_2\"]\n",
    "df_pivot_diff = df_pivot.diff(axis=1)"
   ]
  },
  {
   "cell_type": "code",
   "execution_count": 7,
   "id": "fifth-motion",
   "metadata": {
    "execution": {
     "iopub.execute_input": "2021-09-05T02:30:08.672752Z",
     "iopub.status.busy": "2021-09-05T02:30:08.670143Z",
     "iopub.status.idle": "2021-09-05T02:30:10.147007Z",
     "shell.execute_reply": "2021-09-05T02:30:10.148213Z"
    },
    "papermill": {
     "duration": 1.510109,
     "end_time": "2021-09-05T02:30:10.148648",
     "exception": false,
     "start_time": "2021-09-05T02:30:08.638539",
     "status": "completed"
    },
    "tags": []
   },
   "outputs": [
    {
     "data": {
      "text/plain": [
       "<AxesSubplot:ylabel='PRODUCT'>"
      ]
     },
     "execution_count": 7,
     "metadata": {},
     "output_type": "execute_result"
    },
    {
     "data": {
      "image/png": "[encoded data removed]",
      "text/plain": [
       "<Figure size 432x288 with 1 Axes>"
      ]
     },
     "metadata": {
      "needs_background": "light"
     },
     "output_type": "display_data"
    }
   ],
   "source": [
    "df_pivot_diff.sort_values(\"stamp_2\", ascending = False)[\"stamp_2\"].head(10).plot.barh()"
   ]
  },
  {
   "cell_type": "code",
   "execution_count": null,
   "id": "extra-executive",
   "metadata": {
    "papermill": {
     "duration": 0.022116,
     "end_time": "2021-09-05T02:30:10.197040",
     "exception": false,
     "start_time": "2021-09-05T02:30:10.174924",
     "status": "completed"
    },
    "tags": []
   },
   "outputs": [],
   "source": []
  }
 ],
 "metadata": {
  "kernelspec": {
   "display_name": "Python 3",
   "language": "python",
   "name": "python3"
  },
  "language_info": {
   "codemirror_mode": {
    "name": "ipython",
    "version": 3
   },
   "file_extension": ".py",
   "mimetype": "text/x-python",
   "name": "python",
   "nbconvert_exporter": "python",
   "pygments_lexer": "ipython3",
   "version": "3.9.5"
  },
  "papermill": {
   "default_parameters": {},
   "duration": 6.351503,
   "end_time": "2021-09-05T02:30:10.837457",
   "environment_variables": {},
   "exception": null,
   "input_path": "eBay_Overview.ipynb",
   "output_path": "eBay_Overview.ipynb",
   "parameters": {},
   "start_time": "2021-09-05T02:30:04.485954",
   "version": "2.3.3"
  }
 },
 "nbformat": 4,
 "nbformat_minor": 5
}