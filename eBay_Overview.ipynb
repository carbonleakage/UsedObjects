{
 "cells": [
  {
   "cell_type": "code",
   "execution_count": 1,
   "id": "reverse-picking",
   "metadata": {
    "execution": {
     "iopub.execute_input": "2021-09-10T16:00:06.533348Z",
     "iopub.status.busy": "2021-09-10T16:00:06.531384Z",
     "iopub.status.idle": "2021-09-10T16:00:07.343061Z",
     "shell.execute_reply": "2021-09-10T16:00:07.341313Z"
    },
    "papermill": {
     "duration": 0.864143,
     "end_time": "2021-09-10T16:00:07.343487",
     "exception": false,
     "start_time": "2021-09-10T16:00:06.479344",
     "status": "completed"
    },
    "tags": []
   },
   "outputs": [],
   "source": [
    "import pandas as pd\n",
    "import sqlite3"
   ]
  },
  {
   "cell_type": "code",
   "execution_count": 2,
   "id": "innovative-syndrome",
   "metadata": {
    "execution": {
     "iopub.execute_input": "2021-09-10T16:00:07.396612Z",
     "iopub.status.busy": "2021-09-10T16:00:07.394226Z",
     "iopub.status.idle": "2021-09-10T16:00:07.646327Z",
     "shell.execute_reply": "2021-09-10T16:00:07.647724Z"
    },
    "papermill": {
     "duration": 0.282313,
     "end_time": "2021-09-10T16:00:07.648154",
     "exception": false,
     "start_time": "2021-09-10T16:00:07.365841",
     "status": "completed"
    },
    "tags": []
   },
   "outputs": [],
   "source": [
    "timestamps = pd.read_sql(\"select distinct record_time from EBAY_TOP_BERLIN order by record_time desc limit 2\", sqlite3.connect(\"UsedObjects.db\"))"
   ]
  },
  {
   "cell_type": "code",
   "execution_count": 3,
   "id": "periodic-identification",
   "metadata": {
    "execution": {
     "iopub.execute_input": "2021-09-10T16:00:07.713741Z",
     "iopub.status.busy": "2021-09-10T16:00:07.711650Z",
     "iopub.status.idle": "2021-09-10T16:00:07.732088Z",
     "shell.execute_reply": "2021-09-10T16:00:07.733314Z"
    },
    "papermill": {
     "duration": 0.064961,
     "end_time": "2021-09-10T16:00:07.733708",
     "exception": false,
     "start_time": "2021-09-10T16:00:07.668747",
     "status": "completed"
    },
    "tags": []
   },
   "outputs": [
    {
     "data": {
      "text/html": [
       "<div>\n",
       "<style scoped>\n",
       "    .dataframe tbody tr th:only-of-type {\n",
       "        vertical-align: middle;\n",
       "    }\n",
       "\n",
       "    .dataframe tbody tr th {\n",
       "        vertical-align: top;\n",
       "    }\n",
       "\n",
       "    .dataframe thead th {\n",
       "        text-align: right;\n",
       "    }\n",
       "</style>\n",
       "<table border=\"1\" class=\"dataframe\">\n",
       "  <thead>\n",
       "    <tr style=\"text-align: right;\">\n",
       "      <th></th>\n",
       "      <th>RECORD_TIME</th>\n",
       "    </tr>\n",
       "  </thead>\n",
       "  <tbody>\n",
       "    <tr>\n",
       "      <th>0</th>\n",
       "      <td>2021-09-10 18:00</td>\n",
       "    </tr>\n",
       "    <tr>\n",
       "      <th>1</th>\n",
       "      <td>2021-09-10 17:30</td>\n",
       "    </tr>\n",
       "  </tbody>\n",
       "</table>\n",
       "</div>"
      ],
      "text/plain": [
       "        RECORD_TIME\n",
       "0  2021-09-10 18:00\n",
       "1  2021-09-10 17:30"
      ]
     },
     "execution_count": 3,
     "metadata": {},
     "output_type": "execute_result"
    }
   ],
   "source": [
    "timestamps"
   ]
  },
  {
   "cell_type": "code",
   "execution_count": 4,
   "id": "alternate-victory",
   "metadata": {
    "execution": {
     "iopub.execute_input": "2021-09-10T16:00:07.786667Z",
     "iopub.status.busy": "2021-09-10T16:00:07.784383Z",
     "iopub.status.idle": "2021-09-10T16:00:08.167308Z",
     "shell.execute_reply": "2021-09-10T16:00:08.168673Z"
    },
    "papermill": {
     "duration": 0.413451,
     "end_time": "2021-09-10T16:00:08.169072",
     "exception": false,
     "start_time": "2021-09-10T16:00:07.755621",
     "status": "completed"
    },
    "tags": []
   },
   "outputs": [],
   "source": [
    "df = pd.read_sql(\"select * from EBAY_TOP_BERLIN where record_time in (select distinct record_time from EBAY_TOP_BERLIN order by record_time desc limit 2)\", sqlite3.connect(\"UsedObjects.db\"))"
   ]
  },
  {
   "cell_type": "code",
   "execution_count": 5,
   "id": "popular-active",
   "metadata": {
    "execution": {
     "iopub.execute_input": "2021-09-10T16:00:08.244138Z",
     "iopub.status.busy": "2021-09-10T16:00:08.236705Z",
     "iopub.status.idle": "2021-09-10T16:00:08.264576Z",
     "shell.execute_reply": "2021-09-10T16:00:08.265800Z"
    },
    "papermill": {
     "duration": 0.071236,
     "end_time": "2021-09-10T16:00:08.266193",
     "exception": false,
     "start_time": "2021-09-10T16:00:08.194957",
     "status": "completed"
    },
    "tags": []
   },
   "outputs": [],
   "source": [
    "df_pivot = df.pivot_table(index=\"PRODUCT\", columns = \"RECORD_TIME\", values = \"LISTING_COUNT\")"
   ]
  },
  {
   "cell_type": "code",
   "execution_count": 6,
   "id": "union-huntington",
   "metadata": {
    "execution": {
     "iopub.execute_input": "2021-09-10T16:00:08.325696Z",
     "iopub.status.busy": "2021-09-10T16:00:08.323248Z",
     "iopub.status.idle": "2021-09-10T16:00:08.328886Z",
     "shell.execute_reply": "2021-09-10T16:00:08.330169Z"
    },
    "papermill": {
     "duration": 0.042127,
     "end_time": "2021-09-10T16:00:08.330580",
     "exception": false,
     "start_time": "2021-09-10T16:00:08.288453",
     "status": "completed"
    },
    "tags": []
   },
   "outputs": [],
   "source": [
    "df_pivot.columns = [\"stamp_1\", \"stamp_2\"]\n",
    "df_pivot_diff = df_pivot.diff(axis=1)"
   ]
  },
  {
   "cell_type": "code",
   "execution_count": 7,
   "id": "fifth-motion",
   "metadata": {
    "execution": {
     "iopub.execute_input": "2021-09-10T16:00:08.384835Z",
     "iopub.status.busy": "2021-09-10T16:00:08.382356Z",
     "iopub.status.idle": "2021-09-10T16:00:09.903188Z",
     "shell.execute_reply": "2021-09-10T16:00:09.904564Z"
    },
    "papermill": {
     "duration": 1.554325,
     "end_time": "2021-09-10T16:00:09.905000",
     "exception": false,
     "start_time": "2021-09-10T16:00:08.350675",
     "status": "completed"
    },
    "tags": []
   },
   "outputs": [
    {
     "data": {
      "text/plain": [
       "<AxesSubplot:ylabel='PRODUCT'>"
      ]
     },
     "execution_count": 7,
     "metadata": {},
     "output_type": "execute_result"
    },
    {
     "data": {
      "image/png": "[encoded data removed]",
      "text/plain": [
       "<Figure size 432x288 with 1 Axes>"
      ]
     },
     "metadata": {
      "needs_background": "light"
     },
     "output_type": "display_data"
    }
   ],
   "source": [
    "df_pivot_diff.sort_values(\"stamp_2\", ascending = False)[\"stamp_2\"].head(10).plot.barh()"
   ]
  },
  {
   "cell_type": "code",
   "execution_count": null,
   "id": "extra-executive",
   "metadata": {
    "papermill": {
     "duration": 0.022362,
     "end_time": "2021-09-10T16:00:09.952168",
     "exception": false,
     "start_time": "2021-09-10T16:00:09.929806",
     "status": "completed"
    },
    "tags": []
   },
   "outputs": [],
   "source": []
  }
 ],
 "metadata": {
  "kernelspec": {
   "display_name": "Python 3",
   "language": "python",
   "name": "python3"
  },
  "language_info": {
   "codemirror_mode": {
    "name": "ipython",
    "version": 3
   },
   "file_extension": ".py",
   "mimetype": "text/x-python",
   "name": "python",
   "nbconvert_exporter": "python",
   "pygments_lexer": "ipython3",
   "version": "3.9.5"
  },
  "papermill": {
   "default_parameters": {},
   "duration": 6.534108,
   "end_time": "2021-09-10T16:00:10.593419",
   "environment_variables": {},
   "exception": null,
   "input_path": "eBay_Overview.ipynb",
   "output_path": "eBay_Overview.ipynb",
   "parameters": {},
   "start_time": "2021-09-10T16:00:04.059311",
   "version": "2.3.3"
  }
 },
 "nbformat": 4,
 "nbformat_minor": 5
}