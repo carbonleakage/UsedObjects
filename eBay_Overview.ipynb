{
 "cells": [
  {
   "cell_type": "code",
   "execution_count": 1,
   "id": "reverse-picking",
   "metadata": {
    "execution": {
     "iopub.execute_input": "2021-11-10T13:30:07.761028Z",
     "iopub.status.busy": "2021-11-10T13:30:07.758322Z",
     "iopub.status.idle": "2021-11-10T13:30:08.677729Z",
     "shell.execute_reply": "2021-11-10T13:30:08.679344Z"
    },
    "papermill": {
     "duration": 0.97049,
     "end_time": "2021-11-10T13:30:08.680109",
     "exception": false,
     "start_time": "2021-11-10T13:30:07.709619",
     "status": "completed"
    },
    "tags": []
   },
   "outputs": [],
   "source": [
    "import pandas as pd\n",
    "import sqlite3"
   ]
  },
  {
   "cell_type": "code",
   "execution_count": 2,
   "id": "innovative-syndrome",
   "metadata": {
    "execution": {
     "iopub.execute_input": "2021-11-10T13:30:08.743372Z",
     "iopub.status.busy": "2021-11-10T13:30:08.740871Z",
     "iopub.status.idle": "2021-11-10T13:30:09.520114Z",
     "shell.execute_reply": "2021-11-10T13:30:09.521665Z"
    },
    "papermill": {
     "duration": 0.814572,
     "end_time": "2021-11-10T13:30:09.522127",
     "exception": false,
     "start_time": "2021-11-10T13:30:08.707555",
     "status": "completed"
    },
    "tags": []
   },
   "outputs": [],
   "source": [
    "timestamps = pd.read_sql(\"select distinct record_time from EBAY_TOP_BERLIN order by record_time desc limit 2\", sqlite3.connect(\"UsedObjects.db\"))"
   ]
  },
  {
   "cell_type": "code",
   "execution_count": 3,
   "id": "periodic-identification",
   "metadata": {
    "execution": {
     "iopub.execute_input": "2021-11-10T13:30:09.598559Z",
     "iopub.status.busy": "2021-11-10T13:30:09.591819Z",
     "iopub.status.idle": "2021-11-10T13:30:09.616247Z",
     "shell.execute_reply": "2021-11-10T13:30:09.617910Z"
    },
    "papermill": {
     "duration": 0.075648,
     "end_time": "2021-11-10T13:30:09.618393",
     "exception": false,
     "start_time": "2021-11-10T13:30:09.542745",
     "status": "completed"
    },
    "tags": []
   },
   "outputs": [
    {
     "data": {
      "text/html": [
       "<div>\n",
       "<style scoped>\n",
       "    .dataframe tbody tr th:only-of-type {\n",
       "        vertical-align: middle;\n",
       "    }\n",
       "\n",
       "    .dataframe tbody tr th {\n",
       "        vertical-align: top;\n",
       "    }\n",
       "\n",
       "    .dataframe thead th {\n",
       "        text-align: right;\n",
       "    }\n",
       "</style>\n",
       "<table border=\"1\" class=\"dataframe\">\n",
       "  <thead>\n",
       "    <tr style=\"text-align: right;\">\n",
       "      <th></th>\n",
       "      <th>RECORD_TIME</th>\n",
       "    </tr>\n",
       "  </thead>\n",
       "  <tbody>\n",
       "    <tr>\n",
       "      <th>0</th>\n",
       "      <td>2021-11-10 14:30</td>\n",
       "    </tr>\n",
       "    <tr>\n",
       "      <th>1</th>\n",
       "      <td>2021-11-10 14:00</td>\n",
       "    </tr>\n",
       "  </tbody>\n",
       "</table>\n",
       "</div>"
      ],
      "text/plain": [
       "        RECORD_TIME\n",
       "0  2021-11-10 14:30\n",
       "1  2021-11-10 14:00"
      ]
     },
     "execution_count": 3,
     "metadata": {},
     "output_type": "execute_result"
    }
   ],
   "source": [
    "timestamps"
   ]
  },
  {
   "cell_type": "code",
   "execution_count": 4,
   "id": "alternate-victory",
   "metadata": {
    "execution": {
     "iopub.execute_input": "2021-11-10T13:30:09.676883Z",
     "iopub.status.busy": "2021-11-10T13:30:09.674726Z",
     "iopub.status.idle": "2021-11-10T13:30:10.817195Z",
     "shell.execute_reply": "2021-11-10T13:30:10.815312Z"
    },
    "papermill": {
     "duration": 1.175921,
     "end_time": "2021-11-10T13:30:10.817610",
     "exception": false,
     "start_time": "2021-11-10T13:30:09.641689",
     "status": "completed"
    },
    "tags": []
   },
   "outputs": [],
   "source": [
    "df = pd.read_sql(\"select * from EBAY_TOP_BERLIN where record_time in (select distinct record_time from EBAY_TOP_BERLIN order by record_time desc limit 2)\", sqlite3.connect(\"UsedObjects.db\"))"
   ]
  },
  {
   "cell_type": "code",
   "execution_count": 5,
   "id": "popular-active",
   "metadata": {
    "execution": {
     "iopub.execute_input": "2021-11-10T13:30:10.890350Z",
     "iopub.status.busy": "2021-11-10T13:30:10.888059Z",
     "iopub.status.idle": "2021-11-10T13:30:10.913105Z",
     "shell.execute_reply": "2021-11-10T13:30:10.914772Z"
    },
    "papermill": {
     "duration": 0.073694,
     "end_time": "2021-11-10T13:30:10.915249",
     "exception": false,
     "start_time": "2021-11-10T13:30:10.841555",
     "status": "completed"
    },
    "tags": []
   },
   "outputs": [],
   "source": [
    "df_pivot = df.pivot_table(index=\"PRODUCT\", columns = \"RECORD_TIME\", values = \"LISTING_COUNT\")"
   ]
  },
  {
   "cell_type": "code",
   "execution_count": 6,
   "id": "union-huntington",
   "metadata": {
    "execution": {
     "iopub.execute_input": "2021-11-10T13:30:10.975490Z",
     "iopub.status.busy": "2021-11-10T13:30:10.973185Z",
     "iopub.status.idle": "2021-11-10T13:30:10.978095Z",
     "shell.execute_reply": "2021-11-10T13:30:10.979756Z"
    },
    "papermill": {
     "duration": 0.044906,
     "end_time": "2021-11-10T13:30:10.980256",
     "exception": false,
     "start_time": "2021-11-10T13:30:10.935350",
     "status": "completed"
    },
    "tags": []
   },
   "outputs": [],
   "source": [
    "df_pivot.columns = [\"stamp_1\", \"stamp_2\"]\n",
    "df_pivot_diff = df_pivot.diff(axis=1)"
   ]
  },
  {
   "cell_type": "code",
   "execution_count": 7,
   "id": "fifth-motion",
   "metadata": {
    "execution": {
     "iopub.execute_input": "2021-11-10T13:30:11.065299Z",
     "iopub.status.busy": "2021-11-10T13:30:11.061212Z",
     "iopub.status.idle": "2021-11-10T13:30:12.808141Z",
     "shell.execute_reply": "2021-11-10T13:30:12.811116Z"
    },
    "papermill": {
     "duration": 1.805008,
     "end_time": "2021-11-10T13:30:12.811970",
     "exception": false,
     "start_time": "2021-11-10T13:30:11.006962",
     "status": "completed"
    },
    "tags": []
   },
   "outputs": [
    {
     "data": {
      "text/plain": [
       "<AxesSubplot:ylabel='PRODUCT'>"
      ]
     },
     "execution_count": 7,
     "metadata": {},
     "output_type": "execute_result"
    },
    {
     "data": {
      "image/png": "[encoded data removed]",
      "text/plain": [
       "<Figure size 432x288 with 1 Axes>"
      ]
     },
     "metadata": {
      "needs_background": "light"
     },
     "output_type": "display_data"
    }
   ],
   "source": [
    "df_pivot_diff.sort_values(\"stamp_2\", ascending = False)[\"stamp_2\"].head(10).plot.barh()"
   ]
  },
  {
   "cell_type": "code",
   "execution_count": null,
   "id": "extra-executive",
   "metadata": {
    "papermill": {
     "duration": 0.038988,
     "end_time": "2021-11-10T13:30:12.887413",
     "exception": false,
     "start_time": "2021-11-10T13:30:12.848425",
     "status": "completed"
    },
    "tags": []
   },
   "outputs": [],
   "source": []
  }
 ],
 "metadata": {
  "kernelspec": {
   "display_name": "Python 3",
   "language": "python",
   "name": "python3"
  },
  "language_info": {
   "codemirror_mode": {
    "name": "ipython",
    "version": 3
   },
   "file_extension": ".py",
   "mimetype": "text/x-python",
   "name": "python",
   "nbconvert_exporter": "python",
   "pygments_lexer": "ipython3",
   "version": "3.9.5"
  },
  "papermill": {
   "default_parameters": {},
   "duration": 8.785319,
   "end_time": "2021-11-10T13:30:13.765166",
   "environment_variables": {},
   "exception": null,
   "input_path": "eBay_Overview.ipynb",
   "output_path": "eBay_Overview.ipynb",
   "parameters": {},
   "start_time": "2021-11-10T13:30:04.979847",
   "version": "2.3.3"
  }
 },
 "nbformat": 4,
 "nbformat_minor": 5
}