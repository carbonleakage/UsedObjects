{
 "cells": [
  {
   "cell_type": "code",
   "execution_count": 1,
   "id": "reverse-picking",
   "metadata": {
    "execution": {
     "iopub.execute_input": "2021-09-18T12:00:07.442004Z",
     "iopub.status.busy": "2021-09-18T12:00:07.440037Z",
     "iopub.status.idle": "2021-09-18T12:00:08.242486Z",
     "shell.execute_reply": "2021-09-18T12:00:08.243949Z"
    },
    "papermill": {
     "duration": 0.852832,
     "end_time": "2021-09-18T12:00:08.244601",
     "exception": false,
     "start_time": "2021-09-18T12:00:07.391769",
     "status": "completed"
    },
    "tags": []
   },
   "outputs": [],
   "source": [
    "import pandas as pd\n",
    "import sqlite3"
   ]
  },
  {
   "cell_type": "code",
   "execution_count": 2,
   "id": "innovative-syndrome",
   "metadata": {
    "execution": {
     "iopub.execute_input": "2021-09-18T12:00:08.295669Z",
     "iopub.status.busy": "2021-09-18T12:00:08.293537Z",
     "iopub.status.idle": "2021-09-18T12:00:08.603257Z",
     "shell.execute_reply": "2021-09-18T12:00:08.604588Z"
    },
    "papermill": {
     "duration": 0.340136,
     "end_time": "2021-09-18T12:00:08.604987",
     "exception": false,
     "start_time": "2021-09-18T12:00:08.264851",
     "status": "completed"
    },
    "tags": []
   },
   "outputs": [],
   "source": [
    "timestamps = pd.read_sql(\"select distinct record_time from EBAY_TOP_BERLIN order by record_time desc limit 2\", sqlite3.connect(\"UsedObjects.db\"))"
   ]
  },
  {
   "cell_type": "code",
   "execution_count": 3,
   "id": "periodic-identification",
   "metadata": {
    "execution": {
     "iopub.execute_input": "2021-09-18T12:00:08.672120Z",
     "iopub.status.busy": "2021-09-18T12:00:08.667056Z",
     "iopub.status.idle": "2021-09-18T12:00:08.686855Z",
     "shell.execute_reply": "2021-09-18T12:00:08.688467Z"
    },
    "papermill": {
     "duration": 0.064521,
     "end_time": "2021-09-18T12:00:08.688938",
     "exception": false,
     "start_time": "2021-09-18T12:00:08.624417",
     "status": "completed"
    },
    "tags": []
   },
   "outputs": [
    {
     "data": {
      "text/html": [
       "<div>\n",
       "<style scoped>\n",
       "    .dataframe tbody tr th:only-of-type {\n",
       "        vertical-align: middle;\n",
       "    }\n",
       "\n",
       "    .dataframe tbody tr th {\n",
       "        vertical-align: top;\n",
       "    }\n",
       "\n",
       "    .dataframe thead th {\n",
       "        text-align: right;\n",
       "    }\n",
       "</style>\n",
       "<table border=\"1\" class=\"dataframe\">\n",
       "  <thead>\n",
       "    <tr style=\"text-align: right;\">\n",
       "      <th></th>\n",
       "      <th>RECORD_TIME</th>\n",
       "    </tr>\n",
       "  </thead>\n",
       "  <tbody>\n",
       "    <tr>\n",
       "      <th>0</th>\n",
       "      <td>2021-09-18 14:00</td>\n",
       "    </tr>\n",
       "    <tr>\n",
       "      <th>1</th>\n",
       "      <td>2021-09-18 13:30</td>\n",
       "    </tr>\n",
       "  </tbody>\n",
       "</table>\n",
       "</div>"
      ],
      "text/plain": [
       "        RECORD_TIME\n",
       "0  2021-09-18 14:00\n",
       "1  2021-09-18 13:30"
      ]
     },
     "execution_count": 3,
     "metadata": {},
     "output_type": "execute_result"
    }
   ],
   "source": [
    "timestamps"
   ]
  },
  {
   "cell_type": "code",
   "execution_count": 4,
   "id": "alternate-victory",
   "metadata": {
    "execution": {
     "iopub.execute_input": "2021-09-18T12:00:08.741417Z",
     "iopub.status.busy": "2021-09-18T12:00:08.739395Z",
     "iopub.status.idle": "2021-09-18T12:00:09.208400Z",
     "shell.execute_reply": "2021-09-18T12:00:09.209613Z"
    },
    "papermill": {
     "duration": 0.499521,
     "end_time": "2021-09-18T12:00:09.210011",
     "exception": false,
     "start_time": "2021-09-18T12:00:08.710490",
     "status": "completed"
    },
    "tags": []
   },
   "outputs": [],
   "source": [
    "df = pd.read_sql(\"select * from EBAY_TOP_BERLIN where record_time in (select distinct record_time from EBAY_TOP_BERLIN order by record_time desc limit 2)\", sqlite3.connect(\"UsedObjects.db\"))"
   ]
  },
  {
   "cell_type": "code",
   "execution_count": 5,
   "id": "popular-active",
   "metadata": {
    "execution": {
     "iopub.execute_input": "2021-09-18T12:00:09.290397Z",
     "iopub.status.busy": "2021-09-18T12:00:09.279063Z",
     "iopub.status.idle": "2021-09-18T12:00:09.306342Z",
     "shell.execute_reply": "2021-09-18T12:00:09.307714Z"
    },
    "papermill": {
     "duration": 0.072387,
     "end_time": "2021-09-18T12:00:09.308158",
     "exception": false,
     "start_time": "2021-09-18T12:00:09.235771",
     "status": "completed"
    },
    "tags": []
   },
   "outputs": [],
   "source": [
    "df_pivot = df.pivot_table(index=\"PRODUCT\", columns = \"RECORD_TIME\", values = \"LISTING_COUNT\")"
   ]
  },
  {
   "cell_type": "code",
   "execution_count": 6,
   "id": "union-huntington",
   "metadata": {
    "execution": {
     "iopub.execute_input": "2021-09-18T12:00:09.365676Z",
     "iopub.status.busy": "2021-09-18T12:00:09.363253Z",
     "iopub.status.idle": "2021-09-18T12:00:09.369297Z",
     "shell.execute_reply": "2021-09-18T12:00:09.370762Z"
    },
    "papermill": {
     "duration": 0.042639,
     "end_time": "2021-09-18T12:00:09.371290",
     "exception": false,
     "start_time": "2021-09-18T12:00:09.328651",
     "status": "completed"
    },
    "tags": []
   },
   "outputs": [],
   "source": [
    "df_pivot.columns = [\"stamp_1\", \"stamp_2\"]\n",
    "df_pivot_diff = df_pivot.diff(axis=1)"
   ]
  },
  {
   "cell_type": "code",
   "execution_count": 7,
   "id": "fifth-motion",
   "metadata": {
    "execution": {
     "iopub.execute_input": "2021-09-18T12:00:09.426006Z",
     "iopub.status.busy": "2021-09-18T12:00:09.423793Z",
     "iopub.status.idle": "2021-09-18T12:00:10.930890Z",
     "shell.execute_reply": "2021-09-18T12:00:10.932207Z"
    },
    "papermill": {
     "duration": 1.540015,
     "end_time": "2021-09-18T12:00:10.932623",
     "exception": false,
     "start_time": "2021-09-18T12:00:09.392608",
     "status": "completed"
    },
    "tags": []
   },
   "outputs": [
    {
     "data": {
      "text/plain": [
       "<AxesSubplot:ylabel='PRODUCT'>"
      ]
     },
     "execution_count": 7,
     "metadata": {},
     "output_type": "execute_result"
    },
    {
     "data": {
      "image/png": "[encoded data removed]",
      "text/plain": [
       "<Figure size 432x288 with 1 Axes>"
      ]
     },
     "metadata": {
      "needs_background": "light"
     },
     "output_type": "display_data"
    }
   ],
   "source": [
    "df_pivot_diff.sort_values(\"stamp_2\", ascending = False)[\"stamp_2\"].head(10).plot.barh()"
   ]
  },
  {
   "cell_type": "code",
   "execution_count": null,
   "id": "extra-executive",
   "metadata": {
    "papermill": {
     "duration": 0.02222,
     "end_time": "2021-09-18T12:00:10.978192",
     "exception": false,
     "start_time": "2021-09-18T12:00:10.955972",
     "status": "completed"
    },
    "tags": []
   },
   "outputs": [],
   "source": []
  }
 ],
 "metadata": {
  "kernelspec": {
   "display_name": "Python 3",
   "language": "python",
   "name": "python3"
  },
  "language_info": {
   "codemirror_mode": {
    "name": "ipython",
    "version": 3
   },
   "file_extension": ".py",
   "mimetype": "text/x-python",
   "name": "python",
   "nbconvert_exporter": "python",
   "pygments_lexer": "ipython3",
   "version": "3.9.5"
  },
  "papermill": {
   "default_parameters": {},
   "duration": 6.626856,
   "end_time": "2021-09-18T12:00:11.619308",
   "environment_variables": {},
   "exception": null,
   "input_path": "eBay_Overview.ipynb",
   "output_path": "eBay_Overview.ipynb",
   "parameters": {},
   "start_time": "2021-09-18T12:00:04.992452",
   "version": "2.3.3"
  }
 },
 "nbformat": 4,
 "nbformat_minor": 5
}