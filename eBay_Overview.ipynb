{
 "cells": [
  {
   "cell_type": "code",
   "execution_count": 1,
   "id": "reverse-picking",
   "metadata": {
    "execution": {
     "iopub.execute_input": "2021-09-28T06:30:06.600517Z",
     "iopub.status.busy": "2021-09-28T06:30:06.598501Z",
     "iopub.status.idle": "2021-09-28T06:30:07.409199Z",
     "shell.execute_reply": "2021-09-28T06:30:07.407608Z"
    },
    "papermill": {
     "duration": 0.861941,
     "end_time": "2021-09-28T06:30:07.409596",
     "exception": false,
     "start_time": "2021-09-28T06:30:06.547655",
     "status": "completed"
    },
    "tags": []
   },
   "outputs": [],
   "source": [
    "import pandas as pd\n",
    "import sqlite3"
   ]
  },
  {
   "cell_type": "code",
   "execution_count": 2,
   "id": "innovative-syndrome",
   "metadata": {
    "execution": {
     "iopub.execute_input": "2021-09-28T06:30:07.463650Z",
     "iopub.status.busy": "2021-09-28T06:30:07.461272Z",
     "iopub.status.idle": "2021-09-28T06:30:07.855155Z",
     "shell.execute_reply": "2021-09-28T06:30:07.856650Z"
    },
    "papermill": {
     "duration": 0.424321,
     "end_time": "2021-09-28T06:30:07.857094",
     "exception": false,
     "start_time": "2021-09-28T06:30:07.432773",
     "status": "completed"
    },
    "tags": []
   },
   "outputs": [],
   "source": [
    "timestamps = pd.read_sql(\"select distinct record_time from EBAY_TOP_BERLIN order by record_time desc limit 2\", sqlite3.connect(\"UsedObjects.db\"))"
   ]
  },
  {
   "cell_type": "code",
   "execution_count": 3,
   "id": "periodic-identification",
   "metadata": {
    "execution": {
     "iopub.execute_input": "2021-09-28T06:30:07.924343Z",
     "iopub.status.busy": "2021-09-28T06:30:07.922264Z",
     "iopub.status.idle": "2021-09-28T06:30:07.942907Z",
     "shell.execute_reply": "2021-09-28T06:30:07.944132Z"
    },
    "papermill": {
     "duration": 0.067434,
     "end_time": "2021-09-28T06:30:07.944560",
     "exception": false,
     "start_time": "2021-09-28T06:30:07.877126",
     "status": "completed"
    },
    "tags": []
   },
   "outputs": [
    {
     "data": {
      "text/html": [
       "<div>\n",
       "<style scoped>\n",
       "    .dataframe tbody tr th:only-of-type {\n",
       "        vertical-align: middle;\n",
       "    }\n",
       "\n",
       "    .dataframe tbody tr th {\n",
       "        vertical-align: top;\n",
       "    }\n",
       "\n",
       "    .dataframe thead th {\n",
       "        text-align: right;\n",
       "    }\n",
       "</style>\n",
       "<table border=\"1\" class=\"dataframe\">\n",
       "  <thead>\n",
       "    <tr style=\"text-align: right;\">\n",
       "      <th></th>\n",
       "      <th>RECORD_TIME</th>\n",
       "    </tr>\n",
       "  </thead>\n",
       "  <tbody>\n",
       "    <tr>\n",
       "      <th>0</th>\n",
       "      <td>2021-09-28 08:30</td>\n",
       "    </tr>\n",
       "    <tr>\n",
       "      <th>1</th>\n",
       "      <td>2021-09-28 08:00</td>\n",
       "    </tr>\n",
       "  </tbody>\n",
       "</table>\n",
       "</div>"
      ],
      "text/plain": [
       "        RECORD_TIME\n",
       "0  2021-09-28 08:30\n",
       "1  2021-09-28 08:00"
      ]
     },
     "execution_count": 3,
     "metadata": {},
     "output_type": "execute_result"
    }
   ],
   "source": [
    "timestamps"
   ]
  },
  {
   "cell_type": "code",
   "execution_count": 4,
   "id": "alternate-victory",
   "metadata": {
    "execution": {
     "iopub.execute_input": "2021-09-28T06:30:07.999634Z",
     "iopub.status.busy": "2021-09-28T06:30:07.997302Z",
     "iopub.status.idle": "2021-09-28T06:30:08.575687Z",
     "shell.execute_reply": "2021-09-28T06:30:08.576982Z"
    },
    "papermill": {
     "duration": 0.608986,
     "end_time": "2021-09-28T06:30:08.577383",
     "exception": false,
     "start_time": "2021-09-28T06:30:07.968397",
     "status": "completed"
    },
    "tags": []
   },
   "outputs": [],
   "source": [
    "df = pd.read_sql(\"select * from EBAY_TOP_BERLIN where record_time in (select distinct record_time from EBAY_TOP_BERLIN order by record_time desc limit 2)\", sqlite3.connect(\"UsedObjects.db\"))"
   ]
  },
  {
   "cell_type": "code",
   "execution_count": 5,
   "id": "popular-active",
   "metadata": {
    "execution": {
     "iopub.execute_input": "2021-09-28T06:30:08.648325Z",
     "iopub.status.busy": "2021-09-28T06:30:08.646152Z",
     "iopub.status.idle": "2021-09-28T06:30:08.673875Z",
     "shell.execute_reply": "2021-09-28T06:30:08.675335Z"
    },
    "papermill": {
     "duration": 0.071941,
     "end_time": "2021-09-28T06:30:08.675754",
     "exception": false,
     "start_time": "2021-09-28T06:30:08.603813",
     "status": "completed"
    },
    "tags": []
   },
   "outputs": [],
   "source": [
    "df_pivot = df.pivot_table(index=\"PRODUCT\", columns = \"RECORD_TIME\", values = \"LISTING_COUNT\")"
   ]
  },
  {
   "cell_type": "code",
   "execution_count": 6,
   "id": "union-huntington",
   "metadata": {
    "execution": {
     "iopub.execute_input": "2021-09-28T06:30:08.734669Z",
     "iopub.status.busy": "2021-09-28T06:30:08.732246Z",
     "iopub.status.idle": "2021-09-28T06:30:08.738031Z",
     "shell.execute_reply": "2021-09-28T06:30:08.739371Z"
    },
    "papermill": {
     "duration": 0.042543,
     "end_time": "2021-09-28T06:30:08.739793",
     "exception": false,
     "start_time": "2021-09-28T06:30:08.697250",
     "status": "completed"
    },
    "tags": []
   },
   "outputs": [],
   "source": [
    "df_pivot.columns = [\"stamp_1\", \"stamp_2\"]\n",
    "df_pivot_diff = df_pivot.diff(axis=1)"
   ]
  },
  {
   "cell_type": "code",
   "execution_count": 7,
   "id": "fifth-motion",
   "metadata": {
    "execution": {
     "iopub.execute_input": "2021-09-28T06:30:08.794040Z",
     "iopub.status.busy": "2021-09-28T06:30:08.791842Z",
     "iopub.status.idle": "2021-09-28T06:30:10.309609Z",
     "shell.execute_reply": "2021-09-28T06:30:10.311092Z"
    },
    "papermill": {
     "duration": 1.550859,
     "end_time": "2021-09-28T06:30:10.311532",
     "exception": false,
     "start_time": "2021-09-28T06:30:08.760673",
     "status": "completed"
    },
    "tags": []
   },
   "outputs": [
    {
     "data": {
      "text/plain": [
       "<AxesSubplot:ylabel='PRODUCT'>"
      ]
     },
     "execution_count": 7,
     "metadata": {},
     "output_type": "execute_result"
    },
    {
     "data": {
      "image/png": "[encoded data removed]",
      "text/plain": [
       "<Figure size 432x288 with 1 Axes>"
      ]
     },
     "metadata": {
      "needs_background": "light"
     },
     "output_type": "display_data"
    }
   ],
   "source": [
    "df_pivot_diff.sort_values(\"stamp_2\", ascending = False)[\"stamp_2\"].head(10).plot.barh()"
   ]
  },
  {
   "cell_type": "code",
   "execution_count": null,
   "id": "extra-executive",
   "metadata": {
    "papermill": {
     "duration": 0.022329,
     "end_time": "2021-09-28T06:30:10.359988",
     "exception": false,
     "start_time": "2021-09-28T06:30:10.337659",
     "status": "completed"
    },
    "tags": []
   },
   "outputs": [],
   "source": []
  }
 ],
 "metadata": {
  "kernelspec": {
   "display_name": "Python 3",
   "language": "python",
   "name": "python3"
  },
  "language_info": {
   "codemirror_mode": {
    "name": "ipython",
    "version": 3
   },
   "file_extension": ".py",
   "mimetype": "text/x-python",
   "name": "python",
   "nbconvert_exporter": "python",
   "pygments_lexer": "ipython3",
   "version": "3.9.5"
  },
  "papermill": {
   "default_parameters": {},
   "duration": 7.833955,
   "end_time": "2021-09-28T06:30:11.969868",
   "environment_variables": {},
   "exception": null,
   "input_path": "eBay_Overview.ipynb",
   "output_path": "eBay_Overview.ipynb",
   "parameters": {},
   "start_time": "2021-09-28T06:30:04.135913",
   "version": "2.3.3"
  }
 },
 "nbformat": 4,
 "nbformat_minor": 5
}