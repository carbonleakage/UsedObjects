{
 "cells": [
  {
   "cell_type": "code",
   "execution_count": 1,
   "id": "reverse-picking",
   "metadata": {
    "execution": {
     "iopub.execute_input": "2021-12-13T11:00:07.960533Z",
     "iopub.status.busy": "2021-12-13T11:00:07.958091Z",
     "iopub.status.idle": "2021-12-13T11:00:08.908180Z",
     "shell.execute_reply": "2021-12-13T11:00:08.910101Z"
    },
    "papermill": {
     "duration": 1.002007,
     "end_time": "2021-12-13T11:00:08.910978",
     "exception": false,
     "start_time": "2021-12-13T11:00:07.908971",
     "status": "completed"
    },
    "tags": []
   },
   "outputs": [],
   "source": [
    "import pandas as pd\n",
    "import sqlite3"
   ]
  },
  {
   "cell_type": "code",
   "execution_count": 2,
   "id": "innovative-syndrome",
   "metadata": {
    "execution": {
     "iopub.execute_input": "2021-12-13T11:00:09.033483Z",
     "iopub.status.busy": "2021-12-13T11:00:09.031152Z",
     "iopub.status.idle": "2021-12-13T11:00:10.112615Z",
     "shell.execute_reply": "2021-12-13T11:00:10.114448Z"
    },
    "papermill": {
     "duration": 1.1157,
     "end_time": "2021-12-13T11:00:10.114968",
     "exception": false,
     "start_time": "2021-12-13T11:00:08.999268",
     "status": "completed"
    },
    "tags": []
   },
   "outputs": [],
   "source": [
    "timestamps = pd.read_sql(\"select distinct record_time from EBAY_TOP_BERLIN order by record_time desc limit 2\", sqlite3.connect(\"UsedObjects.db\"))"
   ]
  },
  {
   "cell_type": "code",
   "execution_count": 3,
   "id": "periodic-identification",
   "metadata": {
    "execution": {
     "iopub.execute_input": "2021-12-13T11:00:10.192381Z",
     "iopub.status.busy": "2021-12-13T11:00:10.190452Z",
     "iopub.status.idle": "2021-12-13T11:00:10.235411Z",
     "shell.execute_reply": "2021-12-13T11:00:10.236868Z"
    },
    "papermill": {
     "duration": 0.099955,
     "end_time": "2021-12-13T11:00:10.237360",
     "exception": false,
     "start_time": "2021-12-13T11:00:10.137405",
     "status": "completed"
    },
    "tags": []
   },
   "outputs": [
    {
     "data": {
      "text/html": [
       "<div>\n",
       "<style scoped>\n",
       "    .dataframe tbody tr th:only-of-type {\n",
       "        vertical-align: middle;\n",
       "    }\n",
       "\n",
       "    .dataframe tbody tr th {\n",
       "        vertical-align: top;\n",
       "    }\n",
       "\n",
       "    .dataframe thead th {\n",
       "        text-align: right;\n",
       "    }\n",
       "</style>\n",
       "<table border=\"1\" class=\"dataframe\">\n",
       "  <thead>\n",
       "    <tr style=\"text-align: right;\">\n",
       "      <th></th>\n",
       "      <th>RECORD_TIME</th>\n",
       "    </tr>\n",
       "  </thead>\n",
       "  <tbody>\n",
       "    <tr>\n",
       "      <th>0</th>\n",
       "      <td>2021-12-13 12:00</td>\n",
       "    </tr>\n",
       "    <tr>\n",
       "      <th>1</th>\n",
       "      <td>2021-12-13 11:30</td>\n",
       "    </tr>\n",
       "  </tbody>\n",
       "</table>\n",
       "</div>"
      ],
      "text/plain": [
       "        RECORD_TIME\n",
       "0  2021-12-13 12:00\n",
       "1  2021-12-13 11:30"
      ]
     },
     "execution_count": 3,
     "metadata": {},
     "output_type": "execute_result"
    }
   ],
   "source": [
    "timestamps"
   ]
  },
  {
   "cell_type": "code",
   "execution_count": 4,
   "id": "alternate-victory",
   "metadata": {
    "execution": {
     "iopub.execute_input": "2021-12-13T11:00:10.294136Z",
     "iopub.status.busy": "2021-12-13T11:00:10.291865Z",
     "iopub.status.idle": "2021-12-13T11:00:11.864130Z",
     "shell.execute_reply": "2021-12-13T11:00:11.865941Z"
    },
    "papermill": {
     "duration": 1.607134,
     "end_time": "2021-12-13T11:00:11.866447",
     "exception": false,
     "start_time": "2021-12-13T11:00:10.259313",
     "status": "completed"
    },
    "tags": []
   },
   "outputs": [],
   "source": [
    "df = pd.read_sql(\"select * from EBAY_TOP_BERLIN where record_time in (select distinct record_time from EBAY_TOP_BERLIN order by record_time desc limit 2)\", sqlite3.connect(\"UsedObjects.db\"))"
   ]
  },
  {
   "cell_type": "code",
   "execution_count": 5,
   "id": "popular-active",
   "metadata": {
    "execution": {
     "iopub.execute_input": "2021-12-13T11:00:11.940725Z",
     "iopub.status.busy": "2021-12-13T11:00:11.932359Z",
     "iopub.status.idle": "2021-12-13T11:00:11.969505Z",
     "shell.execute_reply": "2021-12-13T11:00:11.971242Z"
    },
    "papermill": {
     "duration": 0.084197,
     "end_time": "2021-12-13T11:00:11.971763",
     "exception": false,
     "start_time": "2021-12-13T11:00:11.887566",
     "status": "completed"
    },
    "tags": []
   },
   "outputs": [],
   "source": [
    "df_pivot = df.pivot_table(index=\"PRODUCT\", columns = \"RECORD_TIME\", values = \"LISTING_COUNT\")"
   ]
  },
  {
   "cell_type": "code",
   "execution_count": 6,
   "id": "union-huntington",
   "metadata": {
    "execution": {
     "iopub.execute_input": "2021-12-13T11:00:12.033145Z",
     "iopub.status.busy": "2021-12-13T11:00:12.030844Z",
     "iopub.status.idle": "2021-12-13T11:00:12.037019Z",
     "shell.execute_reply": "2021-12-13T11:00:12.038523Z"
    },
    "papermill": {
     "duration": 0.044358,
     "end_time": "2021-12-13T11:00:12.038993",
     "exception": false,
     "start_time": "2021-12-13T11:00:11.994635",
     "status": "completed"
    },
    "tags": []
   },
   "outputs": [],
   "source": [
    "df_pivot.columns = [\"stamp_1\", \"stamp_2\"]\n",
    "df_pivot_diff = df_pivot.diff(axis=1)"
   ]
  },
  {
   "cell_type": "code",
   "execution_count": 7,
   "id": "fifth-motion",
   "metadata": {
    "execution": {
     "iopub.execute_input": "2021-12-13T11:00:12.095434Z",
     "iopub.status.busy": "2021-12-13T11:00:12.092895Z",
     "iopub.status.idle": "2021-12-13T11:00:14.112157Z",
     "shell.execute_reply": "2021-12-13T11:00:14.113680Z"
    },
    "papermill": {
     "duration": 2.054758,
     "end_time": "2021-12-13T11:00:14.114144",
     "exception": false,
     "start_time": "2021-12-13T11:00:12.059386",
     "status": "completed"
    },
    "tags": []
   },
   "outputs": [
    {
     "data": {
      "text/plain": [
       "<AxesSubplot:ylabel='PRODUCT'>"
      ]
     },
     "execution_count": 7,
     "metadata": {},
     "output_type": "execute_result"
    },
    {
     "data": {
      "image/png": "[encoded data removed]",
      "text/plain": [
       "<Figure size 432x288 with 1 Axes>"
      ]
     },
     "metadata": {
      "needs_background": "light"
     },
     "output_type": "display_data"
    }
   ],
   "source": [
    "df_pivot_diff.sort_values(\"stamp_2\", ascending = False)[\"stamp_2\"].head(10).plot.barh()"
   ]
  },
  {
   "cell_type": "code",
   "execution_count": null,
   "id": "extra-executive",
   "metadata": {
    "papermill": {
     "duration": 0.057781,
     "end_time": "2021-12-13T11:00:14.264614",
     "exception": false,
     "start_time": "2021-12-13T11:00:14.206833",
     "status": "completed"
    },
    "tags": []
   },
   "outputs": [],
   "source": []
  }
 ],
 "metadata": {
  "kernelspec": {
   "display_name": "Python 3",
   "language": "python",
   "name": "python3"
  },
  "language_info": {
   "codemirror_mode": {
    "name": "ipython",
    "version": 3
   },
   "file_extension": ".py",
   "mimetype": "text/x-python",
   "name": "python",
   "nbconvert_exporter": "python",
   "pygments_lexer": "ipython3",
   "version": "3.9.5"
  },
  "papermill": {
   "default_parameters": {},
   "duration": 9.763005,
   "end_time": "2021-12-13T11:00:14.927182",
   "environment_variables": {},
   "exception": null,
   "input_path": "eBay_Overview.ipynb",
   "output_path": "eBay_Overview.ipynb",
   "parameters": {},
   "start_time": "2021-12-13T11:00:05.164177",
   "version": "2.3.3"
  }
 },
 "nbformat": 4,
 "nbformat_minor": 5
}