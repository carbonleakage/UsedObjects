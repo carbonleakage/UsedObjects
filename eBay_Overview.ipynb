{
 "cells": [
  {
   "cell_type": "code",
   "execution_count": 1,
   "id": "reverse-picking",
   "metadata": {
    "execution": {
     "iopub.execute_input": "2021-11-02T14:30:07.460179Z",
     "iopub.status.busy": "2021-11-02T14:30:07.443175Z",
     "iopub.status.idle": "2021-11-02T14:30:08.405539Z",
     "shell.execute_reply": "2021-11-02T14:30:08.407109Z"
    },
    "papermill": {
     "duration": 0.993469,
     "end_time": "2021-11-02T14:30:08.407832",
     "exception": false,
     "start_time": "2021-11-02T14:30:07.414363",
     "status": "completed"
    },
    "tags": []
   },
   "outputs": [],
   "source": [
    "import pandas as pd\n",
    "import sqlite3"
   ]
  },
  {
   "cell_type": "code",
   "execution_count": 2,
   "id": "innovative-syndrome",
   "metadata": {
    "execution": {
     "iopub.execute_input": "2021-11-02T14:30:08.467965Z",
     "iopub.status.busy": "2021-11-02T14:30:08.465746Z",
     "iopub.status.idle": "2021-11-02T14:30:09.164124Z",
     "shell.execute_reply": "2021-11-02T14:30:09.165802Z"
    },
    "papermill": {
     "duration": 0.737674,
     "end_time": "2021-11-02T14:30:09.166309",
     "exception": false,
     "start_time": "2021-11-02T14:30:08.428635",
     "status": "completed"
    },
    "tags": []
   },
   "outputs": [],
   "source": [
    "timestamps = pd.read_sql(\"select distinct record_time from EBAY_TOP_BERLIN order by record_time desc limit 2\", sqlite3.connect(\"UsedObjects.db\"))"
   ]
  },
  {
   "cell_type": "code",
   "execution_count": 3,
   "id": "periodic-identification",
   "metadata": {
    "execution": {
     "iopub.execute_input": "2021-11-02T14:30:09.237857Z",
     "iopub.status.busy": "2021-11-02T14:30:09.235525Z",
     "iopub.status.idle": "2021-11-02T14:30:09.257820Z",
     "shell.execute_reply": "2021-11-02T14:30:09.259297Z"
    },
    "papermill": {
     "duration": 0.072096,
     "end_time": "2021-11-02T14:30:09.259787",
     "exception": false,
     "start_time": "2021-11-02T14:30:09.187691",
     "status": "completed"
    },
    "tags": []
   },
   "outputs": [
    {
     "data": {
      "text/html": [
       "<div>\n",
       "<style scoped>\n",
       "    .dataframe tbody tr th:only-of-type {\n",
       "        vertical-align: middle;\n",
       "    }\n",
       "\n",
       "    .dataframe tbody tr th {\n",
       "        vertical-align: top;\n",
       "    }\n",
       "\n",
       "    .dataframe thead th {\n",
       "        text-align: right;\n",
       "    }\n",
       "</style>\n",
       "<table border=\"1\" class=\"dataframe\">\n",
       "  <thead>\n",
       "    <tr style=\"text-align: right;\">\n",
       "      <th></th>\n",
       "      <th>RECORD_TIME</th>\n",
       "    </tr>\n",
       "  </thead>\n",
       "  <tbody>\n",
       "    <tr>\n",
       "      <th>0</th>\n",
       "      <td>2021-11-02 15:30</td>\n",
       "    </tr>\n",
       "    <tr>\n",
       "      <th>1</th>\n",
       "      <td>2021-11-02 15:00</td>\n",
       "    </tr>\n",
       "  </tbody>\n",
       "</table>\n",
       "</div>"
      ],
      "text/plain": [
       "        RECORD_TIME\n",
       "0  2021-11-02 15:30\n",
       "1  2021-11-02 15:00"
      ]
     },
     "execution_count": 3,
     "metadata": {},
     "output_type": "execute_result"
    }
   ],
   "source": [
    "timestamps"
   ]
  },
  {
   "cell_type": "code",
   "execution_count": 4,
   "id": "alternate-victory",
   "metadata": {
    "execution": {
     "iopub.execute_input": "2021-11-02T14:30:09.316013Z",
     "iopub.status.busy": "2021-11-02T14:30:09.313845Z",
     "iopub.status.idle": "2021-11-02T14:30:10.343081Z",
     "shell.execute_reply": "2021-11-02T14:30:10.344648Z"
    },
    "papermill": {
     "duration": 1.06412,
     "end_time": "2021-11-02T14:30:10.345215",
     "exception": false,
     "start_time": "2021-11-02T14:30:09.281095",
     "status": "completed"
    },
    "tags": []
   },
   "outputs": [],
   "source": [
    "df = pd.read_sql(\"select * from EBAY_TOP_BERLIN where record_time in (select distinct record_time from EBAY_TOP_BERLIN order by record_time desc limit 2)\", sqlite3.connect(\"UsedObjects.db\"))"
   ]
  },
  {
   "cell_type": "code",
   "execution_count": 5,
   "id": "popular-active",
   "metadata": {
    "execution": {
     "iopub.execute_input": "2021-11-02T14:30:10.424561Z",
     "iopub.status.busy": "2021-11-02T14:30:10.407261Z",
     "iopub.status.idle": "2021-11-02T14:30:10.444275Z",
     "shell.execute_reply": "2021-11-02T14:30:10.445879Z"
    },
    "papermill": {
     "duration": 0.0797,
     "end_time": "2021-11-02T14:30:10.446388",
     "exception": false,
     "start_time": "2021-11-02T14:30:10.366688",
     "status": "completed"
    },
    "tags": []
   },
   "outputs": [],
   "source": [
    "df_pivot = df.pivot_table(index=\"PRODUCT\", columns = \"RECORD_TIME\", values = \"LISTING_COUNT\")"
   ]
  },
  {
   "cell_type": "code",
   "execution_count": 6,
   "id": "union-huntington",
   "metadata": {
    "execution": {
     "iopub.execute_input": "2021-11-02T14:30:10.509898Z",
     "iopub.status.busy": "2021-11-02T14:30:10.507489Z",
     "iopub.status.idle": "2021-11-02T14:30:10.512848Z",
     "shell.execute_reply": "2021-11-02T14:30:10.514341Z"
    },
    "papermill": {
     "duration": 0.046197,
     "end_time": "2021-11-02T14:30:10.514800",
     "exception": false,
     "start_time": "2021-11-02T14:30:10.468603",
     "status": "completed"
    },
    "tags": []
   },
   "outputs": [],
   "source": [
    "df_pivot.columns = [\"stamp_1\", \"stamp_2\"]\n",
    "df_pivot_diff = df_pivot.diff(axis=1)"
   ]
  },
  {
   "cell_type": "code",
   "execution_count": 7,
   "id": "fifth-motion",
   "metadata": {
    "execution": {
     "iopub.execute_input": "2021-11-02T14:30:10.573309Z",
     "iopub.status.busy": "2021-11-02T14:30:10.570742Z",
     "iopub.status.idle": "2021-11-02T14:30:12.311029Z",
     "shell.execute_reply": "2021-11-02T14:30:12.313941Z"
    },
    "papermill": {
     "duration": 1.779143,
     "end_time": "2021-11-02T14:30:12.314807",
     "exception": false,
     "start_time": "2021-11-02T14:30:10.535664",
     "status": "completed"
    },
    "tags": []
   },
   "outputs": [
    {
     "data": {
      "text/plain": [
       "<AxesSubplot:ylabel='PRODUCT'>"
      ]
     },
     "execution_count": 7,
     "metadata": {},
     "output_type": "execute_result"
    },
    {
     "data": {
      "image/png": "[encoded data removed]",
      "text/plain": [
       "<Figure size 432x288 with 1 Axes>"
      ]
     },
     "metadata": {
      "needs_background": "light"
     },
     "output_type": "display_data"
    }
   ],
   "source": [
    "df_pivot_diff.sort_values(\"stamp_2\", ascending = False)[\"stamp_2\"].head(10).plot.barh()"
   ]
  },
  {
   "cell_type": "code",
   "execution_count": null,
   "id": "extra-executive",
   "metadata": {
    "papermill": {
     "duration": 0.035469,
     "end_time": "2021-11-02T14:30:12.389093",
     "exception": false,
     "start_time": "2021-11-02T14:30:12.353624",
     "status": "completed"
    },
    "tags": []
   },
   "outputs": [],
   "source": []
  }
 ],
 "metadata": {
  "kernelspec": {
   "display_name": "Python 3",
   "language": "python",
   "name": "python3"
  },
  "language_info": {
   "codemirror_mode": {
    "name": "ipython",
    "version": 3
   },
   "file_extension": ".py",
   "mimetype": "text/x-python",
   "name": "python",
   "nbconvert_exporter": "python",
   "pygments_lexer": "ipython3",
   "version": "3.9.5"
  },
  "papermill": {
   "default_parameters": {},
   "duration": 8.999468,
   "end_time": "2021-11-02T14:30:13.628822",
   "environment_variables": {},
   "exception": null,
   "input_path": "eBay_Overview.ipynb",
   "output_path": "eBay_Overview.ipynb",
   "parameters": {},
   "start_time": "2021-11-02T14:30:04.629354",
   "version": "2.3.3"
  }
 },
 "nbformat": 4,
 "nbformat_minor": 5
}