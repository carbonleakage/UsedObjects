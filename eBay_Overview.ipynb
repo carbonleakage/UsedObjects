{
 "cells": [
  {
   "cell_type": "code",
   "execution_count": 1,
   "id": "reverse-picking",
   "metadata": {
    "execution": {
     "iopub.execute_input": "2021-09-18T18:30:07.222161Z",
     "iopub.status.busy": "2021-09-18T18:30:07.220238Z",
     "iopub.status.idle": "2021-09-18T18:30:08.023633Z",
     "shell.execute_reply": "2021-09-18T18:30:08.024896Z"
    },
    "papermill": {
     "duration": 0.855421,
     "end_time": "2021-09-18T18:30:08.025492",
     "exception": false,
     "start_time": "2021-09-18T18:30:07.170071",
     "status": "completed"
    },
    "tags": []
   },
   "outputs": [],
   "source": [
    "import pandas as pd\n",
    "import sqlite3"
   ]
  },
  {
   "cell_type": "code",
   "execution_count": 2,
   "id": "innovative-syndrome",
   "metadata": {
    "execution": {
     "iopub.execute_input": "2021-09-18T18:30:08.076010Z",
     "iopub.status.busy": "2021-09-18T18:30:08.074066Z",
     "iopub.status.idle": "2021-09-18T18:30:08.386758Z",
     "shell.execute_reply": "2021-09-18T18:30:08.388102Z"
    },
    "papermill": {
     "duration": 0.341901,
     "end_time": "2021-09-18T18:30:08.388552",
     "exception": false,
     "start_time": "2021-09-18T18:30:08.046651",
     "status": "completed"
    },
    "tags": []
   },
   "outputs": [],
   "source": [
    "timestamps = pd.read_sql(\"select distinct record_time from EBAY_TOP_BERLIN order by record_time desc limit 2\", sqlite3.connect(\"UsedObjects.db\"))"
   ]
  },
  {
   "cell_type": "code",
   "execution_count": 3,
   "id": "periodic-identification",
   "metadata": {
    "execution": {
     "iopub.execute_input": "2021-09-18T18:30:08.453724Z",
     "iopub.status.busy": "2021-09-18T18:30:08.451724Z",
     "iopub.status.idle": "2021-09-18T18:30:08.471432Z",
     "shell.execute_reply": "2021-09-18T18:30:08.473230Z"
    },
    "papermill": {
     "duration": 0.065469,
     "end_time": "2021-09-18T18:30:08.473766",
     "exception": false,
     "start_time": "2021-09-18T18:30:08.408297",
     "status": "completed"
    },
    "tags": []
   },
   "outputs": [
    {
     "data": {
      "text/html": [
       "<div>\n",
       "<style scoped>\n",
       "    .dataframe tbody tr th:only-of-type {\n",
       "        vertical-align: middle;\n",
       "    }\n",
       "\n",
       "    .dataframe tbody tr th {\n",
       "        vertical-align: top;\n",
       "    }\n",
       "\n",
       "    .dataframe thead th {\n",
       "        text-align: right;\n",
       "    }\n",
       "</style>\n",
       "<table border=\"1\" class=\"dataframe\">\n",
       "  <thead>\n",
       "    <tr style=\"text-align: right;\">\n",
       "      <th></th>\n",
       "      <th>RECORD_TIME</th>\n",
       "    </tr>\n",
       "  </thead>\n",
       "  <tbody>\n",
       "    <tr>\n",
       "      <th>0</th>\n",
       "      <td>2021-09-18 20:30</td>\n",
       "    </tr>\n",
       "    <tr>\n",
       "      <th>1</th>\n",
       "      <td>2021-09-18 20:00</td>\n",
       "    </tr>\n",
       "  </tbody>\n",
       "</table>\n",
       "</div>"
      ],
      "text/plain": [
       "        RECORD_TIME\n",
       "0  2021-09-18 20:30\n",
       "1  2021-09-18 20:00"
      ]
     },
     "execution_count": 3,
     "metadata": {},
     "output_type": "execute_result"
    }
   ],
   "source": [
    "timestamps"
   ]
  },
  {
   "cell_type": "code",
   "execution_count": 4,
   "id": "alternate-victory",
   "metadata": {
    "execution": {
     "iopub.execute_input": "2021-09-18T18:30:08.526514Z",
     "iopub.status.busy": "2021-09-18T18:30:08.524510Z",
     "iopub.status.idle": "2021-09-18T18:30:08.988250Z",
     "shell.execute_reply": "2021-09-18T18:30:08.989626Z"
    },
    "papermill": {
     "duration": 0.494169,
     "end_time": "2021-09-18T18:30:08.990060",
     "exception": false,
     "start_time": "2021-09-18T18:30:08.495891",
     "status": "completed"
    },
    "tags": []
   },
   "outputs": [],
   "source": [
    "df = pd.read_sql(\"select * from EBAY_TOP_BERLIN where record_time in (select distinct record_time from EBAY_TOP_BERLIN order by record_time desc limit 2)\", sqlite3.connect(\"UsedObjects.db\"))"
   ]
  },
  {
   "cell_type": "code",
   "execution_count": 5,
   "id": "popular-active",
   "metadata": {
    "execution": {
     "iopub.execute_input": "2021-09-18T18:30:09.071662Z",
     "iopub.status.busy": "2021-09-18T18:30:09.059978Z",
     "iopub.status.idle": "2021-09-18T18:30:09.087307Z",
     "shell.execute_reply": "2021-09-18T18:30:09.088528Z"
    },
    "papermill": {
     "duration": 0.072332,
     "end_time": "2021-09-18T18:30:09.088919",
     "exception": false,
     "start_time": "2021-09-18T18:30:09.016587",
     "status": "completed"
    },
    "tags": []
   },
   "outputs": [],
   "source": [
    "df_pivot = df.pivot_table(index=\"PRODUCT\", columns = \"RECORD_TIME\", values = \"LISTING_COUNT\")"
   ]
  },
  {
   "cell_type": "code",
   "execution_count": 6,
   "id": "union-huntington",
   "metadata": {
    "execution": {
     "iopub.execute_input": "2021-09-18T18:30:09.145385Z",
     "iopub.status.busy": "2021-09-18T18:30:09.143241Z",
     "iopub.status.idle": "2021-09-18T18:30:09.148743Z",
     "shell.execute_reply": "2021-09-18T18:30:09.150100Z"
    },
    "papermill": {
     "duration": 0.040493,
     "end_time": "2021-09-18T18:30:09.150530",
     "exception": false,
     "start_time": "2021-09-18T18:30:09.110037",
     "status": "completed"
    },
    "tags": []
   },
   "outputs": [],
   "source": [
    "df_pivot.columns = [\"stamp_1\", \"stamp_2\"]\n",
    "df_pivot_diff = df_pivot.diff(axis=1)"
   ]
  },
  {
   "cell_type": "code",
   "execution_count": 7,
   "id": "fifth-motion",
   "metadata": {
    "execution": {
     "iopub.execute_input": "2021-09-18T18:30:09.207232Z",
     "iopub.status.busy": "2021-09-18T18:30:09.204525Z",
     "iopub.status.idle": "2021-09-18T18:30:10.674766Z",
     "shell.execute_reply": "2021-09-18T18:30:10.676466Z"
    },
    "papermill": {
     "duration": 1.50385,
     "end_time": "2021-09-18T18:30:10.676957",
     "exception": false,
     "start_time": "2021-09-18T18:30:09.173107",
     "status": "completed"
    },
    "tags": []
   },
   "outputs": [
    {
     "data": {
      "text/plain": [
       "<AxesSubplot:ylabel='PRODUCT'>"
      ]
     },
     "execution_count": 7,
     "metadata": {},
     "output_type": "execute_result"
    },
    {
     "data": {
      "image/png": "[encoded data removed]",
      "text/plain": [
       "<Figure size 432x288 with 1 Axes>"
      ]
     },
     "metadata": {
      "needs_background": "light"
     },
     "output_type": "display_data"
    }
   ],
   "source": [
    "df_pivot_diff.sort_values(\"stamp_2\", ascending = False)[\"stamp_2\"].head(10).plot.barh()"
   ]
  },
  {
   "cell_type": "code",
   "execution_count": null,
   "id": "extra-executive",
   "metadata": {
    "papermill": {
     "duration": 0.021666,
     "end_time": "2021-09-18T18:30:10.722202",
     "exception": false,
     "start_time": "2021-09-18T18:30:10.700536",
     "status": "completed"
    },
    "tags": []
   },
   "outputs": [],
   "source": []
  }
 ],
 "metadata": {
  "kernelspec": {
   "display_name": "Python 3",
   "language": "python",
   "name": "python3"
  },
  "language_info": {
   "codemirror_mode": {
    "name": "ipython",
    "version": 3
   },
   "file_extension": ".py",
   "mimetype": "text/x-python",
   "name": "python",
   "nbconvert_exporter": "python",
   "pygments_lexer": "ipython3",
   "version": "3.9.5"
  },
  "papermill": {
   "default_parameters": {},
   "duration": 6.581759,
   "end_time": "2021-09-18T18:30:11.362906",
   "environment_variables": {},
   "exception": null,
   "input_path": "eBay_Overview.ipynb",
   "output_path": "eBay_Overview.ipynb",
   "parameters": {},
   "start_time": "2021-09-18T18:30:04.781147",
   "version": "2.3.3"
  }
 },
 "nbformat": 4,
 "nbformat_minor": 5
}