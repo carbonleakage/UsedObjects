{
 "cells": [
  {
   "cell_type": "code",
   "execution_count": 1,
   "id": "reverse-picking",
   "metadata": {
    "execution": {
     "iopub.execute_input": "2021-10-16T04:30:07.351393Z",
     "iopub.status.busy": "2021-10-16T04:30:07.349402Z",
     "iopub.status.idle": "2021-10-16T04:30:08.157852Z",
     "shell.execute_reply": "2021-10-16T04:30:08.159130Z"
    },
    "papermill": {
     "duration": 0.860512,
     "end_time": "2021-10-16T04:30:08.159758",
     "exception": false,
     "start_time": "2021-10-16T04:30:07.299246",
     "status": "completed"
    },
    "tags": []
   },
   "outputs": [],
   "source": [
    "import pandas as pd\n",
    "import sqlite3"
   ]
  },
  {
   "cell_type": "code",
   "execution_count": 2,
   "id": "innovative-syndrome",
   "metadata": {
    "execution": {
     "iopub.execute_input": "2021-10-16T04:30:08.213838Z",
     "iopub.status.busy": "2021-10-16T04:30:08.211371Z",
     "iopub.status.idle": "2021-10-16T04:30:08.769510Z",
     "shell.execute_reply": "2021-10-16T04:30:08.770737Z"
    },
    "papermill": {
     "duration": 0.588189,
     "end_time": "2021-10-16T04:30:08.771133",
     "exception": false,
     "start_time": "2021-10-16T04:30:08.182944",
     "status": "completed"
    },
    "tags": []
   },
   "outputs": [],
   "source": [
    "timestamps = pd.read_sql(\"select distinct record_time from EBAY_TOP_BERLIN order by record_time desc limit 2\", sqlite3.connect(\"UsedObjects.db\"))"
   ]
  },
  {
   "cell_type": "code",
   "execution_count": 3,
   "id": "periodic-identification",
   "metadata": {
    "execution": {
     "iopub.execute_input": "2021-10-16T04:30:08.850633Z",
     "iopub.status.busy": "2021-10-16T04:30:08.845456Z",
     "iopub.status.idle": "2021-10-16T04:30:08.865287Z",
     "shell.execute_reply": "2021-10-16T04:30:08.866690Z"
    },
    "papermill": {
     "duration": 0.068083,
     "end_time": "2021-10-16T04:30:08.867168",
     "exception": false,
     "start_time": "2021-10-16T04:30:08.799085",
     "status": "completed"
    },
    "tags": []
   },
   "outputs": [
    {
     "data": {
      "text/html": [
       "<div>\n",
       "<style scoped>\n",
       "    .dataframe tbody tr th:only-of-type {\n",
       "        vertical-align: middle;\n",
       "    }\n",
       "\n",
       "    .dataframe tbody tr th {\n",
       "        vertical-align: top;\n",
       "    }\n",
       "\n",
       "    .dataframe thead th {\n",
       "        text-align: right;\n",
       "    }\n",
       "</style>\n",
       "<table border=\"1\" class=\"dataframe\">\n",
       "  <thead>\n",
       "    <tr style=\"text-align: right;\">\n",
       "      <th></th>\n",
       "      <th>RECORD_TIME</th>\n",
       "    </tr>\n",
       "  </thead>\n",
       "  <tbody>\n",
       "    <tr>\n",
       "      <th>0</th>\n",
       "      <td>2021-10-16 06:30</td>\n",
       "    </tr>\n",
       "    <tr>\n",
       "      <th>1</th>\n",
       "      <td>2021-10-16 06:00</td>\n",
       "    </tr>\n",
       "  </tbody>\n",
       "</table>\n",
       "</div>"
      ],
      "text/plain": [
       "        RECORD_TIME\n",
       "0  2021-10-16 06:30\n",
       "1  2021-10-16 06:00"
      ]
     },
     "execution_count": 3,
     "metadata": {},
     "output_type": "execute_result"
    }
   ],
   "source": [
    "timestamps"
   ]
  },
  {
   "cell_type": "code",
   "execution_count": 4,
   "id": "alternate-victory",
   "metadata": {
    "execution": {
     "iopub.execute_input": "2021-10-16T04:30:08.919507Z",
     "iopub.status.busy": "2021-10-16T04:30:08.917444Z",
     "iopub.status.idle": "2021-10-16T04:30:09.763695Z",
     "shell.execute_reply": "2021-10-16T04:30:09.765015Z"
    },
    "papermill": {
     "duration": 0.87694,
     "end_time": "2021-10-16T04:30:09.765439",
     "exception": false,
     "start_time": "2021-10-16T04:30:08.888499",
     "status": "completed"
    },
    "tags": []
   },
   "outputs": [],
   "source": [
    "df = pd.read_sql(\"select * from EBAY_TOP_BERLIN where record_time in (select distinct record_time from EBAY_TOP_BERLIN order by record_time desc limit 2)\", sqlite3.connect(\"UsedObjects.db\"))"
   ]
  },
  {
   "cell_type": "code",
   "execution_count": 5,
   "id": "popular-active",
   "metadata": {
    "execution": {
     "iopub.execute_input": "2021-10-16T04:30:09.835992Z",
     "iopub.status.busy": "2021-10-16T04:30:09.824843Z",
     "iopub.status.idle": "2021-10-16T04:30:09.852558Z",
     "shell.execute_reply": "2021-10-16T04:30:09.854019Z"
    },
    "papermill": {
     "duration": 0.068567,
     "end_time": "2021-10-16T04:30:09.854452",
     "exception": false,
     "start_time": "2021-10-16T04:30:09.785885",
     "status": "completed"
    },
    "tags": []
   },
   "outputs": [],
   "source": [
    "df_pivot = df.pivot_table(index=\"PRODUCT\", columns = \"RECORD_TIME\", values = \"LISTING_COUNT\")"
   ]
  },
  {
   "cell_type": "code",
   "execution_count": 6,
   "id": "union-huntington",
   "metadata": {
    "execution": {
     "iopub.execute_input": "2021-10-16T04:30:09.910516Z",
     "iopub.status.busy": "2021-10-16T04:30:09.908239Z",
     "iopub.status.idle": "2021-10-16T04:30:09.913663Z",
     "shell.execute_reply": "2021-10-16T04:30:09.914958Z"
    },
    "papermill": {
     "duration": 0.040862,
     "end_time": "2021-10-16T04:30:09.915413",
     "exception": false,
     "start_time": "2021-10-16T04:30:09.874551",
     "status": "completed"
    },
    "tags": []
   },
   "outputs": [],
   "source": [
    "df_pivot.columns = [\"stamp_1\", \"stamp_2\"]\n",
    "df_pivot_diff = df_pivot.diff(axis=1)"
   ]
  },
  {
   "cell_type": "code",
   "execution_count": 7,
   "id": "fifth-motion",
   "metadata": {
    "execution": {
     "iopub.execute_input": "2021-10-16T04:30:09.971792Z",
     "iopub.status.busy": "2021-10-16T04:30:09.969118Z",
     "iopub.status.idle": "2021-10-16T04:30:11.453726Z",
     "shell.execute_reply": "2021-10-16T04:30:11.455124Z"
    },
    "papermill": {
     "duration": 1.518718,
     "end_time": "2021-10-16T04:30:11.455605",
     "exception": false,
     "start_time": "2021-10-16T04:30:09.936887",
     "status": "completed"
    },
    "tags": []
   },
   "outputs": [
    {
     "data": {
      "text/plain": [
       "<AxesSubplot:ylabel='PRODUCT'>"
      ]
     },
     "execution_count": 7,
     "metadata": {},
     "output_type": "execute_result"
    },
    {
     "data": {
      "image/png": "[encoded data removed]",
      "text/plain": [
       "<Figure size 432x288 with 1 Axes>"
      ]
     },
     "metadata": {
      "needs_background": "light"
     },
     "output_type": "display_data"
    }
   ],
   "source": [
    "df_pivot_diff.sort_values(\"stamp_2\", ascending = False)[\"stamp_2\"].head(10).plot.barh()"
   ]
  },
  {
   "cell_type": "code",
   "execution_count": null,
   "id": "extra-executive",
   "metadata": {
    "papermill": {
     "duration": 0.0221,
     "end_time": "2021-10-16T04:30:11.502552",
     "exception": false,
     "start_time": "2021-10-16T04:30:11.480452",
     "status": "completed"
    },
    "tags": []
   },
   "outputs": [],
   "source": []
  }
 ],
 "metadata": {
  "kernelspec": {
   "display_name": "Python 3",
   "language": "python",
   "name": "python3"
  },
  "language_info": {
   "codemirror_mode": {
    "name": "ipython",
    "version": 3
   },
   "file_extension": ".py",
   "mimetype": "text/x-python",
   "name": "python",
   "nbconvert_exporter": "python",
   "pygments_lexer": "ipython3",
   "version": "3.9.5"
  },
  "papermill": {
   "default_parameters": {},
   "duration": 7.826772,
   "end_time": "2021-10-16T04:30:12.711104",
   "environment_variables": {},
   "exception": null,
   "input_path": "eBay_Overview.ipynb",
   "output_path": "eBay_Overview.ipynb",
   "parameters": {},
   "start_time": "2021-10-16T04:30:04.884332",
   "version": "2.3.3"
  }
 },
 "nbformat": 4,
 "nbformat_minor": 5
}