{
 "cells": [
  {
   "cell_type": "code",
   "execution_count": 1,
   "id": "reverse-picking",
   "metadata": {
    "execution": {
     "iopub.execute_input": "2021-11-01T16:00:07.335381Z",
     "iopub.status.busy": "2021-11-01T16:00:07.333443Z",
     "iopub.status.idle": "2021-11-01T16:00:08.138678Z",
     "shell.execute_reply": "2021-11-01T16:00:08.139930Z"
    },
    "papermill": {
     "duration": 0.856306,
     "end_time": "2021-11-01T16:00:08.140544",
     "exception": false,
     "start_time": "2021-11-01T16:00:07.284238",
     "status": "completed"
    },
    "tags": []
   },
   "outputs": [],
   "source": [
    "import pandas as pd\n",
    "import sqlite3"
   ]
  },
  {
   "cell_type": "code",
   "execution_count": 2,
   "id": "innovative-syndrome",
   "metadata": {
    "execution": {
     "iopub.execute_input": "2021-11-01T16:00:08.191274Z",
     "iopub.status.busy": "2021-11-01T16:00:08.189395Z",
     "iopub.status.idle": "2021-11-01T16:00:08.885676Z",
     "shell.execute_reply": "2021-11-01T16:00:08.886898Z"
    },
    "papermill": {
     "duration": 0.725975,
     "end_time": "2021-11-01T16:00:08.887298",
     "exception": false,
     "start_time": "2021-11-01T16:00:08.161323",
     "status": "completed"
    },
    "tags": []
   },
   "outputs": [],
   "source": [
    "timestamps = pd.read_sql(\"select distinct record_time from EBAY_TOP_BERLIN order by record_time desc limit 2\", sqlite3.connect(\"UsedObjects.db\"))"
   ]
  },
  {
   "cell_type": "code",
   "execution_count": 3,
   "id": "periodic-identification",
   "metadata": {
    "execution": {
     "iopub.execute_input": "2021-11-01T16:00:08.969829Z",
     "iopub.status.busy": "2021-11-01T16:00:08.967709Z",
     "iopub.status.idle": "2021-11-01T16:00:08.988594Z",
     "shell.execute_reply": "2021-11-01T16:00:08.989904Z"
    },
    "papermill": {
     "duration": 0.072308,
     "end_time": "2021-11-01T16:00:08.990346",
     "exception": false,
     "start_time": "2021-11-01T16:00:08.918038",
     "status": "completed"
    },
    "tags": []
   },
   "outputs": [
    {
     "data": {
      "text/html": [
       "<div>\n",
       "<style scoped>\n",
       "    .dataframe tbody tr th:only-of-type {\n",
       "        vertical-align: middle;\n",
       "    }\n",
       "\n",
       "    .dataframe tbody tr th {\n",
       "        vertical-align: top;\n",
       "    }\n",
       "\n",
       "    .dataframe thead th {\n",
       "        text-align: right;\n",
       "    }\n",
       "</style>\n",
       "<table border=\"1\" class=\"dataframe\">\n",
       "  <thead>\n",
       "    <tr style=\"text-align: right;\">\n",
       "      <th></th>\n",
       "      <th>RECORD_TIME</th>\n",
       "    </tr>\n",
       "  </thead>\n",
       "  <tbody>\n",
       "    <tr>\n",
       "      <th>0</th>\n",
       "      <td>2021-11-01 17:00</td>\n",
       "    </tr>\n",
       "    <tr>\n",
       "      <th>1</th>\n",
       "      <td>2021-11-01 16:30</td>\n",
       "    </tr>\n",
       "  </tbody>\n",
       "</table>\n",
       "</div>"
      ],
      "text/plain": [
       "        RECORD_TIME\n",
       "0  2021-11-01 17:00\n",
       "1  2021-11-01 16:30"
      ]
     },
     "execution_count": 3,
     "metadata": {},
     "output_type": "execute_result"
    }
   ],
   "source": [
    "timestamps"
   ]
  },
  {
   "cell_type": "code",
   "execution_count": 4,
   "id": "alternate-victory",
   "metadata": {
    "execution": {
     "iopub.execute_input": "2021-11-01T16:00:09.044008Z",
     "iopub.status.busy": "2021-11-01T16:00:09.041718Z",
     "iopub.status.idle": "2021-11-01T16:00:10.045957Z",
     "shell.execute_reply": "2021-11-01T16:00:10.047165Z"
    },
    "papermill": {
     "duration": 1.034349,
     "end_time": "2021-11-01T16:00:10.047561",
     "exception": false,
     "start_time": "2021-11-01T16:00:09.013212",
     "status": "completed"
    },
    "tags": []
   },
   "outputs": [],
   "source": [
    "df = pd.read_sql(\"select * from EBAY_TOP_BERLIN where record_time in (select distinct record_time from EBAY_TOP_BERLIN order by record_time desc limit 2)\", sqlite3.connect(\"UsedObjects.db\"))"
   ]
  },
  {
   "cell_type": "code",
   "execution_count": 5,
   "id": "popular-active",
   "metadata": {
    "execution": {
     "iopub.execute_input": "2021-11-01T16:00:10.121532Z",
     "iopub.status.busy": "2021-11-01T16:00:10.110139Z",
     "iopub.status.idle": "2021-11-01T16:00:10.137021Z",
     "shell.execute_reply": "2021-11-01T16:00:10.138253Z"
    },
    "papermill": {
     "duration": 0.068351,
     "end_time": "2021-11-01T16:00:10.138651",
     "exception": false,
     "start_time": "2021-11-01T16:00:10.070300",
     "status": "completed"
    },
    "tags": []
   },
   "outputs": [],
   "source": [
    "df_pivot = df.pivot_table(index=\"PRODUCT\", columns = \"RECORD_TIME\", values = \"LISTING_COUNT\")"
   ]
  },
  {
   "cell_type": "code",
   "execution_count": 6,
   "id": "union-huntington",
   "metadata": {
    "execution": {
     "iopub.execute_input": "2021-11-01T16:00:10.198765Z",
     "iopub.status.busy": "2021-11-01T16:00:10.196279Z",
     "iopub.status.idle": "2021-11-01T16:00:10.202217Z",
     "shell.execute_reply": "2021-11-01T16:00:10.203565Z"
    },
    "papermill": {
     "duration": 0.042208,
     "end_time": "2021-11-01T16:00:10.204000",
     "exception": false,
     "start_time": "2021-11-01T16:00:10.161792",
     "status": "completed"
    },
    "tags": []
   },
   "outputs": [],
   "source": [
    "df_pivot.columns = [\"stamp_1\", \"stamp_2\"]\n",
    "df_pivot_diff = df_pivot.diff(axis=1)"
   ]
  },
  {
   "cell_type": "code",
   "execution_count": 7,
   "id": "fifth-motion",
   "metadata": {
    "execution": {
     "iopub.execute_input": "2021-11-01T16:00:10.257743Z",
     "iopub.status.busy": "2021-11-01T16:00:10.255719Z",
     "iopub.status.idle": "2021-11-01T16:00:11.716154Z",
     "shell.execute_reply": "2021-11-01T16:00:11.717589Z"
    },
    "papermill": {
     "duration": 1.49286,
     "end_time": "2021-11-01T16:00:11.718038",
     "exception": false,
     "start_time": "2021-11-01T16:00:10.225178",
     "status": "completed"
    },
    "tags": []
   },
   "outputs": [
    {
     "data": {
      "text/plain": [
       "<AxesSubplot:ylabel='PRODUCT'>"
      ]
     },
     "execution_count": 7,
     "metadata": {},
     "output_type": "execute_result"
    },
    {
     "data": {
      "image/png": "[encoded data removed]",
      "text/plain": [
       "<Figure size 432x288 with 1 Axes>"
      ]
     },
     "metadata": {
      "needs_background": "light"
     },
     "output_type": "display_data"
    }
   ],
   "source": [
    "df_pivot_diff.sort_values(\"stamp_2\", ascending = False)[\"stamp_2\"].head(10).plot.barh()"
   ]
  },
  {
   "cell_type": "code",
   "execution_count": null,
   "id": "extra-executive",
   "metadata": {
    "papermill": {
     "duration": 0.021924,
     "end_time": "2021-11-01T16:00:11.763604",
     "exception": false,
     "start_time": "2021-11-01T16:00:11.741680",
     "status": "completed"
    },
    "tags": []
   },
   "outputs": [],
   "source": []
  }
 ],
 "metadata": {
  "kernelspec": {
   "display_name": "Python 3",
   "language": "python",
   "name": "python3"
  },
  "language_info": {
   "codemirror_mode": {
    "name": "ipython",
    "version": 3
   },
   "file_extension": ".py",
   "mimetype": "text/x-python",
   "name": "python",
   "nbconvert_exporter": "python",
   "pygments_lexer": "ipython3",
   "version": "3.9.5"
  },
  "papermill": {
   "default_parameters": {},
   "duration": 7.538444,
   "end_time": "2021-11-01T16:00:12.406041",
   "environment_variables": {},
   "exception": null,
   "input_path": "eBay_Overview.ipynb",
   "output_path": "eBay_Overview.ipynb",
   "parameters": {},
   "start_time": "2021-11-01T16:00:04.867597",
   "version": "2.3.3"
  }
 },
 "nbformat": 4,
 "nbformat_minor": 5
}