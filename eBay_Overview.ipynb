{
 "cells": [
  {
   "cell_type": "code",
   "execution_count": 1,
   "id": "reverse-picking",
   "metadata": {
    "execution": {
     "iopub.execute_input": "2021-11-07T15:00:07.383891Z",
     "iopub.status.busy": "2021-11-07T15:00:07.380369Z",
     "iopub.status.idle": "2021-11-07T15:00:08.329404Z",
     "shell.execute_reply": "2021-11-07T15:00:08.331096Z"
    },
    "papermill": {
     "duration": 0.999022,
     "end_time": "2021-11-07T15:00:08.331845",
     "exception": false,
     "start_time": "2021-11-07T15:00:07.332823",
     "status": "completed"
    },
    "tags": []
   },
   "outputs": [],
   "source": [
    "import pandas as pd\n",
    "import sqlite3"
   ]
  },
  {
   "cell_type": "code",
   "execution_count": 2,
   "id": "innovative-syndrome",
   "metadata": {
    "execution": {
     "iopub.execute_input": "2021-11-07T15:00:08.390345Z",
     "iopub.status.busy": "2021-11-07T15:00:08.387970Z",
     "iopub.status.idle": "2021-11-07T15:00:09.127142Z",
     "shell.execute_reply": "2021-11-07T15:00:09.128579Z"
    },
    "papermill": {
     "duration": 0.77268,
     "end_time": "2021-11-07T15:00:09.129161",
     "exception": false,
     "start_time": "2021-11-07T15:00:08.356481",
     "status": "completed"
    },
    "tags": []
   },
   "outputs": [],
   "source": [
    "timestamps = pd.read_sql(\"select distinct record_time from EBAY_TOP_BERLIN order by record_time desc limit 2\", sqlite3.connect(\"UsedObjects.db\"))"
   ]
  },
  {
   "cell_type": "code",
   "execution_count": 3,
   "id": "periodic-identification",
   "metadata": {
    "execution": {
     "iopub.execute_input": "2021-11-07T15:00:09.206072Z",
     "iopub.status.busy": "2021-11-07T15:00:09.199733Z",
     "iopub.status.idle": "2021-11-07T15:00:09.236749Z",
     "shell.execute_reply": "2021-11-07T15:00:09.239223Z"
    },
    "papermill": {
     "duration": 0.090499,
     "end_time": "2021-11-07T15:00:09.239949",
     "exception": false,
     "start_time": "2021-11-07T15:00:09.149450",
     "status": "completed"
    },
    "tags": []
   },
   "outputs": [
    {
     "data": {
      "text/html": [
       "<div>\n",
       "<style scoped>\n",
       "    .dataframe tbody tr th:only-of-type {\n",
       "        vertical-align: middle;\n",
       "    }\n",
       "\n",
       "    .dataframe tbody tr th {\n",
       "        vertical-align: top;\n",
       "    }\n",
       "\n",
       "    .dataframe thead th {\n",
       "        text-align: right;\n",
       "    }\n",
       "</style>\n",
       "<table border=\"1\" class=\"dataframe\">\n",
       "  <thead>\n",
       "    <tr style=\"text-align: right;\">\n",
       "      <th></th>\n",
       "      <th>RECORD_TIME</th>\n",
       "    </tr>\n",
       "  </thead>\n",
       "  <tbody>\n",
       "    <tr>\n",
       "      <th>0</th>\n",
       "      <td>2021-11-07 16:00</td>\n",
       "    </tr>\n",
       "    <tr>\n",
       "      <th>1</th>\n",
       "      <td>2021-11-07 15:30</td>\n",
       "    </tr>\n",
       "  </tbody>\n",
       "</table>\n",
       "</div>"
      ],
      "text/plain": [
       "        RECORD_TIME\n",
       "0  2021-11-07 16:00\n",
       "1  2021-11-07 15:30"
      ]
     },
     "execution_count": 3,
     "metadata": {},
     "output_type": "execute_result"
    }
   ],
   "source": [
    "timestamps"
   ]
  },
  {
   "cell_type": "code",
   "execution_count": 4,
   "id": "alternate-victory",
   "metadata": {
    "execution": {
     "iopub.execute_input": "2021-11-07T15:00:09.307225Z",
     "iopub.status.busy": "2021-11-07T15:00:09.296116Z",
     "iopub.status.idle": "2021-11-07T15:00:10.361631Z",
     "shell.execute_reply": "2021-11-07T15:00:10.363013Z"
    },
    "papermill": {
     "duration": 1.099152,
     "end_time": "2021-11-07T15:00:10.363485",
     "exception": false,
     "start_time": "2021-11-07T15:00:09.264333",
     "status": "completed"
    },
    "tags": []
   },
   "outputs": [],
   "source": [
    "df = pd.read_sql(\"select * from EBAY_TOP_BERLIN where record_time in (select distinct record_time from EBAY_TOP_BERLIN order by record_time desc limit 2)\", sqlite3.connect(\"UsedObjects.db\"))"
   ]
  },
  {
   "cell_type": "code",
   "execution_count": 5,
   "id": "popular-active",
   "metadata": {
    "execution": {
     "iopub.execute_input": "2021-11-07T15:00:10.427715Z",
     "iopub.status.busy": "2021-11-07T15:00:10.425281Z",
     "iopub.status.idle": "2021-11-07T15:00:10.455839Z",
     "shell.execute_reply": "2021-11-07T15:00:10.457660Z"
    },
    "papermill": {
     "duration": 0.072877,
     "end_time": "2021-11-07T15:00:10.458194",
     "exception": false,
     "start_time": "2021-11-07T15:00:10.385317",
     "status": "completed"
    },
    "tags": []
   },
   "outputs": [],
   "source": [
    "df_pivot = df.pivot_table(index=\"PRODUCT\", columns = \"RECORD_TIME\", values = \"LISTING_COUNT\")"
   ]
  },
  {
   "cell_type": "code",
   "execution_count": 6,
   "id": "union-huntington",
   "metadata": {
    "execution": {
     "iopub.execute_input": "2021-11-07T15:00:10.543407Z",
     "iopub.status.busy": "2021-11-07T15:00:10.540969Z",
     "iopub.status.idle": "2021-11-07T15:00:10.547325Z",
     "shell.execute_reply": "2021-11-07T15:00:10.548897Z"
    },
    "papermill": {
     "duration": 0.046181,
     "end_time": "2021-11-07T15:00:10.549398",
     "exception": false,
     "start_time": "2021-11-07T15:00:10.503217",
     "status": "completed"
    },
    "tags": []
   },
   "outputs": [],
   "source": [
    "df_pivot.columns = [\"stamp_1\", \"stamp_2\"]\n",
    "df_pivot_diff = df_pivot.diff(axis=1)"
   ]
  },
  {
   "cell_type": "code",
   "execution_count": 7,
   "id": "fifth-motion",
   "metadata": {
    "execution": {
     "iopub.execute_input": "2021-11-07T15:00:10.608245Z",
     "iopub.status.busy": "2021-11-07T15:00:10.605703Z",
     "iopub.status.idle": "2021-11-07T15:00:12.386154Z",
     "shell.execute_reply": "2021-11-07T15:00:12.387561Z"
    },
    "papermill": {
     "duration": 1.817645,
     "end_time": "2021-11-07T15:00:12.388043",
     "exception": false,
     "start_time": "2021-11-07T15:00:10.570398",
     "status": "completed"
    },
    "tags": []
   },
   "outputs": [
    {
     "data": {
      "text/plain": [
       "<AxesSubplot:ylabel='PRODUCT'>"
      ]
     },
     "execution_count": 7,
     "metadata": {},
     "output_type": "execute_result"
    },
    {
     "data": {
      "image/png": "[encoded data removed]",
      "text/plain": [
       "<Figure size 432x288 with 1 Axes>"
      ]
     },
     "metadata": {
      "needs_background": "light"
     },
     "output_type": "display_data"
    }
   ],
   "source": [
    "df_pivot_diff.sort_values(\"stamp_2\", ascending = False)[\"stamp_2\"].head(10).plot.barh()"
   ]
  },
  {
   "cell_type": "code",
   "execution_count": null,
   "id": "extra-executive",
   "metadata": {
    "papermill": {
     "duration": 0.023225,
     "end_time": "2021-11-07T15:00:12.435129",
     "exception": false,
     "start_time": "2021-11-07T15:00:12.411904",
     "status": "completed"
    },
    "tags": []
   },
   "outputs": [],
   "source": []
  }
 ],
 "metadata": {
  "kernelspec": {
   "display_name": "Python 3",
   "language": "python",
   "name": "python3"
  },
  "language_info": {
   "codemirror_mode": {
    "name": "ipython",
    "version": 3
   },
   "file_extension": ".py",
   "mimetype": "text/x-python",
   "name": "python",
   "nbconvert_exporter": "python",
   "pygments_lexer": "ipython3",
   "version": "3.9.5"
  },
  "papermill": {
   "default_parameters": {},
   "duration": 8.79258,
   "end_time": "2021-11-07T15:00:13.284330",
   "environment_variables": {},
   "exception": null,
   "input_path": "eBay_Overview.ipynb",
   "output_path": "eBay_Overview.ipynb",
   "parameters": {},
   "start_time": "2021-11-07T15:00:04.491750",
   "version": "2.3.3"
  }
 },
 "nbformat": 4,
 "nbformat_minor": 5
}