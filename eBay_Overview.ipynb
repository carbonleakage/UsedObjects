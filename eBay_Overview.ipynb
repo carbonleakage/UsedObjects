{
 "cells": [
  {
   "cell_type": "code",
   "execution_count": 1,
   "id": "reverse-picking",
   "metadata": {
    "execution": {
     "iopub.execute_input": "2021-10-07T02:00:07.160614Z",
     "iopub.status.busy": "2021-10-07T02:00:07.158647Z",
     "iopub.status.idle": "2021-10-07T02:00:07.970281Z",
     "shell.execute_reply": "2021-10-07T02:00:07.968738Z"
    },
    "papermill": {
     "duration": 0.862518,
     "end_time": "2021-10-07T02:00:07.970669",
     "exception": false,
     "start_time": "2021-10-07T02:00:07.108151",
     "status": "completed"
    },
    "tags": []
   },
   "outputs": [],
   "source": [
    "import pandas as pd\n",
    "import sqlite3"
   ]
  },
  {
   "cell_type": "code",
   "execution_count": 2,
   "id": "innovative-syndrome",
   "metadata": {
    "execution": {
     "iopub.execute_input": "2021-10-07T02:00:08.023841Z",
     "iopub.status.busy": "2021-10-07T02:00:08.021453Z",
     "iopub.status.idle": "2021-10-07T02:00:08.498598Z",
     "shell.execute_reply": "2021-10-07T02:00:08.499922Z"
    },
    "papermill": {
     "duration": 0.507232,
     "end_time": "2021-10-07T02:00:08.500372",
     "exception": false,
     "start_time": "2021-10-07T02:00:07.993140",
     "status": "completed"
    },
    "tags": []
   },
   "outputs": [],
   "source": [
    "timestamps = pd.read_sql(\"select distinct record_time from EBAY_TOP_BERLIN order by record_time desc limit 2\", sqlite3.connect(\"UsedObjects.db\"))"
   ]
  },
  {
   "cell_type": "code",
   "execution_count": 3,
   "id": "periodic-identification",
   "metadata": {
    "execution": {
     "iopub.execute_input": "2021-10-07T02:00:08.567735Z",
     "iopub.status.busy": "2021-10-07T02:00:08.565655Z",
     "iopub.status.idle": "2021-10-07T02:00:08.587335Z",
     "shell.execute_reply": "2021-10-07T02:00:08.588605Z"
    },
    "papermill": {
     "duration": 0.068326,
     "end_time": "2021-10-07T02:00:08.589053",
     "exception": false,
     "start_time": "2021-10-07T02:00:08.520727",
     "status": "completed"
    },
    "tags": []
   },
   "outputs": [
    {
     "data": {
      "text/html": [
       "<div>\n",
       "<style scoped>\n",
       "    .dataframe tbody tr th:only-of-type {\n",
       "        vertical-align: middle;\n",
       "    }\n",
       "\n",
       "    .dataframe tbody tr th {\n",
       "        vertical-align: top;\n",
       "    }\n",
       "\n",
       "    .dataframe thead th {\n",
       "        text-align: right;\n",
       "    }\n",
       "</style>\n",
       "<table border=\"1\" class=\"dataframe\">\n",
       "  <thead>\n",
       "    <tr style=\"text-align: right;\">\n",
       "      <th></th>\n",
       "      <th>RECORD_TIME</th>\n",
       "    </tr>\n",
       "  </thead>\n",
       "  <tbody>\n",
       "    <tr>\n",
       "      <th>0</th>\n",
       "      <td>2021-10-07 04:00</td>\n",
       "    </tr>\n",
       "    <tr>\n",
       "      <th>1</th>\n",
       "      <td>2021-10-07 03:30</td>\n",
       "    </tr>\n",
       "  </tbody>\n",
       "</table>\n",
       "</div>"
      ],
      "text/plain": [
       "        RECORD_TIME\n",
       "0  2021-10-07 04:00\n",
       "1  2021-10-07 03:30"
      ]
     },
     "execution_count": 3,
     "metadata": {},
     "output_type": "execute_result"
    }
   ],
   "source": [
    "timestamps"
   ]
  },
  {
   "cell_type": "code",
   "execution_count": 4,
   "id": "alternate-victory",
   "metadata": {
    "execution": {
     "iopub.execute_input": "2021-10-07T02:00:08.651538Z",
     "iopub.status.busy": "2021-10-07T02:00:08.649611Z",
     "iopub.status.idle": "2021-10-07T02:00:09.346710Z",
     "shell.execute_reply": "2021-10-07T02:00:09.348155Z"
    },
    "papermill": {
     "duration": 0.73228,
     "end_time": "2021-10-07T02:00:09.348595",
     "exception": false,
     "start_time": "2021-10-07T02:00:08.616315",
     "status": "completed"
    },
    "tags": []
   },
   "outputs": [],
   "source": [
    "df = pd.read_sql(\"select * from EBAY_TOP_BERLIN where record_time in (select distinct record_time from EBAY_TOP_BERLIN order by record_time desc limit 2)\", sqlite3.connect(\"UsedObjects.db\"))"
   ]
  },
  {
   "cell_type": "code",
   "execution_count": 5,
   "id": "popular-active",
   "metadata": {
    "execution": {
     "iopub.execute_input": "2021-10-07T02:00:09.420682Z",
     "iopub.status.busy": "2021-10-07T02:00:09.409379Z",
     "iopub.status.idle": "2021-10-07T02:00:09.436117Z",
     "shell.execute_reply": "2021-10-07T02:00:09.437320Z"
    },
    "papermill": {
     "duration": 0.068244,
     "end_time": "2021-10-07T02:00:09.437713",
     "exception": false,
     "start_time": "2021-10-07T02:00:09.369469",
     "status": "completed"
    },
    "tags": []
   },
   "outputs": [],
   "source": [
    "df_pivot = df.pivot_table(index=\"PRODUCT\", columns = \"RECORD_TIME\", values = \"LISTING_COUNT\")"
   ]
  },
  {
   "cell_type": "code",
   "execution_count": 6,
   "id": "union-huntington",
   "metadata": {
    "execution": {
     "iopub.execute_input": "2021-10-07T02:00:09.497019Z",
     "iopub.status.busy": "2021-10-07T02:00:09.494536Z",
     "iopub.status.idle": "2021-10-07T02:00:09.500396Z",
     "shell.execute_reply": "2021-10-07T02:00:09.501677Z"
    },
    "papermill": {
     "duration": 0.042094,
     "end_time": "2021-10-07T02:00:09.502090",
     "exception": false,
     "start_time": "2021-10-07T02:00:09.459996",
     "status": "completed"
    },
    "tags": []
   },
   "outputs": [],
   "source": [
    "df_pivot.columns = [\"stamp_1\", \"stamp_2\"]\n",
    "df_pivot_diff = df_pivot.diff(axis=1)"
   ]
  },
  {
   "cell_type": "code",
   "execution_count": 7,
   "id": "fifth-motion",
   "metadata": {
    "execution": {
     "iopub.execute_input": "2021-10-07T02:00:09.556768Z",
     "iopub.status.busy": "2021-10-07T02:00:09.554273Z",
     "iopub.status.idle": "2021-10-07T02:00:11.070539Z",
     "shell.execute_reply": "2021-10-07T02:00:11.071901Z"
    },
    "papermill": {
     "duration": 1.549709,
     "end_time": "2021-10-07T02:00:11.072318",
     "exception": false,
     "start_time": "2021-10-07T02:00:09.522609",
     "status": "completed"
    },
    "tags": []
   },
   "outputs": [
    {
     "data": {
      "text/plain": [
       "<AxesSubplot:ylabel='PRODUCT'>"
      ]
     },
     "execution_count": 7,
     "metadata": {},
     "output_type": "execute_result"
    },
    {
     "data": {
      "image/png": "[encoded data removed]",
      "text/plain": [
       "<Figure size 432x288 with 1 Axes>"
      ]
     },
     "metadata": {
      "needs_background": "light"
     },
     "output_type": "display_data"
    }
   ],
   "source": [
    "df_pivot_diff.sort_values(\"stamp_2\", ascending = False)[\"stamp_2\"].head(10).plot.barh()"
   ]
  },
  {
   "cell_type": "code",
   "execution_count": null,
   "id": "extra-executive",
   "metadata": {
    "papermill": {
     "duration": 0.022345,
     "end_time": "2021-10-07T02:00:11.118701",
     "exception": false,
     "start_time": "2021-10-07T02:00:11.096356",
     "status": "completed"
    },
    "tags": []
   },
   "outputs": [],
   "source": []
  }
 ],
 "metadata": {
  "kernelspec": {
   "display_name": "Python 3",
   "language": "python",
   "name": "python3"
  },
  "language_info": {
   "codemirror_mode": {
    "name": "ipython",
    "version": 3
   },
   "file_extension": ".py",
   "mimetype": "text/x-python",
   "name": "python",
   "nbconvert_exporter": "python",
   "pygments_lexer": "ipython3",
   "version": "3.9.5"
  },
  "papermill": {
   "default_parameters": {},
   "duration": 7.830634,
   "end_time": "2021-10-07T02:00:12.525879",
   "environment_variables": {},
   "exception": null,
   "input_path": "eBay_Overview.ipynb",
   "output_path": "eBay_Overview.ipynb",
   "parameters": {},
   "start_time": "2021-10-07T02:00:04.695245",
   "version": "2.3.3"
  }
 },
 "nbformat": 4,
 "nbformat_minor": 5
}