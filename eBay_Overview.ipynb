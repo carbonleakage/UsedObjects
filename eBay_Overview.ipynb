{
 "cells": [
  {
   "cell_type": "code",
   "execution_count": 1,
   "id": "reverse-picking",
   "metadata": {
    "execution": {
     "iopub.execute_input": "2021-12-19T18:00:08.144918Z",
     "iopub.status.busy": "2021-12-19T18:00:08.142513Z",
     "iopub.status.idle": "2021-12-19T18:00:09.110186Z",
     "shell.execute_reply": "2021-12-19T18:00:09.111561Z"
    },
    "papermill": {
     "duration": 1.016397,
     "end_time": "2021-12-19T18:00:09.112264",
     "exception": false,
     "start_time": "2021-12-19T18:00:08.095867",
     "status": "completed"
    },
    "tags": []
   },
   "outputs": [],
   "source": [
    "import pandas as pd\n",
    "import sqlite3"
   ]
  },
  {
   "cell_type": "code",
   "execution_count": 2,
   "id": "innovative-syndrome",
   "metadata": {
    "execution": {
     "iopub.execute_input": "2021-12-19T18:00:09.173798Z",
     "iopub.status.busy": "2021-12-19T18:00:09.171526Z",
     "iopub.status.idle": "2021-12-19T18:00:10.302231Z",
     "shell.execute_reply": "2021-12-19T18:00:10.303645Z"
    },
    "papermill": {
     "duration": 1.163008,
     "end_time": "2021-12-19T18:00:10.304180",
     "exception": false,
     "start_time": "2021-12-19T18:00:09.141172",
     "status": "completed"
    },
    "tags": []
   },
   "outputs": [],
   "source": [
    "timestamps = pd.read_sql(\"select distinct record_time from EBAY_TOP_BERLIN order by record_time desc limit 2\", sqlite3.connect(\"UsedObjects.db\"))"
   ]
  },
  {
   "cell_type": "code",
   "execution_count": 3,
   "id": "periodic-identification",
   "metadata": {
    "execution": {
     "iopub.execute_input": "2021-12-19T18:00:10.375336Z",
     "iopub.status.busy": "2021-12-19T18:00:10.368535Z",
     "iopub.status.idle": "2021-12-19T18:00:10.397546Z",
     "shell.execute_reply": "2021-12-19T18:00:10.399060Z"
    },
    "papermill": {
     "duration": 0.074639,
     "end_time": "2021-12-19T18:00:10.399629",
     "exception": false,
     "start_time": "2021-12-19T18:00:10.324990",
     "status": "completed"
    },
    "tags": []
   },
   "outputs": [
    {
     "data": {
      "text/html": [
       "<div>\n",
       "<style scoped>\n",
       "    .dataframe tbody tr th:only-of-type {\n",
       "        vertical-align: middle;\n",
       "    }\n",
       "\n",
       "    .dataframe tbody tr th {\n",
       "        vertical-align: top;\n",
       "    }\n",
       "\n",
       "    .dataframe thead th {\n",
       "        text-align: right;\n",
       "    }\n",
       "</style>\n",
       "<table border=\"1\" class=\"dataframe\">\n",
       "  <thead>\n",
       "    <tr style=\"text-align: right;\">\n",
       "      <th></th>\n",
       "      <th>RECORD_TIME</th>\n",
       "    </tr>\n",
       "  </thead>\n",
       "  <tbody>\n",
       "    <tr>\n",
       "      <th>0</th>\n",
       "      <td>2021-12-19 19:00</td>\n",
       "    </tr>\n",
       "    <tr>\n",
       "      <th>1</th>\n",
       "      <td>2021-12-19 18:30</td>\n",
       "    </tr>\n",
       "  </tbody>\n",
       "</table>\n",
       "</div>"
      ],
      "text/plain": [
       "        RECORD_TIME\n",
       "0  2021-12-19 19:00\n",
       "1  2021-12-19 18:30"
      ]
     },
     "execution_count": 3,
     "metadata": {},
     "output_type": "execute_result"
    }
   ],
   "source": [
    "timestamps"
   ]
  },
  {
   "cell_type": "code",
   "execution_count": 4,
   "id": "alternate-victory",
   "metadata": {
    "execution": {
     "iopub.execute_input": "2021-12-19T18:00:10.457047Z",
     "iopub.status.busy": "2021-12-19T18:00:10.454728Z",
     "iopub.status.idle": "2021-12-19T18:00:12.098615Z",
     "shell.execute_reply": "2021-12-19T18:00:12.100097Z"
    },
    "papermill": {
     "duration": 1.678357,
     "end_time": "2021-12-19T18:00:12.100569",
     "exception": false,
     "start_time": "2021-12-19T18:00:10.422212",
     "status": "completed"
    },
    "tags": []
   },
   "outputs": [],
   "source": [
    "df = pd.read_sql(\"select * from EBAY_TOP_BERLIN where record_time in (select distinct record_time from EBAY_TOP_BERLIN order by record_time desc limit 2)\", sqlite3.connect(\"UsedObjects.db\"))"
   ]
  },
  {
   "cell_type": "code",
   "execution_count": 5,
   "id": "popular-active",
   "metadata": {
    "execution": {
     "iopub.execute_input": "2021-12-19T18:00:12.177971Z",
     "iopub.status.busy": "2021-12-19T18:00:12.163424Z",
     "iopub.status.idle": "2021-12-19T18:00:12.197935Z",
     "shell.execute_reply": "2021-12-19T18:00:12.199542Z"
    },
    "papermill": {
     "duration": 0.078546,
     "end_time": "2021-12-19T18:00:12.200032",
     "exception": false,
     "start_time": "2021-12-19T18:00:12.121486",
     "status": "completed"
    },
    "tags": []
   },
   "outputs": [],
   "source": [
    "df_pivot = df.pivot_table(index=\"PRODUCT\", columns = \"RECORD_TIME\", values = \"LISTING_COUNT\")"
   ]
  },
  {
   "cell_type": "code",
   "execution_count": 6,
   "id": "union-huntington",
   "metadata": {
    "execution": {
     "iopub.execute_input": "2021-12-19T18:00:12.262850Z",
     "iopub.status.busy": "2021-12-19T18:00:12.260544Z",
     "iopub.status.idle": "2021-12-19T18:00:12.266174Z",
     "shell.execute_reply": "2021-12-19T18:00:12.267639Z"
    },
    "papermill": {
     "duration": 0.043464,
     "end_time": "2021-12-19T18:00:12.268107",
     "exception": false,
     "start_time": "2021-12-19T18:00:12.224643",
     "status": "completed"
    },
    "tags": []
   },
   "outputs": [],
   "source": [
    "df_pivot.columns = [\"stamp_1\", \"stamp_2\"]\n",
    "df_pivot_diff = df_pivot.diff(axis=1)"
   ]
  },
  {
   "cell_type": "code",
   "execution_count": 7,
   "id": "fifth-motion",
   "metadata": {
    "execution": {
     "iopub.execute_input": "2021-12-19T18:00:12.325096Z",
     "iopub.status.busy": "2021-12-19T18:00:12.322525Z",
     "iopub.status.idle": "2021-12-19T18:00:14.300417Z",
     "shell.execute_reply": "2021-12-19T18:00:14.302603Z"
    },
    "papermill": {
     "duration": 2.013954,
     "end_time": "2021-12-19T18:00:14.303131",
     "exception": false,
     "start_time": "2021-12-19T18:00:12.289177",
     "status": "completed"
    },
    "tags": []
   },
   "outputs": [
    {
     "data": {
      "text/plain": [
       "<AxesSubplot:ylabel='PRODUCT'>"
      ]
     },
     "execution_count": 7,
     "metadata": {},
     "output_type": "execute_result"
    },
    {
     "data": {
      "image/png": "[encoded data removed]",
      "text/plain": [
       "<Figure size 432x288 with 1 Axes>"
      ]
     },
     "metadata": {
      "needs_background": "light"
     },
     "output_type": "display_data"
    }
   ],
   "source": [
    "df_pivot_diff.sort_values(\"stamp_2\", ascending = False)[\"stamp_2\"].head(10).plot.barh()"
   ]
  },
  {
   "cell_type": "code",
   "execution_count": null,
   "id": "extra-executive",
   "metadata": {
    "papermill": {
     "duration": 0.022067,
     "end_time": "2021-12-19T18:00:14.350047",
     "exception": false,
     "start_time": "2021-12-19T18:00:14.327980",
     "status": "completed"
    },
    "tags": []
   },
   "outputs": [],
   "source": []
  }
 ],
 "metadata": {
  "kernelspec": {
   "display_name": "Python 3",
   "language": "python",
   "name": "python3"
  },
  "language_info": {
   "codemirror_mode": {
    "name": "ipython",
    "version": 3
   },
   "file_extension": ".py",
   "mimetype": "text/x-python",
   "name": "python",
   "nbconvert_exporter": "python",
   "pygments_lexer": "ipython3",
   "version": "3.9.5"
  },
  "papermill": {
   "default_parameters": {},
   "duration": 9.65148,
   "end_time": "2021-12-19T18:00:14.991281",
   "environment_variables": {},
   "exception": null,
   "input_path": "eBay_Overview.ipynb",
   "output_path": "eBay_Overview.ipynb",
   "parameters": {},
   "start_time": "2021-12-19T18:00:05.339801",
   "version": "2.3.3"
  }
 },
 "nbformat": 4,
 "nbformat_minor": 5
}