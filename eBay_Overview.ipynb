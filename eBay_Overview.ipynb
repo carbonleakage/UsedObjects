{
 "cells": [
  {
   "cell_type": "code",
   "execution_count": 1,
   "id": "reverse-picking",
   "metadata": {
    "execution": {
     "iopub.execute_input": "2021-08-14T16:30:06.927940Z",
     "iopub.status.busy": "2021-08-14T16:30:06.925929Z",
     "iopub.status.idle": "2021-08-14T16:30:07.735362Z",
     "shell.execute_reply": "2021-08-14T16:30:07.736755Z"
    },
    "papermill": {
     "duration": 0.860611,
     "end_time": "2021-08-14T16:30:07.737434",
     "exception": false,
     "start_time": "2021-08-14T16:30:06.876823",
     "status": "completed"
    },
    "tags": []
   },
   "outputs": [],
   "source": [
    "import pandas as pd\n",
    "import sqlite3"
   ]
  },
  {
   "cell_type": "code",
   "execution_count": 2,
   "id": "innovative-syndrome",
   "metadata": {
    "execution": {
     "iopub.execute_input": "2021-08-14T16:30:07.788779Z",
     "iopub.status.busy": "2021-08-14T16:30:07.786610Z",
     "iopub.status.idle": "2021-08-14T16:30:07.835399Z",
     "shell.execute_reply": "2021-08-14T16:30:07.836589Z"
    },
    "papermill": {
     "duration": 0.079195,
     "end_time": "2021-08-14T16:30:07.836967",
     "exception": false,
     "start_time": "2021-08-14T16:30:07.757772",
     "status": "completed"
    },
    "tags": []
   },
   "outputs": [],
   "source": [
    "timestamps = pd.read_sql(\"select distinct record_time from EBAY_TOP_BERLIN order by record_time desc limit 2\", sqlite3.connect(\"UsedObjects.db\"))"
   ]
  },
  {
   "cell_type": "code",
   "execution_count": 3,
   "id": "periodic-identification",
   "metadata": {
    "execution": {
     "iopub.execute_input": "2021-08-14T16:30:07.901225Z",
     "iopub.status.busy": "2021-08-14T16:30:07.899204Z",
     "iopub.status.idle": "2021-08-14T16:30:07.919071Z",
     "shell.execute_reply": "2021-08-14T16:30:07.920344Z"
    },
    "papermill": {
     "duration": 0.064467,
     "end_time": "2021-08-14T16:30:07.920752",
     "exception": false,
     "start_time": "2021-08-14T16:30:07.856285",
     "status": "completed"
    },
    "tags": []
   },
   "outputs": [
    {
     "data": {
      "text/html": [
       "<div>\n",
       "<style scoped>\n",
       "    .dataframe tbody tr th:only-of-type {\n",
       "        vertical-align: middle;\n",
       "    }\n",
       "\n",
       "    .dataframe tbody tr th {\n",
       "        vertical-align: top;\n",
       "    }\n",
       "\n",
       "    .dataframe thead th {\n",
       "        text-align: right;\n",
       "    }\n",
       "</style>\n",
       "<table border=\"1\" class=\"dataframe\">\n",
       "  <thead>\n",
       "    <tr style=\"text-align: right;\">\n",
       "      <th></th>\n",
       "      <th>RECORD_TIME</th>\n",
       "    </tr>\n",
       "  </thead>\n",
       "  <tbody>\n",
       "    <tr>\n",
       "      <th>0</th>\n",
       "      <td>2021-08-14 18:30</td>\n",
       "    </tr>\n",
       "    <tr>\n",
       "      <th>1</th>\n",
       "      <td>2021-08-14 18:00</td>\n",
       "    </tr>\n",
       "  </tbody>\n",
       "</table>\n",
       "</div>"
      ],
      "text/plain": [
       "        RECORD_TIME\n",
       "0  2021-08-14 18:30\n",
       "1  2021-08-14 18:00"
      ]
     },
     "execution_count": 3,
     "metadata": {},
     "output_type": "execute_result"
    }
   ],
   "source": [
    "timestamps"
   ]
  },
  {
   "cell_type": "code",
   "execution_count": 4,
   "id": "alternate-victory",
   "metadata": {
    "execution": {
     "iopub.execute_input": "2021-08-14T16:30:07.972186Z",
     "iopub.status.busy": "2021-08-14T16:30:07.970340Z",
     "iopub.status.idle": "2021-08-14T16:30:08.041072Z",
     "shell.execute_reply": "2021-08-14T16:30:08.042334Z"
    },
    "papermill": {
     "duration": 0.100934,
     "end_time": "2021-08-14T16:30:08.042733",
     "exception": false,
     "start_time": "2021-08-14T16:30:07.941799",
     "status": "completed"
    },
    "tags": []
   },
   "outputs": [],
   "source": [
    "df = pd.read_sql(\"select * from EBAY_TOP_BERLIN where record_time in (select distinct record_time from EBAY_TOP_BERLIN order by record_time desc limit 2)\", sqlite3.connect(\"UsedObjects.db\"))"
   ]
  },
  {
   "cell_type": "code",
   "execution_count": 5,
   "id": "popular-active",
   "metadata": {
    "execution": {
     "iopub.execute_input": "2021-08-14T16:30:08.113344Z",
     "iopub.status.busy": "2021-08-14T16:30:08.102739Z",
     "iopub.status.idle": "2021-08-14T16:30:08.129758Z",
     "shell.execute_reply": "2021-08-14T16:30:08.131024Z"
    },
    "papermill": {
     "duration": 0.067859,
     "end_time": "2021-08-14T16:30:08.131415",
     "exception": false,
     "start_time": "2021-08-14T16:30:08.063556",
     "status": "completed"
    },
    "tags": []
   },
   "outputs": [],
   "source": [
    "df_pivot = df.pivot_table(index=\"PRODUCT\", columns = \"RECORD_TIME\", values = \"LISTING_COUNT\")"
   ]
  },
  {
   "cell_type": "code",
   "execution_count": 6,
   "id": "union-huntington",
   "metadata": {
    "execution": {
     "iopub.execute_input": "2021-08-14T16:30:08.188234Z",
     "iopub.status.busy": "2021-08-14T16:30:08.186067Z",
     "iopub.status.idle": "2021-08-14T16:30:08.191648Z",
     "shell.execute_reply": "2021-08-14T16:30:08.192992Z"
    },
    "papermill": {
     "duration": 0.041128,
     "end_time": "2021-08-14T16:30:08.193420",
     "exception": false,
     "start_time": "2021-08-14T16:30:08.152292",
     "status": "completed"
    },
    "tags": []
   },
   "outputs": [],
   "source": [
    "df_pivot.columns = [\"stamp_1\", \"stamp_2\"]\n",
    "df_pivot_diff = df_pivot.diff(axis=1)"
   ]
  },
  {
   "cell_type": "code",
   "execution_count": 7,
   "id": "fifth-motion",
   "metadata": {
    "execution": {
     "iopub.execute_input": "2021-08-14T16:30:08.251381Z",
     "iopub.status.busy": "2021-08-14T16:30:08.248627Z",
     "iopub.status.idle": "2021-08-14T16:30:09.759382Z",
     "shell.execute_reply": "2021-08-14T16:30:09.760660Z"
    },
    "papermill": {
     "duration": 1.54459,
     "end_time": "2021-08-14T16:30:09.761079",
     "exception": false,
     "start_time": "2021-08-14T16:30:08.216489",
     "status": "completed"
    },
    "tags": []
   },
   "outputs": [
    {
     "data": {
      "text/plain": [
       "<AxesSubplot:ylabel='PRODUCT'>"
      ]
     },
     "execution_count": 7,
     "metadata": {},
     "output_type": "execute_result"
    },
    {
     "data": {
      "image/png": "[encoded data removed]",
      "text/plain": [
       "<Figure size 432x288 with 1 Axes>"
      ]
     },
     "metadata": {
      "needs_background": "light"
     },
     "output_type": "display_data"
    }
   ],
   "source": [
    "df_pivot_diff.sort_values(\"stamp_2\", ascending = False)[\"stamp_2\"].head(10).plot.barh()"
   ]
  },
  {
   "cell_type": "code",
   "execution_count": null,
   "id": "extra-executive",
   "metadata": {
    "papermill": {
     "duration": 0.022308,
     "end_time": "2021-08-14T16:30:09.808213",
     "exception": false,
     "start_time": "2021-08-14T16:30:09.785905",
     "status": "completed"
    },
    "tags": []
   },
   "outputs": [],
   "source": []
  }
 ],
 "metadata": {
  "kernelspec": {
   "display_name": "Python 3",
   "language": "python",
   "name": "python3"
  },
  "language_info": {
   "codemirror_mode": {
    "name": "ipython",
    "version": 3
   },
   "file_extension": ".py",
   "mimetype": "text/x-python",
   "name": "python",
   "nbconvert_exporter": "python",
   "pygments_lexer": "ipython3",
   "version": "3.9.5"
  },
  "papermill": {
   "default_parameters": {},
   "duration": 6.829591,
   "end_time": "2021-08-14T16:30:11.286961",
   "environment_variables": {},
   "exception": null,
   "input_path": "eBay_Overview.ipynb",
   "output_path": "eBay_Overview.ipynb",
   "parameters": {},
   "start_time": "2021-08-14T16:30:04.457370",
   "version": "2.3.3"
  }
 },
 "nbformat": 4,
 "nbformat_minor": 5
}