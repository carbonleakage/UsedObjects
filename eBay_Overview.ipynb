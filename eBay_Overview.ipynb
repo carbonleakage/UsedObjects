{
 "cells": [
  {
   "cell_type": "code",
   "execution_count": 1,
   "id": "reverse-picking",
   "metadata": {
    "execution": {
     "iopub.execute_input": "2021-08-08T20:37:33.737940Z",
     "iopub.status.busy": "2021-08-08T20:37:33.736256Z",
     "iopub.status.idle": "2021-08-08T20:37:34.562985Z",
     "shell.execute_reply": "2021-08-08T20:37:34.561730Z"
    },
    "papermill": {
     "duration": 0.847067,
     "end_time": "2021-08-08T20:37:34.563240",
     "exception": false,
     "start_time": "2021-08-08T20:37:33.716173",
     "status": "completed"
    },
    "tags": []
   },
   "outputs": [],
   "source": [
    "import pandas as pd\n",
    "import sqlite3"
   ]
  },
  {
   "cell_type": "code",
   "execution_count": 2,
   "id": "innovative-syndrome",
   "metadata": {
    "execution": {
     "iopub.execute_input": "2021-08-08T20:37:34.586719Z",
     "iopub.status.busy": "2021-08-08T20:37:34.585953Z",
     "iopub.status.idle": "2021-08-08T20:37:34.781334Z",
     "shell.execute_reply": "2021-08-08T20:37:34.781937Z"
    },
    "papermill": {
     "duration": 0.210042,
     "end_time": "2021-08-08T20:37:34.782131",
     "exception": false,
     "start_time": "2021-08-08T20:37:34.572089",
     "status": "completed"
    },
    "tags": []
   },
   "outputs": [],
   "source": [
    "timestamps = pd.read_sql(\"select distinct record_time from EBAY_TOP_BERLIN order by record_time desc limit 2\", sqlite3.connect(\"UsedObjects.db\"))"
   ]
  },
  {
   "cell_type": "code",
   "execution_count": 3,
   "id": "periodic-identification",
   "metadata": {
    "execution": {
     "iopub.execute_input": "2021-08-08T20:37:34.809524Z",
     "iopub.status.busy": "2021-08-08T20:37:34.808756Z",
     "iopub.status.idle": "2021-08-08T20:37:34.819353Z",
     "shell.execute_reply": "2021-08-08T20:37:34.819959Z"
    },
    "papermill": {
     "duration": 0.029847,
     "end_time": "2021-08-08T20:37:34.820140",
     "exception": false,
     "start_time": "2021-08-08T20:37:34.790293",
     "status": "completed"
    },
    "tags": []
   },
   "outputs": [
    {
     "data": {
      "text/html": [
       "<div>\n",
       "<style scoped>\n",
       "    .dataframe tbody tr th:only-of-type {\n",
       "        vertical-align: middle;\n",
       "    }\n",
       "\n",
       "    .dataframe tbody tr th {\n",
       "        vertical-align: top;\n",
       "    }\n",
       "\n",
       "    .dataframe thead th {\n",
       "        text-align: right;\n",
       "    }\n",
       "</style>\n",
       "<table border=\"1\" class=\"dataframe\">\n",
       "  <thead>\n",
       "    <tr style=\"text-align: right;\">\n",
       "      <th></th>\n",
       "      <th>RECORD_TIME</th>\n",
       "    </tr>\n",
       "  </thead>\n",
       "  <tbody>\n",
       "    <tr>\n",
       "      <th>0</th>\n",
       "      <td>2021-08-08 22:37</td>\n",
       "    </tr>\n",
       "    <tr>\n",
       "      <th>1</th>\n",
       "      <td>2021-08-08 22:03</td>\n",
       "    </tr>\n",
       "  </tbody>\n",
       "</table>\n",
       "</div>"
      ],
      "text/plain": [
       "        RECORD_TIME\n",
       "0  2021-08-08 22:37\n",
       "1  2021-08-08 22:03"
      ]
     },
     "execution_count": 3,
     "metadata": {},
     "output_type": "execute_result"
    }
   ],
   "source": [
    "timestamps"
   ]
  },
  {
   "cell_type": "code",
   "execution_count": 4,
   "id": "alternate-victory",
   "metadata": {
    "execution": {
     "iopub.execute_input": "2021-08-08T20:37:34.843337Z",
     "iopub.status.busy": "2021-08-08T20:37:34.842568Z",
     "iopub.status.idle": "2021-08-08T20:37:34.849432Z",
     "shell.execute_reply": "2021-08-08T20:37:34.850002Z"
    },
    "papermill": {
     "duration": 0.021222,
     "end_time": "2021-08-08T20:37:34.850198",
     "exception": false,
     "start_time": "2021-08-08T20:37:34.828976",
     "status": "completed"
    },
    "tags": []
   },
   "outputs": [],
   "source": [
    "df = pd.read_sql(\"select * from EBAY_TOP_BERLIN where record_time in (select distinct record_time from EBAY_TOP_BERLIN order by record_time desc limit 2)\", sqlite3.connect(\"UsedObjects.db\"))"
   ]
  },
  {
   "cell_type": "code",
   "execution_count": 5,
   "id": "popular-active",
   "metadata": {
    "execution": {
     "iopub.execute_input": "2021-08-08T20:37:34.875929Z",
     "iopub.status.busy": "2021-08-08T20:37:34.875105Z",
     "iopub.status.idle": "2021-08-08T20:37:34.891306Z",
     "shell.execute_reply": "2021-08-08T20:37:34.891874Z"
    },
    "papermill": {
     "duration": 0.031567,
     "end_time": "2021-08-08T20:37:34.892068",
     "exception": false,
     "start_time": "2021-08-08T20:37:34.860501",
     "status": "completed"
    },
    "tags": []
   },
   "outputs": [],
   "source": [
    "df_pivot = df.pivot_table(index=\"PRODUCT\", columns = \"RECORD_TIME\", values = \"LISTING_COUNT\")"
   ]
  },
  {
   "cell_type": "code",
   "execution_count": 6,
   "id": "union-huntington",
   "metadata": {
    "execution": {
     "iopub.execute_input": "2021-08-08T20:37:34.920683Z",
     "iopub.status.busy": "2021-08-08T20:37:34.919711Z",
     "iopub.status.idle": "2021-08-08T20:37:34.922811Z",
     "shell.execute_reply": "2021-08-08T20:37:34.923338Z"
    },
    "papermill": {
     "duration": 0.020165,
     "end_time": "2021-08-08T20:37:34.923519",
     "exception": false,
     "start_time": "2021-08-08T20:37:34.903354",
     "status": "completed"
    },
    "tags": []
   },
   "outputs": [],
   "source": [
    "df_pivot.columns = [\"stamp_1\", \"stamp_2\"]\n",
    "df_pivot_diff = df_pivot.diff(axis=1)"
   ]
  },
  {
   "cell_type": "code",
   "execution_count": 7,
   "id": "fifth-motion",
   "metadata": {
    "execution": {
     "iopub.execute_input": "2021-08-08T20:37:34.948841Z",
     "iopub.status.busy": "2021-08-08T20:37:34.947764Z",
     "iopub.status.idle": "2021-08-08T20:37:35.732118Z",
     "shell.execute_reply": "2021-08-08T20:37:35.732705Z"
    },
    "papermill": {
     "duration": 0.801059,
     "end_time": "2021-08-08T20:37:35.732887",
     "exception": false,
     "start_time": "2021-08-08T20:37:34.931828",
     "status": "completed"
    },
    "tags": []
   },
   "outputs": [
    {
     "data": {
      "text/plain": [
       "<AxesSubplot:ylabel='PRODUCT'>"
      ]
     },
     "execution_count": 7,
     "metadata": {},
     "output_type": "execute_result"
    },
    {
     "data": {
      "image/png": "[encoded data removed]",
      "text/plain": [
       "<Figure size 432x288 with 1 Axes>"
      ]
     },
     "metadata": {
      "needs_background": "light"
     },
     "output_type": "display_data"
    }
   ],
   "source": [
    "df_pivot_diff.sort_values(\"stamp_2\", ascending = False)[\"stamp_2\"].head(10).plot.barh()"
   ]
  },
  {
   "cell_type": "code",
   "execution_count": null,
   "id": "extra-executive",
   "metadata": {
    "papermill": {
     "duration": 0.011603,
     "end_time": "2021-08-08T20:37:35.754382",
     "exception": false,
     "start_time": "2021-08-08T20:37:35.742779",
     "status": "completed"
    },
    "tags": []
   },
   "outputs": [],
   "source": []
  }
 ],
 "metadata": {
  "kernelspec": {
   "display_name": "Python 3",
   "language": "python",
   "name": "python3"
  },
  "language_info": {
   "codemirror_mode": {
    "name": "ipython",
    "version": 3
   },
   "file_extension": ".py",
   "mimetype": "text/x-python",
   "name": "python",
   "nbconvert_exporter": "python",
   "pygments_lexer": "ipython3",
   "version": "3.8.8"
  },
  "papermill": {
   "default_parameters": {},
   "duration": 4.021197,
   "end_time": "2021-08-08T20:37:36.192176",
   "environment_variables": {},
   "exception": null,
   "input_path": "eBay_Overview.ipynb",
   "output_path": "eBay_Overview.ipynb",
   "parameters": {},
   "start_time": "2021-08-08T20:37:32.170979",
   "version": "2.3.3"
  }
 },
 "nbformat": 4,
 "nbformat_minor": 5
}