{
 "cells": [
  {
   "cell_type": "code",
   "execution_count": 1,
   "id": "reverse-picking",
   "metadata": {
    "execution": {
     "iopub.execute_input": "2021-10-18T02:00:07.262484Z",
     "iopub.status.busy": "2021-10-18T02:00:07.260405Z",
     "iopub.status.idle": "2021-10-18T02:00:08.068235Z",
     "shell.execute_reply": "2021-10-18T02:00:08.066700Z"
    },
    "papermill": {
     "duration": 0.857222,
     "end_time": "2021-10-18T02:00:08.068649",
     "exception": false,
     "start_time": "2021-10-18T02:00:07.211427",
     "status": "completed"
    },
    "tags": []
   },
   "outputs": [],
   "source": [
    "import pandas as pd\n",
    "import sqlite3"
   ]
  },
  {
   "cell_type": "code",
   "execution_count": 2,
   "id": "innovative-syndrome",
   "metadata": {
    "execution": {
     "iopub.execute_input": "2021-10-18T02:00:08.122352Z",
     "iopub.status.busy": "2021-10-18T02:00:08.119924Z",
     "iopub.status.idle": "2021-10-18T02:00:08.685232Z",
     "shell.execute_reply": "2021-10-18T02:00:08.686538Z"
    },
    "papermill": {
     "duration": 0.59585,
     "end_time": "2021-10-18T02:00:08.686968",
     "exception": false,
     "start_time": "2021-10-18T02:00:08.091118",
     "status": "completed"
    },
    "tags": []
   },
   "outputs": [],
   "source": [
    "timestamps = pd.read_sql(\"select distinct record_time from EBAY_TOP_BERLIN order by record_time desc limit 2\", sqlite3.connect(\"UsedObjects.db\"))"
   ]
  },
  {
   "cell_type": "code",
   "execution_count": 3,
   "id": "periodic-identification",
   "metadata": {
    "execution": {
     "iopub.execute_input": "2021-10-18T02:00:08.769459Z",
     "iopub.status.busy": "2021-10-18T02:00:08.767296Z",
     "iopub.status.idle": "2021-10-18T02:00:08.787718Z",
     "shell.execute_reply": "2021-10-18T02:00:08.789162Z"
    },
    "papermill": {
     "duration": 0.072511,
     "end_time": "2021-10-18T02:00:08.789631",
     "exception": false,
     "start_time": "2021-10-18T02:00:08.717120",
     "status": "completed"
    },
    "tags": []
   },
   "outputs": [
    {
     "data": {
      "text/html": [
       "<div>\n",
       "<style scoped>\n",
       "    .dataframe tbody tr th:only-of-type {\n",
       "        vertical-align: middle;\n",
       "    }\n",
       "\n",
       "    .dataframe tbody tr th {\n",
       "        vertical-align: top;\n",
       "    }\n",
       "\n",
       "    .dataframe thead th {\n",
       "        text-align: right;\n",
       "    }\n",
       "</style>\n",
       "<table border=\"1\" class=\"dataframe\">\n",
       "  <thead>\n",
       "    <tr style=\"text-align: right;\">\n",
       "      <th></th>\n",
       "      <th>RECORD_TIME</th>\n",
       "    </tr>\n",
       "  </thead>\n",
       "  <tbody>\n",
       "    <tr>\n",
       "      <th>0</th>\n",
       "      <td>2021-10-18 04:00</td>\n",
       "    </tr>\n",
       "    <tr>\n",
       "      <th>1</th>\n",
       "      <td>2021-10-18 03:30</td>\n",
       "    </tr>\n",
       "  </tbody>\n",
       "</table>\n",
       "</div>"
      ],
      "text/plain": [
       "        RECORD_TIME\n",
       "0  2021-10-18 04:00\n",
       "1  2021-10-18 03:30"
      ]
     },
     "execution_count": 3,
     "metadata": {},
     "output_type": "execute_result"
    }
   ],
   "source": [
    "timestamps"
   ]
  },
  {
   "cell_type": "code",
   "execution_count": 4,
   "id": "alternate-victory",
   "metadata": {
    "execution": {
     "iopub.execute_input": "2021-10-18T02:00:08.841756Z",
     "iopub.status.busy": "2021-10-18T02:00:08.839808Z",
     "iopub.status.idle": "2021-10-18T02:00:09.661227Z",
     "shell.execute_reply": "2021-10-18T02:00:09.662474Z"
    },
    "papermill": {
     "duration": 0.851421,
     "end_time": "2021-10-18T02:00:09.662881",
     "exception": false,
     "start_time": "2021-10-18T02:00:08.811460",
     "status": "completed"
    },
    "tags": []
   },
   "outputs": [],
   "source": [
    "df = pd.read_sql(\"select * from EBAY_TOP_BERLIN where record_time in (select distinct record_time from EBAY_TOP_BERLIN order by record_time desc limit 2)\", sqlite3.connect(\"UsedObjects.db\"))"
   ]
  },
  {
   "cell_type": "code",
   "execution_count": 5,
   "id": "popular-active",
   "metadata": {
    "execution": {
     "iopub.execute_input": "2021-10-18T02:00:09.734289Z",
     "iopub.status.busy": "2021-10-18T02:00:09.722540Z",
     "iopub.status.idle": "2021-10-18T02:00:09.750906Z",
     "shell.execute_reply": "2021-10-18T02:00:09.752127Z"
    },
    "papermill": {
     "duration": 0.068278,
     "end_time": "2021-10-18T02:00:09.752529",
     "exception": false,
     "start_time": "2021-10-18T02:00:09.684251",
     "status": "completed"
    },
    "tags": []
   },
   "outputs": [],
   "source": [
    "df_pivot = df.pivot_table(index=\"PRODUCT\", columns = \"RECORD_TIME\", values = \"LISTING_COUNT\")"
   ]
  },
  {
   "cell_type": "code",
   "execution_count": 6,
   "id": "union-huntington",
   "metadata": {
    "execution": {
     "iopub.execute_input": "2021-10-18T02:00:09.808640Z",
     "iopub.status.busy": "2021-10-18T02:00:09.806534Z",
     "iopub.status.idle": "2021-10-18T02:00:09.811935Z",
     "shell.execute_reply": "2021-10-18T02:00:09.813190Z"
    },
    "papermill": {
     "duration": 0.040301,
     "end_time": "2021-10-18T02:00:09.813638",
     "exception": false,
     "start_time": "2021-10-18T02:00:09.773337",
     "status": "completed"
    },
    "tags": []
   },
   "outputs": [],
   "source": [
    "df_pivot.columns = [\"stamp_1\", \"stamp_2\"]\n",
    "df_pivot_diff = df_pivot.diff(axis=1)"
   ]
  },
  {
   "cell_type": "code",
   "execution_count": 7,
   "id": "fifth-motion",
   "metadata": {
    "execution": {
     "iopub.execute_input": "2021-10-18T02:00:09.867854Z",
     "iopub.status.busy": "2021-10-18T02:00:09.865409Z",
     "iopub.status.idle": "2021-10-18T02:00:11.356677Z",
     "shell.execute_reply": "2021-10-18T02:00:11.358032Z"
    },
    "papermill": {
     "duration": 1.524347,
     "end_time": "2021-10-18T02:00:11.358457",
     "exception": false,
     "start_time": "2021-10-18T02:00:09.834110",
     "status": "completed"
    },
    "tags": []
   },
   "outputs": [
    {
     "data": {
      "text/plain": [
       "<AxesSubplot:ylabel='PRODUCT'>"
      ]
     },
     "execution_count": 7,
     "metadata": {},
     "output_type": "execute_result"
    },
    {
     "data": {
      "image/png": "[encoded data removed]",
      "text/plain": [
       "<Figure size 432x288 with 1 Axes>"
      ]
     },
     "metadata": {
      "needs_background": "light"
     },
     "output_type": "display_data"
    }
   ],
   "source": [
    "df_pivot_diff.sort_values(\"stamp_2\", ascending = False)[\"stamp_2\"].head(10).plot.barh()"
   ]
  },
  {
   "cell_type": "code",
   "execution_count": null,
   "id": "extra-executive",
   "metadata": {
    "papermill": {
     "duration": 0.022048,
     "end_time": "2021-10-18T02:00:11.405249",
     "exception": false,
     "start_time": "2021-10-18T02:00:11.383201",
     "status": "completed"
    },
    "tags": []
   },
   "outputs": [],
   "source": []
  }
 ],
 "metadata": {
  "kernelspec": {
   "display_name": "Python 3",
   "language": "python",
   "name": "python3"
  },
  "language_info": {
   "codemirror_mode": {
    "name": "ipython",
    "version": 3
   },
   "file_extension": ".py",
   "mimetype": "text/x-python",
   "name": "python",
   "nbconvert_exporter": "python",
   "pygments_lexer": "ipython3",
   "version": "3.9.5"
  },
  "papermill": {
   "default_parameters": {},
   "duration": 7.820271,
   "end_time": "2021-10-18T02:00:12.624585",
   "environment_variables": {},
   "exception": null,
   "input_path": "eBay_Overview.ipynb",
   "output_path": "eBay_Overview.ipynb",
   "parameters": {},
   "start_time": "2021-10-18T02:00:04.804314",
   "version": "2.3.3"
  }
 },
 "nbformat": 4,
 "nbformat_minor": 5
}