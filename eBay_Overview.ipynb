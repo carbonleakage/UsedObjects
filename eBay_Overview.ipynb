{
 "cells": [
  {
   "cell_type": "code",
   "execution_count": 1,
   "id": "reverse-picking",
   "metadata": {
    "execution": {
     "iopub.execute_input": "2021-10-10T20:00:06.605202Z",
     "iopub.status.busy": "2021-10-10T20:00:06.603156Z",
     "iopub.status.idle": "2021-10-10T20:00:07.449526Z",
     "shell.execute_reply": "2021-10-10T20:00:07.450834Z"
    },
    "papermill": {
     "duration": 0.89795,
     "end_time": "2021-10-10T20:00:07.451481",
     "exception": false,
     "start_time": "2021-10-10T20:00:06.553531",
     "status": "completed"
    },
    "tags": []
   },
   "outputs": [],
   "source": [
    "import pandas as pd\n",
    "import sqlite3"
   ]
  },
  {
   "cell_type": "code",
   "execution_count": 2,
   "id": "innovative-syndrome",
   "metadata": {
    "execution": {
     "iopub.execute_input": "2021-10-10T20:00:07.502584Z",
     "iopub.status.busy": "2021-10-10T20:00:07.500669Z",
     "iopub.status.idle": "2021-10-10T20:00:08.014191Z",
     "shell.execute_reply": "2021-10-10T20:00:08.015457Z"
    },
    "papermill": {
     "duration": 0.543023,
     "end_time": "2021-10-10T20:00:08.015864",
     "exception": false,
     "start_time": "2021-10-10T20:00:07.472841",
     "status": "completed"
    },
    "tags": []
   },
   "outputs": [],
   "source": [
    "timestamps = pd.read_sql(\"select distinct record_time from EBAY_TOP_BERLIN order by record_time desc limit 2\", sqlite3.connect(\"UsedObjects.db\"))"
   ]
  },
  {
   "cell_type": "code",
   "execution_count": 3,
   "id": "periodic-identification",
   "metadata": {
    "execution": {
     "iopub.execute_input": "2021-10-10T20:00:08.096472Z",
     "iopub.status.busy": "2021-10-10T20:00:08.094350Z",
     "iopub.status.idle": "2021-10-10T20:00:08.114268Z",
     "shell.execute_reply": "2021-10-10T20:00:08.115611Z"
    },
    "papermill": {
     "duration": 0.069584,
     "end_time": "2021-10-10T20:00:08.116050",
     "exception": false,
     "start_time": "2021-10-10T20:00:08.046466",
     "status": "completed"
    },
    "tags": []
   },
   "outputs": [
    {
     "data": {
      "text/html": [
       "<div>\n",
       "<style scoped>\n",
       "    .dataframe tbody tr th:only-of-type {\n",
       "        vertical-align: middle;\n",
       "    }\n",
       "\n",
       "    .dataframe tbody tr th {\n",
       "        vertical-align: top;\n",
       "    }\n",
       "\n",
       "    .dataframe thead th {\n",
       "        text-align: right;\n",
       "    }\n",
       "</style>\n",
       "<table border=\"1\" class=\"dataframe\">\n",
       "  <thead>\n",
       "    <tr style=\"text-align: right;\">\n",
       "      <th></th>\n",
       "      <th>RECORD_TIME</th>\n",
       "    </tr>\n",
       "  </thead>\n",
       "  <tbody>\n",
       "    <tr>\n",
       "      <th>0</th>\n",
       "      <td>2021-10-10 22:00</td>\n",
       "    </tr>\n",
       "    <tr>\n",
       "      <th>1</th>\n",
       "      <td>2021-10-10 21:30</td>\n",
       "    </tr>\n",
       "  </tbody>\n",
       "</table>\n",
       "</div>"
      ],
      "text/plain": [
       "        RECORD_TIME\n",
       "0  2021-10-10 22:00\n",
       "1  2021-10-10 21:30"
      ]
     },
     "execution_count": 3,
     "metadata": {},
     "output_type": "execute_result"
    }
   ],
   "source": [
    "timestamps"
   ]
  },
  {
   "cell_type": "code",
   "execution_count": 4,
   "id": "alternate-victory",
   "metadata": {
    "execution": {
     "iopub.execute_input": "2021-10-10T20:00:08.169559Z",
     "iopub.status.busy": "2021-10-10T20:00:08.167516Z",
     "iopub.status.idle": "2021-10-10T20:00:08.921439Z",
     "shell.execute_reply": "2021-10-10T20:00:08.922702Z"
    },
    "papermill": {
     "duration": 0.784599,
     "end_time": "2021-10-10T20:00:08.923218",
     "exception": false,
     "start_time": "2021-10-10T20:00:08.138619",
     "status": "completed"
    },
    "tags": []
   },
   "outputs": [],
   "source": [
    "df = pd.read_sql(\"select * from EBAY_TOP_BERLIN where record_time in (select distinct record_time from EBAY_TOP_BERLIN order by record_time desc limit 2)\", sqlite3.connect(\"UsedObjects.db\"))"
   ]
  },
  {
   "cell_type": "code",
   "execution_count": 5,
   "id": "popular-active",
   "metadata": {
    "execution": {
     "iopub.execute_input": "2021-10-10T20:00:08.993668Z",
     "iopub.status.busy": "2021-10-10T20:00:08.981943Z",
     "iopub.status.idle": "2021-10-10T20:00:09.009684Z",
     "shell.execute_reply": "2021-10-10T20:00:09.011087Z"
    },
    "papermill": {
     "duration": 0.067452,
     "end_time": "2021-10-10T20:00:09.011503",
     "exception": false,
     "start_time": "2021-10-10T20:00:08.944051",
     "status": "completed"
    },
    "tags": []
   },
   "outputs": [],
   "source": [
    "df_pivot = df.pivot_table(index=\"PRODUCT\", columns = \"RECORD_TIME\", values = \"LISTING_COUNT\")"
   ]
  },
  {
   "cell_type": "code",
   "execution_count": 6,
   "id": "union-huntington",
   "metadata": {
    "execution": {
     "iopub.execute_input": "2021-10-10T20:00:09.070650Z",
     "iopub.status.busy": "2021-10-10T20:00:09.068344Z",
     "iopub.status.idle": "2021-10-10T20:00:09.073724Z",
     "shell.execute_reply": "2021-10-10T20:00:09.075068Z"
    },
    "papermill": {
     "duration": 0.04168,
     "end_time": "2021-10-10T20:00:09.075496",
     "exception": false,
     "start_time": "2021-10-10T20:00:09.033816",
     "status": "completed"
    },
    "tags": []
   },
   "outputs": [],
   "source": [
    "df_pivot.columns = [\"stamp_1\", \"stamp_2\"]\n",
    "df_pivot_diff = df_pivot.diff(axis=1)"
   ]
  },
  {
   "cell_type": "code",
   "execution_count": 7,
   "id": "fifth-motion",
   "metadata": {
    "execution": {
     "iopub.execute_input": "2021-10-10T20:00:09.130230Z",
     "iopub.status.busy": "2021-10-10T20:00:09.127945Z",
     "iopub.status.idle": "2021-10-10T20:00:10.647522Z",
     "shell.execute_reply": "2021-10-10T20:00:10.648885Z"
    },
    "papermill": {
     "duration": 1.553123,
     "end_time": "2021-10-10T20:00:10.649302",
     "exception": false,
     "start_time": "2021-10-10T20:00:09.096179",
     "status": "completed"
    },
    "tags": []
   },
   "outputs": [
    {
     "data": {
      "text/plain": [
       "<AxesSubplot:ylabel='PRODUCT'>"
      ]
     },
     "execution_count": 7,
     "metadata": {},
     "output_type": "execute_result"
    },
    {
     "data": {
      "image/png": "[encoded data removed]",
      "text/plain": [
       "<Figure size 432x288 with 1 Axes>"
      ]
     },
     "metadata": {
      "needs_background": "light"
     },
     "output_type": "display_data"
    }
   ],
   "source": [
    "df_pivot_diff.sort_values(\"stamp_2\", ascending = False)[\"stamp_2\"].head(10).plot.barh()"
   ]
  },
  {
   "cell_type": "code",
   "execution_count": null,
   "id": "extra-executive",
   "metadata": {
    "papermill": {
     "duration": 0.022609,
     "end_time": "2021-10-10T20:00:10.698722",
     "exception": false,
     "start_time": "2021-10-10T20:00:10.676113",
     "status": "completed"
    },
    "tags": []
   },
   "outputs": [],
   "source": []
  }
 ],
 "metadata": {
  "kernelspec": {
   "display_name": "Python 3",
   "language": "python",
   "name": "python3"
  },
  "language_info": {
   "codemirror_mode": {
    "name": "ipython",
    "version": 3
   },
   "file_extension": ".py",
   "mimetype": "text/x-python",
   "name": "python",
   "nbconvert_exporter": "python",
   "pygments_lexer": "ipython3",
   "version": "3.9.5"
  },
  "papermill": {
   "default_parameters": {},
   "duration": 7.839215,
   "end_time": "2021-10-10T20:00:11.959867",
   "environment_variables": {},
   "exception": null,
   "input_path": "eBay_Overview.ipynb",
   "output_path": "eBay_Overview.ipynb",
   "parameters": {},
   "start_time": "2021-10-10T20:00:04.120652",
   "version": "2.3.3"
  }
 },
 "nbformat": 4,
 "nbformat_minor": 5
}