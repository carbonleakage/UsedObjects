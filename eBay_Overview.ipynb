{
 "cells": [
  {
   "cell_type": "code",
   "execution_count": 1,
   "id": "reverse-picking",
   "metadata": {
    "execution": {
     "iopub.execute_input": "2021-09-12T23:00:07.306850Z",
     "iopub.status.busy": "2021-09-12T23:00:07.304929Z",
     "iopub.status.idle": "2021-09-12T23:00:08.113504Z",
     "shell.execute_reply": "2021-09-12T23:00:08.114755Z"
    },
    "papermill": {
     "duration": 0.859793,
     "end_time": "2021-09-12T23:00:08.115439",
     "exception": false,
     "start_time": "2021-09-12T23:00:07.255646",
     "status": "completed"
    },
    "tags": []
   },
   "outputs": [],
   "source": [
    "import pandas as pd\n",
    "import sqlite3"
   ]
  },
  {
   "cell_type": "code",
   "execution_count": 2,
   "id": "innovative-syndrome",
   "metadata": {
    "execution": {
     "iopub.execute_input": "2021-09-12T23:00:08.165626Z",
     "iopub.status.busy": "2021-09-12T23:00:08.163747Z",
     "iopub.status.idle": "2021-09-12T23:00:08.438110Z",
     "shell.execute_reply": "2021-09-12T23:00:08.439284Z"
    },
    "papermill": {
     "duration": 0.30361,
     "end_time": "2021-09-12T23:00:08.439705",
     "exception": false,
     "start_time": "2021-09-12T23:00:08.136095",
     "status": "completed"
    },
    "tags": []
   },
   "outputs": [],
   "source": [
    "timestamps = pd.read_sql(\"select distinct record_time from EBAY_TOP_BERLIN order by record_time desc limit 2\", sqlite3.connect(\"UsedObjects.db\"))"
   ]
  },
  {
   "cell_type": "code",
   "execution_count": 3,
   "id": "periodic-identification",
   "metadata": {
    "execution": {
     "iopub.execute_input": "2021-09-12T23:00:08.505713Z",
     "iopub.status.busy": "2021-09-12T23:00:08.503693Z",
     "iopub.status.idle": "2021-09-12T23:00:08.522904Z",
     "shell.execute_reply": "2021-09-12T23:00:08.524312Z"
    },
    "papermill": {
     "duration": 0.063716,
     "end_time": "2021-09-12T23:00:08.524736",
     "exception": false,
     "start_time": "2021-09-12T23:00:08.461020",
     "status": "completed"
    },
    "tags": []
   },
   "outputs": [
    {
     "data": {
      "text/html": [
       "<div>\n",
       "<style scoped>\n",
       "    .dataframe tbody tr th:only-of-type {\n",
       "        vertical-align: middle;\n",
       "    }\n",
       "\n",
       "    .dataframe tbody tr th {\n",
       "        vertical-align: top;\n",
       "    }\n",
       "\n",
       "    .dataframe thead th {\n",
       "        text-align: right;\n",
       "    }\n",
       "</style>\n",
       "<table border=\"1\" class=\"dataframe\">\n",
       "  <thead>\n",
       "    <tr style=\"text-align: right;\">\n",
       "      <th></th>\n",
       "      <th>RECORD_TIME</th>\n",
       "    </tr>\n",
       "  </thead>\n",
       "  <tbody>\n",
       "    <tr>\n",
       "      <th>0</th>\n",
       "      <td>2021-09-13 01:00</td>\n",
       "    </tr>\n",
       "    <tr>\n",
       "      <th>1</th>\n",
       "      <td>2021-09-13 00:30</td>\n",
       "    </tr>\n",
       "  </tbody>\n",
       "</table>\n",
       "</div>"
      ],
      "text/plain": [
       "        RECORD_TIME\n",
       "0  2021-09-13 01:00\n",
       "1  2021-09-13 00:30"
      ]
     },
     "execution_count": 3,
     "metadata": {},
     "output_type": "execute_result"
    }
   ],
   "source": [
    "timestamps"
   ]
  },
  {
   "cell_type": "code",
   "execution_count": 4,
   "id": "alternate-victory",
   "metadata": {
    "execution": {
     "iopub.execute_input": "2021-09-12T23:00:08.576330Z",
     "iopub.status.busy": "2021-09-12T23:00:08.574375Z",
     "iopub.status.idle": "2021-09-12T23:00:08.984763Z",
     "shell.execute_reply": "2021-09-12T23:00:08.983250Z"
    },
    "papermill": {
     "duration": 0.43879,
     "end_time": "2021-09-12T23:00:08.985136",
     "exception": false,
     "start_time": "2021-09-12T23:00:08.546346",
     "status": "completed"
    },
    "tags": []
   },
   "outputs": [],
   "source": [
    "df = pd.read_sql(\"select * from EBAY_TOP_BERLIN where record_time in (select distinct record_time from EBAY_TOP_BERLIN order by record_time desc limit 2)\", sqlite3.connect(\"UsedObjects.db\"))"
   ]
  },
  {
   "cell_type": "code",
   "execution_count": 5,
   "id": "popular-active",
   "metadata": {
    "execution": {
     "iopub.execute_input": "2021-09-12T23:00:09.080289Z",
     "iopub.status.busy": "2021-09-12T23:00:09.069536Z",
     "iopub.status.idle": "2021-09-12T23:00:09.096783Z",
     "shell.execute_reply": "2021-09-12T23:00:09.098005Z"
    },
    "papermill": {
     "duration": 0.075076,
     "end_time": "2021-09-12T23:00:09.098403",
     "exception": false,
     "start_time": "2021-09-12T23:00:09.023327",
     "status": "completed"
    },
    "tags": []
   },
   "outputs": [],
   "source": [
    "df_pivot = df.pivot_table(index=\"PRODUCT\", columns = \"RECORD_TIME\", values = \"LISTING_COUNT\")"
   ]
  },
  {
   "cell_type": "code",
   "execution_count": 6,
   "id": "union-huntington",
   "metadata": {
    "execution": {
     "iopub.execute_input": "2021-09-12T23:00:09.153225Z",
     "iopub.status.busy": "2021-09-12T23:00:09.151265Z",
     "iopub.status.idle": "2021-09-12T23:00:09.156340Z",
     "shell.execute_reply": "2021-09-12T23:00:09.157461Z"
    },
    "papermill": {
     "duration": 0.039649,
     "end_time": "2021-09-12T23:00:09.157871",
     "exception": false,
     "start_time": "2021-09-12T23:00:09.118222",
     "status": "completed"
    },
    "tags": []
   },
   "outputs": [],
   "source": [
    "df_pivot.columns = [\"stamp_1\", \"stamp_2\"]\n",
    "df_pivot_diff = df_pivot.diff(axis=1)"
   ]
  },
  {
   "cell_type": "code",
   "execution_count": 7,
   "id": "fifth-motion",
   "metadata": {
    "execution": {
     "iopub.execute_input": "2021-09-12T23:00:09.214549Z",
     "iopub.status.busy": "2021-09-12T23:00:09.211955Z",
     "iopub.status.idle": "2021-09-12T23:00:10.684103Z",
     "shell.execute_reply": "2021-09-12T23:00:10.685391Z"
    },
    "papermill": {
     "duration": 1.505467,
     "end_time": "2021-09-12T23:00:10.685810",
     "exception": false,
     "start_time": "2021-09-12T23:00:09.180343",
     "status": "completed"
    },
    "tags": []
   },
   "outputs": [
    {
     "data": {
      "text/plain": [
       "<AxesSubplot:ylabel='PRODUCT'>"
      ]
     },
     "execution_count": 7,
     "metadata": {},
     "output_type": "execute_result"
    },
    {
     "data": {
      "image/png": "[encoded data removed]",
      "text/plain": [
       "<Figure size 432x288 with 1 Axes>"
      ]
     },
     "metadata": {
      "needs_background": "light"
     },
     "output_type": "display_data"
    }
   ],
   "source": [
    "df_pivot_diff.sort_values(\"stamp_2\", ascending = False)[\"stamp_2\"].head(10).plot.barh()"
   ]
  },
  {
   "cell_type": "code",
   "execution_count": null,
   "id": "extra-executive",
   "metadata": {
    "papermill": {
     "duration": 0.021905,
     "end_time": "2021-09-12T23:00:10.732169",
     "exception": false,
     "start_time": "2021-09-12T23:00:10.710264",
     "status": "completed"
    },
    "tags": []
   },
   "outputs": [],
   "source": []
  }
 ],
 "metadata": {
  "kernelspec": {
   "display_name": "Python 3",
   "language": "python",
   "name": "python3"
  },
  "language_info": {
   "codemirror_mode": {
    "name": "ipython",
    "version": 3
   },
   "file_extension": ".py",
   "mimetype": "text/x-python",
   "name": "python",
   "nbconvert_exporter": "python",
   "pygments_lexer": "ipython3",
   "version": "3.9.5"
  },
  "papermill": {
   "default_parameters": {},
   "duration": 6.529022,
   "end_time": "2021-09-12T23:00:11.375741",
   "environment_variables": {},
   "exception": null,
   "input_path": "eBay_Overview.ipynb",
   "output_path": "eBay_Overview.ipynb",
   "parameters": {},
   "start_time": "2021-09-12T23:00:04.846719",
   "version": "2.3.3"
  }
 },
 "nbformat": 4,
 "nbformat_minor": 5
}