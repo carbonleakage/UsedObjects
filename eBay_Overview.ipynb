{
 "cells": [
  {
   "cell_type": "code",
   "execution_count": 1,
   "id": "reverse-picking",
   "metadata": {
    "execution": {
     "iopub.execute_input": "2021-10-14T16:00:07.215123Z",
     "iopub.status.busy": "2021-10-14T16:00:07.213202Z",
     "iopub.status.idle": "2021-10-14T16:00:08.020250Z",
     "shell.execute_reply": "2021-10-14T16:00:08.021579Z"
    },
    "papermill": {
     "duration": 0.858634,
     "end_time": "2021-10-14T16:00:08.022205",
     "exception": false,
     "start_time": "2021-10-14T16:00:07.163571",
     "status": "completed"
    },
    "tags": []
   },
   "outputs": [],
   "source": [
    "import pandas as pd\n",
    "import sqlite3"
   ]
  },
  {
   "cell_type": "code",
   "execution_count": 2,
   "id": "innovative-syndrome",
   "metadata": {
    "execution": {
     "iopub.execute_input": "2021-10-14T16:00:08.074774Z",
     "iopub.status.busy": "2021-10-14T16:00:08.072481Z",
     "iopub.status.idle": "2021-10-14T16:00:08.608733Z",
     "shell.execute_reply": "2021-10-14T16:00:08.609974Z"
    },
    "papermill": {
     "duration": 0.565858,
     "end_time": "2021-10-14T16:00:08.610367",
     "exception": false,
     "start_time": "2021-10-14T16:00:08.044509",
     "status": "completed"
    },
    "tags": []
   },
   "outputs": [],
   "source": [
    "timestamps = pd.read_sql(\"select distinct record_time from EBAY_TOP_BERLIN order by record_time desc limit 2\", sqlite3.connect(\"UsedObjects.db\"))"
   ]
  },
  {
   "cell_type": "code",
   "execution_count": 3,
   "id": "periodic-identification",
   "metadata": {
    "execution": {
     "iopub.execute_input": "2021-10-14T16:00:08.686342Z",
     "iopub.status.busy": "2021-10-14T16:00:08.684151Z",
     "iopub.status.idle": "2021-10-14T16:00:08.704161Z",
     "shell.execute_reply": "2021-10-14T16:00:08.705694Z"
    },
    "papermill": {
     "duration": 0.073169,
     "end_time": "2021-10-14T16:00:08.706123",
     "exception": false,
     "start_time": "2021-10-14T16:00:08.632954",
     "status": "completed"
    },
    "tags": []
   },
   "outputs": [
    {
     "data": {
      "text/html": [
       "<div>\n",
       "<style scoped>\n",
       "    .dataframe tbody tr th:only-of-type {\n",
       "        vertical-align: middle;\n",
       "    }\n",
       "\n",
       "    .dataframe tbody tr th {\n",
       "        vertical-align: top;\n",
       "    }\n",
       "\n",
       "    .dataframe thead th {\n",
       "        text-align: right;\n",
       "    }\n",
       "</style>\n",
       "<table border=\"1\" class=\"dataframe\">\n",
       "  <thead>\n",
       "    <tr style=\"text-align: right;\">\n",
       "      <th></th>\n",
       "      <th>RECORD_TIME</th>\n",
       "    </tr>\n",
       "  </thead>\n",
       "  <tbody>\n",
       "    <tr>\n",
       "      <th>0</th>\n",
       "      <td>2021-10-14 18:00</td>\n",
       "    </tr>\n",
       "    <tr>\n",
       "      <th>1</th>\n",
       "      <td>2021-10-14 17:30</td>\n",
       "    </tr>\n",
       "  </tbody>\n",
       "</table>\n",
       "</div>"
      ],
      "text/plain": [
       "        RECORD_TIME\n",
       "0  2021-10-14 18:00\n",
       "1  2021-10-14 17:30"
      ]
     },
     "execution_count": 3,
     "metadata": {},
     "output_type": "execute_result"
    }
   ],
   "source": [
    "timestamps"
   ]
  },
  {
   "cell_type": "code",
   "execution_count": 4,
   "id": "alternate-victory",
   "metadata": {
    "execution": {
     "iopub.execute_input": "2021-10-14T16:00:08.760236Z",
     "iopub.status.busy": "2021-10-14T16:00:08.758342Z",
     "iopub.status.idle": "2021-10-14T16:00:09.553018Z",
     "shell.execute_reply": "2021-10-14T16:00:09.554385Z"
    },
    "papermill": {
     "duration": 0.825444,
     "end_time": "2021-10-14T16:00:09.554788",
     "exception": false,
     "start_time": "2021-10-14T16:00:08.729344",
     "status": "completed"
    },
    "tags": []
   },
   "outputs": [],
   "source": [
    "df = pd.read_sql(\"select * from EBAY_TOP_BERLIN where record_time in (select distinct record_time from EBAY_TOP_BERLIN order by record_time desc limit 2)\", sqlite3.connect(\"UsedObjects.db\"))"
   ]
  },
  {
   "cell_type": "code",
   "execution_count": 5,
   "id": "popular-active",
   "metadata": {
    "execution": {
     "iopub.execute_input": "2021-10-14T16:00:09.626402Z",
     "iopub.status.busy": "2021-10-14T16:00:09.613837Z",
     "iopub.status.idle": "2021-10-14T16:00:09.641830Z",
     "shell.execute_reply": "2021-10-14T16:00:09.643039Z"
    },
    "papermill": {
     "duration": 0.067981,
     "end_time": "2021-10-14T16:00:09.643430",
     "exception": false,
     "start_time": "2021-10-14T16:00:09.575449",
     "status": "completed"
    },
    "tags": []
   },
   "outputs": [],
   "source": [
    "df_pivot = df.pivot_table(index=\"PRODUCT\", columns = \"RECORD_TIME\", values = \"LISTING_COUNT\")"
   ]
  },
  {
   "cell_type": "code",
   "execution_count": 6,
   "id": "union-huntington",
   "metadata": {
    "execution": {
     "iopub.execute_input": "2021-10-14T16:00:09.700364Z",
     "iopub.status.busy": "2021-10-14T16:00:09.698211Z",
     "iopub.status.idle": "2021-10-14T16:00:09.703649Z",
     "shell.execute_reply": "2021-10-14T16:00:09.705135Z"
    },
    "papermill": {
     "duration": 0.040646,
     "end_time": "2021-10-14T16:00:09.705613",
     "exception": false,
     "start_time": "2021-10-14T16:00:09.664967",
     "status": "completed"
    },
    "tags": []
   },
   "outputs": [],
   "source": [
    "df_pivot.columns = [\"stamp_1\", \"stamp_2\"]\n",
    "df_pivot_diff = df_pivot.diff(axis=1)"
   ]
  },
  {
   "cell_type": "code",
   "execution_count": 7,
   "id": "fifth-motion",
   "metadata": {
    "execution": {
     "iopub.execute_input": "2021-10-14T16:00:09.760540Z",
     "iopub.status.busy": "2021-10-14T16:00:09.757908Z",
     "iopub.status.idle": "2021-10-14T16:00:11.247261Z",
     "shell.execute_reply": "2021-10-14T16:00:11.248537Z"
    },
    "papermill": {
     "duration": 1.523127,
     "end_time": "2021-10-14T16:00:11.249028",
     "exception": false,
     "start_time": "2021-10-14T16:00:09.725901",
     "status": "completed"
    },
    "tags": []
   },
   "outputs": [
    {
     "data": {
      "text/plain": [
       "<AxesSubplot:ylabel='PRODUCT'>"
      ]
     },
     "execution_count": 7,
     "metadata": {},
     "output_type": "execute_result"
    },
    {
     "data": {
      "image/png": "[encoded data removed]",
      "text/plain": [
       "<Figure size 432x288 with 1 Axes>"
      ]
     },
     "metadata": {
      "needs_background": "light"
     },
     "output_type": "display_data"
    }
   ],
   "source": [
    "df_pivot_diff.sort_values(\"stamp_2\", ascending = False)[\"stamp_2\"].head(10).plot.barh()"
   ]
  },
  {
   "cell_type": "code",
   "execution_count": null,
   "id": "extra-executive",
   "metadata": {
    "papermill": {
     "duration": 0.022417,
     "end_time": "2021-10-14T16:00:11.296483",
     "exception": false,
     "start_time": "2021-10-14T16:00:11.274066",
     "status": "completed"
    },
    "tags": []
   },
   "outputs": [],
   "source": []
  }
 ],
 "metadata": {
  "kernelspec": {
   "display_name": "Python 3",
   "language": "python",
   "name": "python3"
  },
  "language_info": {
   "codemirror_mode": {
    "name": "ipython",
    "version": 3
   },
   "file_extension": ".py",
   "mimetype": "text/x-python",
   "name": "python",
   "nbconvert_exporter": "python",
   "pygments_lexer": "ipython3",
   "version": "3.9.5"
  },
  "papermill": {
   "default_parameters": {},
   "duration": 7.8227,
   "end_time": "2021-10-14T16:00:12.578749",
   "environment_variables": {},
   "exception": null,
   "input_path": "eBay_Overview.ipynb",
   "output_path": "eBay_Overview.ipynb",
   "parameters": {},
   "start_time": "2021-10-14T16:00:04.756049",
   "version": "2.3.3"
  }
 },
 "nbformat": 4,
 "nbformat_minor": 5
}