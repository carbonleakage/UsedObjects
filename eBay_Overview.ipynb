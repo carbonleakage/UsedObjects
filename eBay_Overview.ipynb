{
 "cells": [
  {
   "cell_type": "code",
   "execution_count": 1,
   "id": "reverse-picking",
   "metadata": {
    "execution": {
     "iopub.execute_input": "2021-10-17T21:30:06.629954Z",
     "iopub.status.busy": "2021-10-17T21:30:06.627925Z",
     "iopub.status.idle": "2021-10-17T21:30:07.440037Z",
     "shell.execute_reply": "2021-10-17T21:30:07.438370Z"
    },
    "papermill": {
     "duration": 0.859892,
     "end_time": "2021-10-17T21:30:07.440451",
     "exception": false,
     "start_time": "2021-10-17T21:30:06.580559",
     "status": "completed"
    },
    "tags": []
   },
   "outputs": [],
   "source": [
    "import pandas as pd\n",
    "import sqlite3"
   ]
  },
  {
   "cell_type": "code",
   "execution_count": 2,
   "id": "innovative-syndrome",
   "metadata": {
    "execution": {
     "iopub.execute_input": "2021-10-17T21:30:07.491554Z",
     "iopub.status.busy": "2021-10-17T21:30:07.489379Z",
     "iopub.status.idle": "2021-10-17T21:30:08.059498Z",
     "shell.execute_reply": "2021-10-17T21:30:08.060911Z"
    },
    "papermill": {
     "duration": 0.600902,
     "end_time": "2021-10-17T21:30:08.061381",
     "exception": false,
     "start_time": "2021-10-17T21:30:07.460479",
     "status": "completed"
    },
    "tags": []
   },
   "outputs": [],
   "source": [
    "timestamps = pd.read_sql(\"select distinct record_time from EBAY_TOP_BERLIN order by record_time desc limit 2\", sqlite3.connect(\"UsedObjects.db\"))"
   ]
  },
  {
   "cell_type": "code",
   "execution_count": 3,
   "id": "periodic-identification",
   "metadata": {
    "execution": {
     "iopub.execute_input": "2021-10-17T21:30:08.139089Z",
     "iopub.status.busy": "2021-10-17T21:30:08.137059Z",
     "iopub.status.idle": "2021-10-17T21:30:08.159987Z",
     "shell.execute_reply": "2021-10-17T21:30:08.161908Z"
    },
    "papermill": {
     "duration": 0.07264,
     "end_time": "2021-10-17T21:30:08.162487",
     "exception": false,
     "start_time": "2021-10-17T21:30:08.089847",
     "status": "completed"
    },
    "tags": []
   },
   "outputs": [
    {
     "data": {
      "text/html": [
       "<div>\n",
       "<style scoped>\n",
       "    .dataframe tbody tr th:only-of-type {\n",
       "        vertical-align: middle;\n",
       "    }\n",
       "\n",
       "    .dataframe tbody tr th {\n",
       "        vertical-align: top;\n",
       "    }\n",
       "\n",
       "    .dataframe thead th {\n",
       "        text-align: right;\n",
       "    }\n",
       "</style>\n",
       "<table border=\"1\" class=\"dataframe\">\n",
       "  <thead>\n",
       "    <tr style=\"text-align: right;\">\n",
       "      <th></th>\n",
       "      <th>RECORD_TIME</th>\n",
       "    </tr>\n",
       "  </thead>\n",
       "  <tbody>\n",
       "    <tr>\n",
       "      <th>0</th>\n",
       "      <td>2021-10-17 23:30</td>\n",
       "    </tr>\n",
       "    <tr>\n",
       "      <th>1</th>\n",
       "      <td>2021-10-17 23:00</td>\n",
       "    </tr>\n",
       "  </tbody>\n",
       "</table>\n",
       "</div>"
      ],
      "text/plain": [
       "        RECORD_TIME\n",
       "0  2021-10-17 23:30\n",
       "1  2021-10-17 23:00"
      ]
     },
     "execution_count": 3,
     "metadata": {},
     "output_type": "execute_result"
    }
   ],
   "source": [
    "timestamps"
   ]
  },
  {
   "cell_type": "code",
   "execution_count": 4,
   "id": "alternate-victory",
   "metadata": {
    "execution": {
     "iopub.execute_input": "2021-10-17T21:30:08.215873Z",
     "iopub.status.busy": "2021-10-17T21:30:08.214022Z",
     "iopub.status.idle": "2021-10-17T21:30:09.041780Z",
     "shell.execute_reply": "2021-10-17T21:30:09.043069Z"
    },
    "papermill": {
     "duration": 0.857983,
     "end_time": "2021-10-17T21:30:09.043469",
     "exception": false,
     "start_time": "2021-10-17T21:30:08.185486",
     "status": "completed"
    },
    "tags": []
   },
   "outputs": [],
   "source": [
    "df = pd.read_sql(\"select * from EBAY_TOP_BERLIN where record_time in (select distinct record_time from EBAY_TOP_BERLIN order by record_time desc limit 2)\", sqlite3.connect(\"UsedObjects.db\"))"
   ]
  },
  {
   "cell_type": "code",
   "execution_count": 5,
   "id": "popular-active",
   "metadata": {
    "execution": {
     "iopub.execute_input": "2021-10-17T21:30:09.104910Z",
     "iopub.status.busy": "2021-10-17T21:30:09.102657Z",
     "iopub.status.idle": "2021-10-17T21:30:09.130061Z",
     "shell.execute_reply": "2021-10-17T21:30:09.131277Z"
    },
    "papermill": {
     "duration": 0.067305,
     "end_time": "2021-10-17T21:30:09.131673",
     "exception": false,
     "start_time": "2021-10-17T21:30:09.064368",
     "status": "completed"
    },
    "tags": []
   },
   "outputs": [],
   "source": [
    "df_pivot = df.pivot_table(index=\"PRODUCT\", columns = \"RECORD_TIME\", values = \"LISTING_COUNT\")"
   ]
  },
  {
   "cell_type": "code",
   "execution_count": 6,
   "id": "union-huntington",
   "metadata": {
    "execution": {
     "iopub.execute_input": "2021-10-17T21:30:09.189232Z",
     "iopub.status.busy": "2021-10-17T21:30:09.187013Z",
     "iopub.status.idle": "2021-10-17T21:30:09.193010Z",
     "shell.execute_reply": "2021-10-17T21:30:09.194602Z"
    },
    "papermill": {
     "duration": 0.041684,
     "end_time": "2021-10-17T21:30:09.195116",
     "exception": false,
     "start_time": "2021-10-17T21:30:09.153432",
     "status": "completed"
    },
    "tags": []
   },
   "outputs": [],
   "source": [
    "df_pivot.columns = [\"stamp_1\", \"stamp_2\"]\n",
    "df_pivot_diff = df_pivot.diff(axis=1)"
   ]
  },
  {
   "cell_type": "code",
   "execution_count": 7,
   "id": "fifth-motion",
   "metadata": {
    "execution": {
     "iopub.execute_input": "2021-10-17T21:30:09.251777Z",
     "iopub.status.busy": "2021-10-17T21:30:09.249493Z",
     "iopub.status.idle": "2021-10-17T21:30:10.762565Z",
     "shell.execute_reply": "2021-10-17T21:30:10.763844Z"
    },
    "papermill": {
     "duration": 1.546558,
     "end_time": "2021-10-17T21:30:10.764260",
     "exception": false,
     "start_time": "2021-10-17T21:30:09.217702",
     "status": "completed"
    },
    "tags": []
   },
   "outputs": [
    {
     "data": {
      "text/plain": [
       "<AxesSubplot:ylabel='PRODUCT'>"
      ]
     },
     "execution_count": 7,
     "metadata": {},
     "output_type": "execute_result"
    },
    {
     "data": {
      "image/png": "[encoded data removed]",
      "text/plain": [
       "<Figure size 432x288 with 1 Axes>"
      ]
     },
     "metadata": {
      "needs_background": "light"
     },
     "output_type": "display_data"
    }
   ],
   "source": [
    "df_pivot_diff.sort_values(\"stamp_2\", ascending = False)[\"stamp_2\"].head(10).plot.barh()"
   ]
  },
  {
   "cell_type": "code",
   "execution_count": null,
   "id": "extra-executive",
   "metadata": {
    "papermill": {
     "duration": 0.022342,
     "end_time": "2021-10-17T21:30:10.812314",
     "exception": false,
     "start_time": "2021-10-17T21:30:10.789972",
     "status": "completed"
    },
    "tags": []
   },
   "outputs": [],
   "source": []
  }
 ],
 "metadata": {
  "kernelspec": {
   "display_name": "Python 3",
   "language": "python",
   "name": "python3"
  },
  "language_info": {
   "codemirror_mode": {
    "name": "ipython",
    "version": 3
   },
   "file_extension": ".py",
   "mimetype": "text/x-python",
   "name": "python",
   "nbconvert_exporter": "python",
   "pygments_lexer": "ipython3",
   "version": "3.9.5"
  },
  "papermill": {
   "default_parameters": {},
   "duration": 7.820802,
   "end_time": "2021-10-17T21:30:11.990335",
   "environment_variables": {},
   "exception": null,
   "input_path": "eBay_Overview.ipynb",
   "output_path": "eBay_Overview.ipynb",
   "parameters": {},
   "start_time": "2021-10-17T21:30:04.169533",
   "version": "2.3.3"
  }
 },
 "nbformat": 4,
 "nbformat_minor": 5
}