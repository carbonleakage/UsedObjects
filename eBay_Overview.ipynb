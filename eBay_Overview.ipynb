{
 "cells": [
  {
   "cell_type": "code",
   "execution_count": 1,
   "id": "reverse-picking",
   "metadata": {
    "execution": {
     "iopub.execute_input": "2021-08-09T12:00:03.878189Z",
     "iopub.status.busy": "2021-08-09T12:00:03.877309Z",
     "iopub.status.idle": "2021-08-09T12:00:04.493844Z",
     "shell.execute_reply": "2021-08-09T12:00:04.494579Z"
    },
    "papermill": {
     "duration": 0.641268,
     "end_time": "2021-08-09T12:00:04.494939",
     "exception": false,
     "start_time": "2021-08-09T12:00:03.853671",
     "status": "completed"
    },
    "tags": []
   },
   "outputs": [],
   "source": [
    "import pandas as pd\n",
    "import sqlite3"
   ]
  },
  {
   "cell_type": "code",
   "execution_count": 2,
   "id": "innovative-syndrome",
   "metadata": {
    "execution": {
     "iopub.execute_input": "2021-08-09T12:00:04.515967Z",
     "iopub.status.busy": "2021-08-09T12:00:04.515206Z",
     "iopub.status.idle": "2021-08-09T12:00:04.821928Z",
     "shell.execute_reply": "2021-08-09T12:00:04.822460Z"
    },
    "papermill": {
     "duration": 0.319347,
     "end_time": "2021-08-09T12:00:04.822640",
     "exception": false,
     "start_time": "2021-08-09T12:00:04.503293",
     "status": "completed"
    },
    "tags": []
   },
   "outputs": [],
   "source": [
    "timestamps = pd.read_sql(\"select distinct record_time from EBAY_TOP_BERLIN order by record_time desc limit 2\", sqlite3.connect(\"UsedObjects.db\"))"
   ]
  },
  {
   "cell_type": "code",
   "execution_count": 3,
   "id": "periodic-identification",
   "metadata": {
    "execution": {
     "iopub.execute_input": "2021-08-09T12:00:04.851171Z",
     "iopub.status.busy": "2021-08-09T12:00:04.850395Z",
     "iopub.status.idle": "2021-08-09T12:00:04.862513Z",
     "shell.execute_reply": "2021-08-09T12:00:04.863085Z"
    },
    "papermill": {
     "duration": 0.032188,
     "end_time": "2021-08-09T12:00:04.863274",
     "exception": false,
     "start_time": "2021-08-09T12:00:04.831086",
     "status": "completed"
    },
    "tags": []
   },
   "outputs": [
    {
     "data": {
      "text/html": [
       "<div>\n",
       "<style scoped>\n",
       "    .dataframe tbody tr th:only-of-type {\n",
       "        vertical-align: middle;\n",
       "    }\n",
       "\n",
       "    .dataframe tbody tr th {\n",
       "        vertical-align: top;\n",
       "    }\n",
       "\n",
       "    .dataframe thead th {\n",
       "        text-align: right;\n",
       "    }\n",
       "</style>\n",
       "<table border=\"1\" class=\"dataframe\">\n",
       "  <thead>\n",
       "    <tr style=\"text-align: right;\">\n",
       "      <th></th>\n",
       "      <th>RECORD_TIME</th>\n",
       "    </tr>\n",
       "  </thead>\n",
       "  <tbody>\n",
       "    <tr>\n",
       "      <th>0</th>\n",
       "      <td>2021-08-09 14:00</td>\n",
       "    </tr>\n",
       "    <tr>\n",
       "      <th>1</th>\n",
       "      <td>2021-08-09 13:30</td>\n",
       "    </tr>\n",
       "  </tbody>\n",
       "</table>\n",
       "</div>"
      ],
      "text/plain": [
       "        RECORD_TIME\n",
       "0  2021-08-09 14:00\n",
       "1  2021-08-09 13:30"
      ]
     },
     "execution_count": 3,
     "metadata": {},
     "output_type": "execute_result"
    }
   ],
   "source": [
    "timestamps"
   ]
  },
  {
   "cell_type": "code",
   "execution_count": 4,
   "id": "alternate-victory",
   "metadata": {
    "execution": {
     "iopub.execute_input": "2021-08-09T12:00:04.884348Z",
     "iopub.status.busy": "2021-08-09T12:00:04.883592Z",
     "iopub.status.idle": "2021-08-09T12:00:04.894601Z",
     "shell.execute_reply": "2021-08-09T12:00:04.895375Z"
    },
    "papermill": {
     "duration": 0.023995,
     "end_time": "2021-08-09T12:00:04.895662",
     "exception": false,
     "start_time": "2021-08-09T12:00:04.871667",
     "status": "completed"
    },
    "tags": []
   },
   "outputs": [],
   "source": [
    "df = pd.read_sql(\"select * from EBAY_TOP_BERLIN where record_time in (select distinct record_time from EBAY_TOP_BERLIN order by record_time desc limit 2)\", sqlite3.connect(\"UsedObjects.db\"))"
   ]
  },
  {
   "cell_type": "code",
   "execution_count": 5,
   "id": "popular-active",
   "metadata": {
    "execution": {
     "iopub.execute_input": "2021-08-09T12:00:04.925971Z",
     "iopub.status.busy": "2021-08-09T12:00:04.925085Z",
     "iopub.status.idle": "2021-08-09T12:00:04.941291Z",
     "shell.execute_reply": "2021-08-09T12:00:04.941820Z"
    },
    "papermill": {
     "duration": 0.037987,
     "end_time": "2021-08-09T12:00:04.941999",
     "exception": false,
     "start_time": "2021-08-09T12:00:04.904012",
     "status": "completed"
    },
    "tags": []
   },
   "outputs": [],
   "source": [
    "df_pivot = df.pivot_table(index=\"PRODUCT\", columns = \"RECORD_TIME\", values = \"LISTING_COUNT\")"
   ]
  },
  {
   "cell_type": "code",
   "execution_count": 6,
   "id": "union-huntington",
   "metadata": {
    "execution": {
     "iopub.execute_input": "2021-08-09T12:00:04.971987Z",
     "iopub.status.busy": "2021-08-09T12:00:04.971259Z",
     "iopub.status.idle": "2021-08-09T12:00:04.978306Z",
     "shell.execute_reply": "2021-08-09T12:00:04.978868Z"
    },
    "papermill": {
     "duration": 0.027978,
     "end_time": "2021-08-09T12:00:04.979049",
     "exception": false,
     "start_time": "2021-08-09T12:00:04.951071",
     "status": "completed"
    },
    "tags": []
   },
   "outputs": [],
   "source": [
    "df_pivot.columns = [\"stamp_1\", \"stamp_2\"]\n",
    "df_pivot_diff = df_pivot.diff(axis=1)"
   ]
  },
  {
   "cell_type": "code",
   "execution_count": 7,
   "id": "fifth-motion",
   "metadata": {
    "execution": {
     "iopub.execute_input": "2021-08-09T12:00:05.003802Z",
     "iopub.status.busy": "2021-08-09T12:00:05.001990Z",
     "iopub.status.idle": "2021-08-09T12:00:05.649860Z",
     "shell.execute_reply": "2021-08-09T12:00:05.650387Z"
    },
    "papermill": {
     "duration": 0.662424,
     "end_time": "2021-08-09T12:00:05.650564",
     "exception": false,
     "start_time": "2021-08-09T12:00:04.988140",
     "status": "completed"
    },
    "tags": []
   },
   "outputs": [
    {
     "data": {
      "text/plain": [
       "<AxesSubplot:ylabel='PRODUCT'>"
      ]
     },
     "execution_count": 7,
     "metadata": {},
     "output_type": "execute_result"
    },
    {
     "data": {
      "image/png": "[encoded data removed]",
      "text/plain": [
       "<Figure size 432x288 with 1 Axes>"
      ]
     },
     "metadata": {
      "needs_background": "light"
     },
     "output_type": "display_data"
    }
   ],
   "source": [
    "df_pivot_diff.sort_values(\"stamp_2\", ascending = False)[\"stamp_2\"].head(10).plot.barh()"
   ]
  },
  {
   "cell_type": "code",
   "execution_count": null,
   "id": "extra-executive",
   "metadata": {
    "papermill": {
     "duration": 0.011442,
     "end_time": "2021-08-09T12:00:05.671820",
     "exception": false,
     "start_time": "2021-08-09T12:00:05.660378",
     "status": "completed"
    },
    "tags": []
   },
   "outputs": [],
   "source": []
  }
 ],
 "metadata": {
  "kernelspec": {
   "display_name": "Python 3",
   "language": "python",
   "name": "python3"
  },
  "language_info": {
   "codemirror_mode": {
    "name": "ipython",
    "version": 3
   },
   "file_extension": ".py",
   "mimetype": "text/x-python",
   "name": "python",
   "nbconvert_exporter": "python",
   "pygments_lexer": "ipython3",
   "version": "3.8.8"
  },
  "papermill": {
   "default_parameters": {},
   "duration": 4.279808,
   "end_time": "2021-08-09T12:00:06.423647",
   "environment_variables": {},
   "exception": null,
   "input_path": "/Users/saravananshanmugam/Carbonleakage_Git/UsedObjects/eBay_Overview.ipynb",
   "output_path": "/Users/saravananshanmugam/Carbonleakage_Git/UsedObjects/eBay_Overview.ipynb",
   "parameters": {},
   "start_time": "2021-08-09T12:00:02.143839",
   "version": "2.3.3"
  }
 },
 "nbformat": 4,
 "nbformat_minor": 5
}