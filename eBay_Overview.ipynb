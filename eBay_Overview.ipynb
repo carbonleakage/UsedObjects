{
 "cells": [
  {
   "cell_type": "code",
   "execution_count": 1,
   "id": "reverse-picking",
   "metadata": {
    "execution": {
     "iopub.execute_input": "2021-11-11T08:30:07.584182Z",
     "iopub.status.busy": "2021-11-11T08:30:07.581840Z",
     "iopub.status.idle": "2021-11-11T08:30:08.592628Z",
     "shell.execute_reply": "2021-11-11T08:30:08.594278Z"
    },
    "papermill": {
     "duration": 1.061309,
     "end_time": "2021-11-11T08:30:08.595005",
     "exception": false,
     "start_time": "2021-11-11T08:30:07.533696",
     "status": "completed"
    },
    "tags": []
   },
   "outputs": [],
   "source": [
    "import pandas as pd\n",
    "import sqlite3"
   ]
  },
  {
   "cell_type": "code",
   "execution_count": 2,
   "id": "innovative-syndrome",
   "metadata": {
    "execution": {
     "iopub.execute_input": "2021-11-11T08:30:08.652320Z",
     "iopub.status.busy": "2021-11-11T08:30:08.650000Z",
     "iopub.status.idle": "2021-11-11T08:30:09.641301Z",
     "shell.execute_reply": "2021-11-11T08:30:09.643951Z"
    },
    "papermill": {
     "duration": 1.027289,
     "end_time": "2021-11-11T08:30:09.644798",
     "exception": false,
     "start_time": "2021-11-11T08:30:08.617509",
     "status": "completed"
    },
    "tags": []
   },
   "outputs": [],
   "source": [
    "timestamps = pd.read_sql(\"select distinct record_time from EBAY_TOP_BERLIN order by record_time desc limit 2\", sqlite3.connect(\"UsedObjects.db\"))"
   ]
  },
  {
   "cell_type": "code",
   "execution_count": 3,
   "id": "periodic-identification",
   "metadata": {
    "execution": {
     "iopub.execute_input": "2021-11-11T08:30:09.716025Z",
     "iopub.status.busy": "2021-11-11T08:30:09.713738Z",
     "iopub.status.idle": "2021-11-11T08:30:09.736340Z",
     "shell.execute_reply": "2021-11-11T08:30:09.737855Z"
    },
    "papermill": {
     "duration": 0.072645,
     "end_time": "2021-11-11T08:30:09.738381",
     "exception": false,
     "start_time": "2021-11-11T08:30:09.665736",
     "status": "completed"
    },
    "tags": []
   },
   "outputs": [
    {
     "data": {
      "text/html": [
       "<div>\n",
       "<style scoped>\n",
       "    .dataframe tbody tr th:only-of-type {\n",
       "        vertical-align: middle;\n",
       "    }\n",
       "\n",
       "    .dataframe tbody tr th {\n",
       "        vertical-align: top;\n",
       "    }\n",
       "\n",
       "    .dataframe thead th {\n",
       "        text-align: right;\n",
       "    }\n",
       "</style>\n",
       "<table border=\"1\" class=\"dataframe\">\n",
       "  <thead>\n",
       "    <tr style=\"text-align: right;\">\n",
       "      <th></th>\n",
       "      <th>RECORD_TIME</th>\n",
       "    </tr>\n",
       "  </thead>\n",
       "  <tbody>\n",
       "    <tr>\n",
       "      <th>0</th>\n",
       "      <td>2021-11-11 09:30</td>\n",
       "    </tr>\n",
       "    <tr>\n",
       "      <th>1</th>\n",
       "      <td>2021-11-11 09:00</td>\n",
       "    </tr>\n",
       "  </tbody>\n",
       "</table>\n",
       "</div>"
      ],
      "text/plain": [
       "        RECORD_TIME\n",
       "0  2021-11-11 09:30\n",
       "1  2021-11-11 09:00"
      ]
     },
     "execution_count": 3,
     "metadata": {},
     "output_type": "execute_result"
    }
   ],
   "source": [
    "timestamps"
   ]
  },
  {
   "cell_type": "code",
   "execution_count": 4,
   "id": "alternate-victory",
   "metadata": {
    "execution": {
     "iopub.execute_input": "2021-11-11T08:30:09.796173Z",
     "iopub.status.busy": "2021-11-11T08:30:09.794050Z",
     "iopub.status.idle": "2021-11-11T08:30:10.930665Z",
     "shell.execute_reply": "2021-11-11T08:30:10.931965Z"
    },
    "papermill": {
     "duration": 1.170448,
     "end_time": "2021-11-11T08:30:10.932392",
     "exception": false,
     "start_time": "2021-11-11T08:30:09.761944",
     "status": "completed"
    },
    "tags": []
   },
   "outputs": [],
   "source": [
    "df = pd.read_sql(\"select * from EBAY_TOP_BERLIN where record_time in (select distinct record_time from EBAY_TOP_BERLIN order by record_time desc limit 2)\", sqlite3.connect(\"UsedObjects.db\"))"
   ]
  },
  {
   "cell_type": "code",
   "execution_count": 5,
   "id": "popular-active",
   "metadata": {
    "execution": {
     "iopub.execute_input": "2021-11-11T08:30:11.002515Z",
     "iopub.status.busy": "2021-11-11T08:30:10.990447Z",
     "iopub.status.idle": "2021-11-11T08:30:11.018804Z",
     "shell.execute_reply": "2021-11-11T08:30:11.020038Z"
    },
    "papermill": {
     "duration": 0.067591,
     "end_time": "2021-11-11T08:30:11.020442",
     "exception": false,
     "start_time": "2021-11-11T08:30:10.952851",
     "status": "completed"
    },
    "tags": []
   },
   "outputs": [],
   "source": [
    "df_pivot = df.pivot_table(index=\"PRODUCT\", columns = \"RECORD_TIME\", values = \"LISTING_COUNT\")"
   ]
  },
  {
   "cell_type": "code",
   "execution_count": 6,
   "id": "union-huntington",
   "metadata": {
    "execution": {
     "iopub.execute_input": "2021-11-11T08:30:11.081862Z",
     "iopub.status.busy": "2021-11-11T08:30:11.079353Z",
     "iopub.status.idle": "2021-11-11T08:30:11.085511Z",
     "shell.execute_reply": "2021-11-11T08:30:11.086872Z"
    },
    "papermill": {
     "duration": 0.044337,
     "end_time": "2021-11-11T08:30:11.087338",
     "exception": false,
     "start_time": "2021-11-11T08:30:11.043001",
     "status": "completed"
    },
    "tags": []
   },
   "outputs": [],
   "source": [
    "df_pivot.columns = [\"stamp_1\", \"stamp_2\"]\n",
    "df_pivot_diff = df_pivot.diff(axis=1)"
   ]
  },
  {
   "cell_type": "code",
   "execution_count": 7,
   "id": "fifth-motion",
   "metadata": {
    "execution": {
     "iopub.execute_input": "2021-11-11T08:30:11.145384Z",
     "iopub.status.busy": "2021-11-11T08:30:11.142789Z",
     "iopub.status.idle": "2021-11-11T08:30:12.905177Z",
     "shell.execute_reply": "2021-11-11T08:30:12.907525Z"
    },
    "papermill": {
     "duration": 1.800304,
     "end_time": "2021-11-11T08:30:12.908102",
     "exception": false,
     "start_time": "2021-11-11T08:30:11.107798",
     "status": "completed"
    },
    "tags": []
   },
   "outputs": [
    {
     "data": {
      "text/plain": [
       "<AxesSubplot:ylabel='PRODUCT'>"
      ]
     },
     "execution_count": 7,
     "metadata": {},
     "output_type": "execute_result"
    },
    {
     "data": {
      "image/png": "[encoded data removed]",
      "text/plain": [
       "<Figure size 432x288 with 1 Axes>"
      ]
     },
     "metadata": {
      "needs_background": "light"
     },
     "output_type": "display_data"
    }
   ],
   "source": [
    "df_pivot_diff.sort_values(\"stamp_2\", ascending = False)[\"stamp_2\"].head(10).plot.barh()"
   ]
  },
  {
   "cell_type": "code",
   "execution_count": null,
   "id": "extra-executive",
   "metadata": {
    "papermill": {
     "duration": 0.023634,
     "end_time": "2021-11-11T08:30:12.957911",
     "exception": false,
     "start_time": "2021-11-11T08:30:12.934277",
     "status": "completed"
    },
    "tags": []
   },
   "outputs": [],
   "source": []
  }
 ],
 "metadata": {
  "kernelspec": {
   "display_name": "Python 3",
   "language": "python",
   "name": "python3"
  },
  "language_info": {
   "codemirror_mode": {
    "name": "ipython",
    "version": 3
   },
   "file_extension": ".py",
   "mimetype": "text/x-python",
   "name": "python",
   "nbconvert_exporter": "python",
   "pygments_lexer": "ipython3",
   "version": "3.9.5"
  },
  "papermill": {
   "default_parameters": {},
   "duration": 9.191974,
   "end_time": "2021-11-11T08:30:13.701918",
   "environment_variables": {},
   "exception": null,
   "input_path": "eBay_Overview.ipynb",
   "output_path": "eBay_Overview.ipynb",
   "parameters": {},
   "start_time": "2021-11-11T08:30:04.509944",
   "version": "2.3.3"
  }
 },
 "nbformat": 4,
 "nbformat_minor": 5
}