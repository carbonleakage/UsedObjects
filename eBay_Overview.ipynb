{
 "cells": [
  {
   "cell_type": "code",
   "execution_count": 1,
   "id": "reverse-picking",
   "metadata": {
    "execution": {
     "iopub.execute_input": "2021-08-24T15:00:06.762504Z",
     "iopub.status.busy": "2021-08-24T15:00:06.760473Z",
     "iopub.status.idle": "2021-08-24T15:00:07.566554Z",
     "shell.execute_reply": "2021-08-24T15:00:07.567822Z"
    },
    "papermill": {
     "duration": 0.857578,
     "end_time": "2021-08-24T15:00:07.568434",
     "exception": false,
     "start_time": "2021-08-24T15:00:06.710856",
     "status": "completed"
    },
    "tags": []
   },
   "outputs": [],
   "source": [
    "import pandas as pd\n",
    "import sqlite3"
   ]
  },
  {
   "cell_type": "code",
   "execution_count": 2,
   "id": "innovative-syndrome",
   "metadata": {
    "execution": {
     "iopub.execute_input": "2021-08-24T15:00:07.618851Z",
     "iopub.status.busy": "2021-08-24T15:00:07.616905Z",
     "iopub.status.idle": "2021-08-24T15:00:07.734321Z",
     "shell.execute_reply": "2021-08-24T15:00:07.735531Z"
    },
    "papermill": {
     "duration": 0.146872,
     "end_time": "2021-08-24T15:00:07.735927",
     "exception": false,
     "start_time": "2021-08-24T15:00:07.589055",
     "status": "completed"
    },
    "tags": []
   },
   "outputs": [],
   "source": [
    "timestamps = pd.read_sql(\"select distinct record_time from EBAY_TOP_BERLIN order by record_time desc limit 2\", sqlite3.connect(\"UsedObjects.db\"))"
   ]
  },
  {
   "cell_type": "code",
   "execution_count": 3,
   "id": "periodic-identification",
   "metadata": {
    "execution": {
     "iopub.execute_input": "2021-08-24T15:00:07.799545Z",
     "iopub.status.busy": "2021-08-24T15:00:07.797462Z",
     "iopub.status.idle": "2021-08-24T15:00:07.817081Z",
     "shell.execute_reply": "2021-08-24T15:00:07.818399Z"
    },
    "papermill": {
     "duration": 0.063542,
     "end_time": "2021-08-24T15:00:07.818823",
     "exception": false,
     "start_time": "2021-08-24T15:00:07.755281",
     "status": "completed"
    },
    "tags": []
   },
   "outputs": [
    {
     "data": {
      "text/html": [
       "<div>\n",
       "<style scoped>\n",
       "    .dataframe tbody tr th:only-of-type {\n",
       "        vertical-align: middle;\n",
       "    }\n",
       "\n",
       "    .dataframe tbody tr th {\n",
       "        vertical-align: top;\n",
       "    }\n",
       "\n",
       "    .dataframe thead th {\n",
       "        text-align: right;\n",
       "    }\n",
       "</style>\n",
       "<table border=\"1\" class=\"dataframe\">\n",
       "  <thead>\n",
       "    <tr style=\"text-align: right;\">\n",
       "      <th></th>\n",
       "      <th>RECORD_TIME</th>\n",
       "    </tr>\n",
       "  </thead>\n",
       "  <tbody>\n",
       "    <tr>\n",
       "      <th>0</th>\n",
       "      <td>2021-08-24 17:00</td>\n",
       "    </tr>\n",
       "    <tr>\n",
       "      <th>1</th>\n",
       "      <td>2021-08-24 16:30</td>\n",
       "    </tr>\n",
       "  </tbody>\n",
       "</table>\n",
       "</div>"
      ],
      "text/plain": [
       "        RECORD_TIME\n",
       "0  2021-08-24 17:00\n",
       "1  2021-08-24 16:30"
      ]
     },
     "execution_count": 3,
     "metadata": {},
     "output_type": "execute_result"
    }
   ],
   "source": [
    "timestamps"
   ]
  },
  {
   "cell_type": "code",
   "execution_count": 4,
   "id": "alternate-victory",
   "metadata": {
    "execution": {
     "iopub.execute_input": "2021-08-24T15:00:07.869742Z",
     "iopub.status.busy": "2021-08-24T15:00:07.867936Z",
     "iopub.status.idle": "2021-08-24T15:00:08.050058Z",
     "shell.execute_reply": "2021-08-24T15:00:08.051516Z"
    },
    "papermill": {
     "duration": 0.212181,
     "end_time": "2021-08-24T15:00:08.051953",
     "exception": false,
     "start_time": "2021-08-24T15:00:07.839772",
     "status": "completed"
    },
    "tags": []
   },
   "outputs": [],
   "source": [
    "df = pd.read_sql(\"select * from EBAY_TOP_BERLIN where record_time in (select distinct record_time from EBAY_TOP_BERLIN order by record_time desc limit 2)\", sqlite3.connect(\"UsedObjects.db\"))"
   ]
  },
  {
   "cell_type": "code",
   "execution_count": 5,
   "id": "popular-active",
   "metadata": {
    "execution": {
     "iopub.execute_input": "2021-08-24T15:00:08.122777Z",
     "iopub.status.busy": "2021-08-24T15:00:08.111002Z",
     "iopub.status.idle": "2021-08-24T15:00:08.139631Z",
     "shell.execute_reply": "2021-08-24T15:00:08.141099Z"
    },
    "papermill": {
     "duration": 0.06874,
     "end_time": "2021-08-24T15:00:08.141559",
     "exception": false,
     "start_time": "2021-08-24T15:00:08.072819",
     "status": "completed"
    },
    "tags": []
   },
   "outputs": [],
   "source": [
    "df_pivot = df.pivot_table(index=\"PRODUCT\", columns = \"RECORD_TIME\", values = \"LISTING_COUNT\")"
   ]
  },
  {
   "cell_type": "code",
   "execution_count": 6,
   "id": "union-huntington",
   "metadata": {
    "execution": {
     "iopub.execute_input": "2021-08-24T15:00:08.205133Z",
     "iopub.status.busy": "2021-08-24T15:00:08.203183Z",
     "iopub.status.idle": "2021-08-24T15:00:08.209712Z",
     "shell.execute_reply": "2021-08-24T15:00:08.208405Z"
    },
    "papermill": {
     "duration": 0.046102,
     "end_time": "2021-08-24T15:00:08.210098",
     "exception": false,
     "start_time": "2021-08-24T15:00:08.163996",
     "status": "completed"
    },
    "tags": []
   },
   "outputs": [],
   "source": [
    "df_pivot.columns = [\"stamp_1\", \"stamp_2\"]\n",
    "df_pivot_diff = df_pivot.diff(axis=1)"
   ]
  },
  {
   "cell_type": "code",
   "execution_count": 7,
   "id": "fifth-motion",
   "metadata": {
    "execution": {
     "iopub.execute_input": "2021-08-24T15:00:08.265115Z",
     "iopub.status.busy": "2021-08-24T15:00:08.262717Z",
     "iopub.status.idle": "2021-08-24T15:00:09.726361Z",
     "shell.execute_reply": "2021-08-24T15:00:09.727874Z"
    },
    "papermill": {
     "duration": 1.496769,
     "end_time": "2021-08-24T15:00:09.728319",
     "exception": false,
     "start_time": "2021-08-24T15:00:08.231550",
     "status": "completed"
    },
    "tags": []
   },
   "outputs": [
    {
     "data": {
      "text/plain": [
       "<AxesSubplot:ylabel='PRODUCT'>"
      ]
     },
     "execution_count": 7,
     "metadata": {},
     "output_type": "execute_result"
    },
    {
     "data": {
      "image/png": "[encoded data removed]",
      "text/plain": [
       "<Figure size 432x288 with 1 Axes>"
      ]
     },
     "metadata": {
      "needs_background": "light"
     },
     "output_type": "display_data"
    }
   ],
   "source": [
    "df_pivot_diff.sort_values(\"stamp_2\", ascending = False)[\"stamp_2\"].head(10).plot.barh()"
   ]
  },
  {
   "cell_type": "code",
   "execution_count": null,
   "id": "extra-executive",
   "metadata": {
    "papermill": {
     "duration": 0.022095,
     "end_time": "2021-08-24T15:00:09.774745",
     "exception": false,
     "start_time": "2021-08-24T15:00:09.752650",
     "status": "completed"
    },
    "tags": []
   },
   "outputs": [],
   "source": []
  }
 ],
 "metadata": {
  "kernelspec": {
   "display_name": "Python 3",
   "language": "python",
   "name": "python3"
  },
  "language_info": {
   "codemirror_mode": {
    "name": "ipython",
    "version": 3
   },
   "file_extension": ".py",
   "mimetype": "text/x-python",
   "name": "python",
   "nbconvert_exporter": "python",
   "pygments_lexer": "ipython3",
   "version": "3.9.5"
  },
  "papermill": {
   "default_parameters": {},
   "duration": 6.826074,
   "end_time": "2021-08-24T15:00:11.124473",
   "environment_variables": {},
   "exception": null,
   "input_path": "eBay_Overview.ipynb",
   "output_path": "eBay_Overview.ipynb",
   "parameters": {},
   "start_time": "2021-08-24T15:00:04.298399",
   "version": "2.3.3"
  }
 },
 "nbformat": 4,
 "nbformat_minor": 5
}