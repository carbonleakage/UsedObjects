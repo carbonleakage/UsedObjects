{
 "cells": [
  {
   "cell_type": "code",
   "execution_count": 1,
   "id": "reverse-picking",
   "metadata": {
    "execution": {
     "iopub.execute_input": "2021-11-18T23:30:07.380221Z",
     "iopub.status.busy": "2021-11-18T23:30:07.373605Z",
     "iopub.status.idle": "2021-11-18T23:30:08.311756Z",
     "shell.execute_reply": "2021-11-18T23:30:08.314525Z"
    },
    "papermill": {
     "duration": 0.98897,
     "end_time": "2021-11-18T23:30:08.315321",
     "exception": false,
     "start_time": "2021-11-18T23:30:07.326351",
     "status": "completed"
    },
    "tags": []
   },
   "outputs": [],
   "source": [
    "import pandas as pd\n",
    "import sqlite3"
   ]
  },
  {
   "cell_type": "code",
   "execution_count": 2,
   "id": "innovative-syndrome",
   "metadata": {
    "execution": {
     "iopub.execute_input": "2021-11-18T23:30:08.374317Z",
     "iopub.status.busy": "2021-11-18T23:30:08.371510Z",
     "iopub.status.idle": "2021-11-18T23:30:09.219020Z",
     "shell.execute_reply": "2021-11-18T23:30:09.217484Z"
    },
    "papermill": {
     "duration": 0.881242,
     "end_time": "2021-11-18T23:30:09.219461",
     "exception": false,
     "start_time": "2021-11-18T23:30:08.338219",
     "status": "completed"
    },
    "tags": []
   },
   "outputs": [],
   "source": [
    "timestamps = pd.read_sql(\"select distinct record_time from EBAY_TOP_BERLIN order by record_time desc limit 2\", sqlite3.connect(\"UsedObjects.db\"))"
   ]
  },
  {
   "cell_type": "code",
   "execution_count": 3,
   "id": "periodic-identification",
   "metadata": {
    "execution": {
     "iopub.execute_input": "2021-11-18T23:30:09.293456Z",
     "iopub.status.busy": "2021-11-18T23:30:09.291079Z",
     "iopub.status.idle": "2021-11-18T23:30:09.313452Z",
     "shell.execute_reply": "2021-11-18T23:30:09.314929Z"
    },
    "papermill": {
     "duration": 0.074805,
     "end_time": "2021-11-18T23:30:09.315424",
     "exception": false,
     "start_time": "2021-11-18T23:30:09.240619",
     "status": "completed"
    },
    "tags": []
   },
   "outputs": [
    {
     "data": {
      "text/html": [
       "<div>\n",
       "<style scoped>\n",
       "    .dataframe tbody tr th:only-of-type {\n",
       "        vertical-align: middle;\n",
       "    }\n",
       "\n",
       "    .dataframe tbody tr th {\n",
       "        vertical-align: top;\n",
       "    }\n",
       "\n",
       "    .dataframe thead th {\n",
       "        text-align: right;\n",
       "    }\n",
       "</style>\n",
       "<table border=\"1\" class=\"dataframe\">\n",
       "  <thead>\n",
       "    <tr style=\"text-align: right;\">\n",
       "      <th></th>\n",
       "      <th>RECORD_TIME</th>\n",
       "    </tr>\n",
       "  </thead>\n",
       "  <tbody>\n",
       "    <tr>\n",
       "      <th>0</th>\n",
       "      <td>2021-11-19 00:30</td>\n",
       "    </tr>\n",
       "    <tr>\n",
       "      <th>1</th>\n",
       "      <td>2021-11-19 00:00</td>\n",
       "    </tr>\n",
       "  </tbody>\n",
       "</table>\n",
       "</div>"
      ],
      "text/plain": [
       "        RECORD_TIME\n",
       "0  2021-11-19 00:30\n",
       "1  2021-11-19 00:00"
      ]
     },
     "execution_count": 3,
     "metadata": {},
     "output_type": "execute_result"
    }
   ],
   "source": [
    "timestamps"
   ]
  },
  {
   "cell_type": "code",
   "execution_count": 4,
   "id": "alternate-victory",
   "metadata": {
    "execution": {
     "iopub.execute_input": "2021-11-18T23:30:09.372831Z",
     "iopub.status.busy": "2021-11-18T23:30:09.369916Z",
     "iopub.status.idle": "2021-11-18T23:30:10.586571Z",
     "shell.execute_reply": "2021-11-18T23:30:10.587805Z"
    },
    "papermill": {
     "duration": 1.251062,
     "end_time": "2021-11-18T23:30:10.588205",
     "exception": false,
     "start_time": "2021-11-18T23:30:09.337143",
     "status": "completed"
    },
    "tags": []
   },
   "outputs": [],
   "source": [
    "df = pd.read_sql(\"select * from EBAY_TOP_BERLIN where record_time in (select distinct record_time from EBAY_TOP_BERLIN order by record_time desc limit 2)\", sqlite3.connect(\"UsedObjects.db\"))"
   ]
  },
  {
   "cell_type": "code",
   "execution_count": 5,
   "id": "popular-active",
   "metadata": {
    "execution": {
     "iopub.execute_input": "2021-11-18T23:30:10.654541Z",
     "iopub.status.busy": "2021-11-18T23:30:10.652222Z",
     "iopub.status.idle": "2021-11-18T23:30:10.684585Z",
     "shell.execute_reply": "2021-11-18T23:30:10.686180Z"
    },
    "papermill": {
     "duration": 0.074435,
     "end_time": "2021-11-18T23:30:10.686659",
     "exception": false,
     "start_time": "2021-11-18T23:30:10.612224",
     "status": "completed"
    },
    "tags": []
   },
   "outputs": [],
   "source": [
    "df_pivot = df.pivot_table(index=\"PRODUCT\", columns = \"RECORD_TIME\", values = \"LISTING_COUNT\")"
   ]
  },
  {
   "cell_type": "code",
   "execution_count": 6,
   "id": "union-huntington",
   "metadata": {
    "execution": {
     "iopub.execute_input": "2021-11-18T23:30:10.741885Z",
     "iopub.status.busy": "2021-11-18T23:30:10.739954Z",
     "iopub.status.idle": "2021-11-18T23:30:10.756418Z",
     "shell.execute_reply": "2021-11-18T23:30:10.758076Z"
    },
    "papermill": {
     "duration": 0.050604,
     "end_time": "2021-11-18T23:30:10.758485",
     "exception": false,
     "start_time": "2021-11-18T23:30:10.707881",
     "status": "completed"
    },
    "tags": []
   },
   "outputs": [],
   "source": [
    "df_pivot.columns = [\"stamp_1\", \"stamp_2\"]\n",
    "df_pivot_diff = df_pivot.diff(axis=1)"
   ]
  },
  {
   "cell_type": "code",
   "execution_count": 7,
   "id": "fifth-motion",
   "metadata": {
    "execution": {
     "iopub.execute_input": "2021-11-18T23:30:10.829421Z",
     "iopub.status.busy": "2021-11-18T23:30:10.826804Z",
     "iopub.status.idle": "2021-11-18T23:30:12.576598Z",
     "shell.execute_reply": "2021-11-18T23:30:12.578190Z"
    },
    "papermill": {
     "duration": 1.787624,
     "end_time": "2021-11-18T23:30:12.578663",
     "exception": false,
     "start_time": "2021-11-18T23:30:10.791039",
     "status": "completed"
    },
    "tags": []
   },
   "outputs": [
    {
     "data": {
      "text/plain": [
       "<AxesSubplot:ylabel='PRODUCT'>"
      ]
     },
     "execution_count": 7,
     "metadata": {},
     "output_type": "execute_result"
    },
    {
     "data": {
      "image/png": "[encoded data removed]",
      "text/plain": [
       "<Figure size 432x288 with 1 Axes>"
      ]
     },
     "metadata": {
      "needs_background": "light"
     },
     "output_type": "display_data"
    }
   ],
   "source": [
    "df_pivot_diff.sort_values(\"stamp_2\", ascending = False)[\"stamp_2\"].head(10).plot.barh()"
   ]
  },
  {
   "cell_type": "code",
   "execution_count": null,
   "id": "extra-executive",
   "metadata": {
    "papermill": {
     "duration": 0.024419,
     "end_time": "2021-11-18T23:30:12.628379",
     "exception": false,
     "start_time": "2021-11-18T23:30:12.603960",
     "status": "completed"
    },
    "tags": []
   },
   "outputs": [],
   "source": []
  }
 ],
 "metadata": {
  "kernelspec": {
   "display_name": "Python 3",
   "language": "python",
   "name": "python3"
  },
  "language_info": {
   "codemirror_mode": {
    "name": "ipython",
    "version": 3
   },
   "file_extension": ".py",
   "mimetype": "text/x-python",
   "name": "python",
   "nbconvert_exporter": "python",
   "pygments_lexer": "ipython3",
   "version": "3.9.5"
  },
  "papermill": {
   "default_parameters": {},
   "duration": 10.996387,
   "end_time": "2021-11-18T23:30:15.546981",
   "environment_variables": {},
   "exception": null,
   "input_path": "eBay_Overview.ipynb",
   "output_path": "eBay_Overview.ipynb",
   "parameters": {},
   "start_time": "2021-11-18T23:30:04.550594",
   "version": "2.3.3"
  }
 },
 "nbformat": 4,
 "nbformat_minor": 5
}