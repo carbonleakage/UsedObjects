{
 "cells": [
  {
   "cell_type": "code",
   "execution_count": 1,
   "id": "reverse-picking",
   "metadata": {
    "execution": {
     "iopub.execute_input": "2021-09-30T00:30:07.217096Z",
     "iopub.status.busy": "2021-09-30T00:30:07.215171Z",
     "iopub.status.idle": "2021-09-30T00:30:08.022234Z",
     "shell.execute_reply": "2021-09-30T00:30:08.023559Z"
    },
    "papermill": {
     "duration": 0.860719,
     "end_time": "2021-09-30T00:30:08.024184",
     "exception": false,
     "start_time": "2021-09-30T00:30:07.163465",
     "status": "completed"
    },
    "tags": []
   },
   "outputs": [],
   "source": [
    "import pandas as pd\n",
    "import sqlite3"
   ]
  },
  {
   "cell_type": "code",
   "execution_count": 2,
   "id": "innovative-syndrome",
   "metadata": {
    "execution": {
     "iopub.execute_input": "2021-09-30T00:30:08.076943Z",
     "iopub.status.busy": "2021-09-30T00:30:08.074697Z",
     "iopub.status.idle": "2021-09-30T00:30:08.483694Z",
     "shell.execute_reply": "2021-09-30T00:30:08.485084Z"
    },
    "papermill": {
     "duration": 0.438791,
     "end_time": "2021-09-30T00:30:08.485522",
     "exception": false,
     "start_time": "2021-09-30T00:30:08.046731",
     "status": "completed"
    },
    "tags": []
   },
   "outputs": [],
   "source": [
    "timestamps = pd.read_sql(\"select distinct record_time from EBAY_TOP_BERLIN order by record_time desc limit 2\", sqlite3.connect(\"UsedObjects.db\"))"
   ]
  },
  {
   "cell_type": "code",
   "execution_count": 3,
   "id": "periodic-identification",
   "metadata": {
    "execution": {
     "iopub.execute_input": "2021-09-30T00:30:08.553017Z",
     "iopub.status.busy": "2021-09-30T00:30:08.551009Z",
     "iopub.status.idle": "2021-09-30T00:30:08.570906Z",
     "shell.execute_reply": "2021-09-30T00:30:08.572546Z"
    },
    "papermill": {
     "duration": 0.06735,
     "end_time": "2021-09-30T00:30:08.573056",
     "exception": false,
     "start_time": "2021-09-30T00:30:08.505706",
     "status": "completed"
    },
    "tags": []
   },
   "outputs": [
    {
     "data": {
      "text/html": [
       "<div>\n",
       "<style scoped>\n",
       "    .dataframe tbody tr th:only-of-type {\n",
       "        vertical-align: middle;\n",
       "    }\n",
       "\n",
       "    .dataframe tbody tr th {\n",
       "        vertical-align: top;\n",
       "    }\n",
       "\n",
       "    .dataframe thead th {\n",
       "        text-align: right;\n",
       "    }\n",
       "</style>\n",
       "<table border=\"1\" class=\"dataframe\">\n",
       "  <thead>\n",
       "    <tr style=\"text-align: right;\">\n",
       "      <th></th>\n",
       "      <th>RECORD_TIME</th>\n",
       "    </tr>\n",
       "  </thead>\n",
       "  <tbody>\n",
       "    <tr>\n",
       "      <th>0</th>\n",
       "      <td>2021-09-30 02:30</td>\n",
       "    </tr>\n",
       "    <tr>\n",
       "      <th>1</th>\n",
       "      <td>2021-09-30 02:00</td>\n",
       "    </tr>\n",
       "  </tbody>\n",
       "</table>\n",
       "</div>"
      ],
      "text/plain": [
       "        RECORD_TIME\n",
       "0  2021-09-30 02:30\n",
       "1  2021-09-30 02:00"
      ]
     },
     "execution_count": 3,
     "metadata": {},
     "output_type": "execute_result"
    }
   ],
   "source": [
    "timestamps"
   ]
  },
  {
   "cell_type": "code",
   "execution_count": 4,
   "id": "alternate-victory",
   "metadata": {
    "execution": {
     "iopub.execute_input": "2021-09-30T00:30:08.625939Z",
     "iopub.status.busy": "2021-09-30T00:30:08.623655Z",
     "iopub.status.idle": "2021-09-30T00:30:09.235697Z",
     "shell.execute_reply": "2021-09-30T00:30:09.237151Z"
    },
    "papermill": {
     "duration": 0.642581,
     "end_time": "2021-09-30T00:30:09.237594",
     "exception": false,
     "start_time": "2021-09-30T00:30:08.595013",
     "status": "completed"
    },
    "tags": []
   },
   "outputs": [],
   "source": [
    "df = pd.read_sql(\"select * from EBAY_TOP_BERLIN where record_time in (select distinct record_time from EBAY_TOP_BERLIN order by record_time desc limit 2)\", sqlite3.connect(\"UsedObjects.db\"))"
   ]
  },
  {
   "cell_type": "code",
   "execution_count": 5,
   "id": "popular-active",
   "metadata": {
    "execution": {
     "iopub.execute_input": "2021-09-30T00:30:09.322738Z",
     "iopub.status.busy": "2021-09-30T00:30:09.310655Z",
     "iopub.status.idle": "2021-09-30T00:30:09.338632Z",
     "shell.execute_reply": "2021-09-30T00:30:09.339996Z"
    },
    "papermill": {
     "duration": 0.073747,
     "end_time": "2021-09-30T00:30:09.340410",
     "exception": false,
     "start_time": "2021-09-30T00:30:09.266663",
     "status": "completed"
    },
    "tags": []
   },
   "outputs": [],
   "source": [
    "df_pivot = df.pivot_table(index=\"PRODUCT\", columns = \"RECORD_TIME\", values = \"LISTING_COUNT\")"
   ]
  },
  {
   "cell_type": "code",
   "execution_count": 6,
   "id": "union-huntington",
   "metadata": {
    "execution": {
     "iopub.execute_input": "2021-09-30T00:30:09.398727Z",
     "iopub.status.busy": "2021-09-30T00:30:09.396463Z",
     "iopub.status.idle": "2021-09-30T00:30:09.402352Z",
     "shell.execute_reply": "2021-09-30T00:30:09.403690Z"
    },
    "papermill": {
     "duration": 0.041919,
     "end_time": "2021-09-30T00:30:09.404109",
     "exception": false,
     "start_time": "2021-09-30T00:30:09.362190",
     "status": "completed"
    },
    "tags": []
   },
   "outputs": [],
   "source": [
    "df_pivot.columns = [\"stamp_1\", \"stamp_2\"]\n",
    "df_pivot_diff = df_pivot.diff(axis=1)"
   ]
  },
  {
   "cell_type": "code",
   "execution_count": 7,
   "id": "fifth-motion",
   "metadata": {
    "execution": {
     "iopub.execute_input": "2021-09-30T00:30:09.457989Z",
     "iopub.status.busy": "2021-09-30T00:30:09.455847Z",
     "iopub.status.idle": "2021-09-30T00:30:10.948126Z",
     "shell.execute_reply": "2021-09-30T00:30:10.949410Z"
    },
    "papermill": {
     "duration": 1.524908,
     "end_time": "2021-09-30T00:30:10.949824",
     "exception": false,
     "start_time": "2021-09-30T00:30:09.424916",
     "status": "completed"
    },
    "tags": []
   },
   "outputs": [
    {
     "data": {
      "text/plain": [
       "<AxesSubplot:ylabel='PRODUCT'>"
      ]
     },
     "execution_count": 7,
     "metadata": {},
     "output_type": "execute_result"
    },
    {
     "data": {
      "image/png": "[encoded data removed]",
      "text/plain": [
       "<Figure size 432x288 with 1 Axes>"
      ]
     },
     "metadata": {
      "needs_background": "light"
     },
     "output_type": "display_data"
    }
   ],
   "source": [
    "df_pivot_diff.sort_values(\"stamp_2\", ascending = False)[\"stamp_2\"].head(10).plot.barh()"
   ]
  },
  {
   "cell_type": "code",
   "execution_count": null,
   "id": "extra-executive",
   "metadata": {
    "papermill": {
     "duration": 0.022392,
     "end_time": "2021-09-30T00:30:10.995862",
     "exception": false,
     "start_time": "2021-09-30T00:30:10.973470",
     "status": "completed"
    },
    "tags": []
   },
   "outputs": [],
   "source": []
  }
 ],
 "metadata": {
  "kernelspec": {
   "display_name": "Python 3",
   "language": "python",
   "name": "python3"
  },
  "language_info": {
   "codemirror_mode": {
    "name": "ipython",
    "version": 3
   },
   "file_extension": ".py",
   "mimetype": "text/x-python",
   "name": "python",
   "nbconvert_exporter": "python",
   "pygments_lexer": "ipython3",
   "version": "3.9.5"
  },
  "papermill": {
   "default_parameters": {},
   "duration": 7.831726,
   "end_time": "2021-09-30T00:30:12.583172",
   "environment_variables": {},
   "exception": null,
   "input_path": "eBay_Overview.ipynb",
   "output_path": "eBay_Overview.ipynb",
   "parameters": {},
   "start_time": "2021-09-30T00:30:04.751446",
   "version": "2.3.3"
  }
 },
 "nbformat": 4,
 "nbformat_minor": 5
}