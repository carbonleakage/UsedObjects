{
 "cells": [
  {
   "cell_type": "code",
   "execution_count": 1,
   "id": "reverse-picking",
   "metadata": {
    "execution": {
     "iopub.execute_input": "2021-12-03T21:30:07.796245Z",
     "iopub.status.busy": "2021-12-03T21:30:07.793860Z",
     "iopub.status.idle": "2021-12-03T21:30:08.743581Z",
     "shell.execute_reply": "2021-12-03T21:30:08.745289Z"
    },
    "papermill": {
     "duration": 1.000211,
     "end_time": "2021-12-03T21:30:08.746059",
     "exception": false,
     "start_time": "2021-12-03T21:30:07.745848",
     "status": "completed"
    },
    "tags": []
   },
   "outputs": [],
   "source": [
    "import pandas as pd\n",
    "import sqlite3"
   ]
  },
  {
   "cell_type": "code",
   "execution_count": 2,
   "id": "innovative-syndrome",
   "metadata": {
    "execution": {
     "iopub.execute_input": "2021-12-03T21:30:08.865773Z",
     "iopub.status.busy": "2021-12-03T21:30:08.863277Z",
     "iopub.status.idle": "2021-12-03T21:30:09.854602Z",
     "shell.execute_reply": "2021-12-03T21:30:09.856985Z"
    },
    "papermill": {
     "duration": 1.025997,
     "end_time": "2021-12-03T21:30:09.857498",
     "exception": false,
     "start_time": "2021-12-03T21:30:08.831501",
     "status": "completed"
    },
    "tags": []
   },
   "outputs": [],
   "source": [
    "timestamps = pd.read_sql(\"select distinct record_time from EBAY_TOP_BERLIN order by record_time desc limit 2\", sqlite3.connect(\"UsedObjects.db\"))"
   ]
  },
  {
   "cell_type": "code",
   "execution_count": 3,
   "id": "periodic-identification",
   "metadata": {
    "execution": {
     "iopub.execute_input": "2021-12-03T21:30:09.929685Z",
     "iopub.status.busy": "2021-12-03T21:30:09.926758Z",
     "iopub.status.idle": "2021-12-03T21:30:09.951223Z",
     "shell.execute_reply": "2021-12-03T21:30:09.953061Z"
    },
    "papermill": {
     "duration": 0.073203,
     "end_time": "2021-12-03T21:30:09.953605",
     "exception": false,
     "start_time": "2021-12-03T21:30:09.880402",
     "status": "completed"
    },
    "tags": []
   },
   "outputs": [
    {
     "data": {
      "text/html": [
       "<div>\n",
       "<style scoped>\n",
       "    .dataframe tbody tr th:only-of-type {\n",
       "        vertical-align: middle;\n",
       "    }\n",
       "\n",
       "    .dataframe tbody tr th {\n",
       "        vertical-align: top;\n",
       "    }\n",
       "\n",
       "    .dataframe thead th {\n",
       "        text-align: right;\n",
       "    }\n",
       "</style>\n",
       "<table border=\"1\" class=\"dataframe\">\n",
       "  <thead>\n",
       "    <tr style=\"text-align: right;\">\n",
       "      <th></th>\n",
       "      <th>RECORD_TIME</th>\n",
       "    </tr>\n",
       "  </thead>\n",
       "  <tbody>\n",
       "    <tr>\n",
       "      <th>0</th>\n",
       "      <td>2021-12-03 22:30</td>\n",
       "    </tr>\n",
       "    <tr>\n",
       "      <th>1</th>\n",
       "      <td>2021-12-03 22:00</td>\n",
       "    </tr>\n",
       "  </tbody>\n",
       "</table>\n",
       "</div>"
      ],
      "text/plain": [
       "        RECORD_TIME\n",
       "0  2021-12-03 22:30\n",
       "1  2021-12-03 22:00"
      ]
     },
     "execution_count": 3,
     "metadata": {},
     "output_type": "execute_result"
    }
   ],
   "source": [
    "timestamps"
   ]
  },
  {
   "cell_type": "code",
   "execution_count": 4,
   "id": "alternate-victory",
   "metadata": {
    "execution": {
     "iopub.execute_input": "2021-12-03T21:30:10.006344Z",
     "iopub.status.busy": "2021-12-03T21:30:10.004372Z",
     "iopub.status.idle": "2021-12-03T21:30:11.469719Z",
     "shell.execute_reply": "2021-12-03T21:30:11.471571Z"
    },
    "papermill": {
     "duration": 1.498041,
     "end_time": "2021-12-03T21:30:11.472041",
     "exception": false,
     "start_time": "2021-12-03T21:30:09.974000",
     "status": "completed"
    },
    "tags": []
   },
   "outputs": [],
   "source": [
    "df = pd.read_sql(\"select * from EBAY_TOP_BERLIN where record_time in (select distinct record_time from EBAY_TOP_BERLIN order by record_time desc limit 2)\", sqlite3.connect(\"UsedObjects.db\"))"
   ]
  },
  {
   "cell_type": "code",
   "execution_count": 5,
   "id": "popular-active",
   "metadata": {
    "execution": {
     "iopub.execute_input": "2021-12-03T21:30:11.546750Z",
     "iopub.status.busy": "2021-12-03T21:30:11.533427Z",
     "iopub.status.idle": "2021-12-03T21:30:11.564599Z",
     "shell.execute_reply": "2021-12-03T21:30:11.566067Z"
    },
    "papermill": {
     "duration": 0.074391,
     "end_time": "2021-12-03T21:30:11.566546",
     "exception": false,
     "start_time": "2021-12-03T21:30:11.492155",
     "status": "completed"
    },
    "tags": []
   },
   "outputs": [],
   "source": [
    "df_pivot = df.pivot_table(index=\"PRODUCT\", columns = \"RECORD_TIME\", values = \"LISTING_COUNT\")"
   ]
  },
  {
   "cell_type": "code",
   "execution_count": 6,
   "id": "union-huntington",
   "metadata": {
    "execution": {
     "iopub.execute_input": "2021-12-03T21:30:11.629629Z",
     "iopub.status.busy": "2021-12-03T21:30:11.627239Z",
     "iopub.status.idle": "2021-12-03T21:30:11.632388Z",
     "shell.execute_reply": "2021-12-03T21:30:11.634499Z"
    },
    "papermill": {
     "duration": 0.047431,
     "end_time": "2021-12-03T21:30:11.634998",
     "exception": false,
     "start_time": "2021-12-03T21:30:11.587567",
     "status": "completed"
    },
    "tags": []
   },
   "outputs": [],
   "source": [
    "df_pivot.columns = [\"stamp_1\", \"stamp_2\"]\n",
    "df_pivot_diff = df_pivot.diff(axis=1)"
   ]
  },
  {
   "cell_type": "code",
   "execution_count": 7,
   "id": "fifth-motion",
   "metadata": {
    "execution": {
     "iopub.execute_input": "2021-12-03T21:30:11.699298Z",
     "iopub.status.busy": "2021-12-03T21:30:11.696239Z",
     "iopub.status.idle": "2021-12-03T21:30:13.318357Z",
     "shell.execute_reply": "2021-12-03T21:30:13.319692Z"
    },
    "papermill": {
     "duration": 1.664005,
     "end_time": "2021-12-03T21:30:13.320114",
     "exception": false,
     "start_time": "2021-12-03T21:30:11.656109",
     "status": "completed"
    },
    "tags": []
   },
   "outputs": [
    {
     "data": {
      "text/plain": [
       "<AxesSubplot:ylabel='PRODUCT'>"
      ]
     },
     "execution_count": 7,
     "metadata": {},
     "output_type": "execute_result"
    },
    {
     "data": {
      "image/png": "[encoded data removed]",
      "text/plain": [
       "<Figure size 432x288 with 1 Axes>"
      ]
     },
     "metadata": {
      "needs_background": "light"
     },
     "output_type": "display_data"
    }
   ],
   "source": [
    "df_pivot_diff.sort_values(\"stamp_2\", ascending = False)[\"stamp_2\"].head(10).plot.barh()"
   ]
  },
  {
   "cell_type": "code",
   "execution_count": null,
   "id": "extra-executive",
   "metadata": {
    "papermill": {
     "duration": 0.021881,
     "end_time": "2021-12-03T21:30:13.366100",
     "exception": false,
     "start_time": "2021-12-03T21:30:13.344219",
     "status": "completed"
    },
    "tags": []
   },
   "outputs": [],
   "source": []
  }
 ],
 "metadata": {
  "kernelspec": {
   "display_name": "Python 3",
   "language": "python",
   "name": "python3"
  },
  "language_info": {
   "codemirror_mode": {
    "name": "ipython",
    "version": 3
   },
   "file_extension": ".py",
   "mimetype": "text/x-python",
   "name": "python",
   "nbconvert_exporter": "python",
   "pygments_lexer": "ipython3",
   "version": "3.9.5"
  },
  "papermill": {
   "default_parameters": {},
   "duration": 9.939917,
   "end_time": "2021-12-03T21:30:14.933020",
   "environment_variables": {},
   "exception": null,
   "input_path": "eBay_Overview.ipynb",
   "output_path": "eBay_Overview.ipynb",
   "parameters": {},
   "start_time": "2021-12-03T21:30:04.993103",
   "version": "2.3.3"
  }
 },
 "nbformat": 4,
 "nbformat_minor": 5
}