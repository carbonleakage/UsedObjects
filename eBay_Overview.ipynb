{
 "cells": [
  {
   "cell_type": "code",
   "execution_count": 1,
   "id": "reverse-picking",
   "metadata": {
    "execution": {
     "iopub.execute_input": "2021-10-05T18:00:07.517442Z",
     "iopub.status.busy": "2021-10-05T18:00:07.515513Z",
     "iopub.status.idle": "2021-10-05T18:00:08.322770Z",
     "shell.execute_reply": "2021-10-05T18:00:08.321232Z"
    },
    "papermill": {
     "duration": 0.858147,
     "end_time": "2021-10-05T18:00:08.323232",
     "exception": false,
     "start_time": "2021-10-05T18:00:07.465085",
     "status": "completed"
    },
    "tags": []
   },
   "outputs": [],
   "source": [
    "import pandas as pd\n",
    "import sqlite3"
   ]
  },
  {
   "cell_type": "code",
   "execution_count": 2,
   "id": "innovative-syndrome",
   "metadata": {
    "execution": {
     "iopub.execute_input": "2021-10-05T18:00:08.374725Z",
     "iopub.status.busy": "2021-10-05T18:00:08.372876Z",
     "iopub.status.idle": "2021-10-05T18:00:08.827849Z",
     "shell.execute_reply": "2021-10-05T18:00:08.829058Z"
    },
    "papermill": {
     "duration": 0.484272,
     "end_time": "2021-10-05T18:00:08.829448",
     "exception": false,
     "start_time": "2021-10-05T18:00:08.345176",
     "status": "completed"
    },
    "tags": []
   },
   "outputs": [],
   "source": [
    "timestamps = pd.read_sql(\"select distinct record_time from EBAY_TOP_BERLIN order by record_time desc limit 2\", sqlite3.connect(\"UsedObjects.db\"))"
   ]
  },
  {
   "cell_type": "code",
   "execution_count": 3,
   "id": "periodic-identification",
   "metadata": {
    "execution": {
     "iopub.execute_input": "2021-10-05T18:00:08.898084Z",
     "iopub.status.busy": "2021-10-05T18:00:08.896096Z",
     "iopub.status.idle": "2021-10-05T18:00:08.916074Z",
     "shell.execute_reply": "2021-10-05T18:00:08.917562Z"
    },
    "papermill": {
     "duration": 0.066227,
     "end_time": "2021-10-05T18:00:08.918068",
     "exception": false,
     "start_time": "2021-10-05T18:00:08.851841",
     "status": "completed"
    },
    "tags": []
   },
   "outputs": [
    {
     "data": {
      "text/html": [
       "<div>\n",
       "<style scoped>\n",
       "    .dataframe tbody tr th:only-of-type {\n",
       "        vertical-align: middle;\n",
       "    }\n",
       "\n",
       "    .dataframe tbody tr th {\n",
       "        vertical-align: top;\n",
       "    }\n",
       "\n",
       "    .dataframe thead th {\n",
       "        text-align: right;\n",
       "    }\n",
       "</style>\n",
       "<table border=\"1\" class=\"dataframe\">\n",
       "  <thead>\n",
       "    <tr style=\"text-align: right;\">\n",
       "      <th></th>\n",
       "      <th>RECORD_TIME</th>\n",
       "    </tr>\n",
       "  </thead>\n",
       "  <tbody>\n",
       "    <tr>\n",
       "      <th>0</th>\n",
       "      <td>2021-10-05 20:00</td>\n",
       "    </tr>\n",
       "    <tr>\n",
       "      <th>1</th>\n",
       "      <td>2021-10-05 19:30</td>\n",
       "    </tr>\n",
       "  </tbody>\n",
       "</table>\n",
       "</div>"
      ],
      "text/plain": [
       "        RECORD_TIME\n",
       "0  2021-10-05 20:00\n",
       "1  2021-10-05 19:30"
      ]
     },
     "execution_count": 3,
     "metadata": {},
     "output_type": "execute_result"
    }
   ],
   "source": [
    "timestamps"
   ]
  },
  {
   "cell_type": "code",
   "execution_count": 4,
   "id": "alternate-victory",
   "metadata": {
    "execution": {
     "iopub.execute_input": "2021-10-05T18:00:08.975521Z",
     "iopub.status.busy": "2021-10-05T18:00:08.973410Z",
     "iopub.status.idle": "2021-10-05T18:00:09.640301Z",
     "shell.execute_reply": "2021-10-05T18:00:09.641523Z"
    },
    "papermill": {
     "duration": 0.701954,
     "end_time": "2021-10-05T18:00:09.641916",
     "exception": false,
     "start_time": "2021-10-05T18:00:08.939962",
     "status": "completed"
    },
    "tags": []
   },
   "outputs": [],
   "source": [
    "df = pd.read_sql(\"select * from EBAY_TOP_BERLIN where record_time in (select distinct record_time from EBAY_TOP_BERLIN order by record_time desc limit 2)\", sqlite3.connect(\"UsedObjects.db\"))"
   ]
  },
  {
   "cell_type": "code",
   "execution_count": 5,
   "id": "popular-active",
   "metadata": {
    "execution": {
     "iopub.execute_input": "2021-10-05T18:00:09.715695Z",
     "iopub.status.busy": "2021-10-05T18:00:09.704499Z",
     "iopub.status.idle": "2021-10-05T18:00:09.731327Z",
     "shell.execute_reply": "2021-10-05T18:00:09.732557Z"
    },
    "papermill": {
     "duration": 0.068437,
     "end_time": "2021-10-05T18:00:09.732949",
     "exception": false,
     "start_time": "2021-10-05T18:00:09.664512",
     "status": "completed"
    },
    "tags": []
   },
   "outputs": [],
   "source": [
    "df_pivot = df.pivot_table(index=\"PRODUCT\", columns = \"RECORD_TIME\", values = \"LISTING_COUNT\")"
   ]
  },
  {
   "cell_type": "code",
   "execution_count": 6,
   "id": "union-huntington",
   "metadata": {
    "execution": {
     "iopub.execute_input": "2021-10-05T18:00:09.790538Z",
     "iopub.status.busy": "2021-10-05T18:00:09.788300Z",
     "iopub.status.idle": "2021-10-05T18:00:09.794318Z",
     "shell.execute_reply": "2021-10-05T18:00:09.795847Z"
    },
    "papermill": {
     "duration": 0.041933,
     "end_time": "2021-10-05T18:00:09.796341",
     "exception": false,
     "start_time": "2021-10-05T18:00:09.754408",
     "status": "completed"
    },
    "tags": []
   },
   "outputs": [],
   "source": [
    "df_pivot.columns = [\"stamp_1\", \"stamp_2\"]\n",
    "df_pivot_diff = df_pivot.diff(axis=1)"
   ]
  },
  {
   "cell_type": "code",
   "execution_count": 7,
   "id": "fifth-motion",
   "metadata": {
    "execution": {
     "iopub.execute_input": "2021-10-05T18:00:09.850460Z",
     "iopub.status.busy": "2021-10-05T18:00:09.848303Z",
     "iopub.status.idle": "2021-10-05T18:00:11.333218Z",
     "shell.execute_reply": "2021-10-05T18:00:11.334487Z"
    },
    "papermill": {
     "duration": 1.517787,
     "end_time": "2021-10-05T18:00:11.335078",
     "exception": false,
     "start_time": "2021-10-05T18:00:09.817291",
     "status": "completed"
    },
    "tags": []
   },
   "outputs": [
    {
     "data": {
      "text/plain": [
       "<AxesSubplot:ylabel='PRODUCT'>"
      ]
     },
     "execution_count": 7,
     "metadata": {},
     "output_type": "execute_result"
    },
    {
     "data": {
      "image/png": "[encoded data removed]",
      "text/plain": [
       "<Figure size 432x288 with 1 Axes>"
      ]
     },
     "metadata": {
      "needs_background": "light"
     },
     "output_type": "display_data"
    }
   ],
   "source": [
    "df_pivot_diff.sort_values(\"stamp_2\", ascending = False)[\"stamp_2\"].head(10).plot.barh()"
   ]
  },
  {
   "cell_type": "code",
   "execution_count": null,
   "id": "extra-executive",
   "metadata": {
    "papermill": {
     "duration": 0.022236,
     "end_time": "2021-10-05T18:00:11.383136",
     "exception": false,
     "start_time": "2021-10-05T18:00:11.360900",
     "status": "completed"
    },
    "tags": []
   },
   "outputs": [],
   "source": []
  }
 ],
 "metadata": {
  "kernelspec": {
   "display_name": "Python 3",
   "language": "python",
   "name": "python3"
  },
  "language_info": {
   "codemirror_mode": {
    "name": "ipython",
    "version": 3
   },
   "file_extension": ".py",
   "mimetype": "text/x-python",
   "name": "python",
   "nbconvert_exporter": "python",
   "pygments_lexer": "ipython3",
   "version": "3.9.5"
  },
  "papermill": {
   "default_parameters": {},
   "duration": 7.82059,
   "end_time": "2021-10-05T18:00:12.879614",
   "environment_variables": {},
   "exception": null,
   "input_path": "eBay_Overview.ipynb",
   "output_path": "eBay_Overview.ipynb",
   "parameters": {},
   "start_time": "2021-10-05T18:00:05.059024",
   "version": "2.3.3"
  }
 },
 "nbformat": 4,
 "nbformat_minor": 5
}