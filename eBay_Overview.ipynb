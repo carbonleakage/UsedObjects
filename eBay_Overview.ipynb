{
 "cells": [
  {
   "cell_type": "code",
   "execution_count": 1,
   "id": "reverse-picking",
   "metadata": {
    "execution": {
     "iopub.execute_input": "2021-08-22T16:00:07.211996Z",
     "iopub.status.busy": "2021-08-22T16:00:07.210044Z",
     "iopub.status.idle": "2021-08-22T16:00:08.018780Z",
     "shell.execute_reply": "2021-08-22T16:00:08.020080Z"
    },
    "papermill": {
     "duration": 0.861212,
     "end_time": "2021-08-22T16:00:08.020708",
     "exception": false,
     "start_time": "2021-08-22T16:00:07.159496",
     "status": "completed"
    },
    "tags": []
   },
   "outputs": [],
   "source": [
    "import pandas as pd\n",
    "import sqlite3"
   ]
  },
  {
   "cell_type": "code",
   "execution_count": 2,
   "id": "innovative-syndrome",
   "metadata": {
    "execution": {
     "iopub.execute_input": "2021-08-22T16:00:08.074525Z",
     "iopub.status.busy": "2021-08-22T16:00:08.072123Z",
     "iopub.status.idle": "2021-08-22T16:00:08.178715Z",
     "shell.execute_reply": "2021-08-22T16:00:08.180161Z"
    },
    "papermill": {
     "duration": 0.136783,
     "end_time": "2021-08-22T16:00:08.180598",
     "exception": false,
     "start_time": "2021-08-22T16:00:08.043815",
     "status": "completed"
    },
    "tags": []
   },
   "outputs": [],
   "source": [
    "timestamps = pd.read_sql(\"select distinct record_time from EBAY_TOP_BERLIN order by record_time desc limit 2\", sqlite3.connect(\"UsedObjects.db\"))"
   ]
  },
  {
   "cell_type": "code",
   "execution_count": 3,
   "id": "periodic-identification",
   "metadata": {
    "execution": {
     "iopub.execute_input": "2021-08-22T16:00:08.245457Z",
     "iopub.status.busy": "2021-08-22T16:00:08.243442Z",
     "iopub.status.idle": "2021-08-22T16:00:08.263483Z",
     "shell.execute_reply": "2021-08-22T16:00:08.264687Z"
    },
    "papermill": {
     "duration": 0.064533,
     "end_time": "2021-08-22T16:00:08.265121",
     "exception": false,
     "start_time": "2021-08-22T16:00:08.200588",
     "status": "completed"
    },
    "tags": []
   },
   "outputs": [
    {
     "data": {
      "text/html": [
       "<div>\n",
       "<style scoped>\n",
       "    .dataframe tbody tr th:only-of-type {\n",
       "        vertical-align: middle;\n",
       "    }\n",
       "\n",
       "    .dataframe tbody tr th {\n",
       "        vertical-align: top;\n",
       "    }\n",
       "\n",
       "    .dataframe thead th {\n",
       "        text-align: right;\n",
       "    }\n",
       "</style>\n",
       "<table border=\"1\" class=\"dataframe\">\n",
       "  <thead>\n",
       "    <tr style=\"text-align: right;\">\n",
       "      <th></th>\n",
       "      <th>RECORD_TIME</th>\n",
       "    </tr>\n",
       "  </thead>\n",
       "  <tbody>\n",
       "    <tr>\n",
       "      <th>0</th>\n",
       "      <td>2021-08-22 18:00</td>\n",
       "    </tr>\n",
       "    <tr>\n",
       "      <th>1</th>\n",
       "      <td>2021-08-22 17:30</td>\n",
       "    </tr>\n",
       "  </tbody>\n",
       "</table>\n",
       "</div>"
      ],
      "text/plain": [
       "        RECORD_TIME\n",
       "0  2021-08-22 18:00\n",
       "1  2021-08-22 17:30"
      ]
     },
     "execution_count": 3,
     "metadata": {},
     "output_type": "execute_result"
    }
   ],
   "source": [
    "timestamps"
   ]
  },
  {
   "cell_type": "code",
   "execution_count": 4,
   "id": "alternate-victory",
   "metadata": {
    "execution": {
     "iopub.execute_input": "2021-08-22T16:00:08.319026Z",
     "iopub.status.busy": "2021-08-22T16:00:08.316671Z",
     "iopub.status.idle": "2021-08-22T16:00:08.476237Z",
     "shell.execute_reply": "2021-08-22T16:00:08.477467Z"
    },
    "papermill": {
     "duration": 0.190043,
     "end_time": "2021-08-22T16:00:08.477860",
     "exception": false,
     "start_time": "2021-08-22T16:00:08.287817",
     "status": "completed"
    },
    "tags": []
   },
   "outputs": [],
   "source": [
    "df = pd.read_sql(\"select * from EBAY_TOP_BERLIN where record_time in (select distinct record_time from EBAY_TOP_BERLIN order by record_time desc limit 2)\", sqlite3.connect(\"UsedObjects.db\"))"
   ]
  },
  {
   "cell_type": "code",
   "execution_count": 5,
   "id": "popular-active",
   "metadata": {
    "execution": {
     "iopub.execute_input": "2021-08-22T16:00:08.549701Z",
     "iopub.status.busy": "2021-08-22T16:00:08.537719Z",
     "iopub.status.idle": "2021-08-22T16:00:08.565444Z",
     "shell.execute_reply": "2021-08-22T16:00:08.566823Z"
    },
    "papermill": {
     "duration": 0.067388,
     "end_time": "2021-08-22T16:00:08.567245",
     "exception": false,
     "start_time": "2021-08-22T16:00:08.499857",
     "status": "completed"
    },
    "tags": []
   },
   "outputs": [],
   "source": [
    "df_pivot = df.pivot_table(index=\"PRODUCT\", columns = \"RECORD_TIME\", values = \"LISTING_COUNT\")"
   ]
  },
  {
   "cell_type": "code",
   "execution_count": 6,
   "id": "union-huntington",
   "metadata": {
    "execution": {
     "iopub.execute_input": "2021-08-22T16:00:08.624020Z",
     "iopub.status.busy": "2021-08-22T16:00:08.622036Z",
     "iopub.status.idle": "2021-08-22T16:00:08.626999Z",
     "shell.execute_reply": "2021-08-22T16:00:08.628254Z"
    },
    "papermill": {
     "duration": 0.039633,
     "end_time": "2021-08-22T16:00:08.628647",
     "exception": false,
     "start_time": "2021-08-22T16:00:08.589014",
     "status": "completed"
    },
    "tags": []
   },
   "outputs": [],
   "source": [
    "df_pivot.columns = [\"stamp_1\", \"stamp_2\"]\n",
    "df_pivot_diff = df_pivot.diff(axis=1)"
   ]
  },
  {
   "cell_type": "code",
   "execution_count": 7,
   "id": "fifth-motion",
   "metadata": {
    "execution": {
     "iopub.execute_input": "2021-08-22T16:00:08.689845Z",
     "iopub.status.busy": "2021-08-22T16:00:08.687527Z",
     "iopub.status.idle": "2021-08-22T16:00:10.190758Z",
     "shell.execute_reply": "2021-08-22T16:00:10.192074Z"
    },
    "papermill": {
     "duration": 1.538489,
     "end_time": "2021-08-22T16:00:10.192489",
     "exception": false,
     "start_time": "2021-08-22T16:00:08.654000",
     "status": "completed"
    },
    "tags": []
   },
   "outputs": [
    {
     "data": {
      "text/plain": [
       "<AxesSubplot:ylabel='PRODUCT'>"
      ]
     },
     "execution_count": 7,
     "metadata": {},
     "output_type": "execute_result"
    },
    {
     "data": {
      "image/png": "[encoded data removed]",
      "text/plain": [
       "<Figure size 432x288 with 1 Axes>"
      ]
     },
     "metadata": {
      "needs_background": "light"
     },
     "output_type": "display_data"
    }
   ],
   "source": [
    "df_pivot_diff.sort_values(\"stamp_2\", ascending = False)[\"stamp_2\"].head(10).plot.barh()"
   ]
  },
  {
   "cell_type": "code",
   "execution_count": null,
   "id": "extra-executive",
   "metadata": {
    "papermill": {
     "duration": 0.022236,
     "end_time": "2021-08-22T16:00:10.239426",
     "exception": false,
     "start_time": "2021-08-22T16:00:10.217190",
     "status": "completed"
    },
    "tags": []
   },
   "outputs": [],
   "source": []
  }
 ],
 "metadata": {
  "kernelspec": {
   "display_name": "Python 3",
   "language": "python",
   "name": "python3"
  },
  "language_info": {
   "codemirror_mode": {
    "name": "ipython",
    "version": 3
   },
   "file_extension": ".py",
   "mimetype": "text/x-python",
   "name": "python",
   "nbconvert_exporter": "python",
   "pygments_lexer": "ipython3",
   "version": "3.9.5"
  },
  "papermill": {
   "default_parameters": {},
   "duration": 6.836001,
   "end_time": "2021-08-22T16:00:11.584711",
   "environment_variables": {},
   "exception": null,
   "input_path": "eBay_Overview.ipynb",
   "output_path": "eBay_Overview.ipynb",
   "parameters": {},
   "start_time": "2021-08-22T16:00:04.748710",
   "version": "2.3.3"
  }
 },
 "nbformat": 4,
 "nbformat_minor": 5
}