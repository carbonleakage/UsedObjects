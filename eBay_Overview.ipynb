{
 "cells": [
  {
   "cell_type": "code",
   "execution_count": 1,
   "id": "reverse-picking",
   "metadata": {
    "execution": {
     "iopub.execute_input": "2021-10-08T23:00:06.895999Z",
     "iopub.status.busy": "2021-10-08T23:00:06.893985Z",
     "iopub.status.idle": "2021-10-08T23:00:07.704640Z",
     "shell.execute_reply": "2021-10-08T23:00:07.705947Z"
    },
    "papermill": {
     "duration": 0.859833,
     "end_time": "2021-10-08T23:00:07.706589",
     "exception": false,
     "start_time": "2021-10-08T23:00:06.846756",
     "status": "completed"
    },
    "tags": []
   },
   "outputs": [],
   "source": [
    "import pandas as pd\n",
    "import sqlite3"
   ]
  },
  {
   "cell_type": "code",
   "execution_count": 2,
   "id": "innovative-syndrome",
   "metadata": {
    "execution": {
     "iopub.execute_input": "2021-10-08T23:00:07.757495Z",
     "iopub.status.busy": "2021-10-08T23:00:07.755180Z",
     "iopub.status.idle": "2021-10-08T23:00:08.239609Z",
     "shell.execute_reply": "2021-10-08T23:00:08.240740Z"
    },
    "papermill": {
     "duration": 0.514387,
     "end_time": "2021-10-08T23:00:08.241140",
     "exception": false,
     "start_time": "2021-10-08T23:00:07.726753",
     "status": "completed"
    },
    "tags": []
   },
   "outputs": [],
   "source": [
    "timestamps = pd.read_sql(\"select distinct record_time from EBAY_TOP_BERLIN order by record_time desc limit 2\", sqlite3.connect(\"UsedObjects.db\"))"
   ]
  },
  {
   "cell_type": "code",
   "execution_count": 3,
   "id": "periodic-identification",
   "metadata": {
    "execution": {
     "iopub.execute_input": "2021-10-08T23:00:08.309363Z",
     "iopub.status.busy": "2021-10-08T23:00:08.307318Z",
     "iopub.status.idle": "2021-10-08T23:00:08.326855Z",
     "shell.execute_reply": "2021-10-08T23:00:08.328080Z"
    },
    "papermill": {
     "duration": 0.064558,
     "end_time": "2021-10-08T23:00:08.328467",
     "exception": false,
     "start_time": "2021-10-08T23:00:08.263909",
     "status": "completed"
    },
    "tags": []
   },
   "outputs": [
    {
     "data": {
      "text/html": [
       "<div>\n",
       "<style scoped>\n",
       "    .dataframe tbody tr th:only-of-type {\n",
       "        vertical-align: middle;\n",
       "    }\n",
       "\n",
       "    .dataframe tbody tr th {\n",
       "        vertical-align: top;\n",
       "    }\n",
       "\n",
       "    .dataframe thead th {\n",
       "        text-align: right;\n",
       "    }\n",
       "</style>\n",
       "<table border=\"1\" class=\"dataframe\">\n",
       "  <thead>\n",
       "    <tr style=\"text-align: right;\">\n",
       "      <th></th>\n",
       "      <th>RECORD_TIME</th>\n",
       "    </tr>\n",
       "  </thead>\n",
       "  <tbody>\n",
       "    <tr>\n",
       "      <th>0</th>\n",
       "      <td>2021-10-09 01:00</td>\n",
       "    </tr>\n",
       "    <tr>\n",
       "      <th>1</th>\n",
       "      <td>2021-10-09 00:30</td>\n",
       "    </tr>\n",
       "  </tbody>\n",
       "</table>\n",
       "</div>"
      ],
      "text/plain": [
       "        RECORD_TIME\n",
       "0  2021-10-09 01:00\n",
       "1  2021-10-09 00:30"
      ]
     },
     "execution_count": 3,
     "metadata": {},
     "output_type": "execute_result"
    }
   ],
   "source": [
    "timestamps"
   ]
  },
  {
   "cell_type": "code",
   "execution_count": 4,
   "id": "alternate-victory",
   "metadata": {
    "execution": {
     "iopub.execute_input": "2021-10-08T23:00:08.405319Z",
     "iopub.status.busy": "2021-10-08T23:00:08.403092Z",
     "iopub.status.idle": "2021-10-08T23:00:09.108397Z",
     "shell.execute_reply": "2021-10-08T23:00:09.109604Z"
    },
    "papermill": {
     "duration": 0.741921,
     "end_time": "2021-10-08T23:00:09.109996",
     "exception": false,
     "start_time": "2021-10-08T23:00:08.368075",
     "status": "completed"
    },
    "tags": []
   },
   "outputs": [],
   "source": [
    "df = pd.read_sql(\"select * from EBAY_TOP_BERLIN where record_time in (select distinct record_time from EBAY_TOP_BERLIN order by record_time desc limit 2)\", sqlite3.connect(\"UsedObjects.db\"))"
   ]
  },
  {
   "cell_type": "code",
   "execution_count": 5,
   "id": "popular-active",
   "metadata": {
    "execution": {
     "iopub.execute_input": "2021-10-08T23:00:09.175264Z",
     "iopub.status.busy": "2021-10-08T23:00:09.168846Z",
     "iopub.status.idle": "2021-10-08T23:00:09.196330Z",
     "shell.execute_reply": "2021-10-08T23:00:09.197533Z"
    },
    "papermill": {
     "duration": 0.067518,
     "end_time": "2021-10-08T23:00:09.197925",
     "exception": false,
     "start_time": "2021-10-08T23:00:09.130407",
     "status": "completed"
    },
    "tags": []
   },
   "outputs": [],
   "source": [
    "df_pivot = df.pivot_table(index=\"PRODUCT\", columns = \"RECORD_TIME\", values = \"LISTING_COUNT\")"
   ]
  },
  {
   "cell_type": "code",
   "execution_count": 6,
   "id": "union-huntington",
   "metadata": {
    "execution": {
     "iopub.execute_input": "2021-10-08T23:00:09.255196Z",
     "iopub.status.busy": "2021-10-08T23:00:09.253001Z",
     "iopub.status.idle": "2021-10-08T23:00:09.258502Z",
     "shell.execute_reply": "2021-10-08T23:00:09.260136Z"
    },
    "papermill": {
     "duration": 0.041239,
     "end_time": "2021-10-08T23:00:09.260715",
     "exception": false,
     "start_time": "2021-10-08T23:00:09.219476",
     "status": "completed"
    },
    "tags": []
   },
   "outputs": [],
   "source": [
    "df_pivot.columns = [\"stamp_1\", \"stamp_2\"]\n",
    "df_pivot_diff = df_pivot.diff(axis=1)"
   ]
  },
  {
   "cell_type": "code",
   "execution_count": 7,
   "id": "fifth-motion",
   "metadata": {
    "execution": {
     "iopub.execute_input": "2021-10-08T23:00:09.316456Z",
     "iopub.status.busy": "2021-10-08T23:00:09.313781Z",
     "iopub.status.idle": "2021-10-08T23:00:10.804627Z",
     "shell.execute_reply": "2021-10-08T23:00:10.806197Z"
    },
    "papermill": {
     "duration": 1.524903,
     "end_time": "2021-10-08T23:00:10.806686",
     "exception": false,
     "start_time": "2021-10-08T23:00:09.281783",
     "status": "completed"
    },
    "tags": []
   },
   "outputs": [
    {
     "data": {
      "text/plain": [
       "<AxesSubplot:ylabel='PRODUCT'>"
      ]
     },
     "execution_count": 7,
     "metadata": {},
     "output_type": "execute_result"
    },
    {
     "data": {
      "image/png": "[encoded data removed]",
      "text/plain": [
       "<Figure size 432x288 with 1 Axes>"
      ]
     },
     "metadata": {
      "needs_background": "light"
     },
     "output_type": "display_data"
    }
   ],
   "source": [
    "df_pivot_diff.sort_values(\"stamp_2\", ascending = False)[\"stamp_2\"].head(10).plot.barh()"
   ]
  },
  {
   "cell_type": "code",
   "execution_count": null,
   "id": "extra-executive",
   "metadata": {
    "papermill": {
     "duration": 0.022283,
     "end_time": "2021-10-08T23:00:10.854119",
     "exception": false,
     "start_time": "2021-10-08T23:00:10.831836",
     "status": "completed"
    },
    "tags": []
   },
   "outputs": [],
   "source": []
  }
 ],
 "metadata": {
  "kernelspec": {
   "display_name": "Python 3",
   "language": "python",
   "name": "python3"
  },
  "language_info": {
   "codemirror_mode": {
    "name": "ipython",
    "version": 3
   },
   "file_extension": ".py",
   "mimetype": "text/x-python",
   "name": "python",
   "nbconvert_exporter": "python",
   "pygments_lexer": "ipython3",
   "version": "3.9.5"
  },
  "papermill": {
   "default_parameters": {},
   "duration": 7.848833,
   "end_time": "2021-10-08T23:00:12.275723",
   "environment_variables": {},
   "exception": null,
   "input_path": "eBay_Overview.ipynb",
   "output_path": "eBay_Overview.ipynb",
   "parameters": {},
   "start_time": "2021-10-08T23:00:04.426890",
   "version": "2.3.3"
  }
 },
 "nbformat": 4,
 "nbformat_minor": 5
}