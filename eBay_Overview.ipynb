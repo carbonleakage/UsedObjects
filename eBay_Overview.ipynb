{
 "cells": [
  {
   "cell_type": "code",
   "execution_count": 1,
   "id": "reverse-picking",
   "metadata": {
    "execution": {
     "iopub.execute_input": "2021-08-14T20:00:07.187841Z",
     "iopub.status.busy": "2021-08-14T20:00:07.185815Z",
     "iopub.status.idle": "2021-08-14T20:00:07.995575Z",
     "shell.execute_reply": "2021-08-14T20:00:07.996989Z"
    },
    "papermill": {
     "duration": 0.86083,
     "end_time": "2021-08-14T20:00:07.997682",
     "exception": false,
     "start_time": "2021-08-14T20:00:07.136852",
     "status": "completed"
    },
    "tags": []
   },
   "outputs": [],
   "source": [
    "import pandas as pd\n",
    "import sqlite3"
   ]
  },
  {
   "cell_type": "code",
   "execution_count": 2,
   "id": "innovative-syndrome",
   "metadata": {
    "execution": {
     "iopub.execute_input": "2021-08-14T20:00:08.048165Z",
     "iopub.status.busy": "2021-08-14T20:00:08.045751Z",
     "iopub.status.idle": "2021-08-14T20:00:08.097501Z",
     "shell.execute_reply": "2021-08-14T20:00:08.098777Z"
    },
    "papermill": {
     "duration": 0.081498,
     "end_time": "2021-08-14T20:00:08.099176",
     "exception": false,
     "start_time": "2021-08-14T20:00:08.017678",
     "status": "completed"
    },
    "tags": []
   },
   "outputs": [],
   "source": [
    "timestamps = pd.read_sql(\"select distinct record_time from EBAY_TOP_BERLIN order by record_time desc limit 2\", sqlite3.connect(\"UsedObjects.db\"))"
   ]
  },
  {
   "cell_type": "code",
   "execution_count": 3,
   "id": "periodic-identification",
   "metadata": {
    "execution": {
     "iopub.execute_input": "2021-08-14T20:00:08.162175Z",
     "iopub.status.busy": "2021-08-14T20:00:08.160050Z",
     "iopub.status.idle": "2021-08-14T20:00:08.180435Z",
     "shell.execute_reply": "2021-08-14T20:00:08.181629Z"
    },
    "papermill": {
     "duration": 0.063602,
     "end_time": "2021-08-14T20:00:08.182122",
     "exception": false,
     "start_time": "2021-08-14T20:00:08.118520",
     "status": "completed"
    },
    "tags": []
   },
   "outputs": [
    {
     "data": {
      "text/html": [
       "<div>\n",
       "<style scoped>\n",
       "    .dataframe tbody tr th:only-of-type {\n",
       "        vertical-align: middle;\n",
       "    }\n",
       "\n",
       "    .dataframe tbody tr th {\n",
       "        vertical-align: top;\n",
       "    }\n",
       "\n",
       "    .dataframe thead th {\n",
       "        text-align: right;\n",
       "    }\n",
       "</style>\n",
       "<table border=\"1\" class=\"dataframe\">\n",
       "  <thead>\n",
       "    <tr style=\"text-align: right;\">\n",
       "      <th></th>\n",
       "      <th>RECORD_TIME</th>\n",
       "    </tr>\n",
       "  </thead>\n",
       "  <tbody>\n",
       "    <tr>\n",
       "      <th>0</th>\n",
       "      <td>2021-08-14 22:00</td>\n",
       "    </tr>\n",
       "    <tr>\n",
       "      <th>1</th>\n",
       "      <td>2021-08-14 21:30</td>\n",
       "    </tr>\n",
       "  </tbody>\n",
       "</table>\n",
       "</div>"
      ],
      "text/plain": [
       "        RECORD_TIME\n",
       "0  2021-08-14 22:00\n",
       "1  2021-08-14 21:30"
      ]
     },
     "execution_count": 3,
     "metadata": {},
     "output_type": "execute_result"
    }
   ],
   "source": [
    "timestamps"
   ]
  },
  {
   "cell_type": "code",
   "execution_count": 4,
   "id": "alternate-victory",
   "metadata": {
    "execution": {
     "iopub.execute_input": "2021-08-14T20:00:08.234161Z",
     "iopub.status.busy": "2021-08-14T20:00:08.232200Z",
     "iopub.status.idle": "2021-08-14T20:00:08.305052Z",
     "shell.execute_reply": "2021-08-14T20:00:08.306405Z"
    },
    "papermill": {
     "duration": 0.102749,
     "end_time": "2021-08-14T20:00:08.306832",
     "exception": false,
     "start_time": "2021-08-14T20:00:08.204083",
     "status": "completed"
    },
    "tags": []
   },
   "outputs": [],
   "source": [
    "df = pd.read_sql(\"select * from EBAY_TOP_BERLIN where record_time in (select distinct record_time from EBAY_TOP_BERLIN order by record_time desc limit 2)\", sqlite3.connect(\"UsedObjects.db\"))"
   ]
  },
  {
   "cell_type": "code",
   "execution_count": 5,
   "id": "popular-active",
   "metadata": {
    "execution": {
     "iopub.execute_input": "2021-08-14T20:00:08.374168Z",
     "iopub.status.busy": "2021-08-14T20:00:08.366662Z",
     "iopub.status.idle": "2021-08-14T20:00:08.394180Z",
     "shell.execute_reply": "2021-08-14T20:00:08.395413Z"
    },
    "papermill": {
     "duration": 0.067661,
     "end_time": "2021-08-14T20:00:08.395802",
     "exception": false,
     "start_time": "2021-08-14T20:00:08.328141",
     "status": "completed"
    },
    "tags": []
   },
   "outputs": [],
   "source": [
    "df_pivot = df.pivot_table(index=\"PRODUCT\", columns = \"RECORD_TIME\", values = \"LISTING_COUNT\")"
   ]
  },
  {
   "cell_type": "code",
   "execution_count": 6,
   "id": "union-huntington",
   "metadata": {
    "execution": {
     "iopub.execute_input": "2021-08-14T20:00:08.453114Z",
     "iopub.status.busy": "2021-08-14T20:00:08.450795Z",
     "iopub.status.idle": "2021-08-14T20:00:08.456550Z",
     "shell.execute_reply": "2021-08-14T20:00:08.458063Z"
    },
    "papermill": {
     "duration": 0.041434,
     "end_time": "2021-08-14T20:00:08.458526",
     "exception": false,
     "start_time": "2021-08-14T20:00:08.417092",
     "status": "completed"
    },
    "tags": []
   },
   "outputs": [],
   "source": [
    "df_pivot.columns = [\"stamp_1\", \"stamp_2\"]\n",
    "df_pivot_diff = df_pivot.diff(axis=1)"
   ]
  },
  {
   "cell_type": "code",
   "execution_count": 7,
   "id": "fifth-motion",
   "metadata": {
    "execution": {
     "iopub.execute_input": "2021-08-14T20:00:08.513092Z",
     "iopub.status.busy": "2021-08-14T20:00:08.510758Z",
     "iopub.status.idle": "2021-08-14T20:00:10.029093Z",
     "shell.execute_reply": "2021-08-14T20:00:10.031394Z"
    },
    "papermill": {
     "duration": 1.552583,
     "end_time": "2021-08-14T20:00:10.032013",
     "exception": false,
     "start_time": "2021-08-14T20:00:08.479430",
     "status": "completed"
    },
    "tags": []
   },
   "outputs": [
    {
     "data": {
      "text/plain": [
       "<AxesSubplot:ylabel='PRODUCT'>"
      ]
     },
     "execution_count": 7,
     "metadata": {},
     "output_type": "execute_result"
    },
    {
     "data": {
      "image/png": "[encoded data removed]",
      "text/plain": [
       "<Figure size 432x288 with 1 Axes>"
      ]
     },
     "metadata": {
      "needs_background": "light"
     },
     "output_type": "display_data"
    }
   ],
   "source": [
    "df_pivot_diff.sort_values(\"stamp_2\", ascending = False)[\"stamp_2\"].head(10).plot.barh()"
   ]
  },
  {
   "cell_type": "code",
   "execution_count": null,
   "id": "extra-executive",
   "metadata": {
    "papermill": {
     "duration": 0.021946,
     "end_time": "2021-08-14T20:00:10.078583",
     "exception": false,
     "start_time": "2021-08-14T20:00:10.056637",
     "status": "completed"
    },
    "tags": []
   },
   "outputs": [],
   "source": []
  }
 ],
 "metadata": {
  "kernelspec": {
   "display_name": "Python 3",
   "language": "python",
   "name": "python3"
  },
  "language_info": {
   "codemirror_mode": {
    "name": "ipython",
    "version": 3
   },
   "file_extension": ".py",
   "mimetype": "text/x-python",
   "name": "python",
   "nbconvert_exporter": "python",
   "pygments_lexer": "ipython3",
   "version": "3.9.5"
  },
  "papermill": {
   "default_parameters": {},
   "duration": 6.827765,
   "end_time": "2021-08-14T20:00:11.548563",
   "environment_variables": {},
   "exception": null,
   "input_path": "eBay_Overview.ipynb",
   "output_path": "eBay_Overview.ipynb",
   "parameters": {},
   "start_time": "2021-08-14T20:00:04.720798",
   "version": "2.3.3"
  }
 },
 "nbformat": 4,
 "nbformat_minor": 5
}