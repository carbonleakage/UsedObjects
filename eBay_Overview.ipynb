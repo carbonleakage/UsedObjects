{
 "cells": [
  {
   "cell_type": "code",
   "execution_count": 1,
   "id": "reverse-picking",
   "metadata": {
    "execution": {
     "iopub.execute_input": "2021-10-09T22:00:07.765643Z",
     "iopub.status.busy": "2021-10-09T22:00:07.763669Z",
     "iopub.status.idle": "2021-10-09T22:00:08.569624Z",
     "shell.execute_reply": "2021-10-09T22:00:08.568058Z"
    },
    "papermill": {
     "duration": 0.8544,
     "end_time": "2021-10-09T22:00:08.570015",
     "exception": false,
     "start_time": "2021-10-09T22:00:07.715615",
     "status": "completed"
    },
    "tags": []
   },
   "outputs": [],
   "source": [
    "import pandas as pd\n",
    "import sqlite3"
   ]
  },
  {
   "cell_type": "code",
   "execution_count": 2,
   "id": "innovative-syndrome",
   "metadata": {
    "execution": {
     "iopub.execute_input": "2021-10-09T22:00:08.620862Z",
     "iopub.status.busy": "2021-10-09T22:00:08.618947Z",
     "iopub.status.idle": "2021-10-09T22:00:09.121014Z",
     "shell.execute_reply": "2021-10-09T22:00:09.122234Z"
    },
    "papermill": {
     "duration": 0.531198,
     "end_time": "2021-10-09T22:00:09.122628",
     "exception": false,
     "start_time": "2021-10-09T22:00:08.591430",
     "status": "completed"
    },
    "tags": []
   },
   "outputs": [],
   "source": [
    "timestamps = pd.read_sql(\"select distinct record_time from EBAY_TOP_BERLIN order by record_time desc limit 2\", sqlite3.connect(\"UsedObjects.db\"))"
   ]
  },
  {
   "cell_type": "code",
   "execution_count": 3,
   "id": "periodic-identification",
   "metadata": {
    "execution": {
     "iopub.execute_input": "2021-10-09T22:00:09.188632Z",
     "iopub.status.busy": "2021-10-09T22:00:09.186485Z",
     "iopub.status.idle": "2021-10-09T22:00:09.206378Z",
     "shell.execute_reply": "2021-10-09T22:00:09.207830Z"
    },
    "papermill": {
     "duration": 0.063988,
     "end_time": "2021-10-09T22:00:09.208268",
     "exception": false,
     "start_time": "2021-10-09T22:00:09.144280",
     "status": "completed"
    },
    "tags": []
   },
   "outputs": [
    {
     "data": {
      "text/html": [
       "<div>\n",
       "<style scoped>\n",
       "    .dataframe tbody tr th:only-of-type {\n",
       "        vertical-align: middle;\n",
       "    }\n",
       "\n",
       "    .dataframe tbody tr th {\n",
       "        vertical-align: top;\n",
       "    }\n",
       "\n",
       "    .dataframe thead th {\n",
       "        text-align: right;\n",
       "    }\n",
       "</style>\n",
       "<table border=\"1\" class=\"dataframe\">\n",
       "  <thead>\n",
       "    <tr style=\"text-align: right;\">\n",
       "      <th></th>\n",
       "      <th>RECORD_TIME</th>\n",
       "    </tr>\n",
       "  </thead>\n",
       "  <tbody>\n",
       "    <tr>\n",
       "      <th>0</th>\n",
       "      <td>2021-10-10 00:00</td>\n",
       "    </tr>\n",
       "    <tr>\n",
       "      <th>1</th>\n",
       "      <td>2021-10-09 23:30</td>\n",
       "    </tr>\n",
       "  </tbody>\n",
       "</table>\n",
       "</div>"
      ],
      "text/plain": [
       "        RECORD_TIME\n",
       "0  2021-10-10 00:00\n",
       "1  2021-10-09 23:30"
      ]
     },
     "execution_count": 3,
     "metadata": {},
     "output_type": "execute_result"
    }
   ],
   "source": [
    "timestamps"
   ]
  },
  {
   "cell_type": "code",
   "execution_count": 4,
   "id": "alternate-victory",
   "metadata": {
    "execution": {
     "iopub.execute_input": "2021-10-09T22:00:09.278342Z",
     "iopub.status.busy": "2021-10-09T22:00:09.275778Z",
     "iopub.status.idle": "2021-10-09T22:00:10.017522Z",
     "shell.execute_reply": "2021-10-09T22:00:10.018748Z"
    },
    "papermill": {
     "duration": 0.778893,
     "end_time": "2021-10-09T22:00:10.019334",
     "exception": false,
     "start_time": "2021-10-09T22:00:09.240441",
     "status": "completed"
    },
    "tags": []
   },
   "outputs": [],
   "source": [
    "df = pd.read_sql(\"select * from EBAY_TOP_BERLIN where record_time in (select distinct record_time from EBAY_TOP_BERLIN order by record_time desc limit 2)\", sqlite3.connect(\"UsedObjects.db\"))"
   ]
  },
  {
   "cell_type": "code",
   "execution_count": 5,
   "id": "popular-active",
   "metadata": {
    "execution": {
     "iopub.execute_input": "2021-10-09T22:00:10.090117Z",
     "iopub.status.busy": "2021-10-09T22:00:10.077405Z",
     "iopub.status.idle": "2021-10-09T22:00:10.105669Z",
     "shell.execute_reply": "2021-10-09T22:00:10.107034Z"
    },
    "papermill": {
     "duration": 0.068036,
     "end_time": "2021-10-09T22:00:10.107454",
     "exception": false,
     "start_time": "2021-10-09T22:00:10.039418",
     "status": "completed"
    },
    "tags": []
   },
   "outputs": [],
   "source": [
    "df_pivot = df.pivot_table(index=\"PRODUCT\", columns = \"RECORD_TIME\", values = \"LISTING_COUNT\")"
   ]
  },
  {
   "cell_type": "code",
   "execution_count": 6,
   "id": "union-huntington",
   "metadata": {
    "execution": {
     "iopub.execute_input": "2021-10-09T22:00:10.166304Z",
     "iopub.status.busy": "2021-10-09T22:00:10.164009Z",
     "iopub.status.idle": "2021-10-09T22:00:10.169678Z",
     "shell.execute_reply": "2021-10-09T22:00:10.171055Z"
    },
    "papermill": {
     "duration": 0.041728,
     "end_time": "2021-10-09T22:00:10.171481",
     "exception": false,
     "start_time": "2021-10-09T22:00:10.129753",
     "status": "completed"
    },
    "tags": []
   },
   "outputs": [],
   "source": [
    "df_pivot.columns = [\"stamp_1\", \"stamp_2\"]\n",
    "df_pivot_diff = df_pivot.diff(axis=1)"
   ]
  },
  {
   "cell_type": "code",
   "execution_count": 7,
   "id": "fifth-motion",
   "metadata": {
    "execution": {
     "iopub.execute_input": "2021-10-09T22:00:10.225149Z",
     "iopub.status.busy": "2021-10-09T22:00:10.222705Z",
     "iopub.status.idle": "2021-10-09T22:00:11.720069Z",
     "shell.execute_reply": "2021-10-09T22:00:11.721807Z"
    },
    "papermill": {
     "duration": 1.53109,
     "end_time": "2021-10-09T22:00:11.722352",
     "exception": false,
     "start_time": "2021-10-09T22:00:10.191262",
     "status": "completed"
    },
    "tags": []
   },
   "outputs": [
    {
     "data": {
      "text/plain": [
       "<AxesSubplot:ylabel='PRODUCT'>"
      ]
     },
     "execution_count": 7,
     "metadata": {},
     "output_type": "execute_result"
    },
    {
     "data": {
      "image/png": "[encoded data removed]",
      "text/plain": [
       "<Figure size 432x288 with 1 Axes>"
      ]
     },
     "metadata": {
      "needs_background": "light"
     },
     "output_type": "display_data"
    }
   ],
   "source": [
    "df_pivot_diff.sort_values(\"stamp_2\", ascending = False)[\"stamp_2\"].head(10).plot.barh()"
   ]
  },
  {
   "cell_type": "code",
   "execution_count": null,
   "id": "extra-executive",
   "metadata": {
    "papermill": {
     "duration": 0.021964,
     "end_time": "2021-10-09T22:00:11.769946",
     "exception": false,
     "start_time": "2021-10-09T22:00:11.747982",
     "status": "completed"
    },
    "tags": []
   },
   "outputs": [],
   "source": []
  }
 ],
 "metadata": {
  "kernelspec": {
   "display_name": "Python 3",
   "language": "python",
   "name": "python3"
  },
  "language_info": {
   "codemirror_mode": {
    "name": "ipython",
    "version": 3
   },
   "file_extension": ".py",
   "mimetype": "text/x-python",
   "name": "python",
   "nbconvert_exporter": "python",
   "pygments_lexer": "ipython3",
   "version": "3.9.5"
  },
  "papermill": {
   "default_parameters": {},
   "duration": 7.844274,
   "end_time": "2021-10-09T22:00:13.151955",
   "environment_variables": {},
   "exception": null,
   "input_path": "eBay_Overview.ipynb",
   "output_path": "eBay_Overview.ipynb",
   "parameters": {},
   "start_time": "2021-10-09T22:00:05.307681",
   "version": "2.3.3"
  }
 },
 "nbformat": 4,
 "nbformat_minor": 5
}