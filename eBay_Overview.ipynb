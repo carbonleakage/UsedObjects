{
 "cells": [
  {
   "cell_type": "code",
   "execution_count": 1,
   "id": "reverse-picking",
   "metadata": {
    "execution": {
     "iopub.execute_input": "2021-10-09T20:00:07.136479Z",
     "iopub.status.busy": "2021-10-09T20:00:07.134458Z",
     "iopub.status.idle": "2021-10-09T20:00:07.942592Z",
     "shell.execute_reply": "2021-10-09T20:00:07.943914Z"
    },
    "papermill": {
     "duration": 0.860553,
     "end_time": "2021-10-09T20:00:07.944538",
     "exception": false,
     "start_time": "2021-10-09T20:00:07.083985",
     "status": "completed"
    },
    "tags": []
   },
   "outputs": [],
   "source": [
    "import pandas as pd\n",
    "import sqlite3"
   ]
  },
  {
   "cell_type": "code",
   "execution_count": 2,
   "id": "innovative-syndrome",
   "metadata": {
    "execution": {
     "iopub.execute_input": "2021-10-09T20:00:07.995442Z",
     "iopub.status.busy": "2021-10-09T20:00:07.993485Z",
     "iopub.status.idle": "2021-10-09T20:00:08.479964Z",
     "shell.execute_reply": "2021-10-09T20:00:08.481144Z"
    },
    "papermill": {
     "duration": 0.515865,
     "end_time": "2021-10-09T20:00:08.481537",
     "exception": false,
     "start_time": "2021-10-09T20:00:07.965672",
     "status": "completed"
    },
    "tags": []
   },
   "outputs": [],
   "source": [
    "timestamps = pd.read_sql(\"select distinct record_time from EBAY_TOP_BERLIN order by record_time desc limit 2\", sqlite3.connect(\"UsedObjects.db\"))"
   ]
  },
  {
   "cell_type": "code",
   "execution_count": 3,
   "id": "periodic-identification",
   "metadata": {
    "execution": {
     "iopub.execute_input": "2021-10-09T20:00:08.549806Z",
     "iopub.status.busy": "2021-10-09T20:00:08.544613Z",
     "iopub.status.idle": "2021-10-09T20:00:08.565428Z",
     "shell.execute_reply": "2021-10-09T20:00:08.566770Z"
    },
    "papermill": {
     "duration": 0.06446,
     "end_time": "2021-10-09T20:00:08.567410",
     "exception": false,
     "start_time": "2021-10-09T20:00:08.502950",
     "status": "completed"
    },
    "tags": []
   },
   "outputs": [
    {
     "data": {
      "text/html": [
       "<div>\n",
       "<style scoped>\n",
       "    .dataframe tbody tr th:only-of-type {\n",
       "        vertical-align: middle;\n",
       "    }\n",
       "\n",
       "    .dataframe tbody tr th {\n",
       "        vertical-align: top;\n",
       "    }\n",
       "\n",
       "    .dataframe thead th {\n",
       "        text-align: right;\n",
       "    }\n",
       "</style>\n",
       "<table border=\"1\" class=\"dataframe\">\n",
       "  <thead>\n",
       "    <tr style=\"text-align: right;\">\n",
       "      <th></th>\n",
       "      <th>RECORD_TIME</th>\n",
       "    </tr>\n",
       "  </thead>\n",
       "  <tbody>\n",
       "    <tr>\n",
       "      <th>0</th>\n",
       "      <td>2021-10-09 22:00</td>\n",
       "    </tr>\n",
       "    <tr>\n",
       "      <th>1</th>\n",
       "      <td>2021-10-09 21:30</td>\n",
       "    </tr>\n",
       "  </tbody>\n",
       "</table>\n",
       "</div>"
      ],
      "text/plain": [
       "        RECORD_TIME\n",
       "0  2021-10-09 22:00\n",
       "1  2021-10-09 21:30"
      ]
     },
     "execution_count": 3,
     "metadata": {},
     "output_type": "execute_result"
    }
   ],
   "source": [
    "timestamps"
   ]
  },
  {
   "cell_type": "code",
   "execution_count": 4,
   "id": "alternate-victory",
   "metadata": {
    "execution": {
     "iopub.execute_input": "2021-10-09T20:00:08.633585Z",
     "iopub.status.busy": "2021-10-09T20:00:08.631709Z",
     "iopub.status.idle": "2021-10-09T20:00:09.357545Z",
     "shell.execute_reply": "2021-10-09T20:00:09.358740Z"
    },
    "papermill": {
     "duration": 0.76161,
     "end_time": "2021-10-09T20:00:09.359224",
     "exception": false,
     "start_time": "2021-10-09T20:00:08.597614",
     "status": "completed"
    },
    "tags": []
   },
   "outputs": [],
   "source": [
    "df = pd.read_sql(\"select * from EBAY_TOP_BERLIN where record_time in (select distinct record_time from EBAY_TOP_BERLIN order by record_time desc limit 2)\", sqlite3.connect(\"UsedObjects.db\"))"
   ]
  },
  {
   "cell_type": "code",
   "execution_count": 5,
   "id": "popular-active",
   "metadata": {
    "execution": {
     "iopub.execute_input": "2021-10-09T20:00:09.429432Z",
     "iopub.status.busy": "2021-10-09T20:00:09.417072Z",
     "iopub.status.idle": "2021-10-09T20:00:09.445739Z",
     "shell.execute_reply": "2021-10-09T20:00:09.447065Z"
    },
    "papermill": {
     "duration": 0.067712,
     "end_time": "2021-10-09T20:00:09.447485",
     "exception": false,
     "start_time": "2021-10-09T20:00:09.379773",
     "status": "completed"
    },
    "tags": []
   },
   "outputs": [],
   "source": [
    "df_pivot = df.pivot_table(index=\"PRODUCT\", columns = \"RECORD_TIME\", values = \"LISTING_COUNT\")"
   ]
  },
  {
   "cell_type": "code",
   "execution_count": 6,
   "id": "union-huntington",
   "metadata": {
    "execution": {
     "iopub.execute_input": "2021-10-09T20:00:09.503494Z",
     "iopub.status.busy": "2021-10-09T20:00:09.501450Z",
     "iopub.status.idle": "2021-10-09T20:00:09.506986Z",
     "shell.execute_reply": "2021-10-09T20:00:09.508165Z"
    },
    "papermill": {
     "duration": 0.040929,
     "end_time": "2021-10-09T20:00:09.508592",
     "exception": false,
     "start_time": "2021-10-09T20:00:09.467663",
     "status": "completed"
    },
    "tags": []
   },
   "outputs": [],
   "source": [
    "df_pivot.columns = [\"stamp_1\", \"stamp_2\"]\n",
    "df_pivot_diff = df_pivot.diff(axis=1)"
   ]
  },
  {
   "cell_type": "code",
   "execution_count": 7,
   "id": "fifth-motion",
   "metadata": {
    "execution": {
     "iopub.execute_input": "2021-10-09T20:00:09.566343Z",
     "iopub.status.busy": "2021-10-09T20:00:09.563745Z",
     "iopub.status.idle": "2021-10-09T20:00:11.079993Z",
     "shell.execute_reply": "2021-10-09T20:00:11.081311Z"
    },
    "papermill": {
     "duration": 1.550104,
     "end_time": "2021-10-09T20:00:11.081731",
     "exception": false,
     "start_time": "2021-10-09T20:00:09.531627",
     "status": "completed"
    },
    "tags": []
   },
   "outputs": [
    {
     "data": {
      "text/plain": [
       "<AxesSubplot:ylabel='PRODUCT'>"
      ]
     },
     "execution_count": 7,
     "metadata": {},
     "output_type": "execute_result"
    },
    {
     "data": {
      "image/png": "[encoded data removed]",
      "text/plain": [
       "<Figure size 432x288 with 1 Axes>"
      ]
     },
     "metadata": {
      "needs_background": "light"
     },
     "output_type": "display_data"
    }
   ],
   "source": [
    "df_pivot_diff.sort_values(\"stamp_2\", ascending = False)[\"stamp_2\"].head(10).plot.barh()"
   ]
  },
  {
   "cell_type": "code",
   "execution_count": null,
   "id": "extra-executive",
   "metadata": {
    "papermill": {
     "duration": 0.022161,
     "end_time": "2021-10-09T20:00:11.128143",
     "exception": false,
     "start_time": "2021-10-09T20:00:11.105982",
     "status": "completed"
    },
    "tags": []
   },
   "outputs": [],
   "source": []
  }
 ],
 "metadata": {
  "kernelspec": {
   "display_name": "Python 3",
   "language": "python",
   "name": "python3"
  },
  "language_info": {
   "codemirror_mode": {
    "name": "ipython",
    "version": 3
   },
   "file_extension": ".py",
   "mimetype": "text/x-python",
   "name": "python",
   "nbconvert_exporter": "python",
   "pygments_lexer": "ipython3",
   "version": "3.9.5"
  },
  "papermill": {
   "default_parameters": {},
   "duration": 7.838968,
   "end_time": "2021-10-09T20:00:12.502945",
   "environment_variables": {},
   "exception": null,
   "input_path": "eBay_Overview.ipynb",
   "output_path": "eBay_Overview.ipynb",
   "parameters": {},
   "start_time": "2021-10-09T20:00:04.663977",
   "version": "2.3.3"
  }
 },
 "nbformat": 4,
 "nbformat_minor": 5
}