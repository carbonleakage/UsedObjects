{
 "cells": [
  {
   "cell_type": "code",
   "execution_count": 1,
   "id": "reverse-picking",
   "metadata": {
    "execution": {
     "iopub.execute_input": "2021-09-17T09:30:07.217429Z",
     "iopub.status.busy": "2021-09-17T09:30:07.215504Z",
     "iopub.status.idle": "2021-09-17T09:30:08.019339Z",
     "shell.execute_reply": "2021-09-17T09:30:08.020636Z"
    },
    "papermill": {
     "duration": 0.855566,
     "end_time": "2021-09-17T09:30:08.021259",
     "exception": false,
     "start_time": "2021-09-17T09:30:07.165693",
     "status": "completed"
    },
    "tags": []
   },
   "outputs": [],
   "source": [
    "import pandas as pd\n",
    "import sqlite3"
   ]
  },
  {
   "cell_type": "code",
   "execution_count": 2,
   "id": "innovative-syndrome",
   "metadata": {
    "execution": {
     "iopub.execute_input": "2021-09-17T09:30:08.071793Z",
     "iopub.status.busy": "2021-09-17T09:30:08.069824Z",
     "iopub.status.idle": "2021-09-17T09:30:08.372316Z",
     "shell.execute_reply": "2021-09-17T09:30:08.373615Z"
    },
    "papermill": {
     "duration": 0.332011,
     "end_time": "2021-09-17T09:30:08.374036",
     "exception": false,
     "start_time": "2021-09-17T09:30:08.042025",
     "status": "completed"
    },
    "tags": []
   },
   "outputs": [],
   "source": [
    "timestamps = pd.read_sql(\"select distinct record_time from EBAY_TOP_BERLIN order by record_time desc limit 2\", sqlite3.connect(\"UsedObjects.db\"))"
   ]
  },
  {
   "cell_type": "code",
   "execution_count": 3,
   "id": "periodic-identification",
   "metadata": {
    "execution": {
     "iopub.execute_input": "2021-09-17T09:30:08.440410Z",
     "iopub.status.busy": "2021-09-17T09:30:08.438324Z",
     "iopub.status.idle": "2021-09-17T09:30:08.458668Z",
     "shell.execute_reply": "2021-09-17T09:30:08.460048Z"
    },
    "papermill": {
     "duration": 0.067137,
     "end_time": "2021-09-17T09:30:08.460473",
     "exception": false,
     "start_time": "2021-09-17T09:30:08.393336",
     "status": "completed"
    },
    "tags": []
   },
   "outputs": [
    {
     "data": {
      "text/html": [
       "<div>\n",
       "<style scoped>\n",
       "    .dataframe tbody tr th:only-of-type {\n",
       "        vertical-align: middle;\n",
       "    }\n",
       "\n",
       "    .dataframe tbody tr th {\n",
       "        vertical-align: top;\n",
       "    }\n",
       "\n",
       "    .dataframe thead th {\n",
       "        text-align: right;\n",
       "    }\n",
       "</style>\n",
       "<table border=\"1\" class=\"dataframe\">\n",
       "  <thead>\n",
       "    <tr style=\"text-align: right;\">\n",
       "      <th></th>\n",
       "      <th>RECORD_TIME</th>\n",
       "    </tr>\n",
       "  </thead>\n",
       "  <tbody>\n",
       "    <tr>\n",
       "      <th>0</th>\n",
       "      <td>2021-09-17 11:30</td>\n",
       "    </tr>\n",
       "    <tr>\n",
       "      <th>1</th>\n",
       "      <td>2021-09-17 11:00</td>\n",
       "    </tr>\n",
       "  </tbody>\n",
       "</table>\n",
       "</div>"
      ],
      "text/plain": [
       "        RECORD_TIME\n",
       "0  2021-09-17 11:30\n",
       "1  2021-09-17 11:00"
      ]
     },
     "execution_count": 3,
     "metadata": {},
     "output_type": "execute_result"
    }
   ],
   "source": [
    "timestamps"
   ]
  },
  {
   "cell_type": "code",
   "execution_count": 4,
   "id": "alternate-victory",
   "metadata": {
    "execution": {
     "iopub.execute_input": "2021-09-17T09:30:08.512009Z",
     "iopub.status.busy": "2021-09-17T09:30:08.510069Z",
     "iopub.status.idle": "2021-09-17T09:30:08.956881Z",
     "shell.execute_reply": "2021-09-17T09:30:08.955366Z"
    },
    "papermill": {
     "duration": 0.475592,
     "end_time": "2021-09-17T09:30:08.957261",
     "exception": false,
     "start_time": "2021-09-17T09:30:08.481669",
     "status": "completed"
    },
    "tags": []
   },
   "outputs": [],
   "source": [
    "df = pd.read_sql(\"select * from EBAY_TOP_BERLIN where record_time in (select distinct record_time from EBAY_TOP_BERLIN order by record_time desc limit 2)\", sqlite3.connect(\"UsedObjects.db\"))"
   ]
  },
  {
   "cell_type": "code",
   "execution_count": 5,
   "id": "popular-active",
   "metadata": {
    "execution": {
     "iopub.execute_input": "2021-09-17T09:30:09.027505Z",
     "iopub.status.busy": "2021-09-17T09:30:09.024955Z",
     "iopub.status.idle": "2021-09-17T09:30:09.052270Z",
     "shell.execute_reply": "2021-09-17T09:30:09.053481Z"
    },
    "papermill": {
     "duration": 0.070361,
     "end_time": "2021-09-17T09:30:09.053882",
     "exception": false,
     "start_time": "2021-09-17T09:30:08.983521",
     "status": "completed"
    },
    "tags": []
   },
   "outputs": [],
   "source": [
    "df_pivot = df.pivot_table(index=\"PRODUCT\", columns = \"RECORD_TIME\", values = \"LISTING_COUNT\")"
   ]
  },
  {
   "cell_type": "code",
   "execution_count": 6,
   "id": "union-huntington",
   "metadata": {
    "execution": {
     "iopub.execute_input": "2021-09-17T09:30:09.111174Z",
     "iopub.status.busy": "2021-09-17T09:30:09.108973Z",
     "iopub.status.idle": "2021-09-17T09:30:09.114482Z",
     "shell.execute_reply": "2021-09-17T09:30:09.116012Z"
    },
    "papermill": {
     "duration": 0.040981,
     "end_time": "2021-09-17T09:30:09.116466",
     "exception": false,
     "start_time": "2021-09-17T09:30:09.075485",
     "status": "completed"
    },
    "tags": []
   },
   "outputs": [],
   "source": [
    "df_pivot.columns = [\"stamp_1\", \"stamp_2\"]\n",
    "df_pivot_diff = df_pivot.diff(axis=1)"
   ]
  },
  {
   "cell_type": "code",
   "execution_count": 7,
   "id": "fifth-motion",
   "metadata": {
    "execution": {
     "iopub.execute_input": "2021-09-17T09:30:09.172084Z",
     "iopub.status.busy": "2021-09-17T09:30:09.169328Z",
     "iopub.status.idle": "2021-09-17T09:30:10.642119Z",
     "shell.execute_reply": "2021-09-17T09:30:10.643472Z"
    },
    "papermill": {
     "duration": 1.506393,
     "end_time": "2021-09-17T09:30:10.643893",
     "exception": false,
     "start_time": "2021-09-17T09:30:09.137500",
     "status": "completed"
    },
    "tags": []
   },
   "outputs": [
    {
     "data": {
      "text/plain": [
       "<AxesSubplot:ylabel='PRODUCT'>"
      ]
     },
     "execution_count": 7,
     "metadata": {},
     "output_type": "execute_result"
    },
    {
     "data": {
      "image/png": "[encoded data removed]",
      "text/plain": [
       "<Figure size 432x288 with 1 Axes>"
      ]
     },
     "metadata": {
      "needs_background": "light"
     },
     "output_type": "display_data"
    }
   ],
   "source": [
    "df_pivot_diff.sort_values(\"stamp_2\", ascending = False)[\"stamp_2\"].head(10).plot.barh()"
   ]
  },
  {
   "cell_type": "code",
   "execution_count": null,
   "id": "extra-executive",
   "metadata": {
    "papermill": {
     "duration": 0.022389,
     "end_time": "2021-09-17T09:30:10.691091",
     "exception": false,
     "start_time": "2021-09-17T09:30:10.668702",
     "status": "completed"
    },
    "tags": []
   },
   "outputs": [],
   "source": []
  }
 ],
 "metadata": {
  "kernelspec": {
   "display_name": "Python 3",
   "language": "python",
   "name": "python3"
  },
  "language_info": {
   "codemirror_mode": {
    "name": "ipython",
    "version": 3
   },
   "file_extension": ".py",
   "mimetype": "text/x-python",
   "name": "python",
   "nbconvert_exporter": "python",
   "pygments_lexer": "ipython3",
   "version": "3.9.5"
  },
  "papermill": {
   "default_parameters": {},
   "duration": 6.558613,
   "end_time": "2021-09-17T09:30:11.332382",
   "environment_variables": {},
   "exception": null,
   "input_path": "eBay_Overview.ipynb",
   "output_path": "eBay_Overview.ipynb",
   "parameters": {},
   "start_time": "2021-09-17T09:30:04.773769",
   "version": "2.3.3"
  }
 },
 "nbformat": 4,
 "nbformat_minor": 5
}