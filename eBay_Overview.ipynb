{
 "cells": [
  {
   "cell_type": "code",
   "execution_count": 1,
   "id": "reverse-picking",
   "metadata": {
    "execution": {
     "iopub.execute_input": "2021-10-15T10:00:07.317102Z",
     "iopub.status.busy": "2021-10-15T10:00:07.315063Z",
     "iopub.status.idle": "2021-10-15T10:00:08.121593Z",
     "shell.execute_reply": "2021-10-15T10:00:08.122871Z"
    },
    "papermill": {
     "duration": 0.858533,
     "end_time": "2021-10-15T10:00:08.123478",
     "exception": false,
     "start_time": "2021-10-15T10:00:07.264945",
     "status": "completed"
    },
    "tags": []
   },
   "outputs": [],
   "source": [
    "import pandas as pd\n",
    "import sqlite3"
   ]
  },
  {
   "cell_type": "code",
   "execution_count": 2,
   "id": "innovative-syndrome",
   "metadata": {
    "execution": {
     "iopub.execute_input": "2021-10-15T10:00:08.174042Z",
     "iopub.status.busy": "2021-10-15T10:00:08.172035Z",
     "iopub.status.idle": "2021-10-15T10:00:08.738186Z",
     "shell.execute_reply": "2021-10-15T10:00:08.739547Z"
    },
    "papermill": {
     "duration": 0.595863,
     "end_time": "2021-10-15T10:00:08.739976",
     "exception": false,
     "start_time": "2021-10-15T10:00:08.144113",
     "status": "completed"
    },
    "tags": []
   },
   "outputs": [],
   "source": [
    "timestamps = pd.read_sql(\"select distinct record_time from EBAY_TOP_BERLIN order by record_time desc limit 2\", sqlite3.connect(\"UsedObjects.db\"))"
   ]
  },
  {
   "cell_type": "code",
   "execution_count": 3,
   "id": "periodic-identification",
   "metadata": {
    "execution": {
     "iopub.execute_input": "2021-10-15T10:00:08.815423Z",
     "iopub.status.busy": "2021-10-15T10:00:08.813413Z",
     "iopub.status.idle": "2021-10-15T10:00:08.833712Z",
     "shell.execute_reply": "2021-10-15T10:00:08.834991Z"
    },
    "papermill": {
     "duration": 0.069709,
     "end_time": "2021-10-15T10:00:08.835395",
     "exception": false,
     "start_time": "2021-10-15T10:00:08.765686",
     "status": "completed"
    },
    "tags": []
   },
   "outputs": [
    {
     "data": {
      "text/html": [
       "<div>\n",
       "<style scoped>\n",
       "    .dataframe tbody tr th:only-of-type {\n",
       "        vertical-align: middle;\n",
       "    }\n",
       "\n",
       "    .dataframe tbody tr th {\n",
       "        vertical-align: top;\n",
       "    }\n",
       "\n",
       "    .dataframe thead th {\n",
       "        text-align: right;\n",
       "    }\n",
       "</style>\n",
       "<table border=\"1\" class=\"dataframe\">\n",
       "  <thead>\n",
       "    <tr style=\"text-align: right;\">\n",
       "      <th></th>\n",
       "      <th>RECORD_TIME</th>\n",
       "    </tr>\n",
       "  </thead>\n",
       "  <tbody>\n",
       "    <tr>\n",
       "      <th>0</th>\n",
       "      <td>2021-10-15 12:00</td>\n",
       "    </tr>\n",
       "    <tr>\n",
       "      <th>1</th>\n",
       "      <td>2021-10-15 11:30</td>\n",
       "    </tr>\n",
       "  </tbody>\n",
       "</table>\n",
       "</div>"
      ],
      "text/plain": [
       "        RECORD_TIME\n",
       "0  2021-10-15 12:00\n",
       "1  2021-10-15 11:30"
      ]
     },
     "execution_count": 3,
     "metadata": {},
     "output_type": "execute_result"
    }
   ],
   "source": [
    "timestamps"
   ]
  },
  {
   "cell_type": "code",
   "execution_count": 4,
   "id": "alternate-victory",
   "metadata": {
    "execution": {
     "iopub.execute_input": "2021-10-15T10:00:08.887254Z",
     "iopub.status.busy": "2021-10-15T10:00:08.885098Z",
     "iopub.status.idle": "2021-10-15T10:00:09.687418Z",
     "shell.execute_reply": "2021-10-15T10:00:09.688787Z"
    },
    "papermill": {
     "duration": 0.832628,
     "end_time": "2021-10-15T10:00:09.689256",
     "exception": false,
     "start_time": "2021-10-15T10:00:08.856628",
     "status": "completed"
    },
    "tags": []
   },
   "outputs": [],
   "source": [
    "df = pd.read_sql(\"select * from EBAY_TOP_BERLIN where record_time in (select distinct record_time from EBAY_TOP_BERLIN order by record_time desc limit 2)\", sqlite3.connect(\"UsedObjects.db\"))"
   ]
  },
  {
   "cell_type": "code",
   "execution_count": 5,
   "id": "popular-active",
   "metadata": {
    "execution": {
     "iopub.execute_input": "2021-10-15T10:00:09.754963Z",
     "iopub.status.busy": "2021-10-15T10:00:09.747764Z",
     "iopub.status.idle": "2021-10-15T10:00:09.775723Z",
     "shell.execute_reply": "2021-10-15T10:00:09.777152Z"
    },
    "papermill": {
     "duration": 0.067323,
     "end_time": "2021-10-15T10:00:09.777562",
     "exception": false,
     "start_time": "2021-10-15T10:00:09.710239",
     "status": "completed"
    },
    "tags": []
   },
   "outputs": [],
   "source": [
    "df_pivot = df.pivot_table(index=\"PRODUCT\", columns = \"RECORD_TIME\", values = \"LISTING_COUNT\")"
   ]
  },
  {
   "cell_type": "code",
   "execution_count": 6,
   "id": "union-huntington",
   "metadata": {
    "execution": {
     "iopub.execute_input": "2021-10-15T10:00:09.836281Z",
     "iopub.status.busy": "2021-10-15T10:00:09.833838Z",
     "iopub.status.idle": "2021-10-15T10:00:09.839745Z",
     "shell.execute_reply": "2021-10-15T10:00:09.841091Z"
    },
    "papermill": {
     "duration": 0.042502,
     "end_time": "2021-10-15T10:00:09.841505",
     "exception": false,
     "start_time": "2021-10-15T10:00:09.799003",
     "status": "completed"
    },
    "tags": []
   },
   "outputs": [],
   "source": [
    "df_pivot.columns = [\"stamp_1\", \"stamp_2\"]\n",
    "df_pivot_diff = df_pivot.diff(axis=1)"
   ]
  },
  {
   "cell_type": "code",
   "execution_count": 7,
   "id": "fifth-motion",
   "metadata": {
    "execution": {
     "iopub.execute_input": "2021-10-15T10:00:09.896106Z",
     "iopub.status.busy": "2021-10-15T10:00:09.893819Z",
     "iopub.status.idle": "2021-10-15T10:00:11.378998Z",
     "shell.execute_reply": "2021-10-15T10:00:11.380188Z"
    },
    "papermill": {
     "duration": 1.518483,
     "end_time": "2021-10-15T10:00:11.380608",
     "exception": false,
     "start_time": "2021-10-15T10:00:09.862125",
     "status": "completed"
    },
    "tags": []
   },
   "outputs": [
    {
     "data": {
      "text/plain": [
       "<AxesSubplot:ylabel='PRODUCT'>"
      ]
     },
     "execution_count": 7,
     "metadata": {},
     "output_type": "execute_result"
    },
    {
     "data": {
      "image/png": "[encoded data removed]",
      "text/plain": [
       "<Figure size 432x288 with 1 Axes>"
      ]
     },
     "metadata": {
      "needs_background": "light"
     },
     "output_type": "display_data"
    }
   ],
   "source": [
    "df_pivot_diff.sort_values(\"stamp_2\", ascending = False)[\"stamp_2\"].head(10).plot.barh()"
   ]
  },
  {
   "cell_type": "code",
   "execution_count": null,
   "id": "extra-executive",
   "metadata": {
    "papermill": {
     "duration": 0.022896,
     "end_time": "2021-10-15T10:00:11.427782",
     "exception": false,
     "start_time": "2021-10-15T10:00:11.404886",
     "status": "completed"
    },
    "tags": []
   },
   "outputs": [],
   "source": []
  }
 ],
 "metadata": {
  "kernelspec": {
   "display_name": "Python 3",
   "language": "python",
   "name": "python3"
  },
  "language_info": {
   "codemirror_mode": {
    "name": "ipython",
    "version": 3
   },
   "file_extension": ".py",
   "mimetype": "text/x-python",
   "name": "python",
   "nbconvert_exporter": "python",
   "pygments_lexer": "ipython3",
   "version": "3.9.5"
  },
  "papermill": {
   "default_parameters": {},
   "duration": 7.822679,
   "end_time": "2021-10-15T10:00:12.681889",
   "environment_variables": {},
   "exception": null,
   "input_path": "eBay_Overview.ipynb",
   "output_path": "eBay_Overview.ipynb",
   "parameters": {},
   "start_time": "2021-10-15T10:00:04.859210",
   "version": "2.3.3"
  }
 },
 "nbformat": 4,
 "nbformat_minor": 5
}