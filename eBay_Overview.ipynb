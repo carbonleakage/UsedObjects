{
 "cells": [
  {
   "cell_type": "code",
   "execution_count": 1,
   "id": "reverse-picking",
   "metadata": {
    "execution": {
     "iopub.execute_input": "2021-12-18T09:00:07.623945Z",
     "iopub.status.busy": "2021-12-18T09:00:07.621553Z",
     "iopub.status.idle": "2021-12-18T09:00:08.578413Z",
     "shell.execute_reply": "2021-12-18T09:00:08.580671Z"
    },
    "papermill": {
     "duration": 1.006106,
     "end_time": "2021-12-18T09:00:08.581529",
     "exception": false,
     "start_time": "2021-12-18T09:00:07.575423",
     "status": "completed"
    },
    "tags": []
   },
   "outputs": [],
   "source": [
    "import pandas as pd\n",
    "import sqlite3"
   ]
  },
  {
   "cell_type": "code",
   "execution_count": 2,
   "id": "innovative-syndrome",
   "metadata": {
    "execution": {
     "iopub.execute_input": "2021-12-18T09:00:08.645412Z",
     "iopub.status.busy": "2021-12-18T09:00:08.642017Z",
     "iopub.status.idle": "2021-12-18T09:00:09.753712Z",
     "shell.execute_reply": "2021-12-18T09:00:09.754988Z"
    },
    "papermill": {
     "duration": 1.14673,
     "end_time": "2021-12-18T09:00:09.755391",
     "exception": false,
     "start_time": "2021-12-18T09:00:08.608661",
     "status": "completed"
    },
    "tags": []
   },
   "outputs": [],
   "source": [
    "timestamps = pd.read_sql(\"select distinct record_time from EBAY_TOP_BERLIN order by record_time desc limit 2\", sqlite3.connect(\"UsedObjects.db\"))"
   ]
  },
  {
   "cell_type": "code",
   "execution_count": 3,
   "id": "periodic-identification",
   "metadata": {
    "execution": {
     "iopub.execute_input": "2021-12-18T09:00:09.820224Z",
     "iopub.status.busy": "2021-12-18T09:00:09.818200Z",
     "iopub.status.idle": "2021-12-18T09:00:09.838316Z",
     "shell.execute_reply": "2021-12-18T09:00:09.839624Z"
    },
    "papermill": {
     "duration": 0.064922,
     "end_time": "2021-12-18T09:00:09.840044",
     "exception": false,
     "start_time": "2021-12-18T09:00:09.775122",
     "status": "completed"
    },
    "tags": []
   },
   "outputs": [
    {
     "data": {
      "text/html": [
       "<div>\n",
       "<style scoped>\n",
       "    .dataframe tbody tr th:only-of-type {\n",
       "        vertical-align: middle;\n",
       "    }\n",
       "\n",
       "    .dataframe tbody tr th {\n",
       "        vertical-align: top;\n",
       "    }\n",
       "\n",
       "    .dataframe thead th {\n",
       "        text-align: right;\n",
       "    }\n",
       "</style>\n",
       "<table border=\"1\" class=\"dataframe\">\n",
       "  <thead>\n",
       "    <tr style=\"text-align: right;\">\n",
       "      <th></th>\n",
       "      <th>RECORD_TIME</th>\n",
       "    </tr>\n",
       "  </thead>\n",
       "  <tbody>\n",
       "    <tr>\n",
       "      <th>0</th>\n",
       "      <td>2021-12-18 10:00</td>\n",
       "    </tr>\n",
       "    <tr>\n",
       "      <th>1</th>\n",
       "      <td>2021-12-18 09:30</td>\n",
       "    </tr>\n",
       "  </tbody>\n",
       "</table>\n",
       "</div>"
      ],
      "text/plain": [
       "        RECORD_TIME\n",
       "0  2021-12-18 10:00\n",
       "1  2021-12-18 09:30"
      ]
     },
     "execution_count": 3,
     "metadata": {},
     "output_type": "execute_result"
    }
   ],
   "source": [
    "timestamps"
   ]
  },
  {
   "cell_type": "code",
   "execution_count": 4,
   "id": "alternate-victory",
   "metadata": {
    "execution": {
     "iopub.execute_input": "2021-12-18T09:00:09.894890Z",
     "iopub.status.busy": "2021-12-18T09:00:09.892654Z",
     "iopub.status.idle": "2021-12-18T09:00:11.487023Z",
     "shell.execute_reply": "2021-12-18T09:00:11.488566Z"
    },
    "papermill": {
     "duration": 1.627329,
     "end_time": "2021-12-18T09:00:11.489135",
     "exception": false,
     "start_time": "2021-12-18T09:00:09.861806",
     "status": "completed"
    },
    "tags": []
   },
   "outputs": [],
   "source": [
    "df = pd.read_sql(\"select * from EBAY_TOP_BERLIN where record_time in (select distinct record_time from EBAY_TOP_BERLIN order by record_time desc limit 2)\", sqlite3.connect(\"UsedObjects.db\"))"
   ]
  },
  {
   "cell_type": "code",
   "execution_count": 5,
   "id": "popular-active",
   "metadata": {
    "execution": {
     "iopub.execute_input": "2021-12-18T09:00:11.566919Z",
     "iopub.status.busy": "2021-12-18T09:00:11.553862Z",
     "iopub.status.idle": "2021-12-18T09:00:11.584881Z",
     "shell.execute_reply": "2021-12-18T09:00:11.586283Z"
    },
    "papermill": {
     "duration": 0.074394,
     "end_time": "2021-12-18T09:00:11.586757",
     "exception": false,
     "start_time": "2021-12-18T09:00:11.512363",
     "status": "completed"
    },
    "tags": []
   },
   "outputs": [],
   "source": [
    "df_pivot = df.pivot_table(index=\"PRODUCT\", columns = \"RECORD_TIME\", values = \"LISTING_COUNT\")"
   ]
  },
  {
   "cell_type": "code",
   "execution_count": 6,
   "id": "union-huntington",
   "metadata": {
    "execution": {
     "iopub.execute_input": "2021-12-18T09:00:11.646513Z",
     "iopub.status.busy": "2021-12-18T09:00:11.644148Z",
     "iopub.status.idle": "2021-12-18T09:00:11.652620Z",
     "shell.execute_reply": "2021-12-18T09:00:11.654423Z"
    },
    "papermill": {
     "duration": 0.048371,
     "end_time": "2021-12-18T09:00:11.655037",
     "exception": false,
     "start_time": "2021-12-18T09:00:11.606666",
     "status": "completed"
    },
    "tags": []
   },
   "outputs": [],
   "source": [
    "df_pivot.columns = [\"stamp_1\", \"stamp_2\"]\n",
    "df_pivot_diff = df_pivot.diff(axis=1)"
   ]
  },
  {
   "cell_type": "code",
   "execution_count": 7,
   "id": "fifth-motion",
   "metadata": {
    "execution": {
     "iopub.execute_input": "2021-12-18T09:00:11.713624Z",
     "iopub.status.busy": "2021-12-18T09:00:11.711082Z",
     "iopub.status.idle": "2021-12-18T09:00:13.739373Z",
     "shell.execute_reply": "2021-12-18T09:00:13.740653Z"
    },
    "papermill": {
     "duration": 2.063886,
     "end_time": "2021-12-18T09:00:13.741171",
     "exception": false,
     "start_time": "2021-12-18T09:00:11.677285",
     "status": "completed"
    },
    "tags": []
   },
   "outputs": [
    {
     "data": {
      "text/plain": [
       "<AxesSubplot:ylabel='PRODUCT'>"
      ]
     },
     "execution_count": 7,
     "metadata": {},
     "output_type": "execute_result"
    },
    {
     "data": {
      "image/png": "[encoded data removed]",
      "text/plain": [
       "<Figure size 432x288 with 1 Axes>"
      ]
     },
     "metadata": {
      "needs_background": "light"
     },
     "output_type": "display_data"
    }
   ],
   "source": [
    "df_pivot_diff.sort_values(\"stamp_2\", ascending = False)[\"stamp_2\"].head(10).plot.barh()"
   ]
  },
  {
   "cell_type": "code",
   "execution_count": null,
   "id": "extra-executive",
   "metadata": {
    "papermill": {
     "duration": 0.026697,
     "end_time": "2021-12-18T09:00:13.800149",
     "exception": false,
     "start_time": "2021-12-18T09:00:13.773452",
     "status": "completed"
    },
    "tags": []
   },
   "outputs": [],
   "source": []
  }
 ],
 "metadata": {
  "kernelspec": {
   "display_name": "Python 3",
   "language": "python",
   "name": "python3"
  },
  "language_info": {
   "codemirror_mode": {
    "name": "ipython",
    "version": 3
   },
   "file_extension": ".py",
   "mimetype": "text/x-python",
   "name": "python",
   "nbconvert_exporter": "python",
   "pygments_lexer": "ipython3",
   "version": "3.9.5"
  },
  "papermill": {
   "default_parameters": {},
   "duration": 9.607346,
   "end_time": "2021-12-18T09:00:14.447723",
   "environment_variables": {},
   "exception": null,
   "input_path": "eBay_Overview.ipynb",
   "output_path": "eBay_Overview.ipynb",
   "parameters": {},
   "start_time": "2021-12-18T09:00:04.840377",
   "version": "2.3.3"
  }
 },
 "nbformat": 4,
 "nbformat_minor": 5
}