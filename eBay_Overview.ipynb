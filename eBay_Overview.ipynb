{
 "cells": [
  {
   "cell_type": "code",
   "execution_count": 1,
   "id": "reverse-picking",
   "metadata": {
    "execution": {
     "iopub.execute_input": "2021-10-17T04:00:06.801117Z",
     "iopub.status.busy": "2021-10-17T04:00:06.799062Z",
     "iopub.status.idle": "2021-10-17T04:00:07.610233Z",
     "shell.execute_reply": "2021-10-17T04:00:07.611520Z"
    },
    "papermill": {
     "duration": 0.863883,
     "end_time": "2021-10-17T04:00:07.612133",
     "exception": false,
     "start_time": "2021-10-17T04:00:06.748250",
     "status": "completed"
    },
    "tags": []
   },
   "outputs": [],
   "source": [
    "import pandas as pd\n",
    "import sqlite3"
   ]
  },
  {
   "cell_type": "code",
   "execution_count": 2,
   "id": "innovative-syndrome",
   "metadata": {
    "execution": {
     "iopub.execute_input": "2021-10-17T04:00:07.662684Z",
     "iopub.status.busy": "2021-10-17T04:00:07.660360Z",
     "iopub.status.idle": "2021-10-17T04:00:08.231128Z",
     "shell.execute_reply": "2021-10-17T04:00:08.232329Z"
    },
    "papermill": {
     "duration": 0.600526,
     "end_time": "2021-10-17T04:00:08.232783",
     "exception": false,
     "start_time": "2021-10-17T04:00:07.632257",
     "status": "completed"
    },
    "tags": []
   },
   "outputs": [],
   "source": [
    "timestamps = pd.read_sql(\"select distinct record_time from EBAY_TOP_BERLIN order by record_time desc limit 2\", sqlite3.connect(\"UsedObjects.db\"))"
   ]
  },
  {
   "cell_type": "code",
   "execution_count": 3,
   "id": "periodic-identification",
   "metadata": {
    "execution": {
     "iopub.execute_input": "2021-10-17T04:00:08.310393Z",
     "iopub.status.busy": "2021-10-17T04:00:08.308219Z",
     "iopub.status.idle": "2021-10-17T04:00:08.328634Z",
     "shell.execute_reply": "2021-10-17T04:00:08.329951Z"
    },
    "papermill": {
     "duration": 0.070046,
     "end_time": "2021-10-17T04:00:08.330349",
     "exception": false,
     "start_time": "2021-10-17T04:00:08.260303",
     "status": "completed"
    },
    "tags": []
   },
   "outputs": [
    {
     "data": {
      "text/html": [
       "<div>\n",
       "<style scoped>\n",
       "    .dataframe tbody tr th:only-of-type {\n",
       "        vertical-align: middle;\n",
       "    }\n",
       "\n",
       "    .dataframe tbody tr th {\n",
       "        vertical-align: top;\n",
       "    }\n",
       "\n",
       "    .dataframe thead th {\n",
       "        text-align: right;\n",
       "    }\n",
       "</style>\n",
       "<table border=\"1\" class=\"dataframe\">\n",
       "  <thead>\n",
       "    <tr style=\"text-align: right;\">\n",
       "      <th></th>\n",
       "      <th>RECORD_TIME</th>\n",
       "    </tr>\n",
       "  </thead>\n",
       "  <tbody>\n",
       "    <tr>\n",
       "      <th>0</th>\n",
       "      <td>2021-10-17 06:00</td>\n",
       "    </tr>\n",
       "    <tr>\n",
       "      <th>1</th>\n",
       "      <td>2021-10-17 05:30</td>\n",
       "    </tr>\n",
       "  </tbody>\n",
       "</table>\n",
       "</div>"
      ],
      "text/plain": [
       "        RECORD_TIME\n",
       "0  2021-10-17 06:00\n",
       "1  2021-10-17 05:30"
      ]
     },
     "execution_count": 3,
     "metadata": {},
     "output_type": "execute_result"
    }
   ],
   "source": [
    "timestamps"
   ]
  },
  {
   "cell_type": "code",
   "execution_count": 4,
   "id": "alternate-victory",
   "metadata": {
    "execution": {
     "iopub.execute_input": "2021-10-17T04:00:08.381584Z",
     "iopub.status.busy": "2021-10-17T04:00:08.379588Z",
     "iopub.status.idle": "2021-10-17T04:00:09.178797Z",
     "shell.execute_reply": "2021-10-17T04:00:09.180020Z"
    },
    "papermill": {
     "duration": 0.828948,
     "end_time": "2021-10-17T04:00:09.180416",
     "exception": false,
     "start_time": "2021-10-17T04:00:08.351468",
     "status": "completed"
    },
    "tags": []
   },
   "outputs": [],
   "source": [
    "df = pd.read_sql(\"select * from EBAY_TOP_BERLIN where record_time in (select distinct record_time from EBAY_TOP_BERLIN order by record_time desc limit 2)\", sqlite3.connect(\"UsedObjects.db\"))"
   ]
  },
  {
   "cell_type": "code",
   "execution_count": 5,
   "id": "popular-active",
   "metadata": {
    "execution": {
     "iopub.execute_input": "2021-10-17T04:00:09.252906Z",
     "iopub.status.busy": "2021-10-17T04:00:09.241422Z",
     "iopub.status.idle": "2021-10-17T04:00:09.268583Z",
     "shell.execute_reply": "2021-10-17T04:00:09.269976Z"
    },
    "papermill": {
     "duration": 0.067782,
     "end_time": "2021-10-17T04:00:09.270392",
     "exception": false,
     "start_time": "2021-10-17T04:00:09.202610",
     "status": "completed"
    },
    "tags": []
   },
   "outputs": [],
   "source": [
    "df_pivot = df.pivot_table(index=\"PRODUCT\", columns = \"RECORD_TIME\", values = \"LISTING_COUNT\")"
   ]
  },
  {
   "cell_type": "code",
   "execution_count": 6,
   "id": "union-huntington",
   "metadata": {
    "execution": {
     "iopub.execute_input": "2021-10-17T04:00:09.326120Z",
     "iopub.status.busy": "2021-10-17T04:00:09.323964Z",
     "iopub.status.idle": "2021-10-17T04:00:09.329206Z",
     "shell.execute_reply": "2021-10-17T04:00:09.330622Z"
    },
    "papermill": {
     "duration": 0.040472,
     "end_time": "2021-10-17T04:00:09.331045",
     "exception": false,
     "start_time": "2021-10-17T04:00:09.290573",
     "status": "completed"
    },
    "tags": []
   },
   "outputs": [],
   "source": [
    "df_pivot.columns = [\"stamp_1\", \"stamp_2\"]\n",
    "df_pivot_diff = df_pivot.diff(axis=1)"
   ]
  },
  {
   "cell_type": "code",
   "execution_count": 7,
   "id": "fifth-motion",
   "metadata": {
    "execution": {
     "iopub.execute_input": "2021-10-17T04:00:09.386625Z",
     "iopub.status.busy": "2021-10-17T04:00:09.383987Z",
     "iopub.status.idle": "2021-10-17T04:00:10.867312Z",
     "shell.execute_reply": "2021-10-17T04:00:10.868516Z"
    },
    "papermill": {
     "duration": 1.516835,
     "end_time": "2021-10-17T04:00:10.869141",
     "exception": false,
     "start_time": "2021-10-17T04:00:09.352306",
     "status": "completed"
    },
    "tags": []
   },
   "outputs": [
    {
     "data": {
      "text/plain": [
       "<AxesSubplot:ylabel='PRODUCT'>"
      ]
     },
     "execution_count": 7,
     "metadata": {},
     "output_type": "execute_result"
    },
    {
     "data": {
      "image/png": "[encoded data removed]",
      "text/plain": [
       "<Figure size 432x288 with 1 Axes>"
      ]
     },
     "metadata": {
      "needs_background": "light"
     },
     "output_type": "display_data"
    }
   ],
   "source": [
    "df_pivot_diff.sort_values(\"stamp_2\", ascending = False)[\"stamp_2\"].head(10).plot.barh()"
   ]
  },
  {
   "cell_type": "code",
   "execution_count": null,
   "id": "extra-executive",
   "metadata": {
    "papermill": {
     "duration": 0.022021,
     "end_time": "2021-10-17T04:00:10.917084",
     "exception": false,
     "start_time": "2021-10-17T04:00:10.895063",
     "status": "completed"
    },
    "tags": []
   },
   "outputs": [],
   "source": []
  }
 ],
 "metadata": {
  "kernelspec": {
   "display_name": "Python 3",
   "language": "python",
   "name": "python3"
  },
  "language_info": {
   "codemirror_mode": {
    "name": "ipython",
    "version": 3
   },
   "file_extension": ".py",
   "mimetype": "text/x-python",
   "name": "python",
   "nbconvert_exporter": "python",
   "pygments_lexer": "ipython3",
   "version": "3.9.5"
  },
  "papermill": {
   "default_parameters": {},
   "duration": 7.824174,
   "end_time": "2021-10-17T04:00:12.161385",
   "environment_variables": {},
   "exception": null,
   "input_path": "eBay_Overview.ipynb",
   "output_path": "eBay_Overview.ipynb",
   "parameters": {},
   "start_time": "2021-10-17T04:00:04.337211",
   "version": "2.3.3"
  }
 },
 "nbformat": 4,
 "nbformat_minor": 5
}