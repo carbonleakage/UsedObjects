{
 "cells": [
  {
   "cell_type": "code",
   "execution_count": 1,
   "id": "reverse-picking",
   "metadata": {
    "execution": {
     "iopub.execute_input": "2021-09-03T02:00:07.186311Z",
     "iopub.status.busy": "2021-09-03T02:00:07.184402Z",
     "iopub.status.idle": "2021-09-03T02:00:07.986060Z",
     "shell.execute_reply": "2021-09-03T02:00:07.987506Z"
    },
    "papermill": {
     "duration": 0.85201,
     "end_time": "2021-09-03T02:00:07.988175",
     "exception": false,
     "start_time": "2021-09-03T02:00:07.136165",
     "status": "completed"
    },
    "tags": []
   },
   "outputs": [],
   "source": [
    "import pandas as pd\n",
    "import sqlite3"
   ]
  },
  {
   "cell_type": "code",
   "execution_count": 2,
   "id": "innovative-syndrome",
   "metadata": {
    "execution": {
     "iopub.execute_input": "2021-09-03T02:00:08.039235Z",
     "iopub.status.busy": "2021-09-03T02:00:08.037103Z",
     "iopub.status.idle": "2021-09-03T02:00:08.230548Z",
     "shell.execute_reply": "2021-09-03T02:00:08.231971Z"
    },
    "papermill": {
     "duration": 0.223912,
     "end_time": "2021-09-03T02:00:08.232374",
     "exception": false,
     "start_time": "2021-09-03T02:00:08.008462",
     "status": "completed"
    },
    "tags": []
   },
   "outputs": [],
   "source": [
    "timestamps = pd.read_sql(\"select distinct record_time from EBAY_TOP_BERLIN order by record_time desc limit 2\", sqlite3.connect(\"UsedObjects.db\"))"
   ]
  },
  {
   "cell_type": "code",
   "execution_count": 3,
   "id": "periodic-identification",
   "metadata": {
    "execution": {
     "iopub.execute_input": "2021-09-03T02:00:08.300480Z",
     "iopub.status.busy": "2021-09-03T02:00:08.298405Z",
     "iopub.status.idle": "2021-09-03T02:00:08.318242Z",
     "shell.execute_reply": "2021-09-03T02:00:08.319512Z"
    },
    "papermill": {
     "duration": 0.066778,
     "end_time": "2021-09-03T02:00:08.319952",
     "exception": false,
     "start_time": "2021-09-03T02:00:08.253174",
     "status": "completed"
    },
    "tags": []
   },
   "outputs": [
    {
     "data": {
      "text/html": [
       "<div>\n",
       "<style scoped>\n",
       "    .dataframe tbody tr th:only-of-type {\n",
       "        vertical-align: middle;\n",
       "    }\n",
       "\n",
       "    .dataframe tbody tr th {\n",
       "        vertical-align: top;\n",
       "    }\n",
       "\n",
       "    .dataframe thead th {\n",
       "        text-align: right;\n",
       "    }\n",
       "</style>\n",
       "<table border=\"1\" class=\"dataframe\">\n",
       "  <thead>\n",
       "    <tr style=\"text-align: right;\">\n",
       "      <th></th>\n",
       "      <th>RECORD_TIME</th>\n",
       "    </tr>\n",
       "  </thead>\n",
       "  <tbody>\n",
       "    <tr>\n",
       "      <th>0</th>\n",
       "      <td>2021-09-03 04:00</td>\n",
       "    </tr>\n",
       "    <tr>\n",
       "      <th>1</th>\n",
       "      <td>2021-09-03 03:30</td>\n",
       "    </tr>\n",
       "  </tbody>\n",
       "</table>\n",
       "</div>"
      ],
      "text/plain": [
       "        RECORD_TIME\n",
       "0  2021-09-03 04:00\n",
       "1  2021-09-03 03:30"
      ]
     },
     "execution_count": 3,
     "metadata": {},
     "output_type": "execute_result"
    }
   ],
   "source": [
    "timestamps"
   ]
  },
  {
   "cell_type": "code",
   "execution_count": 4,
   "id": "alternate-victory",
   "metadata": {
    "execution": {
     "iopub.execute_input": "2021-09-03T02:00:08.374568Z",
     "iopub.status.busy": "2021-09-03T02:00:08.372289Z",
     "iopub.status.idle": "2021-09-03T02:00:08.675079Z",
     "shell.execute_reply": "2021-09-03T02:00:08.676307Z"
    },
    "papermill": {
     "duration": 0.333686,
     "end_time": "2021-09-03T02:00:08.676693",
     "exception": false,
     "start_time": "2021-09-03T02:00:08.343007",
     "status": "completed"
    },
    "tags": []
   },
   "outputs": [],
   "source": [
    "df = pd.read_sql(\"select * from EBAY_TOP_BERLIN where record_time in (select distinct record_time from EBAY_TOP_BERLIN order by record_time desc limit 2)\", sqlite3.connect(\"UsedObjects.db\"))"
   ]
  },
  {
   "cell_type": "code",
   "execution_count": 5,
   "id": "popular-active",
   "metadata": {
    "execution": {
     "iopub.execute_input": "2021-09-03T02:00:08.757542Z",
     "iopub.status.busy": "2021-09-03T02:00:08.749852Z",
     "iopub.status.idle": "2021-09-03T02:00:08.774143Z",
     "shell.execute_reply": "2021-09-03T02:00:08.775507Z"
    },
    "papermill": {
     "duration": 0.072802,
     "end_time": "2021-09-03T02:00:08.775925",
     "exception": false,
     "start_time": "2021-09-03T02:00:08.703123",
     "status": "completed"
    },
    "tags": []
   },
   "outputs": [],
   "source": [
    "df_pivot = df.pivot_table(index=\"PRODUCT\", columns = \"RECORD_TIME\", values = \"LISTING_COUNT\")"
   ]
  },
  {
   "cell_type": "code",
   "execution_count": 6,
   "id": "union-huntington",
   "metadata": {
    "execution": {
     "iopub.execute_input": "2021-09-03T02:00:08.833029Z",
     "iopub.status.busy": "2021-09-03T02:00:08.830832Z",
     "iopub.status.idle": "2021-09-03T02:00:08.836661Z",
     "shell.execute_reply": "2021-09-03T02:00:08.838037Z"
    },
    "papermill": {
     "duration": 0.041569,
     "end_time": "2021-09-03T02:00:08.838507",
     "exception": false,
     "start_time": "2021-09-03T02:00:08.796938",
     "status": "completed"
    },
    "tags": []
   },
   "outputs": [],
   "source": [
    "df_pivot.columns = [\"stamp_1\", \"stamp_2\"]\n",
    "df_pivot_diff = df_pivot.diff(axis=1)"
   ]
  },
  {
   "cell_type": "code",
   "execution_count": 7,
   "id": "fifth-motion",
   "metadata": {
    "execution": {
     "iopub.execute_input": "2021-09-03T02:00:08.893722Z",
     "iopub.status.busy": "2021-09-03T02:00:08.891462Z",
     "iopub.status.idle": "2021-09-03T02:00:10.339637Z",
     "shell.execute_reply": "2021-09-03T02:00:10.340938Z"
    },
    "papermill": {
     "duration": 1.481422,
     "end_time": "2021-09-03T02:00:10.341356",
     "exception": false,
     "start_time": "2021-09-03T02:00:08.859934",
     "status": "completed"
    },
    "tags": []
   },
   "outputs": [
    {
     "data": {
      "text/plain": [
       "<AxesSubplot:ylabel='PRODUCT'>"
      ]
     },
     "execution_count": 7,
     "metadata": {},
     "output_type": "execute_result"
    },
    {
     "data": {
      "image/png": "[encoded data removed]",
      "text/plain": [
       "<Figure size 432x288 with 1 Axes>"
      ]
     },
     "metadata": {
      "needs_background": "light"
     },
     "output_type": "display_data"
    }
   ],
   "source": [
    "df_pivot_diff.sort_values(\"stamp_2\", ascending = False)[\"stamp_2\"].head(10).plot.barh()"
   ]
  },
  {
   "cell_type": "code",
   "execution_count": null,
   "id": "extra-executive",
   "metadata": {
    "papermill": {
     "duration": 0.022131,
     "end_time": "2021-09-03T02:00:10.388141",
     "exception": false,
     "start_time": "2021-09-03T02:00:10.366010",
     "status": "completed"
    },
    "tags": []
   },
   "outputs": [],
   "source": []
  }
 ],
 "metadata": {
  "kernelspec": {
   "display_name": "Python 3",
   "language": "python",
   "name": "python3"
  },
  "language_info": {
   "codemirror_mode": {
    "name": "ipython",
    "version": 3
   },
   "file_extension": ".py",
   "mimetype": "text/x-python",
   "name": "python",
   "nbconvert_exporter": "python",
   "pygments_lexer": "ipython3",
   "version": "3.9.5"
  },
  "papermill": {
   "default_parameters": {},
   "duration": 6.823086,
   "end_time": "2021-09-03T02:00:11.553751",
   "environment_variables": {},
   "exception": null,
   "input_path": "eBay_Overview.ipynb",
   "output_path": "eBay_Overview.ipynb",
   "parameters": {},
   "start_time": "2021-09-03T02:00:04.730665",
   "version": "2.3.3"
  }
 },
 "nbformat": 4,
 "nbformat_minor": 5
}