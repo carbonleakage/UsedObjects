{
 "cells": [
  {
   "cell_type": "code",
   "execution_count": 1,
   "id": "reverse-picking",
   "metadata": {
    "execution": {
     "iopub.execute_input": "2021-08-11T04:30:05.071778Z",
     "iopub.status.busy": "2021-08-11T04:30:05.071010Z",
     "iopub.status.idle": "2021-08-11T04:30:05.685416Z",
     "shell.execute_reply": "2021-08-11T04:30:05.684712Z"
    },
    "papermill": {
     "duration": 0.633189,
     "end_time": "2021-08-11T04:30:05.685605",
     "exception": false,
     "start_time": "2021-08-11T04:30:05.052416",
     "status": "completed"
    },
    "tags": []
   },
   "outputs": [],
   "source": [
    "import pandas as pd\n",
    "import sqlite3"
   ]
  },
  {
   "cell_type": "code",
   "execution_count": 2,
   "id": "innovative-syndrome",
   "metadata": {
    "execution": {
     "iopub.execute_input": "2021-08-11T04:30:05.712405Z",
     "iopub.status.busy": "2021-08-11T04:30:05.711601Z",
     "iopub.status.idle": "2021-08-11T04:30:05.921062Z",
     "shell.execute_reply": "2021-08-11T04:30:05.920447Z"
    },
    "papermill": {
     "duration": 0.222553,
     "end_time": "2021-08-11T04:30:05.921227",
     "exception": false,
     "start_time": "2021-08-11T04:30:05.698674",
     "status": "completed"
    },
    "tags": []
   },
   "outputs": [],
   "source": [
    "timestamps = pd.read_sql(\"select distinct record_time from EBAY_TOP_BERLIN order by record_time desc limit 2\", sqlite3.connect(\"UsedObjects.db\"))"
   ]
  },
  {
   "cell_type": "code",
   "execution_count": 3,
   "id": "periodic-identification",
   "metadata": {
    "execution": {
     "iopub.execute_input": "2021-08-11T04:30:05.954320Z",
     "iopub.status.busy": "2021-08-11T04:30:05.953539Z",
     "iopub.status.idle": "2021-08-11T04:30:05.964207Z",
     "shell.execute_reply": "2021-08-11T04:30:05.964746Z"
    },
    "papermill": {
     "duration": 0.035278,
     "end_time": "2021-08-11T04:30:05.964928",
     "exception": false,
     "start_time": "2021-08-11T04:30:05.929650",
     "status": "completed"
    },
    "tags": []
   },
   "outputs": [
    {
     "data": {
      "text/html": [
       "<div>\n",
       "<style scoped>\n",
       "    .dataframe tbody tr th:only-of-type {\n",
       "        vertical-align: middle;\n",
       "    }\n",
       "\n",
       "    .dataframe tbody tr th {\n",
       "        vertical-align: top;\n",
       "    }\n",
       "\n",
       "    .dataframe thead th {\n",
       "        text-align: right;\n",
       "    }\n",
       "</style>\n",
       "<table border=\"1\" class=\"dataframe\">\n",
       "  <thead>\n",
       "    <tr style=\"text-align: right;\">\n",
       "      <th></th>\n",
       "      <th>RECORD_TIME</th>\n",
       "    </tr>\n",
       "  </thead>\n",
       "  <tbody>\n",
       "    <tr>\n",
       "      <th>0</th>\n",
       "      <td>2021-08-11 06:30</td>\n",
       "    </tr>\n",
       "    <tr>\n",
       "      <th>1</th>\n",
       "      <td>2021-08-11 06:00</td>\n",
       "    </tr>\n",
       "  </tbody>\n",
       "</table>\n",
       "</div>"
      ],
      "text/plain": [
       "        RECORD_TIME\n",
       "0  2021-08-11 06:30\n",
       "1  2021-08-11 06:00"
      ]
     },
     "execution_count": 3,
     "metadata": {},
     "output_type": "execute_result"
    }
   ],
   "source": [
    "timestamps"
   ]
  },
  {
   "cell_type": "code",
   "execution_count": 4,
   "id": "alternate-victory",
   "metadata": {
    "execution": {
     "iopub.execute_input": "2021-08-11T04:30:05.991817Z",
     "iopub.status.busy": "2021-08-11T04:30:05.991011Z",
     "iopub.status.idle": "2021-08-11T04:30:06.011091Z",
     "shell.execute_reply": "2021-08-11T04:30:06.009671Z"
    },
    "papermill": {
     "duration": 0.033414,
     "end_time": "2021-08-11T04:30:06.011585",
     "exception": false,
     "start_time": "2021-08-11T04:30:05.978171",
     "status": "completed"
    },
    "tags": []
   },
   "outputs": [],
   "source": [
    "df = pd.read_sql(\"select * from EBAY_TOP_BERLIN where record_time in (select distinct record_time from EBAY_TOP_BERLIN order by record_time desc limit 2)\", sqlite3.connect(\"UsedObjects.db\"))"
   ]
  },
  {
   "cell_type": "code",
   "execution_count": 5,
   "id": "popular-active",
   "metadata": {
    "execution": {
     "iopub.execute_input": "2021-08-11T04:30:06.043537Z",
     "iopub.status.busy": "2021-08-11T04:30:06.042762Z",
     "iopub.status.idle": "2021-08-11T04:30:06.059017Z",
     "shell.execute_reply": "2021-08-11T04:30:06.059552Z"
    },
    "papermill": {
     "duration": 0.037408,
     "end_time": "2021-08-11T04:30:06.059736",
     "exception": false,
     "start_time": "2021-08-11T04:30:06.022328",
     "status": "completed"
    },
    "tags": []
   },
   "outputs": [],
   "source": [
    "df_pivot = df.pivot_table(index=\"PRODUCT\", columns = \"RECORD_TIME\", values = \"LISTING_COUNT\")"
   ]
  },
  {
   "cell_type": "code",
   "execution_count": 6,
   "id": "union-huntington",
   "metadata": {
    "execution": {
     "iopub.execute_input": "2021-08-11T04:30:06.090229Z",
     "iopub.status.busy": "2021-08-11T04:30:06.089494Z",
     "iopub.status.idle": "2021-08-11T04:30:06.095916Z",
     "shell.execute_reply": "2021-08-11T04:30:06.096588Z"
    },
    "papermill": {
     "duration": 0.028488,
     "end_time": "2021-08-11T04:30:06.096840",
     "exception": false,
     "start_time": "2021-08-11T04:30:06.068352",
     "status": "completed"
    },
    "tags": []
   },
   "outputs": [],
   "source": [
    "df_pivot.columns = [\"stamp_1\", \"stamp_2\"]\n",
    "df_pivot_diff = df_pivot.diff(axis=1)"
   ]
  },
  {
   "cell_type": "code",
   "execution_count": 7,
   "id": "fifth-motion",
   "metadata": {
    "execution": {
     "iopub.execute_input": "2021-08-11T04:30:06.125652Z",
     "iopub.status.busy": "2021-08-11T04:30:06.124892Z",
     "iopub.status.idle": "2021-08-11T04:30:06.846990Z",
     "shell.execute_reply": "2021-08-11T04:30:06.847559Z"
    },
    "papermill": {
     "duration": 0.737792,
     "end_time": "2021-08-11T04:30:06.847754",
     "exception": false,
     "start_time": "2021-08-11T04:30:06.109962",
     "status": "completed"
    },
    "tags": []
   },
   "outputs": [
    {
     "data": {
      "text/plain": [
       "<AxesSubplot:ylabel='PRODUCT'>"
      ]
     },
     "execution_count": 7,
     "metadata": {},
     "output_type": "execute_result"
    },
    {
     "data": {
      "image/png": "[encoded data removed]",
      "text/plain": [
       "<Figure size 432x288 with 1 Axes>"
      ]
     },
     "metadata": {
      "needs_background": "light"
     },
     "output_type": "display_data"
    }
   ],
   "source": [
    "df_pivot_diff.sort_values(\"stamp_2\", ascending = False)[\"stamp_2\"].head(10).plot.barh()"
   ]
  },
  {
   "cell_type": "code",
   "execution_count": null,
   "id": "extra-executive",
   "metadata": {
    "papermill": {
     "duration": 0.009897,
     "end_time": "2021-08-11T04:30:06.867859",
     "exception": false,
     "start_time": "2021-08-11T04:30:06.857962",
     "status": "completed"
    },
    "tags": []
   },
   "outputs": [],
   "source": []
  }
 ],
 "metadata": {
  "kernelspec": {
   "display_name": "Python 3",
   "language": "python",
   "name": "python3"
  },
  "language_info": {
   "codemirror_mode": {
    "name": "ipython",
    "version": 3
   },
   "file_extension": ".py",
   "mimetype": "text/x-python",
   "name": "python",
   "nbconvert_exporter": "python",
   "pygments_lexer": "ipython3",
   "version": "3.8.8"
  },
  "papermill": {
   "default_parameters": {},
   "duration": 5.05283,
   "end_time": "2021-08-11T04:30:08.429780",
   "environment_variables": {},
   "exception": null,
   "input_path": "/Users/saravananshanmugam/Carbonleakage_Git/UsedObjects/eBay_Overview.ipynb",
   "output_path": "/Users/saravananshanmugam/Carbonleakage_Git/UsedObjects/eBay_Overview.ipynb",
   "parameters": {},
   "start_time": "2021-08-11T04:30:03.376950",
   "version": "2.3.3"
  }
 },
 "nbformat": 4,
 "nbformat_minor": 5
}