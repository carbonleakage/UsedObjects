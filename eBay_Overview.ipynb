{
 "cells": [
  {
   "cell_type": "code",
   "execution_count": 1,
   "id": "reverse-picking",
   "metadata": {
    "execution": {
     "iopub.execute_input": "2021-11-30T08:00:07.103088Z",
     "iopub.status.busy": "2021-11-30T08:00:07.100763Z",
     "iopub.status.idle": "2021-11-30T08:00:08.018897Z",
     "shell.execute_reply": "2021-11-30T08:00:08.021533Z"
    },
    "papermill": {
     "duration": 0.969646,
     "end_time": "2021-11-30T08:00:08.022265",
     "exception": false,
     "start_time": "2021-11-30T08:00:07.052619",
     "status": "completed"
    },
    "tags": []
   },
   "outputs": [],
   "source": [
    "import pandas as pd\n",
    "import sqlite3"
   ]
  },
  {
   "cell_type": "code",
   "execution_count": 2,
   "id": "innovative-syndrome",
   "metadata": {
    "execution": {
     "iopub.execute_input": "2021-11-30T08:00:08.138518Z",
     "iopub.status.busy": "2021-11-30T08:00:08.136121Z",
     "iopub.status.idle": "2021-11-30T08:00:09.090366Z",
     "shell.execute_reply": "2021-11-30T08:00:09.092363Z"
    },
    "papermill": {
     "duration": 0.988124,
     "end_time": "2021-11-30T08:00:09.092951",
     "exception": false,
     "start_time": "2021-11-30T08:00:08.104827",
     "status": "completed"
    },
    "tags": []
   },
   "outputs": [],
   "source": [
    "timestamps = pd.read_sql(\"select distinct record_time from EBAY_TOP_BERLIN order by record_time desc limit 2\", sqlite3.connect(\"UsedObjects.db\"))"
   ]
  },
  {
   "cell_type": "code",
   "execution_count": 3,
   "id": "periodic-identification",
   "metadata": {
    "execution": {
     "iopub.execute_input": "2021-11-30T08:00:09.147129Z",
     "iopub.status.busy": "2021-11-30T08:00:09.144797Z",
     "iopub.status.idle": "2021-11-30T08:00:09.186840Z",
     "shell.execute_reply": "2021-11-30T08:00:09.188353Z"
    },
    "papermill": {
     "duration": 0.073053,
     "end_time": "2021-11-30T08:00:09.188880",
     "exception": false,
     "start_time": "2021-11-30T08:00:09.115827",
     "status": "completed"
    },
    "tags": []
   },
   "outputs": [
    {
     "data": {
      "text/html": [
       "<div>\n",
       "<style scoped>\n",
       "    .dataframe tbody tr th:only-of-type {\n",
       "        vertical-align: middle;\n",
       "    }\n",
       "\n",
       "    .dataframe tbody tr th {\n",
       "        vertical-align: top;\n",
       "    }\n",
       "\n",
       "    .dataframe thead th {\n",
       "        text-align: right;\n",
       "    }\n",
       "</style>\n",
       "<table border=\"1\" class=\"dataframe\">\n",
       "  <thead>\n",
       "    <tr style=\"text-align: right;\">\n",
       "      <th></th>\n",
       "      <th>RECORD_TIME</th>\n",
       "    </tr>\n",
       "  </thead>\n",
       "  <tbody>\n",
       "    <tr>\n",
       "      <th>0</th>\n",
       "      <td>2021-11-30 09:00</td>\n",
       "    </tr>\n",
       "    <tr>\n",
       "      <th>1</th>\n",
       "      <td>2021-11-30 08:30</td>\n",
       "    </tr>\n",
       "  </tbody>\n",
       "</table>\n",
       "</div>"
      ],
      "text/plain": [
       "        RECORD_TIME\n",
       "0  2021-11-30 09:00\n",
       "1  2021-11-30 08:30"
      ]
     },
     "execution_count": 3,
     "metadata": {},
     "output_type": "execute_result"
    }
   ],
   "source": [
    "timestamps"
   ]
  },
  {
   "cell_type": "code",
   "execution_count": 4,
   "id": "alternate-victory",
   "metadata": {
    "execution": {
     "iopub.execute_input": "2021-11-30T08:00:09.243684Z",
     "iopub.status.busy": "2021-11-30T08:00:09.241498Z",
     "iopub.status.idle": "2021-11-30T08:00:10.635764Z",
     "shell.execute_reply": "2021-11-30T08:00:10.637501Z"
    },
    "papermill": {
     "duration": 1.427741,
     "end_time": "2021-11-30T08:00:10.638006",
     "exception": false,
     "start_time": "2021-11-30T08:00:09.210265",
     "status": "completed"
    },
    "tags": []
   },
   "outputs": [],
   "source": [
    "df = pd.read_sql(\"select * from EBAY_TOP_BERLIN where record_time in (select distinct record_time from EBAY_TOP_BERLIN order by record_time desc limit 2)\", sqlite3.connect(\"UsedObjects.db\"))"
   ]
  },
  {
   "cell_type": "code",
   "execution_count": 5,
   "id": "popular-active",
   "metadata": {
    "execution": {
     "iopub.execute_input": "2021-11-30T08:00:10.716440Z",
     "iopub.status.busy": "2021-11-30T08:00:10.702522Z",
     "iopub.status.idle": "2021-11-30T08:00:10.735433Z",
     "shell.execute_reply": "2021-11-30T08:00:10.733952Z"
    },
    "papermill": {
     "duration": 0.076068,
     "end_time": "2021-11-30T08:00:10.735848",
     "exception": false,
     "start_time": "2021-11-30T08:00:10.659780",
     "status": "completed"
    },
    "tags": []
   },
   "outputs": [],
   "source": [
    "df_pivot = df.pivot_table(index=\"PRODUCT\", columns = \"RECORD_TIME\", values = \"LISTING_COUNT\")"
   ]
  },
  {
   "cell_type": "code",
   "execution_count": 6,
   "id": "union-huntington",
   "metadata": {
    "execution": {
     "iopub.execute_input": "2021-11-30T08:00:10.793639Z",
     "iopub.status.busy": "2021-11-30T08:00:10.791360Z",
     "iopub.status.idle": "2021-11-30T08:00:10.797023Z",
     "shell.execute_reply": "2021-11-30T08:00:10.798433Z"
    },
    "papermill": {
     "duration": 0.043024,
     "end_time": "2021-11-30T08:00:10.798916",
     "exception": false,
     "start_time": "2021-11-30T08:00:10.755892",
     "status": "completed"
    },
    "tags": []
   },
   "outputs": [],
   "source": [
    "df_pivot.columns = [\"stamp_1\", \"stamp_2\"]\n",
    "df_pivot_diff = df_pivot.diff(axis=1)"
   ]
  },
  {
   "cell_type": "code",
   "execution_count": 7,
   "id": "fifth-motion",
   "metadata": {
    "execution": {
     "iopub.execute_input": "2021-11-30T08:00:10.860146Z",
     "iopub.status.busy": "2021-11-30T08:00:10.857599Z",
     "iopub.status.idle": "2021-11-30T08:00:12.773905Z",
     "shell.execute_reply": "2021-11-30T08:00:12.776552Z"
    },
    "papermill": {
     "duration": 1.956574,
     "end_time": "2021-11-30T08:00:12.777441",
     "exception": false,
     "start_time": "2021-11-30T08:00:10.820867",
     "status": "completed"
    },
    "tags": []
   },
   "outputs": [
    {
     "data": {
      "text/plain": [
       "<AxesSubplot:ylabel='PRODUCT'>"
      ]
     },
     "execution_count": 7,
     "metadata": {},
     "output_type": "execute_result"
    },
    {
     "data": {
      "image/png": "[encoded data removed]",
      "text/plain": [
       "<Figure size 432x288 with 1 Axes>"
      ]
     },
     "metadata": {
      "needs_background": "light"
     },
     "output_type": "display_data"
    }
   ],
   "source": [
    "df_pivot_diff.sort_values(\"stamp_2\", ascending = False)[\"stamp_2\"].head(10).plot.barh()"
   ]
  },
  {
   "cell_type": "code",
   "execution_count": null,
   "id": "extra-executive",
   "metadata": {
    "papermill": {
     "duration": 0.06078,
     "end_time": "2021-11-30T08:00:12.875262",
     "exception": false,
     "start_time": "2021-11-30T08:00:12.814482",
     "status": "completed"
    },
    "tags": []
   },
   "outputs": [],
   "source": []
  }
 ],
 "metadata": {
  "kernelspec": {
   "display_name": "Python 3",
   "language": "python",
   "name": "python3"
  },
  "language_info": {
   "codemirror_mode": {
    "name": "ipython",
    "version": 3
   },
   "file_extension": ".py",
   "mimetype": "text/x-python",
   "name": "python",
   "nbconvert_exporter": "python",
   "pygments_lexer": "ipython3",
   "version": "3.9.5"
  },
  "papermill": {
   "default_parameters": {},
   "duration": 9.938941,
   "end_time": "2021-11-30T08:00:14.281062",
   "environment_variables": {},
   "exception": null,
   "input_path": "eBay_Overview.ipynb",
   "output_path": "eBay_Overview.ipynb",
   "parameters": {},
   "start_time": "2021-11-30T08:00:04.342121",
   "version": "2.3.3"
  }
 },
 "nbformat": 4,
 "nbformat_minor": 5
}