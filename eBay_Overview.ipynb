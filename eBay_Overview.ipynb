{
 "cells": [
  {
   "cell_type": "code",
   "execution_count": 1,
   "id": "reverse-picking",
   "metadata": {
    "execution": {
     "iopub.execute_input": "2021-11-22T04:30:07.419084Z",
     "iopub.status.busy": "2021-11-22T04:30:07.415252Z",
     "iopub.status.idle": "2021-11-22T04:30:08.381761Z",
     "shell.execute_reply": "2021-11-22T04:30:08.383482Z"
    },
    "papermill": {
     "duration": 1.017511,
     "end_time": "2021-11-22T04:30:08.384250",
     "exception": false,
     "start_time": "2021-11-22T04:30:07.366739",
     "status": "completed"
    },
    "tags": []
   },
   "outputs": [],
   "source": [
    "import pandas as pd\n",
    "import sqlite3"
   ]
  },
  {
   "cell_type": "code",
   "execution_count": 2,
   "id": "innovative-syndrome",
   "metadata": {
    "execution": {
     "iopub.execute_input": "2021-11-22T04:30:08.445614Z",
     "iopub.status.busy": "2021-11-22T04:30:08.442817Z",
     "iopub.status.idle": "2021-11-22T04:30:09.324122Z",
     "shell.execute_reply": "2021-11-22T04:30:09.325655Z"
    },
    "papermill": {
     "duration": 0.914935,
     "end_time": "2021-11-22T04:30:09.326168",
     "exception": false,
     "start_time": "2021-11-22T04:30:08.411233",
     "status": "completed"
    },
    "tags": []
   },
   "outputs": [],
   "source": [
    "timestamps = pd.read_sql(\"select distinct record_time from EBAY_TOP_BERLIN order by record_time desc limit 2\", sqlite3.connect(\"UsedObjects.db\"))"
   ]
  },
  {
   "cell_type": "code",
   "execution_count": 3,
   "id": "periodic-identification",
   "metadata": {
    "execution": {
     "iopub.execute_input": "2021-11-22T04:30:09.400040Z",
     "iopub.status.busy": "2021-11-22T04:30:09.397752Z",
     "iopub.status.idle": "2021-11-22T04:30:09.421654Z",
     "shell.execute_reply": "2021-11-22T04:30:09.423219Z"
    },
    "papermill": {
     "duration": 0.076769,
     "end_time": "2021-11-22T04:30:09.423743",
     "exception": false,
     "start_time": "2021-11-22T04:30:09.346974",
     "status": "completed"
    },
    "tags": []
   },
   "outputs": [
    {
     "data": {
      "text/html": [
       "<div>\n",
       "<style scoped>\n",
       "    .dataframe tbody tr th:only-of-type {\n",
       "        vertical-align: middle;\n",
       "    }\n",
       "\n",
       "    .dataframe tbody tr th {\n",
       "        vertical-align: top;\n",
       "    }\n",
       "\n",
       "    .dataframe thead th {\n",
       "        text-align: right;\n",
       "    }\n",
       "</style>\n",
       "<table border=\"1\" class=\"dataframe\">\n",
       "  <thead>\n",
       "    <tr style=\"text-align: right;\">\n",
       "      <th></th>\n",
       "      <th>RECORD_TIME</th>\n",
       "    </tr>\n",
       "  </thead>\n",
       "  <tbody>\n",
       "    <tr>\n",
       "      <th>0</th>\n",
       "      <td>2021-11-22 05:30</td>\n",
       "    </tr>\n",
       "    <tr>\n",
       "      <th>1</th>\n",
       "      <td>2021-11-22 05:00</td>\n",
       "    </tr>\n",
       "  </tbody>\n",
       "</table>\n",
       "</div>"
      ],
      "text/plain": [
       "        RECORD_TIME\n",
       "0  2021-11-22 05:30\n",
       "1  2021-11-22 05:00"
      ]
     },
     "execution_count": 3,
     "metadata": {},
     "output_type": "execute_result"
    }
   ],
   "source": [
    "timestamps"
   ]
  },
  {
   "cell_type": "code",
   "execution_count": 4,
   "id": "alternate-victory",
   "metadata": {
    "execution": {
     "iopub.execute_input": "2021-11-22T04:30:09.479754Z",
     "iopub.status.busy": "2021-11-22T04:30:09.477568Z",
     "iopub.status.idle": "2021-11-22T04:30:10.787561Z",
     "shell.execute_reply": "2021-11-22T04:30:10.790343Z"
    },
    "papermill": {
     "duration": 1.344877,
     "end_time": "2021-11-22T04:30:10.791139",
     "exception": false,
     "start_time": "2021-11-22T04:30:09.446262",
     "status": "completed"
    },
    "tags": []
   },
   "outputs": [],
   "source": [
    "df = pd.read_sql(\"select * from EBAY_TOP_BERLIN where record_time in (select distinct record_time from EBAY_TOP_BERLIN order by record_time desc limit 2)\", sqlite3.connect(\"UsedObjects.db\"))"
   ]
  },
  {
   "cell_type": "code",
   "execution_count": 5,
   "id": "popular-active",
   "metadata": {
    "execution": {
     "iopub.execute_input": "2021-11-22T04:30:10.862040Z",
     "iopub.status.busy": "2021-11-22T04:30:10.859297Z",
     "iopub.status.idle": "2021-11-22T04:30:10.893590Z",
     "shell.execute_reply": "2021-11-22T04:30:10.894914Z"
    },
    "papermill": {
     "duration": 0.079066,
     "end_time": "2021-11-22T04:30:10.895365",
     "exception": false,
     "start_time": "2021-11-22T04:30:10.816299",
     "status": "completed"
    },
    "tags": []
   },
   "outputs": [],
   "source": [
    "df_pivot = df.pivot_table(index=\"PRODUCT\", columns = \"RECORD_TIME\", values = \"LISTING_COUNT\")"
   ]
  },
  {
   "cell_type": "code",
   "execution_count": 6,
   "id": "union-huntington",
   "metadata": {
    "execution": {
     "iopub.execute_input": "2021-11-22T04:30:10.954512Z",
     "iopub.status.busy": "2021-11-22T04:30:10.952155Z",
     "iopub.status.idle": "2021-11-22T04:30:10.957191Z",
     "shell.execute_reply": "2021-11-22T04:30:10.958524Z"
    },
    "papermill": {
     "duration": 0.043527,
     "end_time": "2021-11-22T04:30:10.958942",
     "exception": false,
     "start_time": "2021-11-22T04:30:10.915415",
     "status": "completed"
    },
    "tags": []
   },
   "outputs": [],
   "source": [
    "df_pivot.columns = [\"stamp_1\", \"stamp_2\"]\n",
    "df_pivot_diff = df_pivot.diff(axis=1)"
   ]
  },
  {
   "cell_type": "code",
   "execution_count": 7,
   "id": "fifth-motion",
   "metadata": {
    "execution": {
     "iopub.execute_input": "2021-11-22T04:30:11.019305Z",
     "iopub.status.busy": "2021-11-22T04:30:11.015024Z",
     "iopub.status.idle": "2021-11-22T04:30:12.974367Z",
     "shell.execute_reply": "2021-11-22T04:30:12.975786Z"
    },
    "papermill": {
     "duration": 1.996094,
     "end_time": "2021-11-22T04:30:12.976290",
     "exception": false,
     "start_time": "2021-11-22T04:30:10.980196",
     "status": "completed"
    },
    "tags": []
   },
   "outputs": [
    {
     "data": {
      "text/plain": [
       "<AxesSubplot:ylabel='PRODUCT'>"
      ]
     },
     "execution_count": 7,
     "metadata": {},
     "output_type": "execute_result"
    },
    {
     "data": {
      "image/png": "[encoded data removed]",
      "text/plain": [
       "<Figure size 432x288 with 1 Axes>"
      ]
     },
     "metadata": {
      "needs_background": "light"
     },
     "output_type": "display_data"
    }
   ],
   "source": [
    "df_pivot_diff.sort_values(\"stamp_2\", ascending = False)[\"stamp_2\"].head(10).plot.barh()"
   ]
  },
  {
   "cell_type": "code",
   "execution_count": null,
   "id": "extra-executive",
   "metadata": {
    "papermill": {
     "duration": 0.023484,
     "end_time": "2021-11-22T04:30:13.023667",
     "exception": false,
     "start_time": "2021-11-22T04:30:13.000183",
     "status": "completed"
    },
    "tags": []
   },
   "outputs": [],
   "source": []
  }
 ],
 "metadata": {
  "kernelspec": {
   "display_name": "Python 3",
   "language": "python",
   "name": "python3"
  },
  "language_info": {
   "codemirror_mode": {
    "name": "ipython",
    "version": 3
   },
   "file_extension": ".py",
   "mimetype": "text/x-python",
   "name": "python",
   "nbconvert_exporter": "python",
   "pygments_lexer": "ipython3",
   "version": "3.9.5"
  },
  "papermill": {
   "default_parameters": {},
   "duration": 9.921527,
   "end_time": "2021-11-22T04:30:14.565209",
   "environment_variables": {},
   "exception": null,
   "input_path": "eBay_Overview.ipynb",
   "output_path": "eBay_Overview.ipynb",
   "parameters": {},
   "start_time": "2021-11-22T04:30:04.643682",
   "version": "2.3.3"
  }
 },
 "nbformat": 4,
 "nbformat_minor": 5
}