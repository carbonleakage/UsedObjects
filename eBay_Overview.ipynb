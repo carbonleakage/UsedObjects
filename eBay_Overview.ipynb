{
 "cells": [
  {
   "cell_type": "code",
   "execution_count": 1,
   "id": "reverse-picking",
   "metadata": {
    "execution": {
     "iopub.execute_input": "2021-12-22T10:00:08.132304Z",
     "iopub.status.busy": "2021-12-22T10:00:08.130117Z",
     "iopub.status.idle": "2021-12-22T10:00:09.090593Z",
     "shell.execute_reply": "2021-12-22T10:00:09.093600Z"
    },
    "papermill": {
     "duration": 1.012356,
     "end_time": "2021-12-22T10:00:09.094928",
     "exception": false,
     "start_time": "2021-12-22T10:00:08.082572",
     "status": "completed"
    },
    "tags": []
   },
   "outputs": [],
   "source": [
    "import pandas as pd\n",
    "import sqlite3"
   ]
  },
  {
   "cell_type": "code",
   "execution_count": 2,
   "id": "innovative-syndrome",
   "metadata": {
    "execution": {
     "iopub.execute_input": "2021-12-22T10:00:09.168035Z",
     "iopub.status.busy": "2021-12-22T10:00:09.165831Z",
     "iopub.status.idle": "2021-12-22T10:00:10.333893Z",
     "shell.execute_reply": "2021-12-22T10:00:10.335606Z"
    },
    "papermill": {
     "duration": 1.202542,
     "end_time": "2021-12-22T10:00:10.336110",
     "exception": false,
     "start_time": "2021-12-22T10:00:09.133568",
     "status": "completed"
    },
    "tags": []
   },
   "outputs": [],
   "source": [
    "timestamps = pd.read_sql(\"select distinct record_time from EBAY_TOP_BERLIN order by record_time desc limit 2\", sqlite3.connect(\"UsedObjects.db\"))"
   ]
  },
  {
   "cell_type": "code",
   "execution_count": 3,
   "id": "periodic-identification",
   "metadata": {
    "execution": {
     "iopub.execute_input": "2021-12-22T10:00:10.426469Z",
     "iopub.status.busy": "2021-12-22T10:00:10.420335Z",
     "iopub.status.idle": "2021-12-22T10:00:10.443336Z",
     "shell.execute_reply": "2021-12-22T10:00:10.444786Z"
    },
    "papermill": {
     "duration": 0.073397,
     "end_time": "2021-12-22T10:00:10.445277",
     "exception": false,
     "start_time": "2021-12-22T10:00:10.371880",
     "status": "completed"
    },
    "tags": []
   },
   "outputs": [
    {
     "data": {
      "text/html": [
       "<div>\n",
       "<style scoped>\n",
       "    .dataframe tbody tr th:only-of-type {\n",
       "        vertical-align: middle;\n",
       "    }\n",
       "\n",
       "    .dataframe tbody tr th {\n",
       "        vertical-align: top;\n",
       "    }\n",
       "\n",
       "    .dataframe thead th {\n",
       "        text-align: right;\n",
       "    }\n",
       "</style>\n",
       "<table border=\"1\" class=\"dataframe\">\n",
       "  <thead>\n",
       "    <tr style=\"text-align: right;\">\n",
       "      <th></th>\n",
       "      <th>RECORD_TIME</th>\n",
       "    </tr>\n",
       "  </thead>\n",
       "  <tbody>\n",
       "    <tr>\n",
       "      <th>0</th>\n",
       "      <td>2021-12-22 11:00</td>\n",
       "    </tr>\n",
       "    <tr>\n",
       "      <th>1</th>\n",
       "      <td>2021-12-22 10:30</td>\n",
       "    </tr>\n",
       "  </tbody>\n",
       "</table>\n",
       "</div>"
      ],
      "text/plain": [
       "        RECORD_TIME\n",
       "0  2021-12-22 11:00\n",
       "1  2021-12-22 10:30"
      ]
     },
     "execution_count": 3,
     "metadata": {},
     "output_type": "execute_result"
    }
   ],
   "source": [
    "timestamps"
   ]
  },
  {
   "cell_type": "code",
   "execution_count": 4,
   "id": "alternate-victory",
   "metadata": {
    "execution": {
     "iopub.execute_input": "2021-12-22T10:00:10.501674Z",
     "iopub.status.busy": "2021-12-22T10:00:10.499248Z",
     "iopub.status.idle": "2021-12-22T10:00:12.172609Z",
     "shell.execute_reply": "2021-12-22T10:00:12.174388Z"
    },
    "papermill": {
     "duration": 1.708418,
     "end_time": "2021-12-22T10:00:12.174887",
     "exception": false,
     "start_time": "2021-12-22T10:00:10.466469",
     "status": "completed"
    },
    "tags": []
   },
   "outputs": [],
   "source": [
    "df = pd.read_sql(\"select * from EBAY_TOP_BERLIN where record_time in (select distinct record_time from EBAY_TOP_BERLIN order by record_time desc limit 2)\", sqlite3.connect(\"UsedObjects.db\"))"
   ]
  },
  {
   "cell_type": "code",
   "execution_count": 5,
   "id": "popular-active",
   "metadata": {
    "execution": {
     "iopub.execute_input": "2021-12-22T10:00:12.242380Z",
     "iopub.status.busy": "2021-12-22T10:00:12.235140Z",
     "iopub.status.idle": "2021-12-22T10:00:12.268294Z",
     "shell.execute_reply": "2021-12-22T10:00:12.269879Z"
    },
    "papermill": {
     "duration": 0.074877,
     "end_time": "2021-12-22T10:00:12.270358",
     "exception": false,
     "start_time": "2021-12-22T10:00:12.195481",
     "status": "completed"
    },
    "tags": []
   },
   "outputs": [],
   "source": [
    "df_pivot = df.pivot_table(index=\"PRODUCT\", columns = \"RECORD_TIME\", values = \"LISTING_COUNT\")"
   ]
  },
  {
   "cell_type": "code",
   "execution_count": 6,
   "id": "union-huntington",
   "metadata": {
    "execution": {
     "iopub.execute_input": "2021-12-22T10:00:12.333106Z",
     "iopub.status.busy": "2021-12-22T10:00:12.330748Z",
     "iopub.status.idle": "2021-12-22T10:00:12.337456Z",
     "shell.execute_reply": "2021-12-22T10:00:12.335951Z"
    },
    "papermill": {
     "duration": 0.045441,
     "end_time": "2021-12-22T10:00:12.337854",
     "exception": false,
     "start_time": "2021-12-22T10:00:12.292413",
     "status": "completed"
    },
    "tags": []
   },
   "outputs": [],
   "source": [
    "df_pivot.columns = [\"stamp_1\", \"stamp_2\"]\n",
    "df_pivot_diff = df_pivot.diff(axis=1)"
   ]
  },
  {
   "cell_type": "code",
   "execution_count": 7,
   "id": "fifth-motion",
   "metadata": {
    "execution": {
     "iopub.execute_input": "2021-12-22T10:00:12.396192Z",
     "iopub.status.busy": "2021-12-22T10:00:12.393696Z",
     "iopub.status.idle": "2021-12-22T10:00:14.336378Z",
     "shell.execute_reply": "2021-12-22T10:00:14.338011Z"
    },
    "papermill": {
     "duration": 1.978518,
     "end_time": "2021-12-22T10:00:14.338493",
     "exception": false,
     "start_time": "2021-12-22T10:00:12.359975",
     "status": "completed"
    },
    "tags": []
   },
   "outputs": [
    {
     "data": {
      "text/plain": [
       "<AxesSubplot:ylabel='PRODUCT'>"
      ]
     },
     "execution_count": 7,
     "metadata": {},
     "output_type": "execute_result"
    },
    {
     "data": {
      "image/png": "[encoded data removed]",
      "text/plain": [
       "<Figure size 432x288 with 1 Axes>"
      ]
     },
     "metadata": {
      "needs_background": "light"
     },
     "output_type": "display_data"
    }
   ],
   "source": [
    "df_pivot_diff.sort_values(\"stamp_2\", ascending = False)[\"stamp_2\"].head(10).plot.barh()"
   ]
  },
  {
   "cell_type": "code",
   "execution_count": null,
   "id": "extra-executive",
   "metadata": {
    "papermill": {
     "duration": 0.022227,
     "end_time": "2021-12-22T10:00:14.385385",
     "exception": false,
     "start_time": "2021-12-22T10:00:14.363158",
     "status": "completed"
    },
    "tags": []
   },
   "outputs": [],
   "source": []
  }
 ],
 "metadata": {
  "kernelspec": {
   "display_name": "Python 3",
   "language": "python",
   "name": "python3"
  },
  "language_info": {
   "codemirror_mode": {
    "name": "ipython",
    "version": 3
   },
   "file_extension": ".py",
   "mimetype": "text/x-python",
   "name": "python",
   "nbconvert_exporter": "python",
   "pygments_lexer": "ipython3",
   "version": "3.9.5"
  },
  "papermill": {
   "default_parameters": {},
   "duration": 9.698158,
   "end_time": "2021-12-22T10:00:15.028678",
   "environment_variables": {},
   "exception": null,
   "input_path": "eBay_Overview.ipynb",
   "output_path": "eBay_Overview.ipynb",
   "parameters": {},
   "start_time": "2021-12-22T10:00:05.330520",
   "version": "2.3.3"
  }
 },
 "nbformat": 4,
 "nbformat_minor": 5
}