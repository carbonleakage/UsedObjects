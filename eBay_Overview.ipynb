{
 "cells": [
  {
   "cell_type": "code",
   "execution_count": 1,
   "id": "reverse-picking",
   "metadata": {
    "execution": {
     "iopub.execute_input": "2021-09-10T03:30:06.617160Z",
     "iopub.status.busy": "2021-09-10T03:30:06.615184Z",
     "iopub.status.idle": "2021-09-10T03:30:07.425970Z",
     "shell.execute_reply": "2021-09-10T03:30:07.427452Z"
    },
    "papermill": {
     "duration": 0.86348,
     "end_time": "2021-09-10T03:30:07.428111",
     "exception": false,
     "start_time": "2021-09-10T03:30:06.564631",
     "status": "completed"
    },
    "tags": []
   },
   "outputs": [],
   "source": [
    "import pandas as pd\n",
    "import sqlite3"
   ]
  },
  {
   "cell_type": "code",
   "execution_count": 2,
   "id": "innovative-syndrome",
   "metadata": {
    "execution": {
     "iopub.execute_input": "2021-09-10T03:30:07.480313Z",
     "iopub.status.busy": "2021-09-10T03:30:07.477911Z",
     "iopub.status.idle": "2021-09-10T03:30:07.732395Z",
     "shell.execute_reply": "2021-09-10T03:30:07.733622Z"
    },
    "papermill": {
     "duration": 0.284542,
     "end_time": "2021-09-10T03:30:07.734022",
     "exception": false,
     "start_time": "2021-09-10T03:30:07.449480",
     "status": "completed"
    },
    "tags": []
   },
   "outputs": [],
   "source": [
    "timestamps = pd.read_sql(\"select distinct record_time from EBAY_TOP_BERLIN order by record_time desc limit 2\", sqlite3.connect(\"UsedObjects.db\"))"
   ]
  },
  {
   "cell_type": "code",
   "execution_count": 3,
   "id": "periodic-identification",
   "metadata": {
    "execution": {
     "iopub.execute_input": "2021-09-10T03:30:07.798219Z",
     "iopub.status.busy": "2021-09-10T03:30:07.796185Z",
     "iopub.status.idle": "2021-09-10T03:30:07.816419Z",
     "shell.execute_reply": "2021-09-10T03:30:07.817623Z"
    },
    "papermill": {
     "duration": 0.064747,
     "end_time": "2021-09-10T03:30:07.818051",
     "exception": false,
     "start_time": "2021-09-10T03:30:07.753304",
     "status": "completed"
    },
    "tags": []
   },
   "outputs": [
    {
     "data": {
      "text/html": [
       "<div>\n",
       "<style scoped>\n",
       "    .dataframe tbody tr th:only-of-type {\n",
       "        vertical-align: middle;\n",
       "    }\n",
       "\n",
       "    .dataframe tbody tr th {\n",
       "        vertical-align: top;\n",
       "    }\n",
       "\n",
       "    .dataframe thead th {\n",
       "        text-align: right;\n",
       "    }\n",
       "</style>\n",
       "<table border=\"1\" class=\"dataframe\">\n",
       "  <thead>\n",
       "    <tr style=\"text-align: right;\">\n",
       "      <th></th>\n",
       "      <th>RECORD_TIME</th>\n",
       "    </tr>\n",
       "  </thead>\n",
       "  <tbody>\n",
       "    <tr>\n",
       "      <th>0</th>\n",
       "      <td>2021-09-10 05:30</td>\n",
       "    </tr>\n",
       "    <tr>\n",
       "      <th>1</th>\n",
       "      <td>2021-09-10 05:00</td>\n",
       "    </tr>\n",
       "  </tbody>\n",
       "</table>\n",
       "</div>"
      ],
      "text/plain": [
       "        RECORD_TIME\n",
       "0  2021-09-10 05:30\n",
       "1  2021-09-10 05:00"
      ]
     },
     "execution_count": 3,
     "metadata": {},
     "output_type": "execute_result"
    }
   ],
   "source": [
    "timestamps"
   ]
  },
  {
   "cell_type": "code",
   "execution_count": 4,
   "id": "alternate-victory",
   "metadata": {
    "execution": {
     "iopub.execute_input": "2021-09-10T03:30:07.872687Z",
     "iopub.status.busy": "2021-09-10T03:30:07.870289Z",
     "iopub.status.idle": "2021-09-10T03:30:08.259781Z",
     "shell.execute_reply": "2021-09-10T03:30:08.261008Z"
    },
    "papermill": {
     "duration": 0.419886,
     "end_time": "2021-09-10T03:30:08.261409",
     "exception": false,
     "start_time": "2021-09-10T03:30:07.841523",
     "status": "completed"
    },
    "tags": []
   },
   "outputs": [],
   "source": [
    "df = pd.read_sql(\"select * from EBAY_TOP_BERLIN where record_time in (select distinct record_time from EBAY_TOP_BERLIN order by record_time desc limit 2)\", sqlite3.connect(\"UsedObjects.db\"))"
   ]
  },
  {
   "cell_type": "code",
   "execution_count": 5,
   "id": "popular-active",
   "metadata": {
    "execution": {
     "iopub.execute_input": "2021-09-10T03:30:08.336346Z",
     "iopub.status.busy": "2021-09-10T03:30:08.328700Z",
     "iopub.status.idle": "2021-09-10T03:30:08.357281Z",
     "shell.execute_reply": "2021-09-10T03:30:08.358562Z"
    },
    "papermill": {
     "duration": 0.071293,
     "end_time": "2021-09-10T03:30:08.359035",
     "exception": false,
     "start_time": "2021-09-10T03:30:08.287742",
     "status": "completed"
    },
    "tags": []
   },
   "outputs": [],
   "source": [
    "df_pivot = df.pivot_table(index=\"PRODUCT\", columns = \"RECORD_TIME\", values = \"LISTING_COUNT\")"
   ]
  },
  {
   "cell_type": "code",
   "execution_count": 6,
   "id": "union-huntington",
   "metadata": {
    "execution": {
     "iopub.execute_input": "2021-09-10T03:30:08.415349Z",
     "iopub.status.busy": "2021-09-10T03:30:08.413211Z",
     "iopub.status.idle": "2021-09-10T03:30:08.418547Z",
     "shell.execute_reply": "2021-09-10T03:30:08.420075Z"
    },
    "papermill": {
     "duration": 0.040564,
     "end_time": "2021-09-10T03:30:08.420526",
     "exception": false,
     "start_time": "2021-09-10T03:30:08.379962",
     "status": "completed"
    },
    "tags": []
   },
   "outputs": [],
   "source": [
    "df_pivot.columns = [\"stamp_1\", \"stamp_2\"]\n",
    "df_pivot_diff = df_pivot.diff(axis=1)"
   ]
  },
  {
   "cell_type": "code",
   "execution_count": 7,
   "id": "fifth-motion",
   "metadata": {
    "execution": {
     "iopub.execute_input": "2021-09-10T03:30:08.476651Z",
     "iopub.status.busy": "2021-09-10T03:30:08.474005Z",
     "iopub.status.idle": "2021-09-10T03:30:09.971318Z",
     "shell.execute_reply": "2021-09-10T03:30:09.972524Z"
    },
    "papermill": {
     "duration": 1.530726,
     "end_time": "2021-09-10T03:30:09.972954",
     "exception": false,
     "start_time": "2021-09-10T03:30:08.442228",
     "status": "completed"
    },
    "tags": []
   },
   "outputs": [
    {
     "data": {
      "text/plain": [
       "<AxesSubplot:ylabel='PRODUCT'>"
      ]
     },
     "execution_count": 7,
     "metadata": {},
     "output_type": "execute_result"
    },
    {
     "data": {
      "image/png": "[encoded data removed]",
      "text/plain": [
       "<Figure size 432x288 with 1 Axes>"
      ]
     },
     "metadata": {
      "needs_background": "light"
     },
     "output_type": "display_data"
    }
   ],
   "source": [
    "df_pivot_diff.sort_values(\"stamp_2\", ascending = False)[\"stamp_2\"].head(10).plot.barh()"
   ]
  },
  {
   "cell_type": "code",
   "execution_count": null,
   "id": "extra-executive",
   "metadata": {
    "papermill": {
     "duration": 0.021965,
     "end_time": "2021-09-10T03:30:10.021096",
     "exception": false,
     "start_time": "2021-09-10T03:30:09.999131",
     "status": "completed"
    },
    "tags": []
   },
   "outputs": [],
   "source": []
  }
 ],
 "metadata": {
  "kernelspec": {
   "display_name": "Python 3",
   "language": "python",
   "name": "python3"
  },
  "language_info": {
   "codemirror_mode": {
    "name": "ipython",
    "version": 3
   },
   "file_extension": ".py",
   "mimetype": "text/x-python",
   "name": "python",
   "nbconvert_exporter": "python",
   "pygments_lexer": "ipython3",
   "version": "3.9.5"
  },
  "papermill": {
   "default_parameters": {},
   "duration": 6.519733,
   "end_time": "2021-09-10T03:30:10.662525",
   "environment_variables": {},
   "exception": null,
   "input_path": "eBay_Overview.ipynb",
   "output_path": "eBay_Overview.ipynb",
   "parameters": {},
   "start_time": "2021-09-10T03:30:04.142792",
   "version": "2.3.3"
  }
 },
 "nbformat": 4,
 "nbformat_minor": 5
}