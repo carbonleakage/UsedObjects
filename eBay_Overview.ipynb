{
 "cells": [
  {
   "cell_type": "code",
   "execution_count": 1,
   "id": "reverse-picking",
   "metadata": {
    "execution": {
     "iopub.execute_input": "2021-09-12T14:30:07.153484Z",
     "iopub.status.busy": "2021-09-12T14:30:07.151520Z",
     "iopub.status.idle": "2021-09-12T14:30:07.965210Z",
     "shell.execute_reply": "2021-09-12T14:30:07.966537Z"
    },
    "papermill": {
     "duration": 0.866288,
     "end_time": "2021-09-12T14:30:07.967264",
     "exception": false,
     "start_time": "2021-09-12T14:30:07.100976",
     "status": "completed"
    },
    "tags": []
   },
   "outputs": [],
   "source": [
    "import pandas as pd\n",
    "import sqlite3"
   ]
  },
  {
   "cell_type": "code",
   "execution_count": 2,
   "id": "innovative-syndrome",
   "metadata": {
    "execution": {
     "iopub.execute_input": "2021-09-12T14:30:08.019197Z",
     "iopub.status.busy": "2021-09-12T14:30:08.017087Z",
     "iopub.status.idle": "2021-09-12T14:30:08.286606Z",
     "shell.execute_reply": "2021-09-12T14:30:08.287968Z"
    },
    "papermill": {
     "duration": 0.300447,
     "end_time": "2021-09-12T14:30:08.288388",
     "exception": false,
     "start_time": "2021-09-12T14:30:07.987941",
     "status": "completed"
    },
    "tags": []
   },
   "outputs": [],
   "source": [
    "timestamps = pd.read_sql(\"select distinct record_time from EBAY_TOP_BERLIN order by record_time desc limit 2\", sqlite3.connect(\"UsedObjects.db\"))"
   ]
  },
  {
   "cell_type": "code",
   "execution_count": 3,
   "id": "periodic-identification",
   "metadata": {
    "execution": {
     "iopub.execute_input": "2021-09-12T14:30:08.353384Z",
     "iopub.status.busy": "2021-09-12T14:30:08.351356Z",
     "iopub.status.idle": "2021-09-12T14:30:08.371125Z",
     "shell.execute_reply": "2021-09-12T14:30:08.372270Z"
    },
    "papermill": {
     "duration": 0.06445,
     "end_time": "2021-09-12T14:30:08.372679",
     "exception": false,
     "start_time": "2021-09-12T14:30:08.308229",
     "status": "completed"
    },
    "tags": []
   },
   "outputs": [
    {
     "data": {
      "text/html": [
       "<div>\n",
       "<style scoped>\n",
       "    .dataframe tbody tr th:only-of-type {\n",
       "        vertical-align: middle;\n",
       "    }\n",
       "\n",
       "    .dataframe tbody tr th {\n",
       "        vertical-align: top;\n",
       "    }\n",
       "\n",
       "    .dataframe thead th {\n",
       "        text-align: right;\n",
       "    }\n",
       "</style>\n",
       "<table border=\"1\" class=\"dataframe\">\n",
       "  <thead>\n",
       "    <tr style=\"text-align: right;\">\n",
       "      <th></th>\n",
       "      <th>RECORD_TIME</th>\n",
       "    </tr>\n",
       "  </thead>\n",
       "  <tbody>\n",
       "    <tr>\n",
       "      <th>0</th>\n",
       "      <td>2021-09-12 16:30</td>\n",
       "    </tr>\n",
       "    <tr>\n",
       "      <th>1</th>\n",
       "      <td>2021-09-12 16:00</td>\n",
       "    </tr>\n",
       "  </tbody>\n",
       "</table>\n",
       "</div>"
      ],
      "text/plain": [
       "        RECORD_TIME\n",
       "0  2021-09-12 16:30\n",
       "1  2021-09-12 16:00"
      ]
     },
     "execution_count": 3,
     "metadata": {},
     "output_type": "execute_result"
    }
   ],
   "source": [
    "timestamps"
   ]
  },
  {
   "cell_type": "code",
   "execution_count": 4,
   "id": "alternate-victory",
   "metadata": {
    "execution": {
     "iopub.execute_input": "2021-09-12T14:30:08.425947Z",
     "iopub.status.busy": "2021-09-12T14:30:08.423665Z",
     "iopub.status.idle": "2021-09-12T14:30:08.819811Z",
     "shell.execute_reply": "2021-09-12T14:30:08.821252Z"
    },
    "papermill": {
     "duration": 0.427083,
     "end_time": "2021-09-12T14:30:08.821690",
     "exception": false,
     "start_time": "2021-09-12T14:30:08.394607",
     "status": "completed"
    },
    "tags": []
   },
   "outputs": [],
   "source": [
    "df = pd.read_sql(\"select * from EBAY_TOP_BERLIN where record_time in (select distinct record_time from EBAY_TOP_BERLIN order by record_time desc limit 2)\", sqlite3.connect(\"UsedObjects.db\"))"
   ]
  },
  {
   "cell_type": "code",
   "execution_count": 5,
   "id": "popular-active",
   "metadata": {
    "execution": {
     "iopub.execute_input": "2021-09-12T14:30:08.888334Z",
     "iopub.status.busy": "2021-09-12T14:30:08.880609Z",
     "iopub.status.idle": "2021-09-12T14:30:08.910119Z",
     "shell.execute_reply": "2021-09-12T14:30:08.911560Z"
    },
    "papermill": {
     "duration": 0.069216,
     "end_time": "2021-09-12T14:30:08.911977",
     "exception": false,
     "start_time": "2021-09-12T14:30:08.842761",
     "status": "completed"
    },
    "tags": []
   },
   "outputs": [],
   "source": [
    "df_pivot = df.pivot_table(index=\"PRODUCT\", columns = \"RECORD_TIME\", values = \"LISTING_COUNT\")"
   ]
  },
  {
   "cell_type": "code",
   "execution_count": 6,
   "id": "union-huntington",
   "metadata": {
    "execution": {
     "iopub.execute_input": "2021-09-12T14:30:08.971178Z",
     "iopub.status.busy": "2021-09-12T14:30:08.968667Z",
     "iopub.status.idle": "2021-09-12T14:30:08.974493Z",
     "shell.execute_reply": "2021-09-12T14:30:08.975839Z"
    },
    "papermill": {
     "duration": 0.042697,
     "end_time": "2021-09-12T14:30:08.976258",
     "exception": false,
     "start_time": "2021-09-12T14:30:08.933561",
     "status": "completed"
    },
    "tags": []
   },
   "outputs": [],
   "source": [
    "df_pivot.columns = [\"stamp_1\", \"stamp_2\"]\n",
    "df_pivot_diff = df_pivot.diff(axis=1)"
   ]
  },
  {
   "cell_type": "code",
   "execution_count": 7,
   "id": "fifth-motion",
   "metadata": {
    "execution": {
     "iopub.execute_input": "2021-09-12T14:30:09.030957Z",
     "iopub.status.busy": "2021-09-12T14:30:09.028454Z",
     "iopub.status.idle": "2021-09-12T14:30:10.535076Z",
     "shell.execute_reply": "2021-09-12T14:30:10.536382Z"
    },
    "papermill": {
     "duration": 1.539718,
     "end_time": "2021-09-12T14:30:10.536801",
     "exception": false,
     "start_time": "2021-09-12T14:30:08.997083",
     "status": "completed"
    },
    "tags": []
   },
   "outputs": [
    {
     "data": {
      "text/plain": [
       "<AxesSubplot:ylabel='PRODUCT'>"
      ]
     },
     "execution_count": 7,
     "metadata": {},
     "output_type": "execute_result"
    },
    {
     "data": {
      "image/png": "[encoded data removed]",
      "text/plain": [
       "<Figure size 432x288 with 1 Axes>"
      ]
     },
     "metadata": {
      "needs_background": "light"
     },
     "output_type": "display_data"
    }
   ],
   "source": [
    "df_pivot_diff.sort_values(\"stamp_2\", ascending = False)[\"stamp_2\"].head(10).plot.barh()"
   ]
  },
  {
   "cell_type": "code",
   "execution_count": null,
   "id": "extra-executive",
   "metadata": {
    "papermill": {
     "duration": 0.022678,
     "end_time": "2021-09-12T14:30:10.583048",
     "exception": false,
     "start_time": "2021-09-12T14:30:10.560370",
     "status": "completed"
    },
    "tags": []
   },
   "outputs": [],
   "source": []
  }
 ],
 "metadata": {
  "kernelspec": {
   "display_name": "Python 3",
   "language": "python",
   "name": "python3"
  },
  "language_info": {
   "codemirror_mode": {
    "name": "ipython",
    "version": 3
   },
   "file_extension": ".py",
   "mimetype": "text/x-python",
   "name": "python",
   "nbconvert_exporter": "python",
   "pygments_lexer": "ipython3",
   "version": "3.9.5"
  },
  "papermill": {
   "default_parameters": {},
   "duration": 6.550143,
   "end_time": "2021-09-12T14:30:11.225420",
   "environment_variables": {},
   "exception": null,
   "input_path": "eBay_Overview.ipynb",
   "output_path": "eBay_Overview.ipynb",
   "parameters": {},
   "start_time": "2021-09-12T14:30:04.675277",
   "version": "2.3.3"
  }
 },
 "nbformat": 4,
 "nbformat_minor": 5
}