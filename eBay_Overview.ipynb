{
 "cells": [
  {
   "cell_type": "code",
   "execution_count": 1,
   "id": "reverse-picking",
   "metadata": {
    "execution": {
     "iopub.execute_input": "2021-11-08T11:00:07.978119Z",
     "iopub.status.busy": "2021-11-08T11:00:07.975290Z",
     "iopub.status.idle": "2021-11-08T11:00:08.912015Z",
     "shell.execute_reply": "2021-11-08T11:00:08.910179Z"
    },
    "papermill": {
     "duration": 0.983179,
     "end_time": "2021-11-08T11:00:08.912506",
     "exception": false,
     "start_time": "2021-11-08T11:00:07.929327",
     "status": "completed"
    },
    "tags": []
   },
   "outputs": [],
   "source": [
    "import pandas as pd\n",
    "import sqlite3"
   ]
  },
  {
   "cell_type": "code",
   "execution_count": 2,
   "id": "innovative-syndrome",
   "metadata": {
    "execution": {
     "iopub.execute_input": "2021-11-08T11:00:08.969823Z",
     "iopub.status.busy": "2021-11-08T11:00:08.967350Z",
     "iopub.status.idle": "2021-11-08T11:00:09.740968Z",
     "shell.execute_reply": "2021-11-08T11:00:09.743305Z"
    },
    "papermill": {
     "duration": 0.80934,
     "end_time": "2021-11-08T11:00:09.743796",
     "exception": false,
     "start_time": "2021-11-08T11:00:08.934456",
     "status": "completed"
    },
    "tags": []
   },
   "outputs": [],
   "source": [
    "timestamps = pd.read_sql(\"select distinct record_time from EBAY_TOP_BERLIN order by record_time desc limit 2\", sqlite3.connect(\"UsedObjects.db\"))"
   ]
  },
  {
   "cell_type": "code",
   "execution_count": 3,
   "id": "periodic-identification",
   "metadata": {
    "execution": {
     "iopub.execute_input": "2021-11-08T11:00:09.818706Z",
     "iopub.status.busy": "2021-11-08T11:00:09.812888Z",
     "iopub.status.idle": "2021-11-08T11:00:09.834929Z",
     "shell.execute_reply": "2021-11-08T11:00:09.836438Z"
    },
    "papermill": {
     "duration": 0.072578,
     "end_time": "2021-11-08T11:00:09.837001",
     "exception": false,
     "start_time": "2021-11-08T11:00:09.764423",
     "status": "completed"
    },
    "tags": []
   },
   "outputs": [
    {
     "data": {
      "text/html": [
       "<div>\n",
       "<style scoped>\n",
       "    .dataframe tbody tr th:only-of-type {\n",
       "        vertical-align: middle;\n",
       "    }\n",
       "\n",
       "    .dataframe tbody tr th {\n",
       "        vertical-align: top;\n",
       "    }\n",
       "\n",
       "    .dataframe thead th {\n",
       "        text-align: right;\n",
       "    }\n",
       "</style>\n",
       "<table border=\"1\" class=\"dataframe\">\n",
       "  <thead>\n",
       "    <tr style=\"text-align: right;\">\n",
       "      <th></th>\n",
       "      <th>RECORD_TIME</th>\n",
       "    </tr>\n",
       "  </thead>\n",
       "  <tbody>\n",
       "    <tr>\n",
       "      <th>0</th>\n",
       "      <td>2021-11-08 12:00</td>\n",
       "    </tr>\n",
       "    <tr>\n",
       "      <th>1</th>\n",
       "      <td>2021-11-08 11:30</td>\n",
       "    </tr>\n",
       "  </tbody>\n",
       "</table>\n",
       "</div>"
      ],
      "text/plain": [
       "        RECORD_TIME\n",
       "0  2021-11-08 12:00\n",
       "1  2021-11-08 11:30"
      ]
     },
     "execution_count": 3,
     "metadata": {},
     "output_type": "execute_result"
    }
   ],
   "source": [
    "timestamps"
   ]
  },
  {
   "cell_type": "code",
   "execution_count": 4,
   "id": "alternate-victory",
   "metadata": {
    "execution": {
     "iopub.execute_input": "2021-11-08T11:00:09.893521Z",
     "iopub.status.busy": "2021-11-08T11:00:09.891320Z",
     "iopub.status.idle": "2021-11-08T11:00:11.018569Z",
     "shell.execute_reply": "2021-11-08T11:00:11.019942Z"
    },
    "papermill": {
     "duration": 1.160869,
     "end_time": "2021-11-08T11:00:11.020410",
     "exception": false,
     "start_time": "2021-11-08T11:00:09.859541",
     "status": "completed"
    },
    "tags": []
   },
   "outputs": [],
   "source": [
    "df = pd.read_sql(\"select * from EBAY_TOP_BERLIN where record_time in (select distinct record_time from EBAY_TOP_BERLIN order by record_time desc limit 2)\", sqlite3.connect(\"UsedObjects.db\"))"
   ]
  },
  {
   "cell_type": "code",
   "execution_count": 5,
   "id": "popular-active",
   "metadata": {
    "execution": {
     "iopub.execute_input": "2021-11-08T11:00:11.088608Z",
     "iopub.status.busy": "2021-11-08T11:00:11.084133Z",
     "iopub.status.idle": "2021-11-08T11:00:11.114242Z",
     "shell.execute_reply": "2021-11-08T11:00:11.115469Z"
    },
    "papermill": {
     "duration": 0.073735,
     "end_time": "2021-11-08T11:00:11.115864",
     "exception": false,
     "start_time": "2021-11-08T11:00:11.042129",
     "status": "completed"
    },
    "tags": []
   },
   "outputs": [],
   "source": [
    "df_pivot = df.pivot_table(index=\"PRODUCT\", columns = \"RECORD_TIME\", values = \"LISTING_COUNT\")"
   ]
  },
  {
   "cell_type": "code",
   "execution_count": 6,
   "id": "union-huntington",
   "metadata": {
    "execution": {
     "iopub.execute_input": "2021-11-08T11:00:11.171466Z",
     "iopub.status.busy": "2021-11-08T11:00:11.169311Z",
     "iopub.status.idle": "2021-11-08T11:00:11.174694Z",
     "shell.execute_reply": "2021-11-08T11:00:11.176060Z"
    },
    "papermill": {
     "duration": 0.040588,
     "end_time": "2021-11-08T11:00:11.176497",
     "exception": false,
     "start_time": "2021-11-08T11:00:11.135909",
     "status": "completed"
    },
    "tags": []
   },
   "outputs": [],
   "source": [
    "df_pivot.columns = [\"stamp_1\", \"stamp_2\"]\n",
    "df_pivot_diff = df_pivot.diff(axis=1)"
   ]
  },
  {
   "cell_type": "code",
   "execution_count": 7,
   "id": "fifth-motion",
   "metadata": {
    "execution": {
     "iopub.execute_input": "2021-11-08T11:00:11.233464Z",
     "iopub.status.busy": "2021-11-08T11:00:11.230740Z",
     "iopub.status.idle": "2021-11-08T11:00:12.979278Z",
     "shell.execute_reply": "2021-11-08T11:00:12.981095Z"
    },
    "papermill": {
     "duration": 1.782904,
     "end_time": "2021-11-08T11:00:12.981600",
     "exception": false,
     "start_time": "2021-11-08T11:00:11.198696",
     "status": "completed"
    },
    "tags": []
   },
   "outputs": [
    {
     "data": {
      "text/plain": [
       "<AxesSubplot:ylabel='PRODUCT'>"
      ]
     },
     "execution_count": 7,
     "metadata": {},
     "output_type": "execute_result"
    },
    {
     "data": {
      "image/png": "[encoded data removed]",
      "text/plain": [
       "<Figure size 432x288 with 1 Axes>"
      ]
     },
     "metadata": {
      "needs_background": "light"
     },
     "output_type": "display_data"
    }
   ],
   "source": [
    "df_pivot_diff.sort_values(\"stamp_2\", ascending = False)[\"stamp_2\"].head(10).plot.barh()"
   ]
  },
  {
   "cell_type": "code",
   "execution_count": null,
   "id": "extra-executive",
   "metadata": {
    "papermill": {
     "duration": 0.025922,
     "end_time": "2021-11-08T11:00:13.032440",
     "exception": false,
     "start_time": "2021-11-08T11:00:13.006518",
     "status": "completed"
    },
    "tags": []
   },
   "outputs": [],
   "source": []
  }
 ],
 "metadata": {
  "kernelspec": {
   "display_name": "Python 3",
   "language": "python",
   "name": "python3"
  },
  "language_info": {
   "codemirror_mode": {
    "name": "ipython",
    "version": 3
   },
   "file_extension": ".py",
   "mimetype": "text/x-python",
   "name": "python",
   "nbconvert_exporter": "python",
   "pygments_lexer": "ipython3",
   "version": "3.9.5"
  },
  "papermill": {
   "default_parameters": {},
   "duration": 8.613554,
   "end_time": "2021-11-08T11:00:13.775980",
   "environment_variables": {},
   "exception": null,
   "input_path": "eBay_Overview.ipynb",
   "output_path": "eBay_Overview.ipynb",
   "parameters": {},
   "start_time": "2021-11-08T11:00:05.162426",
   "version": "2.3.3"
  }
 },
 "nbformat": 4,
 "nbformat_minor": 5
}