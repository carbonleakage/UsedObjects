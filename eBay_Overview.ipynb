{
 "cells": [
  {
   "cell_type": "code",
   "execution_count": 1,
   "id": "reverse-picking",
   "metadata": {
    "execution": {
     "iopub.execute_input": "2021-11-11T08:00:08.151131Z",
     "iopub.status.busy": "2021-11-11T08:00:08.148898Z",
     "iopub.status.idle": "2021-11-11T08:00:09.112444Z",
     "shell.execute_reply": "2021-11-11T08:00:09.114076Z"
    },
    "papermill": {
     "duration": 1.010584,
     "end_time": "2021-11-11T08:00:09.114836",
     "exception": false,
     "start_time": "2021-11-11T08:00:08.104252",
     "status": "completed"
    },
    "tags": []
   },
   "outputs": [],
   "source": [
    "import pandas as pd\n",
    "import sqlite3"
   ]
  },
  {
   "cell_type": "code",
   "execution_count": 2,
   "id": "innovative-syndrome",
   "metadata": {
    "execution": {
     "iopub.execute_input": "2021-11-11T08:00:09.178960Z",
     "iopub.status.busy": "2021-11-11T08:00:09.176651Z",
     "iopub.status.idle": "2021-11-11T08:00:09.958719Z",
     "shell.execute_reply": "2021-11-11T08:00:09.960020Z"
    },
    "papermill": {
     "duration": 0.816957,
     "end_time": "2021-11-11T08:00:09.960470",
     "exception": false,
     "start_time": "2021-11-11T08:00:09.143513",
     "status": "completed"
    },
    "tags": []
   },
   "outputs": [],
   "source": [
    "timestamps = pd.read_sql(\"select distinct record_time from EBAY_TOP_BERLIN order by record_time desc limit 2\", sqlite3.connect(\"UsedObjects.db\"))"
   ]
  },
  {
   "cell_type": "code",
   "execution_count": 3,
   "id": "periodic-identification",
   "metadata": {
    "execution": {
     "iopub.execute_input": "2021-11-11T08:00:10.027779Z",
     "iopub.status.busy": "2021-11-11T08:00:10.025613Z",
     "iopub.status.idle": "2021-11-11T08:00:10.049403Z",
     "shell.execute_reply": "2021-11-11T08:00:10.050899Z"
    },
    "papermill": {
     "duration": 0.071741,
     "end_time": "2021-11-11T08:00:10.051359",
     "exception": false,
     "start_time": "2021-11-11T08:00:09.979618",
     "status": "completed"
    },
    "tags": []
   },
   "outputs": [
    {
     "data": {
      "text/html": [
       "<div>\n",
       "<style scoped>\n",
       "    .dataframe tbody tr th:only-of-type {\n",
       "        vertical-align: middle;\n",
       "    }\n",
       "\n",
       "    .dataframe tbody tr th {\n",
       "        vertical-align: top;\n",
       "    }\n",
       "\n",
       "    .dataframe thead th {\n",
       "        text-align: right;\n",
       "    }\n",
       "</style>\n",
       "<table border=\"1\" class=\"dataframe\">\n",
       "  <thead>\n",
       "    <tr style=\"text-align: right;\">\n",
       "      <th></th>\n",
       "      <th>RECORD_TIME</th>\n",
       "    </tr>\n",
       "  </thead>\n",
       "  <tbody>\n",
       "    <tr>\n",
       "      <th>0</th>\n",
       "      <td>2021-11-11 09:00</td>\n",
       "    </tr>\n",
       "    <tr>\n",
       "      <th>1</th>\n",
       "      <td>2021-11-11 08:30</td>\n",
       "    </tr>\n",
       "  </tbody>\n",
       "</table>\n",
       "</div>"
      ],
      "text/plain": [
       "        RECORD_TIME\n",
       "0  2021-11-11 09:00\n",
       "1  2021-11-11 08:30"
      ]
     },
     "execution_count": 3,
     "metadata": {},
     "output_type": "execute_result"
    }
   ],
   "source": [
    "timestamps"
   ]
  },
  {
   "cell_type": "code",
   "execution_count": 4,
   "id": "alternate-victory",
   "metadata": {
    "execution": {
     "iopub.execute_input": "2021-11-11T08:00:10.106623Z",
     "iopub.status.busy": "2021-11-11T08:00:10.104218Z",
     "iopub.status.idle": "2021-11-11T08:00:11.242195Z",
     "shell.execute_reply": "2021-11-11T08:00:11.244119Z"
    },
    "papermill": {
     "duration": 1.173237,
     "end_time": "2021-11-11T08:00:11.244938",
     "exception": false,
     "start_time": "2021-11-11T08:00:10.071701",
     "status": "completed"
    },
    "tags": []
   },
   "outputs": [],
   "source": [
    "df = pd.read_sql(\"select * from EBAY_TOP_BERLIN where record_time in (select distinct record_time from EBAY_TOP_BERLIN order by record_time desc limit 2)\", sqlite3.connect(\"UsedObjects.db\"))"
   ]
  },
  {
   "cell_type": "code",
   "execution_count": 5,
   "id": "popular-active",
   "metadata": {
    "execution": {
     "iopub.execute_input": "2021-11-11T08:00:11.326906Z",
     "iopub.status.busy": "2021-11-11T08:00:11.313518Z",
     "iopub.status.idle": "2021-11-11T08:00:11.346419Z",
     "shell.execute_reply": "2021-11-11T08:00:11.347953Z"
    },
    "papermill": {
     "duration": 0.079436,
     "end_time": "2021-11-11T08:00:11.348471",
     "exception": false,
     "start_time": "2021-11-11T08:00:11.269035",
     "status": "completed"
    },
    "tags": []
   },
   "outputs": [],
   "source": [
    "df_pivot = df.pivot_table(index=\"PRODUCT\", columns = \"RECORD_TIME\", values = \"LISTING_COUNT\")"
   ]
  },
  {
   "cell_type": "code",
   "execution_count": 6,
   "id": "union-huntington",
   "metadata": {
    "execution": {
     "iopub.execute_input": "2021-11-11T08:00:11.411893Z",
     "iopub.status.busy": "2021-11-11T08:00:11.409684Z",
     "iopub.status.idle": "2021-11-11T08:00:11.414583Z",
     "shell.execute_reply": "2021-11-11T08:00:11.415962Z"
    },
    "papermill": {
     "duration": 0.045812,
     "end_time": "2021-11-11T08:00:11.416432",
     "exception": false,
     "start_time": "2021-11-11T08:00:11.370620",
     "status": "completed"
    },
    "tags": []
   },
   "outputs": [],
   "source": [
    "df_pivot.columns = [\"stamp_1\", \"stamp_2\"]\n",
    "df_pivot_diff = df_pivot.diff(axis=1)"
   ]
  },
  {
   "cell_type": "code",
   "execution_count": 7,
   "id": "fifth-motion",
   "metadata": {
    "execution": {
     "iopub.execute_input": "2021-11-11T08:00:11.472257Z",
     "iopub.status.busy": "2021-11-11T08:00:11.469819Z",
     "iopub.status.idle": "2021-11-11T08:00:13.196298Z",
     "shell.execute_reply": "2021-11-11T08:00:13.197946Z"
    },
    "papermill": {
     "duration": 1.761884,
     "end_time": "2021-11-11T08:00:13.198504",
     "exception": false,
     "start_time": "2021-11-11T08:00:11.436620",
     "status": "completed"
    },
    "tags": []
   },
   "outputs": [
    {
     "data": {
      "text/plain": [
       "<AxesSubplot:ylabel='PRODUCT'>"
      ]
     },
     "execution_count": 7,
     "metadata": {},
     "output_type": "execute_result"
    },
    {
     "data": {
      "image/png": "[encoded data removed]",
      "text/plain": [
       "<Figure size 432x288 with 1 Axes>"
      ]
     },
     "metadata": {
      "needs_background": "light"
     },
     "output_type": "display_data"
    }
   ],
   "source": [
    "df_pivot_diff.sort_values(\"stamp_2\", ascending = False)[\"stamp_2\"].head(10).plot.barh()"
   ]
  },
  {
   "cell_type": "code",
   "execution_count": null,
   "id": "extra-executive",
   "metadata": {
    "papermill": {
     "duration": 0.03551,
     "end_time": "2021-11-11T08:00:13.271699",
     "exception": false,
     "start_time": "2021-11-11T08:00:13.236189",
     "status": "completed"
    },
    "tags": []
   },
   "outputs": [],
   "source": []
  }
 ],
 "metadata": {
  "kernelspec": {
   "display_name": "Python 3",
   "language": "python",
   "name": "python3"
  },
  "language_info": {
   "codemirror_mode": {
    "name": "ipython",
    "version": 3
   },
   "file_extension": ".py",
   "mimetype": "text/x-python",
   "name": "python",
   "nbconvert_exporter": "python",
   "pygments_lexer": "ipython3",
   "version": "3.9.5"
  },
  "papermill": {
   "default_parameters": {},
   "duration": 10.987824,
   "end_time": "2021-11-11T08:00:16.307513",
   "environment_variables": {},
   "exception": null,
   "input_path": "eBay_Overview.ipynb",
   "output_path": "eBay_Overview.ipynb",
   "parameters": {},
   "start_time": "2021-11-11T08:00:05.319689",
   "version": "2.3.3"
  }
 },
 "nbformat": 4,
 "nbformat_minor": 5
}