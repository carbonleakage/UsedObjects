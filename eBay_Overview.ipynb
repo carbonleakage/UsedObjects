{
 "cells": [
  {
   "cell_type": "code",
   "execution_count": 1,
   "id": "reverse-picking",
   "metadata": {
    "execution": {
     "iopub.execute_input": "2021-09-14T07:30:07.008716Z",
     "iopub.status.busy": "2021-09-14T07:30:07.006560Z",
     "iopub.status.idle": "2021-09-14T07:30:07.810361Z",
     "shell.execute_reply": "2021-09-14T07:30:07.811771Z"
    },
    "papermill": {
     "duration": 0.854756,
     "end_time": "2021-09-14T07:30:07.812408",
     "exception": false,
     "start_time": "2021-09-14T07:30:06.957652",
     "status": "completed"
    },
    "tags": []
   },
   "outputs": [],
   "source": [
    "import pandas as pd\n",
    "import sqlite3"
   ]
  },
  {
   "cell_type": "code",
   "execution_count": 2,
   "id": "innovative-syndrome",
   "metadata": {
    "execution": {
     "iopub.execute_input": "2021-09-14T07:30:07.864570Z",
     "iopub.status.busy": "2021-09-14T07:30:07.862307Z",
     "iopub.status.idle": "2021-09-14T07:30:08.155371Z",
     "shell.execute_reply": "2021-09-14T07:30:08.156497Z"
    },
    "papermill": {
     "duration": 0.322282,
     "end_time": "2021-09-14T07:30:08.156905",
     "exception": false,
     "start_time": "2021-09-14T07:30:07.834623",
     "status": "completed"
    },
    "tags": []
   },
   "outputs": [],
   "source": [
    "timestamps = pd.read_sql(\"select distinct record_time from EBAY_TOP_BERLIN order by record_time desc limit 2\", sqlite3.connect(\"UsedObjects.db\"))"
   ]
  },
  {
   "cell_type": "code",
   "execution_count": 3,
   "id": "periodic-identification",
   "metadata": {
    "execution": {
     "iopub.execute_input": "2021-09-14T07:30:08.225094Z",
     "iopub.status.busy": "2021-09-14T07:30:08.223083Z",
     "iopub.status.idle": "2021-09-14T07:30:08.243464Z",
     "shell.execute_reply": "2021-09-14T07:30:08.244917Z"
    },
    "papermill": {
     "duration": 0.065997,
     "end_time": "2021-09-14T07:30:08.245358",
     "exception": false,
     "start_time": "2021-09-14T07:30:08.179361",
     "status": "completed"
    },
    "tags": []
   },
   "outputs": [
    {
     "data": {
      "text/html": [
       "<div>\n",
       "<style scoped>\n",
       "    .dataframe tbody tr th:only-of-type {\n",
       "        vertical-align: middle;\n",
       "    }\n",
       "\n",
       "    .dataframe tbody tr th {\n",
       "        vertical-align: top;\n",
       "    }\n",
       "\n",
       "    .dataframe thead th {\n",
       "        text-align: right;\n",
       "    }\n",
       "</style>\n",
       "<table border=\"1\" class=\"dataframe\">\n",
       "  <thead>\n",
       "    <tr style=\"text-align: right;\">\n",
       "      <th></th>\n",
       "      <th>RECORD_TIME</th>\n",
       "    </tr>\n",
       "  </thead>\n",
       "  <tbody>\n",
       "    <tr>\n",
       "      <th>0</th>\n",
       "      <td>2021-09-14 09:30</td>\n",
       "    </tr>\n",
       "    <tr>\n",
       "      <th>1</th>\n",
       "      <td>2021-09-14 09:00</td>\n",
       "    </tr>\n",
       "  </tbody>\n",
       "</table>\n",
       "</div>"
      ],
      "text/plain": [
       "        RECORD_TIME\n",
       "0  2021-09-14 09:30\n",
       "1  2021-09-14 09:00"
      ]
     },
     "execution_count": 3,
     "metadata": {},
     "output_type": "execute_result"
    }
   ],
   "source": [
    "timestamps"
   ]
  },
  {
   "cell_type": "code",
   "execution_count": 4,
   "id": "alternate-victory",
   "metadata": {
    "execution": {
     "iopub.execute_input": "2021-09-14T07:30:08.296344Z",
     "iopub.status.busy": "2021-09-14T07:30:08.294404Z",
     "iopub.status.idle": "2021-09-14T07:30:08.724790Z",
     "shell.execute_reply": "2021-09-14T07:30:08.726001Z"
    },
    "papermill": {
     "duration": 0.460086,
     "end_time": "2021-09-14T07:30:08.726396",
     "exception": false,
     "start_time": "2021-09-14T07:30:08.266310",
     "status": "completed"
    },
    "tags": []
   },
   "outputs": [],
   "source": [
    "df = pd.read_sql(\"select * from EBAY_TOP_BERLIN where record_time in (select distinct record_time from EBAY_TOP_BERLIN order by record_time desc limit 2)\", sqlite3.connect(\"UsedObjects.db\"))"
   ]
  },
  {
   "cell_type": "code",
   "execution_count": 5,
   "id": "popular-active",
   "metadata": {
    "execution": {
     "iopub.execute_input": "2021-09-14T07:30:08.807763Z",
     "iopub.status.busy": "2021-09-14T07:30:08.795403Z",
     "iopub.status.idle": "2021-09-14T07:30:08.822799Z",
     "shell.execute_reply": "2021-09-14T07:30:08.824084Z"
    },
    "papermill": {
     "duration": 0.069979,
     "end_time": "2021-09-14T07:30:08.824481",
     "exception": false,
     "start_time": "2021-09-14T07:30:08.754502",
     "status": "completed"
    },
    "tags": []
   },
   "outputs": [],
   "source": [
    "df_pivot = df.pivot_table(index=\"PRODUCT\", columns = \"RECORD_TIME\", values = \"LISTING_COUNT\")"
   ]
  },
  {
   "cell_type": "code",
   "execution_count": 6,
   "id": "union-huntington",
   "metadata": {
    "execution": {
     "iopub.execute_input": "2021-09-14T07:30:08.879896Z",
     "iopub.status.busy": "2021-09-14T07:30:08.877813Z",
     "iopub.status.idle": "2021-09-14T07:30:08.883161Z",
     "shell.execute_reply": "2021-09-14T07:30:08.884458Z"
    },
    "papermill": {
     "duration": 0.040751,
     "end_time": "2021-09-14T07:30:08.884875",
     "exception": false,
     "start_time": "2021-09-14T07:30:08.844124",
     "status": "completed"
    },
    "tags": []
   },
   "outputs": [],
   "source": [
    "df_pivot.columns = [\"stamp_1\", \"stamp_2\"]\n",
    "df_pivot_diff = df_pivot.diff(axis=1)"
   ]
  },
  {
   "cell_type": "code",
   "execution_count": 7,
   "id": "fifth-motion",
   "metadata": {
    "execution": {
     "iopub.execute_input": "2021-09-14T07:30:08.938395Z",
     "iopub.status.busy": "2021-09-14T07:30:08.936039Z",
     "iopub.status.idle": "2021-09-14T07:30:10.423300Z",
     "shell.execute_reply": "2021-09-14T07:30:10.424705Z"
    },
    "papermill": {
     "duration": 1.520011,
     "end_time": "2021-09-14T07:30:10.425128",
     "exception": false,
     "start_time": "2021-09-14T07:30:08.905117",
     "status": "completed"
    },
    "tags": []
   },
   "outputs": [
    {
     "data": {
      "text/plain": [
       "<AxesSubplot:ylabel='PRODUCT'>"
      ]
     },
     "execution_count": 7,
     "metadata": {},
     "output_type": "execute_result"
    },
    {
     "data": {
      "image/png": "[encoded data removed]",
      "text/plain": [
       "<Figure size 432x288 with 1 Axes>"
      ]
     },
     "metadata": {
      "needs_background": "light"
     },
     "output_type": "display_data"
    }
   ],
   "source": [
    "df_pivot_diff.sort_values(\"stamp_2\", ascending = False)[\"stamp_2\"].head(10).plot.barh()"
   ]
  },
  {
   "cell_type": "code",
   "execution_count": null,
   "id": "extra-executive",
   "metadata": {
    "papermill": {
     "duration": 0.022218,
     "end_time": "2021-09-14T07:30:10.471215",
     "exception": false,
     "start_time": "2021-09-14T07:30:10.448997",
     "status": "completed"
    },
    "tags": []
   },
   "outputs": [],
   "source": []
  }
 ],
 "metadata": {
  "kernelspec": {
   "display_name": "Python 3",
   "language": "python",
   "name": "python3"
  },
  "language_info": {
   "codemirror_mode": {
    "name": "ipython",
    "version": 3
   },
   "file_extension": ".py",
   "mimetype": "text/x-python",
   "name": "python",
   "nbconvert_exporter": "python",
   "pygments_lexer": "ipython3",
   "version": "3.9.5"
  },
  "papermill": {
   "default_parameters": {},
   "duration": 6.556096,
   "end_time": "2021-09-14T07:30:11.113178",
   "environment_variables": {},
   "exception": null,
   "input_path": "eBay_Overview.ipynb",
   "output_path": "eBay_Overview.ipynb",
   "parameters": {},
   "start_time": "2021-09-14T07:30:04.557082",
   "version": "2.3.3"
  }
 },
 "nbformat": 4,
 "nbformat_minor": 5
}