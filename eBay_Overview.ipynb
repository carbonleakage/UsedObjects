{
 "cells": [
  {
   "cell_type": "code",
   "execution_count": 1,
   "id": "reverse-picking",
   "metadata": {
    "execution": {
     "iopub.execute_input": "2021-09-11T10:30:06.852434Z",
     "iopub.status.busy": "2021-09-11T10:30:06.850395Z",
     "iopub.status.idle": "2021-09-11T10:30:07.662315Z",
     "shell.execute_reply": "2021-09-11T10:30:07.663688Z"
    },
    "papermill": {
     "duration": 0.862526,
     "end_time": "2021-09-11T10:30:07.664331",
     "exception": false,
     "start_time": "2021-09-11T10:30:06.801805",
     "status": "completed"
    },
    "tags": []
   },
   "outputs": [],
   "source": [
    "import pandas as pd\n",
    "import sqlite3"
   ]
  },
  {
   "cell_type": "code",
   "execution_count": 2,
   "id": "innovative-syndrome",
   "metadata": {
    "execution": {
     "iopub.execute_input": "2021-09-11T10:30:07.715287Z",
     "iopub.status.busy": "2021-09-11T10:30:07.713193Z",
     "iopub.status.idle": "2021-09-11T10:30:07.972168Z",
     "shell.execute_reply": "2021-09-11T10:30:07.973421Z"
    },
    "papermill": {
     "duration": 0.288649,
     "end_time": "2021-09-11T10:30:07.973872",
     "exception": false,
     "start_time": "2021-09-11T10:30:07.685223",
     "status": "completed"
    },
    "tags": []
   },
   "outputs": [],
   "source": [
    "timestamps = pd.read_sql(\"select distinct record_time from EBAY_TOP_BERLIN order by record_time desc limit 2\", sqlite3.connect(\"UsedObjects.db\"))"
   ]
  },
  {
   "cell_type": "code",
   "execution_count": 3,
   "id": "periodic-identification",
   "metadata": {
    "execution": {
     "iopub.execute_input": "2021-09-11T10:30:08.040533Z",
     "iopub.status.busy": "2021-09-11T10:30:08.038436Z",
     "iopub.status.idle": "2021-09-11T10:30:08.059455Z",
     "shell.execute_reply": "2021-09-11T10:30:08.060737Z"
    },
    "papermill": {
     "duration": 0.067634,
     "end_time": "2021-09-11T10:30:08.061149",
     "exception": false,
     "start_time": "2021-09-11T10:30:07.993515",
     "status": "completed"
    },
    "tags": []
   },
   "outputs": [
    {
     "data": {
      "text/html": [
       "<div>\n",
       "<style scoped>\n",
       "    .dataframe tbody tr th:only-of-type {\n",
       "        vertical-align: middle;\n",
       "    }\n",
       "\n",
       "    .dataframe tbody tr th {\n",
       "        vertical-align: top;\n",
       "    }\n",
       "\n",
       "    .dataframe thead th {\n",
       "        text-align: right;\n",
       "    }\n",
       "</style>\n",
       "<table border=\"1\" class=\"dataframe\">\n",
       "  <thead>\n",
       "    <tr style=\"text-align: right;\">\n",
       "      <th></th>\n",
       "      <th>RECORD_TIME</th>\n",
       "    </tr>\n",
       "  </thead>\n",
       "  <tbody>\n",
       "    <tr>\n",
       "      <th>0</th>\n",
       "      <td>2021-09-11 12:30</td>\n",
       "    </tr>\n",
       "    <tr>\n",
       "      <th>1</th>\n",
       "      <td>2021-09-11 12:00</td>\n",
       "    </tr>\n",
       "  </tbody>\n",
       "</table>\n",
       "</div>"
      ],
      "text/plain": [
       "        RECORD_TIME\n",
       "0  2021-09-11 12:30\n",
       "1  2021-09-11 12:00"
      ]
     },
     "execution_count": 3,
     "metadata": {},
     "output_type": "execute_result"
    }
   ],
   "source": [
    "timestamps"
   ]
  },
  {
   "cell_type": "code",
   "execution_count": 4,
   "id": "alternate-victory",
   "metadata": {
    "execution": {
     "iopub.execute_input": "2021-09-11T10:30:08.113319Z",
     "iopub.status.busy": "2021-09-11T10:30:08.111192Z",
     "iopub.status.idle": "2021-09-11T10:30:08.497904Z",
     "shell.execute_reply": "2021-09-11T10:30:08.499247Z"
    },
    "papermill": {
     "duration": 0.416687,
     "end_time": "2021-09-11T10:30:08.499685",
     "exception": false,
     "start_time": "2021-09-11T10:30:08.082998",
     "status": "completed"
    },
    "tags": []
   },
   "outputs": [],
   "source": [
    "df = pd.read_sql(\"select * from EBAY_TOP_BERLIN where record_time in (select distinct record_time from EBAY_TOP_BERLIN order by record_time desc limit 2)\", sqlite3.connect(\"UsedObjects.db\"))"
   ]
  },
  {
   "cell_type": "code",
   "execution_count": 5,
   "id": "popular-active",
   "metadata": {
    "execution": {
     "iopub.execute_input": "2021-09-11T10:30:08.580372Z",
     "iopub.status.busy": "2021-09-11T10:30:08.569119Z",
     "iopub.status.idle": "2021-09-11T10:30:08.595917Z",
     "shell.execute_reply": "2021-09-11T10:30:08.597117Z"
    },
    "papermill": {
     "duration": 0.072283,
     "end_time": "2021-09-11T10:30:08.597511",
     "exception": false,
     "start_time": "2021-09-11T10:30:08.525228",
     "status": "completed"
    },
    "tags": []
   },
   "outputs": [],
   "source": [
    "df_pivot = df.pivot_table(index=\"PRODUCT\", columns = \"RECORD_TIME\", values = \"LISTING_COUNT\")"
   ]
  },
  {
   "cell_type": "code",
   "execution_count": 6,
   "id": "union-huntington",
   "metadata": {
    "execution": {
     "iopub.execute_input": "2021-09-11T10:30:08.656556Z",
     "iopub.status.busy": "2021-09-11T10:30:08.654072Z",
     "iopub.status.idle": "2021-09-11T10:30:08.660042Z",
     "shell.execute_reply": "2021-09-11T10:30:08.661305Z"
    },
    "papermill": {
     "duration": 0.04215,
     "end_time": "2021-09-11T10:30:08.661717",
     "exception": false,
     "start_time": "2021-09-11T10:30:08.619567",
     "status": "completed"
    },
    "tags": []
   },
   "outputs": [],
   "source": [
    "df_pivot.columns = [\"stamp_1\", \"stamp_2\"]\n",
    "df_pivot_diff = df_pivot.diff(axis=1)"
   ]
  },
  {
   "cell_type": "code",
   "execution_count": 7,
   "id": "fifth-motion",
   "metadata": {
    "execution": {
     "iopub.execute_input": "2021-09-11T10:30:08.715027Z",
     "iopub.status.busy": "2021-09-11T10:30:08.712664Z",
     "iopub.status.idle": "2021-09-11T10:30:10.218021Z",
     "shell.execute_reply": "2021-09-11T10:30:10.219380Z"
    },
    "papermill": {
     "duration": 1.537783,
     "end_time": "2021-09-11T10:30:10.219812",
     "exception": false,
     "start_time": "2021-09-11T10:30:08.682029",
     "status": "completed"
    },
    "tags": []
   },
   "outputs": [
    {
     "data": {
      "text/plain": [
       "<AxesSubplot:ylabel='PRODUCT'>"
      ]
     },
     "execution_count": 7,
     "metadata": {},
     "output_type": "execute_result"
    },
    {
     "data": {
      "image/png": "[encoded data removed]",
      "text/plain": [
       "<Figure size 432x288 with 1 Axes>"
      ]
     },
     "metadata": {
      "needs_background": "light"
     },
     "output_type": "display_data"
    }
   ],
   "source": [
    "df_pivot_diff.sort_values(\"stamp_2\", ascending = False)[\"stamp_2\"].head(10).plot.barh()"
   ]
  },
  {
   "cell_type": "code",
   "execution_count": null,
   "id": "extra-executive",
   "metadata": {
    "papermill": {
     "duration": 0.02218,
     "end_time": "2021-09-11T10:30:10.265158",
     "exception": false,
     "start_time": "2021-09-11T10:30:10.242978",
     "status": "completed"
    },
    "tags": []
   },
   "outputs": [],
   "source": []
  }
 ],
 "metadata": {
  "kernelspec": {
   "display_name": "Python 3",
   "language": "python",
   "name": "python3"
  },
  "language_info": {
   "codemirror_mode": {
    "name": "ipython",
    "version": 3
   },
   "file_extension": ".py",
   "mimetype": "text/x-python",
   "name": "python",
   "nbconvert_exporter": "python",
   "pygments_lexer": "ipython3",
   "version": "3.9.5"
  },
  "papermill": {
   "default_parameters": {},
   "duration": 6.526707,
   "end_time": "2021-09-11T10:30:10.906280",
   "environment_variables": {},
   "exception": null,
   "input_path": "eBay_Overview.ipynb",
   "output_path": "eBay_Overview.ipynb",
   "parameters": {},
   "start_time": "2021-09-11T10:30:04.379573",
   "version": "2.3.3"
  }
 },
 "nbformat": 4,
 "nbformat_minor": 5
}