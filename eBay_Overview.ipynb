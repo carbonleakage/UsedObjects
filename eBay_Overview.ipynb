{
 "cells": [
  {
   "cell_type": "code",
   "execution_count": 1,
   "id": "reverse-picking",
   "metadata": {
    "execution": {
     "iopub.execute_input": "2021-11-16T01:00:08.166171Z",
     "iopub.status.busy": "2021-11-16T01:00:08.163572Z",
     "iopub.status.idle": "2021-11-16T01:00:09.136931Z",
     "shell.execute_reply": "2021-11-16T01:00:09.134999Z"
    },
    "papermill": {
     "duration": 1.021565,
     "end_time": "2021-11-16T01:00:09.137431",
     "exception": false,
     "start_time": "2021-11-16T01:00:08.115866",
     "status": "completed"
    },
    "tags": []
   },
   "outputs": [],
   "source": [
    "import pandas as pd\n",
    "import sqlite3"
   ]
  },
  {
   "cell_type": "code",
   "execution_count": 2,
   "id": "innovative-syndrome",
   "metadata": {
    "execution": {
     "iopub.execute_input": "2021-11-16T01:00:09.204866Z",
     "iopub.status.busy": "2021-11-16T01:00:09.202320Z",
     "iopub.status.idle": "2021-11-16T01:00:10.033176Z",
     "shell.execute_reply": "2021-11-16T01:00:10.034503Z"
    },
    "papermill": {
     "duration": 0.864692,
     "end_time": "2021-11-16T01:00:10.034910",
     "exception": false,
     "start_time": "2021-11-16T01:00:09.170218",
     "status": "completed"
    },
    "tags": []
   },
   "outputs": [],
   "source": [
    "timestamps = pd.read_sql(\"select distinct record_time from EBAY_TOP_BERLIN order by record_time desc limit 2\", sqlite3.connect(\"UsedObjects.db\"))"
   ]
  },
  {
   "cell_type": "code",
   "execution_count": 3,
   "id": "periodic-identification",
   "metadata": {
    "execution": {
     "iopub.execute_input": "2021-11-16T01:00:10.099149Z",
     "iopub.status.busy": "2021-11-16T01:00:10.097067Z",
     "iopub.status.idle": "2021-11-16T01:00:10.117668Z",
     "shell.execute_reply": "2021-11-16T01:00:10.118900Z"
    },
    "papermill": {
     "duration": 0.064899,
     "end_time": "2021-11-16T01:00:10.119297",
     "exception": false,
     "start_time": "2021-11-16T01:00:10.054398",
     "status": "completed"
    },
    "tags": []
   },
   "outputs": [
    {
     "data": {
      "text/html": [
       "<div>\n",
       "<style scoped>\n",
       "    .dataframe tbody tr th:only-of-type {\n",
       "        vertical-align: middle;\n",
       "    }\n",
       "\n",
       "    .dataframe tbody tr th {\n",
       "        vertical-align: top;\n",
       "    }\n",
       "\n",
       "    .dataframe thead th {\n",
       "        text-align: right;\n",
       "    }\n",
       "</style>\n",
       "<table border=\"1\" class=\"dataframe\">\n",
       "  <thead>\n",
       "    <tr style=\"text-align: right;\">\n",
       "      <th></th>\n",
       "      <th>RECORD_TIME</th>\n",
       "    </tr>\n",
       "  </thead>\n",
       "  <tbody>\n",
       "    <tr>\n",
       "      <th>0</th>\n",
       "      <td>2021-11-16 02:00</td>\n",
       "    </tr>\n",
       "    <tr>\n",
       "      <th>1</th>\n",
       "      <td>2021-11-16 01:30</td>\n",
       "    </tr>\n",
       "  </tbody>\n",
       "</table>\n",
       "</div>"
      ],
      "text/plain": [
       "        RECORD_TIME\n",
       "0  2021-11-16 02:00\n",
       "1  2021-11-16 01:30"
      ]
     },
     "execution_count": 3,
     "metadata": {},
     "output_type": "execute_result"
    }
   ],
   "source": [
    "timestamps"
   ]
  },
  {
   "cell_type": "code",
   "execution_count": 4,
   "id": "alternate-victory",
   "metadata": {
    "execution": {
     "iopub.execute_input": "2021-11-16T01:00:10.170649Z",
     "iopub.status.busy": "2021-11-16T01:00:10.168628Z",
     "iopub.status.idle": "2021-11-16T01:00:11.355917Z",
     "shell.execute_reply": "2021-11-16T01:00:11.358273Z"
    },
    "papermill": {
     "duration": 1.218516,
     "end_time": "2021-11-16T01:00:11.358784",
     "exception": false,
     "start_time": "2021-11-16T01:00:10.140268",
     "status": "completed"
    },
    "tags": []
   },
   "outputs": [],
   "source": [
    "df = pd.read_sql(\"select * from EBAY_TOP_BERLIN where record_time in (select distinct record_time from EBAY_TOP_BERLIN order by record_time desc limit 2)\", sqlite3.connect(\"UsedObjects.db\"))"
   ]
  },
  {
   "cell_type": "code",
   "execution_count": 5,
   "id": "popular-active",
   "metadata": {
    "execution": {
     "iopub.execute_input": "2021-11-16T01:00:11.425885Z",
     "iopub.status.busy": "2021-11-16T01:00:11.423442Z",
     "iopub.status.idle": "2021-11-16T01:00:11.454374Z",
     "shell.execute_reply": "2021-11-16T01:00:11.455709Z"
    },
    "papermill": {
     "duration": 0.075797,
     "end_time": "2021-11-16T01:00:11.456182",
     "exception": false,
     "start_time": "2021-11-16T01:00:11.380385",
     "status": "completed"
    },
    "tags": []
   },
   "outputs": [],
   "source": [
    "df_pivot = df.pivot_table(index=\"PRODUCT\", columns = \"RECORD_TIME\", values = \"LISTING_COUNT\")"
   ]
  },
  {
   "cell_type": "code",
   "execution_count": 6,
   "id": "union-huntington",
   "metadata": {
    "execution": {
     "iopub.execute_input": "2021-11-16T01:00:11.514684Z",
     "iopub.status.busy": "2021-11-16T01:00:11.512358Z",
     "iopub.status.idle": "2021-11-16T01:00:11.518094Z",
     "shell.execute_reply": "2021-11-16T01:00:11.519455Z"
    },
    "papermill": {
     "duration": 0.043916,
     "end_time": "2021-11-16T01:00:11.519924",
     "exception": false,
     "start_time": "2021-11-16T01:00:11.476008",
     "status": "completed"
    },
    "tags": []
   },
   "outputs": [],
   "source": [
    "df_pivot.columns = [\"stamp_1\", \"stamp_2\"]\n",
    "df_pivot_diff = df_pivot.diff(axis=1)"
   ]
  },
  {
   "cell_type": "code",
   "execution_count": 7,
   "id": "fifth-motion",
   "metadata": {
    "execution": {
     "iopub.execute_input": "2021-11-16T01:00:11.581126Z",
     "iopub.status.busy": "2021-11-16T01:00:11.578398Z",
     "iopub.status.idle": "2021-11-16T01:00:13.482535Z",
     "shell.execute_reply": "2021-11-16T01:00:13.484486Z"
    },
    "papermill": {
     "duration": 1.944203,
     "end_time": "2021-11-16T01:00:13.485474",
     "exception": false,
     "start_time": "2021-11-16T01:00:11.541271",
     "status": "completed"
    },
    "tags": []
   },
   "outputs": [
    {
     "data": {
      "text/plain": [
       "<AxesSubplot:ylabel='PRODUCT'>"
      ]
     },
     "execution_count": 7,
     "metadata": {},
     "output_type": "execute_result"
    },
    {
     "data": {
      "image/png": "[encoded data removed]",
      "text/plain": [
       "<Figure size 432x288 with 1 Axes>"
      ]
     },
     "metadata": {
      "needs_background": "light"
     },
     "output_type": "display_data"
    }
   ],
   "source": [
    "df_pivot_diff.sort_values(\"stamp_2\", ascending = False)[\"stamp_2\"].head(10).plot.barh()"
   ]
  },
  {
   "cell_type": "code",
   "execution_count": null,
   "id": "extra-executive",
   "metadata": {
    "papermill": {
     "duration": 0.035385,
     "end_time": "2021-11-16T01:00:13.559407",
     "exception": false,
     "start_time": "2021-11-16T01:00:13.524022",
     "status": "completed"
    },
    "tags": []
   },
   "outputs": [],
   "source": []
  }
 ],
 "metadata": {
  "kernelspec": {
   "display_name": "Python 3",
   "language": "python",
   "name": "python3"
  },
  "language_info": {
   "codemirror_mode": {
    "name": "ipython",
    "version": 3
   },
   "file_extension": ".py",
   "mimetype": "text/x-python",
   "name": "python",
   "nbconvert_exporter": "python",
   "pygments_lexer": "ipython3",
   "version": "3.9.5"
  },
  "papermill": {
   "default_parameters": {},
   "duration": 9.939404,
   "end_time": "2021-11-16T01:00:15.310568",
   "environment_variables": {},
   "exception": null,
   "input_path": "eBay_Overview.ipynb",
   "output_path": "eBay_Overview.ipynb",
   "parameters": {},
   "start_time": "2021-11-16T01:00:05.371164",
   "version": "2.3.3"
  }
 },
 "nbformat": 4,
 "nbformat_minor": 5
}