{
 "cells": [
  {
   "cell_type": "code",
   "execution_count": 1,
   "id": "reverse-picking",
   "metadata": {
    "execution": {
     "iopub.execute_input": "2021-09-10T20:00:06.716225Z",
     "iopub.status.busy": "2021-09-10T20:00:06.714184Z",
     "iopub.status.idle": "2021-09-10T20:00:07.526567Z",
     "shell.execute_reply": "2021-09-10T20:00:07.524932Z"
    },
    "papermill": {
     "duration": 0.860581,
     "end_time": "2021-09-10T20:00:07.527063",
     "exception": false,
     "start_time": "2021-09-10T20:00:06.666482",
     "status": "completed"
    },
    "tags": []
   },
   "outputs": [],
   "source": [
    "import pandas as pd\n",
    "import sqlite3"
   ]
  },
  {
   "cell_type": "code",
   "execution_count": 2,
   "id": "innovative-syndrome",
   "metadata": {
    "execution": {
     "iopub.execute_input": "2021-09-10T20:00:07.578820Z",
     "iopub.status.busy": "2021-09-10T20:00:07.576785Z",
     "iopub.status.idle": "2021-09-10T20:00:07.828009Z",
     "shell.execute_reply": "2021-09-10T20:00:07.829252Z"
    },
    "papermill": {
     "duration": 0.281985,
     "end_time": "2021-09-10T20:00:07.829662",
     "exception": false,
     "start_time": "2021-09-10T20:00:07.547677",
     "status": "completed"
    },
    "tags": []
   },
   "outputs": [],
   "source": [
    "timestamps = pd.read_sql(\"select distinct record_time from EBAY_TOP_BERLIN order by record_time desc limit 2\", sqlite3.connect(\"UsedObjects.db\"))"
   ]
  },
  {
   "cell_type": "code",
   "execution_count": 3,
   "id": "periodic-identification",
   "metadata": {
    "execution": {
     "iopub.execute_input": "2021-09-10T20:00:07.902697Z",
     "iopub.status.busy": "2021-09-10T20:00:07.897566Z",
     "iopub.status.idle": "2021-09-10T20:00:07.917927Z",
     "shell.execute_reply": "2021-09-10T20:00:07.919306Z"
    },
    "papermill": {
     "duration": 0.067317,
     "end_time": "2021-09-10T20:00:07.919745",
     "exception": false,
     "start_time": "2021-09-10T20:00:07.852428",
     "status": "completed"
    },
    "tags": []
   },
   "outputs": [
    {
     "data": {
      "text/html": [
       "<div>\n",
       "<style scoped>\n",
       "    .dataframe tbody tr th:only-of-type {\n",
       "        vertical-align: middle;\n",
       "    }\n",
       "\n",
       "    .dataframe tbody tr th {\n",
       "        vertical-align: top;\n",
       "    }\n",
       "\n",
       "    .dataframe thead th {\n",
       "        text-align: right;\n",
       "    }\n",
       "</style>\n",
       "<table border=\"1\" class=\"dataframe\">\n",
       "  <thead>\n",
       "    <tr style=\"text-align: right;\">\n",
       "      <th></th>\n",
       "      <th>RECORD_TIME</th>\n",
       "    </tr>\n",
       "  </thead>\n",
       "  <tbody>\n",
       "    <tr>\n",
       "      <th>0</th>\n",
       "      <td>2021-09-10 22:00</td>\n",
       "    </tr>\n",
       "    <tr>\n",
       "      <th>1</th>\n",
       "      <td>2021-09-10 21:30</td>\n",
       "    </tr>\n",
       "  </tbody>\n",
       "</table>\n",
       "</div>"
      ],
      "text/plain": [
       "        RECORD_TIME\n",
       "0  2021-09-10 22:00\n",
       "1  2021-09-10 21:30"
      ]
     },
     "execution_count": 3,
     "metadata": {},
     "output_type": "execute_result"
    }
   ],
   "source": [
    "timestamps"
   ]
  },
  {
   "cell_type": "code",
   "execution_count": 4,
   "id": "alternate-victory",
   "metadata": {
    "execution": {
     "iopub.execute_input": "2021-09-10T20:00:07.971934Z",
     "iopub.status.busy": "2021-09-10T20:00:07.969951Z",
     "iopub.status.idle": "2021-09-10T20:00:08.342303Z",
     "shell.execute_reply": "2021-09-10T20:00:08.343670Z"
    },
    "papermill": {
     "duration": 0.402901,
     "end_time": "2021-09-10T20:00:08.344114",
     "exception": false,
     "start_time": "2021-09-10T20:00:07.941213",
     "status": "completed"
    },
    "tags": []
   },
   "outputs": [],
   "source": [
    "df = pd.read_sql(\"select * from EBAY_TOP_BERLIN where record_time in (select distinct record_time from EBAY_TOP_BERLIN order by record_time desc limit 2)\", sqlite3.connect(\"UsedObjects.db\"))"
   ]
  },
  {
   "cell_type": "code",
   "execution_count": 5,
   "id": "popular-active",
   "metadata": {
    "execution": {
     "iopub.execute_input": "2021-09-10T20:00:08.430810Z",
     "iopub.status.busy": "2021-09-10T20:00:08.419185Z",
     "iopub.status.idle": "2021-09-10T20:00:08.446925Z",
     "shell.execute_reply": "2021-09-10T20:00:08.448249Z"
    },
    "papermill": {
     "duration": 0.074192,
     "end_time": "2021-09-10T20:00:08.448669",
     "exception": false,
     "start_time": "2021-09-10T20:00:08.374477",
     "status": "completed"
    },
    "tags": []
   },
   "outputs": [],
   "source": [
    "df_pivot = df.pivot_table(index=\"PRODUCT\", columns = \"RECORD_TIME\", values = \"LISTING_COUNT\")"
   ]
  },
  {
   "cell_type": "code",
   "execution_count": 6,
   "id": "union-huntington",
   "metadata": {
    "execution": {
     "iopub.execute_input": "2021-09-10T20:00:08.505171Z",
     "iopub.status.busy": "2021-09-10T20:00:08.503106Z",
     "iopub.status.idle": "2021-09-10T20:00:08.508481Z",
     "shell.execute_reply": "2021-09-10T20:00:08.509685Z"
    },
    "papermill": {
     "duration": 0.040923,
     "end_time": "2021-09-10T20:00:08.510123",
     "exception": false,
     "start_time": "2021-09-10T20:00:08.469200",
     "status": "completed"
    },
    "tags": []
   },
   "outputs": [],
   "source": [
    "df_pivot.columns = [\"stamp_1\", \"stamp_2\"]\n",
    "df_pivot_diff = df_pivot.diff(axis=1)"
   ]
  },
  {
   "cell_type": "code",
   "execution_count": 7,
   "id": "fifth-motion",
   "metadata": {
    "execution": {
     "iopub.execute_input": "2021-09-10T20:00:08.568931Z",
     "iopub.status.busy": "2021-09-10T20:00:08.566453Z",
     "iopub.status.idle": "2021-09-10T20:00:10.089875Z",
     "shell.execute_reply": "2021-09-10T20:00:10.091318Z"
    },
    "papermill": {
     "duration": 1.55754,
     "end_time": "2021-09-10T20:00:10.091772",
     "exception": false,
     "start_time": "2021-09-10T20:00:08.534232",
     "status": "completed"
    },
    "tags": []
   },
   "outputs": [
    {
     "data": {
      "text/plain": [
       "<AxesSubplot:ylabel='PRODUCT'>"
      ]
     },
     "execution_count": 7,
     "metadata": {},
     "output_type": "execute_result"
    },
    {
     "data": {
      "image/png": "[encoded data removed]",
      "text/plain": [
       "<Figure size 432x288 with 1 Axes>"
      ]
     },
     "metadata": {
      "needs_background": "light"
     },
     "output_type": "display_data"
    }
   ],
   "source": [
    "df_pivot_diff.sort_values(\"stamp_2\", ascending = False)[\"stamp_2\"].head(10).plot.barh()"
   ]
  },
  {
   "cell_type": "code",
   "execution_count": null,
   "id": "extra-executive",
   "metadata": {
    "papermill": {
     "duration": 0.022763,
     "end_time": "2021-09-10T20:00:10.139746",
     "exception": false,
     "start_time": "2021-09-10T20:00:10.116983",
     "status": "completed"
    },
    "tags": []
   },
   "outputs": [],
   "source": []
  }
 ],
 "metadata": {
  "kernelspec": {
   "display_name": "Python 3",
   "language": "python",
   "name": "python3"
  },
  "language_info": {
   "codemirror_mode": {
    "name": "ipython",
    "version": 3
   },
   "file_extension": ".py",
   "mimetype": "text/x-python",
   "name": "python",
   "nbconvert_exporter": "python",
   "pygments_lexer": "ipython3",
   "version": "3.9.5"
  },
  "papermill": {
   "default_parameters": {},
   "duration": 6.532993,
   "end_time": "2021-09-10T20:00:10.781762",
   "environment_variables": {},
   "exception": null,
   "input_path": "eBay_Overview.ipynb",
   "output_path": "eBay_Overview.ipynb",
   "parameters": {},
   "start_time": "2021-09-10T20:00:04.248769",
   "version": "2.3.3"
  }
 },
 "nbformat": 4,
 "nbformat_minor": 5
}