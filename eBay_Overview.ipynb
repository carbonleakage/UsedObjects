{
 "cells": [
  {
   "cell_type": "code",
   "execution_count": 1,
   "id": "reverse-picking",
   "metadata": {
    "execution": {
     "iopub.execute_input": "2021-12-02T05:30:07.633548Z",
     "iopub.status.busy": "2021-12-02T05:30:07.631131Z",
     "iopub.status.idle": "2021-12-02T05:30:08.591300Z",
     "shell.execute_reply": "2021-12-02T05:30:08.592742Z"
    },
    "papermill": {
     "duration": 1.009546,
     "end_time": "2021-12-02T05:30:08.593513",
     "exception": false,
     "start_time": "2021-12-02T05:30:07.583967",
     "status": "completed"
    },
    "tags": []
   },
   "outputs": [],
   "source": [
    "import pandas as pd\n",
    "import sqlite3"
   ]
  },
  {
   "cell_type": "code",
   "execution_count": 2,
   "id": "innovative-syndrome",
   "metadata": {
    "execution": {
     "iopub.execute_input": "2021-12-02T05:30:08.650266Z",
     "iopub.status.busy": "2021-12-02T05:30:08.647997Z",
     "iopub.status.idle": "2021-12-02T05:30:09.655256Z",
     "shell.execute_reply": "2021-12-02T05:30:09.657564Z"
    },
    "papermill": {
     "duration": 1.042943,
     "end_time": "2021-12-02T05:30:09.658065",
     "exception": false,
     "start_time": "2021-12-02T05:30:08.615122",
     "status": "completed"
    },
    "tags": []
   },
   "outputs": [],
   "source": [
    "timestamps = pd.read_sql(\"select distinct record_time from EBAY_TOP_BERLIN order by record_time desc limit 2\", sqlite3.connect(\"UsedObjects.db\"))"
   ]
  },
  {
   "cell_type": "code",
   "execution_count": 3,
   "id": "periodic-identification",
   "metadata": {
    "execution": {
     "iopub.execute_input": "2021-12-02T05:30:09.730758Z",
     "iopub.status.busy": "2021-12-02T05:30:09.727849Z",
     "iopub.status.idle": "2021-12-02T05:30:09.750529Z",
     "shell.execute_reply": "2021-12-02T05:30:09.751968Z"
    },
    "papermill": {
     "duration": 0.072651,
     "end_time": "2021-12-02T05:30:09.752419",
     "exception": false,
     "start_time": "2021-12-02T05:30:09.679768",
     "status": "completed"
    },
    "tags": []
   },
   "outputs": [
    {
     "data": {
      "text/html": [
       "<div>\n",
       "<style scoped>\n",
       "    .dataframe tbody tr th:only-of-type {\n",
       "        vertical-align: middle;\n",
       "    }\n",
       "\n",
       "    .dataframe tbody tr th {\n",
       "        vertical-align: top;\n",
       "    }\n",
       "\n",
       "    .dataframe thead th {\n",
       "        text-align: right;\n",
       "    }\n",
       "</style>\n",
       "<table border=\"1\" class=\"dataframe\">\n",
       "  <thead>\n",
       "    <tr style=\"text-align: right;\">\n",
       "      <th></th>\n",
       "      <th>RECORD_TIME</th>\n",
       "    </tr>\n",
       "  </thead>\n",
       "  <tbody>\n",
       "    <tr>\n",
       "      <th>0</th>\n",
       "      <td>2021-12-02 06:30</td>\n",
       "    </tr>\n",
       "    <tr>\n",
       "      <th>1</th>\n",
       "      <td>2021-12-02 06:00</td>\n",
       "    </tr>\n",
       "  </tbody>\n",
       "</table>\n",
       "</div>"
      ],
      "text/plain": [
       "        RECORD_TIME\n",
       "0  2021-12-02 06:30\n",
       "1  2021-12-02 06:00"
      ]
     },
     "execution_count": 3,
     "metadata": {},
     "output_type": "execute_result"
    }
   ],
   "source": [
    "timestamps"
   ]
  },
  {
   "cell_type": "code",
   "execution_count": 4,
   "id": "alternate-victory",
   "metadata": {
    "execution": {
     "iopub.execute_input": "2021-12-02T05:30:09.811687Z",
     "iopub.status.busy": "2021-12-02T05:30:09.809860Z",
     "iopub.status.idle": "2021-12-02T05:30:11.247925Z",
     "shell.execute_reply": "2021-12-02T05:30:11.250488Z"
    },
    "papermill": {
     "duration": 1.477649,
     "end_time": "2021-12-02T05:30:11.251139",
     "exception": false,
     "start_time": "2021-12-02T05:30:09.773490",
     "status": "completed"
    },
    "tags": []
   },
   "outputs": [],
   "source": [
    "df = pd.read_sql(\"select * from EBAY_TOP_BERLIN where record_time in (select distinct record_time from EBAY_TOP_BERLIN order by record_time desc limit 2)\", sqlite3.connect(\"UsedObjects.db\"))"
   ]
  },
  {
   "cell_type": "code",
   "execution_count": 5,
   "id": "popular-active",
   "metadata": {
    "execution": {
     "iopub.execute_input": "2021-12-02T05:30:11.315049Z",
     "iopub.status.busy": "2021-12-02T05:30:11.312157Z",
     "iopub.status.idle": "2021-12-02T05:30:11.374692Z",
     "shell.execute_reply": "2021-12-02T05:30:11.377549Z"
    },
    "papermill": {
     "duration": 0.099694,
     "end_time": "2021-12-02T05:30:11.378139",
     "exception": false,
     "start_time": "2021-12-02T05:30:11.278445",
     "status": "completed"
    },
    "tags": []
   },
   "outputs": [],
   "source": [
    "df_pivot = df.pivot_table(index=\"PRODUCT\", columns = \"RECORD_TIME\", values = \"LISTING_COUNT\")"
   ]
  },
  {
   "cell_type": "code",
   "execution_count": 6,
   "id": "union-huntington",
   "metadata": {
    "execution": {
     "iopub.execute_input": "2021-12-02T05:30:11.456297Z",
     "iopub.status.busy": "2021-12-02T05:30:11.444802Z",
     "iopub.status.idle": "2021-12-02T05:30:11.461876Z",
     "shell.execute_reply": "2021-12-02T05:30:11.463311Z"
    },
    "papermill": {
     "duration": 0.052223,
     "end_time": "2021-12-02T05:30:11.463803",
     "exception": false,
     "start_time": "2021-12-02T05:30:11.411580",
     "status": "completed"
    },
    "tags": []
   },
   "outputs": [],
   "source": [
    "df_pivot.columns = [\"stamp_1\", \"stamp_2\"]\n",
    "df_pivot_diff = df_pivot.diff(axis=1)"
   ]
  },
  {
   "cell_type": "code",
   "execution_count": 7,
   "id": "fifth-motion",
   "metadata": {
    "execution": {
     "iopub.execute_input": "2021-12-02T05:30:11.522851Z",
     "iopub.status.busy": "2021-12-02T05:30:11.520283Z",
     "iopub.status.idle": "2021-12-02T05:30:13.575128Z",
     "shell.execute_reply": "2021-12-02T05:30:13.576459Z"
    },
    "papermill": {
     "duration": 2.091993,
     "end_time": "2021-12-02T05:30:13.576987",
     "exception": false,
     "start_time": "2021-12-02T05:30:11.484994",
     "status": "completed"
    },
    "tags": []
   },
   "outputs": [
    {
     "data": {
      "text/plain": [
       "<AxesSubplot:ylabel='PRODUCT'>"
      ]
     },
     "execution_count": 7,
     "metadata": {},
     "output_type": "execute_result"
    },
    {
     "data": {
      "image/png": "[encoded data removed]",
      "text/plain": [
       "<Figure size 432x288 with 1 Axes>"
      ]
     },
     "metadata": {
      "needs_background": "light"
     },
     "output_type": "display_data"
    }
   ],
   "source": [
    "df_pivot_diff.sort_values(\"stamp_2\", ascending = False)[\"stamp_2\"].head(10).plot.barh()"
   ]
  },
  {
   "cell_type": "code",
   "execution_count": null,
   "id": "extra-executive",
   "metadata": {
    "papermill": {
     "duration": 0.024713,
     "end_time": "2021-12-02T05:30:13.625621",
     "exception": false,
     "start_time": "2021-12-02T05:30:13.600908",
     "status": "completed"
    },
    "tags": []
   },
   "outputs": [],
   "source": []
  }
 ],
 "metadata": {
  "kernelspec": {
   "display_name": "Python 3",
   "language": "python",
   "name": "python3"
  },
  "language_info": {
   "codemirror_mode": {
    "name": "ipython",
    "version": 3
   },
   "file_extension": ".py",
   "mimetype": "text/x-python",
   "name": "python",
   "nbconvert_exporter": "python",
   "pygments_lexer": "ipython3",
   "version": "3.9.5"
  },
  "papermill": {
   "default_parameters": {},
   "duration": 9.848832,
   "end_time": "2021-12-02T05:30:14.491267",
   "environment_variables": {},
   "exception": null,
   "input_path": "eBay_Overview.ipynb",
   "output_path": "eBay_Overview.ipynb",
   "parameters": {},
   "start_time": "2021-12-02T05:30:04.642435",
   "version": "2.3.3"
  }
 },
 "nbformat": 4,
 "nbformat_minor": 5
}