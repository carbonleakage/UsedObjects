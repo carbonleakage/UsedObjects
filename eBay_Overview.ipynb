{
 "cells": [
  {
   "cell_type": "code",
   "execution_count": 1,
   "id": "reverse-picking",
   "metadata": {
    "execution": {
     "iopub.execute_input": "2021-11-15T00:30:07.349625Z",
     "iopub.status.busy": "2021-11-15T00:30:07.347215Z",
     "iopub.status.idle": "2021-11-15T00:30:08.304070Z",
     "shell.execute_reply": "2021-11-15T00:30:08.305855Z"
    },
    "papermill": {
     "duration": 1.009746,
     "end_time": "2021-11-15T00:30:08.306684",
     "exception": false,
     "start_time": "2021-11-15T00:30:07.296938",
     "status": "completed"
    },
    "tags": []
   },
   "outputs": [],
   "source": [
    "import pandas as pd\n",
    "import sqlite3"
   ]
  },
  {
   "cell_type": "code",
   "execution_count": 2,
   "id": "innovative-syndrome",
   "metadata": {
    "execution": {
     "iopub.execute_input": "2021-11-15T00:30:08.377168Z",
     "iopub.status.busy": "2021-11-15T00:30:08.374907Z",
     "iopub.status.idle": "2021-11-15T00:30:09.193542Z",
     "shell.execute_reply": "2021-11-15T00:30:09.195642Z"
    },
    "papermill": {
     "duration": 0.853689,
     "end_time": "2021-11-15T00:30:09.196136",
     "exception": false,
     "start_time": "2021-11-15T00:30:08.342447",
     "status": "completed"
    },
    "tags": []
   },
   "outputs": [],
   "source": [
    "timestamps = pd.read_sql(\"select distinct record_time from EBAY_TOP_BERLIN order by record_time desc limit 2\", sqlite3.connect(\"UsedObjects.db\"))"
   ]
  },
  {
   "cell_type": "code",
   "execution_count": 3,
   "id": "periodic-identification",
   "metadata": {
    "execution": {
     "iopub.execute_input": "2021-11-15T00:30:09.270541Z",
     "iopub.status.busy": "2021-11-15T00:30:09.268197Z",
     "iopub.status.idle": "2021-11-15T00:30:09.295527Z",
     "shell.execute_reply": "2021-11-15T00:30:09.298093Z"
    },
    "papermill": {
     "duration": 0.082246,
     "end_time": "2021-11-15T00:30:09.298755",
     "exception": false,
     "start_time": "2021-11-15T00:30:09.216509",
     "status": "completed"
    },
    "tags": []
   },
   "outputs": [
    {
     "data": {
      "text/html": [
       "<div>\n",
       "<style scoped>\n",
       "    .dataframe tbody tr th:only-of-type {\n",
       "        vertical-align: middle;\n",
       "    }\n",
       "\n",
       "    .dataframe tbody tr th {\n",
       "        vertical-align: top;\n",
       "    }\n",
       "\n",
       "    .dataframe thead th {\n",
       "        text-align: right;\n",
       "    }\n",
       "</style>\n",
       "<table border=\"1\" class=\"dataframe\">\n",
       "  <thead>\n",
       "    <tr style=\"text-align: right;\">\n",
       "      <th></th>\n",
       "      <th>RECORD_TIME</th>\n",
       "    </tr>\n",
       "  </thead>\n",
       "  <tbody>\n",
       "    <tr>\n",
       "      <th>0</th>\n",
       "      <td>2021-11-15 01:30</td>\n",
       "    </tr>\n",
       "    <tr>\n",
       "      <th>1</th>\n",
       "      <td>2021-11-15 01:00</td>\n",
       "    </tr>\n",
       "  </tbody>\n",
       "</table>\n",
       "</div>"
      ],
      "text/plain": [
       "        RECORD_TIME\n",
       "0  2021-11-15 01:30\n",
       "1  2021-11-15 01:00"
      ]
     },
     "execution_count": 3,
     "metadata": {},
     "output_type": "execute_result"
    }
   ],
   "source": [
    "timestamps"
   ]
  },
  {
   "cell_type": "code",
   "execution_count": 4,
   "id": "alternate-victory",
   "metadata": {
    "execution": {
     "iopub.execute_input": "2021-11-15T00:30:09.356047Z",
     "iopub.status.busy": "2021-11-15T00:30:09.353892Z",
     "iopub.status.idle": "2021-11-15T00:30:10.548211Z",
     "shell.execute_reply": "2021-11-15T00:30:10.550544Z"
    },
    "papermill": {
     "duration": 1.230444,
     "end_time": "2021-11-15T00:30:10.551031",
     "exception": false,
     "start_time": "2021-11-15T00:30:09.320587",
     "status": "completed"
    },
    "tags": []
   },
   "outputs": [],
   "source": [
    "df = pd.read_sql(\"select * from EBAY_TOP_BERLIN where record_time in (select distinct record_time from EBAY_TOP_BERLIN order by record_time desc limit 2)\", sqlite3.connect(\"UsedObjects.db\"))"
   ]
  },
  {
   "cell_type": "code",
   "execution_count": 5,
   "id": "popular-active",
   "metadata": {
    "execution": {
     "iopub.execute_input": "2021-11-15T00:30:10.619631Z",
     "iopub.status.busy": "2021-11-15T00:30:10.617248Z",
     "iopub.status.idle": "2021-11-15T00:30:10.650120Z",
     "shell.execute_reply": "2021-11-15T00:30:10.651474Z"
    },
    "papermill": {
     "duration": 0.077483,
     "end_time": "2021-11-15T00:30:10.651898",
     "exception": false,
     "start_time": "2021-11-15T00:30:10.574415",
     "status": "completed"
    },
    "tags": []
   },
   "outputs": [],
   "source": [
    "df_pivot = df.pivot_table(index=\"PRODUCT\", columns = \"RECORD_TIME\", values = \"LISTING_COUNT\")"
   ]
  },
  {
   "cell_type": "code",
   "execution_count": 6,
   "id": "union-huntington",
   "metadata": {
    "execution": {
     "iopub.execute_input": "2021-11-15T00:30:10.711567Z",
     "iopub.status.busy": "2021-11-15T00:30:10.709516Z",
     "iopub.status.idle": "2021-11-15T00:30:10.715243Z",
     "shell.execute_reply": "2021-11-15T00:30:10.716940Z"
    },
    "papermill": {
     "duration": 0.043961,
     "end_time": "2021-11-15T00:30:10.717469",
     "exception": false,
     "start_time": "2021-11-15T00:30:10.673508",
     "status": "completed"
    },
    "tags": []
   },
   "outputs": [],
   "source": [
    "df_pivot.columns = [\"stamp_1\", \"stamp_2\"]\n",
    "df_pivot_diff = df_pivot.diff(axis=1)"
   ]
  },
  {
   "cell_type": "code",
   "execution_count": 7,
   "id": "fifth-motion",
   "metadata": {
    "execution": {
     "iopub.execute_input": "2021-11-15T00:30:10.778848Z",
     "iopub.status.busy": "2021-11-15T00:30:10.776144Z",
     "iopub.status.idle": "2021-11-15T00:30:12.688823Z",
     "shell.execute_reply": "2021-11-15T00:30:12.690464Z"
    },
    "papermill": {
     "duration": 1.951767,
     "end_time": "2021-11-15T00:30:12.690951",
     "exception": false,
     "start_time": "2021-11-15T00:30:10.739184",
     "status": "completed"
    },
    "tags": []
   },
   "outputs": [
    {
     "data": {
      "text/plain": [
       "<AxesSubplot:ylabel='PRODUCT'>"
      ]
     },
     "execution_count": 7,
     "metadata": {},
     "output_type": "execute_result"
    },
    {
     "data": {
      "image/png": "[encoded data removed]",
      "text/plain": [
       "<Figure size 432x288 with 1 Axes>"
      ]
     },
     "metadata": {
      "needs_background": "light"
     },
     "output_type": "display_data"
    }
   ],
   "source": [
    "df_pivot_diff.sort_values(\"stamp_2\", ascending = False)[\"stamp_2\"].head(10).plot.barh()"
   ]
  },
  {
   "cell_type": "code",
   "execution_count": null,
   "id": "extra-executive",
   "metadata": {
    "papermill": {
     "duration": 0.023974,
     "end_time": "2021-11-15T00:30:12.741674",
     "exception": false,
     "start_time": "2021-11-15T00:30:12.717700",
     "status": "completed"
    },
    "tags": []
   },
   "outputs": [],
   "source": []
  }
 ],
 "metadata": {
  "kernelspec": {
   "display_name": "Python 3",
   "language": "python",
   "name": "python3"
  },
  "language_info": {
   "codemirror_mode": {
    "name": "ipython",
    "version": 3
   },
   "file_extension": ".py",
   "mimetype": "text/x-python",
   "name": "python",
   "nbconvert_exporter": "python",
   "pygments_lexer": "ipython3",
   "version": "3.9.5"
  },
  "papermill": {
   "default_parameters": {},
   "duration": 9.93293,
   "end_time": "2021-11-15T00:30:14.518008",
   "environment_variables": {},
   "exception": null,
   "input_path": "eBay_Overview.ipynb",
   "output_path": "eBay_Overview.ipynb",
   "parameters": {},
   "start_time": "2021-11-15T00:30:04.585078",
   "version": "2.3.3"
  }
 },
 "nbformat": 4,
 "nbformat_minor": 5
}