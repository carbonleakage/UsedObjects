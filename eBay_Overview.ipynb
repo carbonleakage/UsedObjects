{
 "cells": [
  {
   "cell_type": "code",
   "execution_count": 1,
   "id": "reverse-picking",
   "metadata": {
    "execution": {
     "iopub.execute_input": "2021-08-23T19:30:07.836429Z",
     "iopub.status.busy": "2021-08-23T19:30:07.834477Z",
     "iopub.status.idle": "2021-08-23T19:30:08.642601Z",
     "shell.execute_reply": "2021-08-23T19:30:08.643858Z"
    },
    "papermill": {
     "duration": 0.860963,
     "end_time": "2021-08-23T19:30:08.644475",
     "exception": false,
     "start_time": "2021-08-23T19:30:07.783512",
     "status": "completed"
    },
    "tags": []
   },
   "outputs": [],
   "source": [
    "import pandas as pd\n",
    "import sqlite3"
   ]
  },
  {
   "cell_type": "code",
   "execution_count": 2,
   "id": "innovative-syndrome",
   "metadata": {
    "execution": {
     "iopub.execute_input": "2021-08-23T19:30:08.698641Z",
     "iopub.status.busy": "2021-08-23T19:30:08.696289Z",
     "iopub.status.idle": "2021-08-23T19:30:08.810494Z",
     "shell.execute_reply": "2021-08-23T19:30:08.811696Z"
    },
    "papermill": {
     "duration": 0.144329,
     "end_time": "2021-08-23T19:30:08.812087",
     "exception": false,
     "start_time": "2021-08-23T19:30:08.667758",
     "status": "completed"
    },
    "tags": []
   },
   "outputs": [],
   "source": [
    "timestamps = pd.read_sql(\"select distinct record_time from EBAY_TOP_BERLIN order by record_time desc limit 2\", sqlite3.connect(\"UsedObjects.db\"))"
   ]
  },
  {
   "cell_type": "code",
   "execution_count": 3,
   "id": "periodic-identification",
   "metadata": {
    "execution": {
     "iopub.execute_input": "2021-08-23T19:30:08.880850Z",
     "iopub.status.busy": "2021-08-23T19:30:08.878846Z",
     "iopub.status.idle": "2021-08-23T19:30:08.901084Z",
     "shell.execute_reply": "2021-08-23T19:30:08.902819Z"
    },
    "papermill": {
     "duration": 0.068632,
     "end_time": "2021-08-23T19:30:08.903354",
     "exception": false,
     "start_time": "2021-08-23T19:30:08.834722",
     "status": "completed"
    },
    "tags": []
   },
   "outputs": [
    {
     "data": {
      "text/html": [
       "<div>\n",
       "<style scoped>\n",
       "    .dataframe tbody tr th:only-of-type {\n",
       "        vertical-align: middle;\n",
       "    }\n",
       "\n",
       "    .dataframe tbody tr th {\n",
       "        vertical-align: top;\n",
       "    }\n",
       "\n",
       "    .dataframe thead th {\n",
       "        text-align: right;\n",
       "    }\n",
       "</style>\n",
       "<table border=\"1\" class=\"dataframe\">\n",
       "  <thead>\n",
       "    <tr style=\"text-align: right;\">\n",
       "      <th></th>\n",
       "      <th>RECORD_TIME</th>\n",
       "    </tr>\n",
       "  </thead>\n",
       "  <tbody>\n",
       "    <tr>\n",
       "      <th>0</th>\n",
       "      <td>2021-08-23 21:30</td>\n",
       "    </tr>\n",
       "    <tr>\n",
       "      <th>1</th>\n",
       "      <td>2021-08-23 21:00</td>\n",
       "    </tr>\n",
       "  </tbody>\n",
       "</table>\n",
       "</div>"
      ],
      "text/plain": [
       "        RECORD_TIME\n",
       "0  2021-08-23 21:30\n",
       "1  2021-08-23 21:00"
      ]
     },
     "execution_count": 3,
     "metadata": {},
     "output_type": "execute_result"
    }
   ],
   "source": [
    "timestamps"
   ]
  },
  {
   "cell_type": "code",
   "execution_count": 4,
   "id": "alternate-victory",
   "metadata": {
    "execution": {
     "iopub.execute_input": "2021-08-23T19:30:08.954864Z",
     "iopub.status.busy": "2021-08-23T19:30:08.952943Z",
     "iopub.status.idle": "2021-08-23T19:30:09.124259Z",
     "shell.execute_reply": "2021-08-23T19:30:09.125541Z"
    },
    "papermill": {
     "duration": 0.201309,
     "end_time": "2021-08-23T19:30:09.126022",
     "exception": false,
     "start_time": "2021-08-23T19:30:08.924713",
     "status": "completed"
    },
    "tags": []
   },
   "outputs": [],
   "source": [
    "df = pd.read_sql(\"select * from EBAY_TOP_BERLIN where record_time in (select distinct record_time from EBAY_TOP_BERLIN order by record_time desc limit 2)\", sqlite3.connect(\"UsedObjects.db\"))"
   ]
  },
  {
   "cell_type": "code",
   "execution_count": 5,
   "id": "popular-active",
   "metadata": {
    "execution": {
     "iopub.execute_input": "2021-08-23T19:30:09.197256Z",
     "iopub.status.busy": "2021-08-23T19:30:09.184601Z",
     "iopub.status.idle": "2021-08-23T19:30:09.213145Z",
     "shell.execute_reply": "2021-08-23T19:30:09.214580Z"
    },
    "papermill": {
     "duration": 0.06857,
     "end_time": "2021-08-23T19:30:09.215004",
     "exception": false,
     "start_time": "2021-08-23T19:30:09.146434",
     "status": "completed"
    },
    "tags": []
   },
   "outputs": [],
   "source": [
    "df_pivot = df.pivot_table(index=\"PRODUCT\", columns = \"RECORD_TIME\", values = \"LISTING_COUNT\")"
   ]
  },
  {
   "cell_type": "code",
   "execution_count": 6,
   "id": "union-huntington",
   "metadata": {
    "execution": {
     "iopub.execute_input": "2021-08-23T19:30:09.272618Z",
     "iopub.status.busy": "2021-08-23T19:30:09.270518Z",
     "iopub.status.idle": "2021-08-23T19:30:09.275923Z",
     "shell.execute_reply": "2021-08-23T19:30:09.277188Z"
    },
    "papermill": {
     "duration": 0.041145,
     "end_time": "2021-08-23T19:30:09.277602",
     "exception": false,
     "start_time": "2021-08-23T19:30:09.236457",
     "status": "completed"
    },
    "tags": []
   },
   "outputs": [],
   "source": [
    "df_pivot.columns = [\"stamp_1\", \"stamp_2\"]\n",
    "df_pivot_diff = df_pivot.diff(axis=1)"
   ]
  },
  {
   "cell_type": "code",
   "execution_count": 7,
   "id": "fifth-motion",
   "metadata": {
    "execution": {
     "iopub.execute_input": "2021-08-23T19:30:09.333569Z",
     "iopub.status.busy": "2021-08-23T19:30:09.331209Z",
     "iopub.status.idle": "2021-08-23T19:30:10.838678Z",
     "shell.execute_reply": "2021-08-23T19:30:10.839877Z"
    },
    "papermill": {
     "duration": 1.540222,
     "end_time": "2021-08-23T19:30:10.840306",
     "exception": false,
     "start_time": "2021-08-23T19:30:09.300084",
     "status": "completed"
    },
    "tags": []
   },
   "outputs": [
    {
     "data": {
      "text/plain": [
       "<AxesSubplot:ylabel='PRODUCT'>"
      ]
     },
     "execution_count": 7,
     "metadata": {},
     "output_type": "execute_result"
    },
    {
     "data": {
      "image/png": "[encoded data removed]",
      "text/plain": [
       "<Figure size 432x288 with 1 Axes>"
      ]
     },
     "metadata": {
      "needs_background": "light"
     },
     "output_type": "display_data"
    }
   ],
   "source": [
    "df_pivot_diff.sort_values(\"stamp_2\", ascending = False)[\"stamp_2\"].head(10).plot.barh()"
   ]
  },
  {
   "cell_type": "code",
   "execution_count": null,
   "id": "extra-executive",
   "metadata": {
    "papermill": {
     "duration": 0.022351,
     "end_time": "2021-08-23T19:30:10.888567",
     "exception": false,
     "start_time": "2021-08-23T19:30:10.866216",
     "status": "completed"
    },
    "tags": []
   },
   "outputs": [],
   "source": []
  }
 ],
 "metadata": {
  "kernelspec": {
   "display_name": "Python 3",
   "language": "python",
   "name": "python3"
  },
  "language_info": {
   "codemirror_mode": {
    "name": "ipython",
    "version": 3
   },
   "file_extension": ".py",
   "mimetype": "text/x-python",
   "name": "python",
   "nbconvert_exporter": "python",
   "pygments_lexer": "ipython3",
   "version": "3.9.5"
  },
  "papermill": {
   "default_parameters": {},
   "duration": 6.824678,
   "end_time": "2021-08-23T19:30:12.194290",
   "environment_variables": {},
   "exception": null,
   "input_path": "eBay_Overview.ipynb",
   "output_path": "eBay_Overview.ipynb",
   "parameters": {},
   "start_time": "2021-08-23T19:30:05.369612",
   "version": "2.3.3"
  }
 },
 "nbformat": 4,
 "nbformat_minor": 5
}