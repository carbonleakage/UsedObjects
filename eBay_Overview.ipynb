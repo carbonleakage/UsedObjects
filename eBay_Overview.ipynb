{
 "cells": [
  {
   "cell_type": "code",
   "execution_count": 1,
   "id": "reverse-picking",
   "metadata": {
    "execution": {
     "iopub.execute_input": "2021-12-02T17:30:07.892852Z",
     "iopub.status.busy": "2021-12-02T17:30:07.877024Z",
     "iopub.status.idle": "2021-12-02T17:30:08.832132Z",
     "shell.execute_reply": "2021-12-02T17:30:08.833846Z"
    },
    "papermill": {
     "duration": 0.992511,
     "end_time": "2021-12-02T17:30:08.834590",
     "exception": false,
     "start_time": "2021-12-02T17:30:07.842079",
     "status": "completed"
    },
    "tags": []
   },
   "outputs": [],
   "source": [
    "import pandas as pd\n",
    "import sqlite3"
   ]
  },
  {
   "cell_type": "code",
   "execution_count": 2,
   "id": "innovative-syndrome",
   "metadata": {
    "execution": {
     "iopub.execute_input": "2021-12-02T17:30:08.899656Z",
     "iopub.status.busy": "2021-12-02T17:30:08.897161Z",
     "iopub.status.idle": "2021-12-02T17:30:09.877584Z",
     "shell.execute_reply": "2021-12-02T17:30:09.879023Z"
    },
    "papermill": {
     "duration": 1.016448,
     "end_time": "2021-12-02T17:30:09.879522",
     "exception": false,
     "start_time": "2021-12-02T17:30:08.863074",
     "status": "completed"
    },
    "tags": []
   },
   "outputs": [],
   "source": [
    "timestamps = pd.read_sql(\"select distinct record_time from EBAY_TOP_BERLIN order by record_time desc limit 2\", sqlite3.connect(\"UsedObjects.db\"))"
   ]
  },
  {
   "cell_type": "code",
   "execution_count": 3,
   "id": "periodic-identification",
   "metadata": {
    "execution": {
     "iopub.execute_input": "2021-12-02T17:30:09.949229Z",
     "iopub.status.busy": "2021-12-02T17:30:09.943833Z",
     "iopub.status.idle": "2021-12-02T17:30:09.975306Z",
     "shell.execute_reply": "2021-12-02T17:30:09.979866Z"
    },
    "papermill": {
     "duration": 0.080403,
     "end_time": "2021-12-02T17:30:09.980459",
     "exception": false,
     "start_time": "2021-12-02T17:30:09.900056",
     "status": "completed"
    },
    "tags": []
   },
   "outputs": [
    {
     "data": {
      "text/html": [
       "<div>\n",
       "<style scoped>\n",
       "    .dataframe tbody tr th:only-of-type {\n",
       "        vertical-align: middle;\n",
       "    }\n",
       "\n",
       "    .dataframe tbody tr th {\n",
       "        vertical-align: top;\n",
       "    }\n",
       "\n",
       "    .dataframe thead th {\n",
       "        text-align: right;\n",
       "    }\n",
       "</style>\n",
       "<table border=\"1\" class=\"dataframe\">\n",
       "  <thead>\n",
       "    <tr style=\"text-align: right;\">\n",
       "      <th></th>\n",
       "      <th>RECORD_TIME</th>\n",
       "    </tr>\n",
       "  </thead>\n",
       "  <tbody>\n",
       "    <tr>\n",
       "      <th>0</th>\n",
       "      <td>2021-12-02 18:30</td>\n",
       "    </tr>\n",
       "    <tr>\n",
       "      <th>1</th>\n",
       "      <td>2021-12-02 18:00</td>\n",
       "    </tr>\n",
       "  </tbody>\n",
       "</table>\n",
       "</div>"
      ],
      "text/plain": [
       "        RECORD_TIME\n",
       "0  2021-12-02 18:30\n",
       "1  2021-12-02 18:00"
      ]
     },
     "execution_count": 3,
     "metadata": {},
     "output_type": "execute_result"
    }
   ],
   "source": [
    "timestamps"
   ]
  },
  {
   "cell_type": "code",
   "execution_count": 4,
   "id": "alternate-victory",
   "metadata": {
    "execution": {
     "iopub.execute_input": "2021-12-02T17:30:10.031442Z",
     "iopub.status.busy": "2021-12-02T17:30:10.029404Z",
     "iopub.status.idle": "2021-12-02T17:30:11.443284Z",
     "shell.execute_reply": "2021-12-02T17:30:11.444843Z"
    },
    "papermill": {
     "duration": 1.444952,
     "end_time": "2021-12-02T17:30:11.445346",
     "exception": false,
     "start_time": "2021-12-02T17:30:10.000394",
     "status": "completed"
    },
    "tags": []
   },
   "outputs": [],
   "source": [
    "df = pd.read_sql(\"select * from EBAY_TOP_BERLIN where record_time in (select distinct record_time from EBAY_TOP_BERLIN order by record_time desc limit 2)\", sqlite3.connect(\"UsedObjects.db\"))"
   ]
  },
  {
   "cell_type": "code",
   "execution_count": 5,
   "id": "popular-active",
   "metadata": {
    "execution": {
     "iopub.execute_input": "2021-12-02T17:30:11.519341Z",
     "iopub.status.busy": "2021-12-02T17:30:11.506375Z",
     "iopub.status.idle": "2021-12-02T17:30:11.543017Z",
     "shell.execute_reply": "2021-12-02T17:30:11.544501Z"
    },
    "papermill": {
     "duration": 0.078647,
     "end_time": "2021-12-02T17:30:11.545051",
     "exception": false,
     "start_time": "2021-12-02T17:30:11.466404",
     "status": "completed"
    },
    "tags": []
   },
   "outputs": [],
   "source": [
    "df_pivot = df.pivot_table(index=\"PRODUCT\", columns = \"RECORD_TIME\", values = \"LISTING_COUNT\")"
   ]
  },
  {
   "cell_type": "code",
   "execution_count": 6,
   "id": "union-huntington",
   "metadata": {
    "execution": {
     "iopub.execute_input": "2021-12-02T17:30:11.608998Z",
     "iopub.status.busy": "2021-12-02T17:30:11.606366Z",
     "iopub.status.idle": "2021-12-02T17:30:11.616331Z",
     "shell.execute_reply": "2021-12-02T17:30:11.618529Z"
    },
    "papermill": {
     "duration": 0.05065,
     "end_time": "2021-12-02T17:30:11.619281",
     "exception": false,
     "start_time": "2021-12-02T17:30:11.568631",
     "status": "completed"
    },
    "tags": []
   },
   "outputs": [],
   "source": [
    "df_pivot.columns = [\"stamp_1\", \"stamp_2\"]\n",
    "df_pivot_diff = df_pivot.diff(axis=1)"
   ]
  },
  {
   "cell_type": "code",
   "execution_count": 7,
   "id": "fifth-motion",
   "metadata": {
    "execution": {
     "iopub.execute_input": "2021-12-02T17:30:11.682701Z",
     "iopub.status.busy": "2021-12-02T17:30:11.679833Z",
     "iopub.status.idle": "2021-12-02T17:30:13.683260Z",
     "shell.execute_reply": "2021-12-02T17:30:13.679989Z"
    },
    "papermill": {
     "duration": 2.040225,
     "end_time": "2021-12-02T17:30:13.684044",
     "exception": false,
     "start_time": "2021-12-02T17:30:11.643819",
     "status": "completed"
    },
    "tags": []
   },
   "outputs": [
    {
     "data": {
      "text/plain": [
       "<AxesSubplot:ylabel='PRODUCT'>"
      ]
     },
     "execution_count": 7,
     "metadata": {},
     "output_type": "execute_result"
    },
    {
     "data": {
      "image/png": "[encoded data removed]",
      "text/plain": [
       "<Figure size 432x288 with 1 Axes>"
      ]
     },
     "metadata": {
      "needs_background": "light"
     },
     "output_type": "display_data"
    }
   ],
   "source": [
    "df_pivot_diff.sort_values(\"stamp_2\", ascending = False)[\"stamp_2\"].head(10).plot.barh()"
   ]
  },
  {
   "cell_type": "code",
   "execution_count": null,
   "id": "extra-executive",
   "metadata": {
    "papermill": {
     "duration": 0.037291,
     "end_time": "2021-12-02T17:30:13.755467",
     "exception": false,
     "start_time": "2021-12-02T17:30:13.718176",
     "status": "completed"
    },
    "tags": []
   },
   "outputs": [],
   "source": []
  }
 ],
 "metadata": {
  "kernelspec": {
   "display_name": "Python 3",
   "language": "python",
   "name": "python3"
  },
  "language_info": {
   "codemirror_mode": {
    "name": "ipython",
    "version": 3
   },
   "file_extension": ".py",
   "mimetype": "text/x-python",
   "name": "python",
   "nbconvert_exporter": "python",
   "pygments_lexer": "ipython3",
   "version": "3.9.5"
  },
  "papermill": {
   "default_parameters": {},
   "duration": 9.955911,
   "end_time": "2021-12-02T17:30:15.039371",
   "environment_variables": {},
   "exception": null,
   "input_path": "eBay_Overview.ipynb",
   "output_path": "eBay_Overview.ipynb",
   "parameters": {},
   "start_time": "2021-12-02T17:30:05.083460",
   "version": "2.3.3"
  }
 },
 "nbformat": 4,
 "nbformat_minor": 5
}