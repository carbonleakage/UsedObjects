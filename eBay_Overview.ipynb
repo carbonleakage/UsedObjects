{
 "cells": [
  {
   "cell_type": "code",
   "execution_count": 1,
   "id": "reverse-picking",
   "metadata": {
    "execution": {
     "iopub.execute_input": "2021-09-01T19:00:07.039354Z",
     "iopub.status.busy": "2021-09-01T19:00:07.037299Z",
     "iopub.status.idle": "2021-09-01T19:00:07.844238Z",
     "shell.execute_reply": "2021-09-01T19:00:07.845500Z"
    },
    "papermill": {
     "duration": 0.858939,
     "end_time": "2021-09-01T19:00:07.846110",
     "exception": false,
     "start_time": "2021-09-01T19:00:06.987171",
     "status": "completed"
    },
    "tags": []
   },
   "outputs": [],
   "source": [
    "import pandas as pd\n",
    "import sqlite3"
   ]
  },
  {
   "cell_type": "code",
   "execution_count": 2,
   "id": "innovative-syndrome",
   "metadata": {
    "execution": {
     "iopub.execute_input": "2021-09-01T19:00:07.897819Z",
     "iopub.status.busy": "2021-09-01T19:00:07.895939Z",
     "iopub.status.idle": "2021-09-01T19:00:08.076852Z",
     "shell.execute_reply": "2021-09-01T19:00:08.078051Z"
    },
    "papermill": {
     "duration": 0.210541,
     "end_time": "2021-09-01T19:00:08.078443",
     "exception": false,
     "start_time": "2021-09-01T19:00:07.867902",
     "status": "completed"
    },
    "tags": []
   },
   "outputs": [],
   "source": [
    "timestamps = pd.read_sql(\"select distinct record_time from EBAY_TOP_BERLIN order by record_time desc limit 2\", sqlite3.connect(\"UsedObjects.db\"))"
   ]
  },
  {
   "cell_type": "code",
   "execution_count": 3,
   "id": "periodic-identification",
   "metadata": {
    "execution": {
     "iopub.execute_input": "2021-09-01T19:00:08.146835Z",
     "iopub.status.busy": "2021-09-01T19:00:08.144817Z",
     "iopub.status.idle": "2021-09-01T19:00:08.164975Z",
     "shell.execute_reply": "2021-09-01T19:00:08.166177Z"
    },
    "papermill": {
     "duration": 0.066218,
     "end_time": "2021-09-01T19:00:08.166599",
     "exception": false,
     "start_time": "2021-09-01T19:00:08.100381",
     "status": "completed"
    },
    "tags": []
   },
   "outputs": [
    {
     "data": {
      "text/html": [
       "<div>\n",
       "<style scoped>\n",
       "    .dataframe tbody tr th:only-of-type {\n",
       "        vertical-align: middle;\n",
       "    }\n",
       "\n",
       "    .dataframe tbody tr th {\n",
       "        vertical-align: top;\n",
       "    }\n",
       "\n",
       "    .dataframe thead th {\n",
       "        text-align: right;\n",
       "    }\n",
       "</style>\n",
       "<table border=\"1\" class=\"dataframe\">\n",
       "  <thead>\n",
       "    <tr style=\"text-align: right;\">\n",
       "      <th></th>\n",
       "      <th>RECORD_TIME</th>\n",
       "    </tr>\n",
       "  </thead>\n",
       "  <tbody>\n",
       "    <tr>\n",
       "      <th>0</th>\n",
       "      <td>2021-09-01 21:00</td>\n",
       "    </tr>\n",
       "    <tr>\n",
       "      <th>1</th>\n",
       "      <td>2021-09-01 20:30</td>\n",
       "    </tr>\n",
       "  </tbody>\n",
       "</table>\n",
       "</div>"
      ],
      "text/plain": [
       "        RECORD_TIME\n",
       "0  2021-09-01 21:00\n",
       "1  2021-09-01 20:30"
      ]
     },
     "execution_count": 3,
     "metadata": {},
     "output_type": "execute_result"
    }
   ],
   "source": [
    "timestamps"
   ]
  },
  {
   "cell_type": "code",
   "execution_count": 4,
   "id": "alternate-victory",
   "metadata": {
    "execution": {
     "iopub.execute_input": "2021-09-01T19:00:08.217402Z",
     "iopub.status.busy": "2021-09-01T19:00:08.215555Z",
     "iopub.status.idle": "2021-09-01T19:00:08.482655Z",
     "shell.execute_reply": "2021-09-01T19:00:08.484854Z"
    },
    "papermill": {
     "duration": 0.29813,
     "end_time": "2021-09-01T19:00:08.485298",
     "exception": false,
     "start_time": "2021-09-01T19:00:08.187168",
     "status": "completed"
    },
    "tags": []
   },
   "outputs": [],
   "source": [
    "df = pd.read_sql(\"select * from EBAY_TOP_BERLIN where record_time in (select distinct record_time from EBAY_TOP_BERLIN order by record_time desc limit 2)\", sqlite3.connect(\"UsedObjects.db\"))"
   ]
  },
  {
   "cell_type": "code",
   "execution_count": 5,
   "id": "popular-active",
   "metadata": {
    "execution": {
     "iopub.execute_input": "2021-09-01T19:00:08.564115Z",
     "iopub.status.busy": "2021-09-01T19:00:08.552445Z",
     "iopub.status.idle": "2021-09-01T19:00:08.580909Z",
     "shell.execute_reply": "2021-09-01T19:00:08.582211Z"
    },
    "papermill": {
     "duration": 0.071784,
     "end_time": "2021-09-01T19:00:08.582621",
     "exception": false,
     "start_time": "2021-09-01T19:00:08.510837",
     "status": "completed"
    },
    "tags": []
   },
   "outputs": [],
   "source": [
    "df_pivot = df.pivot_table(index=\"PRODUCT\", columns = \"RECORD_TIME\", values = \"LISTING_COUNT\")"
   ]
  },
  {
   "cell_type": "code",
   "execution_count": 6,
   "id": "union-huntington",
   "metadata": {
    "execution": {
     "iopub.execute_input": "2021-09-01T19:00:08.640595Z",
     "iopub.status.busy": "2021-09-01T19:00:08.638375Z",
     "iopub.status.idle": "2021-09-01T19:00:08.643893Z",
     "shell.execute_reply": "2021-09-01T19:00:08.645287Z"
    },
    "papermill": {
     "duration": 0.041043,
     "end_time": "2021-09-01T19:00:08.645721",
     "exception": false,
     "start_time": "2021-09-01T19:00:08.604678",
     "status": "completed"
    },
    "tags": []
   },
   "outputs": [],
   "source": [
    "df_pivot.columns = [\"stamp_1\", \"stamp_2\"]\n",
    "df_pivot_diff = df_pivot.diff(axis=1)"
   ]
  },
  {
   "cell_type": "code",
   "execution_count": 7,
   "id": "fifth-motion",
   "metadata": {
    "execution": {
     "iopub.execute_input": "2021-09-01T19:00:08.702790Z",
     "iopub.status.busy": "2021-09-01T19:00:08.700164Z",
     "iopub.status.idle": "2021-09-01T19:00:10.189012Z",
     "shell.execute_reply": "2021-09-01T19:00:10.190312Z"
    },
    "papermill": {
     "duration": 1.522695,
     "end_time": "2021-09-01T19:00:10.190728",
     "exception": false,
     "start_time": "2021-09-01T19:00:08.668033",
     "status": "completed"
    },
    "tags": []
   },
   "outputs": [
    {
     "data": {
      "text/plain": [
       "<AxesSubplot:ylabel='PRODUCT'>"
      ]
     },
     "execution_count": 7,
     "metadata": {},
     "output_type": "execute_result"
    },
    {
     "data": {
      "image/png": "[encoded data removed]",
      "text/plain": [
       "<Figure size 432x288 with 1 Axes>"
      ]
     },
     "metadata": {
      "needs_background": "light"
     },
     "output_type": "display_data"
    }
   ],
   "source": [
    "df_pivot_diff.sort_values(\"stamp_2\", ascending = False)[\"stamp_2\"].head(10).plot.barh()"
   ]
  },
  {
   "cell_type": "code",
   "execution_count": null,
   "id": "extra-executive",
   "metadata": {
    "papermill": {
     "duration": 0.022362,
     "end_time": "2021-09-01T19:00:10.237899",
     "exception": false,
     "start_time": "2021-09-01T19:00:10.215537",
     "status": "completed"
    },
    "tags": []
   },
   "outputs": [],
   "source": []
  }
 ],
 "metadata": {
  "kernelspec": {
   "display_name": "Python 3",
   "language": "python",
   "name": "python3"
  },
  "language_info": {
   "codemirror_mode": {
    "name": "ipython",
    "version": 3
   },
   "file_extension": ".py",
   "mimetype": "text/x-python",
   "name": "python",
   "nbconvert_exporter": "python",
   "pygments_lexer": "ipython3",
   "version": "3.9.5"
  },
  "papermill": {
   "default_parameters": {},
   "duration": 6.821038,
   "end_time": "2021-09-01T19:00:11.401926",
   "environment_variables": {},
   "exception": null,
   "input_path": "eBay_Overview.ipynb",
   "output_path": "eBay_Overview.ipynb",
   "parameters": {},
   "start_time": "2021-09-01T19:00:04.580888",
   "version": "2.3.3"
  }
 },
 "nbformat": 4,
 "nbformat_minor": 5
}