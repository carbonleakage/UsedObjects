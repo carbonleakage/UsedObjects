{
 "cells": [
  {
   "cell_type": "code",
   "execution_count": 1,
   "id": "reverse-picking",
   "metadata": {
    "execution": {
     "iopub.execute_input": "2021-10-14T00:00:07.282702Z",
     "iopub.status.busy": "2021-10-14T00:00:07.280753Z",
     "iopub.status.idle": "2021-10-14T00:00:08.081858Z",
     "shell.execute_reply": "2021-10-14T00:00:08.083308Z"
    },
    "papermill": {
     "duration": 0.855109,
     "end_time": "2021-10-14T00:00:08.083981",
     "exception": false,
     "start_time": "2021-10-14T00:00:07.228872",
     "status": "completed"
    },
    "tags": []
   },
   "outputs": [],
   "source": [
    "import pandas as pd\n",
    "import sqlite3"
   ]
  },
  {
   "cell_type": "code",
   "execution_count": 2,
   "id": "innovative-syndrome",
   "metadata": {
    "execution": {
     "iopub.execute_input": "2021-10-14T00:00:08.134766Z",
     "iopub.status.busy": "2021-10-14T00:00:08.132351Z",
     "iopub.status.idle": "2021-10-14T00:00:08.666510Z",
     "shell.execute_reply": "2021-10-14T00:00:08.667632Z"
    },
    "papermill": {
     "duration": 0.563752,
     "end_time": "2021-10-14T00:00:08.668046",
     "exception": false,
     "start_time": "2021-10-14T00:00:08.104294",
     "status": "completed"
    },
    "tags": []
   },
   "outputs": [],
   "source": [
    "timestamps = pd.read_sql(\"select distinct record_time from EBAY_TOP_BERLIN order by record_time desc limit 2\", sqlite3.connect(\"UsedObjects.db\"))"
   ]
  },
  {
   "cell_type": "code",
   "execution_count": 3,
   "id": "periodic-identification",
   "metadata": {
    "execution": {
     "iopub.execute_input": "2021-10-14T00:00:08.734772Z",
     "iopub.status.busy": "2021-10-14T00:00:08.732676Z",
     "iopub.status.idle": "2021-10-14T00:00:08.752499Z",
     "shell.execute_reply": "2021-10-14T00:00:08.753940Z"
    },
    "papermill": {
     "duration": 0.06462,
     "end_time": "2021-10-14T00:00:08.754370",
     "exception": false,
     "start_time": "2021-10-14T00:00:08.689750",
     "status": "completed"
    },
    "tags": []
   },
   "outputs": [
    {
     "data": {
      "text/html": [
       "<div>\n",
       "<style scoped>\n",
       "    .dataframe tbody tr th:only-of-type {\n",
       "        vertical-align: middle;\n",
       "    }\n",
       "\n",
       "    .dataframe tbody tr th {\n",
       "        vertical-align: top;\n",
       "    }\n",
       "\n",
       "    .dataframe thead th {\n",
       "        text-align: right;\n",
       "    }\n",
       "</style>\n",
       "<table border=\"1\" class=\"dataframe\">\n",
       "  <thead>\n",
       "    <tr style=\"text-align: right;\">\n",
       "      <th></th>\n",
       "      <th>RECORD_TIME</th>\n",
       "    </tr>\n",
       "  </thead>\n",
       "  <tbody>\n",
       "    <tr>\n",
       "      <th>0</th>\n",
       "      <td>2021-10-14 02:00</td>\n",
       "    </tr>\n",
       "    <tr>\n",
       "      <th>1</th>\n",
       "      <td>2021-10-14 01:30</td>\n",
       "    </tr>\n",
       "  </tbody>\n",
       "</table>\n",
       "</div>"
      ],
      "text/plain": [
       "        RECORD_TIME\n",
       "0  2021-10-14 02:00\n",
       "1  2021-10-14 01:30"
      ]
     },
     "execution_count": 3,
     "metadata": {},
     "output_type": "execute_result"
    }
   ],
   "source": [
    "timestamps"
   ]
  },
  {
   "cell_type": "code",
   "execution_count": 4,
   "id": "alternate-victory",
   "metadata": {
    "execution": {
     "iopub.execute_input": "2021-10-14T00:00:08.819327Z",
     "iopub.status.busy": "2021-10-14T00:00:08.817456Z",
     "iopub.status.idle": "2021-10-14T00:00:09.604448Z",
     "shell.execute_reply": "2021-10-14T00:00:09.605803Z"
    },
    "papermill": {
     "duration": 0.821689,
     "end_time": "2021-10-14T00:00:09.606226",
     "exception": false,
     "start_time": "2021-10-14T00:00:08.784537",
     "status": "completed"
    },
    "tags": []
   },
   "outputs": [],
   "source": [
    "df = pd.read_sql(\"select * from EBAY_TOP_BERLIN where record_time in (select distinct record_time from EBAY_TOP_BERLIN order by record_time desc limit 2)\", sqlite3.connect(\"UsedObjects.db\"))"
   ]
  },
  {
   "cell_type": "code",
   "execution_count": 5,
   "id": "popular-active",
   "metadata": {
    "execution": {
     "iopub.execute_input": "2021-10-14T00:00:09.676844Z",
     "iopub.status.busy": "2021-10-14T00:00:09.665531Z",
     "iopub.status.idle": "2021-10-14T00:00:09.694998Z",
     "shell.execute_reply": "2021-10-14T00:00:09.696366Z"
    },
    "papermill": {
     "duration": 0.07062,
     "end_time": "2021-10-14T00:00:09.696867",
     "exception": false,
     "start_time": "2021-10-14T00:00:09.626247",
     "status": "completed"
    },
    "tags": []
   },
   "outputs": [],
   "source": [
    "df_pivot = df.pivot_table(index=\"PRODUCT\", columns = \"RECORD_TIME\", values = \"LISTING_COUNT\")"
   ]
  },
  {
   "cell_type": "code",
   "execution_count": 6,
   "id": "union-huntington",
   "metadata": {
    "execution": {
     "iopub.execute_input": "2021-10-14T00:00:09.754131Z",
     "iopub.status.busy": "2021-10-14T00:00:09.752064Z",
     "iopub.status.idle": "2021-10-14T00:00:09.757708Z",
     "shell.execute_reply": "2021-10-14T00:00:09.759009Z"
    },
    "papermill": {
     "duration": 0.041759,
     "end_time": "2021-10-14T00:00:09.759433",
     "exception": false,
     "start_time": "2021-10-14T00:00:09.717674",
     "status": "completed"
    },
    "tags": []
   },
   "outputs": [],
   "source": [
    "df_pivot.columns = [\"stamp_1\", \"stamp_2\"]\n",
    "df_pivot_diff = df_pivot.diff(axis=1)"
   ]
  },
  {
   "cell_type": "code",
   "execution_count": 7,
   "id": "fifth-motion",
   "metadata": {
    "execution": {
     "iopub.execute_input": "2021-10-14T00:00:09.814555Z",
     "iopub.status.busy": "2021-10-14T00:00:09.812032Z",
     "iopub.status.idle": "2021-10-14T00:00:11.289527Z",
     "shell.execute_reply": "2021-10-14T00:00:11.290839Z"
    },
    "papermill": {
     "duration": 1.510686,
     "end_time": "2021-10-14T00:00:11.291261",
     "exception": false,
     "start_time": "2021-10-14T00:00:09.780575",
     "status": "completed"
    },
    "tags": []
   },
   "outputs": [
    {
     "data": {
      "text/plain": [
       "<AxesSubplot:ylabel='PRODUCT'>"
      ]
     },
     "execution_count": 7,
     "metadata": {},
     "output_type": "execute_result"
    },
    {
     "data": {
      "image/png": "[encoded data removed]",
      "text/plain": [
       "<Figure size 432x288 with 1 Axes>"
      ]
     },
     "metadata": {
      "needs_background": "light"
     },
     "output_type": "display_data"
    }
   ],
   "source": [
    "df_pivot_diff.sort_values(\"stamp_2\", ascending = False)[\"stamp_2\"].head(10).plot.barh()"
   ]
  },
  {
   "cell_type": "code",
   "execution_count": null,
   "id": "extra-executive",
   "metadata": {
    "papermill": {
     "duration": 0.022032,
     "end_time": "2021-10-14T00:00:11.337053",
     "exception": false,
     "start_time": "2021-10-14T00:00:11.315021",
     "status": "completed"
    },
    "tags": []
   },
   "outputs": [],
   "source": []
  }
 ],
 "metadata": {
  "kernelspec": {
   "display_name": "Python 3",
   "language": "python",
   "name": "python3"
  },
  "language_info": {
   "codemirror_mode": {
    "name": "ipython",
    "version": 3
   },
   "file_extension": ".py",
   "mimetype": "text/x-python",
   "name": "python",
   "nbconvert_exporter": "python",
   "pygments_lexer": "ipython3",
   "version": "3.9.5"
  },
  "papermill": {
   "default_parameters": {},
   "duration": 7.821727,
   "end_time": "2021-10-14T00:00:12.655821",
   "environment_variables": {},
   "exception": null,
   "input_path": "eBay_Overview.ipynb",
   "output_path": "eBay_Overview.ipynb",
   "parameters": {},
   "start_time": "2021-10-14T00:00:04.834094",
   "version": "2.3.3"
  }
 },
 "nbformat": 4,
 "nbformat_minor": 5
}