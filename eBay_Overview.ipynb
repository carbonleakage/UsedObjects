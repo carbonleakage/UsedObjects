{
 "cells": [
  {
   "cell_type": "code",
   "execution_count": 1,
   "id": "reverse-picking",
   "metadata": {
    "execution": {
     "iopub.execute_input": "2021-11-08T20:00:07.418992Z",
     "iopub.status.busy": "2021-11-08T20:00:07.409715Z",
     "iopub.status.idle": "2021-11-08T20:00:08.355955Z",
     "shell.execute_reply": "2021-11-08T20:00:08.357719Z"
    },
    "papermill": {
     "duration": 0.99493,
     "end_time": "2021-11-08T20:00:08.358530",
     "exception": false,
     "start_time": "2021-11-08T20:00:07.363600",
     "status": "completed"
    },
    "tags": []
   },
   "outputs": [],
   "source": [
    "import pandas as pd\n",
    "import sqlite3"
   ]
  },
  {
   "cell_type": "code",
   "execution_count": 2,
   "id": "innovative-syndrome",
   "metadata": {
    "execution": {
     "iopub.execute_input": "2021-11-08T20:00:08.421228Z",
     "iopub.status.busy": "2021-11-08T20:00:08.418860Z",
     "iopub.status.idle": "2021-11-08T20:00:09.183345Z",
     "shell.execute_reply": "2021-11-08T20:00:09.184948Z"
    },
    "papermill": {
     "duration": 0.798288,
     "end_time": "2021-11-08T20:00:09.185450",
     "exception": false,
     "start_time": "2021-11-08T20:00:08.387162",
     "status": "completed"
    },
    "tags": []
   },
   "outputs": [],
   "source": [
    "timestamps = pd.read_sql(\"select distinct record_time from EBAY_TOP_BERLIN order by record_time desc limit 2\", sqlite3.connect(\"UsedObjects.db\"))"
   ]
  },
  {
   "cell_type": "code",
   "execution_count": 3,
   "id": "periodic-identification",
   "metadata": {
    "execution": {
     "iopub.execute_input": "2021-11-08T20:00:09.257367Z",
     "iopub.status.busy": "2021-11-08T20:00:09.254756Z",
     "iopub.status.idle": "2021-11-08T20:00:09.277714Z",
     "shell.execute_reply": "2021-11-08T20:00:09.279347Z"
    },
    "papermill": {
     "duration": 0.074137,
     "end_time": "2021-11-08T20:00:09.280163",
     "exception": false,
     "start_time": "2021-11-08T20:00:09.206026",
     "status": "completed"
    },
    "tags": []
   },
   "outputs": [
    {
     "data": {
      "text/html": [
       "<div>\n",
       "<style scoped>\n",
       "    .dataframe tbody tr th:only-of-type {\n",
       "        vertical-align: middle;\n",
       "    }\n",
       "\n",
       "    .dataframe tbody tr th {\n",
       "        vertical-align: top;\n",
       "    }\n",
       "\n",
       "    .dataframe thead th {\n",
       "        text-align: right;\n",
       "    }\n",
       "</style>\n",
       "<table border=\"1\" class=\"dataframe\">\n",
       "  <thead>\n",
       "    <tr style=\"text-align: right;\">\n",
       "      <th></th>\n",
       "      <th>RECORD_TIME</th>\n",
       "    </tr>\n",
       "  </thead>\n",
       "  <tbody>\n",
       "    <tr>\n",
       "      <th>0</th>\n",
       "      <td>2021-11-08 21:00</td>\n",
       "    </tr>\n",
       "    <tr>\n",
       "      <th>1</th>\n",
       "      <td>2021-11-08 20:30</td>\n",
       "    </tr>\n",
       "  </tbody>\n",
       "</table>\n",
       "</div>"
      ],
      "text/plain": [
       "        RECORD_TIME\n",
       "0  2021-11-08 21:00\n",
       "1  2021-11-08 20:30"
      ]
     },
     "execution_count": 3,
     "metadata": {},
     "output_type": "execute_result"
    }
   ],
   "source": [
    "timestamps"
   ]
  },
  {
   "cell_type": "code",
   "execution_count": 4,
   "id": "alternate-victory",
   "metadata": {
    "execution": {
     "iopub.execute_input": "2021-11-08T20:00:09.336143Z",
     "iopub.status.busy": "2021-11-08T20:00:09.333990Z",
     "iopub.status.idle": "2021-11-08T20:00:10.438672Z",
     "shell.execute_reply": "2021-11-08T20:00:10.440353Z"
    },
    "papermill": {
     "duration": 1.138459,
     "end_time": "2021-11-08T20:00:10.440906",
     "exception": false,
     "start_time": "2021-11-08T20:00:09.302447",
     "status": "completed"
    },
    "tags": []
   },
   "outputs": [],
   "source": [
    "df = pd.read_sql(\"select * from EBAY_TOP_BERLIN where record_time in (select distinct record_time from EBAY_TOP_BERLIN order by record_time desc limit 2)\", sqlite3.connect(\"UsedObjects.db\"))"
   ]
  },
  {
   "cell_type": "code",
   "execution_count": 5,
   "id": "popular-active",
   "metadata": {
    "execution": {
     "iopub.execute_input": "2021-11-08T20:00:10.519877Z",
     "iopub.status.busy": "2021-11-08T20:00:10.506989Z",
     "iopub.status.idle": "2021-11-08T20:00:10.539288Z",
     "shell.execute_reply": "2021-11-08T20:00:10.540830Z"
    },
    "papermill": {
     "duration": 0.077362,
     "end_time": "2021-11-08T20:00:10.541316",
     "exception": false,
     "start_time": "2021-11-08T20:00:10.463954",
     "status": "completed"
    },
    "tags": []
   },
   "outputs": [],
   "source": [
    "df_pivot = df.pivot_table(index=\"PRODUCT\", columns = \"RECORD_TIME\", values = \"LISTING_COUNT\")"
   ]
  },
  {
   "cell_type": "code",
   "execution_count": 6,
   "id": "union-huntington",
   "metadata": {
    "execution": {
     "iopub.execute_input": "2021-11-08T20:00:10.604351Z",
     "iopub.status.busy": "2021-11-08T20:00:10.601732Z",
     "iopub.status.idle": "2021-11-08T20:00:10.609749Z",
     "shell.execute_reply": "2021-11-08T20:00:10.607679Z"
    },
    "papermill": {
     "duration": 0.047109,
     "end_time": "2021-11-08T20:00:10.610175",
     "exception": false,
     "start_time": "2021-11-08T20:00:10.563066",
     "status": "completed"
    },
    "tags": []
   },
   "outputs": [],
   "source": [
    "df_pivot.columns = [\"stamp_1\", \"stamp_2\"]\n",
    "df_pivot_diff = df_pivot.diff(axis=1)"
   ]
  },
  {
   "cell_type": "code",
   "execution_count": 7,
   "id": "fifth-motion",
   "metadata": {
    "execution": {
     "iopub.execute_input": "2021-11-08T20:00:10.671624Z",
     "iopub.status.busy": "2021-11-08T20:00:10.669132Z",
     "iopub.status.idle": "2021-11-08T20:00:12.458893Z",
     "shell.execute_reply": "2021-11-08T20:00:12.460372Z"
    },
    "papermill": {
     "duration": 1.829184,
     "end_time": "2021-11-08T20:00:12.460900",
     "exception": false,
     "start_time": "2021-11-08T20:00:10.631716",
     "status": "completed"
    },
    "tags": []
   },
   "outputs": [
    {
     "data": {
      "text/plain": [
       "<AxesSubplot:ylabel='PRODUCT'>"
      ]
     },
     "execution_count": 7,
     "metadata": {},
     "output_type": "execute_result"
    },
    {
     "data": {
      "image/png": "[encoded data removed]",
      "text/plain": [
       "<Figure size 432x288 with 1 Axes>"
      ]
     },
     "metadata": {
      "needs_background": "light"
     },
     "output_type": "display_data"
    }
   ],
   "source": [
    "df_pivot_diff.sort_values(\"stamp_2\", ascending = False)[\"stamp_2\"].head(10).plot.barh()"
   ]
  },
  {
   "cell_type": "code",
   "execution_count": null,
   "id": "extra-executive",
   "metadata": {
    "papermill": {
     "duration": 0.024366,
     "end_time": "2021-11-08T20:00:12.509415",
     "exception": false,
     "start_time": "2021-11-08T20:00:12.485049",
     "status": "completed"
    },
    "tags": []
   },
   "outputs": [],
   "source": []
  }
 ],
 "metadata": {
  "kernelspec": {
   "display_name": "Python 3",
   "language": "python",
   "name": "python3"
  },
  "language_info": {
   "codemirror_mode": {
    "name": "ipython",
    "version": 3
   },
   "file_extension": ".py",
   "mimetype": "text/x-python",
   "name": "python",
   "nbconvert_exporter": "python",
   "pygments_lexer": "ipython3",
   "version": "3.9.5"
  },
  "papermill": {
   "default_parameters": {},
   "duration": 8.804307,
   "end_time": "2021-11-08T20:00:13.358103",
   "environment_variables": {},
   "exception": null,
   "input_path": "eBay_Overview.ipynb",
   "output_path": "eBay_Overview.ipynb",
   "parameters": {},
   "start_time": "2021-11-08T20:00:04.553796",
   "version": "2.3.3"
  }
 },
 "nbformat": 4,
 "nbformat_minor": 5
}