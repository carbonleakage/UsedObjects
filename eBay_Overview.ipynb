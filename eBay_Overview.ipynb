{
 "cells": [
  {
   "cell_type": "code",
   "execution_count": 1,
   "id": "reverse-picking",
   "metadata": {
    "execution": {
     "iopub.execute_input": "2021-09-16T03:30:07.294273Z",
     "iopub.status.busy": "2021-09-16T03:30:07.292341Z",
     "iopub.status.idle": "2021-09-16T03:30:08.094352Z",
     "shell.execute_reply": "2021-09-16T03:30:08.095824Z"
    },
    "papermill": {
     "duration": 0.853994,
     "end_time": "2021-09-16T03:30:08.096592",
     "exception": false,
     "start_time": "2021-09-16T03:30:07.242598",
     "status": "completed"
    },
    "tags": []
   },
   "outputs": [],
   "source": [
    "import pandas as pd\n",
    "import sqlite3"
   ]
  },
  {
   "cell_type": "code",
   "execution_count": 2,
   "id": "innovative-syndrome",
   "metadata": {
    "execution": {
     "iopub.execute_input": "2021-09-16T03:30:08.148047Z",
     "iopub.status.busy": "2021-09-16T03:30:08.145670Z",
     "iopub.status.idle": "2021-09-16T03:30:08.449227Z",
     "shell.execute_reply": "2021-09-16T03:30:08.447865Z"
    },
    "papermill": {
     "duration": 0.331984,
     "end_time": "2021-09-16T03:30:08.449571",
     "exception": false,
     "start_time": "2021-09-16T03:30:08.117587",
     "status": "completed"
    },
    "tags": []
   },
   "outputs": [],
   "source": [
    "timestamps = pd.read_sql(\"select distinct record_time from EBAY_TOP_BERLIN order by record_time desc limit 2\", sqlite3.connect(\"UsedObjects.db\"))"
   ]
  },
  {
   "cell_type": "code",
   "execution_count": 3,
   "id": "periodic-identification",
   "metadata": {
    "execution": {
     "iopub.execute_input": "2021-09-16T03:30:08.513045Z",
     "iopub.status.busy": "2021-09-16T03:30:08.510942Z",
     "iopub.status.idle": "2021-09-16T03:30:08.531345Z",
     "shell.execute_reply": "2021-09-16T03:30:08.532563Z"
    },
    "papermill": {
     "duration": 0.064269,
     "end_time": "2021-09-16T03:30:08.532960",
     "exception": false,
     "start_time": "2021-09-16T03:30:08.468691",
     "status": "completed"
    },
    "tags": []
   },
   "outputs": [
    {
     "data": {
      "text/html": [
       "<div>\n",
       "<style scoped>\n",
       "    .dataframe tbody tr th:only-of-type {\n",
       "        vertical-align: middle;\n",
       "    }\n",
       "\n",
       "    .dataframe tbody tr th {\n",
       "        vertical-align: top;\n",
       "    }\n",
       "\n",
       "    .dataframe thead th {\n",
       "        text-align: right;\n",
       "    }\n",
       "</style>\n",
       "<table border=\"1\" class=\"dataframe\">\n",
       "  <thead>\n",
       "    <tr style=\"text-align: right;\">\n",
       "      <th></th>\n",
       "      <th>RECORD_TIME</th>\n",
       "    </tr>\n",
       "  </thead>\n",
       "  <tbody>\n",
       "    <tr>\n",
       "      <th>0</th>\n",
       "      <td>2021-09-16 05:30</td>\n",
       "    </tr>\n",
       "    <tr>\n",
       "      <th>1</th>\n",
       "      <td>2021-09-16 05:00</td>\n",
       "    </tr>\n",
       "  </tbody>\n",
       "</table>\n",
       "</div>"
      ],
      "text/plain": [
       "        RECORD_TIME\n",
       "0  2021-09-16 05:30\n",
       "1  2021-09-16 05:00"
      ]
     },
     "execution_count": 3,
     "metadata": {},
     "output_type": "execute_result"
    }
   ],
   "source": [
    "timestamps"
   ]
  },
  {
   "cell_type": "code",
   "execution_count": 4,
   "id": "alternate-victory",
   "metadata": {
    "execution": {
     "iopub.execute_input": "2021-09-16T03:30:08.584005Z",
     "iopub.status.busy": "2021-09-16T03:30:08.582070Z",
     "iopub.status.idle": "2021-09-16T03:30:09.018736Z",
     "shell.execute_reply": "2021-09-16T03:30:09.020025Z"
    },
    "papermill": {
     "duration": 0.466268,
     "end_time": "2021-09-16T03:30:09.020465",
     "exception": false,
     "start_time": "2021-09-16T03:30:08.554197",
     "status": "completed"
    },
    "tags": []
   },
   "outputs": [],
   "source": [
    "df = pd.read_sql(\"select * from EBAY_TOP_BERLIN where record_time in (select distinct record_time from EBAY_TOP_BERLIN order by record_time desc limit 2)\", sqlite3.connect(\"UsedObjects.db\"))"
   ]
  },
  {
   "cell_type": "code",
   "execution_count": 5,
   "id": "popular-active",
   "metadata": {
    "execution": {
     "iopub.execute_input": "2021-09-16T03:30:09.106087Z",
     "iopub.status.busy": "2021-09-16T03:30:09.094606Z",
     "iopub.status.idle": "2021-09-16T03:30:09.121751Z",
     "shell.execute_reply": "2021-09-16T03:30:09.123090Z"
    },
    "papermill": {
     "duration": 0.073752,
     "end_time": "2021-09-16T03:30:09.123521",
     "exception": false,
     "start_time": "2021-09-16T03:30:09.049769",
     "status": "completed"
    },
    "tags": []
   },
   "outputs": [],
   "source": [
    "df_pivot = df.pivot_table(index=\"PRODUCT\", columns = \"RECORD_TIME\", values = \"LISTING_COUNT\")"
   ]
  },
  {
   "cell_type": "code",
   "execution_count": 6,
   "id": "union-huntington",
   "metadata": {
    "execution": {
     "iopub.execute_input": "2021-09-16T03:30:09.178897Z",
     "iopub.status.busy": "2021-09-16T03:30:09.176835Z",
     "iopub.status.idle": "2021-09-16T03:30:09.182089Z",
     "shell.execute_reply": "2021-09-16T03:30:09.183576Z"
    },
    "papermill": {
     "duration": 0.039972,
     "end_time": "2021-09-16T03:30:09.184021",
     "exception": false,
     "start_time": "2021-09-16T03:30:09.144049",
     "status": "completed"
    },
    "tags": []
   },
   "outputs": [],
   "source": [
    "df_pivot.columns = [\"stamp_1\", \"stamp_2\"]\n",
    "df_pivot_diff = df_pivot.diff(axis=1)"
   ]
  },
  {
   "cell_type": "code",
   "execution_count": 7,
   "id": "fifth-motion",
   "metadata": {
    "execution": {
     "iopub.execute_input": "2021-09-16T03:30:09.239476Z",
     "iopub.status.busy": "2021-09-16T03:30:09.236781Z",
     "iopub.status.idle": "2021-09-16T03:30:10.743923Z",
     "shell.execute_reply": "2021-09-16T03:30:10.745202Z"
    },
    "papermill": {
     "duration": 1.540221,
     "end_time": "2021-09-16T03:30:10.745624",
     "exception": false,
     "start_time": "2021-09-16T03:30:09.205403",
     "status": "completed"
    },
    "tags": []
   },
   "outputs": [
    {
     "data": {
      "text/plain": [
       "<AxesSubplot:ylabel='PRODUCT'>"
      ]
     },
     "execution_count": 7,
     "metadata": {},
     "output_type": "execute_result"
    },
    {
     "data": {
      "image/png": "[encoded data removed]",
      "text/plain": [
       "<Figure size 432x288 with 1 Axes>"
      ]
     },
     "metadata": {
      "needs_background": "light"
     },
     "output_type": "display_data"
    }
   ],
   "source": [
    "df_pivot_diff.sort_values(\"stamp_2\", ascending = False)[\"stamp_2\"].head(10).plot.barh()"
   ]
  },
  {
   "cell_type": "code",
   "execution_count": null,
   "id": "extra-executive",
   "metadata": {
    "papermill": {
     "duration": 0.021689,
     "end_time": "2021-09-16T03:30:10.791223",
     "exception": false,
     "start_time": "2021-09-16T03:30:10.769534",
     "status": "completed"
    },
    "tags": []
   },
   "outputs": [],
   "source": []
  }
 ],
 "metadata": {
  "kernelspec": {
   "display_name": "Python 3",
   "language": "python",
   "name": "python3"
  },
  "language_info": {
   "codemirror_mode": {
    "name": "ipython",
    "version": 3
   },
   "file_extension": ".py",
   "mimetype": "text/x-python",
   "name": "python",
   "nbconvert_exporter": "python",
   "pygments_lexer": "ipython3",
   "version": "3.9.5"
  },
  "papermill": {
   "default_parameters": {},
   "duration": 6.576253,
   "end_time": "2021-09-16T03:30:11.433652",
   "environment_variables": {},
   "exception": null,
   "input_path": "eBay_Overview.ipynb",
   "output_path": "eBay_Overview.ipynb",
   "parameters": {},
   "start_time": "2021-09-16T03:30:04.857399",
   "version": "2.3.3"
  }
 },
 "nbformat": 4,
 "nbformat_minor": 5
}