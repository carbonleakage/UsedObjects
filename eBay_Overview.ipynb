{
 "cells": [
  {
   "cell_type": "code",
   "execution_count": 1,
   "id": "reverse-picking",
   "metadata": {
    "execution": {
     "iopub.execute_input": "2021-09-01T16:00:06.887553Z",
     "iopub.status.busy": "2021-09-01T16:00:06.885518Z",
     "iopub.status.idle": "2021-09-01T16:00:07.685900Z",
     "shell.execute_reply": "2021-09-01T16:00:07.684366Z"
    },
    "papermill": {
     "duration": 0.850076,
     "end_time": "2021-09-01T16:00:07.686301",
     "exception": false,
     "start_time": "2021-09-01T16:00:06.836225",
     "status": "completed"
    },
    "tags": []
   },
   "outputs": [],
   "source": [
    "import pandas as pd\n",
    "import sqlite3"
   ]
  },
  {
   "cell_type": "code",
   "execution_count": 2,
   "id": "innovative-syndrome",
   "metadata": {
    "execution": {
     "iopub.execute_input": "2021-09-01T16:00:07.740203Z",
     "iopub.status.busy": "2021-09-01T16:00:07.737850Z",
     "iopub.status.idle": "2021-09-01T16:00:07.926240Z",
     "shell.execute_reply": "2021-09-01T16:00:07.928239Z"
    },
    "papermill": {
     "duration": 0.219435,
     "end_time": "2021-09-01T16:00:07.928780",
     "exception": false,
     "start_time": "2021-09-01T16:00:07.709345",
     "status": "completed"
    },
    "tags": []
   },
   "outputs": [],
   "source": [
    "timestamps = pd.read_sql(\"select distinct record_time from EBAY_TOP_BERLIN order by record_time desc limit 2\", sqlite3.connect(\"UsedObjects.db\"))"
   ]
  },
  {
   "cell_type": "code",
   "execution_count": 3,
   "id": "periodic-identification",
   "metadata": {
    "execution": {
     "iopub.execute_input": "2021-09-01T16:00:07.993494Z",
     "iopub.status.busy": "2021-09-01T16:00:07.991392Z",
     "iopub.status.idle": "2021-09-01T16:00:08.011953Z",
     "shell.execute_reply": "2021-09-01T16:00:08.013173Z"
    },
    "papermill": {
     "duration": 0.065562,
     "end_time": "2021-09-01T16:00:08.013567",
     "exception": false,
     "start_time": "2021-09-01T16:00:07.948005",
     "status": "completed"
    },
    "tags": []
   },
   "outputs": [
    {
     "data": {
      "text/html": [
       "<div>\n",
       "<style scoped>\n",
       "    .dataframe tbody tr th:only-of-type {\n",
       "        vertical-align: middle;\n",
       "    }\n",
       "\n",
       "    .dataframe tbody tr th {\n",
       "        vertical-align: top;\n",
       "    }\n",
       "\n",
       "    .dataframe thead th {\n",
       "        text-align: right;\n",
       "    }\n",
       "</style>\n",
       "<table border=\"1\" class=\"dataframe\">\n",
       "  <thead>\n",
       "    <tr style=\"text-align: right;\">\n",
       "      <th></th>\n",
       "      <th>RECORD_TIME</th>\n",
       "    </tr>\n",
       "  </thead>\n",
       "  <tbody>\n",
       "    <tr>\n",
       "      <th>0</th>\n",
       "      <td>2021-09-01 18:00</td>\n",
       "    </tr>\n",
       "    <tr>\n",
       "      <th>1</th>\n",
       "      <td>2021-09-01 17:30</td>\n",
       "    </tr>\n",
       "  </tbody>\n",
       "</table>\n",
       "</div>"
      ],
      "text/plain": [
       "        RECORD_TIME\n",
       "0  2021-09-01 18:00\n",
       "1  2021-09-01 17:30"
      ]
     },
     "execution_count": 3,
     "metadata": {},
     "output_type": "execute_result"
    }
   ],
   "source": [
    "timestamps"
   ]
  },
  {
   "cell_type": "code",
   "execution_count": 4,
   "id": "alternate-victory",
   "metadata": {
    "execution": {
     "iopub.execute_input": "2021-09-01T16:00:08.066561Z",
     "iopub.status.busy": "2021-09-01T16:00:08.064288Z",
     "iopub.status.idle": "2021-09-01T16:00:08.340122Z",
     "shell.execute_reply": "2021-09-01T16:00:08.341423Z"
    },
    "papermill": {
     "duration": 0.306436,
     "end_time": "2021-09-01T16:00:08.341837",
     "exception": false,
     "start_time": "2021-09-01T16:00:08.035401",
     "status": "completed"
    },
    "tags": []
   },
   "outputs": [],
   "source": [
    "df = pd.read_sql(\"select * from EBAY_TOP_BERLIN where record_time in (select distinct record_time from EBAY_TOP_BERLIN order by record_time desc limit 2)\", sqlite3.connect(\"UsedObjects.db\"))"
   ]
  },
  {
   "cell_type": "code",
   "execution_count": 5,
   "id": "popular-active",
   "metadata": {
    "execution": {
     "iopub.execute_input": "2021-09-01T16:00:08.421344Z",
     "iopub.status.busy": "2021-09-01T16:00:08.410560Z",
     "iopub.status.idle": "2021-09-01T16:00:08.437335Z",
     "shell.execute_reply": "2021-09-01T16:00:08.438550Z"
    },
    "papermill": {
     "duration": 0.071494,
     "end_time": "2021-09-01T16:00:08.439005",
     "exception": false,
     "start_time": "2021-09-01T16:00:08.367511",
     "status": "completed"
    },
    "tags": []
   },
   "outputs": [],
   "source": [
    "df_pivot = df.pivot_table(index=\"PRODUCT\", columns = \"RECORD_TIME\", values = \"LISTING_COUNT\")"
   ]
  },
  {
   "cell_type": "code",
   "execution_count": 6,
   "id": "union-huntington",
   "metadata": {
    "execution": {
     "iopub.execute_input": "2021-09-01T16:00:08.495231Z",
     "iopub.status.busy": "2021-09-01T16:00:08.493120Z",
     "iopub.status.idle": "2021-09-01T16:00:08.498202Z",
     "shell.execute_reply": "2021-09-01T16:00:08.499552Z"
    },
    "papermill": {
     "duration": 0.04019,
     "end_time": "2021-09-01T16:00:08.499981",
     "exception": false,
     "start_time": "2021-09-01T16:00:08.459791",
     "status": "completed"
    },
    "tags": []
   },
   "outputs": [],
   "source": [
    "df_pivot.columns = [\"stamp_1\", \"stamp_2\"]\n",
    "df_pivot_diff = df_pivot.diff(axis=1)"
   ]
  },
  {
   "cell_type": "code",
   "execution_count": 7,
   "id": "fifth-motion",
   "metadata": {
    "execution": {
     "iopub.execute_input": "2021-09-01T16:00:08.554085Z",
     "iopub.status.busy": "2021-09-01T16:00:08.551748Z",
     "iopub.status.idle": "2021-09-01T16:00:10.006173Z",
     "shell.execute_reply": "2021-09-01T16:00:10.007594Z"
    },
    "papermill": {
     "duration": 1.48753,
     "end_time": "2021-09-01T16:00:10.008042",
     "exception": false,
     "start_time": "2021-09-01T16:00:08.520512",
     "status": "completed"
    },
    "tags": []
   },
   "outputs": [
    {
     "data": {
      "text/plain": [
       "<AxesSubplot:ylabel='PRODUCT'>"
      ]
     },
     "execution_count": 7,
     "metadata": {},
     "output_type": "execute_result"
    },
    {
     "data": {
      "image/png": "[encoded data removed]",
      "text/plain": [
       "<Figure size 432x288 with 1 Axes>"
      ]
     },
     "metadata": {
      "needs_background": "light"
     },
     "output_type": "display_data"
    }
   ],
   "source": [
    "df_pivot_diff.sort_values(\"stamp_2\", ascending = False)[\"stamp_2\"].head(10).plot.barh()"
   ]
  },
  {
   "cell_type": "code",
   "execution_count": null,
   "id": "extra-executive",
   "metadata": {
    "papermill": {
     "duration": 0.02204,
     "end_time": "2021-09-01T16:00:10.053955",
     "exception": false,
     "start_time": "2021-09-01T16:00:10.031915",
     "status": "completed"
    },
    "tags": []
   },
   "outputs": [],
   "source": []
  }
 ],
 "metadata": {
  "kernelspec": {
   "display_name": "Python 3",
   "language": "python",
   "name": "python3"
  },
  "language_info": {
   "codemirror_mode": {
    "name": "ipython",
    "version": 3
   },
   "file_extension": ".py",
   "mimetype": "text/x-python",
   "name": "python",
   "nbconvert_exporter": "python",
   "pygments_lexer": "ipython3",
   "version": "3.9.5"
  },
  "papermill": {
   "default_parameters": {},
   "duration": 6.821329,
   "end_time": "2021-09-01T16:00:11.256955",
   "environment_variables": {},
   "exception": null,
   "input_path": "eBay_Overview.ipynb",
   "output_path": "eBay_Overview.ipynb",
   "parameters": {},
   "start_time": "2021-09-01T16:00:04.435626",
   "version": "2.3.3"
  }
 },
 "nbformat": 4,
 "nbformat_minor": 5
}