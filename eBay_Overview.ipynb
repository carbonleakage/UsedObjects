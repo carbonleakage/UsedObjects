{
 "cells": [
  {
   "cell_type": "code",
   "execution_count": 1,
   "id": "reverse-picking",
   "metadata": {
    "execution": {
     "iopub.execute_input": "2021-09-10T07:30:08.544821Z",
     "iopub.status.busy": "2021-09-10T07:30:08.542788Z",
     "iopub.status.idle": "2021-09-10T07:30:09.359722Z",
     "shell.execute_reply": "2021-09-10T07:30:09.358097Z"
    },
    "papermill": {
     "duration": 0.866074,
     "end_time": "2021-09-10T07:30:09.360123",
     "exception": false,
     "start_time": "2021-09-10T07:30:08.494049",
     "status": "completed"
    },
    "tags": []
   },
   "outputs": [],
   "source": [
    "import pandas as pd\n",
    "import sqlite3"
   ]
  },
  {
   "cell_type": "code",
   "execution_count": 2,
   "id": "innovative-syndrome",
   "metadata": {
    "execution": {
     "iopub.execute_input": "2021-09-10T07:30:09.412894Z",
     "iopub.status.busy": "2021-09-10T07:30:09.410626Z",
     "iopub.status.idle": "2021-09-10T07:30:09.663914Z",
     "shell.execute_reply": "2021-09-10T07:30:09.665291Z"
    },
    "papermill": {
     "duration": 0.283222,
     "end_time": "2021-09-10T07:30:09.665731",
     "exception": false,
     "start_time": "2021-09-10T07:30:09.382509",
     "status": "completed"
    },
    "tags": []
   },
   "outputs": [],
   "source": [
    "timestamps = pd.read_sql(\"select distinct record_time from EBAY_TOP_BERLIN order by record_time desc limit 2\", sqlite3.connect(\"UsedObjects.db\"))"
   ]
  },
  {
   "cell_type": "code",
   "execution_count": 3,
   "id": "periodic-identification",
   "metadata": {
    "execution": {
     "iopub.execute_input": "2021-09-10T07:30:09.733244Z",
     "iopub.status.busy": "2021-09-10T07:30:09.731118Z",
     "iopub.status.idle": "2021-09-10T07:30:09.751613Z",
     "shell.execute_reply": "2021-09-10T07:30:09.752900Z"
    },
    "papermill": {
     "duration": 0.067761,
     "end_time": "2021-09-10T07:30:09.753312",
     "exception": false,
     "start_time": "2021-09-10T07:30:09.685551",
     "status": "completed"
    },
    "tags": []
   },
   "outputs": [
    {
     "data": {
      "text/html": [
       "<div>\n",
       "<style scoped>\n",
       "    .dataframe tbody tr th:only-of-type {\n",
       "        vertical-align: middle;\n",
       "    }\n",
       "\n",
       "    .dataframe tbody tr th {\n",
       "        vertical-align: top;\n",
       "    }\n",
       "\n",
       "    .dataframe thead th {\n",
       "        text-align: right;\n",
       "    }\n",
       "</style>\n",
       "<table border=\"1\" class=\"dataframe\">\n",
       "  <thead>\n",
       "    <tr style=\"text-align: right;\">\n",
       "      <th></th>\n",
       "      <th>RECORD_TIME</th>\n",
       "    </tr>\n",
       "  </thead>\n",
       "  <tbody>\n",
       "    <tr>\n",
       "      <th>0</th>\n",
       "      <td>2021-09-10 09:30</td>\n",
       "    </tr>\n",
       "    <tr>\n",
       "      <th>1</th>\n",
       "      <td>2021-09-10 09:00</td>\n",
       "    </tr>\n",
       "  </tbody>\n",
       "</table>\n",
       "</div>"
      ],
      "text/plain": [
       "        RECORD_TIME\n",
       "0  2021-09-10 09:30\n",
       "1  2021-09-10 09:00"
      ]
     },
     "execution_count": 3,
     "metadata": {},
     "output_type": "execute_result"
    }
   ],
   "source": [
    "timestamps"
   ]
  },
  {
   "cell_type": "code",
   "execution_count": 4,
   "id": "alternate-victory",
   "metadata": {
    "execution": {
     "iopub.execute_input": "2021-09-10T07:30:09.805206Z",
     "iopub.status.busy": "2021-09-10T07:30:09.803030Z",
     "iopub.status.idle": "2021-09-10T07:30:10.183274Z",
     "shell.execute_reply": "2021-09-10T07:30:10.184490Z"
    },
    "papermill": {
     "duration": 0.410372,
     "end_time": "2021-09-10T07:30:10.184889",
     "exception": false,
     "start_time": "2021-09-10T07:30:09.774517",
     "status": "completed"
    },
    "tags": []
   },
   "outputs": [],
   "source": [
    "df = pd.read_sql(\"select * from EBAY_TOP_BERLIN where record_time in (select distinct record_time from EBAY_TOP_BERLIN order by record_time desc limit 2)\", sqlite3.connect(\"UsedObjects.db\"))"
   ]
  },
  {
   "cell_type": "code",
   "execution_count": 5,
   "id": "popular-active",
   "metadata": {
    "execution": {
     "iopub.execute_input": "2021-09-10T07:30:10.267800Z",
     "iopub.status.busy": "2021-09-10T07:30:10.255225Z",
     "iopub.status.idle": "2021-09-10T07:30:10.284149Z",
     "shell.execute_reply": "2021-09-10T07:30:10.285347Z"
    },
    "papermill": {
     "duration": 0.071853,
     "end_time": "2021-09-10T07:30:10.285740",
     "exception": false,
     "start_time": "2021-09-10T07:30:10.213887",
     "status": "completed"
    },
    "tags": []
   },
   "outputs": [],
   "source": [
    "df_pivot = df.pivot_table(index=\"PRODUCT\", columns = \"RECORD_TIME\", values = \"LISTING_COUNT\")"
   ]
  },
  {
   "cell_type": "code",
   "execution_count": 6,
   "id": "union-huntington",
   "metadata": {
    "execution": {
     "iopub.execute_input": "2021-09-10T07:30:10.341444Z",
     "iopub.status.busy": "2021-09-10T07:30:10.339468Z",
     "iopub.status.idle": "2021-09-10T07:30:10.344426Z",
     "shell.execute_reply": "2021-09-10T07:30:10.345610Z"
    },
    "papermill": {
     "duration": 0.039664,
     "end_time": "2021-09-10T07:30:10.346003",
     "exception": false,
     "start_time": "2021-09-10T07:30:10.306339",
     "status": "completed"
    },
    "tags": []
   },
   "outputs": [],
   "source": [
    "df_pivot.columns = [\"stamp_1\", \"stamp_2\"]\n",
    "df_pivot_diff = df_pivot.diff(axis=1)"
   ]
  },
  {
   "cell_type": "code",
   "execution_count": 7,
   "id": "fifth-motion",
   "metadata": {
    "execution": {
     "iopub.execute_input": "2021-09-10T07:30:10.401865Z",
     "iopub.status.busy": "2021-09-10T07:30:10.399214Z",
     "iopub.status.idle": "2021-09-10T07:30:11.905218Z",
     "shell.execute_reply": "2021-09-10T07:30:11.906565Z"
    },
    "papermill": {
     "duration": 1.539951,
     "end_time": "2021-09-10T07:30:11.907153",
     "exception": false,
     "start_time": "2021-09-10T07:30:10.367202",
     "status": "completed"
    },
    "tags": []
   },
   "outputs": [
    {
     "data": {
      "text/plain": [
       "<AxesSubplot:ylabel='PRODUCT'>"
      ]
     },
     "execution_count": 7,
     "metadata": {},
     "output_type": "execute_result"
    },
    {
     "data": {
      "image/png": "[encoded data removed]",
      "text/plain": [
       "<Figure size 432x288 with 1 Axes>"
      ]
     },
     "metadata": {
      "needs_background": "light"
     },
     "output_type": "display_data"
    }
   ],
   "source": [
    "df_pivot_diff.sort_values(\"stamp_2\", ascending = False)[\"stamp_2\"].head(10).plot.barh()"
   ]
  },
  {
   "cell_type": "code",
   "execution_count": null,
   "id": "extra-executive",
   "metadata": {
    "papermill": {
     "duration": 0.022305,
     "end_time": "2021-09-10T07:30:11.953996",
     "exception": false,
     "start_time": "2021-09-10T07:30:11.931691",
     "status": "completed"
    },
    "tags": []
   },
   "outputs": [],
   "source": []
  }
 ],
 "metadata": {
  "kernelspec": {
   "display_name": "Python 3",
   "language": "python",
   "name": "python3"
  },
  "language_info": {
   "codemirror_mode": {
    "name": "ipython",
    "version": 3
   },
   "file_extension": ".py",
   "mimetype": "text/x-python",
   "name": "python",
   "nbconvert_exporter": "python",
   "pygments_lexer": "ipython3",
   "version": "3.9.5"
  },
  "papermill": {
   "default_parameters": {},
   "duration": 6.531501,
   "end_time": "2021-09-10T07:30:12.594991",
   "environment_variables": {},
   "exception": null,
   "input_path": "eBay_Overview.ipynb",
   "output_path": "eBay_Overview.ipynb",
   "parameters": {},
   "start_time": "2021-09-10T07:30:06.063490",
   "version": "2.3.3"
  }
 },
 "nbformat": 4,
 "nbformat_minor": 5
}