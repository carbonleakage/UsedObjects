{
 "cells": [
  {
   "cell_type": "code",
   "execution_count": 1,
   "id": "reverse-picking",
   "metadata": {
    "execution": {
     "iopub.execute_input": "2021-09-03T05:30:07.397125Z",
     "iopub.status.busy": "2021-09-03T05:30:07.395238Z",
     "iopub.status.idle": "2021-09-03T05:30:08.200528Z",
     "shell.execute_reply": "2021-09-03T05:30:08.201762Z"
    },
    "papermill": {
     "duration": 0.857657,
     "end_time": "2021-09-03T05:30:08.202372",
     "exception": false,
     "start_time": "2021-09-03T05:30:07.344715",
     "status": "completed"
    },
    "tags": []
   },
   "outputs": [],
   "source": [
    "import pandas as pd\n",
    "import sqlite3"
   ]
  },
  {
   "cell_type": "code",
   "execution_count": 2,
   "id": "innovative-syndrome",
   "metadata": {
    "execution": {
     "iopub.execute_input": "2021-09-03T05:30:08.253941Z",
     "iopub.status.busy": "2021-09-03T05:30:08.252092Z",
     "iopub.status.idle": "2021-09-03T05:30:08.443305Z",
     "shell.execute_reply": "2021-09-03T05:30:08.444515Z"
    },
    "papermill": {
     "duration": 0.220776,
     "end_time": "2021-09-03T05:30:08.444911",
     "exception": false,
     "start_time": "2021-09-03T05:30:08.224135",
     "status": "completed"
    },
    "tags": []
   },
   "outputs": [],
   "source": [
    "timestamps = pd.read_sql(\"select distinct record_time from EBAY_TOP_BERLIN order by record_time desc limit 2\", sqlite3.connect(\"UsedObjects.db\"))"
   ]
  },
  {
   "cell_type": "code",
   "execution_count": 3,
   "id": "periodic-identification",
   "metadata": {
    "execution": {
     "iopub.execute_input": "2021-09-03T05:30:08.514000Z",
     "iopub.status.busy": "2021-09-03T05:30:08.511999Z",
     "iopub.status.idle": "2021-09-03T05:30:08.534170Z",
     "shell.execute_reply": "2021-09-03T05:30:08.535978Z"
    },
    "papermill": {
     "duration": 0.068903,
     "end_time": "2021-09-03T05:30:08.536525",
     "exception": false,
     "start_time": "2021-09-03T05:30:08.467622",
     "status": "completed"
    },
    "tags": []
   },
   "outputs": [
    {
     "data": {
      "text/html": [
       "<div>\n",
       "<style scoped>\n",
       "    .dataframe tbody tr th:only-of-type {\n",
       "        vertical-align: middle;\n",
       "    }\n",
       "\n",
       "    .dataframe tbody tr th {\n",
       "        vertical-align: top;\n",
       "    }\n",
       "\n",
       "    .dataframe thead th {\n",
       "        text-align: right;\n",
       "    }\n",
       "</style>\n",
       "<table border=\"1\" class=\"dataframe\">\n",
       "  <thead>\n",
       "    <tr style=\"text-align: right;\">\n",
       "      <th></th>\n",
       "      <th>RECORD_TIME</th>\n",
       "    </tr>\n",
       "  </thead>\n",
       "  <tbody>\n",
       "    <tr>\n",
       "      <th>0</th>\n",
       "      <td>2021-09-03 07:30</td>\n",
       "    </tr>\n",
       "    <tr>\n",
       "      <th>1</th>\n",
       "      <td>2021-09-03 07:00</td>\n",
       "    </tr>\n",
       "  </tbody>\n",
       "</table>\n",
       "</div>"
      ],
      "text/plain": [
       "        RECORD_TIME\n",
       "0  2021-09-03 07:30\n",
       "1  2021-09-03 07:00"
      ]
     },
     "execution_count": 3,
     "metadata": {},
     "output_type": "execute_result"
    }
   ],
   "source": [
    "timestamps"
   ]
  },
  {
   "cell_type": "code",
   "execution_count": 4,
   "id": "alternate-victory",
   "metadata": {
    "execution": {
     "iopub.execute_input": "2021-09-03T05:30:08.589637Z",
     "iopub.status.busy": "2021-09-03T05:30:08.587827Z",
     "iopub.status.idle": "2021-09-03T05:30:08.873195Z",
     "shell.execute_reply": "2021-09-03T05:30:08.874403Z"
    },
    "papermill": {
     "duration": 0.315318,
     "end_time": "2021-09-03T05:30:08.874797",
     "exception": false,
     "start_time": "2021-09-03T05:30:08.559479",
     "status": "completed"
    },
    "tags": []
   },
   "outputs": [],
   "source": [
    "df = pd.read_sql(\"select * from EBAY_TOP_BERLIN where record_time in (select distinct record_time from EBAY_TOP_BERLIN order by record_time desc limit 2)\", sqlite3.connect(\"UsedObjects.db\"))"
   ]
  },
  {
   "cell_type": "code",
   "execution_count": 5,
   "id": "popular-active",
   "metadata": {
    "execution": {
     "iopub.execute_input": "2021-09-03T05:30:08.955131Z",
     "iopub.status.busy": "2021-09-03T05:30:08.942762Z",
     "iopub.status.idle": "2021-09-03T05:30:08.973824Z",
     "shell.execute_reply": "2021-09-03T05:30:08.975170Z"
    },
    "papermill": {
     "duration": 0.074087,
     "end_time": "2021-09-03T05:30:08.975590",
     "exception": false,
     "start_time": "2021-09-03T05:30:08.901503",
     "status": "completed"
    },
    "tags": []
   },
   "outputs": [],
   "source": [
    "df_pivot = df.pivot_table(index=\"PRODUCT\", columns = \"RECORD_TIME\", values = \"LISTING_COUNT\")"
   ]
  },
  {
   "cell_type": "code",
   "execution_count": 6,
   "id": "union-huntington",
   "metadata": {
    "execution": {
     "iopub.execute_input": "2021-09-03T05:30:09.031750Z",
     "iopub.status.busy": "2021-09-03T05:30:09.029661Z",
     "iopub.status.idle": "2021-09-03T05:30:09.035098Z",
     "shell.execute_reply": "2021-09-03T05:30:09.036404Z"
    },
    "papermill": {
     "duration": 0.04096,
     "end_time": "2021-09-03T05:30:09.036823",
     "exception": false,
     "start_time": "2021-09-03T05:30:08.995863",
     "status": "completed"
    },
    "tags": []
   },
   "outputs": [],
   "source": [
    "df_pivot.columns = [\"stamp_1\", \"stamp_2\"]\n",
    "df_pivot_diff = df_pivot.diff(axis=1)"
   ]
  },
  {
   "cell_type": "code",
   "execution_count": 7,
   "id": "fifth-motion",
   "metadata": {
    "execution": {
     "iopub.execute_input": "2021-09-03T05:30:09.092194Z",
     "iopub.status.busy": "2021-09-03T05:30:09.089618Z",
     "iopub.status.idle": "2021-09-03T05:30:10.590013Z",
     "shell.execute_reply": "2021-09-03T05:30:10.591605Z"
    },
    "papermill": {
     "duration": 1.533827,
     "end_time": "2021-09-03T05:30:10.592073",
     "exception": false,
     "start_time": "2021-09-03T05:30:09.058246",
     "status": "completed"
    },
    "tags": []
   },
   "outputs": [
    {
     "data": {
      "text/plain": [
       "<AxesSubplot:ylabel='PRODUCT'>"
      ]
     },
     "execution_count": 7,
     "metadata": {},
     "output_type": "execute_result"
    },
    {
     "data": {
      "image/png": "[encoded data removed]",
      "text/plain": [
       "<Figure size 432x288 with 1 Axes>"
      ]
     },
     "metadata": {
      "needs_background": "light"
     },
     "output_type": "display_data"
    }
   ],
   "source": [
    "df_pivot_diff.sort_values(\"stamp_2\", ascending = False)[\"stamp_2\"].head(10).plot.barh()"
   ]
  },
  {
   "cell_type": "code",
   "execution_count": null,
   "id": "extra-executive",
   "metadata": {
    "papermill": {
     "duration": 0.022329,
     "end_time": "2021-09-03T05:30:10.640223",
     "exception": false,
     "start_time": "2021-09-03T05:30:10.617894",
     "status": "completed"
    },
    "tags": []
   },
   "outputs": [],
   "source": []
  }
 ],
 "metadata": {
  "kernelspec": {
   "display_name": "Python 3",
   "language": "python",
   "name": "python3"
  },
  "language_info": {
   "codemirror_mode": {
    "name": "ipython",
    "version": 3
   },
   "file_extension": ".py",
   "mimetype": "text/x-python",
   "name": "python",
   "nbconvert_exporter": "python",
   "pygments_lexer": "ipython3",
   "version": "3.9.5"
  },
  "papermill": {
   "default_parameters": {},
   "duration": 6.344405,
   "end_time": "2021-09-03T05:30:11.280970",
   "environment_variables": {},
   "exception": null,
   "input_path": "eBay_Overview.ipynb",
   "output_path": "eBay_Overview.ipynb",
   "parameters": {},
   "start_time": "2021-09-03T05:30:04.936565",
   "version": "2.3.3"
  }
 },
 "nbformat": 4,
 "nbformat_minor": 5
}