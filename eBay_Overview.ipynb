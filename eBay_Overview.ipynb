{
 "cells": [
  {
   "cell_type": "code",
   "execution_count": 1,
   "id": "reverse-picking",
   "metadata": {
    "execution": {
     "iopub.execute_input": "2021-08-18T07:30:07.483695Z",
     "iopub.status.busy": "2021-08-18T07:30:07.481676Z",
     "iopub.status.idle": "2021-08-18T07:30:08.288625Z",
     "shell.execute_reply": "2021-08-18T07:30:08.289869Z"
    },
    "papermill": {
     "duration": 0.858997,
     "end_time": "2021-08-18T07:30:08.290589",
     "exception": false,
     "start_time": "2021-08-18T07:30:07.431592",
     "status": "completed"
    },
    "tags": []
   },
   "outputs": [],
   "source": [
    "import pandas as pd\n",
    "import sqlite3"
   ]
  },
  {
   "cell_type": "code",
   "execution_count": 2,
   "id": "innovative-syndrome",
   "metadata": {
    "execution": {
     "iopub.execute_input": "2021-08-18T07:30:08.340201Z",
     "iopub.status.busy": "2021-08-18T07:30:08.338327Z",
     "iopub.status.idle": "2021-08-18T07:30:08.411852Z",
     "shell.execute_reply": "2021-08-18T07:30:08.413041Z"
    },
    "papermill": {
     "duration": 0.102783,
     "end_time": "2021-08-18T07:30:08.413434",
     "exception": false,
     "start_time": "2021-08-18T07:30:08.310651",
     "status": "completed"
    },
    "tags": []
   },
   "outputs": [],
   "source": [
    "timestamps = pd.read_sql(\"select distinct record_time from EBAY_TOP_BERLIN order by record_time desc limit 2\", sqlite3.connect(\"UsedObjects.db\"))"
   ]
  },
  {
   "cell_type": "code",
   "execution_count": 3,
   "id": "periodic-identification",
   "metadata": {
    "execution": {
     "iopub.execute_input": "2021-08-18T07:30:08.480531Z",
     "iopub.status.busy": "2021-08-18T07:30:08.478508Z",
     "iopub.status.idle": "2021-08-18T07:30:08.500045Z",
     "shell.execute_reply": "2021-08-18T07:30:08.501329Z"
    },
    "papermill": {
     "duration": 0.066903,
     "end_time": "2021-08-18T07:30:08.501745",
     "exception": false,
     "start_time": "2021-08-18T07:30:08.434842",
     "status": "completed"
    },
    "tags": []
   },
   "outputs": [
    {
     "data": {
      "text/html": [
       "<div>\n",
       "<style scoped>\n",
       "    .dataframe tbody tr th:only-of-type {\n",
       "        vertical-align: middle;\n",
       "    }\n",
       "\n",
       "    .dataframe tbody tr th {\n",
       "        vertical-align: top;\n",
       "    }\n",
       "\n",
       "    .dataframe thead th {\n",
       "        text-align: right;\n",
       "    }\n",
       "</style>\n",
       "<table border=\"1\" class=\"dataframe\">\n",
       "  <thead>\n",
       "    <tr style=\"text-align: right;\">\n",
       "      <th></th>\n",
       "      <th>RECORD_TIME</th>\n",
       "    </tr>\n",
       "  </thead>\n",
       "  <tbody>\n",
       "    <tr>\n",
       "      <th>0</th>\n",
       "      <td>2021-08-18 09:30</td>\n",
       "    </tr>\n",
       "    <tr>\n",
       "      <th>1</th>\n",
       "      <td>2021-08-18 09:00</td>\n",
       "    </tr>\n",
       "  </tbody>\n",
       "</table>\n",
       "</div>"
      ],
      "text/plain": [
       "        RECORD_TIME\n",
       "0  2021-08-18 09:30\n",
       "1  2021-08-18 09:00"
      ]
     },
     "execution_count": 3,
     "metadata": {},
     "output_type": "execute_result"
    }
   ],
   "source": [
    "timestamps"
   ]
  },
  {
   "cell_type": "code",
   "execution_count": 4,
   "id": "alternate-victory",
   "metadata": {
    "execution": {
     "iopub.execute_input": "2021-08-18T07:30:08.552963Z",
     "iopub.status.busy": "2021-08-18T07:30:08.550928Z",
     "iopub.status.idle": "2021-08-18T07:30:08.661097Z",
     "shell.execute_reply": "2021-08-18T07:30:08.663141Z"
    },
    "papermill": {
     "duration": 0.141485,
     "end_time": "2021-08-18T07:30:08.663590",
     "exception": false,
     "start_time": "2021-08-18T07:30:08.522105",
     "status": "completed"
    },
    "tags": []
   },
   "outputs": [],
   "source": [
    "df = pd.read_sql(\"select * from EBAY_TOP_BERLIN where record_time in (select distinct record_time from EBAY_TOP_BERLIN order by record_time desc limit 2)\", sqlite3.connect(\"UsedObjects.db\"))"
   ]
  },
  {
   "cell_type": "code",
   "execution_count": 5,
   "id": "popular-active",
   "metadata": {
    "execution": {
     "iopub.execute_input": "2021-08-18T07:30:08.734654Z",
     "iopub.status.busy": "2021-08-18T07:30:08.722815Z",
     "iopub.status.idle": "2021-08-18T07:30:08.750547Z",
     "shell.execute_reply": "2021-08-18T07:30:08.751844Z"
    },
    "papermill": {
     "duration": 0.068343,
     "end_time": "2021-08-18T07:30:08.752260",
     "exception": false,
     "start_time": "2021-08-18T07:30:08.683917",
     "status": "completed"
    },
    "tags": []
   },
   "outputs": [],
   "source": [
    "df_pivot = df.pivot_table(index=\"PRODUCT\", columns = \"RECORD_TIME\", values = \"LISTING_COUNT\")"
   ]
  },
  {
   "cell_type": "code",
   "execution_count": 6,
   "id": "union-huntington",
   "metadata": {
    "execution": {
     "iopub.execute_input": "2021-08-18T07:30:08.809886Z",
     "iopub.status.busy": "2021-08-18T07:30:08.807607Z",
     "iopub.status.idle": "2021-08-18T07:30:08.813320Z",
     "shell.execute_reply": "2021-08-18T07:30:08.814589Z"
    },
    "papermill": {
     "duration": 0.041306,
     "end_time": "2021-08-18T07:30:08.815031",
     "exception": false,
     "start_time": "2021-08-18T07:30:08.773725",
     "status": "completed"
    },
    "tags": []
   },
   "outputs": [],
   "source": [
    "df_pivot.columns = [\"stamp_1\", \"stamp_2\"]\n",
    "df_pivot_diff = df_pivot.diff(axis=1)"
   ]
  },
  {
   "cell_type": "code",
   "execution_count": 7,
   "id": "fifth-motion",
   "metadata": {
    "execution": {
     "iopub.execute_input": "2021-08-18T07:30:08.869871Z",
     "iopub.status.busy": "2021-08-18T07:30:08.867494Z",
     "iopub.status.idle": "2021-08-18T07:30:10.353175Z",
     "shell.execute_reply": "2021-08-18T07:30:10.354516Z"
    },
    "papermill": {
     "duration": 1.520141,
     "end_time": "2021-08-18T07:30:10.354985",
     "exception": false,
     "start_time": "2021-08-18T07:30:08.834844",
     "status": "completed"
    },
    "tags": []
   },
   "outputs": [
    {
     "data": {
      "text/plain": [
       "<AxesSubplot:ylabel='PRODUCT'>"
      ]
     },
     "execution_count": 7,
     "metadata": {},
     "output_type": "execute_result"
    },
    {
     "data": {
      "image/png": "[encoded data removed]",
      "text/plain": [
       "<Figure size 432x288 with 1 Axes>"
      ]
     },
     "metadata": {
      "needs_background": "light"
     },
     "output_type": "display_data"
    }
   ],
   "source": [
    "df_pivot_diff.sort_values(\"stamp_2\", ascending = False)[\"stamp_2\"].head(10).plot.barh()"
   ]
  },
  {
   "cell_type": "code",
   "execution_count": null,
   "id": "extra-executive",
   "metadata": {
    "papermill": {
     "duration": 0.022088,
     "end_time": "2021-08-18T07:30:10.400726",
     "exception": false,
     "start_time": "2021-08-18T07:30:10.378638",
     "status": "completed"
    },
    "tags": []
   },
   "outputs": [],
   "source": []
  }
 ],
 "metadata": {
  "kernelspec": {
   "display_name": "Python 3",
   "language": "python",
   "name": "python3"
  },
  "language_info": {
   "codemirror_mode": {
    "name": "ipython",
    "version": 3
   },
   "file_extension": ".py",
   "mimetype": "text/x-python",
   "name": "python",
   "nbconvert_exporter": "python",
   "pygments_lexer": "ipython3",
   "version": "3.9.5"
  },
  "papermill": {
   "default_parameters": {},
   "duration": 6.829509,
   "end_time": "2021-08-18T07:30:11.853187",
   "environment_variables": {},
   "exception": null,
   "input_path": "eBay_Overview.ipynb",
   "output_path": "eBay_Overview.ipynb",
   "parameters": {},
   "start_time": "2021-08-18T07:30:05.023678",
   "version": "2.3.3"
  }
 },
 "nbformat": 4,
 "nbformat_minor": 5
}