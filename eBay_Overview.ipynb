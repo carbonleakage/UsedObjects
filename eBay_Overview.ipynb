{
 "cells": [
  {
   "cell_type": "code",
   "execution_count": 1,
   "id": "reverse-picking",
   "metadata": {
    "execution": {
     "iopub.execute_input": "2021-10-12T19:00:06.779283Z",
     "iopub.status.busy": "2021-10-12T19:00:06.777341Z",
     "iopub.status.idle": "2021-10-12T19:00:07.580234Z",
     "shell.execute_reply": "2021-10-12T19:00:07.581645Z"
    },
    "papermill": {
     "duration": 0.85364,
     "end_time": "2021-10-12T19:00:07.582300",
     "exception": false,
     "start_time": "2021-10-12T19:00:06.728660",
     "status": "completed"
    },
    "tags": []
   },
   "outputs": [],
   "source": [
    "import pandas as pd\n",
    "import sqlite3"
   ]
  },
  {
   "cell_type": "code",
   "execution_count": 2,
   "id": "innovative-syndrome",
   "metadata": {
    "execution": {
     "iopub.execute_input": "2021-10-12T19:00:07.633254Z",
     "iopub.status.busy": "2021-10-12T19:00:07.631212Z",
     "iopub.status.idle": "2021-10-12T19:00:08.151294Z",
     "shell.execute_reply": "2021-10-12T19:00:08.152413Z"
    },
    "papermill": {
     "duration": 0.549743,
     "end_time": "2021-10-12T19:00:08.153000",
     "exception": false,
     "start_time": "2021-10-12T19:00:07.603257",
     "status": "completed"
    },
    "tags": []
   },
   "outputs": [],
   "source": [
    "timestamps = pd.read_sql(\"select distinct record_time from EBAY_TOP_BERLIN order by record_time desc limit 2\", sqlite3.connect(\"UsedObjects.db\"))"
   ]
  },
  {
   "cell_type": "code",
   "execution_count": 3,
   "id": "periodic-identification",
   "metadata": {
    "execution": {
     "iopub.execute_input": "2021-10-12T19:00:08.221769Z",
     "iopub.status.busy": "2021-10-12T19:00:08.219682Z",
     "iopub.status.idle": "2021-10-12T19:00:08.239974Z",
     "shell.execute_reply": "2021-10-12T19:00:08.241649Z"
    },
    "papermill": {
     "duration": 0.066956,
     "end_time": "2021-10-12T19:00:08.242155",
     "exception": false,
     "start_time": "2021-10-12T19:00:08.175199",
     "status": "completed"
    },
    "tags": []
   },
   "outputs": [
    {
     "data": {
      "text/html": [
       "<div>\n",
       "<style scoped>\n",
       "    .dataframe tbody tr th:only-of-type {\n",
       "        vertical-align: middle;\n",
       "    }\n",
       "\n",
       "    .dataframe tbody tr th {\n",
       "        vertical-align: top;\n",
       "    }\n",
       "\n",
       "    .dataframe thead th {\n",
       "        text-align: right;\n",
       "    }\n",
       "</style>\n",
       "<table border=\"1\" class=\"dataframe\">\n",
       "  <thead>\n",
       "    <tr style=\"text-align: right;\">\n",
       "      <th></th>\n",
       "      <th>RECORD_TIME</th>\n",
       "    </tr>\n",
       "  </thead>\n",
       "  <tbody>\n",
       "    <tr>\n",
       "      <th>0</th>\n",
       "      <td>2021-10-12 21:00</td>\n",
       "    </tr>\n",
       "    <tr>\n",
       "      <th>1</th>\n",
       "      <td>2021-10-12 20:30</td>\n",
       "    </tr>\n",
       "  </tbody>\n",
       "</table>\n",
       "</div>"
      ],
      "text/plain": [
       "        RECORD_TIME\n",
       "0  2021-10-12 21:00\n",
       "1  2021-10-12 20:30"
      ]
     },
     "execution_count": 3,
     "metadata": {},
     "output_type": "execute_result"
    }
   ],
   "source": [
    "timestamps"
   ]
  },
  {
   "cell_type": "code",
   "execution_count": 4,
   "id": "alternate-victory",
   "metadata": {
    "execution": {
     "iopub.execute_input": "2021-10-12T19:00:08.303152Z",
     "iopub.status.busy": "2021-10-12T19:00:08.301014Z",
     "iopub.status.idle": "2021-10-12T19:00:09.095575Z",
     "shell.execute_reply": "2021-10-12T19:00:09.094259Z"
    },
    "papermill": {
     "duration": 0.827283,
     "end_time": "2021-10-12T19:00:09.095918",
     "exception": false,
     "start_time": "2021-10-12T19:00:08.268635",
     "status": "completed"
    },
    "tags": []
   },
   "outputs": [],
   "source": [
    "df = pd.read_sql(\"select * from EBAY_TOP_BERLIN where record_time in (select distinct record_time from EBAY_TOP_BERLIN order by record_time desc limit 2)\", sqlite3.connect(\"UsedObjects.db\"))"
   ]
  },
  {
   "cell_type": "code",
   "execution_count": 5,
   "id": "popular-active",
   "metadata": {
    "execution": {
     "iopub.execute_input": "2021-10-12T19:00:09.165067Z",
     "iopub.status.busy": "2021-10-12T19:00:09.158260Z",
     "iopub.status.idle": "2021-10-12T19:00:09.180300Z",
     "shell.execute_reply": "2021-10-12T19:00:09.181756Z"
    },
    "papermill": {
     "duration": 0.06606,
     "end_time": "2021-10-12T19:00:09.182174",
     "exception": false,
     "start_time": "2021-10-12T19:00:09.116114",
     "status": "completed"
    },
    "tags": []
   },
   "outputs": [],
   "source": [
    "df_pivot = df.pivot_table(index=\"PRODUCT\", columns = \"RECORD_TIME\", values = \"LISTING_COUNT\")"
   ]
  },
  {
   "cell_type": "code",
   "execution_count": 6,
   "id": "union-huntington",
   "metadata": {
    "execution": {
     "iopub.execute_input": "2021-10-12T19:00:09.239952Z",
     "iopub.status.busy": "2021-10-12T19:00:09.237510Z",
     "iopub.status.idle": "2021-10-12T19:00:09.243472Z",
     "shell.execute_reply": "2021-10-12T19:00:09.244796Z"
    },
    "papermill": {
     "duration": 0.042002,
     "end_time": "2021-10-12T19:00:09.245260",
     "exception": false,
     "start_time": "2021-10-12T19:00:09.203258",
     "status": "completed"
    },
    "tags": []
   },
   "outputs": [],
   "source": [
    "df_pivot.columns = [\"stamp_1\", \"stamp_2\"]\n",
    "df_pivot_diff = df_pivot.diff(axis=1)"
   ]
  },
  {
   "cell_type": "code",
   "execution_count": 7,
   "id": "fifth-motion",
   "metadata": {
    "execution": {
     "iopub.execute_input": "2021-10-12T19:00:09.298879Z",
     "iopub.status.busy": "2021-10-12T19:00:09.296555Z",
     "iopub.status.idle": "2021-10-12T19:00:10.777946Z",
     "shell.execute_reply": "2021-10-12T19:00:10.779227Z"
    },
    "papermill": {
     "duration": 1.514111,
     "end_time": "2021-10-12T19:00:10.779648",
     "exception": false,
     "start_time": "2021-10-12T19:00:09.265537",
     "status": "completed"
    },
    "tags": []
   },
   "outputs": [
    {
     "data": {
      "text/plain": [
       "<AxesSubplot:ylabel='PRODUCT'>"
      ]
     },
     "execution_count": 7,
     "metadata": {},
     "output_type": "execute_result"
    },
    {
     "data": {
      "image/png": "[encoded data removed]",
      "text/plain": [
       "<Figure size 432x288 with 1 Axes>"
      ]
     },
     "metadata": {
      "needs_background": "light"
     },
     "output_type": "display_data"
    }
   ],
   "source": [
    "df_pivot_diff.sort_values(\"stamp_2\", ascending = False)[\"stamp_2\"].head(10).plot.barh()"
   ]
  },
  {
   "cell_type": "code",
   "execution_count": null,
   "id": "extra-executive",
   "metadata": {
    "papermill": {
     "duration": 0.021802,
     "end_time": "2021-10-12T19:00:10.824639",
     "exception": false,
     "start_time": "2021-10-12T19:00:10.802837",
     "status": "completed"
    },
    "tags": []
   },
   "outputs": [],
   "source": []
  }
 ],
 "metadata": {
  "kernelspec": {
   "display_name": "Python 3",
   "language": "python",
   "name": "python3"
  },
  "language_info": {
   "codemirror_mode": {
    "name": "ipython",
    "version": 3
   },
   "file_extension": ".py",
   "mimetype": "text/x-python",
   "name": "python",
   "nbconvert_exporter": "python",
   "pygments_lexer": "ipython3",
   "version": "3.9.5"
  },
  "papermill": {
   "default_parameters": {},
   "duration": 7.817771,
   "end_time": "2021-10-12T19:00:12.150313",
   "environment_variables": {},
   "exception": null,
   "input_path": "eBay_Overview.ipynb",
   "output_path": "eBay_Overview.ipynb",
   "parameters": {},
   "start_time": "2021-10-12T19:00:04.332542",
   "version": "2.3.3"
  }
 },
 "nbformat": 4,
 "nbformat_minor": 5
}