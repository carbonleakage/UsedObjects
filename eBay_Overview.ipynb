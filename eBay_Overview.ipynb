{
 "cells": [
  {
   "cell_type": "code",
   "execution_count": 1,
   "id": "reverse-picking",
   "metadata": {
    "execution": {
     "iopub.execute_input": "2021-08-29T11:30:07.256286Z",
     "iopub.status.busy": "2021-08-29T11:30:07.254293Z",
     "iopub.status.idle": "2021-08-29T11:30:08.062890Z",
     "shell.execute_reply": "2021-08-29T11:30:08.061305Z"
    },
    "papermill": {
     "duration": 0.859396,
     "end_time": "2021-08-29T11:30:08.063275",
     "exception": false,
     "start_time": "2021-08-29T11:30:07.203879",
     "status": "completed"
    },
    "tags": []
   },
   "outputs": [],
   "source": [
    "import pandas as pd\n",
    "import sqlite3"
   ]
  },
  {
   "cell_type": "code",
   "execution_count": 2,
   "id": "innovative-syndrome",
   "metadata": {
    "execution": {
     "iopub.execute_input": "2021-08-29T11:30:08.114029Z",
     "iopub.status.busy": "2021-08-29T11:30:08.112085Z",
     "iopub.status.idle": "2021-08-29T11:30:08.267862Z",
     "shell.execute_reply": "2021-08-29T11:30:08.269205Z"
    },
    "papermill": {
     "duration": 0.185546,
     "end_time": "2021-08-29T11:30:08.269606",
     "exception": false,
     "start_time": "2021-08-29T11:30:08.084060",
     "status": "completed"
    },
    "tags": []
   },
   "outputs": [],
   "source": [
    "timestamps = pd.read_sql(\"select distinct record_time from EBAY_TOP_BERLIN order by record_time desc limit 2\", sqlite3.connect(\"UsedObjects.db\"))"
   ]
  },
  {
   "cell_type": "code",
   "execution_count": 3,
   "id": "periodic-identification",
   "metadata": {
    "execution": {
     "iopub.execute_input": "2021-08-29T11:30:08.335258Z",
     "iopub.status.busy": "2021-08-29T11:30:08.333260Z",
     "iopub.status.idle": "2021-08-29T11:30:08.353120Z",
     "shell.execute_reply": "2021-08-29T11:30:08.354397Z"
    },
    "papermill": {
     "duration": 0.064359,
     "end_time": "2021-08-29T11:30:08.354789",
     "exception": false,
     "start_time": "2021-08-29T11:30:08.290430",
     "status": "completed"
    },
    "tags": []
   },
   "outputs": [
    {
     "data": {
      "text/html": [
       "<div>\n",
       "<style scoped>\n",
       "    .dataframe tbody tr th:only-of-type {\n",
       "        vertical-align: middle;\n",
       "    }\n",
       "\n",
       "    .dataframe tbody tr th {\n",
       "        vertical-align: top;\n",
       "    }\n",
       "\n",
       "    .dataframe thead th {\n",
       "        text-align: right;\n",
       "    }\n",
       "</style>\n",
       "<table border=\"1\" class=\"dataframe\">\n",
       "  <thead>\n",
       "    <tr style=\"text-align: right;\">\n",
       "      <th></th>\n",
       "      <th>RECORD_TIME</th>\n",
       "    </tr>\n",
       "  </thead>\n",
       "  <tbody>\n",
       "    <tr>\n",
       "      <th>0</th>\n",
       "      <td>2021-08-29 13:30</td>\n",
       "    </tr>\n",
       "    <tr>\n",
       "      <th>1</th>\n",
       "      <td>2021-08-29 13:00</td>\n",
       "    </tr>\n",
       "  </tbody>\n",
       "</table>\n",
       "</div>"
      ],
      "text/plain": [
       "        RECORD_TIME\n",
       "0  2021-08-29 13:30\n",
       "1  2021-08-29 13:00"
      ]
     },
     "execution_count": 3,
     "metadata": {},
     "output_type": "execute_result"
    }
   ],
   "source": [
    "timestamps"
   ]
  },
  {
   "cell_type": "code",
   "execution_count": 4,
   "id": "alternate-victory",
   "metadata": {
    "execution": {
     "iopub.execute_input": "2021-08-29T11:30:08.406661Z",
     "iopub.status.busy": "2021-08-29T11:30:08.404508Z",
     "iopub.status.idle": "2021-08-29T11:30:08.640468Z",
     "shell.execute_reply": "2021-08-29T11:30:08.641708Z"
    },
    "papermill": {
     "duration": 0.266233,
     "end_time": "2021-08-29T11:30:08.642100",
     "exception": false,
     "start_time": "2021-08-29T11:30:08.375867",
     "status": "completed"
    },
    "tags": []
   },
   "outputs": [],
   "source": [
    "df = pd.read_sql(\"select * from EBAY_TOP_BERLIN where record_time in (select distinct record_time from EBAY_TOP_BERLIN order by record_time desc limit 2)\", sqlite3.connect(\"UsedObjects.db\"))"
   ]
  },
  {
   "cell_type": "code",
   "execution_count": 5,
   "id": "popular-active",
   "metadata": {
    "execution": {
     "iopub.execute_input": "2021-08-29T11:30:08.723354Z",
     "iopub.status.busy": "2021-08-29T11:30:08.710912Z",
     "iopub.status.idle": "2021-08-29T11:30:08.738724Z",
     "shell.execute_reply": "2021-08-29T11:30:08.739941Z"
    },
    "papermill": {
     "duration": 0.074673,
     "end_time": "2021-08-29T11:30:08.740387",
     "exception": false,
     "start_time": "2021-08-29T11:30:08.665714",
     "status": "completed"
    },
    "tags": []
   },
   "outputs": [],
   "source": [
    "df_pivot = df.pivot_table(index=\"PRODUCT\", columns = \"RECORD_TIME\", values = \"LISTING_COUNT\")"
   ]
  },
  {
   "cell_type": "code",
   "execution_count": 6,
   "id": "union-huntington",
   "metadata": {
    "execution": {
     "iopub.execute_input": "2021-08-29T11:30:08.796663Z",
     "iopub.status.busy": "2021-08-29T11:30:08.794571Z",
     "iopub.status.idle": "2021-08-29T11:30:08.799971Z",
     "shell.execute_reply": "2021-08-29T11:30:08.801402Z"
    },
    "papermill": {
     "duration": 0.040657,
     "end_time": "2021-08-29T11:30:08.801843",
     "exception": false,
     "start_time": "2021-08-29T11:30:08.761186",
     "status": "completed"
    },
    "tags": []
   },
   "outputs": [],
   "source": [
    "df_pivot.columns = [\"stamp_1\", \"stamp_2\"]\n",
    "df_pivot_diff = df_pivot.diff(axis=1)"
   ]
  },
  {
   "cell_type": "code",
   "execution_count": 7,
   "id": "fifth-motion",
   "metadata": {
    "execution": {
     "iopub.execute_input": "2021-08-29T11:30:08.858048Z",
     "iopub.status.busy": "2021-08-29T11:30:08.855507Z",
     "iopub.status.idle": "2021-08-29T11:30:10.367580Z",
     "shell.execute_reply": "2021-08-29T11:30:10.368841Z"
    },
    "papermill": {
     "duration": 1.545532,
     "end_time": "2021-08-29T11:30:10.369271",
     "exception": false,
     "start_time": "2021-08-29T11:30:08.823739",
     "status": "completed"
    },
    "tags": []
   },
   "outputs": [
    {
     "data": {
      "text/plain": [
       "<AxesSubplot:ylabel='PRODUCT'>"
      ]
     },
     "execution_count": 7,
     "metadata": {},
     "output_type": "execute_result"
    },
    {
     "data": {
      "image/png": "[encoded data removed]",
      "text/plain": [
       "<Figure size 432x288 with 1 Axes>"
      ]
     },
     "metadata": {
      "needs_background": "light"
     },
     "output_type": "display_data"
    }
   ],
   "source": [
    "df_pivot_diff.sort_values(\"stamp_2\", ascending = False)[\"stamp_2\"].head(10).plot.barh()"
   ]
  },
  {
   "cell_type": "code",
   "execution_count": null,
   "id": "extra-executive",
   "metadata": {
    "papermill": {
     "duration": 0.022379,
     "end_time": "2021-08-29T11:30:10.418135",
     "exception": false,
     "start_time": "2021-08-29T11:30:10.395756",
     "status": "completed"
    },
    "tags": []
   },
   "outputs": [],
   "source": []
  }
 ],
 "metadata": {
  "kernelspec": {
   "display_name": "Python 3",
   "language": "python",
   "name": "python3"
  },
  "language_info": {
   "codemirror_mode": {
    "name": "ipython",
    "version": 3
   },
   "file_extension": ".py",
   "mimetype": "text/x-python",
   "name": "python",
   "nbconvert_exporter": "python",
   "pygments_lexer": "ipython3",
   "version": "3.9.5"
  },
  "papermill": {
   "default_parameters": {},
   "duration": 6.818217,
   "end_time": "2021-08-29T11:30:11.618201",
   "environment_variables": {},
   "exception": null,
   "input_path": "eBay_Overview.ipynb",
   "output_path": "eBay_Overview.ipynb",
   "parameters": {},
   "start_time": "2021-08-29T11:30:04.799984",
   "version": "2.3.3"
  }
 },
 "nbformat": 4,
 "nbformat_minor": 5
}