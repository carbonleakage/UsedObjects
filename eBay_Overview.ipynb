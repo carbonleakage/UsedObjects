{
 "cells": [
  {
   "cell_type": "code",
   "execution_count": 1,
   "id": "reverse-picking",
   "metadata": {
    "execution": {
     "iopub.execute_input": "2021-10-16T18:00:06.670653Z",
     "iopub.status.busy": "2021-10-16T18:00:06.668630Z",
     "iopub.status.idle": "2021-10-16T18:00:07.477879Z",
     "shell.execute_reply": "2021-10-16T18:00:07.476071Z"
    },
    "papermill": {
     "duration": 0.858911,
     "end_time": "2021-10-16T18:00:07.478314",
     "exception": false,
     "start_time": "2021-10-16T18:00:06.619403",
     "status": "completed"
    },
    "tags": []
   },
   "outputs": [],
   "source": [
    "import pandas as pd\n",
    "import sqlite3"
   ]
  },
  {
   "cell_type": "code",
   "execution_count": 2,
   "id": "innovative-syndrome",
   "metadata": {
    "execution": {
     "iopub.execute_input": "2021-10-16T18:00:07.530472Z",
     "iopub.status.busy": "2021-10-16T18:00:07.528130Z",
     "iopub.status.idle": "2021-10-16T18:00:08.083688Z",
     "shell.execute_reply": "2021-10-16T18:00:08.085003Z"
    },
    "papermill": {
     "duration": 0.585581,
     "end_time": "2021-10-16T18:00:08.085467",
     "exception": false,
     "start_time": "2021-10-16T18:00:07.499886",
     "status": "completed"
    },
    "tags": []
   },
   "outputs": [],
   "source": [
    "timestamps = pd.read_sql(\"select distinct record_time from EBAY_TOP_BERLIN order by record_time desc limit 2\", sqlite3.connect(\"UsedObjects.db\"))"
   ]
  },
  {
   "cell_type": "code",
   "execution_count": 3,
   "id": "periodic-identification",
   "metadata": {
    "execution": {
     "iopub.execute_input": "2021-10-16T18:00:08.159372Z",
     "iopub.status.busy": "2021-10-16T18:00:08.157349Z",
     "iopub.status.idle": "2021-10-16T18:00:08.177410Z",
     "shell.execute_reply": "2021-10-16T18:00:08.179208Z"
    },
    "papermill": {
     "duration": 0.069207,
     "end_time": "2021-10-16T18:00:08.179748",
     "exception": false,
     "start_time": "2021-10-16T18:00:08.110541",
     "status": "completed"
    },
    "tags": []
   },
   "outputs": [
    {
     "data": {
      "text/html": [
       "<div>\n",
       "<style scoped>\n",
       "    .dataframe tbody tr th:only-of-type {\n",
       "        vertical-align: middle;\n",
       "    }\n",
       "\n",
       "    .dataframe tbody tr th {\n",
       "        vertical-align: top;\n",
       "    }\n",
       "\n",
       "    .dataframe thead th {\n",
       "        text-align: right;\n",
       "    }\n",
       "</style>\n",
       "<table border=\"1\" class=\"dataframe\">\n",
       "  <thead>\n",
       "    <tr style=\"text-align: right;\">\n",
       "      <th></th>\n",
       "      <th>RECORD_TIME</th>\n",
       "    </tr>\n",
       "  </thead>\n",
       "  <tbody>\n",
       "    <tr>\n",
       "      <th>0</th>\n",
       "      <td>2021-10-16 20:00</td>\n",
       "    </tr>\n",
       "    <tr>\n",
       "      <th>1</th>\n",
       "      <td>2021-10-16 19:30</td>\n",
       "    </tr>\n",
       "  </tbody>\n",
       "</table>\n",
       "</div>"
      ],
      "text/plain": [
       "        RECORD_TIME\n",
       "0  2021-10-16 20:00\n",
       "1  2021-10-16 19:30"
      ]
     },
     "execution_count": 3,
     "metadata": {},
     "output_type": "execute_result"
    }
   ],
   "source": [
    "timestamps"
   ]
  },
  {
   "cell_type": "code",
   "execution_count": 4,
   "id": "alternate-victory",
   "metadata": {
    "execution": {
     "iopub.execute_input": "2021-10-16T18:00:08.232650Z",
     "iopub.status.busy": "2021-10-16T18:00:08.230825Z",
     "iopub.status.idle": "2021-10-16T18:00:09.043342Z",
     "shell.execute_reply": "2021-10-16T18:00:09.044559Z"
    },
    "papermill": {
     "duration": 0.84268,
     "end_time": "2021-10-16T18:00:09.045030",
     "exception": false,
     "start_time": "2021-10-16T18:00:08.202350",
     "status": "completed"
    },
    "tags": []
   },
   "outputs": [],
   "source": [
    "df = pd.read_sql(\"select * from EBAY_TOP_BERLIN where record_time in (select distinct record_time from EBAY_TOP_BERLIN order by record_time desc limit 2)\", sqlite3.connect(\"UsedObjects.db\"))"
   ]
  },
  {
   "cell_type": "code",
   "execution_count": 5,
   "id": "popular-active",
   "metadata": {
    "execution": {
     "iopub.execute_input": "2021-10-16T18:00:09.118588Z",
     "iopub.status.busy": "2021-10-16T18:00:09.106002Z",
     "iopub.status.idle": "2021-10-16T18:00:09.134321Z",
     "shell.execute_reply": "2021-10-16T18:00:09.135532Z"
    },
    "papermill": {
     "duration": 0.067985,
     "end_time": "2021-10-16T18:00:09.135929",
     "exception": false,
     "start_time": "2021-10-16T18:00:09.067944",
     "status": "completed"
    },
    "tags": []
   },
   "outputs": [],
   "source": [
    "df_pivot = df.pivot_table(index=\"PRODUCT\", columns = \"RECORD_TIME\", values = \"LISTING_COUNT\")"
   ]
  },
  {
   "cell_type": "code",
   "execution_count": 6,
   "id": "union-huntington",
   "metadata": {
    "execution": {
     "iopub.execute_input": "2021-10-16T18:00:09.193418Z",
     "iopub.status.busy": "2021-10-16T18:00:09.191190Z",
     "iopub.status.idle": "2021-10-16T18:00:09.196642Z",
     "shell.execute_reply": "2021-10-16T18:00:09.198288Z"
    },
    "papermill": {
     "duration": 0.041293,
     "end_time": "2021-10-16T18:00:09.198824",
     "exception": false,
     "start_time": "2021-10-16T18:00:09.157531",
     "status": "completed"
    },
    "tags": []
   },
   "outputs": [],
   "source": [
    "df_pivot.columns = [\"stamp_1\", \"stamp_2\"]\n",
    "df_pivot_diff = df_pivot.diff(axis=1)"
   ]
  },
  {
   "cell_type": "code",
   "execution_count": 7,
   "id": "fifth-motion",
   "metadata": {
    "execution": {
     "iopub.execute_input": "2021-10-16T18:00:09.253758Z",
     "iopub.status.busy": "2021-10-16T18:00:09.251002Z",
     "iopub.status.idle": "2021-10-16T18:00:10.767910Z",
     "shell.execute_reply": "2021-10-16T18:00:10.769281Z"
    },
    "papermill": {
     "duration": 1.550726,
     "end_time": "2021-10-16T18:00:10.769710",
     "exception": false,
     "start_time": "2021-10-16T18:00:09.218984",
     "status": "completed"
    },
    "tags": []
   },
   "outputs": [
    {
     "data": {
      "text/plain": [
       "<AxesSubplot:ylabel='PRODUCT'>"
      ]
     },
     "execution_count": 7,
     "metadata": {},
     "output_type": "execute_result"
    },
    {
     "data": {
      "image/png": "[encoded data removed]",
      "text/plain": [
       "<Figure size 432x288 with 1 Axes>"
      ]
     },
     "metadata": {
      "needs_background": "light"
     },
     "output_type": "display_data"
    }
   ],
   "source": [
    "df_pivot_diff.sort_values(\"stamp_2\", ascending = False)[\"stamp_2\"].head(10).plot.barh()"
   ]
  },
  {
   "cell_type": "code",
   "execution_count": null,
   "id": "extra-executive",
   "metadata": {
    "papermill": {
     "duration": 0.022127,
     "end_time": "2021-10-16T18:00:10.815585",
     "exception": false,
     "start_time": "2021-10-16T18:00:10.793458",
     "status": "completed"
    },
    "tags": []
   },
   "outputs": [],
   "source": []
  }
 ],
 "metadata": {
  "kernelspec": {
   "display_name": "Python 3",
   "language": "python",
   "name": "python3"
  },
  "language_info": {
   "codemirror_mode": {
    "name": "ipython",
    "version": 3
   },
   "file_extension": ".py",
   "mimetype": "text/x-python",
   "name": "python",
   "nbconvert_exporter": "python",
   "pygments_lexer": "ipython3",
   "version": "3.9.5"
  },
  "papermill": {
   "default_parameters": {},
   "duration": 7.825571,
   "end_time": "2021-10-16T18:00:12.033719",
   "environment_variables": {},
   "exception": null,
   "input_path": "eBay_Overview.ipynb",
   "output_path": "eBay_Overview.ipynb",
   "parameters": {},
   "start_time": "2021-10-16T18:00:04.208148",
   "version": "2.3.3"
  }
 },
 "nbformat": 4,
 "nbformat_minor": 5
}