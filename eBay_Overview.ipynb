{
 "cells": [
  {
   "cell_type": "code",
   "execution_count": 1,
   "id": "reverse-picking",
   "metadata": {
    "execution": {
     "iopub.execute_input": "2021-10-22T06:00:07.022477Z",
     "iopub.status.busy": "2021-10-22T06:00:07.020457Z",
     "iopub.status.idle": "2021-10-22T06:00:07.825792Z",
     "shell.execute_reply": "2021-10-22T06:00:07.827056Z"
    },
    "papermill": {
     "duration": 0.857335,
     "end_time": "2021-10-22T06:00:07.827682",
     "exception": false,
     "start_time": "2021-10-22T06:00:06.970347",
     "status": "completed"
    },
    "tags": []
   },
   "outputs": [],
   "source": [
    "import pandas as pd\n",
    "import sqlite3"
   ]
  },
  {
   "cell_type": "code",
   "execution_count": 2,
   "id": "innovative-syndrome",
   "metadata": {
    "execution": {
     "iopub.execute_input": "2021-10-22T06:00:07.878960Z",
     "iopub.status.busy": "2021-10-22T06:00:07.877073Z",
     "iopub.status.idle": "2021-10-22T06:00:08.502243Z",
     "shell.execute_reply": "2021-10-22T06:00:08.503445Z"
    },
    "papermill": {
     "duration": 0.654557,
     "end_time": "2021-10-22T06:00:08.503840",
     "exception": false,
     "start_time": "2021-10-22T06:00:07.849283",
     "status": "completed"
    },
    "tags": []
   },
   "outputs": [],
   "source": [
    "timestamps = pd.read_sql(\"select distinct record_time from EBAY_TOP_BERLIN order by record_time desc limit 2\", sqlite3.connect(\"UsedObjects.db\"))"
   ]
  },
  {
   "cell_type": "code",
   "execution_count": 3,
   "id": "periodic-identification",
   "metadata": {
    "execution": {
     "iopub.execute_input": "2021-10-22T06:00:08.578503Z",
     "iopub.status.busy": "2021-10-22T06:00:08.576300Z",
     "iopub.status.idle": "2021-10-22T06:00:08.596988Z",
     "shell.execute_reply": "2021-10-22T06:00:08.598848Z"
    },
    "papermill": {
     "duration": 0.068192,
     "end_time": "2021-10-22T06:00:08.599386",
     "exception": false,
     "start_time": "2021-10-22T06:00:08.531194",
     "status": "completed"
    },
    "tags": []
   },
   "outputs": [
    {
     "data": {
      "text/html": [
       "<div>\n",
       "<style scoped>\n",
       "    .dataframe tbody tr th:only-of-type {\n",
       "        vertical-align: middle;\n",
       "    }\n",
       "\n",
       "    .dataframe tbody tr th {\n",
       "        vertical-align: top;\n",
       "    }\n",
       "\n",
       "    .dataframe thead th {\n",
       "        text-align: right;\n",
       "    }\n",
       "</style>\n",
       "<table border=\"1\" class=\"dataframe\">\n",
       "  <thead>\n",
       "    <tr style=\"text-align: right;\">\n",
       "      <th></th>\n",
       "      <th>RECORD_TIME</th>\n",
       "    </tr>\n",
       "  </thead>\n",
       "  <tbody>\n",
       "    <tr>\n",
       "      <th>0</th>\n",
       "      <td>2021-10-22 08:00</td>\n",
       "    </tr>\n",
       "    <tr>\n",
       "      <th>1</th>\n",
       "      <td>2021-10-22 07:30</td>\n",
       "    </tr>\n",
       "  </tbody>\n",
       "</table>\n",
       "</div>"
      ],
      "text/plain": [
       "        RECORD_TIME\n",
       "0  2021-10-22 08:00\n",
       "1  2021-10-22 07:30"
      ]
     },
     "execution_count": 3,
     "metadata": {},
     "output_type": "execute_result"
    }
   ],
   "source": [
    "timestamps"
   ]
  },
  {
   "cell_type": "code",
   "execution_count": 4,
   "id": "alternate-victory",
   "metadata": {
    "execution": {
     "iopub.execute_input": "2021-10-22T06:00:08.652723Z",
     "iopub.status.busy": "2021-10-22T06:00:08.650751Z",
     "iopub.status.idle": "2021-10-22T06:00:09.557138Z",
     "shell.execute_reply": "2021-10-22T06:00:09.558446Z"
    },
    "papermill": {
     "duration": 0.9367,
     "end_time": "2021-10-22T06:00:09.558901",
     "exception": false,
     "start_time": "2021-10-22T06:00:08.622201",
     "status": "completed"
    },
    "tags": []
   },
   "outputs": [],
   "source": [
    "df = pd.read_sql(\"select * from EBAY_TOP_BERLIN where record_time in (select distinct record_time from EBAY_TOP_BERLIN order by record_time desc limit 2)\", sqlite3.connect(\"UsedObjects.db\"))"
   ]
  },
  {
   "cell_type": "code",
   "execution_count": 5,
   "id": "popular-active",
   "metadata": {
    "execution": {
     "iopub.execute_input": "2021-10-22T06:00:09.630435Z",
     "iopub.status.busy": "2021-10-22T06:00:09.618610Z",
     "iopub.status.idle": "2021-10-22T06:00:09.646073Z",
     "shell.execute_reply": "2021-10-22T06:00:09.647292Z"
    },
    "papermill": {
     "duration": 0.067665,
     "end_time": "2021-10-22T06:00:09.647688",
     "exception": false,
     "start_time": "2021-10-22T06:00:09.580023",
     "status": "completed"
    },
    "tags": []
   },
   "outputs": [],
   "source": [
    "df_pivot = df.pivot_table(index=\"PRODUCT\", columns = \"RECORD_TIME\", values = \"LISTING_COUNT\")"
   ]
  },
  {
   "cell_type": "code",
   "execution_count": 6,
   "id": "union-huntington",
   "metadata": {
    "execution": {
     "iopub.execute_input": "2021-10-22T06:00:09.707707Z",
     "iopub.status.busy": "2021-10-22T06:00:09.705247Z",
     "iopub.status.idle": "2021-10-22T06:00:09.711003Z",
     "shell.execute_reply": "2021-10-22T06:00:09.712271Z"
    },
    "papermill": {
     "duration": 0.041854,
     "end_time": "2021-10-22T06:00:09.712734",
     "exception": false,
     "start_time": "2021-10-22T06:00:09.670880",
     "status": "completed"
    },
    "tags": []
   },
   "outputs": [],
   "source": [
    "df_pivot.columns = [\"stamp_1\", \"stamp_2\"]\n",
    "df_pivot_diff = df_pivot.diff(axis=1)"
   ]
  },
  {
   "cell_type": "code",
   "execution_count": 7,
   "id": "fifth-motion",
   "metadata": {
    "execution": {
     "iopub.execute_input": "2021-10-22T06:00:09.767393Z",
     "iopub.status.busy": "2021-10-22T06:00:09.765112Z",
     "iopub.status.idle": "2021-10-22T06:00:11.257038Z",
     "shell.execute_reply": "2021-10-22T06:00:11.258238Z"
    },
    "papermill": {
     "duration": 1.52518,
     "end_time": "2021-10-22T06:00:11.258668",
     "exception": false,
     "start_time": "2021-10-22T06:00:09.733488",
     "status": "completed"
    },
    "tags": []
   },
   "outputs": [
    {
     "data": {
      "text/plain": [
       "<AxesSubplot:ylabel='PRODUCT'>"
      ]
     },
     "execution_count": 7,
     "metadata": {},
     "output_type": "execute_result"
    },
    {
     "data": {
      "image/png": "[encoded data removed]",
      "text/plain": [
       "<Figure size 432x288 with 1 Axes>"
      ]
     },
     "metadata": {
      "needs_background": "light"
     },
     "output_type": "display_data"
    }
   ],
   "source": [
    "df_pivot_diff.sort_values(\"stamp_2\", ascending = False)[\"stamp_2\"].head(10).plot.barh()"
   ]
  },
  {
   "cell_type": "code",
   "execution_count": null,
   "id": "extra-executive",
   "metadata": {
    "papermill": {
     "duration": 0.022327,
     "end_time": "2021-10-22T06:00:11.305032",
     "exception": false,
     "start_time": "2021-10-22T06:00:11.282705",
     "status": "completed"
    },
    "tags": []
   },
   "outputs": [],
   "source": []
  }
 ],
 "metadata": {
  "kernelspec": {
   "display_name": "Python 3",
   "language": "python",
   "name": "python3"
  },
  "language_info": {
   "codemirror_mode": {
    "name": "ipython",
    "version": 3
   },
   "file_extension": ".py",
   "mimetype": "text/x-python",
   "name": "python",
   "nbconvert_exporter": "python",
   "pygments_lexer": "ipython3",
   "version": "3.9.5"
  },
  "papermill": {
   "default_parameters": {},
   "duration": 7.388613,
   "end_time": "2021-10-22T06:00:11.948504",
   "environment_variables": {},
   "exception": null,
   "input_path": "eBay_Overview.ipynb",
   "output_path": "eBay_Overview.ipynb",
   "parameters": {},
   "start_time": "2021-10-22T06:00:04.559891",
   "version": "2.3.3"
  }
 },
 "nbformat": 4,
 "nbformat_minor": 5
}