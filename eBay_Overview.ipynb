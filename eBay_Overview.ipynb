{
 "cells": [
  {
   "cell_type": "code",
   "execution_count": 1,
   "id": "reverse-picking",
   "metadata": {
    "execution": {
     "iopub.execute_input": "2021-08-31T22:30:07.097095Z",
     "iopub.status.busy": "2021-08-31T22:30:07.095028Z",
     "iopub.status.idle": "2021-08-31T22:30:07.905488Z",
     "shell.execute_reply": "2021-08-31T22:30:07.903618Z"
    },
    "papermill": {
     "duration": 0.85967,
     "end_time": "2021-08-31T22:30:07.905927",
     "exception": false,
     "start_time": "2021-08-31T22:30:07.046257",
     "status": "completed"
    },
    "tags": []
   },
   "outputs": [],
   "source": [
    "import pandas as pd\n",
    "import sqlite3"
   ]
  },
  {
   "cell_type": "code",
   "execution_count": 2,
   "id": "innovative-syndrome",
   "metadata": {
    "execution": {
     "iopub.execute_input": "2021-08-31T22:30:07.956893Z",
     "iopub.status.busy": "2021-08-31T22:30:07.954441Z",
     "iopub.status.idle": "2021-08-31T22:30:08.130119Z",
     "shell.execute_reply": "2021-08-31T22:30:08.131508Z"
    },
    "papermill": {
     "duration": 0.205722,
     "end_time": "2021-08-31T22:30:08.131955",
     "exception": false,
     "start_time": "2021-08-31T22:30:07.926233",
     "status": "completed"
    },
    "tags": []
   },
   "outputs": [],
   "source": [
    "timestamps = pd.read_sql(\"select distinct record_time from EBAY_TOP_BERLIN order by record_time desc limit 2\", sqlite3.connect(\"UsedObjects.db\"))"
   ]
  },
  {
   "cell_type": "code",
   "execution_count": 3,
   "id": "periodic-identification",
   "metadata": {
    "execution": {
     "iopub.execute_input": "2021-08-31T22:30:08.196782Z",
     "iopub.status.busy": "2021-08-31T22:30:08.194705Z",
     "iopub.status.idle": "2021-08-31T22:30:08.217665Z",
     "shell.execute_reply": "2021-08-31T22:30:08.219116Z"
    },
    "papermill": {
     "duration": 0.068432,
     "end_time": "2021-08-31T22:30:08.219612",
     "exception": false,
     "start_time": "2021-08-31T22:30:08.151180",
     "status": "completed"
    },
    "tags": []
   },
   "outputs": [
    {
     "data": {
      "text/html": [
       "<div>\n",
       "<style scoped>\n",
       "    .dataframe tbody tr th:only-of-type {\n",
       "        vertical-align: middle;\n",
       "    }\n",
       "\n",
       "    .dataframe tbody tr th {\n",
       "        vertical-align: top;\n",
       "    }\n",
       "\n",
       "    .dataframe thead th {\n",
       "        text-align: right;\n",
       "    }\n",
       "</style>\n",
       "<table border=\"1\" class=\"dataframe\">\n",
       "  <thead>\n",
       "    <tr style=\"text-align: right;\">\n",
       "      <th></th>\n",
       "      <th>RECORD_TIME</th>\n",
       "    </tr>\n",
       "  </thead>\n",
       "  <tbody>\n",
       "    <tr>\n",
       "      <th>0</th>\n",
       "      <td>2021-09-01 00:30</td>\n",
       "    </tr>\n",
       "    <tr>\n",
       "      <th>1</th>\n",
       "      <td>2021-09-01 00:00</td>\n",
       "    </tr>\n",
       "  </tbody>\n",
       "</table>\n",
       "</div>"
      ],
      "text/plain": [
       "        RECORD_TIME\n",
       "0  2021-09-01 00:30\n",
       "1  2021-09-01 00:00"
      ]
     },
     "execution_count": 3,
     "metadata": {},
     "output_type": "execute_result"
    }
   ],
   "source": [
    "timestamps"
   ]
  },
  {
   "cell_type": "code",
   "execution_count": 4,
   "id": "alternate-victory",
   "metadata": {
    "execution": {
     "iopub.execute_input": "2021-08-31T22:30:08.271788Z",
     "iopub.status.busy": "2021-08-31T22:30:08.269834Z",
     "iopub.status.idle": "2021-08-31T22:30:08.528123Z",
     "shell.execute_reply": "2021-08-31T22:30:08.529335Z"
    },
    "papermill": {
     "duration": 0.287759,
     "end_time": "2021-08-31T22:30:08.529737",
     "exception": false,
     "start_time": "2021-08-31T22:30:08.241978",
     "status": "completed"
    },
    "tags": []
   },
   "outputs": [],
   "source": [
    "df = pd.read_sql(\"select * from EBAY_TOP_BERLIN where record_time in (select distinct record_time from EBAY_TOP_BERLIN order by record_time desc limit 2)\", sqlite3.connect(\"UsedObjects.db\"))"
   ]
  },
  {
   "cell_type": "code",
   "execution_count": 5,
   "id": "popular-active",
   "metadata": {
    "execution": {
     "iopub.execute_input": "2021-08-31T22:30:08.619225Z",
     "iopub.status.busy": "2021-08-31T22:30:08.607109Z",
     "iopub.status.idle": "2021-08-31T22:30:08.634569Z",
     "shell.execute_reply": "2021-08-31T22:30:08.635865Z"
    },
    "papermill": {
     "duration": 0.073281,
     "end_time": "2021-08-31T22:30:08.636272",
     "exception": false,
     "start_time": "2021-08-31T22:30:08.562991",
     "status": "completed"
    },
    "tags": []
   },
   "outputs": [],
   "source": [
    "df_pivot = df.pivot_table(index=\"PRODUCT\", columns = \"RECORD_TIME\", values = \"LISTING_COUNT\")"
   ]
  },
  {
   "cell_type": "code",
   "execution_count": 6,
   "id": "union-huntington",
   "metadata": {
    "execution": {
     "iopub.execute_input": "2021-08-31T22:30:08.692819Z",
     "iopub.status.busy": "2021-08-31T22:30:08.690607Z",
     "iopub.status.idle": "2021-08-31T22:30:08.696174Z",
     "shell.execute_reply": "2021-08-31T22:30:08.697451Z"
    },
    "papermill": {
     "duration": 0.040383,
     "end_time": "2021-08-31T22:30:08.697901",
     "exception": false,
     "start_time": "2021-08-31T22:30:08.657518",
     "status": "completed"
    },
    "tags": []
   },
   "outputs": [],
   "source": [
    "df_pivot.columns = [\"stamp_1\", \"stamp_2\"]\n",
    "df_pivot_diff = df_pivot.diff(axis=1)"
   ]
  },
  {
   "cell_type": "code",
   "execution_count": 7,
   "id": "fifth-motion",
   "metadata": {
    "execution": {
     "iopub.execute_input": "2021-08-31T22:30:08.754667Z",
     "iopub.status.busy": "2021-08-31T22:30:08.752060Z",
     "iopub.status.idle": "2021-08-31T22:30:10.207054Z",
     "shell.execute_reply": "2021-08-31T22:30:10.208605Z"
    },
    "papermill": {
     "duration": 1.488476,
     "end_time": "2021-08-31T22:30:10.209069",
     "exception": false,
     "start_time": "2021-08-31T22:30:08.720593",
     "status": "completed"
    },
    "tags": []
   },
   "outputs": [
    {
     "data": {
      "text/plain": [
       "<AxesSubplot:ylabel='PRODUCT'>"
      ]
     },
     "execution_count": 7,
     "metadata": {},
     "output_type": "execute_result"
    },
    {
     "data": {
      "image/png": "[encoded data removed]",
      "text/plain": [
       "<Figure size 432x288 with 1 Axes>"
      ]
     },
     "metadata": {
      "needs_background": "light"
     },
     "output_type": "display_data"
    }
   ],
   "source": [
    "df_pivot_diff.sort_values(\"stamp_2\", ascending = False)[\"stamp_2\"].head(10).plot.barh()"
   ]
  },
  {
   "cell_type": "code",
   "execution_count": null,
   "id": "extra-executive",
   "metadata": {
    "papermill": {
     "duration": 0.021884,
     "end_time": "2021-08-31T22:30:10.255075",
     "exception": false,
     "start_time": "2021-08-31T22:30:10.233191",
     "status": "completed"
    },
    "tags": []
   },
   "outputs": [],
   "source": []
  }
 ],
 "metadata": {
  "kernelspec": {
   "display_name": "Python 3",
   "language": "python",
   "name": "python3"
  },
  "language_info": {
   "codemirror_mode": {
    "name": "ipython",
    "version": 3
   },
   "file_extension": ".py",
   "mimetype": "text/x-python",
   "name": "python",
   "nbconvert_exporter": "python",
   "pygments_lexer": "ipython3",
   "version": "3.9.5"
  },
  "papermill": {
   "default_parameters": {},
   "duration": 6.8191,
   "end_time": "2021-08-31T22:30:11.462631",
   "environment_variables": {},
   "exception": null,
   "input_path": "eBay_Overview.ipynb",
   "output_path": "eBay_Overview.ipynb",
   "parameters": {},
   "start_time": "2021-08-31T22:30:04.643531",
   "version": "2.3.3"
  }
 },
 "nbformat": 4,
 "nbformat_minor": 5
}