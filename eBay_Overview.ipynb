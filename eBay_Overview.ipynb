{
 "cells": [
  {
   "cell_type": "code",
   "execution_count": 1,
   "id": "reverse-picking",
   "metadata": {
    "execution": {
     "iopub.execute_input": "2021-10-19T18:30:07.141204Z",
     "iopub.status.busy": "2021-10-19T18:30:07.139191Z",
     "iopub.status.idle": "2021-10-19T18:30:07.949264Z",
     "shell.execute_reply": "2021-10-19T18:30:07.950606Z"
    },
    "papermill": {
     "duration": 0.861725,
     "end_time": "2021-10-19T18:30:07.951238",
     "exception": false,
     "start_time": "2021-10-19T18:30:07.089513",
     "status": "completed"
    },
    "tags": []
   },
   "outputs": [],
   "source": [
    "import pandas as pd\n",
    "import sqlite3"
   ]
  },
  {
   "cell_type": "code",
   "execution_count": 2,
   "id": "innovative-syndrome",
   "metadata": {
    "execution": {
     "iopub.execute_input": "2021-10-19T18:30:08.000827Z",
     "iopub.status.busy": "2021-10-19T18:30:07.998885Z",
     "iopub.status.idle": "2021-10-19T18:30:08.585707Z",
     "shell.execute_reply": "2021-10-19T18:30:08.586978Z"
    },
    "papermill": {
     "duration": 0.616177,
     "end_time": "2021-10-19T18:30:08.587374",
     "exception": false,
     "start_time": "2021-10-19T18:30:07.971197",
     "status": "completed"
    },
    "tags": []
   },
   "outputs": [],
   "source": [
    "timestamps = pd.read_sql(\"select distinct record_time from EBAY_TOP_BERLIN order by record_time desc limit 2\", sqlite3.connect(\"UsedObjects.db\"))"
   ]
  },
  {
   "cell_type": "code",
   "execution_count": 3,
   "id": "periodic-identification",
   "metadata": {
    "execution": {
     "iopub.execute_input": "2021-10-19T18:30:08.661779Z",
     "iopub.status.busy": "2021-10-19T18:30:08.659674Z",
     "iopub.status.idle": "2021-10-19T18:30:08.679526Z",
     "shell.execute_reply": "2021-10-19T18:30:08.680929Z"
    },
    "papermill": {
     "duration": 0.069187,
     "end_time": "2021-10-19T18:30:08.681375",
     "exception": false,
     "start_time": "2021-10-19T18:30:08.612188",
     "status": "completed"
    },
    "tags": []
   },
   "outputs": [
    {
     "data": {
      "text/html": [
       "<div>\n",
       "<style scoped>\n",
       "    .dataframe tbody tr th:only-of-type {\n",
       "        vertical-align: middle;\n",
       "    }\n",
       "\n",
       "    .dataframe tbody tr th {\n",
       "        vertical-align: top;\n",
       "    }\n",
       "\n",
       "    .dataframe thead th {\n",
       "        text-align: right;\n",
       "    }\n",
       "</style>\n",
       "<table border=\"1\" class=\"dataframe\">\n",
       "  <thead>\n",
       "    <tr style=\"text-align: right;\">\n",
       "      <th></th>\n",
       "      <th>RECORD_TIME</th>\n",
       "    </tr>\n",
       "  </thead>\n",
       "  <tbody>\n",
       "    <tr>\n",
       "      <th>0</th>\n",
       "      <td>2021-10-19 20:30</td>\n",
       "    </tr>\n",
       "    <tr>\n",
       "      <th>1</th>\n",
       "      <td>2021-10-19 20:00</td>\n",
       "    </tr>\n",
       "  </tbody>\n",
       "</table>\n",
       "</div>"
      ],
      "text/plain": [
       "        RECORD_TIME\n",
       "0  2021-10-19 20:30\n",
       "1  2021-10-19 20:00"
      ]
     },
     "execution_count": 3,
     "metadata": {},
     "output_type": "execute_result"
    }
   ],
   "source": [
    "timestamps"
   ]
  },
  {
   "cell_type": "code",
   "execution_count": 4,
   "id": "alternate-victory",
   "metadata": {
    "execution": {
     "iopub.execute_input": "2021-10-19T18:30:08.735375Z",
     "iopub.status.busy": "2021-10-19T18:30:08.733360Z",
     "iopub.status.idle": "2021-10-19T18:30:09.566147Z",
     "shell.execute_reply": "2021-10-19T18:30:09.567453Z"
    },
    "papermill": {
     "duration": 0.863378,
     "end_time": "2021-10-19T18:30:09.567899",
     "exception": false,
     "start_time": "2021-10-19T18:30:08.704521",
     "status": "completed"
    },
    "tags": []
   },
   "outputs": [],
   "source": [
    "df = pd.read_sql(\"select * from EBAY_TOP_BERLIN where record_time in (select distinct record_time from EBAY_TOP_BERLIN order by record_time desc limit 2)\", sqlite3.connect(\"UsedObjects.db\"))"
   ]
  },
  {
   "cell_type": "code",
   "execution_count": 5,
   "id": "popular-active",
   "metadata": {
    "execution": {
     "iopub.execute_input": "2021-10-19T18:30:09.640848Z",
     "iopub.status.busy": "2021-10-19T18:30:09.628996Z",
     "iopub.status.idle": "2021-10-19T18:30:09.658754Z",
     "shell.execute_reply": "2021-10-19T18:30:09.660126Z"
    },
    "papermill": {
     "duration": 0.070448,
     "end_time": "2021-10-19T18:30:09.660554",
     "exception": false,
     "start_time": "2021-10-19T18:30:09.590106",
     "status": "completed"
    },
    "tags": []
   },
   "outputs": [],
   "source": [
    "df_pivot = df.pivot_table(index=\"PRODUCT\", columns = \"RECORD_TIME\", values = \"LISTING_COUNT\")"
   ]
  },
  {
   "cell_type": "code",
   "execution_count": 6,
   "id": "union-huntington",
   "metadata": {
    "execution": {
     "iopub.execute_input": "2021-10-19T18:30:09.719930Z",
     "iopub.status.busy": "2021-10-19T18:30:09.717496Z",
     "iopub.status.idle": "2021-10-19T18:30:09.723096Z",
     "shell.execute_reply": "2021-10-19T18:30:09.724287Z"
    },
    "papermill": {
     "duration": 0.041811,
     "end_time": "2021-10-19T18:30:09.724747",
     "exception": false,
     "start_time": "2021-10-19T18:30:09.682936",
     "status": "completed"
    },
    "tags": []
   },
   "outputs": [],
   "source": [
    "df_pivot.columns = [\"stamp_1\", \"stamp_2\"]\n",
    "df_pivot_diff = df_pivot.diff(axis=1)"
   ]
  },
  {
   "cell_type": "code",
   "execution_count": 7,
   "id": "fifth-motion",
   "metadata": {
    "execution": {
     "iopub.execute_input": "2021-10-19T18:30:09.778456Z",
     "iopub.status.busy": "2021-10-19T18:30:09.776002Z",
     "iopub.status.idle": "2021-10-19T18:30:11.247564Z",
     "shell.execute_reply": "2021-10-19T18:30:11.248916Z"
    },
    "papermill": {
     "duration": 1.504685,
     "end_time": "2021-10-19T18:30:11.249335",
     "exception": false,
     "start_time": "2021-10-19T18:30:09.744650",
     "status": "completed"
    },
    "tags": []
   },
   "outputs": [
    {
     "data": {
      "text/plain": [
       "<AxesSubplot:ylabel='PRODUCT'>"
      ]
     },
     "execution_count": 7,
     "metadata": {},
     "output_type": "execute_result"
    },
    {
     "data": {
      "image/png": "[encoded data removed]",
      "text/plain": [
       "<Figure size 432x288 with 1 Axes>"
      ]
     },
     "metadata": {
      "needs_background": "light"
     },
     "output_type": "display_data"
    }
   ],
   "source": [
    "df_pivot_diff.sort_values(\"stamp_2\", ascending = False)[\"stamp_2\"].head(10).plot.barh()"
   ]
  },
  {
   "cell_type": "code",
   "execution_count": null,
   "id": "extra-executive",
   "metadata": {
    "papermill": {
     "duration": 0.021818,
     "end_time": "2021-10-19T18:30:11.294723",
     "exception": false,
     "start_time": "2021-10-19T18:30:11.272905",
     "status": "completed"
    },
    "tags": []
   },
   "outputs": [],
   "source": []
  }
 ],
 "metadata": {
  "kernelspec": {
   "display_name": "Python 3",
   "language": "python",
   "name": "python3"
  },
  "language_info": {
   "codemirror_mode": {
    "name": "ipython",
    "version": 3
   },
   "file_extension": ".py",
   "mimetype": "text/x-python",
   "name": "python",
   "nbconvert_exporter": "python",
   "pygments_lexer": "ipython3",
   "version": "3.9.5"
  },
  "papermill": {
   "default_parameters": {},
   "duration": 7.821983,
   "end_time": "2021-10-19T18:30:12.505826",
   "environment_variables": {},
   "exception": null,
   "input_path": "eBay_Overview.ipynb",
   "output_path": "eBay_Overview.ipynb",
   "parameters": {},
   "start_time": "2021-10-19T18:30:04.683843",
   "version": "2.3.3"
  }
 },
 "nbformat": 4,
 "nbformat_minor": 5
}