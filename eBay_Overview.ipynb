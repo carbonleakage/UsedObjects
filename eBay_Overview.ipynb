{
 "cells": [
  {
   "cell_type": "code",
   "execution_count": 1,
   "id": "reverse-picking",
   "metadata": {
    "execution": {
     "iopub.execute_input": "2021-09-11T12:30:07.377151Z",
     "iopub.status.busy": "2021-09-11T12:30:07.375102Z",
     "iopub.status.idle": "2021-09-11T12:30:08.185249Z",
     "shell.execute_reply": "2021-09-11T12:30:08.186497Z"
    },
    "papermill": {
     "duration": 0.863751,
     "end_time": "2021-09-11T12:30:08.187295",
     "exception": false,
     "start_time": "2021-09-11T12:30:07.323544",
     "status": "completed"
    },
    "tags": []
   },
   "outputs": [],
   "source": [
    "import pandas as pd\n",
    "import sqlite3"
   ]
  },
  {
   "cell_type": "code",
   "execution_count": 2,
   "id": "innovative-syndrome",
   "metadata": {
    "execution": {
     "iopub.execute_input": "2021-09-11T12:30:08.240287Z",
     "iopub.status.busy": "2021-09-11T12:30:08.237889Z",
     "iopub.status.idle": "2021-09-11T12:30:08.499560Z",
     "shell.execute_reply": "2021-09-11T12:30:08.501019Z"
    },
    "papermill": {
     "duration": 0.291886,
     "end_time": "2021-09-11T12:30:08.501453",
     "exception": false,
     "start_time": "2021-09-11T12:30:08.209567",
     "status": "completed"
    },
    "tags": []
   },
   "outputs": [],
   "source": [
    "timestamps = pd.read_sql(\"select distinct record_time from EBAY_TOP_BERLIN order by record_time desc limit 2\", sqlite3.connect(\"UsedObjects.db\"))"
   ]
  },
  {
   "cell_type": "code",
   "execution_count": 3,
   "id": "periodic-identification",
   "metadata": {
    "execution": {
     "iopub.execute_input": "2021-09-11T12:30:08.568069Z",
     "iopub.status.busy": "2021-09-11T12:30:08.565948Z",
     "iopub.status.idle": "2021-09-11T12:30:08.586455Z",
     "shell.execute_reply": "2021-09-11T12:30:08.587726Z"
    },
    "papermill": {
     "duration": 0.066988,
     "end_time": "2021-09-11T12:30:08.588156",
     "exception": false,
     "start_time": "2021-09-11T12:30:08.521168",
     "status": "completed"
    },
    "tags": []
   },
   "outputs": [
    {
     "data": {
      "text/html": [
       "<div>\n",
       "<style scoped>\n",
       "    .dataframe tbody tr th:only-of-type {\n",
       "        vertical-align: middle;\n",
       "    }\n",
       "\n",
       "    .dataframe tbody tr th {\n",
       "        vertical-align: top;\n",
       "    }\n",
       "\n",
       "    .dataframe thead th {\n",
       "        text-align: right;\n",
       "    }\n",
       "</style>\n",
       "<table border=\"1\" class=\"dataframe\">\n",
       "  <thead>\n",
       "    <tr style=\"text-align: right;\">\n",
       "      <th></th>\n",
       "      <th>RECORD_TIME</th>\n",
       "    </tr>\n",
       "  </thead>\n",
       "  <tbody>\n",
       "    <tr>\n",
       "      <th>0</th>\n",
       "      <td>2021-09-11 14:30</td>\n",
       "    </tr>\n",
       "    <tr>\n",
       "      <th>1</th>\n",
       "      <td>2021-09-11 14:00</td>\n",
       "    </tr>\n",
       "  </tbody>\n",
       "</table>\n",
       "</div>"
      ],
      "text/plain": [
       "        RECORD_TIME\n",
       "0  2021-09-11 14:30\n",
       "1  2021-09-11 14:00"
      ]
     },
     "execution_count": 3,
     "metadata": {},
     "output_type": "execute_result"
    }
   ],
   "source": [
    "timestamps"
   ]
  },
  {
   "cell_type": "code",
   "execution_count": 4,
   "id": "alternate-victory",
   "metadata": {
    "execution": {
     "iopub.execute_input": "2021-09-11T12:30:08.641901Z",
     "iopub.status.busy": "2021-09-11T12:30:08.639571Z",
     "iopub.status.idle": "2021-09-11T12:30:09.032610Z",
     "shell.execute_reply": "2021-09-11T12:30:09.033834Z"
    },
    "papermill": {
     "duration": 0.423378,
     "end_time": "2021-09-11T12:30:09.034225",
     "exception": false,
     "start_time": "2021-09-11T12:30:08.610847",
     "status": "completed"
    },
    "tags": []
   },
   "outputs": [],
   "source": [
    "df = pd.read_sql(\"select * from EBAY_TOP_BERLIN where record_time in (select distinct record_time from EBAY_TOP_BERLIN order by record_time desc limit 2)\", sqlite3.connect(\"UsedObjects.db\"))"
   ]
  },
  {
   "cell_type": "code",
   "execution_count": 5,
   "id": "popular-active",
   "metadata": {
    "execution": {
     "iopub.execute_input": "2021-09-11T12:30:09.113681Z",
     "iopub.status.busy": "2021-09-11T12:30:09.101075Z",
     "iopub.status.idle": "2021-09-11T12:30:09.129201Z",
     "shell.execute_reply": "2021-09-11T12:30:09.130488Z"
    },
    "papermill": {
     "duration": 0.070974,
     "end_time": "2021-09-11T12:30:09.130945",
     "exception": false,
     "start_time": "2021-09-11T12:30:09.059971",
     "status": "completed"
    },
    "tags": []
   },
   "outputs": [],
   "source": [
    "df_pivot = df.pivot_table(index=\"PRODUCT\", columns = \"RECORD_TIME\", values = \"LISTING_COUNT\")"
   ]
  },
  {
   "cell_type": "code",
   "execution_count": 6,
   "id": "union-huntington",
   "metadata": {
    "execution": {
     "iopub.execute_input": "2021-09-11T12:30:09.187759Z",
     "iopub.status.busy": "2021-09-11T12:30:09.185650Z",
     "iopub.status.idle": "2021-09-11T12:30:09.191148Z",
     "shell.execute_reply": "2021-09-11T12:30:09.192459Z"
    },
    "papermill": {
     "duration": 0.040257,
     "end_time": "2021-09-11T12:30:09.192870",
     "exception": false,
     "start_time": "2021-09-11T12:30:09.152613",
     "status": "completed"
    },
    "tags": []
   },
   "outputs": [],
   "source": [
    "df_pivot.columns = [\"stamp_1\", \"stamp_2\"]\n",
    "df_pivot_diff = df_pivot.diff(axis=1)"
   ]
  },
  {
   "cell_type": "code",
   "execution_count": 7,
   "id": "fifth-motion",
   "metadata": {
    "execution": {
     "iopub.execute_input": "2021-09-11T12:30:09.247929Z",
     "iopub.status.busy": "2021-09-11T12:30:09.245299Z",
     "iopub.status.idle": "2021-09-11T12:30:10.734840Z",
     "shell.execute_reply": "2021-09-11T12:30:10.736656Z"
    },
    "papermill": {
     "duration": 1.523174,
     "end_time": "2021-09-11T12:30:10.737172",
     "exception": false,
     "start_time": "2021-09-11T12:30:09.213998",
     "status": "completed"
    },
    "tags": []
   },
   "outputs": [
    {
     "data": {
      "text/plain": [
       "<AxesSubplot:ylabel='PRODUCT'>"
      ]
     },
     "execution_count": 7,
     "metadata": {},
     "output_type": "execute_result"
    },
    {
     "data": {
      "image/png": "[encoded data removed]",
      "text/plain": [
       "<Figure size 432x288 with 1 Axes>"
      ]
     },
     "metadata": {
      "needs_background": "light"
     },
     "output_type": "display_data"
    }
   ],
   "source": [
    "df_pivot_diff.sort_values(\"stamp_2\", ascending = False)[\"stamp_2\"].head(10).plot.barh()"
   ]
  },
  {
   "cell_type": "code",
   "execution_count": null,
   "id": "extra-executive",
   "metadata": {
    "papermill": {
     "duration": 0.022061,
     "end_time": "2021-09-11T12:30:10.784270",
     "exception": false,
     "start_time": "2021-09-11T12:30:10.762209",
     "status": "completed"
    },
    "tags": []
   },
   "outputs": [],
   "source": []
  }
 ],
 "metadata": {
  "kernelspec": {
   "display_name": "Python 3",
   "language": "python",
   "name": "python3"
  },
  "language_info": {
   "codemirror_mode": {
    "name": "ipython",
    "version": 3
   },
   "file_extension": ".py",
   "mimetype": "text/x-python",
   "name": "python",
   "nbconvert_exporter": "python",
   "pygments_lexer": "ipython3",
   "version": "3.9.5"
  },
  "papermill": {
   "default_parameters": {},
   "duration": 6.53309,
   "end_time": "2021-09-11T12:30:11.424932",
   "environment_variables": {},
   "exception": null,
   "input_path": "eBay_Overview.ipynb",
   "output_path": "eBay_Overview.ipynb",
   "parameters": {},
   "start_time": "2021-09-11T12:30:04.891842",
   "version": "2.3.3"
  }
 },
 "nbformat": 4,
 "nbformat_minor": 5
}