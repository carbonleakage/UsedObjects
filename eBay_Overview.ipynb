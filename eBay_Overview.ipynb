{
 "cells": [
  {
   "cell_type": "code",
   "execution_count": 1,
   "id": "reverse-picking",
   "metadata": {
    "execution": {
     "iopub.execute_input": "2021-08-20T22:30:06.687795Z",
     "iopub.status.busy": "2021-08-20T22:30:06.685783Z",
     "iopub.status.idle": "2021-08-20T22:30:07.493441Z",
     "shell.execute_reply": "2021-08-20T22:30:07.491882Z"
    },
    "papermill": {
     "duration": 0.858376,
     "end_time": "2021-08-20T22:30:07.493852",
     "exception": false,
     "start_time": "2021-08-20T22:30:06.635476",
     "status": "completed"
    },
    "tags": []
   },
   "outputs": [],
   "source": [
    "import pandas as pd\n",
    "import sqlite3"
   ]
  },
  {
   "cell_type": "code",
   "execution_count": 2,
   "id": "innovative-syndrome",
   "metadata": {
    "execution": {
     "iopub.execute_input": "2021-08-20T22:30:07.544843Z",
     "iopub.status.busy": "2021-08-20T22:30:07.542981Z",
     "iopub.status.idle": "2021-08-20T22:30:07.636303Z",
     "shell.execute_reply": "2021-08-20T22:30:07.637511Z"
    },
    "papermill": {
     "duration": 0.122793,
     "end_time": "2021-08-20T22:30:07.637909",
     "exception": false,
     "start_time": "2021-08-20T22:30:07.515116",
     "status": "completed"
    },
    "tags": []
   },
   "outputs": [],
   "source": [
    "timestamps = pd.read_sql(\"select distinct record_time from EBAY_TOP_BERLIN order by record_time desc limit 2\", sqlite3.connect(\"UsedObjects.db\"))"
   ]
  },
  {
   "cell_type": "code",
   "execution_count": 3,
   "id": "periodic-identification",
   "metadata": {
    "execution": {
     "iopub.execute_input": "2021-08-20T22:30:07.701889Z",
     "iopub.status.busy": "2021-08-20T22:30:07.699864Z",
     "iopub.status.idle": "2021-08-20T22:30:07.719436Z",
     "shell.execute_reply": "2021-08-20T22:30:07.720658Z"
    },
    "papermill": {
     "duration": 0.063367,
     "end_time": "2021-08-20T22:30:07.721100",
     "exception": false,
     "start_time": "2021-08-20T22:30:07.657733",
     "status": "completed"
    },
    "tags": []
   },
   "outputs": [
    {
     "data": {
      "text/html": [
       "<div>\n",
       "<style scoped>\n",
       "    .dataframe tbody tr th:only-of-type {\n",
       "        vertical-align: middle;\n",
       "    }\n",
       "\n",
       "    .dataframe tbody tr th {\n",
       "        vertical-align: top;\n",
       "    }\n",
       "\n",
       "    .dataframe thead th {\n",
       "        text-align: right;\n",
       "    }\n",
       "</style>\n",
       "<table border=\"1\" class=\"dataframe\">\n",
       "  <thead>\n",
       "    <tr style=\"text-align: right;\">\n",
       "      <th></th>\n",
       "      <th>RECORD_TIME</th>\n",
       "    </tr>\n",
       "  </thead>\n",
       "  <tbody>\n",
       "    <tr>\n",
       "      <th>0</th>\n",
       "      <td>2021-08-21 00:30</td>\n",
       "    </tr>\n",
       "    <tr>\n",
       "      <th>1</th>\n",
       "      <td>2021-08-21 00:00</td>\n",
       "    </tr>\n",
       "  </tbody>\n",
       "</table>\n",
       "</div>"
      ],
      "text/plain": [
       "        RECORD_TIME\n",
       "0  2021-08-21 00:30\n",
       "1  2021-08-21 00:00"
      ]
     },
     "execution_count": 3,
     "metadata": {},
     "output_type": "execute_result"
    }
   ],
   "source": [
    "timestamps"
   ]
  },
  {
   "cell_type": "code",
   "execution_count": 4,
   "id": "alternate-victory",
   "metadata": {
    "execution": {
     "iopub.execute_input": "2021-08-20T22:30:07.774036Z",
     "iopub.status.busy": "2021-08-20T22:30:07.772140Z",
     "iopub.status.idle": "2021-08-20T22:30:07.909629Z",
     "shell.execute_reply": "2021-08-20T22:30:07.910918Z"
    },
    "papermill": {
     "duration": 0.167841,
     "end_time": "2021-08-20T22:30:07.911323",
     "exception": false,
     "start_time": "2021-08-20T22:30:07.743482",
     "status": "completed"
    },
    "tags": []
   },
   "outputs": [],
   "source": [
    "df = pd.read_sql(\"select * from EBAY_TOP_BERLIN where record_time in (select distinct record_time from EBAY_TOP_BERLIN order by record_time desc limit 2)\", sqlite3.connect(\"UsedObjects.db\"))"
   ]
  },
  {
   "cell_type": "code",
   "execution_count": 5,
   "id": "popular-active",
   "metadata": {
    "execution": {
     "iopub.execute_input": "2021-08-20T22:30:07.983609Z",
     "iopub.status.busy": "2021-08-20T22:30:07.972437Z",
     "iopub.status.idle": "2021-08-20T22:30:07.999399Z",
     "shell.execute_reply": "2021-08-20T22:30:08.000703Z"
    },
    "papermill": {
     "duration": 0.068348,
     "end_time": "2021-08-20T22:30:08.001120",
     "exception": false,
     "start_time": "2021-08-20T22:30:07.932772",
     "status": "completed"
    },
    "tags": []
   },
   "outputs": [],
   "source": [
    "df_pivot = df.pivot_table(index=\"PRODUCT\", columns = \"RECORD_TIME\", values = \"LISTING_COUNT\")"
   ]
  },
  {
   "cell_type": "code",
   "execution_count": 6,
   "id": "union-huntington",
   "metadata": {
    "execution": {
     "iopub.execute_input": "2021-08-20T22:30:08.058901Z",
     "iopub.status.busy": "2021-08-20T22:30:08.056797Z",
     "iopub.status.idle": "2021-08-20T22:30:08.062093Z",
     "shell.execute_reply": "2021-08-20T22:30:08.063362Z"
    },
    "papermill": {
     "duration": 0.041426,
     "end_time": "2021-08-20T22:30:08.063961",
     "exception": false,
     "start_time": "2021-08-20T22:30:08.022535",
     "status": "completed"
    },
    "tags": []
   },
   "outputs": [],
   "source": [
    "df_pivot.columns = [\"stamp_1\", \"stamp_2\"]\n",
    "df_pivot_diff = df_pivot.diff(axis=1)"
   ]
  },
  {
   "cell_type": "code",
   "execution_count": 7,
   "id": "fifth-motion",
   "metadata": {
    "execution": {
     "iopub.execute_input": "2021-08-20T22:30:08.120622Z",
     "iopub.status.busy": "2021-08-20T22:30:08.118329Z",
     "iopub.status.idle": "2021-08-20T22:30:09.632309Z",
     "shell.execute_reply": "2021-08-20T22:30:09.633683Z"
    },
    "papermill": {
     "duration": 1.547609,
     "end_time": "2021-08-20T22:30:09.634184",
     "exception": false,
     "start_time": "2021-08-20T22:30:08.086575",
     "status": "completed"
    },
    "tags": []
   },
   "outputs": [
    {
     "data": {
      "text/plain": [
       "<AxesSubplot:ylabel='PRODUCT'>"
      ]
     },
     "execution_count": 7,
     "metadata": {},
     "output_type": "execute_result"
    },
    {
     "data": {
      "image/png": "[encoded data removed]",
      "text/plain": [
       "<Figure size 432x288 with 1 Axes>"
      ]
     },
     "metadata": {
      "needs_background": "light"
     },
     "output_type": "display_data"
    }
   ],
   "source": [
    "df_pivot_diff.sort_values(\"stamp_2\", ascending = False)[\"stamp_2\"].head(10).plot.barh()"
   ]
  },
  {
   "cell_type": "code",
   "execution_count": null,
   "id": "extra-executive",
   "metadata": {
    "papermill": {
     "duration": 0.022768,
     "end_time": "2021-08-20T22:30:09.682324",
     "exception": false,
     "start_time": "2021-08-20T22:30:09.659556",
     "status": "completed"
    },
    "tags": []
   },
   "outputs": [],
   "source": []
  }
 ],
 "metadata": {
  "kernelspec": {
   "display_name": "Python 3",
   "language": "python",
   "name": "python3"
  },
  "language_info": {
   "codemirror_mode": {
    "name": "ipython",
    "version": 3
   },
   "file_extension": ".py",
   "mimetype": "text/x-python",
   "name": "python",
   "nbconvert_exporter": "python",
   "pygments_lexer": "ipython3",
   "version": "3.9.5"
  },
  "papermill": {
   "default_parameters": {},
   "duration": 6.823355,
   "end_time": "2021-08-20T22:30:11.051406",
   "environment_variables": {},
   "exception": null,
   "input_path": "eBay_Overview.ipynb",
   "output_path": "eBay_Overview.ipynb",
   "parameters": {},
   "start_time": "2021-08-20T22:30:04.228051",
   "version": "2.3.3"
  }
 },
 "nbformat": 4,
 "nbformat_minor": 5
}