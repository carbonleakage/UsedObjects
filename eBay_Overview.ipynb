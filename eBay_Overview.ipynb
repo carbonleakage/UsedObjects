{
 "cells": [
  {
   "cell_type": "code",
   "execution_count": 1,
   "id": "reverse-picking",
   "metadata": {
    "execution": {
     "iopub.execute_input": "2021-11-05T01:00:07.773625Z",
     "iopub.status.busy": "2021-11-05T01:00:07.771293Z",
     "iopub.status.idle": "2021-11-05T01:00:08.722925Z",
     "shell.execute_reply": "2021-11-05T01:00:08.720475Z"
    },
    "papermill": {
     "duration": 0.998431,
     "end_time": "2021-11-05T01:00:08.723478",
     "exception": false,
     "start_time": "2021-11-05T01:00:07.725047",
     "status": "completed"
    },
    "tags": []
   },
   "outputs": [],
   "source": [
    "import pandas as pd\n",
    "import sqlite3"
   ]
  },
  {
   "cell_type": "code",
   "execution_count": 2,
   "id": "innovative-syndrome",
   "metadata": {
    "execution": {
     "iopub.execute_input": "2021-11-05T01:00:08.792951Z",
     "iopub.status.busy": "2021-11-05T01:00:08.790574Z",
     "iopub.status.idle": "2021-11-05T01:00:09.541072Z",
     "shell.execute_reply": "2021-11-05T01:00:09.542680Z"
    },
    "papermill": {
     "duration": 0.783771,
     "end_time": "2021-11-05T01:00:09.543201",
     "exception": false,
     "start_time": "2021-11-05T01:00:08.759430",
     "status": "completed"
    },
    "tags": []
   },
   "outputs": [],
   "source": [
    "timestamps = pd.read_sql(\"select distinct record_time from EBAY_TOP_BERLIN order by record_time desc limit 2\", sqlite3.connect(\"UsedObjects.db\"))"
   ]
  },
  {
   "cell_type": "code",
   "execution_count": 3,
   "id": "periodic-identification",
   "metadata": {
    "execution": {
     "iopub.execute_input": "2021-11-05T01:00:09.615553Z",
     "iopub.status.busy": "2021-11-05T01:00:09.613333Z",
     "iopub.status.idle": "2021-11-05T01:00:09.634976Z",
     "shell.execute_reply": "2021-11-05T01:00:09.636648Z"
    },
    "papermill": {
     "duration": 0.073888,
     "end_time": "2021-11-05T01:00:09.637321",
     "exception": false,
     "start_time": "2021-11-05T01:00:09.563433",
     "status": "completed"
    },
    "tags": []
   },
   "outputs": [
    {
     "data": {
      "text/html": [
       "<div>\n",
       "<style scoped>\n",
       "    .dataframe tbody tr th:only-of-type {\n",
       "        vertical-align: middle;\n",
       "    }\n",
       "\n",
       "    .dataframe tbody tr th {\n",
       "        vertical-align: top;\n",
       "    }\n",
       "\n",
       "    .dataframe thead th {\n",
       "        text-align: right;\n",
       "    }\n",
       "</style>\n",
       "<table border=\"1\" class=\"dataframe\">\n",
       "  <thead>\n",
       "    <tr style=\"text-align: right;\">\n",
       "      <th></th>\n",
       "      <th>RECORD_TIME</th>\n",
       "    </tr>\n",
       "  </thead>\n",
       "  <tbody>\n",
       "    <tr>\n",
       "      <th>0</th>\n",
       "      <td>2021-11-05 02:00</td>\n",
       "    </tr>\n",
       "    <tr>\n",
       "      <th>1</th>\n",
       "      <td>2021-11-05 01:30</td>\n",
       "    </tr>\n",
       "  </tbody>\n",
       "</table>\n",
       "</div>"
      ],
      "text/plain": [
       "        RECORD_TIME\n",
       "0  2021-11-05 02:00\n",
       "1  2021-11-05 01:30"
      ]
     },
     "execution_count": 3,
     "metadata": {},
     "output_type": "execute_result"
    }
   ],
   "source": [
    "timestamps"
   ]
  },
  {
   "cell_type": "code",
   "execution_count": 4,
   "id": "alternate-victory",
   "metadata": {
    "execution": {
     "iopub.execute_input": "2021-11-05T01:00:09.691372Z",
     "iopub.status.busy": "2021-11-05T01:00:09.689428Z",
     "iopub.status.idle": "2021-11-05T01:00:10.821817Z",
     "shell.execute_reply": "2021-11-05T01:00:10.824030Z"
    },
    "papermill": {
     "duration": 1.166139,
     "end_time": "2021-11-05T01:00:10.824587",
     "exception": false,
     "start_time": "2021-11-05T01:00:09.658448",
     "status": "completed"
    },
    "tags": []
   },
   "outputs": [],
   "source": [
    "df = pd.read_sql(\"select * from EBAY_TOP_BERLIN where record_time in (select distinct record_time from EBAY_TOP_BERLIN order by record_time desc limit 2)\", sqlite3.connect(\"UsedObjects.db\"))"
   ]
  },
  {
   "cell_type": "code",
   "execution_count": 5,
   "id": "popular-active",
   "metadata": {
    "execution": {
     "iopub.execute_input": "2021-11-05T01:00:10.909939Z",
     "iopub.status.busy": "2021-11-05T01:00:10.901572Z",
     "iopub.status.idle": "2021-11-05T01:00:10.923986Z",
     "shell.execute_reply": "2021-11-05T01:00:10.925581Z"
    },
    "papermill": {
     "duration": 0.080321,
     "end_time": "2021-11-05T01:00:10.926091",
     "exception": false,
     "start_time": "2021-11-05T01:00:10.845770",
     "status": "completed"
    },
    "tags": []
   },
   "outputs": [],
   "source": [
    "df_pivot = df.pivot_table(index=\"PRODUCT\", columns = \"RECORD_TIME\", values = \"LISTING_COUNT\")"
   ]
  },
  {
   "cell_type": "code",
   "execution_count": 6,
   "id": "union-huntington",
   "metadata": {
    "execution": {
     "iopub.execute_input": "2021-11-05T01:00:10.987618Z",
     "iopub.status.busy": "2021-11-05T01:00:10.985427Z",
     "iopub.status.idle": "2021-11-05T01:00:10.991020Z",
     "shell.execute_reply": "2021-11-05T01:00:10.992639Z"
    },
    "papermill": {
     "duration": 0.04563,
     "end_time": "2021-11-05T01:00:10.993271",
     "exception": false,
     "start_time": "2021-11-05T01:00:10.947641",
     "status": "completed"
    },
    "tags": []
   },
   "outputs": [],
   "source": [
    "df_pivot.columns = [\"stamp_1\", \"stamp_2\"]\n",
    "df_pivot_diff = df_pivot.diff(axis=1)"
   ]
  },
  {
   "cell_type": "code",
   "execution_count": 7,
   "id": "fifth-motion",
   "metadata": {
    "execution": {
     "iopub.execute_input": "2021-11-05T01:00:11.054097Z",
     "iopub.status.busy": "2021-11-05T01:00:11.051441Z",
     "iopub.status.idle": "2021-11-05T01:00:12.831363Z",
     "shell.execute_reply": "2021-11-05T01:00:12.832906Z"
    },
    "papermill": {
     "duration": 1.818372,
     "end_time": "2021-11-05T01:00:12.833378",
     "exception": false,
     "start_time": "2021-11-05T01:00:11.015006",
     "status": "completed"
    },
    "tags": []
   },
   "outputs": [
    {
     "data": {
      "text/plain": [
       "<AxesSubplot:ylabel='PRODUCT'>"
      ]
     },
     "execution_count": 7,
     "metadata": {},
     "output_type": "execute_result"
    },
    {
     "data": {
      "image/png": "[encoded data removed]",
      "text/plain": [
       "<Figure size 432x288 with 1 Axes>"
      ]
     },
     "metadata": {
      "needs_background": "light"
     },
     "output_type": "display_data"
    }
   ],
   "source": [
    "df_pivot_diff.sort_values(\"stamp_2\", ascending = False)[\"stamp_2\"].head(10).plot.barh()"
   ]
  },
  {
   "cell_type": "code",
   "execution_count": null,
   "id": "extra-executive",
   "metadata": {
    "papermill": {
     "duration": 0.023165,
     "end_time": "2021-11-05T01:00:12.884357",
     "exception": false,
     "start_time": "2021-11-05T01:00:12.861192",
     "status": "completed"
    },
    "tags": []
   },
   "outputs": [],
   "source": []
  }
 ],
 "metadata": {
  "kernelspec": {
   "display_name": "Python 3",
   "language": "python",
   "name": "python3"
  },
  "language_info": {
   "codemirror_mode": {
    "name": "ipython",
    "version": 3
   },
   "file_extension": ".py",
   "mimetype": "text/x-python",
   "name": "python",
   "nbconvert_exporter": "python",
   "pygments_lexer": "ipython3",
   "version": "3.9.5"
  },
  "papermill": {
   "default_parameters": {},
   "duration": 8.90991,
   "end_time": "2021-11-05T01:00:13.842190",
   "environment_variables": {},
   "exception": null,
   "input_path": "eBay_Overview.ipynb",
   "output_path": "eBay_Overview.ipynb",
   "parameters": {},
   "start_time": "2021-11-05T01:00:04.932280",
   "version": "2.3.3"
  }
 },
 "nbformat": 4,
 "nbformat_minor": 5
}