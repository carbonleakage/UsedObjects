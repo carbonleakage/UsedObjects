{
 "cells": [
  {
   "cell_type": "code",
   "execution_count": 1,
   "id": "reverse-picking",
   "metadata": {
    "execution": {
     "iopub.execute_input": "2021-10-28T09:00:07.462505Z",
     "iopub.status.busy": "2021-10-28T09:00:07.459502Z",
     "iopub.status.idle": "2021-10-28T09:00:08.270463Z",
     "shell.execute_reply": "2021-10-28T09:00:08.271782Z"
    },
    "papermill": {
     "duration": 0.859892,
     "end_time": "2021-10-28T09:00:08.272427",
     "exception": false,
     "start_time": "2021-10-28T09:00:07.412535",
     "status": "completed"
    },
    "tags": []
   },
   "outputs": [],
   "source": [
    "import pandas as pd\n",
    "import sqlite3"
   ]
  },
  {
   "cell_type": "code",
   "execution_count": 2,
   "id": "innovative-syndrome",
   "metadata": {
    "execution": {
     "iopub.execute_input": "2021-10-28T09:00:08.323600Z",
     "iopub.status.busy": "2021-10-28T09:00:08.321501Z",
     "iopub.status.idle": "2021-10-28T09:00:09.086412Z",
     "shell.execute_reply": "2021-10-28T09:00:09.087601Z"
    },
    "papermill": {
     "duration": 0.794612,
     "end_time": "2021-10-28T09:00:09.087998",
     "exception": false,
     "start_time": "2021-10-28T09:00:08.293386",
     "status": "completed"
    },
    "tags": []
   },
   "outputs": [],
   "source": [
    "timestamps = pd.read_sql(\"select distinct record_time from EBAY_TOP_BERLIN order by record_time desc limit 2\", sqlite3.connect(\"UsedObjects.db\"))"
   ]
  },
  {
   "cell_type": "code",
   "execution_count": 3,
   "id": "periodic-identification",
   "metadata": {
    "execution": {
     "iopub.execute_input": "2021-10-28T09:00:09.164914Z",
     "iopub.status.busy": "2021-10-28T09:00:09.162840Z",
     "iopub.status.idle": "2021-10-28T09:00:09.184492Z",
     "shell.execute_reply": "2021-10-28T09:00:09.183108Z"
    },
    "papermill": {
     "duration": 0.069036,
     "end_time": "2021-10-28T09:00:09.185019",
     "exception": false,
     "start_time": "2021-10-28T09:00:09.115983",
     "status": "completed"
    },
    "tags": []
   },
   "outputs": [
    {
     "data": {
      "text/html": [
       "<div>\n",
       "<style scoped>\n",
       "    .dataframe tbody tr th:only-of-type {\n",
       "        vertical-align: middle;\n",
       "    }\n",
       "\n",
       "    .dataframe tbody tr th {\n",
       "        vertical-align: top;\n",
       "    }\n",
       "\n",
       "    .dataframe thead th {\n",
       "        text-align: right;\n",
       "    }\n",
       "</style>\n",
       "<table border=\"1\" class=\"dataframe\">\n",
       "  <thead>\n",
       "    <tr style=\"text-align: right;\">\n",
       "      <th></th>\n",
       "      <th>RECORD_TIME</th>\n",
       "    </tr>\n",
       "  </thead>\n",
       "  <tbody>\n",
       "    <tr>\n",
       "      <th>0</th>\n",
       "      <td>2021-10-28 11:00</td>\n",
       "    </tr>\n",
       "    <tr>\n",
       "      <th>1</th>\n",
       "      <td>2021-10-28 10:30</td>\n",
       "    </tr>\n",
       "  </tbody>\n",
       "</table>\n",
       "</div>"
      ],
      "text/plain": [
       "        RECORD_TIME\n",
       "0  2021-10-28 11:00\n",
       "1  2021-10-28 10:30"
      ]
     },
     "execution_count": 3,
     "metadata": {},
     "output_type": "execute_result"
    }
   ],
   "source": [
    "timestamps"
   ]
  },
  {
   "cell_type": "code",
   "execution_count": 4,
   "id": "alternate-victory",
   "metadata": {
    "execution": {
     "iopub.execute_input": "2021-10-28T09:00:09.237573Z",
     "iopub.status.busy": "2021-10-28T09:00:09.235215Z",
     "iopub.status.idle": "2021-10-28T09:00:10.189906Z",
     "shell.execute_reply": "2021-10-28T09:00:10.191177Z"
    },
    "papermill": {
     "duration": 0.985001,
     "end_time": "2021-10-28T09:00:10.191583",
     "exception": false,
     "start_time": "2021-10-28T09:00:09.206582",
     "status": "completed"
    },
    "tags": []
   },
   "outputs": [],
   "source": [
    "df = pd.read_sql(\"select * from EBAY_TOP_BERLIN where record_time in (select distinct record_time from EBAY_TOP_BERLIN order by record_time desc limit 2)\", sqlite3.connect(\"UsedObjects.db\"))"
   ]
  },
  {
   "cell_type": "code",
   "execution_count": 5,
   "id": "popular-active",
   "metadata": {
    "execution": {
     "iopub.execute_input": "2021-10-28T09:00:10.261680Z",
     "iopub.status.busy": "2021-10-28T09:00:10.249919Z",
     "iopub.status.idle": "2021-10-28T09:00:10.278311Z",
     "shell.execute_reply": "2021-10-28T09:00:10.279516Z"
    },
    "papermill": {
     "duration": 0.067866,
     "end_time": "2021-10-28T09:00:10.279909",
     "exception": false,
     "start_time": "2021-10-28T09:00:10.212043",
     "status": "completed"
    },
    "tags": []
   },
   "outputs": [],
   "source": [
    "df_pivot = df.pivot_table(index=\"PRODUCT\", columns = \"RECORD_TIME\", values = \"LISTING_COUNT\")"
   ]
  },
  {
   "cell_type": "code",
   "execution_count": 6,
   "id": "union-huntington",
   "metadata": {
    "execution": {
     "iopub.execute_input": "2021-10-28T09:00:10.335969Z",
     "iopub.status.busy": "2021-10-28T09:00:10.333825Z",
     "iopub.status.idle": "2021-10-28T09:00:10.339348Z",
     "shell.execute_reply": "2021-10-28T09:00:10.340896Z"
    },
    "papermill": {
     "duration": 0.040904,
     "end_time": "2021-10-28T09:00:10.341372",
     "exception": false,
     "start_time": "2021-10-28T09:00:10.300468",
     "status": "completed"
    },
    "tags": []
   },
   "outputs": [],
   "source": [
    "df_pivot.columns = [\"stamp_1\", \"stamp_2\"]\n",
    "df_pivot_diff = df_pivot.diff(axis=1)"
   ]
  },
  {
   "cell_type": "code",
   "execution_count": 7,
   "id": "fifth-motion",
   "metadata": {
    "execution": {
     "iopub.execute_input": "2021-10-28T09:00:10.395952Z",
     "iopub.status.busy": "2021-10-28T09:00:10.393350Z",
     "iopub.status.idle": "2021-10-28T09:00:11.902039Z",
     "shell.execute_reply": "2021-10-28T09:00:11.903399Z"
    },
    "papermill": {
     "duration": 1.542247,
     "end_time": "2021-10-28T09:00:11.903832",
     "exception": false,
     "start_time": "2021-10-28T09:00:10.361585",
     "status": "completed"
    },
    "tags": []
   },
   "outputs": [
    {
     "data": {
      "text/plain": [
       "<AxesSubplot:ylabel='PRODUCT'>"
      ]
     },
     "execution_count": 7,
     "metadata": {},
     "output_type": "execute_result"
    },
    {
     "data": {
      "image/png": "[encoded data removed]",
      "text/plain": [
       "<Figure size 432x288 with 1 Axes>"
      ]
     },
     "metadata": {
      "needs_background": "light"
     },
     "output_type": "display_data"
    }
   ],
   "source": [
    "df_pivot_diff.sort_values(\"stamp_2\", ascending = False)[\"stamp_2\"].head(10).plot.barh()"
   ]
  },
  {
   "cell_type": "code",
   "execution_count": null,
   "id": "extra-executive",
   "metadata": {
    "papermill": {
     "duration": 0.022111,
     "end_time": "2021-10-28T09:00:11.950129",
     "exception": false,
     "start_time": "2021-10-28T09:00:11.928018",
     "status": "completed"
    },
    "tags": []
   },
   "outputs": [],
   "source": []
  }
 ],
 "metadata": {
  "kernelspec": {
   "display_name": "Python 3",
   "language": "python",
   "name": "python3"
  },
  "language_info": {
   "codemirror_mode": {
    "name": "ipython",
    "version": 3
   },
   "file_extension": ".py",
   "mimetype": "text/x-python",
   "name": "python",
   "nbconvert_exporter": "python",
   "pygments_lexer": "ipython3",
   "version": "3.9.5"
  },
  "papermill": {
   "default_parameters": {},
   "duration": 7.585426,
   "end_time": "2021-10-28T09:00:12.593805",
   "environment_variables": {},
   "exception": null,
   "input_path": "eBay_Overview.ipynb",
   "output_path": "eBay_Overview.ipynb",
   "parameters": {},
   "start_time": "2021-10-28T09:00:05.008379",
   "version": "2.3.3"
  }
 },
 "nbformat": 4,
 "nbformat_minor": 5
}