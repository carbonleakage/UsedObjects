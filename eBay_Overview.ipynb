{
 "cells": [
  {
   "cell_type": "code",
   "execution_count": 1,
   "id": "reverse-picking",
   "metadata": {
    "execution": {
     "iopub.execute_input": "2021-12-13T17:00:07.234323Z",
     "iopub.status.busy": "2021-12-13T17:00:07.231902Z",
     "iopub.status.idle": "2021-12-13T17:00:08.187609Z",
     "shell.execute_reply": "2021-12-13T17:00:08.185580Z"
    },
    "papermill": {
     "duration": 1.003654,
     "end_time": "2021-12-13T17:00:08.188120",
     "exception": false,
     "start_time": "2021-12-13T17:00:07.184466",
     "status": "completed"
    },
    "tags": []
   },
   "outputs": [],
   "source": [
    "import pandas as pd\n",
    "import sqlite3"
   ]
  },
  {
   "cell_type": "code",
   "execution_count": 2,
   "id": "innovative-syndrome",
   "metadata": {
    "execution": {
     "iopub.execute_input": "2021-12-13T17:00:08.251342Z",
     "iopub.status.busy": "2021-12-13T17:00:08.249013Z",
     "iopub.status.idle": "2021-12-13T17:00:09.337458Z",
     "shell.execute_reply": "2021-12-13T17:00:09.338766Z"
    },
    "papermill": {
     "duration": 1.123546,
     "end_time": "2021-12-13T17:00:09.339223",
     "exception": false,
     "start_time": "2021-12-13T17:00:08.215677",
     "status": "completed"
    },
    "tags": []
   },
   "outputs": [],
   "source": [
    "timestamps = pd.read_sql(\"select distinct record_time from EBAY_TOP_BERLIN order by record_time desc limit 2\", sqlite3.connect(\"UsedObjects.db\"))"
   ]
  },
  {
   "cell_type": "code",
   "execution_count": 3,
   "id": "periodic-identification",
   "metadata": {
    "execution": {
     "iopub.execute_input": "2021-12-13T17:00:09.409429Z",
     "iopub.status.busy": "2021-12-13T17:00:09.406837Z",
     "iopub.status.idle": "2021-12-13T17:00:09.429983Z",
     "shell.execute_reply": "2021-12-13T17:00:09.431456Z"
    },
    "papermill": {
     "duration": 0.073158,
     "end_time": "2021-12-13T17:00:09.431937",
     "exception": false,
     "start_time": "2021-12-13T17:00:09.358779",
     "status": "completed"
    },
    "tags": []
   },
   "outputs": [
    {
     "data": {
      "text/html": [
       "<div>\n",
       "<style scoped>\n",
       "    .dataframe tbody tr th:only-of-type {\n",
       "        vertical-align: middle;\n",
       "    }\n",
       "\n",
       "    .dataframe tbody tr th {\n",
       "        vertical-align: top;\n",
       "    }\n",
       "\n",
       "    .dataframe thead th {\n",
       "        text-align: right;\n",
       "    }\n",
       "</style>\n",
       "<table border=\"1\" class=\"dataframe\">\n",
       "  <thead>\n",
       "    <tr style=\"text-align: right;\">\n",
       "      <th></th>\n",
       "      <th>RECORD_TIME</th>\n",
       "    </tr>\n",
       "  </thead>\n",
       "  <tbody>\n",
       "    <tr>\n",
       "      <th>0</th>\n",
       "      <td>2021-12-13 18:00</td>\n",
       "    </tr>\n",
       "    <tr>\n",
       "      <th>1</th>\n",
       "      <td>2021-12-13 17:30</td>\n",
       "    </tr>\n",
       "  </tbody>\n",
       "</table>\n",
       "</div>"
      ],
      "text/plain": [
       "        RECORD_TIME\n",
       "0  2021-12-13 18:00\n",
       "1  2021-12-13 17:30"
      ]
     },
     "execution_count": 3,
     "metadata": {},
     "output_type": "execute_result"
    }
   ],
   "source": [
    "timestamps"
   ]
  },
  {
   "cell_type": "code",
   "execution_count": 4,
   "id": "alternate-victory",
   "metadata": {
    "execution": {
     "iopub.execute_input": "2021-12-13T17:00:09.489512Z",
     "iopub.status.busy": "2021-12-13T17:00:09.487076Z",
     "iopub.status.idle": "2021-12-13T17:00:11.033259Z",
     "shell.execute_reply": "2021-12-13T17:00:11.035413Z"
    },
    "papermill": {
     "duration": 1.582571,
     "end_time": "2021-12-13T17:00:11.035887",
     "exception": false,
     "start_time": "2021-12-13T17:00:09.453316",
     "status": "completed"
    },
    "tags": []
   },
   "outputs": [],
   "source": [
    "df = pd.read_sql(\"select * from EBAY_TOP_BERLIN where record_time in (select distinct record_time from EBAY_TOP_BERLIN order by record_time desc limit 2)\", sqlite3.connect(\"UsedObjects.db\"))"
   ]
  },
  {
   "cell_type": "code",
   "execution_count": 5,
   "id": "popular-active",
   "metadata": {
    "execution": {
     "iopub.execute_input": "2021-12-13T17:00:11.110560Z",
     "iopub.status.busy": "2021-12-13T17:00:11.097904Z",
     "iopub.status.idle": "2021-12-13T17:00:11.130795Z",
     "shell.execute_reply": "2021-12-13T17:00:11.129265Z"
    },
    "papermill": {
     "duration": 0.074812,
     "end_time": "2021-12-13T17:00:11.131225",
     "exception": false,
     "start_time": "2021-12-13T17:00:11.056413",
     "status": "completed"
    },
    "tags": []
   },
   "outputs": [],
   "source": [
    "df_pivot = df.pivot_table(index=\"PRODUCT\", columns = \"RECORD_TIME\", values = \"LISTING_COUNT\")"
   ]
  },
  {
   "cell_type": "code",
   "execution_count": 6,
   "id": "union-huntington",
   "metadata": {
    "execution": {
     "iopub.execute_input": "2021-12-13T17:00:11.194057Z",
     "iopub.status.busy": "2021-12-13T17:00:11.191722Z",
     "iopub.status.idle": "2021-12-13T17:00:11.197029Z",
     "shell.execute_reply": "2021-12-13T17:00:11.199066Z"
    },
    "papermill": {
     "duration": 0.047175,
     "end_time": "2021-12-13T17:00:11.199568",
     "exception": false,
     "start_time": "2021-12-13T17:00:11.152393",
     "status": "completed"
    },
    "tags": []
   },
   "outputs": [],
   "source": [
    "df_pivot.columns = [\"stamp_1\", \"stamp_2\"]\n",
    "df_pivot_diff = df_pivot.diff(axis=1)"
   ]
  },
  {
   "cell_type": "code",
   "execution_count": 7,
   "id": "fifth-motion",
   "metadata": {
    "execution": {
     "iopub.execute_input": "2021-12-13T17:00:11.259082Z",
     "iopub.status.busy": "2021-12-13T17:00:11.256449Z",
     "iopub.status.idle": "2021-12-13T17:00:13.164945Z",
     "shell.execute_reply": "2021-12-13T17:00:13.166297Z"
    },
    "papermill": {
     "duration": 1.945921,
     "end_time": "2021-12-13T17:00:13.166764",
     "exception": false,
     "start_time": "2021-12-13T17:00:11.220843",
     "status": "completed"
    },
    "tags": []
   },
   "outputs": [
    {
     "data": {
      "text/plain": [
       "<AxesSubplot:ylabel='PRODUCT'>"
      ]
     },
     "execution_count": 7,
     "metadata": {},
     "output_type": "execute_result"
    },
    {
     "data": {
      "image/png": "[encoded data removed]",
      "text/plain": [
       "<Figure size 432x288 with 1 Axes>"
      ]
     },
     "metadata": {
      "needs_background": "light"
     },
     "output_type": "display_data"
    }
   ],
   "source": [
    "df_pivot_diff.sort_values(\"stamp_2\", ascending = False)[\"stamp_2\"].head(10).plot.barh()"
   ]
  },
  {
   "cell_type": "code",
   "execution_count": null,
   "id": "extra-executive",
   "metadata": {
    "papermill": {
     "duration": 0.02852,
     "end_time": "2021-12-13T17:00:13.219205",
     "exception": false,
     "start_time": "2021-12-13T17:00:13.190685",
     "status": "completed"
    },
    "tags": []
   },
   "outputs": [],
   "source": []
  }
 ],
 "metadata": {
  "kernelspec": {
   "display_name": "Python 3",
   "language": "python",
   "name": "python3"
  },
  "language_info": {
   "codemirror_mode": {
    "name": "ipython",
    "version": 3
   },
   "file_extension": ".py",
   "mimetype": "text/x-python",
   "name": "python",
   "nbconvert_exporter": "python",
   "pygments_lexer": "ipython3",
   "version": "3.9.5"
  },
  "papermill": {
   "default_parameters": {},
   "duration": 9.704173,
   "end_time": "2021-12-13T17:00:14.074353",
   "environment_variables": {},
   "exception": null,
   "input_path": "eBay_Overview.ipynb",
   "output_path": "eBay_Overview.ipynb",
   "parameters": {},
   "start_time": "2021-12-13T17:00:04.370180",
   "version": "2.3.3"
  }
 },
 "nbformat": 4,
 "nbformat_minor": 5
}