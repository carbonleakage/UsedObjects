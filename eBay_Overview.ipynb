{
 "cells": [
  {
   "cell_type": "code",
   "execution_count": 1,
   "id": "reverse-picking",
   "metadata": {
    "execution": {
     "iopub.execute_input": "2021-12-15T19:00:07.620776Z",
     "iopub.status.busy": "2021-12-15T19:00:07.618877Z",
     "iopub.status.idle": "2021-12-15T19:00:08.578039Z",
     "shell.execute_reply": "2021-12-15T19:00:08.579850Z"
    },
    "papermill": {
     "duration": 1.005909,
     "end_time": "2021-12-15T19:00:08.580730",
     "exception": false,
     "start_time": "2021-12-15T19:00:07.574821",
     "status": "completed"
    },
    "tags": []
   },
   "outputs": [],
   "source": [
    "import pandas as pd\n",
    "import sqlite3"
   ]
  },
  {
   "cell_type": "code",
   "execution_count": 2,
   "id": "innovative-syndrome",
   "metadata": {
    "execution": {
     "iopub.execute_input": "2021-12-15T19:00:08.644228Z",
     "iopub.status.busy": "2021-12-15T19:00:08.641889Z",
     "iopub.status.idle": "2021-12-15T19:00:09.738386Z",
     "shell.execute_reply": "2021-12-15T19:00:09.740505Z"
    },
    "papermill": {
     "duration": 1.130596,
     "end_time": "2021-12-15T19:00:09.741076",
     "exception": false,
     "start_time": "2021-12-15T19:00:08.610480",
     "status": "completed"
    },
    "tags": []
   },
   "outputs": [],
   "source": [
    "timestamps = pd.read_sql(\"select distinct record_time from EBAY_TOP_BERLIN order by record_time desc limit 2\", sqlite3.connect(\"UsedObjects.db\"))"
   ]
  },
  {
   "cell_type": "code",
   "execution_count": 3,
   "id": "periodic-identification",
   "metadata": {
    "execution": {
     "iopub.execute_input": "2021-12-15T19:00:09.816623Z",
     "iopub.status.busy": "2021-12-15T19:00:09.814355Z",
     "iopub.status.idle": "2021-12-15T19:00:09.836902Z",
     "shell.execute_reply": "2021-12-15T19:00:09.838432Z"
    },
    "papermill": {
     "duration": 0.076492,
     "end_time": "2021-12-15T19:00:09.838912",
     "exception": false,
     "start_time": "2021-12-15T19:00:09.762420",
     "status": "completed"
    },
    "tags": []
   },
   "outputs": [
    {
     "data": {
      "text/html": [
       "<div>\n",
       "<style scoped>\n",
       "    .dataframe tbody tr th:only-of-type {\n",
       "        vertical-align: middle;\n",
       "    }\n",
       "\n",
       "    .dataframe tbody tr th {\n",
       "        vertical-align: top;\n",
       "    }\n",
       "\n",
       "    .dataframe thead th {\n",
       "        text-align: right;\n",
       "    }\n",
       "</style>\n",
       "<table border=\"1\" class=\"dataframe\">\n",
       "  <thead>\n",
       "    <tr style=\"text-align: right;\">\n",
       "      <th></th>\n",
       "      <th>RECORD_TIME</th>\n",
       "    </tr>\n",
       "  </thead>\n",
       "  <tbody>\n",
       "    <tr>\n",
       "      <th>0</th>\n",
       "      <td>2021-12-15 20:00</td>\n",
       "    </tr>\n",
       "    <tr>\n",
       "      <th>1</th>\n",
       "      <td>2021-12-15 19:30</td>\n",
       "    </tr>\n",
       "  </tbody>\n",
       "</table>\n",
       "</div>"
      ],
      "text/plain": [
       "        RECORD_TIME\n",
       "0  2021-12-15 20:00\n",
       "1  2021-12-15 19:30"
      ]
     },
     "execution_count": 3,
     "metadata": {},
     "output_type": "execute_result"
    }
   ],
   "source": [
    "timestamps"
   ]
  },
  {
   "cell_type": "code",
   "execution_count": 4,
   "id": "alternate-victory",
   "metadata": {
    "execution": {
     "iopub.execute_input": "2021-12-15T19:00:09.893935Z",
     "iopub.status.busy": "2021-12-15T19:00:09.891683Z",
     "iopub.status.idle": "2021-12-15T19:00:11.492620Z",
     "shell.execute_reply": "2021-12-15T19:00:11.494596Z"
    },
    "papermill": {
     "duration": 1.635478,
     "end_time": "2021-12-15T19:00:11.495069",
     "exception": false,
     "start_time": "2021-12-15T19:00:09.859591",
     "status": "completed"
    },
    "tags": []
   },
   "outputs": [],
   "source": [
    "df = pd.read_sql(\"select * from EBAY_TOP_BERLIN where record_time in (select distinct record_time from EBAY_TOP_BERLIN order by record_time desc limit 2)\", sqlite3.connect(\"UsedObjects.db\"))"
   ]
  },
  {
   "cell_type": "code",
   "execution_count": 5,
   "id": "popular-active",
   "metadata": {
    "execution": {
     "iopub.execute_input": "2021-12-15T19:00:11.549312Z",
     "iopub.status.busy": "2021-12-15T19:00:11.546378Z",
     "iopub.status.idle": "2021-12-15T19:00:11.610113Z",
     "shell.execute_reply": "2021-12-15T19:00:11.611955Z"
    },
    "papermill": {
     "duration": 0.095773,
     "end_time": "2021-12-15T19:00:11.612438",
     "exception": false,
     "start_time": "2021-12-15T19:00:11.516665",
     "status": "completed"
    },
    "tags": []
   },
   "outputs": [],
   "source": [
    "df_pivot = df.pivot_table(index=\"PRODUCT\", columns = \"RECORD_TIME\", values = \"LISTING_COUNT\")"
   ]
  },
  {
   "cell_type": "code",
   "execution_count": 6,
   "id": "union-huntington",
   "metadata": {
    "execution": {
     "iopub.execute_input": "2021-12-15T19:00:11.672738Z",
     "iopub.status.busy": "2021-12-15T19:00:11.670503Z",
     "iopub.status.idle": "2021-12-15T19:00:11.676300Z",
     "shell.execute_reply": "2021-12-15T19:00:11.678002Z"
    },
    "papermill": {
     "duration": 0.043831,
     "end_time": "2021-12-15T19:00:11.678532",
     "exception": false,
     "start_time": "2021-12-15T19:00:11.634701",
     "status": "completed"
    },
    "tags": []
   },
   "outputs": [],
   "source": [
    "df_pivot.columns = [\"stamp_1\", \"stamp_2\"]\n",
    "df_pivot_diff = df_pivot.diff(axis=1)"
   ]
  },
  {
   "cell_type": "code",
   "execution_count": 7,
   "id": "fifth-motion",
   "metadata": {
    "execution": {
     "iopub.execute_input": "2021-12-15T19:00:11.734431Z",
     "iopub.status.busy": "2021-12-15T19:00:11.731924Z",
     "iopub.status.idle": "2021-12-15T19:00:13.749352Z",
     "shell.execute_reply": "2021-12-15T19:00:13.751225Z"
    },
    "papermill": {
     "duration": 2.05328,
     "end_time": "2021-12-15T19:00:13.752021",
     "exception": false,
     "start_time": "2021-12-15T19:00:11.698741",
     "status": "completed"
    },
    "tags": []
   },
   "outputs": [
    {
     "data": {
      "text/plain": [
       "<AxesSubplot:ylabel='PRODUCT'>"
      ]
     },
     "execution_count": 7,
     "metadata": {},
     "output_type": "execute_result"
    },
    {
     "data": {
      "image/png": "[encoded data removed]",
      "text/plain": [
       "<Figure size 432x288 with 1 Axes>"
      ]
     },
     "metadata": {
      "needs_background": "light"
     },
     "output_type": "display_data"
    }
   ],
   "source": [
    "df_pivot_diff.sort_values(\"stamp_2\", ascending = False)[\"stamp_2\"].head(10).plot.barh()"
   ]
  },
  {
   "cell_type": "code",
   "execution_count": null,
   "id": "extra-executive",
   "metadata": {
    "papermill": {
     "duration": 0.025825,
     "end_time": "2021-12-15T19:00:13.810404",
     "exception": false,
     "start_time": "2021-12-15T19:00:13.784579",
     "status": "completed"
    },
    "tags": []
   },
   "outputs": [],
   "source": []
  }
 ],
 "metadata": {
  "kernelspec": {
   "display_name": "Python 3",
   "language": "python",
   "name": "python3"
  },
  "language_info": {
   "codemirror_mode": {
    "name": "ipython",
    "version": 3
   },
   "file_extension": ".py",
   "mimetype": "text/x-python",
   "name": "python",
   "nbconvert_exporter": "python",
   "pygments_lexer": "ipython3",
   "version": "3.9.5"
  },
  "papermill": {
   "default_parameters": {},
   "duration": 9.711166,
   "end_time": "2021-12-15T19:00:14.536179",
   "environment_variables": {},
   "exception": null,
   "input_path": "eBay_Overview.ipynb",
   "output_path": "eBay_Overview.ipynb",
   "parameters": {},
   "start_time": "2021-12-15T19:00:04.825013",
   "version": "2.3.3"
  }
 },
 "nbformat": 4,
 "nbformat_minor": 5
}