{
 "cells": [
  {
   "cell_type": "code",
   "execution_count": 1,
   "id": "reverse-picking",
   "metadata": {
    "execution": {
     "iopub.execute_input": "2021-12-06T00:30:07.530182Z",
     "iopub.status.busy": "2021-12-06T00:30:07.527632Z",
     "iopub.status.idle": "2021-12-06T00:30:08.482321Z",
     "shell.execute_reply": "2021-12-06T00:30:08.484113Z"
    },
    "papermill": {
     "duration": 1.00693,
     "end_time": "2021-12-06T00:30:08.484896",
     "exception": false,
     "start_time": "2021-12-06T00:30:07.477966",
     "status": "completed"
    },
    "tags": []
   },
   "outputs": [],
   "source": [
    "import pandas as pd\n",
    "import sqlite3"
   ]
  },
  {
   "cell_type": "code",
   "execution_count": 2,
   "id": "innovative-syndrome",
   "metadata": {
    "execution": {
     "iopub.execute_input": "2021-12-06T00:30:08.541103Z",
     "iopub.status.busy": "2021-12-06T00:30:08.538793Z",
     "iopub.status.idle": "2021-12-06T00:30:09.556024Z",
     "shell.execute_reply": "2021-12-06T00:30:09.557600Z"
    },
    "papermill": {
     "duration": 1.051703,
     "end_time": "2021-12-06T00:30:09.558164",
     "exception": false,
     "start_time": "2021-12-06T00:30:08.506461",
     "status": "completed"
    },
    "tags": []
   },
   "outputs": [],
   "source": [
    "timestamps = pd.read_sql(\"select distinct record_time from EBAY_TOP_BERLIN order by record_time desc limit 2\", sqlite3.connect(\"UsedObjects.db\"))"
   ]
  },
  {
   "cell_type": "code",
   "execution_count": 3,
   "id": "periodic-identification",
   "metadata": {
    "execution": {
     "iopub.execute_input": "2021-12-06T00:30:09.627806Z",
     "iopub.status.busy": "2021-12-06T00:30:09.625571Z",
     "iopub.status.idle": "2021-12-06T00:30:09.646049Z",
     "shell.execute_reply": "2021-12-06T00:30:09.647202Z"
    },
    "papermill": {
     "duration": 0.066153,
     "end_time": "2021-12-06T00:30:09.647612",
     "exception": false,
     "start_time": "2021-12-06T00:30:09.581459",
     "status": "completed"
    },
    "tags": []
   },
   "outputs": [
    {
     "data": {
      "text/html": [
       "<div>\n",
       "<style scoped>\n",
       "    .dataframe tbody tr th:only-of-type {\n",
       "        vertical-align: middle;\n",
       "    }\n",
       "\n",
       "    .dataframe tbody tr th {\n",
       "        vertical-align: top;\n",
       "    }\n",
       "\n",
       "    .dataframe thead th {\n",
       "        text-align: right;\n",
       "    }\n",
       "</style>\n",
       "<table border=\"1\" class=\"dataframe\">\n",
       "  <thead>\n",
       "    <tr style=\"text-align: right;\">\n",
       "      <th></th>\n",
       "      <th>RECORD_TIME</th>\n",
       "    </tr>\n",
       "  </thead>\n",
       "  <tbody>\n",
       "    <tr>\n",
       "      <th>0</th>\n",
       "      <td>2021-12-06 01:30</td>\n",
       "    </tr>\n",
       "    <tr>\n",
       "      <th>1</th>\n",
       "      <td>2021-12-06 01:00</td>\n",
       "    </tr>\n",
       "  </tbody>\n",
       "</table>\n",
       "</div>"
      ],
      "text/plain": [
       "        RECORD_TIME\n",
       "0  2021-12-06 01:30\n",
       "1  2021-12-06 01:00"
      ]
     },
     "execution_count": 3,
     "metadata": {},
     "output_type": "execute_result"
    }
   ],
   "source": [
    "timestamps"
   ]
  },
  {
   "cell_type": "code",
   "execution_count": 4,
   "id": "alternate-victory",
   "metadata": {
    "execution": {
     "iopub.execute_input": "2021-12-06T00:30:09.702273Z",
     "iopub.status.busy": "2021-12-06T00:30:09.700194Z",
     "iopub.status.idle": "2021-12-06T00:30:11.139383Z",
     "shell.execute_reply": "2021-12-06T00:30:11.141668Z"
    },
    "papermill": {
     "duration": 1.471357,
     "end_time": "2021-12-06T00:30:11.142187",
     "exception": false,
     "start_time": "2021-12-06T00:30:09.670830",
     "status": "completed"
    },
    "tags": []
   },
   "outputs": [],
   "source": [
    "df = pd.read_sql(\"select * from EBAY_TOP_BERLIN where record_time in (select distinct record_time from EBAY_TOP_BERLIN order by record_time desc limit 2)\", sqlite3.connect(\"UsedObjects.db\"))"
   ]
  },
  {
   "cell_type": "code",
   "execution_count": 5,
   "id": "popular-active",
   "metadata": {
    "execution": {
     "iopub.execute_input": "2021-12-06T00:30:11.226849Z",
     "iopub.status.busy": "2021-12-06T00:30:11.211295Z",
     "iopub.status.idle": "2021-12-06T00:30:11.248566Z",
     "shell.execute_reply": "2021-12-06T00:30:11.250015Z"
    },
    "papermill": {
     "duration": 0.084989,
     "end_time": "2021-12-06T00:30:11.250492",
     "exception": false,
     "start_time": "2021-12-06T00:30:11.165503",
     "status": "completed"
    },
    "tags": []
   },
   "outputs": [],
   "source": [
    "df_pivot = df.pivot_table(index=\"PRODUCT\", columns = \"RECORD_TIME\", values = \"LISTING_COUNT\")"
   ]
  },
  {
   "cell_type": "code",
   "execution_count": 6,
   "id": "union-huntington",
   "metadata": {
    "execution": {
     "iopub.execute_input": "2021-12-06T00:30:11.309521Z",
     "iopub.status.busy": "2021-12-06T00:30:11.307219Z",
     "iopub.status.idle": "2021-12-06T00:30:11.313199Z",
     "shell.execute_reply": "2021-12-06T00:30:11.314553Z"
    },
    "papermill": {
     "duration": 0.044043,
     "end_time": "2021-12-06T00:30:11.315016",
     "exception": false,
     "start_time": "2021-12-06T00:30:11.270973",
     "status": "completed"
    },
    "tags": []
   },
   "outputs": [],
   "source": [
    "df_pivot.columns = [\"stamp_1\", \"stamp_2\"]\n",
    "df_pivot_diff = df_pivot.diff(axis=1)"
   ]
  },
  {
   "cell_type": "code",
   "execution_count": 7,
   "id": "fifth-motion",
   "metadata": {
    "execution": {
     "iopub.execute_input": "2021-12-06T00:30:11.373778Z",
     "iopub.status.busy": "2021-12-06T00:30:11.371076Z",
     "iopub.status.idle": "2021-12-06T00:30:13.431101Z",
     "shell.execute_reply": "2021-12-06T00:30:13.432667Z"
    },
    "papermill": {
     "duration": 2.098208,
     "end_time": "2021-12-06T00:30:13.433298",
     "exception": false,
     "start_time": "2021-12-06T00:30:11.335090",
     "status": "completed"
    },
    "tags": []
   },
   "outputs": [
    {
     "data": {
      "text/plain": [
       "<AxesSubplot:ylabel='PRODUCT'>"
      ]
     },
     "execution_count": 7,
     "metadata": {},
     "output_type": "execute_result"
    },
    {
     "data": {
      "image/png": "[encoded data removed]",
      "text/plain": [
       "<Figure size 432x288 with 1 Axes>"
      ]
     },
     "metadata": {
      "needs_background": "light"
     },
     "output_type": "display_data"
    }
   ],
   "source": [
    "df_pivot_diff.sort_values(\"stamp_2\", ascending = False)[\"stamp_2\"].head(10).plot.barh()"
   ]
  },
  {
   "cell_type": "code",
   "execution_count": null,
   "id": "extra-executive",
   "metadata": {
    "papermill": {
     "duration": 0.029275,
     "end_time": "2021-12-06T00:30:13.487640",
     "exception": false,
     "start_time": "2021-12-06T00:30:13.458365",
     "status": "completed"
    },
    "tags": []
   },
   "outputs": [],
   "source": []
  }
 ],
 "metadata": {
  "kernelspec": {
   "display_name": "Python 3",
   "language": "python",
   "name": "python3"
  },
  "language_info": {
   "codemirror_mode": {
    "name": "ipython",
    "version": 3
   },
   "file_extension": ".py",
   "mimetype": "text/x-python",
   "name": "python",
   "nbconvert_exporter": "python",
   "pygments_lexer": "ipython3",
   "version": "3.9.5"
  },
  "papermill": {
   "default_parameters": {},
   "duration": 9.955815,
   "end_time": "2021-12-06T00:30:14.694275",
   "environment_variables": {},
   "exception": null,
   "input_path": "eBay_Overview.ipynb",
   "output_path": "eBay_Overview.ipynb",
   "parameters": {},
   "start_time": "2021-12-06T00:30:04.738460",
   "version": "2.3.3"
  }
 },
 "nbformat": 4,
 "nbformat_minor": 5
}