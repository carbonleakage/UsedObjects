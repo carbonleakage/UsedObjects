{
 "cells": [
  {
   "cell_type": "code",
   "execution_count": 1,
   "id": "reverse-picking",
   "metadata": {
    "execution": {
     "iopub.execute_input": "2021-11-29T16:00:07.417870Z",
     "iopub.status.busy": "2021-11-29T16:00:07.414278Z",
     "iopub.status.idle": "2021-11-29T16:00:08.373137Z",
     "shell.execute_reply": "2021-11-29T16:00:08.375331Z"
    },
    "papermill": {
     "duration": 1.009662,
     "end_time": "2021-11-29T16:00:08.376070",
     "exception": false,
     "start_time": "2021-11-29T16:00:07.366408",
     "status": "completed"
    },
    "tags": []
   },
   "outputs": [],
   "source": [
    "import pandas as pd\n",
    "import sqlite3"
   ]
  },
  {
   "cell_type": "code",
   "execution_count": 2,
   "id": "innovative-syndrome",
   "metadata": {
    "execution": {
     "iopub.execute_input": "2021-11-29T16:00:08.437464Z",
     "iopub.status.busy": "2021-11-29T16:00:08.435210Z",
     "iopub.status.idle": "2021-11-29T16:00:09.385445Z",
     "shell.execute_reply": "2021-11-29T16:00:09.387200Z"
    },
    "papermill": {
     "duration": 0.984167,
     "end_time": "2021-11-29T16:00:09.387740",
     "exception": false,
     "start_time": "2021-11-29T16:00:08.403573",
     "status": "completed"
    },
    "tags": []
   },
   "outputs": [],
   "source": [
    "timestamps = pd.read_sql(\"select distinct record_time from EBAY_TOP_BERLIN order by record_time desc limit 2\", sqlite3.connect(\"UsedObjects.db\"))"
   ]
  },
  {
   "cell_type": "code",
   "execution_count": 3,
   "id": "periodic-identification",
   "metadata": {
    "execution": {
     "iopub.execute_input": "2021-11-29T16:00:09.462621Z",
     "iopub.status.busy": "2021-11-29T16:00:09.457196Z",
     "iopub.status.idle": "2021-11-29T16:00:09.479208Z",
     "shell.execute_reply": "2021-11-29T16:00:09.480560Z"
    },
    "papermill": {
     "duration": 0.072674,
     "end_time": "2021-11-29T16:00:09.481136",
     "exception": false,
     "start_time": "2021-11-29T16:00:09.408462",
     "status": "completed"
    },
    "tags": []
   },
   "outputs": [
    {
     "data": {
      "text/html": [
       "<div>\n",
       "<style scoped>\n",
       "    .dataframe tbody tr th:only-of-type {\n",
       "        vertical-align: middle;\n",
       "    }\n",
       "\n",
       "    .dataframe tbody tr th {\n",
       "        vertical-align: top;\n",
       "    }\n",
       "\n",
       "    .dataframe thead th {\n",
       "        text-align: right;\n",
       "    }\n",
       "</style>\n",
       "<table border=\"1\" class=\"dataframe\">\n",
       "  <thead>\n",
       "    <tr style=\"text-align: right;\">\n",
       "      <th></th>\n",
       "      <th>RECORD_TIME</th>\n",
       "    </tr>\n",
       "  </thead>\n",
       "  <tbody>\n",
       "    <tr>\n",
       "      <th>0</th>\n",
       "      <td>2021-11-29 17:00</td>\n",
       "    </tr>\n",
       "    <tr>\n",
       "      <th>1</th>\n",
       "      <td>2021-11-29 16:30</td>\n",
       "    </tr>\n",
       "  </tbody>\n",
       "</table>\n",
       "</div>"
      ],
      "text/plain": [
       "        RECORD_TIME\n",
       "0  2021-11-29 17:00\n",
       "1  2021-11-29 16:30"
      ]
     },
     "execution_count": 3,
     "metadata": {},
     "output_type": "execute_result"
    }
   ],
   "source": [
    "timestamps"
   ]
  },
  {
   "cell_type": "code",
   "execution_count": 4,
   "id": "alternate-victory",
   "metadata": {
    "execution": {
     "iopub.execute_input": "2021-11-29T16:00:09.537275Z",
     "iopub.status.busy": "2021-11-29T16:00:09.535020Z",
     "iopub.status.idle": "2021-11-29T16:00:10.917645Z",
     "shell.execute_reply": "2021-11-29T16:00:10.919027Z"
    },
    "papermill": {
     "duration": 1.416882,
     "end_time": "2021-11-29T16:00:10.919514",
     "exception": false,
     "start_time": "2021-11-29T16:00:09.502632",
     "status": "completed"
    },
    "tags": []
   },
   "outputs": [],
   "source": [
    "df = pd.read_sql(\"select * from EBAY_TOP_BERLIN where record_time in (select distinct record_time from EBAY_TOP_BERLIN order by record_time desc limit 2)\", sqlite3.connect(\"UsedObjects.db\"))"
   ]
  },
  {
   "cell_type": "code",
   "execution_count": 5,
   "id": "popular-active",
   "metadata": {
    "execution": {
     "iopub.execute_input": "2021-11-29T16:00:10.995551Z",
     "iopub.status.busy": "2021-11-29T16:00:10.981975Z",
     "iopub.status.idle": "2021-11-29T16:00:11.017755Z",
     "shell.execute_reply": "2021-11-29T16:00:11.019246Z"
    },
    "papermill": {
     "duration": 0.079244,
     "end_time": "2021-11-29T16:00:11.019739",
     "exception": false,
     "start_time": "2021-11-29T16:00:10.940495",
     "status": "completed"
    },
    "tags": []
   },
   "outputs": [],
   "source": [
    "df_pivot = df.pivot_table(index=\"PRODUCT\", columns = \"RECORD_TIME\", values = \"LISTING_COUNT\")"
   ]
  },
  {
   "cell_type": "code",
   "execution_count": 6,
   "id": "union-huntington",
   "metadata": {
    "execution": {
     "iopub.execute_input": "2021-11-29T16:00:11.081970Z",
     "iopub.status.busy": "2021-11-29T16:00:11.079661Z",
     "iopub.status.idle": "2021-11-29T16:00:11.085426Z",
     "shell.execute_reply": "2021-11-29T16:00:11.086896Z"
    },
    "papermill": {
     "duration": 0.046346,
     "end_time": "2021-11-29T16:00:11.087481",
     "exception": false,
     "start_time": "2021-11-29T16:00:11.041135",
     "status": "completed"
    },
    "tags": []
   },
   "outputs": [],
   "source": [
    "df_pivot.columns = [\"stamp_1\", \"stamp_2\"]\n",
    "df_pivot_diff = df_pivot.diff(axis=1)"
   ]
  },
  {
   "cell_type": "code",
   "execution_count": 7,
   "id": "fifth-motion",
   "metadata": {
    "execution": {
     "iopub.execute_input": "2021-11-29T16:00:11.145211Z",
     "iopub.status.busy": "2021-11-29T16:00:11.142703Z",
     "iopub.status.idle": "2021-11-29T16:00:13.115027Z",
     "shell.execute_reply": "2021-11-29T16:00:13.117650Z"
    },
    "papermill": {
     "duration": 2.009484,
     "end_time": "2021-11-29T16:00:13.118478",
     "exception": false,
     "start_time": "2021-11-29T16:00:11.108994",
     "status": "completed"
    },
    "tags": []
   },
   "outputs": [
    {
     "data": {
      "text/plain": [
       "<AxesSubplot:ylabel='PRODUCT'>"
      ]
     },
     "execution_count": 7,
     "metadata": {},
     "output_type": "execute_result"
    },
    {
     "data": {
      "image/png": "[encoded data removed]",
      "text/plain": [
       "<Figure size 432x288 with 1 Axes>"
      ]
     },
     "metadata": {
      "needs_background": "light"
     },
     "output_type": "display_data"
    }
   ],
   "source": [
    "df_pivot_diff.sort_values(\"stamp_2\", ascending = False)[\"stamp_2\"].head(10).plot.barh()"
   ]
  },
  {
   "cell_type": "code",
   "execution_count": null,
   "id": "extra-executive",
   "metadata": {
    "papermill": {
     "duration": 0.033423,
     "end_time": "2021-11-29T16:00:13.188814",
     "exception": false,
     "start_time": "2021-11-29T16:00:13.155391",
     "status": "completed"
    },
    "tags": []
   },
   "outputs": [],
   "source": []
  }
 ],
 "metadata": {
  "kernelspec": {
   "display_name": "Python 3",
   "language": "python",
   "name": "python3"
  },
  "language_info": {
   "codemirror_mode": {
    "name": "ipython",
    "version": 3
   },
   "file_extension": ".py",
   "mimetype": "text/x-python",
   "name": "python",
   "nbconvert_exporter": "python",
   "pygments_lexer": "ipython3",
   "version": "3.9.5"
  },
  "papermill": {
   "default_parameters": {},
   "duration": 9.921765,
   "end_time": "2021-11-29T16:00:14.567895",
   "environment_variables": {},
   "exception": null,
   "input_path": "eBay_Overview.ipynb",
   "output_path": "eBay_Overview.ipynb",
   "parameters": {},
   "start_time": "2021-11-29T16:00:04.646130",
   "version": "2.3.3"
  }
 },
 "nbformat": 4,
 "nbformat_minor": 5
}