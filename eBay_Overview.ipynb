{
 "cells": [
  {
   "cell_type": "code",
   "execution_count": 1,
   "id": "reverse-picking",
   "metadata": {
    "execution": {
     "iopub.execute_input": "2021-12-11T15:30:08.015870Z",
     "iopub.status.busy": "2021-12-11T15:30:08.013504Z",
     "iopub.status.idle": "2021-12-11T15:30:08.970949Z",
     "shell.execute_reply": "2021-12-11T15:30:08.972422Z"
    },
    "papermill": {
     "duration": 1.005003,
     "end_time": "2021-12-11T15:30:08.973295",
     "exception": false,
     "start_time": "2021-12-11T15:30:07.968292",
     "status": "completed"
    },
    "tags": []
   },
   "outputs": [],
   "source": [
    "import pandas as pd\n",
    "import sqlite3"
   ]
  },
  {
   "cell_type": "code",
   "execution_count": 2,
   "id": "innovative-syndrome",
   "metadata": {
    "execution": {
     "iopub.execute_input": "2021-12-11T15:30:09.035170Z",
     "iopub.status.busy": "2021-12-11T15:30:09.033023Z",
     "iopub.status.idle": "2021-12-11T15:30:10.130924Z",
     "shell.execute_reply": "2021-12-11T15:30:10.132353Z"
    },
    "papermill": {
     "duration": 1.132578,
     "end_time": "2021-12-11T15:30:10.132922",
     "exception": false,
     "start_time": "2021-12-11T15:30:09.000344",
     "status": "completed"
    },
    "tags": []
   },
   "outputs": [],
   "source": [
    "timestamps = pd.read_sql(\"select distinct record_time from EBAY_TOP_BERLIN order by record_time desc limit 2\", sqlite3.connect(\"UsedObjects.db\"))"
   ]
  },
  {
   "cell_type": "code",
   "execution_count": 3,
   "id": "periodic-identification",
   "metadata": {
    "execution": {
     "iopub.execute_input": "2021-12-11T15:30:10.206704Z",
     "iopub.status.busy": "2021-12-11T15:30:10.204152Z",
     "iopub.status.idle": "2021-12-11T15:30:10.228185Z",
     "shell.execute_reply": "2021-12-11T15:30:10.229744Z"
    },
    "papermill": {
     "duration": 0.076782,
     "end_time": "2021-12-11T15:30:10.230243",
     "exception": false,
     "start_time": "2021-12-11T15:30:10.153461",
     "status": "completed"
    },
    "tags": []
   },
   "outputs": [
    {
     "data": {
      "text/html": [
       "<div>\n",
       "<style scoped>\n",
       "    .dataframe tbody tr th:only-of-type {\n",
       "        vertical-align: middle;\n",
       "    }\n",
       "\n",
       "    .dataframe tbody tr th {\n",
       "        vertical-align: top;\n",
       "    }\n",
       "\n",
       "    .dataframe thead th {\n",
       "        text-align: right;\n",
       "    }\n",
       "</style>\n",
       "<table border=\"1\" class=\"dataframe\">\n",
       "  <thead>\n",
       "    <tr style=\"text-align: right;\">\n",
       "      <th></th>\n",
       "      <th>RECORD_TIME</th>\n",
       "    </tr>\n",
       "  </thead>\n",
       "  <tbody>\n",
       "    <tr>\n",
       "      <th>0</th>\n",
       "      <td>2021-12-11 16:30</td>\n",
       "    </tr>\n",
       "    <tr>\n",
       "      <th>1</th>\n",
       "      <td>2021-12-11 16:00</td>\n",
       "    </tr>\n",
       "  </tbody>\n",
       "</table>\n",
       "</div>"
      ],
      "text/plain": [
       "        RECORD_TIME\n",
       "0  2021-12-11 16:30\n",
       "1  2021-12-11 16:00"
      ]
     },
     "execution_count": 3,
     "metadata": {},
     "output_type": "execute_result"
    }
   ],
   "source": [
    "timestamps"
   ]
  },
  {
   "cell_type": "code",
   "execution_count": 4,
   "id": "alternate-victory",
   "metadata": {
    "execution": {
     "iopub.execute_input": "2021-12-11T15:30:10.287415Z",
     "iopub.status.busy": "2021-12-11T15:30:10.285178Z",
     "iopub.status.idle": "2021-12-11T15:30:11.826032Z",
     "shell.execute_reply": "2021-12-11T15:30:11.828041Z"
    },
    "papermill": {
     "duration": 1.576413,
     "end_time": "2021-12-11T15:30:11.828483",
     "exception": false,
     "start_time": "2021-12-11T15:30:10.252070",
     "status": "completed"
    },
    "tags": []
   },
   "outputs": [],
   "source": [
    "df = pd.read_sql(\"select * from EBAY_TOP_BERLIN where record_time in (select distinct record_time from EBAY_TOP_BERLIN order by record_time desc limit 2)\", sqlite3.connect(\"UsedObjects.db\"))"
   ]
  },
  {
   "cell_type": "code",
   "execution_count": 5,
   "id": "popular-active",
   "metadata": {
    "execution": {
     "iopub.execute_input": "2021-12-11T15:30:11.900467Z",
     "iopub.status.busy": "2021-12-11T15:30:11.891839Z",
     "iopub.status.idle": "2021-12-11T15:30:11.924994Z",
     "shell.execute_reply": "2021-12-11T15:30:11.926418Z"
    },
    "papermill": {
     "duration": 0.077247,
     "end_time": "2021-12-11T15:30:11.926903",
     "exception": false,
     "start_time": "2021-12-11T15:30:11.849656",
     "status": "completed"
    },
    "tags": []
   },
   "outputs": [],
   "source": [
    "df_pivot = df.pivot_table(index=\"PRODUCT\", columns = \"RECORD_TIME\", values = \"LISTING_COUNT\")"
   ]
  },
  {
   "cell_type": "code",
   "execution_count": 6,
   "id": "union-huntington",
   "metadata": {
    "execution": {
     "iopub.execute_input": "2021-12-11T15:30:11.987971Z",
     "iopub.status.busy": "2021-12-11T15:30:11.985675Z",
     "iopub.status.idle": "2021-12-11T15:30:11.993075Z",
     "shell.execute_reply": "2021-12-11T15:30:11.991446Z"
    },
    "papermill": {
     "duration": 0.045154,
     "end_time": "2021-12-11T15:30:11.993474",
     "exception": false,
     "start_time": "2021-12-11T15:30:11.948320",
     "status": "completed"
    },
    "tags": []
   },
   "outputs": [],
   "source": [
    "df_pivot.columns = [\"stamp_1\", \"stamp_2\"]\n",
    "df_pivot_diff = df_pivot.diff(axis=1)"
   ]
  },
  {
   "cell_type": "code",
   "execution_count": 7,
   "id": "fifth-motion",
   "metadata": {
    "execution": {
     "iopub.execute_input": "2021-12-11T15:30:12.049464Z",
     "iopub.status.busy": "2021-12-11T15:30:12.046919Z",
     "iopub.status.idle": "2021-12-11T15:30:13.958506Z",
     "shell.execute_reply": "2021-12-11T15:30:13.960312Z"
    },
    "papermill": {
     "duration": 1.947076,
     "end_time": "2021-12-11T15:30:13.960950",
     "exception": false,
     "start_time": "2021-12-11T15:30:12.013874",
     "status": "completed"
    },
    "tags": []
   },
   "outputs": [
    {
     "data": {
      "text/plain": [
       "<AxesSubplot:ylabel='PRODUCT'>"
      ]
     },
     "execution_count": 7,
     "metadata": {},
     "output_type": "execute_result"
    },
    {
     "data": {
      "image/png": "[encoded data removed]",
      "text/plain": [
       "<Figure size 432x288 with 1 Axes>"
      ]
     },
     "metadata": {
      "needs_background": "light"
     },
     "output_type": "display_data"
    }
   ],
   "source": [
    "df_pivot_diff.sort_values(\"stamp_2\", ascending = False)[\"stamp_2\"].head(10).plot.barh()"
   ]
  },
  {
   "cell_type": "code",
   "execution_count": null,
   "id": "extra-executive",
   "metadata": {
    "papermill": {
     "duration": 0.03388,
     "end_time": "2021-12-11T15:30:14.035133",
     "exception": false,
     "start_time": "2021-12-11T15:30:14.001253",
     "status": "completed"
    },
    "tags": []
   },
   "outputs": [],
   "source": []
  }
 ],
 "metadata": {
  "kernelspec": {
   "display_name": "Python 3",
   "language": "python",
   "name": "python3"
  },
  "language_info": {
   "codemirror_mode": {
    "name": "ipython",
    "version": 3
   },
   "file_extension": ".py",
   "mimetype": "text/x-python",
   "name": "python",
   "nbconvert_exporter": "python",
   "pygments_lexer": "ipython3",
   "version": "3.9.5"
  },
  "papermill": {
   "default_parameters": {},
   "duration": 9.720881,
   "end_time": "2021-12-11T15:30:14.904220",
   "environment_variables": {},
   "exception": null,
   "input_path": "eBay_Overview.ipynb",
   "output_path": "eBay_Overview.ipynb",
   "parameters": {},
   "start_time": "2021-12-11T15:30:05.183339",
   "version": "2.3.3"
  }
 },
 "nbformat": 4,
 "nbformat_minor": 5
}