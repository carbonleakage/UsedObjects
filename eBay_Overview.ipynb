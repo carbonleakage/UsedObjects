{
 "cells": [
  {
   "cell_type": "code",
   "execution_count": 1,
   "id": "reverse-picking",
   "metadata": {
    "execution": {
     "iopub.execute_input": "2021-11-12T14:30:07.388829Z",
     "iopub.status.busy": "2021-11-12T14:30:07.386312Z",
     "iopub.status.idle": "2021-11-12T14:30:08.295793Z",
     "shell.execute_reply": "2021-11-12T14:30:08.293997Z"
    },
    "papermill": {
     "duration": 0.958608,
     "end_time": "2021-11-12T14:30:08.296283",
     "exception": false,
     "start_time": "2021-11-12T14:30:07.337675",
     "status": "completed"
    },
    "tags": []
   },
   "outputs": [],
   "source": [
    "import pandas as pd\n",
    "import sqlite3"
   ]
  },
  {
   "cell_type": "code",
   "execution_count": 2,
   "id": "innovative-syndrome",
   "metadata": {
    "execution": {
     "iopub.execute_input": "2021-11-12T14:30:08.351838Z",
     "iopub.status.busy": "2021-11-12T14:30:08.349682Z",
     "iopub.status.idle": "2021-11-12T14:30:09.160509Z",
     "shell.execute_reply": "2021-11-12T14:30:09.159060Z"
    },
    "papermill": {
     "duration": 0.843397,
     "end_time": "2021-11-12T14:30:09.160970",
     "exception": false,
     "start_time": "2021-11-12T14:30:08.317573",
     "status": "completed"
    },
    "tags": []
   },
   "outputs": [],
   "source": [
    "timestamps = pd.read_sql(\"select distinct record_time from EBAY_TOP_BERLIN order by record_time desc limit 2\", sqlite3.connect(\"UsedObjects.db\"))"
   ]
  },
  {
   "cell_type": "code",
   "execution_count": 3,
   "id": "periodic-identification",
   "metadata": {
    "execution": {
     "iopub.execute_input": "2021-11-12T14:30:09.231646Z",
     "iopub.status.busy": "2021-11-12T14:30:09.229401Z",
     "iopub.status.idle": "2021-11-12T14:30:09.252825Z",
     "shell.execute_reply": "2021-11-12T14:30:09.251199Z"
    },
    "papermill": {
     "duration": 0.072693,
     "end_time": "2021-11-12T14:30:09.253251",
     "exception": false,
     "start_time": "2021-11-12T14:30:09.180558",
     "status": "completed"
    },
    "tags": []
   },
   "outputs": [
    {
     "data": {
      "text/html": [
       "<div>\n",
       "<style scoped>\n",
       "    .dataframe tbody tr th:only-of-type {\n",
       "        vertical-align: middle;\n",
       "    }\n",
       "\n",
       "    .dataframe tbody tr th {\n",
       "        vertical-align: top;\n",
       "    }\n",
       "\n",
       "    .dataframe thead th {\n",
       "        text-align: right;\n",
       "    }\n",
       "</style>\n",
       "<table border=\"1\" class=\"dataframe\">\n",
       "  <thead>\n",
       "    <tr style=\"text-align: right;\">\n",
       "      <th></th>\n",
       "      <th>RECORD_TIME</th>\n",
       "    </tr>\n",
       "  </thead>\n",
       "  <tbody>\n",
       "    <tr>\n",
       "      <th>0</th>\n",
       "      <td>2021-11-12 15:30</td>\n",
       "    </tr>\n",
       "    <tr>\n",
       "      <th>1</th>\n",
       "      <td>2021-11-12 15:00</td>\n",
       "    </tr>\n",
       "  </tbody>\n",
       "</table>\n",
       "</div>"
      ],
      "text/plain": [
       "        RECORD_TIME\n",
       "0  2021-11-12 15:30\n",
       "1  2021-11-12 15:00"
      ]
     },
     "execution_count": 3,
     "metadata": {},
     "output_type": "execute_result"
    }
   ],
   "source": [
    "timestamps"
   ]
  },
  {
   "cell_type": "code",
   "execution_count": 4,
   "id": "alternate-victory",
   "metadata": {
    "execution": {
     "iopub.execute_input": "2021-11-12T14:30:09.311682Z",
     "iopub.status.busy": "2021-11-12T14:30:09.309221Z",
     "iopub.status.idle": "2021-11-12T14:30:10.454598Z",
     "shell.execute_reply": "2021-11-12T14:30:10.456150Z"
    },
    "papermill": {
     "duration": 1.18179,
     "end_time": "2021-11-12T14:30:10.456638",
     "exception": false,
     "start_time": "2021-11-12T14:30:09.274848",
     "status": "completed"
    },
    "tags": []
   },
   "outputs": [],
   "source": [
    "df = pd.read_sql(\"select * from EBAY_TOP_BERLIN where record_time in (select distinct record_time from EBAY_TOP_BERLIN order by record_time desc limit 2)\", sqlite3.connect(\"UsedObjects.db\"))"
   ]
  },
  {
   "cell_type": "code",
   "execution_count": 5,
   "id": "popular-active",
   "metadata": {
    "execution": {
     "iopub.execute_input": "2021-11-12T14:30:10.525901Z",
     "iopub.status.busy": "2021-11-12T14:30:10.523612Z",
     "iopub.status.idle": "2021-11-12T14:30:10.553054Z",
     "shell.execute_reply": "2021-11-12T14:30:10.554404Z"
    },
    "papermill": {
     "duration": 0.075553,
     "end_time": "2021-11-12T14:30:10.554880",
     "exception": false,
     "start_time": "2021-11-12T14:30:10.479327",
     "status": "completed"
    },
    "tags": []
   },
   "outputs": [],
   "source": [
    "df_pivot = df.pivot_table(index=\"PRODUCT\", columns = \"RECORD_TIME\", values = \"LISTING_COUNT\")"
   ]
  },
  {
   "cell_type": "code",
   "execution_count": 6,
   "id": "union-huntington",
   "metadata": {
    "execution": {
     "iopub.execute_input": "2021-11-12T14:30:10.614573Z",
     "iopub.status.busy": "2021-11-12T14:30:10.612116Z",
     "iopub.status.idle": "2021-11-12T14:30:10.617777Z",
     "shell.execute_reply": "2021-11-12T14:30:10.619485Z"
    },
    "papermill": {
     "duration": 0.044871,
     "end_time": "2021-11-12T14:30:10.619973",
     "exception": false,
     "start_time": "2021-11-12T14:30:10.575102",
     "status": "completed"
    },
    "tags": []
   },
   "outputs": [],
   "source": [
    "df_pivot.columns = [\"stamp_1\", \"stamp_2\"]\n",
    "df_pivot_diff = df_pivot.diff(axis=1)"
   ]
  },
  {
   "cell_type": "code",
   "execution_count": 7,
   "id": "fifth-motion",
   "metadata": {
    "execution": {
     "iopub.execute_input": "2021-11-12T14:30:10.694602Z",
     "iopub.status.busy": "2021-11-12T14:30:10.690440Z",
     "iopub.status.idle": "2021-11-12T14:30:12.520348Z",
     "shell.execute_reply": "2021-11-12T14:30:12.517211Z"
    },
    "papermill": {
     "duration": 1.878468,
     "end_time": "2021-11-12T14:30:12.521136",
     "exception": false,
     "start_time": "2021-11-12T14:30:10.642668",
     "status": "completed"
    },
    "tags": []
   },
   "outputs": [
    {
     "data": {
      "text/plain": [
       "<AxesSubplot:ylabel='PRODUCT'>"
      ]
     },
     "execution_count": 7,
     "metadata": {},
     "output_type": "execute_result"
    },
    {
     "data": {
      "image/png": "[encoded data removed]",
      "text/plain": [
       "<Figure size 432x288 with 1 Axes>"
      ]
     },
     "metadata": {
      "needs_background": "light"
     },
     "output_type": "display_data"
    }
   ],
   "source": [
    "df_pivot_diff.sort_values(\"stamp_2\", ascending = False)[\"stamp_2\"].head(10).plot.barh()"
   ]
  },
  {
   "cell_type": "code",
   "execution_count": null,
   "id": "extra-executive",
   "metadata": {
    "papermill": {
     "duration": 0.030705,
     "end_time": "2021-11-12T14:30:12.590717",
     "exception": false,
     "start_time": "2021-11-12T14:30:12.560012",
     "status": "completed"
    },
    "tags": []
   },
   "outputs": [],
   "source": []
  }
 ],
 "metadata": {
  "kernelspec": {
   "display_name": "Python 3",
   "language": "python",
   "name": "python3"
  },
  "language_info": {
   "codemirror_mode": {
    "name": "ipython",
    "version": 3
   },
   "file_extension": ".py",
   "mimetype": "text/x-python",
   "name": "python",
   "nbconvert_exporter": "python",
   "pygments_lexer": "ipython3",
   "version": "3.9.5"
  },
  "papermill": {
   "default_parameters": {},
   "duration": 8.848498,
   "end_time": "2021-11-12T14:30:13.463288",
   "environment_variables": {},
   "exception": null,
   "input_path": "eBay_Overview.ipynb",
   "output_path": "eBay_Overview.ipynb",
   "parameters": {},
   "start_time": "2021-11-12T14:30:04.614790",
   "version": "2.3.3"
  }
 },
 "nbformat": 4,
 "nbformat_minor": 5
}