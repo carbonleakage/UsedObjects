{
 "cells": [
  {
   "cell_type": "code",
   "execution_count": 1,
   "id": "reverse-picking",
   "metadata": {
    "execution": {
     "iopub.execute_input": "2021-08-22T23:00:06.641393Z",
     "iopub.status.busy": "2021-08-22T23:00:06.639449Z",
     "iopub.status.idle": "2021-08-22T23:00:07.448465Z",
     "shell.execute_reply": "2021-08-22T23:00:07.449724Z"
    },
    "papermill": {
     "duration": 0.861047,
     "end_time": "2021-08-22T23:00:07.450398",
     "exception": false,
     "start_time": "2021-08-22T23:00:06.589351",
     "status": "completed"
    },
    "tags": []
   },
   "outputs": [],
   "source": [
    "import pandas as pd\n",
    "import sqlite3"
   ]
  },
  {
   "cell_type": "code",
   "execution_count": 2,
   "id": "innovative-syndrome",
   "metadata": {
    "execution": {
     "iopub.execute_input": "2021-08-22T23:00:07.500691Z",
     "iopub.status.busy": "2021-08-22T23:00:07.498816Z",
     "iopub.status.idle": "2021-08-22T23:00:07.605294Z",
     "shell.execute_reply": "2021-08-22T23:00:07.606574Z"
    },
    "papermill": {
     "duration": 0.135895,
     "end_time": "2021-08-22T23:00:07.606980",
     "exception": false,
     "start_time": "2021-08-22T23:00:07.471085",
     "status": "completed"
    },
    "tags": []
   },
   "outputs": [],
   "source": [
    "timestamps = pd.read_sql(\"select distinct record_time from EBAY_TOP_BERLIN order by record_time desc limit 2\", sqlite3.connect(\"UsedObjects.db\"))"
   ]
  },
  {
   "cell_type": "code",
   "execution_count": 3,
   "id": "periodic-identification",
   "metadata": {
    "execution": {
     "iopub.execute_input": "2021-08-22T23:00:07.673118Z",
     "iopub.status.busy": "2021-08-22T23:00:07.668004Z",
     "iopub.status.idle": "2021-08-22T23:00:07.688628Z",
     "shell.execute_reply": "2021-08-22T23:00:07.689890Z"
    },
    "papermill": {
     "duration": 0.064086,
     "end_time": "2021-08-22T23:00:07.690538",
     "exception": false,
     "start_time": "2021-08-22T23:00:07.626452",
     "status": "completed"
    },
    "tags": []
   },
   "outputs": [
    {
     "data": {
      "text/html": [
       "<div>\n",
       "<style scoped>\n",
       "    .dataframe tbody tr th:only-of-type {\n",
       "        vertical-align: middle;\n",
       "    }\n",
       "\n",
       "    .dataframe tbody tr th {\n",
       "        vertical-align: top;\n",
       "    }\n",
       "\n",
       "    .dataframe thead th {\n",
       "        text-align: right;\n",
       "    }\n",
       "</style>\n",
       "<table border=\"1\" class=\"dataframe\">\n",
       "  <thead>\n",
       "    <tr style=\"text-align: right;\">\n",
       "      <th></th>\n",
       "      <th>RECORD_TIME</th>\n",
       "    </tr>\n",
       "  </thead>\n",
       "  <tbody>\n",
       "    <tr>\n",
       "      <th>0</th>\n",
       "      <td>2021-08-23 01:00</td>\n",
       "    </tr>\n",
       "    <tr>\n",
       "      <th>1</th>\n",
       "      <td>2021-08-23 00:30</td>\n",
       "    </tr>\n",
       "  </tbody>\n",
       "</table>\n",
       "</div>"
      ],
      "text/plain": [
       "        RECORD_TIME\n",
       "0  2021-08-23 01:00\n",
       "1  2021-08-23 00:30"
      ]
     },
     "execution_count": 3,
     "metadata": {},
     "output_type": "execute_result"
    }
   ],
   "source": [
    "timestamps"
   ]
  },
  {
   "cell_type": "code",
   "execution_count": 4,
   "id": "alternate-victory",
   "metadata": {
    "execution": {
     "iopub.execute_input": "2021-08-22T23:00:07.742989Z",
     "iopub.status.busy": "2021-08-22T23:00:07.740612Z",
     "iopub.status.idle": "2021-08-22T23:00:07.900962Z",
     "shell.execute_reply": "2021-08-22T23:00:07.902250Z"
    },
    "papermill": {
     "duration": 0.190618,
     "end_time": "2021-08-22T23:00:07.902671",
     "exception": false,
     "start_time": "2021-08-22T23:00:07.712053",
     "status": "completed"
    },
    "tags": []
   },
   "outputs": [],
   "source": [
    "df = pd.read_sql(\"select * from EBAY_TOP_BERLIN where record_time in (select distinct record_time from EBAY_TOP_BERLIN order by record_time desc limit 2)\", sqlite3.connect(\"UsedObjects.db\"))"
   ]
  },
  {
   "cell_type": "code",
   "execution_count": 5,
   "id": "popular-active",
   "metadata": {
    "execution": {
     "iopub.execute_input": "2021-08-22T23:00:07.972867Z",
     "iopub.status.busy": "2021-08-22T23:00:07.965708Z",
     "iopub.status.idle": "2021-08-22T23:00:07.988119Z",
     "shell.execute_reply": "2021-08-22T23:00:07.989416Z"
    },
    "papermill": {
     "duration": 0.066959,
     "end_time": "2021-08-22T23:00:07.989837",
     "exception": false,
     "start_time": "2021-08-22T23:00:07.922878",
     "status": "completed"
    },
    "tags": []
   },
   "outputs": [],
   "source": [
    "df_pivot = df.pivot_table(index=\"PRODUCT\", columns = \"RECORD_TIME\", values = \"LISTING_COUNT\")"
   ]
  },
  {
   "cell_type": "code",
   "execution_count": 6,
   "id": "union-huntington",
   "metadata": {
    "execution": {
     "iopub.execute_input": "2021-08-22T23:00:08.045813Z",
     "iopub.status.busy": "2021-08-22T23:00:08.043731Z",
     "iopub.status.idle": "2021-08-22T23:00:08.049166Z",
     "shell.execute_reply": "2021-08-22T23:00:08.050534Z"
    },
    "papermill": {
     "duration": 0.041179,
     "end_time": "2021-08-22T23:00:08.050958",
     "exception": false,
     "start_time": "2021-08-22T23:00:08.009779",
     "status": "completed"
    },
    "tags": []
   },
   "outputs": [],
   "source": [
    "df_pivot.columns = [\"stamp_1\", \"stamp_2\"]\n",
    "df_pivot_diff = df_pivot.diff(axis=1)"
   ]
  },
  {
   "cell_type": "code",
   "execution_count": 7,
   "id": "fifth-motion",
   "metadata": {
    "execution": {
     "iopub.execute_input": "2021-08-22T23:00:08.114032Z",
     "iopub.status.busy": "2021-08-22T23:00:08.111644Z",
     "iopub.status.idle": "2021-08-22T23:00:09.571017Z",
     "shell.execute_reply": "2021-08-22T23:00:09.572324Z"
    },
    "papermill": {
     "duration": 1.495801,
     "end_time": "2021-08-22T23:00:09.572744",
     "exception": false,
     "start_time": "2021-08-22T23:00:08.076943",
     "status": "completed"
    },
    "tags": []
   },
   "outputs": [
    {
     "data": {
      "text/plain": [
       "<AxesSubplot:ylabel='PRODUCT'>"
      ]
     },
     "execution_count": 7,
     "metadata": {},
     "output_type": "execute_result"
    },
    {
     "data": {
      "image/png": "[encoded data removed]",
      "text/plain": [
       "<Figure size 432x288 with 1 Axes>"
      ]
     },
     "metadata": {
      "needs_background": "light"
     },
     "output_type": "display_data"
    }
   ],
   "source": [
    "df_pivot_diff.sort_values(\"stamp_2\", ascending = False)[\"stamp_2\"].head(10).plot.barh()"
   ]
  },
  {
   "cell_type": "code",
   "execution_count": null,
   "id": "extra-executive",
   "metadata": {
    "papermill": {
     "duration": 0.021955,
     "end_time": "2021-08-22T23:00:09.619870",
     "exception": false,
     "start_time": "2021-08-22T23:00:09.597915",
     "status": "completed"
    },
    "tags": []
   },
   "outputs": [],
   "source": []
  }
 ],
 "metadata": {
  "kernelspec": {
   "display_name": "Python 3",
   "language": "python",
   "name": "python3"
  },
  "language_info": {
   "codemirror_mode": {
    "name": "ipython",
    "version": 3
   },
   "file_extension": ".py",
   "mimetype": "text/x-python",
   "name": "python",
   "nbconvert_exporter": "python",
   "pygments_lexer": "ipython3",
   "version": "3.9.5"
  },
  "papermill": {
   "default_parameters": {},
   "duration": 6.834522,
   "end_time": "2021-08-22T23:00:11.013245",
   "environment_variables": {},
   "exception": null,
   "input_path": "eBay_Overview.ipynb",
   "output_path": "eBay_Overview.ipynb",
   "parameters": {},
   "start_time": "2021-08-22T23:00:04.178723",
   "version": "2.3.3"
  }
 },
 "nbformat": 4,
 "nbformat_minor": 5
}