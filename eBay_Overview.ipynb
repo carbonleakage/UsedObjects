{
 "cells": [
  {
   "cell_type": "code",
   "execution_count": 1,
   "id": "reverse-picking",
   "metadata": {
    "execution": {
     "iopub.execute_input": "2021-09-12T19:30:07.285242Z",
     "iopub.status.busy": "2021-09-12T19:30:07.283184Z",
     "iopub.status.idle": "2021-09-12T19:30:08.089415Z",
     "shell.execute_reply": "2021-09-12T19:30:08.087825Z"
    },
    "papermill": {
     "duration": 0.856284,
     "end_time": "2021-09-12T19:30:08.089801",
     "exception": false,
     "start_time": "2021-09-12T19:30:07.233517",
     "status": "completed"
    },
    "tags": []
   },
   "outputs": [],
   "source": [
    "import pandas as pd\n",
    "import sqlite3"
   ]
  },
  {
   "cell_type": "code",
   "execution_count": 2,
   "id": "innovative-syndrome",
   "metadata": {
    "execution": {
     "iopub.execute_input": "2021-09-12T19:30:08.142224Z",
     "iopub.status.busy": "2021-09-12T19:30:08.140047Z",
     "iopub.status.idle": "2021-09-12T19:30:08.416017Z",
     "shell.execute_reply": "2021-09-12T19:30:08.417438Z"
    },
    "papermill": {
     "duration": 0.306309,
     "end_time": "2021-09-12T19:30:08.417874",
     "exception": false,
     "start_time": "2021-09-12T19:30:08.111565",
     "status": "completed"
    },
    "tags": []
   },
   "outputs": [],
   "source": [
    "timestamps = pd.read_sql(\"select distinct record_time from EBAY_TOP_BERLIN order by record_time desc limit 2\", sqlite3.connect(\"UsedObjects.db\"))"
   ]
  },
  {
   "cell_type": "code",
   "execution_count": 3,
   "id": "periodic-identification",
   "metadata": {
    "execution": {
     "iopub.execute_input": "2021-09-12T19:30:08.484957Z",
     "iopub.status.busy": "2021-09-12T19:30:08.482935Z",
     "iopub.status.idle": "2021-09-12T19:30:08.503110Z",
     "shell.execute_reply": "2021-09-12T19:30:08.504339Z"
    },
    "papermill": {
     "duration": 0.066986,
     "end_time": "2021-09-12T19:30:08.504768",
     "exception": false,
     "start_time": "2021-09-12T19:30:08.437782",
     "status": "completed"
    },
    "tags": []
   },
   "outputs": [
    {
     "data": {
      "text/html": [
       "<div>\n",
       "<style scoped>\n",
       "    .dataframe tbody tr th:only-of-type {\n",
       "        vertical-align: middle;\n",
       "    }\n",
       "\n",
       "    .dataframe tbody tr th {\n",
       "        vertical-align: top;\n",
       "    }\n",
       "\n",
       "    .dataframe thead th {\n",
       "        text-align: right;\n",
       "    }\n",
       "</style>\n",
       "<table border=\"1\" class=\"dataframe\">\n",
       "  <thead>\n",
       "    <tr style=\"text-align: right;\">\n",
       "      <th></th>\n",
       "      <th>RECORD_TIME</th>\n",
       "    </tr>\n",
       "  </thead>\n",
       "  <tbody>\n",
       "    <tr>\n",
       "      <th>0</th>\n",
       "      <td>2021-09-12 21:30</td>\n",
       "    </tr>\n",
       "    <tr>\n",
       "      <th>1</th>\n",
       "      <td>2021-09-12 21:00</td>\n",
       "    </tr>\n",
       "  </tbody>\n",
       "</table>\n",
       "</div>"
      ],
      "text/plain": [
       "        RECORD_TIME\n",
       "0  2021-09-12 21:30\n",
       "1  2021-09-12 21:00"
      ]
     },
     "execution_count": 3,
     "metadata": {},
     "output_type": "execute_result"
    }
   ],
   "source": [
    "timestamps"
   ]
  },
  {
   "cell_type": "code",
   "execution_count": 4,
   "id": "alternate-victory",
   "metadata": {
    "execution": {
     "iopub.execute_input": "2021-09-12T19:30:08.555527Z",
     "iopub.status.busy": "2021-09-12T19:30:08.553432Z",
     "iopub.status.idle": "2021-09-12T19:30:08.959676Z",
     "shell.execute_reply": "2021-09-12T19:30:08.960973Z"
    },
    "papermill": {
     "duration": 0.436345,
     "end_time": "2021-09-12T19:30:08.961373",
     "exception": false,
     "start_time": "2021-09-12T19:30:08.525028",
     "status": "completed"
    },
    "tags": []
   },
   "outputs": [],
   "source": [
    "df = pd.read_sql(\"select * from EBAY_TOP_BERLIN where record_time in (select distinct record_time from EBAY_TOP_BERLIN order by record_time desc limit 2)\", sqlite3.connect(\"UsedObjects.db\"))"
   ]
  },
  {
   "cell_type": "code",
   "execution_count": 5,
   "id": "popular-active",
   "metadata": {
    "execution": {
     "iopub.execute_input": "2021-09-12T19:30:09.042214Z",
     "iopub.status.busy": "2021-09-12T19:30:09.035443Z",
     "iopub.status.idle": "2021-09-12T19:30:09.057810Z",
     "shell.execute_reply": "2021-09-12T19:30:09.059079Z"
    },
    "papermill": {
     "duration": 0.071807,
     "end_time": "2021-09-12T19:30:09.059516",
     "exception": false,
     "start_time": "2021-09-12T19:30:08.987709",
     "status": "completed"
    },
    "tags": []
   },
   "outputs": [],
   "source": [
    "df_pivot = df.pivot_table(index=\"PRODUCT\", columns = \"RECORD_TIME\", values = \"LISTING_COUNT\")"
   ]
  },
  {
   "cell_type": "code",
   "execution_count": 6,
   "id": "union-huntington",
   "metadata": {
    "execution": {
     "iopub.execute_input": "2021-09-12T19:30:09.115686Z",
     "iopub.status.busy": "2021-09-12T19:30:09.113578Z",
     "iopub.status.idle": "2021-09-12T19:30:09.118730Z",
     "shell.execute_reply": "2021-09-12T19:30:09.120020Z"
    },
    "papermill": {
     "duration": 0.040806,
     "end_time": "2021-09-12T19:30:09.120451",
     "exception": false,
     "start_time": "2021-09-12T19:30:09.079645",
     "status": "completed"
    },
    "tags": []
   },
   "outputs": [],
   "source": [
    "df_pivot.columns = [\"stamp_1\", \"stamp_2\"]\n",
    "df_pivot_diff = df_pivot.diff(axis=1)"
   ]
  },
  {
   "cell_type": "code",
   "execution_count": 7,
   "id": "fifth-motion",
   "metadata": {
    "execution": {
     "iopub.execute_input": "2021-09-12T19:30:09.174667Z",
     "iopub.status.busy": "2021-09-12T19:30:09.172272Z",
     "iopub.status.idle": "2021-09-12T19:30:10.654186Z",
     "shell.execute_reply": "2021-09-12T19:30:10.655624Z"
    },
    "papermill": {
     "duration": 1.515207,
     "end_time": "2021-09-12T19:30:10.656068",
     "exception": false,
     "start_time": "2021-09-12T19:30:09.140861",
     "status": "completed"
    },
    "tags": []
   },
   "outputs": [
    {
     "data": {
      "text/plain": [
       "<AxesSubplot:ylabel='PRODUCT'>"
      ]
     },
     "execution_count": 7,
     "metadata": {},
     "output_type": "execute_result"
    },
    {
     "data": {
      "image/png": "[encoded data removed]",
      "text/plain": [
       "<Figure size 432x288 with 1 Axes>"
      ]
     },
     "metadata": {
      "needs_background": "light"
     },
     "output_type": "display_data"
    }
   ],
   "source": [
    "df_pivot_diff.sort_values(\"stamp_2\", ascending = False)[\"stamp_2\"].head(10).plot.barh()"
   ]
  },
  {
   "cell_type": "code",
   "execution_count": null,
   "id": "extra-executive",
   "metadata": {
    "papermill": {
     "duration": 0.022195,
     "end_time": "2021-09-12T19:30:10.703060",
     "exception": false,
     "start_time": "2021-09-12T19:30:10.680865",
     "status": "completed"
    },
    "tags": []
   },
   "outputs": [],
   "source": []
  }
 ],
 "metadata": {
  "kernelspec": {
   "display_name": "Python 3",
   "language": "python",
   "name": "python3"
  },
  "language_info": {
   "codemirror_mode": {
    "name": "ipython",
    "version": 3
   },
   "file_extension": ".py",
   "mimetype": "text/x-python",
   "name": "python",
   "nbconvert_exporter": "python",
   "pygments_lexer": "ipython3",
   "version": "3.9.5"
  },
  "papermill": {
   "default_parameters": {},
   "duration": 6.532374,
   "end_time": "2021-09-12T19:30:11.346323",
   "environment_variables": {},
   "exception": null,
   "input_path": "eBay_Overview.ipynb",
   "output_path": "eBay_Overview.ipynb",
   "parameters": {},
   "start_time": "2021-09-12T19:30:04.813949",
   "version": "2.3.3"
  }
 },
 "nbformat": 4,
 "nbformat_minor": 5
}