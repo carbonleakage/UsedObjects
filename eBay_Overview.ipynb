{
 "cells": [
  {
   "cell_type": "code",
   "execution_count": 1,
   "id": "reverse-picking",
   "metadata": {
    "execution": {
     "iopub.execute_input": "2021-10-24T23:30:06.854541Z",
     "iopub.status.busy": "2021-10-24T23:30:06.852491Z",
     "iopub.status.idle": "2021-10-24T23:30:07.666650Z",
     "shell.execute_reply": "2021-10-24T23:30:07.664569Z"
    },
    "papermill": {
     "duration": 0.86518,
     "end_time": "2021-10-24T23:30:07.667117",
     "exception": false,
     "start_time": "2021-10-24T23:30:06.801937",
     "status": "completed"
    },
    "tags": []
   },
   "outputs": [],
   "source": [
    "import pandas as pd\n",
    "import sqlite3"
   ]
  },
  {
   "cell_type": "code",
   "execution_count": 2,
   "id": "innovative-syndrome",
   "metadata": {
    "execution": {
     "iopub.execute_input": "2021-10-24T23:30:07.718397Z",
     "iopub.status.busy": "2021-10-24T23:30:07.715962Z",
     "iopub.status.idle": "2021-10-24T23:30:08.354787Z",
     "shell.execute_reply": "2021-10-24T23:30:08.355926Z"
    },
    "papermill": {
     "duration": 0.668854,
     "end_time": "2021-10-24T23:30:08.356343",
     "exception": false,
     "start_time": "2021-10-24T23:30:07.687489",
     "status": "completed"
    },
    "tags": []
   },
   "outputs": [],
   "source": [
    "timestamps = pd.read_sql(\"select distinct record_time from EBAY_TOP_BERLIN order by record_time desc limit 2\", sqlite3.connect(\"UsedObjects.db\"))"
   ]
  },
  {
   "cell_type": "code",
   "execution_count": 3,
   "id": "periodic-identification",
   "metadata": {
    "execution": {
     "iopub.execute_input": "2021-10-24T23:30:08.480310Z",
     "iopub.status.busy": "2021-10-24T23:30:08.478259Z",
     "iopub.status.idle": "2021-10-24T23:30:08.498213Z",
     "shell.execute_reply": "2021-10-24T23:30:08.499582Z"
    },
    "papermill": {
     "duration": 0.072387,
     "end_time": "2021-10-24T23:30:08.500032",
     "exception": false,
     "start_time": "2021-10-24T23:30:08.427645",
     "status": "completed"
    },
    "tags": []
   },
   "outputs": [
    {
     "data": {
      "text/html": [
       "<div>\n",
       "<style scoped>\n",
       "    .dataframe tbody tr th:only-of-type {\n",
       "        vertical-align: middle;\n",
       "    }\n",
       "\n",
       "    .dataframe tbody tr th {\n",
       "        vertical-align: top;\n",
       "    }\n",
       "\n",
       "    .dataframe thead th {\n",
       "        text-align: right;\n",
       "    }\n",
       "</style>\n",
       "<table border=\"1\" class=\"dataframe\">\n",
       "  <thead>\n",
       "    <tr style=\"text-align: right;\">\n",
       "      <th></th>\n",
       "      <th>RECORD_TIME</th>\n",
       "    </tr>\n",
       "  </thead>\n",
       "  <tbody>\n",
       "    <tr>\n",
       "      <th>0</th>\n",
       "      <td>2021-10-25 01:30</td>\n",
       "    </tr>\n",
       "    <tr>\n",
       "      <th>1</th>\n",
       "      <td>2021-10-25 01:00</td>\n",
       "    </tr>\n",
       "  </tbody>\n",
       "</table>\n",
       "</div>"
      ],
      "text/plain": [
       "        RECORD_TIME\n",
       "0  2021-10-25 01:30\n",
       "1  2021-10-25 01:00"
      ]
     },
     "execution_count": 3,
     "metadata": {},
     "output_type": "execute_result"
    }
   ],
   "source": [
    "timestamps"
   ]
  },
  {
   "cell_type": "code",
   "execution_count": 4,
   "id": "alternate-victory",
   "metadata": {
    "execution": {
     "iopub.execute_input": "2021-10-24T23:30:08.552420Z",
     "iopub.status.busy": "2021-10-24T23:30:08.550389Z",
     "iopub.status.idle": "2021-10-24T23:30:09.486946Z",
     "shell.execute_reply": "2021-10-24T23:30:09.488165Z"
    },
    "papermill": {
     "duration": 0.967432,
     "end_time": "2021-10-24T23:30:09.488572",
     "exception": false,
     "start_time": "2021-10-24T23:30:08.521140",
     "status": "completed"
    },
    "tags": []
   },
   "outputs": [],
   "source": [
    "df = pd.read_sql(\"select * from EBAY_TOP_BERLIN where record_time in (select distinct record_time from EBAY_TOP_BERLIN order by record_time desc limit 2)\", sqlite3.connect(\"UsedObjects.db\"))"
   ]
  },
  {
   "cell_type": "code",
   "execution_count": 5,
   "id": "popular-active",
   "metadata": {
    "execution": {
     "iopub.execute_input": "2021-10-24T23:30:09.558984Z",
     "iopub.status.busy": "2021-10-24T23:30:09.546258Z",
     "iopub.status.idle": "2021-10-24T23:30:09.575597Z",
     "shell.execute_reply": "2021-10-24T23:30:09.576965Z"
    },
    "papermill": {
     "duration": 0.068188,
     "end_time": "2021-10-24T23:30:09.577397",
     "exception": false,
     "start_time": "2021-10-24T23:30:09.509209",
     "status": "completed"
    },
    "tags": []
   },
   "outputs": [],
   "source": [
    "df_pivot = df.pivot_table(index=\"PRODUCT\", columns = \"RECORD_TIME\", values = \"LISTING_COUNT\")"
   ]
  },
  {
   "cell_type": "code",
   "execution_count": 6,
   "id": "union-huntington",
   "metadata": {
    "execution": {
     "iopub.execute_input": "2021-10-24T23:30:09.634561Z",
     "iopub.status.busy": "2021-10-24T23:30:09.632436Z",
     "iopub.status.idle": "2021-10-24T23:30:09.637806Z",
     "shell.execute_reply": "2021-10-24T23:30:09.639106Z"
    },
    "papermill": {
     "duration": 0.04092,
     "end_time": "2021-10-24T23:30:09.639533",
     "exception": false,
     "start_time": "2021-10-24T23:30:09.598613",
     "status": "completed"
    },
    "tags": []
   },
   "outputs": [],
   "source": [
    "df_pivot.columns = [\"stamp_1\", \"stamp_2\"]\n",
    "df_pivot_diff = df_pivot.diff(axis=1)"
   ]
  },
  {
   "cell_type": "code",
   "execution_count": 7,
   "id": "fifth-motion",
   "metadata": {
    "execution": {
     "iopub.execute_input": "2021-10-24T23:30:09.695608Z",
     "iopub.status.busy": "2021-10-24T23:30:09.692940Z",
     "iopub.status.idle": "2021-10-24T23:30:11.165508Z",
     "shell.execute_reply": "2021-10-24T23:30:11.166809Z"
    },
    "papermill": {
     "duration": 1.506371,
     "end_time": "2021-10-24T23:30:11.167234",
     "exception": false,
     "start_time": "2021-10-24T23:30:09.660863",
     "status": "completed"
    },
    "tags": []
   },
   "outputs": [
    {
     "data": {
      "text/plain": [
       "<AxesSubplot:ylabel='PRODUCT'>"
      ]
     },
     "execution_count": 7,
     "metadata": {},
     "output_type": "execute_result"
    },
    {
     "data": {
      "image/png": "[encoded data removed]",
      "text/plain": [
       "<Figure size 432x288 with 1 Axes>"
      ]
     },
     "metadata": {
      "needs_background": "light"
     },
     "output_type": "display_data"
    }
   ],
   "source": [
    "df_pivot_diff.sort_values(\"stamp_2\", ascending = False)[\"stamp_2\"].head(10).plot.barh()"
   ]
  },
  {
   "cell_type": "code",
   "execution_count": null,
   "id": "extra-executive",
   "metadata": {
    "papermill": {
     "duration": 0.02284,
     "end_time": "2021-10-24T23:30:11.214617",
     "exception": false,
     "start_time": "2021-10-24T23:30:11.191777",
     "status": "completed"
    },
    "tags": []
   },
   "outputs": [],
   "source": []
  }
 ],
 "metadata": {
  "kernelspec": {
   "display_name": "Python 3",
   "language": "python",
   "name": "python3"
  },
  "language_info": {
   "codemirror_mode": {
    "name": "ipython",
    "version": 3
   },
   "file_extension": ".py",
   "mimetype": "text/x-python",
   "name": "python",
   "nbconvert_exporter": "python",
   "pygments_lexer": "ipython3",
   "version": "3.9.5"
  },
  "papermill": {
   "default_parameters": {},
   "duration": 7.488042,
   "end_time": "2021-10-24T23:30:11.855620",
   "environment_variables": {},
   "exception": null,
   "input_path": "eBay_Overview.ipynb",
   "output_path": "eBay_Overview.ipynb",
   "parameters": {},
   "start_time": "2021-10-24T23:30:04.367578",
   "version": "2.3.3"
  }
 },
 "nbformat": 4,
 "nbformat_minor": 5
}