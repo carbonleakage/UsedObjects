{
 "cells": [
  {
   "cell_type": "code",
   "execution_count": 1,
   "id": "reverse-picking",
   "metadata": {
    "execution": {
     "iopub.execute_input": "2021-08-09T14:00:04.368530Z",
     "iopub.status.busy": "2021-08-09T14:00:04.367632Z",
     "iopub.status.idle": "2021-08-09T14:00:04.992173Z",
     "shell.execute_reply": "2021-08-09T14:00:04.992995Z"
    },
    "papermill": {
     "duration": 0.649598,
     "end_time": "2021-08-09T14:00:04.993400",
     "exception": false,
     "start_time": "2021-08-09T14:00:04.343802",
     "status": "completed"
    },
    "tags": []
   },
   "outputs": [],
   "source": [
    "import pandas as pd\n",
    "import sqlite3"
   ]
  },
  {
   "cell_type": "code",
   "execution_count": 2,
   "id": "innovative-syndrome",
   "metadata": {
    "execution": {
     "iopub.execute_input": "2021-08-09T14:00:05.016037Z",
     "iopub.status.busy": "2021-08-09T14:00:05.015190Z",
     "iopub.status.idle": "2021-08-09T14:00:05.314921Z",
     "shell.execute_reply": "2021-08-09T14:00:05.315618Z"
    },
    "papermill": {
     "duration": 0.313495,
     "end_time": "2021-08-09T14:00:05.315842",
     "exception": false,
     "start_time": "2021-08-09T14:00:05.002347",
     "status": "completed"
    },
    "tags": []
   },
   "outputs": [],
   "source": [
    "timestamps = pd.read_sql(\"select distinct record_time from EBAY_TOP_BERLIN order by record_time desc limit 2\", sqlite3.connect(\"UsedObjects.db\"))"
   ]
  },
  {
   "cell_type": "code",
   "execution_count": 3,
   "id": "periodic-identification",
   "metadata": {
    "execution": {
     "iopub.execute_input": "2021-08-09T14:00:05.344184Z",
     "iopub.status.busy": "2021-08-09T14:00:05.343411Z",
     "iopub.status.idle": "2021-08-09T14:00:05.355160Z",
     "shell.execute_reply": "2021-08-09T14:00:05.354592Z"
    },
    "papermill": {
     "duration": 0.031295,
     "end_time": "2021-08-09T14:00:05.355312",
     "exception": false,
     "start_time": "2021-08-09T14:00:05.324017",
     "status": "completed"
    },
    "tags": []
   },
   "outputs": [
    {
     "data": {
      "text/html": [
       "<div>\n",
       "<style scoped>\n",
       "    .dataframe tbody tr th:only-of-type {\n",
       "        vertical-align: middle;\n",
       "    }\n",
       "\n",
       "    .dataframe tbody tr th {\n",
       "        vertical-align: top;\n",
       "    }\n",
       "\n",
       "    .dataframe thead th {\n",
       "        text-align: right;\n",
       "    }\n",
       "</style>\n",
       "<table border=\"1\" class=\"dataframe\">\n",
       "  <thead>\n",
       "    <tr style=\"text-align: right;\">\n",
       "      <th></th>\n",
       "      <th>RECORD_TIME</th>\n",
       "    </tr>\n",
       "  </thead>\n",
       "  <tbody>\n",
       "    <tr>\n",
       "      <th>0</th>\n",
       "      <td>2021-08-09 16:00</td>\n",
       "    </tr>\n",
       "    <tr>\n",
       "      <th>1</th>\n",
       "      <td>2021-08-09 15:30</td>\n",
       "    </tr>\n",
       "  </tbody>\n",
       "</table>\n",
       "</div>"
      ],
      "text/plain": [
       "        RECORD_TIME\n",
       "0  2021-08-09 16:00\n",
       "1  2021-08-09 15:30"
      ]
     },
     "execution_count": 3,
     "metadata": {},
     "output_type": "execute_result"
    }
   ],
   "source": [
    "timestamps"
   ]
  },
  {
   "cell_type": "code",
   "execution_count": 4,
   "id": "alternate-victory",
   "metadata": {
    "execution": {
     "iopub.execute_input": "2021-08-09T14:00:05.388211Z",
     "iopub.status.busy": "2021-08-09T14:00:05.387129Z",
     "iopub.status.idle": "2021-08-09T14:00:05.400831Z",
     "shell.execute_reply": "2021-08-09T14:00:05.401408Z"
    },
    "papermill": {
     "duration": 0.037748,
     "end_time": "2021-08-09T14:00:05.401607",
     "exception": false,
     "start_time": "2021-08-09T14:00:05.363859",
     "status": "completed"
    },
    "tags": []
   },
   "outputs": [],
   "source": [
    "df = pd.read_sql(\"select * from EBAY_TOP_BERLIN where record_time in (select distinct record_time from EBAY_TOP_BERLIN order by record_time desc limit 2)\", sqlite3.connect(\"UsedObjects.db\"))"
   ]
  },
  {
   "cell_type": "code",
   "execution_count": 5,
   "id": "popular-active",
   "metadata": {
    "execution": {
     "iopub.execute_input": "2021-08-09T14:00:05.425576Z",
     "iopub.status.busy": "2021-08-09T14:00:05.424393Z",
     "iopub.status.idle": "2021-08-09T14:00:05.444394Z",
     "shell.execute_reply": "2021-08-09T14:00:05.444969Z"
    },
    "papermill": {
     "duration": 0.034911,
     "end_time": "2021-08-09T14:00:05.445165",
     "exception": false,
     "start_time": "2021-08-09T14:00:05.410254",
     "status": "completed"
    },
    "tags": []
   },
   "outputs": [],
   "source": [
    "df_pivot = df.pivot_table(index=\"PRODUCT\", columns = \"RECORD_TIME\", values = \"LISTING_COUNT\")"
   ]
  },
  {
   "cell_type": "code",
   "execution_count": 6,
   "id": "union-huntington",
   "metadata": {
    "execution": {
     "iopub.execute_input": "2021-08-09T14:00:05.474815Z",
     "iopub.status.busy": "2021-08-09T14:00:05.474041Z",
     "iopub.status.idle": "2021-08-09T14:00:05.477180Z",
     "shell.execute_reply": "2021-08-09T14:00:05.476618Z"
    },
    "papermill": {
     "duration": 0.019949,
     "end_time": "2021-08-09T14:00:05.477332",
     "exception": false,
     "start_time": "2021-08-09T14:00:05.457383",
     "status": "completed"
    },
    "tags": []
   },
   "outputs": [],
   "source": [
    "df_pivot.columns = [\"stamp_1\", \"stamp_2\"]\n",
    "df_pivot_diff = df_pivot.diff(axis=1)"
   ]
  },
  {
   "cell_type": "code",
   "execution_count": 7,
   "id": "fifth-motion",
   "metadata": {
    "execution": {
     "iopub.execute_input": "2021-08-09T14:00:05.503402Z",
     "iopub.status.busy": "2021-08-09T14:00:05.501838Z",
     "iopub.status.idle": "2021-08-09T14:00:06.279069Z",
     "shell.execute_reply": "2021-08-09T14:00:06.278324Z"
    },
    "papermill": {
     "duration": 0.793154,
     "end_time": "2021-08-09T14:00:06.279232",
     "exception": false,
     "start_time": "2021-08-09T14:00:05.486078",
     "status": "completed"
    },
    "tags": []
   },
   "outputs": [
    {
     "data": {
      "text/plain": [
       "<AxesSubplot:ylabel='PRODUCT'>"
      ]
     },
     "execution_count": 7,
     "metadata": {},
     "output_type": "execute_result"
    },
    {
     "data": {
      "image/png": "[encoded data removed]",
      "text/plain": [
       "<Figure size 432x288 with 1 Axes>"
      ]
     },
     "metadata": {
      "needs_background": "light"
     },
     "output_type": "display_data"
    }
   ],
   "source": [
    "df_pivot_diff.sort_values(\"stamp_2\", ascending = False)[\"stamp_2\"].head(10).plot.barh()"
   ]
  },
  {
   "cell_type": "code",
   "execution_count": null,
   "id": "extra-executive",
   "metadata": {
    "papermill": {
     "duration": 0.011814,
     "end_time": "2021-08-09T14:00:06.304638",
     "exception": false,
     "start_time": "2021-08-09T14:00:06.292824",
     "status": "completed"
    },
    "tags": []
   },
   "outputs": [],
   "source": []
  }
 ],
 "metadata": {
  "kernelspec": {
   "display_name": "Python 3",
   "language": "python",
   "name": "python3"
  },
  "language_info": {
   "codemirror_mode": {
    "name": "ipython",
    "version": 3
   },
   "file_extension": ".py",
   "mimetype": "text/x-python",
   "name": "python",
   "nbconvert_exporter": "python",
   "pygments_lexer": "ipython3",
   "version": "3.8.8"
  },
  "papermill": {
   "default_parameters": {},
   "duration": 4.457867,
   "end_time": "2021-08-09T14:00:07.063823",
   "environment_variables": {},
   "exception": null,
   "input_path": "/Users/saravananshanmugam/Carbonleakage_Git/UsedObjects/eBay_Overview.ipynb",
   "output_path": "/Users/saravananshanmugam/Carbonleakage_Git/UsedObjects/eBay_Overview.ipynb",
   "parameters": {},
   "start_time": "2021-08-09T14:00:02.605956",
   "version": "2.3.3"
  }
 },
 "nbformat": 4,
 "nbformat_minor": 5
}