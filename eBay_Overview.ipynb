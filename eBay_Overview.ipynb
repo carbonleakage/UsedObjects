{
 "cells": [
  {
   "cell_type": "code",
   "execution_count": 1,
   "id": "reverse-picking",
   "metadata": {
    "execution": {
     "iopub.execute_input": "2021-09-17T13:30:07.074932Z",
     "iopub.status.busy": "2021-09-17T13:30:07.072921Z",
     "iopub.status.idle": "2021-09-17T13:30:07.872783Z",
     "shell.execute_reply": "2021-09-17T13:30:07.874101Z"
    },
    "papermill": {
     "duration": 0.85026,
     "end_time": "2021-09-17T13:30:07.874741",
     "exception": false,
     "start_time": "2021-09-17T13:30:07.024481",
     "status": "completed"
    },
    "tags": []
   },
   "outputs": [],
   "source": [
    "import pandas as pd\n",
    "import sqlite3"
   ]
  },
  {
   "cell_type": "code",
   "execution_count": 2,
   "id": "innovative-syndrome",
   "metadata": {
    "execution": {
     "iopub.execute_input": "2021-09-17T13:30:07.925332Z",
     "iopub.status.busy": "2021-09-17T13:30:07.923013Z",
     "iopub.status.idle": "2021-09-17T13:30:08.235885Z",
     "shell.execute_reply": "2021-09-17T13:30:08.237020Z"
    },
    "papermill": {
     "duration": 0.343004,
     "end_time": "2021-09-17T13:30:08.237426",
     "exception": false,
     "start_time": "2021-09-17T13:30:07.894422",
     "status": "completed"
    },
    "tags": []
   },
   "outputs": [],
   "source": [
    "timestamps = pd.read_sql(\"select distinct record_time from EBAY_TOP_BERLIN order by record_time desc limit 2\", sqlite3.connect(\"UsedObjects.db\"))"
   ]
  },
  {
   "cell_type": "code",
   "execution_count": 3,
   "id": "periodic-identification",
   "metadata": {
    "execution": {
     "iopub.execute_input": "2021-09-17T13:30:08.302137Z",
     "iopub.status.busy": "2021-09-17T13:30:08.300132Z",
     "iopub.status.idle": "2021-09-17T13:30:08.320239Z",
     "shell.execute_reply": "2021-09-17T13:30:08.321544Z"
    },
    "papermill": {
     "duration": 0.063516,
     "end_time": "2021-09-17T13:30:08.321954",
     "exception": false,
     "start_time": "2021-09-17T13:30:08.258438",
     "status": "completed"
    },
    "tags": []
   },
   "outputs": [
    {
     "data": {
      "text/html": [
       "<div>\n",
       "<style scoped>\n",
       "    .dataframe tbody tr th:only-of-type {\n",
       "        vertical-align: middle;\n",
       "    }\n",
       "\n",
       "    .dataframe tbody tr th {\n",
       "        vertical-align: top;\n",
       "    }\n",
       "\n",
       "    .dataframe thead th {\n",
       "        text-align: right;\n",
       "    }\n",
       "</style>\n",
       "<table border=\"1\" class=\"dataframe\">\n",
       "  <thead>\n",
       "    <tr style=\"text-align: right;\">\n",
       "      <th></th>\n",
       "      <th>RECORD_TIME</th>\n",
       "    </tr>\n",
       "  </thead>\n",
       "  <tbody>\n",
       "    <tr>\n",
       "      <th>0</th>\n",
       "      <td>2021-09-17 15:30</td>\n",
       "    </tr>\n",
       "    <tr>\n",
       "      <th>1</th>\n",
       "      <td>2021-09-17 15:00</td>\n",
       "    </tr>\n",
       "  </tbody>\n",
       "</table>\n",
       "</div>"
      ],
      "text/plain": [
       "        RECORD_TIME\n",
       "0  2021-09-17 15:30\n",
       "1  2021-09-17 15:00"
      ]
     },
     "execution_count": 3,
     "metadata": {},
     "output_type": "execute_result"
    }
   ],
   "source": [
    "timestamps"
   ]
  },
  {
   "cell_type": "code",
   "execution_count": 4,
   "id": "alternate-victory",
   "metadata": {
    "execution": {
     "iopub.execute_input": "2021-09-17T13:30:08.374118Z",
     "iopub.status.busy": "2021-09-17T13:30:08.371862Z",
     "iopub.status.idle": "2021-09-17T13:30:08.830505Z",
     "shell.execute_reply": "2021-09-17T13:30:08.831778Z"
    },
    "papermill": {
     "duration": 0.488985,
     "end_time": "2021-09-17T13:30:08.832174",
     "exception": false,
     "start_time": "2021-09-17T13:30:08.343189",
     "status": "completed"
    },
    "tags": []
   },
   "outputs": [],
   "source": [
    "df = pd.read_sql(\"select * from EBAY_TOP_BERLIN where record_time in (select distinct record_time from EBAY_TOP_BERLIN order by record_time desc limit 2)\", sqlite3.connect(\"UsedObjects.db\"))"
   ]
  },
  {
   "cell_type": "code",
   "execution_count": 5,
   "id": "popular-active",
   "metadata": {
    "execution": {
     "iopub.execute_input": "2021-09-17T13:30:08.902772Z",
     "iopub.status.busy": "2021-09-17T13:30:08.890518Z",
     "iopub.status.idle": "2021-09-17T13:30:08.920221Z",
     "shell.execute_reply": "2021-09-17T13:30:08.918747Z"
    },
    "papermill": {
     "duration": 0.067962,
     "end_time": "2021-09-17T13:30:08.920576",
     "exception": false,
     "start_time": "2021-09-17T13:30:08.852614",
     "status": "completed"
    },
    "tags": []
   },
   "outputs": [],
   "source": [
    "df_pivot = df.pivot_table(index=\"PRODUCT\", columns = \"RECORD_TIME\", values = \"LISTING_COUNT\")"
   ]
  },
  {
   "cell_type": "code",
   "execution_count": 6,
   "id": "union-huntington",
   "metadata": {
    "execution": {
     "iopub.execute_input": "2021-09-17T13:30:08.975897Z",
     "iopub.status.busy": "2021-09-17T13:30:08.973820Z",
     "iopub.status.idle": "2021-09-17T13:30:08.979283Z",
     "shell.execute_reply": "2021-09-17T13:30:08.980570Z"
    },
    "papermill": {
     "duration": 0.040182,
     "end_time": "2021-09-17T13:30:08.980981",
     "exception": false,
     "start_time": "2021-09-17T13:30:08.940799",
     "status": "completed"
    },
    "tags": []
   },
   "outputs": [],
   "source": [
    "df_pivot.columns = [\"stamp_1\", \"stamp_2\"]\n",
    "df_pivot_diff = df_pivot.diff(axis=1)"
   ]
  },
  {
   "cell_type": "code",
   "execution_count": 7,
   "id": "fifth-motion",
   "metadata": {
    "execution": {
     "iopub.execute_input": "2021-09-17T13:30:09.036322Z",
     "iopub.status.busy": "2021-09-17T13:30:09.033774Z",
     "iopub.status.idle": "2021-09-17T13:30:10.524877Z",
     "shell.execute_reply": "2021-09-17T13:30:10.526147Z"
    },
    "papermill": {
     "duration": 1.52421,
     "end_time": "2021-09-17T13:30:10.526561",
     "exception": false,
     "start_time": "2021-09-17T13:30:09.002351",
     "status": "completed"
    },
    "tags": []
   },
   "outputs": [
    {
     "data": {
      "text/plain": [
       "<AxesSubplot:ylabel='PRODUCT'>"
      ]
     },
     "execution_count": 7,
     "metadata": {},
     "output_type": "execute_result"
    },
    {
     "data": {
      "image/png": "[encoded data removed]",
      "text/plain": [
       "<Figure size 432x288 with 1 Axes>"
      ]
     },
     "metadata": {
      "needs_background": "light"
     },
     "output_type": "display_data"
    }
   ],
   "source": [
    "df_pivot_diff.sort_values(\"stamp_2\", ascending = False)[\"stamp_2\"].head(10).plot.barh()"
   ]
  },
  {
   "cell_type": "code",
   "execution_count": null,
   "id": "extra-executive",
   "metadata": {
    "papermill": {
     "duration": 0.02236,
     "end_time": "2021-09-17T13:30:10.574467",
     "exception": false,
     "start_time": "2021-09-17T13:30:10.552107",
     "status": "completed"
    },
    "tags": []
   },
   "outputs": [],
   "source": []
  }
 ],
 "metadata": {
  "kernelspec": {
   "display_name": "Python 3",
   "language": "python",
   "name": "python3"
  },
  "language_info": {
   "codemirror_mode": {
    "name": "ipython",
    "version": 3
   },
   "file_extension": ".py",
   "mimetype": "text/x-python",
   "name": "python",
   "nbconvert_exporter": "python",
   "pygments_lexer": "ipython3",
   "version": "3.9.5"
  },
  "papermill": {
   "default_parameters": {},
   "duration": 6.57752,
   "end_time": "2021-09-17T13:30:11.217417",
   "environment_variables": {},
   "exception": null,
   "input_path": "eBay_Overview.ipynb",
   "output_path": "eBay_Overview.ipynb",
   "parameters": {},
   "start_time": "2021-09-17T13:30:04.639897",
   "version": "2.3.3"
  }
 },
 "nbformat": 4,
 "nbformat_minor": 5
}