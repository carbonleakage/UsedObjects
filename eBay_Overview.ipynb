{
 "cells": [
  {
   "cell_type": "code",
   "execution_count": 1,
   "id": "reverse-picking",
   "metadata": {
    "execution": {
     "iopub.execute_input": "2021-09-20T21:30:07.488200Z",
     "iopub.status.busy": "2021-09-20T21:30:07.486159Z",
     "iopub.status.idle": "2021-09-20T21:30:08.288126Z",
     "shell.execute_reply": "2021-09-20T21:30:08.289561Z"
    },
    "papermill": {
     "duration": 0.854016,
     "end_time": "2021-09-20T21:30:08.290225",
     "exception": false,
     "start_time": "2021-09-20T21:30:07.436209",
     "status": "completed"
    },
    "tags": []
   },
   "outputs": [],
   "source": [
    "import pandas as pd\n",
    "import sqlite3"
   ]
  },
  {
   "cell_type": "code",
   "execution_count": 2,
   "id": "innovative-syndrome",
   "metadata": {
    "execution": {
     "iopub.execute_input": "2021-09-20T21:30:08.340919Z",
     "iopub.status.busy": "2021-09-20T21:30:08.338473Z",
     "iopub.status.idle": "2021-09-20T21:30:08.678147Z",
     "shell.execute_reply": "2021-09-20T21:30:08.679410Z"
    },
    "papermill": {
     "duration": 0.369509,
     "end_time": "2021-09-20T21:30:08.679831",
     "exception": false,
     "start_time": "2021-09-20T21:30:08.310322",
     "status": "completed"
    },
    "tags": []
   },
   "outputs": [],
   "source": [
    "timestamps = pd.read_sql(\"select distinct record_time from EBAY_TOP_BERLIN order by record_time desc limit 2\", sqlite3.connect(\"UsedObjects.db\"))"
   ]
  },
  {
   "cell_type": "code",
   "execution_count": 3,
   "id": "periodic-identification",
   "metadata": {
    "execution": {
     "iopub.execute_input": "2021-09-20T21:30:08.749578Z",
     "iopub.status.busy": "2021-09-20T21:30:08.744400Z",
     "iopub.status.idle": "2021-09-20T21:30:08.764017Z",
     "shell.execute_reply": "2021-09-20T21:30:08.765251Z"
    },
    "papermill": {
     "duration": 0.064106,
     "end_time": "2021-09-20T21:30:08.765643",
     "exception": false,
     "start_time": "2021-09-20T21:30:08.701537",
     "status": "completed"
    },
    "tags": []
   },
   "outputs": [
    {
     "data": {
      "text/html": [
       "<div>\n",
       "<style scoped>\n",
       "    .dataframe tbody tr th:only-of-type {\n",
       "        vertical-align: middle;\n",
       "    }\n",
       "\n",
       "    .dataframe tbody tr th {\n",
       "        vertical-align: top;\n",
       "    }\n",
       "\n",
       "    .dataframe thead th {\n",
       "        text-align: right;\n",
       "    }\n",
       "</style>\n",
       "<table border=\"1\" class=\"dataframe\">\n",
       "  <thead>\n",
       "    <tr style=\"text-align: right;\">\n",
       "      <th></th>\n",
       "      <th>RECORD_TIME</th>\n",
       "    </tr>\n",
       "  </thead>\n",
       "  <tbody>\n",
       "    <tr>\n",
       "      <th>0</th>\n",
       "      <td>2021-09-20 23:30</td>\n",
       "    </tr>\n",
       "    <tr>\n",
       "      <th>1</th>\n",
       "      <td>2021-09-20 23:00</td>\n",
       "    </tr>\n",
       "  </tbody>\n",
       "</table>\n",
       "</div>"
      ],
      "text/plain": [
       "        RECORD_TIME\n",
       "0  2021-09-20 23:30\n",
       "1  2021-09-20 23:00"
      ]
     },
     "execution_count": 3,
     "metadata": {},
     "output_type": "execute_result"
    }
   ],
   "source": [
    "timestamps"
   ]
  },
  {
   "cell_type": "code",
   "execution_count": 4,
   "id": "alternate-victory",
   "metadata": {
    "execution": {
     "iopub.execute_input": "2021-09-20T21:30:08.817519Z",
     "iopub.status.busy": "2021-09-20T21:30:08.815335Z",
     "iopub.status.idle": "2021-09-20T21:30:09.322706Z",
     "shell.execute_reply": "2021-09-20T21:30:09.324074Z"
    },
    "papermill": {
     "duration": 0.537823,
     "end_time": "2021-09-20T21:30:09.324490",
     "exception": false,
     "start_time": "2021-09-20T21:30:08.786667",
     "status": "completed"
    },
    "tags": []
   },
   "outputs": [],
   "source": [
    "df = pd.read_sql(\"select * from EBAY_TOP_BERLIN where record_time in (select distinct record_time from EBAY_TOP_BERLIN order by record_time desc limit 2)\", sqlite3.connect(\"UsedObjects.db\"))"
   ]
  },
  {
   "cell_type": "code",
   "execution_count": 5,
   "id": "popular-active",
   "metadata": {
    "execution": {
     "iopub.execute_input": "2021-09-20T21:30:09.412938Z",
     "iopub.status.busy": "2021-09-20T21:30:09.405803Z",
     "iopub.status.idle": "2021-09-20T21:30:09.433546Z",
     "shell.execute_reply": "2021-09-20T21:30:09.434774Z"
    },
    "papermill": {
     "duration": 0.073626,
     "end_time": "2021-09-20T21:30:09.435365",
     "exception": false,
     "start_time": "2021-09-20T21:30:09.361739",
     "status": "completed"
    },
    "tags": []
   },
   "outputs": [],
   "source": [
    "df_pivot = df.pivot_table(index=\"PRODUCT\", columns = \"RECORD_TIME\", values = \"LISTING_COUNT\")"
   ]
  },
  {
   "cell_type": "code",
   "execution_count": 6,
   "id": "union-huntington",
   "metadata": {
    "execution": {
     "iopub.execute_input": "2021-09-20T21:30:09.495060Z",
     "iopub.status.busy": "2021-09-20T21:30:09.492549Z",
     "iopub.status.idle": "2021-09-20T21:30:09.498521Z",
     "shell.execute_reply": "2021-09-20T21:30:09.499991Z"
    },
    "papermill": {
     "duration": 0.042843,
     "end_time": "2021-09-20T21:30:09.500438",
     "exception": false,
     "start_time": "2021-09-20T21:30:09.457595",
     "status": "completed"
    },
    "tags": []
   },
   "outputs": [],
   "source": [
    "df_pivot.columns = [\"stamp_1\", \"stamp_2\"]\n",
    "df_pivot_diff = df_pivot.diff(axis=1)"
   ]
  },
  {
   "cell_type": "code",
   "execution_count": 7,
   "id": "fifth-motion",
   "metadata": {
    "execution": {
     "iopub.execute_input": "2021-09-20T21:30:09.554601Z",
     "iopub.status.busy": "2021-09-20T21:30:09.552408Z",
     "iopub.status.idle": "2021-09-20T21:30:11.046403Z",
     "shell.execute_reply": "2021-09-20T21:30:11.047794Z"
    },
    "papermill": {
     "duration": 1.526563,
     "end_time": "2021-09-20T21:30:11.048223",
     "exception": false,
     "start_time": "2021-09-20T21:30:09.521660",
     "status": "completed"
    },
    "tags": []
   },
   "outputs": [
    {
     "data": {
      "text/plain": [
       "<AxesSubplot:ylabel='PRODUCT'>"
      ]
     },
     "execution_count": 7,
     "metadata": {},
     "output_type": "execute_result"
    },
    {
     "data": {
      "image/png": "[encoded data removed]",
      "text/plain": [
       "<Figure size 432x288 with 1 Axes>"
      ]
     },
     "metadata": {
      "needs_background": "light"
     },
     "output_type": "display_data"
    }
   ],
   "source": [
    "df_pivot_diff.sort_values(\"stamp_2\", ascending = False)[\"stamp_2\"].head(10).plot.barh()"
   ]
  },
  {
   "cell_type": "code",
   "execution_count": null,
   "id": "extra-executive",
   "metadata": {
    "papermill": {
     "duration": 0.022272,
     "end_time": "2021-09-20T21:30:11.095136",
     "exception": false,
     "start_time": "2021-09-20T21:30:11.072864",
     "status": "completed"
    },
    "tags": []
   },
   "outputs": [],
   "source": []
  }
 ],
 "metadata": {
  "kernelspec": {
   "display_name": "Python 3",
   "language": "python",
   "name": "python3"
  },
  "language_info": {
   "codemirror_mode": {
    "name": "ipython",
    "version": 3
   },
   "file_extension": ".py",
   "mimetype": "text/x-python",
   "name": "python",
   "nbconvert_exporter": "python",
   "pygments_lexer": "ipython3",
   "version": "3.9.5"
  },
  "papermill": {
   "default_parameters": {},
   "duration": 6.715098,
   "end_time": "2021-09-20T21:30:11.737761",
   "environment_variables": {},
   "exception": null,
   "input_path": "eBay_Overview.ipynb",
   "output_path": "eBay_Overview.ipynb",
   "parameters": {},
   "start_time": "2021-09-20T21:30:05.022663",
   "version": "2.3.3"
  }
 },
 "nbformat": 4,
 "nbformat_minor": 5
}