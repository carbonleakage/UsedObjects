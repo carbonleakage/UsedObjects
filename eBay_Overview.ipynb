{
 "cells": [
  {
   "cell_type": "code",
   "execution_count": 1,
   "id": "reverse-picking",
   "metadata": {
    "execution": {
     "iopub.execute_input": "2021-08-11T05:00:03.832791Z",
     "iopub.status.busy": "2021-08-11T05:00:03.832015Z",
     "iopub.status.idle": "2021-08-11T05:00:04.640827Z",
     "shell.execute_reply": "2021-08-11T05:00:04.639655Z"
    },
    "papermill": {
     "duration": 0.826599,
     "end_time": "2021-08-11T05:00:04.641085",
     "exception": false,
     "start_time": "2021-08-11T05:00:03.814486",
     "status": "completed"
    },
    "tags": []
   },
   "outputs": [],
   "source": [
    "import pandas as pd\n",
    "import sqlite3"
   ]
  },
  {
   "cell_type": "code",
   "execution_count": 2,
   "id": "innovative-syndrome",
   "metadata": {
    "execution": {
     "iopub.execute_input": "2021-08-11T05:00:04.663694Z",
     "iopub.status.busy": "2021-08-11T05:00:04.662934Z",
     "iopub.status.idle": "2021-08-11T05:00:04.976666Z",
     "shell.execute_reply": "2021-08-11T05:00:04.977472Z"
    },
    "papermill": {
     "duration": 0.32687,
     "end_time": "2021-08-11T05:00:04.977733",
     "exception": false,
     "start_time": "2021-08-11T05:00:04.650863",
     "status": "completed"
    },
    "tags": []
   },
   "outputs": [],
   "source": [
    "timestamps = pd.read_sql(\"select distinct record_time from EBAY_TOP_BERLIN order by record_time desc limit 2\", sqlite3.connect(\"UsedObjects.db\"))"
   ]
  },
  {
   "cell_type": "code",
   "execution_count": 3,
   "id": "periodic-identification",
   "metadata": {
    "execution": {
     "iopub.execute_input": "2021-08-11T05:00:05.011058Z",
     "iopub.status.busy": "2021-08-11T05:00:05.010179Z",
     "iopub.status.idle": "2021-08-11T05:00:05.020872Z",
     "shell.execute_reply": "2021-08-11T05:00:05.021408Z"
    },
    "papermill": {
     "duration": 0.034562,
     "end_time": "2021-08-11T05:00:05.021589",
     "exception": false,
     "start_time": "2021-08-11T05:00:04.987027",
     "status": "completed"
    },
    "tags": []
   },
   "outputs": [
    {
     "data": {
      "text/html": [
       "<div>\n",
       "<style scoped>\n",
       "    .dataframe tbody tr th:only-of-type {\n",
       "        vertical-align: middle;\n",
       "    }\n",
       "\n",
       "    .dataframe tbody tr th {\n",
       "        vertical-align: top;\n",
       "    }\n",
       "\n",
       "    .dataframe thead th {\n",
       "        text-align: right;\n",
       "    }\n",
       "</style>\n",
       "<table border=\"1\" class=\"dataframe\">\n",
       "  <thead>\n",
       "    <tr style=\"text-align: right;\">\n",
       "      <th></th>\n",
       "      <th>RECORD_TIME</th>\n",
       "    </tr>\n",
       "  </thead>\n",
       "  <tbody>\n",
       "    <tr>\n",
       "      <th>0</th>\n",
       "      <td>2021-08-11 07:00</td>\n",
       "    </tr>\n",
       "    <tr>\n",
       "      <th>1</th>\n",
       "      <td>2021-08-11 06:30</td>\n",
       "    </tr>\n",
       "  </tbody>\n",
       "</table>\n",
       "</div>"
      ],
      "text/plain": [
       "        RECORD_TIME\n",
       "0  2021-08-11 07:00\n",
       "1  2021-08-11 06:30"
      ]
     },
     "execution_count": 3,
     "metadata": {},
     "output_type": "execute_result"
    }
   ],
   "source": [
    "timestamps"
   ]
  },
  {
   "cell_type": "code",
   "execution_count": 4,
   "id": "alternate-victory",
   "metadata": {
    "execution": {
     "iopub.execute_input": "2021-08-11T05:00:05.048493Z",
     "iopub.status.busy": "2021-08-11T05:00:05.047741Z",
     "iopub.status.idle": "2021-08-11T05:00:05.067200Z",
     "shell.execute_reply": "2021-08-11T05:00:05.067728Z"
    },
    "papermill": {
     "duration": 0.037115,
     "end_time": "2021-08-11T05:00:05.067915",
     "exception": false,
     "start_time": "2021-08-11T05:00:05.030800",
     "status": "completed"
    },
    "tags": []
   },
   "outputs": [],
   "source": [
    "df = pd.read_sql(\"select * from EBAY_TOP_BERLIN where record_time in (select distinct record_time from EBAY_TOP_BERLIN order by record_time desc limit 2)\", sqlite3.connect(\"UsedObjects.db\"))"
   ]
  },
  {
   "cell_type": "code",
   "execution_count": 5,
   "id": "popular-active",
   "metadata": {
    "execution": {
     "iopub.execute_input": "2021-08-11T05:00:05.094310Z",
     "iopub.status.busy": "2021-08-11T05:00:05.093411Z",
     "iopub.status.idle": "2021-08-11T05:00:05.117763Z",
     "shell.execute_reply": "2021-08-11T05:00:05.116726Z"
    },
    "papermill": {
     "duration": 0.041542,
     "end_time": "2021-08-11T05:00:05.117982",
     "exception": false,
     "start_time": "2021-08-11T05:00:05.076440",
     "status": "completed"
    },
    "tags": []
   },
   "outputs": [],
   "source": [
    "df_pivot = df.pivot_table(index=\"PRODUCT\", columns = \"RECORD_TIME\", values = \"LISTING_COUNT\")"
   ]
  },
  {
   "cell_type": "code",
   "execution_count": 6,
   "id": "union-huntington",
   "metadata": {
    "execution": {
     "iopub.execute_input": "2021-08-11T05:00:05.144984Z",
     "iopub.status.busy": "2021-08-11T05:00:05.144294Z",
     "iopub.status.idle": "2021-08-11T05:00:05.148230Z",
     "shell.execute_reply": "2021-08-11T05:00:05.148794Z"
    },
    "papermill": {
     "duration": 0.021317,
     "end_time": "2021-08-11T05:00:05.148987",
     "exception": false,
     "start_time": "2021-08-11T05:00:05.127670",
     "status": "completed"
    },
    "tags": []
   },
   "outputs": [],
   "source": [
    "df_pivot.columns = [\"stamp_1\", \"stamp_2\"]\n",
    "df_pivot_diff = df_pivot.diff(axis=1)"
   ]
  },
  {
   "cell_type": "code",
   "execution_count": 7,
   "id": "fifth-motion",
   "metadata": {
    "execution": {
     "iopub.execute_input": "2021-08-11T05:00:05.179226Z",
     "iopub.status.busy": "2021-08-11T05:00:05.178482Z",
     "iopub.status.idle": "2021-08-11T05:00:06.306632Z",
     "shell.execute_reply": "2021-08-11T05:00:06.307289Z"
    },
    "papermill": {
     "duration": 1.149728,
     "end_time": "2021-08-11T05:00:06.307479",
     "exception": false,
     "start_time": "2021-08-11T05:00:05.157751",
     "status": "completed"
    },
    "tags": []
   },
   "outputs": [
    {
     "data": {
      "text/plain": [
       "<AxesSubplot:ylabel='PRODUCT'>"
      ]
     },
     "execution_count": 7,
     "metadata": {},
     "output_type": "execute_result"
    },
    {
     "data": {
      "image/png": "[encoded data removed]",
      "text/plain": [
       "<Figure size 432x288 with 1 Axes>"
      ]
     },
     "metadata": {
      "needs_background": "light"
     },
     "output_type": "display_data"
    }
   ],
   "source": [
    "df_pivot_diff.sort_values(\"stamp_2\", ascending = False)[\"stamp_2\"].head(10).plot.barh()"
   ]
  },
  {
   "cell_type": "code",
   "execution_count": null,
   "id": "extra-executive",
   "metadata": {
    "papermill": {
     "duration": 0.014773,
     "end_time": "2021-08-11T05:00:06.331963",
     "exception": false,
     "start_time": "2021-08-11T05:00:06.317190",
     "status": "completed"
    },
    "tags": []
   },
   "outputs": [],
   "source": []
  }
 ],
 "metadata": {
  "kernelspec": {
   "display_name": "Python 3",
   "language": "python",
   "name": "python3"
  },
  "language_info": {
   "codemirror_mode": {
    "name": "ipython",
    "version": 3
   },
   "file_extension": ".py",
   "mimetype": "text/x-python",
   "name": "python",
   "nbconvert_exporter": "python",
   "pygments_lexer": "ipython3",
   "version": "3.8.8"
  },
  "papermill": {
   "default_parameters": {},
   "duration": 4.951148,
   "end_time": "2021-08-11T05:00:07.078687",
   "environment_variables": {},
   "exception": null,
   "input_path": "/Users/saravananshanmugam/Carbonleakage_Git/UsedObjects/eBay_Overview.ipynb",
   "output_path": "/Users/saravananshanmugam/Carbonleakage_Git/UsedObjects/eBay_Overview.ipynb",
   "parameters": {},
   "start_time": "2021-08-11T05:00:02.127539",
   "version": "2.3.3"
  }
 },
 "nbformat": 4,
 "nbformat_minor": 5
}