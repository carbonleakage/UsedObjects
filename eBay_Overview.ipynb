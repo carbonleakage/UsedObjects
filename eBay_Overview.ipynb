{
 "cells": [
  {
   "cell_type": "code",
   "execution_count": 1,
   "id": "reverse-picking",
   "metadata": {
    "execution": {
     "iopub.execute_input": "2021-12-03T00:30:08.117087Z",
     "iopub.status.busy": "2021-12-03T00:30:08.114963Z",
     "iopub.status.idle": "2021-12-03T00:30:09.074378Z",
     "shell.execute_reply": "2021-12-03T00:30:09.075868Z"
    },
    "papermill": {
     "duration": 1.009894,
     "end_time": "2021-12-03T00:30:09.076611",
     "exception": false,
     "start_time": "2021-12-03T00:30:08.066717",
     "status": "completed"
    },
    "tags": []
   },
   "outputs": [],
   "source": [
    "import pandas as pd\n",
    "import sqlite3"
   ]
  },
  {
   "cell_type": "code",
   "execution_count": 2,
   "id": "innovative-syndrome",
   "metadata": {
    "execution": {
     "iopub.execute_input": "2021-12-03T00:30:09.202243Z",
     "iopub.status.busy": "2021-12-03T00:30:09.199967Z",
     "iopub.status.idle": "2021-12-03T00:30:10.207737Z",
     "shell.execute_reply": "2021-12-03T00:30:10.209439Z"
    },
    "papermill": {
     "duration": 1.042363,
     "end_time": "2021-12-03T00:30:10.209913",
     "exception": false,
     "start_time": "2021-12-03T00:30:09.167550",
     "status": "completed"
    },
    "tags": []
   },
   "outputs": [],
   "source": [
    "timestamps = pd.read_sql(\"select distinct record_time from EBAY_TOP_BERLIN order by record_time desc limit 2\", sqlite3.connect(\"UsedObjects.db\"))"
   ]
  },
  {
   "cell_type": "code",
   "execution_count": 3,
   "id": "periodic-identification",
   "metadata": {
    "execution": {
     "iopub.execute_input": "2021-12-03T00:30:10.272650Z",
     "iopub.status.busy": "2021-12-03T00:30:10.270503Z",
     "iopub.status.idle": "2021-12-03T00:30:10.305502Z",
     "shell.execute_reply": "2021-12-03T00:30:10.303759Z"
    },
    "papermill": {
     "duration": 0.075424,
     "end_time": "2021-12-03T00:30:10.305922",
     "exception": false,
     "start_time": "2021-12-03T00:30:10.230498",
     "status": "completed"
    },
    "tags": []
   },
   "outputs": [
    {
     "data": {
      "text/html": [
       "<div>\n",
       "<style scoped>\n",
       "    .dataframe tbody tr th:only-of-type {\n",
       "        vertical-align: middle;\n",
       "    }\n",
       "\n",
       "    .dataframe tbody tr th {\n",
       "        vertical-align: top;\n",
       "    }\n",
       "\n",
       "    .dataframe thead th {\n",
       "        text-align: right;\n",
       "    }\n",
       "</style>\n",
       "<table border=\"1\" class=\"dataframe\">\n",
       "  <thead>\n",
       "    <tr style=\"text-align: right;\">\n",
       "      <th></th>\n",
       "      <th>RECORD_TIME</th>\n",
       "    </tr>\n",
       "  </thead>\n",
       "  <tbody>\n",
       "    <tr>\n",
       "      <th>0</th>\n",
       "      <td>2021-12-03 01:30</td>\n",
       "    </tr>\n",
       "    <tr>\n",
       "      <th>1</th>\n",
       "      <td>2021-12-03 01:00</td>\n",
       "    </tr>\n",
       "  </tbody>\n",
       "</table>\n",
       "</div>"
      ],
      "text/plain": [
       "        RECORD_TIME\n",
       "0  2021-12-03 01:30\n",
       "1  2021-12-03 01:00"
      ]
     },
     "execution_count": 3,
     "metadata": {},
     "output_type": "execute_result"
    }
   ],
   "source": [
    "timestamps"
   ]
  },
  {
   "cell_type": "code",
   "execution_count": 4,
   "id": "alternate-victory",
   "metadata": {
    "execution": {
     "iopub.execute_input": "2021-12-03T00:30:10.363223Z",
     "iopub.status.busy": "2021-12-03T00:30:10.361062Z",
     "iopub.status.idle": "2021-12-03T00:30:11.796221Z",
     "shell.execute_reply": "2021-12-03T00:30:11.798210Z"
    },
    "papermill": {
     "duration": 1.4702,
     "end_time": "2021-12-03T00:30:11.798759",
     "exception": false,
     "start_time": "2021-12-03T00:30:10.328559",
     "status": "completed"
    },
    "tags": []
   },
   "outputs": [],
   "source": [
    "df = pd.read_sql(\"select * from EBAY_TOP_BERLIN where record_time in (select distinct record_time from EBAY_TOP_BERLIN order by record_time desc limit 2)\", sqlite3.connect(\"UsedObjects.db\"))"
   ]
  },
  {
   "cell_type": "code",
   "execution_count": 5,
   "id": "popular-active",
   "metadata": {
    "execution": {
     "iopub.execute_input": "2021-12-03T00:30:11.862190Z",
     "iopub.status.busy": "2021-12-03T00:30:11.859788Z",
     "iopub.status.idle": "2021-12-03T00:30:11.894200Z",
     "shell.execute_reply": "2021-12-03T00:30:11.895903Z"
    },
    "papermill": {
     "duration": 0.076593,
     "end_time": "2021-12-03T00:30:11.896380",
     "exception": false,
     "start_time": "2021-12-03T00:30:11.819787",
     "status": "completed"
    },
    "tags": []
   },
   "outputs": [],
   "source": [
    "df_pivot = df.pivot_table(index=\"PRODUCT\", columns = \"RECORD_TIME\", values = \"LISTING_COUNT\")"
   ]
  },
  {
   "cell_type": "code",
   "execution_count": 6,
   "id": "union-huntington",
   "metadata": {
    "execution": {
     "iopub.execute_input": "2021-12-03T00:30:11.962107Z",
     "iopub.status.busy": "2021-12-03T00:30:11.959220Z",
     "iopub.status.idle": "2021-12-03T00:30:11.971757Z",
     "shell.execute_reply": "2021-12-03T00:30:11.973891Z"
    },
    "papermill": {
     "duration": 0.055473,
     "end_time": "2021-12-03T00:30:11.974548",
     "exception": false,
     "start_time": "2021-12-03T00:30:11.919075",
     "status": "completed"
    },
    "tags": []
   },
   "outputs": [],
   "source": [
    "df_pivot.columns = [\"stamp_1\", \"stamp_2\"]\n",
    "df_pivot_diff = df_pivot.diff(axis=1)"
   ]
  },
  {
   "cell_type": "code",
   "execution_count": 7,
   "id": "fifth-motion",
   "metadata": {
    "execution": {
     "iopub.execute_input": "2021-12-03T00:30:12.035932Z",
     "iopub.status.busy": "2021-12-03T00:30:12.033397Z",
     "iopub.status.idle": "2021-12-03T00:30:14.035866Z",
     "shell.execute_reply": "2021-12-03T00:30:14.038816Z"
    },
    "papermill": {
     "duration": 2.042439,
     "end_time": "2021-12-03T00:30:14.039748",
     "exception": false,
     "start_time": "2021-12-03T00:30:11.997309",
     "status": "completed"
    },
    "tags": []
   },
   "outputs": [
    {
     "data": {
      "text/plain": [
       "<AxesSubplot:ylabel='PRODUCT'>"
      ]
     },
     "execution_count": 7,
     "metadata": {},
     "output_type": "execute_result"
    },
    {
     "data": {
      "image/png": "[encoded data removed]",
      "text/plain": [
       "<Figure size 432x288 with 1 Axes>"
      ]
     },
     "metadata": {
      "needs_background": "light"
     },
     "output_type": "display_data"
    }
   ],
   "source": [
    "df_pivot_diff.sort_values(\"stamp_2\", ascending = False)[\"stamp_2\"].head(10).plot.barh()"
   ]
  },
  {
   "cell_type": "code",
   "execution_count": null,
   "id": "extra-executive",
   "metadata": {
    "papermill": {
     "duration": 0.040864,
     "end_time": "2021-12-03T00:30:14.115624",
     "exception": false,
     "start_time": "2021-12-03T00:30:14.074760",
     "status": "completed"
    },
    "tags": []
   },
   "outputs": [],
   "source": []
  }
 ],
 "metadata": {
  "kernelspec": {
   "display_name": "Python 3",
   "language": "python",
   "name": "python3"
  },
  "language_info": {
   "codemirror_mode": {
    "name": "ipython",
    "version": 3
   },
   "file_extension": ".py",
   "mimetype": "text/x-python",
   "name": "python",
   "nbconvert_exporter": "python",
   "pygments_lexer": "ipython3",
   "version": "3.9.5"
  },
  "papermill": {
   "default_parameters": {},
   "duration": 9.500716,
   "end_time": "2021-12-03T00:30:14.798547",
   "environment_variables": {},
   "exception": null,
   "input_path": "eBay_Overview.ipynb",
   "output_path": "eBay_Overview.ipynb",
   "parameters": {},
   "start_time": "2021-12-03T00:30:05.297831",
   "version": "2.3.3"
  }
 },
 "nbformat": 4,
 "nbformat_minor": 5
}