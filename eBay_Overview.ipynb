{
 "cells": [
  {
   "cell_type": "code",
   "execution_count": 1,
   "id": "reverse-picking",
   "metadata": {
    "execution": {
     "iopub.execute_input": "2021-11-03T15:30:08.152055Z",
     "iopub.status.busy": "2021-11-03T15:30:08.149876Z",
     "iopub.status.idle": "2021-11-03T15:30:09.115023Z",
     "shell.execute_reply": "2021-11-03T15:30:09.116590Z"
    },
    "papermill": {
     "duration": 1.014924,
     "end_time": "2021-11-03T15:30:09.117529",
     "exception": false,
     "start_time": "2021-11-03T15:30:08.102605",
     "status": "completed"
    },
    "tags": []
   },
   "outputs": [],
   "source": [
    "import pandas as pd\n",
    "import sqlite3"
   ]
  },
  {
   "cell_type": "code",
   "execution_count": 2,
   "id": "innovative-syndrome",
   "metadata": {
    "execution": {
     "iopub.execute_input": "2021-11-03T15:30:09.179109Z",
     "iopub.status.busy": "2021-11-03T15:30:09.176850Z",
     "iopub.status.idle": "2021-11-03T15:30:09.895775Z",
     "shell.execute_reply": "2021-11-03T15:30:09.897105Z"
    },
    "papermill": {
     "duration": 0.752503,
     "end_time": "2021-11-03T15:30:09.897550",
     "exception": false,
     "start_time": "2021-11-03T15:30:09.145047",
     "status": "completed"
    },
    "tags": []
   },
   "outputs": [],
   "source": [
    "timestamps = pd.read_sql(\"select distinct record_time from EBAY_TOP_BERLIN order by record_time desc limit 2\", sqlite3.connect(\"UsedObjects.db\"))"
   ]
  },
  {
   "cell_type": "code",
   "execution_count": 3,
   "id": "periodic-identification",
   "metadata": {
    "execution": {
     "iopub.execute_input": "2021-11-03T15:30:09.969925Z",
     "iopub.status.busy": "2021-11-03T15:30:09.963622Z",
     "iopub.status.idle": "2021-11-03T15:30:09.985898Z",
     "shell.execute_reply": "2021-11-03T15:30:09.987333Z"
    },
    "papermill": {
     "duration": 0.070736,
     "end_time": "2021-11-03T15:30:09.987795",
     "exception": false,
     "start_time": "2021-11-03T15:30:09.917059",
     "status": "completed"
    },
    "tags": []
   },
   "outputs": [
    {
     "data": {
      "text/html": [
       "<div>\n",
       "<style scoped>\n",
       "    .dataframe tbody tr th:only-of-type {\n",
       "        vertical-align: middle;\n",
       "    }\n",
       "\n",
       "    .dataframe tbody tr th {\n",
       "        vertical-align: top;\n",
       "    }\n",
       "\n",
       "    .dataframe thead th {\n",
       "        text-align: right;\n",
       "    }\n",
       "</style>\n",
       "<table border=\"1\" class=\"dataframe\">\n",
       "  <thead>\n",
       "    <tr style=\"text-align: right;\">\n",
       "      <th></th>\n",
       "      <th>RECORD_TIME</th>\n",
       "    </tr>\n",
       "  </thead>\n",
       "  <tbody>\n",
       "    <tr>\n",
       "      <th>0</th>\n",
       "      <td>2021-11-03 16:30</td>\n",
       "    </tr>\n",
       "    <tr>\n",
       "      <th>1</th>\n",
       "      <td>2021-11-03 16:00</td>\n",
       "    </tr>\n",
       "  </tbody>\n",
       "</table>\n",
       "</div>"
      ],
      "text/plain": [
       "        RECORD_TIME\n",
       "0  2021-11-03 16:30\n",
       "1  2021-11-03 16:00"
      ]
     },
     "execution_count": 3,
     "metadata": {},
     "output_type": "execute_result"
    }
   ],
   "source": [
    "timestamps"
   ]
  },
  {
   "cell_type": "code",
   "execution_count": 4,
   "id": "alternate-victory",
   "metadata": {
    "execution": {
     "iopub.execute_input": "2021-11-03T15:30:10.042441Z",
     "iopub.status.busy": "2021-11-03T15:30:10.040263Z",
     "iopub.status.idle": "2021-11-03T15:30:11.076540Z",
     "shell.execute_reply": "2021-11-03T15:30:11.078764Z"
    },
    "papermill": {
     "duration": 1.071433,
     "end_time": "2021-11-03T15:30:11.079636",
     "exception": false,
     "start_time": "2021-11-03T15:30:10.008203",
     "status": "completed"
    },
    "tags": []
   },
   "outputs": [],
   "source": [
    "df = pd.read_sql(\"select * from EBAY_TOP_BERLIN where record_time in (select distinct record_time from EBAY_TOP_BERLIN order by record_time desc limit 2)\", sqlite3.connect(\"UsedObjects.db\"))"
   ]
  },
  {
   "cell_type": "code",
   "execution_count": 5,
   "id": "popular-active",
   "metadata": {
    "execution": {
     "iopub.execute_input": "2021-11-03T15:30:11.147098Z",
     "iopub.status.busy": "2021-11-03T15:30:11.144559Z",
     "iopub.status.idle": "2021-11-03T15:30:11.179266Z",
     "shell.execute_reply": "2021-11-03T15:30:11.181497Z"
    },
    "papermill": {
     "duration": 0.079975,
     "end_time": "2021-11-03T15:30:11.182020",
     "exception": false,
     "start_time": "2021-11-03T15:30:11.102045",
     "status": "completed"
    },
    "tags": []
   },
   "outputs": [],
   "source": [
    "df_pivot = df.pivot_table(index=\"PRODUCT\", columns = \"RECORD_TIME\", values = \"LISTING_COUNT\")"
   ]
  },
  {
   "cell_type": "code",
   "execution_count": 6,
   "id": "union-huntington",
   "metadata": {
    "execution": {
     "iopub.execute_input": "2021-11-03T15:30:11.245842Z",
     "iopub.status.busy": "2021-11-03T15:30:11.243472Z",
     "iopub.status.idle": "2021-11-03T15:30:11.249197Z",
     "shell.execute_reply": "2021-11-03T15:30:11.250717Z"
    },
    "papermill": {
     "duration": 0.047556,
     "end_time": "2021-11-03T15:30:11.251220",
     "exception": false,
     "start_time": "2021-11-03T15:30:11.203664",
     "status": "completed"
    },
    "tags": []
   },
   "outputs": [],
   "source": [
    "df_pivot.columns = [\"stamp_1\", \"stamp_2\"]\n",
    "df_pivot_diff = df_pivot.diff(axis=1)"
   ]
  },
  {
   "cell_type": "code",
   "execution_count": 7,
   "id": "fifth-motion",
   "metadata": {
    "execution": {
     "iopub.execute_input": "2021-11-03T15:30:11.311131Z",
     "iopub.status.busy": "2021-11-03T15:30:11.308516Z",
     "iopub.status.idle": "2021-11-03T15:30:13.240153Z",
     "shell.execute_reply": "2021-11-03T15:30:13.243063Z"
    },
    "papermill": {
     "duration": 1.972073,
     "end_time": "2021-11-03T15:30:13.243929",
     "exception": false,
     "start_time": "2021-11-03T15:30:11.271856",
     "status": "completed"
    },
    "tags": []
   },
   "outputs": [
    {
     "data": {
      "text/plain": [
       "<AxesSubplot:ylabel='PRODUCT'>"
      ]
     },
     "execution_count": 7,
     "metadata": {},
     "output_type": "execute_result"
    },
    {
     "data": {
      "image/png": "[encoded data removed]",
      "text/plain": [
       "<Figure size 432x288 with 1 Axes>"
      ]
     },
     "metadata": {
      "needs_background": "light"
     },
     "output_type": "display_data"
    }
   ],
   "source": [
    "df_pivot_diff.sort_values(\"stamp_2\", ascending = False)[\"stamp_2\"].head(10).plot.barh()"
   ]
  },
  {
   "cell_type": "code",
   "execution_count": null,
   "id": "extra-executive",
   "metadata": {
    "papermill": {
     "duration": 0.038618,
     "end_time": "2021-11-03T15:30:13.318995",
     "exception": false,
     "start_time": "2021-11-03T15:30:13.280377",
     "status": "completed"
    },
    "tags": []
   },
   "outputs": [],
   "source": []
  }
 ],
 "metadata": {
  "kernelspec": {
   "display_name": "Python 3",
   "language": "python",
   "name": "python3"
  },
  "language_info": {
   "codemirror_mode": {
    "name": "ipython",
    "version": 3
   },
   "file_extension": ".py",
   "mimetype": "text/x-python",
   "name": "python",
   "nbconvert_exporter": "python",
   "pygments_lexer": "ipython3",
   "version": "3.9.5"
  },
  "papermill": {
   "default_parameters": {},
   "duration": 8.817687,
   "end_time": "2021-11-03T15:30:14.180464",
   "environment_variables": {},
   "exception": null,
   "input_path": "eBay_Overview.ipynb",
   "output_path": "eBay_Overview.ipynb",
   "parameters": {},
   "start_time": "2021-11-03T15:30:05.362777",
   "version": "2.3.3"
  }
 },
 "nbformat": 4,
 "nbformat_minor": 5
}