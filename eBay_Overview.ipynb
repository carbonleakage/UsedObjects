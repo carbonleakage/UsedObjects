{
 "cells": [
  {
   "cell_type": "code",
   "execution_count": 1,
   "id": "reverse-picking",
   "metadata": {
    "execution": {
     "iopub.execute_input": "2021-11-29T11:30:08.386628Z",
     "iopub.status.busy": "2021-11-29T11:30:08.384328Z",
     "iopub.status.idle": "2021-11-29T11:30:09.343548Z",
     "shell.execute_reply": "2021-11-29T11:30:09.346818Z"
    },
    "papermill": {
     "duration": 1.010862,
     "end_time": "2021-11-29T11:30:09.348263",
     "exception": false,
     "start_time": "2021-11-29T11:30:08.337401",
     "status": "completed"
    },
    "tags": []
   },
   "outputs": [],
   "source": [
    "import pandas as pd\n",
    "import sqlite3"
   ]
  },
  {
   "cell_type": "code",
   "execution_count": 2,
   "id": "innovative-syndrome",
   "metadata": {
    "execution": {
     "iopub.execute_input": "2021-11-29T11:30:09.419015Z",
     "iopub.status.busy": "2021-11-29T11:30:09.416856Z",
     "iopub.status.idle": "2021-11-29T11:30:10.350271Z",
     "shell.execute_reply": "2021-11-29T11:30:10.351602Z"
    },
    "papermill": {
     "duration": 0.966857,
     "end_time": "2021-11-29T11:30:10.352033",
     "exception": false,
     "start_time": "2021-11-29T11:30:09.385176",
     "status": "completed"
    },
    "tags": []
   },
   "outputs": [],
   "source": [
    "timestamps = pd.read_sql(\"select distinct record_time from EBAY_TOP_BERLIN order by record_time desc limit 2\", sqlite3.connect(\"UsedObjects.db\"))"
   ]
  },
  {
   "cell_type": "code",
   "execution_count": 3,
   "id": "periodic-identification",
   "metadata": {
    "execution": {
     "iopub.execute_input": "2021-11-29T11:30:10.417365Z",
     "iopub.status.busy": "2021-11-29T11:30:10.415558Z",
     "iopub.status.idle": "2021-11-29T11:30:10.441014Z",
     "shell.execute_reply": "2021-11-29T11:30:10.439484Z"
    },
    "papermill": {
     "duration": 0.07056,
     "end_time": "2021-11-29T11:30:10.441407",
     "exception": false,
     "start_time": "2021-11-29T11:30:10.370847",
     "status": "completed"
    },
    "tags": []
   },
   "outputs": [
    {
     "data": {
      "text/html": [
       "<div>\n",
       "<style scoped>\n",
       "    .dataframe tbody tr th:only-of-type {\n",
       "        vertical-align: middle;\n",
       "    }\n",
       "\n",
       "    .dataframe tbody tr th {\n",
       "        vertical-align: top;\n",
       "    }\n",
       "\n",
       "    .dataframe thead th {\n",
       "        text-align: right;\n",
       "    }\n",
       "</style>\n",
       "<table border=\"1\" class=\"dataframe\">\n",
       "  <thead>\n",
       "    <tr style=\"text-align: right;\">\n",
       "      <th></th>\n",
       "      <th>RECORD_TIME</th>\n",
       "    </tr>\n",
       "  </thead>\n",
       "  <tbody>\n",
       "    <tr>\n",
       "      <th>0</th>\n",
       "      <td>2021-11-29 12:30</td>\n",
       "    </tr>\n",
       "    <tr>\n",
       "      <th>1</th>\n",
       "      <td>2021-11-29 12:00</td>\n",
       "    </tr>\n",
       "  </tbody>\n",
       "</table>\n",
       "</div>"
      ],
      "text/plain": [
       "        RECORD_TIME\n",
       "0  2021-11-29 12:30\n",
       "1  2021-11-29 12:00"
      ]
     },
     "execution_count": 3,
     "metadata": {},
     "output_type": "execute_result"
    }
   ],
   "source": [
    "timestamps"
   ]
  },
  {
   "cell_type": "code",
   "execution_count": 4,
   "id": "alternate-victory",
   "metadata": {
    "execution": {
     "iopub.execute_input": "2021-11-29T11:30:10.495367Z",
     "iopub.status.busy": "2021-11-29T11:30:10.493204Z",
     "iopub.status.idle": "2021-11-29T11:30:11.933219Z",
     "shell.execute_reply": "2021-11-29T11:30:11.934835Z"
    },
    "papermill": {
     "duration": 1.472658,
     "end_time": "2021-11-29T11:30:11.935332",
     "exception": false,
     "start_time": "2021-11-29T11:30:10.462674",
     "status": "completed"
    },
    "tags": []
   },
   "outputs": [],
   "source": [
    "df = pd.read_sql(\"select * from EBAY_TOP_BERLIN where record_time in (select distinct record_time from EBAY_TOP_BERLIN order by record_time desc limit 2)\", sqlite3.connect(\"UsedObjects.db\"))"
   ]
  },
  {
   "cell_type": "code",
   "execution_count": 5,
   "id": "popular-active",
   "metadata": {
    "execution": {
     "iopub.execute_input": "2021-11-29T11:30:12.011794Z",
     "iopub.status.busy": "2021-11-29T11:30:12.004445Z",
     "iopub.status.idle": "2021-11-29T11:30:12.029393Z",
     "shell.execute_reply": "2021-11-29T11:30:12.030807Z"
    },
    "papermill": {
     "duration": 0.074301,
     "end_time": "2021-11-29T11:30:12.031289",
     "exception": false,
     "start_time": "2021-11-29T11:30:11.956988",
     "status": "completed"
    },
    "tags": []
   },
   "outputs": [],
   "source": [
    "df_pivot = df.pivot_table(index=\"PRODUCT\", columns = \"RECORD_TIME\", values = \"LISTING_COUNT\")"
   ]
  },
  {
   "cell_type": "code",
   "execution_count": 6,
   "id": "union-huntington",
   "metadata": {
    "execution": {
     "iopub.execute_input": "2021-11-29T11:30:12.093453Z",
     "iopub.status.busy": "2021-11-29T11:30:12.091306Z",
     "iopub.status.idle": "2021-11-29T11:30:12.098847Z",
     "shell.execute_reply": "2021-11-29T11:30:12.097038Z"
    },
    "papermill": {
     "duration": 0.046241,
     "end_time": "2021-11-29T11:30:12.099288",
     "exception": false,
     "start_time": "2021-11-29T11:30:12.053047",
     "status": "completed"
    },
    "tags": []
   },
   "outputs": [],
   "source": [
    "df_pivot.columns = [\"stamp_1\", \"stamp_2\"]\n",
    "df_pivot_diff = df_pivot.diff(axis=1)"
   ]
  },
  {
   "cell_type": "code",
   "execution_count": 7,
   "id": "fifth-motion",
   "metadata": {
    "execution": {
     "iopub.execute_input": "2021-11-29T11:30:12.156468Z",
     "iopub.status.busy": "2021-11-29T11:30:12.153916Z",
     "iopub.status.idle": "2021-11-29T11:30:14.151055Z",
     "shell.execute_reply": "2021-11-29T11:30:14.152294Z"
    },
    "papermill": {
     "duration": 2.032414,
     "end_time": "2021-11-29T11:30:14.152804",
     "exception": false,
     "start_time": "2021-11-29T11:30:12.120390",
     "status": "completed"
    },
    "tags": []
   },
   "outputs": [
    {
     "data": {
      "text/plain": [
       "<AxesSubplot:ylabel='PRODUCT'>"
      ]
     },
     "execution_count": 7,
     "metadata": {},
     "output_type": "execute_result"
    },
    {
     "data": {
      "image/png": "[encoded data removed]",
      "text/plain": [
       "<Figure size 432x288 with 1 Axes>"
      ]
     },
     "metadata": {
      "needs_background": "light"
     },
     "output_type": "display_data"
    }
   ],
   "source": [
    "df_pivot_diff.sort_values(\"stamp_2\", ascending = False)[\"stamp_2\"].head(10).plot.barh()"
   ]
  },
  {
   "cell_type": "code",
   "execution_count": null,
   "id": "extra-executive",
   "metadata": {
    "papermill": {
     "duration": 0.022144,
     "end_time": "2021-11-29T11:30:14.198915",
     "exception": false,
     "start_time": "2021-11-29T11:30:14.176771",
     "status": "completed"
    },
    "tags": []
   },
   "outputs": [],
   "source": []
  }
 ],
 "metadata": {
  "kernelspec": {
   "display_name": "Python 3",
   "language": "python",
   "name": "python3"
  },
  "language_info": {
   "codemirror_mode": {
    "name": "ipython",
    "version": 3
   },
   "file_extension": ".py",
   "mimetype": "text/x-python",
   "name": "python",
   "nbconvert_exporter": "python",
   "pygments_lexer": "ipython3",
   "version": "3.9.5"
  },
  "papermill": {
   "default_parameters": {},
   "duration": 9.939184,
   "end_time": "2021-11-29T11:30:15.533874",
   "environment_variables": {},
   "exception": null,
   "input_path": "eBay_Overview.ipynb",
   "output_path": "eBay_Overview.ipynb",
   "parameters": {},
   "start_time": "2021-11-29T11:30:05.594690",
   "version": "2.3.3"
  }
 },
 "nbformat": 4,
 "nbformat_minor": 5
}