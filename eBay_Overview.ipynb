{
 "cells": [
  {
   "cell_type": "code",
   "execution_count": 1,
   "id": "reverse-picking",
   "metadata": {
    "execution": {
     "iopub.execute_input": "2021-11-02T12:30:07.298768Z",
     "iopub.status.busy": "2021-11-02T12:30:07.293387Z",
     "iopub.status.idle": "2021-11-02T12:30:08.252166Z",
     "shell.execute_reply": "2021-11-02T12:30:08.253747Z"
    },
    "papermill": {
     "duration": 1.003106,
     "end_time": "2021-11-02T12:30:08.254532",
     "exception": false,
     "start_time": "2021-11-02T12:30:07.251426",
     "status": "completed"
    },
    "tags": []
   },
   "outputs": [],
   "source": [
    "import pandas as pd\n",
    "import sqlite3"
   ]
  },
  {
   "cell_type": "code",
   "execution_count": 2,
   "id": "innovative-syndrome",
   "metadata": {
    "execution": {
     "iopub.execute_input": "2021-11-02T12:30:08.316912Z",
     "iopub.status.busy": "2021-11-02T12:30:08.314613Z",
     "iopub.status.idle": "2021-11-02T12:30:09.014291Z",
     "shell.execute_reply": "2021-11-02T12:30:09.015809Z"
    },
    "papermill": {
     "duration": 0.734155,
     "end_time": "2021-11-02T12:30:09.016282",
     "exception": false,
     "start_time": "2021-11-02T12:30:08.282127",
     "status": "completed"
    },
    "tags": []
   },
   "outputs": [],
   "source": [
    "timestamps = pd.read_sql(\"select distinct record_time from EBAY_TOP_BERLIN order by record_time desc limit 2\", sqlite3.connect(\"UsedObjects.db\"))"
   ]
  },
  {
   "cell_type": "code",
   "execution_count": 3,
   "id": "periodic-identification",
   "metadata": {
    "execution": {
     "iopub.execute_input": "2021-11-02T12:30:09.085586Z",
     "iopub.status.busy": "2021-11-02T12:30:09.083163Z",
     "iopub.status.idle": "2021-11-02T12:30:09.104875Z",
     "shell.execute_reply": "2021-11-02T12:30:09.106252Z"
    },
    "papermill": {
     "duration": 0.070654,
     "end_time": "2021-11-02T12:30:09.106719",
     "exception": false,
     "start_time": "2021-11-02T12:30:09.036065",
     "status": "completed"
    },
    "tags": []
   },
   "outputs": [
    {
     "data": {
      "text/html": [
       "<div>\n",
       "<style scoped>\n",
       "    .dataframe tbody tr th:only-of-type {\n",
       "        vertical-align: middle;\n",
       "    }\n",
       "\n",
       "    .dataframe tbody tr th {\n",
       "        vertical-align: top;\n",
       "    }\n",
       "\n",
       "    .dataframe thead th {\n",
       "        text-align: right;\n",
       "    }\n",
       "</style>\n",
       "<table border=\"1\" class=\"dataframe\">\n",
       "  <thead>\n",
       "    <tr style=\"text-align: right;\">\n",
       "      <th></th>\n",
       "      <th>RECORD_TIME</th>\n",
       "    </tr>\n",
       "  </thead>\n",
       "  <tbody>\n",
       "    <tr>\n",
       "      <th>0</th>\n",
       "      <td>2021-11-02 13:30</td>\n",
       "    </tr>\n",
       "    <tr>\n",
       "      <th>1</th>\n",
       "      <td>2021-11-02 13:00</td>\n",
       "    </tr>\n",
       "  </tbody>\n",
       "</table>\n",
       "</div>"
      ],
      "text/plain": [
       "        RECORD_TIME\n",
       "0  2021-11-02 13:30\n",
       "1  2021-11-02 13:00"
      ]
     },
     "execution_count": 3,
     "metadata": {},
     "output_type": "execute_result"
    }
   ],
   "source": [
    "timestamps"
   ]
  },
  {
   "cell_type": "code",
   "execution_count": 4,
   "id": "alternate-victory",
   "metadata": {
    "execution": {
     "iopub.execute_input": "2021-11-02T12:30:09.161749Z",
     "iopub.status.busy": "2021-11-02T12:30:09.159527Z",
     "iopub.status.idle": "2021-11-02T12:30:10.195309Z",
     "shell.execute_reply": "2021-11-02T12:30:10.196843Z"
    },
    "papermill": {
     "duration": 1.069609,
     "end_time": "2021-11-02T12:30:10.197394",
     "exception": false,
     "start_time": "2021-11-02T12:30:09.127785",
     "status": "completed"
    },
    "tags": []
   },
   "outputs": [],
   "source": [
    "df = pd.read_sql(\"select * from EBAY_TOP_BERLIN where record_time in (select distinct record_time from EBAY_TOP_BERLIN order by record_time desc limit 2)\", sqlite3.connect(\"UsedObjects.db\"))"
   ]
  },
  {
   "cell_type": "code",
   "execution_count": 5,
   "id": "popular-active",
   "metadata": {
    "execution": {
     "iopub.execute_input": "2021-11-02T12:30:10.278004Z",
     "iopub.status.busy": "2021-11-02T12:30:10.263811Z",
     "iopub.status.idle": "2021-11-02T12:30:10.297091Z",
     "shell.execute_reply": "2021-11-02T12:30:10.298557Z"
    },
    "papermill": {
     "duration": 0.07881,
     "end_time": "2021-11-02T12:30:10.299053",
     "exception": false,
     "start_time": "2021-11-02T12:30:10.220243",
     "status": "completed"
    },
    "tags": []
   },
   "outputs": [],
   "source": [
    "df_pivot = df.pivot_table(index=\"PRODUCT\", columns = \"RECORD_TIME\", values = \"LISTING_COUNT\")"
   ]
  },
  {
   "cell_type": "code",
   "execution_count": 6,
   "id": "union-huntington",
   "metadata": {
    "execution": {
     "iopub.execute_input": "2021-11-02T12:30:10.361745Z",
     "iopub.status.busy": "2021-11-02T12:30:10.359310Z",
     "iopub.status.idle": "2021-11-02T12:30:10.367266Z",
     "shell.execute_reply": "2021-11-02T12:30:10.365631Z"
    },
    "papermill": {
     "duration": 0.045532,
     "end_time": "2021-11-02T12:30:10.367691",
     "exception": false,
     "start_time": "2021-11-02T12:30:10.322159",
     "status": "completed"
    },
    "tags": []
   },
   "outputs": [],
   "source": [
    "df_pivot.columns = [\"stamp_1\", \"stamp_2\"]\n",
    "df_pivot_diff = df_pivot.diff(axis=1)"
   ]
  },
  {
   "cell_type": "code",
   "execution_count": 7,
   "id": "fifth-motion",
   "metadata": {
    "execution": {
     "iopub.execute_input": "2021-11-02T12:30:10.429086Z",
     "iopub.status.busy": "2021-11-02T12:30:10.424593Z",
     "iopub.status.idle": "2021-11-02T12:30:12.327885Z",
     "shell.execute_reply": "2021-11-02T12:30:12.330310Z"
    },
    "papermill": {
     "duration": 1.942062,
     "end_time": "2021-11-02T12:30:12.331065",
     "exception": false,
     "start_time": "2021-11-02T12:30:10.389003",
     "status": "completed"
    },
    "tags": []
   },
   "outputs": [
    {
     "data": {
      "text/plain": [
       "<AxesSubplot:ylabel='PRODUCT'>"
      ]
     },
     "execution_count": 7,
     "metadata": {},
     "output_type": "execute_result"
    },
    {
     "data": {
      "image/png": "[encoded data removed]",
      "text/plain": [
       "<Figure size 432x288 with 1 Axes>"
      ]
     },
     "metadata": {
      "needs_background": "light"
     },
     "output_type": "display_data"
    }
   ],
   "source": [
    "df_pivot_diff.sort_values(\"stamp_2\", ascending = False)[\"stamp_2\"].head(10).plot.barh()"
   ]
  },
  {
   "cell_type": "code",
   "execution_count": null,
   "id": "extra-executive",
   "metadata": {
    "papermill": {
     "duration": 0.027688,
     "end_time": "2021-11-02T12:30:12.393592",
     "exception": false,
     "start_time": "2021-11-02T12:30:12.365904",
     "status": "completed"
    },
    "tags": []
   },
   "outputs": [],
   "source": []
  }
 ],
 "metadata": {
  "kernelspec": {
   "display_name": "Python 3",
   "language": "python",
   "name": "python3"
  },
  "language_info": {
   "codemirror_mode": {
    "name": "ipython",
    "version": 3
   },
   "file_extension": ".py",
   "mimetype": "text/x-python",
   "name": "python",
   "nbconvert_exporter": "python",
   "pygments_lexer": "ipython3",
   "version": "3.9.5"
  },
  "papermill": {
   "default_parameters": {},
   "duration": 8.701883,
   "end_time": "2021-11-02T12:30:13.246810",
   "environment_variables": {},
   "exception": null,
   "input_path": "eBay_Overview.ipynb",
   "output_path": "eBay_Overview.ipynb",
   "parameters": {},
   "start_time": "2021-11-02T12:30:04.544927",
   "version": "2.3.3"
  }
 },
 "nbformat": 4,
 "nbformat_minor": 5
}