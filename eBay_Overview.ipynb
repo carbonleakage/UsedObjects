{
 "cells": [
  {
   "cell_type": "code",
   "execution_count": 1,
   "id": "reverse-picking",
   "metadata": {
    "execution": {
     "iopub.execute_input": "2021-08-24T19:30:06.565268Z",
     "iopub.status.busy": "2021-08-24T19:30:06.563386Z",
     "iopub.status.idle": "2021-08-24T19:30:07.367714Z",
     "shell.execute_reply": "2021-08-24T19:30:07.368953Z"
    },
    "papermill": {
     "duration": 0.857459,
     "end_time": "2021-08-24T19:30:07.369571",
     "exception": false,
     "start_time": "2021-08-24T19:30:06.512112",
     "status": "completed"
    },
    "tags": []
   },
   "outputs": [],
   "source": [
    "import pandas as pd\n",
    "import sqlite3"
   ]
  },
  {
   "cell_type": "code",
   "execution_count": 2,
   "id": "innovative-syndrome",
   "metadata": {
    "execution": {
     "iopub.execute_input": "2021-08-24T19:30:07.420091Z",
     "iopub.status.busy": "2021-08-24T19:30:07.418251Z",
     "iopub.status.idle": "2021-08-24T19:30:07.538735Z",
     "shell.execute_reply": "2021-08-24T19:30:07.539928Z"
    },
    "papermill": {
     "duration": 0.150141,
     "end_time": "2021-08-24T19:30:07.540326",
     "exception": false,
     "start_time": "2021-08-24T19:30:07.390185",
     "status": "completed"
    },
    "tags": []
   },
   "outputs": [],
   "source": [
    "timestamps = pd.read_sql(\"select distinct record_time from EBAY_TOP_BERLIN order by record_time desc limit 2\", sqlite3.connect(\"UsedObjects.db\"))"
   ]
  },
  {
   "cell_type": "code",
   "execution_count": 3,
   "id": "periodic-identification",
   "metadata": {
    "execution": {
     "iopub.execute_input": "2021-08-24T19:30:07.608753Z",
     "iopub.status.busy": "2021-08-24T19:30:07.606761Z",
     "iopub.status.idle": "2021-08-24T19:30:07.626691Z",
     "shell.execute_reply": "2021-08-24T19:30:07.627887Z"
    },
    "papermill": {
     "duration": 0.065755,
     "end_time": "2021-08-24T19:30:07.628321",
     "exception": false,
     "start_time": "2021-08-24T19:30:07.562566",
     "status": "completed"
    },
    "tags": []
   },
   "outputs": [
    {
     "data": {
      "text/html": [
       "<div>\n",
       "<style scoped>\n",
       "    .dataframe tbody tr th:only-of-type {\n",
       "        vertical-align: middle;\n",
       "    }\n",
       "\n",
       "    .dataframe tbody tr th {\n",
       "        vertical-align: top;\n",
       "    }\n",
       "\n",
       "    .dataframe thead th {\n",
       "        text-align: right;\n",
       "    }\n",
       "</style>\n",
       "<table border=\"1\" class=\"dataframe\">\n",
       "  <thead>\n",
       "    <tr style=\"text-align: right;\">\n",
       "      <th></th>\n",
       "      <th>RECORD_TIME</th>\n",
       "    </tr>\n",
       "  </thead>\n",
       "  <tbody>\n",
       "    <tr>\n",
       "      <th>0</th>\n",
       "      <td>2021-08-24 21:30</td>\n",
       "    </tr>\n",
       "    <tr>\n",
       "      <th>1</th>\n",
       "      <td>2021-08-24 21:00</td>\n",
       "    </tr>\n",
       "  </tbody>\n",
       "</table>\n",
       "</div>"
      ],
      "text/plain": [
       "        RECORD_TIME\n",
       "0  2021-08-24 21:30\n",
       "1  2021-08-24 21:00"
      ]
     },
     "execution_count": 3,
     "metadata": {},
     "output_type": "execute_result"
    }
   ],
   "source": [
    "timestamps"
   ]
  },
  {
   "cell_type": "code",
   "execution_count": 4,
   "id": "alternate-victory",
   "metadata": {
    "execution": {
     "iopub.execute_input": "2021-08-24T19:30:07.678418Z",
     "iopub.status.busy": "2021-08-24T19:30:07.676547Z",
     "iopub.status.idle": "2021-08-24T19:30:07.858053Z",
     "shell.execute_reply": "2021-08-24T19:30:07.859470Z"
    },
    "papermill": {
     "duration": 0.211384,
     "end_time": "2021-08-24T19:30:07.859917",
     "exception": false,
     "start_time": "2021-08-24T19:30:07.648533",
     "status": "completed"
    },
    "tags": []
   },
   "outputs": [],
   "source": [
    "df = pd.read_sql(\"select * from EBAY_TOP_BERLIN where record_time in (select distinct record_time from EBAY_TOP_BERLIN order by record_time desc limit 2)\", sqlite3.connect(\"UsedObjects.db\"))"
   ]
  },
  {
   "cell_type": "code",
   "execution_count": 5,
   "id": "popular-active",
   "metadata": {
    "execution": {
     "iopub.execute_input": "2021-08-24T19:30:07.921493Z",
     "iopub.status.busy": "2021-08-24T19:30:07.919357Z",
     "iopub.status.idle": "2021-08-24T19:30:07.946987Z",
     "shell.execute_reply": "2021-08-24T19:30:07.948245Z"
    },
    "papermill": {
     "duration": 0.068055,
     "end_time": "2021-08-24T19:30:07.948644",
     "exception": false,
     "start_time": "2021-08-24T19:30:07.880589",
     "status": "completed"
    },
    "tags": []
   },
   "outputs": [],
   "source": [
    "df_pivot = df.pivot_table(index=\"PRODUCT\", columns = \"RECORD_TIME\", values = \"LISTING_COUNT\")"
   ]
  },
  {
   "cell_type": "code",
   "execution_count": 6,
   "id": "union-huntington",
   "metadata": {
    "execution": {
     "iopub.execute_input": "2021-08-24T19:30:08.017798Z",
     "iopub.status.busy": "2021-08-24T19:30:08.015800Z",
     "iopub.status.idle": "2021-08-24T19:30:08.021161Z",
     "shell.execute_reply": "2021-08-24T19:30:08.022572Z"
    },
    "papermill": {
     "duration": 0.054809,
     "end_time": "2021-08-24T19:30:08.023032",
     "exception": false,
     "start_time": "2021-08-24T19:30:07.968223",
     "status": "completed"
    },
    "tags": []
   },
   "outputs": [],
   "source": [
    "df_pivot.columns = [\"stamp_1\", \"stamp_2\"]\n",
    "df_pivot_diff = df_pivot.diff(axis=1)"
   ]
  },
  {
   "cell_type": "code",
   "execution_count": 7,
   "id": "fifth-motion",
   "metadata": {
    "execution": {
     "iopub.execute_input": "2021-08-24T19:30:08.075736Z",
     "iopub.status.busy": "2021-08-24T19:30:08.073333Z",
     "iopub.status.idle": "2021-08-24T19:30:09.564075Z",
     "shell.execute_reply": "2021-08-24T19:30:09.565353Z"
    },
    "papermill": {
     "duration": 1.523311,
     "end_time": "2021-08-24T19:30:09.565775",
     "exception": false,
     "start_time": "2021-08-24T19:30:08.042464",
     "status": "completed"
    },
    "tags": []
   },
   "outputs": [
    {
     "data": {
      "text/plain": [
       "<AxesSubplot:ylabel='PRODUCT'>"
      ]
     },
     "execution_count": 7,
     "metadata": {},
     "output_type": "execute_result"
    },
    {
     "data": {
      "image/png": "[encoded data removed]",
      "text/plain": [
       "<Figure size 432x288 with 1 Axes>"
      ]
     },
     "metadata": {
      "needs_background": "light"
     },
     "output_type": "display_data"
    }
   ],
   "source": [
    "df_pivot_diff.sort_values(\"stamp_2\", ascending = False)[\"stamp_2\"].head(10).plot.barh()"
   ]
  },
  {
   "cell_type": "code",
   "execution_count": null,
   "id": "extra-executive",
   "metadata": {
    "papermill": {
     "duration": 0.021962,
     "end_time": "2021-08-24T19:30:09.612436",
     "exception": false,
     "start_time": "2021-08-24T19:30:09.590474",
     "status": "completed"
    },
    "tags": []
   },
   "outputs": [],
   "source": []
  }
 ],
 "metadata": {
  "kernelspec": {
   "display_name": "Python 3",
   "language": "python",
   "name": "python3"
  },
  "language_info": {
   "codemirror_mode": {
    "name": "ipython",
    "version": 3
   },
   "file_extension": ".py",
   "mimetype": "text/x-python",
   "name": "python",
   "nbconvert_exporter": "python",
   "pygments_lexer": "ipython3",
   "version": "3.9.5"
  },
  "papermill": {
   "default_parameters": {},
   "duration": 6.823625,
   "end_time": "2021-08-24T19:30:10.927025",
   "environment_variables": {},
   "exception": null,
   "input_path": "eBay_Overview.ipynb",
   "output_path": "eBay_Overview.ipynb",
   "parameters": {},
   "start_time": "2021-08-24T19:30:04.103400",
   "version": "2.3.3"
  }
 },
 "nbformat": 4,
 "nbformat_minor": 5
}