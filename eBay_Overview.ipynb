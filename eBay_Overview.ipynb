{
 "cells": [
  {
   "cell_type": "code",
   "execution_count": 1,
   "id": "reverse-picking",
   "metadata": {
    "execution": {
     "iopub.execute_input": "2021-09-18T06:30:06.808839Z",
     "iopub.status.busy": "2021-09-18T06:30:06.806890Z",
     "iopub.status.idle": "2021-09-18T06:30:07.612200Z",
     "shell.execute_reply": "2021-09-18T06:30:07.613449Z"
    },
    "papermill": {
     "duration": 0.857613,
     "end_time": "2021-09-18T06:30:07.614071",
     "exception": false,
     "start_time": "2021-09-18T06:30:06.756458",
     "status": "completed"
    },
    "tags": []
   },
   "outputs": [],
   "source": [
    "import pandas as pd\n",
    "import sqlite3"
   ]
  },
  {
   "cell_type": "code",
   "execution_count": 2,
   "id": "innovative-syndrome",
   "metadata": {
    "execution": {
     "iopub.execute_input": "2021-09-18T06:30:07.664549Z",
     "iopub.status.busy": "2021-09-18T06:30:07.662589Z",
     "iopub.status.idle": "2021-09-18T06:30:07.978608Z",
     "shell.execute_reply": "2021-09-18T06:30:07.980044Z"
    },
    "papermill": {
     "duration": 0.345643,
     "end_time": "2021-09-18T06:30:07.980582",
     "exception": false,
     "start_time": "2021-09-18T06:30:07.634939",
     "status": "completed"
    },
    "tags": []
   },
   "outputs": [],
   "source": [
    "timestamps = pd.read_sql(\"select distinct record_time from EBAY_TOP_BERLIN order by record_time desc limit 2\", sqlite3.connect(\"UsedObjects.db\"))"
   ]
  },
  {
   "cell_type": "code",
   "execution_count": 3,
   "id": "periodic-identification",
   "metadata": {
    "execution": {
     "iopub.execute_input": "2021-09-18T06:30:08.046288Z",
     "iopub.status.busy": "2021-09-18T06:30:08.044273Z",
     "iopub.status.idle": "2021-09-18T06:30:08.064038Z",
     "shell.execute_reply": "2021-09-18T06:30:08.065226Z"
    },
    "papermill": {
     "duration": 0.064364,
     "end_time": "2021-09-18T06:30:08.065662",
     "exception": false,
     "start_time": "2021-09-18T06:30:08.001298",
     "status": "completed"
    },
    "tags": []
   },
   "outputs": [
    {
     "data": {
      "text/html": [
       "<div>\n",
       "<style scoped>\n",
       "    .dataframe tbody tr th:only-of-type {\n",
       "        vertical-align: middle;\n",
       "    }\n",
       "\n",
       "    .dataframe tbody tr th {\n",
       "        vertical-align: top;\n",
       "    }\n",
       "\n",
       "    .dataframe thead th {\n",
       "        text-align: right;\n",
       "    }\n",
       "</style>\n",
       "<table border=\"1\" class=\"dataframe\">\n",
       "  <thead>\n",
       "    <tr style=\"text-align: right;\">\n",
       "      <th></th>\n",
       "      <th>RECORD_TIME</th>\n",
       "    </tr>\n",
       "  </thead>\n",
       "  <tbody>\n",
       "    <tr>\n",
       "      <th>0</th>\n",
       "      <td>2021-09-18 08:30</td>\n",
       "    </tr>\n",
       "    <tr>\n",
       "      <th>1</th>\n",
       "      <td>2021-09-18 08:00</td>\n",
       "    </tr>\n",
       "  </tbody>\n",
       "</table>\n",
       "</div>"
      ],
      "text/plain": [
       "        RECORD_TIME\n",
       "0  2021-09-18 08:30\n",
       "1  2021-09-18 08:00"
      ]
     },
     "execution_count": 3,
     "metadata": {},
     "output_type": "execute_result"
    }
   ],
   "source": [
    "timestamps"
   ]
  },
  {
   "cell_type": "code",
   "execution_count": 4,
   "id": "alternate-victory",
   "metadata": {
    "execution": {
     "iopub.execute_input": "2021-09-18T06:30:08.118280Z",
     "iopub.status.busy": "2021-09-18T06:30:08.116460Z",
     "iopub.status.idle": "2021-09-18T06:30:08.579142Z",
     "shell.execute_reply": "2021-09-18T06:30:08.577681Z"
    },
    "papermill": {
     "duration": 0.491644,
     "end_time": "2021-09-18T06:30:08.579514",
     "exception": false,
     "start_time": "2021-09-18T06:30:08.087870",
     "status": "completed"
    },
    "tags": []
   },
   "outputs": [],
   "source": [
    "df = pd.read_sql(\"select * from EBAY_TOP_BERLIN where record_time in (select distinct record_time from EBAY_TOP_BERLIN order by record_time desc limit 2)\", sqlite3.connect(\"UsedObjects.db\"))"
   ]
  },
  {
   "cell_type": "code",
   "execution_count": 5,
   "id": "popular-active",
   "metadata": {
    "execution": {
     "iopub.execute_input": "2021-09-18T06:30:08.659146Z",
     "iopub.status.busy": "2021-09-18T06:30:08.647119Z",
     "iopub.status.idle": "2021-09-18T06:30:08.674599Z",
     "shell.execute_reply": "2021-09-18T06:30:08.675914Z"
    },
    "papermill": {
     "duration": 0.071045,
     "end_time": "2021-09-18T06:30:08.676323",
     "exception": false,
     "start_time": "2021-09-18T06:30:08.605278",
     "status": "completed"
    },
    "tags": []
   },
   "outputs": [],
   "source": [
    "df_pivot = df.pivot_table(index=\"PRODUCT\", columns = \"RECORD_TIME\", values = \"LISTING_COUNT\")"
   ]
  },
  {
   "cell_type": "code",
   "execution_count": 6,
   "id": "union-huntington",
   "metadata": {
    "execution": {
     "iopub.execute_input": "2021-09-18T06:30:08.734238Z",
     "iopub.status.busy": "2021-09-18T06:30:08.731932Z",
     "iopub.status.idle": "2021-09-18T06:30:08.737784Z",
     "shell.execute_reply": "2021-09-18T06:30:08.739320Z"
    },
    "papermill": {
     "duration": 0.041929,
     "end_time": "2021-09-18T06:30:08.739793",
     "exception": false,
     "start_time": "2021-09-18T06:30:08.697864",
     "status": "completed"
    },
    "tags": []
   },
   "outputs": [],
   "source": [
    "df_pivot.columns = [\"stamp_1\", \"stamp_2\"]\n",
    "df_pivot_diff = df_pivot.diff(axis=1)"
   ]
  },
  {
   "cell_type": "code",
   "execution_count": 7,
   "id": "fifth-motion",
   "metadata": {
    "execution": {
     "iopub.execute_input": "2021-09-18T06:30:08.793976Z",
     "iopub.status.busy": "2021-09-18T06:30:08.791771Z",
     "iopub.status.idle": "2021-09-18T06:30:10.258061Z",
     "shell.execute_reply": "2021-09-18T06:30:10.259626Z"
    },
    "papermill": {
     "duration": 1.499232,
     "end_time": "2021-09-18T06:30:10.260108",
     "exception": false,
     "start_time": "2021-09-18T06:30:08.760876",
     "status": "completed"
    },
    "tags": []
   },
   "outputs": [
    {
     "data": {
      "text/plain": [
       "<AxesSubplot:ylabel='PRODUCT'>"
      ]
     },
     "execution_count": 7,
     "metadata": {},
     "output_type": "execute_result"
    },
    {
     "data": {
      "image/png": "[encoded data removed]",
      "text/plain": [
       "<Figure size 432x288 with 1 Axes>"
      ]
     },
     "metadata": {
      "needs_background": "light"
     },
     "output_type": "display_data"
    }
   ],
   "source": [
    "df_pivot_diff.sort_values(\"stamp_2\", ascending = False)[\"stamp_2\"].head(10).plot.barh()"
   ]
  },
  {
   "cell_type": "code",
   "execution_count": null,
   "id": "extra-executive",
   "metadata": {
    "papermill": {
     "duration": 0.0225,
     "end_time": "2021-09-18T06:30:10.307413",
     "exception": false,
     "start_time": "2021-09-18T06:30:10.284913",
     "status": "completed"
    },
    "tags": []
   },
   "outputs": [],
   "source": []
  }
 ],
 "metadata": {
  "kernelspec": {
   "display_name": "Python 3",
   "language": "python",
   "name": "python3"
  },
  "language_info": {
   "codemirror_mode": {
    "name": "ipython",
    "version": 3
   },
   "file_extension": ".py",
   "mimetype": "text/x-python",
   "name": "python",
   "nbconvert_exporter": "python",
   "pygments_lexer": "ipython3",
   "version": "3.9.5"
  },
  "papermill": {
   "default_parameters": {},
   "duration": 6.595449,
   "end_time": "2021-09-18T06:30:10.951205",
   "environment_variables": {},
   "exception": null,
   "input_path": "eBay_Overview.ipynb",
   "output_path": "eBay_Overview.ipynb",
   "parameters": {},
   "start_time": "2021-09-18T06:30:04.355756",
   "version": "2.3.3"
  }
 },
 "nbformat": 4,
 "nbformat_minor": 5
}