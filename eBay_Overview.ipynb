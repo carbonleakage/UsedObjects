{
 "cells": [
  {
   "cell_type": "code",
   "execution_count": 1,
   "id": "reverse-picking",
   "metadata": {
    "execution": {
     "iopub.execute_input": "2021-11-11T17:00:07.306522Z",
     "iopub.status.busy": "2021-11-11T17:00:07.304087Z",
     "iopub.status.idle": "2021-11-11T17:00:08.247683Z",
     "shell.execute_reply": "2021-11-11T17:00:08.249430Z"
    },
    "papermill": {
     "duration": 0.993837,
     "end_time": "2021-11-11T17:00:08.250188",
     "exception": false,
     "start_time": "2021-11-11T17:00:07.256351",
     "status": "completed"
    },
    "tags": []
   },
   "outputs": [],
   "source": [
    "import pandas as pd\n",
    "import sqlite3"
   ]
  },
  {
   "cell_type": "code",
   "execution_count": 2,
   "id": "innovative-syndrome",
   "metadata": {
    "execution": {
     "iopub.execute_input": "2021-11-11T17:00:08.311873Z",
     "iopub.status.busy": "2021-11-11T17:00:08.309587Z",
     "iopub.status.idle": "2021-11-11T17:00:09.098515Z",
     "shell.execute_reply": "2021-11-11T17:00:09.101440Z"
    },
    "papermill": {
     "duration": 0.83022,
     "end_time": "2021-11-11T17:00:09.102261",
     "exception": false,
     "start_time": "2021-11-11T17:00:08.272041",
     "status": "completed"
    },
    "tags": []
   },
   "outputs": [],
   "source": [
    "timestamps = pd.read_sql(\"select distinct record_time from EBAY_TOP_BERLIN order by record_time desc limit 2\", sqlite3.connect(\"UsedObjects.db\"))"
   ]
  },
  {
   "cell_type": "code",
   "execution_count": 3,
   "id": "periodic-identification",
   "metadata": {
    "execution": {
     "iopub.execute_input": "2021-11-11T17:00:09.187262Z",
     "iopub.status.busy": "2021-11-11T17:00:09.181228Z",
     "iopub.status.idle": "2021-11-11T17:00:09.203703Z",
     "shell.execute_reply": "2021-11-11T17:00:09.205193Z"
    },
    "papermill": {
     "duration": 0.073729,
     "end_time": "2021-11-11T17:00:09.205779",
     "exception": false,
     "start_time": "2021-11-11T17:00:09.132050",
     "status": "completed"
    },
    "tags": []
   },
   "outputs": [
    {
     "data": {
      "text/html": [
       "<div>\n",
       "<style scoped>\n",
       "    .dataframe tbody tr th:only-of-type {\n",
       "        vertical-align: middle;\n",
       "    }\n",
       "\n",
       "    .dataframe tbody tr th {\n",
       "        vertical-align: top;\n",
       "    }\n",
       "\n",
       "    .dataframe thead th {\n",
       "        text-align: right;\n",
       "    }\n",
       "</style>\n",
       "<table border=\"1\" class=\"dataframe\">\n",
       "  <thead>\n",
       "    <tr style=\"text-align: right;\">\n",
       "      <th></th>\n",
       "      <th>RECORD_TIME</th>\n",
       "    </tr>\n",
       "  </thead>\n",
       "  <tbody>\n",
       "    <tr>\n",
       "      <th>0</th>\n",
       "      <td>2021-11-11 18:00</td>\n",
       "    </tr>\n",
       "    <tr>\n",
       "      <th>1</th>\n",
       "      <td>2021-11-11 17:30</td>\n",
       "    </tr>\n",
       "  </tbody>\n",
       "</table>\n",
       "</div>"
      ],
      "text/plain": [
       "        RECORD_TIME\n",
       "0  2021-11-11 18:00\n",
       "1  2021-11-11 17:30"
      ]
     },
     "execution_count": 3,
     "metadata": {},
     "output_type": "execute_result"
    }
   ],
   "source": [
    "timestamps"
   ]
  },
  {
   "cell_type": "code",
   "execution_count": 4,
   "id": "alternate-victory",
   "metadata": {
    "execution": {
     "iopub.execute_input": "2021-11-11T17:00:09.262872Z",
     "iopub.status.busy": "2021-11-11T17:00:09.260810Z",
     "iopub.status.idle": "2021-11-11T17:00:10.411244Z",
     "shell.execute_reply": "2021-11-11T17:00:10.412794Z"
    },
    "papermill": {
     "duration": 1.185759,
     "end_time": "2021-11-11T17:00:10.413299",
     "exception": false,
     "start_time": "2021-11-11T17:00:09.227540",
     "status": "completed"
    },
    "tags": []
   },
   "outputs": [],
   "source": [
    "df = pd.read_sql(\"select * from EBAY_TOP_BERLIN where record_time in (select distinct record_time from EBAY_TOP_BERLIN order by record_time desc limit 2)\", sqlite3.connect(\"UsedObjects.db\"))"
   ]
  },
  {
   "cell_type": "code",
   "execution_count": 5,
   "id": "popular-active",
   "metadata": {
    "execution": {
     "iopub.execute_input": "2021-11-11T17:00:10.492152Z",
     "iopub.status.busy": "2021-11-11T17:00:10.477681Z",
     "iopub.status.idle": "2021-11-11T17:00:10.511483Z",
     "shell.execute_reply": "2021-11-11T17:00:10.513117Z"
    },
    "papermill": {
     "duration": 0.078498,
     "end_time": "2021-11-11T17:00:10.513630",
     "exception": false,
     "start_time": "2021-11-11T17:00:10.435132",
     "status": "completed"
    },
    "tags": []
   },
   "outputs": [],
   "source": [
    "df_pivot = df.pivot_table(index=\"PRODUCT\", columns = \"RECORD_TIME\", values = \"LISTING_COUNT\")"
   ]
  },
  {
   "cell_type": "code",
   "execution_count": 6,
   "id": "union-huntington",
   "metadata": {
    "execution": {
     "iopub.execute_input": "2021-11-11T17:00:10.577562Z",
     "iopub.status.busy": "2021-11-11T17:00:10.575276Z",
     "iopub.status.idle": "2021-11-11T17:00:10.580781Z",
     "shell.execute_reply": "2021-11-11T17:00:10.582283Z"
    },
    "papermill": {
     "duration": 0.047385,
     "end_time": "2021-11-11T17:00:10.582804",
     "exception": false,
     "start_time": "2021-11-11T17:00:10.535419",
     "status": "completed"
    },
    "tags": []
   },
   "outputs": [],
   "source": [
    "df_pivot.columns = [\"stamp_1\", \"stamp_2\"]\n",
    "df_pivot_diff = df_pivot.diff(axis=1)"
   ]
  },
  {
   "cell_type": "code",
   "execution_count": 7,
   "id": "fifth-motion",
   "metadata": {
    "execution": {
     "iopub.execute_input": "2021-11-11T17:00:10.642598Z",
     "iopub.status.busy": "2021-11-11T17:00:10.639928Z",
     "iopub.status.idle": "2021-11-11T17:00:12.405383Z",
     "shell.execute_reply": "2021-11-11T17:00:12.407136Z"
    },
    "papermill": {
     "duration": 1.803737,
     "end_time": "2021-11-11T17:00:12.407653",
     "exception": false,
     "start_time": "2021-11-11T17:00:10.603916",
     "status": "completed"
    },
    "tags": []
   },
   "outputs": [
    {
     "data": {
      "text/plain": [
       "<AxesSubplot:ylabel='PRODUCT'>"
      ]
     },
     "execution_count": 7,
     "metadata": {},
     "output_type": "execute_result"
    },
    {
     "data": {
      "image/png": "[encoded data removed]",
      "text/plain": [
       "<Figure size 432x288 with 1 Axes>"
      ]
     },
     "metadata": {
      "needs_background": "light"
     },
     "output_type": "display_data"
    }
   ],
   "source": [
    "df_pivot_diff.sort_values(\"stamp_2\", ascending = False)[\"stamp_2\"].head(10).plot.barh()"
   ]
  },
  {
   "cell_type": "code",
   "execution_count": null,
   "id": "extra-executive",
   "metadata": {
    "papermill": {
     "duration": 0.025534,
     "end_time": "2021-11-11T17:00:12.460002",
     "exception": false,
     "start_time": "2021-11-11T17:00:12.434468",
     "status": "completed"
    },
    "tags": []
   },
   "outputs": [],
   "source": []
  }
 ],
 "metadata": {
  "kernelspec": {
   "display_name": "Python 3",
   "language": "python",
   "name": "python3"
  },
  "language_info": {
   "codemirror_mode": {
    "name": "ipython",
    "version": 3
   },
   "file_extension": ".py",
   "mimetype": "text/x-python",
   "name": "python",
   "nbconvert_exporter": "python",
   "pygments_lexer": "ipython3",
   "version": "3.9.5"
  },
  "papermill": {
   "default_parameters": {},
   "duration": 8.863654,
   "end_time": "2021-11-11T17:00:13.312942",
   "environment_variables": {},
   "exception": null,
   "input_path": "eBay_Overview.ipynb",
   "output_path": "eBay_Overview.ipynb",
   "parameters": {},
   "start_time": "2021-11-11T17:00:04.449288",
   "version": "2.3.3"
  }
 },
 "nbformat": 4,
 "nbformat_minor": 5
}