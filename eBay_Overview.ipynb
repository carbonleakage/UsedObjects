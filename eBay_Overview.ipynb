{
 "cells": [
  {
   "cell_type": "code",
   "execution_count": 1,
   "id": "reverse-picking",
   "metadata": {
    "execution": {
     "iopub.execute_input": "2021-09-04T12:00:06.860786Z",
     "iopub.status.busy": "2021-09-04T12:00:06.858696Z",
     "iopub.status.idle": "2021-09-04T12:00:07.663702Z",
     "shell.execute_reply": "2021-09-04T12:00:07.662054Z"
    },
    "papermill": {
     "duration": 0.853873,
     "end_time": "2021-09-04T12:00:07.664104",
     "exception": false,
     "start_time": "2021-09-04T12:00:06.810231",
     "status": "completed"
    },
    "tags": []
   },
   "outputs": [],
   "source": [
    "import pandas as pd\n",
    "import sqlite3"
   ]
  },
  {
   "cell_type": "code",
   "execution_count": 2,
   "id": "innovative-syndrome",
   "metadata": {
    "execution": {
     "iopub.execute_input": "2021-09-04T12:00:07.714097Z",
     "iopub.status.busy": "2021-09-04T12:00:07.712254Z",
     "iopub.status.idle": "2021-09-04T12:00:07.919277Z",
     "shell.execute_reply": "2021-09-04T12:00:07.920649Z"
    },
    "papermill": {
     "duration": 0.236367,
     "end_time": "2021-09-04T12:00:07.921082",
     "exception": false,
     "start_time": "2021-09-04T12:00:07.684715",
     "status": "completed"
    },
    "tags": []
   },
   "outputs": [],
   "source": [
    "timestamps = pd.read_sql(\"select distinct record_time from EBAY_TOP_BERLIN order by record_time desc limit 2\", sqlite3.connect(\"UsedObjects.db\"))"
   ]
  },
  {
   "cell_type": "code",
   "execution_count": 3,
   "id": "periodic-identification",
   "metadata": {
    "execution": {
     "iopub.execute_input": "2021-09-04T12:00:07.986190Z",
     "iopub.status.busy": "2021-09-04T12:00:07.984201Z",
     "iopub.status.idle": "2021-09-04T12:00:08.004259Z",
     "shell.execute_reply": "2021-09-04T12:00:08.005984Z"
    },
    "papermill": {
     "duration": 0.065791,
     "end_time": "2021-09-04T12:00:08.006504",
     "exception": false,
     "start_time": "2021-09-04T12:00:07.940713",
     "status": "completed"
    },
    "tags": []
   },
   "outputs": [
    {
     "data": {
      "text/html": [
       "<div>\n",
       "<style scoped>\n",
       "    .dataframe tbody tr th:only-of-type {\n",
       "        vertical-align: middle;\n",
       "    }\n",
       "\n",
       "    .dataframe tbody tr th {\n",
       "        vertical-align: top;\n",
       "    }\n",
       "\n",
       "    .dataframe thead th {\n",
       "        text-align: right;\n",
       "    }\n",
       "</style>\n",
       "<table border=\"1\" class=\"dataframe\">\n",
       "  <thead>\n",
       "    <tr style=\"text-align: right;\">\n",
       "      <th></th>\n",
       "      <th>RECORD_TIME</th>\n",
       "    </tr>\n",
       "  </thead>\n",
       "  <tbody>\n",
       "    <tr>\n",
       "      <th>0</th>\n",
       "      <td>2021-09-04 14:00</td>\n",
       "    </tr>\n",
       "    <tr>\n",
       "      <th>1</th>\n",
       "      <td>2021-09-04 13:30</td>\n",
       "    </tr>\n",
       "  </tbody>\n",
       "</table>\n",
       "</div>"
      ],
      "text/plain": [
       "        RECORD_TIME\n",
       "0  2021-09-04 14:00\n",
       "1  2021-09-04 13:30"
      ]
     },
     "execution_count": 3,
     "metadata": {},
     "output_type": "execute_result"
    }
   ],
   "source": [
    "timestamps"
   ]
  },
  {
   "cell_type": "code",
   "execution_count": 4,
   "id": "alternate-victory",
   "metadata": {
    "execution": {
     "iopub.execute_input": "2021-09-04T12:00:08.059285Z",
     "iopub.status.busy": "2021-09-04T12:00:08.057384Z",
     "iopub.status.idle": "2021-09-04T12:00:08.361533Z",
     "shell.execute_reply": "2021-09-04T12:00:08.362802Z"
    },
    "papermill": {
     "duration": 0.333697,
     "end_time": "2021-09-04T12:00:08.363292",
     "exception": false,
     "start_time": "2021-09-04T12:00:08.029595",
     "status": "completed"
    },
    "tags": []
   },
   "outputs": [],
   "source": [
    "df = pd.read_sql(\"select * from EBAY_TOP_BERLIN where record_time in (select distinct record_time from EBAY_TOP_BERLIN order by record_time desc limit 2)\", sqlite3.connect(\"UsedObjects.db\"))"
   ]
  },
  {
   "cell_type": "code",
   "execution_count": 5,
   "id": "popular-active",
   "metadata": {
    "execution": {
     "iopub.execute_input": "2021-09-04T12:00:08.443245Z",
     "iopub.status.busy": "2021-09-04T12:00:08.431796Z",
     "iopub.status.idle": "2021-09-04T12:00:08.459288Z",
     "shell.execute_reply": "2021-09-04T12:00:08.460510Z"
    },
    "papermill": {
     "duration": 0.070892,
     "end_time": "2021-09-04T12:00:08.460898",
     "exception": false,
     "start_time": "2021-09-04T12:00:08.390006",
     "status": "completed"
    },
    "tags": []
   },
   "outputs": [],
   "source": [
    "df_pivot = df.pivot_table(index=\"PRODUCT\", columns = \"RECORD_TIME\", values = \"LISTING_COUNT\")"
   ]
  },
  {
   "cell_type": "code",
   "execution_count": 6,
   "id": "union-huntington",
   "metadata": {
    "execution": {
     "iopub.execute_input": "2021-09-04T12:00:08.520399Z",
     "iopub.status.busy": "2021-09-04T12:00:08.517911Z",
     "iopub.status.idle": "2021-09-04T12:00:08.523886Z",
     "shell.execute_reply": "2021-09-04T12:00:08.525232Z"
    },
    "papermill": {
     "duration": 0.042035,
     "end_time": "2021-09-04T12:00:08.525704",
     "exception": false,
     "start_time": "2021-09-04T12:00:08.483669",
     "status": "completed"
    },
    "tags": []
   },
   "outputs": [],
   "source": [
    "df_pivot.columns = [\"stamp_1\", \"stamp_2\"]\n",
    "df_pivot_diff = df_pivot.diff(axis=1)"
   ]
  },
  {
   "cell_type": "code",
   "execution_count": 7,
   "id": "fifth-motion",
   "metadata": {
    "execution": {
     "iopub.execute_input": "2021-09-04T12:00:08.580078Z",
     "iopub.status.busy": "2021-09-04T12:00:08.577582Z",
     "iopub.status.idle": "2021-09-04T12:00:10.040251Z",
     "shell.execute_reply": "2021-09-04T12:00:10.041526Z"
    },
    "papermill": {
     "duration": 1.494919,
     "end_time": "2021-09-04T12:00:10.041933",
     "exception": false,
     "start_time": "2021-09-04T12:00:08.547014",
     "status": "completed"
    },
    "tags": []
   },
   "outputs": [
    {
     "data": {
      "text/plain": [
       "<AxesSubplot:ylabel='PRODUCT'>"
      ]
     },
     "execution_count": 7,
     "metadata": {},
     "output_type": "execute_result"
    },
    {
     "data": {
      "image/png": "[encoded data removed]",
      "text/plain": [
       "<Figure size 432x288 with 1 Axes>"
      ]
     },
     "metadata": {
      "needs_background": "light"
     },
     "output_type": "display_data"
    }
   ],
   "source": [
    "df_pivot_diff.sort_values(\"stamp_2\", ascending = False)[\"stamp_2\"].head(10).plot.barh()"
   ]
  },
  {
   "cell_type": "code",
   "execution_count": null,
   "id": "extra-executive",
   "metadata": {
    "papermill": {
     "duration": 0.022052,
     "end_time": "2021-09-04T12:00:10.088242",
     "exception": false,
     "start_time": "2021-09-04T12:00:10.066190",
     "status": "completed"
    },
    "tags": []
   },
   "outputs": [],
   "source": []
  }
 ],
 "metadata": {
  "kernelspec": {
   "display_name": "Python 3",
   "language": "python",
   "name": "python3"
  },
  "language_info": {
   "codemirror_mode": {
    "name": "ipython",
    "version": 3
   },
   "file_extension": ".py",
   "mimetype": "text/x-python",
   "name": "python",
   "nbconvert_exporter": "python",
   "pygments_lexer": "ipython3",
   "version": "3.9.5"
  },
  "papermill": {
   "default_parameters": {},
   "duration": 6.319008,
   "end_time": "2021-09-04T12:00:10.729553",
   "environment_variables": {},
   "exception": null,
   "input_path": "eBay_Overview.ipynb",
   "output_path": "eBay_Overview.ipynb",
   "parameters": {},
   "start_time": "2021-09-04T12:00:04.410545",
   "version": "2.3.3"
  }
 },
 "nbformat": 4,
 "nbformat_minor": 5
}