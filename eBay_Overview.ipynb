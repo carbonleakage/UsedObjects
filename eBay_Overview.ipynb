{
 "cells": [
  {
   "cell_type": "code",
   "execution_count": 1,
   "id": "reverse-picking",
   "metadata": {
    "execution": {
     "iopub.execute_input": "2021-12-14T04:00:07.870420Z",
     "iopub.status.busy": "2021-12-14T04:00:07.860112Z",
     "iopub.status.idle": "2021-12-14T04:00:08.833401Z",
     "shell.execute_reply": "2021-12-14T04:00:08.834894Z"
    },
    "papermill": {
     "duration": 1.010542,
     "end_time": "2021-12-14T04:00:08.835650",
     "exception": false,
     "start_time": "2021-12-14T04:00:07.825108",
     "status": "completed"
    },
    "tags": []
   },
   "outputs": [],
   "source": [
    "import pandas as pd\n",
    "import sqlite3"
   ]
  },
  {
   "cell_type": "code",
   "execution_count": 2,
   "id": "innovative-syndrome",
   "metadata": {
    "execution": {
     "iopub.execute_input": "2021-12-14T04:00:08.908483Z",
     "iopub.status.busy": "2021-12-14T04:00:08.906051Z",
     "iopub.status.idle": "2021-12-14T04:00:09.960452Z",
     "shell.execute_reply": "2021-12-14T04:00:09.962153Z"
    },
    "papermill": {
     "duration": 1.089276,
     "end_time": "2021-12-14T04:00:09.962676",
     "exception": false,
     "start_time": "2021-12-14T04:00:08.873400",
     "status": "completed"
    },
    "tags": []
   },
   "outputs": [],
   "source": [
    "timestamps = pd.read_sql(\"select distinct record_time from EBAY_TOP_BERLIN order by record_time desc limit 2\", sqlite3.connect(\"UsedObjects.db\"))"
   ]
  },
  {
   "cell_type": "code",
   "execution_count": 3,
   "id": "periodic-identification",
   "metadata": {
    "execution": {
     "iopub.execute_input": "2021-12-14T04:00:10.036071Z",
     "iopub.status.busy": "2021-12-14T04:00:10.033685Z",
     "iopub.status.idle": "2021-12-14T04:00:10.057799Z",
     "shell.execute_reply": "2021-12-14T04:00:10.059245Z"
    },
    "papermill": {
     "duration": 0.076063,
     "end_time": "2021-12-14T04:00:10.059791",
     "exception": false,
     "start_time": "2021-12-14T04:00:09.983728",
     "status": "completed"
    },
    "tags": []
   },
   "outputs": [
    {
     "data": {
      "text/html": [
       "<div>\n",
       "<style scoped>\n",
       "    .dataframe tbody tr th:only-of-type {\n",
       "        vertical-align: middle;\n",
       "    }\n",
       "\n",
       "    .dataframe tbody tr th {\n",
       "        vertical-align: top;\n",
       "    }\n",
       "\n",
       "    .dataframe thead th {\n",
       "        text-align: right;\n",
       "    }\n",
       "</style>\n",
       "<table border=\"1\" class=\"dataframe\">\n",
       "  <thead>\n",
       "    <tr style=\"text-align: right;\">\n",
       "      <th></th>\n",
       "      <th>RECORD_TIME</th>\n",
       "    </tr>\n",
       "  </thead>\n",
       "  <tbody>\n",
       "    <tr>\n",
       "      <th>0</th>\n",
       "      <td>2021-12-14 05:00</td>\n",
       "    </tr>\n",
       "    <tr>\n",
       "      <th>1</th>\n",
       "      <td>2021-12-14 04:30</td>\n",
       "    </tr>\n",
       "  </tbody>\n",
       "</table>\n",
       "</div>"
      ],
      "text/plain": [
       "        RECORD_TIME\n",
       "0  2021-12-14 05:00\n",
       "1  2021-12-14 04:30"
      ]
     },
     "execution_count": 3,
     "metadata": {},
     "output_type": "execute_result"
    }
   ],
   "source": [
    "timestamps"
   ]
  },
  {
   "cell_type": "code",
   "execution_count": 4,
   "id": "alternate-victory",
   "metadata": {
    "execution": {
     "iopub.execute_input": "2021-12-14T04:00:10.116735Z",
     "iopub.status.busy": "2021-12-14T04:00:10.114323Z",
     "iopub.status.idle": "2021-12-14T04:00:11.655157Z",
     "shell.execute_reply": "2021-12-14T04:00:11.656669Z"
    },
    "papermill": {
     "duration": 1.576287,
     "end_time": "2021-12-14T04:00:11.657218",
     "exception": false,
     "start_time": "2021-12-14T04:00:10.080931",
     "status": "completed"
    },
    "tags": []
   },
   "outputs": [],
   "source": [
    "df = pd.read_sql(\"select * from EBAY_TOP_BERLIN where record_time in (select distinct record_time from EBAY_TOP_BERLIN order by record_time desc limit 2)\", sqlite3.connect(\"UsedObjects.db\"))"
   ]
  },
  {
   "cell_type": "code",
   "execution_count": 5,
   "id": "popular-active",
   "metadata": {
    "execution": {
     "iopub.execute_input": "2021-12-14T04:00:11.733620Z",
     "iopub.status.busy": "2021-12-14T04:00:11.719801Z",
     "iopub.status.idle": "2021-12-14T04:00:11.751755Z",
     "shell.execute_reply": "2021-12-14T04:00:11.753202Z"
    },
    "papermill": {
     "duration": 0.074227,
     "end_time": "2021-12-14T04:00:11.753684",
     "exception": false,
     "start_time": "2021-12-14T04:00:11.679457",
     "status": "completed"
    },
    "tags": []
   },
   "outputs": [],
   "source": [
    "df_pivot = df.pivot_table(index=\"PRODUCT\", columns = \"RECORD_TIME\", values = \"LISTING_COUNT\")"
   ]
  },
  {
   "cell_type": "code",
   "execution_count": 6,
   "id": "union-huntington",
   "metadata": {
    "execution": {
     "iopub.execute_input": "2021-12-14T04:00:11.814581Z",
     "iopub.status.busy": "2021-12-14T04:00:11.812215Z",
     "iopub.status.idle": "2021-12-14T04:00:11.821690Z",
     "shell.execute_reply": "2021-12-14T04:00:11.818901Z"
    },
    "papermill": {
     "duration": 0.048552,
     "end_time": "2021-12-14T04:00:11.822262",
     "exception": false,
     "start_time": "2021-12-14T04:00:11.773710",
     "status": "completed"
    },
    "tags": []
   },
   "outputs": [],
   "source": [
    "df_pivot.columns = [\"stamp_1\", \"stamp_2\"]\n",
    "df_pivot_diff = df_pivot.diff(axis=1)"
   ]
  },
  {
   "cell_type": "code",
   "execution_count": 7,
   "id": "fifth-motion",
   "metadata": {
    "execution": {
     "iopub.execute_input": "2021-12-14T04:00:11.884401Z",
     "iopub.status.busy": "2021-12-14T04:00:11.881369Z",
     "iopub.status.idle": "2021-12-14T04:00:13.879835Z",
     "shell.execute_reply": "2021-12-14T04:00:13.877780Z"
    },
    "papermill": {
     "duration": 2.036027,
     "end_time": "2021-12-14T04:00:13.880358",
     "exception": false,
     "start_time": "2021-12-14T04:00:11.844331",
     "status": "completed"
    },
    "tags": []
   },
   "outputs": [
    {
     "data": {
      "text/plain": [
       "<AxesSubplot:ylabel='PRODUCT'>"
      ]
     },
     "execution_count": 7,
     "metadata": {},
     "output_type": "execute_result"
    },
    {
     "data": {
      "image/png": "[encoded data removed]",
      "text/plain": [
       "<Figure size 432x288 with 1 Axes>"
      ]
     },
     "metadata": {
      "needs_background": "light"
     },
     "output_type": "display_data"
    }
   ],
   "source": [
    "df_pivot_diff.sort_values(\"stamp_2\", ascending = False)[\"stamp_2\"].head(10).plot.barh()"
   ]
  },
  {
   "cell_type": "code",
   "execution_count": null,
   "id": "extra-executive",
   "metadata": {
    "papermill": {
     "duration": 0.038356,
     "end_time": "2021-12-14T04:00:13.953121",
     "exception": false,
     "start_time": "2021-12-14T04:00:13.914765",
     "status": "completed"
    },
    "tags": []
   },
   "outputs": [],
   "source": []
  }
 ],
 "metadata": {
  "kernelspec": {
   "display_name": "Python 3",
   "language": "python",
   "name": "python3"
  },
  "language_info": {
   "codemirror_mode": {
    "name": "ipython",
    "version": 3
   },
   "file_extension": ".py",
   "mimetype": "text/x-python",
   "name": "python",
   "nbconvert_exporter": "python",
   "pygments_lexer": "ipython3",
   "version": "3.9.5"
  },
  "papermill": {
   "default_parameters": {},
   "duration": 9.67325,
   "end_time": "2021-12-14T04:00:14.723761",
   "environment_variables": {},
   "exception": null,
   "input_path": "eBay_Overview.ipynb",
   "output_path": "eBay_Overview.ipynb",
   "parameters": {},
   "start_time": "2021-12-14T04:00:05.050511",
   "version": "2.3.3"
  }
 },
 "nbformat": 4,
 "nbformat_minor": 5
}