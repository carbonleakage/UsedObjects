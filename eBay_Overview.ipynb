{
 "cells": [
  {
   "cell_type": "code",
   "execution_count": 1,
   "id": "reverse-picking",
   "metadata": {
    "execution": {
     "iopub.execute_input": "2021-12-05T04:00:07.801750Z",
     "iopub.status.busy": "2021-12-05T04:00:07.798852Z",
     "iopub.status.idle": "2021-12-05T04:00:08.764214Z",
     "shell.execute_reply": "2021-12-05T04:00:08.766695Z"
    },
    "papermill": {
     "duration": 1.012447,
     "end_time": "2021-12-05T04:00:08.767408",
     "exception": false,
     "start_time": "2021-12-05T04:00:07.754961",
     "status": "completed"
    },
    "tags": []
   },
   "outputs": [],
   "source": [
    "import pandas as pd\n",
    "import sqlite3"
   ]
  },
  {
   "cell_type": "code",
   "execution_count": 2,
   "id": "innovative-syndrome",
   "metadata": {
    "execution": {
     "iopub.execute_input": "2021-12-05T04:00:08.833894Z",
     "iopub.status.busy": "2021-12-05T04:00:08.831561Z",
     "iopub.status.idle": "2021-12-05T04:00:09.859656Z",
     "shell.execute_reply": "2021-12-05T04:00:09.861169Z"
    },
    "papermill": {
     "duration": 1.062337,
     "end_time": "2021-12-05T04:00:09.861693",
     "exception": false,
     "start_time": "2021-12-05T04:00:08.799356",
     "status": "completed"
    },
    "tags": []
   },
   "outputs": [],
   "source": [
    "timestamps = pd.read_sql(\"select distinct record_time from EBAY_TOP_BERLIN order by record_time desc limit 2\", sqlite3.connect(\"UsedObjects.db\"))"
   ]
  },
  {
   "cell_type": "code",
   "execution_count": 3,
   "id": "periodic-identification",
   "metadata": {
    "execution": {
     "iopub.execute_input": "2021-12-05T04:00:09.935510Z",
     "iopub.status.busy": "2021-12-05T04:00:09.933274Z",
     "iopub.status.idle": "2021-12-05T04:00:09.955940Z",
     "shell.execute_reply": "2021-12-05T04:00:09.957522Z"
    },
    "papermill": {
     "duration": 0.07512,
     "end_time": "2021-12-05T04:00:09.958029",
     "exception": false,
     "start_time": "2021-12-05T04:00:09.882909",
     "status": "completed"
    },
    "tags": []
   },
   "outputs": [
    {
     "data": {
      "text/html": [
       "<div>\n",
       "<style scoped>\n",
       "    .dataframe tbody tr th:only-of-type {\n",
       "        vertical-align: middle;\n",
       "    }\n",
       "\n",
       "    .dataframe tbody tr th {\n",
       "        vertical-align: top;\n",
       "    }\n",
       "\n",
       "    .dataframe thead th {\n",
       "        text-align: right;\n",
       "    }\n",
       "</style>\n",
       "<table border=\"1\" class=\"dataframe\">\n",
       "  <thead>\n",
       "    <tr style=\"text-align: right;\">\n",
       "      <th></th>\n",
       "      <th>RECORD_TIME</th>\n",
       "    </tr>\n",
       "  </thead>\n",
       "  <tbody>\n",
       "    <tr>\n",
       "      <th>0</th>\n",
       "      <td>2021-12-05 05:00</td>\n",
       "    </tr>\n",
       "    <tr>\n",
       "      <th>1</th>\n",
       "      <td>2021-12-05 04:30</td>\n",
       "    </tr>\n",
       "  </tbody>\n",
       "</table>\n",
       "</div>"
      ],
      "text/plain": [
       "        RECORD_TIME\n",
       "0  2021-12-05 05:00\n",
       "1  2021-12-05 04:30"
      ]
     },
     "execution_count": 3,
     "metadata": {},
     "output_type": "execute_result"
    }
   ],
   "source": [
    "timestamps"
   ]
  },
  {
   "cell_type": "code",
   "execution_count": 4,
   "id": "alternate-victory",
   "metadata": {
    "execution": {
     "iopub.execute_input": "2021-12-05T04:00:10.015467Z",
     "iopub.status.busy": "2021-12-05T04:00:10.013372Z",
     "iopub.status.idle": "2021-12-05T04:00:11.447701Z",
     "shell.execute_reply": "2021-12-05T04:00:11.450022Z"
    },
    "papermill": {
     "duration": 1.469053,
     "end_time": "2021-12-05T04:00:11.450538",
     "exception": false,
     "start_time": "2021-12-05T04:00:09.981485",
     "status": "completed"
    },
    "tags": []
   },
   "outputs": [],
   "source": [
    "df = pd.read_sql(\"select * from EBAY_TOP_BERLIN where record_time in (select distinct record_time from EBAY_TOP_BERLIN order by record_time desc limit 2)\", sqlite3.connect(\"UsedObjects.db\"))"
   ]
  },
  {
   "cell_type": "code",
   "execution_count": 5,
   "id": "popular-active",
   "metadata": {
    "execution": {
     "iopub.execute_input": "2021-12-05T04:00:11.517345Z",
     "iopub.status.busy": "2021-12-05T04:00:11.514897Z",
     "iopub.status.idle": "2021-12-05T04:00:11.547420Z",
     "shell.execute_reply": "2021-12-05T04:00:11.549003Z"
    },
    "papermill": {
     "duration": 0.077427,
     "end_time": "2021-12-05T04:00:11.549513",
     "exception": false,
     "start_time": "2021-12-05T04:00:11.472086",
     "status": "completed"
    },
    "tags": []
   },
   "outputs": [],
   "source": [
    "df_pivot = df.pivot_table(index=\"PRODUCT\", columns = \"RECORD_TIME\", values = \"LISTING_COUNT\")"
   ]
  },
  {
   "cell_type": "code",
   "execution_count": 6,
   "id": "union-huntington",
   "metadata": {
    "execution": {
     "iopub.execute_input": "2021-12-05T04:00:11.608150Z",
     "iopub.status.busy": "2021-12-05T04:00:11.605952Z",
     "iopub.status.idle": "2021-12-05T04:00:11.611676Z",
     "shell.execute_reply": "2021-12-05T04:00:11.613111Z"
    },
    "papermill": {
     "duration": 0.043372,
     "end_time": "2021-12-05T04:00:11.613598",
     "exception": false,
     "start_time": "2021-12-05T04:00:11.570226",
     "status": "completed"
    },
    "tags": []
   },
   "outputs": [],
   "source": [
    "df_pivot.columns = [\"stamp_1\", \"stamp_2\"]\n",
    "df_pivot_diff = df_pivot.diff(axis=1)"
   ]
  },
  {
   "cell_type": "code",
   "execution_count": 7,
   "id": "fifth-motion",
   "metadata": {
    "execution": {
     "iopub.execute_input": "2021-12-05T04:00:11.673206Z",
     "iopub.status.busy": "2021-12-05T04:00:11.670299Z",
     "iopub.status.idle": "2021-12-05T04:00:13.609068Z",
     "shell.execute_reply": "2021-12-05T04:00:13.611493Z"
    },
    "papermill": {
     "duration": 1.978207,
     "end_time": "2021-12-05T04:00:13.612149",
     "exception": false,
     "start_time": "2021-12-05T04:00:11.633942",
     "status": "completed"
    },
    "tags": []
   },
   "outputs": [
    {
     "data": {
      "text/plain": [
       "<AxesSubplot:ylabel='PRODUCT'>"
      ]
     },
     "execution_count": 7,
     "metadata": {},
     "output_type": "execute_result"
    },
    {
     "data": {
      "image/png": "[encoded data removed]",
      "text/plain": [
       "<Figure size 432x288 with 1 Axes>"
      ]
     },
     "metadata": {
      "needs_background": "light"
     },
     "output_type": "display_data"
    }
   ],
   "source": [
    "df_pivot_diff.sort_values(\"stamp_2\", ascending = False)[\"stamp_2\"].head(10).plot.barh()"
   ]
  },
  {
   "cell_type": "code",
   "execution_count": null,
   "id": "extra-executive",
   "metadata": {
    "papermill": {
     "duration": 0.036544,
     "end_time": "2021-12-05T04:00:13.683292",
     "exception": false,
     "start_time": "2021-12-05T04:00:13.646748",
     "status": "completed"
    },
    "tags": []
   },
   "outputs": [],
   "source": []
  }
 ],
 "metadata": {
  "kernelspec": {
   "display_name": "Python 3",
   "language": "python",
   "name": "python3"
  },
  "language_info": {
   "codemirror_mode": {
    "name": "ipython",
    "version": 3
   },
   "file_extension": ".py",
   "mimetype": "text/x-python",
   "name": "python",
   "nbconvert_exporter": "python",
   "pygments_lexer": "ipython3",
   "version": "3.9.5"
  },
  "papermill": {
   "default_parameters": {},
   "duration": 9.95011,
   "end_time": "2021-12-05T04:00:14.956785",
   "environment_variables": {},
   "exception": null,
   "input_path": "eBay_Overview.ipynb",
   "output_path": "eBay_Overview.ipynb",
   "parameters": {},
   "start_time": "2021-12-05T04:00:05.006675",
   "version": "2.3.3"
  }
 },
 "nbformat": 4,
 "nbformat_minor": 5
}