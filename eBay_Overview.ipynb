{
 "cells": [
  {
   "cell_type": "code",
   "execution_count": 1,
   "id": "reverse-picking",
   "metadata": {
    "execution": {
     "iopub.execute_input": "2021-08-16T12:00:07.392317Z",
     "iopub.status.busy": "2021-08-16T12:00:07.390347Z",
     "iopub.status.idle": "2021-08-16T12:00:08.207173Z",
     "shell.execute_reply": "2021-08-16T12:00:08.208455Z"
    },
    "papermill": {
     "duration": 0.869809,
     "end_time": "2021-08-16T12:00:08.209080",
     "exception": false,
     "start_time": "2021-08-16T12:00:07.339271",
     "status": "completed"
    },
    "tags": []
   },
   "outputs": [],
   "source": [
    "import pandas as pd\n",
    "import sqlite3"
   ]
  },
  {
   "cell_type": "code",
   "execution_count": 2,
   "id": "innovative-syndrome",
   "metadata": {
    "execution": {
     "iopub.execute_input": "2021-08-16T12:00:08.259927Z",
     "iopub.status.busy": "2021-08-16T12:00:08.258044Z",
     "iopub.status.idle": "2021-08-16T12:00:08.318459Z",
     "shell.execute_reply": "2021-08-16T12:00:08.319683Z"
    },
    "papermill": {
     "duration": 0.090008,
     "end_time": "2021-08-16T12:00:08.320083",
     "exception": false,
     "start_time": "2021-08-16T12:00:08.230075",
     "status": "completed"
    },
    "tags": []
   },
   "outputs": [],
   "source": [
    "timestamps = pd.read_sql(\"select distinct record_time from EBAY_TOP_BERLIN order by record_time desc limit 2\", sqlite3.connect(\"UsedObjects.db\"))"
   ]
  },
  {
   "cell_type": "code",
   "execution_count": 3,
   "id": "periodic-identification",
   "metadata": {
    "execution": {
     "iopub.execute_input": "2021-08-16T12:00:08.385697Z",
     "iopub.status.busy": "2021-08-16T12:00:08.383650Z",
     "iopub.status.idle": "2021-08-16T12:00:08.403547Z",
     "shell.execute_reply": "2021-08-16T12:00:08.404771Z"
    },
    "papermill": {
     "duration": 0.064864,
     "end_time": "2021-08-16T12:00:08.405173",
     "exception": false,
     "start_time": "2021-08-16T12:00:08.340309",
     "status": "completed"
    },
    "tags": []
   },
   "outputs": [
    {
     "data": {
      "text/html": [
       "<div>\n",
       "<style scoped>\n",
       "    .dataframe tbody tr th:only-of-type {\n",
       "        vertical-align: middle;\n",
       "    }\n",
       "\n",
       "    .dataframe tbody tr th {\n",
       "        vertical-align: top;\n",
       "    }\n",
       "\n",
       "    .dataframe thead th {\n",
       "        text-align: right;\n",
       "    }\n",
       "</style>\n",
       "<table border=\"1\" class=\"dataframe\">\n",
       "  <thead>\n",
       "    <tr style=\"text-align: right;\">\n",
       "      <th></th>\n",
       "      <th>RECORD_TIME</th>\n",
       "    </tr>\n",
       "  </thead>\n",
       "  <tbody>\n",
       "    <tr>\n",
       "      <th>0</th>\n",
       "      <td>2021-08-16 14:00</td>\n",
       "    </tr>\n",
       "    <tr>\n",
       "      <th>1</th>\n",
       "      <td>2021-08-16 13:30</td>\n",
       "    </tr>\n",
       "  </tbody>\n",
       "</table>\n",
       "</div>"
      ],
      "text/plain": [
       "        RECORD_TIME\n",
       "0  2021-08-16 14:00\n",
       "1  2021-08-16 13:30"
      ]
     },
     "execution_count": 3,
     "metadata": {},
     "output_type": "execute_result"
    }
   ],
   "source": [
    "timestamps"
   ]
  },
  {
   "cell_type": "code",
   "execution_count": 4,
   "id": "alternate-victory",
   "metadata": {
    "execution": {
     "iopub.execute_input": "2021-08-16T12:00:08.457520Z",
     "iopub.status.busy": "2021-08-16T12:00:08.455249Z",
     "iopub.status.idle": "2021-08-16T12:00:08.546749Z",
     "shell.execute_reply": "2021-08-16T12:00:08.547970Z"
    },
    "papermill": {
     "duration": 0.12202,
     "end_time": "2021-08-16T12:00:08.548371",
     "exception": false,
     "start_time": "2021-08-16T12:00:08.426351",
     "status": "completed"
    },
    "tags": []
   },
   "outputs": [],
   "source": [
    "df = pd.read_sql(\"select * from EBAY_TOP_BERLIN where record_time in (select distinct record_time from EBAY_TOP_BERLIN order by record_time desc limit 2)\", sqlite3.connect(\"UsedObjects.db\"))"
   ]
  },
  {
   "cell_type": "code",
   "execution_count": 5,
   "id": "popular-active",
   "metadata": {
    "execution": {
     "iopub.execute_input": "2021-08-16T12:00:08.623794Z",
     "iopub.status.busy": "2021-08-16T12:00:08.616734Z",
     "iopub.status.idle": "2021-08-16T12:00:08.640794Z",
     "shell.execute_reply": "2021-08-16T12:00:08.642475Z"
    },
    "papermill": {
     "duration": 0.071002,
     "end_time": "2021-08-16T12:00:08.642969",
     "exception": false,
     "start_time": "2021-08-16T12:00:08.571967",
     "status": "completed"
    },
    "tags": []
   },
   "outputs": [],
   "source": [
    "df_pivot = df.pivot_table(index=\"PRODUCT\", columns = \"RECORD_TIME\", values = \"LISTING_COUNT\")"
   ]
  },
  {
   "cell_type": "code",
   "execution_count": 6,
   "id": "union-huntington",
   "metadata": {
    "execution": {
     "iopub.execute_input": "2021-08-16T12:00:08.701818Z",
     "iopub.status.busy": "2021-08-16T12:00:08.699723Z",
     "iopub.status.idle": "2021-08-16T12:00:08.705275Z",
     "shell.execute_reply": "2021-08-16T12:00:08.706638Z"
    },
    "papermill": {
     "duration": 0.04184,
     "end_time": "2021-08-16T12:00:08.707067",
     "exception": false,
     "start_time": "2021-08-16T12:00:08.665227",
     "status": "completed"
    },
    "tags": []
   },
   "outputs": [],
   "source": [
    "df_pivot.columns = [\"stamp_1\", \"stamp_2\"]\n",
    "df_pivot_diff = df_pivot.diff(axis=1)"
   ]
  },
  {
   "cell_type": "code",
   "execution_count": 7,
   "id": "fifth-motion",
   "metadata": {
    "execution": {
     "iopub.execute_input": "2021-08-16T12:00:08.764407Z",
     "iopub.status.busy": "2021-08-16T12:00:08.761653Z",
     "iopub.status.idle": "2021-08-16T12:00:10.252852Z",
     "shell.execute_reply": "2021-08-16T12:00:10.254355Z"
    },
    "papermill": {
     "duration": 1.526179,
     "end_time": "2021-08-16T12:00:10.254851",
     "exception": false,
     "start_time": "2021-08-16T12:00:08.728672",
     "status": "completed"
    },
    "tags": []
   },
   "outputs": [
    {
     "data": {
      "text/plain": [
       "<AxesSubplot:ylabel='PRODUCT'>"
      ]
     },
     "execution_count": 7,
     "metadata": {},
     "output_type": "execute_result"
    },
    {
     "data": {
      "image/png": "[encoded data removed]",
      "text/plain": [
       "<Figure size 432x288 with 1 Axes>"
      ]
     },
     "metadata": {
      "needs_background": "light"
     },
     "output_type": "display_data"
    }
   ],
   "source": [
    "df_pivot_diff.sort_values(\"stamp_2\", ascending = False)[\"stamp_2\"].head(10).plot.barh()"
   ]
  },
  {
   "cell_type": "code",
   "execution_count": null,
   "id": "extra-executive",
   "metadata": {
    "papermill": {
     "duration": 0.022481,
     "end_time": "2021-08-16T12:00:10.302330",
     "exception": false,
     "start_time": "2021-08-16T12:00:10.279849",
     "status": "completed"
    },
    "tags": []
   },
   "outputs": [],
   "source": []
  }
 ],
 "metadata": {
  "kernelspec": {
   "display_name": "Python 3",
   "language": "python",
   "name": "python3"
  },
  "language_info": {
   "codemirror_mode": {
    "name": "ipython",
    "version": 3
   },
   "file_extension": ".py",
   "mimetype": "text/x-python",
   "name": "python",
   "nbconvert_exporter": "python",
   "pygments_lexer": "ipython3",
   "version": "3.9.5"
  },
  "papermill": {
   "default_parameters": {},
   "duration": 6.842684,
   "end_time": "2021-08-16T12:00:11.749380",
   "environment_variables": {},
   "exception": null,
   "input_path": "eBay_Overview.ipynb",
   "output_path": "eBay_Overview.ipynb",
   "parameters": {},
   "start_time": "2021-08-16T12:00:04.906696",
   "version": "2.3.3"
  }
 },
 "nbformat": 4,
 "nbformat_minor": 5
}