{
 "cells": [
  {
   "cell_type": "code",
   "execution_count": 1,
   "id": "reverse-picking",
   "metadata": {
    "execution": {
     "iopub.execute_input": "2021-12-08T01:00:07.958032Z",
     "iopub.status.busy": "2021-12-08T01:00:07.955761Z",
     "iopub.status.idle": "2021-12-08T01:00:08.911878Z",
     "shell.execute_reply": "2021-12-08T01:00:08.913586Z"
    },
    "papermill": {
     "duration": 1.005759,
     "end_time": "2021-12-08T01:00:08.914303",
     "exception": false,
     "start_time": "2021-12-08T01:00:07.908544",
     "status": "completed"
    },
    "tags": []
   },
   "outputs": [],
   "source": [
    "import pandas as pd\n",
    "import sqlite3"
   ]
  },
  {
   "cell_type": "code",
   "execution_count": 2,
   "id": "innovative-syndrome",
   "metadata": {
    "execution": {
     "iopub.execute_input": "2021-12-08T01:00:08.977201Z",
     "iopub.status.busy": "2021-12-08T01:00:08.974879Z",
     "iopub.status.idle": "2021-12-08T01:00:10.002699Z",
     "shell.execute_reply": "2021-12-08T01:00:10.004311Z"
    },
    "papermill": {
     "duration": 1.057776,
     "end_time": "2021-12-08T01:00:10.004875",
     "exception": false,
     "start_time": "2021-12-08T01:00:08.947099",
     "status": "completed"
    },
    "tags": []
   },
   "outputs": [],
   "source": [
    "timestamps = pd.read_sql(\"select distinct record_time from EBAY_TOP_BERLIN order by record_time desc limit 2\", sqlite3.connect(\"UsedObjects.db\"))"
   ]
  },
  {
   "cell_type": "code",
   "execution_count": 3,
   "id": "periodic-identification",
   "metadata": {
    "execution": {
     "iopub.execute_input": "2021-12-08T01:00:10.097967Z",
     "iopub.status.busy": "2021-12-08T01:00:10.094594Z",
     "iopub.status.idle": "2021-12-08T01:00:10.124987Z",
     "shell.execute_reply": "2021-12-08T01:00:10.126634Z"
    },
    "papermill": {
     "duration": 0.100817,
     "end_time": "2021-12-08T01:00:10.127179",
     "exception": false,
     "start_time": "2021-12-08T01:00:10.026362",
     "status": "completed"
    },
    "tags": []
   },
   "outputs": [
    {
     "data": {
      "text/html": [
       "<div>\n",
       "<style scoped>\n",
       "    .dataframe tbody tr th:only-of-type {\n",
       "        vertical-align: middle;\n",
       "    }\n",
       "\n",
       "    .dataframe tbody tr th {\n",
       "        vertical-align: top;\n",
       "    }\n",
       "\n",
       "    .dataframe thead th {\n",
       "        text-align: right;\n",
       "    }\n",
       "</style>\n",
       "<table border=\"1\" class=\"dataframe\">\n",
       "  <thead>\n",
       "    <tr style=\"text-align: right;\">\n",
       "      <th></th>\n",
       "      <th>RECORD_TIME</th>\n",
       "    </tr>\n",
       "  </thead>\n",
       "  <tbody>\n",
       "    <tr>\n",
       "      <th>0</th>\n",
       "      <td>2021-12-08 02:00</td>\n",
       "    </tr>\n",
       "    <tr>\n",
       "      <th>1</th>\n",
       "      <td>2021-12-08 01:30</td>\n",
       "    </tr>\n",
       "  </tbody>\n",
       "</table>\n",
       "</div>"
      ],
      "text/plain": [
       "        RECORD_TIME\n",
       "0  2021-12-08 02:00\n",
       "1  2021-12-08 01:30"
      ]
     },
     "execution_count": 3,
     "metadata": {},
     "output_type": "execute_result"
    }
   ],
   "source": [
    "timestamps"
   ]
  },
  {
   "cell_type": "code",
   "execution_count": 4,
   "id": "alternate-victory",
   "metadata": {
    "execution": {
     "iopub.execute_input": "2021-12-08T01:00:10.184416Z",
     "iopub.status.busy": "2021-12-08T01:00:10.182197Z",
     "iopub.status.idle": "2021-12-08T01:00:11.669487Z",
     "shell.execute_reply": "2021-12-08T01:00:11.672304Z"
    },
    "papermill": {
     "duration": 1.523745,
     "end_time": "2021-12-08T01:00:11.673193",
     "exception": false,
     "start_time": "2021-12-08T01:00:10.149448",
     "status": "completed"
    },
    "tags": []
   },
   "outputs": [],
   "source": [
    "df = pd.read_sql(\"select * from EBAY_TOP_BERLIN where record_time in (select distinct record_time from EBAY_TOP_BERLIN order by record_time desc limit 2)\", sqlite3.connect(\"UsedObjects.db\"))"
   ]
  },
  {
   "cell_type": "code",
   "execution_count": 5,
   "id": "popular-active",
   "metadata": {
    "execution": {
     "iopub.execute_input": "2021-12-08T01:00:11.797717Z",
     "iopub.status.busy": "2021-12-08T01:00:11.783160Z",
     "iopub.status.idle": "2021-12-08T01:00:11.831935Z",
     "shell.execute_reply": "2021-12-08T01:00:11.834924Z"
    },
    "papermill": {
     "duration": 0.12992,
     "end_time": "2021-12-08T01:00:11.835661",
     "exception": false,
     "start_time": "2021-12-08T01:00:11.705741",
     "status": "completed"
    },
    "tags": []
   },
   "outputs": [],
   "source": [
    "df_pivot = df.pivot_table(index=\"PRODUCT\", columns = \"RECORD_TIME\", values = \"LISTING_COUNT\")"
   ]
  },
  {
   "cell_type": "code",
   "execution_count": 6,
   "id": "union-huntington",
   "metadata": {
    "execution": {
     "iopub.execute_input": "2021-12-08T01:00:11.920296Z",
     "iopub.status.busy": "2021-12-08T01:00:11.916228Z",
     "iopub.status.idle": "2021-12-08T01:00:11.927273Z",
     "shell.execute_reply": "2021-12-08T01:00:11.930156Z"
    },
    "papermill": {
     "duration": 0.066896,
     "end_time": "2021-12-08T01:00:11.931015",
     "exception": false,
     "start_time": "2021-12-08T01:00:11.864119",
     "status": "completed"
    },
    "tags": []
   },
   "outputs": [],
   "source": [
    "df_pivot.columns = [\"stamp_1\", \"stamp_2\"]\n",
    "df_pivot_diff = df_pivot.diff(axis=1)"
   ]
  },
  {
   "cell_type": "code",
   "execution_count": 7,
   "id": "fifth-motion",
   "metadata": {
    "execution": {
     "iopub.execute_input": "2021-12-08T01:00:12.016845Z",
     "iopub.status.busy": "2021-12-08T01:00:12.013342Z",
     "iopub.status.idle": "2021-12-08T01:00:13.718182Z",
     "shell.execute_reply": "2021-12-08T01:00:13.719470Z"
    },
    "papermill": {
     "duration": 1.758194,
     "end_time": "2021-12-08T01:00:13.719898",
     "exception": false,
     "start_time": "2021-12-08T01:00:11.961704",
     "status": "completed"
    },
    "tags": []
   },
   "outputs": [
    {
     "data": {
      "text/plain": [
       "<AxesSubplot:ylabel='PRODUCT'>"
      ]
     },
     "execution_count": 7,
     "metadata": {},
     "output_type": "execute_result"
    },
    {
     "data": {
      "image/png": "[encoded data removed]",
      "text/plain": [
       "<Figure size 432x288 with 1 Axes>"
      ]
     },
     "metadata": {
      "needs_background": "light"
     },
     "output_type": "display_data"
    }
   ],
   "source": [
    "df_pivot_diff.sort_values(\"stamp_2\", ascending = False)[\"stamp_2\"].head(10).plot.barh()"
   ]
  },
  {
   "cell_type": "code",
   "execution_count": null,
   "id": "extra-executive",
   "metadata": {
    "papermill": {
     "duration": 0.02215,
     "end_time": "2021-12-08T01:00:13.766686",
     "exception": false,
     "start_time": "2021-12-08T01:00:13.744536",
     "status": "completed"
    },
    "tags": []
   },
   "outputs": [],
   "source": []
  }
 ],
 "metadata": {
  "kernelspec": {
   "display_name": "Python 3",
   "language": "python",
   "name": "python3"
  },
  "language_info": {
   "codemirror_mode": {
    "name": "ipython",
    "version": 3
   },
   "file_extension": ".py",
   "mimetype": "text/x-python",
   "name": "python",
   "nbconvert_exporter": "python",
   "pygments_lexer": "ipython3",
   "version": "3.9.5"
  },
  "papermill": {
   "default_parameters": {},
   "duration": 9.934872,
   "end_time": "2021-12-08T01:00:15.120561",
   "environment_variables": {},
   "exception": null,
   "input_path": "eBay_Overview.ipynb",
   "output_path": "eBay_Overview.ipynb",
   "parameters": {},
   "start_time": "2021-12-08T01:00:05.185689",
   "version": "2.3.3"
  }
 },
 "nbformat": 4,
 "nbformat_minor": 5
}