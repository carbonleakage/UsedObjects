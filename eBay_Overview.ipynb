{
 "cells": [
  {
   "cell_type": "code",
   "execution_count": 1,
   "id": "reverse-picking",
   "metadata": {
    "execution": {
     "iopub.execute_input": "2021-09-09T01:30:06.957308Z",
     "iopub.status.busy": "2021-09-09T01:30:06.955393Z",
     "iopub.status.idle": "2021-09-09T01:30:07.768458Z",
     "shell.execute_reply": "2021-09-09T01:30:07.769862Z"
    },
    "papermill": {
     "duration": 0.864196,
     "end_time": "2021-09-09T01:30:07.770559",
     "exception": false,
     "start_time": "2021-09-09T01:30:06.906363",
     "status": "completed"
    },
    "tags": []
   },
   "outputs": [],
   "source": [
    "import pandas as pd\n",
    "import sqlite3"
   ]
  },
  {
   "cell_type": "code",
   "execution_count": 2,
   "id": "innovative-syndrome",
   "metadata": {
    "execution": {
     "iopub.execute_input": "2021-09-09T01:30:07.822102Z",
     "iopub.status.busy": "2021-09-09T01:30:07.819802Z",
     "iopub.status.idle": "2021-09-09T01:30:08.058594Z",
     "shell.execute_reply": "2021-09-09T01:30:08.059878Z"
    },
    "papermill": {
     "duration": 0.268916,
     "end_time": "2021-09-09T01:30:08.060291",
     "exception": false,
     "start_time": "2021-09-09T01:30:07.791375",
     "status": "completed"
    },
    "tags": []
   },
   "outputs": [],
   "source": [
    "timestamps = pd.read_sql(\"select distinct record_time from EBAY_TOP_BERLIN order by record_time desc limit 2\", sqlite3.connect(\"UsedObjects.db\"))"
   ]
  },
  {
   "cell_type": "code",
   "execution_count": 3,
   "id": "periodic-identification",
   "metadata": {
    "execution": {
     "iopub.execute_input": "2021-09-09T01:30:08.126490Z",
     "iopub.status.busy": "2021-09-09T01:30:08.124453Z",
     "iopub.status.idle": "2021-09-09T01:30:08.145852Z",
     "shell.execute_reply": "2021-09-09T01:30:08.144526Z"
    },
    "papermill": {
     "duration": 0.066906,
     "end_time": "2021-09-09T01:30:08.146227",
     "exception": false,
     "start_time": "2021-09-09T01:30:08.079321",
     "status": "completed"
    },
    "tags": []
   },
   "outputs": [
    {
     "data": {
      "text/html": [
       "<div>\n",
       "<style scoped>\n",
       "    .dataframe tbody tr th:only-of-type {\n",
       "        vertical-align: middle;\n",
       "    }\n",
       "\n",
       "    .dataframe tbody tr th {\n",
       "        vertical-align: top;\n",
       "    }\n",
       "\n",
       "    .dataframe thead th {\n",
       "        text-align: right;\n",
       "    }\n",
       "</style>\n",
       "<table border=\"1\" class=\"dataframe\">\n",
       "  <thead>\n",
       "    <tr style=\"text-align: right;\">\n",
       "      <th></th>\n",
       "      <th>RECORD_TIME</th>\n",
       "    </tr>\n",
       "  </thead>\n",
       "  <tbody>\n",
       "    <tr>\n",
       "      <th>0</th>\n",
       "      <td>2021-09-09 03:30</td>\n",
       "    </tr>\n",
       "    <tr>\n",
       "      <th>1</th>\n",
       "      <td>2021-09-09 03:00</td>\n",
       "    </tr>\n",
       "  </tbody>\n",
       "</table>\n",
       "</div>"
      ],
      "text/plain": [
       "        RECORD_TIME\n",
       "0  2021-09-09 03:30\n",
       "1  2021-09-09 03:00"
      ]
     },
     "execution_count": 3,
     "metadata": {},
     "output_type": "execute_result"
    }
   ],
   "source": [
    "timestamps"
   ]
  },
  {
   "cell_type": "code",
   "execution_count": 4,
   "id": "alternate-victory",
   "metadata": {
    "execution": {
     "iopub.execute_input": "2021-09-09T01:30:08.198162Z",
     "iopub.status.busy": "2021-09-09T01:30:08.196321Z",
     "iopub.status.idle": "2021-09-09T01:30:08.559287Z",
     "shell.execute_reply": "2021-09-09T01:30:08.560691Z"
    },
    "papermill": {
     "duration": 0.393006,
     "end_time": "2021-09-09T01:30:08.561136",
     "exception": false,
     "start_time": "2021-09-09T01:30:08.168130",
     "status": "completed"
    },
    "tags": []
   },
   "outputs": [],
   "source": [
    "df = pd.read_sql(\"select * from EBAY_TOP_BERLIN where record_time in (select distinct record_time from EBAY_TOP_BERLIN order by record_time desc limit 2)\", sqlite3.connect(\"UsedObjects.db\"))"
   ]
  },
  {
   "cell_type": "code",
   "execution_count": 5,
   "id": "popular-active",
   "metadata": {
    "execution": {
     "iopub.execute_input": "2021-09-09T01:30:08.644012Z",
     "iopub.status.busy": "2021-09-09T01:30:08.633380Z",
     "iopub.status.idle": "2021-09-09T01:30:08.660635Z",
     "shell.execute_reply": "2021-09-09T01:30:08.661854Z"
    },
    "papermill": {
     "duration": 0.072215,
     "end_time": "2021-09-09T01:30:08.662262",
     "exception": false,
     "start_time": "2021-09-09T01:30:08.590047",
     "status": "completed"
    },
    "tags": []
   },
   "outputs": [],
   "source": [
    "df_pivot = df.pivot_table(index=\"PRODUCT\", columns = \"RECORD_TIME\", values = \"LISTING_COUNT\")"
   ]
  },
  {
   "cell_type": "code",
   "execution_count": 6,
   "id": "union-huntington",
   "metadata": {
    "execution": {
     "iopub.execute_input": "2021-09-09T01:30:08.721073Z",
     "iopub.status.busy": "2021-09-09T01:30:08.718592Z",
     "iopub.status.idle": "2021-09-09T01:30:08.726430Z",
     "shell.execute_reply": "2021-09-09T01:30:08.724744Z"
    },
    "papermill": {
     "duration": 0.04253,
     "end_time": "2021-09-09T01:30:08.726829",
     "exception": false,
     "start_time": "2021-09-09T01:30:08.684299",
     "status": "completed"
    },
    "tags": []
   },
   "outputs": [],
   "source": [
    "df_pivot.columns = [\"stamp_1\", \"stamp_2\"]\n",
    "df_pivot_diff = df_pivot.diff(axis=1)"
   ]
  },
  {
   "cell_type": "code",
   "execution_count": 7,
   "id": "fifth-motion",
   "metadata": {
    "execution": {
     "iopub.execute_input": "2021-09-09T01:30:08.781294Z",
     "iopub.status.busy": "2021-09-09T01:30:08.778811Z",
     "iopub.status.idle": "2021-09-09T01:30:10.263775Z",
     "shell.execute_reply": "2021-09-09T01:30:10.265147Z"
    },
    "papermill": {
     "duration": 1.517639,
     "end_time": "2021-09-09T01:30:10.265597",
     "exception": false,
     "start_time": "2021-09-09T01:30:08.747958",
     "status": "completed"
    },
    "tags": []
   },
   "outputs": [
    {
     "data": {
      "text/plain": [
       "<AxesSubplot:ylabel='PRODUCT'>"
      ]
     },
     "execution_count": 7,
     "metadata": {},
     "output_type": "execute_result"
    },
    {
     "data": {
      "image/png": "[encoded data removed]",
      "text/plain": [
       "<Figure size 432x288 with 1 Axes>"
      ]
     },
     "metadata": {
      "needs_background": "light"
     },
     "output_type": "display_data"
    }
   ],
   "source": [
    "df_pivot_diff.sort_values(\"stamp_2\", ascending = False)[\"stamp_2\"].head(10).plot.barh()"
   ]
  },
  {
   "cell_type": "code",
   "execution_count": null,
   "id": "extra-executive",
   "metadata": {
    "papermill": {
     "duration": 0.022286,
     "end_time": "2021-09-09T01:30:10.312523",
     "exception": false,
     "start_time": "2021-09-09T01:30:10.290237",
     "status": "completed"
    },
    "tags": []
   },
   "outputs": [],
   "source": []
  }
 ],
 "metadata": {
  "kernelspec": {
   "display_name": "Python 3",
   "language": "python",
   "name": "python3"
  },
  "language_info": {
   "codemirror_mode": {
    "name": "ipython",
    "version": 3
   },
   "file_extension": ".py",
   "mimetype": "text/x-python",
   "name": "python",
   "nbconvert_exporter": "python",
   "pygments_lexer": "ipython3",
   "version": "3.9.5"
  },
  "papermill": {
   "default_parameters": {},
   "duration": 6.467618,
   "end_time": "2021-09-09T01:30:10.953711",
   "environment_variables": {},
   "exception": null,
   "input_path": "eBay_Overview.ipynb",
   "output_path": "eBay_Overview.ipynb",
   "parameters": {},
   "start_time": "2021-09-09T01:30:04.486093",
   "version": "2.3.3"
  }
 },
 "nbformat": 4,
 "nbformat_minor": 5
}