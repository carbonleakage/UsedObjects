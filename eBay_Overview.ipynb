{
 "cells": [
  {
   "cell_type": "code",
   "execution_count": 1,
   "id": "reverse-picking",
   "metadata": {
    "execution": {
     "iopub.execute_input": "2021-12-07T22:30:07.805142Z",
     "iopub.status.busy": "2021-12-07T22:30:07.802802Z",
     "iopub.status.idle": "2021-12-07T22:30:08.740916Z",
     "shell.execute_reply": "2021-12-07T22:30:08.738817Z"
    },
    "papermill": {
     "duration": 0.997387,
     "end_time": "2021-12-07T22:30:08.741407",
     "exception": false,
     "start_time": "2021-12-07T22:30:07.744020",
     "status": "completed"
    },
    "tags": []
   },
   "outputs": [],
   "source": [
    "import pandas as pd\n",
    "import sqlite3"
   ]
  },
  {
   "cell_type": "code",
   "execution_count": 2,
   "id": "innovative-syndrome",
   "metadata": {
    "execution": {
     "iopub.execute_input": "2021-12-07T22:30:08.811108Z",
     "iopub.status.busy": "2021-12-07T22:30:08.808913Z",
     "iopub.status.idle": "2021-12-07T22:30:09.847658Z",
     "shell.execute_reply": "2021-12-07T22:30:09.850042Z"
    },
    "papermill": {
     "duration": 1.075007,
     "end_time": "2021-12-07T22:30:09.850561",
     "exception": false,
     "start_time": "2021-12-07T22:30:08.775554",
     "status": "completed"
    },
    "tags": []
   },
   "outputs": [],
   "source": [
    "timestamps = pd.read_sql(\"select distinct record_time from EBAY_TOP_BERLIN order by record_time desc limit 2\", sqlite3.connect(\"UsedObjects.db\"))"
   ]
  },
  {
   "cell_type": "code",
   "execution_count": 3,
   "id": "periodic-identification",
   "metadata": {
    "execution": {
     "iopub.execute_input": "2021-12-07T22:30:09.923933Z",
     "iopub.status.busy": "2021-12-07T22:30:09.921655Z",
     "iopub.status.idle": "2021-12-07T22:30:09.945242Z",
     "shell.execute_reply": "2021-12-07T22:30:09.946631Z"
    },
    "papermill": {
     "duration": 0.075152,
     "end_time": "2021-12-07T22:30:09.947078",
     "exception": false,
     "start_time": "2021-12-07T22:30:09.871926",
     "status": "completed"
    },
    "tags": []
   },
   "outputs": [
    {
     "data": {
      "text/html": [
       "<div>\n",
       "<style scoped>\n",
       "    .dataframe tbody tr th:only-of-type {\n",
       "        vertical-align: middle;\n",
       "    }\n",
       "\n",
       "    .dataframe tbody tr th {\n",
       "        vertical-align: top;\n",
       "    }\n",
       "\n",
       "    .dataframe thead th {\n",
       "        text-align: right;\n",
       "    }\n",
       "</style>\n",
       "<table border=\"1\" class=\"dataframe\">\n",
       "  <thead>\n",
       "    <tr style=\"text-align: right;\">\n",
       "      <th></th>\n",
       "      <th>RECORD_TIME</th>\n",
       "    </tr>\n",
       "  </thead>\n",
       "  <tbody>\n",
       "    <tr>\n",
       "      <th>0</th>\n",
       "      <td>2021-12-07 23:30</td>\n",
       "    </tr>\n",
       "    <tr>\n",
       "      <th>1</th>\n",
       "      <td>2021-12-07 23:00</td>\n",
       "    </tr>\n",
       "  </tbody>\n",
       "</table>\n",
       "</div>"
      ],
      "text/plain": [
       "        RECORD_TIME\n",
       "0  2021-12-07 23:30\n",
       "1  2021-12-07 23:00"
      ]
     },
     "execution_count": 3,
     "metadata": {},
     "output_type": "execute_result"
    }
   ],
   "source": [
    "timestamps"
   ]
  },
  {
   "cell_type": "code",
   "execution_count": 4,
   "id": "alternate-victory",
   "metadata": {
    "execution": {
     "iopub.execute_input": "2021-12-07T22:30:10.001793Z",
     "iopub.status.busy": "2021-12-07T22:30:09.999663Z",
     "iopub.status.idle": "2021-12-07T22:30:11.505095Z",
     "shell.execute_reply": "2021-12-07T22:30:11.509120Z"
    },
    "papermill": {
     "duration": 1.541066,
     "end_time": "2021-12-07T22:30:11.510012",
     "exception": false,
     "start_time": "2021-12-07T22:30:09.968946",
     "status": "completed"
    },
    "tags": []
   },
   "outputs": [],
   "source": [
    "df = pd.read_sql(\"select * from EBAY_TOP_BERLIN where record_time in (select distinct record_time from EBAY_TOP_BERLIN order by record_time desc limit 2)\", sqlite3.connect(\"UsedObjects.db\"))"
   ]
  },
  {
   "cell_type": "code",
   "execution_count": 5,
   "id": "popular-active",
   "metadata": {
    "execution": {
     "iopub.execute_input": "2021-12-07T22:30:11.617506Z",
     "iopub.status.busy": "2021-12-07T22:30:11.597755Z",
     "iopub.status.idle": "2021-12-07T22:30:11.657024Z",
     "shell.execute_reply": "2021-12-07T22:30:11.659594Z"
    },
    "papermill": {
     "duration": 0.117279,
     "end_time": "2021-12-07T22:30:11.660345",
     "exception": false,
     "start_time": "2021-12-07T22:30:11.543066",
     "status": "completed"
    },
    "tags": []
   },
   "outputs": [],
   "source": [
    "df_pivot = df.pivot_table(index=\"PRODUCT\", columns = \"RECORD_TIME\", values = \"LISTING_COUNT\")"
   ]
  },
  {
   "cell_type": "code",
   "execution_count": 6,
   "id": "union-huntington",
   "metadata": {
    "execution": {
     "iopub.execute_input": "2021-12-07T22:30:11.747558Z",
     "iopub.status.busy": "2021-12-07T22:30:11.744820Z",
     "iopub.status.idle": "2021-12-07T22:30:11.753525Z",
     "shell.execute_reply": "2021-12-07T22:30:11.751230Z"
    },
    "papermill": {
     "duration": 0.06259,
     "end_time": "2021-12-07T22:30:11.754053",
     "exception": false,
     "start_time": "2021-12-07T22:30:11.691463",
     "status": "completed"
    },
    "tags": []
   },
   "outputs": [],
   "source": [
    "df_pivot.columns = [\"stamp_1\", \"stamp_2\"]\n",
    "df_pivot_diff = df_pivot.diff(axis=1)"
   ]
  },
  {
   "cell_type": "code",
   "execution_count": 7,
   "id": "fifth-motion",
   "metadata": {
    "execution": {
     "iopub.execute_input": "2021-12-07T22:30:11.819170Z",
     "iopub.status.busy": "2021-12-07T22:30:11.816906Z",
     "iopub.status.idle": "2021-12-07T22:30:13.519803Z",
     "shell.execute_reply": "2021-12-07T22:30:13.521243Z"
    },
    "papermill": {
     "duration": 1.743257,
     "end_time": "2021-12-07T22:30:13.521704",
     "exception": false,
     "start_time": "2021-12-07T22:30:11.778447",
     "status": "completed"
    },
    "tags": []
   },
   "outputs": [
    {
     "data": {
      "text/plain": [
       "<AxesSubplot:ylabel='PRODUCT'>"
      ]
     },
     "execution_count": 7,
     "metadata": {},
     "output_type": "execute_result"
    },
    {
     "data": {
      "image/png": "[encoded data removed]",
      "text/plain": [
       "<Figure size 432x288 with 1 Axes>"
      ]
     },
     "metadata": {
      "needs_background": "light"
     },
     "output_type": "display_data"
    }
   ],
   "source": [
    "df_pivot_diff.sort_values(\"stamp_2\", ascending = False)[\"stamp_2\"].head(10).plot.barh()"
   ]
  },
  {
   "cell_type": "code",
   "execution_count": null,
   "id": "extra-executive",
   "metadata": {
    "papermill": {
     "duration": 0.021768,
     "end_time": "2021-12-07T22:30:13.566608",
     "exception": false,
     "start_time": "2021-12-07T22:30:13.544840",
     "status": "completed"
    },
    "tags": []
   },
   "outputs": [],
   "source": []
  }
 ],
 "metadata": {
  "kernelspec": {
   "display_name": "Python 3",
   "language": "python",
   "name": "python3"
  },
  "language_info": {
   "codemirror_mode": {
    "name": "ipython",
    "version": 3
   },
   "file_extension": ".py",
   "mimetype": "text/x-python",
   "name": "python",
   "nbconvert_exporter": "python",
   "pygments_lexer": "ipython3",
   "version": "3.9.5"
  },
  "papermill": {
   "default_parameters": {},
   "duration": 9.951885,
   "end_time": "2021-12-07T22:30:14.971803",
   "environment_variables": {},
   "exception": null,
   "input_path": "eBay_Overview.ipynb",
   "output_path": "eBay_Overview.ipynb",
   "parameters": {},
   "start_time": "2021-12-07T22:30:05.019918",
   "version": "2.3.3"
  }
 },
 "nbformat": 4,
 "nbformat_minor": 5
}