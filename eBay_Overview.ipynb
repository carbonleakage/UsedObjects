{
 "cells": [
  {
   "cell_type": "code",
   "execution_count": 1,
   "id": "reverse-picking",
   "metadata": {
    "execution": {
     "iopub.execute_input": "2021-10-29T23:00:06.978527Z",
     "iopub.status.busy": "2021-10-29T23:00:06.976438Z",
     "iopub.status.idle": "2021-10-29T23:00:07.782268Z",
     "shell.execute_reply": "2021-10-29T23:00:07.780659Z"
    },
    "papermill": {
     "duration": 0.855422,
     "end_time": "2021-10-29T23:00:07.782666",
     "exception": false,
     "start_time": "2021-10-29T23:00:06.927244",
     "status": "completed"
    },
    "tags": []
   },
   "outputs": [],
   "source": [
    "import pandas as pd\n",
    "import sqlite3"
   ]
  },
  {
   "cell_type": "code",
   "execution_count": 2,
   "id": "innovative-syndrome",
   "metadata": {
    "execution": {
     "iopub.execute_input": "2021-10-29T23:00:07.834481Z",
     "iopub.status.busy": "2021-10-29T23:00:07.832212Z",
     "iopub.status.idle": "2021-10-29T23:00:08.511374Z",
     "shell.execute_reply": "2021-10-29T23:00:08.512557Z"
    },
    "papermill": {
     "duration": 0.708781,
     "end_time": "2021-10-29T23:00:08.513013",
     "exception": false,
     "start_time": "2021-10-29T23:00:07.804232",
     "status": "completed"
    },
    "tags": []
   },
   "outputs": [],
   "source": [
    "timestamps = pd.read_sql(\"select distinct record_time from EBAY_TOP_BERLIN order by record_time desc limit 2\", sqlite3.connect(\"UsedObjects.db\"))"
   ]
  },
  {
   "cell_type": "code",
   "execution_count": 3,
   "id": "periodic-identification",
   "metadata": {
    "execution": {
     "iopub.execute_input": "2021-10-29T23:00:08.649993Z",
     "iopub.status.busy": "2021-10-29T23:00:08.647922Z",
     "iopub.status.idle": "2021-10-29T23:00:08.671630Z",
     "shell.execute_reply": "2021-10-29T23:00:08.673148Z"
    },
    "papermill": {
     "duration": 0.073997,
     "end_time": "2021-10-29T23:00:08.673628",
     "exception": false,
     "start_time": "2021-10-29T23:00:08.599631",
     "status": "completed"
    },
    "tags": []
   },
   "outputs": [
    {
     "data": {
      "text/html": [
       "<div>\n",
       "<style scoped>\n",
       "    .dataframe tbody tr th:only-of-type {\n",
       "        vertical-align: middle;\n",
       "    }\n",
       "\n",
       "    .dataframe tbody tr th {\n",
       "        vertical-align: top;\n",
       "    }\n",
       "\n",
       "    .dataframe thead th {\n",
       "        text-align: right;\n",
       "    }\n",
       "</style>\n",
       "<table border=\"1\" class=\"dataframe\">\n",
       "  <thead>\n",
       "    <tr style=\"text-align: right;\">\n",
       "      <th></th>\n",
       "      <th>RECORD_TIME</th>\n",
       "    </tr>\n",
       "  </thead>\n",
       "  <tbody>\n",
       "    <tr>\n",
       "      <th>0</th>\n",
       "      <td>2021-10-30 01:00</td>\n",
       "    </tr>\n",
       "    <tr>\n",
       "      <th>1</th>\n",
       "      <td>2021-10-30 00:30</td>\n",
       "    </tr>\n",
       "  </tbody>\n",
       "</table>\n",
       "</div>"
      ],
      "text/plain": [
       "        RECORD_TIME\n",
       "0  2021-10-30 01:00\n",
       "1  2021-10-30 00:30"
      ]
     },
     "execution_count": 3,
     "metadata": {},
     "output_type": "execute_result"
    }
   ],
   "source": [
    "timestamps"
   ]
  },
  {
   "cell_type": "code",
   "execution_count": 4,
   "id": "alternate-victory",
   "metadata": {
    "execution": {
     "iopub.execute_input": "2021-10-29T23:00:08.725090Z",
     "iopub.status.busy": "2021-10-29T23:00:08.723060Z",
     "iopub.status.idle": "2021-10-29T23:00:09.707929Z",
     "shell.execute_reply": "2021-10-29T23:00:09.709420Z"
    },
    "papermill": {
     "duration": 1.015109,
     "end_time": "2021-10-29T23:00:09.709883",
     "exception": false,
     "start_time": "2021-10-29T23:00:08.694774",
     "status": "completed"
    },
    "tags": []
   },
   "outputs": [],
   "source": [
    "df = pd.read_sql(\"select * from EBAY_TOP_BERLIN where record_time in (select distinct record_time from EBAY_TOP_BERLIN order by record_time desc limit 2)\", sqlite3.connect(\"UsedObjects.db\"))"
   ]
  },
  {
   "cell_type": "code",
   "execution_count": 5,
   "id": "popular-active",
   "metadata": {
    "execution": {
     "iopub.execute_input": "2021-10-29T23:00:09.781963Z",
     "iopub.status.busy": "2021-10-29T23:00:09.769913Z",
     "iopub.status.idle": "2021-10-29T23:00:09.797508Z",
     "shell.execute_reply": "2021-10-29T23:00:09.798709Z"
    },
    "papermill": {
     "duration": 0.067966,
     "end_time": "2021-10-29T23:00:09.799105",
     "exception": false,
     "start_time": "2021-10-29T23:00:09.731139",
     "status": "completed"
    },
    "tags": []
   },
   "outputs": [],
   "source": [
    "df_pivot = df.pivot_table(index=\"PRODUCT\", columns = \"RECORD_TIME\", values = \"LISTING_COUNT\")"
   ]
  },
  {
   "cell_type": "code",
   "execution_count": 6,
   "id": "union-huntington",
   "metadata": {
    "execution": {
     "iopub.execute_input": "2021-10-29T23:00:09.859132Z",
     "iopub.status.busy": "2021-10-29T23:00:09.856743Z",
     "iopub.status.idle": "2021-10-29T23:00:09.862896Z",
     "shell.execute_reply": "2021-10-29T23:00:09.864326Z"
    },
    "papermill": {
     "duration": 0.042595,
     "end_time": "2021-10-29T23:00:09.864860",
     "exception": false,
     "start_time": "2021-10-29T23:00:09.822265",
     "status": "completed"
    },
    "tags": []
   },
   "outputs": [],
   "source": [
    "df_pivot.columns = [\"stamp_1\", \"stamp_2\"]\n",
    "df_pivot_diff = df_pivot.diff(axis=1)"
   ]
  },
  {
   "cell_type": "code",
   "execution_count": 7,
   "id": "fifth-motion",
   "metadata": {
    "execution": {
     "iopub.execute_input": "2021-10-29T23:00:09.919870Z",
     "iopub.status.busy": "2021-10-29T23:00:09.917719Z",
     "iopub.status.idle": "2021-10-29T23:00:11.403363Z",
     "shell.execute_reply": "2021-10-29T23:00:11.404616Z"
    },
    "papermill": {
     "duration": 1.518212,
     "end_time": "2021-10-29T23:00:11.405248",
     "exception": false,
     "start_time": "2021-10-29T23:00:09.887036",
     "status": "completed"
    },
    "tags": []
   },
   "outputs": [
    {
     "data": {
      "text/plain": [
       "<AxesSubplot:ylabel='PRODUCT'>"
      ]
     },
     "execution_count": 7,
     "metadata": {},
     "output_type": "execute_result"
    },
    {
     "data": {
      "image/png": "[encoded data removed]",
      "text/plain": [
       "<Figure size 432x288 with 1 Axes>"
      ]
     },
     "metadata": {
      "needs_background": "light"
     },
     "output_type": "display_data"
    }
   ],
   "source": [
    "df_pivot_diff.sort_values(\"stamp_2\", ascending = False)[\"stamp_2\"].head(10).plot.barh()"
   ]
  },
  {
   "cell_type": "code",
   "execution_count": null,
   "id": "extra-executive",
   "metadata": {
    "papermill": {
     "duration": 0.057677,
     "end_time": "2021-10-29T23:00:11.488966",
     "exception": false,
     "start_time": "2021-10-29T23:00:11.431289",
     "status": "completed"
    },
    "tags": []
   },
   "outputs": [],
   "source": []
  }
 ],
 "metadata": {
  "kernelspec": {
   "display_name": "Python 3",
   "language": "python",
   "name": "python3"
  },
  "language_info": {
   "codemirror_mode": {
    "name": "ipython",
    "version": 3
   },
   "file_extension": ".py",
   "mimetype": "text/x-python",
   "name": "python",
   "nbconvert_exporter": "python",
   "pygments_lexer": "ipython3",
   "version": "3.9.5"
  },
  "papermill": {
   "default_parameters": {},
   "duration": 7.610133,
   "end_time": "2021-10-29T23:00:12.131108",
   "environment_variables": {},
   "exception": null,
   "input_path": "eBay_Overview.ipynb",
   "output_path": "eBay_Overview.ipynb",
   "parameters": {},
   "start_time": "2021-10-29T23:00:04.520975",
   "version": "2.3.3"
  }
 },
 "nbformat": 4,
 "nbformat_minor": 5
}