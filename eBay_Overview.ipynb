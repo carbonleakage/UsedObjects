{
 "cells": [
  {
   "cell_type": "code",
   "execution_count": 1,
   "id": "reverse-picking",
   "metadata": {
    "execution": {
     "iopub.execute_input": "2021-08-25T17:30:06.972495Z",
     "iopub.status.busy": "2021-08-25T17:30:06.970507Z",
     "iopub.status.idle": "2021-08-25T17:30:07.777942Z",
     "shell.execute_reply": "2021-08-25T17:30:07.776288Z"
    },
    "papermill": {
     "duration": 0.858876,
     "end_time": "2021-08-25T17:30:07.778365",
     "exception": false,
     "start_time": "2021-08-25T17:30:06.919489",
     "status": "completed"
    },
    "tags": []
   },
   "outputs": [],
   "source": [
    "import pandas as pd\n",
    "import sqlite3"
   ]
  },
  {
   "cell_type": "code",
   "execution_count": 2,
   "id": "innovative-syndrome",
   "metadata": {
    "execution": {
     "iopub.execute_input": "2021-08-25T17:30:07.830180Z",
     "iopub.status.busy": "2021-08-25T17:30:07.828185Z",
     "iopub.status.idle": "2021-08-25T17:30:07.955543Z",
     "shell.execute_reply": "2021-08-25T17:30:07.956896Z"
    },
    "papermill": {
     "duration": 0.157252,
     "end_time": "2021-08-25T17:30:07.957321",
     "exception": false,
     "start_time": "2021-08-25T17:30:07.800069",
     "status": "completed"
    },
    "tags": []
   },
   "outputs": [],
   "source": [
    "timestamps = pd.read_sql(\"select distinct record_time from EBAY_TOP_BERLIN order by record_time desc limit 2\", sqlite3.connect(\"UsedObjects.db\"))"
   ]
  },
  {
   "cell_type": "code",
   "execution_count": 3,
   "id": "periodic-identification",
   "metadata": {
    "execution": {
     "iopub.execute_input": "2021-08-25T17:30:08.024027Z",
     "iopub.status.busy": "2021-08-25T17:30:08.022010Z",
     "iopub.status.idle": "2021-08-25T17:30:08.042425Z",
     "shell.execute_reply": "2021-08-25T17:30:08.043643Z"
    },
    "papermill": {
     "duration": 0.065951,
     "end_time": "2021-08-25T17:30:08.044034",
     "exception": false,
     "start_time": "2021-08-25T17:30:07.978083",
     "status": "completed"
    },
    "tags": []
   },
   "outputs": [
    {
     "data": {
      "text/html": [
       "<div>\n",
       "<style scoped>\n",
       "    .dataframe tbody tr th:only-of-type {\n",
       "        vertical-align: middle;\n",
       "    }\n",
       "\n",
       "    .dataframe tbody tr th {\n",
       "        vertical-align: top;\n",
       "    }\n",
       "\n",
       "    .dataframe thead th {\n",
       "        text-align: right;\n",
       "    }\n",
       "</style>\n",
       "<table border=\"1\" class=\"dataframe\">\n",
       "  <thead>\n",
       "    <tr style=\"text-align: right;\">\n",
       "      <th></th>\n",
       "      <th>RECORD_TIME</th>\n",
       "    </tr>\n",
       "  </thead>\n",
       "  <tbody>\n",
       "    <tr>\n",
       "      <th>0</th>\n",
       "      <td>2021-08-25 19:30</td>\n",
       "    </tr>\n",
       "    <tr>\n",
       "      <th>1</th>\n",
       "      <td>2021-08-25 19:00</td>\n",
       "    </tr>\n",
       "  </tbody>\n",
       "</table>\n",
       "</div>"
      ],
      "text/plain": [
       "        RECORD_TIME\n",
       "0  2021-08-25 19:30\n",
       "1  2021-08-25 19:00"
      ]
     },
     "execution_count": 3,
     "metadata": {},
     "output_type": "execute_result"
    }
   ],
   "source": [
    "timestamps"
   ]
  },
  {
   "cell_type": "code",
   "execution_count": 4,
   "id": "alternate-victory",
   "metadata": {
    "execution": {
     "iopub.execute_input": "2021-08-25T17:30:08.097662Z",
     "iopub.status.busy": "2021-08-25T17:30:08.095181Z",
     "iopub.status.idle": "2021-08-25T17:30:08.285787Z",
     "shell.execute_reply": "2021-08-25T17:30:08.287072Z"
    },
    "papermill": {
     "duration": 0.221431,
     "end_time": "2021-08-25T17:30:08.287489",
     "exception": false,
     "start_time": "2021-08-25T17:30:08.066058",
     "status": "completed"
    },
    "tags": []
   },
   "outputs": [],
   "source": [
    "df = pd.read_sql(\"select * from EBAY_TOP_BERLIN where record_time in (select distinct record_time from EBAY_TOP_BERLIN order by record_time desc limit 2)\", sqlite3.connect(\"UsedObjects.db\"))"
   ]
  },
  {
   "cell_type": "code",
   "execution_count": 5,
   "id": "popular-active",
   "metadata": {
    "execution": {
     "iopub.execute_input": "2021-08-25T17:30:08.359153Z",
     "iopub.status.busy": "2021-08-25T17:30:08.347869Z",
     "iopub.status.idle": "2021-08-25T17:30:08.376157Z",
     "shell.execute_reply": "2021-08-25T17:30:08.377547Z"
    },
    "papermill": {
     "duration": 0.069603,
     "end_time": "2021-08-25T17:30:08.377972",
     "exception": false,
     "start_time": "2021-08-25T17:30:08.308369",
     "status": "completed"
    },
    "tags": []
   },
   "outputs": [],
   "source": [
    "df_pivot = df.pivot_table(index=\"PRODUCT\", columns = \"RECORD_TIME\", values = \"LISTING_COUNT\")"
   ]
  },
  {
   "cell_type": "code",
   "execution_count": 6,
   "id": "union-huntington",
   "metadata": {
    "execution": {
     "iopub.execute_input": "2021-08-25T17:30:08.445164Z",
     "iopub.status.busy": "2021-08-25T17:30:08.443025Z",
     "iopub.status.idle": "2021-08-25T17:30:08.448339Z",
     "shell.execute_reply": "2021-08-25T17:30:08.449685Z"
    },
    "papermill": {
     "duration": 0.045922,
     "end_time": "2021-08-25T17:30:08.450107",
     "exception": false,
     "start_time": "2021-08-25T17:30:08.404185",
     "status": "completed"
    },
    "tags": []
   },
   "outputs": [],
   "source": [
    "df_pivot.columns = [\"stamp_1\", \"stamp_2\"]\n",
    "df_pivot_diff = df_pivot.diff(axis=1)"
   ]
  },
  {
   "cell_type": "code",
   "execution_count": 7,
   "id": "fifth-motion",
   "metadata": {
    "execution": {
     "iopub.execute_input": "2021-08-25T17:30:08.506120Z",
     "iopub.status.busy": "2021-08-25T17:30:08.503501Z",
     "iopub.status.idle": "2021-08-25T17:30:09.962886Z",
     "shell.execute_reply": "2021-08-25T17:30:09.964342Z"
    },
    "papermill": {
     "duration": 1.493149,
     "end_time": "2021-08-25T17:30:09.964837",
     "exception": false,
     "start_time": "2021-08-25T17:30:08.471688",
     "status": "completed"
    },
    "tags": []
   },
   "outputs": [
    {
     "data": {
      "text/plain": [
       "<AxesSubplot:ylabel='PRODUCT'>"
      ]
     },
     "execution_count": 7,
     "metadata": {},
     "output_type": "execute_result"
    },
    {
     "data": {
      "image/png": "[encoded data removed]",
      "text/plain": [
       "<Figure size 432x288 with 1 Axes>"
      ]
     },
     "metadata": {
      "needs_background": "light"
     },
     "output_type": "display_data"
    }
   ],
   "source": [
    "df_pivot_diff.sort_values(\"stamp_2\", ascending = False)[\"stamp_2\"].head(10).plot.barh()"
   ]
  },
  {
   "cell_type": "code",
   "execution_count": null,
   "id": "extra-executive",
   "metadata": {
    "papermill": {
     "duration": 0.022251,
     "end_time": "2021-08-25T17:30:10.012009",
     "exception": false,
     "start_time": "2021-08-25T17:30:09.989758",
     "status": "completed"
    },
    "tags": []
   },
   "outputs": [],
   "source": []
  }
 ],
 "metadata": {
  "kernelspec": {
   "display_name": "Python 3",
   "language": "python",
   "name": "python3"
  },
  "language_info": {
   "codemirror_mode": {
    "name": "ipython",
    "version": 3
   },
   "file_extension": ".py",
   "mimetype": "text/x-python",
   "name": "python",
   "nbconvert_exporter": "python",
   "pygments_lexer": "ipython3",
   "version": "3.9.5"
  },
  "papermill": {
   "default_parameters": {},
   "duration": 6.825549,
   "end_time": "2021-08-25T17:30:11.334684",
   "environment_variables": {},
   "exception": null,
   "input_path": "eBay_Overview.ipynb",
   "output_path": "eBay_Overview.ipynb",
   "parameters": {},
   "start_time": "2021-08-25T17:30:04.509135",
   "version": "2.3.3"
  }
 },
 "nbformat": 4,
 "nbformat_minor": 5
}