{
 "cells": [
  {
   "cell_type": "code",
   "execution_count": 1,
   "id": "reverse-picking",
   "metadata": {
    "execution": {
     "iopub.execute_input": "2021-10-16T08:00:07.122433Z",
     "iopub.status.busy": "2021-10-16T08:00:07.120312Z",
     "iopub.status.idle": "2021-10-16T08:00:07.929495Z",
     "shell.execute_reply": "2021-10-16T08:00:07.930805Z"
    },
    "papermill": {
     "duration": 0.861178,
     "end_time": "2021-10-16T08:00:07.931436",
     "exception": false,
     "start_time": "2021-10-16T08:00:07.070258",
     "status": "completed"
    },
    "tags": []
   },
   "outputs": [],
   "source": [
    "import pandas as pd\n",
    "import sqlite3"
   ]
  },
  {
   "cell_type": "code",
   "execution_count": 2,
   "id": "innovative-syndrome",
   "metadata": {
    "execution": {
     "iopub.execute_input": "2021-10-16T08:00:07.985336Z",
     "iopub.status.busy": "2021-10-16T08:00:07.982883Z",
     "iopub.status.idle": "2021-10-16T08:00:08.528543Z",
     "shell.execute_reply": "2021-10-16T08:00:08.529862Z"
    },
    "papermill": {
     "duration": 0.575821,
     "end_time": "2021-10-16T08:00:08.530280",
     "exception": false,
     "start_time": "2021-10-16T08:00:07.954459",
     "status": "completed"
    },
    "tags": []
   },
   "outputs": [],
   "source": [
    "timestamps = pd.read_sql(\"select distinct record_time from EBAY_TOP_BERLIN order by record_time desc limit 2\", sqlite3.connect(\"UsedObjects.db\"))"
   ]
  },
  {
   "cell_type": "code",
   "execution_count": 3,
   "id": "periodic-identification",
   "metadata": {
    "execution": {
     "iopub.execute_input": "2021-10-16T08:00:08.605322Z",
     "iopub.status.busy": "2021-10-16T08:00:08.603114Z",
     "iopub.status.idle": "2021-10-16T08:00:08.625131Z",
     "shell.execute_reply": "2021-10-16T08:00:08.626497Z"
    },
    "papermill": {
     "duration": 0.070262,
     "end_time": "2021-10-16T08:00:08.626913",
     "exception": false,
     "start_time": "2021-10-16T08:00:08.556651",
     "status": "completed"
    },
    "tags": []
   },
   "outputs": [
    {
     "data": {
      "text/html": [
       "<div>\n",
       "<style scoped>\n",
       "    .dataframe tbody tr th:only-of-type {\n",
       "        vertical-align: middle;\n",
       "    }\n",
       "\n",
       "    .dataframe tbody tr th {\n",
       "        vertical-align: top;\n",
       "    }\n",
       "\n",
       "    .dataframe thead th {\n",
       "        text-align: right;\n",
       "    }\n",
       "</style>\n",
       "<table border=\"1\" class=\"dataframe\">\n",
       "  <thead>\n",
       "    <tr style=\"text-align: right;\">\n",
       "      <th></th>\n",
       "      <th>RECORD_TIME</th>\n",
       "    </tr>\n",
       "  </thead>\n",
       "  <tbody>\n",
       "    <tr>\n",
       "      <th>0</th>\n",
       "      <td>2021-10-16 10:00</td>\n",
       "    </tr>\n",
       "    <tr>\n",
       "      <th>1</th>\n",
       "      <td>2021-10-16 09:30</td>\n",
       "    </tr>\n",
       "  </tbody>\n",
       "</table>\n",
       "</div>"
      ],
      "text/plain": [
       "        RECORD_TIME\n",
       "0  2021-10-16 10:00\n",
       "1  2021-10-16 09:30"
      ]
     },
     "execution_count": 3,
     "metadata": {},
     "output_type": "execute_result"
    }
   ],
   "source": [
    "timestamps"
   ]
  },
  {
   "cell_type": "code",
   "execution_count": 4,
   "id": "alternate-victory",
   "metadata": {
    "execution": {
     "iopub.execute_input": "2021-10-16T08:00:08.679176Z",
     "iopub.status.busy": "2021-10-16T08:00:08.676979Z",
     "iopub.status.idle": "2021-10-16T08:00:09.469724Z",
     "shell.execute_reply": "2021-10-16T08:00:09.471155Z"
    },
    "papermill": {
     "duration": 0.82312,
     "end_time": "2021-10-16T08:00:09.471605",
     "exception": false,
     "start_time": "2021-10-16T08:00:08.648485",
     "status": "completed"
    },
    "tags": []
   },
   "outputs": [],
   "source": [
    "df = pd.read_sql(\"select * from EBAY_TOP_BERLIN where record_time in (select distinct record_time from EBAY_TOP_BERLIN order by record_time desc limit 2)\", sqlite3.connect(\"UsedObjects.db\"))"
   ]
  },
  {
   "cell_type": "code",
   "execution_count": 5,
   "id": "popular-active",
   "metadata": {
    "execution": {
     "iopub.execute_input": "2021-10-16T08:00:09.543622Z",
     "iopub.status.busy": "2021-10-16T08:00:09.530772Z",
     "iopub.status.idle": "2021-10-16T08:00:09.559629Z",
     "shell.execute_reply": "2021-10-16T08:00:09.561022Z"
    },
    "papermill": {
     "duration": 0.068719,
     "end_time": "2021-10-16T08:00:09.561459",
     "exception": false,
     "start_time": "2021-10-16T08:00:09.492740",
     "status": "completed"
    },
    "tags": []
   },
   "outputs": [],
   "source": [
    "df_pivot = df.pivot_table(index=\"PRODUCT\", columns = \"RECORD_TIME\", values = \"LISTING_COUNT\")"
   ]
  },
  {
   "cell_type": "code",
   "execution_count": 6,
   "id": "union-huntington",
   "metadata": {
    "execution": {
     "iopub.execute_input": "2021-10-16T08:00:09.619294Z",
     "iopub.status.busy": "2021-10-16T08:00:09.617075Z",
     "iopub.status.idle": "2021-10-16T08:00:09.622562Z",
     "shell.execute_reply": "2021-10-16T08:00:09.623949Z"
    },
    "papermill": {
     "duration": 0.04116,
     "end_time": "2021-10-16T08:00:09.624399",
     "exception": false,
     "start_time": "2021-10-16T08:00:09.583239",
     "status": "completed"
    },
    "tags": []
   },
   "outputs": [],
   "source": [
    "df_pivot.columns = [\"stamp_1\", \"stamp_2\"]\n",
    "df_pivot_diff = df_pivot.diff(axis=1)"
   ]
  },
  {
   "cell_type": "code",
   "execution_count": 7,
   "id": "fifth-motion",
   "metadata": {
    "execution": {
     "iopub.execute_input": "2021-10-16T08:00:09.680040Z",
     "iopub.status.busy": "2021-10-16T08:00:09.677321Z",
     "iopub.status.idle": "2021-10-16T08:00:11.176292Z",
     "shell.execute_reply": "2021-10-16T08:00:11.177601Z"
    },
    "papermill": {
     "duration": 1.533078,
     "end_time": "2021-10-16T08:00:11.178047",
     "exception": false,
     "start_time": "2021-10-16T08:00:09.644969",
     "status": "completed"
    },
    "tags": []
   },
   "outputs": [
    {
     "data": {
      "text/plain": [
       "<AxesSubplot:ylabel='PRODUCT'>"
      ]
     },
     "execution_count": 7,
     "metadata": {},
     "output_type": "execute_result"
    },
    {
     "data": {
      "image/png": "[encoded data removed]",
      "text/plain": [
       "<Figure size 432x288 with 1 Axes>"
      ]
     },
     "metadata": {
      "needs_background": "light"
     },
     "output_type": "display_data"
    }
   ],
   "source": [
    "df_pivot_diff.sort_values(\"stamp_2\", ascending = False)[\"stamp_2\"].head(10).plot.barh()"
   ]
  },
  {
   "cell_type": "code",
   "execution_count": null,
   "id": "extra-executive",
   "metadata": {
    "papermill": {
     "duration": 0.022046,
     "end_time": "2021-10-16T08:00:11.226346",
     "exception": false,
     "start_time": "2021-10-16T08:00:11.204300",
     "status": "completed"
    },
    "tags": []
   },
   "outputs": [],
   "source": []
  }
 ],
 "metadata": {
  "kernelspec": {
   "display_name": "Python 3",
   "language": "python",
   "name": "python3"
  },
  "language_info": {
   "codemirror_mode": {
    "name": "ipython",
    "version": 3
   },
   "file_extension": ".py",
   "mimetype": "text/x-python",
   "name": "python",
   "nbconvert_exporter": "python",
   "pygments_lexer": "ipython3",
   "version": "3.9.5"
  },
  "papermill": {
   "default_parameters": {},
   "duration": 7.834038,
   "end_time": "2021-10-16T08:00:12.488133",
   "environment_variables": {},
   "exception": null,
   "input_path": "eBay_Overview.ipynb",
   "output_path": "eBay_Overview.ipynb",
   "parameters": {},
   "start_time": "2021-10-16T08:00:04.654095",
   "version": "2.3.3"
  }
 },
 "nbformat": 4,
 "nbformat_minor": 5
}