{
 "cells": [
  {
   "cell_type": "code",
   "execution_count": 1,
   "id": "reverse-picking",
   "metadata": {
    "execution": {
     "iopub.execute_input": "2021-09-01T10:00:07.132041Z",
     "iopub.status.busy": "2021-09-01T10:00:07.129955Z",
     "iopub.status.idle": "2021-09-01T10:00:07.930199Z",
     "shell.execute_reply": "2021-09-01T10:00:07.931558Z"
    },
    "papermill": {
     "duration": 0.851479,
     "end_time": "2021-09-01T10:00:07.932194",
     "exception": false,
     "start_time": "2021-09-01T10:00:07.080715",
     "status": "completed"
    },
    "tags": []
   },
   "outputs": [],
   "source": [
    "import pandas as pd\n",
    "import sqlite3"
   ]
  },
  {
   "cell_type": "code",
   "execution_count": 2,
   "id": "innovative-syndrome",
   "metadata": {
    "execution": {
     "iopub.execute_input": "2021-09-01T10:00:07.984088Z",
     "iopub.status.busy": "2021-09-01T10:00:07.982122Z",
     "iopub.status.idle": "2021-09-01T10:00:08.158990Z",
     "shell.execute_reply": "2021-09-01T10:00:08.160142Z"
    },
    "papermill": {
     "duration": 0.206048,
     "end_time": "2021-09-01T10:00:08.160558",
     "exception": false,
     "start_time": "2021-09-01T10:00:07.954510",
     "status": "completed"
    },
    "tags": []
   },
   "outputs": [],
   "source": [
    "timestamps = pd.read_sql(\"select distinct record_time from EBAY_TOP_BERLIN order by record_time desc limit 2\", sqlite3.connect(\"UsedObjects.db\"))"
   ]
  },
  {
   "cell_type": "code",
   "execution_count": 3,
   "id": "periodic-identification",
   "metadata": {
    "execution": {
     "iopub.execute_input": "2021-09-01T10:00:08.228628Z",
     "iopub.status.busy": "2021-09-01T10:00:08.226548Z",
     "iopub.status.idle": "2021-09-01T10:00:08.246736Z",
     "shell.execute_reply": "2021-09-01T10:00:08.248085Z"
    },
    "papermill": {
     "duration": 0.065428,
     "end_time": "2021-09-01T10:00:08.248542",
     "exception": false,
     "start_time": "2021-09-01T10:00:08.183114",
     "status": "completed"
    },
    "tags": []
   },
   "outputs": [
    {
     "data": {
      "text/html": [
       "<div>\n",
       "<style scoped>\n",
       "    .dataframe tbody tr th:only-of-type {\n",
       "        vertical-align: middle;\n",
       "    }\n",
       "\n",
       "    .dataframe tbody tr th {\n",
       "        vertical-align: top;\n",
       "    }\n",
       "\n",
       "    .dataframe thead th {\n",
       "        text-align: right;\n",
       "    }\n",
       "</style>\n",
       "<table border=\"1\" class=\"dataframe\">\n",
       "  <thead>\n",
       "    <tr style=\"text-align: right;\">\n",
       "      <th></th>\n",
       "      <th>RECORD_TIME</th>\n",
       "    </tr>\n",
       "  </thead>\n",
       "  <tbody>\n",
       "    <tr>\n",
       "      <th>0</th>\n",
       "      <td>2021-09-01 12:00</td>\n",
       "    </tr>\n",
       "    <tr>\n",
       "      <th>1</th>\n",
       "      <td>2021-09-01 11:30</td>\n",
       "    </tr>\n",
       "  </tbody>\n",
       "</table>\n",
       "</div>"
      ],
      "text/plain": [
       "        RECORD_TIME\n",
       "0  2021-09-01 12:00\n",
       "1  2021-09-01 11:30"
      ]
     },
     "execution_count": 3,
     "metadata": {},
     "output_type": "execute_result"
    }
   ],
   "source": [
    "timestamps"
   ]
  },
  {
   "cell_type": "code",
   "execution_count": 4,
   "id": "alternate-victory",
   "metadata": {
    "execution": {
     "iopub.execute_input": "2021-09-01T10:00:08.300493Z",
     "iopub.status.busy": "2021-09-01T10:00:08.298570Z",
     "iopub.status.idle": "2021-09-01T10:00:08.558054Z",
     "shell.execute_reply": "2021-09-01T10:00:08.559332Z"
    },
    "papermill": {
     "duration": 0.289366,
     "end_time": "2021-09-01T10:00:08.559739",
     "exception": false,
     "start_time": "2021-09-01T10:00:08.270373",
     "status": "completed"
    },
    "tags": []
   },
   "outputs": [],
   "source": [
    "df = pd.read_sql(\"select * from EBAY_TOP_BERLIN where record_time in (select distinct record_time from EBAY_TOP_BERLIN order by record_time desc limit 2)\", sqlite3.connect(\"UsedObjects.db\"))"
   ]
  },
  {
   "cell_type": "code",
   "execution_count": 5,
   "id": "popular-active",
   "metadata": {
    "execution": {
     "iopub.execute_input": "2021-09-01T10:00:08.640231Z",
     "iopub.status.busy": "2021-09-01T10:00:08.627995Z",
     "iopub.status.idle": "2021-09-01T10:00:08.655878Z",
     "shell.execute_reply": "2021-09-01T10:00:08.657178Z"
    },
    "papermill": {
     "duration": 0.07058,
     "end_time": "2021-09-01T10:00:08.657593",
     "exception": false,
     "start_time": "2021-09-01T10:00:08.587013",
     "status": "completed"
    },
    "tags": []
   },
   "outputs": [],
   "source": [
    "df_pivot = df.pivot_table(index=\"PRODUCT\", columns = \"RECORD_TIME\", values = \"LISTING_COUNT\")"
   ]
  },
  {
   "cell_type": "code",
   "execution_count": 6,
   "id": "union-huntington",
   "metadata": {
    "execution": {
     "iopub.execute_input": "2021-09-01T10:00:08.713902Z",
     "iopub.status.busy": "2021-09-01T10:00:08.711875Z",
     "iopub.status.idle": "2021-09-01T10:00:08.717080Z",
     "shell.execute_reply": "2021-09-01T10:00:08.718376Z"
    },
    "papermill": {
     "duration": 0.040125,
     "end_time": "2021-09-01T10:00:08.718794",
     "exception": false,
     "start_time": "2021-09-01T10:00:08.678669",
     "status": "completed"
    },
    "tags": []
   },
   "outputs": [],
   "source": [
    "df_pivot.columns = [\"stamp_1\", \"stamp_2\"]\n",
    "df_pivot_diff = df_pivot.diff(axis=1)"
   ]
  },
  {
   "cell_type": "code",
   "execution_count": 7,
   "id": "fifth-motion",
   "metadata": {
    "execution": {
     "iopub.execute_input": "2021-09-01T10:00:08.776093Z",
     "iopub.status.busy": "2021-09-01T10:00:08.773415Z",
     "iopub.status.idle": "2021-09-01T10:00:10.274169Z",
     "shell.execute_reply": "2021-09-01T10:00:10.276296Z"
    },
    "papermill": {
     "duration": 1.535198,
     "end_time": "2021-09-01T10:00:10.276882",
     "exception": false,
     "start_time": "2021-09-01T10:00:08.741684",
     "status": "completed"
    },
    "tags": []
   },
   "outputs": [
    {
     "data": {
      "text/plain": [
       "<AxesSubplot:ylabel='PRODUCT'>"
      ]
     },
     "execution_count": 7,
     "metadata": {},
     "output_type": "execute_result"
    },
    {
     "data": {
      "image/png": "[encoded data removed]",
      "text/plain": [
       "<Figure size 432x288 with 1 Axes>"
      ]
     },
     "metadata": {
      "needs_background": "light"
     },
     "output_type": "display_data"
    }
   ],
   "source": [
    "df_pivot_diff.sort_values(\"stamp_2\", ascending = False)[\"stamp_2\"].head(10).plot.barh()"
   ]
  },
  {
   "cell_type": "code",
   "execution_count": null,
   "id": "extra-executive",
   "metadata": {
    "papermill": {
     "duration": 0.02239,
     "end_time": "2021-09-01T10:00:10.323516",
     "exception": false,
     "start_time": "2021-09-01T10:00:10.301126",
     "status": "completed"
    },
    "tags": []
   },
   "outputs": [],
   "source": []
  }
 ],
 "metadata": {
  "kernelspec": {
   "display_name": "Python 3",
   "language": "python",
   "name": "python3"
  },
  "language_info": {
   "codemirror_mode": {
    "name": "ipython",
    "version": 3
   },
   "file_extension": ".py",
   "mimetype": "text/x-python",
   "name": "python",
   "nbconvert_exporter": "python",
   "pygments_lexer": "ipython3",
   "version": "3.9.5"
  },
  "papermill": {
   "default_parameters": {},
   "duration": 6.820233,
   "end_time": "2021-09-01T10:00:11.500146",
   "environment_variables": {},
   "exception": null,
   "input_path": "eBay_Overview.ipynb",
   "output_path": "eBay_Overview.ipynb",
   "parameters": {},
   "start_time": "2021-09-01T10:00:04.679913",
   "version": "2.3.3"
  }
 },
 "nbformat": 4,
 "nbformat_minor": 5
}