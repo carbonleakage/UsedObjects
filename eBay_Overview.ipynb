{
 "cells": [
  {
   "cell_type": "code",
   "execution_count": 1,
   "id": "reverse-picking",
   "metadata": {
    "execution": {
     "iopub.execute_input": "2021-08-11T01:00:03.882269Z",
     "iopub.status.busy": "2021-08-11T01:00:03.881373Z",
     "iopub.status.idle": "2021-08-11T01:00:04.497989Z",
     "shell.execute_reply": "2021-08-11T01:00:04.497306Z"
    },
    "papermill": {
     "duration": 0.637859,
     "end_time": "2021-08-11T01:00:04.498174",
     "exception": false,
     "start_time": "2021-08-11T01:00:03.860315",
     "status": "completed"
    },
    "tags": []
   },
   "outputs": [],
   "source": [
    "import pandas as pd\n",
    "import sqlite3"
   ]
  },
  {
   "cell_type": "code",
   "execution_count": 2,
   "id": "innovative-syndrome",
   "metadata": {
    "execution": {
     "iopub.execute_input": "2021-08-11T01:00:04.520525Z",
     "iopub.status.busy": "2021-08-11T01:00:04.519696Z",
     "iopub.status.idle": "2021-08-11T01:00:04.784128Z",
     "shell.execute_reply": "2021-08-11T01:00:04.783508Z"
    },
    "papermill": {
     "duration": 0.277753,
     "end_time": "2021-08-11T01:00:04.784280",
     "exception": false,
     "start_time": "2021-08-11T01:00:04.506527",
     "status": "completed"
    },
    "tags": []
   },
   "outputs": [],
   "source": [
    "timestamps = pd.read_sql(\"select distinct record_time from EBAY_TOP_BERLIN order by record_time desc limit 2\", sqlite3.connect(\"UsedObjects.db\"))"
   ]
  },
  {
   "cell_type": "code",
   "execution_count": 3,
   "id": "periodic-identification",
   "metadata": {
    "execution": {
     "iopub.execute_input": "2021-08-11T01:00:04.811709Z",
     "iopub.status.busy": "2021-08-11T01:00:04.810914Z",
     "iopub.status.idle": "2021-08-11T01:00:04.826019Z",
     "shell.execute_reply": "2021-08-11T01:00:04.826590Z"
    },
    "papermill": {
     "duration": 0.034425,
     "end_time": "2021-08-11T01:00:04.826785",
     "exception": false,
     "start_time": "2021-08-11T01:00:04.792360",
     "status": "completed"
    },
    "tags": []
   },
   "outputs": [
    {
     "data": {
      "text/html": [
       "<div>\n",
       "<style scoped>\n",
       "    .dataframe tbody tr th:only-of-type {\n",
       "        vertical-align: middle;\n",
       "    }\n",
       "\n",
       "    .dataframe tbody tr th {\n",
       "        vertical-align: top;\n",
       "    }\n",
       "\n",
       "    .dataframe thead th {\n",
       "        text-align: right;\n",
       "    }\n",
       "</style>\n",
       "<table border=\"1\" class=\"dataframe\">\n",
       "  <thead>\n",
       "    <tr style=\"text-align: right;\">\n",
       "      <th></th>\n",
       "      <th>RECORD_TIME</th>\n",
       "    </tr>\n",
       "  </thead>\n",
       "  <tbody>\n",
       "    <tr>\n",
       "      <th>0</th>\n",
       "      <td>2021-08-11 03:00</td>\n",
       "    </tr>\n",
       "    <tr>\n",
       "      <th>1</th>\n",
       "      <td>2021-08-11 02:30</td>\n",
       "    </tr>\n",
       "  </tbody>\n",
       "</table>\n",
       "</div>"
      ],
      "text/plain": [
       "        RECORD_TIME\n",
       "0  2021-08-11 03:00\n",
       "1  2021-08-11 02:30"
      ]
     },
     "execution_count": 3,
     "metadata": {},
     "output_type": "execute_result"
    }
   ],
   "source": [
    "timestamps"
   ]
  },
  {
   "cell_type": "code",
   "execution_count": 4,
   "id": "alternate-victory",
   "metadata": {
    "execution": {
     "iopub.execute_input": "2021-08-11T01:00:04.855087Z",
     "iopub.status.busy": "2021-08-11T01:00:04.854171Z",
     "iopub.status.idle": "2021-08-11T01:00:04.875984Z",
     "shell.execute_reply": "2021-08-11T01:00:04.875328Z"
    },
    "papermill": {
     "duration": 0.038929,
     "end_time": "2021-08-11T01:00:04.876163",
     "exception": false,
     "start_time": "2021-08-11T01:00:04.837234",
     "status": "completed"
    },
    "tags": []
   },
   "outputs": [],
   "source": [
    "df = pd.read_sql(\"select * from EBAY_TOP_BERLIN where record_time in (select distinct record_time from EBAY_TOP_BERLIN order by record_time desc limit 2)\", sqlite3.connect(\"UsedObjects.db\"))"
   ]
  },
  {
   "cell_type": "code",
   "execution_count": 5,
   "id": "popular-active",
   "metadata": {
    "execution": {
     "iopub.execute_input": "2021-08-11T01:00:04.902903Z",
     "iopub.status.busy": "2021-08-11T01:00:04.901969Z",
     "iopub.status.idle": "2021-08-11T01:00:04.919097Z",
     "shell.execute_reply": "2021-08-11T01:00:04.918483Z"
    },
    "papermill": {
     "duration": 0.034356,
     "end_time": "2021-08-11T01:00:04.919258",
     "exception": false,
     "start_time": "2021-08-11T01:00:04.884902",
     "status": "completed"
    },
    "tags": []
   },
   "outputs": [],
   "source": [
    "df_pivot = df.pivot_table(index=\"PRODUCT\", columns = \"RECORD_TIME\", values = \"LISTING_COUNT\")"
   ]
  },
  {
   "cell_type": "code",
   "execution_count": 6,
   "id": "union-huntington",
   "metadata": {
    "execution": {
     "iopub.execute_input": "2021-08-11T01:00:04.949370Z",
     "iopub.status.busy": "2021-08-11T01:00:04.948683Z",
     "iopub.status.idle": "2021-08-11T01:00:04.953129Z",
     "shell.execute_reply": "2021-08-11T01:00:04.953662Z"
    },
    "papermill": {
     "duration": 0.024567,
     "end_time": "2021-08-11T01:00:04.953847",
     "exception": false,
     "start_time": "2021-08-11T01:00:04.929280",
     "status": "completed"
    },
    "tags": []
   },
   "outputs": [],
   "source": [
    "df_pivot.columns = [\"stamp_1\", \"stamp_2\"]\n",
    "df_pivot_diff = df_pivot.diff(axis=1)"
   ]
  },
  {
   "cell_type": "code",
   "execution_count": 7,
   "id": "fifth-motion",
   "metadata": {
    "execution": {
     "iopub.execute_input": "2021-08-11T01:00:04.984609Z",
     "iopub.status.busy": "2021-08-11T01:00:04.983847Z",
     "iopub.status.idle": "2021-08-11T01:00:05.679958Z",
     "shell.execute_reply": "2021-08-11T01:00:05.680530Z"
    },
    "papermill": {
     "duration": 0.718037,
     "end_time": "2021-08-11T01:00:05.680726",
     "exception": false,
     "start_time": "2021-08-11T01:00:04.962689",
     "status": "completed"
    },
    "tags": []
   },
   "outputs": [
    {
     "data": {
      "text/plain": [
       "<AxesSubplot:ylabel='PRODUCT'>"
      ]
     },
     "execution_count": 7,
     "metadata": {},
     "output_type": "execute_result"
    },
    {
     "data": {
      "image/png": "[encoded data removed]",
      "text/plain": [
       "<Figure size 432x288 with 1 Axes>"
      ]
     },
     "metadata": {
      "needs_background": "light"
     },
     "output_type": "display_data"
    }
   ],
   "source": [
    "df_pivot_diff.sort_values(\"stamp_2\", ascending = False)[\"stamp_2\"].head(10).plot.barh()"
   ]
  },
  {
   "cell_type": "code",
   "execution_count": null,
   "id": "extra-executive",
   "metadata": {
    "papermill": {
     "duration": 0.011598,
     "end_time": "2021-08-11T01:00:05.707283",
     "exception": false,
     "start_time": "2021-08-11T01:00:05.695685",
     "status": "completed"
    },
    "tags": []
   },
   "outputs": [],
   "source": []
  }
 ],
 "metadata": {
  "kernelspec": {
   "display_name": "Python 3",
   "language": "python",
   "name": "python3"
  },
  "language_info": {
   "codemirror_mode": {
    "name": "ipython",
    "version": 3
   },
   "file_extension": ".py",
   "mimetype": "text/x-python",
   "name": "python",
   "nbconvert_exporter": "python",
   "pygments_lexer": "ipython3",
   "version": "3.8.8"
  },
  "papermill": {
   "default_parameters": {},
   "duration": 4.227628,
   "end_time": "2021-08-11T01:00:06.406158",
   "environment_variables": {},
   "exception": null,
   "input_path": "/Users/saravananshanmugam/Carbonleakage_Git/UsedObjects/eBay_Overview.ipynb",
   "output_path": "/Users/saravananshanmugam/Carbonleakage_Git/UsedObjects/eBay_Overview.ipynb",
   "parameters": {},
   "start_time": "2021-08-11T01:00:02.178530",
   "version": "2.3.3"
  }
 },
 "nbformat": 4,
 "nbformat_minor": 5
}