{
 "cells": [
  {
   "cell_type": "code",
   "execution_count": 1,
   "id": "reverse-picking",
   "metadata": {
    "execution": {
     "iopub.execute_input": "2021-12-01T09:00:08.107752Z",
     "iopub.status.busy": "2021-12-01T09:00:08.105455Z",
     "iopub.status.idle": "2021-12-01T09:00:09.064910Z",
     "shell.execute_reply": "2021-12-01T09:00:09.068477Z"
    },
    "papermill": {
     "duration": 1.010702,
     "end_time": "2021-12-01T09:00:09.069656",
     "exception": false,
     "start_time": "2021-12-01T09:00:08.058954",
     "status": "completed"
    },
    "tags": []
   },
   "outputs": [],
   "source": [
    "import pandas as pd\n",
    "import sqlite3"
   ]
  },
  {
   "cell_type": "code",
   "execution_count": 2,
   "id": "innovative-syndrome",
   "metadata": {
    "execution": {
     "iopub.execute_input": "2021-12-01T09:00:09.140836Z",
     "iopub.status.busy": "2021-12-01T09:00:09.138608Z",
     "iopub.status.idle": "2021-12-01T09:00:10.077198Z",
     "shell.execute_reply": "2021-12-01T09:00:10.078533Z"
    },
    "papermill": {
     "duration": 0.972773,
     "end_time": "2021-12-01T09:00:10.078939",
     "exception": false,
     "start_time": "2021-12-01T09:00:09.106166",
     "status": "completed"
    },
    "tags": []
   },
   "outputs": [],
   "source": [
    "timestamps = pd.read_sql(\"select distinct record_time from EBAY_TOP_BERLIN order by record_time desc limit 2\", sqlite3.connect(\"UsedObjects.db\"))"
   ]
  },
  {
   "cell_type": "code",
   "execution_count": 3,
   "id": "periodic-identification",
   "metadata": {
    "execution": {
     "iopub.execute_input": "2021-12-01T09:00:10.143545Z",
     "iopub.status.busy": "2021-12-01T09:00:10.141516Z",
     "iopub.status.idle": "2021-12-01T09:00:10.161468Z",
     "shell.execute_reply": "2021-12-01T09:00:10.162864Z"
    },
    "papermill": {
     "duration": 0.064953,
     "end_time": "2021-12-01T09:00:10.163353",
     "exception": false,
     "start_time": "2021-12-01T09:00:10.098400",
     "status": "completed"
    },
    "tags": []
   },
   "outputs": [
    {
     "data": {
      "text/html": [
       "<div>\n",
       "<style scoped>\n",
       "    .dataframe tbody tr th:only-of-type {\n",
       "        vertical-align: middle;\n",
       "    }\n",
       "\n",
       "    .dataframe tbody tr th {\n",
       "        vertical-align: top;\n",
       "    }\n",
       "\n",
       "    .dataframe thead th {\n",
       "        text-align: right;\n",
       "    }\n",
       "</style>\n",
       "<table border=\"1\" class=\"dataframe\">\n",
       "  <thead>\n",
       "    <tr style=\"text-align: right;\">\n",
       "      <th></th>\n",
       "      <th>RECORD_TIME</th>\n",
       "    </tr>\n",
       "  </thead>\n",
       "  <tbody>\n",
       "    <tr>\n",
       "      <th>0</th>\n",
       "      <td>2021-12-01 10:00</td>\n",
       "    </tr>\n",
       "    <tr>\n",
       "      <th>1</th>\n",
       "      <td>2021-12-01 09:30</td>\n",
       "    </tr>\n",
       "  </tbody>\n",
       "</table>\n",
       "</div>"
      ],
      "text/plain": [
       "        RECORD_TIME\n",
       "0  2021-12-01 10:00\n",
       "1  2021-12-01 09:30"
      ]
     },
     "execution_count": 3,
     "metadata": {},
     "output_type": "execute_result"
    }
   ],
   "source": [
    "timestamps"
   ]
  },
  {
   "cell_type": "code",
   "execution_count": 4,
   "id": "alternate-victory",
   "metadata": {
    "execution": {
     "iopub.execute_input": "2021-12-01T09:00:10.219030Z",
     "iopub.status.busy": "2021-12-01T09:00:10.216800Z",
     "iopub.status.idle": "2021-12-01T09:00:11.602720Z",
     "shell.execute_reply": "2021-12-01T09:00:11.604563Z"
    },
    "papermill": {
     "duration": 1.418925,
     "end_time": "2021-12-01T09:00:11.605192",
     "exception": false,
     "start_time": "2021-12-01T09:00:10.186267",
     "status": "completed"
    },
    "tags": []
   },
   "outputs": [],
   "source": [
    "df = pd.read_sql(\"select * from EBAY_TOP_BERLIN where record_time in (select distinct record_time from EBAY_TOP_BERLIN order by record_time desc limit 2)\", sqlite3.connect(\"UsedObjects.db\"))"
   ]
  },
  {
   "cell_type": "code",
   "execution_count": 5,
   "id": "popular-active",
   "metadata": {
    "execution": {
     "iopub.execute_input": "2021-12-01T09:00:11.676875Z",
     "iopub.status.busy": "2021-12-01T09:00:11.668604Z",
     "iopub.status.idle": "2021-12-01T09:00:11.699952Z",
     "shell.execute_reply": "2021-12-01T09:00:11.701485Z"
    },
    "papermill": {
     "duration": 0.073398,
     "end_time": "2021-12-01T09:00:11.701967",
     "exception": false,
     "start_time": "2021-12-01T09:00:11.628569",
     "status": "completed"
    },
    "tags": []
   },
   "outputs": [],
   "source": [
    "df_pivot = df.pivot_table(index=\"PRODUCT\", columns = \"RECORD_TIME\", values = \"LISTING_COUNT\")"
   ]
  },
  {
   "cell_type": "code",
   "execution_count": 6,
   "id": "union-huntington",
   "metadata": {
    "execution": {
     "iopub.execute_input": "2021-12-01T09:00:11.761073Z",
     "iopub.status.busy": "2021-12-01T09:00:11.759033Z",
     "iopub.status.idle": "2021-12-01T09:00:11.764924Z",
     "shell.execute_reply": "2021-12-01T09:00:11.766383Z"
    },
    "papermill": {
     "duration": 0.04505,
     "end_time": "2021-12-01T09:00:11.766920",
     "exception": false,
     "start_time": "2021-12-01T09:00:11.721870",
     "status": "completed"
    },
    "tags": []
   },
   "outputs": [],
   "source": [
    "df_pivot.columns = [\"stamp_1\", \"stamp_2\"]\n",
    "df_pivot_diff = df_pivot.diff(axis=1)"
   ]
  },
  {
   "cell_type": "code",
   "execution_count": 7,
   "id": "fifth-motion",
   "metadata": {
    "execution": {
     "iopub.execute_input": "2021-12-01T09:00:11.825245Z",
     "iopub.status.busy": "2021-12-01T09:00:11.822703Z",
     "iopub.status.idle": "2021-12-01T09:00:13.814438Z",
     "shell.execute_reply": "2021-12-01T09:00:13.816018Z"
    },
    "papermill": {
     "duration": 2.028067,
     "end_time": "2021-12-01T09:00:13.816571",
     "exception": false,
     "start_time": "2021-12-01T09:00:11.788504",
     "status": "completed"
    },
    "tags": []
   },
   "outputs": [
    {
     "data": {
      "text/plain": [
       "<AxesSubplot:ylabel='PRODUCT'>"
      ]
     },
     "execution_count": 7,
     "metadata": {},
     "output_type": "execute_result"
    },
    {
     "data": {
      "image/png": "[encoded data removed]",
      "text/plain": [
       "<Figure size 432x288 with 1 Axes>"
      ]
     },
     "metadata": {
      "needs_background": "light"
     },
     "output_type": "display_data"
    }
   ],
   "source": [
    "df_pivot_diff.sort_values(\"stamp_2\", ascending = False)[\"stamp_2\"].head(10).plot.barh()"
   ]
  },
  {
   "cell_type": "code",
   "execution_count": null,
   "id": "extra-executive",
   "metadata": {
    "papermill": {
     "duration": 0.022039,
     "end_time": "2021-12-01T09:00:13.864002",
     "exception": false,
     "start_time": "2021-12-01T09:00:13.841963",
     "status": "completed"
    },
    "tags": []
   },
   "outputs": [],
   "source": []
  }
 ],
 "metadata": {
  "kernelspec": {
   "display_name": "Python 3",
   "language": "python",
   "name": "python3"
  },
  "language_info": {
   "codemirror_mode": {
    "name": "ipython",
    "version": 3
   },
   "file_extension": ".py",
   "mimetype": "text/x-python",
   "name": "python",
   "nbconvert_exporter": "python",
   "pygments_lexer": "ipython3",
   "version": "3.9.5"
  },
  "papermill": {
   "default_parameters": {},
   "duration": 9.934181,
   "end_time": "2021-12-01T09:00:15.267966",
   "environment_variables": {},
   "exception": null,
   "input_path": "eBay_Overview.ipynb",
   "output_path": "eBay_Overview.ipynb",
   "parameters": {},
   "start_time": "2021-12-01T09:00:05.333785",
   "version": "2.3.3"
  }
 },
 "nbformat": 4,
 "nbformat_minor": 5
}