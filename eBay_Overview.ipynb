{
 "cells": [
  {
   "cell_type": "code",
   "execution_count": 1,
   "id": "reverse-picking",
   "metadata": {
    "execution": {
     "iopub.execute_input": "2021-09-06T23:30:07.204830Z",
     "iopub.status.busy": "2021-09-06T23:30:07.202726Z",
     "iopub.status.idle": "2021-09-06T23:30:08.010582Z",
     "shell.execute_reply": "2021-09-06T23:30:08.012089Z"
    },
    "papermill": {
     "duration": 0.85865,
     "end_time": "2021-09-06T23:30:08.012888",
     "exception": false,
     "start_time": "2021-09-06T23:30:07.154238",
     "status": "completed"
    },
    "tags": []
   },
   "outputs": [],
   "source": [
    "import pandas as pd\n",
    "import sqlite3"
   ]
  },
  {
   "cell_type": "code",
   "execution_count": 2,
   "id": "innovative-syndrome",
   "metadata": {
    "execution": {
     "iopub.execute_input": "2021-09-06T23:30:08.064227Z",
     "iopub.status.busy": "2021-09-06T23:30:08.061824Z",
     "iopub.status.idle": "2021-09-06T23:30:08.284333Z",
     "shell.execute_reply": "2021-09-06T23:30:08.285530Z"
    },
    "papermill": {
     "duration": 0.252265,
     "end_time": "2021-09-06T23:30:08.285930",
     "exception": false,
     "start_time": "2021-09-06T23:30:08.033665",
     "status": "completed"
    },
    "tags": []
   },
   "outputs": [],
   "source": [
    "timestamps = pd.read_sql(\"select distinct record_time from EBAY_TOP_BERLIN order by record_time desc limit 2\", sqlite3.connect(\"UsedObjects.db\"))"
   ]
  },
  {
   "cell_type": "code",
   "execution_count": 3,
   "id": "periodic-identification",
   "metadata": {
    "execution": {
     "iopub.execute_input": "2021-09-06T23:30:08.350041Z",
     "iopub.status.busy": "2021-09-06T23:30:08.348019Z",
     "iopub.status.idle": "2021-09-06T23:30:08.367775Z",
     "shell.execute_reply": "2021-09-06T23:30:08.369041Z"
    },
    "papermill": {
     "duration": 0.064265,
     "end_time": "2021-09-06T23:30:08.369442",
     "exception": false,
     "start_time": "2021-09-06T23:30:08.305177",
     "status": "completed"
    },
    "tags": []
   },
   "outputs": [
    {
     "data": {
      "text/html": [
       "<div>\n",
       "<style scoped>\n",
       "    .dataframe tbody tr th:only-of-type {\n",
       "        vertical-align: middle;\n",
       "    }\n",
       "\n",
       "    .dataframe tbody tr th {\n",
       "        vertical-align: top;\n",
       "    }\n",
       "\n",
       "    .dataframe thead th {\n",
       "        text-align: right;\n",
       "    }\n",
       "</style>\n",
       "<table border=\"1\" class=\"dataframe\">\n",
       "  <thead>\n",
       "    <tr style=\"text-align: right;\">\n",
       "      <th></th>\n",
       "      <th>RECORD_TIME</th>\n",
       "    </tr>\n",
       "  </thead>\n",
       "  <tbody>\n",
       "    <tr>\n",
       "      <th>0</th>\n",
       "      <td>2021-09-07 01:30</td>\n",
       "    </tr>\n",
       "    <tr>\n",
       "      <th>1</th>\n",
       "      <td>2021-09-07 01:00</td>\n",
       "    </tr>\n",
       "  </tbody>\n",
       "</table>\n",
       "</div>"
      ],
      "text/plain": [
       "        RECORD_TIME\n",
       "0  2021-09-07 01:30\n",
       "1  2021-09-07 01:00"
      ]
     },
     "execution_count": 3,
     "metadata": {},
     "output_type": "execute_result"
    }
   ],
   "source": [
    "timestamps"
   ]
  },
  {
   "cell_type": "code",
   "execution_count": 4,
   "id": "alternate-victory",
   "metadata": {
    "execution": {
     "iopub.execute_input": "2021-09-06T23:30:08.421254Z",
     "iopub.status.busy": "2021-09-06T23:30:08.419095Z",
     "iopub.status.idle": "2021-09-06T23:30:08.753266Z",
     "shell.execute_reply": "2021-09-06T23:30:08.754467Z"
    },
    "papermill": {
     "duration": 0.363939,
     "end_time": "2021-09-06T23:30:08.754914",
     "exception": false,
     "start_time": "2021-09-06T23:30:08.390975",
     "status": "completed"
    },
    "tags": []
   },
   "outputs": [],
   "source": [
    "df = pd.read_sql(\"select * from EBAY_TOP_BERLIN where record_time in (select distinct record_time from EBAY_TOP_BERLIN order by record_time desc limit 2)\", sqlite3.connect(\"UsedObjects.db\"))"
   ]
  },
  {
   "cell_type": "code",
   "execution_count": 5,
   "id": "popular-active",
   "metadata": {
    "execution": {
     "iopub.execute_input": "2021-09-06T23:30:08.840085Z",
     "iopub.status.busy": "2021-09-06T23:30:08.828590Z",
     "iopub.status.idle": "2021-09-06T23:30:08.856311Z",
     "shell.execute_reply": "2021-09-06T23:30:08.857681Z"
    },
    "papermill": {
     "duration": 0.074145,
     "end_time": "2021-09-06T23:30:08.858121",
     "exception": false,
     "start_time": "2021-09-06T23:30:08.783976",
     "status": "completed"
    },
    "tags": []
   },
   "outputs": [],
   "source": [
    "df_pivot = df.pivot_table(index=\"PRODUCT\", columns = \"RECORD_TIME\", values = \"LISTING_COUNT\")"
   ]
  },
  {
   "cell_type": "code",
   "execution_count": 6,
   "id": "union-huntington",
   "metadata": {
    "execution": {
     "iopub.execute_input": "2021-09-06T23:30:08.917753Z",
     "iopub.status.busy": "2021-09-06T23:30:08.915315Z",
     "iopub.status.idle": "2021-09-06T23:30:08.921209Z",
     "shell.execute_reply": "2021-09-06T23:30:08.922391Z"
    },
    "papermill": {
     "duration": 0.041697,
     "end_time": "2021-09-06T23:30:08.922820",
     "exception": false,
     "start_time": "2021-09-06T23:30:08.881123",
     "status": "completed"
    },
    "tags": []
   },
   "outputs": [],
   "source": [
    "df_pivot.columns = [\"stamp_1\", \"stamp_2\"]\n",
    "df_pivot_diff = df_pivot.diff(axis=1)"
   ]
  },
  {
   "cell_type": "code",
   "execution_count": 7,
   "id": "fifth-motion",
   "metadata": {
    "execution": {
     "iopub.execute_input": "2021-09-06T23:30:08.977085Z",
     "iopub.status.busy": "2021-09-06T23:30:08.974635Z",
     "iopub.status.idle": "2021-09-06T23:30:10.467838Z",
     "shell.execute_reply": "2021-09-06T23:30:10.469120Z"
    },
    "papermill": {
     "duration": 1.526396,
     "end_time": "2021-09-06T23:30:10.469534",
     "exception": false,
     "start_time": "2021-09-06T23:30:08.943138",
     "status": "completed"
    },
    "tags": []
   },
   "outputs": [
    {
     "data": {
      "text/plain": [
       "<AxesSubplot:ylabel='PRODUCT'>"
      ]
     },
     "execution_count": 7,
     "metadata": {},
     "output_type": "execute_result"
    },
    {
     "data": {
      "image/png": "[encoded data removed]",
      "text/plain": [
       "<Figure size 432x288 with 1 Axes>"
      ]
     },
     "metadata": {
      "needs_background": "light"
     },
     "output_type": "display_data"
    }
   ],
   "source": [
    "df_pivot_diff.sort_values(\"stamp_2\", ascending = False)[\"stamp_2\"].head(10).plot.barh()"
   ]
  },
  {
   "cell_type": "code",
   "execution_count": null,
   "id": "extra-executive",
   "metadata": {
    "papermill": {
     "duration": 0.021775,
     "end_time": "2021-09-06T23:30:10.515650",
     "exception": false,
     "start_time": "2021-09-06T23:30:10.493875",
     "status": "completed"
    },
    "tags": []
   },
   "outputs": [],
   "source": []
  }
 ],
 "metadata": {
  "kernelspec": {
   "display_name": "Python 3",
   "language": "python",
   "name": "python3"
  },
  "language_info": {
   "codemirror_mode": {
    "name": "ipython",
    "version": 3
   },
   "file_extension": ".py",
   "mimetype": "text/x-python",
   "name": "python",
   "nbconvert_exporter": "python",
   "pygments_lexer": "ipython3",
   "version": "3.9.5"
  },
  "papermill": {
   "default_parameters": {},
   "duration": 6.410519,
   "end_time": "2021-09-06T23:30:11.157662",
   "environment_variables": {},
   "exception": null,
   "input_path": "eBay_Overview.ipynb",
   "output_path": "eBay_Overview.ipynb",
   "parameters": {},
   "start_time": "2021-09-06T23:30:04.747143",
   "version": "2.3.3"
  }
 },
 "nbformat": 4,
 "nbformat_minor": 5
}