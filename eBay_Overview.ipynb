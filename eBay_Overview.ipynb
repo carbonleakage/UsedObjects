{
 "cells": [
  {
   "cell_type": "code",
   "execution_count": 1,
   "id": "reverse-picking",
   "metadata": {
    "execution": {
     "iopub.execute_input": "2021-11-18T22:30:07.767814Z",
     "iopub.status.busy": "2021-11-18T22:30:07.765611Z",
     "iopub.status.idle": "2021-11-18T22:30:08.705993Z",
     "shell.execute_reply": "2021-11-18T22:30:08.707520Z"
    },
    "papermill": {
     "duration": 0.988747,
     "end_time": "2021-11-18T22:30:08.708379",
     "exception": false,
     "start_time": "2021-11-18T22:30:07.719632",
     "status": "completed"
    },
    "tags": []
   },
   "outputs": [],
   "source": [
    "import pandas as pd\n",
    "import sqlite3"
   ]
  },
  {
   "cell_type": "code",
   "execution_count": 2,
   "id": "innovative-syndrome",
   "metadata": {
    "execution": {
     "iopub.execute_input": "2021-11-18T22:30:08.766958Z",
     "iopub.status.busy": "2021-11-18T22:30:08.764199Z",
     "iopub.status.idle": "2021-11-18T22:30:09.639846Z",
     "shell.execute_reply": "2021-11-18T22:30:09.641467Z"
    },
    "papermill": {
     "duration": 0.911938,
     "end_time": "2021-11-18T22:30:09.641974",
     "exception": false,
     "start_time": "2021-11-18T22:30:08.730036",
     "status": "completed"
    },
    "tags": []
   },
   "outputs": [],
   "source": [
    "timestamps = pd.read_sql(\"select distinct record_time from EBAY_TOP_BERLIN order by record_time desc limit 2\", sqlite3.connect(\"UsedObjects.db\"))"
   ]
  },
  {
   "cell_type": "code",
   "execution_count": 3,
   "id": "periodic-identification",
   "metadata": {
    "execution": {
     "iopub.execute_input": "2021-11-18T22:30:09.714883Z",
     "iopub.status.busy": "2021-11-18T22:30:09.712461Z",
     "iopub.status.idle": "2021-11-18T22:30:09.737576Z",
     "shell.execute_reply": "2021-11-18T22:30:09.739113Z"
    },
    "papermill": {
     "duration": 0.076318,
     "end_time": "2021-11-18T22:30:09.739589",
     "exception": false,
     "start_time": "2021-11-18T22:30:09.663271",
     "status": "completed"
    },
    "tags": []
   },
   "outputs": [
    {
     "data": {
      "text/html": [
       "<div>\n",
       "<style scoped>\n",
       "    .dataframe tbody tr th:only-of-type {\n",
       "        vertical-align: middle;\n",
       "    }\n",
       "\n",
       "    .dataframe tbody tr th {\n",
       "        vertical-align: top;\n",
       "    }\n",
       "\n",
       "    .dataframe thead th {\n",
       "        text-align: right;\n",
       "    }\n",
       "</style>\n",
       "<table border=\"1\" class=\"dataframe\">\n",
       "  <thead>\n",
       "    <tr style=\"text-align: right;\">\n",
       "      <th></th>\n",
       "      <th>RECORD_TIME</th>\n",
       "    </tr>\n",
       "  </thead>\n",
       "  <tbody>\n",
       "    <tr>\n",
       "      <th>0</th>\n",
       "      <td>2021-11-18 23:30</td>\n",
       "    </tr>\n",
       "    <tr>\n",
       "      <th>1</th>\n",
       "      <td>2021-11-18 23:00</td>\n",
       "    </tr>\n",
       "  </tbody>\n",
       "</table>\n",
       "</div>"
      ],
      "text/plain": [
       "        RECORD_TIME\n",
       "0  2021-11-18 23:30\n",
       "1  2021-11-18 23:00"
      ]
     },
     "execution_count": 3,
     "metadata": {},
     "output_type": "execute_result"
    }
   ],
   "source": [
    "timestamps"
   ]
  },
  {
   "cell_type": "code",
   "execution_count": 4,
   "id": "alternate-victory",
   "metadata": {
    "execution": {
     "iopub.execute_input": "2021-11-18T22:30:09.796418Z",
     "iopub.status.busy": "2021-11-18T22:30:09.794239Z",
     "iopub.status.idle": "2021-11-18T22:30:11.056481Z",
     "shell.execute_reply": "2021-11-18T22:30:11.058930Z"
    },
    "papermill": {
     "duration": 1.298125,
     "end_time": "2021-11-18T22:30:11.059425",
     "exception": false,
     "start_time": "2021-11-18T22:30:09.761300",
     "status": "completed"
    },
    "tags": []
   },
   "outputs": [],
   "source": [
    "df = pd.read_sql(\"select * from EBAY_TOP_BERLIN where record_time in (select distinct record_time from EBAY_TOP_BERLIN order by record_time desc limit 2)\", sqlite3.connect(\"UsedObjects.db\"))"
   ]
  },
  {
   "cell_type": "code",
   "execution_count": 5,
   "id": "popular-active",
   "metadata": {
    "execution": {
     "iopub.execute_input": "2021-11-18T22:30:11.120961Z",
     "iopub.status.busy": "2021-11-18T22:30:11.118913Z",
     "iopub.status.idle": "2021-11-18T22:30:11.159262Z",
     "shell.execute_reply": "2021-11-18T22:30:11.160863Z"
    },
    "papermill": {
     "duration": 0.079802,
     "end_time": "2021-11-18T22:30:11.161364",
     "exception": false,
     "start_time": "2021-11-18T22:30:11.081562",
     "status": "completed"
    },
    "tags": []
   },
   "outputs": [],
   "source": [
    "df_pivot = df.pivot_table(index=\"PRODUCT\", columns = \"RECORD_TIME\", values = \"LISTING_COUNT\")"
   ]
  },
  {
   "cell_type": "code",
   "execution_count": 6,
   "id": "union-huntington",
   "metadata": {
    "execution": {
     "iopub.execute_input": "2021-11-18T22:30:11.223558Z",
     "iopub.status.busy": "2021-11-18T22:30:11.221247Z",
     "iopub.status.idle": "2021-11-18T22:30:11.227035Z",
     "shell.execute_reply": "2021-11-18T22:30:11.228517Z"
    },
    "papermill": {
     "duration": 0.045773,
     "end_time": "2021-11-18T22:30:11.229081",
     "exception": false,
     "start_time": "2021-11-18T22:30:11.183308",
     "status": "completed"
    },
    "tags": []
   },
   "outputs": [],
   "source": [
    "df_pivot.columns = [\"stamp_1\", \"stamp_2\"]\n",
    "df_pivot_diff = df_pivot.diff(axis=1)"
   ]
  },
  {
   "cell_type": "code",
   "execution_count": 7,
   "id": "fifth-motion",
   "metadata": {
    "execution": {
     "iopub.execute_input": "2021-11-18T22:30:11.289742Z",
     "iopub.status.busy": "2021-11-18T22:30:11.287228Z",
     "iopub.status.idle": "2021-11-18T22:30:13.073237Z",
     "shell.execute_reply": "2021-11-18T22:30:13.074732Z"
    },
    "papermill": {
     "duration": 1.824751,
     "end_time": "2021-11-18T22:30:13.075241",
     "exception": false,
     "start_time": "2021-11-18T22:30:11.250490",
     "status": "completed"
    },
    "tags": []
   },
   "outputs": [
    {
     "data": {
      "text/plain": [
       "<AxesSubplot:ylabel='PRODUCT'>"
      ]
     },
     "execution_count": 7,
     "metadata": {},
     "output_type": "execute_result"
    },
    {
     "data": {
      "image/png": "[encoded data removed]",
      "text/plain": [
       "<Figure size 432x288 with 1 Axes>"
      ]
     },
     "metadata": {
      "needs_background": "light"
     },
     "output_type": "display_data"
    }
   ],
   "source": [
    "df_pivot_diff.sort_values(\"stamp_2\", ascending = False)[\"stamp_2\"].head(10).plot.barh()"
   ]
  },
  {
   "cell_type": "code",
   "execution_count": null,
   "id": "extra-executive",
   "metadata": {
    "papermill": {
     "duration": 0.025935,
     "end_time": "2021-11-18T22:30:13.127131",
     "exception": false,
     "start_time": "2021-11-18T22:30:13.101196",
     "status": "completed"
    },
    "tags": []
   },
   "outputs": [],
   "source": []
  }
 ],
 "metadata": {
  "kernelspec": {
   "display_name": "Python 3",
   "language": "python",
   "name": "python3"
  },
  "language_info": {
   "codemirror_mode": {
    "name": "ipython",
    "version": 3
   },
   "file_extension": ".py",
   "mimetype": "text/x-python",
   "name": "python",
   "nbconvert_exporter": "python",
   "pygments_lexer": "ipython3",
   "version": "3.9.5"
  },
  "papermill": {
   "default_parameters": {},
   "duration": 9.997295,
   "end_time": "2021-11-18T22:30:14.948259",
   "environment_variables": {},
   "exception": null,
   "input_path": "eBay_Overview.ipynb",
   "output_path": "eBay_Overview.ipynb",
   "parameters": {},
   "start_time": "2021-11-18T22:30:04.950964",
   "version": "2.3.3"
  }
 },
 "nbformat": 4,
 "nbformat_minor": 5
}