{
 "cells": [
  {
   "cell_type": "code",
   "execution_count": 1,
   "id": "reverse-picking",
   "metadata": {
    "execution": {
     "iopub.execute_input": "2021-12-08T01:30:07.677215Z",
     "iopub.status.busy": "2021-12-08T01:30:07.674812Z",
     "iopub.status.idle": "2021-12-08T01:30:08.628101Z",
     "shell.execute_reply": "2021-12-08T01:30:08.629960Z"
    },
    "papermill": {
     "duration": 1.00397,
     "end_time": "2021-12-08T01:30:08.630676",
     "exception": false,
     "start_time": "2021-12-08T01:30:07.626706",
     "status": "completed"
    },
    "tags": []
   },
   "outputs": [],
   "source": [
    "import pandas as pd\n",
    "import sqlite3"
   ]
  },
  {
   "cell_type": "code",
   "execution_count": 2,
   "id": "innovative-syndrome",
   "metadata": {
    "execution": {
     "iopub.execute_input": "2021-12-08T01:30:08.696820Z",
     "iopub.status.busy": "2021-12-08T01:30:08.694554Z",
     "iopub.status.idle": "2021-12-08T01:30:09.756430Z",
     "shell.execute_reply": "2021-12-08T01:30:09.758016Z"
    },
    "papermill": {
     "duration": 1.094403,
     "end_time": "2021-12-08T01:30:09.758492",
     "exception": false,
     "start_time": "2021-12-08T01:30:08.664089",
     "status": "completed"
    },
    "tags": []
   },
   "outputs": [],
   "source": [
    "timestamps = pd.read_sql(\"select distinct record_time from EBAY_TOP_BERLIN order by record_time desc limit 2\", sqlite3.connect(\"UsedObjects.db\"))"
   ]
  },
  {
   "cell_type": "code",
   "execution_count": 3,
   "id": "periodic-identification",
   "metadata": {
    "execution": {
     "iopub.execute_input": "2021-12-08T01:30:09.855684Z",
     "iopub.status.busy": "2021-12-08T01:30:09.853198Z",
     "iopub.status.idle": "2021-12-08T01:30:09.877234Z",
     "shell.execute_reply": "2021-12-08T01:30:09.878788Z"
    },
    "papermill": {
     "duration": 0.094157,
     "end_time": "2021-12-08T01:30:09.879299",
     "exception": false,
     "start_time": "2021-12-08T01:30:09.785142",
     "status": "completed"
    },
    "tags": []
   },
   "outputs": [
    {
     "data": {
      "text/html": [
       "<div>\n",
       "<style scoped>\n",
       "    .dataframe tbody tr th:only-of-type {\n",
       "        vertical-align: middle;\n",
       "    }\n",
       "\n",
       "    .dataframe tbody tr th {\n",
       "        vertical-align: top;\n",
       "    }\n",
       "\n",
       "    .dataframe thead th {\n",
       "        text-align: right;\n",
       "    }\n",
       "</style>\n",
       "<table border=\"1\" class=\"dataframe\">\n",
       "  <thead>\n",
       "    <tr style=\"text-align: right;\">\n",
       "      <th></th>\n",
       "      <th>RECORD_TIME</th>\n",
       "    </tr>\n",
       "  </thead>\n",
       "  <tbody>\n",
       "    <tr>\n",
       "      <th>0</th>\n",
       "      <td>2021-12-08 02:30</td>\n",
       "    </tr>\n",
       "    <tr>\n",
       "      <th>1</th>\n",
       "      <td>2021-12-08 02:00</td>\n",
       "    </tr>\n",
       "  </tbody>\n",
       "</table>\n",
       "</div>"
      ],
      "text/plain": [
       "        RECORD_TIME\n",
       "0  2021-12-08 02:30\n",
       "1  2021-12-08 02:00"
      ]
     },
     "execution_count": 3,
     "metadata": {},
     "output_type": "execute_result"
    }
   ],
   "source": [
    "timestamps"
   ]
  },
  {
   "cell_type": "code",
   "execution_count": 4,
   "id": "alternate-victory",
   "metadata": {
    "execution": {
     "iopub.execute_input": "2021-12-08T01:30:09.936899Z",
     "iopub.status.busy": "2021-12-08T01:30:09.934841Z",
     "iopub.status.idle": "2021-12-08T01:30:11.414823Z",
     "shell.execute_reply": "2021-12-08T01:30:11.416077Z"
    },
    "papermill": {
     "duration": 1.514696,
     "end_time": "2021-12-08T01:30:11.416478",
     "exception": false,
     "start_time": "2021-12-08T01:30:09.901782",
     "status": "completed"
    },
    "tags": []
   },
   "outputs": [],
   "source": [
    "df = pd.read_sql(\"select * from EBAY_TOP_BERLIN where record_time in (select distinct record_time from EBAY_TOP_BERLIN order by record_time desc limit 2)\", sqlite3.connect(\"UsedObjects.db\"))"
   ]
  },
  {
   "cell_type": "code",
   "execution_count": 5,
   "id": "popular-active",
   "metadata": {
    "execution": {
     "iopub.execute_input": "2021-12-08T01:30:11.532041Z",
     "iopub.status.busy": "2021-12-08T01:30:11.512263Z",
     "iopub.status.idle": "2021-12-08T01:30:11.571031Z",
     "shell.execute_reply": "2021-12-08T01:30:11.573318Z"
    },
    "papermill": {
     "duration": 0.126919,
     "end_time": "2021-12-08T01:30:11.574155",
     "exception": false,
     "start_time": "2021-12-08T01:30:11.447236",
     "status": "completed"
    },
    "tags": []
   },
   "outputs": [],
   "source": [
    "df_pivot = df.pivot_table(index=\"PRODUCT\", columns = \"RECORD_TIME\", values = \"LISTING_COUNT\")"
   ]
  },
  {
   "cell_type": "code",
   "execution_count": 6,
   "id": "union-huntington",
   "metadata": {
    "execution": {
     "iopub.execute_input": "2021-12-08T01:30:11.660142Z",
     "iopub.status.busy": "2021-12-08T01:30:11.656819Z",
     "iopub.status.idle": "2021-12-08T01:30:11.668649Z",
     "shell.execute_reply": "2021-12-08T01:30:11.665807Z"
    },
    "papermill": {
     "duration": 0.070364,
     "end_time": "2021-12-08T01:30:11.669396",
     "exception": false,
     "start_time": "2021-12-08T01:30:11.599032",
     "status": "completed"
    },
    "tags": []
   },
   "outputs": [],
   "source": [
    "df_pivot.columns = [\"stamp_1\", \"stamp_2\"]\n",
    "df_pivot_diff = df_pivot.diff(axis=1)"
   ]
  },
  {
   "cell_type": "code",
   "execution_count": 7,
   "id": "fifth-motion",
   "metadata": {
    "execution": {
     "iopub.execute_input": "2021-12-08T01:30:11.751845Z",
     "iopub.status.busy": "2021-12-08T01:30:11.748740Z",
     "iopub.status.idle": "2021-12-08T01:30:13.433057Z",
     "shell.execute_reply": "2021-12-08T01:30:13.434609Z"
    },
    "papermill": {
     "duration": 1.735196,
     "end_time": "2021-12-08T01:30:13.435079",
     "exception": false,
     "start_time": "2021-12-08T01:30:11.699883",
     "status": "completed"
    },
    "tags": []
   },
   "outputs": [
    {
     "data": {
      "text/plain": [
       "<AxesSubplot:ylabel='PRODUCT'>"
      ]
     },
     "execution_count": 7,
     "metadata": {},
     "output_type": "execute_result"
    },
    {
     "data": {
      "image/png": "[encoded data removed]",
      "text/plain": [
       "<Figure size 432x288 with 1 Axes>"
      ]
     },
     "metadata": {
      "needs_background": "light"
     },
     "output_type": "display_data"
    }
   ],
   "source": [
    "df_pivot_diff.sort_values(\"stamp_2\", ascending = False)[\"stamp_2\"].head(10).plot.barh()"
   ]
  },
  {
   "cell_type": "code",
   "execution_count": null,
   "id": "extra-executive",
   "metadata": {
    "papermill": {
     "duration": 0.022337,
     "end_time": "2021-12-08T01:30:13.481321",
     "exception": false,
     "start_time": "2021-12-08T01:30:13.458984",
     "status": "completed"
    },
    "tags": []
   },
   "outputs": [],
   "source": []
  }
 ],
 "metadata": {
  "kernelspec": {
   "display_name": "Python 3",
   "language": "python",
   "name": "python3"
  },
  "language_info": {
   "codemirror_mode": {
    "name": "ipython",
    "version": 3
   },
   "file_extension": ".py",
   "mimetype": "text/x-python",
   "name": "python",
   "nbconvert_exporter": "python",
   "pygments_lexer": "ipython3",
   "version": "3.9.5"
  },
  "papermill": {
   "default_parameters": {},
   "duration": 9.935969,
   "end_time": "2021-12-08T01:30:14.839901",
   "environment_variables": {},
   "exception": null,
   "input_path": "eBay_Overview.ipynb",
   "output_path": "eBay_Overview.ipynb",
   "parameters": {},
   "start_time": "2021-12-08T01:30:04.903932",
   "version": "2.3.3"
  }
 },
 "nbformat": 4,
 "nbformat_minor": 5
}