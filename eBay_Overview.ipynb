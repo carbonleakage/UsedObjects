{
 "cells": [
  {
   "cell_type": "code",
   "execution_count": 1,
   "id": "reverse-picking",
   "metadata": {
    "execution": {
     "iopub.execute_input": "2021-10-10T19:00:07.864186Z",
     "iopub.status.busy": "2021-10-10T19:00:07.862158Z",
     "iopub.status.idle": "2021-10-10T19:00:08.676917Z",
     "shell.execute_reply": "2021-10-10T19:00:08.678317Z"
    },
    "papermill": {
     "duration": 0.867315,
     "end_time": "2021-10-10T19:00:08.679107",
     "exception": false,
     "start_time": "2021-10-10T19:00:07.811792",
     "status": "completed"
    },
    "tags": []
   },
   "outputs": [],
   "source": [
    "import pandas as pd\n",
    "import sqlite3"
   ]
  },
  {
   "cell_type": "code",
   "execution_count": 2,
   "id": "innovative-syndrome",
   "metadata": {
    "execution": {
     "iopub.execute_input": "2021-10-10T19:00:08.730376Z",
     "iopub.status.busy": "2021-10-10T19:00:08.728438Z",
     "iopub.status.idle": "2021-10-10T19:00:09.242144Z",
     "shell.execute_reply": "2021-10-10T19:00:09.243489Z"
    },
    "papermill": {
     "duration": 0.544233,
     "end_time": "2021-10-10T19:00:09.243915",
     "exception": false,
     "start_time": "2021-10-10T19:00:08.699682",
     "status": "completed"
    },
    "tags": []
   },
   "outputs": [],
   "source": [
    "timestamps = pd.read_sql(\"select distinct record_time from EBAY_TOP_BERLIN order by record_time desc limit 2\", sqlite3.connect(\"UsedObjects.db\"))"
   ]
  },
  {
   "cell_type": "code",
   "execution_count": 3,
   "id": "periodic-identification",
   "metadata": {
    "execution": {
     "iopub.execute_input": "2021-10-10T19:00:09.320150Z",
     "iopub.status.busy": "2021-10-10T19:00:09.318061Z",
     "iopub.status.idle": "2021-10-10T19:00:09.338435Z",
     "shell.execute_reply": "2021-10-10T19:00:09.339792Z"
    },
    "papermill": {
     "duration": 0.071038,
     "end_time": "2021-10-10T19:00:09.340206",
     "exception": false,
     "start_time": "2021-10-10T19:00:09.269168",
     "status": "completed"
    },
    "tags": []
   },
   "outputs": [
    {
     "data": {
      "text/html": [
       "<div>\n",
       "<style scoped>\n",
       "    .dataframe tbody tr th:only-of-type {\n",
       "        vertical-align: middle;\n",
       "    }\n",
       "\n",
       "    .dataframe tbody tr th {\n",
       "        vertical-align: top;\n",
       "    }\n",
       "\n",
       "    .dataframe thead th {\n",
       "        text-align: right;\n",
       "    }\n",
       "</style>\n",
       "<table border=\"1\" class=\"dataframe\">\n",
       "  <thead>\n",
       "    <tr style=\"text-align: right;\">\n",
       "      <th></th>\n",
       "      <th>RECORD_TIME</th>\n",
       "    </tr>\n",
       "  </thead>\n",
       "  <tbody>\n",
       "    <tr>\n",
       "      <th>0</th>\n",
       "      <td>2021-10-10 21:00</td>\n",
       "    </tr>\n",
       "    <tr>\n",
       "      <th>1</th>\n",
       "      <td>2021-10-10 20:30</td>\n",
       "    </tr>\n",
       "  </tbody>\n",
       "</table>\n",
       "</div>"
      ],
      "text/plain": [
       "        RECORD_TIME\n",
       "0  2021-10-10 21:00\n",
       "1  2021-10-10 20:30"
      ]
     },
     "execution_count": 3,
     "metadata": {},
     "output_type": "execute_result"
    }
   ],
   "source": [
    "timestamps"
   ]
  },
  {
   "cell_type": "code",
   "execution_count": 4,
   "id": "alternate-victory",
   "metadata": {
    "execution": {
     "iopub.execute_input": "2021-10-10T19:00:09.392693Z",
     "iopub.status.busy": "2021-10-10T19:00:09.390455Z",
     "iopub.status.idle": "2021-10-10T19:00:10.134656Z",
     "shell.execute_reply": "2021-10-10T19:00:10.135939Z"
    },
    "papermill": {
     "duration": 0.774562,
     "end_time": "2021-10-10T19:00:10.136338",
     "exception": false,
     "start_time": "2021-10-10T19:00:09.361776",
     "status": "completed"
    },
    "tags": []
   },
   "outputs": [],
   "source": [
    "df = pd.read_sql(\"select * from EBAY_TOP_BERLIN where record_time in (select distinct record_time from EBAY_TOP_BERLIN order by record_time desc limit 2)\", sqlite3.connect(\"UsedObjects.db\"))"
   ]
  },
  {
   "cell_type": "code",
   "execution_count": 5,
   "id": "popular-active",
   "metadata": {
    "execution": {
     "iopub.execute_input": "2021-10-10T19:00:10.207957Z",
     "iopub.status.busy": "2021-10-10T19:00:10.195077Z",
     "iopub.status.idle": "2021-10-10T19:00:10.223564Z",
     "shell.execute_reply": "2021-10-10T19:00:10.224786Z"
    },
    "papermill": {
     "duration": 0.068106,
     "end_time": "2021-10-10T19:00:10.225180",
     "exception": false,
     "start_time": "2021-10-10T19:00:10.157074",
     "status": "completed"
    },
    "tags": []
   },
   "outputs": [],
   "source": [
    "df_pivot = df.pivot_table(index=\"PRODUCT\", columns = \"RECORD_TIME\", values = \"LISTING_COUNT\")"
   ]
  },
  {
   "cell_type": "code",
   "execution_count": 6,
   "id": "union-huntington",
   "metadata": {
    "execution": {
     "iopub.execute_input": "2021-10-10T19:00:10.281664Z",
     "iopub.status.busy": "2021-10-10T19:00:10.279621Z",
     "iopub.status.idle": "2021-10-10T19:00:10.284767Z",
     "shell.execute_reply": "2021-10-10T19:00:10.286044Z"
    },
    "papermill": {
     "duration": 0.040372,
     "end_time": "2021-10-10T19:00:10.286463",
     "exception": false,
     "start_time": "2021-10-10T19:00:10.246091",
     "status": "completed"
    },
    "tags": []
   },
   "outputs": [],
   "source": [
    "df_pivot.columns = [\"stamp_1\", \"stamp_2\"]\n",
    "df_pivot_diff = df_pivot.diff(axis=1)"
   ]
  },
  {
   "cell_type": "code",
   "execution_count": 7,
   "id": "fifth-motion",
   "metadata": {
    "execution": {
     "iopub.execute_input": "2021-10-10T19:00:10.343600Z",
     "iopub.status.busy": "2021-10-10T19:00:10.340856Z",
     "iopub.status.idle": "2021-10-10T19:00:11.823147Z",
     "shell.execute_reply": "2021-10-10T19:00:11.824579Z"
    },
    "papermill": {
     "duration": 1.516298,
     "end_time": "2021-10-10T19:00:11.825048",
     "exception": false,
     "start_time": "2021-10-10T19:00:10.308750",
     "status": "completed"
    },
    "tags": []
   },
   "outputs": [
    {
     "data": {
      "text/plain": [
       "<AxesSubplot:ylabel='PRODUCT'>"
      ]
     },
     "execution_count": 7,
     "metadata": {},
     "output_type": "execute_result"
    },
    {
     "data": {
      "image/png": "[encoded data removed]",
      "text/plain": [
       "<Figure size 432x288 with 1 Axes>"
      ]
     },
     "metadata": {
      "needs_background": "light"
     },
     "output_type": "display_data"
    }
   ],
   "source": [
    "df_pivot_diff.sort_values(\"stamp_2\", ascending = False)[\"stamp_2\"].head(10).plot.barh()"
   ]
  },
  {
   "cell_type": "code",
   "execution_count": null,
   "id": "extra-executive",
   "metadata": {
    "papermill": {
     "duration": 0.022323,
     "end_time": "2021-10-10T19:00:11.871367",
     "exception": false,
     "start_time": "2021-10-10T19:00:11.849044",
     "status": "completed"
    },
    "tags": []
   },
   "outputs": [],
   "source": []
  }
 ],
 "metadata": {
  "kernelspec": {
   "display_name": "Python 3",
   "language": "python",
   "name": "python3"
  },
  "language_info": {
   "codemirror_mode": {
    "name": "ipython",
    "version": 3
   },
   "file_extension": ".py",
   "mimetype": "text/x-python",
   "name": "python",
   "nbconvert_exporter": "python",
   "pygments_lexer": "ipython3",
   "version": "3.9.5"
  },
  "papermill": {
   "default_parameters": {},
   "duration": 7.834518,
   "end_time": "2021-10-10T19:00:13.213061",
   "environment_variables": {},
   "exception": null,
   "input_path": "eBay_Overview.ipynb",
   "output_path": "eBay_Overview.ipynb",
   "parameters": {},
   "start_time": "2021-10-10T19:00:05.378543",
   "version": "2.3.3"
  }
 },
 "nbformat": 4,
 "nbformat_minor": 5
}