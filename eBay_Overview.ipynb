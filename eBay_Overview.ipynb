{
 "cells": [
  {
   "cell_type": "code",
   "execution_count": 1,
   "id": "reverse-picking",
   "metadata": {
    "execution": {
     "iopub.execute_input": "2021-08-27T00:00:07.425795Z",
     "iopub.status.busy": "2021-08-27T00:00:07.423797Z",
     "iopub.status.idle": "2021-08-27T00:00:08.228720Z",
     "shell.execute_reply": "2021-08-27T00:00:08.229976Z"
    },
    "papermill": {
     "duration": 0.855565,
     "end_time": "2021-08-27T00:00:08.230590",
     "exception": false,
     "start_time": "2021-08-27T00:00:07.375025",
     "status": "completed"
    },
    "tags": []
   },
   "outputs": [],
   "source": [
    "import pandas as pd\n",
    "import sqlite3"
   ]
  },
  {
   "cell_type": "code",
   "execution_count": 2,
   "id": "innovative-syndrome",
   "metadata": {
    "execution": {
     "iopub.execute_input": "2021-08-27T00:00:08.282335Z",
     "iopub.status.busy": "2021-08-27T00:00:08.280086Z",
     "iopub.status.idle": "2021-08-27T00:00:08.421307Z",
     "shell.execute_reply": "2021-08-27T00:00:08.419948Z"
    },
    "papermill": {
     "duration": 0.169484,
     "end_time": "2021-08-27T00:00:08.421650",
     "exception": false,
     "start_time": "2021-08-27T00:00:08.252166",
     "status": "completed"
    },
    "tags": []
   },
   "outputs": [],
   "source": [
    "timestamps = pd.read_sql(\"select distinct record_time from EBAY_TOP_BERLIN order by record_time desc limit 2\", sqlite3.connect(\"UsedObjects.db\"))"
   ]
  },
  {
   "cell_type": "code",
   "execution_count": 3,
   "id": "periodic-identification",
   "metadata": {
    "execution": {
     "iopub.execute_input": "2021-08-27T00:00:08.485895Z",
     "iopub.status.busy": "2021-08-27T00:00:08.483587Z",
     "iopub.status.idle": "2021-08-27T00:00:08.503435Z",
     "shell.execute_reply": "2021-08-27T00:00:08.504632Z"
    },
    "papermill": {
     "duration": 0.063801,
     "end_time": "2021-08-27T00:00:08.505046",
     "exception": false,
     "start_time": "2021-08-27T00:00:08.441245",
     "status": "completed"
    },
    "tags": []
   },
   "outputs": [
    {
     "data": {
      "text/html": [
       "<div>\n",
       "<style scoped>\n",
       "    .dataframe tbody tr th:only-of-type {\n",
       "        vertical-align: middle;\n",
       "    }\n",
       "\n",
       "    .dataframe tbody tr th {\n",
       "        vertical-align: top;\n",
       "    }\n",
       "\n",
       "    .dataframe thead th {\n",
       "        text-align: right;\n",
       "    }\n",
       "</style>\n",
       "<table border=\"1\" class=\"dataframe\">\n",
       "  <thead>\n",
       "    <tr style=\"text-align: right;\">\n",
       "      <th></th>\n",
       "      <th>RECORD_TIME</th>\n",
       "    </tr>\n",
       "  </thead>\n",
       "  <tbody>\n",
       "    <tr>\n",
       "      <th>0</th>\n",
       "      <td>2021-08-27 02:00</td>\n",
       "    </tr>\n",
       "    <tr>\n",
       "      <th>1</th>\n",
       "      <td>2021-08-27 01:30</td>\n",
       "    </tr>\n",
       "  </tbody>\n",
       "</table>\n",
       "</div>"
      ],
      "text/plain": [
       "        RECORD_TIME\n",
       "0  2021-08-27 02:00\n",
       "1  2021-08-27 01:30"
      ]
     },
     "execution_count": 3,
     "metadata": {},
     "output_type": "execute_result"
    }
   ],
   "source": [
    "timestamps"
   ]
  },
  {
   "cell_type": "code",
   "execution_count": 4,
   "id": "alternate-victory",
   "metadata": {
    "execution": {
     "iopub.execute_input": "2021-08-27T00:00:08.557821Z",
     "iopub.status.busy": "2021-08-27T00:00:08.555754Z",
     "iopub.status.idle": "2021-08-27T00:00:08.766399Z",
     "shell.execute_reply": "2021-08-27T00:00:08.767609Z"
    },
    "papermill": {
     "duration": 0.240503,
     "end_time": "2021-08-27T00:00:08.767999",
     "exception": false,
     "start_time": "2021-08-27T00:00:08.527496",
     "status": "completed"
    },
    "tags": []
   },
   "outputs": [],
   "source": [
    "df = pd.read_sql(\"select * from EBAY_TOP_BERLIN where record_time in (select distinct record_time from EBAY_TOP_BERLIN order by record_time desc limit 2)\", sqlite3.connect(\"UsedObjects.db\"))"
   ]
  },
  {
   "cell_type": "code",
   "execution_count": 5,
   "id": "popular-active",
   "metadata": {
    "execution": {
     "iopub.execute_input": "2021-08-27T00:00:08.842325Z",
     "iopub.status.busy": "2021-08-27T00:00:08.829864Z",
     "iopub.status.idle": "2021-08-27T00:00:08.859465Z",
     "shell.execute_reply": "2021-08-27T00:00:08.861168Z"
    },
    "papermill": {
     "duration": 0.071701,
     "end_time": "2021-08-27T00:00:08.861645",
     "exception": false,
     "start_time": "2021-08-27T00:00:08.789944",
     "status": "completed"
    },
    "tags": []
   },
   "outputs": [],
   "source": [
    "df_pivot = df.pivot_table(index=\"PRODUCT\", columns = \"RECORD_TIME\", values = \"LISTING_COUNT\")"
   ]
  },
  {
   "cell_type": "code",
   "execution_count": 6,
   "id": "union-huntington",
   "metadata": {
    "execution": {
     "iopub.execute_input": "2021-08-27T00:00:08.930467Z",
     "iopub.status.busy": "2021-08-27T00:00:08.928019Z",
     "iopub.status.idle": "2021-08-27T00:00:08.934700Z",
     "shell.execute_reply": "2021-08-27T00:00:08.936045Z"
    },
    "papermill": {
     "duration": 0.046559,
     "end_time": "2021-08-27T00:00:08.936579",
     "exception": false,
     "start_time": "2021-08-27T00:00:08.890020",
     "status": "completed"
    },
    "tags": []
   },
   "outputs": [],
   "source": [
    "df_pivot.columns = [\"stamp_1\", \"stamp_2\"]\n",
    "df_pivot_diff = df_pivot.diff(axis=1)"
   ]
  },
  {
   "cell_type": "code",
   "execution_count": 7,
   "id": "fifth-motion",
   "metadata": {
    "execution": {
     "iopub.execute_input": "2021-08-27T00:00:08.990822Z",
     "iopub.status.busy": "2021-08-27T00:00:08.988493Z",
     "iopub.status.idle": "2021-08-27T00:00:10.463997Z",
     "shell.execute_reply": "2021-08-27T00:00:10.465341Z"
    },
    "papermill": {
     "duration": 1.508221,
     "end_time": "2021-08-27T00:00:10.465756",
     "exception": false,
     "start_time": "2021-08-27T00:00:08.957535",
     "status": "completed"
    },
    "tags": []
   },
   "outputs": [
    {
     "data": {
      "text/plain": [
       "<AxesSubplot:ylabel='PRODUCT'>"
      ]
     },
     "execution_count": 7,
     "metadata": {},
     "output_type": "execute_result"
    },
    {
     "data": {
      "image/png": "[encoded data removed]",
      "text/plain": [
       "<Figure size 432x288 with 1 Axes>"
      ]
     },
     "metadata": {
      "needs_background": "light"
     },
     "output_type": "display_data"
    }
   ],
   "source": [
    "df_pivot_diff.sort_values(\"stamp_2\", ascending = False)[\"stamp_2\"].head(10).plot.barh()"
   ]
  },
  {
   "cell_type": "code",
   "execution_count": null,
   "id": "extra-executive",
   "metadata": {
    "papermill": {
     "duration": 0.022346,
     "end_time": "2021-08-27T00:00:10.512823",
     "exception": false,
     "start_time": "2021-08-27T00:00:10.490477",
     "status": "completed"
    },
    "tags": []
   },
   "outputs": [],
   "source": []
  }
 ],
 "metadata": {
  "kernelspec": {
   "display_name": "Python 3",
   "language": "python",
   "name": "python3"
  },
  "language_info": {
   "codemirror_mode": {
    "name": "ipython",
    "version": 3
   },
   "file_extension": ".py",
   "mimetype": "text/x-python",
   "name": "python",
   "nbconvert_exporter": "python",
   "pygments_lexer": "ipython3",
   "version": "3.9.5"
  },
  "papermill": {
   "default_parameters": {},
   "duration": 6.82628,
   "end_time": "2021-08-27T00:00:11.809326",
   "environment_variables": {},
   "exception": null,
   "input_path": "eBay_Overview.ipynb",
   "output_path": "eBay_Overview.ipynb",
   "parameters": {},
   "start_time": "2021-08-27T00:00:04.983046",
   "version": "2.3.3"
  }
 },
 "nbformat": 4,
 "nbformat_minor": 5
}