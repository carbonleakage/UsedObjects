{
 "cells": [
  {
   "cell_type": "code",
   "execution_count": 1,
   "id": "reverse-picking",
   "metadata": {
    "execution": {
     "iopub.execute_input": "2021-10-17T15:00:06.803019Z",
     "iopub.status.busy": "2021-10-17T15:00:06.801049Z",
     "iopub.status.idle": "2021-10-17T15:00:07.610330Z",
     "shell.execute_reply": "2021-10-17T15:00:07.611617Z"
    },
    "papermill": {
     "duration": 0.862066,
     "end_time": "2021-10-17T15:00:07.612229",
     "exception": false,
     "start_time": "2021-10-17T15:00:06.750163",
     "status": "completed"
    },
    "tags": []
   },
   "outputs": [],
   "source": [
    "import pandas as pd\n",
    "import sqlite3"
   ]
  },
  {
   "cell_type": "code",
   "execution_count": 2,
   "id": "innovative-syndrome",
   "metadata": {
    "execution": {
     "iopub.execute_input": "2021-10-17T15:00:07.662372Z",
     "iopub.status.busy": "2021-10-17T15:00:07.660198Z",
     "iopub.status.idle": "2021-10-17T15:00:08.231347Z",
     "shell.execute_reply": "2021-10-17T15:00:08.232547Z"
    },
    "papermill": {
     "duration": 0.600743,
     "end_time": "2021-10-17T15:00:08.232993",
     "exception": false,
     "start_time": "2021-10-17T15:00:07.632250",
     "status": "completed"
    },
    "tags": []
   },
   "outputs": [],
   "source": [
    "timestamps = pd.read_sql(\"select distinct record_time from EBAY_TOP_BERLIN order by record_time desc limit 2\", sqlite3.connect(\"UsedObjects.db\"))"
   ]
  },
  {
   "cell_type": "code",
   "execution_count": 3,
   "id": "periodic-identification",
   "metadata": {
    "execution": {
     "iopub.execute_input": "2021-10-17T15:00:08.310461Z",
     "iopub.status.busy": "2021-10-17T15:00:08.308322Z",
     "iopub.status.idle": "2021-10-17T15:00:08.328303Z",
     "shell.execute_reply": "2021-10-17T15:00:08.329866Z"
    },
    "papermill": {
     "duration": 0.069569,
     "end_time": "2021-10-17T15:00:08.330305",
     "exception": false,
     "start_time": "2021-10-17T15:00:08.260736",
     "status": "completed"
    },
    "tags": []
   },
   "outputs": [
    {
     "data": {
      "text/html": [
       "<div>\n",
       "<style scoped>\n",
       "    .dataframe tbody tr th:only-of-type {\n",
       "        vertical-align: middle;\n",
       "    }\n",
       "\n",
       "    .dataframe tbody tr th {\n",
       "        vertical-align: top;\n",
       "    }\n",
       "\n",
       "    .dataframe thead th {\n",
       "        text-align: right;\n",
       "    }\n",
       "</style>\n",
       "<table border=\"1\" class=\"dataframe\">\n",
       "  <thead>\n",
       "    <tr style=\"text-align: right;\">\n",
       "      <th></th>\n",
       "      <th>RECORD_TIME</th>\n",
       "    </tr>\n",
       "  </thead>\n",
       "  <tbody>\n",
       "    <tr>\n",
       "      <th>0</th>\n",
       "      <td>2021-10-17 17:00</td>\n",
       "    </tr>\n",
       "    <tr>\n",
       "      <th>1</th>\n",
       "      <td>2021-10-17 16:30</td>\n",
       "    </tr>\n",
       "  </tbody>\n",
       "</table>\n",
       "</div>"
      ],
      "text/plain": [
       "        RECORD_TIME\n",
       "0  2021-10-17 17:00\n",
       "1  2021-10-17 16:30"
      ]
     },
     "execution_count": 3,
     "metadata": {},
     "output_type": "execute_result"
    }
   ],
   "source": [
    "timestamps"
   ]
  },
  {
   "cell_type": "code",
   "execution_count": 4,
   "id": "alternate-victory",
   "metadata": {
    "execution": {
     "iopub.execute_input": "2021-10-17T15:00:08.382262Z",
     "iopub.status.busy": "2021-10-17T15:00:08.379889Z",
     "iopub.status.idle": "2021-10-17T15:00:09.225721Z",
     "shell.execute_reply": "2021-10-17T15:00:09.227018Z"
    },
    "papermill": {
     "duration": 0.876255,
     "end_time": "2021-10-17T15:00:09.227412",
     "exception": false,
     "start_time": "2021-10-17T15:00:08.351157",
     "status": "completed"
    },
    "tags": []
   },
   "outputs": [],
   "source": [
    "df = pd.read_sql(\"select * from EBAY_TOP_BERLIN where record_time in (select distinct record_time from EBAY_TOP_BERLIN order by record_time desc limit 2)\", sqlite3.connect(\"UsedObjects.db\"))"
   ]
  },
  {
   "cell_type": "code",
   "execution_count": 5,
   "id": "popular-active",
   "metadata": {
    "execution": {
     "iopub.execute_input": "2021-10-17T15:00:09.298648Z",
     "iopub.status.busy": "2021-10-17T15:00:09.286748Z",
     "iopub.status.idle": "2021-10-17T15:00:09.315546Z",
     "shell.execute_reply": "2021-10-17T15:00:09.316921Z"
    },
    "papermill": {
     "duration": 0.068642,
     "end_time": "2021-10-17T15:00:09.317387",
     "exception": false,
     "start_time": "2021-10-17T15:00:09.248745",
     "status": "completed"
    },
    "tags": []
   },
   "outputs": [],
   "source": [
    "df_pivot = df.pivot_table(index=\"PRODUCT\", columns = \"RECORD_TIME\", values = \"LISTING_COUNT\")"
   ]
  },
  {
   "cell_type": "code",
   "execution_count": 6,
   "id": "union-huntington",
   "metadata": {
    "execution": {
     "iopub.execute_input": "2021-10-17T15:00:09.373291Z",
     "iopub.status.busy": "2021-10-17T15:00:09.371090Z",
     "iopub.status.idle": "2021-10-17T15:00:09.376458Z",
     "shell.execute_reply": "2021-10-17T15:00:09.378024Z"
    },
    "papermill": {
     "duration": 0.040976,
     "end_time": "2021-10-17T15:00:09.378556",
     "exception": false,
     "start_time": "2021-10-17T15:00:09.337580",
     "status": "completed"
    },
    "tags": []
   },
   "outputs": [],
   "source": [
    "df_pivot.columns = [\"stamp_1\", \"stamp_2\"]\n",
    "df_pivot_diff = df_pivot.diff(axis=1)"
   ]
  },
  {
   "cell_type": "code",
   "execution_count": 7,
   "id": "fifth-motion",
   "metadata": {
    "execution": {
     "iopub.execute_input": "2021-10-17T15:00:09.434140Z",
     "iopub.status.busy": "2021-10-17T15:00:09.431394Z",
     "iopub.status.idle": "2021-10-17T15:00:10.900753Z",
     "shell.execute_reply": "2021-10-17T15:00:10.902165Z"
    },
    "papermill": {
     "duration": 1.503085,
     "end_time": "2021-10-17T15:00:10.902606",
     "exception": false,
     "start_time": "2021-10-17T15:00:09.399521",
     "status": "completed"
    },
    "tags": []
   },
   "outputs": [
    {
     "data": {
      "text/plain": [
       "<AxesSubplot:ylabel='PRODUCT'>"
      ]
     },
     "execution_count": 7,
     "metadata": {},
     "output_type": "execute_result"
    },
    {
     "data": {
      "image/png": "[encoded data removed]",
      "text/plain": [
       "<Figure size 432x288 with 1 Axes>"
      ]
     },
     "metadata": {
      "needs_background": "light"
     },
     "output_type": "display_data"
    }
   ],
   "source": [
    "df_pivot_diff.sort_values(\"stamp_2\", ascending = False)[\"stamp_2\"].head(10).plot.barh()"
   ]
  },
  {
   "cell_type": "code",
   "execution_count": null,
   "id": "extra-executive",
   "metadata": {
    "papermill": {
     "duration": 0.022085,
     "end_time": "2021-10-17T15:00:10.949337",
     "exception": false,
     "start_time": "2021-10-17T15:00:10.927252",
     "status": "completed"
    },
    "tags": []
   },
   "outputs": [],
   "source": []
  }
 ],
 "metadata": {
  "kernelspec": {
   "display_name": "Python 3",
   "language": "python",
   "name": "python3"
  },
  "language_info": {
   "codemirror_mode": {
    "name": "ipython",
    "version": 3
   },
   "file_extension": ".py",
   "mimetype": "text/x-python",
   "name": "python",
   "nbconvert_exporter": "python",
   "pygments_lexer": "ipython3",
   "version": "3.9.5"
  },
  "papermill": {
   "default_parameters": {},
   "duration": 7.822945,
   "end_time": "2021-10-17T15:00:12.157571",
   "environment_variables": {},
   "exception": null,
   "input_path": "eBay_Overview.ipynb",
   "output_path": "eBay_Overview.ipynb",
   "parameters": {},
   "start_time": "2021-10-17T15:00:04.334626",
   "version": "2.3.3"
  }
 },
 "nbformat": 4,
 "nbformat_minor": 5
}