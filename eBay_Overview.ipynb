{
 "cells": [
  {
   "cell_type": "code",
   "execution_count": 1,
   "id": "reverse-picking",
   "metadata": {
    "execution": {
     "iopub.execute_input": "2021-10-02T20:00:06.844493Z",
     "iopub.status.busy": "2021-10-02T20:00:06.842447Z",
     "iopub.status.idle": "2021-10-02T20:00:07.649940Z",
     "shell.execute_reply": "2021-10-02T20:00:07.648396Z"
    },
    "papermill": {
     "duration": 0.859392,
     "end_time": "2021-10-02T20:00:07.650334",
     "exception": false,
     "start_time": "2021-10-02T20:00:06.790942",
     "status": "completed"
    },
    "tags": []
   },
   "outputs": [],
   "source": [
    "import pandas as pd\n",
    "import sqlite3"
   ]
  },
  {
   "cell_type": "code",
   "execution_count": 2,
   "id": "innovative-syndrome",
   "metadata": {
    "execution": {
     "iopub.execute_input": "2021-10-02T20:00:07.700733Z",
     "iopub.status.busy": "2021-10-02T20:00:07.698764Z",
     "iopub.status.idle": "2021-10-02T20:00:08.131429Z",
     "shell.execute_reply": "2021-10-02T20:00:08.132648Z"
    },
    "papermill": {
     "duration": 0.461613,
     "end_time": "2021-10-02T20:00:08.133042",
     "exception": false,
     "start_time": "2021-10-02T20:00:07.671429",
     "status": "completed"
    },
    "tags": []
   },
   "outputs": [],
   "source": [
    "timestamps = pd.read_sql(\"select distinct record_time from EBAY_TOP_BERLIN order by record_time desc limit 2\", sqlite3.connect(\"UsedObjects.db\"))"
   ]
  },
  {
   "cell_type": "code",
   "execution_count": 3,
   "id": "periodic-identification",
   "metadata": {
    "execution": {
     "iopub.execute_input": "2021-10-02T20:00:08.201076Z",
     "iopub.status.busy": "2021-10-02T20:00:08.199059Z",
     "iopub.status.idle": "2021-10-02T20:00:08.220476Z",
     "shell.execute_reply": "2021-10-02T20:00:08.221668Z"
    },
    "papermill": {
     "duration": 0.066756,
     "end_time": "2021-10-02T20:00:08.222100",
     "exception": false,
     "start_time": "2021-10-02T20:00:08.155344",
     "status": "completed"
    },
    "tags": []
   },
   "outputs": [
    {
     "data": {
      "text/html": [
       "<div>\n",
       "<style scoped>\n",
       "    .dataframe tbody tr th:only-of-type {\n",
       "        vertical-align: middle;\n",
       "    }\n",
       "\n",
       "    .dataframe tbody tr th {\n",
       "        vertical-align: top;\n",
       "    }\n",
       "\n",
       "    .dataframe thead th {\n",
       "        text-align: right;\n",
       "    }\n",
       "</style>\n",
       "<table border=\"1\" class=\"dataframe\">\n",
       "  <thead>\n",
       "    <tr style=\"text-align: right;\">\n",
       "      <th></th>\n",
       "      <th>RECORD_TIME</th>\n",
       "    </tr>\n",
       "  </thead>\n",
       "  <tbody>\n",
       "    <tr>\n",
       "      <th>0</th>\n",
       "      <td>2021-10-02 22:00</td>\n",
       "    </tr>\n",
       "    <tr>\n",
       "      <th>1</th>\n",
       "      <td>2021-10-02 21:30</td>\n",
       "    </tr>\n",
       "  </tbody>\n",
       "</table>\n",
       "</div>"
      ],
      "text/plain": [
       "        RECORD_TIME\n",
       "0  2021-10-02 22:00\n",
       "1  2021-10-02 21:30"
      ]
     },
     "execution_count": 3,
     "metadata": {},
     "output_type": "execute_result"
    }
   ],
   "source": [
    "timestamps"
   ]
  },
  {
   "cell_type": "code",
   "execution_count": 4,
   "id": "alternate-victory",
   "metadata": {
    "execution": {
     "iopub.execute_input": "2021-10-02T20:00:08.283153Z",
     "iopub.status.busy": "2021-10-02T20:00:08.280398Z",
     "iopub.status.idle": "2021-10-02T20:00:08.908261Z",
     "shell.execute_reply": "2021-10-02T20:00:08.909688Z"
    },
    "papermill": {
     "duration": 0.666306,
     "end_time": "2021-10-02T20:00:08.910128",
     "exception": false,
     "start_time": "2021-10-02T20:00:08.243822",
     "status": "completed"
    },
    "tags": []
   },
   "outputs": [],
   "source": [
    "df = pd.read_sql(\"select * from EBAY_TOP_BERLIN where record_time in (select distinct record_time from EBAY_TOP_BERLIN order by record_time desc limit 2)\", sqlite3.connect(\"UsedObjects.db\"))"
   ]
  },
  {
   "cell_type": "code",
   "execution_count": 5,
   "id": "popular-active",
   "metadata": {
    "execution": {
     "iopub.execute_input": "2021-10-02T20:00:08.979811Z",
     "iopub.status.busy": "2021-10-02T20:00:08.968767Z",
     "iopub.status.idle": "2021-10-02T20:00:08.997178Z",
     "shell.execute_reply": "2021-10-02T20:00:08.998467Z"
    },
    "papermill": {
     "duration": 0.068491,
     "end_time": "2021-10-02T20:00:08.998942",
     "exception": false,
     "start_time": "2021-10-02T20:00:08.930451",
     "status": "completed"
    },
    "tags": []
   },
   "outputs": [],
   "source": [
    "df_pivot = df.pivot_table(index=\"PRODUCT\", columns = \"RECORD_TIME\", values = \"LISTING_COUNT\")"
   ]
  },
  {
   "cell_type": "code",
   "execution_count": 6,
   "id": "union-huntington",
   "metadata": {
    "execution": {
     "iopub.execute_input": "2021-10-02T20:00:09.054377Z",
     "iopub.status.busy": "2021-10-02T20:00:09.052309Z",
     "iopub.status.idle": "2021-10-02T20:00:09.057555Z",
     "shell.execute_reply": "2021-10-02T20:00:09.058877Z"
    },
    "papermill": {
     "duration": 0.040711,
     "end_time": "2021-10-02T20:00:09.059304",
     "exception": false,
     "start_time": "2021-10-02T20:00:09.018593",
     "status": "completed"
    },
    "tags": []
   },
   "outputs": [],
   "source": [
    "df_pivot.columns = [\"stamp_1\", \"stamp_2\"]\n",
    "df_pivot_diff = df_pivot.diff(axis=1)"
   ]
  },
  {
   "cell_type": "code",
   "execution_count": 7,
   "id": "fifth-motion",
   "metadata": {
    "execution": {
     "iopub.execute_input": "2021-10-02T20:00:09.114044Z",
     "iopub.status.busy": "2021-10-02T20:00:09.111653Z",
     "iopub.status.idle": "2021-10-02T20:00:10.604942Z",
     "shell.execute_reply": "2021-10-02T20:00:10.606223Z"
    },
    "papermill": {
     "duration": 1.525507,
     "end_time": "2021-10-02T20:00:10.606642",
     "exception": false,
     "start_time": "2021-10-02T20:00:09.081135",
     "status": "completed"
    },
    "tags": []
   },
   "outputs": [
    {
     "data": {
      "text/plain": [
       "<AxesSubplot:ylabel='PRODUCT'>"
      ]
     },
     "execution_count": 7,
     "metadata": {},
     "output_type": "execute_result"
    },
    {
     "data": {
      "image/png": "[encoded data removed]",
      "text/plain": [
       "<Figure size 432x288 with 1 Axes>"
      ]
     },
     "metadata": {
      "needs_background": "light"
     },
     "output_type": "display_data"
    }
   ],
   "source": [
    "df_pivot_diff.sort_values(\"stamp_2\", ascending = False)[\"stamp_2\"].head(10).plot.barh()"
   ]
  },
  {
   "cell_type": "code",
   "execution_count": null,
   "id": "extra-executive",
   "metadata": {
    "papermill": {
     "duration": 0.021694,
     "end_time": "2021-10-02T20:00:10.653911",
     "exception": false,
     "start_time": "2021-10-02T20:00:10.632217",
     "status": "completed"
    },
    "tags": []
   },
   "outputs": [],
   "source": []
  }
 ],
 "metadata": {
  "kernelspec": {
   "display_name": "Python 3",
   "language": "python",
   "name": "python3"
  },
  "language_info": {
   "codemirror_mode": {
    "name": "ipython",
    "version": 3
   },
   "file_extension": ".py",
   "mimetype": "text/x-python",
   "name": "python",
   "nbconvert_exporter": "python",
   "pygments_lexer": "ipython3",
   "version": "3.9.5"
  },
  "papermill": {
   "default_parameters": {},
   "duration": 7.821347,
   "end_time": "2021-10-02T20:00:12.201515",
   "environment_variables": {},
   "exception": null,
   "input_path": "eBay_Overview.ipynb",
   "output_path": "eBay_Overview.ipynb",
   "parameters": {},
   "start_time": "2021-10-02T20:00:04.380168",
   "version": "2.3.3"
  }
 },
 "nbformat": 4,
 "nbformat_minor": 5
}