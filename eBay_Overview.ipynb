{
 "cells": [
  {
   "cell_type": "code",
   "execution_count": 1,
   "id": "reverse-picking",
   "metadata": {
    "execution": {
     "iopub.execute_input": "2021-10-16T03:00:07.136409Z",
     "iopub.status.busy": "2021-10-16T03:00:07.134415Z",
     "iopub.status.idle": "2021-10-16T03:00:07.938779Z",
     "shell.execute_reply": "2021-10-16T03:00:07.940112Z"
    },
    "papermill": {
     "duration": 0.85706,
     "end_time": "2021-10-16T03:00:07.940813",
     "exception": false,
     "start_time": "2021-10-16T03:00:07.083753",
     "status": "completed"
    },
    "tags": []
   },
   "outputs": [],
   "source": [
    "import pandas as pd\n",
    "import sqlite3"
   ]
  },
  {
   "cell_type": "code",
   "execution_count": 2,
   "id": "innovative-syndrome",
   "metadata": {
    "execution": {
     "iopub.execute_input": "2021-10-16T03:00:07.991783Z",
     "iopub.status.busy": "2021-10-16T03:00:07.989732Z",
     "iopub.status.idle": "2021-10-16T03:00:08.552416Z",
     "shell.execute_reply": "2021-10-16T03:00:08.553774Z"
    },
    "papermill": {
     "duration": 0.593145,
     "end_time": "2021-10-16T03:00:08.554199",
     "exception": false,
     "start_time": "2021-10-16T03:00:07.961054",
     "status": "completed"
    },
    "tags": []
   },
   "outputs": [],
   "source": [
    "timestamps = pd.read_sql(\"select distinct record_time from EBAY_TOP_BERLIN order by record_time desc limit 2\", sqlite3.connect(\"UsedObjects.db\"))"
   ]
  },
  {
   "cell_type": "code",
   "execution_count": 3,
   "id": "periodic-identification",
   "metadata": {
    "execution": {
     "iopub.execute_input": "2021-10-16T03:00:08.631961Z",
     "iopub.status.busy": "2021-10-16T03:00:08.629907Z",
     "iopub.status.idle": "2021-10-16T03:00:08.651172Z",
     "shell.execute_reply": "2021-10-16T03:00:08.649718Z"
    },
    "papermill": {
     "duration": 0.070799,
     "end_time": "2021-10-16T03:00:08.651528",
     "exception": false,
     "start_time": "2021-10-16T03:00:08.580729",
     "status": "completed"
    },
    "tags": []
   },
   "outputs": [
    {
     "data": {
      "text/html": [
       "<div>\n",
       "<style scoped>\n",
       "    .dataframe tbody tr th:only-of-type {\n",
       "        vertical-align: middle;\n",
       "    }\n",
       "\n",
       "    .dataframe tbody tr th {\n",
       "        vertical-align: top;\n",
       "    }\n",
       "\n",
       "    .dataframe thead th {\n",
       "        text-align: right;\n",
       "    }\n",
       "</style>\n",
       "<table border=\"1\" class=\"dataframe\">\n",
       "  <thead>\n",
       "    <tr style=\"text-align: right;\">\n",
       "      <th></th>\n",
       "      <th>RECORD_TIME</th>\n",
       "    </tr>\n",
       "  </thead>\n",
       "  <tbody>\n",
       "    <tr>\n",
       "      <th>0</th>\n",
       "      <td>2021-10-16 05:00</td>\n",
       "    </tr>\n",
       "    <tr>\n",
       "      <th>1</th>\n",
       "      <td>2021-10-16 04:30</td>\n",
       "    </tr>\n",
       "  </tbody>\n",
       "</table>\n",
       "</div>"
      ],
      "text/plain": [
       "        RECORD_TIME\n",
       "0  2021-10-16 05:00\n",
       "1  2021-10-16 04:30"
      ]
     },
     "execution_count": 3,
     "metadata": {},
     "output_type": "execute_result"
    }
   ],
   "source": [
    "timestamps"
   ]
  },
  {
   "cell_type": "code",
   "execution_count": 4,
   "id": "alternate-victory",
   "metadata": {
    "execution": {
     "iopub.execute_input": "2021-10-16T03:00:08.703766Z",
     "iopub.status.busy": "2021-10-16T03:00:08.701480Z",
     "iopub.status.idle": "2021-10-16T03:00:09.519459Z",
     "shell.execute_reply": "2021-10-16T03:00:09.520804Z"
    },
    "papermill": {
     "duration": 0.848465,
     "end_time": "2021-10-16T03:00:09.521243",
     "exception": false,
     "start_time": "2021-10-16T03:00:08.672778",
     "status": "completed"
    },
    "tags": []
   },
   "outputs": [],
   "source": [
    "df = pd.read_sql(\"select * from EBAY_TOP_BERLIN where record_time in (select distinct record_time from EBAY_TOP_BERLIN order by record_time desc limit 2)\", sqlite3.connect(\"UsedObjects.db\"))"
   ]
  },
  {
   "cell_type": "code",
   "execution_count": 5,
   "id": "popular-active",
   "metadata": {
    "execution": {
     "iopub.execute_input": "2021-10-16T03:00:09.589811Z",
     "iopub.status.busy": "2021-10-16T03:00:09.579140Z",
     "iopub.status.idle": "2021-10-16T03:00:09.606355Z",
     "shell.execute_reply": "2021-10-16T03:00:09.607598Z"
    },
    "papermill": {
     "duration": 0.065772,
     "end_time": "2021-10-16T03:00:09.607999",
     "exception": false,
     "start_time": "2021-10-16T03:00:09.542227",
     "status": "completed"
    },
    "tags": []
   },
   "outputs": [],
   "source": [
    "df_pivot = df.pivot_table(index=\"PRODUCT\", columns = \"RECORD_TIME\", values = \"LISTING_COUNT\")"
   ]
  },
  {
   "cell_type": "code",
   "execution_count": 6,
   "id": "union-huntington",
   "metadata": {
    "execution": {
     "iopub.execute_input": "2021-10-16T03:00:09.667965Z",
     "iopub.status.busy": "2021-10-16T03:00:09.665503Z",
     "iopub.status.idle": "2021-10-16T03:00:09.672652Z",
     "shell.execute_reply": "2021-10-16T03:00:09.671245Z"
    },
    "papermill": {
     "duration": 0.042515,
     "end_time": "2021-10-16T03:00:09.673084",
     "exception": false,
     "start_time": "2021-10-16T03:00:09.630569",
     "status": "completed"
    },
    "tags": []
   },
   "outputs": [],
   "source": [
    "df_pivot.columns = [\"stamp_1\", \"stamp_2\"]\n",
    "df_pivot_diff = df_pivot.diff(axis=1)"
   ]
  },
  {
   "cell_type": "code",
   "execution_count": 7,
   "id": "fifth-motion",
   "metadata": {
    "execution": {
     "iopub.execute_input": "2021-10-16T03:00:09.727931Z",
     "iopub.status.busy": "2021-10-16T03:00:09.725620Z",
     "iopub.status.idle": "2021-10-16T03:00:11.231831Z",
     "shell.execute_reply": "2021-10-16T03:00:11.233965Z"
    },
    "papermill": {
     "duration": 1.540628,
     "end_time": "2021-10-16T03:00:11.234541",
     "exception": false,
     "start_time": "2021-10-16T03:00:09.693913",
     "status": "completed"
    },
    "tags": []
   },
   "outputs": [
    {
     "data": {
      "text/plain": [
       "<AxesSubplot:ylabel='PRODUCT'>"
      ]
     },
     "execution_count": 7,
     "metadata": {},
     "output_type": "execute_result"
    },
    {
     "data": {
      "image/png": "[encoded data removed]",
      "text/plain": [
       "<Figure size 432x288 with 1 Axes>"
      ]
     },
     "metadata": {
      "needs_background": "light"
     },
     "output_type": "display_data"
    }
   ],
   "source": [
    "df_pivot_diff.sort_values(\"stamp_2\", ascending = False)[\"stamp_2\"].head(10).plot.barh()"
   ]
  },
  {
   "cell_type": "code",
   "execution_count": null,
   "id": "extra-executive",
   "metadata": {
    "papermill": {
     "duration": 0.022451,
     "end_time": "2021-10-16T03:00:11.281396",
     "exception": false,
     "start_time": "2021-10-16T03:00:11.258945",
     "status": "completed"
    },
    "tags": []
   },
   "outputs": [],
   "source": []
  }
 ],
 "metadata": {
  "kernelspec": {
   "display_name": "Python 3",
   "language": "python",
   "name": "python3"
  },
  "language_info": {
   "codemirror_mode": {
    "name": "ipython",
    "version": 3
   },
   "file_extension": ".py",
   "mimetype": "text/x-python",
   "name": "python",
   "nbconvert_exporter": "python",
   "pygments_lexer": "ipython3",
   "version": "3.9.5"
  },
  "papermill": {
   "default_parameters": {},
   "duration": 7.817959,
   "end_time": "2021-10-16T03:00:12.496752",
   "environment_variables": {},
   "exception": null,
   "input_path": "eBay_Overview.ipynb",
   "output_path": "eBay_Overview.ipynb",
   "parameters": {},
   "start_time": "2021-10-16T03:00:04.678793",
   "version": "2.3.3"
  }
 },
 "nbformat": 4,
 "nbformat_minor": 5
}