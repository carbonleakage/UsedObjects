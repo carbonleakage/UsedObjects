{
 "cells": [
  {
   "cell_type": "code",
   "execution_count": 1,
   "id": "reverse-picking",
   "metadata": {
    "execution": {
     "iopub.execute_input": "2021-09-17T04:30:06.716713Z",
     "iopub.status.busy": "2021-09-17T04:30:06.714621Z",
     "iopub.status.idle": "2021-09-17T04:30:07.514880Z",
     "shell.execute_reply": "2021-09-17T04:30:07.516245Z"
    },
    "papermill": {
     "duration": 0.850558,
     "end_time": "2021-09-17T04:30:07.516883",
     "exception": false,
     "start_time": "2021-09-17T04:30:06.666325",
     "status": "completed"
    },
    "tags": []
   },
   "outputs": [],
   "source": [
    "import pandas as pd\n",
    "import sqlite3"
   ]
  },
  {
   "cell_type": "code",
   "execution_count": 2,
   "id": "innovative-syndrome",
   "metadata": {
    "execution": {
     "iopub.execute_input": "2021-09-17T04:30:07.567036Z",
     "iopub.status.busy": "2021-09-17T04:30:07.565042Z",
     "iopub.status.idle": "2021-09-17T04:30:07.866772Z",
     "shell.execute_reply": "2021-09-17T04:30:07.868035Z"
    },
    "papermill": {
     "duration": 0.331395,
     "end_time": "2021-09-17T04:30:07.868431",
     "exception": false,
     "start_time": "2021-09-17T04:30:07.537036",
     "status": "completed"
    },
    "tags": []
   },
   "outputs": [],
   "source": [
    "timestamps = pd.read_sql(\"select distinct record_time from EBAY_TOP_BERLIN order by record_time desc limit 2\", sqlite3.connect(\"UsedObjects.db\"))"
   ]
  },
  {
   "cell_type": "code",
   "execution_count": 3,
   "id": "periodic-identification",
   "metadata": {
    "execution": {
     "iopub.execute_input": "2021-09-17T04:30:07.934832Z",
     "iopub.status.busy": "2021-09-17T04:30:07.932802Z",
     "iopub.status.idle": "2021-09-17T04:30:07.955172Z",
     "shell.execute_reply": "2021-09-17T04:30:07.956650Z"
    },
    "papermill": {
     "duration": 0.067068,
     "end_time": "2021-09-17T04:30:07.957093",
     "exception": false,
     "start_time": "2021-09-17T04:30:07.890025",
     "status": "completed"
    },
    "tags": []
   },
   "outputs": [
    {
     "data": {
      "text/html": [
       "<div>\n",
       "<style scoped>\n",
       "    .dataframe tbody tr th:only-of-type {\n",
       "        vertical-align: middle;\n",
       "    }\n",
       "\n",
       "    .dataframe tbody tr th {\n",
       "        vertical-align: top;\n",
       "    }\n",
       "\n",
       "    .dataframe thead th {\n",
       "        text-align: right;\n",
       "    }\n",
       "</style>\n",
       "<table border=\"1\" class=\"dataframe\">\n",
       "  <thead>\n",
       "    <tr style=\"text-align: right;\">\n",
       "      <th></th>\n",
       "      <th>RECORD_TIME</th>\n",
       "    </tr>\n",
       "  </thead>\n",
       "  <tbody>\n",
       "    <tr>\n",
       "      <th>0</th>\n",
       "      <td>2021-09-17 06:30</td>\n",
       "    </tr>\n",
       "    <tr>\n",
       "      <th>1</th>\n",
       "      <td>2021-09-17 06:00</td>\n",
       "    </tr>\n",
       "  </tbody>\n",
       "</table>\n",
       "</div>"
      ],
      "text/plain": [
       "        RECORD_TIME\n",
       "0  2021-09-17 06:30\n",
       "1  2021-09-17 06:00"
      ]
     },
     "execution_count": 3,
     "metadata": {},
     "output_type": "execute_result"
    }
   ],
   "source": [
    "timestamps"
   ]
  },
  {
   "cell_type": "code",
   "execution_count": 4,
   "id": "alternate-victory",
   "metadata": {
    "execution": {
     "iopub.execute_input": "2021-09-17T04:30:08.008266Z",
     "iopub.status.busy": "2021-09-17T04:30:08.006320Z",
     "iopub.status.idle": "2021-09-17T04:30:08.451525Z",
     "shell.execute_reply": "2021-09-17T04:30:08.452980Z"
    },
    "papermill": {
     "duration": 0.475254,
     "end_time": "2021-09-17T04:30:08.453417",
     "exception": false,
     "start_time": "2021-09-17T04:30:07.978163",
     "status": "completed"
    },
    "tags": []
   },
   "outputs": [],
   "source": [
    "df = pd.read_sql(\"select * from EBAY_TOP_BERLIN where record_time in (select distinct record_time from EBAY_TOP_BERLIN order by record_time desc limit 2)\", sqlite3.connect(\"UsedObjects.db\"))"
   ]
  },
  {
   "cell_type": "code",
   "execution_count": 5,
   "id": "popular-active",
   "metadata": {
    "execution": {
     "iopub.execute_input": "2021-09-17T04:30:08.534023Z",
     "iopub.status.busy": "2021-09-17T04:30:08.521380Z",
     "iopub.status.idle": "2021-09-17T04:30:08.549872Z",
     "shell.execute_reply": "2021-09-17T04:30:08.551313Z"
    },
    "papermill": {
     "duration": 0.072115,
     "end_time": "2021-09-17T04:30:08.551749",
     "exception": false,
     "start_time": "2021-09-17T04:30:08.479634",
     "status": "completed"
    },
    "tags": []
   },
   "outputs": [],
   "source": [
    "df_pivot = df.pivot_table(index=\"PRODUCT\", columns = \"RECORD_TIME\", values = \"LISTING_COUNT\")"
   ]
  },
  {
   "cell_type": "code",
   "execution_count": 6,
   "id": "union-huntington",
   "metadata": {
    "execution": {
     "iopub.execute_input": "2021-09-17T04:30:08.608193Z",
     "iopub.status.busy": "2021-09-17T04:30:08.606022Z",
     "iopub.status.idle": "2021-09-17T04:30:08.611498Z",
     "shell.execute_reply": "2021-09-17T04:30:08.612771Z"
    },
    "papermill": {
     "duration": 0.040466,
     "end_time": "2021-09-17T04:30:08.613214",
     "exception": false,
     "start_time": "2021-09-17T04:30:08.572748",
     "status": "completed"
    },
    "tags": []
   },
   "outputs": [],
   "source": [
    "df_pivot.columns = [\"stamp_1\", \"stamp_2\"]\n",
    "df_pivot_diff = df_pivot.diff(axis=1)"
   ]
  },
  {
   "cell_type": "code",
   "execution_count": 7,
   "id": "fifth-motion",
   "metadata": {
    "execution": {
     "iopub.execute_input": "2021-09-17T04:30:08.667355Z",
     "iopub.status.busy": "2021-09-17T04:30:08.664856Z",
     "iopub.status.idle": "2021-09-17T04:30:10.171202Z",
     "shell.execute_reply": "2021-09-17T04:30:10.172772Z"
    },
    "papermill": {
     "duration": 1.539431,
     "end_time": "2021-09-17T04:30:10.173254",
     "exception": false,
     "start_time": "2021-09-17T04:30:08.633823",
     "status": "completed"
    },
    "tags": []
   },
   "outputs": [
    {
     "data": {
      "text/plain": [
       "<AxesSubplot:ylabel='PRODUCT'>"
      ]
     },
     "execution_count": 7,
     "metadata": {},
     "output_type": "execute_result"
    },
    {
     "data": {
      "image/png": "[encoded data removed]",
      "text/plain": [
       "<Figure size 432x288 with 1 Axes>"
      ]
     },
     "metadata": {
      "needs_background": "light"
     },
     "output_type": "display_data"
    }
   ],
   "source": [
    "df_pivot_diff.sort_values(\"stamp_2\", ascending = False)[\"stamp_2\"].head(10).plot.barh()"
   ]
  },
  {
   "cell_type": "code",
   "execution_count": null,
   "id": "extra-executive",
   "metadata": {
    "papermill": {
     "duration": 0.022267,
     "end_time": "2021-09-17T04:30:10.220923",
     "exception": false,
     "start_time": "2021-09-17T04:30:10.198656",
     "status": "completed"
    },
    "tags": []
   },
   "outputs": [],
   "source": []
  }
 ],
 "metadata": {
  "kernelspec": {
   "display_name": "Python 3",
   "language": "python",
   "name": "python3"
  },
  "language_info": {
   "codemirror_mode": {
    "name": "ipython",
    "version": 3
   },
   "file_extension": ".py",
   "mimetype": "text/x-python",
   "name": "python",
   "nbconvert_exporter": "python",
   "pygments_lexer": "ipython3",
   "version": "3.9.5"
  },
  "papermill": {
   "default_parameters": {},
   "duration": 6.574075,
   "end_time": "2021-09-17T04:30:10.863501",
   "environment_variables": {},
   "exception": null,
   "input_path": "eBay_Overview.ipynb",
   "output_path": "eBay_Overview.ipynb",
   "parameters": {},
   "start_time": "2021-09-17T04:30:04.289426",
   "version": "2.3.3"
  }
 },
 "nbformat": 4,
 "nbformat_minor": 5
}