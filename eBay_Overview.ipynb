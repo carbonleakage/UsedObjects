{
 "cells": [
  {
   "cell_type": "code",
   "execution_count": 1,
   "id": "reverse-picking",
   "metadata": {
    "execution": {
     "iopub.execute_input": "2021-11-12T01:00:07.590134Z",
     "iopub.status.busy": "2021-11-12T01:00:07.588062Z",
     "iopub.status.idle": "2021-11-12T01:00:08.545060Z",
     "shell.execute_reply": "2021-11-12T01:00:08.546568Z"
    },
    "papermill": {
     "duration": 1.006304,
     "end_time": "2021-11-12T01:00:08.547297",
     "exception": false,
     "start_time": "2021-11-12T01:00:07.540993",
     "status": "completed"
    },
    "tags": []
   },
   "outputs": [],
   "source": [
    "import pandas as pd\n",
    "import sqlite3"
   ]
  },
  {
   "cell_type": "code",
   "execution_count": 2,
   "id": "innovative-syndrome",
   "metadata": {
    "execution": {
     "iopub.execute_input": "2021-11-12T01:00:08.614653Z",
     "iopub.status.busy": "2021-11-12T01:00:08.612379Z",
     "iopub.status.idle": "2021-11-12T01:00:09.412573Z",
     "shell.execute_reply": "2021-11-12T01:00:09.414216Z"
    },
    "papermill": {
     "duration": 0.834122,
     "end_time": "2021-11-12T01:00:09.414723",
     "exception": false,
     "start_time": "2021-11-12T01:00:08.580601",
     "status": "completed"
    },
    "tags": []
   },
   "outputs": [],
   "source": [
    "timestamps = pd.read_sql(\"select distinct record_time from EBAY_TOP_BERLIN order by record_time desc limit 2\", sqlite3.connect(\"UsedObjects.db\"))"
   ]
  },
  {
   "cell_type": "code",
   "execution_count": 3,
   "id": "periodic-identification",
   "metadata": {
    "execution": {
     "iopub.execute_input": "2021-11-12T01:00:09.489069Z",
     "iopub.status.busy": "2021-11-12T01:00:09.482716Z",
     "iopub.status.idle": "2021-11-12T01:00:09.505511Z",
     "shell.execute_reply": "2021-11-12T01:00:09.506934Z"
    },
    "papermill": {
     "duration": 0.072624,
     "end_time": "2021-11-12T01:00:09.507414",
     "exception": false,
     "start_time": "2021-11-12T01:00:09.434790",
     "status": "completed"
    },
    "tags": []
   },
   "outputs": [
    {
     "data": {
      "text/html": [
       "<div>\n",
       "<style scoped>\n",
       "    .dataframe tbody tr th:only-of-type {\n",
       "        vertical-align: middle;\n",
       "    }\n",
       "\n",
       "    .dataframe tbody tr th {\n",
       "        vertical-align: top;\n",
       "    }\n",
       "\n",
       "    .dataframe thead th {\n",
       "        text-align: right;\n",
       "    }\n",
       "</style>\n",
       "<table border=\"1\" class=\"dataframe\">\n",
       "  <thead>\n",
       "    <tr style=\"text-align: right;\">\n",
       "      <th></th>\n",
       "      <th>RECORD_TIME</th>\n",
       "    </tr>\n",
       "  </thead>\n",
       "  <tbody>\n",
       "    <tr>\n",
       "      <th>0</th>\n",
       "      <td>2021-11-12 02:00</td>\n",
       "    </tr>\n",
       "    <tr>\n",
       "      <th>1</th>\n",
       "      <td>2021-11-12 01:30</td>\n",
       "    </tr>\n",
       "  </tbody>\n",
       "</table>\n",
       "</div>"
      ],
      "text/plain": [
       "        RECORD_TIME\n",
       "0  2021-11-12 02:00\n",
       "1  2021-11-12 01:30"
      ]
     },
     "execution_count": 3,
     "metadata": {},
     "output_type": "execute_result"
    }
   ],
   "source": [
    "timestamps"
   ]
  },
  {
   "cell_type": "code",
   "execution_count": 4,
   "id": "alternate-victory",
   "metadata": {
    "execution": {
     "iopub.execute_input": "2021-11-12T01:00:09.562475Z",
     "iopub.status.busy": "2021-11-12T01:00:09.560091Z",
     "iopub.status.idle": "2021-11-12T01:00:10.707985Z",
     "shell.execute_reply": "2021-11-12T01:00:10.709661Z"
    },
    "papermill": {
     "duration": 1.181312,
     "end_time": "2021-11-12T01:00:10.710289",
     "exception": false,
     "start_time": "2021-11-12T01:00:09.528977",
     "status": "completed"
    },
    "tags": []
   },
   "outputs": [],
   "source": [
    "df = pd.read_sql(\"select * from EBAY_TOP_BERLIN where record_time in (select distinct record_time from EBAY_TOP_BERLIN order by record_time desc limit 2)\", sqlite3.connect(\"UsedObjects.db\"))"
   ]
  },
  {
   "cell_type": "code",
   "execution_count": 5,
   "id": "popular-active",
   "metadata": {
    "execution": {
     "iopub.execute_input": "2021-11-12T01:00:10.782783Z",
     "iopub.status.busy": "2021-11-12T01:00:10.773901Z",
     "iopub.status.idle": "2021-11-12T01:00:10.807714Z",
     "shell.execute_reply": "2021-11-12T01:00:10.809350Z"
    },
    "papermill": {
     "duration": 0.078397,
     "end_time": "2021-11-12T01:00:10.809885",
     "exception": false,
     "start_time": "2021-11-12T01:00:10.731488",
     "status": "completed"
    },
    "tags": []
   },
   "outputs": [],
   "source": [
    "df_pivot = df.pivot_table(index=\"PRODUCT\", columns = \"RECORD_TIME\", values = \"LISTING_COUNT\")"
   ]
  },
  {
   "cell_type": "code",
   "execution_count": 6,
   "id": "union-huntington",
   "metadata": {
    "execution": {
     "iopub.execute_input": "2021-11-12T01:00:10.872237Z",
     "iopub.status.busy": "2021-11-12T01:00:10.870043Z",
     "iopub.status.idle": "2021-11-12T01:00:10.876839Z",
     "shell.execute_reply": "2021-11-12T01:00:10.875224Z"
    },
    "papermill": {
     "duration": 0.046343,
     "end_time": "2021-11-12T01:00:10.877274",
     "exception": false,
     "start_time": "2021-11-12T01:00:10.830931",
     "status": "completed"
    },
    "tags": []
   },
   "outputs": [],
   "source": [
    "df_pivot.columns = [\"stamp_1\", \"stamp_2\"]\n",
    "df_pivot_diff = df_pivot.diff(axis=1)"
   ]
  },
  {
   "cell_type": "code",
   "execution_count": 7,
   "id": "fifth-motion",
   "metadata": {
    "execution": {
     "iopub.execute_input": "2021-11-12T01:00:10.945391Z",
     "iopub.status.busy": "2021-11-12T01:00:10.933271Z",
     "iopub.status.idle": "2021-11-12T01:00:12.734076Z",
     "shell.execute_reply": "2021-11-12T01:00:12.735439Z"
    },
    "papermill": {
     "duration": 1.837514,
     "end_time": "2021-11-12T01:00:12.735920",
     "exception": false,
     "start_time": "2021-11-12T01:00:10.898406",
     "status": "completed"
    },
    "tags": []
   },
   "outputs": [
    {
     "data": {
      "text/plain": [
       "<AxesSubplot:ylabel='PRODUCT'>"
      ]
     },
     "execution_count": 7,
     "metadata": {},
     "output_type": "execute_result"
    },
    {
     "data": {
      "image/png": "[encoded data removed]",
      "text/plain": [
       "<Figure size 432x288 with 1 Axes>"
      ]
     },
     "metadata": {
      "needs_background": "light"
     },
     "output_type": "display_data"
    }
   ],
   "source": [
    "df_pivot_diff.sort_values(\"stamp_2\", ascending = False)[\"stamp_2\"].head(10).plot.barh()"
   ]
  },
  {
   "cell_type": "code",
   "execution_count": null,
   "id": "extra-executive",
   "metadata": {
    "papermill": {
     "duration": 0.024391,
     "end_time": "2021-11-12T01:00:12.786024",
     "exception": false,
     "start_time": "2021-11-12T01:00:12.761633",
     "status": "completed"
    },
    "tags": []
   },
   "outputs": [],
   "source": []
  }
 ],
 "metadata": {
  "kernelspec": {
   "display_name": "Python 3",
   "language": "python",
   "name": "python3"
  },
  "language_info": {
   "codemirror_mode": {
    "name": "ipython",
    "version": 3
   },
   "file_extension": ".py",
   "mimetype": "text/x-python",
   "name": "python",
   "nbconvert_exporter": "python",
   "pygments_lexer": "ipython3",
   "version": "3.9.5"
  },
  "papermill": {
   "default_parameters": {},
   "duration": 8.913055,
   "end_time": "2021-11-12T01:00:13.641194",
   "environment_variables": {},
   "exception": null,
   "input_path": "eBay_Overview.ipynb",
   "output_path": "eBay_Overview.ipynb",
   "parameters": {},
   "start_time": "2021-11-12T01:00:04.728139",
   "version": "2.3.3"
  }
 },
 "nbformat": 4,
 "nbformat_minor": 5
}