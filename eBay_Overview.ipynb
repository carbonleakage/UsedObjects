{
 "cells": [
  {
   "cell_type": "code",
   "execution_count": 1,
   "id": "reverse-picking",
   "metadata": {
    "execution": {
     "iopub.execute_input": "2021-08-22T21:30:06.976779Z",
     "iopub.status.busy": "2021-08-22T21:30:06.974879Z",
     "iopub.status.idle": "2021-08-22T21:30:07.779462Z",
     "shell.execute_reply": "2021-08-22T21:30:07.780732Z"
    },
    "papermill": {
     "duration": 0.855337,
     "end_time": "2021-08-22T21:30:07.781359",
     "exception": false,
     "start_time": "2021-08-22T21:30:06.926022",
     "status": "completed"
    },
    "tags": []
   },
   "outputs": [],
   "source": [
    "import pandas as pd\n",
    "import sqlite3"
   ]
  },
  {
   "cell_type": "code",
   "execution_count": 2,
   "id": "innovative-syndrome",
   "metadata": {
    "execution": {
     "iopub.execute_input": "2021-08-22T21:30:07.831138Z",
     "iopub.status.busy": "2021-08-22T21:30:07.829187Z",
     "iopub.status.idle": "2021-08-22T21:30:07.935162Z",
     "shell.execute_reply": "2021-08-22T21:30:07.936422Z"
    },
    "papermill": {
     "duration": 0.135361,
     "end_time": "2021-08-22T21:30:07.936820",
     "exception": false,
     "start_time": "2021-08-22T21:30:07.801459",
     "status": "completed"
    },
    "tags": []
   },
   "outputs": [],
   "source": [
    "timestamps = pd.read_sql(\"select distinct record_time from EBAY_TOP_BERLIN order by record_time desc limit 2\", sqlite3.connect(\"UsedObjects.db\"))"
   ]
  },
  {
   "cell_type": "code",
   "execution_count": 3,
   "id": "periodic-identification",
   "metadata": {
    "execution": {
     "iopub.execute_input": "2021-08-22T21:30:08.000839Z",
     "iopub.status.busy": "2021-08-22T21:30:07.998849Z",
     "iopub.status.idle": "2021-08-22T21:30:08.021219Z",
     "shell.execute_reply": "2021-08-22T21:30:08.023020Z"
    },
    "papermill": {
     "duration": 0.067348,
     "end_time": "2021-08-22T21:30:08.023559",
     "exception": false,
     "start_time": "2021-08-22T21:30:07.956211",
     "status": "completed"
    },
    "tags": []
   },
   "outputs": [
    {
     "data": {
      "text/html": [
       "<div>\n",
       "<style scoped>\n",
       "    .dataframe tbody tr th:only-of-type {\n",
       "        vertical-align: middle;\n",
       "    }\n",
       "\n",
       "    .dataframe tbody tr th {\n",
       "        vertical-align: top;\n",
       "    }\n",
       "\n",
       "    .dataframe thead th {\n",
       "        text-align: right;\n",
       "    }\n",
       "</style>\n",
       "<table border=\"1\" class=\"dataframe\">\n",
       "  <thead>\n",
       "    <tr style=\"text-align: right;\">\n",
       "      <th></th>\n",
       "      <th>RECORD_TIME</th>\n",
       "    </tr>\n",
       "  </thead>\n",
       "  <tbody>\n",
       "    <tr>\n",
       "      <th>0</th>\n",
       "      <td>2021-08-22 23:30</td>\n",
       "    </tr>\n",
       "    <tr>\n",
       "      <th>1</th>\n",
       "      <td>2021-08-22 23:00</td>\n",
       "    </tr>\n",
       "  </tbody>\n",
       "</table>\n",
       "</div>"
      ],
      "text/plain": [
       "        RECORD_TIME\n",
       "0  2021-08-22 23:30\n",
       "1  2021-08-22 23:00"
      ]
     },
     "execution_count": 3,
     "metadata": {},
     "output_type": "execute_result"
    }
   ],
   "source": [
    "timestamps"
   ]
  },
  {
   "cell_type": "code",
   "execution_count": 4,
   "id": "alternate-victory",
   "metadata": {
    "execution": {
     "iopub.execute_input": "2021-08-22T21:30:08.076293Z",
     "iopub.status.busy": "2021-08-22T21:30:08.074477Z",
     "iopub.status.idle": "2021-08-22T21:30:08.233738Z",
     "shell.execute_reply": "2021-08-22T21:30:08.235944Z"
    },
    "papermill": {
     "duration": 0.190068,
     "end_time": "2021-08-22T21:30:08.236392",
     "exception": false,
     "start_time": "2021-08-22T21:30:08.046324",
     "status": "completed"
    },
    "tags": []
   },
   "outputs": [],
   "source": [
    "df = pd.read_sql(\"select * from EBAY_TOP_BERLIN where record_time in (select distinct record_time from EBAY_TOP_BERLIN order by record_time desc limit 2)\", sqlite3.connect(\"UsedObjects.db\"))"
   ]
  },
  {
   "cell_type": "code",
   "execution_count": 5,
   "id": "popular-active",
   "metadata": {
    "execution": {
     "iopub.execute_input": "2021-08-22T21:30:08.306173Z",
     "iopub.status.busy": "2021-08-22T21:30:08.295520Z",
     "iopub.status.idle": "2021-08-22T21:30:08.322663Z",
     "shell.execute_reply": "2021-08-22T21:30:08.323895Z"
    },
    "papermill": {
     "duration": 0.067696,
     "end_time": "2021-08-22T21:30:08.324290",
     "exception": false,
     "start_time": "2021-08-22T21:30:08.256594",
     "status": "completed"
    },
    "tags": []
   },
   "outputs": [],
   "source": [
    "df_pivot = df.pivot_table(index=\"PRODUCT\", columns = \"RECORD_TIME\", values = \"LISTING_COUNT\")"
   ]
  },
  {
   "cell_type": "code",
   "execution_count": 6,
   "id": "union-huntington",
   "metadata": {
    "execution": {
     "iopub.execute_input": "2021-08-22T21:30:08.385081Z",
     "iopub.status.busy": "2021-08-22T21:30:08.382645Z",
     "iopub.status.idle": "2021-08-22T21:30:08.388905Z",
     "shell.execute_reply": "2021-08-22T21:30:08.390162Z"
    },
    "papermill": {
     "duration": 0.042706,
     "end_time": "2021-08-22T21:30:08.390595",
     "exception": false,
     "start_time": "2021-08-22T21:30:08.347889",
     "status": "completed"
    },
    "tags": []
   },
   "outputs": [],
   "source": [
    "df_pivot.columns = [\"stamp_1\", \"stamp_2\"]\n",
    "df_pivot_diff = df_pivot.diff(axis=1)"
   ]
  },
  {
   "cell_type": "code",
   "execution_count": 7,
   "id": "fifth-motion",
   "metadata": {
    "execution": {
     "iopub.execute_input": "2021-08-22T21:30:08.464031Z",
     "iopub.status.busy": "2021-08-22T21:30:08.461405Z",
     "iopub.status.idle": "2021-08-22T21:30:09.950875Z",
     "shell.execute_reply": "2021-08-22T21:30:09.952251Z"
    },
    "papermill": {
     "duration": 1.529232,
     "end_time": "2021-08-22T21:30:09.952689",
     "exception": false,
     "start_time": "2021-08-22T21:30:08.423457",
     "status": "completed"
    },
    "tags": []
   },
   "outputs": [
    {
     "data": {
      "text/plain": [
       "<AxesSubplot:ylabel='PRODUCT'>"
      ]
     },
     "execution_count": 7,
     "metadata": {},
     "output_type": "execute_result"
    },
    {
     "data": {
      "image/png": "[encoded data removed]",
      "text/plain": [
       "<Figure size 432x288 with 1 Axes>"
      ]
     },
     "metadata": {
      "needs_background": "light"
     },
     "output_type": "display_data"
    }
   ],
   "source": [
    "df_pivot_diff.sort_values(\"stamp_2\", ascending = False)[\"stamp_2\"].head(10).plot.barh()"
   ]
  },
  {
   "cell_type": "code",
   "execution_count": null,
   "id": "extra-executive",
   "metadata": {
    "papermill": {
     "duration": 0.022208,
     "end_time": "2021-08-22T21:30:09.999952",
     "exception": false,
     "start_time": "2021-08-22T21:30:09.977744",
     "status": "completed"
    },
    "tags": []
   },
   "outputs": [],
   "source": []
  }
 ],
 "metadata": {
  "kernelspec": {
   "display_name": "Python 3",
   "language": "python",
   "name": "python3"
  },
  "language_info": {
   "codemirror_mode": {
    "name": "ipython",
    "version": 3
   },
   "file_extension": ".py",
   "mimetype": "text/x-python",
   "name": "python",
   "nbconvert_exporter": "python",
   "pygments_lexer": "ipython3",
   "version": "3.9.5"
  },
  "papermill": {
   "default_parameters": {},
   "duration": 6.832164,
   "end_time": "2021-08-22T21:30:11.351590",
   "environment_variables": {},
   "exception": null,
   "input_path": "eBay_Overview.ipynb",
   "output_path": "eBay_Overview.ipynb",
   "parameters": {},
   "start_time": "2021-08-22T21:30:04.519426",
   "version": "2.3.3"
  }
 },
 "nbformat": 4,
 "nbformat_minor": 5
}