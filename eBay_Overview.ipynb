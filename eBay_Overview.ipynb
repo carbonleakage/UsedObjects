{
 "cells": [
  {
   "cell_type": "code",
   "execution_count": 1,
   "id": "reverse-picking",
   "metadata": {
    "execution": {
     "iopub.execute_input": "2021-11-25T02:30:07.157807Z",
     "iopub.status.busy": "2021-11-25T02:30:07.140456Z",
     "iopub.status.idle": "2021-11-25T02:30:08.114232Z",
     "shell.execute_reply": "2021-11-25T02:30:08.115774Z"
    },
    "papermill": {
     "duration": 1.005396,
     "end_time": "2021-11-25T02:30:08.116523",
     "exception": false,
     "start_time": "2021-11-25T02:30:07.111127",
     "status": "completed"
    },
    "tags": []
   },
   "outputs": [],
   "source": [
    "import pandas as pd\n",
    "import sqlite3"
   ]
  },
  {
   "cell_type": "code",
   "execution_count": 2,
   "id": "innovative-syndrome",
   "metadata": {
    "execution": {
     "iopub.execute_input": "2021-11-25T02:30:08.230116Z",
     "iopub.status.busy": "2021-11-25T02:30:08.227778Z",
     "iopub.status.idle": "2021-11-25T02:30:09.128535Z",
     "shell.execute_reply": "2021-11-25T02:30:09.130653Z"
    },
    "papermill": {
     "duration": 0.93506,
     "end_time": "2021-11-25T02:30:09.131117",
     "exception": false,
     "start_time": "2021-11-25T02:30:08.196057",
     "status": "completed"
    },
    "tags": []
   },
   "outputs": [],
   "source": [
    "timestamps = pd.read_sql(\"select distinct record_time from EBAY_TOP_BERLIN order by record_time desc limit 2\", sqlite3.connect(\"UsedObjects.db\"))"
   ]
  },
  {
   "cell_type": "code",
   "execution_count": 3,
   "id": "periodic-identification",
   "metadata": {
    "execution": {
     "iopub.execute_input": "2021-11-25T02:30:09.201327Z",
     "iopub.status.busy": "2021-11-25T02:30:09.198994Z",
     "iopub.status.idle": "2021-11-25T02:30:09.220331Z",
     "shell.execute_reply": "2021-11-25T02:30:09.221909Z"
    },
    "papermill": {
     "duration": 0.070575,
     "end_time": "2021-11-25T02:30:09.222392",
     "exception": false,
     "start_time": "2021-11-25T02:30:09.151817",
     "status": "completed"
    },
    "tags": []
   },
   "outputs": [
    {
     "data": {
      "text/html": [
       "<div>\n",
       "<style scoped>\n",
       "    .dataframe tbody tr th:only-of-type {\n",
       "        vertical-align: middle;\n",
       "    }\n",
       "\n",
       "    .dataframe tbody tr th {\n",
       "        vertical-align: top;\n",
       "    }\n",
       "\n",
       "    .dataframe thead th {\n",
       "        text-align: right;\n",
       "    }\n",
       "</style>\n",
       "<table border=\"1\" class=\"dataframe\">\n",
       "  <thead>\n",
       "    <tr style=\"text-align: right;\">\n",
       "      <th></th>\n",
       "      <th>RECORD_TIME</th>\n",
       "    </tr>\n",
       "  </thead>\n",
       "  <tbody>\n",
       "    <tr>\n",
       "      <th>0</th>\n",
       "      <td>2021-11-25 03:30</td>\n",
       "    </tr>\n",
       "    <tr>\n",
       "      <th>1</th>\n",
       "      <td>2021-11-25 03:00</td>\n",
       "    </tr>\n",
       "  </tbody>\n",
       "</table>\n",
       "</div>"
      ],
      "text/plain": [
       "        RECORD_TIME\n",
       "0  2021-11-25 03:30\n",
       "1  2021-11-25 03:00"
      ]
     },
     "execution_count": 3,
     "metadata": {},
     "output_type": "execute_result"
    }
   ],
   "source": [
    "timestamps"
   ]
  },
  {
   "cell_type": "code",
   "execution_count": 4,
   "id": "alternate-victory",
   "metadata": {
    "execution": {
     "iopub.execute_input": "2021-11-25T02:30:09.278054Z",
     "iopub.status.busy": "2021-11-25T02:30:09.275748Z",
     "iopub.status.idle": "2021-11-25T02:30:10.559496Z",
     "shell.execute_reply": "2021-11-25T02:30:10.561934Z"
    },
    "papermill": {
     "duration": 1.318901,
     "end_time": "2021-11-25T02:30:10.562440",
     "exception": false,
     "start_time": "2021-11-25T02:30:09.243539",
     "status": "completed"
    },
    "tags": []
   },
   "outputs": [],
   "source": [
    "df = pd.read_sql(\"select * from EBAY_TOP_BERLIN where record_time in (select distinct record_time from EBAY_TOP_BERLIN order by record_time desc limit 2)\", sqlite3.connect(\"UsedObjects.db\"))"
   ]
  },
  {
   "cell_type": "code",
   "execution_count": 5,
   "id": "popular-active",
   "metadata": {
    "execution": {
     "iopub.execute_input": "2021-11-25T02:30:10.625654Z",
     "iopub.status.busy": "2021-11-25T02:30:10.623314Z",
     "iopub.status.idle": "2021-11-25T02:30:10.653193Z",
     "shell.execute_reply": "2021-11-25T02:30:10.654536Z"
    },
    "papermill": {
     "duration": 0.071845,
     "end_time": "2021-11-25T02:30:10.654993",
     "exception": false,
     "start_time": "2021-11-25T02:30:10.583148",
     "status": "completed"
    },
    "tags": []
   },
   "outputs": [],
   "source": [
    "df_pivot = df.pivot_table(index=\"PRODUCT\", columns = \"RECORD_TIME\", values = \"LISTING_COUNT\")"
   ]
  },
  {
   "cell_type": "code",
   "execution_count": 6,
   "id": "union-huntington",
   "metadata": {
    "execution": {
     "iopub.execute_input": "2021-11-25T02:30:10.721333Z",
     "iopub.status.busy": "2021-11-25T02:30:10.717056Z",
     "iopub.status.idle": "2021-11-25T02:30:10.731079Z",
     "shell.execute_reply": "2021-11-25T02:30:10.728081Z"
    },
    "papermill": {
     "duration": 0.056479,
     "end_time": "2021-11-25T02:30:10.731819",
     "exception": false,
     "start_time": "2021-11-25T02:30:10.675340",
     "status": "completed"
    },
    "tags": []
   },
   "outputs": [],
   "source": [
    "df_pivot.columns = [\"stamp_1\", \"stamp_2\"]\n",
    "df_pivot_diff = df_pivot.diff(axis=1)"
   ]
  },
  {
   "cell_type": "code",
   "execution_count": 7,
   "id": "fifth-motion",
   "metadata": {
    "execution": {
     "iopub.execute_input": "2021-11-25T02:30:10.810379Z",
     "iopub.status.busy": "2021-11-25T02:30:10.807471Z",
     "iopub.status.idle": "2021-11-25T02:30:12.560270Z",
     "shell.execute_reply": "2021-11-25T02:30:12.557274Z"
    },
    "papermill": {
     "duration": 1.797259,
     "end_time": "2021-11-25T02:30:12.561074",
     "exception": false,
     "start_time": "2021-11-25T02:30:10.763815",
     "status": "completed"
    },
    "tags": []
   },
   "outputs": [
    {
     "data": {
      "text/plain": [
       "<AxesSubplot:ylabel='PRODUCT'>"
      ]
     },
     "execution_count": 7,
     "metadata": {},
     "output_type": "execute_result"
    },
    {
     "data": {
      "image/png": "[encoded data removed]",
      "text/plain": [
       "<Figure size 432x288 with 1 Axes>"
      ]
     },
     "metadata": {
      "needs_background": "light"
     },
     "output_type": "display_data"
    }
   ],
   "source": [
    "df_pivot_diff.sort_values(\"stamp_2\", ascending = False)[\"stamp_2\"].head(10).plot.barh()"
   ]
  },
  {
   "cell_type": "code",
   "execution_count": null,
   "id": "extra-executive",
   "metadata": {
    "papermill": {
     "duration": 0.058241,
     "end_time": "2021-11-25T02:30:12.656502",
     "exception": false,
     "start_time": "2021-11-25T02:30:12.598261",
     "status": "completed"
    },
    "tags": []
   },
   "outputs": [],
   "source": []
  }
 ],
 "metadata": {
  "kernelspec": {
   "display_name": "Python 3",
   "language": "python",
   "name": "python3"
  },
  "language_info": {
   "codemirror_mode": {
    "name": "ipython",
    "version": 3
   },
   "file_extension": ".py",
   "mimetype": "text/x-python",
   "name": "python",
   "nbconvert_exporter": "python",
   "pygments_lexer": "ipython3",
   "version": "3.9.5"
  },
  "papermill": {
   "default_parameters": {},
   "duration": 10.007028,
   "end_time": "2021-11-25T02:30:14.294157",
   "environment_variables": {},
   "exception": null,
   "input_path": "eBay_Overview.ipynb",
   "output_path": "eBay_Overview.ipynb",
   "parameters": {},
   "start_time": "2021-11-25T02:30:04.287129",
   "version": "2.3.3"
  }
 },
 "nbformat": 4,
 "nbformat_minor": 5
}