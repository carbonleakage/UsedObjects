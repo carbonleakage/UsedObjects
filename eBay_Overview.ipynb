{
 "cells": [
  {
   "cell_type": "code",
   "execution_count": 1,
   "id": "reverse-picking",
   "metadata": {
    "execution": {
     "iopub.execute_input": "2021-12-03T12:30:08.307565Z",
     "iopub.status.busy": "2021-12-03T12:30:08.305215Z",
     "iopub.status.idle": "2021-12-03T12:30:09.241930Z",
     "shell.execute_reply": "2021-12-03T12:30:09.243618Z"
    },
    "papermill": {
     "duration": 0.986734,
     "end_time": "2021-12-03T12:30:09.244363",
     "exception": false,
     "start_time": "2021-12-03T12:30:08.257629",
     "status": "completed"
    },
    "tags": []
   },
   "outputs": [],
   "source": [
    "import pandas as pd\n",
    "import sqlite3"
   ]
  },
  {
   "cell_type": "code",
   "execution_count": 2,
   "id": "innovative-syndrome",
   "metadata": {
    "execution": {
     "iopub.execute_input": "2021-12-03T12:30:09.319481Z",
     "iopub.status.busy": "2021-12-03T12:30:09.317061Z",
     "iopub.status.idle": "2021-12-03T12:30:10.297617Z",
     "shell.execute_reply": "2021-12-03T12:30:10.299755Z"
    },
    "papermill": {
     "duration": 1.015527,
     "end_time": "2021-12-03T12:30:10.300250",
     "exception": false,
     "start_time": "2021-12-03T12:30:09.284723",
     "status": "completed"
    },
    "tags": []
   },
   "outputs": [],
   "source": [
    "timestamps = pd.read_sql(\"select distinct record_time from EBAY_TOP_BERLIN order by record_time desc limit 2\", sqlite3.connect(\"UsedObjects.db\"))"
   ]
  },
  {
   "cell_type": "code",
   "execution_count": 3,
   "id": "periodic-identification",
   "metadata": {
    "execution": {
     "iopub.execute_input": "2021-12-03T12:30:10.374187Z",
     "iopub.status.busy": "2021-12-03T12:30:10.370927Z",
     "iopub.status.idle": "2021-12-03T12:30:10.397569Z",
     "shell.execute_reply": "2021-12-03T12:30:10.395698Z"
    },
    "papermill": {
     "duration": 0.07773,
     "end_time": "2021-12-03T12:30:10.397981",
     "exception": false,
     "start_time": "2021-12-03T12:30:10.320251",
     "status": "completed"
    },
    "tags": []
   },
   "outputs": [
    {
     "data": {
      "text/html": [
       "<div>\n",
       "<style scoped>\n",
       "    .dataframe tbody tr th:only-of-type {\n",
       "        vertical-align: middle;\n",
       "    }\n",
       "\n",
       "    .dataframe tbody tr th {\n",
       "        vertical-align: top;\n",
       "    }\n",
       "\n",
       "    .dataframe thead th {\n",
       "        text-align: right;\n",
       "    }\n",
       "</style>\n",
       "<table border=\"1\" class=\"dataframe\">\n",
       "  <thead>\n",
       "    <tr style=\"text-align: right;\">\n",
       "      <th></th>\n",
       "      <th>RECORD_TIME</th>\n",
       "    </tr>\n",
       "  </thead>\n",
       "  <tbody>\n",
       "    <tr>\n",
       "      <th>0</th>\n",
       "      <td>2021-12-03 13:30</td>\n",
       "    </tr>\n",
       "    <tr>\n",
       "      <th>1</th>\n",
       "      <td>2021-12-03 13:00</td>\n",
       "    </tr>\n",
       "  </tbody>\n",
       "</table>\n",
       "</div>"
      ],
      "text/plain": [
       "        RECORD_TIME\n",
       "0  2021-12-03 13:30\n",
       "1  2021-12-03 13:00"
      ]
     },
     "execution_count": 3,
     "metadata": {},
     "output_type": "execute_result"
    }
   ],
   "source": [
    "timestamps"
   ]
  },
  {
   "cell_type": "code",
   "execution_count": 4,
   "id": "alternate-victory",
   "metadata": {
    "execution": {
     "iopub.execute_input": "2021-12-03T12:30:10.452230Z",
     "iopub.status.busy": "2021-12-03T12:30:10.449869Z",
     "iopub.status.idle": "2021-12-03T12:30:11.830637Z",
     "shell.execute_reply": "2021-12-03T12:30:11.832154Z"
    },
    "papermill": {
     "duration": 1.414292,
     "end_time": "2021-12-03T12:30:11.832634",
     "exception": false,
     "start_time": "2021-12-03T12:30:10.418342",
     "status": "completed"
    },
    "tags": []
   },
   "outputs": [],
   "source": [
    "df = pd.read_sql(\"select * from EBAY_TOP_BERLIN where record_time in (select distinct record_time from EBAY_TOP_BERLIN order by record_time desc limit 2)\", sqlite3.connect(\"UsedObjects.db\"))"
   ]
  },
  {
   "cell_type": "code",
   "execution_count": 5,
   "id": "popular-active",
   "metadata": {
    "execution": {
     "iopub.execute_input": "2021-12-03T12:30:11.911310Z",
     "iopub.status.busy": "2021-12-03T12:30:11.897650Z",
     "iopub.status.idle": "2021-12-03T12:30:11.930398Z",
     "shell.execute_reply": "2021-12-03T12:30:11.931951Z"
    },
    "papermill": {
     "duration": 0.077054,
     "end_time": "2021-12-03T12:30:11.932434",
     "exception": false,
     "start_time": "2021-12-03T12:30:11.855380",
     "status": "completed"
    },
    "tags": []
   },
   "outputs": [],
   "source": [
    "df_pivot = df.pivot_table(index=\"PRODUCT\", columns = \"RECORD_TIME\", values = \"LISTING_COUNT\")"
   ]
  },
  {
   "cell_type": "code",
   "execution_count": 6,
   "id": "union-huntington",
   "metadata": {
    "execution": {
     "iopub.execute_input": "2021-12-03T12:30:11.991275Z",
     "iopub.status.busy": "2021-12-03T12:30:11.989081Z",
     "iopub.status.idle": "2021-12-03T12:30:11.994888Z",
     "shell.execute_reply": "2021-12-03T12:30:11.996352Z"
    },
    "papermill": {
     "duration": 0.043553,
     "end_time": "2021-12-03T12:30:11.996868",
     "exception": false,
     "start_time": "2021-12-03T12:30:11.953315",
     "status": "completed"
    },
    "tags": []
   },
   "outputs": [],
   "source": [
    "df_pivot.columns = [\"stamp_1\", \"stamp_2\"]\n",
    "df_pivot_diff = df_pivot.diff(axis=1)"
   ]
  },
  {
   "cell_type": "code",
   "execution_count": 7,
   "id": "fifth-motion",
   "metadata": {
    "execution": {
     "iopub.execute_input": "2021-12-03T12:30:12.052857Z",
     "iopub.status.busy": "2021-12-03T12:30:12.050400Z",
     "iopub.status.idle": "2021-12-03T12:30:13.921314Z",
     "shell.execute_reply": "2021-12-03T12:30:13.923110Z"
    },
    "papermill": {
     "duration": 1.906438,
     "end_time": "2021-12-03T12:30:13.923669",
     "exception": false,
     "start_time": "2021-12-03T12:30:12.017231",
     "status": "completed"
    },
    "tags": []
   },
   "outputs": [
    {
     "data": {
      "text/plain": [
       "<AxesSubplot:ylabel='PRODUCT'>"
      ]
     },
     "execution_count": 7,
     "metadata": {},
     "output_type": "execute_result"
    },
    {
     "data": {
      "image/png": "[encoded data removed]",
      "text/plain": [
       "<Figure size 432x288 with 1 Axes>"
      ]
     },
     "metadata": {
      "needs_background": "light"
     },
     "output_type": "display_data"
    }
   ],
   "source": [
    "df_pivot_diff.sort_values(\"stamp_2\", ascending = False)[\"stamp_2\"].head(10).plot.barh()"
   ]
  },
  {
   "cell_type": "code",
   "execution_count": null,
   "id": "extra-executive",
   "metadata": {
    "papermill": {
     "duration": 0.036628,
     "end_time": "2021-12-03T12:30:13.990052",
     "exception": false,
     "start_time": "2021-12-03T12:30:13.953424",
     "status": "completed"
    },
    "tags": []
   },
   "outputs": [],
   "source": []
  }
 ],
 "metadata": {
  "kernelspec": {
   "display_name": "Python 3",
   "language": "python",
   "name": "python3"
  },
  "language_info": {
   "codemirror_mode": {
    "name": "ipython",
    "version": 3
   },
   "file_extension": ".py",
   "mimetype": "text/x-python",
   "name": "python",
   "nbconvert_exporter": "python",
   "pygments_lexer": "ipython3",
   "version": "3.9.5"
  },
  "papermill": {
   "default_parameters": {},
   "duration": 9.929794,
   "end_time": "2021-12-03T12:30:15.458127",
   "environment_variables": {},
   "exception": null,
   "input_path": "eBay_Overview.ipynb",
   "output_path": "eBay_Overview.ipynb",
   "parameters": {},
   "start_time": "2021-12-03T12:30:05.528333",
   "version": "2.3.3"
  }
 },
 "nbformat": 4,
 "nbformat_minor": 5
}