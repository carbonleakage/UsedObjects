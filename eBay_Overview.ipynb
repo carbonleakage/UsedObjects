{
 "cells": [
  {
   "cell_type": "code",
   "execution_count": 1,
   "id": "reverse-picking",
   "metadata": {
    "execution": {
     "iopub.execute_input": "2021-09-08T01:00:06.920699Z",
     "iopub.status.busy": "2021-09-08T01:00:06.918648Z",
     "iopub.status.idle": "2021-09-08T01:00:07.730517Z",
     "shell.execute_reply": "2021-09-08T01:00:07.732074Z"
    },
    "papermill": {
     "duration": 0.864983,
     "end_time": "2021-09-08T01:00:07.732769",
     "exception": false,
     "start_time": "2021-09-08T01:00:06.867786",
     "status": "completed"
    },
    "tags": []
   },
   "outputs": [],
   "source": [
    "import pandas as pd\n",
    "import sqlite3"
   ]
  },
  {
   "cell_type": "code",
   "execution_count": 2,
   "id": "innovative-syndrome",
   "metadata": {
    "execution": {
     "iopub.execute_input": "2021-09-08T01:00:07.783925Z",
     "iopub.status.busy": "2021-09-08T01:00:07.781523Z",
     "iopub.status.idle": "2021-09-08T01:00:08.016744Z",
     "shell.execute_reply": "2021-09-08T01:00:08.017954Z"
    },
    "papermill": {
     "duration": 0.265082,
     "end_time": "2021-09-08T01:00:08.018348",
     "exception": false,
     "start_time": "2021-09-08T01:00:07.753266",
     "status": "completed"
    },
    "tags": []
   },
   "outputs": [],
   "source": [
    "timestamps = pd.read_sql(\"select distinct record_time from EBAY_TOP_BERLIN order by record_time desc limit 2\", sqlite3.connect(\"UsedObjects.db\"))"
   ]
  },
  {
   "cell_type": "code",
   "execution_count": 3,
   "id": "periodic-identification",
   "metadata": {
    "execution": {
     "iopub.execute_input": "2021-09-08T01:00:08.082454Z",
     "iopub.status.busy": "2021-09-08T01:00:08.080420Z",
     "iopub.status.idle": "2021-09-08T01:00:08.100084Z",
     "shell.execute_reply": "2021-09-08T01:00:08.101316Z"
    },
    "papermill": {
     "duration": 0.064209,
     "end_time": "2021-09-08T01:00:08.101712",
     "exception": false,
     "start_time": "2021-09-08T01:00:08.037503",
     "status": "completed"
    },
    "tags": []
   },
   "outputs": [
    {
     "data": {
      "text/html": [
       "<div>\n",
       "<style scoped>\n",
       "    .dataframe tbody tr th:only-of-type {\n",
       "        vertical-align: middle;\n",
       "    }\n",
       "\n",
       "    .dataframe tbody tr th {\n",
       "        vertical-align: top;\n",
       "    }\n",
       "\n",
       "    .dataframe thead th {\n",
       "        text-align: right;\n",
       "    }\n",
       "</style>\n",
       "<table border=\"1\" class=\"dataframe\">\n",
       "  <thead>\n",
       "    <tr style=\"text-align: right;\">\n",
       "      <th></th>\n",
       "      <th>RECORD_TIME</th>\n",
       "    </tr>\n",
       "  </thead>\n",
       "  <tbody>\n",
       "    <tr>\n",
       "      <th>0</th>\n",
       "      <td>2021-09-08 03:00</td>\n",
       "    </tr>\n",
       "    <tr>\n",
       "      <th>1</th>\n",
       "      <td>2021-09-08 02:30</td>\n",
       "    </tr>\n",
       "  </tbody>\n",
       "</table>\n",
       "</div>"
      ],
      "text/plain": [
       "        RECORD_TIME\n",
       "0  2021-09-08 03:00\n",
       "1  2021-09-08 02:30"
      ]
     },
     "execution_count": 3,
     "metadata": {},
     "output_type": "execute_result"
    }
   ],
   "source": [
    "timestamps"
   ]
  },
  {
   "cell_type": "code",
   "execution_count": 4,
   "id": "alternate-victory",
   "metadata": {
    "execution": {
     "iopub.execute_input": "2021-09-08T01:00:08.153548Z",
     "iopub.status.busy": "2021-09-08T01:00:08.151246Z",
     "iopub.status.idle": "2021-09-08T01:00:08.494810Z",
     "shell.execute_reply": "2021-09-08T01:00:08.496121Z"
    },
    "papermill": {
     "duration": 0.373865,
     "end_time": "2021-09-08T01:00:08.496515",
     "exception": false,
     "start_time": "2021-09-08T01:00:08.122650",
     "status": "completed"
    },
    "tags": []
   },
   "outputs": [],
   "source": [
    "df = pd.read_sql(\"select * from EBAY_TOP_BERLIN where record_time in (select distinct record_time from EBAY_TOP_BERLIN order by record_time desc limit 2)\", sqlite3.connect(\"UsedObjects.db\"))"
   ]
  },
  {
   "cell_type": "code",
   "execution_count": 5,
   "id": "popular-active",
   "metadata": {
    "execution": {
     "iopub.execute_input": "2021-09-08T01:00:08.579003Z",
     "iopub.status.busy": "2021-09-08T01:00:08.572015Z",
     "iopub.status.idle": "2021-09-08T01:00:08.594748Z",
     "shell.execute_reply": "2021-09-08T01:00:08.596134Z"
    },
    "papermill": {
     "duration": 0.071655,
     "end_time": "2021-09-08T01:00:08.596552",
     "exception": false,
     "start_time": "2021-09-08T01:00:08.524897",
     "status": "completed"
    },
    "tags": []
   },
   "outputs": [],
   "source": [
    "df_pivot = df.pivot_table(index=\"PRODUCT\", columns = \"RECORD_TIME\", values = \"LISTING_COUNT\")"
   ]
  },
  {
   "cell_type": "code",
   "execution_count": 6,
   "id": "union-huntington",
   "metadata": {
    "execution": {
     "iopub.execute_input": "2021-09-08T01:00:08.652403Z",
     "iopub.status.busy": "2021-09-08T01:00:08.650269Z",
     "iopub.status.idle": "2021-09-08T01:00:08.655745Z",
     "shell.execute_reply": "2021-09-08T01:00:08.657055Z"
    },
    "papermill": {
     "duration": 0.040879,
     "end_time": "2021-09-08T01:00:08.657469",
     "exception": false,
     "start_time": "2021-09-08T01:00:08.616590",
     "status": "completed"
    },
    "tags": []
   },
   "outputs": [],
   "source": [
    "df_pivot.columns = [\"stamp_1\", \"stamp_2\"]\n",
    "df_pivot_diff = df_pivot.diff(axis=1)"
   ]
  },
  {
   "cell_type": "code",
   "execution_count": 7,
   "id": "fifth-motion",
   "metadata": {
    "execution": {
     "iopub.execute_input": "2021-09-08T01:00:08.711222Z",
     "iopub.status.busy": "2021-09-08T01:00:08.708771Z",
     "iopub.status.idle": "2021-09-08T01:00:10.225404Z",
     "shell.execute_reply": "2021-09-08T01:00:10.226704Z"
    },
    "papermill": {
     "duration": 1.54954,
     "end_time": "2021-09-08T01:00:10.227205",
     "exception": false,
     "start_time": "2021-09-08T01:00:08.677665",
     "status": "completed"
    },
    "tags": []
   },
   "outputs": [
    {
     "data": {
      "text/plain": [
       "<AxesSubplot:ylabel='PRODUCT'>"
      ]
     },
     "execution_count": 7,
     "metadata": {},
     "output_type": "execute_result"
    },
    {
     "data": {
      "image/png": "[encoded data removed]",
      "text/plain": [
       "<Figure size 432x288 with 1 Axes>"
      ]
     },
     "metadata": {
      "needs_background": "light"
     },
     "output_type": "display_data"
    }
   ],
   "source": [
    "df_pivot_diff.sort_values(\"stamp_2\", ascending = False)[\"stamp_2\"].head(10).plot.barh()"
   ]
  },
  {
   "cell_type": "code",
   "execution_count": null,
   "id": "extra-executive",
   "metadata": {
    "papermill": {
     "duration": 0.022521,
     "end_time": "2021-09-08T01:00:10.274524",
     "exception": false,
     "start_time": "2021-09-08T01:00:10.252003",
     "status": "completed"
    },
    "tags": []
   },
   "outputs": [],
   "source": []
  }
 ],
 "metadata": {
  "kernelspec": {
   "display_name": "Python 3",
   "language": "python",
   "name": "python3"
  },
  "language_info": {
   "codemirror_mode": {
    "name": "ipython",
    "version": 3
   },
   "file_extension": ".py",
   "mimetype": "text/x-python",
   "name": "python",
   "nbconvert_exporter": "python",
   "pygments_lexer": "ipython3",
   "version": "3.9.5"
  },
  "papermill": {
   "default_parameters": {},
   "duration": 6.465766,
   "end_time": "2021-09-08T01:00:10.916556",
   "environment_variables": {},
   "exception": null,
   "input_path": "eBay_Overview.ipynb",
   "output_path": "eBay_Overview.ipynb",
   "parameters": {},
   "start_time": "2021-09-08T01:00:04.450790",
   "version": "2.3.3"
  }
 },
 "nbformat": 4,
 "nbformat_minor": 5
}