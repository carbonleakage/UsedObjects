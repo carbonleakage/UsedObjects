{
 "cells": [
  {
   "cell_type": "code",
   "execution_count": 1,
   "id": "reverse-picking",
   "metadata": {
    "execution": {
     "iopub.execute_input": "2021-10-22T14:30:07.285335Z",
     "iopub.status.busy": "2021-10-22T14:30:07.283310Z",
     "iopub.status.idle": "2021-10-22T14:30:08.088915Z",
     "shell.execute_reply": "2021-10-22T14:30:08.090265Z"
    },
    "papermill": {
     "duration": 0.85768,
     "end_time": "2021-10-22T14:30:08.090916",
     "exception": false,
     "start_time": "2021-10-22T14:30:07.233236",
     "status": "completed"
    },
    "tags": []
   },
   "outputs": [],
   "source": [
    "import pandas as pd\n",
    "import sqlite3"
   ]
  },
  {
   "cell_type": "code",
   "execution_count": 2,
   "id": "innovative-syndrome",
   "metadata": {
    "execution": {
     "iopub.execute_input": "2021-10-22T14:30:08.141545Z",
     "iopub.status.busy": "2021-10-22T14:30:08.139556Z",
     "iopub.status.idle": "2021-10-22T14:30:08.751913Z",
     "shell.execute_reply": "2021-10-22T14:30:08.753321Z"
    },
    "papermill": {
     "duration": 0.642352,
     "end_time": "2021-10-22T14:30:08.753747",
     "exception": false,
     "start_time": "2021-10-22T14:30:08.111395",
     "status": "completed"
    },
    "tags": []
   },
   "outputs": [],
   "source": [
    "timestamps = pd.read_sql(\"select distinct record_time from EBAY_TOP_BERLIN order by record_time desc limit 2\", sqlite3.connect(\"UsedObjects.db\"))"
   ]
  },
  {
   "cell_type": "code",
   "execution_count": 3,
   "id": "periodic-identification",
   "metadata": {
    "execution": {
     "iopub.execute_input": "2021-10-22T14:30:08.828484Z",
     "iopub.status.busy": "2021-10-22T14:30:08.826475Z",
     "iopub.status.idle": "2021-10-22T14:30:08.846109Z",
     "shell.execute_reply": "2021-10-22T14:30:08.847307Z"
    },
    "papermill": {
     "duration": 0.067393,
     "end_time": "2021-10-22T14:30:08.847697",
     "exception": false,
     "start_time": "2021-10-22T14:30:08.780304",
     "status": "completed"
    },
    "tags": []
   },
   "outputs": [
    {
     "data": {
      "text/html": [
       "<div>\n",
       "<style scoped>\n",
       "    .dataframe tbody tr th:only-of-type {\n",
       "        vertical-align: middle;\n",
       "    }\n",
       "\n",
       "    .dataframe tbody tr th {\n",
       "        vertical-align: top;\n",
       "    }\n",
       "\n",
       "    .dataframe thead th {\n",
       "        text-align: right;\n",
       "    }\n",
       "</style>\n",
       "<table border=\"1\" class=\"dataframe\">\n",
       "  <thead>\n",
       "    <tr style=\"text-align: right;\">\n",
       "      <th></th>\n",
       "      <th>RECORD_TIME</th>\n",
       "    </tr>\n",
       "  </thead>\n",
       "  <tbody>\n",
       "    <tr>\n",
       "      <th>0</th>\n",
       "      <td>2021-10-22 16:30</td>\n",
       "    </tr>\n",
       "    <tr>\n",
       "      <th>1</th>\n",
       "      <td>2021-10-22 16:00</td>\n",
       "    </tr>\n",
       "  </tbody>\n",
       "</table>\n",
       "</div>"
      ],
      "text/plain": [
       "        RECORD_TIME\n",
       "0  2021-10-22 16:30\n",
       "1  2021-10-22 16:00"
      ]
     },
     "execution_count": 3,
     "metadata": {},
     "output_type": "execute_result"
    }
   ],
   "source": [
    "timestamps"
   ]
  },
  {
   "cell_type": "code",
   "execution_count": 4,
   "id": "alternate-victory",
   "metadata": {
    "execution": {
     "iopub.execute_input": "2021-10-22T14:30:08.902477Z",
     "iopub.status.busy": "2021-10-22T14:30:08.900076Z",
     "iopub.status.idle": "2021-10-22T14:30:09.803274Z",
     "shell.execute_reply": "2021-10-22T14:30:09.804393Z"
    },
    "papermill": {
     "duration": 0.933581,
     "end_time": "2021-10-22T14:30:09.804850",
     "exception": false,
     "start_time": "2021-10-22T14:30:08.871269",
     "status": "completed"
    },
    "tags": []
   },
   "outputs": [],
   "source": [
    "df = pd.read_sql(\"select * from EBAY_TOP_BERLIN where record_time in (select distinct record_time from EBAY_TOP_BERLIN order by record_time desc limit 2)\", sqlite3.connect(\"UsedObjects.db\"))"
   ]
  },
  {
   "cell_type": "code",
   "execution_count": 5,
   "id": "popular-active",
   "metadata": {
    "execution": {
     "iopub.execute_input": "2021-10-22T14:30:09.876540Z",
     "iopub.status.busy": "2021-10-22T14:30:09.865724Z",
     "iopub.status.idle": "2021-10-22T14:30:09.893226Z",
     "shell.execute_reply": "2021-10-22T14:30:09.894454Z"
    },
    "papermill": {
     "duration": 0.06802,
     "end_time": "2021-10-22T14:30:09.894851",
     "exception": false,
     "start_time": "2021-10-22T14:30:09.826831",
     "status": "completed"
    },
    "tags": []
   },
   "outputs": [],
   "source": [
    "df_pivot = df.pivot_table(index=\"PRODUCT\", columns = \"RECORD_TIME\", values = \"LISTING_COUNT\")"
   ]
  },
  {
   "cell_type": "code",
   "execution_count": 6,
   "id": "union-huntington",
   "metadata": {
    "execution": {
     "iopub.execute_input": "2021-10-22T14:30:09.953489Z",
     "iopub.status.busy": "2021-10-22T14:30:09.951403Z",
     "iopub.status.idle": "2021-10-22T14:30:09.956878Z",
     "shell.execute_reply": "2021-10-22T14:30:09.958070Z"
    },
    "papermill": {
     "duration": 0.040972,
     "end_time": "2021-10-22T14:30:09.958497",
     "exception": false,
     "start_time": "2021-10-22T14:30:09.917525",
     "status": "completed"
    },
    "tags": []
   },
   "outputs": [],
   "source": [
    "df_pivot.columns = [\"stamp_1\", \"stamp_2\"]\n",
    "df_pivot_diff = df_pivot.diff(axis=1)"
   ]
  },
  {
   "cell_type": "code",
   "execution_count": 7,
   "id": "fifth-motion",
   "metadata": {
    "execution": {
     "iopub.execute_input": "2021-10-22T14:30:10.018955Z",
     "iopub.status.busy": "2021-10-22T14:30:10.014112Z",
     "iopub.status.idle": "2021-10-22T14:30:11.493656Z",
     "shell.execute_reply": "2021-10-22T14:30:11.494936Z"
    },
    "papermill": {
     "duration": 1.513554,
     "end_time": "2021-10-22T14:30:11.495348",
     "exception": false,
     "start_time": "2021-10-22T14:30:09.981794",
     "status": "completed"
    },
    "tags": []
   },
   "outputs": [
    {
     "data": {
      "text/plain": [
       "<AxesSubplot:ylabel='PRODUCT'>"
      ]
     },
     "execution_count": 7,
     "metadata": {},
     "output_type": "execute_result"
    },
    {
     "data": {
      "image/png": "[encoded data removed]",
      "text/plain": [
       "<Figure size 432x288 with 1 Axes>"
      ]
     },
     "metadata": {
      "needs_background": "light"
     },
     "output_type": "display_data"
    }
   ],
   "source": [
    "df_pivot_diff.sort_values(\"stamp_2\", ascending = False)[\"stamp_2\"].head(10).plot.barh()"
   ]
  },
  {
   "cell_type": "code",
   "execution_count": null,
   "id": "extra-executive",
   "metadata": {
    "papermill": {
     "duration": 0.022394,
     "end_time": "2021-10-22T14:30:11.543663",
     "exception": false,
     "start_time": "2021-10-22T14:30:11.521269",
     "status": "completed"
    },
    "tags": []
   },
   "outputs": [],
   "source": []
  }
 ],
 "metadata": {
  "kernelspec": {
   "display_name": "Python 3",
   "language": "python",
   "name": "python3"
  },
  "language_info": {
   "codemirror_mode": {
    "name": "ipython",
    "version": 3
   },
   "file_extension": ".py",
   "mimetype": "text/x-python",
   "name": "python",
   "nbconvert_exporter": "python",
   "pygments_lexer": "ipython3",
   "version": "3.9.5"
  },
  "papermill": {
   "default_parameters": {},
   "duration": 7.355906,
   "end_time": "2021-10-22T14:30:12.187173",
   "environment_variables": {},
   "exception": null,
   "input_path": "eBay_Overview.ipynb",
   "output_path": "eBay_Overview.ipynb",
   "parameters": {},
   "start_time": "2021-10-22T14:30:04.831267",
   "version": "2.3.3"
  }
 },
 "nbformat": 4,
 "nbformat_minor": 5
}