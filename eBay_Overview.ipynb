{
 "cells": [
  {
   "cell_type": "code",
   "execution_count": 1,
   "id": "reverse-picking",
   "metadata": {
    "execution": {
     "iopub.execute_input": "2021-11-18T05:00:07.179891Z",
     "iopub.status.busy": "2021-11-18T05:00:07.169494Z",
     "iopub.status.idle": "2021-11-18T05:00:08.115095Z",
     "shell.execute_reply": "2021-11-18T05:00:08.116807Z"
    },
    "papermill": {
     "duration": 0.995846,
     "end_time": "2021-11-18T05:00:08.117838",
     "exception": false,
     "start_time": "2021-11-18T05:00:07.121992",
     "status": "completed"
    },
    "tags": []
   },
   "outputs": [],
   "source": [
    "import pandas as pd\n",
    "import sqlite3"
   ]
  },
  {
   "cell_type": "code",
   "execution_count": 2,
   "id": "innovative-syndrome",
   "metadata": {
    "execution": {
     "iopub.execute_input": "2021-11-18T05:00:08.173224Z",
     "iopub.status.busy": "2021-11-18T05:00:08.170437Z",
     "iopub.status.idle": "2021-11-18T05:00:09.005780Z",
     "shell.execute_reply": "2021-11-18T05:00:09.007380Z"
    },
    "papermill": {
     "duration": 0.867137,
     "end_time": "2021-11-18T05:00:09.007879",
     "exception": false,
     "start_time": "2021-11-18T05:00:08.140742",
     "status": "completed"
    },
    "tags": []
   },
   "outputs": [],
   "source": [
    "timestamps = pd.read_sql(\"select distinct record_time from EBAY_TOP_BERLIN order by record_time desc limit 2\", sqlite3.connect(\"UsedObjects.db\"))"
   ]
  },
  {
   "cell_type": "code",
   "execution_count": 3,
   "id": "periodic-identification",
   "metadata": {
    "execution": {
     "iopub.execute_input": "2021-11-18T05:00:09.083142Z",
     "iopub.status.busy": "2021-11-18T05:00:09.077093Z",
     "iopub.status.idle": "2021-11-18T05:00:09.102358Z",
     "shell.execute_reply": "2021-11-18T05:00:09.099351Z"
    },
    "papermill": {
     "duration": 0.07316,
     "end_time": "2021-11-18T05:00:09.102775",
     "exception": false,
     "start_time": "2021-11-18T05:00:09.029615",
     "status": "completed"
    },
    "tags": []
   },
   "outputs": [
    {
     "data": {
      "text/html": [
       "<div>\n",
       "<style scoped>\n",
       "    .dataframe tbody tr th:only-of-type {\n",
       "        vertical-align: middle;\n",
       "    }\n",
       "\n",
       "    .dataframe tbody tr th {\n",
       "        vertical-align: top;\n",
       "    }\n",
       "\n",
       "    .dataframe thead th {\n",
       "        text-align: right;\n",
       "    }\n",
       "</style>\n",
       "<table border=\"1\" class=\"dataframe\">\n",
       "  <thead>\n",
       "    <tr style=\"text-align: right;\">\n",
       "      <th></th>\n",
       "      <th>RECORD_TIME</th>\n",
       "    </tr>\n",
       "  </thead>\n",
       "  <tbody>\n",
       "    <tr>\n",
       "      <th>0</th>\n",
       "      <td>2021-11-18 06:00</td>\n",
       "    </tr>\n",
       "    <tr>\n",
       "      <th>1</th>\n",
       "      <td>2021-11-18 05:30</td>\n",
       "    </tr>\n",
       "  </tbody>\n",
       "</table>\n",
       "</div>"
      ],
      "text/plain": [
       "        RECORD_TIME\n",
       "0  2021-11-18 06:00\n",
       "1  2021-11-18 05:30"
      ]
     },
     "execution_count": 3,
     "metadata": {},
     "output_type": "execute_result"
    }
   ],
   "source": [
    "timestamps"
   ]
  },
  {
   "cell_type": "code",
   "execution_count": 4,
   "id": "alternate-victory",
   "metadata": {
    "execution": {
     "iopub.execute_input": "2021-11-18T05:00:09.159945Z",
     "iopub.status.busy": "2021-11-18T05:00:09.157803Z",
     "iopub.status.idle": "2021-11-18T05:00:10.360812Z",
     "shell.execute_reply": "2021-11-18T05:00:10.362110Z"
    },
    "papermill": {
     "duration": 1.238199,
     "end_time": "2021-11-18T05:00:10.362510",
     "exception": false,
     "start_time": "2021-11-18T05:00:09.124311",
     "status": "completed"
    },
    "tags": []
   },
   "outputs": [],
   "source": [
    "df = pd.read_sql(\"select * from EBAY_TOP_BERLIN where record_time in (select distinct record_time from EBAY_TOP_BERLIN order by record_time desc limit 2)\", sqlite3.connect(\"UsedObjects.db\"))"
   ]
  },
  {
   "cell_type": "code",
   "execution_count": 5,
   "id": "popular-active",
   "metadata": {
    "execution": {
     "iopub.execute_input": "2021-11-18T05:00:10.433614Z",
     "iopub.status.busy": "2021-11-18T05:00:10.421426Z",
     "iopub.status.idle": "2021-11-18T05:00:10.449988Z",
     "shell.execute_reply": "2021-11-18T05:00:10.451483Z"
    },
    "papermill": {
     "duration": 0.067539,
     "end_time": "2021-11-18T05:00:10.451976",
     "exception": false,
     "start_time": "2021-11-18T05:00:10.384437",
     "status": "completed"
    },
    "tags": []
   },
   "outputs": [],
   "source": [
    "df_pivot = df.pivot_table(index=\"PRODUCT\", columns = \"RECORD_TIME\", values = \"LISTING_COUNT\")"
   ]
  },
  {
   "cell_type": "code",
   "execution_count": 6,
   "id": "union-huntington",
   "metadata": {
    "execution": {
     "iopub.execute_input": "2021-11-18T05:00:10.512216Z",
     "iopub.status.busy": "2021-11-18T05:00:10.510252Z",
     "iopub.status.idle": "2021-11-18T05:00:10.515929Z",
     "shell.execute_reply": "2021-11-18T05:00:10.517763Z"
    },
    "papermill": {
     "duration": 0.04386,
     "end_time": "2021-11-18T05:00:10.518316",
     "exception": false,
     "start_time": "2021-11-18T05:00:10.474456",
     "status": "completed"
    },
    "tags": []
   },
   "outputs": [],
   "source": [
    "df_pivot.columns = [\"stamp_1\", \"stamp_2\"]\n",
    "df_pivot_diff = df_pivot.diff(axis=1)"
   ]
  },
  {
   "cell_type": "code",
   "execution_count": 7,
   "id": "fifth-motion",
   "metadata": {
    "execution": {
     "iopub.execute_input": "2021-11-18T05:00:10.575811Z",
     "iopub.status.busy": "2021-11-18T05:00:10.574207Z",
     "iopub.status.idle": "2021-11-18T05:00:12.354701Z",
     "shell.execute_reply": "2021-11-18T05:00:12.356287Z"
    },
    "papermill": {
     "duration": 1.817349,
     "end_time": "2021-11-18T05:00:12.356856",
     "exception": false,
     "start_time": "2021-11-18T05:00:10.539507",
     "status": "completed"
    },
    "tags": []
   },
   "outputs": [
    {
     "data": {
      "text/plain": [
       "<AxesSubplot:ylabel='PRODUCT'>"
      ]
     },
     "execution_count": 7,
     "metadata": {},
     "output_type": "execute_result"
    },
    {
     "data": {
      "image/png": "[encoded data removed]",
      "text/plain": [
       "<Figure size 432x288 with 1 Axes>"
      ]
     },
     "metadata": {
      "needs_background": "light"
     },
     "output_type": "display_data"
    }
   ],
   "source": [
    "df_pivot_diff.sort_values(\"stamp_2\", ascending = False)[\"stamp_2\"].head(10).plot.barh()"
   ]
  },
  {
   "cell_type": "code",
   "execution_count": null,
   "id": "extra-executive",
   "metadata": {
    "papermill": {
     "duration": 0.023375,
     "end_time": "2021-11-18T05:00:12.404279",
     "exception": false,
     "start_time": "2021-11-18T05:00:12.380904",
     "status": "completed"
    },
    "tags": []
   },
   "outputs": [],
   "source": []
  }
 ],
 "metadata": {
  "kernelspec": {
   "display_name": "Python 3",
   "language": "python",
   "name": "python3"
  },
  "language_info": {
   "codemirror_mode": {
    "name": "ipython",
    "version": 3
   },
   "file_extension": ".py",
   "mimetype": "text/x-python",
   "name": "python",
   "nbconvert_exporter": "python",
   "pygments_lexer": "ipython3",
   "version": "3.9.5"
  },
  "papermill": {
   "default_parameters": {},
   "duration": 8.809848,
   "end_time": "2021-11-18T05:00:13.148376",
   "environment_variables": {},
   "exception": null,
   "input_path": "eBay_Overview.ipynb",
   "output_path": "eBay_Overview.ipynb",
   "parameters": {},
   "start_time": "2021-11-18T05:00:04.338528",
   "version": "2.3.3"
  }
 },
 "nbformat": 4,
 "nbformat_minor": 5
}