{
 "cells": [
  {
   "cell_type": "code",
   "execution_count": 1,
   "id": "reverse-picking",
   "metadata": {
    "execution": {
     "iopub.execute_input": "2021-10-01T20:30:07.240704Z",
     "iopub.status.busy": "2021-10-01T20:30:07.238606Z",
     "iopub.status.idle": "2021-10-01T20:30:08.047620Z",
     "shell.execute_reply": "2021-10-01T20:30:08.048924Z"
    },
    "papermill": {
     "duration": 0.861198,
     "end_time": "2021-10-01T20:30:08.049549",
     "exception": false,
     "start_time": "2021-10-01T20:30:07.188351",
     "status": "completed"
    },
    "tags": []
   },
   "outputs": [],
   "source": [
    "import pandas as pd\n",
    "import sqlite3"
   ]
  },
  {
   "cell_type": "code",
   "execution_count": 2,
   "id": "innovative-syndrome",
   "metadata": {
    "execution": {
     "iopub.execute_input": "2021-10-01T20:30:08.101292Z",
     "iopub.status.busy": "2021-10-01T20:30:08.099080Z",
     "iopub.status.idle": "2021-10-01T20:30:08.531264Z",
     "shell.execute_reply": "2021-10-01T20:30:08.532769Z"
    },
    "papermill": {
     "duration": 0.462145,
     "end_time": "2021-10-01T20:30:08.533217",
     "exception": false,
     "start_time": "2021-10-01T20:30:08.071072",
     "status": "completed"
    },
    "tags": []
   },
   "outputs": [],
   "source": [
    "timestamps = pd.read_sql(\"select distinct record_time from EBAY_TOP_BERLIN order by record_time desc limit 2\", sqlite3.connect(\"UsedObjects.db\"))"
   ]
  },
  {
   "cell_type": "code",
   "execution_count": 3,
   "id": "periodic-identification",
   "metadata": {
    "execution": {
     "iopub.execute_input": "2021-10-01T20:30:08.600820Z",
     "iopub.status.busy": "2021-10-01T20:30:08.598326Z",
     "iopub.status.idle": "2021-10-01T20:30:08.620031Z",
     "shell.execute_reply": "2021-10-01T20:30:08.618545Z"
    },
    "papermill": {
     "duration": 0.067243,
     "end_time": "2021-10-01T20:30:08.620392",
     "exception": false,
     "start_time": "2021-10-01T20:30:08.553149",
     "status": "completed"
    },
    "tags": []
   },
   "outputs": [
    {
     "data": {
      "text/html": [
       "<div>\n",
       "<style scoped>\n",
       "    .dataframe tbody tr th:only-of-type {\n",
       "        vertical-align: middle;\n",
       "    }\n",
       "\n",
       "    .dataframe tbody tr th {\n",
       "        vertical-align: top;\n",
       "    }\n",
       "\n",
       "    .dataframe thead th {\n",
       "        text-align: right;\n",
       "    }\n",
       "</style>\n",
       "<table border=\"1\" class=\"dataframe\">\n",
       "  <thead>\n",
       "    <tr style=\"text-align: right;\">\n",
       "      <th></th>\n",
       "      <th>RECORD_TIME</th>\n",
       "    </tr>\n",
       "  </thead>\n",
       "  <tbody>\n",
       "    <tr>\n",
       "      <th>0</th>\n",
       "      <td>2021-10-01 22:30</td>\n",
       "    </tr>\n",
       "    <tr>\n",
       "      <th>1</th>\n",
       "      <td>2021-10-01 22:00</td>\n",
       "    </tr>\n",
       "  </tbody>\n",
       "</table>\n",
       "</div>"
      ],
      "text/plain": [
       "        RECORD_TIME\n",
       "0  2021-10-01 22:30\n",
       "1  2021-10-01 22:00"
      ]
     },
     "execution_count": 3,
     "metadata": {},
     "output_type": "execute_result"
    }
   ],
   "source": [
    "timestamps"
   ]
  },
  {
   "cell_type": "code",
   "execution_count": 4,
   "id": "alternate-victory",
   "metadata": {
    "execution": {
     "iopub.execute_input": "2021-10-01T20:30:08.681392Z",
     "iopub.status.busy": "2021-10-01T20:30:08.679527Z",
     "iopub.status.idle": "2021-10-01T20:30:09.314033Z",
     "shell.execute_reply": "2021-10-01T20:30:09.315431Z"
    },
    "papermill": {
     "duration": 0.668317,
     "end_time": "2021-10-01T20:30:09.315869",
     "exception": false,
     "start_time": "2021-10-01T20:30:08.647552",
     "status": "completed"
    },
    "tags": []
   },
   "outputs": [],
   "source": [
    "df = pd.read_sql(\"select * from EBAY_TOP_BERLIN where record_time in (select distinct record_time from EBAY_TOP_BERLIN order by record_time desc limit 2)\", sqlite3.connect(\"UsedObjects.db\"))"
   ]
  },
  {
   "cell_type": "code",
   "execution_count": 5,
   "id": "popular-active",
   "metadata": {
    "execution": {
     "iopub.execute_input": "2021-10-01T20:30:09.385495Z",
     "iopub.status.busy": "2021-10-01T20:30:09.373356Z",
     "iopub.status.idle": "2021-10-01T20:30:09.401746Z",
     "shell.execute_reply": "2021-10-01T20:30:09.403184Z"
    },
    "papermill": {
     "duration": 0.067271,
     "end_time": "2021-10-01T20:30:09.403610",
     "exception": false,
     "start_time": "2021-10-01T20:30:09.336339",
     "status": "completed"
    },
    "tags": []
   },
   "outputs": [],
   "source": [
    "df_pivot = df.pivot_table(index=\"PRODUCT\", columns = \"RECORD_TIME\", values = \"LISTING_COUNT\")"
   ]
  },
  {
   "cell_type": "code",
   "execution_count": 6,
   "id": "union-huntington",
   "metadata": {
    "execution": {
     "iopub.execute_input": "2021-10-01T20:30:09.462078Z",
     "iopub.status.busy": "2021-10-01T20:30:09.459578Z",
     "iopub.status.idle": "2021-10-01T20:30:09.465556Z",
     "shell.execute_reply": "2021-10-01T20:30:09.467001Z"
    },
    "papermill": {
     "duration": 0.042554,
     "end_time": "2021-10-01T20:30:09.467451",
     "exception": false,
     "start_time": "2021-10-01T20:30:09.424897",
     "status": "completed"
    },
    "tags": []
   },
   "outputs": [],
   "source": [
    "df_pivot.columns = [\"stamp_1\", \"stamp_2\"]\n",
    "df_pivot_diff = df_pivot.diff(axis=1)"
   ]
  },
  {
   "cell_type": "code",
   "execution_count": 7,
   "id": "fifth-motion",
   "metadata": {
    "execution": {
     "iopub.execute_input": "2021-10-01T20:30:09.522040Z",
     "iopub.status.busy": "2021-10-01T20:30:09.519816Z",
     "iopub.status.idle": "2021-10-01T20:30:11.003793Z",
     "shell.execute_reply": "2021-10-01T20:30:11.005134Z"
    },
    "papermill": {
     "duration": 1.516655,
     "end_time": "2021-10-01T20:30:11.005558",
     "exception": false,
     "start_time": "2021-10-01T20:30:09.488903",
     "status": "completed"
    },
    "tags": []
   },
   "outputs": [
    {
     "data": {
      "text/plain": [
       "<AxesSubplot:ylabel='PRODUCT'>"
      ]
     },
     "execution_count": 7,
     "metadata": {},
     "output_type": "execute_result"
    },
    {
     "data": {
      "image/png": "[encoded data removed]",
      "text/plain": [
       "<Figure size 432x288 with 1 Axes>"
      ]
     },
     "metadata": {
      "needs_background": "light"
     },
     "output_type": "display_data"
    }
   ],
   "source": [
    "df_pivot_diff.sort_values(\"stamp_2\", ascending = False)[\"stamp_2\"].head(10).plot.barh()"
   ]
  },
  {
   "cell_type": "code",
   "execution_count": null,
   "id": "extra-executive",
   "metadata": {
    "papermill": {
     "duration": 0.022141,
     "end_time": "2021-10-01T20:30:11.052316",
     "exception": false,
     "start_time": "2021-10-01T20:30:11.030175",
     "status": "completed"
    },
    "tags": []
   },
   "outputs": [],
   "source": []
  }
 ],
 "metadata": {
  "kernelspec": {
   "display_name": "Python 3",
   "language": "python",
   "name": "python3"
  },
  "language_info": {
   "codemirror_mode": {
    "name": "ipython",
    "version": 3
   },
   "file_extension": ".py",
   "mimetype": "text/x-python",
   "name": "python",
   "nbconvert_exporter": "python",
   "pygments_lexer": "ipython3",
   "version": "3.9.5"
  },
  "papermill": {
   "default_parameters": {},
   "duration": 7.825546,
   "end_time": "2021-10-01T20:30:12.603621",
   "environment_variables": {},
   "exception": null,
   "input_path": "eBay_Overview.ipynb",
   "output_path": "eBay_Overview.ipynb",
   "parameters": {},
   "start_time": "2021-10-01T20:30:04.778075",
   "version": "2.3.3"
  }
 },
 "nbformat": 4,
 "nbformat_minor": 5
}