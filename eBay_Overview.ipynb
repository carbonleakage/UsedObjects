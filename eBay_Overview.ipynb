{
 "cells": [
  {
   "cell_type": "code",
   "execution_count": 1,
   "id": "reverse-picking",
   "metadata": {
    "execution": {
     "iopub.execute_input": "2021-08-27T10:30:06.892617Z",
     "iopub.status.busy": "2021-08-27T10:30:06.890596Z",
     "iopub.status.idle": "2021-08-27T10:30:07.690893Z",
     "shell.execute_reply": "2021-08-27T10:30:07.692261Z"
    },
    "papermill": {
     "duration": 0.850939,
     "end_time": "2021-08-27T10:30:07.692944",
     "exception": false,
     "start_time": "2021-08-27T10:30:06.842005",
     "status": "completed"
    },
    "tags": []
   },
   "outputs": [],
   "source": [
    "import pandas as pd\n",
    "import sqlite3"
   ]
  },
  {
   "cell_type": "code",
   "execution_count": 2,
   "id": "innovative-syndrome",
   "metadata": {
    "execution": {
     "iopub.execute_input": "2021-08-27T10:30:07.743839Z",
     "iopub.status.busy": "2021-08-27T10:30:07.741830Z",
     "iopub.status.idle": "2021-08-27T10:30:07.886505Z",
     "shell.execute_reply": "2021-08-27T10:30:07.887705Z"
    },
    "papermill": {
     "duration": 0.174598,
     "end_time": "2021-08-27T10:30:07.888103",
     "exception": false,
     "start_time": "2021-08-27T10:30:07.713505",
     "status": "completed"
    },
    "tags": []
   },
   "outputs": [],
   "source": [
    "timestamps = pd.read_sql(\"select distinct record_time from EBAY_TOP_BERLIN order by record_time desc limit 2\", sqlite3.connect(\"UsedObjects.db\"))"
   ]
  },
  {
   "cell_type": "code",
   "execution_count": 3,
   "id": "periodic-identification",
   "metadata": {
    "execution": {
     "iopub.execute_input": "2021-08-27T10:30:07.951424Z",
     "iopub.status.busy": "2021-08-27T10:30:07.949406Z",
     "iopub.status.idle": "2021-08-27T10:30:07.969385Z",
     "shell.execute_reply": "2021-08-27T10:30:07.970686Z"
    },
    "papermill": {
     "duration": 0.063475,
     "end_time": "2021-08-27T10:30:07.971105",
     "exception": false,
     "start_time": "2021-08-27T10:30:07.907630",
     "status": "completed"
    },
    "tags": []
   },
   "outputs": [
    {
     "data": {
      "text/html": [
       "<div>\n",
       "<style scoped>\n",
       "    .dataframe tbody tr th:only-of-type {\n",
       "        vertical-align: middle;\n",
       "    }\n",
       "\n",
       "    .dataframe tbody tr th {\n",
       "        vertical-align: top;\n",
       "    }\n",
       "\n",
       "    .dataframe thead th {\n",
       "        text-align: right;\n",
       "    }\n",
       "</style>\n",
       "<table border=\"1\" class=\"dataframe\">\n",
       "  <thead>\n",
       "    <tr style=\"text-align: right;\">\n",
       "      <th></th>\n",
       "      <th>RECORD_TIME</th>\n",
       "    </tr>\n",
       "  </thead>\n",
       "  <tbody>\n",
       "    <tr>\n",
       "      <th>0</th>\n",
       "      <td>2021-08-27 12:30</td>\n",
       "    </tr>\n",
       "    <tr>\n",
       "      <th>1</th>\n",
       "      <td>2021-08-27 12:00</td>\n",
       "    </tr>\n",
       "  </tbody>\n",
       "</table>\n",
       "</div>"
      ],
      "text/plain": [
       "        RECORD_TIME\n",
       "0  2021-08-27 12:30\n",
       "1  2021-08-27 12:00"
      ]
     },
     "execution_count": 3,
     "metadata": {},
     "output_type": "execute_result"
    }
   ],
   "source": [
    "timestamps"
   ]
  },
  {
   "cell_type": "code",
   "execution_count": 4,
   "id": "alternate-victory",
   "metadata": {
    "execution": {
     "iopub.execute_input": "2021-08-27T10:30:08.023359Z",
     "iopub.status.busy": "2021-08-27T10:30:08.021051Z",
     "iopub.status.idle": "2021-08-27T10:30:08.238992Z",
     "shell.execute_reply": "2021-08-27T10:30:08.240322Z"
    },
    "papermill": {
     "duration": 0.248334,
     "end_time": "2021-08-27T10:30:08.240766",
     "exception": false,
     "start_time": "2021-08-27T10:30:07.992432",
     "status": "completed"
    },
    "tags": []
   },
   "outputs": [],
   "source": [
    "df = pd.read_sql(\"select * from EBAY_TOP_BERLIN where record_time in (select distinct record_time from EBAY_TOP_BERLIN order by record_time desc limit 2)\", sqlite3.connect(\"UsedObjects.db\"))"
   ]
  },
  {
   "cell_type": "code",
   "execution_count": 5,
   "id": "popular-active",
   "metadata": {
    "execution": {
     "iopub.execute_input": "2021-08-27T10:30:08.310918Z",
     "iopub.status.busy": "2021-08-27T10:30:08.299786Z",
     "iopub.status.idle": "2021-08-27T10:30:08.326478Z",
     "shell.execute_reply": "2021-08-27T10:30:08.327877Z"
    },
    "papermill": {
     "duration": 0.066496,
     "end_time": "2021-08-27T10:30:08.328376",
     "exception": false,
     "start_time": "2021-08-27T10:30:08.261880",
     "status": "completed"
    },
    "tags": []
   },
   "outputs": [],
   "source": [
    "df_pivot = df.pivot_table(index=\"PRODUCT\", columns = \"RECORD_TIME\", values = \"LISTING_COUNT\")"
   ]
  },
  {
   "cell_type": "code",
   "execution_count": 6,
   "id": "union-huntington",
   "metadata": {
    "execution": {
     "iopub.execute_input": "2021-08-27T10:30:08.395517Z",
     "iopub.status.busy": "2021-08-27T10:30:08.392840Z",
     "iopub.status.idle": "2021-08-27T10:30:08.398724Z",
     "shell.execute_reply": "2021-08-27T10:30:08.399915Z"
    },
    "papermill": {
     "duration": 0.046222,
     "end_time": "2021-08-27T10:30:08.400404",
     "exception": false,
     "start_time": "2021-08-27T10:30:08.354182",
     "status": "completed"
    },
    "tags": []
   },
   "outputs": [],
   "source": [
    "df_pivot.columns = [\"stamp_1\", \"stamp_2\"]\n",
    "df_pivot_diff = df_pivot.diff(axis=1)"
   ]
  },
  {
   "cell_type": "code",
   "execution_count": 7,
   "id": "fifth-motion",
   "metadata": {
    "execution": {
     "iopub.execute_input": "2021-08-27T10:30:08.454988Z",
     "iopub.status.busy": "2021-08-27T10:30:08.452592Z",
     "iopub.status.idle": "2021-08-27T10:30:09.921287Z",
     "shell.execute_reply": "2021-08-27T10:30:09.922760Z"
    },
    "papermill": {
     "duration": 1.501507,
     "end_time": "2021-08-27T10:30:09.923229",
     "exception": false,
     "start_time": "2021-08-27T10:30:08.421722",
     "status": "completed"
    },
    "tags": []
   },
   "outputs": [
    {
     "data": {
      "text/plain": [
       "<AxesSubplot:ylabel='PRODUCT'>"
      ]
     },
     "execution_count": 7,
     "metadata": {},
     "output_type": "execute_result"
    },
    {
     "data": {
      "image/png": "[encoded data removed]",
      "text/plain": [
       "<Figure size 432x288 with 1 Axes>"
      ]
     },
     "metadata": {
      "needs_background": "light"
     },
     "output_type": "display_data"
    }
   ],
   "source": [
    "df_pivot_diff.sort_values(\"stamp_2\", ascending = False)[\"stamp_2\"].head(10).plot.barh()"
   ]
  },
  {
   "cell_type": "code",
   "execution_count": null,
   "id": "extra-executive",
   "metadata": {
    "papermill": {
     "duration": 0.022136,
     "end_time": "2021-08-27T10:30:09.969347",
     "exception": false,
     "start_time": "2021-08-27T10:30:09.947211",
     "status": "completed"
    },
    "tags": []
   },
   "outputs": [],
   "source": []
  }
 ],
 "metadata": {
  "kernelspec": {
   "display_name": "Python 3",
   "language": "python",
   "name": "python3"
  },
  "language_info": {
   "codemirror_mode": {
    "name": "ipython",
    "version": 3
   },
   "file_extension": ".py",
   "mimetype": "text/x-python",
   "name": "python",
   "nbconvert_exporter": "python",
   "pygments_lexer": "ipython3",
   "version": "3.9.5"
  },
  "papermill": {
   "default_parameters": {},
   "duration": 6.825945,
   "end_time": "2021-08-27T10:30:11.264886",
   "environment_variables": {},
   "exception": null,
   "input_path": "eBay_Overview.ipynb",
   "output_path": "eBay_Overview.ipynb",
   "parameters": {},
   "start_time": "2021-08-27T10:30:04.438941",
   "version": "2.3.3"
  }
 },
 "nbformat": 4,
 "nbformat_minor": 5
}