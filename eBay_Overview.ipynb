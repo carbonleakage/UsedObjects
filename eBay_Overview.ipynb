{
 "cells": [
  {
   "cell_type": "code",
   "execution_count": 1,
   "id": "reverse-picking",
   "metadata": {
    "execution": {
     "iopub.execute_input": "2021-11-20T17:00:08.005204Z",
     "iopub.status.busy": "2021-11-20T17:00:08.002812Z",
     "iopub.status.idle": "2021-11-20T17:00:08.961657Z",
     "shell.execute_reply": "2021-11-20T17:00:08.963183Z"
    },
    "papermill": {
     "duration": 1.007288,
     "end_time": "2021-11-20T17:00:08.963934",
     "exception": false,
     "start_time": "2021-11-20T17:00:07.956646",
     "status": "completed"
    },
    "tags": []
   },
   "outputs": [],
   "source": [
    "import pandas as pd\n",
    "import sqlite3"
   ]
  },
  {
   "cell_type": "code",
   "execution_count": 2,
   "id": "innovative-syndrome",
   "metadata": {
    "execution": {
     "iopub.execute_input": "2021-11-20T17:00:09.025673Z",
     "iopub.status.busy": "2021-11-20T17:00:09.023287Z",
     "iopub.status.idle": "2021-11-20T17:00:09.902251Z",
     "shell.execute_reply": "2021-11-20T17:00:09.903807Z"
    },
    "papermill": {
     "duration": 0.913097,
     "end_time": "2021-11-20T17:00:09.904276",
     "exception": false,
     "start_time": "2021-11-20T17:00:08.991179",
     "status": "completed"
    },
    "tags": []
   },
   "outputs": [],
   "source": [
    "timestamps = pd.read_sql(\"select distinct record_time from EBAY_TOP_BERLIN order by record_time desc limit 2\", sqlite3.connect(\"UsedObjects.db\"))"
   ]
  },
  {
   "cell_type": "code",
   "execution_count": 3,
   "id": "periodic-identification",
   "metadata": {
    "execution": {
     "iopub.execute_input": "2021-11-20T17:00:09.977043Z",
     "iopub.status.busy": "2021-11-20T17:00:09.970819Z",
     "iopub.status.idle": "2021-11-20T17:00:09.993280Z",
     "shell.execute_reply": "2021-11-20T17:00:09.994672Z"
    },
    "papermill": {
     "duration": 0.071188,
     "end_time": "2021-11-20T17:00:09.995143",
     "exception": false,
     "start_time": "2021-11-20T17:00:09.923955",
     "status": "completed"
    },
    "tags": []
   },
   "outputs": [
    {
     "data": {
      "text/html": [
       "<div>\n",
       "<style scoped>\n",
       "    .dataframe tbody tr th:only-of-type {\n",
       "        vertical-align: middle;\n",
       "    }\n",
       "\n",
       "    .dataframe tbody tr th {\n",
       "        vertical-align: top;\n",
       "    }\n",
       "\n",
       "    .dataframe thead th {\n",
       "        text-align: right;\n",
       "    }\n",
       "</style>\n",
       "<table border=\"1\" class=\"dataframe\">\n",
       "  <thead>\n",
       "    <tr style=\"text-align: right;\">\n",
       "      <th></th>\n",
       "      <th>RECORD_TIME</th>\n",
       "    </tr>\n",
       "  </thead>\n",
       "  <tbody>\n",
       "    <tr>\n",
       "      <th>0</th>\n",
       "      <td>2021-11-20 18:00</td>\n",
       "    </tr>\n",
       "    <tr>\n",
       "      <th>1</th>\n",
       "      <td>2021-11-20 17:30</td>\n",
       "    </tr>\n",
       "  </tbody>\n",
       "</table>\n",
       "</div>"
      ],
      "text/plain": [
       "        RECORD_TIME\n",
       "0  2021-11-20 18:00\n",
       "1  2021-11-20 17:30"
      ]
     },
     "execution_count": 3,
     "metadata": {},
     "output_type": "execute_result"
    }
   ],
   "source": [
    "timestamps"
   ]
  },
  {
   "cell_type": "code",
   "execution_count": 4,
   "id": "alternate-victory",
   "metadata": {
    "execution": {
     "iopub.execute_input": "2021-11-20T17:00:10.049315Z",
     "iopub.status.busy": "2021-11-20T17:00:10.047137Z",
     "iopub.status.idle": "2021-11-20T17:00:11.315676Z",
     "shell.execute_reply": "2021-11-20T17:00:11.318067Z"
    },
    "papermill": {
     "duration": 1.302902,
     "end_time": "2021-11-20T17:00:11.318585",
     "exception": false,
     "start_time": "2021-11-20T17:00:10.015683",
     "status": "completed"
    },
    "tags": []
   },
   "outputs": [],
   "source": [
    "df = pd.read_sql(\"select * from EBAY_TOP_BERLIN where record_time in (select distinct record_time from EBAY_TOP_BERLIN order by record_time desc limit 2)\", sqlite3.connect(\"UsedObjects.db\"))"
   ]
  },
  {
   "cell_type": "code",
   "execution_count": 5,
   "id": "popular-active",
   "metadata": {
    "execution": {
     "iopub.execute_input": "2021-11-20T17:00:11.394294Z",
     "iopub.status.busy": "2021-11-20T17:00:11.383231Z",
     "iopub.status.idle": "2021-11-20T17:00:11.417411Z",
     "shell.execute_reply": "2021-11-20T17:00:11.418757Z"
    },
    "papermill": {
     "duration": 0.078648,
     "end_time": "2021-11-20T17:00:11.419214",
     "exception": false,
     "start_time": "2021-11-20T17:00:11.340566",
     "status": "completed"
    },
    "tags": []
   },
   "outputs": [],
   "source": [
    "df_pivot = df.pivot_table(index=\"PRODUCT\", columns = \"RECORD_TIME\", values = \"LISTING_COUNT\")"
   ]
  },
  {
   "cell_type": "code",
   "execution_count": 6,
   "id": "union-huntington",
   "metadata": {
    "execution": {
     "iopub.execute_input": "2021-11-20T17:00:11.477253Z",
     "iopub.status.busy": "2021-11-20T17:00:11.474947Z",
     "iopub.status.idle": "2021-11-20T17:00:11.480736Z",
     "shell.execute_reply": "2021-11-20T17:00:11.482187Z"
    },
    "papermill": {
     "duration": 0.043661,
     "end_time": "2021-11-20T17:00:11.482710",
     "exception": false,
     "start_time": "2021-11-20T17:00:11.439049",
     "status": "completed"
    },
    "tags": []
   },
   "outputs": [],
   "source": [
    "df_pivot.columns = [\"stamp_1\", \"stamp_2\"]\n",
    "df_pivot_diff = df_pivot.diff(axis=1)"
   ]
  },
  {
   "cell_type": "code",
   "execution_count": 7,
   "id": "fifth-motion",
   "metadata": {
    "execution": {
     "iopub.execute_input": "2021-11-20T17:00:11.554223Z",
     "iopub.status.busy": "2021-11-20T17:00:11.549912Z",
     "iopub.status.idle": "2021-11-20T17:00:13.303101Z",
     "shell.execute_reply": "2021-11-20T17:00:13.305928Z"
    },
    "papermill": {
     "duration": 1.80235,
     "end_time": "2021-11-20T17:00:13.306766",
     "exception": false,
     "start_time": "2021-11-20T17:00:11.504416",
     "status": "completed"
    },
    "tags": []
   },
   "outputs": [
    {
     "data": {
      "text/plain": [
       "<AxesSubplot:ylabel='PRODUCT'>"
      ]
     },
     "execution_count": 7,
     "metadata": {},
     "output_type": "execute_result"
    },
    {
     "data": {
      "image/png": "[encoded data removed]",
      "text/plain": [
       "<Figure size 432x288 with 1 Axes>"
      ]
     },
     "metadata": {
      "needs_background": "light"
     },
     "output_type": "display_data"
    }
   ],
   "source": [
    "df_pivot_diff.sort_values(\"stamp_2\", ascending = False)[\"stamp_2\"].head(10).plot.barh()"
   ]
  },
  {
   "cell_type": "code",
   "execution_count": null,
   "id": "extra-executive",
   "metadata": {
    "papermill": {
     "duration": 0.037749,
     "end_time": "2021-11-20T17:00:13.380764",
     "exception": false,
     "start_time": "2021-11-20T17:00:13.343015",
     "status": "completed"
    },
    "tags": []
   },
   "outputs": [],
   "source": []
  }
 ],
 "metadata": {
  "kernelspec": {
   "display_name": "Python 3",
   "language": "python",
   "name": "python3"
  },
  "language_info": {
   "codemirror_mode": {
    "name": "ipython",
    "version": 3
   },
   "file_extension": ".py",
   "mimetype": "text/x-python",
   "name": "python",
   "nbconvert_exporter": "python",
   "pygments_lexer": "ipython3",
   "version": "3.9.5"
  },
  "papermill": {
   "default_parameters": {},
   "duration": 10.001526,
   "end_time": "2021-11-20T17:00:15.138462",
   "environment_variables": {},
   "exception": null,
   "input_path": "eBay_Overview.ipynb",
   "output_path": "eBay_Overview.ipynb",
   "parameters": {},
   "start_time": "2021-11-20T17:00:05.136936",
   "version": "2.3.3"
  }
 },
 "nbformat": 4,
 "nbformat_minor": 5
}