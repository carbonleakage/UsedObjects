{
 "cells": [
  {
   "cell_type": "code",
   "execution_count": 1,
   "id": "reverse-picking",
   "metadata": {
    "execution": {
     "iopub.execute_input": "2021-08-11T03:30:05.111141Z",
     "iopub.status.busy": "2021-08-11T03:30:05.099962Z",
     "iopub.status.idle": "2021-08-11T03:30:05.743138Z",
     "shell.execute_reply": "2021-08-11T03:30:05.742167Z"
    },
    "papermill": {
     "duration": 0.692971,
     "end_time": "2021-08-11T03:30:05.743409",
     "exception": false,
     "start_time": "2021-08-11T03:30:05.050438",
     "status": "completed"
    },
    "tags": []
   },
   "outputs": [],
   "source": [
    "import pandas as pd\n",
    "import sqlite3"
   ]
  },
  {
   "cell_type": "code",
   "execution_count": 2,
   "id": "innovative-syndrome",
   "metadata": {
    "execution": {
     "iopub.execute_input": "2021-08-11T03:30:05.770736Z",
     "iopub.status.busy": "2021-08-11T03:30:05.769830Z",
     "iopub.status.idle": "2021-08-11T03:30:05.969084Z",
     "shell.execute_reply": "2021-08-11T03:30:05.969655Z"
    },
    "papermill": {
     "duration": 0.217018,
     "end_time": "2021-08-11T03:30:05.969846",
     "exception": false,
     "start_time": "2021-08-11T03:30:05.752828",
     "status": "completed"
    },
    "tags": []
   },
   "outputs": [],
   "source": [
    "timestamps = pd.read_sql(\"select distinct record_time from EBAY_TOP_BERLIN order by record_time desc limit 2\", sqlite3.connect(\"UsedObjects.db\"))"
   ]
  },
  {
   "cell_type": "code",
   "execution_count": 3,
   "id": "periodic-identification",
   "metadata": {
    "execution": {
     "iopub.execute_input": "2021-08-11T03:30:06.014405Z",
     "iopub.status.busy": "2021-08-11T03:30:06.013627Z",
     "iopub.status.idle": "2021-08-11T03:30:06.028237Z",
     "shell.execute_reply": "2021-08-11T03:30:06.029054Z"
    },
    "papermill": {
     "duration": 0.0405,
     "end_time": "2021-08-11T03:30:06.029313",
     "exception": false,
     "start_time": "2021-08-11T03:30:05.988813",
     "status": "completed"
    },
    "tags": []
   },
   "outputs": [
    {
     "data": {
      "text/html": [
       "<div>\n",
       "<style scoped>\n",
       "    .dataframe tbody tr th:only-of-type {\n",
       "        vertical-align: middle;\n",
       "    }\n",
       "\n",
       "    .dataframe tbody tr th {\n",
       "        vertical-align: top;\n",
       "    }\n",
       "\n",
       "    .dataframe thead th {\n",
       "        text-align: right;\n",
       "    }\n",
       "</style>\n",
       "<table border=\"1\" class=\"dataframe\">\n",
       "  <thead>\n",
       "    <tr style=\"text-align: right;\">\n",
       "      <th></th>\n",
       "      <th>RECORD_TIME</th>\n",
       "    </tr>\n",
       "  </thead>\n",
       "  <tbody>\n",
       "    <tr>\n",
       "      <th>0</th>\n",
       "      <td>2021-08-11 05:30</td>\n",
       "    </tr>\n",
       "    <tr>\n",
       "      <th>1</th>\n",
       "      <td>2021-08-11 05:00</td>\n",
       "    </tr>\n",
       "  </tbody>\n",
       "</table>\n",
       "</div>"
      ],
      "text/plain": [
       "        RECORD_TIME\n",
       "0  2021-08-11 05:30\n",
       "1  2021-08-11 05:00"
      ]
     },
     "execution_count": 3,
     "metadata": {},
     "output_type": "execute_result"
    }
   ],
   "source": [
    "timestamps"
   ]
  },
  {
   "cell_type": "code",
   "execution_count": 4,
   "id": "alternate-victory",
   "metadata": {
    "execution": {
     "iopub.execute_input": "2021-08-11T03:30:06.053905Z",
     "iopub.status.busy": "2021-08-11T03:30:06.052673Z",
     "iopub.status.idle": "2021-08-11T03:30:06.073685Z",
     "shell.execute_reply": "2021-08-11T03:30:06.074257Z"
    },
    "papermill": {
     "duration": 0.035257,
     "end_time": "2021-08-11T03:30:06.074450",
     "exception": false,
     "start_time": "2021-08-11T03:30:06.039193",
     "status": "completed"
    },
    "tags": []
   },
   "outputs": [],
   "source": [
    "df = pd.read_sql(\"select * from EBAY_TOP_BERLIN where record_time in (select distinct record_time from EBAY_TOP_BERLIN order by record_time desc limit 2)\", sqlite3.connect(\"UsedObjects.db\"))"
   ]
  },
  {
   "cell_type": "code",
   "execution_count": 5,
   "id": "popular-active",
   "metadata": {
    "execution": {
     "iopub.execute_input": "2021-08-11T03:30:06.101293Z",
     "iopub.status.busy": "2021-08-11T03:30:06.100528Z",
     "iopub.status.idle": "2021-08-11T03:30:06.124032Z",
     "shell.execute_reply": "2021-08-11T03:30:06.122949Z"
    },
    "papermill": {
     "duration": 0.038498,
     "end_time": "2021-08-11T03:30:06.124312",
     "exception": false,
     "start_time": "2021-08-11T03:30:06.085814",
     "status": "completed"
    },
    "tags": []
   },
   "outputs": [],
   "source": [
    "df_pivot = df.pivot_table(index=\"PRODUCT\", columns = \"RECORD_TIME\", values = \"LISTING_COUNT\")"
   ]
  },
  {
   "cell_type": "code",
   "execution_count": 6,
   "id": "union-huntington",
   "metadata": {
    "execution": {
     "iopub.execute_input": "2021-08-11T03:30:06.150139Z",
     "iopub.status.busy": "2021-08-11T03:30:06.149445Z",
     "iopub.status.idle": "2021-08-11T03:30:06.155840Z",
     "shell.execute_reply": "2021-08-11T03:30:06.156561Z"
    },
    "papermill": {
     "duration": 0.022103,
     "end_time": "2021-08-11T03:30:06.156807",
     "exception": false,
     "start_time": "2021-08-11T03:30:06.134704",
     "status": "completed"
    },
    "tags": []
   },
   "outputs": [],
   "source": [
    "df_pivot.columns = [\"stamp_1\", \"stamp_2\"]\n",
    "df_pivot_diff = df_pivot.diff(axis=1)"
   ]
  },
  {
   "cell_type": "code",
   "execution_count": 7,
   "id": "fifth-motion",
   "metadata": {
    "execution": {
     "iopub.execute_input": "2021-08-11T03:30:06.190060Z",
     "iopub.status.busy": "2021-08-11T03:30:06.189181Z",
     "iopub.status.idle": "2021-08-11T03:30:06.865428Z",
     "shell.execute_reply": "2021-08-11T03:30:06.864099Z"
    },
    "papermill": {
     "duration": 0.696503,
     "end_time": "2021-08-11T03:30:06.865720",
     "exception": false,
     "start_time": "2021-08-11T03:30:06.169217",
     "status": "completed"
    },
    "tags": []
   },
   "outputs": [
    {
     "data": {
      "text/plain": [
       "<AxesSubplot:ylabel='PRODUCT'>"
      ]
     },
     "execution_count": 7,
     "metadata": {},
     "output_type": "execute_result"
    },
    {
     "data": {
      "image/png": "[encoded data removed]",
      "text/plain": [
       "<Figure size 432x288 with 1 Axes>"
      ]
     },
     "metadata": {
      "needs_background": "light"
     },
     "output_type": "display_data"
    }
   ],
   "source": [
    "df_pivot_diff.sort_values(\"stamp_2\", ascending = False)[\"stamp_2\"].head(10).plot.barh()"
   ]
  },
  {
   "cell_type": "code",
   "execution_count": null,
   "id": "extra-executive",
   "metadata": {
    "papermill": {
     "duration": 0.0138,
     "end_time": "2021-08-11T03:30:06.891815",
     "exception": false,
     "start_time": "2021-08-11T03:30:06.878015",
     "status": "completed"
    },
    "tags": []
   },
   "outputs": [],
   "source": []
  }
 ],
 "metadata": {
  "kernelspec": {
   "display_name": "Python 3",
   "language": "python",
   "name": "python3"
  },
  "language_info": {
   "codemirror_mode": {
    "name": "ipython",
    "version": 3
   },
   "file_extension": ".py",
   "mimetype": "text/x-python",
   "name": "python",
   "nbconvert_exporter": "python",
   "pygments_lexer": "ipython3",
   "version": "3.8.8"
  },
  "papermill": {
   "default_parameters": {},
   "duration": 4.648489,
   "end_time": "2021-08-11T03:30:07.602653",
   "environment_variables": {},
   "exception": null,
   "input_path": "/Users/saravananshanmugam/Carbonleakage_Git/UsedObjects/eBay_Overview.ipynb",
   "output_path": "/Users/saravananshanmugam/Carbonleakage_Git/UsedObjects/eBay_Overview.ipynb",
   "parameters": {},
   "start_time": "2021-08-11T03:30:02.954164",
   "version": "2.3.3"
  }
 },
 "nbformat": 4,
 "nbformat_minor": 5
}