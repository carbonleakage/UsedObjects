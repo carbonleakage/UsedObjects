{
 "cells": [
  {
   "cell_type": "code",
   "execution_count": 1,
   "id": "reverse-picking",
   "metadata": {
    "execution": {
     "iopub.execute_input": "2021-08-14T21:30:07.099152Z",
     "iopub.status.busy": "2021-08-14T21:30:07.097127Z",
     "iopub.status.idle": "2021-08-14T21:30:07.907913Z",
     "shell.execute_reply": "2021-08-14T21:30:07.906128Z"
    },
    "papermill": {
     "duration": 0.858814,
     "end_time": "2021-08-14T21:30:07.908355",
     "exception": false,
     "start_time": "2021-08-14T21:30:07.049541",
     "status": "completed"
    },
    "tags": []
   },
   "outputs": [],
   "source": [
    "import pandas as pd\n",
    "import sqlite3"
   ]
  },
  {
   "cell_type": "code",
   "execution_count": 2,
   "id": "innovative-syndrome",
   "metadata": {
    "execution": {
     "iopub.execute_input": "2021-08-14T21:30:07.959551Z",
     "iopub.status.busy": "2021-08-14T21:30:07.957155Z",
     "iopub.status.idle": "2021-08-14T21:30:08.009410Z",
     "shell.execute_reply": "2021-08-14T21:30:08.010676Z"
    },
    "papermill": {
     "duration": 0.082222,
     "end_time": "2021-08-14T21:30:08.011081",
     "exception": false,
     "start_time": "2021-08-14T21:30:07.928859",
     "status": "completed"
    },
    "tags": []
   },
   "outputs": [],
   "source": [
    "timestamps = pd.read_sql(\"select distinct record_time from EBAY_TOP_BERLIN order by record_time desc limit 2\", sqlite3.connect(\"UsedObjects.db\"))"
   ]
  },
  {
   "cell_type": "code",
   "execution_count": 3,
   "id": "periodic-identification",
   "metadata": {
    "execution": {
     "iopub.execute_input": "2021-08-14T21:30:08.077627Z",
     "iopub.status.busy": "2021-08-14T21:30:08.075567Z",
     "iopub.status.idle": "2021-08-14T21:30:08.095744Z",
     "shell.execute_reply": "2021-08-14T21:30:08.096981Z"
    },
    "papermill": {
     "duration": 0.064792,
     "end_time": "2021-08-14T21:30:08.097372",
     "exception": false,
     "start_time": "2021-08-14T21:30:08.032580",
     "status": "completed"
    },
    "tags": []
   },
   "outputs": [
    {
     "data": {
      "text/html": [
       "<div>\n",
       "<style scoped>\n",
       "    .dataframe tbody tr th:only-of-type {\n",
       "        vertical-align: middle;\n",
       "    }\n",
       "\n",
       "    .dataframe tbody tr th {\n",
       "        vertical-align: top;\n",
       "    }\n",
       "\n",
       "    .dataframe thead th {\n",
       "        text-align: right;\n",
       "    }\n",
       "</style>\n",
       "<table border=\"1\" class=\"dataframe\">\n",
       "  <thead>\n",
       "    <tr style=\"text-align: right;\">\n",
       "      <th></th>\n",
       "      <th>RECORD_TIME</th>\n",
       "    </tr>\n",
       "  </thead>\n",
       "  <tbody>\n",
       "    <tr>\n",
       "      <th>0</th>\n",
       "      <td>2021-08-14 23:30</td>\n",
       "    </tr>\n",
       "    <tr>\n",
       "      <th>1</th>\n",
       "      <td>2021-08-14 23:00</td>\n",
       "    </tr>\n",
       "  </tbody>\n",
       "</table>\n",
       "</div>"
      ],
      "text/plain": [
       "        RECORD_TIME\n",
       "0  2021-08-14 23:30\n",
       "1  2021-08-14 23:00"
      ]
     },
     "execution_count": 3,
     "metadata": {},
     "output_type": "execute_result"
    }
   ],
   "source": [
    "timestamps"
   ]
  },
  {
   "cell_type": "code",
   "execution_count": 4,
   "id": "alternate-victory",
   "metadata": {
    "execution": {
     "iopub.execute_input": "2021-08-14T21:30:08.151173Z",
     "iopub.status.busy": "2021-08-14T21:30:08.148774Z",
     "iopub.status.idle": "2021-08-14T21:30:08.223158Z",
     "shell.execute_reply": "2021-08-14T21:30:08.224383Z"
    },
    "papermill": {
     "duration": 0.104904,
     "end_time": "2021-08-14T21:30:08.224774",
     "exception": false,
     "start_time": "2021-08-14T21:30:08.119870",
     "status": "completed"
    },
    "tags": []
   },
   "outputs": [],
   "source": [
    "df = pd.read_sql(\"select * from EBAY_TOP_BERLIN where record_time in (select distinct record_time from EBAY_TOP_BERLIN order by record_time desc limit 2)\", sqlite3.connect(\"UsedObjects.db\"))"
   ]
  },
  {
   "cell_type": "code",
   "execution_count": 5,
   "id": "popular-active",
   "metadata": {
    "execution": {
     "iopub.execute_input": "2021-08-14T21:30:08.294156Z",
     "iopub.status.busy": "2021-08-14T21:30:08.282872Z",
     "iopub.status.idle": "2021-08-14T21:30:08.311582Z",
     "shell.execute_reply": "2021-08-14T21:30:08.312954Z"
    },
    "papermill": {
     "duration": 0.068022,
     "end_time": "2021-08-14T21:30:08.313389",
     "exception": false,
     "start_time": "2021-08-14T21:30:08.245367",
     "status": "completed"
    },
    "tags": []
   },
   "outputs": [],
   "source": [
    "df_pivot = df.pivot_table(index=\"PRODUCT\", columns = \"RECORD_TIME\", values = \"LISTING_COUNT\")"
   ]
  },
  {
   "cell_type": "code",
   "execution_count": 6,
   "id": "union-huntington",
   "metadata": {
    "execution": {
     "iopub.execute_input": "2021-08-14T21:30:08.370571Z",
     "iopub.status.busy": "2021-08-14T21:30:08.368469Z",
     "iopub.status.idle": "2021-08-14T21:30:08.373698Z",
     "shell.execute_reply": "2021-08-14T21:30:08.375075Z"
    },
    "papermill": {
     "duration": 0.041135,
     "end_time": "2021-08-14T21:30:08.375494",
     "exception": false,
     "start_time": "2021-08-14T21:30:08.334359",
     "status": "completed"
    },
    "tags": []
   },
   "outputs": [],
   "source": [
    "df_pivot.columns = [\"stamp_1\", \"stamp_2\"]\n",
    "df_pivot_diff = df_pivot.diff(axis=1)"
   ]
  },
  {
   "cell_type": "code",
   "execution_count": 7,
   "id": "fifth-motion",
   "metadata": {
    "execution": {
     "iopub.execute_input": "2021-08-14T21:30:08.429421Z",
     "iopub.status.busy": "2021-08-14T21:30:08.427005Z",
     "iopub.status.idle": "2021-08-14T21:30:09.960873Z",
     "shell.execute_reply": "2021-08-14T21:30:09.962336Z"
    },
    "papermill": {
     "duration": 1.566828,
     "end_time": "2021-08-14T21:30:09.962782",
     "exception": false,
     "start_time": "2021-08-14T21:30:08.395954",
     "status": "completed"
    },
    "tags": []
   },
   "outputs": [
    {
     "data": {
      "text/plain": [
       "<AxesSubplot:ylabel='PRODUCT'>"
      ]
     },
     "execution_count": 7,
     "metadata": {},
     "output_type": "execute_result"
    },
    {
     "data": {
      "image/png": "[encoded data removed]",
      "text/plain": [
       "<Figure size 432x288 with 1 Axes>"
      ]
     },
     "metadata": {
      "needs_background": "light"
     },
     "output_type": "display_data"
    }
   ],
   "source": [
    "df_pivot_diff.sort_values(\"stamp_2\", ascending = False)[\"stamp_2\"].head(10).plot.barh()"
   ]
  },
  {
   "cell_type": "code",
   "execution_count": null,
   "id": "extra-executive",
   "metadata": {
    "papermill": {
     "duration": 0.022345,
     "end_time": "2021-08-14T21:30:10.010077",
     "exception": false,
     "start_time": "2021-08-14T21:30:09.987732",
     "status": "completed"
    },
    "tags": []
   },
   "outputs": [],
   "source": []
  }
 ],
 "metadata": {
  "kernelspec": {
   "display_name": "Python 3",
   "language": "python",
   "name": "python3"
  },
  "language_info": {
   "codemirror_mode": {
    "name": "ipython",
    "version": 3
   },
   "file_extension": ".py",
   "mimetype": "text/x-python",
   "name": "python",
   "nbconvert_exporter": "python",
   "pygments_lexer": "ipython3",
   "version": "3.9.5"
  },
  "papermill": {
   "default_parameters": {},
   "duration": 6.829881,
   "end_time": "2021-08-14T21:30:11.455077",
   "environment_variables": {},
   "exception": null,
   "input_path": "eBay_Overview.ipynb",
   "output_path": "eBay_Overview.ipynb",
   "parameters": {},
   "start_time": "2021-08-14T21:30:04.625196",
   "version": "2.3.3"
  }
 },
 "nbformat": 4,
 "nbformat_minor": 5
}