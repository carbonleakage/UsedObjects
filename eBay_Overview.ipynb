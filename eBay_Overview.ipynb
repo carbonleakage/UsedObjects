{
 "cells": [
  {
   "cell_type": "code",
   "execution_count": 1,
   "id": "reverse-picking",
   "metadata": {
    "execution": {
     "iopub.execute_input": "2021-10-04T12:30:07.384724Z",
     "iopub.status.busy": "2021-10-04T12:30:07.382701Z",
     "iopub.status.idle": "2021-10-04T12:30:08.191831Z",
     "shell.execute_reply": "2021-10-04T12:30:08.193087Z"
    },
    "papermill": {
     "duration": 0.861524,
     "end_time": "2021-10-04T12:30:08.193695",
     "exception": false,
     "start_time": "2021-10-04T12:30:07.332171",
     "status": "completed"
    },
    "tags": []
   },
   "outputs": [],
   "source": [
    "import pandas as pd\n",
    "import sqlite3"
   ]
  },
  {
   "cell_type": "code",
   "execution_count": 2,
   "id": "innovative-syndrome",
   "metadata": {
    "execution": {
     "iopub.execute_input": "2021-10-04T12:30:08.245841Z",
     "iopub.status.busy": "2021-10-04T12:30:08.243702Z",
     "iopub.status.idle": "2021-10-04T12:30:08.698614Z",
     "shell.execute_reply": "2021-10-04T12:30:08.699965Z"
    },
    "papermill": {
     "duration": 0.484737,
     "end_time": "2021-10-04T12:30:08.700394",
     "exception": false,
     "start_time": "2021-10-04T12:30:08.215657",
     "status": "completed"
    },
    "tags": []
   },
   "outputs": [],
   "source": [
    "timestamps = pd.read_sql(\"select distinct record_time from EBAY_TOP_BERLIN order by record_time desc limit 2\", sqlite3.connect(\"UsedObjects.db\"))"
   ]
  },
  {
   "cell_type": "code",
   "execution_count": 3,
   "id": "periodic-identification",
   "metadata": {
    "execution": {
     "iopub.execute_input": "2021-10-04T12:30:08.768985Z",
     "iopub.status.busy": "2021-10-04T12:30:08.766854Z",
     "iopub.status.idle": "2021-10-04T12:30:08.787142Z",
     "shell.execute_reply": "2021-10-04T12:30:08.788545Z"
    },
    "papermill": {
     "duration": 0.067818,
     "end_time": "2021-10-04T12:30:08.788970",
     "exception": false,
     "start_time": "2021-10-04T12:30:08.721152",
     "status": "completed"
    },
    "tags": []
   },
   "outputs": [
    {
     "data": {
      "text/html": [
       "<div>\n",
       "<style scoped>\n",
       "    .dataframe tbody tr th:only-of-type {\n",
       "        vertical-align: middle;\n",
       "    }\n",
       "\n",
       "    .dataframe tbody tr th {\n",
       "        vertical-align: top;\n",
       "    }\n",
       "\n",
       "    .dataframe thead th {\n",
       "        text-align: right;\n",
       "    }\n",
       "</style>\n",
       "<table border=\"1\" class=\"dataframe\">\n",
       "  <thead>\n",
       "    <tr style=\"text-align: right;\">\n",
       "      <th></th>\n",
       "      <th>RECORD_TIME</th>\n",
       "    </tr>\n",
       "  </thead>\n",
       "  <tbody>\n",
       "    <tr>\n",
       "      <th>0</th>\n",
       "      <td>2021-10-04 14:30</td>\n",
       "    </tr>\n",
       "    <tr>\n",
       "      <th>1</th>\n",
       "      <td>2021-10-04 14:00</td>\n",
       "    </tr>\n",
       "  </tbody>\n",
       "</table>\n",
       "</div>"
      ],
      "text/plain": [
       "        RECORD_TIME\n",
       "0  2021-10-04 14:30\n",
       "1  2021-10-04 14:00"
      ]
     },
     "execution_count": 3,
     "metadata": {},
     "output_type": "execute_result"
    }
   ],
   "source": [
    "timestamps"
   ]
  },
  {
   "cell_type": "code",
   "execution_count": 4,
   "id": "alternate-victory",
   "metadata": {
    "execution": {
     "iopub.execute_input": "2021-10-04T12:30:08.848709Z",
     "iopub.status.busy": "2021-10-04T12:30:08.846854Z",
     "iopub.status.idle": "2021-10-04T12:30:09.513490Z",
     "shell.execute_reply": "2021-10-04T12:30:09.514758Z"
    },
    "papermill": {
     "duration": 0.700252,
     "end_time": "2021-10-04T12:30:09.515253",
     "exception": false,
     "start_time": "2021-10-04T12:30:08.815001",
     "status": "completed"
    },
    "tags": []
   },
   "outputs": [],
   "source": [
    "df = pd.read_sql(\"select * from EBAY_TOP_BERLIN where record_time in (select distinct record_time from EBAY_TOP_BERLIN order by record_time desc limit 2)\", sqlite3.connect(\"UsedObjects.db\"))"
   ]
  },
  {
   "cell_type": "code",
   "execution_count": 5,
   "id": "popular-active",
   "metadata": {
    "execution": {
     "iopub.execute_input": "2021-10-04T12:30:09.586012Z",
     "iopub.status.busy": "2021-10-04T12:30:09.578509Z",
     "iopub.status.idle": "2021-10-04T12:30:09.601102Z",
     "shell.execute_reply": "2021-10-04T12:30:09.602309Z"
    },
    "papermill": {
     "duration": 0.067086,
     "end_time": "2021-10-04T12:30:09.602707",
     "exception": false,
     "start_time": "2021-10-04T12:30:09.535621",
     "status": "completed"
    },
    "tags": []
   },
   "outputs": [],
   "source": [
    "df_pivot = df.pivot_table(index=\"PRODUCT\", columns = \"RECORD_TIME\", values = \"LISTING_COUNT\")"
   ]
  },
  {
   "cell_type": "code",
   "execution_count": 6,
   "id": "union-huntington",
   "metadata": {
    "execution": {
     "iopub.execute_input": "2021-10-04T12:30:09.661866Z",
     "iopub.status.busy": "2021-10-04T12:30:09.659430Z",
     "iopub.status.idle": "2021-10-04T12:30:09.665315Z",
     "shell.execute_reply": "2021-10-04T12:30:09.666567Z"
    },
    "papermill": {
     "duration": 0.042174,
     "end_time": "2021-10-04T12:30:09.667073",
     "exception": false,
     "start_time": "2021-10-04T12:30:09.624899",
     "status": "completed"
    },
    "tags": []
   },
   "outputs": [],
   "source": [
    "df_pivot.columns = [\"stamp_1\", \"stamp_2\"]\n",
    "df_pivot_diff = df_pivot.diff(axis=1)"
   ]
  },
  {
   "cell_type": "code",
   "execution_count": 7,
   "id": "fifth-motion",
   "metadata": {
    "execution": {
     "iopub.execute_input": "2021-10-04T12:30:09.721968Z",
     "iopub.status.busy": "2021-10-04T12:30:09.719685Z",
     "iopub.status.idle": "2021-10-04T12:30:11.231148Z",
     "shell.execute_reply": "2021-10-04T12:30:11.232532Z"
    },
    "papermill": {
     "duration": 1.544654,
     "end_time": "2021-10-04T12:30:11.232976",
     "exception": false,
     "start_time": "2021-10-04T12:30:09.688322",
     "status": "completed"
    },
    "tags": []
   },
   "outputs": [
    {
     "data": {
      "text/plain": [
       "<AxesSubplot:ylabel='PRODUCT'>"
      ]
     },
     "execution_count": 7,
     "metadata": {},
     "output_type": "execute_result"
    },
    {
     "data": {
      "image/png": "[encoded data removed]",
      "text/plain": [
       "<Figure size 432x288 with 1 Axes>"
      ]
     },
     "metadata": {
      "needs_background": "light"
     },
     "output_type": "display_data"
    }
   ],
   "source": [
    "df_pivot_diff.sort_values(\"stamp_2\", ascending = False)[\"stamp_2\"].head(10).plot.barh()"
   ]
  },
  {
   "cell_type": "code",
   "execution_count": null,
   "id": "extra-executive",
   "metadata": {
    "papermill": {
     "duration": 0.022186,
     "end_time": "2021-10-04T12:30:11.278829",
     "exception": false,
     "start_time": "2021-10-04T12:30:11.256643",
     "status": "completed"
    },
    "tags": []
   },
   "outputs": [],
   "source": []
  }
 ],
 "metadata": {
  "kernelspec": {
   "display_name": "Python 3",
   "language": "python",
   "name": "python3"
  },
  "language_info": {
   "codemirror_mode": {
    "name": "ipython",
    "version": 3
   },
   "file_extension": ".py",
   "mimetype": "text/x-python",
   "name": "python",
   "nbconvert_exporter": "python",
   "pygments_lexer": "ipython3",
   "version": "3.9.5"
  },
  "papermill": {
   "default_parameters": {},
   "duration": 7.820524,
   "end_time": "2021-10-04T12:30:12.743221",
   "environment_variables": {},
   "exception": null,
   "input_path": "eBay_Overview.ipynb",
   "output_path": "eBay_Overview.ipynb",
   "parameters": {},
   "start_time": "2021-10-04T12:30:04.922697",
   "version": "2.3.3"
  }
 },
 "nbformat": 4,
 "nbformat_minor": 5
}