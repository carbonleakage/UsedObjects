{
 "cells": [
  {
   "cell_type": "code",
   "execution_count": 1,
   "id": "reverse-picking",
   "metadata": {
    "execution": {
     "iopub.execute_input": "2021-11-26T06:30:07.783763Z",
     "iopub.status.busy": "2021-11-26T06:30:07.781619Z",
     "iopub.status.idle": "2021-11-26T06:30:08.734175Z",
     "shell.execute_reply": "2021-11-26T06:30:08.736253Z"
    },
    "papermill": {
     "duration": 1.001956,
     "end_time": "2021-11-26T06:30:08.736977",
     "exception": false,
     "start_time": "2021-11-26T06:30:07.735021",
     "status": "completed"
    },
    "tags": []
   },
   "outputs": [],
   "source": [
    "import pandas as pd\n",
    "import sqlite3"
   ]
  },
  {
   "cell_type": "code",
   "execution_count": 2,
   "id": "innovative-syndrome",
   "metadata": {
    "execution": {
     "iopub.execute_input": "2021-11-26T06:30:08.798648Z",
     "iopub.status.busy": "2021-11-26T06:30:08.796265Z",
     "iopub.status.idle": "2021-11-26T06:30:09.725985Z",
     "shell.execute_reply": "2021-11-26T06:30:09.728396Z"
    },
    "papermill": {
     "duration": 0.964785,
     "end_time": "2021-11-26T06:30:09.728952",
     "exception": false,
     "start_time": "2021-11-26T06:30:08.764167",
     "status": "completed"
    },
    "tags": []
   },
   "outputs": [],
   "source": [
    "timestamps = pd.read_sql(\"select distinct record_time from EBAY_TOP_BERLIN order by record_time desc limit 2\", sqlite3.connect(\"UsedObjects.db\"))"
   ]
  },
  {
   "cell_type": "code",
   "execution_count": 3,
   "id": "periodic-identification",
   "metadata": {
    "execution": {
     "iopub.execute_input": "2021-11-26T06:30:09.800946Z",
     "iopub.status.busy": "2021-11-26T06:30:09.798595Z",
     "iopub.status.idle": "2021-11-26T06:30:09.820655Z",
     "shell.execute_reply": "2021-11-26T06:30:09.822192Z"
    },
    "papermill": {
     "duration": 0.073081,
     "end_time": "2021-11-26T06:30:09.822678",
     "exception": false,
     "start_time": "2021-11-26T06:30:09.749597",
     "status": "completed"
    },
    "tags": []
   },
   "outputs": [
    {
     "data": {
      "text/html": [
       "<div>\n",
       "<style scoped>\n",
       "    .dataframe tbody tr th:only-of-type {\n",
       "        vertical-align: middle;\n",
       "    }\n",
       "\n",
       "    .dataframe tbody tr th {\n",
       "        vertical-align: top;\n",
       "    }\n",
       "\n",
       "    .dataframe thead th {\n",
       "        text-align: right;\n",
       "    }\n",
       "</style>\n",
       "<table border=\"1\" class=\"dataframe\">\n",
       "  <thead>\n",
       "    <tr style=\"text-align: right;\">\n",
       "      <th></th>\n",
       "      <th>RECORD_TIME</th>\n",
       "    </tr>\n",
       "  </thead>\n",
       "  <tbody>\n",
       "    <tr>\n",
       "      <th>0</th>\n",
       "      <td>2021-11-26 07:30</td>\n",
       "    </tr>\n",
       "    <tr>\n",
       "      <th>1</th>\n",
       "      <td>2021-11-26 07:00</td>\n",
       "    </tr>\n",
       "  </tbody>\n",
       "</table>\n",
       "</div>"
      ],
      "text/plain": [
       "        RECORD_TIME\n",
       "0  2021-11-26 07:30\n",
       "1  2021-11-26 07:00"
      ]
     },
     "execution_count": 3,
     "metadata": {},
     "output_type": "execute_result"
    }
   ],
   "source": [
    "timestamps"
   ]
  },
  {
   "cell_type": "code",
   "execution_count": 4,
   "id": "alternate-victory",
   "metadata": {
    "execution": {
     "iopub.execute_input": "2021-11-26T06:30:09.878666Z",
     "iopub.status.busy": "2021-11-26T06:30:09.876413Z",
     "iopub.status.idle": "2021-11-26T06:30:11.219542Z",
     "shell.execute_reply": "2021-11-26T06:30:11.221336Z"
    },
    "papermill": {
     "duration": 1.377496,
     "end_time": "2021-11-26T06:30:11.221826",
     "exception": false,
     "start_time": "2021-11-26T06:30:09.844330",
     "status": "completed"
    },
    "tags": []
   },
   "outputs": [],
   "source": [
    "df = pd.read_sql(\"select * from EBAY_TOP_BERLIN where record_time in (select distinct record_time from EBAY_TOP_BERLIN order by record_time desc limit 2)\", sqlite3.connect(\"UsedObjects.db\"))"
   ]
  },
  {
   "cell_type": "code",
   "execution_count": 5,
   "id": "popular-active",
   "metadata": {
    "execution": {
     "iopub.execute_input": "2021-11-26T06:30:11.299588Z",
     "iopub.status.busy": "2021-11-26T06:30:11.282962Z",
     "iopub.status.idle": "2021-11-26T06:30:11.320858Z",
     "shell.execute_reply": "2021-11-26T06:30:11.318637Z"
    },
    "papermill": {
     "duration": 0.078319,
     "end_time": "2021-11-26T06:30:11.321264",
     "exception": false,
     "start_time": "2021-11-26T06:30:11.242945",
     "status": "completed"
    },
    "tags": []
   },
   "outputs": [],
   "source": [
    "df_pivot = df.pivot_table(index=\"PRODUCT\", columns = \"RECORD_TIME\", values = \"LISTING_COUNT\")"
   ]
  },
  {
   "cell_type": "code",
   "execution_count": 6,
   "id": "union-huntington",
   "metadata": {
    "execution": {
     "iopub.execute_input": "2021-11-26T06:30:11.379621Z",
     "iopub.status.busy": "2021-11-26T06:30:11.377400Z",
     "iopub.status.idle": "2021-11-26T06:30:11.383158Z",
     "shell.execute_reply": "2021-11-26T06:30:11.384605Z"
    },
    "papermill": {
     "duration": 0.043943,
     "end_time": "2021-11-26T06:30:11.385166",
     "exception": false,
     "start_time": "2021-11-26T06:30:11.341223",
     "status": "completed"
    },
    "tags": []
   },
   "outputs": [],
   "source": [
    "df_pivot.columns = [\"stamp_1\", \"stamp_2\"]\n",
    "df_pivot_diff = df_pivot.diff(axis=1)"
   ]
  },
  {
   "cell_type": "code",
   "execution_count": 7,
   "id": "fifth-motion",
   "metadata": {
    "execution": {
     "iopub.execute_input": "2021-11-26T06:30:11.442889Z",
     "iopub.status.busy": "2021-11-26T06:30:11.440212Z",
     "iopub.status.idle": "2021-11-26T06:30:13.418988Z",
     "shell.execute_reply": "2021-11-26T06:30:13.420294Z"
    },
    "papermill": {
     "duration": 2.015745,
     "end_time": "2021-11-26T06:30:13.421439",
     "exception": false,
     "start_time": "2021-11-26T06:30:11.405694",
     "status": "completed"
    },
    "tags": []
   },
   "outputs": [
    {
     "data": {
      "text/plain": [
       "<AxesSubplot:ylabel='PRODUCT'>"
      ]
     },
     "execution_count": 7,
     "metadata": {},
     "output_type": "execute_result"
    },
    {
     "data": {
      "image/png": "[encoded data removed]",
      "text/plain": [
       "<Figure size 432x288 with 1 Axes>"
      ]
     },
     "metadata": {
      "needs_background": "light"
     },
     "output_type": "display_data"
    }
   ],
   "source": [
    "df_pivot_diff.sort_values(\"stamp_2\", ascending = False)[\"stamp_2\"].head(10).plot.barh()"
   ]
  },
  {
   "cell_type": "code",
   "execution_count": null,
   "id": "extra-executive",
   "metadata": {
    "papermill": {
     "duration": 0.022269,
     "end_time": "2021-11-26T06:30:13.468373",
     "exception": false,
     "start_time": "2021-11-26T06:30:13.446104",
     "status": "completed"
    },
    "tags": []
   },
   "outputs": [],
   "source": []
  }
 ],
 "metadata": {
  "kernelspec": {
   "display_name": "Python 3",
   "language": "python",
   "name": "python3"
  },
  "language_info": {
   "codemirror_mode": {
    "name": "ipython",
    "version": 3
   },
   "file_extension": ".py",
   "mimetype": "text/x-python",
   "name": "python",
   "nbconvert_exporter": "python",
   "pygments_lexer": "ipython3",
   "version": "3.9.5"
  },
  "papermill": {
   "default_parameters": {},
   "duration": 9.937681,
   "end_time": "2021-11-26T06:30:14.930513",
   "environment_variables": {},
   "exception": null,
   "input_path": "eBay_Overview.ipynb",
   "output_path": "eBay_Overview.ipynb",
   "parameters": {},
   "start_time": "2021-11-26T06:30:04.992832",
   "version": "2.3.3"
  }
 },
 "nbformat": 4,
 "nbformat_minor": 5
}