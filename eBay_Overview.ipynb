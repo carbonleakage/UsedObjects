{
 "cells": [
  {
   "cell_type": "code",
   "execution_count": 1,
   "id": "reverse-picking",
   "metadata": {
    "execution": {
     "iopub.execute_input": "2021-10-10T22:30:07.823198Z",
     "iopub.status.busy": "2021-10-10T22:30:07.821175Z",
     "iopub.status.idle": "2021-10-10T22:30:08.628515Z",
     "shell.execute_reply": "2021-10-10T22:30:08.626843Z"
    },
    "papermill": {
     "duration": 0.858156,
     "end_time": "2021-10-10T22:30:08.628931",
     "exception": false,
     "start_time": "2021-10-10T22:30:07.770775",
     "status": "completed"
    },
    "tags": []
   },
   "outputs": [],
   "source": [
    "import pandas as pd\n",
    "import sqlite3"
   ]
  },
  {
   "cell_type": "code",
   "execution_count": 2,
   "id": "innovative-syndrome",
   "metadata": {
    "execution": {
     "iopub.execute_input": "2021-10-10T22:30:08.679554Z",
     "iopub.status.busy": "2021-10-10T22:30:08.677578Z",
     "iopub.status.idle": "2021-10-10T22:30:09.180212Z",
     "shell.execute_reply": "2021-10-10T22:30:09.181467Z"
    },
    "papermill": {
     "duration": 0.532518,
     "end_time": "2021-10-10T22:30:09.182060",
     "exception": false,
     "start_time": "2021-10-10T22:30:08.649542",
     "status": "completed"
    },
    "tags": []
   },
   "outputs": [],
   "source": [
    "timestamps = pd.read_sql(\"select distinct record_time from EBAY_TOP_BERLIN order by record_time desc limit 2\", sqlite3.connect(\"UsedObjects.db\"))"
   ]
  },
  {
   "cell_type": "code",
   "execution_count": 3,
   "id": "periodic-identification",
   "metadata": {
    "execution": {
     "iopub.execute_input": "2021-10-10T22:30:09.250409Z",
     "iopub.status.busy": "2021-10-10T22:30:09.248392Z",
     "iopub.status.idle": "2021-10-10T22:30:09.268284Z",
     "shell.execute_reply": "2021-10-10T22:30:09.269488Z"
    },
    "papermill": {
     "duration": 0.06716,
     "end_time": "2021-10-10T22:30:09.269910",
     "exception": false,
     "start_time": "2021-10-10T22:30:09.202750",
     "status": "completed"
    },
    "tags": []
   },
   "outputs": [
    {
     "data": {
      "text/html": [
       "<div>\n",
       "<style scoped>\n",
       "    .dataframe tbody tr th:only-of-type {\n",
       "        vertical-align: middle;\n",
       "    }\n",
       "\n",
       "    .dataframe tbody tr th {\n",
       "        vertical-align: top;\n",
       "    }\n",
       "\n",
       "    .dataframe thead th {\n",
       "        text-align: right;\n",
       "    }\n",
       "</style>\n",
       "<table border=\"1\" class=\"dataframe\">\n",
       "  <thead>\n",
       "    <tr style=\"text-align: right;\">\n",
       "      <th></th>\n",
       "      <th>RECORD_TIME</th>\n",
       "    </tr>\n",
       "  </thead>\n",
       "  <tbody>\n",
       "    <tr>\n",
       "      <th>0</th>\n",
       "      <td>2021-10-11 00:30</td>\n",
       "    </tr>\n",
       "    <tr>\n",
       "      <th>1</th>\n",
       "      <td>2021-10-11 00:00</td>\n",
       "    </tr>\n",
       "  </tbody>\n",
       "</table>\n",
       "</div>"
      ],
      "text/plain": [
       "        RECORD_TIME\n",
       "0  2021-10-11 00:30\n",
       "1  2021-10-11 00:00"
      ]
     },
     "execution_count": 3,
     "metadata": {},
     "output_type": "execute_result"
    }
   ],
   "source": [
    "timestamps"
   ]
  },
  {
   "cell_type": "code",
   "execution_count": 4,
   "id": "alternate-victory",
   "metadata": {
    "execution": {
     "iopub.execute_input": "2021-10-10T22:30:09.343511Z",
     "iopub.status.busy": "2021-10-10T22:30:09.341103Z",
     "iopub.status.idle": "2021-10-10T22:30:10.085826Z",
     "shell.execute_reply": "2021-10-10T22:30:10.087218Z"
    },
    "papermill": {
     "duration": 0.780964,
     "end_time": "2021-10-10T22:30:10.087657",
     "exception": false,
     "start_time": "2021-10-10T22:30:09.306693",
     "status": "completed"
    },
    "tags": []
   },
   "outputs": [],
   "source": [
    "df = pd.read_sql(\"select * from EBAY_TOP_BERLIN where record_time in (select distinct record_time from EBAY_TOP_BERLIN order by record_time desc limit 2)\", sqlite3.connect(\"UsedObjects.db\"))"
   ]
  },
  {
   "cell_type": "code",
   "execution_count": 5,
   "id": "popular-active",
   "metadata": {
    "execution": {
     "iopub.execute_input": "2021-10-10T22:30:10.156549Z",
     "iopub.status.busy": "2021-10-10T22:30:10.145164Z",
     "iopub.status.idle": "2021-10-10T22:30:10.172376Z",
     "shell.execute_reply": "2021-10-10T22:30:10.173593Z"
    },
    "papermill": {
     "duration": 0.065709,
     "end_time": "2021-10-10T22:30:10.173990",
     "exception": false,
     "start_time": "2021-10-10T22:30:10.108281",
     "status": "completed"
    },
    "tags": []
   },
   "outputs": [],
   "source": [
    "df_pivot = df.pivot_table(index=\"PRODUCT\", columns = \"RECORD_TIME\", values = \"LISTING_COUNT\")"
   ]
  },
  {
   "cell_type": "code",
   "execution_count": 6,
   "id": "union-huntington",
   "metadata": {
    "execution": {
     "iopub.execute_input": "2021-10-10T22:30:10.233766Z",
     "iopub.status.busy": "2021-10-10T22:30:10.231310Z",
     "iopub.status.idle": "2021-10-10T22:30:10.237499Z",
     "shell.execute_reply": "2021-10-10T22:30:10.239017Z"
    },
    "papermill": {
     "duration": 0.042831,
     "end_time": "2021-10-10T22:30:10.239485",
     "exception": false,
     "start_time": "2021-10-10T22:30:10.196654",
     "status": "completed"
    },
    "tags": []
   },
   "outputs": [],
   "source": [
    "df_pivot.columns = [\"stamp_1\", \"stamp_2\"]\n",
    "df_pivot_diff = df_pivot.diff(axis=1)"
   ]
  },
  {
   "cell_type": "code",
   "execution_count": 7,
   "id": "fifth-motion",
   "metadata": {
    "execution": {
     "iopub.execute_input": "2021-10-10T22:30:10.293799Z",
     "iopub.status.busy": "2021-10-10T22:30:10.291607Z",
     "iopub.status.idle": "2021-10-10T22:30:11.768515Z",
     "shell.execute_reply": "2021-10-10T22:30:11.769798Z"
    },
    "papermill": {
     "duration": 1.509591,
     "end_time": "2021-10-10T22:30:11.770212",
     "exception": false,
     "start_time": "2021-10-10T22:30:10.260621",
     "status": "completed"
    },
    "tags": []
   },
   "outputs": [
    {
     "data": {
      "text/plain": [
       "<AxesSubplot:ylabel='PRODUCT'>"
      ]
     },
     "execution_count": 7,
     "metadata": {},
     "output_type": "execute_result"
    },
    {
     "data": {
      "image/png": "[encoded data removed]",
      "text/plain": [
       "<Figure size 432x288 with 1 Axes>"
      ]
     },
     "metadata": {
      "needs_background": "light"
     },
     "output_type": "display_data"
    }
   ],
   "source": [
    "df_pivot_diff.sort_values(\"stamp_2\", ascending = False)[\"stamp_2\"].head(10).plot.barh()"
   ]
  },
  {
   "cell_type": "code",
   "execution_count": null,
   "id": "extra-executive",
   "metadata": {
    "papermill": {
     "duration": 0.022263,
     "end_time": "2021-10-10T22:30:11.816322",
     "exception": false,
     "start_time": "2021-10-10T22:30:11.794059",
     "status": "completed"
    },
    "tags": []
   },
   "outputs": [],
   "source": []
  }
 ],
 "metadata": {
  "kernelspec": {
   "display_name": "Python 3",
   "language": "python",
   "name": "python3"
  },
  "language_info": {
   "codemirror_mode": {
    "name": "ipython",
    "version": 3
   },
   "file_extension": ".py",
   "mimetype": "text/x-python",
   "name": "python",
   "nbconvert_exporter": "python",
   "pygments_lexer": "ipython3",
   "version": "3.9.5"
  },
  "papermill": {
   "default_parameters": {},
   "duration": 7.842099,
   "end_time": "2021-10-10T22:30:13.200226",
   "environment_variables": {},
   "exception": null,
   "input_path": "eBay_Overview.ipynb",
   "output_path": "eBay_Overview.ipynb",
   "parameters": {},
   "start_time": "2021-10-10T22:30:05.358127",
   "version": "2.3.3"
  }
 },
 "nbformat": 4,
 "nbformat_minor": 5
}