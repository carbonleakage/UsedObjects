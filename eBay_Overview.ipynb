{
 "cells": [
  {
   "cell_type": "code",
   "execution_count": 1,
   "id": "reverse-picking",
   "metadata": {
    "execution": {
     "iopub.execute_input": "2021-09-03T02:30:06.992797Z",
     "iopub.status.busy": "2021-09-03T02:30:06.990768Z",
     "iopub.status.idle": "2021-09-03T02:30:07.795499Z",
     "shell.execute_reply": "2021-09-03T02:30:07.796781Z"
    },
    "papermill": {
     "duration": 0.856971,
     "end_time": "2021-09-03T02:30:07.797407",
     "exception": false,
     "start_time": "2021-09-03T02:30:06.940436",
     "status": "completed"
    },
    "tags": []
   },
   "outputs": [],
   "source": [
    "import pandas as pd\n",
    "import sqlite3"
   ]
  },
  {
   "cell_type": "code",
   "execution_count": 2,
   "id": "innovative-syndrome",
   "metadata": {
    "execution": {
     "iopub.execute_input": "2021-09-03T02:30:07.849006Z",
     "iopub.status.busy": "2021-09-03T02:30:07.847148Z",
     "iopub.status.idle": "2021-09-03T02:30:08.040244Z",
     "shell.execute_reply": "2021-09-03T02:30:08.041492Z"
    },
    "papermill": {
     "duration": 0.22277,
     "end_time": "2021-09-03T02:30:08.041887",
     "exception": false,
     "start_time": "2021-09-03T02:30:07.819117",
     "status": "completed"
    },
    "tags": []
   },
   "outputs": [],
   "source": [
    "timestamps = pd.read_sql(\"select distinct record_time from EBAY_TOP_BERLIN order by record_time desc limit 2\", sqlite3.connect(\"UsedObjects.db\"))"
   ]
  },
  {
   "cell_type": "code",
   "execution_count": 3,
   "id": "periodic-identification",
   "metadata": {
    "execution": {
     "iopub.execute_input": "2021-09-03T02:30:08.106260Z",
     "iopub.status.busy": "2021-09-03T02:30:08.104261Z",
     "iopub.status.idle": "2021-09-03T02:30:08.123918Z",
     "shell.execute_reply": "2021-09-03T02:30:08.125063Z"
    },
    "papermill": {
     "duration": 0.06415,
     "end_time": "2021-09-03T02:30:08.125472",
     "exception": false,
     "start_time": "2021-09-03T02:30:08.061322",
     "status": "completed"
    },
    "tags": []
   },
   "outputs": [
    {
     "data": {
      "text/html": [
       "<div>\n",
       "<style scoped>\n",
       "    .dataframe tbody tr th:only-of-type {\n",
       "        vertical-align: middle;\n",
       "    }\n",
       "\n",
       "    .dataframe tbody tr th {\n",
       "        vertical-align: top;\n",
       "    }\n",
       "\n",
       "    .dataframe thead th {\n",
       "        text-align: right;\n",
       "    }\n",
       "</style>\n",
       "<table border=\"1\" class=\"dataframe\">\n",
       "  <thead>\n",
       "    <tr style=\"text-align: right;\">\n",
       "      <th></th>\n",
       "      <th>RECORD_TIME</th>\n",
       "    </tr>\n",
       "  </thead>\n",
       "  <tbody>\n",
       "    <tr>\n",
       "      <th>0</th>\n",
       "      <td>2021-09-03 04:30</td>\n",
       "    </tr>\n",
       "    <tr>\n",
       "      <th>1</th>\n",
       "      <td>2021-09-03 04:00</td>\n",
       "    </tr>\n",
       "  </tbody>\n",
       "</table>\n",
       "</div>"
      ],
      "text/plain": [
       "        RECORD_TIME\n",
       "0  2021-09-03 04:30\n",
       "1  2021-09-03 04:00"
      ]
     },
     "execution_count": 3,
     "metadata": {},
     "output_type": "execute_result"
    }
   ],
   "source": [
    "timestamps"
   ]
  },
  {
   "cell_type": "code",
   "execution_count": 4,
   "id": "alternate-victory",
   "metadata": {
    "execution": {
     "iopub.execute_input": "2021-09-03T02:30:08.178614Z",
     "iopub.status.busy": "2021-09-03T02:30:08.176358Z",
     "iopub.status.idle": "2021-09-03T02:30:08.469200Z",
     "shell.execute_reply": "2021-09-03T02:30:08.470427Z"
    },
    "papermill": {
     "duration": 0.323336,
     "end_time": "2021-09-03T02:30:08.470824",
     "exception": false,
     "start_time": "2021-09-03T02:30:08.147488",
     "status": "completed"
    },
    "tags": []
   },
   "outputs": [],
   "source": [
    "df = pd.read_sql(\"select * from EBAY_TOP_BERLIN where record_time in (select distinct record_time from EBAY_TOP_BERLIN order by record_time desc limit 2)\", sqlite3.connect(\"UsedObjects.db\"))"
   ]
  },
  {
   "cell_type": "code",
   "execution_count": 5,
   "id": "popular-active",
   "metadata": {
    "execution": {
     "iopub.execute_input": "2021-09-03T02:30:08.550322Z",
     "iopub.status.busy": "2021-09-03T02:30:08.538627Z",
     "iopub.status.idle": "2021-09-03T02:30:08.565904Z",
     "shell.execute_reply": "2021-09-03T02:30:08.567353Z"
    },
    "papermill": {
     "duration": 0.071204,
     "end_time": "2021-09-03T02:30:08.567772",
     "exception": false,
     "start_time": "2021-09-03T02:30:08.496568",
     "status": "completed"
    },
    "tags": []
   },
   "outputs": [],
   "source": [
    "df_pivot = df.pivot_table(index=\"PRODUCT\", columns = \"RECORD_TIME\", values = \"LISTING_COUNT\")"
   ]
  },
  {
   "cell_type": "code",
   "execution_count": 6,
   "id": "union-huntington",
   "metadata": {
    "execution": {
     "iopub.execute_input": "2021-09-03T02:30:08.626635Z",
     "iopub.status.busy": "2021-09-03T02:30:08.624207Z",
     "iopub.status.idle": "2021-09-03T02:30:08.630165Z",
     "shell.execute_reply": "2021-09-03T02:30:08.631525Z"
    },
    "papermill": {
     "duration": 0.042659,
     "end_time": "2021-09-03T02:30:08.631982",
     "exception": false,
     "start_time": "2021-09-03T02:30:08.589323",
     "status": "completed"
    },
    "tags": []
   },
   "outputs": [],
   "source": [
    "df_pivot.columns = [\"stamp_1\", \"stamp_2\"]\n",
    "df_pivot_diff = df_pivot.diff(axis=1)"
   ]
  },
  {
   "cell_type": "code",
   "execution_count": 7,
   "id": "fifth-motion",
   "metadata": {
    "execution": {
     "iopub.execute_input": "2021-09-03T02:30:08.686744Z",
     "iopub.status.busy": "2021-09-03T02:30:08.684470Z",
     "iopub.status.idle": "2021-09-03T02:30:10.193567Z",
     "shell.execute_reply": "2021-09-03T02:30:10.195021Z"
    },
    "papermill": {
     "duration": 1.542021,
     "end_time": "2021-09-03T02:30:10.195504",
     "exception": false,
     "start_time": "2021-09-03T02:30:08.653483",
     "status": "completed"
    },
    "tags": []
   },
   "outputs": [
    {
     "data": {
      "text/plain": [
       "<AxesSubplot:ylabel='PRODUCT'>"
      ]
     },
     "execution_count": 7,
     "metadata": {},
     "output_type": "execute_result"
    },
    {
     "data": {
      "image/png": "[encoded data removed]",
      "text/plain": [
       "<Figure size 432x288 with 1 Axes>"
      ]
     },
     "metadata": {
      "needs_background": "light"
     },
     "output_type": "display_data"
    }
   ],
   "source": [
    "df_pivot_diff.sort_values(\"stamp_2\", ascending = False)[\"stamp_2\"].head(10).plot.barh()"
   ]
  },
  {
   "cell_type": "code",
   "execution_count": null,
   "id": "extra-executive",
   "metadata": {
    "papermill": {
     "duration": 0.022261,
     "end_time": "2021-09-03T02:30:10.242804",
     "exception": false,
     "start_time": "2021-09-03T02:30:10.220543",
     "status": "completed"
    },
    "tags": []
   },
   "outputs": [],
   "source": []
  }
 ],
 "metadata": {
  "kernelspec": {
   "display_name": "Python 3",
   "language": "python",
   "name": "python3"
  },
  "language_info": {
   "codemirror_mode": {
    "name": "ipython",
    "version": 3
   },
   "file_extension": ".py",
   "mimetype": "text/x-python",
   "name": "python",
   "nbconvert_exporter": "python",
   "pygments_lexer": "ipython3",
   "version": "3.9.5"
  },
  "papermill": {
   "default_parameters": {},
   "duration": 6.348732,
   "end_time": "2021-09-03T02:30:10.883993",
   "environment_variables": {},
   "exception": null,
   "input_path": "eBay_Overview.ipynb",
   "output_path": "eBay_Overview.ipynb",
   "parameters": {},
   "start_time": "2021-09-03T02:30:04.535261",
   "version": "2.3.3"
  }
 },
 "nbformat": 4,
 "nbformat_minor": 5
}