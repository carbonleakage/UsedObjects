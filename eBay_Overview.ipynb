{
 "cells": [
  {
   "cell_type": "code",
   "execution_count": 1,
   "id": "reverse-picking",
   "metadata": {
    "execution": {
     "iopub.execute_input": "2021-12-17T05:00:07.921307Z",
     "iopub.status.busy": "2021-12-17T05:00:07.918990Z",
     "iopub.status.idle": "2021-12-17T05:00:08.879251Z",
     "shell.execute_reply": "2021-12-17T05:00:08.880665Z"
    },
    "papermill": {
     "duration": 1.01066,
     "end_time": "2021-12-17T05:00:08.881430",
     "exception": false,
     "start_time": "2021-12-17T05:00:07.870770",
     "status": "completed"
    },
    "tags": []
   },
   "outputs": [],
   "source": [
    "import pandas as pd\n",
    "import sqlite3"
   ]
  },
  {
   "cell_type": "code",
   "execution_count": 2,
   "id": "innovative-syndrome",
   "metadata": {
    "execution": {
     "iopub.execute_input": "2021-12-17T05:00:08.944638Z",
     "iopub.status.busy": "2021-12-17T05:00:08.942090Z",
     "iopub.status.idle": "2021-12-17T05:00:10.091396Z",
     "shell.execute_reply": "2021-12-17T05:00:10.093147Z"
    },
    "papermill": {
     "duration": 1.182346,
     "end_time": "2021-12-17T05:00:10.093637",
     "exception": false,
     "start_time": "2021-12-17T05:00:08.911291",
     "status": "completed"
    },
    "tags": []
   },
   "outputs": [],
   "source": [
    "timestamps = pd.read_sql(\"select distinct record_time from EBAY_TOP_BERLIN order by record_time desc limit 2\", sqlite3.connect(\"UsedObjects.db\"))"
   ]
  },
  {
   "cell_type": "code",
   "execution_count": 3,
   "id": "periodic-identification",
   "metadata": {
    "execution": {
     "iopub.execute_input": "2021-12-17T05:00:10.169835Z",
     "iopub.status.busy": "2021-12-17T05:00:10.164068Z",
     "iopub.status.idle": "2021-12-17T05:00:10.187759Z",
     "shell.execute_reply": "2021-12-17T05:00:10.189321Z"
    },
    "papermill": {
     "duration": 0.074192,
     "end_time": "2021-12-17T05:00:10.189813",
     "exception": false,
     "start_time": "2021-12-17T05:00:10.115621",
     "status": "completed"
    },
    "tags": []
   },
   "outputs": [
    {
     "data": {
      "text/html": [
       "<div>\n",
       "<style scoped>\n",
       "    .dataframe tbody tr th:only-of-type {\n",
       "        vertical-align: middle;\n",
       "    }\n",
       "\n",
       "    .dataframe tbody tr th {\n",
       "        vertical-align: top;\n",
       "    }\n",
       "\n",
       "    .dataframe thead th {\n",
       "        text-align: right;\n",
       "    }\n",
       "</style>\n",
       "<table border=\"1\" class=\"dataframe\">\n",
       "  <thead>\n",
       "    <tr style=\"text-align: right;\">\n",
       "      <th></th>\n",
       "      <th>RECORD_TIME</th>\n",
       "    </tr>\n",
       "  </thead>\n",
       "  <tbody>\n",
       "    <tr>\n",
       "      <th>0</th>\n",
       "      <td>2021-12-17 06:00</td>\n",
       "    </tr>\n",
       "    <tr>\n",
       "      <th>1</th>\n",
       "      <td>2021-12-17 05:30</td>\n",
       "    </tr>\n",
       "  </tbody>\n",
       "</table>\n",
       "</div>"
      ],
      "text/plain": [
       "        RECORD_TIME\n",
       "0  2021-12-17 06:00\n",
       "1  2021-12-17 05:30"
      ]
     },
     "execution_count": 3,
     "metadata": {},
     "output_type": "execute_result"
    }
   ],
   "source": [
    "timestamps"
   ]
  },
  {
   "cell_type": "code",
   "execution_count": 4,
   "id": "alternate-victory",
   "metadata": {
    "execution": {
     "iopub.execute_input": "2021-12-17T05:00:10.246799Z",
     "iopub.status.busy": "2021-12-17T05:00:10.244509Z",
     "iopub.status.idle": "2021-12-17T05:00:11.846807Z",
     "shell.execute_reply": "2021-12-17T05:00:11.848383Z"
    },
    "papermill": {
     "duration": 1.637886,
     "end_time": "2021-12-17T05:00:11.848914",
     "exception": false,
     "start_time": "2021-12-17T05:00:10.211028",
     "status": "completed"
    },
    "tags": []
   },
   "outputs": [],
   "source": [
    "df = pd.read_sql(\"select * from EBAY_TOP_BERLIN where record_time in (select distinct record_time from EBAY_TOP_BERLIN order by record_time desc limit 2)\", sqlite3.connect(\"UsedObjects.db\"))"
   ]
  },
  {
   "cell_type": "code",
   "execution_count": 5,
   "id": "popular-active",
   "metadata": {
    "execution": {
     "iopub.execute_input": "2021-12-17T05:00:11.920917Z",
     "iopub.status.busy": "2021-12-17T05:00:11.912065Z",
     "iopub.status.idle": "2021-12-17T05:00:11.945867Z",
     "shell.execute_reply": "2021-12-17T05:00:11.947350Z"
    },
    "papermill": {
     "duration": 0.077609,
     "end_time": "2021-12-17T05:00:11.947812",
     "exception": false,
     "start_time": "2021-12-17T05:00:11.870203",
     "status": "completed"
    },
    "tags": []
   },
   "outputs": [],
   "source": [
    "df_pivot = df.pivot_table(index=\"PRODUCT\", columns = \"RECORD_TIME\", values = \"LISTING_COUNT\")"
   ]
  },
  {
   "cell_type": "code",
   "execution_count": 6,
   "id": "union-huntington",
   "metadata": {
    "execution": {
     "iopub.execute_input": "2021-12-17T05:00:12.005530Z",
     "iopub.status.busy": "2021-12-17T05:00:12.003264Z",
     "iopub.status.idle": "2021-12-17T05:00:12.009387Z",
     "shell.execute_reply": "2021-12-17T05:00:12.010846Z"
    },
    "papermill": {
     "duration": 0.043614,
     "end_time": "2021-12-17T05:00:12.011312",
     "exception": false,
     "start_time": "2021-12-17T05:00:11.967698",
     "status": "completed"
    },
    "tags": []
   },
   "outputs": [],
   "source": [
    "df_pivot.columns = [\"stamp_1\", \"stamp_2\"]\n",
    "df_pivot_diff = df_pivot.diff(axis=1)"
   ]
  },
  {
   "cell_type": "code",
   "execution_count": 7,
   "id": "fifth-motion",
   "metadata": {
    "execution": {
     "iopub.execute_input": "2021-12-17T05:00:12.067531Z",
     "iopub.status.busy": "2021-12-17T05:00:12.065114Z",
     "iopub.status.idle": "2021-12-17T05:00:13.969989Z",
     "shell.execute_reply": "2021-12-17T05:00:13.971292Z"
    },
    "papermill": {
     "duration": 1.940168,
     "end_time": "2021-12-17T05:00:13.971707",
     "exception": false,
     "start_time": "2021-12-17T05:00:12.031539",
     "status": "completed"
    },
    "tags": []
   },
   "outputs": [
    {
     "data": {
      "text/plain": [
       "<AxesSubplot:ylabel='PRODUCT'>"
      ]
     },
     "execution_count": 7,
     "metadata": {},
     "output_type": "execute_result"
    },
    {
     "data": {
      "image/png": "[encoded data removed]",
      "text/plain": [
       "<Figure size 432x288 with 1 Axes>"
      ]
     },
     "metadata": {
      "needs_background": "light"
     },
     "output_type": "display_data"
    }
   ],
   "source": [
    "df_pivot_diff.sort_values(\"stamp_2\", ascending = False)[\"stamp_2\"].head(10).plot.barh()"
   ]
  },
  {
   "cell_type": "code",
   "execution_count": null,
   "id": "extra-executive",
   "metadata": {
    "papermill": {
     "duration": 0.028167,
     "end_time": "2021-12-17T05:00:14.041494",
     "exception": false,
     "start_time": "2021-12-17T05:00:14.013327",
     "status": "completed"
    },
    "tags": []
   },
   "outputs": [],
   "source": []
  }
 ],
 "metadata": {
  "kernelspec": {
   "display_name": "Python 3",
   "language": "python",
   "name": "python3"
  },
  "language_info": {
   "codemirror_mode": {
    "name": "ipython",
    "version": 3
   },
   "file_extension": ".py",
   "mimetype": "text/x-python",
   "name": "python",
   "nbconvert_exporter": "python",
   "pygments_lexer": "ipython3",
   "version": "3.9.5"
  },
  "papermill": {
   "default_parameters": {},
   "duration": 9.562071,
   "end_time": "2021-12-17T05:00:14.684245",
   "environment_variables": {},
   "exception": null,
   "input_path": "eBay_Overview.ipynb",
   "output_path": "eBay_Overview.ipynb",
   "parameters": {},
   "start_time": "2021-12-17T05:00:05.122174",
   "version": "2.3.3"
  }
 },
 "nbformat": 4,
 "nbformat_minor": 5
}