{
 "cells": [
  {
   "cell_type": "code",
   "execution_count": 1,
   "id": "reverse-picking",
   "metadata": {
    "execution": {
     "iopub.execute_input": "2021-09-27T21:30:07.101210Z",
     "iopub.status.busy": "2021-09-27T21:30:07.099234Z",
     "iopub.status.idle": "2021-09-27T21:30:07.906430Z",
     "shell.execute_reply": "2021-09-27T21:30:07.907782Z"
    },
    "papermill": {
     "duration": 0.861368,
     "end_time": "2021-09-27T21:30:07.908414",
     "exception": false,
     "start_time": "2021-09-27T21:30:07.047046",
     "status": "completed"
    },
    "tags": []
   },
   "outputs": [],
   "source": [
    "import pandas as pd\n",
    "import sqlite3"
   ]
  },
  {
   "cell_type": "code",
   "execution_count": 2,
   "id": "innovative-syndrome",
   "metadata": {
    "execution": {
     "iopub.execute_input": "2021-09-27T21:30:07.960557Z",
     "iopub.status.busy": "2021-09-27T21:30:07.958266Z",
     "iopub.status.idle": "2021-09-27T21:30:08.350909Z",
     "shell.execute_reply": "2021-09-27T21:30:08.352070Z"
    },
    "papermill": {
     "duration": 0.421965,
     "end_time": "2021-09-27T21:30:08.352481",
     "exception": false,
     "start_time": "2021-09-27T21:30:07.930516",
     "status": "completed"
    },
    "tags": []
   },
   "outputs": [],
   "source": [
    "timestamps = pd.read_sql(\"select distinct record_time from EBAY_TOP_BERLIN order by record_time desc limit 2\", sqlite3.connect(\"UsedObjects.db\"))"
   ]
  },
  {
   "cell_type": "code",
   "execution_count": 3,
   "id": "periodic-identification",
   "metadata": {
    "execution": {
     "iopub.execute_input": "2021-09-27T21:30:08.420013Z",
     "iopub.status.busy": "2021-09-27T21:30:08.417902Z",
     "iopub.status.idle": "2021-09-27T21:30:08.437836Z",
     "shell.execute_reply": "2021-09-27T21:30:08.439267Z"
    },
    "papermill": {
     "duration": 0.064981,
     "end_time": "2021-09-27T21:30:08.439718",
     "exception": false,
     "start_time": "2021-09-27T21:30:08.374737",
     "status": "completed"
    },
    "tags": []
   },
   "outputs": [
    {
     "data": {
      "text/html": [
       "<div>\n",
       "<style scoped>\n",
       "    .dataframe tbody tr th:only-of-type {\n",
       "        vertical-align: middle;\n",
       "    }\n",
       "\n",
       "    .dataframe tbody tr th {\n",
       "        vertical-align: top;\n",
       "    }\n",
       "\n",
       "    .dataframe thead th {\n",
       "        text-align: right;\n",
       "    }\n",
       "</style>\n",
       "<table border=\"1\" class=\"dataframe\">\n",
       "  <thead>\n",
       "    <tr style=\"text-align: right;\">\n",
       "      <th></th>\n",
       "      <th>RECORD_TIME</th>\n",
       "    </tr>\n",
       "  </thead>\n",
       "  <tbody>\n",
       "    <tr>\n",
       "      <th>0</th>\n",
       "      <td>2021-09-27 23:30</td>\n",
       "    </tr>\n",
       "    <tr>\n",
       "      <th>1</th>\n",
       "      <td>2021-09-27 23:00</td>\n",
       "    </tr>\n",
       "  </tbody>\n",
       "</table>\n",
       "</div>"
      ],
      "text/plain": [
       "        RECORD_TIME\n",
       "0  2021-09-27 23:30\n",
       "1  2021-09-27 23:00"
      ]
     },
     "execution_count": 3,
     "metadata": {},
     "output_type": "execute_result"
    }
   ],
   "source": [
    "timestamps"
   ]
  },
  {
   "cell_type": "code",
   "execution_count": 4,
   "id": "alternate-victory",
   "metadata": {
    "execution": {
     "iopub.execute_input": "2021-09-27T21:30:08.491317Z",
     "iopub.status.busy": "2021-09-27T21:30:08.489348Z",
     "iopub.status.idle": "2021-09-27T21:30:09.074278Z",
     "shell.execute_reply": "2021-09-27T21:30:09.075481Z"
    },
    "papermill": {
     "duration": 0.614799,
     "end_time": "2021-09-27T21:30:09.075901",
     "exception": false,
     "start_time": "2021-09-27T21:30:08.461102",
     "status": "completed"
    },
    "tags": []
   },
   "outputs": [],
   "source": [
    "df = pd.read_sql(\"select * from EBAY_TOP_BERLIN where record_time in (select distinct record_time from EBAY_TOP_BERLIN order by record_time desc limit 2)\", sqlite3.connect(\"UsedObjects.db\"))"
   ]
  },
  {
   "cell_type": "code",
   "execution_count": 5,
   "id": "popular-active",
   "metadata": {
    "execution": {
     "iopub.execute_input": "2021-09-27T21:30:09.144376Z",
     "iopub.status.busy": "2021-09-27T21:30:09.136527Z",
     "iopub.status.idle": "2021-09-27T21:30:09.164631Z",
     "shell.execute_reply": "2021-09-27T21:30:09.165826Z"
    },
    "papermill": {
     "duration": 0.067802,
     "end_time": "2021-09-27T21:30:09.166221",
     "exception": false,
     "start_time": "2021-09-27T21:30:09.098419",
     "status": "completed"
    },
    "tags": []
   },
   "outputs": [],
   "source": [
    "df_pivot = df.pivot_table(index=\"PRODUCT\", columns = \"RECORD_TIME\", values = \"LISTING_COUNT\")"
   ]
  },
  {
   "cell_type": "code",
   "execution_count": 6,
   "id": "union-huntington",
   "metadata": {
    "execution": {
     "iopub.execute_input": "2021-09-27T21:30:09.223100Z",
     "iopub.status.busy": "2021-09-27T21:30:09.220888Z",
     "iopub.status.idle": "2021-09-27T21:30:09.226428Z",
     "shell.execute_reply": "2021-09-27T21:30:09.227939Z"
    },
    "papermill": {
     "duration": 0.040903,
     "end_time": "2021-09-27T21:30:09.228390",
     "exception": false,
     "start_time": "2021-09-27T21:30:09.187487",
     "status": "completed"
    },
    "tags": []
   },
   "outputs": [],
   "source": [
    "df_pivot.columns = [\"stamp_1\", \"stamp_2\"]\n",
    "df_pivot_diff = df_pivot.diff(axis=1)"
   ]
  },
  {
   "cell_type": "code",
   "execution_count": 7,
   "id": "fifth-motion",
   "metadata": {
    "execution": {
     "iopub.execute_input": "2021-09-27T21:30:09.283748Z",
     "iopub.status.busy": "2021-09-27T21:30:09.281024Z",
     "iopub.status.idle": "2021-09-27T21:30:10.793437Z",
     "shell.execute_reply": "2021-09-27T21:30:10.794721Z"
    },
    "papermill": {
     "duration": 1.546168,
     "end_time": "2021-09-27T21:30:10.795374",
     "exception": false,
     "start_time": "2021-09-27T21:30:09.249206",
     "status": "completed"
    },
    "tags": []
   },
   "outputs": [
    {
     "data": {
      "text/plain": [
       "<AxesSubplot:ylabel='PRODUCT'>"
      ]
     },
     "execution_count": 7,
     "metadata": {},
     "output_type": "execute_result"
    },
    {
     "data": {
      "image/png": "[encoded data removed]",
      "text/plain": [
       "<Figure size 432x288 with 1 Axes>"
      ]
     },
     "metadata": {
      "needs_background": "light"
     },
     "output_type": "display_data"
    }
   ],
   "source": [
    "df_pivot_diff.sort_values(\"stamp_2\", ascending = False)[\"stamp_2\"].head(10).plot.barh()"
   ]
  },
  {
   "cell_type": "code",
   "execution_count": null,
   "id": "extra-executive",
   "metadata": {
    "papermill": {
     "duration": 0.02206,
     "end_time": "2021-09-27T21:30:10.841708",
     "exception": false,
     "start_time": "2021-09-27T21:30:10.819648",
     "status": "completed"
    },
    "tags": []
   },
   "outputs": [],
   "source": []
  }
 ],
 "metadata": {
  "kernelspec": {
   "display_name": "Python 3",
   "language": "python",
   "name": "python3"
  },
  "language_info": {
   "codemirror_mode": {
    "name": "ipython",
    "version": 3
   },
   "file_extension": ".py",
   "mimetype": "text/x-python",
   "name": "python",
   "nbconvert_exporter": "python",
   "pygments_lexer": "ipython3",
   "version": "3.9.5"
  },
  "papermill": {
   "default_parameters": {},
   "duration": 7.829943,
   "end_time": "2021-09-27T21:30:12.465099",
   "environment_variables": {},
   "exception": null,
   "input_path": "eBay_Overview.ipynb",
   "output_path": "eBay_Overview.ipynb",
   "parameters": {},
   "start_time": "2021-09-27T21:30:04.635156",
   "version": "2.3.3"
  }
 },
 "nbformat": 4,
 "nbformat_minor": 5
}