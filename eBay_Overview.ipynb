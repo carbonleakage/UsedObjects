{
 "cells": [
  {
   "cell_type": "code",
   "execution_count": 1,
   "id": "reverse-picking",
   "metadata": {
    "execution": {
     "iopub.execute_input": "2021-09-02T05:30:06.900643Z",
     "iopub.status.busy": "2021-09-02T05:30:06.898653Z",
     "iopub.status.idle": "2021-09-02T05:30:07.701561Z",
     "shell.execute_reply": "2021-09-02T05:30:07.699994Z"
    },
    "papermill": {
     "duration": 0.85185,
     "end_time": "2021-09-02T05:30:07.701957",
     "exception": false,
     "start_time": "2021-09-02T05:30:06.850107",
     "status": "completed"
    },
    "tags": []
   },
   "outputs": [],
   "source": [
    "import pandas as pd\n",
    "import sqlite3"
   ]
  },
  {
   "cell_type": "code",
   "execution_count": 2,
   "id": "innovative-syndrome",
   "metadata": {
    "execution": {
     "iopub.execute_input": "2021-09-02T05:30:07.752400Z",
     "iopub.status.busy": "2021-09-02T05:30:07.750419Z",
     "iopub.status.idle": "2021-09-02T05:30:07.934422Z",
     "shell.execute_reply": "2021-09-02T05:30:07.935754Z"
    },
    "papermill": {
     "duration": 0.213421,
     "end_time": "2021-09-02T05:30:07.936173",
     "exception": false,
     "start_time": "2021-09-02T05:30:07.722752",
     "status": "completed"
    },
    "tags": []
   },
   "outputs": [],
   "source": [
    "timestamps = pd.read_sql(\"select distinct record_time from EBAY_TOP_BERLIN order by record_time desc limit 2\", sqlite3.connect(\"UsedObjects.db\"))"
   ]
  },
  {
   "cell_type": "code",
   "execution_count": 3,
   "id": "periodic-identification",
   "metadata": {
    "execution": {
     "iopub.execute_input": "2021-09-02T05:30:08.000917Z",
     "iopub.status.busy": "2021-09-02T05:30:07.998817Z",
     "iopub.status.idle": "2021-09-02T05:30:08.019524Z",
     "shell.execute_reply": "2021-09-02T05:30:08.020741Z"
    },
    "papermill": {
     "duration": 0.065264,
     "end_time": "2021-09-02T05:30:08.021131",
     "exception": false,
     "start_time": "2021-09-02T05:30:07.955867",
     "status": "completed"
    },
    "tags": []
   },
   "outputs": [
    {
     "data": {
      "text/html": [
       "<div>\n",
       "<style scoped>\n",
       "    .dataframe tbody tr th:only-of-type {\n",
       "        vertical-align: middle;\n",
       "    }\n",
       "\n",
       "    .dataframe tbody tr th {\n",
       "        vertical-align: top;\n",
       "    }\n",
       "\n",
       "    .dataframe thead th {\n",
       "        text-align: right;\n",
       "    }\n",
       "</style>\n",
       "<table border=\"1\" class=\"dataframe\">\n",
       "  <thead>\n",
       "    <tr style=\"text-align: right;\">\n",
       "      <th></th>\n",
       "      <th>RECORD_TIME</th>\n",
       "    </tr>\n",
       "  </thead>\n",
       "  <tbody>\n",
       "    <tr>\n",
       "      <th>0</th>\n",
       "      <td>2021-09-02 07:30</td>\n",
       "    </tr>\n",
       "    <tr>\n",
       "      <th>1</th>\n",
       "      <td>2021-09-02 07:00</td>\n",
       "    </tr>\n",
       "  </tbody>\n",
       "</table>\n",
       "</div>"
      ],
      "text/plain": [
       "        RECORD_TIME\n",
       "0  2021-09-02 07:30\n",
       "1  2021-09-02 07:00"
      ]
     },
     "execution_count": 3,
     "metadata": {},
     "output_type": "execute_result"
    }
   ],
   "source": [
    "timestamps"
   ]
  },
  {
   "cell_type": "code",
   "execution_count": 4,
   "id": "alternate-victory",
   "metadata": {
    "execution": {
     "iopub.execute_input": "2021-09-02T05:30:08.073171Z",
     "iopub.status.busy": "2021-09-02T05:30:08.071046Z",
     "iopub.status.idle": "2021-09-02T05:30:08.354675Z",
     "shell.execute_reply": "2021-09-02T05:30:08.355954Z"
    },
    "papermill": {
     "duration": 0.313679,
     "end_time": "2021-09-02T05:30:08.356352",
     "exception": false,
     "start_time": "2021-09-02T05:30:08.042673",
     "status": "completed"
    },
    "tags": []
   },
   "outputs": [],
   "source": [
    "df = pd.read_sql(\"select * from EBAY_TOP_BERLIN where record_time in (select distinct record_time from EBAY_TOP_BERLIN order by record_time desc limit 2)\", sqlite3.connect(\"UsedObjects.db\"))"
   ]
  },
  {
   "cell_type": "code",
   "execution_count": 5,
   "id": "popular-active",
   "metadata": {
    "execution": {
     "iopub.execute_input": "2021-09-02T05:30:08.427370Z",
     "iopub.status.busy": "2021-09-02T05:30:08.420505Z",
     "iopub.status.idle": "2021-09-02T05:30:08.442927Z",
     "shell.execute_reply": "2021-09-02T05:30:08.444210Z"
    },
    "papermill": {
     "duration": 0.067754,
     "end_time": "2021-09-02T05:30:08.444623",
     "exception": false,
     "start_time": "2021-09-02T05:30:08.376869",
     "status": "completed"
    },
    "tags": []
   },
   "outputs": [],
   "source": [
    "df_pivot = df.pivot_table(index=\"PRODUCT\", columns = \"RECORD_TIME\", values = \"LISTING_COUNT\")"
   ]
  },
  {
   "cell_type": "code",
   "execution_count": 6,
   "id": "union-huntington",
   "metadata": {
    "execution": {
     "iopub.execute_input": "2021-09-02T05:30:08.499983Z",
     "iopub.status.busy": "2021-09-02T05:30:08.497885Z",
     "iopub.status.idle": "2021-09-02T05:30:08.503006Z",
     "shell.execute_reply": "2021-09-02T05:30:08.504287Z"
    },
    "papermill": {
     "duration": 0.039916,
     "end_time": "2021-09-02T05:30:08.504698",
     "exception": false,
     "start_time": "2021-09-02T05:30:08.464782",
     "status": "completed"
    },
    "tags": []
   },
   "outputs": [],
   "source": [
    "df_pivot.columns = [\"stamp_1\", \"stamp_2\"]\n",
    "df_pivot_diff = df_pivot.diff(axis=1)"
   ]
  },
  {
   "cell_type": "code",
   "execution_count": 7,
   "id": "fifth-motion",
   "metadata": {
    "execution": {
     "iopub.execute_input": "2021-09-02T05:30:08.559782Z",
     "iopub.status.busy": "2021-09-02T05:30:08.557243Z",
     "iopub.status.idle": "2021-09-02T05:30:10.050353Z",
     "shell.execute_reply": "2021-09-02T05:30:10.051992Z"
    },
    "papermill": {
     "duration": 1.526502,
     "end_time": "2021-09-02T05:30:10.052491",
     "exception": false,
     "start_time": "2021-09-02T05:30:08.525989",
     "status": "completed"
    },
    "tags": []
   },
   "outputs": [
    {
     "data": {
      "text/plain": [
       "<AxesSubplot:ylabel='PRODUCT'>"
      ]
     },
     "execution_count": 7,
     "metadata": {},
     "output_type": "execute_result"
    },
    {
     "data": {
      "image/png": "[encoded data removed]",
      "text/plain": [
       "<Figure size 432x288 with 1 Axes>"
      ]
     },
     "metadata": {
      "needs_background": "light"
     },
     "output_type": "display_data"
    }
   ],
   "source": [
    "df_pivot_diff.sort_values(\"stamp_2\", ascending = False)[\"stamp_2\"].head(10).plot.barh()"
   ]
  },
  {
   "cell_type": "code",
   "execution_count": null,
   "id": "extra-executive",
   "metadata": {
    "papermill": {
     "duration": 0.022293,
     "end_time": "2021-09-02T05:30:10.100115",
     "exception": false,
     "start_time": "2021-09-02T05:30:10.077822",
     "status": "completed"
    },
    "tags": []
   },
   "outputs": [],
   "source": []
  }
 ],
 "metadata": {
  "kernelspec": {
   "display_name": "Python 3",
   "language": "python",
   "name": "python3"
  },
  "language_info": {
   "codemirror_mode": {
    "name": "ipython",
    "version": 3
   },
   "file_extension": ".py",
   "mimetype": "text/x-python",
   "name": "python",
   "nbconvert_exporter": "python",
   "pygments_lexer": "ipython3",
   "version": "3.9.5"
  },
  "papermill": {
   "default_parameters": {},
   "duration": 6.818222,
   "end_time": "2021-09-02T05:30:11.272511",
   "environment_variables": {},
   "exception": null,
   "input_path": "eBay_Overview.ipynb",
   "output_path": "eBay_Overview.ipynb",
   "parameters": {},
   "start_time": "2021-09-02T05:30:04.454289",
   "version": "2.3.3"
  }
 },
 "nbformat": 4,
 "nbformat_minor": 5
}