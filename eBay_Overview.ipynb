{
 "cells": [
  {
   "cell_type": "code",
   "execution_count": 1,
   "id": "reverse-picking",
   "metadata": {
    "execution": {
     "iopub.execute_input": "2021-11-06T13:30:07.542335Z",
     "iopub.status.busy": "2021-11-06T13:30:07.539988Z",
     "iopub.status.idle": "2021-11-06T13:30:08.502122Z",
     "shell.execute_reply": "2021-11-06T13:30:08.503507Z"
    },
    "papermill": {
     "duration": 1.012269,
     "end_time": "2021-11-06T13:30:08.504179",
     "exception": false,
     "start_time": "2021-11-06T13:30:07.491910",
     "status": "completed"
    },
    "tags": []
   },
   "outputs": [],
   "source": [
    "import pandas as pd\n",
    "import sqlite3"
   ]
  },
  {
   "cell_type": "code",
   "execution_count": 2,
   "id": "innovative-syndrome",
   "metadata": {
    "execution": {
     "iopub.execute_input": "2021-11-06T13:30:08.620762Z",
     "iopub.status.busy": "2021-11-06T13:30:08.618727Z",
     "iopub.status.idle": "2021-11-06T13:30:09.357689Z",
     "shell.execute_reply": "2021-11-06T13:30:09.359282Z"
    },
    "papermill": {
     "duration": 0.773311,
     "end_time": "2021-11-06T13:30:09.359814",
     "exception": false,
     "start_time": "2021-11-06T13:30:08.586503",
     "status": "completed"
    },
    "tags": []
   },
   "outputs": [],
   "source": [
    "timestamps = pd.read_sql(\"select distinct record_time from EBAY_TOP_BERLIN order by record_time desc limit 2\", sqlite3.connect(\"UsedObjects.db\"))"
   ]
  },
  {
   "cell_type": "code",
   "execution_count": 3,
   "id": "periodic-identification",
   "metadata": {
    "execution": {
     "iopub.execute_input": "2021-11-06T13:30:09.432064Z",
     "iopub.status.busy": "2021-11-06T13:30:09.429630Z",
     "iopub.status.idle": "2021-11-06T13:30:09.451828Z",
     "shell.execute_reply": "2021-11-06T13:30:09.453345Z"
    },
    "papermill": {
     "duration": 0.073392,
     "end_time": "2021-11-06T13:30:09.453838",
     "exception": false,
     "start_time": "2021-11-06T13:30:09.380446",
     "status": "completed"
    },
    "tags": []
   },
   "outputs": [
    {
     "data": {
      "text/html": [
       "<div>\n",
       "<style scoped>\n",
       "    .dataframe tbody tr th:only-of-type {\n",
       "        vertical-align: middle;\n",
       "    }\n",
       "\n",
       "    .dataframe tbody tr th {\n",
       "        vertical-align: top;\n",
       "    }\n",
       "\n",
       "    .dataframe thead th {\n",
       "        text-align: right;\n",
       "    }\n",
       "</style>\n",
       "<table border=\"1\" class=\"dataframe\">\n",
       "  <thead>\n",
       "    <tr style=\"text-align: right;\">\n",
       "      <th></th>\n",
       "      <th>RECORD_TIME</th>\n",
       "    </tr>\n",
       "  </thead>\n",
       "  <tbody>\n",
       "    <tr>\n",
       "      <th>0</th>\n",
       "      <td>2021-11-06 14:30</td>\n",
       "    </tr>\n",
       "    <tr>\n",
       "      <th>1</th>\n",
       "      <td>2021-11-06 14:00</td>\n",
       "    </tr>\n",
       "  </tbody>\n",
       "</table>\n",
       "</div>"
      ],
      "text/plain": [
       "        RECORD_TIME\n",
       "0  2021-11-06 14:30\n",
       "1  2021-11-06 14:00"
      ]
     },
     "execution_count": 3,
     "metadata": {},
     "output_type": "execute_result"
    }
   ],
   "source": [
    "timestamps"
   ]
  },
  {
   "cell_type": "code",
   "execution_count": 4,
   "id": "alternate-victory",
   "metadata": {
    "execution": {
     "iopub.execute_input": "2021-11-06T13:30:09.507620Z",
     "iopub.status.busy": "2021-11-06T13:30:09.505469Z",
     "iopub.status.idle": "2021-11-06T13:30:10.626784Z",
     "shell.execute_reply": "2021-11-06T13:30:10.628497Z"
    },
    "papermill": {
     "duration": 1.154591,
     "end_time": "2021-11-06T13:30:10.629060",
     "exception": false,
     "start_time": "2021-11-06T13:30:09.474469",
     "status": "completed"
    },
    "tags": []
   },
   "outputs": [],
   "source": [
    "df = pd.read_sql(\"select * from EBAY_TOP_BERLIN where record_time in (select distinct record_time from EBAY_TOP_BERLIN order by record_time desc limit 2)\", sqlite3.connect(\"UsedObjects.db\"))"
   ]
  },
  {
   "cell_type": "code",
   "execution_count": 5,
   "id": "popular-active",
   "metadata": {
    "execution": {
     "iopub.execute_input": "2021-11-06T13:30:10.704207Z",
     "iopub.status.busy": "2021-11-06T13:30:10.695389Z",
     "iopub.status.idle": "2021-11-06T13:30:10.729543Z",
     "shell.execute_reply": "2021-11-06T13:30:10.731129Z"
    },
    "papermill": {
     "duration": 0.080503,
     "end_time": "2021-11-06T13:30:10.731626",
     "exception": false,
     "start_time": "2021-11-06T13:30:10.651123",
     "status": "completed"
    },
    "tags": []
   },
   "outputs": [],
   "source": [
    "df_pivot = df.pivot_table(index=\"PRODUCT\", columns = \"RECORD_TIME\", values = \"LISTING_COUNT\")"
   ]
  },
  {
   "cell_type": "code",
   "execution_count": 6,
   "id": "union-huntington",
   "metadata": {
    "execution": {
     "iopub.execute_input": "2021-11-06T13:30:10.795988Z",
     "iopub.status.busy": "2021-11-06T13:30:10.793546Z",
     "iopub.status.idle": "2021-11-06T13:30:10.798581Z",
     "shell.execute_reply": "2021-11-06T13:30:10.800217Z"
    },
    "papermill": {
     "duration": 0.047355,
     "end_time": "2021-11-06T13:30:10.800760",
     "exception": false,
     "start_time": "2021-11-06T13:30:10.753405",
     "status": "completed"
    },
    "tags": []
   },
   "outputs": [],
   "source": [
    "df_pivot.columns = [\"stamp_1\", \"stamp_2\"]\n",
    "df_pivot_diff = df_pivot.diff(axis=1)"
   ]
  },
  {
   "cell_type": "code",
   "execution_count": 7,
   "id": "fifth-motion",
   "metadata": {
    "execution": {
     "iopub.execute_input": "2021-11-06T13:30:10.860967Z",
     "iopub.status.busy": "2021-11-06T13:30:10.858298Z",
     "iopub.status.idle": "2021-11-06T13:30:12.724812Z",
     "shell.execute_reply": "2021-11-06T13:30:12.726292Z"
    },
    "papermill": {
     "duration": 1.905198,
     "end_time": "2021-11-06T13:30:12.726788",
     "exception": false,
     "start_time": "2021-11-06T13:30:10.821590",
     "status": "completed"
    },
    "tags": []
   },
   "outputs": [
    {
     "data": {
      "text/plain": [
       "<AxesSubplot:ylabel='PRODUCT'>"
      ]
     },
     "execution_count": 7,
     "metadata": {},
     "output_type": "execute_result"
    },
    {
     "data": {
      "image/png": "[encoded data removed]",
      "text/plain": [
       "<Figure size 432x288 with 1 Axes>"
      ]
     },
     "metadata": {
      "needs_background": "light"
     },
     "output_type": "display_data"
    }
   ],
   "source": [
    "df_pivot_diff.sort_values(\"stamp_2\", ascending = False)[\"stamp_2\"].head(10).plot.barh()"
   ]
  },
  {
   "cell_type": "code",
   "execution_count": null,
   "id": "extra-executive",
   "metadata": {
    "papermill": {
     "duration": 0.023619,
     "end_time": "2021-11-06T13:30:12.778662",
     "exception": false,
     "start_time": "2021-11-06T13:30:12.755043",
     "status": "completed"
    },
    "tags": []
   },
   "outputs": [],
   "source": []
  }
 ],
 "metadata": {
  "kernelspec": {
   "display_name": "Python 3",
   "language": "python",
   "name": "python3"
  },
  "language_info": {
   "codemirror_mode": {
    "name": "ipython",
    "version": 3
   },
   "file_extension": ".py",
   "mimetype": "text/x-python",
   "name": "python",
   "nbconvert_exporter": "python",
   "pygments_lexer": "ipython3",
   "version": "3.9.5"
  },
  "papermill": {
   "default_parameters": {},
   "duration": 10.004324,
   "end_time": "2021-11-06T13:30:14.676182",
   "environment_variables": {},
   "exception": null,
   "input_path": "eBay_Overview.ipynb",
   "output_path": "eBay_Overview.ipynb",
   "parameters": {},
   "start_time": "2021-11-06T13:30:04.671858",
   "version": "2.3.3"
  }
 },
 "nbformat": 4,
 "nbformat_minor": 5
}