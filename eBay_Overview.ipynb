{
 "cells": [
  {
   "cell_type": "code",
   "execution_count": 1,
   "id": "reverse-picking",
   "metadata": {
    "execution": {
     "iopub.execute_input": "2021-11-11T04:30:07.380043Z",
     "iopub.status.busy": "2021-11-11T04:30:07.376753Z",
     "iopub.status.idle": "2021-11-11T04:30:08.342542Z",
     "shell.execute_reply": "2021-11-11T04:30:08.344101Z"
    },
    "papermill": {
     "duration": 1.013256,
     "end_time": "2021-11-11T04:30:08.344967",
     "exception": false,
     "start_time": "2021-11-11T04:30:07.331711",
     "status": "completed"
    },
    "tags": []
   },
   "outputs": [],
   "source": [
    "import pandas as pd\n",
    "import sqlite3"
   ]
  },
  {
   "cell_type": "code",
   "execution_count": 2,
   "id": "innovative-syndrome",
   "metadata": {
    "execution": {
     "iopub.execute_input": "2021-11-11T04:30:08.408494Z",
     "iopub.status.busy": "2021-11-11T04:30:08.406279Z",
     "iopub.status.idle": "2021-11-11T04:30:09.194712Z",
     "shell.execute_reply": "2021-11-11T04:30:09.196182Z"
    },
    "papermill": {
     "duration": 0.822096,
     "end_time": "2021-11-11T04:30:09.196643",
     "exception": false,
     "start_time": "2021-11-11T04:30:08.374547",
     "status": "completed"
    },
    "tags": []
   },
   "outputs": [],
   "source": [
    "timestamps = pd.read_sql(\"select distinct record_time from EBAY_TOP_BERLIN order by record_time desc limit 2\", sqlite3.connect(\"UsedObjects.db\"))"
   ]
  },
  {
   "cell_type": "code",
   "execution_count": 3,
   "id": "periodic-identification",
   "metadata": {
    "execution": {
     "iopub.execute_input": "2021-11-11T04:30:09.266204Z",
     "iopub.status.busy": "2021-11-11T04:30:09.263746Z",
     "iopub.status.idle": "2021-11-11T04:30:09.286995Z",
     "shell.execute_reply": "2021-11-11T04:30:09.288511Z"
    },
    "papermill": {
     "duration": 0.073088,
     "end_time": "2021-11-11T04:30:09.289066",
     "exception": false,
     "start_time": "2021-11-11T04:30:09.215978",
     "status": "completed"
    },
    "tags": []
   },
   "outputs": [
    {
     "data": {
      "text/html": [
       "<div>\n",
       "<style scoped>\n",
       "    .dataframe tbody tr th:only-of-type {\n",
       "        vertical-align: middle;\n",
       "    }\n",
       "\n",
       "    .dataframe tbody tr th {\n",
       "        vertical-align: top;\n",
       "    }\n",
       "\n",
       "    .dataframe thead th {\n",
       "        text-align: right;\n",
       "    }\n",
       "</style>\n",
       "<table border=\"1\" class=\"dataframe\">\n",
       "  <thead>\n",
       "    <tr style=\"text-align: right;\">\n",
       "      <th></th>\n",
       "      <th>RECORD_TIME</th>\n",
       "    </tr>\n",
       "  </thead>\n",
       "  <tbody>\n",
       "    <tr>\n",
       "      <th>0</th>\n",
       "      <td>2021-11-11 05:30</td>\n",
       "    </tr>\n",
       "    <tr>\n",
       "      <th>1</th>\n",
       "      <td>2021-11-11 05:00</td>\n",
       "    </tr>\n",
       "  </tbody>\n",
       "</table>\n",
       "</div>"
      ],
      "text/plain": [
       "        RECORD_TIME\n",
       "0  2021-11-11 05:30\n",
       "1  2021-11-11 05:00"
      ]
     },
     "execution_count": 3,
     "metadata": {},
     "output_type": "execute_result"
    }
   ],
   "source": [
    "timestamps"
   ]
  },
  {
   "cell_type": "code",
   "execution_count": 4,
   "id": "alternate-victory",
   "metadata": {
    "execution": {
     "iopub.execute_input": "2021-11-11T04:30:09.344916Z",
     "iopub.status.busy": "2021-11-11T04:30:09.342693Z",
     "iopub.status.idle": "2021-11-11T04:30:10.476115Z",
     "shell.execute_reply": "2021-11-11T04:30:10.473503Z"
    },
    "papermill": {
     "duration": 1.166541,
     "end_time": "2021-11-11T04:30:10.476966",
     "exception": false,
     "start_time": "2021-11-11T04:30:09.310425",
     "status": "completed"
    },
    "tags": []
   },
   "outputs": [],
   "source": [
    "df = pd.read_sql(\"select * from EBAY_TOP_BERLIN where record_time in (select distinct record_time from EBAY_TOP_BERLIN order by record_time desc limit 2)\", sqlite3.connect(\"UsedObjects.db\"))"
   ]
  },
  {
   "cell_type": "code",
   "execution_count": 5,
   "id": "popular-active",
   "metadata": {
    "execution": {
     "iopub.execute_input": "2021-11-11T04:30:10.556066Z",
     "iopub.status.busy": "2021-11-11T04:30:10.542399Z",
     "iopub.status.idle": "2021-11-11T04:30:10.578265Z",
     "shell.execute_reply": "2021-11-11T04:30:10.579793Z"
    },
    "papermill": {
     "duration": 0.080383,
     "end_time": "2021-11-11T04:30:10.580345",
     "exception": false,
     "start_time": "2021-11-11T04:30:10.499962",
     "status": "completed"
    },
    "tags": []
   },
   "outputs": [],
   "source": [
    "df_pivot = df.pivot_table(index=\"PRODUCT\", columns = \"RECORD_TIME\", values = \"LISTING_COUNT\")"
   ]
  },
  {
   "cell_type": "code",
   "execution_count": 6,
   "id": "union-huntington",
   "metadata": {
    "execution": {
     "iopub.execute_input": "2021-11-11T04:30:10.640433Z",
     "iopub.status.busy": "2021-11-11T04:30:10.638004Z",
     "iopub.status.idle": "2021-11-11T04:30:10.643311Z",
     "shell.execute_reply": "2021-11-11T04:30:10.644821Z"
    },
    "papermill": {
     "duration": 0.043765,
     "end_time": "2021-11-11T04:30:10.645297",
     "exception": false,
     "start_time": "2021-11-11T04:30:10.601532",
     "status": "completed"
    },
    "tags": []
   },
   "outputs": [],
   "source": [
    "df_pivot.columns = [\"stamp_1\", \"stamp_2\"]\n",
    "df_pivot_diff = df_pivot.diff(axis=1)"
   ]
  },
  {
   "cell_type": "code",
   "execution_count": 7,
   "id": "fifth-motion",
   "metadata": {
    "execution": {
     "iopub.execute_input": "2021-11-11T04:30:10.703221Z",
     "iopub.status.busy": "2021-11-11T04:30:10.700541Z",
     "iopub.status.idle": "2021-11-11T04:30:12.509178Z",
     "shell.execute_reply": "2021-11-11T04:30:12.512248Z"
    },
    "papermill": {
     "duration": 1.847642,
     "end_time": "2021-11-11T04:30:12.513246",
     "exception": false,
     "start_time": "2021-11-11T04:30:10.665604",
     "status": "completed"
    },
    "tags": []
   },
   "outputs": [
    {
     "data": {
      "text/plain": [
       "<AxesSubplot:ylabel='PRODUCT'>"
      ]
     },
     "execution_count": 7,
     "metadata": {},
     "output_type": "execute_result"
    },
    {
     "data": {
      "image/png": "[encoded data removed]",
      "text/plain": [
       "<Figure size 432x288 with 1 Axes>"
      ]
     },
     "metadata": {
      "needs_background": "light"
     },
     "output_type": "display_data"
    }
   ],
   "source": [
    "df_pivot_diff.sort_values(\"stamp_2\", ascending = False)[\"stamp_2\"].head(10).plot.barh()"
   ]
  },
  {
   "cell_type": "code",
   "execution_count": null,
   "id": "extra-executive",
   "metadata": {
    "papermill": {
     "duration": 0.036212,
     "end_time": "2021-11-11T04:30:12.591012",
     "exception": false,
     "start_time": "2021-11-11T04:30:12.554800",
     "status": "completed"
    },
    "tags": []
   },
   "outputs": [],
   "source": []
  }
 ],
 "metadata": {
  "kernelspec": {
   "display_name": "Python 3",
   "language": "python",
   "name": "python3"
  },
  "language_info": {
   "codemirror_mode": {
    "name": "ipython",
    "version": 3
   },
   "file_extension": ".py",
   "mimetype": "text/x-python",
   "name": "python",
   "nbconvert_exporter": "python",
   "pygments_lexer": "ipython3",
   "version": "3.9.5"
  },
  "papermill": {
   "default_parameters": {},
   "duration": 8.856492,
   "end_time": "2021-11-11T04:30:13.462003",
   "environment_variables": {},
   "exception": null,
   "input_path": "eBay_Overview.ipynb",
   "output_path": "eBay_Overview.ipynb",
   "parameters": {},
   "start_time": "2021-11-11T04:30:04.605511",
   "version": "2.3.3"
  }
 },
 "nbformat": 4,
 "nbformat_minor": 5
}