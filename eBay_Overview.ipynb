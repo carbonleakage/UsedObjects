{
 "cells": [
  {
   "cell_type": "code",
   "execution_count": 1,
   "id": "reverse-picking",
   "metadata": {
    "execution": {
     "iopub.execute_input": "2021-10-05T20:30:07.281042Z",
     "iopub.status.busy": "2021-10-05T20:30:07.279029Z",
     "iopub.status.idle": "2021-10-05T20:30:08.084943Z",
     "shell.execute_reply": "2021-10-05T20:30:08.086166Z"
    },
    "papermill": {
     "duration": 0.856988,
     "end_time": "2021-10-05T20:30:08.086945",
     "exception": false,
     "start_time": "2021-10-05T20:30:07.229957",
     "status": "completed"
    },
    "tags": []
   },
   "outputs": [],
   "source": [
    "import pandas as pd\n",
    "import sqlite3"
   ]
  },
  {
   "cell_type": "code",
   "execution_count": 2,
   "id": "innovative-syndrome",
   "metadata": {
    "execution": {
     "iopub.execute_input": "2021-10-05T20:30:08.139996Z",
     "iopub.status.busy": "2021-10-05T20:30:08.137614Z",
     "iopub.status.idle": "2021-10-05T20:30:08.600132Z",
     "shell.execute_reply": "2021-10-05T20:30:08.601314Z"
    },
    "papermill": {
     "duration": 0.492453,
     "end_time": "2021-10-05T20:30:08.601706",
     "exception": false,
     "start_time": "2021-10-05T20:30:08.109253",
     "status": "completed"
    },
    "tags": []
   },
   "outputs": [],
   "source": [
    "timestamps = pd.read_sql(\"select distinct record_time from EBAY_TOP_BERLIN order by record_time desc limit 2\", sqlite3.connect(\"UsedObjects.db\"))"
   ]
  },
  {
   "cell_type": "code",
   "execution_count": 3,
   "id": "periodic-identification",
   "metadata": {
    "execution": {
     "iopub.execute_input": "2021-10-05T20:30:08.670276Z",
     "iopub.status.busy": "2021-10-05T20:30:08.668261Z",
     "iopub.status.idle": "2021-10-05T20:30:08.690364Z",
     "shell.execute_reply": "2021-10-05T20:30:08.691732Z"
    },
    "papermill": {
     "duration": 0.068001,
     "end_time": "2021-10-05T20:30:08.692194",
     "exception": false,
     "start_time": "2021-10-05T20:30:08.624193",
     "status": "completed"
    },
    "tags": []
   },
   "outputs": [
    {
     "data": {
      "text/html": [
       "<div>\n",
       "<style scoped>\n",
       "    .dataframe tbody tr th:only-of-type {\n",
       "        vertical-align: middle;\n",
       "    }\n",
       "\n",
       "    .dataframe tbody tr th {\n",
       "        vertical-align: top;\n",
       "    }\n",
       "\n",
       "    .dataframe thead th {\n",
       "        text-align: right;\n",
       "    }\n",
       "</style>\n",
       "<table border=\"1\" class=\"dataframe\">\n",
       "  <thead>\n",
       "    <tr style=\"text-align: right;\">\n",
       "      <th></th>\n",
       "      <th>RECORD_TIME</th>\n",
       "    </tr>\n",
       "  </thead>\n",
       "  <tbody>\n",
       "    <tr>\n",
       "      <th>0</th>\n",
       "      <td>2021-10-05 22:30</td>\n",
       "    </tr>\n",
       "    <tr>\n",
       "      <th>1</th>\n",
       "      <td>2021-10-05 22:00</td>\n",
       "    </tr>\n",
       "  </tbody>\n",
       "</table>\n",
       "</div>"
      ],
      "text/plain": [
       "        RECORD_TIME\n",
       "0  2021-10-05 22:30\n",
       "1  2021-10-05 22:00"
      ]
     },
     "execution_count": 3,
     "metadata": {},
     "output_type": "execute_result"
    }
   ],
   "source": [
    "timestamps"
   ]
  },
  {
   "cell_type": "code",
   "execution_count": 4,
   "id": "alternate-victory",
   "metadata": {
    "execution": {
     "iopub.execute_input": "2021-10-05T20:30:08.754817Z",
     "iopub.status.busy": "2021-10-05T20:30:08.752657Z",
     "iopub.status.idle": "2021-10-05T20:30:09.418163Z",
     "shell.execute_reply": "2021-10-05T20:30:09.419575Z"
    },
    "papermill": {
     "duration": 0.699986,
     "end_time": "2021-10-05T20:30:09.419988",
     "exception": false,
     "start_time": "2021-10-05T20:30:08.720002",
     "status": "completed"
    },
    "tags": []
   },
   "outputs": [],
   "source": [
    "df = pd.read_sql(\"select * from EBAY_TOP_BERLIN where record_time in (select distinct record_time from EBAY_TOP_BERLIN order by record_time desc limit 2)\", sqlite3.connect(\"UsedObjects.db\"))"
   ]
  },
  {
   "cell_type": "code",
   "execution_count": 5,
   "id": "popular-active",
   "metadata": {
    "execution": {
     "iopub.execute_input": "2021-10-05T20:30:09.492130Z",
     "iopub.status.busy": "2021-10-05T20:30:09.480357Z",
     "iopub.status.idle": "2021-10-05T20:30:09.507843Z",
     "shell.execute_reply": "2021-10-05T20:30:09.509055Z"
    },
    "papermill": {
     "duration": 0.067579,
     "end_time": "2021-10-05T20:30:09.509451",
     "exception": false,
     "start_time": "2021-10-05T20:30:09.441872",
     "status": "completed"
    },
    "tags": []
   },
   "outputs": [],
   "source": [
    "df_pivot = df.pivot_table(index=\"PRODUCT\", columns = \"RECORD_TIME\", values = \"LISTING_COUNT\")"
   ]
  },
  {
   "cell_type": "code",
   "execution_count": 6,
   "id": "union-huntington",
   "metadata": {
    "execution": {
     "iopub.execute_input": "2021-10-05T20:30:09.568977Z",
     "iopub.status.busy": "2021-10-05T20:30:09.566497Z",
     "iopub.status.idle": "2021-10-05T20:30:09.572502Z",
     "shell.execute_reply": "2021-10-05T20:30:09.573846Z"
    },
    "papermill": {
     "duration": 0.042433,
     "end_time": "2021-10-05T20:30:09.574276",
     "exception": false,
     "start_time": "2021-10-05T20:30:09.531843",
     "status": "completed"
    },
    "tags": []
   },
   "outputs": [],
   "source": [
    "df_pivot.columns = [\"stamp_1\", \"stamp_2\"]\n",
    "df_pivot_diff = df_pivot.diff(axis=1)"
   ]
  },
  {
   "cell_type": "code",
   "execution_count": 7,
   "id": "fifth-motion",
   "metadata": {
    "execution": {
     "iopub.execute_input": "2021-10-05T20:30:09.629001Z",
     "iopub.status.busy": "2021-10-05T20:30:09.626589Z",
     "iopub.status.idle": "2021-10-05T20:30:11.102239Z",
     "shell.execute_reply": "2021-10-05T20:30:11.103481Z"
    },
    "papermill": {
     "duration": 1.508382,
     "end_time": "2021-10-05T20:30:11.103915",
     "exception": false,
     "start_time": "2021-10-05T20:30:09.595533",
     "status": "completed"
    },
    "tags": []
   },
   "outputs": [
    {
     "data": {
      "text/plain": [
       "<AxesSubplot:ylabel='PRODUCT'>"
      ]
     },
     "execution_count": 7,
     "metadata": {},
     "output_type": "execute_result"
    },
    {
     "data": {
      "image/png": "[encoded data removed]",
      "text/plain": [
       "<Figure size 432x288 with 1 Axes>"
      ]
     },
     "metadata": {
      "needs_background": "light"
     },
     "output_type": "display_data"
    }
   ],
   "source": [
    "df_pivot_diff.sort_values(\"stamp_2\", ascending = False)[\"stamp_2\"].head(10).plot.barh()"
   ]
  },
  {
   "cell_type": "code",
   "execution_count": null,
   "id": "extra-executive",
   "metadata": {
    "papermill": {
     "duration": 0.022263,
     "end_time": "2021-10-05T20:30:11.150124",
     "exception": false,
     "start_time": "2021-10-05T20:30:11.127861",
     "status": "completed"
    },
    "tags": []
   },
   "outputs": [],
   "source": []
  }
 ],
 "metadata": {
  "kernelspec": {
   "display_name": "Python 3",
   "language": "python",
   "name": "python3"
  },
  "language_info": {
   "codemirror_mode": {
    "name": "ipython",
    "version": 3
   },
   "file_extension": ".py",
   "mimetype": "text/x-python",
   "name": "python",
   "nbconvert_exporter": "python",
   "pygments_lexer": "ipython3",
   "version": "3.9.5"
  },
  "papermill": {
   "default_parameters": {},
   "duration": 7.824804,
   "end_time": "2021-10-05T20:30:12.647348",
   "environment_variables": {},
   "exception": null,
   "input_path": "eBay_Overview.ipynb",
   "output_path": "eBay_Overview.ipynb",
   "parameters": {},
   "start_time": "2021-10-05T20:30:04.822544",
   "version": "2.3.3"
  }
 },
 "nbformat": 4,
 "nbformat_minor": 5
}