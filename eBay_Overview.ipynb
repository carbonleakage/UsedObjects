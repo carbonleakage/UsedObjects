{
 "cells": [
  {
   "cell_type": "code",
   "execution_count": 1,
   "id": "reverse-picking",
   "metadata": {
    "execution": {
     "iopub.execute_input": "2021-09-07T22:30:07.041117Z",
     "iopub.status.busy": "2021-09-07T22:30:07.039162Z",
     "iopub.status.idle": "2021-09-07T22:30:07.855590Z",
     "shell.execute_reply": "2021-09-07T22:30:07.853860Z"
    },
    "papermill": {
     "duration": 0.868938,
     "end_time": "2021-09-07T22:30:07.856019",
     "exception": false,
     "start_time": "2021-09-07T22:30:06.987081",
     "status": "completed"
    },
    "tags": []
   },
   "outputs": [],
   "source": [
    "import pandas as pd\n",
    "import sqlite3"
   ]
  },
  {
   "cell_type": "code",
   "execution_count": 2,
   "id": "innovative-syndrome",
   "metadata": {
    "execution": {
     "iopub.execute_input": "2021-09-07T22:30:07.907536Z",
     "iopub.status.busy": "2021-09-07T22:30:07.905368Z",
     "iopub.status.idle": "2021-09-07T22:30:08.130410Z",
     "shell.execute_reply": "2021-09-07T22:30:08.131602Z"
    },
    "papermill": {
     "duration": 0.255617,
     "end_time": "2021-09-07T22:30:08.132013",
     "exception": false,
     "start_time": "2021-09-07T22:30:07.876396",
     "status": "completed"
    },
    "tags": []
   },
   "outputs": [],
   "source": [
    "timestamps = pd.read_sql(\"select distinct record_time from EBAY_TOP_BERLIN order by record_time desc limit 2\", sqlite3.connect(\"UsedObjects.db\"))"
   ]
  },
  {
   "cell_type": "code",
   "execution_count": 3,
   "id": "periodic-identification",
   "metadata": {
    "execution": {
     "iopub.execute_input": "2021-09-07T22:30:08.198534Z",
     "iopub.status.busy": "2021-09-07T22:30:08.196479Z",
     "iopub.status.idle": "2021-09-07T22:30:08.216827Z",
     "shell.execute_reply": "2021-09-07T22:30:08.218127Z"
    },
    "papermill": {
     "duration": 0.064987,
     "end_time": "2021-09-07T22:30:08.218540",
     "exception": false,
     "start_time": "2021-09-07T22:30:08.153553",
     "status": "completed"
    },
    "tags": []
   },
   "outputs": [
    {
     "data": {
      "text/html": [
       "<div>\n",
       "<style scoped>\n",
       "    .dataframe tbody tr th:only-of-type {\n",
       "        vertical-align: middle;\n",
       "    }\n",
       "\n",
       "    .dataframe tbody tr th {\n",
       "        vertical-align: top;\n",
       "    }\n",
       "\n",
       "    .dataframe thead th {\n",
       "        text-align: right;\n",
       "    }\n",
       "</style>\n",
       "<table border=\"1\" class=\"dataframe\">\n",
       "  <thead>\n",
       "    <tr style=\"text-align: right;\">\n",
       "      <th></th>\n",
       "      <th>RECORD_TIME</th>\n",
       "    </tr>\n",
       "  </thead>\n",
       "  <tbody>\n",
       "    <tr>\n",
       "      <th>0</th>\n",
       "      <td>2021-09-08 00:30</td>\n",
       "    </tr>\n",
       "    <tr>\n",
       "      <th>1</th>\n",
       "      <td>2021-09-08 00:00</td>\n",
       "    </tr>\n",
       "  </tbody>\n",
       "</table>\n",
       "</div>"
      ],
      "text/plain": [
       "        RECORD_TIME\n",
       "0  2021-09-08 00:30\n",
       "1  2021-09-08 00:00"
      ]
     },
     "execution_count": 3,
     "metadata": {},
     "output_type": "execute_result"
    }
   ],
   "source": [
    "timestamps"
   ]
  },
  {
   "cell_type": "code",
   "execution_count": 4,
   "id": "alternate-victory",
   "metadata": {
    "execution": {
     "iopub.execute_input": "2021-09-07T22:30:08.272586Z",
     "iopub.status.busy": "2021-09-07T22:30:08.270196Z",
     "iopub.status.idle": "2021-09-07T22:30:08.610811Z",
     "shell.execute_reply": "2021-09-07T22:30:08.612033Z"
    },
    "papermill": {
     "duration": 0.371208,
     "end_time": "2021-09-07T22:30:08.612443",
     "exception": false,
     "start_time": "2021-09-07T22:30:08.241235",
     "status": "completed"
    },
    "tags": []
   },
   "outputs": [],
   "source": [
    "df = pd.read_sql(\"select * from EBAY_TOP_BERLIN where record_time in (select distinct record_time from EBAY_TOP_BERLIN order by record_time desc limit 2)\", sqlite3.connect(\"UsedObjects.db\"))"
   ]
  },
  {
   "cell_type": "code",
   "execution_count": 5,
   "id": "popular-active",
   "metadata": {
    "execution": {
     "iopub.execute_input": "2021-09-07T22:30:08.705463Z",
     "iopub.status.busy": "2021-09-07T22:30:08.703081Z",
     "iopub.status.idle": "2021-09-07T22:30:08.730711Z",
     "shell.execute_reply": "2021-09-07T22:30:08.732103Z"
    },
    "papermill": {
     "duration": 0.076504,
     "end_time": "2021-09-07T22:30:08.732522",
     "exception": false,
     "start_time": "2021-09-07T22:30:08.656018",
     "status": "completed"
    },
    "tags": []
   },
   "outputs": [],
   "source": [
    "df_pivot = df.pivot_table(index=\"PRODUCT\", columns = \"RECORD_TIME\", values = \"LISTING_COUNT\")"
   ]
  },
  {
   "cell_type": "code",
   "execution_count": 6,
   "id": "union-huntington",
   "metadata": {
    "execution": {
     "iopub.execute_input": "2021-09-07T22:30:08.787866Z",
     "iopub.status.busy": "2021-09-07T22:30:08.785844Z",
     "iopub.status.idle": "2021-09-07T22:30:08.791012Z",
     "shell.execute_reply": "2021-09-07T22:30:08.792167Z"
    },
    "papermill": {
     "duration": 0.039847,
     "end_time": "2021-09-07T22:30:08.792569",
     "exception": false,
     "start_time": "2021-09-07T22:30:08.752722",
     "status": "completed"
    },
    "tags": []
   },
   "outputs": [],
   "source": [
    "df_pivot.columns = [\"stamp_1\", \"stamp_2\"]\n",
    "df_pivot_diff = df_pivot.diff(axis=1)"
   ]
  },
  {
   "cell_type": "code",
   "execution_count": 7,
   "id": "fifth-motion",
   "metadata": {
    "execution": {
     "iopub.execute_input": "2021-09-07T22:30:08.846459Z",
     "iopub.status.busy": "2021-09-07T22:30:08.844051Z",
     "iopub.status.idle": "2021-09-07T22:30:10.367936Z",
     "shell.execute_reply": "2021-09-07T22:30:10.369235Z"
    },
    "papermill": {
     "duration": 1.556756,
     "end_time": "2021-09-07T22:30:10.369646",
     "exception": false,
     "start_time": "2021-09-07T22:30:08.812890",
     "status": "completed"
    },
    "tags": []
   },
   "outputs": [
    {
     "data": {
      "text/plain": [
       "<AxesSubplot:ylabel='PRODUCT'>"
      ]
     },
     "execution_count": 7,
     "metadata": {},
     "output_type": "execute_result"
    },
    {
     "data": {
      "image/png": "[encoded data removed]",
      "text/plain": [
       "<Figure size 432x288 with 1 Axes>"
      ]
     },
     "metadata": {
      "needs_background": "light"
     },
     "output_type": "display_data"
    }
   ],
   "source": [
    "df_pivot_diff.sort_values(\"stamp_2\", ascending = False)[\"stamp_2\"].head(10).plot.barh()"
   ]
  },
  {
   "cell_type": "code",
   "execution_count": null,
   "id": "extra-executive",
   "metadata": {
    "papermill": {
     "duration": 0.022265,
     "end_time": "2021-09-07T22:30:10.416311",
     "exception": false,
     "start_time": "2021-09-07T22:30:10.394046",
     "status": "completed"
    },
    "tags": []
   },
   "outputs": [],
   "source": []
  }
 ],
 "metadata": {
  "kernelspec": {
   "display_name": "Python 3",
   "language": "python",
   "name": "python3"
  },
  "language_info": {
   "codemirror_mode": {
    "name": "ipython",
    "version": 3
   },
   "file_extension": ".py",
   "mimetype": "text/x-python",
   "name": "python",
   "nbconvert_exporter": "python",
   "pygments_lexer": "ipython3",
   "version": "3.9.5"
  },
  "papermill": {
   "default_parameters": {},
   "duration": 6.492137,
   "end_time": "2021-09-07T22:30:11.057611",
   "environment_variables": {},
   "exception": null,
   "input_path": "eBay_Overview.ipynb",
   "output_path": "eBay_Overview.ipynb",
   "parameters": {},
   "start_time": "2021-09-07T22:30:04.565474",
   "version": "2.3.3"
  }
 },
 "nbformat": 4,
 "nbformat_minor": 5
}