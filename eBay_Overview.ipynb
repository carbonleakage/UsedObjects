{
 "cells": [
  {
   "cell_type": "code",
   "execution_count": 1,
   "id": "reverse-picking",
   "metadata": {
    "execution": {
     "iopub.execute_input": "2021-09-04T07:30:07.203239Z",
     "iopub.status.busy": "2021-09-04T07:30:07.201196Z",
     "iopub.status.idle": "2021-09-04T07:30:08.008152Z",
     "shell.execute_reply": "2021-09-04T07:30:08.009464Z"
    },
    "papermill": {
     "duration": 0.85957,
     "end_time": "2021-09-04T07:30:08.010080",
     "exception": false,
     "start_time": "2021-09-04T07:30:07.150510",
     "status": "completed"
    },
    "tags": []
   },
   "outputs": [],
   "source": [
    "import pandas as pd\n",
    "import sqlite3"
   ]
  },
  {
   "cell_type": "code",
   "execution_count": 2,
   "id": "innovative-syndrome",
   "metadata": {
    "execution": {
     "iopub.execute_input": "2021-09-04T07:30:08.060428Z",
     "iopub.status.busy": "2021-09-04T07:30:08.058282Z",
     "iopub.status.idle": "2021-09-04T07:30:08.263055Z",
     "shell.execute_reply": "2021-09-04T07:30:08.264578Z"
    },
    "papermill": {
     "duration": 0.234681,
     "end_time": "2021-09-04T07:30:08.265035",
     "exception": false,
     "start_time": "2021-09-04T07:30:08.030354",
     "status": "completed"
    },
    "tags": []
   },
   "outputs": [],
   "source": [
    "timestamps = pd.read_sql(\"select distinct record_time from EBAY_TOP_BERLIN order by record_time desc limit 2\", sqlite3.connect(\"UsedObjects.db\"))"
   ]
  },
  {
   "cell_type": "code",
   "execution_count": 3,
   "id": "periodic-identification",
   "metadata": {
    "execution": {
     "iopub.execute_input": "2021-09-04T07:30:08.332257Z",
     "iopub.status.busy": "2021-09-04T07:30:08.330158Z",
     "iopub.status.idle": "2021-09-04T07:30:08.351001Z",
     "shell.execute_reply": "2021-09-04T07:30:08.352229Z"
    },
    "papermill": {
     "duration": 0.06761,
     "end_time": "2021-09-04T07:30:08.352663",
     "exception": false,
     "start_time": "2021-09-04T07:30:08.285053",
     "status": "completed"
    },
    "tags": []
   },
   "outputs": [
    {
     "data": {
      "text/html": [
       "<div>\n",
       "<style scoped>\n",
       "    .dataframe tbody tr th:only-of-type {\n",
       "        vertical-align: middle;\n",
       "    }\n",
       "\n",
       "    .dataframe tbody tr th {\n",
       "        vertical-align: top;\n",
       "    }\n",
       "\n",
       "    .dataframe thead th {\n",
       "        text-align: right;\n",
       "    }\n",
       "</style>\n",
       "<table border=\"1\" class=\"dataframe\">\n",
       "  <thead>\n",
       "    <tr style=\"text-align: right;\">\n",
       "      <th></th>\n",
       "      <th>RECORD_TIME</th>\n",
       "    </tr>\n",
       "  </thead>\n",
       "  <tbody>\n",
       "    <tr>\n",
       "      <th>0</th>\n",
       "      <td>2021-09-04 09:30</td>\n",
       "    </tr>\n",
       "    <tr>\n",
       "      <th>1</th>\n",
       "      <td>2021-09-04 09:00</td>\n",
       "    </tr>\n",
       "  </tbody>\n",
       "</table>\n",
       "</div>"
      ],
      "text/plain": [
       "        RECORD_TIME\n",
       "0  2021-09-04 09:30\n",
       "1  2021-09-04 09:00"
      ]
     },
     "execution_count": 3,
     "metadata": {},
     "output_type": "execute_result"
    }
   ],
   "source": [
    "timestamps"
   ]
  },
  {
   "cell_type": "code",
   "execution_count": 4,
   "id": "alternate-victory",
   "metadata": {
    "execution": {
     "iopub.execute_input": "2021-09-04T07:30:08.406578Z",
     "iopub.status.busy": "2021-09-04T07:30:08.404292Z",
     "iopub.status.idle": "2021-09-04T07:30:08.709353Z",
     "shell.execute_reply": "2021-09-04T07:30:08.710578Z"
    },
    "papermill": {
     "duration": 0.335616,
     "end_time": "2021-09-04T07:30:08.711090",
     "exception": false,
     "start_time": "2021-09-04T07:30:08.375474",
     "status": "completed"
    },
    "tags": []
   },
   "outputs": [],
   "source": [
    "df = pd.read_sql(\"select * from EBAY_TOP_BERLIN where record_time in (select distinct record_time from EBAY_TOP_BERLIN order by record_time desc limit 2)\", sqlite3.connect(\"UsedObjects.db\"))"
   ]
  },
  {
   "cell_type": "code",
   "execution_count": 5,
   "id": "popular-active",
   "metadata": {
    "execution": {
     "iopub.execute_input": "2021-09-04T07:30:08.793162Z",
     "iopub.status.busy": "2021-09-04T07:30:08.781768Z",
     "iopub.status.idle": "2021-09-04T07:30:08.809046Z",
     "shell.execute_reply": "2021-09-04T07:30:08.810354Z"
    },
    "papermill": {
     "duration": 0.072357,
     "end_time": "2021-09-04T07:30:08.810773",
     "exception": false,
     "start_time": "2021-09-04T07:30:08.738416",
     "status": "completed"
    },
    "tags": []
   },
   "outputs": [],
   "source": [
    "df_pivot = df.pivot_table(index=\"PRODUCT\", columns = \"RECORD_TIME\", values = \"LISTING_COUNT\")"
   ]
  },
  {
   "cell_type": "code",
   "execution_count": 6,
   "id": "union-huntington",
   "metadata": {
    "execution": {
     "iopub.execute_input": "2021-09-04T07:30:08.866113Z",
     "iopub.status.busy": "2021-09-04T07:30:08.864058Z",
     "iopub.status.idle": "2021-09-04T07:30:08.869366Z",
     "shell.execute_reply": "2021-09-04T07:30:08.870665Z"
    },
    "papermill": {
     "duration": 0.040148,
     "end_time": "2021-09-04T07:30:08.871147",
     "exception": false,
     "start_time": "2021-09-04T07:30:08.830999",
     "status": "completed"
    },
    "tags": []
   },
   "outputs": [],
   "source": [
    "df_pivot.columns = [\"stamp_1\", \"stamp_2\"]\n",
    "df_pivot_diff = df_pivot.diff(axis=1)"
   ]
  },
  {
   "cell_type": "code",
   "execution_count": 7,
   "id": "fifth-motion",
   "metadata": {
    "execution": {
     "iopub.execute_input": "2021-09-04T07:30:08.926179Z",
     "iopub.status.busy": "2021-09-04T07:30:08.923798Z",
     "iopub.status.idle": "2021-09-04T07:30:10.402213Z",
     "shell.execute_reply": "2021-09-04T07:30:10.403681Z"
    },
    "papermill": {
     "duration": 1.511513,
     "end_time": "2021-09-04T07:30:10.404138",
     "exception": false,
     "start_time": "2021-09-04T07:30:08.892625",
     "status": "completed"
    },
    "tags": []
   },
   "outputs": [
    {
     "data": {
      "text/plain": [
       "<AxesSubplot:ylabel='PRODUCT'>"
      ]
     },
     "execution_count": 7,
     "metadata": {},
     "output_type": "execute_result"
    },
    {
     "data": {
      "image/png": "[encoded data removed]",
      "text/plain": [
       "<Figure size 432x288 with 1 Axes>"
      ]
     },
     "metadata": {
      "needs_background": "light"
     },
     "output_type": "display_data"
    }
   ],
   "source": [
    "df_pivot_diff.sort_values(\"stamp_2\", ascending = False)[\"stamp_2\"].head(10).plot.barh()"
   ]
  },
  {
   "cell_type": "code",
   "execution_count": null,
   "id": "extra-executive",
   "metadata": {
    "papermill": {
     "duration": 0.022418,
     "end_time": "2021-09-04T07:30:10.450537",
     "exception": false,
     "start_time": "2021-09-04T07:30:10.428119",
     "status": "completed"
    },
    "tags": []
   },
   "outputs": [],
   "source": []
  }
 ],
 "metadata": {
  "kernelspec": {
   "display_name": "Python 3",
   "language": "python",
   "name": "python3"
  },
  "language_info": {
   "codemirror_mode": {
    "name": "ipython",
    "version": 3
   },
   "file_extension": ".py",
   "mimetype": "text/x-python",
   "name": "python",
   "nbconvert_exporter": "python",
   "pygments_lexer": "ipython3",
   "version": "3.9.5"
  },
  "papermill": {
   "default_parameters": {},
   "duration": 6.349211,
   "end_time": "2021-09-04T07:30:11.092864",
   "environment_variables": {},
   "exception": null,
   "input_path": "eBay_Overview.ipynb",
   "output_path": "eBay_Overview.ipynb",
   "parameters": {},
   "start_time": "2021-09-04T07:30:04.743653",
   "version": "2.3.3"
  }
 },
 "nbformat": 4,
 "nbformat_minor": 5
}