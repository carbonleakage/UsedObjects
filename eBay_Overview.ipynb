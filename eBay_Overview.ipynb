{
 "cells": [
  {
   "cell_type": "code",
   "execution_count": 1,
   "id": "reverse-picking",
   "metadata": {
    "execution": {
     "iopub.execute_input": "2021-09-25T18:30:07.559162Z",
     "iopub.status.busy": "2021-09-25T18:30:07.557196Z",
     "iopub.status.idle": "2021-09-25T18:30:08.360819Z",
     "shell.execute_reply": "2021-09-25T18:30:08.362201Z"
    },
    "papermill": {
     "duration": 0.855375,
     "end_time": "2021-09-25T18:30:08.362937",
     "exception": false,
     "start_time": "2021-09-25T18:30:07.507562",
     "status": "completed"
    },
    "tags": []
   },
   "outputs": [],
   "source": [
    "import pandas as pd\n",
    "import sqlite3"
   ]
  },
  {
   "cell_type": "code",
   "execution_count": 2,
   "id": "innovative-syndrome",
   "metadata": {
    "execution": {
     "iopub.execute_input": "2021-09-25T18:30:08.413836Z",
     "iopub.status.busy": "2021-09-25T18:30:08.411709Z",
     "iopub.status.idle": "2021-09-25T18:30:08.791090Z",
     "shell.execute_reply": "2021-09-25T18:30:08.789606Z"
    },
    "papermill": {
     "duration": 0.40814,
     "end_time": "2021-09-25T18:30:08.791460",
     "exception": false,
     "start_time": "2021-09-25T18:30:08.383320",
     "status": "completed"
    },
    "tags": []
   },
   "outputs": [],
   "source": [
    "timestamps = pd.read_sql(\"select distinct record_time from EBAY_TOP_BERLIN order by record_time desc limit 2\", sqlite3.connect(\"UsedObjects.db\"))"
   ]
  },
  {
   "cell_type": "code",
   "execution_count": 3,
   "id": "periodic-identification",
   "metadata": {
    "execution": {
     "iopub.execute_input": "2021-09-25T18:30:08.858439Z",
     "iopub.status.busy": "2021-09-25T18:30:08.856452Z",
     "iopub.status.idle": "2021-09-25T18:30:08.876274Z",
     "shell.execute_reply": "2021-09-25T18:30:08.877874Z"
    },
    "papermill": {
     "duration": 0.066118,
     "end_time": "2021-09-25T18:30:08.878368",
     "exception": false,
     "start_time": "2021-09-25T18:30:08.812250",
     "status": "completed"
    },
    "tags": []
   },
   "outputs": [
    {
     "data": {
      "text/html": [
       "<div>\n",
       "<style scoped>\n",
       "    .dataframe tbody tr th:only-of-type {\n",
       "        vertical-align: middle;\n",
       "    }\n",
       "\n",
       "    .dataframe tbody tr th {\n",
       "        vertical-align: top;\n",
       "    }\n",
       "\n",
       "    .dataframe thead th {\n",
       "        text-align: right;\n",
       "    }\n",
       "</style>\n",
       "<table border=\"1\" class=\"dataframe\">\n",
       "  <thead>\n",
       "    <tr style=\"text-align: right;\">\n",
       "      <th></th>\n",
       "      <th>RECORD_TIME</th>\n",
       "    </tr>\n",
       "  </thead>\n",
       "  <tbody>\n",
       "    <tr>\n",
       "      <th>0</th>\n",
       "      <td>2021-09-25 20:30</td>\n",
       "    </tr>\n",
       "    <tr>\n",
       "      <th>1</th>\n",
       "      <td>2021-09-25 20:00</td>\n",
       "    </tr>\n",
       "  </tbody>\n",
       "</table>\n",
       "</div>"
      ],
      "text/plain": [
       "        RECORD_TIME\n",
       "0  2021-09-25 20:30\n",
       "1  2021-09-25 20:00"
      ]
     },
     "execution_count": 3,
     "metadata": {},
     "output_type": "execute_result"
    }
   ],
   "source": [
    "timestamps"
   ]
  },
  {
   "cell_type": "code",
   "execution_count": 4,
   "id": "alternate-victory",
   "metadata": {
    "execution": {
     "iopub.execute_input": "2021-09-25T18:30:08.930965Z",
     "iopub.status.busy": "2021-09-25T18:30:08.928631Z",
     "iopub.status.idle": "2021-09-25T18:30:09.479257Z",
     "shell.execute_reply": "2021-09-25T18:30:09.480482Z"
    },
    "papermill": {
     "duration": 0.581057,
     "end_time": "2021-09-25T18:30:09.480874",
     "exception": false,
     "start_time": "2021-09-25T18:30:08.899817",
     "status": "completed"
    },
    "tags": []
   },
   "outputs": [],
   "source": [
    "df = pd.read_sql(\"select * from EBAY_TOP_BERLIN where record_time in (select distinct record_time from EBAY_TOP_BERLIN order by record_time desc limit 2)\", sqlite3.connect(\"UsedObjects.db\"))"
   ]
  },
  {
   "cell_type": "code",
   "execution_count": 5,
   "id": "popular-active",
   "metadata": {
    "execution": {
     "iopub.execute_input": "2021-09-25T18:30:09.557465Z",
     "iopub.status.busy": "2021-09-25T18:30:09.549842Z",
     "iopub.status.idle": "2021-09-25T18:30:09.577465Z",
     "shell.execute_reply": "2021-09-25T18:30:09.578664Z"
    },
    "papermill": {
     "duration": 0.071177,
     "end_time": "2021-09-25T18:30:09.579253",
     "exception": false,
     "start_time": "2021-09-25T18:30:09.508076",
     "status": "completed"
    },
    "tags": []
   },
   "outputs": [],
   "source": [
    "df_pivot = df.pivot_table(index=\"PRODUCT\", columns = \"RECORD_TIME\", values = \"LISTING_COUNT\")"
   ]
  },
  {
   "cell_type": "code",
   "execution_count": 6,
   "id": "union-huntington",
   "metadata": {
    "execution": {
     "iopub.execute_input": "2021-09-25T18:30:09.638596Z",
     "iopub.status.busy": "2021-09-25T18:30:09.636185Z",
     "iopub.status.idle": "2021-09-25T18:30:09.642160Z",
     "shell.execute_reply": "2021-09-25T18:30:09.643606Z"
    },
    "papermill": {
     "duration": 0.042616,
     "end_time": "2021-09-25T18:30:09.644049",
     "exception": false,
     "start_time": "2021-09-25T18:30:09.601433",
     "status": "completed"
    },
    "tags": []
   },
   "outputs": [],
   "source": [
    "df_pivot.columns = [\"stamp_1\", \"stamp_2\"]\n",
    "df_pivot_diff = df_pivot.diff(axis=1)"
   ]
  },
  {
   "cell_type": "code",
   "execution_count": 7,
   "id": "fifth-motion",
   "metadata": {
    "execution": {
     "iopub.execute_input": "2021-09-25T18:30:09.698313Z",
     "iopub.status.busy": "2021-09-25T18:30:09.696130Z",
     "iopub.status.idle": "2021-09-25T18:30:11.176002Z",
     "shell.execute_reply": "2021-09-25T18:30:11.177288Z"
    },
    "papermill": {
     "duration": 1.512324,
     "end_time": "2021-09-25T18:30:11.177704",
     "exception": false,
     "start_time": "2021-09-25T18:30:09.665380",
     "status": "completed"
    },
    "tags": []
   },
   "outputs": [
    {
     "data": {
      "text/plain": [
       "<AxesSubplot:ylabel='PRODUCT'>"
      ]
     },
     "execution_count": 7,
     "metadata": {},
     "output_type": "execute_result"
    },
    {
     "data": {
      "image/png": "[encoded data removed]",
      "text/plain": [
       "<Figure size 432x288 with 1 Axes>"
      ]
     },
     "metadata": {
      "needs_background": "light"
     },
     "output_type": "display_data"
    }
   ],
   "source": [
    "df_pivot_diff.sort_values(\"stamp_2\", ascending = False)[\"stamp_2\"].head(10).plot.barh()"
   ]
  },
  {
   "cell_type": "code",
   "execution_count": null,
   "id": "extra-executive",
   "metadata": {
    "papermill": {
     "duration": 0.0224,
     "end_time": "2021-09-25T18:30:11.224661",
     "exception": false,
     "start_time": "2021-09-25T18:30:11.202261",
     "status": "completed"
    },
    "tags": []
   },
   "outputs": [],
   "source": []
  }
 ],
 "metadata": {
  "kernelspec": {
   "display_name": "Python 3",
   "language": "python",
   "name": "python3"
  },
  "language_info": {
   "codemirror_mode": {
    "name": "ipython",
    "version": 3
   },
   "file_extension": ".py",
   "mimetype": "text/x-python",
   "name": "python",
   "nbconvert_exporter": "python",
   "pygments_lexer": "ipython3",
   "version": "3.9.5"
  },
  "papermill": {
   "default_parameters": {},
   "duration": 6.752758,
   "end_time": "2021-09-25T18:30:11.867784",
   "environment_variables": {},
   "exception": null,
   "input_path": "eBay_Overview.ipynb",
   "output_path": "eBay_Overview.ipynb",
   "parameters": {},
   "start_time": "2021-09-25T18:30:05.115026",
   "version": "2.3.3"
  }
 },
 "nbformat": 4,
 "nbformat_minor": 5
}