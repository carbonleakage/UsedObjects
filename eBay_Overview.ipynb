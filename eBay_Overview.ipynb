{
 "cells": [
  {
   "cell_type": "code",
   "execution_count": 1,
   "id": "reverse-picking",
   "metadata": {
    "execution": {
     "iopub.execute_input": "2021-12-13T12:30:07.296069Z",
     "iopub.status.busy": "2021-12-13T12:30:07.293733Z",
     "iopub.status.idle": "2021-12-13T12:30:08.262221Z",
     "shell.execute_reply": "2021-12-13T12:30:08.263785Z"
    },
    "papermill": {
     "duration": 1.016076,
     "end_time": "2021-12-13T12:30:08.264544",
     "exception": false,
     "start_time": "2021-12-13T12:30:07.248468",
     "status": "completed"
    },
    "tags": []
   },
   "outputs": [],
   "source": [
    "import pandas as pd\n",
    "import sqlite3"
   ]
  },
  {
   "cell_type": "code",
   "execution_count": 2,
   "id": "innovative-syndrome",
   "metadata": {
    "execution": {
     "iopub.execute_input": "2021-12-13T12:30:08.326010Z",
     "iopub.status.busy": "2021-12-13T12:30:08.323661Z",
     "iopub.status.idle": "2021-12-13T12:30:09.461194Z",
     "shell.execute_reply": "2021-12-13T12:30:09.463375Z"
    },
    "papermill": {
     "duration": 1.171797,
     "end_time": "2021-12-13T12:30:09.463867",
     "exception": false,
     "start_time": "2021-12-13T12:30:08.292070",
     "status": "completed"
    },
    "tags": []
   },
   "outputs": [],
   "source": [
    "timestamps = pd.read_sql(\"select distinct record_time from EBAY_TOP_BERLIN order by record_time desc limit 2\", sqlite3.connect(\"UsedObjects.db\"))"
   ]
  },
  {
   "cell_type": "code",
   "execution_count": 3,
   "id": "periodic-identification",
   "metadata": {
    "execution": {
     "iopub.execute_input": "2021-12-13T12:30:09.537130Z",
     "iopub.status.busy": "2021-12-13T12:30:09.531000Z",
     "iopub.status.idle": "2021-12-13T12:30:09.556199Z",
     "shell.execute_reply": "2021-12-13T12:30:09.557933Z"
    },
    "papermill": {
     "duration": 0.074943,
     "end_time": "2021-12-13T12:30:09.558444",
     "exception": false,
     "start_time": "2021-12-13T12:30:09.483501",
     "status": "completed"
    },
    "tags": []
   },
   "outputs": [
    {
     "data": {
      "text/html": [
       "<div>\n",
       "<style scoped>\n",
       "    .dataframe tbody tr th:only-of-type {\n",
       "        vertical-align: middle;\n",
       "    }\n",
       "\n",
       "    .dataframe tbody tr th {\n",
       "        vertical-align: top;\n",
       "    }\n",
       "\n",
       "    .dataframe thead th {\n",
       "        text-align: right;\n",
       "    }\n",
       "</style>\n",
       "<table border=\"1\" class=\"dataframe\">\n",
       "  <thead>\n",
       "    <tr style=\"text-align: right;\">\n",
       "      <th></th>\n",
       "      <th>RECORD_TIME</th>\n",
       "    </tr>\n",
       "  </thead>\n",
       "  <tbody>\n",
       "    <tr>\n",
       "      <th>0</th>\n",
       "      <td>2021-12-13 13:30</td>\n",
       "    </tr>\n",
       "    <tr>\n",
       "      <th>1</th>\n",
       "      <td>2021-12-13 13:00</td>\n",
       "    </tr>\n",
       "  </tbody>\n",
       "</table>\n",
       "</div>"
      ],
      "text/plain": [
       "        RECORD_TIME\n",
       "0  2021-12-13 13:30\n",
       "1  2021-12-13 13:00"
      ]
     },
     "execution_count": 3,
     "metadata": {},
     "output_type": "execute_result"
    }
   ],
   "source": [
    "timestamps"
   ]
  },
  {
   "cell_type": "code",
   "execution_count": 4,
   "id": "alternate-victory",
   "metadata": {
    "execution": {
     "iopub.execute_input": "2021-12-13T12:30:09.611684Z",
     "iopub.status.busy": "2021-12-13T12:30:09.609816Z",
     "iopub.status.idle": "2021-12-13T12:30:11.146612Z",
     "shell.execute_reply": "2021-12-13T12:30:11.148060Z"
    },
    "papermill": {
     "duration": 1.566868,
     "end_time": "2021-12-13T12:30:11.148575",
     "exception": false,
     "start_time": "2021-12-13T12:30:09.581707",
     "status": "completed"
    },
    "tags": []
   },
   "outputs": [],
   "source": [
    "df = pd.read_sql(\"select * from EBAY_TOP_BERLIN where record_time in (select distinct record_time from EBAY_TOP_BERLIN order by record_time desc limit 2)\", sqlite3.connect(\"UsedObjects.db\"))"
   ]
  },
  {
   "cell_type": "code",
   "execution_count": 5,
   "id": "popular-active",
   "metadata": {
    "execution": {
     "iopub.execute_input": "2021-12-13T12:30:11.204225Z",
     "iopub.status.busy": "2021-12-13T12:30:11.200199Z",
     "iopub.status.idle": "2021-12-13T12:30:11.251454Z",
     "shell.execute_reply": "2021-12-13T12:30:11.252879Z"
    },
    "papermill": {
     "duration": 0.083442,
     "end_time": "2021-12-13T12:30:11.253378",
     "exception": false,
     "start_time": "2021-12-13T12:30:11.169936",
     "status": "completed"
    },
    "tags": []
   },
   "outputs": [],
   "source": [
    "df_pivot = df.pivot_table(index=\"PRODUCT\", columns = \"RECORD_TIME\", values = \"LISTING_COUNT\")"
   ]
  },
  {
   "cell_type": "code",
   "execution_count": 6,
   "id": "union-huntington",
   "metadata": {
    "execution": {
     "iopub.execute_input": "2021-12-13T12:30:11.312871Z",
     "iopub.status.busy": "2021-12-13T12:30:11.310619Z",
     "iopub.status.idle": "2021-12-13T12:30:11.316559Z",
     "shell.execute_reply": "2021-12-13T12:30:11.318139Z"
    },
    "papermill": {
     "duration": 0.043417,
     "end_time": "2021-12-13T12:30:11.318612",
     "exception": false,
     "start_time": "2021-12-13T12:30:11.275195",
     "status": "completed"
    },
    "tags": []
   },
   "outputs": [],
   "source": [
    "df_pivot.columns = [\"stamp_1\", \"stamp_2\"]\n",
    "df_pivot_diff = df_pivot.diff(axis=1)"
   ]
  },
  {
   "cell_type": "code",
   "execution_count": 7,
   "id": "fifth-motion",
   "metadata": {
    "execution": {
     "iopub.execute_input": "2021-12-13T12:30:11.374421Z",
     "iopub.status.busy": "2021-12-13T12:30:11.371896Z",
     "iopub.status.idle": "2021-12-13T12:30:13.396368Z",
     "shell.execute_reply": "2021-12-13T12:30:13.398359Z"
    },
    "papermill": {
     "duration": 2.060528,
     "end_time": "2021-12-13T12:30:13.398993",
     "exception": false,
     "start_time": "2021-12-13T12:30:11.338465",
     "status": "completed"
    },
    "tags": []
   },
   "outputs": [
    {
     "data": {
      "text/plain": [
       "<AxesSubplot:ylabel='PRODUCT'>"
      ]
     },
     "execution_count": 7,
     "metadata": {},
     "output_type": "execute_result"
    },
    {
     "data": {
      "image/png": "[encoded data removed]",
      "text/plain": [
       "<Figure size 432x288 with 1 Axes>"
      ]
     },
     "metadata": {
      "needs_background": "light"
     },
     "output_type": "display_data"
    }
   ],
   "source": [
    "df_pivot_diff.sort_values(\"stamp_2\", ascending = False)[\"stamp_2\"].head(10).plot.barh()"
   ]
  },
  {
   "cell_type": "code",
   "execution_count": null,
   "id": "extra-executive",
   "metadata": {
    "papermill": {
     "duration": 0.025079,
     "end_time": "2021-12-13T12:30:13.458031",
     "exception": false,
     "start_time": "2021-12-13T12:30:13.432952",
     "status": "completed"
    },
    "tags": []
   },
   "outputs": [],
   "source": []
  }
 ],
 "metadata": {
  "kernelspec": {
   "display_name": "Python 3",
   "language": "python",
   "name": "python3"
  },
  "language_info": {
   "codemirror_mode": {
    "name": "ipython",
    "version": 3
   },
   "file_extension": ".py",
   "mimetype": "text/x-python",
   "name": "python",
   "nbconvert_exporter": "python",
   "pygments_lexer": "ipython3",
   "version": "3.9.5"
  },
  "papermill": {
   "default_parameters": {},
   "duration": 9.607504,
   "end_time": "2021-12-13T12:30:14.102617",
   "environment_variables": {},
   "exception": null,
   "input_path": "eBay_Overview.ipynb",
   "output_path": "eBay_Overview.ipynb",
   "parameters": {},
   "start_time": "2021-12-13T12:30:04.495113",
   "version": "2.3.3"
  }
 },
 "nbformat": 4,
 "nbformat_minor": 5
}