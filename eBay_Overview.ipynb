{
 "cells": [
  {
   "cell_type": "code",
   "execution_count": 1,
   "id": "reverse-picking",
   "metadata": {
    "execution": {
     "iopub.execute_input": "2021-11-03T21:30:07.637509Z",
     "iopub.status.busy": "2021-11-03T21:30:07.635259Z",
     "iopub.status.idle": "2021-11-03T21:30:08.603759Z",
     "shell.execute_reply": "2021-11-03T21:30:08.605347Z"
    },
    "papermill": {
     "duration": 1.015798,
     "end_time": "2021-11-03T21:30:08.606087",
     "exception": false,
     "start_time": "2021-11-03T21:30:07.590289",
     "status": "completed"
    },
    "tags": []
   },
   "outputs": [],
   "source": [
    "import pandas as pd\n",
    "import sqlite3"
   ]
  },
  {
   "cell_type": "code",
   "execution_count": 2,
   "id": "innovative-syndrome",
   "metadata": {
    "execution": {
     "iopub.execute_input": "2021-11-03T21:30:08.670032Z",
     "iopub.status.busy": "2021-11-03T21:30:08.667839Z",
     "iopub.status.idle": "2021-11-03T21:30:09.388152Z",
     "shell.execute_reply": "2021-11-03T21:30:09.389645Z"
    },
    "papermill": {
     "duration": 0.75567,
     "end_time": "2021-11-03T21:30:09.390120",
     "exception": false,
     "start_time": "2021-11-03T21:30:08.634450",
     "status": "completed"
    },
    "tags": []
   },
   "outputs": [],
   "source": [
    "timestamps = pd.read_sql(\"select distinct record_time from EBAY_TOP_BERLIN order by record_time desc limit 2\", sqlite3.connect(\"UsedObjects.db\"))"
   ]
  },
  {
   "cell_type": "code",
   "execution_count": 3,
   "id": "periodic-identification",
   "metadata": {
    "execution": {
     "iopub.execute_input": "2021-11-03T21:30:09.459654Z",
     "iopub.status.busy": "2021-11-03T21:30:09.457456Z",
     "iopub.status.idle": "2021-11-03T21:30:09.479851Z",
     "shell.execute_reply": "2021-11-03T21:30:09.481154Z"
    },
    "papermill": {
     "duration": 0.071962,
     "end_time": "2021-11-03T21:30:09.481598",
     "exception": false,
     "start_time": "2021-11-03T21:30:09.409636",
     "status": "completed"
    },
    "tags": []
   },
   "outputs": [
    {
     "data": {
      "text/html": [
       "<div>\n",
       "<style scoped>\n",
       "    .dataframe tbody tr th:only-of-type {\n",
       "        vertical-align: middle;\n",
       "    }\n",
       "\n",
       "    .dataframe tbody tr th {\n",
       "        vertical-align: top;\n",
       "    }\n",
       "\n",
       "    .dataframe thead th {\n",
       "        text-align: right;\n",
       "    }\n",
       "</style>\n",
       "<table border=\"1\" class=\"dataframe\">\n",
       "  <thead>\n",
       "    <tr style=\"text-align: right;\">\n",
       "      <th></th>\n",
       "      <th>RECORD_TIME</th>\n",
       "    </tr>\n",
       "  </thead>\n",
       "  <tbody>\n",
       "    <tr>\n",
       "      <th>0</th>\n",
       "      <td>2021-11-03 22:30</td>\n",
       "    </tr>\n",
       "    <tr>\n",
       "      <th>1</th>\n",
       "      <td>2021-11-03 22:00</td>\n",
       "    </tr>\n",
       "  </tbody>\n",
       "</table>\n",
       "</div>"
      ],
      "text/plain": [
       "        RECORD_TIME\n",
       "0  2021-11-03 22:30\n",
       "1  2021-11-03 22:00"
      ]
     },
     "execution_count": 3,
     "metadata": {},
     "output_type": "execute_result"
    }
   ],
   "source": [
    "timestamps"
   ]
  },
  {
   "cell_type": "code",
   "execution_count": 4,
   "id": "alternate-victory",
   "metadata": {
    "execution": {
     "iopub.execute_input": "2021-11-03T21:30:09.535310Z",
     "iopub.status.busy": "2021-11-03T21:30:09.533219Z",
     "iopub.status.idle": "2021-11-03T21:30:10.554276Z",
     "shell.execute_reply": "2021-11-03T21:30:10.555856Z"
    },
    "papermill": {
     "duration": 1.053819,
     "end_time": "2021-11-03T21:30:10.556342",
     "exception": false,
     "start_time": "2021-11-03T21:30:09.502523",
     "status": "completed"
    },
    "tags": []
   },
   "outputs": [],
   "source": [
    "df = pd.read_sql(\"select * from EBAY_TOP_BERLIN where record_time in (select distinct record_time from EBAY_TOP_BERLIN order by record_time desc limit 2)\", sqlite3.connect(\"UsedObjects.db\"))"
   ]
  },
  {
   "cell_type": "code",
   "execution_count": 5,
   "id": "popular-active",
   "metadata": {
    "execution": {
     "iopub.execute_input": "2021-11-03T21:30:10.637532Z",
     "iopub.status.busy": "2021-11-03T21:30:10.622845Z",
     "iopub.status.idle": "2021-11-03T21:30:10.657866Z",
     "shell.execute_reply": "2021-11-03T21:30:10.656012Z"
    },
    "papermill": {
     "duration": 0.079175,
     "end_time": "2021-11-03T21:30:10.658325",
     "exception": false,
     "start_time": "2021-11-03T21:30:10.579150",
     "status": "completed"
    },
    "tags": []
   },
   "outputs": [],
   "source": [
    "df_pivot = df.pivot_table(index=\"PRODUCT\", columns = \"RECORD_TIME\", values = \"LISTING_COUNT\")"
   ]
  },
  {
   "cell_type": "code",
   "execution_count": 6,
   "id": "union-huntington",
   "metadata": {
    "execution": {
     "iopub.execute_input": "2021-11-03T21:30:10.723297Z",
     "iopub.status.busy": "2021-11-03T21:30:10.720896Z",
     "iopub.status.idle": "2021-11-03T21:30:10.728101Z",
     "shell.execute_reply": "2021-11-03T21:30:10.725993Z"
    },
    "papermill": {
     "duration": 0.048218,
     "end_time": "2021-11-03T21:30:10.728566",
     "exception": false,
     "start_time": "2021-11-03T21:30:10.680348",
     "status": "completed"
    },
    "tags": []
   },
   "outputs": [],
   "source": [
    "df_pivot.columns = [\"stamp_1\", \"stamp_2\"]\n",
    "df_pivot_diff = df_pivot.diff(axis=1)"
   ]
  },
  {
   "cell_type": "code",
   "execution_count": 7,
   "id": "fifth-motion",
   "metadata": {
    "execution": {
     "iopub.execute_input": "2021-11-03T21:30:10.797434Z",
     "iopub.status.busy": "2021-11-03T21:30:10.786748Z",
     "iopub.status.idle": "2021-11-03T21:30:12.531527Z",
     "shell.execute_reply": "2021-11-03T21:30:12.534244Z"
    },
    "papermill": {
     "duration": 1.784953,
     "end_time": "2021-11-03T21:30:12.535066",
     "exception": false,
     "start_time": "2021-11-03T21:30:10.750113",
     "status": "completed"
    },
    "tags": []
   },
   "outputs": [
    {
     "data": {
      "text/plain": [
       "<AxesSubplot:ylabel='PRODUCT'>"
      ]
     },
     "execution_count": 7,
     "metadata": {},
     "output_type": "execute_result"
    },
    {
     "data": {
      "image/png": "[encoded data removed]",
      "text/plain": [
       "<Figure size 432x288 with 1 Axes>"
      ]
     },
     "metadata": {
      "needs_background": "light"
     },
     "output_type": "display_data"
    }
   ],
   "source": [
    "df_pivot_diff.sort_values(\"stamp_2\", ascending = False)[\"stamp_2\"].head(10).plot.barh()"
   ]
  },
  {
   "cell_type": "code",
   "execution_count": null,
   "id": "extra-executive",
   "metadata": {
    "papermill": {
     "duration": 0.037629,
     "end_time": "2021-11-03T21:30:12.607509",
     "exception": false,
     "start_time": "2021-11-03T21:30:12.569880",
     "status": "completed"
    },
    "tags": []
   },
   "outputs": [],
   "source": []
  }
 ],
 "metadata": {
  "kernelspec": {
   "display_name": "Python 3",
   "language": "python",
   "name": "python3"
  },
  "language_info": {
   "codemirror_mode": {
    "name": "ipython",
    "version": 3
   },
   "file_extension": ".py",
   "mimetype": "text/x-python",
   "name": "python",
   "nbconvert_exporter": "python",
   "pygments_lexer": "ipython3",
   "version": "3.9.5"
  },
  "papermill": {
   "default_parameters": {},
   "duration": 8.660971,
   "end_time": "2021-11-03T21:30:13.474181",
   "environment_variables": {},
   "exception": null,
   "input_path": "eBay_Overview.ipynb",
   "output_path": "eBay_Overview.ipynb",
   "parameters": {},
   "start_time": "2021-11-03T21:30:04.813210",
   "version": "2.3.3"
  }
 },
 "nbformat": 4,
 "nbformat_minor": 5
}