{
 "cells": [
  {
   "cell_type": "code",
   "execution_count": 1,
   "id": "reverse-picking",
   "metadata": {
    "execution": {
     "iopub.execute_input": "2021-10-18T14:30:06.863700Z",
     "iopub.status.busy": "2021-10-18T14:30:06.861781Z",
     "iopub.status.idle": "2021-10-18T14:30:07.667377Z",
     "shell.execute_reply": "2021-10-18T14:30:07.665826Z"
    },
    "papermill": {
     "duration": 0.854431,
     "end_time": "2021-10-18T14:30:07.667781",
     "exception": false,
     "start_time": "2021-10-18T14:30:06.813350",
     "status": "completed"
    },
    "tags": []
   },
   "outputs": [],
   "source": [
    "import pandas as pd\n",
    "import sqlite3"
   ]
  },
  {
   "cell_type": "code",
   "execution_count": 2,
   "id": "innovative-syndrome",
   "metadata": {
    "execution": {
     "iopub.execute_input": "2021-10-18T14:30:07.718405Z",
     "iopub.status.busy": "2021-10-18T14:30:07.716460Z",
     "iopub.status.idle": "2021-10-18T14:30:08.281577Z",
     "shell.execute_reply": "2021-10-18T14:30:08.282784Z"
    },
    "papermill": {
     "duration": 0.594566,
     "end_time": "2021-10-18T14:30:08.283183",
     "exception": false,
     "start_time": "2021-10-18T14:30:07.688617",
     "status": "completed"
    },
    "tags": []
   },
   "outputs": [],
   "source": [
    "timestamps = pd.read_sql(\"select distinct record_time from EBAY_TOP_BERLIN order by record_time desc limit 2\", sqlite3.connect(\"UsedObjects.db\"))"
   ]
  },
  {
   "cell_type": "code",
   "execution_count": 3,
   "id": "periodic-identification",
   "metadata": {
    "execution": {
     "iopub.execute_input": "2021-10-18T14:30:08.362478Z",
     "iopub.status.busy": "2021-10-18T14:30:08.357063Z",
     "iopub.status.idle": "2021-10-18T14:30:08.376983Z",
     "shell.execute_reply": "2021-10-18T14:30:08.378482Z"
    },
    "papermill": {
     "duration": 0.067427,
     "end_time": "2021-10-18T14:30:08.378943",
     "exception": false,
     "start_time": "2021-10-18T14:30:08.311516",
     "status": "completed"
    },
    "tags": []
   },
   "outputs": [
    {
     "data": {
      "text/html": [
       "<div>\n",
       "<style scoped>\n",
       "    .dataframe tbody tr th:only-of-type {\n",
       "        vertical-align: middle;\n",
       "    }\n",
       "\n",
       "    .dataframe tbody tr th {\n",
       "        vertical-align: top;\n",
       "    }\n",
       "\n",
       "    .dataframe thead th {\n",
       "        text-align: right;\n",
       "    }\n",
       "</style>\n",
       "<table border=\"1\" class=\"dataframe\">\n",
       "  <thead>\n",
       "    <tr style=\"text-align: right;\">\n",
       "      <th></th>\n",
       "      <th>RECORD_TIME</th>\n",
       "    </tr>\n",
       "  </thead>\n",
       "  <tbody>\n",
       "    <tr>\n",
       "      <th>0</th>\n",
       "      <td>2021-10-18 16:30</td>\n",
       "    </tr>\n",
       "    <tr>\n",
       "      <th>1</th>\n",
       "      <td>2021-10-18 16:00</td>\n",
       "    </tr>\n",
       "  </tbody>\n",
       "</table>\n",
       "</div>"
      ],
      "text/plain": [
       "        RECORD_TIME\n",
       "0  2021-10-18 16:30\n",
       "1  2021-10-18 16:00"
      ]
     },
     "execution_count": 3,
     "metadata": {},
     "output_type": "execute_result"
    }
   ],
   "source": [
    "timestamps"
   ]
  },
  {
   "cell_type": "code",
   "execution_count": 4,
   "id": "alternate-victory",
   "metadata": {
    "execution": {
     "iopub.execute_input": "2021-10-18T14:30:08.431553Z",
     "iopub.status.busy": "2021-10-18T14:30:08.429552Z",
     "iopub.status.idle": "2021-10-18T14:30:09.270390Z",
     "shell.execute_reply": "2021-10-18T14:30:09.271593Z"
    },
    "papermill": {
     "duration": 0.871565,
     "end_time": "2021-10-18T14:30:09.271991",
     "exception": false,
     "start_time": "2021-10-18T14:30:08.400426",
     "status": "completed"
    },
    "tags": []
   },
   "outputs": [],
   "source": [
    "df = pd.read_sql(\"select * from EBAY_TOP_BERLIN where record_time in (select distinct record_time from EBAY_TOP_BERLIN order by record_time desc limit 2)\", sqlite3.connect(\"UsedObjects.db\"))"
   ]
  },
  {
   "cell_type": "code",
   "execution_count": 5,
   "id": "popular-active",
   "metadata": {
    "execution": {
     "iopub.execute_input": "2021-10-18T14:30:09.342293Z",
     "iopub.status.busy": "2021-10-18T14:30:09.329586Z",
     "iopub.status.idle": "2021-10-18T14:30:09.360321Z",
     "shell.execute_reply": "2021-10-18T14:30:09.361677Z"
    },
    "papermill": {
     "duration": 0.069367,
     "end_time": "2021-10-18T14:30:09.362103",
     "exception": false,
     "start_time": "2021-10-18T14:30:09.292736",
     "status": "completed"
    },
    "tags": []
   },
   "outputs": [],
   "source": [
    "df_pivot = df.pivot_table(index=\"PRODUCT\", columns = \"RECORD_TIME\", values = \"LISTING_COUNT\")"
   ]
  },
  {
   "cell_type": "code",
   "execution_count": 6,
   "id": "union-huntington",
   "metadata": {
    "execution": {
     "iopub.execute_input": "2021-10-18T14:30:09.418299Z",
     "iopub.status.busy": "2021-10-18T14:30:09.416197Z",
     "iopub.status.idle": "2021-10-18T14:30:09.421626Z",
     "shell.execute_reply": "2021-10-18T14:30:09.422829Z"
    },
    "papermill": {
     "duration": 0.040787,
     "end_time": "2021-10-18T14:30:09.423260",
     "exception": false,
     "start_time": "2021-10-18T14:30:09.382473",
     "status": "completed"
    },
    "tags": []
   },
   "outputs": [],
   "source": [
    "df_pivot.columns = [\"stamp_1\", \"stamp_2\"]\n",
    "df_pivot_diff = df_pivot.diff(axis=1)"
   ]
  },
  {
   "cell_type": "code",
   "execution_count": 7,
   "id": "fifth-motion",
   "metadata": {
    "execution": {
     "iopub.execute_input": "2021-10-18T14:30:09.480839Z",
     "iopub.status.busy": "2021-10-18T14:30:09.478147Z",
     "iopub.status.idle": "2021-10-18T14:30:10.967484Z",
     "shell.execute_reply": "2021-10-18T14:30:10.968969Z"
    },
    "papermill": {
     "duration": 1.523185,
     "end_time": "2021-10-18T14:30:10.969455",
     "exception": false,
     "start_time": "2021-10-18T14:30:09.446270",
     "status": "completed"
    },
    "tags": []
   },
   "outputs": [
    {
     "data": {
      "text/plain": [
       "<AxesSubplot:ylabel='PRODUCT'>"
      ]
     },
     "execution_count": 7,
     "metadata": {},
     "output_type": "execute_result"
    },
    {
     "data": {
      "image/png": "[encoded data removed]",
      "text/plain": [
       "<Figure size 432x288 with 1 Axes>"
      ]
     },
     "metadata": {
      "needs_background": "light"
     },
     "output_type": "display_data"
    }
   ],
   "source": [
    "df_pivot_diff.sort_values(\"stamp_2\", ascending = False)[\"stamp_2\"].head(10).plot.barh()"
   ]
  },
  {
   "cell_type": "code",
   "execution_count": null,
   "id": "extra-executive",
   "metadata": {
    "papermill": {
     "duration": 0.02227,
     "end_time": "2021-10-18T14:30:11.017627",
     "exception": false,
     "start_time": "2021-10-18T14:30:10.995357",
     "status": "completed"
    },
    "tags": []
   },
   "outputs": [],
   "source": []
  }
 ],
 "metadata": {
  "kernelspec": {
   "display_name": "Python 3",
   "language": "python",
   "name": "python3"
  },
  "language_info": {
   "codemirror_mode": {
    "name": "ipython",
    "version": 3
   },
   "file_extension": ".py",
   "mimetype": "text/x-python",
   "name": "python",
   "nbconvert_exporter": "python",
   "pygments_lexer": "ipython3",
   "version": "3.9.5"
  },
  "papermill": {
   "default_parameters": {},
   "duration": 7.815509,
   "end_time": "2021-10-18T14:30:12.233581",
   "environment_variables": {},
   "exception": null,
   "input_path": "eBay_Overview.ipynb",
   "output_path": "eBay_Overview.ipynb",
   "parameters": {},
   "start_time": "2021-10-18T14:30:04.418072",
   "version": "2.3.3"
  }
 },
 "nbformat": 4,
 "nbformat_minor": 5
}