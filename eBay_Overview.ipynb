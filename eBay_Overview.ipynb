{
 "cells": [
  {
   "cell_type": "code",
   "execution_count": 1,
   "id": "reverse-picking",
   "metadata": {
    "execution": {
     "iopub.execute_input": "2021-08-27T21:00:06.882731Z",
     "iopub.status.busy": "2021-08-27T21:00:06.880786Z",
     "iopub.status.idle": "2021-08-27T21:00:07.683467Z",
     "shell.execute_reply": "2021-08-27T21:00:07.684890Z"
    },
    "papermill": {
     "duration": 0.855634,
     "end_time": "2021-08-27T21:00:07.685556",
     "exception": false,
     "start_time": "2021-08-27T21:00:06.829922",
     "status": "completed"
    },
    "tags": []
   },
   "outputs": [],
   "source": [
    "import pandas as pd\n",
    "import sqlite3"
   ]
  },
  {
   "cell_type": "code",
   "execution_count": 2,
   "id": "innovative-syndrome",
   "metadata": {
    "execution": {
     "iopub.execute_input": "2021-08-27T21:00:07.736580Z",
     "iopub.status.busy": "2021-08-27T21:00:07.734532Z",
     "iopub.status.idle": "2021-08-27T21:00:07.879916Z",
     "shell.execute_reply": "2021-08-27T21:00:07.881196Z"
    },
    "papermill": {
     "duration": 0.175064,
     "end_time": "2021-08-27T21:00:07.881594",
     "exception": false,
     "start_time": "2021-08-27T21:00:07.706530",
     "status": "completed"
    },
    "tags": []
   },
   "outputs": [],
   "source": [
    "timestamps = pd.read_sql(\"select distinct record_time from EBAY_TOP_BERLIN order by record_time desc limit 2\", sqlite3.connect(\"UsedObjects.db\"))"
   ]
  },
  {
   "cell_type": "code",
   "execution_count": 3,
   "id": "periodic-identification",
   "metadata": {
    "execution": {
     "iopub.execute_input": "2021-08-27T21:00:07.947728Z",
     "iopub.status.busy": "2021-08-27T21:00:07.945696Z",
     "iopub.status.idle": "2021-08-27T21:00:07.965363Z",
     "shell.execute_reply": "2021-08-27T21:00:07.966593Z"
    },
    "papermill": {
     "duration": 0.063829,
     "end_time": "2021-08-27T21:00:07.966987",
     "exception": false,
     "start_time": "2021-08-27T21:00:07.903158",
     "status": "completed"
    },
    "tags": []
   },
   "outputs": [
    {
     "data": {
      "text/html": [
       "<div>\n",
       "<style scoped>\n",
       "    .dataframe tbody tr th:only-of-type {\n",
       "        vertical-align: middle;\n",
       "    }\n",
       "\n",
       "    .dataframe tbody tr th {\n",
       "        vertical-align: top;\n",
       "    }\n",
       "\n",
       "    .dataframe thead th {\n",
       "        text-align: right;\n",
       "    }\n",
       "</style>\n",
       "<table border=\"1\" class=\"dataframe\">\n",
       "  <thead>\n",
       "    <tr style=\"text-align: right;\">\n",
       "      <th></th>\n",
       "      <th>RECORD_TIME</th>\n",
       "    </tr>\n",
       "  </thead>\n",
       "  <tbody>\n",
       "    <tr>\n",
       "      <th>0</th>\n",
       "      <td>2021-08-27 23:00</td>\n",
       "    </tr>\n",
       "    <tr>\n",
       "      <th>1</th>\n",
       "      <td>2021-08-27 22:30</td>\n",
       "    </tr>\n",
       "  </tbody>\n",
       "</table>\n",
       "</div>"
      ],
      "text/plain": [
       "        RECORD_TIME\n",
       "0  2021-08-27 23:00\n",
       "1  2021-08-27 22:30"
      ]
     },
     "execution_count": 3,
     "metadata": {},
     "output_type": "execute_result"
    }
   ],
   "source": [
    "timestamps"
   ]
  },
  {
   "cell_type": "code",
   "execution_count": 4,
   "id": "alternate-victory",
   "metadata": {
    "execution": {
     "iopub.execute_input": "2021-08-27T21:00:08.018242Z",
     "iopub.status.busy": "2021-08-27T21:00:08.015973Z",
     "iopub.status.idle": "2021-08-27T21:00:08.235055Z",
     "shell.execute_reply": "2021-08-27T21:00:08.236422Z"
    },
    "papermill": {
     "duration": 0.2488,
     "end_time": "2021-08-27T21:00:08.236855",
     "exception": false,
     "start_time": "2021-08-27T21:00:07.988055",
     "status": "completed"
    },
    "tags": []
   },
   "outputs": [],
   "source": [
    "df = pd.read_sql(\"select * from EBAY_TOP_BERLIN where record_time in (select distinct record_time from EBAY_TOP_BERLIN order by record_time desc limit 2)\", sqlite3.connect(\"UsedObjects.db\"))"
   ]
  },
  {
   "cell_type": "code",
   "execution_count": 5,
   "id": "popular-active",
   "metadata": {
    "execution": {
     "iopub.execute_input": "2021-08-27T21:00:08.301463Z",
     "iopub.status.busy": "2021-08-27T21:00:08.294391Z",
     "iopub.status.idle": "2021-08-27T21:00:08.322390Z",
     "shell.execute_reply": "2021-08-27T21:00:08.323599Z"
    },
    "papermill": {
     "duration": 0.065837,
     "end_time": "2021-08-27T21:00:08.323993",
     "exception": false,
     "start_time": "2021-08-27T21:00:08.258156",
     "status": "completed"
    },
    "tags": []
   },
   "outputs": [],
   "source": [
    "df_pivot = df.pivot_table(index=\"PRODUCT\", columns = \"RECORD_TIME\", values = \"LISTING_COUNT\")"
   ]
  },
  {
   "cell_type": "code",
   "execution_count": 6,
   "id": "union-huntington",
   "metadata": {
    "execution": {
     "iopub.execute_input": "2021-08-27T21:00:08.401307Z",
     "iopub.status.busy": "2021-08-27T21:00:08.399195Z",
     "iopub.status.idle": "2021-08-27T21:00:08.404434Z",
     "shell.execute_reply": "2021-08-27T21:00:08.405753Z"
    },
    "papermill": {
     "duration": 0.047165,
     "end_time": "2021-08-27T21:00:08.406171",
     "exception": false,
     "start_time": "2021-08-27T21:00:08.359006",
     "status": "completed"
    },
    "tags": []
   },
   "outputs": [],
   "source": [
    "df_pivot.columns = [\"stamp_1\", \"stamp_2\"]\n",
    "df_pivot_diff = df_pivot.diff(axis=1)"
   ]
  },
  {
   "cell_type": "code",
   "execution_count": 7,
   "id": "fifth-motion",
   "metadata": {
    "execution": {
     "iopub.execute_input": "2021-08-27T21:00:08.460113Z",
     "iopub.status.busy": "2021-08-27T21:00:08.457721Z",
     "iopub.status.idle": "2021-08-27T21:00:09.964802Z",
     "shell.execute_reply": "2021-08-27T21:00:09.966023Z"
    },
    "papermill": {
     "duration": 1.539526,
     "end_time": "2021-08-27T21:00:09.966453",
     "exception": false,
     "start_time": "2021-08-27T21:00:08.426927",
     "status": "completed"
    },
    "tags": []
   },
   "outputs": [
    {
     "data": {
      "text/plain": [
       "<AxesSubplot:ylabel='PRODUCT'>"
      ]
     },
     "execution_count": 7,
     "metadata": {},
     "output_type": "execute_result"
    },
    {
     "data": {
      "image/png": "[encoded data removed]",
      "text/plain": [
       "<Figure size 432x288 with 1 Axes>"
      ]
     },
     "metadata": {
      "needs_background": "light"
     },
     "output_type": "display_data"
    }
   ],
   "source": [
    "df_pivot_diff.sort_values(\"stamp_2\", ascending = False)[\"stamp_2\"].head(10).plot.barh()"
   ]
  },
  {
   "cell_type": "code",
   "execution_count": null,
   "id": "extra-executive",
   "metadata": {
    "papermill": {
     "duration": 0.022161,
     "end_time": "2021-08-27T21:00:10.012425",
     "exception": false,
     "start_time": "2021-08-27T21:00:09.990264",
     "status": "completed"
    },
    "tags": []
   },
   "outputs": [],
   "source": []
  }
 ],
 "metadata": {
  "kernelspec": {
   "display_name": "Python 3",
   "language": "python",
   "name": "python3"
  },
  "language_info": {
   "codemirror_mode": {
    "name": "ipython",
    "version": 3
   },
   "file_extension": ".py",
   "mimetype": "text/x-python",
   "name": "python",
   "nbconvert_exporter": "python",
   "pygments_lexer": "ipython3",
   "version": "3.9.5"
  },
  "papermill": {
   "default_parameters": {},
   "duration": 6.831865,
   "end_time": "2021-08-27T21:00:11.261085",
   "environment_variables": {},
   "exception": null,
   "input_path": "eBay_Overview.ipynb",
   "output_path": "eBay_Overview.ipynb",
   "parameters": {},
   "start_time": "2021-08-27T21:00:04.429220",
   "version": "2.3.3"
  }
 },
 "nbformat": 4,
 "nbformat_minor": 5
}