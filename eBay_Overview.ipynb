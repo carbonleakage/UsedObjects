{
 "cells": [
  {
   "cell_type": "code",
   "execution_count": 1,
   "id": "reverse-picking",
   "metadata": {
    "execution": {
     "iopub.execute_input": "2021-09-07T01:30:07.277394Z",
     "iopub.status.busy": "2021-09-07T01:30:07.275392Z",
     "iopub.status.idle": "2021-09-07T01:30:08.085757Z",
     "shell.execute_reply": "2021-09-07T01:30:08.087237Z"
    },
    "papermill": {
     "duration": 0.862059,
     "end_time": "2021-09-07T01:30:08.087925",
     "exception": false,
     "start_time": "2021-09-07T01:30:07.225866",
     "status": "completed"
    },
    "tags": []
   },
   "outputs": [],
   "source": [
    "import pandas as pd\n",
    "import sqlite3"
   ]
  },
  {
   "cell_type": "code",
   "execution_count": 2,
   "id": "innovative-syndrome",
   "metadata": {
    "execution": {
     "iopub.execute_input": "2021-09-07T01:30:08.137865Z",
     "iopub.status.busy": "2021-09-07T01:30:08.135728Z",
     "iopub.status.idle": "2021-09-07T01:30:08.366255Z",
     "shell.execute_reply": "2021-09-07T01:30:08.368256Z"
    },
    "papermill": {
     "duration": 0.261297,
     "end_time": "2021-09-07T01:30:08.368804",
     "exception": false,
     "start_time": "2021-09-07T01:30:08.107507",
     "status": "completed"
    },
    "tags": []
   },
   "outputs": [],
   "source": [
    "timestamps = pd.read_sql(\"select distinct record_time from EBAY_TOP_BERLIN order by record_time desc limit 2\", sqlite3.connect(\"UsedObjects.db\"))"
   ]
  },
  {
   "cell_type": "code",
   "execution_count": 3,
   "id": "periodic-identification",
   "metadata": {
    "execution": {
     "iopub.execute_input": "2021-09-07T01:30:08.434046Z",
     "iopub.status.busy": "2021-09-07T01:30:08.431977Z",
     "iopub.status.idle": "2021-09-07T01:30:08.453492Z",
     "shell.execute_reply": "2021-09-07T01:30:08.452056Z"
    },
    "papermill": {
     "duration": 0.065968,
     "end_time": "2021-09-07T01:30:08.453881",
     "exception": false,
     "start_time": "2021-09-07T01:30:08.387913",
     "status": "completed"
    },
    "tags": []
   },
   "outputs": [
    {
     "data": {
      "text/html": [
       "<div>\n",
       "<style scoped>\n",
       "    .dataframe tbody tr th:only-of-type {\n",
       "        vertical-align: middle;\n",
       "    }\n",
       "\n",
       "    .dataframe tbody tr th {\n",
       "        vertical-align: top;\n",
       "    }\n",
       "\n",
       "    .dataframe thead th {\n",
       "        text-align: right;\n",
       "    }\n",
       "</style>\n",
       "<table border=\"1\" class=\"dataframe\">\n",
       "  <thead>\n",
       "    <tr style=\"text-align: right;\">\n",
       "      <th></th>\n",
       "      <th>RECORD_TIME</th>\n",
       "    </tr>\n",
       "  </thead>\n",
       "  <tbody>\n",
       "    <tr>\n",
       "      <th>0</th>\n",
       "      <td>2021-09-07 03:30</td>\n",
       "    </tr>\n",
       "    <tr>\n",
       "      <th>1</th>\n",
       "      <td>2021-09-07 03:00</td>\n",
       "    </tr>\n",
       "  </tbody>\n",
       "</table>\n",
       "</div>"
      ],
      "text/plain": [
       "        RECORD_TIME\n",
       "0  2021-09-07 03:30\n",
       "1  2021-09-07 03:00"
      ]
     },
     "execution_count": 3,
     "metadata": {},
     "output_type": "execute_result"
    }
   ],
   "source": [
    "timestamps"
   ]
  },
  {
   "cell_type": "code",
   "execution_count": 4,
   "id": "alternate-victory",
   "metadata": {
    "execution": {
     "iopub.execute_input": "2021-09-07T01:30:08.505107Z",
     "iopub.status.busy": "2021-09-07T01:30:08.502853Z",
     "iopub.status.idle": "2021-09-07T01:30:08.843966Z",
     "shell.execute_reply": "2021-09-07T01:30:08.845203Z"
    },
    "papermill": {
     "duration": 0.371227,
     "end_time": "2021-09-07T01:30:08.845598",
     "exception": false,
     "start_time": "2021-09-07T01:30:08.474371",
     "status": "completed"
    },
    "tags": []
   },
   "outputs": [],
   "source": [
    "df = pd.read_sql(\"select * from EBAY_TOP_BERLIN where record_time in (select distinct record_time from EBAY_TOP_BERLIN order by record_time desc limit 2)\", sqlite3.connect(\"UsedObjects.db\"))"
   ]
  },
  {
   "cell_type": "code",
   "execution_count": 5,
   "id": "popular-active",
   "metadata": {
    "execution": {
     "iopub.execute_input": "2021-09-07T01:30:08.937026Z",
     "iopub.status.busy": "2021-09-07T01:30:08.924487Z",
     "iopub.status.idle": "2021-09-07T01:30:08.953085Z",
     "shell.execute_reply": "2021-09-07T01:30:08.954386Z"
    },
    "papermill": {
     "duration": 0.074401,
     "end_time": "2021-09-07T01:30:08.954794",
     "exception": false,
     "start_time": "2021-09-07T01:30:08.880393",
     "status": "completed"
    },
    "tags": []
   },
   "outputs": [],
   "source": [
    "df_pivot = df.pivot_table(index=\"PRODUCT\", columns = \"RECORD_TIME\", values = \"LISTING_COUNT\")"
   ]
  },
  {
   "cell_type": "code",
   "execution_count": 6,
   "id": "union-huntington",
   "metadata": {
    "execution": {
     "iopub.execute_input": "2021-09-07T01:30:09.011716Z",
     "iopub.status.busy": "2021-09-07T01:30:09.009569Z",
     "iopub.status.idle": "2021-09-07T01:30:09.014746Z",
     "shell.execute_reply": "2021-09-07T01:30:09.016261Z"
    },
    "papermill": {
     "duration": 0.040187,
     "end_time": "2021-09-07T01:30:09.016704",
     "exception": false,
     "start_time": "2021-09-07T01:30:08.976517",
     "status": "completed"
    },
    "tags": []
   },
   "outputs": [],
   "source": [
    "df_pivot.columns = [\"stamp_1\", \"stamp_2\"]\n",
    "df_pivot_diff = df_pivot.diff(axis=1)"
   ]
  },
  {
   "cell_type": "code",
   "execution_count": 7,
   "id": "fifth-motion",
   "metadata": {
    "execution": {
     "iopub.execute_input": "2021-09-07T01:30:09.071760Z",
     "iopub.status.busy": "2021-09-07T01:30:09.069141Z",
     "iopub.status.idle": "2021-09-07T01:30:10.574243Z",
     "shell.execute_reply": "2021-09-07T01:30:10.575687Z"
    },
    "papermill": {
     "duration": 1.538306,
     "end_time": "2021-09-07T01:30:10.576136",
     "exception": false,
     "start_time": "2021-09-07T01:30:09.037830",
     "status": "completed"
    },
    "tags": []
   },
   "outputs": [
    {
     "data": {
      "text/plain": [
       "<AxesSubplot:ylabel='PRODUCT'>"
      ]
     },
     "execution_count": 7,
     "metadata": {},
     "output_type": "execute_result"
    },
    {
     "data": {
      "image/png": "[encoded data removed]",
      "text/plain": [
       "<Figure size 432x288 with 1 Axes>"
      ]
     },
     "metadata": {
      "needs_background": "light"
     },
     "output_type": "display_data"
    }
   ],
   "source": [
    "df_pivot_diff.sort_values(\"stamp_2\", ascending = False)[\"stamp_2\"].head(10).plot.barh()"
   ]
  },
  {
   "cell_type": "code",
   "execution_count": null,
   "id": "extra-executive",
   "metadata": {
    "papermill": {
     "duration": 0.021825,
     "end_time": "2021-09-07T01:30:10.623386",
     "exception": false,
     "start_time": "2021-09-07T01:30:10.601561",
     "status": "completed"
    },
    "tags": []
   },
   "outputs": [],
   "source": []
  }
 ],
 "metadata": {
  "kernelspec": {
   "display_name": "Python 3",
   "language": "python",
   "name": "python3"
  },
  "language_info": {
   "codemirror_mode": {
    "name": "ipython",
    "version": 3
   },
   "file_extension": ".py",
   "mimetype": "text/x-python",
   "name": "python",
   "nbconvert_exporter": "python",
   "pygments_lexer": "ipython3",
   "version": "3.9.5"
  },
  "papermill": {
   "default_parameters": {},
   "duration": 6.455563,
   "end_time": "2021-09-07T01:30:11.264066",
   "environment_variables": {},
   "exception": null,
   "input_path": "eBay_Overview.ipynb",
   "output_path": "eBay_Overview.ipynb",
   "parameters": {},
   "start_time": "2021-09-07T01:30:04.808503",
   "version": "2.3.3"
  }
 },
 "nbformat": 4,
 "nbformat_minor": 5
}