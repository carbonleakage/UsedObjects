{
 "cells": [
  {
   "cell_type": "code",
   "execution_count": 1,
   "id": "reverse-picking",
   "metadata": {
    "execution": {
     "iopub.execute_input": "2021-09-23T18:00:07.037956Z",
     "iopub.status.busy": "2021-09-23T18:00:07.036059Z",
     "iopub.status.idle": "2021-09-23T18:00:07.842505Z",
     "shell.execute_reply": "2021-09-23T18:00:07.843853Z"
    },
    "papermill": {
     "duration": 0.857115,
     "end_time": "2021-09-23T18:00:07.844474",
     "exception": false,
     "start_time": "2021-09-23T18:00:06.987359",
     "status": "completed"
    },
    "tags": []
   },
   "outputs": [],
   "source": [
    "import pandas as pd\n",
    "import sqlite3"
   ]
  },
  {
   "cell_type": "code",
   "execution_count": 2,
   "id": "innovative-syndrome",
   "metadata": {
    "execution": {
     "iopub.execute_input": "2021-09-23T18:00:07.895871Z",
     "iopub.status.busy": "2021-09-23T18:00:07.893930Z",
     "iopub.status.idle": "2021-09-23T18:00:08.250669Z",
     "shell.execute_reply": "2021-09-23T18:00:08.251948Z"
    },
    "papermill": {
     "duration": 0.386283,
     "end_time": "2021-09-23T18:00:08.252343",
     "exception": false,
     "start_time": "2021-09-23T18:00:07.866060",
     "status": "completed"
    },
    "tags": []
   },
   "outputs": [],
   "source": [
    "timestamps = pd.read_sql(\"select distinct record_time from EBAY_TOP_BERLIN order by record_time desc limit 2\", sqlite3.connect(\"UsedObjects.db\"))"
   ]
  },
  {
   "cell_type": "code",
   "execution_count": 3,
   "id": "periodic-identification",
   "metadata": {
    "execution": {
     "iopub.execute_input": "2021-09-23T18:00:08.320200Z",
     "iopub.status.busy": "2021-09-23T18:00:08.314629Z",
     "iopub.status.idle": "2021-09-23T18:00:08.337390Z",
     "shell.execute_reply": "2021-09-23T18:00:08.338904Z"
    },
    "papermill": {
     "duration": 0.067199,
     "end_time": "2021-09-23T18:00:08.339372",
     "exception": false,
     "start_time": "2021-09-23T18:00:08.272173",
     "status": "completed"
    },
    "tags": []
   },
   "outputs": [
    {
     "data": {
      "text/html": [
       "<div>\n",
       "<style scoped>\n",
       "    .dataframe tbody tr th:only-of-type {\n",
       "        vertical-align: middle;\n",
       "    }\n",
       "\n",
       "    .dataframe tbody tr th {\n",
       "        vertical-align: top;\n",
       "    }\n",
       "\n",
       "    .dataframe thead th {\n",
       "        text-align: right;\n",
       "    }\n",
       "</style>\n",
       "<table border=\"1\" class=\"dataframe\">\n",
       "  <thead>\n",
       "    <tr style=\"text-align: right;\">\n",
       "      <th></th>\n",
       "      <th>RECORD_TIME</th>\n",
       "    </tr>\n",
       "  </thead>\n",
       "  <tbody>\n",
       "    <tr>\n",
       "      <th>0</th>\n",
       "      <td>2021-09-23 20:00</td>\n",
       "    </tr>\n",
       "    <tr>\n",
       "      <th>1</th>\n",
       "      <td>2021-09-23 19:30</td>\n",
       "    </tr>\n",
       "  </tbody>\n",
       "</table>\n",
       "</div>"
      ],
      "text/plain": [
       "        RECORD_TIME\n",
       "0  2021-09-23 20:00\n",
       "1  2021-09-23 19:30"
      ]
     },
     "execution_count": 3,
     "metadata": {},
     "output_type": "execute_result"
    }
   ],
   "source": [
    "timestamps"
   ]
  },
  {
   "cell_type": "code",
   "execution_count": 4,
   "id": "alternate-victory",
   "metadata": {
    "execution": {
     "iopub.execute_input": "2021-09-23T18:00:08.391969Z",
     "iopub.status.busy": "2021-09-23T18:00:08.390053Z",
     "iopub.status.idle": "2021-09-23T18:00:08.908097Z",
     "shell.execute_reply": "2021-09-23T18:00:08.909532Z"
    },
    "papermill": {
     "duration": 0.548308,
     "end_time": "2021-09-23T18:00:08.909968",
     "exception": false,
     "start_time": "2021-09-23T18:00:08.361660",
     "status": "completed"
    },
    "tags": []
   },
   "outputs": [],
   "source": [
    "df = pd.read_sql(\"select * from EBAY_TOP_BERLIN where record_time in (select distinct record_time from EBAY_TOP_BERLIN order by record_time desc limit 2)\", sqlite3.connect(\"UsedObjects.db\"))"
   ]
  },
  {
   "cell_type": "code",
   "execution_count": 5,
   "id": "popular-active",
   "metadata": {
    "execution": {
     "iopub.execute_input": "2021-09-23T18:00:08.981880Z",
     "iopub.status.busy": "2021-09-23T18:00:08.969509Z",
     "iopub.status.idle": "2021-09-23T18:00:08.999612Z",
     "shell.execute_reply": "2021-09-23T18:00:09.001040Z"
    },
    "papermill": {
     "duration": 0.070491,
     "end_time": "2021-09-23T18:00:09.001481",
     "exception": false,
     "start_time": "2021-09-23T18:00:08.930990",
     "status": "completed"
    },
    "tags": []
   },
   "outputs": [],
   "source": [
    "df_pivot = df.pivot_table(index=\"PRODUCT\", columns = \"RECORD_TIME\", values = \"LISTING_COUNT\")"
   ]
  },
  {
   "cell_type": "code",
   "execution_count": 6,
   "id": "union-huntington",
   "metadata": {
    "execution": {
     "iopub.execute_input": "2021-09-23T18:00:09.059040Z",
     "iopub.status.busy": "2021-09-23T18:00:09.056652Z",
     "iopub.status.idle": "2021-09-23T18:00:09.062050Z",
     "shell.execute_reply": "2021-09-23T18:00:09.063420Z"
    },
    "papermill": {
     "duration": 0.041772,
     "end_time": "2021-09-23T18:00:09.063842",
     "exception": false,
     "start_time": "2021-09-23T18:00:09.022070",
     "status": "completed"
    },
    "tags": []
   },
   "outputs": [],
   "source": [
    "df_pivot.columns = [\"stamp_1\", \"stamp_2\"]\n",
    "df_pivot_diff = df_pivot.diff(axis=1)"
   ]
  },
  {
   "cell_type": "code",
   "execution_count": 7,
   "id": "fifth-motion",
   "metadata": {
    "execution": {
     "iopub.execute_input": "2021-09-23T18:00:09.117876Z",
     "iopub.status.busy": "2021-09-23T18:00:09.115729Z",
     "iopub.status.idle": "2021-09-23T18:00:10.626594Z",
     "shell.execute_reply": "2021-09-23T18:00:10.628278Z"
    },
    "papermill": {
     "duration": 1.544196,
     "end_time": "2021-09-23T18:00:10.628864",
     "exception": false,
     "start_time": "2021-09-23T18:00:09.084668",
     "status": "completed"
    },
    "tags": []
   },
   "outputs": [
    {
     "data": {
      "text/plain": [
       "<AxesSubplot:ylabel='PRODUCT'>"
      ]
     },
     "execution_count": 7,
     "metadata": {},
     "output_type": "execute_result"
    },
    {
     "data": {
      "image/png": "[encoded data removed]",
      "text/plain": [
       "<Figure size 432x288 with 1 Axes>"
      ]
     },
     "metadata": {
      "needs_background": "light"
     },
     "output_type": "display_data"
    }
   ],
   "source": [
    "df_pivot_diff.sort_values(\"stamp_2\", ascending = False)[\"stamp_2\"].head(10).plot.barh()"
   ]
  },
  {
   "cell_type": "code",
   "execution_count": null,
   "id": "extra-executive",
   "metadata": {
    "papermill": {
     "duration": 0.022635,
     "end_time": "2021-09-23T18:00:10.676002",
     "exception": false,
     "start_time": "2021-09-23T18:00:10.653367",
     "status": "completed"
    },
    "tags": []
   },
   "outputs": [],
   "source": []
  }
 ],
 "metadata": {
  "kernelspec": {
   "display_name": "Python 3",
   "language": "python",
   "name": "python3"
  },
  "language_info": {
   "codemirror_mode": {
    "name": "ipython",
    "version": 3
   },
   "file_extension": ".py",
   "mimetype": "text/x-python",
   "name": "python",
   "nbconvert_exporter": "python",
   "pygments_lexer": "ipython3",
   "version": "3.9.5"
  },
  "papermill": {
   "default_parameters": {},
   "duration": 6.733262,
   "end_time": "2021-09-23T18:00:11.320259",
   "environment_variables": {},
   "exception": null,
   "input_path": "eBay_Overview.ipynb",
   "output_path": "eBay_Overview.ipynb",
   "parameters": {},
   "start_time": "2021-09-23T18:00:04.586997",
   "version": "2.3.3"
  }
 },
 "nbformat": 4,
 "nbformat_minor": 5
}