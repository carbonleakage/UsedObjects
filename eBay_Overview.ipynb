{
 "cells": [
  {
   "cell_type": "code",
   "execution_count": 1,
   "id": "reverse-picking",
   "metadata": {
    "execution": {
     "iopub.execute_input": "2021-10-08T05:00:06.768397Z",
     "iopub.status.busy": "2021-10-08T05:00:06.766309Z",
     "iopub.status.idle": "2021-10-08T05:00:07.576416Z",
     "shell.execute_reply": "2021-10-08T05:00:07.577665Z"
    },
    "papermill": {
     "duration": 0.861707,
     "end_time": "2021-10-08T05:00:07.578273",
     "exception": false,
     "start_time": "2021-10-08T05:00:06.716566",
     "status": "completed"
    },
    "tags": []
   },
   "outputs": [],
   "source": [
    "import pandas as pd\n",
    "import sqlite3"
   ]
  },
  {
   "cell_type": "code",
   "execution_count": 2,
   "id": "innovative-syndrome",
   "metadata": {
    "execution": {
     "iopub.execute_input": "2021-10-08T05:00:07.628359Z",
     "iopub.status.busy": "2021-10-08T05:00:07.626198Z",
     "iopub.status.idle": "2021-10-08T05:00:08.101111Z",
     "shell.execute_reply": "2021-10-08T05:00:08.102301Z"
    },
    "papermill": {
     "duration": 0.504351,
     "end_time": "2021-10-08T05:00:08.102694",
     "exception": false,
     "start_time": "2021-10-08T05:00:07.598343",
     "status": "completed"
    },
    "tags": []
   },
   "outputs": [],
   "source": [
    "timestamps = pd.read_sql(\"select distinct record_time from EBAY_TOP_BERLIN order by record_time desc limit 2\", sqlite3.connect(\"UsedObjects.db\"))"
   ]
  },
  {
   "cell_type": "code",
   "execution_count": 3,
   "id": "periodic-identification",
   "metadata": {
    "execution": {
     "iopub.execute_input": "2021-10-08T05:00:08.168731Z",
     "iopub.status.busy": "2021-10-08T05:00:08.166637Z",
     "iopub.status.idle": "2021-10-08T05:00:08.186943Z",
     "shell.execute_reply": "2021-10-08T05:00:08.188564Z"
    },
    "papermill": {
     "duration": 0.067008,
     "end_time": "2021-10-08T05:00:08.189050",
     "exception": false,
     "start_time": "2021-10-08T05:00:08.122042",
     "status": "completed"
    },
    "tags": []
   },
   "outputs": [
    {
     "data": {
      "text/html": [
       "<div>\n",
       "<style scoped>\n",
       "    .dataframe tbody tr th:only-of-type {\n",
       "        vertical-align: middle;\n",
       "    }\n",
       "\n",
       "    .dataframe tbody tr th {\n",
       "        vertical-align: top;\n",
       "    }\n",
       "\n",
       "    .dataframe thead th {\n",
       "        text-align: right;\n",
       "    }\n",
       "</style>\n",
       "<table border=\"1\" class=\"dataframe\">\n",
       "  <thead>\n",
       "    <tr style=\"text-align: right;\">\n",
       "      <th></th>\n",
       "      <th>RECORD_TIME</th>\n",
       "    </tr>\n",
       "  </thead>\n",
       "  <tbody>\n",
       "    <tr>\n",
       "      <th>0</th>\n",
       "      <td>2021-10-08 07:00</td>\n",
       "    </tr>\n",
       "    <tr>\n",
       "      <th>1</th>\n",
       "      <td>2021-10-08 06:30</td>\n",
       "    </tr>\n",
       "  </tbody>\n",
       "</table>\n",
       "</div>"
      ],
      "text/plain": [
       "        RECORD_TIME\n",
       "0  2021-10-08 07:00\n",
       "1  2021-10-08 06:30"
      ]
     },
     "execution_count": 3,
     "metadata": {},
     "output_type": "execute_result"
    }
   ],
   "source": [
    "timestamps"
   ]
  },
  {
   "cell_type": "code",
   "execution_count": 4,
   "id": "alternate-victory",
   "metadata": {
    "execution": {
     "iopub.execute_input": "2021-10-08T05:00:08.250737Z",
     "iopub.status.busy": "2021-10-08T05:00:08.248881Z",
     "iopub.status.idle": "2021-10-08T05:00:08.955892Z",
     "shell.execute_reply": "2021-10-08T05:00:08.957165Z"
    },
    "papermill": {
     "duration": 0.741819,
     "end_time": "2021-10-08T05:00:08.957565",
     "exception": false,
     "start_time": "2021-10-08T05:00:08.215746",
     "status": "completed"
    },
    "tags": []
   },
   "outputs": [],
   "source": [
    "df = pd.read_sql(\"select * from EBAY_TOP_BERLIN where record_time in (select distinct record_time from EBAY_TOP_BERLIN order by record_time desc limit 2)\", sqlite3.connect(\"UsedObjects.db\"))"
   ]
  },
  {
   "cell_type": "code",
   "execution_count": 5,
   "id": "popular-active",
   "metadata": {
    "execution": {
     "iopub.execute_input": "2021-10-08T05:00:09.021252Z",
     "iopub.status.busy": "2021-10-08T05:00:09.013468Z",
     "iopub.status.idle": "2021-10-08T05:00:09.043714Z",
     "shell.execute_reply": "2021-10-08T05:00:09.045132Z"
    },
    "papermill": {
     "duration": 0.067879,
     "end_time": "2021-10-08T05:00:09.045566",
     "exception": false,
     "start_time": "2021-10-08T05:00:08.977687",
     "status": "completed"
    },
    "tags": []
   },
   "outputs": [],
   "source": [
    "df_pivot = df.pivot_table(index=\"PRODUCT\", columns = \"RECORD_TIME\", values = \"LISTING_COUNT\")"
   ]
  },
  {
   "cell_type": "code",
   "execution_count": 6,
   "id": "union-huntington",
   "metadata": {
    "execution": {
     "iopub.execute_input": "2021-10-08T05:00:09.102651Z",
     "iopub.status.busy": "2021-10-08T05:00:09.100227Z",
     "iopub.status.idle": "2021-10-08T05:00:09.106208Z",
     "shell.execute_reply": "2021-10-08T05:00:09.107546Z"
    },
    "papermill": {
     "duration": 0.042328,
     "end_time": "2021-10-08T05:00:09.107997",
     "exception": false,
     "start_time": "2021-10-08T05:00:09.065669",
     "status": "completed"
    },
    "tags": []
   },
   "outputs": [],
   "source": [
    "df_pivot.columns = [\"stamp_1\", \"stamp_2\"]\n",
    "df_pivot_diff = df_pivot.diff(axis=1)"
   ]
  },
  {
   "cell_type": "code",
   "execution_count": 7,
   "id": "fifth-motion",
   "metadata": {
    "execution": {
     "iopub.execute_input": "2021-10-08T05:00:09.161677Z",
     "iopub.status.busy": "2021-10-08T05:00:09.159375Z",
     "iopub.status.idle": "2021-10-08T05:00:10.695728Z",
     "shell.execute_reply": "2021-10-08T05:00:10.697161Z"
    },
    "papermill": {
     "duration": 1.569247,
     "end_time": "2021-10-08T05:00:10.697604",
     "exception": false,
     "start_time": "2021-10-08T05:00:09.128357",
     "status": "completed"
    },
    "tags": []
   },
   "outputs": [
    {
     "data": {
      "text/plain": [
       "<AxesSubplot:ylabel='PRODUCT'>"
      ]
     },
     "execution_count": 7,
     "metadata": {},
     "output_type": "execute_result"
    },
    {
     "data": {
      "image/png": "[encoded data removed]",
      "text/plain": [
       "<Figure size 432x288 with 1 Axes>"
      ]
     },
     "metadata": {
      "needs_background": "light"
     },
     "output_type": "display_data"
    }
   ],
   "source": [
    "df_pivot_diff.sort_values(\"stamp_2\", ascending = False)[\"stamp_2\"].head(10).plot.barh()"
   ]
  },
  {
   "cell_type": "code",
   "execution_count": null,
   "id": "extra-executive",
   "metadata": {
    "papermill": {
     "duration": 0.022223,
     "end_time": "2021-10-08T05:00:10.744410",
     "exception": false,
     "start_time": "2021-10-08T05:00:10.722187",
     "status": "completed"
    },
    "tags": []
   },
   "outputs": [],
   "source": []
  }
 ],
 "metadata": {
  "kernelspec": {
   "display_name": "Python 3",
   "language": "python",
   "name": "python3"
  },
  "language_info": {
   "codemirror_mode": {
    "name": "ipython",
    "version": 3
   },
   "file_extension": ".py",
   "mimetype": "text/x-python",
   "name": "python",
   "nbconvert_exporter": "python",
   "pygments_lexer": "ipython3",
   "version": "3.9.5"
  },
  "papermill": {
   "default_parameters": {},
   "duration": 7.847567,
   "end_time": "2021-10-08T05:00:12.150646",
   "environment_variables": {},
   "exception": null,
   "input_path": "eBay_Overview.ipynb",
   "output_path": "eBay_Overview.ipynb",
   "parameters": {},
   "start_time": "2021-10-08T05:00:04.303079",
   "version": "2.3.3"
  }
 },
 "nbformat": 4,
 "nbformat_minor": 5
}