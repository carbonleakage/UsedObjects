{
 "cells": [
  {
   "cell_type": "code",
   "execution_count": 1,
   "id": "reverse-picking",
   "metadata": {
    "execution": {
     "iopub.execute_input": "2021-10-21T11:00:07.302480Z",
     "iopub.status.busy": "2021-10-21T11:00:07.300444Z",
     "iopub.status.idle": "2021-10-21T11:00:08.107703Z",
     "shell.execute_reply": "2021-10-21T11:00:08.109180Z"
    },
    "papermill": {
     "duration": 0.857879,
     "end_time": "2021-10-21T11:00:08.109839",
     "exception": false,
     "start_time": "2021-10-21T11:00:07.251960",
     "status": "completed"
    },
    "tags": []
   },
   "outputs": [],
   "source": [
    "import pandas as pd\n",
    "import sqlite3"
   ]
  },
  {
   "cell_type": "code",
   "execution_count": 2,
   "id": "innovative-syndrome",
   "metadata": {
    "execution": {
     "iopub.execute_input": "2021-10-21T11:00:08.161873Z",
     "iopub.status.busy": "2021-10-21T11:00:08.159491Z",
     "iopub.status.idle": "2021-10-21T11:00:08.766106Z",
     "shell.execute_reply": "2021-10-21T11:00:08.767300Z"
    },
    "papermill": {
     "duration": 0.636481,
     "end_time": "2021-10-21T11:00:08.767695",
     "exception": false,
     "start_time": "2021-10-21T11:00:08.131214",
     "status": "completed"
    },
    "tags": []
   },
   "outputs": [],
   "source": [
    "timestamps = pd.read_sql(\"select distinct record_time from EBAY_TOP_BERLIN order by record_time desc limit 2\", sqlite3.connect(\"UsedObjects.db\"))"
   ]
  },
  {
   "cell_type": "code",
   "execution_count": 3,
   "id": "periodic-identification",
   "metadata": {
    "execution": {
     "iopub.execute_input": "2021-10-21T11:00:08.839687Z",
     "iopub.status.busy": "2021-10-21T11:00:08.837670Z",
     "iopub.status.idle": "2021-10-21T11:00:08.857507Z",
     "shell.execute_reply": "2021-10-21T11:00:08.858782Z"
    },
    "papermill": {
     "duration": 0.066852,
     "end_time": "2021-10-21T11:00:08.859182",
     "exception": false,
     "start_time": "2021-10-21T11:00:08.792330",
     "status": "completed"
    },
    "tags": []
   },
   "outputs": [
    {
     "data": {
      "text/html": [
       "<div>\n",
       "<style scoped>\n",
       "    .dataframe tbody tr th:only-of-type {\n",
       "        vertical-align: middle;\n",
       "    }\n",
       "\n",
       "    .dataframe tbody tr th {\n",
       "        vertical-align: top;\n",
       "    }\n",
       "\n",
       "    .dataframe thead th {\n",
       "        text-align: right;\n",
       "    }\n",
       "</style>\n",
       "<table border=\"1\" class=\"dataframe\">\n",
       "  <thead>\n",
       "    <tr style=\"text-align: right;\">\n",
       "      <th></th>\n",
       "      <th>RECORD_TIME</th>\n",
       "    </tr>\n",
       "  </thead>\n",
       "  <tbody>\n",
       "    <tr>\n",
       "      <th>0</th>\n",
       "      <td>2021-10-21 13:00</td>\n",
       "    </tr>\n",
       "    <tr>\n",
       "      <th>1</th>\n",
       "      <td>2021-10-21 12:30</td>\n",
       "    </tr>\n",
       "  </tbody>\n",
       "</table>\n",
       "</div>"
      ],
      "text/plain": [
       "        RECORD_TIME\n",
       "0  2021-10-21 13:00\n",
       "1  2021-10-21 12:30"
      ]
     },
     "execution_count": 3,
     "metadata": {},
     "output_type": "execute_result"
    }
   ],
   "source": [
    "timestamps"
   ]
  },
  {
   "cell_type": "code",
   "execution_count": 4,
   "id": "alternate-victory",
   "metadata": {
    "execution": {
     "iopub.execute_input": "2021-10-21T11:00:08.911882Z",
     "iopub.status.busy": "2021-10-21T11:00:08.909594Z",
     "iopub.status.idle": "2021-10-21T11:00:09.800506Z",
     "shell.execute_reply": "2021-10-21T11:00:09.801873Z"
    },
    "papermill": {
     "duration": 0.921334,
     "end_time": "2021-10-21T11:00:09.802294",
     "exception": false,
     "start_time": "2021-10-21T11:00:08.880960",
     "status": "completed"
    },
    "tags": []
   },
   "outputs": [],
   "source": [
    "df = pd.read_sql(\"select * from EBAY_TOP_BERLIN where record_time in (select distinct record_time from EBAY_TOP_BERLIN order by record_time desc limit 2)\", sqlite3.connect(\"UsedObjects.db\"))"
   ]
  },
  {
   "cell_type": "code",
   "execution_count": 5,
   "id": "popular-active",
   "metadata": {
    "execution": {
     "iopub.execute_input": "2021-10-21T11:00:09.871852Z",
     "iopub.status.busy": "2021-10-21T11:00:09.859715Z",
     "iopub.status.idle": "2021-10-21T11:00:09.887998Z",
     "shell.execute_reply": "2021-10-21T11:00:09.889431Z"
    },
    "papermill": {
     "duration": 0.06664,
     "end_time": "2021-10-21T11:00:09.889843",
     "exception": false,
     "start_time": "2021-10-21T11:00:09.823203",
     "status": "completed"
    },
    "tags": []
   },
   "outputs": [],
   "source": [
    "df_pivot = df.pivot_table(index=\"PRODUCT\", columns = \"RECORD_TIME\", values = \"LISTING_COUNT\")"
   ]
  },
  {
   "cell_type": "code",
   "execution_count": 6,
   "id": "union-huntington",
   "metadata": {
    "execution": {
     "iopub.execute_input": "2021-10-21T11:00:09.948608Z",
     "iopub.status.busy": "2021-10-21T11:00:09.946187Z",
     "iopub.status.idle": "2021-10-21T11:00:09.952008Z",
     "shell.execute_reply": "2021-10-21T11:00:09.953467Z"
    },
    "papermill": {
     "duration": 0.042566,
     "end_time": "2021-10-21T11:00:09.953919",
     "exception": false,
     "start_time": "2021-10-21T11:00:09.911353",
     "status": "completed"
    },
    "tags": []
   },
   "outputs": [],
   "source": [
    "df_pivot.columns = [\"stamp_1\", \"stamp_2\"]\n",
    "df_pivot_diff = df_pivot.diff(axis=1)"
   ]
  },
  {
   "cell_type": "code",
   "execution_count": 7,
   "id": "fifth-motion",
   "metadata": {
    "execution": {
     "iopub.execute_input": "2021-10-21T11:00:10.007901Z",
     "iopub.status.busy": "2021-10-21T11:00:10.005618Z",
     "iopub.status.idle": "2021-10-21T11:00:11.477188Z",
     "shell.execute_reply": "2021-10-21T11:00:11.478808Z"
    },
    "papermill": {
     "duration": 1.504667,
     "end_time": "2021-10-21T11:00:11.479312",
     "exception": false,
     "start_time": "2021-10-21T11:00:09.974645",
     "status": "completed"
    },
    "tags": []
   },
   "outputs": [
    {
     "data": {
      "text/plain": [
       "<AxesSubplot:ylabel='PRODUCT'>"
      ]
     },
     "execution_count": 7,
     "metadata": {},
     "output_type": "execute_result"
    },
    {
     "data": {
      "image/png": "[encoded data removed]",
      "text/plain": [
       "<Figure size 432x288 with 1 Axes>"
      ]
     },
     "metadata": {
      "needs_background": "light"
     },
     "output_type": "display_data"
    }
   ],
   "source": [
    "df_pivot_diff.sort_values(\"stamp_2\", ascending = False)[\"stamp_2\"].head(10).plot.barh()"
   ]
  },
  {
   "cell_type": "code",
   "execution_count": null,
   "id": "extra-executive",
   "metadata": {
    "papermill": {
     "duration": 0.022097,
     "end_time": "2021-10-21T11:00:11.525780",
     "exception": false,
     "start_time": "2021-10-21T11:00:11.503683",
     "status": "completed"
    },
    "tags": []
   },
   "outputs": [],
   "source": []
  }
 ],
 "metadata": {
  "kernelspec": {
   "display_name": "Python 3",
   "language": "python",
   "name": "python3"
  },
  "language_info": {
   "codemirror_mode": {
    "name": "ipython",
    "version": 3
   },
   "file_extension": ".py",
   "mimetype": "text/x-python",
   "name": "python",
   "nbconvert_exporter": "python",
   "pygments_lexer": "ipython3",
   "version": "3.9.5"
  },
  "papermill": {
   "default_parameters": {},
   "duration": 7.338802,
   "end_time": "2021-10-21T11:00:12.169338",
   "environment_variables": {},
   "exception": null,
   "input_path": "eBay_Overview.ipynb",
   "output_path": "eBay_Overview.ipynb",
   "parameters": {},
   "start_time": "2021-10-21T11:00:04.830536",
   "version": "2.3.3"
  }
 },
 "nbformat": 4,
 "nbformat_minor": 5
}