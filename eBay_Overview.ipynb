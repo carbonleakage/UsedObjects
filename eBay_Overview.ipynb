{
 "cells": [
  {
   "cell_type": "code",
   "execution_count": 1,
   "id": "reverse-picking",
   "metadata": {
    "execution": {
     "iopub.execute_input": "2021-09-18T16:00:07.732664Z",
     "iopub.status.busy": "2021-09-18T16:00:07.730692Z",
     "iopub.status.idle": "2021-09-18T16:00:08.533403Z",
     "shell.execute_reply": "2021-09-18T16:00:08.534715Z"
    },
    "papermill": {
     "duration": 0.856304,
     "end_time": "2021-09-18T16:00:08.535414",
     "exception": false,
     "start_time": "2021-09-18T16:00:07.679110",
     "status": "completed"
    },
    "tags": []
   },
   "outputs": [],
   "source": [
    "import pandas as pd\n",
    "import sqlite3"
   ]
  },
  {
   "cell_type": "code",
   "execution_count": 2,
   "id": "innovative-syndrome",
   "metadata": {
    "execution": {
     "iopub.execute_input": "2021-09-18T16:00:08.586352Z",
     "iopub.status.busy": "2021-09-18T16:00:08.584390Z",
     "iopub.status.idle": "2021-09-18T16:00:08.898448Z",
     "shell.execute_reply": "2021-09-18T16:00:08.899745Z"
    },
    "papermill": {
     "duration": 0.34358,
     "end_time": "2021-09-18T16:00:08.900149",
     "exception": false,
     "start_time": "2021-09-18T16:00:08.556569",
     "status": "completed"
    },
    "tags": []
   },
   "outputs": [],
   "source": [
    "timestamps = pd.read_sql(\"select distinct record_time from EBAY_TOP_BERLIN order by record_time desc limit 2\", sqlite3.connect(\"UsedObjects.db\"))"
   ]
  },
  {
   "cell_type": "code",
   "execution_count": 3,
   "id": "periodic-identification",
   "metadata": {
    "execution": {
     "iopub.execute_input": "2021-09-18T16:00:08.964118Z",
     "iopub.status.busy": "2021-09-18T16:00:08.961910Z",
     "iopub.status.idle": "2021-09-18T16:00:08.981754Z",
     "shell.execute_reply": "2021-09-18T16:00:08.983066Z"
    },
    "papermill": {
     "duration": 0.063811,
     "end_time": "2021-09-18T16:00:08.983471",
     "exception": false,
     "start_time": "2021-09-18T16:00:08.919660",
     "status": "completed"
    },
    "tags": []
   },
   "outputs": [
    {
     "data": {
      "text/html": [
       "<div>\n",
       "<style scoped>\n",
       "    .dataframe tbody tr th:only-of-type {\n",
       "        vertical-align: middle;\n",
       "    }\n",
       "\n",
       "    .dataframe tbody tr th {\n",
       "        vertical-align: top;\n",
       "    }\n",
       "\n",
       "    .dataframe thead th {\n",
       "        text-align: right;\n",
       "    }\n",
       "</style>\n",
       "<table border=\"1\" class=\"dataframe\">\n",
       "  <thead>\n",
       "    <tr style=\"text-align: right;\">\n",
       "      <th></th>\n",
       "      <th>RECORD_TIME</th>\n",
       "    </tr>\n",
       "  </thead>\n",
       "  <tbody>\n",
       "    <tr>\n",
       "      <th>0</th>\n",
       "      <td>2021-09-18 18:00</td>\n",
       "    </tr>\n",
       "    <tr>\n",
       "      <th>1</th>\n",
       "      <td>2021-09-18 17:30</td>\n",
       "    </tr>\n",
       "  </tbody>\n",
       "</table>\n",
       "</div>"
      ],
      "text/plain": [
       "        RECORD_TIME\n",
       "0  2021-09-18 18:00\n",
       "1  2021-09-18 17:30"
      ]
     },
     "execution_count": 3,
     "metadata": {},
     "output_type": "execute_result"
    }
   ],
   "source": [
    "timestamps"
   ]
  },
  {
   "cell_type": "code",
   "execution_count": 4,
   "id": "alternate-victory",
   "metadata": {
    "execution": {
     "iopub.execute_input": "2021-09-18T16:00:09.035068Z",
     "iopub.status.busy": "2021-09-18T16:00:09.033035Z",
     "iopub.status.idle": "2021-09-18T16:00:09.520077Z",
     "shell.execute_reply": "2021-09-18T16:00:09.518602Z"
    },
    "papermill": {
     "duration": 0.515395,
     "end_time": "2021-09-18T16:00:09.520432",
     "exception": false,
     "start_time": "2021-09-18T16:00:09.005037",
     "status": "completed"
    },
    "tags": []
   },
   "outputs": [],
   "source": [
    "df = pd.read_sql(\"select * from EBAY_TOP_BERLIN where record_time in (select distinct record_time from EBAY_TOP_BERLIN order by record_time desc limit 2)\", sqlite3.connect(\"UsedObjects.db\"))"
   ]
  },
  {
   "cell_type": "code",
   "execution_count": 5,
   "id": "popular-active",
   "metadata": {
    "execution": {
     "iopub.execute_input": "2021-09-18T16:00:09.600602Z",
     "iopub.status.busy": "2021-09-18T16:00:09.589705Z",
     "iopub.status.idle": "2021-09-18T16:00:09.615969Z",
     "shell.execute_reply": "2021-09-18T16:00:09.617193Z"
    },
    "papermill": {
     "duration": 0.071531,
     "end_time": "2021-09-18T16:00:09.617590",
     "exception": false,
     "start_time": "2021-09-18T16:00:09.546059",
     "status": "completed"
    },
    "tags": []
   },
   "outputs": [],
   "source": [
    "df_pivot = df.pivot_table(index=\"PRODUCT\", columns = \"RECORD_TIME\", values = \"LISTING_COUNT\")"
   ]
  },
  {
   "cell_type": "code",
   "execution_count": 6,
   "id": "union-huntington",
   "metadata": {
    "execution": {
     "iopub.execute_input": "2021-09-18T16:00:09.676764Z",
     "iopub.status.busy": "2021-09-18T16:00:09.674250Z",
     "iopub.status.idle": "2021-09-18T16:00:09.680170Z",
     "shell.execute_reply": "2021-09-18T16:00:09.681463Z"
    },
    "papermill": {
     "duration": 0.042093,
     "end_time": "2021-09-18T16:00:09.681875",
     "exception": false,
     "start_time": "2021-09-18T16:00:09.639782",
     "status": "completed"
    },
    "tags": []
   },
   "outputs": [],
   "source": [
    "df_pivot.columns = [\"stamp_1\", \"stamp_2\"]\n",
    "df_pivot_diff = df_pivot.diff(axis=1)"
   ]
  },
  {
   "cell_type": "code",
   "execution_count": 7,
   "id": "fifth-motion",
   "metadata": {
    "execution": {
     "iopub.execute_input": "2021-09-18T16:00:09.736632Z",
     "iopub.status.busy": "2021-09-18T16:00:09.734134Z",
     "iopub.status.idle": "2021-09-18T16:00:11.223133Z",
     "shell.execute_reply": "2021-09-18T16:00:11.224444Z"
    },
    "papermill": {
     "duration": 1.521513,
     "end_time": "2021-09-18T16:00:11.224857",
     "exception": false,
     "start_time": "2021-09-18T16:00:09.703344",
     "status": "completed"
    },
    "tags": []
   },
   "outputs": [
    {
     "data": {
      "text/plain": [
       "<AxesSubplot:ylabel='PRODUCT'>"
      ]
     },
     "execution_count": 7,
     "metadata": {},
     "output_type": "execute_result"
    },
    {
     "data": {
      "image/png": "[encoded data removed]",
      "text/plain": [
       "<Figure size 432x288 with 1 Axes>"
      ]
     },
     "metadata": {
      "needs_background": "light"
     },
     "output_type": "display_data"
    }
   ],
   "source": [
    "df_pivot_diff.sort_values(\"stamp_2\", ascending = False)[\"stamp_2\"].head(10).plot.barh()"
   ]
  },
  {
   "cell_type": "code",
   "execution_count": null,
   "id": "extra-executive",
   "metadata": {
    "papermill": {
     "duration": 0.022144,
     "end_time": "2021-09-18T16:00:11.271628",
     "exception": false,
     "start_time": "2021-09-18T16:00:11.249484",
     "status": "completed"
    },
    "tags": []
   },
   "outputs": [],
   "source": []
  }
 ],
 "metadata": {
  "kernelspec": {
   "display_name": "Python 3",
   "language": "python",
   "name": "python3"
  },
  "language_info": {
   "codemirror_mode": {
    "name": "ipython",
    "version": 3
   },
   "file_extension": ".py",
   "mimetype": "text/x-python",
   "name": "python",
   "nbconvert_exporter": "python",
   "pygments_lexer": "ipython3",
   "version": "3.9.5"
  },
  "papermill": {
   "default_parameters": {},
   "duration": 6.631325,
   "end_time": "2021-09-18T16:00:11.912374",
   "environment_variables": {},
   "exception": null,
   "input_path": "eBay_Overview.ipynb",
   "output_path": "eBay_Overview.ipynb",
   "parameters": {},
   "start_time": "2021-09-18T16:00:05.281049",
   "version": "2.3.3"
  }
 },
 "nbformat": 4,
 "nbformat_minor": 5
}