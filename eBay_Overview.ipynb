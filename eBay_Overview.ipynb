{
 "cells": [
  {
   "cell_type": "code",
   "execution_count": 1,
   "id": "reverse-picking",
   "metadata": {
    "execution": {
     "iopub.execute_input": "2021-10-26T11:30:06.774488Z",
     "iopub.status.busy": "2021-10-26T11:30:06.772509Z",
     "iopub.status.idle": "2021-10-26T11:30:07.580050Z",
     "shell.execute_reply": "2021-10-26T11:30:07.581355Z"
    },
    "papermill": {
     "duration": 0.858894,
     "end_time": "2021-10-26T11:30:07.581986",
     "exception": false,
     "start_time": "2021-10-26T11:30:06.723092",
     "status": "completed"
    },
    "tags": []
   },
   "outputs": [],
   "source": [
    "import pandas as pd\n",
    "import sqlite3"
   ]
  },
  {
   "cell_type": "code",
   "execution_count": 2,
   "id": "innovative-syndrome",
   "metadata": {
    "execution": {
     "iopub.execute_input": "2021-10-26T11:30:07.632854Z",
     "iopub.status.busy": "2021-10-26T11:30:07.630898Z",
     "iopub.status.idle": "2021-10-26T11:30:08.277109Z",
     "shell.execute_reply": "2021-10-26T11:30:08.278439Z"
    },
    "papermill": {
     "duration": 0.67561,
     "end_time": "2021-10-26T11:30:08.278839",
     "exception": false,
     "start_time": "2021-10-26T11:30:07.603229",
     "status": "completed"
    },
    "tags": []
   },
   "outputs": [],
   "source": [
    "timestamps = pd.read_sql(\"select distinct record_time from EBAY_TOP_BERLIN order by record_time desc limit 2\", sqlite3.connect(\"UsedObjects.db\"))"
   ]
  },
  {
   "cell_type": "code",
   "execution_count": 3,
   "id": "periodic-identification",
   "metadata": {
    "execution": {
     "iopub.execute_input": "2021-10-26T11:30:08.352652Z",
     "iopub.status.busy": "2021-10-26T11:30:08.350674Z",
     "iopub.status.idle": "2021-10-26T11:30:08.370938Z",
     "shell.execute_reply": "2021-10-26T11:30:08.372214Z"
    },
    "papermill": {
     "duration": 0.068807,
     "end_time": "2021-10-26T11:30:08.372625",
     "exception": false,
     "start_time": "2021-10-26T11:30:08.303818",
     "status": "completed"
    },
    "tags": []
   },
   "outputs": [
    {
     "data": {
      "text/html": [
       "<div>\n",
       "<style scoped>\n",
       "    .dataframe tbody tr th:only-of-type {\n",
       "        vertical-align: middle;\n",
       "    }\n",
       "\n",
       "    .dataframe tbody tr th {\n",
       "        vertical-align: top;\n",
       "    }\n",
       "\n",
       "    .dataframe thead th {\n",
       "        text-align: right;\n",
       "    }\n",
       "</style>\n",
       "<table border=\"1\" class=\"dataframe\">\n",
       "  <thead>\n",
       "    <tr style=\"text-align: right;\">\n",
       "      <th></th>\n",
       "      <th>RECORD_TIME</th>\n",
       "    </tr>\n",
       "  </thead>\n",
       "  <tbody>\n",
       "    <tr>\n",
       "      <th>0</th>\n",
       "      <td>2021-10-26 13:30</td>\n",
       "    </tr>\n",
       "    <tr>\n",
       "      <th>1</th>\n",
       "      <td>2021-10-26 13:00</td>\n",
       "    </tr>\n",
       "  </tbody>\n",
       "</table>\n",
       "</div>"
      ],
      "text/plain": [
       "        RECORD_TIME\n",
       "0  2021-10-26 13:30\n",
       "1  2021-10-26 13:00"
      ]
     },
     "execution_count": 3,
     "metadata": {},
     "output_type": "execute_result"
    }
   ],
   "source": [
    "timestamps"
   ]
  },
  {
   "cell_type": "code",
   "execution_count": 4,
   "id": "alternate-victory",
   "metadata": {
    "execution": {
     "iopub.execute_input": "2021-10-26T11:30:08.423788Z",
     "iopub.status.busy": "2021-10-26T11:30:08.421947Z",
     "iopub.status.idle": "2021-10-26T11:30:09.362959Z",
     "shell.execute_reply": "2021-10-26T11:30:09.364231Z"
    },
    "papermill": {
     "duration": 0.970788,
     "end_time": "2021-10-26T11:30:09.364647",
     "exception": false,
     "start_time": "2021-10-26T11:30:08.393859",
     "status": "completed"
    },
    "tags": []
   },
   "outputs": [],
   "source": [
    "df = pd.read_sql(\"select * from EBAY_TOP_BERLIN where record_time in (select distinct record_time from EBAY_TOP_BERLIN order by record_time desc limit 2)\", sqlite3.connect(\"UsedObjects.db\"))"
   ]
  },
  {
   "cell_type": "code",
   "execution_count": 5,
   "id": "popular-active",
   "metadata": {
    "execution": {
     "iopub.execute_input": "2021-10-26T11:30:09.433241Z",
     "iopub.status.busy": "2021-10-26T11:30:09.422327Z",
     "iopub.status.idle": "2021-10-26T11:30:09.449803Z",
     "shell.execute_reply": "2021-10-26T11:30:09.451076Z"
    },
    "papermill": {
     "duration": 0.066686,
     "end_time": "2021-10-26T11:30:09.451472",
     "exception": false,
     "start_time": "2021-10-26T11:30:09.384786",
     "status": "completed"
    },
    "tags": []
   },
   "outputs": [],
   "source": [
    "df_pivot = df.pivot_table(index=\"PRODUCT\", columns = \"RECORD_TIME\", values = \"LISTING_COUNT\")"
   ]
  },
  {
   "cell_type": "code",
   "execution_count": 6,
   "id": "union-huntington",
   "metadata": {
    "execution": {
     "iopub.execute_input": "2021-10-26T11:30:09.507182Z",
     "iopub.status.busy": "2021-10-26T11:30:09.505035Z",
     "iopub.status.idle": "2021-10-26T11:30:09.510492Z",
     "shell.execute_reply": "2021-10-26T11:30:09.511846Z"
    },
    "papermill": {
     "duration": 0.040844,
     "end_time": "2021-10-26T11:30:09.512279",
     "exception": false,
     "start_time": "2021-10-26T11:30:09.471435",
     "status": "completed"
    },
    "tags": []
   },
   "outputs": [],
   "source": [
    "df_pivot.columns = [\"stamp_1\", \"stamp_2\"]\n",
    "df_pivot_diff = df_pivot.diff(axis=1)"
   ]
  },
  {
   "cell_type": "code",
   "execution_count": 7,
   "id": "fifth-motion",
   "metadata": {
    "execution": {
     "iopub.execute_input": "2021-10-26T11:30:09.568953Z",
     "iopub.status.busy": "2021-10-26T11:30:09.566249Z",
     "iopub.status.idle": "2021-10-26T11:30:11.066840Z",
     "shell.execute_reply": "2021-10-26T11:30:11.068104Z"
    },
    "papermill": {
     "duration": 1.534089,
     "end_time": "2021-10-26T11:30:11.068523",
     "exception": false,
     "start_time": "2021-10-26T11:30:09.534434",
     "status": "completed"
    },
    "tags": []
   },
   "outputs": [
    {
     "data": {
      "text/plain": [
       "<AxesSubplot:ylabel='PRODUCT'>"
      ]
     },
     "execution_count": 7,
     "metadata": {},
     "output_type": "execute_result"
    },
    {
     "data": {
      "image/png": "[encoded data removed]",
      "text/plain": [
       "<Figure size 432x288 with 1 Axes>"
      ]
     },
     "metadata": {
      "needs_background": "light"
     },
     "output_type": "display_data"
    }
   ],
   "source": [
    "df_pivot_diff.sort_values(\"stamp_2\", ascending = False)[\"stamp_2\"].head(10).plot.barh()"
   ]
  },
  {
   "cell_type": "code",
   "execution_count": null,
   "id": "extra-executive",
   "metadata": {
    "papermill": {
     "duration": 0.0222,
     "end_time": "2021-10-26T11:30:11.116919",
     "exception": false,
     "start_time": "2021-10-26T11:30:11.094719",
     "status": "completed"
    },
    "tags": []
   },
   "outputs": [],
   "source": []
  }
 ],
 "metadata": {
  "kernelspec": {
   "display_name": "Python 3",
   "language": "python",
   "name": "python3"
  },
  "language_info": {
   "codemirror_mode": {
    "name": "ipython",
    "version": 3
   },
   "file_extension": ".py",
   "mimetype": "text/x-python",
   "name": "python",
   "nbconvert_exporter": "python",
   "pygments_lexer": "ipython3",
   "version": "3.9.5"
  },
  "papermill": {
   "default_parameters": {},
   "duration": 7.441026,
   "end_time": "2021-10-26T11:30:11.759099",
   "environment_variables": {},
   "exception": null,
   "input_path": "eBay_Overview.ipynb",
   "output_path": "eBay_Overview.ipynb",
   "parameters": {},
   "start_time": "2021-10-26T11:30:04.318073",
   "version": "2.3.3"
  }
 },
 "nbformat": 4,
 "nbformat_minor": 5
}