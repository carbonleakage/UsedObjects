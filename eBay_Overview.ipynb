{
 "cells": [
  {
   "cell_type": "code",
   "execution_count": 1,
   "id": "reverse-picking",
   "metadata": {
    "execution": {
     "iopub.execute_input": "2021-11-09T20:00:07.949394Z",
     "iopub.status.busy": "2021-11-09T20:00:07.946959Z",
     "iopub.status.idle": "2021-11-09T20:00:08.912074Z",
     "shell.execute_reply": "2021-11-09T20:00:08.913733Z"
    },
    "papermill": {
     "duration": 1.013661,
     "end_time": "2021-11-09T20:00:08.914480",
     "exception": false,
     "start_time": "2021-11-09T20:00:07.900819",
     "status": "completed"
    },
    "tags": []
   },
   "outputs": [],
   "source": [
    "import pandas as pd\n",
    "import sqlite3"
   ]
  },
  {
   "cell_type": "code",
   "execution_count": 2,
   "id": "innovative-syndrome",
   "metadata": {
    "execution": {
     "iopub.execute_input": "2021-11-09T20:00:08.975272Z",
     "iopub.status.busy": "2021-11-09T20:00:08.972992Z",
     "iopub.status.idle": "2021-11-09T20:00:09.742574Z",
     "shell.execute_reply": "2021-11-09T20:00:09.743970Z"
    },
    "papermill": {
     "duration": 0.802801,
     "end_time": "2021-11-09T20:00:09.744452",
     "exception": false,
     "start_time": "2021-11-09T20:00:08.941651",
     "status": "completed"
    },
    "tags": []
   },
   "outputs": [],
   "source": [
    "timestamps = pd.read_sql(\"select distinct record_time from EBAY_TOP_BERLIN order by record_time desc limit 2\", sqlite3.connect(\"UsedObjects.db\"))"
   ]
  },
  {
   "cell_type": "code",
   "execution_count": 3,
   "id": "periodic-identification",
   "metadata": {
    "execution": {
     "iopub.execute_input": "2021-11-09T20:00:09.814335Z",
     "iopub.status.busy": "2021-11-09T20:00:09.811948Z",
     "iopub.status.idle": "2021-11-09T20:00:09.834247Z",
     "shell.execute_reply": "2021-11-09T20:00:09.835795Z"
    },
    "papermill": {
     "duration": 0.07236,
     "end_time": "2021-11-09T20:00:09.836293",
     "exception": false,
     "start_time": "2021-11-09T20:00:09.763933",
     "status": "completed"
    },
    "tags": []
   },
   "outputs": [
    {
     "data": {
      "text/html": [
       "<div>\n",
       "<style scoped>\n",
       "    .dataframe tbody tr th:only-of-type {\n",
       "        vertical-align: middle;\n",
       "    }\n",
       "\n",
       "    .dataframe tbody tr th {\n",
       "        vertical-align: top;\n",
       "    }\n",
       "\n",
       "    .dataframe thead th {\n",
       "        text-align: right;\n",
       "    }\n",
       "</style>\n",
       "<table border=\"1\" class=\"dataframe\">\n",
       "  <thead>\n",
       "    <tr style=\"text-align: right;\">\n",
       "      <th></th>\n",
       "      <th>RECORD_TIME</th>\n",
       "    </tr>\n",
       "  </thead>\n",
       "  <tbody>\n",
       "    <tr>\n",
       "      <th>0</th>\n",
       "      <td>2021-11-09 21:00</td>\n",
       "    </tr>\n",
       "    <tr>\n",
       "      <th>1</th>\n",
       "      <td>2021-11-09 20:30</td>\n",
       "    </tr>\n",
       "  </tbody>\n",
       "</table>\n",
       "</div>"
      ],
      "text/plain": [
       "        RECORD_TIME\n",
       "0  2021-11-09 21:00\n",
       "1  2021-11-09 20:30"
      ]
     },
     "execution_count": 3,
     "metadata": {},
     "output_type": "execute_result"
    }
   ],
   "source": [
    "timestamps"
   ]
  },
  {
   "cell_type": "code",
   "execution_count": 4,
   "id": "alternate-victory",
   "metadata": {
    "execution": {
     "iopub.execute_input": "2021-11-09T20:00:09.892252Z",
     "iopub.status.busy": "2021-11-09T20:00:09.890069Z",
     "iopub.status.idle": "2021-11-09T20:00:11.025759Z",
     "shell.execute_reply": "2021-11-09T20:00:11.027418Z"
    },
    "papermill": {
     "duration": 1.169946,
     "end_time": "2021-11-09T20:00:11.027922",
     "exception": false,
     "start_time": "2021-11-09T20:00:09.857976",
     "status": "completed"
    },
    "tags": []
   },
   "outputs": [],
   "source": [
    "df = pd.read_sql(\"select * from EBAY_TOP_BERLIN where record_time in (select distinct record_time from EBAY_TOP_BERLIN order by record_time desc limit 2)\", sqlite3.connect(\"UsedObjects.db\"))"
   ]
  },
  {
   "cell_type": "code",
   "execution_count": 5,
   "id": "popular-active",
   "metadata": {
    "execution": {
     "iopub.execute_input": "2021-11-09T20:00:11.096308Z",
     "iopub.status.busy": "2021-11-09T20:00:11.093764Z",
     "iopub.status.idle": "2021-11-09T20:00:11.127659Z",
     "shell.execute_reply": "2021-11-09T20:00:11.129477Z"
    },
    "papermill": {
     "duration": 0.077867,
     "end_time": "2021-11-09T20:00:11.129988",
     "exception": false,
     "start_time": "2021-11-09T20:00:11.052121",
     "status": "completed"
    },
    "tags": []
   },
   "outputs": [],
   "source": [
    "df_pivot = df.pivot_table(index=\"PRODUCT\", columns = \"RECORD_TIME\", values = \"LISTING_COUNT\")"
   ]
  },
  {
   "cell_type": "code",
   "execution_count": 6,
   "id": "union-huntington",
   "metadata": {
    "execution": {
     "iopub.execute_input": "2021-11-09T20:00:11.188611Z",
     "iopub.status.busy": "2021-11-09T20:00:11.186431Z",
     "iopub.status.idle": "2021-11-09T20:00:11.192155Z",
     "shell.execute_reply": "2021-11-09T20:00:11.193585Z"
    },
    "papermill": {
     "duration": 0.04315,
     "end_time": "2021-11-09T20:00:11.194065",
     "exception": false,
     "start_time": "2021-11-09T20:00:11.150915",
     "status": "completed"
    },
    "tags": []
   },
   "outputs": [],
   "source": [
    "df_pivot.columns = [\"stamp_1\", \"stamp_2\"]\n",
    "df_pivot_diff = df_pivot.diff(axis=1)"
   ]
  },
  {
   "cell_type": "code",
   "execution_count": 7,
   "id": "fifth-motion",
   "metadata": {
    "execution": {
     "iopub.execute_input": "2021-11-09T20:00:11.259817Z",
     "iopub.status.busy": "2021-11-09T20:00:11.248970Z",
     "iopub.status.idle": "2021-11-09T20:00:12.999523Z",
     "shell.execute_reply": "2021-11-09T20:00:13.002328Z"
    },
    "papermill": {
     "duration": 1.788327,
     "end_time": "2021-11-09T20:00:13.003161",
     "exception": false,
     "start_time": "2021-11-09T20:00:11.214834",
     "status": "completed"
    },
    "tags": []
   },
   "outputs": [
    {
     "data": {
      "text/plain": [
       "<AxesSubplot:ylabel='PRODUCT'>"
      ]
     },
     "execution_count": 7,
     "metadata": {},
     "output_type": "execute_result"
    },
    {
     "data": {
      "image/png": "[encoded data removed]",
      "text/plain": [
       "<Figure size 432x288 with 1 Axes>"
      ]
     },
     "metadata": {
      "needs_background": "light"
     },
     "output_type": "display_data"
    }
   ],
   "source": [
    "df_pivot_diff.sort_values(\"stamp_2\", ascending = False)[\"stamp_2\"].head(10).plot.barh()"
   ]
  },
  {
   "cell_type": "code",
   "execution_count": null,
   "id": "extra-executive",
   "metadata": {
    "papermill": {
     "duration": 0.034861,
     "end_time": "2021-11-09T20:00:13.075407",
     "exception": false,
     "start_time": "2021-11-09T20:00:13.040546",
     "status": "completed"
    },
    "tags": []
   },
   "outputs": [],
   "source": []
  }
 ],
 "metadata": {
  "kernelspec": {
   "display_name": "Python 3",
   "language": "python",
   "name": "python3"
  },
  "language_info": {
   "codemirror_mode": {
    "name": "ipython",
    "version": 3
   },
   "file_extension": ".py",
   "mimetype": "text/x-python",
   "name": "python",
   "nbconvert_exporter": "python",
   "pygments_lexer": "ipython3",
   "version": "3.9.5"
  },
  "papermill": {
   "default_parameters": {},
   "duration": 8.801134,
   "end_time": "2021-11-09T20:00:13.953628",
   "environment_variables": {},
   "exception": null,
   "input_path": "eBay_Overview.ipynb",
   "output_path": "eBay_Overview.ipynb",
   "parameters": {},
   "start_time": "2021-11-09T20:00:05.152494",
   "version": "2.3.3"
  }
 },
 "nbformat": 4,
 "nbformat_minor": 5
}