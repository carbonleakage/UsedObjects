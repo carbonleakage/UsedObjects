{
 "cells": [
  {
   "cell_type": "code",
   "execution_count": 1,
   "id": "reverse-picking",
   "metadata": {
    "execution": {
     "iopub.execute_input": "2021-11-12T18:30:07.676289Z",
     "iopub.status.busy": "2021-11-12T18:30:07.673621Z",
     "iopub.status.idle": "2021-11-12T18:30:08.616381Z",
     "shell.execute_reply": "2021-11-12T18:30:08.618128Z"
    },
    "papermill": {
     "duration": 0.992997,
     "end_time": "2021-11-12T18:30:08.618866",
     "exception": false,
     "start_time": "2021-11-12T18:30:07.625869",
     "status": "completed"
    },
    "tags": []
   },
   "outputs": [],
   "source": [
    "import pandas as pd\n",
    "import sqlite3"
   ]
  },
  {
   "cell_type": "code",
   "execution_count": 2,
   "id": "innovative-syndrome",
   "metadata": {
    "execution": {
     "iopub.execute_input": "2021-11-12T18:30:08.682853Z",
     "iopub.status.busy": "2021-11-12T18:30:08.680542Z",
     "iopub.status.idle": "2021-11-12T18:30:09.494661Z",
     "shell.execute_reply": "2021-11-12T18:30:09.496081Z"
    },
    "papermill": {
     "duration": 0.847319,
     "end_time": "2021-11-12T18:30:09.496585",
     "exception": false,
     "start_time": "2021-11-12T18:30:08.649266",
     "status": "completed"
    },
    "tags": []
   },
   "outputs": [],
   "source": [
    "timestamps = pd.read_sql(\"select distinct record_time from EBAY_TOP_BERLIN order by record_time desc limit 2\", sqlite3.connect(\"UsedObjects.db\"))"
   ]
  },
  {
   "cell_type": "code",
   "execution_count": 3,
   "id": "periodic-identification",
   "metadata": {
    "execution": {
     "iopub.execute_input": "2021-11-12T18:30:09.571489Z",
     "iopub.status.busy": "2021-11-12T18:30:09.565373Z",
     "iopub.status.idle": "2021-11-12T18:30:09.591371Z",
     "shell.execute_reply": "2021-11-12T18:30:09.593180Z"
    },
    "papermill": {
     "duration": 0.076934,
     "end_time": "2021-11-12T18:30:09.593716",
     "exception": false,
     "start_time": "2021-11-12T18:30:09.516782",
     "status": "completed"
    },
    "tags": []
   },
   "outputs": [
    {
     "data": {
      "text/html": [
       "<div>\n",
       "<style scoped>\n",
       "    .dataframe tbody tr th:only-of-type {\n",
       "        vertical-align: middle;\n",
       "    }\n",
       "\n",
       "    .dataframe tbody tr th {\n",
       "        vertical-align: top;\n",
       "    }\n",
       "\n",
       "    .dataframe thead th {\n",
       "        text-align: right;\n",
       "    }\n",
       "</style>\n",
       "<table border=\"1\" class=\"dataframe\">\n",
       "  <thead>\n",
       "    <tr style=\"text-align: right;\">\n",
       "      <th></th>\n",
       "      <th>RECORD_TIME</th>\n",
       "    </tr>\n",
       "  </thead>\n",
       "  <tbody>\n",
       "    <tr>\n",
       "      <th>0</th>\n",
       "      <td>2021-11-12 19:30</td>\n",
       "    </tr>\n",
       "    <tr>\n",
       "      <th>1</th>\n",
       "      <td>2021-11-12 19:00</td>\n",
       "    </tr>\n",
       "  </tbody>\n",
       "</table>\n",
       "</div>"
      ],
      "text/plain": [
       "        RECORD_TIME\n",
       "0  2021-11-12 19:30\n",
       "1  2021-11-12 19:00"
      ]
     },
     "execution_count": 3,
     "metadata": {},
     "output_type": "execute_result"
    }
   ],
   "source": [
    "timestamps"
   ]
  },
  {
   "cell_type": "code",
   "execution_count": 4,
   "id": "alternate-victory",
   "metadata": {
    "execution": {
     "iopub.execute_input": "2021-11-12T18:30:09.647875Z",
     "iopub.status.busy": "2021-11-12T18:30:09.645782Z",
     "iopub.status.idle": "2021-11-12T18:30:10.812209Z",
     "shell.execute_reply": "2021-11-12T18:30:10.814758Z"
    },
    "papermill": {
     "duration": 1.201279,
     "end_time": "2021-11-12T18:30:10.815598",
     "exception": false,
     "start_time": "2021-11-12T18:30:09.614319",
     "status": "completed"
    },
    "tags": []
   },
   "outputs": [],
   "source": [
    "df = pd.read_sql(\"select * from EBAY_TOP_BERLIN where record_time in (select distinct record_time from EBAY_TOP_BERLIN order by record_time desc limit 2)\", sqlite3.connect(\"UsedObjects.db\"))"
   ]
  },
  {
   "cell_type": "code",
   "execution_count": 5,
   "id": "popular-active",
   "metadata": {
    "execution": {
     "iopub.execute_input": "2021-11-12T18:30:10.885940Z",
     "iopub.status.busy": "2021-11-12T18:30:10.883433Z",
     "iopub.status.idle": "2021-11-12T18:30:10.918503Z",
     "shell.execute_reply": "2021-11-12T18:30:10.917000Z"
    },
    "papermill": {
     "duration": 0.07903,
     "end_time": "2021-11-12T18:30:10.918887",
     "exception": false,
     "start_time": "2021-11-12T18:30:10.839857",
     "status": "completed"
    },
    "tags": []
   },
   "outputs": [],
   "source": [
    "df_pivot = df.pivot_table(index=\"PRODUCT\", columns = \"RECORD_TIME\", values = \"LISTING_COUNT\")"
   ]
  },
  {
   "cell_type": "code",
   "execution_count": 6,
   "id": "union-huntington",
   "metadata": {
    "execution": {
     "iopub.execute_input": "2021-11-12T18:30:10.977292Z",
     "iopub.status.busy": "2021-11-12T18:30:10.974958Z",
     "iopub.status.idle": "2021-11-12T18:30:10.981934Z",
     "shell.execute_reply": "2021-11-12T18:30:10.980309Z"
    },
    "papermill": {
     "duration": 0.043403,
     "end_time": "2021-11-12T18:30:10.982321",
     "exception": false,
     "start_time": "2021-11-12T18:30:10.938918",
     "status": "completed"
    },
    "tags": []
   },
   "outputs": [],
   "source": [
    "df_pivot.columns = [\"stamp_1\", \"stamp_2\"]\n",
    "df_pivot_diff = df_pivot.diff(axis=1)"
   ]
  },
  {
   "cell_type": "code",
   "execution_count": 7,
   "id": "fifth-motion",
   "metadata": {
    "execution": {
     "iopub.execute_input": "2021-11-12T18:30:11.042991Z",
     "iopub.status.busy": "2021-11-12T18:30:11.039333Z",
     "iopub.status.idle": "2021-11-12T18:30:12.925204Z",
     "shell.execute_reply": "2021-11-12T18:30:12.923419Z"
    },
    "papermill": {
     "duration": 1.922049,
     "end_time": "2021-11-12T18:30:12.925617",
     "exception": false,
     "start_time": "2021-11-12T18:30:11.003568",
     "status": "completed"
    },
    "tags": []
   },
   "outputs": [
    {
     "data": {
      "text/plain": [
       "<AxesSubplot:ylabel='PRODUCT'>"
      ]
     },
     "execution_count": 7,
     "metadata": {},
     "output_type": "execute_result"
    },
    {
     "data": {
      "image/png": "[encoded data removed]",
      "text/plain": [
       "<Figure size 432x288 with 1 Axes>"
      ]
     },
     "metadata": {
      "needs_background": "light"
     },
     "output_type": "display_data"
    }
   ],
   "source": [
    "df_pivot_diff.sort_values(\"stamp_2\", ascending = False)[\"stamp_2\"].head(10).plot.barh()"
   ]
  },
  {
   "cell_type": "code",
   "execution_count": null,
   "id": "extra-executive",
   "metadata": {
    "papermill": {
     "duration": 0.023294,
     "end_time": "2021-11-12T18:30:12.973078",
     "exception": false,
     "start_time": "2021-11-12T18:30:12.949784",
     "status": "completed"
    },
    "tags": []
   },
   "outputs": [],
   "source": []
  }
 ],
 "metadata": {
  "kernelspec": {
   "display_name": "Python 3",
   "language": "python",
   "name": "python3"
  },
  "language_info": {
   "codemirror_mode": {
    "name": "ipython",
    "version": 3
   },
   "file_extension": ".py",
   "mimetype": "text/x-python",
   "name": "python",
   "nbconvert_exporter": "python",
   "pygments_lexer": "ipython3",
   "version": "3.9.5"
  },
  "papermill": {
   "default_parameters": {},
   "duration": 8.902777,
   "end_time": "2021-11-12T18:30:13.820205",
   "environment_variables": {},
   "exception": null,
   "input_path": "eBay_Overview.ipynb",
   "output_path": "eBay_Overview.ipynb",
   "parameters": {},
   "start_time": "2021-11-12T18:30:04.917428",
   "version": "2.3.3"
  }
 },
 "nbformat": 4,
 "nbformat_minor": 5
}