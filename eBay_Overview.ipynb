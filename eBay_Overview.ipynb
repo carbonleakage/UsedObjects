{
 "cells": [
  {
   "cell_type": "code",
   "execution_count": 1,
   "id": "reverse-picking",
   "metadata": {
    "execution": {
     "iopub.execute_input": "2021-09-30T12:00:07.468737Z",
     "iopub.status.busy": "2021-09-30T12:00:07.466754Z",
     "iopub.status.idle": "2021-09-30T12:00:08.276798Z",
     "shell.execute_reply": "2021-09-30T12:00:08.278034Z"
    },
    "papermill": {
     "duration": 0.861991,
     "end_time": "2021-09-30T12:00:08.278642",
     "exception": false,
     "start_time": "2021-09-30T12:00:07.416651",
     "status": "completed"
    },
    "tags": []
   },
   "outputs": [],
   "source": [
    "import pandas as pd\n",
    "import sqlite3"
   ]
  },
  {
   "cell_type": "code",
   "execution_count": 2,
   "id": "innovative-syndrome",
   "metadata": {
    "execution": {
     "iopub.execute_input": "2021-09-30T12:00:08.331943Z",
     "iopub.status.busy": "2021-09-30T12:00:08.329526Z",
     "iopub.status.idle": "2021-09-30T12:00:08.739252Z",
     "shell.execute_reply": "2021-09-30T12:00:08.740569Z"
    },
    "papermill": {
     "duration": 0.439792,
     "end_time": "2021-09-30T12:00:08.740964",
     "exception": false,
     "start_time": "2021-09-30T12:00:08.301172",
     "status": "completed"
    },
    "tags": []
   },
   "outputs": [],
   "source": [
    "timestamps = pd.read_sql(\"select distinct record_time from EBAY_TOP_BERLIN order by record_time desc limit 2\", sqlite3.connect(\"UsedObjects.db\"))"
   ]
  },
  {
   "cell_type": "code",
   "execution_count": 3,
   "id": "periodic-identification",
   "metadata": {
    "execution": {
     "iopub.execute_input": "2021-09-30T12:00:08.805712Z",
     "iopub.status.busy": "2021-09-30T12:00:08.803730Z",
     "iopub.status.idle": "2021-09-30T12:00:08.823445Z",
     "shell.execute_reply": "2021-09-30T12:00:08.825312Z"
    },
    "papermill": {
     "duration": 0.064772,
     "end_time": "2021-09-30T12:00:08.825881",
     "exception": false,
     "start_time": "2021-09-30T12:00:08.761109",
     "status": "completed"
    },
    "tags": []
   },
   "outputs": [
    {
     "data": {
      "text/html": [
       "<div>\n",
       "<style scoped>\n",
       "    .dataframe tbody tr th:only-of-type {\n",
       "        vertical-align: middle;\n",
       "    }\n",
       "\n",
       "    .dataframe tbody tr th {\n",
       "        vertical-align: top;\n",
       "    }\n",
       "\n",
       "    .dataframe thead th {\n",
       "        text-align: right;\n",
       "    }\n",
       "</style>\n",
       "<table border=\"1\" class=\"dataframe\">\n",
       "  <thead>\n",
       "    <tr style=\"text-align: right;\">\n",
       "      <th></th>\n",
       "      <th>RECORD_TIME</th>\n",
       "    </tr>\n",
       "  </thead>\n",
       "  <tbody>\n",
       "    <tr>\n",
       "      <th>0</th>\n",
       "      <td>2021-09-30 14:00</td>\n",
       "    </tr>\n",
       "    <tr>\n",
       "      <th>1</th>\n",
       "      <td>2021-09-30 13:30</td>\n",
       "    </tr>\n",
       "  </tbody>\n",
       "</table>\n",
       "</div>"
      ],
      "text/plain": [
       "        RECORD_TIME\n",
       "0  2021-09-30 14:00\n",
       "1  2021-09-30 13:30"
      ]
     },
     "execution_count": 3,
     "metadata": {},
     "output_type": "execute_result"
    }
   ],
   "source": [
    "timestamps"
   ]
  },
  {
   "cell_type": "code",
   "execution_count": 4,
   "id": "alternate-victory",
   "metadata": {
    "execution": {
     "iopub.execute_input": "2021-09-30T12:00:08.877126Z",
     "iopub.status.busy": "2021-09-30T12:00:08.875318Z",
     "iopub.status.idle": "2021-09-30T12:00:09.480647Z",
     "shell.execute_reply": "2021-09-30T12:00:09.481921Z"
    },
    "papermill": {
     "duration": 0.635377,
     "end_time": "2021-09-30T12:00:09.482325",
     "exception": false,
     "start_time": "2021-09-30T12:00:08.846948",
     "status": "completed"
    },
    "tags": []
   },
   "outputs": [],
   "source": [
    "df = pd.read_sql(\"select * from EBAY_TOP_BERLIN where record_time in (select distinct record_time from EBAY_TOP_BERLIN order by record_time desc limit 2)\", sqlite3.connect(\"UsedObjects.db\"))"
   ]
  },
  {
   "cell_type": "code",
   "execution_count": 5,
   "id": "popular-active",
   "metadata": {
    "execution": {
     "iopub.execute_input": "2021-09-30T12:00:09.563070Z",
     "iopub.status.busy": "2021-09-30T12:00:09.550367Z",
     "iopub.status.idle": "2021-09-30T12:00:09.578987Z",
     "shell.execute_reply": "2021-09-30T12:00:09.580277Z"
    },
    "papermill": {
     "duration": 0.072719,
     "end_time": "2021-09-30T12:00:09.580687",
     "exception": false,
     "start_time": "2021-09-30T12:00:09.507968",
     "status": "completed"
    },
    "tags": []
   },
   "outputs": [],
   "source": [
    "df_pivot = df.pivot_table(index=\"PRODUCT\", columns = \"RECORD_TIME\", values = \"LISTING_COUNT\")"
   ]
  },
  {
   "cell_type": "code",
   "execution_count": 6,
   "id": "union-huntington",
   "metadata": {
    "execution": {
     "iopub.execute_input": "2021-09-30T12:00:09.641086Z",
     "iopub.status.busy": "2021-09-30T12:00:09.638604Z",
     "iopub.status.idle": "2021-09-30T12:00:09.644598Z",
     "shell.execute_reply": "2021-09-30T12:00:09.645775Z"
    },
    "papermill": {
     "duration": 0.041855,
     "end_time": "2021-09-30T12:00:09.646199",
     "exception": false,
     "start_time": "2021-09-30T12:00:09.604344",
     "status": "completed"
    },
    "tags": []
   },
   "outputs": [],
   "source": [
    "df_pivot.columns = [\"stamp_1\", \"stamp_2\"]\n",
    "df_pivot_diff = df_pivot.diff(axis=1)"
   ]
  },
  {
   "cell_type": "code",
   "execution_count": 7,
   "id": "fifth-motion",
   "metadata": {
    "execution": {
     "iopub.execute_input": "2021-09-30T12:00:09.700367Z",
     "iopub.status.busy": "2021-09-30T12:00:09.697928Z",
     "iopub.status.idle": "2021-09-30T12:00:11.218957Z",
     "shell.execute_reply": "2021-09-30T12:00:11.220168Z"
    },
    "papermill": {
     "duration": 1.553843,
     "end_time": "2021-09-30T12:00:11.220597",
     "exception": false,
     "start_time": "2021-09-30T12:00:09.666754",
     "status": "completed"
    },
    "tags": []
   },
   "outputs": [
    {
     "data": {
      "text/plain": [
       "<AxesSubplot:ylabel='PRODUCT'>"
      ]
     },
     "execution_count": 7,
     "metadata": {},
     "output_type": "execute_result"
    },
    {
     "data": {
      "image/png": "[encoded data removed]",
      "text/plain": [
       "<Figure size 432x288 with 1 Axes>"
      ]
     },
     "metadata": {
      "needs_background": "light"
     },
     "output_type": "display_data"
    }
   ],
   "source": [
    "df_pivot_diff.sort_values(\"stamp_2\", ascending = False)[\"stamp_2\"].head(10).plot.barh()"
   ]
  },
  {
   "cell_type": "code",
   "execution_count": null,
   "id": "extra-executive",
   "metadata": {
    "papermill": {
     "duration": 0.022097,
     "end_time": "2021-09-30T12:00:11.268941",
     "exception": false,
     "start_time": "2021-09-30T12:00:11.246844",
     "status": "completed"
    },
    "tags": []
   },
   "outputs": [],
   "source": []
  }
 ],
 "metadata": {
  "kernelspec": {
   "display_name": "Python 3",
   "language": "python",
   "name": "python3"
  },
  "language_info": {
   "codemirror_mode": {
    "name": "ipython",
    "version": 3
   },
   "file_extension": ".py",
   "mimetype": "text/x-python",
   "name": "python",
   "nbconvert_exporter": "python",
   "pygments_lexer": "ipython3",
   "version": "3.9.5"
  },
  "papermill": {
   "default_parameters": {},
   "duration": 7.829201,
   "end_time": "2021-09-30T12:00:12.837361",
   "environment_variables": {},
   "exception": null,
   "input_path": "eBay_Overview.ipynb",
   "output_path": "eBay_Overview.ipynb",
   "parameters": {},
   "start_time": "2021-09-30T12:00:05.008160",
   "version": "2.3.3"
  }
 },
 "nbformat": 4,
 "nbformat_minor": 5
}