{
 "cells": [
  {
   "cell_type": "code",
   "execution_count": 1,
   "id": "reverse-picking",
   "metadata": {
    "execution": {
     "iopub.execute_input": "2021-10-30T06:00:07.266567Z",
     "iopub.status.busy": "2021-10-30T06:00:07.264551Z",
     "iopub.status.idle": "2021-10-30T06:00:08.070528Z",
     "shell.execute_reply": "2021-10-30T06:00:08.071754Z"
    },
    "papermill": {
     "duration": 0.856865,
     "end_time": "2021-10-30T06:00:08.072373",
     "exception": false,
     "start_time": "2021-10-30T06:00:07.215508",
     "status": "completed"
    },
    "tags": []
   },
   "outputs": [],
   "source": [
    "import pandas as pd\n",
    "import sqlite3"
   ]
  },
  {
   "cell_type": "code",
   "execution_count": 2,
   "id": "innovative-syndrome",
   "metadata": {
    "execution": {
     "iopub.execute_input": "2021-10-30T06:00:08.126369Z",
     "iopub.status.busy": "2021-10-30T06:00:08.123743Z",
     "iopub.status.idle": "2021-10-30T06:00:08.804893Z",
     "shell.execute_reply": "2021-10-30T06:00:08.806273Z"
    },
    "papermill": {
     "duration": 0.711603,
     "end_time": "2021-10-30T06:00:08.806718",
     "exception": false,
     "start_time": "2021-10-30T06:00:08.095115",
     "status": "completed"
    },
    "tags": []
   },
   "outputs": [],
   "source": [
    "timestamps = pd.read_sql(\"select distinct record_time from EBAY_TOP_BERLIN order by record_time desc limit 2\", sqlite3.connect(\"UsedObjects.db\"))"
   ]
  },
  {
   "cell_type": "code",
   "execution_count": 3,
   "id": "periodic-identification",
   "metadata": {
    "execution": {
     "iopub.execute_input": "2021-10-30T06:00:08.880446Z",
     "iopub.status.busy": "2021-10-30T06:00:08.878463Z",
     "iopub.status.idle": "2021-10-30T06:00:08.898597Z",
     "shell.execute_reply": "2021-10-30T06:00:08.899871Z"
    },
    "papermill": {
     "duration": 0.067809,
     "end_time": "2021-10-30T06:00:08.900281",
     "exception": false,
     "start_time": "2021-10-30T06:00:08.832472",
     "status": "completed"
    },
    "tags": []
   },
   "outputs": [
    {
     "data": {
      "text/html": [
       "<div>\n",
       "<style scoped>\n",
       "    .dataframe tbody tr th:only-of-type {\n",
       "        vertical-align: middle;\n",
       "    }\n",
       "\n",
       "    .dataframe tbody tr th {\n",
       "        vertical-align: top;\n",
       "    }\n",
       "\n",
       "    .dataframe thead th {\n",
       "        text-align: right;\n",
       "    }\n",
       "</style>\n",
       "<table border=\"1\" class=\"dataframe\">\n",
       "  <thead>\n",
       "    <tr style=\"text-align: right;\">\n",
       "      <th></th>\n",
       "      <th>RECORD_TIME</th>\n",
       "    </tr>\n",
       "  </thead>\n",
       "  <tbody>\n",
       "    <tr>\n",
       "      <th>0</th>\n",
       "      <td>2021-10-30 08:00</td>\n",
       "    </tr>\n",
       "    <tr>\n",
       "      <th>1</th>\n",
       "      <td>2021-10-30 07:30</td>\n",
       "    </tr>\n",
       "  </tbody>\n",
       "</table>\n",
       "</div>"
      ],
      "text/plain": [
       "        RECORD_TIME\n",
       "0  2021-10-30 08:00\n",
       "1  2021-10-30 07:30"
      ]
     },
     "execution_count": 3,
     "metadata": {},
     "output_type": "execute_result"
    }
   ],
   "source": [
    "timestamps"
   ]
  },
  {
   "cell_type": "code",
   "execution_count": 4,
   "id": "alternate-victory",
   "metadata": {
    "execution": {
     "iopub.execute_input": "2021-10-30T06:00:08.953679Z",
     "iopub.status.busy": "2021-10-30T06:00:08.951340Z",
     "iopub.status.idle": "2021-10-30T06:00:09.959962Z",
     "shell.execute_reply": "2021-10-30T06:00:09.961402Z"
    },
    "papermill": {
     "duration": 1.039497,
     "end_time": "2021-10-30T06:00:09.961861",
     "exception": false,
     "start_time": "2021-10-30T06:00:08.922364",
     "status": "completed"
    },
    "tags": []
   },
   "outputs": [],
   "source": [
    "df = pd.read_sql(\"select * from EBAY_TOP_BERLIN where record_time in (select distinct record_time from EBAY_TOP_BERLIN order by record_time desc limit 2)\", sqlite3.connect(\"UsedObjects.db\"))"
   ]
  },
  {
   "cell_type": "code",
   "execution_count": 5,
   "id": "popular-active",
   "metadata": {
    "execution": {
     "iopub.execute_input": "2021-10-30T06:00:10.031875Z",
     "iopub.status.busy": "2021-10-30T06:00:10.020619Z",
     "iopub.status.idle": "2021-10-30T06:00:10.048246Z",
     "shell.execute_reply": "2021-10-30T06:00:10.049647Z"
    },
    "papermill": {
     "duration": 0.067113,
     "end_time": "2021-10-30T06:00:10.050059",
     "exception": false,
     "start_time": "2021-10-30T06:00:09.982946",
     "status": "completed"
    },
    "tags": []
   },
   "outputs": [],
   "source": [
    "df_pivot = df.pivot_table(index=\"PRODUCT\", columns = \"RECORD_TIME\", values = \"LISTING_COUNT\")"
   ]
  },
  {
   "cell_type": "code",
   "execution_count": 6,
   "id": "union-huntington",
   "metadata": {
    "execution": {
     "iopub.execute_input": "2021-10-30T06:00:10.108529Z",
     "iopub.status.busy": "2021-10-30T06:00:10.106283Z",
     "iopub.status.idle": "2021-10-30T06:00:10.112186Z",
     "shell.execute_reply": "2021-10-30T06:00:10.113704Z"
    },
    "papermill": {
     "duration": 0.042497,
     "end_time": "2021-10-30T06:00:10.114169",
     "exception": false,
     "start_time": "2021-10-30T06:00:10.071672",
     "status": "completed"
    },
    "tags": []
   },
   "outputs": [],
   "source": [
    "df_pivot.columns = [\"stamp_1\", \"stamp_2\"]\n",
    "df_pivot_diff = df_pivot.diff(axis=1)"
   ]
  },
  {
   "cell_type": "code",
   "execution_count": 7,
   "id": "fifth-motion",
   "metadata": {
    "execution": {
     "iopub.execute_input": "2021-10-30T06:00:10.169104Z",
     "iopub.status.busy": "2021-10-30T06:00:10.166753Z",
     "iopub.status.idle": "2021-10-30T06:00:11.690876Z",
     "shell.execute_reply": "2021-10-30T06:00:11.692134Z"
    },
    "papermill": {
     "duration": 1.556841,
     "end_time": "2021-10-30T06:00:11.692550",
     "exception": false,
     "start_time": "2021-10-30T06:00:10.135709",
     "status": "completed"
    },
    "tags": []
   },
   "outputs": [
    {
     "data": {
      "text/plain": [
       "<AxesSubplot:ylabel='PRODUCT'>"
      ]
     },
     "execution_count": 7,
     "metadata": {},
     "output_type": "execute_result"
    },
    {
     "data": {
      "image/png": "[encoded data removed]",
      "text/plain": [
       "<Figure size 432x288 with 1 Axes>"
      ]
     },
     "metadata": {
      "needs_background": "light"
     },
     "output_type": "display_data"
    }
   ],
   "source": [
    "df_pivot_diff.sort_values(\"stamp_2\", ascending = False)[\"stamp_2\"].head(10).plot.barh()"
   ]
  },
  {
   "cell_type": "code",
   "execution_count": null,
   "id": "extra-executive",
   "metadata": {
    "papermill": {
     "duration": 0.022458,
     "end_time": "2021-10-30T06:00:11.739243",
     "exception": false,
     "start_time": "2021-10-30T06:00:11.716785",
     "status": "completed"
    },
    "tags": []
   },
   "outputs": [],
   "source": []
  }
 ],
 "metadata": {
  "kernelspec": {
   "display_name": "Python 3",
   "language": "python",
   "name": "python3"
  },
  "language_info": {
   "codemirror_mode": {
    "name": "ipython",
    "version": 3
   },
   "file_extension": ".py",
   "mimetype": "text/x-python",
   "name": "python",
   "nbconvert_exporter": "python",
   "pygments_lexer": "ipython3",
   "version": "3.9.5"
  },
  "papermill": {
   "default_parameters": {},
   "duration": 7.576718,
   "end_time": "2021-10-30T06:00:12.382857",
   "environment_variables": {},
   "exception": null,
   "input_path": "eBay_Overview.ipynb",
   "output_path": "eBay_Overview.ipynb",
   "parameters": {},
   "start_time": "2021-10-30T06:00:04.806139",
   "version": "2.3.3"
  }
 },
 "nbformat": 4,
 "nbformat_minor": 5
}