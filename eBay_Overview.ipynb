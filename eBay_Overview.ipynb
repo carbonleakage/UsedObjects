{
 "cells": [
  {
   "cell_type": "code",
   "execution_count": 1,
   "id": "reverse-picking",
   "metadata": {
    "execution": {
     "iopub.execute_input": "2021-10-28T12:30:07.660573Z",
     "iopub.status.busy": "2021-10-28T12:30:07.658372Z",
     "iopub.status.idle": "2021-10-28T12:30:08.602806Z",
     "shell.execute_reply": "2021-10-28T12:30:08.604438Z"
    },
    "papermill": {
     "duration": 0.99235,
     "end_time": "2021-10-28T12:30:08.605247",
     "exception": false,
     "start_time": "2021-10-28T12:30:07.612897",
     "status": "completed"
    },
    "tags": []
   },
   "outputs": [],
   "source": [
    "import pandas as pd\n",
    "import sqlite3"
   ]
  },
  {
   "cell_type": "code",
   "execution_count": 2,
   "id": "innovative-syndrome",
   "metadata": {
    "execution": {
     "iopub.execute_input": "2021-10-28T12:30:08.661527Z",
     "iopub.status.busy": "2021-10-28T12:30:08.659222Z",
     "iopub.status.idle": "2021-10-28T12:30:09.321108Z",
     "shell.execute_reply": "2021-10-28T12:30:09.322670Z"
    },
    "papermill": {
     "duration": 0.696082,
     "end_time": "2021-10-28T12:30:09.323171",
     "exception": false,
     "start_time": "2021-10-28T12:30:08.627089",
     "status": "completed"
    },
    "tags": []
   },
   "outputs": [],
   "source": [
    "timestamps = pd.read_sql(\"select distinct record_time from EBAY_TOP_BERLIN order by record_time desc limit 2\", sqlite3.connect(\"UsedObjects.db\"))"
   ]
  },
  {
   "cell_type": "code",
   "execution_count": 3,
   "id": "periodic-identification",
   "metadata": {
    "execution": {
     "iopub.execute_input": "2021-10-28T12:30:09.393827Z",
     "iopub.status.busy": "2021-10-28T12:30:09.391433Z",
     "iopub.status.idle": "2021-10-28T12:30:09.414918Z",
     "shell.execute_reply": "2021-10-28T12:30:09.413363Z"
    },
    "papermill": {
     "duration": 0.072066,
     "end_time": "2021-10-28T12:30:09.415345",
     "exception": false,
     "start_time": "2021-10-28T12:30:09.343279",
     "status": "completed"
    },
    "tags": []
   },
   "outputs": [
    {
     "data": {
      "text/html": [
       "<div>\n",
       "<style scoped>\n",
       "    .dataframe tbody tr th:only-of-type {\n",
       "        vertical-align: middle;\n",
       "    }\n",
       "\n",
       "    .dataframe tbody tr th {\n",
       "        vertical-align: top;\n",
       "    }\n",
       "\n",
       "    .dataframe thead th {\n",
       "        text-align: right;\n",
       "    }\n",
       "</style>\n",
       "<table border=\"1\" class=\"dataframe\">\n",
       "  <thead>\n",
       "    <tr style=\"text-align: right;\">\n",
       "      <th></th>\n",
       "      <th>RECORD_TIME</th>\n",
       "    </tr>\n",
       "  </thead>\n",
       "  <tbody>\n",
       "    <tr>\n",
       "      <th>0</th>\n",
       "      <td>2021-10-28 14:30</td>\n",
       "    </tr>\n",
       "    <tr>\n",
       "      <th>1</th>\n",
       "      <td>2021-10-28 14:00</td>\n",
       "    </tr>\n",
       "  </tbody>\n",
       "</table>\n",
       "</div>"
      ],
      "text/plain": [
       "        RECORD_TIME\n",
       "0  2021-10-28 14:30\n",
       "1  2021-10-28 14:00"
      ]
     },
     "execution_count": 3,
     "metadata": {},
     "output_type": "execute_result"
    }
   ],
   "source": [
    "timestamps"
   ]
  },
  {
   "cell_type": "code",
   "execution_count": 4,
   "id": "alternate-victory",
   "metadata": {
    "execution": {
     "iopub.execute_input": "2021-10-28T12:30:09.469651Z",
     "iopub.status.busy": "2021-10-28T12:30:09.467282Z",
     "iopub.status.idle": "2021-10-28T12:30:10.439577Z",
     "shell.execute_reply": "2021-10-28T12:30:10.440774Z"
    },
    "papermill": {
     "duration": 1.005224,
     "end_time": "2021-10-28T12:30:10.441211",
     "exception": false,
     "start_time": "2021-10-28T12:30:09.435987",
     "status": "completed"
    },
    "tags": []
   },
   "outputs": [],
   "source": [
    "df = pd.read_sql(\"select * from EBAY_TOP_BERLIN where record_time in (select distinct record_time from EBAY_TOP_BERLIN order by record_time desc limit 2)\", sqlite3.connect(\"UsedObjects.db\"))"
   ]
  },
  {
   "cell_type": "code",
   "execution_count": 5,
   "id": "popular-active",
   "metadata": {
    "execution": {
     "iopub.execute_input": "2021-10-28T12:30:11.179938Z",
     "iopub.status.busy": "2021-10-28T12:30:11.168211Z",
     "iopub.status.idle": "2021-10-28T12:30:11.196999Z",
     "shell.execute_reply": "2021-10-28T12:30:11.198218Z"
    },
    "papermill": {
     "duration": 0.679939,
     "end_time": "2021-10-28T12:30:11.198614",
     "exception": false,
     "start_time": "2021-10-28T12:30:10.518675",
     "status": "completed"
    },
    "tags": []
   },
   "outputs": [],
   "source": [
    "df_pivot = df.pivot_table(index=\"PRODUCT\", columns = \"RECORD_TIME\", values = \"LISTING_COUNT\")"
   ]
  },
  {
   "cell_type": "code",
   "execution_count": 6,
   "id": "union-huntington",
   "metadata": {
    "execution": {
     "iopub.execute_input": "2021-10-28T12:30:12.334929Z",
     "iopub.status.busy": "2021-10-28T12:30:12.332516Z",
     "iopub.status.idle": "2021-10-28T12:30:12.340182Z",
     "shell.execute_reply": "2021-10-28T12:30:12.338607Z"
    },
    "papermill": {
     "duration": 0.070451,
     "end_time": "2021-10-28T12:30:12.340624",
     "exception": false,
     "start_time": "2021-10-28T12:30:12.270173",
     "status": "completed"
    },
    "tags": []
   },
   "outputs": [],
   "source": [
    "df_pivot.columns = [\"stamp_1\", \"stamp_2\"]\n",
    "df_pivot_diff = df_pivot.diff(axis=1)"
   ]
  },
  {
   "cell_type": "code",
   "execution_count": 7,
   "id": "fifth-motion",
   "metadata": {
    "execution": {
     "iopub.execute_input": "2021-10-28T12:30:12.419545Z",
     "iopub.status.busy": "2021-10-28T12:30:12.416997Z",
     "iopub.status.idle": "2021-10-28T12:30:14.299808Z",
     "shell.execute_reply": "2021-10-28T12:30:14.301275Z"
    },
    "papermill": {
     "duration": 1.921448,
     "end_time": "2021-10-28T12:30:14.301780",
     "exception": false,
     "start_time": "2021-10-28T12:30:12.380332",
     "status": "completed"
    },
    "tags": []
   },
   "outputs": [
    {
     "data": {
      "text/plain": [
       "<AxesSubplot:ylabel='PRODUCT'>"
      ]
     },
     "execution_count": 7,
     "metadata": {},
     "output_type": "execute_result"
    },
    {
     "data": {
      "image/png": "[encoded data removed]",
      "text/plain": [
       "<Figure size 432x288 with 1 Axes>"
      ]
     },
     "metadata": {
      "needs_background": "light"
     },
     "output_type": "display_data"
    }
   ],
   "source": [
    "df_pivot_diff.sort_values(\"stamp_2\", ascending = False)[\"stamp_2\"].head(10).plot.barh()"
   ]
  },
  {
   "cell_type": "code",
   "execution_count": null,
   "id": "extra-executive",
   "metadata": {
    "papermill": {
     "duration": 0.022926,
     "end_time": "2021-10-28T12:30:14.348461",
     "exception": false,
     "start_time": "2021-10-28T12:30:14.325535",
     "status": "completed"
    },
    "tags": []
   },
   "outputs": [],
   "source": []
  }
 ],
 "metadata": {
  "kernelspec": {
   "display_name": "Python 3",
   "language": "python",
   "name": "python3"
  },
  "language_info": {
   "codemirror_mode": {
    "name": "ipython",
    "version": 3
   },
   "file_extension": ".py",
   "mimetype": "text/x-python",
   "name": "python",
   "nbconvert_exporter": "python",
   "pygments_lexer": "ipython3",
   "version": "3.9.5"
  },
  "papermill": {
   "default_parameters": {},
   "duration": 10.894489,
   "end_time": "2021-10-28T12:30:15.859976",
   "environment_variables": {},
   "exception": null,
   "input_path": "eBay_Overview.ipynb",
   "output_path": "eBay_Overview.ipynb",
   "parameters": {},
   "start_time": "2021-10-28T12:30:04.965487",
   "version": "2.3.3"
  }
 },
 "nbformat": 4,
 "nbformat_minor": 5
}