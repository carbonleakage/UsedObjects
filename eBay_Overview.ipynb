{
 "cells": [
  {
   "cell_type": "code",
   "execution_count": 1,
   "id": "reverse-picking",
   "metadata": {
    "execution": {
     "iopub.execute_input": "2021-09-27T17:00:06.859835Z",
     "iopub.status.busy": "2021-09-27T17:00:06.857818Z",
     "iopub.status.idle": "2021-09-27T17:00:07.664763Z",
     "shell.execute_reply": "2021-09-27T17:00:07.666053Z"
    },
    "papermill": {
     "duration": 0.857957,
     "end_time": "2021-09-27T17:00:07.666700",
     "exception": false,
     "start_time": "2021-09-27T17:00:06.808743",
     "status": "completed"
    },
    "tags": []
   },
   "outputs": [],
   "source": [
    "import pandas as pd\n",
    "import sqlite3"
   ]
  },
  {
   "cell_type": "code",
   "execution_count": 2,
   "id": "innovative-syndrome",
   "metadata": {
    "execution": {
     "iopub.execute_input": "2021-09-27T17:00:07.716911Z",
     "iopub.status.busy": "2021-09-27T17:00:07.714549Z",
     "iopub.status.idle": "2021-09-27T17:00:08.111686Z",
     "shell.execute_reply": "2021-09-27T17:00:08.112930Z"
    },
    "papermill": {
     "duration": 0.426737,
     "end_time": "2021-09-27T17:00:08.113320",
     "exception": false,
     "start_time": "2021-09-27T17:00:07.686583",
     "status": "completed"
    },
    "tags": []
   },
   "outputs": [],
   "source": [
    "timestamps = pd.read_sql(\"select distinct record_time from EBAY_TOP_BERLIN order by record_time desc limit 2\", sqlite3.connect(\"UsedObjects.db\"))"
   ]
  },
  {
   "cell_type": "code",
   "execution_count": 3,
   "id": "periodic-identification",
   "metadata": {
    "execution": {
     "iopub.execute_input": "2021-09-27T17:00:08.177757Z",
     "iopub.status.busy": "2021-09-27T17:00:08.175547Z",
     "iopub.status.idle": "2021-09-27T17:00:08.196654Z",
     "shell.execute_reply": "2021-09-27T17:00:08.197756Z"
    },
    "papermill": {
     "duration": 0.065862,
     "end_time": "2021-09-27T17:00:08.198163",
     "exception": false,
     "start_time": "2021-09-27T17:00:08.132301",
     "status": "completed"
    },
    "tags": []
   },
   "outputs": [
    {
     "data": {
      "text/html": [
       "<div>\n",
       "<style scoped>\n",
       "    .dataframe tbody tr th:only-of-type {\n",
       "        vertical-align: middle;\n",
       "    }\n",
       "\n",
       "    .dataframe tbody tr th {\n",
       "        vertical-align: top;\n",
       "    }\n",
       "\n",
       "    .dataframe thead th {\n",
       "        text-align: right;\n",
       "    }\n",
       "</style>\n",
       "<table border=\"1\" class=\"dataframe\">\n",
       "  <thead>\n",
       "    <tr style=\"text-align: right;\">\n",
       "      <th></th>\n",
       "      <th>RECORD_TIME</th>\n",
       "    </tr>\n",
       "  </thead>\n",
       "  <tbody>\n",
       "    <tr>\n",
       "      <th>0</th>\n",
       "      <td>2021-09-27 19:00</td>\n",
       "    </tr>\n",
       "    <tr>\n",
       "      <th>1</th>\n",
       "      <td>2021-09-27 18:30</td>\n",
       "    </tr>\n",
       "  </tbody>\n",
       "</table>\n",
       "</div>"
      ],
      "text/plain": [
       "        RECORD_TIME\n",
       "0  2021-09-27 19:00\n",
       "1  2021-09-27 18:30"
      ]
     },
     "execution_count": 3,
     "metadata": {},
     "output_type": "execute_result"
    }
   ],
   "source": [
    "timestamps"
   ]
  },
  {
   "cell_type": "code",
   "execution_count": 4,
   "id": "alternate-victory",
   "metadata": {
    "execution": {
     "iopub.execute_input": "2021-09-27T17:00:08.250865Z",
     "iopub.status.busy": "2021-09-27T17:00:08.248813Z",
     "iopub.status.idle": "2021-09-27T17:00:08.833752Z",
     "shell.execute_reply": "2021-09-27T17:00:08.832384Z"
    },
    "papermill": {
     "duration": 0.614383,
     "end_time": "2021-09-27T17:00:08.834103",
     "exception": false,
     "start_time": "2021-09-27T17:00:08.219720",
     "status": "completed"
    },
    "tags": []
   },
   "outputs": [],
   "source": [
    "df = pd.read_sql(\"select * from EBAY_TOP_BERLIN where record_time in (select distinct record_time from EBAY_TOP_BERLIN order by record_time desc limit 2)\", sqlite3.connect(\"UsedObjects.db\"))"
   ]
  },
  {
   "cell_type": "code",
   "execution_count": 5,
   "id": "popular-active",
   "metadata": {
    "execution": {
     "iopub.execute_input": "2021-09-27T17:00:08.903358Z",
     "iopub.status.busy": "2021-09-27T17:00:08.891091Z",
     "iopub.status.idle": "2021-09-27T17:00:08.919884Z",
     "shell.execute_reply": "2021-09-27T17:00:08.921135Z"
    },
    "papermill": {
     "duration": 0.067097,
     "end_time": "2021-09-27T17:00:08.921522",
     "exception": false,
     "start_time": "2021-09-27T17:00:08.854425",
     "status": "completed"
    },
    "tags": []
   },
   "outputs": [],
   "source": [
    "df_pivot = df.pivot_table(index=\"PRODUCT\", columns = \"RECORD_TIME\", values = \"LISTING_COUNT\")"
   ]
  },
  {
   "cell_type": "code",
   "execution_count": 6,
   "id": "union-huntington",
   "metadata": {
    "execution": {
     "iopub.execute_input": "2021-09-27T17:00:08.976390Z",
     "iopub.status.busy": "2021-09-27T17:00:08.974214Z",
     "iopub.status.idle": "2021-09-27T17:00:08.979795Z",
     "shell.execute_reply": "2021-09-27T17:00:08.981175Z"
    },
    "papermill": {
     "duration": 0.040455,
     "end_time": "2021-09-27T17:00:08.981606",
     "exception": false,
     "start_time": "2021-09-27T17:00:08.941151",
     "status": "completed"
    },
    "tags": []
   },
   "outputs": [],
   "source": [
    "df_pivot.columns = [\"stamp_1\", \"stamp_2\"]\n",
    "df_pivot_diff = df_pivot.diff(axis=1)"
   ]
  },
  {
   "cell_type": "code",
   "execution_count": 7,
   "id": "fifth-motion",
   "metadata": {
    "execution": {
     "iopub.execute_input": "2021-09-27T17:00:09.036297Z",
     "iopub.status.busy": "2021-09-27T17:00:09.033758Z",
     "iopub.status.idle": "2021-09-27T17:00:10.531394Z",
     "shell.execute_reply": "2021-09-27T17:00:10.532662Z"
    },
    "papermill": {
     "duration": 1.530916,
     "end_time": "2021-09-27T17:00:10.533074",
     "exception": false,
     "start_time": "2021-09-27T17:00:09.002158",
     "status": "completed"
    },
    "tags": []
   },
   "outputs": [
    {
     "data": {
      "text/plain": [
       "<AxesSubplot:ylabel='PRODUCT'>"
      ]
     },
     "execution_count": 7,
     "metadata": {},
     "output_type": "execute_result"
    },
    {
     "data": {
      "image/png": "[encoded data removed]",
      "text/plain": [
       "<Figure size 432x288 with 1 Axes>"
      ]
     },
     "metadata": {
      "needs_background": "light"
     },
     "output_type": "display_data"
    }
   ],
   "source": [
    "df_pivot_diff.sort_values(\"stamp_2\", ascending = False)[\"stamp_2\"].head(10).plot.barh()"
   ]
  },
  {
   "cell_type": "code",
   "execution_count": null,
   "id": "extra-executive",
   "metadata": {
    "papermill": {
     "duration": 0.022059,
     "end_time": "2021-09-27T17:00:10.580265",
     "exception": false,
     "start_time": "2021-09-27T17:00:10.558206",
     "status": "completed"
    },
    "tags": []
   },
   "outputs": [],
   "source": []
  }
 ],
 "metadata": {
  "kernelspec": {
   "display_name": "Python 3",
   "language": "python",
   "name": "python3"
  },
  "language_info": {
   "codemirror_mode": {
    "name": "ipython",
    "version": 3
   },
   "file_extension": ".py",
   "mimetype": "text/x-python",
   "name": "python",
   "nbconvert_exporter": "python",
   "pygments_lexer": "ipython3",
   "version": "3.9.5"
  },
  "papermill": {
   "default_parameters": {},
   "duration": 6.81712,
   "end_time": "2021-09-27T17:00:11.222173",
   "environment_variables": {},
   "exception": null,
   "input_path": "eBay_Overview.ipynb",
   "output_path": "eBay_Overview.ipynb",
   "parameters": {},
   "start_time": "2021-09-27T17:00:04.405053",
   "version": "2.3.3"
  }
 },
 "nbformat": 4,
 "nbformat_minor": 5
}