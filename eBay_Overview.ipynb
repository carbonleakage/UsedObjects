{
 "cells": [
  {
   "cell_type": "code",
   "execution_count": 1,
   "id": "reverse-picking",
   "metadata": {
    "execution": {
     "iopub.execute_input": "2021-09-16T14:30:07.257993Z",
     "iopub.status.busy": "2021-09-16T14:30:07.256067Z",
     "iopub.status.idle": "2021-09-16T14:30:08.060242Z",
     "shell.execute_reply": "2021-09-16T14:30:08.061496Z"
    },
    "papermill": {
     "duration": 0.854734,
     "end_time": "2021-09-16T14:30:08.062101",
     "exception": false,
     "start_time": "2021-09-16T14:30:07.207367",
     "status": "completed"
    },
    "tags": []
   },
   "outputs": [],
   "source": [
    "import pandas as pd\n",
    "import sqlite3"
   ]
  },
  {
   "cell_type": "code",
   "execution_count": 2,
   "id": "innovative-syndrome",
   "metadata": {
    "execution": {
     "iopub.execute_input": "2021-09-16T14:30:08.113453Z",
     "iopub.status.busy": "2021-09-16T14:30:08.111317Z",
     "iopub.status.idle": "2021-09-16T14:30:08.407576Z",
     "shell.execute_reply": "2021-09-16T14:30:08.408857Z"
    },
    "papermill": {
     "duration": 0.326076,
     "end_time": "2021-09-16T14:30:08.409249",
     "exception": false,
     "start_time": "2021-09-16T14:30:08.083173",
     "status": "completed"
    },
    "tags": []
   },
   "outputs": [],
   "source": [
    "timestamps = pd.read_sql(\"select distinct record_time from EBAY_TOP_BERLIN order by record_time desc limit 2\", sqlite3.connect(\"UsedObjects.db\"))"
   ]
  },
  {
   "cell_type": "code",
   "execution_count": 3,
   "id": "periodic-identification",
   "metadata": {
    "execution": {
     "iopub.execute_input": "2021-09-16T14:30:08.474030Z",
     "iopub.status.busy": "2021-09-16T14:30:08.472019Z",
     "iopub.status.idle": "2021-09-16T14:30:08.491876Z",
     "shell.execute_reply": "2021-09-16T14:30:08.493016Z"
    },
    "papermill": {
     "duration": 0.064599,
     "end_time": "2021-09-16T14:30:08.493414",
     "exception": false,
     "start_time": "2021-09-16T14:30:08.428815",
     "status": "completed"
    },
    "tags": []
   },
   "outputs": [
    {
     "data": {
      "text/html": [
       "<div>\n",
       "<style scoped>\n",
       "    .dataframe tbody tr th:only-of-type {\n",
       "        vertical-align: middle;\n",
       "    }\n",
       "\n",
       "    .dataframe tbody tr th {\n",
       "        vertical-align: top;\n",
       "    }\n",
       "\n",
       "    .dataframe thead th {\n",
       "        text-align: right;\n",
       "    }\n",
       "</style>\n",
       "<table border=\"1\" class=\"dataframe\">\n",
       "  <thead>\n",
       "    <tr style=\"text-align: right;\">\n",
       "      <th></th>\n",
       "      <th>RECORD_TIME</th>\n",
       "    </tr>\n",
       "  </thead>\n",
       "  <tbody>\n",
       "    <tr>\n",
       "      <th>0</th>\n",
       "      <td>2021-09-16 16:30</td>\n",
       "    </tr>\n",
       "    <tr>\n",
       "      <th>1</th>\n",
       "      <td>2021-09-16 16:00</td>\n",
       "    </tr>\n",
       "  </tbody>\n",
       "</table>\n",
       "</div>"
      ],
      "text/plain": [
       "        RECORD_TIME\n",
       "0  2021-09-16 16:30\n",
       "1  2021-09-16 16:00"
      ]
     },
     "execution_count": 3,
     "metadata": {},
     "output_type": "execute_result"
    }
   ],
   "source": [
    "timestamps"
   ]
  },
  {
   "cell_type": "code",
   "execution_count": 4,
   "id": "alternate-victory",
   "metadata": {
    "execution": {
     "iopub.execute_input": "2021-09-16T14:30:08.545986Z",
     "iopub.status.busy": "2021-09-16T14:30:08.543719Z",
     "iopub.status.idle": "2021-09-16T14:30:08.982579Z",
     "shell.execute_reply": "2021-09-16T14:30:08.983790Z"
    },
    "papermill": {
     "duration": 0.46948,
     "end_time": "2021-09-16T14:30:08.984199",
     "exception": false,
     "start_time": "2021-09-16T14:30:08.514719",
     "status": "completed"
    },
    "tags": []
   },
   "outputs": [],
   "source": [
    "df = pd.read_sql(\"select * from EBAY_TOP_BERLIN where record_time in (select distinct record_time from EBAY_TOP_BERLIN order by record_time desc limit 2)\", sqlite3.connect(\"UsedObjects.db\"))"
   ]
  },
  {
   "cell_type": "code",
   "execution_count": 5,
   "id": "popular-active",
   "metadata": {
    "execution": {
     "iopub.execute_input": "2021-09-16T14:30:09.058143Z",
     "iopub.status.busy": "2021-09-16T14:30:09.055954Z",
     "iopub.status.idle": "2021-09-16T14:30:09.083534Z",
     "shell.execute_reply": "2021-09-16T14:30:09.084755Z"
    },
    "papermill": {
     "duration": 0.071384,
     "end_time": "2021-09-16T14:30:09.085146",
     "exception": false,
     "start_time": "2021-09-16T14:30:09.013762",
     "status": "completed"
    },
    "tags": []
   },
   "outputs": [],
   "source": [
    "df_pivot = df.pivot_table(index=\"PRODUCT\", columns = \"RECORD_TIME\", values = \"LISTING_COUNT\")"
   ]
  },
  {
   "cell_type": "code",
   "execution_count": 6,
   "id": "union-huntington",
   "metadata": {
    "execution": {
     "iopub.execute_input": "2021-09-16T14:30:09.142177Z",
     "iopub.status.busy": "2021-09-16T14:30:09.140144Z",
     "iopub.status.idle": "2021-09-16T14:30:09.145434Z",
     "shell.execute_reply": "2021-09-16T14:30:09.146632Z"
    },
    "papermill": {
     "duration": 0.040419,
     "end_time": "2021-09-16T14:30:09.147168",
     "exception": false,
     "start_time": "2021-09-16T14:30:09.106749",
     "status": "completed"
    },
    "tags": []
   },
   "outputs": [],
   "source": [
    "df_pivot.columns = [\"stamp_1\", \"stamp_2\"]\n",
    "df_pivot_diff = df_pivot.diff(axis=1)"
   ]
  },
  {
   "cell_type": "code",
   "execution_count": 7,
   "id": "fifth-motion",
   "metadata": {
    "execution": {
     "iopub.execute_input": "2021-09-16T14:30:09.202605Z",
     "iopub.status.busy": "2021-09-16T14:30:09.199954Z",
     "iopub.status.idle": "2021-09-16T14:30:10.701240Z",
     "shell.execute_reply": "2021-09-16T14:30:10.702523Z"
    },
    "papermill": {
     "duration": 1.535408,
     "end_time": "2021-09-16T14:30:10.703118",
     "exception": false,
     "start_time": "2021-09-16T14:30:09.167710",
     "status": "completed"
    },
    "tags": []
   },
   "outputs": [
    {
     "data": {
      "text/plain": [
       "<AxesSubplot:ylabel='PRODUCT'>"
      ]
     },
     "execution_count": 7,
     "metadata": {},
     "output_type": "execute_result"
    },
    {
     "data": {
      "image/png": "[encoded data removed]",
      "text/plain": [
       "<Figure size 432x288 with 1 Axes>"
      ]
     },
     "metadata": {
      "needs_background": "light"
     },
     "output_type": "display_data"
    }
   ],
   "source": [
    "df_pivot_diff.sort_values(\"stamp_2\", ascending = False)[\"stamp_2\"].head(10).plot.barh()"
   ]
  },
  {
   "cell_type": "code",
   "execution_count": null,
   "id": "extra-executive",
   "metadata": {
    "papermill": {
     "duration": 0.022477,
     "end_time": "2021-09-16T14:30:10.750979",
     "exception": false,
     "start_time": "2021-09-16T14:30:10.728502",
     "status": "completed"
    },
    "tags": []
   },
   "outputs": [],
   "source": []
  }
 ],
 "metadata": {
  "kernelspec": {
   "display_name": "Python 3",
   "language": "python",
   "name": "python3"
  },
  "language_info": {
   "codemirror_mode": {
    "name": "ipython",
    "version": 3
   },
   "file_extension": ".py",
   "mimetype": "text/x-python",
   "name": "python",
   "nbconvert_exporter": "python",
   "pygments_lexer": "ipython3",
   "version": "3.9.5"
  },
  "papermill": {
   "default_parameters": {},
   "duration": 6.583536,
   "end_time": "2021-09-16T14:30:11.394684",
   "environment_variables": {},
   "exception": null,
   "input_path": "eBay_Overview.ipynb",
   "output_path": "eBay_Overview.ipynb",
   "parameters": {},
   "start_time": "2021-09-16T14:30:04.811148",
   "version": "2.3.3"
  }
 },
 "nbformat": 4,
 "nbformat_minor": 5
}