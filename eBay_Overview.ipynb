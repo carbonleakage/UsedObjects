{
 "cells": [
  {
   "cell_type": "code",
   "execution_count": 1,
   "id": "reverse-picking",
   "metadata": {
    "execution": {
     "iopub.execute_input": "2021-11-21T16:30:07.892473Z",
     "iopub.status.busy": "2021-11-21T16:30:07.890207Z",
     "iopub.status.idle": "2021-11-21T16:30:08.856405Z",
     "shell.execute_reply": "2021-11-21T16:30:08.858057Z"
    },
    "papermill": {
     "duration": 1.014056,
     "end_time": "2021-11-21T16:30:08.858797",
     "exception": false,
     "start_time": "2021-11-21T16:30:07.844741",
     "status": "completed"
    },
    "tags": []
   },
   "outputs": [],
   "source": [
    "import pandas as pd\n",
    "import sqlite3"
   ]
  },
  {
   "cell_type": "code",
   "execution_count": 2,
   "id": "innovative-syndrome",
   "metadata": {
    "execution": {
     "iopub.execute_input": "2021-11-21T16:30:08.975417Z",
     "iopub.status.busy": "2021-11-21T16:30:08.973033Z",
     "iopub.status.idle": "2021-11-21T16:30:09.854616Z",
     "shell.execute_reply": "2021-11-21T16:30:09.856168Z"
    },
    "papermill": {
     "duration": 0.916804,
     "end_time": "2021-11-21T16:30:09.856818",
     "exception": false,
     "start_time": "2021-11-21T16:30:08.940014",
     "status": "completed"
    },
    "tags": []
   },
   "outputs": [],
   "source": [
    "timestamps = pd.read_sql(\"select distinct record_time from EBAY_TOP_BERLIN order by record_time desc limit 2\", sqlite3.connect(\"UsedObjects.db\"))"
   ]
  },
  {
   "cell_type": "code",
   "execution_count": 3,
   "id": "periodic-identification",
   "metadata": {
    "execution": {
     "iopub.execute_input": "2021-11-21T16:30:09.931867Z",
     "iopub.status.busy": "2021-11-21T16:30:09.929288Z",
     "iopub.status.idle": "2021-11-21T16:30:09.953335Z",
     "shell.execute_reply": "2021-11-21T16:30:09.954782Z"
    },
    "papermill": {
     "duration": 0.075712,
     "end_time": "2021-11-21T16:30:09.955276",
     "exception": false,
     "start_time": "2021-11-21T16:30:09.879564",
     "status": "completed"
    },
    "tags": []
   },
   "outputs": [
    {
     "data": {
      "text/html": [
       "<div>\n",
       "<style scoped>\n",
       "    .dataframe tbody tr th:only-of-type {\n",
       "        vertical-align: middle;\n",
       "    }\n",
       "\n",
       "    .dataframe tbody tr th {\n",
       "        vertical-align: top;\n",
       "    }\n",
       "\n",
       "    .dataframe thead th {\n",
       "        text-align: right;\n",
       "    }\n",
       "</style>\n",
       "<table border=\"1\" class=\"dataframe\">\n",
       "  <thead>\n",
       "    <tr style=\"text-align: right;\">\n",
       "      <th></th>\n",
       "      <th>RECORD_TIME</th>\n",
       "    </tr>\n",
       "  </thead>\n",
       "  <tbody>\n",
       "    <tr>\n",
       "      <th>0</th>\n",
       "      <td>2021-11-21 17:30</td>\n",
       "    </tr>\n",
       "    <tr>\n",
       "      <th>1</th>\n",
       "      <td>2021-11-21 17:00</td>\n",
       "    </tr>\n",
       "  </tbody>\n",
       "</table>\n",
       "</div>"
      ],
      "text/plain": [
       "        RECORD_TIME\n",
       "0  2021-11-21 17:30\n",
       "1  2021-11-21 17:00"
      ]
     },
     "execution_count": 3,
     "metadata": {},
     "output_type": "execute_result"
    }
   ],
   "source": [
    "timestamps"
   ]
  },
  {
   "cell_type": "code",
   "execution_count": 4,
   "id": "alternate-victory",
   "metadata": {
    "execution": {
     "iopub.execute_input": "2021-11-21T16:30:10.012739Z",
     "iopub.status.busy": "2021-11-21T16:30:10.010367Z",
     "iopub.status.idle": "2021-11-21T16:30:11.301094Z",
     "shell.execute_reply": "2021-11-21T16:30:11.297908Z"
    },
    "papermill": {
     "duration": 1.325029,
     "end_time": "2021-11-21T16:30:11.301652",
     "exception": false,
     "start_time": "2021-11-21T16:30:09.976623",
     "status": "completed"
    },
    "tags": []
   },
   "outputs": [],
   "source": [
    "df = pd.read_sql(\"select * from EBAY_TOP_BERLIN where record_time in (select distinct record_time from EBAY_TOP_BERLIN order by record_time desc limit 2)\", sqlite3.connect(\"UsedObjects.db\"))"
   ]
  },
  {
   "cell_type": "code",
   "execution_count": 5,
   "id": "popular-active",
   "metadata": {
    "execution": {
     "iopub.execute_input": "2021-11-21T16:30:11.375872Z",
     "iopub.status.busy": "2021-11-21T16:30:11.365768Z",
     "iopub.status.idle": "2021-11-21T16:30:11.400986Z",
     "shell.execute_reply": "2021-11-21T16:30:11.402290Z"
    },
    "papermill": {
     "duration": 0.078471,
     "end_time": "2021-11-21T16:30:11.402741",
     "exception": false,
     "start_time": "2021-11-21T16:30:11.324270",
     "status": "completed"
    },
    "tags": []
   },
   "outputs": [],
   "source": [
    "df_pivot = df.pivot_table(index=\"PRODUCT\", columns = \"RECORD_TIME\", values = \"LISTING_COUNT\")"
   ]
  },
  {
   "cell_type": "code",
   "execution_count": 6,
   "id": "union-huntington",
   "metadata": {
    "execution": {
     "iopub.execute_input": "2021-11-21T16:30:11.462229Z",
     "iopub.status.busy": "2021-11-21T16:30:11.460115Z",
     "iopub.status.idle": "2021-11-21T16:30:11.465612Z",
     "shell.execute_reply": "2021-11-21T16:30:11.467334Z"
    },
    "papermill": {
     "duration": 0.043485,
     "end_time": "2021-11-21T16:30:11.467855",
     "exception": false,
     "start_time": "2021-11-21T16:30:11.424370",
     "status": "completed"
    },
    "tags": []
   },
   "outputs": [],
   "source": [
    "df_pivot.columns = [\"stamp_1\", \"stamp_2\"]\n",
    "df_pivot_diff = df_pivot.diff(axis=1)"
   ]
  },
  {
   "cell_type": "code",
   "execution_count": 7,
   "id": "fifth-motion",
   "metadata": {
    "execution": {
     "iopub.execute_input": "2021-11-21T16:30:11.528508Z",
     "iopub.status.busy": "2021-11-21T16:30:11.525838Z",
     "iopub.status.idle": "2021-11-21T16:30:13.423288Z",
     "shell.execute_reply": "2021-11-21T16:30:13.424583Z"
    },
    "papermill": {
     "duration": 1.936162,
     "end_time": "2021-11-21T16:30:13.425061",
     "exception": false,
     "start_time": "2021-11-21T16:30:11.488899",
     "status": "completed"
    },
    "tags": []
   },
   "outputs": [
    {
     "data": {
      "text/plain": [
       "<AxesSubplot:ylabel='PRODUCT'>"
      ]
     },
     "execution_count": 7,
     "metadata": {},
     "output_type": "execute_result"
    },
    {
     "data": {
      "image/png": "[encoded data removed]",
      "text/plain": [
       "<Figure size 432x288 with 1 Axes>"
      ]
     },
     "metadata": {
      "needs_background": "light"
     },
     "output_type": "display_data"
    }
   ],
   "source": [
    "df_pivot_diff.sort_values(\"stamp_2\", ascending = False)[\"stamp_2\"].head(10).plot.barh()"
   ]
  },
  {
   "cell_type": "code",
   "execution_count": null,
   "id": "extra-executive",
   "metadata": {
    "papermill": {
     "duration": 0.024154,
     "end_time": "2021-11-21T16:30:13.475518",
     "exception": false,
     "start_time": "2021-11-21T16:30:13.451364",
     "status": "completed"
    },
    "tags": []
   },
   "outputs": [],
   "source": []
  }
 ],
 "metadata": {
  "kernelspec": {
   "display_name": "Python 3",
   "language": "python",
   "name": "python3"
  },
  "language_info": {
   "codemirror_mode": {
    "name": "ipython",
    "version": 3
   },
   "file_extension": ".py",
   "mimetype": "text/x-python",
   "name": "python",
   "nbconvert_exporter": "python",
   "pygments_lexer": "ipython3",
   "version": "3.9.5"
  },
  "papermill": {
   "default_parameters": {},
   "duration": 9.962822,
   "end_time": "2021-11-21T16:30:15.040881",
   "environment_variables": {},
   "exception": null,
   "input_path": "eBay_Overview.ipynb",
   "output_path": "eBay_Overview.ipynb",
   "parameters": {},
   "start_time": "2021-11-21T16:30:05.078059",
   "version": "2.3.3"
  }
 },
 "nbformat": 4,
 "nbformat_minor": 5
}