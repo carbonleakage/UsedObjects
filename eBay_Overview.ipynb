{
 "cells": [
  {
   "cell_type": "code",
   "execution_count": 1,
   "id": "reverse-picking",
   "metadata": {
    "execution": {
     "iopub.execute_input": "2021-12-11T04:00:07.844508Z",
     "iopub.status.busy": "2021-12-11T04:00:07.842281Z",
     "iopub.status.idle": "2021-12-11T04:00:08.793671Z",
     "shell.execute_reply": "2021-12-11T04:00:08.795221Z"
    },
    "papermill": {
     "duration": 1.001686,
     "end_time": "2021-12-11T04:00:08.796046",
     "exception": false,
     "start_time": "2021-12-11T04:00:07.794360",
     "status": "completed"
    },
    "tags": []
   },
   "outputs": [],
   "source": [
    "import pandas as pd\n",
    "import sqlite3"
   ]
  },
  {
   "cell_type": "code",
   "execution_count": 2,
   "id": "innovative-syndrome",
   "metadata": {
    "execution": {
     "iopub.execute_input": "2021-12-11T04:00:08.862779Z",
     "iopub.status.busy": "2021-12-11T04:00:08.860441Z",
     "iopub.status.idle": "2021-12-11T04:00:09.922347Z",
     "shell.execute_reply": "2021-12-11T04:00:09.923836Z"
    },
    "papermill": {
     "duration": 1.095804,
     "end_time": "2021-12-11T04:00:09.924331",
     "exception": false,
     "start_time": "2021-12-11T04:00:08.828527",
     "status": "completed"
    },
    "tags": []
   },
   "outputs": [],
   "source": [
    "timestamps = pd.read_sql(\"select distinct record_time from EBAY_TOP_BERLIN order by record_time desc limit 2\", sqlite3.connect(\"UsedObjects.db\"))"
   ]
  },
  {
   "cell_type": "code",
   "execution_count": 3,
   "id": "periodic-identification",
   "metadata": {
    "execution": {
     "iopub.execute_input": "2021-12-11T04:00:09.994552Z",
     "iopub.status.busy": "2021-12-11T04:00:09.992260Z",
     "iopub.status.idle": "2021-12-11T04:00:10.014500Z",
     "shell.execute_reply": "2021-12-11T04:00:10.015705Z"
    },
    "papermill": {
     "duration": 0.071666,
     "end_time": "2021-12-11T04:00:10.016146",
     "exception": false,
     "start_time": "2021-12-11T04:00:09.944480",
     "status": "completed"
    },
    "tags": []
   },
   "outputs": [
    {
     "data": {
      "text/html": [
       "<div>\n",
       "<style scoped>\n",
       "    .dataframe tbody tr th:only-of-type {\n",
       "        vertical-align: middle;\n",
       "    }\n",
       "\n",
       "    .dataframe tbody tr th {\n",
       "        vertical-align: top;\n",
       "    }\n",
       "\n",
       "    .dataframe thead th {\n",
       "        text-align: right;\n",
       "    }\n",
       "</style>\n",
       "<table border=\"1\" class=\"dataframe\">\n",
       "  <thead>\n",
       "    <tr style=\"text-align: right;\">\n",
       "      <th></th>\n",
       "      <th>RECORD_TIME</th>\n",
       "    </tr>\n",
       "  </thead>\n",
       "  <tbody>\n",
       "    <tr>\n",
       "      <th>0</th>\n",
       "      <td>2021-12-11 05:00</td>\n",
       "    </tr>\n",
       "    <tr>\n",
       "      <th>1</th>\n",
       "      <td>2021-12-11 04:30</td>\n",
       "    </tr>\n",
       "  </tbody>\n",
       "</table>\n",
       "</div>"
      ],
      "text/plain": [
       "        RECORD_TIME\n",
       "0  2021-12-11 05:00\n",
       "1  2021-12-11 04:30"
      ]
     },
     "execution_count": 3,
     "metadata": {},
     "output_type": "execute_result"
    }
   ],
   "source": [
    "timestamps"
   ]
  },
  {
   "cell_type": "code",
   "execution_count": 4,
   "id": "alternate-victory",
   "metadata": {
    "execution": {
     "iopub.execute_input": "2021-12-11T04:00:10.069458Z",
     "iopub.status.busy": "2021-12-11T04:00:10.067267Z",
     "iopub.status.idle": "2021-12-11T04:00:11.635025Z",
     "shell.execute_reply": "2021-12-11T04:00:11.637757Z"
    },
    "papermill": {
     "duration": 1.602182,
     "end_time": "2021-12-11T04:00:11.638658",
     "exception": false,
     "start_time": "2021-12-11T04:00:10.036476",
     "status": "completed"
    },
    "tags": []
   },
   "outputs": [],
   "source": [
    "df = pd.read_sql(\"select * from EBAY_TOP_BERLIN where record_time in (select distinct record_time from EBAY_TOP_BERLIN order by record_time desc limit 2)\", sqlite3.connect(\"UsedObjects.db\"))"
   ]
  },
  {
   "cell_type": "code",
   "execution_count": 5,
   "id": "popular-active",
   "metadata": {
    "execution": {
     "iopub.execute_input": "2021-12-11T04:00:11.727852Z",
     "iopub.status.busy": "2021-12-11T04:00:11.712602Z",
     "iopub.status.idle": "2021-12-11T04:00:11.746087Z",
     "shell.execute_reply": "2021-12-11T04:00:11.747469Z"
    },
    "papermill": {
     "duration": 0.078577,
     "end_time": "2021-12-11T04:00:11.747928",
     "exception": false,
     "start_time": "2021-12-11T04:00:11.669351",
     "status": "completed"
    },
    "tags": []
   },
   "outputs": [],
   "source": [
    "df_pivot = df.pivot_table(index=\"PRODUCT\", columns = \"RECORD_TIME\", values = \"LISTING_COUNT\")"
   ]
  },
  {
   "cell_type": "code",
   "execution_count": 6,
   "id": "union-huntington",
   "metadata": {
    "execution": {
     "iopub.execute_input": "2021-12-11T04:00:11.809036Z",
     "iopub.status.busy": "2021-12-11T04:00:11.806900Z",
     "iopub.status.idle": "2021-12-11T04:00:11.811994Z",
     "shell.execute_reply": "2021-12-11T04:00:11.813685Z"
    },
    "papermill": {
     "duration": 0.044509,
     "end_time": "2021-12-11T04:00:11.814129",
     "exception": false,
     "start_time": "2021-12-11T04:00:11.769620",
     "status": "completed"
    },
    "tags": []
   },
   "outputs": [],
   "source": [
    "df_pivot.columns = [\"stamp_1\", \"stamp_2\"]\n",
    "df_pivot_diff = df_pivot.diff(axis=1)"
   ]
  },
  {
   "cell_type": "code",
   "execution_count": 7,
   "id": "fifth-motion",
   "metadata": {
    "execution": {
     "iopub.execute_input": "2021-12-11T04:00:11.872305Z",
     "iopub.status.busy": "2021-12-11T04:00:11.869803Z",
     "iopub.status.idle": "2021-12-11T04:00:13.756822Z",
     "shell.execute_reply": "2021-12-11T04:00:13.759084Z"
    },
    "papermill": {
     "duration": 1.9248,
     "end_time": "2021-12-11T04:00:13.759812",
     "exception": false,
     "start_time": "2021-12-11T04:00:11.835012",
     "status": "completed"
    },
    "tags": []
   },
   "outputs": [
    {
     "data": {
      "text/plain": [
       "<AxesSubplot:ylabel='PRODUCT'>"
      ]
     },
     "execution_count": 7,
     "metadata": {},
     "output_type": "execute_result"
    },
    {
     "data": {
      "image/png": "[encoded data removed]",
      "text/plain": [
       "<Figure size 432x288 with 1 Axes>"
      ]
     },
     "metadata": {
      "needs_background": "light"
     },
     "output_type": "display_data"
    }
   ],
   "source": [
    "df_pivot_diff.sort_values(\"stamp_2\", ascending = False)[\"stamp_2\"].head(10).plot.barh()"
   ]
  },
  {
   "cell_type": "code",
   "execution_count": null,
   "id": "extra-executive",
   "metadata": {
    "papermill": {
     "duration": 0.023006,
     "end_time": "2021-12-11T04:00:13.810402",
     "exception": false,
     "start_time": "2021-12-11T04:00:13.787396",
     "status": "completed"
    },
    "tags": []
   },
   "outputs": [],
   "source": []
  }
 ],
 "metadata": {
  "kernelspec": {
   "display_name": "Python 3",
   "language": "python",
   "name": "python3"
  },
  "language_info": {
   "codemirror_mode": {
    "name": "ipython",
    "version": 3
   },
   "file_extension": ".py",
   "mimetype": "text/x-python",
   "name": "python",
   "nbconvert_exporter": "python",
   "pygments_lexer": "ipython3",
   "version": "3.9.5"
  },
  "papermill": {
   "default_parameters": {},
   "duration": 10.013482,
   "end_time": "2021-12-11T04:00:15.011115",
   "environment_variables": {},
   "exception": null,
   "input_path": "eBay_Overview.ipynb",
   "output_path": "eBay_Overview.ipynb",
   "parameters": {},
   "start_time": "2021-12-11T04:00:04.997633",
   "version": "2.3.3"
  }
 },
 "nbformat": 4,
 "nbformat_minor": 5
}