{
 "cells": [
  {
   "cell_type": "code",
   "execution_count": 1,
   "id": "reverse-picking",
   "metadata": {
    "execution": {
     "iopub.execute_input": "2021-11-10T10:00:07.613281Z",
     "iopub.status.busy": "2021-11-10T10:00:07.594317Z",
     "iopub.status.idle": "2021-11-10T10:00:08.572825Z",
     "shell.execute_reply": "2021-11-10T10:00:08.570724Z"
    },
    "papermill": {
     "duration": 1.012195,
     "end_time": "2021-11-10T10:00:08.573331",
     "exception": false,
     "start_time": "2021-11-10T10:00:07.561136",
     "status": "completed"
    },
    "tags": []
   },
   "outputs": [],
   "source": [
    "import pandas as pd\n",
    "import sqlite3"
   ]
  },
  {
   "cell_type": "code",
   "execution_count": 2,
   "id": "innovative-syndrome",
   "metadata": {
    "execution": {
     "iopub.execute_input": "2021-11-10T10:00:08.637495Z",
     "iopub.status.busy": "2021-11-10T10:00:08.635215Z",
     "iopub.status.idle": "2021-11-10T10:00:09.404393Z",
     "shell.execute_reply": "2021-11-10T10:00:09.406100Z"
    },
    "papermill": {
     "duration": 0.805548,
     "end_time": "2021-11-10T10:00:09.406589",
     "exception": false,
     "start_time": "2021-11-10T10:00:08.601041",
     "status": "completed"
    },
    "tags": []
   },
   "outputs": [],
   "source": [
    "timestamps = pd.read_sql(\"select distinct record_time from EBAY_TOP_BERLIN order by record_time desc limit 2\", sqlite3.connect(\"UsedObjects.db\"))"
   ]
  },
  {
   "cell_type": "code",
   "execution_count": 3,
   "id": "periodic-identification",
   "metadata": {
    "execution": {
     "iopub.execute_input": "2021-11-10T10:00:09.483370Z",
     "iopub.status.busy": "2021-11-10T10:00:09.477233Z",
     "iopub.status.idle": "2021-11-10T10:00:09.501684Z",
     "shell.execute_reply": "2021-11-10T10:00:09.503444Z"
    },
    "papermill": {
     "duration": 0.07643,
     "end_time": "2021-11-10T10:00:09.503962",
     "exception": false,
     "start_time": "2021-11-10T10:00:09.427532",
     "status": "completed"
    },
    "tags": []
   },
   "outputs": [
    {
     "data": {
      "text/html": [
       "<div>\n",
       "<style scoped>\n",
       "    .dataframe tbody tr th:only-of-type {\n",
       "        vertical-align: middle;\n",
       "    }\n",
       "\n",
       "    .dataframe tbody tr th {\n",
       "        vertical-align: top;\n",
       "    }\n",
       "\n",
       "    .dataframe thead th {\n",
       "        text-align: right;\n",
       "    }\n",
       "</style>\n",
       "<table border=\"1\" class=\"dataframe\">\n",
       "  <thead>\n",
       "    <tr style=\"text-align: right;\">\n",
       "      <th></th>\n",
       "      <th>RECORD_TIME</th>\n",
       "    </tr>\n",
       "  </thead>\n",
       "  <tbody>\n",
       "    <tr>\n",
       "      <th>0</th>\n",
       "      <td>2021-11-10 11:00</td>\n",
       "    </tr>\n",
       "    <tr>\n",
       "      <th>1</th>\n",
       "      <td>2021-11-10 10:30</td>\n",
       "    </tr>\n",
       "  </tbody>\n",
       "</table>\n",
       "</div>"
      ],
      "text/plain": [
       "        RECORD_TIME\n",
       "0  2021-11-10 11:00\n",
       "1  2021-11-10 10:30"
      ]
     },
     "execution_count": 3,
     "metadata": {},
     "output_type": "execute_result"
    }
   ],
   "source": [
    "timestamps"
   ]
  },
  {
   "cell_type": "code",
   "execution_count": 4,
   "id": "alternate-victory",
   "metadata": {
    "execution": {
     "iopub.execute_input": "2021-11-10T10:00:09.561516Z",
     "iopub.status.busy": "2021-11-10T10:00:09.559265Z",
     "iopub.status.idle": "2021-11-10T10:00:10.671922Z",
     "shell.execute_reply": "2021-11-10T10:00:10.674660Z"
    },
    "papermill": {
     "duration": 1.14862,
     "end_time": "2021-11-10T10:00:10.675523",
     "exception": false,
     "start_time": "2021-11-10T10:00:09.526903",
     "status": "completed"
    },
    "tags": []
   },
   "outputs": [],
   "source": [
    "df = pd.read_sql(\"select * from EBAY_TOP_BERLIN where record_time in (select distinct record_time from EBAY_TOP_BERLIN order by record_time desc limit 2)\", sqlite3.connect(\"UsedObjects.db\"))"
   ]
  },
  {
   "cell_type": "code",
   "execution_count": 5,
   "id": "popular-active",
   "metadata": {
    "execution": {
     "iopub.execute_input": "2021-11-10T10:00:10.783251Z",
     "iopub.status.busy": "2021-11-10T10:00:10.766899Z",
     "iopub.status.idle": "2021-11-10T10:00:10.804899Z",
     "shell.execute_reply": "2021-11-10T10:00:10.803101Z"
    },
    "papermill": {
     "duration": 0.10408,
     "end_time": "2021-11-10T10:00:10.805319",
     "exception": false,
     "start_time": "2021-11-10T10:00:10.701239",
     "status": "completed"
    },
    "tags": []
   },
   "outputs": [],
   "source": [
    "df_pivot = df.pivot_table(index=\"PRODUCT\", columns = \"RECORD_TIME\", values = \"LISTING_COUNT\")"
   ]
  },
  {
   "cell_type": "code",
   "execution_count": 6,
   "id": "union-huntington",
   "metadata": {
    "execution": {
     "iopub.execute_input": "2021-11-10T10:00:10.868601Z",
     "iopub.status.busy": "2021-11-10T10:00:10.866499Z",
     "iopub.status.idle": "2021-11-10T10:00:10.871540Z",
     "shell.execute_reply": "2021-11-10T10:00:10.872979Z"
    },
    "papermill": {
     "duration": 0.045902,
     "end_time": "2021-11-10T10:00:10.873461",
     "exception": false,
     "start_time": "2021-11-10T10:00:10.827559",
     "status": "completed"
    },
    "tags": []
   },
   "outputs": [],
   "source": [
    "df_pivot.columns = [\"stamp_1\", \"stamp_2\"]\n",
    "df_pivot_diff = df_pivot.diff(axis=1)"
   ]
  },
  {
   "cell_type": "code",
   "execution_count": 7,
   "id": "fifth-motion",
   "metadata": {
    "execution": {
     "iopub.execute_input": "2021-11-10T10:00:10.931241Z",
     "iopub.status.busy": "2021-11-10T10:00:10.928776Z",
     "iopub.status.idle": "2021-11-10T10:00:12.855422Z",
     "shell.execute_reply": "2021-11-10T10:00:12.857508Z"
    },
    "papermill": {
     "duration": 1.96328,
     "end_time": "2021-11-10T10:00:12.858157",
     "exception": false,
     "start_time": "2021-11-10T10:00:10.894877",
     "status": "completed"
    },
    "tags": []
   },
   "outputs": [
    {
     "data": {
      "text/plain": [
       "<AxesSubplot:ylabel='PRODUCT'>"
      ]
     },
     "execution_count": 7,
     "metadata": {},
     "output_type": "execute_result"
    },
    {
     "data": {
      "image/png": "[encoded data removed]",
      "text/plain": [
       "<Figure size 432x288 with 1 Axes>"
      ]
     },
     "metadata": {
      "needs_background": "light"
     },
     "output_type": "display_data"
    }
   ],
   "source": [
    "df_pivot_diff.sort_values(\"stamp_2\", ascending = False)[\"stamp_2\"].head(10).plot.barh()"
   ]
  },
  {
   "cell_type": "code",
   "execution_count": null,
   "id": "extra-executive",
   "metadata": {
    "papermill": {
     "duration": 0.027477,
     "end_time": "2021-11-10T10:00:12.914896",
     "exception": false,
     "start_time": "2021-11-10T10:00:12.887419",
     "status": "completed"
    },
    "tags": []
   },
   "outputs": [],
   "source": []
  }
 ],
 "metadata": {
  "kernelspec": {
   "display_name": "Python 3",
   "language": "python",
   "name": "python3"
  },
  "language_info": {
   "codemirror_mode": {
    "name": "ipython",
    "version": 3
   },
   "file_extension": ".py",
   "mimetype": "text/x-python",
   "name": "python",
   "nbconvert_exporter": "python",
   "pygments_lexer": "ipython3",
   "version": "3.9.5"
  },
  "papermill": {
   "default_parameters": {},
   "duration": 8.931825,
   "end_time": "2021-11-10T10:00:13.769094",
   "environment_variables": {},
   "exception": null,
   "input_path": "eBay_Overview.ipynb",
   "output_path": "eBay_Overview.ipynb",
   "parameters": {},
   "start_time": "2021-11-10T10:00:04.837269",
   "version": "2.3.3"
  }
 },
 "nbformat": 4,
 "nbformat_minor": 5
}