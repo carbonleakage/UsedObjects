{
 "cells": [
  {
   "cell_type": "code",
   "execution_count": 1,
   "id": "reverse-picking",
   "metadata": {
    "execution": {
     "iopub.execute_input": "2021-11-15T22:00:07.813625Z",
     "iopub.status.busy": "2021-11-15T22:00:07.811081Z",
     "iopub.status.idle": "2021-11-15T22:00:08.777314Z",
     "shell.execute_reply": "2021-11-15T22:00:08.778859Z"
    },
    "papermill": {
     "duration": 1.015695,
     "end_time": "2021-11-15T22:00:08.779586",
     "exception": false,
     "start_time": "2021-11-15T22:00:07.763891",
     "status": "completed"
    },
    "tags": []
   },
   "outputs": [],
   "source": [
    "import pandas as pd\n",
    "import sqlite3"
   ]
  },
  {
   "cell_type": "code",
   "execution_count": 2,
   "id": "innovative-syndrome",
   "metadata": {
    "execution": {
     "iopub.execute_input": "2021-11-15T22:00:08.848323Z",
     "iopub.status.busy": "2021-11-15T22:00:08.846144Z",
     "iopub.status.idle": "2021-11-15T22:00:09.666167Z",
     "shell.execute_reply": "2021-11-15T22:00:09.667373Z"
    },
    "papermill": {
     "duration": 0.853667,
     "end_time": "2021-11-15T22:00:09.667768",
     "exception": false,
     "start_time": "2021-11-15T22:00:08.814101",
     "status": "completed"
    },
    "tags": []
   },
   "outputs": [],
   "source": [
    "timestamps = pd.read_sql(\"select distinct record_time from EBAY_TOP_BERLIN order by record_time desc limit 2\", sqlite3.connect(\"UsedObjects.db\"))"
   ]
  },
  {
   "cell_type": "code",
   "execution_count": 3,
   "id": "periodic-identification",
   "metadata": {
    "execution": {
     "iopub.execute_input": "2021-11-15T22:00:09.732359Z",
     "iopub.status.busy": "2021-11-15T22:00:09.730339Z",
     "iopub.status.idle": "2021-11-15T22:00:09.750195Z",
     "shell.execute_reply": "2021-11-15T22:00:09.751425Z"
    },
    "papermill": {
     "duration": 0.064365,
     "end_time": "2021-11-15T22:00:09.751820",
     "exception": false,
     "start_time": "2021-11-15T22:00:09.687455",
     "status": "completed"
    },
    "tags": []
   },
   "outputs": [
    {
     "data": {
      "text/html": [
       "<div>\n",
       "<style scoped>\n",
       "    .dataframe tbody tr th:only-of-type {\n",
       "        vertical-align: middle;\n",
       "    }\n",
       "\n",
       "    .dataframe tbody tr th {\n",
       "        vertical-align: top;\n",
       "    }\n",
       "\n",
       "    .dataframe thead th {\n",
       "        text-align: right;\n",
       "    }\n",
       "</style>\n",
       "<table border=\"1\" class=\"dataframe\">\n",
       "  <thead>\n",
       "    <tr style=\"text-align: right;\">\n",
       "      <th></th>\n",
       "      <th>RECORD_TIME</th>\n",
       "    </tr>\n",
       "  </thead>\n",
       "  <tbody>\n",
       "    <tr>\n",
       "      <th>0</th>\n",
       "      <td>2021-11-15 23:00</td>\n",
       "    </tr>\n",
       "    <tr>\n",
       "      <th>1</th>\n",
       "      <td>2021-11-15 22:30</td>\n",
       "    </tr>\n",
       "  </tbody>\n",
       "</table>\n",
       "</div>"
      ],
      "text/plain": [
       "        RECORD_TIME\n",
       "0  2021-11-15 23:00\n",
       "1  2021-11-15 22:30"
      ]
     },
     "execution_count": 3,
     "metadata": {},
     "output_type": "execute_result"
    }
   ],
   "source": [
    "timestamps"
   ]
  },
  {
   "cell_type": "code",
   "execution_count": 4,
   "id": "alternate-victory",
   "metadata": {
    "execution": {
     "iopub.execute_input": "2021-11-15T22:00:09.806699Z",
     "iopub.status.busy": "2021-11-15T22:00:09.804456Z",
     "iopub.status.idle": "2021-11-15T22:00:11.010856Z",
     "shell.execute_reply": "2021-11-15T22:00:11.009402Z"
    },
    "papermill": {
     "duration": 1.237994,
     "end_time": "2021-11-15T22:00:11.011263",
     "exception": false,
     "start_time": "2021-11-15T22:00:09.773269",
     "status": "completed"
    },
    "tags": []
   },
   "outputs": [],
   "source": [
    "df = pd.read_sql(\"select * from EBAY_TOP_BERLIN where record_time in (select distinct record_time from EBAY_TOP_BERLIN order by record_time desc limit 2)\", sqlite3.connect(\"UsedObjects.db\"))"
   ]
  },
  {
   "cell_type": "code",
   "execution_count": 5,
   "id": "popular-active",
   "metadata": {
    "execution": {
     "iopub.execute_input": "2021-11-15T22:00:11.085957Z",
     "iopub.status.busy": "2021-11-15T22:00:11.073290Z",
     "iopub.status.idle": "2021-11-15T22:00:11.103662Z",
     "shell.execute_reply": "2021-11-15T22:00:11.105267Z"
    },
    "papermill": {
     "duration": 0.073832,
     "end_time": "2021-11-15T22:00:11.105780",
     "exception": false,
     "start_time": "2021-11-15T22:00:11.031948",
     "status": "completed"
    },
    "tags": []
   },
   "outputs": [],
   "source": [
    "df_pivot = df.pivot_table(index=\"PRODUCT\", columns = \"RECORD_TIME\", values = \"LISTING_COUNT\")"
   ]
  },
  {
   "cell_type": "code",
   "execution_count": 6,
   "id": "union-huntington",
   "metadata": {
    "execution": {
     "iopub.execute_input": "2021-11-15T22:00:11.169293Z",
     "iopub.status.busy": "2021-11-15T22:00:11.167192Z",
     "iopub.status.idle": "2021-11-15T22:00:11.173127Z",
     "shell.execute_reply": "2021-11-15T22:00:11.174857Z"
    },
    "papermill": {
     "duration": 0.046972,
     "end_time": "2021-11-15T22:00:11.175327",
     "exception": false,
     "start_time": "2021-11-15T22:00:11.128355",
     "status": "completed"
    },
    "tags": []
   },
   "outputs": [],
   "source": [
    "df_pivot.columns = [\"stamp_1\", \"stamp_2\"]\n",
    "df_pivot_diff = df_pivot.diff(axis=1)"
   ]
  },
  {
   "cell_type": "code",
   "execution_count": 7,
   "id": "fifth-motion",
   "metadata": {
    "execution": {
     "iopub.execute_input": "2021-11-15T22:00:11.240464Z",
     "iopub.status.busy": "2021-11-15T22:00:11.237942Z",
     "iopub.status.idle": "2021-11-15T22:00:13.172138Z",
     "shell.execute_reply": "2021-11-15T22:00:13.174710Z"
    },
    "papermill": {
     "duration": 1.977354,
     "end_time": "2021-11-15T22:00:13.175448",
     "exception": false,
     "start_time": "2021-11-15T22:00:11.198094",
     "status": "completed"
    },
    "tags": []
   },
   "outputs": [
    {
     "data": {
      "text/plain": [
       "<AxesSubplot:ylabel='PRODUCT'>"
      ]
     },
     "execution_count": 7,
     "metadata": {},
     "output_type": "execute_result"
    },
    {
     "data": {
      "image/png": "[encoded data removed]",
      "text/plain": [
       "<Figure size 432x288 with 1 Axes>"
      ]
     },
     "metadata": {
      "needs_background": "light"
     },
     "output_type": "display_data"
    }
   ],
   "source": [
    "df_pivot_diff.sort_values(\"stamp_2\", ascending = False)[\"stamp_2\"].head(10).plot.barh()"
   ]
  },
  {
   "cell_type": "code",
   "execution_count": null,
   "id": "extra-executive",
   "metadata": {
    "papermill": {
     "duration": 0.028156,
     "end_time": "2021-11-15T22:00:13.232208",
     "exception": false,
     "start_time": "2021-11-15T22:00:13.204052",
     "status": "completed"
    },
    "tags": []
   },
   "outputs": [],
   "source": []
  }
 ],
 "metadata": {
  "kernelspec": {
   "display_name": "Python 3",
   "language": "python",
   "name": "python3"
  },
  "language_info": {
   "codemirror_mode": {
    "name": "ipython",
    "version": 3
   },
   "file_extension": ".py",
   "mimetype": "text/x-python",
   "name": "python",
   "nbconvert_exporter": "python",
   "pygments_lexer": "ipython3",
   "version": "3.9.5"
  },
  "papermill": {
   "default_parameters": {},
   "duration": 9.943143,
   "end_time": "2021-11-15T22:00:14.957645",
   "environment_variables": {},
   "exception": null,
   "input_path": "eBay_Overview.ipynb",
   "output_path": "eBay_Overview.ipynb",
   "parameters": {},
   "start_time": "2021-11-15T22:00:05.014502",
   "version": "2.3.3"
  }
 },
 "nbformat": 4,
 "nbformat_minor": 5
}