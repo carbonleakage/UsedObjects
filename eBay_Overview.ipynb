{
 "cells": [
  {
   "cell_type": "code",
   "execution_count": 1,
   "id": "reverse-picking",
   "metadata": {
    "execution": {
     "iopub.execute_input": "2021-08-15T02:00:06.611743Z",
     "iopub.status.busy": "2021-08-15T02:00:06.609660Z",
     "iopub.status.idle": "2021-08-15T02:00:07.419071Z",
     "shell.execute_reply": "2021-08-15T02:00:07.420356Z"
    },
    "papermill": {
     "duration": 0.860613,
     "end_time": "2021-08-15T02:00:07.420967",
     "exception": false,
     "start_time": "2021-08-15T02:00:06.560354",
     "status": "completed"
    },
    "tags": []
   },
   "outputs": [],
   "source": [
    "import pandas as pd\n",
    "import sqlite3"
   ]
  },
  {
   "cell_type": "code",
   "execution_count": 2,
   "id": "innovative-syndrome",
   "metadata": {
    "execution": {
     "iopub.execute_input": "2021-08-15T02:00:07.474572Z",
     "iopub.status.busy": "2021-08-15T02:00:07.472123Z",
     "iopub.status.idle": "2021-08-15T02:00:07.525522Z",
     "shell.execute_reply": "2021-08-15T02:00:07.526817Z"
    },
    "papermill": {
     "duration": 0.083397,
     "end_time": "2021-08-15T02:00:07.527218",
     "exception": false,
     "start_time": "2021-08-15T02:00:07.443821",
     "status": "completed"
    },
    "tags": []
   },
   "outputs": [],
   "source": [
    "timestamps = pd.read_sql(\"select distinct record_time from EBAY_TOP_BERLIN order by record_time desc limit 2\", sqlite3.connect(\"UsedObjects.db\"))"
   ]
  },
  {
   "cell_type": "code",
   "execution_count": 3,
   "id": "periodic-identification",
   "metadata": {
    "execution": {
     "iopub.execute_input": "2021-08-15T02:00:07.594537Z",
     "iopub.status.busy": "2021-08-15T02:00:07.589111Z",
     "iopub.status.idle": "2021-08-15T02:00:07.609341Z",
     "shell.execute_reply": "2021-08-15T02:00:07.610786Z"
    },
    "papermill": {
     "duration": 0.06455,
     "end_time": "2021-08-15T02:00:07.611226",
     "exception": false,
     "start_time": "2021-08-15T02:00:07.546676",
     "status": "completed"
    },
    "tags": []
   },
   "outputs": [
    {
     "data": {
      "text/html": [
       "<div>\n",
       "<style scoped>\n",
       "    .dataframe tbody tr th:only-of-type {\n",
       "        vertical-align: middle;\n",
       "    }\n",
       "\n",
       "    .dataframe tbody tr th {\n",
       "        vertical-align: top;\n",
       "    }\n",
       "\n",
       "    .dataframe thead th {\n",
       "        text-align: right;\n",
       "    }\n",
       "</style>\n",
       "<table border=\"1\" class=\"dataframe\">\n",
       "  <thead>\n",
       "    <tr style=\"text-align: right;\">\n",
       "      <th></th>\n",
       "      <th>RECORD_TIME</th>\n",
       "    </tr>\n",
       "  </thead>\n",
       "  <tbody>\n",
       "    <tr>\n",
       "      <th>0</th>\n",
       "      <td>2021-08-15 04:00</td>\n",
       "    </tr>\n",
       "    <tr>\n",
       "      <th>1</th>\n",
       "      <td>2021-08-15 03:30</td>\n",
       "    </tr>\n",
       "  </tbody>\n",
       "</table>\n",
       "</div>"
      ],
      "text/plain": [
       "        RECORD_TIME\n",
       "0  2021-08-15 04:00\n",
       "1  2021-08-15 03:30"
      ]
     },
     "execution_count": 3,
     "metadata": {},
     "output_type": "execute_result"
    }
   ],
   "source": [
    "timestamps"
   ]
  },
  {
   "cell_type": "code",
   "execution_count": 4,
   "id": "alternate-victory",
   "metadata": {
    "execution": {
     "iopub.execute_input": "2021-08-15T02:00:07.663416Z",
     "iopub.status.busy": "2021-08-15T02:00:07.661423Z",
     "iopub.status.idle": "2021-08-15T02:00:07.739184Z",
     "shell.execute_reply": "2021-08-15T02:00:07.740454Z"
    },
    "papermill": {
     "duration": 0.107946,
     "end_time": "2021-08-15T02:00:07.740851",
     "exception": false,
     "start_time": "2021-08-15T02:00:07.632905",
     "status": "completed"
    },
    "tags": []
   },
   "outputs": [],
   "source": [
    "df = pd.read_sql(\"select * from EBAY_TOP_BERLIN where record_time in (select distinct record_time from EBAY_TOP_BERLIN order by record_time desc limit 2)\", sqlite3.connect(\"UsedObjects.db\"))"
   ]
  },
  {
   "cell_type": "code",
   "execution_count": 5,
   "id": "popular-active",
   "metadata": {
    "execution": {
     "iopub.execute_input": "2021-08-15T02:00:07.805704Z",
     "iopub.status.busy": "2021-08-15T02:00:07.797269Z",
     "iopub.status.idle": "2021-08-15T02:00:07.826152Z",
     "shell.execute_reply": "2021-08-15T02:00:07.827575Z"
    },
    "papermill": {
     "duration": 0.066887,
     "end_time": "2021-08-15T02:00:07.828012",
     "exception": false,
     "start_time": "2021-08-15T02:00:07.761125",
     "status": "completed"
    },
    "tags": []
   },
   "outputs": [],
   "source": [
    "df_pivot = df.pivot_table(index=\"PRODUCT\", columns = \"RECORD_TIME\", values = \"LISTING_COUNT\")"
   ]
  },
  {
   "cell_type": "code",
   "execution_count": 6,
   "id": "union-huntington",
   "metadata": {
    "execution": {
     "iopub.execute_input": "2021-08-15T02:00:07.885493Z",
     "iopub.status.busy": "2021-08-15T02:00:07.883007Z",
     "iopub.status.idle": "2021-08-15T02:00:07.888935Z",
     "shell.execute_reply": "2021-08-15T02:00:07.890297Z"
    },
    "papermill": {
     "duration": 0.042469,
     "end_time": "2021-08-15T02:00:07.890724",
     "exception": false,
     "start_time": "2021-08-15T02:00:07.848255",
     "status": "completed"
    },
    "tags": []
   },
   "outputs": [],
   "source": [
    "df_pivot.columns = [\"stamp_1\", \"stamp_2\"]\n",
    "df_pivot_diff = df_pivot.diff(axis=1)"
   ]
  },
  {
   "cell_type": "code",
   "execution_count": 7,
   "id": "fifth-motion",
   "metadata": {
    "execution": {
     "iopub.execute_input": "2021-08-15T02:00:07.945088Z",
     "iopub.status.busy": "2021-08-15T02:00:07.942759Z",
     "iopub.status.idle": "2021-08-15T02:00:09.447025Z",
     "shell.execute_reply": "2021-08-15T02:00:09.448346Z"
    },
    "papermill": {
     "duration": 1.537607,
     "end_time": "2021-08-15T02:00:09.448762",
     "exception": false,
     "start_time": "2021-08-15T02:00:07.911155",
     "status": "completed"
    },
    "tags": []
   },
   "outputs": [
    {
     "data": {
      "text/plain": [
       "<AxesSubplot:ylabel='PRODUCT'>"
      ]
     },
     "execution_count": 7,
     "metadata": {},
     "output_type": "execute_result"
    },
    {
     "data": {
      "image/png": "[encoded data removed]",
      "text/plain": [
       "<Figure size 432x288 with 1 Axes>"
      ]
     },
     "metadata": {
      "needs_background": "light"
     },
     "output_type": "display_data"
    }
   ],
   "source": [
    "df_pivot_diff.sort_values(\"stamp_2\", ascending = False)[\"stamp_2\"].head(10).plot.barh()"
   ]
  },
  {
   "cell_type": "code",
   "execution_count": null,
   "id": "extra-executive",
   "metadata": {
    "papermill": {
     "duration": 0.021929,
     "end_time": "2021-08-15T02:00:09.495071",
     "exception": false,
     "start_time": "2021-08-15T02:00:09.473142",
     "status": "completed"
    },
    "tags": []
   },
   "outputs": [],
   "source": []
  }
 ],
 "metadata": {
  "kernelspec": {
   "display_name": "Python 3",
   "language": "python",
   "name": "python3"
  },
  "language_info": {
   "codemirror_mode": {
    "name": "ipython",
    "version": 3
   },
   "file_extension": ".py",
   "mimetype": "text/x-python",
   "name": "python",
   "nbconvert_exporter": "python",
   "pygments_lexer": "ipython3",
   "version": "3.9.5"
  },
  "papermill": {
   "default_parameters": {},
   "duration": 6.833639,
   "end_time": "2021-08-15T02:00:10.969369",
   "environment_variables": {},
   "exception": null,
   "input_path": "eBay_Overview.ipynb",
   "output_path": "eBay_Overview.ipynb",
   "parameters": {},
   "start_time": "2021-08-15T02:00:04.135730",
   "version": "2.3.3"
  }
 },
 "nbformat": 4,
 "nbformat_minor": 5
}