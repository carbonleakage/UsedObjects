{
 "cells": [
  {
   "cell_type": "code",
   "execution_count": 1,
   "id": "reverse-picking",
   "metadata": {
    "execution": {
     "iopub.execute_input": "2021-11-13T12:30:07.399090Z",
     "iopub.status.busy": "2021-11-13T12:30:07.396674Z",
     "iopub.status.idle": "2021-11-13T12:30:08.307506Z",
     "shell.execute_reply": "2021-11-13T12:30:08.309221Z"
    },
    "papermill": {
     "duration": 0.962251,
     "end_time": "2021-11-13T12:30:08.309950",
     "exception": false,
     "start_time": "2021-11-13T12:30:07.347699",
     "status": "completed"
    },
    "tags": []
   },
   "outputs": [],
   "source": [
    "import pandas as pd\n",
    "import sqlite3"
   ]
  },
  {
   "cell_type": "code",
   "execution_count": 2,
   "id": "innovative-syndrome",
   "metadata": {
    "execution": {
     "iopub.execute_input": "2021-11-13T12:30:08.373046Z",
     "iopub.status.busy": "2021-11-13T12:30:08.370509Z",
     "iopub.status.idle": "2021-11-13T12:30:09.167261Z",
     "shell.execute_reply": "2021-11-13T12:30:09.169730Z"
    },
    "papermill": {
     "duration": 0.832471,
     "end_time": "2021-11-13T12:30:09.170233",
     "exception": false,
     "start_time": "2021-11-13T12:30:08.337762",
     "status": "completed"
    },
    "tags": []
   },
   "outputs": [],
   "source": [
    "timestamps = pd.read_sql(\"select distinct record_time from EBAY_TOP_BERLIN order by record_time desc limit 2\", sqlite3.connect(\"UsedObjects.db\"))"
   ]
  },
  {
   "cell_type": "code",
   "execution_count": 3,
   "id": "periodic-identification",
   "metadata": {
    "execution": {
     "iopub.execute_input": "2021-11-13T12:30:09.231720Z",
     "iopub.status.busy": "2021-11-13T12:30:09.229399Z",
     "iopub.status.idle": "2021-11-13T12:30:09.265660Z",
     "shell.execute_reply": "2021-11-13T12:30:09.267067Z"
    },
    "papermill": {
     "duration": 0.076915,
     "end_time": "2021-11-13T12:30:09.267549",
     "exception": false,
     "start_time": "2021-11-13T12:30:09.190634",
     "status": "completed"
    },
    "tags": []
   },
   "outputs": [
    {
     "data": {
      "text/html": [
       "<div>\n",
       "<style scoped>\n",
       "    .dataframe tbody tr th:only-of-type {\n",
       "        vertical-align: middle;\n",
       "    }\n",
       "\n",
       "    .dataframe tbody tr th {\n",
       "        vertical-align: top;\n",
       "    }\n",
       "\n",
       "    .dataframe thead th {\n",
       "        text-align: right;\n",
       "    }\n",
       "</style>\n",
       "<table border=\"1\" class=\"dataframe\">\n",
       "  <thead>\n",
       "    <tr style=\"text-align: right;\">\n",
       "      <th></th>\n",
       "      <th>RECORD_TIME</th>\n",
       "    </tr>\n",
       "  </thead>\n",
       "  <tbody>\n",
       "    <tr>\n",
       "      <th>0</th>\n",
       "      <td>2021-11-13 13:30</td>\n",
       "    </tr>\n",
       "    <tr>\n",
       "      <th>1</th>\n",
       "      <td>2021-11-13 13:00</td>\n",
       "    </tr>\n",
       "  </tbody>\n",
       "</table>\n",
       "</div>"
      ],
      "text/plain": [
       "        RECORD_TIME\n",
       "0  2021-11-13 13:30\n",
       "1  2021-11-13 13:00"
      ]
     },
     "execution_count": 3,
     "metadata": {},
     "output_type": "execute_result"
    }
   ],
   "source": [
    "timestamps"
   ]
  },
  {
   "cell_type": "code",
   "execution_count": 4,
   "id": "alternate-victory",
   "metadata": {
    "execution": {
     "iopub.execute_input": "2021-11-13T12:30:09.321768Z",
     "iopub.status.busy": "2021-11-13T12:30:09.319656Z",
     "iopub.status.idle": "2021-11-13T12:30:10.486311Z",
     "shell.execute_reply": "2021-11-13T12:30:10.489266Z"
    },
    "papermill": {
     "duration": 1.201494,
     "end_time": "2021-11-13T12:30:10.489942",
     "exception": false,
     "start_time": "2021-11-13T12:30:09.288448",
     "status": "completed"
    },
    "tags": []
   },
   "outputs": [],
   "source": [
    "df = pd.read_sql(\"select * from EBAY_TOP_BERLIN where record_time in (select distinct record_time from EBAY_TOP_BERLIN order by record_time desc limit 2)\", sqlite3.connect(\"UsedObjects.db\"))"
   ]
  },
  {
   "cell_type": "code",
   "execution_count": 5,
   "id": "popular-active",
   "metadata": {
    "execution": {
     "iopub.execute_input": "2021-11-13T12:30:10.570365Z",
     "iopub.status.busy": "2021-11-13T12:30:10.557345Z",
     "iopub.status.idle": "2021-11-13T12:30:10.591426Z",
     "shell.execute_reply": "2021-11-13T12:30:10.592793Z"
    },
    "papermill": {
     "duration": 0.079157,
     "end_time": "2021-11-13T12:30:10.593244",
     "exception": false,
     "start_time": "2021-11-13T12:30:10.514087",
     "status": "completed"
    },
    "tags": []
   },
   "outputs": [],
   "source": [
    "df_pivot = df.pivot_table(index=\"PRODUCT\", columns = \"RECORD_TIME\", values = \"LISTING_COUNT\")"
   ]
  },
  {
   "cell_type": "code",
   "execution_count": 6,
   "id": "union-huntington",
   "metadata": {
    "execution": {
     "iopub.execute_input": "2021-11-13T12:30:10.652640Z",
     "iopub.status.busy": "2021-11-13T12:30:10.650591Z",
     "iopub.status.idle": "2021-11-13T12:30:10.655866Z",
     "shell.execute_reply": "2021-11-13T12:30:10.657430Z"
    },
    "papermill": {
     "duration": 0.043272,
     "end_time": "2021-11-13T12:30:10.657928",
     "exception": false,
     "start_time": "2021-11-13T12:30:10.614656",
     "status": "completed"
    },
    "tags": []
   },
   "outputs": [],
   "source": [
    "df_pivot.columns = [\"stamp_1\", \"stamp_2\"]\n",
    "df_pivot_diff = df_pivot.diff(axis=1)"
   ]
  },
  {
   "cell_type": "code",
   "execution_count": 7,
   "id": "fifth-motion",
   "metadata": {
    "execution": {
     "iopub.execute_input": "2021-11-13T12:30:10.718402Z",
     "iopub.status.busy": "2021-11-13T12:30:10.715902Z",
     "iopub.status.idle": "2021-11-13T12:30:12.593428Z",
     "shell.execute_reply": "2021-11-13T12:30:12.594838Z"
    },
    "papermill": {
     "duration": 1.91616,
     "end_time": "2021-11-13T12:30:12.595281",
     "exception": false,
     "start_time": "2021-11-13T12:30:10.679121",
     "status": "completed"
    },
    "tags": []
   },
   "outputs": [
    {
     "data": {
      "text/plain": [
       "<AxesSubplot:ylabel='PRODUCT'>"
      ]
     },
     "execution_count": 7,
     "metadata": {},
     "output_type": "execute_result"
    },
    {
     "data": {
      "image/png": "[encoded data removed]",
      "text/plain": [
       "<Figure size 432x288 with 1 Axes>"
      ]
     },
     "metadata": {
      "needs_background": "light"
     },
     "output_type": "display_data"
    }
   ],
   "source": [
    "df_pivot_diff.sort_values(\"stamp_2\", ascending = False)[\"stamp_2\"].head(10).plot.barh()"
   ]
  },
  {
   "cell_type": "code",
   "execution_count": null,
   "id": "extra-executive",
   "metadata": {
    "papermill": {
     "duration": 0.024128,
     "end_time": "2021-11-13T12:30:12.644717",
     "exception": false,
     "start_time": "2021-11-13T12:30:12.620589",
     "status": "completed"
    },
    "tags": []
   },
   "outputs": [],
   "source": []
  }
 ],
 "metadata": {
  "kernelspec": {
   "display_name": "Python 3",
   "language": "python",
   "name": "python3"
  },
  "language_info": {
   "codemirror_mode": {
    "name": "ipython",
    "version": 3
   },
   "file_extension": ".py",
   "mimetype": "text/x-python",
   "name": "python",
   "nbconvert_exporter": "python",
   "pygments_lexer": "ipython3",
   "version": "3.9.5"
  },
  "papermill": {
   "default_parameters": {},
   "duration": 8.859358,
   "end_time": "2021-11-13T12:30:13.493096",
   "environment_variables": {},
   "exception": null,
   "input_path": "eBay_Overview.ipynb",
   "output_path": "eBay_Overview.ipynb",
   "parameters": {},
   "start_time": "2021-11-13T12:30:04.633738",
   "version": "2.3.3"
  }
 },
 "nbformat": 4,
 "nbformat_minor": 5
}