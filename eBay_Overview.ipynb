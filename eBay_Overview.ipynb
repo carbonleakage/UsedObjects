{
 "cells": [
  {
   "cell_type": "code",
   "execution_count": 1,
   "id": "reverse-picking",
   "metadata": {
    "execution": {
     "iopub.execute_input": "2021-11-01T23:30:07.577982Z",
     "iopub.status.busy": "2021-11-01T23:30:07.575558Z",
     "iopub.status.idle": "2021-11-01T23:30:08.498132Z",
     "shell.execute_reply": "2021-11-01T23:30:08.499643Z"
    },
    "papermill": {
     "duration": 0.972453,
     "end_time": "2021-11-01T23:30:08.500380",
     "exception": false,
     "start_time": "2021-11-01T23:30:07.527927",
     "status": "completed"
    },
    "tags": []
   },
   "outputs": [],
   "source": [
    "import pandas as pd\n",
    "import sqlite3"
   ]
  },
  {
   "cell_type": "code",
   "execution_count": 2,
   "id": "innovative-syndrome",
   "metadata": {
    "execution": {
     "iopub.execute_input": "2021-11-01T23:30:08.572170Z",
     "iopub.status.busy": "2021-11-01T23:30:08.569966Z",
     "iopub.status.idle": "2021-11-01T23:30:09.273462Z",
     "shell.execute_reply": "2021-11-01T23:30:09.274855Z"
    },
    "papermill": {
     "duration": 0.753923,
     "end_time": "2021-11-01T23:30:09.275289",
     "exception": false,
     "start_time": "2021-11-01T23:30:08.521366",
     "status": "completed"
    },
    "tags": []
   },
   "outputs": [],
   "source": [
    "timestamps = pd.read_sql(\"select distinct record_time from EBAY_TOP_BERLIN order by record_time desc limit 2\", sqlite3.connect(\"UsedObjects.db\"))"
   ]
  },
  {
   "cell_type": "code",
   "execution_count": 3,
   "id": "periodic-identification",
   "metadata": {
    "execution": {
     "iopub.execute_input": "2021-11-01T23:30:09.347178Z",
     "iopub.status.busy": "2021-11-01T23:30:09.341199Z",
     "iopub.status.idle": "2021-11-01T23:30:09.364333Z",
     "shell.execute_reply": "2021-11-01T23:30:09.365922Z"
    },
    "papermill": {
     "duration": 0.071363,
     "end_time": "2021-11-01T23:30:09.366442",
     "exception": false,
     "start_time": "2021-11-01T23:30:09.295079",
     "status": "completed"
    },
    "tags": []
   },
   "outputs": [
    {
     "data": {
      "text/html": [
       "<div>\n",
       "<style scoped>\n",
       "    .dataframe tbody tr th:only-of-type {\n",
       "        vertical-align: middle;\n",
       "    }\n",
       "\n",
       "    .dataframe tbody tr th {\n",
       "        vertical-align: top;\n",
       "    }\n",
       "\n",
       "    .dataframe thead th {\n",
       "        text-align: right;\n",
       "    }\n",
       "</style>\n",
       "<table border=\"1\" class=\"dataframe\">\n",
       "  <thead>\n",
       "    <tr style=\"text-align: right;\">\n",
       "      <th></th>\n",
       "      <th>RECORD_TIME</th>\n",
       "    </tr>\n",
       "  </thead>\n",
       "  <tbody>\n",
       "    <tr>\n",
       "      <th>0</th>\n",
       "      <td>2021-11-02 00:30</td>\n",
       "    </tr>\n",
       "    <tr>\n",
       "      <th>1</th>\n",
       "      <td>2021-11-02 00:00</td>\n",
       "    </tr>\n",
       "  </tbody>\n",
       "</table>\n",
       "</div>"
      ],
      "text/plain": [
       "        RECORD_TIME\n",
       "0  2021-11-02 00:30\n",
       "1  2021-11-02 00:00"
      ]
     },
     "execution_count": 3,
     "metadata": {},
     "output_type": "execute_result"
    }
   ],
   "source": [
    "timestamps"
   ]
  },
  {
   "cell_type": "code",
   "execution_count": 4,
   "id": "alternate-victory",
   "metadata": {
    "execution": {
     "iopub.execute_input": "2021-11-01T23:30:09.421037Z",
     "iopub.status.busy": "2021-11-01T23:30:09.418594Z",
     "iopub.status.idle": "2021-11-01T23:30:10.438049Z",
     "shell.execute_reply": "2021-11-01T23:30:10.439849Z"
    },
    "papermill": {
     "duration": 1.053039,
     "end_time": "2021-11-01T23:30:10.440339",
     "exception": false,
     "start_time": "2021-11-01T23:30:09.387300",
     "status": "completed"
    },
    "tags": []
   },
   "outputs": [],
   "source": [
    "df = pd.read_sql(\"select * from EBAY_TOP_BERLIN where record_time in (select distinct record_time from EBAY_TOP_BERLIN order by record_time desc limit 2)\", sqlite3.connect(\"UsedObjects.db\"))"
   ]
  },
  {
   "cell_type": "code",
   "execution_count": 5,
   "id": "popular-active",
   "metadata": {
    "execution": {
     "iopub.execute_input": "2021-11-01T23:30:10.517744Z",
     "iopub.status.busy": "2021-11-01T23:30:10.503793Z",
     "iopub.status.idle": "2021-11-01T23:30:10.538926Z",
     "shell.execute_reply": "2021-11-01T23:30:10.540787Z"
    },
    "papermill": {
     "duration": 0.079493,
     "end_time": "2021-11-01T23:30:10.541311",
     "exception": false,
     "start_time": "2021-11-01T23:30:10.461818",
     "status": "completed"
    },
    "tags": []
   },
   "outputs": [],
   "source": [
    "df_pivot = df.pivot_table(index=\"PRODUCT\", columns = \"RECORD_TIME\", values = \"LISTING_COUNT\")"
   ]
  },
  {
   "cell_type": "code",
   "execution_count": 6,
   "id": "union-huntington",
   "metadata": {
    "execution": {
     "iopub.execute_input": "2021-11-01T23:30:10.602316Z",
     "iopub.status.busy": "2021-11-01T23:30:10.600024Z",
     "iopub.status.idle": "2021-11-01T23:30:10.606423Z",
     "shell.execute_reply": "2021-11-01T23:30:10.607926Z"
    },
    "papermill": {
     "duration": 0.046043,
     "end_time": "2021-11-01T23:30:10.608446",
     "exception": false,
     "start_time": "2021-11-01T23:30:10.562403",
     "status": "completed"
    },
    "tags": []
   },
   "outputs": [],
   "source": [
    "df_pivot.columns = [\"stamp_1\", \"stamp_2\"]\n",
    "df_pivot_diff = df_pivot.diff(axis=1)"
   ]
  },
  {
   "cell_type": "code",
   "execution_count": 7,
   "id": "fifth-motion",
   "metadata": {
    "execution": {
     "iopub.execute_input": "2021-11-01T23:30:10.666068Z",
     "iopub.status.busy": "2021-11-01T23:30:10.663576Z",
     "iopub.status.idle": "2021-11-01T23:30:12.565743Z",
     "shell.execute_reply": "2021-11-01T23:30:12.567842Z"
    },
    "papermill": {
     "duration": 1.938009,
     "end_time": "2021-11-01T23:30:12.568468",
     "exception": false,
     "start_time": "2021-11-01T23:30:10.630459",
     "status": "completed"
    },
    "tags": []
   },
   "outputs": [
    {
     "data": {
      "text/plain": [
       "<AxesSubplot:ylabel='PRODUCT'>"
      ]
     },
     "execution_count": 7,
     "metadata": {},
     "output_type": "execute_result"
    },
    {
     "data": {
      "image/png": "[encoded data removed]",
      "text/plain": [
       "<Figure size 432x288 with 1 Axes>"
      ]
     },
     "metadata": {
      "needs_background": "light"
     },
     "output_type": "display_data"
    }
   ],
   "source": [
    "df_pivot_diff.sort_values(\"stamp_2\", ascending = False)[\"stamp_2\"].head(10).plot.barh()"
   ]
  },
  {
   "cell_type": "code",
   "execution_count": null,
   "id": "extra-executive",
   "metadata": {
    "papermill": {
     "duration": 0.027737,
     "end_time": "2021-11-01T23:30:12.624030",
     "exception": false,
     "start_time": "2021-11-01T23:30:12.596293",
     "status": "completed"
    },
    "tags": []
   },
   "outputs": [],
   "source": []
  }
 ],
 "metadata": {
  "kernelspec": {
   "display_name": "Python 3",
   "language": "python",
   "name": "python3"
  },
  "language_info": {
   "codemirror_mode": {
    "name": "ipython",
    "version": 3
   },
   "file_extension": ".py",
   "mimetype": "text/x-python",
   "name": "python",
   "nbconvert_exporter": "python",
   "pygments_lexer": "ipython3",
   "version": "3.9.5"
  },
  "papermill": {
   "default_parameters": {},
   "duration": 8.654841,
   "end_time": "2021-11-01T23:30:13.471048",
   "environment_variables": {},
   "exception": null,
   "input_path": "eBay_Overview.ipynb",
   "output_path": "eBay_Overview.ipynb",
   "parameters": {},
   "start_time": "2021-11-01T23:30:04.816207",
   "version": "2.3.3"
  }
 },
 "nbformat": 4,
 "nbformat_minor": 5
}