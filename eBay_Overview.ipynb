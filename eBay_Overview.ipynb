{
 "cells": [
  {
   "cell_type": "code",
   "execution_count": 1,
   "id": "reverse-picking",
   "metadata": {
    "execution": {
     "iopub.execute_input": "2021-10-14T21:30:07.274247Z",
     "iopub.status.busy": "2021-10-14T21:30:07.272210Z",
     "iopub.status.idle": "2021-10-14T21:30:08.078561Z",
     "shell.execute_reply": "2021-10-14T21:30:08.079806Z"
    },
    "papermill": {
     "duration": 0.857034,
     "end_time": "2021-10-14T21:30:08.080417",
     "exception": false,
     "start_time": "2021-10-14T21:30:07.223383",
     "status": "completed"
    },
    "tags": []
   },
   "outputs": [],
   "source": [
    "import pandas as pd\n",
    "import sqlite3"
   ]
  },
  {
   "cell_type": "code",
   "execution_count": 2,
   "id": "innovative-syndrome",
   "metadata": {
    "execution": {
     "iopub.execute_input": "2021-10-14T21:30:08.133386Z",
     "iopub.status.busy": "2021-10-14T21:30:08.130955Z",
     "iopub.status.idle": "2021-10-14T21:30:08.682349Z",
     "shell.execute_reply": "2021-10-14T21:30:08.683731Z"
    },
    "papermill": {
     "duration": 0.581377,
     "end_time": "2021-10-14T21:30:08.684171",
     "exception": false,
     "start_time": "2021-10-14T21:30:08.102794",
     "status": "completed"
    },
    "tags": []
   },
   "outputs": [],
   "source": [
    "timestamps = pd.read_sql(\"select distinct record_time from EBAY_TOP_BERLIN order by record_time desc limit 2\", sqlite3.connect(\"UsedObjects.db\"))"
   ]
  },
  {
   "cell_type": "code",
   "execution_count": 3,
   "id": "periodic-identification",
   "metadata": {
    "execution": {
     "iopub.execute_input": "2021-10-14T21:30:08.765707Z",
     "iopub.status.busy": "2021-10-14T21:30:08.763591Z",
     "iopub.status.idle": "2021-10-14T21:30:08.785371Z",
     "shell.execute_reply": "2021-10-14T21:30:08.783813Z"
    },
    "papermill": {
     "duration": 0.0729,
     "end_time": "2021-10-14T21:30:08.785758",
     "exception": false,
     "start_time": "2021-10-14T21:30:08.712858",
     "status": "completed"
    },
    "tags": []
   },
   "outputs": [
    {
     "data": {
      "text/html": [
       "<div>\n",
       "<style scoped>\n",
       "    .dataframe tbody tr th:only-of-type {\n",
       "        vertical-align: middle;\n",
       "    }\n",
       "\n",
       "    .dataframe tbody tr th {\n",
       "        vertical-align: top;\n",
       "    }\n",
       "\n",
       "    .dataframe thead th {\n",
       "        text-align: right;\n",
       "    }\n",
       "</style>\n",
       "<table border=\"1\" class=\"dataframe\">\n",
       "  <thead>\n",
       "    <tr style=\"text-align: right;\">\n",
       "      <th></th>\n",
       "      <th>RECORD_TIME</th>\n",
       "    </tr>\n",
       "  </thead>\n",
       "  <tbody>\n",
       "    <tr>\n",
       "      <th>0</th>\n",
       "      <td>2021-10-14 23:30</td>\n",
       "    </tr>\n",
       "    <tr>\n",
       "      <th>1</th>\n",
       "      <td>2021-10-14 23:00</td>\n",
       "    </tr>\n",
       "  </tbody>\n",
       "</table>\n",
       "</div>"
      ],
      "text/plain": [
       "        RECORD_TIME\n",
       "0  2021-10-14 23:30\n",
       "1  2021-10-14 23:00"
      ]
     },
     "execution_count": 3,
     "metadata": {},
     "output_type": "execute_result"
    }
   ],
   "source": [
    "timestamps"
   ]
  },
  {
   "cell_type": "code",
   "execution_count": 4,
   "id": "alternate-victory",
   "metadata": {
    "execution": {
     "iopub.execute_input": "2021-10-14T21:30:08.837421Z",
     "iopub.status.busy": "2021-10-14T21:30:08.835423Z",
     "iopub.status.idle": "2021-10-14T21:30:09.632432Z",
     "shell.execute_reply": "2021-10-14T21:30:09.634076Z"
    },
    "papermill": {
     "duration": 0.828051,
     "end_time": "2021-10-14T21:30:09.634633",
     "exception": false,
     "start_time": "2021-10-14T21:30:08.806582",
     "status": "completed"
    },
    "tags": []
   },
   "outputs": [],
   "source": [
    "df = pd.read_sql(\"select * from EBAY_TOP_BERLIN where record_time in (select distinct record_time from EBAY_TOP_BERLIN order by record_time desc limit 2)\", sqlite3.connect(\"UsedObjects.db\"))"
   ]
  },
  {
   "cell_type": "code",
   "execution_count": 5,
   "id": "popular-active",
   "metadata": {
    "execution": {
     "iopub.execute_input": "2021-10-14T21:30:09.706348Z",
     "iopub.status.busy": "2021-10-14T21:30:09.694401Z",
     "iopub.status.idle": "2021-10-14T21:30:09.722890Z",
     "shell.execute_reply": "2021-10-14T21:30:09.724256Z"
    },
    "papermill": {
     "duration": 0.068704,
     "end_time": "2021-10-14T21:30:09.724806",
     "exception": false,
     "start_time": "2021-10-14T21:30:09.656102",
     "status": "completed"
    },
    "tags": []
   },
   "outputs": [],
   "source": [
    "df_pivot = df.pivot_table(index=\"PRODUCT\", columns = \"RECORD_TIME\", values = \"LISTING_COUNT\")"
   ]
  },
  {
   "cell_type": "code",
   "execution_count": 6,
   "id": "union-huntington",
   "metadata": {
    "execution": {
     "iopub.execute_input": "2021-10-14T21:30:09.782916Z",
     "iopub.status.busy": "2021-10-14T21:30:09.780371Z",
     "iopub.status.idle": "2021-10-14T21:30:09.787641Z",
     "shell.execute_reply": "2021-10-14T21:30:09.786241Z"
    },
    "papermill": {
     "duration": 0.042385,
     "end_time": "2021-10-14T21:30:09.787994",
     "exception": false,
     "start_time": "2021-10-14T21:30:09.745609",
     "status": "completed"
    },
    "tags": []
   },
   "outputs": [],
   "source": [
    "df_pivot.columns = [\"stamp_1\", \"stamp_2\"]\n",
    "df_pivot_diff = df_pivot.diff(axis=1)"
   ]
  },
  {
   "cell_type": "code",
   "execution_count": 7,
   "id": "fifth-motion",
   "metadata": {
    "execution": {
     "iopub.execute_input": "2021-10-14T21:30:09.842135Z",
     "iopub.status.busy": "2021-10-14T21:30:09.839588Z",
     "iopub.status.idle": "2021-10-14T21:30:11.327019Z",
     "shell.execute_reply": "2021-10-14T21:30:11.325400Z"
    },
    "papermill": {
     "duration": 1.518831,
     "end_time": "2021-10-14T21:30:11.327396",
     "exception": false,
     "start_time": "2021-10-14T21:30:09.808565",
     "status": "completed"
    },
    "tags": []
   },
   "outputs": [
    {
     "data": {
      "text/plain": [
       "<AxesSubplot:ylabel='PRODUCT'>"
      ]
     },
     "execution_count": 7,
     "metadata": {},
     "output_type": "execute_result"
    },
    {
     "data": {
      "image/png": "[encoded data removed]",
      "text/plain": [
       "<Figure size 432x288 with 1 Axes>"
      ]
     },
     "metadata": {
      "needs_background": "light"
     },
     "output_type": "display_data"
    }
   ],
   "source": [
    "df_pivot_diff.sort_values(\"stamp_2\", ascending = False)[\"stamp_2\"].head(10).plot.barh()"
   ]
  },
  {
   "cell_type": "code",
   "execution_count": null,
   "id": "extra-executive",
   "metadata": {
    "papermill": {
     "duration": 0.022027,
     "end_time": "2021-10-14T21:30:11.373740",
     "exception": false,
     "start_time": "2021-10-14T21:30:11.351713",
     "status": "completed"
    },
    "tags": []
   },
   "outputs": [],
   "source": []
  }
 ],
 "metadata": {
  "kernelspec": {
   "display_name": "Python 3",
   "language": "python",
   "name": "python3"
  },
  "language_info": {
   "codemirror_mode": {
    "name": "ipython",
    "version": 3
   },
   "file_extension": ".py",
   "mimetype": "text/x-python",
   "name": "python",
   "nbconvert_exporter": "python",
   "pygments_lexer": "ipython3",
   "version": "3.9.5"
  },
  "papermill": {
   "default_parameters": {},
   "duration": 7.832159,
   "end_time": "2021-10-14T21:30:12.644223",
   "environment_variables": {},
   "exception": null,
   "input_path": "eBay_Overview.ipynb",
   "output_path": "eBay_Overview.ipynb",
   "parameters": {},
   "start_time": "2021-10-14T21:30:04.812064",
   "version": "2.3.3"
  }
 },
 "nbformat": 4,
 "nbformat_minor": 5
}