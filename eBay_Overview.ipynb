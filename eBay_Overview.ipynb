{
 "cells": [
  {
   "cell_type": "code",
   "execution_count": 1,
   "id": "reverse-picking",
   "metadata": {
    "execution": {
     "iopub.execute_input": "2021-10-19T07:00:06.662475Z",
     "iopub.status.busy": "2021-10-19T07:00:06.660372Z",
     "iopub.status.idle": "2021-10-19T07:00:07.468624Z",
     "shell.execute_reply": "2021-10-19T07:00:07.467069Z"
    },
    "papermill": {
     "duration": 0.857926,
     "end_time": "2021-10-19T07:00:07.469228",
     "exception": false,
     "start_time": "2021-10-19T07:00:06.611302",
     "status": "completed"
    },
    "tags": []
   },
   "outputs": [],
   "source": [
    "import pandas as pd\n",
    "import sqlite3"
   ]
  },
  {
   "cell_type": "code",
   "execution_count": 2,
   "id": "innovative-syndrome",
   "metadata": {
    "execution": {
     "iopub.execute_input": "2021-10-19T07:00:07.522926Z",
     "iopub.status.busy": "2021-10-19T07:00:07.520348Z",
     "iopub.status.idle": "2021-10-19T07:00:08.099391Z",
     "shell.execute_reply": "2021-10-19T07:00:08.100586Z"
    },
    "papermill": {
     "duration": 0.609316,
     "end_time": "2021-10-19T07:00:08.101045",
     "exception": false,
     "start_time": "2021-10-19T07:00:07.491729",
     "status": "completed"
    },
    "tags": []
   },
   "outputs": [],
   "source": [
    "timestamps = pd.read_sql(\"select distinct record_time from EBAY_TOP_BERLIN order by record_time desc limit 2\", sqlite3.connect(\"UsedObjects.db\"))"
   ]
  },
  {
   "cell_type": "code",
   "execution_count": 3,
   "id": "periodic-identification",
   "metadata": {
    "execution": {
     "iopub.execute_input": "2021-10-19T07:00:08.180485Z",
     "iopub.status.busy": "2021-10-19T07:00:08.174999Z",
     "iopub.status.idle": "2021-10-19T07:00:08.196629Z",
     "shell.execute_reply": "2021-10-19T07:00:08.198104Z"
    },
    "papermill": {
     "duration": 0.071739,
     "end_time": "2021-10-19T07:00:08.198615",
     "exception": false,
     "start_time": "2021-10-19T07:00:08.126876",
     "status": "completed"
    },
    "tags": []
   },
   "outputs": [
    {
     "data": {
      "text/html": [
       "<div>\n",
       "<style scoped>\n",
       "    .dataframe tbody tr th:only-of-type {\n",
       "        vertical-align: middle;\n",
       "    }\n",
       "\n",
       "    .dataframe tbody tr th {\n",
       "        vertical-align: top;\n",
       "    }\n",
       "\n",
       "    .dataframe thead th {\n",
       "        text-align: right;\n",
       "    }\n",
       "</style>\n",
       "<table border=\"1\" class=\"dataframe\">\n",
       "  <thead>\n",
       "    <tr style=\"text-align: right;\">\n",
       "      <th></th>\n",
       "      <th>RECORD_TIME</th>\n",
       "    </tr>\n",
       "  </thead>\n",
       "  <tbody>\n",
       "    <tr>\n",
       "      <th>0</th>\n",
       "      <td>2021-10-19 09:00</td>\n",
       "    </tr>\n",
       "    <tr>\n",
       "      <th>1</th>\n",
       "      <td>2021-10-19 08:30</td>\n",
       "    </tr>\n",
       "  </tbody>\n",
       "</table>\n",
       "</div>"
      ],
      "text/plain": [
       "        RECORD_TIME\n",
       "0  2021-10-19 09:00\n",
       "1  2021-10-19 08:30"
      ]
     },
     "execution_count": 3,
     "metadata": {},
     "output_type": "execute_result"
    }
   ],
   "source": [
    "timestamps"
   ]
  },
  {
   "cell_type": "code",
   "execution_count": 4,
   "id": "alternate-victory",
   "metadata": {
    "execution": {
     "iopub.execute_input": "2021-10-19T07:00:08.252208Z",
     "iopub.status.busy": "2021-10-19T07:00:08.250212Z",
     "iopub.status.idle": "2021-10-19T07:00:09.076222Z",
     "shell.execute_reply": "2021-10-19T07:00:09.077557Z"
    },
    "papermill": {
     "duration": 0.857067,
     "end_time": "2021-10-19T07:00:09.077980",
     "exception": false,
     "start_time": "2021-10-19T07:00:08.220913",
     "status": "completed"
    },
    "tags": []
   },
   "outputs": [],
   "source": [
    "df = pd.read_sql(\"select * from EBAY_TOP_BERLIN where record_time in (select distinct record_time from EBAY_TOP_BERLIN order by record_time desc limit 2)\", sqlite3.connect(\"UsedObjects.db\"))"
   ]
  },
  {
   "cell_type": "code",
   "execution_count": 5,
   "id": "popular-active",
   "metadata": {
    "execution": {
     "iopub.execute_input": "2021-10-19T07:00:09.148757Z",
     "iopub.status.busy": "2021-10-19T07:00:09.136983Z",
     "iopub.status.idle": "2021-10-19T07:00:09.164516Z",
     "shell.execute_reply": "2021-10-19T07:00:09.165979Z"
    },
    "papermill": {
     "duration": 0.06724,
     "end_time": "2021-10-19T07:00:09.166419",
     "exception": false,
     "start_time": "2021-10-19T07:00:09.099179",
     "status": "completed"
    },
    "tags": []
   },
   "outputs": [],
   "source": [
    "df_pivot = df.pivot_table(index=\"PRODUCT\", columns = \"RECORD_TIME\", values = \"LISTING_COUNT\")"
   ]
  },
  {
   "cell_type": "code",
   "execution_count": 6,
   "id": "union-huntington",
   "metadata": {
    "execution": {
     "iopub.execute_input": "2021-10-19T07:00:09.224370Z",
     "iopub.status.busy": "2021-10-19T07:00:09.222005Z",
     "iopub.status.idle": "2021-10-19T07:00:09.227769Z",
     "shell.execute_reply": "2021-10-19T07:00:09.229121Z"
    },
    "papermill": {
     "duration": 0.042254,
     "end_time": "2021-10-19T07:00:09.229538",
     "exception": false,
     "start_time": "2021-10-19T07:00:09.187284",
     "status": "completed"
    },
    "tags": []
   },
   "outputs": [],
   "source": [
    "df_pivot.columns = [\"stamp_1\", \"stamp_2\"]\n",
    "df_pivot_diff = df_pivot.diff(axis=1)"
   ]
  },
  {
   "cell_type": "code",
   "execution_count": 7,
   "id": "fifth-motion",
   "metadata": {
    "execution": {
     "iopub.execute_input": "2021-10-19T07:00:09.284020Z",
     "iopub.status.busy": "2021-10-19T07:00:09.281750Z",
     "iopub.status.idle": "2021-10-19T07:00:10.798679Z",
     "shell.execute_reply": "2021-10-19T07:00:10.799952Z"
    },
    "papermill": {
     "duration": 1.549793,
     "end_time": "2021-10-19T07:00:10.800367",
     "exception": false,
     "start_time": "2021-10-19T07:00:09.250574",
     "status": "completed"
    },
    "tags": []
   },
   "outputs": [
    {
     "data": {
      "text/plain": [
       "<AxesSubplot:ylabel='PRODUCT'>"
      ]
     },
     "execution_count": 7,
     "metadata": {},
     "output_type": "execute_result"
    },
    {
     "data": {
      "image/png": "[encoded data removed]",
      "text/plain": [
       "<Figure size 432x288 with 1 Axes>"
      ]
     },
     "metadata": {
      "needs_background": "light"
     },
     "output_type": "display_data"
    }
   ],
   "source": [
    "df_pivot_diff.sort_values(\"stamp_2\", ascending = False)[\"stamp_2\"].head(10).plot.barh()"
   ]
  },
  {
   "cell_type": "code",
   "execution_count": null,
   "id": "extra-executive",
   "metadata": {
    "papermill": {
     "duration": 0.022529,
     "end_time": "2021-10-19T07:00:10.848004",
     "exception": false,
     "start_time": "2021-10-19T07:00:10.825475",
     "status": "completed"
    },
    "tags": []
   },
   "outputs": [],
   "source": []
  }
 ],
 "metadata": {
  "kernelspec": {
   "display_name": "Python 3",
   "language": "python",
   "name": "python3"
  },
  "language_info": {
   "codemirror_mode": {
    "name": "ipython",
    "version": 3
   },
   "file_extension": ".py",
   "mimetype": "text/x-python",
   "name": "python",
   "nbconvert_exporter": "python",
   "pygments_lexer": "ipython3",
   "version": "3.9.5"
  },
  "papermill": {
   "default_parameters": {},
   "duration": 7.822553,
   "end_time": "2021-10-19T07:00:12.022366",
   "environment_variables": {},
   "exception": null,
   "input_path": "eBay_Overview.ipynb",
   "output_path": "eBay_Overview.ipynb",
   "parameters": {},
   "start_time": "2021-10-19T07:00:04.199813",
   "version": "2.3.3"
  }
 },
 "nbformat": 4,
 "nbformat_minor": 5
}