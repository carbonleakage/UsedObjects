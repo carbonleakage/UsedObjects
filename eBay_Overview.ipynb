{
 "cells": [
  {
   "cell_type": "code",
   "execution_count": 1,
   "id": "reverse-picking",
   "metadata": {
    "execution": {
     "iopub.execute_input": "2021-10-16T20:30:07.493081Z",
     "iopub.status.busy": "2021-10-16T20:30:07.491017Z",
     "iopub.status.idle": "2021-10-16T20:30:08.295023Z",
     "shell.execute_reply": "2021-10-16T20:30:08.296358Z"
    },
    "papermill": {
     "duration": 0.855976,
     "end_time": "2021-10-16T20:30:08.297069",
     "exception": false,
     "start_time": "2021-10-16T20:30:07.441093",
     "status": "completed"
    },
    "tags": []
   },
   "outputs": [],
   "source": [
    "import pandas as pd\n",
    "import sqlite3"
   ]
  },
  {
   "cell_type": "code",
   "execution_count": 2,
   "id": "innovative-syndrome",
   "metadata": {
    "execution": {
     "iopub.execute_input": "2021-10-16T20:30:08.348045Z",
     "iopub.status.busy": "2021-10-16T20:30:08.345975Z",
     "iopub.status.idle": "2021-10-16T20:30:08.894784Z",
     "shell.execute_reply": "2021-10-16T20:30:08.896058Z"
    },
    "papermill": {
     "duration": 0.579095,
     "end_time": "2021-10-16T20:30:08.896478",
     "exception": false,
     "start_time": "2021-10-16T20:30:08.317383",
     "status": "completed"
    },
    "tags": []
   },
   "outputs": [],
   "source": [
    "timestamps = pd.read_sql(\"select distinct record_time from EBAY_TOP_BERLIN order by record_time desc limit 2\", sqlite3.connect(\"UsedObjects.db\"))"
   ]
  },
  {
   "cell_type": "code",
   "execution_count": 3,
   "id": "periodic-identification",
   "metadata": {
    "execution": {
     "iopub.execute_input": "2021-10-16T20:30:08.970754Z",
     "iopub.status.busy": "2021-10-16T20:30:08.968651Z",
     "iopub.status.idle": "2021-10-16T20:30:08.990334Z",
     "shell.execute_reply": "2021-10-16T20:30:08.988912Z"
    },
    "papermill": {
     "duration": 0.069014,
     "end_time": "2021-10-16T20:30:08.990689",
     "exception": false,
     "start_time": "2021-10-16T20:30:08.921675",
     "status": "completed"
    },
    "tags": []
   },
   "outputs": [
    {
     "data": {
      "text/html": [
       "<div>\n",
       "<style scoped>\n",
       "    .dataframe tbody tr th:only-of-type {\n",
       "        vertical-align: middle;\n",
       "    }\n",
       "\n",
       "    .dataframe tbody tr th {\n",
       "        vertical-align: top;\n",
       "    }\n",
       "\n",
       "    .dataframe thead th {\n",
       "        text-align: right;\n",
       "    }\n",
       "</style>\n",
       "<table border=\"1\" class=\"dataframe\">\n",
       "  <thead>\n",
       "    <tr style=\"text-align: right;\">\n",
       "      <th></th>\n",
       "      <th>RECORD_TIME</th>\n",
       "    </tr>\n",
       "  </thead>\n",
       "  <tbody>\n",
       "    <tr>\n",
       "      <th>0</th>\n",
       "      <td>2021-10-16 22:30</td>\n",
       "    </tr>\n",
       "    <tr>\n",
       "      <th>1</th>\n",
       "      <td>2021-10-16 22:00</td>\n",
       "    </tr>\n",
       "  </tbody>\n",
       "</table>\n",
       "</div>"
      ],
      "text/plain": [
       "        RECORD_TIME\n",
       "0  2021-10-16 22:30\n",
       "1  2021-10-16 22:00"
      ]
     },
     "execution_count": 3,
     "metadata": {},
     "output_type": "execute_result"
    }
   ],
   "source": [
    "timestamps"
   ]
  },
  {
   "cell_type": "code",
   "execution_count": 4,
   "id": "alternate-victory",
   "metadata": {
    "execution": {
     "iopub.execute_input": "2021-10-16T20:30:09.042103Z",
     "iopub.status.busy": "2021-10-16T20:30:09.040126Z",
     "iopub.status.idle": "2021-10-16T20:30:09.845548Z",
     "shell.execute_reply": "2021-10-16T20:30:09.846937Z"
    },
    "papermill": {
     "duration": 0.835571,
     "end_time": "2021-10-16T20:30:09.847379",
     "exception": false,
     "start_time": "2021-10-16T20:30:09.011808",
     "status": "completed"
    },
    "tags": []
   },
   "outputs": [],
   "source": [
    "df = pd.read_sql(\"select * from EBAY_TOP_BERLIN where record_time in (select distinct record_time from EBAY_TOP_BERLIN order by record_time desc limit 2)\", sqlite3.connect(\"UsedObjects.db\"))"
   ]
  },
  {
   "cell_type": "code",
   "execution_count": 5,
   "id": "popular-active",
   "metadata": {
    "execution": {
     "iopub.execute_input": "2021-10-16T20:30:09.918935Z",
     "iopub.status.busy": "2021-10-16T20:30:09.907230Z",
     "iopub.status.idle": "2021-10-16T20:30:09.934712Z",
     "shell.execute_reply": "2021-10-16T20:30:09.935926Z"
    },
    "papermill": {
     "duration": 0.067431,
     "end_time": "2021-10-16T20:30:09.936324",
     "exception": false,
     "start_time": "2021-10-16T20:30:09.868893",
     "status": "completed"
    },
    "tags": []
   },
   "outputs": [],
   "source": [
    "df_pivot = df.pivot_table(index=\"PRODUCT\", columns = \"RECORD_TIME\", values = \"LISTING_COUNT\")"
   ]
  },
  {
   "cell_type": "code",
   "execution_count": 6,
   "id": "union-huntington",
   "metadata": {
    "execution": {
     "iopub.execute_input": "2021-10-16T20:30:09.995852Z",
     "iopub.status.busy": "2021-10-16T20:30:09.993381Z",
     "iopub.status.idle": "2021-10-16T20:30:10.000951Z",
     "shell.execute_reply": "2021-10-16T20:30:09.999503Z"
    },
    "papermill": {
     "duration": 0.042732,
     "end_time": "2021-10-16T20:30:10.001343",
     "exception": false,
     "start_time": "2021-10-16T20:30:09.958611",
     "status": "completed"
    },
    "tags": []
   },
   "outputs": [],
   "source": [
    "df_pivot.columns = [\"stamp_1\", \"stamp_2\"]\n",
    "df_pivot_diff = df_pivot.diff(axis=1)"
   ]
  },
  {
   "cell_type": "code",
   "execution_count": 7,
   "id": "fifth-motion",
   "metadata": {
    "execution": {
     "iopub.execute_input": "2021-10-16T20:30:10.055935Z",
     "iopub.status.busy": "2021-10-16T20:30:10.053717Z",
     "iopub.status.idle": "2021-10-16T20:30:11.530639Z",
     "shell.execute_reply": "2021-10-16T20:30:11.532120Z"
    },
    "papermill": {
     "duration": 1.509852,
     "end_time": "2021-10-16T20:30:11.532588",
     "exception": false,
     "start_time": "2021-10-16T20:30:10.022736",
     "status": "completed"
    },
    "tags": []
   },
   "outputs": [
    {
     "data": {
      "text/plain": [
       "<AxesSubplot:ylabel='PRODUCT'>"
      ]
     },
     "execution_count": 7,
     "metadata": {},
     "output_type": "execute_result"
    },
    {
     "data": {
      "image/png": "[encoded data removed]",
      "text/plain": [
       "<Figure size 432x288 with 1 Axes>"
      ]
     },
     "metadata": {
      "needs_background": "light"
     },
     "output_type": "display_data"
    }
   ],
   "source": [
    "df_pivot_diff.sort_values(\"stamp_2\", ascending = False)[\"stamp_2\"].head(10).plot.barh()"
   ]
  },
  {
   "cell_type": "code",
   "execution_count": null,
   "id": "extra-executive",
   "metadata": {
    "papermill": {
     "duration": 0.022278,
     "end_time": "2021-10-16T20:30:11.579462",
     "exception": false,
     "start_time": "2021-10-16T20:30:11.557184",
     "status": "completed"
    },
    "tags": []
   },
   "outputs": [],
   "source": []
  }
 ],
 "metadata": {
  "kernelspec": {
   "display_name": "Python 3",
   "language": "python",
   "name": "python3"
  },
  "language_info": {
   "codemirror_mode": {
    "name": "ipython",
    "version": 3
   },
   "file_extension": ".py",
   "mimetype": "text/x-python",
   "name": "python",
   "nbconvert_exporter": "python",
   "pygments_lexer": "ipython3",
   "version": "3.9.5"
  },
  "papermill": {
   "default_parameters": {},
   "duration": 7.835382,
   "end_time": "2021-10-16T20:30:12.866447",
   "environment_variables": {},
   "exception": null,
   "input_path": "eBay_Overview.ipynb",
   "output_path": "eBay_Overview.ipynb",
   "parameters": {},
   "start_time": "2021-10-16T20:30:05.031065",
   "version": "2.3.3"
  }
 },
 "nbformat": 4,
 "nbformat_minor": 5
}