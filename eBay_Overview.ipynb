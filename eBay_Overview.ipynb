{
 "cells": [
  {
   "cell_type": "code",
   "execution_count": 1,
   "id": "reverse-picking",
   "metadata": {
    "execution": {
     "iopub.execute_input": "2021-08-29T06:30:07.483222Z",
     "iopub.status.busy": "2021-08-29T06:30:07.481318Z",
     "iopub.status.idle": "2021-08-29T06:30:08.285810Z",
     "shell.execute_reply": "2021-08-29T06:30:08.284182Z"
    },
    "papermill": {
     "duration": 0.853264,
     "end_time": "2021-08-29T06:30:08.286216",
     "exception": false,
     "start_time": "2021-08-29T06:30:07.432952",
     "status": "completed"
    },
    "tags": []
   },
   "outputs": [],
   "source": [
    "import pandas as pd\n",
    "import sqlite3"
   ]
  },
  {
   "cell_type": "code",
   "execution_count": 2,
   "id": "innovative-syndrome",
   "metadata": {
    "execution": {
     "iopub.execute_input": "2021-08-29T06:30:08.337378Z",
     "iopub.status.busy": "2021-08-29T06:30:08.335386Z",
     "iopub.status.idle": "2021-08-29T06:30:08.489447Z",
     "shell.execute_reply": "2021-08-29T06:30:08.490637Z"
    },
    "papermill": {
     "duration": 0.183341,
     "end_time": "2021-08-29T06:30:08.491030",
     "exception": false,
     "start_time": "2021-08-29T06:30:08.307689",
     "status": "completed"
    },
    "tags": []
   },
   "outputs": [],
   "source": [
    "timestamps = pd.read_sql(\"select distinct record_time from EBAY_TOP_BERLIN order by record_time desc limit 2\", sqlite3.connect(\"UsedObjects.db\"))"
   ]
  },
  {
   "cell_type": "code",
   "execution_count": 3,
   "id": "periodic-identification",
   "metadata": {
    "execution": {
     "iopub.execute_input": "2021-08-29T06:30:08.554290Z",
     "iopub.status.busy": "2021-08-29T06:30:08.552258Z",
     "iopub.status.idle": "2021-08-29T06:30:08.572191Z",
     "shell.execute_reply": "2021-08-29T06:30:08.573398Z"
    },
    "papermill": {
     "duration": 0.063604,
     "end_time": "2021-08-29T06:30:08.573806",
     "exception": false,
     "start_time": "2021-08-29T06:30:08.510202",
     "status": "completed"
    },
    "tags": []
   },
   "outputs": [
    {
     "data": {
      "text/html": [
       "<div>\n",
       "<style scoped>\n",
       "    .dataframe tbody tr th:only-of-type {\n",
       "        vertical-align: middle;\n",
       "    }\n",
       "\n",
       "    .dataframe tbody tr th {\n",
       "        vertical-align: top;\n",
       "    }\n",
       "\n",
       "    .dataframe thead th {\n",
       "        text-align: right;\n",
       "    }\n",
       "</style>\n",
       "<table border=\"1\" class=\"dataframe\">\n",
       "  <thead>\n",
       "    <tr style=\"text-align: right;\">\n",
       "      <th></th>\n",
       "      <th>RECORD_TIME</th>\n",
       "    </tr>\n",
       "  </thead>\n",
       "  <tbody>\n",
       "    <tr>\n",
       "      <th>0</th>\n",
       "      <td>2021-08-29 08:30</td>\n",
       "    </tr>\n",
       "    <tr>\n",
       "      <th>1</th>\n",
       "      <td>2021-08-29 08:00</td>\n",
       "    </tr>\n",
       "  </tbody>\n",
       "</table>\n",
       "</div>"
      ],
      "text/plain": [
       "        RECORD_TIME\n",
       "0  2021-08-29 08:30\n",
       "1  2021-08-29 08:00"
      ]
     },
     "execution_count": 3,
     "metadata": {},
     "output_type": "execute_result"
    }
   ],
   "source": [
    "timestamps"
   ]
  },
  {
   "cell_type": "code",
   "execution_count": 4,
   "id": "alternate-victory",
   "metadata": {
    "execution": {
     "iopub.execute_input": "2021-08-29T06:30:08.627807Z",
     "iopub.status.busy": "2021-08-29T06:30:08.625535Z",
     "iopub.status.idle": "2021-08-29T06:30:08.863138Z",
     "shell.execute_reply": "2021-08-29T06:30:08.864414Z"
    },
    "papermill": {
     "duration": 0.267905,
     "end_time": "2021-08-29T06:30:08.864829",
     "exception": false,
     "start_time": "2021-08-29T06:30:08.596924",
     "status": "completed"
    },
    "tags": []
   },
   "outputs": [],
   "source": [
    "df = pd.read_sql(\"select * from EBAY_TOP_BERLIN where record_time in (select distinct record_time from EBAY_TOP_BERLIN order by record_time desc limit 2)\", sqlite3.connect(\"UsedObjects.db\"))"
   ]
  },
  {
   "cell_type": "code",
   "execution_count": 5,
   "id": "popular-active",
   "metadata": {
    "execution": {
     "iopub.execute_input": "2021-08-29T06:30:08.925501Z",
     "iopub.status.busy": "2021-08-29T06:30:08.923269Z",
     "iopub.status.idle": "2021-08-29T06:30:08.950152Z",
     "shell.execute_reply": "2021-08-29T06:30:08.951352Z"
    },
    "papermill": {
     "duration": 0.066911,
     "end_time": "2021-08-29T06:30:08.951742",
     "exception": false,
     "start_time": "2021-08-29T06:30:08.884831",
     "status": "completed"
    },
    "tags": []
   },
   "outputs": [],
   "source": [
    "df_pivot = df.pivot_table(index=\"PRODUCT\", columns = \"RECORD_TIME\", values = \"LISTING_COUNT\")"
   ]
  },
  {
   "cell_type": "code",
   "execution_count": 6,
   "id": "union-huntington",
   "metadata": {
    "execution": {
     "iopub.execute_input": "2021-08-29T06:30:09.017592Z",
     "iopub.status.busy": "2021-08-29T06:30:09.015444Z",
     "iopub.status.idle": "2021-08-29T06:30:09.020942Z",
     "shell.execute_reply": "2021-08-29T06:30:09.022239Z"
    },
    "papermill": {
     "duration": 0.045282,
     "end_time": "2021-08-29T06:30:09.022646",
     "exception": false,
     "start_time": "2021-08-29T06:30:08.977364",
     "status": "completed"
    },
    "tags": []
   },
   "outputs": [],
   "source": [
    "df_pivot.columns = [\"stamp_1\", \"stamp_2\"]\n",
    "df_pivot_diff = df_pivot.diff(axis=1)"
   ]
  },
  {
   "cell_type": "code",
   "execution_count": 7,
   "id": "fifth-motion",
   "metadata": {
    "execution": {
     "iopub.execute_input": "2021-08-29T06:30:09.077073Z",
     "iopub.status.busy": "2021-08-29T06:30:09.074487Z",
     "iopub.status.idle": "2021-08-29T06:30:10.580782Z",
     "shell.execute_reply": "2021-08-29T06:30:10.582081Z"
    },
    "papermill": {
     "duration": 1.538839,
     "end_time": "2021-08-29T06:30:10.582498",
     "exception": false,
     "start_time": "2021-08-29T06:30:09.043659",
     "status": "completed"
    },
    "tags": []
   },
   "outputs": [
    {
     "data": {
      "text/plain": [
       "<AxesSubplot:ylabel='PRODUCT'>"
      ]
     },
     "execution_count": 7,
     "metadata": {},
     "output_type": "execute_result"
    },
    {
     "data": {
      "image/png": "[encoded data removed]",
      "text/plain": [
       "<Figure size 432x288 with 1 Axes>"
      ]
     },
     "metadata": {
      "needs_background": "light"
     },
     "output_type": "display_data"
    }
   ],
   "source": [
    "df_pivot_diff.sort_values(\"stamp_2\", ascending = False)[\"stamp_2\"].head(10).plot.barh()"
   ]
  },
  {
   "cell_type": "code",
   "execution_count": null,
   "id": "extra-executive",
   "metadata": {
    "papermill": {
     "duration": 0.021885,
     "end_time": "2021-08-29T06:30:10.628002",
     "exception": false,
     "start_time": "2021-08-29T06:30:10.606117",
     "status": "completed"
    },
    "tags": []
   },
   "outputs": [],
   "source": []
  }
 ],
 "metadata": {
  "kernelspec": {
   "display_name": "Python 3",
   "language": "python",
   "name": "python3"
  },
  "language_info": {
   "codemirror_mode": {
    "name": "ipython",
    "version": 3
   },
   "file_extension": ".py",
   "mimetype": "text/x-python",
   "name": "python",
   "nbconvert_exporter": "python",
   "pygments_lexer": "ipython3",
   "version": "3.9.5"
  },
  "papermill": {
   "default_parameters": {},
   "duration": 6.820539,
   "end_time": "2021-08-29T06:30:11.850964",
   "environment_variables": {},
   "exception": null,
   "input_path": "eBay_Overview.ipynb",
   "output_path": "eBay_Overview.ipynb",
   "parameters": {},
   "start_time": "2021-08-29T06:30:05.030425",
   "version": "2.3.3"
  }
 },
 "nbformat": 4,
 "nbformat_minor": 5
}