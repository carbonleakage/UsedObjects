{
 "cells": [
  {
   "cell_type": "code",
   "execution_count": 1,
   "id": "reverse-picking",
   "metadata": {
    "execution": {
     "iopub.execute_input": "2021-11-21T06:30:07.118664Z",
     "iopub.status.busy": "2021-11-21T06:30:07.116360Z",
     "iopub.status.idle": "2021-11-21T06:30:08.069180Z",
     "shell.execute_reply": "2021-11-21T06:30:08.070744Z"
    },
    "papermill": {
     "duration": 1.001331,
     "end_time": "2021-11-21T06:30:08.071488",
     "exception": false,
     "start_time": "2021-11-21T06:30:07.070157",
     "status": "completed"
    },
    "tags": []
   },
   "outputs": [],
   "source": [
    "import pandas as pd\n",
    "import sqlite3"
   ]
  },
  {
   "cell_type": "code",
   "execution_count": 2,
   "id": "innovative-syndrome",
   "metadata": {
    "execution": {
     "iopub.execute_input": "2021-11-21T06:30:08.132926Z",
     "iopub.status.busy": "2021-11-21T06:30:08.130543Z",
     "iopub.status.idle": "2021-11-21T06:30:09.019337Z",
     "shell.execute_reply": "2021-11-21T06:30:09.020990Z"
    },
    "papermill": {
     "duration": 0.924651,
     "end_time": "2021-11-21T06:30:09.021513",
     "exception": false,
     "start_time": "2021-11-21T06:30:08.096862",
     "status": "completed"
    },
    "tags": []
   },
   "outputs": [],
   "source": [
    "timestamps = pd.read_sql(\"select distinct record_time from EBAY_TOP_BERLIN order by record_time desc limit 2\", sqlite3.connect(\"UsedObjects.db\"))"
   ]
  },
  {
   "cell_type": "code",
   "execution_count": 3,
   "id": "periodic-identification",
   "metadata": {
    "execution": {
     "iopub.execute_input": "2021-11-21T06:30:09.094378Z",
     "iopub.status.busy": "2021-11-21T06:30:09.088393Z",
     "iopub.status.idle": "2021-11-21T06:30:09.110472Z",
     "shell.execute_reply": "2021-11-21T06:30:09.111911Z"
    },
    "papermill": {
     "duration": 0.071259,
     "end_time": "2021-11-21T06:30:09.112400",
     "exception": false,
     "start_time": "2021-11-21T06:30:09.041141",
     "status": "completed"
    },
    "tags": []
   },
   "outputs": [
    {
     "data": {
      "text/html": [
       "<div>\n",
       "<style scoped>\n",
       "    .dataframe tbody tr th:only-of-type {\n",
       "        vertical-align: middle;\n",
       "    }\n",
       "\n",
       "    .dataframe tbody tr th {\n",
       "        vertical-align: top;\n",
       "    }\n",
       "\n",
       "    .dataframe thead th {\n",
       "        text-align: right;\n",
       "    }\n",
       "</style>\n",
       "<table border=\"1\" class=\"dataframe\">\n",
       "  <thead>\n",
       "    <tr style=\"text-align: right;\">\n",
       "      <th></th>\n",
       "      <th>RECORD_TIME</th>\n",
       "    </tr>\n",
       "  </thead>\n",
       "  <tbody>\n",
       "    <tr>\n",
       "      <th>0</th>\n",
       "      <td>2021-11-21 07:30</td>\n",
       "    </tr>\n",
       "    <tr>\n",
       "      <th>1</th>\n",
       "      <td>2021-11-21 07:00</td>\n",
       "    </tr>\n",
       "  </tbody>\n",
       "</table>\n",
       "</div>"
      ],
      "text/plain": [
       "        RECORD_TIME\n",
       "0  2021-11-21 07:30\n",
       "1  2021-11-21 07:00"
      ]
     },
     "execution_count": 3,
     "metadata": {},
     "output_type": "execute_result"
    }
   ],
   "source": [
    "timestamps"
   ]
  },
  {
   "cell_type": "code",
   "execution_count": 4,
   "id": "alternate-victory",
   "metadata": {
    "execution": {
     "iopub.execute_input": "2021-11-21T06:30:09.165679Z",
     "iopub.status.busy": "2021-11-21T06:30:09.163563Z",
     "iopub.status.idle": "2021-11-21T06:30:10.442044Z",
     "shell.execute_reply": "2021-11-21T06:30:10.443517Z"
    },
    "papermill": {
     "duration": 1.311155,
     "end_time": "2021-11-21T06:30:10.443995",
     "exception": false,
     "start_time": "2021-11-21T06:30:09.132840",
     "status": "completed"
    },
    "tags": []
   },
   "outputs": [],
   "source": [
    "df = pd.read_sql(\"select * from EBAY_TOP_BERLIN where record_time in (select distinct record_time from EBAY_TOP_BERLIN order by record_time desc limit 2)\", sqlite3.connect(\"UsedObjects.db\"))"
   ]
  },
  {
   "cell_type": "code",
   "execution_count": 5,
   "id": "popular-active",
   "metadata": {
    "execution": {
     "iopub.execute_input": "2021-11-21T06:30:10.523794Z",
     "iopub.status.busy": "2021-11-21T06:30:10.510719Z",
     "iopub.status.idle": "2021-11-21T06:30:10.543562Z",
     "shell.execute_reply": "2021-11-21T06:30:10.545234Z"
    },
    "papermill": {
     "duration": 0.078894,
     "end_time": "2021-11-21T06:30:10.545761",
     "exception": false,
     "start_time": "2021-11-21T06:30:10.466867",
     "status": "completed"
    },
    "tags": []
   },
   "outputs": [],
   "source": [
    "df_pivot = df.pivot_table(index=\"PRODUCT\", columns = \"RECORD_TIME\", values = \"LISTING_COUNT\")"
   ]
  },
  {
   "cell_type": "code",
   "execution_count": 6,
   "id": "union-huntington",
   "metadata": {
    "execution": {
     "iopub.execute_input": "2021-11-21T06:30:10.608843Z",
     "iopub.status.busy": "2021-11-21T06:30:10.606448Z",
     "iopub.status.idle": "2021-11-21T06:30:10.612518Z",
     "shell.execute_reply": "2021-11-21T06:30:10.614033Z"
    },
    "papermill": {
     "duration": 0.047146,
     "end_time": "2021-11-21T06:30:10.614537",
     "exception": false,
     "start_time": "2021-11-21T06:30:10.567391",
     "status": "completed"
    },
    "tags": []
   },
   "outputs": [],
   "source": [
    "df_pivot.columns = [\"stamp_1\", \"stamp_2\"]\n",
    "df_pivot_diff = df_pivot.diff(axis=1)"
   ]
  },
  {
   "cell_type": "code",
   "execution_count": 7,
   "id": "fifth-motion",
   "metadata": {
    "execution": {
     "iopub.execute_input": "2021-11-21T06:30:10.670621Z",
     "iopub.status.busy": "2021-11-21T06:30:10.668184Z",
     "iopub.status.idle": "2021-11-21T06:30:12.447410Z",
     "shell.execute_reply": "2021-11-21T06:30:12.450115Z"
    },
    "papermill": {
     "duration": 1.816297,
     "end_time": "2021-11-21T06:30:12.450948",
     "exception": false,
     "start_time": "2021-11-21T06:30:10.634651",
     "status": "completed"
    },
    "tags": []
   },
   "outputs": [
    {
     "data": {
      "text/plain": [
       "<AxesSubplot:ylabel='PRODUCT'>"
      ]
     },
     "execution_count": 7,
     "metadata": {},
     "output_type": "execute_result"
    },
    {
     "data": {
      "image/png": "[encoded data removed]",
      "text/plain": [
       "<Figure size 432x288 with 1 Axes>"
      ]
     },
     "metadata": {
      "needs_background": "light"
     },
     "output_type": "display_data"
    }
   ],
   "source": [
    "df_pivot_diff.sort_values(\"stamp_2\", ascending = False)[\"stamp_2\"].head(10).plot.barh()"
   ]
  },
  {
   "cell_type": "code",
   "execution_count": null,
   "id": "extra-executive",
   "metadata": {
    "papermill": {
     "duration": 0.03723,
     "end_time": "2021-11-21T06:30:12.522883",
     "exception": false,
     "start_time": "2021-11-21T06:30:12.485653",
     "status": "completed"
    },
    "tags": []
   },
   "outputs": [],
   "source": []
  }
 ],
 "metadata": {
  "kernelspec": {
   "display_name": "Python 3",
   "language": "python",
   "name": "python3"
  },
  "language_info": {
   "codemirror_mode": {
    "name": "ipython",
    "version": 3
   },
   "file_extension": ".py",
   "mimetype": "text/x-python",
   "name": "python",
   "nbconvert_exporter": "python",
   "pygments_lexer": "ipython3",
   "version": "3.9.5"
  },
  "papermill": {
   "default_parameters": {},
   "duration": 10.005373,
   "end_time": "2021-11-21T06:30:14.270695",
   "environment_variables": {},
   "exception": null,
   "input_path": "eBay_Overview.ipynb",
   "output_path": "eBay_Overview.ipynb",
   "parameters": {},
   "start_time": "2021-11-21T06:30:04.265322",
   "version": "2.3.3"
  }
 },
 "nbformat": 4,
 "nbformat_minor": 5
}