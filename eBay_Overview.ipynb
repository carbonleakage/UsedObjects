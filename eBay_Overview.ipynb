{
 "cells": [
  {
   "cell_type": "code",
   "execution_count": 1,
   "id": "reverse-picking",
   "metadata": {
    "execution": {
     "iopub.execute_input": "2021-09-14T20:30:07.009055Z",
     "iopub.status.busy": "2021-09-14T20:30:07.007009Z",
     "iopub.status.idle": "2021-09-14T20:30:07.810216Z",
     "shell.execute_reply": "2021-09-14T20:30:07.811577Z"
    },
    "papermill": {
     "duration": 0.85441,
     "end_time": "2021-09-14T20:30:07.812198",
     "exception": false,
     "start_time": "2021-09-14T20:30:06.957788",
     "status": "completed"
    },
    "tags": []
   },
   "outputs": [],
   "source": [
    "import pandas as pd\n",
    "import sqlite3"
   ]
  },
  {
   "cell_type": "code",
   "execution_count": 2,
   "id": "innovative-syndrome",
   "metadata": {
    "execution": {
     "iopub.execute_input": "2021-09-14T20:30:07.864385Z",
     "iopub.status.busy": "2021-09-14T20:30:07.862230Z",
     "iopub.status.idle": "2021-09-14T20:30:08.148260Z",
     "shell.execute_reply": "2021-09-14T20:30:08.149401Z"
    },
    "papermill": {
     "duration": 0.315563,
     "end_time": "2021-09-14T20:30:08.149804",
     "exception": false,
     "start_time": "2021-09-14T20:30:07.834241",
     "status": "completed"
    },
    "tags": []
   },
   "outputs": [],
   "source": [
    "timestamps = pd.read_sql(\"select distinct record_time from EBAY_TOP_BERLIN order by record_time desc limit 2\", sqlite3.connect(\"UsedObjects.db\"))"
   ]
  },
  {
   "cell_type": "code",
   "execution_count": 3,
   "id": "periodic-identification",
   "metadata": {
    "execution": {
     "iopub.execute_input": "2021-09-14T20:30:08.218418Z",
     "iopub.status.busy": "2021-09-14T20:30:08.216408Z",
     "iopub.status.idle": "2021-09-14T20:30:08.236021Z",
     "shell.execute_reply": "2021-09-14T20:30:08.237425Z"
    },
    "papermill": {
     "duration": 0.065737,
     "end_time": "2021-09-14T20:30:08.237856",
     "exception": false,
     "start_time": "2021-09-14T20:30:08.172119",
     "status": "completed"
    },
    "tags": []
   },
   "outputs": [
    {
     "data": {
      "text/html": [
       "<div>\n",
       "<style scoped>\n",
       "    .dataframe tbody tr th:only-of-type {\n",
       "        vertical-align: middle;\n",
       "    }\n",
       "\n",
       "    .dataframe tbody tr th {\n",
       "        vertical-align: top;\n",
       "    }\n",
       "\n",
       "    .dataframe thead th {\n",
       "        text-align: right;\n",
       "    }\n",
       "</style>\n",
       "<table border=\"1\" class=\"dataframe\">\n",
       "  <thead>\n",
       "    <tr style=\"text-align: right;\">\n",
       "      <th></th>\n",
       "      <th>RECORD_TIME</th>\n",
       "    </tr>\n",
       "  </thead>\n",
       "  <tbody>\n",
       "    <tr>\n",
       "      <th>0</th>\n",
       "      <td>2021-09-14 22:30</td>\n",
       "    </tr>\n",
       "    <tr>\n",
       "      <th>1</th>\n",
       "      <td>2021-09-14 22:00</td>\n",
       "    </tr>\n",
       "  </tbody>\n",
       "</table>\n",
       "</div>"
      ],
      "text/plain": [
       "        RECORD_TIME\n",
       "0  2021-09-14 22:30\n",
       "1  2021-09-14 22:00"
      ]
     },
     "execution_count": 3,
     "metadata": {},
     "output_type": "execute_result"
    }
   ],
   "source": [
    "timestamps"
   ]
  },
  {
   "cell_type": "code",
   "execution_count": 4,
   "id": "alternate-victory",
   "metadata": {
    "execution": {
     "iopub.execute_input": "2021-09-14T20:30:08.290043Z",
     "iopub.status.busy": "2021-09-14T20:30:08.288000Z",
     "iopub.status.idle": "2021-09-14T20:30:08.718422Z",
     "shell.execute_reply": "2021-09-14T20:30:08.719802Z"
    },
    "papermill": {
     "duration": 0.461047,
     "end_time": "2021-09-14T20:30:08.720224",
     "exception": false,
     "start_time": "2021-09-14T20:30:08.259177",
     "status": "completed"
    },
    "tags": []
   },
   "outputs": [],
   "source": [
    "df = pd.read_sql(\"select * from EBAY_TOP_BERLIN where record_time in (select distinct record_time from EBAY_TOP_BERLIN order by record_time desc limit 2)\", sqlite3.connect(\"UsedObjects.db\"))"
   ]
  },
  {
   "cell_type": "code",
   "execution_count": 5,
   "id": "popular-active",
   "metadata": {
    "execution": {
     "iopub.execute_input": "2021-09-14T20:30:08.789146Z",
     "iopub.status.busy": "2021-09-14T20:30:08.778421Z",
     "iopub.status.idle": "2021-09-14T20:30:08.805475Z",
     "shell.execute_reply": "2021-09-14T20:30:08.806926Z"
    },
    "papermill": {
     "duration": 0.066482,
     "end_time": "2021-09-14T20:30:08.807369",
     "exception": false,
     "start_time": "2021-09-14T20:30:08.740887",
     "status": "completed"
    },
    "tags": []
   },
   "outputs": [],
   "source": [
    "df_pivot = df.pivot_table(index=\"PRODUCT\", columns = \"RECORD_TIME\", values = \"LISTING_COUNT\")"
   ]
  },
  {
   "cell_type": "code",
   "execution_count": 6,
   "id": "union-huntington",
   "metadata": {
    "execution": {
     "iopub.execute_input": "2021-09-14T20:30:08.864071Z",
     "iopub.status.busy": "2021-09-14T20:30:08.861970Z",
     "iopub.status.idle": "2021-09-14T20:30:08.867435Z",
     "shell.execute_reply": "2021-09-14T20:30:08.868757Z"
    },
    "papermill": {
     "duration": 0.040991,
     "end_time": "2021-09-14T20:30:08.869167",
     "exception": false,
     "start_time": "2021-09-14T20:30:08.828176",
     "status": "completed"
    },
    "tags": []
   },
   "outputs": [],
   "source": [
    "df_pivot.columns = [\"stamp_1\", \"stamp_2\"]\n",
    "df_pivot_diff = df_pivot.diff(axis=1)"
   ]
  },
  {
   "cell_type": "code",
   "execution_count": 7,
   "id": "fifth-motion",
   "metadata": {
    "execution": {
     "iopub.execute_input": "2021-09-14T20:30:08.922953Z",
     "iopub.status.busy": "2021-09-14T20:30:08.920525Z",
     "iopub.status.idle": "2021-09-14T20:30:10.379309Z",
     "shell.execute_reply": "2021-09-14T20:30:10.380744Z"
    },
    "papermill": {
     "duration": 1.491657,
     "end_time": "2021-09-14T20:30:10.381165",
     "exception": false,
     "start_time": "2021-09-14T20:30:08.889508",
     "status": "completed"
    },
    "tags": []
   },
   "outputs": [
    {
     "data": {
      "text/plain": [
       "<AxesSubplot:ylabel='PRODUCT'>"
      ]
     },
     "execution_count": 7,
     "metadata": {},
     "output_type": "execute_result"
    },
    {
     "data": {
      "image/png": "[encoded data removed]",
      "text/plain": [
       "<Figure size 432x288 with 1 Axes>"
      ]
     },
     "metadata": {
      "needs_background": "light"
     },
     "output_type": "display_data"
    }
   ],
   "source": [
    "df_pivot_diff.sort_values(\"stamp_2\", ascending = False)[\"stamp_2\"].head(10).plot.barh()"
   ]
  },
  {
   "cell_type": "code",
   "execution_count": null,
   "id": "extra-executive",
   "metadata": {
    "papermill": {
     "duration": 0.022023,
     "end_time": "2021-09-14T20:30:10.426287",
     "exception": false,
     "start_time": "2021-09-14T20:30:10.404264",
     "status": "completed"
    },
    "tags": []
   },
   "outputs": [],
   "source": []
  }
 ],
 "metadata": {
  "kernelspec": {
   "display_name": "Python 3",
   "language": "python",
   "name": "python3"
  },
  "language_info": {
   "codemirror_mode": {
    "name": "ipython",
    "version": 3
   },
   "file_extension": ".py",
   "mimetype": "text/x-python",
   "name": "python",
   "nbconvert_exporter": "python",
   "pygments_lexer": "ipython3",
   "version": "3.9.5"
  },
  "papermill": {
   "default_parameters": {},
   "duration": 6.519079,
   "end_time": "2021-09-14T20:30:11.069908",
   "environment_variables": {},
   "exception": null,
   "input_path": "eBay_Overview.ipynb",
   "output_path": "eBay_Overview.ipynb",
   "parameters": {},
   "start_time": "2021-09-14T20:30:04.550829",
   "version": "2.3.3"
  }
 },
 "nbformat": 4,
 "nbformat_minor": 5
}