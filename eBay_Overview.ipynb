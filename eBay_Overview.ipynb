{
 "cells": [
  {
   "cell_type": "code",
   "execution_count": 1,
   "id": "reverse-picking",
   "metadata": {
    "execution": {
     "iopub.execute_input": "2021-11-12T20:00:08.140813Z",
     "iopub.status.busy": "2021-11-12T20:00:08.137062Z",
     "iopub.status.idle": "2021-11-12T20:00:09.079606Z",
     "shell.execute_reply": "2021-11-12T20:00:09.081202Z"
    },
    "papermill": {
     "duration": 0.993639,
     "end_time": "2021-11-12T20:00:09.081956",
     "exception": false,
     "start_time": "2021-11-12T20:00:08.088317",
     "status": "completed"
    },
    "tags": []
   },
   "outputs": [],
   "source": [
    "import pandas as pd\n",
    "import sqlite3"
   ]
  },
  {
   "cell_type": "code",
   "execution_count": 2,
   "id": "innovative-syndrome",
   "metadata": {
    "execution": {
     "iopub.execute_input": "2021-11-12T20:00:09.150882Z",
     "iopub.status.busy": "2021-11-12T20:00:09.148526Z",
     "iopub.status.idle": "2021-11-12T20:00:09.927703Z",
     "shell.execute_reply": "2021-11-12T20:00:09.929169Z"
    },
    "papermill": {
     "duration": 0.813184,
     "end_time": "2021-11-12T20:00:09.929669",
     "exception": false,
     "start_time": "2021-11-12T20:00:09.116485",
     "status": "completed"
    },
    "tags": []
   },
   "outputs": [],
   "source": [
    "timestamps = pd.read_sql(\"select distinct record_time from EBAY_TOP_BERLIN order by record_time desc limit 2\", sqlite3.connect(\"UsedObjects.db\"))"
   ]
  },
  {
   "cell_type": "code",
   "execution_count": 3,
   "id": "periodic-identification",
   "metadata": {
    "execution": {
     "iopub.execute_input": "2021-11-12T20:00:10.007227Z",
     "iopub.status.busy": "2021-11-12T20:00:10.001160Z",
     "iopub.status.idle": "2021-11-12T20:00:10.025616Z",
     "shell.execute_reply": "2021-11-12T20:00:10.027163Z"
    },
    "papermill": {
     "duration": 0.077108,
     "end_time": "2021-11-12T20:00:10.027648",
     "exception": false,
     "start_time": "2021-11-12T20:00:09.950540",
     "status": "completed"
    },
    "tags": []
   },
   "outputs": [
    {
     "data": {
      "text/html": [
       "<div>\n",
       "<style scoped>\n",
       "    .dataframe tbody tr th:only-of-type {\n",
       "        vertical-align: middle;\n",
       "    }\n",
       "\n",
       "    .dataframe tbody tr th {\n",
       "        vertical-align: top;\n",
       "    }\n",
       "\n",
       "    .dataframe thead th {\n",
       "        text-align: right;\n",
       "    }\n",
       "</style>\n",
       "<table border=\"1\" class=\"dataframe\">\n",
       "  <thead>\n",
       "    <tr style=\"text-align: right;\">\n",
       "      <th></th>\n",
       "      <th>RECORD_TIME</th>\n",
       "    </tr>\n",
       "  </thead>\n",
       "  <tbody>\n",
       "    <tr>\n",
       "      <th>0</th>\n",
       "      <td>2021-11-12 21:00</td>\n",
       "    </tr>\n",
       "    <tr>\n",
       "      <th>1</th>\n",
       "      <td>2021-11-12 20:30</td>\n",
       "    </tr>\n",
       "  </tbody>\n",
       "</table>\n",
       "</div>"
      ],
      "text/plain": [
       "        RECORD_TIME\n",
       "0  2021-11-12 21:00\n",
       "1  2021-11-12 20:30"
      ]
     },
     "execution_count": 3,
     "metadata": {},
     "output_type": "execute_result"
    }
   ],
   "source": [
    "timestamps"
   ]
  },
  {
   "cell_type": "code",
   "execution_count": 4,
   "id": "alternate-victory",
   "metadata": {
    "execution": {
     "iopub.execute_input": "2021-11-12T20:00:10.082503Z",
     "iopub.status.busy": "2021-11-12T20:00:10.080363Z",
     "iopub.status.idle": "2021-11-12T20:00:11.234853Z",
     "shell.execute_reply": "2021-11-12T20:00:11.237079Z"
    },
    "papermill": {
     "duration": 1.188843,
     "end_time": "2021-11-12T20:00:11.237755",
     "exception": false,
     "start_time": "2021-11-12T20:00:10.048912",
     "status": "completed"
    },
    "tags": []
   },
   "outputs": [],
   "source": [
    "df = pd.read_sql(\"select * from EBAY_TOP_BERLIN where record_time in (select distinct record_time from EBAY_TOP_BERLIN order by record_time desc limit 2)\", sqlite3.connect(\"UsedObjects.db\"))"
   ]
  },
  {
   "cell_type": "code",
   "execution_count": 5,
   "id": "popular-active",
   "metadata": {
    "execution": {
     "iopub.execute_input": "2021-11-12T20:00:11.311322Z",
     "iopub.status.busy": "2021-11-12T20:00:11.302867Z",
     "iopub.status.idle": "2021-11-12T20:00:11.336476Z",
     "shell.execute_reply": "2021-11-12T20:00:11.337824Z"
    },
    "papermill": {
     "duration": 0.077889,
     "end_time": "2021-11-12T20:00:11.338275",
     "exception": false,
     "start_time": "2021-11-12T20:00:11.260386",
     "status": "completed"
    },
    "tags": []
   },
   "outputs": [],
   "source": [
    "df_pivot = df.pivot_table(index=\"PRODUCT\", columns = \"RECORD_TIME\", values = \"LISTING_COUNT\")"
   ]
  },
  {
   "cell_type": "code",
   "execution_count": 6,
   "id": "union-huntington",
   "metadata": {
    "execution": {
     "iopub.execute_input": "2021-11-12T20:00:11.398017Z",
     "iopub.status.busy": "2021-11-12T20:00:11.395953Z",
     "iopub.status.idle": "2021-11-12T20:00:11.402706Z",
     "shell.execute_reply": "2021-11-12T20:00:11.400547Z"
    },
    "papermill": {
     "duration": 0.043609,
     "end_time": "2021-11-12T20:00:11.403176",
     "exception": false,
     "start_time": "2021-11-12T20:00:11.359567",
     "status": "completed"
    },
    "tags": []
   },
   "outputs": [],
   "source": [
    "df_pivot.columns = [\"stamp_1\", \"stamp_2\"]\n",
    "df_pivot_diff = df_pivot.diff(axis=1)"
   ]
  },
  {
   "cell_type": "code",
   "execution_count": 7,
   "id": "fifth-motion",
   "metadata": {
    "execution": {
     "iopub.execute_input": "2021-11-12T20:00:11.472000Z",
     "iopub.status.busy": "2021-11-12T20:00:11.461195Z",
     "iopub.status.idle": "2021-11-12T20:00:13.351115Z",
     "shell.execute_reply": "2021-11-12T20:00:13.352747Z"
    },
    "papermill": {
     "duration": 1.928444,
     "end_time": "2021-11-12T20:00:13.353281",
     "exception": false,
     "start_time": "2021-11-12T20:00:11.424837",
     "status": "completed"
    },
    "tags": []
   },
   "outputs": [
    {
     "data": {
      "text/plain": [
       "<AxesSubplot:ylabel='PRODUCT'>"
      ]
     },
     "execution_count": 7,
     "metadata": {},
     "output_type": "execute_result"
    },
    {
     "data": {
      "image/png": "[encoded data removed]",
      "text/plain": [
       "<Figure size 432x288 with 1 Axes>"
      ]
     },
     "metadata": {
      "needs_background": "light"
     },
     "output_type": "display_data"
    }
   ],
   "source": [
    "df_pivot_diff.sort_values(\"stamp_2\", ascending = False)[\"stamp_2\"].head(10).plot.barh()"
   ]
  },
  {
   "cell_type": "code",
   "execution_count": null,
   "id": "extra-executive",
   "metadata": {
    "papermill": {
     "duration": 0.023874,
     "end_time": "2021-11-12T20:00:13.403232",
     "exception": false,
     "start_time": "2021-11-12T20:00:13.379358",
     "status": "completed"
    },
    "tags": []
   },
   "outputs": [],
   "source": []
  }
 ],
 "metadata": {
  "kernelspec": {
   "display_name": "Python 3",
   "language": "python",
   "name": "python3"
  },
  "language_info": {
   "codemirror_mode": {
    "name": "ipython",
    "version": 3
   },
   "file_extension": ".py",
   "mimetype": "text/x-python",
   "name": "python",
   "nbconvert_exporter": "python",
   "pygments_lexer": "ipython3",
   "version": "3.9.5"
  },
  "papermill": {
   "default_parameters": {},
   "duration": 8.874037,
   "end_time": "2021-11-12T20:00:14.252396",
   "environment_variables": {},
   "exception": null,
   "input_path": "eBay_Overview.ipynb",
   "output_path": "eBay_Overview.ipynb",
   "parameters": {},
   "start_time": "2021-11-12T20:00:05.378359",
   "version": "2.3.3"
  }
 },
 "nbformat": 4,
 "nbformat_minor": 5
}