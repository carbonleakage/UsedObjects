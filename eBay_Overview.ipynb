{
 "cells": [
  {
   "cell_type": "code",
   "execution_count": 1,
   "id": "reverse-picking",
   "metadata": {
    "execution": {
     "iopub.execute_input": "2021-08-26T21:30:06.829895Z",
     "iopub.status.busy": "2021-08-26T21:30:06.827834Z",
     "iopub.status.idle": "2021-08-26T21:30:07.629834Z",
     "shell.execute_reply": "2021-08-26T21:30:07.631073Z"
    },
    "papermill": {
     "duration": 0.852734,
     "end_time": "2021-08-26T21:30:07.631689",
     "exception": false,
     "start_time": "2021-08-26T21:30:06.778955",
     "status": "completed"
    },
    "tags": []
   },
   "outputs": [],
   "source": [
    "import pandas as pd\n",
    "import sqlite3"
   ]
  },
  {
   "cell_type": "code",
   "execution_count": 2,
   "id": "innovative-syndrome",
   "metadata": {
    "execution": {
     "iopub.execute_input": "2021-08-26T21:30:07.681992Z",
     "iopub.status.busy": "2021-08-26T21:30:07.680052Z",
     "iopub.status.idle": "2021-08-26T21:30:07.815166Z",
     "shell.execute_reply": "2021-08-26T21:30:07.816558Z"
    },
    "papermill": {
     "duration": 0.164493,
     "end_time": "2021-08-26T21:30:07.816986",
     "exception": false,
     "start_time": "2021-08-26T21:30:07.652493",
     "status": "completed"
    },
    "tags": []
   },
   "outputs": [],
   "source": [
    "timestamps = pd.read_sql(\"select distinct record_time from EBAY_TOP_BERLIN order by record_time desc limit 2\", sqlite3.connect(\"UsedObjects.db\"))"
   ]
  },
  {
   "cell_type": "code",
   "execution_count": 3,
   "id": "periodic-identification",
   "metadata": {
    "execution": {
     "iopub.execute_input": "2021-08-26T21:30:07.883351Z",
     "iopub.status.busy": "2021-08-26T21:30:07.881355Z",
     "iopub.status.idle": "2021-08-26T21:30:07.901304Z",
     "shell.execute_reply": "2021-08-26T21:30:07.902889Z"
    },
    "papermill": {
     "duration": 0.065682,
     "end_time": "2021-08-26T21:30:07.903379",
     "exception": false,
     "start_time": "2021-08-26T21:30:07.837697",
     "status": "completed"
    },
    "tags": []
   },
   "outputs": [
    {
     "data": {
      "text/html": [
       "<div>\n",
       "<style scoped>\n",
       "    .dataframe tbody tr th:only-of-type {\n",
       "        vertical-align: middle;\n",
       "    }\n",
       "\n",
       "    .dataframe tbody tr th {\n",
       "        vertical-align: top;\n",
       "    }\n",
       "\n",
       "    .dataframe thead th {\n",
       "        text-align: right;\n",
       "    }\n",
       "</style>\n",
       "<table border=\"1\" class=\"dataframe\">\n",
       "  <thead>\n",
       "    <tr style=\"text-align: right;\">\n",
       "      <th></th>\n",
       "      <th>RECORD_TIME</th>\n",
       "    </tr>\n",
       "  </thead>\n",
       "  <tbody>\n",
       "    <tr>\n",
       "      <th>0</th>\n",
       "      <td>2021-08-26 23:30</td>\n",
       "    </tr>\n",
       "    <tr>\n",
       "      <th>1</th>\n",
       "      <td>2021-08-26 23:00</td>\n",
       "    </tr>\n",
       "  </tbody>\n",
       "</table>\n",
       "</div>"
      ],
      "text/plain": [
       "        RECORD_TIME\n",
       "0  2021-08-26 23:30\n",
       "1  2021-08-26 23:00"
      ]
     },
     "execution_count": 3,
     "metadata": {},
     "output_type": "execute_result"
    }
   ],
   "source": [
    "timestamps"
   ]
  },
  {
   "cell_type": "code",
   "execution_count": 4,
   "id": "alternate-victory",
   "metadata": {
    "execution": {
     "iopub.execute_input": "2021-08-26T21:30:07.955594Z",
     "iopub.status.busy": "2021-08-26T21:30:07.953673Z",
     "iopub.status.idle": "2021-08-26T21:30:08.157457Z",
     "shell.execute_reply": "2021-08-26T21:30:08.158663Z"
    },
    "papermill": {
     "duration": 0.233899,
     "end_time": "2021-08-26T21:30:08.159062",
     "exception": false,
     "start_time": "2021-08-26T21:30:07.925163",
     "status": "completed"
    },
    "tags": []
   },
   "outputs": [],
   "source": [
    "df = pd.read_sql(\"select * from EBAY_TOP_BERLIN where record_time in (select distinct record_time from EBAY_TOP_BERLIN order by record_time desc limit 2)\", sqlite3.connect(\"UsedObjects.db\"))"
   ]
  },
  {
   "cell_type": "code",
   "execution_count": 5,
   "id": "popular-active",
   "metadata": {
    "execution": {
     "iopub.execute_input": "2021-08-26T21:30:08.231899Z",
     "iopub.status.busy": "2021-08-26T21:30:08.219039Z",
     "iopub.status.idle": "2021-08-26T21:30:08.247909Z",
     "shell.execute_reply": "2021-08-26T21:30:08.249261Z"
    },
    "papermill": {
     "duration": 0.068664,
     "end_time": "2021-08-26T21:30:08.249675",
     "exception": false,
     "start_time": "2021-08-26T21:30:08.181011",
     "status": "completed"
    },
    "tags": []
   },
   "outputs": [],
   "source": [
    "df_pivot = df.pivot_table(index=\"PRODUCT\", columns = \"RECORD_TIME\", values = \"LISTING_COUNT\")"
   ]
  },
  {
   "cell_type": "code",
   "execution_count": 6,
   "id": "union-huntington",
   "metadata": {
    "execution": {
     "iopub.execute_input": "2021-08-26T21:30:08.333305Z",
     "iopub.status.busy": "2021-08-26T21:30:08.331057Z",
     "iopub.status.idle": "2021-08-26T21:30:08.336964Z",
     "shell.execute_reply": "2021-08-26T21:30:08.338434Z"
    },
    "papermill": {
     "duration": 0.048258,
     "end_time": "2021-08-26T21:30:08.338861",
     "exception": false,
     "start_time": "2021-08-26T21:30:08.290603",
     "status": "completed"
    },
    "tags": []
   },
   "outputs": [],
   "source": [
    "df_pivot.columns = [\"stamp_1\", \"stamp_2\"]\n",
    "df_pivot_diff = df_pivot.diff(axis=1)"
   ]
  },
  {
   "cell_type": "code",
   "execution_count": 7,
   "id": "fifth-motion",
   "metadata": {
    "execution": {
     "iopub.execute_input": "2021-08-26T21:30:08.392666Z",
     "iopub.status.busy": "2021-08-26T21:30:08.389997Z",
     "iopub.status.idle": "2021-08-26T21:30:09.857699Z",
     "shell.execute_reply": "2021-08-26T21:30:09.859024Z"
    },
    "papermill": {
     "duration": 1.500943,
     "end_time": "2021-08-26T21:30:09.859445",
     "exception": false,
     "start_time": "2021-08-26T21:30:08.358502",
     "status": "completed"
    },
    "tags": []
   },
   "outputs": [
    {
     "data": {
      "text/plain": [
       "<AxesSubplot:ylabel='PRODUCT'>"
      ]
     },
     "execution_count": 7,
     "metadata": {},
     "output_type": "execute_result"
    },
    {
     "data": {
      "image/png": "[encoded data removed]",
      "text/plain": [
       "<Figure size 432x288 with 1 Axes>"
      ]
     },
     "metadata": {
      "needs_background": "light"
     },
     "output_type": "display_data"
    }
   ],
   "source": [
    "df_pivot_diff.sort_values(\"stamp_2\", ascending = False)[\"stamp_2\"].head(10).plot.barh()"
   ]
  },
  {
   "cell_type": "code",
   "execution_count": null,
   "id": "extra-executive",
   "metadata": {
    "papermill": {
     "duration": 0.022016,
     "end_time": "2021-08-26T21:30:09.904646",
     "exception": false,
     "start_time": "2021-08-26T21:30:09.882630",
     "status": "completed"
    },
    "tags": []
   },
   "outputs": [],
   "source": []
  }
 ],
 "metadata": {
  "kernelspec": {
   "display_name": "Python 3",
   "language": "python",
   "name": "python3"
  },
  "language_info": {
   "codemirror_mode": {
    "name": "ipython",
    "version": 3
   },
   "file_extension": ".py",
   "mimetype": "text/x-python",
   "name": "python",
   "nbconvert_exporter": "python",
   "pygments_lexer": "ipython3",
   "version": "3.9.5"
  },
  "papermill": {
   "default_parameters": {},
   "duration": 6.825095,
   "end_time": "2021-08-26T21:30:11.203651",
   "environment_variables": {},
   "exception": null,
   "input_path": "eBay_Overview.ipynb",
   "output_path": "eBay_Overview.ipynb",
   "parameters": {},
   "start_time": "2021-08-26T21:30:04.378556",
   "version": "2.3.3"
  }
 },
 "nbformat": 4,
 "nbformat_minor": 5
}