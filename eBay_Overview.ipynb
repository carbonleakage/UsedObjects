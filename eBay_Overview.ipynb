{
 "cells": [
  {
   "cell_type": "code",
   "execution_count": 1,
   "id": "reverse-picking",
   "metadata": {
    "execution": {
     "iopub.execute_input": "2021-09-15T20:00:07.255065Z",
     "iopub.status.busy": "2021-09-15T20:00:07.252973Z",
     "iopub.status.idle": "2021-09-15T20:00:08.062190Z",
     "shell.execute_reply": "2021-09-15T20:00:08.060622Z"
    },
    "papermill": {
     "duration": 0.860604,
     "end_time": "2021-09-15T20:00:08.062579",
     "exception": false,
     "start_time": "2021-09-15T20:00:07.201975",
     "status": "completed"
    },
    "tags": []
   },
   "outputs": [],
   "source": [
    "import pandas as pd\n",
    "import sqlite3"
   ]
  },
  {
   "cell_type": "code",
   "execution_count": 2,
   "id": "innovative-syndrome",
   "metadata": {
    "execution": {
     "iopub.execute_input": "2021-09-15T20:00:08.114182Z",
     "iopub.status.busy": "2021-09-15T20:00:08.112315Z",
     "iopub.status.idle": "2021-09-15T20:00:08.406452Z",
     "shell.execute_reply": "2021-09-15T20:00:08.407818Z"
    },
    "papermill": {
     "duration": 0.323947,
     "end_time": "2021-09-15T20:00:08.408246",
     "exception": false,
     "start_time": "2021-09-15T20:00:08.084299",
     "status": "completed"
    },
    "tags": []
   },
   "outputs": [],
   "source": [
    "timestamps = pd.read_sql(\"select distinct record_time from EBAY_TOP_BERLIN order by record_time desc limit 2\", sqlite3.connect(\"UsedObjects.db\"))"
   ]
  },
  {
   "cell_type": "code",
   "execution_count": 3,
   "id": "periodic-identification",
   "metadata": {
    "execution": {
     "iopub.execute_input": "2021-09-15T20:00:08.473101Z",
     "iopub.status.busy": "2021-09-15T20:00:08.471081Z",
     "iopub.status.idle": "2021-09-15T20:00:08.490820Z",
     "shell.execute_reply": "2021-09-15T20:00:08.492079Z"
    },
    "papermill": {
     "duration": 0.06475,
     "end_time": "2021-09-15T20:00:08.492479",
     "exception": false,
     "start_time": "2021-09-15T20:00:08.427729",
     "status": "completed"
    },
    "tags": []
   },
   "outputs": [
    {
     "data": {
      "text/html": [
       "<div>\n",
       "<style scoped>\n",
       "    .dataframe tbody tr th:only-of-type {\n",
       "        vertical-align: middle;\n",
       "    }\n",
       "\n",
       "    .dataframe tbody tr th {\n",
       "        vertical-align: top;\n",
       "    }\n",
       "\n",
       "    .dataframe thead th {\n",
       "        text-align: right;\n",
       "    }\n",
       "</style>\n",
       "<table border=\"1\" class=\"dataframe\">\n",
       "  <thead>\n",
       "    <tr style=\"text-align: right;\">\n",
       "      <th></th>\n",
       "      <th>RECORD_TIME</th>\n",
       "    </tr>\n",
       "  </thead>\n",
       "  <tbody>\n",
       "    <tr>\n",
       "      <th>0</th>\n",
       "      <td>2021-09-15 22:00</td>\n",
       "    </tr>\n",
       "    <tr>\n",
       "      <th>1</th>\n",
       "      <td>2021-09-15 21:30</td>\n",
       "    </tr>\n",
       "  </tbody>\n",
       "</table>\n",
       "</div>"
      ],
      "text/plain": [
       "        RECORD_TIME\n",
       "0  2021-09-15 22:00\n",
       "1  2021-09-15 21:30"
      ]
     },
     "execution_count": 3,
     "metadata": {},
     "output_type": "execute_result"
    }
   ],
   "source": [
    "timestamps"
   ]
  },
  {
   "cell_type": "code",
   "execution_count": 4,
   "id": "alternate-victory",
   "metadata": {
    "execution": {
     "iopub.execute_input": "2021-09-15T20:00:08.544881Z",
     "iopub.status.busy": "2021-09-15T20:00:08.542639Z",
     "iopub.status.idle": "2021-09-15T20:00:08.990754Z",
     "shell.execute_reply": "2021-09-15T20:00:08.992022Z"
    },
    "papermill": {
     "duration": 0.47836,
     "end_time": "2021-09-15T20:00:08.992451",
     "exception": false,
     "start_time": "2021-09-15T20:00:08.514091",
     "status": "completed"
    },
    "tags": []
   },
   "outputs": [],
   "source": [
    "df = pd.read_sql(\"select * from EBAY_TOP_BERLIN where record_time in (select distinct record_time from EBAY_TOP_BERLIN order by record_time desc limit 2)\", sqlite3.connect(\"UsedObjects.db\"))"
   ]
  },
  {
   "cell_type": "code",
   "execution_count": 5,
   "id": "popular-active",
   "metadata": {
    "execution": {
     "iopub.execute_input": "2021-09-15T20:00:09.078747Z",
     "iopub.status.busy": "2021-09-15T20:00:09.066556Z",
     "iopub.status.idle": "2021-09-15T20:00:09.094931Z",
     "shell.execute_reply": "2021-09-15T20:00:09.096261Z"
    },
    "papermill": {
     "duration": 0.074652,
     "end_time": "2021-09-15T20:00:09.096680",
     "exception": false,
     "start_time": "2021-09-15T20:00:09.022028",
     "status": "completed"
    },
    "tags": []
   },
   "outputs": [],
   "source": [
    "df_pivot = df.pivot_table(index=\"PRODUCT\", columns = \"RECORD_TIME\", values = \"LISTING_COUNT\")"
   ]
  },
  {
   "cell_type": "code",
   "execution_count": 6,
   "id": "union-huntington",
   "metadata": {
    "execution": {
     "iopub.execute_input": "2021-09-15T20:00:09.152195Z",
     "iopub.status.busy": "2021-09-15T20:00:09.150150Z",
     "iopub.status.idle": "2021-09-15T20:00:09.155324Z",
     "shell.execute_reply": "2021-09-15T20:00:09.156543Z"
    },
    "papermill": {
     "duration": 0.039944,
     "end_time": "2021-09-15T20:00:09.156936",
     "exception": false,
     "start_time": "2021-09-15T20:00:09.116992",
     "status": "completed"
    },
    "tags": []
   },
   "outputs": [],
   "source": [
    "df_pivot.columns = [\"stamp_1\", \"stamp_2\"]\n",
    "df_pivot_diff = df_pivot.diff(axis=1)"
   ]
  },
  {
   "cell_type": "code",
   "execution_count": 7,
   "id": "fifth-motion",
   "metadata": {
    "execution": {
     "iopub.execute_input": "2021-09-15T20:00:09.210843Z",
     "iopub.status.busy": "2021-09-15T20:00:09.208412Z",
     "iopub.status.idle": "2021-09-15T20:00:10.672875Z",
     "shell.execute_reply": "2021-09-15T20:00:10.674173Z"
    },
    "papermill": {
     "duration": 1.497325,
     "end_time": "2021-09-15T20:00:10.674591",
     "exception": false,
     "start_time": "2021-09-15T20:00:09.177266",
     "status": "completed"
    },
    "tags": []
   },
   "outputs": [
    {
     "data": {
      "text/plain": [
       "<AxesSubplot:ylabel='PRODUCT'>"
      ]
     },
     "execution_count": 7,
     "metadata": {},
     "output_type": "execute_result"
    },
    {
     "data": {
      "image/png": "[encoded data removed]",
      "text/plain": [
       "<Figure size 432x288 with 1 Axes>"
      ]
     },
     "metadata": {
      "needs_background": "light"
     },
     "output_type": "display_data"
    }
   ],
   "source": [
    "df_pivot_diff.sort_values(\"stamp_2\", ascending = False)[\"stamp_2\"].head(10).plot.barh()"
   ]
  },
  {
   "cell_type": "code",
   "execution_count": null,
   "id": "extra-executive",
   "metadata": {
    "papermill": {
     "duration": 0.022222,
     "end_time": "2021-09-15T20:00:10.721323",
     "exception": false,
     "start_time": "2021-09-15T20:00:10.699101",
     "status": "completed"
    },
    "tags": []
   },
   "outputs": [],
   "source": []
  }
 ],
 "metadata": {
  "kernelspec": {
   "display_name": "Python 3",
   "language": "python",
   "name": "python3"
  },
  "language_info": {
   "codemirror_mode": {
    "name": "ipython",
    "version": 3
   },
   "file_extension": ".py",
   "mimetype": "text/x-python",
   "name": "python",
   "nbconvert_exporter": "python",
   "pygments_lexer": "ipython3",
   "version": "3.9.5"
  },
  "papermill": {
   "default_parameters": {},
   "duration": 6.574253,
   "end_time": "2021-09-15T20:00:11.361602",
   "environment_variables": {},
   "exception": null,
   "input_path": "eBay_Overview.ipynb",
   "output_path": "eBay_Overview.ipynb",
   "parameters": {},
   "start_time": "2021-09-15T20:00:04.787349",
   "version": "2.3.3"
  }
 },
 "nbformat": 4,
 "nbformat_minor": 5
}