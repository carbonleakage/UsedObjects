{
 "cells": [
  {
   "cell_type": "code",
   "execution_count": 1,
   "id": "reverse-picking",
   "metadata": {
    "execution": {
     "iopub.execute_input": "2021-12-15T06:30:07.340776Z",
     "iopub.status.busy": "2021-12-15T06:30:07.338525Z",
     "iopub.status.idle": "2021-12-15T06:30:08.302080Z",
     "shell.execute_reply": "2021-12-15T06:30:08.300083Z"
    },
    "papermill": {
     "duration": 1.009498,
     "end_time": "2021-12-15T06:30:08.302569",
     "exception": false,
     "start_time": "2021-12-15T06:30:07.293071",
     "status": "completed"
    },
    "tags": []
   },
   "outputs": [],
   "source": [
    "import pandas as pd\n",
    "import sqlite3"
   ]
  },
  {
   "cell_type": "code",
   "execution_count": 2,
   "id": "innovative-syndrome",
   "metadata": {
    "execution": {
     "iopub.execute_input": "2021-12-15T06:30:08.365612Z",
     "iopub.status.busy": "2021-12-15T06:30:08.363251Z",
     "iopub.status.idle": "2021-12-15T06:30:09.448434Z",
     "shell.execute_reply": "2021-12-15T06:30:09.450763Z"
    },
    "papermill": {
     "duration": 1.121097,
     "end_time": "2021-12-15T06:30:09.451295",
     "exception": false,
     "start_time": "2021-12-15T06:30:08.330198",
     "status": "completed"
    },
    "tags": []
   },
   "outputs": [],
   "source": [
    "timestamps = pd.read_sql(\"select distinct record_time from EBAY_TOP_BERLIN order by record_time desc limit 2\", sqlite3.connect(\"UsedObjects.db\"))"
   ]
  },
  {
   "cell_type": "code",
   "execution_count": 3,
   "id": "periodic-identification",
   "metadata": {
    "execution": {
     "iopub.execute_input": "2021-12-15T06:30:09.525274Z",
     "iopub.status.busy": "2021-12-15T06:30:09.522889Z",
     "iopub.status.idle": "2021-12-15T06:30:09.545824Z",
     "shell.execute_reply": "2021-12-15T06:30:09.547259Z"
    },
    "papermill": {
     "duration": 0.074177,
     "end_time": "2021-12-15T06:30:09.547735",
     "exception": false,
     "start_time": "2021-12-15T06:30:09.473558",
     "status": "completed"
    },
    "tags": []
   },
   "outputs": [
    {
     "data": {
      "text/html": [
       "<div>\n",
       "<style scoped>\n",
       "    .dataframe tbody tr th:only-of-type {\n",
       "        vertical-align: middle;\n",
       "    }\n",
       "\n",
       "    .dataframe tbody tr th {\n",
       "        vertical-align: top;\n",
       "    }\n",
       "\n",
       "    .dataframe thead th {\n",
       "        text-align: right;\n",
       "    }\n",
       "</style>\n",
       "<table border=\"1\" class=\"dataframe\">\n",
       "  <thead>\n",
       "    <tr style=\"text-align: right;\">\n",
       "      <th></th>\n",
       "      <th>RECORD_TIME</th>\n",
       "    </tr>\n",
       "  </thead>\n",
       "  <tbody>\n",
       "    <tr>\n",
       "      <th>0</th>\n",
       "      <td>2021-12-15 07:30</td>\n",
       "    </tr>\n",
       "    <tr>\n",
       "      <th>1</th>\n",
       "      <td>2021-12-15 07:00</td>\n",
       "    </tr>\n",
       "  </tbody>\n",
       "</table>\n",
       "</div>"
      ],
      "text/plain": [
       "        RECORD_TIME\n",
       "0  2021-12-15 07:30\n",
       "1  2021-12-15 07:00"
      ]
     },
     "execution_count": 3,
     "metadata": {},
     "output_type": "execute_result"
    }
   ],
   "source": [
    "timestamps"
   ]
  },
  {
   "cell_type": "code",
   "execution_count": 4,
   "id": "alternate-victory",
   "metadata": {
    "execution": {
     "iopub.execute_input": "2021-12-15T06:30:09.604526Z",
     "iopub.status.busy": "2021-12-15T06:30:09.602221Z",
     "iopub.status.idle": "2021-12-15T06:30:11.177809Z",
     "shell.execute_reply": "2021-12-15T06:30:11.174909Z"
    },
    "papermill": {
     "duration": 1.609238,
     "end_time": "2021-12-15T06:30:11.178273",
     "exception": false,
     "start_time": "2021-12-15T06:30:09.569035",
     "status": "completed"
    },
    "tags": []
   },
   "outputs": [],
   "source": [
    "df = pd.read_sql(\"select * from EBAY_TOP_BERLIN where record_time in (select distinct record_time from EBAY_TOP_BERLIN order by record_time desc limit 2)\", sqlite3.connect(\"UsedObjects.db\"))"
   ]
  },
  {
   "cell_type": "code",
   "execution_count": 5,
   "id": "popular-active",
   "metadata": {
    "execution": {
     "iopub.execute_input": "2021-12-15T06:30:11.263566Z",
     "iopub.status.busy": "2021-12-15T06:30:11.245841Z",
     "iopub.status.idle": "2021-12-15T06:30:11.287990Z",
     "shell.execute_reply": "2021-12-15T06:30:11.289727Z"
    },
    "papermill": {
     "duration": 0.086824,
     "end_time": "2021-12-15T06:30:11.290273",
     "exception": false,
     "start_time": "2021-12-15T06:30:11.203449",
     "status": "completed"
    },
    "tags": []
   },
   "outputs": [],
   "source": [
    "df_pivot = df.pivot_table(index=\"PRODUCT\", columns = \"RECORD_TIME\", values = \"LISTING_COUNT\")"
   ]
  },
  {
   "cell_type": "code",
   "execution_count": 6,
   "id": "union-huntington",
   "metadata": {
    "execution": {
     "iopub.execute_input": "2021-12-15T06:30:11.356922Z",
     "iopub.status.busy": "2021-12-15T06:30:11.354609Z",
     "iopub.status.idle": "2021-12-15T06:30:11.359527Z",
     "shell.execute_reply": "2021-12-15T06:30:11.361129Z"
    },
    "papermill": {
     "duration": 0.047223,
     "end_time": "2021-12-15T06:30:11.361606",
     "exception": false,
     "start_time": "2021-12-15T06:30:11.314383",
     "status": "completed"
    },
    "tags": []
   },
   "outputs": [],
   "source": [
    "df_pivot.columns = [\"stamp_1\", \"stamp_2\"]\n",
    "df_pivot_diff = df_pivot.diff(axis=1)"
   ]
  },
  {
   "cell_type": "code",
   "execution_count": 7,
   "id": "fifth-motion",
   "metadata": {
    "execution": {
     "iopub.execute_input": "2021-12-15T06:30:11.418875Z",
     "iopub.status.busy": "2021-12-15T06:30:11.416264Z",
     "iopub.status.idle": "2021-12-15T06:30:13.395289Z",
     "shell.execute_reply": "2021-12-15T06:30:13.397244Z"
    },
    "papermill": {
     "duration": 2.016011,
     "end_time": "2021-12-15T06:30:13.397925",
     "exception": false,
     "start_time": "2021-12-15T06:30:11.381914",
     "status": "completed"
    },
    "tags": []
   },
   "outputs": [
    {
     "data": {
      "text/plain": [
       "<AxesSubplot:ylabel='PRODUCT'>"
      ]
     },
     "execution_count": 7,
     "metadata": {},
     "output_type": "execute_result"
    },
    {
     "data": {
      "image/png": "[encoded data removed]",
      "text/plain": [
       "<Figure size 432x288 with 1 Axes>"
      ]
     },
     "metadata": {
      "needs_background": "light"
     },
     "output_type": "display_data"
    }
   ],
   "source": [
    "df_pivot_diff.sort_values(\"stamp_2\", ascending = False)[\"stamp_2\"].head(10).plot.barh()"
   ]
  },
  {
   "cell_type": "code",
   "execution_count": null,
   "id": "extra-executive",
   "metadata": {
    "papermill": {
     "duration": 0.027968,
     "end_time": "2021-12-15T06:30:13.460368",
     "exception": false,
     "start_time": "2021-12-15T06:30:13.432400",
     "status": "completed"
    },
    "tags": []
   },
   "outputs": [],
   "source": []
  }
 ],
 "metadata": {
  "kernelspec": {
   "display_name": "Python 3",
   "language": "python",
   "name": "python3"
  },
  "language_info": {
   "codemirror_mode": {
    "name": "ipython",
    "version": 3
   },
   "file_extension": ".py",
   "mimetype": "text/x-python",
   "name": "python",
   "nbconvert_exporter": "python",
   "pygments_lexer": "ipython3",
   "version": "3.9.5"
  },
  "papermill": {
   "default_parameters": {},
   "duration": 9.538991,
   "end_time": "2021-12-15T06:30:14.110674",
   "environment_variables": {},
   "exception": null,
   "input_path": "eBay_Overview.ipynb",
   "output_path": "eBay_Overview.ipynb",
   "parameters": {},
   "start_time": "2021-12-15T06:30:04.571683",
   "version": "2.3.3"
  }
 },
 "nbformat": 4,
 "nbformat_minor": 5
}