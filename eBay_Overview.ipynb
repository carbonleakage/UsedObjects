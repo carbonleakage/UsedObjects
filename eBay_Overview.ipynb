{
 "cells": [
  {
   "cell_type": "code",
   "execution_count": 1,
   "id": "reverse-picking",
   "metadata": {
    "execution": {
     "iopub.execute_input": "2021-10-08T08:00:06.830933Z",
     "iopub.status.busy": "2021-10-08T08:00:06.828954Z",
     "iopub.status.idle": "2021-10-08T08:00:07.641938Z",
     "shell.execute_reply": "2021-10-08T08:00:07.640420Z"
    },
    "papermill": {
     "duration": 0.863751,
     "end_time": "2021-10-08T08:00:07.642343",
     "exception": false,
     "start_time": "2021-10-08T08:00:06.778592",
     "status": "completed"
    },
    "tags": []
   },
   "outputs": [],
   "source": [
    "import pandas as pd\n",
    "import sqlite3"
   ]
  },
  {
   "cell_type": "code",
   "execution_count": 2,
   "id": "innovative-syndrome",
   "metadata": {
    "execution": {
     "iopub.execute_input": "2021-10-08T08:00:07.695530Z",
     "iopub.status.busy": "2021-10-08T08:00:07.693122Z",
     "iopub.status.idle": "2021-10-08T08:00:08.173109Z",
     "shell.execute_reply": "2021-10-08T08:00:08.174363Z"
    },
    "papermill": {
     "duration": 0.50994,
     "end_time": "2021-10-08T08:00:08.174770",
     "exception": false,
     "start_time": "2021-10-08T08:00:07.664830",
     "status": "completed"
    },
    "tags": []
   },
   "outputs": [],
   "source": [
    "timestamps = pd.read_sql(\"select distinct record_time from EBAY_TOP_BERLIN order by record_time desc limit 2\", sqlite3.connect(\"UsedObjects.db\"))"
   ]
  },
  {
   "cell_type": "code",
   "execution_count": 3,
   "id": "periodic-identification",
   "metadata": {
    "execution": {
     "iopub.execute_input": "2021-10-08T08:00:08.242107Z",
     "iopub.status.busy": "2021-10-08T08:00:08.240079Z",
     "iopub.status.idle": "2021-10-08T08:00:08.259973Z",
     "shell.execute_reply": "2021-10-08T08:00:08.261166Z"
    },
    "papermill": {
     "duration": 0.066586,
     "end_time": "2021-10-08T08:00:08.261552",
     "exception": false,
     "start_time": "2021-10-08T08:00:08.194966",
     "status": "completed"
    },
    "tags": []
   },
   "outputs": [
    {
     "data": {
      "text/html": [
       "<div>\n",
       "<style scoped>\n",
       "    .dataframe tbody tr th:only-of-type {\n",
       "        vertical-align: middle;\n",
       "    }\n",
       "\n",
       "    .dataframe tbody tr th {\n",
       "        vertical-align: top;\n",
       "    }\n",
       "\n",
       "    .dataframe thead th {\n",
       "        text-align: right;\n",
       "    }\n",
       "</style>\n",
       "<table border=\"1\" class=\"dataframe\">\n",
       "  <thead>\n",
       "    <tr style=\"text-align: right;\">\n",
       "      <th></th>\n",
       "      <th>RECORD_TIME</th>\n",
       "    </tr>\n",
       "  </thead>\n",
       "  <tbody>\n",
       "    <tr>\n",
       "      <th>0</th>\n",
       "      <td>2021-10-08 10:00</td>\n",
       "    </tr>\n",
       "    <tr>\n",
       "      <th>1</th>\n",
       "      <td>2021-10-08 09:30</td>\n",
       "    </tr>\n",
       "  </tbody>\n",
       "</table>\n",
       "</div>"
      ],
      "text/plain": [
       "        RECORD_TIME\n",
       "0  2021-10-08 10:00\n",
       "1  2021-10-08 09:30"
      ]
     },
     "execution_count": 3,
     "metadata": {},
     "output_type": "execute_result"
    }
   ],
   "source": [
    "timestamps"
   ]
  },
  {
   "cell_type": "code",
   "execution_count": 4,
   "id": "alternate-victory",
   "metadata": {
    "execution": {
     "iopub.execute_input": "2021-10-08T08:00:08.322462Z",
     "iopub.status.busy": "2021-10-08T08:00:08.320596Z",
     "iopub.status.idle": "2021-10-08T08:00:09.018022Z",
     "shell.execute_reply": "2021-10-08T08:00:09.019568Z"
    },
    "papermill": {
     "duration": 0.731695,
     "end_time": "2021-10-08T08:00:09.020006",
     "exception": false,
     "start_time": "2021-10-08T08:00:08.288311",
     "status": "completed"
    },
    "tags": []
   },
   "outputs": [],
   "source": [
    "df = pd.read_sql(\"select * from EBAY_TOP_BERLIN where record_time in (select distinct record_time from EBAY_TOP_BERLIN order by record_time desc limit 2)\", sqlite3.connect(\"UsedObjects.db\"))"
   ]
  },
  {
   "cell_type": "code",
   "execution_count": 5,
   "id": "popular-active",
   "metadata": {
    "execution": {
     "iopub.execute_input": "2021-10-08T08:00:09.091795Z",
     "iopub.status.busy": "2021-10-08T08:00:09.079645Z",
     "iopub.status.idle": "2021-10-08T08:00:09.107549Z",
     "shell.execute_reply": "2021-10-08T08:00:09.108766Z"
    },
    "papermill": {
     "duration": 0.068789,
     "end_time": "2021-10-08T08:00:09.109156",
     "exception": false,
     "start_time": "2021-10-08T08:00:09.040367",
     "status": "completed"
    },
    "tags": []
   },
   "outputs": [],
   "source": [
    "df_pivot = df.pivot_table(index=\"PRODUCT\", columns = \"RECORD_TIME\", values = \"LISTING_COUNT\")"
   ]
  },
  {
   "cell_type": "code",
   "execution_count": 6,
   "id": "union-huntington",
   "metadata": {
    "execution": {
     "iopub.execute_input": "2021-10-08T08:00:09.167231Z",
     "iopub.status.busy": "2021-10-08T08:00:09.164922Z",
     "iopub.status.idle": "2021-10-08T08:00:09.170756Z",
     "shell.execute_reply": "2021-10-08T08:00:09.172276Z"
    },
    "papermill": {
     "duration": 0.042031,
     "end_time": "2021-10-08T08:00:09.172738",
     "exception": false,
     "start_time": "2021-10-08T08:00:09.130707",
     "status": "completed"
    },
    "tags": []
   },
   "outputs": [],
   "source": [
    "df_pivot.columns = [\"stamp_1\", \"stamp_2\"]\n",
    "df_pivot_diff = df_pivot.diff(axis=1)"
   ]
  },
  {
   "cell_type": "code",
   "execution_count": 7,
   "id": "fifth-motion",
   "metadata": {
    "execution": {
     "iopub.execute_input": "2021-10-08T08:00:09.227977Z",
     "iopub.status.busy": "2021-10-08T08:00:09.225571Z",
     "iopub.status.idle": "2021-10-08T08:00:10.729803Z",
     "shell.execute_reply": "2021-10-08T08:00:10.731175Z"
    },
    "papermill": {
     "duration": 1.53797,
     "end_time": "2021-10-08T08:00:10.731635",
     "exception": false,
     "start_time": "2021-10-08T08:00:09.193665",
     "status": "completed"
    },
    "tags": []
   },
   "outputs": [
    {
     "data": {
      "text/plain": [
       "<AxesSubplot:ylabel='PRODUCT'>"
      ]
     },
     "execution_count": 7,
     "metadata": {},
     "output_type": "execute_result"
    },
    {
     "data": {
      "image/png": "[encoded data removed]",
      "text/plain": [
       "<Figure size 432x288 with 1 Axes>"
      ]
     },
     "metadata": {
      "needs_background": "light"
     },
     "output_type": "display_data"
    }
   ],
   "source": [
    "df_pivot_diff.sort_values(\"stamp_2\", ascending = False)[\"stamp_2\"].head(10).plot.barh()"
   ]
  },
  {
   "cell_type": "code",
   "execution_count": null,
   "id": "extra-executive",
   "metadata": {
    "papermill": {
     "duration": 0.022227,
     "end_time": "2021-10-08T08:00:10.777730",
     "exception": false,
     "start_time": "2021-10-08T08:00:10.755503",
     "status": "completed"
    },
    "tags": []
   },
   "outputs": [],
   "source": []
  }
 ],
 "metadata": {
  "kernelspec": {
   "display_name": "Python 3",
   "language": "python",
   "name": "python3"
  },
  "language_info": {
   "codemirror_mode": {
    "name": "ipython",
    "version": 3
   },
   "file_extension": ".py",
   "mimetype": "text/x-python",
   "name": "python",
   "nbconvert_exporter": "python",
   "pygments_lexer": "ipython3",
   "version": "3.9.5"
  },
  "papermill": {
   "default_parameters": {},
   "duration": 7.84579,
   "end_time": "2021-10-08T08:00:12.208675",
   "environment_variables": {},
   "exception": null,
   "input_path": "eBay_Overview.ipynb",
   "output_path": "eBay_Overview.ipynb",
   "parameters": {},
   "start_time": "2021-10-08T08:00:04.362885",
   "version": "2.3.3"
  }
 },
 "nbformat": 4,
 "nbformat_minor": 5
}