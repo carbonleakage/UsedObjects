{
 "cells": [
  {
   "cell_type": "code",
   "execution_count": 1,
   "id": "reverse-picking",
   "metadata": {
    "execution": {
     "iopub.execute_input": "2021-09-15T11:30:06.953419Z",
     "iopub.status.busy": "2021-09-15T11:30:06.951459Z",
     "iopub.status.idle": "2021-09-15T11:30:07.762532Z",
     "shell.execute_reply": "2021-09-15T11:30:07.760959Z"
    },
    "papermill": {
     "duration": 0.864005,
     "end_time": "2021-09-15T11:30:07.763104",
     "exception": false,
     "start_time": "2021-09-15T11:30:06.899099",
     "status": "completed"
    },
    "tags": []
   },
   "outputs": [],
   "source": [
    "import pandas as pd\n",
    "import sqlite3"
   ]
  },
  {
   "cell_type": "code",
   "execution_count": 2,
   "id": "innovative-syndrome",
   "metadata": {
    "execution": {
     "iopub.execute_input": "2021-09-15T11:30:07.816074Z",
     "iopub.status.busy": "2021-09-15T11:30:07.813685Z",
     "iopub.status.idle": "2021-09-15T11:30:08.102984Z",
     "shell.execute_reply": "2021-09-15T11:30:08.104345Z"
    },
    "papermill": {
     "duration": 0.31936,
     "end_time": "2021-09-15T11:30:08.104762",
     "exception": false,
     "start_time": "2021-09-15T11:30:07.785402",
     "status": "completed"
    },
    "tags": []
   },
   "outputs": [],
   "source": [
    "timestamps = pd.read_sql(\"select distinct record_time from EBAY_TOP_BERLIN order by record_time desc limit 2\", sqlite3.connect(\"UsedObjects.db\"))"
   ]
  },
  {
   "cell_type": "code",
   "execution_count": 3,
   "id": "periodic-identification",
   "metadata": {
    "execution": {
     "iopub.execute_input": "2021-09-15T11:30:08.169830Z",
     "iopub.status.busy": "2021-09-15T11:30:08.167797Z",
     "iopub.status.idle": "2021-09-15T11:30:08.189151Z",
     "shell.execute_reply": "2021-09-15T11:30:08.190274Z"
    },
    "papermill": {
     "duration": 0.066658,
     "end_time": "2021-09-15T11:30:08.190679",
     "exception": false,
     "start_time": "2021-09-15T11:30:08.124021",
     "status": "completed"
    },
    "tags": []
   },
   "outputs": [
    {
     "data": {
      "text/html": [
       "<div>\n",
       "<style scoped>\n",
       "    .dataframe tbody tr th:only-of-type {\n",
       "        vertical-align: middle;\n",
       "    }\n",
       "\n",
       "    .dataframe tbody tr th {\n",
       "        vertical-align: top;\n",
       "    }\n",
       "\n",
       "    .dataframe thead th {\n",
       "        text-align: right;\n",
       "    }\n",
       "</style>\n",
       "<table border=\"1\" class=\"dataframe\">\n",
       "  <thead>\n",
       "    <tr style=\"text-align: right;\">\n",
       "      <th></th>\n",
       "      <th>RECORD_TIME</th>\n",
       "    </tr>\n",
       "  </thead>\n",
       "  <tbody>\n",
       "    <tr>\n",
       "      <th>0</th>\n",
       "      <td>2021-09-15 13:30</td>\n",
       "    </tr>\n",
       "    <tr>\n",
       "      <th>1</th>\n",
       "      <td>2021-09-15 13:00</td>\n",
       "    </tr>\n",
       "  </tbody>\n",
       "</table>\n",
       "</div>"
      ],
      "text/plain": [
       "        RECORD_TIME\n",
       "0  2021-09-15 13:30\n",
       "1  2021-09-15 13:00"
      ]
     },
     "execution_count": 3,
     "metadata": {},
     "output_type": "execute_result"
    }
   ],
   "source": [
    "timestamps"
   ]
  },
  {
   "cell_type": "code",
   "execution_count": 4,
   "id": "alternate-victory",
   "metadata": {
    "execution": {
     "iopub.execute_input": "2021-09-15T11:30:08.243810Z",
     "iopub.status.busy": "2021-09-15T11:30:08.241419Z",
     "iopub.status.idle": "2021-09-15T11:30:08.677721Z",
     "shell.execute_reply": "2021-09-15T11:30:08.679031Z"
    },
    "papermill": {
     "duration": 0.466888,
     "end_time": "2021-09-15T11:30:08.679446",
     "exception": false,
     "start_time": "2021-09-15T11:30:08.212558",
     "status": "completed"
    },
    "tags": []
   },
   "outputs": [],
   "source": [
    "df = pd.read_sql(\"select * from EBAY_TOP_BERLIN where record_time in (select distinct record_time from EBAY_TOP_BERLIN order by record_time desc limit 2)\", sqlite3.connect(\"UsedObjects.db\"))"
   ]
  },
  {
   "cell_type": "code",
   "execution_count": 5,
   "id": "popular-active",
   "metadata": {
    "execution": {
     "iopub.execute_input": "2021-09-15T11:30:08.748547Z",
     "iopub.status.busy": "2021-09-15T11:30:08.737417Z",
     "iopub.status.idle": "2021-09-15T11:30:08.765239Z",
     "shell.execute_reply": "2021-09-15T11:30:08.766456Z"
    },
    "papermill": {
     "duration": 0.066724,
     "end_time": "2021-09-15T11:30:08.767047",
     "exception": false,
     "start_time": "2021-09-15T11:30:08.700323",
     "status": "completed"
    },
    "tags": []
   },
   "outputs": [],
   "source": [
    "df_pivot = df.pivot_table(index=\"PRODUCT\", columns = \"RECORD_TIME\", values = \"LISTING_COUNT\")"
   ]
  },
  {
   "cell_type": "code",
   "execution_count": 6,
   "id": "union-huntington",
   "metadata": {
    "execution": {
     "iopub.execute_input": "2021-09-15T11:30:08.826547Z",
     "iopub.status.busy": "2021-09-15T11:30:08.824087Z",
     "iopub.status.idle": "2021-09-15T11:30:08.829918Z",
     "shell.execute_reply": "2021-09-15T11:30:08.831280Z"
    },
    "papermill": {
     "duration": 0.042531,
     "end_time": "2021-09-15T11:30:08.831696",
     "exception": false,
     "start_time": "2021-09-15T11:30:08.789165",
     "status": "completed"
    },
    "tags": []
   },
   "outputs": [],
   "source": [
    "df_pivot.columns = [\"stamp_1\", \"stamp_2\"]\n",
    "df_pivot_diff = df_pivot.diff(axis=1)"
   ]
  },
  {
   "cell_type": "code",
   "execution_count": 7,
   "id": "fifth-motion",
   "metadata": {
    "execution": {
     "iopub.execute_input": "2021-09-15T11:30:08.886062Z",
     "iopub.status.busy": "2021-09-15T11:30:08.883770Z",
     "iopub.status.idle": "2021-09-15T11:30:10.389347Z",
     "shell.execute_reply": "2021-09-15T11:30:10.390646Z"
    },
    "papermill": {
     "duration": 1.538918,
     "end_time": "2021-09-15T11:30:10.391119",
     "exception": false,
     "start_time": "2021-09-15T11:30:08.852201",
     "status": "completed"
    },
    "tags": []
   },
   "outputs": [
    {
     "data": {
      "text/plain": [
       "<AxesSubplot:ylabel='PRODUCT'>"
      ]
     },
     "execution_count": 7,
     "metadata": {},
     "output_type": "execute_result"
    },
    {
     "data": {
      "image/png": "[encoded data removed]",
      "text/plain": [
       "<Figure size 432x288 with 1 Axes>"
      ]
     },
     "metadata": {
      "needs_background": "light"
     },
     "output_type": "display_data"
    }
   ],
   "source": [
    "df_pivot_diff.sort_values(\"stamp_2\", ascending = False)[\"stamp_2\"].head(10).plot.barh()"
   ]
  },
  {
   "cell_type": "code",
   "execution_count": null,
   "id": "extra-executive",
   "metadata": {
    "papermill": {
     "duration": 0.022125,
     "end_time": "2021-09-15T11:30:10.438032",
     "exception": false,
     "start_time": "2021-09-15T11:30:10.415907",
     "status": "completed"
    },
    "tags": []
   },
   "outputs": [],
   "source": []
  }
 ],
 "metadata": {
  "kernelspec": {
   "display_name": "Python 3",
   "language": "python",
   "name": "python3"
  },
  "language_info": {
   "codemirror_mode": {
    "name": "ipython",
    "version": 3
   },
   "file_extension": ".py",
   "mimetype": "text/x-python",
   "name": "python",
   "nbconvert_exporter": "python",
   "pygments_lexer": "ipython3",
   "version": "3.9.5"
  },
  "papermill": {
   "default_parameters": {},
   "duration": 6.59045,
   "end_time": "2021-09-15T11:30:11.079263",
   "environment_variables": {},
   "exception": null,
   "input_path": "eBay_Overview.ipynb",
   "output_path": "eBay_Overview.ipynb",
   "parameters": {},
   "start_time": "2021-09-15T11:30:04.488813",
   "version": "2.3.3"
  }
 },
 "nbformat": 4,
 "nbformat_minor": 5
}