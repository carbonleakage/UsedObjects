{
 "cells": [
  {
   "cell_type": "code",
   "execution_count": 1,
   "id": "reverse-picking",
   "metadata": {
    "execution": {
     "iopub.execute_input": "2021-11-26T08:00:07.808004Z",
     "iopub.status.busy": "2021-11-26T08:00:07.802557Z",
     "iopub.status.idle": "2021-11-26T08:00:08.743353Z",
     "shell.execute_reply": "2021-11-26T08:00:08.744971Z"
    },
    "papermill": {
     "duration": 0.986347,
     "end_time": "2021-11-26T08:00:08.745695",
     "exception": false,
     "start_time": "2021-11-26T08:00:07.759348",
     "status": "completed"
    },
    "tags": []
   },
   "outputs": [],
   "source": [
    "import pandas as pd\n",
    "import sqlite3"
   ]
  },
  {
   "cell_type": "code",
   "execution_count": 2,
   "id": "innovative-syndrome",
   "metadata": {
    "execution": {
     "iopub.execute_input": "2021-11-26T08:00:08.810836Z",
     "iopub.status.busy": "2021-11-26T08:00:08.808528Z",
     "iopub.status.idle": "2021-11-26T08:00:09.727971Z",
     "shell.execute_reply": "2021-11-26T08:00:09.729590Z"
    },
    "papermill": {
     "duration": 0.95286,
     "end_time": "2021-11-26T08:00:09.730118",
     "exception": false,
     "start_time": "2021-11-26T08:00:08.777258",
     "status": "completed"
    },
    "tags": []
   },
   "outputs": [],
   "source": [
    "timestamps = pd.read_sql(\"select distinct record_time from EBAY_TOP_BERLIN order by record_time desc limit 2\", sqlite3.connect(\"UsedObjects.db\"))"
   ]
  },
  {
   "cell_type": "code",
   "execution_count": 3,
   "id": "periodic-identification",
   "metadata": {
    "execution": {
     "iopub.execute_input": "2021-11-26T08:00:09.805355Z",
     "iopub.status.busy": "2021-11-26T08:00:09.799410Z",
     "iopub.status.idle": "2021-11-26T08:00:09.823586Z",
     "shell.execute_reply": "2021-11-26T08:00:09.825242Z"
    },
    "papermill": {
     "duration": 0.074068,
     "end_time": "2021-11-26T08:00:09.825729",
     "exception": false,
     "start_time": "2021-11-26T08:00:09.751661",
     "status": "completed"
    },
    "tags": []
   },
   "outputs": [
    {
     "data": {
      "text/html": [
       "<div>\n",
       "<style scoped>\n",
       "    .dataframe tbody tr th:only-of-type {\n",
       "        vertical-align: middle;\n",
       "    }\n",
       "\n",
       "    .dataframe tbody tr th {\n",
       "        vertical-align: top;\n",
       "    }\n",
       "\n",
       "    .dataframe thead th {\n",
       "        text-align: right;\n",
       "    }\n",
       "</style>\n",
       "<table border=\"1\" class=\"dataframe\">\n",
       "  <thead>\n",
       "    <tr style=\"text-align: right;\">\n",
       "      <th></th>\n",
       "      <th>RECORD_TIME</th>\n",
       "    </tr>\n",
       "  </thead>\n",
       "  <tbody>\n",
       "    <tr>\n",
       "      <th>0</th>\n",
       "      <td>2021-11-26 09:00</td>\n",
       "    </tr>\n",
       "    <tr>\n",
       "      <th>1</th>\n",
       "      <td>2021-11-26 08:30</td>\n",
       "    </tr>\n",
       "  </tbody>\n",
       "</table>\n",
       "</div>"
      ],
      "text/plain": [
       "        RECORD_TIME\n",
       "0  2021-11-26 09:00\n",
       "1  2021-11-26 08:30"
      ]
     },
     "execution_count": 3,
     "metadata": {},
     "output_type": "execute_result"
    }
   ],
   "source": [
    "timestamps"
   ]
  },
  {
   "cell_type": "code",
   "execution_count": 4,
   "id": "alternate-victory",
   "metadata": {
    "execution": {
     "iopub.execute_input": "2021-11-26T08:00:09.882884Z",
     "iopub.status.busy": "2021-11-26T08:00:09.880797Z",
     "iopub.status.idle": "2021-11-26T08:00:11.394538Z",
     "shell.execute_reply": "2021-11-26T08:00:11.396121Z"
    },
    "papermill": {
     "duration": 1.549015,
     "end_time": "2021-11-26T08:00:11.396622",
     "exception": false,
     "start_time": "2021-11-26T08:00:09.847607",
     "status": "completed"
    },
    "tags": []
   },
   "outputs": [],
   "source": [
    "df = pd.read_sql(\"select * from EBAY_TOP_BERLIN where record_time in (select distinct record_time from EBAY_TOP_BERLIN order by record_time desc limit 2)\", sqlite3.connect(\"UsedObjects.db\"))"
   ]
  },
  {
   "cell_type": "code",
   "execution_count": 5,
   "id": "popular-active",
   "metadata": {
    "execution": {
     "iopub.execute_input": "2021-11-26T08:00:11.474993Z",
     "iopub.status.busy": "2021-11-26T08:00:11.462286Z",
     "iopub.status.idle": "2021-11-26T08:00:11.492907Z",
     "shell.execute_reply": "2021-11-26T08:00:11.494290Z"
    },
    "papermill": {
     "duration": 0.073794,
     "end_time": "2021-11-26T08:00:11.494753",
     "exception": false,
     "start_time": "2021-11-26T08:00:11.420959",
     "status": "completed"
    },
    "tags": []
   },
   "outputs": [],
   "source": [
    "df_pivot = df.pivot_table(index=\"PRODUCT\", columns = \"RECORD_TIME\", values = \"LISTING_COUNT\")"
   ]
  },
  {
   "cell_type": "code",
   "execution_count": 6,
   "id": "union-huntington",
   "metadata": {
    "execution": {
     "iopub.execute_input": "2021-11-26T08:00:11.555842Z",
     "iopub.status.busy": "2021-11-26T08:00:11.553614Z",
     "iopub.status.idle": "2021-11-26T08:00:11.559651Z",
     "shell.execute_reply": "2021-11-26T08:00:11.561792Z"
    },
    "papermill": {
     "duration": 0.047766,
     "end_time": "2021-11-26T08:00:11.562575",
     "exception": false,
     "start_time": "2021-11-26T08:00:11.514809",
     "status": "completed"
    },
    "tags": []
   },
   "outputs": [],
   "source": [
    "df_pivot.columns = [\"stamp_1\", \"stamp_2\"]\n",
    "df_pivot_diff = df_pivot.diff(axis=1)"
   ]
  },
  {
   "cell_type": "code",
   "execution_count": 7,
   "id": "fifth-motion",
   "metadata": {
    "execution": {
     "iopub.execute_input": "2021-11-26T08:00:11.625570Z",
     "iopub.status.busy": "2021-11-26T08:00:11.622918Z",
     "iopub.status.idle": "2021-11-26T08:00:13.635707Z",
     "shell.execute_reply": "2021-11-26T08:00:13.638963Z"
    },
    "papermill": {
     "duration": 2.054831,
     "end_time": "2021-11-26T08:00:13.639848",
     "exception": false,
     "start_time": "2021-11-26T08:00:11.585017",
     "status": "completed"
    },
    "tags": []
   },
   "outputs": [
    {
     "data": {
      "text/plain": [
       "<AxesSubplot:ylabel='PRODUCT'>"
      ]
     },
     "execution_count": 7,
     "metadata": {},
     "output_type": "execute_result"
    },
    {
     "data": {
      "image/png": "[encoded data removed]",
      "text/plain": [
       "<Figure size 432x288 with 1 Axes>"
      ]
     },
     "metadata": {
      "needs_background": "light"
     },
     "output_type": "display_data"
    }
   ],
   "source": [
    "df_pivot_diff.sort_values(\"stamp_2\", ascending = False)[\"stamp_2\"].head(10).plot.barh()"
   ]
  },
  {
   "cell_type": "code",
   "execution_count": null,
   "id": "extra-executive",
   "metadata": {
    "papermill": {
     "duration": 0.036168,
     "end_time": "2021-11-26T08:00:13.712370",
     "exception": false,
     "start_time": "2021-11-26T08:00:13.676202",
     "status": "completed"
    },
    "tags": []
   },
   "outputs": [],
   "source": []
  }
 ],
 "metadata": {
  "kernelspec": {
   "display_name": "Python 3",
   "language": "python",
   "name": "python3"
  },
  "language_info": {
   "codemirror_mode": {
    "name": "ipython",
    "version": 3
   },
   "file_extension": ".py",
   "mimetype": "text/x-python",
   "name": "python",
   "nbconvert_exporter": "python",
   "pygments_lexer": "ipython3",
   "version": "3.9.5"
  },
  "papermill": {
   "default_parameters": {},
   "duration": 9.929964,
   "end_time": "2021-11-26T08:00:14.967148",
   "environment_variables": {},
   "exception": null,
   "input_path": "eBay_Overview.ipynb",
   "output_path": "eBay_Overview.ipynb",
   "parameters": {},
   "start_time": "2021-11-26T08:00:05.037184",
   "version": "2.3.3"
  }
 },
 "nbformat": 4,
 "nbformat_minor": 5
}