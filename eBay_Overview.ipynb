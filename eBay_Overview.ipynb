{
 "cells": [
  {
   "cell_type": "code",
   "execution_count": 1,
   "id": "reverse-picking",
   "metadata": {
    "execution": {
     "iopub.execute_input": "2021-11-08T02:00:07.795946Z",
     "iopub.status.busy": "2021-11-08T02:00:07.793672Z",
     "iopub.status.idle": "2021-11-08T02:00:08.765362Z",
     "shell.execute_reply": "2021-11-08T02:00:08.766903Z"
    },
    "papermill": {
     "duration": 1.004198,
     "end_time": "2021-11-08T02:00:08.767681",
     "exception": false,
     "start_time": "2021-11-08T02:00:07.763483",
     "status": "completed"
    },
    "tags": []
   },
   "outputs": [],
   "source": [
    "import pandas as pd\n",
    "import sqlite3"
   ]
  },
  {
   "cell_type": "code",
   "execution_count": 2,
   "id": "innovative-syndrome",
   "metadata": {
    "execution": {
     "iopub.execute_input": "2021-11-08T02:00:08.829960Z",
     "iopub.status.busy": "2021-11-08T02:00:08.827677Z",
     "iopub.status.idle": "2021-11-08T02:00:09.586016Z",
     "shell.execute_reply": "2021-11-08T02:00:09.587640Z"
    },
    "papermill": {
     "duration": 0.792498,
     "end_time": "2021-11-08T02:00:09.588144",
     "exception": false,
     "start_time": "2021-11-08T02:00:08.795646",
     "status": "completed"
    },
    "tags": []
   },
   "outputs": [],
   "source": [
    "timestamps = pd.read_sql(\"select distinct record_time from EBAY_TOP_BERLIN order by record_time desc limit 2\", sqlite3.connect(\"UsedObjects.db\"))"
   ]
  },
  {
   "cell_type": "code",
   "execution_count": 3,
   "id": "periodic-identification",
   "metadata": {
    "execution": {
     "iopub.execute_input": "2021-11-08T02:00:09.672288Z",
     "iopub.status.busy": "2021-11-08T02:00:09.668509Z",
     "iopub.status.idle": "2021-11-08T02:00:09.698690Z",
     "shell.execute_reply": "2021-11-08T02:00:09.700166Z"
    },
    "papermill": {
     "duration": 0.092449,
     "end_time": "2021-11-08T02:00:09.700760",
     "exception": false,
     "start_time": "2021-11-08T02:00:09.608311",
     "status": "completed"
    },
    "tags": []
   },
   "outputs": [
    {
     "data": {
      "text/html": [
       "<div>\n",
       "<style scoped>\n",
       "    .dataframe tbody tr th:only-of-type {\n",
       "        vertical-align: middle;\n",
       "    }\n",
       "\n",
       "    .dataframe tbody tr th {\n",
       "        vertical-align: top;\n",
       "    }\n",
       "\n",
       "    .dataframe thead th {\n",
       "        text-align: right;\n",
       "    }\n",
       "</style>\n",
       "<table border=\"1\" class=\"dataframe\">\n",
       "  <thead>\n",
       "    <tr style=\"text-align: right;\">\n",
       "      <th></th>\n",
       "      <th>RECORD_TIME</th>\n",
       "    </tr>\n",
       "  </thead>\n",
       "  <tbody>\n",
       "    <tr>\n",
       "      <th>0</th>\n",
       "      <td>2021-11-08 03:00</td>\n",
       "    </tr>\n",
       "    <tr>\n",
       "      <th>1</th>\n",
       "      <td>2021-11-08 02:30</td>\n",
       "    </tr>\n",
       "  </tbody>\n",
       "</table>\n",
       "</div>"
      ],
      "text/plain": [
       "        RECORD_TIME\n",
       "0  2021-11-08 03:00\n",
       "1  2021-11-08 02:30"
      ]
     },
     "execution_count": 3,
     "metadata": {},
     "output_type": "execute_result"
    }
   ],
   "source": [
    "timestamps"
   ]
  },
  {
   "cell_type": "code",
   "execution_count": 4,
   "id": "alternate-victory",
   "metadata": {
    "execution": {
     "iopub.execute_input": "2021-11-08T02:00:09.756547Z",
     "iopub.status.busy": "2021-11-08T02:00:09.754295Z",
     "iopub.status.idle": "2021-11-08T02:00:10.846214Z",
     "shell.execute_reply": "2021-11-08T02:00:10.847688Z"
    },
    "papermill": {
     "duration": 1.125754,
     "end_time": "2021-11-08T02:00:10.848176",
     "exception": false,
     "start_time": "2021-11-08T02:00:09.722422",
     "status": "completed"
    },
    "tags": []
   },
   "outputs": [],
   "source": [
    "df = pd.read_sql(\"select * from EBAY_TOP_BERLIN where record_time in (select distinct record_time from EBAY_TOP_BERLIN order by record_time desc limit 2)\", sqlite3.connect(\"UsedObjects.db\"))"
   ]
  },
  {
   "cell_type": "code",
   "execution_count": 5,
   "id": "popular-active",
   "metadata": {
    "execution": {
     "iopub.execute_input": "2021-11-08T02:00:10.908070Z",
     "iopub.status.busy": "2021-11-08T02:00:10.906511Z",
     "iopub.status.idle": "2021-11-08T02:00:10.939887Z",
     "shell.execute_reply": "2021-11-08T02:00:10.942780Z"
    },
    "papermill": {
     "duration": 0.073768,
     "end_time": "2021-11-08T02:00:10.943276",
     "exception": false,
     "start_time": "2021-11-08T02:00:10.869508",
     "status": "completed"
    },
    "tags": []
   },
   "outputs": [],
   "source": [
    "df_pivot = df.pivot_table(index=\"PRODUCT\", columns = \"RECORD_TIME\", values = \"LISTING_COUNT\")"
   ]
  },
  {
   "cell_type": "code",
   "execution_count": 6,
   "id": "union-huntington",
   "metadata": {
    "execution": {
     "iopub.execute_input": "2021-11-08T02:00:11.006453Z",
     "iopub.status.busy": "2021-11-08T02:00:11.004178Z",
     "iopub.status.idle": "2021-11-08T02:00:11.009401Z",
     "shell.execute_reply": "2021-11-08T02:00:11.011363Z"
    },
    "papermill": {
     "duration": 0.047244,
     "end_time": "2021-11-08T02:00:11.011850",
     "exception": false,
     "start_time": "2021-11-08T02:00:10.964606",
     "status": "completed"
    },
    "tags": []
   },
   "outputs": [],
   "source": [
    "df_pivot.columns = [\"stamp_1\", \"stamp_2\"]\n",
    "df_pivot_diff = df_pivot.diff(axis=1)"
   ]
  },
  {
   "cell_type": "code",
   "execution_count": 7,
   "id": "fifth-motion",
   "metadata": {
    "execution": {
     "iopub.execute_input": "2021-11-08T02:00:11.070921Z",
     "iopub.status.busy": "2021-11-08T02:00:11.068213Z",
     "iopub.status.idle": "2021-11-08T02:00:12.826033Z",
     "shell.execute_reply": "2021-11-08T02:00:12.827448Z"
    },
    "papermill": {
     "duration": 1.794529,
     "end_time": "2021-11-08T02:00:12.827964",
     "exception": false,
     "start_time": "2021-11-08T02:00:11.033435",
     "status": "completed"
    },
    "tags": []
   },
   "outputs": [
    {
     "data": {
      "text/plain": [
       "<AxesSubplot:ylabel='PRODUCT'>"
      ]
     },
     "execution_count": 7,
     "metadata": {},
     "output_type": "execute_result"
    },
    {
     "data": {
      "image/png": "[encoded data removed]",
      "text/plain": [
       "<Figure size 432x288 with 1 Axes>"
      ]
     },
     "metadata": {
      "needs_background": "light"
     },
     "output_type": "display_data"
    }
   ],
   "source": [
    "df_pivot_diff.sort_values(\"stamp_2\", ascending = False)[\"stamp_2\"].head(10).plot.barh()"
   ]
  },
  {
   "cell_type": "code",
   "execution_count": null,
   "id": "extra-executive",
   "metadata": {
    "papermill": {
     "duration": 0.023149,
     "end_time": "2021-11-08T02:00:12.876005",
     "exception": false,
     "start_time": "2021-11-08T02:00:12.852856",
     "status": "completed"
    },
    "tags": []
   },
   "outputs": [],
   "source": []
  }
 ],
 "metadata": {
  "kernelspec": {
   "display_name": "Python 3",
   "language": "python",
   "name": "python3"
  },
  "language_info": {
   "codemirror_mode": {
    "name": "ipython",
    "version": 3
   },
   "file_extension": ".py",
   "mimetype": "text/x-python",
   "name": "python",
   "nbconvert_exporter": "python",
   "pygments_lexer": "ipython3",
   "version": "3.9.5"
  },
  "papermill": {
   "default_parameters": {},
   "duration": 8.686921,
   "end_time": "2021-11-08T02:00:13.625832",
   "environment_variables": {},
   "exception": null,
   "input_path": "eBay_Overview.ipynb",
   "output_path": "eBay_Overview.ipynb",
   "parameters": {},
   "start_time": "2021-11-08T02:00:04.938911",
   "version": "2.3.3"
  }
 },
 "nbformat": 4,
 "nbformat_minor": 5
}