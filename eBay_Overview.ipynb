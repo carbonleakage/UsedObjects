{
 "cells": [
  {
   "cell_type": "code",
   "execution_count": 1,
   "id": "reverse-picking",
   "metadata": {
    "execution": {
     "iopub.execute_input": "2021-11-16T17:00:07.891519Z",
     "iopub.status.busy": "2021-11-16T17:00:07.889096Z",
     "iopub.status.idle": "2021-11-16T17:00:08.838658Z",
     "shell.execute_reply": "2021-11-16T17:00:08.840256Z"
    },
    "papermill": {
     "duration": 0.998452,
     "end_time": "2021-11-16T17:00:08.841088",
     "exception": false,
     "start_time": "2021-11-16T17:00:07.842636",
     "status": "completed"
    },
    "tags": []
   },
   "outputs": [],
   "source": [
    "import pandas as pd\n",
    "import sqlite3"
   ]
  },
  {
   "cell_type": "code",
   "execution_count": 2,
   "id": "innovative-syndrome",
   "metadata": {
    "execution": {
     "iopub.execute_input": "2021-11-16T17:00:08.906732Z",
     "iopub.status.busy": "2021-11-16T17:00:08.902521Z",
     "iopub.status.idle": "2021-11-16T17:00:09.756468Z",
     "shell.execute_reply": "2021-11-16T17:00:09.758193Z"
    },
    "papermill": {
     "duration": 0.890832,
     "end_time": "2021-11-16T17:00:09.758691",
     "exception": false,
     "start_time": "2021-11-16T17:00:08.867859",
     "status": "completed"
    },
    "tags": []
   },
   "outputs": [],
   "source": [
    "timestamps = pd.read_sql(\"select distinct record_time from EBAY_TOP_BERLIN order by record_time desc limit 2\", sqlite3.connect(\"UsedObjects.db\"))"
   ]
  },
  {
   "cell_type": "code",
   "execution_count": 3,
   "id": "periodic-identification",
   "metadata": {
    "execution": {
     "iopub.execute_input": "2021-11-16T17:00:09.827451Z",
     "iopub.status.busy": "2021-11-16T17:00:09.825412Z",
     "iopub.status.idle": "2021-11-16T17:00:09.845515Z",
     "shell.execute_reply": "2021-11-16T17:00:09.846823Z"
    },
    "papermill": {
     "duration": 0.068521,
     "end_time": "2021-11-16T17:00:09.847241",
     "exception": false,
     "start_time": "2021-11-16T17:00:09.778720",
     "status": "completed"
    },
    "tags": []
   },
   "outputs": [
    {
     "data": {
      "text/html": [
       "<div>\n",
       "<style scoped>\n",
       "    .dataframe tbody tr th:only-of-type {\n",
       "        vertical-align: middle;\n",
       "    }\n",
       "\n",
       "    .dataframe tbody tr th {\n",
       "        vertical-align: top;\n",
       "    }\n",
       "\n",
       "    .dataframe thead th {\n",
       "        text-align: right;\n",
       "    }\n",
       "</style>\n",
       "<table border=\"1\" class=\"dataframe\">\n",
       "  <thead>\n",
       "    <tr style=\"text-align: right;\">\n",
       "      <th></th>\n",
       "      <th>RECORD_TIME</th>\n",
       "    </tr>\n",
       "  </thead>\n",
       "  <tbody>\n",
       "    <tr>\n",
       "      <th>0</th>\n",
       "      <td>2021-11-16 18:00</td>\n",
       "    </tr>\n",
       "    <tr>\n",
       "      <th>1</th>\n",
       "      <td>2021-11-16 17:30</td>\n",
       "    </tr>\n",
       "  </tbody>\n",
       "</table>\n",
       "</div>"
      ],
      "text/plain": [
       "        RECORD_TIME\n",
       "0  2021-11-16 18:00\n",
       "1  2021-11-16 17:30"
      ]
     },
     "execution_count": 3,
     "metadata": {},
     "output_type": "execute_result"
    }
   ],
   "source": [
    "timestamps"
   ]
  },
  {
   "cell_type": "code",
   "execution_count": 4,
   "id": "alternate-victory",
   "metadata": {
    "execution": {
     "iopub.execute_input": "2021-11-16T17:00:09.899110Z",
     "iopub.status.busy": "2021-11-16T17:00:09.896841Z",
     "iopub.status.idle": "2021-11-16T17:00:11.088805Z",
     "shell.execute_reply": "2021-11-16T17:00:11.091045Z"
    },
    "papermill": {
     "duration": 1.223148,
     "end_time": "2021-11-16T17:00:11.091559",
     "exception": false,
     "start_time": "2021-11-16T17:00:09.868411",
     "status": "completed"
    },
    "tags": []
   },
   "outputs": [],
   "source": [
    "df = pd.read_sql(\"select * from EBAY_TOP_BERLIN where record_time in (select distinct record_time from EBAY_TOP_BERLIN order by record_time desc limit 2)\", sqlite3.connect(\"UsedObjects.db\"))"
   ]
  },
  {
   "cell_type": "code",
   "execution_count": 5,
   "id": "popular-active",
   "metadata": {
    "execution": {
     "iopub.execute_input": "2021-11-16T17:00:11.170935Z",
     "iopub.status.busy": "2021-11-16T17:00:11.157273Z",
     "iopub.status.idle": "2021-11-16T17:00:11.190382Z",
     "shell.execute_reply": "2021-11-16T17:00:11.191787Z"
    },
    "papermill": {
     "duration": 0.078042,
     "end_time": "2021-11-16T17:00:11.192270",
     "exception": false,
     "start_time": "2021-11-16T17:00:11.114228",
     "status": "completed"
    },
    "tags": []
   },
   "outputs": [],
   "source": [
    "df_pivot = df.pivot_table(index=\"PRODUCT\", columns = \"RECORD_TIME\", values = \"LISTING_COUNT\")"
   ]
  },
  {
   "cell_type": "code",
   "execution_count": 6,
   "id": "union-huntington",
   "metadata": {
    "execution": {
     "iopub.execute_input": "2021-11-16T17:00:11.255712Z",
     "iopub.status.busy": "2021-11-16T17:00:11.253486Z",
     "iopub.status.idle": "2021-11-16T17:00:11.258745Z",
     "shell.execute_reply": "2021-11-16T17:00:11.260220Z"
    },
    "papermill": {
     "duration": 0.043593,
     "end_time": "2021-11-16T17:00:11.260733",
     "exception": false,
     "start_time": "2021-11-16T17:00:11.217140",
     "status": "completed"
    },
    "tags": []
   },
   "outputs": [],
   "source": [
    "df_pivot.columns = [\"stamp_1\", \"stamp_2\"]\n",
    "df_pivot_diff = df_pivot.diff(axis=1)"
   ]
  },
  {
   "cell_type": "code",
   "execution_count": 7,
   "id": "fifth-motion",
   "metadata": {
    "execution": {
     "iopub.execute_input": "2021-11-16T17:00:11.315755Z",
     "iopub.status.busy": "2021-11-16T17:00:11.313889Z",
     "iopub.status.idle": "2021-11-16T17:00:13.259049Z",
     "shell.execute_reply": "2021-11-16T17:00:13.261891Z"
    },
    "papermill": {
     "duration": 1.981907,
     "end_time": "2021-11-16T17:00:13.262723",
     "exception": false,
     "start_time": "2021-11-16T17:00:11.280816",
     "status": "completed"
    },
    "tags": []
   },
   "outputs": [
    {
     "data": {
      "text/plain": [
       "<AxesSubplot:ylabel='PRODUCT'>"
      ]
     },
     "execution_count": 7,
     "metadata": {},
     "output_type": "execute_result"
    },
    {
     "data": {
      "image/png": "[encoded data removed]",
      "text/plain": [
       "<Figure size 432x288 with 1 Axes>"
      ]
     },
     "metadata": {
      "needs_background": "light"
     },
     "output_type": "display_data"
    }
   ],
   "source": [
    "df_pivot_diff.sort_values(\"stamp_2\", ascending = False)[\"stamp_2\"].head(10).plot.barh()"
   ]
  },
  {
   "cell_type": "code",
   "execution_count": null,
   "id": "extra-executive",
   "metadata": {
    "papermill": {
     "duration": 0.03456,
     "end_time": "2021-11-16T17:00:13.334543",
     "exception": false,
     "start_time": "2021-11-16T17:00:13.299983",
     "status": "completed"
    },
    "tags": []
   },
   "outputs": [],
   "source": []
  }
 ],
 "metadata": {
  "kernelspec": {
   "display_name": "Python 3",
   "language": "python",
   "name": "python3"
  },
  "language_info": {
   "codemirror_mode": {
    "name": "ipython",
    "version": 3
   },
   "file_extension": ".py",
   "mimetype": "text/x-python",
   "name": "python",
   "nbconvert_exporter": "python",
   "pygments_lexer": "ipython3",
   "version": "3.9.5"
  },
  "papermill": {
   "default_parameters": {},
   "duration": 9.936659,
   "end_time": "2021-11-16T17:00:15.056085",
   "environment_variables": {},
   "exception": null,
   "input_path": "eBay_Overview.ipynb",
   "output_path": "eBay_Overview.ipynb",
   "parameters": {},
   "start_time": "2021-11-16T17:00:05.119426",
   "version": "2.3.3"
  }
 },
 "nbformat": 4,
 "nbformat_minor": 5
}