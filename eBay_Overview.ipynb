{
 "cells": [
  {
   "cell_type": "code",
   "execution_count": 1,
   "id": "reverse-picking",
   "metadata": {
    "execution": {
     "iopub.execute_input": "2021-12-07T21:30:07.793619Z",
     "iopub.status.busy": "2021-12-07T21:30:07.791193Z",
     "iopub.status.idle": "2021-12-07T21:30:08.748233Z",
     "shell.execute_reply": "2021-12-07T21:30:08.749847Z"
    },
    "papermill": {
     "duration": 1.007446,
     "end_time": "2021-12-07T21:30:08.751029",
     "exception": false,
     "start_time": "2021-12-07T21:30:07.743583",
     "status": "completed"
    },
    "tags": []
   },
   "outputs": [],
   "source": [
    "import pandas as pd\n",
    "import sqlite3"
   ]
  },
  {
   "cell_type": "code",
   "execution_count": 2,
   "id": "innovative-syndrome",
   "metadata": {
    "execution": {
     "iopub.execute_input": "2021-12-07T21:30:08.820601Z",
     "iopub.status.busy": "2021-12-07T21:30:08.818475Z",
     "iopub.status.idle": "2021-12-07T21:30:09.833000Z",
     "shell.execute_reply": "2021-12-07T21:30:09.834441Z"
    },
    "papermill": {
     "duration": 1.047649,
     "end_time": "2021-12-07T21:30:09.834928",
     "exception": false,
     "start_time": "2021-12-07T21:30:08.787279",
     "status": "completed"
    },
    "tags": []
   },
   "outputs": [],
   "source": [
    "timestamps = pd.read_sql(\"select distinct record_time from EBAY_TOP_BERLIN order by record_time desc limit 2\", sqlite3.connect(\"UsedObjects.db\"))"
   ]
  },
  {
   "cell_type": "code",
   "execution_count": 3,
   "id": "periodic-identification",
   "metadata": {
    "execution": {
     "iopub.execute_input": "2021-12-07T21:30:09.927285Z",
     "iopub.status.busy": "2021-12-07T21:30:09.923427Z",
     "iopub.status.idle": "2021-12-07T21:30:09.954656Z",
     "shell.execute_reply": "2021-12-07T21:30:09.956369Z"
    },
    "papermill": {
     "duration": 0.100987,
     "end_time": "2021-12-07T21:30:09.957156",
     "exception": false,
     "start_time": "2021-12-07T21:30:09.856169",
     "status": "completed"
    },
    "tags": []
   },
   "outputs": [
    {
     "data": {
      "text/html": [
       "<div>\n",
       "<style scoped>\n",
       "    .dataframe tbody tr th:only-of-type {\n",
       "        vertical-align: middle;\n",
       "    }\n",
       "\n",
       "    .dataframe tbody tr th {\n",
       "        vertical-align: top;\n",
       "    }\n",
       "\n",
       "    .dataframe thead th {\n",
       "        text-align: right;\n",
       "    }\n",
       "</style>\n",
       "<table border=\"1\" class=\"dataframe\">\n",
       "  <thead>\n",
       "    <tr style=\"text-align: right;\">\n",
       "      <th></th>\n",
       "      <th>RECORD_TIME</th>\n",
       "    </tr>\n",
       "  </thead>\n",
       "  <tbody>\n",
       "    <tr>\n",
       "      <th>0</th>\n",
       "      <td>2021-12-07 22:30</td>\n",
       "    </tr>\n",
       "    <tr>\n",
       "      <th>1</th>\n",
       "      <td>2021-12-07 22:00</td>\n",
       "    </tr>\n",
       "  </tbody>\n",
       "</table>\n",
       "</div>"
      ],
      "text/plain": [
       "        RECORD_TIME\n",
       "0  2021-12-07 22:30\n",
       "1  2021-12-07 22:00"
      ]
     },
     "execution_count": 3,
     "metadata": {},
     "output_type": "execute_result"
    }
   ],
   "source": [
    "timestamps"
   ]
  },
  {
   "cell_type": "code",
   "execution_count": 4,
   "id": "alternate-victory",
   "metadata": {
    "execution": {
     "iopub.execute_input": "2021-12-07T21:30:10.015597Z",
     "iopub.status.busy": "2021-12-07T21:30:10.013496Z",
     "iopub.status.idle": "2021-12-07T21:30:11.491083Z",
     "shell.execute_reply": "2021-12-07T21:30:11.494064Z"
    },
    "papermill": {
     "duration": 1.514099,
     "end_time": "2021-12-07T21:30:11.494933",
     "exception": false,
     "start_time": "2021-12-07T21:30:09.980834",
     "status": "completed"
    },
    "tags": []
   },
   "outputs": [],
   "source": [
    "df = pd.read_sql(\"select * from EBAY_TOP_BERLIN where record_time in (select distinct record_time from EBAY_TOP_BERLIN order by record_time desc limit 2)\", sqlite3.connect(\"UsedObjects.db\"))"
   ]
  },
  {
   "cell_type": "code",
   "execution_count": 5,
   "id": "popular-active",
   "metadata": {
    "execution": {
     "iopub.execute_input": "2021-12-07T21:30:11.622143Z",
     "iopub.status.busy": "2021-12-07T21:30:11.594727Z",
     "iopub.status.idle": "2021-12-07T21:30:11.655353Z",
     "shell.execute_reply": "2021-12-07T21:30:11.658249Z"
    },
    "papermill": {
     "duration": 0.130902,
     "end_time": "2021-12-07T21:30:11.659038",
     "exception": false,
     "start_time": "2021-12-07T21:30:11.528136",
     "status": "completed"
    },
    "tags": []
   },
   "outputs": [],
   "source": [
    "df_pivot = df.pivot_table(index=\"PRODUCT\", columns = \"RECORD_TIME\", values = \"LISTING_COUNT\")"
   ]
  },
  {
   "cell_type": "code",
   "execution_count": 6,
   "id": "union-huntington",
   "metadata": {
    "execution": {
     "iopub.execute_input": "2021-12-07T21:30:11.743756Z",
     "iopub.status.busy": "2021-12-07T21:30:11.739731Z",
     "iopub.status.idle": "2021-12-07T21:30:11.750998Z",
     "shell.execute_reply": "2021-12-07T21:30:11.753832Z"
    },
    "papermill": {
     "duration": 0.067282,
     "end_time": "2021-12-07T21:30:11.754748",
     "exception": false,
     "start_time": "2021-12-07T21:30:11.687466",
     "status": "completed"
    },
    "tags": []
   },
   "outputs": [],
   "source": [
    "df_pivot.columns = [\"stamp_1\", \"stamp_2\"]\n",
    "df_pivot_diff = df_pivot.diff(axis=1)"
   ]
  },
  {
   "cell_type": "code",
   "execution_count": 7,
   "id": "fifth-motion",
   "metadata": {
    "execution": {
     "iopub.execute_input": "2021-12-07T21:30:11.840352Z",
     "iopub.status.busy": "2021-12-07T21:30:11.837126Z",
     "iopub.status.idle": "2021-12-07T21:30:13.558470Z",
     "shell.execute_reply": "2021-12-07T21:30:13.559752Z"
    },
    "papermill": {
     "duration": 1.775175,
     "end_time": "2021-12-07T21:30:13.560172",
     "exception": false,
     "start_time": "2021-12-07T21:30:11.784997",
     "status": "completed"
    },
    "tags": []
   },
   "outputs": [
    {
     "data": {
      "text/plain": [
       "<AxesSubplot:ylabel='PRODUCT'>"
      ]
     },
     "execution_count": 7,
     "metadata": {},
     "output_type": "execute_result"
    },
    {
     "data": {
      "image/png": "[encoded data removed]",
      "text/plain": [
       "<Figure size 432x288 with 1 Axes>"
      ]
     },
     "metadata": {
      "needs_background": "light"
     },
     "output_type": "display_data"
    }
   ],
   "source": [
    "df_pivot_diff.sort_values(\"stamp_2\", ascending = False)[\"stamp_2\"].head(10).plot.barh()"
   ]
  },
  {
   "cell_type": "code",
   "execution_count": null,
   "id": "extra-executive",
   "metadata": {
    "papermill": {
     "duration": 0.022322,
     "end_time": "2021-12-07T21:30:13.608834",
     "exception": false,
     "start_time": "2021-12-07T21:30:13.586512",
     "status": "completed"
    },
    "tags": []
   },
   "outputs": [],
   "source": []
  }
 ],
 "metadata": {
  "kernelspec": {
   "display_name": "Python 3",
   "language": "python",
   "name": "python3"
  },
  "language_info": {
   "codemirror_mode": {
    "name": "ipython",
    "version": 3
   },
   "file_extension": ".py",
   "mimetype": "text/x-python",
   "name": "python",
   "nbconvert_exporter": "python",
   "pygments_lexer": "ipython3",
   "version": "3.9.5"
  },
  "papermill": {
   "default_parameters": {},
   "duration": 9.949197,
   "end_time": "2021-12-07T21:30:14.972304",
   "environment_variables": {},
   "exception": null,
   "input_path": "eBay_Overview.ipynb",
   "output_path": "eBay_Overview.ipynb",
   "parameters": {},
   "start_time": "2021-12-07T21:30:05.023107",
   "version": "2.3.3"
  }
 },
 "nbformat": 4,
 "nbformat_minor": 5
}