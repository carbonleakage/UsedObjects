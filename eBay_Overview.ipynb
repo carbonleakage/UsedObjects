{
 "cells": [
  {
   "cell_type": "code",
   "execution_count": 1,
   "id": "reverse-picking",
   "metadata": {
    "execution": {
     "iopub.execute_input": "2021-08-31T08:30:06.939897Z",
     "iopub.status.busy": "2021-08-31T08:30:06.937814Z",
     "iopub.status.idle": "2021-08-31T08:30:07.743745Z",
     "shell.execute_reply": "2021-08-31T08:30:07.744962Z"
    },
    "papermill": {
     "duration": 0.857362,
     "end_time": "2021-08-31T08:30:07.745590",
     "exception": false,
     "start_time": "2021-08-31T08:30:06.888228",
     "status": "completed"
    },
    "tags": []
   },
   "outputs": [],
   "source": [
    "import pandas as pd\n",
    "import sqlite3"
   ]
  },
  {
   "cell_type": "code",
   "execution_count": 2,
   "id": "innovative-syndrome",
   "metadata": {
    "execution": {
     "iopub.execute_input": "2021-08-31T08:30:07.797235Z",
     "iopub.status.busy": "2021-08-31T08:30:07.795319Z",
     "iopub.status.idle": "2021-08-31T08:30:07.969242Z",
     "shell.execute_reply": "2021-08-31T08:30:07.970446Z"
    },
    "papermill": {
     "duration": 0.203764,
     "end_time": "2021-08-31T08:30:07.970935",
     "exception": false,
     "start_time": "2021-08-31T08:30:07.767171",
     "status": "completed"
    },
    "tags": []
   },
   "outputs": [],
   "source": [
    "timestamps = pd.read_sql(\"select distinct record_time from EBAY_TOP_BERLIN order by record_time desc limit 2\", sqlite3.connect(\"UsedObjects.db\"))"
   ]
  },
  {
   "cell_type": "code",
   "execution_count": 3,
   "id": "periodic-identification",
   "metadata": {
    "execution": {
     "iopub.execute_input": "2021-08-31T08:30:08.040290Z",
     "iopub.status.busy": "2021-08-31T08:30:08.035404Z",
     "iopub.status.idle": "2021-08-31T08:30:08.057004Z",
     "shell.execute_reply": "2021-08-31T08:30:08.058240Z"
    },
    "papermill": {
     "duration": 0.068004,
     "end_time": "2021-08-31T08:30:08.058636",
     "exception": false,
     "start_time": "2021-08-31T08:30:07.990632",
     "status": "completed"
    },
    "tags": []
   },
   "outputs": [
    {
     "data": {
      "text/html": [
       "<div>\n",
       "<style scoped>\n",
       "    .dataframe tbody tr th:only-of-type {\n",
       "        vertical-align: middle;\n",
       "    }\n",
       "\n",
       "    .dataframe tbody tr th {\n",
       "        vertical-align: top;\n",
       "    }\n",
       "\n",
       "    .dataframe thead th {\n",
       "        text-align: right;\n",
       "    }\n",
       "</style>\n",
       "<table border=\"1\" class=\"dataframe\">\n",
       "  <thead>\n",
       "    <tr style=\"text-align: right;\">\n",
       "      <th></th>\n",
       "      <th>RECORD_TIME</th>\n",
       "    </tr>\n",
       "  </thead>\n",
       "  <tbody>\n",
       "    <tr>\n",
       "      <th>0</th>\n",
       "      <td>2021-08-31 10:30</td>\n",
       "    </tr>\n",
       "    <tr>\n",
       "      <th>1</th>\n",
       "      <td>2021-08-31 10:00</td>\n",
       "    </tr>\n",
       "  </tbody>\n",
       "</table>\n",
       "</div>"
      ],
      "text/plain": [
       "        RECORD_TIME\n",
       "0  2021-08-31 10:30\n",
       "1  2021-08-31 10:00"
      ]
     },
     "execution_count": 3,
     "metadata": {},
     "output_type": "execute_result"
    }
   ],
   "source": [
    "timestamps"
   ]
  },
  {
   "cell_type": "code",
   "execution_count": 4,
   "id": "alternate-victory",
   "metadata": {
    "execution": {
     "iopub.execute_input": "2021-08-31T08:30:08.110909Z",
     "iopub.status.busy": "2021-08-31T08:30:08.108582Z",
     "iopub.status.idle": "2021-08-31T08:30:08.373512Z",
     "shell.execute_reply": "2021-08-31T08:30:08.374823Z"
    },
    "papermill": {
     "duration": 0.295507,
     "end_time": "2021-08-31T08:30:08.375304",
     "exception": false,
     "start_time": "2021-08-31T08:30:08.079797",
     "status": "completed"
    },
    "tags": []
   },
   "outputs": [],
   "source": [
    "df = pd.read_sql(\"select * from EBAY_TOP_BERLIN where record_time in (select distinct record_time from EBAY_TOP_BERLIN order by record_time desc limit 2)\", sqlite3.connect(\"UsedObjects.db\"))"
   ]
  },
  {
   "cell_type": "code",
   "execution_count": 5,
   "id": "popular-active",
   "metadata": {
    "execution": {
     "iopub.execute_input": "2021-08-31T08:30:08.456548Z",
     "iopub.status.busy": "2021-08-31T08:30:08.445442Z",
     "iopub.status.idle": "2021-08-31T08:30:08.472933Z",
     "shell.execute_reply": "2021-08-31T08:30:08.474326Z"
    },
    "papermill": {
     "duration": 0.073374,
     "end_time": "2021-08-31T08:30:08.474767",
     "exception": false,
     "start_time": "2021-08-31T08:30:08.401393",
     "status": "completed"
    },
    "tags": []
   },
   "outputs": [],
   "source": [
    "df_pivot = df.pivot_table(index=\"PRODUCT\", columns = \"RECORD_TIME\", values = \"LISTING_COUNT\")"
   ]
  },
  {
   "cell_type": "code",
   "execution_count": 6,
   "id": "union-huntington",
   "metadata": {
    "execution": {
     "iopub.execute_input": "2021-08-31T08:30:08.534309Z",
     "iopub.status.busy": "2021-08-31T08:30:08.531855Z",
     "iopub.status.idle": "2021-08-31T08:30:08.539115Z",
     "shell.execute_reply": "2021-08-31T08:30:08.537642Z"
    },
    "papermill": {
     "duration": 0.042245,
     "end_time": "2021-08-31T08:30:08.539472",
     "exception": false,
     "start_time": "2021-08-31T08:30:08.497227",
     "status": "completed"
    },
    "tags": []
   },
   "outputs": [],
   "source": [
    "df_pivot.columns = [\"stamp_1\", \"stamp_2\"]\n",
    "df_pivot_diff = df_pivot.diff(axis=1)"
   ]
  },
  {
   "cell_type": "code",
   "execution_count": 7,
   "id": "fifth-motion",
   "metadata": {
    "execution": {
     "iopub.execute_input": "2021-08-31T08:30:08.593939Z",
     "iopub.status.busy": "2021-08-31T08:30:08.591650Z",
     "iopub.status.idle": "2021-08-31T08:30:10.071859Z",
     "shell.execute_reply": "2021-08-31T08:30:10.073173Z"
    },
    "papermill": {
     "duration": 1.513535,
     "end_time": "2021-08-31T08:30:10.073591",
     "exception": false,
     "start_time": "2021-08-31T08:30:08.560056",
     "status": "completed"
    },
    "tags": []
   },
   "outputs": [
    {
     "data": {
      "text/plain": [
       "<AxesSubplot:ylabel='PRODUCT'>"
      ]
     },
     "execution_count": 7,
     "metadata": {},
     "output_type": "execute_result"
    },
    {
     "data": {
      "image/png": "[encoded data removed]",
      "text/plain": [
       "<Figure size 432x288 with 1 Axes>"
      ]
     },
     "metadata": {
      "needs_background": "light"
     },
     "output_type": "display_data"
    }
   ],
   "source": [
    "df_pivot_diff.sort_values(\"stamp_2\", ascending = False)[\"stamp_2\"].head(10).plot.barh()"
   ]
  },
  {
   "cell_type": "code",
   "execution_count": null,
   "id": "extra-executive",
   "metadata": {
    "papermill": {
     "duration": 0.022232,
     "end_time": "2021-08-31T08:30:10.120486",
     "exception": false,
     "start_time": "2021-08-31T08:30:10.098254",
     "status": "completed"
    },
    "tags": []
   },
   "outputs": [],
   "source": []
  }
 ],
 "metadata": {
  "kernelspec": {
   "display_name": "Python 3",
   "language": "python",
   "name": "python3"
  },
  "language_info": {
   "codemirror_mode": {
    "name": "ipython",
    "version": 3
   },
   "file_extension": ".py",
   "mimetype": "text/x-python",
   "name": "python",
   "nbconvert_exporter": "python",
   "pygments_lexer": "ipython3",
   "version": "3.9.5"
  },
  "papermill": {
   "default_parameters": {},
   "duration": 6.832469,
   "end_time": "2021-08-31T08:30:11.302746",
   "environment_variables": {},
   "exception": null,
   "input_path": "eBay_Overview.ipynb",
   "output_path": "eBay_Overview.ipynb",
   "parameters": {},
   "start_time": "2021-08-31T08:30:04.470277",
   "version": "2.3.3"
  }
 },
 "nbformat": 4,
 "nbformat_minor": 5
}