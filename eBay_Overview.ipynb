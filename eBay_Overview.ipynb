{
 "cells": [
  {
   "cell_type": "code",
   "execution_count": 1,
   "id": "reverse-picking",
   "metadata": {
    "execution": {
     "iopub.execute_input": "2021-11-06T19:30:07.227100Z",
     "iopub.status.busy": "2021-11-06T19:30:07.223792Z",
     "iopub.status.idle": "2021-11-06T19:30:08.166680Z",
     "shell.execute_reply": "2021-11-06T19:30:08.168236Z"
    },
    "papermill": {
     "duration": 0.991603,
     "end_time": "2021-11-06T19:30:08.169380",
     "exception": false,
     "start_time": "2021-11-06T19:30:07.177777",
     "status": "completed"
    },
    "tags": []
   },
   "outputs": [],
   "source": [
    "import pandas as pd\n",
    "import sqlite3"
   ]
  },
  {
   "cell_type": "code",
   "execution_count": 2,
   "id": "innovative-syndrome",
   "metadata": {
    "execution": {
     "iopub.execute_input": "2021-11-06T19:30:08.243206Z",
     "iopub.status.busy": "2021-11-06T19:30:08.240932Z",
     "iopub.status.idle": "2021-11-06T19:30:08.989233Z",
     "shell.execute_reply": "2021-11-06T19:30:08.990816Z"
    },
    "papermill": {
     "duration": 0.783288,
     "end_time": "2021-11-06T19:30:08.991302",
     "exception": false,
     "start_time": "2021-11-06T19:30:08.208014",
     "status": "completed"
    },
    "tags": []
   },
   "outputs": [],
   "source": [
    "timestamps = pd.read_sql(\"select distinct record_time from EBAY_TOP_BERLIN order by record_time desc limit 2\", sqlite3.connect(\"UsedObjects.db\"))"
   ]
  },
  {
   "cell_type": "code",
   "execution_count": 3,
   "id": "periodic-identification",
   "metadata": {
    "execution": {
     "iopub.execute_input": "2021-11-06T19:30:09.068598Z",
     "iopub.status.busy": "2021-11-06T19:30:09.061565Z",
     "iopub.status.idle": "2021-11-06T19:30:09.094457Z",
     "shell.execute_reply": "2021-11-06T19:30:09.097058Z"
    },
    "papermill": {
     "duration": 0.085735,
     "end_time": "2021-11-06T19:30:09.097944",
     "exception": false,
     "start_time": "2021-11-06T19:30:09.012209",
     "status": "completed"
    },
    "tags": []
   },
   "outputs": [
    {
     "data": {
      "text/html": [
       "<div>\n",
       "<style scoped>\n",
       "    .dataframe tbody tr th:only-of-type {\n",
       "        vertical-align: middle;\n",
       "    }\n",
       "\n",
       "    .dataframe tbody tr th {\n",
       "        vertical-align: top;\n",
       "    }\n",
       "\n",
       "    .dataframe thead th {\n",
       "        text-align: right;\n",
       "    }\n",
       "</style>\n",
       "<table border=\"1\" class=\"dataframe\">\n",
       "  <thead>\n",
       "    <tr style=\"text-align: right;\">\n",
       "      <th></th>\n",
       "      <th>RECORD_TIME</th>\n",
       "    </tr>\n",
       "  </thead>\n",
       "  <tbody>\n",
       "    <tr>\n",
       "      <th>0</th>\n",
       "      <td>2021-11-06 20:30</td>\n",
       "    </tr>\n",
       "    <tr>\n",
       "      <th>1</th>\n",
       "      <td>2021-11-06 20:00</td>\n",
       "    </tr>\n",
       "  </tbody>\n",
       "</table>\n",
       "</div>"
      ],
      "text/plain": [
       "        RECORD_TIME\n",
       "0  2021-11-06 20:30\n",
       "1  2021-11-06 20:00"
      ]
     },
     "execution_count": 3,
     "metadata": {},
     "output_type": "execute_result"
    }
   ],
   "source": [
    "timestamps"
   ]
  },
  {
   "cell_type": "code",
   "execution_count": 4,
   "id": "alternate-victory",
   "metadata": {
    "execution": {
     "iopub.execute_input": "2021-11-06T19:30:09.159285Z",
     "iopub.status.busy": "2021-11-06T19:30:09.157140Z",
     "iopub.status.idle": "2021-11-06T19:30:10.245790Z",
     "shell.execute_reply": "2021-11-06T19:30:10.247477Z"
    },
    "papermill": {
     "duration": 1.122844,
     "end_time": "2021-11-06T19:30:10.248024",
     "exception": false,
     "start_time": "2021-11-06T19:30:09.125180",
     "status": "completed"
    },
    "tags": []
   },
   "outputs": [],
   "source": [
    "df = pd.read_sql(\"select * from EBAY_TOP_BERLIN where record_time in (select distinct record_time from EBAY_TOP_BERLIN order by record_time desc limit 2)\", sqlite3.connect(\"UsedObjects.db\"))"
   ]
  },
  {
   "cell_type": "code",
   "execution_count": 5,
   "id": "popular-active",
   "metadata": {
    "execution": {
     "iopub.execute_input": "2021-11-06T19:30:10.306814Z",
     "iopub.status.busy": "2021-11-06T19:30:10.305165Z",
     "iopub.status.idle": "2021-11-06T19:30:10.353481Z",
     "shell.execute_reply": "2021-11-06T19:30:10.355882Z"
    },
    "papermill": {
     "duration": 0.084909,
     "end_time": "2021-11-06T19:30:10.356294",
     "exception": false,
     "start_time": "2021-11-06T19:30:10.271385",
     "status": "completed"
    },
    "tags": []
   },
   "outputs": [],
   "source": [
    "df_pivot = df.pivot_table(index=\"PRODUCT\", columns = \"RECORD_TIME\", values = \"LISTING_COUNT\")"
   ]
  },
  {
   "cell_type": "code",
   "execution_count": 6,
   "id": "union-huntington",
   "metadata": {
    "execution": {
     "iopub.execute_input": "2021-11-06T19:30:10.419698Z",
     "iopub.status.busy": "2021-11-06T19:30:10.417461Z",
     "iopub.status.idle": "2021-11-06T19:30:10.422753Z",
     "shell.execute_reply": "2021-11-06T19:30:10.424317Z"
    },
    "papermill": {
     "duration": 0.047602,
     "end_time": "2021-11-06T19:30:10.424881",
     "exception": false,
     "start_time": "2021-11-06T19:30:10.377279",
     "status": "completed"
    },
    "tags": []
   },
   "outputs": [],
   "source": [
    "df_pivot.columns = [\"stamp_1\", \"stamp_2\"]\n",
    "df_pivot_diff = df_pivot.diff(axis=1)"
   ]
  },
  {
   "cell_type": "code",
   "execution_count": 7,
   "id": "fifth-motion",
   "metadata": {
    "execution": {
     "iopub.execute_input": "2021-11-06T19:30:10.483385Z",
     "iopub.status.busy": "2021-11-06T19:30:10.480811Z",
     "iopub.status.idle": "2021-11-06T19:30:12.234308Z",
     "shell.execute_reply": "2021-11-06T19:30:12.232639Z"
    },
    "papermill": {
     "duration": 1.78874,
     "end_time": "2021-11-06T19:30:12.234737",
     "exception": false,
     "start_time": "2021-11-06T19:30:10.445997",
     "status": "completed"
    },
    "tags": []
   },
   "outputs": [
    {
     "data": {
      "text/plain": [
       "<AxesSubplot:ylabel='PRODUCT'>"
      ]
     },
     "execution_count": 7,
     "metadata": {},
     "output_type": "execute_result"
    },
    {
     "data": {
      "image/png": "[encoded data removed]",
      "text/plain": [
       "<Figure size 432x288 with 1 Axes>"
      ]
     },
     "metadata": {
      "needs_background": "light"
     },
     "output_type": "display_data"
    }
   ],
   "source": [
    "df_pivot_diff.sort_values(\"stamp_2\", ascending = False)[\"stamp_2\"].head(10).plot.barh()"
   ]
  },
  {
   "cell_type": "code",
   "execution_count": null,
   "id": "extra-executive",
   "metadata": {
    "papermill": {
     "duration": 0.023376,
     "end_time": "2021-11-06T19:30:12.283542",
     "exception": false,
     "start_time": "2021-11-06T19:30:12.260166",
     "status": "completed"
    },
    "tags": []
   },
   "outputs": [],
   "source": []
  }
 ],
 "metadata": {
  "kernelspec": {
   "display_name": "Python 3",
   "language": "python",
   "name": "python3"
  },
  "language_info": {
   "codemirror_mode": {
    "name": "ipython",
    "version": 3
   },
   "file_extension": ".py",
   "mimetype": "text/x-python",
   "name": "python",
   "nbconvert_exporter": "python",
   "pygments_lexer": "ipython3",
   "version": "3.9.5"
  },
  "papermill": {
   "default_parameters": {},
   "duration": 8.672581,
   "end_time": "2021-11-06T19:30:13.031451",
   "environment_variables": {},
   "exception": null,
   "input_path": "eBay_Overview.ipynb",
   "output_path": "eBay_Overview.ipynb",
   "parameters": {},
   "start_time": "2021-11-06T19:30:04.358870",
   "version": "2.3.3"
  }
 },
 "nbformat": 4,
 "nbformat_minor": 5
}