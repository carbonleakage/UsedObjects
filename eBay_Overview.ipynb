{
 "cells": [
  {
   "cell_type": "code",
   "execution_count": 1,
   "id": "reverse-picking",
   "metadata": {
    "execution": {
     "iopub.execute_input": "2021-08-12T17:00:05.351999Z",
     "iopub.status.busy": "2021-08-12T17:00:05.351230Z",
     "iopub.status.idle": "2021-08-12T17:00:06.160574Z",
     "shell.execute_reply": "2021-08-12T17:00:06.161606Z"
    },
    "papermill": {
     "duration": 0.829301,
     "end_time": "2021-08-12T17:00:06.162108",
     "exception": false,
     "start_time": "2021-08-12T17:00:05.332807",
     "status": "completed"
    },
    "tags": []
   },
   "outputs": [],
   "source": [
    "import pandas as pd\n",
    "import sqlite3"
   ]
  },
  {
   "cell_type": "code",
   "execution_count": 2,
   "id": "innovative-syndrome",
   "metadata": {
    "execution": {
     "iopub.execute_input": "2021-08-12T17:00:06.192298Z",
     "iopub.status.busy": "2021-08-12T17:00:06.191212Z",
     "iopub.status.idle": "2021-08-12T17:00:06.407391Z",
     "shell.execute_reply": "2021-08-12T17:00:06.406769Z"
    },
    "papermill": {
     "duration": 0.234048,
     "end_time": "2021-08-12T17:00:06.407556",
     "exception": false,
     "start_time": "2021-08-12T17:00:06.173508",
     "status": "completed"
    },
    "tags": []
   },
   "outputs": [],
   "source": [
    "timestamps = pd.read_sql(\"select distinct record_time from EBAY_TOP_BERLIN order by record_time desc limit 2\", sqlite3.connect(\"UsedObjects.db\"))"
   ]
  },
  {
   "cell_type": "code",
   "execution_count": 3,
   "id": "periodic-identification",
   "metadata": {
    "execution": {
     "iopub.execute_input": "2021-08-12T17:00:06.436177Z",
     "iopub.status.busy": "2021-08-12T17:00:06.435397Z",
     "iopub.status.idle": "2021-08-12T17:00:06.448373Z",
     "shell.execute_reply": "2021-08-12T17:00:06.448909Z"
    },
    "papermill": {
     "duration": 0.03206,
     "end_time": "2021-08-12T17:00:06.449094",
     "exception": false,
     "start_time": "2021-08-12T17:00:06.417034",
     "status": "completed"
    },
    "tags": []
   },
   "outputs": [
    {
     "data": {
      "text/html": [
       "<div>\n",
       "<style scoped>\n",
       "    .dataframe tbody tr th:only-of-type {\n",
       "        vertical-align: middle;\n",
       "    }\n",
       "\n",
       "    .dataframe tbody tr th {\n",
       "        vertical-align: top;\n",
       "    }\n",
       "\n",
       "    .dataframe thead th {\n",
       "        text-align: right;\n",
       "    }\n",
       "</style>\n",
       "<table border=\"1\" class=\"dataframe\">\n",
       "  <thead>\n",
       "    <tr style=\"text-align: right;\">\n",
       "      <th></th>\n",
       "      <th>RECORD_TIME</th>\n",
       "    </tr>\n",
       "  </thead>\n",
       "  <tbody>\n",
       "    <tr>\n",
       "      <th>0</th>\n",
       "      <td>2021-08-12 19:00</td>\n",
       "    </tr>\n",
       "    <tr>\n",
       "      <th>1</th>\n",
       "      <td>2021-08-12 18:30</td>\n",
       "    </tr>\n",
       "  </tbody>\n",
       "</table>\n",
       "</div>"
      ],
      "text/plain": [
       "        RECORD_TIME\n",
       "0  2021-08-12 19:00\n",
       "1  2021-08-12 18:30"
      ]
     },
     "execution_count": 3,
     "metadata": {},
     "output_type": "execute_result"
    }
   ],
   "source": [
    "timestamps"
   ]
  },
  {
   "cell_type": "code",
   "execution_count": 4,
   "id": "alternate-victory",
   "metadata": {
    "execution": {
     "iopub.execute_input": "2021-08-12T17:00:06.470733Z",
     "iopub.status.busy": "2021-08-12T17:00:06.469968Z",
     "iopub.status.idle": "2021-08-12T17:00:06.498838Z",
     "shell.execute_reply": "2021-08-12T17:00:06.497203Z"
    },
    "papermill": {
     "duration": 0.041437,
     "end_time": "2021-08-12T17:00:06.499189",
     "exception": false,
     "start_time": "2021-08-12T17:00:06.457752",
     "status": "completed"
    },
    "tags": []
   },
   "outputs": [],
   "source": [
    "df = pd.read_sql(\"select * from EBAY_TOP_BERLIN where record_time in (select distinct record_time from EBAY_TOP_BERLIN order by record_time desc limit 2)\", sqlite3.connect(\"UsedObjects.db\"))"
   ]
  },
  {
   "cell_type": "code",
   "execution_count": 5,
   "id": "popular-active",
   "metadata": {
    "execution": {
     "iopub.execute_input": "2021-08-12T17:00:06.527531Z",
     "iopub.status.busy": "2021-08-12T17:00:06.526663Z",
     "iopub.status.idle": "2021-08-12T17:00:06.546189Z",
     "shell.execute_reply": "2021-08-12T17:00:06.544801Z"
    },
    "papermill": {
     "duration": 0.036419,
     "end_time": "2021-08-12T17:00:06.546399",
     "exception": false,
     "start_time": "2021-08-12T17:00:06.509980",
     "status": "completed"
    },
    "tags": []
   },
   "outputs": [],
   "source": [
    "df_pivot = df.pivot_table(index=\"PRODUCT\", columns = \"RECORD_TIME\", values = \"LISTING_COUNT\")"
   ]
  },
  {
   "cell_type": "code",
   "execution_count": 6,
   "id": "union-huntington",
   "metadata": {
    "execution": {
     "iopub.execute_input": "2021-08-12T17:00:06.570660Z",
     "iopub.status.busy": "2021-08-12T17:00:06.569947Z",
     "iopub.status.idle": "2021-08-12T17:00:06.576394Z",
     "shell.execute_reply": "2021-08-12T17:00:06.576970Z"
    },
    "papermill": {
     "duration": 0.02192,
     "end_time": "2021-08-12T17:00:06.577167",
     "exception": false,
     "start_time": "2021-08-12T17:00:06.555247",
     "status": "completed"
    },
    "tags": []
   },
   "outputs": [],
   "source": [
    "df_pivot.columns = [\"stamp_1\", \"stamp_2\"]\n",
    "df_pivot_diff = df_pivot.diff(axis=1)"
   ]
  },
  {
   "cell_type": "code",
   "execution_count": 7,
   "id": "fifth-motion",
   "metadata": {
    "execution": {
     "iopub.execute_input": "2021-08-12T17:00:06.607636Z",
     "iopub.status.busy": "2021-08-12T17:00:06.606869Z",
     "iopub.status.idle": "2021-08-12T17:00:07.290091Z",
     "shell.execute_reply": "2021-08-12T17:00:07.290626Z"
    },
    "papermill": {
     "duration": 0.704804,
     "end_time": "2021-08-12T17:00:07.290808",
     "exception": false,
     "start_time": "2021-08-12T17:00:06.586004",
     "status": "completed"
    },
    "tags": []
   },
   "outputs": [
    {
     "data": {
      "text/plain": [
       "<AxesSubplot:ylabel='PRODUCT'>"
      ]
     },
     "execution_count": 7,
     "metadata": {},
     "output_type": "execute_result"
    },
    {
     "data": {
      "image/png": "[encoded data removed]",
      "text/plain": [
       "<Figure size 432x288 with 1 Axes>"
      ]
     },
     "metadata": {
      "needs_background": "light"
     },
     "output_type": "display_data"
    }
   ],
   "source": [
    "df_pivot_diff.sort_values(\"stamp_2\", ascending = False)[\"stamp_2\"].head(10).plot.barh()"
   ]
  },
  {
   "cell_type": "code",
   "execution_count": null,
   "id": "extra-executive",
   "metadata": {
    "papermill": {
     "duration": 0.009845,
     "end_time": "2021-08-12T17:00:07.310501",
     "exception": false,
     "start_time": "2021-08-12T17:00:07.300656",
     "status": "completed"
    },
    "tags": []
   },
   "outputs": [],
   "source": []
  }
 ],
 "metadata": {
  "kernelspec": {
   "display_name": "Python 3",
   "language": "python",
   "name": "python3"
  },
  "language_info": {
   "codemirror_mode": {
    "name": "ipython",
    "version": 3
   },
   "file_extension": ".py",
   "mimetype": "text/x-python",
   "name": "python",
   "nbconvert_exporter": "python",
   "pygments_lexer": "ipython3",
   "version": "3.8.8"
  },
  "papermill": {
   "default_parameters": {},
   "duration": 4.394178,
   "end_time": "2021-08-12T17:00:08.009700",
   "environment_variables": {},
   "exception": null,
   "input_path": "/Users/saravananshanmugam/Carbonleakage_Git/UsedObjects/eBay_Overview.ipynb",
   "output_path": "/Users/saravananshanmugam/Carbonleakage_Git/UsedObjects/eBay_Overview.ipynb",
   "parameters": {},
   "start_time": "2021-08-12T17:00:03.615522",
   "version": "2.3.3"
  }
 },
 "nbformat": 4,
 "nbformat_minor": 5
}