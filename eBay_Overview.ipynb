{
 "cells": [
  {
   "cell_type": "code",
   "execution_count": 1,
   "id": "reverse-picking",
   "metadata": {
    "execution": {
     "iopub.execute_input": "2021-10-05T09:30:07.296495Z",
     "iopub.status.busy": "2021-10-05T09:30:07.294475Z",
     "iopub.status.idle": "2021-10-05T09:30:08.103582Z",
     "shell.execute_reply": "2021-10-05T09:30:08.101942Z"
    },
    "papermill": {
     "duration": 0.860275,
     "end_time": "2021-10-05T09:30:08.103992",
     "exception": false,
     "start_time": "2021-10-05T09:30:07.243717",
     "status": "completed"
    },
    "tags": []
   },
   "outputs": [],
   "source": [
    "import pandas as pd\n",
    "import sqlite3"
   ]
  },
  {
   "cell_type": "code",
   "execution_count": 2,
   "id": "innovative-syndrome",
   "metadata": {
    "execution": {
     "iopub.execute_input": "2021-10-05T09:30:08.156556Z",
     "iopub.status.busy": "2021-10-05T09:30:08.154293Z",
     "iopub.status.idle": "2021-10-05T09:30:08.622132Z",
     "shell.execute_reply": "2021-10-05T09:30:08.623562Z"
    },
    "papermill": {
     "duration": 0.497494,
     "end_time": "2021-10-05T09:30:08.623984",
     "exception": false,
     "start_time": "2021-10-05T09:30:08.126490",
     "status": "completed"
    },
    "tags": []
   },
   "outputs": [],
   "source": [
    "timestamps = pd.read_sql(\"select distinct record_time from EBAY_TOP_BERLIN order by record_time desc limit 2\", sqlite3.connect(\"UsedObjects.db\"))"
   ]
  },
  {
   "cell_type": "code",
   "execution_count": 3,
   "id": "periodic-identification",
   "metadata": {
    "execution": {
     "iopub.execute_input": "2021-10-05T09:30:08.692329Z",
     "iopub.status.busy": "2021-10-05T09:30:08.690245Z",
     "iopub.status.idle": "2021-10-05T09:30:08.710253Z",
     "shell.execute_reply": "2021-10-05T09:30:08.711525Z"
    },
    "papermill": {
     "duration": 0.067174,
     "end_time": "2021-10-05T09:30:08.711960",
     "exception": false,
     "start_time": "2021-10-05T09:30:08.644786",
     "status": "completed"
    },
    "tags": []
   },
   "outputs": [
    {
     "data": {
      "text/html": [
       "<div>\n",
       "<style scoped>\n",
       "    .dataframe tbody tr th:only-of-type {\n",
       "        vertical-align: middle;\n",
       "    }\n",
       "\n",
       "    .dataframe tbody tr th {\n",
       "        vertical-align: top;\n",
       "    }\n",
       "\n",
       "    .dataframe thead th {\n",
       "        text-align: right;\n",
       "    }\n",
       "</style>\n",
       "<table border=\"1\" class=\"dataframe\">\n",
       "  <thead>\n",
       "    <tr style=\"text-align: right;\">\n",
       "      <th></th>\n",
       "      <th>RECORD_TIME</th>\n",
       "    </tr>\n",
       "  </thead>\n",
       "  <tbody>\n",
       "    <tr>\n",
       "      <th>0</th>\n",
       "      <td>2021-10-05 11:30</td>\n",
       "    </tr>\n",
       "    <tr>\n",
       "      <th>1</th>\n",
       "      <td>2021-10-05 11:00</td>\n",
       "    </tr>\n",
       "  </tbody>\n",
       "</table>\n",
       "</div>"
      ],
      "text/plain": [
       "        RECORD_TIME\n",
       "0  2021-10-05 11:30\n",
       "1  2021-10-05 11:00"
      ]
     },
     "execution_count": 3,
     "metadata": {},
     "output_type": "execute_result"
    }
   ],
   "source": [
    "timestamps"
   ]
  },
  {
   "cell_type": "code",
   "execution_count": 4,
   "id": "alternate-victory",
   "metadata": {
    "execution": {
     "iopub.execute_input": "2021-10-05T09:30:08.771231Z",
     "iopub.status.busy": "2021-10-05T09:30:08.769259Z",
     "iopub.status.idle": "2021-10-05T09:30:09.440960Z",
     "shell.execute_reply": "2021-10-05T09:30:09.442163Z"
    },
    "papermill": {
     "duration": 0.70543,
     "end_time": "2021-10-05T09:30:09.442561",
     "exception": false,
     "start_time": "2021-10-05T09:30:08.737131",
     "status": "completed"
    },
    "tags": []
   },
   "outputs": [],
   "source": [
    "df = pd.read_sql(\"select * from EBAY_TOP_BERLIN where record_time in (select distinct record_time from EBAY_TOP_BERLIN order by record_time desc limit 2)\", sqlite3.connect(\"UsedObjects.db\"))"
   ]
  },
  {
   "cell_type": "code",
   "execution_count": 5,
   "id": "popular-active",
   "metadata": {
    "execution": {
     "iopub.execute_input": "2021-10-05T09:30:09.514778Z",
     "iopub.status.busy": "2021-10-05T09:30:09.502337Z",
     "iopub.status.idle": "2021-10-05T09:30:09.530387Z",
     "shell.execute_reply": "2021-10-05T09:30:09.531678Z"
    },
    "papermill": {
     "duration": 0.068629,
     "end_time": "2021-10-05T09:30:09.532082",
     "exception": false,
     "start_time": "2021-10-05T09:30:09.463453",
     "status": "completed"
    },
    "tags": []
   },
   "outputs": [],
   "source": [
    "df_pivot = df.pivot_table(index=\"PRODUCT\", columns = \"RECORD_TIME\", values = \"LISTING_COUNT\")"
   ]
  },
  {
   "cell_type": "code",
   "execution_count": 6,
   "id": "union-huntington",
   "metadata": {
    "execution": {
     "iopub.execute_input": "2021-10-05T09:30:09.590349Z",
     "iopub.status.busy": "2021-10-05T09:30:09.588076Z",
     "iopub.status.idle": "2021-10-05T09:30:09.593695Z",
     "shell.execute_reply": "2021-10-05T09:30:09.594950Z"
    },
    "papermill": {
     "duration": 0.041731,
     "end_time": "2021-10-05T09:30:09.595393",
     "exception": false,
     "start_time": "2021-10-05T09:30:09.553662",
     "status": "completed"
    },
    "tags": []
   },
   "outputs": [],
   "source": [
    "df_pivot.columns = [\"stamp_1\", \"stamp_2\"]\n",
    "df_pivot_diff = df_pivot.diff(axis=1)"
   ]
  },
  {
   "cell_type": "code",
   "execution_count": 7,
   "id": "fifth-motion",
   "metadata": {
    "execution": {
     "iopub.execute_input": "2021-10-05T09:30:09.649596Z",
     "iopub.status.busy": "2021-10-05T09:30:09.647337Z",
     "iopub.status.idle": "2021-10-05T09:30:11.119799Z",
     "shell.execute_reply": "2021-10-05T09:30:11.121094Z"
    },
    "papermill": {
     "duration": 1.5059,
     "end_time": "2021-10-05T09:30:11.121514",
     "exception": false,
     "start_time": "2021-10-05T09:30:09.615614",
     "status": "completed"
    },
    "tags": []
   },
   "outputs": [
    {
     "data": {
      "text/plain": [
       "<AxesSubplot:ylabel='PRODUCT'>"
      ]
     },
     "execution_count": 7,
     "metadata": {},
     "output_type": "execute_result"
    },
    {
     "data": {
      "image/png": "[encoded data removed]",
      "text/plain": [
       "<Figure size 432x288 with 1 Axes>"
      ]
     },
     "metadata": {
      "needs_background": "light"
     },
     "output_type": "display_data"
    }
   ],
   "source": [
    "df_pivot_diff.sort_values(\"stamp_2\", ascending = False)[\"stamp_2\"].head(10).plot.barh()"
   ]
  },
  {
   "cell_type": "code",
   "execution_count": null,
   "id": "extra-executive",
   "metadata": {
    "papermill": {
     "duration": 0.022298,
     "end_time": "2021-10-05T09:30:11.168739",
     "exception": false,
     "start_time": "2021-10-05T09:30:11.146441",
     "status": "completed"
    },
    "tags": []
   },
   "outputs": [],
   "source": []
  }
 ],
 "metadata": {
  "kernelspec": {
   "display_name": "Python 3",
   "language": "python",
   "name": "python3"
  },
  "language_info": {
   "codemirror_mode": {
    "name": "ipython",
    "version": 3
   },
   "file_extension": ".py",
   "mimetype": "text/x-python",
   "name": "python",
   "nbconvert_exporter": "python",
   "pygments_lexer": "ipython3",
   "version": "3.9.5"
  },
  "papermill": {
   "default_parameters": {},
   "duration": 7.830982,
   "end_time": "2021-10-05T09:30:12.666321",
   "environment_variables": {},
   "exception": null,
   "input_path": "eBay_Overview.ipynb",
   "output_path": "eBay_Overview.ipynb",
   "parameters": {},
   "start_time": "2021-10-05T09:30:04.835339",
   "version": "2.3.3"
  }
 },
 "nbformat": 4,
 "nbformat_minor": 5
}