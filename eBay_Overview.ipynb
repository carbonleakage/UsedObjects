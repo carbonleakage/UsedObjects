{
 "cells": [
  {
   "cell_type": "code",
   "execution_count": 1,
   "id": "reverse-picking",
   "metadata": {
    "execution": {
     "iopub.execute_input": "2021-10-28T02:30:07.530190Z",
     "iopub.status.busy": "2021-10-28T02:30:07.528131Z",
     "iopub.status.idle": "2021-10-28T02:30:08.330676Z",
     "shell.execute_reply": "2021-10-28T02:30:08.331928Z"
    },
    "papermill": {
     "duration": 0.852532,
     "end_time": "2021-10-28T02:30:08.332547",
     "exception": false,
     "start_time": "2021-10-28T02:30:07.480015",
     "status": "completed"
    },
    "tags": []
   },
   "outputs": [],
   "source": [
    "import pandas as pd\n",
    "import sqlite3"
   ]
  },
  {
   "cell_type": "code",
   "execution_count": 2,
   "id": "innovative-syndrome",
   "metadata": {
    "execution": {
     "iopub.execute_input": "2021-10-28T02:30:08.384342Z",
     "iopub.status.busy": "2021-10-28T02:30:08.382479Z",
     "iopub.status.idle": "2021-10-28T02:30:09.024193Z",
     "shell.execute_reply": "2021-10-28T02:30:09.025513Z"
    },
    "papermill": {
     "duration": 0.671553,
     "end_time": "2021-10-28T02:30:09.025941",
     "exception": false,
     "start_time": "2021-10-28T02:30:08.354388",
     "status": "completed"
    },
    "tags": []
   },
   "outputs": [],
   "source": [
    "timestamps = pd.read_sql(\"select distinct record_time from EBAY_TOP_BERLIN order by record_time desc limit 2\", sqlite3.connect(\"UsedObjects.db\"))"
   ]
  },
  {
   "cell_type": "code",
   "execution_count": 3,
   "id": "periodic-identification",
   "metadata": {
    "execution": {
     "iopub.execute_input": "2021-10-28T02:30:09.102686Z",
     "iopub.status.busy": "2021-10-28T02:30:09.100588Z",
     "iopub.status.idle": "2021-10-28T02:30:09.120332Z",
     "shell.execute_reply": "2021-10-28T02:30:09.121614Z"
    },
    "papermill": {
     "duration": 0.070628,
     "end_time": "2021-10-28T02:30:09.122051",
     "exception": false,
     "start_time": "2021-10-28T02:30:09.051423",
     "status": "completed"
    },
    "tags": []
   },
   "outputs": [
    {
     "data": {
      "text/html": [
       "<div>\n",
       "<style scoped>\n",
       "    .dataframe tbody tr th:only-of-type {\n",
       "        vertical-align: middle;\n",
       "    }\n",
       "\n",
       "    .dataframe tbody tr th {\n",
       "        vertical-align: top;\n",
       "    }\n",
       "\n",
       "    .dataframe thead th {\n",
       "        text-align: right;\n",
       "    }\n",
       "</style>\n",
       "<table border=\"1\" class=\"dataframe\">\n",
       "  <thead>\n",
       "    <tr style=\"text-align: right;\">\n",
       "      <th></th>\n",
       "      <th>RECORD_TIME</th>\n",
       "    </tr>\n",
       "  </thead>\n",
       "  <tbody>\n",
       "    <tr>\n",
       "      <th>0</th>\n",
       "      <td>2021-10-28 04:30</td>\n",
       "    </tr>\n",
       "    <tr>\n",
       "      <th>1</th>\n",
       "      <td>2021-10-28 04:00</td>\n",
       "    </tr>\n",
       "  </tbody>\n",
       "</table>\n",
       "</div>"
      ],
      "text/plain": [
       "        RECORD_TIME\n",
       "0  2021-10-28 04:30\n",
       "1  2021-10-28 04:00"
      ]
     },
     "execution_count": 3,
     "metadata": {},
     "output_type": "execute_result"
    }
   ],
   "source": [
    "timestamps"
   ]
  },
  {
   "cell_type": "code",
   "execution_count": 4,
   "id": "alternate-victory",
   "metadata": {
    "execution": {
     "iopub.execute_input": "2021-10-28T02:30:09.173901Z",
     "iopub.status.busy": "2021-10-28T02:30:09.171965Z",
     "iopub.status.idle": "2021-10-28T02:30:10.102904Z",
     "shell.execute_reply": "2021-10-28T02:30:10.104107Z"
    },
    "papermill": {
     "duration": 0.961201,
     "end_time": "2021-10-28T02:30:10.104504",
     "exception": false,
     "start_time": "2021-10-28T02:30:09.143303",
     "status": "completed"
    },
    "tags": []
   },
   "outputs": [],
   "source": [
    "df = pd.read_sql(\"select * from EBAY_TOP_BERLIN where record_time in (select distinct record_time from EBAY_TOP_BERLIN order by record_time desc limit 2)\", sqlite3.connect(\"UsedObjects.db\"))"
   ]
  },
  {
   "cell_type": "code",
   "execution_count": 5,
   "id": "popular-active",
   "metadata": {
    "execution": {
     "iopub.execute_input": "2021-10-28T02:30:10.177083Z",
     "iopub.status.busy": "2021-10-28T02:30:10.164654Z",
     "iopub.status.idle": "2021-10-28T02:30:10.192891Z",
     "shell.execute_reply": "2021-10-28T02:30:10.194189Z"
    },
    "papermill": {
     "duration": 0.067675,
     "end_time": "2021-10-28T02:30:10.194602",
     "exception": false,
     "start_time": "2021-10-28T02:30:10.126927",
     "status": "completed"
    },
    "tags": []
   },
   "outputs": [],
   "source": [
    "df_pivot = df.pivot_table(index=\"PRODUCT\", columns = \"RECORD_TIME\", values = \"LISTING_COUNT\")"
   ]
  },
  {
   "cell_type": "code",
   "execution_count": 6,
   "id": "union-huntington",
   "metadata": {
    "execution": {
     "iopub.execute_input": "2021-10-28T02:30:10.252113Z",
     "iopub.status.busy": "2021-10-28T02:30:10.249838Z",
     "iopub.status.idle": "2021-10-28T02:30:10.255509Z",
     "shell.execute_reply": "2021-10-28T02:30:10.257082Z"
    },
    "papermill": {
     "duration": 0.04152,
     "end_time": "2021-10-28T02:30:10.257586",
     "exception": false,
     "start_time": "2021-10-28T02:30:10.216066",
     "status": "completed"
    },
    "tags": []
   },
   "outputs": [],
   "source": [
    "df_pivot.columns = [\"stamp_1\", \"stamp_2\"]\n",
    "df_pivot_diff = df_pivot.diff(axis=1)"
   ]
  },
  {
   "cell_type": "code",
   "execution_count": 7,
   "id": "fifth-motion",
   "metadata": {
    "execution": {
     "iopub.execute_input": "2021-10-28T02:30:10.312823Z",
     "iopub.status.busy": "2021-10-28T02:30:10.310328Z",
     "iopub.status.idle": "2021-10-28T02:30:11.813887Z",
     "shell.execute_reply": "2021-10-28T02:30:11.815261Z"
    },
    "papermill": {
     "duration": 1.536662,
     "end_time": "2021-10-28T02:30:11.815700",
     "exception": false,
     "start_time": "2021-10-28T02:30:10.279038",
     "status": "completed"
    },
    "tags": []
   },
   "outputs": [
    {
     "data": {
      "text/plain": [
       "<AxesSubplot:ylabel='PRODUCT'>"
      ]
     },
     "execution_count": 7,
     "metadata": {},
     "output_type": "execute_result"
    },
    {
     "data": {
      "image/png": "[encoded data removed]",
      "text/plain": [
       "<Figure size 432x288 with 1 Axes>"
      ]
     },
     "metadata": {
      "needs_background": "light"
     },
     "output_type": "display_data"
    }
   ],
   "source": [
    "df_pivot_diff.sort_values(\"stamp_2\", ascending = False)[\"stamp_2\"].head(10).plot.barh()"
   ]
  },
  {
   "cell_type": "code",
   "execution_count": null,
   "id": "extra-executive",
   "metadata": {
    "papermill": {
     "duration": 0.022401,
     "end_time": "2021-10-28T02:30:11.861919",
     "exception": false,
     "start_time": "2021-10-28T02:30:11.839518",
     "status": "completed"
    },
    "tags": []
   },
   "outputs": [],
   "source": []
  }
 ],
 "metadata": {
  "kernelspec": {
   "display_name": "Python 3",
   "language": "python",
   "name": "python3"
  },
  "language_info": {
   "codemirror_mode": {
    "name": "ipython",
    "version": 3
   },
   "file_extension": ".py",
   "mimetype": "text/x-python",
   "name": "python",
   "nbconvert_exporter": "python",
   "pygments_lexer": "ipython3",
   "version": "3.9.5"
  },
  "papermill": {
   "default_parameters": {},
   "duration": 7.433278,
   "end_time": "2021-10-28T02:30:12.505544",
   "environment_variables": {},
   "exception": null,
   "input_path": "eBay_Overview.ipynb",
   "output_path": "eBay_Overview.ipynb",
   "parameters": {},
   "start_time": "2021-10-28T02:30:05.072266",
   "version": "2.3.3"
  }
 },
 "nbformat": 4,
 "nbformat_minor": 5
}