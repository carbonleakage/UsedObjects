{
 "cells": [
  {
   "cell_type": "code",
   "execution_count": 1,
   "id": "reverse-picking",
   "metadata": {
    "execution": {
     "iopub.execute_input": "2021-10-24T04:00:06.611034Z",
     "iopub.status.busy": "2021-10-24T04:00:06.609130Z",
     "iopub.status.idle": "2021-10-24T04:00:07.413164Z",
     "shell.execute_reply": "2021-10-24T04:00:07.414427Z"
    },
    "papermill": {
     "duration": 0.856639,
     "end_time": "2021-10-24T04:00:07.415053",
     "exception": false,
     "start_time": "2021-10-24T04:00:06.558414",
     "status": "completed"
    },
    "tags": []
   },
   "outputs": [],
   "source": [
    "import pandas as pd\n",
    "import sqlite3"
   ]
  },
  {
   "cell_type": "code",
   "execution_count": 2,
   "id": "innovative-syndrome",
   "metadata": {
    "execution": {
     "iopub.execute_input": "2021-10-24T04:00:07.466606Z",
     "iopub.status.busy": "2021-10-24T04:00:07.464666Z",
     "iopub.status.idle": "2021-10-24T04:00:08.089319Z",
     "shell.execute_reply": "2021-10-24T04:00:08.090534Z"
    },
    "papermill": {
     "duration": 0.654195,
     "end_time": "2021-10-24T04:00:08.090936",
     "exception": false,
     "start_time": "2021-10-24T04:00:07.436741",
     "status": "completed"
    },
    "tags": []
   },
   "outputs": [],
   "source": [
    "timestamps = pd.read_sql(\"select distinct record_time from EBAY_TOP_BERLIN order by record_time desc limit 2\", sqlite3.connect(\"UsedObjects.db\"))"
   ]
  },
  {
   "cell_type": "code",
   "execution_count": 3,
   "id": "periodic-identification",
   "metadata": {
    "execution": {
     "iopub.execute_input": "2021-10-24T04:00:08.169045Z",
     "iopub.status.busy": "2021-10-24T04:00:08.166968Z",
     "iopub.status.idle": "2021-10-24T04:00:08.188649Z",
     "shell.execute_reply": "2021-10-24T04:00:08.187082Z"
    },
    "papermill": {
     "duration": 0.069795,
     "end_time": "2021-10-24T04:00:08.189101",
     "exception": false,
     "start_time": "2021-10-24T04:00:08.119306",
     "status": "completed"
    },
    "tags": []
   },
   "outputs": [
    {
     "data": {
      "text/html": [
       "<div>\n",
       "<style scoped>\n",
       "    .dataframe tbody tr th:only-of-type {\n",
       "        vertical-align: middle;\n",
       "    }\n",
       "\n",
       "    .dataframe tbody tr th {\n",
       "        vertical-align: top;\n",
       "    }\n",
       "\n",
       "    .dataframe thead th {\n",
       "        text-align: right;\n",
       "    }\n",
       "</style>\n",
       "<table border=\"1\" class=\"dataframe\">\n",
       "  <thead>\n",
       "    <tr style=\"text-align: right;\">\n",
       "      <th></th>\n",
       "      <th>RECORD_TIME</th>\n",
       "    </tr>\n",
       "  </thead>\n",
       "  <tbody>\n",
       "    <tr>\n",
       "      <th>0</th>\n",
       "      <td>2021-10-24 06:00</td>\n",
       "    </tr>\n",
       "    <tr>\n",
       "      <th>1</th>\n",
       "      <td>2021-10-24 05:30</td>\n",
       "    </tr>\n",
       "  </tbody>\n",
       "</table>\n",
       "</div>"
      ],
      "text/plain": [
       "        RECORD_TIME\n",
       "0  2021-10-24 06:00\n",
       "1  2021-10-24 05:30"
      ]
     },
     "execution_count": 3,
     "metadata": {},
     "output_type": "execute_result"
    }
   ],
   "source": [
    "timestamps"
   ]
  },
  {
   "cell_type": "code",
   "execution_count": 4,
   "id": "alternate-victory",
   "metadata": {
    "execution": {
     "iopub.execute_input": "2021-10-24T04:00:08.241285Z",
     "iopub.status.busy": "2021-10-24T04:00:08.239345Z",
     "iopub.status.idle": "2021-10-24T04:00:09.155267Z",
     "shell.execute_reply": "2021-10-24T04:00:09.156535Z"
    },
    "papermill": {
     "duration": 0.94603,
     "end_time": "2021-10-24T04:00:09.157027",
     "exception": false,
     "start_time": "2021-10-24T04:00:08.210997",
     "status": "completed"
    },
    "tags": []
   },
   "outputs": [],
   "source": [
    "df = pd.read_sql(\"select * from EBAY_TOP_BERLIN where record_time in (select distinct record_time from EBAY_TOP_BERLIN order by record_time desc limit 2)\", sqlite3.connect(\"UsedObjects.db\"))"
   ]
  },
  {
   "cell_type": "code",
   "execution_count": 5,
   "id": "popular-active",
   "metadata": {
    "execution": {
     "iopub.execute_input": "2021-10-24T04:00:09.225952Z",
     "iopub.status.busy": "2021-10-24T04:00:09.215102Z",
     "iopub.status.idle": "2021-10-24T04:00:09.242408Z",
     "shell.execute_reply": "2021-10-24T04:00:09.243601Z"
    },
    "papermill": {
     "duration": 0.066369,
     "end_time": "2021-10-24T04:00:09.244000",
     "exception": false,
     "start_time": "2021-10-24T04:00:09.177631",
     "status": "completed"
    },
    "tags": []
   },
   "outputs": [],
   "source": [
    "df_pivot = df.pivot_table(index=\"PRODUCT\", columns = \"RECORD_TIME\", values = \"LISTING_COUNT\")"
   ]
  },
  {
   "cell_type": "code",
   "execution_count": 6,
   "id": "union-huntington",
   "metadata": {
    "execution": {
     "iopub.execute_input": "2021-10-24T04:00:09.301060Z",
     "iopub.status.busy": "2021-10-24T04:00:09.298748Z",
     "iopub.status.idle": "2021-10-24T04:00:09.304577Z",
     "shell.execute_reply": "2021-10-24T04:00:09.305851Z"
    },
    "papermill": {
     "duration": 0.041931,
     "end_time": "2021-10-24T04:00:09.306288",
     "exception": false,
     "start_time": "2021-10-24T04:00:09.264357",
     "status": "completed"
    },
    "tags": []
   },
   "outputs": [],
   "source": [
    "df_pivot.columns = [\"stamp_1\", \"stamp_2\"]\n",
    "df_pivot_diff = df_pivot.diff(axis=1)"
   ]
  },
  {
   "cell_type": "code",
   "execution_count": 7,
   "id": "fifth-motion",
   "metadata": {
    "execution": {
     "iopub.execute_input": "2021-10-24T04:00:09.360630Z",
     "iopub.status.busy": "2021-10-24T04:00:09.358380Z",
     "iopub.status.idle": "2021-10-24T04:00:10.812010Z",
     "shell.execute_reply": "2021-10-24T04:00:10.813501Z"
    },
    "papermill": {
     "duration": 1.486747,
     "end_time": "2021-10-24T04:00:10.813971",
     "exception": false,
     "start_time": "2021-10-24T04:00:09.327224",
     "status": "completed"
    },
    "tags": []
   },
   "outputs": [
    {
     "data": {
      "text/plain": [
       "<AxesSubplot:ylabel='PRODUCT'>"
      ]
     },
     "execution_count": 7,
     "metadata": {},
     "output_type": "execute_result"
    },
    {
     "data": {
      "image/png": "[encoded data removed]",
      "text/plain": [
       "<Figure size 432x288 with 1 Axes>"
      ]
     },
     "metadata": {
      "needs_background": "light"
     },
     "output_type": "display_data"
    }
   ],
   "source": [
    "df_pivot_diff.sort_values(\"stamp_2\", ascending = False)[\"stamp_2\"].head(10).plot.barh()"
   ]
  },
  {
   "cell_type": "code",
   "execution_count": null,
   "id": "extra-executive",
   "metadata": {
    "papermill": {
     "duration": 0.022236,
     "end_time": "2021-10-24T04:00:10.861113",
     "exception": false,
     "start_time": "2021-10-24T04:00:10.838877",
     "status": "completed"
    },
    "tags": []
   },
   "outputs": [],
   "source": []
  }
 ],
 "metadata": {
  "kernelspec": {
   "display_name": "Python 3",
   "language": "python",
   "name": "python3"
  },
  "language_info": {
   "codemirror_mode": {
    "name": "ipython",
    "version": 3
   },
   "file_extension": ".py",
   "mimetype": "text/x-python",
   "name": "python",
   "nbconvert_exporter": "python",
   "pygments_lexer": "ipython3",
   "version": "3.9.5"
  },
  "papermill": {
   "default_parameters": {},
   "duration": 7.353813,
   "end_time": "2021-10-24T04:00:11.505861",
   "environment_variables": {},
   "exception": null,
   "input_path": "eBay_Overview.ipynb",
   "output_path": "eBay_Overview.ipynb",
   "parameters": {},
   "start_time": "2021-10-24T04:00:04.152048",
   "version": "2.3.3"
  }
 },
 "nbformat": 4,
 "nbformat_minor": 5
}