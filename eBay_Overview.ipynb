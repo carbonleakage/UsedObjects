{
 "cells": [
  {
   "cell_type": "code",
   "execution_count": 1,
   "id": "reverse-picking",
   "metadata": {
    "execution": {
     "iopub.execute_input": "2021-10-29T05:00:06.887021Z",
     "iopub.status.busy": "2021-10-29T05:00:06.885000Z",
     "iopub.status.idle": "2021-10-29T05:00:07.689346Z",
     "shell.execute_reply": "2021-10-29T05:00:07.690666Z"
    },
    "papermill": {
     "duration": 0.854805,
     "end_time": "2021-10-29T05:00:07.691288",
     "exception": false,
     "start_time": "2021-10-29T05:00:06.836483",
     "status": "completed"
    },
    "tags": []
   },
   "outputs": [],
   "source": [
    "import pandas as pd\n",
    "import sqlite3"
   ]
  },
  {
   "cell_type": "code",
   "execution_count": 2,
   "id": "innovative-syndrome",
   "metadata": {
    "execution": {
     "iopub.execute_input": "2021-10-29T05:00:07.740925Z",
     "iopub.status.busy": "2021-10-29T05:00:07.738998Z",
     "iopub.status.idle": "2021-10-29T05:00:08.411996Z",
     "shell.execute_reply": "2021-10-29T05:00:08.413417Z"
    },
    "papermill": {
     "duration": 0.702598,
     "end_time": "2021-10-29T05:00:08.413833",
     "exception": false,
     "start_time": "2021-10-29T05:00:07.711235",
     "status": "completed"
    },
    "tags": []
   },
   "outputs": [],
   "source": [
    "timestamps = pd.read_sql(\"select distinct record_time from EBAY_TOP_BERLIN order by record_time desc limit 2\", sqlite3.connect(\"UsedObjects.db\"))"
   ]
  },
  {
   "cell_type": "code",
   "execution_count": 3,
   "id": "periodic-identification",
   "metadata": {
    "execution": {
     "iopub.execute_input": "2021-10-29T05:00:08.548988Z",
     "iopub.status.busy": "2021-10-29T05:00:08.546921Z",
     "iopub.status.idle": "2021-10-29T05:00:08.568948Z",
     "shell.execute_reply": "2021-10-29T05:00:08.567258Z"
    },
    "papermill": {
     "duration": 0.072417,
     "end_time": "2021-10-29T05:00:08.569388",
     "exception": false,
     "start_time": "2021-10-29T05:00:08.496971",
     "status": "completed"
    },
    "tags": []
   },
   "outputs": [
    {
     "data": {
      "text/html": [
       "<div>\n",
       "<style scoped>\n",
       "    .dataframe tbody tr th:only-of-type {\n",
       "        vertical-align: middle;\n",
       "    }\n",
       "\n",
       "    .dataframe tbody tr th {\n",
       "        vertical-align: top;\n",
       "    }\n",
       "\n",
       "    .dataframe thead th {\n",
       "        text-align: right;\n",
       "    }\n",
       "</style>\n",
       "<table border=\"1\" class=\"dataframe\">\n",
       "  <thead>\n",
       "    <tr style=\"text-align: right;\">\n",
       "      <th></th>\n",
       "      <th>RECORD_TIME</th>\n",
       "    </tr>\n",
       "  </thead>\n",
       "  <tbody>\n",
       "    <tr>\n",
       "      <th>0</th>\n",
       "      <td>2021-10-29 07:00</td>\n",
       "    </tr>\n",
       "    <tr>\n",
       "      <th>1</th>\n",
       "      <td>2021-10-29 06:30</td>\n",
       "    </tr>\n",
       "  </tbody>\n",
       "</table>\n",
       "</div>"
      ],
      "text/plain": [
       "        RECORD_TIME\n",
       "0  2021-10-29 07:00\n",
       "1  2021-10-29 06:30"
      ]
     },
     "execution_count": 3,
     "metadata": {},
     "output_type": "execute_result"
    }
   ],
   "source": [
    "timestamps"
   ]
  },
  {
   "cell_type": "code",
   "execution_count": 4,
   "id": "alternate-victory",
   "metadata": {
    "execution": {
     "iopub.execute_input": "2021-10-29T05:00:08.620180Z",
     "iopub.status.busy": "2021-10-29T05:00:08.618363Z",
     "iopub.status.idle": "2021-10-29T05:00:09.588784Z",
     "shell.execute_reply": "2021-10-29T05:00:09.590170Z"
    },
    "papermill": {
     "duration": 1.000394,
     "end_time": "2021-10-29T05:00:09.590591",
     "exception": false,
     "start_time": "2021-10-29T05:00:08.590197",
     "status": "completed"
    },
    "tags": []
   },
   "outputs": [],
   "source": [
    "df = pd.read_sql(\"select * from EBAY_TOP_BERLIN where record_time in (select distinct record_time from EBAY_TOP_BERLIN order by record_time desc limit 2)\", sqlite3.connect(\"UsedObjects.db\"))"
   ]
  },
  {
   "cell_type": "code",
   "execution_count": 5,
   "id": "popular-active",
   "metadata": {
    "execution": {
     "iopub.execute_input": "2021-10-29T05:00:09.661411Z",
     "iopub.status.busy": "2021-10-29T05:00:09.648559Z",
     "iopub.status.idle": "2021-10-29T05:00:09.677130Z",
     "shell.execute_reply": "2021-10-29T05:00:09.678361Z"
    },
    "papermill": {
     "duration": 0.067642,
     "end_time": "2021-10-29T05:00:09.678748",
     "exception": false,
     "start_time": "2021-10-29T05:00:09.611106",
     "status": "completed"
    },
    "tags": []
   },
   "outputs": [],
   "source": [
    "df_pivot = df.pivot_table(index=\"PRODUCT\", columns = \"RECORD_TIME\", values = \"LISTING_COUNT\")"
   ]
  },
  {
   "cell_type": "code",
   "execution_count": 6,
   "id": "union-huntington",
   "metadata": {
    "execution": {
     "iopub.execute_input": "2021-10-29T05:00:09.734104Z",
     "iopub.status.busy": "2021-10-29T05:00:09.732069Z",
     "iopub.status.idle": "2021-10-29T05:00:09.736959Z",
     "shell.execute_reply": "2021-10-29T05:00:09.738183Z"
    },
    "papermill": {
     "duration": 0.039199,
     "end_time": "2021-10-29T05:00:09.738577",
     "exception": false,
     "start_time": "2021-10-29T05:00:09.699378",
     "status": "completed"
    },
    "tags": []
   },
   "outputs": [],
   "source": [
    "df_pivot.columns = [\"stamp_1\", \"stamp_2\"]\n",
    "df_pivot_diff = df_pivot.diff(axis=1)"
   ]
  },
  {
   "cell_type": "code",
   "execution_count": 7,
   "id": "fifth-motion",
   "metadata": {
    "execution": {
     "iopub.execute_input": "2021-10-29T05:00:09.792339Z",
     "iopub.status.busy": "2021-10-29T05:00:09.789990Z",
     "iopub.status.idle": "2021-10-29T05:00:11.308668Z",
     "shell.execute_reply": "2021-10-29T05:00:11.310094Z"
    },
    "papermill": {
     "duration": 1.551724,
     "end_time": "2021-10-29T05:00:11.310529",
     "exception": false,
     "start_time": "2021-10-29T05:00:09.758805",
     "status": "completed"
    },
    "tags": []
   },
   "outputs": [
    {
     "data": {
      "text/plain": [
       "<AxesSubplot:ylabel='PRODUCT'>"
      ]
     },
     "execution_count": 7,
     "metadata": {},
     "output_type": "execute_result"
    },
    {
     "data": {
      "image/png": "[encoded data removed]",
      "text/plain": [
       "<Figure size 432x288 with 1 Axes>"
      ]
     },
     "metadata": {
      "needs_background": "light"
     },
     "output_type": "display_data"
    }
   ],
   "source": [
    "df_pivot_diff.sort_values(\"stamp_2\", ascending = False)[\"stamp_2\"].head(10).plot.barh()"
   ]
  },
  {
   "cell_type": "code",
   "execution_count": null,
   "id": "extra-executive",
   "metadata": {
    "papermill": {
     "duration": 0.021993,
     "end_time": "2021-10-29T05:00:11.356300",
     "exception": false,
     "start_time": "2021-10-29T05:00:11.334307",
     "status": "completed"
    },
    "tags": []
   },
   "outputs": [],
   "source": []
  }
 ],
 "metadata": {
  "kernelspec": {
   "display_name": "Python 3",
   "language": "python",
   "name": "python3"
  },
  "language_info": {
   "codemirror_mode": {
    "name": "ipython",
    "version": 3
   },
   "file_extension": ".py",
   "mimetype": "text/x-python",
   "name": "python",
   "nbconvert_exporter": "python",
   "pygments_lexer": "ipython3",
   "version": "3.9.5"
  },
  "papermill": {
   "default_parameters": {},
   "duration": 7.568818,
   "end_time": "2021-10-29T05:00:11.998952",
   "environment_variables": {},
   "exception": null,
   "input_path": "eBay_Overview.ipynb",
   "output_path": "eBay_Overview.ipynb",
   "parameters": {},
   "start_time": "2021-10-29T05:00:04.430134",
   "version": "2.3.3"
  }
 },
 "nbformat": 4,
 "nbformat_minor": 5
}