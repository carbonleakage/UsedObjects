{
 "cells": [
  {
   "cell_type": "code",
   "execution_count": 1,
   "id": "reverse-picking",
   "metadata": {
    "execution": {
     "iopub.execute_input": "2021-10-20T16:30:06.616886Z",
     "iopub.status.busy": "2021-10-20T16:30:06.614790Z",
     "iopub.status.idle": "2021-10-20T16:30:07.423899Z",
     "shell.execute_reply": "2021-10-20T16:30:07.425309Z"
    },
    "papermill": {
     "duration": 0.863465,
     "end_time": "2021-10-20T16:30:07.425938",
     "exception": false,
     "start_time": "2021-10-20T16:30:06.562473",
     "status": "completed"
    },
    "tags": []
   },
   "outputs": [],
   "source": [
    "import pandas as pd\n",
    "import sqlite3"
   ]
  },
  {
   "cell_type": "code",
   "execution_count": 2,
   "id": "innovative-syndrome",
   "metadata": {
    "execution": {
     "iopub.execute_input": "2021-10-20T16:30:07.476607Z",
     "iopub.status.busy": "2021-10-20T16:30:07.474719Z",
     "iopub.status.idle": "2021-10-20T16:30:08.074849Z",
     "shell.execute_reply": "2021-10-20T16:30:08.076061Z"
    },
    "papermill": {
     "duration": 0.629815,
     "end_time": "2021-10-20T16:30:08.076457",
     "exception": false,
     "start_time": "2021-10-20T16:30:07.446642",
     "status": "completed"
    },
    "tags": []
   },
   "outputs": [],
   "source": [
    "timestamps = pd.read_sql(\"select distinct record_time from EBAY_TOP_BERLIN order by record_time desc limit 2\", sqlite3.connect(\"UsedObjects.db\"))"
   ]
  },
  {
   "cell_type": "code",
   "execution_count": 3,
   "id": "periodic-identification",
   "metadata": {
    "execution": {
     "iopub.execute_input": "2021-10-20T16:30:08.150029Z",
     "iopub.status.busy": "2021-10-20T16:30:08.147769Z",
     "iopub.status.idle": "2021-10-20T16:30:08.168210Z",
     "shell.execute_reply": "2021-10-20T16:30:08.169523Z"
    },
    "papermill": {
     "duration": 0.068395,
     "end_time": "2021-10-20T16:30:08.169930",
     "exception": false,
     "start_time": "2021-10-20T16:30:08.101535",
     "status": "completed"
    },
    "tags": []
   },
   "outputs": [
    {
     "data": {
      "text/html": [
       "<div>\n",
       "<style scoped>\n",
       "    .dataframe tbody tr th:only-of-type {\n",
       "        vertical-align: middle;\n",
       "    }\n",
       "\n",
       "    .dataframe tbody tr th {\n",
       "        vertical-align: top;\n",
       "    }\n",
       "\n",
       "    .dataframe thead th {\n",
       "        text-align: right;\n",
       "    }\n",
       "</style>\n",
       "<table border=\"1\" class=\"dataframe\">\n",
       "  <thead>\n",
       "    <tr style=\"text-align: right;\">\n",
       "      <th></th>\n",
       "      <th>RECORD_TIME</th>\n",
       "    </tr>\n",
       "  </thead>\n",
       "  <tbody>\n",
       "    <tr>\n",
       "      <th>0</th>\n",
       "      <td>2021-10-20 18:30</td>\n",
       "    </tr>\n",
       "    <tr>\n",
       "      <th>1</th>\n",
       "      <td>2021-10-20 18:00</td>\n",
       "    </tr>\n",
       "  </tbody>\n",
       "</table>\n",
       "</div>"
      ],
      "text/plain": [
       "        RECORD_TIME\n",
       "0  2021-10-20 18:30\n",
       "1  2021-10-20 18:00"
      ]
     },
     "execution_count": 3,
     "metadata": {},
     "output_type": "execute_result"
    }
   ],
   "source": [
    "timestamps"
   ]
  },
  {
   "cell_type": "code",
   "execution_count": 4,
   "id": "alternate-victory",
   "metadata": {
    "execution": {
     "iopub.execute_input": "2021-10-20T16:30:08.221792Z",
     "iopub.status.busy": "2021-10-20T16:30:08.219695Z",
     "iopub.status.idle": "2021-10-20T16:30:09.088111Z",
     "shell.execute_reply": "2021-10-20T16:30:09.089500Z"
    },
    "papermill": {
     "duration": 0.898389,
     "end_time": "2021-10-20T16:30:09.089924",
     "exception": false,
     "start_time": "2021-10-20T16:30:08.191535",
     "status": "completed"
    },
    "tags": []
   },
   "outputs": [],
   "source": [
    "df = pd.read_sql(\"select * from EBAY_TOP_BERLIN where record_time in (select distinct record_time from EBAY_TOP_BERLIN order by record_time desc limit 2)\", sqlite3.connect(\"UsedObjects.db\"))"
   ]
  },
  {
   "cell_type": "code",
   "execution_count": 5,
   "id": "popular-active",
   "metadata": {
    "execution": {
     "iopub.execute_input": "2021-10-20T16:30:09.160547Z",
     "iopub.status.busy": "2021-10-20T16:30:09.149378Z",
     "iopub.status.idle": "2021-10-20T16:30:09.176200Z",
     "shell.execute_reply": "2021-10-20T16:30:09.177567Z"
    },
    "papermill": {
     "duration": 0.067288,
     "end_time": "2021-10-20T16:30:09.177987",
     "exception": false,
     "start_time": "2021-10-20T16:30:09.110699",
     "status": "completed"
    },
    "tags": []
   },
   "outputs": [],
   "source": [
    "df_pivot = df.pivot_table(index=\"PRODUCT\", columns = \"RECORD_TIME\", values = \"LISTING_COUNT\")"
   ]
  },
  {
   "cell_type": "code",
   "execution_count": 6,
   "id": "union-huntington",
   "metadata": {
    "execution": {
     "iopub.execute_input": "2021-10-20T16:30:09.233681Z",
     "iopub.status.busy": "2021-10-20T16:30:09.231543Z",
     "iopub.status.idle": "2021-10-20T16:30:09.236817Z",
     "shell.execute_reply": "2021-10-20T16:30:09.238038Z"
    },
    "papermill": {
     "duration": 0.040199,
     "end_time": "2021-10-20T16:30:09.238469",
     "exception": false,
     "start_time": "2021-10-20T16:30:09.198270",
     "status": "completed"
    },
    "tags": []
   },
   "outputs": [],
   "source": [
    "df_pivot.columns = [\"stamp_1\", \"stamp_2\"]\n",
    "df_pivot_diff = df_pivot.diff(axis=1)"
   ]
  },
  {
   "cell_type": "code",
   "execution_count": 7,
   "id": "fifth-motion",
   "metadata": {
    "execution": {
     "iopub.execute_input": "2021-10-20T16:30:09.292479Z",
     "iopub.status.busy": "2021-10-20T16:30:09.290040Z",
     "iopub.status.idle": "2021-10-20T16:30:10.774384Z",
     "shell.execute_reply": "2021-10-20T16:30:10.775780Z"
    },
    "papermill": {
     "duration": 1.517278,
     "end_time": "2021-10-20T16:30:10.776214",
     "exception": false,
     "start_time": "2021-10-20T16:30:09.258936",
     "status": "completed"
    },
    "tags": []
   },
   "outputs": [
    {
     "data": {
      "text/plain": [
       "<AxesSubplot:ylabel='PRODUCT'>"
      ]
     },
     "execution_count": 7,
     "metadata": {},
     "output_type": "execute_result"
    },
    {
     "data": {
      "image/png": "[encoded data removed]",
      "text/plain": [
       "<Figure size 432x288 with 1 Axes>"
      ]
     },
     "metadata": {
      "needs_background": "light"
     },
     "output_type": "display_data"
    }
   ],
   "source": [
    "df_pivot_diff.sort_values(\"stamp_2\", ascending = False)[\"stamp_2\"].head(10).plot.barh()"
   ]
  },
  {
   "cell_type": "code",
   "execution_count": null,
   "id": "extra-executive",
   "metadata": {
    "papermill": {
     "duration": 0.022104,
     "end_time": "2021-10-20T16:30:10.822302",
     "exception": false,
     "start_time": "2021-10-20T16:30:10.800198",
     "status": "completed"
    },
    "tags": []
   },
   "outputs": [],
   "source": []
  }
 ],
 "metadata": {
  "kernelspec": {
   "display_name": "Python 3",
   "language": "python",
   "name": "python3"
  },
  "language_info": {
   "codemirror_mode": {
    "name": "ipython",
    "version": 3
   },
   "file_extension": ".py",
   "mimetype": "text/x-python",
   "name": "python",
   "nbconvert_exporter": "python",
   "pygments_lexer": "ipython3",
   "version": "3.9.5"
  },
  "papermill": {
   "default_parameters": {},
   "duration": 7.824184,
   "end_time": "2021-10-20T16:30:11.968083",
   "environment_variables": {},
   "exception": null,
   "input_path": "eBay_Overview.ipynb",
   "output_path": "eBay_Overview.ipynb",
   "parameters": {},
   "start_time": "2021-10-20T16:30:04.143899",
   "version": "2.3.3"
  }
 },
 "nbformat": 4,
 "nbformat_minor": 5
}