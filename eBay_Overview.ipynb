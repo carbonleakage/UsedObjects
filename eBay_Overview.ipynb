{
 "cells": [
  {
   "cell_type": "code",
   "execution_count": 1,
   "id": "reverse-picking",
   "metadata": {
    "execution": {
     "iopub.execute_input": "2021-12-21T18:00:08.305252Z",
     "iopub.status.busy": "2021-12-21T18:00:08.302718Z",
     "iopub.status.idle": "2021-12-21T18:00:09.268528Z",
     "shell.execute_reply": "2021-12-21T18:00:09.270173Z"
    },
    "papermill": {
     "duration": 1.014969,
     "end_time": "2021-12-21T18:00:09.270967",
     "exception": false,
     "start_time": "2021-12-21T18:00:08.255998",
     "status": "completed"
    },
    "tags": []
   },
   "outputs": [],
   "source": [
    "import pandas as pd\n",
    "import sqlite3"
   ]
  },
  {
   "cell_type": "code",
   "execution_count": 2,
   "id": "innovative-syndrome",
   "metadata": {
    "execution": {
     "iopub.execute_input": "2021-12-21T18:00:09.386768Z",
     "iopub.status.busy": "2021-12-21T18:00:09.381819Z",
     "iopub.status.idle": "2021-12-21T18:00:10.516413Z",
     "shell.execute_reply": "2021-12-21T18:00:10.518002Z"
    },
    "papermill": {
     "duration": 1.164241,
     "end_time": "2021-12-21T18:00:10.518502",
     "exception": false,
     "start_time": "2021-12-21T18:00:09.354261",
     "status": "completed"
    },
    "tags": []
   },
   "outputs": [],
   "source": [
    "timestamps = pd.read_sql(\"select distinct record_time from EBAY_TOP_BERLIN order by record_time desc limit 2\", sqlite3.connect(\"UsedObjects.db\"))"
   ]
  },
  {
   "cell_type": "code",
   "execution_count": 3,
   "id": "periodic-identification",
   "metadata": {
    "execution": {
     "iopub.execute_input": "2021-12-21T18:00:10.594891Z",
     "iopub.status.busy": "2021-12-21T18:00:10.588830Z",
     "iopub.status.idle": "2021-12-21T18:00:10.617874Z",
     "shell.execute_reply": "2021-12-21T18:00:10.616244Z"
    },
    "papermill": {
     "duration": 0.079049,
     "end_time": "2021-12-21T18:00:10.618297",
     "exception": false,
     "start_time": "2021-12-21T18:00:10.539248",
     "status": "completed"
    },
    "tags": []
   },
   "outputs": [
    {
     "data": {
      "text/html": [
       "<div>\n",
       "<style scoped>\n",
       "    .dataframe tbody tr th:only-of-type {\n",
       "        vertical-align: middle;\n",
       "    }\n",
       "\n",
       "    .dataframe tbody tr th {\n",
       "        vertical-align: top;\n",
       "    }\n",
       "\n",
       "    .dataframe thead th {\n",
       "        text-align: right;\n",
       "    }\n",
       "</style>\n",
       "<table border=\"1\" class=\"dataframe\">\n",
       "  <thead>\n",
       "    <tr style=\"text-align: right;\">\n",
       "      <th></th>\n",
       "      <th>RECORD_TIME</th>\n",
       "    </tr>\n",
       "  </thead>\n",
       "  <tbody>\n",
       "    <tr>\n",
       "      <th>0</th>\n",
       "      <td>2021-12-21 19:00</td>\n",
       "    </tr>\n",
       "    <tr>\n",
       "      <th>1</th>\n",
       "      <td>2021-12-21 18:30</td>\n",
       "    </tr>\n",
       "  </tbody>\n",
       "</table>\n",
       "</div>"
      ],
      "text/plain": [
       "        RECORD_TIME\n",
       "0  2021-12-21 19:00\n",
       "1  2021-12-21 18:30"
      ]
     },
     "execution_count": 3,
     "metadata": {},
     "output_type": "execute_result"
    }
   ],
   "source": [
    "timestamps"
   ]
  },
  {
   "cell_type": "code",
   "execution_count": 4,
   "id": "alternate-victory",
   "metadata": {
    "execution": {
     "iopub.execute_input": "2021-12-21T18:00:10.675104Z",
     "iopub.status.busy": "2021-12-21T18:00:10.672629Z",
     "iopub.status.idle": "2021-12-21T18:00:12.316450Z",
     "shell.execute_reply": "2021-12-21T18:00:12.318153Z"
    },
    "papermill": {
     "duration": 1.678692,
     "end_time": "2021-12-21T18:00:12.318651",
     "exception": false,
     "start_time": "2021-12-21T18:00:10.639959",
     "status": "completed"
    },
    "tags": []
   },
   "outputs": [],
   "source": [
    "df = pd.read_sql(\"select * from EBAY_TOP_BERLIN where record_time in (select distinct record_time from EBAY_TOP_BERLIN order by record_time desc limit 2)\", sqlite3.connect(\"UsedObjects.db\"))"
   ]
  },
  {
   "cell_type": "code",
   "execution_count": 5,
   "id": "popular-active",
   "metadata": {
    "execution": {
     "iopub.execute_input": "2021-12-21T18:00:12.398391Z",
     "iopub.status.busy": "2021-12-21T18:00:12.390695Z",
     "iopub.status.idle": "2021-12-21T18:00:12.418234Z",
     "shell.execute_reply": "2021-12-21T18:00:12.419698Z"
    },
    "papermill": {
     "duration": 0.079354,
     "end_time": "2021-12-21T18:00:12.420169",
     "exception": false,
     "start_time": "2021-12-21T18:00:12.340815",
     "status": "completed"
    },
    "tags": []
   },
   "outputs": [],
   "source": [
    "df_pivot = df.pivot_table(index=\"PRODUCT\", columns = \"RECORD_TIME\", values = \"LISTING_COUNT\")"
   ]
  },
  {
   "cell_type": "code",
   "execution_count": 6,
   "id": "union-huntington",
   "metadata": {
    "execution": {
     "iopub.execute_input": "2021-12-21T18:00:12.478850Z",
     "iopub.status.busy": "2021-12-21T18:00:12.476599Z",
     "iopub.status.idle": "2021-12-21T18:00:12.483564Z",
     "shell.execute_reply": "2021-12-21T18:00:12.481912Z"
    },
    "papermill": {
     "duration": 0.043682,
     "end_time": "2021-12-21T18:00:12.483983",
     "exception": false,
     "start_time": "2021-12-21T18:00:12.440301",
     "status": "completed"
    },
    "tags": []
   },
   "outputs": [],
   "source": [
    "df_pivot.columns = [\"stamp_1\", \"stamp_2\"]\n",
    "df_pivot_diff = df_pivot.diff(axis=1)"
   ]
  },
  {
   "cell_type": "code",
   "execution_count": 7,
   "id": "fifth-motion",
   "metadata": {
    "execution": {
     "iopub.execute_input": "2021-12-21T18:00:12.540299Z",
     "iopub.status.busy": "2021-12-21T18:00:12.537882Z",
     "iopub.status.idle": "2021-12-21T18:00:14.088941Z",
     "shell.execute_reply": "2021-12-21T18:00:14.090570Z"
    },
    "papermill": {
     "duration": 1.586834,
     "end_time": "2021-12-21T18:00:14.091063",
     "exception": false,
     "start_time": "2021-12-21T18:00:12.504229",
     "status": "completed"
    },
    "tags": []
   },
   "outputs": [
    {
     "data": {
      "text/plain": [
       "<AxesSubplot:ylabel='PRODUCT'>"
      ]
     },
     "execution_count": 7,
     "metadata": {},
     "output_type": "execute_result"
    },
    {
     "data": {
      "image/png": "[encoded data removed]",
      "text/plain": [
       "<Figure size 432x288 with 1 Axes>"
      ]
     },
     "metadata": {
      "needs_background": "light"
     },
     "output_type": "display_data"
    }
   ],
   "source": [
    "df_pivot_diff.sort_values(\"stamp_2\", ascending = False)[\"stamp_2\"].head(10).plot.barh()"
   ]
  },
  {
   "cell_type": "code",
   "execution_count": null,
   "id": "extra-executive",
   "metadata": {
    "papermill": {
     "duration": 0.022085,
     "end_time": "2021-12-21T18:00:14.137125",
     "exception": false,
     "start_time": "2021-12-21T18:00:14.115040",
     "status": "completed"
    },
    "tags": []
   },
   "outputs": [],
   "source": []
  }
 ],
 "metadata": {
  "kernelspec": {
   "display_name": "Python 3",
   "language": "python",
   "name": "python3"
  },
  "language_info": {
   "codemirror_mode": {
    "name": "ipython",
    "version": 3
   },
   "file_extension": ".py",
   "mimetype": "text/x-python",
   "name": "python",
   "nbconvert_exporter": "python",
   "pygments_lexer": "ipython3",
   "version": "3.9.5"
  },
  "papermill": {
   "default_parameters": {},
   "duration": 9.942286,
   "end_time": "2021-12-21T18:00:15.443907",
   "environment_variables": {},
   "exception": null,
   "input_path": "eBay_Overview.ipynb",
   "output_path": "eBay_Overview.ipynb",
   "parameters": {},
   "start_time": "2021-12-21T18:00:05.501621",
   "version": "2.3.3"
  }
 },
 "nbformat": 4,
 "nbformat_minor": 5
}