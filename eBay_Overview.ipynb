{
 "cells": [
  {
   "cell_type": "code",
   "execution_count": 1,
   "id": "reverse-picking",
   "metadata": {
    "execution": {
     "iopub.execute_input": "2021-08-09T23:30:03.804122Z",
     "iopub.status.busy": "2021-08-09T23:30:03.803360Z",
     "iopub.status.idle": "2021-08-09T23:30:04.568026Z",
     "shell.execute_reply": "2021-08-09T23:30:04.567318Z"
    },
    "papermill": {
     "duration": 0.78372,
     "end_time": "2021-08-09T23:30:04.568217",
     "exception": false,
     "start_time": "2021-08-09T23:30:03.784497",
     "status": "completed"
    },
    "tags": []
   },
   "outputs": [],
   "source": [
    "import pandas as pd\n",
    "import sqlite3"
   ]
  },
  {
   "cell_type": "code",
   "execution_count": 2,
   "id": "innovative-syndrome",
   "metadata": {
    "execution": {
     "iopub.execute_input": "2021-08-09T23:30:04.595084Z",
     "iopub.status.busy": "2021-08-09T23:30:04.594268Z",
     "iopub.status.idle": "2021-08-09T23:30:04.873063Z",
     "shell.execute_reply": "2021-08-09T23:30:04.872049Z"
    },
    "papermill": {
     "duration": 0.291358,
     "end_time": "2021-08-09T23:30:04.873301",
     "exception": false,
     "start_time": "2021-08-09T23:30:04.581943",
     "status": "completed"
    },
    "tags": []
   },
   "outputs": [],
   "source": [
    "timestamps = pd.read_sql(\"select distinct record_time from EBAY_TOP_BERLIN order by record_time desc limit 2\", sqlite3.connect(\"UsedObjects.db\"))"
   ]
  },
  {
   "cell_type": "code",
   "execution_count": 3,
   "id": "periodic-identification",
   "metadata": {
    "execution": {
     "iopub.execute_input": "2021-08-09T23:30:04.914253Z",
     "iopub.status.busy": "2021-08-09T23:30:04.913311Z",
     "iopub.status.idle": "2021-08-09T23:30:04.968815Z",
     "shell.execute_reply": "2021-08-09T23:30:04.969424Z"
    },
    "papermill": {
     "duration": 0.083383,
     "end_time": "2021-08-09T23:30:04.969620",
     "exception": false,
     "start_time": "2021-08-09T23:30:04.886237",
     "status": "completed"
    },
    "tags": []
   },
   "outputs": [
    {
     "data": {
      "text/html": [
       "<div>\n",
       "<style scoped>\n",
       "    .dataframe tbody tr th:only-of-type {\n",
       "        vertical-align: middle;\n",
       "    }\n",
       "\n",
       "    .dataframe tbody tr th {\n",
       "        vertical-align: top;\n",
       "    }\n",
       "\n",
       "    .dataframe thead th {\n",
       "        text-align: right;\n",
       "    }\n",
       "</style>\n",
       "<table border=\"1\" class=\"dataframe\">\n",
       "  <thead>\n",
       "    <tr style=\"text-align: right;\">\n",
       "      <th></th>\n",
       "      <th>RECORD_TIME</th>\n",
       "    </tr>\n",
       "  </thead>\n",
       "  <tbody>\n",
       "    <tr>\n",
       "      <th>0</th>\n",
       "      <td>2021-08-10 01:30</td>\n",
       "    </tr>\n",
       "    <tr>\n",
       "      <th>1</th>\n",
       "      <td>2021-08-10 01:00</td>\n",
       "    </tr>\n",
       "  </tbody>\n",
       "</table>\n",
       "</div>"
      ],
      "text/plain": [
       "        RECORD_TIME\n",
       "0  2021-08-10 01:30\n",
       "1  2021-08-10 01:00"
      ]
     },
     "execution_count": 3,
     "metadata": {},
     "output_type": "execute_result"
    }
   ],
   "source": [
    "timestamps"
   ]
  },
  {
   "cell_type": "code",
   "execution_count": 4,
   "id": "alternate-victory",
   "metadata": {
    "execution": {
     "iopub.execute_input": "2021-08-09T23:30:04.996567Z",
     "iopub.status.busy": "2021-08-09T23:30:04.995806Z",
     "iopub.status.idle": "2021-08-09T23:30:05.006450Z",
     "shell.execute_reply": "2021-08-09T23:30:05.006985Z"
    },
    "papermill": {
     "duration": 0.027426,
     "end_time": "2021-08-09T23:30:05.007168",
     "exception": false,
     "start_time": "2021-08-09T23:30:04.979742",
     "status": "completed"
    },
    "tags": []
   },
   "outputs": [],
   "source": [
    "df = pd.read_sql(\"select * from EBAY_TOP_BERLIN where record_time in (select distinct record_time from EBAY_TOP_BERLIN order by record_time desc limit 2)\", sqlite3.connect(\"UsedObjects.db\"))"
   ]
  },
  {
   "cell_type": "code",
   "execution_count": 5,
   "id": "popular-active",
   "metadata": {
    "execution": {
     "iopub.execute_input": "2021-08-09T23:30:05.038018Z",
     "iopub.status.busy": "2021-08-09T23:30:05.037248Z",
     "iopub.status.idle": "2021-08-09T23:30:05.083054Z",
     "shell.execute_reply": "2021-08-09T23:30:05.083839Z"
    },
    "papermill": {
     "duration": 0.067529,
     "end_time": "2021-08-09T23:30:05.084065",
     "exception": false,
     "start_time": "2021-08-09T23:30:05.016536",
     "status": "completed"
    },
    "tags": []
   },
   "outputs": [],
   "source": [
    "df_pivot = df.pivot_table(index=\"PRODUCT\", columns = \"RECORD_TIME\", values = \"LISTING_COUNT\")"
   ]
  },
  {
   "cell_type": "code",
   "execution_count": 6,
   "id": "union-huntington",
   "metadata": {
    "execution": {
     "iopub.execute_input": "2021-08-09T23:30:05.109459Z",
     "iopub.status.busy": "2021-08-09T23:30:05.108715Z",
     "iopub.status.idle": "2021-08-09T23:30:05.111350Z",
     "shell.execute_reply": "2021-08-09T23:30:05.111937Z"
    },
    "papermill": {
     "duration": 0.01961,
     "end_time": "2021-08-09T23:30:05.112116",
     "exception": false,
     "start_time": "2021-08-09T23:30:05.092506",
     "status": "completed"
    },
    "tags": []
   },
   "outputs": [],
   "source": [
    "df_pivot.columns = [\"stamp_1\", \"stamp_2\"]\n",
    "df_pivot_diff = df_pivot.diff(axis=1)"
   ]
  },
  {
   "cell_type": "code",
   "execution_count": 7,
   "id": "fifth-motion",
   "metadata": {
    "execution": {
     "iopub.execute_input": "2021-08-09T23:30:05.141081Z",
     "iopub.status.busy": "2021-08-09T23:30:05.140252Z",
     "iopub.status.idle": "2021-08-09T23:30:05.839299Z",
     "shell.execute_reply": "2021-08-09T23:30:05.839838Z"
    },
    "papermill": {
     "duration": 0.71504,
     "end_time": "2021-08-09T23:30:05.840021",
     "exception": false,
     "start_time": "2021-08-09T23:30:05.124981",
     "status": "completed"
    },
    "tags": []
   },
   "outputs": [
    {
     "data": {
      "text/plain": [
       "<AxesSubplot:ylabel='PRODUCT'>"
      ]
     },
     "execution_count": 7,
     "metadata": {},
     "output_type": "execute_result"
    },
    {
     "data": {
      "image/png": "[encoded data removed]",
      "text/plain": [
       "<Figure size 432x288 with 1 Axes>"
      ]
     },
     "metadata": {
      "needs_background": "light"
     },
     "output_type": "display_data"
    }
   ],
   "source": [
    "df_pivot_diff.sort_values(\"stamp_2\", ascending = False)[\"stamp_2\"].head(10).plot.barh()"
   ]
  },
  {
   "cell_type": "code",
   "execution_count": null,
   "id": "extra-executive",
   "metadata": {
    "papermill": {
     "duration": 0.014279,
     "end_time": "2021-08-09T23:30:05.866077",
     "exception": false,
     "start_time": "2021-08-09T23:30:05.851798",
     "status": "completed"
    },
    "tags": []
   },
   "outputs": [],
   "source": []
  }
 ],
 "metadata": {
  "kernelspec": {
   "display_name": "Python 3",
   "language": "python",
   "name": "python3"
  },
  "language_info": {
   "codemirror_mode": {
    "name": "ipython",
    "version": 3
   },
   "file_extension": ".py",
   "mimetype": "text/x-python",
   "name": "python",
   "nbconvert_exporter": "python",
   "pygments_lexer": "ipython3",
   "version": "3.8.8"
  },
  "papermill": {
   "default_parameters": {},
   "duration": 4.479711,
   "end_time": "2021-08-09T23:30:06.608315",
   "environment_variables": {},
   "exception": null,
   "input_path": "/Users/saravananshanmugam/Carbonleakage_Git/UsedObjects/eBay_Overview.ipynb",
   "output_path": "/Users/saravananshanmugam/Carbonleakage_Git/UsedObjects/eBay_Overview.ipynb",
   "parameters": {},
   "start_time": "2021-08-09T23:30:02.128604",
   "version": "2.3.3"
  }
 },
 "nbformat": 4,
 "nbformat_minor": 5
}