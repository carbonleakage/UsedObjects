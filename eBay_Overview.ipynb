{
 "cells": [
  {
   "cell_type": "code",
   "execution_count": 1,
   "id": "reverse-picking",
   "metadata": {
    "execution": {
     "iopub.execute_input": "2021-10-19T05:30:06.752950Z",
     "iopub.status.busy": "2021-10-19T05:30:06.750974Z",
     "iopub.status.idle": "2021-10-19T05:30:07.562731Z",
     "shell.execute_reply": "2021-10-19T05:30:07.561137Z"
    },
    "papermill": {
     "duration": 0.862682,
     "end_time": "2021-10-19T05:30:07.563138",
     "exception": false,
     "start_time": "2021-10-19T05:30:06.700456",
     "status": "completed"
    },
    "tags": []
   },
   "outputs": [],
   "source": [
    "import pandas as pd\n",
    "import sqlite3"
   ]
  },
  {
   "cell_type": "code",
   "execution_count": 2,
   "id": "innovative-syndrome",
   "metadata": {
    "execution": {
     "iopub.execute_input": "2021-10-19T05:30:07.615092Z",
     "iopub.status.busy": "2021-10-19T05:30:07.612935Z",
     "iopub.status.idle": "2021-10-19T05:30:08.176592Z",
     "shell.execute_reply": "2021-10-19T05:30:08.177841Z"
    },
    "papermill": {
     "duration": 0.593416,
     "end_time": "2021-10-19T05:30:08.178248",
     "exception": false,
     "start_time": "2021-10-19T05:30:07.584832",
     "status": "completed"
    },
    "tags": []
   },
   "outputs": [],
   "source": [
    "timestamps = pd.read_sql(\"select distinct record_time from EBAY_TOP_BERLIN order by record_time desc limit 2\", sqlite3.connect(\"UsedObjects.db\"))"
   ]
  },
  {
   "cell_type": "code",
   "execution_count": 3,
   "id": "periodic-identification",
   "metadata": {
    "execution": {
     "iopub.execute_input": "2021-10-19T05:30:08.254878Z",
     "iopub.status.busy": "2021-10-19T05:30:08.252867Z",
     "iopub.status.idle": "2021-10-19T05:30:08.273012Z",
     "shell.execute_reply": "2021-10-19T05:30:08.274499Z"
    },
    "papermill": {
     "duration": 0.069115,
     "end_time": "2021-10-19T05:30:08.275016",
     "exception": false,
     "start_time": "2021-10-19T05:30:08.205901",
     "status": "completed"
    },
    "tags": []
   },
   "outputs": [
    {
     "data": {
      "text/html": [
       "<div>\n",
       "<style scoped>\n",
       "    .dataframe tbody tr th:only-of-type {\n",
       "        vertical-align: middle;\n",
       "    }\n",
       "\n",
       "    .dataframe tbody tr th {\n",
       "        vertical-align: top;\n",
       "    }\n",
       "\n",
       "    .dataframe thead th {\n",
       "        text-align: right;\n",
       "    }\n",
       "</style>\n",
       "<table border=\"1\" class=\"dataframe\">\n",
       "  <thead>\n",
       "    <tr style=\"text-align: right;\">\n",
       "      <th></th>\n",
       "      <th>RECORD_TIME</th>\n",
       "    </tr>\n",
       "  </thead>\n",
       "  <tbody>\n",
       "    <tr>\n",
       "      <th>0</th>\n",
       "      <td>2021-10-19 07:30</td>\n",
       "    </tr>\n",
       "    <tr>\n",
       "      <th>1</th>\n",
       "      <td>2021-10-19 07:00</td>\n",
       "    </tr>\n",
       "  </tbody>\n",
       "</table>\n",
       "</div>"
      ],
      "text/plain": [
       "        RECORD_TIME\n",
       "0  2021-10-19 07:30\n",
       "1  2021-10-19 07:00"
      ]
     },
     "execution_count": 3,
     "metadata": {},
     "output_type": "execute_result"
    }
   ],
   "source": [
    "timestamps"
   ]
  },
  {
   "cell_type": "code",
   "execution_count": 4,
   "id": "alternate-victory",
   "metadata": {
    "execution": {
     "iopub.execute_input": "2021-10-19T05:30:08.326906Z",
     "iopub.status.busy": "2021-10-19T05:30:08.325075Z",
     "iopub.status.idle": "2021-10-19T05:30:09.173732Z",
     "shell.execute_reply": "2021-10-19T05:30:09.175130Z"
    },
    "papermill": {
     "duration": 0.878954,
     "end_time": "2021-10-19T05:30:09.175574",
     "exception": false,
     "start_time": "2021-10-19T05:30:08.296620",
     "status": "completed"
    },
    "tags": []
   },
   "outputs": [],
   "source": [
    "df = pd.read_sql(\"select * from EBAY_TOP_BERLIN where record_time in (select distinct record_time from EBAY_TOP_BERLIN order by record_time desc limit 2)\", sqlite3.connect(\"UsedObjects.db\"))"
   ]
  },
  {
   "cell_type": "code",
   "execution_count": 5,
   "id": "popular-active",
   "metadata": {
    "execution": {
     "iopub.execute_input": "2021-10-19T05:30:09.246280Z",
     "iopub.status.busy": "2021-10-19T05:30:09.234562Z",
     "iopub.status.idle": "2021-10-19T05:30:09.262024Z",
     "shell.execute_reply": "2021-10-19T05:30:09.263223Z"
    },
    "papermill": {
     "duration": 0.067269,
     "end_time": "2021-10-19T05:30:09.263623",
     "exception": false,
     "start_time": "2021-10-19T05:30:09.196354",
     "status": "completed"
    },
    "tags": []
   },
   "outputs": [],
   "source": [
    "df_pivot = df.pivot_table(index=\"PRODUCT\", columns = \"RECORD_TIME\", values = \"LISTING_COUNT\")"
   ]
  },
  {
   "cell_type": "code",
   "execution_count": 6,
   "id": "union-huntington",
   "metadata": {
    "execution": {
     "iopub.execute_input": "2021-10-19T05:30:09.324264Z",
     "iopub.status.busy": "2021-10-19T05:30:09.321859Z",
     "iopub.status.idle": "2021-10-19T05:30:09.327796Z",
     "shell.execute_reply": "2021-10-19T05:30:09.329277Z"
    },
    "papermill": {
     "duration": 0.04279,
     "end_time": "2021-10-19T05:30:09.329749",
     "exception": false,
     "start_time": "2021-10-19T05:30:09.286959",
     "status": "completed"
    },
    "tags": []
   },
   "outputs": [],
   "source": [
    "df_pivot.columns = [\"stamp_1\", \"stamp_2\"]\n",
    "df_pivot_diff = df_pivot.diff(axis=1)"
   ]
  },
  {
   "cell_type": "code",
   "execution_count": 7,
   "id": "fifth-motion",
   "metadata": {
    "execution": {
     "iopub.execute_input": "2021-10-19T05:30:09.384323Z",
     "iopub.status.busy": "2021-10-19T05:30:09.382168Z",
     "iopub.status.idle": "2021-10-19T05:30:10.871281Z",
     "shell.execute_reply": "2021-10-19T05:30:10.872631Z"
    },
    "papermill": {
     "duration": 1.521937,
     "end_time": "2021-10-19T05:30:10.873170",
     "exception": false,
     "start_time": "2021-10-19T05:30:09.351233",
     "status": "completed"
    },
    "tags": []
   },
   "outputs": [
    {
     "data": {
      "text/plain": [
       "<AxesSubplot:ylabel='PRODUCT'>"
      ]
     },
     "execution_count": 7,
     "metadata": {},
     "output_type": "execute_result"
    },
    {
     "data": {
      "image/png": "[encoded data removed]",
      "text/plain": [
       "<Figure size 432x288 with 1 Axes>"
      ]
     },
     "metadata": {
      "needs_background": "light"
     },
     "output_type": "display_data"
    }
   ],
   "source": [
    "df_pivot_diff.sort_values(\"stamp_2\", ascending = False)[\"stamp_2\"].head(10).plot.barh()"
   ]
  },
  {
   "cell_type": "code",
   "execution_count": null,
   "id": "extra-executive",
   "metadata": {
    "papermill": {
     "duration": 0.022182,
     "end_time": "2021-10-19T05:30:10.919420",
     "exception": false,
     "start_time": "2021-10-19T05:30:10.897238",
     "status": "completed"
    },
    "tags": []
   },
   "outputs": [],
   "source": []
  }
 ],
 "metadata": {
  "kernelspec": {
   "display_name": "Python 3",
   "language": "python",
   "name": "python3"
  },
  "language_info": {
   "codemirror_mode": {
    "name": "ipython",
    "version": 3
   },
   "file_extension": ".py",
   "mimetype": "text/x-python",
   "name": "python",
   "nbconvert_exporter": "python",
   "pygments_lexer": "ipython3",
   "version": "3.9.5"
  },
  "papermill": {
   "default_parameters": {},
   "duration": 7.823297,
   "end_time": "2021-10-19T05:30:12.110625",
   "environment_variables": {},
   "exception": null,
   "input_path": "eBay_Overview.ipynb",
   "output_path": "eBay_Overview.ipynb",
   "parameters": {},
   "start_time": "2021-10-19T05:30:04.287328",
   "version": "2.3.3"
  }
 },
 "nbformat": 4,
 "nbformat_minor": 5
}