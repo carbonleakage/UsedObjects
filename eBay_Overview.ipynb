{
 "cells": [
  {
   "cell_type": "code",
   "execution_count": 1,
   "id": "reverse-picking",
   "metadata": {
    "execution": {
     "iopub.execute_input": "2021-11-21T17:00:07.275848Z",
     "iopub.status.busy": "2021-11-21T17:00:07.273928Z",
     "iopub.status.idle": "2021-11-21T17:00:08.235139Z",
     "shell.execute_reply": "2021-11-21T17:00:08.236671Z"
    },
    "papermill": {
     "duration": 1.008286,
     "end_time": "2021-11-21T17:00:08.237471",
     "exception": false,
     "start_time": "2021-11-21T17:00:07.229185",
     "status": "completed"
    },
    "tags": []
   },
   "outputs": [],
   "source": [
    "import pandas as pd\n",
    "import sqlite3"
   ]
  },
  {
   "cell_type": "code",
   "execution_count": 2,
   "id": "innovative-syndrome",
   "metadata": {
    "execution": {
     "iopub.execute_input": "2021-11-21T17:00:08.355047Z",
     "iopub.status.busy": "2021-11-21T17:00:08.352841Z",
     "iopub.status.idle": "2021-11-21T17:00:09.243152Z",
     "shell.execute_reply": "2021-11-21T17:00:09.244621Z"
    },
    "papermill": {
     "duration": 0.925754,
     "end_time": "2021-11-21T17:00:09.245171",
     "exception": false,
     "start_time": "2021-11-21T17:00:08.319417",
     "status": "completed"
    },
    "tags": []
   },
   "outputs": [],
   "source": [
    "timestamps = pd.read_sql(\"select distinct record_time from EBAY_TOP_BERLIN order by record_time desc limit 2\", sqlite3.connect(\"UsedObjects.db\"))"
   ]
  },
  {
   "cell_type": "code",
   "execution_count": 3,
   "id": "periodic-identification",
   "metadata": {
    "execution": {
     "iopub.execute_input": "2021-11-21T17:00:09.320999Z",
     "iopub.status.busy": "2021-11-21T17:00:09.315173Z",
     "iopub.status.idle": "2021-11-21T17:00:09.339526Z",
     "shell.execute_reply": "2021-11-21T17:00:09.341328Z"
    },
    "papermill": {
     "duration": 0.075796,
     "end_time": "2021-11-21T17:00:09.341897",
     "exception": false,
     "start_time": "2021-11-21T17:00:09.266101",
     "status": "completed"
    },
    "tags": []
   },
   "outputs": [
    {
     "data": {
      "text/html": [
       "<div>\n",
       "<style scoped>\n",
       "    .dataframe tbody tr th:only-of-type {\n",
       "        vertical-align: middle;\n",
       "    }\n",
       "\n",
       "    .dataframe tbody tr th {\n",
       "        vertical-align: top;\n",
       "    }\n",
       "\n",
       "    .dataframe thead th {\n",
       "        text-align: right;\n",
       "    }\n",
       "</style>\n",
       "<table border=\"1\" class=\"dataframe\">\n",
       "  <thead>\n",
       "    <tr style=\"text-align: right;\">\n",
       "      <th></th>\n",
       "      <th>RECORD_TIME</th>\n",
       "    </tr>\n",
       "  </thead>\n",
       "  <tbody>\n",
       "    <tr>\n",
       "      <th>0</th>\n",
       "      <td>2021-11-21 18:00</td>\n",
       "    </tr>\n",
       "    <tr>\n",
       "      <th>1</th>\n",
       "      <td>2021-11-21 17:30</td>\n",
       "    </tr>\n",
       "  </tbody>\n",
       "</table>\n",
       "</div>"
      ],
      "text/plain": [
       "        RECORD_TIME\n",
       "0  2021-11-21 18:00\n",
       "1  2021-11-21 17:30"
      ]
     },
     "execution_count": 3,
     "metadata": {},
     "output_type": "execute_result"
    }
   ],
   "source": [
    "timestamps"
   ]
  },
  {
   "cell_type": "code",
   "execution_count": 4,
   "id": "alternate-victory",
   "metadata": {
    "execution": {
     "iopub.execute_input": "2021-11-21T17:00:09.400481Z",
     "iopub.status.busy": "2021-11-21T17:00:09.398220Z",
     "iopub.status.idle": "2021-11-21T17:00:10.698241Z",
     "shell.execute_reply": "2021-11-21T17:00:10.699941Z"
    },
    "papermill": {
     "duration": 1.335044,
     "end_time": "2021-11-21T17:00:10.700453",
     "exception": false,
     "start_time": "2021-11-21T17:00:09.365409",
     "status": "completed"
    },
    "tags": []
   },
   "outputs": [],
   "source": [
    "df = pd.read_sql(\"select * from EBAY_TOP_BERLIN where record_time in (select distinct record_time from EBAY_TOP_BERLIN order by record_time desc limit 2)\", sqlite3.connect(\"UsedObjects.db\"))"
   ]
  },
  {
   "cell_type": "code",
   "execution_count": 5,
   "id": "popular-active",
   "metadata": {
    "execution": {
     "iopub.execute_input": "2021-11-21T17:00:10.803957Z",
     "iopub.status.busy": "2021-11-21T17:00:10.789685Z",
     "iopub.status.idle": "2021-11-21T17:00:10.833403Z",
     "shell.execute_reply": "2021-11-21T17:00:10.831629Z"
    },
    "papermill": {
     "duration": 0.109053,
     "end_time": "2021-11-21T17:00:10.833881",
     "exception": false,
     "start_time": "2021-11-21T17:00:10.724828",
     "status": "completed"
    },
    "tags": []
   },
   "outputs": [],
   "source": [
    "df_pivot = df.pivot_table(index=\"PRODUCT\", columns = \"RECORD_TIME\", values = \"LISTING_COUNT\")"
   ]
  },
  {
   "cell_type": "code",
   "execution_count": 6,
   "id": "union-huntington",
   "metadata": {
    "execution": {
     "iopub.execute_input": "2021-11-21T17:00:10.898058Z",
     "iopub.status.busy": "2021-11-21T17:00:10.895715Z",
     "iopub.status.idle": "2021-11-21T17:00:10.901565Z",
     "shell.execute_reply": "2021-11-21T17:00:10.902832Z"
    },
    "papermill": {
     "duration": 0.047269,
     "end_time": "2021-11-21T17:00:10.903281",
     "exception": false,
     "start_time": "2021-11-21T17:00:10.856012",
     "status": "completed"
    },
    "tags": []
   },
   "outputs": [],
   "source": [
    "df_pivot.columns = [\"stamp_1\", \"stamp_2\"]\n",
    "df_pivot_diff = df_pivot.diff(axis=1)"
   ]
  },
  {
   "cell_type": "code",
   "execution_count": 7,
   "id": "fifth-motion",
   "metadata": {
    "execution": {
     "iopub.execute_input": "2021-11-21T17:00:10.960238Z",
     "iopub.status.busy": "2021-11-21T17:00:10.957747Z",
     "iopub.status.idle": "2021-11-21T17:00:12.821017Z",
     "shell.execute_reply": "2021-11-21T17:00:12.824017Z"
    },
    "papermill": {
     "duration": 1.901296,
     "end_time": "2021-11-21T17:00:12.825006",
     "exception": false,
     "start_time": "2021-11-21T17:00:10.923710",
     "status": "completed"
    },
    "tags": []
   },
   "outputs": [
    {
     "data": {
      "text/plain": [
       "<AxesSubplot:ylabel='PRODUCT'>"
      ]
     },
     "execution_count": 7,
     "metadata": {},
     "output_type": "execute_result"
    },
    {
     "data": {
      "image/png": "[encoded data removed]",
      "text/plain": [
       "<Figure size 432x288 with 1 Axes>"
      ]
     },
     "metadata": {
      "needs_background": "light"
     },
     "output_type": "display_data"
    }
   ],
   "source": [
    "df_pivot_diff.sort_values(\"stamp_2\", ascending = False)[\"stamp_2\"].head(10).plot.barh()"
   ]
  },
  {
   "cell_type": "code",
   "execution_count": null,
   "id": "extra-executive",
   "metadata": {
    "papermill": {
     "duration": 0.028566,
     "end_time": "2021-11-21T17:00:12.888920",
     "exception": false,
     "start_time": "2021-11-21T17:00:12.860354",
     "status": "completed"
    },
    "tags": []
   },
   "outputs": [],
   "source": []
  }
 ],
 "metadata": {
  "kernelspec": {
   "display_name": "Python 3",
   "language": "python",
   "name": "python3"
  },
  "language_info": {
   "codemirror_mode": {
    "name": "ipython",
    "version": 3
   },
   "file_extension": ".py",
   "mimetype": "text/x-python",
   "name": "python",
   "nbconvert_exporter": "python",
   "pygments_lexer": "ipython3",
   "version": "3.9.5"
  },
  "papermill": {
   "default_parameters": {},
   "duration": 9.940931,
   "end_time": "2021-11-21T17:00:14.430750",
   "environment_variables": {},
   "exception": null,
   "input_path": "eBay_Overview.ipynb",
   "output_path": "eBay_Overview.ipynb",
   "parameters": {},
   "start_time": "2021-11-21T17:00:04.489819",
   "version": "2.3.3"
  }
 },
 "nbformat": 4,
 "nbformat_minor": 5
}