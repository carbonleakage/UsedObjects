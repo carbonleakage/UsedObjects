{
 "cells": [
  {
   "cell_type": "code",
   "execution_count": 1,
   "id": "reverse-picking",
   "metadata": {
    "execution": {
     "iopub.execute_input": "2021-11-30T21:00:07.765433Z",
     "iopub.status.busy": "2021-11-30T21:00:07.762970Z",
     "iopub.status.idle": "2021-11-30T21:00:08.726990Z",
     "shell.execute_reply": "2021-11-30T21:00:08.728561Z"
    },
    "papermill": {
     "duration": 1.014965,
     "end_time": "2021-11-30T21:00:08.729407",
     "exception": false,
     "start_time": "2021-11-30T21:00:07.714442",
     "status": "completed"
    },
    "tags": []
   },
   "outputs": [],
   "source": [
    "import pandas as pd\n",
    "import sqlite3"
   ]
  },
  {
   "cell_type": "code",
   "execution_count": 2,
   "id": "innovative-syndrome",
   "metadata": {
    "execution": {
     "iopub.execute_input": "2021-11-30T21:00:08.786135Z",
     "iopub.status.busy": "2021-11-30T21:00:08.783694Z",
     "iopub.status.idle": "2021-11-30T21:00:09.737175Z",
     "shell.execute_reply": "2021-11-30T21:00:09.738633Z"
    },
    "papermill": {
     "duration": 0.987685,
     "end_time": "2021-11-30T21:00:09.739092",
     "exception": false,
     "start_time": "2021-11-30T21:00:08.751407",
     "status": "completed"
    },
    "tags": []
   },
   "outputs": [],
   "source": [
    "timestamps = pd.read_sql(\"select distinct record_time from EBAY_TOP_BERLIN order by record_time desc limit 2\", sqlite3.connect(\"UsedObjects.db\"))"
   ]
  },
  {
   "cell_type": "code",
   "execution_count": 3,
   "id": "periodic-identification",
   "metadata": {
    "execution": {
     "iopub.execute_input": "2021-11-30T21:00:09.795156Z",
     "iopub.status.busy": "2021-11-30T21:00:09.792646Z",
     "iopub.status.idle": "2021-11-30T21:00:09.831382Z",
     "shell.execute_reply": "2021-11-30T21:00:09.833621Z"
    },
    "papermill": {
     "duration": 0.075167,
     "end_time": "2021-11-30T21:00:09.834046",
     "exception": false,
     "start_time": "2021-11-30T21:00:09.758879",
     "status": "completed"
    },
    "tags": []
   },
   "outputs": [
    {
     "data": {
      "text/html": [
       "<div>\n",
       "<style scoped>\n",
       "    .dataframe tbody tr th:only-of-type {\n",
       "        vertical-align: middle;\n",
       "    }\n",
       "\n",
       "    .dataframe tbody tr th {\n",
       "        vertical-align: top;\n",
       "    }\n",
       "\n",
       "    .dataframe thead th {\n",
       "        text-align: right;\n",
       "    }\n",
       "</style>\n",
       "<table border=\"1\" class=\"dataframe\">\n",
       "  <thead>\n",
       "    <tr style=\"text-align: right;\">\n",
       "      <th></th>\n",
       "      <th>RECORD_TIME</th>\n",
       "    </tr>\n",
       "  </thead>\n",
       "  <tbody>\n",
       "    <tr>\n",
       "      <th>0</th>\n",
       "      <td>2021-11-30 22:00</td>\n",
       "    </tr>\n",
       "    <tr>\n",
       "      <th>1</th>\n",
       "      <td>2021-11-30 21:30</td>\n",
       "    </tr>\n",
       "  </tbody>\n",
       "</table>\n",
       "</div>"
      ],
      "text/plain": [
       "        RECORD_TIME\n",
       "0  2021-11-30 22:00\n",
       "1  2021-11-30 21:30"
      ]
     },
     "execution_count": 3,
     "metadata": {},
     "output_type": "execute_result"
    }
   ],
   "source": [
    "timestamps"
   ]
  },
  {
   "cell_type": "code",
   "execution_count": 4,
   "id": "alternate-victory",
   "metadata": {
    "execution": {
     "iopub.execute_input": "2021-11-30T21:00:09.892791Z",
     "iopub.status.busy": "2021-11-30T21:00:09.890898Z",
     "iopub.status.idle": "2021-11-30T21:00:11.283938Z",
     "shell.execute_reply": "2021-11-30T21:00:11.286078Z"
    },
    "papermill": {
     "duration": 1.430223,
     "end_time": "2021-11-30T21:00:11.286543",
     "exception": false,
     "start_time": "2021-11-30T21:00:09.856320",
     "status": "completed"
    },
    "tags": []
   },
   "outputs": [],
   "source": [
    "df = pd.read_sql(\"select * from EBAY_TOP_BERLIN where record_time in (select distinct record_time from EBAY_TOP_BERLIN order by record_time desc limit 2)\", sqlite3.connect(\"UsedObjects.db\"))"
   ]
  },
  {
   "cell_type": "code",
   "execution_count": 5,
   "id": "popular-active",
   "metadata": {
    "execution": {
     "iopub.execute_input": "2021-11-30T21:00:11.355009Z",
     "iopub.status.busy": "2021-11-30T21:00:11.352764Z",
     "iopub.status.idle": "2021-11-30T21:00:11.383124Z",
     "shell.execute_reply": "2021-11-30T21:00:11.384467Z"
    },
    "papermill": {
     "duration": 0.075574,
     "end_time": "2021-11-30T21:00:11.384986",
     "exception": false,
     "start_time": "2021-11-30T21:00:11.309412",
     "status": "completed"
    },
    "tags": []
   },
   "outputs": [],
   "source": [
    "df_pivot = df.pivot_table(index=\"PRODUCT\", columns = \"RECORD_TIME\", values = \"LISTING_COUNT\")"
   ]
  },
  {
   "cell_type": "code",
   "execution_count": 6,
   "id": "union-huntington",
   "metadata": {
    "execution": {
     "iopub.execute_input": "2021-11-30T21:00:11.444191Z",
     "iopub.status.busy": "2021-11-30T21:00:11.441994Z",
     "iopub.status.idle": "2021-11-30T21:00:11.447581Z",
     "shell.execute_reply": "2021-11-30T21:00:11.448986Z"
    },
    "papermill": {
     "duration": 0.044005,
     "end_time": "2021-11-30T21:00:11.449451",
     "exception": false,
     "start_time": "2021-11-30T21:00:11.405446",
     "status": "completed"
    },
    "tags": []
   },
   "outputs": [],
   "source": [
    "df_pivot.columns = [\"stamp_1\", \"stamp_2\"]\n",
    "df_pivot_diff = df_pivot.diff(axis=1)"
   ]
  },
  {
   "cell_type": "code",
   "execution_count": 7,
   "id": "fifth-motion",
   "metadata": {
    "execution": {
     "iopub.execute_input": "2021-11-30T21:00:11.510564Z",
     "iopub.status.busy": "2021-11-30T21:00:11.508001Z",
     "iopub.status.idle": "2021-11-30T21:00:13.542504Z",
     "shell.execute_reply": "2021-11-30T21:00:13.543772Z"
    },
    "papermill": {
     "duration": 2.072893,
     "end_time": "2021-11-30T21:00:13.544187",
     "exception": false,
     "start_time": "2021-11-30T21:00:11.471294",
     "status": "completed"
    },
    "tags": []
   },
   "outputs": [
    {
     "data": {
      "text/plain": [
       "<AxesSubplot:ylabel='PRODUCT'>"
      ]
     },
     "execution_count": 7,
     "metadata": {},
     "output_type": "execute_result"
    },
    {
     "data": {
      "image/png": "[encoded data removed]",
      "text/plain": [
       "<Figure size 432x288 with 1 Axes>"
      ]
     },
     "metadata": {
      "needs_background": "light"
     },
     "output_type": "display_data"
    }
   ],
   "source": [
    "df_pivot_diff.sort_values(\"stamp_2\", ascending = False)[\"stamp_2\"].head(10).plot.barh()"
   ]
  },
  {
   "cell_type": "code",
   "execution_count": null,
   "id": "extra-executive",
   "metadata": {
    "papermill": {
     "duration": 0.022654,
     "end_time": "2021-11-30T21:00:13.591268",
     "exception": false,
     "start_time": "2021-11-30T21:00:13.568614",
     "status": "completed"
    },
    "tags": []
   },
   "outputs": [],
   "source": []
  }
 ],
 "metadata": {
  "kernelspec": {
   "display_name": "Python 3",
   "language": "python",
   "name": "python3"
  },
  "language_info": {
   "codemirror_mode": {
    "name": "ipython",
    "version": 3
   },
   "file_extension": ".py",
   "mimetype": "text/x-python",
   "name": "python",
   "nbconvert_exporter": "python",
   "pygments_lexer": "ipython3",
   "version": "3.9.5"
  },
  "papermill": {
   "default_parameters": {},
   "duration": 9.937702,
   "end_time": "2021-11-30T21:00:14.894034",
   "environment_variables": {},
   "exception": null,
   "input_path": "eBay_Overview.ipynb",
   "output_path": "eBay_Overview.ipynb",
   "parameters": {},
   "start_time": "2021-11-30T21:00:04.956332",
   "version": "2.3.3"
  }
 },
 "nbformat": 4,
 "nbformat_minor": 5
}