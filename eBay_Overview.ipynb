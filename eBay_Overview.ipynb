{
 "cells": [
  {
   "cell_type": "code",
   "execution_count": 1,
   "id": "reverse-picking",
   "metadata": {
    "execution": {
     "iopub.execute_input": "2021-08-24T20:00:07.320483Z",
     "iopub.status.busy": "2021-08-24T20:00:07.318560Z",
     "iopub.status.idle": "2021-08-24T20:00:08.126236Z",
     "shell.execute_reply": "2021-08-24T20:00:08.124588Z"
    },
    "papermill": {
     "duration": 0.85962,
     "end_time": "2021-08-24T20:00:08.126644",
     "exception": false,
     "start_time": "2021-08-24T20:00:07.267024",
     "status": "completed"
    },
    "tags": []
   },
   "outputs": [],
   "source": [
    "import pandas as pd\n",
    "import sqlite3"
   ]
  },
  {
   "cell_type": "code",
   "execution_count": 2,
   "id": "innovative-syndrome",
   "metadata": {
    "execution": {
     "iopub.execute_input": "2021-08-24T20:00:08.176181Z",
     "iopub.status.busy": "2021-08-24T20:00:08.174333Z",
     "iopub.status.idle": "2021-08-24T20:00:08.295438Z",
     "shell.execute_reply": "2021-08-24T20:00:08.296630Z"
    },
    "papermill": {
     "duration": 0.150498,
     "end_time": "2021-08-24T20:00:08.297021",
     "exception": false,
     "start_time": "2021-08-24T20:00:08.146523",
     "status": "completed"
    },
    "tags": []
   },
   "outputs": [],
   "source": [
    "timestamps = pd.read_sql(\"select distinct record_time from EBAY_TOP_BERLIN order by record_time desc limit 2\", sqlite3.connect(\"UsedObjects.db\"))"
   ]
  },
  {
   "cell_type": "code",
   "execution_count": 3,
   "id": "periodic-identification",
   "metadata": {
    "execution": {
     "iopub.execute_input": "2021-08-24T20:00:08.365187Z",
     "iopub.status.busy": "2021-08-24T20:00:08.363186Z",
     "iopub.status.idle": "2021-08-24T20:00:08.384095Z",
     "shell.execute_reply": "2021-08-24T20:00:08.385374Z"
    },
    "papermill": {
     "duration": 0.066527,
     "end_time": "2021-08-24T20:00:08.385786",
     "exception": false,
     "start_time": "2021-08-24T20:00:08.319259",
     "status": "completed"
    },
    "tags": []
   },
   "outputs": [
    {
     "data": {
      "text/html": [
       "<div>\n",
       "<style scoped>\n",
       "    .dataframe tbody tr th:only-of-type {\n",
       "        vertical-align: middle;\n",
       "    }\n",
       "\n",
       "    .dataframe tbody tr th {\n",
       "        vertical-align: top;\n",
       "    }\n",
       "\n",
       "    .dataframe thead th {\n",
       "        text-align: right;\n",
       "    }\n",
       "</style>\n",
       "<table border=\"1\" class=\"dataframe\">\n",
       "  <thead>\n",
       "    <tr style=\"text-align: right;\">\n",
       "      <th></th>\n",
       "      <th>RECORD_TIME</th>\n",
       "    </tr>\n",
       "  </thead>\n",
       "  <tbody>\n",
       "    <tr>\n",
       "      <th>0</th>\n",
       "      <td>2021-08-24 22:00</td>\n",
       "    </tr>\n",
       "    <tr>\n",
       "      <th>1</th>\n",
       "      <td>2021-08-24 21:30</td>\n",
       "    </tr>\n",
       "  </tbody>\n",
       "</table>\n",
       "</div>"
      ],
      "text/plain": [
       "        RECORD_TIME\n",
       "0  2021-08-24 22:00\n",
       "1  2021-08-24 21:30"
      ]
     },
     "execution_count": 3,
     "metadata": {},
     "output_type": "execute_result"
    }
   ],
   "source": [
    "timestamps"
   ]
  },
  {
   "cell_type": "code",
   "execution_count": 4,
   "id": "alternate-victory",
   "metadata": {
    "execution": {
     "iopub.execute_input": "2021-08-24T20:00:08.436916Z",
     "iopub.status.busy": "2021-08-24T20:00:08.435107Z",
     "iopub.status.idle": "2021-08-24T20:00:08.613743Z",
     "shell.execute_reply": "2021-08-24T20:00:08.615034Z"
    },
    "papermill": {
     "duration": 0.208506,
     "end_time": "2021-08-24T20:00:08.615431",
     "exception": false,
     "start_time": "2021-08-24T20:00:08.406925",
     "status": "completed"
    },
    "tags": []
   },
   "outputs": [],
   "source": [
    "df = pd.read_sql(\"select * from EBAY_TOP_BERLIN where record_time in (select distinct record_time from EBAY_TOP_BERLIN order by record_time desc limit 2)\", sqlite3.connect(\"UsedObjects.db\"))"
   ]
  },
  {
   "cell_type": "code",
   "execution_count": 5,
   "id": "popular-active",
   "metadata": {
    "execution": {
     "iopub.execute_input": "2021-08-24T20:00:08.685146Z",
     "iopub.status.busy": "2021-08-24T20:00:08.672477Z",
     "iopub.status.idle": "2021-08-24T20:00:08.702830Z",
     "shell.execute_reply": "2021-08-24T20:00:08.704277Z"
    },
    "papermill": {
     "duration": 0.068973,
     "end_time": "2021-08-24T20:00:08.704717",
     "exception": false,
     "start_time": "2021-08-24T20:00:08.635744",
     "status": "completed"
    },
    "tags": []
   },
   "outputs": [],
   "source": [
    "df_pivot = df.pivot_table(index=\"PRODUCT\", columns = \"RECORD_TIME\", values = \"LISTING_COUNT\")"
   ]
  },
  {
   "cell_type": "code",
   "execution_count": 6,
   "id": "union-huntington",
   "metadata": {
    "execution": {
     "iopub.execute_input": "2021-08-24T20:00:08.762112Z",
     "iopub.status.busy": "2021-08-24T20:00:08.759656Z",
     "iopub.status.idle": "2021-08-24T20:00:08.765790Z",
     "shell.execute_reply": "2021-08-24T20:00:08.767301Z"
    },
    "papermill": {
     "duration": 0.042839,
     "end_time": "2021-08-24T20:00:08.767749",
     "exception": false,
     "start_time": "2021-08-24T20:00:08.724910",
     "status": "completed"
    },
    "tags": []
   },
   "outputs": [],
   "source": [
    "df_pivot.columns = [\"stamp_1\", \"stamp_2\"]\n",
    "df_pivot_diff = df_pivot.diff(axis=1)"
   ]
  },
  {
   "cell_type": "code",
   "execution_count": 7,
   "id": "fifth-motion",
   "metadata": {
    "execution": {
     "iopub.execute_input": "2021-08-24T20:00:08.821500Z",
     "iopub.status.busy": "2021-08-24T20:00:08.819109Z",
     "iopub.status.idle": "2021-08-24T20:00:10.330533Z",
     "shell.execute_reply": "2021-08-24T20:00:10.331856Z"
    },
    "papermill": {
     "duration": 1.543999,
     "end_time": "2021-08-24T20:00:10.332273",
     "exception": false,
     "start_time": "2021-08-24T20:00:08.788274",
     "status": "completed"
    },
    "tags": []
   },
   "outputs": [
    {
     "data": {
      "text/plain": [
       "<AxesSubplot:ylabel='PRODUCT'>"
      ]
     },
     "execution_count": 7,
     "metadata": {},
     "output_type": "execute_result"
    },
    {
     "data": {
      "image/png": "[encoded data removed]",
      "text/plain": [
       "<Figure size 432x288 with 1 Axes>"
      ]
     },
     "metadata": {
      "needs_background": "light"
     },
     "output_type": "display_data"
    }
   ],
   "source": [
    "df_pivot_diff.sort_values(\"stamp_2\", ascending = False)[\"stamp_2\"].head(10).plot.barh()"
   ]
  },
  {
   "cell_type": "code",
   "execution_count": null,
   "id": "extra-executive",
   "metadata": {
    "papermill": {
     "duration": 0.022158,
     "end_time": "2021-08-24T20:00:10.378233",
     "exception": false,
     "start_time": "2021-08-24T20:00:10.356075",
     "status": "completed"
    },
    "tags": []
   },
   "outputs": [],
   "source": []
  }
 ],
 "metadata": {
  "kernelspec": {
   "display_name": "Python 3",
   "language": "python",
   "name": "python3"
  },
  "language_info": {
   "codemirror_mode": {
    "name": "ipython",
    "version": 3
   },
   "file_extension": ".py",
   "mimetype": "text/x-python",
   "name": "python",
   "nbconvert_exporter": "python",
   "pygments_lexer": "ipython3",
   "version": "3.9.5"
  },
  "papermill": {
   "default_parameters": {},
   "duration": 6.826504,
   "end_time": "2021-08-24T20:00:11.680628",
   "environment_variables": {},
   "exception": null,
   "input_path": "eBay_Overview.ipynb",
   "output_path": "eBay_Overview.ipynb",
   "parameters": {},
   "start_time": "2021-08-24T20:00:04.854124",
   "version": "2.3.3"
  }
 },
 "nbformat": 4,
 "nbformat_minor": 5
}