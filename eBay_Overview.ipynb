{
 "cells": [
  {
   "cell_type": "code",
   "execution_count": 1,
   "id": "reverse-picking",
   "metadata": {
    "execution": {
     "iopub.execute_input": "2021-08-09T01:00:04.057797Z",
     "iopub.status.busy": "2021-08-09T01:00:04.057031Z",
     "iopub.status.idle": "2021-08-09T01:00:04.706145Z",
     "shell.execute_reply": "2021-08-09T01:00:04.705167Z"
    },
    "papermill": {
     "duration": 0.667826,
     "end_time": "2021-08-09T01:00:04.706402",
     "exception": false,
     "start_time": "2021-08-09T01:00:04.038576",
     "status": "completed"
    },
    "tags": []
   },
   "outputs": [],
   "source": [
    "import pandas as pd\n",
    "import sqlite3"
   ]
  },
  {
   "cell_type": "code",
   "execution_count": 2,
   "id": "innovative-syndrome",
   "metadata": {
    "execution": {
     "iopub.execute_input": "2021-08-09T01:00:04.730625Z",
     "iopub.status.busy": "2021-08-09T01:00:04.729244Z",
     "iopub.status.idle": "2021-08-09T01:00:04.925371Z",
     "shell.execute_reply": "2021-08-09T01:00:04.925905Z"
    },
    "papermill": {
     "duration": 0.209472,
     "end_time": "2021-08-09T01:00:04.926085",
     "exception": false,
     "start_time": "2021-08-09T01:00:04.716613",
     "status": "completed"
    },
    "tags": []
   },
   "outputs": [],
   "source": [
    "timestamps = pd.read_sql(\"select distinct record_time from EBAY_TOP_BERLIN order by record_time desc limit 2\", sqlite3.connect(\"UsedObjects.db\"))"
   ]
  },
  {
   "cell_type": "code",
   "execution_count": 3,
   "id": "periodic-identification",
   "metadata": {
    "execution": {
     "iopub.execute_input": "2021-08-09T01:00:04.963523Z",
     "iopub.status.busy": "2021-08-09T01:00:04.962442Z",
     "iopub.status.idle": "2021-08-09T01:00:04.973923Z",
     "shell.execute_reply": "2021-08-09T01:00:04.974453Z"
    },
    "papermill": {
     "duration": 0.039445,
     "end_time": "2021-08-09T01:00:04.974634",
     "exception": false,
     "start_time": "2021-08-09T01:00:04.935189",
     "status": "completed"
    },
    "tags": []
   },
   "outputs": [
    {
     "data": {
      "text/html": [
       "<div>\n",
       "<style scoped>\n",
       "    .dataframe tbody tr th:only-of-type {\n",
       "        vertical-align: middle;\n",
       "    }\n",
       "\n",
       "    .dataframe tbody tr th {\n",
       "        vertical-align: top;\n",
       "    }\n",
       "\n",
       "    .dataframe thead th {\n",
       "        text-align: right;\n",
       "    }\n",
       "</style>\n",
       "<table border=\"1\" class=\"dataframe\">\n",
       "  <thead>\n",
       "    <tr style=\"text-align: right;\">\n",
       "      <th></th>\n",
       "      <th>RECORD_TIME</th>\n",
       "    </tr>\n",
       "  </thead>\n",
       "  <tbody>\n",
       "    <tr>\n",
       "      <th>0</th>\n",
       "      <td>2021-08-09 03:00</td>\n",
       "    </tr>\n",
       "    <tr>\n",
       "      <th>1</th>\n",
       "      <td>2021-08-09 02:30</td>\n",
       "    </tr>\n",
       "  </tbody>\n",
       "</table>\n",
       "</div>"
      ],
      "text/plain": [
       "        RECORD_TIME\n",
       "0  2021-08-09 03:00\n",
       "1  2021-08-09 02:30"
      ]
     },
     "execution_count": 3,
     "metadata": {},
     "output_type": "execute_result"
    }
   ],
   "source": [
    "timestamps"
   ]
  },
  {
   "cell_type": "code",
   "execution_count": 4,
   "id": "alternate-victory",
   "metadata": {
    "execution": {
     "iopub.execute_input": "2021-08-09T01:00:04.996432Z",
     "iopub.status.busy": "2021-08-09T01:00:04.995677Z",
     "iopub.status.idle": "2021-08-09T01:00:05.006961Z",
     "shell.execute_reply": "2021-08-09T01:00:05.007719Z"
    },
    "papermill": {
     "duration": 0.024823,
     "end_time": "2021-08-09T01:00:05.007950",
     "exception": false,
     "start_time": "2021-08-09T01:00:04.983127",
     "status": "completed"
    },
    "tags": []
   },
   "outputs": [],
   "source": [
    "df = pd.read_sql(\"select * from EBAY_TOP_BERLIN where record_time in (select distinct record_time from EBAY_TOP_BERLIN order by record_time desc limit 2)\", sqlite3.connect(\"UsedObjects.db\"))"
   ]
  },
  {
   "cell_type": "code",
   "execution_count": 5,
   "id": "popular-active",
   "metadata": {
    "execution": {
     "iopub.execute_input": "2021-08-09T01:00:05.040523Z",
     "iopub.status.busy": "2021-08-09T01:00:05.039731Z",
     "iopub.status.idle": "2021-08-09T01:00:05.067865Z",
     "shell.execute_reply": "2021-08-09T01:00:05.066777Z"
    },
    "papermill": {
     "duration": 0.045566,
     "end_time": "2021-08-09T01:00:05.068146",
     "exception": false,
     "start_time": "2021-08-09T01:00:05.022580",
     "status": "completed"
    },
    "tags": []
   },
   "outputs": [],
   "source": [
    "df_pivot = df.pivot_table(index=\"PRODUCT\", columns = \"RECORD_TIME\", values = \"LISTING_COUNT\")"
   ]
  },
  {
   "cell_type": "code",
   "execution_count": 6,
   "id": "union-huntington",
   "metadata": {
    "execution": {
     "iopub.execute_input": "2021-08-09T01:00:05.094678Z",
     "iopub.status.busy": "2021-08-09T01:00:05.093993Z",
     "iopub.status.idle": "2021-08-09T01:00:05.100418Z",
     "shell.execute_reply": "2021-08-09T01:00:05.099811Z"
    },
    "papermill": {
     "duration": 0.021618,
     "end_time": "2021-08-09T01:00:05.100572",
     "exception": false,
     "start_time": "2021-08-09T01:00:05.078954",
     "status": "completed"
    },
    "tags": []
   },
   "outputs": [],
   "source": [
    "df_pivot.columns = [\"stamp_1\", \"stamp_2\"]\n",
    "df_pivot_diff = df_pivot.diff(axis=1)"
   ]
  },
  {
   "cell_type": "code",
   "execution_count": 7,
   "id": "fifth-motion",
   "metadata": {
    "execution": {
     "iopub.execute_input": "2021-08-09T01:00:05.133815Z",
     "iopub.status.busy": "2021-08-09T01:00:05.133020Z",
     "iopub.status.idle": "2021-08-09T01:00:05.857931Z",
     "shell.execute_reply": "2021-08-09T01:00:05.858467Z"
    },
    "papermill": {
     "duration": 0.748931,
     "end_time": "2021-08-09T01:00:05.858651",
     "exception": false,
     "start_time": "2021-08-09T01:00:05.109720",
     "status": "completed"
    },
    "tags": []
   },
   "outputs": [
    {
     "data": {
      "text/plain": [
       "<AxesSubplot:ylabel='PRODUCT'>"
      ]
     },
     "execution_count": 7,
     "metadata": {},
     "output_type": "execute_result"
    },
    {
     "data": {
      "image/png": "[encoded data removed]",
      "text/plain": [
       "<Figure size 432x288 with 1 Axes>"
      ]
     },
     "metadata": {
      "needs_background": "light"
     },
     "output_type": "display_data"
    }
   ],
   "source": [
    "df_pivot_diff.sort_values(\"stamp_2\", ascending = False)[\"stamp_2\"].head(10).plot.barh()"
   ]
  },
  {
   "cell_type": "code",
   "execution_count": null,
   "id": "extra-executive",
   "metadata": {
    "papermill": {
     "duration": 0.014392,
     "end_time": "2021-08-09T01:00:05.885630",
     "exception": false,
     "start_time": "2021-08-09T01:00:05.871238",
     "status": "completed"
    },
    "tags": []
   },
   "outputs": [],
   "source": []
  }
 ],
 "metadata": {
  "kernelspec": {
   "display_name": "Python 3",
   "language": "python",
   "name": "python3"
  },
  "language_info": {
   "codemirror_mode": {
    "name": "ipython",
    "version": 3
   },
   "file_extension": ".py",
   "mimetype": "text/x-python",
   "name": "python",
   "nbconvert_exporter": "python",
   "pygments_lexer": "ipython3",
   "version": "3.8.8"
  },
  "papermill": {
   "default_parameters": {},
   "duration": 4.285172,
   "end_time": "2021-08-09T01:00:06.633991",
   "environment_variables": {},
   "exception": null,
   "input_path": "/Users/saravananshanmugam/Carbonleakage_Git/UsedObjects/eBay_Overview.ipynb",
   "output_path": "/Users/saravananshanmugam/Carbonleakage_Git/UsedObjects/eBay_Overview.ipynb",
   "parameters": {},
   "start_time": "2021-08-09T01:00:02.348819",
   "version": "2.3.3"
  }
 },
 "nbformat": 4,
 "nbformat_minor": 5
}