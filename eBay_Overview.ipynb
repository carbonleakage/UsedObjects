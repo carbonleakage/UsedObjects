{
 "cells": [
  {
   "cell_type": "code",
   "execution_count": 1,
   "id": "reverse-picking",
   "metadata": {
    "execution": {
     "iopub.execute_input": "2021-09-03T04:30:06.664798Z",
     "iopub.status.busy": "2021-09-03T04:30:06.662796Z",
     "iopub.status.idle": "2021-09-03T04:30:07.466729Z",
     "shell.execute_reply": "2021-09-03T04:30:07.465125Z"
    },
    "papermill": {
     "duration": 0.856153,
     "end_time": "2021-09-03T04:30:07.467261",
     "exception": false,
     "start_time": "2021-09-03T04:30:06.611108",
     "status": "completed"
    },
    "tags": []
   },
   "outputs": [],
   "source": [
    "import pandas as pd\n",
    "import sqlite3"
   ]
  },
  {
   "cell_type": "code",
   "execution_count": 2,
   "id": "innovative-syndrome",
   "metadata": {
    "execution": {
     "iopub.execute_input": "2021-09-03T04:30:07.518136Z",
     "iopub.status.busy": "2021-09-03T04:30:07.515860Z",
     "iopub.status.idle": "2021-09-03T04:30:07.711728Z",
     "shell.execute_reply": "2021-09-03T04:30:07.712857Z"
    },
    "papermill": {
     "duration": 0.225925,
     "end_time": "2021-09-03T04:30:07.713269",
     "exception": false,
     "start_time": "2021-09-03T04:30:07.487344",
     "status": "completed"
    },
    "tags": []
   },
   "outputs": [],
   "source": [
    "timestamps = pd.read_sql(\"select distinct record_time from EBAY_TOP_BERLIN order by record_time desc limit 2\", sqlite3.connect(\"UsedObjects.db\"))"
   ]
  },
  {
   "cell_type": "code",
   "execution_count": 3,
   "id": "periodic-identification",
   "metadata": {
    "execution": {
     "iopub.execute_input": "2021-09-03T04:30:07.781008Z",
     "iopub.status.busy": "2021-09-03T04:30:07.779001Z",
     "iopub.status.idle": "2021-09-03T04:30:07.800038Z",
     "shell.execute_reply": "2021-09-03T04:30:07.801412Z"
    },
    "papermill": {
     "duration": 0.066273,
     "end_time": "2021-09-03T04:30:07.801851",
     "exception": false,
     "start_time": "2021-09-03T04:30:07.735578",
     "status": "completed"
    },
    "tags": []
   },
   "outputs": [
    {
     "data": {
      "text/html": [
       "<div>\n",
       "<style scoped>\n",
       "    .dataframe tbody tr th:only-of-type {\n",
       "        vertical-align: middle;\n",
       "    }\n",
       "\n",
       "    .dataframe tbody tr th {\n",
       "        vertical-align: top;\n",
       "    }\n",
       "\n",
       "    .dataframe thead th {\n",
       "        text-align: right;\n",
       "    }\n",
       "</style>\n",
       "<table border=\"1\" class=\"dataframe\">\n",
       "  <thead>\n",
       "    <tr style=\"text-align: right;\">\n",
       "      <th></th>\n",
       "      <th>RECORD_TIME</th>\n",
       "    </tr>\n",
       "  </thead>\n",
       "  <tbody>\n",
       "    <tr>\n",
       "      <th>0</th>\n",
       "      <td>2021-09-03 06:30</td>\n",
       "    </tr>\n",
       "    <tr>\n",
       "      <th>1</th>\n",
       "      <td>2021-09-03 06:00</td>\n",
       "    </tr>\n",
       "  </tbody>\n",
       "</table>\n",
       "</div>"
      ],
      "text/plain": [
       "        RECORD_TIME\n",
       "0  2021-09-03 06:30\n",
       "1  2021-09-03 06:00"
      ]
     },
     "execution_count": 3,
     "metadata": {},
     "output_type": "execute_result"
    }
   ],
   "source": [
    "timestamps"
   ]
  },
  {
   "cell_type": "code",
   "execution_count": 4,
   "id": "alternate-victory",
   "metadata": {
    "execution": {
     "iopub.execute_input": "2021-09-03T04:30:07.852656Z",
     "iopub.status.busy": "2021-09-03T04:30:07.850414Z",
     "iopub.status.idle": "2021-09-03T04:30:08.140928Z",
     "shell.execute_reply": "2021-09-03T04:30:08.139605Z"
    },
    "papermill": {
     "duration": 0.319145,
     "end_time": "2021-09-03T04:30:08.141264",
     "exception": false,
     "start_time": "2021-09-03T04:30:07.822119",
     "status": "completed"
    },
    "tags": []
   },
   "outputs": [],
   "source": [
    "df = pd.read_sql(\"select * from EBAY_TOP_BERLIN where record_time in (select distinct record_time from EBAY_TOP_BERLIN order by record_time desc limit 2)\", sqlite3.connect(\"UsedObjects.db\"))"
   ]
  },
  {
   "cell_type": "code",
   "execution_count": 5,
   "id": "popular-active",
   "metadata": {
    "execution": {
     "iopub.execute_input": "2021-09-03T04:30:08.221559Z",
     "iopub.status.busy": "2021-09-03T04:30:08.210427Z",
     "iopub.status.idle": "2021-09-03T04:30:08.237737Z",
     "shell.execute_reply": "2021-09-03T04:30:08.239130Z"
    },
    "papermill": {
     "duration": 0.072373,
     "end_time": "2021-09-03T04:30:08.239557",
     "exception": false,
     "start_time": "2021-09-03T04:30:08.167184",
     "status": "completed"
    },
    "tags": []
   },
   "outputs": [],
   "source": [
    "df_pivot = df.pivot_table(index=\"PRODUCT\", columns = \"RECORD_TIME\", values = \"LISTING_COUNT\")"
   ]
  },
  {
   "cell_type": "code",
   "execution_count": 6,
   "id": "union-huntington",
   "metadata": {
    "execution": {
     "iopub.execute_input": "2021-09-03T04:30:08.297237Z",
     "iopub.status.busy": "2021-09-03T04:30:08.294777Z",
     "iopub.status.idle": "2021-09-03T04:30:08.300963Z",
     "shell.execute_reply": "2021-09-03T04:30:08.302411Z"
    },
    "papermill": {
     "duration": 0.042317,
     "end_time": "2021-09-03T04:30:08.302916",
     "exception": false,
     "start_time": "2021-09-03T04:30:08.260599",
     "status": "completed"
    },
    "tags": []
   },
   "outputs": [],
   "source": [
    "df_pivot.columns = [\"stamp_1\", \"stamp_2\"]\n",
    "df_pivot_diff = df_pivot.diff(axis=1)"
   ]
  },
  {
   "cell_type": "code",
   "execution_count": 7,
   "id": "fifth-motion",
   "metadata": {
    "execution": {
     "iopub.execute_input": "2021-09-03T04:30:08.357385Z",
     "iopub.status.busy": "2021-09-03T04:30:08.355141Z",
     "iopub.status.idle": "2021-09-03T04:30:09.834805Z",
     "shell.execute_reply": "2021-09-03T04:30:09.836485Z"
    },
    "papermill": {
     "duration": 1.513087,
     "end_time": "2021-09-03T04:30:09.836982",
     "exception": false,
     "start_time": "2021-09-03T04:30:08.323895",
     "status": "completed"
    },
    "tags": []
   },
   "outputs": [
    {
     "data": {
      "text/plain": [
       "<AxesSubplot:ylabel='PRODUCT'>"
      ]
     },
     "execution_count": 7,
     "metadata": {},
     "output_type": "execute_result"
    },
    {
     "data": {
      "image/png": "[encoded data removed]",
      "text/plain": [
       "<Figure size 432x288 with 1 Axes>"
      ]
     },
     "metadata": {
      "needs_background": "light"
     },
     "output_type": "display_data"
    }
   ],
   "source": [
    "df_pivot_diff.sort_values(\"stamp_2\", ascending = False)[\"stamp_2\"].head(10).plot.barh()"
   ]
  },
  {
   "cell_type": "code",
   "execution_count": null,
   "id": "extra-executive",
   "metadata": {
    "papermill": {
     "duration": 0.021934,
     "end_time": "2021-09-03T04:30:09.882729",
     "exception": false,
     "start_time": "2021-09-03T04:30:09.860795",
     "status": "completed"
    },
    "tags": []
   },
   "outputs": [],
   "source": []
  }
 ],
 "metadata": {
  "kernelspec": {
   "display_name": "Python 3",
   "language": "python",
   "name": "python3"
  },
  "language_info": {
   "codemirror_mode": {
    "name": "ipython",
    "version": 3
   },
   "file_extension": ".py",
   "mimetype": "text/x-python",
   "name": "python",
   "nbconvert_exporter": "python",
   "pygments_lexer": "ipython3",
   "version": "3.9.5"
  },
  "papermill": {
   "default_parameters": {},
   "duration": 6.821938,
   "end_time": "2021-09-03T04:30:11.036520",
   "environment_variables": {},
   "exception": null,
   "input_path": "eBay_Overview.ipynb",
   "output_path": "eBay_Overview.ipynb",
   "parameters": {},
   "start_time": "2021-09-03T04:30:04.214582",
   "version": "2.3.3"
  }
 },
 "nbformat": 4,
 "nbformat_minor": 5
}