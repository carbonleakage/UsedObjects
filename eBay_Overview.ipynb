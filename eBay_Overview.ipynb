{
 "cells": [
  {
   "cell_type": "code",
   "execution_count": 1,
   "id": "reverse-picking",
   "metadata": {
    "execution": {
     "iopub.execute_input": "2021-09-21T19:00:07.417213Z",
     "iopub.status.busy": "2021-09-21T19:00:07.415305Z",
     "iopub.status.idle": "2021-09-21T19:00:08.218440Z",
     "shell.execute_reply": "2021-09-21T19:00:08.219865Z"
    },
    "papermill": {
     "duration": 0.857172,
     "end_time": "2021-09-21T19:00:08.220521",
     "exception": false,
     "start_time": "2021-09-21T19:00:07.363349",
     "status": "completed"
    },
    "tags": []
   },
   "outputs": [],
   "source": [
    "import pandas as pd\n",
    "import sqlite3"
   ]
  },
  {
   "cell_type": "code",
   "execution_count": 2,
   "id": "innovative-syndrome",
   "metadata": {
    "execution": {
     "iopub.execute_input": "2021-09-21T19:00:08.271429Z",
     "iopub.status.busy": "2021-09-21T19:00:08.269404Z",
     "iopub.status.idle": "2021-09-21T19:00:08.619676Z",
     "shell.execute_reply": "2021-09-21T19:00:08.620801Z"
    },
    "papermill": {
     "duration": 0.38039,
     "end_time": "2021-09-21T19:00:08.621214",
     "exception": false,
     "start_time": "2021-09-21T19:00:08.240824",
     "status": "completed"
    },
    "tags": []
   },
   "outputs": [],
   "source": [
    "timestamps = pd.read_sql(\"select distinct record_time from EBAY_TOP_BERLIN order by record_time desc limit 2\", sqlite3.connect(\"UsedObjects.db\"))"
   ]
  },
  {
   "cell_type": "code",
   "execution_count": 3,
   "id": "periodic-identification",
   "metadata": {
    "execution": {
     "iopub.execute_input": "2021-09-21T19:00:08.689703Z",
     "iopub.status.busy": "2021-09-21T19:00:08.687711Z",
     "iopub.status.idle": "2021-09-21T19:00:08.707421Z",
     "shell.execute_reply": "2021-09-21T19:00:08.708702Z"
    },
    "papermill": {
     "duration": 0.065481,
     "end_time": "2021-09-21T19:00:08.709119",
     "exception": false,
     "start_time": "2021-09-21T19:00:08.643638",
     "status": "completed"
    },
    "tags": []
   },
   "outputs": [
    {
     "data": {
      "text/html": [
       "<div>\n",
       "<style scoped>\n",
       "    .dataframe tbody tr th:only-of-type {\n",
       "        vertical-align: middle;\n",
       "    }\n",
       "\n",
       "    .dataframe tbody tr th {\n",
       "        vertical-align: top;\n",
       "    }\n",
       "\n",
       "    .dataframe thead th {\n",
       "        text-align: right;\n",
       "    }\n",
       "</style>\n",
       "<table border=\"1\" class=\"dataframe\">\n",
       "  <thead>\n",
       "    <tr style=\"text-align: right;\">\n",
       "      <th></th>\n",
       "      <th>RECORD_TIME</th>\n",
       "    </tr>\n",
       "  </thead>\n",
       "  <tbody>\n",
       "    <tr>\n",
       "      <th>0</th>\n",
       "      <td>2021-09-21 21:00</td>\n",
       "    </tr>\n",
       "    <tr>\n",
       "      <th>1</th>\n",
       "      <td>2021-09-21 20:30</td>\n",
       "    </tr>\n",
       "  </tbody>\n",
       "</table>\n",
       "</div>"
      ],
      "text/plain": [
       "        RECORD_TIME\n",
       "0  2021-09-21 21:00\n",
       "1  2021-09-21 20:30"
      ]
     },
     "execution_count": 3,
     "metadata": {},
     "output_type": "execute_result"
    }
   ],
   "source": [
    "timestamps"
   ]
  },
  {
   "cell_type": "code",
   "execution_count": 4,
   "id": "alternate-victory",
   "metadata": {
    "execution": {
     "iopub.execute_input": "2021-09-21T19:00:08.759638Z",
     "iopub.status.busy": "2021-09-21T19:00:08.757735Z",
     "iopub.status.idle": "2021-09-21T19:00:09.255897Z",
     "shell.execute_reply": "2021-09-21T19:00:09.257158Z"
    },
    "papermill": {
     "duration": 0.527933,
     "end_time": "2021-09-21T19:00:09.257555",
     "exception": false,
     "start_time": "2021-09-21T19:00:08.729622",
     "status": "completed"
    },
    "tags": []
   },
   "outputs": [],
   "source": [
    "df = pd.read_sql(\"select * from EBAY_TOP_BERLIN where record_time in (select distinct record_time from EBAY_TOP_BERLIN order by record_time desc limit 2)\", sqlite3.connect(\"UsedObjects.db\"))"
   ]
  },
  {
   "cell_type": "code",
   "execution_count": 5,
   "id": "popular-active",
   "metadata": {
    "execution": {
     "iopub.execute_input": "2021-09-21T19:00:09.336180Z",
     "iopub.status.busy": "2021-09-21T19:00:09.324462Z",
     "iopub.status.idle": "2021-09-21T19:00:09.353119Z",
     "shell.execute_reply": "2021-09-21T19:00:09.351804Z"
    },
    "papermill": {
     "duration": 0.070341,
     "end_time": "2021-09-21T19:00:09.353456",
     "exception": false,
     "start_time": "2021-09-21T19:00:09.283115",
     "status": "completed"
    },
    "tags": []
   },
   "outputs": [],
   "source": [
    "df_pivot = df.pivot_table(index=\"PRODUCT\", columns = \"RECORD_TIME\", values = \"LISTING_COUNT\")"
   ]
  },
  {
   "cell_type": "code",
   "execution_count": 6,
   "id": "union-huntington",
   "metadata": {
    "execution": {
     "iopub.execute_input": "2021-09-21T19:00:09.412616Z",
     "iopub.status.busy": "2021-09-21T19:00:09.410156Z",
     "iopub.status.idle": "2021-09-21T19:00:09.416222Z",
     "shell.execute_reply": "2021-09-21T19:00:09.417558Z"
    },
    "papermill": {
     "duration": 0.042406,
     "end_time": "2021-09-21T19:00:09.418033",
     "exception": false,
     "start_time": "2021-09-21T19:00:09.375627",
     "status": "completed"
    },
    "tags": []
   },
   "outputs": [],
   "source": [
    "df_pivot.columns = [\"stamp_1\", \"stamp_2\"]\n",
    "df_pivot_diff = df_pivot.diff(axis=1)"
   ]
  },
  {
   "cell_type": "code",
   "execution_count": 7,
   "id": "fifth-motion",
   "metadata": {
    "execution": {
     "iopub.execute_input": "2021-09-21T19:00:09.472889Z",
     "iopub.status.busy": "2021-09-21T19:00:09.470460Z",
     "iopub.status.idle": "2021-09-21T19:00:10.970377Z",
     "shell.execute_reply": "2021-09-21T19:00:10.971704Z"
    },
    "papermill": {
     "duration": 1.53256,
     "end_time": "2021-09-21T19:00:10.972126",
     "exception": false,
     "start_time": "2021-09-21T19:00:09.439566",
     "status": "completed"
    },
    "tags": []
   },
   "outputs": [
    {
     "data": {
      "text/plain": [
       "<AxesSubplot:ylabel='PRODUCT'>"
      ]
     },
     "execution_count": 7,
     "metadata": {},
     "output_type": "execute_result"
    },
    {
     "data": {
      "image/png": "[encoded data removed]",
      "text/plain": [
       "<Figure size 432x288 with 1 Axes>"
      ]
     },
     "metadata": {
      "needs_background": "light"
     },
     "output_type": "display_data"
    }
   ],
   "source": [
    "df_pivot_diff.sort_values(\"stamp_2\", ascending = False)[\"stamp_2\"].head(10).plot.barh()"
   ]
  },
  {
   "cell_type": "code",
   "execution_count": null,
   "id": "extra-executive",
   "metadata": {
    "papermill": {
     "duration": 0.022412,
     "end_time": "2021-09-21T19:00:11.019404",
     "exception": false,
     "start_time": "2021-09-21T19:00:10.996992",
     "status": "completed"
    },
    "tags": []
   },
   "outputs": [],
   "source": []
  }
 ],
 "metadata": {
  "kernelspec": {
   "display_name": "Python 3",
   "language": "python",
   "name": "python3"
  },
  "language_info": {
   "codemirror_mode": {
    "name": "ipython",
    "version": 3
   },
   "file_extension": ".py",
   "mimetype": "text/x-python",
   "name": "python",
   "nbconvert_exporter": "python",
   "pygments_lexer": "ipython3",
   "version": "3.9.5"
  },
  "papermill": {
   "default_parameters": {},
   "duration": 6.700905,
   "end_time": "2021-09-21T19:00:11.663088",
   "environment_variables": {},
   "exception": null,
   "input_path": "eBay_Overview.ipynb",
   "output_path": "eBay_Overview.ipynb",
   "parameters": {},
   "start_time": "2021-09-21T19:00:04.962183",
   "version": "2.3.3"
  }
 },
 "nbformat": 4,
 "nbformat_minor": 5
}