{
 "cells": [
  {
   "cell_type": "code",
   "execution_count": 1,
   "id": "reverse-picking",
   "metadata": {
    "execution": {
     "iopub.execute_input": "2021-11-17T20:00:08.008875Z",
     "iopub.status.busy": "2021-11-17T20:00:08.006064Z",
     "iopub.status.idle": "2021-11-17T20:00:08.950055Z",
     "shell.execute_reply": "2021-11-17T20:00:08.951606Z"
    },
    "papermill": {
     "duration": 0.992596,
     "end_time": "2021-11-17T20:00:08.952359",
     "exception": false,
     "start_time": "2021-11-17T20:00:07.959763",
     "status": "completed"
    },
    "tags": []
   },
   "outputs": [],
   "source": [
    "import pandas as pd\n",
    "import sqlite3"
   ]
  },
  {
   "cell_type": "code",
   "execution_count": 2,
   "id": "innovative-syndrome",
   "metadata": {
    "execution": {
     "iopub.execute_input": "2021-11-17T20:00:09.009709Z",
     "iopub.status.busy": "2021-11-17T20:00:09.007408Z",
     "iopub.status.idle": "2021-11-17T20:00:09.847267Z",
     "shell.execute_reply": "2021-11-17T20:00:09.848901Z"
    },
    "papermill": {
     "duration": 0.874715,
     "end_time": "2021-11-17T20:00:09.849411",
     "exception": false,
     "start_time": "2021-11-17T20:00:08.974696",
     "status": "completed"
    },
    "tags": []
   },
   "outputs": [],
   "source": [
    "timestamps = pd.read_sql(\"select distinct record_time from EBAY_TOP_BERLIN order by record_time desc limit 2\", sqlite3.connect(\"UsedObjects.db\"))"
   ]
  },
  {
   "cell_type": "code",
   "execution_count": 3,
   "id": "periodic-identification",
   "metadata": {
    "execution": {
     "iopub.execute_input": "2021-11-17T20:00:09.920646Z",
     "iopub.status.busy": "2021-11-17T20:00:09.918394Z",
     "iopub.status.idle": "2021-11-17T20:00:09.940737Z",
     "shell.execute_reply": "2021-11-17T20:00:09.942244Z"
    },
    "papermill": {
     "duration": 0.072073,
     "end_time": "2021-11-17T20:00:09.942752",
     "exception": false,
     "start_time": "2021-11-17T20:00:09.870679",
     "status": "completed"
    },
    "tags": []
   },
   "outputs": [
    {
     "data": {
      "text/html": [
       "<div>\n",
       "<style scoped>\n",
       "    .dataframe tbody tr th:only-of-type {\n",
       "        vertical-align: middle;\n",
       "    }\n",
       "\n",
       "    .dataframe tbody tr th {\n",
       "        vertical-align: top;\n",
       "    }\n",
       "\n",
       "    .dataframe thead th {\n",
       "        text-align: right;\n",
       "    }\n",
       "</style>\n",
       "<table border=\"1\" class=\"dataframe\">\n",
       "  <thead>\n",
       "    <tr style=\"text-align: right;\">\n",
       "      <th></th>\n",
       "      <th>RECORD_TIME</th>\n",
       "    </tr>\n",
       "  </thead>\n",
       "  <tbody>\n",
       "    <tr>\n",
       "      <th>0</th>\n",
       "      <td>2021-11-17 21:00</td>\n",
       "    </tr>\n",
       "    <tr>\n",
       "      <th>1</th>\n",
       "      <td>2021-11-17 20:30</td>\n",
       "    </tr>\n",
       "  </tbody>\n",
       "</table>\n",
       "</div>"
      ],
      "text/plain": [
       "        RECORD_TIME\n",
       "0  2021-11-17 21:00\n",
       "1  2021-11-17 20:30"
      ]
     },
     "execution_count": 3,
     "metadata": {},
     "output_type": "execute_result"
    }
   ],
   "source": [
    "timestamps"
   ]
  },
  {
   "cell_type": "code",
   "execution_count": 4,
   "id": "alternate-victory",
   "metadata": {
    "execution": {
     "iopub.execute_input": "2021-11-17T20:00:09.999430Z",
     "iopub.status.busy": "2021-11-17T20:00:09.997280Z",
     "iopub.status.idle": "2021-11-17T20:00:11.238577Z",
     "shell.execute_reply": "2021-11-17T20:00:11.239801Z"
    },
    "papermill": {
     "duration": 1.276097,
     "end_time": "2021-11-17T20:00:11.240205",
     "exception": false,
     "start_time": "2021-11-17T20:00:09.964108",
     "status": "completed"
    },
    "tags": []
   },
   "outputs": [],
   "source": [
    "df = pd.read_sql(\"select * from EBAY_TOP_BERLIN where record_time in (select distinct record_time from EBAY_TOP_BERLIN order by record_time desc limit 2)\", sqlite3.connect(\"UsedObjects.db\"))"
   ]
  },
  {
   "cell_type": "code",
   "execution_count": 5,
   "id": "popular-active",
   "metadata": {
    "execution": {
     "iopub.execute_input": "2021-11-17T20:00:11.313466Z",
     "iopub.status.busy": "2021-11-17T20:00:11.304808Z",
     "iopub.status.idle": "2021-11-17T20:00:11.331175Z",
     "shell.execute_reply": "2021-11-17T20:00:11.332491Z"
    },
    "papermill": {
     "duration": 0.072148,
     "end_time": "2021-11-17T20:00:11.333022",
     "exception": false,
     "start_time": "2021-11-17T20:00:11.260874",
     "status": "completed"
    },
    "tags": []
   },
   "outputs": [],
   "source": [
    "df_pivot = df.pivot_table(index=\"PRODUCT\", columns = \"RECORD_TIME\", values = \"LISTING_COUNT\")"
   ]
  },
  {
   "cell_type": "code",
   "execution_count": 6,
   "id": "union-huntington",
   "metadata": {
    "execution": {
     "iopub.execute_input": "2021-11-17T20:00:11.396486Z",
     "iopub.status.busy": "2021-11-17T20:00:11.394223Z",
     "iopub.status.idle": "2021-11-17T20:00:11.400386Z",
     "shell.execute_reply": "2021-11-17T20:00:11.402148Z"
    },
    "papermill": {
     "duration": 0.049637,
     "end_time": "2021-11-17T20:00:11.402666",
     "exception": false,
     "start_time": "2021-11-17T20:00:11.353029",
     "status": "completed"
    },
    "tags": []
   },
   "outputs": [],
   "source": [
    "df_pivot.columns = [\"stamp_1\", \"stamp_2\"]\n",
    "df_pivot_diff = df_pivot.diff(axis=1)"
   ]
  },
  {
   "cell_type": "code",
   "execution_count": 7,
   "id": "fifth-motion",
   "metadata": {
    "execution": {
     "iopub.execute_input": "2021-11-17T20:00:11.457297Z",
     "iopub.status.busy": "2021-11-17T20:00:11.455004Z",
     "iopub.status.idle": "2021-11-17T20:00:13.186537Z",
     "shell.execute_reply": "2021-11-17T20:00:13.188336Z"
    },
    "papermill": {
     "duration": 1.76491,
     "end_time": "2021-11-17T20:00:13.188950",
     "exception": false,
     "start_time": "2021-11-17T20:00:11.424040",
     "status": "completed"
    },
    "tags": []
   },
   "outputs": [
    {
     "data": {
      "text/plain": [
       "<AxesSubplot:ylabel='PRODUCT'>"
      ]
     },
     "execution_count": 7,
     "metadata": {},
     "output_type": "execute_result"
    },
    {
     "data": {
      "image/png": "[encoded data removed]",
      "text/plain": [
       "<Figure size 432x288 with 1 Axes>"
      ]
     },
     "metadata": {
      "needs_background": "light"
     },
     "output_type": "display_data"
    }
   ],
   "source": [
    "df_pivot_diff.sort_values(\"stamp_2\", ascending = False)[\"stamp_2\"].head(10).plot.barh()"
   ]
  },
  {
   "cell_type": "code",
   "execution_count": null,
   "id": "extra-executive",
   "metadata": {
    "papermill": {
     "duration": 0.023967,
     "end_time": "2021-11-17T20:00:13.237875",
     "exception": false,
     "start_time": "2021-11-17T20:00:13.213908",
     "status": "completed"
    },
    "tags": []
   },
   "outputs": [],
   "source": []
  }
 ],
 "metadata": {
  "kernelspec": {
   "display_name": "Python 3",
   "language": "python",
   "name": "python3"
  },
  "language_info": {
   "codemirror_mode": {
    "name": "ipython",
    "version": 3
   },
   "file_extension": ".py",
   "mimetype": "text/x-python",
   "name": "python",
   "nbconvert_exporter": "python",
   "pygments_lexer": "ipython3",
   "version": "3.9.5"
  },
  "papermill": {
   "default_parameters": {},
   "duration": 8.788257,
   "end_time": "2021-11-17T20:00:13.982605",
   "environment_variables": {},
   "exception": null,
   "input_path": "eBay_Overview.ipynb",
   "output_path": "eBay_Overview.ipynb",
   "parameters": {},
   "start_time": "2021-11-17T20:00:05.194348",
   "version": "2.3.3"
  }
 },
 "nbformat": 4,
 "nbformat_minor": 5
}