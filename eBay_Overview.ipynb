{
 "cells": [
  {
   "cell_type": "code",
   "execution_count": 1,
   "id": "reverse-picking",
   "metadata": {
    "execution": {
     "iopub.execute_input": "2021-08-11T20:00:03.832258Z",
     "iopub.status.busy": "2021-08-11T20:00:03.831487Z",
     "iopub.status.idle": "2021-08-11T20:00:04.445159Z",
     "shell.execute_reply": "2021-08-11T20:00:04.443713Z"
    },
    "papermill": {
     "duration": 0.632403,
     "end_time": "2021-08-11T20:00:04.445480",
     "exception": false,
     "start_time": "2021-08-11T20:00:03.813077",
     "status": "completed"
    },
    "tags": []
   },
   "outputs": [],
   "source": [
    "import pandas as pd\n",
    "import sqlite3"
   ]
  },
  {
   "cell_type": "code",
   "execution_count": 2,
   "id": "innovative-syndrome",
   "metadata": {
    "execution": {
     "iopub.execute_input": "2021-08-11T20:00:04.478991Z",
     "iopub.status.busy": "2021-08-11T20:00:04.478218Z",
     "iopub.status.idle": "2021-08-11T20:00:04.674730Z",
     "shell.execute_reply": "2021-08-11T20:00:04.675298Z"
    },
    "papermill": {
     "duration": 0.215737,
     "end_time": "2021-08-11T20:00:04.675495",
     "exception": false,
     "start_time": "2021-08-11T20:00:04.459758",
     "status": "completed"
    },
    "tags": []
   },
   "outputs": [],
   "source": [
    "timestamps = pd.read_sql(\"select distinct record_time from EBAY_TOP_BERLIN order by record_time desc limit 2\", sqlite3.connect(\"UsedObjects.db\"))"
   ]
  },
  {
   "cell_type": "code",
   "execution_count": 3,
   "id": "periodic-identification",
   "metadata": {
    "execution": {
     "iopub.execute_input": "2021-08-11T20:00:04.711334Z",
     "iopub.status.busy": "2021-08-11T20:00:04.710550Z",
     "iopub.status.idle": "2021-08-11T20:00:04.721216Z",
     "shell.execute_reply": "2021-08-11T20:00:04.721742Z"
    },
    "papermill": {
     "duration": 0.036223,
     "end_time": "2021-08-11T20:00:04.721922",
     "exception": false,
     "start_time": "2021-08-11T20:00:04.685699",
     "status": "completed"
    },
    "tags": []
   },
   "outputs": [
    {
     "data": {
      "text/html": [
       "<div>\n",
       "<style scoped>\n",
       "    .dataframe tbody tr th:only-of-type {\n",
       "        vertical-align: middle;\n",
       "    }\n",
       "\n",
       "    .dataframe tbody tr th {\n",
       "        vertical-align: top;\n",
       "    }\n",
       "\n",
       "    .dataframe thead th {\n",
       "        text-align: right;\n",
       "    }\n",
       "</style>\n",
       "<table border=\"1\" class=\"dataframe\">\n",
       "  <thead>\n",
       "    <tr style=\"text-align: right;\">\n",
       "      <th></th>\n",
       "      <th>RECORD_TIME</th>\n",
       "    </tr>\n",
       "  </thead>\n",
       "  <tbody>\n",
       "    <tr>\n",
       "      <th>0</th>\n",
       "      <td>2021-08-11 22:00</td>\n",
       "    </tr>\n",
       "    <tr>\n",
       "      <th>1</th>\n",
       "      <td>2021-08-11 21:30</td>\n",
       "    </tr>\n",
       "  </tbody>\n",
       "</table>\n",
       "</div>"
      ],
      "text/plain": [
       "        RECORD_TIME\n",
       "0  2021-08-11 22:00\n",
       "1  2021-08-11 21:30"
      ]
     },
     "execution_count": 3,
     "metadata": {},
     "output_type": "execute_result"
    }
   ],
   "source": [
    "timestamps"
   ]
  },
  {
   "cell_type": "code",
   "execution_count": 4,
   "id": "alternate-victory",
   "metadata": {
    "execution": {
     "iopub.execute_input": "2021-08-11T20:00:04.752984Z",
     "iopub.status.busy": "2021-08-11T20:00:04.751299Z",
     "iopub.status.idle": "2021-08-11T20:00:04.781646Z",
     "shell.execute_reply": "2021-08-11T20:00:04.782976Z"
    },
    "papermill": {
     "duration": 0.051027,
     "end_time": "2021-08-11T20:00:04.783305",
     "exception": false,
     "start_time": "2021-08-11T20:00:04.732278",
     "status": "completed"
    },
    "tags": []
   },
   "outputs": [],
   "source": [
    "df = pd.read_sql(\"select * from EBAY_TOP_BERLIN where record_time in (select distinct record_time from EBAY_TOP_BERLIN order by record_time desc limit 2)\", sqlite3.connect(\"UsedObjects.db\"))"
   ]
  },
  {
   "cell_type": "code",
   "execution_count": 5,
   "id": "popular-active",
   "metadata": {
    "execution": {
     "iopub.execute_input": "2021-08-11T20:00:04.812879Z",
     "iopub.status.busy": "2021-08-11T20:00:04.811732Z",
     "iopub.status.idle": "2021-08-11T20:00:04.830567Z",
     "shell.execute_reply": "2021-08-11T20:00:04.829818Z"
    },
    "papermill": {
     "duration": 0.036331,
     "end_time": "2021-08-11T20:00:04.830730",
     "exception": false,
     "start_time": "2021-08-11T20:00:04.794399",
     "status": "completed"
    },
    "tags": []
   },
   "outputs": [],
   "source": [
    "df_pivot = df.pivot_table(index=\"PRODUCT\", columns = \"RECORD_TIME\", values = \"LISTING_COUNT\")"
   ]
  },
  {
   "cell_type": "code",
   "execution_count": 6,
   "id": "union-huntington",
   "metadata": {
    "execution": {
     "iopub.execute_input": "2021-08-11T20:00:04.860684Z",
     "iopub.status.busy": "2021-08-11T20:00:04.856322Z",
     "iopub.status.idle": "2021-08-11T20:00:04.866209Z",
     "shell.execute_reply": "2021-08-11T20:00:04.866735Z"
    },
    "papermill": {
     "duration": 0.027833,
     "end_time": "2021-08-11T20:00:04.866916",
     "exception": false,
     "start_time": "2021-08-11T20:00:04.839083",
     "status": "completed"
    },
    "tags": []
   },
   "outputs": [],
   "source": [
    "df_pivot.columns = [\"stamp_1\", \"stamp_2\"]\n",
    "df_pivot_diff = df_pivot.diff(axis=1)"
   ]
  },
  {
   "cell_type": "code",
   "execution_count": 7,
   "id": "fifth-motion",
   "metadata": {
    "execution": {
     "iopub.execute_input": "2021-08-11T20:00:04.892464Z",
     "iopub.status.busy": "2021-08-11T20:00:04.891682Z",
     "iopub.status.idle": "2021-08-11T20:00:05.559373Z",
     "shell.execute_reply": "2021-08-11T20:00:05.559902Z"
    },
    "papermill": {
     "duration": 0.684968,
     "end_time": "2021-08-11T20:00:05.560083",
     "exception": false,
     "start_time": "2021-08-11T20:00:04.875115",
     "status": "completed"
    },
    "tags": []
   },
   "outputs": [
    {
     "data": {
      "text/plain": [
       "<AxesSubplot:ylabel='PRODUCT'>"
      ]
     },
     "execution_count": 7,
     "metadata": {},
     "output_type": "execute_result"
    },
    {
     "data": {
      "image/png": "[encoded data removed]",
      "text/plain": [
       "<Figure size 432x288 with 1 Axes>"
      ]
     },
     "metadata": {
      "needs_background": "light"
     },
     "output_type": "display_data"
    }
   ],
   "source": [
    "df_pivot_diff.sort_values(\"stamp_2\", ascending = False)[\"stamp_2\"].head(10).plot.barh()"
   ]
  },
  {
   "cell_type": "code",
   "execution_count": null,
   "id": "extra-executive",
   "metadata": {
    "papermill": {
     "duration": 0.009419,
     "end_time": "2021-08-11T20:00:05.579240",
     "exception": false,
     "start_time": "2021-08-11T20:00:05.569821",
     "status": "completed"
    },
    "tags": []
   },
   "outputs": [],
   "source": []
  }
 ],
 "metadata": {
  "kernelspec": {
   "display_name": "Python 3",
   "language": "python",
   "name": "python3"
  },
  "language_info": {
   "codemirror_mode": {
    "name": "ipython",
    "version": 3
   },
   "file_extension": ".py",
   "mimetype": "text/x-python",
   "name": "python",
   "nbconvert_exporter": "python",
   "pygments_lexer": "ipython3",
   "version": "3.8.8"
  },
  "papermill": {
   "default_parameters": {},
   "duration": 4.896668,
   "end_time": "2021-08-11T20:00:07.065169",
   "environment_variables": {},
   "exception": null,
   "input_path": "/Users/saravananshanmugam/Carbonleakage_Git/UsedObjects/eBay_Overview.ipynb",
   "output_path": "/Users/saravananshanmugam/Carbonleakage_Git/UsedObjects/eBay_Overview.ipynb",
   "parameters": {},
   "start_time": "2021-08-11T20:00:02.168501",
   "version": "2.3.3"
  }
 },
 "nbformat": 4,
 "nbformat_minor": 5
}