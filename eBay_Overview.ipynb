{
 "cells": [
  {
   "cell_type": "code",
   "execution_count": 1,
   "id": "reverse-picking",
   "metadata": {
    "execution": {
     "iopub.execute_input": "2021-10-01T17:00:06.523991Z",
     "iopub.status.busy": "2021-10-01T17:00:06.521971Z",
     "iopub.status.idle": "2021-10-01T17:00:07.326622Z",
     "shell.execute_reply": "2021-10-01T17:00:07.327983Z"
    },
    "papermill": {
     "duration": 0.85388,
     "end_time": "2021-10-01T17:00:07.328607",
     "exception": false,
     "start_time": "2021-10-01T17:00:06.474727",
     "status": "completed"
    },
    "tags": []
   },
   "outputs": [],
   "source": [
    "import pandas as pd\n",
    "import sqlite3"
   ]
  },
  {
   "cell_type": "code",
   "execution_count": 2,
   "id": "innovative-syndrome",
   "metadata": {
    "execution": {
     "iopub.execute_input": "2021-10-01T17:00:07.381413Z",
     "iopub.status.busy": "2021-10-01T17:00:07.379219Z",
     "iopub.status.idle": "2021-10-01T17:00:07.808446Z",
     "shell.execute_reply": "2021-10-01T17:00:07.809676Z"
    },
    "papermill": {
     "duration": 0.459016,
     "end_time": "2021-10-01T17:00:07.810081",
     "exception": false,
     "start_time": "2021-10-01T17:00:07.351065",
     "status": "completed"
    },
    "tags": []
   },
   "outputs": [],
   "source": [
    "timestamps = pd.read_sql(\"select distinct record_time from EBAY_TOP_BERLIN order by record_time desc limit 2\", sqlite3.connect(\"UsedObjects.db\"))"
   ]
  },
  {
   "cell_type": "code",
   "execution_count": 3,
   "id": "periodic-identification",
   "metadata": {
    "execution": {
     "iopub.execute_input": "2021-10-01T17:00:07.878614Z",
     "iopub.status.busy": "2021-10-01T17:00:07.873513Z",
     "iopub.status.idle": "2021-10-01T17:00:07.893344Z",
     "shell.execute_reply": "2021-10-01T17:00:07.894566Z"
    },
    "papermill": {
     "duration": 0.065492,
     "end_time": "2021-10-01T17:00:07.895170",
     "exception": false,
     "start_time": "2021-10-01T17:00:07.829678",
     "status": "completed"
    },
    "tags": []
   },
   "outputs": [
    {
     "data": {
      "text/html": [
       "<div>\n",
       "<style scoped>\n",
       "    .dataframe tbody tr th:only-of-type {\n",
       "        vertical-align: middle;\n",
       "    }\n",
       "\n",
       "    .dataframe tbody tr th {\n",
       "        vertical-align: top;\n",
       "    }\n",
       "\n",
       "    .dataframe thead th {\n",
       "        text-align: right;\n",
       "    }\n",
       "</style>\n",
       "<table border=\"1\" class=\"dataframe\">\n",
       "  <thead>\n",
       "    <tr style=\"text-align: right;\">\n",
       "      <th></th>\n",
       "      <th>RECORD_TIME</th>\n",
       "    </tr>\n",
       "  </thead>\n",
       "  <tbody>\n",
       "    <tr>\n",
       "      <th>0</th>\n",
       "      <td>2021-10-01 19:00</td>\n",
       "    </tr>\n",
       "    <tr>\n",
       "      <th>1</th>\n",
       "      <td>2021-10-01 18:30</td>\n",
       "    </tr>\n",
       "  </tbody>\n",
       "</table>\n",
       "</div>"
      ],
      "text/plain": [
       "        RECORD_TIME\n",
       "0  2021-10-01 19:00\n",
       "1  2021-10-01 18:30"
      ]
     },
     "execution_count": 3,
     "metadata": {},
     "output_type": "execute_result"
    }
   ],
   "source": [
    "timestamps"
   ]
  },
  {
   "cell_type": "code",
   "execution_count": 4,
   "id": "alternate-victory",
   "metadata": {
    "execution": {
     "iopub.execute_input": "2021-10-01T17:00:07.948904Z",
     "iopub.status.busy": "2021-10-01T17:00:07.946656Z",
     "iopub.status.idle": "2021-10-01T17:00:08.560121Z",
     "shell.execute_reply": "2021-10-01T17:00:08.561350Z"
    },
    "papermill": {
     "duration": 0.643895,
     "end_time": "2021-10-01T17:00:08.561750",
     "exception": false,
     "start_time": "2021-10-01T17:00:07.917855",
     "status": "completed"
    },
    "tags": []
   },
   "outputs": [],
   "source": [
    "df = pd.read_sql(\"select * from EBAY_TOP_BERLIN where record_time in (select distinct record_time from EBAY_TOP_BERLIN order by record_time desc limit 2)\", sqlite3.connect(\"UsedObjects.db\"))"
   ]
  },
  {
   "cell_type": "code",
   "execution_count": 5,
   "id": "popular-active",
   "metadata": {
    "execution": {
     "iopub.execute_input": "2021-10-01T17:00:08.642273Z",
     "iopub.status.busy": "2021-10-01T17:00:08.630650Z",
     "iopub.status.idle": "2021-10-01T17:00:08.660439Z",
     "shell.execute_reply": "2021-10-01T17:00:08.661820Z"
    },
    "papermill": {
     "duration": 0.074572,
     "end_time": "2021-10-01T17:00:08.662258",
     "exception": false,
     "start_time": "2021-10-01T17:00:08.587686",
     "status": "completed"
    },
    "tags": []
   },
   "outputs": [],
   "source": [
    "df_pivot = df.pivot_table(index=\"PRODUCT\", columns = \"RECORD_TIME\", values = \"LISTING_COUNT\")"
   ]
  },
  {
   "cell_type": "code",
   "execution_count": 6,
   "id": "union-huntington",
   "metadata": {
    "execution": {
     "iopub.execute_input": "2021-10-01T17:00:08.718863Z",
     "iopub.status.busy": "2021-10-01T17:00:08.716731Z",
     "iopub.status.idle": "2021-10-01T17:00:08.723340Z",
     "shell.execute_reply": "2021-10-01T17:00:08.721866Z"
    },
    "papermill": {
     "duration": 0.041114,
     "end_time": "2021-10-01T17:00:08.723710",
     "exception": false,
     "start_time": "2021-10-01T17:00:08.682596",
     "status": "completed"
    },
    "tags": []
   },
   "outputs": [],
   "source": [
    "df_pivot.columns = [\"stamp_1\", \"stamp_2\"]\n",
    "df_pivot_diff = df_pivot.diff(axis=1)"
   ]
  },
  {
   "cell_type": "code",
   "execution_count": 7,
   "id": "fifth-motion",
   "metadata": {
    "execution": {
     "iopub.execute_input": "2021-10-01T17:00:08.777534Z",
     "iopub.status.busy": "2021-10-01T17:00:08.775149Z",
     "iopub.status.idle": "2021-10-01T17:00:10.279340Z",
     "shell.execute_reply": "2021-10-01T17:00:10.280940Z"
    },
    "papermill": {
     "duration": 1.537391,
     "end_time": "2021-10-01T17:00:10.281464",
     "exception": false,
     "start_time": "2021-10-01T17:00:08.744073",
     "status": "completed"
    },
    "tags": []
   },
   "outputs": [
    {
     "data": {
      "text/plain": [
       "<AxesSubplot:ylabel='PRODUCT'>"
      ]
     },
     "execution_count": 7,
     "metadata": {},
     "output_type": "execute_result"
    },
    {
     "data": {
      "image/png": "[encoded data removed]",
      "text/plain": [
       "<Figure size 432x288 with 1 Axes>"
      ]
     },
     "metadata": {
      "needs_background": "light"
     },
     "output_type": "display_data"
    }
   ],
   "source": [
    "df_pivot_diff.sort_values(\"stamp_2\", ascending = False)[\"stamp_2\"].head(10).plot.barh()"
   ]
  },
  {
   "cell_type": "code",
   "execution_count": null,
   "id": "extra-executive",
   "metadata": {
    "papermill": {
     "duration": 0.022552,
     "end_time": "2021-10-01T17:00:10.328472",
     "exception": false,
     "start_time": "2021-10-01T17:00:10.305920",
     "status": "completed"
    },
    "tags": []
   },
   "outputs": [],
   "source": []
  }
 ],
 "metadata": {
  "kernelspec": {
   "display_name": "Python 3",
   "language": "python",
   "name": "python3"
  },
  "language_info": {
   "codemirror_mode": {
    "name": "ipython",
    "version": 3
   },
   "file_extension": ".py",
   "mimetype": "text/x-python",
   "name": "python",
   "nbconvert_exporter": "python",
   "pygments_lexer": "ipython3",
   "version": "3.9.5"
  },
  "papermill": {
   "default_parameters": {},
   "duration": 7.821326,
   "end_time": "2021-10-01T17:00:11.888687",
   "environment_variables": {},
   "exception": null,
   "input_path": "eBay_Overview.ipynb",
   "output_path": "eBay_Overview.ipynb",
   "parameters": {},
   "start_time": "2021-10-01T17:00:04.067361",
   "version": "2.3.3"
  }
 },
 "nbformat": 4,
 "nbformat_minor": 5
}