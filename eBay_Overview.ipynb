{
 "cells": [
  {
   "cell_type": "code",
   "execution_count": 1,
   "id": "reverse-picking",
   "metadata": {
    "execution": {
     "iopub.execute_input": "2021-10-22T18:30:07.168777Z",
     "iopub.status.busy": "2021-10-22T18:30:07.166804Z",
     "iopub.status.idle": "2021-10-22T18:30:07.972998Z",
     "shell.execute_reply": "2021-10-22T18:30:07.974357Z"
    },
    "papermill": {
     "duration": 0.859089,
     "end_time": "2021-10-22T18:30:07.975012",
     "exception": false,
     "start_time": "2021-10-22T18:30:07.115923",
     "status": "completed"
    },
    "tags": []
   },
   "outputs": [],
   "source": [
    "import pandas as pd\n",
    "import sqlite3"
   ]
  },
  {
   "cell_type": "code",
   "execution_count": 2,
   "id": "innovative-syndrome",
   "metadata": {
    "execution": {
     "iopub.execute_input": "2021-10-22T18:30:08.025353Z",
     "iopub.status.busy": "2021-10-22T18:30:08.023391Z",
     "iopub.status.idle": "2021-10-22T18:30:08.618886Z",
     "shell.execute_reply": "2021-10-22T18:30:08.620073Z"
    },
    "papermill": {
     "duration": 0.625026,
     "end_time": "2021-10-22T18:30:08.620469",
     "exception": false,
     "start_time": "2021-10-22T18:30:07.995443",
     "status": "completed"
    },
    "tags": []
   },
   "outputs": [],
   "source": [
    "timestamps = pd.read_sql(\"select distinct record_time from EBAY_TOP_BERLIN order by record_time desc limit 2\", sqlite3.connect(\"UsedObjects.db\"))"
   ]
  },
  {
   "cell_type": "code",
   "execution_count": 3,
   "id": "periodic-identification",
   "metadata": {
    "execution": {
     "iopub.execute_input": "2021-10-22T18:30:08.696237Z",
     "iopub.status.busy": "2021-10-22T18:30:08.694211Z",
     "iopub.status.idle": "2021-10-22T18:30:08.714170Z",
     "shell.execute_reply": "2021-10-22T18:30:08.715467Z"
    },
    "papermill": {
     "duration": 0.070457,
     "end_time": "2021-10-22T18:30:08.715885",
     "exception": false,
     "start_time": "2021-10-22T18:30:08.645428",
     "status": "completed"
    },
    "tags": []
   },
   "outputs": [
    {
     "data": {
      "text/html": [
       "<div>\n",
       "<style scoped>\n",
       "    .dataframe tbody tr th:only-of-type {\n",
       "        vertical-align: middle;\n",
       "    }\n",
       "\n",
       "    .dataframe tbody tr th {\n",
       "        vertical-align: top;\n",
       "    }\n",
       "\n",
       "    .dataframe thead th {\n",
       "        text-align: right;\n",
       "    }\n",
       "</style>\n",
       "<table border=\"1\" class=\"dataframe\">\n",
       "  <thead>\n",
       "    <tr style=\"text-align: right;\">\n",
       "      <th></th>\n",
       "      <th>RECORD_TIME</th>\n",
       "    </tr>\n",
       "  </thead>\n",
       "  <tbody>\n",
       "    <tr>\n",
       "      <th>0</th>\n",
       "      <td>2021-10-22 20:30</td>\n",
       "    </tr>\n",
       "    <tr>\n",
       "      <th>1</th>\n",
       "      <td>2021-10-22 20:00</td>\n",
       "    </tr>\n",
       "  </tbody>\n",
       "</table>\n",
       "</div>"
      ],
      "text/plain": [
       "        RECORD_TIME\n",
       "0  2021-10-22 20:30\n",
       "1  2021-10-22 20:00"
      ]
     },
     "execution_count": 3,
     "metadata": {},
     "output_type": "execute_result"
    }
   ],
   "source": [
    "timestamps"
   ]
  },
  {
   "cell_type": "code",
   "execution_count": 4,
   "id": "alternate-victory",
   "metadata": {
    "execution": {
     "iopub.execute_input": "2021-10-22T18:30:08.767971Z",
     "iopub.status.busy": "2021-10-22T18:30:08.765696Z",
     "iopub.status.idle": "2021-10-22T18:30:09.652997Z",
     "shell.execute_reply": "2021-10-22T18:30:09.654415Z"
    },
    "papermill": {
     "duration": 0.917986,
     "end_time": "2021-10-22T18:30:09.654857",
     "exception": false,
     "start_time": "2021-10-22T18:30:08.736871",
     "status": "completed"
    },
    "tags": []
   },
   "outputs": [],
   "source": [
    "df = pd.read_sql(\"select * from EBAY_TOP_BERLIN where record_time in (select distinct record_time from EBAY_TOP_BERLIN order by record_time desc limit 2)\", sqlite3.connect(\"UsedObjects.db\"))"
   ]
  },
  {
   "cell_type": "code",
   "execution_count": 5,
   "id": "popular-active",
   "metadata": {
    "execution": {
     "iopub.execute_input": "2021-10-22T18:30:09.726602Z",
     "iopub.status.busy": "2021-10-22T18:30:09.714382Z",
     "iopub.status.idle": "2021-10-22T18:30:09.742241Z",
     "shell.execute_reply": "2021-10-22T18:30:09.743446Z"
    },
    "papermill": {
     "duration": 0.067823,
     "end_time": "2021-10-22T18:30:09.743843",
     "exception": false,
     "start_time": "2021-10-22T18:30:09.676020",
     "status": "completed"
    },
    "tags": []
   },
   "outputs": [],
   "source": [
    "df_pivot = df.pivot_table(index=\"PRODUCT\", columns = \"RECORD_TIME\", values = \"LISTING_COUNT\")"
   ]
  },
  {
   "cell_type": "code",
   "execution_count": 6,
   "id": "union-huntington",
   "metadata": {
    "execution": {
     "iopub.execute_input": "2021-10-22T18:30:09.803502Z",
     "iopub.status.busy": "2021-10-22T18:30:09.801091Z",
     "iopub.status.idle": "2021-10-22T18:30:09.806791Z",
     "shell.execute_reply": "2021-10-22T18:30:09.808051Z"
    },
    "papermill": {
     "duration": 0.042067,
     "end_time": "2021-10-22T18:30:09.808465",
     "exception": false,
     "start_time": "2021-10-22T18:30:09.766398",
     "status": "completed"
    },
    "tags": []
   },
   "outputs": [],
   "source": [
    "df_pivot.columns = [\"stamp_1\", \"stamp_2\"]\n",
    "df_pivot_diff = df_pivot.diff(axis=1)"
   ]
  },
  {
   "cell_type": "code",
   "execution_count": 7,
   "id": "fifth-motion",
   "metadata": {
    "execution": {
     "iopub.execute_input": "2021-10-22T18:30:09.864075Z",
     "iopub.status.busy": "2021-10-22T18:30:09.861722Z",
     "iopub.status.idle": "2021-10-22T18:30:11.348471Z",
     "shell.execute_reply": "2021-10-22T18:30:11.349980Z"
    },
    "papermill": {
     "duration": 1.52102,
     "end_time": "2021-10-22T18:30:11.350443",
     "exception": false,
     "start_time": "2021-10-22T18:30:09.829423",
     "status": "completed"
    },
    "tags": []
   },
   "outputs": [
    {
     "data": {
      "text/plain": [
       "<AxesSubplot:ylabel='PRODUCT'>"
      ]
     },
     "execution_count": 7,
     "metadata": {},
     "output_type": "execute_result"
    },
    {
     "data": {
      "image/png": "[encoded data removed]",
      "text/plain": [
       "<Figure size 432x288 with 1 Axes>"
      ]
     },
     "metadata": {
      "needs_background": "light"
     },
     "output_type": "display_data"
    }
   ],
   "source": [
    "df_pivot_diff.sort_values(\"stamp_2\", ascending = False)[\"stamp_2\"].head(10).plot.barh()"
   ]
  },
  {
   "cell_type": "code",
   "execution_count": null,
   "id": "extra-executive",
   "metadata": {
    "papermill": {
     "duration": 0.022401,
     "end_time": "2021-10-22T18:30:11.397645",
     "exception": false,
     "start_time": "2021-10-22T18:30:11.375244",
     "status": "completed"
    },
    "tags": []
   },
   "outputs": [],
   "source": []
  }
 ],
 "metadata": {
  "kernelspec": {
   "display_name": "Python 3",
   "language": "python",
   "name": "python3"
  },
  "language_info": {
   "codemirror_mode": {
    "name": "ipython",
    "version": 3
   },
   "file_extension": ".py",
   "mimetype": "text/x-python",
   "name": "python",
   "nbconvert_exporter": "python",
   "pygments_lexer": "ipython3",
   "version": "3.9.5"
  },
  "papermill": {
   "default_parameters": {},
   "duration": 7.329888,
   "end_time": "2021-10-22T18:30:12.041843",
   "environment_variables": {},
   "exception": null,
   "input_path": "eBay_Overview.ipynb",
   "output_path": "eBay_Overview.ipynb",
   "parameters": {},
   "start_time": "2021-10-22T18:30:04.711955",
   "version": "2.3.3"
  }
 },
 "nbformat": 4,
 "nbformat_minor": 5
}