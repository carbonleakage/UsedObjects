{
 "cells": [
  {
   "cell_type": "code",
   "execution_count": 1,
   "id": "reverse-picking",
   "metadata": {
    "execution": {
     "iopub.execute_input": "2021-11-04T07:30:08.642474Z",
     "iopub.status.busy": "2021-11-04T07:30:08.639953Z",
     "iopub.status.idle": "2021-11-04T07:30:09.606069Z",
     "shell.execute_reply": "2021-11-04T07:30:09.607436Z"
    },
    "papermill": {
     "duration": 1.015077,
     "end_time": "2021-11-04T07:30:09.608201",
     "exception": false,
     "start_time": "2021-11-04T07:30:08.593124",
     "status": "completed"
    },
    "tags": []
   },
   "outputs": [],
   "source": [
    "import pandas as pd\n",
    "import sqlite3"
   ]
  },
  {
   "cell_type": "code",
   "execution_count": 2,
   "id": "innovative-syndrome",
   "metadata": {
    "execution": {
     "iopub.execute_input": "2021-11-04T07:30:09.670953Z",
     "iopub.status.busy": "2021-11-04T07:30:09.668882Z",
     "iopub.status.idle": "2021-11-04T07:30:10.379477Z",
     "shell.execute_reply": "2021-11-04T07:30:10.380887Z"
    },
    "papermill": {
     "duration": 0.742924,
     "end_time": "2021-11-04T07:30:10.381379",
     "exception": false,
     "start_time": "2021-11-04T07:30:09.638455",
     "status": "completed"
    },
    "tags": []
   },
   "outputs": [],
   "source": [
    "timestamps = pd.read_sql(\"select distinct record_time from EBAY_TOP_BERLIN order by record_time desc limit 2\", sqlite3.connect(\"UsedObjects.db\"))"
   ]
  },
  {
   "cell_type": "code",
   "execution_count": 3,
   "id": "periodic-identification",
   "metadata": {
    "execution": {
     "iopub.execute_input": "2021-11-04T07:30:10.453239Z",
     "iopub.status.busy": "2021-11-04T07:30:10.450732Z",
     "iopub.status.idle": "2021-11-04T07:30:10.476406Z",
     "shell.execute_reply": "2021-11-04T07:30:10.478808Z"
    },
    "papermill": {
     "duration": 0.078255,
     "end_time": "2021-11-04T07:30:10.479224",
     "exception": false,
     "start_time": "2021-11-04T07:30:10.400969",
     "status": "completed"
    },
    "tags": []
   },
   "outputs": [
    {
     "data": {
      "text/html": [
       "<div>\n",
       "<style scoped>\n",
       "    .dataframe tbody tr th:only-of-type {\n",
       "        vertical-align: middle;\n",
       "    }\n",
       "\n",
       "    .dataframe tbody tr th {\n",
       "        vertical-align: top;\n",
       "    }\n",
       "\n",
       "    .dataframe thead th {\n",
       "        text-align: right;\n",
       "    }\n",
       "</style>\n",
       "<table border=\"1\" class=\"dataframe\">\n",
       "  <thead>\n",
       "    <tr style=\"text-align: right;\">\n",
       "      <th></th>\n",
       "      <th>RECORD_TIME</th>\n",
       "    </tr>\n",
       "  </thead>\n",
       "  <tbody>\n",
       "    <tr>\n",
       "      <th>0</th>\n",
       "      <td>2021-11-04 08:30</td>\n",
       "    </tr>\n",
       "    <tr>\n",
       "      <th>1</th>\n",
       "      <td>2021-11-04 08:00</td>\n",
       "    </tr>\n",
       "  </tbody>\n",
       "</table>\n",
       "</div>"
      ],
      "text/plain": [
       "        RECORD_TIME\n",
       "0  2021-11-04 08:30\n",
       "1  2021-11-04 08:00"
      ]
     },
     "execution_count": 3,
     "metadata": {},
     "output_type": "execute_result"
    }
   ],
   "source": [
    "timestamps"
   ]
  },
  {
   "cell_type": "code",
   "execution_count": 4,
   "id": "alternate-victory",
   "metadata": {
    "execution": {
     "iopub.execute_input": "2021-11-04T07:30:10.542648Z",
     "iopub.status.busy": "2021-11-04T07:30:10.540407Z",
     "iopub.status.idle": "2021-11-04T07:30:11.591207Z",
     "shell.execute_reply": "2021-11-04T07:30:11.593401Z"
    },
    "papermill": {
     "duration": 1.092667,
     "end_time": "2021-11-04T07:30:11.593878",
     "exception": false,
     "start_time": "2021-11-04T07:30:10.501211",
     "status": "completed"
    },
    "tags": []
   },
   "outputs": [],
   "source": [
    "df = pd.read_sql(\"select * from EBAY_TOP_BERLIN where record_time in (select distinct record_time from EBAY_TOP_BERLIN order by record_time desc limit 2)\", sqlite3.connect(\"UsedObjects.db\"))"
   ]
  },
  {
   "cell_type": "code",
   "execution_count": 5,
   "id": "popular-active",
   "metadata": {
    "execution": {
     "iopub.execute_input": "2021-11-04T07:30:11.670022Z",
     "iopub.status.busy": "2021-11-04T07:30:11.661814Z",
     "iopub.status.idle": "2021-11-04T07:30:11.689694Z",
     "shell.execute_reply": "2021-11-04T07:30:11.691575Z"
    },
    "papermill": {
     "duration": 0.077576,
     "end_time": "2021-11-04T07:30:11.692126",
     "exception": false,
     "start_time": "2021-11-04T07:30:11.614550",
     "status": "completed"
    },
    "tags": []
   },
   "outputs": [],
   "source": [
    "df_pivot = df.pivot_table(index=\"PRODUCT\", columns = \"RECORD_TIME\", values = \"LISTING_COUNT\")"
   ]
  },
  {
   "cell_type": "code",
   "execution_count": 6,
   "id": "union-huntington",
   "metadata": {
    "execution": {
     "iopub.execute_input": "2021-11-04T07:30:11.756369Z",
     "iopub.status.busy": "2021-11-04T07:30:11.753877Z",
     "iopub.status.idle": "2021-11-04T07:30:11.760217Z",
     "shell.execute_reply": "2021-11-04T07:30:11.762121Z"
    },
    "papermill": {
     "duration": 0.046487,
     "end_time": "2021-11-04T07:30:11.762745",
     "exception": false,
     "start_time": "2021-11-04T07:30:11.716258",
     "status": "completed"
    },
    "tags": []
   },
   "outputs": [],
   "source": [
    "df_pivot.columns = [\"stamp_1\", \"stamp_2\"]\n",
    "df_pivot_diff = df_pivot.diff(axis=1)"
   ]
  },
  {
   "cell_type": "code",
   "execution_count": 7,
   "id": "fifth-motion",
   "metadata": {
    "execution": {
     "iopub.execute_input": "2021-11-04T07:30:11.824425Z",
     "iopub.status.busy": "2021-11-04T07:30:11.822048Z",
     "iopub.status.idle": "2021-11-04T07:30:13.859491Z",
     "shell.execute_reply": "2021-11-04T07:30:13.860823Z"
    },
    "papermill": {
     "duration": 2.073701,
     "end_time": "2021-11-04T07:30:13.861293",
     "exception": false,
     "start_time": "2021-11-04T07:30:11.787592",
     "status": "completed"
    },
    "tags": []
   },
   "outputs": [
    {
     "data": {
      "text/plain": [
       "<AxesSubplot:ylabel='PRODUCT'>"
      ]
     },
     "execution_count": 7,
     "metadata": {},
     "output_type": "execute_result"
    },
    {
     "data": {
      "image/png": "[encoded data removed]",
      "text/plain": [
       "<Figure size 432x288 with 1 Axes>"
      ]
     },
     "metadata": {
      "needs_background": "light"
     },
     "output_type": "display_data"
    }
   ],
   "source": [
    "df_pivot_diff.sort_values(\"stamp_2\", ascending = False)[\"stamp_2\"].head(10).plot.barh()"
   ]
  },
  {
   "cell_type": "code",
   "execution_count": null,
   "id": "extra-executive",
   "metadata": {
    "papermill": {
     "duration": 0.022226,
     "end_time": "2021-11-04T07:30:13.908540",
     "exception": false,
     "start_time": "2021-11-04T07:30:13.886314",
     "status": "completed"
    },
    "tags": []
   },
   "outputs": [],
   "source": []
  }
 ],
 "metadata": {
  "kernelspec": {
   "display_name": "Python 3",
   "language": "python",
   "name": "python3"
  },
  "language_info": {
   "codemirror_mode": {
    "name": "ipython",
    "version": 3
   },
   "file_extension": ".py",
   "mimetype": "text/x-python",
   "name": "python",
   "nbconvert_exporter": "python",
   "pygments_lexer": "ipython3",
   "version": "3.9.5"
  },
  "papermill": {
   "default_parameters": {},
   "duration": 8.733714,
   "end_time": "2021-11-04T07:30:14.549700",
   "environment_variables": {},
   "exception": null,
   "input_path": "eBay_Overview.ipynb",
   "output_path": "eBay_Overview.ipynb",
   "parameters": {},
   "start_time": "2021-11-04T07:30:05.815986",
   "version": "2.3.3"
  }
 },
 "nbformat": 4,
 "nbformat_minor": 5
}