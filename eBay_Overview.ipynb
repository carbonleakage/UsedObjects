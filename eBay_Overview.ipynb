{
 "cells": [
  {
   "cell_type": "code",
   "execution_count": 1,
   "id": "reverse-picking",
   "metadata": {
    "execution": {
     "iopub.execute_input": "2021-11-11T02:00:07.231537Z",
     "iopub.status.busy": "2021-11-11T02:00:07.229222Z",
     "iopub.status.idle": "2021-11-11T02:00:08.199183Z",
     "shell.execute_reply": "2021-11-11T02:00:08.197203Z"
    },
    "papermill": {
     "duration": 1.016251,
     "end_time": "2021-11-11T02:00:08.199703",
     "exception": false,
     "start_time": "2021-11-11T02:00:07.183452",
     "status": "completed"
    },
    "tags": []
   },
   "outputs": [],
   "source": [
    "import pandas as pd\n",
    "import sqlite3"
   ]
  },
  {
   "cell_type": "code",
   "execution_count": 2,
   "id": "innovative-syndrome",
   "metadata": {
    "execution": {
     "iopub.execute_input": "2021-11-11T02:00:08.264407Z",
     "iopub.status.busy": "2021-11-11T02:00:08.262223Z",
     "iopub.status.idle": "2021-11-11T02:00:09.122828Z",
     "shell.execute_reply": "2021-11-11T02:00:09.124362Z"
    },
    "papermill": {
     "duration": 0.894604,
     "end_time": "2021-11-11T02:00:09.124898",
     "exception": false,
     "start_time": "2021-11-11T02:00:08.230294",
     "status": "completed"
    },
    "tags": []
   },
   "outputs": [],
   "source": [
    "timestamps = pd.read_sql(\"select distinct record_time from EBAY_TOP_BERLIN order by record_time desc limit 2\", sqlite3.connect(\"UsedObjects.db\"))"
   ]
  },
  {
   "cell_type": "code",
   "execution_count": 3,
   "id": "periodic-identification",
   "metadata": {
    "execution": {
     "iopub.execute_input": "2021-11-11T02:00:09.202002Z",
     "iopub.status.busy": "2021-11-11T02:00:09.194739Z",
     "iopub.status.idle": "2021-11-11T02:00:09.223607Z",
     "shell.execute_reply": "2021-11-11T02:00:09.225366Z"
    },
    "papermill": {
     "duration": 0.079923,
     "end_time": "2021-11-11T02:00:09.225891",
     "exception": false,
     "start_time": "2021-11-11T02:00:09.145968",
     "status": "completed"
    },
    "tags": []
   },
   "outputs": [
    {
     "data": {
      "text/html": [
       "<div>\n",
       "<style scoped>\n",
       "    .dataframe tbody tr th:only-of-type {\n",
       "        vertical-align: middle;\n",
       "    }\n",
       "\n",
       "    .dataframe tbody tr th {\n",
       "        vertical-align: top;\n",
       "    }\n",
       "\n",
       "    .dataframe thead th {\n",
       "        text-align: right;\n",
       "    }\n",
       "</style>\n",
       "<table border=\"1\" class=\"dataframe\">\n",
       "  <thead>\n",
       "    <tr style=\"text-align: right;\">\n",
       "      <th></th>\n",
       "      <th>RECORD_TIME</th>\n",
       "    </tr>\n",
       "  </thead>\n",
       "  <tbody>\n",
       "    <tr>\n",
       "      <th>0</th>\n",
       "      <td>2021-11-11 03:00</td>\n",
       "    </tr>\n",
       "    <tr>\n",
       "      <th>1</th>\n",
       "      <td>2021-11-11 02:30</td>\n",
       "    </tr>\n",
       "  </tbody>\n",
       "</table>\n",
       "</div>"
      ],
      "text/plain": [
       "        RECORD_TIME\n",
       "0  2021-11-11 03:00\n",
       "1  2021-11-11 02:30"
      ]
     },
     "execution_count": 3,
     "metadata": {},
     "output_type": "execute_result"
    }
   ],
   "source": [
    "timestamps"
   ]
  },
  {
   "cell_type": "code",
   "execution_count": 4,
   "id": "alternate-victory",
   "metadata": {
    "execution": {
     "iopub.execute_input": "2021-11-11T02:00:09.286032Z",
     "iopub.status.busy": "2021-11-11T02:00:09.283420Z",
     "iopub.status.idle": "2021-11-11T02:00:10.420326Z",
     "shell.execute_reply": "2021-11-11T02:00:10.422706Z"
    },
    "papermill": {
     "duration": 1.174134,
     "end_time": "2021-11-11T02:00:10.423211",
     "exception": false,
     "start_time": "2021-11-11T02:00:09.249077",
     "status": "completed"
    },
    "tags": []
   },
   "outputs": [],
   "source": [
    "df = pd.read_sql(\"select * from EBAY_TOP_BERLIN where record_time in (select distinct record_time from EBAY_TOP_BERLIN order by record_time desc limit 2)\", sqlite3.connect(\"UsedObjects.db\"))"
   ]
  },
  {
   "cell_type": "code",
   "execution_count": 5,
   "id": "popular-active",
   "metadata": {
    "execution": {
     "iopub.execute_input": "2021-11-11T02:00:10.498191Z",
     "iopub.status.busy": "2021-11-11T02:00:10.485269Z",
     "iopub.status.idle": "2021-11-11T02:00:10.516421Z",
     "shell.execute_reply": "2021-11-11T02:00:10.517970Z"
    },
    "papermill": {
     "duration": 0.073846,
     "end_time": "2021-11-11T02:00:10.518429",
     "exception": false,
     "start_time": "2021-11-11T02:00:10.444583",
     "status": "completed"
    },
    "tags": []
   },
   "outputs": [],
   "source": [
    "df_pivot = df.pivot_table(index=\"PRODUCT\", columns = \"RECORD_TIME\", values = \"LISTING_COUNT\")"
   ]
  },
  {
   "cell_type": "code",
   "execution_count": 6,
   "id": "union-huntington",
   "metadata": {
    "execution": {
     "iopub.execute_input": "2021-11-11T02:00:10.589272Z",
     "iopub.status.busy": "2021-11-11T02:00:10.585490Z",
     "iopub.status.idle": "2021-11-11T02:00:10.594847Z",
     "shell.execute_reply": "2021-11-11T02:00:10.597609Z"
    },
    "papermill": {
     "duration": 0.059001,
     "end_time": "2021-11-11T02:00:10.598491",
     "exception": false,
     "start_time": "2021-11-11T02:00:10.539490",
     "status": "completed"
    },
    "tags": []
   },
   "outputs": [],
   "source": [
    "df_pivot.columns = [\"stamp_1\", \"stamp_2\"]\n",
    "df_pivot_diff = df_pivot.diff(axis=1)"
   ]
  },
  {
   "cell_type": "code",
   "execution_count": 7,
   "id": "fifth-motion",
   "metadata": {
    "execution": {
     "iopub.execute_input": "2021-11-11T02:00:10.677061Z",
     "iopub.status.busy": "2021-11-11T02:00:10.674327Z",
     "iopub.status.idle": "2021-11-11T02:00:12.527042Z",
     "shell.execute_reply": "2021-11-11T02:00:12.529646Z"
    },
    "papermill": {
     "duration": 1.899487,
     "end_time": "2021-11-11T02:00:12.530418",
     "exception": false,
     "start_time": "2021-11-11T02:00:10.630931",
     "status": "completed"
    },
    "tags": []
   },
   "outputs": [
    {
     "data": {
      "text/plain": [
       "<AxesSubplot:ylabel='PRODUCT'>"
      ]
     },
     "execution_count": 7,
     "metadata": {},
     "output_type": "execute_result"
    },
    {
     "data": {
      "image/png": "[encoded data removed]",
      "text/plain": [
       "<Figure size 432x288 with 1 Axes>"
      ]
     },
     "metadata": {
      "needs_background": "light"
     },
     "output_type": "display_data"
    }
   ],
   "source": [
    "df_pivot_diff.sort_values(\"stamp_2\", ascending = False)[\"stamp_2\"].head(10).plot.barh()"
   ]
  },
  {
   "cell_type": "code",
   "execution_count": null,
   "id": "extra-executive",
   "metadata": {
    "papermill": {
     "duration": 0.029739,
     "end_time": "2021-11-11T02:00:12.591301",
     "exception": false,
     "start_time": "2021-11-11T02:00:12.561562",
     "status": "completed"
    },
    "tags": []
   },
   "outputs": [],
   "source": []
  }
 ],
 "metadata": {
  "kernelspec": {
   "display_name": "Python 3",
   "language": "python",
   "name": "python3"
  },
  "language_info": {
   "codemirror_mode": {
    "name": "ipython",
    "version": 3
   },
   "file_extension": ".py",
   "mimetype": "text/x-python",
   "name": "python",
   "nbconvert_exporter": "python",
   "pygments_lexer": "ipython3",
   "version": "3.9.5"
  },
  "papermill": {
   "default_parameters": {},
   "duration": 9.937099,
   "end_time": "2021-11-11T02:00:14.368425",
   "environment_variables": {},
   "exception": null,
   "input_path": "eBay_Overview.ipynb",
   "output_path": "eBay_Overview.ipynb",
   "parameters": {},
   "start_time": "2021-11-11T02:00:04.431326",
   "version": "2.3.3"
  }
 },
 "nbformat": 4,
 "nbformat_minor": 5
}