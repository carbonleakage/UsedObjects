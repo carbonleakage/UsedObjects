{
 "cells": [
  {
   "cell_type": "code",
   "execution_count": 1,
   "id": "reverse-picking",
   "metadata": {
    "execution": {
     "iopub.execute_input": "2021-11-30T19:30:07.402732Z",
     "iopub.status.busy": "2021-11-30T19:30:07.400178Z",
     "iopub.status.idle": "2021-11-30T19:30:08.362656Z",
     "shell.execute_reply": "2021-11-30T19:30:08.364213Z"
    },
    "papermill": {
     "duration": 1.013944,
     "end_time": "2021-11-30T19:30:08.365005",
     "exception": false,
     "start_time": "2021-11-30T19:30:07.351061",
     "status": "completed"
    },
    "tags": []
   },
   "outputs": [],
   "source": [
    "import pandas as pd\n",
    "import sqlite3"
   ]
  },
  {
   "cell_type": "code",
   "execution_count": 2,
   "id": "innovative-syndrome",
   "metadata": {
    "execution": {
     "iopub.execute_input": "2021-11-30T19:30:08.427467Z",
     "iopub.status.busy": "2021-11-30T19:30:08.425356Z",
     "iopub.status.idle": "2021-11-30T19:30:09.409378Z",
     "shell.execute_reply": "2021-11-30T19:30:09.407808Z"
    },
    "papermill": {
     "duration": 1.016324,
     "end_time": "2021-11-30T19:30:09.409787",
     "exception": false,
     "start_time": "2021-11-30T19:30:08.393463",
     "status": "completed"
    },
    "tags": []
   },
   "outputs": [],
   "source": [
    "timestamps = pd.read_sql(\"select distinct record_time from EBAY_TOP_BERLIN order by record_time desc limit 2\", sqlite3.connect(\"UsedObjects.db\"))"
   ]
  },
  {
   "cell_type": "code",
   "execution_count": 3,
   "id": "periodic-identification",
   "metadata": {
    "execution": {
     "iopub.execute_input": "2021-11-30T19:30:09.465973Z",
     "iopub.status.busy": "2021-11-30T19:30:09.463529Z",
     "iopub.status.idle": "2021-11-30T19:30:09.498369Z",
     "shell.execute_reply": "2021-11-30T19:30:09.499670Z"
    },
    "papermill": {
     "duration": 0.070257,
     "end_time": "2021-11-30T19:30:09.500089",
     "exception": false,
     "start_time": "2021-11-30T19:30:09.429832",
     "status": "completed"
    },
    "tags": []
   },
   "outputs": [
    {
     "data": {
      "text/html": [
       "<div>\n",
       "<style scoped>\n",
       "    .dataframe tbody tr th:only-of-type {\n",
       "        vertical-align: middle;\n",
       "    }\n",
       "\n",
       "    .dataframe tbody tr th {\n",
       "        vertical-align: top;\n",
       "    }\n",
       "\n",
       "    .dataframe thead th {\n",
       "        text-align: right;\n",
       "    }\n",
       "</style>\n",
       "<table border=\"1\" class=\"dataframe\">\n",
       "  <thead>\n",
       "    <tr style=\"text-align: right;\">\n",
       "      <th></th>\n",
       "      <th>RECORD_TIME</th>\n",
       "    </tr>\n",
       "  </thead>\n",
       "  <tbody>\n",
       "    <tr>\n",
       "      <th>0</th>\n",
       "      <td>2021-11-30 20:30</td>\n",
       "    </tr>\n",
       "    <tr>\n",
       "      <th>1</th>\n",
       "      <td>2021-11-30 20:00</td>\n",
       "    </tr>\n",
       "  </tbody>\n",
       "</table>\n",
       "</div>"
      ],
      "text/plain": [
       "        RECORD_TIME\n",
       "0  2021-11-30 20:30\n",
       "1  2021-11-30 20:00"
      ]
     },
     "execution_count": 3,
     "metadata": {},
     "output_type": "execute_result"
    }
   ],
   "source": [
    "timestamps"
   ]
  },
  {
   "cell_type": "code",
   "execution_count": 4,
   "id": "alternate-victory",
   "metadata": {
    "execution": {
     "iopub.execute_input": "2021-11-30T19:30:09.550661Z",
     "iopub.status.busy": "2021-11-30T19:30:09.548796Z",
     "iopub.status.idle": "2021-11-30T19:30:10.944056Z",
     "shell.execute_reply": "2021-11-30T19:30:10.946244Z"
    },
    "papermill": {
     "duration": 1.426247,
     "end_time": "2021-11-30T19:30:10.946724",
     "exception": false,
     "start_time": "2021-11-30T19:30:09.520477",
     "status": "completed"
    },
    "tags": []
   },
   "outputs": [],
   "source": [
    "df = pd.read_sql(\"select * from EBAY_TOP_BERLIN where record_time in (select distinct record_time from EBAY_TOP_BERLIN order by record_time desc limit 2)\", sqlite3.connect(\"UsedObjects.db\"))"
   ]
  },
  {
   "cell_type": "code",
   "execution_count": 5,
   "id": "popular-active",
   "metadata": {
    "execution": {
     "iopub.execute_input": "2021-11-30T19:30:11.026878Z",
     "iopub.status.busy": "2021-11-30T19:30:11.011312Z",
     "iopub.status.idle": "2021-11-30T19:30:11.047460Z",
     "shell.execute_reply": "2021-11-30T19:30:11.045708Z"
    },
    "papermill": {
     "duration": 0.08072,
     "end_time": "2021-11-30T19:30:11.047921",
     "exception": false,
     "start_time": "2021-11-30T19:30:10.967201",
     "status": "completed"
    },
    "tags": []
   },
   "outputs": [],
   "source": [
    "df_pivot = df.pivot_table(index=\"PRODUCT\", columns = \"RECORD_TIME\", values = \"LISTING_COUNT\")"
   ]
  },
  {
   "cell_type": "code",
   "execution_count": 6,
   "id": "union-huntington",
   "metadata": {
    "execution": {
     "iopub.execute_input": "2021-11-30T19:30:11.105024Z",
     "iopub.status.busy": "2021-11-30T19:30:11.102503Z",
     "iopub.status.idle": "2021-11-30T19:30:11.118626Z",
     "shell.execute_reply": "2021-11-30T19:30:11.120420Z"
    },
    "papermill": {
     "duration": 0.051821,
     "end_time": "2021-11-30T19:30:11.121067",
     "exception": false,
     "start_time": "2021-11-30T19:30:11.069246",
     "status": "completed"
    },
    "tags": []
   },
   "outputs": [],
   "source": [
    "df_pivot.columns = [\"stamp_1\", \"stamp_2\"]\n",
    "df_pivot_diff = df_pivot.diff(axis=1)"
   ]
  },
  {
   "cell_type": "code",
   "execution_count": 7,
   "id": "fifth-motion",
   "metadata": {
    "execution": {
     "iopub.execute_input": "2021-11-30T19:30:11.180033Z",
     "iopub.status.busy": "2021-11-30T19:30:11.177594Z",
     "iopub.status.idle": "2021-11-30T19:30:13.206121Z",
     "shell.execute_reply": "2021-11-30T19:30:13.208556Z"
    },
    "papermill": {
     "duration": 2.066271,
     "end_time": "2021-11-30T19:30:13.209384",
     "exception": false,
     "start_time": "2021-11-30T19:30:11.143113",
     "status": "completed"
    },
    "tags": []
   },
   "outputs": [
    {
     "data": {
      "text/plain": [
       "<AxesSubplot:ylabel='PRODUCT'>"
      ]
     },
     "execution_count": 7,
     "metadata": {},
     "output_type": "execute_result"
    },
    {
     "data": {
      "image/png": "[encoded data removed]",
      "text/plain": [
       "<Figure size 432x288 with 1 Axes>"
      ]
     },
     "metadata": {
      "needs_background": "light"
     },
     "output_type": "display_data"
    }
   ],
   "source": [
    "df_pivot_diff.sort_values(\"stamp_2\", ascending = False)[\"stamp_2\"].head(10).plot.barh()"
   ]
  },
  {
   "cell_type": "code",
   "execution_count": null,
   "id": "extra-executive",
   "metadata": {
    "papermill": {
     "duration": 0.032407,
     "end_time": "2021-11-30T19:30:13.277503",
     "exception": false,
     "start_time": "2021-11-30T19:30:13.245096",
     "status": "completed"
    },
    "tags": []
   },
   "outputs": [],
   "source": []
  }
 ],
 "metadata": {
  "kernelspec": {
   "display_name": "Python 3",
   "language": "python",
   "name": "python3"
  },
  "language_info": {
   "codemirror_mode": {
    "name": "ipython",
    "version": 3
   },
   "file_extension": ".py",
   "mimetype": "text/x-python",
   "name": "python",
   "nbconvert_exporter": "python",
   "pygments_lexer": "ipython3",
   "version": "3.9.5"
  },
  "papermill": {
   "default_parameters": {},
   "duration": 9.934142,
   "end_time": "2021-11-30T19:30:14.559241",
   "environment_variables": {},
   "exception": null,
   "input_path": "eBay_Overview.ipynb",
   "output_path": "eBay_Overview.ipynb",
   "parameters": {},
   "start_time": "2021-11-30T19:30:04.625099",
   "version": "2.3.3"
  }
 },
 "nbformat": 4,
 "nbformat_minor": 5
}