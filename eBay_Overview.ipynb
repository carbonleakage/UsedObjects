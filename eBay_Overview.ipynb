{
 "cells": [
  {
   "cell_type": "code",
   "execution_count": 1,
   "id": "reverse-picking",
   "metadata": {
    "execution": {
     "iopub.execute_input": "2021-08-19T06:00:07.507800Z",
     "iopub.status.busy": "2021-08-19T06:00:07.505514Z",
     "iopub.status.idle": "2021-08-19T06:00:08.313482Z",
     "shell.execute_reply": "2021-08-19T06:00:08.311913Z"
    },
    "papermill": {
     "duration": 0.859042,
     "end_time": "2021-08-19T06:00:08.313880",
     "exception": false,
     "start_time": "2021-08-19T06:00:07.454838",
     "status": "completed"
    },
    "tags": []
   },
   "outputs": [],
   "source": [
    "import pandas as pd\n",
    "import sqlite3"
   ]
  },
  {
   "cell_type": "code",
   "execution_count": 2,
   "id": "innovative-syndrome",
   "metadata": {
    "execution": {
     "iopub.execute_input": "2021-08-19T06:00:08.364619Z",
     "iopub.status.busy": "2021-08-19T06:00:08.362730Z",
     "iopub.status.idle": "2021-08-19T06:00:08.442090Z",
     "shell.execute_reply": "2021-08-19T06:00:08.443443Z"
    },
    "papermill": {
     "duration": 0.109154,
     "end_time": "2021-08-19T06:00:08.443874",
     "exception": false,
     "start_time": "2021-08-19T06:00:08.334720",
     "status": "completed"
    },
    "tags": []
   },
   "outputs": [],
   "source": [
    "timestamps = pd.read_sql(\"select distinct record_time from EBAY_TOP_BERLIN order by record_time desc limit 2\", sqlite3.connect(\"UsedObjects.db\"))"
   ]
  },
  {
   "cell_type": "code",
   "execution_count": 3,
   "id": "periodic-identification",
   "metadata": {
    "execution": {
     "iopub.execute_input": "2021-08-19T06:00:08.508948Z",
     "iopub.status.busy": "2021-08-19T06:00:08.506887Z",
     "iopub.status.idle": "2021-08-19T06:00:08.526544Z",
     "shell.execute_reply": "2021-08-19T06:00:08.527781Z"
    },
    "papermill": {
     "duration": 0.064055,
     "end_time": "2021-08-19T06:00:08.528186",
     "exception": false,
     "start_time": "2021-08-19T06:00:08.464131",
     "status": "completed"
    },
    "tags": []
   },
   "outputs": [
    {
     "data": {
      "text/html": [
       "<div>\n",
       "<style scoped>\n",
       "    .dataframe tbody tr th:only-of-type {\n",
       "        vertical-align: middle;\n",
       "    }\n",
       "\n",
       "    .dataframe tbody tr th {\n",
       "        vertical-align: top;\n",
       "    }\n",
       "\n",
       "    .dataframe thead th {\n",
       "        text-align: right;\n",
       "    }\n",
       "</style>\n",
       "<table border=\"1\" class=\"dataframe\">\n",
       "  <thead>\n",
       "    <tr style=\"text-align: right;\">\n",
       "      <th></th>\n",
       "      <th>RECORD_TIME</th>\n",
       "    </tr>\n",
       "  </thead>\n",
       "  <tbody>\n",
       "    <tr>\n",
       "      <th>0</th>\n",
       "      <td>2021-08-19 08:00</td>\n",
       "    </tr>\n",
       "    <tr>\n",
       "      <th>1</th>\n",
       "      <td>2021-08-19 07:30</td>\n",
       "    </tr>\n",
       "  </tbody>\n",
       "</table>\n",
       "</div>"
      ],
      "text/plain": [
       "        RECORD_TIME\n",
       "0  2021-08-19 08:00\n",
       "1  2021-08-19 07:30"
      ]
     },
     "execution_count": 3,
     "metadata": {},
     "output_type": "execute_result"
    }
   ],
   "source": [
    "timestamps"
   ]
  },
  {
   "cell_type": "code",
   "execution_count": 4,
   "id": "alternate-victory",
   "metadata": {
    "execution": {
     "iopub.execute_input": "2021-08-19T06:00:08.579425Z",
     "iopub.status.busy": "2021-08-19T06:00:08.577445Z",
     "iopub.status.idle": "2021-08-19T06:00:08.699060Z",
     "shell.execute_reply": "2021-08-19T06:00:08.700278Z"
    },
    "papermill": {
     "duration": 0.151585,
     "end_time": "2021-08-19T06:00:08.700723",
     "exception": false,
     "start_time": "2021-08-19T06:00:08.549138",
     "status": "completed"
    },
    "tags": []
   },
   "outputs": [],
   "source": [
    "df = pd.read_sql(\"select * from EBAY_TOP_BERLIN where record_time in (select distinct record_time from EBAY_TOP_BERLIN order by record_time desc limit 2)\", sqlite3.connect(\"UsedObjects.db\"))"
   ]
  },
  {
   "cell_type": "code",
   "execution_count": 5,
   "id": "popular-active",
   "metadata": {
    "execution": {
     "iopub.execute_input": "2021-08-19T06:00:08.771583Z",
     "iopub.status.busy": "2021-08-19T06:00:08.759297Z",
     "iopub.status.idle": "2021-08-19T06:00:08.787266Z",
     "shell.execute_reply": "2021-08-19T06:00:08.788489Z"
    },
    "papermill": {
     "duration": 0.068447,
     "end_time": "2021-08-19T06:00:08.788897",
     "exception": false,
     "start_time": "2021-08-19T06:00:08.720450",
     "status": "completed"
    },
    "tags": []
   },
   "outputs": [],
   "source": [
    "df_pivot = df.pivot_table(index=\"PRODUCT\", columns = \"RECORD_TIME\", values = \"LISTING_COUNT\")"
   ]
  },
  {
   "cell_type": "code",
   "execution_count": 6,
   "id": "union-huntington",
   "metadata": {
    "execution": {
     "iopub.execute_input": "2021-08-19T06:00:08.848053Z",
     "iopub.status.busy": "2021-08-19T06:00:08.845551Z",
     "iopub.status.idle": "2021-08-19T06:00:08.851882Z",
     "shell.execute_reply": "2021-08-19T06:00:08.853337Z"
    },
    "papermill": {
     "duration": 0.042713,
     "end_time": "2021-08-19T06:00:08.853818",
     "exception": false,
     "start_time": "2021-08-19T06:00:08.811105",
     "status": "completed"
    },
    "tags": []
   },
   "outputs": [],
   "source": [
    "df_pivot.columns = [\"stamp_1\", \"stamp_2\"]\n",
    "df_pivot_diff = df_pivot.diff(axis=1)"
   ]
  },
  {
   "cell_type": "code",
   "execution_count": 7,
   "id": "fifth-motion",
   "metadata": {
    "execution": {
     "iopub.execute_input": "2021-08-19T06:00:08.908963Z",
     "iopub.status.busy": "2021-08-19T06:00:08.906762Z",
     "iopub.status.idle": "2021-08-19T06:00:10.368593Z",
     "shell.execute_reply": "2021-08-19T06:00:10.369871Z"
    },
    "papermill": {
     "duration": 1.494765,
     "end_time": "2021-08-19T06:00:10.370535",
     "exception": false,
     "start_time": "2021-08-19T06:00:08.875770",
     "status": "completed"
    },
    "tags": []
   },
   "outputs": [
    {
     "data": {
      "text/plain": [
       "<AxesSubplot:ylabel='PRODUCT'>"
      ]
     },
     "execution_count": 7,
     "metadata": {},
     "output_type": "execute_result"
    },
    {
     "data": {
      "image/png": "[encoded data removed]",
      "text/plain": [
       "<Figure size 432x288 with 1 Axes>"
      ]
     },
     "metadata": {
      "needs_background": "light"
     },
     "output_type": "display_data"
    }
   ],
   "source": [
    "df_pivot_diff.sort_values(\"stamp_2\", ascending = False)[\"stamp_2\"].head(10).plot.barh()"
   ]
  },
  {
   "cell_type": "code",
   "execution_count": null,
   "id": "extra-executive",
   "metadata": {
    "papermill": {
     "duration": 0.021921,
     "end_time": "2021-08-19T06:00:10.416808",
     "exception": false,
     "start_time": "2021-08-19T06:00:10.394887",
     "status": "completed"
    },
    "tags": []
   },
   "outputs": [],
   "source": []
  }
 ],
 "metadata": {
  "kernelspec": {
   "display_name": "Python 3",
   "language": "python",
   "name": "python3"
  },
  "language_info": {
   "codemirror_mode": {
    "name": "ipython",
    "version": 3
   },
   "file_extension": ".py",
   "mimetype": "text/x-python",
   "name": "python",
   "nbconvert_exporter": "python",
   "pygments_lexer": "ipython3",
   "version": "3.9.5"
  },
  "papermill": {
   "default_parameters": {},
   "duration": 6.83095,
   "end_time": "2021-08-19T06:00:11.877644",
   "environment_variables": {},
   "exception": null,
   "input_path": "eBay_Overview.ipynb",
   "output_path": "eBay_Overview.ipynb",
   "parameters": {},
   "start_time": "2021-08-19T06:00:05.046694",
   "version": "2.3.3"
  }
 },
 "nbformat": 4,
 "nbformat_minor": 5
}