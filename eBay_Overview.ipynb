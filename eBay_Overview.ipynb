{
 "cells": [
  {
   "cell_type": "code",
   "execution_count": 1,
   "id": "reverse-picking",
   "metadata": {
    "execution": {
     "iopub.execute_input": "2021-12-20T00:30:07.893366Z",
     "iopub.status.busy": "2021-12-20T00:30:07.889842Z",
     "iopub.status.idle": "2021-12-20T00:30:08.814309Z",
     "shell.execute_reply": "2021-12-20T00:30:08.815874Z"
    },
    "papermill": {
     "duration": 0.974923,
     "end_time": "2021-12-20T00:30:08.816647",
     "exception": false,
     "start_time": "2021-12-20T00:30:07.841724",
     "status": "completed"
    },
    "tags": []
   },
   "outputs": [],
   "source": [
    "import pandas as pd\n",
    "import sqlite3"
   ]
  },
  {
   "cell_type": "code",
   "execution_count": 2,
   "id": "innovative-syndrome",
   "metadata": {
    "execution": {
     "iopub.execute_input": "2021-12-20T00:30:08.880558Z",
     "iopub.status.busy": "2021-12-20T00:30:08.878237Z",
     "iopub.status.idle": "2021-12-20T00:30:10.018996Z",
     "shell.execute_reply": "2021-12-20T00:30:10.020383Z"
    },
    "papermill": {
     "duration": 1.174518,
     "end_time": "2021-12-20T00:30:10.020922",
     "exception": false,
     "start_time": "2021-12-20T00:30:08.846404",
     "status": "completed"
    },
    "tags": []
   },
   "outputs": [],
   "source": [
    "timestamps = pd.read_sql(\"select distinct record_time from EBAY_TOP_BERLIN order by record_time desc limit 2\", sqlite3.connect(\"UsedObjects.db\"))"
   ]
  },
  {
   "cell_type": "code",
   "execution_count": 3,
   "id": "periodic-identification",
   "metadata": {
    "execution": {
     "iopub.execute_input": "2021-12-20T00:30:10.098537Z",
     "iopub.status.busy": "2021-12-20T00:30:10.096129Z",
     "iopub.status.idle": "2021-12-20T00:30:10.117245Z",
     "shell.execute_reply": "2021-12-20T00:30:10.118444Z"
    },
    "papermill": {
     "duration": 0.076383,
     "end_time": "2021-12-20T00:30:10.118882",
     "exception": false,
     "start_time": "2021-12-20T00:30:10.042499",
     "status": "completed"
    },
    "tags": []
   },
   "outputs": [
    {
     "data": {
      "text/html": [
       "<div>\n",
       "<style scoped>\n",
       "    .dataframe tbody tr th:only-of-type {\n",
       "        vertical-align: middle;\n",
       "    }\n",
       "\n",
       "    .dataframe tbody tr th {\n",
       "        vertical-align: top;\n",
       "    }\n",
       "\n",
       "    .dataframe thead th {\n",
       "        text-align: right;\n",
       "    }\n",
       "</style>\n",
       "<table border=\"1\" class=\"dataframe\">\n",
       "  <thead>\n",
       "    <tr style=\"text-align: right;\">\n",
       "      <th></th>\n",
       "      <th>RECORD_TIME</th>\n",
       "    </tr>\n",
       "  </thead>\n",
       "  <tbody>\n",
       "    <tr>\n",
       "      <th>0</th>\n",
       "      <td>2021-12-20 01:30</td>\n",
       "    </tr>\n",
       "    <tr>\n",
       "      <th>1</th>\n",
       "      <td>2021-12-20 01:00</td>\n",
       "    </tr>\n",
       "  </tbody>\n",
       "</table>\n",
       "</div>"
      ],
      "text/plain": [
       "        RECORD_TIME\n",
       "0  2021-12-20 01:30\n",
       "1  2021-12-20 01:00"
      ]
     },
     "execution_count": 3,
     "metadata": {},
     "output_type": "execute_result"
    }
   ],
   "source": [
    "timestamps"
   ]
  },
  {
   "cell_type": "code",
   "execution_count": 4,
   "id": "alternate-victory",
   "metadata": {
    "execution": {
     "iopub.execute_input": "2021-12-20T00:30:10.170119Z",
     "iopub.status.busy": "2021-12-20T00:30:10.168124Z",
     "iopub.status.idle": "2021-12-20T00:30:11.833380Z",
     "shell.execute_reply": "2021-12-20T00:30:11.834843Z"
    },
    "papermill": {
     "duration": 1.695307,
     "end_time": "2021-12-20T00:30:11.835302",
     "exception": false,
     "start_time": "2021-12-20T00:30:10.139995",
     "status": "completed"
    },
    "tags": []
   },
   "outputs": [],
   "source": [
    "df = pd.read_sql(\"select * from EBAY_TOP_BERLIN where record_time in (select distinct record_time from EBAY_TOP_BERLIN order by record_time desc limit 2)\", sqlite3.connect(\"UsedObjects.db\"))"
   ]
  },
  {
   "cell_type": "code",
   "execution_count": 5,
   "id": "popular-active",
   "metadata": {
    "execution": {
     "iopub.execute_input": "2021-12-20T00:30:11.913160Z",
     "iopub.status.busy": "2021-12-20T00:30:11.903195Z",
     "iopub.status.idle": "2021-12-20T00:30:11.931414Z",
     "shell.execute_reply": "2021-12-20T00:30:11.933007Z"
    },
    "papermill": {
     "duration": 0.076927,
     "end_time": "2021-12-20T00:30:11.933503",
     "exception": false,
     "start_time": "2021-12-20T00:30:11.856576",
     "status": "completed"
    },
    "tags": []
   },
   "outputs": [],
   "source": [
    "df_pivot = df.pivot_table(index=\"PRODUCT\", columns = \"RECORD_TIME\", values = \"LISTING_COUNT\")"
   ]
  },
  {
   "cell_type": "code",
   "execution_count": 6,
   "id": "union-huntington",
   "metadata": {
    "execution": {
     "iopub.execute_input": "2021-12-20T00:30:11.993709Z",
     "iopub.status.busy": "2021-12-20T00:30:11.991414Z",
     "iopub.status.idle": "2021-12-20T00:30:11.997564Z",
     "shell.execute_reply": "2021-12-20T00:30:11.998939Z"
    },
    "papermill": {
     "duration": 0.044135,
     "end_time": "2021-12-20T00:30:11.999420",
     "exception": false,
     "start_time": "2021-12-20T00:30:11.955285",
     "status": "completed"
    },
    "tags": []
   },
   "outputs": [],
   "source": [
    "df_pivot.columns = [\"stamp_1\", \"stamp_2\"]\n",
    "df_pivot_diff = df_pivot.diff(axis=1)"
   ]
  },
  {
   "cell_type": "code",
   "execution_count": 7,
   "id": "fifth-motion",
   "metadata": {
    "execution": {
     "iopub.execute_input": "2021-12-20T00:30:12.061480Z",
     "iopub.status.busy": "2021-12-20T00:30:12.058939Z",
     "iopub.status.idle": "2021-12-20T00:30:14.049197Z",
     "shell.execute_reply": "2021-12-20T00:30:14.046311Z"
    },
    "papermill": {
     "duration": 2.029374,
     "end_time": "2021-12-20T00:30:14.049705",
     "exception": false,
     "start_time": "2021-12-20T00:30:12.020331",
     "status": "completed"
    },
    "tags": []
   },
   "outputs": [
    {
     "data": {
      "text/plain": [
       "<AxesSubplot:ylabel='PRODUCT'>"
      ]
     },
     "execution_count": 7,
     "metadata": {},
     "output_type": "execute_result"
    },
    {
     "data": {
      "image/png": "[encoded data removed]",
      "text/plain": [
       "<Figure size 432x288 with 1 Axes>"
      ]
     },
     "metadata": {
      "needs_background": "light"
     },
     "output_type": "display_data"
    }
   ],
   "source": [
    "df_pivot_diff.sort_values(\"stamp_2\", ascending = False)[\"stamp_2\"].head(10).plot.barh()"
   ]
  },
  {
   "cell_type": "code",
   "execution_count": null,
   "id": "extra-executive",
   "metadata": {
    "papermill": {
     "duration": 0.021847,
     "end_time": "2021-12-20T00:30:14.095149",
     "exception": false,
     "start_time": "2021-12-20T00:30:14.073302",
     "status": "completed"
    },
    "tags": []
   },
   "outputs": [],
   "source": []
  }
 ],
 "metadata": {
  "kernelspec": {
   "display_name": "Python 3",
   "language": "python",
   "name": "python3"
  },
  "language_info": {
   "codemirror_mode": {
    "name": "ipython",
    "version": 3
   },
   "file_extension": ".py",
   "mimetype": "text/x-python",
   "name": "python",
   "nbconvert_exporter": "python",
   "pygments_lexer": "ipython3",
   "version": "3.9.5"
  },
  "papermill": {
   "default_parameters": {},
   "duration": 9.636463,
   "end_time": "2021-12-20T00:30:14.739034",
   "environment_variables": {},
   "exception": null,
   "input_path": "eBay_Overview.ipynb",
   "output_path": "eBay_Overview.ipynb",
   "parameters": {},
   "start_time": "2021-12-20T00:30:05.102571",
   "version": "2.3.3"
  }
 },
 "nbformat": 4,
 "nbformat_minor": 5
}