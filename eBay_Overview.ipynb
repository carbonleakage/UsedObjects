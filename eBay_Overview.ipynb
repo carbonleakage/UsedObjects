{
 "cells": [
  {
   "cell_type": "code",
   "execution_count": 1,
   "id": "reverse-picking",
   "metadata": {
    "execution": {
     "iopub.execute_input": "2021-08-14T08:00:06.480250Z",
     "iopub.status.busy": "2021-08-14T08:00:06.478254Z",
     "iopub.status.idle": "2021-08-14T08:00:07.292616Z",
     "shell.execute_reply": "2021-08-14T08:00:07.290841Z"
    },
    "papermill": {
     "duration": 0.865588,
     "end_time": "2021-08-14T08:00:07.293047",
     "exception": false,
     "start_time": "2021-08-14T08:00:06.427459",
     "status": "completed"
    },
    "tags": []
   },
   "outputs": [],
   "source": [
    "import pandas as pd\n",
    "import sqlite3"
   ]
  },
  {
   "cell_type": "code",
   "execution_count": 2,
   "id": "innovative-syndrome",
   "metadata": {
    "execution": {
     "iopub.execute_input": "2021-08-14T08:00:07.344224Z",
     "iopub.status.busy": "2021-08-14T08:00:07.341763Z",
     "iopub.status.idle": "2021-08-14T08:00:07.390583Z",
     "shell.execute_reply": "2021-08-14T08:00:07.391877Z"
    },
    "papermill": {
     "duration": 0.078831,
     "end_time": "2021-08-14T08:00:07.392280",
     "exception": false,
     "start_time": "2021-08-14T08:00:07.313449",
     "status": "completed"
    },
    "tags": []
   },
   "outputs": [],
   "source": [
    "timestamps = pd.read_sql(\"select distinct record_time from EBAY_TOP_BERLIN order by record_time desc limit 2\", sqlite3.connect(\"UsedObjects.db\"))"
   ]
  },
  {
   "cell_type": "code",
   "execution_count": 3,
   "id": "periodic-identification",
   "metadata": {
    "execution": {
     "iopub.execute_input": "2021-08-14T08:00:07.459909Z",
     "iopub.status.busy": "2021-08-14T08:00:07.454545Z",
     "iopub.status.idle": "2021-08-14T08:00:07.474575Z",
     "shell.execute_reply": "2021-08-14T08:00:07.475884Z"
    },
    "papermill": {
     "duration": 0.064449,
     "end_time": "2021-08-14T08:00:07.476287",
     "exception": false,
     "start_time": "2021-08-14T08:00:07.411838",
     "status": "completed"
    },
    "tags": []
   },
   "outputs": [
    {
     "data": {
      "text/html": [
       "<div>\n",
       "<style scoped>\n",
       "    .dataframe tbody tr th:only-of-type {\n",
       "        vertical-align: middle;\n",
       "    }\n",
       "\n",
       "    .dataframe tbody tr th {\n",
       "        vertical-align: top;\n",
       "    }\n",
       "\n",
       "    .dataframe thead th {\n",
       "        text-align: right;\n",
       "    }\n",
       "</style>\n",
       "<table border=\"1\" class=\"dataframe\">\n",
       "  <thead>\n",
       "    <tr style=\"text-align: right;\">\n",
       "      <th></th>\n",
       "      <th>RECORD_TIME</th>\n",
       "    </tr>\n",
       "  </thead>\n",
       "  <tbody>\n",
       "    <tr>\n",
       "      <th>0</th>\n",
       "      <td>2021-08-14 10:00</td>\n",
       "    </tr>\n",
       "    <tr>\n",
       "      <th>1</th>\n",
       "      <td>2021-08-14 09:30</td>\n",
       "    </tr>\n",
       "  </tbody>\n",
       "</table>\n",
       "</div>"
      ],
      "text/plain": [
       "        RECORD_TIME\n",
       "0  2021-08-14 10:00\n",
       "1  2021-08-14 09:30"
      ]
     },
     "execution_count": 3,
     "metadata": {},
     "output_type": "execute_result"
    }
   ],
   "source": [
    "timestamps"
   ]
  },
  {
   "cell_type": "code",
   "execution_count": 4,
   "id": "alternate-victory",
   "metadata": {
    "execution": {
     "iopub.execute_input": "2021-08-14T08:00:07.529687Z",
     "iopub.status.busy": "2021-08-14T08:00:07.527404Z",
     "iopub.status.idle": "2021-08-14T08:00:07.597569Z",
     "shell.execute_reply": "2021-08-14T08:00:07.599008Z"
    },
    "papermill": {
     "duration": 0.100942,
     "end_time": "2021-08-14T08:00:07.599499",
     "exception": false,
     "start_time": "2021-08-14T08:00:07.498557",
     "status": "completed"
    },
    "tags": []
   },
   "outputs": [],
   "source": [
    "df = pd.read_sql(\"select * from EBAY_TOP_BERLIN where record_time in (select distinct record_time from EBAY_TOP_BERLIN order by record_time desc limit 2)\", sqlite3.connect(\"UsedObjects.db\"))"
   ]
  },
  {
   "cell_type": "code",
   "execution_count": 5,
   "id": "popular-active",
   "metadata": {
    "execution": {
     "iopub.execute_input": "2021-08-14T08:00:07.671387Z",
     "iopub.status.busy": "2021-08-14T08:00:07.659260Z",
     "iopub.status.idle": "2021-08-14T08:00:07.688519Z",
     "shell.execute_reply": "2021-08-14T08:00:07.690209Z"
    },
    "papermill": {
     "duration": 0.069683,
     "end_time": "2021-08-14T08:00:07.690704",
     "exception": false,
     "start_time": "2021-08-14T08:00:07.621021",
     "status": "completed"
    },
    "tags": []
   },
   "outputs": [],
   "source": [
    "df_pivot = df.pivot_table(index=\"PRODUCT\", columns = \"RECORD_TIME\", values = \"LISTING_COUNT\")"
   ]
  },
  {
   "cell_type": "code",
   "execution_count": 6,
   "id": "union-huntington",
   "metadata": {
    "execution": {
     "iopub.execute_input": "2021-08-14T08:00:07.749705Z",
     "iopub.status.busy": "2021-08-14T08:00:07.747390Z",
     "iopub.status.idle": "2021-08-14T08:00:07.753050Z",
     "shell.execute_reply": "2021-08-14T08:00:07.754402Z"
    },
    "papermill": {
     "duration": 0.041748,
     "end_time": "2021-08-14T08:00:07.754828",
     "exception": false,
     "start_time": "2021-08-14T08:00:07.713080",
     "status": "completed"
    },
    "tags": []
   },
   "outputs": [],
   "source": [
    "df_pivot.columns = [\"stamp_1\", \"stamp_2\"]\n",
    "df_pivot_diff = df_pivot.diff(axis=1)"
   ]
  },
  {
   "cell_type": "code",
   "execution_count": 7,
   "id": "fifth-motion",
   "metadata": {
    "execution": {
     "iopub.execute_input": "2021-08-14T08:00:07.809392Z",
     "iopub.status.busy": "2021-08-14T08:00:07.807088Z",
     "iopub.status.idle": "2021-08-14T08:00:09.314456Z",
     "shell.execute_reply": "2021-08-14T08:00:09.315798Z"
    },
    "papermill": {
     "duration": 1.540876,
     "end_time": "2021-08-14T08:00:09.316222",
     "exception": false,
     "start_time": "2021-08-14T08:00:07.775346",
     "status": "completed"
    },
    "tags": []
   },
   "outputs": [
    {
     "data": {
      "text/plain": [
       "<AxesSubplot:ylabel='PRODUCT'>"
      ]
     },
     "execution_count": 7,
     "metadata": {},
     "output_type": "execute_result"
    },
    {
     "data": {
      "image/png": "[encoded data removed]",
      "text/plain": [
       "<Figure size 432x288 with 1 Axes>"
      ]
     },
     "metadata": {
      "needs_background": "light"
     },
     "output_type": "display_data"
    }
   ],
   "source": [
    "df_pivot_diff.sort_values(\"stamp_2\", ascending = False)[\"stamp_2\"].head(10).plot.barh()"
   ]
  },
  {
   "cell_type": "code",
   "execution_count": null,
   "id": "extra-executive",
   "metadata": {
    "papermill": {
     "duration": 0.022308,
     "end_time": "2021-08-14T08:00:09.362440",
     "exception": false,
     "start_time": "2021-08-14T08:00:09.340132",
     "status": "completed"
    },
    "tags": []
   },
   "outputs": [],
   "source": []
  }
 ],
 "metadata": {
  "kernelspec": {
   "display_name": "Python 3",
   "language": "python",
   "name": "python3"
  },
  "language_info": {
   "codemirror_mode": {
    "name": "ipython",
    "version": 3
   },
   "file_extension": ".py",
   "mimetype": "text/x-python",
   "name": "python",
   "nbconvert_exporter": "python",
   "pygments_lexer": "ipython3",
   "version": "3.9.5"
  },
  "papermill": {
   "default_parameters": {},
   "duration": 6.829516,
   "end_time": "2021-08-14T08:00:10.836962",
   "environment_variables": {},
   "exception": null,
   "input_path": "eBay_Overview.ipynb",
   "output_path": "eBay_Overview.ipynb",
   "parameters": {},
   "start_time": "2021-08-14T08:00:04.007446",
   "version": "2.3.3"
  }
 },
 "nbformat": 4,
 "nbformat_minor": 5
}