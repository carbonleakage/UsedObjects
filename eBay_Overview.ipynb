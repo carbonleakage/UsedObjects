{
 "cells": [
  {
   "cell_type": "code",
   "execution_count": 1,
   "id": "reverse-picking",
   "metadata": {
    "execution": {
     "iopub.execute_input": "2021-10-25T03:00:07.038992Z",
     "iopub.status.busy": "2021-10-25T03:00:07.037039Z",
     "iopub.status.idle": "2021-10-25T03:00:07.851858Z",
     "shell.execute_reply": "2021-10-25T03:00:07.853272Z"
    },
    "papermill": {
     "duration": 0.867861,
     "end_time": "2021-10-25T03:00:07.853937",
     "exception": false,
     "start_time": "2021-10-25T03:00:06.986076",
     "status": "completed"
    },
    "tags": []
   },
   "outputs": [],
   "source": [
    "import pandas as pd\n",
    "import sqlite3"
   ]
  },
  {
   "cell_type": "code",
   "execution_count": 2,
   "id": "innovative-syndrome",
   "metadata": {
    "execution": {
     "iopub.execute_input": "2021-10-25T03:00:07.905127Z",
     "iopub.status.busy": "2021-10-25T03:00:07.903041Z",
     "iopub.status.idle": "2021-10-25T03:00:08.537706Z",
     "shell.execute_reply": "2021-10-25T03:00:08.538939Z"
    },
    "papermill": {
     "duration": 0.665004,
     "end_time": "2021-10-25T03:00:08.539339",
     "exception": false,
     "start_time": "2021-10-25T03:00:07.874335",
     "status": "completed"
    },
    "tags": []
   },
   "outputs": [],
   "source": [
    "timestamps = pd.read_sql(\"select distinct record_time from EBAY_TOP_BERLIN order by record_time desc limit 2\", sqlite3.connect(\"UsedObjects.db\"))"
   ]
  },
  {
   "cell_type": "code",
   "execution_count": 3,
   "id": "periodic-identification",
   "metadata": {
    "execution": {
     "iopub.execute_input": "2021-10-25T03:00:08.617509Z",
     "iopub.status.busy": "2021-10-25T03:00:08.615401Z",
     "iopub.status.idle": "2021-10-25T03:00:08.636394Z",
     "shell.execute_reply": "2021-10-25T03:00:08.635145Z"
    },
    "papermill": {
     "duration": 0.070388,
     "end_time": "2021-10-25T03:00:08.636918",
     "exception": false,
     "start_time": "2021-10-25T03:00:08.566530",
     "status": "completed"
    },
    "tags": []
   },
   "outputs": [
    {
     "data": {
      "text/html": [
       "<div>\n",
       "<style scoped>\n",
       "    .dataframe tbody tr th:only-of-type {\n",
       "        vertical-align: middle;\n",
       "    }\n",
       "\n",
       "    .dataframe tbody tr th {\n",
       "        vertical-align: top;\n",
       "    }\n",
       "\n",
       "    .dataframe thead th {\n",
       "        text-align: right;\n",
       "    }\n",
       "</style>\n",
       "<table border=\"1\" class=\"dataframe\">\n",
       "  <thead>\n",
       "    <tr style=\"text-align: right;\">\n",
       "      <th></th>\n",
       "      <th>RECORD_TIME</th>\n",
       "    </tr>\n",
       "  </thead>\n",
       "  <tbody>\n",
       "    <tr>\n",
       "      <th>0</th>\n",
       "      <td>2021-10-25 05:00</td>\n",
       "    </tr>\n",
       "    <tr>\n",
       "      <th>1</th>\n",
       "      <td>2021-10-25 04:30</td>\n",
       "    </tr>\n",
       "  </tbody>\n",
       "</table>\n",
       "</div>"
      ],
      "text/plain": [
       "        RECORD_TIME\n",
       "0  2021-10-25 05:00\n",
       "1  2021-10-25 04:30"
      ]
     },
     "execution_count": 3,
     "metadata": {},
     "output_type": "execute_result"
    }
   ],
   "source": [
    "timestamps"
   ]
  },
  {
   "cell_type": "code",
   "execution_count": 4,
   "id": "alternate-victory",
   "metadata": {
    "execution": {
     "iopub.execute_input": "2021-10-25T03:00:08.691684Z",
     "iopub.status.busy": "2021-10-25T03:00:08.689493Z",
     "iopub.status.idle": "2021-10-25T03:00:09.619467Z",
     "shell.execute_reply": "2021-10-25T03:00:09.620856Z"
    },
    "papermill": {
     "duration": 0.960899,
     "end_time": "2021-10-25T03:00:09.621325",
     "exception": false,
     "start_time": "2021-10-25T03:00:08.660426",
     "status": "completed"
    },
    "tags": []
   },
   "outputs": [],
   "source": [
    "df = pd.read_sql(\"select * from EBAY_TOP_BERLIN where record_time in (select distinct record_time from EBAY_TOP_BERLIN order by record_time desc limit 2)\", sqlite3.connect(\"UsedObjects.db\"))"
   ]
  },
  {
   "cell_type": "code",
   "execution_count": 5,
   "id": "popular-active",
   "metadata": {
    "execution": {
     "iopub.execute_input": "2021-10-25T03:00:09.693333Z",
     "iopub.status.busy": "2021-10-25T03:00:09.681960Z",
     "iopub.status.idle": "2021-10-25T03:00:09.709159Z",
     "shell.execute_reply": "2021-10-25T03:00:09.710377Z"
    },
    "papermill": {
     "duration": 0.06872,
     "end_time": "2021-10-25T03:00:09.710775",
     "exception": false,
     "start_time": "2021-10-25T03:00:09.642055",
     "status": "completed"
    },
    "tags": []
   },
   "outputs": [],
   "source": [
    "df_pivot = df.pivot_table(index=\"PRODUCT\", columns = \"RECORD_TIME\", values = \"LISTING_COUNT\")"
   ]
  },
  {
   "cell_type": "code",
   "execution_count": 6,
   "id": "union-huntington",
   "metadata": {
    "execution": {
     "iopub.execute_input": "2021-10-25T03:00:09.771377Z",
     "iopub.status.busy": "2021-10-25T03:00:09.768945Z",
     "iopub.status.idle": "2021-10-25T03:00:09.776798Z",
     "shell.execute_reply": "2021-10-25T03:00:09.775177Z"
    },
    "papermill": {
     "duration": 0.043088,
     "end_time": "2021-10-25T03:00:09.777198",
     "exception": false,
     "start_time": "2021-10-25T03:00:09.734110",
     "status": "completed"
    },
    "tags": []
   },
   "outputs": [],
   "source": [
    "df_pivot.columns = [\"stamp_1\", \"stamp_2\"]\n",
    "df_pivot_diff = df_pivot.diff(axis=1)"
   ]
  },
  {
   "cell_type": "code",
   "execution_count": 7,
   "id": "fifth-motion",
   "metadata": {
    "execution": {
     "iopub.execute_input": "2021-10-25T03:00:09.832596Z",
     "iopub.status.busy": "2021-10-25T03:00:09.830396Z",
     "iopub.status.idle": "2021-10-25T03:00:11.360857Z",
     "shell.execute_reply": "2021-10-25T03:00:11.362076Z"
    },
    "papermill": {
     "duration": 1.56304,
     "end_time": "2021-10-25T03:00:11.362509",
     "exception": false,
     "start_time": "2021-10-25T03:00:09.799469",
     "status": "completed"
    },
    "tags": []
   },
   "outputs": [
    {
     "data": {
      "text/plain": [
       "<AxesSubplot:ylabel='PRODUCT'>"
      ]
     },
     "execution_count": 7,
     "metadata": {},
     "output_type": "execute_result"
    },
    {
     "data": {
      "image/png": "[encoded data removed]",
      "text/plain": [
       "<Figure size 432x288 with 1 Axes>"
      ]
     },
     "metadata": {
      "needs_background": "light"
     },
     "output_type": "display_data"
    }
   ],
   "source": [
    "df_pivot_diff.sort_values(\"stamp_2\", ascending = False)[\"stamp_2\"].head(10).plot.barh()"
   ]
  },
  {
   "cell_type": "code",
   "execution_count": null,
   "id": "extra-executive",
   "metadata": {
    "papermill": {
     "duration": 0.023482,
     "end_time": "2021-10-25T03:00:11.410011",
     "exception": false,
     "start_time": "2021-10-25T03:00:11.386529",
     "status": "completed"
    },
    "tags": []
   },
   "outputs": [],
   "source": []
  }
 ],
 "metadata": {
  "kernelspec": {
   "display_name": "Python 3",
   "language": "python",
   "name": "python3"
  },
  "language_info": {
   "codemirror_mode": {
    "name": "ipython",
    "version": 3
   },
   "file_extension": ".py",
   "mimetype": "text/x-python",
   "name": "python",
   "nbconvert_exporter": "python",
   "pygments_lexer": "ipython3",
   "version": "3.9.5"
  },
  "papermill": {
   "default_parameters": {},
   "duration": 7.484611,
   "end_time": "2021-10-25T03:00:12.051574",
   "environment_variables": {},
   "exception": null,
   "input_path": "eBay_Overview.ipynb",
   "output_path": "eBay_Overview.ipynb",
   "parameters": {},
   "start_time": "2021-10-25T03:00:04.566963",
   "version": "2.3.3"
  }
 },
 "nbformat": 4,
 "nbformat_minor": 5
}