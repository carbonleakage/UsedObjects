{
 "cells": [
  {
   "cell_type": "code",
   "execution_count": 1,
   "id": "reverse-picking",
   "metadata": {
    "execution": {
     "iopub.execute_input": "2021-12-07T13:00:08.488812Z",
     "iopub.status.busy": "2021-12-07T13:00:08.486496Z",
     "iopub.status.idle": "2021-12-07T13:00:09.391506Z",
     "shell.execute_reply": "2021-12-07T13:00:09.393007Z"
    },
    "papermill": {
     "duration": 0.953007,
     "end_time": "2021-12-07T13:00:09.393755",
     "exception": false,
     "start_time": "2021-12-07T13:00:08.440748",
     "status": "completed"
    },
    "tags": []
   },
   "outputs": [],
   "source": [
    "import pandas as pd\n",
    "import sqlite3"
   ]
  },
  {
   "cell_type": "code",
   "execution_count": 2,
   "id": "innovative-syndrome",
   "metadata": {
    "execution": {
     "iopub.execute_input": "2021-12-07T13:00:09.458988Z",
     "iopub.status.busy": "2021-12-07T13:00:09.457126Z",
     "iopub.status.idle": "2021-12-07T13:00:10.491362Z",
     "shell.execute_reply": "2021-12-07T13:00:10.493523Z"
    },
    "papermill": {
     "duration": 1.078518,
     "end_time": "2021-12-07T13:00:10.493998",
     "exception": false,
     "start_time": "2021-12-07T13:00:09.415480",
     "status": "completed"
    },
    "tags": []
   },
   "outputs": [],
   "source": [
    "timestamps = pd.read_sql(\"select distinct record_time from EBAY_TOP_BERLIN order by record_time desc limit 2\", sqlite3.connect(\"UsedObjects.db\"))"
   ]
  },
  {
   "cell_type": "code",
   "execution_count": 3,
   "id": "periodic-identification",
   "metadata": {
    "execution": {
     "iopub.execute_input": "2021-12-07T13:00:10.561577Z",
     "iopub.status.busy": "2021-12-07T13:00:10.559184Z",
     "iopub.status.idle": "2021-12-07T13:00:10.580865Z",
     "shell.execute_reply": "2021-12-07T13:00:10.582222Z"
    },
    "papermill": {
     "duration": 0.069304,
     "end_time": "2021-12-07T13:00:10.582698",
     "exception": false,
     "start_time": "2021-12-07T13:00:10.513394",
     "status": "completed"
    },
    "tags": []
   },
   "outputs": [
    {
     "data": {
      "text/html": [
       "<div>\n",
       "<style scoped>\n",
       "    .dataframe tbody tr th:only-of-type {\n",
       "        vertical-align: middle;\n",
       "    }\n",
       "\n",
       "    .dataframe tbody tr th {\n",
       "        vertical-align: top;\n",
       "    }\n",
       "\n",
       "    .dataframe thead th {\n",
       "        text-align: right;\n",
       "    }\n",
       "</style>\n",
       "<table border=\"1\" class=\"dataframe\">\n",
       "  <thead>\n",
       "    <tr style=\"text-align: right;\">\n",
       "      <th></th>\n",
       "      <th>RECORD_TIME</th>\n",
       "    </tr>\n",
       "  </thead>\n",
       "  <tbody>\n",
       "    <tr>\n",
       "      <th>0</th>\n",
       "      <td>2021-12-07 14:00</td>\n",
       "    </tr>\n",
       "    <tr>\n",
       "      <th>1</th>\n",
       "      <td>2021-12-07 13:30</td>\n",
       "    </tr>\n",
       "  </tbody>\n",
       "</table>\n",
       "</div>"
      ],
      "text/plain": [
       "        RECORD_TIME\n",
       "0  2021-12-07 14:00\n",
       "1  2021-12-07 13:30"
      ]
     },
     "execution_count": 3,
     "metadata": {},
     "output_type": "execute_result"
    }
   ],
   "source": [
    "timestamps"
   ]
  },
  {
   "cell_type": "code",
   "execution_count": 4,
   "id": "alternate-victory",
   "metadata": {
    "execution": {
     "iopub.execute_input": "2021-12-07T13:00:10.640326Z",
     "iopub.status.busy": "2021-12-07T13:00:10.638123Z",
     "iopub.status.idle": "2021-12-07T13:00:12.150211Z",
     "shell.execute_reply": "2021-12-07T13:00:12.151631Z"
    },
    "papermill": {
     "duration": 1.548467,
     "end_time": "2021-12-07T13:00:12.152074",
     "exception": false,
     "start_time": "2021-12-07T13:00:10.603607",
     "status": "completed"
    },
    "tags": []
   },
   "outputs": [],
   "source": [
    "df = pd.read_sql(\"select * from EBAY_TOP_BERLIN where record_time in (select distinct record_time from EBAY_TOP_BERLIN order by record_time desc limit 2)\", sqlite3.connect(\"UsedObjects.db\"))"
   ]
  },
  {
   "cell_type": "code",
   "execution_count": 5,
   "id": "popular-active",
   "metadata": {
    "execution": {
     "iopub.execute_input": "2021-12-07T13:00:12.225349Z",
     "iopub.status.busy": "2021-12-07T13:00:12.212987Z",
     "iopub.status.idle": "2021-12-07T13:00:12.243201Z",
     "shell.execute_reply": "2021-12-07T13:00:12.244639Z"
    },
    "papermill": {
     "duration": 0.072958,
     "end_time": "2021-12-07T13:00:12.245183",
     "exception": false,
     "start_time": "2021-12-07T13:00:12.172225",
     "status": "completed"
    },
    "tags": []
   },
   "outputs": [],
   "source": [
    "df_pivot = df.pivot_table(index=\"PRODUCT\", columns = \"RECORD_TIME\", values = \"LISTING_COUNT\")"
   ]
  },
  {
   "cell_type": "code",
   "execution_count": 6,
   "id": "union-huntington",
   "metadata": {
    "execution": {
     "iopub.execute_input": "2021-12-07T13:00:12.304100Z",
     "iopub.status.busy": "2021-12-07T13:00:12.301930Z",
     "iopub.status.idle": "2021-12-07T13:00:12.307230Z",
     "shell.execute_reply": "2021-12-07T13:00:12.308574Z"
    },
    "papermill": {
     "duration": 0.044013,
     "end_time": "2021-12-07T13:00:12.309117",
     "exception": false,
     "start_time": "2021-12-07T13:00:12.265104",
     "status": "completed"
    },
    "tags": []
   },
   "outputs": [],
   "source": [
    "df_pivot.columns = [\"stamp_1\", \"stamp_2\"]\n",
    "df_pivot_diff = df_pivot.diff(axis=1)"
   ]
  },
  {
   "cell_type": "code",
   "execution_count": 7,
   "id": "fifth-motion",
   "metadata": {
    "execution": {
     "iopub.execute_input": "2021-12-07T13:00:12.385868Z",
     "iopub.status.busy": "2021-12-07T13:00:12.369934Z",
     "iopub.status.idle": "2021-12-07T13:00:14.034632Z",
     "shell.execute_reply": "2021-12-07T13:00:14.035926Z"
    },
    "papermill": {
     "duration": 1.706953,
     "end_time": "2021-12-07T13:00:14.036347",
     "exception": false,
     "start_time": "2021-12-07T13:00:12.329394",
     "status": "completed"
    },
    "tags": []
   },
   "outputs": [
    {
     "data": {
      "text/plain": [
       "<AxesSubplot:ylabel='PRODUCT'>"
      ]
     },
     "execution_count": 7,
     "metadata": {},
     "output_type": "execute_result"
    },
    {
     "data": {
      "image/png": "[encoded data removed]",
      "text/plain": [
       "<Figure size 432x288 with 1 Axes>"
      ]
     },
     "metadata": {
      "needs_background": "light"
     },
     "output_type": "display_data"
    }
   ],
   "source": [
    "df_pivot_diff.sort_values(\"stamp_2\", ascending = False)[\"stamp_2\"].head(10).plot.barh()"
   ]
  },
  {
   "cell_type": "code",
   "execution_count": null,
   "id": "extra-executive",
   "metadata": {
    "papermill": {
     "duration": 0.02189,
     "end_time": "2021-12-07T13:00:14.082817",
     "exception": false,
     "start_time": "2021-12-07T13:00:14.060927",
     "status": "completed"
    },
    "tags": []
   },
   "outputs": [],
   "source": []
  }
 ],
 "metadata": {
  "kernelspec": {
   "display_name": "Python 3",
   "language": "python",
   "name": "python3"
  },
  "language_info": {
   "codemirror_mode": {
    "name": "ipython",
    "version": 3
   },
   "file_extension": ".py",
   "mimetype": "text/x-python",
   "name": "python",
   "nbconvert_exporter": "python",
   "pygments_lexer": "ipython3",
   "version": "3.9.5"
  },
  "papermill": {
   "default_parameters": {},
   "duration": 9.919776,
   "end_time": "2021-12-07T13:00:15.638662",
   "environment_variables": {},
   "exception": null,
   "input_path": "eBay_Overview.ipynb",
   "output_path": "eBay_Overview.ipynb",
   "parameters": {},
   "start_time": "2021-12-07T13:00:05.718886",
   "version": "2.3.3"
  }
 },
 "nbformat": 4,
 "nbformat_minor": 5
}