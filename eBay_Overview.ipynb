{
 "cells": [
  {
   "cell_type": "code",
   "execution_count": 1,
   "id": "reverse-picking",
   "metadata": {
    "execution": {
     "iopub.execute_input": "2021-11-20T05:00:07.343971Z",
     "iopub.status.busy": "2021-11-20T05:00:07.341786Z",
     "iopub.status.idle": "2021-11-20T05:00:08.302444Z",
     "shell.execute_reply": "2021-11-20T05:00:08.304078Z"
    },
    "papermill": {
     "duration": 1.00889,
     "end_time": "2021-11-20T05:00:08.304868",
     "exception": false,
     "start_time": "2021-11-20T05:00:07.295978",
     "status": "completed"
    },
    "tags": []
   },
   "outputs": [],
   "source": [
    "import pandas as pd\n",
    "import sqlite3"
   ]
  },
  {
   "cell_type": "code",
   "execution_count": 2,
   "id": "innovative-syndrome",
   "metadata": {
    "execution": {
     "iopub.execute_input": "2021-11-20T05:00:08.370096Z",
     "iopub.status.busy": "2021-11-20T05:00:08.367789Z",
     "iopub.status.idle": "2021-11-20T05:00:09.231629Z",
     "shell.execute_reply": "2021-11-20T05:00:09.233060Z"
    },
    "papermill": {
     "duration": 0.898159,
     "end_time": "2021-11-20T05:00:09.233510",
     "exception": false,
     "start_time": "2021-11-20T05:00:08.335351",
     "status": "completed"
    },
    "tags": []
   },
   "outputs": [],
   "source": [
    "timestamps = pd.read_sql(\"select distinct record_time from EBAY_TOP_BERLIN order by record_time desc limit 2\", sqlite3.connect(\"UsedObjects.db\"))"
   ]
  },
  {
   "cell_type": "code",
   "execution_count": 3,
   "id": "periodic-identification",
   "metadata": {
    "execution": {
     "iopub.execute_input": "2021-11-20T05:00:09.303288Z",
     "iopub.status.busy": "2021-11-20T05:00:09.301107Z",
     "iopub.status.idle": "2021-11-20T05:00:09.322937Z",
     "shell.execute_reply": "2021-11-20T05:00:09.324402Z"
    },
    "papermill": {
     "duration": 0.070971,
     "end_time": "2021-11-20T05:00:09.324924",
     "exception": false,
     "start_time": "2021-11-20T05:00:09.253953",
     "status": "completed"
    },
    "tags": []
   },
   "outputs": [
    {
     "data": {
      "text/html": [
       "<div>\n",
       "<style scoped>\n",
       "    .dataframe tbody tr th:only-of-type {\n",
       "        vertical-align: middle;\n",
       "    }\n",
       "\n",
       "    .dataframe tbody tr th {\n",
       "        vertical-align: top;\n",
       "    }\n",
       "\n",
       "    .dataframe thead th {\n",
       "        text-align: right;\n",
       "    }\n",
       "</style>\n",
       "<table border=\"1\" class=\"dataframe\">\n",
       "  <thead>\n",
       "    <tr style=\"text-align: right;\">\n",
       "      <th></th>\n",
       "      <th>RECORD_TIME</th>\n",
       "    </tr>\n",
       "  </thead>\n",
       "  <tbody>\n",
       "    <tr>\n",
       "      <th>0</th>\n",
       "      <td>2021-11-20 06:00</td>\n",
       "    </tr>\n",
       "    <tr>\n",
       "      <th>1</th>\n",
       "      <td>2021-11-20 05:30</td>\n",
       "    </tr>\n",
       "  </tbody>\n",
       "</table>\n",
       "</div>"
      ],
      "text/plain": [
       "        RECORD_TIME\n",
       "0  2021-11-20 06:00\n",
       "1  2021-11-20 05:30"
      ]
     },
     "execution_count": 3,
     "metadata": {},
     "output_type": "execute_result"
    }
   ],
   "source": [
    "timestamps"
   ]
  },
  {
   "cell_type": "code",
   "execution_count": 4,
   "id": "alternate-victory",
   "metadata": {
    "execution": {
     "iopub.execute_input": "2021-11-20T05:00:09.378295Z",
     "iopub.status.busy": "2021-11-20T05:00:09.376095Z",
     "iopub.status.idle": "2021-11-20T05:00:10.655986Z",
     "shell.execute_reply": "2021-11-20T05:00:10.657588Z"
    },
    "papermill": {
     "duration": 1.312823,
     "end_time": "2021-11-20T05:00:10.658099",
     "exception": false,
     "start_time": "2021-11-20T05:00:09.345276",
     "status": "completed"
    },
    "tags": []
   },
   "outputs": [],
   "source": [
    "df = pd.read_sql(\"select * from EBAY_TOP_BERLIN where record_time in (select distinct record_time from EBAY_TOP_BERLIN order by record_time desc limit 2)\", sqlite3.connect(\"UsedObjects.db\"))"
   ]
  },
  {
   "cell_type": "code",
   "execution_count": 5,
   "id": "popular-active",
   "metadata": {
    "execution": {
     "iopub.execute_input": "2021-11-20T05:00:10.737264Z",
     "iopub.status.busy": "2021-11-20T05:00:10.722405Z",
     "iopub.status.idle": "2021-11-20T05:00:10.758296Z",
     "shell.execute_reply": "2021-11-20T05:00:10.759803Z"
    },
    "papermill": {
     "duration": 0.079883,
     "end_time": "2021-11-20T05:00:10.760322",
     "exception": false,
     "start_time": "2021-11-20T05:00:10.680439",
     "status": "completed"
    },
    "tags": []
   },
   "outputs": [],
   "source": [
    "df_pivot = df.pivot_table(index=\"PRODUCT\", columns = \"RECORD_TIME\", values = \"LISTING_COUNT\")"
   ]
  },
  {
   "cell_type": "code",
   "execution_count": 6,
   "id": "union-huntington",
   "metadata": {
    "execution": {
     "iopub.execute_input": "2021-11-20T05:00:10.822706Z",
     "iopub.status.busy": "2021-11-20T05:00:10.820485Z",
     "iopub.status.idle": "2021-11-20T05:00:10.827440Z",
     "shell.execute_reply": "2021-11-20T05:00:10.825359Z"
    },
    "papermill": {
     "duration": 0.044677,
     "end_time": "2021-11-20T05:00:10.827846",
     "exception": false,
     "start_time": "2021-11-20T05:00:10.783169",
     "status": "completed"
    },
    "tags": []
   },
   "outputs": [],
   "source": [
    "df_pivot.columns = [\"stamp_1\", \"stamp_2\"]\n",
    "df_pivot_diff = df_pivot.diff(axis=1)"
   ]
  },
  {
   "cell_type": "code",
   "execution_count": 7,
   "id": "fifth-motion",
   "metadata": {
    "execution": {
     "iopub.execute_input": "2021-11-20T05:00:10.883986Z",
     "iopub.status.busy": "2021-11-20T05:00:10.881552Z",
     "iopub.status.idle": "2021-11-20T05:00:12.657072Z",
     "shell.execute_reply": "2021-11-20T05:00:12.659543Z"
    },
    "papermill": {
     "duration": 1.812438,
     "end_time": "2021-11-20T05:00:12.660386",
     "exception": false,
     "start_time": "2021-11-20T05:00:10.847948",
     "status": "completed"
    },
    "tags": []
   },
   "outputs": [
    {
     "data": {
      "text/plain": [
       "<AxesSubplot:ylabel='PRODUCT'>"
      ]
     },
     "execution_count": 7,
     "metadata": {},
     "output_type": "execute_result"
    },
    {
     "data": {
      "image/png": "[encoded data removed]",
      "text/plain": [
       "<Figure size 432x288 with 1 Axes>"
      ]
     },
     "metadata": {
      "needs_background": "light"
     },
     "output_type": "display_data"
    }
   ],
   "source": [
    "df_pivot_diff.sort_values(\"stamp_2\", ascending = False)[\"stamp_2\"].head(10).plot.barh()"
   ]
  },
  {
   "cell_type": "code",
   "execution_count": null,
   "id": "extra-executive",
   "metadata": {
    "papermill": {
     "duration": 0.037452,
     "end_time": "2021-11-20T05:00:12.732954",
     "exception": false,
     "start_time": "2021-11-20T05:00:12.695502",
     "status": "completed"
    },
    "tags": []
   },
   "outputs": [],
   "source": []
  }
 ],
 "metadata": {
  "kernelspec": {
   "display_name": "Python 3",
   "language": "python",
   "name": "python3"
  },
  "language_info": {
   "codemirror_mode": {
    "name": "ipython",
    "version": 3
   },
   "file_extension": ".py",
   "mimetype": "text/x-python",
   "name": "python",
   "nbconvert_exporter": "python",
   "pygments_lexer": "ipython3",
   "version": "3.9.5"
  },
  "papermill": {
   "default_parameters": {},
   "duration": 10.003191,
   "end_time": "2021-11-20T05:00:14.485586",
   "environment_variables": {},
   "exception": null,
   "input_path": "eBay_Overview.ipynb",
   "output_path": "eBay_Overview.ipynb",
   "parameters": {},
   "start_time": "2021-11-20T05:00:04.482395",
   "version": "2.3.3"
  }
 },
 "nbformat": 4,
 "nbformat_minor": 5
}