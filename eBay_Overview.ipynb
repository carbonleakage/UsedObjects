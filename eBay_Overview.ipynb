{
 "cells": [
  {
   "cell_type": "code",
   "execution_count": 1,
   "id": "reverse-picking",
   "metadata": {
    "execution": {
     "iopub.execute_input": "2021-11-04T13:00:07.816326Z",
     "iopub.status.busy": "2021-11-04T13:00:07.814221Z",
     "iopub.status.idle": "2021-11-04T13:00:08.776600Z",
     "shell.execute_reply": "2021-11-04T13:00:08.778334Z"
    },
    "papermill": {
     "duration": 1.009515,
     "end_time": "2021-11-04T13:00:08.779094",
     "exception": false,
     "start_time": "2021-11-04T13:00:07.769579",
     "status": "completed"
    },
    "tags": []
   },
   "outputs": [],
   "source": [
    "import pandas as pd\n",
    "import sqlite3"
   ]
  },
  {
   "cell_type": "code",
   "execution_count": 2,
   "id": "innovative-syndrome",
   "metadata": {
    "execution": {
     "iopub.execute_input": "2021-11-04T13:00:08.841885Z",
     "iopub.status.busy": "2021-11-04T13:00:08.839623Z",
     "iopub.status.idle": "2021-11-04T13:00:09.577129Z",
     "shell.execute_reply": "2021-11-04T13:00:09.578639Z"
    },
    "papermill": {
     "duration": 0.771656,
     "end_time": "2021-11-04T13:00:09.579131",
     "exception": false,
     "start_time": "2021-11-04T13:00:08.807475",
     "status": "completed"
    },
    "tags": []
   },
   "outputs": [],
   "source": [
    "timestamps = pd.read_sql(\"select distinct record_time from EBAY_TOP_BERLIN order by record_time desc limit 2\", sqlite3.connect(\"UsedObjects.db\"))"
   ]
  },
  {
   "cell_type": "code",
   "execution_count": 3,
   "id": "periodic-identification",
   "metadata": {
    "execution": {
     "iopub.execute_input": "2021-11-04T13:00:09.650841Z",
     "iopub.status.busy": "2021-11-04T13:00:09.648439Z",
     "iopub.status.idle": "2021-11-04T13:00:09.670976Z",
     "shell.execute_reply": "2021-11-04T13:00:09.672253Z"
    },
    "papermill": {
     "duration": 0.071789,
     "end_time": "2021-11-04T13:00:09.672813",
     "exception": false,
     "start_time": "2021-11-04T13:00:09.601024",
     "status": "completed"
    },
    "tags": []
   },
   "outputs": [
    {
     "data": {
      "text/html": [
       "<div>\n",
       "<style scoped>\n",
       "    .dataframe tbody tr th:only-of-type {\n",
       "        vertical-align: middle;\n",
       "    }\n",
       "\n",
       "    .dataframe tbody tr th {\n",
       "        vertical-align: top;\n",
       "    }\n",
       "\n",
       "    .dataframe thead th {\n",
       "        text-align: right;\n",
       "    }\n",
       "</style>\n",
       "<table border=\"1\" class=\"dataframe\">\n",
       "  <thead>\n",
       "    <tr style=\"text-align: right;\">\n",
       "      <th></th>\n",
       "      <th>RECORD_TIME</th>\n",
       "    </tr>\n",
       "  </thead>\n",
       "  <tbody>\n",
       "    <tr>\n",
       "      <th>0</th>\n",
       "      <td>2021-11-04 14:00</td>\n",
       "    </tr>\n",
       "    <tr>\n",
       "      <th>1</th>\n",
       "      <td>2021-11-04 13:30</td>\n",
       "    </tr>\n",
       "  </tbody>\n",
       "</table>\n",
       "</div>"
      ],
      "text/plain": [
       "        RECORD_TIME\n",
       "0  2021-11-04 14:00\n",
       "1  2021-11-04 13:30"
      ]
     },
     "execution_count": 3,
     "metadata": {},
     "output_type": "execute_result"
    }
   ],
   "source": [
    "timestamps"
   ]
  },
  {
   "cell_type": "code",
   "execution_count": 4,
   "id": "alternate-victory",
   "metadata": {
    "execution": {
     "iopub.execute_input": "2021-11-04T13:00:09.726017Z",
     "iopub.status.busy": "2021-11-04T13:00:09.723886Z",
     "iopub.status.idle": "2021-11-04T13:00:10.818385Z",
     "shell.execute_reply": "2021-11-04T13:00:10.819944Z"
    },
    "papermill": {
     "duration": 1.126899,
     "end_time": "2021-11-04T13:00:10.820461",
     "exception": false,
     "start_time": "2021-11-04T13:00:09.693562",
     "status": "completed"
    },
    "tags": []
   },
   "outputs": [],
   "source": [
    "df = pd.read_sql(\"select * from EBAY_TOP_BERLIN where record_time in (select distinct record_time from EBAY_TOP_BERLIN order by record_time desc limit 2)\", sqlite3.connect(\"UsedObjects.db\"))"
   ]
  },
  {
   "cell_type": "code",
   "execution_count": 5,
   "id": "popular-active",
   "metadata": {
    "execution": {
     "iopub.execute_input": "2021-11-04T13:00:10.900150Z",
     "iopub.status.busy": "2021-11-04T13:00:10.886751Z",
     "iopub.status.idle": "2021-11-04T13:00:10.921303Z",
     "shell.execute_reply": "2021-11-04T13:00:10.922909Z"
    },
    "papermill": {
     "duration": 0.080235,
     "end_time": "2021-11-04T13:00:10.923408",
     "exception": false,
     "start_time": "2021-11-04T13:00:10.843173",
     "status": "completed"
    },
    "tags": []
   },
   "outputs": [],
   "source": [
    "df_pivot = df.pivot_table(index=\"PRODUCT\", columns = \"RECORD_TIME\", values = \"LISTING_COUNT\")"
   ]
  },
  {
   "cell_type": "code",
   "execution_count": 6,
   "id": "union-huntington",
   "metadata": {
    "execution": {
     "iopub.execute_input": "2021-11-04T13:00:10.988453Z",
     "iopub.status.busy": "2021-11-04T13:00:10.986015Z",
     "iopub.status.idle": "2021-11-04T13:00:10.991847Z",
     "shell.execute_reply": "2021-11-04T13:00:10.993553Z"
    },
    "papermill": {
     "duration": 0.048853,
     "end_time": "2021-11-04T13:00:10.994049",
     "exception": false,
     "start_time": "2021-11-04T13:00:10.945196",
     "status": "completed"
    },
    "tags": []
   },
   "outputs": [],
   "source": [
    "df_pivot.columns = [\"stamp_1\", \"stamp_2\"]\n",
    "df_pivot_diff = df_pivot.diff(axis=1)"
   ]
  },
  {
   "cell_type": "code",
   "execution_count": 7,
   "id": "fifth-motion",
   "metadata": {
    "execution": {
     "iopub.execute_input": "2021-11-04T13:00:11.054106Z",
     "iopub.status.busy": "2021-11-04T13:00:11.051431Z",
     "iopub.status.idle": "2021-11-04T13:00:12.819816Z",
     "shell.execute_reply": "2021-11-04T13:00:12.822156Z"
    },
    "papermill": {
     "duration": 1.807657,
     "end_time": "2021-11-04T13:00:12.822877",
     "exception": false,
     "start_time": "2021-11-04T13:00:11.015220",
     "status": "completed"
    },
    "tags": []
   },
   "outputs": [
    {
     "data": {
      "text/plain": [
       "<AxesSubplot:ylabel='PRODUCT'>"
      ]
     },
     "execution_count": 7,
     "metadata": {},
     "output_type": "execute_result"
    },
    {
     "data": {
      "image/png": "[encoded data removed]",
      "text/plain": [
       "<Figure size 432x288 with 1 Axes>"
      ]
     },
     "metadata": {
      "needs_background": "light"
     },
     "output_type": "display_data"
    }
   ],
   "source": [
    "df_pivot_diff.sort_values(\"stamp_2\", ascending = False)[\"stamp_2\"].head(10).plot.barh()"
   ]
  },
  {
   "cell_type": "code",
   "execution_count": null,
   "id": "extra-executive",
   "metadata": {
    "papermill": {
     "duration": 0.03878,
     "end_time": "2021-11-04T13:00:12.896952",
     "exception": false,
     "start_time": "2021-11-04T13:00:12.858172",
     "status": "completed"
    },
    "tags": []
   },
   "outputs": [],
   "source": []
  }
 ],
 "metadata": {
  "kernelspec": {
   "display_name": "Python 3",
   "language": "python",
   "name": "python3"
  },
  "language_info": {
   "codemirror_mode": {
    "name": "ipython",
    "version": 3
   },
   "file_extension": ".py",
   "mimetype": "text/x-python",
   "name": "python",
   "nbconvert_exporter": "python",
   "pygments_lexer": "ipython3",
   "version": "3.9.5"
  },
  "papermill": {
   "default_parameters": {},
   "duration": 8.795644,
   "end_time": "2021-11-04T13:00:13.766852",
   "environment_variables": {},
   "exception": null,
   "input_path": "eBay_Overview.ipynb",
   "output_path": "eBay_Overview.ipynb",
   "parameters": {},
   "start_time": "2021-11-04T13:00:04.971208",
   "version": "2.3.3"
  }
 },
 "nbformat": 4,
 "nbformat_minor": 5
}