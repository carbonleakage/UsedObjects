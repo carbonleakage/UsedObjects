{
 "cells": [
  {
   "cell_type": "code",
   "execution_count": 1,
   "id": "reverse-picking",
   "metadata": {
    "execution": {
     "iopub.execute_input": "2021-11-17T03:00:07.648637Z",
     "iopub.status.busy": "2021-11-17T03:00:07.646334Z",
     "iopub.status.idle": "2021-11-17T03:00:08.594824Z",
     "shell.execute_reply": "2021-11-17T03:00:08.596363Z"
    },
    "papermill": {
     "duration": 0.998538,
     "end_time": "2021-11-17T03:00:08.597198",
     "exception": false,
     "start_time": "2021-11-17T03:00:07.598660",
     "status": "completed"
    },
    "tags": []
   },
   "outputs": [],
   "source": [
    "import pandas as pd\n",
    "import sqlite3"
   ]
  },
  {
   "cell_type": "code",
   "execution_count": 2,
   "id": "innovative-syndrome",
   "metadata": {
    "execution": {
     "iopub.execute_input": "2021-11-17T03:00:08.660082Z",
     "iopub.status.busy": "2021-11-17T03:00:08.657727Z",
     "iopub.status.idle": "2021-11-17T03:00:09.497155Z",
     "shell.execute_reply": "2021-11-17T03:00:09.498724Z"
    },
    "papermill": {
     "duration": 0.87319,
     "end_time": "2021-11-17T03:00:09.499213",
     "exception": false,
     "start_time": "2021-11-17T03:00:08.626023",
     "status": "completed"
    },
    "tags": []
   },
   "outputs": [],
   "source": [
    "timestamps = pd.read_sql(\"select distinct record_time from EBAY_TOP_BERLIN order by record_time desc limit 2\", sqlite3.connect(\"UsedObjects.db\"))"
   ]
  },
  {
   "cell_type": "code",
   "execution_count": 3,
   "id": "periodic-identification",
   "metadata": {
    "execution": {
     "iopub.execute_input": "2021-11-17T03:00:09.575459Z",
     "iopub.status.busy": "2021-11-17T03:00:09.573298Z",
     "iopub.status.idle": "2021-11-17T03:00:09.589552Z",
     "shell.execute_reply": "2021-11-17T03:00:09.590922Z"
    },
    "papermill": {
     "duration": 0.071011,
     "end_time": "2021-11-17T03:00:09.591397",
     "exception": false,
     "start_time": "2021-11-17T03:00:09.520386",
     "status": "completed"
    },
    "tags": []
   },
   "outputs": [
    {
     "data": {
      "text/html": [
       "<div>\n",
       "<style scoped>\n",
       "    .dataframe tbody tr th:only-of-type {\n",
       "        vertical-align: middle;\n",
       "    }\n",
       "\n",
       "    .dataframe tbody tr th {\n",
       "        vertical-align: top;\n",
       "    }\n",
       "\n",
       "    .dataframe thead th {\n",
       "        text-align: right;\n",
       "    }\n",
       "</style>\n",
       "<table border=\"1\" class=\"dataframe\">\n",
       "  <thead>\n",
       "    <tr style=\"text-align: right;\">\n",
       "      <th></th>\n",
       "      <th>RECORD_TIME</th>\n",
       "    </tr>\n",
       "  </thead>\n",
       "  <tbody>\n",
       "    <tr>\n",
       "      <th>0</th>\n",
       "      <td>2021-11-17 04:00</td>\n",
       "    </tr>\n",
       "    <tr>\n",
       "      <th>1</th>\n",
       "      <td>2021-11-17 03:30</td>\n",
       "    </tr>\n",
       "  </tbody>\n",
       "</table>\n",
       "</div>"
      ],
      "text/plain": [
       "        RECORD_TIME\n",
       "0  2021-11-17 04:00\n",
       "1  2021-11-17 03:30"
      ]
     },
     "execution_count": 3,
     "metadata": {},
     "output_type": "execute_result"
    }
   ],
   "source": [
    "timestamps"
   ]
  },
  {
   "cell_type": "code",
   "execution_count": 4,
   "id": "alternate-victory",
   "metadata": {
    "execution": {
     "iopub.execute_input": "2021-11-17T03:00:09.648789Z",
     "iopub.status.busy": "2021-11-17T03:00:09.646849Z",
     "iopub.status.idle": "2021-11-17T03:00:10.891322Z",
     "shell.execute_reply": "2021-11-17T03:00:10.892745Z"
    },
    "papermill": {
     "duration": 1.280094,
     "end_time": "2021-11-17T03:00:10.893196",
     "exception": false,
     "start_time": "2021-11-17T03:00:09.613102",
     "status": "completed"
    },
    "tags": []
   },
   "outputs": [],
   "source": [
    "df = pd.read_sql(\"select * from EBAY_TOP_BERLIN where record_time in (select distinct record_time from EBAY_TOP_BERLIN order by record_time desc limit 2)\", sqlite3.connect(\"UsedObjects.db\"))"
   ]
  },
  {
   "cell_type": "code",
   "execution_count": 5,
   "id": "popular-active",
   "metadata": {
    "execution": {
     "iopub.execute_input": "2021-11-17T03:00:10.964447Z",
     "iopub.status.busy": "2021-11-17T03:00:10.955947Z",
     "iopub.status.idle": "2021-11-17T03:00:10.991152Z",
     "shell.execute_reply": "2021-11-17T03:00:10.992510Z"
    },
    "papermill": {
     "duration": 0.079189,
     "end_time": "2021-11-17T03:00:10.993006",
     "exception": false,
     "start_time": "2021-11-17T03:00:10.913817",
     "status": "completed"
    },
    "tags": []
   },
   "outputs": [],
   "source": [
    "df_pivot = df.pivot_table(index=\"PRODUCT\", columns = \"RECORD_TIME\", values = \"LISTING_COUNT\")"
   ]
  },
  {
   "cell_type": "code",
   "execution_count": 6,
   "id": "union-huntington",
   "metadata": {
    "execution": {
     "iopub.execute_input": "2021-11-17T03:00:11.055591Z",
     "iopub.status.busy": "2021-11-17T03:00:11.053208Z",
     "iopub.status.idle": "2021-11-17T03:00:11.060295Z",
     "shell.execute_reply": "2021-11-17T03:00:11.058298Z"
    },
    "papermill": {
     "duration": 0.046264,
     "end_time": "2021-11-17T03:00:11.060787",
     "exception": false,
     "start_time": "2021-11-17T03:00:11.014523",
     "status": "completed"
    },
    "tags": []
   },
   "outputs": [],
   "source": [
    "df_pivot.columns = [\"stamp_1\", \"stamp_2\"]\n",
    "df_pivot_diff = df_pivot.diff(axis=1)"
   ]
  },
  {
   "cell_type": "code",
   "execution_count": 7,
   "id": "fifth-motion",
   "metadata": {
    "execution": {
     "iopub.execute_input": "2021-11-17T03:00:11.117640Z",
     "iopub.status.busy": "2021-11-17T03:00:11.115052Z",
     "iopub.status.idle": "2021-11-17T03:00:13.029064Z",
     "shell.execute_reply": "2021-11-17T03:00:13.030627Z"
    },
    "papermill": {
     "duration": 1.949365,
     "end_time": "2021-11-17T03:00:13.031172",
     "exception": false,
     "start_time": "2021-11-17T03:00:11.081807",
     "status": "completed"
    },
    "tags": []
   },
   "outputs": [
    {
     "data": {
      "text/plain": [
       "<AxesSubplot:ylabel='PRODUCT'>"
      ]
     },
     "execution_count": 7,
     "metadata": {},
     "output_type": "execute_result"
    },
    {
     "data": {
      "image/png": "[encoded data removed]",
      "text/plain": [
       "<Figure size 432x288 with 1 Axes>"
      ]
     },
     "metadata": {
      "needs_background": "light"
     },
     "output_type": "display_data"
    }
   ],
   "source": [
    "df_pivot_diff.sort_values(\"stamp_2\", ascending = False)[\"stamp_2\"].head(10).plot.barh()"
   ]
  },
  {
   "cell_type": "code",
   "execution_count": null,
   "id": "extra-executive",
   "metadata": {
    "papermill": {
     "duration": 0.034287,
     "end_time": "2021-11-17T03:00:13.101577",
     "exception": false,
     "start_time": "2021-11-17T03:00:13.067290",
     "status": "completed"
    },
    "tags": []
   },
   "outputs": [],
   "source": []
  }
 ],
 "metadata": {
  "kernelspec": {
   "display_name": "Python 3",
   "language": "python",
   "name": "python3"
  },
  "language_info": {
   "codemirror_mode": {
    "name": "ipython",
    "version": 3
   },
   "file_extension": ".py",
   "mimetype": "text/x-python",
   "name": "python",
   "nbconvert_exporter": "python",
   "pygments_lexer": "ipython3",
   "version": "3.9.5"
  },
  "papermill": {
   "default_parameters": {},
   "duration": 9.933959,
   "end_time": "2021-11-17T03:00:14.817892",
   "environment_variables": {},
   "exception": null,
   "input_path": "eBay_Overview.ipynb",
   "output_path": "eBay_Overview.ipynb",
   "parameters": {},
   "start_time": "2021-11-17T03:00:04.883933",
   "version": "2.3.3"
  }
 },
 "nbformat": 4,
 "nbformat_minor": 5
}