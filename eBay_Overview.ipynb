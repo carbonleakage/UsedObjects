{
 "cells": [
  {
   "cell_type": "code",
   "execution_count": 1,
   "id": "reverse-picking",
   "metadata": {
    "execution": {
     "iopub.execute_input": "2021-12-19T05:00:07.562532Z",
     "iopub.status.busy": "2021-12-19T05:00:07.545750Z",
     "iopub.status.idle": "2021-12-19T05:00:08.517899Z",
     "shell.execute_reply": "2021-12-19T05:00:08.519406Z"
    },
    "papermill": {
     "duration": 1.006559,
     "end_time": "2021-12-19T05:00:08.520130",
     "exception": false,
     "start_time": "2021-12-19T05:00:07.513571",
     "status": "completed"
    },
    "tags": []
   },
   "outputs": [],
   "source": [
    "import pandas as pd\n",
    "import sqlite3"
   ]
  },
  {
   "cell_type": "code",
   "execution_count": 2,
   "id": "innovative-syndrome",
   "metadata": {
    "execution": {
     "iopub.execute_input": "2021-12-19T05:00:08.584819Z",
     "iopub.status.busy": "2021-12-19T05:00:08.582439Z",
     "iopub.status.idle": "2021-12-19T05:00:09.735543Z",
     "shell.execute_reply": "2021-12-19T05:00:09.736844Z"
    },
    "papermill": {
     "duration": 1.186969,
     "end_time": "2021-12-19T05:00:09.737272",
     "exception": false,
     "start_time": "2021-12-19T05:00:08.550303",
     "status": "completed"
    },
    "tags": []
   },
   "outputs": [],
   "source": [
    "timestamps = pd.read_sql(\"select distinct record_time from EBAY_TOP_BERLIN order by record_time desc limit 2\", sqlite3.connect(\"UsedObjects.db\"))"
   ]
  },
  {
   "cell_type": "code",
   "execution_count": 3,
   "id": "periodic-identification",
   "metadata": {
    "execution": {
     "iopub.execute_input": "2021-12-19T05:00:09.800823Z",
     "iopub.status.busy": "2021-12-19T05:00:09.798730Z",
     "iopub.status.idle": "2021-12-19T05:00:09.819354Z",
     "shell.execute_reply": "2021-12-19T05:00:09.820669Z"
    },
    "papermill": {
     "duration": 0.064281,
     "end_time": "2021-12-19T05:00:09.821166",
     "exception": false,
     "start_time": "2021-12-19T05:00:09.756885",
     "status": "completed"
    },
    "tags": []
   },
   "outputs": [
    {
     "data": {
      "text/html": [
       "<div>\n",
       "<style scoped>\n",
       "    .dataframe tbody tr th:only-of-type {\n",
       "        vertical-align: middle;\n",
       "    }\n",
       "\n",
       "    .dataframe tbody tr th {\n",
       "        vertical-align: top;\n",
       "    }\n",
       "\n",
       "    .dataframe thead th {\n",
       "        text-align: right;\n",
       "    }\n",
       "</style>\n",
       "<table border=\"1\" class=\"dataframe\">\n",
       "  <thead>\n",
       "    <tr style=\"text-align: right;\">\n",
       "      <th></th>\n",
       "      <th>RECORD_TIME</th>\n",
       "    </tr>\n",
       "  </thead>\n",
       "  <tbody>\n",
       "    <tr>\n",
       "      <th>0</th>\n",
       "      <td>2021-12-19 06:00</td>\n",
       "    </tr>\n",
       "    <tr>\n",
       "      <th>1</th>\n",
       "      <td>2021-12-19 05:30</td>\n",
       "    </tr>\n",
       "  </tbody>\n",
       "</table>\n",
       "</div>"
      ],
      "text/plain": [
       "        RECORD_TIME\n",
       "0  2021-12-19 06:00\n",
       "1  2021-12-19 05:30"
      ]
     },
     "execution_count": 3,
     "metadata": {},
     "output_type": "execute_result"
    }
   ],
   "source": [
    "timestamps"
   ]
  },
  {
   "cell_type": "code",
   "execution_count": 4,
   "id": "alternate-victory",
   "metadata": {
    "execution": {
     "iopub.execute_input": "2021-12-19T05:00:09.872662Z",
     "iopub.status.busy": "2021-12-19T05:00:09.870774Z",
     "iopub.status.idle": "2021-12-19T05:00:11.518752Z",
     "shell.execute_reply": "2021-12-19T05:00:11.520378Z"
    },
    "papermill": {
     "duration": 1.678573,
     "end_time": "2021-12-19T05:00:11.520939",
     "exception": false,
     "start_time": "2021-12-19T05:00:09.842366",
     "status": "completed"
    },
    "tags": []
   },
   "outputs": [],
   "source": [
    "df = pd.read_sql(\"select * from EBAY_TOP_BERLIN where record_time in (select distinct record_time from EBAY_TOP_BERLIN order by record_time desc limit 2)\", sqlite3.connect(\"UsedObjects.db\"))"
   ]
  },
  {
   "cell_type": "code",
   "execution_count": 5,
   "id": "popular-active",
   "metadata": {
    "execution": {
     "iopub.execute_input": "2021-12-19T05:00:11.586222Z",
     "iopub.status.busy": "2021-12-19T05:00:11.583848Z",
     "iopub.status.idle": "2021-12-19T05:00:11.614627Z",
     "shell.execute_reply": "2021-12-19T05:00:11.615999Z"
    },
    "papermill": {
     "duration": 0.072777,
     "end_time": "2021-12-19T05:00:11.616475",
     "exception": false,
     "start_time": "2021-12-19T05:00:11.543698",
     "status": "completed"
    },
    "tags": []
   },
   "outputs": [],
   "source": [
    "df_pivot = df.pivot_table(index=\"PRODUCT\", columns = \"RECORD_TIME\", values = \"LISTING_COUNT\")"
   ]
  },
  {
   "cell_type": "code",
   "execution_count": 6,
   "id": "union-huntington",
   "metadata": {
    "execution": {
     "iopub.execute_input": "2021-12-19T05:00:11.676461Z",
     "iopub.status.busy": "2021-12-19T05:00:11.674255Z",
     "iopub.status.idle": "2021-12-19T05:00:11.679941Z",
     "shell.execute_reply": "2021-12-19T05:00:11.681548Z"
    },
    "papermill": {
     "duration": 0.045631,
     "end_time": "2021-12-19T05:00:11.682121",
     "exception": false,
     "start_time": "2021-12-19T05:00:11.636490",
     "status": "completed"
    },
    "tags": []
   },
   "outputs": [],
   "source": [
    "df_pivot.columns = [\"stamp_1\", \"stamp_2\"]\n",
    "df_pivot_diff = df_pivot.diff(axis=1)"
   ]
  },
  {
   "cell_type": "code",
   "execution_count": 7,
   "id": "fifth-motion",
   "metadata": {
    "execution": {
     "iopub.execute_input": "2021-12-19T05:00:11.741335Z",
     "iopub.status.busy": "2021-12-19T05:00:11.738731Z",
     "iopub.status.idle": "2021-12-19T05:00:13.771760Z",
     "shell.execute_reply": "2021-12-19T05:00:13.773202Z"
    },
    "papermill": {
     "duration": 2.069656,
     "end_time": "2021-12-19T05:00:13.773670",
     "exception": false,
     "start_time": "2021-12-19T05:00:11.704014",
     "status": "completed"
    },
    "tags": []
   },
   "outputs": [
    {
     "data": {
      "text/plain": [
       "<AxesSubplot:ylabel='PRODUCT'>"
      ]
     },
     "execution_count": 7,
     "metadata": {},
     "output_type": "execute_result"
    },
    {
     "data": {
      "image/png": "[encoded data removed]",
      "text/plain": [
       "<Figure size 432x288 with 1 Axes>"
      ]
     },
     "metadata": {
      "needs_background": "light"
     },
     "output_type": "display_data"
    }
   ],
   "source": [
    "df_pivot_diff.sort_values(\"stamp_2\", ascending = False)[\"stamp_2\"].head(10).plot.barh()"
   ]
  },
  {
   "cell_type": "code",
   "execution_count": null,
   "id": "extra-executive",
   "metadata": {
    "papermill": {
     "duration": 0.022235,
     "end_time": "2021-12-19T05:00:13.821837",
     "exception": false,
     "start_time": "2021-12-19T05:00:13.799602",
     "status": "completed"
    },
    "tags": []
   },
   "outputs": [],
   "source": []
  }
 ],
 "metadata": {
  "kernelspec": {
   "display_name": "Python 3",
   "language": "python",
   "name": "python3"
  },
  "language_info": {
   "codemirror_mode": {
    "name": "ipython",
    "version": 3
   },
   "file_extension": ".py",
   "mimetype": "text/x-python",
   "name": "python",
   "nbconvert_exporter": "python",
   "pygments_lexer": "ipython3",
   "version": "3.9.5"
  },
  "papermill": {
   "default_parameters": {},
   "duration": 9.702988,
   "end_time": "2021-12-19T05:00:14.465207",
   "environment_variables": {},
   "exception": null,
   "input_path": "eBay_Overview.ipynb",
   "output_path": "eBay_Overview.ipynb",
   "parameters": {},
   "start_time": "2021-12-19T05:00:04.762219",
   "version": "2.3.3"
  }
 },
 "nbformat": 4,
 "nbformat_minor": 5
}