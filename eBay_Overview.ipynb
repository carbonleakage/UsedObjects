{
 "cells": [
  {
   "cell_type": "code",
   "execution_count": 1,
   "id": "reverse-picking",
   "metadata": {
    "execution": {
     "iopub.execute_input": "2021-08-12T08:30:04.200025Z",
     "iopub.status.busy": "2021-08-12T08:30:04.199264Z",
     "iopub.status.idle": "2021-08-12T08:30:04.801146Z",
     "shell.execute_reply": "2021-08-12T08:30:04.799910Z"
    },
    "papermill": {
     "duration": 0.620355,
     "end_time": "2021-08-12T08:30:04.801491",
     "exception": false,
     "start_time": "2021-08-12T08:30:04.181136",
     "status": "completed"
    },
    "tags": []
   },
   "outputs": [],
   "source": [
    "import pandas as pd\n",
    "import sqlite3"
   ]
  },
  {
   "cell_type": "code",
   "execution_count": 2,
   "id": "innovative-syndrome",
   "metadata": {
    "execution": {
     "iopub.execute_input": "2021-08-12T08:30:04.824960Z",
     "iopub.status.busy": "2021-08-12T08:30:04.824195Z",
     "iopub.status.idle": "2021-08-12T08:30:05.041591Z",
     "shell.execute_reply": "2021-08-12T08:30:05.042160Z"
    },
    "papermill": {
     "duration": 0.230117,
     "end_time": "2021-08-12T08:30:05.042356",
     "exception": false,
     "start_time": "2021-08-12T08:30:04.812239",
     "status": "completed"
    },
    "tags": []
   },
   "outputs": [],
   "source": [
    "timestamps = pd.read_sql(\"select distinct record_time from EBAY_TOP_BERLIN order by record_time desc limit 2\", sqlite3.connect(\"UsedObjects.db\"))"
   ]
  },
  {
   "cell_type": "code",
   "execution_count": 3,
   "id": "periodic-identification",
   "metadata": {
    "execution": {
     "iopub.execute_input": "2021-08-12T08:30:05.075279Z",
     "iopub.status.busy": "2021-08-12T08:30:05.074471Z",
     "iopub.status.idle": "2021-08-12T08:30:05.086961Z",
     "shell.execute_reply": "2021-08-12T08:30:05.087523Z"
    },
    "papermill": {
     "duration": 0.03513,
     "end_time": "2021-08-12T08:30:05.087713",
     "exception": false,
     "start_time": "2021-08-12T08:30:05.052583",
     "status": "completed"
    },
    "tags": []
   },
   "outputs": [
    {
     "data": {
      "text/html": [
       "<div>\n",
       "<style scoped>\n",
       "    .dataframe tbody tr th:only-of-type {\n",
       "        vertical-align: middle;\n",
       "    }\n",
       "\n",
       "    .dataframe tbody tr th {\n",
       "        vertical-align: top;\n",
       "    }\n",
       "\n",
       "    .dataframe thead th {\n",
       "        text-align: right;\n",
       "    }\n",
       "</style>\n",
       "<table border=\"1\" class=\"dataframe\">\n",
       "  <thead>\n",
       "    <tr style=\"text-align: right;\">\n",
       "      <th></th>\n",
       "      <th>RECORD_TIME</th>\n",
       "    </tr>\n",
       "  </thead>\n",
       "  <tbody>\n",
       "    <tr>\n",
       "      <th>0</th>\n",
       "      <td>2021-08-12 10:30</td>\n",
       "    </tr>\n",
       "    <tr>\n",
       "      <th>1</th>\n",
       "      <td>2021-08-12 10:00</td>\n",
       "    </tr>\n",
       "  </tbody>\n",
       "</table>\n",
       "</div>"
      ],
      "text/plain": [
       "        RECORD_TIME\n",
       "0  2021-08-12 10:30\n",
       "1  2021-08-12 10:00"
      ]
     },
     "execution_count": 3,
     "metadata": {},
     "output_type": "execute_result"
    }
   ],
   "source": [
    "timestamps"
   ]
  },
  {
   "cell_type": "code",
   "execution_count": 4,
   "id": "alternate-victory",
   "metadata": {
    "execution": {
     "iopub.execute_input": "2021-08-12T08:30:05.115201Z",
     "iopub.status.busy": "2021-08-12T08:30:05.114391Z",
     "iopub.status.idle": "2021-08-12T08:30:05.187313Z",
     "shell.execute_reply": "2021-08-12T08:30:05.186334Z"
    },
    "papermill": {
     "duration": 0.090346,
     "end_time": "2021-08-12T08:30:05.187570",
     "exception": false,
     "start_time": "2021-08-12T08:30:05.097224",
     "status": "completed"
    },
    "tags": []
   },
   "outputs": [],
   "source": [
    "df = pd.read_sql(\"select * from EBAY_TOP_BERLIN where record_time in (select distinct record_time from EBAY_TOP_BERLIN order by record_time desc limit 2)\", sqlite3.connect(\"UsedObjects.db\"))"
   ]
  },
  {
   "cell_type": "code",
   "execution_count": 5,
   "id": "popular-active",
   "metadata": {
    "execution": {
     "iopub.execute_input": "2021-08-12T08:30:05.263825Z",
     "iopub.status.busy": "2021-08-12T08:30:05.245384Z",
     "iopub.status.idle": "2021-08-12T08:30:05.310441Z",
     "shell.execute_reply": "2021-08-12T08:30:05.309826Z"
    },
    "papermill": {
     "duration": 0.098743,
     "end_time": "2021-08-12T08:30:05.310604",
     "exception": false,
     "start_time": "2021-08-12T08:30:05.211861",
     "status": "completed"
    },
    "tags": []
   },
   "outputs": [],
   "source": [
    "df_pivot = df.pivot_table(index=\"PRODUCT\", columns = \"RECORD_TIME\", values = \"LISTING_COUNT\")"
   ]
  },
  {
   "cell_type": "code",
   "execution_count": 6,
   "id": "union-huntington",
   "metadata": {
    "execution": {
     "iopub.execute_input": "2021-08-12T08:30:05.356239Z",
     "iopub.status.busy": "2021-08-12T08:30:05.354819Z",
     "iopub.status.idle": "2021-08-12T08:30:05.364229Z",
     "shell.execute_reply": "2021-08-12T08:30:05.363052Z"
    },
    "papermill": {
     "duration": 0.044346,
     "end_time": "2021-08-12T08:30:05.364511",
     "exception": false,
     "start_time": "2021-08-12T08:30:05.320165",
     "status": "completed"
    },
    "tags": []
   },
   "outputs": [],
   "source": [
    "df_pivot.columns = [\"stamp_1\", \"stamp_2\"]\n",
    "df_pivot_diff = df_pivot.diff(axis=1)"
   ]
  },
  {
   "cell_type": "code",
   "execution_count": 7,
   "id": "fifth-motion",
   "metadata": {
    "execution": {
     "iopub.execute_input": "2021-08-12T08:30:05.396024Z",
     "iopub.status.busy": "2021-08-12T08:30:05.395262Z",
     "iopub.status.idle": "2021-08-12T08:30:06.394796Z",
     "shell.execute_reply": "2021-08-12T08:30:06.395420Z"
    },
    "papermill": {
     "duration": 1.015587,
     "end_time": "2021-08-12T08:30:06.395617",
     "exception": false,
     "start_time": "2021-08-12T08:30:05.380030",
     "status": "completed"
    },
    "tags": []
   },
   "outputs": [
    {
     "data": {
      "text/plain": [
       "<AxesSubplot:ylabel='PRODUCT'>"
      ]
     },
     "execution_count": 7,
     "metadata": {},
     "output_type": "execute_result"
    },
    {
     "data": {
      "image/png": "[encoded data removed]",
      "text/plain": [
       "<Figure size 432x288 with 1 Axes>"
      ]
     },
     "metadata": {
      "needs_background": "light"
     },
     "output_type": "display_data"
    }
   ],
   "source": [
    "df_pivot_diff.sort_values(\"stamp_2\", ascending = False)[\"stamp_2\"].head(10).plot.barh()"
   ]
  },
  {
   "cell_type": "code",
   "execution_count": null,
   "id": "extra-executive",
   "metadata": {
    "papermill": {
     "duration": 0.010807,
     "end_time": "2021-08-12T08:30:06.417324",
     "exception": false,
     "start_time": "2021-08-12T08:30:06.406517",
     "status": "completed"
    },
    "tags": []
   },
   "outputs": [],
   "source": []
  }
 ],
 "metadata": {
  "kernelspec": {
   "display_name": "Python 3",
   "language": "python",
   "name": "python3"
  },
  "language_info": {
   "codemirror_mode": {
    "name": "ipython",
    "version": 3
   },
   "file_extension": ".py",
   "mimetype": "text/x-python",
   "name": "python",
   "nbconvert_exporter": "python",
   "pygments_lexer": "ipython3",
   "version": "3.8.8"
  },
  "papermill": {
   "default_parameters": {},
   "duration": 4.643319,
   "end_time": "2021-08-12T08:30:07.155746",
   "environment_variables": {},
   "exception": null,
   "input_path": "/Users/saravananshanmugam/Carbonleakage_Git/UsedObjects/eBay_Overview.ipynb",
   "output_path": "/Users/saravananshanmugam/Carbonleakage_Git/UsedObjects/eBay_Overview.ipynb",
   "parameters": {},
   "start_time": "2021-08-12T08:30:02.512427",
   "version": "2.3.3"
  }
 },
 "nbformat": 4,
 "nbformat_minor": 5
}