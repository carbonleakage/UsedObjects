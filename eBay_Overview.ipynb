{
 "cells": [
  {
   "cell_type": "code",
   "execution_count": 1,
   "id": "reverse-picking",
   "metadata": {
    "execution": {
     "iopub.execute_input": "2021-09-23T06:00:07.555194Z",
     "iopub.status.busy": "2021-09-23T06:00:07.553180Z",
     "iopub.status.idle": "2021-09-23T06:00:08.357420Z",
     "shell.execute_reply": "2021-09-23T06:00:08.355671Z"
    },
    "papermill": {
     "duration": 0.85358,
     "end_time": "2021-09-23T06:00:08.357850",
     "exception": false,
     "start_time": "2021-09-23T06:00:07.504270",
     "status": "completed"
    },
    "tags": []
   },
   "outputs": [],
   "source": [
    "import pandas as pd\n",
    "import sqlite3"
   ]
  },
  {
   "cell_type": "code",
   "execution_count": 2,
   "id": "innovative-syndrome",
   "metadata": {
    "execution": {
     "iopub.execute_input": "2021-09-23T06:00:08.408521Z",
     "iopub.status.busy": "2021-09-23T06:00:08.406139Z",
     "iopub.status.idle": "2021-09-23T06:00:08.765728Z",
     "shell.execute_reply": "2021-09-23T06:00:08.767109Z"
    },
    "papermill": {
     "duration": 0.389578,
     "end_time": "2021-09-23T06:00:08.767570",
     "exception": false,
     "start_time": "2021-09-23T06:00:08.377992",
     "status": "completed"
    },
    "tags": []
   },
   "outputs": [],
   "source": [
    "timestamps = pd.read_sql(\"select distinct record_time from EBAY_TOP_BERLIN order by record_time desc limit 2\", sqlite3.connect(\"UsedObjects.db\"))"
   ]
  },
  {
   "cell_type": "code",
   "execution_count": 3,
   "id": "periodic-identification",
   "metadata": {
    "execution": {
     "iopub.execute_input": "2021-09-23T06:00:08.833556Z",
     "iopub.status.busy": "2021-09-23T06:00:08.831541Z",
     "iopub.status.idle": "2021-09-23T06:00:08.851434Z",
     "shell.execute_reply": "2021-09-23T06:00:08.852752Z"
    },
    "papermill": {
     "duration": 0.066132,
     "end_time": "2021-09-23T06:00:08.853167",
     "exception": false,
     "start_time": "2021-09-23T06:00:08.787035",
     "status": "completed"
    },
    "tags": []
   },
   "outputs": [
    {
     "data": {
      "text/html": [
       "<div>\n",
       "<style scoped>\n",
       "    .dataframe tbody tr th:only-of-type {\n",
       "        vertical-align: middle;\n",
       "    }\n",
       "\n",
       "    .dataframe tbody tr th {\n",
       "        vertical-align: top;\n",
       "    }\n",
       "\n",
       "    .dataframe thead th {\n",
       "        text-align: right;\n",
       "    }\n",
       "</style>\n",
       "<table border=\"1\" class=\"dataframe\">\n",
       "  <thead>\n",
       "    <tr style=\"text-align: right;\">\n",
       "      <th></th>\n",
       "      <th>RECORD_TIME</th>\n",
       "    </tr>\n",
       "  </thead>\n",
       "  <tbody>\n",
       "    <tr>\n",
       "      <th>0</th>\n",
       "      <td>2021-09-23 08:00</td>\n",
       "    </tr>\n",
       "    <tr>\n",
       "      <th>1</th>\n",
       "      <td>2021-09-23 07:30</td>\n",
       "    </tr>\n",
       "  </tbody>\n",
       "</table>\n",
       "</div>"
      ],
      "text/plain": [
       "        RECORD_TIME\n",
       "0  2021-09-23 08:00\n",
       "1  2021-09-23 07:30"
      ]
     },
     "execution_count": 3,
     "metadata": {},
     "output_type": "execute_result"
    }
   ],
   "source": [
    "timestamps"
   ]
  },
  {
   "cell_type": "code",
   "execution_count": 4,
   "id": "alternate-victory",
   "metadata": {
    "execution": {
     "iopub.execute_input": "2021-09-23T06:00:08.903941Z",
     "iopub.status.busy": "2021-09-23T06:00:08.901981Z",
     "iopub.status.idle": "2021-09-23T06:00:09.420455Z",
     "shell.execute_reply": "2021-09-23T06:00:09.421738Z"
    },
    "papermill": {
     "duration": 0.548023,
     "end_time": "2021-09-23T06:00:09.422147",
     "exception": false,
     "start_time": "2021-09-23T06:00:08.874124",
     "status": "completed"
    },
    "tags": []
   },
   "outputs": [],
   "source": [
    "df = pd.read_sql(\"select * from EBAY_TOP_BERLIN where record_time in (select distinct record_time from EBAY_TOP_BERLIN order by record_time desc limit 2)\", sqlite3.connect(\"UsedObjects.db\"))"
   ]
  },
  {
   "cell_type": "code",
   "execution_count": 5,
   "id": "popular-active",
   "metadata": {
    "execution": {
     "iopub.execute_input": "2021-09-23T06:00:09.501934Z",
     "iopub.status.busy": "2021-09-23T06:00:09.490499Z",
     "iopub.status.idle": "2021-09-23T06:00:09.518480Z",
     "shell.execute_reply": "2021-09-23T06:00:09.519784Z"
    },
    "papermill": {
     "duration": 0.072069,
     "end_time": "2021-09-23T06:00:09.520180",
     "exception": false,
     "start_time": "2021-09-23T06:00:09.448111",
     "status": "completed"
    },
    "tags": []
   },
   "outputs": [],
   "source": [
    "df_pivot = df.pivot_table(index=\"PRODUCT\", columns = \"RECORD_TIME\", values = \"LISTING_COUNT\")"
   ]
  },
  {
   "cell_type": "code",
   "execution_count": 6,
   "id": "union-huntington",
   "metadata": {
    "execution": {
     "iopub.execute_input": "2021-09-23T06:00:09.578253Z",
     "iopub.status.busy": "2021-09-23T06:00:09.575979Z",
     "iopub.status.idle": "2021-09-23T06:00:09.581759Z",
     "shell.execute_reply": "2021-09-23T06:00:09.583121Z"
    },
    "papermill": {
     "duration": 0.041263,
     "end_time": "2021-09-23T06:00:09.583541",
     "exception": false,
     "start_time": "2021-09-23T06:00:09.542278",
     "status": "completed"
    },
    "tags": []
   },
   "outputs": [],
   "source": [
    "df_pivot.columns = [\"stamp_1\", \"stamp_2\"]\n",
    "df_pivot_diff = df_pivot.diff(axis=1)"
   ]
  },
  {
   "cell_type": "code",
   "execution_count": 7,
   "id": "fifth-motion",
   "metadata": {
    "execution": {
     "iopub.execute_input": "2021-09-23T06:00:09.637022Z",
     "iopub.status.busy": "2021-09-23T06:00:09.634586Z",
     "iopub.status.idle": "2021-09-23T06:00:11.138735Z",
     "shell.execute_reply": "2021-09-23T06:00:11.140162Z"
    },
    "papermill": {
     "duration": 1.537302,
     "end_time": "2021-09-23T06:00:11.140598",
     "exception": false,
     "start_time": "2021-09-23T06:00:09.603296",
     "status": "completed"
    },
    "tags": []
   },
   "outputs": [
    {
     "data": {
      "text/plain": [
       "<AxesSubplot:ylabel='PRODUCT'>"
      ]
     },
     "execution_count": 7,
     "metadata": {},
     "output_type": "execute_result"
    },
    {
     "data": {
      "image/png": "[encoded data removed]",
      "text/plain": [
       "<Figure size 432x288 with 1 Axes>"
      ]
     },
     "metadata": {
      "needs_background": "light"
     },
     "output_type": "display_data"
    }
   ],
   "source": [
    "df_pivot_diff.sort_values(\"stamp_2\", ascending = False)[\"stamp_2\"].head(10).plot.barh()"
   ]
  },
  {
   "cell_type": "code",
   "execution_count": null,
   "id": "extra-executive",
   "metadata": {
    "papermill": {
     "duration": 0.022059,
     "end_time": "2021-09-23T06:00:11.187452",
     "exception": false,
     "start_time": "2021-09-23T06:00:11.165393",
     "status": "completed"
    },
    "tags": []
   },
   "outputs": [],
   "source": []
  }
 ],
 "metadata": {
  "kernelspec": {
   "display_name": "Python 3",
   "language": "python",
   "name": "python3"
  },
  "language_info": {
   "codemirror_mode": {
    "name": "ipython",
    "version": 3
   },
   "file_extension": ".py",
   "mimetype": "text/x-python",
   "name": "python",
   "nbconvert_exporter": "python",
   "pygments_lexer": "ipython3",
   "version": "3.9.5"
  },
  "papermill": {
   "default_parameters": {},
   "duration": 6.725991,
   "end_time": "2021-09-23T06:00:11.830748",
   "environment_variables": {},
   "exception": null,
   "input_path": "eBay_Overview.ipynb",
   "output_path": "eBay_Overview.ipynb",
   "parameters": {},
   "start_time": "2021-09-23T06:00:05.104757",
   "version": "2.3.3"
  }
 },
 "nbformat": 4,
 "nbformat_minor": 5
}