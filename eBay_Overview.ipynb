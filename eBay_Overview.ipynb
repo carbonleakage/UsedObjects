{
 "cells": [
  {
   "cell_type": "code",
   "execution_count": 1,
   "id": "reverse-picking",
   "metadata": {
    "execution": {
     "iopub.execute_input": "2021-12-05T19:00:08.320487Z",
     "iopub.status.busy": "2021-12-05T19:00:08.318145Z",
     "iopub.status.idle": "2021-12-05T19:00:09.280011Z",
     "shell.execute_reply": "2021-12-05T19:00:09.281786Z"
    },
    "papermill": {
     "duration": 1.011231,
     "end_time": "2021-12-05T19:00:09.282490",
     "exception": false,
     "start_time": "2021-12-05T19:00:08.271259",
     "status": "completed"
    },
    "tags": []
   },
   "outputs": [],
   "source": [
    "import pandas as pd\n",
    "import sqlite3"
   ]
  },
  {
   "cell_type": "code",
   "execution_count": 2,
   "id": "innovative-syndrome",
   "metadata": {
    "execution": {
     "iopub.execute_input": "2021-12-05T19:00:09.346751Z",
     "iopub.status.busy": "2021-12-05T19:00:09.343936Z",
     "iopub.status.idle": "2021-12-05T19:00:10.352072Z",
     "shell.execute_reply": "2021-12-05T19:00:10.353838Z"
    },
    "papermill": {
     "duration": 1.044186,
     "end_time": "2021-12-05T19:00:10.354315",
     "exception": false,
     "start_time": "2021-12-05T19:00:09.310129",
     "status": "completed"
    },
    "tags": []
   },
   "outputs": [],
   "source": [
    "timestamps = pd.read_sql(\"select distinct record_time from EBAY_TOP_BERLIN order by record_time desc limit 2\", sqlite3.connect(\"UsedObjects.db\"))"
   ]
  },
  {
   "cell_type": "code",
   "execution_count": 3,
   "id": "periodic-identification",
   "metadata": {
    "execution": {
     "iopub.execute_input": "2021-12-05T19:00:10.427265Z",
     "iopub.status.busy": "2021-12-05T19:00:10.424859Z",
     "iopub.status.idle": "2021-12-05T19:00:10.448434Z",
     "shell.execute_reply": "2021-12-05T19:00:10.450096Z"
    },
    "papermill": {
     "duration": 0.07454,
     "end_time": "2021-12-05T19:00:10.450579",
     "exception": false,
     "start_time": "2021-12-05T19:00:10.376039",
     "status": "completed"
    },
    "tags": []
   },
   "outputs": [
    {
     "data": {
      "text/html": [
       "<div>\n",
       "<style scoped>\n",
       "    .dataframe tbody tr th:only-of-type {\n",
       "        vertical-align: middle;\n",
       "    }\n",
       "\n",
       "    .dataframe tbody tr th {\n",
       "        vertical-align: top;\n",
       "    }\n",
       "\n",
       "    .dataframe thead th {\n",
       "        text-align: right;\n",
       "    }\n",
       "</style>\n",
       "<table border=\"1\" class=\"dataframe\">\n",
       "  <thead>\n",
       "    <tr style=\"text-align: right;\">\n",
       "      <th></th>\n",
       "      <th>RECORD_TIME</th>\n",
       "    </tr>\n",
       "  </thead>\n",
       "  <tbody>\n",
       "    <tr>\n",
       "      <th>0</th>\n",
       "      <td>2021-12-05 20:00</td>\n",
       "    </tr>\n",
       "    <tr>\n",
       "      <th>1</th>\n",
       "      <td>2021-12-05 19:30</td>\n",
       "    </tr>\n",
       "  </tbody>\n",
       "</table>\n",
       "</div>"
      ],
      "text/plain": [
       "        RECORD_TIME\n",
       "0  2021-12-05 20:00\n",
       "1  2021-12-05 19:30"
      ]
     },
     "execution_count": 3,
     "metadata": {},
     "output_type": "execute_result"
    }
   ],
   "source": [
    "timestamps"
   ]
  },
  {
   "cell_type": "code",
   "execution_count": 4,
   "id": "alternate-victory",
   "metadata": {
    "execution": {
     "iopub.execute_input": "2021-12-05T19:00:10.508042Z",
     "iopub.status.busy": "2021-12-05T19:00:10.505940Z",
     "iopub.status.idle": "2021-12-05T19:00:12.006309Z",
     "shell.execute_reply": "2021-12-05T19:00:12.008403Z"
    },
    "papermill": {
     "duration": 1.535781,
     "end_time": "2021-12-05T19:00:12.008939",
     "exception": false,
     "start_time": "2021-12-05T19:00:10.473158",
     "status": "completed"
    },
    "tags": []
   },
   "outputs": [],
   "source": [
    "df = pd.read_sql(\"select * from EBAY_TOP_BERLIN where record_time in (select distinct record_time from EBAY_TOP_BERLIN order by record_time desc limit 2)\", sqlite3.connect(\"UsedObjects.db\"))"
   ]
  },
  {
   "cell_type": "code",
   "execution_count": 5,
   "id": "popular-active",
   "metadata": {
    "execution": {
     "iopub.execute_input": "2021-12-05T19:00:12.117264Z",
     "iopub.status.busy": "2021-12-05T19:00:12.107104Z",
     "iopub.status.idle": "2021-12-05T19:00:12.144074Z",
     "shell.execute_reply": "2021-12-05T19:00:12.145653Z"
    },
    "papermill": {
     "duration": 0.116375,
     "end_time": "2021-12-05T19:00:12.146135",
     "exception": false,
     "start_time": "2021-12-05T19:00:12.029760",
     "status": "completed"
    },
    "tags": []
   },
   "outputs": [],
   "source": [
    "df_pivot = df.pivot_table(index=\"PRODUCT\", columns = \"RECORD_TIME\", values = \"LISTING_COUNT\")"
   ]
  },
  {
   "cell_type": "code",
   "execution_count": 6,
   "id": "union-huntington",
   "metadata": {
    "execution": {
     "iopub.execute_input": "2021-12-05T19:00:12.204807Z",
     "iopub.status.busy": "2021-12-05T19:00:12.202536Z",
     "iopub.status.idle": "2021-12-05T19:00:12.208424Z",
     "shell.execute_reply": "2021-12-05T19:00:12.210010Z"
    },
    "papermill": {
     "duration": 0.043964,
     "end_time": "2021-12-05T19:00:12.210479",
     "exception": false,
     "start_time": "2021-12-05T19:00:12.166515",
     "status": "completed"
    },
    "tags": []
   },
   "outputs": [],
   "source": [
    "df_pivot.columns = [\"stamp_1\", \"stamp_2\"]\n",
    "df_pivot_diff = df_pivot.diff(axis=1)"
   ]
  },
  {
   "cell_type": "code",
   "execution_count": 7,
   "id": "fifth-motion",
   "metadata": {
    "execution": {
     "iopub.execute_input": "2021-12-05T19:00:12.267854Z",
     "iopub.status.busy": "2021-12-05T19:00:12.265146Z",
     "iopub.status.idle": "2021-12-05T19:00:14.252263Z",
     "shell.execute_reply": "2021-12-05T19:00:14.253745Z"
    },
    "papermill": {
     "duration": 2.023639,
     "end_time": "2021-12-05T19:00:14.254195",
     "exception": false,
     "start_time": "2021-12-05T19:00:12.230556",
     "status": "completed"
    },
    "tags": []
   },
   "outputs": [
    {
     "data": {
      "text/plain": [
       "<AxesSubplot:ylabel='PRODUCT'>"
      ]
     },
     "execution_count": 7,
     "metadata": {},
     "output_type": "execute_result"
    },
    {
     "data": {
      "image/png": "[encoded data removed]",
      "text/plain": [
       "<Figure size 432x288 with 1 Axes>"
      ]
     },
     "metadata": {
      "needs_background": "light"
     },
     "output_type": "display_data"
    }
   ],
   "source": [
    "df_pivot_diff.sort_values(\"stamp_2\", ascending = False)[\"stamp_2\"].head(10).plot.barh()"
   ]
  },
  {
   "cell_type": "code",
   "execution_count": null,
   "id": "extra-executive",
   "metadata": {
    "papermill": {
     "duration": 0.022229,
     "end_time": "2021-12-05T19:00:14.300309",
     "exception": false,
     "start_time": "2021-12-05T19:00:14.278080",
     "status": "completed"
    },
    "tags": []
   },
   "outputs": [],
   "source": []
  }
 ],
 "metadata": {
  "kernelspec": {
   "display_name": "Python 3",
   "language": "python",
   "name": "python3"
  },
  "language_info": {
   "codemirror_mode": {
    "name": "ipython",
    "version": 3
   },
   "file_extension": ".py",
   "mimetype": "text/x-python",
   "name": "python",
   "nbconvert_exporter": "python",
   "pygments_lexer": "ipython3",
   "version": "3.9.5"
  },
  "papermill": {
   "default_parameters": {},
   "duration": 9.462392,
   "end_time": "2021-12-05T19:00:14.985672",
   "environment_variables": {},
   "exception": null,
   "input_path": "eBay_Overview.ipynb",
   "output_path": "eBay_Overview.ipynb",
   "parameters": {},
   "start_time": "2021-12-05T19:00:05.523280",
   "version": "2.3.3"
  }
 },
 "nbformat": 4,
 "nbformat_minor": 5
}