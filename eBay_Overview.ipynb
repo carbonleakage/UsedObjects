{
 "cells": [
  {
   "cell_type": "code",
   "execution_count": 1,
   "id": "reverse-picking",
   "metadata": {
    "execution": {
     "iopub.execute_input": "2021-09-25T02:00:06.971334Z",
     "iopub.status.busy": "2021-09-25T02:00:06.969379Z",
     "iopub.status.idle": "2021-09-25T02:00:07.776187Z",
     "shell.execute_reply": "2021-09-25T02:00:07.777414Z"
    },
    "papermill": {
     "duration": 0.857955,
     "end_time": "2021-09-25T02:00:07.778017",
     "exception": false,
     "start_time": "2021-09-25T02:00:06.920062",
     "status": "completed"
    },
    "tags": []
   },
   "outputs": [],
   "source": [
    "import pandas as pd\n",
    "import sqlite3"
   ]
  },
  {
   "cell_type": "code",
   "execution_count": 2,
   "id": "innovative-syndrome",
   "metadata": {
    "execution": {
     "iopub.execute_input": "2021-09-25T02:00:07.829466Z",
     "iopub.status.busy": "2021-09-25T02:00:07.827620Z",
     "iopub.status.idle": "2021-09-25T02:00:08.192475Z",
     "shell.execute_reply": "2021-09-25T02:00:08.193815Z"
    },
    "papermill": {
     "duration": 0.3945,
     "end_time": "2021-09-25T02:00:08.194253",
     "exception": false,
     "start_time": "2021-09-25T02:00:07.799753",
     "status": "completed"
    },
    "tags": []
   },
   "outputs": [],
   "source": [
    "timestamps = pd.read_sql(\"select distinct record_time from EBAY_TOP_BERLIN order by record_time desc limit 2\", sqlite3.connect(\"UsedObjects.db\"))"
   ]
  },
  {
   "cell_type": "code",
   "execution_count": 3,
   "id": "periodic-identification",
   "metadata": {
    "execution": {
     "iopub.execute_input": "2021-09-25T02:00:08.261863Z",
     "iopub.status.busy": "2021-09-25T02:00:08.259860Z",
     "iopub.status.idle": "2021-09-25T02:00:08.279678Z",
     "shell.execute_reply": "2021-09-25T02:00:08.281021Z"
    },
    "papermill": {
     "duration": 0.06671,
     "end_time": "2021-09-25T02:00:08.281439",
     "exception": false,
     "start_time": "2021-09-25T02:00:08.214729",
     "status": "completed"
    },
    "tags": []
   },
   "outputs": [
    {
     "data": {
      "text/html": [
       "<div>\n",
       "<style scoped>\n",
       "    .dataframe tbody tr th:only-of-type {\n",
       "        vertical-align: middle;\n",
       "    }\n",
       "\n",
       "    .dataframe tbody tr th {\n",
       "        vertical-align: top;\n",
       "    }\n",
       "\n",
       "    .dataframe thead th {\n",
       "        text-align: right;\n",
       "    }\n",
       "</style>\n",
       "<table border=\"1\" class=\"dataframe\">\n",
       "  <thead>\n",
       "    <tr style=\"text-align: right;\">\n",
       "      <th></th>\n",
       "      <th>RECORD_TIME</th>\n",
       "    </tr>\n",
       "  </thead>\n",
       "  <tbody>\n",
       "    <tr>\n",
       "      <th>0</th>\n",
       "      <td>2021-09-25 04:00</td>\n",
       "    </tr>\n",
       "    <tr>\n",
       "      <th>1</th>\n",
       "      <td>2021-09-25 03:30</td>\n",
       "    </tr>\n",
       "  </tbody>\n",
       "</table>\n",
       "</div>"
      ],
      "text/plain": [
       "        RECORD_TIME\n",
       "0  2021-09-25 04:00\n",
       "1  2021-09-25 03:30"
      ]
     },
     "execution_count": 3,
     "metadata": {},
     "output_type": "execute_result"
    }
   ],
   "source": [
    "timestamps"
   ]
  },
  {
   "cell_type": "code",
   "execution_count": 4,
   "id": "alternate-victory",
   "metadata": {
    "execution": {
     "iopub.execute_input": "2021-09-25T02:00:08.333678Z",
     "iopub.status.busy": "2021-09-25T02:00:08.331187Z",
     "iopub.status.idle": "2021-09-25T02:00:08.869994Z",
     "shell.execute_reply": "2021-09-25T02:00:08.871524Z"
    },
    "papermill": {
     "duration": 0.569313,
     "end_time": "2021-09-25T02:00:08.871970",
     "exception": false,
     "start_time": "2021-09-25T02:00:08.302657",
     "status": "completed"
    },
    "tags": []
   },
   "outputs": [],
   "source": [
    "df = pd.read_sql(\"select * from EBAY_TOP_BERLIN where record_time in (select distinct record_time from EBAY_TOP_BERLIN order by record_time desc limit 2)\", sqlite3.connect(\"UsedObjects.db\"))"
   ]
  },
  {
   "cell_type": "code",
   "execution_count": 5,
   "id": "popular-active",
   "metadata": {
    "execution": {
     "iopub.execute_input": "2021-09-25T02:00:08.943685Z",
     "iopub.status.busy": "2021-09-25T02:00:08.930970Z",
     "iopub.status.idle": "2021-09-25T02:00:08.960006Z",
     "shell.execute_reply": "2021-09-25T02:00:08.961376Z"
    },
    "papermill": {
     "duration": 0.069556,
     "end_time": "2021-09-25T02:00:08.961812",
     "exception": false,
     "start_time": "2021-09-25T02:00:08.892256",
     "status": "completed"
    },
    "tags": []
   },
   "outputs": [],
   "source": [
    "df_pivot = df.pivot_table(index=\"PRODUCT\", columns = \"RECORD_TIME\", values = \"LISTING_COUNT\")"
   ]
  },
  {
   "cell_type": "code",
   "execution_count": 6,
   "id": "union-huntington",
   "metadata": {
    "execution": {
     "iopub.execute_input": "2021-09-25T02:00:09.020471Z",
     "iopub.status.busy": "2021-09-25T02:00:09.018003Z",
     "iopub.status.idle": "2021-09-25T02:00:09.023858Z",
     "shell.execute_reply": "2021-09-25T02:00:09.025132Z"
    },
    "papermill": {
     "duration": 0.042019,
     "end_time": "2021-09-25T02:00:09.025549",
     "exception": false,
     "start_time": "2021-09-25T02:00:08.983530",
     "status": "completed"
    },
    "tags": []
   },
   "outputs": [],
   "source": [
    "df_pivot.columns = [\"stamp_1\", \"stamp_2\"]\n",
    "df_pivot_diff = df_pivot.diff(axis=1)"
   ]
  },
  {
   "cell_type": "code",
   "execution_count": 7,
   "id": "fifth-motion",
   "metadata": {
    "execution": {
     "iopub.execute_input": "2021-09-25T02:00:09.079294Z",
     "iopub.status.busy": "2021-09-25T02:00:09.076960Z",
     "iopub.status.idle": "2021-09-25T02:00:10.584969Z",
     "shell.execute_reply": "2021-09-25T02:00:10.586242Z"
    },
    "papermill": {
     "duration": 1.54053,
     "end_time": "2021-09-25T02:00:10.586654",
     "exception": false,
     "start_time": "2021-09-25T02:00:09.046124",
     "status": "completed"
    },
    "tags": []
   },
   "outputs": [
    {
     "data": {
      "text/plain": [
       "<AxesSubplot:ylabel='PRODUCT'>"
      ]
     },
     "execution_count": 7,
     "metadata": {},
     "output_type": "execute_result"
    },
    {
     "data": {
      "image/png": "[encoded data removed]",
      "text/plain": [
       "<Figure size 432x288 with 1 Axes>"
      ]
     },
     "metadata": {
      "needs_background": "light"
     },
     "output_type": "display_data"
    }
   ],
   "source": [
    "df_pivot_diff.sort_values(\"stamp_2\", ascending = False)[\"stamp_2\"].head(10).plot.barh()"
   ]
  },
  {
   "cell_type": "code",
   "execution_count": null,
   "id": "extra-executive",
   "metadata": {
    "papermill": {
     "duration": 0.022182,
     "end_time": "2021-09-25T02:00:10.632157",
     "exception": false,
     "start_time": "2021-09-25T02:00:10.609975",
     "status": "completed"
    },
    "tags": []
   },
   "outputs": [],
   "source": []
  }
 ],
 "metadata": {
  "kernelspec": {
   "display_name": "Python 3",
   "language": "python",
   "name": "python3"
  },
  "language_info": {
   "codemirror_mode": {
    "name": "ipython",
    "version": 3
   },
   "file_extension": ".py",
   "mimetype": "text/x-python",
   "name": "python",
   "nbconvert_exporter": "python",
   "pygments_lexer": "ipython3",
   "version": "3.9.5"
  },
  "papermill": {
   "default_parameters": {},
   "duration": 6.761277,
   "end_time": "2021-09-25T02:00:11.275142",
   "environment_variables": {},
   "exception": null,
   "input_path": "eBay_Overview.ipynb",
   "output_path": "eBay_Overview.ipynb",
   "parameters": {},
   "start_time": "2021-09-25T02:00:04.513865",
   "version": "2.3.3"
  }
 },
 "nbformat": 4,
 "nbformat_minor": 5
}