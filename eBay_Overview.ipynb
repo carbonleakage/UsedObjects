{
 "cells": [
  {
   "cell_type": "code",
   "execution_count": 1,
   "id": "reverse-picking",
   "metadata": {
    "execution": {
     "iopub.execute_input": "2021-09-30T10:00:06.782478Z",
     "iopub.status.busy": "2021-09-30T10:00:06.780527Z",
     "iopub.status.idle": "2021-09-30T10:00:07.586416Z",
     "shell.execute_reply": "2021-09-30T10:00:07.587844Z"
    },
    "papermill": {
     "duration": 0.858313,
     "end_time": "2021-09-30T10:00:07.588512",
     "exception": false,
     "start_time": "2021-09-30T10:00:06.730199",
     "status": "completed"
    },
    "tags": []
   },
   "outputs": [],
   "source": [
    "import pandas as pd\n",
    "import sqlite3"
   ]
  },
  {
   "cell_type": "code",
   "execution_count": 2,
   "id": "innovative-syndrome",
   "metadata": {
    "execution": {
     "iopub.execute_input": "2021-09-30T10:00:07.639576Z",
     "iopub.status.busy": "2021-09-30T10:00:07.637564Z",
     "iopub.status.idle": "2021-09-30T10:00:08.044389Z",
     "shell.execute_reply": "2021-09-30T10:00:08.045598Z"
    },
    "papermill": {
     "duration": 0.436515,
     "end_time": "2021-09-30T10:00:08.045995",
     "exception": false,
     "start_time": "2021-09-30T10:00:07.609480",
     "status": "completed"
    },
    "tags": []
   },
   "outputs": [],
   "source": [
    "timestamps = pd.read_sql(\"select distinct record_time from EBAY_TOP_BERLIN order by record_time desc limit 2\", sqlite3.connect(\"UsedObjects.db\"))"
   ]
  },
  {
   "cell_type": "code",
   "execution_count": 3,
   "id": "periodic-identification",
   "metadata": {
    "execution": {
     "iopub.execute_input": "2021-09-30T10:00:08.109447Z",
     "iopub.status.busy": "2021-09-30T10:00:08.107420Z",
     "iopub.status.idle": "2021-09-30T10:00:08.127386Z",
     "shell.execute_reply": "2021-09-30T10:00:08.128682Z"
    },
    "papermill": {
     "duration": 0.063175,
     "end_time": "2021-09-30T10:00:08.129100",
     "exception": false,
     "start_time": "2021-09-30T10:00:08.065925",
     "status": "completed"
    },
    "tags": []
   },
   "outputs": [
    {
     "data": {
      "text/html": [
       "<div>\n",
       "<style scoped>\n",
       "    .dataframe tbody tr th:only-of-type {\n",
       "        vertical-align: middle;\n",
       "    }\n",
       "\n",
       "    .dataframe tbody tr th {\n",
       "        vertical-align: top;\n",
       "    }\n",
       "\n",
       "    .dataframe thead th {\n",
       "        text-align: right;\n",
       "    }\n",
       "</style>\n",
       "<table border=\"1\" class=\"dataframe\">\n",
       "  <thead>\n",
       "    <tr style=\"text-align: right;\">\n",
       "      <th></th>\n",
       "      <th>RECORD_TIME</th>\n",
       "    </tr>\n",
       "  </thead>\n",
       "  <tbody>\n",
       "    <tr>\n",
       "      <th>0</th>\n",
       "      <td>2021-09-30 12:00</td>\n",
       "    </tr>\n",
       "    <tr>\n",
       "      <th>1</th>\n",
       "      <td>2021-09-30 11:30</td>\n",
       "    </tr>\n",
       "  </tbody>\n",
       "</table>\n",
       "</div>"
      ],
      "text/plain": [
       "        RECORD_TIME\n",
       "0  2021-09-30 12:00\n",
       "1  2021-09-30 11:30"
      ]
     },
     "execution_count": 3,
     "metadata": {},
     "output_type": "execute_result"
    }
   ],
   "source": [
    "timestamps"
   ]
  },
  {
   "cell_type": "code",
   "execution_count": 4,
   "id": "alternate-victory",
   "metadata": {
    "execution": {
     "iopub.execute_input": "2021-09-30T10:00:08.180771Z",
     "iopub.status.busy": "2021-09-30T10:00:08.178529Z",
     "iopub.status.idle": "2021-09-30T10:00:08.779983Z",
     "shell.execute_reply": "2021-09-30T10:00:08.781386Z"
    },
    "papermill": {
     "duration": 0.631419,
     "end_time": "2021-09-30T10:00:08.781829",
     "exception": false,
     "start_time": "2021-09-30T10:00:08.150410",
     "status": "completed"
    },
    "tags": []
   },
   "outputs": [],
   "source": [
    "df = pd.read_sql(\"select * from EBAY_TOP_BERLIN where record_time in (select distinct record_time from EBAY_TOP_BERLIN order by record_time desc limit 2)\", sqlite3.connect(\"UsedObjects.db\"))"
   ]
  },
  {
   "cell_type": "code",
   "execution_count": 5,
   "id": "popular-active",
   "metadata": {
    "execution": {
     "iopub.execute_input": "2021-09-30T10:00:08.863143Z",
     "iopub.status.busy": "2021-09-30T10:00:08.850222Z",
     "iopub.status.idle": "2021-09-30T10:00:08.878458Z",
     "shell.execute_reply": "2021-09-30T10:00:08.879741Z"
    },
    "papermill": {
     "duration": 0.072363,
     "end_time": "2021-09-30T10:00:08.880138",
     "exception": false,
     "start_time": "2021-09-30T10:00:08.807775",
     "status": "completed"
    },
    "tags": []
   },
   "outputs": [],
   "source": [
    "df_pivot = df.pivot_table(index=\"PRODUCT\", columns = \"RECORD_TIME\", values = \"LISTING_COUNT\")"
   ]
  },
  {
   "cell_type": "code",
   "execution_count": 6,
   "id": "union-huntington",
   "metadata": {
    "execution": {
     "iopub.execute_input": "2021-09-30T10:00:08.936923Z",
     "iopub.status.busy": "2021-09-30T10:00:08.934713Z",
     "iopub.status.idle": "2021-09-30T10:00:08.940361Z",
     "shell.execute_reply": "2021-09-30T10:00:08.941622Z"
    },
    "papermill": {
     "duration": 0.040593,
     "end_time": "2021-09-30T10:00:08.942071",
     "exception": false,
     "start_time": "2021-09-30T10:00:08.901478",
     "status": "completed"
    },
    "tags": []
   },
   "outputs": [],
   "source": [
    "df_pivot.columns = [\"stamp_1\", \"stamp_2\"]\n",
    "df_pivot_diff = df_pivot.diff(axis=1)"
   ]
  },
  {
   "cell_type": "code",
   "execution_count": 7,
   "id": "fifth-motion",
   "metadata": {
    "execution": {
     "iopub.execute_input": "2021-09-30T10:00:08.999924Z",
     "iopub.status.busy": "2021-09-30T10:00:08.997205Z",
     "iopub.status.idle": "2021-09-30T10:00:10.512023Z",
     "shell.execute_reply": "2021-09-30T10:00:10.513399Z"
    },
    "papermill": {
     "duration": 1.548237,
     "end_time": "2021-09-30T10:00:10.513846",
     "exception": false,
     "start_time": "2021-09-30T10:00:08.965609",
     "status": "completed"
    },
    "tags": []
   },
   "outputs": [
    {
     "data": {
      "text/plain": [
       "<AxesSubplot:ylabel='PRODUCT'>"
      ]
     },
     "execution_count": 7,
     "metadata": {},
     "output_type": "execute_result"
    },
    {
     "data": {
      "image/png": "[encoded data removed]",
      "text/plain": [
       "<Figure size 432x288 with 1 Axes>"
      ]
     },
     "metadata": {
      "needs_background": "light"
     },
     "output_type": "display_data"
    }
   ],
   "source": [
    "df_pivot_diff.sort_values(\"stamp_2\", ascending = False)[\"stamp_2\"].head(10).plot.barh()"
   ]
  },
  {
   "cell_type": "code",
   "execution_count": null,
   "id": "extra-executive",
   "metadata": {
    "papermill": {
     "duration": 0.022121,
     "end_time": "2021-09-30T10:00:10.560130",
     "exception": false,
     "start_time": "2021-09-30T10:00:10.538009",
     "status": "completed"
    },
    "tags": []
   },
   "outputs": [],
   "source": []
  }
 ],
 "metadata": {
  "kernelspec": {
   "display_name": "Python 3",
   "language": "python",
   "name": "python3"
  },
  "language_info": {
   "codemirror_mode": {
    "name": "ipython",
    "version": 3
   },
   "file_extension": ".py",
   "mimetype": "text/x-python",
   "name": "python",
   "nbconvert_exporter": "python",
   "pygments_lexer": "ipython3",
   "version": "3.9.5"
  },
  "papermill": {
   "default_parameters": {},
   "duration": 7.831986,
   "end_time": "2021-09-30T10:00:12.154439",
   "environment_variables": {},
   "exception": null,
   "input_path": "eBay_Overview.ipynb",
   "output_path": "eBay_Overview.ipynb",
   "parameters": {},
   "start_time": "2021-09-30T10:00:04.322453",
   "version": "2.3.3"
  }
 },
 "nbformat": 4,
 "nbformat_minor": 5
}