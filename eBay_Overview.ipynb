{
 "cells": [
  {
   "cell_type": "code",
   "execution_count": 1,
   "id": "reverse-picking",
   "metadata": {
    "execution": {
     "iopub.execute_input": "2021-12-08T15:30:07.385691Z",
     "iopub.status.busy": "2021-12-08T15:30:07.383310Z",
     "iopub.status.idle": "2021-12-08T15:30:08.337344Z",
     "shell.execute_reply": "2021-12-08T15:30:08.338915Z"
    },
    "papermill": {
     "duration": 1.003325,
     "end_time": "2021-12-08T15:30:08.339666",
     "exception": false,
     "start_time": "2021-12-08T15:30:07.336341",
     "status": "completed"
    },
    "tags": []
   },
   "outputs": [],
   "source": [
    "import pandas as pd\n",
    "import sqlite3"
   ]
  },
  {
   "cell_type": "code",
   "execution_count": 2,
   "id": "innovative-syndrome",
   "metadata": {
    "execution": {
     "iopub.execute_input": "2021-12-08T15:30:08.400355Z",
     "iopub.status.busy": "2021-12-08T15:30:08.398056Z",
     "iopub.status.idle": "2021-12-08T15:30:09.410511Z",
     "shell.execute_reply": "2021-12-08T15:30:09.412598Z"
    },
    "papermill": {
     "duration": 1.05272,
     "end_time": "2021-12-08T15:30:09.413142",
     "exception": false,
     "start_time": "2021-12-08T15:30:08.360422",
     "status": "completed"
    },
    "tags": []
   },
   "outputs": [],
   "source": [
    "timestamps = pd.read_sql(\"select distinct record_time from EBAY_TOP_BERLIN order by record_time desc limit 2\", sqlite3.connect(\"UsedObjects.db\"))"
   ]
  },
  {
   "cell_type": "code",
   "execution_count": 3,
   "id": "periodic-identification",
   "metadata": {
    "execution": {
     "iopub.execute_input": "2021-12-08T15:30:09.487249Z",
     "iopub.status.busy": "2021-12-08T15:30:09.484017Z",
     "iopub.status.idle": "2021-12-08T15:30:09.508857Z",
     "shell.execute_reply": "2021-12-08T15:30:09.510415Z"
    },
    "papermill": {
     "duration": 0.076234,
     "end_time": "2021-12-08T15:30:09.510906",
     "exception": false,
     "start_time": "2021-12-08T15:30:09.434672",
     "status": "completed"
    },
    "tags": []
   },
   "outputs": [
    {
     "data": {
      "text/html": [
       "<div>\n",
       "<style scoped>\n",
       "    .dataframe tbody tr th:only-of-type {\n",
       "        vertical-align: middle;\n",
       "    }\n",
       "\n",
       "    .dataframe tbody tr th {\n",
       "        vertical-align: top;\n",
       "    }\n",
       "\n",
       "    .dataframe thead th {\n",
       "        text-align: right;\n",
       "    }\n",
       "</style>\n",
       "<table border=\"1\" class=\"dataframe\">\n",
       "  <thead>\n",
       "    <tr style=\"text-align: right;\">\n",
       "      <th></th>\n",
       "      <th>RECORD_TIME</th>\n",
       "    </tr>\n",
       "  </thead>\n",
       "  <tbody>\n",
       "    <tr>\n",
       "      <th>0</th>\n",
       "      <td>2021-12-08 16:30</td>\n",
       "    </tr>\n",
       "    <tr>\n",
       "      <th>1</th>\n",
       "      <td>2021-12-08 16:00</td>\n",
       "    </tr>\n",
       "  </tbody>\n",
       "</table>\n",
       "</div>"
      ],
      "text/plain": [
       "        RECORD_TIME\n",
       "0  2021-12-08 16:30\n",
       "1  2021-12-08 16:00"
      ]
     },
     "execution_count": 3,
     "metadata": {},
     "output_type": "execute_result"
    }
   ],
   "source": [
    "timestamps"
   ]
  },
  {
   "cell_type": "code",
   "execution_count": 4,
   "id": "alternate-victory",
   "metadata": {
    "execution": {
     "iopub.execute_input": "2021-12-08T15:30:09.567541Z",
     "iopub.status.busy": "2021-12-08T15:30:09.565365Z",
     "iopub.status.idle": "2021-12-08T15:30:11.064758Z",
     "shell.execute_reply": "2021-12-08T15:30:11.066221Z"
    },
    "papermill": {
     "duration": 1.534745,
     "end_time": "2021-12-08T15:30:11.066699",
     "exception": false,
     "start_time": "2021-12-08T15:30:09.531954",
     "status": "completed"
    },
    "tags": []
   },
   "outputs": [],
   "source": [
    "df = pd.read_sql(\"select * from EBAY_TOP_BERLIN where record_time in (select distinct record_time from EBAY_TOP_BERLIN order by record_time desc limit 2)\", sqlite3.connect(\"UsedObjects.db\"))"
   ]
  },
  {
   "cell_type": "code",
   "execution_count": 5,
   "id": "popular-active",
   "metadata": {
    "execution": {
     "iopub.execute_input": "2021-12-08T15:30:11.141449Z",
     "iopub.status.busy": "2021-12-08T15:30:11.127985Z",
     "iopub.status.idle": "2021-12-08T15:30:11.159457Z",
     "shell.execute_reply": "2021-12-08T15:30:11.161039Z"
    },
    "papermill": {
     "duration": 0.074129,
     "end_time": "2021-12-08T15:30:11.161497",
     "exception": false,
     "start_time": "2021-12-08T15:30:11.087368",
     "status": "completed"
    },
    "tags": []
   },
   "outputs": [],
   "source": [
    "df_pivot = df.pivot_table(index=\"PRODUCT\", columns = \"RECORD_TIME\", values = \"LISTING_COUNT\")"
   ]
  },
  {
   "cell_type": "code",
   "execution_count": 6,
   "id": "union-huntington",
   "metadata": {
    "execution": {
     "iopub.execute_input": "2021-12-08T15:30:11.219230Z",
     "iopub.status.busy": "2021-12-08T15:30:11.217007Z",
     "iopub.status.idle": "2021-12-08T15:30:11.222653Z",
     "shell.execute_reply": "2021-12-08T15:30:11.223958Z"
    },
    "papermill": {
     "duration": 0.042959,
     "end_time": "2021-12-08T15:30:11.224426",
     "exception": false,
     "start_time": "2021-12-08T15:30:11.181467",
     "status": "completed"
    },
    "tags": []
   },
   "outputs": [],
   "source": [
    "df_pivot.columns = [\"stamp_1\", \"stamp_2\"]\n",
    "df_pivot_diff = df_pivot.diff(axis=1)"
   ]
  },
  {
   "cell_type": "code",
   "execution_count": 7,
   "id": "fifth-motion",
   "metadata": {
    "execution": {
     "iopub.execute_input": "2021-12-08T15:30:11.305796Z",
     "iopub.status.busy": "2021-12-08T15:30:11.301703Z",
     "iopub.status.idle": "2021-12-08T15:30:13.147216Z",
     "shell.execute_reply": "2021-12-08T15:30:13.148514Z"
    },
    "papermill": {
     "duration": 1.901606,
     "end_time": "2021-12-08T15:30:13.149151",
     "exception": false,
     "start_time": "2021-12-08T15:30:11.247545",
     "status": "completed"
    },
    "tags": []
   },
   "outputs": [
    {
     "data": {
      "text/plain": [
       "<AxesSubplot:ylabel='PRODUCT'>"
      ]
     },
     "execution_count": 7,
     "metadata": {},
     "output_type": "execute_result"
    },
    {
     "data": {
      "image/png": "[encoded data removed]",
      "text/plain": [
       "<Figure size 432x288 with 1 Axes>"
      ]
     },
     "metadata": {
      "needs_background": "light"
     },
     "output_type": "display_data"
    }
   ],
   "source": [
    "df_pivot_diff.sort_values(\"stamp_2\", ascending = False)[\"stamp_2\"].head(10).plot.barh()"
   ]
  },
  {
   "cell_type": "code",
   "execution_count": null,
   "id": "extra-executive",
   "metadata": {
    "papermill": {
     "duration": 0.022125,
     "end_time": "2021-12-08T15:30:13.195862",
     "exception": false,
     "start_time": "2021-12-08T15:30:13.173737",
     "status": "completed"
    },
    "tags": []
   },
   "outputs": [],
   "source": []
  }
 ],
 "metadata": {
  "kernelspec": {
   "display_name": "Python 3",
   "language": "python",
   "name": "python3"
  },
  "language_info": {
   "codemirror_mode": {
    "name": "ipython",
    "version": 3
   },
   "file_extension": ".py",
   "mimetype": "text/x-python",
   "name": "python",
   "nbconvert_exporter": "python",
   "pygments_lexer": "ipython3",
   "version": "3.9.5"
  },
  "papermill": {
   "default_parameters": {},
   "duration": 9.942542,
   "end_time": "2021-12-08T15:30:14.557552",
   "environment_variables": {},
   "exception": null,
   "input_path": "eBay_Overview.ipynb",
   "output_path": "eBay_Overview.ipynb",
   "parameters": {},
   "start_time": "2021-12-08T15:30:04.615010",
   "version": "2.3.3"
  }
 },
 "nbformat": 4,
 "nbformat_minor": 5
}