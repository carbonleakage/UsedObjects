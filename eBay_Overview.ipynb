{
 "cells": [
  {
   "cell_type": "code",
   "execution_count": 1,
   "id": "reverse-picking",
   "metadata": {
    "execution": {
     "iopub.execute_input": "2021-09-16T16:30:06.668953Z",
     "iopub.status.busy": "2021-09-16T16:30:06.667010Z",
     "iopub.status.idle": "2021-09-16T16:30:07.471980Z",
     "shell.execute_reply": "2021-09-16T16:30:07.470248Z"
    },
    "papermill": {
     "duration": 0.855161,
     "end_time": "2021-09-16T16:30:07.472398",
     "exception": false,
     "start_time": "2021-09-16T16:30:06.617237",
     "status": "completed"
    },
    "tags": []
   },
   "outputs": [],
   "source": [
    "import pandas as pd\n",
    "import sqlite3"
   ]
  },
  {
   "cell_type": "code",
   "execution_count": 2,
   "id": "innovative-syndrome",
   "metadata": {
    "execution": {
     "iopub.execute_input": "2021-09-16T16:30:07.523026Z",
     "iopub.status.busy": "2021-09-16T16:30:07.520941Z",
     "iopub.status.idle": "2021-09-16T16:30:07.819269Z",
     "shell.execute_reply": "2021-09-16T16:30:07.820577Z"
    },
    "papermill": {
     "duration": 0.328467,
     "end_time": "2021-09-16T16:30:07.820979",
     "exception": false,
     "start_time": "2021-09-16T16:30:07.492512",
     "status": "completed"
    },
    "tags": []
   },
   "outputs": [],
   "source": [
    "timestamps = pd.read_sql(\"select distinct record_time from EBAY_TOP_BERLIN order by record_time desc limit 2\", sqlite3.connect(\"UsedObjects.db\"))"
   ]
  },
  {
   "cell_type": "code",
   "execution_count": 3,
   "id": "periodic-identification",
   "metadata": {
    "execution": {
     "iopub.execute_input": "2021-09-16T16:30:07.884402Z",
     "iopub.status.busy": "2021-09-16T16:30:07.882317Z",
     "iopub.status.idle": "2021-09-16T16:30:07.902075Z",
     "shell.execute_reply": "2021-09-16T16:30:07.903361Z"
    },
    "papermill": {
     "duration": 0.063587,
     "end_time": "2021-09-16T16:30:07.903768",
     "exception": false,
     "start_time": "2021-09-16T16:30:07.840181",
     "status": "completed"
    },
    "tags": []
   },
   "outputs": [
    {
     "data": {
      "text/html": [
       "<div>\n",
       "<style scoped>\n",
       "    .dataframe tbody tr th:only-of-type {\n",
       "        vertical-align: middle;\n",
       "    }\n",
       "\n",
       "    .dataframe tbody tr th {\n",
       "        vertical-align: top;\n",
       "    }\n",
       "\n",
       "    .dataframe thead th {\n",
       "        text-align: right;\n",
       "    }\n",
       "</style>\n",
       "<table border=\"1\" class=\"dataframe\">\n",
       "  <thead>\n",
       "    <tr style=\"text-align: right;\">\n",
       "      <th></th>\n",
       "      <th>RECORD_TIME</th>\n",
       "    </tr>\n",
       "  </thead>\n",
       "  <tbody>\n",
       "    <tr>\n",
       "      <th>0</th>\n",
       "      <td>2021-09-16 18:30</td>\n",
       "    </tr>\n",
       "    <tr>\n",
       "      <th>1</th>\n",
       "      <td>2021-09-16 18:00</td>\n",
       "    </tr>\n",
       "  </tbody>\n",
       "</table>\n",
       "</div>"
      ],
      "text/plain": [
       "        RECORD_TIME\n",
       "0  2021-09-16 18:30\n",
       "1  2021-09-16 18:00"
      ]
     },
     "execution_count": 3,
     "metadata": {},
     "output_type": "execute_result"
    }
   ],
   "source": [
    "timestamps"
   ]
  },
  {
   "cell_type": "code",
   "execution_count": 4,
   "id": "alternate-victory",
   "metadata": {
    "execution": {
     "iopub.execute_input": "2021-09-16T16:30:07.955186Z",
     "iopub.status.busy": "2021-09-16T16:30:07.953252Z",
     "iopub.status.idle": "2021-09-16T16:30:08.390930Z",
     "shell.execute_reply": "2021-09-16T16:30:08.392226Z"
    },
    "papermill": {
     "duration": 0.467485,
     "end_time": "2021-09-16T16:30:08.392637",
     "exception": false,
     "start_time": "2021-09-16T16:30:07.925152",
     "status": "completed"
    },
    "tags": []
   },
   "outputs": [],
   "source": [
    "df = pd.read_sql(\"select * from EBAY_TOP_BERLIN where record_time in (select distinct record_time from EBAY_TOP_BERLIN order by record_time desc limit 2)\", sqlite3.connect(\"UsedObjects.db\"))"
   ]
  },
  {
   "cell_type": "code",
   "execution_count": 5,
   "id": "popular-active",
   "metadata": {
    "execution": {
     "iopub.execute_input": "2021-09-16T16:30:08.473079Z",
     "iopub.status.busy": "2021-09-16T16:30:08.460859Z",
     "iopub.status.idle": "2021-09-16T16:30:08.491091Z",
     "shell.execute_reply": "2021-09-16T16:30:08.492488Z"
    },
    "papermill": {
     "duration": 0.073234,
     "end_time": "2021-09-16T16:30:08.492921",
     "exception": false,
     "start_time": "2021-09-16T16:30:08.419687",
     "status": "completed"
    },
    "tags": []
   },
   "outputs": [],
   "source": [
    "df_pivot = df.pivot_table(index=\"PRODUCT\", columns = \"RECORD_TIME\", values = \"LISTING_COUNT\")"
   ]
  },
  {
   "cell_type": "code",
   "execution_count": 6,
   "id": "union-huntington",
   "metadata": {
    "execution": {
     "iopub.execute_input": "2021-09-16T16:30:08.549970Z",
     "iopub.status.busy": "2021-09-16T16:30:08.547571Z",
     "iopub.status.idle": "2021-09-16T16:30:08.553503Z",
     "shell.execute_reply": "2021-09-16T16:30:08.554750Z"
    },
    "papermill": {
     "duration": 0.042122,
     "end_time": "2021-09-16T16:30:08.555254",
     "exception": false,
     "start_time": "2021-09-16T16:30:08.513132",
     "status": "completed"
    },
    "tags": []
   },
   "outputs": [],
   "source": [
    "df_pivot.columns = [\"stamp_1\", \"stamp_2\"]\n",
    "df_pivot_diff = df_pivot.diff(axis=1)"
   ]
  },
  {
   "cell_type": "code",
   "execution_count": 7,
   "id": "fifth-motion",
   "metadata": {
    "execution": {
     "iopub.execute_input": "2021-09-16T16:30:08.609948Z",
     "iopub.status.busy": "2021-09-16T16:30:08.607688Z",
     "iopub.status.idle": "2021-09-16T16:30:10.118190Z",
     "shell.execute_reply": "2021-09-16T16:30:10.119621Z"
    },
    "papermill": {
     "duration": 1.543532,
     "end_time": "2021-09-16T16:30:10.120067",
     "exception": false,
     "start_time": "2021-09-16T16:30:08.576535",
     "status": "completed"
    },
    "tags": []
   },
   "outputs": [
    {
     "data": {
      "text/plain": [
       "<AxesSubplot:ylabel='PRODUCT'>"
      ]
     },
     "execution_count": 7,
     "metadata": {},
     "output_type": "execute_result"
    },
    {
     "data": {
      "image/png": "[encoded data removed]",
      "text/plain": [
       "<Figure size 432x288 with 1 Axes>"
      ]
     },
     "metadata": {
      "needs_background": "light"
     },
     "output_type": "display_data"
    }
   ],
   "source": [
    "df_pivot_diff.sort_values(\"stamp_2\", ascending = False)[\"stamp_2\"].head(10).plot.barh()"
   ]
  },
  {
   "cell_type": "code",
   "execution_count": null,
   "id": "extra-executive",
   "metadata": {
    "papermill": {
     "duration": 0.022006,
     "end_time": "2021-09-16T16:30:10.165803",
     "exception": false,
     "start_time": "2021-09-16T16:30:10.143797",
     "status": "completed"
    },
    "tags": []
   },
   "outputs": [],
   "source": []
  }
 ],
 "metadata": {
  "kernelspec": {
   "display_name": "Python 3",
   "language": "python",
   "name": "python3"
  },
  "language_info": {
   "codemirror_mode": {
    "name": "ipython",
    "version": 3
   },
   "file_extension": ".py",
   "mimetype": "text/x-python",
   "name": "python",
   "nbconvert_exporter": "python",
   "pygments_lexer": "ipython3",
   "version": "3.9.5"
  },
  "papermill": {
   "default_parameters": {},
   "duration": 6.588536,
   "end_time": "2021-09-16T16:30:10.809549",
   "environment_variables": {},
   "exception": null,
   "input_path": "eBay_Overview.ipynb",
   "output_path": "eBay_Overview.ipynb",
   "parameters": {},
   "start_time": "2021-09-16T16:30:04.221013",
   "version": "2.3.3"
  }
 },
 "nbformat": 4,
 "nbformat_minor": 5
}