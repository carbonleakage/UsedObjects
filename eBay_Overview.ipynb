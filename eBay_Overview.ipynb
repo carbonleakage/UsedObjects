{
 "cells": [
  {
   "cell_type": "code",
   "execution_count": 1,
   "id": "reverse-picking",
   "metadata": {
    "execution": {
     "iopub.execute_input": "2021-09-19T10:00:07.789011Z",
     "iopub.status.busy": "2021-09-19T10:00:07.787085Z",
     "iopub.status.idle": "2021-09-19T10:00:08.590313Z",
     "shell.execute_reply": "2021-09-19T10:00:08.591741Z"
    },
    "papermill": {
     "duration": 0.855671,
     "end_time": "2021-09-19T10:00:08.592397",
     "exception": false,
     "start_time": "2021-09-19T10:00:07.736726",
     "status": "completed"
    },
    "tags": []
   },
   "outputs": [],
   "source": [
    "import pandas as pd\n",
    "import sqlite3"
   ]
  },
  {
   "cell_type": "code",
   "execution_count": 2,
   "id": "innovative-syndrome",
   "metadata": {
    "execution": {
     "iopub.execute_input": "2021-09-19T10:00:08.643254Z",
     "iopub.status.busy": "2021-09-19T10:00:08.641106Z",
     "iopub.status.idle": "2021-09-19T10:00:08.964628Z",
     "shell.execute_reply": "2021-09-19T10:00:08.965814Z"
    },
    "papermill": {
     "duration": 0.353326,
     "end_time": "2021-09-19T10:00:08.966212",
     "exception": false,
     "start_time": "2021-09-19T10:00:08.612886",
     "status": "completed"
    },
    "tags": []
   },
   "outputs": [],
   "source": [
    "timestamps = pd.read_sql(\"select distinct record_time from EBAY_TOP_BERLIN order by record_time desc limit 2\", sqlite3.connect(\"UsedObjects.db\"))"
   ]
  },
  {
   "cell_type": "code",
   "execution_count": 3,
   "id": "periodic-identification",
   "metadata": {
    "execution": {
     "iopub.execute_input": "2021-09-19T10:00:09.028943Z",
     "iopub.status.busy": "2021-09-19T10:00:09.027373Z",
     "iopub.status.idle": "2021-09-19T10:00:09.050173Z",
     "shell.execute_reply": "2021-09-19T10:00:09.051591Z"
    },
    "papermill": {
     "duration": 0.066253,
     "end_time": "2021-09-19T10:00:09.052008",
     "exception": false,
     "start_time": "2021-09-19T10:00:08.985755",
     "status": "completed"
    },
    "tags": []
   },
   "outputs": [
    {
     "data": {
      "text/html": [
       "<div>\n",
       "<style scoped>\n",
       "    .dataframe tbody tr th:only-of-type {\n",
       "        vertical-align: middle;\n",
       "    }\n",
       "\n",
       "    .dataframe tbody tr th {\n",
       "        vertical-align: top;\n",
       "    }\n",
       "\n",
       "    .dataframe thead th {\n",
       "        text-align: right;\n",
       "    }\n",
       "</style>\n",
       "<table border=\"1\" class=\"dataframe\">\n",
       "  <thead>\n",
       "    <tr style=\"text-align: right;\">\n",
       "      <th></th>\n",
       "      <th>RECORD_TIME</th>\n",
       "    </tr>\n",
       "  </thead>\n",
       "  <tbody>\n",
       "    <tr>\n",
       "      <th>0</th>\n",
       "      <td>2021-09-19 12:00</td>\n",
       "    </tr>\n",
       "    <tr>\n",
       "      <th>1</th>\n",
       "      <td>2021-09-19 11:30</td>\n",
       "    </tr>\n",
       "  </tbody>\n",
       "</table>\n",
       "</div>"
      ],
      "text/plain": [
       "        RECORD_TIME\n",
       "0  2021-09-19 12:00\n",
       "1  2021-09-19 11:30"
      ]
     },
     "execution_count": 3,
     "metadata": {},
     "output_type": "execute_result"
    }
   ],
   "source": [
    "timestamps"
   ]
  },
  {
   "cell_type": "code",
   "execution_count": 4,
   "id": "alternate-victory",
   "metadata": {
    "execution": {
     "iopub.execute_input": "2021-09-19T10:00:09.105226Z",
     "iopub.status.busy": "2021-09-19T10:00:09.103219Z",
     "iopub.status.idle": "2021-09-19T10:00:09.580144Z",
     "shell.execute_reply": "2021-09-19T10:00:09.581427Z"
    },
    "papermill": {
     "duration": 0.507439,
     "end_time": "2021-09-19T10:00:09.581841",
     "exception": false,
     "start_time": "2021-09-19T10:00:09.074402",
     "status": "completed"
    },
    "tags": []
   },
   "outputs": [],
   "source": [
    "df = pd.read_sql(\"select * from EBAY_TOP_BERLIN where record_time in (select distinct record_time from EBAY_TOP_BERLIN order by record_time desc limit 2)\", sqlite3.connect(\"UsedObjects.db\"))"
   ]
  },
  {
   "cell_type": "code",
   "execution_count": 5,
   "id": "popular-active",
   "metadata": {
    "execution": {
     "iopub.execute_input": "2021-09-19T10:00:09.662365Z",
     "iopub.status.busy": "2021-09-19T10:00:09.650098Z",
     "iopub.status.idle": "2021-09-19T10:00:09.678090Z",
     "shell.execute_reply": "2021-09-19T10:00:09.679365Z"
    },
    "papermill": {
     "duration": 0.071938,
     "end_time": "2021-09-19T10:00:09.679767",
     "exception": false,
     "start_time": "2021-09-19T10:00:09.607829",
     "status": "completed"
    },
    "tags": []
   },
   "outputs": [],
   "source": [
    "df_pivot = df.pivot_table(index=\"PRODUCT\", columns = \"RECORD_TIME\", values = \"LISTING_COUNT\")"
   ]
  },
  {
   "cell_type": "code",
   "execution_count": 6,
   "id": "union-huntington",
   "metadata": {
    "execution": {
     "iopub.execute_input": "2021-09-19T10:00:09.738428Z",
     "iopub.status.busy": "2021-09-19T10:00:09.736148Z",
     "iopub.status.idle": "2021-09-19T10:00:09.741829Z",
     "shell.execute_reply": "2021-09-19T10:00:09.743180Z"
    },
    "papermill": {
     "duration": 0.041569,
     "end_time": "2021-09-19T10:00:09.743599",
     "exception": false,
     "start_time": "2021-09-19T10:00:09.702030",
     "status": "completed"
    },
    "tags": []
   },
   "outputs": [],
   "source": [
    "df_pivot.columns = [\"stamp_1\", \"stamp_2\"]\n",
    "df_pivot_diff = df_pivot.diff(axis=1)"
   ]
  },
  {
   "cell_type": "code",
   "execution_count": 7,
   "id": "fifth-motion",
   "metadata": {
    "execution": {
     "iopub.execute_input": "2021-09-19T10:00:09.797985Z",
     "iopub.status.busy": "2021-09-19T10:00:09.795718Z",
     "iopub.status.idle": "2021-09-19T10:00:11.298556Z",
     "shell.execute_reply": "2021-09-19T10:00:11.300135Z"
    },
    "papermill": {
     "duration": 1.536477,
     "end_time": "2021-09-19T10:00:11.300607",
     "exception": false,
     "start_time": "2021-09-19T10:00:09.764130",
     "status": "completed"
    },
    "tags": []
   },
   "outputs": [
    {
     "data": {
      "text/plain": [
       "<AxesSubplot:ylabel='PRODUCT'>"
      ]
     },
     "execution_count": 7,
     "metadata": {},
     "output_type": "execute_result"
    },
    {
     "data": {
      "image/png": "[encoded data removed]",
      "text/plain": [
       "<Figure size 432x288 with 1 Axes>"
      ]
     },
     "metadata": {
      "needs_background": "light"
     },
     "output_type": "display_data"
    }
   ],
   "source": [
    "df_pivot_diff.sort_values(\"stamp_2\", ascending = False)[\"stamp_2\"].head(10).plot.barh()"
   ]
  },
  {
   "cell_type": "code",
   "execution_count": null,
   "id": "extra-executive",
   "metadata": {
    "papermill": {
     "duration": 0.022368,
     "end_time": "2021-09-19T10:00:11.347612",
     "exception": false,
     "start_time": "2021-09-19T10:00:11.325244",
     "status": "completed"
    },
    "tags": []
   },
   "outputs": [],
   "source": []
  }
 ],
 "metadata": {
  "kernelspec": {
   "display_name": "Python 3",
   "language": "python",
   "name": "python3"
  },
  "language_info": {
   "codemirror_mode": {
    "name": "ipython",
    "version": 3
   },
   "file_extension": ".py",
   "mimetype": "text/x-python",
   "name": "python",
   "nbconvert_exporter": "python",
   "pygments_lexer": "ipython3",
   "version": "3.9.5"
  },
  "papermill": {
   "default_parameters": {},
   "duration": 6.653071,
   "end_time": "2021-09-19T10:00:11.990566",
   "environment_variables": {},
   "exception": null,
   "input_path": "eBay_Overview.ipynb",
   "output_path": "eBay_Overview.ipynb",
   "parameters": {},
   "start_time": "2021-09-19T10:00:05.337495",
   "version": "2.3.3"
  }
 },
 "nbformat": 4,
 "nbformat_minor": 5
}