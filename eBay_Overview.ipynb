{
 "cells": [
  {
   "cell_type": "code",
   "execution_count": 1,
   "id": "reverse-picking",
   "metadata": {
    "execution": {
     "iopub.execute_input": "2021-12-03T04:30:07.695080Z",
     "iopub.status.busy": "2021-12-03T04:30:07.692623Z",
     "iopub.status.idle": "2021-12-03T04:30:08.648494Z",
     "shell.execute_reply": "2021-12-03T04:30:08.650063Z"
    },
    "papermill": {
     "duration": 1.005276,
     "end_time": "2021-12-03T04:30:08.650817",
     "exception": false,
     "start_time": "2021-12-03T04:30:07.645541",
     "status": "completed"
    },
    "tags": []
   },
   "outputs": [],
   "source": [
    "import pandas as pd\n",
    "import sqlite3"
   ]
  },
  {
   "cell_type": "code",
   "execution_count": 2,
   "id": "innovative-syndrome",
   "metadata": {
    "execution": {
     "iopub.execute_input": "2021-12-03T04:30:08.734964Z",
     "iopub.status.busy": "2021-12-03T04:30:08.732655Z",
     "iopub.status.idle": "2021-12-03T04:30:09.712377Z",
     "shell.execute_reply": "2021-12-03T04:30:09.714004Z"
    },
    "papermill": {
     "duration": 1.034827,
     "end_time": "2021-12-03T04:30:09.714487",
     "exception": false,
     "start_time": "2021-12-03T04:30:08.679660",
     "status": "completed"
    },
    "tags": []
   },
   "outputs": [],
   "source": [
    "timestamps = pd.read_sql(\"select distinct record_time from EBAY_TOP_BERLIN order by record_time desc limit 2\", sqlite3.connect(\"UsedObjects.db\"))"
   ]
  },
  {
   "cell_type": "code",
   "execution_count": 3,
   "id": "periodic-identification",
   "metadata": {
    "execution": {
     "iopub.execute_input": "2021-12-03T04:30:09.789028Z",
     "iopub.status.busy": "2021-12-03T04:30:09.782832Z",
     "iopub.status.idle": "2021-12-03T04:30:09.808449Z",
     "shell.execute_reply": "2021-12-03T04:30:09.810499Z"
    },
    "papermill": {
     "duration": 0.076025,
     "end_time": "2021-12-03T04:30:09.811103",
     "exception": false,
     "start_time": "2021-12-03T04:30:09.735078",
     "status": "completed"
    },
    "tags": []
   },
   "outputs": [
    {
     "data": {
      "text/html": [
       "<div>\n",
       "<style scoped>\n",
       "    .dataframe tbody tr th:only-of-type {\n",
       "        vertical-align: middle;\n",
       "    }\n",
       "\n",
       "    .dataframe tbody tr th {\n",
       "        vertical-align: top;\n",
       "    }\n",
       "\n",
       "    .dataframe thead th {\n",
       "        text-align: right;\n",
       "    }\n",
       "</style>\n",
       "<table border=\"1\" class=\"dataframe\">\n",
       "  <thead>\n",
       "    <tr style=\"text-align: right;\">\n",
       "      <th></th>\n",
       "      <th>RECORD_TIME</th>\n",
       "    </tr>\n",
       "  </thead>\n",
       "  <tbody>\n",
       "    <tr>\n",
       "      <th>0</th>\n",
       "      <td>2021-12-03 05:30</td>\n",
       "    </tr>\n",
       "    <tr>\n",
       "      <th>1</th>\n",
       "      <td>2021-12-03 05:00</td>\n",
       "    </tr>\n",
       "  </tbody>\n",
       "</table>\n",
       "</div>"
      ],
      "text/plain": [
       "        RECORD_TIME\n",
       "0  2021-12-03 05:30\n",
       "1  2021-12-03 05:00"
      ]
     },
     "execution_count": 3,
     "metadata": {},
     "output_type": "execute_result"
    }
   ],
   "source": [
    "timestamps"
   ]
  },
  {
   "cell_type": "code",
   "execution_count": 4,
   "id": "alternate-victory",
   "metadata": {
    "execution": {
     "iopub.execute_input": "2021-12-03T04:30:09.865814Z",
     "iopub.status.busy": "2021-12-03T04:30:09.863684Z",
     "iopub.status.idle": "2021-12-03T04:30:11.291773Z",
     "shell.execute_reply": "2021-12-03T04:30:11.293989Z"
    },
    "papermill": {
     "duration": 1.459412,
     "end_time": "2021-12-03T04:30:11.294468",
     "exception": false,
     "start_time": "2021-12-03T04:30:09.835056",
     "status": "completed"
    },
    "tags": []
   },
   "outputs": [],
   "source": [
    "df = pd.read_sql(\"select * from EBAY_TOP_BERLIN where record_time in (select distinct record_time from EBAY_TOP_BERLIN order by record_time desc limit 2)\", sqlite3.connect(\"UsedObjects.db\"))"
   ]
  },
  {
   "cell_type": "code",
   "execution_count": 5,
   "id": "popular-active",
   "metadata": {
    "execution": {
     "iopub.execute_input": "2021-12-03T04:30:11.367272Z",
     "iopub.status.busy": "2021-12-03T04:30:11.357025Z",
     "iopub.status.idle": "2021-12-03T04:30:11.394586Z",
     "shell.execute_reply": "2021-12-03T04:30:11.396104Z"
    },
    "papermill": {
     "duration": 0.081241,
     "end_time": "2021-12-03T04:30:11.396618",
     "exception": false,
     "start_time": "2021-12-03T04:30:11.315377",
     "status": "completed"
    },
    "tags": []
   },
   "outputs": [],
   "source": [
    "df_pivot = df.pivot_table(index=\"PRODUCT\", columns = \"RECORD_TIME\", values = \"LISTING_COUNT\")"
   ]
  },
  {
   "cell_type": "code",
   "execution_count": 6,
   "id": "union-huntington",
   "metadata": {
    "execution": {
     "iopub.execute_input": "2021-12-03T04:30:11.451400Z",
     "iopub.status.busy": "2021-12-03T04:30:11.448042Z",
     "iopub.status.idle": "2021-12-03T04:30:11.471805Z",
     "shell.execute_reply": "2021-12-03T04:30:11.473538Z"
    },
    "papermill": {
     "duration": 0.055487,
     "end_time": "2021-12-03T04:30:11.474094",
     "exception": false,
     "start_time": "2021-12-03T04:30:11.418607",
     "status": "completed"
    },
    "tags": []
   },
   "outputs": [],
   "source": [
    "df_pivot.columns = [\"stamp_1\", \"stamp_2\"]\n",
    "df_pivot_diff = df_pivot.diff(axis=1)"
   ]
  },
  {
   "cell_type": "code",
   "execution_count": 7,
   "id": "fifth-motion",
   "metadata": {
    "execution": {
     "iopub.execute_input": "2021-12-03T04:30:11.534095Z",
     "iopub.status.busy": "2021-12-03T04:30:11.531561Z",
     "iopub.status.idle": "2021-12-03T04:30:13.547822Z",
     "shell.execute_reply": "2021-12-03T04:30:13.550169Z"
    },
    "papermill": {
     "duration": 2.053835,
     "end_time": "2021-12-03T04:30:13.550877",
     "exception": false,
     "start_time": "2021-12-03T04:30:11.497042",
     "status": "completed"
    },
    "tags": []
   },
   "outputs": [
    {
     "data": {
      "text/plain": [
       "<AxesSubplot:ylabel='PRODUCT'>"
      ]
     },
     "execution_count": 7,
     "metadata": {},
     "output_type": "execute_result"
    },
    {
     "data": {
      "image/png": "[encoded data removed]",
      "text/plain": [
       "<Figure size 432x288 with 1 Axes>"
      ]
     },
     "metadata": {
      "needs_background": "light"
     },
     "output_type": "display_data"
    }
   ],
   "source": [
    "df_pivot_diff.sort_values(\"stamp_2\", ascending = False)[\"stamp_2\"].head(10).plot.barh()"
   ]
  },
  {
   "cell_type": "code",
   "execution_count": null,
   "id": "extra-executive",
   "metadata": {
    "papermill": {
     "duration": 0.058102,
     "end_time": "2021-12-03T04:30:13.646101",
     "exception": false,
     "start_time": "2021-12-03T04:30:13.587999",
     "status": "completed"
    },
    "tags": []
   },
   "outputs": [],
   "source": []
  }
 ],
 "metadata": {
  "kernelspec": {
   "display_name": "Python 3",
   "language": "python",
   "name": "python3"
  },
  "language_info": {
   "codemirror_mode": {
    "name": "ipython",
    "version": 3
   },
   "file_extension": ".py",
   "mimetype": "text/x-python",
   "name": "python",
   "nbconvert_exporter": "python",
   "pygments_lexer": "ipython3",
   "version": "3.9.5"
  },
  "papermill": {
   "default_parameters": {},
   "duration": 9.94973,
   "end_time": "2021-12-03T04:30:14.858858",
   "environment_variables": {},
   "exception": null,
   "input_path": "eBay_Overview.ipynb",
   "output_path": "eBay_Overview.ipynb",
   "parameters": {},
   "start_time": "2021-12-03T04:30:04.909128",
   "version": "2.3.3"
  }
 },
 "nbformat": 4,
 "nbformat_minor": 5
}