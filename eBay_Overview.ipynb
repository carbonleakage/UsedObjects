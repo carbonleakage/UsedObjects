{
 "cells": [
  {
   "cell_type": "code",
   "execution_count": 1,
   "id": "reverse-picking",
   "metadata": {
    "execution": {
     "iopub.execute_input": "2021-12-05T12:30:07.542092Z",
     "iopub.status.busy": "2021-12-05T12:30:07.539722Z",
     "iopub.status.idle": "2021-12-05T12:30:08.498501Z",
     "shell.execute_reply": "2021-12-05T12:30:08.496519Z"
    },
    "papermill": {
     "duration": 1.007103,
     "end_time": "2021-12-05T12:30:08.498983",
     "exception": false,
     "start_time": "2021-12-05T12:30:07.491880",
     "status": "completed"
    },
    "tags": []
   },
   "outputs": [],
   "source": [
    "import pandas as pd\n",
    "import sqlite3"
   ]
  },
  {
   "cell_type": "code",
   "execution_count": 2,
   "id": "innovative-syndrome",
   "metadata": {
    "execution": {
     "iopub.execute_input": "2021-12-05T12:30:08.616925Z",
     "iopub.status.busy": "2021-12-05T12:30:08.614474Z",
     "iopub.status.idle": "2021-12-05T12:30:09.621829Z",
     "shell.execute_reply": "2021-12-05T12:30:09.623982Z"
    },
    "papermill": {
     "duration": 1.042335,
     "end_time": "2021-12-05T12:30:09.624485",
     "exception": false,
     "start_time": "2021-12-05T12:30:08.582150",
     "status": "completed"
    },
    "tags": []
   },
   "outputs": [],
   "source": [
    "timestamps = pd.read_sql(\"select distinct record_time from EBAY_TOP_BERLIN order by record_time desc limit 2\", sqlite3.connect(\"UsedObjects.db\"))"
   ]
  },
  {
   "cell_type": "code",
   "execution_count": 3,
   "id": "periodic-identification",
   "metadata": {
    "execution": {
     "iopub.execute_input": "2021-12-05T12:30:09.695972Z",
     "iopub.status.busy": "2021-12-05T12:30:09.693763Z",
     "iopub.status.idle": "2021-12-05T12:30:09.716232Z",
     "shell.execute_reply": "2021-12-05T12:30:09.717737Z"
    },
    "papermill": {
     "duration": 0.072593,
     "end_time": "2021-12-05T12:30:09.718224",
     "exception": false,
     "start_time": "2021-12-05T12:30:09.645631",
     "status": "completed"
    },
    "tags": []
   },
   "outputs": [
    {
     "data": {
      "text/html": [
       "<div>\n",
       "<style scoped>\n",
       "    .dataframe tbody tr th:only-of-type {\n",
       "        vertical-align: middle;\n",
       "    }\n",
       "\n",
       "    .dataframe tbody tr th {\n",
       "        vertical-align: top;\n",
       "    }\n",
       "\n",
       "    .dataframe thead th {\n",
       "        text-align: right;\n",
       "    }\n",
       "</style>\n",
       "<table border=\"1\" class=\"dataframe\">\n",
       "  <thead>\n",
       "    <tr style=\"text-align: right;\">\n",
       "      <th></th>\n",
       "      <th>RECORD_TIME</th>\n",
       "    </tr>\n",
       "  </thead>\n",
       "  <tbody>\n",
       "    <tr>\n",
       "      <th>0</th>\n",
       "      <td>2021-12-05 13:30</td>\n",
       "    </tr>\n",
       "    <tr>\n",
       "      <th>1</th>\n",
       "      <td>2021-12-05 13:00</td>\n",
       "    </tr>\n",
       "  </tbody>\n",
       "</table>\n",
       "</div>"
      ],
      "text/plain": [
       "        RECORD_TIME\n",
       "0  2021-12-05 13:30\n",
       "1  2021-12-05 13:00"
      ]
     },
     "execution_count": 3,
     "metadata": {},
     "output_type": "execute_result"
    }
   ],
   "source": [
    "timestamps"
   ]
  },
  {
   "cell_type": "code",
   "execution_count": 4,
   "id": "alternate-victory",
   "metadata": {
    "execution": {
     "iopub.execute_input": "2021-12-05T12:30:09.776221Z",
     "iopub.status.busy": "2021-12-05T12:30:09.774268Z",
     "iopub.status.idle": "2021-12-05T12:30:11.251999Z",
     "shell.execute_reply": "2021-12-05T12:30:11.253631Z"
    },
    "papermill": {
     "duration": 1.514078,
     "end_time": "2021-12-05T12:30:11.254114",
     "exception": false,
     "start_time": "2021-12-05T12:30:09.740036",
     "status": "completed"
    },
    "tags": []
   },
   "outputs": [],
   "source": [
    "df = pd.read_sql(\"select * from EBAY_TOP_BERLIN where record_time in (select distinct record_time from EBAY_TOP_BERLIN order by record_time desc limit 2)\", sqlite3.connect(\"UsedObjects.db\"))"
   ]
  },
  {
   "cell_type": "code",
   "execution_count": 5,
   "id": "popular-active",
   "metadata": {
    "execution": {
     "iopub.execute_input": "2021-12-05T12:30:11.323405Z",
     "iopub.status.busy": "2021-12-05T12:30:11.320604Z",
     "iopub.status.idle": "2021-12-05T12:30:11.354795Z",
     "shell.execute_reply": "2021-12-05T12:30:11.356306Z"
    },
    "papermill": {
     "duration": 0.082207,
     "end_time": "2021-12-05T12:30:11.356945",
     "exception": false,
     "start_time": "2021-12-05T12:30:11.274738",
     "status": "completed"
    },
    "tags": []
   },
   "outputs": [],
   "source": [
    "df_pivot = df.pivot_table(index=\"PRODUCT\", columns = \"RECORD_TIME\", values = \"LISTING_COUNT\")"
   ]
  },
  {
   "cell_type": "code",
   "execution_count": 6,
   "id": "union-huntington",
   "metadata": {
    "execution": {
     "iopub.execute_input": "2021-12-05T12:30:11.425407Z",
     "iopub.status.busy": "2021-12-05T12:30:11.423095Z",
     "iopub.status.idle": "2021-12-05T12:30:11.429064Z",
     "shell.execute_reply": "2021-12-05T12:30:11.430438Z"
    },
    "papermill": {
     "duration": 0.048944,
     "end_time": "2021-12-05T12:30:11.430941",
     "exception": false,
     "start_time": "2021-12-05T12:30:11.381997",
     "status": "completed"
    },
    "tags": []
   },
   "outputs": [],
   "source": [
    "df_pivot.columns = [\"stamp_1\", \"stamp_2\"]\n",
    "df_pivot_diff = df_pivot.diff(axis=1)"
   ]
  },
  {
   "cell_type": "code",
   "execution_count": 7,
   "id": "fifth-motion",
   "metadata": {
    "execution": {
     "iopub.execute_input": "2021-12-05T12:30:11.489136Z",
     "iopub.status.busy": "2021-12-05T12:30:11.486605Z",
     "iopub.status.idle": "2021-12-05T12:30:13.486339Z",
     "shell.execute_reply": "2021-12-05T12:30:13.489630Z"
    },
    "papermill": {
     "duration": 2.037741,
     "end_time": "2021-12-05T12:30:13.490455",
     "exception": false,
     "start_time": "2021-12-05T12:30:11.452714",
     "status": "completed"
    },
    "tags": []
   },
   "outputs": [
    {
     "data": {
      "text/plain": [
       "<AxesSubplot:ylabel='PRODUCT'>"
      ]
     },
     "execution_count": 7,
     "metadata": {},
     "output_type": "execute_result"
    },
    {
     "data": {
      "image/png": "[encoded data removed]",
      "text/plain": [
       "<Figure size 432x288 with 1 Axes>"
      ]
     },
     "metadata": {
      "needs_background": "light"
     },
     "output_type": "display_data"
    }
   ],
   "source": [
    "df_pivot_diff.sort_values(\"stamp_2\", ascending = False)[\"stamp_2\"].head(10).plot.barh()"
   ]
  },
  {
   "cell_type": "code",
   "execution_count": null,
   "id": "extra-executive",
   "metadata": {
    "papermill": {
     "duration": 0.027017,
     "end_time": "2021-12-05T12:30:13.610321",
     "exception": false,
     "start_time": "2021-12-05T12:30:13.583304",
     "status": "completed"
    },
    "tags": []
   },
   "outputs": [],
   "source": []
  }
 ],
 "metadata": {
  "kernelspec": {
   "display_name": "Python 3",
   "language": "python",
   "name": "python3"
  },
  "language_info": {
   "codemirror_mode": {
    "name": "ipython",
    "version": 3
   },
   "file_extension": ".py",
   "mimetype": "text/x-python",
   "name": "python",
   "nbconvert_exporter": "python",
   "pygments_lexer": "ipython3",
   "version": "3.9.5"
  },
  "papermill": {
   "default_parameters": {},
   "duration": 9.490913,
   "end_time": "2021-12-05T12:30:14.254904",
   "environment_variables": {},
   "exception": null,
   "input_path": "eBay_Overview.ipynb",
   "output_path": "eBay_Overview.ipynb",
   "parameters": {},
   "start_time": "2021-12-05T12:30:04.763991",
   "version": "2.3.3"
  }
 },
 "nbformat": 4,
 "nbformat_minor": 5
}