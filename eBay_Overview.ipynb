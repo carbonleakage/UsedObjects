{
 "cells": [
  {
   "cell_type": "code",
   "execution_count": 1,
   "id": "reverse-picking",
   "metadata": {
    "execution": {
     "iopub.execute_input": "2021-10-01T21:00:06.716571Z",
     "iopub.status.busy": "2021-10-01T21:00:06.714513Z",
     "iopub.status.idle": "2021-10-01T21:00:07.522104Z",
     "shell.execute_reply": "2021-10-01T21:00:07.523520Z"
    },
    "papermill": {
     "duration": 0.860418,
     "end_time": "2021-10-01T21:00:07.524164",
     "exception": false,
     "start_time": "2021-10-01T21:00:06.663746",
     "status": "completed"
    },
    "tags": []
   },
   "outputs": [],
   "source": [
    "import pandas as pd\n",
    "import sqlite3"
   ]
  },
  {
   "cell_type": "code",
   "execution_count": 2,
   "id": "innovative-syndrome",
   "metadata": {
    "execution": {
     "iopub.execute_input": "2021-10-01T21:00:07.573988Z",
     "iopub.status.busy": "2021-10-01T21:00:07.572120Z",
     "iopub.status.idle": "2021-10-01T21:00:07.992369Z",
     "shell.execute_reply": "2021-10-01T21:00:07.993566Z"
    },
    "papermill": {
     "duration": 0.449646,
     "end_time": "2021-10-01T21:00:07.993960",
     "exception": false,
     "start_time": "2021-10-01T21:00:07.544314",
     "status": "completed"
    },
    "tags": []
   },
   "outputs": [],
   "source": [
    "timestamps = pd.read_sql(\"select distinct record_time from EBAY_TOP_BERLIN order by record_time desc limit 2\", sqlite3.connect(\"UsedObjects.db\"))"
   ]
  },
  {
   "cell_type": "code",
   "execution_count": 3,
   "id": "periodic-identification",
   "metadata": {
    "execution": {
     "iopub.execute_input": "2021-10-01T21:00:08.060981Z",
     "iopub.status.busy": "2021-10-01T21:00:08.055885Z",
     "iopub.status.idle": "2021-10-01T21:00:08.077531Z",
     "shell.execute_reply": "2021-10-01T21:00:08.079194Z"
    },
    "papermill": {
     "duration": 0.06623,
     "end_time": "2021-10-01T21:00:08.079722",
     "exception": false,
     "start_time": "2021-10-01T21:00:08.013492",
     "status": "completed"
    },
    "tags": []
   },
   "outputs": [
    {
     "data": {
      "text/html": [
       "<div>\n",
       "<style scoped>\n",
       "    .dataframe tbody tr th:only-of-type {\n",
       "        vertical-align: middle;\n",
       "    }\n",
       "\n",
       "    .dataframe tbody tr th {\n",
       "        vertical-align: top;\n",
       "    }\n",
       "\n",
       "    .dataframe thead th {\n",
       "        text-align: right;\n",
       "    }\n",
       "</style>\n",
       "<table border=\"1\" class=\"dataframe\">\n",
       "  <thead>\n",
       "    <tr style=\"text-align: right;\">\n",
       "      <th></th>\n",
       "      <th>RECORD_TIME</th>\n",
       "    </tr>\n",
       "  </thead>\n",
       "  <tbody>\n",
       "    <tr>\n",
       "      <th>0</th>\n",
       "      <td>2021-10-01 23:00</td>\n",
       "    </tr>\n",
       "    <tr>\n",
       "      <th>1</th>\n",
       "      <td>2021-10-01 22:30</td>\n",
       "    </tr>\n",
       "  </tbody>\n",
       "</table>\n",
       "</div>"
      ],
      "text/plain": [
       "        RECORD_TIME\n",
       "0  2021-10-01 23:00\n",
       "1  2021-10-01 22:30"
      ]
     },
     "execution_count": 3,
     "metadata": {},
     "output_type": "execute_result"
    }
   ],
   "source": [
    "timestamps"
   ]
  },
  {
   "cell_type": "code",
   "execution_count": 4,
   "id": "alternate-victory",
   "metadata": {
    "execution": {
     "iopub.execute_input": "2021-10-01T21:00:08.132374Z",
     "iopub.status.busy": "2021-10-01T21:00:08.130030Z",
     "iopub.status.idle": "2021-10-01T21:00:08.760475Z",
     "shell.execute_reply": "2021-10-01T21:00:08.761677Z"
    },
    "papermill": {
     "duration": 0.660627,
     "end_time": "2021-10-01T21:00:08.762071",
     "exception": false,
     "start_time": "2021-10-01T21:00:08.101444",
     "status": "completed"
    },
    "tags": []
   },
   "outputs": [],
   "source": [
    "df = pd.read_sql(\"select * from EBAY_TOP_BERLIN where record_time in (select distinct record_time from EBAY_TOP_BERLIN order by record_time desc limit 2)\", sqlite3.connect(\"UsedObjects.db\"))"
   ]
  },
  {
   "cell_type": "code",
   "execution_count": 5,
   "id": "popular-active",
   "metadata": {
    "execution": {
     "iopub.execute_input": "2021-10-01T21:00:08.831751Z",
     "iopub.status.busy": "2021-10-01T21:00:08.824031Z",
     "iopub.status.idle": "2021-10-01T21:00:08.851907Z",
     "shell.execute_reply": "2021-10-01T21:00:08.853120Z"
    },
    "papermill": {
     "duration": 0.068663,
     "end_time": "2021-10-01T21:00:08.853514",
     "exception": false,
     "start_time": "2021-10-01T21:00:08.784851",
     "status": "completed"
    },
    "tags": []
   },
   "outputs": [],
   "source": [
    "df_pivot = df.pivot_table(index=\"PRODUCT\", columns = \"RECORD_TIME\", values = \"LISTING_COUNT\")"
   ]
  },
  {
   "cell_type": "code",
   "execution_count": 6,
   "id": "union-huntington",
   "metadata": {
    "execution": {
     "iopub.execute_input": "2021-10-01T21:00:08.912933Z",
     "iopub.status.busy": "2021-10-01T21:00:08.910457Z",
     "iopub.status.idle": "2021-10-01T21:00:08.916434Z",
     "shell.execute_reply": "2021-10-01T21:00:08.917783Z"
    },
    "papermill": {
     "duration": 0.042459,
     "end_time": "2021-10-01T21:00:08.918250",
     "exception": false,
     "start_time": "2021-10-01T21:00:08.875791",
     "status": "completed"
    },
    "tags": []
   },
   "outputs": [],
   "source": [
    "df_pivot.columns = [\"stamp_1\", \"stamp_2\"]\n",
    "df_pivot_diff = df_pivot.diff(axis=1)"
   ]
  },
  {
   "cell_type": "code",
   "execution_count": 7,
   "id": "fifth-motion",
   "metadata": {
    "execution": {
     "iopub.execute_input": "2021-10-01T21:00:08.973021Z",
     "iopub.status.busy": "2021-10-01T21:00:08.970555Z",
     "iopub.status.idle": "2021-10-01T21:00:10.448959Z",
     "shell.execute_reply": "2021-10-01T21:00:10.450235Z"
    },
    "papermill": {
     "duration": 1.510939,
     "end_time": "2021-10-01T21:00:10.450649",
     "exception": false,
     "start_time": "2021-10-01T21:00:08.939710",
     "status": "completed"
    },
    "tags": []
   },
   "outputs": [
    {
     "data": {
      "text/plain": [
       "<AxesSubplot:ylabel='PRODUCT'>"
      ]
     },
     "execution_count": 7,
     "metadata": {},
     "output_type": "execute_result"
    },
    {
     "data": {
      "image/png": "[encoded data removed]",
      "text/plain": [
       "<Figure size 432x288 with 1 Axes>"
      ]
     },
     "metadata": {
      "needs_background": "light"
     },
     "output_type": "display_data"
    }
   ],
   "source": [
    "df_pivot_diff.sort_values(\"stamp_2\", ascending = False)[\"stamp_2\"].head(10).plot.barh()"
   ]
  },
  {
   "cell_type": "code",
   "execution_count": null,
   "id": "extra-executive",
   "metadata": {
    "papermill": {
     "duration": 0.022251,
     "end_time": "2021-10-01T21:00:10.497731",
     "exception": false,
     "start_time": "2021-10-01T21:00:10.475480",
     "status": "completed"
    },
    "tags": []
   },
   "outputs": [],
   "source": []
  }
 ],
 "metadata": {
  "kernelspec": {
   "display_name": "Python 3",
   "language": "python",
   "name": "python3"
  },
  "language_info": {
   "codemirror_mode": {
    "name": "ipython",
    "version": 3
   },
   "file_extension": ".py",
   "mimetype": "text/x-python",
   "name": "python",
   "nbconvert_exporter": "python",
   "pygments_lexer": "ipython3",
   "version": "3.9.5"
  },
  "papermill": {
   "default_parameters": {},
   "duration": 7.820715,
   "end_time": "2021-10-01T21:00:12.078220",
   "environment_variables": {},
   "exception": null,
   "input_path": "eBay_Overview.ipynb",
   "output_path": "eBay_Overview.ipynb",
   "parameters": {},
   "start_time": "2021-10-01T21:00:04.257505",
   "version": "2.3.3"
  }
 },
 "nbformat": 4,
 "nbformat_minor": 5
}