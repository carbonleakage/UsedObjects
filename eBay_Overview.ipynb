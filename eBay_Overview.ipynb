{
 "cells": [
  {
   "cell_type": "code",
   "execution_count": 1,
   "id": "reverse-picking",
   "metadata": {
    "execution": {
     "iopub.execute_input": "2021-10-26T17:30:07.490276Z",
     "iopub.status.busy": "2021-10-26T17:30:07.488223Z",
     "iopub.status.idle": "2021-10-26T17:30:08.295422Z",
     "shell.execute_reply": "2021-10-26T17:30:08.296842Z"
    },
    "papermill": {
     "duration": 0.857891,
     "end_time": "2021-10-26T17:30:08.297500",
     "exception": false,
     "start_time": "2021-10-26T17:30:07.439609",
     "status": "completed"
    },
    "tags": []
   },
   "outputs": [],
   "source": [
    "import pandas as pd\n",
    "import sqlite3"
   ]
  },
  {
   "cell_type": "code",
   "execution_count": 2,
   "id": "innovative-syndrome",
   "metadata": {
    "execution": {
     "iopub.execute_input": "2021-10-26T17:30:08.350605Z",
     "iopub.status.busy": "2021-10-26T17:30:08.348051Z",
     "iopub.status.idle": "2021-10-26T17:30:08.996936Z",
     "shell.execute_reply": "2021-10-26T17:30:08.998289Z"
    },
    "papermill": {
     "duration": 0.678923,
     "end_time": "2021-10-26T17:30:08.998700",
     "exception": false,
     "start_time": "2021-10-26T17:30:08.319777",
     "status": "completed"
    },
    "tags": []
   },
   "outputs": [],
   "source": [
    "timestamps = pd.read_sql(\"select distinct record_time from EBAY_TOP_BERLIN order by record_time desc limit 2\", sqlite3.connect(\"UsedObjects.db\"))"
   ]
  },
  {
   "cell_type": "code",
   "execution_count": 3,
   "id": "periodic-identification",
   "metadata": {
    "execution": {
     "iopub.execute_input": "2021-10-26T17:30:09.073872Z",
     "iopub.status.busy": "2021-10-26T17:30:09.071777Z",
     "iopub.status.idle": "2021-10-26T17:30:09.091726Z",
     "shell.execute_reply": "2021-10-26T17:30:09.093161Z"
    },
    "papermill": {
     "duration": 0.070182,
     "end_time": "2021-10-26T17:30:09.093618",
     "exception": false,
     "start_time": "2021-10-26T17:30:09.023436",
     "status": "completed"
    },
    "tags": []
   },
   "outputs": [
    {
     "data": {
      "text/html": [
       "<div>\n",
       "<style scoped>\n",
       "    .dataframe tbody tr th:only-of-type {\n",
       "        vertical-align: middle;\n",
       "    }\n",
       "\n",
       "    .dataframe tbody tr th {\n",
       "        vertical-align: top;\n",
       "    }\n",
       "\n",
       "    .dataframe thead th {\n",
       "        text-align: right;\n",
       "    }\n",
       "</style>\n",
       "<table border=\"1\" class=\"dataframe\">\n",
       "  <thead>\n",
       "    <tr style=\"text-align: right;\">\n",
       "      <th></th>\n",
       "      <th>RECORD_TIME</th>\n",
       "    </tr>\n",
       "  </thead>\n",
       "  <tbody>\n",
       "    <tr>\n",
       "      <th>0</th>\n",
       "      <td>2021-10-26 19:30</td>\n",
       "    </tr>\n",
       "    <tr>\n",
       "      <th>1</th>\n",
       "      <td>2021-10-26 19:00</td>\n",
       "    </tr>\n",
       "  </tbody>\n",
       "</table>\n",
       "</div>"
      ],
      "text/plain": [
       "        RECORD_TIME\n",
       "0  2021-10-26 19:30\n",
       "1  2021-10-26 19:00"
      ]
     },
     "execution_count": 3,
     "metadata": {},
     "output_type": "execute_result"
    }
   ],
   "source": [
    "timestamps"
   ]
  },
  {
   "cell_type": "code",
   "execution_count": 4,
   "id": "alternate-victory",
   "metadata": {
    "execution": {
     "iopub.execute_input": "2021-10-26T17:30:09.144981Z",
     "iopub.status.busy": "2021-10-26T17:30:09.142936Z",
     "iopub.status.idle": "2021-10-26T17:30:10.087265Z",
     "shell.execute_reply": "2021-10-26T17:30:10.088470Z"
    },
    "papermill": {
     "duration": 0.974158,
     "end_time": "2021-10-26T17:30:10.088945",
     "exception": false,
     "start_time": "2021-10-26T17:30:09.114787",
     "status": "completed"
    },
    "tags": []
   },
   "outputs": [],
   "source": [
    "df = pd.read_sql(\"select * from EBAY_TOP_BERLIN where record_time in (select distinct record_time from EBAY_TOP_BERLIN order by record_time desc limit 2)\", sqlite3.connect(\"UsedObjects.db\"))"
   ]
  },
  {
   "cell_type": "code",
   "execution_count": 5,
   "id": "popular-active",
   "metadata": {
    "execution": {
     "iopub.execute_input": "2021-10-26T17:30:10.157865Z",
     "iopub.status.busy": "2021-10-26T17:30:10.146492Z",
     "iopub.status.idle": "2021-10-26T17:30:10.175158Z",
     "shell.execute_reply": "2021-10-26T17:30:10.176431Z"
    },
    "papermill": {
     "duration": 0.067246,
     "end_time": "2021-10-26T17:30:10.176900",
     "exception": false,
     "start_time": "2021-10-26T17:30:10.109654",
     "status": "completed"
    },
    "tags": []
   },
   "outputs": [],
   "source": [
    "df_pivot = df.pivot_table(index=\"PRODUCT\", columns = \"RECORD_TIME\", values = \"LISTING_COUNT\")"
   ]
  },
  {
   "cell_type": "code",
   "execution_count": 6,
   "id": "union-huntington",
   "metadata": {
    "execution": {
     "iopub.execute_input": "2021-10-26T17:30:10.232753Z",
     "iopub.status.busy": "2021-10-26T17:30:10.230687Z",
     "iopub.status.idle": "2021-10-26T17:30:10.236144Z",
     "shell.execute_reply": "2021-10-26T17:30:10.237491Z"
    },
    "papermill": {
     "duration": 0.041023,
     "end_time": "2021-10-26T17:30:10.237940",
     "exception": false,
     "start_time": "2021-10-26T17:30:10.196917",
     "status": "completed"
    },
    "tags": []
   },
   "outputs": [],
   "source": [
    "df_pivot.columns = [\"stamp_1\", \"stamp_2\"]\n",
    "df_pivot_diff = df_pivot.diff(axis=1)"
   ]
  },
  {
   "cell_type": "code",
   "execution_count": 7,
   "id": "fifth-motion",
   "metadata": {
    "execution": {
     "iopub.execute_input": "2021-10-26T17:30:10.294674Z",
     "iopub.status.busy": "2021-10-26T17:30:10.292075Z",
     "iopub.status.idle": "2021-10-26T17:30:11.800671Z",
     "shell.execute_reply": "2021-10-26T17:30:11.802041Z"
    },
    "papermill": {
     "duration": 1.541601,
     "end_time": "2021-10-26T17:30:11.802459",
     "exception": false,
     "start_time": "2021-10-26T17:30:10.260858",
     "status": "completed"
    },
    "tags": []
   },
   "outputs": [
    {
     "data": {
      "text/plain": [
       "<AxesSubplot:ylabel='PRODUCT'>"
      ]
     },
     "execution_count": 7,
     "metadata": {},
     "output_type": "execute_result"
    },
    {
     "data": {
      "image/png": "[encoded data removed]",
      "text/plain": [
       "<Figure size 432x288 with 1 Axes>"
      ]
     },
     "metadata": {
      "needs_background": "light"
     },
     "output_type": "display_data"
    }
   ],
   "source": [
    "df_pivot_diff.sort_values(\"stamp_2\", ascending = False)[\"stamp_2\"].head(10).plot.barh()"
   ]
  },
  {
   "cell_type": "code",
   "execution_count": null,
   "id": "extra-executive",
   "metadata": {
    "papermill": {
     "duration": 0.022123,
     "end_time": "2021-10-26T17:30:11.848675",
     "exception": false,
     "start_time": "2021-10-26T17:30:11.826552",
     "status": "completed"
    },
    "tags": []
   },
   "outputs": [],
   "source": []
  }
 ],
 "metadata": {
  "kernelspec": {
   "display_name": "Python 3",
   "language": "python",
   "name": "python3"
  },
  "language_info": {
   "codemirror_mode": {
    "name": "ipython",
    "version": 3
   },
   "file_extension": ".py",
   "mimetype": "text/x-python",
   "name": "python",
   "nbconvert_exporter": "python",
   "pygments_lexer": "ipython3",
   "version": "3.9.5"
  },
  "papermill": {
   "default_parameters": {},
   "duration": 7.460695,
   "end_time": "2021-10-26T17:30:12.492548",
   "environment_variables": {},
   "exception": null,
   "input_path": "eBay_Overview.ipynb",
   "output_path": "eBay_Overview.ipynb",
   "parameters": {},
   "start_time": "2021-10-26T17:30:05.031853",
   "version": "2.3.3"
  }
 },
 "nbformat": 4,
 "nbformat_minor": 5
}