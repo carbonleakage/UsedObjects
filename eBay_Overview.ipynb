{
 "cells": [
  {
   "cell_type": "code",
   "execution_count": 1,
   "id": "reverse-picking",
   "metadata": {
    "execution": {
     "iopub.execute_input": "2021-09-01T19:30:06.986498Z",
     "iopub.status.busy": "2021-09-01T19:30:06.984591Z",
     "iopub.status.idle": "2021-09-01T19:30:07.788108Z",
     "shell.execute_reply": "2021-09-01T19:30:07.786299Z"
    },
    "papermill": {
     "duration": 0.854465,
     "end_time": "2021-09-01T19:30:07.788538",
     "exception": false,
     "start_time": "2021-09-01T19:30:06.934073",
     "status": "completed"
    },
    "tags": []
   },
   "outputs": [],
   "source": [
    "import pandas as pd\n",
    "import sqlite3"
   ]
  },
  {
   "cell_type": "code",
   "execution_count": 2,
   "id": "innovative-syndrome",
   "metadata": {
    "execution": {
     "iopub.execute_input": "2021-09-01T19:30:07.840879Z",
     "iopub.status.busy": "2021-09-01T19:30:07.838474Z",
     "iopub.status.idle": "2021-09-01T19:30:08.025911Z",
     "shell.execute_reply": "2021-09-01T19:30:08.027301Z"
    },
    "papermill": {
     "duration": 0.217899,
     "end_time": "2021-09-01T19:30:08.027715",
     "exception": false,
     "start_time": "2021-09-01T19:30:07.809816",
     "status": "completed"
    },
    "tags": []
   },
   "outputs": [],
   "source": [
    "timestamps = pd.read_sql(\"select distinct record_time from EBAY_TOP_BERLIN order by record_time desc limit 2\", sqlite3.connect(\"UsedObjects.db\"))"
   ]
  },
  {
   "cell_type": "code",
   "execution_count": 3,
   "id": "periodic-identification",
   "metadata": {
    "execution": {
     "iopub.execute_input": "2021-09-01T19:30:08.094039Z",
     "iopub.status.busy": "2021-09-01T19:30:08.092044Z",
     "iopub.status.idle": "2021-09-01T19:30:08.111902Z",
     "shell.execute_reply": "2021-09-01T19:30:08.113294Z"
    },
    "papermill": {
     "duration": 0.065491,
     "end_time": "2021-09-01T19:30:08.113721",
     "exception": false,
     "start_time": "2021-09-01T19:30:08.048230",
     "status": "completed"
    },
    "tags": []
   },
   "outputs": [
    {
     "data": {
      "text/html": [
       "<div>\n",
       "<style scoped>\n",
       "    .dataframe tbody tr th:only-of-type {\n",
       "        vertical-align: middle;\n",
       "    }\n",
       "\n",
       "    .dataframe tbody tr th {\n",
       "        vertical-align: top;\n",
       "    }\n",
       "\n",
       "    .dataframe thead th {\n",
       "        text-align: right;\n",
       "    }\n",
       "</style>\n",
       "<table border=\"1\" class=\"dataframe\">\n",
       "  <thead>\n",
       "    <tr style=\"text-align: right;\">\n",
       "      <th></th>\n",
       "      <th>RECORD_TIME</th>\n",
       "    </tr>\n",
       "  </thead>\n",
       "  <tbody>\n",
       "    <tr>\n",
       "      <th>0</th>\n",
       "      <td>2021-09-01 21:30</td>\n",
       "    </tr>\n",
       "    <tr>\n",
       "      <th>1</th>\n",
       "      <td>2021-09-01 21:00</td>\n",
       "    </tr>\n",
       "  </tbody>\n",
       "</table>\n",
       "</div>"
      ],
      "text/plain": [
       "        RECORD_TIME\n",
       "0  2021-09-01 21:30\n",
       "1  2021-09-01 21:00"
      ]
     },
     "execution_count": 3,
     "metadata": {},
     "output_type": "execute_result"
    }
   ],
   "source": [
    "timestamps"
   ]
  },
  {
   "cell_type": "code",
   "execution_count": 4,
   "id": "alternate-victory",
   "metadata": {
    "execution": {
     "iopub.execute_input": "2021-09-01T19:30:08.165723Z",
     "iopub.status.busy": "2021-09-01T19:30:08.163721Z",
     "iopub.status.idle": "2021-09-01T19:30:08.438784Z",
     "shell.execute_reply": "2021-09-01T19:30:08.440127Z"
    },
    "papermill": {
     "duration": 0.305565,
     "end_time": "2021-09-01T19:30:08.440539",
     "exception": false,
     "start_time": "2021-09-01T19:30:08.134974",
     "status": "completed"
    },
    "tags": []
   },
   "outputs": [],
   "source": [
    "df = pd.read_sql(\"select * from EBAY_TOP_BERLIN where record_time in (select distinct record_time from EBAY_TOP_BERLIN order by record_time desc limit 2)\", sqlite3.connect(\"UsedObjects.db\"))"
   ]
  },
  {
   "cell_type": "code",
   "execution_count": 5,
   "id": "popular-active",
   "metadata": {
    "execution": {
     "iopub.execute_input": "2021-09-01T19:30:08.526247Z",
     "iopub.status.busy": "2021-09-01T19:30:08.513463Z",
     "iopub.status.idle": "2021-09-01T19:30:08.542637Z",
     "shell.execute_reply": "2021-09-01T19:30:08.544019Z"
    },
    "papermill": {
     "duration": 0.074203,
     "end_time": "2021-09-01T19:30:08.544441",
     "exception": false,
     "start_time": "2021-09-01T19:30:08.470238",
     "status": "completed"
    },
    "tags": []
   },
   "outputs": [],
   "source": [
    "df_pivot = df.pivot_table(index=\"PRODUCT\", columns = \"RECORD_TIME\", values = \"LISTING_COUNT\")"
   ]
  },
  {
   "cell_type": "code",
   "execution_count": 6,
   "id": "union-huntington",
   "metadata": {
    "execution": {
     "iopub.execute_input": "2021-09-01T19:30:08.599963Z",
     "iopub.status.busy": "2021-09-01T19:30:08.597857Z",
     "iopub.status.idle": "2021-09-01T19:30:08.602849Z",
     "shell.execute_reply": "2021-09-01T19:30:08.604207Z"
    },
    "papermill": {
     "duration": 0.040217,
     "end_time": "2021-09-01T19:30:08.604617",
     "exception": false,
     "start_time": "2021-09-01T19:30:08.564400",
     "status": "completed"
    },
    "tags": []
   },
   "outputs": [],
   "source": [
    "df_pivot.columns = [\"stamp_1\", \"stamp_2\"]\n",
    "df_pivot_diff = df_pivot.diff(axis=1)"
   ]
  },
  {
   "cell_type": "code",
   "execution_count": 7,
   "id": "fifth-motion",
   "metadata": {
    "execution": {
     "iopub.execute_input": "2021-09-01T19:30:08.657395Z",
     "iopub.status.busy": "2021-09-01T19:30:08.655046Z",
     "iopub.status.idle": "2021-09-01T19:30:10.129830Z",
     "shell.execute_reply": "2021-09-01T19:30:10.131212Z"
    },
    "papermill": {
     "duration": 1.507634,
     "end_time": "2021-09-01T19:30:10.131677",
     "exception": false,
     "start_time": "2021-09-01T19:30:08.624043",
     "status": "completed"
    },
    "tags": []
   },
   "outputs": [
    {
     "data": {
      "text/plain": [
       "<AxesSubplot:ylabel='PRODUCT'>"
      ]
     },
     "execution_count": 7,
     "metadata": {},
     "output_type": "execute_result"
    },
    {
     "data": {
      "image/png": "[encoded data removed]",
      "text/plain": [
       "<Figure size 432x288 with 1 Axes>"
      ]
     },
     "metadata": {
      "needs_background": "light"
     },
     "output_type": "display_data"
    }
   ],
   "source": [
    "df_pivot_diff.sort_values(\"stamp_2\", ascending = False)[\"stamp_2\"].head(10).plot.barh()"
   ]
  },
  {
   "cell_type": "code",
   "execution_count": null,
   "id": "extra-executive",
   "metadata": {
    "papermill": {
     "duration": 0.022004,
     "end_time": "2021-09-01T19:30:10.177601",
     "exception": false,
     "start_time": "2021-09-01T19:30:10.155597",
     "status": "completed"
    },
    "tags": []
   },
   "outputs": [],
   "source": []
  }
 ],
 "metadata": {
  "kernelspec": {
   "display_name": "Python 3",
   "language": "python",
   "name": "python3"
  },
  "language_info": {
   "codemirror_mode": {
    "name": "ipython",
    "version": 3
   },
   "file_extension": ".py",
   "mimetype": "text/x-python",
   "name": "python",
   "nbconvert_exporter": "python",
   "pygments_lexer": "ipython3",
   "version": "3.9.5"
  },
  "papermill": {
   "default_parameters": {},
   "duration": 6.821647,
   "end_time": "2021-09-01T19:30:11.354771",
   "environment_variables": {},
   "exception": null,
   "input_path": "eBay_Overview.ipynb",
   "output_path": "eBay_Overview.ipynb",
   "parameters": {},
   "start_time": "2021-09-01T19:30:04.533124",
   "version": "2.3.3"
  }
 },
 "nbformat": 4,
 "nbformat_minor": 5
}