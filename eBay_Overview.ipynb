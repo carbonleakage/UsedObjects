{
 "cells": [
  {
   "cell_type": "code",
   "execution_count": 1,
   "id": "reverse-picking",
   "metadata": {
    "execution": {
     "iopub.execute_input": "2021-12-18T16:30:07.766553Z",
     "iopub.status.busy": "2021-12-18T16:30:07.764129Z",
     "iopub.status.idle": "2021-12-18T16:30:08.728455Z",
     "shell.execute_reply": "2021-12-18T16:30:08.730097Z"
    },
    "papermill": {
     "duration": 1.015552,
     "end_time": "2021-12-18T16:30:08.730831",
     "exception": false,
     "start_time": "2021-12-18T16:30:07.715279",
     "status": "completed"
    },
    "tags": []
   },
   "outputs": [],
   "source": [
    "import pandas as pd\n",
    "import sqlite3"
   ]
  },
  {
   "cell_type": "code",
   "execution_count": 2,
   "id": "innovative-syndrome",
   "metadata": {
    "execution": {
     "iopub.execute_input": "2021-12-18T16:30:08.787577Z",
     "iopub.status.busy": "2021-12-18T16:30:08.785203Z",
     "iopub.status.idle": "2021-12-18T16:30:09.899459Z",
     "shell.execute_reply": "2021-12-18T16:30:09.900759Z"
    },
    "papermill": {
     "duration": 1.148244,
     "end_time": "2021-12-18T16:30:09.901222",
     "exception": false,
     "start_time": "2021-12-18T16:30:08.752978",
     "status": "completed"
    },
    "tags": []
   },
   "outputs": [],
   "source": [
    "timestamps = pd.read_sql(\"select distinct record_time from EBAY_TOP_BERLIN order by record_time desc limit 2\", sqlite3.connect(\"UsedObjects.db\"))"
   ]
  },
  {
   "cell_type": "code",
   "execution_count": 3,
   "id": "periodic-identification",
   "metadata": {
    "execution": {
     "iopub.execute_input": "2021-12-18T16:30:09.974347Z",
     "iopub.status.busy": "2021-12-18T16:30:09.968378Z",
     "iopub.status.idle": "2021-12-18T16:30:09.992122Z",
     "shell.execute_reply": "2021-12-18T16:30:09.990619Z"
    },
    "papermill": {
     "duration": 0.070337,
     "end_time": "2021-12-18T16:30:09.992531",
     "exception": false,
     "start_time": "2021-12-18T16:30:09.922194",
     "status": "completed"
    },
    "tags": []
   },
   "outputs": [
    {
     "data": {
      "text/html": [
       "<div>\n",
       "<style scoped>\n",
       "    .dataframe tbody tr th:only-of-type {\n",
       "        vertical-align: middle;\n",
       "    }\n",
       "\n",
       "    .dataframe tbody tr th {\n",
       "        vertical-align: top;\n",
       "    }\n",
       "\n",
       "    .dataframe thead th {\n",
       "        text-align: right;\n",
       "    }\n",
       "</style>\n",
       "<table border=\"1\" class=\"dataframe\">\n",
       "  <thead>\n",
       "    <tr style=\"text-align: right;\">\n",
       "      <th></th>\n",
       "      <th>RECORD_TIME</th>\n",
       "    </tr>\n",
       "  </thead>\n",
       "  <tbody>\n",
       "    <tr>\n",
       "      <th>0</th>\n",
       "      <td>2021-12-18 17:30</td>\n",
       "    </tr>\n",
       "    <tr>\n",
       "      <th>1</th>\n",
       "      <td>2021-12-18 17:00</td>\n",
       "    </tr>\n",
       "  </tbody>\n",
       "</table>\n",
       "</div>"
      ],
      "text/plain": [
       "        RECORD_TIME\n",
       "0  2021-12-18 17:30\n",
       "1  2021-12-18 17:00"
      ]
     },
     "execution_count": 3,
     "metadata": {},
     "output_type": "execute_result"
    }
   ],
   "source": [
    "timestamps"
   ]
  },
  {
   "cell_type": "code",
   "execution_count": 4,
   "id": "alternate-victory",
   "metadata": {
    "execution": {
     "iopub.execute_input": "2021-12-18T16:30:10.048507Z",
     "iopub.status.busy": "2021-12-18T16:30:10.046308Z",
     "iopub.status.idle": "2021-12-18T16:30:11.654536Z",
     "shell.execute_reply": "2021-12-18T16:30:11.656605Z"
    },
    "papermill": {
     "duration": 1.643177,
     "end_time": "2021-12-18T16:30:11.657146",
     "exception": false,
     "start_time": "2021-12-18T16:30:10.013969",
     "status": "completed"
    },
    "tags": []
   },
   "outputs": [],
   "source": [
    "df = pd.read_sql(\"select * from EBAY_TOP_BERLIN where record_time in (select distinct record_time from EBAY_TOP_BERLIN order by record_time desc limit 2)\", sqlite3.connect(\"UsedObjects.db\"))"
   ]
  },
  {
   "cell_type": "code",
   "execution_count": 5,
   "id": "popular-active",
   "metadata": {
    "execution": {
     "iopub.execute_input": "2021-12-18T16:30:11.727762Z",
     "iopub.status.busy": "2021-12-18T16:30:11.719215Z",
     "iopub.status.idle": "2021-12-18T16:30:11.753964Z",
     "shell.execute_reply": "2021-12-18T16:30:11.755343Z"
    },
    "papermill": {
     "duration": 0.077925,
     "end_time": "2021-12-18T16:30:11.755825",
     "exception": false,
     "start_time": "2021-12-18T16:30:11.677900",
     "status": "completed"
    },
    "tags": []
   },
   "outputs": [],
   "source": [
    "df_pivot = df.pivot_table(index=\"PRODUCT\", columns = \"RECORD_TIME\", values = \"LISTING_COUNT\")"
   ]
  },
  {
   "cell_type": "code",
   "execution_count": 6,
   "id": "union-huntington",
   "metadata": {
    "execution": {
     "iopub.execute_input": "2021-12-18T16:30:11.814908Z",
     "iopub.status.busy": "2021-12-18T16:30:11.812561Z",
     "iopub.status.idle": "2021-12-18T16:30:11.819449Z",
     "shell.execute_reply": "2021-12-18T16:30:11.817962Z"
    },
    "papermill": {
     "duration": 0.04386,
     "end_time": "2021-12-18T16:30:11.819866",
     "exception": false,
     "start_time": "2021-12-18T16:30:11.776006",
     "status": "completed"
    },
    "tags": []
   },
   "outputs": [],
   "source": [
    "df_pivot.columns = [\"stamp_1\", \"stamp_2\"]\n",
    "df_pivot_diff = df_pivot.diff(axis=1)"
   ]
  },
  {
   "cell_type": "code",
   "execution_count": 7,
   "id": "fifth-motion",
   "metadata": {
    "execution": {
     "iopub.execute_input": "2021-12-18T16:30:11.880906Z",
     "iopub.status.busy": "2021-12-18T16:30:11.878293Z",
     "iopub.status.idle": "2021-12-18T16:30:13.890449Z",
     "shell.execute_reply": "2021-12-18T16:30:13.891758Z"
    },
    "papermill": {
     "duration": 2.051758,
     "end_time": "2021-12-18T16:30:13.892178",
     "exception": false,
     "start_time": "2021-12-18T16:30:11.840420",
     "status": "completed"
    },
    "tags": []
   },
   "outputs": [
    {
     "data": {
      "text/plain": [
       "<AxesSubplot:ylabel='PRODUCT'>"
      ]
     },
     "execution_count": 7,
     "metadata": {},
     "output_type": "execute_result"
    },
    {
     "data": {
      "image/png": "[encoded data removed]",
      "text/plain": [
       "<Figure size 432x288 with 1 Axes>"
      ]
     },
     "metadata": {
      "needs_background": "light"
     },
     "output_type": "display_data"
    }
   ],
   "source": [
    "df_pivot_diff.sort_values(\"stamp_2\", ascending = False)[\"stamp_2\"].head(10).plot.barh()"
   ]
  },
  {
   "cell_type": "code",
   "execution_count": null,
   "id": "extra-executive",
   "metadata": {
    "papermill": {
     "duration": 0.026815,
     "end_time": "2021-12-18T16:30:13.950794",
     "exception": false,
     "start_time": "2021-12-18T16:30:13.923979",
     "status": "completed"
    },
    "tags": []
   },
   "outputs": [],
   "source": []
  }
 ],
 "metadata": {
  "kernelspec": {
   "display_name": "Python 3",
   "language": "python",
   "name": "python3"
  },
  "language_info": {
   "codemirror_mode": {
    "name": "ipython",
    "version": 3
   },
   "file_extension": ".py",
   "mimetype": "text/x-python",
   "name": "python",
   "nbconvert_exporter": "python",
   "pygments_lexer": "ipython3",
   "version": "3.9.5"
  },
  "papermill": {
   "default_parameters": {},
   "duration": 9.638627,
   "end_time": "2021-12-18T16:30:14.605809",
   "environment_variables": {},
   "exception": null,
   "input_path": "eBay_Overview.ipynb",
   "output_path": "eBay_Overview.ipynb",
   "parameters": {},
   "start_time": "2021-12-18T16:30:04.967182",
   "version": "2.3.3"
  }
 },
 "nbformat": 4,
 "nbformat_minor": 5
}