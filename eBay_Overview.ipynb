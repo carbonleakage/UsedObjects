{
 "cells": [
  {
   "cell_type": "code",
   "execution_count": 1,
   "id": "reverse-picking",
   "metadata": {
    "execution": {
     "iopub.execute_input": "2021-09-19T03:00:07.175080Z",
     "iopub.status.busy": "2021-09-19T03:00:07.173084Z",
     "iopub.status.idle": "2021-09-19T03:00:07.977773Z",
     "shell.execute_reply": "2021-09-19T03:00:07.979180Z"
    },
    "papermill": {
     "duration": 0.856362,
     "end_time": "2021-09-19T03:00:07.979840",
     "exception": false,
     "start_time": "2021-09-19T03:00:07.123478",
     "status": "completed"
    },
    "tags": []
   },
   "outputs": [],
   "source": [
    "import pandas as pd\n",
    "import sqlite3"
   ]
  },
  {
   "cell_type": "code",
   "execution_count": 2,
   "id": "innovative-syndrome",
   "metadata": {
    "execution": {
     "iopub.execute_input": "2021-09-19T03:00:08.030334Z",
     "iopub.status.busy": "2021-09-19T03:00:08.028261Z",
     "iopub.status.idle": "2021-09-19T03:00:08.352520Z",
     "shell.execute_reply": "2021-09-19T03:00:08.353635Z"
    },
    "papermill": {
     "duration": 0.354068,
     "end_time": "2021-09-19T03:00:08.354045",
     "exception": false,
     "start_time": "2021-09-19T03:00:07.999977",
     "status": "completed"
    },
    "tags": []
   },
   "outputs": [],
   "source": [
    "timestamps = pd.read_sql(\"select distinct record_time from EBAY_TOP_BERLIN order by record_time desc limit 2\", sqlite3.connect(\"UsedObjects.db\"))"
   ]
  },
  {
   "cell_type": "code",
   "execution_count": 3,
   "id": "periodic-identification",
   "metadata": {
    "execution": {
     "iopub.execute_input": "2021-09-19T03:00:08.418687Z",
     "iopub.status.busy": "2021-09-19T03:00:08.416671Z",
     "iopub.status.idle": "2021-09-19T03:00:08.438473Z",
     "shell.execute_reply": "2021-09-19T03:00:08.437165Z"
    },
    "papermill": {
     "duration": 0.064028,
     "end_time": "2021-09-19T03:00:08.438994",
     "exception": false,
     "start_time": "2021-09-19T03:00:08.374966",
     "status": "completed"
    },
    "tags": []
   },
   "outputs": [
    {
     "data": {
      "text/html": [
       "<div>\n",
       "<style scoped>\n",
       "    .dataframe tbody tr th:only-of-type {\n",
       "        vertical-align: middle;\n",
       "    }\n",
       "\n",
       "    .dataframe tbody tr th {\n",
       "        vertical-align: top;\n",
       "    }\n",
       "\n",
       "    .dataframe thead th {\n",
       "        text-align: right;\n",
       "    }\n",
       "</style>\n",
       "<table border=\"1\" class=\"dataframe\">\n",
       "  <thead>\n",
       "    <tr style=\"text-align: right;\">\n",
       "      <th></th>\n",
       "      <th>RECORD_TIME</th>\n",
       "    </tr>\n",
       "  </thead>\n",
       "  <tbody>\n",
       "    <tr>\n",
       "      <th>0</th>\n",
       "      <td>2021-09-19 05:00</td>\n",
       "    </tr>\n",
       "    <tr>\n",
       "      <th>1</th>\n",
       "      <td>2021-09-19 04:30</td>\n",
       "    </tr>\n",
       "  </tbody>\n",
       "</table>\n",
       "</div>"
      ],
      "text/plain": [
       "        RECORD_TIME\n",
       "0  2021-09-19 05:00\n",
       "1  2021-09-19 04:30"
      ]
     },
     "execution_count": 3,
     "metadata": {},
     "output_type": "execute_result"
    }
   ],
   "source": [
    "timestamps"
   ]
  },
  {
   "cell_type": "code",
   "execution_count": 4,
   "id": "alternate-victory",
   "metadata": {
    "execution": {
     "iopub.execute_input": "2021-09-19T03:00:08.491808Z",
     "iopub.status.busy": "2021-09-19T03:00:08.489465Z",
     "iopub.status.idle": "2021-09-19T03:00:08.958299Z",
     "shell.execute_reply": "2021-09-19T03:00:08.959787Z"
    },
    "papermill": {
     "duration": 0.499653,
     "end_time": "2021-09-19T03:00:08.960208",
     "exception": false,
     "start_time": "2021-09-19T03:00:08.460555",
     "status": "completed"
    },
    "tags": []
   },
   "outputs": [],
   "source": [
    "df = pd.read_sql(\"select * from EBAY_TOP_BERLIN where record_time in (select distinct record_time from EBAY_TOP_BERLIN order by record_time desc limit 2)\", sqlite3.connect(\"UsedObjects.db\"))"
   ]
  },
  {
   "cell_type": "code",
   "execution_count": 5,
   "id": "popular-active",
   "metadata": {
    "execution": {
     "iopub.execute_input": "2021-09-19T03:00:09.044701Z",
     "iopub.status.busy": "2021-09-19T03:00:09.032900Z",
     "iopub.status.idle": "2021-09-19T03:00:09.062017Z",
     "shell.execute_reply": "2021-09-19T03:00:09.063376Z"
    },
    "papermill": {
     "duration": 0.074942,
     "end_time": "2021-09-19T03:00:09.063798",
     "exception": false,
     "start_time": "2021-09-19T03:00:08.988856",
     "status": "completed"
    },
    "tags": []
   },
   "outputs": [],
   "source": [
    "df_pivot = df.pivot_table(index=\"PRODUCT\", columns = \"RECORD_TIME\", values = \"LISTING_COUNT\")"
   ]
  },
  {
   "cell_type": "code",
   "execution_count": 6,
   "id": "union-huntington",
   "metadata": {
    "execution": {
     "iopub.execute_input": "2021-09-19T03:00:09.119408Z",
     "iopub.status.busy": "2021-09-19T03:00:09.117295Z",
     "iopub.status.idle": "2021-09-19T03:00:09.124048Z",
     "shell.execute_reply": "2021-09-19T03:00:09.122433Z"
    },
    "papermill": {
     "duration": 0.040717,
     "end_time": "2021-09-19T03:00:09.124449",
     "exception": false,
     "start_time": "2021-09-19T03:00:09.083732",
     "status": "completed"
    },
    "tags": []
   },
   "outputs": [],
   "source": [
    "df_pivot.columns = [\"stamp_1\", \"stamp_2\"]\n",
    "df_pivot_diff = df_pivot.diff(axis=1)"
   ]
  },
  {
   "cell_type": "code",
   "execution_count": 7,
   "id": "fifth-motion",
   "metadata": {
    "execution": {
     "iopub.execute_input": "2021-09-19T03:00:09.179274Z",
     "iopub.status.busy": "2021-09-19T03:00:09.176707Z",
     "iopub.status.idle": "2021-09-19T03:00:10.642505Z",
     "shell.execute_reply": "2021-09-19T03:00:10.643846Z"
    },
    "papermill": {
     "duration": 1.498512,
     "end_time": "2021-09-19T03:00:10.644265",
     "exception": false,
     "start_time": "2021-09-19T03:00:09.145753",
     "status": "completed"
    },
    "tags": []
   },
   "outputs": [
    {
     "data": {
      "text/plain": [
       "<AxesSubplot:ylabel='PRODUCT'>"
      ]
     },
     "execution_count": 7,
     "metadata": {},
     "output_type": "execute_result"
    },
    {
     "data": {
      "image/png": "[encoded data removed]",
      "text/plain": [
       "<Figure size 432x288 with 1 Axes>"
      ]
     },
     "metadata": {
      "needs_background": "light"
     },
     "output_type": "display_data"
    }
   ],
   "source": [
    "df_pivot_diff.sort_values(\"stamp_2\", ascending = False)[\"stamp_2\"].head(10).plot.barh()"
   ]
  },
  {
   "cell_type": "code",
   "execution_count": null,
   "id": "extra-executive",
   "metadata": {
    "papermill": {
     "duration": 0.021984,
     "end_time": "2021-09-19T03:00:10.690759",
     "exception": false,
     "start_time": "2021-09-19T03:00:10.668775",
     "status": "completed"
    },
    "tags": []
   },
   "outputs": [],
   "source": []
  }
 ],
 "metadata": {
  "kernelspec": {
   "display_name": "Python 3",
   "language": "python",
   "name": "python3"
  },
  "language_info": {
   "codemirror_mode": {
    "name": "ipython",
    "version": 3
   },
   "file_extension": ".py",
   "mimetype": "text/x-python",
   "name": "python",
   "nbconvert_exporter": "python",
   "pygments_lexer": "ipython3",
   "version": "3.9.5"
  },
  "papermill": {
   "default_parameters": {},
   "duration": 6.61241,
   "end_time": "2021-09-19T03:00:11.332372",
   "environment_variables": {},
   "exception": null,
   "input_path": "eBay_Overview.ipynb",
   "output_path": "eBay_Overview.ipynb",
   "parameters": {},
   "start_time": "2021-09-19T03:00:04.719962",
   "version": "2.3.3"
  }
 },
 "nbformat": 4,
 "nbformat_minor": 5
}