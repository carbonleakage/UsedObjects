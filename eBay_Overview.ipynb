{
 "cells": [
  {
   "cell_type": "code",
   "execution_count": 1,
   "id": "reverse-picking",
   "metadata": {
    "execution": {
     "iopub.execute_input": "2021-10-17T02:00:06.907259Z",
     "iopub.status.busy": "2021-10-17T02:00:06.905273Z",
     "iopub.status.idle": "2021-10-17T02:00:07.717932Z",
     "shell.execute_reply": "2021-10-17T02:00:07.719387Z"
    },
    "papermill": {
     "duration": 0.865662,
     "end_time": "2021-10-17T02:00:07.720070",
     "exception": false,
     "start_time": "2021-10-17T02:00:06.854408",
     "status": "completed"
    },
    "tags": []
   },
   "outputs": [],
   "source": [
    "import pandas as pd\n",
    "import sqlite3"
   ]
  },
  {
   "cell_type": "code",
   "execution_count": 2,
   "id": "innovative-syndrome",
   "metadata": {
    "execution": {
     "iopub.execute_input": "2021-10-17T02:00:07.772117Z",
     "iopub.status.busy": "2021-10-17T02:00:07.769799Z",
     "iopub.status.idle": "2021-10-17T02:00:08.330189Z",
     "shell.execute_reply": "2021-10-17T02:00:08.331372Z"
    },
    "papermill": {
     "duration": 0.591292,
     "end_time": "2021-10-17T02:00:08.331802",
     "exception": false,
     "start_time": "2021-10-17T02:00:07.740510",
     "status": "completed"
    },
    "tags": []
   },
   "outputs": [],
   "source": [
    "timestamps = pd.read_sql(\"select distinct record_time from EBAY_TOP_BERLIN order by record_time desc limit 2\", sqlite3.connect(\"UsedObjects.db\"))"
   ]
  },
  {
   "cell_type": "code",
   "execution_count": 3,
   "id": "periodic-identification",
   "metadata": {
    "execution": {
     "iopub.execute_input": "2021-10-17T02:00:08.411241Z",
     "iopub.status.busy": "2021-10-17T02:00:08.409192Z",
     "iopub.status.idle": "2021-10-17T02:00:08.429247Z",
     "shell.execute_reply": "2021-10-17T02:00:08.430466Z"
    },
    "papermill": {
     "duration": 0.071266,
     "end_time": "2021-10-17T02:00:08.430894",
     "exception": false,
     "start_time": "2021-10-17T02:00:08.359628",
     "status": "completed"
    },
    "tags": []
   },
   "outputs": [
    {
     "data": {
      "text/html": [
       "<div>\n",
       "<style scoped>\n",
       "    .dataframe tbody tr th:only-of-type {\n",
       "        vertical-align: middle;\n",
       "    }\n",
       "\n",
       "    .dataframe tbody tr th {\n",
       "        vertical-align: top;\n",
       "    }\n",
       "\n",
       "    .dataframe thead th {\n",
       "        text-align: right;\n",
       "    }\n",
       "</style>\n",
       "<table border=\"1\" class=\"dataframe\">\n",
       "  <thead>\n",
       "    <tr style=\"text-align: right;\">\n",
       "      <th></th>\n",
       "      <th>RECORD_TIME</th>\n",
       "    </tr>\n",
       "  </thead>\n",
       "  <tbody>\n",
       "    <tr>\n",
       "      <th>0</th>\n",
       "      <td>2021-10-17 04:00</td>\n",
       "    </tr>\n",
       "    <tr>\n",
       "      <th>1</th>\n",
       "      <td>2021-10-17 03:30</td>\n",
       "    </tr>\n",
       "  </tbody>\n",
       "</table>\n",
       "</div>"
      ],
      "text/plain": [
       "        RECORD_TIME\n",
       "0  2021-10-17 04:00\n",
       "1  2021-10-17 03:30"
      ]
     },
     "execution_count": 3,
     "metadata": {},
     "output_type": "execute_result"
    }
   ],
   "source": [
    "timestamps"
   ]
  },
  {
   "cell_type": "code",
   "execution_count": 4,
   "id": "alternate-victory",
   "metadata": {
    "execution": {
     "iopub.execute_input": "2021-10-17T02:00:08.485614Z",
     "iopub.status.busy": "2021-10-17T02:00:08.483200Z",
     "iopub.status.idle": "2021-10-17T02:00:09.306785Z",
     "shell.execute_reply": "2021-10-17T02:00:09.308009Z"
    },
    "papermill": {
     "duration": 0.854552,
     "end_time": "2021-10-17T02:00:09.308405",
     "exception": false,
     "start_time": "2021-10-17T02:00:08.453853",
     "status": "completed"
    },
    "tags": []
   },
   "outputs": [],
   "source": [
    "df = pd.read_sql(\"select * from EBAY_TOP_BERLIN where record_time in (select distinct record_time from EBAY_TOP_BERLIN order by record_time desc limit 2)\", sqlite3.connect(\"UsedObjects.db\"))"
   ]
  },
  {
   "cell_type": "code",
   "execution_count": 5,
   "id": "popular-active",
   "metadata": {
    "execution": {
     "iopub.execute_input": "2021-10-17T02:00:09.380567Z",
     "iopub.status.busy": "2021-10-17T02:00:09.368279Z",
     "iopub.status.idle": "2021-10-17T02:00:09.396352Z",
     "shell.execute_reply": "2021-10-17T02:00:09.397646Z"
    },
    "papermill": {
     "duration": 0.068837,
     "end_time": "2021-10-17T02:00:09.398045",
     "exception": false,
     "start_time": "2021-10-17T02:00:09.329208",
     "status": "completed"
    },
    "tags": []
   },
   "outputs": [],
   "source": [
    "df_pivot = df.pivot_table(index=\"PRODUCT\", columns = \"RECORD_TIME\", values = \"LISTING_COUNT\")"
   ]
  },
  {
   "cell_type": "code",
   "execution_count": 6,
   "id": "union-huntington",
   "metadata": {
    "execution": {
     "iopub.execute_input": "2021-10-17T02:00:09.456538Z",
     "iopub.status.busy": "2021-10-17T02:00:09.454243Z",
     "iopub.status.idle": "2021-10-17T02:00:09.459846Z",
     "shell.execute_reply": "2021-10-17T02:00:09.461118Z"
    },
    "papermill": {
     "duration": 0.041686,
     "end_time": "2021-10-17T02:00:09.461559",
     "exception": false,
     "start_time": "2021-10-17T02:00:09.419873",
     "status": "completed"
    },
    "tags": []
   },
   "outputs": [],
   "source": [
    "df_pivot.columns = [\"stamp_1\", \"stamp_2\"]\n",
    "df_pivot_diff = df_pivot.diff(axis=1)"
   ]
  },
  {
   "cell_type": "code",
   "execution_count": 7,
   "id": "fifth-motion",
   "metadata": {
    "execution": {
     "iopub.execute_input": "2021-10-17T02:00:09.515830Z",
     "iopub.status.busy": "2021-10-17T02:00:09.513539Z",
     "iopub.status.idle": "2021-10-17T02:00:11.045802Z",
     "shell.execute_reply": "2021-10-17T02:00:11.047080Z"
    },
    "papermill": {
     "duration": 1.565673,
     "end_time": "2021-10-17T02:00:11.047531",
     "exception": false,
     "start_time": "2021-10-17T02:00:09.481858",
     "status": "completed"
    },
    "tags": []
   },
   "outputs": [
    {
     "data": {
      "text/plain": [
       "<AxesSubplot:ylabel='PRODUCT'>"
      ]
     },
     "execution_count": 7,
     "metadata": {},
     "output_type": "execute_result"
    },
    {
     "data": {
      "image/png": "[encoded data removed]",
      "text/plain": [
       "<Figure size 432x288 with 1 Axes>"
      ]
     },
     "metadata": {
      "needs_background": "light"
     },
     "output_type": "display_data"
    }
   ],
   "source": [
    "df_pivot_diff.sort_values(\"stamp_2\", ascending = False)[\"stamp_2\"].head(10).plot.barh()"
   ]
  },
  {
   "cell_type": "code",
   "execution_count": null,
   "id": "extra-executive",
   "metadata": {
    "papermill": {
     "duration": 0.022478,
     "end_time": "2021-10-17T02:00:11.094934",
     "exception": false,
     "start_time": "2021-10-17T02:00:11.072456",
     "status": "completed"
    },
    "tags": []
   },
   "outputs": [],
   "source": []
  }
 ],
 "metadata": {
  "kernelspec": {
   "display_name": "Python 3",
   "language": "python",
   "name": "python3"
  },
  "language_info": {
   "codemirror_mode": {
    "name": "ipython",
    "version": 3
   },
   "file_extension": ".py",
   "mimetype": "text/x-python",
   "name": "python",
   "nbconvert_exporter": "python",
   "pygments_lexer": "ipython3",
   "version": "3.9.5"
  },
  "papermill": {
   "default_parameters": {},
   "duration": 7.822128,
   "end_time": "2021-10-17T02:00:12.263638",
   "environment_variables": {},
   "exception": null,
   "input_path": "eBay_Overview.ipynb",
   "output_path": "eBay_Overview.ipynb",
   "parameters": {},
   "start_time": "2021-10-17T02:00:04.441510",
   "version": "2.3.3"
  }
 },
 "nbformat": 4,
 "nbformat_minor": 5
}