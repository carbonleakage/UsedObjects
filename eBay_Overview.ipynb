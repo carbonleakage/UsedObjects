{
 "cells": [
  {
   "cell_type": "code",
   "execution_count": 1,
   "id": "reverse-picking",
   "metadata": {
    "execution": {
     "iopub.execute_input": "2021-11-13T06:00:07.847593Z",
     "iopub.status.busy": "2021-11-13T06:00:07.845300Z",
     "iopub.status.idle": "2021-11-13T06:00:08.796379Z",
     "shell.execute_reply": "2021-11-13T06:00:08.797800Z"
    },
    "papermill": {
     "duration": 0.999959,
     "end_time": "2021-11-13T06:00:08.798608",
     "exception": false,
     "start_time": "2021-11-13T06:00:07.798649",
     "status": "completed"
    },
    "tags": []
   },
   "outputs": [],
   "source": [
    "import pandas as pd\n",
    "import sqlite3"
   ]
  },
  {
   "cell_type": "code",
   "execution_count": 2,
   "id": "innovative-syndrome",
   "metadata": {
    "execution": {
     "iopub.execute_input": "2021-11-13T06:00:08.859962Z",
     "iopub.status.busy": "2021-11-13T06:00:08.857818Z",
     "iopub.status.idle": "2021-11-13T06:00:09.686930Z",
     "shell.execute_reply": "2021-11-13T06:00:09.688153Z"
    },
    "papermill": {
     "duration": 0.862294,
     "end_time": "2021-11-13T06:00:09.688549",
     "exception": false,
     "start_time": "2021-11-13T06:00:08.826255",
     "status": "completed"
    },
    "tags": []
   },
   "outputs": [],
   "source": [
    "timestamps = pd.read_sql(\"select distinct record_time from EBAY_TOP_BERLIN order by record_time desc limit 2\", sqlite3.connect(\"UsedObjects.db\"))"
   ]
  },
  {
   "cell_type": "code",
   "execution_count": 3,
   "id": "periodic-identification",
   "metadata": {
    "execution": {
     "iopub.execute_input": "2021-11-13T06:00:09.742503Z",
     "iopub.status.busy": "2021-11-13T06:00:09.740535Z",
     "iopub.status.idle": "2021-11-13T06:00:09.796147Z",
     "shell.execute_reply": "2021-11-13T06:00:09.794646Z"
    },
    "papermill": {
     "duration": 0.087611,
     "end_time": "2021-11-13T06:00:09.796557",
     "exception": false,
     "start_time": "2021-11-13T06:00:09.708946",
     "status": "completed"
    },
    "tags": []
   },
   "outputs": [
    {
     "data": {
      "text/html": [
       "<div>\n",
       "<style scoped>\n",
       "    .dataframe tbody tr th:only-of-type {\n",
       "        vertical-align: middle;\n",
       "    }\n",
       "\n",
       "    .dataframe tbody tr th {\n",
       "        vertical-align: top;\n",
       "    }\n",
       "\n",
       "    .dataframe thead th {\n",
       "        text-align: right;\n",
       "    }\n",
       "</style>\n",
       "<table border=\"1\" class=\"dataframe\">\n",
       "  <thead>\n",
       "    <tr style=\"text-align: right;\">\n",
       "      <th></th>\n",
       "      <th>RECORD_TIME</th>\n",
       "    </tr>\n",
       "  </thead>\n",
       "  <tbody>\n",
       "    <tr>\n",
       "      <th>0</th>\n",
       "      <td>2021-11-13 07:00</td>\n",
       "    </tr>\n",
       "    <tr>\n",
       "      <th>1</th>\n",
       "      <td>2021-11-13 06:30</td>\n",
       "    </tr>\n",
       "  </tbody>\n",
       "</table>\n",
       "</div>"
      ],
      "text/plain": [
       "        RECORD_TIME\n",
       "0  2021-11-13 07:00\n",
       "1  2021-11-13 06:30"
      ]
     },
     "execution_count": 3,
     "metadata": {},
     "output_type": "execute_result"
    }
   ],
   "source": [
    "timestamps"
   ]
  },
  {
   "cell_type": "code",
   "execution_count": 4,
   "id": "alternate-victory",
   "metadata": {
    "execution": {
     "iopub.execute_input": "2021-11-13T06:00:09.852237Z",
     "iopub.status.busy": "2021-11-13T06:00:09.849986Z",
     "iopub.status.idle": "2021-11-13T06:00:11.034015Z",
     "shell.execute_reply": "2021-11-13T06:00:11.035624Z"
    },
    "papermill": {
     "duration": 1.218323,
     "end_time": "2021-11-13T06:00:11.036853",
     "exception": false,
     "start_time": "2021-11-13T06:00:09.818530",
     "status": "completed"
    },
    "tags": []
   },
   "outputs": [],
   "source": [
    "df = pd.read_sql(\"select * from EBAY_TOP_BERLIN where record_time in (select distinct record_time from EBAY_TOP_BERLIN order by record_time desc limit 2)\", sqlite3.connect(\"UsedObjects.db\"))"
   ]
  },
  {
   "cell_type": "code",
   "execution_count": 5,
   "id": "popular-active",
   "metadata": {
    "execution": {
     "iopub.execute_input": "2021-11-13T06:00:11.114474Z",
     "iopub.status.busy": "2021-11-13T06:00:11.101635Z",
     "iopub.status.idle": "2021-11-13T06:00:11.131802Z",
     "shell.execute_reply": "2021-11-13T06:00:11.133330Z"
    },
    "papermill": {
     "duration": 0.073677,
     "end_time": "2021-11-13T06:00:11.133800",
     "exception": false,
     "start_time": "2021-11-13T06:00:11.060123",
     "status": "completed"
    },
    "tags": []
   },
   "outputs": [],
   "source": [
    "df_pivot = df.pivot_table(index=\"PRODUCT\", columns = \"RECORD_TIME\", values = \"LISTING_COUNT\")"
   ]
  },
  {
   "cell_type": "code",
   "execution_count": 6,
   "id": "union-huntington",
   "metadata": {
    "execution": {
     "iopub.execute_input": "2021-11-13T06:00:11.194947Z",
     "iopub.status.busy": "2021-11-13T06:00:11.192270Z",
     "iopub.status.idle": "2021-11-13T06:00:11.200426Z",
     "shell.execute_reply": "2021-11-13T06:00:11.198699Z"
    },
    "papermill": {
     "duration": 0.046809,
     "end_time": "2021-11-13T06:00:11.200874",
     "exception": false,
     "start_time": "2021-11-13T06:00:11.154065",
     "status": "completed"
    },
    "tags": []
   },
   "outputs": [],
   "source": [
    "df_pivot.columns = [\"stamp_1\", \"stamp_2\"]\n",
    "df_pivot_diff = df_pivot.diff(axis=1)"
   ]
  },
  {
   "cell_type": "code",
   "execution_count": 7,
   "id": "fifth-motion",
   "metadata": {
    "execution": {
     "iopub.execute_input": "2021-11-13T06:00:11.259059Z",
     "iopub.status.busy": "2021-11-13T06:00:11.256498Z",
     "iopub.status.idle": "2021-11-13T06:00:12.870429Z",
     "shell.execute_reply": "2021-11-13T06:00:12.871942Z"
    },
    "papermill": {
     "duration": 1.64989,
     "end_time": "2021-11-13T06:00:12.872411",
     "exception": false,
     "start_time": "2021-11-13T06:00:11.222521",
     "status": "completed"
    },
    "tags": []
   },
   "outputs": [
    {
     "data": {
      "text/plain": [
       "<AxesSubplot:ylabel='PRODUCT'>"
      ]
     },
     "execution_count": 7,
     "metadata": {},
     "output_type": "execute_result"
    },
    {
     "data": {
      "image/png": "[encoded data removed]",
      "text/plain": [
       "<Figure size 432x288 with 1 Axes>"
      ]
     },
     "metadata": {
      "needs_background": "light"
     },
     "output_type": "display_data"
    }
   ],
   "source": [
    "df_pivot_diff.sort_values(\"stamp_2\", ascending = False)[\"stamp_2\"].head(10).plot.barh()"
   ]
  },
  {
   "cell_type": "code",
   "execution_count": null,
   "id": "extra-executive",
   "metadata": {
    "papermill": {
     "duration": 0.022468,
     "end_time": "2021-11-13T06:00:12.919242",
     "exception": false,
     "start_time": "2021-11-13T06:00:12.896774",
     "status": "completed"
    },
    "tags": []
   },
   "outputs": [],
   "source": []
  }
 ],
 "metadata": {
  "kernelspec": {
   "display_name": "Python 3",
   "language": "python",
   "name": "python3"
  },
  "language_info": {
   "codemirror_mode": {
    "name": "ipython",
    "version": 3
   },
   "file_extension": ".py",
   "mimetype": "text/x-python",
   "name": "python",
   "nbconvert_exporter": "python",
   "pygments_lexer": "ipython3",
   "version": "3.9.5"
  },
  "papermill": {
   "default_parameters": {},
   "duration": 8.528764,
   "end_time": "2021-11-13T06:00:13.563342",
   "environment_variables": {},
   "exception": null,
   "input_path": "eBay_Overview.ipynb",
   "output_path": "eBay_Overview.ipynb",
   "parameters": {},
   "start_time": "2021-11-13T06:00:05.034578",
   "version": "2.3.3"
  }
 },
 "nbformat": 4,
 "nbformat_minor": 5
}