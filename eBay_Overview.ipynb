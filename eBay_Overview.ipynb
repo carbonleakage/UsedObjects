{
 "cells": [
  {
   "cell_type": "code",
   "execution_count": 1,
   "id": "reverse-picking",
   "metadata": {
    "execution": {
     "iopub.execute_input": "2021-12-02T16:00:08.153881Z",
     "iopub.status.busy": "2021-12-02T16:00:08.151408Z",
     "iopub.status.idle": "2021-12-02T16:00:09.079121Z",
     "shell.execute_reply": "2021-12-02T16:00:09.080952Z"
    },
    "papermill": {
     "duration": 0.979669,
     "end_time": "2021-12-02T16:00:09.081747",
     "exception": false,
     "start_time": "2021-12-02T16:00:08.102078",
     "status": "completed"
    },
    "tags": []
   },
   "outputs": [],
   "source": [
    "import pandas as pd\n",
    "import sqlite3"
   ]
  },
  {
   "cell_type": "code",
   "execution_count": 2,
   "id": "innovative-syndrome",
   "metadata": {
    "execution": {
     "iopub.execute_input": "2021-12-02T16:00:09.143502Z",
     "iopub.status.busy": "2021-12-02T16:00:09.141250Z",
     "iopub.status.idle": "2021-12-02T16:00:10.135162Z",
     "shell.execute_reply": "2021-12-02T16:00:10.136649Z"
    },
    "papermill": {
     "duration": 1.028071,
     "end_time": "2021-12-02T16:00:10.137235",
     "exception": false,
     "start_time": "2021-12-02T16:00:09.109164",
     "status": "completed"
    },
    "tags": []
   },
   "outputs": [],
   "source": [
    "timestamps = pd.read_sql(\"select distinct record_time from EBAY_TOP_BERLIN order by record_time desc limit 2\", sqlite3.connect(\"UsedObjects.db\"))"
   ]
  },
  {
   "cell_type": "code",
   "execution_count": 3,
   "id": "periodic-identification",
   "metadata": {
    "execution": {
     "iopub.execute_input": "2021-12-02T16:00:10.214810Z",
     "iopub.status.busy": "2021-12-02T16:00:10.208625Z",
     "iopub.status.idle": "2021-12-02T16:00:10.234011Z",
     "shell.execute_reply": "2021-12-02T16:00:10.236052Z"
    },
    "papermill": {
     "duration": 0.079338,
     "end_time": "2021-12-02T16:00:10.236802",
     "exception": false,
     "start_time": "2021-12-02T16:00:10.157464",
     "status": "completed"
    },
    "tags": []
   },
   "outputs": [
    {
     "data": {
      "text/html": [
       "<div>\n",
       "<style scoped>\n",
       "    .dataframe tbody tr th:only-of-type {\n",
       "        vertical-align: middle;\n",
       "    }\n",
       "\n",
       "    .dataframe tbody tr th {\n",
       "        vertical-align: top;\n",
       "    }\n",
       "\n",
       "    .dataframe thead th {\n",
       "        text-align: right;\n",
       "    }\n",
       "</style>\n",
       "<table border=\"1\" class=\"dataframe\">\n",
       "  <thead>\n",
       "    <tr style=\"text-align: right;\">\n",
       "      <th></th>\n",
       "      <th>RECORD_TIME</th>\n",
       "    </tr>\n",
       "  </thead>\n",
       "  <tbody>\n",
       "    <tr>\n",
       "      <th>0</th>\n",
       "      <td>2021-12-02 17:00</td>\n",
       "    </tr>\n",
       "    <tr>\n",
       "      <th>1</th>\n",
       "      <td>2021-12-02 16:30</td>\n",
       "    </tr>\n",
       "  </tbody>\n",
       "</table>\n",
       "</div>"
      ],
      "text/plain": [
       "        RECORD_TIME\n",
       "0  2021-12-02 17:00\n",
       "1  2021-12-02 16:30"
      ]
     },
     "execution_count": 3,
     "metadata": {},
     "output_type": "execute_result"
    }
   ],
   "source": [
    "timestamps"
   ]
  },
  {
   "cell_type": "code",
   "execution_count": 4,
   "id": "alternate-victory",
   "metadata": {
    "execution": {
     "iopub.execute_input": "2021-12-02T16:00:10.298205Z",
     "iopub.status.busy": "2021-12-02T16:00:10.295793Z",
     "iopub.status.idle": "2021-12-02T16:00:11.729082Z",
     "shell.execute_reply": "2021-12-02T16:00:11.730721Z"
    },
    "papermill": {
     "duration": 1.470034,
     "end_time": "2021-12-02T16:00:11.731237",
     "exception": false,
     "start_time": "2021-12-02T16:00:10.261203",
     "status": "completed"
    },
    "tags": []
   },
   "outputs": [],
   "source": [
    "df = pd.read_sql(\"select * from EBAY_TOP_BERLIN where record_time in (select distinct record_time from EBAY_TOP_BERLIN order by record_time desc limit 2)\", sqlite3.connect(\"UsedObjects.db\"))"
   ]
  },
  {
   "cell_type": "code",
   "execution_count": 5,
   "id": "popular-active",
   "metadata": {
    "execution": {
     "iopub.execute_input": "2021-12-02T16:00:11.809511Z",
     "iopub.status.busy": "2021-12-02T16:00:11.795939Z",
     "iopub.status.idle": "2021-12-02T16:00:11.830031Z",
     "shell.execute_reply": "2021-12-02T16:00:11.831469Z"
    },
    "papermill": {
     "duration": 0.078812,
     "end_time": "2021-12-02T16:00:11.831966",
     "exception": false,
     "start_time": "2021-12-02T16:00:11.753154",
     "status": "completed"
    },
    "tags": []
   },
   "outputs": [],
   "source": [
    "df_pivot = df.pivot_table(index=\"PRODUCT\", columns = \"RECORD_TIME\", values = \"LISTING_COUNT\")"
   ]
  },
  {
   "cell_type": "code",
   "execution_count": 6,
   "id": "union-huntington",
   "metadata": {
    "execution": {
     "iopub.execute_input": "2021-12-02T16:00:11.890530Z",
     "iopub.status.busy": "2021-12-02T16:00:11.888203Z",
     "iopub.status.idle": "2021-12-02T16:00:11.893978Z",
     "shell.execute_reply": "2021-12-02T16:00:11.895341Z"
    },
    "papermill": {
     "duration": 0.043686,
     "end_time": "2021-12-02T16:00:11.895821",
     "exception": false,
     "start_time": "2021-12-02T16:00:11.852135",
     "status": "completed"
    },
    "tags": []
   },
   "outputs": [],
   "source": [
    "df_pivot.columns = [\"stamp_1\", \"stamp_2\"]\n",
    "df_pivot_diff = df_pivot.diff(axis=1)"
   ]
  },
  {
   "cell_type": "code",
   "execution_count": 7,
   "id": "fifth-motion",
   "metadata": {
    "execution": {
     "iopub.execute_input": "2021-12-02T16:00:11.954942Z",
     "iopub.status.busy": "2021-12-02T16:00:11.951463Z",
     "iopub.status.idle": "2021-12-02T16:00:13.875564Z",
     "shell.execute_reply": "2021-12-02T16:00:13.877718Z"
    },
    "papermill": {
     "duration": 1.962154,
     "end_time": "2021-12-02T16:00:13.878301",
     "exception": false,
     "start_time": "2021-12-02T16:00:11.916147",
     "status": "completed"
    },
    "tags": []
   },
   "outputs": [
    {
     "data": {
      "text/plain": [
       "<AxesSubplot:ylabel='PRODUCT'>"
      ]
     },
     "execution_count": 7,
     "metadata": {},
     "output_type": "execute_result"
    },
    {
     "data": {
      "image/png": "[encoded data removed]",
      "text/plain": [
       "<Figure size 432x288 with 1 Axes>"
      ]
     },
     "metadata": {
      "needs_background": "light"
     },
     "output_type": "display_data"
    }
   ],
   "source": [
    "df_pivot_diff.sort_values(\"stamp_2\", ascending = False)[\"stamp_2\"].head(10).plot.barh()"
   ]
  },
  {
   "cell_type": "code",
   "execution_count": null,
   "id": "extra-executive",
   "metadata": {
    "papermill": {
     "duration": 0.037235,
     "end_time": "2021-12-02T16:00:13.954241",
     "exception": false,
     "start_time": "2021-12-02T16:00:13.917006",
     "status": "completed"
    },
    "tags": []
   },
   "outputs": [],
   "source": []
  }
 ],
 "metadata": {
  "kernelspec": {
   "display_name": "Python 3",
   "language": "python",
   "name": "python3"
  },
  "language_info": {
   "codemirror_mode": {
    "name": "ipython",
    "version": 3
   },
   "file_extension": ".py",
   "mimetype": "text/x-python",
   "name": "python",
   "nbconvert_exporter": "python",
   "pygments_lexer": "ipython3",
   "version": "3.9.5"
  },
  "papermill": {
   "default_parameters": {},
   "duration": 9.945921,
   "end_time": "2021-12-02T16:00:15.287282",
   "environment_variables": {},
   "exception": null,
   "input_path": "eBay_Overview.ipynb",
   "output_path": "eBay_Overview.ipynb",
   "parameters": {},
   "start_time": "2021-12-02T16:00:05.341361",
   "version": "2.3.3"
  }
 },
 "nbformat": 4,
 "nbformat_minor": 5
}