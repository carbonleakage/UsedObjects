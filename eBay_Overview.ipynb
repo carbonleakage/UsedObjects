{
 "cells": [
  {
   "cell_type": "code",
   "execution_count": 1,
   "id": "reverse-picking",
   "metadata": {
    "execution": {
     "iopub.execute_input": "2021-08-19T01:00:07.049520Z",
     "iopub.status.busy": "2021-08-19T01:00:07.047613Z",
     "iopub.status.idle": "2021-08-19T01:00:07.851996Z",
     "shell.execute_reply": "2021-08-19T01:00:07.853245Z"
    },
    "papermill": {
     "duration": 0.854827,
     "end_time": "2021-08-19T01:00:07.853880",
     "exception": false,
     "start_time": "2021-08-19T01:00:06.999053",
     "status": "completed"
    },
    "tags": []
   },
   "outputs": [],
   "source": [
    "import pandas as pd\n",
    "import sqlite3"
   ]
  },
  {
   "cell_type": "code",
   "execution_count": 2,
   "id": "innovative-syndrome",
   "metadata": {
    "execution": {
     "iopub.execute_input": "2021-08-19T01:00:07.904944Z",
     "iopub.status.busy": "2021-08-19T01:00:07.903112Z",
     "iopub.status.idle": "2021-08-19T01:00:07.982369Z",
     "shell.execute_reply": "2021-08-19T01:00:07.983690Z"
    },
    "papermill": {
     "duration": 0.109009,
     "end_time": "2021-08-19T01:00:07.984099",
     "exception": false,
     "start_time": "2021-08-19T01:00:07.875090",
     "status": "completed"
    },
    "tags": []
   },
   "outputs": [],
   "source": [
    "timestamps = pd.read_sql(\"select distinct record_time from EBAY_TOP_BERLIN order by record_time desc limit 2\", sqlite3.connect(\"UsedObjects.db\"))"
   ]
  },
  {
   "cell_type": "code",
   "execution_count": 3,
   "id": "periodic-identification",
   "metadata": {
    "execution": {
     "iopub.execute_input": "2021-08-19T01:00:08.051689Z",
     "iopub.status.busy": "2021-08-19T01:00:08.046516Z",
     "iopub.status.idle": "2021-08-19T01:00:08.067835Z",
     "shell.execute_reply": "2021-08-19T01:00:08.069186Z"
    },
    "papermill": {
     "duration": 0.066121,
     "end_time": "2021-08-19T01:00:08.069662",
     "exception": false,
     "start_time": "2021-08-19T01:00:08.003541",
     "status": "completed"
    },
    "tags": []
   },
   "outputs": [
    {
     "data": {
      "text/html": [
       "<div>\n",
       "<style scoped>\n",
       "    .dataframe tbody tr th:only-of-type {\n",
       "        vertical-align: middle;\n",
       "    }\n",
       "\n",
       "    .dataframe tbody tr th {\n",
       "        vertical-align: top;\n",
       "    }\n",
       "\n",
       "    .dataframe thead th {\n",
       "        text-align: right;\n",
       "    }\n",
       "</style>\n",
       "<table border=\"1\" class=\"dataframe\">\n",
       "  <thead>\n",
       "    <tr style=\"text-align: right;\">\n",
       "      <th></th>\n",
       "      <th>RECORD_TIME</th>\n",
       "    </tr>\n",
       "  </thead>\n",
       "  <tbody>\n",
       "    <tr>\n",
       "      <th>0</th>\n",
       "      <td>2021-08-19 03:00</td>\n",
       "    </tr>\n",
       "    <tr>\n",
       "      <th>1</th>\n",
       "      <td>2021-08-19 02:30</td>\n",
       "    </tr>\n",
       "  </tbody>\n",
       "</table>\n",
       "</div>"
      ],
      "text/plain": [
       "        RECORD_TIME\n",
       "0  2021-08-19 03:00\n",
       "1  2021-08-19 02:30"
      ]
     },
     "execution_count": 3,
     "metadata": {},
     "output_type": "execute_result"
    }
   ],
   "source": [
    "timestamps"
   ]
  },
  {
   "cell_type": "code",
   "execution_count": 4,
   "id": "alternate-victory",
   "metadata": {
    "execution": {
     "iopub.execute_input": "2021-08-19T01:00:08.123004Z",
     "iopub.status.busy": "2021-08-19T01:00:08.120654Z",
     "iopub.status.idle": "2021-08-19T01:00:08.239102Z",
     "shell.execute_reply": "2021-08-19T01:00:08.240403Z"
    },
    "papermill": {
     "duration": 0.148991,
     "end_time": "2021-08-19T01:00:08.240816",
     "exception": false,
     "start_time": "2021-08-19T01:00:08.091825",
     "status": "completed"
    },
    "tags": []
   },
   "outputs": [],
   "source": [
    "df = pd.read_sql(\"select * from EBAY_TOP_BERLIN where record_time in (select distinct record_time from EBAY_TOP_BERLIN order by record_time desc limit 2)\", sqlite3.connect(\"UsedObjects.db\"))"
   ]
  },
  {
   "cell_type": "code",
   "execution_count": 5,
   "id": "popular-active",
   "metadata": {
    "execution": {
     "iopub.execute_input": "2021-08-19T01:00:08.310941Z",
     "iopub.status.busy": "2021-08-19T01:00:08.299459Z",
     "iopub.status.idle": "2021-08-19T01:00:08.327333Z",
     "shell.execute_reply": "2021-08-19T01:00:08.328544Z"
    },
    "papermill": {
     "duration": 0.067969,
     "end_time": "2021-08-19T01:00:08.328936",
     "exception": false,
     "start_time": "2021-08-19T01:00:08.260967",
     "status": "completed"
    },
    "tags": []
   },
   "outputs": [],
   "source": [
    "df_pivot = df.pivot_table(index=\"PRODUCT\", columns = \"RECORD_TIME\", values = \"LISTING_COUNT\")"
   ]
  },
  {
   "cell_type": "code",
   "execution_count": 6,
   "id": "union-huntington",
   "metadata": {
    "execution": {
     "iopub.execute_input": "2021-08-19T01:00:08.388407Z",
     "iopub.status.busy": "2021-08-19T01:00:08.385982Z",
     "iopub.status.idle": "2021-08-19T01:00:08.392071Z",
     "shell.execute_reply": "2021-08-19T01:00:08.393516Z"
    },
    "papermill": {
     "duration": 0.042738,
     "end_time": "2021-08-19T01:00:08.394025",
     "exception": false,
     "start_time": "2021-08-19T01:00:08.351287",
     "status": "completed"
    },
    "tags": []
   },
   "outputs": [],
   "source": [
    "df_pivot.columns = [\"stamp_1\", \"stamp_2\"]\n",
    "df_pivot_diff = df_pivot.diff(axis=1)"
   ]
  },
  {
   "cell_type": "code",
   "execution_count": 7,
   "id": "fifth-motion",
   "metadata": {
    "execution": {
     "iopub.execute_input": "2021-08-19T01:00:08.449154Z",
     "iopub.status.busy": "2021-08-19T01:00:08.446948Z",
     "iopub.status.idle": "2021-08-19T01:00:09.961626Z",
     "shell.execute_reply": "2021-08-19T01:00:09.963044Z"
    },
    "papermill": {
     "duration": 1.547839,
     "end_time": "2021-08-19T01:00:09.963524",
     "exception": false,
     "start_time": "2021-08-19T01:00:08.415685",
     "status": "completed"
    },
    "tags": []
   },
   "outputs": [
    {
     "data": {
      "text/plain": [
       "<AxesSubplot:ylabel='PRODUCT'>"
      ]
     },
     "execution_count": 7,
     "metadata": {},
     "output_type": "execute_result"
    },
    {
     "data": {
      "image/png": "[encoded data removed]",
      "text/plain": [
       "<Figure size 432x288 with 1 Axes>"
      ]
     },
     "metadata": {
      "needs_background": "light"
     },
     "output_type": "display_data"
    }
   ],
   "source": [
    "df_pivot_diff.sort_values(\"stamp_2\", ascending = False)[\"stamp_2\"].head(10).plot.barh()"
   ]
  },
  {
   "cell_type": "code",
   "execution_count": null,
   "id": "extra-executive",
   "metadata": {
    "papermill": {
     "duration": 0.022757,
     "end_time": "2021-08-19T01:00:10.011303",
     "exception": false,
     "start_time": "2021-08-19T01:00:09.988546",
     "status": "completed"
    },
    "tags": []
   },
   "outputs": [],
   "source": []
  }
 ],
 "metadata": {
  "kernelspec": {
   "display_name": "Python 3",
   "language": "python",
   "name": "python3"
  },
  "language_info": {
   "codemirror_mode": {
    "name": "ipython",
    "version": 3
   },
   "file_extension": ".py",
   "mimetype": "text/x-python",
   "name": "python",
   "nbconvert_exporter": "python",
   "pygments_lexer": "ipython3",
   "version": "3.9.5"
  },
  "papermill": {
   "default_parameters": {},
   "duration": 6.822231,
   "end_time": "2021-08-19T01:00:11.419010",
   "environment_variables": {},
   "exception": null,
   "input_path": "eBay_Overview.ipynb",
   "output_path": "eBay_Overview.ipynb",
   "parameters": {},
   "start_time": "2021-08-19T01:00:04.596779",
   "version": "2.3.3"
  }
 },
 "nbformat": 4,
 "nbformat_minor": 5
}