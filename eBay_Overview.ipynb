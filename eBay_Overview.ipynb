{
 "cells": [
  {
   "cell_type": "code",
   "execution_count": 1,
   "id": "reverse-picking",
   "metadata": {
    "execution": {
     "iopub.execute_input": "2021-08-22T03:00:06.672291Z",
     "iopub.status.busy": "2021-08-22T03:00:06.670344Z",
     "iopub.status.idle": "2021-08-22T03:00:07.478940Z",
     "shell.execute_reply": "2021-08-22T03:00:07.480211Z"
    },
    "papermill": {
     "duration": 0.862337,
     "end_time": "2021-08-22T03:00:07.480828",
     "exception": false,
     "start_time": "2021-08-22T03:00:06.618491",
     "status": "completed"
    },
    "tags": []
   },
   "outputs": [],
   "source": [
    "import pandas as pd\n",
    "import sqlite3"
   ]
  },
  {
   "cell_type": "code",
   "execution_count": 2,
   "id": "innovative-syndrome",
   "metadata": {
    "execution": {
     "iopub.execute_input": "2021-08-22T03:00:07.532617Z",
     "iopub.status.busy": "2021-08-22T03:00:07.530448Z",
     "iopub.status.idle": "2021-08-22T03:00:07.631624Z",
     "shell.execute_reply": "2021-08-22T03:00:07.632728Z"
    },
    "papermill": {
     "duration": 0.130809,
     "end_time": "2021-08-22T03:00:07.633140",
     "exception": false,
     "start_time": "2021-08-22T03:00:07.502331",
     "status": "completed"
    },
    "tags": []
   },
   "outputs": [],
   "source": [
    "timestamps = pd.read_sql(\"select distinct record_time from EBAY_TOP_BERLIN order by record_time desc limit 2\", sqlite3.connect(\"UsedObjects.db\"))"
   ]
  },
  {
   "cell_type": "code",
   "execution_count": 3,
   "id": "periodic-identification",
   "metadata": {
    "execution": {
     "iopub.execute_input": "2021-08-22T03:00:07.698522Z",
     "iopub.status.busy": "2021-08-22T03:00:07.696422Z",
     "iopub.status.idle": "2021-08-22T03:00:07.716557Z",
     "shell.execute_reply": "2021-08-22T03:00:07.717755Z"
    },
    "papermill": {
     "duration": 0.064073,
     "end_time": "2021-08-22T03:00:07.718244",
     "exception": false,
     "start_time": "2021-08-22T03:00:07.654171",
     "status": "completed"
    },
    "tags": []
   },
   "outputs": [
    {
     "data": {
      "text/html": [
       "<div>\n",
       "<style scoped>\n",
       "    .dataframe tbody tr th:only-of-type {\n",
       "        vertical-align: middle;\n",
       "    }\n",
       "\n",
       "    .dataframe tbody tr th {\n",
       "        vertical-align: top;\n",
       "    }\n",
       "\n",
       "    .dataframe thead th {\n",
       "        text-align: right;\n",
       "    }\n",
       "</style>\n",
       "<table border=\"1\" class=\"dataframe\">\n",
       "  <thead>\n",
       "    <tr style=\"text-align: right;\">\n",
       "      <th></th>\n",
       "      <th>RECORD_TIME</th>\n",
       "    </tr>\n",
       "  </thead>\n",
       "  <tbody>\n",
       "    <tr>\n",
       "      <th>0</th>\n",
       "      <td>2021-08-22 05:00</td>\n",
       "    </tr>\n",
       "    <tr>\n",
       "      <th>1</th>\n",
       "      <td>2021-08-22 04:30</td>\n",
       "    </tr>\n",
       "  </tbody>\n",
       "</table>\n",
       "</div>"
      ],
      "text/plain": [
       "        RECORD_TIME\n",
       "0  2021-08-22 05:00\n",
       "1  2021-08-22 04:30"
      ]
     },
     "execution_count": 3,
     "metadata": {},
     "output_type": "execute_result"
    }
   ],
   "source": [
    "timestamps"
   ]
  },
  {
   "cell_type": "code",
   "execution_count": 4,
   "id": "alternate-victory",
   "metadata": {
    "execution": {
     "iopub.execute_input": "2021-08-22T03:00:07.771937Z",
     "iopub.status.busy": "2021-08-22T03:00:07.769731Z",
     "iopub.status.idle": "2021-08-22T03:00:07.925115Z",
     "shell.execute_reply": "2021-08-22T03:00:07.926554Z"
    },
    "papermill": {
     "duration": 0.185744,
     "end_time": "2021-08-22T03:00:07.926977",
     "exception": false,
     "start_time": "2021-08-22T03:00:07.741233",
     "status": "completed"
    },
    "tags": []
   },
   "outputs": [],
   "source": [
    "df = pd.read_sql(\"select * from EBAY_TOP_BERLIN where record_time in (select distinct record_time from EBAY_TOP_BERLIN order by record_time desc limit 2)\", sqlite3.connect(\"UsedObjects.db\"))"
   ]
  },
  {
   "cell_type": "code",
   "execution_count": 5,
   "id": "popular-active",
   "metadata": {
    "execution": {
     "iopub.execute_input": "2021-08-22T03:00:07.998779Z",
     "iopub.status.busy": "2021-08-22T03:00:07.986528Z",
     "iopub.status.idle": "2021-08-22T03:00:08.016589Z",
     "shell.execute_reply": "2021-08-22T03:00:08.018265Z"
    },
    "papermill": {
     "duration": 0.071424,
     "end_time": "2021-08-22T03:00:08.018764",
     "exception": false,
     "start_time": "2021-08-22T03:00:07.947340",
     "status": "completed"
    },
    "tags": []
   },
   "outputs": [],
   "source": [
    "df_pivot = df.pivot_table(index=\"PRODUCT\", columns = \"RECORD_TIME\", values = \"LISTING_COUNT\")"
   ]
  },
  {
   "cell_type": "code",
   "execution_count": 6,
   "id": "union-huntington",
   "metadata": {
    "execution": {
     "iopub.execute_input": "2021-08-22T03:00:08.076224Z",
     "iopub.status.busy": "2021-08-22T03:00:08.074272Z",
     "iopub.status.idle": "2021-08-22T03:00:08.079372Z",
     "shell.execute_reply": "2021-08-22T03:00:08.080489Z"
    },
    "papermill": {
     "duration": 0.039731,
     "end_time": "2021-08-22T03:00:08.080900",
     "exception": false,
     "start_time": "2021-08-22T03:00:08.041169",
     "status": "completed"
    },
    "tags": []
   },
   "outputs": [],
   "source": [
    "df_pivot.columns = [\"stamp_1\", \"stamp_2\"]\n",
    "df_pivot_diff = df_pivot.diff(axis=1)"
   ]
  },
  {
   "cell_type": "code",
   "execution_count": 7,
   "id": "fifth-motion",
   "metadata": {
    "execution": {
     "iopub.execute_input": "2021-08-22T03:00:08.142853Z",
     "iopub.status.busy": "2021-08-22T03:00:08.140423Z",
     "iopub.status.idle": "2021-08-22T03:00:09.648950Z",
     "shell.execute_reply": "2021-08-22T03:00:09.650445Z"
    },
    "papermill": {
     "duration": 1.543905,
     "end_time": "2021-08-22T03:00:09.650925",
     "exception": false,
     "start_time": "2021-08-22T03:00:08.107020",
     "status": "completed"
    },
    "tags": []
   },
   "outputs": [
    {
     "data": {
      "text/plain": [
       "<AxesSubplot:ylabel='PRODUCT'>"
      ]
     },
     "execution_count": 7,
     "metadata": {},
     "output_type": "execute_result"
    },
    {
     "data": {
      "image/png": "[encoded data removed]",
      "text/plain": [
       "<Figure size 432x288 with 1 Axes>"
      ]
     },
     "metadata": {
      "needs_background": "light"
     },
     "output_type": "display_data"
    }
   ],
   "source": [
    "df_pivot_diff.sort_values(\"stamp_2\", ascending = False)[\"stamp_2\"].head(10).plot.barh()"
   ]
  },
  {
   "cell_type": "code",
   "execution_count": null,
   "id": "extra-executive",
   "metadata": {
    "papermill": {
     "duration": 0.022379,
     "end_time": "2021-08-22T03:00:09.698029",
     "exception": false,
     "start_time": "2021-08-22T03:00:09.675650",
     "status": "completed"
    },
    "tags": []
   },
   "outputs": [],
   "source": []
  }
 ],
 "metadata": {
  "kernelspec": {
   "display_name": "Python 3",
   "language": "python",
   "name": "python3"
  },
  "language_info": {
   "codemirror_mode": {
    "name": "ipython",
    "version": 3
   },
   "file_extension": ".py",
   "mimetype": "text/x-python",
   "name": "python",
   "nbconvert_exporter": "python",
   "pygments_lexer": "ipython3",
   "version": "3.9.5"
  },
  "papermill": {
   "default_parameters": {},
   "duration": 6.833207,
   "end_time": "2021-08-22T03:00:11.036977",
   "environment_variables": {},
   "exception": null,
   "input_path": "eBay_Overview.ipynb",
   "output_path": "eBay_Overview.ipynb",
   "parameters": {},
   "start_time": "2021-08-22T03:00:04.203770",
   "version": "2.3.3"
  }
 },
 "nbformat": 4,
 "nbformat_minor": 5
}