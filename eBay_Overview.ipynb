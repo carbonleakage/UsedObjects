{
 "cells": [
  {
   "cell_type": "code",
   "execution_count": 1,
   "id": "reverse-picking",
   "metadata": {
    "execution": {
     "iopub.execute_input": "2021-09-02T10:30:06.963522Z",
     "iopub.status.busy": "2021-09-02T10:30:06.961480Z",
     "iopub.status.idle": "2021-09-02T10:30:07.765128Z",
     "shell.execute_reply": "2021-09-02T10:30:07.763573Z"
    },
    "papermill": {
     "duration": 0.852239,
     "end_time": "2021-09-02T10:30:07.765521",
     "exception": false,
     "start_time": "2021-09-02T10:30:06.913282",
     "status": "completed"
    },
    "tags": []
   },
   "outputs": [],
   "source": [
    "import pandas as pd\n",
    "import sqlite3"
   ]
  },
  {
   "cell_type": "code",
   "execution_count": 2,
   "id": "innovative-syndrome",
   "metadata": {
    "execution": {
     "iopub.execute_input": "2021-09-02T10:30:07.816317Z",
     "iopub.status.busy": "2021-09-02T10:30:07.814195Z",
     "iopub.status.idle": "2021-09-02T10:30:08.000647Z",
     "shell.execute_reply": "2021-09-02T10:30:08.001834Z"
    },
    "papermill": {
     "duration": 0.21592,
     "end_time": "2021-09-02T10:30:08.002227",
     "exception": false,
     "start_time": "2021-09-02T10:30:07.786307",
     "status": "completed"
    },
    "tags": []
   },
   "outputs": [],
   "source": [
    "timestamps = pd.read_sql(\"select distinct record_time from EBAY_TOP_BERLIN order by record_time desc limit 2\", sqlite3.connect(\"UsedObjects.db\"))"
   ]
  },
  {
   "cell_type": "code",
   "execution_count": 3,
   "id": "periodic-identification",
   "metadata": {
    "execution": {
     "iopub.execute_input": "2021-09-02T10:30:08.069250Z",
     "iopub.status.busy": "2021-09-02T10:30:08.064243Z",
     "iopub.status.idle": "2021-09-02T10:30:08.085004Z",
     "shell.execute_reply": "2021-09-02T10:30:08.086262Z"
    },
    "papermill": {
     "duration": 0.065182,
     "end_time": "2021-09-02T10:30:08.086712",
     "exception": false,
     "start_time": "2021-09-02T10:30:08.021530",
     "status": "completed"
    },
    "tags": []
   },
   "outputs": [
    {
     "data": {
      "text/html": [
       "<div>\n",
       "<style scoped>\n",
       "    .dataframe tbody tr th:only-of-type {\n",
       "        vertical-align: middle;\n",
       "    }\n",
       "\n",
       "    .dataframe tbody tr th {\n",
       "        vertical-align: top;\n",
       "    }\n",
       "\n",
       "    .dataframe thead th {\n",
       "        text-align: right;\n",
       "    }\n",
       "</style>\n",
       "<table border=\"1\" class=\"dataframe\">\n",
       "  <thead>\n",
       "    <tr style=\"text-align: right;\">\n",
       "      <th></th>\n",
       "      <th>RECORD_TIME</th>\n",
       "    </tr>\n",
       "  </thead>\n",
       "  <tbody>\n",
       "    <tr>\n",
       "      <th>0</th>\n",
       "      <td>2021-09-02 12:30</td>\n",
       "    </tr>\n",
       "    <tr>\n",
       "      <th>1</th>\n",
       "      <td>2021-09-02 12:00</td>\n",
       "    </tr>\n",
       "  </tbody>\n",
       "</table>\n",
       "</div>"
      ],
      "text/plain": [
       "        RECORD_TIME\n",
       "0  2021-09-02 12:30\n",
       "1  2021-09-02 12:00"
      ]
     },
     "execution_count": 3,
     "metadata": {},
     "output_type": "execute_result"
    }
   ],
   "source": [
    "timestamps"
   ]
  },
  {
   "cell_type": "code",
   "execution_count": 4,
   "id": "alternate-victory",
   "metadata": {
    "execution": {
     "iopub.execute_input": "2021-09-02T10:30:08.140434Z",
     "iopub.status.busy": "2021-09-02T10:30:08.138094Z",
     "iopub.status.idle": "2021-09-02T10:30:08.417803Z",
     "shell.execute_reply": "2021-09-02T10:30:08.419067Z"
    },
    "papermill": {
     "duration": 0.310078,
     "end_time": "2021-09-02T10:30:08.419465",
     "exception": false,
     "start_time": "2021-09-02T10:30:08.109387",
     "status": "completed"
    },
    "tags": []
   },
   "outputs": [],
   "source": [
    "df = pd.read_sql(\"select * from EBAY_TOP_BERLIN where record_time in (select distinct record_time from EBAY_TOP_BERLIN order by record_time desc limit 2)\", sqlite3.connect(\"UsedObjects.db\"))"
   ]
  },
  {
   "cell_type": "code",
   "execution_count": 5,
   "id": "popular-active",
   "metadata": {
    "execution": {
     "iopub.execute_input": "2021-09-02T10:30:08.499437Z",
     "iopub.status.busy": "2021-09-02T10:30:08.488469Z",
     "iopub.status.idle": "2021-09-02T10:30:08.515508Z",
     "shell.execute_reply": "2021-09-02T10:30:08.516896Z"
    },
    "papermill": {
     "duration": 0.07191,
     "end_time": "2021-09-02T10:30:08.517333",
     "exception": false,
     "start_time": "2021-09-02T10:30:08.445423",
     "status": "completed"
    },
    "tags": []
   },
   "outputs": [],
   "source": [
    "df_pivot = df.pivot_table(index=\"PRODUCT\", columns = \"RECORD_TIME\", values = \"LISTING_COUNT\")"
   ]
  },
  {
   "cell_type": "code",
   "execution_count": 6,
   "id": "union-huntington",
   "metadata": {
    "execution": {
     "iopub.execute_input": "2021-09-02T10:30:08.574764Z",
     "iopub.status.busy": "2021-09-02T10:30:08.572358Z",
     "iopub.status.idle": "2021-09-02T10:30:08.578364Z",
     "shell.execute_reply": "2021-09-02T10:30:08.579799Z"
    },
    "papermill": {
     "duration": 0.042581,
     "end_time": "2021-09-02T10:30:08.580245",
     "exception": false,
     "start_time": "2021-09-02T10:30:08.537664",
     "status": "completed"
    },
    "tags": []
   },
   "outputs": [],
   "source": [
    "df_pivot.columns = [\"stamp_1\", \"stamp_2\"]\n",
    "df_pivot_diff = df_pivot.diff(axis=1)"
   ]
  },
  {
   "cell_type": "code",
   "execution_count": 7,
   "id": "fifth-motion",
   "metadata": {
    "execution": {
     "iopub.execute_input": "2021-09-02T10:30:08.634150Z",
     "iopub.status.busy": "2021-09-02T10:30:08.631982Z",
     "iopub.status.idle": "2021-09-02T10:30:10.094729Z",
     "shell.execute_reply": "2021-09-02T10:30:10.096161Z"
    },
    "papermill": {
     "duration": 1.495216,
     "end_time": "2021-09-02T10:30:10.096603",
     "exception": false,
     "start_time": "2021-09-02T10:30:08.601387",
     "status": "completed"
    },
    "tags": []
   },
   "outputs": [
    {
     "data": {
      "text/plain": [
       "<AxesSubplot:ylabel='PRODUCT'>"
      ]
     },
     "execution_count": 7,
     "metadata": {},
     "output_type": "execute_result"
    },
    {
     "data": {
      "image/png": "[encoded data removed]",
      "text/plain": [
       "<Figure size 432x288 with 1 Axes>"
      ]
     },
     "metadata": {
      "needs_background": "light"
     },
     "output_type": "display_data"
    }
   ],
   "source": [
    "df_pivot_diff.sort_values(\"stamp_2\", ascending = False)[\"stamp_2\"].head(10).plot.barh()"
   ]
  },
  {
   "cell_type": "code",
   "execution_count": null,
   "id": "extra-executive",
   "metadata": {
    "papermill": {
     "duration": 0.022109,
     "end_time": "2021-09-02T10:30:10.143303",
     "exception": false,
     "start_time": "2021-09-02T10:30:10.121194",
     "status": "completed"
    },
    "tags": []
   },
   "outputs": [],
   "source": []
  }
 ],
 "metadata": {
  "kernelspec": {
   "display_name": "Python 3",
   "language": "python",
   "name": "python3"
  },
  "language_info": {
   "codemirror_mode": {
    "name": "ipython",
    "version": 3
   },
   "file_extension": ".py",
   "mimetype": "text/x-python",
   "name": "python",
   "nbconvert_exporter": "python",
   "pygments_lexer": "ipython3",
   "version": "3.9.5"
  },
  "papermill": {
   "default_parameters": {},
   "duration": 6.816819,
   "end_time": "2021-09-02T10:30:11.330668",
   "environment_variables": {},
   "exception": null,
   "input_path": "eBay_Overview.ipynb",
   "output_path": "eBay_Overview.ipynb",
   "parameters": {},
   "start_time": "2021-09-02T10:30:04.513849",
   "version": "2.3.3"
  }
 },
 "nbformat": 4,
 "nbformat_minor": 5
}