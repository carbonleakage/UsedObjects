{
 "cells": [
  {
   "cell_type": "code",
   "execution_count": 1,
   "id": "reverse-picking",
   "metadata": {
    "execution": {
     "iopub.execute_input": "2021-11-08T03:00:07.320397Z",
     "iopub.status.busy": "2021-11-08T03:00:07.307539Z",
     "iopub.status.idle": "2021-11-08T03:00:08.321851Z",
     "shell.execute_reply": "2021-11-08T03:00:08.323416Z"
    },
    "papermill": {
     "duration": 1.062036,
     "end_time": "2021-11-08T03:00:08.324141",
     "exception": false,
     "start_time": "2021-11-08T03:00:07.262105",
     "status": "completed"
    },
    "tags": []
   },
   "outputs": [],
   "source": [
    "import pandas as pd\n",
    "import sqlite3"
   ]
  },
  {
   "cell_type": "code",
   "execution_count": 2,
   "id": "innovative-syndrome",
   "metadata": {
    "execution": {
     "iopub.execute_input": "2021-11-08T03:00:08.386754Z",
     "iopub.status.busy": "2021-11-08T03:00:08.384387Z",
     "iopub.status.idle": "2021-11-08T03:00:09.173894Z",
     "shell.execute_reply": "2021-11-08T03:00:09.175296Z"
    },
    "papermill": {
     "duration": 0.822809,
     "end_time": "2021-11-08T03:00:09.175801",
     "exception": false,
     "start_time": "2021-11-08T03:00:08.352992",
     "status": "completed"
    },
    "tags": []
   },
   "outputs": [],
   "source": [
    "timestamps = pd.read_sql(\"select distinct record_time from EBAY_TOP_BERLIN order by record_time desc limit 2\", sqlite3.connect(\"UsedObjects.db\"))"
   ]
  },
  {
   "cell_type": "code",
   "execution_count": 3,
   "id": "periodic-identification",
   "metadata": {
    "execution": {
     "iopub.execute_input": "2021-11-08T03:00:09.247918Z",
     "iopub.status.busy": "2021-11-08T03:00:09.245704Z",
     "iopub.status.idle": "2021-11-08T03:00:09.269385Z",
     "shell.execute_reply": "2021-11-08T03:00:09.270827Z"
    },
    "papermill": {
     "duration": 0.075072,
     "end_time": "2021-11-08T03:00:09.271312",
     "exception": false,
     "start_time": "2021-11-08T03:00:09.196240",
     "status": "completed"
    },
    "tags": []
   },
   "outputs": [
    {
     "data": {
      "text/html": [
       "<div>\n",
       "<style scoped>\n",
       "    .dataframe tbody tr th:only-of-type {\n",
       "        vertical-align: middle;\n",
       "    }\n",
       "\n",
       "    .dataframe tbody tr th {\n",
       "        vertical-align: top;\n",
       "    }\n",
       "\n",
       "    .dataframe thead th {\n",
       "        text-align: right;\n",
       "    }\n",
       "</style>\n",
       "<table border=\"1\" class=\"dataframe\">\n",
       "  <thead>\n",
       "    <tr style=\"text-align: right;\">\n",
       "      <th></th>\n",
       "      <th>RECORD_TIME</th>\n",
       "    </tr>\n",
       "  </thead>\n",
       "  <tbody>\n",
       "    <tr>\n",
       "      <th>0</th>\n",
       "      <td>2021-11-08 04:00</td>\n",
       "    </tr>\n",
       "    <tr>\n",
       "      <th>1</th>\n",
       "      <td>2021-11-08 03:30</td>\n",
       "    </tr>\n",
       "  </tbody>\n",
       "</table>\n",
       "</div>"
      ],
      "text/plain": [
       "        RECORD_TIME\n",
       "0  2021-11-08 04:00\n",
       "1  2021-11-08 03:30"
      ]
     },
     "execution_count": 3,
     "metadata": {},
     "output_type": "execute_result"
    }
   ],
   "source": [
    "timestamps"
   ]
  },
  {
   "cell_type": "code",
   "execution_count": 4,
   "id": "alternate-victory",
   "metadata": {
    "execution": {
     "iopub.execute_input": "2021-11-08T03:00:09.327506Z",
     "iopub.status.busy": "2021-11-08T03:00:09.325282Z",
     "iopub.status.idle": "2021-11-08T03:00:10.455673Z",
     "shell.execute_reply": "2021-11-08T03:00:10.456993Z"
    },
    "papermill": {
     "duration": 1.164969,
     "end_time": "2021-11-08T03:00:10.457453",
     "exception": false,
     "start_time": "2021-11-08T03:00:09.292484",
     "status": "completed"
    },
    "tags": []
   },
   "outputs": [],
   "source": [
    "df = pd.read_sql(\"select * from EBAY_TOP_BERLIN where record_time in (select distinct record_time from EBAY_TOP_BERLIN order by record_time desc limit 2)\", sqlite3.connect(\"UsedObjects.db\"))"
   ]
  },
  {
   "cell_type": "code",
   "execution_count": 5,
   "id": "popular-active",
   "metadata": {
    "execution": {
     "iopub.execute_input": "2021-11-08T03:00:10.530889Z",
     "iopub.status.busy": "2021-11-08T03:00:10.518366Z",
     "iopub.status.idle": "2021-11-08T03:00:10.551225Z",
     "shell.execute_reply": "2021-11-08T03:00:10.552517Z"
    },
    "papermill": {
     "duration": 0.075278,
     "end_time": "2021-11-08T03:00:10.553158",
     "exception": false,
     "start_time": "2021-11-08T03:00:10.477880",
     "status": "completed"
    },
    "tags": []
   },
   "outputs": [],
   "source": [
    "df_pivot = df.pivot_table(index=\"PRODUCT\", columns = \"RECORD_TIME\", values = \"LISTING_COUNT\")"
   ]
  },
  {
   "cell_type": "code",
   "execution_count": 6,
   "id": "union-huntington",
   "metadata": {
    "execution": {
     "iopub.execute_input": "2021-11-08T03:00:10.610367Z",
     "iopub.status.busy": "2021-11-08T03:00:10.608278Z",
     "iopub.status.idle": "2021-11-08T03:00:10.616976Z",
     "shell.execute_reply": "2021-11-08T03:00:10.619648Z"
    },
    "papermill": {
     "duration": 0.043939,
     "end_time": "2021-11-08T03:00:10.620133",
     "exception": false,
     "start_time": "2021-11-08T03:00:10.576194",
     "status": "completed"
    },
    "tags": []
   },
   "outputs": [],
   "source": [
    "df_pivot.columns = [\"stamp_1\", \"stamp_2\"]\n",
    "df_pivot_diff = df_pivot.diff(axis=1)"
   ]
  },
  {
   "cell_type": "code",
   "execution_count": 7,
   "id": "fifth-motion",
   "metadata": {
    "execution": {
     "iopub.execute_input": "2021-11-08T03:00:10.676618Z",
     "iopub.status.busy": "2021-11-08T03:00:10.674129Z",
     "iopub.status.idle": "2021-11-08T03:00:12.433253Z",
     "shell.execute_reply": "2021-11-08T03:00:12.434654Z"
    },
    "papermill": {
     "duration": 1.793826,
     "end_time": "2021-11-08T03:00:12.435148",
     "exception": false,
     "start_time": "2021-11-08T03:00:10.641322",
     "status": "completed"
    },
    "tags": []
   },
   "outputs": [
    {
     "data": {
      "text/plain": [
       "<AxesSubplot:ylabel='PRODUCT'>"
      ]
     },
     "execution_count": 7,
     "metadata": {},
     "output_type": "execute_result"
    },
    {
     "data": {
      "image/png": "[encoded data removed]",
      "text/plain": [
       "<Figure size 432x288 with 1 Axes>"
      ]
     },
     "metadata": {
      "needs_background": "light"
     },
     "output_type": "display_data"
    }
   ],
   "source": [
    "df_pivot_diff.sort_values(\"stamp_2\", ascending = False)[\"stamp_2\"].head(10).plot.barh()"
   ]
  },
  {
   "cell_type": "code",
   "execution_count": null,
   "id": "extra-executive",
   "metadata": {
    "papermill": {
     "duration": 0.023107,
     "end_time": "2021-11-08T03:00:12.481769",
     "exception": false,
     "start_time": "2021-11-08T03:00:12.458662",
     "status": "completed"
    },
    "tags": []
   },
   "outputs": [],
   "source": []
  }
 ],
 "metadata": {
  "kernelspec": {
   "display_name": "Python 3",
   "language": "python",
   "name": "python3"
  },
  "language_info": {
   "codemirror_mode": {
    "name": "ipython",
    "version": 3
   },
   "file_extension": ".py",
   "mimetype": "text/x-python",
   "name": "python",
   "nbconvert_exporter": "python",
   "pygments_lexer": "ipython3",
   "version": "3.9.5"
  },
  "papermill": {
   "default_parameters": {},
   "duration": 8.743477,
   "end_time": "2021-11-08T03:00:13.229480",
   "environment_variables": {},
   "exception": null,
   "input_path": "eBay_Overview.ipynb",
   "output_path": "eBay_Overview.ipynb",
   "parameters": {},
   "start_time": "2021-11-08T03:00:04.486003",
   "version": "2.3.3"
  }
 },
 "nbformat": 4,
 "nbformat_minor": 5
}