{
 "cells": [
  {
   "cell_type": "code",
   "execution_count": 1,
   "id": "reverse-picking",
   "metadata": {
    "execution": {
     "iopub.execute_input": "2021-08-21T11:30:07.071480Z",
     "iopub.status.busy": "2021-08-21T11:30:07.069432Z",
     "iopub.status.idle": "2021-08-21T11:30:07.879807Z",
     "shell.execute_reply": "2021-08-21T11:30:07.878017Z"
    },
    "papermill": {
     "duration": 0.859296,
     "end_time": "2021-08-21T11:30:07.880250",
     "exception": false,
     "start_time": "2021-08-21T11:30:07.020954",
     "status": "completed"
    },
    "tags": []
   },
   "outputs": [],
   "source": [
    "import pandas as pd\n",
    "import sqlite3"
   ]
  },
  {
   "cell_type": "code",
   "execution_count": 2,
   "id": "innovative-syndrome",
   "metadata": {
    "execution": {
     "iopub.execute_input": "2021-08-21T11:30:07.931106Z",
     "iopub.status.busy": "2021-08-21T11:30:07.928715Z",
     "iopub.status.idle": "2021-08-21T11:30:08.026944Z",
     "shell.execute_reply": "2021-08-21T11:30:08.028229Z"
    },
    "papermill": {
     "duration": 0.128144,
     "end_time": "2021-08-21T11:30:08.028634",
     "exception": false,
     "start_time": "2021-08-21T11:30:07.900490",
     "status": "completed"
    },
    "tags": []
   },
   "outputs": [],
   "source": [
    "timestamps = pd.read_sql(\"select distinct record_time from EBAY_TOP_BERLIN order by record_time desc limit 2\", sqlite3.connect(\"UsedObjects.db\"))"
   ]
  },
  {
   "cell_type": "code",
   "execution_count": 3,
   "id": "periodic-identification",
   "metadata": {
    "execution": {
     "iopub.execute_input": "2021-08-21T11:30:08.092484Z",
     "iopub.status.busy": "2021-08-21T11:30:08.090384Z",
     "iopub.status.idle": "2021-08-21T11:30:08.110890Z",
     "shell.execute_reply": "2021-08-21T11:30:08.112187Z"
    },
    "papermill": {
     "duration": 0.064734,
     "end_time": "2021-08-21T11:30:08.112592",
     "exception": false,
     "start_time": "2021-08-21T11:30:08.047858",
     "status": "completed"
    },
    "tags": []
   },
   "outputs": [
    {
     "data": {
      "text/html": [
       "<div>\n",
       "<style scoped>\n",
       "    .dataframe tbody tr th:only-of-type {\n",
       "        vertical-align: middle;\n",
       "    }\n",
       "\n",
       "    .dataframe tbody tr th {\n",
       "        vertical-align: top;\n",
       "    }\n",
       "\n",
       "    .dataframe thead th {\n",
       "        text-align: right;\n",
       "    }\n",
       "</style>\n",
       "<table border=\"1\" class=\"dataframe\">\n",
       "  <thead>\n",
       "    <tr style=\"text-align: right;\">\n",
       "      <th></th>\n",
       "      <th>RECORD_TIME</th>\n",
       "    </tr>\n",
       "  </thead>\n",
       "  <tbody>\n",
       "    <tr>\n",
       "      <th>0</th>\n",
       "      <td>2021-08-21 13:30</td>\n",
       "    </tr>\n",
       "    <tr>\n",
       "      <th>1</th>\n",
       "      <td>2021-08-21 13:00</td>\n",
       "    </tr>\n",
       "  </tbody>\n",
       "</table>\n",
       "</div>"
      ],
      "text/plain": [
       "        RECORD_TIME\n",
       "0  2021-08-21 13:30\n",
       "1  2021-08-21 13:00"
      ]
     },
     "execution_count": 3,
     "metadata": {},
     "output_type": "execute_result"
    }
   ],
   "source": [
    "timestamps"
   ]
  },
  {
   "cell_type": "code",
   "execution_count": 4,
   "id": "alternate-victory",
   "metadata": {
    "execution": {
     "iopub.execute_input": "2021-08-21T11:30:08.164842Z",
     "iopub.status.busy": "2021-08-21T11:30:08.162538Z",
     "iopub.status.idle": "2021-08-21T11:30:08.310869Z",
     "shell.execute_reply": "2021-08-21T11:30:08.312160Z"
    },
    "papermill": {
     "duration": 0.178354,
     "end_time": "2021-08-21T11:30:08.312558",
     "exception": false,
     "start_time": "2021-08-21T11:30:08.134204",
     "status": "completed"
    },
    "tags": []
   },
   "outputs": [],
   "source": [
    "df = pd.read_sql(\"select * from EBAY_TOP_BERLIN where record_time in (select distinct record_time from EBAY_TOP_BERLIN order by record_time desc limit 2)\", sqlite3.connect(\"UsedObjects.db\"))"
   ]
  },
  {
   "cell_type": "code",
   "execution_count": 5,
   "id": "popular-active",
   "metadata": {
    "execution": {
     "iopub.execute_input": "2021-08-21T11:30:08.380922Z",
     "iopub.status.busy": "2021-08-21T11:30:08.369493Z",
     "iopub.status.idle": "2021-08-21T11:30:08.396812Z",
     "shell.execute_reply": "2021-08-21T11:30:08.398358Z"
    },
    "papermill": {
     "duration": 0.06594,
     "end_time": "2021-08-21T11:30:08.398805",
     "exception": false,
     "start_time": "2021-08-21T11:30:08.332865",
     "status": "completed"
    },
    "tags": []
   },
   "outputs": [],
   "source": [
    "df_pivot = df.pivot_table(index=\"PRODUCT\", columns = \"RECORD_TIME\", values = \"LISTING_COUNT\")"
   ]
  },
  {
   "cell_type": "code",
   "execution_count": 6,
   "id": "union-huntington",
   "metadata": {
    "execution": {
     "iopub.execute_input": "2021-08-21T11:30:08.457442Z",
     "iopub.status.busy": "2021-08-21T11:30:08.455406Z",
     "iopub.status.idle": "2021-08-21T11:30:08.460753Z",
     "shell.execute_reply": "2021-08-21T11:30:08.462109Z"
    },
    "papermill": {
     "duration": 0.041815,
     "end_time": "2021-08-21T11:30:08.462541",
     "exception": false,
     "start_time": "2021-08-21T11:30:08.420726",
     "status": "completed"
    },
    "tags": []
   },
   "outputs": [],
   "source": [
    "df_pivot.columns = [\"stamp_1\", \"stamp_2\"]\n",
    "df_pivot_diff = df_pivot.diff(axis=1)"
   ]
  },
  {
   "cell_type": "code",
   "execution_count": 7,
   "id": "fifth-motion",
   "metadata": {
    "execution": {
     "iopub.execute_input": "2021-08-21T11:30:08.523580Z",
     "iopub.status.busy": "2021-08-21T11:30:08.520714Z",
     "iopub.status.idle": "2021-08-21T11:30:10.007123Z",
     "shell.execute_reply": "2021-08-21T11:30:10.008435Z"
    },
    "papermill": {
     "duration": 1.524273,
     "end_time": "2021-08-21T11:30:10.008863",
     "exception": false,
     "start_time": "2021-08-21T11:30:08.484590",
     "status": "completed"
    },
    "tags": []
   },
   "outputs": [
    {
     "data": {
      "text/plain": [
       "<AxesSubplot:ylabel='PRODUCT'>"
      ]
     },
     "execution_count": 7,
     "metadata": {},
     "output_type": "execute_result"
    },
    {
     "data": {
      "image/png": "[encoded data removed]",
      "text/plain": [
       "<Figure size 432x288 with 1 Axes>"
      ]
     },
     "metadata": {
      "needs_background": "light"
     },
     "output_type": "display_data"
    }
   ],
   "source": [
    "df_pivot_diff.sort_values(\"stamp_2\", ascending = False)[\"stamp_2\"].head(10).plot.barh()"
   ]
  },
  {
   "cell_type": "code",
   "execution_count": null,
   "id": "extra-executive",
   "metadata": {
    "papermill": {
     "duration": 0.022049,
     "end_time": "2021-08-21T11:30:10.055088",
     "exception": false,
     "start_time": "2021-08-21T11:30:10.033039",
     "status": "completed"
    },
    "tags": []
   },
   "outputs": [],
   "source": []
  }
 ],
 "metadata": {
  "kernelspec": {
   "display_name": "Python 3",
   "language": "python",
   "name": "python3"
  },
  "language_info": {
   "codemirror_mode": {
    "name": "ipython",
    "version": 3
   },
   "file_extension": ".py",
   "mimetype": "text/x-python",
   "name": "python",
   "nbconvert_exporter": "python",
   "pygments_lexer": "ipython3",
   "version": "3.9.5"
  },
  "papermill": {
   "default_parameters": {},
   "duration": 6.83009,
   "end_time": "2021-08-21T11:30:11.442732",
   "environment_variables": {},
   "exception": null,
   "input_path": "eBay_Overview.ipynb",
   "output_path": "eBay_Overview.ipynb",
   "parameters": {},
   "start_time": "2021-08-21T11:30:04.612642",
   "version": "2.3.3"
  }
 },
 "nbformat": 4,
 "nbformat_minor": 5
}