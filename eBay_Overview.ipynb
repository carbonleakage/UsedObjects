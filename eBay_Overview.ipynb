{
 "cells": [
  {
   "cell_type": "code",
   "execution_count": 1,
   "id": "reverse-picking",
   "metadata": {
    "execution": {
     "iopub.execute_input": "2021-11-28T06:00:07.353815Z",
     "iopub.status.busy": "2021-11-28T06:00:07.350223Z",
     "iopub.status.idle": "2021-11-28T06:00:08.319911Z",
     "shell.execute_reply": "2021-11-28T06:00:08.322835Z"
    },
    "papermill": {
     "duration": 1.0205,
     "end_time": "2021-11-28T06:00:08.324074",
     "exception": false,
     "start_time": "2021-11-28T06:00:07.303574",
     "status": "completed"
    },
    "tags": []
   },
   "outputs": [],
   "source": [
    "import pandas as pd\n",
    "import sqlite3"
   ]
  },
  {
   "cell_type": "code",
   "execution_count": 2,
   "id": "innovative-syndrome",
   "metadata": {
    "execution": {
     "iopub.execute_input": "2021-11-28T06:00:08.390584Z",
     "iopub.status.busy": "2021-11-28T06:00:08.388166Z",
     "iopub.status.idle": "2021-11-28T06:00:09.320767Z",
     "shell.execute_reply": "2021-11-28T06:00:09.322155Z"
    },
    "papermill": {
     "duration": 0.966028,
     "end_time": "2021-11-28T06:00:09.322575",
     "exception": false,
     "start_time": "2021-11-28T06:00:08.356547",
     "status": "completed"
    },
    "tags": []
   },
   "outputs": [],
   "source": [
    "timestamps = pd.read_sql(\"select distinct record_time from EBAY_TOP_BERLIN order by record_time desc limit 2\", sqlite3.connect(\"UsedObjects.db\"))"
   ]
  },
  {
   "cell_type": "code",
   "execution_count": 3,
   "id": "periodic-identification",
   "metadata": {
    "execution": {
     "iopub.execute_input": "2021-11-28T06:00:09.390778Z",
     "iopub.status.busy": "2021-11-28T06:00:09.385787Z",
     "iopub.status.idle": "2021-11-28T06:00:09.407472Z",
     "shell.execute_reply": "2021-11-28T06:00:09.405979Z"
    },
    "papermill": {
     "duration": 0.065035,
     "end_time": "2021-11-28T06:00:09.407843",
     "exception": false,
     "start_time": "2021-11-28T06:00:09.342808",
     "status": "completed"
    },
    "tags": []
   },
   "outputs": [
    {
     "data": {
      "text/html": [
       "<div>\n",
       "<style scoped>\n",
       "    .dataframe tbody tr th:only-of-type {\n",
       "        vertical-align: middle;\n",
       "    }\n",
       "\n",
       "    .dataframe tbody tr th {\n",
       "        vertical-align: top;\n",
       "    }\n",
       "\n",
       "    .dataframe thead th {\n",
       "        text-align: right;\n",
       "    }\n",
       "</style>\n",
       "<table border=\"1\" class=\"dataframe\">\n",
       "  <thead>\n",
       "    <tr style=\"text-align: right;\">\n",
       "      <th></th>\n",
       "      <th>RECORD_TIME</th>\n",
       "    </tr>\n",
       "  </thead>\n",
       "  <tbody>\n",
       "    <tr>\n",
       "      <th>0</th>\n",
       "      <td>2021-11-28 07:00</td>\n",
       "    </tr>\n",
       "    <tr>\n",
       "      <th>1</th>\n",
       "      <td>2021-11-28 06:30</td>\n",
       "    </tr>\n",
       "  </tbody>\n",
       "</table>\n",
       "</div>"
      ],
      "text/plain": [
       "        RECORD_TIME\n",
       "0  2021-11-28 07:00\n",
       "1  2021-11-28 06:30"
      ]
     },
     "execution_count": 3,
     "metadata": {},
     "output_type": "execute_result"
    }
   ],
   "source": [
    "timestamps"
   ]
  },
  {
   "cell_type": "code",
   "execution_count": 4,
   "id": "alternate-victory",
   "metadata": {
    "execution": {
     "iopub.execute_input": "2021-11-28T06:00:09.462735Z",
     "iopub.status.busy": "2021-11-28T06:00:09.460483Z",
     "iopub.status.idle": "2021-11-28T06:00:10.830225Z",
     "shell.execute_reply": "2021-11-28T06:00:10.832664Z"
    },
    "papermill": {
     "duration": 1.403267,
     "end_time": "2021-11-28T06:00:10.833249",
     "exception": false,
     "start_time": "2021-11-28T06:00:09.429982",
     "status": "completed"
    },
    "tags": []
   },
   "outputs": [],
   "source": [
    "df = pd.read_sql(\"select * from EBAY_TOP_BERLIN where record_time in (select distinct record_time from EBAY_TOP_BERLIN order by record_time desc limit 2)\", sqlite3.connect(\"UsedObjects.db\"))"
   ]
  },
  {
   "cell_type": "code",
   "execution_count": 5,
   "id": "popular-active",
   "metadata": {
    "execution": {
     "iopub.execute_input": "2021-11-28T06:00:10.911774Z",
     "iopub.status.busy": "2021-11-28T06:00:10.897966Z",
     "iopub.status.idle": "2021-11-28T06:00:10.929599Z",
     "shell.execute_reply": "2021-11-28T06:00:10.930970Z"
    },
    "papermill": {
     "duration": 0.073828,
     "end_time": "2021-11-28T06:00:10.931438",
     "exception": false,
     "start_time": "2021-11-28T06:00:10.857610",
     "status": "completed"
    },
    "tags": []
   },
   "outputs": [],
   "source": [
    "df_pivot = df.pivot_table(index=\"PRODUCT\", columns = \"RECORD_TIME\", values = \"LISTING_COUNT\")"
   ]
  },
  {
   "cell_type": "code",
   "execution_count": 6,
   "id": "union-huntington",
   "metadata": {
    "execution": {
     "iopub.execute_input": "2021-11-28T06:00:10.989509Z",
     "iopub.status.busy": "2021-11-28T06:00:10.987224Z",
     "iopub.status.idle": "2021-11-28T06:00:10.994280Z",
     "shell.execute_reply": "2021-11-28T06:00:10.992644Z"
    },
    "papermill": {
     "duration": 0.043066,
     "end_time": "2021-11-28T06:00:10.994713",
     "exception": false,
     "start_time": "2021-11-28T06:00:10.951647",
     "status": "completed"
    },
    "tags": []
   },
   "outputs": [],
   "source": [
    "df_pivot.columns = [\"stamp_1\", \"stamp_2\"]\n",
    "df_pivot_diff = df_pivot.diff(axis=1)"
   ]
  },
  {
   "cell_type": "code",
   "execution_count": 7,
   "id": "fifth-motion",
   "metadata": {
    "execution": {
     "iopub.execute_input": "2021-11-28T06:00:11.055550Z",
     "iopub.status.busy": "2021-11-28T06:00:11.053108Z",
     "iopub.status.idle": "2021-11-28T06:00:13.104613Z",
     "shell.execute_reply": "2021-11-28T06:00:13.106650Z"
    },
    "papermill": {
     "duration": 2.090096,
     "end_time": "2021-11-28T06:00:13.107156",
     "exception": false,
     "start_time": "2021-11-28T06:00:11.017060",
     "status": "completed"
    },
    "tags": []
   },
   "outputs": [
    {
     "data": {
      "text/plain": [
       "<AxesSubplot:ylabel='PRODUCT'>"
      ]
     },
     "execution_count": 7,
     "metadata": {},
     "output_type": "execute_result"
    },
    {
     "data": {
      "image/png": "[encoded data removed]",
      "text/plain": [
       "<Figure size 432x288 with 1 Axes>"
      ]
     },
     "metadata": {
      "needs_background": "light"
     },
     "output_type": "display_data"
    }
   ],
   "source": [
    "df_pivot_diff.sort_values(\"stamp_2\", ascending = False)[\"stamp_2\"].head(10).plot.barh()"
   ]
  },
  {
   "cell_type": "code",
   "execution_count": null,
   "id": "extra-executive",
   "metadata": {
    "papermill": {
     "duration": 0.02204,
     "end_time": "2021-11-28T06:00:13.153776",
     "exception": false,
     "start_time": "2021-11-28T06:00:13.131736",
     "status": "completed"
    },
    "tags": []
   },
   "outputs": [],
   "source": []
  }
 ],
 "metadata": {
  "kernelspec": {
   "display_name": "Python 3",
   "language": "python",
   "name": "python3"
  },
  "language_info": {
   "codemirror_mode": {
    "name": "ipython",
    "version": 3
   },
   "file_extension": ".py",
   "mimetype": "text/x-python",
   "name": "python",
   "nbconvert_exporter": "python",
   "pygments_lexer": "ipython3",
   "version": "3.9.5"
  },
  "papermill": {
   "default_parameters": {},
   "duration": 9.932711,
   "end_time": "2021-11-28T06:00:14.499162",
   "environment_variables": {},
   "exception": null,
   "input_path": "eBay_Overview.ipynb",
   "output_path": "eBay_Overview.ipynb",
   "parameters": {},
   "start_time": "2021-11-28T06:00:04.566451",
   "version": "2.3.3"
  }
 },
 "nbformat": 4,
 "nbformat_minor": 5
}