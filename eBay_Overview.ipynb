{
 "cells": [
  {
   "cell_type": "code",
   "execution_count": 1,
   "id": "reverse-picking",
   "metadata": {
    "execution": {
     "iopub.execute_input": "2021-10-17T11:30:06.706848Z",
     "iopub.status.busy": "2021-10-17T11:30:06.704856Z",
     "iopub.status.idle": "2021-10-17T11:30:07.517763Z",
     "shell.execute_reply": "2021-10-17T11:30:07.519133Z"
    },
    "papermill": {
     "duration": 0.863218,
     "end_time": "2021-10-17T11:30:07.519772",
     "exception": false,
     "start_time": "2021-10-17T11:30:06.656554",
     "status": "completed"
    },
    "tags": []
   },
   "outputs": [],
   "source": [
    "import pandas as pd\n",
    "import sqlite3"
   ]
  },
  {
   "cell_type": "code",
   "execution_count": 2,
   "id": "innovative-syndrome",
   "metadata": {
    "execution": {
     "iopub.execute_input": "2021-10-17T11:30:07.571471Z",
     "iopub.status.busy": "2021-10-17T11:30:07.569314Z",
     "iopub.status.idle": "2021-10-17T11:30:08.124308Z",
     "shell.execute_reply": "2021-10-17T11:30:08.125904Z"
    },
    "papermill": {
     "duration": 0.585261,
     "end_time": "2021-10-17T11:30:08.126362",
     "exception": false,
     "start_time": "2021-10-17T11:30:07.541101",
     "status": "completed"
    },
    "tags": []
   },
   "outputs": [],
   "source": [
    "timestamps = pd.read_sql(\"select distinct record_time from EBAY_TOP_BERLIN order by record_time desc limit 2\", sqlite3.connect(\"UsedObjects.db\"))"
   ]
  },
  {
   "cell_type": "code",
   "execution_count": 3,
   "id": "periodic-identification",
   "metadata": {
    "execution": {
     "iopub.execute_input": "2021-10-17T11:30:08.201952Z",
     "iopub.status.busy": "2021-10-17T11:30:08.199871Z",
     "iopub.status.idle": "2021-10-17T11:30:08.221290Z",
     "shell.execute_reply": "2021-10-17T11:30:08.219762Z"
    },
    "papermill": {
     "duration": 0.070212,
     "end_time": "2021-10-17T11:30:08.221664",
     "exception": false,
     "start_time": "2021-10-17T11:30:08.151452",
     "status": "completed"
    },
    "tags": []
   },
   "outputs": [
    {
     "data": {
      "text/html": [
       "<div>\n",
       "<style scoped>\n",
       "    .dataframe tbody tr th:only-of-type {\n",
       "        vertical-align: middle;\n",
       "    }\n",
       "\n",
       "    .dataframe tbody tr th {\n",
       "        vertical-align: top;\n",
       "    }\n",
       "\n",
       "    .dataframe thead th {\n",
       "        text-align: right;\n",
       "    }\n",
       "</style>\n",
       "<table border=\"1\" class=\"dataframe\">\n",
       "  <thead>\n",
       "    <tr style=\"text-align: right;\">\n",
       "      <th></th>\n",
       "      <th>RECORD_TIME</th>\n",
       "    </tr>\n",
       "  </thead>\n",
       "  <tbody>\n",
       "    <tr>\n",
       "      <th>0</th>\n",
       "      <td>2021-10-17 13:30</td>\n",
       "    </tr>\n",
       "    <tr>\n",
       "      <th>1</th>\n",
       "      <td>2021-10-17 13:00</td>\n",
       "    </tr>\n",
       "  </tbody>\n",
       "</table>\n",
       "</div>"
      ],
      "text/plain": [
       "        RECORD_TIME\n",
       "0  2021-10-17 13:30\n",
       "1  2021-10-17 13:00"
      ]
     },
     "execution_count": 3,
     "metadata": {},
     "output_type": "execute_result"
    }
   ],
   "source": [
    "timestamps"
   ]
  },
  {
   "cell_type": "code",
   "execution_count": 4,
   "id": "alternate-victory",
   "metadata": {
    "execution": {
     "iopub.execute_input": "2021-10-17T11:30:08.271926Z",
     "iopub.status.busy": "2021-10-17T11:30:08.270101Z",
     "iopub.status.idle": "2021-10-17T11:30:09.071508Z",
     "shell.execute_reply": "2021-10-17T11:30:09.072771Z"
    },
    "papermill": {
     "duration": 0.831263,
     "end_time": "2021-10-17T11:30:09.073221",
     "exception": false,
     "start_time": "2021-10-17T11:30:08.241958",
     "status": "completed"
    },
    "tags": []
   },
   "outputs": [],
   "source": [
    "df = pd.read_sql(\"select * from EBAY_TOP_BERLIN where record_time in (select distinct record_time from EBAY_TOP_BERLIN order by record_time desc limit 2)\", sqlite3.connect(\"UsedObjects.db\"))"
   ]
  },
  {
   "cell_type": "code",
   "execution_count": 5,
   "id": "popular-active",
   "metadata": {
    "execution": {
     "iopub.execute_input": "2021-10-17T11:30:09.143919Z",
     "iopub.status.busy": "2021-10-17T11:30:09.130849Z",
     "iopub.status.idle": "2021-10-17T11:30:09.160568Z",
     "shell.execute_reply": "2021-10-17T11:30:09.161926Z"
    },
    "papermill": {
     "duration": 0.068535,
     "end_time": "2021-10-17T11:30:09.162339",
     "exception": false,
     "start_time": "2021-10-17T11:30:09.093804",
     "status": "completed"
    },
    "tags": []
   },
   "outputs": [],
   "source": [
    "df_pivot = df.pivot_table(index=\"PRODUCT\", columns = \"RECORD_TIME\", values = \"LISTING_COUNT\")"
   ]
  },
  {
   "cell_type": "code",
   "execution_count": 6,
   "id": "union-huntington",
   "metadata": {
    "execution": {
     "iopub.execute_input": "2021-10-17T11:30:09.219078Z",
     "iopub.status.busy": "2021-10-17T11:30:09.217013Z",
     "iopub.status.idle": "2021-10-17T11:30:09.223569Z",
     "shell.execute_reply": "2021-10-17T11:30:09.222186Z"
    },
    "papermill": {
     "duration": 0.040366,
     "end_time": "2021-10-17T11:30:09.223923",
     "exception": false,
     "start_time": "2021-10-17T11:30:09.183557",
     "status": "completed"
    },
    "tags": []
   },
   "outputs": [],
   "source": [
    "df_pivot.columns = [\"stamp_1\", \"stamp_2\"]\n",
    "df_pivot_diff = df_pivot.diff(axis=1)"
   ]
  },
  {
   "cell_type": "code",
   "execution_count": 7,
   "id": "fifth-motion",
   "metadata": {
    "execution": {
     "iopub.execute_input": "2021-10-17T11:30:09.278617Z",
     "iopub.status.busy": "2021-10-17T11:30:09.275981Z",
     "iopub.status.idle": "2021-10-17T11:30:10.764383Z",
     "shell.execute_reply": "2021-10-17T11:30:10.762989Z"
    },
    "papermill": {
     "duration": 1.520702,
     "end_time": "2021-10-17T11:30:10.764932",
     "exception": false,
     "start_time": "2021-10-17T11:30:09.244230",
     "status": "completed"
    },
    "tags": []
   },
   "outputs": [
    {
     "data": {
      "text/plain": [
       "<AxesSubplot:ylabel='PRODUCT'>"
      ]
     },
     "execution_count": 7,
     "metadata": {},
     "output_type": "execute_result"
    },
    {
     "data": {
      "image/png": "[encoded data removed]",
      "text/plain": [
       "<Figure size 432x288 with 1 Axes>"
      ]
     },
     "metadata": {
      "needs_background": "light"
     },
     "output_type": "display_data"
    }
   ],
   "source": [
    "df_pivot_diff.sort_values(\"stamp_2\", ascending = False)[\"stamp_2\"].head(10).plot.barh()"
   ]
  },
  {
   "cell_type": "code",
   "execution_count": null,
   "id": "extra-executive",
   "metadata": {
    "papermill": {
     "duration": 0.022111,
     "end_time": "2021-10-17T11:30:10.811627",
     "exception": false,
     "start_time": "2021-10-17T11:30:10.789516",
     "status": "completed"
    },
    "tags": []
   },
   "outputs": [],
   "source": []
  }
 ],
 "metadata": {
  "kernelspec": {
   "display_name": "Python 3",
   "language": "python",
   "name": "python3"
  },
  "language_info": {
   "codemirror_mode": {
    "name": "ipython",
    "version": 3
   },
   "file_extension": ".py",
   "mimetype": "text/x-python",
   "name": "python",
   "nbconvert_exporter": "python",
   "pygments_lexer": "ipython3",
   "version": "3.9.5"
  },
  "papermill": {
   "default_parameters": {},
   "duration": 7.822728,
   "end_time": "2021-10-17T11:30:12.068195",
   "environment_variables": {},
   "exception": null,
   "input_path": "eBay_Overview.ipynb",
   "output_path": "eBay_Overview.ipynb",
   "parameters": {},
   "start_time": "2021-10-17T11:30:04.245467",
   "version": "2.3.3"
  }
 },
 "nbformat": 4,
 "nbformat_minor": 5
}