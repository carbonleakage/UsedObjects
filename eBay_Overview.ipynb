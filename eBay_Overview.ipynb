{
 "cells": [
  {
   "cell_type": "code",
   "execution_count": 1,
   "id": "reverse-picking",
   "metadata": {
    "execution": {
     "iopub.execute_input": "2021-08-21T23:00:06.917149Z",
     "iopub.status.busy": "2021-08-21T23:00:06.915183Z",
     "iopub.status.idle": "2021-08-21T23:00:07.721203Z",
     "shell.execute_reply": "2021-08-21T23:00:07.719627Z"
    },
    "papermill": {
     "duration": 0.85477,
     "end_time": "2021-08-21T23:00:07.721600",
     "exception": false,
     "start_time": "2021-08-21T23:00:06.866830",
     "status": "completed"
    },
    "tags": []
   },
   "outputs": [],
   "source": [
    "import pandas as pd\n",
    "import sqlite3"
   ]
  },
  {
   "cell_type": "code",
   "execution_count": 2,
   "id": "innovative-syndrome",
   "metadata": {
    "execution": {
     "iopub.execute_input": "2021-08-21T23:00:07.772655Z",
     "iopub.status.busy": "2021-08-21T23:00:07.770798Z",
     "iopub.status.idle": "2021-08-21T23:00:07.870390Z",
     "shell.execute_reply": "2021-08-21T23:00:07.871906Z"
    },
    "papermill": {
     "duration": 0.129238,
     "end_time": "2021-08-21T23:00:07.872357",
     "exception": false,
     "start_time": "2021-08-21T23:00:07.743119",
     "status": "completed"
    },
    "tags": []
   },
   "outputs": [],
   "source": [
    "timestamps = pd.read_sql(\"select distinct record_time from EBAY_TOP_BERLIN order by record_time desc limit 2\", sqlite3.connect(\"UsedObjects.db\"))"
   ]
  },
  {
   "cell_type": "code",
   "execution_count": 3,
   "id": "periodic-identification",
   "metadata": {
    "execution": {
     "iopub.execute_input": "2021-08-21T23:00:07.942358Z",
     "iopub.status.busy": "2021-08-21T23:00:07.937217Z",
     "iopub.status.idle": "2021-08-21T23:00:07.957424Z",
     "shell.execute_reply": "2021-08-21T23:00:07.958727Z"
    },
    "papermill": {
     "duration": 0.066964,
     "end_time": "2021-08-21T23:00:07.959177",
     "exception": false,
     "start_time": "2021-08-21T23:00:07.892213",
     "status": "completed"
    },
    "tags": []
   },
   "outputs": [
    {
     "data": {
      "text/html": [
       "<div>\n",
       "<style scoped>\n",
       "    .dataframe tbody tr th:only-of-type {\n",
       "        vertical-align: middle;\n",
       "    }\n",
       "\n",
       "    .dataframe tbody tr th {\n",
       "        vertical-align: top;\n",
       "    }\n",
       "\n",
       "    .dataframe thead th {\n",
       "        text-align: right;\n",
       "    }\n",
       "</style>\n",
       "<table border=\"1\" class=\"dataframe\">\n",
       "  <thead>\n",
       "    <tr style=\"text-align: right;\">\n",
       "      <th></th>\n",
       "      <th>RECORD_TIME</th>\n",
       "    </tr>\n",
       "  </thead>\n",
       "  <tbody>\n",
       "    <tr>\n",
       "      <th>0</th>\n",
       "      <td>2021-08-22 01:00</td>\n",
       "    </tr>\n",
       "    <tr>\n",
       "      <th>1</th>\n",
       "      <td>2021-08-22 00:30</td>\n",
       "    </tr>\n",
       "  </tbody>\n",
       "</table>\n",
       "</div>"
      ],
      "text/plain": [
       "        RECORD_TIME\n",
       "0  2021-08-22 01:00\n",
       "1  2021-08-22 00:30"
      ]
     },
     "execution_count": 3,
     "metadata": {},
     "output_type": "execute_result"
    }
   ],
   "source": [
    "timestamps"
   ]
  },
  {
   "cell_type": "code",
   "execution_count": 4,
   "id": "alternate-victory",
   "metadata": {
    "execution": {
     "iopub.execute_input": "2021-08-21T23:00:08.012096Z",
     "iopub.status.busy": "2021-08-21T23:00:08.009867Z",
     "iopub.status.idle": "2021-08-21T23:00:08.162747Z",
     "shell.execute_reply": "2021-08-21T23:00:08.164054Z"
    },
    "papermill": {
     "duration": 0.182697,
     "end_time": "2021-08-21T23:00:08.164454",
     "exception": false,
     "start_time": "2021-08-21T23:00:07.981757",
     "status": "completed"
    },
    "tags": []
   },
   "outputs": [],
   "source": [
    "df = pd.read_sql(\"select * from EBAY_TOP_BERLIN where record_time in (select distinct record_time from EBAY_TOP_BERLIN order by record_time desc limit 2)\", sqlite3.connect(\"UsedObjects.db\"))"
   ]
  },
  {
   "cell_type": "code",
   "execution_count": 5,
   "id": "popular-active",
   "metadata": {
    "execution": {
     "iopub.execute_input": "2021-08-21T23:00:08.234487Z",
     "iopub.status.busy": "2021-08-21T23:00:08.223559Z",
     "iopub.status.idle": "2021-08-21T23:00:08.251084Z",
     "shell.execute_reply": "2021-08-21T23:00:08.252395Z"
    },
    "papermill": {
     "duration": 0.068347,
     "end_time": "2021-08-21T23:00:08.252811",
     "exception": false,
     "start_time": "2021-08-21T23:00:08.184464",
     "status": "completed"
    },
    "tags": []
   },
   "outputs": [],
   "source": [
    "df_pivot = df.pivot_table(index=\"PRODUCT\", columns = \"RECORD_TIME\", values = \"LISTING_COUNT\")"
   ]
  },
  {
   "cell_type": "code",
   "execution_count": 6,
   "id": "union-huntington",
   "metadata": {
    "execution": {
     "iopub.execute_input": "2021-08-21T23:00:08.309610Z",
     "iopub.status.busy": "2021-08-21T23:00:08.307429Z",
     "iopub.status.idle": "2021-08-21T23:00:08.312605Z",
     "shell.execute_reply": "2021-08-21T23:00:08.314176Z"
    },
    "papermill": {
     "duration": 0.04112,
     "end_time": "2021-08-21T23:00:08.314641",
     "exception": false,
     "start_time": "2021-08-21T23:00:08.273521",
     "status": "completed"
    },
    "tags": []
   },
   "outputs": [],
   "source": [
    "df_pivot.columns = [\"stamp_1\", \"stamp_2\"]\n",
    "df_pivot_diff = df_pivot.diff(axis=1)"
   ]
  },
  {
   "cell_type": "code",
   "execution_count": 7,
   "id": "fifth-motion",
   "metadata": {
    "execution": {
     "iopub.execute_input": "2021-08-21T23:00:08.379414Z",
     "iopub.status.busy": "2021-08-21T23:00:08.376628Z",
     "iopub.status.idle": "2021-08-21T23:00:09.841330Z",
     "shell.execute_reply": "2021-08-21T23:00:09.842933Z"
    },
    "papermill": {
     "duration": 1.501241,
     "end_time": "2021-08-21T23:00:09.843420",
     "exception": false,
     "start_time": "2021-08-21T23:00:08.342179",
     "status": "completed"
    },
    "tags": []
   },
   "outputs": [
    {
     "data": {
      "text/plain": [
       "<AxesSubplot:ylabel='PRODUCT'>"
      ]
     },
     "execution_count": 7,
     "metadata": {},
     "output_type": "execute_result"
    },
    {
     "data": {
      "image/png": "[encoded data removed]",
      "text/plain": [
       "<Figure size 432x288 with 1 Axes>"
      ]
     },
     "metadata": {
      "needs_background": "light"
     },
     "output_type": "display_data"
    }
   ],
   "source": [
    "df_pivot_diff.sort_values(\"stamp_2\", ascending = False)[\"stamp_2\"].head(10).plot.barh()"
   ]
  },
  {
   "cell_type": "code",
   "execution_count": null,
   "id": "extra-executive",
   "metadata": {
    "papermill": {
     "duration": 0.021983,
     "end_time": "2021-08-21T23:00:09.888953",
     "exception": false,
     "start_time": "2021-08-21T23:00:09.866970",
     "status": "completed"
    },
    "tags": []
   },
   "outputs": [],
   "source": []
  }
 ],
 "metadata": {
  "kernelspec": {
   "display_name": "Python 3",
   "language": "python",
   "name": "python3"
  },
  "language_info": {
   "codemirror_mode": {
    "name": "ipython",
    "version": 3
   },
   "file_extension": ".py",
   "mimetype": "text/x-python",
   "name": "python",
   "nbconvert_exporter": "python",
   "pygments_lexer": "ipython3",
   "version": "3.9.5"
  },
  "papermill": {
   "default_parameters": {},
   "duration": 6.83634,
   "end_time": "2021-08-21T23:00:11.296017",
   "environment_variables": {},
   "exception": null,
   "input_path": "eBay_Overview.ipynb",
   "output_path": "eBay_Overview.ipynb",
   "parameters": {},
   "start_time": "2021-08-21T23:00:04.459677",
   "version": "2.3.3"
  }
 },
 "nbformat": 4,
 "nbformat_minor": 5
}