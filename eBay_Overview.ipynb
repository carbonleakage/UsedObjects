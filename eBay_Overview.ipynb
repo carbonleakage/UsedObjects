{
 "cells": [
  {
   "cell_type": "code",
   "execution_count": 1,
   "id": "reverse-picking",
   "metadata": {
    "execution": {
     "iopub.execute_input": "2021-11-13T22:30:07.136522Z",
     "iopub.status.busy": "2021-11-13T22:30:07.133735Z",
     "iopub.status.idle": "2021-11-13T22:30:08.079924Z",
     "shell.execute_reply": "2021-11-13T22:30:08.077943Z"
    },
    "papermill": {
     "duration": 0.994517,
     "end_time": "2021-11-13T22:30:08.080424",
     "exception": false,
     "start_time": "2021-11-13T22:30:07.085907",
     "status": "completed"
    },
    "tags": []
   },
   "outputs": [],
   "source": [
    "import pandas as pd\n",
    "import sqlite3"
   ]
  },
  {
   "cell_type": "code",
   "execution_count": 2,
   "id": "innovative-syndrome",
   "metadata": {
    "execution": {
     "iopub.execute_input": "2021-11-13T22:30:08.147111Z",
     "iopub.status.busy": "2021-11-13T22:30:08.144872Z",
     "iopub.status.idle": "2021-11-13T22:30:08.937589Z",
     "shell.execute_reply": "2021-11-13T22:30:08.939488Z"
    },
    "papermill": {
     "duration": 0.827869,
     "end_time": "2021-11-13T22:30:08.940133",
     "exception": false,
     "start_time": "2021-11-13T22:30:08.112264",
     "status": "completed"
    },
    "tags": []
   },
   "outputs": [],
   "source": [
    "timestamps = pd.read_sql(\"select distinct record_time from EBAY_TOP_BERLIN order by record_time desc limit 2\", sqlite3.connect(\"UsedObjects.db\"))"
   ]
  },
  {
   "cell_type": "code",
   "execution_count": 3,
   "id": "periodic-identification",
   "metadata": {
    "execution": {
     "iopub.execute_input": "2021-11-13T22:30:09.013700Z",
     "iopub.status.busy": "2021-11-13T22:30:09.011376Z",
     "iopub.status.idle": "2021-11-13T22:30:09.033926Z",
     "shell.execute_reply": "2021-11-13T22:30:09.035326Z"
    },
    "papermill": {
     "duration": 0.073243,
     "end_time": "2021-11-13T22:30:09.035816",
     "exception": false,
     "start_time": "2021-11-13T22:30:08.962573",
     "status": "completed"
    },
    "tags": []
   },
   "outputs": [
    {
     "data": {
      "text/html": [
       "<div>\n",
       "<style scoped>\n",
       "    .dataframe tbody tr th:only-of-type {\n",
       "        vertical-align: middle;\n",
       "    }\n",
       "\n",
       "    .dataframe tbody tr th {\n",
       "        vertical-align: top;\n",
       "    }\n",
       "\n",
       "    .dataframe thead th {\n",
       "        text-align: right;\n",
       "    }\n",
       "</style>\n",
       "<table border=\"1\" class=\"dataframe\">\n",
       "  <thead>\n",
       "    <tr style=\"text-align: right;\">\n",
       "      <th></th>\n",
       "      <th>RECORD_TIME</th>\n",
       "    </tr>\n",
       "  </thead>\n",
       "  <tbody>\n",
       "    <tr>\n",
       "      <th>0</th>\n",
       "      <td>2021-11-13 23:30</td>\n",
       "    </tr>\n",
       "    <tr>\n",
       "      <th>1</th>\n",
       "      <td>2021-11-13 23:00</td>\n",
       "    </tr>\n",
       "  </tbody>\n",
       "</table>\n",
       "</div>"
      ],
      "text/plain": [
       "        RECORD_TIME\n",
       "0  2021-11-13 23:30\n",
       "1  2021-11-13 23:00"
      ]
     },
     "execution_count": 3,
     "metadata": {},
     "output_type": "execute_result"
    }
   ],
   "source": [
    "timestamps"
   ]
  },
  {
   "cell_type": "code",
   "execution_count": 4,
   "id": "alternate-victory",
   "metadata": {
    "execution": {
     "iopub.execute_input": "2021-11-13T22:30:09.091472Z",
     "iopub.status.busy": "2021-11-13T22:30:09.089341Z",
     "iopub.status.idle": "2021-11-13T22:30:10.248155Z",
     "shell.execute_reply": "2021-11-13T22:30:10.250017Z"
    },
    "papermill": {
     "duration": 1.193381,
     "end_time": "2021-11-13T22:30:10.250564",
     "exception": false,
     "start_time": "2021-11-13T22:30:09.057183",
     "status": "completed"
    },
    "tags": []
   },
   "outputs": [],
   "source": [
    "df = pd.read_sql(\"select * from EBAY_TOP_BERLIN where record_time in (select distinct record_time from EBAY_TOP_BERLIN order by record_time desc limit 2)\", sqlite3.connect(\"UsedObjects.db\"))"
   ]
  },
  {
   "cell_type": "code",
   "execution_count": 5,
   "id": "popular-active",
   "metadata": {
    "execution": {
     "iopub.execute_input": "2021-11-13T22:30:10.318990Z",
     "iopub.status.busy": "2021-11-13T22:30:10.316847Z",
     "iopub.status.idle": "2021-11-13T22:30:10.348652Z",
     "shell.execute_reply": "2021-11-13T22:30:10.346999Z"
    },
    "papermill": {
     "duration": 0.07666,
     "end_time": "2021-11-13T22:30:10.349194",
     "exception": false,
     "start_time": "2021-11-13T22:30:10.272534",
     "status": "completed"
    },
    "tags": []
   },
   "outputs": [],
   "source": [
    "df_pivot = df.pivot_table(index=\"PRODUCT\", columns = \"RECORD_TIME\", values = \"LISTING_COUNT\")"
   ]
  },
  {
   "cell_type": "code",
   "execution_count": 6,
   "id": "union-huntington",
   "metadata": {
    "execution": {
     "iopub.execute_input": "2021-11-13T22:30:10.409278Z",
     "iopub.status.busy": "2021-11-13T22:30:10.406839Z",
     "iopub.status.idle": "2021-11-13T22:30:10.412318Z",
     "shell.execute_reply": "2021-11-13T22:30:10.413751Z"
    },
    "papermill": {
     "duration": 0.044468,
     "end_time": "2021-11-13T22:30:10.414222",
     "exception": false,
     "start_time": "2021-11-13T22:30:10.369754",
     "status": "completed"
    },
    "tags": []
   },
   "outputs": [],
   "source": [
    "df_pivot.columns = [\"stamp_1\", \"stamp_2\"]\n",
    "df_pivot_diff = df_pivot.diff(axis=1)"
   ]
  },
  {
   "cell_type": "code",
   "execution_count": 7,
   "id": "fifth-motion",
   "metadata": {
    "execution": {
     "iopub.execute_input": "2021-11-13T22:30:10.474310Z",
     "iopub.status.busy": "2021-11-13T22:30:10.471955Z",
     "iopub.status.idle": "2021-11-13T22:30:12.355361Z",
     "shell.execute_reply": "2021-11-13T22:30:12.356903Z"
    },
    "papermill": {
     "duration": 1.921828,
     "end_time": "2021-11-13T22:30:12.357370",
     "exception": false,
     "start_time": "2021-11-13T22:30:10.435542",
     "status": "completed"
    },
    "tags": []
   },
   "outputs": [
    {
     "data": {
      "text/plain": [
       "<AxesSubplot:ylabel='PRODUCT'>"
      ]
     },
     "execution_count": 7,
     "metadata": {},
     "output_type": "execute_result"
    },
    {
     "data": {
      "image/png": "[encoded data removed]",
      "text/plain": [
       "<Figure size 432x288 with 1 Axes>"
      ]
     },
     "metadata": {
      "needs_background": "light"
     },
     "output_type": "display_data"
    }
   ],
   "source": [
    "df_pivot_diff.sort_values(\"stamp_2\", ascending = False)[\"stamp_2\"].head(10).plot.barh()"
   ]
  },
  {
   "cell_type": "code",
   "execution_count": null,
   "id": "extra-executive",
   "metadata": {
    "papermill": {
     "duration": 0.023413,
     "end_time": "2021-11-13T22:30:12.406165",
     "exception": false,
     "start_time": "2021-11-13T22:30:12.382752",
     "status": "completed"
    },
    "tags": []
   },
   "outputs": [],
   "source": []
  }
 ],
 "metadata": {
  "kernelspec": {
   "display_name": "Python 3",
   "language": "python",
   "name": "python3"
  },
  "language_info": {
   "codemirror_mode": {
    "name": "ipython",
    "version": 3
   },
   "file_extension": ".py",
   "mimetype": "text/x-python",
   "name": "python",
   "nbconvert_exporter": "python",
   "pygments_lexer": "ipython3",
   "version": "3.9.5"
  },
  "papermill": {
   "default_parameters": {},
   "duration": 8.876318,
   "end_time": "2021-11-13T22:30:13.253565",
   "environment_variables": {},
   "exception": null,
   "input_path": "eBay_Overview.ipynb",
   "output_path": "eBay_Overview.ipynb",
   "parameters": {},
   "start_time": "2021-11-13T22:30:04.377247",
   "version": "2.3.3"
  }
 },
 "nbformat": 4,
 "nbformat_minor": 5
}