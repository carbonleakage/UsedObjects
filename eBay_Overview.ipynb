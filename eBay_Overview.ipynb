{
 "cells": [
  {
   "cell_type": "code",
   "execution_count": 1,
   "id": "reverse-picking",
   "metadata": {
    "execution": {
     "iopub.execute_input": "2021-10-31T19:30:07.874836Z",
     "iopub.status.busy": "2021-10-31T19:30:07.872882Z",
     "iopub.status.idle": "2021-10-31T19:30:08.678123Z",
     "shell.execute_reply": "2021-10-31T19:30:08.679385Z"
    },
    "papermill": {
     "duration": 0.858374,
     "end_time": "2021-10-31T19:30:08.680007",
     "exception": false,
     "start_time": "2021-10-31T19:30:07.821633",
     "status": "completed"
    },
    "tags": []
   },
   "outputs": [],
   "source": [
    "import pandas as pd\n",
    "import sqlite3"
   ]
  },
  {
   "cell_type": "code",
   "execution_count": 2,
   "id": "innovative-syndrome",
   "metadata": {
    "execution": {
     "iopub.execute_input": "2021-10-31T19:30:08.731790Z",
     "iopub.status.busy": "2021-10-31T19:30:08.729900Z",
     "iopub.status.idle": "2021-10-31T19:30:09.419576Z",
     "shell.execute_reply": "2021-10-31T19:30:09.420982Z"
    },
    "papermill": {
     "duration": 0.719566,
     "end_time": "2021-10-31T19:30:09.421433",
     "exception": false,
     "start_time": "2021-10-31T19:30:08.701867",
     "status": "completed"
    },
    "tags": []
   },
   "outputs": [],
   "source": [
    "timestamps = pd.read_sql(\"select distinct record_time from EBAY_TOP_BERLIN order by record_time desc limit 2\", sqlite3.connect(\"UsedObjects.db\"))"
   ]
  },
  {
   "cell_type": "code",
   "execution_count": 3,
   "id": "periodic-identification",
   "metadata": {
    "execution": {
     "iopub.execute_input": "2021-10-31T19:30:09.486830Z",
     "iopub.status.busy": "2021-10-31T19:30:09.484810Z",
     "iopub.status.idle": "2021-10-31T19:30:09.504642Z",
     "shell.execute_reply": "2021-10-31T19:30:09.506085Z"
    },
    "papermill": {
     "duration": 0.06528,
     "end_time": "2021-10-31T19:30:09.506517",
     "exception": false,
     "start_time": "2021-10-31T19:30:09.441237",
     "status": "completed"
    },
    "tags": []
   },
   "outputs": [
    {
     "data": {
      "text/html": [
       "<div>\n",
       "<style scoped>\n",
       "    .dataframe tbody tr th:only-of-type {\n",
       "        vertical-align: middle;\n",
       "    }\n",
       "\n",
       "    .dataframe tbody tr th {\n",
       "        vertical-align: top;\n",
       "    }\n",
       "\n",
       "    .dataframe thead th {\n",
       "        text-align: right;\n",
       "    }\n",
       "</style>\n",
       "<table border=\"1\" class=\"dataframe\">\n",
       "  <thead>\n",
       "    <tr style=\"text-align: right;\">\n",
       "      <th></th>\n",
       "      <th>RECORD_TIME</th>\n",
       "    </tr>\n",
       "  </thead>\n",
       "  <tbody>\n",
       "    <tr>\n",
       "      <th>0</th>\n",
       "      <td>2021-10-31 20:30</td>\n",
       "    </tr>\n",
       "    <tr>\n",
       "      <th>1</th>\n",
       "      <td>2021-10-31 20:00</td>\n",
       "    </tr>\n",
       "  </tbody>\n",
       "</table>\n",
       "</div>"
      ],
      "text/plain": [
       "        RECORD_TIME\n",
       "0  2021-10-31 20:30\n",
       "1  2021-10-31 20:00"
      ]
     },
     "execution_count": 3,
     "metadata": {},
     "output_type": "execute_result"
    }
   ],
   "source": [
    "timestamps"
   ]
  },
  {
   "cell_type": "code",
   "execution_count": 4,
   "id": "alternate-victory",
   "metadata": {
    "execution": {
     "iopub.execute_input": "2021-10-31T19:30:09.557823Z",
     "iopub.status.busy": "2021-10-31T19:30:09.555847Z",
     "iopub.status.idle": "2021-10-31T19:30:10.542441Z",
     "shell.execute_reply": "2021-10-31T19:30:10.543651Z"
    },
    "papermill": {
     "duration": 1.01662,
     "end_time": "2021-10-31T19:30:10.544088",
     "exception": false,
     "start_time": "2021-10-31T19:30:09.527468",
     "status": "completed"
    },
    "tags": []
   },
   "outputs": [],
   "source": [
    "df = pd.read_sql(\"select * from EBAY_TOP_BERLIN where record_time in (select distinct record_time from EBAY_TOP_BERLIN order by record_time desc limit 2)\", sqlite3.connect(\"UsedObjects.db\"))"
   ]
  },
  {
   "cell_type": "code",
   "execution_count": 5,
   "id": "popular-active",
   "metadata": {
    "execution": {
     "iopub.execute_input": "2021-10-31T19:30:10.614732Z",
     "iopub.status.busy": "2021-10-31T19:30:10.603552Z",
     "iopub.status.idle": "2021-10-31T19:30:10.630098Z",
     "shell.execute_reply": "2021-10-31T19:30:10.631235Z"
    },
    "papermill": {
     "duration": 0.066523,
     "end_time": "2021-10-31T19:30:10.631646",
     "exception": false,
     "start_time": "2021-10-31T19:30:10.565123",
     "status": "completed"
    },
    "tags": []
   },
   "outputs": [],
   "source": [
    "df_pivot = df.pivot_table(index=\"PRODUCT\", columns = \"RECORD_TIME\", values = \"LISTING_COUNT\")"
   ]
  },
  {
   "cell_type": "code",
   "execution_count": 6,
   "id": "union-huntington",
   "metadata": {
    "execution": {
     "iopub.execute_input": "2021-10-31T19:30:10.692301Z",
     "iopub.status.busy": "2021-10-31T19:30:10.689878Z",
     "iopub.status.idle": "2021-10-31T19:30:10.695985Z",
     "shell.execute_reply": "2021-10-31T19:30:10.697449Z"
    },
    "papermill": {
     "duration": 0.042946,
     "end_time": "2021-10-31T19:30:10.697905",
     "exception": false,
     "start_time": "2021-10-31T19:30:10.654959",
     "status": "completed"
    },
    "tags": []
   },
   "outputs": [],
   "source": [
    "df_pivot.columns = [\"stamp_1\", \"stamp_2\"]\n",
    "df_pivot_diff = df_pivot.diff(axis=1)"
   ]
  },
  {
   "cell_type": "code",
   "execution_count": 7,
   "id": "fifth-motion",
   "metadata": {
    "execution": {
     "iopub.execute_input": "2021-10-31T19:30:10.752601Z",
     "iopub.status.busy": "2021-10-31T19:30:10.750388Z",
     "iopub.status.idle": "2021-10-31T19:30:12.265729Z",
     "shell.execute_reply": "2021-10-31T19:30:12.267028Z"
    },
    "papermill": {
     "duration": 1.548029,
     "end_time": "2021-10-31T19:30:12.267455",
     "exception": false,
     "start_time": "2021-10-31T19:30:10.719426",
     "status": "completed"
    },
    "tags": []
   },
   "outputs": [
    {
     "data": {
      "text/plain": [
       "<AxesSubplot:ylabel='PRODUCT'>"
      ]
     },
     "execution_count": 7,
     "metadata": {},
     "output_type": "execute_result"
    },
    {
     "data": {
      "image/png": "[encoded data removed]",
      "text/plain": [
       "<Figure size 432x288 with 1 Axes>"
      ]
     },
     "metadata": {
      "needs_background": "light"
     },
     "output_type": "display_data"
    }
   ],
   "source": [
    "df_pivot_diff.sort_values(\"stamp_2\", ascending = False)[\"stamp_2\"].head(10).plot.barh()"
   ]
  },
  {
   "cell_type": "code",
   "execution_count": null,
   "id": "extra-executive",
   "metadata": {
    "papermill": {
     "duration": 0.022278,
     "end_time": "2021-10-31T19:30:12.314426",
     "exception": false,
     "start_time": "2021-10-31T19:30:12.292148",
     "status": "completed"
    },
    "tags": []
   },
   "outputs": [],
   "source": []
  }
 ],
 "metadata": {
  "kernelspec": {
   "display_name": "Python 3",
   "language": "python",
   "name": "python3"
  },
  "language_info": {
   "codemirror_mode": {
    "name": "ipython",
    "version": 3
   },
   "file_extension": ".py",
   "mimetype": "text/x-python",
   "name": "python",
   "nbconvert_exporter": "python",
   "pygments_lexer": "ipython3",
   "version": "3.9.5"
  },
  "papermill": {
   "default_parameters": {},
   "duration": 7.691892,
   "end_time": "2021-10-31T19:30:12.958433",
   "environment_variables": {},
   "exception": null,
   "input_path": "eBay_Overview.ipynb",
   "output_path": "eBay_Overview.ipynb",
   "parameters": {},
   "start_time": "2021-10-31T19:30:05.266541",
   "version": "2.3.3"
  }
 },
 "nbformat": 4,
 "nbformat_minor": 5
}