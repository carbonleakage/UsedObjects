{
 "cells": [
  {
   "cell_type": "code",
   "execution_count": 1,
   "id": "reverse-picking",
   "metadata": {
    "execution": {
     "iopub.execute_input": "2021-09-16T21:00:06.828236Z",
     "iopub.status.busy": "2021-09-16T21:00:06.826117Z",
     "iopub.status.idle": "2021-09-16T21:00:07.633842Z",
     "shell.execute_reply": "2021-09-16T21:00:07.635205Z"
    },
    "papermill": {
     "duration": 0.859704,
     "end_time": "2021-09-16T21:00:07.635875",
     "exception": false,
     "start_time": "2021-09-16T21:00:06.776171",
     "status": "completed"
    },
    "tags": []
   },
   "outputs": [],
   "source": [
    "import pandas as pd\n",
    "import sqlite3"
   ]
  },
  {
   "cell_type": "code",
   "execution_count": 2,
   "id": "innovative-syndrome",
   "metadata": {
    "execution": {
     "iopub.execute_input": "2021-09-16T21:00:07.685839Z",
     "iopub.status.busy": "2021-09-16T21:00:07.683986Z",
     "iopub.status.idle": "2021-09-16T21:00:07.992212Z",
     "shell.execute_reply": "2021-09-16T21:00:07.993399Z"
    },
    "papermill": {
     "duration": 0.337726,
     "end_time": "2021-09-16T21:00:07.993791",
     "exception": false,
     "start_time": "2021-09-16T21:00:07.656065",
     "status": "completed"
    },
    "tags": []
   },
   "outputs": [],
   "source": [
    "timestamps = pd.read_sql(\"select distinct record_time from EBAY_TOP_BERLIN order by record_time desc limit 2\", sqlite3.connect(\"UsedObjects.db\"))"
   ]
  },
  {
   "cell_type": "code",
   "execution_count": 3,
   "id": "periodic-identification",
   "metadata": {
    "execution": {
     "iopub.execute_input": "2021-09-16T21:00:08.058335Z",
     "iopub.status.busy": "2021-09-16T21:00:08.056340Z",
     "iopub.status.idle": "2021-09-16T21:00:08.075904Z",
     "shell.execute_reply": "2021-09-16T21:00:08.077207Z"
    },
    "papermill": {
     "duration": 0.062924,
     "end_time": "2021-09-16T21:00:08.077623",
     "exception": false,
     "start_time": "2021-09-16T21:00:08.014699",
     "status": "completed"
    },
    "tags": []
   },
   "outputs": [
    {
     "data": {
      "text/html": [
       "<div>\n",
       "<style scoped>\n",
       "    .dataframe tbody tr th:only-of-type {\n",
       "        vertical-align: middle;\n",
       "    }\n",
       "\n",
       "    .dataframe tbody tr th {\n",
       "        vertical-align: top;\n",
       "    }\n",
       "\n",
       "    .dataframe thead th {\n",
       "        text-align: right;\n",
       "    }\n",
       "</style>\n",
       "<table border=\"1\" class=\"dataframe\">\n",
       "  <thead>\n",
       "    <tr style=\"text-align: right;\">\n",
       "      <th></th>\n",
       "      <th>RECORD_TIME</th>\n",
       "    </tr>\n",
       "  </thead>\n",
       "  <tbody>\n",
       "    <tr>\n",
       "      <th>0</th>\n",
       "      <td>2021-09-16 23:00</td>\n",
       "    </tr>\n",
       "    <tr>\n",
       "      <th>1</th>\n",
       "      <td>2021-09-16 22:30</td>\n",
       "    </tr>\n",
       "  </tbody>\n",
       "</table>\n",
       "</div>"
      ],
      "text/plain": [
       "        RECORD_TIME\n",
       "0  2021-09-16 23:00\n",
       "1  2021-09-16 22:30"
      ]
     },
     "execution_count": 3,
     "metadata": {},
     "output_type": "execute_result"
    }
   ],
   "source": [
    "timestamps"
   ]
  },
  {
   "cell_type": "code",
   "execution_count": 4,
   "id": "alternate-victory",
   "metadata": {
    "execution": {
     "iopub.execute_input": "2021-09-16T21:00:08.127752Z",
     "iopub.status.busy": "2021-09-16T21:00:08.125866Z",
     "iopub.status.idle": "2021-09-16T21:00:08.572909Z",
     "shell.execute_reply": "2021-09-16T21:00:08.574263Z"
    },
    "papermill": {
     "duration": 0.476695,
     "end_time": "2021-09-16T21:00:08.574681",
     "exception": false,
     "start_time": "2021-09-16T21:00:08.097986",
     "status": "completed"
    },
    "tags": []
   },
   "outputs": [],
   "source": [
    "df = pd.read_sql(\"select * from EBAY_TOP_BERLIN where record_time in (select distinct record_time from EBAY_TOP_BERLIN order by record_time desc limit 2)\", sqlite3.connect(\"UsedObjects.db\"))"
   ]
  },
  {
   "cell_type": "code",
   "execution_count": 5,
   "id": "popular-active",
   "metadata": {
    "execution": {
     "iopub.execute_input": "2021-09-16T21:00:08.654354Z",
     "iopub.status.busy": "2021-09-16T21:00:08.642138Z",
     "iopub.status.idle": "2021-09-16T21:00:08.669632Z",
     "shell.execute_reply": "2021-09-16T21:00:08.671108Z"
    },
    "papermill": {
     "duration": 0.070393,
     "end_time": "2021-09-16T21:00:08.671557",
     "exception": false,
     "start_time": "2021-09-16T21:00:08.601164",
     "status": "completed"
    },
    "tags": []
   },
   "outputs": [],
   "source": [
    "df_pivot = df.pivot_table(index=\"PRODUCT\", columns = \"RECORD_TIME\", values = \"LISTING_COUNT\")"
   ]
  },
  {
   "cell_type": "code",
   "execution_count": 6,
   "id": "union-huntington",
   "metadata": {
    "execution": {
     "iopub.execute_input": "2021-09-16T21:00:08.730592Z",
     "iopub.status.busy": "2021-09-16T21:00:08.728168Z",
     "iopub.status.idle": "2021-09-16T21:00:08.734181Z",
     "shell.execute_reply": "2021-09-16T21:00:08.735510Z"
    },
    "papermill": {
     "duration": 0.042293,
     "end_time": "2021-09-16T21:00:08.735965",
     "exception": false,
     "start_time": "2021-09-16T21:00:08.693672",
     "status": "completed"
    },
    "tags": []
   },
   "outputs": [],
   "source": [
    "df_pivot.columns = [\"stamp_1\", \"stamp_2\"]\n",
    "df_pivot_diff = df_pivot.diff(axis=1)"
   ]
  },
  {
   "cell_type": "code",
   "execution_count": 7,
   "id": "fifth-motion",
   "metadata": {
    "execution": {
     "iopub.execute_input": "2021-09-16T21:00:08.790104Z",
     "iopub.status.busy": "2021-09-16T21:00:08.787924Z",
     "iopub.status.idle": "2021-09-16T21:00:10.249415Z",
     "shell.execute_reply": "2021-09-16T21:00:10.250700Z"
    },
    "papermill": {
     "duration": 1.494084,
     "end_time": "2021-09-16T21:00:10.251332",
     "exception": false,
     "start_time": "2021-09-16T21:00:08.757248",
     "status": "completed"
    },
    "tags": []
   },
   "outputs": [
    {
     "data": {
      "text/plain": [
       "<AxesSubplot:ylabel='PRODUCT'>"
      ]
     },
     "execution_count": 7,
     "metadata": {},
     "output_type": "execute_result"
    },
    {
     "data": {
      "image/png": "[encoded data removed]",
      "text/plain": [
       "<Figure size 432x288 with 1 Axes>"
      ]
     },
     "metadata": {
      "needs_background": "light"
     },
     "output_type": "display_data"
    }
   ],
   "source": [
    "df_pivot_diff.sort_values(\"stamp_2\", ascending = False)[\"stamp_2\"].head(10).plot.barh()"
   ]
  },
  {
   "cell_type": "code",
   "execution_count": null,
   "id": "extra-executive",
   "metadata": {
    "papermill": {
     "duration": 0.021991,
     "end_time": "2021-09-16T21:00:10.297657",
     "exception": false,
     "start_time": "2021-09-16T21:00:10.275666",
     "status": "completed"
    },
    "tags": []
   },
   "outputs": [],
   "source": []
  }
 ],
 "metadata": {
  "kernelspec": {
   "display_name": "Python 3",
   "language": "python",
   "name": "python3"
  },
  "language_info": {
   "codemirror_mode": {
    "name": "ipython",
    "version": 3
   },
   "file_extension": ".py",
   "mimetype": "text/x-python",
   "name": "python",
   "nbconvert_exporter": "python",
   "pygments_lexer": "ipython3",
   "version": "3.9.5"
  },
  "papermill": {
   "default_parameters": {},
   "duration": 6.561347,
   "end_time": "2021-09-16T21:00:10.939388",
   "environment_variables": {},
   "exception": null,
   "input_path": "eBay_Overview.ipynb",
   "output_path": "eBay_Overview.ipynb",
   "parameters": {},
   "start_time": "2021-09-16T21:00:04.378041",
   "version": "2.3.3"
  }
 },
 "nbformat": 4,
 "nbformat_minor": 5
}