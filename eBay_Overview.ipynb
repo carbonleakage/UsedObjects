{
 "cells": [
  {
   "cell_type": "code",
   "execution_count": 1,
   "id": "reverse-picking",
   "metadata": {
    "execution": {
     "iopub.execute_input": "2021-09-18T23:30:07.104850Z",
     "iopub.status.busy": "2021-09-18T23:30:07.102895Z",
     "iopub.status.idle": "2021-09-18T23:30:07.910350Z",
     "shell.execute_reply": "2021-09-18T23:30:07.911693Z"
    },
    "papermill": {
     "duration": 0.86015,
     "end_time": "2021-09-18T23:30:07.912323",
     "exception": false,
     "start_time": "2021-09-18T23:30:07.052173",
     "status": "completed"
    },
    "tags": []
   },
   "outputs": [],
   "source": [
    "import pandas as pd\n",
    "import sqlite3"
   ]
  },
  {
   "cell_type": "code",
   "execution_count": 2,
   "id": "innovative-syndrome",
   "metadata": {
    "execution": {
     "iopub.execute_input": "2021-09-18T23:30:07.965768Z",
     "iopub.status.busy": "2021-09-18T23:30:07.963613Z",
     "iopub.status.idle": "2021-09-18T23:30:08.279789Z",
     "shell.execute_reply": "2021-09-18T23:30:08.281049Z"
    },
    "papermill": {
     "duration": 0.346466,
     "end_time": "2021-09-18T23:30:08.281439",
     "exception": false,
     "start_time": "2021-09-18T23:30:07.934973",
     "status": "completed"
    },
    "tags": []
   },
   "outputs": [],
   "source": [
    "timestamps = pd.read_sql(\"select distinct record_time from EBAY_TOP_BERLIN order by record_time desc limit 2\", sqlite3.connect(\"UsedObjects.db\"))"
   ]
  },
  {
   "cell_type": "code",
   "execution_count": 3,
   "id": "periodic-identification",
   "metadata": {
    "execution": {
     "iopub.execute_input": "2021-09-18T23:30:08.346326Z",
     "iopub.status.busy": "2021-09-18T23:30:08.344320Z",
     "iopub.status.idle": "2021-09-18T23:30:08.364190Z",
     "shell.execute_reply": "2021-09-18T23:30:08.365376Z"
    },
    "papermill": {
     "duration": 0.064745,
     "end_time": "2021-09-18T23:30:08.365800",
     "exception": false,
     "start_time": "2021-09-18T23:30:08.301055",
     "status": "completed"
    },
    "tags": []
   },
   "outputs": [
    {
     "data": {
      "text/html": [
       "<div>\n",
       "<style scoped>\n",
       "    .dataframe tbody tr th:only-of-type {\n",
       "        vertical-align: middle;\n",
       "    }\n",
       "\n",
       "    .dataframe tbody tr th {\n",
       "        vertical-align: top;\n",
       "    }\n",
       "\n",
       "    .dataframe thead th {\n",
       "        text-align: right;\n",
       "    }\n",
       "</style>\n",
       "<table border=\"1\" class=\"dataframe\">\n",
       "  <thead>\n",
       "    <tr style=\"text-align: right;\">\n",
       "      <th></th>\n",
       "      <th>RECORD_TIME</th>\n",
       "    </tr>\n",
       "  </thead>\n",
       "  <tbody>\n",
       "    <tr>\n",
       "      <th>0</th>\n",
       "      <td>2021-09-19 01:30</td>\n",
       "    </tr>\n",
       "    <tr>\n",
       "      <th>1</th>\n",
       "      <td>2021-09-19 01:00</td>\n",
       "    </tr>\n",
       "  </tbody>\n",
       "</table>\n",
       "</div>"
      ],
      "text/plain": [
       "        RECORD_TIME\n",
       "0  2021-09-19 01:30\n",
       "1  2021-09-19 01:00"
      ]
     },
     "execution_count": 3,
     "metadata": {},
     "output_type": "execute_result"
    }
   ],
   "source": [
    "timestamps"
   ]
  },
  {
   "cell_type": "code",
   "execution_count": 4,
   "id": "alternate-victory",
   "metadata": {
    "execution": {
     "iopub.execute_input": "2021-09-18T23:30:08.418580Z",
     "iopub.status.busy": "2021-09-18T23:30:08.416771Z",
     "iopub.status.idle": "2021-09-18T23:30:08.886899Z",
     "shell.execute_reply": "2021-09-18T23:30:08.888303Z"
    },
    "papermill": {
     "duration": 0.500465,
     "end_time": "2021-09-18T23:30:08.888736",
     "exception": false,
     "start_time": "2021-09-18T23:30:08.388271",
     "status": "completed"
    },
    "tags": []
   },
   "outputs": [],
   "source": [
    "df = pd.read_sql(\"select * from EBAY_TOP_BERLIN where record_time in (select distinct record_time from EBAY_TOP_BERLIN order by record_time desc limit 2)\", sqlite3.connect(\"UsedObjects.db\"))"
   ]
  },
  {
   "cell_type": "code",
   "execution_count": 5,
   "id": "popular-active",
   "metadata": {
    "execution": {
     "iopub.execute_input": "2021-09-18T23:30:08.959852Z",
     "iopub.status.busy": "2021-09-18T23:30:08.947884Z",
     "iopub.status.idle": "2021-09-18T23:30:08.976157Z",
     "shell.execute_reply": "2021-09-18T23:30:08.977515Z"
    },
    "papermill": {
     "duration": 0.068113,
     "end_time": "2021-09-18T23:30:08.977945",
     "exception": false,
     "start_time": "2021-09-18T23:30:08.909832",
     "status": "completed"
    },
    "tags": []
   },
   "outputs": [],
   "source": [
    "df_pivot = df.pivot_table(index=\"PRODUCT\", columns = \"RECORD_TIME\", values = \"LISTING_COUNT\")"
   ]
  },
  {
   "cell_type": "code",
   "execution_count": 6,
   "id": "union-huntington",
   "metadata": {
    "execution": {
     "iopub.execute_input": "2021-09-18T23:30:09.037659Z",
     "iopub.status.busy": "2021-09-18T23:30:09.035235Z",
     "iopub.status.idle": "2021-09-18T23:30:09.040944Z",
     "shell.execute_reply": "2021-09-18T23:30:09.042210Z"
    },
    "papermill": {
     "duration": 0.041954,
     "end_time": "2021-09-18T23:30:09.042616",
     "exception": false,
     "start_time": "2021-09-18T23:30:09.000662",
     "status": "completed"
    },
    "tags": []
   },
   "outputs": [],
   "source": [
    "df_pivot.columns = [\"stamp_1\", \"stamp_2\"]\n",
    "df_pivot_diff = df_pivot.diff(axis=1)"
   ]
  },
  {
   "cell_type": "code",
   "execution_count": 7,
   "id": "fifth-motion",
   "metadata": {
    "execution": {
     "iopub.execute_input": "2021-09-18T23:30:09.097693Z",
     "iopub.status.busy": "2021-09-18T23:30:09.095399Z",
     "iopub.status.idle": "2021-09-18T23:30:10.602305Z",
     "shell.execute_reply": "2021-09-18T23:30:10.603582Z"
    },
    "papermill": {
     "duration": 1.540417,
     "end_time": "2021-09-18T23:30:10.603980",
     "exception": false,
     "start_time": "2021-09-18T23:30:09.063563",
     "status": "completed"
    },
    "tags": []
   },
   "outputs": [
    {
     "data": {
      "text/plain": [
       "<AxesSubplot:ylabel='PRODUCT'>"
      ]
     },
     "execution_count": 7,
     "metadata": {},
     "output_type": "execute_result"
    },
    {
     "data": {
      "image/png": "[encoded data removed]",
      "text/plain": [
       "<Figure size 432x288 with 1 Axes>"
      ]
     },
     "metadata": {
      "needs_background": "light"
     },
     "output_type": "display_data"
    }
   ],
   "source": [
    "df_pivot_diff.sort_values(\"stamp_2\", ascending = False)[\"stamp_2\"].head(10).plot.barh()"
   ]
  },
  {
   "cell_type": "code",
   "execution_count": null,
   "id": "extra-executive",
   "metadata": {
    "papermill": {
     "duration": 0.022404,
     "end_time": "2021-09-18T23:30:10.649401",
     "exception": false,
     "start_time": "2021-09-18T23:30:10.626997",
     "status": "completed"
    },
    "tags": []
   },
   "outputs": [],
   "source": []
  }
 ],
 "metadata": {
  "kernelspec": {
   "display_name": "Python 3",
   "language": "python",
   "name": "python3"
  },
  "language_info": {
   "codemirror_mode": {
    "name": "ipython",
    "version": 3
   },
   "file_extension": ".py",
   "mimetype": "text/x-python",
   "name": "python",
   "nbconvert_exporter": "python",
   "pygments_lexer": "ipython3",
   "version": "3.9.5"
  },
  "papermill": {
   "default_parameters": {},
   "duration": 6.633541,
   "end_time": "2021-09-18T23:30:11.290428",
   "environment_variables": {},
   "exception": null,
   "input_path": "eBay_Overview.ipynb",
   "output_path": "eBay_Overview.ipynb",
   "parameters": {},
   "start_time": "2021-09-18T23:30:04.656887",
   "version": "2.3.3"
  }
 },
 "nbformat": 4,
 "nbformat_minor": 5
}