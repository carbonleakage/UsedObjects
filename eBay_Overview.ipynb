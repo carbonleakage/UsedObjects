{
 "cells": [
  {
   "cell_type": "code",
   "execution_count": 1,
   "id": "reverse-picking",
   "metadata": {
    "execution": {
     "iopub.execute_input": "2021-08-30T20:30:06.950379Z",
     "iopub.status.busy": "2021-08-30T20:30:06.948414Z",
     "iopub.status.idle": "2021-08-30T20:30:07.751178Z",
     "shell.execute_reply": "2021-08-30T20:30:07.752561Z"
    },
    "papermill": {
     "duration": 0.85505,
     "end_time": "2021-08-30T20:30:07.753227",
     "exception": false,
     "start_time": "2021-08-30T20:30:06.898177",
     "status": "completed"
    },
    "tags": []
   },
   "outputs": [],
   "source": [
    "import pandas as pd\n",
    "import sqlite3"
   ]
  },
  {
   "cell_type": "code",
   "execution_count": 2,
   "id": "innovative-syndrome",
   "metadata": {
    "execution": {
     "iopub.execute_input": "2021-08-30T20:30:07.804442Z",
     "iopub.status.busy": "2021-08-30T20:30:07.802436Z",
     "iopub.status.idle": "2021-08-30T20:30:07.972468Z",
     "shell.execute_reply": "2021-08-30T20:30:07.973822Z"
    },
    "papermill": {
     "duration": 0.199924,
     "end_time": "2021-08-30T20:30:07.974239",
     "exception": false,
     "start_time": "2021-08-30T20:30:07.774315",
     "status": "completed"
    },
    "tags": []
   },
   "outputs": [],
   "source": [
    "timestamps = pd.read_sql(\"select distinct record_time from EBAY_TOP_BERLIN order by record_time desc limit 2\", sqlite3.connect(\"UsedObjects.db\"))"
   ]
  },
  {
   "cell_type": "code",
   "execution_count": 3,
   "id": "periodic-identification",
   "metadata": {
    "execution": {
     "iopub.execute_input": "2021-08-30T20:30:08.037921Z",
     "iopub.status.busy": "2021-08-30T20:30:08.035842Z",
     "iopub.status.idle": "2021-08-30T20:30:08.055550Z",
     "shell.execute_reply": "2021-08-30T20:30:08.057081Z"
    },
    "papermill": {
     "duration": 0.064167,
     "end_time": "2021-08-30T20:30:08.057523",
     "exception": false,
     "start_time": "2021-08-30T20:30:07.993356",
     "status": "completed"
    },
    "tags": []
   },
   "outputs": [
    {
     "data": {
      "text/html": [
       "<div>\n",
       "<style scoped>\n",
       "    .dataframe tbody tr th:only-of-type {\n",
       "        vertical-align: middle;\n",
       "    }\n",
       "\n",
       "    .dataframe tbody tr th {\n",
       "        vertical-align: top;\n",
       "    }\n",
       "\n",
       "    .dataframe thead th {\n",
       "        text-align: right;\n",
       "    }\n",
       "</style>\n",
       "<table border=\"1\" class=\"dataframe\">\n",
       "  <thead>\n",
       "    <tr style=\"text-align: right;\">\n",
       "      <th></th>\n",
       "      <th>RECORD_TIME</th>\n",
       "    </tr>\n",
       "  </thead>\n",
       "  <tbody>\n",
       "    <tr>\n",
       "      <th>0</th>\n",
       "      <td>2021-08-30 22:30</td>\n",
       "    </tr>\n",
       "    <tr>\n",
       "      <th>1</th>\n",
       "      <td>2021-08-30 22:00</td>\n",
       "    </tr>\n",
       "  </tbody>\n",
       "</table>\n",
       "</div>"
      ],
      "text/plain": [
       "        RECORD_TIME\n",
       "0  2021-08-30 22:30\n",
       "1  2021-08-30 22:00"
      ]
     },
     "execution_count": 3,
     "metadata": {},
     "output_type": "execute_result"
    }
   ],
   "source": [
    "timestamps"
   ]
  },
  {
   "cell_type": "code",
   "execution_count": 4,
   "id": "alternate-victory",
   "metadata": {
    "execution": {
     "iopub.execute_input": "2021-08-30T20:30:08.111462Z",
     "iopub.status.busy": "2021-08-30T20:30:08.109431Z",
     "iopub.status.idle": "2021-08-30T20:30:08.362542Z",
     "shell.execute_reply": "2021-08-30T20:30:08.361210Z"
    },
    "papermill": {
     "duration": 0.282244,
     "end_time": "2021-08-30T20:30:08.362884",
     "exception": false,
     "start_time": "2021-08-30T20:30:08.080640",
     "status": "completed"
    },
    "tags": []
   },
   "outputs": [],
   "source": [
    "df = pd.read_sql(\"select * from EBAY_TOP_BERLIN where record_time in (select distinct record_time from EBAY_TOP_BERLIN order by record_time desc limit 2)\", sqlite3.connect(\"UsedObjects.db\"))"
   ]
  },
  {
   "cell_type": "code",
   "execution_count": 5,
   "id": "popular-active",
   "metadata": {
    "execution": {
     "iopub.execute_input": "2021-08-30T20:30:08.448192Z",
     "iopub.status.busy": "2021-08-30T20:30:08.435888Z",
     "iopub.status.idle": "2021-08-30T20:30:08.464051Z",
     "shell.execute_reply": "2021-08-30T20:30:08.465406Z"
    },
    "papermill": {
     "duration": 0.073747,
     "end_time": "2021-08-30T20:30:08.465827",
     "exception": false,
     "start_time": "2021-08-30T20:30:08.392080",
     "status": "completed"
    },
    "tags": []
   },
   "outputs": [],
   "source": [
    "df_pivot = df.pivot_table(index=\"PRODUCT\", columns = \"RECORD_TIME\", values = \"LISTING_COUNT\")"
   ]
  },
  {
   "cell_type": "code",
   "execution_count": 6,
   "id": "union-huntington",
   "metadata": {
    "execution": {
     "iopub.execute_input": "2021-08-30T20:30:08.522166Z",
     "iopub.status.busy": "2021-08-30T20:30:08.519947Z",
     "iopub.status.idle": "2021-08-30T20:30:08.525577Z",
     "shell.execute_reply": "2021-08-30T20:30:08.526845Z"
    },
    "papermill": {
     "duration": 0.040628,
     "end_time": "2021-08-30T20:30:08.527300",
     "exception": false,
     "start_time": "2021-08-30T20:30:08.486672",
     "status": "completed"
    },
    "tags": []
   },
   "outputs": [],
   "source": [
    "df_pivot.columns = [\"stamp_1\", \"stamp_2\"]\n",
    "df_pivot_diff = df_pivot.diff(axis=1)"
   ]
  },
  {
   "cell_type": "code",
   "execution_count": 7,
   "id": "fifth-motion",
   "metadata": {
    "execution": {
     "iopub.execute_input": "2021-08-30T20:30:08.581576Z",
     "iopub.status.busy": "2021-08-30T20:30:08.579040Z",
     "iopub.status.idle": "2021-08-30T20:30:10.071625Z",
     "shell.execute_reply": "2021-08-30T20:30:10.073275Z"
    },
    "papermill": {
     "duration": 1.525741,
     "end_time": "2021-08-30T20:30:10.073744",
     "exception": false,
     "start_time": "2021-08-30T20:30:08.548003",
     "status": "completed"
    },
    "tags": []
   },
   "outputs": [
    {
     "data": {
      "text/plain": [
       "<AxesSubplot:ylabel='PRODUCT'>"
      ]
     },
     "execution_count": 7,
     "metadata": {},
     "output_type": "execute_result"
    },
    {
     "data": {
      "image/png": "[encoded data removed]",
      "text/plain": [
       "<Figure size 432x288 with 1 Axes>"
      ]
     },
     "metadata": {
      "needs_background": "light"
     },
     "output_type": "display_data"
    }
   ],
   "source": [
    "df_pivot_diff.sort_values(\"stamp_2\", ascending = False)[\"stamp_2\"].head(10).plot.barh()"
   ]
  },
  {
   "cell_type": "code",
   "execution_count": null,
   "id": "extra-executive",
   "metadata": {
    "papermill": {
     "duration": 0.022119,
     "end_time": "2021-08-30T20:30:10.119951",
     "exception": false,
     "start_time": "2021-08-30T20:30:10.097832",
     "status": "completed"
    },
    "tags": []
   },
   "outputs": [],
   "source": []
  }
 ],
 "metadata": {
  "kernelspec": {
   "display_name": "Python 3",
   "language": "python",
   "name": "python3"
  },
  "language_info": {
   "codemirror_mode": {
    "name": "ipython",
    "version": 3
   },
   "file_extension": ".py",
   "mimetype": "text/x-python",
   "name": "python",
   "nbconvert_exporter": "python",
   "pygments_lexer": "ipython3",
   "version": "3.9.5"
  },
  "papermill": {
   "default_parameters": {},
   "duration": 6.817899,
   "end_time": "2021-08-30T20:30:11.313304",
   "environment_variables": {},
   "exception": null,
   "input_path": "eBay_Overview.ipynb",
   "output_path": "eBay_Overview.ipynb",
   "parameters": {},
   "start_time": "2021-08-30T20:30:04.495405",
   "version": "2.3.3"
  }
 },
 "nbformat": 4,
 "nbformat_minor": 5
}