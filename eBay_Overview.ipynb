{
 "cells": [
  {
   "cell_type": "code",
   "execution_count": 1,
   "id": "reverse-picking",
   "metadata": {
    "execution": {
     "iopub.execute_input": "2021-12-21T11:00:08.076551Z",
     "iopub.status.busy": "2021-12-21T11:00:08.073841Z",
     "iopub.status.idle": "2021-12-21T11:00:09.034770Z",
     "shell.execute_reply": "2021-12-21T11:00:09.036357Z"
    },
    "papermill": {
     "duration": 1.013463,
     "end_time": "2021-12-21T11:00:09.037156",
     "exception": false,
     "start_time": "2021-12-21T11:00:08.023693",
     "status": "completed"
    },
    "tags": []
   },
   "outputs": [],
   "source": [
    "import pandas as pd\n",
    "import sqlite3"
   ]
  },
  {
   "cell_type": "code",
   "execution_count": 2,
   "id": "innovative-syndrome",
   "metadata": {
    "execution": {
     "iopub.execute_input": "2021-12-21T11:00:09.099220Z",
     "iopub.status.busy": "2021-12-21T11:00:09.096755Z",
     "iopub.status.idle": "2021-12-21T11:00:10.270090Z",
     "shell.execute_reply": "2021-12-21T11:00:10.271450Z"
    },
    "papermill": {
     "duration": 1.207942,
     "end_time": "2021-12-21T11:00:10.271894",
     "exception": false,
     "start_time": "2021-12-21T11:00:09.063952",
     "status": "completed"
    },
    "tags": []
   },
   "outputs": [],
   "source": [
    "timestamps = pd.read_sql(\"select distinct record_time from EBAY_TOP_BERLIN order by record_time desc limit 2\", sqlite3.connect(\"UsedObjects.db\"))"
   ]
  },
  {
   "cell_type": "code",
   "execution_count": 3,
   "id": "periodic-identification",
   "metadata": {
    "execution": {
     "iopub.execute_input": "2021-12-21T11:00:10.339097Z",
     "iopub.status.busy": "2021-12-21T11:00:10.332444Z",
     "iopub.status.idle": "2021-12-21T11:00:10.363519Z",
     "shell.execute_reply": "2021-12-21T11:00:10.361934Z"
    },
    "papermill": {
     "duration": 0.071476,
     "end_time": "2021-12-21T11:00:10.363915",
     "exception": false,
     "start_time": "2021-12-21T11:00:10.292439",
     "status": "completed"
    },
    "tags": []
   },
   "outputs": [
    {
     "data": {
      "text/html": [
       "<div>\n",
       "<style scoped>\n",
       "    .dataframe tbody tr th:only-of-type {\n",
       "        vertical-align: middle;\n",
       "    }\n",
       "\n",
       "    .dataframe tbody tr th {\n",
       "        vertical-align: top;\n",
       "    }\n",
       "\n",
       "    .dataframe thead th {\n",
       "        text-align: right;\n",
       "    }\n",
       "</style>\n",
       "<table border=\"1\" class=\"dataframe\">\n",
       "  <thead>\n",
       "    <tr style=\"text-align: right;\">\n",
       "      <th></th>\n",
       "      <th>RECORD_TIME</th>\n",
       "    </tr>\n",
       "  </thead>\n",
       "  <tbody>\n",
       "    <tr>\n",
       "      <th>0</th>\n",
       "      <td>2021-12-21 12:00</td>\n",
       "    </tr>\n",
       "    <tr>\n",
       "      <th>1</th>\n",
       "      <td>2021-12-21 11:30</td>\n",
       "    </tr>\n",
       "  </tbody>\n",
       "</table>\n",
       "</div>"
      ],
      "text/plain": [
       "        RECORD_TIME\n",
       "0  2021-12-21 12:00\n",
       "1  2021-12-21 11:30"
      ]
     },
     "execution_count": 3,
     "metadata": {},
     "output_type": "execute_result"
    }
   ],
   "source": [
    "timestamps"
   ]
  },
  {
   "cell_type": "code",
   "execution_count": 4,
   "id": "alternate-victory",
   "metadata": {
    "execution": {
     "iopub.execute_input": "2021-12-21T11:00:10.417568Z",
     "iopub.status.busy": "2021-12-21T11:00:10.415198Z",
     "iopub.status.idle": "2021-12-21T11:00:12.057503Z",
     "shell.execute_reply": "2021-12-21T11:00:12.059592Z"
    },
    "papermill": {
     "duration": 1.67606,
     "end_time": "2021-12-21T11:00:12.060071",
     "exception": false,
     "start_time": "2021-12-21T11:00:10.384011",
     "status": "completed"
    },
    "tags": []
   },
   "outputs": [],
   "source": [
    "df = pd.read_sql(\"select * from EBAY_TOP_BERLIN where record_time in (select distinct record_time from EBAY_TOP_BERLIN order by record_time desc limit 2)\", sqlite3.connect(\"UsedObjects.db\"))"
   ]
  },
  {
   "cell_type": "code",
   "execution_count": 5,
   "id": "popular-active",
   "metadata": {
    "execution": {
     "iopub.execute_input": "2021-12-21T11:00:12.120249Z",
     "iopub.status.busy": "2021-12-21T11:00:12.117454Z",
     "iopub.status.idle": "2021-12-21T11:00:12.156279Z",
     "shell.execute_reply": "2021-12-21T11:00:12.157701Z"
    },
    "papermill": {
     "duration": 0.077407,
     "end_time": "2021-12-21T11:00:12.158185",
     "exception": false,
     "start_time": "2021-12-21T11:00:12.080778",
     "status": "completed"
    },
    "tags": []
   },
   "outputs": [],
   "source": [
    "df_pivot = df.pivot_table(index=\"PRODUCT\", columns = \"RECORD_TIME\", values = \"LISTING_COUNT\")"
   ]
  },
  {
   "cell_type": "code",
   "execution_count": 6,
   "id": "union-huntington",
   "metadata": {
    "execution": {
     "iopub.execute_input": "2021-12-21T11:00:12.217365Z",
     "iopub.status.busy": "2021-12-21T11:00:12.214675Z",
     "iopub.status.idle": "2021-12-21T11:00:12.220002Z",
     "shell.execute_reply": "2021-12-21T11:00:12.221902Z"
    },
    "papermill": {
     "duration": 0.044307,
     "end_time": "2021-12-21T11:00:12.222389",
     "exception": false,
     "start_time": "2021-12-21T11:00:12.178082",
     "status": "completed"
    },
    "tags": []
   },
   "outputs": [],
   "source": [
    "df_pivot.columns = [\"stamp_1\", \"stamp_2\"]\n",
    "df_pivot_diff = df_pivot.diff(axis=1)"
   ]
  },
  {
   "cell_type": "code",
   "execution_count": 7,
   "id": "fifth-motion",
   "metadata": {
    "execution": {
     "iopub.execute_input": "2021-12-21T11:00:12.281857Z",
     "iopub.status.busy": "2021-12-21T11:00:12.279187Z",
     "iopub.status.idle": "2021-12-21T11:00:14.295280Z",
     "shell.execute_reply": "2021-12-21T11:00:14.296556Z"
    },
    "papermill": {
     "duration": 2.054424,
     "end_time": "2021-12-21T11:00:14.297243",
     "exception": false,
     "start_time": "2021-12-21T11:00:12.242819",
     "status": "completed"
    },
    "tags": []
   },
   "outputs": [
    {
     "data": {
      "text/plain": [
       "<AxesSubplot:ylabel='PRODUCT'>"
      ]
     },
     "execution_count": 7,
     "metadata": {},
     "output_type": "execute_result"
    },
    {
     "data": {
      "image/png": "[encoded data removed]",
      "text/plain": [
       "<Figure size 432x288 with 1 Axes>"
      ]
     },
     "metadata": {
      "needs_background": "light"
     },
     "output_type": "display_data"
    }
   ],
   "source": [
    "df_pivot_diff.sort_values(\"stamp_2\", ascending = False)[\"stamp_2\"].head(10).plot.barh()"
   ]
  },
  {
   "cell_type": "code",
   "execution_count": null,
   "id": "extra-executive",
   "metadata": {
    "papermill": {
     "duration": 0.022179,
     "end_time": "2021-12-21T11:00:14.343931",
     "exception": false,
     "start_time": "2021-12-21T11:00:14.321752",
     "status": "completed"
    },
    "tags": []
   },
   "outputs": [],
   "source": []
  }
 ],
 "metadata": {
  "kernelspec": {
   "display_name": "Python 3",
   "language": "python",
   "name": "python3"
  },
  "language_info": {
   "codemirror_mode": {
    "name": "ipython",
    "version": 3
   },
   "file_extension": ".py",
   "mimetype": "text/x-python",
   "name": "python",
   "nbconvert_exporter": "python",
   "pygments_lexer": "ipython3",
   "version": "3.9.5"
  },
  "papermill": {
   "default_parameters": {},
   "duration": 9.716893,
   "end_time": "2021-12-21T11:00:14.987086",
   "environment_variables": {},
   "exception": null,
   "input_path": "eBay_Overview.ipynb",
   "output_path": "eBay_Overview.ipynb",
   "parameters": {},
   "start_time": "2021-12-21T11:00:05.270193",
   "version": "2.3.3"
  }
 },
 "nbformat": 4,
 "nbformat_minor": 5
}