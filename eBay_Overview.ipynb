{
 "cells": [
  {
   "cell_type": "code",
   "execution_count": 1,
   "id": "reverse-picking",
   "metadata": {
    "execution": {
     "iopub.execute_input": "2021-08-25T01:30:06.952087Z",
     "iopub.status.busy": "2021-08-25T01:30:06.950104Z",
     "iopub.status.idle": "2021-08-25T01:30:07.760469Z",
     "shell.execute_reply": "2021-08-25T01:30:07.758889Z"
    },
    "papermill": {
     "duration": 0.861526,
     "end_time": "2021-08-25T01:30:07.760864",
     "exception": false,
     "start_time": "2021-08-25T01:30:06.899338",
     "status": "completed"
    },
    "tags": []
   },
   "outputs": [],
   "source": [
    "import pandas as pd\n",
    "import sqlite3"
   ]
  },
  {
   "cell_type": "code",
   "execution_count": 2,
   "id": "innovative-syndrome",
   "metadata": {
    "execution": {
     "iopub.execute_input": "2021-08-25T01:30:07.815194Z",
     "iopub.status.busy": "2021-08-25T01:30:07.812798Z",
     "iopub.status.idle": "2021-08-25T01:30:07.937143Z",
     "shell.execute_reply": "2021-08-25T01:30:07.938438Z"
    },
    "papermill": {
     "duration": 0.154638,
     "end_time": "2021-08-25T01:30:07.938847",
     "exception": false,
     "start_time": "2021-08-25T01:30:07.784209",
     "status": "completed"
    },
    "tags": []
   },
   "outputs": [],
   "source": [
    "timestamps = pd.read_sql(\"select distinct record_time from EBAY_TOP_BERLIN order by record_time desc limit 2\", sqlite3.connect(\"UsedObjects.db\"))"
   ]
  },
  {
   "cell_type": "code",
   "execution_count": 3,
   "id": "periodic-identification",
   "metadata": {
    "execution": {
     "iopub.execute_input": "2021-08-25T01:30:08.003132Z",
     "iopub.status.busy": "2021-08-25T01:30:08.000915Z",
     "iopub.status.idle": "2021-08-25T01:30:08.020938Z",
     "shell.execute_reply": "2021-08-25T01:30:08.022173Z"
    },
    "papermill": {
     "duration": 0.064011,
     "end_time": "2021-08-25T01:30:08.022609",
     "exception": false,
     "start_time": "2021-08-25T01:30:07.958598",
     "status": "completed"
    },
    "tags": []
   },
   "outputs": [
    {
     "data": {
      "text/html": [
       "<div>\n",
       "<style scoped>\n",
       "    .dataframe tbody tr th:only-of-type {\n",
       "        vertical-align: middle;\n",
       "    }\n",
       "\n",
       "    .dataframe tbody tr th {\n",
       "        vertical-align: top;\n",
       "    }\n",
       "\n",
       "    .dataframe thead th {\n",
       "        text-align: right;\n",
       "    }\n",
       "</style>\n",
       "<table border=\"1\" class=\"dataframe\">\n",
       "  <thead>\n",
       "    <tr style=\"text-align: right;\">\n",
       "      <th></th>\n",
       "      <th>RECORD_TIME</th>\n",
       "    </tr>\n",
       "  </thead>\n",
       "  <tbody>\n",
       "    <tr>\n",
       "      <th>0</th>\n",
       "      <td>2021-08-25 03:30</td>\n",
       "    </tr>\n",
       "    <tr>\n",
       "      <th>1</th>\n",
       "      <td>2021-08-25 03:00</td>\n",
       "    </tr>\n",
       "  </tbody>\n",
       "</table>\n",
       "</div>"
      ],
      "text/plain": [
       "        RECORD_TIME\n",
       "0  2021-08-25 03:30\n",
       "1  2021-08-25 03:00"
      ]
     },
     "execution_count": 3,
     "metadata": {},
     "output_type": "execute_result"
    }
   ],
   "source": [
    "timestamps"
   ]
  },
  {
   "cell_type": "code",
   "execution_count": 4,
   "id": "alternate-victory",
   "metadata": {
    "execution": {
     "iopub.execute_input": "2021-08-25T01:30:08.076040Z",
     "iopub.status.busy": "2021-08-25T01:30:08.073807Z",
     "iopub.status.idle": "2021-08-25T01:30:08.266727Z",
     "shell.execute_reply": "2021-08-25T01:30:08.267981Z"
    },
    "papermill": {
     "duration": 0.223086,
     "end_time": "2021-08-25T01:30:08.268384",
     "exception": false,
     "start_time": "2021-08-25T01:30:08.045298",
     "status": "completed"
    },
    "tags": []
   },
   "outputs": [],
   "source": [
    "df = pd.read_sql(\"select * from EBAY_TOP_BERLIN where record_time in (select distinct record_time from EBAY_TOP_BERLIN order by record_time desc limit 2)\", sqlite3.connect(\"UsedObjects.db\"))"
   ]
  },
  {
   "cell_type": "code",
   "execution_count": 5,
   "id": "popular-active",
   "metadata": {
    "execution": {
     "iopub.execute_input": "2021-08-25T01:30:08.342049Z",
     "iopub.status.busy": "2021-08-25T01:30:08.330111Z",
     "iopub.status.idle": "2021-08-25T01:30:08.357195Z",
     "shell.execute_reply": "2021-08-25T01:30:08.358492Z"
    },
    "papermill": {
     "duration": 0.068385,
     "end_time": "2021-08-25T01:30:08.358904",
     "exception": false,
     "start_time": "2021-08-25T01:30:08.290519",
     "status": "completed"
    },
    "tags": []
   },
   "outputs": [],
   "source": [
    "df_pivot = df.pivot_table(index=\"PRODUCT\", columns = \"RECORD_TIME\", values = \"LISTING_COUNT\")"
   ]
  },
  {
   "cell_type": "code",
   "execution_count": 6,
   "id": "union-huntington",
   "metadata": {
    "execution": {
     "iopub.execute_input": "2021-08-25T01:30:08.424470Z",
     "iopub.status.busy": "2021-08-25T01:30:08.422403Z",
     "iopub.status.idle": "2021-08-25T01:30:08.427677Z",
     "shell.execute_reply": "2021-08-25T01:30:08.428974Z"
    },
    "papermill": {
     "duration": 0.044519,
     "end_time": "2021-08-25T01:30:08.429397",
     "exception": false,
     "start_time": "2021-08-25T01:30:08.384878",
     "status": "completed"
    },
    "tags": []
   },
   "outputs": [],
   "source": [
    "df_pivot.columns = [\"stamp_1\", \"stamp_2\"]\n",
    "df_pivot_diff = df_pivot.diff(axis=1)"
   ]
  },
  {
   "cell_type": "code",
   "execution_count": 7,
   "id": "fifth-motion",
   "metadata": {
    "execution": {
     "iopub.execute_input": "2021-08-25T01:30:08.485651Z",
     "iopub.status.busy": "2021-08-25T01:30:08.483028Z",
     "iopub.status.idle": "2021-08-25T01:30:09.984020Z",
     "shell.execute_reply": "2021-08-25T01:30:09.985331Z"
    },
    "papermill": {
     "duration": 1.534862,
     "end_time": "2021-08-25T01:30:09.985758",
     "exception": false,
     "start_time": "2021-08-25T01:30:08.450896",
     "status": "completed"
    },
    "tags": []
   },
   "outputs": [
    {
     "data": {
      "text/plain": [
       "<AxesSubplot:ylabel='PRODUCT'>"
      ]
     },
     "execution_count": 7,
     "metadata": {},
     "output_type": "execute_result"
    },
    {
     "data": {
      "image/png": "[encoded data removed]",
      "text/plain": [
       "<Figure size 432x288 with 1 Axes>"
      ]
     },
     "metadata": {
      "needs_background": "light"
     },
     "output_type": "display_data"
    }
   ],
   "source": [
    "df_pivot_diff.sort_values(\"stamp_2\", ascending = False)[\"stamp_2\"].head(10).plot.barh()"
   ]
  },
  {
   "cell_type": "code",
   "execution_count": null,
   "id": "extra-executive",
   "metadata": {
    "papermill": {
     "duration": 0.022373,
     "end_time": "2021-08-25T01:30:10.033585",
     "exception": false,
     "start_time": "2021-08-25T01:30:10.011212",
     "status": "completed"
    },
    "tags": []
   },
   "outputs": [],
   "source": []
  }
 ],
 "metadata": {
  "kernelspec": {
   "display_name": "Python 3",
   "language": "python",
   "name": "python3"
  },
  "language_info": {
   "codemirror_mode": {
    "name": "ipython",
    "version": 3
   },
   "file_extension": ".py",
   "mimetype": "text/x-python",
   "name": "python",
   "nbconvert_exporter": "python",
   "pygments_lexer": "ipython3",
   "version": "3.9.5"
  },
  "papermill": {
   "default_parameters": {},
   "duration": 6.832129,
   "end_time": "2021-08-25T01:30:11.313446",
   "environment_variables": {},
   "exception": null,
   "input_path": "eBay_Overview.ipynb",
   "output_path": "eBay_Overview.ipynb",
   "parameters": {},
   "start_time": "2021-08-25T01:30:04.481317",
   "version": "2.3.3"
  }
 },
 "nbformat": 4,
 "nbformat_minor": 5
}