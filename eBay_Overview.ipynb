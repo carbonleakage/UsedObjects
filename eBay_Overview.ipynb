{
 "cells": [
  {
   "cell_type": "code",
   "execution_count": 1,
   "id": "reverse-picking",
   "metadata": {
    "execution": {
     "iopub.execute_input": "2021-11-24T10:30:07.541133Z",
     "iopub.status.busy": "2021-11-24T10:30:07.538033Z",
     "iopub.status.idle": "2021-11-24T10:30:08.505882Z",
     "shell.execute_reply": "2021-11-24T10:30:08.507595Z"
    },
    "papermill": {
     "duration": 1.015306,
     "end_time": "2021-11-24T10:30:08.508330",
     "exception": false,
     "start_time": "2021-11-24T10:30:07.493024",
     "status": "completed"
    },
    "tags": []
   },
   "outputs": [],
   "source": [
    "import pandas as pd\n",
    "import sqlite3"
   ]
  },
  {
   "cell_type": "code",
   "execution_count": 2,
   "id": "innovative-syndrome",
   "metadata": {
    "execution": {
     "iopub.execute_input": "2021-11-24T10:30:08.570363Z",
     "iopub.status.busy": "2021-11-24T10:30:08.568063Z",
     "iopub.status.idle": "2021-11-24T10:30:09.474917Z",
     "shell.execute_reply": "2021-11-24T10:30:09.476420Z"
    },
    "papermill": {
     "duration": 0.940897,
     "end_time": "2021-11-24T10:30:09.477005",
     "exception": false,
     "start_time": "2021-11-24T10:30:08.536108",
     "status": "completed"
    },
    "tags": []
   },
   "outputs": [],
   "source": [
    "timestamps = pd.read_sql(\"select distinct record_time from EBAY_TOP_BERLIN order by record_time desc limit 2\", sqlite3.connect(\"UsedObjects.db\"))"
   ]
  },
  {
   "cell_type": "code",
   "execution_count": 3,
   "id": "periodic-identification",
   "metadata": {
    "execution": {
     "iopub.execute_input": "2021-11-24T10:30:09.550849Z",
     "iopub.status.busy": "2021-11-24T10:30:09.548261Z",
     "iopub.status.idle": "2021-11-24T10:30:09.571323Z",
     "shell.execute_reply": "2021-11-24T10:30:09.572883Z"
    },
    "papermill": {
     "duration": 0.076003,
     "end_time": "2021-11-24T10:30:09.573379",
     "exception": false,
     "start_time": "2021-11-24T10:30:09.497376",
     "status": "completed"
    },
    "tags": []
   },
   "outputs": [
    {
     "data": {
      "text/html": [
       "<div>\n",
       "<style scoped>\n",
       "    .dataframe tbody tr th:only-of-type {\n",
       "        vertical-align: middle;\n",
       "    }\n",
       "\n",
       "    .dataframe tbody tr th {\n",
       "        vertical-align: top;\n",
       "    }\n",
       "\n",
       "    .dataframe thead th {\n",
       "        text-align: right;\n",
       "    }\n",
       "</style>\n",
       "<table border=\"1\" class=\"dataframe\">\n",
       "  <thead>\n",
       "    <tr style=\"text-align: right;\">\n",
       "      <th></th>\n",
       "      <th>RECORD_TIME</th>\n",
       "    </tr>\n",
       "  </thead>\n",
       "  <tbody>\n",
       "    <tr>\n",
       "      <th>0</th>\n",
       "      <td>2021-11-24 11:30</td>\n",
       "    </tr>\n",
       "    <tr>\n",
       "      <th>1</th>\n",
       "      <td>2021-11-24 11:00</td>\n",
       "    </tr>\n",
       "  </tbody>\n",
       "</table>\n",
       "</div>"
      ],
      "text/plain": [
       "        RECORD_TIME\n",
       "0  2021-11-24 11:30\n",
       "1  2021-11-24 11:00"
      ]
     },
     "execution_count": 3,
     "metadata": {},
     "output_type": "execute_result"
    }
   ],
   "source": [
    "timestamps"
   ]
  },
  {
   "cell_type": "code",
   "execution_count": 4,
   "id": "alternate-victory",
   "metadata": {
    "execution": {
     "iopub.execute_input": "2021-11-24T10:30:09.628634Z",
     "iopub.status.busy": "2021-11-24T10:30:09.626422Z",
     "iopub.status.idle": "2021-11-24T10:30:10.957416Z",
     "shell.execute_reply": "2021-11-24T10:30:10.961071Z"
    },
    "papermill": {
     "duration": 1.366982,
     "end_time": "2021-11-24T10:30:10.961886",
     "exception": false,
     "start_time": "2021-11-24T10:30:09.594904",
     "status": "completed"
    },
    "tags": []
   },
   "outputs": [],
   "source": [
    "df = pd.read_sql(\"select * from EBAY_TOP_BERLIN where record_time in (select distinct record_time from EBAY_TOP_BERLIN order by record_time desc limit 2)\", sqlite3.connect(\"UsedObjects.db\"))"
   ]
  },
  {
   "cell_type": "code",
   "execution_count": 5,
   "id": "popular-active",
   "metadata": {
    "execution": {
     "iopub.execute_input": "2021-11-24T10:30:11.030446Z",
     "iopub.status.busy": "2021-11-24T10:30:11.027990Z",
     "iopub.status.idle": "2021-11-24T10:30:11.062732Z",
     "shell.execute_reply": "2021-11-24T10:30:11.064318Z"
    },
    "papermill": {
     "duration": 0.078511,
     "end_time": "2021-11-24T10:30:11.064914",
     "exception": false,
     "start_time": "2021-11-24T10:30:10.986403",
     "status": "completed"
    },
    "tags": []
   },
   "outputs": [],
   "source": [
    "df_pivot = df.pivot_table(index=\"PRODUCT\", columns = \"RECORD_TIME\", values = \"LISTING_COUNT\")"
   ]
  },
  {
   "cell_type": "code",
   "execution_count": 6,
   "id": "union-huntington",
   "metadata": {
    "execution": {
     "iopub.execute_input": "2021-11-24T10:30:11.123763Z",
     "iopub.status.busy": "2021-11-24T10:30:11.121632Z",
     "iopub.status.idle": "2021-11-24T10:30:11.126376Z",
     "shell.execute_reply": "2021-11-24T10:30:11.127987Z"
    },
    "papermill": {
     "duration": 0.043642,
     "end_time": "2021-11-24T10:30:11.128432",
     "exception": false,
     "start_time": "2021-11-24T10:30:11.084790",
     "status": "completed"
    },
    "tags": []
   },
   "outputs": [],
   "source": [
    "df_pivot.columns = [\"stamp_1\", \"stamp_2\"]\n",
    "df_pivot_diff = df_pivot.diff(axis=1)"
   ]
  },
  {
   "cell_type": "code",
   "execution_count": 7,
   "id": "fifth-motion",
   "metadata": {
    "execution": {
     "iopub.execute_input": "2021-11-24T10:30:11.186434Z",
     "iopub.status.busy": "2021-11-24T10:30:11.183839Z",
     "iopub.status.idle": "2021-11-24T10:30:13.068874Z",
     "shell.execute_reply": "2021-11-24T10:30:13.070895Z"
    },
    "papermill": {
     "duration": 1.921994,
     "end_time": "2021-11-24T10:30:13.071532",
     "exception": false,
     "start_time": "2021-11-24T10:30:11.149538",
     "status": "completed"
    },
    "tags": []
   },
   "outputs": [
    {
     "data": {
      "text/plain": [
       "<AxesSubplot:ylabel='PRODUCT'>"
      ]
     },
     "execution_count": 7,
     "metadata": {},
     "output_type": "execute_result"
    },
    {
     "data": {
      "image/png": "[encoded data removed]",
      "text/plain": [
       "<Figure size 432x288 with 1 Axes>"
      ]
     },
     "metadata": {
      "needs_background": "light"
     },
     "output_type": "display_data"
    }
   ],
   "source": [
    "df_pivot_diff.sort_values(\"stamp_2\", ascending = False)[\"stamp_2\"].head(10).plot.barh()"
   ]
  },
  {
   "cell_type": "code",
   "execution_count": null,
   "id": "extra-executive",
   "metadata": {
    "papermill": {
     "duration": 0.024458,
     "end_time": "2021-11-24T10:30:13.124940",
     "exception": false,
     "start_time": "2021-11-24T10:30:13.100482",
     "status": "completed"
    },
    "tags": []
   },
   "outputs": [],
   "source": []
  }
 ],
 "metadata": {
  "kernelspec": {
   "display_name": "Python 3",
   "language": "python",
   "name": "python3"
  },
  "language_info": {
   "codemirror_mode": {
    "name": "ipython",
    "version": 3
   },
   "file_extension": ".py",
   "mimetype": "text/x-python",
   "name": "python",
   "nbconvert_exporter": "python",
   "pygments_lexer": "ipython3",
   "version": "3.9.5"
  },
  "papermill": {
   "default_parameters": {},
   "duration": 9.958864,
   "end_time": "2021-11-24T10:30:14.685748",
   "environment_variables": {},
   "exception": null,
   "input_path": "eBay_Overview.ipynb",
   "output_path": "eBay_Overview.ipynb",
   "parameters": {},
   "start_time": "2021-11-24T10:30:04.726884",
   "version": "2.3.3"
  }
 },
 "nbformat": 4,
 "nbformat_minor": 5
}