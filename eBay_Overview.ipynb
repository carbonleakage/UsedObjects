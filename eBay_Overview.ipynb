{
 "cells": [
  {
   "cell_type": "code",
   "execution_count": 1,
   "id": "reverse-picking",
   "metadata": {
    "execution": {
     "iopub.execute_input": "2021-12-02T09:00:07.251096Z",
     "iopub.status.busy": "2021-12-02T09:00:07.248668Z",
     "iopub.status.idle": "2021-12-02T09:00:08.201182Z",
     "shell.execute_reply": "2021-12-02T09:00:08.202808Z"
    },
    "papermill": {
     "duration": 1.002613,
     "end_time": "2021-12-02T09:00:08.203568",
     "exception": false,
     "start_time": "2021-12-02T09:00:07.200955",
     "status": "completed"
    },
    "tags": []
   },
   "outputs": [],
   "source": [
    "import pandas as pd\n",
    "import sqlite3"
   ]
  },
  {
   "cell_type": "code",
   "execution_count": 2,
   "id": "innovative-syndrome",
   "metadata": {
    "execution": {
     "iopub.execute_input": "2021-12-02T09:00:08.265611Z",
     "iopub.status.busy": "2021-12-02T09:00:08.263055Z",
     "iopub.status.idle": "2021-12-02T09:00:09.298471Z",
     "shell.execute_reply": "2021-12-02T09:00:09.300615Z"
    },
    "papermill": {
     "duration": 1.069928,
     "end_time": "2021-12-02T09:00:09.301148",
     "exception": false,
     "start_time": "2021-12-02T09:00:08.231220",
     "status": "completed"
    },
    "tags": []
   },
   "outputs": [],
   "source": [
    "timestamps = pd.read_sql(\"select distinct record_time from EBAY_TOP_BERLIN order by record_time desc limit 2\", sqlite3.connect(\"UsedObjects.db\"))"
   ]
  },
  {
   "cell_type": "code",
   "execution_count": 3,
   "id": "periodic-identification",
   "metadata": {
    "execution": {
     "iopub.execute_input": "2021-12-02T09:00:09.372466Z",
     "iopub.status.busy": "2021-12-02T09:00:09.369321Z",
     "iopub.status.idle": "2021-12-02T09:00:09.391297Z",
     "shell.execute_reply": "2021-12-02T09:00:09.393049Z"
    },
    "papermill": {
     "duration": 0.072089,
     "end_time": "2021-12-02T09:00:09.393554",
     "exception": false,
     "start_time": "2021-12-02T09:00:09.321465",
     "status": "completed"
    },
    "tags": []
   },
   "outputs": [
    {
     "data": {
      "text/html": [
       "<div>\n",
       "<style scoped>\n",
       "    .dataframe tbody tr th:only-of-type {\n",
       "        vertical-align: middle;\n",
       "    }\n",
       "\n",
       "    .dataframe tbody tr th {\n",
       "        vertical-align: top;\n",
       "    }\n",
       "\n",
       "    .dataframe thead th {\n",
       "        text-align: right;\n",
       "    }\n",
       "</style>\n",
       "<table border=\"1\" class=\"dataframe\">\n",
       "  <thead>\n",
       "    <tr style=\"text-align: right;\">\n",
       "      <th></th>\n",
       "      <th>RECORD_TIME</th>\n",
       "    </tr>\n",
       "  </thead>\n",
       "  <tbody>\n",
       "    <tr>\n",
       "      <th>0</th>\n",
       "      <td>2021-12-02 10:00</td>\n",
       "    </tr>\n",
       "    <tr>\n",
       "      <th>1</th>\n",
       "      <td>2021-12-02 09:30</td>\n",
       "    </tr>\n",
       "  </tbody>\n",
       "</table>\n",
       "</div>"
      ],
      "text/plain": [
       "        RECORD_TIME\n",
       "0  2021-12-02 10:00\n",
       "1  2021-12-02 09:30"
      ]
     },
     "execution_count": 3,
     "metadata": {},
     "output_type": "execute_result"
    }
   ],
   "source": [
    "timestamps"
   ]
  },
  {
   "cell_type": "code",
   "execution_count": 4,
   "id": "alternate-victory",
   "metadata": {
    "execution": {
     "iopub.execute_input": "2021-12-02T09:00:09.449408Z",
     "iopub.status.busy": "2021-12-02T09:00:09.447398Z",
     "iopub.status.idle": "2021-12-02T09:00:10.849132Z",
     "shell.execute_reply": "2021-12-02T09:00:10.850668Z"
    },
    "papermill": {
     "duration": 1.432165,
     "end_time": "2021-12-02T09:00:10.851187",
     "exception": false,
     "start_time": "2021-12-02T09:00:09.419022",
     "status": "completed"
    },
    "tags": []
   },
   "outputs": [],
   "source": [
    "df = pd.read_sql(\"select * from EBAY_TOP_BERLIN where record_time in (select distinct record_time from EBAY_TOP_BERLIN order by record_time desc limit 2)\", sqlite3.connect(\"UsedObjects.db\"))"
   ]
  },
  {
   "cell_type": "code",
   "execution_count": 5,
   "id": "popular-active",
   "metadata": {
    "execution": {
     "iopub.execute_input": "2021-12-02T09:00:10.926605Z",
     "iopub.status.busy": "2021-12-02T09:00:10.913313Z",
     "iopub.status.idle": "2021-12-02T09:00:10.944384Z",
     "shell.execute_reply": "2021-12-02T09:00:10.945819Z"
    },
    "papermill": {
     "duration": 0.073747,
     "end_time": "2021-12-02T09:00:10.946291",
     "exception": false,
     "start_time": "2021-12-02T09:00:10.872544",
     "status": "completed"
    },
    "tags": []
   },
   "outputs": [],
   "source": [
    "df_pivot = df.pivot_table(index=\"PRODUCT\", columns = \"RECORD_TIME\", values = \"LISTING_COUNT\")"
   ]
  },
  {
   "cell_type": "code",
   "execution_count": 6,
   "id": "union-huntington",
   "metadata": {
    "execution": {
     "iopub.execute_input": "2021-12-02T09:00:11.009601Z",
     "iopub.status.busy": "2021-12-02T09:00:11.007194Z",
     "iopub.status.idle": "2021-12-02T09:00:11.013549Z",
     "shell.execute_reply": "2021-12-02T09:00:11.015166Z"
    },
    "papermill": {
     "duration": 0.048893,
     "end_time": "2021-12-02T09:00:11.015663",
     "exception": false,
     "start_time": "2021-12-02T09:00:10.966770",
     "status": "completed"
    },
    "tags": []
   },
   "outputs": [],
   "source": [
    "df_pivot.columns = [\"stamp_1\", \"stamp_2\"]\n",
    "df_pivot_diff = df_pivot.diff(axis=1)"
   ]
  },
  {
   "cell_type": "code",
   "execution_count": 7,
   "id": "fifth-motion",
   "metadata": {
    "execution": {
     "iopub.execute_input": "2021-12-02T09:00:11.080475Z",
     "iopub.status.busy": "2021-12-02T09:00:11.077765Z",
     "iopub.status.idle": "2021-12-02T09:00:12.996769Z",
     "shell.execute_reply": "2021-12-02T09:00:12.999727Z"
    },
    "papermill": {
     "duration": 1.963349,
     "end_time": "2021-12-02T09:00:13.000449",
     "exception": false,
     "start_time": "2021-12-02T09:00:11.037100",
     "status": "completed"
    },
    "tags": []
   },
   "outputs": [
    {
     "data": {
      "text/plain": [
       "<AxesSubplot:ylabel='PRODUCT'>"
      ]
     },
     "execution_count": 7,
     "metadata": {},
     "output_type": "execute_result"
    },
    {
     "data": {
      "image/png": "[encoded data removed]",
      "text/plain": [
       "<Figure size 432x288 with 1 Axes>"
      ]
     },
     "metadata": {
      "needs_background": "light"
     },
     "output_type": "display_data"
    }
   ],
   "source": [
    "df_pivot_diff.sort_values(\"stamp_2\", ascending = False)[\"stamp_2\"].head(10).plot.barh()"
   ]
  },
  {
   "cell_type": "code",
   "execution_count": null,
   "id": "extra-executive",
   "metadata": {
    "papermill": {
     "duration": 0.026709,
     "end_time": "2021-12-02T09:00:13.060373",
     "exception": false,
     "start_time": "2021-12-02T09:00:13.033664",
     "status": "completed"
    },
    "tags": []
   },
   "outputs": [],
   "source": []
  }
 ],
 "metadata": {
  "kernelspec": {
   "display_name": "Python 3",
   "language": "python",
   "name": "python3"
  },
  "language_info": {
   "codemirror_mode": {
    "name": "ipython",
    "version": 3
   },
   "file_extension": ".py",
   "mimetype": "text/x-python",
   "name": "python",
   "nbconvert_exporter": "python",
   "pygments_lexer": "ipython3",
   "version": "3.9.5"
  },
  "papermill": {
   "default_parameters": {},
   "duration": 9.944763,
   "end_time": "2021-12-02T09:00:14.416543",
   "environment_variables": {},
   "exception": null,
   "input_path": "eBay_Overview.ipynb",
   "output_path": "eBay_Overview.ipynb",
   "parameters": {},
   "start_time": "2021-12-02T09:00:04.471780",
   "version": "2.3.3"
  }
 },
 "nbformat": 4,
 "nbformat_minor": 5
}