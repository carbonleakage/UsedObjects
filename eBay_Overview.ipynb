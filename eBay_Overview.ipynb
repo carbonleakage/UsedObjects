{
 "cells": [
  {
   "cell_type": "code",
   "execution_count": 1,
   "id": "reverse-picking",
   "metadata": {
    "execution": {
     "iopub.execute_input": "2021-12-22T20:00:08.057667Z",
     "iopub.status.busy": "2021-12-22T20:00:08.055224Z",
     "iopub.status.idle": "2021-12-22T20:00:09.025744Z",
     "shell.execute_reply": "2021-12-22T20:00:09.027275Z"
    },
    "papermill": {
     "duration": 1.020679,
     "end_time": "2021-12-22T20:00:09.028001",
     "exception": false,
     "start_time": "2021-12-22T20:00:08.007322",
     "status": "completed"
    },
    "tags": []
   },
   "outputs": [],
   "source": [
    "import pandas as pd\n",
    "import sqlite3"
   ]
  },
  {
   "cell_type": "code",
   "execution_count": 2,
   "id": "innovative-syndrome",
   "metadata": {
    "execution": {
     "iopub.execute_input": "2021-12-22T20:00:09.090397Z",
     "iopub.status.busy": "2021-12-22T20:00:09.087902Z",
     "iopub.status.idle": "2021-12-22T20:00:10.251543Z",
     "shell.execute_reply": "2021-12-22T20:00:10.253666Z"
    },
    "papermill": {
     "duration": 1.199012,
     "end_time": "2021-12-22T20:00:10.254089",
     "exception": false,
     "start_time": "2021-12-22T20:00:09.055077",
     "status": "completed"
    },
    "tags": []
   },
   "outputs": [],
   "source": [
    "timestamps = pd.read_sql(\"select distinct record_time from EBAY_TOP_BERLIN order by record_time desc limit 2\", sqlite3.connect(\"UsedObjects.db\"))"
   ]
  },
  {
   "cell_type": "code",
   "execution_count": 3,
   "id": "periodic-identification",
   "metadata": {
    "execution": {
     "iopub.execute_input": "2021-12-22T20:00:10.326406Z",
     "iopub.status.busy": "2021-12-22T20:00:10.323984Z",
     "iopub.status.idle": "2021-12-22T20:00:10.347702Z",
     "shell.execute_reply": "2021-12-22T20:00:10.349335Z"
    },
    "papermill": {
     "duration": 0.074866,
     "end_time": "2021-12-22T20:00:10.349808",
     "exception": false,
     "start_time": "2021-12-22T20:00:10.274942",
     "status": "completed"
    },
    "tags": []
   },
   "outputs": [
    {
     "data": {
      "text/html": [
       "<div>\n",
       "<style scoped>\n",
       "    .dataframe tbody tr th:only-of-type {\n",
       "        vertical-align: middle;\n",
       "    }\n",
       "\n",
       "    .dataframe tbody tr th {\n",
       "        vertical-align: top;\n",
       "    }\n",
       "\n",
       "    .dataframe thead th {\n",
       "        text-align: right;\n",
       "    }\n",
       "</style>\n",
       "<table border=\"1\" class=\"dataframe\">\n",
       "  <thead>\n",
       "    <tr style=\"text-align: right;\">\n",
       "      <th></th>\n",
       "      <th>RECORD_TIME</th>\n",
       "    </tr>\n",
       "  </thead>\n",
       "  <tbody>\n",
       "    <tr>\n",
       "      <th>0</th>\n",
       "      <td>2021-12-22 21:00</td>\n",
       "    </tr>\n",
       "    <tr>\n",
       "      <th>1</th>\n",
       "      <td>2021-12-22 20:30</td>\n",
       "    </tr>\n",
       "  </tbody>\n",
       "</table>\n",
       "</div>"
      ],
      "text/plain": [
       "        RECORD_TIME\n",
       "0  2021-12-22 21:00\n",
       "1  2021-12-22 20:30"
      ]
     },
     "execution_count": 3,
     "metadata": {},
     "output_type": "execute_result"
    }
   ],
   "source": [
    "timestamps"
   ]
  },
  {
   "cell_type": "code",
   "execution_count": 4,
   "id": "alternate-victory",
   "metadata": {
    "execution": {
     "iopub.execute_input": "2021-12-22T20:00:10.405916Z",
     "iopub.status.busy": "2021-12-22T20:00:10.403513Z",
     "iopub.status.idle": "2021-12-22T20:00:12.152865Z",
     "shell.execute_reply": "2021-12-22T20:00:12.154776Z"
    },
    "papermill": {
     "duration": 1.784199,
     "end_time": "2021-12-22T20:00:12.155260",
     "exception": false,
     "start_time": "2021-12-22T20:00:10.371061",
     "status": "completed"
    },
    "tags": []
   },
   "outputs": [],
   "source": [
    "df = pd.read_sql(\"select * from EBAY_TOP_BERLIN where record_time in (select distinct record_time from EBAY_TOP_BERLIN order by record_time desc limit 2)\", sqlite3.connect(\"UsedObjects.db\"))"
   ]
  },
  {
   "cell_type": "code",
   "execution_count": 5,
   "id": "popular-active",
   "metadata": {
    "execution": {
     "iopub.execute_input": "2021-12-22T20:00:12.234330Z",
     "iopub.status.busy": "2021-12-22T20:00:12.219634Z",
     "iopub.status.idle": "2021-12-22T20:00:12.256744Z",
     "shell.execute_reply": "2021-12-22T20:00:12.258374Z"
    },
    "papermill": {
     "duration": 0.082227,
     "end_time": "2021-12-22T20:00:12.258858",
     "exception": false,
     "start_time": "2021-12-22T20:00:12.176631",
     "status": "completed"
    },
    "tags": []
   },
   "outputs": [],
   "source": [
    "df_pivot = df.pivot_table(index=\"PRODUCT\", columns = \"RECORD_TIME\", values = \"LISTING_COUNT\")"
   ]
  },
  {
   "cell_type": "code",
   "execution_count": 6,
   "id": "union-huntington",
   "metadata": {
    "execution": {
     "iopub.execute_input": "2021-12-22T20:00:12.317220Z",
     "iopub.status.busy": "2021-12-22T20:00:12.314914Z",
     "iopub.status.idle": "2021-12-22T20:00:12.320979Z",
     "shell.execute_reply": "2021-12-22T20:00:12.322366Z"
    },
    "papermill": {
     "duration": 0.043716,
     "end_time": "2021-12-22T20:00:12.322841",
     "exception": false,
     "start_time": "2021-12-22T20:00:12.279125",
     "status": "completed"
    },
    "tags": []
   },
   "outputs": [],
   "source": [
    "df_pivot.columns = [\"stamp_1\", \"stamp_2\"]\n",
    "df_pivot_diff = df_pivot.diff(axis=1)"
   ]
  },
  {
   "cell_type": "code",
   "execution_count": 7,
   "id": "fifth-motion",
   "metadata": {
    "execution": {
     "iopub.execute_input": "2021-12-22T20:00:12.378814Z",
     "iopub.status.busy": "2021-12-22T20:00:12.376206Z",
     "iopub.status.idle": "2021-12-22T20:00:14.328765Z",
     "shell.execute_reply": "2021-12-22T20:00:14.330092Z"
    },
    "papermill": {
     "duration": 1.98768,
     "end_time": "2021-12-22T20:00:14.330514",
     "exception": false,
     "start_time": "2021-12-22T20:00:12.342834",
     "status": "completed"
    },
    "tags": []
   },
   "outputs": [
    {
     "data": {
      "text/plain": [
       "<AxesSubplot:ylabel='PRODUCT'>"
      ]
     },
     "execution_count": 7,
     "metadata": {},
     "output_type": "execute_result"
    },
    {
     "data": {
      "image/png": "[encoded data removed]",
      "text/plain": [
       "<Figure size 432x288 with 1 Axes>"
      ]
     },
     "metadata": {
      "needs_background": "light"
     },
     "output_type": "display_data"
    }
   ],
   "source": [
    "df_pivot_diff.sort_values(\"stamp_2\", ascending = False)[\"stamp_2\"].head(10).plot.barh()"
   ]
  },
  {
   "cell_type": "code",
   "execution_count": null,
   "id": "extra-executive",
   "metadata": {
    "papermill": {
     "duration": 0.022211,
     "end_time": "2021-12-22T20:00:14.377526",
     "exception": false,
     "start_time": "2021-12-22T20:00:14.355315",
     "status": "completed"
    },
    "tags": []
   },
   "outputs": [],
   "source": []
  }
 ],
 "metadata": {
  "kernelspec": {
   "display_name": "Python 3",
   "language": "python",
   "name": "python3"
  },
  "language_info": {
   "codemirror_mode": {
    "name": "ipython",
    "version": 3
   },
   "file_extension": ".py",
   "mimetype": "text/x-python",
   "name": "python",
   "nbconvert_exporter": "python",
   "pygments_lexer": "ipython3",
   "version": "3.9.5"
  },
  "papermill": {
   "default_parameters": {},
   "duration": 9.750244,
   "end_time": "2021-12-22T20:00:15.018448",
   "environment_variables": {},
   "exception": null,
   "input_path": "eBay_Overview.ipynb",
   "output_path": "eBay_Overview.ipynb",
   "parameters": {},
   "start_time": "2021-12-22T20:00:05.268204",
   "version": "2.3.3"
  }
 },
 "nbformat": 4,
 "nbformat_minor": 5
}