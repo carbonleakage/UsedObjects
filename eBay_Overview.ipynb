{
 "cells": [
  {
   "cell_type": "code",
   "execution_count": 1,
   "id": "reverse-picking",
   "metadata": {
    "execution": {
     "iopub.execute_input": "2021-12-10T22:30:07.553606Z",
     "iopub.status.busy": "2021-12-10T22:30:07.551136Z",
     "iopub.status.idle": "2021-12-10T22:30:08.495964Z",
     "shell.execute_reply": "2021-12-10T22:30:08.497540Z"
    },
    "papermill": {
     "duration": 0.993665,
     "end_time": "2021-12-10T22:30:08.498247",
     "exception": false,
     "start_time": "2021-12-10T22:30:07.504582",
     "status": "completed"
    },
    "tags": []
   },
   "outputs": [],
   "source": [
    "import pandas as pd\n",
    "import sqlite3"
   ]
  },
  {
   "cell_type": "code",
   "execution_count": 2,
   "id": "innovative-syndrome",
   "metadata": {
    "execution": {
     "iopub.execute_input": "2021-12-10T22:30:08.564417Z",
     "iopub.status.busy": "2021-12-10T22:30:08.562288Z",
     "iopub.status.idle": "2021-12-10T22:30:09.581765Z",
     "shell.execute_reply": "2021-12-10T22:30:09.583144Z"
    },
    "papermill": {
     "duration": 1.052643,
     "end_time": "2021-12-10T22:30:09.583605",
     "exception": false,
     "start_time": "2021-12-10T22:30:08.530962",
     "status": "completed"
    },
    "tags": []
   },
   "outputs": [],
   "source": [
    "timestamps = pd.read_sql(\"select distinct record_time from EBAY_TOP_BERLIN order by record_time desc limit 2\", sqlite3.connect(\"UsedObjects.db\"))"
   ]
  },
  {
   "cell_type": "code",
   "execution_count": 3,
   "id": "periodic-identification",
   "metadata": {
    "execution": {
     "iopub.execute_input": "2021-12-10T22:30:09.652304Z",
     "iopub.status.busy": "2021-12-10T22:30:09.650098Z",
     "iopub.status.idle": "2021-12-10T22:30:09.671948Z",
     "shell.execute_reply": "2021-12-10T22:30:09.673451Z"
    },
    "papermill": {
     "duration": 0.070748,
     "end_time": "2021-12-10T22:30:09.673934",
     "exception": false,
     "start_time": "2021-12-10T22:30:09.603186",
     "status": "completed"
    },
    "tags": []
   },
   "outputs": [
    {
     "data": {
      "text/html": [
       "<div>\n",
       "<style scoped>\n",
       "    .dataframe tbody tr th:only-of-type {\n",
       "        vertical-align: middle;\n",
       "    }\n",
       "\n",
       "    .dataframe tbody tr th {\n",
       "        vertical-align: top;\n",
       "    }\n",
       "\n",
       "    .dataframe thead th {\n",
       "        text-align: right;\n",
       "    }\n",
       "</style>\n",
       "<table border=\"1\" class=\"dataframe\">\n",
       "  <thead>\n",
       "    <tr style=\"text-align: right;\">\n",
       "      <th></th>\n",
       "      <th>RECORD_TIME</th>\n",
       "    </tr>\n",
       "  </thead>\n",
       "  <tbody>\n",
       "    <tr>\n",
       "      <th>0</th>\n",
       "      <td>2021-12-10 23:30</td>\n",
       "    </tr>\n",
       "    <tr>\n",
       "      <th>1</th>\n",
       "      <td>2021-12-10 23:00</td>\n",
       "    </tr>\n",
       "  </tbody>\n",
       "</table>\n",
       "</div>"
      ],
      "text/plain": [
       "        RECORD_TIME\n",
       "0  2021-12-10 23:30\n",
       "1  2021-12-10 23:00"
      ]
     },
     "execution_count": 3,
     "metadata": {},
     "output_type": "execute_result"
    }
   ],
   "source": [
    "timestamps"
   ]
  },
  {
   "cell_type": "code",
   "execution_count": 4,
   "id": "alternate-victory",
   "metadata": {
    "execution": {
     "iopub.execute_input": "2021-12-10T22:30:09.730241Z",
     "iopub.status.busy": "2021-12-10T22:30:09.727973Z",
     "iopub.status.idle": "2021-12-10T22:30:11.211666Z",
     "shell.execute_reply": "2021-12-10T22:30:11.213362Z"
    },
    "papermill": {
     "duration": 1.518374,
     "end_time": "2021-12-10T22:30:11.213868",
     "exception": false,
     "start_time": "2021-12-10T22:30:09.695494",
     "status": "completed"
    },
    "tags": []
   },
   "outputs": [],
   "source": [
    "df = pd.read_sql(\"select * from EBAY_TOP_BERLIN where record_time in (select distinct record_time from EBAY_TOP_BERLIN order by record_time desc limit 2)\", sqlite3.connect(\"UsedObjects.db\"))"
   ]
  },
  {
   "cell_type": "code",
   "execution_count": 5,
   "id": "popular-active",
   "metadata": {
    "execution": {
     "iopub.execute_input": "2021-12-10T22:30:11.292161Z",
     "iopub.status.busy": "2021-12-10T22:30:11.277656Z",
     "iopub.status.idle": "2021-12-10T22:30:11.311290Z",
     "shell.execute_reply": "2021-12-10T22:30:11.312769Z"
    },
    "papermill": {
     "duration": 0.076845,
     "end_time": "2021-12-10T22:30:11.313225",
     "exception": false,
     "start_time": "2021-12-10T22:30:11.236380",
     "status": "completed"
    },
    "tags": []
   },
   "outputs": [],
   "source": [
    "df_pivot = df.pivot_table(index=\"PRODUCT\", columns = \"RECORD_TIME\", values = \"LISTING_COUNT\")"
   ]
  },
  {
   "cell_type": "code",
   "execution_count": 6,
   "id": "union-huntington",
   "metadata": {
    "execution": {
     "iopub.execute_input": "2021-12-10T22:30:11.373469Z",
     "iopub.status.busy": "2021-12-10T22:30:11.371148Z",
     "iopub.status.idle": "2021-12-10T22:30:11.376240Z",
     "shell.execute_reply": "2021-12-10T22:30:11.377941Z"
    },
    "papermill": {
     "duration": 0.045177,
     "end_time": "2021-12-10T22:30:11.378438",
     "exception": false,
     "start_time": "2021-12-10T22:30:11.333261",
     "status": "completed"
    },
    "tags": []
   },
   "outputs": [],
   "source": [
    "df_pivot.columns = [\"stamp_1\", \"stamp_2\"]\n",
    "df_pivot_diff = df_pivot.diff(axis=1)"
   ]
  },
  {
   "cell_type": "code",
   "execution_count": 7,
   "id": "fifth-motion",
   "metadata": {
    "execution": {
     "iopub.execute_input": "2021-12-10T22:30:11.447800Z",
     "iopub.status.busy": "2021-12-10T22:30:11.435647Z",
     "iopub.status.idle": "2021-12-10T22:30:13.311919Z",
     "shell.execute_reply": "2021-12-10T22:30:13.313378Z"
    },
    "papermill": {
     "duration": 1.912455,
     "end_time": "2021-12-10T22:30:13.313829",
     "exception": false,
     "start_time": "2021-12-10T22:30:11.401374",
     "status": "completed"
    },
    "tags": []
   },
   "outputs": [
    {
     "data": {
      "text/plain": [
       "<AxesSubplot:ylabel='PRODUCT'>"
      ]
     },
     "execution_count": 7,
     "metadata": {},
     "output_type": "execute_result"
    },
    {
     "data": {
      "image/png": "[encoded data removed]",
      "text/plain": [
       "<Figure size 432x288 with 1 Axes>"
      ]
     },
     "metadata": {
      "needs_background": "light"
     },
     "output_type": "display_data"
    }
   ],
   "source": [
    "df_pivot_diff.sort_values(\"stamp_2\", ascending = False)[\"stamp_2\"].head(10).plot.barh()"
   ]
  },
  {
   "cell_type": "code",
   "execution_count": null,
   "id": "extra-executive",
   "metadata": {
    "papermill": {
     "duration": 0.023352,
     "end_time": "2021-12-10T22:30:13.362345",
     "exception": false,
     "start_time": "2021-12-10T22:30:13.338993",
     "status": "completed"
    },
    "tags": []
   },
   "outputs": [],
   "source": []
  }
 ],
 "metadata": {
  "kernelspec": {
   "display_name": "Python 3",
   "language": "python",
   "name": "python3"
  },
  "language_info": {
   "codemirror_mode": {
    "name": "ipython",
    "version": 3
   },
   "file_extension": ".py",
   "mimetype": "text/x-python",
   "name": "python",
   "nbconvert_exporter": "python",
   "pygments_lexer": "ipython3",
   "version": "3.9.5"
  },
  "papermill": {
   "default_parameters": {},
   "duration": 10.007834,
   "end_time": "2021-12-10T22:30:14.721037",
   "environment_variables": {},
   "exception": null,
   "input_path": "eBay_Overview.ipynb",
   "output_path": "eBay_Overview.ipynb",
   "parameters": {},
   "start_time": "2021-12-10T22:30:04.713203",
   "version": "2.3.3"
  }
 },
 "nbformat": 4,
 "nbformat_minor": 5
}