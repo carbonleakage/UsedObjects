{
 "cells": [
  {
   "cell_type": "code",
   "execution_count": 1,
   "id": "reverse-picking",
   "metadata": {
    "execution": {
     "iopub.execute_input": "2021-12-12T23:30:07.780428Z",
     "iopub.status.busy": "2021-12-12T23:30:07.778157Z",
     "iopub.status.idle": "2021-12-12T23:30:08.728934Z",
     "shell.execute_reply": "2021-12-12T23:30:08.730554Z"
    },
    "papermill": {
     "duration": 1.00031,
     "end_time": "2021-12-12T23:30:08.731318",
     "exception": false,
     "start_time": "2021-12-12T23:30:07.731008",
     "status": "completed"
    },
    "tags": []
   },
   "outputs": [],
   "source": [
    "import pandas as pd\n",
    "import sqlite3"
   ]
  },
  {
   "cell_type": "code",
   "execution_count": 2,
   "id": "innovative-syndrome",
   "metadata": {
    "execution": {
     "iopub.execute_input": "2021-12-12T23:30:08.804307Z",
     "iopub.status.busy": "2021-12-12T23:30:08.801893Z",
     "iopub.status.idle": "2021-12-12T23:30:09.878287Z",
     "shell.execute_reply": "2021-12-12T23:30:09.879753Z"
    },
    "papermill": {
     "duration": 1.11189,
     "end_time": "2021-12-12T23:30:09.880209",
     "exception": false,
     "start_time": "2021-12-12T23:30:08.768319",
     "status": "completed"
    },
    "tags": []
   },
   "outputs": [],
   "source": [
    "timestamps = pd.read_sql(\"select distinct record_time from EBAY_TOP_BERLIN order by record_time desc limit 2\", sqlite3.connect(\"UsedObjects.db\"))"
   ]
  },
  {
   "cell_type": "code",
   "execution_count": 3,
   "id": "periodic-identification",
   "metadata": {
    "execution": {
     "iopub.execute_input": "2021-12-12T23:30:09.951647Z",
     "iopub.status.busy": "2021-12-12T23:30:09.949301Z",
     "iopub.status.idle": "2021-12-12T23:30:09.972292Z",
     "shell.execute_reply": "2021-12-12T23:30:09.973884Z"
    },
    "papermill": {
     "duration": 0.07454,
     "end_time": "2021-12-12T23:30:09.974528",
     "exception": false,
     "start_time": "2021-12-12T23:30:09.899988",
     "status": "completed"
    },
    "tags": []
   },
   "outputs": [
    {
     "data": {
      "text/html": [
       "<div>\n",
       "<style scoped>\n",
       "    .dataframe tbody tr th:only-of-type {\n",
       "        vertical-align: middle;\n",
       "    }\n",
       "\n",
       "    .dataframe tbody tr th {\n",
       "        vertical-align: top;\n",
       "    }\n",
       "\n",
       "    .dataframe thead th {\n",
       "        text-align: right;\n",
       "    }\n",
       "</style>\n",
       "<table border=\"1\" class=\"dataframe\">\n",
       "  <thead>\n",
       "    <tr style=\"text-align: right;\">\n",
       "      <th></th>\n",
       "      <th>RECORD_TIME</th>\n",
       "    </tr>\n",
       "  </thead>\n",
       "  <tbody>\n",
       "    <tr>\n",
       "      <th>0</th>\n",
       "      <td>2021-12-13 00:30</td>\n",
       "    </tr>\n",
       "    <tr>\n",
       "      <th>1</th>\n",
       "      <td>2021-12-13 00:00</td>\n",
       "    </tr>\n",
       "  </tbody>\n",
       "</table>\n",
       "</div>"
      ],
      "text/plain": [
       "        RECORD_TIME\n",
       "0  2021-12-13 00:30\n",
       "1  2021-12-13 00:00"
      ]
     },
     "execution_count": 3,
     "metadata": {},
     "output_type": "execute_result"
    }
   ],
   "source": [
    "timestamps"
   ]
  },
  {
   "cell_type": "code",
   "execution_count": 4,
   "id": "alternate-victory",
   "metadata": {
    "execution": {
     "iopub.execute_input": "2021-12-12T23:30:10.032636Z",
     "iopub.status.busy": "2021-12-12T23:30:10.030476Z",
     "iopub.status.idle": "2021-12-12T23:30:11.592126Z",
     "shell.execute_reply": "2021-12-12T23:30:11.593613Z"
    },
    "papermill": {
     "duration": 1.597643,
     "end_time": "2021-12-12T23:30:11.594056",
     "exception": false,
     "start_time": "2021-12-12T23:30:09.996413",
     "status": "completed"
    },
    "tags": []
   },
   "outputs": [],
   "source": [
    "df = pd.read_sql(\"select * from EBAY_TOP_BERLIN where record_time in (select distinct record_time from EBAY_TOP_BERLIN order by record_time desc limit 2)\", sqlite3.connect(\"UsedObjects.db\"))"
   ]
  },
  {
   "cell_type": "code",
   "execution_count": 5,
   "id": "popular-active",
   "metadata": {
    "execution": {
     "iopub.execute_input": "2021-12-12T23:30:11.665369Z",
     "iopub.status.busy": "2021-12-12T23:30:11.655186Z",
     "iopub.status.idle": "2021-12-12T23:30:11.693586Z",
     "shell.execute_reply": "2021-12-12T23:30:11.691824Z"
    },
    "papermill": {
     "duration": 0.078371,
     "end_time": "2021-12-12T23:30:11.694016",
     "exception": false,
     "start_time": "2021-12-12T23:30:11.615645",
     "status": "completed"
    },
    "tags": []
   },
   "outputs": [],
   "source": [
    "df_pivot = df.pivot_table(index=\"PRODUCT\", columns = \"RECORD_TIME\", values = \"LISTING_COUNT\")"
   ]
  },
  {
   "cell_type": "code",
   "execution_count": 6,
   "id": "union-huntington",
   "metadata": {
    "execution": {
     "iopub.execute_input": "2021-12-12T23:30:11.756903Z",
     "iopub.status.busy": "2021-12-12T23:30:11.754316Z",
     "iopub.status.idle": "2021-12-12T23:30:11.762324Z",
     "shell.execute_reply": "2021-12-12T23:30:11.760347Z"
    },
    "papermill": {
     "duration": 0.046971,
     "end_time": "2021-12-12T23:30:11.762781",
     "exception": false,
     "start_time": "2021-12-12T23:30:11.715810",
     "status": "completed"
    },
    "tags": []
   },
   "outputs": [],
   "source": [
    "df_pivot.columns = [\"stamp_1\", \"stamp_2\"]\n",
    "df_pivot_diff = df_pivot.diff(axis=1)"
   ]
  },
  {
   "cell_type": "code",
   "execution_count": 7,
   "id": "fifth-motion",
   "metadata": {
    "execution": {
     "iopub.execute_input": "2021-12-12T23:30:11.822068Z",
     "iopub.status.busy": "2021-12-12T23:30:11.819482Z",
     "iopub.status.idle": "2021-12-12T23:30:13.700555Z",
     "shell.execute_reply": "2021-12-12T23:30:13.702128Z"
    },
    "papermill": {
     "duration": 1.918332,
     "end_time": "2021-12-12T23:30:13.702631",
     "exception": false,
     "start_time": "2021-12-12T23:30:11.784299",
     "status": "completed"
    },
    "tags": []
   },
   "outputs": [
    {
     "data": {
      "text/plain": [
       "<AxesSubplot:ylabel='PRODUCT'>"
      ]
     },
     "execution_count": 7,
     "metadata": {},
     "output_type": "execute_result"
    },
    {
     "data": {
      "image/png": "[encoded data removed]",
      "text/plain": [
       "<Figure size 432x288 with 1 Axes>"
      ]
     },
     "metadata": {
      "needs_background": "light"
     },
     "output_type": "display_data"
    }
   ],
   "source": [
    "df_pivot_diff.sort_values(\"stamp_2\", ascending = False)[\"stamp_2\"].head(10).plot.barh()"
   ]
  },
  {
   "cell_type": "code",
   "execution_count": null,
   "id": "extra-executive",
   "metadata": {
    "papermill": {
     "duration": 0.028704,
     "end_time": "2021-12-12T23:30:13.755297",
     "exception": false,
     "start_time": "2021-12-12T23:30:13.726593",
     "status": "completed"
    },
    "tags": []
   },
   "outputs": [],
   "source": []
  }
 ],
 "metadata": {
  "kernelspec": {
   "display_name": "Python 3",
   "language": "python",
   "name": "python3"
  },
  "language_info": {
   "codemirror_mode": {
    "name": "ipython",
    "version": 3
   },
   "file_extension": ".py",
   "mimetype": "text/x-python",
   "name": "python",
   "nbconvert_exporter": "python",
   "pygments_lexer": "ipython3",
   "version": "3.9.5"
  },
  "papermill": {
   "default_parameters": {},
   "duration": 9.718289,
   "end_time": "2021-12-12T23:30:14.615901",
   "environment_variables": {},
   "exception": null,
   "input_path": "eBay_Overview.ipynb",
   "output_path": "eBay_Overview.ipynb",
   "parameters": {},
   "start_time": "2021-12-12T23:30:04.897612",
   "version": "2.3.3"
  }
 },
 "nbformat": 4,
 "nbformat_minor": 5
}