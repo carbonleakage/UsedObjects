{
 "cells": [
  {
   "cell_type": "code",
   "execution_count": 1,
   "id": "reverse-picking",
   "metadata": {
    "execution": {
     "iopub.execute_input": "2021-09-06T04:00:06.650022Z",
     "iopub.status.busy": "2021-09-06T04:00:06.648070Z",
     "iopub.status.idle": "2021-09-06T04:00:07.452122Z",
     "shell.execute_reply": "2021-09-06T04:00:07.453369Z"
    },
    "papermill": {
     "duration": 0.854762,
     "end_time": "2021-09-06T04:00:07.453992",
     "exception": false,
     "start_time": "2021-09-06T04:00:06.599230",
     "status": "completed"
    },
    "tags": []
   },
   "outputs": [],
   "source": [
    "import pandas as pd\n",
    "import sqlite3"
   ]
  },
  {
   "cell_type": "code",
   "execution_count": 2,
   "id": "innovative-syndrome",
   "metadata": {
    "execution": {
     "iopub.execute_input": "2021-09-06T04:00:07.505405Z",
     "iopub.status.busy": "2021-09-06T04:00:07.503538Z",
     "iopub.status.idle": "2021-09-06T04:00:07.716230Z",
     "shell.execute_reply": "2021-09-06T04:00:07.717457Z"
    },
    "papermill": {
     "duration": 0.242164,
     "end_time": "2021-09-06T04:00:07.717855",
     "exception": false,
     "start_time": "2021-09-06T04:00:07.475691",
     "status": "completed"
    },
    "tags": []
   },
   "outputs": [],
   "source": [
    "timestamps = pd.read_sql(\"select distinct record_time from EBAY_TOP_BERLIN order by record_time desc limit 2\", sqlite3.connect(\"UsedObjects.db\"))"
   ]
  },
  {
   "cell_type": "code",
   "execution_count": 3,
   "id": "periodic-identification",
   "metadata": {
    "execution": {
     "iopub.execute_input": "2021-09-06T04:00:07.782150Z",
     "iopub.status.busy": "2021-09-06T04:00:07.780127Z",
     "iopub.status.idle": "2021-09-06T04:00:07.799721Z",
     "shell.execute_reply": "2021-09-06T04:00:07.800936Z"
    },
    "papermill": {
     "duration": 0.064182,
     "end_time": "2021-09-06T04:00:07.801337",
     "exception": false,
     "start_time": "2021-09-06T04:00:07.737155",
     "status": "completed"
    },
    "tags": []
   },
   "outputs": [
    {
     "data": {
      "text/html": [
       "<div>\n",
       "<style scoped>\n",
       "    .dataframe tbody tr th:only-of-type {\n",
       "        vertical-align: middle;\n",
       "    }\n",
       "\n",
       "    .dataframe tbody tr th {\n",
       "        vertical-align: top;\n",
       "    }\n",
       "\n",
       "    .dataframe thead th {\n",
       "        text-align: right;\n",
       "    }\n",
       "</style>\n",
       "<table border=\"1\" class=\"dataframe\">\n",
       "  <thead>\n",
       "    <tr style=\"text-align: right;\">\n",
       "      <th></th>\n",
       "      <th>RECORD_TIME</th>\n",
       "    </tr>\n",
       "  </thead>\n",
       "  <tbody>\n",
       "    <tr>\n",
       "      <th>0</th>\n",
       "      <td>2021-09-06 06:00</td>\n",
       "    </tr>\n",
       "    <tr>\n",
       "      <th>1</th>\n",
       "      <td>2021-09-06 05:30</td>\n",
       "    </tr>\n",
       "  </tbody>\n",
       "</table>\n",
       "</div>"
      ],
      "text/plain": [
       "        RECORD_TIME\n",
       "0  2021-09-06 06:00\n",
       "1  2021-09-06 05:30"
      ]
     },
     "execution_count": 3,
     "metadata": {},
     "output_type": "execute_result"
    }
   ],
   "source": [
    "timestamps"
   ]
  },
  {
   "cell_type": "code",
   "execution_count": 4,
   "id": "alternate-victory",
   "metadata": {
    "execution": {
     "iopub.execute_input": "2021-09-06T04:00:07.853244Z",
     "iopub.status.busy": "2021-09-06T04:00:07.851094Z",
     "iopub.status.idle": "2021-09-06T04:00:08.176534Z",
     "shell.execute_reply": "2021-09-06T04:00:08.177895Z"
    },
    "papermill": {
     "duration": 0.355898,
     "end_time": "2021-09-06T04:00:08.178334",
     "exception": false,
     "start_time": "2021-09-06T04:00:07.822436",
     "status": "completed"
    },
    "tags": []
   },
   "outputs": [],
   "source": [
    "df = pd.read_sql(\"select * from EBAY_TOP_BERLIN where record_time in (select distinct record_time from EBAY_TOP_BERLIN order by record_time desc limit 2)\", sqlite3.connect(\"UsedObjects.db\"))"
   ]
  },
  {
   "cell_type": "code",
   "execution_count": 5,
   "id": "popular-active",
   "metadata": {
    "execution": {
     "iopub.execute_input": "2021-09-06T04:00:08.259816Z",
     "iopub.status.busy": "2021-09-06T04:00:08.248742Z",
     "iopub.status.idle": "2021-09-06T04:00:08.276247Z",
     "shell.execute_reply": "2021-09-06T04:00:08.277620Z"
    },
    "papermill": {
     "duration": 0.072795,
     "end_time": "2021-09-06T04:00:08.278059",
     "exception": false,
     "start_time": "2021-09-06T04:00:08.205264",
     "status": "completed"
    },
    "tags": []
   },
   "outputs": [],
   "source": [
    "df_pivot = df.pivot_table(index=\"PRODUCT\", columns = \"RECORD_TIME\", values = \"LISTING_COUNT\")"
   ]
  },
  {
   "cell_type": "code",
   "execution_count": 6,
   "id": "union-huntington",
   "metadata": {
    "execution": {
     "iopub.execute_input": "2021-09-06T04:00:08.338224Z",
     "iopub.status.busy": "2021-09-06T04:00:08.335800Z",
     "iopub.status.idle": "2021-09-06T04:00:08.343767Z",
     "shell.execute_reply": "2021-09-06T04:00:08.341493Z"
    },
    "papermill": {
     "duration": 0.042825,
     "end_time": "2021-09-06T04:00:08.344149",
     "exception": false,
     "start_time": "2021-09-06T04:00:08.301324",
     "status": "completed"
    },
    "tags": []
   },
   "outputs": [],
   "source": [
    "df_pivot.columns = [\"stamp_1\", \"stamp_2\"]\n",
    "df_pivot_diff = df_pivot.diff(axis=1)"
   ]
  },
  {
   "cell_type": "code",
   "execution_count": 7,
   "id": "fifth-motion",
   "metadata": {
    "execution": {
     "iopub.execute_input": "2021-09-06T04:00:08.397979Z",
     "iopub.status.busy": "2021-09-06T04:00:08.395786Z",
     "iopub.status.idle": "2021-09-06T04:00:09.879711Z",
     "shell.execute_reply": "2021-09-06T04:00:09.880984Z"
    },
    "papermill": {
     "duration": 1.516468,
     "end_time": "2021-09-06T04:00:09.881405",
     "exception": false,
     "start_time": "2021-09-06T04:00:08.364937",
     "status": "completed"
    },
    "tags": []
   },
   "outputs": [
    {
     "data": {
      "text/plain": [
       "<AxesSubplot:ylabel='PRODUCT'>"
      ]
     },
     "execution_count": 7,
     "metadata": {},
     "output_type": "execute_result"
    },
    {
     "data": {
      "image/png": "[encoded data removed]",
      "text/plain": [
       "<Figure size 432x288 with 1 Axes>"
      ]
     },
     "metadata": {
      "needs_background": "light"
     },
     "output_type": "display_data"
    }
   ],
   "source": [
    "df_pivot_diff.sort_values(\"stamp_2\", ascending = False)[\"stamp_2\"].head(10).plot.barh()"
   ]
  },
  {
   "cell_type": "code",
   "execution_count": null,
   "id": "extra-executive",
   "metadata": {
    "papermill": {
     "duration": 0.022135,
     "end_time": "2021-09-06T04:00:09.929055",
     "exception": false,
     "start_time": "2021-09-06T04:00:09.906920",
     "status": "completed"
    },
    "tags": []
   },
   "outputs": [],
   "source": []
  }
 ],
 "metadata": {
  "kernelspec": {
   "display_name": "Python 3",
   "language": "python",
   "name": "python3"
  },
  "language_info": {
   "codemirror_mode": {
    "name": "ipython",
    "version": 3
   },
   "file_extension": ".py",
   "mimetype": "text/x-python",
   "name": "python",
   "nbconvert_exporter": "python",
   "pygments_lexer": "ipython3",
   "version": "3.9.5"
  },
  "papermill": {
   "default_parameters": {},
   "duration": 6.370791,
   "end_time": "2021-09-06T04:00:10.569884",
   "environment_variables": {},
   "exception": null,
   "input_path": "eBay_Overview.ipynb",
   "output_path": "eBay_Overview.ipynb",
   "parameters": {},
   "start_time": "2021-09-06T04:00:04.199093",
   "version": "2.3.3"
  }
 },
 "nbformat": 4,
 "nbformat_minor": 5
}