{
 "cells": [
  {
   "cell_type": "code",
   "execution_count": 1,
   "id": "reverse-picking",
   "metadata": {
    "execution": {
     "iopub.execute_input": "2021-09-09T20:30:07.505337Z",
     "iopub.status.busy": "2021-09-09T20:30:07.503360Z",
     "iopub.status.idle": "2021-09-09T20:30:08.313822Z",
     "shell.execute_reply": "2021-09-09T20:30:08.312291Z"
    },
    "papermill": {
     "duration": 0.861529,
     "end_time": "2021-09-09T20:30:08.314209",
     "exception": false,
     "start_time": "2021-09-09T20:30:07.452680",
     "status": "completed"
    },
    "tags": []
   },
   "outputs": [],
   "source": [
    "import pandas as pd\n",
    "import sqlite3"
   ]
  },
  {
   "cell_type": "code",
   "execution_count": 2,
   "id": "innovative-syndrome",
   "metadata": {
    "execution": {
     "iopub.execute_input": "2021-09-09T20:30:08.367783Z",
     "iopub.status.busy": "2021-09-09T20:30:08.365374Z",
     "iopub.status.idle": "2021-09-09T20:30:08.609541Z",
     "shell.execute_reply": "2021-09-09T20:30:08.610651Z"
    },
    "papermill": {
     "duration": 0.273838,
     "end_time": "2021-09-09T20:30:08.611131",
     "exception": false,
     "start_time": "2021-09-09T20:30:08.337293",
     "status": "completed"
    },
    "tags": []
   },
   "outputs": [],
   "source": [
    "timestamps = pd.read_sql(\"select distinct record_time from EBAY_TOP_BERLIN order by record_time desc limit 2\", sqlite3.connect(\"UsedObjects.db\"))"
   ]
  },
  {
   "cell_type": "code",
   "execution_count": 3,
   "id": "periodic-identification",
   "metadata": {
    "execution": {
     "iopub.execute_input": "2021-09-09T20:30:08.676755Z",
     "iopub.status.busy": "2021-09-09T20:30:08.674671Z",
     "iopub.status.idle": "2021-09-09T20:30:08.694474Z",
     "shell.execute_reply": "2021-09-09T20:30:08.695860Z"
    },
    "papermill": {
     "duration": 0.064264,
     "end_time": "2021-09-09T20:30:08.696281",
     "exception": false,
     "start_time": "2021-09-09T20:30:08.632017",
     "status": "completed"
    },
    "tags": []
   },
   "outputs": [
    {
     "data": {
      "text/html": [
       "<div>\n",
       "<style scoped>\n",
       "    .dataframe tbody tr th:only-of-type {\n",
       "        vertical-align: middle;\n",
       "    }\n",
       "\n",
       "    .dataframe tbody tr th {\n",
       "        vertical-align: top;\n",
       "    }\n",
       "\n",
       "    .dataframe thead th {\n",
       "        text-align: right;\n",
       "    }\n",
       "</style>\n",
       "<table border=\"1\" class=\"dataframe\">\n",
       "  <thead>\n",
       "    <tr style=\"text-align: right;\">\n",
       "      <th></th>\n",
       "      <th>RECORD_TIME</th>\n",
       "    </tr>\n",
       "  </thead>\n",
       "  <tbody>\n",
       "    <tr>\n",
       "      <th>0</th>\n",
       "      <td>2021-09-09 22:30</td>\n",
       "    </tr>\n",
       "    <tr>\n",
       "      <th>1</th>\n",
       "      <td>2021-09-09 22:00</td>\n",
       "    </tr>\n",
       "  </tbody>\n",
       "</table>\n",
       "</div>"
      ],
      "text/plain": [
       "        RECORD_TIME\n",
       "0  2021-09-09 22:30\n",
       "1  2021-09-09 22:00"
      ]
     },
     "execution_count": 3,
     "metadata": {},
     "output_type": "execute_result"
    }
   ],
   "source": [
    "timestamps"
   ]
  },
  {
   "cell_type": "code",
   "execution_count": 4,
   "id": "alternate-victory",
   "metadata": {
    "execution": {
     "iopub.execute_input": "2021-09-09T20:30:08.748815Z",
     "iopub.status.busy": "2021-09-09T20:30:08.746596Z",
     "iopub.status.idle": "2021-09-09T20:30:09.111682Z",
     "shell.execute_reply": "2021-09-09T20:30:09.112896Z"
    },
    "papermill": {
     "duration": 0.395219,
     "end_time": "2021-09-09T20:30:09.113285",
     "exception": false,
     "start_time": "2021-09-09T20:30:08.718066",
     "status": "completed"
    },
    "tags": []
   },
   "outputs": [],
   "source": [
    "df = pd.read_sql(\"select * from EBAY_TOP_BERLIN where record_time in (select distinct record_time from EBAY_TOP_BERLIN order by record_time desc limit 2)\", sqlite3.connect(\"UsedObjects.db\"))"
   ]
  },
  {
   "cell_type": "code",
   "execution_count": 5,
   "id": "popular-active",
   "metadata": {
    "execution": {
     "iopub.execute_input": "2021-09-09T20:30:09.202284Z",
     "iopub.status.busy": "2021-09-09T20:30:09.190268Z",
     "iopub.status.idle": "2021-09-09T20:30:09.218412Z",
     "shell.execute_reply": "2021-09-09T20:30:09.219851Z"
    },
    "papermill": {
     "duration": 0.073976,
     "end_time": "2021-09-09T20:30:09.220296",
     "exception": false,
     "start_time": "2021-09-09T20:30:09.146320",
     "status": "completed"
    },
    "tags": []
   },
   "outputs": [],
   "source": [
    "df_pivot = df.pivot_table(index=\"PRODUCT\", columns = \"RECORD_TIME\", values = \"LISTING_COUNT\")"
   ]
  },
  {
   "cell_type": "code",
   "execution_count": 6,
   "id": "union-huntington",
   "metadata": {
    "execution": {
     "iopub.execute_input": "2021-09-09T20:30:09.277405Z",
     "iopub.status.busy": "2021-09-09T20:30:09.275256Z",
     "iopub.status.idle": "2021-09-09T20:30:09.280675Z",
     "shell.execute_reply": "2021-09-09T20:30:09.282012Z"
    },
    "papermill": {
     "duration": 0.04103,
     "end_time": "2021-09-09T20:30:09.282447",
     "exception": false,
     "start_time": "2021-09-09T20:30:09.241417",
     "status": "completed"
    },
    "tags": []
   },
   "outputs": [],
   "source": [
    "df_pivot.columns = [\"stamp_1\", \"stamp_2\"]\n",
    "df_pivot_diff = df_pivot.diff(axis=1)"
   ]
  },
  {
   "cell_type": "code",
   "execution_count": 7,
   "id": "fifth-motion",
   "metadata": {
    "execution": {
     "iopub.execute_input": "2021-09-09T20:30:09.337597Z",
     "iopub.status.busy": "2021-09-09T20:30:09.334978Z",
     "iopub.status.idle": "2021-09-09T20:30:10.814346Z",
     "shell.execute_reply": "2021-09-09T20:30:10.815995Z"
    },
    "papermill": {
     "duration": 1.513358,
     "end_time": "2021-09-09T20:30:10.816491",
     "exception": false,
     "start_time": "2021-09-09T20:30:09.303133",
     "status": "completed"
    },
    "tags": []
   },
   "outputs": [
    {
     "data": {
      "text/plain": [
       "<AxesSubplot:ylabel='PRODUCT'>"
      ]
     },
     "execution_count": 7,
     "metadata": {},
     "output_type": "execute_result"
    },
    {
     "data": {
      "image/png": "[encoded data removed]",
      "text/plain": [
       "<Figure size 432x288 with 1 Axes>"
      ]
     },
     "metadata": {
      "needs_background": "light"
     },
     "output_type": "display_data"
    }
   ],
   "source": [
    "df_pivot_diff.sort_values(\"stamp_2\", ascending = False)[\"stamp_2\"].head(10).plot.barh()"
   ]
  },
  {
   "cell_type": "code",
   "execution_count": null,
   "id": "extra-executive",
   "metadata": {
    "papermill": {
     "duration": 0.02266,
     "end_time": "2021-09-09T20:30:10.864933",
     "exception": false,
     "start_time": "2021-09-09T20:30:10.842273",
     "status": "completed"
    },
    "tags": []
   },
   "outputs": [],
   "source": []
  }
 ],
 "metadata": {
  "kernelspec": {
   "display_name": "Python 3",
   "language": "python",
   "name": "python3"
  },
  "language_info": {
   "codemirror_mode": {
    "name": "ipython",
    "version": 3
   },
   "file_extension": ".py",
   "mimetype": "text/x-python",
   "name": "python",
   "nbconvert_exporter": "python",
   "pygments_lexer": "ipython3",
   "version": "3.9.5"
  },
  "papermill": {
   "default_parameters": {},
   "duration": 6.460248,
   "end_time": "2021-09-09T20:30:11.506508",
   "environment_variables": {},
   "exception": null,
   "input_path": "eBay_Overview.ipynb",
   "output_path": "eBay_Overview.ipynb",
   "parameters": {},
   "start_time": "2021-09-09T20:30:05.046260",
   "version": "2.3.3"
  }
 },
 "nbformat": 4,
 "nbformat_minor": 5
}