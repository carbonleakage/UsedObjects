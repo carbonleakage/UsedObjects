{
 "cells": [
  {
   "cell_type": "code",
   "execution_count": 1,
   "id": "reverse-picking",
   "metadata": {
    "execution": {
     "iopub.execute_input": "2021-10-04T07:30:06.989337Z",
     "iopub.status.busy": "2021-10-04T07:30:06.987325Z",
     "iopub.status.idle": "2021-10-04T07:30:07.793947Z",
     "shell.execute_reply": "2021-10-04T07:30:07.792421Z"
    },
    "papermill": {
     "duration": 0.857567,
     "end_time": "2021-10-04T07:30:07.794334",
     "exception": false,
     "start_time": "2021-10-04T07:30:06.936767",
     "status": "completed"
    },
    "tags": []
   },
   "outputs": [],
   "source": [
    "import pandas as pd\n",
    "import sqlite3"
   ]
  },
  {
   "cell_type": "code",
   "execution_count": 2,
   "id": "innovative-syndrome",
   "metadata": {
    "execution": {
     "iopub.execute_input": "2021-10-04T07:30:07.845706Z",
     "iopub.status.busy": "2021-10-04T07:30:07.843838Z",
     "iopub.status.idle": "2021-10-04T07:30:08.288461Z",
     "shell.execute_reply": "2021-10-04T07:30:08.289655Z"
    },
    "papermill": {
     "duration": 0.474107,
     "end_time": "2021-10-04T07:30:08.290048",
     "exception": false,
     "start_time": "2021-10-04T07:30:07.815941",
     "status": "completed"
    },
    "tags": []
   },
   "outputs": [],
   "source": [
    "timestamps = pd.read_sql(\"select distinct record_time from EBAY_TOP_BERLIN order by record_time desc limit 2\", sqlite3.connect(\"UsedObjects.db\"))"
   ]
  },
  {
   "cell_type": "code",
   "execution_count": 3,
   "id": "periodic-identification",
   "metadata": {
    "execution": {
     "iopub.execute_input": "2021-10-04T07:30:08.354379Z",
     "iopub.status.busy": "2021-10-04T07:30:08.352358Z",
     "iopub.status.idle": "2021-10-04T07:30:08.371946Z",
     "shell.execute_reply": "2021-10-04T07:30:08.373062Z"
    },
    "papermill": {
     "duration": 0.064015,
     "end_time": "2021-10-04T07:30:08.373472",
     "exception": false,
     "start_time": "2021-10-04T07:30:08.309457",
     "status": "completed"
    },
    "tags": []
   },
   "outputs": [
    {
     "data": {
      "text/html": [
       "<div>\n",
       "<style scoped>\n",
       "    .dataframe tbody tr th:only-of-type {\n",
       "        vertical-align: middle;\n",
       "    }\n",
       "\n",
       "    .dataframe tbody tr th {\n",
       "        vertical-align: top;\n",
       "    }\n",
       "\n",
       "    .dataframe thead th {\n",
       "        text-align: right;\n",
       "    }\n",
       "</style>\n",
       "<table border=\"1\" class=\"dataframe\">\n",
       "  <thead>\n",
       "    <tr style=\"text-align: right;\">\n",
       "      <th></th>\n",
       "      <th>RECORD_TIME</th>\n",
       "    </tr>\n",
       "  </thead>\n",
       "  <tbody>\n",
       "    <tr>\n",
       "      <th>0</th>\n",
       "      <td>2021-10-04 09:30</td>\n",
       "    </tr>\n",
       "    <tr>\n",
       "      <th>1</th>\n",
       "      <td>2021-10-04 09:00</td>\n",
       "    </tr>\n",
       "  </tbody>\n",
       "</table>\n",
       "</div>"
      ],
      "text/plain": [
       "        RECORD_TIME\n",
       "0  2021-10-04 09:30\n",
       "1  2021-10-04 09:00"
      ]
     },
     "execution_count": 3,
     "metadata": {},
     "output_type": "execute_result"
    }
   ],
   "source": [
    "timestamps"
   ]
  },
  {
   "cell_type": "code",
   "execution_count": 4,
   "id": "alternate-victory",
   "metadata": {
    "execution": {
     "iopub.execute_input": "2021-10-04T07:30:08.434308Z",
     "iopub.status.busy": "2021-10-04T07:30:08.432366Z",
     "iopub.status.idle": "2021-10-04T07:30:09.080300Z",
     "shell.execute_reply": "2021-10-04T07:30:09.081730Z"
    },
    "papermill": {
     "duration": 0.686248,
     "end_time": "2021-10-04T07:30:09.082175",
     "exception": false,
     "start_time": "2021-10-04T07:30:08.395927",
     "status": "completed"
    },
    "tags": []
   },
   "outputs": [],
   "source": [
    "df = pd.read_sql(\"select * from EBAY_TOP_BERLIN where record_time in (select distinct record_time from EBAY_TOP_BERLIN order by record_time desc limit 2)\", sqlite3.connect(\"UsedObjects.db\"))"
   ]
  },
  {
   "cell_type": "code",
   "execution_count": 5,
   "id": "popular-active",
   "metadata": {
    "execution": {
     "iopub.execute_input": "2021-10-04T07:30:09.148114Z",
     "iopub.status.busy": "2021-10-04T07:30:09.140569Z",
     "iopub.status.idle": "2021-10-04T07:30:09.168927Z",
     "shell.execute_reply": "2021-10-04T07:30:09.170127Z"
    },
    "papermill": {
     "duration": 0.067773,
     "end_time": "2021-10-04T07:30:09.170524",
     "exception": false,
     "start_time": "2021-10-04T07:30:09.102751",
     "status": "completed"
    },
    "tags": []
   },
   "outputs": [],
   "source": [
    "df_pivot = df.pivot_table(index=\"PRODUCT\", columns = \"RECORD_TIME\", values = \"LISTING_COUNT\")"
   ]
  },
  {
   "cell_type": "code",
   "execution_count": 6,
   "id": "union-huntington",
   "metadata": {
    "execution": {
     "iopub.execute_input": "2021-10-04T07:30:09.229597Z",
     "iopub.status.busy": "2021-10-04T07:30:09.227173Z",
     "iopub.status.idle": "2021-10-04T07:30:09.233371Z",
     "shell.execute_reply": "2021-10-04T07:30:09.234720Z"
    },
    "papermill": {
     "duration": 0.042549,
     "end_time": "2021-10-04T07:30:09.235251",
     "exception": false,
     "start_time": "2021-10-04T07:30:09.192702",
     "status": "completed"
    },
    "tags": []
   },
   "outputs": [],
   "source": [
    "df_pivot.columns = [\"stamp_1\", \"stamp_2\"]\n",
    "df_pivot_diff = df_pivot.diff(axis=1)"
   ]
  },
  {
   "cell_type": "code",
   "execution_count": 7,
   "id": "fifth-motion",
   "metadata": {
    "execution": {
     "iopub.execute_input": "2021-10-04T07:30:09.289908Z",
     "iopub.status.busy": "2021-10-04T07:30:09.287733Z",
     "iopub.status.idle": "2021-10-04T07:30:10.798926Z",
     "shell.execute_reply": "2021-10-04T07:30:10.800221Z"
    },
    "papermill": {
     "duration": 1.543522,
     "end_time": "2021-10-04T07:30:10.800638",
     "exception": false,
     "start_time": "2021-10-04T07:30:09.257116",
     "status": "completed"
    },
    "tags": []
   },
   "outputs": [
    {
     "data": {
      "text/plain": [
       "<AxesSubplot:ylabel='PRODUCT'>"
      ]
     },
     "execution_count": 7,
     "metadata": {},
     "output_type": "execute_result"
    },
    {
     "data": {
      "image/png": "[encoded data removed]",
      "text/plain": [
       "<Figure size 432x288 with 1 Axes>"
      ]
     },
     "metadata": {
      "needs_background": "light"
     },
     "output_type": "display_data"
    }
   ],
   "source": [
    "df_pivot_diff.sort_values(\"stamp_2\", ascending = False)[\"stamp_2\"].head(10).plot.barh()"
   ]
  },
  {
   "cell_type": "code",
   "execution_count": null,
   "id": "extra-executive",
   "metadata": {
    "papermill": {
     "duration": 0.022113,
     "end_time": "2021-10-04T07:30:10.846632",
     "exception": false,
     "start_time": "2021-10-04T07:30:10.824519",
     "status": "completed"
    },
    "tags": []
   },
   "outputs": [],
   "source": []
  }
 ],
 "metadata": {
  "kernelspec": {
   "display_name": "Python 3",
   "language": "python",
   "name": "python3"
  },
  "language_info": {
   "codemirror_mode": {
    "name": "ipython",
    "version": 3
   },
   "file_extension": ".py",
   "mimetype": "text/x-python",
   "name": "python",
   "nbconvert_exporter": "python",
   "pygments_lexer": "ipython3",
   "version": "3.9.5"
  },
  "papermill": {
   "default_parameters": {},
   "duration": 7.82336,
   "end_time": "2021-10-04T07:30:12.342883",
   "environment_variables": {},
   "exception": null,
   "input_path": "eBay_Overview.ipynb",
   "output_path": "eBay_Overview.ipynb",
   "parameters": {},
   "start_time": "2021-10-04T07:30:04.519523",
   "version": "2.3.3"
  }
 },
 "nbformat": 4,
 "nbformat_minor": 5
}