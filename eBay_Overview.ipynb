{
 "cells": [
  {
   "cell_type": "code",
   "execution_count": 1,
   "id": "reverse-picking",
   "metadata": {
    "execution": {
     "iopub.execute_input": "2021-08-24T12:30:07.136389Z",
     "iopub.status.busy": "2021-08-24T12:30:07.134414Z",
     "iopub.status.idle": "2021-08-24T12:30:07.941959Z",
     "shell.execute_reply": "2021-08-24T12:30:07.943233Z"
    },
    "papermill": {
     "duration": 0.861337,
     "end_time": "2021-08-24T12:30:07.943872",
     "exception": false,
     "start_time": "2021-08-24T12:30:07.082535",
     "status": "completed"
    },
    "tags": []
   },
   "outputs": [],
   "source": [
    "import pandas as pd\n",
    "import sqlite3"
   ]
  },
  {
   "cell_type": "code",
   "execution_count": 2,
   "id": "innovative-syndrome",
   "metadata": {
    "execution": {
     "iopub.execute_input": "2021-08-24T12:30:07.998077Z",
     "iopub.status.busy": "2021-08-24T12:30:07.995745Z",
     "iopub.status.idle": "2021-08-24T12:30:08.118542Z",
     "shell.execute_reply": "2021-08-24T12:30:08.119824Z"
    },
    "papermill": {
     "duration": 0.153059,
     "end_time": "2021-08-24T12:30:08.120223",
     "exception": false,
     "start_time": "2021-08-24T12:30:07.967164",
     "status": "completed"
    },
    "tags": []
   },
   "outputs": [],
   "source": [
    "timestamps = pd.read_sql(\"select distinct record_time from EBAY_TOP_BERLIN order by record_time desc limit 2\", sqlite3.connect(\"UsedObjects.db\"))"
   ]
  },
  {
   "cell_type": "code",
   "execution_count": 3,
   "id": "periodic-identification",
   "metadata": {
    "execution": {
     "iopub.execute_input": "2021-08-24T12:30:08.185533Z",
     "iopub.status.busy": "2021-08-24T12:30:08.183537Z",
     "iopub.status.idle": "2021-08-24T12:30:08.203383Z",
     "shell.execute_reply": "2021-08-24T12:30:08.204593Z"
    },
    "papermill": {
     "duration": 0.064539,
     "end_time": "2021-08-24T12:30:08.204992",
     "exception": false,
     "start_time": "2021-08-24T12:30:08.140453",
     "status": "completed"
    },
    "tags": []
   },
   "outputs": [
    {
     "data": {
      "text/html": [
       "<div>\n",
       "<style scoped>\n",
       "    .dataframe tbody tr th:only-of-type {\n",
       "        vertical-align: middle;\n",
       "    }\n",
       "\n",
       "    .dataframe tbody tr th {\n",
       "        vertical-align: top;\n",
       "    }\n",
       "\n",
       "    .dataframe thead th {\n",
       "        text-align: right;\n",
       "    }\n",
       "</style>\n",
       "<table border=\"1\" class=\"dataframe\">\n",
       "  <thead>\n",
       "    <tr style=\"text-align: right;\">\n",
       "      <th></th>\n",
       "      <th>RECORD_TIME</th>\n",
       "    </tr>\n",
       "  </thead>\n",
       "  <tbody>\n",
       "    <tr>\n",
       "      <th>0</th>\n",
       "      <td>2021-08-24 14:30</td>\n",
       "    </tr>\n",
       "    <tr>\n",
       "      <th>1</th>\n",
       "      <td>2021-08-24 14:00</td>\n",
       "    </tr>\n",
       "  </tbody>\n",
       "</table>\n",
       "</div>"
      ],
      "text/plain": [
       "        RECORD_TIME\n",
       "0  2021-08-24 14:30\n",
       "1  2021-08-24 14:00"
      ]
     },
     "execution_count": 3,
     "metadata": {},
     "output_type": "execute_result"
    }
   ],
   "source": [
    "timestamps"
   ]
  },
  {
   "cell_type": "code",
   "execution_count": 4,
   "id": "alternate-victory",
   "metadata": {
    "execution": {
     "iopub.execute_input": "2021-08-24T12:30:08.258760Z",
     "iopub.status.busy": "2021-08-24T12:30:08.256428Z",
     "iopub.status.idle": "2021-08-24T12:30:08.444030Z",
     "shell.execute_reply": "2021-08-24T12:30:08.445236Z"
    },
    "papermill": {
     "duration": 0.218059,
     "end_time": "2021-08-24T12:30:08.445633",
     "exception": false,
     "start_time": "2021-08-24T12:30:08.227574",
     "status": "completed"
    },
    "tags": []
   },
   "outputs": [],
   "source": [
    "df = pd.read_sql(\"select * from EBAY_TOP_BERLIN where record_time in (select distinct record_time from EBAY_TOP_BERLIN order by record_time desc limit 2)\", sqlite3.connect(\"UsedObjects.db\"))"
   ]
  },
  {
   "cell_type": "code",
   "execution_count": 5,
   "id": "popular-active",
   "metadata": {
    "execution": {
     "iopub.execute_input": "2021-08-24T12:30:08.506620Z",
     "iopub.status.busy": "2021-08-24T12:30:08.504306Z",
     "iopub.status.idle": "2021-08-24T12:30:08.531149Z",
     "shell.execute_reply": "2021-08-24T12:30:08.532348Z"
    },
    "papermill": {
     "duration": 0.066838,
     "end_time": "2021-08-24T12:30:08.532751",
     "exception": false,
     "start_time": "2021-08-24T12:30:08.465913",
     "status": "completed"
    },
    "tags": []
   },
   "outputs": [],
   "source": [
    "df_pivot = df.pivot_table(index=\"PRODUCT\", columns = \"RECORD_TIME\", values = \"LISTING_COUNT\")"
   ]
  },
  {
   "cell_type": "code",
   "execution_count": 6,
   "id": "union-huntington",
   "metadata": {
    "execution": {
     "iopub.execute_input": "2021-08-24T12:30:08.600164Z",
     "iopub.status.busy": "2021-08-24T12:30:08.598112Z",
     "iopub.status.idle": "2021-08-24T12:30:08.603256Z",
     "shell.execute_reply": "2021-08-24T12:30:08.604574Z"
    },
    "papermill": {
     "duration": 0.044948,
     "end_time": "2021-08-24T12:30:08.604994",
     "exception": false,
     "start_time": "2021-08-24T12:30:08.560046",
     "status": "completed"
    },
    "tags": []
   },
   "outputs": [],
   "source": [
    "df_pivot.columns = [\"stamp_1\", \"stamp_2\"]\n",
    "df_pivot_diff = df_pivot.diff(axis=1)"
   ]
  },
  {
   "cell_type": "code",
   "execution_count": 7,
   "id": "fifth-motion",
   "metadata": {
    "execution": {
     "iopub.execute_input": "2021-08-24T12:30:08.660699Z",
     "iopub.status.busy": "2021-08-24T12:30:08.658086Z",
     "iopub.status.idle": "2021-08-24T12:30:10.150175Z",
     "shell.execute_reply": "2021-08-24T12:30:10.151604Z"
    },
    "papermill": {
     "duration": 1.525809,
     "end_time": "2021-08-24T12:30:10.152045",
     "exception": false,
     "start_time": "2021-08-24T12:30:08.626236",
     "status": "completed"
    },
    "tags": []
   },
   "outputs": [
    {
     "data": {
      "text/plain": [
       "<AxesSubplot:ylabel='PRODUCT'>"
      ]
     },
     "execution_count": 7,
     "metadata": {},
     "output_type": "execute_result"
    },
    {
     "data": {
      "image/png": "[encoded data removed]",
      "text/plain": [
       "<Figure size 432x288 with 1 Axes>"
      ]
     },
     "metadata": {
      "needs_background": "light"
     },
     "output_type": "display_data"
    }
   ],
   "source": [
    "df_pivot_diff.sort_values(\"stamp_2\", ascending = False)[\"stamp_2\"].head(10).plot.barh()"
   ]
  },
  {
   "cell_type": "code",
   "execution_count": null,
   "id": "extra-executive",
   "metadata": {
    "papermill": {
     "duration": 0.022181,
     "end_time": "2021-08-24T12:30:10.197325",
     "exception": false,
     "start_time": "2021-08-24T12:30:10.175144",
     "status": "completed"
    },
    "tags": []
   },
   "outputs": [],
   "source": []
  }
 ],
 "metadata": {
  "kernelspec": {
   "display_name": "Python 3",
   "language": "python",
   "name": "python3"
  },
  "language_info": {
   "codemirror_mode": {
    "name": "ipython",
    "version": 3
   },
   "file_extension": ".py",
   "mimetype": "text/x-python",
   "name": "python",
   "nbconvert_exporter": "python",
   "pygments_lexer": "ipython3",
   "version": "3.9.5"
  },
  "papermill": {
   "default_parameters": {},
   "duration": 6.821637,
   "end_time": "2021-08-24T12:30:11.490220",
   "environment_variables": {},
   "exception": null,
   "input_path": "eBay_Overview.ipynb",
   "output_path": "eBay_Overview.ipynb",
   "parameters": {},
   "start_time": "2021-08-24T12:30:04.668583",
   "version": "2.3.3"
  }
 },
 "nbformat": 4,
 "nbformat_minor": 5
}