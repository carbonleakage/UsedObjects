{
 "cells": [
  {
   "cell_type": "code",
   "execution_count": 1,
   "id": "reverse-picking",
   "metadata": {
    "execution": {
     "iopub.execute_input": "2021-08-25T23:30:07.078579Z",
     "iopub.status.busy": "2021-08-25T23:30:07.076509Z",
     "iopub.status.idle": "2021-08-25T23:30:07.876476Z",
     "shell.execute_reply": "2021-08-25T23:30:07.877763Z"
    },
    "papermill": {
     "duration": 0.850985,
     "end_time": "2021-08-25T23:30:07.878420",
     "exception": false,
     "start_time": "2021-08-25T23:30:07.027435",
     "status": "completed"
    },
    "tags": []
   },
   "outputs": [],
   "source": [
    "import pandas as pd\n",
    "import sqlite3"
   ]
  },
  {
   "cell_type": "code",
   "execution_count": 2,
   "id": "innovative-syndrome",
   "metadata": {
    "execution": {
     "iopub.execute_input": "2021-08-25T23:30:07.929007Z",
     "iopub.status.busy": "2021-08-25T23:30:07.926977Z",
     "iopub.status.idle": "2021-08-25T23:30:08.057955Z",
     "shell.execute_reply": "2021-08-25T23:30:08.059169Z"
    },
    "papermill": {
     "duration": 0.160873,
     "end_time": "2021-08-25T23:30:08.059561",
     "exception": false,
     "start_time": "2021-08-25T23:30:07.898688",
     "status": "completed"
    },
    "tags": []
   },
   "outputs": [],
   "source": [
    "timestamps = pd.read_sql(\"select distinct record_time from EBAY_TOP_BERLIN order by record_time desc limit 2\", sqlite3.connect(\"UsedObjects.db\"))"
   ]
  },
  {
   "cell_type": "code",
   "execution_count": 3,
   "id": "periodic-identification",
   "metadata": {
    "execution": {
     "iopub.execute_input": "2021-08-25T23:30:08.122856Z",
     "iopub.status.busy": "2021-08-25T23:30:08.120848Z",
     "iopub.status.idle": "2021-08-25T23:30:08.142608Z",
     "shell.execute_reply": "2021-08-25T23:30:08.143910Z"
    },
    "papermill": {
     "duration": 0.06557,
     "end_time": "2021-08-25T23:30:08.144534",
     "exception": false,
     "start_time": "2021-08-25T23:30:08.078964",
     "status": "completed"
    },
    "tags": []
   },
   "outputs": [
    {
     "data": {
      "text/html": [
       "<div>\n",
       "<style scoped>\n",
       "    .dataframe tbody tr th:only-of-type {\n",
       "        vertical-align: middle;\n",
       "    }\n",
       "\n",
       "    .dataframe tbody tr th {\n",
       "        vertical-align: top;\n",
       "    }\n",
       "\n",
       "    .dataframe thead th {\n",
       "        text-align: right;\n",
       "    }\n",
       "</style>\n",
       "<table border=\"1\" class=\"dataframe\">\n",
       "  <thead>\n",
       "    <tr style=\"text-align: right;\">\n",
       "      <th></th>\n",
       "      <th>RECORD_TIME</th>\n",
       "    </tr>\n",
       "  </thead>\n",
       "  <tbody>\n",
       "    <tr>\n",
       "      <th>0</th>\n",
       "      <td>2021-08-26 01:30</td>\n",
       "    </tr>\n",
       "    <tr>\n",
       "      <th>1</th>\n",
       "      <td>2021-08-26 01:00</td>\n",
       "    </tr>\n",
       "  </tbody>\n",
       "</table>\n",
       "</div>"
      ],
      "text/plain": [
       "        RECORD_TIME\n",
       "0  2021-08-26 01:30\n",
       "1  2021-08-26 01:00"
      ]
     },
     "execution_count": 3,
     "metadata": {},
     "output_type": "execute_result"
    }
   ],
   "source": [
    "timestamps"
   ]
  },
  {
   "cell_type": "code",
   "execution_count": 4,
   "id": "alternate-victory",
   "metadata": {
    "execution": {
     "iopub.execute_input": "2021-08-25T23:30:08.197322Z",
     "iopub.status.busy": "2021-08-25T23:30:08.194975Z",
     "iopub.status.idle": "2021-08-25T23:30:08.395076Z",
     "shell.execute_reply": "2021-08-25T23:30:08.396475Z"
    },
    "papermill": {
     "duration": 0.230621,
     "end_time": "2021-08-25T23:30:08.396903",
     "exception": false,
     "start_time": "2021-08-25T23:30:08.166282",
     "status": "completed"
    },
    "tags": []
   },
   "outputs": [],
   "source": [
    "df = pd.read_sql(\"select * from EBAY_TOP_BERLIN where record_time in (select distinct record_time from EBAY_TOP_BERLIN order by record_time desc limit 2)\", sqlite3.connect(\"UsedObjects.db\"))"
   ]
  },
  {
   "cell_type": "code",
   "execution_count": 5,
   "id": "popular-active",
   "metadata": {
    "execution": {
     "iopub.execute_input": "2021-08-25T23:30:08.468096Z",
     "iopub.status.busy": "2021-08-25T23:30:08.457101Z",
     "iopub.status.idle": "2021-08-25T23:30:08.484480Z",
     "shell.execute_reply": "2021-08-25T23:30:08.485711Z"
    },
    "papermill": {
     "duration": 0.067468,
     "end_time": "2021-08-25T23:30:08.486106",
     "exception": false,
     "start_time": "2021-08-25T23:30:08.418638",
     "status": "completed"
    },
    "tags": []
   },
   "outputs": [],
   "source": [
    "df_pivot = df.pivot_table(index=\"PRODUCT\", columns = \"RECORD_TIME\", values = \"LISTING_COUNT\")"
   ]
  },
  {
   "cell_type": "code",
   "execution_count": 6,
   "id": "union-huntington",
   "metadata": {
    "execution": {
     "iopub.execute_input": "2021-08-25T23:30:08.553099Z",
     "iopub.status.busy": "2021-08-25T23:30:08.550981Z",
     "iopub.status.idle": "2021-08-25T23:30:08.556582Z",
     "shell.execute_reply": "2021-08-25T23:30:08.557809Z"
    },
    "papermill": {
     "duration": 0.043453,
     "end_time": "2021-08-25T23:30:08.558241",
     "exception": false,
     "start_time": "2021-08-25T23:30:08.514788",
     "status": "completed"
    },
    "tags": []
   },
   "outputs": [],
   "source": [
    "df_pivot.columns = [\"stamp_1\", \"stamp_2\"]\n",
    "df_pivot_diff = df_pivot.diff(axis=1)"
   ]
  },
  {
   "cell_type": "code",
   "execution_count": 7,
   "id": "fifth-motion",
   "metadata": {
    "execution": {
     "iopub.execute_input": "2021-08-25T23:30:08.616953Z",
     "iopub.status.busy": "2021-08-25T23:30:08.614237Z",
     "iopub.status.idle": "2021-08-25T23:30:10.128048Z",
     "shell.execute_reply": "2021-08-25T23:30:10.129679Z"
    },
    "papermill": {
     "duration": 1.547803,
     "end_time": "2021-08-25T23:30:10.130151",
     "exception": false,
     "start_time": "2021-08-25T23:30:08.582348",
     "status": "completed"
    },
    "tags": []
   },
   "outputs": [
    {
     "data": {
      "text/plain": [
       "<AxesSubplot:ylabel='PRODUCT'>"
      ]
     },
     "execution_count": 7,
     "metadata": {},
     "output_type": "execute_result"
    },
    {
     "data": {
      "image/png": "[encoded data removed]",
      "text/plain": [
       "<Figure size 432x288 with 1 Axes>"
      ]
     },
     "metadata": {
      "needs_background": "light"
     },
     "output_type": "display_data"
    }
   ],
   "source": [
    "df_pivot_diff.sort_values(\"stamp_2\", ascending = False)[\"stamp_2\"].head(10).plot.barh()"
   ]
  },
  {
   "cell_type": "code",
   "execution_count": null,
   "id": "extra-executive",
   "metadata": {
    "papermill": {
     "duration": 0.022123,
     "end_time": "2021-08-25T23:30:10.175861",
     "exception": false,
     "start_time": "2021-08-25T23:30:10.153738",
     "status": "completed"
    },
    "tags": []
   },
   "outputs": [],
   "source": []
  }
 ],
 "metadata": {
  "kernelspec": {
   "display_name": "Python 3",
   "language": "python",
   "name": "python3"
  },
  "language_info": {
   "codemirror_mode": {
    "name": "ipython",
    "version": 3
   },
   "file_extension": ".py",
   "mimetype": "text/x-python",
   "name": "python",
   "nbconvert_exporter": "python",
   "pygments_lexer": "ipython3",
   "version": "3.9.5"
  },
  "papermill": {
   "default_parameters": {},
   "duration": 6.818713,
   "end_time": "2021-08-25T23:30:11.444203",
   "environment_variables": {},
   "exception": null,
   "input_path": "eBay_Overview.ipynb",
   "output_path": "eBay_Overview.ipynb",
   "parameters": {},
   "start_time": "2021-08-25T23:30:04.625490",
   "version": "2.3.3"
  }
 },
 "nbformat": 4,
 "nbformat_minor": 5
}