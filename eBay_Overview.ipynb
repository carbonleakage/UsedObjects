{
 "cells": [
  {
   "cell_type": "code",
   "execution_count": 1,
   "id": "reverse-picking",
   "metadata": {
    "execution": {
     "iopub.execute_input": "2021-10-08T07:00:07.609114Z",
     "iopub.status.busy": "2021-10-08T07:00:07.607224Z",
     "iopub.status.idle": "2021-10-08T07:00:08.420305Z",
     "shell.execute_reply": "2021-10-08T07:00:08.421702Z"
    },
    "papermill": {
     "duration": 0.865705,
     "end_time": "2021-10-08T07:00:08.422388",
     "exception": false,
     "start_time": "2021-10-08T07:00:07.556683",
     "status": "completed"
    },
    "tags": []
   },
   "outputs": [],
   "source": [
    "import pandas as pd\n",
    "import sqlite3"
   ]
  },
  {
   "cell_type": "code",
   "execution_count": 2,
   "id": "innovative-syndrome",
   "metadata": {
    "execution": {
     "iopub.execute_input": "2021-10-08T07:00:08.473942Z",
     "iopub.status.busy": "2021-10-08T07:00:08.471781Z",
     "iopub.status.idle": "2021-10-08T07:00:08.945728Z",
     "shell.execute_reply": "2021-10-08T07:00:08.947126Z"
    },
    "papermill": {
     "duration": 0.504548,
     "end_time": "2021-10-08T07:00:08.947561",
     "exception": false,
     "start_time": "2021-10-08T07:00:08.443013",
     "status": "completed"
    },
    "tags": []
   },
   "outputs": [],
   "source": [
    "timestamps = pd.read_sql(\"select distinct record_time from EBAY_TOP_BERLIN order by record_time desc limit 2\", sqlite3.connect(\"UsedObjects.db\"))"
   ]
  },
  {
   "cell_type": "code",
   "execution_count": 3,
   "id": "periodic-identification",
   "metadata": {
    "execution": {
     "iopub.execute_input": "2021-10-08T07:00:09.014071Z",
     "iopub.status.busy": "2021-10-08T07:00:09.012058Z",
     "iopub.status.idle": "2021-10-08T07:00:09.032090Z",
     "shell.execute_reply": "2021-10-08T07:00:09.033262Z"
    },
    "papermill": {
     "duration": 0.06481,
     "end_time": "2021-10-08T07:00:09.033704",
     "exception": false,
     "start_time": "2021-10-08T07:00:08.968894",
     "status": "completed"
    },
    "tags": []
   },
   "outputs": [
    {
     "data": {
      "text/html": [
       "<div>\n",
       "<style scoped>\n",
       "    .dataframe tbody tr th:only-of-type {\n",
       "        vertical-align: middle;\n",
       "    }\n",
       "\n",
       "    .dataframe tbody tr th {\n",
       "        vertical-align: top;\n",
       "    }\n",
       "\n",
       "    .dataframe thead th {\n",
       "        text-align: right;\n",
       "    }\n",
       "</style>\n",
       "<table border=\"1\" class=\"dataframe\">\n",
       "  <thead>\n",
       "    <tr style=\"text-align: right;\">\n",
       "      <th></th>\n",
       "      <th>RECORD_TIME</th>\n",
       "    </tr>\n",
       "  </thead>\n",
       "  <tbody>\n",
       "    <tr>\n",
       "      <th>0</th>\n",
       "      <td>2021-10-08 09:00</td>\n",
       "    </tr>\n",
       "    <tr>\n",
       "      <th>1</th>\n",
       "      <td>2021-10-08 08:30</td>\n",
       "    </tr>\n",
       "  </tbody>\n",
       "</table>\n",
       "</div>"
      ],
      "text/plain": [
       "        RECORD_TIME\n",
       "0  2021-10-08 09:00\n",
       "1  2021-10-08 08:30"
      ]
     },
     "execution_count": 3,
     "metadata": {},
     "output_type": "execute_result"
    }
   ],
   "source": [
    "timestamps"
   ]
  },
  {
   "cell_type": "code",
   "execution_count": 4,
   "id": "alternate-victory",
   "metadata": {
    "execution": {
     "iopub.execute_input": "2021-10-08T07:00:09.094126Z",
     "iopub.status.busy": "2021-10-08T07:00:09.092303Z",
     "iopub.status.idle": "2021-10-08T07:00:09.802110Z",
     "shell.execute_reply": "2021-10-08T07:00:09.804150Z"
    },
    "papermill": {
     "duration": 0.74385,
     "end_time": "2021-10-08T07:00:09.804704",
     "exception": false,
     "start_time": "2021-10-08T07:00:09.060854",
     "status": "completed"
    },
    "tags": []
   },
   "outputs": [],
   "source": [
    "df = pd.read_sql(\"select * from EBAY_TOP_BERLIN where record_time in (select distinct record_time from EBAY_TOP_BERLIN order by record_time desc limit 2)\", sqlite3.connect(\"UsedObjects.db\"))"
   ]
  },
  {
   "cell_type": "code",
   "execution_count": 5,
   "id": "popular-active",
   "metadata": {
    "execution": {
     "iopub.execute_input": "2021-10-08T07:00:09.876366Z",
     "iopub.status.busy": "2021-10-08T07:00:09.864347Z",
     "iopub.status.idle": "2021-10-08T07:00:09.891842Z",
     "shell.execute_reply": "2021-10-08T07:00:09.893047Z"
    },
    "papermill": {
     "duration": 0.068231,
     "end_time": "2021-10-08T07:00:09.893445",
     "exception": false,
     "start_time": "2021-10-08T07:00:09.825214",
     "status": "completed"
    },
    "tags": []
   },
   "outputs": [],
   "source": [
    "df_pivot = df.pivot_table(index=\"PRODUCT\", columns = \"RECORD_TIME\", values = \"LISTING_COUNT\")"
   ]
  },
  {
   "cell_type": "code",
   "execution_count": 6,
   "id": "union-huntington",
   "metadata": {
    "execution": {
     "iopub.execute_input": "2021-10-08T07:00:09.952852Z",
     "iopub.status.busy": "2021-10-08T07:00:09.950402Z",
     "iopub.status.idle": "2021-10-08T07:00:09.956391Z",
     "shell.execute_reply": "2021-10-08T07:00:09.957629Z"
    },
    "papermill": {
     "duration": 0.042285,
     "end_time": "2021-10-08T07:00:09.958045",
     "exception": false,
     "start_time": "2021-10-08T07:00:09.915760",
     "status": "completed"
    },
    "tags": []
   },
   "outputs": [],
   "source": [
    "df_pivot.columns = [\"stamp_1\", \"stamp_2\"]\n",
    "df_pivot_diff = df_pivot.diff(axis=1)"
   ]
  },
  {
   "cell_type": "code",
   "execution_count": 7,
   "id": "fifth-motion",
   "metadata": {
    "execution": {
     "iopub.execute_input": "2021-10-08T07:00:10.012288Z",
     "iopub.status.busy": "2021-10-08T07:00:10.009810Z",
     "iopub.status.idle": "2021-10-08T07:00:11.545935Z",
     "shell.execute_reply": "2021-10-08T07:00:11.547516Z"
    },
    "papermill": {
     "duration": 1.569274,
     "end_time": "2021-10-08T07:00:11.547978",
     "exception": false,
     "start_time": "2021-10-08T07:00:09.978704",
     "status": "completed"
    },
    "tags": []
   },
   "outputs": [
    {
     "data": {
      "text/plain": [
       "<AxesSubplot:ylabel='PRODUCT'>"
      ]
     },
     "execution_count": 7,
     "metadata": {},
     "output_type": "execute_result"
    },
    {
     "data": {
      "image/png": "[encoded data removed]",
      "text/plain": [
       "<Figure size 432x288 with 1 Axes>"
      ]
     },
     "metadata": {
      "needs_background": "light"
     },
     "output_type": "display_data"
    }
   ],
   "source": [
    "df_pivot_diff.sort_values(\"stamp_2\", ascending = False)[\"stamp_2\"].head(10).plot.barh()"
   ]
  },
  {
   "cell_type": "code",
   "execution_count": null,
   "id": "extra-executive",
   "metadata": {
    "papermill": {
     "duration": 0.022544,
     "end_time": "2021-10-08T07:00:11.595131",
     "exception": false,
     "start_time": "2021-10-08T07:00:11.572587",
     "status": "completed"
    },
    "tags": []
   },
   "outputs": [],
   "source": []
  }
 ],
 "metadata": {
  "kernelspec": {
   "display_name": "Python 3",
   "language": "python",
   "name": "python3"
  },
  "language_info": {
   "codemirror_mode": {
    "name": "ipython",
    "version": 3
   },
   "file_extension": ".py",
   "mimetype": "text/x-python",
   "name": "python",
   "nbconvert_exporter": "python",
   "pygments_lexer": "ipython3",
   "version": "3.9.5"
  },
  "papermill": {
   "default_parameters": {},
   "duration": 7.847665,
   "end_time": "2021-10-08T07:00:12.978276",
   "environment_variables": {},
   "exception": null,
   "input_path": "eBay_Overview.ipynb",
   "output_path": "eBay_Overview.ipynb",
   "parameters": {},
   "start_time": "2021-10-08T07:00:05.130611",
   "version": "2.3.3"
  }
 },
 "nbformat": 4,
 "nbformat_minor": 5
}