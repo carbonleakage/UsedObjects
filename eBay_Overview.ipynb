{
 "cells": [
  {
   "cell_type": "code",
   "execution_count": 1,
   "id": "reverse-picking",
   "metadata": {
    "execution": {
     "iopub.execute_input": "2021-11-23T20:30:08.607914Z",
     "iopub.status.busy": "2021-11-23T20:30:08.605498Z",
     "iopub.status.idle": "2021-11-23T20:30:09.571464Z",
     "shell.execute_reply": "2021-11-23T20:30:09.573046Z"
    },
    "papermill": {
     "duration": 1.014366,
     "end_time": "2021-11-23T20:30:09.573785",
     "exception": false,
     "start_time": "2021-11-23T20:30:08.559419",
     "status": "completed"
    },
    "tags": []
   },
   "outputs": [],
   "source": [
    "import pandas as pd\n",
    "import sqlite3"
   ]
  },
  {
   "cell_type": "code",
   "execution_count": 2,
   "id": "innovative-syndrome",
   "metadata": {
    "execution": {
     "iopub.execute_input": "2021-11-23T20:30:09.629316Z",
     "iopub.status.busy": "2021-11-23T20:30:09.627103Z",
     "iopub.status.idle": "2021-11-23T20:30:10.509864Z",
     "shell.execute_reply": "2021-11-23T20:30:10.511139Z"
    },
    "papermill": {
     "duration": 0.915804,
     "end_time": "2021-11-23T20:30:10.511536",
     "exception": false,
     "start_time": "2021-11-23T20:30:09.595732",
     "status": "completed"
    },
    "tags": []
   },
   "outputs": [],
   "source": [
    "timestamps = pd.read_sql(\"select distinct record_time from EBAY_TOP_BERLIN order by record_time desc limit 2\", sqlite3.connect(\"UsedObjects.db\"))"
   ]
  },
  {
   "cell_type": "code",
   "execution_count": 3,
   "id": "periodic-identification",
   "metadata": {
    "execution": {
     "iopub.execute_input": "2021-11-23T20:30:10.575818Z",
     "iopub.status.busy": "2021-11-23T20:30:10.573791Z",
     "iopub.status.idle": "2021-11-23T20:30:10.594148Z",
     "shell.execute_reply": "2021-11-23T20:30:10.595704Z"
    },
    "papermill": {
     "duration": 0.065243,
     "end_time": "2021-11-23T20:30:10.596183",
     "exception": false,
     "start_time": "2021-11-23T20:30:10.530940",
     "status": "completed"
    },
    "tags": []
   },
   "outputs": [
    {
     "data": {
      "text/html": [
       "<div>\n",
       "<style scoped>\n",
       "    .dataframe tbody tr th:only-of-type {\n",
       "        vertical-align: middle;\n",
       "    }\n",
       "\n",
       "    .dataframe tbody tr th {\n",
       "        vertical-align: top;\n",
       "    }\n",
       "\n",
       "    .dataframe thead th {\n",
       "        text-align: right;\n",
       "    }\n",
       "</style>\n",
       "<table border=\"1\" class=\"dataframe\">\n",
       "  <thead>\n",
       "    <tr style=\"text-align: right;\">\n",
       "      <th></th>\n",
       "      <th>RECORD_TIME</th>\n",
       "    </tr>\n",
       "  </thead>\n",
       "  <tbody>\n",
       "    <tr>\n",
       "      <th>0</th>\n",
       "      <td>2021-11-23 21:30</td>\n",
       "    </tr>\n",
       "    <tr>\n",
       "      <th>1</th>\n",
       "      <td>2021-11-23 21:00</td>\n",
       "    </tr>\n",
       "  </tbody>\n",
       "</table>\n",
       "</div>"
      ],
      "text/plain": [
       "        RECORD_TIME\n",
       "0  2021-11-23 21:30\n",
       "1  2021-11-23 21:00"
      ]
     },
     "execution_count": 3,
     "metadata": {},
     "output_type": "execute_result"
    }
   ],
   "source": [
    "timestamps"
   ]
  },
  {
   "cell_type": "code",
   "execution_count": 4,
   "id": "alternate-victory",
   "metadata": {
    "execution": {
     "iopub.execute_input": "2021-11-23T20:30:10.650834Z",
     "iopub.status.busy": "2021-11-23T20:30:10.648770Z",
     "iopub.status.idle": "2021-11-23T20:30:11.958752Z",
     "shell.execute_reply": "2021-11-23T20:30:11.960341Z"
    },
    "papermill": {
     "duration": 1.342803,
     "end_time": "2021-11-23T20:30:11.961035",
     "exception": false,
     "start_time": "2021-11-23T20:30:10.618232",
     "status": "completed"
    },
    "tags": []
   },
   "outputs": [],
   "source": [
    "df = pd.read_sql(\"select * from EBAY_TOP_BERLIN where record_time in (select distinct record_time from EBAY_TOP_BERLIN order by record_time desc limit 2)\", sqlite3.connect(\"UsedObjects.db\"))"
   ]
  },
  {
   "cell_type": "code",
   "execution_count": 5,
   "id": "popular-active",
   "metadata": {
    "execution": {
     "iopub.execute_input": "2021-11-23T20:30:12.017355Z",
     "iopub.status.busy": "2021-11-23T20:30:12.014393Z",
     "iopub.status.idle": "2021-11-23T20:30:12.062822Z",
     "shell.execute_reply": "2021-11-23T20:30:12.064812Z"
    },
    "papermill": {
     "duration": 0.082342,
     "end_time": "2021-11-23T20:30:12.065311",
     "exception": false,
     "start_time": "2021-11-23T20:30:11.982969",
     "status": "completed"
    },
    "tags": []
   },
   "outputs": [],
   "source": [
    "df_pivot = df.pivot_table(index=\"PRODUCT\", columns = \"RECORD_TIME\", values = \"LISTING_COUNT\")"
   ]
  },
  {
   "cell_type": "code",
   "execution_count": 6,
   "id": "union-huntington",
   "metadata": {
    "execution": {
     "iopub.execute_input": "2021-11-23T20:30:12.124673Z",
     "iopub.status.busy": "2021-11-23T20:30:12.122536Z",
     "iopub.status.idle": "2021-11-23T20:30:12.128310Z",
     "shell.execute_reply": "2021-11-23T20:30:12.129847Z"
    },
    "papermill": {
     "duration": 0.043438,
     "end_time": "2021-11-23T20:30:12.130334",
     "exception": false,
     "start_time": "2021-11-23T20:30:12.086896",
     "status": "completed"
    },
    "tags": []
   },
   "outputs": [],
   "source": [
    "df_pivot.columns = [\"stamp_1\", \"stamp_2\"]\n",
    "df_pivot_diff = df_pivot.diff(axis=1)"
   ]
  },
  {
   "cell_type": "code",
   "execution_count": 7,
   "id": "fifth-motion",
   "metadata": {
    "execution": {
     "iopub.execute_input": "2021-11-23T20:30:12.185734Z",
     "iopub.status.busy": "2021-11-23T20:30:12.183499Z",
     "iopub.status.idle": "2021-11-23T20:30:14.260369Z",
     "shell.execute_reply": "2021-11-23T20:30:14.261814Z"
    },
    "papermill": {
     "duration": 2.111854,
     "end_time": "2021-11-23T20:30:14.262270",
     "exception": false,
     "start_time": "2021-11-23T20:30:12.150416",
     "status": "completed"
    },
    "tags": []
   },
   "outputs": [
    {
     "data": {
      "text/plain": [
       "<AxesSubplot:ylabel='PRODUCT'>"
      ]
     },
     "execution_count": 7,
     "metadata": {},
     "output_type": "execute_result"
    },
    {
     "data": {
      "image/png": "[encoded data removed]",
      "text/plain": [
       "<Figure size 432x288 with 1 Axes>"
      ]
     },
     "metadata": {
      "needs_background": "light"
     },
     "output_type": "display_data"
    }
   ],
   "source": [
    "df_pivot_diff.sort_values(\"stamp_2\", ascending = False)[\"stamp_2\"].head(10).plot.barh()"
   ]
  },
  {
   "cell_type": "code",
   "execution_count": null,
   "id": "extra-executive",
   "metadata": {
    "papermill": {
     "duration": 0.022303,
     "end_time": "2021-11-23T20:30:14.310495",
     "exception": false,
     "start_time": "2021-11-23T20:30:14.288192",
     "status": "completed"
    },
    "tags": []
   },
   "outputs": [],
   "source": []
  }
 ],
 "metadata": {
  "kernelspec": {
   "display_name": "Python 3",
   "language": "python",
   "name": "python3"
  },
  "language_info": {
   "codemirror_mode": {
    "name": "ipython",
    "version": 3
   },
   "file_extension": ".py",
   "mimetype": "text/x-python",
   "name": "python",
   "nbconvert_exporter": "python",
   "pygments_lexer": "ipython3",
   "version": "3.9.5"
  },
  "papermill": {
   "default_parameters": {},
   "duration": 9.943073,
   "end_time": "2021-11-23T20:30:15.741595",
   "environment_variables": {},
   "exception": null,
   "input_path": "eBay_Overview.ipynb",
   "output_path": "eBay_Overview.ipynb",
   "parameters": {},
   "start_time": "2021-11-23T20:30:05.798522",
   "version": "2.3.3"
  }
 },
 "nbformat": 4,
 "nbformat_minor": 5
}