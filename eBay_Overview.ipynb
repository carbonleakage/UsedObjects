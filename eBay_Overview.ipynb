{
 "cells": [
  {
   "cell_type": "code",
   "execution_count": 1,
   "id": "reverse-picking",
   "metadata": {
    "execution": {
     "iopub.execute_input": "2021-11-11T13:30:07.890627Z",
     "iopub.status.busy": "2021-11-11T13:30:07.888213Z",
     "iopub.status.idle": "2021-11-11T13:30:08.835872Z",
     "shell.execute_reply": "2021-11-11T13:30:08.838085Z"
    },
    "papermill": {
     "duration": 0.99496,
     "end_time": "2021-11-11T13:30:08.838826",
     "exception": false,
     "start_time": "2021-11-11T13:30:07.843866",
     "status": "completed"
    },
    "tags": []
   },
   "outputs": [],
   "source": [
    "import pandas as pd\n",
    "import sqlite3"
   ]
  },
  {
   "cell_type": "code",
   "execution_count": 2,
   "id": "innovative-syndrome",
   "metadata": {
    "execution": {
     "iopub.execute_input": "2021-11-11T13:30:08.900491Z",
     "iopub.status.busy": "2021-11-11T13:30:08.898189Z",
     "iopub.status.idle": "2021-11-11T13:30:09.677442Z",
     "shell.execute_reply": "2021-11-11T13:30:09.678988Z"
    },
    "papermill": {
     "duration": 0.813569,
     "end_time": "2021-11-11T13:30:09.679471",
     "exception": false,
     "start_time": "2021-11-11T13:30:08.865902",
     "status": "completed"
    },
    "tags": []
   },
   "outputs": [],
   "source": [
    "timestamps = pd.read_sql(\"select distinct record_time from EBAY_TOP_BERLIN order by record_time desc limit 2\", sqlite3.connect(\"UsedObjects.db\"))"
   ]
  },
  {
   "cell_type": "code",
   "execution_count": 3,
   "id": "periodic-identification",
   "metadata": {
    "execution": {
     "iopub.execute_input": "2021-11-11T13:30:09.748348Z",
     "iopub.status.busy": "2021-11-11T13:30:09.745736Z",
     "iopub.status.idle": "2021-11-11T13:30:09.767871Z",
     "shell.execute_reply": "2021-11-11T13:30:09.769452Z"
    },
    "papermill": {
     "duration": 0.070296,
     "end_time": "2021-11-11T13:30:09.769930",
     "exception": false,
     "start_time": "2021-11-11T13:30:09.699634",
     "status": "completed"
    },
    "tags": []
   },
   "outputs": [
    {
     "data": {
      "text/html": [
       "<div>\n",
       "<style scoped>\n",
       "    .dataframe tbody tr th:only-of-type {\n",
       "        vertical-align: middle;\n",
       "    }\n",
       "\n",
       "    .dataframe tbody tr th {\n",
       "        vertical-align: top;\n",
       "    }\n",
       "\n",
       "    .dataframe thead th {\n",
       "        text-align: right;\n",
       "    }\n",
       "</style>\n",
       "<table border=\"1\" class=\"dataframe\">\n",
       "  <thead>\n",
       "    <tr style=\"text-align: right;\">\n",
       "      <th></th>\n",
       "      <th>RECORD_TIME</th>\n",
       "    </tr>\n",
       "  </thead>\n",
       "  <tbody>\n",
       "    <tr>\n",
       "      <th>0</th>\n",
       "      <td>2021-11-11 14:30</td>\n",
       "    </tr>\n",
       "    <tr>\n",
       "      <th>1</th>\n",
       "      <td>2021-11-11 14:00</td>\n",
       "    </tr>\n",
       "  </tbody>\n",
       "</table>\n",
       "</div>"
      ],
      "text/plain": [
       "        RECORD_TIME\n",
       "0  2021-11-11 14:30\n",
       "1  2021-11-11 14:00"
      ]
     },
     "execution_count": 3,
     "metadata": {},
     "output_type": "execute_result"
    }
   ],
   "source": [
    "timestamps"
   ]
  },
  {
   "cell_type": "code",
   "execution_count": 4,
   "id": "alternate-victory",
   "metadata": {
    "execution": {
     "iopub.execute_input": "2021-11-11T13:30:09.824069Z",
     "iopub.status.busy": "2021-11-11T13:30:09.822037Z",
     "iopub.status.idle": "2021-11-11T13:30:10.994388Z",
     "shell.execute_reply": "2021-11-11T13:30:10.995978Z"
    },
    "papermill": {
     "duration": 1.20596,
     "end_time": "2021-11-11T13:30:10.996496",
     "exception": false,
     "start_time": "2021-11-11T13:30:09.790536",
     "status": "completed"
    },
    "tags": []
   },
   "outputs": [],
   "source": [
    "df = pd.read_sql(\"select * from EBAY_TOP_BERLIN where record_time in (select distinct record_time from EBAY_TOP_BERLIN order by record_time desc limit 2)\", sqlite3.connect(\"UsedObjects.db\"))"
   ]
  },
  {
   "cell_type": "code",
   "execution_count": 5,
   "id": "popular-active",
   "metadata": {
    "execution": {
     "iopub.execute_input": "2021-11-11T13:30:11.071191Z",
     "iopub.status.busy": "2021-11-11T13:30:11.063230Z",
     "iopub.status.idle": "2021-11-11T13:30:11.096170Z",
     "shell.execute_reply": "2021-11-11T13:30:11.097671Z"
    },
    "papermill": {
     "duration": 0.078519,
     "end_time": "2021-11-11T13:30:11.098156",
     "exception": false,
     "start_time": "2021-11-11T13:30:11.019637",
     "status": "completed"
    },
    "tags": []
   },
   "outputs": [],
   "source": [
    "df_pivot = df.pivot_table(index=\"PRODUCT\", columns = \"RECORD_TIME\", values = \"LISTING_COUNT\")"
   ]
  },
  {
   "cell_type": "code",
   "execution_count": 6,
   "id": "union-huntington",
   "metadata": {
    "execution": {
     "iopub.execute_input": "2021-11-11T13:30:11.161570Z",
     "iopub.status.busy": "2021-11-11T13:30:11.159076Z",
     "iopub.status.idle": "2021-11-11T13:30:11.166343Z",
     "shell.execute_reply": "2021-11-11T13:30:11.164224Z"
    },
    "papermill": {
     "duration": 0.04708,
     "end_time": "2021-11-11T13:30:11.166789",
     "exception": false,
     "start_time": "2021-11-11T13:30:11.119709",
     "status": "completed"
    },
    "tags": []
   },
   "outputs": [],
   "source": [
    "df_pivot.columns = [\"stamp_1\", \"stamp_2\"]\n",
    "df_pivot_diff = df_pivot.diff(axis=1)"
   ]
  },
  {
   "cell_type": "code",
   "execution_count": 7,
   "id": "fifth-motion",
   "metadata": {
    "execution": {
     "iopub.execute_input": "2021-11-11T13:30:11.222581Z",
     "iopub.status.busy": "2021-11-11T13:30:11.220078Z",
     "iopub.status.idle": "2021-11-11T13:30:12.978102Z",
     "shell.execute_reply": "2021-11-11T13:30:12.981021Z"
    },
    "papermill": {
     "duration": 1.794927,
     "end_time": "2021-11-11T13:30:12.981814",
     "exception": false,
     "start_time": "2021-11-11T13:30:11.186887",
     "status": "completed"
    },
    "tags": []
   },
   "outputs": [
    {
     "data": {
      "text/plain": [
       "<AxesSubplot:ylabel='PRODUCT'>"
      ]
     },
     "execution_count": 7,
     "metadata": {},
     "output_type": "execute_result"
    },
    {
     "data": {
      "image/png": "[encoded data removed]",
      "text/plain": [
       "<Figure size 432x288 with 1 Axes>"
      ]
     },
     "metadata": {
      "needs_background": "light"
     },
     "output_type": "display_data"
    }
   ],
   "source": [
    "df_pivot_diff.sort_values(\"stamp_2\", ascending = False)[\"stamp_2\"].head(10).plot.barh()"
   ]
  },
  {
   "cell_type": "code",
   "execution_count": null,
   "id": "extra-executive",
   "metadata": {
    "papermill": {
     "duration": 0.033884,
     "end_time": "2021-11-11T13:30:13.052040",
     "exception": false,
     "start_time": "2021-11-11T13:30:13.018156",
     "status": "completed"
    },
    "tags": []
   },
   "outputs": [],
   "source": []
  }
 ],
 "metadata": {
  "kernelspec": {
   "display_name": "Python 3",
   "language": "python",
   "name": "python3"
  },
  "language_info": {
   "codemirror_mode": {
    "name": "ipython",
    "version": 3
   },
   "file_extension": ".py",
   "mimetype": "text/x-python",
   "name": "python",
   "nbconvert_exporter": "python",
   "pygments_lexer": "ipython3",
   "version": "3.9.5"
  },
  "papermill": {
   "default_parameters": {},
   "duration": 8.820446,
   "end_time": "2021-11-11T13:30:13.927232",
   "environment_variables": {},
   "exception": null,
   "input_path": "eBay_Overview.ipynb",
   "output_path": "eBay_Overview.ipynb",
   "parameters": {},
   "start_time": "2021-11-11T13:30:05.106786",
   "version": "2.3.3"
  }
 },
 "nbformat": 4,
 "nbformat_minor": 5
}