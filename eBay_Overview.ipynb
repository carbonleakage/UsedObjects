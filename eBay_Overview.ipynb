{
 "cells": [
  {
   "cell_type": "code",
   "execution_count": 1,
   "id": "reverse-picking",
   "metadata": {
    "execution": {
     "iopub.execute_input": "2021-12-02T11:00:07.905260Z",
     "iopub.status.busy": "2021-12-02T11:00:07.902624Z",
     "iopub.status.idle": "2021-12-02T11:00:08.872887Z",
     "shell.execute_reply": "2021-12-02T11:00:08.874476Z"
    },
    "papermill": {
     "duration": 1.01069,
     "end_time": "2021-12-02T11:00:08.875227",
     "exception": false,
     "start_time": "2021-12-02T11:00:07.864537",
     "status": "completed"
    },
    "tags": []
   },
   "outputs": [],
   "source": [
    "import pandas as pd\n",
    "import sqlite3"
   ]
  },
  {
   "cell_type": "code",
   "execution_count": 2,
   "id": "innovative-syndrome",
   "metadata": {
    "execution": {
     "iopub.execute_input": "2021-12-02T11:00:08.941014Z",
     "iopub.status.busy": "2021-12-02T11:00:08.938699Z",
     "iopub.status.idle": "2021-12-02T11:00:09.935032Z",
     "shell.execute_reply": "2021-12-02T11:00:09.932823Z"
    },
    "papermill": {
     "duration": 1.029602,
     "end_time": "2021-12-02T11:00:09.935454",
     "exception": false,
     "start_time": "2021-12-02T11:00:08.905852",
     "status": "completed"
    },
    "tags": []
   },
   "outputs": [],
   "source": [
    "timestamps = pd.read_sql(\"select distinct record_time from EBAY_TOP_BERLIN order by record_time desc limit 2\", sqlite3.connect(\"UsedObjects.db\"))"
   ]
  },
  {
   "cell_type": "code",
   "execution_count": 3,
   "id": "periodic-identification",
   "metadata": {
    "execution": {
     "iopub.execute_input": "2021-12-02T11:00:10.007422Z",
     "iopub.status.busy": "2021-12-02T11:00:10.005403Z",
     "iopub.status.idle": "2021-12-02T11:00:10.025264Z",
     "shell.execute_reply": "2021-12-02T11:00:10.026574Z"
    },
    "papermill": {
     "duration": 0.070318,
     "end_time": "2021-12-02T11:00:10.026987",
     "exception": false,
     "start_time": "2021-12-02T11:00:09.956669",
     "status": "completed"
    },
    "tags": []
   },
   "outputs": [
    {
     "data": {
      "text/html": [
       "<div>\n",
       "<style scoped>\n",
       "    .dataframe tbody tr th:only-of-type {\n",
       "        vertical-align: middle;\n",
       "    }\n",
       "\n",
       "    .dataframe tbody tr th {\n",
       "        vertical-align: top;\n",
       "    }\n",
       "\n",
       "    .dataframe thead th {\n",
       "        text-align: right;\n",
       "    }\n",
       "</style>\n",
       "<table border=\"1\" class=\"dataframe\">\n",
       "  <thead>\n",
       "    <tr style=\"text-align: right;\">\n",
       "      <th></th>\n",
       "      <th>RECORD_TIME</th>\n",
       "    </tr>\n",
       "  </thead>\n",
       "  <tbody>\n",
       "    <tr>\n",
       "      <th>0</th>\n",
       "      <td>2021-12-02 12:00</td>\n",
       "    </tr>\n",
       "    <tr>\n",
       "      <th>1</th>\n",
       "      <td>2021-12-02 11:30</td>\n",
       "    </tr>\n",
       "  </tbody>\n",
       "</table>\n",
       "</div>"
      ],
      "text/plain": [
       "        RECORD_TIME\n",
       "0  2021-12-02 12:00\n",
       "1  2021-12-02 11:30"
      ]
     },
     "execution_count": 3,
     "metadata": {},
     "output_type": "execute_result"
    }
   ],
   "source": [
    "timestamps"
   ]
  },
  {
   "cell_type": "code",
   "execution_count": 4,
   "id": "alternate-victory",
   "metadata": {
    "execution": {
     "iopub.execute_input": "2021-12-02T11:00:10.079718Z",
     "iopub.status.busy": "2021-12-02T11:00:10.077435Z",
     "iopub.status.idle": "2021-12-02T11:00:11.475699Z",
     "shell.execute_reply": "2021-12-02T11:00:11.477148Z"
    },
    "papermill": {
     "duration": 1.429387,
     "end_time": "2021-12-02T11:00:11.477624",
     "exception": false,
     "start_time": "2021-12-02T11:00:10.048237",
     "status": "completed"
    },
    "tags": []
   },
   "outputs": [],
   "source": [
    "df = pd.read_sql(\"select * from EBAY_TOP_BERLIN where record_time in (select distinct record_time from EBAY_TOP_BERLIN order by record_time desc limit 2)\", sqlite3.connect(\"UsedObjects.db\"))"
   ]
  },
  {
   "cell_type": "code",
   "execution_count": 5,
   "id": "popular-active",
   "metadata": {
    "execution": {
     "iopub.execute_input": "2021-12-02T11:00:11.557615Z",
     "iopub.status.busy": "2021-12-02T11:00:11.542996Z",
     "iopub.status.idle": "2021-12-02T11:00:11.578020Z",
     "shell.execute_reply": "2021-12-02T11:00:11.576442Z"
    },
    "papermill": {
     "duration": 0.080258,
     "end_time": "2021-12-02T11:00:11.578496",
     "exception": false,
     "start_time": "2021-12-02T11:00:11.498238",
     "status": "completed"
    },
    "tags": []
   },
   "outputs": [],
   "source": [
    "df_pivot = df.pivot_table(index=\"PRODUCT\", columns = \"RECORD_TIME\", values = \"LISTING_COUNT\")"
   ]
  },
  {
   "cell_type": "code",
   "execution_count": 6,
   "id": "union-huntington",
   "metadata": {
    "execution": {
     "iopub.execute_input": "2021-12-02T11:00:11.647245Z",
     "iopub.status.busy": "2021-12-02T11:00:11.645069Z",
     "iopub.status.idle": "2021-12-02T11:00:11.651240Z",
     "shell.execute_reply": "2021-12-02T11:00:11.653218Z"
    },
    "papermill": {
     "duration": 0.048721,
     "end_time": "2021-12-02T11:00:11.653735",
     "exception": false,
     "start_time": "2021-12-02T11:00:11.605014",
     "status": "completed"
    },
    "tags": []
   },
   "outputs": [],
   "source": [
    "df_pivot.columns = [\"stamp_1\", \"stamp_2\"]\n",
    "df_pivot_diff = df_pivot.diff(axis=1)"
   ]
  },
  {
   "cell_type": "code",
   "execution_count": 7,
   "id": "fifth-motion",
   "metadata": {
    "execution": {
     "iopub.execute_input": "2021-12-02T11:00:11.711186Z",
     "iopub.status.busy": "2021-12-02T11:00:11.708648Z",
     "iopub.status.idle": "2021-12-02T11:00:13.723367Z",
     "shell.execute_reply": "2021-12-02T11:00:13.725483Z"
    },
    "papermill": {
     "duration": 2.050888,
     "end_time": "2021-12-02T11:00:13.726147",
     "exception": false,
     "start_time": "2021-12-02T11:00:11.675259",
     "status": "completed"
    },
    "tags": []
   },
   "outputs": [
    {
     "data": {
      "text/plain": [
       "<AxesSubplot:ylabel='PRODUCT'>"
      ]
     },
     "execution_count": 7,
     "metadata": {},
     "output_type": "execute_result"
    },
    {
     "data": {
      "image/png": "[encoded data removed]",
      "text/plain": [
       "<Figure size 432x288 with 1 Axes>"
      ]
     },
     "metadata": {
      "needs_background": "light"
     },
     "output_type": "display_data"
    }
   ],
   "source": [
    "df_pivot_diff.sort_values(\"stamp_2\", ascending = False)[\"stamp_2\"].head(10).plot.barh()"
   ]
  },
  {
   "cell_type": "code",
   "execution_count": null,
   "id": "extra-executive",
   "metadata": {
    "papermill": {
     "duration": 0.027833,
     "end_time": "2021-12-02T11:00:13.782710",
     "exception": false,
     "start_time": "2021-12-02T11:00:13.754877",
     "status": "completed"
    },
    "tags": []
   },
   "outputs": [],
   "source": []
  }
 ],
 "metadata": {
  "kernelspec": {
   "display_name": "Python 3",
   "language": "python",
   "name": "python3"
  },
  "language_info": {
   "codemirror_mode": {
    "name": "ipython",
    "version": 3
   },
   "file_extension": ".py",
   "mimetype": "text/x-python",
   "name": "python",
   "nbconvert_exporter": "python",
   "pygments_lexer": "ipython3",
   "version": "3.9.5"
  },
  "papermill": {
   "default_parameters": {},
   "duration": 9.944787,
   "end_time": "2021-12-02T11:00:15.071778",
   "environment_variables": {},
   "exception": null,
   "input_path": "eBay_Overview.ipynb",
   "output_path": "eBay_Overview.ipynb",
   "parameters": {},
   "start_time": "2021-12-02T11:00:05.126991",
   "version": "2.3.3"
  }
 },
 "nbformat": 4,
 "nbformat_minor": 5
}