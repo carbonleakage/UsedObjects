{
 "cells": [
  {
   "cell_type": "code",
   "execution_count": 1,
   "id": "reverse-picking",
   "metadata": {
    "execution": {
     "iopub.execute_input": "2021-10-10T02:30:07.085113Z",
     "iopub.status.busy": "2021-10-10T02:30:07.083155Z",
     "iopub.status.idle": "2021-10-10T02:30:07.891051Z",
     "shell.execute_reply": "2021-10-10T02:30:07.892338Z"
    },
    "papermill": {
     "duration": 0.86132,
     "end_time": "2021-10-10T02:30:07.892942",
     "exception": false,
     "start_time": "2021-10-10T02:30:07.031622",
     "status": "completed"
    },
    "tags": []
   },
   "outputs": [],
   "source": [
    "import pandas as pd\n",
    "import sqlite3"
   ]
  },
  {
   "cell_type": "code",
   "execution_count": 2,
   "id": "innovative-syndrome",
   "metadata": {
    "execution": {
     "iopub.execute_input": "2021-10-10T02:30:07.944043Z",
     "iopub.status.busy": "2021-10-10T02:30:07.942055Z",
     "iopub.status.idle": "2021-10-10T02:30:08.444205Z",
     "shell.execute_reply": "2021-10-10T02:30:08.445330Z"
    },
    "papermill": {
     "duration": 0.531338,
     "end_time": "2021-10-10T02:30:08.445741",
     "exception": false,
     "start_time": "2021-10-10T02:30:07.914403",
     "status": "completed"
    },
    "tags": []
   },
   "outputs": [],
   "source": [
    "timestamps = pd.read_sql(\"select distinct record_time from EBAY_TOP_BERLIN order by record_time desc limit 2\", sqlite3.connect(\"UsedObjects.db\"))"
   ]
  },
  {
   "cell_type": "code",
   "execution_count": 3,
   "id": "periodic-identification",
   "metadata": {
    "execution": {
     "iopub.execute_input": "2021-10-10T02:30:08.513833Z",
     "iopub.status.busy": "2021-10-10T02:30:08.511819Z",
     "iopub.status.idle": "2021-10-10T02:30:08.531929Z",
     "shell.execute_reply": "2021-10-10T02:30:08.533716Z"
    },
    "papermill": {
     "duration": 0.066149,
     "end_time": "2021-10-10T02:30:08.534246",
     "exception": false,
     "start_time": "2021-10-10T02:30:08.468097",
     "status": "completed"
    },
    "tags": []
   },
   "outputs": [
    {
     "data": {
      "text/html": [
       "<div>\n",
       "<style scoped>\n",
       "    .dataframe tbody tr th:only-of-type {\n",
       "        vertical-align: middle;\n",
       "    }\n",
       "\n",
       "    .dataframe tbody tr th {\n",
       "        vertical-align: top;\n",
       "    }\n",
       "\n",
       "    .dataframe thead th {\n",
       "        text-align: right;\n",
       "    }\n",
       "</style>\n",
       "<table border=\"1\" class=\"dataframe\">\n",
       "  <thead>\n",
       "    <tr style=\"text-align: right;\">\n",
       "      <th></th>\n",
       "      <th>RECORD_TIME</th>\n",
       "    </tr>\n",
       "  </thead>\n",
       "  <tbody>\n",
       "    <tr>\n",
       "      <th>0</th>\n",
       "      <td>2021-10-10 04:30</td>\n",
       "    </tr>\n",
       "    <tr>\n",
       "      <th>1</th>\n",
       "      <td>2021-10-10 04:00</td>\n",
       "    </tr>\n",
       "  </tbody>\n",
       "</table>\n",
       "</div>"
      ],
      "text/plain": [
       "        RECORD_TIME\n",
       "0  2021-10-10 04:30\n",
       "1  2021-10-10 04:00"
      ]
     },
     "execution_count": 3,
     "metadata": {},
     "output_type": "execute_result"
    }
   ],
   "source": [
    "timestamps"
   ]
  },
  {
   "cell_type": "code",
   "execution_count": 4,
   "id": "alternate-victory",
   "metadata": {
    "execution": {
     "iopub.execute_input": "2021-10-10T02:30:08.596406Z",
     "iopub.status.busy": "2021-10-10T02:30:08.594443Z",
     "iopub.status.idle": "2021-10-10T02:30:09.325591Z",
     "shell.execute_reply": "2021-10-10T02:30:09.327019Z"
    },
    "papermill": {
     "duration": 0.766275,
     "end_time": "2021-10-10T02:30:09.327478",
     "exception": false,
     "start_time": "2021-10-10T02:30:08.561203",
     "status": "completed"
    },
    "tags": []
   },
   "outputs": [],
   "source": [
    "df = pd.read_sql(\"select * from EBAY_TOP_BERLIN where record_time in (select distinct record_time from EBAY_TOP_BERLIN order by record_time desc limit 2)\", sqlite3.connect(\"UsedObjects.db\"))"
   ]
  },
  {
   "cell_type": "code",
   "execution_count": 5,
   "id": "popular-active",
   "metadata": {
    "execution": {
     "iopub.execute_input": "2021-10-10T02:30:09.388677Z",
     "iopub.status.busy": "2021-10-10T02:30:09.386430Z",
     "iopub.status.idle": "2021-10-10T02:30:09.414220Z",
     "shell.execute_reply": "2021-10-10T02:30:09.415592Z"
    },
    "papermill": {
     "duration": 0.068273,
     "end_time": "2021-10-10T02:30:09.416013",
     "exception": false,
     "start_time": "2021-10-10T02:30:09.347740",
     "status": "completed"
    },
    "tags": []
   },
   "outputs": [],
   "source": [
    "df_pivot = df.pivot_table(index=\"PRODUCT\", columns = \"RECORD_TIME\", values = \"LISTING_COUNT\")"
   ]
  },
  {
   "cell_type": "code",
   "execution_count": 6,
   "id": "union-huntington",
   "metadata": {
    "execution": {
     "iopub.execute_input": "2021-10-10T02:30:09.473582Z",
     "iopub.status.busy": "2021-10-10T02:30:09.471426Z",
     "iopub.status.idle": "2021-10-10T02:30:09.476979Z",
     "shell.execute_reply": "2021-10-10T02:30:09.478242Z"
    },
    "papermill": {
     "duration": 0.041593,
     "end_time": "2021-10-10T02:30:09.478689",
     "exception": false,
     "start_time": "2021-10-10T02:30:09.437096",
     "status": "completed"
    },
    "tags": []
   },
   "outputs": [],
   "source": [
    "df_pivot.columns = [\"stamp_1\", \"stamp_2\"]\n",
    "df_pivot_diff = df_pivot.diff(axis=1)"
   ]
  },
  {
   "cell_type": "code",
   "execution_count": 7,
   "id": "fifth-motion",
   "metadata": {
    "execution": {
     "iopub.execute_input": "2021-10-10T02:30:09.533835Z",
     "iopub.status.busy": "2021-10-10T02:30:09.531176Z",
     "iopub.status.idle": "2021-10-10T02:30:11.043139Z",
     "shell.execute_reply": "2021-10-10T02:30:11.044578Z"
    },
    "papermill": {
     "duration": 1.545564,
     "end_time": "2021-10-10T02:30:11.045009",
     "exception": false,
     "start_time": "2021-10-10T02:30:09.499445",
     "status": "completed"
    },
    "tags": []
   },
   "outputs": [
    {
     "data": {
      "text/plain": [
       "<AxesSubplot:ylabel='PRODUCT'>"
      ]
     },
     "execution_count": 7,
     "metadata": {},
     "output_type": "execute_result"
    },
    {
     "data": {
      "image/png": "[encoded data removed]",
      "text/plain": [
       "<Figure size 432x288 with 1 Axes>"
      ]
     },
     "metadata": {
      "needs_background": "light"
     },
     "output_type": "display_data"
    }
   ],
   "source": [
    "df_pivot_diff.sort_values(\"stamp_2\", ascending = False)[\"stamp_2\"].head(10).plot.barh()"
   ]
  },
  {
   "cell_type": "code",
   "execution_count": null,
   "id": "extra-executive",
   "metadata": {
    "papermill": {
     "duration": 0.022297,
     "end_time": "2021-10-10T02:30:11.092063",
     "exception": false,
     "start_time": "2021-10-10T02:30:11.069766",
     "status": "completed"
    },
    "tags": []
   },
   "outputs": [],
   "source": []
  }
 ],
 "metadata": {
  "kernelspec": {
   "display_name": "Python 3",
   "language": "python",
   "name": "python3"
  },
  "language_info": {
   "codemirror_mode": {
    "name": "ipython",
    "version": 3
   },
   "file_extension": ".py",
   "mimetype": "text/x-python",
   "name": "python",
   "nbconvert_exporter": "python",
   "pygments_lexer": "ipython3",
   "version": "3.9.5"
  },
  "papermill": {
   "default_parameters": {},
   "duration": 7.833968,
   "end_time": "2021-10-10T02:30:12.453982",
   "environment_variables": {},
   "exception": null,
   "input_path": "eBay_Overview.ipynb",
   "output_path": "eBay_Overview.ipynb",
   "parameters": {},
   "start_time": "2021-10-10T02:30:04.620014",
   "version": "2.3.3"
  }
 },
 "nbformat": 4,
 "nbformat_minor": 5
}