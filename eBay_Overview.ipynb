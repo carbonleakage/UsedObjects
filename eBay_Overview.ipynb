{
 "cells": [
  {
   "cell_type": "code",
   "execution_count": 1,
   "id": "reverse-picking",
   "metadata": {
    "execution": {
     "iopub.execute_input": "2021-11-06T17:30:08.310066Z",
     "iopub.status.busy": "2021-11-06T17:30:08.307768Z",
     "iopub.status.idle": "2021-11-06T17:30:09.269299Z",
     "shell.execute_reply": "2021-11-06T17:30:09.267231Z"
    },
    "papermill": {
     "duration": 1.007386,
     "end_time": "2021-11-06T17:30:09.269788",
     "exception": false,
     "start_time": "2021-11-06T17:30:08.262402",
     "status": "completed"
    },
    "tags": []
   },
   "outputs": [],
   "source": [
    "import pandas as pd\n",
    "import sqlite3"
   ]
  },
  {
   "cell_type": "code",
   "execution_count": 2,
   "id": "innovative-syndrome",
   "metadata": {
    "execution": {
     "iopub.execute_input": "2021-11-06T17:30:09.331344Z",
     "iopub.status.busy": "2021-11-06T17:30:09.328995Z",
     "iopub.status.idle": "2021-11-06T17:30:10.059763Z",
     "shell.execute_reply": "2021-11-06T17:30:10.061438Z"
    },
    "papermill": {
     "duration": 0.76515,
     "end_time": "2021-11-06T17:30:10.061913",
     "exception": false,
     "start_time": "2021-11-06T17:30:09.296763",
     "status": "completed"
    },
    "tags": []
   },
   "outputs": [],
   "source": [
    "timestamps = pd.read_sql(\"select distinct record_time from EBAY_TOP_BERLIN order by record_time desc limit 2\", sqlite3.connect(\"UsedObjects.db\"))"
   ]
  },
  {
   "cell_type": "code",
   "execution_count": 3,
   "id": "periodic-identification",
   "metadata": {
    "execution": {
     "iopub.execute_input": "2021-11-06T17:30:10.132616Z",
     "iopub.status.busy": "2021-11-06T17:30:10.130312Z",
     "iopub.status.idle": "2021-11-06T17:30:10.153501Z",
     "shell.execute_reply": "2021-11-06T17:30:10.155080Z"
    },
    "papermill": {
     "duration": 0.073497,
     "end_time": "2021-11-06T17:30:10.155597",
     "exception": false,
     "start_time": "2021-11-06T17:30:10.082100",
     "status": "completed"
    },
    "tags": []
   },
   "outputs": [
    {
     "data": {
      "text/html": [
       "<div>\n",
       "<style scoped>\n",
       "    .dataframe tbody tr th:only-of-type {\n",
       "        vertical-align: middle;\n",
       "    }\n",
       "\n",
       "    .dataframe tbody tr th {\n",
       "        vertical-align: top;\n",
       "    }\n",
       "\n",
       "    .dataframe thead th {\n",
       "        text-align: right;\n",
       "    }\n",
       "</style>\n",
       "<table border=\"1\" class=\"dataframe\">\n",
       "  <thead>\n",
       "    <tr style=\"text-align: right;\">\n",
       "      <th></th>\n",
       "      <th>RECORD_TIME</th>\n",
       "    </tr>\n",
       "  </thead>\n",
       "  <tbody>\n",
       "    <tr>\n",
       "      <th>0</th>\n",
       "      <td>2021-11-06 18:30</td>\n",
       "    </tr>\n",
       "    <tr>\n",
       "      <th>1</th>\n",
       "      <td>2021-11-06 18:00</td>\n",
       "    </tr>\n",
       "  </tbody>\n",
       "</table>\n",
       "</div>"
      ],
      "text/plain": [
       "        RECORD_TIME\n",
       "0  2021-11-06 18:30\n",
       "1  2021-11-06 18:00"
      ]
     },
     "execution_count": 3,
     "metadata": {},
     "output_type": "execute_result"
    }
   ],
   "source": [
    "timestamps"
   ]
  },
  {
   "cell_type": "code",
   "execution_count": 4,
   "id": "alternate-victory",
   "metadata": {
    "execution": {
     "iopub.execute_input": "2021-11-06T17:30:10.212397Z",
     "iopub.status.busy": "2021-11-06T17:30:10.210447Z",
     "iopub.status.idle": "2021-11-06T17:30:11.308789Z",
     "shell.execute_reply": "2021-11-06T17:30:11.311132Z"
    },
    "papermill": {
     "duration": 1.134342,
     "end_time": "2021-11-06T17:30:11.311656",
     "exception": false,
     "start_time": "2021-11-06T17:30:10.177314",
     "status": "completed"
    },
    "tags": []
   },
   "outputs": [],
   "source": [
    "df = pd.read_sql(\"select * from EBAY_TOP_BERLIN where record_time in (select distinct record_time from EBAY_TOP_BERLIN order by record_time desc limit 2)\", sqlite3.connect(\"UsedObjects.db\"))"
   ]
  },
  {
   "cell_type": "code",
   "execution_count": 5,
   "id": "popular-active",
   "metadata": {
    "execution": {
     "iopub.execute_input": "2021-11-06T17:30:11.382304Z",
     "iopub.status.busy": "2021-11-06T17:30:11.378342Z",
     "iopub.status.idle": "2021-11-06T17:30:11.410683Z",
     "shell.execute_reply": "2021-11-06T17:30:11.412003Z"
    },
    "papermill": {
     "duration": 0.078953,
     "end_time": "2021-11-06T17:30:11.412465",
     "exception": false,
     "start_time": "2021-11-06T17:30:11.333512",
     "status": "completed"
    },
    "tags": []
   },
   "outputs": [],
   "source": [
    "df_pivot = df.pivot_table(index=\"PRODUCT\", columns = \"RECORD_TIME\", values = \"LISTING_COUNT\")"
   ]
  },
  {
   "cell_type": "code",
   "execution_count": 6,
   "id": "union-huntington",
   "metadata": {
    "execution": {
     "iopub.execute_input": "2021-11-06T17:30:11.475515Z",
     "iopub.status.busy": "2021-11-06T17:30:11.473113Z",
     "iopub.status.idle": "2021-11-06T17:30:11.478618Z",
     "shell.execute_reply": "2021-11-06T17:30:11.480211Z"
    },
    "papermill": {
     "duration": 0.046254,
     "end_time": "2021-11-06T17:30:11.480670",
     "exception": false,
     "start_time": "2021-11-06T17:30:11.434416",
     "status": "completed"
    },
    "tags": []
   },
   "outputs": [],
   "source": [
    "df_pivot.columns = [\"stamp_1\", \"stamp_2\"]\n",
    "df_pivot_diff = df_pivot.diff(axis=1)"
   ]
  },
  {
   "cell_type": "code",
   "execution_count": 7,
   "id": "fifth-motion",
   "metadata": {
    "execution": {
     "iopub.execute_input": "2021-11-06T17:30:11.545118Z",
     "iopub.status.busy": "2021-11-06T17:30:11.539319Z",
     "iopub.status.idle": "2021-11-06T17:30:13.382405Z",
     "shell.execute_reply": "2021-11-06T17:30:13.383981Z"
    },
    "papermill": {
     "duration": 1.881129,
     "end_time": "2021-11-06T17:30:13.384466",
     "exception": false,
     "start_time": "2021-11-06T17:30:11.503337",
     "status": "completed"
    },
    "tags": []
   },
   "outputs": [
    {
     "data": {
      "text/plain": [
       "<AxesSubplot:ylabel='PRODUCT'>"
      ]
     },
     "execution_count": 7,
     "metadata": {},
     "output_type": "execute_result"
    },
    {
     "data": {
      "image/png": "[encoded data removed]",
      "text/plain": [
       "<Figure size 432x288 with 1 Axes>"
      ]
     },
     "metadata": {
      "needs_background": "light"
     },
     "output_type": "display_data"
    }
   ],
   "source": [
    "df_pivot_diff.sort_values(\"stamp_2\", ascending = False)[\"stamp_2\"].head(10).plot.barh()"
   ]
  },
  {
   "cell_type": "code",
   "execution_count": null,
   "id": "extra-executive",
   "metadata": {
    "papermill": {
     "duration": 0.024047,
     "end_time": "2021-11-06T17:30:13.433245",
     "exception": false,
     "start_time": "2021-11-06T17:30:13.409198",
     "status": "completed"
    },
    "tags": []
   },
   "outputs": [],
   "source": []
  }
 ],
 "metadata": {
  "kernelspec": {
   "display_name": "Python 3",
   "language": "python",
   "name": "python3"
  },
  "language_info": {
   "codemirror_mode": {
    "name": "ipython",
    "version": 3
   },
   "file_extension": ".py",
   "mimetype": "text/x-python",
   "name": "python",
   "nbconvert_exporter": "python",
   "pygments_lexer": "ipython3",
   "version": "3.9.5"
  },
  "papermill": {
   "default_parameters": {},
   "duration": 9.035229,
   "end_time": "2021-11-06T17:30:14.446231",
   "environment_variables": {},
   "exception": null,
   "input_path": "eBay_Overview.ipynb",
   "output_path": "eBay_Overview.ipynb",
   "parameters": {},
   "start_time": "2021-11-06T17:30:05.411002",
   "version": "2.3.3"
  }
 },
 "nbformat": 4,
 "nbformat_minor": 5
}