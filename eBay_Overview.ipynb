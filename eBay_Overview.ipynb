{
 "cells": [
  {
   "cell_type": "code",
   "execution_count": 1,
   "id": "reverse-picking",
   "metadata": {
    "execution": {
     "iopub.execute_input": "2021-12-20T22:30:07.897654Z",
     "iopub.status.busy": "2021-12-20T22:30:07.895377Z",
     "iopub.status.idle": "2021-12-20T22:30:08.866505Z",
     "shell.execute_reply": "2021-12-20T22:30:08.868821Z"
    },
    "papermill": {
     "duration": 1.023087,
     "end_time": "2021-12-20T22:30:08.869534",
     "exception": false,
     "start_time": "2021-12-20T22:30:07.846447",
     "status": "completed"
    },
    "tags": []
   },
   "outputs": [],
   "source": [
    "import pandas as pd\n",
    "import sqlite3"
   ]
  },
  {
   "cell_type": "code",
   "execution_count": 2,
   "id": "innovative-syndrome",
   "metadata": {
    "execution": {
     "iopub.execute_input": "2021-12-20T22:30:08.924430Z",
     "iopub.status.busy": "2021-12-20T22:30:08.922065Z",
     "iopub.status.idle": "2021-12-20T22:30:10.065807Z",
     "shell.execute_reply": "2021-12-20T22:30:10.067401Z"
    },
    "papermill": {
     "duration": 1.17791,
     "end_time": "2021-12-20T22:30:10.067909",
     "exception": false,
     "start_time": "2021-12-20T22:30:08.889999",
     "status": "completed"
    },
    "tags": []
   },
   "outputs": [],
   "source": [
    "timestamps = pd.read_sql(\"select distinct record_time from EBAY_TOP_BERLIN order by record_time desc limit 2\", sqlite3.connect(\"UsedObjects.db\"))"
   ]
  },
  {
   "cell_type": "code",
   "execution_count": 3,
   "id": "periodic-identification",
   "metadata": {
    "execution": {
     "iopub.execute_input": "2021-12-20T22:30:10.141816Z",
     "iopub.status.busy": "2021-12-20T22:30:10.138181Z",
     "iopub.status.idle": "2021-12-20T22:30:10.163368Z",
     "shell.execute_reply": "2021-12-20T22:30:10.164958Z"
    },
    "papermill": {
     "duration": 0.076776,
     "end_time": "2021-12-20T22:30:10.165533",
     "exception": false,
     "start_time": "2021-12-20T22:30:10.088757",
     "status": "completed"
    },
    "tags": []
   },
   "outputs": [
    {
     "data": {
      "text/html": [
       "<div>\n",
       "<style scoped>\n",
       "    .dataframe tbody tr th:only-of-type {\n",
       "        vertical-align: middle;\n",
       "    }\n",
       "\n",
       "    .dataframe tbody tr th {\n",
       "        vertical-align: top;\n",
       "    }\n",
       "\n",
       "    .dataframe thead th {\n",
       "        text-align: right;\n",
       "    }\n",
       "</style>\n",
       "<table border=\"1\" class=\"dataframe\">\n",
       "  <thead>\n",
       "    <tr style=\"text-align: right;\">\n",
       "      <th></th>\n",
       "      <th>RECORD_TIME</th>\n",
       "    </tr>\n",
       "  </thead>\n",
       "  <tbody>\n",
       "    <tr>\n",
       "      <th>0</th>\n",
       "      <td>2021-12-20 23:30</td>\n",
       "    </tr>\n",
       "    <tr>\n",
       "      <th>1</th>\n",
       "      <td>2021-12-20 23:00</td>\n",
       "    </tr>\n",
       "  </tbody>\n",
       "</table>\n",
       "</div>"
      ],
      "text/plain": [
       "        RECORD_TIME\n",
       "0  2021-12-20 23:30\n",
       "1  2021-12-20 23:00"
      ]
     },
     "execution_count": 3,
     "metadata": {},
     "output_type": "execute_result"
    }
   ],
   "source": [
    "timestamps"
   ]
  },
  {
   "cell_type": "code",
   "execution_count": 4,
   "id": "alternate-victory",
   "metadata": {
    "execution": {
     "iopub.execute_input": "2021-12-20T22:30:10.222564Z",
     "iopub.status.busy": "2021-12-20T22:30:10.219528Z",
     "iopub.status.idle": "2021-12-20T22:30:11.872420Z",
     "shell.execute_reply": "2021-12-20T22:30:11.874603Z"
    },
    "papermill": {
     "duration": 1.687779,
     "end_time": "2021-12-20T22:30:11.875079",
     "exception": false,
     "start_time": "2021-12-20T22:30:10.187300",
     "status": "completed"
    },
    "tags": []
   },
   "outputs": [],
   "source": [
    "df = pd.read_sql(\"select * from EBAY_TOP_BERLIN where record_time in (select distinct record_time from EBAY_TOP_BERLIN order by record_time desc limit 2)\", sqlite3.connect(\"UsedObjects.db\"))"
   ]
  },
  {
   "cell_type": "code",
   "execution_count": 5,
   "id": "popular-active",
   "metadata": {
    "execution": {
     "iopub.execute_input": "2021-12-20T22:30:11.949887Z",
     "iopub.status.busy": "2021-12-20T22:30:11.936365Z",
     "iopub.status.idle": "2021-12-20T22:30:11.967978Z",
     "shell.execute_reply": "2021-12-20T22:30:11.969423Z"
    },
    "papermill": {
     "duration": 0.0741,
     "end_time": "2021-12-20T22:30:11.969906",
     "exception": false,
     "start_time": "2021-12-20T22:30:11.895806",
     "status": "completed"
    },
    "tags": []
   },
   "outputs": [],
   "source": [
    "df_pivot = df.pivot_table(index=\"PRODUCT\", columns = \"RECORD_TIME\", values = \"LISTING_COUNT\")"
   ]
  },
  {
   "cell_type": "code",
   "execution_count": 6,
   "id": "union-huntington",
   "metadata": {
    "execution": {
     "iopub.execute_input": "2021-12-20T22:30:12.028469Z",
     "iopub.status.busy": "2021-12-20T22:30:12.026202Z",
     "iopub.status.idle": "2021-12-20T22:30:12.032181Z",
     "shell.execute_reply": "2021-12-20T22:30:12.033748Z"
    },
    "papermill": {
     "duration": 0.044126,
     "end_time": "2021-12-20T22:30:12.034228",
     "exception": false,
     "start_time": "2021-12-20T22:30:11.990102",
     "status": "completed"
    },
    "tags": []
   },
   "outputs": [],
   "source": [
    "df_pivot.columns = [\"stamp_1\", \"stamp_2\"]\n",
    "df_pivot_diff = df_pivot.diff(axis=1)"
   ]
  },
  {
   "cell_type": "code",
   "execution_count": 7,
   "id": "fifth-motion",
   "metadata": {
    "execution": {
     "iopub.execute_input": "2021-12-20T22:30:12.107932Z",
     "iopub.status.busy": "2021-12-20T22:30:12.103809Z",
     "iopub.status.idle": "2021-12-20T22:30:14.010352Z",
     "shell.execute_reply": "2021-12-20T22:30:14.011671Z"
    },
    "papermill": {
     "duration": 1.956402,
     "end_time": "2021-12-20T22:30:14.012102",
     "exception": false,
     "start_time": "2021-12-20T22:30:12.055700",
     "status": "completed"
    },
    "tags": []
   },
   "outputs": [
    {
     "data": {
      "text/plain": [
       "<AxesSubplot:ylabel='PRODUCT'>"
      ]
     },
     "execution_count": 7,
     "metadata": {},
     "output_type": "execute_result"
    },
    {
     "data": {
      "image/png": "[encoded data removed]",
      "text/plain": [
       "<Figure size 432x288 with 1 Axes>"
      ]
     },
     "metadata": {
      "needs_background": "light"
     },
     "output_type": "display_data"
    }
   ],
   "source": [
    "df_pivot_diff.sort_values(\"stamp_2\", ascending = False)[\"stamp_2\"].head(10).plot.barh()"
   ]
  },
  {
   "cell_type": "code",
   "execution_count": null,
   "id": "extra-executive",
   "metadata": {
    "papermill": {
     "duration": 0.022241,
     "end_time": "2021-12-20T22:30:14.059753",
     "exception": false,
     "start_time": "2021-12-20T22:30:14.037512",
     "status": "completed"
    },
    "tags": []
   },
   "outputs": [],
   "source": []
  }
 ],
 "metadata": {
  "kernelspec": {
   "display_name": "Python 3",
   "language": "python",
   "name": "python3"
  },
  "language_info": {
   "codemirror_mode": {
    "name": "ipython",
    "version": 3
   },
   "file_extension": ".py",
   "mimetype": "text/x-python",
   "name": "python",
   "nbconvert_exporter": "python",
   "pygments_lexer": "ipython3",
   "version": "3.9.5"
  },
  "papermill": {
   "default_parameters": {},
   "duration": 9.630671,
   "end_time": "2021-12-20T22:30:14.702835",
   "environment_variables": {},
   "exception": null,
   "input_path": "eBay_Overview.ipynb",
   "output_path": "eBay_Overview.ipynb",
   "parameters": {},
   "start_time": "2021-12-20T22:30:05.072164",
   "version": "2.3.3"
  }
 },
 "nbformat": 4,
 "nbformat_minor": 5
}