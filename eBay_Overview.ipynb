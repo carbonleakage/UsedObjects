{
 "cells": [
  {
   "cell_type": "code",
   "execution_count": 1,
   "id": "reverse-picking",
   "metadata": {
    "execution": {
     "iopub.execute_input": "2021-10-05T04:00:07.564502Z",
     "iopub.status.busy": "2021-10-05T04:00:07.562498Z",
     "iopub.status.idle": "2021-10-05T04:00:08.369031Z",
     "shell.execute_reply": "2021-10-05T04:00:08.370275Z"
    },
    "papermill": {
     "duration": 0.858782,
     "end_time": "2021-10-05T04:00:08.370992",
     "exception": false,
     "start_time": "2021-10-05T04:00:07.512210",
     "status": "completed"
    },
    "tags": []
   },
   "outputs": [],
   "source": [
    "import pandas as pd\n",
    "import sqlite3"
   ]
  },
  {
   "cell_type": "code",
   "execution_count": 2,
   "id": "innovative-syndrome",
   "metadata": {
    "execution": {
     "iopub.execute_input": "2021-10-05T04:00:08.420588Z",
     "iopub.status.busy": "2021-10-05T04:00:08.418666Z",
     "iopub.status.idle": "2021-10-05T04:00:08.871066Z",
     "shell.execute_reply": "2021-10-05T04:00:08.872280Z"
    },
    "papermill": {
     "duration": 0.481629,
     "end_time": "2021-10-05T04:00:08.872705",
     "exception": false,
     "start_time": "2021-10-05T04:00:08.391076",
     "status": "completed"
    },
    "tags": []
   },
   "outputs": [],
   "source": [
    "timestamps = pd.read_sql(\"select distinct record_time from EBAY_TOP_BERLIN order by record_time desc limit 2\", sqlite3.connect(\"UsedObjects.db\"))"
   ]
  },
  {
   "cell_type": "code",
   "execution_count": 3,
   "id": "periodic-identification",
   "metadata": {
    "execution": {
     "iopub.execute_input": "2021-10-05T04:00:08.938303Z",
     "iopub.status.busy": "2021-10-05T04:00:08.936302Z",
     "iopub.status.idle": "2021-10-05T04:00:08.956102Z",
     "shell.execute_reply": "2021-10-05T04:00:08.957306Z"
    },
    "papermill": {
     "duration": 0.064489,
     "end_time": "2021-10-05T04:00:08.957735",
     "exception": false,
     "start_time": "2021-10-05T04:00:08.893246",
     "status": "completed"
    },
    "tags": []
   },
   "outputs": [
    {
     "data": {
      "text/html": [
       "<div>\n",
       "<style scoped>\n",
       "    .dataframe tbody tr th:only-of-type {\n",
       "        vertical-align: middle;\n",
       "    }\n",
       "\n",
       "    .dataframe tbody tr th {\n",
       "        vertical-align: top;\n",
       "    }\n",
       "\n",
       "    .dataframe thead th {\n",
       "        text-align: right;\n",
       "    }\n",
       "</style>\n",
       "<table border=\"1\" class=\"dataframe\">\n",
       "  <thead>\n",
       "    <tr style=\"text-align: right;\">\n",
       "      <th></th>\n",
       "      <th>RECORD_TIME</th>\n",
       "    </tr>\n",
       "  </thead>\n",
       "  <tbody>\n",
       "    <tr>\n",
       "      <th>0</th>\n",
       "      <td>2021-10-05 06:00</td>\n",
       "    </tr>\n",
       "    <tr>\n",
       "      <th>1</th>\n",
       "      <td>2021-10-05 05:30</td>\n",
       "    </tr>\n",
       "  </tbody>\n",
       "</table>\n",
       "</div>"
      ],
      "text/plain": [
       "        RECORD_TIME\n",
       "0  2021-10-05 06:00\n",
       "1  2021-10-05 05:30"
      ]
     },
     "execution_count": 3,
     "metadata": {},
     "output_type": "execute_result"
    }
   ],
   "source": [
    "timestamps"
   ]
  },
  {
   "cell_type": "code",
   "execution_count": 4,
   "id": "alternate-victory",
   "metadata": {
    "execution": {
     "iopub.execute_input": "2021-10-05T04:00:09.019142Z",
     "iopub.status.busy": "2021-10-05T04:00:09.017071Z",
     "iopub.status.idle": "2021-10-05T04:00:09.687935Z",
     "shell.execute_reply": "2021-10-05T04:00:09.689150Z"
    },
    "papermill": {
     "duration": 0.705111,
     "end_time": "2021-10-05T04:00:09.689544",
     "exception": false,
     "start_time": "2021-10-05T04:00:08.984433",
     "status": "completed"
    },
    "tags": []
   },
   "outputs": [],
   "source": [
    "df = pd.read_sql(\"select * from EBAY_TOP_BERLIN where record_time in (select distinct record_time from EBAY_TOP_BERLIN order by record_time desc limit 2)\", sqlite3.connect(\"UsedObjects.db\"))"
   ]
  },
  {
   "cell_type": "code",
   "execution_count": 5,
   "id": "popular-active",
   "metadata": {
    "execution": {
     "iopub.execute_input": "2021-10-05T04:00:09.758523Z",
     "iopub.status.busy": "2021-10-05T04:00:09.746500Z",
     "iopub.status.idle": "2021-10-05T04:00:09.774706Z",
     "shell.execute_reply": "2021-10-05T04:00:09.776145Z"
    },
    "papermill": {
     "duration": 0.066876,
     "end_time": "2021-10-05T04:00:09.776580",
     "exception": false,
     "start_time": "2021-10-05T04:00:09.709704",
     "status": "completed"
    },
    "tags": []
   },
   "outputs": [],
   "source": [
    "df_pivot = df.pivot_table(index=\"PRODUCT\", columns = \"RECORD_TIME\", values = \"LISTING_COUNT\")"
   ]
  },
  {
   "cell_type": "code",
   "execution_count": 6,
   "id": "union-huntington",
   "metadata": {
    "execution": {
     "iopub.execute_input": "2021-10-05T04:00:09.833494Z",
     "iopub.status.busy": "2021-10-05T04:00:09.831043Z",
     "iopub.status.idle": "2021-10-05T04:00:09.836814Z",
     "shell.execute_reply": "2021-10-05T04:00:09.838095Z"
    },
    "papermill": {
     "duration": 0.041748,
     "end_time": "2021-10-05T04:00:09.838507",
     "exception": false,
     "start_time": "2021-10-05T04:00:09.796759",
     "status": "completed"
    },
    "tags": []
   },
   "outputs": [],
   "source": [
    "df_pivot.columns = [\"stamp_1\", \"stamp_2\"]\n",
    "df_pivot_diff = df_pivot.diff(axis=1)"
   ]
  },
  {
   "cell_type": "code",
   "execution_count": 7,
   "id": "fifth-motion",
   "metadata": {
    "execution": {
     "iopub.execute_input": "2021-10-05T04:00:09.893082Z",
     "iopub.status.busy": "2021-10-05T04:00:09.890649Z",
     "iopub.status.idle": "2021-10-05T04:00:11.377352Z",
     "shell.execute_reply": "2021-10-05T04:00:11.378540Z"
    },
    "papermill": {
     "duration": 1.520202,
     "end_time": "2021-10-05T04:00:11.379152",
     "exception": false,
     "start_time": "2021-10-05T04:00:09.858950",
     "status": "completed"
    },
    "tags": []
   },
   "outputs": [
    {
     "data": {
      "text/plain": [
       "<AxesSubplot:ylabel='PRODUCT'>"
      ]
     },
     "execution_count": 7,
     "metadata": {},
     "output_type": "execute_result"
    },
    {
     "data": {
      "image/png": "[encoded data removed]",
      "text/plain": [
       "<Figure size 432x288 with 1 Axes>"
      ]
     },
     "metadata": {
      "needs_background": "light"
     },
     "output_type": "display_data"
    }
   ],
   "source": [
    "df_pivot_diff.sort_values(\"stamp_2\", ascending = False)[\"stamp_2\"].head(10).plot.barh()"
   ]
  },
  {
   "cell_type": "code",
   "execution_count": null,
   "id": "extra-executive",
   "metadata": {
    "papermill": {
     "duration": 0.021917,
     "end_time": "2021-10-05T04:00:11.425887",
     "exception": false,
     "start_time": "2021-10-05T04:00:11.403970",
     "status": "completed"
    },
    "tags": []
   },
   "outputs": [],
   "source": []
  }
 ],
 "metadata": {
  "kernelspec": {
   "display_name": "Python 3",
   "language": "python",
   "name": "python3"
  },
  "language_info": {
   "codemirror_mode": {
    "name": "ipython",
    "version": 3
   },
   "file_extension": ".py",
   "mimetype": "text/x-python",
   "name": "python",
   "nbconvert_exporter": "python",
   "pygments_lexer": "ipython3",
   "version": "3.9.5"
  },
  "papermill": {
   "default_parameters": {},
   "duration": 7.823644,
   "end_time": "2021-10-05T04:00:12.923513",
   "environment_variables": {},
   "exception": null,
   "input_path": "eBay_Overview.ipynb",
   "output_path": "eBay_Overview.ipynb",
   "parameters": {},
   "start_time": "2021-10-05T04:00:05.099869",
   "version": "2.3.3"
  }
 },
 "nbformat": 4,
 "nbformat_minor": 5
}