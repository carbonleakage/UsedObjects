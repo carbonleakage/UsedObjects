{
 "cells": [
  {
   "cell_type": "code",
   "execution_count": 1,
   "id": "reverse-picking",
   "metadata": {
    "execution": {
     "iopub.execute_input": "2021-11-27T10:30:07.504882Z",
     "iopub.status.busy": "2021-11-27T10:30:07.502496Z",
     "iopub.status.idle": "2021-11-27T10:30:08.470818Z",
     "shell.execute_reply": "2021-11-27T10:30:08.472381Z"
    },
    "papermill": {
     "duration": 1.01956,
     "end_time": "2021-11-27T10:30:08.473262",
     "exception": false,
     "start_time": "2021-11-27T10:30:07.453702",
     "status": "completed"
    },
    "tags": []
   },
   "outputs": [],
   "source": [
    "import pandas as pd\n",
    "import sqlite3"
   ]
  },
  {
   "cell_type": "code",
   "execution_count": 2,
   "id": "innovative-syndrome",
   "metadata": {
    "execution": {
     "iopub.execute_input": "2021-11-27T10:30:08.528494Z",
     "iopub.status.busy": "2021-11-27T10:30:08.526314Z",
     "iopub.status.idle": "2021-11-27T10:30:09.456961Z",
     "shell.execute_reply": "2021-11-27T10:30:09.458366Z"
    },
    "papermill": {
     "duration": 0.964162,
     "end_time": "2021-11-27T10:30:09.458807",
     "exception": false,
     "start_time": "2021-11-27T10:30:08.494645",
     "status": "completed"
    },
    "tags": []
   },
   "outputs": [],
   "source": [
    "timestamps = pd.read_sql(\"select distinct record_time from EBAY_TOP_BERLIN order by record_time desc limit 2\", sqlite3.connect(\"UsedObjects.db\"))"
   ]
  },
  {
   "cell_type": "code",
   "execution_count": 3,
   "id": "periodic-identification",
   "metadata": {
    "execution": {
     "iopub.execute_input": "2021-11-27T10:30:09.526412Z",
     "iopub.status.busy": "2021-11-27T10:30:09.521349Z",
     "iopub.status.idle": "2021-11-27T10:30:09.543360Z",
     "shell.execute_reply": "2021-11-27T10:30:09.545141Z"
    },
    "papermill": {
     "duration": 0.067485,
     "end_time": "2021-11-27T10:30:09.545702",
     "exception": false,
     "start_time": "2021-11-27T10:30:09.478217",
     "status": "completed"
    },
    "tags": []
   },
   "outputs": [
    {
     "data": {
      "text/html": [
       "<div>\n",
       "<style scoped>\n",
       "    .dataframe tbody tr th:only-of-type {\n",
       "        vertical-align: middle;\n",
       "    }\n",
       "\n",
       "    .dataframe tbody tr th {\n",
       "        vertical-align: top;\n",
       "    }\n",
       "\n",
       "    .dataframe thead th {\n",
       "        text-align: right;\n",
       "    }\n",
       "</style>\n",
       "<table border=\"1\" class=\"dataframe\">\n",
       "  <thead>\n",
       "    <tr style=\"text-align: right;\">\n",
       "      <th></th>\n",
       "      <th>RECORD_TIME</th>\n",
       "    </tr>\n",
       "  </thead>\n",
       "  <tbody>\n",
       "    <tr>\n",
       "      <th>0</th>\n",
       "      <td>2021-11-27 11:30</td>\n",
       "    </tr>\n",
       "    <tr>\n",
       "      <th>1</th>\n",
       "      <td>2021-11-27 11:00</td>\n",
       "    </tr>\n",
       "  </tbody>\n",
       "</table>\n",
       "</div>"
      ],
      "text/plain": [
       "        RECORD_TIME\n",
       "0  2021-11-27 11:30\n",
       "1  2021-11-27 11:00"
      ]
     },
     "execution_count": 3,
     "metadata": {},
     "output_type": "execute_result"
    }
   ],
   "source": [
    "timestamps"
   ]
  },
  {
   "cell_type": "code",
   "execution_count": 4,
   "id": "alternate-victory",
   "metadata": {
    "execution": {
     "iopub.execute_input": "2021-11-27T10:30:09.601005Z",
     "iopub.status.busy": "2021-11-27T10:30:09.598242Z",
     "iopub.status.idle": "2021-11-27T10:30:10.967203Z",
     "shell.execute_reply": "2021-11-27T10:30:10.968932Z"
    },
    "papermill": {
     "duration": 1.401938,
     "end_time": "2021-11-27T10:30:10.969439",
     "exception": false,
     "start_time": "2021-11-27T10:30:09.567501",
     "status": "completed"
    },
    "tags": []
   },
   "outputs": [],
   "source": [
    "df = pd.read_sql(\"select * from EBAY_TOP_BERLIN where record_time in (select distinct record_time from EBAY_TOP_BERLIN order by record_time desc limit 2)\", sqlite3.connect(\"UsedObjects.db\"))"
   ]
  },
  {
   "cell_type": "code",
   "execution_count": 5,
   "id": "popular-active",
   "metadata": {
    "execution": {
     "iopub.execute_input": "2021-11-27T10:30:11.046013Z",
     "iopub.status.busy": "2021-11-27T10:30:11.033124Z",
     "iopub.status.idle": "2021-11-27T10:30:11.065005Z",
     "shell.execute_reply": "2021-11-27T10:30:11.066370Z"
    },
    "papermill": {
     "duration": 0.075018,
     "end_time": "2021-11-27T10:30:11.066850",
     "exception": false,
     "start_time": "2021-11-27T10:30:10.991832",
     "status": "completed"
    },
    "tags": []
   },
   "outputs": [],
   "source": [
    "df_pivot = df.pivot_table(index=\"PRODUCT\", columns = \"RECORD_TIME\", values = \"LISTING_COUNT\")"
   ]
  },
  {
   "cell_type": "code",
   "execution_count": 6,
   "id": "union-huntington",
   "metadata": {
    "execution": {
     "iopub.execute_input": "2021-11-27T10:30:11.126376Z",
     "iopub.status.busy": "2021-11-27T10:30:11.123763Z",
     "iopub.status.idle": "2021-11-27T10:30:11.130802Z",
     "shell.execute_reply": "2021-11-27T10:30:11.128811Z"
    },
    "papermill": {
     "duration": 0.043935,
     "end_time": "2021-11-27T10:30:11.131227",
     "exception": false,
     "start_time": "2021-11-27T10:30:11.087292",
     "status": "completed"
    },
    "tags": []
   },
   "outputs": [],
   "source": [
    "df_pivot.columns = [\"stamp_1\", \"stamp_2\"]\n",
    "df_pivot_diff = df_pivot.diff(axis=1)"
   ]
  },
  {
   "cell_type": "code",
   "execution_count": 7,
   "id": "fifth-motion",
   "metadata": {
    "execution": {
     "iopub.execute_input": "2021-11-27T10:30:11.190703Z",
     "iopub.status.busy": "2021-11-27T10:30:11.188077Z",
     "iopub.status.idle": "2021-11-27T10:30:13.249520Z",
     "shell.execute_reply": "2021-11-27T10:30:13.250916Z"
    },
    "papermill": {
     "duration": 2.098776,
     "end_time": "2021-11-27T10:30:13.251355",
     "exception": false,
     "start_time": "2021-11-27T10:30:11.152579",
     "status": "completed"
    },
    "tags": []
   },
   "outputs": [
    {
     "data": {
      "text/plain": [
       "<AxesSubplot:ylabel='PRODUCT'>"
      ]
     },
     "execution_count": 7,
     "metadata": {},
     "output_type": "execute_result"
    },
    {
     "data": {
      "image/png": "[encoded data removed]",
      "text/plain": [
       "<Figure size 432x288 with 1 Axes>"
      ]
     },
     "metadata": {
      "needs_background": "light"
     },
     "output_type": "display_data"
    }
   ],
   "source": [
    "df_pivot_diff.sort_values(\"stamp_2\", ascending = False)[\"stamp_2\"].head(10).plot.barh()"
   ]
  },
  {
   "cell_type": "code",
   "execution_count": null,
   "id": "extra-executive",
   "metadata": {
    "papermill": {
     "duration": 0.022211,
     "end_time": "2021-11-27T10:30:13.300254",
     "exception": false,
     "start_time": "2021-11-27T10:30:13.278043",
     "status": "completed"
    },
    "tags": []
   },
   "outputs": [],
   "source": []
  }
 ],
 "metadata": {
  "kernelspec": {
   "display_name": "Python 3",
   "language": "python",
   "name": "python3"
  },
  "language_info": {
   "codemirror_mode": {
    "name": "ipython",
    "version": 3
   },
   "file_extension": ".py",
   "mimetype": "text/x-python",
   "name": "python",
   "nbconvert_exporter": "python",
   "pygments_lexer": "ipython3",
   "version": "3.9.5"
  },
  "papermill": {
   "default_parameters": {},
   "duration": 9.936468,
   "end_time": "2021-11-27T10:30:14.653454",
   "environment_variables": {},
   "exception": null,
   "input_path": "eBay_Overview.ipynb",
   "output_path": "eBay_Overview.ipynb",
   "parameters": {},
   "start_time": "2021-11-27T10:30:04.716986",
   "version": "2.3.3"
  }
 },
 "nbformat": 4,
 "nbformat_minor": 5
}