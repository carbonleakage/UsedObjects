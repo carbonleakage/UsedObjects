{
 "cells": [
  {
   "cell_type": "code",
   "execution_count": 1,
   "id": "reverse-picking",
   "metadata": {
    "execution": {
     "iopub.execute_input": "2021-10-28T01:30:07.121147Z",
     "iopub.status.busy": "2021-10-28T01:30:07.119143Z",
     "iopub.status.idle": "2021-10-28T01:30:07.921740Z",
     "shell.execute_reply": "2021-10-28T01:30:07.923019Z"
    },
    "papermill": {
     "duration": 0.852967,
     "end_time": "2021-10-28T01:30:07.923648",
     "exception": false,
     "start_time": "2021-10-28T01:30:07.070681",
     "status": "completed"
    },
    "tags": []
   },
   "outputs": [],
   "source": [
    "import pandas as pd\n",
    "import sqlite3"
   ]
  },
  {
   "cell_type": "code",
   "execution_count": 2,
   "id": "innovative-syndrome",
   "metadata": {
    "execution": {
     "iopub.execute_input": "2021-10-28T01:30:07.974206Z",
     "iopub.status.busy": "2021-10-28T01:30:07.972053Z",
     "iopub.status.idle": "2021-10-28T01:30:08.639117Z",
     "shell.execute_reply": "2021-10-28T01:30:08.640337Z"
    },
    "papermill": {
     "duration": 0.696464,
     "end_time": "2021-10-28T01:30:08.640787",
     "exception": false,
     "start_time": "2021-10-28T01:30:07.944323",
     "status": "completed"
    },
    "tags": []
   },
   "outputs": [],
   "source": [
    "timestamps = pd.read_sql(\"select distinct record_time from EBAY_TOP_BERLIN order by record_time desc limit 2\", sqlite3.connect(\"UsedObjects.db\"))"
   ]
  },
  {
   "cell_type": "code",
   "execution_count": 3,
   "id": "periodic-identification",
   "metadata": {
    "execution": {
     "iopub.execute_input": "2021-10-28T01:30:08.716126Z",
     "iopub.status.busy": "2021-10-28T01:30:08.713984Z",
     "iopub.status.idle": "2021-10-28T01:30:08.734284Z",
     "shell.execute_reply": "2021-10-28T01:30:08.735493Z"
    },
    "papermill": {
     "duration": 0.070386,
     "end_time": "2021-10-28T01:30:08.735892",
     "exception": false,
     "start_time": "2021-10-28T01:30:08.665506",
     "status": "completed"
    },
    "tags": []
   },
   "outputs": [
    {
     "data": {
      "text/html": [
       "<div>\n",
       "<style scoped>\n",
       "    .dataframe tbody tr th:only-of-type {\n",
       "        vertical-align: middle;\n",
       "    }\n",
       "\n",
       "    .dataframe tbody tr th {\n",
       "        vertical-align: top;\n",
       "    }\n",
       "\n",
       "    .dataframe thead th {\n",
       "        text-align: right;\n",
       "    }\n",
       "</style>\n",
       "<table border=\"1\" class=\"dataframe\">\n",
       "  <thead>\n",
       "    <tr style=\"text-align: right;\">\n",
       "      <th></th>\n",
       "      <th>RECORD_TIME</th>\n",
       "    </tr>\n",
       "  </thead>\n",
       "  <tbody>\n",
       "    <tr>\n",
       "      <th>0</th>\n",
       "      <td>2021-10-28 03:30</td>\n",
       "    </tr>\n",
       "    <tr>\n",
       "      <th>1</th>\n",
       "      <td>2021-10-28 03:00</td>\n",
       "    </tr>\n",
       "  </tbody>\n",
       "</table>\n",
       "</div>"
      ],
      "text/plain": [
       "        RECORD_TIME\n",
       "0  2021-10-28 03:30\n",
       "1  2021-10-28 03:00"
      ]
     },
     "execution_count": 3,
     "metadata": {},
     "output_type": "execute_result"
    }
   ],
   "source": [
    "timestamps"
   ]
  },
  {
   "cell_type": "code",
   "execution_count": 4,
   "id": "alternate-victory",
   "metadata": {
    "execution": {
     "iopub.execute_input": "2021-10-28T01:30:08.789641Z",
     "iopub.status.busy": "2021-10-28T01:30:08.787267Z",
     "iopub.status.idle": "2021-10-28T01:30:09.769325Z",
     "shell.execute_reply": "2021-10-28T01:30:09.770831Z"
    },
    "papermill": {
     "duration": 1.012768,
     "end_time": "2021-10-28T01:30:09.771276",
     "exception": false,
     "start_time": "2021-10-28T01:30:08.758508",
     "status": "completed"
    },
    "tags": []
   },
   "outputs": [],
   "source": [
    "df = pd.read_sql(\"select * from EBAY_TOP_BERLIN where record_time in (select distinct record_time from EBAY_TOP_BERLIN order by record_time desc limit 2)\", sqlite3.connect(\"UsedObjects.db\"))"
   ]
  },
  {
   "cell_type": "code",
   "execution_count": 5,
   "id": "popular-active",
   "metadata": {
    "execution": {
     "iopub.execute_input": "2021-10-28T01:30:09.842154Z",
     "iopub.status.busy": "2021-10-28T01:30:09.830174Z",
     "iopub.status.idle": "2021-10-28T01:30:09.859216Z",
     "shell.execute_reply": "2021-10-28T01:30:09.860873Z"
    },
    "papermill": {
     "duration": 0.06892,
     "end_time": "2021-10-28T01:30:09.861371",
     "exception": false,
     "start_time": "2021-10-28T01:30:09.792451",
     "status": "completed"
    },
    "tags": []
   },
   "outputs": [],
   "source": [
    "df_pivot = df.pivot_table(index=\"PRODUCT\", columns = \"RECORD_TIME\", values = \"LISTING_COUNT\")"
   ]
  },
  {
   "cell_type": "code",
   "execution_count": 6,
   "id": "union-huntington",
   "metadata": {
    "execution": {
     "iopub.execute_input": "2021-10-28T01:30:09.920155Z",
     "iopub.status.busy": "2021-10-28T01:30:09.918054Z",
     "iopub.status.idle": "2021-10-28T01:30:09.923392Z",
     "shell.execute_reply": "2021-10-28T01:30:09.924584Z"
    },
    "papermill": {
     "duration": 0.041118,
     "end_time": "2021-10-28T01:30:09.925084",
     "exception": false,
     "start_time": "2021-10-28T01:30:09.883966",
     "status": "completed"
    },
    "tags": []
   },
   "outputs": [],
   "source": [
    "df_pivot.columns = [\"stamp_1\", \"stamp_2\"]\n",
    "df_pivot_diff = df_pivot.diff(axis=1)"
   ]
  },
  {
   "cell_type": "code",
   "execution_count": 7,
   "id": "fifth-motion",
   "metadata": {
    "execution": {
     "iopub.execute_input": "2021-10-28T01:30:09.979676Z",
     "iopub.status.busy": "2021-10-28T01:30:09.977267Z",
     "iopub.status.idle": "2021-10-28T01:30:11.424634Z",
     "shell.execute_reply": "2021-10-28T01:30:11.426136Z"
    },
    "papermill": {
     "duration": 1.480799,
     "end_time": "2021-10-28T01:30:11.426589",
     "exception": false,
     "start_time": "2021-10-28T01:30:09.945790",
     "status": "completed"
    },
    "tags": []
   },
   "outputs": [
    {
     "data": {
      "text/plain": [
       "<AxesSubplot:ylabel='PRODUCT'>"
      ]
     },
     "execution_count": 7,
     "metadata": {},
     "output_type": "execute_result"
    },
    {
     "data": {
      "image/png": "[encoded data removed]",
      "text/plain": [
       "<Figure size 432x288 with 1 Axes>"
      ]
     },
     "metadata": {
      "needs_background": "light"
     },
     "output_type": "display_data"
    }
   ],
   "source": [
    "df_pivot_diff.sort_values(\"stamp_2\", ascending = False)[\"stamp_2\"].head(10).plot.barh()"
   ]
  },
  {
   "cell_type": "code",
   "execution_count": null,
   "id": "extra-executive",
   "metadata": {
    "papermill": {
     "duration": 0.022214,
     "end_time": "2021-10-28T01:30:11.472658",
     "exception": false,
     "start_time": "2021-10-28T01:30:11.450444",
     "status": "completed"
    },
    "tags": []
   },
   "outputs": [],
   "source": []
  }
 ],
 "metadata": {
  "kernelspec": {
   "display_name": "Python 3",
   "language": "python",
   "name": "python3"
  },
  "language_info": {
   "codemirror_mode": {
    "name": "ipython",
    "version": 3
   },
   "file_extension": ".py",
   "mimetype": "text/x-python",
   "name": "python",
   "nbconvert_exporter": "python",
   "pygments_lexer": "ipython3",
   "version": "3.9.5"
  },
  "papermill": {
   "default_parameters": {},
   "duration": 7.451056,
   "end_time": "2021-10-28T01:30:12.117077",
   "environment_variables": {},
   "exception": null,
   "input_path": "eBay_Overview.ipynb",
   "output_path": "eBay_Overview.ipynb",
   "parameters": {},
   "start_time": "2021-10-28T01:30:04.666021",
   "version": "2.3.3"
  }
 },
 "nbformat": 4,
 "nbformat_minor": 5
}