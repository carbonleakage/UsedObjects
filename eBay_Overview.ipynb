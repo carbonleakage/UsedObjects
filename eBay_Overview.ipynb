{
 "cells": [
  {
   "cell_type": "code",
   "execution_count": 1,
   "id": "reverse-picking",
   "metadata": {
    "execution": {
     "iopub.execute_input": "2021-11-12T11:00:07.761602Z",
     "iopub.status.busy": "2021-11-12T11:00:07.759316Z",
     "iopub.status.idle": "2021-11-12T11:00:08.746298Z",
     "shell.execute_reply": "2021-11-12T11:00:08.744281Z"
    },
    "papermill": {
     "duration": 1.032518,
     "end_time": "2021-11-12T11:00:08.746768",
     "exception": false,
     "start_time": "2021-11-12T11:00:07.714250",
     "status": "completed"
    },
    "tags": []
   },
   "outputs": [],
   "source": [
    "import pandas as pd\n",
    "import sqlite3"
   ]
  },
  {
   "cell_type": "code",
   "execution_count": 2,
   "id": "innovative-syndrome",
   "metadata": {
    "execution": {
     "iopub.execute_input": "2021-11-12T11:00:08.803573Z",
     "iopub.status.busy": "2021-11-12T11:00:08.801129Z",
     "iopub.status.idle": "2021-11-12T11:00:09.597909Z",
     "shell.execute_reply": "2021-11-12T11:00:09.599390Z"
    },
    "papermill": {
     "duration": 0.830648,
     "end_time": "2021-11-12T11:00:09.599895",
     "exception": false,
     "start_time": "2021-11-12T11:00:08.769247",
     "status": "completed"
    },
    "tags": []
   },
   "outputs": [],
   "source": [
    "timestamps = pd.read_sql(\"select distinct record_time from EBAY_TOP_BERLIN order by record_time desc limit 2\", sqlite3.connect(\"UsedObjects.db\"))"
   ]
  },
  {
   "cell_type": "code",
   "execution_count": 3,
   "id": "periodic-identification",
   "metadata": {
    "execution": {
     "iopub.execute_input": "2021-11-12T11:00:09.669316Z",
     "iopub.status.busy": "2021-11-12T11:00:09.667002Z",
     "iopub.status.idle": "2021-11-12T11:00:09.688908Z",
     "shell.execute_reply": "2021-11-12T11:00:09.690360Z"
    },
    "papermill": {
     "duration": 0.071392,
     "end_time": "2021-11-12T11:00:09.690840",
     "exception": false,
     "start_time": "2021-11-12T11:00:09.619448",
     "status": "completed"
    },
    "tags": []
   },
   "outputs": [
    {
     "data": {
      "text/html": [
       "<div>\n",
       "<style scoped>\n",
       "    .dataframe tbody tr th:only-of-type {\n",
       "        vertical-align: middle;\n",
       "    }\n",
       "\n",
       "    .dataframe tbody tr th {\n",
       "        vertical-align: top;\n",
       "    }\n",
       "\n",
       "    .dataframe thead th {\n",
       "        text-align: right;\n",
       "    }\n",
       "</style>\n",
       "<table border=\"1\" class=\"dataframe\">\n",
       "  <thead>\n",
       "    <tr style=\"text-align: right;\">\n",
       "      <th></th>\n",
       "      <th>RECORD_TIME</th>\n",
       "    </tr>\n",
       "  </thead>\n",
       "  <tbody>\n",
       "    <tr>\n",
       "      <th>0</th>\n",
       "      <td>2021-11-12 12:00</td>\n",
       "    </tr>\n",
       "    <tr>\n",
       "      <th>1</th>\n",
       "      <td>2021-11-12 11:30</td>\n",
       "    </tr>\n",
       "  </tbody>\n",
       "</table>\n",
       "</div>"
      ],
      "text/plain": [
       "        RECORD_TIME\n",
       "0  2021-11-12 12:00\n",
       "1  2021-11-12 11:30"
      ]
     },
     "execution_count": 3,
     "metadata": {},
     "output_type": "execute_result"
    }
   ],
   "source": [
    "timestamps"
   ]
  },
  {
   "cell_type": "code",
   "execution_count": 4,
   "id": "alternate-victory",
   "metadata": {
    "execution": {
     "iopub.execute_input": "2021-11-12T11:00:09.746745Z",
     "iopub.status.busy": "2021-11-12T11:00:09.744413Z",
     "iopub.status.idle": "2021-11-12T11:00:10.900208Z",
     "shell.execute_reply": "2021-11-12T11:00:10.902445Z"
    },
    "papermill": {
     "duration": 1.190833,
     "end_time": "2021-11-12T11:00:10.902997",
     "exception": false,
     "start_time": "2021-11-12T11:00:09.712164",
     "status": "completed"
    },
    "tags": []
   },
   "outputs": [],
   "source": [
    "df = pd.read_sql(\"select * from EBAY_TOP_BERLIN where record_time in (select distinct record_time from EBAY_TOP_BERLIN order by record_time desc limit 2)\", sqlite3.connect(\"UsedObjects.db\"))"
   ]
  },
  {
   "cell_type": "code",
   "execution_count": 5,
   "id": "popular-active",
   "metadata": {
    "execution": {
     "iopub.execute_input": "2021-11-12T11:00:10.985597Z",
     "iopub.status.busy": "2021-11-12T11:00:10.982338Z",
     "iopub.status.idle": "2021-11-12T11:00:11.005626Z",
     "shell.execute_reply": "2021-11-12T11:00:11.007170Z"
    },
    "papermill": {
     "duration": 0.080302,
     "end_time": "2021-11-12T11:00:11.007694",
     "exception": false,
     "start_time": "2021-11-12T11:00:10.927392",
     "status": "completed"
    },
    "tags": []
   },
   "outputs": [],
   "source": [
    "df_pivot = df.pivot_table(index=\"PRODUCT\", columns = \"RECORD_TIME\", values = \"LISTING_COUNT\")"
   ]
  },
  {
   "cell_type": "code",
   "execution_count": 6,
   "id": "union-huntington",
   "metadata": {
    "execution": {
     "iopub.execute_input": "2021-11-12T11:00:11.067116Z",
     "iopub.status.busy": "2021-11-12T11:00:11.064983Z",
     "iopub.status.idle": "2021-11-12T11:00:11.070604Z",
     "shell.execute_reply": "2021-11-12T11:00:11.071949Z"
    },
    "papermill": {
     "duration": 0.043443,
     "end_time": "2021-11-12T11:00:11.072418",
     "exception": false,
     "start_time": "2021-11-12T11:00:11.028975",
     "status": "completed"
    },
    "tags": []
   },
   "outputs": [],
   "source": [
    "df_pivot.columns = [\"stamp_1\", \"stamp_2\"]\n",
    "df_pivot_diff = df_pivot.diff(axis=1)"
   ]
  },
  {
   "cell_type": "code",
   "execution_count": 7,
   "id": "fifth-motion",
   "metadata": {
    "execution": {
     "iopub.execute_input": "2021-11-12T11:00:11.130565Z",
     "iopub.status.busy": "2021-11-12T11:00:11.127912Z",
     "iopub.status.idle": "2021-11-12T11:00:12.906377Z",
     "shell.execute_reply": "2021-11-12T11:00:12.909653Z"
    },
    "papermill": {
     "duration": 1.817338,
     "end_time": "2021-11-12T11:00:12.910426",
     "exception": false,
     "start_time": "2021-11-12T11:00:11.093088",
     "status": "completed"
    },
    "tags": []
   },
   "outputs": [
    {
     "data": {
      "text/plain": [
       "<AxesSubplot:ylabel='PRODUCT'>"
      ]
     },
     "execution_count": 7,
     "metadata": {},
     "output_type": "execute_result"
    },
    {
     "data": {
      "image/png": "[encoded data removed]",
      "text/plain": [
       "<Figure size 432x288 with 1 Axes>"
      ]
     },
     "metadata": {
      "needs_background": "light"
     },
     "output_type": "display_data"
    }
   ],
   "source": [
    "df_pivot_diff.sort_values(\"stamp_2\", ascending = False)[\"stamp_2\"].head(10).plot.barh()"
   ]
  },
  {
   "cell_type": "code",
   "execution_count": null,
   "id": "extra-executive",
   "metadata": {
    "papermill": {
     "duration": 0.038114,
     "end_time": "2021-11-12T11:00:12.994595",
     "exception": false,
     "start_time": "2021-11-12T11:00:12.956481",
     "status": "completed"
    },
    "tags": []
   },
   "outputs": [],
   "source": []
  }
 ],
 "metadata": {
  "kernelspec": {
   "display_name": "Python 3",
   "language": "python",
   "name": "python3"
  },
  "language_info": {
   "codemirror_mode": {
    "name": "ipython",
    "version": 3
   },
   "file_extension": ".py",
   "mimetype": "text/x-python",
   "name": "python",
   "nbconvert_exporter": "python",
   "pygments_lexer": "ipython3",
   "version": "3.9.5"
  },
  "papermill": {
   "default_parameters": {},
   "duration": 8.900496,
   "end_time": "2021-11-12T11:00:13.862872",
   "environment_variables": {},
   "exception": null,
   "input_path": "eBay_Overview.ipynb",
   "output_path": "eBay_Overview.ipynb",
   "parameters": {},
   "start_time": "2021-11-12T11:00:04.962376",
   "version": "2.3.3"
  }
 },
 "nbformat": 4,
 "nbformat_minor": 5
}