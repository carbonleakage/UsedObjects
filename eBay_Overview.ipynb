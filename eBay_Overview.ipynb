{
 "cells": [
  {
   "cell_type": "code",
   "execution_count": 1,
   "id": "reverse-picking",
   "metadata": {
    "execution": {
     "iopub.execute_input": "2021-08-21T08:30:07.340063Z",
     "iopub.status.busy": "2021-08-21T08:30:07.338017Z",
     "iopub.status.idle": "2021-08-21T08:30:08.144758Z",
     "shell.execute_reply": "2021-08-21T08:30:08.143189Z"
    },
    "papermill": {
     "duration": 0.856343,
     "end_time": "2021-08-21T08:30:08.145152",
     "exception": false,
     "start_time": "2021-08-21T08:30:07.288809",
     "status": "completed"
    },
    "tags": []
   },
   "outputs": [],
   "source": [
    "import pandas as pd\n",
    "import sqlite3"
   ]
  },
  {
   "cell_type": "code",
   "execution_count": 2,
   "id": "innovative-syndrome",
   "metadata": {
    "execution": {
     "iopub.execute_input": "2021-08-21T08:30:08.198509Z",
     "iopub.status.busy": "2021-08-21T08:30:08.196099Z",
     "iopub.status.idle": "2021-08-21T08:30:08.294111Z",
     "shell.execute_reply": "2021-08-21T08:30:08.295428Z"
    },
    "papermill": {
     "duration": 0.128209,
     "end_time": "2021-08-21T08:30:08.295847",
     "exception": false,
     "start_time": "2021-08-21T08:30:08.167638",
     "status": "completed"
    },
    "tags": []
   },
   "outputs": [],
   "source": [
    "timestamps = pd.read_sql(\"select distinct record_time from EBAY_TOP_BERLIN order by record_time desc limit 2\", sqlite3.connect(\"UsedObjects.db\"))"
   ]
  },
  {
   "cell_type": "code",
   "execution_count": 3,
   "id": "periodic-identification",
   "metadata": {
    "execution": {
     "iopub.execute_input": "2021-08-21T08:30:08.361008Z",
     "iopub.status.busy": "2021-08-21T08:30:08.358995Z",
     "iopub.status.idle": "2021-08-21T08:30:08.378981Z",
     "shell.execute_reply": "2021-08-21T08:30:08.380339Z"
    },
    "papermill": {
     "duration": 0.065019,
     "end_time": "2021-08-21T08:30:08.380752",
     "exception": false,
     "start_time": "2021-08-21T08:30:08.315733",
     "status": "completed"
    },
    "tags": []
   },
   "outputs": [
    {
     "data": {
      "text/html": [
       "<div>\n",
       "<style scoped>\n",
       "    .dataframe tbody tr th:only-of-type {\n",
       "        vertical-align: middle;\n",
       "    }\n",
       "\n",
       "    .dataframe tbody tr th {\n",
       "        vertical-align: top;\n",
       "    }\n",
       "\n",
       "    .dataframe thead th {\n",
       "        text-align: right;\n",
       "    }\n",
       "</style>\n",
       "<table border=\"1\" class=\"dataframe\">\n",
       "  <thead>\n",
       "    <tr style=\"text-align: right;\">\n",
       "      <th></th>\n",
       "      <th>RECORD_TIME</th>\n",
       "    </tr>\n",
       "  </thead>\n",
       "  <tbody>\n",
       "    <tr>\n",
       "      <th>0</th>\n",
       "      <td>2021-08-21 10:30</td>\n",
       "    </tr>\n",
       "    <tr>\n",
       "      <th>1</th>\n",
       "      <td>2021-08-21 10:00</td>\n",
       "    </tr>\n",
       "  </tbody>\n",
       "</table>\n",
       "</div>"
      ],
      "text/plain": [
       "        RECORD_TIME\n",
       "0  2021-08-21 10:30\n",
       "1  2021-08-21 10:00"
      ]
     },
     "execution_count": 3,
     "metadata": {},
     "output_type": "execute_result"
    }
   ],
   "source": [
    "timestamps"
   ]
  },
  {
   "cell_type": "code",
   "execution_count": 4,
   "id": "alternate-victory",
   "metadata": {
    "execution": {
     "iopub.execute_input": "2021-08-21T08:30:08.432347Z",
     "iopub.status.busy": "2021-08-21T08:30:08.430190Z",
     "iopub.status.idle": "2021-08-21T08:30:08.577631Z",
     "shell.execute_reply": "2021-08-21T08:30:08.575928Z"
    },
    "papermill": {
     "duration": 0.176294,
     "end_time": "2021-08-21T08:30:08.578061",
     "exception": false,
     "start_time": "2021-08-21T08:30:08.401767",
     "status": "completed"
    },
    "tags": []
   },
   "outputs": [],
   "source": [
    "df = pd.read_sql(\"select * from EBAY_TOP_BERLIN where record_time in (select distinct record_time from EBAY_TOP_BERLIN order by record_time desc limit 2)\", sqlite3.connect(\"UsedObjects.db\"))"
   ]
  },
  {
   "cell_type": "code",
   "execution_count": 5,
   "id": "popular-active",
   "metadata": {
    "execution": {
     "iopub.execute_input": "2021-08-21T08:30:08.642809Z",
     "iopub.status.busy": "2021-08-21T08:30:08.636330Z",
     "iopub.status.idle": "2021-08-21T08:30:08.663734Z",
     "shell.execute_reply": "2021-08-21T08:30:08.664978Z"
    },
    "papermill": {
     "duration": 0.066628,
     "end_time": "2021-08-21T08:30:08.665379",
     "exception": false,
     "start_time": "2021-08-21T08:30:08.598751",
     "status": "completed"
    },
    "tags": []
   },
   "outputs": [],
   "source": [
    "df_pivot = df.pivot_table(index=\"PRODUCT\", columns = \"RECORD_TIME\", values = \"LISTING_COUNT\")"
   ]
  },
  {
   "cell_type": "code",
   "execution_count": 6,
   "id": "union-huntington",
   "metadata": {
    "execution": {
     "iopub.execute_input": "2021-08-21T08:30:08.724718Z",
     "iopub.status.busy": "2021-08-21T08:30:08.722681Z",
     "iopub.status.idle": "2021-08-21T08:30:08.728223Z",
     "shell.execute_reply": "2021-08-21T08:30:08.729499Z"
    },
    "papermill": {
     "duration": 0.042189,
     "end_time": "2021-08-21T08:30:08.729913",
     "exception": false,
     "start_time": "2021-08-21T08:30:08.687724",
     "status": "completed"
    },
    "tags": []
   },
   "outputs": [],
   "source": [
    "df_pivot.columns = [\"stamp_1\", \"stamp_2\"]\n",
    "df_pivot_diff = df_pivot.diff(axis=1)"
   ]
  },
  {
   "cell_type": "code",
   "execution_count": 7,
   "id": "fifth-motion",
   "metadata": {
    "execution": {
     "iopub.execute_input": "2021-08-21T08:30:08.789621Z",
     "iopub.status.busy": "2021-08-21T08:30:08.786879Z",
     "iopub.status.idle": "2021-08-21T08:30:10.285690Z",
     "shell.execute_reply": "2021-08-21T08:30:10.287057Z"
    },
    "papermill": {
     "duration": 1.535984,
     "end_time": "2021-08-21T08:30:10.287474",
     "exception": false,
     "start_time": "2021-08-21T08:30:08.751490",
     "status": "completed"
    },
    "tags": []
   },
   "outputs": [
    {
     "data": {
      "text/plain": [
       "<AxesSubplot:ylabel='PRODUCT'>"
      ]
     },
     "execution_count": 7,
     "metadata": {},
     "output_type": "execute_result"
    },
    {
     "data": {
      "image/png": "[encoded data removed]",
      "text/plain": [
       "<Figure size 432x288 with 1 Axes>"
      ]
     },
     "metadata": {
      "needs_background": "light"
     },
     "output_type": "display_data"
    }
   ],
   "source": [
    "df_pivot_diff.sort_values(\"stamp_2\", ascending = False)[\"stamp_2\"].head(10).plot.barh()"
   ]
  },
  {
   "cell_type": "code",
   "execution_count": null,
   "id": "extra-executive",
   "metadata": {
    "papermill": {
     "duration": 0.022451,
     "end_time": "2021-08-21T08:30:10.334744",
     "exception": false,
     "start_time": "2021-08-21T08:30:10.312293",
     "status": "completed"
    },
    "tags": []
   },
   "outputs": [],
   "source": []
  }
 ],
 "metadata": {
  "kernelspec": {
   "display_name": "Python 3",
   "language": "python",
   "name": "python3"
  },
  "language_info": {
   "codemirror_mode": {
    "name": "ipython",
    "version": 3
   },
   "file_extension": ".py",
   "mimetype": "text/x-python",
   "name": "python",
   "nbconvert_exporter": "python",
   "pygments_lexer": "ipython3",
   "version": "3.9.5"
  },
  "papermill": {
   "default_parameters": {},
   "duration": 6.8255,
   "end_time": "2021-08-21T08:30:11.709537",
   "environment_variables": {},
   "exception": null,
   "input_path": "eBay_Overview.ipynb",
   "output_path": "eBay_Overview.ipynb",
   "parameters": {},
   "start_time": "2021-08-21T08:30:04.884037",
   "version": "2.3.3"
  }
 },
 "nbformat": 4,
 "nbformat_minor": 5
}